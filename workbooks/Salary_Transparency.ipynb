{
 "cells": [
  {
   "cell_type": "markdown",
   "metadata": {},
   "source": [
    "# Bulgaria Employment Trends\n",
    "\n",
    "[Go to main page](./../Bulgaria_Employment_Trends.ipynb)\n",
    "\n",
    "\n"
   ]
  },
  {
   "cell_type": "markdown",
   "metadata": {},
   "source": [
    "## Salary Transparency\n",
    "\n",
    "\n",
    "\n",
    "\n",
    "### Introduction\n",
    "\n",
    "- Objective: To illustrate the ratio of job offer ads that have public salary announced as a part of the total offer count. \n",
    "\n",
    "To illustrate the data a percent stacked area graph is used. In this type of chart the value of each group is normalized at each time stamp.\n",
    "\n",
    "### Methodology\n",
    "\n",
    "Notes:\n",
    "- Data is aggregated on weeks or months.\n",
    "- "
   ]
  },
  {
   "cell_type": "markdown",
   "metadata": {},
   "source": [
    "### Prototyping\n",
    "\n",
    "Using `matplotlib` to rapidly create an example graph."
   ]
  },
  {
   "cell_type": "code",
   "execution_count": 268,
   "metadata": {},
   "outputs": [],
   "source": [
    "import psycopg2\n",
    "import pandas as pd\n",
    "import matplotlib\n",
    "\n",
    "#%matplotlib notebook"
   ]
  },
  {
   "cell_type": "markdown",
   "metadata": {},
   "source": [
    "First we need to fetch the data from the database. We have a predefined query that will return the counts we need. We also drop the first and last week from the result since they contain partial data for the relevant periods."
   ]
  },
  {
   "cell_type": "code",
   "execution_count": 269,
   "metadata": {},
   "outputs": [
    {
     "data": {
      "text/html": [
       "<div>\n",
       "<style scoped>\n",
       "    .dataframe tbody tr th:only-of-type {\n",
       "        vertical-align: middle;\n",
       "    }\n",
       "\n",
       "    .dataframe tbody tr th {\n",
       "        vertical-align: top;\n",
       "    }\n",
       "\n",
       "    .dataframe thead th {\n",
       "        text-align: right;\n",
       "    }\n",
       "</style>\n",
       "<table border=\"1\" class=\"dataframe\">\n",
       "  <thead>\n",
       "    <tr style=\"text-align: right;\">\n",
       "      <th></th>\n",
       "      <th>published_salary</th>\n",
       "      <th>unpublished_salary</th>\n",
       "    </tr>\n",
       "    <tr>\n",
       "      <th>week_ts</th>\n",
       "      <th></th>\n",
       "      <th></th>\n",
       "    </tr>\n",
       "  </thead>\n",
       "  <tbody>\n",
       "    <tr>\n",
       "      <th>2017-10-02</th>\n",
       "      <td>2076</td>\n",
       "      <td>7191</td>\n",
       "    </tr>\n",
       "  </tbody>\n",
       "</table>\n",
       "</div>"
      ],
      "text/plain": [
       "            published_salary  unpublished_salary\n",
       "week_ts                                         \n",
       "2017-10-02              2076                7191"
      ]
     },
     "execution_count": 269,
     "metadata": {},
     "output_type": "execute_result"
    }
   ],
   "source": [
    "conn = psycopg2.connect(\"dbname=jobsbg\")\n",
    "query = 'SELECT * FROM v_count_weekly_published_vs_unpublished_salary'\n",
    "\n",
    "data_df = pd.read_sql_query(query, conn, index_col='week_ts')\n",
    "data_df = data_df[1:-1]  # first and last week are incomplete so we drop them.\n",
    "data_df.index = pd.to_datetime(data_df.index)  # convert the DataFrame index to DatetimeIndex object\n",
    "data_df.head(1)"
   ]
  },
  {
   "cell_type": "markdown",
   "metadata": {},
   "source": [
    "Then the counts are converted to percentages that represent a part of the whole. When stacked together the parts will add up to 100%."
   ]
  },
  {
   "cell_type": "code",
   "execution_count": 270,
   "metadata": {},
   "outputs": [
    {
     "data": {
      "text/html": [
       "<div>\n",
       "<style scoped>\n",
       "    .dataframe tbody tr th:only-of-type {\n",
       "        vertical-align: middle;\n",
       "    }\n",
       "\n",
       "    .dataframe tbody tr th {\n",
       "        vertical-align: top;\n",
       "    }\n",
       "\n",
       "    .dataframe thead th {\n",
       "        text-align: right;\n",
       "    }\n",
       "</style>\n",
       "<table border=\"1\" class=\"dataframe\">\n",
       "  <thead>\n",
       "    <tr style=\"text-align: right;\">\n",
       "      <th></th>\n",
       "      <th>published_salary</th>\n",
       "      <th>unpublished_salary</th>\n",
       "      <th>publ_salary_ratio</th>\n",
       "      <th>unpubl_salary_ratio</th>\n",
       "    </tr>\n",
       "    <tr>\n",
       "      <th>week_ts</th>\n",
       "      <th></th>\n",
       "      <th></th>\n",
       "      <th></th>\n",
       "      <th></th>\n",
       "    </tr>\n",
       "  </thead>\n",
       "  <tbody>\n",
       "    <tr>\n",
       "      <th>2017-10-02</th>\n",
       "      <td>2076</td>\n",
       "      <td>7191</td>\n",
       "      <td>22.402072</td>\n",
       "      <td>77.597928</td>\n",
       "    </tr>\n",
       "  </tbody>\n",
       "</table>\n",
       "</div>"
      ],
      "text/plain": [
       "            published_salary  unpublished_salary  publ_salary_ratio  \\\n",
       "week_ts                                                               \n",
       "2017-10-02              2076                7191          22.402072   \n",
       "\n",
       "            unpubl_salary_ratio  \n",
       "week_ts                          \n",
       "2017-10-02            77.597928  "
      ]
     },
     "execution_count": 270,
     "metadata": {},
     "output_type": "execute_result"
    }
   ],
   "source": [
    "publ_salary_ratio = data_df.apply(lambda row: row.published_salary / (row.published_salary + row.unpublished_salary) * 100, axis=1)\n",
    "unpubl_salary_ratio = data_df.apply(lambda row: row.unpublished_salary / (row.published_salary + row.unpublished_salary) * 100, axis=1)\n",
    "\n",
    "data_df = data_df.assign(publ_salary_ratio=publ_salary_ratio.values)\n",
    "data_df = data_df.assign(unpubl_salary_ratio=unpubl_salary_ratio.values)\n",
    "data_df.head(1)"
   ]
  },
  {
   "cell_type": "markdown",
   "metadata": {},
   "source": [
    "A prototype chart view using the Pandas' `DataFrame.plot()` method can quickly show if the data is ready for plotting."
   ]
  },
  {
   "cell_type": "code",
   "execution_count": 271,
   "metadata": {},
   "outputs": [
    {
     "data": {
      "text/plain": [
       "<matplotlib.axes._subplots.AxesSubplot at 0x7f5b0809d860>"
      ]
     },
     "execution_count": 271,
     "metadata": {},
     "output_type": "execute_result"
    },
    {
     "data": {
      "image/png": "[encoded data removed]",
      "text/plain": [
       "<Figure size 1152x576 with 1 Axes>"
      ]
     },
     "metadata": {
      "needs_background": "light"
     },
     "output_type": "display_data"
    }
   ],
   "source": [
    "cols_to_plot = ['publ_salary_ratio', 'unpubl_salary_ratio']\n",
    "data_df.plot(\n",
    "    title='Salary Transparency in Job Offers',\n",
    "    y=cols_to_plot,\n",
    "    kind='area',\n",
    "    grid=True,\n",
    "    linewidth=0,\n",
    "    figsize=(16,8)\n",
    ")"
   ]
  },
  {
   "cell_type": "markdown",
   "metadata": {},
   "source": [
    "This seems to be a good place to move on to Plotly.\n",
    "\n",
    "### Implementing the Chart in Plotly\n",
    "\n",
    "\n",
    "\n"
   ]
  },
  {
   "cell_type": "code",
   "execution_count": 272,
   "metadata": {},
   "outputs": [
    {
     "data": {
      "text/html": [
       "<script type=\"text/javascript\">window.PlotlyConfig = {MathJaxConfig: 'local'};</script><script type=\"text/javascript\">if (window.MathJax) {MathJax.Hub.Config({SVG: {font: \"STIX-Web\"}});}</script><script>requirejs.config({paths: { 'plotly': ['https://cdn.plot.ly/plotly-latest.min']},});if(!window._Plotly) {require(['plotly'],function(plotly) {window._Plotly=plotly;});}</script>"
      ],
      "text/vnd.plotly.v1+html": [
       "<script type=\"text/javascript\">window.PlotlyConfig = {MathJaxConfig: 'local'};</script><script type=\"text/javascript\">if (window.MathJax) {MathJax.Hub.Config({SVG: {font: \"STIX-Web\"}});}</script><script>requirejs.config({paths: { 'plotly': ['https://cdn.plot.ly/plotly-latest.min']},});if(!window._Plotly) {require(['plotly'],function(plotly) {window._Plotly=plotly;});}</script>"
      ]
     },
     "metadata": {},
     "output_type": "display_data"
    }
   ],
   "source": [
    "import plotly\n",
    "import plotly.plotly as py\n",
    "import plotly.graph_objs as go\n",
    "plotly.offline.init_notebook_mode(connected=True) # run at the start of every ipython notebook to use plotly.offline\n"
   ]
  },
  {
   "cell_type": "markdown",
   "metadata": {},
   "source": [
    "Constructing the area traces for both possible values. They represent the data for the Plotly plot. Drawing directly as a line plot."
   ]
  },
  {
   "cell_type": "code",
   "execution_count": 274,
   "metadata": {},
   "outputs": [],
   "source": [
    "trace_publ = dict(\n",
    "    x = data_df.index,\n",
    "    y = data_df.publ_salary_ratio,\n",
    "    text = data_df.published_salary,\n",
    "    hoverinfo = 'text', \n",
    "    mode = 'lines',\n",
    "    fillcolor = ('rgba(205, 12, 24, 0.3)'),\n",
    "    line = dict(width = 2, color = ('rgba(205, 12, 24, 0.6)')),\n",
    "    stackgroup = 'one',\n",
    "    name = 'Published Salary',\n",
    ")\n",
    "\n",
    "trace_unpubl = dict(\n",
    "    x = data_df.index,\n",
    "    y = data_df.unpubl_salary_ratio,\n",
    "    text = data_df.unpublished_salary,\n",
    "    hoverinfo = 'text', \n",
    "    mode = 'lines',\n",
    "    fillcolor = ('rgba(22, 96, 167, 0.3)'),\n",
    "    line = dict(width = 0, color = ('rgba(22, 96, 167, 0.6)')),\n",
    "    stackgroup = 'one',\n",
    "    name = 'Unpublished Salary'\n",
    ")\n",
    "\n",
    "data = [trace_publ, trace_unpubl]"
   ]
  },
  {
   "cell_type": "markdown",
   "metadata": {},
   "source": [
    "Preparing the layout for the Plotly plot. "
   ]
  },
  {
   "cell_type": "code",
   "execution_count": 275,
   "metadata": {},
   "outputs": [],
   "source": [
    "layout = go.Layout(\n",
    "    title = 'Salary Transparency in Job Offer Ads',\n",
    "    width = 960,\n",
    "    height = 620,\n",
    "    margin = dict(pad = 2),\n",
    "    legend = dict(orientation = 'h'),\n",
    "    modebar = dict(orientation = 'h'),\n",
    "    showlegend = True,\n",
    "    paper_bgcolor = '#F8F8EC',\n",
    "    plot_bgcolor = '#F8F8EC',\n",
    "    dragmode = 'zoom',\n",
    "    xaxis = dict(type='date', title = '', ticks = 'outside', tickmode = 'array', tickvals = data_df.index, ticktext = data_df.index, tickangle = 0, tickformat = 'w%W/%y', nticks=20), \n",
    "    yaxis = dict(type='linear',range=[0,100], dtick=20, ticksuffix='%', fixedrange = True),\n",
    "\n",
    ")"
   ]
  },
  {
   "cell_type": "code",
   "execution_count": 276,
   "metadata": {},
   "outputs": [
    {
     "data": {
      "application/vnd.jupyter.widget-view+json": {
       "model_id": "5b64aff8396541218bc600f62bf57dc1",
       "version_major": 2,
       "version_minor": 0
      },
      "text/plain": [
       "FigureWidget({\n",
       "    'data': [{'fillcolor': 'rgba(205, 12, 24, 0.3)',\n",
       "              'hoverinfo': 'text',\n",
       "       …"
      ]
     },
     "metadata": {},
     "output_type": "display_data"
    }
   ],
   "source": [
    "go.FigureWidget(data=data, layout=layout)\n",
    "\n",
    "# plotly.offline.iplot(fig, filename = 'salary_transparency')\n",
    "# Uncomment the line below to export an HTML version of the chart.\n",
    "# plotly.offline.plot(figure, filename = 'salary_transparency.html')  "
   ]
  }
 ],
 "metadata": {
  "kernelspec": {
   "display_name": "Python 3",
   "language": "python",
   "name": "python3"
  },
  "language_info": {
   "codemirror_mode": {
    "name": "ipython",
    "version": 3
   },
   "file_extension": ".py",
   "mimetype": "text/x-python",
   "name": "python",
   "nbconvert_exporter": "python",
   "pygments_lexer": "ipython3",
   "version": "3.7.1"
  }
 },
 "nbformat": 4,
 "nbformat_minor": 2
}
