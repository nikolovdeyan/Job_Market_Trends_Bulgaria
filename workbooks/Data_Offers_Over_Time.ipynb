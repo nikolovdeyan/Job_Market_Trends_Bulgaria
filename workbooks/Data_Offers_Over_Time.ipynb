{
 "cells": [
  {
   "cell_type": "markdown",
   "metadata": {},
   "source": [
    "###### Data Jobs Analysis \n",
    "[Go back to the main page](./Data_Jobs_Analysis.ipynb)\n",
    "\n",
    "---------"
   ]
  },
  {
   "cell_type": "markdown",
   "metadata": {},
   "source": [
    "## Data Offers Over Time\n",
    "\n",
    "-------\n"
   ]
  },
  {
   "cell_type": "code",
   "execution_count": 182,
   "metadata": {},
   "outputs": [
    {
     "data": {
      "text/html": [
       "<script type=\"text/javascript\">window.PlotlyConfig = {MathJaxConfig: 'local'};</script><script type=\"text/javascript\">if (window.MathJax) {MathJax.Hub.Config({SVG: {font: \"STIX-Web\"}});}</script><script>requirejs.config({paths: { 'plotly': ['https://cdn.plot.ly/plotly-latest.min']},});if(!window._Plotly) {require(['plotly'],function(plotly) {window._Plotly=plotly;});}</script>"
      ],
      "text/vnd.plotly.v1+html": [
       "<script type=\"text/javascript\">window.PlotlyConfig = {MathJaxConfig: 'local'};</script><script type=\"text/javascript\">if (window.MathJax) {MathJax.Hub.Config({SVG: {font: \"STIX-Web\"}});}</script><script>requirejs.config({paths: { 'plotly': ['https://cdn.plot.ly/plotly-latest.min']},});if(!window._Plotly) {require(['plotly'],function(plotly) {window._Plotly=plotly;});}</script>"
      ]
     },
     "metadata": {},
     "output_type": "display_data"
    }
   ],
   "source": [
    "import datetime\n",
    "import psycopg2\n",
    "import pandas as pd\n",
    "import ipywidgets as widgets\n",
    "import plotly\n",
    "import plotly.plotly as py\n",
    "import plotly.graph_objs as go\n",
    "\n",
    "plotly.offline.init_notebook_mode(connected=True) # run at the start of every ipython notebook to use plotly.offline\n",
    "\n",
    "%matplotlib notebook\n",
    "%matplotlib inline"
   ]
  },
  {
   "cell_type": "code",
   "execution_count": 183,
   "metadata": {},
   "outputs": [],
   "source": [
    "conn = psycopg2.connect(\"dbname=jobsbg\")\n",
    "ads_weekly = pd.read_sql_query('SELECT * FROM v_data_offers_count_weekly', conn, index_col='week_ts')\n",
    "ads_monthly = pd.read_sql_query('SELECT * FROM v_data_offers_count_monthly', conn, index_col='month_ts')\n",
    "\n",
    "ads_weekly = ads_weekly[1:-1]\n",
    "ads_monthly = ads_monthly[1:-1]\n",
    "\n",
    "ads_weekly.index = pd.to_datetime(ads_weekly.index)\n",
    "ads_monthly.index = pd.to_datetime(ads_monthly.index)"
   ]
  },
  {
   "cell_type": "code",
   "execution_count": 210,
   "metadata": {},
   "outputs": [
    {
     "data": {
      "text/plain": [
       "(            subm_count\n",
       " week_ts               \n",
       " 2017-10-02          24,             subm_count\n",
       " month_ts              \n",
       " 2017-10-01          91)"
      ]
     },
     "execution_count": 210,
     "metadata": {},
     "output_type": "execute_result"
    }
   ],
   "source": [
    "ads_weekly.head(1), ads_monthly.head(1)"
   ]
  },
  {
   "cell_type": "markdown",
   "metadata": {},
   "source": [
    "### Implementing the Chart in Plotly"
   ]
  },
  {
   "cell_type": "markdown",
   "metadata": {},
   "source": [
    "Preparing two traces to represent our levels of aggregation for this chart. Which one will be visible will be controlled via buttons."
   ]
  },
  {
   "cell_type": "code",
   "execution_count": 136,
   "metadata": {},
   "outputs": [],
   "source": [
    "weekly_bar = go.Bar(\n",
    "    x = [week for week in ads_weekly.index],\n",
    "    y = [value for value in ads_weekly.subm_count],\n",
    "    hoverinfo = 'x+y',\n",
    "    showlegend = False,\n",
    "    marker = dict(\n",
    "        line = dict(width=1, color='#7F331B'),\n",
    "        color = '#BF4D28',\n",
    "        opacity = 0.8,\n",
    "    ),\n",
    "    visible = True,\n",
    ")\n",
    "\n",
    "monthly_bar = go.Bar(\n",
    "    x = [month for month in ads_monthly.index],\n",
    "    y = [value for value in ads_monthly.subm_count],\n",
    "    hoverinfo = 'x+y',\n",
    "    showlegend = False,\n",
    "    marker = dict(\n",
    "        line = dict(width=1, color='#7F331B'),\n",
    "        color = '#BF4D28',\n",
    "        opacity = 0.8,\n",
    "    ),\n",
    "    visible = False,\n",
    ")\n",
    "\n",
    "data = [weekly_bar, monthly_bar]"
   ]
  },
  {
   "cell_type": "markdown",
   "metadata": {},
   "source": [
    " Plotly buttons and defined interactions to make the chart interactive"
   ]
  },
  {
   "cell_type": "code",
   "execution_count": 194,
   "metadata": {},
   "outputs": [],
   "source": [
    "updatemenus = list([\n",
    "    dict(\n",
    "        type='buttons',\n",
    "        direction='right',\n",
    "        xanchor = 'center',\n",
    "        x = 0.5,\n",
    "        yanchor = 'top',\n",
    "        y = 1.09,\n",
    "        active=0,\n",
    "        showactive = True,\n",
    "        bgcolor = '#FFFAF0',\n",
    "        bordercolor = '#594B42',\n",
    "        font = dict(size=15),\n",
    "        buttons=list([\n",
    "            dict(\n",
    "                label = 'Weekly',\n",
    "                method = 'update',\n",
    "                args = [\n",
    "                    {'visible': [True, False]},\n",
    "                    {'title': 'Total Data Related Job Offers (Weekly)',\n",
    "                    'xaxis.hoverformat': 'Week %W, %Y'}\n",
    "                ]),\n",
    "            dict(\n",
    "                label = 'Monthly',\n",
    "                method = 'update',\n",
    "                args = [\n",
    "                    {'visible': [False, True]},\n",
    "                    {'title': 'Total Data Related Job Offers (Monthly)',\n",
    "                    'xaxis.hoverformat': '%B \\'%y'}\n",
    "                ]),\n",
    "        ]),\n",
    "    )\n",
    "])"
   ]
  },
  {
   "cell_type": "code",
   "execution_count": 216,
   "metadata": {},
   "outputs": [],
   "source": [
    "layout = go.Layout(\n",
    "    paper_bgcolor = '#FFFAF0',            \n",
    "    plot_bgcolor = '#FFFAF0',\n",
    "    title = 'Total Data Related Job Offers (Weekly)',\n",
    "    titlefont = dict(\n",
    "        color = '#594B42',\n",
    "        family = 'FiraSansCondensedRegular',\n",
    "        size = 22,\n",
    "    ),\n",
    "    font = dict(\n",
    "        color = '#40362F',\n",
    "        family = 'FiraSansCondensedRegular',\n",
    "        size = 14,\n",
    "    ),\n",
    "    xaxis = dict(\n",
    "        type = 'date',\n",
    "        fixedrange = True,\n",
    "        hoverformat = 'Week %W, %Y',\n",
    "        ticks = 'outside',\n",
    "        tickmode = 'auto',\n",
    "        zerolinecolor = '#594B42',\n",
    "    ),\n",
    "    yaxis = dict(\n",
    "        title = 'Num. submissions',\n",
    "        fixedrange = True,\n",
    "        hoverformat = '{:,}',\n",
    "        tickformat = '{:,}',\n",
    "        ticks = 'outside',\n",
    "        tickwidth = 1,\n",
    "        gridcolor = '#D9D4CC',\n",
    "        zerolinecolor = '#594B42',\n",
    "    ),\n",
    "    updatemenus=updatemenus,\n",
    ")"
   ]
  },
  {
   "cell_type": "code",
   "execution_count": 239,
   "metadata": {},
   "outputs": [
    {
     "data": {
      "application/vnd.plotly.v1+json": {
       "config": {
        "linkText": "Export to plot.ly",
        "plotlyServerURL": "https://plot.ly",
        "showLink": true
       },
       "data": [
        {
         "hoverinfo": "x+y",
         "marker": {
          "color": "#BF4D28",
          "line": {
           "color": "#7F331B",
           "width": 1
          },
          "opacity": 0.8
         },
         "showlegend": false,
         "type": "bar",
         "uid": "c54df272-1515-4698-8743-cd5b22b41477",
         "visible": true,
         "x": [
          "2017-10-02",
          "2017-10-09",
          "2017-10-16",
          "2017-10-23",
          "2017-10-30",
          "2017-11-06",
          "2017-11-13",
          "2017-11-20",
          "2017-11-27",
          "2017-12-04",
          "2017-12-11",
          "2017-12-18",
          "2017-12-25",
          "2018-01-01",
          "2018-01-08",
          "2018-01-15",
          "2018-01-22",
          "2018-01-29",
          "2018-02-05",
          "2018-02-12",
          "2018-02-19",
          "2018-02-26",
          "2018-03-05",
          "2018-03-12",
          "2018-03-19",
          "2018-03-26",
          "2018-04-02",
          "2018-04-09",
          "2018-04-16",
          "2018-04-23",
          "2018-04-30",
          "2018-05-07",
          "2018-05-14",
          "2018-05-21",
          "2018-05-28",
          "2018-06-04",
          "2018-06-11",
          "2018-06-18",
          "2018-06-25",
          "2018-07-02",
          "2018-07-09",
          "2018-07-16",
          "2018-07-23",
          "2018-07-30",
          "2018-08-06",
          "2018-08-13",
          "2018-08-20",
          "2018-08-27",
          "2018-09-03",
          "2018-09-10",
          "2018-09-17",
          "2018-09-24",
          "2018-10-01",
          "2018-10-08",
          "2018-10-15",
          "2018-10-22",
          "2018-10-29",
          "2018-11-05",
          "2018-11-12",
          "2018-11-19",
          "2018-11-26",
          "2018-12-03",
          "2018-12-10"
         ],
         "y": [
          24,
          13,
          22,
          24,
          14,
          18,
          18,
          20,
          21,
          22,
          14,
          11,
          5,
          14,
          26,
          25,
          16,
          16,
          34,
          28,
          24,
          15,
          19,
          22,
          15,
          24,
          20,
          28,
          24,
          30,
          25,
          30,
          37,
          26,
          29,
          28,
          30,
          23,
          28,
          24,
          31,
          28,
          33,
          22,
          27,
          25,
          37,
          22,
          14,
          36,
          30,
          29,
          25,
          33,
          30,
          39,
          32,
          33,
          31,
          28,
          38,
          23,
          27
         ]
        },
        {
         "hoverinfo": "x+y",
         "marker": {
          "color": "#BF4D28",
          "line": {
           "color": "#7F331B",
           "width": 1
          },
          "opacity": 0.8
         },
         "showlegend": false,
         "type": "bar",
         "uid": "deeddba1-8a6b-4112-b53a-2ee5ec4c5131",
         "visible": false,
         "x": [
          "2017-10-01",
          "2017-11-01",
          "2017-12-01",
          "2018-01-01",
          "2018-02-01",
          "2018-03-01",
          "2018-04-01",
          "2018-05-01",
          "2018-06-01",
          "2018-07-01",
          "2018-08-01",
          "2018-09-01",
          "2018-10-01",
          "2018-11-01"
         ],
         "y": [
          91,
          78,
          57,
          91,
          106,
          81,
          107,
          134,
          117,
          124,
          125,
          109,
          151,
          138
         ]
        }
       ],
       "layout": {
        "font": {
         "color": "#40362F",
         "family": "FiraSansCondensedRegular",
         "size": 14
        },
        "paper_bgcolor": "#FFFAF0",
        "plot_bgcolor": "#FFFAF0",
        "title": "Total Data Related Job Offers (Weekly)",
        "titlefont": {
         "color": "#594B42",
         "family": "FiraSansCondensedRegular",
         "size": 22
        },
        "updatemenus": [
         {
          "active": 0,
          "bgcolor": "#FFFAF0",
          "bordercolor": "#594B42",
          "buttons": [
           {
            "args": [
             {
              "visible": [
               true,
               false
              ]
             },
             {
              "title": "Total Data Related Job Offers (Weekly)",
              "xaxis.hoverformat": "Week %W, %Y"
             }
            ],
            "label": "Weekly",
            "method": "update"
           },
           {
            "args": [
             {
              "visible": [
               false,
               true
              ]
             },
             {
              "title": "Total Data Related Job Offers (Monthly)",
              "xaxis.hoverformat": "%B '%y"
             }
            ],
            "label": "Monthly",
            "method": "update"
           }
          ],
          "direction": "right",
          "font": {
           "size": 15
          },
          "showactive": true,
          "type": "buttons",
          "x": 0.5,
          "xanchor": "center",
          "y": 1.09,
          "yanchor": "top"
         }
        ],
        "xaxis": {
         "fixedrange": true,
         "hoverformat": "Week %W, %Y",
         "tickmode": "auto",
         "ticks": "outside",
         "type": "date",
         "zerolinecolor": "#594B42"
        },
        "yaxis": {
         "fixedrange": true,
         "gridcolor": "#D9D4CC",
         "hoverformat": "{:,}",
         "tickformat": "{:,}",
         "ticks": "outside",
         "tickwidth": 1,
         "title": "Num. submissions",
         "zerolinecolor": "#594B42"
        }
       }
      },
      "text/html": [
       "<div id=\"b808b5cc-0f60-4ce1-bb3c-be222dea11be\" style=\"height: 525px; width: 100%;\" class=\"plotly-graph-div\"></div><script type=\"text/javascript\">require([\"plotly\"], function(Plotly) { window.PLOTLYENV=window.PLOTLYENV || {};window.PLOTLYENV.BASE_URL=\"https://plot.ly\";Plotly.newPlot(\"b808b5cc-0f60-4ce1-bb3c-be222dea11be\", [{\"hoverinfo\": \"x+y\", \"marker\": {\"color\": \"#BF4D28\", \"line\": {\"color\": \"#7F331B\", \"width\": 1}, \"opacity\": 0.8}, \"showlegend\": false, \"visible\": true, \"x\": [\"2017-10-02\", \"2017-10-09\", \"2017-10-16\", \"2017-10-23\", \"2017-10-30\", \"2017-11-06\", \"2017-11-13\", \"2017-11-20\", \"2017-11-27\", \"2017-12-04\", \"2017-12-11\", \"2017-12-18\", \"2017-12-25\", \"2018-01-01\", \"2018-01-08\", \"2018-01-15\", \"2018-01-22\", \"2018-01-29\", \"2018-02-05\", \"2018-02-12\", \"2018-02-19\", \"2018-02-26\", \"2018-03-05\", \"2018-03-12\", \"2018-03-19\", \"2018-03-26\", \"2018-04-02\", \"2018-04-09\", \"2018-04-16\", \"2018-04-23\", \"2018-04-30\", \"2018-05-07\", \"2018-05-14\", \"2018-05-21\", \"2018-05-28\", \"2018-06-04\", \"2018-06-11\", \"2018-06-18\", \"2018-06-25\", \"2018-07-02\", \"2018-07-09\", \"2018-07-16\", \"2018-07-23\", \"2018-07-30\", \"2018-08-06\", \"2018-08-13\", \"2018-08-20\", \"2018-08-27\", \"2018-09-03\", \"2018-09-10\", \"2018-09-17\", \"2018-09-24\", \"2018-10-01\", \"2018-10-08\", \"2018-10-15\", \"2018-10-22\", \"2018-10-29\", \"2018-11-05\", \"2018-11-12\", \"2018-11-19\", \"2018-11-26\", \"2018-12-03\", \"2018-12-10\"], \"y\": [24, 13, 22, 24, 14, 18, 18, 20, 21, 22, 14, 11, 5, 14, 26, 25, 16, 16, 34, 28, 24, 15, 19, 22, 15, 24, 20, 28, 24, 30, 25, 30, 37, 26, 29, 28, 30, 23, 28, 24, 31, 28, 33, 22, 27, 25, 37, 22, 14, 36, 30, 29, 25, 33, 30, 39, 32, 33, 31, 28, 38, 23, 27], \"type\": \"bar\", \"uid\": \"c54df272-1515-4698-8743-cd5b22b41477\"}, {\"hoverinfo\": \"x+y\", \"marker\": {\"color\": \"#BF4D28\", \"line\": {\"color\": \"#7F331B\", \"width\": 1}, \"opacity\": 0.8}, \"showlegend\": false, \"visible\": false, \"x\": [\"2017-10-01\", \"2017-11-01\", \"2017-12-01\", \"2018-01-01\", \"2018-02-01\", \"2018-03-01\", \"2018-04-01\", \"2018-05-01\", \"2018-06-01\", \"2018-07-01\", \"2018-08-01\", \"2018-09-01\", \"2018-10-01\", \"2018-11-01\"], \"y\": [91, 78, 57, 91, 106, 81, 107, 134, 117, 124, 125, 109, 151, 138], \"type\": \"bar\", \"uid\": \"deeddba1-8a6b-4112-b53a-2ee5ec4c5131\"}], {\"font\": {\"color\": \"#40362F\", \"family\": \"FiraSansCondensedRegular\", \"size\": 14}, \"paper_bgcolor\": \"#FFFAF0\", \"plot_bgcolor\": \"#FFFAF0\", \"title\": \"Total Data Related Job Offers (Weekly)\", \"titlefont\": {\"color\": \"#594B42\", \"family\": \"FiraSansCondensedRegular\", \"size\": 22}, \"updatemenus\": [{\"active\": 0, \"bgcolor\": \"#FFFAF0\", \"bordercolor\": \"#594B42\", \"buttons\": [{\"args\": [{\"visible\": [true, false]}, {\"title\": \"Total Data Related Job Offers (Weekly)\", \"xaxis.hoverformat\": \"Week %W, %Y\"}], \"label\": \"Weekly\", \"method\": \"update\"}, {\"args\": [{\"visible\": [false, true]}, {\"title\": \"Total Data Related Job Offers (Monthly)\", \"xaxis.hoverformat\": \"%B '%y\"}], \"label\": \"Monthly\", \"method\": \"update\"}], \"direction\": \"right\", \"font\": {\"size\": 15}, \"showactive\": true, \"type\": \"buttons\", \"x\": 0.5, \"xanchor\": \"center\", \"y\": 1.09, \"yanchor\": \"top\"}], \"xaxis\": {\"fixedrange\": true, \"hoverformat\": \"Week %W, %Y\", \"tickmode\": \"auto\", \"ticks\": \"outside\", \"type\": \"date\", \"zerolinecolor\": \"#594B42\"}, \"yaxis\": {\"fixedrange\": true, \"gridcolor\": \"#D9D4CC\", \"hoverformat\": \"{:,}\", \"tickformat\": \"{:,}\", \"ticks\": \"outside\", \"tickwidth\": 1, \"title\": \"Num. submissions\", \"zerolinecolor\": \"#594B42\"}}, {\"showLink\": true, \"linkText\": \"Export to plot.ly\", \"plotlyServerURL\": \"https://plot.ly\"})});</script><script type=\"text/javascript\">window.addEventListener(\"resize\", function(){window._Plotly.Plots.resize(document.getElementById(\"b808b5cc-0f60-4ce1-bb3c-be222dea11be\"));});</script>"
      ],
      "text/vnd.plotly.v1+html": [
       "<div id=\"b808b5cc-0f60-4ce1-bb3c-be222dea11be\" style=\"height: 525px; width: 100%;\" class=\"plotly-graph-div\"></div><script type=\"text/javascript\">require([\"plotly\"], function(Plotly) { window.PLOTLYENV=window.PLOTLYENV || {};window.PLOTLYENV.BASE_URL=\"https://plot.ly\";Plotly.newPlot(\"b808b5cc-0f60-4ce1-bb3c-be222dea11be\", [{\"hoverinfo\": \"x+y\", \"marker\": {\"color\": \"#BF4D28\", \"line\": {\"color\": \"#7F331B\", \"width\": 1}, \"opacity\": 0.8}, \"showlegend\": false, \"visible\": true, \"x\": [\"2017-10-02\", \"2017-10-09\", \"2017-10-16\", \"2017-10-23\", \"2017-10-30\", \"2017-11-06\", \"2017-11-13\", \"2017-11-20\", \"2017-11-27\", \"2017-12-04\", \"2017-12-11\", \"2017-12-18\", \"2017-12-25\", \"2018-01-01\", \"2018-01-08\", \"2018-01-15\", \"2018-01-22\", \"2018-01-29\", \"2018-02-05\", \"2018-02-12\", \"2018-02-19\", \"2018-02-26\", \"2018-03-05\", \"2018-03-12\", \"2018-03-19\", \"2018-03-26\", \"2018-04-02\", \"2018-04-09\", \"2018-04-16\", \"2018-04-23\", \"2018-04-30\", \"2018-05-07\", \"2018-05-14\", \"2018-05-21\", \"2018-05-28\", \"2018-06-04\", \"2018-06-11\", \"2018-06-18\", \"2018-06-25\", \"2018-07-02\", \"2018-07-09\", \"2018-07-16\", \"2018-07-23\", \"2018-07-30\", \"2018-08-06\", \"2018-08-13\", \"2018-08-20\", \"2018-08-27\", \"2018-09-03\", \"2018-09-10\", \"2018-09-17\", \"2018-09-24\", \"2018-10-01\", \"2018-10-08\", \"2018-10-15\", \"2018-10-22\", \"2018-10-29\", \"2018-11-05\", \"2018-11-12\", \"2018-11-19\", \"2018-11-26\", \"2018-12-03\", \"2018-12-10\"], \"y\": [24, 13, 22, 24, 14, 18, 18, 20, 21, 22, 14, 11, 5, 14, 26, 25, 16, 16, 34, 28, 24, 15, 19, 22, 15, 24, 20, 28, 24, 30, 25, 30, 37, 26, 29, 28, 30, 23, 28, 24, 31, 28, 33, 22, 27, 25, 37, 22, 14, 36, 30, 29, 25, 33, 30, 39, 32, 33, 31, 28, 38, 23, 27], \"type\": \"bar\", \"uid\": \"c54df272-1515-4698-8743-cd5b22b41477\"}, {\"hoverinfo\": \"x+y\", \"marker\": {\"color\": \"#BF4D28\", \"line\": {\"color\": \"#7F331B\", \"width\": 1}, \"opacity\": 0.8}, \"showlegend\": false, \"visible\": false, \"x\": [\"2017-10-01\", \"2017-11-01\", \"2017-12-01\", \"2018-01-01\", \"2018-02-01\", \"2018-03-01\", \"2018-04-01\", \"2018-05-01\", \"2018-06-01\", \"2018-07-01\", \"2018-08-01\", \"2018-09-01\", \"2018-10-01\", \"2018-11-01\"], \"y\": [91, 78, 57, 91, 106, 81, 107, 134, 117, 124, 125, 109, 151, 138], \"type\": \"bar\", \"uid\": \"deeddba1-8a6b-4112-b53a-2ee5ec4c5131\"}], {\"font\": {\"color\": \"#40362F\", \"family\": \"FiraSansCondensedRegular\", \"size\": 14}, \"paper_bgcolor\": \"#FFFAF0\", \"plot_bgcolor\": \"#FFFAF0\", \"title\": \"Total Data Related Job Offers (Weekly)\", \"titlefont\": {\"color\": \"#594B42\", \"family\": \"FiraSansCondensedRegular\", \"size\": 22}, \"updatemenus\": [{\"active\": 0, \"bgcolor\": \"#FFFAF0\", \"bordercolor\": \"#594B42\", \"buttons\": [{\"args\": [{\"visible\": [true, false]}, {\"title\": \"Total Data Related Job Offers (Weekly)\", \"xaxis.hoverformat\": \"Week %W, %Y\"}], \"label\": \"Weekly\", \"method\": \"update\"}, {\"args\": [{\"visible\": [false, true]}, {\"title\": \"Total Data Related Job Offers (Monthly)\", \"xaxis.hoverformat\": \"%B '%y\"}], \"label\": \"Monthly\", \"method\": \"update\"}], \"direction\": \"right\", \"font\": {\"size\": 15}, \"showactive\": true, \"type\": \"buttons\", \"x\": 0.5, \"xanchor\": \"center\", \"y\": 1.09, \"yanchor\": \"top\"}], \"xaxis\": {\"fixedrange\": true, \"hoverformat\": \"Week %W, %Y\", \"tickmode\": \"auto\", \"ticks\": \"outside\", \"type\": \"date\", \"zerolinecolor\": \"#594B42\"}, \"yaxis\": {\"fixedrange\": true, \"gridcolor\": \"#D9D4CC\", \"hoverformat\": \"{:,}\", \"tickformat\": \"{:,}\", \"ticks\": \"outside\", \"tickwidth\": 1, \"title\": \"Num. submissions\", \"zerolinecolor\": \"#594B42\"}}, {\"showLink\": true, \"linkText\": \"Export to plot.ly\", \"plotlyServerURL\": \"https://plot.ly\"})});</script><script type=\"text/javascript\">window.addEventListener(\"resize\", function(){window._Plotly.Plots.resize(document.getElementById(\"b808b5cc-0f60-4ce1-bb3c-be222dea11be\"));});</script>"
      ]
     },
     "metadata": {},
     "output_type": "display_data"
    }
   ],
   "source": [
    "fig = go.Figure(data=data, layout=layout)\n",
    "plotly.offline.iplot(fig, filename = 'data_offers_over_time.html')"
   ]
  },
  {
   "cell_type": "code",
   "execution_count": 238,
   "metadata": {},
   "outputs": [
    {
     "data": {
      "text/plain": [
       "'file:///data/WORKSPACE/jpynb_Employment_Trends_Bulgaria/workbooks/data_offers_over_time.html'"
      ]
     },
     "execution_count": 238,
     "metadata": {},
     "output_type": "execute_result"
    }
   ],
   "source": [
    "# Uncomment the line below to export an HTML version of the chart.\n",
    "# plotly.offline.plot(fig, filename = 'data_offers_over_time.html')"
   ]
  },
  {
   "cell_type": "code",
   "execution_count": 1,
   "metadata": {},
   "outputs": [
    {
     "data": {
      "text/html": [
       "<style>\n",
       "@font-face {\n",
       "    font-family: 'FiraSans-Book';\n",
       "    src: url('../resources/fonts/FiraSans-Book.ttf');\n",
       "}\n",
       "\n",
       "@font-face {\n",
       "    font-family: 'FiraCode';\n",
       "    src: url('../resources/fonts/FiraCode-Medium.ttf');\n",
       "}\n",
       "\n",
       "@font-face {\n",
       "    font-family: 'FiraSansCondensed';\n",
       "    src: url('../resources/fonts/FiraSansExtraCondensed-Light.ttf');\n",
       "}\n",
       "\n",
       "@font-face {\n",
       "    font-family: 'FiraSansCondensedRegular';\n",
       "    src: url('../resources/fonts/FiraSansExtraCondensed-Regular.ttf');\n",
       "}\n",
       "\n",
       "@font-face {\n",
       "    font-family: 'FiraSansCondensedBold';\n",
       "    src: url('../resources/fonts/FiraSansExtraCondensed-SemiBold.ttf');\n",
       "}\n",
       "\n",
       ".nbviewer {\n",
       "    background-color: #FFFAF0;\n",
       "}\n",
       "\n",
       "#notebook-container {\n",
       "    background-color: #FFFAF0\n",
       "}\n",
       "\n",
       "/* Headings */\n",
       "div#notebook-container h1, h2, h3, h4, h5, h6 {\n",
       "    color: #655643;\n",
       "}\n",
       "\n",
       ".text_cell_render h1 {\n",
       "    font-family: 'FiraSansCondensedBold',verdana,arial,sans-serif;\n",
       "    font-size: 4em;\n",
       "}\n",
       "\n",
       ".text_cell_render h2 {\n",
       "    font-family: 'FiraSansCondensedBold',verdana,arial,sans-serif;\n",
       "    font-size: 3em;\n",
       "}\n",
       "\n",
       ".text_cell_render h3 {\n",
       "    font-family: 'FiraSansCondensed',verdana,arial,sans-serif;\n",
       "    font-size: 2em;\n",
       "}\n",
       "\n",
       ".text_cell_render h4 {\n",
       "    font-family: 'FiraSansCondensed',verdana,arial,sans-serif;\n",
       "    font-size: 1.5em;\n",
       "}\n",
       "\n",
       ".text_cell_render h5 {\n",
       "    font-family: 'FiraSansCondensed',verdana,arial,sans-serif;\n",
       "    font-size: 1.2em;\n",
       "    text-transform: uppercase;\n",
       "}\n",
       "\n",
       ".text_cell_render h6 {\n",
       "    font-family: 'FiraSansCondensed',verdana,arial,sans-serif;\n",
       "    font-size: 1.1em;\n",
       "    font-style: italic;\n",
       "}\n",
       "\n",
       "div#notebook-container p {\n",
       "    font-family: 'FiraSans-Book',verdana,arial,sans-serif;\n",
       "    font-size: 1.2em;\n",
       "    line-height: 1.3em;\n",
       "    color: #40362F;\n",
       "}\n",
       "\n",
       "/* Lists */\n",
       "ol, ul {\n",
       "    font-family: 'FiraSans-Book',verdana,arial,sans-serif;\n",
       "    font-size: 1.2em;\n",
       "    line-height: 1.4em;\n",
       "    color: #40362F;\n",
       "}\n",
       "\n",
       "\n",
       "div.input_prompt {\n",
       "    color: #40362F;\n",
       "}\n",
       "\n",
       "div.output_prompt {\n",
       "    color: #40362F;\n",
       "}\n",
       "\n",
       "div.text_cell code {\n",
       "    background: transparent;\n",
       "    color: #40362F;\n",
       "    font-family: 'FiraCode', Consolas, monospace;\n",
       "}\n",
       "\n",
       "div.input_area {\n",
       "    background-color: #FFFAF0;\n",
       "    border: 1px solid #E5E1D8;\n",
       "    background: repeating-linear-gradient(135deg, #FFFAF0, #FFFAF0 5px, #FFFCFA 5px, #FFFCFA 10px);\n",
       "}\n",
       "\n",
       "div.cell.rendered.selected {\n",
       "    background: #E5E1D8;\n",
       "    border: 1px solid #38614F;\n",
       "}\n",
       "\n",
       "div.output_area img {\n",
       "    display: block;\n",
       "    margin-left: auto;\n",
       "    margin-right: auto;\n",
       "}\n",
       "\n",
       "div.output_text pre {\n",
       "    font-family: 'FiraCode', Consolas, monospace;\n",
       "    color: #40362F;\n",
       "}\n",
       "\n",
       "div.text_cell_render img {\n",
       "    max-height: 520px;\n",
       "    display: block;\n",
       "    margin-left: auto;\n",
       "    margin-right: auto;\n",
       "}\n",
       "\n",
       "div.output output_scroll {\n",
       "    overflow-x: auto;\n",
       "    overflow-y: scroll;\n",
       "    max-height: 2000px;\n",
       "}\n",
       "\n",
       "div.rendered_html hr {\n",
       "    border: 0;\n",
       "    height: 1px;\n",
       "    background-image: -webkit-linear-gradient(left, #f0f0f0, #8c8b8b, #f0f0f0);\n",
       "    background-image: -moz-linear-gradient(left, #f0f0f0, #8c8b8b, #f0f0f0);\n",
       "    background-image: -ms-linear-gradient(left, #f0f0f0, #8c8b8b, #f0f0f0);\n",
       "    background-image: -o-linear-gradient(left, #f0f0f0, #8c8b8b, #f0f0f0);\n",
       "}\n",
       "\n",
       "div.rendered_html pre, code {\n",
       "    font-family: 'FiraCode', Consolas, monospace;\n",
       "    color: #40362F;\n",
       "    background-color: #FFFAF0;\n",
       "    border: 1px solid #E5E1D8;\n",
       "    display: block;\n",
       "    margin-left: auto;\n",
       "    margin-right: auto;\n",
       "    padding: 4px;\n",
       "}\n",
       "\n",
       "/* Links */\n",
       "a.link--embedview {\n",
       "    display: none;\n",
       "}\n",
       "\n",
       "a:link {\n",
       "    color: #293C34;\n",
       "}\n",
       "\n",
       "a:visited {\n",
       "    color: #293C34;\n",
       "}\n",
       "\n",
       "a:hover {\n",
       "    color: #557C6C;\n",
       "}\n",
       "\n",
       "a:focus {\n",
       "    color:#557C6C;\n",
       "}\n",
       "\n",
       "a:active {\n",
       "    font-weight: bold;\n",
       "    color:#80BCA3;\n",
       "}\n",
       "\n",
       ".rendered_html :link {\n",
       "    text-decoration: underline;\n",
       "}\n",
       "\n",
       "/* Colors for code highlighting */\n",
       ".CodeMirror-code span.cm-keyword {\n",
       "    color: #557C6C;\n",
       "}\n",
       "\n",
       ".CodeMirror-code span.cm-variable {\n",
       "    color: #4C4138;\n",
       "}\n",
       "\n",
       ".CodeMirror-code span.cm-property {\n",
       "    color: #40362F;\n",
       "}\n",
       "\n",
       ".CodeMirror-code span.cm-operator {\n",
       "    color: #4C4138;\n",
       "}\n",
       "\n",
       ".CodeMirror-code span.cm-string {\n",
       "    color: #7F331B;\n",
       "}\n",
       "\n",
       ".CodeMirror-code span.cm-number {\n",
       "    color: #458C7A;\n",
       "}\n",
       "\n",
       ".CodeMirror-code span.cm-comment {\n",
       "    color: #557C6C;\n",
       "}\n",
       "\n",
       ".CodeMirror-code span.cm-builtin {\n",
       "    color: #557C6C;\n",
       "}\n",
       "\n",
       "/* Code with no class applied (brackets mostly) */\n",
       ".CodeMirror-line > span {\n",
       "    color: #557C6C;\n",
       "}\n",
       "\n",
       "/* Table styles */\n",
       "table {\n",
       "    border: 1px solid #BF4D28;\n",
       "}\n",
       "\n",
       ".rendered_html table {\n",
       "    float:left;\n",
       "    width:100%;\n",
       "    border-collapse: collapse;\n",
       "}\n",
       "\n",
       ".rendered_html table th {\n",
       "    text-align: left;\n",
       "    background-color: #E5E1D8;\n",
       "}\n",
       "\n",
       ".rendered_html td {\n",
       "    text-align: left;\n",
       "}\n",
       "\n",
       ".rendered_html table tr:nth-child(odd) {\n",
       "    background-color: #F0E4D5;\n",
       "}\n",
       "\n",
       ".rendered_html table tr:nth-child(even) {\n",
       "    background-color: #F5EDE1;\n",
       "}\n",
       "\n",
       ".rendered_html table tr:hover {\n",
       "    background-color: #BF4D28;\n",
       "}\n",
       "\n",
       "iframe {\n",
       "    border-width: 0;\n",
       "}\n",
       "</style>\n"
      ],
      "text/plain": [
       "<IPython.core.display.HTML object>"
      ]
     },
     "execution_count": 1,
     "metadata": {},
     "output_type": "execute_result"
    }
   ],
   "source": [
    "from IPython.core.display import HTML\n",
    "with open('../resources/styles/datum.css', 'r') as f:\n",
    "    style = f.read()\n",
    "HTML(style)"
   ]
  },
  {
   "cell_type": "code",
   "execution_count": null,
   "metadata": {},
   "outputs": [],
   "source": []
  }
 ],
 "metadata": {
  "kernelspec": {
   "display_name": "Python 3",
   "language": "python",
   "name": "python3"
  },
  "language_info": {
   "codemirror_mode": {
    "name": "ipython",
    "version": 3
   },
   "file_extension": ".py",
   "mimetype": "text/x-python",
   "name": "python",
   "nbconvert_exporter": "python",
   "pygments_lexer": "ipython3",
   "version": "3.7.1"
  }
 },
 "nbformat": 4,
 "nbformat_minor": 2
}
