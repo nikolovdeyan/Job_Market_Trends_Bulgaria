{
 "cells": [
  {
   "cell_type": "markdown",
   "metadata": {},
   "source": [
    "## Data Monthly Salary Statistics"
   ]
  },
  {
   "cell_type": "code",
   "execution_count": 1,
   "metadata": {},
   "outputs": [
    {
     "data": {
      "text/html": [
       "<script type=\"text/javascript\">window.PlotlyConfig = {MathJaxConfig: 'local'};</script><script type=\"text/javascript\">if (window.MathJax) {MathJax.Hub.Config({SVG: {font: \"STIX-Web\"}});}</script><script>requirejs.config({paths: { 'plotly': ['https://cdn.plot.ly/plotly-latest.min']},});if(!window._Plotly) {require(['plotly'],function(plotly) {window._Plotly=plotly;});}</script>"
      ],
      "text/vnd.plotly.v1+html": [
       "<script type=\"text/javascript\">window.PlotlyConfig = {MathJaxConfig: 'local'};</script><script type=\"text/javascript\">if (window.MathJax) {MathJax.Hub.Config({SVG: {font: \"STIX-Web\"}});}</script><script>requirejs.config({paths: { 'plotly': ['https://cdn.plot.ly/plotly-latest.min']},});if(!window._Plotly) {require(['plotly'],function(plotly) {window._Plotly=plotly;});}</script>"
      ]
     },
     "metadata": {},
     "output_type": "display_data"
    }
   ],
   "source": [
    "import datetime\n",
    "import psycopg2\n",
    "import pandas as pd\n",
    "import matplotlib\n",
    "import matplotlib.pyplot as plt\n",
    "import matplotlib.dates as mdates\n",
    "import ipywidgets as widgets\n",
    "import plotly\n",
    "import plotly.plotly as py\n",
    "import plotly.graph_objs as go\n",
    "\n",
    "from nbstyler import DATA_STYLE as DS\n",
    "\n",
    "plotly.offline.init_notebook_mode(connected=True)\n",
    "\n",
    "%matplotlib notebook\n",
    "%matplotlib inline"
   ]
  },
  {
   "cell_type": "markdown",
   "metadata": {},
   "source": [
    "### Objectives\n",
    "\n",
    "Create a box plot chart to illustrate basic statistical variables calculated for data job offers in Bulgaria.\n"
   ]
  },
  {
   "cell_type": "markdown",
   "metadata": {},
   "source": [
    "### Data Preparation\n",
    "\n",
    "For the box plot chart Plotly requires all values for the respective aggregation level and calculates the statistics on the fly. As the concatenation of the individual values per aggregation level takes some time a materialized view was utilized in PostgreSQL.\n",
    "\n",
    "A `Pandas.DataFrame` is constructed for each dataset and the first and last time periods for each dataset is dropped to remove incomplete time periods at the start and finish. This step also converts the `Pandas.DataFrame.Index` to `DateTimeIndex` to utilize the temporal methods that it exposes."
   ]
  },
  {
   "cell_type": "markdown",
   "metadata": {},
   "source": [
    "### Data Preparation"
   ]
  },
  {
   "cell_type": "code",
   "execution_count": 2,
   "metadata": {},
   "outputs": [],
   "source": [
    "conn = psycopg2.connect(\"dbname=jobsbg\")\n",
    "\n",
    "sstats_monthly = pd.read_sql_query('SELECT * FROM mv_data_jobs_salary_lists_monthly', conn, index_col = 'month_ts')\n",
    "\n",
    "sstats_monthly = sstats_monthly[1:-1]\n",
    "\n",
    "sstats_monthly.index = pd.to_datetime(sstats_monthly.index)"
   ]
  },
  {
   "cell_type": "code",
   "execution_count": 3,
   "metadata": {
    "scrolled": true
   },
   "outputs": [
    {
     "data": {
      "text/html": [
       "<div>\n",
       "<style scoped>\n",
       "    .dataframe tbody tr th:only-of-type {\n",
       "        vertical-align: middle;\n",
       "    }\n",
       "\n",
       "    .dataframe tbody tr th {\n",
       "        vertical-align: top;\n",
       "    }\n",
       "\n",
       "    .dataframe thead th {\n",
       "        text-align: right;\n",
       "    }\n",
       "</style>\n",
       "<table border=\"1\" class=\"dataframe\">\n",
       "  <thead>\n",
       "    <tr style=\"text-align: right;\">\n",
       "      <th></th>\n",
       "      <th>sample_size</th>\n",
       "      <th>sample_list</th>\n",
       "    </tr>\n",
       "    <tr>\n",
       "      <th>month_ts</th>\n",
       "      <th></th>\n",
       "      <th></th>\n",
       "    </tr>\n",
       "  </thead>\n",
       "  <tbody>\n",
       "    <tr>\n",
       "      <th>2017-10-01</th>\n",
       "      <td>8</td>\n",
       "      <td>3450.00,6000.00,4875.00,4875.00,4875.00,3750.0...</td>\n",
       "    </tr>\n",
       "    <tr>\n",
       "      <th>2017-11-01</th>\n",
       "      <td>2</td>\n",
       "      <td>1237.50,1237.50</td>\n",
       "    </tr>\n",
       "    <tr>\n",
       "      <th>2017-12-01</th>\n",
       "      <td>6</td>\n",
       "      <td>4875.00,4875.00,4875.00,3750.00,3750.00,3750.00</td>\n",
       "    </tr>\n",
       "  </tbody>\n",
       "</table>\n",
       "</div>"
      ],
      "text/plain": [
       "            sample_size                                        sample_list\n",
       "month_ts                                                                  \n",
       "2017-10-01            8  3450.00,6000.00,4875.00,4875.00,4875.00,3750.0...\n",
       "2017-11-01            2                                    1237.50,1237.50\n",
       "2017-12-01            6    4875.00,4875.00,4875.00,3750.00,3750.00,3750.00"
      ]
     },
     "execution_count": 3,
     "metadata": {},
     "output_type": "execute_result"
    }
   ],
   "source": [
    "sstats_monthly.head(3)"
   ]
  },
  {
   "cell_type": "markdown",
   "metadata": {},
   "source": [
    "### Implementing the Chart in Plotly"
   ]
  },
  {
   "cell_type": "code",
   "execution_count": 4,
   "metadata": {},
   "outputs": [],
   "source": [
    "x_vals = [month for month in sstats_monthly.index]\n",
    "y_vals = []\n",
    "\n",
    "for l in sstats_monthly.sample_list:\n",
    "    values  = [float(val) for val in l.split(',')]\n",
    "    y_vals.append(values)"
   ]
  },
  {
   "cell_type": "code",
   "execution_count": 5,
   "metadata": {},
   "outputs": [],
   "source": [
    "data = []\n",
    "for j in range(len(x_vals)):\n",
    "    trace = go.Box(\n",
    "        name=str(sstats_monthly.index[j]),\n",
    "        y=y_vals[j],\n",
    "        marker=dict(\n",
    "            opacity=0.8,\n",
    "        ),\n",
    "        line=dict(\n",
    "            width=1,\n",
    "            color=DS['colors']['acc1'],\n",
    "        ),\n",
    "        whiskerwidth=0.5,\n",
    "        boxpoints=False,\n",
    "        showlegend=False,\n",
    "    )\n",
    "    data.append(trace)"
   ]
  },
  {
   "cell_type": "markdown",
   "metadata": {},
   "source": [
    "Plotly buttons and defined interactions to make the chart interactive"
   ]
  },
  {
   "cell_type": "code",
   "execution_count": 6,
   "metadata": {},
   "outputs": [],
   "source": [
    "layout = go.Layout(\n",
    "    paper_bgcolor=DS['colors']['bg1'],            \n",
    "    plot_bgcolor=DS['colors']['bg1'],\n",
    "    title='Data Offers Monthly Salary Statistics',\n",
    "    titlefont=DS['chart_fonts']['title'],\n",
    "    font=DS['chart_fonts']['text'],\n",
    "    autosize=True,\n",
    "    showlegend=False,\n",
    "    hidesources=True,\n",
    "    xaxis = dict(\n",
    "        type='date',\n",
    "        fixedrange=True,\n",
    "        hoverformat='',\n",
    "        ticks='outside',\n",
    "        tickmode='auto',\n",
    "        zerolinecolor=DS['colors']['fg2'],\n",
    "    ),\n",
    "    yaxis = dict(\n",
    "        title='BGN',\n",
    "        type='linear',\n",
    "        range=[0, 6000],\n",
    "        rangemode='tozero',\n",
    "        gridcolor=DS['colors']['bg3'],\n",
    "        hoverformat='{:,}',\n",
    "        tickformat='{:,}',\n",
    "        ticks='outside',\n",
    "        tickwidth=1,\n",
    "    ),\n",
    ")"
   ]
  },
  {
   "cell_type": "code",
   "execution_count": 9,
   "metadata": {},
   "outputs": [
    {
     "data": {
      "application/vnd.plotly.v1+json": {
       "config": {
        "linkText": "Export to plot.ly",
        "plotlyServerURL": "https://plot.ly",
        "showLink": true
       },
       "data": [
        {
         "boxpoints": false,
         "line": {
          "color": "#bf4d28",
          "width": 1
         },
         "marker": {
          "opacity": 0.8
         },
         "name": "2017-10-01 00:00:00",
         "showlegend": false,
         "type": "box",
         "uid": "614f251b-b59a-410c-bf08-5e27de43a7c4",
         "whiskerwidth": 0.5,
         "y": [
          3450,
          6000,
          4875,
          4875,
          4875,
          3750,
          3750,
          3750
         ]
        },
        {
         "boxpoints": false,
         "line": {
          "color": "#bf4d28",
          "width": 1
         },
         "marker": {
          "opacity": 0.8
         },
         "name": "2017-11-01 00:00:00",
         "showlegend": false,
         "type": "box",
         "uid": "44da39da-55bb-465b-9f74-7e918bba53f5",
         "whiskerwidth": 0.5,
         "y": [
          1237.5,
          1237.5
         ]
        },
        {
         "boxpoints": false,
         "line": {
          "color": "#bf4d28",
          "width": 1
         },
         "marker": {
          "opacity": 0.8
         },
         "name": "2017-12-01 00:00:00",
         "showlegend": false,
         "type": "box",
         "uid": "43d3e537-2838-471b-80eb-f53b33063b34",
         "whiskerwidth": 0.5,
         "y": [
          4875,
          4875,
          4875,
          3750,
          3750,
          3750
         ]
        },
        {
         "boxpoints": false,
         "line": {
          "color": "#bf4d28",
          "width": 1
         },
         "marker": {
          "opacity": 0.8
         },
         "name": "2018-01-01 00:00:00",
         "showlegend": false,
         "type": "box",
         "uid": "5023148a-f4b1-418a-b006-fd0fce6a45fb",
         "whiskerwidth": 0.5,
         "y": [
          1687.5,
          1650,
          1275,
          4875
         ]
        },
        {
         "boxpoints": false,
         "line": {
          "color": "#bf4d28",
          "width": 1
         },
         "marker": {
          "opacity": 0.8
         },
         "name": "2018-02-01 00:00:00",
         "showlegend": false,
         "type": "box",
         "uid": "9b262685-9c16-4bac-88e4-cdb528b8eae3",
         "whiskerwidth": 0.5,
         "y": [
          975,
          2025,
          1650,
          3500,
          1612.5,
          975,
          2025
         ]
        },
        {
         "boxpoints": false,
         "line": {
          "color": "#bf4d28",
          "width": 1
         },
         "marker": {
          "opacity": 0.8
         },
         "name": "2018-03-01 00:00:00",
         "showlegend": false,
         "type": "box",
         "uid": "a0ea57a2-97c8-4678-b3a7-0ba80eb6d5c9",
         "whiskerwidth": 0.5,
         "y": [
          975,
          1500,
          4500,
          975,
          2250,
          975,
          2250,
          1875
         ]
        },
        {
         "boxpoints": false,
         "line": {
          "color": "#bf4d28",
          "width": 1
         },
         "marker": {
          "opacity": 0.8
         },
         "name": "2018-04-01 00:00:00",
         "showlegend": false,
         "type": "box",
         "uid": "582c48eb-d3d4-4aab-90fd-09e7909b4793",
         "whiskerwidth": 0.5,
         "y": [
          1650,
          1500,
          975,
          2025,
          3500,
          1575,
          2250,
          1875,
          2062.5,
          2250,
          975
         ]
        },
        {
         "boxpoints": false,
         "line": {
          "color": "#bf4d28",
          "width": 1
         },
         "marker": {
          "opacity": 0.8
         },
         "name": "2018-05-01 00:00:00",
         "showlegend": false,
         "type": "box",
         "uid": "e1daf45c-5188-46a1-8801-78598c44c0e9",
         "whiskerwidth": 0.5,
         "y": [
          1500,
          1650,
          1875,
          900,
          900,
          2025,
          2062.5,
          1500
         ]
        },
        {
         "boxpoints": false,
         "line": {
          "color": "#bf4d28",
          "width": 1
         },
         "marker": {
          "opacity": 0.8
         },
         "name": "2018-06-01 00:00:00",
         "showlegend": false,
         "type": "box",
         "uid": "a5ca2626-3c9c-4f7e-a81d-5522a9f4de84",
         "whiskerwidth": 0.5,
         "y": [
          2300,
          1650,
          1237.5,
          5700,
          3000,
          1500,
          1687.5,
          2062.5,
          5000,
          1500
         ]
        },
        {
         "boxpoints": false,
         "line": {
          "color": "#bf4d28",
          "width": 1
         },
         "marker": {
          "opacity": 0.8
         },
         "name": "2018-07-01 00:00:00",
         "showlegend": false,
         "type": "box",
         "uid": "f5bb7bb0-ff0c-4a77-9e82-37641e63259a",
         "whiskerwidth": 0.5,
         "y": [
          1500,
          2250,
          5000,
          5700,
          5700,
          5000,
          975,
          975,
          1650,
          2025,
          975,
          2300,
          1500,
          375,
          1500,
          975,
          1000,
          2250
         ]
        },
        {
         "boxpoints": false,
         "line": {
          "color": "#bf4d28",
          "width": 1
         },
         "marker": {
          "opacity": 0.8
         },
         "name": "2018-08-01 00:00:00",
         "showlegend": false,
         "type": "box",
         "uid": "d42f0ac1-506f-4a80-b76a-c70d0696e19f",
         "whiskerwidth": 0.5,
         "y": [
          5000,
          975,
          1500,
          975,
          975,
          5700,
          5700,
          7875,
          2025,
          2062.5,
          975,
          975,
          1425,
          3000
         ]
        },
        {
         "boxpoints": false,
         "line": {
          "color": "#bf4d28",
          "width": 1
         },
         "marker": {
          "opacity": 0.8
         },
         "name": "2018-09-01 00:00:00",
         "showlegend": false,
         "type": "box",
         "uid": "1e274881-20ec-402b-a8d8-c11539f25d5a",
         "whiskerwidth": 0.5,
         "y": [
          975,
          1500,
          1050,
          975,
          1500,
          1425,
          2025,
          975,
          975,
          5000
         ]
        },
        {
         "boxpoints": false,
         "line": {
          "color": "#bf4d28",
          "width": 1
         },
         "marker": {
          "opacity": 0.8
         },
         "name": "2018-10-01 00:00:00",
         "showlegend": false,
         "type": "box",
         "uid": "f15cf4ed-8d78-4b58-8753-8a7a068055c1",
         "whiskerwidth": 0.5,
         "y": [
          975,
          1050,
          562.5,
          975,
          1500,
          2500,
          975,
          2025,
          1500,
          1350,
          5000,
          975,
          1500,
          5000,
          2500,
          5700,
          5700,
          975
         ]
        },
        {
         "boxpoints": false,
         "line": {
          "color": "#bf4d28",
          "width": 1
         },
         "marker": {
          "opacity": 0.8
         },
         "name": "2018-11-01 00:00:00",
         "showlegend": false,
         "type": "box",
         "uid": "7737a66d-2d37-41ac-8699-26c6c11a3a05",
         "whiskerwidth": 0.5,
         "y": [
          1500,
          975,
          975,
          675,
          2025,
          975,
          1350,
          1000,
          5000,
          975,
          1000,
          2500
         ]
        },
        {
         "boxpoints": false,
         "line": {
          "color": "#bf4d28",
          "width": 1
         },
         "marker": {
          "opacity": 0.8
         },
         "name": "2018-12-01 00:00:00",
         "showlegend": false,
         "type": "box",
         "uid": "59031c22-5521-4def-a3ed-be032f1ee2c8",
         "whiskerwidth": 0.5,
         "y": [
          1000,
          975,
          750,
          975,
          2025,
          1000,
          1000,
          975,
          1500
         ]
        },
        {
         "boxpoints": false,
         "line": {
          "color": "#bf4d28",
          "width": 1
         },
         "marker": {
          "opacity": 0.8
         },
         "name": "2019-01-01 00:00:00",
         "showlegend": false,
         "type": "box",
         "uid": "a94425c6-87c6-469e-be16-d46902a1bcf5",
         "whiskerwidth": 0.5,
         "y": [
          2062.5,
          975,
          975,
          2025,
          2500,
          975,
          2500,
          1050,
          975,
          1000,
          450,
          1000,
          5700,
          975
         ]
        },
        {
         "boxpoints": false,
         "line": {
          "color": "#bf4d28",
          "width": 1
         },
         "marker": {
          "opacity": 0.8
         },
         "name": "2019-02-01 00:00:00",
         "showlegend": false,
         "type": "box",
         "uid": "6453b157-1c38-4245-9d21-58c26a4f6184",
         "whiskerwidth": 0.5,
         "y": [
          1000,
          975,
          1762.5,
          675,
          3750,
          1000,
          975,
          2300,
          525,
          2500,
          2062.5,
          975,
          1687.5,
          1687.5,
          975,
          975,
          1725,
          975
         ]
        },
        {
         "boxpoints": false,
         "line": {
          "color": "#bf4d28",
          "width": 1
         },
         "marker": {
          "opacity": 0.8
         },
         "name": "2019-03-01 00:00:00",
         "showlegend": false,
         "type": "box",
         "uid": "f987565f-38a7-448a-8587-6beee61120c5",
         "whiskerwidth": 0.5,
         "y": [
          975,
          2437.5,
          1762.5,
          1300,
          975,
          3750,
          525,
          1725,
          975,
          975,
          2137.5
         ]
        },
        {
         "boxpoints": false,
         "line": {
          "color": "#bf4d28",
          "width": 1
         },
         "marker": {
          "opacity": 0.8
         },
         "name": "2019-04-01 00:00:00",
         "showlegend": false,
         "type": "box",
         "uid": "6422572c-e014-4aa3-8281-ba1b0ace5db2",
         "whiskerwidth": 0.5,
         "y": [
          975,
          825,
          450,
          1762.5,
          975,
          3750,
          862.5,
          975,
          3750,
          2250,
          3375,
          3000,
          4500,
          1575,
          975,
          1800,
          900,
          637.5,
          975
         ]
        }
       ],
       "layout": {
        "autosize": true,
        "font": {
         "color": "#655643",
         "family": "Fira Sans Condensed",
         "size": 12
        },
        "hidesources": true,
        "paper_bgcolor": "#fffaf0",
        "plot_bgcolor": "#fffaf0",
        "showlegend": false,
        "title": "Data Offers Monthly Salary Statistics",
        "titlefont": {
         "color": "#655643",
         "family": "Merryweather",
         "size": 18
        },
        "xaxis": {
         "fixedrange": true,
         "hoverformat": "",
         "tickmode": "auto",
         "ticks": "outside",
         "type": "date",
         "zerolinecolor": "#655643"
        },
        "yaxis": {
         "gridcolor": "#f2e6ce",
         "hoverformat": "{:,}",
         "range": [
          0,
          6000
         ],
         "rangemode": "tozero",
         "tickformat": "{:,}",
         "ticks": "outside",
         "tickwidth": 1,
         "title": "BGN",
         "type": "linear"
        }
       }
      },
      "text/html": [
       "<div id=\"9fa9c5e2-9e5d-4ec6-94fc-249263beb24b\" style=\"height: 525px; width: 100%;\" class=\"plotly-graph-div\"></div><script type=\"text/javascript\">require([\"plotly\"], function(Plotly) { window.PLOTLYENV=window.PLOTLYENV || {};window.PLOTLYENV.BASE_URL=\"https://plot.ly\";Plotly.newPlot(\"9fa9c5e2-9e5d-4ec6-94fc-249263beb24b\", [{\"boxpoints\": false, \"line\": {\"color\": \"#bf4d28\", \"width\": 1}, \"marker\": {\"opacity\": 0.8}, \"name\": \"2017-10-01 00:00:00\", \"showlegend\": false, \"whiskerwidth\": 0.5, \"y\": [3450.0, 6000.0, 4875.0, 4875.0, 4875.0, 3750.0, 3750.0, 3750.0], \"type\": \"box\", \"uid\": \"614f251b-b59a-410c-bf08-5e27de43a7c4\"}, {\"boxpoints\": false, \"line\": {\"color\": \"#bf4d28\", \"width\": 1}, \"marker\": {\"opacity\": 0.8}, \"name\": \"2017-11-01 00:00:00\", \"showlegend\": false, \"whiskerwidth\": 0.5, \"y\": [1237.5, 1237.5], \"type\": \"box\", \"uid\": \"44da39da-55bb-465b-9f74-7e918bba53f5\"}, {\"boxpoints\": false, \"line\": {\"color\": \"#bf4d28\", \"width\": 1}, \"marker\": {\"opacity\": 0.8}, \"name\": \"2017-12-01 00:00:00\", \"showlegend\": false, \"whiskerwidth\": 0.5, \"y\": [4875.0, 4875.0, 4875.0, 3750.0, 3750.0, 3750.0], \"type\": \"box\", \"uid\": \"43d3e537-2838-471b-80eb-f53b33063b34\"}, {\"boxpoints\": false, \"line\": {\"color\": \"#bf4d28\", \"width\": 1}, \"marker\": {\"opacity\": 0.8}, \"name\": \"2018-01-01 00:00:00\", \"showlegend\": false, \"whiskerwidth\": 0.5, \"y\": [1687.5, 1650.0, 1275.0, 4875.0], \"type\": \"box\", \"uid\": \"5023148a-f4b1-418a-b006-fd0fce6a45fb\"}, {\"boxpoints\": false, \"line\": {\"color\": \"#bf4d28\", \"width\": 1}, \"marker\": {\"opacity\": 0.8}, \"name\": \"2018-02-01 00:00:00\", \"showlegend\": false, \"whiskerwidth\": 0.5, \"y\": [975.0, 2025.0, 1650.0, 3500.0, 1612.5, 975.0, 2025.0], \"type\": \"box\", \"uid\": \"9b262685-9c16-4bac-88e4-cdb528b8eae3\"}, {\"boxpoints\": false, \"line\": {\"color\": \"#bf4d28\", \"width\": 1}, \"marker\": {\"opacity\": 0.8}, \"name\": \"2018-03-01 00:00:00\", \"showlegend\": false, \"whiskerwidth\": 0.5, \"y\": [975.0, 1500.0, 4500.0, 975.0, 2250.0, 975.0, 2250.0, 1875.0], \"type\": \"box\", \"uid\": \"a0ea57a2-97c8-4678-b3a7-0ba80eb6d5c9\"}, {\"boxpoints\": false, \"line\": {\"color\": \"#bf4d28\", \"width\": 1}, \"marker\": {\"opacity\": 0.8}, \"name\": \"2018-04-01 00:00:00\", \"showlegend\": false, \"whiskerwidth\": 0.5, \"y\": [1650.0, 1500.0, 975.0, 2025.0, 3500.0, 1575.0, 2250.0, 1875.0, 2062.5, 2250.0, 975.0], \"type\": \"box\", \"uid\": \"582c48eb-d3d4-4aab-90fd-09e7909b4793\"}, {\"boxpoints\": false, \"line\": {\"color\": \"#bf4d28\", \"width\": 1}, \"marker\": {\"opacity\": 0.8}, \"name\": \"2018-05-01 00:00:00\", \"showlegend\": false, \"whiskerwidth\": 0.5, \"y\": [1500.0, 1650.0, 1875.0, 900.0, 900.0, 2025.0, 2062.5, 1500.0], \"type\": \"box\", \"uid\": \"e1daf45c-5188-46a1-8801-78598c44c0e9\"}, {\"boxpoints\": false, \"line\": {\"color\": \"#bf4d28\", \"width\": 1}, \"marker\": {\"opacity\": 0.8}, \"name\": \"2018-06-01 00:00:00\", \"showlegend\": false, \"whiskerwidth\": 0.5, \"y\": [2300.0, 1650.0, 1237.5, 5700.0, 3000.0, 1500.0, 1687.5, 2062.5, 5000.0, 1500.0], \"type\": \"box\", \"uid\": \"a5ca2626-3c9c-4f7e-a81d-5522a9f4de84\"}, {\"boxpoints\": false, \"line\": {\"color\": \"#bf4d28\", \"width\": 1}, \"marker\": {\"opacity\": 0.8}, \"name\": \"2018-07-01 00:00:00\", \"showlegend\": false, \"whiskerwidth\": 0.5, \"y\": [1500.0, 2250.0, 5000.0, 5700.0, 5700.0, 5000.0, 975.0, 975.0, 1650.0, 2025.0, 975.0, 2300.0, 1500.0, 375.0, 1500.0, 975.0, 1000.0, 2250.0], \"type\": \"box\", \"uid\": \"f5bb7bb0-ff0c-4a77-9e82-37641e63259a\"}, {\"boxpoints\": false, \"line\": {\"color\": \"#bf4d28\", \"width\": 1}, \"marker\": {\"opacity\": 0.8}, \"name\": \"2018-08-01 00:00:00\", \"showlegend\": false, \"whiskerwidth\": 0.5, \"y\": [5000.0, 975.0, 1500.0, 975.0, 975.0, 5700.0, 5700.0, 7875.0, 2025.0, 2062.5, 975.0, 975.0, 1425.0, 3000.0], \"type\": \"box\", \"uid\": \"d42f0ac1-506f-4a80-b76a-c70d0696e19f\"}, {\"boxpoints\": false, \"line\": {\"color\": \"#bf4d28\", \"width\": 1}, \"marker\": {\"opacity\": 0.8}, \"name\": \"2018-09-01 00:00:00\", \"showlegend\": false, \"whiskerwidth\": 0.5, \"y\": [975.0, 1500.0, 1050.0, 975.0, 1500.0, 1425.0, 2025.0, 975.0, 975.0, 5000.0], \"type\": \"box\", \"uid\": \"1e274881-20ec-402b-a8d8-c11539f25d5a\"}, {\"boxpoints\": false, \"line\": {\"color\": \"#bf4d28\", \"width\": 1}, \"marker\": {\"opacity\": 0.8}, \"name\": \"2018-10-01 00:00:00\", \"showlegend\": false, \"whiskerwidth\": 0.5, \"y\": [975.0, 1050.0, 562.5, 975.0, 1500.0, 2500.0, 975.0, 2025.0, 1500.0, 1350.0, 5000.0, 975.0, 1500.0, 5000.0, 2500.0, 5700.0, 5700.0, 975.0], \"type\": \"box\", \"uid\": \"f15cf4ed-8d78-4b58-8753-8a7a068055c1\"}, {\"boxpoints\": false, \"line\": {\"color\": \"#bf4d28\", \"width\": 1}, \"marker\": {\"opacity\": 0.8}, \"name\": \"2018-11-01 00:00:00\", \"showlegend\": false, \"whiskerwidth\": 0.5, \"y\": [1500.0, 975.0, 975.0, 675.0, 2025.0, 975.0, 1350.0, 1000.0, 5000.0, 975.0, 1000.0, 2500.0], \"type\": \"box\", \"uid\": \"7737a66d-2d37-41ac-8699-26c6c11a3a05\"}, {\"boxpoints\": false, \"line\": {\"color\": \"#bf4d28\", \"width\": 1}, \"marker\": {\"opacity\": 0.8}, \"name\": \"2018-12-01 00:00:00\", \"showlegend\": false, \"whiskerwidth\": 0.5, \"y\": [1000.0, 975.0, 750.0, 975.0, 2025.0, 1000.0, 1000.0, 975.0, 1500.0], \"type\": \"box\", \"uid\": \"59031c22-5521-4def-a3ed-be032f1ee2c8\"}, {\"boxpoints\": false, \"line\": {\"color\": \"#bf4d28\", \"width\": 1}, \"marker\": {\"opacity\": 0.8}, \"name\": \"2019-01-01 00:00:00\", \"showlegend\": false, \"whiskerwidth\": 0.5, \"y\": [2062.5, 975.0, 975.0, 2025.0, 2500.0, 975.0, 2500.0, 1050.0, 975.0, 1000.0, 450.0, 1000.0, 5700.0, 975.0], \"type\": \"box\", \"uid\": \"a94425c6-87c6-469e-be16-d46902a1bcf5\"}, {\"boxpoints\": false, \"line\": {\"color\": \"#bf4d28\", \"width\": 1}, \"marker\": {\"opacity\": 0.8}, \"name\": \"2019-02-01 00:00:00\", \"showlegend\": false, \"whiskerwidth\": 0.5, \"y\": [1000.0, 975.0, 1762.5, 675.0, 3750.0, 1000.0, 975.0, 2300.0, 525.0, 2500.0, 2062.5, 975.0, 1687.5, 1687.5, 975.0, 975.0, 1725.0, 975.0], \"type\": \"box\", \"uid\": \"6453b157-1c38-4245-9d21-58c26a4f6184\"}, {\"boxpoints\": false, \"line\": {\"color\": \"#bf4d28\", \"width\": 1}, \"marker\": {\"opacity\": 0.8}, \"name\": \"2019-03-01 00:00:00\", \"showlegend\": false, \"whiskerwidth\": 0.5, \"y\": [975.0, 2437.5, 1762.5, 1300.0, 975.0, 3750.0, 525.0, 1725.0, 975.0, 975.0, 2137.5], \"type\": \"box\", \"uid\": \"f987565f-38a7-448a-8587-6beee61120c5\"}, {\"boxpoints\": false, \"line\": {\"color\": \"#bf4d28\", \"width\": 1}, \"marker\": {\"opacity\": 0.8}, \"name\": \"2019-04-01 00:00:00\", \"showlegend\": false, \"whiskerwidth\": 0.5, \"y\": [975.0, 825.0, 450.0, 1762.5, 975.0, 3750.0, 862.5, 975.0, 3750.0, 2250.0, 3375.0, 3000.0, 4500.0, 1575.0, 975.0, 1800.0, 900.0, 637.5, 975.0], \"type\": \"box\", \"uid\": \"6422572c-e014-4aa3-8281-ba1b0ace5db2\"}], {\"autosize\": true, \"font\": {\"color\": \"#655643\", \"family\": \"Fira Sans Condensed\", \"size\": 12}, \"hidesources\": true, \"paper_bgcolor\": \"#fffaf0\", \"plot_bgcolor\": \"#fffaf0\", \"showlegend\": false, \"title\": \"Data Offers Monthly Salary Statistics\", \"titlefont\": {\"color\": \"#655643\", \"family\": \"Merryweather\", \"size\": 18}, \"xaxis\": {\"fixedrange\": true, \"hoverformat\": \"\", \"tickmode\": \"auto\", \"ticks\": \"outside\", \"type\": \"date\", \"zerolinecolor\": \"#655643\"}, \"yaxis\": {\"gridcolor\": \"#f2e6ce\", \"hoverformat\": \"{:,}\", \"range\": [0, 6000], \"rangemode\": \"tozero\", \"tickformat\": \"{:,}\", \"ticks\": \"outside\", \"tickwidth\": 1, \"title\": \"BGN\", \"type\": \"linear\"}}, {\"showLink\": true, \"linkText\": \"Export to plot.ly\", \"plotlyServerURL\": \"https://plot.ly\"})});</script><script type=\"text/javascript\">window.addEventListener(\"resize\", function(){window._Plotly.Plots.resize(document.getElementById(\"9fa9c5e2-9e5d-4ec6-94fc-249263beb24b\"));});</script>"
      ],
      "text/vnd.plotly.v1+html": [
       "<div id=\"9fa9c5e2-9e5d-4ec6-94fc-249263beb24b\" style=\"height: 525px; width: 100%;\" class=\"plotly-graph-div\"></div><script type=\"text/javascript\">require([\"plotly\"], function(Plotly) { window.PLOTLYENV=window.PLOTLYENV || {};window.PLOTLYENV.BASE_URL=\"https://plot.ly\";Plotly.newPlot(\"9fa9c5e2-9e5d-4ec6-94fc-249263beb24b\", [{\"boxpoints\": false, \"line\": {\"color\": \"#bf4d28\", \"width\": 1}, \"marker\": {\"opacity\": 0.8}, \"name\": \"2017-10-01 00:00:00\", \"showlegend\": false, \"whiskerwidth\": 0.5, \"y\": [3450.0, 6000.0, 4875.0, 4875.0, 4875.0, 3750.0, 3750.0, 3750.0], \"type\": \"box\", \"uid\": \"614f251b-b59a-410c-bf08-5e27de43a7c4\"}, {\"boxpoints\": false, \"line\": {\"color\": \"#bf4d28\", \"width\": 1}, \"marker\": {\"opacity\": 0.8}, \"name\": \"2017-11-01 00:00:00\", \"showlegend\": false, \"whiskerwidth\": 0.5, \"y\": [1237.5, 1237.5], \"type\": \"box\", \"uid\": \"44da39da-55bb-465b-9f74-7e918bba53f5\"}, {\"boxpoints\": false, \"line\": {\"color\": \"#bf4d28\", \"width\": 1}, \"marker\": {\"opacity\": 0.8}, \"name\": \"2017-12-01 00:00:00\", \"showlegend\": false, \"whiskerwidth\": 0.5, \"y\": [4875.0, 4875.0, 4875.0, 3750.0, 3750.0, 3750.0], \"type\": \"box\", \"uid\": \"43d3e537-2838-471b-80eb-f53b33063b34\"}, {\"boxpoints\": false, \"line\": {\"color\": \"#bf4d28\", \"width\": 1}, \"marker\": {\"opacity\": 0.8}, \"name\": \"2018-01-01 00:00:00\", \"showlegend\": false, \"whiskerwidth\": 0.5, \"y\": [1687.5, 1650.0, 1275.0, 4875.0], \"type\": \"box\", \"uid\": \"5023148a-f4b1-418a-b006-fd0fce6a45fb\"}, {\"boxpoints\": false, \"line\": {\"color\": \"#bf4d28\", \"width\": 1}, \"marker\": {\"opacity\": 0.8}, \"name\": \"2018-02-01 00:00:00\", \"showlegend\": false, \"whiskerwidth\": 0.5, \"y\": [975.0, 2025.0, 1650.0, 3500.0, 1612.5, 975.0, 2025.0], \"type\": \"box\", \"uid\": \"9b262685-9c16-4bac-88e4-cdb528b8eae3\"}, {\"boxpoints\": false, \"line\": {\"color\": \"#bf4d28\", \"width\": 1}, \"marker\": {\"opacity\": 0.8}, \"name\": \"2018-03-01 00:00:00\", \"showlegend\": false, \"whiskerwidth\": 0.5, \"y\": [975.0, 1500.0, 4500.0, 975.0, 2250.0, 975.0, 2250.0, 1875.0], \"type\": \"box\", \"uid\": \"a0ea57a2-97c8-4678-b3a7-0ba80eb6d5c9\"}, {\"boxpoints\": false, \"line\": {\"color\": \"#bf4d28\", \"width\": 1}, \"marker\": {\"opacity\": 0.8}, \"name\": \"2018-04-01 00:00:00\", \"showlegend\": false, \"whiskerwidth\": 0.5, \"y\": [1650.0, 1500.0, 975.0, 2025.0, 3500.0, 1575.0, 2250.0, 1875.0, 2062.5, 2250.0, 975.0], \"type\": \"box\", \"uid\": \"582c48eb-d3d4-4aab-90fd-09e7909b4793\"}, {\"boxpoints\": false, \"line\": {\"color\": \"#bf4d28\", \"width\": 1}, \"marker\": {\"opacity\": 0.8}, \"name\": \"2018-05-01 00:00:00\", \"showlegend\": false, \"whiskerwidth\": 0.5, \"y\": [1500.0, 1650.0, 1875.0, 900.0, 900.0, 2025.0, 2062.5, 1500.0], \"type\": \"box\", \"uid\": \"e1daf45c-5188-46a1-8801-78598c44c0e9\"}, {\"boxpoints\": false, \"line\": {\"color\": \"#bf4d28\", \"width\": 1}, \"marker\": {\"opacity\": 0.8}, \"name\": \"2018-06-01 00:00:00\", \"showlegend\": false, \"whiskerwidth\": 0.5, \"y\": [2300.0, 1650.0, 1237.5, 5700.0, 3000.0, 1500.0, 1687.5, 2062.5, 5000.0, 1500.0], \"type\": \"box\", \"uid\": \"a5ca2626-3c9c-4f7e-a81d-5522a9f4de84\"}, {\"boxpoints\": false, \"line\": {\"color\": \"#bf4d28\", \"width\": 1}, \"marker\": {\"opacity\": 0.8}, \"name\": \"2018-07-01 00:00:00\", \"showlegend\": false, \"whiskerwidth\": 0.5, \"y\": [1500.0, 2250.0, 5000.0, 5700.0, 5700.0, 5000.0, 975.0, 975.0, 1650.0, 2025.0, 975.0, 2300.0, 1500.0, 375.0, 1500.0, 975.0, 1000.0, 2250.0], \"type\": \"box\", \"uid\": \"f5bb7bb0-ff0c-4a77-9e82-37641e63259a\"}, {\"boxpoints\": false, \"line\": {\"color\": \"#bf4d28\", \"width\": 1}, \"marker\": {\"opacity\": 0.8}, \"name\": \"2018-08-01 00:00:00\", \"showlegend\": false, \"whiskerwidth\": 0.5, \"y\": [5000.0, 975.0, 1500.0, 975.0, 975.0, 5700.0, 5700.0, 7875.0, 2025.0, 2062.5, 975.0, 975.0, 1425.0, 3000.0], \"type\": \"box\", \"uid\": \"d42f0ac1-506f-4a80-b76a-c70d0696e19f\"}, {\"boxpoints\": false, \"line\": {\"color\": \"#bf4d28\", \"width\": 1}, \"marker\": {\"opacity\": 0.8}, \"name\": \"2018-09-01 00:00:00\", \"showlegend\": false, \"whiskerwidth\": 0.5, \"y\": [975.0, 1500.0, 1050.0, 975.0, 1500.0, 1425.0, 2025.0, 975.0, 975.0, 5000.0], \"type\": \"box\", \"uid\": \"1e274881-20ec-402b-a8d8-c11539f25d5a\"}, {\"boxpoints\": false, \"line\": {\"color\": \"#bf4d28\", \"width\": 1}, \"marker\": {\"opacity\": 0.8}, \"name\": \"2018-10-01 00:00:00\", \"showlegend\": false, \"whiskerwidth\": 0.5, \"y\": [975.0, 1050.0, 562.5, 975.0, 1500.0, 2500.0, 975.0, 2025.0, 1500.0, 1350.0, 5000.0, 975.0, 1500.0, 5000.0, 2500.0, 5700.0, 5700.0, 975.0], \"type\": \"box\", \"uid\": \"f15cf4ed-8d78-4b58-8753-8a7a068055c1\"}, {\"boxpoints\": false, \"line\": {\"color\": \"#bf4d28\", \"width\": 1}, \"marker\": {\"opacity\": 0.8}, \"name\": \"2018-11-01 00:00:00\", \"showlegend\": false, \"whiskerwidth\": 0.5, \"y\": [1500.0, 975.0, 975.0, 675.0, 2025.0, 975.0, 1350.0, 1000.0, 5000.0, 975.0, 1000.0, 2500.0], \"type\": \"box\", \"uid\": \"7737a66d-2d37-41ac-8699-26c6c11a3a05\"}, {\"boxpoints\": false, \"line\": {\"color\": \"#bf4d28\", \"width\": 1}, \"marker\": {\"opacity\": 0.8}, \"name\": \"2018-12-01 00:00:00\", \"showlegend\": false, \"whiskerwidth\": 0.5, \"y\": [1000.0, 975.0, 750.0, 975.0, 2025.0, 1000.0, 1000.0, 975.0, 1500.0], \"type\": \"box\", \"uid\": \"59031c22-5521-4def-a3ed-be032f1ee2c8\"}, {\"boxpoints\": false, \"line\": {\"color\": \"#bf4d28\", \"width\": 1}, \"marker\": {\"opacity\": 0.8}, \"name\": \"2019-01-01 00:00:00\", \"showlegend\": false, \"whiskerwidth\": 0.5, \"y\": [2062.5, 975.0, 975.0, 2025.0, 2500.0, 975.0, 2500.0, 1050.0, 975.0, 1000.0, 450.0, 1000.0, 5700.0, 975.0], \"type\": \"box\", \"uid\": \"a94425c6-87c6-469e-be16-d46902a1bcf5\"}, {\"boxpoints\": false, \"line\": {\"color\": \"#bf4d28\", \"width\": 1}, \"marker\": {\"opacity\": 0.8}, \"name\": \"2019-02-01 00:00:00\", \"showlegend\": false, \"whiskerwidth\": 0.5, \"y\": [1000.0, 975.0, 1762.5, 675.0, 3750.0, 1000.0, 975.0, 2300.0, 525.0, 2500.0, 2062.5, 975.0, 1687.5, 1687.5, 975.0, 975.0, 1725.0, 975.0], \"type\": \"box\", \"uid\": \"6453b157-1c38-4245-9d21-58c26a4f6184\"}, {\"boxpoints\": false, \"line\": {\"color\": \"#bf4d28\", \"width\": 1}, \"marker\": {\"opacity\": 0.8}, \"name\": \"2019-03-01 00:00:00\", \"showlegend\": false, \"whiskerwidth\": 0.5, \"y\": [975.0, 2437.5, 1762.5, 1300.0, 975.0, 3750.0, 525.0, 1725.0, 975.0, 975.0, 2137.5], \"type\": \"box\", \"uid\": \"f987565f-38a7-448a-8587-6beee61120c5\"}, {\"boxpoints\": false, \"line\": {\"color\": \"#bf4d28\", \"width\": 1}, \"marker\": {\"opacity\": 0.8}, \"name\": \"2019-04-01 00:00:00\", \"showlegend\": false, \"whiskerwidth\": 0.5, \"y\": [975.0, 825.0, 450.0, 1762.5, 975.0, 3750.0, 862.5, 975.0, 3750.0, 2250.0, 3375.0, 3000.0, 4500.0, 1575.0, 975.0, 1800.0, 900.0, 637.5, 975.0], \"type\": \"box\", \"uid\": \"6422572c-e014-4aa3-8281-ba1b0ace5db2\"}], {\"autosize\": true, \"font\": {\"color\": \"#655643\", \"family\": \"Fira Sans Condensed\", \"size\": 12}, \"hidesources\": true, \"paper_bgcolor\": \"#fffaf0\", \"plot_bgcolor\": \"#fffaf0\", \"showlegend\": false, \"title\": \"Data Offers Monthly Salary Statistics\", \"titlefont\": {\"color\": \"#655643\", \"family\": \"Merryweather\", \"size\": 18}, \"xaxis\": {\"fixedrange\": true, \"hoverformat\": \"\", \"tickmode\": \"auto\", \"ticks\": \"outside\", \"type\": \"date\", \"zerolinecolor\": \"#655643\"}, \"yaxis\": {\"gridcolor\": \"#f2e6ce\", \"hoverformat\": \"{:,}\", \"range\": [0, 6000], \"rangemode\": \"tozero\", \"tickformat\": \"{:,}\", \"ticks\": \"outside\", \"tickwidth\": 1, \"title\": \"BGN\", \"type\": \"linear\"}}, {\"showLink\": true, \"linkText\": \"Export to plot.ly\", \"plotlyServerURL\": \"https://plot.ly\"})});</script><script type=\"text/javascript\">window.addEventListener(\"resize\", function(){window._Plotly.Plots.resize(document.getElementById(\"9fa9c5e2-9e5d-4ec6-94fc-249263beb24b\"));});</script>"
      ]
     },
     "metadata": {},
     "output_type": "display_data"
    }
   ],
   "source": [
    "fig = go.Figure(data = data, layout = layout)\n",
    "\n",
    "plotly.offline.iplot(fig, filename = 'monthly_salary_statistics_data_offers.html')\n"
   ]
  },
  {
   "cell_type": "code",
   "execution_count": 10,
   "metadata": {},
   "outputs": [
    {
     "data": {
      "text/plain": [
       "'file:///data/WORKSPACE/jpynb_Employment_Trends_Bulgaria/workbooks/monthly_salary_statistics_data_offers.html'"
      ]
     },
     "execution_count": 10,
     "metadata": {},
     "output_type": "execute_result"
    }
   ],
   "source": [
    "# Uncomment the line below to export an HTML version of the chart.\n",
    "# plotly.offline.plot(fig, filename = 'monthly_salary_statistics_data_offers.html', show_link=False)"
   ]
  },
  {
   "cell_type": "code",
   "execution_count": 8,
   "metadata": {},
   "outputs": [
    {
     "data": {
      "text/html": [
       "<style>\n",
       "@import url('https://fonts.googleapis.com/css?family=Fira+Mono|Fira+Sans|Fira+Sans+Condensed|Fira+Sans+Extra+Condensed');\n",
       "@import url('https://fonts.googleapis.com/css?family=Merriweather|Merriweather+Sans');\n",
       "\n",
       ".nbviewer {\n",
       "    background-color: #E5E1D8;\n",
       "}\n",
       "\n",
       "#notebook {\n",
       "    background-color: #E5E1D8;\n",
       "}\n",
       "\n",
       "#notebook-container {\n",
       "    background-color: #FFFAF0;\n",
       "    max-width: 1100px;\n",
       "    border-radius: 4px;\n",
       "    -webkit-box-shadow: 0px 0px 12px 1px rgba(101,86,67,0.75);\n",
       "    -moz-box-shadow: 0px 0px 12px 1px rgba(101,86,67,0.75);\n",
       "    box-shadow: 0px 0px 12px 1px rgba(101,86,67,0.75);\n",
       "}\n",
       "\n",
       "/* Jupyter Notebook Header Styling */\n",
       "body > #header {\n",
       "    background-color:#fafafa;\n",
       "}\n",
       "\n",
       "#header #menubar #menus {\n",
       "    background-color:#fefefe;\n",
       "}\n",
       "\n",
       "/* Headings */\n",
       ".text_cell_render h1 {\n",
       "    color: #655B4F;\n",
       "    font-family: 'Merriweather', serif;\n",
       "    font-weight: 900;\n",
       "    text-align: center;\n",
       "    font-size: 3.0em;\n",
       "    padding: 40px 0 12px 0;\n",
       "    text-shadow: 0 2px #FFFAF0, 0 3px #8c8b8b;\n",
       "}\n",
       "\n",
       ".text_cell_render h2 {\n",
       "    color: #655B4F;\n",
       "    font-family: 'Merriweather', serif;\n",
       "    font-weight: 600;\n",
       "    font-size: 2.2em;\n",
       "    text-indent: 22px;\n",
       "    padding: 40px 0 6px 0;\n",
       "    margin-bottom: 24px;\n",
       "    border-bottom: 1px solid #655B4F;\n",
       "}\n",
       "\n",
       ".text_cell_render h3 {\n",
       "    color: #655B4F;\n",
       "    font-family: 'Merriweather', serif;\n",
       "    font-weight: 100;\n",
       "    padding: 6px 0 0 0;\n",
       "    font-size: 1.6em;\n",
       "}\n",
       "\n",
       ".text_cell_render h4 {\n",
       "    color: #655B4F;\n",
       "    font-family: 'Merriweather', serif;\n",
       "    font-weight: 100;\n",
       "    font-size: 1.2em;\n",
       "}\n",
       "\n",
       "/* Use for subtitles and other non-headings */\n",
       "div.rendered_html > h5 {\n",
       "    font-family: 'Merriweather', serif;\n",
       "    line-height: 1.5em;\n",
       "    color: #655B4F;\n",
       "    font-weight: 200;\n",
       "    font-style: normal important!;\n",
       "    text-indent: 22px;\n",
       "    text-align: center;\n",
       "    margin-top: 0.5em;\n",
       "    padding: 6px 0 6px 0;\n",
       "    border-bottom: 1px solid #655B4F;\n",
       "    border-top: 1px solid #655B4F;\n",
       "}\n",
       "\n",
       "/* Use for image and chart captions */\n",
       "div.rendered_html > h6 {\n",
       "    font-family: 'Merriweather Sans', sans-serif;\n",
       "    font-size: 0.9em;\n",
       "    line-height: 1.5em;\n",
       "    color: #cac8c9;\n",
       "    font-weight: normal;\n",
       "    max-width: 525px;\n",
       "    display: block;\n",
       "    margin-left: auto;\n",
       "    margin-right: auto;\n",
       "}\n",
       "\n",
       "div#notebook-container p {\n",
       "    font-family: 'Fira Sans Condensed', sans-serif;\n",
       "    font-size: 1.2em;\n",
       "    line-height: 1.3em;\n",
       "    color: #655B4F;\n",
       "}\n",
       "\n",
       "/* Plotly Exported Charts Styling */\n",
       ".js-plotly-plot .plotly,\n",
       ".js-plotly-plot .plotly div {\n",
       "    direction: ltr;\n",
       "    font-family: \"Fira Sans Extra Condensed\", verdana, arial, sans-serif;\n",
       "}\n",
       "\n",
       "/* Lists */\n",
       "ol, ul {\n",
       "    font-family: 'Fira Sans Condensed', sans-serif;\n",
       "    line-height: 1.3em;\n",
       "    color: #655B4F;\n",
       "}\n",
       "\n",
       "div.input_prompt {\n",
       "    color: #aad0bc;\n",
       "    font-size: 0.7em;\n",
       "}\n",
       "\n",
       "div.output_prompt {\n",
       "    color: #aad0bc;\n",
       "    font-size: 0.7em;\n",
       "}\n",
       "\n",
       "div.prompt {\n",
       "    min-width: 2ex;\n",
       "}\n",
       "\n",
       "div.output_subarea {\n",
       "    min-width: 425px;\n",
       "    max-width: calc(100% - 1ex);\n",
       "    padding: 0;\n",
       "}\n",
       "\n",
       "div.text_cell code {\n",
       "    padding: 2px;\n",
       "    background-color: #E5E1D8;\n",
       "    color: #483F3A;\n",
       "    font-family: 'Fira Mono', monospace;\n",
       "    font-size: 0.9em;\n",
       "}\n",
       "\n",
       "div.input_area {\n",
       "    background-color: #FFFAF0;\n",
       "    border: 1px solid #E5E1D8;\n",
       "    background: repeating-linear-gradient(135deg, #FFFAF0, #FFFAF0 5px, #F7F7ED 5px, #F7F7ED 10px);\n",
       "}\n",
       "\n",
       "div.cell.rendered.selected {\n",
       "    background: #F7F7ED;\n",
       "    border: 1px solid #293C34;\n",
       "}\n",
       "\n",
       "div.output_area img {\n",
       "    display: block;\n",
       "    margin-left: auto;\n",
       "    margin-right: auto;\n",
       "}\n",
       "\n",
       "div.rendered_html pre, code {\n",
       "    font-family: 'Fira Sans Condensed', sans-serif;\n",
       "    font-size: 16px;\n",
       "    font-weight: 400;\n",
       "    color: #40362F;\n",
       "    background-color: #E5E1D8;\n",
       "}\n",
       "\n",
       "div.output_text pre {\n",
       "    font-family: 'Fira Sans Condensed', sans-serif;\n",
       "    font-size: 13px;\n",
       "    font-weight: 300;\n",
       "    color: #40362F;\n",
       "}\n",
       "\n",
       "\n",
       "pre, textarea {\n",
       "    overflow: hidden;\n",
       "}\n",
       "\n",
       "div.text_cell_render img {\n",
       "    max-height: 550px;\n",
       "    display: block;\n",
       "    margin-left: auto;\n",
       "    margin-right: auto;\n",
       "}\n",
       "\n",
       "div.output output_scroll {\n",
       "    overflow-x: auto;\n",
       "    overflow-y: scroll;\n",
       "    max-height: 2000px;\n",
       "}\n",
       "\n",
       "div.rendered_html hr {\n",
       "    border: 0;\n",
       "    height: 1px;\n",
       "    background-color: #655B4F;\n",
       "}\n",
       "\n",
       "div.rendered_html pre, code {\n",
       "    color: #40362F;\n",
       "    background-color: #FFFAF0;\n",
       "}\n",
       "\n",
       "/* Links */\n",
       "a.link--embedview {\n",
       "    display: none;\n",
       "}\n",
       "\n",
       "a:link {\n",
       "    color: #293C34;\n",
       "}\n",
       "\n",
       "a:visited {\n",
       "    color: #293C34;\n",
       "}\n",
       "\n",
       "a:hover {\n",
       "    color: #557C6C;\n",
       "}\n",
       "\n",
       "a:focus {\n",
       "    color:#557C6C;\n",
       "}\n",
       "\n",
       "a:active {\n",
       "    font-weight: bold;\n",
       "    color:#80BCA3;\n",
       "}\n",
       "\n",
       ".rendered_html :link {\n",
       "    text-decoration: underline;\n",
       "}\n",
       "\n",
       "/* Colors for code highlighting */\n",
       ".CodeMirror pre {\n",
       "    font-family: 'Fira Mono', monospace;\n",
       "    font-size: 0.9em;\n",
       "    font-weight: 600;\n",
       "    letter-spacing: -2px;\n",
       "}\n",
       "\n",
       ".CodeMirror-code span.cm-keyword,\n",
       ".highlight .k,\n",
       ".highlight .ow {\n",
       "    color: #5F362E;\n",
       "}\n",
       "\n",
       ".CodeMirror-code span.cm-variable,\n",
       ".highlight .na {\n",
       "    color: #655B4F;\n",
       "}\n",
       "\n",
       ".CodeMirror-code span.cm-property {\n",
       "    color: #655B4F;\n",
       "}\n",
       "\n",
       ".CodeMirror-code span.cm-def {\n",
       "    color: #293C34;\n",
       "}\n",
       "\n",
       ".CodeMirror-code span.cm-operator {\n",
       "    color: #655B4F;\n",
       "}\n",
       "\n",
       ".CodeMirror-code span.cm-string,\n",
       ".highlight .s {\n",
       "    color: #0B7761;\n",
       "}\n",
       "\n",
       ".CodeMirror-code span.cm-number,\n",
       ".highlight .mb, .highlight .mf, .highlight .mh, .highlight .mi, .highlight .mo {\n",
       "    color: #265BCA;\n",
       "}\n",
       "\n",
       ".CodeMirror-code span.cm-comment,\n",
       ".highlight .c1, .highlight .cs {\n",
       "    color: #75AC95;\n",
       "}\n",
       "\n",
       ".CodeMirror-code span.cm-builtin,\n",
       ".highlight .nb {\n",
       "    color: #5F362E;\n",
       "}\n",
       "\n",
       "/* Code with no class applied (brackets mostly) */\n",
       ".CodeMirror-line > span {\n",
       "    color: #72614B;\n",
       "}\n",
       "\n",
       "/* Table styles */\n",
       "table {\n",
       "    border: 1px solid #BF4D28;\n",
       "}\n",
       "\n",
       ".rendered_html table {\n",
       "    float: middle;\n",
       "    border-collapse: collapse;\n",
       "}\n",
       "\n",
       ".rendered_html table th {\n",
       "    color: #40362F;\n",
       "    text-align: left;\n",
       "    background-color: #f2e6ce;\n",
       "}\n",
       "\n",
       ".rendered_html td {\n",
       "    color: #40362F;\n",
       "    text-align: left;\n",
       "}\n",
       "\n",
       ".rendered_html table tr:nth-child(odd) {\n",
       "    background-color: #F7F7ED;\n",
       "}\n",
       "\n",
       ".rendered_html table tr:nth-child(even) {\n",
       "    background-color: #FFFAF0;\n",
       "}\n",
       "\n",
       ".rendered_html table tr:hover {\n",
       "    background-color: #BF4D28;\n",
       "}\n",
       "\n",
       "iframe {\n",
       "    border-width: 0;\n",
       "}\n",
       "</style>\n"
      ],
      "text/plain": [
       "<IPython.core.display.HTML object>"
      ]
     },
     "execution_count": 8,
     "metadata": {},
     "output_type": "execute_result"
    }
   ],
   "source": [
    "from IPython.core.display import HTML\n",
    "with open('../resources/styles/datum.css', 'r') as f:\n",
    "    style = f.read()\n",
    "HTML(style)"
   ]
  }
 ],
 "metadata": {
  "kernelspec": {
   "display_name": "Python 3",
   "language": "python",
   "name": "python3"
  },
  "language_info": {
   "codemirror_mode": {
    "name": "ipython",
    "version": 3
   },
   "file_extension": ".py",
   "mimetype": "text/x-python",
   "name": "python",
   "nbconvert_exporter": "python",
   "pygments_lexer": "ipython3",
   "version": "3.7.3"
  }
 },
 "nbformat": 4,
 "nbformat_minor": 2
}
