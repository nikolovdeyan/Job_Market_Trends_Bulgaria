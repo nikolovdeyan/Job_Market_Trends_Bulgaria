{
 "cells": [
  {
   "cell_type": "markdown",
   "metadata": {},
   "source": [
    "## Data Monthly Salary Statistics"
   ]
  },
  {
   "cell_type": "code",
   "execution_count": 1,
   "metadata": {},
   "outputs": [
    {
     "data": {
      "text/html": [
       "<script type=\"text/javascript\">window.PlotlyConfig = {MathJaxConfig: 'local'};</script><script type=\"text/javascript\">if (window.MathJax) {MathJax.Hub.Config({SVG: {font: \"STIX-Web\"}});}</script><script>requirejs.config({paths: { 'plotly': ['https://cdn.plot.ly/plotly-latest.min']},});if(!window._Plotly) {require(['plotly'],function(plotly) {window._Plotly=plotly;});}</script>"
      ],
      "text/vnd.plotly.v1+html": [
       "<script type=\"text/javascript\">window.PlotlyConfig = {MathJaxConfig: 'local'};</script><script type=\"text/javascript\">if (window.MathJax) {MathJax.Hub.Config({SVG: {font: \"STIX-Web\"}});}</script><script>requirejs.config({paths: { 'plotly': ['https://cdn.plot.ly/plotly-latest.min']},});if(!window._Plotly) {require(['plotly'],function(plotly) {window._Plotly=plotly;});}</script>"
      ]
     },
     "metadata": {},
     "output_type": "display_data"
    }
   ],
   "source": [
    "import datetime\n",
    "import psycopg2\n",
    "import pandas as pd\n",
    "import matplotlib\n",
    "import matplotlib.pyplot as plt\n",
    "import matplotlib.dates as mdates\n",
    "import ipywidgets as widgets\n",
    "import plotly\n",
    "import plotly.plotly as py\n",
    "import plotly.graph_objs as go\n",
    "\n",
    "from nbstyler import DATA_STYLE as DS\n",
    "\n",
    "plotly.offline.init_notebook_mode(connected=True) # run at the start of every ipython notebook to use plotly.offline\n",
    "\n",
    "\n",
    "%matplotlib notebook\n",
    "%matplotlib inline"
   ]
  },
  {
   "cell_type": "markdown",
   "metadata": {},
   "source": [
    "### Objectives\n",
    "\n",
    "Create a box plot chart to illustrate basic statistical variables calculated for data job offers in Bulgaria.\n"
   ]
  },
  {
   "cell_type": "markdown",
   "metadata": {},
   "source": [
    "### Data Preparation\n",
    "\n",
    "For the box plot chart Plotly requires all values for the respective aggregation level and calculates the statistics on the fly. As the concatenation of the individual values per aggregation level takes some time a materialized view was utilized in PostgreSQL.\n",
    "\n",
    "A `Pandas.DataFrame` is constructed for each dataset and the first and last time periods for each dataset is dropped to remove incomplete time periods at the start and finish. This step also converts the `Pandas.DataFrame.Index` to `DateTimeIndex` to utilize the temporal methods that it exposes."
   ]
  },
  {
   "cell_type": "markdown",
   "metadata": {},
   "source": [
    "### Data Preparation"
   ]
  },
  {
   "cell_type": "code",
   "execution_count": 2,
   "metadata": {},
   "outputs": [],
   "source": [
    "conn = psycopg2.connect(\"dbname=jobsbg\")\n",
    "\n",
    "sstats_monthly = pd.read_sql_query('SELECT * FROM mv_data_jobs_salary_lists_monthly', conn, index_col = 'month_ts')\n",
    "\n",
    "sstats_monthly = sstats_monthly[1:-1]\n",
    "\n",
    "sstats_monthly.index = pd.to_datetime(sstats_monthly.index)"
   ]
  },
  {
   "cell_type": "code",
   "execution_count": 3,
   "metadata": {
    "scrolled": true
   },
   "outputs": [
    {
     "data": {
      "text/html": [
       "<div>\n",
       "<style scoped>\n",
       "    .dataframe tbody tr th:only-of-type {\n",
       "        vertical-align: middle;\n",
       "    }\n",
       "\n",
       "    .dataframe tbody tr th {\n",
       "        vertical-align: top;\n",
       "    }\n",
       "\n",
       "    .dataframe thead th {\n",
       "        text-align: right;\n",
       "    }\n",
       "</style>\n",
       "<table border=\"1\" class=\"dataframe\">\n",
       "  <thead>\n",
       "    <tr style=\"text-align: right;\">\n",
       "      <th></th>\n",
       "      <th>sample_size</th>\n",
       "      <th>sample_list</th>\n",
       "    </tr>\n",
       "    <tr>\n",
       "      <th>month_ts</th>\n",
       "      <th></th>\n",
       "      <th></th>\n",
       "    </tr>\n",
       "  </thead>\n",
       "  <tbody>\n",
       "    <tr>\n",
       "      <th>2017-10-01</th>\n",
       "      <td>8</td>\n",
       "      <td>3450.00,6000.00,4875.00,4875.00,4875.00,3750.0...</td>\n",
       "    </tr>\n",
       "    <tr>\n",
       "      <th>2017-11-01</th>\n",
       "      <td>2</td>\n",
       "      <td>1237.50,1237.50</td>\n",
       "    </tr>\n",
       "    <tr>\n",
       "      <th>2017-12-01</th>\n",
       "      <td>6</td>\n",
       "      <td>4875.00,4875.00,4875.00,3750.00,3750.00,3750.00</td>\n",
       "    </tr>\n",
       "  </tbody>\n",
       "</table>\n",
       "</div>"
      ],
      "text/plain": [
       "            sample_size                                        sample_list\n",
       "month_ts                                                                  \n",
       "2017-10-01            8  3450.00,6000.00,4875.00,4875.00,4875.00,3750.0...\n",
       "2017-11-01            2                                    1237.50,1237.50\n",
       "2017-12-01            6    4875.00,4875.00,4875.00,3750.00,3750.00,3750.00"
      ]
     },
     "execution_count": 3,
     "metadata": {},
     "output_type": "execute_result"
    }
   ],
   "source": [
    "sstats_monthly.head(3)"
   ]
  },
  {
   "cell_type": "markdown",
   "metadata": {},
   "source": [
    "### Implementing the Chart in Plotly"
   ]
  },
  {
   "cell_type": "code",
   "execution_count": 4,
   "metadata": {},
   "outputs": [],
   "source": [
    "x_vals = [month for month in sstats_monthly.index]\n",
    "y_vals = []\n",
    "\n",
    "for l in sstats_monthly.sample_list:\n",
    "    values  = [float(val) for val in l.split(',')]\n",
    "    y_vals.append(values)"
   ]
  },
  {
   "cell_type": "code",
   "execution_count": 5,
   "metadata": {},
   "outputs": [],
   "source": [
    "data = []\n",
    "for j in range(len(x_vals)):\n",
    "    trace = go.Box(\n",
    "        name=str(sstats_monthly.index[j]),\n",
    "        y=y_vals[j],\n",
    "        marker=dict(\n",
    "            color=DS['colors']['acc1'],),\n",
    "        line=dict(\n",
    "            width=1,\n",
    "        ),\n",
    "        whiskerwidth=0.5,\n",
    "        boxpoints=False,\n",
    "        showlegend=False, \n",
    "    )\n",
    "    data.append(trace)"
   ]
  },
  {
   "cell_type": "markdown",
   "metadata": {},
   "source": [
    "Plotly buttons and defined interactions to make the chart interactive"
   ]
  },
  {
   "cell_type": "code",
   "execution_count": 6,
   "metadata": {},
   "outputs": [],
   "source": [
    "layout = go.Layout(\n",
    "    # boxmode = 'group',\n",
    "    paper_bgcolor=DS['colors']['bg1'],            \n",
    "    plot_bgcolor=DS['colors']['bg1'],\n",
    "    title = 'Data Offers Monthly Salary Statistics',\n",
    "    titlefont=DS['chart_fonts']['title'],\n",
    "    font=DS['chart_fonts']['text'],\n",
    "    autosize=True,\n",
    "    showlegend=False,\n",
    "    hidesources=True,\n",
    "    xaxis = dict(\n",
    "        title='Month',\n",
    "        type='date',\n",
    "        fixedrange=True,\n",
    "        hoverformat='',\n",
    "        ticks='outside',\n",
    "        tickmode='auto',\n",
    "        zerolinecolor=DS['colors']['fg2'],\n",
    "    ),\n",
    "    yaxis = dict(\n",
    "        title='',\n",
    "        type='linear',\n",
    "        range=[0, 6000],\n",
    "        rangemode='tozero',\n",
    "        hoverformat='{:,}',\n",
    "        tickformat='{:,}',\n",
    "        ticks='outside',\n",
    "        tickwidth=1,\n",
    "    ),\n",
    ")"
   ]
  },
  {
   "cell_type": "code",
   "execution_count": 11,
   "metadata": {},
   "outputs": [
    {
     "data": {
      "application/vnd.plotly.v1+json": {
       "config": {
        "linkText": "Export to plot.ly",
        "plotlyServerURL": "https://plot.ly",
        "showLink": true
       },
       "data": [
        {
         "boxpoints": false,
         "line": {
          "width": 1
         },
         "marker": {
          "color": "#bf4d28"
         },
         "name": "2017-10-01 00:00:00",
         "showlegend": false,
         "type": "box",
         "uid": "135c5c1b-0676-4990-82df-b2eb41702415",
         "whiskerwidth": 0.5,
         "y": [
          3450,
          6000,
          4875,
          4875,
          4875,
          3750,
          3750,
          3750
         ]
        },
        {
         "boxpoints": false,
         "line": {
          "width": 1
         },
         "marker": {
          "color": "#bf4d28"
         },
         "name": "2017-11-01 00:00:00",
         "showlegend": false,
         "type": "box",
         "uid": "37eca43f-ea31-48a3-b33d-d466d5feb91f",
         "whiskerwidth": 0.5,
         "y": [
          1237.5,
          1237.5
         ]
        },
        {
         "boxpoints": false,
         "line": {
          "width": 1
         },
         "marker": {
          "color": "#bf4d28"
         },
         "name": "2017-12-01 00:00:00",
         "showlegend": false,
         "type": "box",
         "uid": "963efc66-ba8e-4b62-b1db-e3f1663d1764",
         "whiskerwidth": 0.5,
         "y": [
          4875,
          4875,
          4875,
          3750,
          3750,
          3750
         ]
        },
        {
         "boxpoints": false,
         "line": {
          "width": 1
         },
         "marker": {
          "color": "#bf4d28"
         },
         "name": "2018-01-01 00:00:00",
         "showlegend": false,
         "type": "box",
         "uid": "ca14938e-1041-488a-a487-78d4177ff3b2",
         "whiskerwidth": 0.5,
         "y": [
          1687.5,
          1650,
          1275,
          4875
         ]
        },
        {
         "boxpoints": false,
         "line": {
          "width": 1
         },
         "marker": {
          "color": "#bf4d28"
         },
         "name": "2018-02-01 00:00:00",
         "showlegend": false,
         "type": "box",
         "uid": "287fc8f0-88e5-4505-b56d-c4bbc6525149",
         "whiskerwidth": 0.5,
         "y": [
          975,
          2025,
          1650,
          3500,
          1612.5,
          975,
          2025
         ]
        },
        {
         "boxpoints": false,
         "line": {
          "width": 1
         },
         "marker": {
          "color": "#bf4d28"
         },
         "name": "2018-03-01 00:00:00",
         "showlegend": false,
         "type": "box",
         "uid": "fd417ae5-72fe-4150-9336-6d6137b7dec4",
         "whiskerwidth": 0.5,
         "y": [
          975,
          1500,
          4500,
          975,
          2250,
          975,
          2250,
          1875
         ]
        },
        {
         "boxpoints": false,
         "line": {
          "width": 1
         },
         "marker": {
          "color": "#bf4d28"
         },
         "name": "2018-04-01 00:00:00",
         "showlegend": false,
         "type": "box",
         "uid": "227639a1-acda-4566-903c-90ae2b03b08d",
         "whiskerwidth": 0.5,
         "y": [
          1650,
          1500,
          975,
          2025,
          3500,
          1575,
          2250,
          1875,
          2062.5,
          2250,
          975
         ]
        },
        {
         "boxpoints": false,
         "line": {
          "width": 1
         },
         "marker": {
          "color": "#bf4d28"
         },
         "name": "2018-05-01 00:00:00",
         "showlegend": false,
         "type": "box",
         "uid": "b6fabb43-06bf-4662-a80a-2e528e73b36c",
         "whiskerwidth": 0.5,
         "y": [
          1500,
          1650,
          1875,
          900,
          900,
          2025,
          2062.5,
          1500
         ]
        },
        {
         "boxpoints": false,
         "line": {
          "width": 1
         },
         "marker": {
          "color": "#bf4d28"
         },
         "name": "2018-06-01 00:00:00",
         "showlegend": false,
         "type": "box",
         "uid": "0860aa4c-4ad2-4cd9-abf5-9ad3d5725ac8",
         "whiskerwidth": 0.5,
         "y": [
          2300,
          1650,
          1237.5,
          5700,
          3000,
          1500,
          1687.5,
          2062.5,
          5000,
          1500
         ]
        },
        {
         "boxpoints": false,
         "line": {
          "width": 1
         },
         "marker": {
          "color": "#bf4d28"
         },
         "name": "2018-07-01 00:00:00",
         "showlegend": false,
         "type": "box",
         "uid": "4b27b670-0911-4298-84cb-9e2a9eb11c5e",
         "whiskerwidth": 0.5,
         "y": [
          1500,
          2250,
          5000,
          5700,
          5700,
          5000,
          975,
          975,
          1650,
          2025,
          975,
          2300,
          1500,
          375,
          1500,
          975,
          1000,
          2250
         ]
        },
        {
         "boxpoints": false,
         "line": {
          "width": 1
         },
         "marker": {
          "color": "#bf4d28"
         },
         "name": "2018-08-01 00:00:00",
         "showlegend": false,
         "type": "box",
         "uid": "1c363468-7b41-46dd-b87f-626a3e41105f",
         "whiskerwidth": 0.5,
         "y": [
          5000,
          975,
          1500,
          975,
          975,
          5700,
          5700,
          7875,
          2025,
          2062.5,
          975,
          975,
          1425,
          3000
         ]
        },
        {
         "boxpoints": false,
         "line": {
          "width": 1
         },
         "marker": {
          "color": "#bf4d28"
         },
         "name": "2018-09-01 00:00:00",
         "showlegend": false,
         "type": "box",
         "uid": "011b166a-6667-4626-ac40-8e99796fef22",
         "whiskerwidth": 0.5,
         "y": [
          975,
          1500,
          1050,
          975,
          1500,
          1425,
          2025,
          975,
          975,
          5000
         ]
        },
        {
         "boxpoints": false,
         "line": {
          "width": 1
         },
         "marker": {
          "color": "#bf4d28"
         },
         "name": "2018-10-01 00:00:00",
         "showlegend": false,
         "type": "box",
         "uid": "948c7274-1336-487f-abc6-697641f82457",
         "whiskerwidth": 0.5,
         "y": [
          975,
          1050,
          562.5,
          975,
          1500,
          2500,
          975,
          2025,
          1500,
          1350,
          5000,
          975,
          1500,
          5000,
          2500,
          5700,
          5700,
          975
         ]
        },
        {
         "boxpoints": false,
         "line": {
          "width": 1
         },
         "marker": {
          "color": "#bf4d28"
         },
         "name": "2018-11-01 00:00:00",
         "showlegend": false,
         "type": "box",
         "uid": "50fd7b17-20eb-4a60-b2a4-35494888b87c",
         "whiskerwidth": 0.5,
         "y": [
          1500,
          975,
          975,
          675,
          2025,
          975,
          1350,
          1000,
          5000,
          975,
          1000,
          2500
         ]
        },
        {
         "boxpoints": false,
         "line": {
          "width": 1
         },
         "marker": {
          "color": "#bf4d28"
         },
         "name": "2018-12-01 00:00:00",
         "showlegend": false,
         "type": "box",
         "uid": "7032236e-5d74-45f7-a8ed-4be3e14f8da6",
         "whiskerwidth": 0.5,
         "y": [
          1000,
          975,
          750,
          975,
          2025,
          1000,
          1000,
          975,
          1500
         ]
        },
        {
         "boxpoints": false,
         "line": {
          "width": 1
         },
         "marker": {
          "color": "#bf4d28"
         },
         "name": "2019-01-01 00:00:00",
         "showlegend": false,
         "type": "box",
         "uid": "425105bb-0615-47ac-ba0a-da055e4b93e5",
         "whiskerwidth": 0.5,
         "y": [
          2062.5,
          975,
          975,
          2025,
          2500,
          975,
          2500,
          1050,
          975,
          1000,
          450,
          1000,
          5700,
          975
         ]
        },
        {
         "boxpoints": false,
         "line": {
          "width": 1
         },
         "marker": {
          "color": "#bf4d28"
         },
         "name": "2019-02-01 00:00:00",
         "showlegend": false,
         "type": "box",
         "uid": "eecc57e0-536d-41a5-af67-7bb149117570",
         "whiskerwidth": 0.5,
         "y": [
          1000,
          975,
          1762.5,
          675,
          3750,
          1000,
          975,
          2300,
          525,
          2500,
          2062.5,
          975,
          1687.5,
          1687.5,
          975,
          975,
          1725,
          975
         ]
        },
        {
         "boxpoints": false,
         "line": {
          "width": 1
         },
         "marker": {
          "color": "#bf4d28"
         },
         "name": "2019-03-01 00:00:00",
         "showlegend": false,
         "type": "box",
         "uid": "4db60260-a043-4535-acfa-a29a383debdd",
         "whiskerwidth": 0.5,
         "y": [
          975,
          2437.5,
          1762.5,
          1300,
          975,
          3750,
          525,
          1725,
          975,
          975,
          2137.5
         ]
        },
        {
         "boxpoints": false,
         "line": {
          "width": 1
         },
         "marker": {
          "color": "#bf4d28"
         },
         "name": "2019-04-01 00:00:00",
         "showlegend": false,
         "type": "box",
         "uid": "22c705e3-e63c-439c-a1dd-615f3a2bc555",
         "whiskerwidth": 0.5,
         "y": [
          975,
          825,
          450,
          1762.5,
          975,
          3750,
          862.5,
          975,
          3750,
          2250,
          3375,
          3000,
          4500,
          1575,
          975,
          1800,
          900,
          637.5,
          975
         ]
        }
       ],
       "layout": {
        "autosize": true,
        "font": {
         "color": "#655643",
         "family": "Fira Sans Condensed",
         "size": 12
        },
        "hidesources": true,
        "paper_bgcolor": "#fffaf0",
        "plot_bgcolor": "#fffaf0",
        "showlegend": false,
        "title": "Data Offers Monthly Salary Statistics",
        "titlefont": {
         "color": "#655643",
         "family": "Merryweather",
         "size": 18
        },
        "xaxis": {
         "fixedrange": true,
         "hoverformat": "",
         "tickmode": "auto",
         "ticks": "outside",
         "title": "Month",
         "type": "date",
         "zerolinecolor": "#655643"
        },
        "yaxis": {
         "hoverformat": "{:,}",
         "range": [
          0,
          6000
         ],
         "rangemode": "tozero",
         "tickformat": "{:,}",
         "ticks": "outside",
         "tickwidth": 1,
         "title": "",
         "type": "linear"
        }
       }
      },
      "text/html": [
       "<div id=\"0da60ed6-8cb0-4a7a-a7ad-2e3a23c7f287\" style=\"height: 525px; width: 100%;\" class=\"plotly-graph-div\"></div><script type=\"text/javascript\">require([\"plotly\"], function(Plotly) { window.PLOTLYENV=window.PLOTLYENV || {};window.PLOTLYENV.BASE_URL=\"https://plot.ly\";Plotly.newPlot(\"0da60ed6-8cb0-4a7a-a7ad-2e3a23c7f287\", [{\"boxpoints\": false, \"line\": {\"width\": 1}, \"marker\": {\"color\": \"#bf4d28\"}, \"name\": \"2017-10-01 00:00:00\", \"showlegend\": false, \"whiskerwidth\": 0.5, \"y\": [3450.0, 6000.0, 4875.0, 4875.0, 4875.0, 3750.0, 3750.0, 3750.0], \"type\": \"box\", \"uid\": \"135c5c1b-0676-4990-82df-b2eb41702415\"}, {\"boxpoints\": false, \"line\": {\"width\": 1}, \"marker\": {\"color\": \"#bf4d28\"}, \"name\": \"2017-11-01 00:00:00\", \"showlegend\": false, \"whiskerwidth\": 0.5, \"y\": [1237.5, 1237.5], \"type\": \"box\", \"uid\": \"37eca43f-ea31-48a3-b33d-d466d5feb91f\"}, {\"boxpoints\": false, \"line\": {\"width\": 1}, \"marker\": {\"color\": \"#bf4d28\"}, \"name\": \"2017-12-01 00:00:00\", \"showlegend\": false, \"whiskerwidth\": 0.5, \"y\": [4875.0, 4875.0, 4875.0, 3750.0, 3750.0, 3750.0], \"type\": \"box\", \"uid\": \"963efc66-ba8e-4b62-b1db-e3f1663d1764\"}, {\"boxpoints\": false, \"line\": {\"width\": 1}, \"marker\": {\"color\": \"#bf4d28\"}, \"name\": \"2018-01-01 00:00:00\", \"showlegend\": false, \"whiskerwidth\": 0.5, \"y\": [1687.5, 1650.0, 1275.0, 4875.0], \"type\": \"box\", \"uid\": \"ca14938e-1041-488a-a487-78d4177ff3b2\"}, {\"boxpoints\": false, \"line\": {\"width\": 1}, \"marker\": {\"color\": \"#bf4d28\"}, \"name\": \"2018-02-01 00:00:00\", \"showlegend\": false, \"whiskerwidth\": 0.5, \"y\": [975.0, 2025.0, 1650.0, 3500.0, 1612.5, 975.0, 2025.0], \"type\": \"box\", \"uid\": \"287fc8f0-88e5-4505-b56d-c4bbc6525149\"}, {\"boxpoints\": false, \"line\": {\"width\": 1}, \"marker\": {\"color\": \"#bf4d28\"}, \"name\": \"2018-03-01 00:00:00\", \"showlegend\": false, \"whiskerwidth\": 0.5, \"y\": [975.0, 1500.0, 4500.0, 975.0, 2250.0, 975.0, 2250.0, 1875.0], \"type\": \"box\", \"uid\": \"fd417ae5-72fe-4150-9336-6d6137b7dec4\"}, {\"boxpoints\": false, \"line\": {\"width\": 1}, \"marker\": {\"color\": \"#bf4d28\"}, \"name\": \"2018-04-01 00:00:00\", \"showlegend\": false, \"whiskerwidth\": 0.5, \"y\": [1650.0, 1500.0, 975.0, 2025.0, 3500.0, 1575.0, 2250.0, 1875.0, 2062.5, 2250.0, 975.0], \"type\": \"box\", \"uid\": \"227639a1-acda-4566-903c-90ae2b03b08d\"}, {\"boxpoints\": false, \"line\": {\"width\": 1}, \"marker\": {\"color\": \"#bf4d28\"}, \"name\": \"2018-05-01 00:00:00\", \"showlegend\": false, \"whiskerwidth\": 0.5, \"y\": [1500.0, 1650.0, 1875.0, 900.0, 900.0, 2025.0, 2062.5, 1500.0], \"type\": \"box\", \"uid\": \"b6fabb43-06bf-4662-a80a-2e528e73b36c\"}, {\"boxpoints\": false, \"line\": {\"width\": 1}, \"marker\": {\"color\": \"#bf4d28\"}, \"name\": \"2018-06-01 00:00:00\", \"showlegend\": false, \"whiskerwidth\": 0.5, \"y\": [2300.0, 1650.0, 1237.5, 5700.0, 3000.0, 1500.0, 1687.5, 2062.5, 5000.0, 1500.0], \"type\": \"box\", \"uid\": \"0860aa4c-4ad2-4cd9-abf5-9ad3d5725ac8\"}, {\"boxpoints\": false, \"line\": {\"width\": 1}, \"marker\": {\"color\": \"#bf4d28\"}, \"name\": \"2018-07-01 00:00:00\", \"showlegend\": false, \"whiskerwidth\": 0.5, \"y\": [1500.0, 2250.0, 5000.0, 5700.0, 5700.0, 5000.0, 975.0, 975.0, 1650.0, 2025.0, 975.0, 2300.0, 1500.0, 375.0, 1500.0, 975.0, 1000.0, 2250.0], \"type\": \"box\", \"uid\": \"4b27b670-0911-4298-84cb-9e2a9eb11c5e\"}, {\"boxpoints\": false, \"line\": {\"width\": 1}, \"marker\": {\"color\": \"#bf4d28\"}, \"name\": \"2018-08-01 00:00:00\", \"showlegend\": false, \"whiskerwidth\": 0.5, \"y\": [5000.0, 975.0, 1500.0, 975.0, 975.0, 5700.0, 5700.0, 7875.0, 2025.0, 2062.5, 975.0, 975.0, 1425.0, 3000.0], \"type\": \"box\", \"uid\": \"1c363468-7b41-46dd-b87f-626a3e41105f\"}, {\"boxpoints\": false, \"line\": {\"width\": 1}, \"marker\": {\"color\": \"#bf4d28\"}, \"name\": \"2018-09-01 00:00:00\", \"showlegend\": false, \"whiskerwidth\": 0.5, \"y\": [975.0, 1500.0, 1050.0, 975.0, 1500.0, 1425.0, 2025.0, 975.0, 975.0, 5000.0], \"type\": \"box\", \"uid\": \"011b166a-6667-4626-ac40-8e99796fef22\"}, {\"boxpoints\": false, \"line\": {\"width\": 1}, \"marker\": {\"color\": \"#bf4d28\"}, \"name\": \"2018-10-01 00:00:00\", \"showlegend\": false, \"whiskerwidth\": 0.5, \"y\": [975.0, 1050.0, 562.5, 975.0, 1500.0, 2500.0, 975.0, 2025.0, 1500.0, 1350.0, 5000.0, 975.0, 1500.0, 5000.0, 2500.0, 5700.0, 5700.0, 975.0], \"type\": \"box\", \"uid\": \"948c7274-1336-487f-abc6-697641f82457\"}, {\"boxpoints\": false, \"line\": {\"width\": 1}, \"marker\": {\"color\": \"#bf4d28\"}, \"name\": \"2018-11-01 00:00:00\", \"showlegend\": false, \"whiskerwidth\": 0.5, \"y\": [1500.0, 975.0, 975.0, 675.0, 2025.0, 975.0, 1350.0, 1000.0, 5000.0, 975.0, 1000.0, 2500.0], \"type\": \"box\", \"uid\": \"50fd7b17-20eb-4a60-b2a4-35494888b87c\"}, {\"boxpoints\": false, \"line\": {\"width\": 1}, \"marker\": {\"color\": \"#bf4d28\"}, \"name\": \"2018-12-01 00:00:00\", \"showlegend\": false, \"whiskerwidth\": 0.5, \"y\": [1000.0, 975.0, 750.0, 975.0, 2025.0, 1000.0, 1000.0, 975.0, 1500.0], \"type\": \"box\", \"uid\": \"7032236e-5d74-45f7-a8ed-4be3e14f8da6\"}, {\"boxpoints\": false, \"line\": {\"width\": 1}, \"marker\": {\"color\": \"#bf4d28\"}, \"name\": \"2019-01-01 00:00:00\", \"showlegend\": false, \"whiskerwidth\": 0.5, \"y\": [2062.5, 975.0, 975.0, 2025.0, 2500.0, 975.0, 2500.0, 1050.0, 975.0, 1000.0, 450.0, 1000.0, 5700.0, 975.0], \"type\": \"box\", \"uid\": \"425105bb-0615-47ac-ba0a-da055e4b93e5\"}, {\"boxpoints\": false, \"line\": {\"width\": 1}, \"marker\": {\"color\": \"#bf4d28\"}, \"name\": \"2019-02-01 00:00:00\", \"showlegend\": false, \"whiskerwidth\": 0.5, \"y\": [1000.0, 975.0, 1762.5, 675.0, 3750.0, 1000.0, 975.0, 2300.0, 525.0, 2500.0, 2062.5, 975.0, 1687.5, 1687.5, 975.0, 975.0, 1725.0, 975.0], \"type\": \"box\", \"uid\": \"eecc57e0-536d-41a5-af67-7bb149117570\"}, {\"boxpoints\": false, \"line\": {\"width\": 1}, \"marker\": {\"color\": \"#bf4d28\"}, \"name\": \"2019-03-01 00:00:00\", \"showlegend\": false, \"whiskerwidth\": 0.5, \"y\": [975.0, 2437.5, 1762.5, 1300.0, 975.0, 3750.0, 525.0, 1725.0, 975.0, 975.0, 2137.5], \"type\": \"box\", \"uid\": \"4db60260-a043-4535-acfa-a29a383debdd\"}, {\"boxpoints\": false, \"line\": {\"width\": 1}, \"marker\": {\"color\": \"#bf4d28\"}, \"name\": \"2019-04-01 00:00:00\", \"showlegend\": false, \"whiskerwidth\": 0.5, \"y\": [975.0, 825.0, 450.0, 1762.5, 975.0, 3750.0, 862.5, 975.0, 3750.0, 2250.0, 3375.0, 3000.0, 4500.0, 1575.0, 975.0, 1800.0, 900.0, 637.5, 975.0], \"type\": \"box\", \"uid\": \"22c705e3-e63c-439c-a1dd-615f3a2bc555\"}], {\"autosize\": true, \"font\": {\"color\": \"#655643\", \"family\": \"Fira Sans Condensed\", \"size\": 12}, \"hidesources\": true, \"paper_bgcolor\": \"#fffaf0\", \"plot_bgcolor\": \"#fffaf0\", \"showlegend\": false, \"title\": \"Data Offers Monthly Salary Statistics\", \"titlefont\": {\"color\": \"#655643\", \"family\": \"Merryweather\", \"size\": 18}, \"xaxis\": {\"fixedrange\": true, \"hoverformat\": \"\", \"tickmode\": \"auto\", \"ticks\": \"outside\", \"title\": \"Month\", \"type\": \"date\", \"zerolinecolor\": \"#655643\"}, \"yaxis\": {\"hoverformat\": \"{:,}\", \"range\": [0, 6000], \"rangemode\": \"tozero\", \"tickformat\": \"{:,}\", \"ticks\": \"outside\", \"tickwidth\": 1, \"title\": \"\", \"type\": \"linear\"}}, {\"showLink\": true, \"linkText\": \"Export to plot.ly\", \"plotlyServerURL\": \"https://plot.ly\"})});</script><script type=\"text/javascript\">window.addEventListener(\"resize\", function(){window._Plotly.Plots.resize(document.getElementById(\"0da60ed6-8cb0-4a7a-a7ad-2e3a23c7f287\"));});</script>"
      ],
      "text/vnd.plotly.v1+html": [
       "<div id=\"0da60ed6-8cb0-4a7a-a7ad-2e3a23c7f287\" style=\"height: 525px; width: 100%;\" class=\"plotly-graph-div\"></div><script type=\"text/javascript\">require([\"plotly\"], function(Plotly) { window.PLOTLYENV=window.PLOTLYENV || {};window.PLOTLYENV.BASE_URL=\"https://plot.ly\";Plotly.newPlot(\"0da60ed6-8cb0-4a7a-a7ad-2e3a23c7f287\", [{\"boxpoints\": false, \"line\": {\"width\": 1}, \"marker\": {\"color\": \"#bf4d28\"}, \"name\": \"2017-10-01 00:00:00\", \"showlegend\": false, \"whiskerwidth\": 0.5, \"y\": [3450.0, 6000.0, 4875.0, 4875.0, 4875.0, 3750.0, 3750.0, 3750.0], \"type\": \"box\", \"uid\": \"135c5c1b-0676-4990-82df-b2eb41702415\"}, {\"boxpoints\": false, \"line\": {\"width\": 1}, \"marker\": {\"color\": \"#bf4d28\"}, \"name\": \"2017-11-01 00:00:00\", \"showlegend\": false, \"whiskerwidth\": 0.5, \"y\": [1237.5, 1237.5], \"type\": \"box\", \"uid\": \"37eca43f-ea31-48a3-b33d-d466d5feb91f\"}, {\"boxpoints\": false, \"line\": {\"width\": 1}, \"marker\": {\"color\": \"#bf4d28\"}, \"name\": \"2017-12-01 00:00:00\", \"showlegend\": false, \"whiskerwidth\": 0.5, \"y\": [4875.0, 4875.0, 4875.0, 3750.0, 3750.0, 3750.0], \"type\": \"box\", \"uid\": \"963efc66-ba8e-4b62-b1db-e3f1663d1764\"}, {\"boxpoints\": false, \"line\": {\"width\": 1}, \"marker\": {\"color\": \"#bf4d28\"}, \"name\": \"2018-01-01 00:00:00\", \"showlegend\": false, \"whiskerwidth\": 0.5, \"y\": [1687.5, 1650.0, 1275.0, 4875.0], \"type\": \"box\", \"uid\": \"ca14938e-1041-488a-a487-78d4177ff3b2\"}, {\"boxpoints\": false, \"line\": {\"width\": 1}, \"marker\": {\"color\": \"#bf4d28\"}, \"name\": \"2018-02-01 00:00:00\", \"showlegend\": false, \"whiskerwidth\": 0.5, \"y\": [975.0, 2025.0, 1650.0, 3500.0, 1612.5, 975.0, 2025.0], \"type\": \"box\", \"uid\": \"287fc8f0-88e5-4505-b56d-c4bbc6525149\"}, {\"boxpoints\": false, \"line\": {\"width\": 1}, \"marker\": {\"color\": \"#bf4d28\"}, \"name\": \"2018-03-01 00:00:00\", \"showlegend\": false, \"whiskerwidth\": 0.5, \"y\": [975.0, 1500.0, 4500.0, 975.0, 2250.0, 975.0, 2250.0, 1875.0], \"type\": \"box\", \"uid\": \"fd417ae5-72fe-4150-9336-6d6137b7dec4\"}, {\"boxpoints\": false, \"line\": {\"width\": 1}, \"marker\": {\"color\": \"#bf4d28\"}, \"name\": \"2018-04-01 00:00:00\", \"showlegend\": false, \"whiskerwidth\": 0.5, \"y\": [1650.0, 1500.0, 975.0, 2025.0, 3500.0, 1575.0, 2250.0, 1875.0, 2062.5, 2250.0, 975.0], \"type\": \"box\", \"uid\": \"227639a1-acda-4566-903c-90ae2b03b08d\"}, {\"boxpoints\": false, \"line\": {\"width\": 1}, \"marker\": {\"color\": \"#bf4d28\"}, \"name\": \"2018-05-01 00:00:00\", \"showlegend\": false, \"whiskerwidth\": 0.5, \"y\": [1500.0, 1650.0, 1875.0, 900.0, 900.0, 2025.0, 2062.5, 1500.0], \"type\": \"box\", \"uid\": \"b6fabb43-06bf-4662-a80a-2e528e73b36c\"}, {\"boxpoints\": false, \"line\": {\"width\": 1}, \"marker\": {\"color\": \"#bf4d28\"}, \"name\": \"2018-06-01 00:00:00\", \"showlegend\": false, \"whiskerwidth\": 0.5, \"y\": [2300.0, 1650.0, 1237.5, 5700.0, 3000.0, 1500.0, 1687.5, 2062.5, 5000.0, 1500.0], \"type\": \"box\", \"uid\": \"0860aa4c-4ad2-4cd9-abf5-9ad3d5725ac8\"}, {\"boxpoints\": false, \"line\": {\"width\": 1}, \"marker\": {\"color\": \"#bf4d28\"}, \"name\": \"2018-07-01 00:00:00\", \"showlegend\": false, \"whiskerwidth\": 0.5, \"y\": [1500.0, 2250.0, 5000.0, 5700.0, 5700.0, 5000.0, 975.0, 975.0, 1650.0, 2025.0, 975.0, 2300.0, 1500.0, 375.0, 1500.0, 975.0, 1000.0, 2250.0], \"type\": \"box\", \"uid\": \"4b27b670-0911-4298-84cb-9e2a9eb11c5e\"}, {\"boxpoints\": false, \"line\": {\"width\": 1}, \"marker\": {\"color\": \"#bf4d28\"}, \"name\": \"2018-08-01 00:00:00\", \"showlegend\": false, \"whiskerwidth\": 0.5, \"y\": [5000.0, 975.0, 1500.0, 975.0, 975.0, 5700.0, 5700.0, 7875.0, 2025.0, 2062.5, 975.0, 975.0, 1425.0, 3000.0], \"type\": \"box\", \"uid\": \"1c363468-7b41-46dd-b87f-626a3e41105f\"}, {\"boxpoints\": false, \"line\": {\"width\": 1}, \"marker\": {\"color\": \"#bf4d28\"}, \"name\": \"2018-09-01 00:00:00\", \"showlegend\": false, \"whiskerwidth\": 0.5, \"y\": [975.0, 1500.0, 1050.0, 975.0, 1500.0, 1425.0, 2025.0, 975.0, 975.0, 5000.0], \"type\": \"box\", \"uid\": \"011b166a-6667-4626-ac40-8e99796fef22\"}, {\"boxpoints\": false, \"line\": {\"width\": 1}, \"marker\": {\"color\": \"#bf4d28\"}, \"name\": \"2018-10-01 00:00:00\", \"showlegend\": false, \"whiskerwidth\": 0.5, \"y\": [975.0, 1050.0, 562.5, 975.0, 1500.0, 2500.0, 975.0, 2025.0, 1500.0, 1350.0, 5000.0, 975.0, 1500.0, 5000.0, 2500.0, 5700.0, 5700.0, 975.0], \"type\": \"box\", \"uid\": \"948c7274-1336-487f-abc6-697641f82457\"}, {\"boxpoints\": false, \"line\": {\"width\": 1}, \"marker\": {\"color\": \"#bf4d28\"}, \"name\": \"2018-11-01 00:00:00\", \"showlegend\": false, \"whiskerwidth\": 0.5, \"y\": [1500.0, 975.0, 975.0, 675.0, 2025.0, 975.0, 1350.0, 1000.0, 5000.0, 975.0, 1000.0, 2500.0], \"type\": \"box\", \"uid\": \"50fd7b17-20eb-4a60-b2a4-35494888b87c\"}, {\"boxpoints\": false, \"line\": {\"width\": 1}, \"marker\": {\"color\": \"#bf4d28\"}, \"name\": \"2018-12-01 00:00:00\", \"showlegend\": false, \"whiskerwidth\": 0.5, \"y\": [1000.0, 975.0, 750.0, 975.0, 2025.0, 1000.0, 1000.0, 975.0, 1500.0], \"type\": \"box\", \"uid\": \"7032236e-5d74-45f7-a8ed-4be3e14f8da6\"}, {\"boxpoints\": false, \"line\": {\"width\": 1}, \"marker\": {\"color\": \"#bf4d28\"}, \"name\": \"2019-01-01 00:00:00\", \"showlegend\": false, \"whiskerwidth\": 0.5, \"y\": [2062.5, 975.0, 975.0, 2025.0, 2500.0, 975.0, 2500.0, 1050.0, 975.0, 1000.0, 450.0, 1000.0, 5700.0, 975.0], \"type\": \"box\", \"uid\": \"425105bb-0615-47ac-ba0a-da055e4b93e5\"}, {\"boxpoints\": false, \"line\": {\"width\": 1}, \"marker\": {\"color\": \"#bf4d28\"}, \"name\": \"2019-02-01 00:00:00\", \"showlegend\": false, \"whiskerwidth\": 0.5, \"y\": [1000.0, 975.0, 1762.5, 675.0, 3750.0, 1000.0, 975.0, 2300.0, 525.0, 2500.0, 2062.5, 975.0, 1687.5, 1687.5, 975.0, 975.0, 1725.0, 975.0], \"type\": \"box\", \"uid\": \"eecc57e0-536d-41a5-af67-7bb149117570\"}, {\"boxpoints\": false, \"line\": {\"width\": 1}, \"marker\": {\"color\": \"#bf4d28\"}, \"name\": \"2019-03-01 00:00:00\", \"showlegend\": false, \"whiskerwidth\": 0.5, \"y\": [975.0, 2437.5, 1762.5, 1300.0, 975.0, 3750.0, 525.0, 1725.0, 975.0, 975.0, 2137.5], \"type\": \"box\", \"uid\": \"4db60260-a043-4535-acfa-a29a383debdd\"}, {\"boxpoints\": false, \"line\": {\"width\": 1}, \"marker\": {\"color\": \"#bf4d28\"}, \"name\": \"2019-04-01 00:00:00\", \"showlegend\": false, \"whiskerwidth\": 0.5, \"y\": [975.0, 825.0, 450.0, 1762.5, 975.0, 3750.0, 862.5, 975.0, 3750.0, 2250.0, 3375.0, 3000.0, 4500.0, 1575.0, 975.0, 1800.0, 900.0, 637.5, 975.0], \"type\": \"box\", \"uid\": \"22c705e3-e63c-439c-a1dd-615f3a2bc555\"}], {\"autosize\": true, \"font\": {\"color\": \"#655643\", \"family\": \"Fira Sans Condensed\", \"size\": 12}, \"hidesources\": true, \"paper_bgcolor\": \"#fffaf0\", \"plot_bgcolor\": \"#fffaf0\", \"showlegend\": false, \"title\": \"Data Offers Monthly Salary Statistics\", \"titlefont\": {\"color\": \"#655643\", \"family\": \"Merryweather\", \"size\": 18}, \"xaxis\": {\"fixedrange\": true, \"hoverformat\": \"\", \"tickmode\": \"auto\", \"ticks\": \"outside\", \"title\": \"Month\", \"type\": \"date\", \"zerolinecolor\": \"#655643\"}, \"yaxis\": {\"hoverformat\": \"{:,}\", \"range\": [0, 6000], \"rangemode\": \"tozero\", \"tickformat\": \"{:,}\", \"ticks\": \"outside\", \"tickwidth\": 1, \"title\": \"\", \"type\": \"linear\"}}, {\"showLink\": true, \"linkText\": \"Export to plot.ly\", \"plotlyServerURL\": \"https://plot.ly\"})});</script><script type=\"text/javascript\">window.addEventListener(\"resize\", function(){window._Plotly.Plots.resize(document.getElementById(\"0da60ed6-8cb0-4a7a-a7ad-2e3a23c7f287\"));});</script>"
      ]
     },
     "metadata": {},
     "output_type": "display_data"
    },
    {
     "data": {
      "text/plain": [
       "'file:///data/WORKSPACE/jpynb_Employment_Trends_Bulgaria/workbooks/monthly_salary_statistics_data_offers.html'"
      ]
     },
     "execution_count": 11,
     "metadata": {},
     "output_type": "execute_result"
    }
   ],
   "source": [
    "fig = go.Figure(data = data, layout = layout)\n",
    "\n",
    "plotly.offline.iplot(fig, filename = 'monthly_salary_statistics_data_offers.html')\n",
    "\n",
    "# Uncomment the line below to export an HTML version of the chart.\n",
    "# plotly.offline.plot(fig, filename = 'monthly_salary_statistics_data_offers.html')"
   ]
  },
  {
   "cell_type": "code",
   "execution_count": 8,
   "metadata": {},
   "outputs": [
    {
     "data": {
      "text/html": [
       "<style>\n",
       "@import url('https://fonts.googleapis.com/css?family=Fira+Mono|Fira+Sans|Fira+Sans+Condensed|Fira+Sans+Extra+Condensed');\n",
       "@import url('https://fonts.googleapis.com/css?family=Merriweather|Merriweather+Sans');\n",
       "\n",
       ".nbviewer {\n",
       "    background-color: #E5E1D8;\n",
       "}\n",
       "\n",
       "#notebook {\n",
       "    background-color: #E5E1D8;\n",
       "}\n",
       "\n",
       "#notebook-container {\n",
       "    background-color: #FFFAF0;\n",
       "    max-width: 1200px;\n",
       "    border-radius: 4px;\n",
       "    padding: 60px 40px 40px 40px;\n",
       "    -webkit-box-shadow: 0px 0px 12px 1px rgba(101,86,67,0.75);\n",
       "    -moz-box-shadow: 0px 0px 12px 1px rgba(101,86,67,0.75);\n",
       "    box-shadow: 0px 0px 12px 1px rgba(101,86,67,0.75);\n",
       "}\n",
       "\n",
       "/* Jupyter Notebook Header Styling */\n",
       "body > #header {\n",
       "    background-color:#fafafa;\n",
       "}\n",
       "\n",
       "#header #menubar #menus {\n",
       "    background-color:#fefefe;\n",
       "}\n",
       "\n",
       "/* Headings */\n",
       ".text_cell_render h1 {\n",
       "    color: #655643;\n",
       "    font-family: 'Merriweather', serif;\n",
       "    font-weight: 900;\n",
       "    font-size: 3.4em;\n",
       "    text-indent: 22px;\n",
       "    text-shadow: 0 2px #FFFAF0, 0 3px #8c8b8b;\n",
       "    padding: 40px 0 12px 0;\n",
       "}\n",
       "\n",
       ".text_cell_render h2 {\n",
       "    color: #655643;\n",
       "    font-family: 'Merriweather', serif;\n",
       "    font-weight: 600;\n",
       "    font-size: 2.4em;\n",
       "    text-indent: 22px;\n",
       "    padding: 40px 0 5px 0;\n",
       "    margin-bottom: 24px;\n",
       "    border-bottom: 1px solid #655643;\n",
       "}\n",
       "\n",
       ".text_cell_render h3 {\n",
       "    color: #655643;\n",
       "    font-family: 'Merriweather', serif;\n",
       "    font-weight: 100;\n",
       "    font-size: 1.8em;\n",
       "    padding: 6px 0 0 0;\n",
       "}\n",
       "\n",
       ".text_cell_render h4 {\n",
       "    color: #655643;\n",
       "    font-family: 'Merriweather', serif;\n",
       "    font-weight: 100;\n",
       "    font-size: 1.3em;\n",
       "}\n",
       "\n",
       "/* Use for subtitles and other non-headings */\n",
       "div.rendered_html > h5 {\n",
       "    color: #655643;\n",
       "    font-family: 'Merriweather', serif;\n",
       "    font-weight: 200;\n",
       "    font-style: normal important!;\n",
       "    text-indent: 22px;\n",
       "    margin-top: 0.5em;\n",
       "    padding: 6px 0 6px 0;\n",
       "    border-bottom: 1px solid #655643;\n",
       "    border-top: 1px solid #655643;\n",
       "}\n",
       "\n",
       "/* Use for image and chart captions */\n",
       "div.rendered_html > h6 {\n",
       "    font-family: 'Merriweather Sans', sans-serif;\n",
       "    font-size: 0.9em;\n",
       "    line-height: 1.5em;\n",
       "    color: #cac8c9;\n",
       "    font-weight: normal;\n",
       "    max-width: 525px;\n",
       "    display: block;\n",
       "    margin-left: auto;\n",
       "    margin-right: auto;\n",
       "}\n",
       "\n",
       "div#notebook-container p {\n",
       "    font-family: 'Fira Sans Condensed', sans-serif;\n",
       "    font-size: 1.2em;\n",
       "    line-height: 1.3em;\n",
       "    color: #655643;\n",
       "}\n",
       "\n",
       "/* Plotly Exported Charts Styling */\n",
       ".js-plotly-plot .plotly,\n",
       ".js-plotly-plot .plotly div {\n",
       "    direction: ltr;\n",
       "    font-family: \"Fira Sans Extra Condensed\", verdana, arial, sans-serif;\n",
       "}\n",
       "\n",
       "\n",
       "/* Lists */\n",
       "ol, ul {\n",
       "    font-family: 'Fira Sans Condensed', sans-serif;\n",
       "    line-height: 1.3em;\n",
       "    color: #655643;\n",
       "}\n",
       "\n",
       "div.input_prompt {\n",
       "    color: #aad0bc;\n",
       "    font-size: 0.7em;\n",
       "}\n",
       "\n",
       "div.output_prompt {\n",
       "    color: #aad0bc;\n",
       "    font-size: 0.7em;\n",
       "}\n",
       "\n",
       "div.output_subarea {\n",
       "    padding: 0;\n",
       "}\n",
       "\n",
       "div.text_cell code {\n",
       "    padding: 2px;\n",
       "    background-color: #E5E1D8;\n",
       "    color: #40362F;\n",
       "    font-family: 'Fira Mono', monospace;\n",
       "    font-size: 0.9em;\n",
       "}\n",
       "\n",
       "div.input_area {\n",
       "    background-color: #FFFAF0;\n",
       "    border: 1px solid #E5E1D8;\n",
       "    background: repeating-linear-gradient(135deg, #FFFAF0, #FFFAF0 5px, #F7F7ED 5px, #F7F7ED 10px);\n",
       "}\n",
       "\n",
       "div.cell.rendered.selected {\n",
       "    background: #F7F7ED;\n",
       "    border: 1px solid #38614F;\n",
       "}\n",
       "\n",
       "div.output_area img {\n",
       "    display: block;\n",
       "    margin-left: auto;\n",
       "    margin-right: auto;\n",
       "}\n",
       "\n",
       "div.rendered_html pre, code {\n",
       "    font-family: 'Fira Sans Condensed', sans-serif;\n",
       "    font-size: 16px;\n",
       "    font-weight: 400;\n",
       "    color: #40362F;\n",
       "    background-color: #E5E1D8;\n",
       "}\n",
       "\n",
       "div.output_text pre {\n",
       "    font-family: 'Fira Sans Condensed', sans-serif;\n",
       "    font-size: 13px;\n",
       "    font-weight: 300;\n",
       "    color: #40362F;\n",
       "}\n",
       "\n",
       "pre, textarea {\n",
       "    overflow: hidden;\n",
       "}\n",
       "\n",
       "div.text_cell_render img {\n",
       "    max-height: 550px;\n",
       "    display: block;\n",
       "    margin-left: auto;\n",
       "    margin-right: auto;\n",
       "}\n",
       "\n",
       "div.output output_scroll {\n",
       "    overflow-x: auto;\n",
       "    overflow-y: scroll;\n",
       "    max-height: 2000px;\n",
       "}\n",
       "\n",
       "div.rendered_html hr {\n",
       "    border: 0;\n",
       "    height: 1px;\n",
       "    background-color: #655643;\n",
       "}\n",
       "\n",
       "div.rendered_html pre, code {\n",
       "    color: #40362F;\n",
       "    background-color: #FFFAF0;\n",
       "}\n",
       "\n",
       "/* Links */\n",
       "a.link--embedview {\n",
       "    display: none;\n",
       "}\n",
       "\n",
       "a:link {\n",
       "    color: #293C34;\n",
       "}\n",
       "\n",
       "a:visited {\n",
       "    color: #293C34;\n",
       "}\n",
       "\n",
       "a:hover {\n",
       "    color: #557C6C;\n",
       "}\n",
       "\n",
       "a:focus {\n",
       "    color:#557C6C;\n",
       "}\n",
       "\n",
       "a:active {\n",
       "    font-weight: bold;\n",
       "    color:#80BCA3;\n",
       "}\n",
       "\n",
       ".rendered_html :link {\n",
       "    text-decoration: underline;\n",
       "}\n",
       "\n",
       "/* Colors for code highlighting */\n",
       ".CodeMirror pre {\n",
       "    font-family: 'Fira Mono', monospace;\n",
       "    font-size: 0.9em;\n",
       "    font-weight: 600;\n",
       "    letter-spacing: -2px;\n",
       "}\n",
       "\n",
       ".CodeMirror-code span.cm-keyword {\n",
       "    color: #5F362E;\n",
       "}\n",
       "\n",
       ".CodeMirror-code span.cm-variable {\n",
       "    color: #72614B;\n",
       "}\n",
       "\n",
       ".CodeMirror-code span.cm-property {\n",
       "    color: #72614B;\n",
       "}\n",
       "\n",
       ".CodeMirror-code span.cm-def {\n",
       "    color: #B64F4E;\n",
       "}\n",
       "\n",
       ".CodeMirror-code span.cm-operator {\n",
       "    color: #72614B;\n",
       "}\n",
       "\n",
       ".CodeMirror-code span.cm-string {\n",
       "    color: #0B7761;\n",
       "}\n",
       "\n",
       ".CodeMirror-code span.cm-number {\n",
       "    color: #2764E6;\n",
       "}\n",
       "\n",
       ".CodeMirror-code span.cm-comment {\n",
       "    color: #75AC95;\n",
       "}\n",
       "\n",
       ".CodeMirror-code span.cm-builtin {\n",
       "    color: #5F362E;\n",
       "}\n",
       "\n",
       "/* Code with no class applied (brackets mostly) */\n",
       ".CodeMirror-line > span {\n",
       "    color: #72614B;\n",
       "}\n",
       "\n",
       "/* Table styles */\n",
       "table {\n",
       "    border: 1px solid #BF4D28;\n",
       "}\n",
       "\n",
       ".rendered_html table {\n",
       "    float: middle;\n",
       "    border-collapse: collapse;\n",
       "}\n",
       "\n",
       ".rendered_html table th {\n",
       "    color: #40362F;\n",
       "    text-align: left;\n",
       "    background-color: #f2e6ce;\n",
       "}\n",
       "\n",
       ".rendered_html td {\n",
       "    color: #40362F;\n",
       "    text-align: left;\n",
       "}\n",
       "\n",
       ".rendered_html table tr:nth-child(odd) {\n",
       "    background-color: #F7F7ED;\n",
       "}\n",
       "\n",
       ".rendered_html table tr:nth-child(even) {\n",
       "    background-color: #FFFAF0;\n",
       "}\n",
       "\n",
       ".rendered_html table tr:hover {\n",
       "    background-color: #BF4D28;\n",
       "}\n",
       "\n",
       "iframe {\n",
       "    border-width: 0;\n",
       "}\n",
       "</style>\n"
      ],
      "text/plain": [
       "<IPython.core.display.HTML object>"
      ]
     },
     "execution_count": 8,
     "metadata": {},
     "output_type": "execute_result"
    }
   ],
   "source": [
    "from IPython.core.display import HTML\n",
    "with open('../resources/styles/datum.css', 'r') as f:\n",
    "    style = f.read()\n",
    "HTML(style)"
   ]
  }
 ],
 "metadata": {
  "kernelspec": {
   "display_name": "Python 3",
   "language": "python",
   "name": "python3"
  },
  "language_info": {
   "codemirror_mode": {
    "name": "ipython",
    "version": 3
   },
   "file_extension": ".py",
   "mimetype": "text/x-python",
   "name": "python",
   "nbconvert_exporter": "python",
   "pygments_lexer": "ipython3",
   "version": "3.7.3"
  }
 },
 "nbformat": 4,
 "nbformat_minor": 2
}
