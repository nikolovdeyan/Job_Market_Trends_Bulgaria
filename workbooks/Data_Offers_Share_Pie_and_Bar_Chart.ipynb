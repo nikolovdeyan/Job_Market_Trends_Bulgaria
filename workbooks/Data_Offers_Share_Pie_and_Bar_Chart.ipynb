{
 "cells": [
  {
   "cell_type": "markdown",
   "metadata": {},
   "source": [
    "## Data Offers Pie Chart and Table"
   ]
  },
  {
   "cell_type": "code",
   "execution_count": 2,
   "metadata": {},
   "outputs": [
    {
     "data": {
      "text/html": [
       "<script type=\"text/javascript\">window.PlotlyConfig = {MathJaxConfig: 'local'};</script><script type=\"text/javascript\">if (window.MathJax) {MathJax.Hub.Config({SVG: {font: \"STIX-Web\"}});}</script><script>requirejs.config({paths: { 'plotly': ['https://cdn.plot.ly/plotly-latest.min']},});if(!window._Plotly) {require(['plotly'],function(plotly) {window._Plotly=plotly;});}</script>"
      ],
      "text/vnd.plotly.v1+html": [
       "<script type=\"text/javascript\">window.PlotlyConfig = {MathJaxConfig: 'local'};</script><script type=\"text/javascript\">if (window.MathJax) {MathJax.Hub.Config({SVG: {font: \"STIX-Web\"}});}</script><script>requirejs.config({paths: { 'plotly': ['https://cdn.plot.ly/plotly-latest.min']},});if(!window._Plotly) {require(['plotly'],function(plotly) {window._Plotly=plotly;});}</script>"
      ]
     },
     "metadata": {},
     "output_type": "display_data"
    }
   ],
   "source": [
    "import itertools\n",
    "import datetime as dt\n",
    "import psycopg2\n",
    "import pandas as pd\n",
    "import plotly\n",
    "from plotly import tools\n",
    "import plotly.plotly as py\n",
    "import plotly.graph_objs as go\n",
    "\n",
    "from nbstyler import DATA_STYLE as DS\n",
    "\n",
    "plotly.offline.init_notebook_mode(connected=True)\n",
    "\n",
    "%matplotlib notebook\n",
    "%matplotlib inline"
   ]
  },
  {
   "cell_type": "markdown",
   "metadata": {},
   "source": [
    "### Objectives\n",
    "\n",
    "Provide a simple visualization illustrating the size of our target subset of job offers and which data proffessions are most popular (as matched against the job offer titles in the target subset).  \n",
    "\n",
    "### Data Preparation\n",
    "\n",
    "Get the data and prepare the `Pandas.DataFrame` object."
   ]
  },
  {
   "cell_type": "code",
   "execution_count": 4,
   "metadata": {},
   "outputs": [],
   "source": [
    "conn = psycopg2.connect(\"dbname=jobsbg\")\n",
    "cur = conn.cursor()\n",
    "\n",
    "cur.execute('SELECT count(*) FROM v_full_offers_history')\n",
    "all_jobs_count = cur.fetchone()[0]\n",
    "datajobs_df = pd.read_sql_query('SELECT * FROM v_full_data_offers_history_tsv', conn, index_col='subm_date')\n",
    "\n",
    "cur.close()\n",
    "conn.close()"
   ]
  },
  {
   "cell_type": "code",
   "execution_count": 5,
   "metadata": {},
   "outputs": [
    {
     "data": {
      "text/plain": [
       "(2805, 844072)"
      ]
     },
     "execution_count": 5,
     "metadata": {},
     "output_type": "execute_result"
    }
   ],
   "source": [
    "datajobs_count = len(datajobs_df)\n",
    "datajobs_count, all_jobs_count"
   ]
  },
  {
   "cell_type": "markdown",
   "metadata": {},
   "source": [
    "### Pie Chart Preparation"
   ]
  },
  {
   "cell_type": "code",
   "execution_count": 67,
   "metadata": {},
   "outputs": [],
   "source": [
    "pie_trace = go.Pie(\n",
    "    values=[all_jobs_count, datajobs_count],\n",
    "    labels=['All Other', 'Data Jobs'],\n",
    "    marker=dict(\n",
    "        colors=[\n",
    "            DS['colorramp']['acc1'][3],\n",
    "            DS['colors']['acc1'],\n",
    "        ],\n",
    "        line=dict(\n",
    "            color=DS['colors']['acc1'],\n",
    "            width=2\n",
    "        )\n",
    "    ),\n",
    "    showlegend=False,\n",
    "    domain=dict(\n",
    "        x=[0, 0.39],\n",
    "        y=[0,0.89],\n",
    "    ),\n",
    "    name='Data Jobs Share of the Job Market',\n",
    "    hoverinfo='label+percent',\n",
    "    textinfo='value',\n",
    "    textfont=DS['chart_fonts']['anno_in'],\n",
    "    insidetextfont=DS['chart_fonts']['anno_in'],\n",
    "    hole=0.45,\n",
    "    rotation=0,\n",
    "    pull=0.05,)"
   ]
  },
  {
   "cell_type": "markdown",
   "metadata": {},
   "source": [
    "### Bar Chart Preparation"
   ]
  },
  {
   "cell_type": "code",
   "execution_count": 40,
   "metadata": {},
   "outputs": [
    {
     "name": "stderr",
     "output_type": "stream",
     "text": [
      "/data/WORKSPACE/jpynb_Employment_Trends_Bulgaria/ve-emptrends/lib/python3.7/site-packages/ipykernel_launcher.py:4: UserWarning:\n",
      "\n",
      "This pattern has match groups. To actually get the groups, use str.extract.\n",
      "\n"
     ]
    },
    {
     "data": {
      "text/html": [
       "<div>\n",
       "<style scoped>\n",
       "    .dataframe tbody tr th:only-of-type {\n",
       "        vertical-align: middle;\n",
       "    }\n",
       "\n",
       "    .dataframe tbody tr th {\n",
       "        vertical-align: top;\n",
       "    }\n",
       "\n",
       "    .dataframe thead th {\n",
       "        text-align: right;\n",
       "    }\n",
       "</style>\n",
       "<table border=\"1\" class=\"dataframe\">\n",
       "  <thead>\n",
       "    <tr style=\"text-align: right;\">\n",
       "      <th></th>\n",
       "      <th>subm_type</th>\n",
       "      <th>job_id</th>\n",
       "      <th>company_id</th>\n",
       "      <th>norm_salary</th>\n",
       "      <th>job_title</th>\n",
       "      <th>company_name</th>\n",
       "      <th>text_salary</th>\n",
       "      <th>job_location</th>\n",
       "      <th>job_contents</th>\n",
       "    </tr>\n",
       "    <tr>\n",
       "      <th>subm_date</th>\n",
       "      <th></th>\n",
       "      <th></th>\n",
       "      <th></th>\n",
       "      <th></th>\n",
       "      <th></th>\n",
       "      <th></th>\n",
       "      <th></th>\n",
       "      <th></th>\n",
       "      <th></th>\n",
       "    </tr>\n",
       "  </thead>\n",
       "  <tbody>\n",
       "    <tr>\n",
       "      <th>2017-09-29</th>\n",
       "      <td>submission</td>\n",
       "      <td>3998528</td>\n",
       "      <td>17303</td>\n",
       "      <td>NaN</td>\n",
       "      <td>Safety Specialist, Aggregate Safety Report Writer</td>\n",
       "      <td>ПИ ПИ ДИ БЪЛГАРИЯ ЕООД</td>\n",
       "      <td>None</td>\n",
       "      <td>София</td>\n",
       "      <td>&lt;!DOCTYPE html PUBLIC \"-//W3C//DTD XHTML 1.0 ...</td>\n",
       "    </tr>\n",
       "  </tbody>\n",
       "</table>\n",
       "</div>"
      ],
      "text/plain": [
       "             subm_type   job_id  company_id  norm_salary  \\\n",
       "subm_date                                                  \n",
       "2017-09-29  submission  3998528       17303          NaN   \n",
       "\n",
       "                                                    job_title  \\\n",
       "subm_date                                                       \n",
       "2017-09-29  Safety Specialist, Aggregate Safety Report Writer   \n",
       "\n",
       "                      company_name text_salary job_location  \\\n",
       "subm_date                                                     \n",
       "2017-09-29  ПИ ПИ ДИ БЪЛГАРИЯ ЕООД        None        София   \n",
       "\n",
       "                                                 job_contents  \n",
       "subm_date                                                      \n",
       "2017-09-29   <!DOCTYPE html PUBLIC \"-//W3C//DTD XHTML 1.0 ...  "
      ]
     },
     "execution_count": 40,
     "metadata": {},
     "output_type": "execute_result"
    }
   ],
   "source": [
    "ptrn = '((data analy(st|tics|sis))|(анализ.*данни))|(data (engineer|warehouse))|((data|business) intelligence|(\\W|^)bi(\\W|$))|(reporting (analyst|specialist))|(etl( |$))|(data (engineer|warehouse|scientist))'\n",
    "\n",
    "# looking at unmatched offers for count stats:\n",
    "datajobs_df[~datajobs_df['job_title'].str.lower().str.contains(ptrn)].head(1)"
   ]
  },
  {
   "cell_type": "code",
   "execution_count": 41,
   "metadata": {},
   "outputs": [
    {
     "data": {
      "text/plain": [
       "(830, 1045, 484, 160)"
      ]
     },
     "execution_count": 41,
     "metadata": {},
     "output_type": "execute_result"
    }
   ],
   "source": [
    "bi_count = sum(datajobs_df.job_title.str.lower().str.count('(data|business) intelligence|(\\W|^)bi(\\W|$)'))\n",
    "da_count = sum(datajobs_df.job_title.str.lower().str.count('(data analy(st|tics|sis))|(анализ.*данни)|(reporting (analyst|specialist))'))\n",
    "de_count = sum(datajobs_df.job_title.str.lower().str.count('((\\W|^)(etl|dwh)(\\W|$))|data (engineer|warehouse)'))\n",
    "ds_count = sum(datajobs_df.job_title.str.lower().str.count('data scien.+'))\n",
    "\n",
    "bi_count, da_count, de_count, ds_count"
   ]
  },
  {
   "cell_type": "code",
   "execution_count": 60,
   "metadata": {},
   "outputs": [],
   "source": [
    "bars_trace = go.Bar(\n",
    "    x=['Data<br>Analysis', 'Business<br>Intelligence', 'Data<br>Engineering', 'Data<br>Science'],\n",
    "    y=[da_count, bi_count, de_count, ds_count],\n",
    "    orientation='v',\n",
    "    marker=dict(\n",
    "        line = dict(\n",
    "            width=1,\n",
    "            color=DS['colorramp']['acc1'][-1]\n",
    "        ),\n",
    "        color = DS['colors']['acc1'],\n",
    "        opacity=0.8,\n",
    "    ),\n",
    "    hoverinfo='y',\n",
    "    textfont=DS['chart_fonts']['anno_in'],\n",
    "    xaxis='x2',\n",
    "    showlegend=False,\n",
    ")"
   ]
  },
  {
   "cell_type": "code",
   "execution_count": 61,
   "metadata": {},
   "outputs": [],
   "source": [
    "data = [pie_trace, bars_trace]\n",
    "layout=go.Layout(\n",
    "    paper_bgcolor=DS['colors']['bg1'],\n",
    "    plot_bgcolor=DS['colors']['bg1'],\n",
    "    title=\"Data Jobs Market Share\",\n",
    "    titlefont=DS['chart_fonts']['title'],\n",
    "    font = DS['chart_fonts']['text'],\n",
    "    autosize=True,\n",
    "    showlegend=False,\n",
    "    hidesources=True,\n",
    "    clickmode='none',\n",
    "    xaxis=dict(),\n",
    "    xaxis2=dict(\n",
    "        domain=[0.50, 1],\n",
    "        tickangle=0,\n",
    "    ),\n",
    ")"
   ]
  },
  {
   "cell_type": "code",
   "execution_count": 62,
   "metadata": {},
   "outputs": [
    {
     "data": {
      "application/vnd.plotly.v1+json": {
       "config": {
        "linkText": "Export to plot.ly",
        "plotlyServerURL": "https://plot.ly",
        "showLink": true
       },
       "data": [
        {
         "domain": {
          "x": [
           0,
           0.39
          ],
          "y": [
           0,
           0.89
          ]
         },
         "hole": 0.45,
         "hoverinfo": "label+percent",
         "insidetextfont": {
          "color": "#8f391e",
          "family": "Fira Sans Extra Condensed",
          "size": 18
         },
         "labels": [
          "All Other",
          "Data Jobs"
         ],
         "marker": {
          "colors": [
           "#e1b396",
           "#bf4d28"
          ],
          "line": {
           "color": "#bf4d28",
           "width": 2
          }
         },
         "name": "Data Jobs Share of the Job Market",
         "pull": 0.05,
         "rotation": 0,
         "showlegend": false,
         "textfont": {
          "color": "#8f391e",
          "family": "Fira Sans Extra Condensed",
          "size": 18
         },
         "textinfo": "value",
         "type": "pie",
         "uid": "c7545fd5-a95f-41a7-89f6-ced5572237a2",
         "values": [
          844072,
          2805
         ]
        },
        {
         "hoverinfo": "y",
         "marker": {
          "color": "#bf4d28",
          "line": {
           "color": "#8f391e",
           "width": 1
          },
          "opacity": 0.8
         },
         "orientation": "v",
         "showlegend": false,
         "textfont": {
          "color": "#8f391e",
          "family": "Fira Sans Extra Condensed",
          "size": 18
         },
         "type": "bar",
         "uid": "8a21af58-1c0a-4bb5-94d0-850c963c386a",
         "x": [
          "Data<br>Analysis",
          "Business<br>Intelligence",
          "Data<br>Engineering",
          "Data<br>Science"
         ],
         "xaxis": "x2",
         "y": [
          1045,
          830,
          484,
          160
         ]
        }
       ],
       "layout": {
        "autosize": true,
        "clickmode": "none",
        "font": {
         "color": "#655643",
         "family": "Fira Sans Condensed",
         "size": 12
        },
        "hidesources": true,
        "paper_bgcolor": "#fffaf0",
        "plot_bgcolor": "#fffaf0",
        "showlegend": false,
        "title": "Data Jobs Market Share",
        "titlefont": {
         "color": "#655643",
         "family": "Merryweather",
         "size": 18
        },
        "xaxis2": {
         "domain": [
          0.5,
          1
         ],
         "tickangle": 0
        }
       }
      },
      "text/html": [
       "<div id=\"bf18dd51-1dd4-4ef5-9cc3-f546df5e9790\" style=\"height: 525px; width: 100%;\" class=\"plotly-graph-div\"></div><script type=\"text/javascript\">require([\"plotly\"], function(Plotly) { window.PLOTLYENV=window.PLOTLYENV || {};window.PLOTLYENV.BASE_URL=\"https://plot.ly\";Plotly.newPlot(\"bf18dd51-1dd4-4ef5-9cc3-f546df5e9790\", [{\"domain\": {\"x\": [0, 0.39], \"y\": [0, 0.89]}, \"hole\": 0.45, \"hoverinfo\": \"label+percent\", \"insidetextfont\": {\"color\": \"#8f391e\", \"family\": \"Fira Sans Extra Condensed\", \"size\": 18}, \"labels\": [\"All Other\", \"Data Jobs\"], \"marker\": {\"colors\": [\"#e1b396\", \"#bf4d28\"], \"line\": {\"color\": \"#bf4d28\", \"width\": 2}}, \"name\": \"Data Jobs Share of the Job Market\", \"pull\": 0.05, \"rotation\": 0, \"showlegend\": false, \"textfont\": {\"color\": \"#8f391e\", \"family\": \"Fira Sans Extra Condensed\", \"size\": 18}, \"textinfo\": \"value\", \"values\": [844072, 2805], \"type\": \"pie\", \"uid\": \"c7545fd5-a95f-41a7-89f6-ced5572237a2\"}, {\"hoverinfo\": \"y\", \"marker\": {\"color\": \"#bf4d28\", \"line\": {\"color\": \"#8f391e\", \"width\": 1}, \"opacity\": 0.8}, \"orientation\": \"v\", \"showlegend\": false, \"textfont\": {\"color\": \"#8f391e\", \"family\": \"Fira Sans Extra Condensed\", \"size\": 18}, \"x\": [\"Data<br>Analysis\", \"Business<br>Intelligence\", \"Data<br>Engineering\", \"Data<br>Science\"], \"xaxis\": \"x2\", \"y\": [1045, 830, 484, 160], \"type\": \"bar\", \"uid\": \"8a21af58-1c0a-4bb5-94d0-850c963c386a\"}], {\"autosize\": true, \"clickmode\": \"none\", \"font\": {\"color\": \"#655643\", \"family\": \"Fira Sans Condensed\", \"size\": 12}, \"hidesources\": true, \"paper_bgcolor\": \"#fffaf0\", \"plot_bgcolor\": \"#fffaf0\", \"showlegend\": false, \"title\": \"Data Jobs Market Share\", \"titlefont\": {\"color\": \"#655643\", \"family\": \"Merryweather\", \"size\": 18}, \"xaxis2\": {\"domain\": [0.5, 1], \"tickangle\": 0}}, {\"showLink\": true, \"linkText\": \"Export to plot.ly\", \"plotlyServerURL\": \"https://plot.ly\"})});</script><script type=\"text/javascript\">window.addEventListener(\"resize\", function(){window._Plotly.Plots.resize(document.getElementById(\"bf18dd51-1dd4-4ef5-9cc3-f546df5e9790\"));});</script>"
      ],
      "text/vnd.plotly.v1+html": [
       "<div id=\"bf18dd51-1dd4-4ef5-9cc3-f546df5e9790\" style=\"height: 525px; width: 100%;\" class=\"plotly-graph-div\"></div><script type=\"text/javascript\">require([\"plotly\"], function(Plotly) { window.PLOTLYENV=window.PLOTLYENV || {};window.PLOTLYENV.BASE_URL=\"https://plot.ly\";Plotly.newPlot(\"bf18dd51-1dd4-4ef5-9cc3-f546df5e9790\", [{\"domain\": {\"x\": [0, 0.39], \"y\": [0, 0.89]}, \"hole\": 0.45, \"hoverinfo\": \"label+percent\", \"insidetextfont\": {\"color\": \"#8f391e\", \"family\": \"Fira Sans Extra Condensed\", \"size\": 18}, \"labels\": [\"All Other\", \"Data Jobs\"], \"marker\": {\"colors\": [\"#e1b396\", \"#bf4d28\"], \"line\": {\"color\": \"#bf4d28\", \"width\": 2}}, \"name\": \"Data Jobs Share of the Job Market\", \"pull\": 0.05, \"rotation\": 0, \"showlegend\": false, \"textfont\": {\"color\": \"#8f391e\", \"family\": \"Fira Sans Extra Condensed\", \"size\": 18}, \"textinfo\": \"value\", \"values\": [844072, 2805], \"type\": \"pie\", \"uid\": \"c7545fd5-a95f-41a7-89f6-ced5572237a2\"}, {\"hoverinfo\": \"y\", \"marker\": {\"color\": \"#bf4d28\", \"line\": {\"color\": \"#8f391e\", \"width\": 1}, \"opacity\": 0.8}, \"orientation\": \"v\", \"showlegend\": false, \"textfont\": {\"color\": \"#8f391e\", \"family\": \"Fira Sans Extra Condensed\", \"size\": 18}, \"x\": [\"Data<br>Analysis\", \"Business<br>Intelligence\", \"Data<br>Engineering\", \"Data<br>Science\"], \"xaxis\": \"x2\", \"y\": [1045, 830, 484, 160], \"type\": \"bar\", \"uid\": \"8a21af58-1c0a-4bb5-94d0-850c963c386a\"}], {\"autosize\": true, \"clickmode\": \"none\", \"font\": {\"color\": \"#655643\", \"family\": \"Fira Sans Condensed\", \"size\": 12}, \"hidesources\": true, \"paper_bgcolor\": \"#fffaf0\", \"plot_bgcolor\": \"#fffaf0\", \"showlegend\": false, \"title\": \"Data Jobs Market Share\", \"titlefont\": {\"color\": \"#655643\", \"family\": \"Merryweather\", \"size\": 18}, \"xaxis2\": {\"domain\": [0.5, 1], \"tickangle\": 0}}, {\"showLink\": true, \"linkText\": \"Export to plot.ly\", \"plotlyServerURL\": \"https://plot.ly\"})});</script><script type=\"text/javascript\">window.addEventListener(\"resize\", function(){window._Plotly.Plots.resize(document.getElementById(\"bf18dd51-1dd4-4ef5-9cc3-f546df5e9790\"));});</script>"
      ]
     },
     "metadata": {},
     "output_type": "display_data"
    }
   ],
   "source": [
    "fig = go.Figure(data=data, layout=layout)\n",
    "plotly.offline.iplot(fig, filename='data_offers_pie_and_bar.html')"
   ]
  },
  {
   "cell_type": "code",
   "execution_count": 66,
   "metadata": {},
   "outputs": [
    {
     "data": {
      "text/plain": [
       "'file:///data/WORKSPACE/jpynb_Employment_Trends_Bulgaria/workbooks/data_offers_pie_and_bar.html'"
      ]
     },
     "execution_count": 66,
     "metadata": {},
     "output_type": "execute_result"
    }
   ],
   "source": [
    "# Uncomment the line below to export an HTML version of the chart.\n",
    "# plotly.offline.plot(fig, filename='data_offers_pie_and_bar.html', show_link=False)"
   ]
  },
  {
   "cell_type": "code",
   "execution_count": 65,
   "metadata": {},
   "outputs": [
    {
     "data": {
      "text/html": [
       "<style>\n",
       "@import url('https://fonts.googleapis.com/css?family=Fira+Mono|Fira+Sans|Fira+Sans+Condensed|Fira+Sans+Extra+Condensed');\n",
       "@import url('https://fonts.googleapis.com/css?family=Merriweather|Merriweather+Sans');\n",
       "\n",
       ".nbviewer {\n",
       "    background-color: #E5E1D8;\n",
       "}\n",
       "\n",
       "#notebook {\n",
       "    background-color: #E5E1D8;\n",
       "}\n",
       "\n",
       "#notebook-container {\n",
       "    background-color: #FFFAF0;\n",
       "    max-width: 1200px;\n",
       "    border-radius: 4px;\n",
       "    padding: 60px 40px 40px 40px;\n",
       "    -webkit-box-shadow: 0px 0px 12px 1px rgba(101,86,67,0.75);\n",
       "    -moz-box-shadow: 0px 0px 12px 1px rgba(101,86,67,0.75);\n",
       "    box-shadow: 0px 0px 12px 1px rgba(101,86,67,0.75);\n",
       "}\n",
       "\n",
       "/* Jupyter Notebook Header Styling */\n",
       "body > #header {\n",
       "    background-color:#fafafa;\n",
       "}\n",
       "\n",
       "#header #menubar #menus {\n",
       "    background-color:#fefefe;\n",
       "}\n",
       "\n",
       "/* Headings */\n",
       ".text_cell_render h1 {\n",
       "    color: #655643;\n",
       "    font-family: 'Merriweather', serif;\n",
       "    font-weight: 900;\n",
       "    text-align: center;\n",
       "    font-size: 3.2em;\n",
       "    text-shadow: 0 2px #FFFAF0, 0 3px #8c8b8b;\n",
       "    padding: 40px 0 12px 0;\n",
       "}\n",
       "\n",
       ".text_cell_render h2 {\n",
       "    color: #655643;\n",
       "    font-family: 'Merriweather', serif;\n",
       "    font-weight: 600;\n",
       "    font-size: 2.4em;\n",
       "    text-indent: 22px;\n",
       "    padding: 40px 0 5px 0;\n",
       "    margin-bottom: 24px;\n",
       "    border-bottom: 1px solid #655643;\n",
       "}\n",
       "\n",
       ".text_cell_render h3 {\n",
       "    color: #655643;\n",
       "    font-family: 'Merriweather', serif;\n",
       "    font-weight: 100;\n",
       "    font-size: 1.8em;\n",
       "    padding: 6px 0 0 0;\n",
       "}\n",
       "\n",
       ".text_cell_render h4 {\n",
       "    color: #655643;\n",
       "    font-family: 'Merriweather', serif;\n",
       "    font-weight: 100;\n",
       "    font-size: 1.3em;\n",
       "}\n",
       "\n",
       "/* Use for subtitles and other non-headings */\n",
       "div.rendered_html > h5 {\n",
       "    font-family: 'Merriweather', serif;\n",
       "    line-height: 1.5em;\n",
       "    color: #655643;\n",
       "    font-weight: 200;\n",
       "    font-style: normal important!;\n",
       "    text-indent: 22px;\n",
       "    text-align: center;\n",
       "    margin-top: 0.5em;\n",
       "    padding: 6px 0 6px 0;\n",
       "    border-bottom: 1px solid #655643;\n",
       "    border-top: 1px solid #655643;\n",
       "}\n",
       "\n",
       "/* Use for image and chart captions */\n",
       "div.rendered_html > h6 {\n",
       "    font-family: 'Merriweather Sans', sans-serif;\n",
       "    font-size: 0.9em;\n",
       "    line-height: 1.5em;\n",
       "    color: #cac8c9;\n",
       "    font-weight: normal;\n",
       "    max-width: 525px;\n",
       "    display: block;\n",
       "    margin-left: auto;\n",
       "    margin-right: auto;\n",
       "}\n",
       "\n",
       "div#notebook-container p {\n",
       "    font-family: 'Fira Sans Condensed', sans-serif;\n",
       "    font-size: 1.2em;\n",
       "    line-height: 1.3em;\n",
       "    color: #655643;\n",
       "}\n",
       "\n",
       "/* Plotly Exported Charts Styling */\n",
       ".js-plotly-plot .plotly,\n",
       ".js-plotly-plot .plotly div {\n",
       "    direction: ltr;\n",
       "    font-family: \"Fira Sans Extra Condensed\", verdana, arial, sans-serif;\n",
       "}\n",
       "\n",
       "\n",
       "/* Lists */\n",
       "ol, ul {\n",
       "    font-family: 'Fira Sans Condensed', sans-serif;\n",
       "    line-height: 1.3em;\n",
       "    color: #655643;\n",
       "}\n",
       "\n",
       "div.input_prompt {\n",
       "    color: #aad0bc;\n",
       "    font-size: 0.7em;\n",
       "}\n",
       "\n",
       "div.output_prompt {\n",
       "    color: #aad0bc;\n",
       "    font-size: 0.7em;\n",
       "}\n",
       "\n",
       "div.output_subarea {\n",
       "    padding: 0;\n",
       "}\n",
       "\n",
       "div.text_cell code {\n",
       "    padding: 2px;\n",
       "    background-color: #E5E1D8;\n",
       "    color: #40362F;\n",
       "    font-family: 'Fira Mono', monospace;\n",
       "    font-size: 0.9em;\n",
       "}\n",
       "\n",
       "div.input_area {\n",
       "    background-color: #FFFAF0;\n",
       "    border: 1px solid #E5E1D8;\n",
       "    background: repeating-linear-gradient(135deg, #FFFAF0, #FFFAF0 5px, #F7F7ED 5px, #F7F7ED 10px);\n",
       "}\n",
       "\n",
       "div.cell.rendered.selected {\n",
       "    background: #F7F7ED;\n",
       "    border: 1px solid #38614F;\n",
       "}\n",
       "\n",
       "div.output_area img {\n",
       "    display: block;\n",
       "    margin-left: auto;\n",
       "    margin-right: auto;\n",
       "}\n",
       "\n",
       "div.rendered_html pre, code {\n",
       "    font-family: 'Fira Sans Condensed', sans-serif;\n",
       "    font-size: 16px;\n",
       "    font-weight: 400;\n",
       "    color: #40362F;\n",
       "    background-color: #E5E1D8;\n",
       "}\n",
       "\n",
       "div.output_text pre {\n",
       "    font-family: 'Fira Sans Condensed', sans-serif;\n",
       "    font-size: 13px;\n",
       "    font-weight: 300;\n",
       "    color: #40362F;\n",
       "}\n",
       "\n",
       "pre, textarea {\n",
       "    overflow: hidden;\n",
       "}\n",
       "\n",
       "div.text_cell_render img {\n",
       "    max-height: 550px;\n",
       "    display: block;\n",
       "    margin-left: auto;\n",
       "    margin-right: auto;\n",
       "}\n",
       "\n",
       "div.output output_scroll {\n",
       "    overflow-x: auto;\n",
       "    overflow-y: scroll;\n",
       "    max-height: 2000px;\n",
       "}\n",
       "\n",
       "div.rendered_html hr {\n",
       "    border: 0;\n",
       "    height: 1px;\n",
       "    background-color: #655643;\n",
       "}\n",
       "\n",
       "div.rendered_html pre, code {\n",
       "    color: #40362F;\n",
       "    background-color: #FFFAF0;\n",
       "}\n",
       "\n",
       "/* Links */\n",
       "a.link--embedview {\n",
       "    display: none;\n",
       "}\n",
       "\n",
       "a:link {\n",
       "    color: #293C34;\n",
       "}\n",
       "\n",
       "a:visited {\n",
       "    color: #293C34;\n",
       "}\n",
       "\n",
       "a:hover {\n",
       "    color: #557C6C;\n",
       "}\n",
       "\n",
       "a:focus {\n",
       "    color:#557C6C;\n",
       "}\n",
       "\n",
       "a:active {\n",
       "    font-weight: bold;\n",
       "    color:#80BCA3;\n",
       "}\n",
       "\n",
       ".rendered_html :link {\n",
       "    text-decoration: underline;\n",
       "}\n",
       "\n",
       "/* Colors for code highlighting */\n",
       ".CodeMirror pre {\n",
       "    font-family: 'Fira Mono', monospace;\n",
       "    font-size: 0.9em;\n",
       "    font-weight: 600;\n",
       "    letter-spacing: -2px;\n",
       "}\n",
       "\n",
       ".CodeMirror-code span.cm-keyword,\n",
       ".highlight .k,\n",
       ".highlight .ow {\n",
       "    color: #5F362E;\n",
       "}\n",
       "\n",
       ".CodeMirror-code span.cm-variable,\n",
       ".highlight .na {\n",
       "    color: #72614B;\n",
       "}\n",
       "\n",
       ".CodeMirror-code span.cm-property {\n",
       "    color: #72614B;\n",
       "}\n",
       "\n",
       ".CodeMirror-code span.cm-def {\n",
       "    color: #B64F4E;\n",
       "}\n",
       "\n",
       ".CodeMirror-code span.cm-operator {\n",
       "    color: #72614B;\n",
       "}\n",
       "\n",
       ".CodeMirror-code span.cm-string,\n",
       ".highlight .s {\n",
       "    color: #0B7761;\n",
       "}\n",
       "\n",
       ".CodeMirror-code span.cm-number,\n",
       ".highlight .mb, .highlight .mf, .highlight .mh, .highlight .mi, .highlight .mo {\n",
       "    color: #2764E6;\n",
       "}\n",
       "\n",
       ".CodeMirror-code span.cm-comment,\n",
       ".highlight .c1, .highlight .cs {\n",
       "    color: #75AC95;\n",
       "}\n",
       "\n",
       ".CodeMirror-code span.cm-builtin,\n",
       ".highlight .nb {\n",
       "    color: #5F362E;\n",
       "}\n",
       "\n",
       "/* Code with no class applied (brackets mostly) */\n",
       ".CodeMirror-line > span {\n",
       "    color: #72614B;\n",
       "}\n",
       "\n",
       "/* Table styles */\n",
       "table {\n",
       "    border: 1px solid #BF4D28;\n",
       "}\n",
       "\n",
       ".rendered_html table {\n",
       "    float: middle;\n",
       "    border-collapse: collapse;\n",
       "}\n",
       "\n",
       ".rendered_html table th {\n",
       "    color: #40362F;\n",
       "    text-align: left;\n",
       "    background-color: #f2e6ce;\n",
       "}\n",
       "\n",
       ".rendered_html td {\n",
       "    color: #40362F;\n",
       "    text-align: left;\n",
       "}\n",
       "\n",
       ".rendered_html table tr:nth-child(odd) {\n",
       "    background-color: #F7F7ED;\n",
       "}\n",
       "\n",
       ".rendered_html table tr:nth-child(even) {\n",
       "    background-color: #FFFAF0;\n",
       "}\n",
       "\n",
       ".rendered_html table tr:hover {\n",
       "    background-color: #BF4D28;\n",
       "}\n",
       "\n",
       "iframe {\n",
       "    border-width: 0;\n",
       "}\n",
       "</style>\n"
      ],
      "text/plain": [
       "<IPython.core.display.HTML object>"
      ]
     },
     "execution_count": 65,
     "metadata": {},
     "output_type": "execute_result"
    }
   ],
   "source": [
    "from IPython.core.display import HTML\n",
    "with open('../resources/styles/datum.css', 'r') as f:\n",
    "    style = f.read()\n",
    "HTML(style)"
   ]
  }
 ],
 "metadata": {
  "kernelspec": {
   "display_name": "Python 3",
   "language": "python",
   "name": "python3"
  },
  "language_info": {
   "codemirror_mode": {
    "name": "ipython",
    "version": 3
   },
   "file_extension": ".py",
   "mimetype": "text/x-python",
   "name": "python",
   "nbconvert_exporter": "python",
   "pygments_lexer": "ipython3",
   "version": "3.7.3"
  }
 },
 "nbformat": 4,
 "nbformat_minor": 2
}
