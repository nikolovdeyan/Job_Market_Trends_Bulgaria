{
 "cells": [
  {
   "cell_type": "markdown",
   "metadata": {},
   "source": [
    "## Data Offers Pie Chart and Table"
   ]
  },
  {
   "cell_type": "code",
   "execution_count": 2,
   "metadata": {},
   "outputs": [
    {
     "data": {
      "text/html": [
       "<script type=\"text/javascript\">window.PlotlyConfig = {MathJaxConfig: 'local'};</script><script type=\"text/javascript\">if (window.MathJax) {MathJax.Hub.Config({SVG: {font: \"STIX-Web\"}});}</script><script>requirejs.config({paths: { 'plotly': ['https://cdn.plot.ly/plotly-latest.min']},});if(!window._Plotly) {require(['plotly'],function(plotly) {window._Plotly=plotly;});}</script>"
      ],
      "text/vnd.plotly.v1+html": [
       "<script type=\"text/javascript\">window.PlotlyConfig = {MathJaxConfig: 'local'};</script><script type=\"text/javascript\">if (window.MathJax) {MathJax.Hub.Config({SVG: {font: \"STIX-Web\"}});}</script><script>requirejs.config({paths: { 'plotly': ['https://cdn.plot.ly/plotly-latest.min']},});if(!window._Plotly) {require(['plotly'],function(plotly) {window._Plotly=plotly;});}</script>"
      ]
     },
     "metadata": {},
     "output_type": "display_data"
    }
   ],
   "source": [
    "import itertools\n",
    "import datetime as dt\n",
    "import psycopg2\n",
    "import pandas as pd\n",
    "import plotly\n",
    "from plotly import tools\n",
    "import plotly.plotly as py\n",
    "import plotly.graph_objs as go\n",
    "\n",
    "from nbstyler import DATA_STYLE as DS\n",
    "\n",
    "plotly.offline.init_notebook_mode(connected=True) # run at the start of every ipython notebook to use plotly.offline\n",
    "\n",
    "%matplotlib notebook\n",
    "%matplotlib inline"
   ]
  },
  {
   "cell_type": "markdown",
   "metadata": {},
   "source": [
    "### Objectives\n",
    "\n",
    "Provide a simple visualization illustrating the size of our target subset of job offers and which data proffessions are most popular (as matched against the job offer titles in the target subset).  \n",
    "\n",
    "### Data Preparation\n",
    "\n",
    "Get the data and prepare the `Pandas.DataFrame` object."
   ]
  },
  {
   "cell_type": "code",
   "execution_count": 3,
   "metadata": {},
   "outputs": [],
   "source": [
    "conn = psycopg2.connect(\"dbname=jobsbg\")\n",
    "cur = conn.cursor()\n",
    "\n",
    "cur.execute('SELECT count(*) FROM v_full_offers_history')\n",
    "all_jobs_count = cur.fetchone()[0]\n",
    "datajobs_df = pd.read_sql_query('SELECT * FROM v_full_data_offers_history', conn, index_col='subm_date')\n",
    "\n",
    "cur.close()\n",
    "conn.close()"
   ]
  },
  {
   "cell_type": "code",
   "execution_count": 4,
   "metadata": {},
   "outputs": [
    {
     "data": {
      "text/plain": [
       "(1636, 634908)"
      ]
     },
     "execution_count": 4,
     "metadata": {},
     "output_type": "execute_result"
    }
   ],
   "source": [
    "datajobs_count = len(datajobs_df)\n",
    "datajobs_count, all_jobs_count"
   ]
  },
  {
   "cell_type": "markdown",
   "metadata": {},
   "source": [
    "### Pie Chart Preparation"
   ]
  },
  {
   "cell_type": "code",
   "execution_count": 5,
   "metadata": {},
   "outputs": [],
   "source": [
    "pie_trace = go.Pie(\n",
    "    values=[all_jobs_count, datajobs_count],\n",
    "    labels=['All Other', 'Data Jobs'],\n",
    "    marker=dict(\n",
    "        colors=[\n",
    "            DS['colorramp']['acc1'][3],\n",
    "            DS['colors']['acc1'],\n",
    "        ],\n",
    "        line=dict(\n",
    "            color=DS['colors']['acc1'],\n",
    "            width=2\n",
    "        )\n",
    "    ),\n",
    "    showlegend=False,\n",
    "    domain={'x':[0, 0.39], 'y':[0,0.89]},\n",
    "    name='Data Jobs Share of the Job Market',\n",
    "    hoverinfo='label+percent',\n",
    "    textinfo='value',\n",
    "    textfont=DS['chart_fonts']['anno'],\n",
    "    insidetextfont=DS['chart_fonts']['anno_in'],\n",
    "    hole=0.45,\n",
    "    rotation=0,\n",
    "    pull=0.05,)"
   ]
  },
  {
   "cell_type": "markdown",
   "metadata": {},
   "source": [
    "### Bar Chart Preparation"
   ]
  },
  {
   "cell_type": "code",
   "execution_count": 6,
   "metadata": {},
   "outputs": [
    {
     "name": "stderr",
     "output_type": "stream",
     "text": [
      "/data/WORKSPACE/jpynb_Employment_Trends_Bulgaria/ve-emptrends/lib/python3.7/site-packages/ipykernel_launcher.py:4: UserWarning:\n",
      "\n",
      "This pattern has match groups. To actually get the groups, use str.extract.\n",
      "\n"
     ]
    },
    {
     "data": {
      "text/html": [
       "<div>\n",
       "<style scoped>\n",
       "    .dataframe tbody tr th:only-of-type {\n",
       "        vertical-align: middle;\n",
       "    }\n",
       "\n",
       "    .dataframe tbody tr th {\n",
       "        vertical-align: top;\n",
       "    }\n",
       "\n",
       "    .dataframe thead th {\n",
       "        text-align: right;\n",
       "    }\n",
       "</style>\n",
       "<table border=\"1\" class=\"dataframe\">\n",
       "  <thead>\n",
       "    <tr style=\"text-align: right;\">\n",
       "      <th></th>\n",
       "      <th>subm_type</th>\n",
       "      <th>job_id</th>\n",
       "      <th>company_id</th>\n",
       "      <th>norm_salary</th>\n",
       "      <th>job_title</th>\n",
       "      <th>company_name</th>\n",
       "      <th>text_salary</th>\n",
       "      <th>job_contents</th>\n",
       "    </tr>\n",
       "    <tr>\n",
       "      <th>subm_date</th>\n",
       "      <th></th>\n",
       "      <th></th>\n",
       "      <th></th>\n",
       "      <th></th>\n",
       "      <th></th>\n",
       "      <th></th>\n",
       "      <th></th>\n",
       "      <th></th>\n",
       "    </tr>\n",
       "  </thead>\n",
       "  <tbody>\n",
       "    <tr>\n",
       "      <th>2017-12-20</th>\n",
       "      <td>submission</td>\n",
       "      <td>4102927</td>\n",
       "      <td>229915</td>\n",
       "      <td>NaN</td>\n",
       "      <td>Marketing Analyst with Tableau experience</td>\n",
       "      <td>key2market EOOD</td>\n",
       "      <td>None</td>\n",
       "      <td>&lt;!DOCTYPE html PUBLIC \"-//W3C//DTD XHTML 1.0 ...</td>\n",
       "    </tr>\n",
       "  </tbody>\n",
       "</table>\n",
       "</div>"
      ],
      "text/plain": [
       "             subm_type   job_id  company_id  norm_salary  \\\n",
       "subm_date                                                  \n",
       "2017-12-20  submission  4102927      229915          NaN   \n",
       "\n",
       "                                            job_title     company_name  \\\n",
       "subm_date                                                                \n",
       "2017-12-20  Marketing Analyst with Tableau experience  key2market EOOD   \n",
       "\n",
       "           text_salary                                       job_contents  \n",
       "subm_date                                                                  \n",
       "2017-12-20        None   <!DOCTYPE html PUBLIC \"-//W3C//DTD XHTML 1.0 ...  "
      ]
     },
     "execution_count": 6,
     "metadata": {},
     "output_type": "execute_result"
    }
   ],
   "source": [
    "ptrn = '((data analy(st|tics|sis))|(анализ.*данни))|(data (engineer|warehouse))|(((^|[/( ])bi(/| |$))|((data|business) intelligence))|(reporting (analyst|specialist))|(etl( |$))|(data (engineer|warehouse|scientist))'\n",
    "\n",
    "# looking at unmatched offers for count stats:\n",
    "datajobs_df[~datajobs_df['job_title'].str.lower().str.contains(ptrn)].head(1)"
   ]
  },
  {
   "cell_type": "code",
   "execution_count": 7,
   "metadata": {},
   "outputs": [
    {
     "data": {
      "text/plain": [
       "(556, 516, 242, 187, 111, 81)"
      ]
     },
     "execution_count": 7,
     "metadata": {},
     "output_type": "execute_result"
    }
   ],
   "source": [
    "bi_count = sum(datajobs_df.job_title.str.lower().str.count('((^|[/( ])bi(/| |$))|((data|business) intelligence)'))\n",
    "da_count = sum(datajobs_df.job_title.str.lower().str.count('(data analy(st|tics|sis))|(анализ.*данни)'))\n",
    "rep_count = sum(datajobs_df.job_title.str.lower().str.count('reporting (analyst|specialist)'))\n",
    "etl_count = sum(datajobs_df.job_title.str.lower().str.count('etl( |$)'))\n",
    "de_count = sum(datajobs_df.job_title.str.lower().str.count('data (engineer|warehouse)'))\n",
    "ds_count = sum(datajobs_df.job_title.str.lower().str.count('data scientist'))\n",
    "\n",
    "\n",
    "bi_count, da_count, rep_count, de_count, etl_count, ds_count"
   ]
  },
  {
   "cell_type": "code",
   "execution_count": 8,
   "metadata": {},
   "outputs": [],
   "source": [
    "bars_trace = go.Bar(\n",
    "    x=['Business<br>Intelligence', 'Data<br>Analysis', 'Reporting', 'Data<br>Engineering', 'ETL', 'Data<br>Science'],\n",
    "    y=[bi_count, da_count, rep_count, de_count, etl_count, ds_count],\n",
    "    orientation='v',\n",
    "    marker=dict(\n",
    "        line = dict(\n",
    "            width=1, \n",
    "            color=DS['colorramp']['acc1'][-1]\n",
    "        ),\n",
    "        color = DS['colors']['acc1'],\n",
    "        opacity=0.8,\n",
    "    ),\n",
    "    xaxis='x2',\n",
    "    showlegend=False,\n",
    ")"
   ]
  },
  {
   "cell_type": "code",
   "execution_count": 9,
   "metadata": {},
   "outputs": [],
   "source": [
    "data = [pie_trace, bars_trace]\n",
    "layout=go.Layout(\n",
    "    paper_bgcolor=DS['colors']['bg1'],            \n",
    "    plot_bgcolor=DS['colors']['bg1'],\n",
    "    title=\"Data Jobs Market Share\",\n",
    "    titlefont=DS['chart_fonts']['title'],\n",
    "    font = DS['chart_fonts']['text'],\n",
    "    autosize=True,\n",
    "    showlegend=False,\n",
    "    hidesources=True,\n",
    "    clickmode='none',\n",
    "    xaxis=dict(\n",
    "    ),\n",
    "    xaxis2=dict(\n",
    "        domain=[0.50, 1],\n",
    "        tickangle=0,\n",
    "    ),\n",
    ")"
   ]
  },
  {
   "cell_type": "code",
   "execution_count": 13,
   "metadata": {},
   "outputs": [
    {
     "data": {
      "application/vnd.plotly.v1+json": {
       "config": {
        "linkText": "Export to plot.ly",
        "plotlyServerURL": "https://plot.ly",
        "showLink": true
       },
       "data": [
        {
         "domain": {
          "x": [
           0,
           0.39
          ],
          "y": [
           0,
           0.89
          ]
         },
         "hole": 0.45,
         "hoverinfo": "label+percent",
         "insidetextfont": {
          "color": "#8f391e",
          "family": "Fira Sans Extra Condensed",
          "size": 18
         },
         "labels": [
          "All Other",
          "Data Jobs"
         ],
         "marker": {
          "colors": [
           "#e1b396",
           "#bf4d28"
          ],
          "line": {
           "color": "#bf4d28",
           "width": 2
          }
         },
         "name": "Data Jobs Share of the Job Market",
         "pull": 0.05,
         "rotation": 0,
         "showlegend": false,
         "textfont": {
          "color": "#40362F",
          "family": "Fira Sans Extra Condensed",
          "size": 14
         },
         "textinfo": "value",
         "type": "pie",
         "uid": "c7998aec-6ccc-49fe-ad9a-56a1f9e1d1d5",
         "values": [
          634908,
          1636
         ]
        },
        {
         "marker": {
          "color": "#bf4d28",
          "line": {
           "color": "#8f391e",
           "width": 1
          },
          "opacity": 0.8
         },
         "orientation": "v",
         "showlegend": false,
         "type": "bar",
         "uid": "d6d75d90-ece5-46e7-9108-fbe7db9549c9",
         "x": [
          "Business<br>Intelligence",
          "Data<br>Analysis",
          "Reporting",
          "Data<br>Engineering",
          "ETL",
          "Data<br>Science"
         ],
         "xaxis": "x2",
         "y": [
          556,
          516,
          242,
          187,
          111,
          81
         ]
        }
       ],
       "layout": {
        "autosize": true,
        "clickmode": "none",
        "font": {
         "color": "#655643",
         "family": "Fira Sans Condensed",
         "size": 12
        },
        "hidesources": true,
        "paper_bgcolor": "#fffaf0",
        "plot_bgcolor": "#fffaf0",
        "showlegend": false,
        "title": "Data Jobs Market Share",
        "titlefont": {
         "color": "#655643",
         "family": "Merryweather",
         "size": 18
        },
        "xaxis2": {
         "domain": [
          0.5,
          1
         ],
         "tickangle": 0
        }
       }
      },
      "text/html": [
       "<div id=\"216a967c-d9b5-4de6-a15a-334d4e84df0c\" style=\"height: 525px; width: 100%;\" class=\"plotly-graph-div\"></div><script type=\"text/javascript\">require([\"plotly\"], function(Plotly) { window.PLOTLYENV=window.PLOTLYENV || {};window.PLOTLYENV.BASE_URL=\"https://plot.ly\";Plotly.newPlot(\"216a967c-d9b5-4de6-a15a-334d4e84df0c\", [{\"domain\": {\"x\": [0, 0.39], \"y\": [0, 0.89]}, \"hole\": 0.45, \"hoverinfo\": \"label+percent\", \"insidetextfont\": {\"color\": \"#8f391e\", \"family\": \"Fira Sans Extra Condensed\", \"size\": 18}, \"labels\": [\"All Other\", \"Data Jobs\"], \"marker\": {\"colors\": [\"#e1b396\", \"#bf4d28\"], \"line\": {\"color\": \"#bf4d28\", \"width\": 2}}, \"name\": \"Data Jobs Share of the Job Market\", \"pull\": 0.05, \"rotation\": 0, \"showlegend\": false, \"textfont\": {\"color\": \"#40362F\", \"family\": \"Fira Sans Extra Condensed\", \"size\": 14}, \"textinfo\": \"value\", \"values\": [634908, 1636], \"type\": \"pie\", \"uid\": \"c7998aec-6ccc-49fe-ad9a-56a1f9e1d1d5\"}, {\"marker\": {\"color\": \"#bf4d28\", \"line\": {\"color\": \"#8f391e\", \"width\": 1}, \"opacity\": 0.8}, \"orientation\": \"v\", \"showlegend\": false, \"x\": [\"Business<br>Intelligence\", \"Data<br>Analysis\", \"Reporting\", \"Data<br>Engineering\", \"ETL\", \"Data<br>Science\"], \"xaxis\": \"x2\", \"y\": [556, 516, 242, 187, 111, 81], \"type\": \"bar\", \"uid\": \"d6d75d90-ece5-46e7-9108-fbe7db9549c9\"}], {\"autosize\": true, \"clickmode\": \"none\", \"font\": {\"color\": \"#655643\", \"family\": \"Fira Sans Condensed\", \"size\": 12}, \"hidesources\": true, \"paper_bgcolor\": \"#fffaf0\", \"plot_bgcolor\": \"#fffaf0\", \"showlegend\": false, \"title\": \"Data Jobs Market Share\", \"titlefont\": {\"color\": \"#655643\", \"family\": \"Merryweather\", \"size\": 18}, \"xaxis2\": {\"domain\": [0.5, 1], \"tickangle\": 0}}, {\"showLink\": true, \"linkText\": \"Export to plot.ly\", \"plotlyServerURL\": \"https://plot.ly\"})});</script><script type=\"text/javascript\">window.addEventListener(\"resize\", function(){window._Plotly.Plots.resize(document.getElementById(\"216a967c-d9b5-4de6-a15a-334d4e84df0c\"));});</script>"
      ],
      "text/vnd.plotly.v1+html": [
       "<div id=\"216a967c-d9b5-4de6-a15a-334d4e84df0c\" style=\"height: 525px; width: 100%;\" class=\"plotly-graph-div\"></div><script type=\"text/javascript\">require([\"plotly\"], function(Plotly) { window.PLOTLYENV=window.PLOTLYENV || {};window.PLOTLYENV.BASE_URL=\"https://plot.ly\";Plotly.newPlot(\"216a967c-d9b5-4de6-a15a-334d4e84df0c\", [{\"domain\": {\"x\": [0, 0.39], \"y\": [0, 0.89]}, \"hole\": 0.45, \"hoverinfo\": \"label+percent\", \"insidetextfont\": {\"color\": \"#8f391e\", \"family\": \"Fira Sans Extra Condensed\", \"size\": 18}, \"labels\": [\"All Other\", \"Data Jobs\"], \"marker\": {\"colors\": [\"#e1b396\", \"#bf4d28\"], \"line\": {\"color\": \"#bf4d28\", \"width\": 2}}, \"name\": \"Data Jobs Share of the Job Market\", \"pull\": 0.05, \"rotation\": 0, \"showlegend\": false, \"textfont\": {\"color\": \"#40362F\", \"family\": \"Fira Sans Extra Condensed\", \"size\": 14}, \"textinfo\": \"value\", \"values\": [634908, 1636], \"type\": \"pie\", \"uid\": \"c7998aec-6ccc-49fe-ad9a-56a1f9e1d1d5\"}, {\"marker\": {\"color\": \"#bf4d28\", \"line\": {\"color\": \"#8f391e\", \"width\": 1}, \"opacity\": 0.8}, \"orientation\": \"v\", \"showlegend\": false, \"x\": [\"Business<br>Intelligence\", \"Data<br>Analysis\", \"Reporting\", \"Data<br>Engineering\", \"ETL\", \"Data<br>Science\"], \"xaxis\": \"x2\", \"y\": [556, 516, 242, 187, 111, 81], \"type\": \"bar\", \"uid\": \"d6d75d90-ece5-46e7-9108-fbe7db9549c9\"}], {\"autosize\": true, \"clickmode\": \"none\", \"font\": {\"color\": \"#655643\", \"family\": \"Fira Sans Condensed\", \"size\": 12}, \"hidesources\": true, \"paper_bgcolor\": \"#fffaf0\", \"plot_bgcolor\": \"#fffaf0\", \"showlegend\": false, \"title\": \"Data Jobs Market Share\", \"titlefont\": {\"color\": \"#655643\", \"family\": \"Merryweather\", \"size\": 18}, \"xaxis2\": {\"domain\": [0.5, 1], \"tickangle\": 0}}, {\"showLink\": true, \"linkText\": \"Export to plot.ly\", \"plotlyServerURL\": \"https://plot.ly\"})});</script><script type=\"text/javascript\">window.addEventListener(\"resize\", function(){window._Plotly.Plots.resize(document.getElementById(\"216a967c-d9b5-4de6-a15a-334d4e84df0c\"));});</script>"
      ]
     },
     "metadata": {},
     "output_type": "display_data"
    }
   ],
   "source": [
    "fig = go.Figure(data=data, layout=layout)\n",
    "plotly.offline.iplot(fig, filename='data_offers_pie_and_bar.html')"
   ]
  },
  {
   "cell_type": "code",
   "execution_count": 11,
   "metadata": {},
   "outputs": [
    {
     "data": {
      "text/plain": [
       "'file:///data/WORKSPACE/jpynb_Employment_Trends_Bulgaria/workbooks/data_offers_pie_and_bar.html'"
      ]
     },
     "execution_count": 11,
     "metadata": {},
     "output_type": "execute_result"
    }
   ],
   "source": [
    "# Uncomment the line below to export an HTML version of the chart.\n",
    "#plotly.offline.plot(fig, filename='data_offers_pie_and_bar.html', show_link=False)"
   ]
  },
  {
   "cell_type": "code",
   "execution_count": 12,
   "metadata": {},
   "outputs": [
    {
     "data": {
      "text/html": [
       "<style>\n",
       "@import url('https://fonts.googleapis.com/css?family=Fira+Mono|Fira+Sans|Fira+Sans+Condensed|Fira+Sans+Extra+Condensed');\n",
       "@import url('https://fonts.googleapis.com/css?family=Merriweather|Merriweather+Sans');\n",
       "\n",
       ".nbviewer {\n",
       "    background-color: #E5E1D8;\n",
       "}\n",
       "\n",
       "#notebook {\n",
       "    background-color: #E5E1D8;\n",
       "}\n",
       "\n",
       "#notebook-container {\n",
       "    background-color: #FFFAF0;\n",
       "    max-width: 1200px;\n",
       "    border-radius: 4px;\n",
       "    padding: 60px 40px 40px 40px;\n",
       "    -webkit-box-shadow: 0px 0px 12px 1px rgba(101,86,67,0.75);\n",
       "    -moz-box-shadow: 0px 0px 12px 1px rgba(101,86,67,0.75);\n",
       "    box-shadow: 0px 0px 12px 1px rgba(101,86,67,0.75);\n",
       "}\n",
       "\n",
       "/* Headings */\n",
       ".text_cell_render h1 {\n",
       "    color: #655643;\n",
       "    font-family: 'Merriweather', serif;\n",
       "    font-weight: 900;\n",
       "    font-size: 3.2em;\n",
       "    text-shadow: 0 2px #FFFAF0, 0 3px #8c8b8b;\n",
       "    padding: 30px 0 20px 0;\n",
       "}\n",
       "\n",
       ".text_cell_render h2 {\n",
       "    color: #655643;\n",
       "    font-family: 'Merriweather', serif;\n",
       "    font-weight: 400;\n",
       "    font-size: 2.4em;\n",
       "    padding: 34px 0 6px 0;\n",
       "    margin-bottom: 26px;\n",
       "    border-bottom: 2px solid #E5E1D8;\n",
       "}\n",
       "\n",
       ".text_cell_render h3 {\n",
       "    color: #655643;\n",
       "    font-family: 'Merriweather', serif;\n",
       "    font-weight: 100;\n",
       "    font-size: 1.6em;\n",
       "    padding: 6px 0 0 0;\n",
       "}\n",
       "\n",
       ".text_cell_render h4 {\n",
       "    color: #655643;\n",
       "    font-family: 'Merriweather', serif;\n",
       "    font-weight: 100;\n",
       "    font-size: 1.4em;\n",
       "}\n",
       "\n",
       "/* Use for subtitles and other non-headings */\n",
       "div.rendered_html > h5 {\n",
       "    color: #655643;\n",
       "    font-family: 'Merriweather Sans', sans-serif;\n",
       "    font-size: 1.0em;\n",
       "    font-weight: normal;\n",
       "    font-style: normal;\n",
       "    margin-top: 0.5em;\n",
       "    padding: 8px 0 8px 0;\n",
       "    border-bottom: 2px solid #E5E1D8;\n",
       "    border-top: 2px solid #E5E1D8;\n",
       "}\n",
       "\n",
       "/* Use for image and chart captions */\n",
       "div.rendered_html > h6 {\n",
       "    font-family: 'Merriweather Sans', sans-serif;\n",
       "    font-size: 0.9em;\n",
       "    line-height: 1.5em;\n",
       "    color: #cac8c9;\n",
       "    font-weight: normal;\n",
       "    max-width: 525px;\n",
       "    display: block;\n",
       "    margin-left: auto;\n",
       "    margin-right: auto;\n",
       "}\n",
       "\n",
       "div#notebook-container p {\n",
       "    font-family: 'Fira Sans Condensed', sans-serif;\n",
       "    font-size: 1.2em;\n",
       "    line-height: 1.3em;\n",
       "    color: #655643;\n",
       "}\n",
       "\n",
       "/* Lists */\n",
       "ol, ul {\n",
       "    font-family: 'Fira Sans Condensed', sans-serif;\n",
       "    line-height: 1.3em;\n",
       "    color: #655643;\n",
       "}\n",
       "\n",
       "div.prompt {\n",
       "    min-width: 8ex;\n",
       "}\n",
       "\n",
       "div.input_prompt {\n",
       "    color: #aad0bc;\n",
       "    font-size: 0.7em;\n",
       "}\n",
       "\n",
       "div.output_prompt {\n",
       "    color: #aad0bc;\n",
       "    font-size: 0.7em;\n",
       "}\n",
       "\n",
       "div.text_cell code {\n",
       "    background: transparent;\n",
       "    color: #40362F;\n",
       "    font-family: 'Fira Mono', monospace;\n",
       "}\n",
       "\n",
       "div.input_area {\n",
       "    background-color: #FFFAF0;\n",
       "    border: 1px solid #E5E1D8;\n",
       "    background: repeating-linear-gradient(135deg, #FFFAF0, #FFFAF0 5px, #F7F7ED 5px, #F7F7ED 10px);\n",
       "}\n",
       "\n",
       "div.cell.rendered.selected {\n",
       "    background: #E5E1D8;\n",
       "    border: 1px solid #38614F;\n",
       "}\n",
       "\n",
       "div.output_area img {\n",
       "    display: block;\n",
       "    margin-left: auto;\n",
       "    margin-right: auto;\n",
       "}\n",
       "\n",
       "div.rendered_html pre, code {\n",
       "    font-family: 'Fira Sans Condensed', sans-serif;\n",
       "    font-size: 16px;\n",
       "    font-weight: 400;\n",
       "    color: #40362F;\n",
       "    background-color: #E5E1D8;\n",
       "}\n",
       "\n",
       "div.output_text pre {\n",
       "    font-family: 'Fira Sans Condensed', sans-serif;\n",
       "    font-size: 13px;\n",
       "    font-weight: 300;\n",
       "    color: #40362F;\n",
       "}\n",
       "\n",
       "div.output_subarea {\n",
       "    display: block;\n",
       "    margin-left: auto;\n",
       "    margin-right: auto;\n",
       "}\n",
       "\n",
       "pre, textarea {\n",
       "    overflow: hidden;\n",
       "}\n",
       "\n",
       "div.text_cell_render img {\n",
       "    max-height: 525px;\n",
       "    display: block;\n",
       "    margin-left: auto;\n",
       "    margin-right: auto;\n",
       "}\n",
       "\n",
       "div.output output_scroll {\n",
       "    overflow-x: auto;\n",
       "    overflow-y: scroll;\n",
       "    max-height: 2000px;\n",
       "}\n",
       "\n",
       "div.rendered_html hr {\n",
       "    border: 0;\n",
       "    height: 1px;\n",
       "    background-color: #655643;\n",
       "}\n",
       "\n",
       "div.rendered_html pre, code {\n",
       "    font-family: 'Fira Sans Condensed', sans-serif;\n",
       "    font-size: 1.1em;\n",
       "    color: #40362F;\n",
       "    background-color: #FFFAF0;\n",
       "}\n",
       "\n",
       "/* Links */\n",
       "a.link--embedview {\n",
       "    display: none;\n",
       "}\n",
       "\n",
       "a:link {\n",
       "    color: #293C34;\n",
       "}\n",
       "\n",
       "a:visited {\n",
       "    color: #293C34;\n",
       "}\n",
       "\n",
       "a:hover {\n",
       "    color: #557C6C;\n",
       "}\n",
       "\n",
       "a:focus {\n",
       "    color:#557C6C;\n",
       "}\n",
       "\n",
       "a:active {\n",
       "    font-weight: bold;\n",
       "    color:#80BCA3;\n",
       "}\n",
       "\n",
       ".rendered_html :link {\n",
       "    text-decoration: underline;\n",
       "}\n",
       "\n",
       "/* Colors for code highlighting */\n",
       ".CodeMirror-code span.cm-keyword {\n",
       "    color: #557C6C;\n",
       "}\n",
       "\n",
       ".CodeMirror-code span.cm-variable {\n",
       "    color: #4C4138;\n",
       "}\n",
       "\n",
       ".CodeMirror-code span.cm-property {\n",
       "    color: #40362F;\n",
       "}\n",
       "\n",
       ".CodeMirror-code span.cm-operator {\n",
       "    color: #4C4138;\n",
       "}\n",
       "\n",
       ".CodeMirror-code span.cm-string {\n",
       "    color: #7F331B;\n",
       "}\n",
       "\n",
       ".CodeMirror-code span.cm-number {\n",
       "    color: #458C7A;\n",
       "}\n",
       "\n",
       ".CodeMirror-code span.cm-comment {\n",
       "    color: #557C6C;\n",
       "}\n",
       "\n",
       ".CodeMirror-code span.cm-builtin {\n",
       "    color: #557C6C;\n",
       "}\n",
       "\n",
       "/* Code with no class applied (brackets mostly) */\n",
       ".CodeMirror-line > span {\n",
       "    color: #557C6C;\n",
       "}\n",
       "\n",
       "/* Table styles */\n",
       "table {\n",
       "    border: 1px solid #BF4D28;\n",
       "}\n",
       "\n",
       ".rendered_html table {\n",
       "    float:left;\n",
       "    border-collapse: collapse;\n",
       "}\n",
       "\n",
       ".rendered_html table th {\n",
       "    text-align: left;\n",
       "    background-color: #E5E1D8;\n",
       "}\n",
       "\n",
       ".rendered_html td {\n",
       "    text-align: left;\n",
       "}\n",
       "\n",
       ".rendered_html table tr:nth-child(odd) {\n",
       "    background-color: #F0E4D5;\n",
       "}\n",
       "\n",
       ".rendered_html table tr:nth-child(even) {\n",
       "    background-color: #F5EDE1;\n",
       "}\n",
       "\n",
       ".rendered_html table tr:hover {\n",
       "    background-color: #BF4D28;\n",
       "}\n",
       "\n",
       "iframe {\n",
       "    border-width: 0;\n",
       "}\n",
       "</style>\n"
      ],
      "text/plain": [
       "<IPython.core.display.HTML object>"
      ]
     },
     "execution_count": 12,
     "metadata": {},
     "output_type": "execute_result"
    }
   ],
   "source": [
    "from IPython.core.display import HTML\n",
    "with open('../resources/styles/datum.css', 'r') as f:\n",
    "    style = f.read()\n",
    "HTML(style)"
   ]
  }
 ],
 "metadata": {
  "kernelspec": {
   "display_name": "Python 3",
   "language": "python",
   "name": "python3"
  },
  "language_info": {
   "codemirror_mode": {
    "name": "ipython",
    "version": 3
   },
   "file_extension": ".py",
   "mimetype": "text/x-python",
   "name": "python",
   "nbconvert_exporter": "python",
   "pygments_lexer": "ipython3",
   "version": "3.7.1"
  }
 },
 "nbformat": 4,
 "nbformat_minor": 2
}
