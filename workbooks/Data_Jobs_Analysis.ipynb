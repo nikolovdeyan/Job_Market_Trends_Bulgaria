{
 "cells": [
  {
   "cell_type": "markdown",
   "metadata": {
    "slideshow": {
     "slide_type": "slide"
    }
   },
   "source": [
    "# Data Jobs Analysis\n",
    "\n",
    "\n",
    "\n",
    "\n",
    "##### _Business Intelligence , Data Engineering, and Data Analytics Jobs in Bulgaria - Availability and Required Skillset_\n",
    "\n"
   ]
  },
  {
   "cell_type": "markdown",
   "metadata": {
    "slideshow": {
     "slide_type": "slide"
    }
   },
   "source": [
    "## Abstract\n",
    "\n",
    "This presentation attempts to shed light on the employment demand for data engineering, data science, data analysis, and data presentation in Bulgaria by analyzing a dataset of job offers collected from one of the biggest on-line employment portals in Bulgaria. Referred together to as *data jobs*, these professional opportunities form a small, but rapidly accelerating subset of the IT job market. \n",
    "\n",
    "The Data Jobs Analysis article is a part of a larger project that involved the full data analytics lifecycle from data collection to data analysis and presentation. The project was launched primarily for learning purposes but also to gather relevant, fresh, and not readily available information that can be used for data-driven decision making in the very fast moving landscape of IT jobs. As the analysis of the data and its presentation is the logical conclusion of a data intelligence project, this article's primary objective is to provide a view on the jobs market in Bulgaria. The focus is put on the presentation of the data, choosing the right data variables to track, and picking the best charts to show various trends.  \n",
    "\n",
    "To meet a secondary objective set for this project and keep the research done in some sort of knowledge-base, the process of creating each of the charts shown is captured in a separate workbook along with a minimal explanation on the steps performed. These workbooks are linked in the appendix at the end of this article."
   ]
  },
  {
   "cell_type": "markdown",
   "metadata": {
    "slideshow": {
     "slide_type": "slide"
    }
   },
   "source": [
    "## Job Titles Analyzed\n",
    "\n",
    "### Defining Data Jobs\n",
    "\n",
    "So what exactly is considered a *data job*? As a matter of personal preference of the author, this analysis selects offers that are related to the field of data engineering, business intelligence, data analytics and reporting. I made an attempt to exclude basic data entry and digitization jobs and false hits that are not related to the previously described categories. More on offer selection criteria follows."
   ]
  },
  {
   "cell_type": "markdown",
   "metadata": {
    "slideshow": {
     "slide_type": "slide"
    }
   },
   "source": [
    "The short descriptions below are taken from [Simplilearn's \"Top 12 Interesting Careers to Explore in Big Data Infographic](https://www.slideshare.net/Simplilearn/top-12-interesting-careers-in-big-data-70520677)\n",
    "\n",
    "#### Data Visualization Developers\n",
    "They design, develop and provide production support of interactive data visualizations used across the enterprise. They possess an artistic mind that conceptualizes, design, and develop reusable graphic/data visualizations and use strong technical knowledge for implementing these visualizations using the latest technologies.\n",
    "\n",
    "#### Data Engineers\n",
    "They ensure uninterrupted flow of data between servers and applications and are also responsible for data architecture. They develop, maintain, test, and evaluate big data solutions within organizations.\n",
    "\n",
    "#### Data Analysts\n",
    "Subject matter experts with deep domain knowledge who support various development initiatives, assist in testing and perform research in order to understand business issues and to develop practical cost-effective solutions to problems.\n",
    "\n",
    "#### Data Scientists\n",
    "Experts with quantitative background skilled in statistics, who help companies make sense of the data. They use their analytical and technical capabilities to extract meaningful insights from data.\n"
   ]
  },
  {
   "cell_type": "markdown",
   "metadata": {},
   "source": [
    "### Data  Filtering\n",
    "\n",
    "The process begins with an exploration of the job offers deemed most prospective, those in the field of data analysis, data integration, data wrangling, etc. The first step in the process is to correctly filter the offers that are relevant to our research. That was done using a series of targeted queries against the offer titles and content. All of the positions described below have common traits, and it is common for an organization to look for skills in more than one of the position descriptions (e.g. a data visualization expert with ETL or DWH knowledge).\n",
    "\n",
    "The result of our initial filter is a small subset of job offers which we can explore further:"
   ]
  },
  {
   "cell_type": "code",
   "execution_count": 163,
   "metadata": {
    "slideshow": {
     "slide_type": "subslide"
    }
   },
   "outputs": [
    {
     "data": {
      "text/html": [
       "<iframe width=\"100%\" height=\"525px\" seamless=\"seamless\" src=\"./data_offers_pie_and_bar.html\"></iframe>\n"
      ],
      "text/plain": [
       "<IPython.core.display.HTML object>"
      ]
     },
     "metadata": {},
     "output_type": "display_data"
    }
   ],
   "source": [
    "%%HTML\n",
    "<iframe width=\"100%\" height=\"525px\" seamless=\"seamless\" src=\"./data_offers_pie_and_bar.html\"></iframe>"
   ]
  },
  {
   "cell_type": "markdown",
   "metadata": {
    "slideshow": {
     "slide_type": "slide"
    }
   },
   "source": [
    "## Temporal Analysis\n",
    "\n",
    "Having identified and verified the set of targeted offers, we can now provide some historical perspective for the time period available to our study. We begin with an important visualization presenting how the quantity of submitted data jobs has changed over two selected time period bins: weekly and monthly.\n"
   ]
  },
  {
   "cell_type": "markdown",
   "metadata": {
    "slideshow": {
     "slide_type": "slide"
    }
   },
   "source": [
    "\n",
    "\n",
    "### Offers over time bar chart\n",
    "\n",
    "Presented as a standard bar chart in two aggregation levels (week and month), the data shows significant increase in the total numbers of data related jobs available.  It is interesting to note as well is that the increase is almost unaffected by the yearly dynamic (to be addressed in a separate article) in employment market activity where distinct high and low periods are observed."
   ]
  },
  {
   "cell_type": "code",
   "execution_count": 1,
   "metadata": {
    "scrolled": false,
    "slideshow": {
     "slide_type": "subslide"
    }
   },
   "outputs": [
    {
     "data": {
      "text/html": [
       "<iframe width=\"100%\" height=\"525px\" seamless=\"seamless\" src=\"./data_offers_over_time_bar_chart.html\"></iframe>\n"
      ],
      "text/plain": [
       "<IPython.core.display.HTML object>"
      ]
     },
     "metadata": {},
     "output_type": "display_data"
    }
   ],
   "source": [
    "%%HTML \n",
    "<iframe width=\"100%\" height=\"525px\" seamless=\"seamless\" src=\"./data_offers_over_time_bar_chart.html\"></iframe>"
   ]
  },
  {
   "cell_type": "markdown",
   "metadata": {},
   "source": [
    "### Offers over time by type\n",
    "\n",
    "This stacked bar chart also shows the monthly data jobs demand by type."
   ]
  },
  {
   "cell_type": "code",
   "execution_count": 4,
   "metadata": {},
   "outputs": [
    {
     "data": {
      "text/html": [
       "<iframe width=\"100%\" height=\"525px\" src=\"./data_offer_profiles_stacked_bar.html\"></iframe>\n"
      ],
      "text/plain": [
       "<IPython.core.display.HTML object>"
      ]
     },
     "metadata": {},
     "output_type": "display_data"
    }
   ],
   "source": [
    "%%HTML \n",
    "<iframe width=\"100%\" height=\"525px\" src=\"./data_offer_profiles_stacked_bar.html\"></iframe>"
   ]
  },
  {
   "cell_type": "markdown",
   "metadata": {
    "slideshow": {
     "slide_type": "slide"
    }
   },
   "source": [
    "### Offers over time heatmap\n",
    "\n",
    "Heatmaps are another useful way to present historical data and visually explore the trends. This one confirms the increase in demand shown in the previous chart, but also reveals weekly dynamics. Notice the heatmap getting darker as time progresses."
   ]
  },
  {
   "cell_type": "code",
   "execution_count": 5,
   "metadata": {
    "scrolled": false,
    "slideshow": {
     "slide_type": "subslide"
    }
   },
   "outputs": [
    {
     "data": {
      "text/html": [
       "<iframe width=\"100%\" height=\"525px\" src=\"./data_offers_subm_heatmap.html\"></iframe>\n"
      ],
      "text/plain": [
       "<IPython.core.display.HTML object>"
      ]
     },
     "metadata": {},
     "output_type": "display_data"
    }
   ],
   "source": [
    "%%HTML \n",
    "<iframe width=\"100%\" height=\"525px\" src=\"./data_offers_subm_heatmap.html\"></iframe>"
   ]
  },
  {
   "cell_type": "markdown",
   "metadata": {},
   "source": [
    "###  Data Jobs Salary Transparency Chart\n",
    "\n",
    "A percent stacked area graph illustrating the ratio of data jobs with announced salary information in the job offer. In this type of chart the value of each group is normalized at each time stamp and presented as a percentage part of the whole, allowing the reader to compare the groups that compose the whole. In order to hide the noise from daily fluctuations the data has been aggregated in time period bins spanning one month."
   ]
  },
  {
   "cell_type": "code",
   "execution_count": 167,
   "metadata": {},
   "outputs": [
    {
     "data": {
      "text/html": [
       "<iframe width=\"100%\" height=\"525px\" src=\"./data_jobs_salary_transparency.html\"></iframe>\n"
      ],
      "text/plain": [
       "<IPython.core.display.HTML object>"
      ]
     },
     "metadata": {},
     "output_type": "display_data"
    }
   ],
   "source": [
    "%%HTML \n",
    "<iframe width=\"100%\" height=\"525px\" src=\"./data_jobs_salary_transparency.html\"></iframe>"
   ]
  },
  {
   "cell_type": "markdown",
   "metadata": {
    "slideshow": {
     "slide_type": "slide"
    }
   },
   "source": [
    "## Key Players & Locations\n"
   ]
  },
  {
   "cell_type": "markdown",
   "metadata": {
    "slideshow": {
     "slide_type": "slide"
    }
   },
   "source": [
    "### Key Players by Total Number of Submitted Data Jobs\n",
    "\n"
   ]
  },
  {
   "cell_type": "code",
   "execution_count": 168,
   "metadata": {
    "scrolled": false,
    "slideshow": {
     "slide_type": "subslide"
    }
   },
   "outputs": [
    {
     "data": {
      "text/html": [
       "<iframe width=\"100%\" height=\"525px\" src=\"./data_offers_key_players_pareto.html\"></iframe>\n"
      ],
      "text/plain": [
       "<IPython.core.display.HTML object>"
      ]
     },
     "metadata": {},
     "output_type": "display_data"
    }
   ],
   "source": [
    "%%HTML \n",
    "<iframe width=\"100%\" height=\"525px\" src=\"./data_offers_key_players_pareto.html\"></iframe>"
   ]
  },
  {
   "cell_type": "markdown",
   "metadata": {
    "slideshow": {
     "slide_type": "slide"
    }
   },
   "source": [
    "### Locations\n",
    "- Identify Location Trends\n",
    "What are the salaries for our targets."
   ]
  },
  {
   "cell_type": "markdown",
   "metadata": {
    "slideshow": {
     "slide_type": "slide"
    }
   },
   "source": [
    "## Skills and Tools Requirements\n",
    "\n",
    "Use the requirements to produce a list of top technologies, then look in the offers' contents for them and provide a summary."
   ]
  },
  {
   "cell_type": "code",
   "execution_count": 179,
   "metadata": {
    "slideshow": {
     "slide_type": "subslide"
    }
   },
   "outputs": [
    {
     "data": {
      "text/html": [
       "<iframe width=\"100%\" height=\"550px\" src=\"./data_offers_tech_requirements_chord.html\"></iframe>\n"
      ],
      "text/plain": [
       "<IPython.core.display.HTML object>"
      ]
     },
     "metadata": {},
     "output_type": "display_data"
    }
   ],
   "source": [
    "%%HTML\n",
    "<iframe width=\"100%\" height=\"550px\" src=\"./data_offers_tech_requirements_chord.html\"></iframe>"
   ]
  },
  {
   "cell_type": "markdown",
   "metadata": {
    "slideshow": {
     "slide_type": "slide"
    }
   },
   "source": [
    "## Remuneration Analysis\n"
   ]
  },
  {
   "cell_type": "markdown",
   "metadata": {},
   "source": [
    "### Data Offers  Salary Statistics Boxplot\n"
   ]
  },
  {
   "cell_type": "code",
   "execution_count": 172,
   "metadata": {},
   "outputs": [
    {
     "data": {
      "text/html": [
       "<iframe width=\"100%\" height=\"525px\" seamless=\"seamless\" src=\"./monthly_salary_statistics_data_offers.html\"></iframe>\n"
      ],
      "text/plain": [
       "<IPython.core.display.HTML object>"
      ]
     },
     "metadata": {},
     "output_type": "display_data"
    }
   ],
   "source": [
    "%%HTML \n",
    "<iframe width=\"100%\" height=\"525px\" seamless=\"seamless\" src=\"./monthly_salary_statistics_data_offers.html\"></iframe>"
   ]
  },
  {
   "cell_type": "markdown",
   "metadata": {},
   "source": [
    "### Data Offers Salary Scatter Plot\n",
    "\n",
    "The shaded area illustrates the interquartile range ([IQR](https://en.wikipedia.org/wiki/Interquartile_range)) calculated for all job offers with disclosed salary offered. In other words 50% of the offered salaries in Bulgaria are somewhere inside the dark band. While it was more or less expected for professions in the technology field to be higher paid than the average, it is interesting to see also how some positions remain unfilled for long periods of time even when high salary is offered."
   ]
  },
  {
   "cell_type": "code",
   "execution_count": 173,
   "metadata": {
    "slideshow": {
     "slide_type": "subslide"
    }
   },
   "outputs": [
    {
     "data": {
      "text/html": [
       "<iframe width=\"100%\" height=\"525px\" src=\"./data_offers_scatter.html\"></iframe>\n"
      ],
      "text/plain": [
       "<IPython.core.display.HTML object>"
      ]
     },
     "metadata": {},
     "output_type": "display_data"
    }
   ],
   "source": [
    "%%HTML \n",
    "<iframe width=\"100%\" height=\"525px\" src=\"./data_offers_scatter.html\"></iframe>"
   ]
  },
  {
   "cell_type": "markdown",
   "metadata": {
    "slideshow": {
     "slide_type": "slide"
    }
   },
   "source": [
    "## Appendix: \n"
   ]
  },
  {
   "cell_type": "markdown",
   "metadata": {},
   "source": [
    "\n",
    "### Resources Used\n",
    "\n",
    "This presentation is powered by:\n",
    "\n",
    "<table>\n",
    "    <tr>\n",
    "        <td><img src='https://www.vectorlogo.zone/logos/python/python-ar21.svg' style=\"height: 60px;\"></td>\n",
    "        <td><img src='https://www.vectorlogo.zone/logos/postgresql/postgresql-ar21.svg' style=\"height: 60px;\"></td>\n",
    "        <td><img src='https://www.vectorlogo.zone/logos/jupyter/jupyter-ar21.svg' style=\"height: 60px;\"></td>\n",
    "        <td><img src='https://www.vectorlogo.zone/logos/plot_ly/plot_ly-ar21.svg' style=\"height: 60px;\"></td>\n",
    "    </tr>\n",
    "    <tr>\n",
    "        <td><img src='https://www.vectorlogo.zone/logos/github/github-ar21.svg' style=\"height: 60px;\"></td>\n",
    "        <td><img src='https://www.vectorlogo.zone/logos/javascript/javascript-ar21.svg' style=\"height: 60px;\"></td>   \n",
    "        <td><img src='https://www.vectorlogo.zone/logos/w3_html5/w3_html5-ar21.svg' style=\"height: 60px;\"></td>\n",
    "    </tr>\n",
    "</table>"
   ]
  },
  {
   "cell_type": "markdown",
   "metadata": {
    "slideshow": {
     "slide_type": "slide"
    }
   },
   "source": [
    "### Visualization Recipes"
   ]
  },
  {
   "cell_type": "markdown",
   "metadata": {
    "slideshow": {
     "slide_type": "subslide"
    }
   },
   "source": [
    "Recipes for all charts used in this presentation are available on the links below: \n",
    "\n",
    "1. Data Offers Share Pie and Bar [open notebook](https://nbviewer.jupyter.org/github/nikolovdeyan/Job_Market_Trends_Bulgaria/blob/master/workbooks/Data_Offers_Share_Pie_and_Bar_Chart.ipynb)\n",
    "2. Data Offers Over Time Bar Chart [open notebook](https://nbviewer.jupyter.org/github/nikolovdeyan/Job_Market_Trends_Bulgaria/blob/master/workbooks/Data_Offers_Historical_Bar_Charts.ipynb)\n",
    "3. Data Offers Over Time Heatmap [open notebook](https://nbviewer.jupyter.org/github/nikolovdeyan/Job_Market_Trends_Bulgaria/blob/master/workbooks/Data_Offers_Heatmap.ipynb)\n",
    "4. Data Offers Salary Transparency [open notebook](https://nbviewer.jupyter.org/github/nikolovdeyan/Job_Market_Trends_Bulgaria/blob/master/workbooks/Data_Offers_Salary_Transparency.ipynb)\n",
    "5. Key Players by Total Number of Submitted Data Jobs (Pareto Chart) [open notebook](https://nbviewer.jupyter.org/github/nikolovdeyan/Job_Market_Trends_Bulgaria/blob/master/workbooks/Data_Offers_Key_Players_Pareto_Chart.ipynb)\n",
    "6. Deep Dive into Data Offers Requirements with NLTK [open notebook](https://nbviewer.jupyter.org/github/nikolovdeyan/Job_Market_Trends_Bulgaria/blob/master/workbooks/Data_Offers_Requirements_Deep_Dive.ipynb)\n",
    "7. A Chord Diagram Revealing Key Data Jobs Technology Requirements [open notebook](https://nbviewer.jupyter.org/github/nikolovdeyan/Job_Market_Trends_Bulgaria/blob/master/workbooks/Data_Offers_Requirements_Relationships_Chord.ipynb)\n",
    "8. Data Offers Salary Statistics Boxplot [open notebook](https://nbviewer.jupyter.org/github/nikolovdeyan/Job_Market_Trends_Bulgaria/blob/master/workbooks/Data_Offers_Monthly_Salary_Stats_Box.ipynb)\n",
    "9. Data Offers Salary Scatterplot [open notebook](https://nbviewer.jupyter.org/github/nikolovdeyan/Job_Market_Trends_Bulgaria/blob/master/workbooks/Data_Offers_Salary_Scatter.ipynb)"
   ]
  },
  {
   "cell_type": "code",
   "execution_count": 176,
   "metadata": {
    "scrolled": true,
    "slideshow": {
     "slide_type": "skip"
    }
   },
   "outputs": [
    {
     "data": {
      "text/html": [
       "<style>\n",
       "@import url('https://fonts.googleapis.com/css?family=Fira+Mono|Fira+Sans|Fira+Sans+Condensed|Fira+Sans+Extra+Condensed');\n",
       "@import url('https://fonts.googleapis.com/css?family=Merriweather|Merriweather+Sans');\n",
       "\n",
       ".nbviewer {\n",
       "    background-color: #E5E1D8;\n",
       "}\n",
       "\n",
       "#notebook {\n",
       "    background-color: #E5E1D8;\n",
       "}\n",
       "\n",
       "#notebook-container {\n",
       "    background-color: #FFFAF0;\n",
       "    max-width: 1100px;\n",
       "    border-radius: 4px;\n",
       "    -webkit-box-shadow: 0px 0px 12px 1px rgba(101,86,67,0.75);\n",
       "    -moz-box-shadow: 0px 0px 12px 1px rgba(101,86,67,0.75);\n",
       "    box-shadow: 0px 0px 12px 1px rgba(101,86,67,0.75);\n",
       "}\n",
       "\n",
       "/* Jupyter Notebook Header Styling */\n",
       "body > #header {\n",
       "    background-color:#fafafa;\n",
       "}\n",
       "\n",
       "#header #menubar #menus {\n",
       "    background-color:#fefefe;\n",
       "}\n",
       "\n",
       "/* Headings */\n",
       ".text_cell_render h1 {\n",
       "    color: #655B4F;\n",
       "    font-family: 'Merriweather', serif;\n",
       "    font-weight: 900;\n",
       "    text-align: center;\n",
       "    font-size: 3.0em;\n",
       "    padding: 40px 0 12px 0;\n",
       "    text-shadow: 0 2px #FFFAF0, 0 3px #8c8b8b;\n",
       "}\n",
       "\n",
       ".text_cell_render h2 {\n",
       "    color: #655B4F;\n",
       "    font-family: 'Merriweather', serif;\n",
       "    font-weight: 600;\n",
       "    font-size: 2.2em;\n",
       "    text-indent: 22px;\n",
       "    padding: 40px 0 6px 0;\n",
       "    margin-bottom: 24px;\n",
       "    border-bottom: 1px solid #655B4F;\n",
       "}\n",
       "\n",
       ".text_cell_render h3 {\n",
       "    color: #655B4F;\n",
       "    font-family: 'Merriweather', serif;\n",
       "    font-weight: 100;\n",
       "    padding: 6px 0 0 0;\n",
       "    font-size: 1.6em;\n",
       "}\n",
       "\n",
       ".text_cell_render h4 {\n",
       "    color: #655B4F;\n",
       "    font-family: 'Merriweather', serif;\n",
       "    font-weight: 100;\n",
       "    font-size: 1.2em;\n",
       "}\n",
       "\n",
       "/* Use for subtitles and other non-headings */\n",
       "div.rendered_html > h5 {\n",
       "    font-family: 'Merriweather', serif;\n",
       "    line-height: 1.5em;\n",
       "    color: #655B4F;\n",
       "    font-weight: 200;\n",
       "    font-style: normal important!;\n",
       "    text-indent: 22px;\n",
       "    text-align: center;\n",
       "    margin-top: 0.5em;\n",
       "    padding: 6px 0 6px 0;\n",
       "    border-bottom: 1px solid #655B4F;\n",
       "    border-top: 1px solid #655B4F;\n",
       "}\n",
       "\n",
       "/* Use for image and chart captions */\n",
       "div.rendered_html > h6 {\n",
       "    font-family: 'Merriweather Sans', sans-serif;\n",
       "    font-size: 0.9em;\n",
       "    line-height: 1.5em;\n",
       "    color: #cac8c9;\n",
       "    font-weight: normal;\n",
       "    max-width: 525px;\n",
       "    display: block;\n",
       "    margin-left: auto;\n",
       "    margin-right: auto;\n",
       "}\n",
       "\n",
       "div#notebook-container p {\n",
       "    font-family: 'Fira Sans Condensed', sans-serif;\n",
       "    font-size: 1.2em;\n",
       "    line-height: 1.3em;\n",
       "    color: #655B4F;\n",
       "}\n",
       "\n",
       "/* Plotly Exported Charts Styling */\n",
       ".js-plotly-plot .plotly,\n",
       ".js-plotly-plot .plotly div {\n",
       "    direction: ltr;\n",
       "    font-family: \"Fira Sans Extra Condensed\", verdana, arial, sans-serif;\n",
       "}\n",
       "\n",
       "/* Lists */\n",
       "ol, ul {\n",
       "    font-family: 'Fira Sans Condensed', sans-serif;\n",
       "    line-height: 1.3em;\n",
       "    color: #655B4F;\n",
       "}\n",
       "\n",
       "div.input_prompt {\n",
       "    color: #aad0bc;\n",
       "    font-size: 0.7em;\n",
       "}\n",
       "\n",
       "div.output_prompt {\n",
       "    color: #aad0bc;\n",
       "    font-size: 0.7em;\n",
       "}\n",
       "\n",
       "div.prompt {\n",
       "    min-width: 2ex;\n",
       "}\n",
       "\n",
       "div.output_subarea {\n",
       "    min-width: 425px;\n",
       "    max-width: calc(100% - 1ex);\n",
       "    padding: 0;\n",
       "}\n",
       "\n",
       "div.text_cell code {\n",
       "    padding: 2px;\n",
       "    background-color: #E5E1D8;\n",
       "    color: #483F3A;\n",
       "    font-family: 'Fira Mono', monospace;\n",
       "    font-size: 0.9em;\n",
       "}\n",
       "\n",
       "div.input_area {\n",
       "    background-color: #FFFAF0;\n",
       "    border: 1px solid #E5E1D8;\n",
       "    background: repeating-linear-gradient(135deg, #FFFAF0, #FFFAF0 5px, #F7F7ED 5px, #F7F7ED 10px);\n",
       "}\n",
       "\n",
       "div.cell.rendered.selected {\n",
       "    background: #F7F7ED;\n",
       "    border: 1px solid #293C34;\n",
       "}\n",
       "\n",
       "div.output_area img {\n",
       "    display: block;\n",
       "    margin-left: auto;\n",
       "    margin-right: auto;\n",
       "}\n",
       "\n",
       "div.rendered_html pre, code {\n",
       "    font-family: 'Fira Sans Condensed', sans-serif;\n",
       "    font-size: 16px;\n",
       "    font-weight: 400;\n",
       "    color: #40362F;\n",
       "    background-color: #E5E1D8;\n",
       "}\n",
       "\n",
       "div.output_text pre {\n",
       "    font-family: 'Fira Sans Condensed', sans-serif;\n",
       "    font-size: 13px;\n",
       "    font-weight: 300;\n",
       "    color: #40362F;\n",
       "}\n",
       "\n",
       "\n",
       "pre, textarea {\n",
       "    overflow: hidden;\n",
       "}\n",
       "\n",
       "div.text_cell_render img {\n",
       "    max-height: 550px;\n",
       "    display: block;\n",
       "    margin-left: auto;\n",
       "    margin-right: auto;\n",
       "}\n",
       "\n",
       "div.output output_scroll {\n",
       "    overflow-x: auto;\n",
       "    overflow-y: scroll;\n",
       "    max-height: 2000px;\n",
       "}\n",
       "\n",
       "div.rendered_html hr {\n",
       "    border: 0;\n",
       "    height: 1px;\n",
       "    background-color: #655B4F;\n",
       "}\n",
       "\n",
       "div.rendered_html pre, code {\n",
       "    color: #40362F;\n",
       "    background-color: #FFFAF0;\n",
       "}\n",
       "\n",
       "/* Links */\n",
       "a.link--embedview {\n",
       "    display: none;\n",
       "}\n",
       "\n",
       "a:link {\n",
       "    color: #293C34;\n",
       "}\n",
       "\n",
       "a:visited {\n",
       "    color: #293C34;\n",
       "}\n",
       "\n",
       "a:hover {\n",
       "    color: #557C6C;\n",
       "}\n",
       "\n",
       "a:focus {\n",
       "    color:#557C6C;\n",
       "}\n",
       "\n",
       "a:active {\n",
       "    font-weight: bold;\n",
       "    color:#80BCA3;\n",
       "}\n",
       "\n",
       ".rendered_html :link {\n",
       "    text-decoration: underline;\n",
       "}\n",
       "\n",
       "/* Colors for code highlighting */\n",
       ".CodeMirror pre {\n",
       "    font-family: 'Fira Mono', monospace;\n",
       "    font-size: 0.9em;\n",
       "    font-weight: 600;\n",
       "    letter-spacing: -2px;\n",
       "}\n",
       "\n",
       ".CodeMirror-code span.cm-keyword,\n",
       ".highlight .k,\n",
       ".highlight .ow {\n",
       "    color: #5F362E;\n",
       "}\n",
       "\n",
       ".CodeMirror-code span.cm-variable,\n",
       ".highlight .na {\n",
       "    color: #655B4F;\n",
       "}\n",
       "\n",
       ".CodeMirror-code span.cm-property {\n",
       "    color: #655B4F;\n",
       "}\n",
       "\n",
       ".CodeMirror-code span.cm-def {\n",
       "    color: #293C34;\n",
       "}\n",
       "\n",
       ".CodeMirror-code span.cm-operator {\n",
       "    color: #655B4F;\n",
       "}\n",
       "\n",
       ".CodeMirror-code span.cm-string,\n",
       ".highlight .s {\n",
       "    color: #0B7761;\n",
       "}\n",
       "\n",
       ".CodeMirror-code span.cm-number,\n",
       ".highlight .mb, .highlight .mf, .highlight .mh, .highlight .mi, .highlight .mo {\n",
       "    color: #265BCA;\n",
       "}\n",
       "\n",
       ".CodeMirror-code span.cm-comment,\n",
       ".highlight .c1, .highlight .cs {\n",
       "    color: #75AC95;\n",
       "}\n",
       "\n",
       ".CodeMirror-code span.cm-builtin,\n",
       ".highlight .nb {\n",
       "    color: #5F362E;\n",
       "}\n",
       "\n",
       "/* Code with no class applied (brackets mostly) */\n",
       ".CodeMirror-line > span {\n",
       "    color: #72614B;\n",
       "}\n",
       "\n",
       "/* Table styles */\n",
       "table {\n",
       "    border: 1px solid #BF4D28;\n",
       "}\n",
       "\n",
       "\n",
       ".rendered_html table th {\n",
       "    color: #40362F;\n",
       "    text-align: left;\n",
       "    background-color: #f2e6ce;\n",
       "}\n",
       "\n",
       ".rendered_html td {\n",
       "    color: #40362F;\n",
       "    text-align: left;\n",
       "}\n",
       "\n",
       ".rendered_html table tr:nth-child(odd) {\n",
       "    background-color: #F7F7ED;\n",
       "}\n",
       "\n",
       ".rendered_html table tr:nth-child(even) {\n",
       "    background-color: #FFFAF0;\n",
       "}\n",
       "\n",
       "iframe {\n",
       "    border-width: 0;\n",
       "}\n",
       "</style>\n"
      ],
      "text/plain": [
       "<IPython.core.display.HTML object>"
      ]
     },
     "execution_count": 176,
     "metadata": {},
     "output_type": "execute_result"
    }
   ],
   "source": [
    "from IPython.core.display import HTML\n",
    "with open('../resources/styles/datum.css', 'r') as f:\n",
    "    style = f.read()\n",
    "HTML(style)"
   ]
  }
 ],
 "metadata": {
  "kernelspec": {
   "display_name": "Python 3",
   "language": "python",
   "name": "python3"
  },
  "language_info": {
   "codemirror_mode": {
    "name": "ipython",
    "version": 3
   },
   "file_extension": ".py",
   "mimetype": "text/x-python",
   "name": "python",
   "nbconvert_exporter": "python",
   "pygments_lexer": "ipython3",
   "version": "3.7.3"
  }
 },
 "nbformat": 4,
 "nbformat_minor": 2
}
