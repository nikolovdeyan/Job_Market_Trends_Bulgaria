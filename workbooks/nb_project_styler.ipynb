{
 "cells": [
  {
   "cell_type": "markdown",
   "metadata": {
    "collapsed": true
   },
   "source": [
    "# Color Palette Designer\n"
   ]
  },
  {
   "cell_type": "markdown",
   "metadata": {
    "collapsed": true
   },
   "source": [
    "\n"
   ]
  },
  {
   "cell_type": "code",
   "execution_count": 1,
   "metadata": {},
   "outputs": [],
   "source": [
    "from IPython.display import display, HTML\n",
    "import matplotlib\n",
    "import matplotlib.pyplot as plt\n",
    "import matplotlib.patches as mpatches\n",
    "from nbstyler import STYLER"
   ]
  },
  {
   "cell_type": "code",
   "execution_count": 2,
   "metadata": {},
   "outputs": [],
   "source": [
    "%matplotlib inline\n",
    "plt.style.use('ggplot')"
   ]
  },
  {
   "cell_type": "code",
   "execution_count": 3,
   "metadata": {},
   "outputs": [
    {
     "data": {
      "text/plain": [
       "'#7D82B2'"
      ]
     },
     "execution_count": 3,
     "metadata": {},
     "output_type": "execute_result"
    }
   ],
   "source": [
    "STYLER['fonts']['default']['family']\n",
    "STYLER['colors']['acc1']"
   ]
  },
  {
   "cell_type": "code",
   "execution_count": 4,
   "metadata": {
    "scrolled": false
   },
   "outputs": [
    {
     "data": {
      "image/png": "[encoded data removed]",
      "text/plain": [
       "<Figure size 1344x576 with 1 Axes>"
      ]
     },
     "metadata": {},
     "output_type": "display_data"
    }
   ],
   "source": [
    "fig = plt.figure(num=None, figsize=(14, 6), dpi=96, linewidth=0.0, frameon=False)\n",
    "pallete = fig.add_subplot(1, 1, 1)\n",
    "\n",
    "pallete.set_xticklabels('', visible = False)\n",
    "pallete.set_yticklabels('', visible = False)\n",
    "pallete.tick_params(axis='both', length = 0)\n",
    "\n",
    "# class matplotlib.patches.Rectangle(xy, width, height, angle=0.0, **kwargs)\n",
    "# Draw a rectangle with lower left at xy = (x, y) with specified width and height.\n",
    "bg1 = mpatches.Rectangle([0.0, 0.5], 0.2, 0.5, color = STYLER['colors']['bg1'])\n",
    "bg2 = mpatches.Rectangle([0.2, 0.5], 0.2, 0.5, color = STYLER['colors']['bg2'])\n",
    "bg3 = mpatches.Rectangle([0.4, 0.5], 0.2, 0.5, color = STYLER['colors']['bg3'])\n",
    "fg1 = mpatches.Rectangle([0.6, 0.5], 0.2, 0.5, color = STYLER['colors']['fg1'])\n",
    "fg2 = mpatches.Rectangle([0.8, 0.5], 0.2, 0.5, color = STYLER['colors']['fg2'])\n",
    "\n",
    "acc1 = mpatches.Rectangle([0.0, 0.0], 0.2, 0.5, color = STYLER['colors']['acc1'])\n",
    "acc2 = mpatches.Rectangle([0.2, 0.0], 0.2, 0.5, color = STYLER['colors']['acc2'])\n",
    "acc3 = mpatches.Rectangle([0.4, 0.0], 0.2, 0.5, color = STYLER['colors']['acc3'])\n",
    "acc4 = mpatches.Rectangle([0.6, 0.0], 0.2, 0.5, color = STYLER['colors']['acc4'])\n",
    "acc5 = mpatches.Rectangle([0.8, 0.0], 0.2, 0.5, color = STYLER['colors']['acc5'])\n",
    "\n",
    "bg1_label = pallete.annotate('bg1',[0.1, 0.75], ha='center', va='center', weight='bold', \n",
    "                                fontsize=20, color = '#FFFFFF')\n",
    "bg2_label = pallete.annotate('bg2',[0.3, 0.75], ha='center', va='center', weight='bold', \n",
    "                                fontsize=20, color = '#FFFFFF')\n",
    "bg3_label = pallete.annotate('bg3',[0.5, 0.75], ha='center', va='center', weight='bold', \n",
    "                                fontsize=20, color = '#FFFFFF')\n",
    "fg1_label = pallete.annotate('fg1',[0.7, 0.75], ha='center', va='center', weight='bold', \n",
    "                                fontsize=20, color = '#FFFFFF')\n",
    "fg2_label = pallete.annotate('fg2',[0.9, 0.75], ha='center', va='center', weight='bold', \n",
    "                                fontsize=20, color = '#FFFFFF')\n",
    "\n",
    "acc1_label = pallete.annotate('acc1',[0.1, 0.25], ha='center', va='center', weight='bold', \n",
    "                                fontsize=20)\n",
    "acc2_label = pallete.annotate('acc2',[0.3, 0.25], ha='center', va='center', weight='bold', \n",
    "                                fontsize=20)\n",
    "acc3_label = pallete.annotate('acc3',[0.5, 0.25], ha='center', va='center', weight='bold', \n",
    "                                fontsize=20)\n",
    "acc4_label = pallete.annotate('acc4',[0.7, 0.25], ha='center', va='center', weight='bold', \n",
    "                                fontsize=20)\n",
    "acc5_label = pallete.annotate('acc5',[0.9, 0.25], ha='center', va='center', weight='bold', \n",
    "                                 fontsize=20)\n",
    "\n",
    "pallete.add_patch(bg1)\n",
    "pallete.add_patch(bg2)                          \n",
    "pallete.add_patch(bg3)\n",
    "pallete.add_patch(fg1)\n",
    "pallete.add_patch(fg2)\n",
    "pallete.add_patch(acc1)\n",
    "pallete.add_patch(acc2)                          \n",
    "pallete.add_patch(acc3)\n",
    "pallete.add_patch(acc4)\n",
    "pallete.add_patch(acc5);"
   ]
  },
  {
   "cell_type": "code",
   "execution_count": null,
   "metadata": {
    "scrolled": false
   },
   "outputs": [],
   "source": []
  },
  {
   "cell_type": "markdown",
   "metadata": {},
   "source": [
    "\n",
    "\n",
    "\n",
    "\n",
    "\n",
    "\n",
    "\n",
    "\n",
    "\n",
    "\n",
    "\n",
    "\n",
    "\n",
    "\n"
   ]
  },
  {
   "cell_type": "markdown",
   "metadata": {},
   "source": [
    "\n",
    "\n",
    "\n",
    "\n",
    "\n",
    "\n",
    "\n",
    "\n",
    "\n",
    "\n",
    "\n",
    "\n",
    "\n",
    "\n",
    "\n",
    "\n",
    "\n",
    "\n",
    "\n",
    "\n",
    "\n",
    "\n",
    "\n",
    "\n",
    "\n"
   ]
  },
  {
   "cell_type": "markdown",
   "metadata": {},
   "source": [
    "\n",
    "\n",
    "\n",
    "\n"
   ]
  }
 ],
 "metadata": {
  "anaconda-cloud": {},
  "kernelspec": {
   "display_name": "Python 3",
   "language": "python",
   "name": "python3"
  },
  "language_info": {
   "codemirror_mode": {
    "name": "ipython",
    "version": 3
   },
   "file_extension": ".py",
   "mimetype": "text/x-python",
   "name": "python",
   "nbconvert_exporter": "python",
   "pygments_lexer": "ipython3",
   "version": "3.7.1"
  }
 },
 "nbformat": 4,
 "nbformat_minor": 1
}
