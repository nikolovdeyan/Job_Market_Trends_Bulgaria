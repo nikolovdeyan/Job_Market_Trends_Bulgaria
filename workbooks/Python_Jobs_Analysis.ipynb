{
 "cells": [
  {
   "cell_type": "markdown",
   "metadata": {},
   "source": [
    "# Python Jobs Analysis\n",
    "\n",
    "\n",
    "A deep dive in the Python landscape in Bulgaria.\n",
    "\n",
    "\n",
    "\n"
   ]
  },
  {
   "cell_type": "markdown",
   "metadata": {},
   "source": [
    "![python wordcloud image](./resources/python_wordcloud.png)"
   ]
  },
  {
   "cell_type": "markdown",
   "metadata": {},
   "source": []
  },
  {
   "cell_type": "code",
   "execution_count": null,
   "metadata": {
    "scrolled": true
   },
   "outputs": [],
   "source": []
  },
  {
   "cell_type": "markdown",
   "metadata": {},
   "source": []
  },
  {
   "cell_type": "code",
   "execution_count": null,
   "metadata": {},
   "outputs": [],
   "source": []
  },
  {
   "cell_type": "markdown",
   "metadata": {},
   "source": []
  },
  {
   "cell_type": "code",
   "execution_count": null,
   "metadata": {},
   "outputs": [],
   "source": []
  },
  {
   "cell_type": "code",
   "execution_count": 12,
   "metadata": {},
   "outputs": [
    {
     "data": {
      "text/html": [
       "<style>\n",
       "/*\n",
       "@font-face {\n",
       "    font-family: 'NimbusSans-Regular';\n",
       "    src: url('../resources/fonts/NimbusSans-Regular.otf');\n",
       "}\n",
       "\n",
       "@font-face {\n",
       "    font-family: 'NimbusSansNarrow-Regular';\n",
       "    src: url('../resources/fonts/NimbusSansNarrow-Regular.otf');\n",
       "}\n",
       "\n",
       "@font-face {\n",
       "    font-family: 'NimbusRoman-Regular';\n",
       "    src: url('../resources/fonts/NimbusRoman-Regular.otf');\n",
       "}\n",
       "\n",
       "@font-face {\n",
       "    font-family: 'NimbusMono';\n",
       "    src: url('../resources/fonts/NimbusMonoPS-Regular.otf');\n",
       "}\n",
       "\n",
       "#site, a {\n",
       "    font-family: 'NimbusSans-Regular';\n",
       "}\n",
       "\n",
       "p {\n",
       "    font-size: 16px;\n",
       "}\n",
       "\n",
       "#notebook-container > .code_cell {\n",
       "    font-family: 'NimbusMono';\n",
       "}\n",
       "\n",
       "h1, h2, h3 {\n",
       "    font-family: 'NimbusRoman-Regular';\n",
       "}\n",
       "*/\n",
       "\n",
       "\n",
       ".nbviewer {\n",
       "    background-color: #FFFBF3;\n",
       "}\n",
       "\n",
       "#notebook-container {\n",
       "    background-color: #FFFBF3;\n",
       "}\n",
       "\n",
       "div.input_area {\n",
       "    background-color: #FFFBF3;\n",
       "}\n",
       "\n",
       "div.output_area img {\n",
       "    display: block;\n",
       "    margin-left: auto;\n",
       "    margin-right: auto;\n",
       "}\n",
       "\n",
       "div.text_cell_render img {\n",
       "    max-height: 520px;\n",
       "    display: block;\n",
       "    margin-left: auto;\n",
       "    margin-right: auto;\n",
       "}\n",
       "</style>\n"
      ],
      "text/plain": [
       "<IPython.core.display.HTML object>"
      ]
     },
     "execution_count": 12,
     "metadata": {},
     "output_type": "execute_result"
    }
   ],
   "source": [
    "from IPython.core.display import HTML\n",
    "with open('./resources/styles/python_style.css', 'r') as f:\n",
    "    style = f.read()\n",
    "HTML(style)"
   ]
  },
  {
   "cell_type": "code",
   "execution_count": null,
   "metadata": {},
   "outputs": [],
   "source": []
  },
  {
   "cell_type": "code",
   "execution_count": null,
   "metadata": {},
   "outputs": [],
   "source": []
  },
  {
   "cell_type": "code",
   "execution_count": null,
   "metadata": {},
   "outputs": [],
   "source": []
  }
 ],
 "metadata": {
  "kernelspec": {
   "display_name": "Python 3",
   "language": "python",
   "name": "python3"
  },
  "language_info": {
   "codemirror_mode": {
    "name": "ipython",
    "version": 3
   },
   "file_extension": ".py",
   "mimetype": "text/x-python",
   "name": "python",
   "nbconvert_exporter": "python",
   "pygments_lexer": "ipython3",
   "version": "3.7.1"
  }
 },
 "nbformat": 4,
 "nbformat_minor": 2
}
