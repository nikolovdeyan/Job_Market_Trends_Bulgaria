{
 "cells": [
  {
   "cell_type": "markdown",
   "metadata": {},
   "source": [
    "## Requirements Deep Dive\n"
   ]
  },
  {
   "cell_type": "code",
   "execution_count": 1,
   "metadata": {},
   "outputs": [],
   "source": [
    "import re\n",
    "from collections import Counter\n",
    "from itertools import combinations, product\n",
    "import psycopg2\n",
    "import numpy as np\n",
    "import pandas as pd\n",
    "from bs4 import BeautifulSoup as bs\n",
    "\n",
    "import string\n",
    "import nltk\n",
    "from nltk import FreqDist, tokenize\n",
    "from nltk.corpus import stopwords\n",
    "from nltk.collocations import *\n",
    "\n",
    "from nbstyler import DATA_STYLE as DS\n",
    "\n",
    "bigram_measures = nltk.collocations.BigramAssocMeasures()\n",
    "trigram_measures = nltk.collocations.TrigramAssocMeasures()\n",
    "\n",
    "%matplotlib notebook\n",
    "%matplotlib inline"
   ]
  },
  {
   "cell_type": "markdown",
   "metadata": {},
   "source": [
    "### Data preparation"
   ]
  },
  {
   "cell_type": "code",
   "execution_count": 2,
   "metadata": {},
   "outputs": [],
   "source": [
    "data_querystr = \"\"\"SELECT * FROM data_offers.do_full_offer_history\"\"\"\n",
    "conn = psycopg2.connect('dbname=jobsbg')\n",
    "data_df = pd.read_sql_query(data_querystr, conn, index_col='subm_date')\n",
    "conn.close()"
   ]
  },
  {
   "cell_type": "code",
   "execution_count": 3,
   "metadata": {},
   "outputs": [
    {
     "data": {
      "text/html": [
       "<div>\n",
       "<style scoped>\n",
       "    .dataframe tbody tr th:only-of-type {\n",
       "        vertical-align: middle;\n",
       "    }\n",
       "\n",
       "    .dataframe tbody tr th {\n",
       "        vertical-align: top;\n",
       "    }\n",
       "\n",
       "    .dataframe thead th {\n",
       "        text-align: right;\n",
       "    }\n",
       "</style>\n",
       "<table border=\"1\" class=\"dataframe\">\n",
       "  <thead>\n",
       "    <tr style=\"text-align: right;\">\n",
       "      <th></th>\n",
       "      <th>subm_type</th>\n",
       "      <th>job_id</th>\n",
       "      <th>company_id</th>\n",
       "      <th>norm_salary</th>\n",
       "      <th>job_title</th>\n",
       "      <th>company_name</th>\n",
       "      <th>text_salary</th>\n",
       "      <th>job_location</th>\n",
       "      <th>job_contents</th>\n",
       "    </tr>\n",
       "    <tr>\n",
       "      <th>subm_date</th>\n",
       "      <th></th>\n",
       "      <th></th>\n",
       "      <th></th>\n",
       "      <th></th>\n",
       "      <th></th>\n",
       "      <th></th>\n",
       "      <th></th>\n",
       "      <th></th>\n",
       "      <th></th>\n",
       "    </tr>\n",
       "  </thead>\n",
       "  <tbody>\n",
       "    <tr>\n",
       "      <th>2018-07-05</th>\n",
       "      <td>resubmission</td>\n",
       "      <td>4416332</td>\n",
       "      <td>179347</td>\n",
       "      <td>NaN</td>\n",
       "      <td>Data Analyst</td>\n",
       "      <td>Технементалс Технолоджис (България) ЕАД</td>\n",
       "      <td>None</td>\n",
       "      <td>София</td>\n",
       "      <td>&lt;!DOCTYPE html PUBLIC \"-//W3C//DTD XHTML 1.0 ...</td>\n",
       "    </tr>\n",
       "    <tr>\n",
       "      <th>2019-09-12</th>\n",
       "      <td>submission</td>\n",
       "      <td>5045017</td>\n",
       "      <td>67058</td>\n",
       "      <td>NaN</td>\n",
       "      <td>Experienced ETL Developer</td>\n",
       "      <td>Adastra Bulgaria Ltd.</td>\n",
       "      <td>None</td>\n",
       "      <td>София</td>\n",
       "      <td>&lt;!DOCTYPE html PUBLIC \"-//W3C//DTD XHTML 1.0 ...</td>\n",
       "    </tr>\n",
       "    <tr>\n",
       "      <th>2018-04-27</th>\n",
       "      <td>submission</td>\n",
       "      <td>4296771</td>\n",
       "      <td>116269</td>\n",
       "      <td>NaN</td>\n",
       "      <td>REPORTING ANALYST (EXCEL/ SQL)</td>\n",
       "      <td>Sales Scout/ Нова Лоджик Къмпани ООД</td>\n",
       "      <td>None</td>\n",
       "      <td>София</td>\n",
       "      <td>&lt;!DOCTYPE html PUBLIC \"-//W3C//DTD XHTML 1.0 ...</td>\n",
       "    </tr>\n",
       "    <tr>\n",
       "      <th>2019-09-13</th>\n",
       "      <td>submission</td>\n",
       "      <td>5046729</td>\n",
       "      <td>67058</td>\n",
       "      <td>NaN</td>\n",
       "      <td>Experienced ETL Developer</td>\n",
       "      <td>Adastra Bulgaria Ltd.</td>\n",
       "      <td>None</td>\n",
       "      <td>Пловдив</td>\n",
       "      <td>&lt;!DOCTYPE html PUBLIC \"-//W3C//DTD XHTML 1.0 ...</td>\n",
       "    </tr>\n",
       "    <tr>\n",
       "      <th>2019-02-28</th>\n",
       "      <td>submission</td>\n",
       "      <td>4739592</td>\n",
       "      <td>52527</td>\n",
       "      <td>NaN</td>\n",
       "      <td>Data Warehouse Developer</td>\n",
       "      <td>Менпауър България ООД</td>\n",
       "      <td>None</td>\n",
       "      <td>София</td>\n",
       "      <td>&lt;!DOCTYPE html PUBLIC \"-//W3C//DTD XHTML 1.0 ...</td>\n",
       "    </tr>\n",
       "  </tbody>\n",
       "</table>\n",
       "</div>"
      ],
      "text/plain": [
       "               subm_type   job_id  company_id  norm_salary  \\\n",
       "subm_date                                                    \n",
       "2018-07-05  resubmission  4416332      179347          NaN   \n",
       "2019-09-12    submission  5045017       67058          NaN   \n",
       "2018-04-27    submission  4296771      116269          NaN   \n",
       "2019-09-13    submission  5046729       67058          NaN   \n",
       "2019-02-28    submission  4739592       52527          NaN   \n",
       "\n",
       "                                 job_title  \\\n",
       "subm_date                                    \n",
       "2018-07-05                    Data Analyst   \n",
       "2019-09-12       Experienced ETL Developer   \n",
       "2018-04-27  REPORTING ANALYST (EXCEL/ SQL)   \n",
       "2019-09-13       Experienced ETL Developer   \n",
       "2019-02-28        Data Warehouse Developer   \n",
       "\n",
       "                                       company_name text_salary job_location  \\\n",
       "subm_date                                                                      \n",
       "2018-07-05  Технементалс Технолоджис (България) ЕАД        None        София   \n",
       "2019-09-12                    Adastra Bulgaria Ltd.        None        София   \n",
       "2018-04-27     Sales Scout/ Нова Лоджик Къмпани ООД        None        София   \n",
       "2019-09-13                    Adastra Bulgaria Ltd.        None      Пловдив   \n",
       "2019-02-28                    Менпауър България ООД        None        София   \n",
       "\n",
       "                                                 job_contents  \n",
       "subm_date                                                      \n",
       "2018-07-05   <!DOCTYPE html PUBLIC \"-//W3C//DTD XHTML 1.0 ...  \n",
       "2019-09-12   <!DOCTYPE html PUBLIC \"-//W3C//DTD XHTML 1.0 ...  \n",
       "2018-04-27   <!DOCTYPE html PUBLIC \"-//W3C//DTD XHTML 1.0 ...  \n",
       "2019-09-13   <!DOCTYPE html PUBLIC \"-//W3C//DTD XHTML 1.0 ...  \n",
       "2019-02-28   <!DOCTYPE html PUBLIC \"-//W3C//DTD XHTML 1.0 ...  "
      ]
     },
     "execution_count": 3,
     "metadata": {},
     "output_type": "execute_result"
    }
   ],
   "source": [
    "data_df.head(5)"
   ]
  },
  {
   "cell_type": "code",
   "execution_count": 4,
   "metadata": {},
   "outputs": [],
   "source": [
    "def check_archive_content(job_id):\n",
    "    conn = psycopg2.connect('dbname=jobsbg')\n",
    "    cur = conn.cursor()\n",
    "    query = f'SELECT * FROM f_get_offer_contents_by_job_id({job_id})'\n",
    "    cur.execute(query)\n",
    "    result = cur.fetchone()\n",
    "    cur.close()\n",
    "    conn.close()\n",
    "    return result[0]\n",
    "\n",
    "\n",
    "# moved on to `build_nltk_freqdist()` to tackle bigrams and n-grams.\n",
    "def build_counter(job_contents):\n",
    "    contents_soup = bs(job_contents, 'html.parser')\n",
    "    job_container = contents_soup.find('td', {'class': 'explainGray'}).parent.parent.parent.parent.parent\n",
    "    if job_container.find('style'):\n",
    "        job_container.find('style').decompose()\n",
    "    job_text = job_container.get_text().lower()\n",
    "    job_wordlist = re.findall(r\"['\\w']+\", job_text)\n",
    "    counter = Counter(job_wordlist)\n",
    "    return counter\n",
    "\n",
    "\n",
    "def build_nltk_tokenlist(job_contents, stopwords):\n",
    "    contents_soup = bs(job_contents, 'html.parser')\n",
    "    job_container = contents_soup.find('td', {'class': 'explainGray'}).parent.parent.parent.parent.parent\n",
    "    if job_container.find('style'):\n",
    "        job_container.find('style').decompose()\n",
    "    job_text = job_container.get_text().lower() \n",
    "    nltk_ready = [word.lower() for word in tokenize.word_tokenize(job_text) if word.lower() not in stoplist and not word.isdigit()]\n",
    "    return nltk_ready\n",
    "\n",
    "\n",
    "def calc_nltk_bigrams_fdist(wlist):\n",
    "    bigrams = nltk.bigrams(wlist)\n",
    "    fdist = nltk.FreqDist(bigrams)\n",
    "    return fdist\n",
    "\n",
    "\n",
    "def calc_nltk_trigrams_fdist(wlist):\n",
    "    trigrams = nltk.trigrams(wlist)\n",
    "    fdist = nltk.FreqDist(trigrams)\n",
    "    return fdist    "
   ]
  },
  {
   "cell_type": "markdown",
   "metadata": {},
   "source": [
    "#### Counting individual word occurrencies (depr)\n",
    "\n",
    "1. Get soup\n",
    "2. Get `.explainGray` and traverse up the tree 5 times. This is the job contents table.\n",
    "3. Remove any injected styles from the job contents."
   ]
  },
  {
   "cell_type": "code",
   "execution_count": 5,
   "metadata": {},
   "outputs": [
    {
     "data": {
      "text/plain": [
       "' <!DOCTYPE html PUBLIC \"-//W3C//DTD XHTML 1.0 Transitional//EN\" \"http://www.w3.org/TR/xhtml1/DTD/xhtml1-transitional.dtd\">\\n\\n<html xmlns=\"http://www.w3.org/1999/xhtml\">\\n<head>\\n<title>Jobs.bg - BI Test Analyst, София, обява за работа от EXPERIAN BULGARIA EAD</title>\\n<base href=\"https://www.jobs.bg/\"/>\\n<meta content=\"default-src \\'self\\' \\'unsafe-inline\\' \\'unsafe-eval\\' http://*.jobs.bg https://*.jobs.bg wss://im.jobs.bg http://www.box.bg https://www.box.bg http://www.google-analytics.com https://www.google-analytics.com http://i.newsroom.bg https://i.newsroom.bg https://*.youtube.com http://*.youtube.com http://*.googleapis.com https://*.googleapis.com http://*.gstatic.com https://*.gstatic.com;\" http-equiv=\"Content-Security-Policy\"/>\\n<meta content=\"https://www.jobs.bg/assets/logo/2016-12-14/b_0b8142fb651e48a1750b4898cd22cc6b.png\" property=\"og:image\"/>\\n<meta content=\"1200\" property=\"og:image:width\"/>\\n<meta content=\"572\" property=\"og:image:height\"/>\\n<meta content=\"About Experian:    We are the leading global information services company, providing data and analytical tools to our clients around the world. We hel ...\" name=\"description\"/>\\n<meta content=\"работа, rabota, jobs, job, обяви, кариера, кариери, karieri, kariera, HR, CV, автобиография\" name=\"keywords\"/>\\n<meta content=\"text/html; charset=utf-8\" http-equiv=\"Content-Type\"/>\\n<script language=\"javascript\" src=\"jscripts/jquery-1.11.3.min.js\"></script>\\n<script language=\"javascript\" src=\"jscripts/main.js?v=6\"></script>\\n<link href=\"css/jobsbg.css?v=11\" rel=\"stylesheet\" type=\"text/css\"/>\\n<link href=\"css/icons.css\" rel=\"stylesheet\"/>\\n</head>\\n<body bgcolor=\"#FFFFFF\" leftmargin=\"0\" marginheight=\"0\" marginwidth=\"0\" topmargin=\"0\">\\n<a name=\"paging\"></a>\\n<table align=\"center\" border=\"0\" cellpadding=\"0\" cellspacing=\"0\" width=\"980\">\\n<script>\\n\\t\\t\\t\\t\\tfunction closeCookieBar () {\\n\\t\\t\\t\\t\\t\\t var d = new Date();\\n\\t\\t\\t\\t\\t\\t d.setTime(d.getTime() + (365*24*60*60*1000));\\n\\t\\t\\t\\t\\t\\t document.cookie = \"COOKIE_POLICY=1; expires=\" + d.toUTCString();\\n\\t\\t\\t\\t\\t\\t document.getElementById(\\'cookie_bar\\').style.display = \\'none\\';\\n\\t\\t\\t\\t\\t}\\n\\t\\t\\t\\t</script>\\n<tr id=\"cookie_bar\">\\n<td colspan=\"2\" style=\"background-color:#efefef;padding:7px 15px 7px 10px;border-bottom:1px solid #cccccc;\">\\n<table border=\"0\" cellpadding=\"0\" cellspacing=\"0\" style=\"width:100%;\">\\n<tr>\\n<td align=\"center\" valign=\"middle\">Използвайки Jobs.bg, Вие се съгласявате с <a class=\"MainLink\" href=\"cookies.php\">\"Политика за използване на Cookies/Бисквитки\"</a>, необходими за пълната функционалност на услугата.</td>\\n<td align=\"right\" style=\"width:25px;\" valign=\"middle\"><a class=\"MainLink\" href=\"javascript:;\" onclick=\"closeCookieBar();\" style=\"float:right;vertical-align:middle;\">[X]</a></td>\\n</tr>\\n</table>\\n</td>\\n</tr>\\n<tr>\\n<td style=\"height:50px;background-color:#802990;padding-left:15px;width:75px;\" valign=\"middle\">\\n<a href=\"https://www.jobs.bg/\"><img border=\"0\" src=\"images/jobslogo.gif\" style=\"width:77px;\"/></a>\\n</td>\\n<td style=\"background-color:#802990;padding-left:30px;\" valign=\"middle\">\\n<div style=\"float:right;padding-left:30px;padding-right:15px;height:45px;line-height:45px;\">\\n<a class=\"menu_header_sel\" href=\"change_lang.php?new_lang=en&amp;rpath=/front_job_view.php&amp;job_sid=4261458\" id=\"change_lang_lnk\">EN</a>\\n</div>\\n<div style=\"float:right;padding-right:20px;margin-top:7px;\">\\n<div style=\"height:27px;padding-top:4px;float:left;margin-right:7px;\"><img border=\"0\" src=\"images/menu_login_ico2.gif\" style=\"width:20px;\"/></div></div></td></tr></table></body></html>\\n<div style=\"float:left;\">\\n<span class=\"menu_header_small\" style=\"display:block;\">Вход и регистрация</span>\\n<span style=\"display:block;margin-top:2px;\">\\n<a class=\"menu_header_sel\" href=\"c_login.php\">Фирми</a><span style=\"color:#FFFFFF;font-weight:bold;\">\\xa0|\\xa0</span><a class=\"menu_header_sel\" href=\"login.php\">Потребители</a>\\n</span>\\n</div>\\n\\n\\n\\n\\n<table align=\"center\" border=\"0\" cellpadding=\"0\" cellspacing=\"0\" width=\"980\">\\n<tr>\\n<td style=\"padding-top:5px;\" valign=\"top\" width=\"980\">\\n<table style=\"width:980px;\">\\n<tr>\\n<td>\\n<span id=\"cnt_box\" style=\"display:block;float:right;font-weight:bold;display:none;font-style:italic;\"><span style=\"font-weight:normal;\">Разглеждания:</span> </span>\\n</td>\\n</tr>\\n<tr>\\n<td style=\"padding-top:20px;padding-bottom:15px;border-bottom:1px solid #cccccc;\">\\n<table style=\"width:100%;\">\\n<tr>\\n<td class=\"explainGray\">11.04.2018, Ref.#: 171718</td>\\n</tr>\\n<tr>\\n<td><span style=\"color:#ffaa2d;;\">★★★</span> <b>BI Test Analyst</b>,\\n\\t\\t\\t\\t\\t\\t<a class=\"company_link\" href=\"https://www.jobs.bg/company/27469\">EXPERIAN BULGARIA EAD</a>\\xa0\\xa0<span class=\"iconed\" style=\"display:inline;margin-right:3px;color:#ffaa2d;vertical-align:bottom;font-size: 1.5em;\">\\uf451</span><a class=\"MainLink\" href=\"https://www.jobs.bg/company/27469\" style=\"line-height:1.5em;font-size:0.8em;\">Вижте визитка на компанията</a> </td>\\n</tr>\\n<tr>\\n<td style=\"font-style:italic;\">Месторабота София; Постоянна работа; Пълно работно време</td>\\n</tr>\\n</table>\\n</td>\\n</tr>\\n<tr>\\n<td style=\"text-align:right;padding-top:5px;\">\\n<a class=\"BlackLink\" href=\"js_my_jobs.php?myjobs=1&amp;add=1&amp;job_sid=4261458\" style=\"line-height:1.5em;\"><span class=\"icon icon-star\" style=\"font-size:1.5em;\"></span><span style=\"font-size:0.8em;margin-left:3px;vertical-align:top;\">Добави в Моите Обяви</span></a>\\xa0\\xa0\\n\\t\\t\\t\\t\\t\\t<a class=\"BlackLink\" href=\"javascript:;\" onclick=\"showSubscribe2CompanyFrm();\" style=\"line-height:1.5em;\"><span class=\"icon icon-bell\" style=\"font-size:1.5em;\"></span><span style=\"font-size:0.8em;margin-left:3px;vertical-align:top;\">Известие за нови обяви</span></a>\\xa0\\xa0\\t\\t\\t<a class=\"BlackLink\" href=\"javascript:;\" onclick=\"window.print()\" style=\"line-height:1.5em;\"><span class=\"icon icon-printer\" style=\"font-size:1.5em;\"></span><span style=\"font-size:0.8em;margin-left:3px;vertical-align:top;\">Принтирай</span></a>\\xa0\\xa0\\n\\t\\t\\t<a class=\"BlackLink\" href=\"trouble_send.php?job_sid=4261458\" style=\"line-height:1.5em;\"><span class=\"icon icon-close\" style=\"font-size:1.5em;color:#FF0000;\"></span><span style=\"font-size:0.8em;margin-left:3px;vertical-align:top;\">Проблем с обявата</span></a>\\n</td>\\n</tr>\\n<tr>\\n<td align=\"center\" style=\"padding-top:20px;padding-bottom:20px;\">\\n<style>\\r\\n.exp_style * {\\r\\n\\tfont-family: Arial;\\r\\n\\tfont-size: 17px;\\r\\n\\tcolor: #575756;\\r\\n\\tbox-sizing: border-box;\\r\\n\\tmargin: 0;\\r\\n\\tpadding: 0;\\r\\n}\\r\\n.exp_style .exp_cage {\\r\\n\\twidth: 946px;\\r\\n\\tmargin: 0 auto;\\r\\n}\\r\\n.exp_style h1 strong,\\r\\n.exp_style h1,\\r\\n.exp_style h2{\\r\\n\\tfont-size: 29px;\\r\\n\\tcolor: #26478d;\\r\\n\\tmargin-bottom: 6px;\\r\\n\\tfont-weight: normal;\\r\\n}\\r\\n.exp_style h1 strong {\\r\\n\\tfont-weight: bold;\\r\\n}\\r\\n.exp_style h1 {\\r\\n\\tposition: relative;\\r\\n\\tpadding-bottom: 15px;\\r\\n}\\r\\n.exp_style h1:after {\\r\\n\\tcontent: \\'\\';\\r\\n\\tposition: absolute;\\r\\n\\theight: 3px;\\r\\n\\tleft: 0;\\r\\n\\tright: 0;\\r\\n\\tbottom: 0;\\r\\nbackground: #e9188c; /* Old browsers */\\r\\nbackground: -moz-linear-gradient(left,  #e9188c 0%, #003c90 100%); /* FF3.6-15 */\\r\\nbackground: -webkit-linear-gradient(left,  #e9188c 0%,#003c90 100%); /* Chrome10-25,Safari5.1-6 */\\r\\nbackground: linear-gradient(to right,  #e9188c 0%,#003c90 100%); /* W3C, IE10+, FF16+, Chrome26+, Opera12+, Safari7+ */\\r\\nfilter: progid:DXImageTransform.Microsoft.gradient( startColorstr=\\'#e9188c\\', endColorstr=\\'#003c90\\',GradientType=1 ); /* IE6-9 */\\r\\n\\r\\n}\\r\\n.exp_header {\\r\\n\\tmargin-bottom: 21px;\\r\\n}\\r\\n.exp_style p {\\r\\n\\tmargin-bottom: 25px;\\r\\n}\\r\\n.exp_wrap {\\r\\n\\tmargin: 20px 0;\\r\\n\\toverflow: hidden;\\r\\n}\\r\\n.exp_fl_block {\\r\\n\\tfloat: left;\\r\\n\\twidth: 50%;\\r\\n}\\r\\n.exp_style  h4,\\r\\n.exp_style  h3 {\\r\\n\\tfont-size: 23px;\\r\\n\\tcolor: #26478d;\\r\\n\\tfont-weight: normal;\\r\\n}\\r\\n.exp_style  h4 {\\r\\n\\tfont-size: 21px;\\r\\n}\\r\\n.exp_style ul {\\r\\n\\tpadding-left: 20px;\\r\\n\\tmargin: 20px 0;\\r\\n}\\r\\n.exp_style ul li {\\r\\n\\tcolor: #575756;\\r\\n\\tfont-size: 16px;\\r\\n}\\r\\n.exp_fl_block:first-child {\\r\\n\\tpadding-right: 25px;\\r\\n}\\r\\n.exp_offer {\\r\\n\\tbackground: #dce6f2;\\r\\n\\tpadding: 20px;\\r\\n\\ttext-align: justify;\\r\\n\\tborder-radius: 10px;\\r\\n\\tmargin-bottom: 10px;\\r\\n}\\r\\n.exp_offer ul {\\r\\n\\tmargin: 0;\\r\\n}\\r\\n</style>\\n<center>\\n<table border=\"0\" cellpadding=\"0\" cellspacing=\"0\" class=\"exp_style\" width=\"980\">\\n<tr>\\n<td align=\"left\" valign=\"top\">\\n<img class=\"exp_header\" src=\"/htmltemplates/27469/header.jpg\">\\n<div class=\"exp_cage\">\\n<h2>About Experian:</h2>\\n<p>We are the leading global information services company, providing data and analytical tools to our clients around the world. We help businesses to manage credit risk, prevent fraud, target marketing offers and automate decision making. We also help people to check their credit report and credit score, and protect against identity theft. In 2015, we were named by Forbes magazine as one of the ‘World’s Most Innovative Companies’.\\r\\n\\t\\t\\t\\t\\t\\t\\t\\t\\t</p>\\n<p>We employ approximately 17,000 people in 37 countries and our corporate headquarters are in Dublin, Ireland, with operational headquarters in Nottingham, UK; California, US; and Săo Paulo, Brazil.\\r\\n\\t\\t\\t\\t\\t\\t\\t\\t\\t</p>\\n<h1> <!-- Position --> Title: <strong> BI Test Analyst </strong></h1>\\n<br/>\\n<p>You will work in the Decision Analytics Global Software Group as the Business Intelligence QA Test Analyst, who will be driving testing excellence through good business, BI product awareness and utilizing BI QA best practices. You will work with the BI Development team, as well as other stakeholders such as Product Managers, Product Owners, Senior QAs, in order to define and manage the full test lifecycle from functional and system integration test scenarios to scripting and testing.\\r\\n\\t\\t\\t\\t\\t\\t\\t\\t\\t\\t</p>\\n<div class=\"exp_wrap\">\\n<div class=\"exp_fl_block\">\\n<h3>Responsibilities:  </h3>\\n<ul>\\n<li>Understand and contribute to the business and technical understanding of the data warehouse reporting solution, in order to be able to define, create, execute and maintain, end to end BI test cases and scripts.</li>\\n<li>Assist with prioritiy and coordination of test activity.</li>\\n<li>Produce test estimates and input into how to standardise the method in how test estimates are created.</li>\\n<li>Automate the testing process which includes, volume and performance testing, historical loads, and other common functional and non functional BI related test scenarios.</li>\\n<li>Analyse and report product issues identified by test executions, communicate with the developers to make sure these are understood, and input into assisting with what the resolution of these should be with your knowledge of the scenario.</li>\\n<li>Ensure that tests are in compliance with the BI Centre of Excellence testing best practices, suggest and implement how to fill in gaps of testing where there are any.</li>\\n<li>Input into the enterprise understanding of that data and how it is used – such as canonical data models, data lineage, data dictionaries, user metric guides as a result of testing analysis.  </li>\\n</ul>\\n</div>\\n<div class=\"exp_fl_block\">\\n<h3>The successful candidate will have: </h3>\\n<ul>\\n<li>Solid Experience as QA engineer or developer.\\r\\n\\t\\t\\t\\t\\t\\t\\t\\t\\t\\t<li>Good SQL experience (ideally on Oracle, and or MS SQL server, or open source databases)</li>\\n<li>General scripting skills.</li>\\n<li>Good understanding of full end to end software development lifecycle and software testing methodologies</li>\\n<li>Passion for test automation tools / frameworks and efficiency </li>\\n<li>Very good analytical and problem solving skills, with great attention to detail, methodical approach</li>\\n<li>Experience with bug tracking systems, version control systems (Jira, Github, SVN)</li>\\n<li>Good communication skills and ability to work in multi-cultural team, coupled with enthusiasm and drive - Providing clear visibility on your plans, issues/risks, keep testing schedules on track</li>\\n<li>University Degree in Computer Science or equivalent</li>\\n<li>Fluency in English - verbally and in writing. </li>\\n</li></ul>\\n<h3> The following abilities and skills will be considered an advantage: </h3>\\n<ul>\\n<li>Experience with testing transactional data volumes or reporting over large volumes of data.</li>\\n<li>An appreciation of all aspects of BI – from business requirements down to front end reporting tool set all the way through to back end databases and source systems.</li>\\n<li>Testing any types of reports or dashboards.</li>\\n<li>Appreciation or understanding how Agile BI projects work.</li>\\n<li>Understanding of continuous integration / automated testing and deployments </li>\\n<li>Knowledge of operating systems and computer networks</li>\\n<li>Background of developing financial and bank systems. </li>\\n</ul>\\n<br/><p style=\"font-size: 16px;\">If you find this opportunity interesting, please apply through the button below.\\r\\n <br/><br/>\\r\\nPlease attach a recent resume and fill the form. Note that only your name and e-mail are required to complete the application.\\r\\n <br/><br/>\\r\\nOnly shortlisted candidates will be contacted\\r\\n\\t\\t\\t\\t</p>\\n</div>\\n</div>\\n<div class=\"exp_offer\">\\n<h4>We offer:</h4>\\n<ul>\\n<li><strong>Personal Development - </strong> career pathway for professional growth supported by learning and development programs and unlimited access to online educational training courses, learning materials &amp; books\\r\\n\\t\\t\\t\\t\\t\\t\\t\\t\\t</li>\\n<li><strong>Work environment - </strong> excellent work conditions with friendly environment, recognized strong team spirit, and fun and quality recreation time</li>\\n<li><strong>Social benefit package  - </strong> life insurance, food vouchers, additional health insurance, corporate discounts, Multisport card, and a Share options scheme</li>\\n<li><strong>Work-life balance - </strong> 25 days paid vacation and 3 additional paid days for participation in Social responsibility events</li>\\n</ul>\\n</div>\\n<img src=\"/htmltemplates/27469/footer.jpg\">\\n</img></div>\\n</img></td>\\n</tr>\\n</table>\\n</center>\\n</td>\\n</tr>\\n<tr>\\n<td align=\"center\" style=\"padding-top:20px;padding-bottom:40px;\">\\n<a class=\"green_button\" href=\"http://p.rfer.us/EXPERIANse.1HP\" rel=\"nofollow\" target=\"_blank\">Кандидатствай по тази обява</a>\\n</td>\\n</tr>\\n<tr>\\n<td style=\"border-top:1px solid #cccccc;\">\\n<table style=\"padding-top:20px;\">\\n<tr>\\n<td style=\"padding-right:3px;width:5%\"><a href=\"https://www.jobs.bg/company/27469\"><img border=\"0\" src=\"https://www.jobs.bg/assets/logo/2016-12-14/s_0b8142fb651e48a1750b4898cd22cc6b.png\" style=\"width:100px;\"/>\\n</a></td>\\n<td><a class=\"company_link\" href=\"https://www.jobs.bg/company/27469\"><b>EXPERIAN BULGARIA EAD</b></a>\\xa0\\xa0<a class=\"BlackLink\" href=\"javascript:;\" onclick=\"showSubscribe2CompanyFrm();\" style=\"line-height:1.5em;\"><span class=\"icon icon-bell\" style=\"font-size:1.5em;\"></span><span style=\"font-size:0.8em;margin-left:3px;vertical-align:top;\">Известие за нови обяви</span></a></td>\\n</tr>\\n<tr>\\n<td class=\"explain\" colspan=\"2\" style=\"paddign-top:3px;font-style:italic;\">(Фирма/Организация директно търсеща служители.)</td>\\n</tr>\\n</table>\\n</td>\\n</tr>\\n<tr>\\n<td style=\"padding-left:5px;padding-top:10px;\"><a class=\"MainLink\" href=\"https://www.jobs.bg/company/27469\">Повече за EXPERIAN BULGARIA EAD</a></td>\\n</tr>\\n<tr>\\n<td style=\"padding-left:5px;padding-top:5px;\"><a class=\"MainLink\" href=\"https://www.jobs.bg/company/27469#active_jobs\">Всички обяви на EXPERIAN BULGARIA EAD</a></td>\\n</tr>\\n</table>\\n<div class=\"ajax-alert-container\" id=\"sub_popup\" style=\"display:none;width:600px;margin-left:-300px\">\\n<a href=\"javascript:;\" onclick=\"$(\\'#sub_popup\\').hide();clearOverlay();\" style=\"z-index:12;display: block;float: right; position: relative; margin: -10px -10px 0px 0px;\"><img border=\"0\" src=\"images/popup_close_ico.gif\"/></a>\\n<div style=\"width:560px;padding:20px;\">\\n<span class=\"sectionTitle\" style=\"display:block;margin-bottom:10px;\">Известие за нови обяви</span>\\n<div id=\"sub_stat\" style=\"width:100%;dispaly:none;margin-bottom:5px;\"></div>\\n<div id=\"sub_frm\" style=\"width:100%;\">\\n<span style=\"display:block;margin-bottom:10px;\">Искам да получавам известия за новите обяви от  <b>EXPERIAN BULGARIA EAD</b>. </span>\\n<table>\\n<tr>\\n<td class=\"rowTitle\">Email:</td>\\n<td class=\"rowData\"><input name=\"sub_email\" style=\"width:250px;\" type=\"text\" value=\"\"/></td>\\n</tr>\\n<tr>\\n<td colspan=\"2\" style=\"text-align:center;padding:30px 0px 20px 0px;\"><a class=\"green_button\" href=\"javascript:;\" onclick=\"subscribe2Company ();\">Абонирай ме</a></td>\\n</tr>\\n</table>\\n</div>\\n</div>\\n</div>\\n<script>\\n\\tfunction showSubscribe2CompanyFrm () {\\n\\t\\t$(\\'#captcha_img\\').attr (\\'src\\', \\'captcha.php?v=\\' + Math.random());\\n\\t\\tcreateOverlay();\\n\\t\\topenAlertPopup($(\\'#sub_popup\\'));\\n\\t}\\n\\n\\tfunction subscribe2Company () {\\n\\t\\t\\t$(\"#sub_stat\").empty().hide();\\n\\t\\t\\t$.ajax({\\n\\t\\t\\t\\ttype: \"GET\",\\n\\t\\t\\t\\turl:  \"subscribe.php?object_id=27469\",\\n\\t\\t\\t\\tcache: false,\\n\\t\\t\\t\\tdata: \"email=\"+encodeURIComponent($(\"input[type=text][name=sub_email]\").val())+\"&sub_captcha=\"+encodeURIComponent($(\"input[type=text][name=sub_captcha]\").val()),\\n\\t\\t\\t\\terror: function() {\\n\\n\\t\\t\\t\\t},\\n\\t\\t\\t\\tsuccess: function(result){\\n\\t\\t\\t\\t\\tif(result == \\'done_0\\'){\\n\\t\\t\\t\\t\\t\\t$(\"#sub_stat\").append(\\'<table style=\"width:100%;\"><tr><td><img src=\"images/envelope.png\" style=\"width:40px;\"></td><td style=\"padding:10px;\">Моля, проверете Вашата поща. За да получавате известия, е необходимо да потвърдите получения имейл.</td></tr><tr><td colspan=\"2\" style=\"padding:20px;text-align:center;\"><a href=\"javascript:;\" onclick=\"$(\\\\\\'#sub_popup\\\\\\').hide();clearOverlay();\" class=\"MainLink\">Затвори</a></td></tr></table>\\').show();\\n\\t\\t\\t\\t\\t\\t$(\"#sub_frm\").hide();\\n\\t\\t\\t\\t\\t} else if (result == \\'done_1\\'){\\n\\t\\t\\t\\t\\t\\t$(\"#sub_stat\").append(\\'<table style=\"width:100%;\"><tr><td style=\"padding:10px;\">Вече сте абонирани за получаване на известия!</td></tr><tr><td colspan=\"2\" style=\"padding:20px;text-align:center;\"><a href=\"javascript:;\" onclick=\"$(\\\\\\'#sub_popup\\\\\\').hide();clearOverlay();\" class=\"MainLink\">Затвори</a></td></tr></table>\\').show();\\n\\t\\t\\t\\t\\t\\t$(\"#sub_frm\").hide();\\n\\t\\t\\t\\t\\t} else if (result == \\'error_1\\'){\\n\\t\\t\\t\\t\\t\\t$(\"#sub_stat\").append(\\'<font color=\"#FF0000\">Не сте попълнили Email адрес!</font>\\').show();\\n\\t\\t\\t\\t\\t} else if (result == \\'error_2\\' ){\\n\\t\\t\\t\\t\\t\\t$(\"#sub_stat\").append(\\'<font color=\"#FF0000\">Въвели сте невалиден Email адрес!</font>\\').show();\\n\\t\\t\\t\\t\\t} else if (result == \\'error_3\\' ){\\n\\t\\t\\t\\t\\t\\t$(\"#sub_stat\").append(\\'<font color=\"#FF0000\">Не сте въвели ключ от картинката!</font>\\').show();\\n\\t\\t\\t\\t\\t} else if (result == \\'error_4\\' ){\\n\\t\\t\\t\\t\\t\\t$(\\'#captcha_img\\').attr (\\'src\\', \\'captcha.php?v=\\' + Math.random());\\n\\t\\t\\t\\t\\t\\t$(\"input[type=text][name=sub_captcha]\").val(\\'\\');\\n\\t\\t\\t\\t\\t\\t$(\"#sub_stat\").append(\\'<font color=\"#FF0000\">Въвели сте грешен ключ!</font>\\').show();\\n\\t\\t\\t\\t\\t}\\n\\t\\t\\t}\\n\\t\\t});\\n\\t}\\n\\t</script>\\n<script type=\"text/javascript\">\\n    $.getScript( \"https://stats.jobs.bg/js/stats.js?v=3\", function() {\\n\\t\\t\\ttry {\\n\\t\\t\\t\\tstatsAdd (\\'site=jobs.bg&object_id=4261458&object_type_id=2&action=view&ref=\\');\\n\\t\\t\\t\\tstatsAdd (\\'site=jobs.bg&object_id=1&object_type_id=4&action=view&ref=\\');\\n\\t\\t   } catch (err) {}\\n    });\\n</script>\\n<script type=\"text/javascript\">\\n    $.getScript( \"https://stats2.jobs.bg/js/counter.js?v=2\", function() {\\n\\t\\t\\ttry {\\n\\t\\t\\t\\tcountAdd (\\'object_id=4261458&object_type_id=1&ret=1\\');\\n\\t\\t    } catch (err) {}\\n    });\\n</script>\\n</td>\\n</tr>\\n</table>\\n<table align=\"center\" cellpadding=\"0\" cellspacing=\"0\" width=\"980\">\\n<tr>\\n<td height=\"2\" style=\"border-bottom:2px solid #802990;width:980px;padding-top:20px;\"><img height=\"2\" src=\"images/px.gif\" width=\"1\"/></td>\\n</tr>\\n<tr>\\n<td style=\"padding-top:3px;\">\\xa0\\xa0<a class=\"footer\" href=\"https://www.jobs.bg/contactus.php\">Контакти</a>\\xa0<span class=\"footer\">|</span>\\xa0<a class=\"footer\" href=\"https://www.jobs.bg/prices.php\">Цени</a>\\xa0<span class=\"footer\">|</span>\\xa0<a class=\"footer\" href=\"https://www.jobs.bg/faq.php\">Въпроси и отговори - потребители</a>\\xa0<span class=\"footer\">|</span>\\xa0<a class=\"footer\" href=\"https://www.jobs.bg/qa.php\">Въпроси и отговори - фирми</a>\\xa0<span class=\"footer\">|</span>\\xa0<a class=\"footer\" href=\"https://www.jobs.bg/agreement.php\">Условия</a>\\xa0<span class=\"footer\">|</span>\\xa0<a class=\"footer\" href=\"https://www.jobs.bg/privacy.php\">Лични данни</a>\\xa0<span class=\"footer\">|</span>\\xa0<a class=\"footer\" href=\"https://www.jobs.bg/cookies.php\">Cookies</a>\\xa0</td>\\n</tr>\\n<tr>\\n<td align=\"center\" style=\"padding-top:10px;padding-bottom:10px;\"><span style=\"font-size:0.7em;color:#999999;\">©2002-2017 Jobs.bg. Всички права запазени. Jobs.bg е регистрирана търговска марка.</span></td>\\n</tr>\\n<tr>\\n<td align=\"center\" style=\"padding-bottom:10px;\">\\n<table border=\"0\" cellpadding=\"0\" cellspacing=\"0\">\\n<tr>\\n<td><a href=\"http://www.the-network.com\" rel=\"nofollow\" target=\"_blank\"><img alt=\"The Network\" border=\"0\" hspace=\"10\" src=\"images/network.gif\"/></a></td>\\n<td><a href=\"http://www.superbrands.bg\" rel=\"nofollow\" target=\"_blank\"><img alt=\"JOBS.BG - Business Superbrand 2015-2016, Superbrand 2012-2013, Superbrand 2009-2010, Business Superbrand 2007-2008\" border=\"0\" hspace=\"10\" src=\"images/superbrands.gif\" title=\"JOBS.BG - Business Superbrand 2015-2016, Superbrand 2012-2013, Superbrand 2009-2010, Business Superbrand 2007-2008\" vspace=\"0\"/></a></td>\\n</tr>\\n</table>\\n</td>\\n</tr>\\n</table>\\n<script>\\n  (function(i,s,o,g,r,a,m){i[\\'GoogleAnalyticsObject\\']=r;i[r]=i[r]||function(){\\n  (i[r].q=i[r].q||[]).push(arguments)},i[r].l=1*new Date();a=s.createElement(o),\\n  m=s.getElementsByTagName(o)[0];a.async=1;a.src=g;m.parentNode.insertBefore(a,m)\\n  })(window,document,\\'script\\',\\'//www.google-analytics.com/analytics.js\\',\\'ga\\');\\n  ga(\\'create\\', \\'UA-3159284-5\\', {\\'sampleRate\\': 10});\\n  ga(\\'send\\', \\'pageview\\');\\n</script>\\n\\n\\n'"
      ]
     },
     "execution_count": 5,
     "metadata": {},
     "output_type": "execute_result"
    }
   ],
   "source": [
    "data_df.iloc[10:11].job_contents.values[0]"
   ]
  },
  {
   "cell_type": "code",
   "execution_count": 6,
   "metadata": {},
   "outputs": [],
   "source": [
    "instance5 = data_df.iloc[10:11].job_contents.values\n",
    "instance5_str = instance5[0]\n",
    "instance5_soup = bs(instance5_str, 'html.parser')\n",
    "job_container_table = instance5_soup.find('td', {'class': 'explainGray'}).parent.parent.parent.parent.parent"
   ]
  },
  {
   "cell_type": "code",
   "execution_count": 7,
   "metadata": {},
   "outputs": [],
   "source": [
    "# remove style tag and its contents\n",
    "#job_container_table.find('style').decompose()\n"
   ]
  },
  {
   "cell_type": "markdown",
   "metadata": {},
   "source": [
    "4. Get only the text of the tags\n",
    "5. Lower and split to prepare the list for the Counter\n",
    "6. Check result"
   ]
  },
  {
   "cell_type": "code",
   "execution_count": 8,
   "metadata": {},
   "outputs": [],
   "source": [
    "job_text = job_container_table.get_text().lower()"
   ]
  },
  {
   "cell_type": "markdown",
   "metadata": {},
   "source": [
    "#### Calculate common words, bigrams and trigrams"
   ]
  },
  {
   "cell_type": "code",
   "execution_count": 9,
   "metadata": {},
   "outputs": [],
   "source": [
    "stopwords_bg = ['за', 'на', 'в', 'и', 'с', 'със', 'не', 'да', 'без', 'по', 'от', 'или', 'обяви', 'принтирай', 'обява', '’', '–',\n",
    "               'обявата', 'работно', 'време', 'всички', 'тази', 'разглеждания', 'проблем', 'визитка', '--', '•',\n",
    "               'добави', 'моите', 'известия', 'запази', 'бележника', 'известие', 'фирма/организация',\n",
    "               'българия', 'известие', 'месторабота', 'постоянна', 'търсеща', 'служители', 'компанията',\n",
    "                'company_privacy_consent', 'подходяща', 'cv', 'us', 'оод', 'eood', 'еоод', '\\uf451вижте',\n",
    "                'софия', 'пълно', 'name=', 'considered', 'директно', 'безплатнa', 'услугa', 'лични',\n",
    "                '★', '★★', '★★★', '★★★★', '★★★★★', 'name^=', 'err_job', 'var', 'bulgaria', 'ref.', 'contacted',\n",
    "                'consent_error_privacy', 'consent_error_job', '.hide', '.show', 'err_privacy', 'return', 'shortlisted',\n",
    "                'document.frmconsent.submit', 'съгласен', 'въпросите', 'съгласие', 'please', 'работа',\n",
    "               ]\n",
    "stoplist = stopwords.words('english') + stopwords_bg + list(string.punctuation)\n",
    "stoplist = set(stoplist)"
   ]
  },
  {
   "cell_type": "code",
   "execution_count": 10,
   "metadata": {},
   "outputs": [
    {
     "name": "stdout",
     "output_type": "stream",
     "text": [
      "CPU times: user 1min 4s, sys: 37.7 ms, total: 1min 4s\n",
      "Wall time: 1min 4s\n"
     ]
    }
   ],
   "source": [
    "%%time\n",
    "\n",
    "token_contents = [build_nltk_tokenlist(jc, stoplist) for jc in data_df.job_contents]"
   ]
  },
  {
   "cell_type": "code",
   "execution_count": 11,
   "metadata": {},
   "outputs": [
    {
     "name": "stdout",
     "output_type": "stream",
     "text": [
      "CPU times: user 3min 5s, sys: 63 ms, total: 3min 5s\n",
      "Wall time: 3min 6s\n"
     ]
    }
   ],
   "source": [
    "%%time\n",
    "\n",
    "data_bigrams = [calc_nltk_bigrams_fdist(tc) for tc in token_contents]\n",
    "result_bigrams = sum(data_bigrams, FreqDist())"
   ]
  },
  {
   "cell_type": "code",
   "execution_count": 12,
   "metadata": {},
   "outputs": [
    {
     "name": "stdout",
     "output_type": "stream",
     "text": [
      "CPU times: user 4min 13s, sys: 175 ms, total: 4min 13s\n",
      "Wall time: 4min 15s\n"
     ]
    }
   ],
   "source": [
    "%%time\n",
    "\n",
    "data_trigrams = [calc_nltk_trigrams_fdist(tc) for tc in token_contents]\n",
    "result_trigrams = sum(data_trigrams, FreqDist())"
   ]
  },
  {
   "cell_type": "code",
   "execution_count": 13,
   "metadata": {},
   "outputs": [
    {
     "name": "stdout",
     "output_type": "stream",
     "text": [
      "CPU times: user 22.2 s, sys: 16.4 ms, total: 22.2 s\n",
      "Wall time: 22.3 s\n"
     ]
    }
   ],
   "source": [
    "%%time\n",
    "\n",
    "data_words = [FreqDist(tc) for tc in token_contents]\n",
    "result_words = sum(data_words, FreqDist())\n"
   ]
  },
  {
   "cell_type": "code",
   "execution_count": 14,
   "metadata": {},
   "outputs": [
    {
     "data": {
      "text/plain": [
       "[('data', 25008),\n",
       " ('business', 10759),\n",
       " ('experience', 9419),\n",
       " ('team', 7502),\n",
       " ('нови', 7020),\n",
       " ('skills', 6800),\n",
       " ('work', 6295),\n",
       " (\"''\", 5740),\n",
       " ('company', 5229),\n",
       " ('development', 4925)]"
      ]
     },
     "execution_count": 14,
     "metadata": {},
     "output_type": "execute_result"
    }
   ],
   "source": [
    "result_words.most_common(10)\n"
   ]
  },
  {
   "cell_type": "code",
   "execution_count": 15,
   "metadata": {},
   "outputs": [
    {
     "data": {
      "text/plain": [
       "[(('нови', 'повече'), 2944),\n",
       " ((\"'input\", \"''\"), 2630),\n",
       " (('business', 'intelligence'), 2387),\n",
       " (('data', 'analyst'), 1970),\n",
       " (('personal', 'data'), 1934),\n",
       " (('b', 'eye'), 1372),\n",
       " (('communication', 'skills'), 1326),\n",
       " (('short-listed', 'candidates'), 1220),\n",
       " (('data', 'warehouse'), 1117),\n",
       " (('false', \"'input\"), 1008)]"
      ]
     },
     "execution_count": 15,
     "metadata": {},
     "output_type": "execute_result"
    }
   ],
   "source": [
    "result_bigrams.most_common(10)"
   ]
  },
  {
   "cell_type": "code",
   "execution_count": 16,
   "metadata": {},
   "outputs": [
    {
     "data": {
      "text/plain": [
       "[(('false', \"'input\", \"''\"), 1008),\n",
       " ((\"''\", '.is', 'checked'), 1008),\n",
       " (('.is', 'checked', 'true'), 1008),\n",
       " ((\"'input\", \"''\", \"''\"), 1008),\n",
       " (('кандидати', 'малък', 'опит'), 918),\n",
       " (('treated', 'strict', 'confidentiality'), 817),\n",
       " (('applications', 'treated', 'strict'), 708),\n",
       " (('b', 'eye', 'ltd.'), 666),\n",
       " ((\"'input\", \"''\", 'csrf_token'), 614),\n",
       " ((\"''\", 'csrf_token', \"''\"), 614)]"
      ]
     },
     "execution_count": 16,
     "metadata": {},
     "output_type": "execute_result"
    }
   ],
   "source": [
    "result_trigrams.most_common(10)\n"
   ]
  },
  {
   "cell_type": "markdown",
   "metadata": {},
   "source": [
    "### Identify Requirement Terms"
   ]
  },
  {
   "cell_type": "markdown",
   "metadata": {},
   "source": [
    "The words or phrases we need for the chord chart can be defined using the three counters presented above. Here is an attempt:"
   ]
  },
  {
   "cell_type": "code",
   "execution_count": 17,
   "metadata": {},
   "outputs": [],
   "source": [
    "candidate_terms = [\n",
    "    'excel', 'tableau', 'access', 'qlik', 'hadoop', 'informatica', 'vmware', 'ssis', 'vba', 'python', 'powerpoint', 'mysql',\n",
    "    'spark', 'microstrategy', 'deluge', 'ssrs', ('sql', 'server'), ('power', 'bi'), ('ms', 'office'), ('microsoft', 'office'), ]"
   ]
  },
  {
   "cell_type": "code",
   "execution_count": 18,
   "metadata": {},
   "outputs": [
    {
     "data": {
      "text/html": [
       "<style>\n",
       "@import url('https://fonts.googleapis.com/css?family=Fira+Mono|Fira+Sans|Fira+Sans+Condensed|Fira+Sans+Extra+Condensed');\n",
       "@import url('https://fonts.googleapis.com/css?family=Merriweather|Merriweather+Sans');\n",
       "\n",
       ".nbviewer {\n",
       "    background-color: #E5E1D8;\n",
       "}\n",
       "\n",
       "#notebook {\n",
       "    background-color: #E5E1D8;\n",
       "}\n",
       "\n",
       "#notebook-container {\n",
       "    background-color: #FFFAF0;\n",
       "    max-width: 1100px;\n",
       "    padding: 50px;\n",
       "    border-radius: 4px;\n",
       "    -webkit-box-shadow: 0px 0px 12px 1px rgba(101,86,67,0.75);\n",
       "    -moz-box-shadow: 0px 0px 12px 1px rgba(101,86,67,0.75);\n",
       "    box-shadow: 0px 0px 12px 1px rgba(101,86,67,0.75);\n",
       "}\n",
       "\n",
       "/* Jupyter Notebook Header Styling */\n",
       "body > #header {\n",
       "    background-color:#fafafa;\n",
       "}\n",
       "\n",
       "#header #menubar #menus {\n",
       "    background-color:#fefefe;\n",
       "}\n",
       "\n",
       "/* Headings */\n",
       ".text_cell_render h1 {\n",
       "    color: #655B4F;\n",
       "    font-family: 'Merriweather', serif;\n",
       "    font-weight: 900;\n",
       "    text-align: center;\n",
       "    font-size: 2.5em;\n",
       "    padding: 40px 0 12px 0;\n",
       "    text-shadow: 0 2px #FFFAF0, 0 3px #8c8b8b;\n",
       "}\n",
       "\n",
       ".text_cell_render h2 {\n",
       "    color: #655B4F;\n",
       "    font-family: 'Merriweather', serif;\n",
       "    font-weight: 600;\n",
       "    font-size: 2.2em;\n",
       "    text-indent: 22px;\n",
       "    padding: 40px 0 6px 0;\n",
       "    margin-bottom: 24px;\n",
       "    border-bottom: 1px solid #655B4F;\n",
       "}\n",
       "\n",
       ".text_cell_render h3 {\n",
       "    color: #655B4F;\n",
       "    font-family: 'Merriweather', serif;\n",
       "    font-weight: 300;\n",
       "    padding: 6px 0 0 0;\n",
       "    font-size: 1.6em;\n",
       "}\n",
       "\n",
       ".text_cell_render h4 {\n",
       "    color: #655B4F;\n",
       "    font-family: 'Merriweather', serif;\n",
       "    font-weight: 100;\n",
       "    font-size: 1.2em;\n",
       "}\n",
       "\n",
       "/* Use for subtitles and other non-headings */\n",
       "div.rendered_html > h5 {\n",
       "    font-family: 'Merriweather', serif;\n",
       "    line-height: 1.5em;\n",
       "    color: #655B4F;\n",
       "    font-weight: 200;\n",
       "    font-style: normal important!;\n",
       "    text-indent: 22px;\n",
       "    text-align: center;\n",
       "    margin-top: 0.5em;\n",
       "    padding: 6px 0 6px 0;\n",
       "    border-bottom: 1px solid #655B4F;\n",
       "    border-top: 1px solid #655B4F;\n",
       "}\n",
       "\n",
       "/* Use for image and chart captions */\n",
       "div.rendered_html > h6 {\n",
       "    font-family: 'Merriweather Sans', sans-serif;\n",
       "    font-size: 0.9em;\n",
       "    line-height: 1.5em;\n",
       "    color: #cac8c9;\n",
       "    font-weight: normal;\n",
       "    max-width: 525px;\n",
       "    display: block;\n",
       "    margin-left: auto;\n",
       "    margin-right: auto;\n",
       "}\n",
       "\n",
       "div#notebook-container p {\n",
       "    font-family: 'Fira Sans Condensed', sans-serif;\n",
       "    font-size: 1.2em;\n",
       "    line-height: 1.3em;\n",
       "    color: #655B4F;\n",
       "}\n",
       "\n",
       "/* Plotly Exported Charts Styling */\n",
       ".js-plotly-plot .plotly,\n",
       ".js-plotly-plot .plotly div {\n",
       "    direction: ltr;\n",
       "    font-family: \"Fira Sans Extra Condensed\", verdana, arial, sans-serif;\n",
       "}\n",
       "\n",
       "/* Lists */\n",
       "ol, ul {\n",
       "    font-family: 'Fira Sans Condensed', sans-serif;\n",
       "    line-height: 1.3em;\n",
       "    color: #655B4F;\n",
       "}\n",
       "\n",
       "div.input_prompt {\n",
       "    color: #aad0bc;\n",
       "    font-size: 0.7em;\n",
       "}\n",
       "\n",
       "div.output_prompt {\n",
       "    color: #aad0bc;\n",
       "    font-size: 0.7em;\n",
       "}\n",
       "\n",
       "div.prompt {\n",
       "    min-width: 2ex;\n",
       "}\n",
       "\n",
       "div.output_subarea {\n",
       "    min-width: 425px;\n",
       "    max-width: calc(100% - 1ex);\n",
       "    padding: 0;\n",
       "}\n",
       "\n",
       "div.text_cell code {\n",
       "    padding: 2px;\n",
       "    background-color: #E5E1D8;\n",
       "    color: #483F3A;\n",
       "    font-family: 'Fira Mono', monospace;\n",
       "    font-size: 0.9em;\n",
       "}\n",
       "\n",
       "div.input_area {\n",
       "    background-color: #FFFAF0;\n",
       "    border: 1px solid #E5E1D8;\n",
       "    background: repeating-linear-gradient(135deg, #FFFAF0, #FFFAF0 5px, #F7F7ED 5px, #F7F7ED 10px);\n",
       "}\n",
       "\n",
       "div.cell.rendered.selected {\n",
       "    background: #F7F7ED;\n",
       "    border: 1px solid #293C34;\n",
       "}\n",
       "\n",
       "div.output_area img {\n",
       "    display: block;\n",
       "    margin-left: auto;\n",
       "    margin-right: auto;\n",
       "}\n",
       "\n",
       "div.rendered_html pre, code {\n",
       "    font-family: 'Fira Sans Condensed', sans-serif;\n",
       "    font-size: 16px;\n",
       "    font-weight: 400;\n",
       "    color: #40362F;\n",
       "    background-color: #E5E1D8;\n",
       "}\n",
       "\n",
       "div.output_text pre {\n",
       "    font-family: 'Fira Sans Condensed', sans-serif;\n",
       "    font-size: 13px;\n",
       "    font-weight: 300;\n",
       "    color: #40362F;\n",
       "}\n",
       "\n",
       "\n",
       "pre, textarea {\n",
       "    overflow: hidden;\n",
       "}\n",
       "\n",
       "div.text_cell_render img {\n",
       "    max-height: 550px;\n",
       "    display: block;\n",
       "    margin-left: auto;\n",
       "    margin-right: auto;\n",
       "}\n",
       "\n",
       "div.output output_scroll {\n",
       "    overflow-x: auto;\n",
       "    overflow-y: scroll;\n",
       "    max-height: 2000px;\n",
       "}\n",
       "\n",
       "div.rendered_html hr {\n",
       "    border: 0;\n",
       "    height: 1px;\n",
       "    background-color: #655B4F;\n",
       "}\n",
       "\n",
       "div.rendered_html pre, code {\n",
       "    color: #40362F;\n",
       "    background-color: #FFFAF0;\n",
       "}\n",
       "\n",
       "/* Links */\n",
       "a.link--embedview {\n",
       "    display: none;\n",
       "}\n",
       "\n",
       "a:link {\n",
       "    color: #293C34;\n",
       "}\n",
       "\n",
       "a:visited {\n",
       "    color: #293C34;\n",
       "}\n",
       "\n",
       "a:hover {\n",
       "    color: #557C6C;\n",
       "}\n",
       "\n",
       "a:focus {\n",
       "    color:#557C6C;\n",
       "}\n",
       "\n",
       "a:active {\n",
       "    font-weight: bold;\n",
       "    color:#80BCA3;\n",
       "}\n",
       "\n",
       ".rendered_html :link {\n",
       "    text-decoration: underline;\n",
       "}\n",
       "\n",
       "/* Colors for code highlighting */\n",
       ".CodeMirror pre {\n",
       "    font-family: 'Fira Mono', monospace;\n",
       "    font-size: 0.9em;\n",
       "    font-weight: 600;\n",
       "    letter-spacing: -2px;\n",
       "}\n",
       "\n",
       ".CodeMirror-code span.cm-keyword,\n",
       ".highlight .k,\n",
       ".highlight .ow {\n",
       "    color: #5F362E;\n",
       "}\n",
       "\n",
       ".CodeMirror-code span.cm-variable,\n",
       ".highlight .na {\n",
       "    color: #655B4F;\n",
       "}\n",
       "\n",
       ".CodeMirror-code span.cm-property {\n",
       "    color: #655B4F;\n",
       "}\n",
       "\n",
       ".CodeMirror-code span.cm-def {\n",
       "    color: #293C34;\n",
       "}\n",
       "\n",
       ".CodeMirror-code span.cm-operator {\n",
       "    color: #655B4F;\n",
       "}\n",
       "\n",
       ".CodeMirror-code span.cm-string,\n",
       ".highlight .s {\n",
       "    color: #0B7761;\n",
       "}\n",
       "\n",
       ".CodeMirror-code span.cm-number,\n",
       ".highlight .mb, .highlight .mf, .highlight .mh, .highlight .mi, .highlight .mo {\n",
       "    color: #265BCA;\n",
       "}\n",
       "\n",
       ".CodeMirror-code span.cm-comment,\n",
       ".highlight .c1, .highlight .cs {\n",
       "    color: #75AC95;\n",
       "}\n",
       "\n",
       ".CodeMirror-code span.cm-builtin,\n",
       ".highlight .nb {\n",
       "    color: #5F362E;\n",
       "}\n",
       "\n",
       "/* Code with no class applied (brackets mostly) */\n",
       ".CodeMirror-line > span {\n",
       "    color: #72614B;\n",
       "}\n",
       "\n",
       "/* Table styles */\n",
       "table {\n",
       "    border: 1px solid #BF4D28;\n",
       "}\n",
       "\n",
       "\n",
       ".rendered_html table th {\n",
       "    color: #40362F;\n",
       "    text-align: left;\n",
       "    background-color: #f2e6ce;\n",
       "}\n",
       "\n",
       ".rendered_html td {\n",
       "    color: #40362F;\n",
       "    text-align: left;\n",
       "}\n",
       "\n",
       ".rendered_html table tr:nth-child(odd) {\n",
       "    background-color: #F7F7ED;\n",
       "}\n",
       "\n",
       ".rendered_html table tr:nth-child(even) {\n",
       "    background-color: #FFFAF0;\n",
       "}\n",
       "\n",
       "iframe {\n",
       "    border-width: 0;\n",
       "}\n",
       "\n",
       "@media only screen and (max-width: 600px) {\n",
       "    #notebook-container {\n",
       "        background-color: #FFFAF0;\n",
       "        padding: 15px;\n",
       "        border-radius: 4px;\n",
       "        -webkit-box-shadow: 0px 0px 12px 1px rgba(101,86,67,0.75);\n",
       "        -moz-box-shadow: 0px 0px 12px 1px rgba(101,86,67,0.75);\n",
       "        box-shadow: 0px 0px 12px 1px rgba(101,86,67,0.75);\n",
       "    }\n",
       "\n",
       "    .text_cell_render h1,\n",
       "    .text_cell_render h2 {\n",
       "        text-indent: 0;\n",
       "        text-align: left;\n",
       "        padding: 40px 22px 12px 22px;\n",
       "    }\n",
       "}\n",
       "\n",
       "</style>\n"
      ],
      "text/plain": [
       "<IPython.core.display.HTML object>"
      ]
     },
     "execution_count": 18,
     "metadata": {},
     "output_type": "execute_result"
    }
   ],
   "source": [
    "from IPython.core.display import HTML\n",
    "with open('../resources/styles/datum.css', 'r') as f:\n",
    "    style = f.read()\n",
    "HTML(style)"
   ]
  },
  {
   "cell_type": "markdown",
   "metadata": {},
   "source": [
    "### Resources:\n",
    "\n",
    "- https://nlp.stanford.edu/fsnlp/promo/colloc.pdf\n",
    "- http://www.nltk.org/index.html"
   ]
  },
  {
   "cell_type": "code",
   "execution_count": null,
   "metadata": {},
   "outputs": [],
   "source": []
  }
 ],
 "metadata": {
  "kernelspec": {
   "display_name": "Python 3",
   "language": "python",
   "name": "python3"
  },
  "language_info": {
   "codemirror_mode": {
    "name": "ipython",
    "version": 3
   },
   "file_extension": ".py",
   "mimetype": "text/x-python",
   "name": "python",
   "nbconvert_exporter": "python",
   "pygments_lexer": "ipython3",
   "version": "3.7.4"
  }
 },
 "nbformat": 4,
 "nbformat_minor": 2
}
