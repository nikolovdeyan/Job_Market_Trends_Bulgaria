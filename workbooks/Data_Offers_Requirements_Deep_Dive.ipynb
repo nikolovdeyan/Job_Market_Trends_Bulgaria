{
 "cells": [
  {
   "cell_type": "markdown",
   "metadata": {},
   "source": [
    "## Requirements Deep Dive\n"
   ]
  },
  {
   "cell_type": "code",
   "execution_count": 1,
   "metadata": {},
   "outputs": [],
   "source": [
    "import re\n",
    "from collections import Counter\n",
    "from itertools import combinations, product\n",
    "import psycopg2\n",
    "import numpy as np\n",
    "import pandas as pd\n",
    "from bs4 import BeautifulSoup as bs\n",
    "\n",
    "import string\n",
    "import nltk\n",
    "from nltk import FreqDist, tokenize\n",
    "from nltk.corpus import stopwords\n",
    "from nltk.collocations import *\n",
    "\n",
    "from nbstyler import DATA_STYLE as DS\n",
    "\n",
    "bigram_measures = nltk.collocations.BigramAssocMeasures()\n",
    "trigram_measures = nltk.collocations.TrigramAssocMeasures()\n",
    "\n",
    "%matplotlib notebook\n",
    "%matplotlib inline"
   ]
  },
  {
   "cell_type": "markdown",
   "metadata": {},
   "source": [
    "### Data preparation"
   ]
  },
  {
   "cell_type": "code",
   "execution_count": 2,
   "metadata": {},
   "outputs": [],
   "source": [
    "data_querystr = \"\"\"SELECT * FROM v_full_data_offers_history\"\"\"\n",
    "conn = psycopg2.connect('dbname=jobsbg')\n",
    "data_df = pd.read_sql_query(data_querystr, conn, index_col='subm_date')\n",
    "conn.close()"
   ]
  },
  {
   "cell_type": "code",
   "execution_count": 3,
   "metadata": {},
   "outputs": [
    {
     "data": {
      "text/html": [
       "<div>\n",
       "<style scoped>\n",
       "    .dataframe tbody tr th:only-of-type {\n",
       "        vertical-align: middle;\n",
       "    }\n",
       "\n",
       "    .dataframe tbody tr th {\n",
       "        vertical-align: top;\n",
       "    }\n",
       "\n",
       "    .dataframe thead th {\n",
       "        text-align: right;\n",
       "    }\n",
       "</style>\n",
       "<table border=\"1\" class=\"dataframe\">\n",
       "  <thead>\n",
       "    <tr style=\"text-align: right;\">\n",
       "      <th></th>\n",
       "      <th>subm_type</th>\n",
       "      <th>job_id</th>\n",
       "      <th>company_id</th>\n",
       "      <th>norm_salary</th>\n",
       "      <th>job_title</th>\n",
       "      <th>company_name</th>\n",
       "      <th>text_salary</th>\n",
       "      <th>job_contents</th>\n",
       "    </tr>\n",
       "    <tr>\n",
       "      <th>subm_date</th>\n",
       "      <th></th>\n",
       "      <th></th>\n",
       "      <th></th>\n",
       "      <th></th>\n",
       "      <th></th>\n",
       "      <th></th>\n",
       "      <th></th>\n",
       "      <th></th>\n",
       "    </tr>\n",
       "  </thead>\n",
       "  <tbody>\n",
       "    <tr>\n",
       "      <th>2017-09-27</th>\n",
       "      <td>submission</td>\n",
       "      <td>3994437</td>\n",
       "      <td>124912</td>\n",
       "      <td>NaN</td>\n",
       "      <td>Data Analyst</td>\n",
       "      <td>ПрайсуотърхаусКупърс Одит ООД</td>\n",
       "      <td>None</td>\n",
       "      <td>&lt;!DOCTYPE html PUBLIC \"-//W3C//DTD XHTML 1.0 ...</td>\n",
       "    </tr>\n",
       "    <tr>\n",
       "      <th>2017-09-27</th>\n",
       "      <td>submission</td>\n",
       "      <td>3994555</td>\n",
       "      <td>67058</td>\n",
       "      <td>NaN</td>\n",
       "      <td>ETL Developer</td>\n",
       "      <td>Adastra Bulgaria Ltd.</td>\n",
       "      <td>None</td>\n",
       "      <td>&lt;!DOCTYPE html PUBLIC \"-//W3C//DTD XHTML 1.0 ...</td>\n",
       "    </tr>\n",
       "    <tr>\n",
       "      <th>2017-09-27</th>\n",
       "      <td>submission</td>\n",
       "      <td>3994824</td>\n",
       "      <td>10839</td>\n",
       "      <td>NaN</td>\n",
       "      <td>Senior and Junior Business Intelligence Analys...</td>\n",
       "      <td>Кодикс България ЕАД</td>\n",
       "      <td>None</td>\n",
       "      <td>&lt;!DOCTYPE html PUBLIC \"-//W3C//DTD XHTML 1.0 ...</td>\n",
       "    </tr>\n",
       "    <tr>\n",
       "      <th>2017-09-27</th>\n",
       "      <td>submission</td>\n",
       "      <td>3995044</td>\n",
       "      <td>144752</td>\n",
       "      <td>NaN</td>\n",
       "      <td>BI Консултант</td>\n",
       "      <td>БИЗЛИНК ООД</td>\n",
       "      <td>None</td>\n",
       "      <td>&lt;!DOCTYPE html PUBLIC \"-//W3C//DTD XHTML 1.0 ...</td>\n",
       "    </tr>\n",
       "    <tr>\n",
       "      <th>2017-09-28</th>\n",
       "      <td>submission</td>\n",
       "      <td>3996312</td>\n",
       "      <td>204212</td>\n",
       "      <td>NaN</td>\n",
       "      <td>Business Intelligence Analyst</td>\n",
       "      <td>ДОПАМИН ЕООД</td>\n",
       "      <td>None</td>\n",
       "      <td>&lt;!DOCTYPE html PUBLIC \"-//W3C//DTD XHTML 1.0 ...</td>\n",
       "    </tr>\n",
       "  </tbody>\n",
       "</table>\n",
       "</div>"
      ],
      "text/plain": [
       "             subm_type   job_id  company_id  norm_salary  \\\n",
       "subm_date                                                  \n",
       "2017-09-27  submission  3994437      124912          NaN   \n",
       "2017-09-27  submission  3994555       67058          NaN   \n",
       "2017-09-27  submission  3994824       10839          NaN   \n",
       "2017-09-27  submission  3995044      144752          NaN   \n",
       "2017-09-28  submission  3996312      204212          NaN   \n",
       "\n",
       "                                                    job_title  \\\n",
       "subm_date                                                       \n",
       "2017-09-27                                       Data Analyst   \n",
       "2017-09-27                                      ETL Developer   \n",
       "2017-09-27  Senior and Junior Business Intelligence Analys...   \n",
       "2017-09-27                                      BI Консултант   \n",
       "2017-09-28                      Business Intelligence Analyst   \n",
       "\n",
       "                             company_name text_salary  \\\n",
       "subm_date                                               \n",
       "2017-09-27  ПрайсуотърхаусКупърс Одит ООД        None   \n",
       "2017-09-27          Adastra Bulgaria Ltd.        None   \n",
       "2017-09-27            Кодикс България ЕАД        None   \n",
       "2017-09-27                    БИЗЛИНК ООД        None   \n",
       "2017-09-28                   ДОПАМИН ЕООД        None   \n",
       "\n",
       "                                                 job_contents  \n",
       "subm_date                                                      \n",
       "2017-09-27   <!DOCTYPE html PUBLIC \"-//W3C//DTD XHTML 1.0 ...  \n",
       "2017-09-27   <!DOCTYPE html PUBLIC \"-//W3C//DTD XHTML 1.0 ...  \n",
       "2017-09-27   <!DOCTYPE html PUBLIC \"-//W3C//DTD XHTML 1.0 ...  \n",
       "2017-09-27   <!DOCTYPE html PUBLIC \"-//W3C//DTD XHTML 1.0 ...  \n",
       "2017-09-28   <!DOCTYPE html PUBLIC \"-//W3C//DTD XHTML 1.0 ...  "
      ]
     },
     "execution_count": 3,
     "metadata": {},
     "output_type": "execute_result"
    }
   ],
   "source": [
    "data_df.head(5)"
   ]
  },
  {
   "cell_type": "code",
   "execution_count": 5,
   "metadata": {},
   "outputs": [],
   "source": [
    "def check_archive_content(job_id):\n",
    "    conn = psycopg2.connect('dbname=jobsbg')\n",
    "    cur = conn.cursor()\n",
    "    query = f'SELECT * FROM f_get_offer_contents_by_job_id({job_id})'\n",
    "    cur.execute(query)\n",
    "    result = cur.fetchone()\n",
    "    cur.close()\n",
    "    conn.close()\n",
    "    return result[0]\n",
    "\n",
    "\n",
    "# moved on to `build_nltk_freqdist()` to tackle bigrams and n-grams.\n",
    "def build_counter(job_contents):\n",
    "    contents_soup = bs(job_contents, 'html.parser')\n",
    "    job_container = contents_soup.find('td', {'class': 'explainGray'}).parent.parent.parent.parent.parent\n",
    "    if job_container.find('style'):\n",
    "        job_container.find('style').decompose()\n",
    "    job_text = job_container.get_text().lower()\n",
    "    job_wordlist = re.findall(r\"['\\w']+\", job_text)\n",
    "    counter = Counter(job_wordlist)\n",
    "    return counter\n",
    "\n",
    "\n",
    "def build_nltk_tokenlist(job_contents, stopwords):\n",
    "    contents_soup = bs(job_contents, 'html.parser')\n",
    "    job_container = contents_soup.find('td', {'class': 'explainGray'}).parent.parent.parent.parent.parent\n",
    "    if job_container.find('style'):\n",
    "        job_container.find('style').decompose()\n",
    "    job_text = job_container.get_text().lower() \n",
    "    nltk_ready = [word.lower() for word in tokenize.word_tokenize(job_text) if word.lower() not in stoplist and not word.isdigit()]\n",
    "    return nltk_ready\n",
    "\n",
    "\n",
    "def calc_nltk_bigrams_fdist(wlist):\n",
    "    bigrams = nltk.bigrams(wlist)\n",
    "    fdist = nltk.FreqDist(bigrams)\n",
    "    return fdist\n",
    "\n",
    "\n",
    "def calc_nltk_trigrams_fdist(wlist):\n",
    "    trigrams = nltk.trigrams(wlist)\n",
    "    fdist = nltk.FreqDist(trigrams)\n",
    "    return fdist    "
   ]
  },
  {
   "cell_type": "markdown",
   "metadata": {},
   "source": [
    "#### Counting individual word occurrencies (depr)\n",
    "\n",
    "1. Get soup\n",
    "2. Get `.explainGray` and traverse up the tree 5 times. This is the job contents table.\n",
    "3. Remove any injected styles from the job contents."
   ]
  },
  {
   "cell_type": "code",
   "execution_count": 6,
   "metadata": {},
   "outputs": [],
   "source": [
    "instance5 = data_df.iloc[10:11].job_contents.values\n",
    "instance5_str = instance5[0]\n",
    "instance5_soup = bs(instance5_str, 'html.parser')\n",
    "job_container_table = instance5_soup.find('td', {'class': 'explainGray'}).parent.parent.parent.parent.parent"
   ]
  },
  {
   "cell_type": "code",
   "execution_count": 7,
   "metadata": {},
   "outputs": [],
   "source": [
    "# remove style tag and its contents\n",
    "job_container_table.find('style').decompose()\n"
   ]
  },
  {
   "cell_type": "markdown",
   "metadata": {},
   "source": [
    "4. Get only the text of the tags\n",
    "5. Lower and split to prepare the list for the Counter\n",
    "6. Check result"
   ]
  },
  {
   "cell_type": "code",
   "execution_count": 8,
   "metadata": {},
   "outputs": [],
   "source": [
    "job_text = job_container_table.get_text().lower()"
   ]
  },
  {
   "cell_type": "markdown",
   "metadata": {},
   "source": [
    "#### Calculate common words, bigrams and trigrams"
   ]
  },
  {
   "cell_type": "code",
   "execution_count": 9,
   "metadata": {},
   "outputs": [],
   "source": [
    "stopwords_bg = ['за', 'на', 'в', 'и', 'с', 'със', 'не', 'да', 'без', 'по', 'от', 'или', 'обяви', 'принтирай', 'обява', '’', '–',\n",
    "               'обявата', 'работно', 'време', 'всички', 'тази', 'разглеждания', 'проблем', 'визитка', '--', '•',\n",
    "               'добави', 'моите', 'известия', 'запази', 'бележника', 'известие', 'фирма/организация',\n",
    "               'българия', 'известие', 'месторабота', 'постоянна', 'търсеща', 'служители', 'компанията',\n",
    "                'company_privacy_consent', 'подходяща', 'cv', 'us', 'оод', 'eood', 'еоод', '\\uf451вижте',\n",
    "                'софия', 'пълно', 'name=', 'considered', 'директно', 'безплатнa', 'услугa', 'лични',\n",
    "                '★', '★★', '★★★', '★★★★', '★★★★★', 'name^=', 'err_job', 'var', 'bulgaria', 'ref.', 'contacted',\n",
    "                'consent_error_privacy', 'consent_error_job', '.hide', '.show', 'err_privacy', 'return', 'shortlisted',\n",
    "                'document.frmconsent.submit', 'съгласен', 'въпросите', 'съгласие', 'please', 'работа',\n",
    "               ]\n",
    "stoplist = stopwords.words('english') + stopwords_bg + list(string.punctuation)\n",
    "stoplist = set(stoplist)"
   ]
  },
  {
   "cell_type": "code",
   "execution_count": 10,
   "metadata": {},
   "outputs": [
    {
     "name": "stdout",
     "output_type": "stream",
     "text": [
      "CPU times: user 27.7 s, sys: 82.3 ms, total: 27.8 s\n",
      "Wall time: 27.8 s\n"
     ]
    }
   ],
   "source": [
    "%%time\n",
    "\n",
    "token_contents = [build_nltk_tokenlist(jc, stoplist) for jc in data_df.job_contents]"
   ]
  },
  {
   "cell_type": "code",
   "execution_count": 11,
   "metadata": {},
   "outputs": [
    {
     "name": "stdout",
     "output_type": "stream",
     "text": [
      "CPU times: user 42.7 s, sys: 17.3 ms, total: 42.7 s\n",
      "Wall time: 42.8 s\n"
     ]
    }
   ],
   "source": [
    "%%time\n",
    "\n",
    "data_bigrams = [calc_nltk_bigrams_fdist(tc) for tc in token_contents]\n",
    "result_bigrams = sum(data_bigrams, FreqDist())"
   ]
  },
  {
   "cell_type": "code",
   "execution_count": 12,
   "metadata": {},
   "outputs": [
    {
     "name": "stdout",
     "output_type": "stream",
     "text": [
      "CPU times: user 56.4 s, sys: 24.5 ms, total: 56.4 s\n",
      "Wall time: 56.5 s\n"
     ]
    }
   ],
   "source": [
    "%%time\n",
    "\n",
    "data_trigrams = [calc_nltk_trigrams_fdist(tc) for tc in token_contents]\n",
    "result_trigrams = sum(data_trigrams, FreqDist())"
   ]
  },
  {
   "cell_type": "code",
   "execution_count": 13,
   "metadata": {},
   "outputs": [
    {
     "name": "stdout",
     "output_type": "stream",
     "text": [
      "CPU times: user 6.07 s, sys: 69 µs, total: 6.07 s\n",
      "Wall time: 6.07 s\n"
     ]
    }
   ],
   "source": [
    "%%time\n",
    "\n",
    "data_words = [FreqDist(tc) for tc in token_contents]\n",
    "result_words = sum(data_words, FreqDist())\n"
   ]
  },
  {
   "cell_type": "code",
   "execution_count": 30,
   "metadata": {},
   "outputs": [
    {
     "data": {
      "text/plain": [
       "[('data', 11351),\n",
       " ('business', 5373),\n",
       " ('experience', 4449),\n",
       " ('team', 3552),\n",
       " ('нови', 3278),\n",
       " ('skills', 3137),\n",
       " ('work', 2953),\n",
       " ('company', 2502),\n",
       " ('development', 2331),\n",
       " ('bi', 2281)]"
      ]
     },
     "execution_count": 30,
     "metadata": {},
     "output_type": "execute_result"
    }
   ],
   "source": [
    "result_words.most_common(10)\n"
   ]
  },
  {
   "cell_type": "code",
   "execution_count": 32,
   "metadata": {},
   "outputs": [
    {
     "data": {
      "text/plain": [
       "[(('нови', 'повече'), 1374),\n",
       " (('business', 'intelligence'), 1274),\n",
       " (('data', 'analyst'), 1150),\n",
       " (('personal', 'data'), 913),\n",
       " (('data', 'warehouse'), 677),\n",
       " (('b', 'eye'), 660),\n",
       " ((\"'input\", \"''\"), 620),\n",
       " (('communication', 'skills'), 616),\n",
       " (('short-listed', 'candidates'), 606),\n",
       " (('strict', 'confidentiality'), 460)]"
      ]
     },
     "execution_count": 32,
     "metadata": {},
     "output_type": "execute_result"
    }
   ],
   "source": [
    "result_bigrams.most_common(10)"
   ]
  },
  {
   "cell_type": "code",
   "execution_count": 34,
   "metadata": {},
   "outputs": [
    {
     "data": {
      "text/plain": [
       "[(('treated', 'strict', 'confidentiality'), 401),\n",
       " (('кандидати', 'малък', 'опит'), 359),\n",
       " (('applications', 'treated', 'strict'), 340),\n",
       " (('b', 'eye', 'ltd.'), 330),\n",
       " (('false', \"'input\", \"''\"), 310),\n",
       " ((\"''\", '.is', 'checked'), 310),\n",
       " (('.is', 'checked', 'true'), 310),\n",
       " ((\"'input\", \"''\", \"''\"), 310),\n",
       " (('candidates', 'applications', 'treated'), 260),\n",
       " (('си', 'екс', 'джи'), 252)]"
      ]
     },
     "execution_count": 34,
     "metadata": {},
     "output_type": "execute_result"
    }
   ],
   "source": [
    "result_trigrams.most_common(10)\n"
   ]
  },
  {
   "cell_type": "markdown",
   "metadata": {},
   "source": [
    "### Identify Requirement Terms"
   ]
  },
  {
   "cell_type": "markdown",
   "metadata": {},
   "source": [
    "The words or phrases we need for the chord chart can be defined using the three counters presented above. Here is an attempt:"
   ]
  },
  {
   "cell_type": "code",
   "execution_count": 17,
   "metadata": {},
   "outputs": [],
   "source": [
    "candidate_terms = [\n",
    "    'excel', 'tableau', 'access', 'qlik', 'hadoop', 'informatica', 'vmware', 'ssis', 'vba', 'python', 'powerpoint', 'mysql',\n",
    "    'spark', 'microstrategy', 'deluge', 'ssrs', ('sql', 'server'), ('power', 'bi'), ('ms', 'office'), ('microsoft', 'office'), ]"
   ]
  },
  {
   "cell_type": "code",
   "execution_count": 1,
   "metadata": {},
   "outputs": [
    {
     "data": {
      "text/html": [
       "<style>\n",
       "@import url('https://fonts.googleapis.com/css?family=Fira+Mono|Fira+Sans|Fira+Sans+Condensed|Fira+Sans+Extra+Condensed');\n",
       "@import url('https://fonts.googleapis.com/css?family=Merriweather|Merriweather+Sans');\n",
       "\n",
       ".nbviewer {\n",
       "    background-color: #E5E1D8;\n",
       "}\n",
       "\n",
       "#notebook {\n",
       "    background-color: #E5E1D8;\n",
       "}\n",
       "\n",
       "#notebook-container {\n",
       "    background-color: #FFFAF0;\n",
       "    max-width: 1200px;\n",
       "    border-radius: 4px;\n",
       "    padding: 60px 40px 40px 40px;\n",
       "    -webkit-box-shadow: 0px 0px 12px 1px rgba(101,86,67,0.75);\n",
       "    -moz-box-shadow: 0px 0px 12px 1px rgba(101,86,67,0.75);\n",
       "    box-shadow: 0px 0px 12px 1px rgba(101,86,67,0.75);\n",
       "}\n",
       "\n",
       "/* Headings */\n",
       ".text_cell_render h1 {\n",
       "    color: #655643;\n",
       "    font-family: 'Merriweather', serif;\n",
       "    font-weight: 900;\n",
       "    font-size: 3.2em;\n",
       "    text-shadow: 0 2px #FFFAF0, 0 3px #8c8b8b;\n",
       "    padding: 30px 0 20px 0;\n",
       "}\n",
       "\n",
       ".text_cell_render h2 {\n",
       "    color: #655643;\n",
       "    font-family: 'Merriweather', serif;\n",
       "    font-weight: 400;\n",
       "    font-size: 2.4em;\n",
       "    padding: 34px 0 6px 0;\n",
       "    margin-bottom: 26px;\n",
       "    border-bottom: 2px solid #E5E1D8;\n",
       "}\n",
       "\n",
       ".text_cell_render h3 {\n",
       "    color: #655643;\n",
       "    font-family: 'Merriweather', serif;\n",
       "    font-weight: 100;\n",
       "    font-size: 1.6em;\n",
       "    padding: 6px 0 0 0;\n",
       "}\n",
       "\n",
       ".text_cell_render h4 {\n",
       "    color: #655643;\n",
       "    font-family: 'Merriweather', serif;\n",
       "    font-weight: 100;\n",
       "    font-size: 1.4em;\n",
       "}\n",
       "\n",
       "/* Use for subtitles and other non-headings */\n",
       "div.rendered_html > h5 {\n",
       "    color: #655643;\n",
       "    font-family: 'Merriweather Sans', sans-serif;\n",
       "    font-size: 1.0em;\n",
       "    font-weight: normal;\n",
       "    font-style: normal;\n",
       "    margin-top: 0.5em;\n",
       "    padding: 8px 0 8px 0;\n",
       "    border-bottom: 2px solid #E5E1D8;\n",
       "    border-top: 2px solid #E5E1D8;\n",
       "}\n",
       "\n",
       "/* Use for image and chart captions */\n",
       "div.rendered_html > h6 {\n",
       "    font-family: 'Merriweather Sans', sans-serif;\n",
       "    font-size: 0.9em;\n",
       "    line-height: 1.5em;\n",
       "    color: #cac8c9;\n",
       "    font-weight: normal;\n",
       "    max-width: 525px;\n",
       "    display: block;\n",
       "    margin-left: auto;\n",
       "    margin-right: auto;\n",
       "}\n",
       "\n",
       "div#notebook-container p {\n",
       "    font-family: 'Fira Sans Condensed', sans-serif;\n",
       "    font-size: 1.2em;\n",
       "    line-height: 1.3em;\n",
       "    color: #655643;\n",
       "}\n",
       "\n",
       "/* Lists */\n",
       "ol, ul {\n",
       "    font-family: 'Fira Sans Condensed', sans-serif;\n",
       "    line-height: 1.3em;\n",
       "    color: #655643;\n",
       "}\n",
       "\n",
       "div.prompt {\n",
       "    min-width: 8ex;\n",
       "}\n",
       "\n",
       "div.input_prompt {\n",
       "    color: #aad0bc;\n",
       "    font-size: 0.7em;\n",
       "}\n",
       "\n",
       "div.output_prompt {\n",
       "    color: #aad0bc;\n",
       "    font-size: 0.7em;\n",
       "}\n",
       "\n",
       "div.text_cell code {\n",
       "    background: transparent;\n",
       "    color: #40362F;\n",
       "    font-family: 'Fira Mono', monospace;\n",
       "}\n",
       "\n",
       "div.input_area {\n",
       "    background-color: #FFFAF0;\n",
       "    border: 1px solid #E5E1D8;\n",
       "    background: repeating-linear-gradient(135deg, #FFFAF0, #FFFAF0 5px, #F7F7ED 5px, #F7F7ED 10px);\n",
       "}\n",
       "\n",
       "div.cell.rendered.selected {\n",
       "    background: #E5E1D8;\n",
       "    border: 1px solid #38614F;\n",
       "}\n",
       "\n",
       "div.output_area img {\n",
       "    display: block;\n",
       "    margin-left: auto;\n",
       "    margin-right: auto;\n",
       "}\n",
       "\n",
       "div.rendered_html pre, code {\n",
       "    font-family: 'Fira Sans Condensed', sans-serif;\n",
       "    font-size: 16px;\n",
       "    font-weight: 400;\n",
       "    color: #40362F;\n",
       "    background-color: #E5E1D8;\n",
       "}\n",
       "\n",
       "div.output_text pre {\n",
       "    font-family: 'Fira Sans Condensed', sans-serif;\n",
       "    font-size: 13px;\n",
       "    font-weight: 300;\n",
       "    color: #40362F;\n",
       "}\n",
       "\n",
       "div.output_subarea {\n",
       "    display: block;\n",
       "    margin-left: auto;\n",
       "    margin-right: auto;\n",
       "}\n",
       "\n",
       "pre, textarea {\n",
       "    overflow: hidden;\n",
       "}\n",
       "\n",
       "div.text_cell_render img {\n",
       "    max-height: 525px;\n",
       "    display: block;\n",
       "    margin-left: auto;\n",
       "    margin-right: auto;\n",
       "}\n",
       "\n",
       "div.output output_scroll {\n",
       "    overflow-x: auto;\n",
       "    overflow-y: scroll;\n",
       "    max-height: 2000px;\n",
       "}\n",
       "\n",
       "div.rendered_html hr {\n",
       "    border: 0;\n",
       "    height: 1px;\n",
       "    background-color: #655643;\n",
       "}\n",
       "\n",
       "div.rendered_html pre, code {\n",
       "    font-family: 'Fira Sans Condensed', sans-serif;\n",
       "    font-size: 1.1em;\n",
       "    color: #40362F;\n",
       "    background-color: #FFFAF0;\n",
       "}\n",
       "\n",
       "/* Links */\n",
       "a.link--embedview {\n",
       "    display: none;\n",
       "}\n",
       "\n",
       "a:link {\n",
       "    color: #293C34;\n",
       "}\n",
       "\n",
       "a:visited {\n",
       "    color: #293C34;\n",
       "}\n",
       "\n",
       "a:hover {\n",
       "    color: #557C6C;\n",
       "}\n",
       "\n",
       "a:focus {\n",
       "    color:#557C6C;\n",
       "}\n",
       "\n",
       "a:active {\n",
       "    font-weight: bold;\n",
       "    color:#80BCA3;\n",
       "}\n",
       "\n",
       ".rendered_html :link {\n",
       "    text-decoration: underline;\n",
       "}\n",
       "\n",
       "/* Colors for code highlighting */\n",
       ".CodeMirror-code span.cm-keyword {\n",
       "    color: #557C6C;\n",
       "}\n",
       "\n",
       ".CodeMirror-code span.cm-variable {\n",
       "    color: #4C4138;\n",
       "}\n",
       "\n",
       ".CodeMirror-code span.cm-property {\n",
       "    color: #40362F;\n",
       "}\n",
       "\n",
       ".CodeMirror-code span.cm-operator {\n",
       "    color: #4C4138;\n",
       "}\n",
       "\n",
       ".CodeMirror-code span.cm-string {\n",
       "    color: #7F331B;\n",
       "}\n",
       "\n",
       ".CodeMirror-code span.cm-number {\n",
       "    color: #458C7A;\n",
       "}\n",
       "\n",
       ".CodeMirror-code span.cm-comment {\n",
       "    color: #557C6C;\n",
       "}\n",
       "\n",
       ".CodeMirror-code span.cm-builtin {\n",
       "    color: #557C6C;\n",
       "}\n",
       "\n",
       "/* Code with no class applied (brackets mostly) */\n",
       ".CodeMirror-line > span {\n",
       "    color: #557C6C;\n",
       "}\n",
       "\n",
       "/* Table styles */\n",
       "table {\n",
       "    border: 1px solid #BF4D28;\n",
       "}\n",
       "\n",
       ".rendered_html table {\n",
       "    float:left;\n",
       "    border-collapse: collapse;\n",
       "}\n",
       "\n",
       ".rendered_html table th {\n",
       "    text-align: left;\n",
       "    background-color: #E5E1D8;\n",
       "}\n",
       "\n",
       ".rendered_html td {\n",
       "    text-align: left;\n",
       "}\n",
       "\n",
       ".rendered_html table tr:nth-child(odd) {\n",
       "    background-color: #F0E4D5;\n",
       "}\n",
       "\n",
       ".rendered_html table tr:nth-child(even) {\n",
       "    background-color: #F5EDE1;\n",
       "}\n",
       "\n",
       ".rendered_html table tr:hover {\n",
       "    background-color: #BF4D28;\n",
       "}\n",
       "\n",
       "iframe {\n",
       "    border-width: 0;\n",
       "}\n",
       "</style>\n"
      ],
      "text/plain": [
       "<IPython.core.display.HTML object>"
      ]
     },
     "execution_count": 1,
     "metadata": {},
     "output_type": "execute_result"
    }
   ],
   "source": [
    "from IPython.core.display import HTML\n",
    "with open('../resources/styles/datum.css', 'r') as f:\n",
    "    style = f.read()\n",
    "HTML(style)"
   ]
  },
  {
   "cell_type": "markdown",
   "metadata": {},
   "source": [
    "### Resources:\n",
    "\n",
    "- https://nlp.stanford.edu/fsnlp/promo/colloc.pdf\n",
    "- http://www.nltk.org/index.html"
   ]
  }
 ],
 "metadata": {
  "kernelspec": {
   "display_name": "Python 3",
   "language": "python",
   "name": "python3"
  },
  "language_info": {
   "codemirror_mode": {
    "name": "ipython",
    "version": 3
   },
   "file_extension": ".py",
   "mimetype": "text/x-python",
   "name": "python",
   "nbconvert_exporter": "python",
   "pygments_lexer": "ipython3",
   "version": "3.7.1"
  }
 },
 "nbformat": 4,
 "nbformat_minor": 2
}
