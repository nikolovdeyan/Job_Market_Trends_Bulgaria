{
 "cells": [
  {
   "cell_type": "markdown",
   "metadata": {},
   "source": [
    "## Requirements Relationships Chord Diagram\n"
   ]
  },
  {
   "cell_type": "code",
   "execution_count": 1,
   "metadata": {},
   "outputs": [
    {
     "data": {
      "text/html": [
       "<script type=\"text/javascript\">window.PlotlyConfig = {MathJaxConfig: 'local'};</script><script type=\"text/javascript\">if (window.MathJax) {MathJax.Hub.Config({SVG: {font: \"STIX-Web\"}});}</script><script>requirejs.config({paths: { 'plotly': ['https://cdn.plot.ly/plotly-latest.min']},});if(!window._Plotly) {require(['plotly'],function(plotly) {window._Plotly=plotly;});}</script>"
      ],
      "text/vnd.plotly.v1+html": [
       "<script type=\"text/javascript\">window.PlotlyConfig = {MathJaxConfig: 'local'};</script><script type=\"text/javascript\">if (window.MathJax) {MathJax.Hub.Config({SVG: {font: \"STIX-Web\"}});}</script><script>requirejs.config({paths: { 'plotly': ['https://cdn.plot.ly/plotly-latest.min']},});if(!window._Plotly) {require(['plotly'],function(plotly) {window._Plotly=plotly;});}</script>"
      ]
     },
     "metadata": {},
     "output_type": "display_data"
    }
   ],
   "source": [
    "import re\n",
    "from itertools import combinations\n",
    "import psycopg2\n",
    "import numpy as np\n",
    "import pandas as pd\n",
    "import plotly\n",
    "import plotly.plotly as py\n",
    "import plotly.graph_objs as go\n",
    "from IPython import display\n",
    "from bs4 import BeautifulSoup as bs\n",
    "\n",
    "from nbstyler import DATA_STYLE as style\n",
    "\n",
    "plotly.offline.init_notebook_mode(connected=True) # run at the start of every ipython notebook to use plotly.offline\n",
    "\n",
    "%matplotlib notebook\n",
    "%matplotlib inline"
   ]
  },
  {
   "cell_type": "markdown",
   "metadata": {},
   "source": [
    "### Data Preparation"
   ]
  },
  {
   "cell_type": "code",
   "execution_count": 2,
   "metadata": {},
   "outputs": [],
   "source": [
    "data_querystr = \"\"\"SELECT * FROM v_full_data_offers_history\"\"\"\n",
    "conn = psycopg2.connect('dbname=jobsbg')\n",
    "data_df = pd.read_sql_query(data_querystr, conn, index_col='subm_date')\n",
    "conn.close()"
   ]
  },
  {
   "cell_type": "code",
   "execution_count": 3,
   "metadata": {},
   "outputs": [
    {
     "data": {
      "text/html": [
       "<div>\n",
       "<style scoped>\n",
       "    .dataframe tbody tr th:only-of-type {\n",
       "        vertical-align: middle;\n",
       "    }\n",
       "\n",
       "    .dataframe tbody tr th {\n",
       "        vertical-align: top;\n",
       "    }\n",
       "\n",
       "    .dataframe thead th {\n",
       "        text-align: right;\n",
       "    }\n",
       "</style>\n",
       "<table border=\"1\" class=\"dataframe\">\n",
       "  <thead>\n",
       "    <tr style=\"text-align: right;\">\n",
       "      <th></th>\n",
       "      <th>subm_type</th>\n",
       "      <th>job_id</th>\n",
       "      <th>company_id</th>\n",
       "      <th>norm_salary</th>\n",
       "      <th>job_title</th>\n",
       "      <th>company_name</th>\n",
       "      <th>text_salary</th>\n",
       "      <th>job_contents</th>\n",
       "    </tr>\n",
       "    <tr>\n",
       "      <th>subm_date</th>\n",
       "      <th></th>\n",
       "      <th></th>\n",
       "      <th></th>\n",
       "      <th></th>\n",
       "      <th></th>\n",
       "      <th></th>\n",
       "      <th></th>\n",
       "      <th></th>\n",
       "    </tr>\n",
       "  </thead>\n",
       "  <tbody>\n",
       "    <tr>\n",
       "      <th>2017-09-27</th>\n",
       "      <td>submission</td>\n",
       "      <td>3994437</td>\n",
       "      <td>124912</td>\n",
       "      <td>NaN</td>\n",
       "      <td>Data Analyst</td>\n",
       "      <td>ПрайсуотърхаусКупърс Одит ООД</td>\n",
       "      <td>None</td>\n",
       "      <td>&lt;!DOCTYPE html PUBLIC \"-//W3C//DTD XHTML 1.0 ...</td>\n",
       "    </tr>\n",
       "  </tbody>\n",
       "</table>\n",
       "</div>"
      ],
      "text/plain": [
       "             subm_type   job_id  company_id  norm_salary     job_title  \\\n",
       "subm_date                                                                \n",
       "2017-09-27  submission  3994437      124912          NaN  Data Analyst   \n",
       "\n",
       "                             company_name text_salary  \\\n",
       "subm_date                                               \n",
       "2017-09-27  ПрайсуотърхаусКупърс Одит ООД        None   \n",
       "\n",
       "                                                 job_contents  \n",
       "subm_date                                                      \n",
       "2017-09-27   <!DOCTYPE html PUBLIC \"-//W3C//DTD XHTML 1.0 ...  "
      ]
     },
     "execution_count": 3,
     "metadata": {},
     "output_type": "execute_result"
    }
   ],
   "source": [
    "data_df.head(1)"
   ]
  },
  {
   "cell_type": "markdown",
   "metadata": {},
   "source": [
    "### Relationship Categories Definition"
   ]
  },
  {
   "cell_type": "markdown",
   "metadata": {},
   "source": [
    "In order to build the necessary data we first need to define the scope of the relationships we aim to observe. The search strings we will compare should be of the same semantic category to provide meaningful insight.\n",
    "\n",
    "To explore the data and prepare proper definitions we took a deep dive in the data offers' text contents. We used the `nltk` library for text processing to produce frequency distributions of most common words, bigrams and trigrams. Then those distributions were used to explore different possible relationship categories. See the details in the [Requirements Deep Dive Notebook](./Data_Offers_Requirements_Deep_Dive.ipynb).\n",
    "\n",
    "For the first chord diagram the chosen view is a breakdown by technology. Other possible relationships to explore are skill requirements breakdown, perks & benefits breakdown, job title breakdown, etc."
   ]
  },
  {
   "cell_type": "markdown",
   "metadata": {},
   "source": [
    "### Data Jobs Technology Requirement Relationships"
   ]
  },
  {
   "cell_type": "markdown",
   "metadata": {},
   "source": [
    "A preliminary list of terms that describe most often sought categories is presented below. We are going to use it to construct regex filters for selected key technologies."
   ]
  },
  {
   "cell_type": "code",
   "execution_count": 4,
   "metadata": {},
   "outputs": [],
   "source": [
    "#tech_terms_filters = [\n",
    "#    r'excel', r'tableau', r'qlik', r'hadoop', r'ss[ir]s', r'sql server', r'power bi', \n",
    "#    r'spark', r'postgresql', r'informatica', r'microstrategy', r'(mysql)|(mariadb)']\n",
    "#\n",
    "#tech_terms_labels = [\n",
    "#    'Excel', 'Tableau', 'Qlik', 'Hadoop', 'SSRS/SSIS', 'SQL Server', 'Power BI', \n",
    "#    'Spark', 'Postgresql', 'Informatica', 'Microstrategy', 'MySQL/MariaDB']\n",
    "\n",
    "tech_terms_filters = [\n",
    "    r'power bi', r'excel', r'ss[ir]s',\n",
    "    r'sql server', r'postgresql', r'(mysql)|(mariadb)', r't.?sql', r'pl.?sql',\n",
    "    r'pentaho', r'hadoop', r'spark', r'informatica',\n",
    "    r'qlik', r'tableau', r'microstrategy', r'oracle (bi)|(business intelligence)',\n",
    "    r'python', r'vba', r'linux', r'aws']\n",
    "\n",
    "tech_terms_labels = [\n",
    "    'Power BI', 'Excel', 'SSIS/SSRS',\n",
    "    'MS SQL Server', 'PostgreSQL', 'MySQL/MariaDB', 'T-SQL', 'PL/SQL',\n",
    "    'Pentaho', 'Hadoop', 'Spark', 'Informatica', \n",
    "    'Qlik', 'Tableau', 'Microstrategy', 'Oracle BI',\n",
    "    'Python', 'VBA', 'Linux', 'AWS']"
   ]
  },
  {
   "cell_type": "markdown",
   "metadata": {},
   "source": [
    "#### Preparing a square matrix with counts for matching filters"
   ]
  },
  {
   "cell_type": "markdown",
   "metadata": {},
   "source": [
    "First we define a helper function that returns `True` for job offers where both of the provided patterns are found in the job contents. We also prepare a list of all possible filter patterns' combinations."
   ]
  },
  {
   "cell_type": "code",
   "execution_count": 5,
   "metadata": {},
   "outputs": [
    {
     "data": {
      "text/plain": [
       "[('power bi', 'excel'),\n",
       " ('power bi', 'ss[ir]s'),\n",
       " ('power bi', 'sql server'),\n",
       " ('power bi', 'postgresql'),\n",
       " ('power bi', '(mysql)|(mariadb)')]"
      ]
     },
     "execution_count": 5,
     "metadata": {},
     "output_type": "execute_result"
    }
   ],
   "source": [
    "def match_terms(first_term, second_term, text):\n",
    "    if re.search(first_term, text, re.IGNORECASE) and re.search(second_term, text, re.IGNORECASE):\n",
    "        return True\n",
    "    else:\n",
    "        return False\n",
    "    \n",
    "def count_matches(first_term, second_term, col):\n",
    "    return sum([match_terms(first_term, second_term, t) for t in col.values])\n",
    "\n",
    "req_combinations = list(combinations(tech_terms_filters, 2))\n",
    "req_combinations[:5]"
   ]
  },
  {
   "cell_type": "markdown",
   "metadata": {},
   "source": [
    "Building the counts in a dictionary with keys composed of tuples with both search terms. "
   ]
  },
  {
   "cell_type": "code",
   "execution_count": 6,
   "metadata": {},
   "outputs": [
    {
     "name": "stdout",
     "output_type": "stream",
     "text": [
      "CPU times: user 1min 20s, sys: 48.6 ms, total: 1min 20s\n",
      "Wall time: 1min 20s\n"
     ]
    }
   ],
   "source": [
    "%%time\n",
    "match_results = [count_matches(*tup, data_df.job_contents) for tup in req_combinations]\n",
    "match_dict = dict(zip(req_combinations, match_results))"
   ]
  },
  {
   "cell_type": "markdown",
   "metadata": {},
   "source": [
    "Another helper function will unpack the combinations counts into a square matrix form. Finally, a DataFrame is created from the combinations counts matrix. This is our main data source for the chord diagram. "
   ]
  },
  {
   "cell_type": "code",
   "execution_count": 7,
   "metadata": {},
   "outputs": [],
   "source": [
    "def make_matrix(headers, counts):\n",
    "    res = []\n",
    "    for k1 in headers:\n",
    "        row = []\n",
    "        for k2 in headers:\n",
    "            if k1 == k2:\n",
    "                row.append(0)\n",
    "            else:\n",
    "                curr_key = tuple([k1, k2])\n",
    "                cell_value = counts.get(curr_key) if curr_key in counts else counts.get(tuple([k2, k1]))\n",
    "                row.append(cell_value)\n",
    "        res.append(row)\n",
    "                \n",
    "    return np.array(res, dtype=int)    "
   ]
  },
  {
   "cell_type": "code",
   "execution_count": 8,
   "metadata": {},
   "outputs": [
    {
     "data": {
      "text/plain": [
       "array([[  0, 136,  78,  64,   0,   5,  28,   3,   7,  14,  19,   5,  89,\n",
       "         89,   9,  63,  33,  20,   0,   3],\n",
       "       [136,   0, 300, 159,  25,  64, 111,  36,  42,  50,  55,  79, 237,\n",
       "        250,  23, 348, 189, 145,  50,  24],\n",
       "       [ 78, 300,   0, 142,  11,  28,  91,  18,  18,  26,  35,  43,  43,\n",
       "         82,  12, 139,  97,  47,  14,  14],\n",
       "       [ 64, 159, 142,   0,  26,  33, 117,   6,  27,  20,  16,  32,  25,\n",
       "         42,  10,  76,  53,  29,  26,   5],\n",
       "       [  0,  25,  11,  26,   0,  35,  24,   0,  28,   3,   5,   0,   6,\n",
       "          5,   0,  12,  12,   0,  20,   0],\n",
       "       [  5,  64,  28,  33,  35,   0,  29,   0,  41,   3,  18,   1,  10,\n",
       "         26,   0,  30,  29,   1,  27,   0],\n",
       "       [ 28, 111,  91, 117,  24,  29,   0,  17,  26,  14,  14,   9,  38,\n",
       "         52,   6,  68,  39,  21,  18,   6],\n",
       "       [  3,  36,  18,   6,   0,   0,  17,   0,   6,   3,   0,  12,   8,\n",
       "         11,  14,  53,   2,   5,   1,   0],\n",
       "       [  7,  42,  18,  27,  28,  41,  26,   6,   0,   0,   6,  20,  16,\n",
       "         23,   2,  25,  23,   1,  25,  11],\n",
       "       [ 14,  50,  26,  20,   3,   3,  14,   3,   0,   0,  77,   4,   8,\n",
       "         29,   3,  23,  85,   6,  49,  19],\n",
       "       [ 19,  55,  35,  16,   5,  18,  14,   0,   6,  77,   0,   4,  14,\n",
       "         29,   3,  22,  97,   6,  37,  17],\n",
       "       [  5,  79,  43,  32,   0,   1,   9,  12,  20,   4,   4,   0,  65,\n",
       "         36,   6,  88,  15,   3,   2,  11],\n",
       "       [ 89, 237,  43,  25,   6,  10,  38,   8,  16,   8,  14,  65,   0,\n",
       "        196,  17, 169,  21,  23,   2,   2],\n",
       "       [ 89, 250,  82,  42,   5,  26,  52,  11,  23,  29,  29,  36, 196,\n",
       "          0,  23, 217,  63,  45,   8,  18],\n",
       "       [  9,  23,  12,  10,   0,   0,   6,  14,   2,   3,   3,   6,  17,\n",
       "         23,   0,  34,   9,   6,   0,   2],\n",
       "       [ 63, 348, 139,  76,  12,  30,  68,  53,  25,  23,  22,  88, 169,\n",
       "        217,  34,   0,  79,  49,   3,  29],\n",
       "       [ 33, 189,  97,  53,  12,  29,  39,   2,  23,  85,  97,  15,  21,\n",
       "         63,   9,  79,   0,  46,  58,  47],\n",
       "       [ 20, 145,  47,  29,   0,   1,  21,   5,   1,   6,   6,   3,  23,\n",
       "         45,   6,  49,  46,   0,   0,   0],\n",
       "       [  0,  50,  14,  26,  20,  27,  18,   1,  25,  49,  37,   2,   2,\n",
       "          8,   0,   3,  58,   0,   0,  13],\n",
       "       [  3,  24,  14,   5,   0,   0,   6,   0,  11,  19,  17,  11,   2,\n",
       "         18,   2,  29,  47,   0,  13,   0]])"
      ]
     },
     "execution_count": 8,
     "metadata": {},
     "output_type": "execute_result"
    }
   ],
   "source": [
    "tech_terms_matrix = make_matrix(tech_terms_filters, match_dict)\n",
    "tech_terms_matrix"
   ]
  },
  {
   "cell_type": "code",
   "execution_count": 9,
   "metadata": {},
   "outputs": [
    {
     "data": {
      "text/html": [
       "<div>\n",
       "<style scoped>\n",
       "    .dataframe tbody tr th:only-of-type {\n",
       "        vertical-align: middle;\n",
       "    }\n",
       "\n",
       "    .dataframe tbody tr th {\n",
       "        vertical-align: top;\n",
       "    }\n",
       "\n",
       "    .dataframe thead th {\n",
       "        text-align: right;\n",
       "    }\n",
       "</style>\n",
       "<table border=\"1\" class=\"dataframe\">\n",
       "  <thead>\n",
       "    <tr style=\"text-align: right;\">\n",
       "      <th></th>\n",
       "      <th>Power BI</th>\n",
       "      <th>Excel</th>\n",
       "      <th>SSIS/SSRS</th>\n",
       "      <th>MS SQL Server</th>\n",
       "      <th>PostgreSQL</th>\n",
       "      <th>MySQL/MariaDB</th>\n",
       "      <th>T-SQL</th>\n",
       "      <th>PL/SQL</th>\n",
       "      <th>Pentaho</th>\n",
       "      <th>Hadoop</th>\n",
       "      <th>Spark</th>\n",
       "      <th>Informatica</th>\n",
       "      <th>Qlik</th>\n",
       "      <th>Tableau</th>\n",
       "      <th>Microstrategy</th>\n",
       "      <th>Oracle BI</th>\n",
       "      <th>Python</th>\n",
       "      <th>VBA</th>\n",
       "      <th>Linux</th>\n",
       "      <th>AWS</th>\n",
       "    </tr>\n",
       "  </thead>\n",
       "  <tbody>\n",
       "    <tr>\n",
       "      <th>Power BI</th>\n",
       "      <td>0</td>\n",
       "      <td>136</td>\n",
       "      <td>78</td>\n",
       "      <td>64</td>\n",
       "      <td>0</td>\n",
       "      <td>5</td>\n",
       "      <td>28</td>\n",
       "      <td>3</td>\n",
       "      <td>7</td>\n",
       "      <td>14</td>\n",
       "      <td>19</td>\n",
       "      <td>5</td>\n",
       "      <td>89</td>\n",
       "      <td>89</td>\n",
       "      <td>9</td>\n",
       "      <td>63</td>\n",
       "      <td>33</td>\n",
       "      <td>20</td>\n",
       "      <td>0</td>\n",
       "      <td>3</td>\n",
       "    </tr>\n",
       "    <tr>\n",
       "      <th>Excel</th>\n",
       "      <td>136</td>\n",
       "      <td>0</td>\n",
       "      <td>300</td>\n",
       "      <td>159</td>\n",
       "      <td>25</td>\n",
       "      <td>64</td>\n",
       "      <td>111</td>\n",
       "      <td>36</td>\n",
       "      <td>42</td>\n",
       "      <td>50</td>\n",
       "      <td>55</td>\n",
       "      <td>79</td>\n",
       "      <td>237</td>\n",
       "      <td>250</td>\n",
       "      <td>23</td>\n",
       "      <td>348</td>\n",
       "      <td>189</td>\n",
       "      <td>145</td>\n",
       "      <td>50</td>\n",
       "      <td>24</td>\n",
       "    </tr>\n",
       "    <tr>\n",
       "      <th>SSIS/SSRS</th>\n",
       "      <td>78</td>\n",
       "      <td>300</td>\n",
       "      <td>0</td>\n",
       "      <td>142</td>\n",
       "      <td>11</td>\n",
       "      <td>28</td>\n",
       "      <td>91</td>\n",
       "      <td>18</td>\n",
       "      <td>18</td>\n",
       "      <td>26</td>\n",
       "      <td>35</td>\n",
       "      <td>43</td>\n",
       "      <td>43</td>\n",
       "      <td>82</td>\n",
       "      <td>12</td>\n",
       "      <td>139</td>\n",
       "      <td>97</td>\n",
       "      <td>47</td>\n",
       "      <td>14</td>\n",
       "      <td>14</td>\n",
       "    </tr>\n",
       "    <tr>\n",
       "      <th>MS SQL Server</th>\n",
       "      <td>64</td>\n",
       "      <td>159</td>\n",
       "      <td>142</td>\n",
       "      <td>0</td>\n",
       "      <td>26</td>\n",
       "      <td>33</td>\n",
       "      <td>117</td>\n",
       "      <td>6</td>\n",
       "      <td>27</td>\n",
       "      <td>20</td>\n",
       "      <td>16</td>\n",
       "      <td>32</td>\n",
       "      <td>25</td>\n",
       "      <td>42</td>\n",
       "      <td>10</td>\n",
       "      <td>76</td>\n",
       "      <td>53</td>\n",
       "      <td>29</td>\n",
       "      <td>26</td>\n",
       "      <td>5</td>\n",
       "    </tr>\n",
       "    <tr>\n",
       "      <th>PostgreSQL</th>\n",
       "      <td>0</td>\n",
       "      <td>25</td>\n",
       "      <td>11</td>\n",
       "      <td>26</td>\n",
       "      <td>0</td>\n",
       "      <td>35</td>\n",
       "      <td>24</td>\n",
       "      <td>0</td>\n",
       "      <td>28</td>\n",
       "      <td>3</td>\n",
       "      <td>5</td>\n",
       "      <td>0</td>\n",
       "      <td>6</td>\n",
       "      <td>5</td>\n",
       "      <td>0</td>\n",
       "      <td>12</td>\n",
       "      <td>12</td>\n",
       "      <td>0</td>\n",
       "      <td>20</td>\n",
       "      <td>0</td>\n",
       "    </tr>\n",
       "    <tr>\n",
       "      <th>MySQL/MariaDB</th>\n",
       "      <td>5</td>\n",
       "      <td>64</td>\n",
       "      <td>28</td>\n",
       "      <td>33</td>\n",
       "      <td>35</td>\n",
       "      <td>0</td>\n",
       "      <td>29</td>\n",
       "      <td>0</td>\n",
       "      <td>41</td>\n",
       "      <td>3</td>\n",
       "      <td>18</td>\n",
       "      <td>1</td>\n",
       "      <td>10</td>\n",
       "      <td>26</td>\n",
       "      <td>0</td>\n",
       "      <td>30</td>\n",
       "      <td>29</td>\n",
       "      <td>1</td>\n",
       "      <td>27</td>\n",
       "      <td>0</td>\n",
       "    </tr>\n",
       "    <tr>\n",
       "      <th>T-SQL</th>\n",
       "      <td>28</td>\n",
       "      <td>111</td>\n",
       "      <td>91</td>\n",
       "      <td>117</td>\n",
       "      <td>24</td>\n",
       "      <td>29</td>\n",
       "      <td>0</td>\n",
       "      <td>17</td>\n",
       "      <td>26</td>\n",
       "      <td>14</td>\n",
       "      <td>14</td>\n",
       "      <td>9</td>\n",
       "      <td>38</td>\n",
       "      <td>52</td>\n",
       "      <td>6</td>\n",
       "      <td>68</td>\n",
       "      <td>39</td>\n",
       "      <td>21</td>\n",
       "      <td>18</td>\n",
       "      <td>6</td>\n",
       "    </tr>\n",
       "    <tr>\n",
       "      <th>PL/SQL</th>\n",
       "      <td>3</td>\n",
       "      <td>36</td>\n",
       "      <td>18</td>\n",
       "      <td>6</td>\n",
       "      <td>0</td>\n",
       "      <td>0</td>\n",
       "      <td>17</td>\n",
       "      <td>0</td>\n",
       "      <td>6</td>\n",
       "      <td>3</td>\n",
       "      <td>0</td>\n",
       "      <td>12</td>\n",
       "      <td>8</td>\n",
       "      <td>11</td>\n",
       "      <td>14</td>\n",
       "      <td>53</td>\n",
       "      <td>2</td>\n",
       "      <td>5</td>\n",
       "      <td>1</td>\n",
       "      <td>0</td>\n",
       "    </tr>\n",
       "    <tr>\n",
       "      <th>Pentaho</th>\n",
       "      <td>7</td>\n",
       "      <td>42</td>\n",
       "      <td>18</td>\n",
       "      <td>27</td>\n",
       "      <td>28</td>\n",
       "      <td>41</td>\n",
       "      <td>26</td>\n",
       "      <td>6</td>\n",
       "      <td>0</td>\n",
       "      <td>0</td>\n",
       "      <td>6</td>\n",
       "      <td>20</td>\n",
       "      <td>16</td>\n",
       "      <td>23</td>\n",
       "      <td>2</td>\n",
       "      <td>25</td>\n",
       "      <td>23</td>\n",
       "      <td>1</td>\n",
       "      <td>25</td>\n",
       "      <td>11</td>\n",
       "    </tr>\n",
       "    <tr>\n",
       "      <th>Hadoop</th>\n",
       "      <td>14</td>\n",
       "      <td>50</td>\n",
       "      <td>26</td>\n",
       "      <td>20</td>\n",
       "      <td>3</td>\n",
       "      <td>3</td>\n",
       "      <td>14</td>\n",
       "      <td>3</td>\n",
       "      <td>0</td>\n",
       "      <td>0</td>\n",
       "      <td>77</td>\n",
       "      <td>4</td>\n",
       "      <td>8</td>\n",
       "      <td>29</td>\n",
       "      <td>3</td>\n",
       "      <td>23</td>\n",
       "      <td>85</td>\n",
       "      <td>6</td>\n",
       "      <td>49</td>\n",
       "      <td>19</td>\n",
       "    </tr>\n",
       "    <tr>\n",
       "      <th>Spark</th>\n",
       "      <td>19</td>\n",
       "      <td>55</td>\n",
       "      <td>35</td>\n",
       "      <td>16</td>\n",
       "      <td>5</td>\n",
       "      <td>18</td>\n",
       "      <td>14</td>\n",
       "      <td>0</td>\n",
       "      <td>6</td>\n",
       "      <td>77</td>\n",
       "      <td>0</td>\n",
       "      <td>4</td>\n",
       "      <td>14</td>\n",
       "      <td>29</td>\n",
       "      <td>3</td>\n",
       "      <td>22</td>\n",
       "      <td>97</td>\n",
       "      <td>6</td>\n",
       "      <td>37</td>\n",
       "      <td>17</td>\n",
       "    </tr>\n",
       "    <tr>\n",
       "      <th>Informatica</th>\n",
       "      <td>5</td>\n",
       "      <td>79</td>\n",
       "      <td>43</td>\n",
       "      <td>32</td>\n",
       "      <td>0</td>\n",
       "      <td>1</td>\n",
       "      <td>9</td>\n",
       "      <td>12</td>\n",
       "      <td>20</td>\n",
       "      <td>4</td>\n",
       "      <td>4</td>\n",
       "      <td>0</td>\n",
       "      <td>65</td>\n",
       "      <td>36</td>\n",
       "      <td>6</td>\n",
       "      <td>88</td>\n",
       "      <td>15</td>\n",
       "      <td>3</td>\n",
       "      <td>2</td>\n",
       "      <td>11</td>\n",
       "    </tr>\n",
       "    <tr>\n",
       "      <th>Qlik</th>\n",
       "      <td>89</td>\n",
       "      <td>237</td>\n",
       "      <td>43</td>\n",
       "      <td>25</td>\n",
       "      <td>6</td>\n",
       "      <td>10</td>\n",
       "      <td>38</td>\n",
       "      <td>8</td>\n",
       "      <td>16</td>\n",
       "      <td>8</td>\n",
       "      <td>14</td>\n",
       "      <td>65</td>\n",
       "      <td>0</td>\n",
       "      <td>196</td>\n",
       "      <td>17</td>\n",
       "      <td>169</td>\n",
       "      <td>21</td>\n",
       "      <td>23</td>\n",
       "      <td>2</td>\n",
       "      <td>2</td>\n",
       "    </tr>\n",
       "    <tr>\n",
       "      <th>Tableau</th>\n",
       "      <td>89</td>\n",
       "      <td>250</td>\n",
       "      <td>82</td>\n",
       "      <td>42</td>\n",
       "      <td>5</td>\n",
       "      <td>26</td>\n",
       "      <td>52</td>\n",
       "      <td>11</td>\n",
       "      <td>23</td>\n",
       "      <td>29</td>\n",
       "      <td>29</td>\n",
       "      <td>36</td>\n",
       "      <td>196</td>\n",
       "      <td>0</td>\n",
       "      <td>23</td>\n",
       "      <td>217</td>\n",
       "      <td>63</td>\n",
       "      <td>45</td>\n",
       "      <td>8</td>\n",
       "      <td>18</td>\n",
       "    </tr>\n",
       "    <tr>\n",
       "      <th>Microstrategy</th>\n",
       "      <td>9</td>\n",
       "      <td>23</td>\n",
       "      <td>12</td>\n",
       "      <td>10</td>\n",
       "      <td>0</td>\n",
       "      <td>0</td>\n",
       "      <td>6</td>\n",
       "      <td>14</td>\n",
       "      <td>2</td>\n",
       "      <td>3</td>\n",
       "      <td>3</td>\n",
       "      <td>6</td>\n",
       "      <td>17</td>\n",
       "      <td>23</td>\n",
       "      <td>0</td>\n",
       "      <td>34</td>\n",
       "      <td>9</td>\n",
       "      <td>6</td>\n",
       "      <td>0</td>\n",
       "      <td>2</td>\n",
       "    </tr>\n",
       "    <tr>\n",
       "      <th>Oracle BI</th>\n",
       "      <td>63</td>\n",
       "      <td>348</td>\n",
       "      <td>139</td>\n",
       "      <td>76</td>\n",
       "      <td>12</td>\n",
       "      <td>30</td>\n",
       "      <td>68</td>\n",
       "      <td>53</td>\n",
       "      <td>25</td>\n",
       "      <td>23</td>\n",
       "      <td>22</td>\n",
       "      <td>88</td>\n",
       "      <td>169</td>\n",
       "      <td>217</td>\n",
       "      <td>34</td>\n",
       "      <td>0</td>\n",
       "      <td>79</td>\n",
       "      <td>49</td>\n",
       "      <td>3</td>\n",
       "      <td>29</td>\n",
       "    </tr>\n",
       "    <tr>\n",
       "      <th>Python</th>\n",
       "      <td>33</td>\n",
       "      <td>189</td>\n",
       "      <td>97</td>\n",
       "      <td>53</td>\n",
       "      <td>12</td>\n",
       "      <td>29</td>\n",
       "      <td>39</td>\n",
       "      <td>2</td>\n",
       "      <td>23</td>\n",
       "      <td>85</td>\n",
       "      <td>97</td>\n",
       "      <td>15</td>\n",
       "      <td>21</td>\n",
       "      <td>63</td>\n",
       "      <td>9</td>\n",
       "      <td>79</td>\n",
       "      <td>0</td>\n",
       "      <td>46</td>\n",
       "      <td>58</td>\n",
       "      <td>47</td>\n",
       "    </tr>\n",
       "    <tr>\n",
       "      <th>VBA</th>\n",
       "      <td>20</td>\n",
       "      <td>145</td>\n",
       "      <td>47</td>\n",
       "      <td>29</td>\n",
       "      <td>0</td>\n",
       "      <td>1</td>\n",
       "      <td>21</td>\n",
       "      <td>5</td>\n",
       "      <td>1</td>\n",
       "      <td>6</td>\n",
       "      <td>6</td>\n",
       "      <td>3</td>\n",
       "      <td>23</td>\n",
       "      <td>45</td>\n",
       "      <td>6</td>\n",
       "      <td>49</td>\n",
       "      <td>46</td>\n",
       "      <td>0</td>\n",
       "      <td>0</td>\n",
       "      <td>0</td>\n",
       "    </tr>\n",
       "    <tr>\n",
       "      <th>Linux</th>\n",
       "      <td>0</td>\n",
       "      <td>50</td>\n",
       "      <td>14</td>\n",
       "      <td>26</td>\n",
       "      <td>20</td>\n",
       "      <td>27</td>\n",
       "      <td>18</td>\n",
       "      <td>1</td>\n",
       "      <td>25</td>\n",
       "      <td>49</td>\n",
       "      <td>37</td>\n",
       "      <td>2</td>\n",
       "      <td>2</td>\n",
       "      <td>8</td>\n",
       "      <td>0</td>\n",
       "      <td>3</td>\n",
       "      <td>58</td>\n",
       "      <td>0</td>\n",
       "      <td>0</td>\n",
       "      <td>13</td>\n",
       "    </tr>\n",
       "    <tr>\n",
       "      <th>AWS</th>\n",
       "      <td>3</td>\n",
       "      <td>24</td>\n",
       "      <td>14</td>\n",
       "      <td>5</td>\n",
       "      <td>0</td>\n",
       "      <td>0</td>\n",
       "      <td>6</td>\n",
       "      <td>0</td>\n",
       "      <td>11</td>\n",
       "      <td>19</td>\n",
       "      <td>17</td>\n",
       "      <td>11</td>\n",
       "      <td>2</td>\n",
       "      <td>18</td>\n",
       "      <td>2</td>\n",
       "      <td>29</td>\n",
       "      <td>47</td>\n",
       "      <td>0</td>\n",
       "      <td>13</td>\n",
       "      <td>0</td>\n",
       "    </tr>\n",
       "  </tbody>\n",
       "</table>\n",
       "</div>"
      ],
      "text/plain": [
       "               Power BI  Excel  SSIS/SSRS  MS SQL Server  PostgreSQL  \\\n",
       "Power BI              0    136         78             64           0   \n",
       "Excel               136      0        300            159          25   \n",
       "SSIS/SSRS            78    300          0            142          11   \n",
       "MS SQL Server        64    159        142              0          26   \n",
       "PostgreSQL            0     25         11             26           0   \n",
       "MySQL/MariaDB         5     64         28             33          35   \n",
       "T-SQL                28    111         91            117          24   \n",
       "PL/SQL                3     36         18              6           0   \n",
       "Pentaho               7     42         18             27          28   \n",
       "Hadoop               14     50         26             20           3   \n",
       "Spark                19     55         35             16           5   \n",
       "Informatica           5     79         43             32           0   \n",
       "Qlik                 89    237         43             25           6   \n",
       "Tableau              89    250         82             42           5   \n",
       "Microstrategy         9     23         12             10           0   \n",
       "Oracle BI            63    348        139             76          12   \n",
       "Python               33    189         97             53          12   \n",
       "VBA                  20    145         47             29           0   \n",
       "Linux                 0     50         14             26          20   \n",
       "AWS                   3     24         14              5           0   \n",
       "\n",
       "               MySQL/MariaDB  T-SQL  PL/SQL  Pentaho  Hadoop  Spark  \\\n",
       "Power BI                   5     28       3        7      14     19   \n",
       "Excel                     64    111      36       42      50     55   \n",
       "SSIS/SSRS                 28     91      18       18      26     35   \n",
       "MS SQL Server             33    117       6       27      20     16   \n",
       "PostgreSQL                35     24       0       28       3      5   \n",
       "MySQL/MariaDB              0     29       0       41       3     18   \n",
       "T-SQL                     29      0      17       26      14     14   \n",
       "PL/SQL                     0     17       0        6       3      0   \n",
       "Pentaho                   41     26       6        0       0      6   \n",
       "Hadoop                     3     14       3        0       0     77   \n",
       "Spark                     18     14       0        6      77      0   \n",
       "Informatica                1      9      12       20       4      4   \n",
       "Qlik                      10     38       8       16       8     14   \n",
       "Tableau                   26     52      11       23      29     29   \n",
       "Microstrategy              0      6      14        2       3      3   \n",
       "Oracle BI                 30     68      53       25      23     22   \n",
       "Python                    29     39       2       23      85     97   \n",
       "VBA                        1     21       5        1       6      6   \n",
       "Linux                     27     18       1       25      49     37   \n",
       "AWS                        0      6       0       11      19     17   \n",
       "\n",
       "               Informatica  Qlik  Tableau  Microstrategy  Oracle BI  Python  \\\n",
       "Power BI                 5    89       89              9         63      33   \n",
       "Excel                   79   237      250             23        348     189   \n",
       "SSIS/SSRS               43    43       82             12        139      97   \n",
       "MS SQL Server           32    25       42             10         76      53   \n",
       "PostgreSQL               0     6        5              0         12      12   \n",
       "MySQL/MariaDB            1    10       26              0         30      29   \n",
       "T-SQL                    9    38       52              6         68      39   \n",
       "PL/SQL                  12     8       11             14         53       2   \n",
       "Pentaho                 20    16       23              2         25      23   \n",
       "Hadoop                   4     8       29              3         23      85   \n",
       "Spark                    4    14       29              3         22      97   \n",
       "Informatica              0    65       36              6         88      15   \n",
       "Qlik                    65     0      196             17        169      21   \n",
       "Tableau                 36   196        0             23        217      63   \n",
       "Microstrategy            6    17       23              0         34       9   \n",
       "Oracle BI               88   169      217             34          0      79   \n",
       "Python                  15    21       63              9         79       0   \n",
       "VBA                      3    23       45              6         49      46   \n",
       "Linux                    2     2        8              0          3      58   \n",
       "AWS                     11     2       18              2         29      47   \n",
       "\n",
       "               VBA  Linux  AWS  \n",
       "Power BI        20      0    3  \n",
       "Excel          145     50   24  \n",
       "SSIS/SSRS       47     14   14  \n",
       "MS SQL Server   29     26    5  \n",
       "PostgreSQL       0     20    0  \n",
       "MySQL/MariaDB    1     27    0  \n",
       "T-SQL           21     18    6  \n",
       "PL/SQL           5      1    0  \n",
       "Pentaho          1     25   11  \n",
       "Hadoop           6     49   19  \n",
       "Spark            6     37   17  \n",
       "Informatica      3      2   11  \n",
       "Qlik            23      2    2  \n",
       "Tableau         45      8   18  \n",
       "Microstrategy    6      0    2  \n",
       "Oracle BI       49      3   29  \n",
       "Python          46     58   47  \n",
       "VBA              0      0    0  \n",
       "Linux            0      0   13  \n",
       "AWS              0     13    0  "
      ]
     },
     "execution_count": 9,
     "metadata": {},
     "output_type": "execute_result"
    }
   ],
   "source": [
    "tech_terms_df = pd.DataFrame(tech_terms_matrix, columns=tech_terms_labels, index=tech_terms_labels)\n",
    "tech_terms_df"
   ]
  },
  {
   "cell_type": "markdown",
   "metadata": {},
   "source": [
    "We can finally move to Plotly. \n",
    "\n",
    "A chord diagram encodes information in two graphical objects:\n",
    "\n",
    "- Ideograms, represented by distinctly colored arcs of circles;\n",
    "- Ribbons, that are planar shapes bounded by two quadratic Bezier curves and two arcs of circle,that can degenerate to a point;\n"
   ]
  },
  {
   "cell_type": "markdown",
   "metadata": {},
   "source": [
    "### Ideograms Preparation"
   ]
  },
  {
   "cell_type": "markdown",
   "metadata": {},
   "source": [
    "For each of our predefined tech terms we can produce a total hits count by summing up all the entries on the row (or column for that matter). That total count determines the size of each ideogram of the chart.\n",
    "\n",
    "We are going to need a couple of helper functions to process the data in order to get ideogram ends.\n"
   ]
  },
  {
   "cell_type": "code",
   "execution_count": 10,
   "metadata": {},
   "outputs": [],
   "source": [
    "PI = np.pi\n",
    "\n",
    "def moduloAB(x, a, b): #maps a real number onto the unit circle identified with \n",
    "                       #the interval [a,b), b-a=2*PI\n",
    "        if a>=b:\n",
    "            raise ValueError('Incorrect interval ends')\n",
    "        y=(x-a)%(b-a)\n",
    "        return y+b if y<0 else y+a\n",
    "\n",
    "def test_2PI(x):\n",
    "    return 0<= x <2*PI"
   ]
  },
  {
   "cell_type": "markdown",
   "metadata": {},
   "source": [
    "And now use them to compute the row sums and the lengths of corresponding ideograms."
   ]
  },
  {
   "cell_type": "code",
   "execution_count": 11,
   "metadata": {},
   "outputs": [],
   "source": [
    "row_sum=[np.sum(tech_terms_matrix[k,:]) for k in range(len(tech_terms_filters))]\n",
    "\n",
    "#set the gap between two consecutive ideograms\n",
    "gap=2*PI*0.005\n",
    "ideogram_length=2*PI*np.asarray(row_sum)/sum(row_sum)-gap*np.ones(len(tech_terms_filters))"
   ]
  },
  {
   "cell_type": "markdown",
   "metadata": {},
   "source": [
    "The next function returns the list of end angular coordinates for each ideogram arc:\n"
   ]
  },
  {
   "cell_type": "code",
   "execution_count": 12,
   "metadata": {},
   "outputs": [
    {
     "data": {
      "text/plain": [
       "[[0, 0.26069245079033426],\n",
       " [0.2921083773262322, 1.2810950982021194],\n",
       " [1.3125110247380174, 1.8248998668184735],\n",
       " [1.8563157933543715, 2.223748598566171],\n",
       " [2.2551645251020687, 2.316871870736338],\n",
       " [2.348287797272236, 2.483790943494185],\n",
       " [2.5152068700300827, 2.8035727460407966],\n",
       " [2.8349886725766944, 2.889228586008639],\n",
       " [2.920644512544537, 3.04165205507962],\n",
       " [3.0730679816155178, 3.23316972803336],\n",
       " [3.2645856545692578, 3.4413793082628845],\n",
       " [3.4727952347987823, 3.6324577204988406],\n",
       " [3.6638736470347384, 4.066886570387027],\n",
       " [4.0983024969229245, 4.613326903310083],\n",
       " [4.644742829845981, 4.691954571793385],\n",
       " [4.723370498329283, 5.362705687849259],\n",
       " [5.394121614385157, 5.800648623479716],\n",
       " [5.832064550015613, 5.99963372863578],\n",
       " [6.031049655171678, 6.154692762013465],\n",
       " [6.186108688549362, 6.251769380643686]]"
      ]
     },
     "execution_count": 12,
     "metadata": {},
     "output_type": "execute_result"
    }
   ],
   "source": [
    "def get_ideogram_ends(ideogram_len, gap):\n",
    "    ideo_ends=[]\n",
    "    left=0\n",
    "    for k in range(len(ideogram_len)):\n",
    "        right=left+ideogram_len[k]\n",
    "        ideo_ends.append([left, right])\n",
    "        left=right+gap\n",
    "    return ideo_ends\n",
    "\n",
    "ideo_ends=get_ideogram_ends(ideogram_length, gap)\n",
    "ideo_ends"
   ]
  },
  {
   "cell_type": "markdown",
   "metadata": {},
   "source": [
    "The function make_ideogram_arc returns equally spaced points on an ideogram arc, expressed as complex numbers in polar form:"
   ]
  },
  {
   "cell_type": "code",
   "execution_count": 13,
   "metadata": {},
   "outputs": [],
   "source": [
    "def make_ideogram_arc(R, phi, a=50):\n",
    "    # R is the circle radius\n",
    "    # phi is the list of ends angle coordinates of an arc\n",
    "    # a is a parameter that controls the number of points to be evaluated on an arc\n",
    "    if not test_2PI(phi[0]) or not test_2PI(phi[1]):\n",
    "        phi=[moduloAB(t, 0, 2*PI) for t in phi]\n",
    "    length=(phi[1]-phi[0])% 2*PI\n",
    "    nr=5 if length<=PI/4 else int(a*length/PI)\n",
    "\n",
    "    if phi[0] < phi[1]:\n",
    "        theta=np.linspace(phi[0], phi[1], nr)\n",
    "    else:\n",
    "        phi=[moduloAB(t, -PI, PI) for t in phi]\n",
    "        theta=np.linspace(phi[0], phi[1], nr)\n",
    "    return R*np.exp(1j*theta)"
   ]
  },
  {
   "cell_type": "code",
   "execution_count": 14,
   "metadata": {},
   "outputs": [
    {
     "data": {
      "text/plain": [
       "array([1.12583302-0.65j      , 1.14814501-0.60972373j,\n",
       "       1.16901672-0.5686826j , 1.18842197-0.5269281j ,\n",
       "       1.20633642-0.48451259j, 1.22273759-0.44148929j,\n",
       "       1.23760491-0.39791217j, 1.25091973-0.3538359j ,\n",
       "       1.26266534-0.30931575j, 1.27282702-0.26440759j,\n",
       "       1.28139202-0.21916775j, 1.28834958-0.17365297j,\n",
       "       1.29369099-0.12792036j, 1.29740954-0.08202728j,\n",
       "       1.29950058-0.0360313j , 1.29996146+0.01000988j,\n",
       "       1.29879163+0.0560385j , 1.29599253+0.10199682j,\n",
       "       1.2915677 +0.1478272j , 1.28552267+0.19347214j,\n",
       "       1.27786503+0.23887437j])"
      ]
     },
     "execution_count": 14,
     "metadata": {},
     "output_type": "execute_result"
    }
   ],
   "source": [
    "z = make_ideogram_arc(1.3, [11*PI/6, PI/17])\n",
    "z"
   ]
  },
  {
   "cell_type": "markdown",
   "metadata": {},
   "source": [
    "### Ribbons Preparation"
   ]
  },
  {
   "cell_type": "markdown",
   "metadata": {},
   "source": [
    "The function map_data maps all matrix entries to the corresponding values in the intervals associated to ideograms:"
   ]
  },
  {
   "cell_type": "code",
   "execution_count": 15,
   "metadata": {},
   "outputs": [
    {
     "data": {
      "text/plain": [
       "array([[0.        , 0.05331455, 0.03057746, 0.0250892 , 0.        ,\n",
       "        0.00196009, 0.01097652, 0.00117606, 0.00274413, 0.00548826,\n",
       "        0.00744836, 0.00196009, 0.03488967, 0.03488967, 0.00352817,\n",
       "        0.02469718, 0.01293662, 0.00784037, 0.        , 0.00117606],\n",
       "       [0.05790021, 0.        , 0.12772106, 0.06769216, 0.01064342,\n",
       "        0.02724716, 0.04725679, 0.01532653, 0.01788095, 0.02128684,\n",
       "        0.02341553, 0.03363321, 0.10089964, 0.10643421, 0.00979195,\n",
       "        0.14815643, 0.08046427, 0.06173184, 0.02128684, 0.01021768],\n",
       "       [0.03228298, 0.12416531, 0.        , 0.05877158, 0.00455273,\n",
       "        0.01158876, 0.03766348, 0.00744992, 0.00744992, 0.01076099,\n",
       "        0.01448595, 0.01779703, 0.01779703, 0.03393852, 0.00496661,\n",
       "        0.05752993, 0.04014678, 0.01945257, 0.00579438, 0.00579438],\n",
       "       [0.02589835, 0.06434121, 0.05746196, 0.        , 0.0105212 ,\n",
       "        0.01335384, 0.04734542, 0.00242797, 0.01092587, 0.00809323,\n",
       "        0.00647459, 0.01294917, 0.01011654, 0.01699579, 0.00404662,\n",
       "        0.03075429, 0.02144707, 0.01173519, 0.0105212 , 0.00202331],\n",
       "       [0.        , 0.00727681, 0.0032018 , 0.00756788, 0.        ,\n",
       "        0.01018753, 0.00698574, 0.        , 0.00815003, 0.00087322,\n",
       "        0.00145536, 0.        , 0.00174643, 0.00145536, 0.        ,\n",
       "        0.00349287, 0.00349287, 0.        , 0.00582145, 0.        ],\n",
       "       [0.00178294, 0.02282158, 0.00998444, 0.01176738, 0.01248055,\n",
       "        0.        , 0.01034103, 0.        , 0.01462008, 0.00106976,\n",
       "        0.00641857, 0.00035659, 0.00356587, 0.00927127, 0.        ,\n",
       "        0.01069762, 0.01034103, 0.00035659, 0.00962786, 0.        ],\n",
       "       [0.011091  , 0.04396787, 0.03604573, 0.04634452, 0.00950657,\n",
       "        0.0114871 , 0.        , 0.00673382, 0.01029878, 0.0055455 ,\n",
       "        0.0055455 , 0.00356496, 0.01505206, 0.02059756, 0.00237664,\n",
       "        0.02693527, 0.01544817, 0.00831825, 0.00712993, 0.00237664],\n",
       "       [0.00083446, 0.01001352, 0.00500676, 0.00166892, 0.        ,\n",
       "        0.        , 0.00472861, 0.        , 0.00166892, 0.00083446,\n",
       "        0.        , 0.00333784, 0.00222523, 0.00305969, 0.00389415,\n",
       "        0.01474213, 0.00055631, 0.00139077, 0.00027815, 0.        ],\n",
       "       [0.00244107, 0.01464645, 0.00627705, 0.00941557, 0.0097643 ,\n",
       "        0.01429772, 0.00906685, 0.00209235, 0.        , 0.        ,\n",
       "        0.00209235, 0.0069745 , 0.0055796 , 0.00802067, 0.00069745,\n",
       "        0.00871812, 0.00802067, 0.00034872, 0.00871812, 0.00383597],\n",
       "       [0.00514088, 0.01836029, 0.00954735, 0.00734412, 0.00110162,\n",
       "        0.00110162, 0.00514088, 0.00110162, 0.        , 0.        ,\n",
       "        0.02827485, 0.00146882, 0.00293765, 0.01064897, 0.00110162,\n",
       "        0.00844573, 0.0312125 , 0.00220324, 0.01799309, 0.00697691],\n",
       "       [0.00708667, 0.02051403, 0.01305438, 0.00596772, 0.00186491,\n",
       "        0.00671368, 0.00522175, 0.        , 0.00223789, 0.02871964,\n",
       "        0.        , 0.00149193, 0.00522175, 0.01081649, 0.00111895,\n",
       "        0.00820561, 0.03617929, 0.00223789, 0.01380035, 0.0063407 ],\n",
       "       [0.0018352 , 0.02899618, 0.01578273, 0.01174529, 0.        ,\n",
       "        0.00036704, 0.00330336, 0.00440448, 0.0073408 , 0.00146816,\n",
       "        0.00146816, 0.        , 0.02385761, 0.01321345, 0.00220224,\n",
       "        0.03229954, 0.0055056 , 0.00110112, 0.00073408, 0.00403744],\n",
       "       [0.03626709, 0.0965764 , 0.0175223 , 0.01018738, 0.00244497,\n",
       "        0.00407495, 0.01548482, 0.00325996, 0.00651993, 0.00325996,\n",
       "        0.00570494, 0.0264872 , 0.        , 0.07986909, 0.00692742,\n",
       "        0.06886672, 0.0085574 , 0.00937239, 0.00081499, 0.00081499],\n",
       "       [0.0368466 , 0.10350169, 0.03394855, 0.01738828, 0.00207003,\n",
       "        0.01076418, 0.02152835, 0.00455407, 0.00952216, 0.0120062 ,\n",
       "        0.0120062 , 0.01490424, 0.08114532, 0.        , 0.00952216,\n",
       "        0.08983947, 0.02608243, 0.0186303 , 0.00331205, 0.00745212],\n",
       "       [0.00237377, 0.00606631, 0.00316503, 0.00263753, 0.        ,\n",
       "        0.        , 0.00158252, 0.00369254, 0.00052751, 0.00079126,\n",
       "        0.00079126, 0.00158252, 0.0044838 , 0.00606631, 0.        ,\n",
       "        0.00896759, 0.00237377, 0.00158252, 0.        , 0.00052751],\n",
       "       [0.02637729, 0.14570311, 0.05819751, 0.03182022, 0.00502425,\n",
       "        0.01256061, 0.02847072, 0.02219042, 0.01046718, 0.0096298 ,\n",
       "        0.00921112, 0.03684446, 0.07075812, 0.0908551 , 0.01423536,\n",
       "        0.        , 0.03307628, 0.02051567, 0.00125606, 0.01214193],\n",
       "       [0.01345576, 0.0770648 , 0.03955178, 0.02161076, 0.004893  ,\n",
       "        0.01182476, 0.01590226, 0.0008155 , 0.00937826, 0.03465877,\n",
       "        0.03955178, 0.00611625, 0.00856276, 0.02568827, 0.00366975,\n",
       "        0.03221227, 0.        , 0.01875651, 0.02364952, 0.01916426],\n",
       "       [0.0073982 , 0.05363693, 0.01738576, 0.01072739, 0.        ,\n",
       "        0.00036991, 0.00776811, 0.00184955, 0.00036991, 0.00221946,\n",
       "        0.00221946, 0.00110973, 0.00850793, 0.01664594, 0.00221946,\n",
       "        0.01812558, 0.01701585, 0.        , 0.        , 0.        ],\n",
       "       [0.        , 0.01751319, 0.00490369, 0.00910686, 0.00700528,\n",
       "        0.00945712, 0.00630475, 0.00035026, 0.00875659, 0.01716292,\n",
       "        0.01295976, 0.00070053, 0.00070053, 0.00280211, 0.        ,\n",
       "        0.00105079, 0.0203153 , 0.        , 0.        , 0.00455343],\n",
       "       [0.00089132, 0.00713057, 0.0041595 , 0.00148554, 0.        ,\n",
       "        0.        , 0.00178264, 0.        , 0.00326818, 0.00564504,\n",
       "        0.00505082, 0.00326818, 0.00059421, 0.00534793, 0.00059421,\n",
       "        0.00861611, 0.01396404, 0.        , 0.00386239, 0.        ]])"
      ]
     },
     "execution_count": 15,
     "metadata": {},
     "output_type": "execute_result"
    }
   ],
   "source": [
    "def map_data(data_matrix, row_value, ideogram_length):\n",
    "    mapped=np.zeros(data_matrix.shape)\n",
    "    for j  in range(len(tech_terms_filters)):\n",
    "        mapped[:, j]=ideogram_length*data_matrix[:,j]/row_value\n",
    "    return mapped\n",
    "\n",
    "mapped_data=map_data(tech_terms_matrix, row_sum, ideogram_length)\n",
    "mapped_data\n"
   ]
  },
  {
   "cell_type": "markdown",
   "metadata": {},
   "source": [
    "The array idx_sort, defined below, has on each row the indices that sort the corresponding row in mapped_data:\n"
   ]
  },
  {
   "cell_type": "code",
   "execution_count": 16,
   "metadata": {},
   "outputs": [
    {
     "data": {
      "text/plain": [
       "array([[ 0, 18,  4,  7, 19,  5, 11,  8, 14,  9, 10, 17,  6, 16, 15,  3,\n",
       "         2, 12, 13,  1],\n",
       "       [ 1, 14, 19,  4,  7,  8, 18,  9, 10,  5, 11,  6,  0, 17,  3, 16,\n",
       "        12, 13,  2, 15],\n",
       "       [ 2,  4, 14, 19, 18,  8,  7,  9,  5, 10, 11, 12, 17,  0, 13,  6,\n",
       "        16, 15,  3,  1],\n",
       "       [ 3, 19,  7, 14, 10,  9, 12,  4, 18,  8, 17, 11,  5, 13, 16,  0,\n",
       "        15,  6,  2,  1],\n",
       "       [ 0, 17, 14, 11,  7, 19,  4,  9, 10, 13, 12,  2, 15, 16, 18,  6,\n",
       "         1,  3,  8,  5],\n",
       "       [19, 14,  7,  5, 17, 11,  9,  0, 12, 10, 13, 18,  2, 16,  6, 15,\n",
       "         3,  4,  8,  1],\n",
       "       [ 6, 19, 14, 11, 10,  9,  7, 18, 17,  4,  8,  0,  5, 12, 16, 13,\n",
       "        15,  2,  1,  3],\n",
       "       [19, 10,  4,  5,  7, 18, 16,  0,  9, 17,  8,  3, 12, 13, 11, 14,\n",
       "         6,  2,  1, 15],\n",
       "       [ 9,  8, 17, 14, 10,  7,  0, 19, 12,  2, 11, 13, 16, 18, 15,  6,\n",
       "         3,  4,  5,  1],\n",
       "       [ 9,  8, 14,  4,  5,  7, 11, 17, 12,  0,  6, 19,  3, 15,  2, 13,\n",
       "        18,  1, 10, 16],\n",
       "       [ 7, 10, 14, 11,  4, 17,  8,  6, 12,  3, 19,  5,  0, 15, 13,  2,\n",
       "        18,  1,  9, 16],\n",
       "       [11,  4,  5, 18, 17,  9, 10,  0, 14,  6, 19,  7, 16,  8,  3, 13,\n",
       "         2, 12,  1, 15],\n",
       "       [12, 19, 18,  4,  7,  9,  5, 10,  8, 14, 16, 17,  3,  6,  2, 11,\n",
       "         0, 15, 13,  1],\n",
       "       [13,  4, 18,  7, 19, 14,  8,  5, 10,  9, 11,  3, 17,  6, 16,  2,\n",
       "         0, 12, 15,  1],\n",
       "       [14, 18,  4,  5, 19,  8, 10,  9,  6, 11, 17, 16,  0,  3,  2,  7,\n",
       "        12, 13,  1, 15],\n",
       "       [15, 18,  4, 10,  9,  8, 19,  5, 14, 17,  7,  0,  6,  3, 16, 11,\n",
       "         2, 12, 13,  1],\n",
       "       [16,  7, 14,  4, 11, 12,  8,  5,  0,  6, 17, 19,  3, 18, 13, 15,\n",
       "         9,  2, 10,  1],\n",
       "       [19, 17,  4, 18,  5,  8, 11,  7, 14, 10,  9,  0,  6, 12,  3, 13,\n",
       "        16,  2, 15,  1],\n",
       "       [ 0, 17, 14, 18,  7, 12, 11, 15, 13, 19,  2,  6,  4,  8,  3,  5,\n",
       "        10,  9,  1, 16],\n",
       "       [19, 17,  4,  5,  7, 14, 12,  0,  3,  6,  8, 11, 18,  2, 10, 13,\n",
       "         9,  1, 15, 16]])"
      ]
     },
     "execution_count": 16,
     "metadata": {},
     "output_type": "execute_result"
    }
   ],
   "source": [
    "idx_sort=np.argsort(mapped_data, axis=1)\n",
    "idx_sort"
   ]
  },
  {
   "cell_type": "code",
   "execution_count": 17,
   "metadata": {},
   "outputs": [
    {
     "name": "stdout",
     "output_type": "stream",
     "text": [
      "ribbon ends starting from the ideogram[2]\n",
      " [(1.3125110247380174, 1.3125110247380174), (1.3125110247380174, 1.3170637527371167), (1.3170637527371167, 1.3220303650997707), (1.3220303650997707, 1.3278247461895336), (1.3278247461895336, 1.3336191272792965), (1.3336191272792965, 1.3410690458232772), (1.3410690458232772, 1.348518964367258), (1.348518964367258, 1.3592799578196746), (1.3592799578196746, 1.3708687199992002), (1.3708687199992002, 1.3853546727236072), (1.3853546727236072, 1.4031517003564502), (1.4031517003564502, 1.4209487279892932), (1.4209487279892932, 1.4404012930763541), (1.4404012930763541, 1.472684273433604), (1.472684273433604, 1.506622791245072), (1.506622791245072, 1.5442862683285306), (1.5442862683285306, 1.5844330515933158), (1.5844330515933158, 1.6419629781273897), (1.6419629781273897, 1.700734557752127), (1.700734557752127, 1.8248998668184733)]\n"
     ]
    }
   ],
   "source": [
    "def make_ribbon_ends(mapped_data, ideo_ends,  idx_sort):\n",
    "    L=mapped_data.shape[0]\n",
    "    ribbon_boundary=np.zeros((L,L+1))\n",
    "    for k in range(L):\n",
    "        start=ideo_ends[k][0]\n",
    "        ribbon_boundary[k][0]=start\n",
    "        for j in range(1,L+1):\n",
    "            J=idx_sort[k][j-1]\n",
    "            ribbon_boundary[k][j]=start+mapped_data[k][J]\n",
    "            start=ribbon_boundary[k][j]\n",
    "    return [[(ribbon_boundary[k][j],ribbon_boundary[k][j+1] ) for j in range(L)] for k in range(L)]\n",
    "\n",
    "ribbon_ends=make_ribbon_ends(mapped_data, ideo_ends,  idx_sort)\n",
    "print('ribbon ends starting from the ideogram[2]\\n', ribbon_ends[2])\n",
    "\n"
   ]
  },
  {
   "cell_type": "code",
   "execution_count": 18,
   "metadata": {},
   "outputs": [],
   "source": [
    "def control_pts(angle, radius):\n",
    "    #angle is a  3-list containing angular coordinates of the control points b0, b1, b2\n",
    "    #radius is the distance from b1 to the  origin O(0,0) \n",
    "\n",
    "    if len(angle)!=3:\n",
    "        raise InvalidInputError('angle must have len =3')\n",
    "    b_cplx=np.array([np.exp(1j*angle[k]) for k in range(3)])\n",
    "    b_cplx[1]=radius*b_cplx[1]\n",
    "    return zip(b_cplx.real, b_cplx.imag)"
   ]
  },
  {
   "cell_type": "code",
   "execution_count": 19,
   "metadata": {},
   "outputs": [],
   "source": [
    "def ctrl_rib_chords(l, r, radius):\n",
    "    # this function returns a 2-list containing control poligons of the two quadratic Bezier\n",
    "    #curves that are opposite sides in a ribbon\n",
    "    #l (r) the list of angular variables of the ribbon arc ends defining \n",
    "    #the ribbon starting (ending) arc \n",
    "    # radius is a common parameter for both control polygons\n",
    "    if len(l)!=2 or len(r)!=2:\n",
    "        raise ValueError('the arc ends must be elements in a list of len 2')\n",
    "    return [control_pts([l[j], (l[j]+r[j])/2, r[j]], radius) for j in range(2)]"
   ]
  },
  {
   "cell_type": "code",
   "execution_count": 20,
   "metadata": {},
   "outputs": [
    {
     "data": {
      "text/plain": [
       "'M 1,4 Q -0.5, 2.35 3.745, 1.47'"
      ]
     },
     "execution_count": 20,
     "metadata": {},
     "output_type": "execute_result"
    }
   ],
   "source": [
    "def make_q_bezier(b):# defines the Plotly SVG path for a quadratic Bezier curve defined by the list of its control points\n",
    "    if len(b)!=3:\n",
    "        raise valueError('control poligon must have 3 points')\n",
    "    A, B, C=b\n",
    "    return 'M '+str(A[0])+',' +str(A[1])+' '+'Q '+\\\n",
    "                str(B[0])+', '+str(B[1])+ ' '+\\\n",
    "                str(C[0])+', '+str(C[1])\n",
    "\n",
    "b=[(1,4), (-0.5, 2.35), (3.745, 1.47)]\n",
    "\n",
    "make_q_bezier(b)\n"
   ]
  },
  {
   "cell_type": "code",
   "execution_count": 21,
   "metadata": {},
   "outputs": [],
   "source": [
    "def make_ribbon_arc(theta0, theta1):\n",
    "    if test_2PI(theta0) and test_2PI(theta1):\n",
    "        if theta0 < theta1:\n",
    "            theta0= moduloAB(theta0, -PI, PI)\n",
    "            theta1= moduloAB(theta1, -PI, PI)\n",
    "            if theta0*theta1>0:\n",
    "                raise ValueError('incorrect angle coordinates for ribbon')\n",
    "\n",
    "        nr=int(40*(theta0-theta1)/PI)\n",
    "        if nr<=2: nr=3\n",
    "        theta=np.linspace(theta0, theta1, nr)\n",
    "        pts=np.exp(1j*theta)# points on arc in polar complex form\n",
    "\n",
    "        string_arc=''\n",
    "        for k in range(len(theta)):\n",
    "            string_arc+='L '+str(pts.real[k])+', '+str(pts.imag[k])+' '\n",
    "        return   string_arc\n",
    "    else:\n",
    "        raise ValueError('the angle coordinates for an arc side of a ribbon must be in [0, 2*pi]')"
   ]
  },
  {
   "cell_type": "code",
   "execution_count": 22,
   "metadata": {},
   "outputs": [],
   "source": [
    "def make_ideo_shape(path, line_color, fill_color):\n",
    "    #line_color is the color of the shape boundary\n",
    "    #fill_collor is the color assigned to an ideogram\n",
    "    return dict(\n",
    "        line=dict(color=line_color, width=0.45),\n",
    "        path=path,\n",
    "        type='path',\n",
    "        fillcolor=fill_color,\n",
    "        layer='below',)"
   ]
  },
  {
   "cell_type": "code",
   "execution_count": 23,
   "metadata": {},
   "outputs": [],
   "source": [
    "temp_colors = [*style['colorramp']['acc1'], *style['colorramp']['acc2']]\n",
    "len_datalist = len(tech_terms_filters)\n",
    "ideo_colors=temp_colors[:len_datalist]"
   ]
  },
  {
   "cell_type": "code",
   "execution_count": 24,
   "metadata": {},
   "outputs": [],
   "source": [
    "def make_ribbon(l, r, line_color, fill_color, radius=0.2):\n",
    "    #l=[l[0], l[1]], r=[r[0], r[1]]  represent the opposite arcs in the ribbon \n",
    "    #line_color is the color of the shape boundary\n",
    "    #fill_color is the fill color for the ribbon shape\n",
    "    poligon=ctrl_rib_chords(l,r, radius)\n",
    "    b,c =poligon\n",
    "\n",
    "    return  dict(\n",
    "                line=dict(\n",
    "                color=line_color, width=0.5\n",
    "            ),\n",
    "            path =  make_q_bezier(list(b))+make_ribbon_arc(r[0], r[1])+make_q_bezier(list(c)[::-1])+make_ribbon_arc(l[1], l[0]),\n",
    "            type='path',\n",
    "            fillcolor=fill_color,\n",
    "            layer='below'\n",
    "        )\n",
    "\n",
    "def make_self_rel(l, line_color, fill_color, radius):\n",
    "    #radius is the radius of Bezier control point b_1\n",
    "    b=control_pts([l[0], (l[0]+l[1])/2, l[1]], radius)\n",
    "    return  dict(\n",
    "                line=dict(\n",
    "                color=line_color, width=0.5\n",
    "            ),\n",
    "            path=  make_q_bezier(b)+make_ribbon_arc(l[1], l[0]),\n",
    "            type='path',\n",
    "            fillcolor=fill_color,\n",
    "            layer='below'\n",
    "        )\n",
    "\n",
    "def invPerm(perm):\n",
    "    # function that returns the inverse of a permutation, perm\n",
    "    inv = [0] * len(perm)\n",
    "    for i, s in enumerate(perm):\n",
    "        inv[s] = i\n",
    "    return inv\n",
    "\n"
   ]
  },
  {
   "cell_type": "code",
   "execution_count": 25,
   "metadata": {},
   "outputs": [],
   "source": [
    "radii_sribb=[0.4, 0.30, 0.35, 0.39, 0.12]# these value are set after a few trials "
   ]
  },
  {
   "cell_type": "code",
   "execution_count": 26,
   "metadata": {},
   "outputs": [],
   "source": [
    "shapes = []\n",
    "ribbon_info=[]\n",
    "\n",
    "for k in range(len(tech_terms_filters)):\n",
    "    sigma=idx_sort[k]\n",
    "    sigma_inv=invPerm(sigma)\n",
    "    for j in range(k, len(tech_terms_filters)):\n",
    "        if tech_terms_matrix[k][j]==0 and tech_terms_matrix[j][k]==0: continue\n",
    "        eta=idx_sort[j]\n",
    "        eta_inv=invPerm(eta)\n",
    "        l=ribbon_ends[k][sigma_inv[j]]\n",
    "\n",
    "        if j==k:\n",
    "            shapes.append(make_self_rel(l, style['colors']['acc1'], ideo_colors[k], radius=radii_sribb[k]))\n",
    "            z=0.9*np.exp(1j*(l[0]+l[1])/2)\n",
    "            #the text below will be displayed when hovering the mouse over the ribbon\n",
    "            text=tech_terms_labels[k]+' appears in '+ '{:d}'.format(tech_terms_matrix[k][k]),\n",
    "            ribbon_info.append(\n",
    "                go.Scatter(\n",
    "                    x=[z.real],\n",
    "                    y=[z.imag],\n",
    "                    mode='markers',\n",
    "                    marker=dict(size=0.5, color=ideo_colors[k]),\n",
    "                    text=text,\n",
    "                    hoverinfo='text',),)\n",
    "        else:\n",
    "            r=ribbon_ends[j][eta_inv[k]]\n",
    "            zi=0.9*np.exp(1j*(l[0]+l[1])/2)\n",
    "            zf=0.9*np.exp(1j*(r[0]+r[1])/2)\n",
    "            texti=tech_terms_labels[k]+' appears with '+tech_terms_labels[j]+' {:d}'.format(tech_terms_matrix[k][j])+' times'\n",
    "            textf=tech_terms_labels[j]+' appears with '+tech_terms_labels[k]+' {:d}'.format(tech_terms_matrix[j][k])+' times'\n",
    "           \n",
    "            ribbon_info.append(go.Scatter(x=[zi.real],\n",
    "                                       y=[zi.imag],\n",
    "                                       mode='markers',\n",
    "                                       marker=dict(size=0.5, color='green'),\n",
    "                                       text=texti,\n",
    "                                       hoverinfo='text'\n",
    "                                       )\n",
    "                              ),\n",
    "            ribbon_info.append(go.Scatter(x=[zf.real],\n",
    "                                       y=[zf.imag],\n",
    "                                       mode='markers',\n",
    "                                       marker=dict(size=0.5, color='blue'),\n",
    "                                       text=textf,\n",
    "                                       hoverinfo='text'\n",
    "                                       )\n",
    "                              )\n",
    "            r=(r[1], r[0])#IMPORTANT!!!  Reverse these arc ends because otherwise you get\n",
    "                          # a twisted ribbon\n",
    "            shapes.append(make_ribbon(l, r, 'rgb(175,175,175)' , ideo_colors[k]))"
   ]
  },
  {
   "cell_type": "code",
   "execution_count": 27,
   "metadata": {},
   "outputs": [
    {
     "name": "stderr",
     "output_type": "stream",
     "text": [
      "/data/WORKSPACE/jpynb_Employment_Trends_Bulgaria/ve-emptrends/lib/python3.7/site-packages/plotly/graph_objs/_deprecations.py:39: DeprecationWarning:\n",
      "\n",
      "plotly.graph_objs.Data is deprecated.\n",
      "Please replace it with a list or tuple of instances of the following types\n",
      "  - plotly.graph_objs.Scatter\n",
      "  - plotly.graph_objs.Bar\n",
      "  - plotly.graph_objs.Area\n",
      "  - plotly.graph_objs.Histogram\n",
      "  - etc.\n",
      "\n",
      "\n"
     ]
    }
   ],
   "source": [
    "ideograms=[]\n",
    "for k in range(len(ideo_ends)):\n",
    "    z= make_ideogram_arc(1.1, ideo_ends[k])\n",
    "    zi=make_ideogram_arc(1.0, ideo_ends[k])\n",
    "    m=len(z)\n",
    "    n=len(zi)\n",
    "    ideograms.append(\n",
    "        go.Scatter(\n",
    "            x=z.real,\n",
    "            y=z.imag,\n",
    "            mode='lines',\n",
    "            line=dict(color=ideo_colors[k], shape='spline', width=0.25),\n",
    "            text=tech_terms_labels[k]+'<br>'+'{:d}'.format(row_sum[k]),\n",
    "            hoverinfo='text',),)\n",
    "\n",
    "    path='M '\n",
    "    for s in range(m):\n",
    "        path+=str(z.real[s])+', '+str(z.imag[s])+' L '\n",
    "\n",
    "    Zi=np.array(zi.tolist()[::-1])\n",
    "\n",
    "    for s in range(m):\n",
    "        path+=str(Zi.real[s])+', '+str(Zi.imag[s])+' L '\n",
    "    path+=str(z.real[0])+' ,'+str(z.imag[0])\n",
    "\n",
    "    shapes.append(make_ideo_shape(path,'rgb(150,150,150)' , ideo_colors[k]))\n",
    "\n",
    "data = go.Data(ideograms+ribbon_info)"
   ]
  },
  {
   "cell_type": "code",
   "execution_count": 28,
   "metadata": {},
   "outputs": [],
   "source": [
    "layout = go.Layout(\n",
    "    paper_bgcolor=style['colors']['bg1'],            \n",
    "    plot_bgcolor=style['colors']['bg1'],\n",
    "    title = 'PoC Chord Diagram ‒ <br>Selected Techologies Commonly Occurring Together',\n",
    "    titlefont=style['chart_fonts']['title'],\n",
    "    font = style['chart_fonts']['text'],\n",
    "    height = 525,\n",
    "    margin = dict(\n",
    "        l = 260,\n",
    "        r = 260,\n",
    "        t = 80,\n",
    "        b = 10,\n",
    "    ),\n",
    "    showlegend=False,\n",
    "    xaxis=dict(\n",
    "        showline=False,\n",
    "        zeroline=False,\n",
    "        showgrid=False,\n",
    "        showticklabels=False,\n",
    "        title='',),\n",
    "    yaxis=dict(\n",
    "        showline=False,\n",
    "        zeroline=False,\n",
    "        showgrid=False,\n",
    "        showticklabels=False,\n",
    "        title='',),\n",
    "    shapes=shapes,\n",
    "    hovermode = 'closest',\n",
    "    hoverdistance = 40,\n",
    ")"
   ]
  },
  {
   "cell_type": "code",
   "execution_count": 29,
   "metadata": {},
   "outputs": [
    {
     "data": {
      "application/vnd.plotly.v1+json": {
       "config": {
        "linkText": "Export to plot.ly",
        "plotlyServerURL": "https://plot.ly",
        "showLink": true
       },
       "data": [
        {
         "hoverinfo": "text",
         "line": {
          "color": "#f2e6ce",
          "shape": "spline",
          "width": 0.25
         },
         "mode": "lines",
         "text": "Power BI<br>665",
         "type": "scatter",
         "uid": "90368a7c-3765-4268-8358-919f49cea07b",
         "x": [
          1.1,
          1.0997404386485046,
          1.0989618770887362,
          1.097664682747042,
          1.0958494678079973,
          1.093517088925498,
          1.0906686468184805,
          1.0873054857514592,
          1.0834291929001285,
          1.0790415976023269,
          1.0741447704947187,
          1.0687410225355987,
          1.062832903914282
         ],
         "y": [
          0,
          0.02389492835718731,
          0.04777857998728683,
          0.07163968348503356,
          0.09546697808629648,
          0.11924921898236798,
          0.14297518262672337,
          0.1666336720317462,
          0.1902135220529195,
          0.21370360465798954,
          0.23709283417861501,
          0.26037017254202355,
          0.2835246344802064
         ]
        },
        {
         "hoverinfo": "text",
         "line": {
          "color": "#ecd5bb",
          "shape": "spline",
          "width": 0.25
         },
         "mode": "lines",
         "text": "Excel<br>2323",
         "type": "scatter",
         "uid": "a5c73433-746a-4e94-86cb-f5a7b21c47b2",
         "x": [
          1.053402736048514,
          1.0466529341993787,
          1.0394588226680288,
          1.031823455392693,
          1.0237500736269878,
          1.0152421045639866,
          1.0063031598813597,
          0.9969370342081967,
          0.987147703514168,
          0.9769393234217035,
          0.9663162274419094,
          0.9552829251349702,
          0.9438441001958161,
          0.9320046084658704,
          0.9197694758717191,
          0.9071438962915781,
          0.8941332293504654,
          0.880742998145011,
          0.8669788868988741,
          0.8528467385497607,
          0.8383525522690642,
          0.8235024809151869,
          0.8083028284216183,
          0.7927600471208831,
          0.7768807350054915,
          0.7606716329270562,
          0.7441396217347664,
          0.7272917193544303,
          0.710135077809329,
          0.692676980184145,
          0.6749248375332537,
          0.656886185734693,
          0.6385686822911425,
          0.6199801030792732,
          0.6011283390488478,
          0.5820213928729697,
          0.5626673755509081,
          0.543074502964933,
          0.5232510923926331,
          0.5032055589761861,
          0.48294641215008605,
          0.4624822520288454,
          0.44182176575619886,
          0.4209737238173669,
          0.399946976315938,
          0.3787504492169522,
          0.35739314055778426,
          0.3358841166284263,
          0.3142325081228027
         ],
         "y": [
          0.3167691204734214,
          0.3384045438995038,
          0.35989631281467144,
          0.38123530384984466,
          0.4024124584909584,
          0.42341878692434926,
          0.44424537185297835,
          0.4648833722818714,
          0.4853240272711671,
          0.5055586596551823,
          0.5255786797259153,
          0.545375588879421,
          0.5649409832235138,
          0.5842665571452637,
          0.603344106836773,
          0.6221655337777355,
          0.640722848173302,
          0.6590081723457892,
          0.6770137440787959,
          0.6947319199123042,
          0.7121551783873696,
          0.7292761232390188,
          0.7460874865360041,
          0.7625821317660777,
          0.7787530568654788,
          0.7945933971913473,
          0.8100964284357999,
          0.8252555694804349,
          0.840064385190051,
          0.8545165891443968,
          0.8686060463067887,
          0.8823267756284666,
          0.8956729525875805,
          0.9086389116617305,
          0.9212191487330111,
          0.9334083234245387,
          0.9452012613674685,
          0.9565929563975428,
          0.9675785726802327,
          0.9781534467635762,
          0.9883130895578383,
          0.9980531882411517,
          1.007369608090335,
          1.0162583942361014,
          1.0247157733419245,
          1.0327381552058377,
          1.0403221342844937,
          1.0474644911388367,
          1.0541621938007704
         ]
        },
        {
         "hoverinfo": "text",
         "line": {
          "color": "#e6c4a9",
          "shape": "spline",
          "width": 0.25
         },
         "mode": "lines",
         "text": "SSIS/SSRS<br>1238",
         "type": "scatter",
         "uid": "b38ce877-2535-46f7-8ae5-614b32d6e0a7",
         "x": [
          0.28096541865017205,
          0.258197620145226,
          0.23531213895131134,
          0.21231940593515605,
          0.18922990084729605,
          0.1660541475455584,
          0.1428027091984415,
          0.1194861834705767,
          0.09611519769247055,
          0.07270040401672033,
          0.04925247456292155,
          0.025782096553471228,
          0.002299967442488847,
          -0.021183209959926348,
          -0.04465673236587927,
          -0.0681099008880806,
          -0.09153202591624279,
          -0.11491243198924762,
          -0.1382404626608649,
          -0.16150548535680398,
          -0.1846968962208867,
          -0.20780412494812656,
          -0.23081663960252227,
          -0.2537239514173571,
          -0.2765156195758261
         ],
         "y": [
          1.063512310000563,
          1.0692679687297013,
          1.0745362707987847,
          1.0793148149929854,
          1.0836014233219347,
          1.087394142012416,
          1.0906912423988677,
          1.0934912217112838,
          1.0957928037601532,
          1.0975949395181293,
          1.0988968075981607,
          1.0996978146278675,
          1.0999975955199919,
          1.0997960136387992,
          1.0990931608623549,
          1.0978893575406476,
          1.0961851523495783,
          1.0939813220408825,
          1.0912788710880965,
          1.0880790312287354,
          1.0843832609028836,
          1.0801932445884597,
          1.0755108920334557,
          1.0703383373855029,
          1.064677938219158
         ]
        },
        {
         "hoverinfo": "text",
         "line": {
          "color": "#e1b396",
          "shape": "spline",
          "width": 0.25
         },
         "mode": "lines",
         "text": "MS SQL Server<br>908",
         "type": "scatter",
         "uid": "fb27591f-51a2-4ae0-a11d-0eef4506806b",
         "x": [
          -0.3098215180228335,
          -0.33255991950131153,
          -0.35514297106702863,
          -0.3775601234177847,
          -0.3998009047484767,
          -0.42185492564283134,
          -0.4437118839266506,
          -0.46536156948030366,
          -0.48679386900821664,
          -0.5079987707631315,
          -0.528966369222932,
          -0.5496868697178448,
          -0.5701505930058572,
          -0.59034797979422,
          -0.6102695952049099,
          -0.6299061331819817,
          -0.6492484208387388,
          -0.6682874227426946
         ],
         "y": [
          1.055467018418874,
          1.048524630107124,
          1.0410924407091255,
          1.033173922050275,
          1.0247727731367084,
          1.0158929184273713,
          1.0065385060007703,
          0.9967139056172682,
          0.9864237066778209,
          0.9756727160801144,
          0.9644659559731017,
          0.9528086614109873,
          0.9407062779077588,
          0.9281644588934029,
          0.9151890630730001,
          0.9017861516899246,
          0.8879619856944351,
          0.8737230228189751
         ]
        },
        {
         "hoverinfo": "text",
         "line": {
          "color": "#dba284",
          "shape": "spline",
          "width": 0.25
         },
         "mode": "lines",
         "text": "PostgreSQL<br>212",
         "type": "scatter",
         "uid": "643ae787-f22b-43f3-a3b7-53ac682b2809",
         "x": [
          -0.6954019666120109,
          -0.7084669983714597,
          -0.7213634273396952,
          -0.7340881843915146,
          -0.7466382412566361
         ],
         "y": [
          0.8523004780194294,
          0.8414716348270657,
          0.8304425360593763,
          0.8192158064495398,
          0.8077941177634296
         ]
        },
        {
         "hoverinfo": "text",
         "line": {
          "color": "#d59171",
          "shape": "spline",
          "width": 0.25
         },
         "mode": "lines",
         "text": "MySQL/MariaDB<br>380",
         "type": "scatter",
         "uid": "09073320-62b7-4d40-9dab-36f0cb0aa101",
         "x": [
          -0.7716432467737357,
          -0.7977521405368404,
          -0.8229456462860459,
          -0.847194855502003,
          -0.8704719432070845
         ],
         "y": [
          0.7839430462147666,
          0.7573582522616952,
          0.7299044206324841,
          0.7016130534781551,
          0.6725166139875522
         ]
        },
        {
         "hoverinfo": "text",
         "line": {
          "color": "#d0805f",
          "shape": "spline",
          "width": 0.25
         },
         "mode": "lines",
         "text": "T-SQL<br>728",
         "type": "scatter",
         "uid": "a7f26ccc-00e3-40c7-a198-e6516b91a943",
         "x": [
          -0.8911666751877889,
          -0.9052501580813975,
          -0.918888239316187,
          -0.9320742086762565,
          -0.944801578394027,
          -0.9570640863423576,
          -0.9688556991156388,
          -0.9801706149983536,
          -0.9910032668196386,
          -1.0013483246924482,
          -1.0112006986359683,
          -1.0205555410799896,
          -1.0294082492500136,
          -1.0377544674319115
         ],
         "y": [
          0.6448425831431591,
          0.6249177156183083,
          0.6046853757503964,
          0.5841555182659244,
          0.5633382442761679,
          0.5422437963072224,
          0.5208825532604704,
          0.49926502530594863,
          0.47740184871112984,
          0.455303780607659,
          0.43298169369862505,
          0.41044657090896725,
          0.38770949998165105,
          0.3647816680222708
         ]
        },
        {
         "hoverinfo": "text",
         "line": {
          "color": "#ca6f4c",
          "shape": "spline",
          "width": 0.25
         },
         "mode": "lines",
         "text": "PL/SQL<br>195",
         "type": "scatter",
         "uid": "c79553f9-5a56-490e-8725-22942dc474a9",
         "x": [
          -1.0487004673374065,
          -1.053105897807651,
          -1.05731769349043,
          -1.0613350799620467,
          -1.065157318544865
         ],
         "y": [
          0.33200501473065913,
          0.31775457196198037,
          0.30344570359798706,
          0.2890810406131058,
          0.2746632242407294
         ]
        },
        {
         "hoverinfo": "text",
         "line": {
          "color": "#c45e3a",
          "shape": "spline",
          "width": 0.25
         },
         "mode": "lines",
         "text": "Pentaho<br>347",
         "type": "scatter",
         "uid": "7a536112-351c-4137-af05-3b850e075a3e",
         "x": [
          -1.0732591080714113,
          -1.0800597533840273,
          -1.0858720286818018,
          -1.0906906151121396,
          -1.0945111031538763
         ],
         "y": [
          0.2410702946066954,
          0.20849683239808378,
          0.17573257332227427,
          0.1428075001752447,
          0.10975174291502149
         ]
        },
        {
         "hoverinfo": "text",
         "line": {
          "color": "#bf4d28",
          "shape": "spline",
          "width": 0.25
         },
         "mode": "lines",
         "text": "Hadoop<br>436",
         "type": "scatter",
         "uid": "bb0f90b1-6a8e-4c40-802c-42e90c908c55",
         "x": [
          -1.0974184135505418,
          -1.0995533167053158,
          -1.0999269314857592,
          -1.098538659427605,
          -1.095390724295176
         ],
         "y": [
          0.07531816248563454,
          0.03134491541445948,
          -0.012678540622733962,
          -0.05668168789830299,
          -0.10059404121562009
         ]
        },
        {
         "hoverinfo": "text",
         "line": {
          "color": "#af4624",
          "shape": "spline",
          "width": 0.25
         },
         "mode": "lines",
         "text": "Spark<br>474",
         "type": "scatter",
         "uid": "c46c4355-7b4e-40a0-80b6-d9c372e6dec2",
         "x": [
          -1.0916904799034797,
          -1.084661646392011,
          -1.0755142715409267,
          -1.0642662218359054,
          -1.0509394667624261
         ],
         "y": [
          -0.13495145826596508,
          -0.1830549448831488,
          -0.23080089192156525,
          -0.27809604286851586,
          -0.32484802169800514
         ]
        },
        {
         "hoverinfo": "text",
         "line": {
          "color": "#9f4021",
          "shape": "spline",
          "width": 0.25
         },
         "mode": "lines",
         "text": "Informatica<br>435",
         "type": "scatter",
         "uid": "30388b68-880f-474e-9484-7420a8788f0e",
         "x": [
          -1.040217168629746,
          -1.0251146438295915,
          -1.0083790649579374,
          -0.9900370925501486,
          -0.9701179461992725
         ],
         "y": [
          -0.35769853520515665,
          -0.3989235102198537,
          -0.4395129820091278,
          -0.4794022897054716,
          -0.5185278878344979
         ]
        },
        {
         "hoverinfo": "text",
         "line": {
          "color": "#8f391e",
          "shape": "spline",
          "width": 0.25
         },
         "mode": "lines",
         "text": "Qlik<br>989",
         "type": "scatter",
         "uid": "5b1340fc-8560-4b73-9c20-794000997bed",
         "x": [
          -0.9533518969946426,
          -0.9414987881911492,
          -0.9292221005775135,
          -0.9165273574160032,
          -0.9034202700514132,
          -0.8899067353415411,
          -0.8759928330041995,
          -0.861684822881961,
          -0.8469891421258652,
          -0.8319124022993544,
          -0.8164613864037411,
          -0.8006430458265485,
          -0.7844644972140896,
          -0.7679330192697011,
          -0.7510560494790661,
          -0.7338411807641003,
          -0.7162961580669093,
          -0.698428874865351,
          -0.6802473696217738,
          -0.6617598221665212
         ],
         "y": [
          -0.5487441667086006,
          -0.568840954779627,
          -0.5886818222081548,
          -0.6082578426194255,
          -0.6275602087929347,
          -0.6465802366247831,
          -0.6653093690346445,
          -0.6837391798155811,
          -0.7018613774249806,
          -0.7196678087149079,
          -0.7371504626001948,
          -0.7543014736626116,
          -0.7711131256895097,
          -0.7875778551453316,
          -0.803688254574433,
          -0.8194370759336871,
          -0.8348172338533659,
          -0.8498218088248384,
          -0.8644440503136441,
          -0.8786773797965521
         ]
        },
        {
         "hoverinfo": "text",
         "line": {
          "color": "#f0f3e7",
          "shape": "spline",
          "width": 0.25
         },
         "mode": "lines",
         "text": "Tableau<br>1244",
         "type": "scatter",
         "uid": "a4dc365f-b004-4b65-8074-8997be492916",
         "x": [
          -0.6338333601577075,
          -0.6143963015191937,
          -0.5946763219594858,
          -0.5746825022539234,
          -0.5544240492774082,
          -0.5339102917647722,
          -0.5131506760150221,
          -0.49215476154145044,
          -0.4709322166696147,
          -0.449492814085207,
          -0.4278464263338704,
          -0.40600302127502513,
          -0.38397265749181475,
          -0.36176547965926475,
          -0.3393917138728024,
          -0.3168616629392835,
          -0.2941857016326898,
          -0.27137427191669616,
          -0.24843787813628807,
          -0.22538708218065853,
          -0.2022324986196054,
          -0.1789847898156702,
          -0.15565466101426992,
          -0.13225285541407703,
          -0.1087901492199324
         ],
         "y": [
          -0.8990301838932828,
          -0.9124237966425122,
          -0.925397250968868,
          -0.9379445727777146,
          -0.9500599842024936,
          -0.9617379062653484,
          -0.972972961446168,
          -0.9837599761588587,
          -0.9940939831337091,
          -1.003970223704748,
          -1.013384150001043,
          -1.0223314270409336,
          -1.0308079347282275,
          -1.0388097697494485,
          -1.0463332473712579,
          -1.0533749031372222,
          -1.059931494463148,
          -1.0660000021302454,
          -1.0715776316754373,
          -1.0766618146781697,
          -1.081250209943134,
          -1.0853407045783552,
          -1.088931414968148,
          -1.0920206876404968,
          -1.0946071000284554
         ]
        },
        {
         "hoverinfo": "text",
         "line": {
          "color": "#e2ecde",
          "shape": "spline",
          "width": 0.25
         },
         "mode": "lines",
         "text": "Microstrategy<br>179",
         "type": "scatter",
         "uid": "8a5a28d3-55fa-4d26-88a6-e24c339383e8",
         "x": [
          -0.074354027944287,
          -0.06139561493438028,
          -0.04842864904447896,
          -0.03545493667237332,
          -0.022476285155690348
         ],
         "y": [
          -1.0974841586685706,
          -1.098285290107643,
          -1.0989334219832096,
          -1.0994284640055296,
          -1.0997703472114533
         ]
        },
        {
         "hoverinfo": "text",
         "line": {
          "color": "#d4e5d6",
          "shape": "spline",
          "width": 0.25
         },
         "mode": "lines",
         "text": "Oracle BI<br>1527",
         "type": "scatter",
         "uid": "bf61c294-c4fc-49c5-9649-972301646406",
         "x": [
          0.01207942695176485,
          0.0355157865208012,
          0.05893601663426789,
          0.08232948102029576,
          0.10568555556264445,
          0.1289936331256272,
          0.1522431283713339,
          0.17542348256694867,
          0.19852416837999087,
          0.22153469465928557,
          0.24444461119951238,
          0.26724351348715286,
          0.28992104742569275,
          0.31246691403791765,
          0.33487087414318645,
          0.3571227530075417,
          0.37921244496455797,
          0.4011299180048134,
          0.42286521833191953,
          0.44440847488302615,
          0.465749903811753,
          0.48687981293151605,
          0.5077886061172183,
          0.5284667876633232,
          0.5489049665963168,
          0.569093860939612,
          0.5890243019289423,
          0.6086872381763502,
          0.6280737397808637,
          0.6471750023840005,
          0.6659823511682608
         ],
         "y": [
          -1.0999336741115426,
          -1.099426500002528,
          -1.098420022552068,
          -1.0969146988507943,
          -1.0949112125398184,
          -1.0924104735002549,
          -1.0894136174400015,
          -1.085922005377957,
          -1.0819372230259172,
          -1.0774610800684252,
          -1.072495609340905,
          -1.0670430659064525,
          -1.0611059260316988,
          -1.0546868860622192,
          -1.0477888611979889,
          -1.0404149841694488,
          -1.032568603814779,
          -1.0242532835590286,
          -1.0154727997957889,
          -1.0062311401721489,
          -0.9965325017777107,
          -0.9863812892384831,
          -0.9757821127165288,
          -0.9647397858162626,
          -0.9532593233983586,
          -0.9413459393022555,
          -0.9290050439782996,
          -0.9162422420305928,
          -0.9030633296716682,
          -0.8894742920901476,
          -0.8754813007325716
         ]
        },
        {
         "hoverinfo": "text",
         "line": {
          "color": "#c6decd",
          "shape": "spline",
          "width": 0.25
         },
         "mode": "lines",
         "text": "Python<br>997",
         "type": "scatter",
         "uid": "c5302286-d64f-40e5-9341-717a315a39b9",
         "x": [
          0.6931532612951881,
          0.7112683187556563,
          0.72905777313618,
          0.746513480813624,
          0.7636274509467927,
          0.7803918491344634,
          0.796799001001807,
          0.8128413957135433,
          0.8285116894122432,
          0.8438027085801808,
          0.8587074533232154,
          0.8732191005751913,
          0.887331007221385,
          0.9010367131395796,
          0.9143299441573686,
          0.9272046149243316,
          0.939654831697779,
          0.9516748950407736,
          0.9632593024312118,
          0.9744027507807574
         ],
         "y": [
          -0.8541302923768977,
          -0.8391051058922847,
          -0.8236957954425375,
          -0.8079094150729567,
          -0.7917531914432072,
          -0.7752345205191091,
          -0.758360964186925,
          -0.7411402467916981,
          -0.7235802516012104,
          -0.7056890171972006,
          -0.6874747337954742,
          -0.6689457394966009,
          -0.6501105164689174,
          -0.6309776870655754,
          -0.6115560098774139,
          -0.5918543757234731,
          -0.5718818035809664,
          -0.5516474364565946,
          -0.5311605372010757,
          -0.5104304842688115
         ]
        },
        {
         "hoverinfo": "text",
         "line": {
          "color": "#b8d7c5",
          "shape": "spline",
          "width": 0.25
         },
         "mode": "lines",
         "text": "VBA<br>453",
         "type": "scatter",
         "uid": "202a1f99-14f3-4fef-b20a-f593d0266d47",
         "x": [
          0.9899549508112818,
          1.009170901045598,
          1.0266160513210034,
          1.0422597904978392,
          1.0560746683863875
         ],
         "y": [
          -0.47957188758749475,
          -0.43769177794746855,
          -0.39504364717088053,
          -0.35170233026154485,
          -0.30774387856232294
         ]
        },
        {
         "hoverinfo": "text",
         "line": {
          "color": "#aad0bc",
          "shape": "spline",
          "width": 0.25
         },
         "mode": "lines",
         "text": "Linux<br>353",
         "type": "scatter",
         "uid": "0614dc1d-4445-4c5a-91b0-491840144d8a",
         "x": [
          1.0652200281155486,
          1.073192354568474,
          1.080139353001434,
          1.0860543862518381,
          1.0909318030966744
         ],
         "y": [
          -0.27441991855823794,
          -0.2413672929287951,
          -0.2080840649776999,
          -0.17460203350231404,
          -0.1409531872368947
         ]
        },
        {
         "hoverinfo": "text",
         "line": {
          "color": "#9cc9b4",
          "shape": "spline",
          "width": 0.25
         },
         "mode": "lines",
         "text": "AWS<br>221",
         "type": "scatter",
         "uid": "2f29f3ff-5dbb-47b1-8517-d35a666eafa2",
         "x": [
          1.0948209407123348,
          1.0964234919305225,
          1.097730609805143,
          1.0987419421308606,
          1.0994572164023046
         ],
         "y": [
          -0.10661663930999804,
          -0.08863140720354155,
          -0.07062229320001895,
          -0.05259414988860109,
          -0.03455183498594413
         ]
        },
        {
         "hoverinfo": "text",
         "marker": {
          "color": "green",
          "size": 0.5
         },
         "mode": "markers",
         "text": "Power BI appears with Excel 136 times",
         "type": "scatter",
         "uid": "114a6615-88fb-44ed-98ce-3a7988efe0b1",
         "x": [
          0.8754646866943823
         ],
         "y": [
          0.2087141163196851
         ]
        },
        {
         "hoverinfo": "text",
         "marker": {
          "color": "blue",
          "size": 0.5
         },
         "mode": "markers",
         "text": "Excel appears with Power BI 136 times",
         "type": "scatter",
         "uid": "8d5f95bb-ce39-45da-b60b-f029d3843c81",
         "x": [
          0.7629856218202414
         ],
         "y": [
          0.47733943991208144
         ]
        },
        {
         "hoverinfo": "text",
         "marker": {
          "color": "green",
          "size": 0.5
         },
         "mode": "markers",
         "text": "Power BI appears with SSIS/SSRS 78 times",
         "type": "scatter",
         "uid": "451bf789-1c4b-4b6f-9074-a8080eea8876",
         "x": [
          0.8932765242310925
         ],
         "y": [
          0.10980460490170052
         ]
        },
        {
         "hoverinfo": "text",
         "marker": {
          "color": "blue",
          "size": 0.5
         },
         "mode": "markers",
         "text": "SSIS/SSRS appears with Power BI 78 times",
         "type": "scatter",
         "uid": "99b1139a-0ed4-428a-8351-1f5c74a087a4",
         "x": [
          0.10260461748608549
         ],
         "y": [
          0.8941321448592116
         ]
        },
        {
         "hoverinfo": "text",
         "marker": {
          "color": "green",
          "size": 0.5
         },
         "mode": "markers",
         "text": "Power BI appears with MS SQL Server 64 times",
         "type": "scatter",
         "uid": "cd9f1fc0-50ab-4894-9b59-f269566add31",
         "x": [
          0.895986371625934
         ],
         "y": [
          0.08490242552833005
         ]
        },
        {
         "hoverinfo": "text",
         "marker": {
          "color": "blue",
          "size": 0.5
         },
         "mode": "markers",
         "text": "MS SQL Server appears with Power BI 64 times",
         "type": "scatter",
         "uid": "0cd3c1b6-1b38-465e-8ccb-2fcad55c95e5",
         "x": [
          -0.383427130120474
         ],
         "y": [
          0.8142380707677437
         ]
        },
        {
         "hoverinfo": "text",
         "marker": {
          "color": "green",
          "size": 0.5
         },
         "mode": "markers",
         "text": "Power BI appears with MySQL/MariaDB 5 times",
         "type": "scatter",
         "uid": "b3621904-1f8b-4c3f-aff5-67c35ddb09a4",
         "x": [
          0.8999950035265665
         ],
         "y": [
          0.002998937681212723
         ]
        },
        {
         "hoverinfo": "text",
         "marker": {
          "color": "blue",
          "size": 0.5
         },
         "mode": "markers",
         "text": "MySQL/MariaDB appears with Power BI 5 times",
         "type": "scatter",
         "uid": "91213b6c-a27d-4e4c-aa26-fb1f168d7ff9",
         "x": [
          -0.6330575988717192
         ],
         "y": [
          0.639717184786194
         ]
        },
        {
         "hoverinfo": "text",
         "marker": {
          "color": "green",
          "size": 0.5
         },
         "mode": "markers",
         "text": "Power BI appears with T-SQL 28 times",
         "type": "scatter",
         "uid": "1fc5141a-c892-44cf-a0db-552a11fe869b",
         "x": [
          0.8993222929396287
         ],
         "y": [
          0.034920100541215825
         ]
        },
        {
         "hoverinfo": "text",
         "marker": {
          "color": "blue",
          "size": 0.5
         },
         "mode": "markers",
         "text": "T-SQL appears with Power BI 28 times",
         "type": "scatter",
         "uid": "b7c0c358-4151-415e-8d01-e189825ce9ee",
         "x": [
          -0.7627954284183905
         ],
         "y": [
          0.47764331292712997
         ]
        },
        {
         "hoverinfo": "text",
         "marker": {
          "color": "green",
          "size": 0.5
         },
         "mode": "markers",
         "text": "Power BI appears with PL/SQL 3 times",
         "type": "scatter",
         "uid": "8cafe5a5-26eb-499e-b73d-23e71b7ed482",
         "x": [
          0.8999998444003419
         ],
         "y": [
          0.0005292252455415382
         ]
        },
        {
         "hoverinfo": "text",
         "marker": {
          "color": "blue",
          "size": 0.5
         },
         "mode": "markers",
         "text": "PL/SQL appears with Power BI 3 times",
         "type": "scatter",
         "uid": "7d8cb944-7c55-4e8b-abda-d39a5f9bb7e0",
         "x": [
          -0.8583669925971342
         ],
         "y": [
          0.27056626918326576
         ]
        },
        {
         "hoverinfo": "text",
         "marker": {
          "color": "green",
          "size": 0.5
         },
         "mode": "markers",
         "text": "Power BI appears with Pentaho 7 times",
         "type": "scatter",
         "uid": "f1a40d06-5c57-4edf-ac47-e95a3c20fdf4",
         "x": [
          0.8999737037850641
         ],
         "y": [
          0.0068798615824404545
         ]
        },
        {
         "hoverinfo": "text",
         "marker": {
          "color": "blue",
          "size": 0.5
         },
         "mode": "markers",
         "text": "Pentaho appears with Power BI 7 times",
         "type": "scatter",
         "uid": "86a82376-f702-47af-8f32-fee424f3fe3d",
         "x": [
          -0.8793752776012584
         ],
         "y": [
          0.19157014679670098
         ]
        },
        {
         "hoverinfo": "text",
         "marker": {
          "color": "green",
          "size": 0.5
         },
         "mode": "markers",
         "text": "Power BI appears with Hadoop 14 times",
         "type": "scatter",
         "uid": "3909a38d-07ba-4cac-8ca8-e7fd6a06c5b7",
         "x": [
          0.8998948166769032
         ],
         "y": [
          0.01375932113306113
         ]
        },
        {
         "hoverinfo": "text",
         "marker": {
          "color": "blue",
          "size": 0.5
         },
         "mode": "markers",
         "text": "Hadoop appears with Power BI 14 times",
         "type": "scatter",
         "uid": "065bff80-49b4-43be-b42b-00a0abe426f3",
         "x": [
          -0.8986421560780855
         ],
         "y": [
          0.04941938202092223
         ]
        },
        {
         "hoverinfo": "text",
         "marker": {
          "color": "green",
          "size": 0.5
         },
         "mode": "markers",
         "text": "Power BI appears with Spark 19 times",
         "type": "scatter",
         "uid": "5d6afb87-e6a2-4e14-a144-1a620b7c3ac8",
         "x": [
          0.8997869924646007
         ],
         "y": [
          0.01957979038469644
         ]
        },
        {
         "hoverinfo": "text",
         "marker": {
          "color": "blue",
          "size": 0.5
         },
         "mode": "markers",
         "text": "Spark appears with Power BI 19 times",
         "type": "scatter",
         "uid": "b3839683-44eb-4970-9909-2b7e486db715",
         "x": [
          -0.8877833898485165
         ],
         "y": [
          -0.1477858339255727
         ]
        },
        {
         "hoverinfo": "text",
         "marker": {
          "color": "green",
          "size": 0.5
         },
         "mode": "markers",
         "text": "Power BI appears with Informatica 5 times",
         "type": "scatter",
         "uid": "3e4b4742-b8be-486b-a9e2-e8a7788148d9",
         "x": [
          0.8999873964567406
         ],
         "y": [
          0.004763005250631794
         ]
        },
        {
         "hoverinfo": "text",
         "marker": {
          "color": "blue",
          "size": 0.5
         },
         "mode": "markers",
         "text": "Informatica appears with Power BI 5 times",
         "type": "scatter",
         "uid": "92f43b86-9c86-4be2-93a4-666ed4cb5ec6",
         "x": [
          -0.8492987660113304
         ],
         "y": [
          -0.297811359843159
         ]
        },
        {
         "hoverinfo": "text",
         "marker": {
          "color": "green",
          "size": 0.5
         },
         "mode": "markers",
         "text": "Power BI appears with Qlik 89 times",
         "type": "scatter",
         "uid": "ccb0a1f6-9235-4552-a5f4-8cf006a422a6",
         "x": [
          0.8892043460856166
         ],
         "y": [
          0.13898068535753796
         ]
        },
        {
         "hoverinfo": "text",
         "marker": {
          "color": "blue",
          "size": 0.5
         },
         "mode": "markers",
         "text": "Qlik appears with Power BI 89 times",
         "type": "scatter",
         "uid": "42166918-1507-4dab-aaa4-83db42955b84",
         "x": [
          -0.709971971248551
         ],
         "y": [
          -0.553118251408726
         ]
        },
        {
         "hoverinfo": "text",
         "marker": {
          "color": "green",
          "size": 0.5
         },
         "mode": "markers",
         "text": "Power BI appears with Tableau 89 times",
         "type": "scatter",
         "uid": "78f23abb-58f8-47cc-9a40-5bfd2c047a64",
         "x": [
          0.8838151857000307
         ],
         "y": [
          0.16991385324928684
         ]
        },
        {
         "hoverinfo": "text",
         "marker": {
          "color": "blue",
          "size": 0.5
         },
         "mode": "markers",
         "text": "Tableau appears with Power BI 89 times",
         "type": "scatter",
         "uid": "9feeec2f-1b3a-4ca4-8f06-bfd6929a0da0",
         "x": [
          -0.3438103177593623
         ],
         "y": [
          -0.8317418261709617
         ]
        },
        {
         "hoverinfo": "text",
         "marker": {
          "color": "green",
          "size": 0.5
         },
         "mode": "markers",
         "text": "Power BI appears with Microstrategy 9 times",
         "type": "scatter",
         "uid": "afe74145-1700-444b-ba86-059a09897d49",
         "x": [
          0.899947701731002
         ],
         "y": [
          0.00970227545925921
         ]
        },
        {
         "hoverinfo": "text",
         "marker": {
          "color": "blue",
          "size": 0.5
         },
         "mode": "markers",
         "text": "Microstrategy appears with Power BI 9 times",
         "type": "scatter",
         "uid": "4796dff0-4d58-4b4e-9390-701655a47d64",
         "x": [
          -0.05100303149573076
         ],
         "y": [
          -0.8985536660535337
         ]
        },
        {
         "hoverinfo": "text",
         "marker": {
          "color": "green",
          "size": 0.5
         },
         "mode": "markers",
         "text": "Power BI appears with Oracle BI 63 times",
         "type": "scatter",
         "uid": "4140ce8b-3c13-4ab0-84c2-cd8016417095",
         "x": [
          0.8978220514871483
         ],
         "y": [
          0.06257446654513694
         ]
        },
        {
         "hoverinfo": "text",
         "marker": {
          "color": "blue",
          "size": 0.5
         },
         "mode": "markers",
         "text": "Oracle BI appears with Power BI 63 times",
         "type": "scatter",
         "uid": "24ed10e0-d35f-42aa-bb27-40ba8531c22f",
         "x": [
          0.12683862137007973
         ],
         "y": [
          -0.8910173758849698
         ]
        },
        {
         "hoverinfo": "text",
         "marker": {
          "color": "green",
          "size": 0.5
         },
         "mode": "markers",
         "text": "Power BI appears with Python 33 times",
         "type": "scatter",
         "uid": "4653d270-6c8c-4e22-a4ca-78bdbc3071df",
         "x": [
          0.8988404956166096
         ],
         "y": [
          0.045670159181762406
         ]
        },
        {
         "hoverinfo": "text",
         "marker": {
          "color": "blue",
          "size": 0.5
         },
         "mode": "markers",
         "text": "Python appears with Power BI 33 times",
         "type": "scatter",
         "uid": "4f7cd1fa-c730-4a81-a7aa-4a001fb6c858",
         "x": [
          0.6026738863471471
         ],
         "y": [
          -0.6684191699190156
         ]
        },
        {
         "hoverinfo": "text",
         "marker": {
          "color": "green",
          "size": 0.5
         },
         "mode": "markers",
         "text": "Power BI appears with VBA 20 times",
         "type": "scatter",
         "uid": "005a39d0-8729-454c-9bb3-972c83cb7364",
         "x": [
          0.8996110288648116
         ],
         "y": [
          0.02645745159298588
         ]
        },
        {
         "hoverinfo": "text",
         "marker": {
          "color": "blue",
          "size": 0.5
         },
         "mode": "markers",
         "text": "VBA appears with Power BI 20 times",
         "type": "scatter",
         "uid": "7b45f096-e4c4-4e00-9e20-01a3366bfaee",
         "x": [
          0.8153984190221032
         ],
         "y": [
          -0.3809533019364114
         ]
        },
        {
         "hoverinfo": "text",
         "marker": {
          "color": "green",
          "size": 0.5
         },
         "mode": "markers",
         "text": "Power BI appears with AWS 3 times",
         "type": "scatter",
         "uid": "46ae9776-17a8-40ff-8dbe-e004f404a6dc",
         "x": [
          0.8999985996033991
         ],
         "y": [
          0.0015876750046489685
         ]
        },
        {
         "hoverinfo": "text",
         "marker": {
          "color": "blue",
          "size": 0.5
         },
         "mode": "markers",
         "text": "AWS appears with Power BI 3 times",
         "type": "scatter",
         "uid": "8204cae7-3f34-46ff-928c-eb97a06465f4",
         "x": [
          0.8959039364100913
         ],
         "y": [
          -0.08576792363642323
         ]
        },
        {
         "hoverinfo": "text",
         "marker": {
          "color": "green",
          "size": 0.5
         },
         "mode": "markers",
         "text": "Excel appears with SSIS/SSRS 300 times",
         "type": "scatter",
         "uid": "af6aff25-9376-4c03-b2b0-d3cde607296a",
         "x": [
          0.43283941051760344
         ],
         "y": [
          0.7890817731406382
         ]
        },
        {
         "hoverinfo": "text",
         "marker": {
          "color": "blue",
          "size": 0.5
         },
         "mode": "markers",
         "text": "SSIS/SSRS appears with Excel 300 times",
         "type": "scatter",
         "uid": "b1c2c164-a015-48e9-86a3-2a0ee27d244b",
         "x": [
          -0.171758723479475
         ],
         "y": [
          0.8834585111416955
         ]
        },
        {
         "hoverinfo": "text",
         "marker": {
          "color": "green",
          "size": 0.5
         },
         "mode": "markers",
         "text": "Excel appears with MS SQL Server 159 times",
         "type": "scatter",
         "uid": "2d7ea3c3-5c91-4731-8dc6-6260d1b1d2d9",
         "x": [
          0.6977887367345958
         ],
         "y": [
          0.5684108363554805
         ]
        },
        {
         "hoverinfo": "text",
         "marker": {
          "color": "blue",
          "size": 0.5
         },
         "mode": "markers",
         "text": "MS SQL Server appears with Excel 159 times",
         "type": "scatter",
         "uid": "85741117-b9f0-4df0-8fef-f369a2274dc2",
         "x": [
          -0.5235040493086011
         ],
         "y": [
          0.7320816282065121
         ]
        },
        {
         "hoverinfo": "text",
         "marker": {
          "color": "green",
          "size": 0.5
         },
         "mode": "markers",
         "text": "Excel appears with PostgreSQL 25 times",
         "type": "scatter",
         "uid": "4b59d170-32a4-40f9-a437-fbb8562b9fe6",
         "x": [
          0.8550339159845911
         ],
         "y": [
          0.2809217017534518
         ]
        },
        {
         "hoverinfo": "text",
         "marker": {
          "color": "blue",
          "size": 0.5
         },
         "mode": "markers",
         "text": "PostgreSQL appears with Excel 25 times",
         "type": "scatter",
         "uid": "fd66500e-770f-44cd-8c10-d8af4eb63ca8",
         "x": [
          -0.5910958990070845
         ],
         "y": [
          0.678679333836685
         ]
        },
        {
         "hoverinfo": "text",
         "marker": {
          "color": "green",
          "size": 0.5
         },
         "mode": "markers",
         "text": "Excel appears with MySQL/MariaDB 64 times",
         "type": "scatter",
         "uid": "77e052bf-b08f-4eee-a6dc-5e56f61ed582",
         "x": [
          0.8159622796008787
         ],
         "y": [
          0.37974406943168626
         ]
        },
        {
         "hoverinfo": "text",
         "marker": {
          "color": "blue",
          "size": 0.5
         },
         "mode": "markers",
         "text": "MySQL/MariaDB appears with Excel 64 times",
         "type": "scatter",
         "uid": "60b8742b-4bba-4096-b7b4-990e87963d10",
         "x": [
          -0.7058794035669166
         ],
         "y": [
          0.5583316824433431
         ]
        },
        {
         "hoverinfo": "text",
         "marker": {
          "color": "green",
          "size": 0.5
         },
         "mode": "markers",
         "text": "Excel appears with T-SQL 111 times",
         "type": "scatter",
         "uid": "e77dfb05-7ff6-46a2-a24f-a85056f55add",
         "x": [
          0.7870174587829574
         ],
         "y": [
          0.4365816299053546
         ]
        },
        {
         "hoverinfo": "text",
         "marker": {
          "color": "blue",
          "size": 0.5
         },
         "mode": "markers",
         "text": "T-SQL appears with Excel 111 times",
         "type": "scatter",
         "uid": "4a6e80f9-7510-4539-9cb3-d600c68c72d7",
         "x": [
          -0.8267132543122995
         ],
         "y": [
          0.3557319147115807
         ]
        },
        {
         "hoverinfo": "text",
         "marker": {
          "color": "green",
          "size": 0.5
         },
         "mode": "markers",
         "text": "Excel appears with PL/SQL 36 times",
         "type": "scatter",
         "uid": "d82a6a30-1e06-4ea0-bfb5-d9bc0ad4e03d",
         "x": [
          0.8513141750209672
         ],
         "y": [
          0.2920003003566437
         ]
        },
        {
         "hoverinfo": "text",
         "marker": {
          "color": "blue",
          "size": 0.5
         },
         "mode": "markers",
         "text": "PL/SQL appears with Excel 36 times",
         "type": "scatter",
         "uid": "f4d2987e-fcff-47b3-a3c5-2d56a5322634",
         "x": [
          -0.8668846374618633
         ],
         "y": [
          0.24189052344524334
         ]
        },
        {
         "hoverinfo": "text",
         "marker": {
          "color": "green",
          "size": 0.5
         },
         "mode": "markers",
         "text": "Excel appears with Pentaho 42 times",
         "type": "scatter",
         "uid": "0e13426f-c815-4c55-9812-3eeba756fceb",
         "x": [
          0.846348757265404
         ],
         "y": [
          0.30609439896101703
         ]
        },
        {
         "hoverinfo": "text",
         "marker": {
          "color": "blue",
          "size": 0.5
         },
         "mode": "markers",
         "text": "Pentaho appears with Excel 42 times",
         "type": "scatter",
         "uid": "cd6240fb-3f87-4fab-a068-8fbc1f970f2d",
         "x": [
          -0.8948274749044547
         ],
         "y": [
          0.09635242683045209
         ]
        },
        {
         "hoverinfo": "text",
         "marker": {
          "color": "green",
          "size": 0.5
         },
         "mode": "markers",
         "text": "Excel appears with Hadoop 50 times",
         "type": "scatter",
         "uid": "0d564eb2-306c-46f1-a4eb-33af089a5fe5",
         "x": [
          0.8331351563960339
         ],
         "y": [
          0.34042005107948076
         ]
        },
        {
         "hoverinfo": "text",
         "marker": {
          "color": "blue",
          "size": 0.5
         },
         "mode": "markers",
         "text": "Hadoop appears with Excel 50 times",
         "type": "scatter",
         "uid": "ae78a73b-6478-4f8c-a2fe-23f31958f7c7",
         "x": [
          -0.8997638282975503
         ],
         "y": [
          -0.020616820495324848
         ]
        },
        {
         "hoverinfo": "text",
         "marker": {
          "color": "green",
          "size": 0.5
         },
         "mode": "markers",
         "text": "Excel appears with Spark 55 times",
         "type": "scatter",
         "uid": "ec03d4f1-b8c3-4d5a-94be-a65cd49093b5",
         "x": [
          0.8253189000739405
         ],
         "y": [
          0.3589550294685132
         ]
        },
        {
         "hoverinfo": "text",
         "marker": {
          "color": "blue",
          "size": 0.5
         },
         "mode": "markers",
         "text": "Spark appears with Excel 55 times",
         "type": "scatter",
         "uid": "fe351d82-ce9d-4900-af98-20ec79499966",
         "x": [
          -0.8773887898487324
         ],
         "y": [
          -0.20047172231458704
         ]
        },
        {
         "hoverinfo": "text",
         "marker": {
          "color": "green",
          "size": 0.5
         },
         "mode": "markers",
         "text": "Excel appears with Informatica 79 times",
         "type": "scatter",
         "uid": "9ecfd7ec-2faa-4fcf-811e-abc87cea0e64",
         "x": [
          0.8040265767152076
         ],
         "y": [
          0.40440235401840124
         ]
        },
        {
         "hoverinfo": "text",
         "marker": {
          "color": "blue",
          "size": 0.5
         },
         "mode": "markers",
         "text": "Informatica appears with Excel 79 times",
         "type": "scatter",
         "uid": "65bb39fb-a283-4eef-b516-56bb03ac771f",
         "x": [
          -0.8127105298955218
         ],
         "y": [
          -0.38665436063355096
         ]
        },
        {
         "hoverinfo": "text",
         "marker": {
          "color": "green",
          "size": 0.5
         },
         "mode": "markers",
         "text": "Excel appears with Qlik 237 times",
         "type": "scatter",
         "uid": "a0eb1382-09ef-48ae-818c-5da3218ded6e",
         "x": [
          0.5951107584068455
         ],
         "y": [
          0.675161599343764
         ]
        },
        {
         "hoverinfo": "text",
         "marker": {
          "color": "blue",
          "size": 0.5
         },
         "mode": "markers",
         "text": "Qlik appears with Excel 237 times",
         "type": "scatter",
         "uid": "a88cd9f6-e2c3-49fd-8f17-2c09ccba071e",
         "x": [
          -0.5755104866025282
         ],
         "y": [
          -0.6919448531570426
         ]
        },
        {
         "hoverinfo": "text",
         "marker": {
          "color": "green",
          "size": 0.5
         },
         "mode": "markers",
         "text": "Excel appears with Tableau 250 times",
         "type": "scatter",
         "uid": "ea2d5e76-46dc-4803-bce0-5bc27539396a",
         "x": [
          0.5220492148245024
         ],
         "y": [
          0.7331197837332728
         ]
        },
        {
         "hoverinfo": "text",
         "marker": {
          "color": "blue",
          "size": 0.5
         },
         "mode": "markers",
         "text": "Tableau appears with Excel 250 times",
         "type": "scatter",
         "uid": "aa20c0b8-564a-49da-901d-575b65790125",
         "x": [
          -0.1352176888862371
         ],
         "y": [
          -0.8897843427551784
         ]
        },
        {
         "hoverinfo": "text",
         "marker": {
          "color": "green",
          "size": 0.5
         },
         "mode": "markers",
         "text": "Excel appears with Microstrategy 23 times",
         "type": "scatter",
         "uid": "ef7ab64a-82d7-48ca-8d8c-b89a05bce4eb",
         "x": [
          0.8605957284062103
         ],
         "y": [
          0.26339132910744095
         ]
        },
        {
         "hoverinfo": "text",
         "marker": {
          "color": "blue",
          "size": 0.5
         },
         "mode": "markers",
         "text": "Microstrategy appears with Excel 23 times",
         "type": "scatter",
         "uid": "d8a0bf83-f67f-46a6-9746-6529012b2dac",
         "x": [
          -0.02918652458439393
         ],
         "y": [
          -0.8995266237208794
         ]
        },
        {
         "hoverinfo": "text",
         "marker": {
          "color": "green",
          "size": 0.5
         },
         "mode": "markers",
         "text": "Excel appears with Oracle BI 348 times",
         "type": "scatter",
         "uid": "b7a5372e-e34c-4520-9084-5397cd520f62",
         "x": [
          0.32022798886790027
         ],
         "y": [
          0.8411028683494189
         ]
        },
        {
         "hoverinfo": "text",
         "marker": {
          "color": "blue",
          "size": 0.5
         },
         "mode": "markers",
         "text": "Oracle BI appears with Excel 348 times",
         "type": "scatter",
         "uid": "3c59b0c2-c1b0-4651-907a-a35975435dd9",
         "x": [
          0.49131168655842355
         ],
         "y": [
          -0.7540642059209
         ]
        },
        {
         "hoverinfo": "text",
         "marker": {
          "color": "green",
          "size": 0.5
         },
         "mode": "markers",
         "text": "Excel appears with Python 189 times",
         "type": "scatter",
         "uid": "c3432967-494b-4bd6-8639-694617cecb2e",
         "x": [
          0.6538066668448013
         ],
         "y": [
          0.6184956284318355
         ]
        },
        {
         "hoverinfo": "text",
         "marker": {
          "color": "blue",
          "size": 0.5
         },
         "mode": "markers",
         "text": "Python appears with Excel 189 times",
         "type": "scatter",
         "uid": "3728225a-583c-42b8-963f-158d76cdfeee",
         "x": [
          0.7805587298490864
         ],
         "y": [
          -0.44802686220402127
         ]
        },
        {
         "hoverinfo": "text",
         "marker": {
          "color": "green",
          "size": 0.5
         },
         "mode": "markers",
         "text": "Excel appears with VBA 145 times",
         "type": "scatter",
         "uid": "431a1ade-9895-437b-a567-93b11f2115ef",
         "x": [
          0.7330855378078889
         ],
         "y": [
          0.5220973034377006
         ]
        },
        {
         "hoverinfo": "text",
         "marker": {
          "color": "blue",
          "size": 0.5
         },
         "mode": "markers",
         "text": "VBA appears with Excel 145 times",
         "type": "scatter",
         "uid": "59180f18-05cb-49e9-b516-fa5eacdf2279",
         "x": [
          0.8569985572477011
         ],
         "y": [
          -0.27486991991732873
         ]
        },
        {
         "hoverinfo": "text",
         "marker": {
          "color": "green",
          "size": 0.5
         },
         "mode": "markers",
         "text": "Excel appears with Linux 50 times",
         "type": "scatter",
         "uid": "082bd25e-107d-4c14-b592-b70faca3f314",
         "x": [
          0.840192325282925
         ],
         "y": [
          0.3226094489249681
         ]
        },
        {
         "hoverinfo": "text",
         "marker": {
          "color": "blue",
          "size": 0.5
         },
         "mode": "markers",
         "text": "Linux appears with Excel 50 times",
         "type": "scatter",
         "uid": "5e7fe931-65d9-4636-9f8f-9f35e9981b3e",
         "x": [
          0.8888511459603173
         ],
         "y": [
          -0.14122195411843952
         ]
        },
        {
         "hoverinfo": "text",
         "marker": {
          "color": "green",
          "size": 0.5
         },
         "mode": "markers",
         "text": "Excel appears with AWS 24 times",
         "type": "scatter",
         "uid": "d4d3675c-bb9e-43d0-b1f7-2f38d76b0ca5",
         "x": [
          0.8579175196572418
         ],
         "y": [
          0.27198810537441903
         ]
        },
        {
         "hoverinfo": "text",
         "marker": {
          "color": "blue",
          "size": 0.5
         },
         "mode": "markers",
         "text": "AWS appears with Excel 24 times",
         "type": "scatter",
         "uid": "4815748a-d1a6-4f8a-ba43-73d444a2c99d",
         "x": [
          0.8985094220306981
         ],
         "y": [
          -0.05177662138514771
         ]
        },
        {
         "hoverinfo": "text",
         "marker": {
          "color": "green",
          "size": 0.5
         },
         "mode": "markers",
         "text": "SSIS/SSRS appears with MS SQL Server 142 times",
         "type": "scatter",
         "uid": "b43f9bbf-d0c3-47e8-8840-2f1a17889398",
         "x": [
          -0.09034477436244255
         ],
         "y": [
          0.8954539752245222
         ]
        },
        {
         "hoverinfo": "text",
         "marker": {
          "color": "blue",
          "size": 0.5
         },
         "mode": "markers",
         "text": "MS SQL Server appears with SSIS/SSRS 142 times",
         "type": "scatter",
         "uid": "79a8acf2-5f62-4a0d-9860-64927c6f5fed",
         "x": [
          -0.4779761362820385
         ],
         "y": [
          0.7625869216980411
         ]
        },
        {
         "hoverinfo": "text",
         "marker": {
          "color": "green",
          "size": 0.5
         },
         "mode": "markers",
         "text": "SSIS/SSRS appears with PostgreSQL 11 times",
         "type": "scatter",
         "uid": "56168e77-e80c-4f69-b214-fd9f106f2f74",
         "x": [
          0.22789943316637712
         ],
         "y": [
          0.8706674728979165
         ]
        },
        {
         "hoverinfo": "text",
         "marker": {
          "color": "blue",
          "size": 0.5
         },
         "mode": "markers",
         "text": "PostgreSQL appears with SSIS/SSRS 11 times",
         "type": "scatter",
         "uid": "13cc7023-8a87-438d-9b7f-199250995fb7",
         "x": [
          -0.5739236350144148
         ],
         "y": [
          0.6932616109174378
         ]
        },
        {
         "hoverinfo": "text",
         "marker": {
          "color": "green",
          "size": 0.5
         },
         "mode": "markers",
         "text": "SSIS/SSRS appears with MySQL/MariaDB 28 times",
         "type": "scatter",
         "uid": "5a75f516-55b8-45b9-a89c-1ab113629591",
         "x": [
          0.1838465792612521
         ],
         "y": [
          0.881022380699796
         ]
        },
        {
         "hoverinfo": "text",
         "marker": {
          "color": "blue",
          "size": 0.5
         },
         "mode": "markers",
         "text": "MySQL/MariaDB appears with SSIS/SSRS 28 times",
         "type": "scatter",
         "uid": "76f48067-e630-41ae-a6b2-e3514b63ed16",
         "x": [
          -0.654911759226759
         ],
         "y": [
          0.617325349897857
         ]
        },
        {
         "hoverinfo": "text",
         "marker": {
          "color": "green",
          "size": 0.5
         },
         "mode": "markers",
         "text": "SSIS/SSRS appears with T-SQL 91 times",
         "type": "scatter",
         "uid": "f548c735-a7ef-44aa-ba2a-68b9764d8e1f",
         "x": [
          0.0407936361603167
         ],
         "y": [
          0.899075013137847
         ]
        },
        {
         "hoverinfo": "text",
         "marker": {
          "color": "blue",
          "size": 0.5
         },
         "mode": "markers",
         "text": "T-SQL appears with SSIS/SSRS 91 times",
         "type": "scatter",
         "uid": "3f50d4ac-8859-4fdf-a34b-9d72bb2c7884",
         "x": [
          -0.8118238459595796
         ],
         "y": [
          0.38851260356827133
         ]
        },
        {
         "hoverinfo": "text",
         "marker": {
          "color": "green",
          "size": 0.5
         },
         "mode": "markers",
         "text": "SSIS/SSRS appears with PL/SQL 18 times",
         "type": "scatter",
         "uid": "c1d6113f-68e3-49f9-9d44-74b705353a36",
         "x": [
          0.2016749764643151
         ],
         "y": [
          0.8771129937859306
         ]
        },
        {
         "hoverinfo": "text",
         "marker": {
          "color": "blue",
          "size": 0.5
         },
         "mode": "markers",
         "text": "PL/SQL appears with SSIS/SSRS 18 times",
         "type": "scatter",
         "uid": "a75d04f9-9b80-4702-8229-39e055ae05e0",
         "x": [
          -0.8650435753944418
         ],
         "y": [
          0.24839406729791433
         ]
        },
        {
         "hoverinfo": "text",
         "marker": {
          "color": "green",
          "size": 0.5
         },
         "mode": "markers",
         "text": "SSIS/SSRS appears with Pentaho 18 times",
         "type": "scatter",
         "uid": "4a9ee011-258c-44b3-8220-80186e22d9ae",
         "x": [
          0.20820373979284537
         ],
         "y": [
          0.8755862051998496
         ]
        },
        {
         "hoverinfo": "text",
         "marker": {
          "color": "blue",
          "size": 0.5
         },
         "mode": "markers",
         "text": "Pentaho appears with SSIS/SSRS 18 times",
         "type": "scatter",
         "uid": "c784aa07-1558-48bd-9187-e3ef79dca8b1",
         "x": [
          -0.8819305775245281
         ],
         "y": [
          0.17943928340040954
         ]
        },
        {
         "hoverinfo": "text",
         "marker": {
          "color": "green",
          "size": 0.5
         },
         "mode": "markers",
         "text": "SSIS/SSRS appears with Hadoop 26 times",
         "type": "scatter",
         "uid": "b9f8f78c-e83a-419e-8cb3-4781ed0bf8a7",
         "x": [
          0.1936802127421894
         ],
         "y": [
          0.8789129508615403
         ]
        },
        {
         "hoverinfo": "text",
         "marker": {
          "color": "blue",
          "size": 0.5
         },
         "mode": "markers",
         "text": "Hadoop appears with SSIS/SSRS 26 times",
         "type": "scatter",
         "uid": "fe021ed2-6a8a-423d-bf86-460bd40737ac",
         "x": [
          -0.89982560803383
         ],
         "y": [
          0.017716521287996338
         ]
        },
        {
         "hoverinfo": "text",
         "marker": {
          "color": "green",
          "size": 0.5
         },
         "mode": "markers",
         "text": "SSIS/SSRS appears with Spark 35 times",
         "type": "scatter",
         "uid": "af94d134-9887-499c-91e4-a15885eb3692",
         "x": [
          0.17234507672083552
         ],
         "y": [
          0.8833443125588625
         ]
        },
        {
         "hoverinfo": "text",
         "marker": {
          "color": "blue",
          "size": 0.5
         },
         "mode": "markers",
         "text": "Spark appears with SSIS/SSRS 35 times",
         "type": "scatter",
         "uid": "c7938dc3-646f-4804-b29d-0f41b095678a",
         "x": [
          -0.8831088432823839
         ],
         "y": [
          -0.17354760417951587
         ]
        },
        {
         "hoverinfo": "text",
         "marker": {
          "color": "green",
          "size": 0.5
         },
         "mode": "markers",
         "text": "SSIS/SSRS appears with Informatica 43 times",
         "type": "scatter",
         "uid": "5e7e67be-2cbe-47b5-813e-a461db0775f9",
         "x": [
          0.1580647507672469
         ],
         "y": [
          0.8860110239522351
         ]
        },
        {
         "hoverinfo": "text",
         "marker": {
          "color": "blue",
          "size": 0.5
         },
         "mode": "markers",
         "text": "Informatica appears with SSIS/SSRS 43 times",
         "type": "scatter",
         "uid": "867a8cd3-58bf-40b8-a96a-4adec38af5cd",
         "x": [
          -0.8297168315867374
         ],
         "y": [
          -0.3486688678125216
         ]
        },
        {
         "hoverinfo": "text",
         "marker": {
          "color": "green",
          "size": 0.5
         },
         "mode": "markers",
         "text": "SSIS/SSRS appears with Qlik 43 times",
         "type": "scatter",
         "uid": "c02de4be-3365-49f5-b4f5-fc7e359e02e6",
         "x": [
          0.1422721888794903
         ],
         "y": [
          0.8886836469022251
         ]
        },
        {
         "hoverinfo": "text",
         "marker": {
          "color": "blue",
          "size": 0.5
         },
         "mode": "markers",
         "text": "Qlik appears with SSIS/SSRS 43 times",
         "type": "scatter",
         "uid": "97d4400c-95f2-40ae-bf76-5cd194d55fac",
         "x": [
          -0.7384731124407059
         ],
         "y": [
          -0.5144486973471082
         ]
        },
        {
         "hoverinfo": "text",
         "marker": {
          "color": "green",
          "size": 0.5
         },
         "mode": "markers",
         "text": "SSIS/SSRS appears with Tableau 82 times",
         "type": "scatter",
         "uid": "7c4a6de0-922e-4828-bfac-e552b216d3e3",
         "x": [
          0.07294840290091877
         ],
         "y": [
          0.8970387564170265
         ]
        },
        {
         "hoverinfo": "text",
         "marker": {
          "color": "blue",
          "size": 0.5
         },
         "mode": "markers",
         "text": "Tableau appears with SSIS/SSRS 82 times",
         "type": "scatter",
         "uid": "eec4176c-f8f6-49bf-9939-b62366d551c0",
         "x": [
          -0.3730304430809133
         ],
         "y": [
          -0.8190532879702379
         ]
        },
        {
         "hoverinfo": "text",
         "marker": {
          "color": "green",
          "size": 0.5
         },
         "mode": "markers",
         "text": "SSIS/SSRS appears with Microstrategy 12 times",
         "type": "scatter",
         "uid": "d98d8e93-cc40-48f7-b6ef-e974cb0a4e1d",
         "x": [
          0.22375277734071908
         ],
         "y": [
          0.8717423327063534
         ]
        },
        {
         "hoverinfo": "text",
         "marker": {
          "color": "blue",
          "size": 0.5
         },
         "mode": "markers",
         "text": "Microstrategy appears with SSIS/SSRS 12 times",
         "type": "scatter",
         "uid": "ac4e3326-2efe-43cf-9a37-e362973f3622",
         "x": [
          -0.04614389165768174
         ],
         "y": [
          -0.8988163000650823
         ]
        },
        {
         "hoverinfo": "text",
         "marker": {
          "color": "green",
          "size": 0.5
         },
         "mode": "markers",
         "text": "SSIS/SSRS appears with Oracle BI 139 times",
         "type": "scatter",
         "uid": "ecd2e30e-94a7-4518-9c48-b556a592fde1",
         "x": [
          -0.03815008516754244
         ],
         "y": [
          0.8991910647919658
         ]
        },
        {
         "hoverinfo": "text",
         "marker": {
          "color": "blue",
          "size": 0.5
         },
         "mode": "markers",
         "text": "Oracle BI appears with SSIS/SSRS 139 times",
         "type": "scatter",
         "uid": "f85c177f-7b20-419a-ac4d-671a35389ca7",
         "x": [
          0.2778947616657302
         ],
         "y": [
          -0.8560224888627326
         ]
        },
        {
         "hoverinfo": "text",
         "marker": {
          "color": "green",
          "size": 0.5
         },
         "mode": "markers",
         "text": "SSIS/SSRS appears with Python 97 times",
         "type": "scatter",
         "uid": "b07efc6e-fe4f-47d2-b37d-6d4daee69f92",
         "x": [
          0.005792960149336338
         ],
         "y": [
          0.8999813562583995
         ]
        },
        {
         "hoverinfo": "text",
         "marker": {
          "color": "blue",
          "size": 0.5
         },
         "mode": "markers",
         "text": "Python appears with SSIS/SSRS 97 times",
         "type": "scatter",
         "uid": "d46e4666-182f-4ca7-908a-c19c617d2c5b",
         "x": [
          0.7330501745430159
         ],
         "y": [
          -0.5221469540296622
         ]
        },
        {
         "hoverinfo": "text",
         "marker": {
          "color": "green",
          "size": 0.5
         },
         "mode": "markers",
         "text": "SSIS/SSRS appears with VBA 47 times",
         "type": "scatter",
         "uid": "45ed2507-bf3c-4769-b7f2-a166634889a8",
         "x": [
          0.12569691862833737
         ],
         "y": [
          0.8911791540691137
         ]
        },
        {
         "hoverinfo": "text",
         "marker": {
          "color": "blue",
          "size": 0.5
         },
         "mode": "markers",
         "text": "VBA appears with SSIS/SSRS 47 times",
         "type": "scatter",
         "uid": "031fa481-8746-4c19-8657-29b00e62c7a0",
         "x": [
          0.8410299828579392
         ],
         "y": [
          -0.32041936260777765
         ]
        },
        {
         "hoverinfo": "text",
         "marker": {
          "color": "green",
          "size": 0.5
         },
         "mode": "markers",
         "text": "SSIS/SSRS appears with Linux 14 times",
         "type": "scatter",
         "uid": "f120520a-5951-4a48-99b8-2b190122f3c2",
         "x": [
          0.21399739529405065
         ],
         "y": [
          0.8741882605064895
         ]
        },
        {
         "hoverinfo": "text",
         "marker": {
          "color": "blue",
          "size": 0.5
         },
         "mode": "markers",
         "text": "Linux appears with SSIS/SSRS 14 times",
         "type": "scatter",
         "uid": "b391bac8-5b59-468e-b746-f39a682f7d68",
         "x": [
          0.8743054496404205
         ],
         "y": [
          -0.21351810398432772
         ]
        },
        {
         "hoverinfo": "text",
         "marker": {
          "color": "green",
          "size": 0.5
         },
         "mode": "markers",
         "text": "SSIS/SSRS appears with AWS 14 times",
         "type": "scatter",
         "uid": "6b8f2e19-78b7-4052-9bf2-12d0e9f29cd3",
         "x": [
          0.21905915441936338
         ],
         "y": [
          0.8729336096548658
         ]
        },
        {
         "hoverinfo": "text",
         "marker": {
          "color": "blue",
          "size": 0.5
         },
         "mode": "markers",
         "text": "AWS appears with SSIS/SSRS 14 times",
         "type": "scatter",
         "uid": "c90ef222-bff0-4b20-817d-80982d5683d3",
         "x": [
          0.8971752124901224
         ],
         "y": [
          -0.07125053047734964
         ]
        },
        {
         "hoverinfo": "text",
         "marker": {
          "color": "green",
          "size": 0.5
         },
         "mode": "markers",
         "text": "MS SQL Server appears with PostgreSQL 26 times",
         "type": "scatter",
         "uid": "d72dd144-372c-495c-b171-a6e589210bad",
         "x": [
          -0.28649273555836746
         ],
         "y": [
          0.8531833990838567
         ]
        },
        {
         "hoverinfo": "text",
         "marker": {
          "color": "blue",
          "size": 0.5
         },
         "mode": "markers",
         "text": "PostgreSQL appears with MS SQL Server 26 times",
         "type": "scatter",
         "uid": "2d1b3e3f-b880-4a7b-86c7-dbd8944a29ef",
         "x": [
          -0.5961169634490139
         ],
         "y": [
          0.6742733613960491
         ]
        },
        {
         "hoverinfo": "text",
         "marker": {
          "color": "green",
          "size": 0.5
         },
         "mode": "markers",
         "text": "MS SQL Server appears with MySQL/MariaDB 33 times",
         "type": "scatter",
         "uid": "43c26c41-0949-49c8-8a01-5d262bf38c95",
         "x": [
          -0.33552547035538405
         ],
         "y": [
          0.8351183501413427
         ]
        },
        {
         "hoverinfo": "text",
         "marker": {
          "color": "blue",
          "size": 0.5
         },
         "mode": "markers",
         "text": "MySQL/MariaDB appears with MS SQL Server 33 times",
         "type": "scatter",
         "uid": "2f004cd1-28b8-4ce7-8dc5-bf4de3db724a",
         "x": [
          -0.6804048450235274
         ],
         "y": [
          0.5891088582499077
         ]
        },
        {
         "hoverinfo": "text",
         "marker": {
          "color": "green",
          "size": 0.5
         },
         "mode": "markers",
         "text": "MS SQL Server appears with T-SQL 117 times",
         "type": "scatter",
         "uid": "8408d0a1-d456-43d9-b0a7-eb18e8ddca67",
         "x": [
          -0.4373759113701815
         ],
         "y": [
          0.7865763231582191
         ]
        },
        {
         "hoverinfo": "text",
         "marker": {
          "color": "blue",
          "size": 0.5
         },
         "mode": "markers",
         "text": "T-SQL appears with MS SQL Server 117 times",
         "type": "scatter",
         "uid": "cd1476a1-951d-49e3-8367-74dc3b56de14",
         "x": [
          -0.8419285705811345
         ],
         "y": [
          0.3180507538730377
         ]
        },
        {
         "hoverinfo": "text",
         "marker": {
          "color": "green",
          "size": 0.5
         },
         "mode": "markers",
         "text": "MS SQL Server appears with PL/SQL 6 times",
         "type": "scatter",
         "uid": "9a7dfced-ea80-4d35-a11c-7f43a8a4f339",
         "x": [
          -0.25628460957281024
         ],
         "y": [
          0.8627387779021598
         ]
        },
        {
         "hoverinfo": "text",
         "marker": {
          "color": "blue",
          "size": 0.5
         },
         "mode": "markers",
         "text": "PL/SQL appears with MS SQL Server 6 times",
         "type": "scatter",
         "uid": "1d44809f-d0e2-4846-ab85-641b4725cc39",
         "x": [
          -0.8597479120232147
         ],
         "y": [
          0.2661456889970657
         ]
        },
        {
         "hoverinfo": "text",
         "marker": {
          "color": "green",
          "size": 0.5
         },
         "mode": "markers",
         "text": "MS SQL Server appears with Pentaho 27 times",
         "type": "scatter",
         "uid": "268720ac-0278-4368-a4b5-340786d8557e",
         "x": [
          -0.3045523798324137
         ],
         "y": [
          0.8469048635699368
         ]
        },
        {
         "hoverinfo": "text",
         "marker": {
          "color": "blue",
          "size": 0.5
         },
         "mode": "markers",
         "text": "Pentaho appears with MS SQL Server 27 times",
         "type": "scatter",
         "uid": "7dce6bbc-b519-481d-af9d-1c217c3a65a0",
         "x": [
          -0.8907677935097689
         ],
         "y": [
          0.12857969530893198
         ]
        },
        {
         "hoverinfo": "text",
         "marker": {
          "color": "green",
          "size": 0.5
         },
         "mode": "markers",
         "text": "MS SQL Server appears with Hadoop 20 times",
         "type": "scatter",
         "uid": "21e87bb3-cae7-4d83-a0e2-4e5d21ee6d40",
         "x": [
          -0.269867704833968
         ],
         "y": [
          0.8585868749798393
         ]
        },
        {
         "hoverinfo": "text",
         "marker": {
          "color": "blue",
          "size": 0.5
         },
         "mode": "markers",
         "text": "Hadoop appears with MS SQL Server 20 times",
         "type": "scatter",
         "uid": "3381175a-2b27-4376-a8e1-41364cec1bf4",
         "x": [
          -0.8993979973604047
         ],
         "y": [
          0.03291264717541635
         ]
        },
        {
         "hoverinfo": "text",
         "marker": {
          "color": "green",
          "size": 0.5
         },
         "mode": "markers",
         "text": "MS SQL Server appears with Spark 16 times",
         "type": "scatter",
         "uid": "67de15e6-78b6-483e-9bda-52c24dd890a1",
         "x": [
          -0.26360673147642794
         ],
         "y": [
          0.8605297735234467
         ]
        },
        {
         "hoverinfo": "text",
         "marker": {
          "color": "blue",
          "size": 0.5
         },
         "mode": "markers",
         "text": "Spark appears with MS SQL Server 16 times",
         "type": "scatter",
         "uid": "683d9d04-7eec-4009-8067-c28cbad49810",
         "x": [
          -0.8905068848392399
         ],
         "y": [
          -0.13037441487467022
         ]
        },
        {
         "hoverinfo": "text",
         "marker": {
          "color": "green",
          "size": 0.5
         },
         "mode": "markers",
         "text": "MS SQL Server appears with Informatica 32 times",
         "type": "scatter",
         "uid": "0e75967a-9d0e-4c41-9d2c-81de2d19b9e6",
         "x": [
          -0.3245137079726995
         ],
         "y": [
          0.8394586668429898
         ]
        },
        {
         "hoverinfo": "text",
         "marker": {
          "color": "blue",
          "size": 0.5
         },
         "mode": "markers",
         "text": "Informatica appears with MS SQL Server 32 times",
         "type": "scatter",
         "uid": "4012c2a2-c728-48e0-821f-ed9f9e76a3c3",
         "x": [
          -0.8388199805808103
         ],
         "y": [
          -0.3261610647799779
         ]
        },
        {
         "hoverinfo": "text",
         "marker": {
          "color": "green",
          "size": 0.5
         },
         "mode": "markers",
         "text": "MS SQL Server appears with Qlik 25 times",
         "type": "scatter",
         "uid": "8893963b-e730-4ebd-8fe3-cf3492059a31",
         "x": [
          -0.2776737481828954
         ],
         "y": [
          0.8560942060136034
         ]
        },
        {
         "hoverinfo": "text",
         "marker": {
          "color": "blue",
          "size": 0.5
         },
         "mode": "markers",
         "text": "Qlik appears with MS SQL Server 25 times",
         "type": "scatter",
         "uid": "3ce5f421-13fa-41eb-8b76-31f8dd4242df",
         "x": [
          -0.7532468784637192
         ],
         "y": [
          -0.4925638436636037
         ]
        },
        {
         "hoverinfo": "text",
         "marker": {
          "color": "green",
          "size": 0.5
         },
         "mode": "markers",
         "text": "MS SQL Server appears with Tableau 42 times",
         "type": "scatter",
         "uid": "2258c864-e0d2-4020-9ff5-26be3ff56ca2",
         "x": [
          -0.34815911796531224
         ],
         "y": [
          0.8299308577090118
         ]
        },
        {
         "hoverinfo": "text",
         "marker": {
          "color": "blue",
          "size": 0.5
         },
         "mode": "markers",
         "text": "Tableau appears with MS SQL Server 42 times",
         "type": "scatter",
         "uid": "94930e3d-edc2-47d5-a49a-055fd07918df",
         "x": [
          -0.4466288299883531
         ],
         "y": [
          -0.7813595127873179
         ]
        },
        {
         "hoverinfo": "text",
         "marker": {
          "color": "green",
          "size": 0.5
         },
         "mode": "markers",
         "text": "MS SQL Server appears with Microstrategy 10 times",
         "type": "scatter",
         "uid": "cea14af1-6b73-4c96-a28e-37ff8a46a941",
         "x": [
          -0.25907620033985174
         ],
         "y": [
          0.8619045900895672
         ]
        },
        {
         "hoverinfo": "text",
         "marker": {
          "color": "blue",
          "size": 0.5
         },
         "mode": "markers",
         "text": "Microstrategy appears with MS SQL Server 10 times",
         "type": "scatter",
         "uid": "c9a28008-c680-494a-9256-128f2aa3d7c5",
         "x": [
          -0.04875141175606415
         ],
         "y": [
          -0.8986786410345974
         ]
        },
        {
         "hoverinfo": "text",
         "marker": {
          "color": "green",
          "size": 0.5
         },
         "mode": "markers",
         "text": "MS SQL Server appears with Oracle BI 76 times",
         "type": "scatter",
         "uid": "a60246b5-68ed-46bb-883f-e79910d048d3",
         "x": [
          -0.4063345951294627
         ],
         "y": [
          0.8030518020657046
         ]
        },
        {
         "hoverinfo": "text",
         "marker": {
          "color": "blue",
          "size": 0.5
         },
         "mode": "markers",
         "text": "Oracle BI appears with MS SQL Server 76 times",
         "type": "scatter",
         "uid": "61c77cc0-db24-48cf-baf0-8e95c9cc2449",
         "x": [
          0.17789556544122784
         ],
         "y": [
          -0.8822432588557114
         ]
        },
        {
         "hoverinfo": "text",
         "marker": {
          "color": "green",
          "size": 0.5
         },
         "mode": "markers",
         "text": "MS SQL Server appears with Python 53 times",
         "type": "scatter",
         "uid": "3eb5c8d1-f592-4b8d-87d4-227b6224ef20",
         "x": [
          -0.36404627934661415
         ],
         "y": [
          0.823085843939675
         ]
        },
        {
         "hoverinfo": "text",
         "marker": {
          "color": "blue",
          "size": 0.5
         },
         "mode": "markers",
         "text": "Python appears with MS SQL Server 53 times",
         "type": "scatter",
         "uid": "fb9b3678-b805-4bb8-905b-cd68ac0f7ae8",
         "x": [
          0.6487956640327659
         ],
         "y": [
          -0.6237500992643468
         ]
        },
        {
         "hoverinfo": "text",
         "marker": {
          "color": "green",
          "size": 0.5
         },
         "mode": "markers",
         "text": "MS SQL Server appears with VBA 29 times",
         "type": "scatter",
         "uid": "a4852c7b-a39b-4774-8eff-e5ca4ed1091a",
         "x": [
          -0.3141285038271374
         ],
         "y": [
          0.8433998358331143
         ]
        },
        {
         "hoverinfo": "text",
         "marker": {
          "color": "blue",
          "size": 0.5
         },
         "mode": "markers",
         "text": "VBA appears with MS SQL Server 29 times",
         "type": "scatter",
         "uid": "6a554e36-9962-471e-8c61-7d14884cc18c",
         "x": [
          0.824788544218544
         ],
         "y": [
          -0.3601719829829286
         ]
        },
        {
         "hoverinfo": "text",
         "marker": {
          "color": "green",
          "size": 0.5
         },
         "mode": "markers",
         "text": "MS SQL Server appears with Linux 26 times",
         "type": "scatter",
         "uid": "5b78a493-18c3-4393-a57b-5c02c182d7fc",
         "x": [
          -0.29545322964702087
         ],
         "y": [
          0.8501219848299094
         ]
        },
        {
         "hoverinfo": "text",
         "marker": {
          "color": "blue",
          "size": 0.5
         },
         "mode": "markers",
         "text": "Linux appears with MS SQL Server 26 times",
         "type": "scatter",
         "uid": "9dba12c2-1b86-448d-95a1-be9e8612ed13",
         "x": [
          0.8801425060549174
         ],
         "y": [
          -0.18801374693189266
         ]
        },
        {
         "hoverinfo": "text",
         "marker": {
          "color": "green",
          "size": 0.5
         },
         "mode": "markers",
         "text": "MS SQL Server appears with AWS 5 times",
         "type": "scatter",
         "uid": "e1b799cf-221d-49ca-a1a5-bbf17012cc8c",
         "x": [
          -0.25436383113246097
         ],
         "y": [
          0.8633070377401176
         ]
        },
        {
         "hoverinfo": "text",
         "marker": {
          "color": "blue",
          "size": 0.5
         },
         "mode": "markers",
         "text": "AWS appears with MS SQL Server 5 times",
         "type": "scatter",
         "uid": "7976ef2a-a7a2-4b42-b105-7c9559eb29d7",
         "x": [
          0.8960052327873176
         ],
         "y": [
          -0.08470314526477095
         ]
        },
        {
         "hoverinfo": "text",
         "marker": {
          "color": "green",
          "size": 0.5
         },
         "mode": "markers",
         "text": "PostgreSQL appears with MySQL/MariaDB 35 times",
         "type": "scatter",
         "uid": "7e708e8d-ccd8-4394-8ffa-be3e03260d82",
         "x": [
          -0.6075113383252068
         ],
         "y": [
          0.6640255821926714
         ]
        },
        {
         "hoverinfo": "text",
         "marker": {
          "color": "blue",
          "size": 0.5
         },
         "mode": "markers",
         "text": "MySQL/MariaDB appears with PostgreSQL 35 times",
         "type": "scatter",
         "uid": "3c31033a-4373-4698-ad6b-2507baf244f8",
         "x": [
          -0.6874969997215952
         ],
         "y": [
          0.5808165591422175
         ]
        },
        {
         "hoverinfo": "text",
         "marker": {
          "color": "green",
          "size": 0.5
         },
         "mode": "markers",
         "text": "PostgreSQL appears with T-SQL 24 times",
         "type": "scatter",
         "uid": "21b28b89-ddfc-419f-b681-3bd7a38e176a",
         "x": [
          -0.586241062079835
         ],
         "y": [
          0.6828773075242046
         ]
        },
        {
         "hoverinfo": "text",
         "marker": {
          "color": "blue",
          "size": 0.5
         },
         "mode": "markers",
         "text": "T-SQL appears with PostgreSQL 24 times",
         "type": "scatter",
         "uid": "cd62ae9e-bf17-46c1-8ad7-7628fb52eae9",
         "x": [
          -0.7527960301283182
         ],
         "y": [
          0.49325260974782914
         ]
        },
        {
         "hoverinfo": "text",
         "marker": {
          "color": "green",
          "size": 0.5
         },
         "mode": "markers",
         "text": "PostgreSQL appears with Pentaho 28 times",
         "type": "scatter",
         "uid": "002332d5-5cf5-4f4c-8b3e-cbf7188dcae2",
         "x": [
          -0.6013975835591531
         ],
         "y": [
          0.6695677310692412
         ]
        },
        {
         "hoverinfo": "text",
         "marker": {
          "color": "blue",
          "size": 0.5
         },
         "mode": "markers",
         "text": "Pentaho appears with PostgreSQL 28 times",
         "type": "scatter",
         "uid": "b6d91d38-2d51-47a3-b858-da7ff2617e63",
         "x": [
          -0.8919598852795864
         ],
         "y": [
          0.12003150858015262
         ]
        },
        {
         "hoverinfo": "text",
         "marker": {
          "color": "green",
          "size": 0.5
         },
         "mode": "markers",
         "text": "PostgreSQL appears with Hadoop 3 times",
         "type": "scatter",
         "uid": "928222aa-22e5-4484-bca4-6482ff643e31",
         "x": [
          -0.5692696543786688
         ],
         "y": [
          0.6970882731789361
         ]
        },
        {
         "hoverinfo": "text",
         "marker": {
          "color": "blue",
          "size": 0.5
         },
         "mode": "markers",
         "text": "Hadoop appears with PostgreSQL 3 times",
         "type": "scatter",
         "uid": "9d47bb68-21f2-4fa8-adb0-1b0d6a463e6d",
         "x": [
          -0.8979883960483819
         ],
         "y": [
          0.060140174280212795
         ]
        },
        {
         "hoverinfo": "text",
         "marker": {
          "color": "green",
          "size": 0.5
         },
         "mode": "markers",
         "text": "PostgreSQL appears with Spark 5 times",
         "type": "scatter",
         "uid": "4ae9cf75-b4a9-4224-b603-52214c586a3c",
         "x": [
          -0.5700808809379819
         ],
         "y": [
          0.696425006148526
         ]
        },
        {
         "hoverinfo": "text",
         "marker": {
          "color": "blue",
          "size": 0.5
         },
         "mode": "markers",
         "text": "Spark appears with PostgreSQL 5 times",
         "type": "scatter",
         "uid": "5f856c30-0e87-4652-a9d6-6fed82fdc37b",
         "x": [
          -0.8928044589219393
         ],
         "y": [
          -0.11357903912739907
         ]
        },
        {
         "hoverinfo": "text",
         "marker": {
          "color": "green",
          "size": 0.5
         },
         "mode": "markers",
         "text": "PostgreSQL appears with Qlik 6 times",
         "type": "scatter",
         "uid": "9c21ad97-9a38-425a-8ae5-4535b5cc7812",
         "x": [
          -0.5722066710613868
         ],
         "y": [
          0.6946794408882747
         ]
        },
        {
         "hoverinfo": "text",
         "marker": {
          "color": "blue",
          "size": 0.5
         },
         "mode": "markers",
         "text": "Qlik appears with PostgreSQL 6 times",
         "type": "scatter",
         "uid": "3e880685-3f78-4457-94cf-466b96b26d5e",
         "x": [
          -0.7787313373515334
         ],
         "y": [
          -0.45119563852800304
         ]
        },
        {
         "hoverinfo": "text",
         "marker": {
          "color": "green",
          "size": 0.5
         },
         "mode": "markers",
         "text": "PostgreSQL appears with Tableau 5 times",
         "type": "scatter",
         "uid": "83e089ce-51fc-4674-ac41-4de4459607e6",
         "x": [
          -0.5710938272801113
         ],
         "y": [
          0.6955945948917045
         ]
        },
        {
         "hoverinfo": "text",
         "marker": {
          "color": "blue",
          "size": 0.5
         },
         "mode": "markers",
         "text": "Tableau appears with PostgreSQL 5 times",
         "type": "scatter",
         "uid": "75e9da6a-6070-490d-a6d7-fe06690cc68f",
         "x": [
          -0.5178293258688794
         ],
         "y": [
          -0.7361065067435432
         ]
        },
        {
         "hoverinfo": "text",
         "marker": {
          "color": "green",
          "size": 0.5
         },
         "mode": "markers",
         "text": "PostgreSQL appears with Oracle BI 12 times",
         "type": "scatter",
         "uid": "40124384-3d53-452f-8978-3d20e4b5409d",
         "x": [
          -0.5762409924531368
         ],
         "y": [
          0.6913366174423454
         ]
        },
        {
         "hoverinfo": "text",
         "marker": {
          "color": "blue",
          "size": 0.5
         },
         "mode": "markers",
         "text": "Oracle BI appears with PostgreSQL 12 times",
         "type": "scatter",
         "uid": "d60b9b6f-2e28-4937-a015-7eff9634b6f5",
         "x": [
          0.013274250272925866
         ],
         "y": [
          -0.8999021026087737
         ]
        },
        {
         "hoverinfo": "text",
         "marker": {
          "color": "green",
          "size": 0.5
         },
         "mode": "markers",
         "text": "PostgreSQL appears with Python 12 times",
         "type": "scatter",
         "uid": "b04c17fa-5ca1-4c56-b19f-5c70ebe4438b",
         "x": [
          -0.5786522204162969
         ],
         "y": [
          0.6893196702599523
         ]
        },
        {
         "hoverinfo": "text",
         "marker": {
          "color": "blue",
          "size": 0.5
         },
         "mode": "markers",
         "text": "Python appears with PostgreSQL 12 times",
         "type": "scatter",
         "uid": "d4d35249-8211-4ae0-8fe4-1094736f2136",
         "x": [
          0.5719558767050631
         ],
         "y": [
          -0.6948859439523459
         ]
        },
        {
         "hoverinfo": "text",
         "marker": {
          "color": "green",
          "size": 0.5
         },
         "mode": "markers",
         "text": "PostgreSQL appears with Linux 20 times",
         "type": "scatter",
         "uid": "b22daf3c-e91c-4a78-9294-042826730808",
         "x": [
          -0.5818562043215928
         ],
         "y": [
          0.6866173297350343
         ]
        },
        {
         "hoverinfo": "text",
         "marker": {
          "color": "blue",
          "size": 0.5
         },
         "mode": "markers",
         "text": "Linux appears with PostgreSQL 20 times",
         "type": "scatter",
         "uid": "ab39274c-4d55-4c90-bd07-674e8190ca5a",
         "x": [
          0.876857253636592
         ],
         "y": [
          -0.20278401501324875
         ]
        },
        {
         "hoverinfo": "text",
         "marker": {
          "color": "green",
          "size": 0.5
         },
         "mode": "markers",
         "text": "MySQL/MariaDB appears with T-SQL 29 times",
         "type": "scatter",
         "uid": "1565ebcc-9285-48d2-b5e4-76ca8faabcd6",
         "x": [
          -0.6674307075377423
         ],
         "y": [
          0.6037683749880154
         ]
        },
        {
         "hoverinfo": "text",
         "marker": {
          "color": "blue",
          "size": 0.5
         },
         "mode": "markers",
         "text": "T-SQL appears with MySQL/MariaDB 29 times",
         "type": "scatter",
         "uid": "16528b7e-8c3d-4c5c-ad18-43ad43098767",
         "x": [
          -0.7681388467088264
         ],
         "y": [
          0.46900182534488505
         ]
        },
        {
         "hoverinfo": "text",
         "marker": {
          "color": "green",
          "size": 0.5
         },
         "mode": "markers",
         "text": "MySQL/MariaDB appears with Pentaho 41 times",
         "type": "scatter",
         "uid": "84d1d2ca-823a-4da0-aacd-0bfc0761348e",
         "x": [
          -0.6953038909447967
         ],
         "y": [
          0.5714477222257749
         ]
        },
        {
         "hoverinfo": "text",
         "marker": {
          "color": "blue",
          "size": 0.5
         },
         "mode": "markers",
         "text": "Pentaho appears with MySQL/MariaDB 41 times",
         "type": "scatter",
         "uid": "622a6c78-ff6a-4780-a2ec-7c778f88ba8b",
         "x": [
          -0.8933393979645071
         ],
         "y": [
          0.10929190292245841
         ]
        },
        {
         "hoverinfo": "text",
         "marker": {
          "color": "green",
          "size": 0.5
         },
         "mode": "markers",
         "text": "MySQL/MariaDB appears with Hadoop 3 times",
         "type": "scatter",
         "uid": "8149fee6-a3f0-4d97-a150-ca3865dfa20b",
         "x": [
          -0.6321444953048033
         ],
         "y": [
          0.6406194947516315
         ]
        },
        {
         "hoverinfo": "text",
         "marker": {
          "color": "blue",
          "size": 0.5
         },
         "mode": "markers",
         "text": "Hadoop appears with MySQL/MariaDB 3 times",
         "type": "scatter",
         "uid": "f3e0dba4-5375-475b-a2b9-09051dcde109",
         "x": [
          -0.8980541026228324
         ],
         "y": [
          0.05915089823746787
         ]
        },
        {
         "hoverinfo": "text",
         "marker": {
          "color": "green",
          "size": 0.5
         },
         "mode": "markers",
         "text": "MySQL/MariaDB appears with Spark 18 times",
         "type": "scatter",
         "uid": "6c0480f3-a679-4592-8871-98cc027bd5d0",
         "x": [
          -0.6379434182626472
         ],
         "y": [
          0.6348450165948923
         ]
        },
        {
         "hoverinfo": "text",
         "marker": {
          "color": "blue",
          "size": 0.5
         },
         "mode": "markers",
         "text": "Spark appears with MySQL/MariaDB 18 times",
         "type": "scatter",
         "uid": "9fe9bf99-64c4-49a8-82df-83f1e0302dc9",
         "x": [
          -0.8887819950946889
         ],
         "y": [
          -0.14165650424708529
         ]
        },
        {
         "hoverinfo": "text",
         "marker": {
          "color": "green",
          "size": 0.5
         },
         "mode": "markers",
         "text": "MySQL/MariaDB appears with Informatica 1 times",
         "type": "scatter",
         "uid": "68a7a581-a80e-4d1f-97e5-8710d59d1305",
         "x": [
          -0.6316874611253043
         ],
         "y": [
          0.6410701611033438
         ]
        },
        {
         "hoverinfo": "text",
         "marker": {
          "color": "blue",
          "size": 0.5
         },
         "mode": "markers",
         "text": "Informatica appears with MySQL/MariaDB 1 times",
         "type": "scatter",
         "uid": "cf006c6b-044c-44c8-9ce2-9872b0250915",
         "x": [
          -0.8510330505621563
         ],
         "y": [
          -0.2928186244945333
         ]
        },
        {
         "hoverinfo": "text",
         "marker": {
          "color": "green",
          "size": 0.5
         },
         "mode": "markers",
         "text": "MySQL/MariaDB appears with Qlik 10 times",
         "type": "scatter",
         "uid": "5d588cb7-f0ec-4c86-a227-1f61b9cc9dc6",
         "x": [
          -0.6347661952079592
         ],
         "y": [
          0.6380218471347286
         ]
        },
        {
         "hoverinfo": "text",
         "marker": {
          "color": "blue",
          "size": 0.5
         },
         "mode": "markers",
         "text": "Qlik appears with MySQL/MariaDB 10 times",
         "type": "scatter",
         "uid": "373872fb-7f38-4957-8c2f-dcae195f038a",
         "x": [
          -0.7742815233982885
         ],
         "y": [
          -0.45878984570718834
         ]
        },
        {
         "hoverinfo": "text",
         "marker": {
          "color": "green",
          "size": 0.5
         },
         "mode": "markers",
         "text": "MySQL/MariaDB appears with Tableau 26 times",
         "type": "scatter",
         "uid": "1d698500-5d60-41ec-b909-3541b84e4825",
         "x": [
          -0.6429040446099468
         ],
         "y": [
          0.6298209185349211
         ]
        },
        {
         "hoverinfo": "text",
         "marker": {
          "color": "blue",
          "size": 0.5
         },
         "mode": "markers",
         "text": "Tableau appears with MySQL/MariaDB 26 times",
         "type": "scatter",
         "uid": "ee82353e-8015-4ce2-87df-fd5cd2b14138",
         "x": [
          -0.4873889573840317
         ],
         "y": [
          -0.7566055803522114
         ]
        },
        {
         "hoverinfo": "text",
         "marker": {
          "color": "green",
          "size": 0.5
         },
         "mode": "markers",
         "text": "MySQL/MariaDB appears with Oracle BI 30 times",
         "type": "scatter",
         "uid": "d456f375-a081-4515-b4f0-5d1fbd2075ba",
         "x": [
          -0.6737448977558478
         ],
         "y": [
          0.5967141801130272
         ]
        },
        {
         "hoverinfo": "text",
         "marker": {
          "color": "blue",
          "size": 0.5
         },
         "mode": "markers",
         "text": "Oracle BI appears with MySQL/MariaDB 30 times",
         "type": "scatter",
         "uid": "ae3ce28f-10af-4b35-b466-9c3a25ea2cda",
         "x": [
          0.05845176739778055
         ],
         "y": [
          -0.8980998780136181
         ]
        },
        {
         "hoverinfo": "text",
         "marker": {
          "color": "green",
          "size": 0.5
         },
         "mode": "markers",
         "text": "MySQL/MariaDB appears with Python 29 times",
         "type": "scatter",
         "uid": "54551824-cb0c-48ab-b235-fc1ce3f3d308",
         "x": [
          -0.6611515460251737
         ],
         "y": [
          0.6106378903970197
         ]
        },
        {
         "hoverinfo": "text",
         "marker": {
          "color": "blue",
          "size": 0.5
         },
         "mode": "markers",
         "text": "Python appears with MySQL/MariaDB 29 times",
         "type": "scatter",
         "uid": "529d107f-aab2-4c2b-8f91-ae0dc35bf219",
         "x": [
          0.5941769747314318
         ],
         "y": [
          -0.675983522505544
         ]
        },
        {
         "hoverinfo": "text",
         "marker": {
          "color": "green",
          "size": 0.5
         },
         "mode": "markers",
         "text": "MySQL/MariaDB appears with VBA 1 times",
         "type": "scatter",
         "uid": "a8e1e3c1-e57c-4d40-ae2e-d020e41c68d5",
         "x": [
          -0.631458823538217
         ],
         "y": [
          0.6412953720211388
         ]
        },
        {
         "hoverinfo": "text",
         "marker": {
          "color": "blue",
          "size": 0.5
         },
         "mode": "markers",
         "text": "VBA appears with MySQL/MariaDB 1 times",
         "type": "scatter",
         "uid": "1c257eee-18eb-4e47-98d6-f9df9e5013c3",
         "x": [
          0.8100356997842955
         ],
         "y": [
          -0.3922271855378803
         ]
        },
        {
         "hoverinfo": "text",
         "marker": {
          "color": "green",
          "size": 0.5
         },
         "mode": "markers",
         "text": "MySQL/MariaDB appears with Linux 27 times",
         "type": "scatter",
         "uid": "122fdd3b-f562-4ca9-a64d-a9e203bc293d",
         "x": [
          -0.6488267839575381
         ],
         "y": [
          0.6237177281585944
         ]
        },
        {
         "hoverinfo": "text",
         "marker": {
          "color": "blue",
          "size": 0.5
         },
         "mode": "markers",
         "text": "Linux appears with MySQL/MariaDB 27 times",
         "type": "scatter",
         "uid": "bf9c4b98-27a1-46a7-881a-1910ccf7ae4b",
         "x": [
          0.8818497084288766
         ],
         "y": [
          -0.179836291509543
         ]
        },
        {
         "hoverinfo": "text",
         "marker": {
          "color": "green",
          "size": 0.5
         },
         "mode": "markers",
         "text": "T-SQL appears with PL/SQL 17 times",
         "type": "scatter",
         "uid": "583a17f8-1a4a-4f05-9873-083fcb4b9bee",
         "x": [
          -0.7409628815461139
         ],
         "y": [
          0.5108561521317714
         ]
        },
        {
         "hoverinfo": "text",
         "marker": {
          "color": "blue",
          "size": 0.5
         },
         "mode": "markers",
         "text": "PL/SQL appears with T-SQL 17 times",
         "type": "scatter",
         "uid": "80affe3d-eeb8-447d-95fb-044e81fd39b7",
         "x": [
          -0.8638242279047695
         ],
         "y": [
          0.2526018671441856
         ]
        },
        {
         "hoverinfo": "text",
         "marker": {
          "color": "green",
          "size": 0.5
         },
         "mode": "markers",
         "text": "T-SQL appears with Pentaho 26 times",
         "type": "scatter",
         "uid": "e005380d-c231-4601-b8e9-175b14fd4d77",
         "x": [
          -0.7576435598442837
         ],
         "y": [
          0.48577385296707903
         ]
        },
        {
         "hoverinfo": "text",
         "marker": {
          "color": "blue",
          "size": 0.5
         },
         "mode": "markers",
         "text": "Pentaho appears with T-SQL 26 times",
         "type": "scatter",
         "uid": "50d6552d-6bab-404b-b44d-74a6af7671f3",
         "x": [
          -0.8895415429559854
         ],
         "y": [
          0.13680586009190082
         ]
        },
        {
         "hoverinfo": "text",
         "marker": {
          "color": "green",
          "size": 0.5
         },
         "mode": "markers",
         "text": "T-SQL appears with Hadoop 14 times",
         "type": "scatter",
         "uid": "7df4f413-ed94-4d6d-bf96-ddabc413fd59",
         "x": [
          -0.7378124537492368
         ],
         "y": [
          0.5153957538557439
         ]
        },
        {
         "hoverinfo": "text",
         "marker": {
          "color": "blue",
          "size": 0.5
         },
         "mode": "markers",
         "text": "Hadoop appears with T-SQL 14 times",
         "type": "scatter",
         "uid": "0f0062fb-d91c-404d-8f18-c76df308dddf",
         "x": [
          -0.8988843392286733
         ],
         "y": [
          0.04479893625334735
         ]
        },
        {
         "hoverinfo": "text",
         "marker": {
          "color": "green",
          "size": 0.5
         },
         "mode": "markers",
         "text": "T-SQL appears with Spark 14 times",
         "type": "scatter",
         "uid": "56b0c910-230d-4760-af95-bd60ae355994",
         "x": [
          -0.7349429976984002
         ],
         "y": [
          0.5194793452429937
         ]
        },
        {
         "hoverinfo": "text",
         "marker": {
          "color": "blue",
          "size": 0.5
         },
         "mode": "markers",
         "text": "Spark appears with T-SQL 14 times",
         "type": "scatter",
         "uid": "ae529f8f-32e8-41ba-a612-1fb9a98e1bf9",
         "x": [
          -0.8918649582521988
         ],
         "y": [
          -0.12073481785219953
         ]
        },
        {
         "hoverinfo": "text",
         "marker": {
          "color": "green",
          "size": 0.5
         },
         "mode": "markers",
         "text": "T-SQL appears with Informatica 9 times",
         "type": "scatter",
         "uid": "fa28ba5c-1200-48ea-a39e-aae53722c184",
         "x": [
          -0.7325690328232634
         ],
         "y": [
          0.5228217785712341
         ]
        },
        {
         "hoverinfo": "text",
         "marker": {
          "color": "blue",
          "size": 0.5
         },
         "mode": "markers",
         "text": "Informatica appears with T-SQL 9 times",
         "type": "scatter",
         "uid": "377f5f20-2909-43ac-b581-4b37b810bf82",
         "x": [
          -0.8478680896252837
         ],
         "y": [
          -0.30186040249620666
         ]
        },
        {
         "hoverinfo": "text",
         "marker": {
          "color": "green",
          "size": 0.5
         },
         "mode": "markers",
         "text": "T-SQL appears with Qlik 38 times",
         "type": "scatter",
         "uid": "2f669fb3-c494-459f-bace-a8203149be6c",
         "x": [
          -0.7742944963297588
         ],
         "y": [
          0.4587679510966794
         ]
        },
        {
         "hoverinfo": "text",
         "marker": {
          "color": "blue",
          "size": 0.5
         },
         "mode": "markers",
         "text": "Qlik appears with T-SQL 38 times",
         "type": "scatter",
         "uid": "bf7073d0-d958-4f8c-b2a9-7d88b7e661c3",
         "x": [
          -0.7468623975242179
         ],
         "y": [
          -0.5021917553727632
         ]
        },
        {
         "hoverinfo": "text",
         "marker": {
          "color": "green",
          "size": 0.5
         },
         "mode": "markers",
         "text": "T-SQL appears with Tableau 52 times",
         "type": "scatter",
         "uid": "0c3533eb-a1b7-4546-8a85-176f0c7f87f0",
         "x": [
          -0.7891276914946281
         ],
         "y": [
          0.43275568917850055
         ]
        },
        {
         "hoverinfo": "text",
         "marker": {
          "color": "blue",
          "size": 0.5
         },
         "mode": "markers",
         "text": "Tableau appears with T-SQL 52 times",
         "type": "scatter",
         "uid": "969ce55d-ff00-4a93-9351-9b9866b52b31",
         "x": [
          -0.4165511857992351
         ],
         "y": [
          -0.7978001689704328
         ]
        },
        {
         "hoverinfo": "text",
         "marker": {
          "color": "green",
          "size": 0.5
         },
         "mode": "markers",
         "text": "T-SQL appears with Microstrategy 6 times",
         "type": "scatter",
         "uid": "5db402fa-badd-48c8-b16f-b000deca712f",
         "x": [
          -0.7310126022662419
         ],
         "y": [
          0.524995786009695
         ]
        },
        {
         "hoverinfo": "text",
         "marker": {
          "color": "blue",
          "size": 0.5
         },
         "mode": "markers",
         "text": "Microstrategy appears with T-SQL 6 times",
         "type": "scatter",
         "uid": "2451cb31-b823-43bc-b18e-c906c9d19f27",
         "x": [
          -0.05775591291047511
         ],
         "y": [
          -0.898144896174263
         ]
        },
        {
         "hoverinfo": "text",
         "marker": {
          "color": "green",
          "size": 0.5
         },
         "mode": "markers",
         "text": "T-SQL appears with Oracle BI 68 times",
         "type": "scatter",
         "uid": "6e469e40-c5a1-4d74-bd96-29821b92f751",
         "x": [
          -0.799188920041414
         ],
         "y": [
          0.41388050217790934
         ]
        },
        {
         "hoverinfo": "text",
         "marker": {
          "color": "blue",
          "size": 0.5
         },
         "mode": "markers",
         "text": "Oracle BI appears with T-SQL 68 times",
         "type": "scatter",
         "uid": "0a5857c0-3440-434f-99df-02eb06b82def",
         "x": [
          0.1512231300190121
         ],
         "y": [
          -0.8872043535439019
         ]
        },
        {
         "hoverinfo": "text",
         "marker": {
          "color": "green",
          "size": 0.5
         },
         "mode": "markers",
         "text": "T-SQL appears with Python 39 times",
         "type": "scatter",
         "uid": "f5417f01-87f0-40d6-83ef-76cd2297ae85",
         "x": [
          -0.781200455157026
         ],
         "y": [
          0.4469069801003957
         ]
        },
        {
         "hoverinfo": "text",
         "marker": {
          "color": "blue",
          "size": 0.5
         },
         "mode": "markers",
         "text": "Python appears with T-SQL 39 times",
         "type": "scatter",
         "uid": "47ba25fc-2f0b-4933-990a-f2f2b5243740",
         "x": [
          0.6124203363341235
         ],
         "y": [
          -0.6595008200483143
         ]
        },
        {
         "hoverinfo": "text",
         "marker": {
          "color": "green",
          "size": 0.5
         },
         "mode": "markers",
         "text": "T-SQL appears with VBA 21 times",
         "type": "scatter",
         "uid": "f35fc105-cbe6-4707-aaf7-cefb15c6327b",
         "x": [
          -0.7483701229001583
         ],
         "y": [
          0.49994215580445117
         ]
        },
        {
         "hoverinfo": "text",
         "marker": {
          "color": "blue",
          "size": 0.5
         },
         "mode": "markers",
         "text": "VBA appears with T-SQL 21 times",
         "type": "scatter",
         "uid": "812cdc90-4f4e-4878-a75c-ceb9380fe316",
         "x": [
          0.8182637740797749
         ],
         "y": [
          -0.37475911733902234
         ]
        },
        {
         "hoverinfo": "text",
         "marker": {
          "color": "green",
          "size": 0.5
         },
         "mode": "markers",
         "text": "T-SQL appears with Linux 18 times",
         "type": "scatter",
         "uid": "f40d5972-0669-43d3-9266-5ac66f8554b3",
         "x": [
          -0.7444862407768585
         ],
         "y": [
          0.5057076599122673
         ]
        },
        {
         "hoverinfo": "text",
         "marker": {
          "color": "blue",
          "size": 0.5
         },
         "mode": "markers",
         "text": "Linux appears with T-SQL 18 times",
         "type": "scatter",
         "uid": "0daf09c2-37b1-443c-bb90-d4a116da79a8",
         "x": [
          0.8754883160918173
         ],
         "y": [
          -0.20861497641999308
         ]
        },
        {
         "hoverinfo": "text",
         "marker": {
          "color": "green",
          "size": 0.5
         },
         "mode": "markers",
         "text": "T-SQL appears with AWS 6 times",
         "type": "scatter",
         "uid": "fef9e49d-2160-4b8a-bb9a-52227c5713a1",
         "x": [
          -0.7297628119580211
         ],
         "y": [
          0.5267316568074506
         ]
        },
        {
         "hoverinfo": "text",
         "marker": {
          "color": "blue",
          "size": 0.5
         },
         "mode": "markers",
         "text": "AWS appears with T-SQL 6 times",
         "type": "scatter",
         "uid": "35b0ef74-9aad-42d4-bafc-d370a630bcf7",
         "x": [
          0.8961424489781434
         ],
         "y": [
          -0.08323887997477963
         ]
        },
        {
         "hoverinfo": "text",
         "marker": {
          "color": "green",
          "size": 0.5
         },
         "mode": "markers",
         "text": "PL/SQL appears with Pentaho 6 times",
         "type": "scatter",
         "uid": "04787052-ed94-4b4c-8aa6-31a78e1f8b7c",
         "x": [
          -0.8593025389304807
         ],
         "y": [
          0.2675801685245558
         ]
        },
        {
         "hoverinfo": "text",
         "marker": {
          "color": "blue",
          "size": 0.5
         },
         "mode": "markers",
         "text": "Pentaho appears with PL/SQL 6 times",
         "type": "scatter",
         "uid": "2517e642-d6d2-45ad-96d3-7aba2bf45afd",
         "x": [
          -0.878938784536677
         ],
         "y": [
          0.19356294334709045
         ]
        },
        {
         "hoverinfo": "text",
         "marker": {
          "color": "green",
          "size": 0.5
         },
         "mode": "markers",
         "text": "PL/SQL appears with Hadoop 3 times",
         "type": "scatter",
         "uid": "a4141e71-c32f-4a13-9804-89d82cb5a63e",
         "x": [
          -0.8585924705051444
         ],
         "y": [
          0.26984990196750597
         ]
        },
        {
         "hoverinfo": "text",
         "marker": {
          "color": "blue",
          "size": 0.5
         },
         "mode": "markers",
         "text": "Hadoop appears with PL/SQL 3 times",
         "type": "scatter",
         "uid": "e262ae7c-03bf-4ec1-bdfd-f20a14eddb12",
         "x": [
          -0.8981187193538118
         ],
         "y": [
          0.05816155041149736
         ]
        },
        {
         "hoverinfo": "text",
         "marker": {
          "color": "green",
          "size": 0.5
         },
         "mode": "markers",
         "text": "PL/SQL appears with Informatica 12 times",
         "type": "scatter",
         "uid": "a72f6568-a5b5-4817-bdf9-3e37f7f1e426",
         "x": [
          -0.861794637310323
         ],
         "y": [
          0.2594417142696387
         ]
        },
        {
         "hoverinfo": "text",
         "marker": {
          "color": "blue",
          "size": 0.5
         },
         "mode": "markers",
         "text": "Informatica appears with PL/SQL 12 times",
         "type": "scatter",
         "uid": "091c0fb2-e331-458c-9565-fcf0c509480d",
         "x": [
          -0.8454596241896898
         ],
         "y": [
          -0.30854177004909505
         ]
        },
        {
         "hoverinfo": "text",
         "marker": {
          "color": "green",
          "size": 0.5
         },
         "mode": "markers",
         "text": "PL/SQL appears with Qlik 8 times",
         "type": "scatter",
         "uid": "3bec3255-fcf0-42ee-a872-717ab651d2ce",
         "x": [
          -0.8602644873048323
         ],
         "y": [
          0.2644711929155122
         ]
        },
        {
         "hoverinfo": "text",
         "marker": {
          "color": "blue",
          "size": 0.5
         },
         "mode": "markers",
         "text": "Qlik appears with PL/SQL 8 times",
         "type": "scatter",
         "uid": "9b644ae3-302a-45ac-bf4b-421549540636",
         "x": [
          -0.7774411500540344
         ],
         "y": [
          -0.453415105838635
         ]
        },
        {
         "hoverinfo": "text",
         "marker": {
          "color": "green",
          "size": 0.5
         },
         "mode": "markers",
         "text": "PL/SQL appears with Tableau 11 times",
         "type": "scatter",
         "uid": "c8542567-34ae-484b-877a-372cb2f50696",
         "x": [
          -0.8609603369001041
         ],
         "y": [
          0.262197060023295
         ]
        },
        {
         "hoverinfo": "text",
         "marker": {
          "color": "blue",
          "size": 0.5
         },
         "mode": "markers",
         "text": "Tableau appears with PL/SQL 11 times",
         "type": "scatter",
         "uid": "ff4f5ef2-9a63-4a45-a43e-a98922db7c1c",
         "x": [
          -0.5129419516136154
         ],
         "y": [
          -0.7395204894219061
         ]
        },
        {
         "hoverinfo": "text",
         "marker": {
          "color": "green",
          "size": 0.5
         },
         "mode": "markers",
         "text": "PL/SQL appears with Microstrategy 14 times",
         "type": "scatter",
         "uid": "d76d055e-27a5-422d-9a9b-5bdf8bed668a",
         "x": [
          -0.8627271408525977
         ],
         "y": [
          0.2563237804736465
         ]
        },
        {
         "hoverinfo": "text",
         "marker": {
          "color": "blue",
          "size": 0.5
         },
         "mode": "markers",
         "text": "Microstrategy appears with PL/SQL 14 times",
         "type": "scatter",
         "uid": "0f3af26d-3184-49fd-bc45-cd55eeae7bcd",
         "x": [
          -0.043061777947845596
         ],
         "y": [
          -0.8989692337783148
         ]
        },
        {
         "hoverinfo": "text",
         "marker": {
          "color": "green",
          "size": 0.5
         },
         "mode": "markers",
         "text": "PL/SQL appears with Oracle BI 53 times",
         "type": "scatter",
         "uid": "a72ff934-ebb8-414b-acc7-5ba18df84cdc",
         "x": [
          -0.8698122328110759
         ],
         "y": [
          0.2311421200305362
         ]
        },
        {
         "hoverinfo": "text",
         "marker": {
          "color": "blue",
          "size": 0.5
         },
         "mode": "markers",
         "text": "Oracle BI appears with PL/SQL 53 times",
         "type": "scatter",
         "uid": "5dffa145-69cf-4066-ba78-b3c189b5b65f",
         "x": [
          0.10516601754680992
         ],
         "y": [
          -0.893834497406172
         ]
        },
        {
         "hoverinfo": "text",
         "marker": {
          "color": "green",
          "size": 0.5
         },
         "mode": "markers",
         "text": "PL/SQL appears with Python 2 times",
         "type": "scatter",
         "uid": "bccbaa41-1cf4-419e-a420-952f47e628a6",
         "x": [
          -0.8581786377563535
         ],
         "y": [
          0.27116309796624133
         ]
        },
        {
         "hoverinfo": "text",
         "marker": {
          "color": "blue",
          "size": 0.5
         },
         "mode": "markers",
         "text": "Python appears with PL/SQL 2 times",
         "type": "scatter",
         "uid": "1480b103-0dd3-4a07-a598-a5cd5de55c0e",
         "x": [
          0.5674102981464234
         ],
         "y": [
          -0.6986025719659117
         ]
        },
        {
         "hoverinfo": "text",
         "marker": {
          "color": "green",
          "size": 0.5
         },
         "mode": "markers",
         "text": "PL/SQL appears with VBA 5 times",
         "type": "scatter",
         "uid": "fa2709a5-a4bf-46d0-8d32-65e374671051",
         "x": [
          -0.8588921776868417
         ],
         "y": [
          0.2688944534726494
         ]
        },
        {
         "hoverinfo": "text",
         "marker": {
          "color": "blue",
          "size": 0.5
         },
         "mode": "markers",
         "text": "VBA appears with PL/SQL 5 times",
         "type": "scatter",
         "uid": "ef64ca78-8f52-423f-bcf1-34c093418867",
         "x": [
          0.8110486040698938
         ],
         "y": [
          -0.39012839147680184
         ]
        },
        {
         "hoverinfo": "text",
         "marker": {
          "color": "green",
          "size": 0.5
         },
         "mode": "markers",
         "text": "PL/SQL appears with Linux 1 times",
         "type": "scatter",
         "uid": "52584168-d238-4455-959d-a7bf2e6b8c1f",
         "x": [
          -0.8580654256559751
         ],
         "y": [
          0.2715211323153875
         ]
        },
        {
         "hoverinfo": "text",
         "marker": {
          "color": "blue",
          "size": 0.5
         },
         "mode": "markers",
         "text": "Linux appears with PL/SQL 1 times",
         "type": "scatter",
         "uid": "243eb2a9-7b8f-4e40-9300-03bcb4857d9e",
         "x": [
          0.8715829675545852
         ],
         "y": [
          -0.22437274938981122
         ]
        },
        {
         "hoverinfo": "text",
         "marker": {
          "color": "green",
          "size": 0.5
         },
         "mode": "markers",
         "text": "Pentaho appears with Spark 6 times",
         "type": "scatter",
         "uid": "bd51d9a2-19ca-403b-a003-216e317a5916",
         "x": [
          -0.8785318595524798
         ],
         "y": [
          0.19540156537566916
         ]
        },
        {
         "hoverinfo": "text",
         "marker": {
          "color": "blue",
          "size": 0.5
         },
         "mode": "markers",
         "text": "Spark appears with Pentaho 6 times",
         "type": "scatter",
         "uid": "6a3f7c62-ff7f-4e07-9a80-f815d98a3557",
         "x": [
          -0.892309073198355
         ],
         "y": [
          -0.11740748650700628
         ]
        },
        {
         "hoverinfo": "text",
         "marker": {
          "color": "green",
          "size": 0.5
         },
         "mode": "markers",
         "text": "Pentaho appears with Informatica 20 times",
         "type": "scatter",
         "uid": "c631d003-6e6a-4b7a-a0be-01214d72f82e",
         "x": [
          -0.8831001341350672
         ],
         "y": [
          0.17359191539535013
         ]
        },
        {
         "hoverinfo": "text",
         "marker": {
          "color": "blue",
          "size": 0.5
         },
         "mode": "markers",
         "text": "Informatica appears with Pentaho 20 times",
         "type": "scatter",
         "uid": "23608d56-046f-4f83-9b43-ca2c56113337",
         "x": [
          -0.8418943078394852
         ],
         "y": [
          -0.3181414377717468
         ]
        },
        {
         "hoverinfo": "text",
         "marker": {
          "color": "green",
          "size": 0.5
         },
         "mode": "markers",
         "text": "Pentaho appears with Qlik 16 times",
         "type": "scatter",
         "uid": "f83c4915-8353-48b5-a3f7-a371df8ec8e4",
         "x": [
          -0.8808513119633913
         ],
         "y": [
          0.18466446927433625
         ]
        },
        {
         "hoverinfo": "text",
         "marker": {
          "color": "blue",
          "size": 0.5
         },
         "mode": "markers",
         "text": "Qlik appears with Pentaho 16 times",
         "type": "scatter",
         "uid": "c05e2885-4f24-49bb-bd63-cbc132770dee",
         "x": [
          -0.7691869834938948
         ],
         "y": [
          -0.4672808410619495
         ]
        },
        {
         "hoverinfo": "text",
         "marker": {
          "color": "green",
          "size": 0.5
         },
         "mode": "markers",
         "text": "Pentaho appears with Tableau 23 times",
         "type": "scatter",
         "uid": "bbf29319-f9ea-4288-9e49-a12b403f16fa",
         "x": [
          -0.8843768210813342
         ],
         "y": [
          0.16696597957091083
         ]
        },
        {
         "hoverinfo": "text",
         "marker": {
          "color": "blue",
          "size": 0.5
         },
         "mode": "markers",
         "text": "Tableau appears with Pentaho 23 times",
         "type": "scatter",
         "uid": "4015b7e6-8e61-461f-8a97-850aeff4f39d",
         "x": [
          -0.495038129454022
         ],
         "y": [
          -0.7516230773377458
         ]
        },
        {
         "hoverinfo": "text",
         "marker": {
          "color": "green",
          "size": 0.5
         },
         "mode": "markers",
         "text": "Pentaho appears with Microstrategy 2 times",
         "type": "scatter",
         "uid": "0877a926-2c5f-4a90-b675-1507c1ab6da1",
         "x": [
          -0.878258439371121
         ],
         "y": [
          0.19662683863959918
         ]
        },
        {
         "hoverinfo": "text",
         "marker": {
          "color": "blue",
          "size": 0.5
         },
         "mode": "markers",
         "text": "Microstrategy appears with Pentaho 2 times",
         "type": "scatter",
         "uid": "9831a6c9-2021-42dd-9d8a-c1fb7bd18673",
         "x": [
          -0.060124591120530174
         ],
         "y": [
          -0.8979894395495912
         ]
        },
        {
         "hoverinfo": "text",
         "marker": {
          "color": "green",
          "size": 0.5
         },
         "mode": "markers",
         "text": "Pentaho appears with Oracle BI 25 times",
         "type": "scatter",
         "uid": "de960380-8b7b-4938-8435-b8a2921bf878",
         "x": [
          -0.8882898443233966
         ],
         "y": [
          0.14471058175515614
         ]
        },
        {
         "hoverinfo": "text",
         "marker": {
          "color": "blue",
          "size": 0.5
         },
         "mode": "markers",
         "text": "Oracle BI appears with Pentaho 25 times",
         "type": "scatter",
         "uid": "9ce56e4b-d4b2-4a77-afad-1b5ec6baf921",
         "x": [
          0.03719210514859752
         ],
         "y": [
          -0.8992311979210996
         ]
        },
        {
         "hoverinfo": "text",
         "marker": {
          "color": "green",
          "size": 0.5
         },
         "mode": "markers",
         "text": "Pentaho appears with Python 23 times",
         "type": "scatter",
         "uid": "c191327e-7ab1-4417-b447-c70a477d7202",
         "x": [
          -0.8856875398663331
         ],
         "y": [
          0.15986738793613478
         ]
        },
        {
         "hoverinfo": "text",
         "marker": {
          "color": "blue",
          "size": 0.5
         },
         "mode": "markers",
         "text": "Python appears with Pentaho 23 times",
         "type": "scatter",
         "uid": "3b12dba3-c160-4df0-a4ec-70f534f2ae6b",
         "x": [
          0.5869772750508078
         ],
         "y": [
          -0.6822445885266724
         ]
        },
        {
         "hoverinfo": "text",
         "marker": {
          "color": "green",
          "size": 0.5
         },
         "mode": "markers",
         "text": "Pentaho appears with VBA 1 times",
         "type": "scatter",
         "uid": "ddd67952-e134-4a7b-8b27-d778e3792454",
         "x": [
          -0.878155466207245
         ],
         "y": [
          0.19708621760624512
         ]
        },
        {
         "hoverinfo": "text",
         "marker": {
          "color": "blue",
          "size": 0.5
         },
         "mode": "markers",
         "text": "VBA appears with Pentaho 1 times",
         "type": "scatter",
         "uid": "14ca2e6c-21e1-41f5-9f10-df5b35e8b9f9",
         "x": [
          0.8101807330747642
         ],
         "y": [
          -0.3919275184960067
         ]
        },
        {
         "hoverinfo": "text",
         "marker": {
          "color": "green",
          "size": 0.5
         },
         "mode": "markers",
         "text": "Pentaho appears with Linux 25 times",
         "type": "scatter",
         "uid": "94d1d38a-dfef-4358-bdea-06f160b643e1",
         "x": [
          -0.8869944983874161
         ],
         "y": [
          0.15244920409912335
         ]
        },
        {
         "hoverinfo": "text",
         "marker": {
          "color": "blue",
          "size": 0.5
         },
         "mode": "markers",
         "text": "Linux appears with Pentaho 25 times",
         "type": "scatter",
         "uid": "03bd8690-5ff7-4cb6-83ed-1711941414d6",
         "x": [
          0.87842813436865
         ],
         "y": [
          -0.19586733456503927
         ]
        },
        {
         "hoverinfo": "text",
         "marker": {
          "color": "green",
          "size": 0.5
         },
         "mode": "markers",
         "text": "Pentaho appears with AWS 11 times",
         "type": "scatter",
         "uid": "6f3be8db-32ce-4dcb-8a3e-04eb8ea3c001",
         "x": [
          -0.8799721930813506
         ],
         "y": [
          0.18880926726090125
         ]
        },
        {
         "hoverinfo": "text",
         "marker": {
          "color": "blue",
          "size": 0.5
         },
         "mode": "markers",
         "text": "AWS appears with Pentaho 11 times",
         "type": "scatter",
         "uid": "5cb1f4a3-7a1d-4880-ac15-a47392dc02a7",
         "x": [
          0.896349803494143
         ],
         "y": [
          -0.08097548873586086
         ]
        },
        {
         "hoverinfo": "text",
         "marker": {
          "color": "green",
          "size": 0.5
         },
         "mode": "markers",
         "text": "Hadoop appears with Spark 77 times",
         "type": "scatter",
         "uid": "33f29391-b230-461b-a543-3ffc26038496",
         "x": [
          -0.8990385438736844
         ],
         "y": [
          -0.041589621655952716
         ]
        },
        {
         "hoverinfo": "text",
         "marker": {
          "color": "blue",
          "size": 0.5
         },
         "mode": "markers",
         "text": "Spark appears with Hadoop 77 times",
         "type": "scatter",
         "uid": "d2b0e04b-1cc6-4eae-a0c0-075a42af11eb",
         "x": [
          -0.8721884779502326
         ],
         "y": [
          -0.2220073398130268
         ]
        },
        {
         "hoverinfo": "text",
         "marker": {
          "color": "green",
          "size": 0.5
         },
         "mode": "markers",
         "text": "Hadoop appears with Informatica 4 times",
         "type": "scatter",
         "uid": "0b51b9f2-7d8d-4c9c-ac2b-22295416095d",
         "x": [
          -0.8981927279943586
         ],
         "y": [
          0.05700722215695341
         ]
        },
        {
         "hoverinfo": "text",
         "marker": {
          "color": "blue",
          "size": 0.5
         },
         "mode": "markers",
         "text": "Informatica appears with Hadoop 4 times",
         "type": "scatter",
         "uid": "97a58fa6-cd0d-416a-b619-0d535c2f7f38",
         "x": [
          -0.8502237555116009
         ],
         "y": [
          -0.29516023709800326
         ]
        },
        {
         "hoverinfo": "text",
         "marker": {
          "color": "green",
          "size": 0.5
         },
         "mode": "markers",
         "text": "Hadoop appears with Qlik 8 times",
         "type": "scatter",
         "uid": "3a21532a-417d-463f-b8cb-ba3ac4ab0fa7",
         "x": [
          -0.8984352077201074
         ],
         "y": [
          0.053048822125731115
         ]
        },
        {
         "hoverinfo": "text",
         "marker": {
          "color": "blue",
          "size": 0.5
         },
         "mode": "markers",
         "text": "Qlik appears with Hadoop 8 times",
         "type": "scatter",
         "uid": "01367056-8d8c-4776-af9e-7393f73fde07",
         "x": [
          -0.7759589051433908
         ],
         "y": [
          -0.4559471214172431
         ]
        },
        {
         "hoverinfo": "text",
         "marker": {
          "color": "green",
          "size": 0.5
         },
         "mode": "markers",
         "text": "Hadoop appears with Tableau 29 times",
         "type": "scatter",
         "uid": "797e4f34-43cd-4748-84d0-fcf0e8cd7fed",
         "x": [
          -0.8999586307707304
         ],
         "y": [
          0.008629188911609074
         ]
        },
        {
         "hoverinfo": "text",
         "marker": {
          "color": "blue",
          "size": 0.5
         },
         "mode": "markers",
         "text": "Tableau appears with Hadoop 29 times",
         "type": "scatter",
         "uid": "84040909-d2be-4f61-8a21-25bc9f9298d8",
         "x": [
          -0.4695591882739211
         ],
         "y": [
          -0.7677982604223171
         ]
        },
        {
         "hoverinfo": "text",
         "marker": {
          "color": "green",
          "size": 0.5
         },
         "mode": "markers",
         "text": "Hadoop appears with Microstrategy 3 times",
         "type": "scatter",
         "uid": "b09bfffa-c7cd-486f-a83d-1147204e0cb6",
         "x": [
          -0.8979215997101994
         ],
         "y": [
          0.06112937733918524
         ]
        },
        {
         "hoverinfo": "text",
         "marker": {
          "color": "blue",
          "size": 0.5
         },
         "mode": "markers",
         "text": "Microstrategy appears with Hadoop 3 times",
         "type": "scatter",
         "uid": "55102314-b73a-4c70-a19a-ea84ce46d712",
         "x": [
          -0.05882186881113535
         ],
         "y": [
          -0.8980757138179195
         ]
        },
        {
         "hoverinfo": "text",
         "marker": {
          "color": "green",
          "size": 0.5
         },
         "mode": "markers",
         "text": "Hadoop appears with Oracle BI 23 times",
         "type": "scatter",
         "uid": "616e1b3f-e4d7-48cc-b2c5-dd1fc3c49998",
         "x": [
          -0.8996298080353818
         ],
         "y": [
          0.02581101497853171
         ]
        },
        {
         "hoverinfo": "text",
         "marker": {
          "color": "blue",
          "size": 0.5
         },
         "mode": "markers",
         "text": "Oracle BI appears with Hadoop 23 times",
         "type": "scatter",
         "uid": "ac887a46-b542-46a0-b909-469ea730a0fc",
         "x": [
          0.028154463655221333
         ],
         "y": [
          -0.8995595178620961
         ]
        },
        {
         "hoverinfo": "text",
         "marker": {
          "color": "green",
          "size": 0.5
         },
         "mode": "markers",
         "text": "Hadoop appears with Python 85 times",
         "type": "scatter",
         "uid": "49c35fc3-f8de-4d7c-9842-0aad3c86c06d",
         "x": [
          -0.8974040440245487
         ],
         "y": [
          -0.06830799198033902
         ]
        },
        {
         "hoverinfo": "text",
         "marker": {
          "color": "blue",
          "size": 0.5
         },
         "mode": "markers",
         "text": "Python appears with Hadoop 85 times",
         "type": "scatter",
         "uid": "220b4ce2-86e2-4f3d-8f1b-5b02aae82f1d",
         "x": [
          0.7131756400745025
         ],
         "y": [
          -0.5489813352057825
         ]
        },
        {
         "hoverinfo": "text",
         "marker": {
          "color": "green",
          "size": 0.5
         },
         "mode": "markers",
         "text": "Hadoop appears with VBA 6 times",
         "type": "scatter",
         "uid": "3635b6c9-9f02-47fa-8a84-09f00d501baa",
         "x": [
          -0.8982958809552918
         ],
         "y": [
          0.05535801892008291
         ]
        },
        {
         "hoverinfo": "text",
         "marker": {
          "color": "blue",
          "size": 0.5
         },
         "mode": "markers",
         "text": "VBA appears with Hadoop 6 times",
         "type": "scatter",
         "uid": "69de219f-ccd1-4690-b8e9-a9539c9e1f17",
         "x": [
          0.8135570590199268
         ],
         "y": [
          -0.38486999326895743
         ]
        },
        {
         "hoverinfo": "text",
         "marker": {
          "color": "green",
          "size": 0.5
         },
         "mode": "markers",
         "text": "Hadoop appears with Linux 49 times",
         "type": "scatter",
         "uid": "ba893012-dcca-4a84-8b4f-76c74fbe3a4b",
         "x": [
          -0.8999899198937522
         ],
         "y": [
          -0.004259587965689304
         ]
        },
        {
         "hoverinfo": "text",
         "marker": {
          "color": "blue",
          "size": 0.5
         },
         "mode": "markers",
         "text": "Linux appears with Hadoop 49 times",
         "type": "scatter",
         "uid": "a458cdec-1277-4a74-84b6-82e851aa2d6d",
         "x": [
          0.8862691598557121
         ],
         "y": [
          -0.15661090731060334
         ]
        },
        {
         "hoverinfo": "text",
         "marker": {
          "color": "green",
          "size": 0.5
         },
         "mode": "markers",
         "text": "Hadoop appears with AWS 19 times",
         "type": "scatter",
         "uid": "8caa9324-7984-4fdd-972f-52c9ac4c6d8e",
         "x": [
          -0.8991392706072734
         ],
         "y": [
          0.03935190023137896
         ]
        },
        {
         "hoverinfo": "text",
         "marker": {
          "color": "blue",
          "size": 0.5
         },
         "mode": "markers",
         "text": "AWS appears with Hadoop 19 times",
         "type": "scatter",
         "uid": "8ae37829-5a6e-4ec9-a76a-cbd281092ad5",
         "x": [
          0.8981603539748944
         ],
         "y": [
          -0.05751502888543531
         ]
        },
        {
         "hoverinfo": "text",
         "marker": {
          "color": "green",
          "size": 0.5
         },
         "mode": "markers",
         "text": "Spark appears with Informatica 4 times",
         "type": "scatter",
         "uid": "330fb5c7-99cd-46bf-b814-cada42b8eda1",
         "x": [
          -0.8929938346921824
         ],
         "y": [
          -0.11208037830838692
         ]
        },
        {
         "hoverinfo": "text",
         "marker": {
          "color": "blue",
          "size": 0.5
         },
         "mode": "markers",
         "text": "Informatica appears with Spark 4 times",
         "type": "scatter",
         "uid": "53073ca5-8461-4657-a5a9-6f1f2bcf31cb",
         "x": [
          -0.8497894966541515
         ],
         "y": [
          -0.2964081837201594
         ]
        },
        {
         "hoverinfo": "text",
         "marker": {
          "color": "green",
          "size": 0.5
         },
         "mode": "markers",
         "text": "Spark appears with Qlik 14 times",
         "type": "scatter",
         "uid": "d4aaf17e-407f-40b8-b6d9-b262f56f23f2",
         "x": [
          -0.8912223545776816
         ],
         "y": [
          -0.12539024962497375
         ]
        },
        {
         "hoverinfo": "text",
         "marker": {
          "color": "blue",
          "size": 0.5
         },
         "mode": "markers",
         "text": "Qlik appears with Spark 14 times",
         "type": "scatter",
         "uid": "a3119c5d-2c21-4241-a696-a5a7dd650a50",
         "x": [
          -0.7720288183504962
         ],
         "y": [
          -0.46257053909251133
         ]
        },
        {
         "hoverinfo": "text",
         "marker": {
          "color": "green",
          "size": 0.5
         },
         "mode": "markers",
         "text": "Spark appears with Tableau 29 times",
         "type": "scatter",
         "uid": "4fd325c5-d83a-4fc5-af0b-609db3a60b6b",
         "x": [
          -0.8851172597873406
         ],
         "y": [
          -0.1629952036918558
         ]
        },
        {
         "hoverinfo": "text",
         "marker": {
          "color": "blue",
          "size": 0.5
         },
         "mode": "markers",
         "text": "Tableau appears with Spark 29 times",
         "type": "scatter",
         "uid": "0b162b13-b027-4d37-b3fe-246ae37b111f",
         "x": [
          -0.47874346040955534
         ],
         "y": [
          -0.7621054383187963
         ]
        },
        {
         "hoverinfo": "text",
         "marker": {
          "color": "green",
          "size": 0.5
         },
         "mode": "markers",
         "text": "Spark appears with Microstrategy 3 times",
         "type": "scatter",
         "uid": "c2d3fa95-e988-409a-948c-2f13038856b8",
         "x": [
          -0.8931393877708732
         ],
         "y": [
          -0.11091453472052144
         ]
        },
        {
         "hoverinfo": "text",
         "marker": {
          "color": "blue",
          "size": 0.5
         },
         "mode": "markers",
         "text": "Microstrategy appears with Spark 3 times",
         "type": "scatter",
         "uid": "a234c980-dcfd-43d4-9127-932cd1307e32",
         "x": [
          -0.059532460136233874
         ],
         "y": [
          -0.8980288893961751
         ]
        },
        {
         "hoverinfo": "text",
         "marker": {
          "color": "green",
          "size": 0.5
         },
         "mode": "markers",
         "text": "Spark appears with Oracle BI 22 times",
         "type": "scatter",
         "uid": "cad88916-e5dc-482e-8bb1-0dcd24c0a298",
         "x": [
          -0.8866274585160338
         ],
         "y": [
          -0.1545695629980201
         ]
        },
        {
         "hoverinfo": "text",
         "marker": {
          "color": "blue",
          "size": 0.5
         },
         "mode": "markers",
         "text": "Oracle BI appears with Spark 22 times",
         "type": "scatter",
         "uid": "9b1c27ee-4f53-4bea-8389-10a006d57c20",
         "x": [
          0.01967907565134691
         ],
         "y": [
          -0.8997848264899273
         ]
        },
        {
         "hoverinfo": "text",
         "marker": {
          "color": "green",
          "size": 0.5
         },
         "mode": "markers",
         "text": "Spark appears with Python 97 times",
         "type": "scatter",
         "uid": "dcb0aa89-f55e-4d9a-bfe9-e701a5b2eba5",
         "x": [
          -0.8645265690854543
         ],
         "y": [
          -0.2501875523389069
         ]
        },
        {
         "hoverinfo": "text",
         "marker": {
          "color": "blue",
          "size": 0.5
         },
         "mode": "markers",
         "text": "Python appears with Spark 97 times",
         "type": "scatter",
         "uid": "c59b7832-9e57-4622-b0c8-99011e66aa5f",
         "x": [
          0.7531233333048135
         ],
         "y": [
          -0.4927527217903996
         ]
        },
        {
         "hoverinfo": "text",
         "marker": {
          "color": "green",
          "size": 0.5
         },
         "mode": "markers",
         "text": "Spark appears with VBA 6 times",
         "type": "scatter",
         "uid": "6037c5b3-84bf-43c3-b5e8-3c68ab2d64b9",
         "x": [
          -0.8925695841124746
         ],
         "y": [
          -0.11541030074167646
         ]
        },
        {
         "hoverinfo": "text",
         "marker": {
          "color": "blue",
          "size": 0.5
         },
         "mode": "markers",
         "text": "VBA appears with Spark 6 times",
         "type": "scatter",
         "uid": "ce0cb193-8011-4bc2-8284-c9dc4d188d14",
         "x": [
          0.8127008526378012
         ],
         "y": [
          -0.38667470064873777
         ]
        },
        {
         "hoverinfo": "text",
         "marker": {
          "color": "green",
          "size": 0.5
         },
         "mode": "markers",
         "text": "Spark appears with Linux 37 times",
         "type": "scatter",
         "uid": "98e71e4e-f99d-4d1f-a46b-c08ea404b2cc",
         "x": [
          -0.8806990175992813
         ],
         "y": [
          -0.18538942903968628
         ]
        },
        {
         "hoverinfo": "text",
         "marker": {
          "color": "blue",
          "size": 0.5
         },
         "mode": "markers",
         "text": "Linux appears with Spark 37 times",
         "type": "scatter",
         "uid": "ba90f2b0-5064-4e37-b913-1b5283becd64",
         "x": [
          0.8838099581305046
         ],
         "y": [
          -0.16994104245106822
         ]
        },
        {
         "hoverinfo": "text",
         "marker": {
          "color": "green",
          "size": 0.5
         },
         "mode": "markers",
         "text": "Spark appears with AWS 17 times",
         "type": "scatter",
         "uid": "5d2f55b0-3f55-420a-8c93-224f877bb70b",
         "x": [
          -0.8896876748394776
         ],
         "y": [
          -0.13585227726734664
         ]
        },
        {
         "hoverinfo": "text",
         "marker": {
          "color": "blue",
          "size": 0.5
         },
         "mode": "markers",
         "text": "AWS appears with Spark 17 times",
         "type": "scatter",
         "uid": "4f6cdfa8-da5e-4b8a-aca6-0b0de77616b6",
         "x": [
          0.897493818130658
         ],
         "y": [
          -0.06711815266567908
         ]
        },
        {
         "hoverinfo": "text",
         "marker": {
          "color": "green",
          "size": 0.5
         },
         "mode": "markers",
         "text": "Informatica appears with Qlik 65 times",
         "type": "scatter",
         "uid": "088f36fe-9284-4ea5-a849-056b89ce2fbd",
         "x": [
          -0.8226436402872904
         ],
         "y": [
          -0.3650444371509793
         ]
        },
        {
         "hoverinfo": "text",
         "marker": {
          "color": "blue",
          "size": 0.5
         },
         "mode": "markers",
         "text": "Qlik appears with Informatica 65 times",
         "type": "scatter",
         "uid": "907ac69a-f34f-4377-a612-653f2c1efbdf",
         "x": [
          -0.7269749304946385
         ],
         "y": [
          -0.5305727569639396
         ]
        },
        {
         "hoverinfo": "text",
         "marker": {
          "color": "green",
          "size": 0.5
         },
         "mode": "markers",
         "text": "Informatica appears with Tableau 36 times",
         "type": "scatter",
         "uid": "4fa925e4-8779-4727-9185-0cddb69934f5",
         "x": [
          -0.8346844869006326
         ],
         "y": [
          -0.33660333825948274
         ]
        },
        {
         "hoverinfo": "text",
         "marker": {
          "color": "blue",
          "size": 0.5
         },
         "mode": "markers",
         "text": "Tableau appears with Informatica 36 times",
         "type": "scatter",
         "uid": "20620e26-e699-44d8-ab66-26daa81bec5d",
         "x": [
          -0.4591861012301047
         ],
         "y": [
          -0.7740465906113766
         ]
        },
        {
         "hoverinfo": "text",
         "marker": {
          "color": "green",
          "size": 0.5
         },
         "mode": "markers",
         "text": "Informatica appears with Microstrategy 6 times",
         "type": "scatter",
         "uid": "59235894-d7d1-412b-b9c8-9814d05e06dc",
         "x": [
          -0.8486958378032659
         ],
         "y": [
          -0.29952524917845
         ]
        },
        {
         "hoverinfo": "text",
         "marker": {
          "color": "blue",
          "size": 0.5
         },
         "mode": "markers",
         "text": "Microstrategy appears with Informatica 6 times",
         "type": "scatter",
         "uid": "35abf9f7-8506-4238-98e1-8ef14fe0087f",
         "x": [
          -0.05633451207451311
         ],
         "y": [
          -0.8982351711825398
         ]
        },
        {
         "hoverinfo": "text",
         "marker": {
          "color": "green",
          "size": 0.5
         },
         "mode": "markers",
         "text": "Informatica appears with Oracle BI 88 times",
         "type": "scatter",
         "uid": "d94eb5bc-f356-4761-a7d8-33e7087920a8",
         "x": [
          -0.8004806015770259
         ],
         "y": [
          -0.4113767209005424
         ]
        },
        {
         "hoverinfo": "text",
         "marker": {
          "color": "blue",
          "size": 0.5
         },
         "mode": "markers",
         "text": "Oracle BI appears with Informatica 88 times",
         "type": "scatter",
         "uid": "7dccfcd5-8233-4291-a6f3-da184eada1d9",
         "x": [
          0.23691732061535306
         ],
         "y": [
          -0.8682569799272805
         ]
        },
        {
         "hoverinfo": "text",
         "marker": {
          "color": "green",
          "size": 0.5
         },
         "mode": "markers",
         "text": "Informatica appears with Python 15 times",
         "type": "scatter",
         "uid": "f2965615-84d8-4e1a-b8ba-b69fa8bf749d",
         "x": [
          -0.8439204137825287
         ],
         "y": [
          -0.31272725369101695
         ]
        },
        {
         "hoverinfo": "text",
         "marker": {
          "color": "blue",
          "size": 0.5
         },
         "mode": "markers",
         "text": "Python appears with Informatica 15 times",
         "type": "scatter",
         "uid": "c7224d64-8236-44d6-a24b-f067c7a4ee6c",
         "x": [
          0.5757722809878503
         ],
         "y": [
          -0.6917270274075229
         ]
        },
        {
         "hoverinfo": "text",
         "marker": {
          "color": "green",
          "size": 0.5
         },
         "mode": "markers",
         "text": "Informatica appears with VBA 3 times",
         "type": "scatter",
         "uid": "d8c9e637-7cbf-4936-a2db-8242cb3a2e3f",
         "x": [
          -0.8506022286950607
         ],
         "y": [
          -0.2940677618151905
         ]
        },
        {
         "hoverinfo": "text",
         "marker": {
          "color": "blue",
          "size": 0.5
         },
         "mode": "markers",
         "text": "VBA appears with Informatica 3 times",
         "type": "scatter",
         "uid": "b4e1dd25-ddf6-4386-a573-2514e1e70ba9",
         "x": [
          0.8104704670567059
         ],
         "y": [
          -0.391328023567039
         ]
        },
        {
         "hoverinfo": "text",
         "marker": {
          "color": "green",
          "size": 0.5
         },
         "mode": "markers",
         "text": "Informatica appears with Linux 2 times",
         "type": "scatter",
         "uid": "0ecfed7f-7fca-427c-8b4a-8c9171bc190f",
         "x": [
          -0.8508717072807301
         ],
         "y": [
          -0.2932871250995779
         ]
        },
        {
         "hoverinfo": "text",
         "marker": {
          "color": "blue",
          "size": 0.5
         },
         "mode": "markers",
         "text": "Linux appears with Informatica 2 times",
         "type": "scatter",
         "uid": "7338ef5a-124c-4680-8263-90a3891614cc",
         "x": [
          0.8718573762891337
         ],
         "y": [
          -0.22330408731196086
         ]
        },
        {
         "hoverinfo": "text",
         "marker": {
          "color": "green",
          "size": 0.5
         },
         "mode": "markers",
         "text": "Informatica appears with AWS 11 times",
         "type": "scatter",
         "uid": "6a673d2b-bf67-4b94-8aab-d338033f938f",
         "x": [
          -0.8467544319272334
         ],
         "y": [
          -0.30497037890849055
         ]
        },
        {
         "hoverinfo": "text",
         "marker": {
          "color": "blue",
          "size": 0.5
         },
         "mode": "markers",
         "text": "AWS appears with Informatica 11 times",
         "type": "scatter",
         "uid": "1855e2fc-3299-41ba-9e3c-4cdbe54b4d11",
         "x": [
          0.8966096584847552
         ],
         "y": [
          -0.07804562967809658
         ]
        },
        {
         "hoverinfo": "text",
         "marker": {
          "color": "green",
          "size": 0.5
         },
         "mode": "markers",
         "text": "Qlik appears with Tableau 196 times",
         "type": "scatter",
         "uid": "08d20b6b-c828-4ad2-8e2b-249c2c9bcf91",
         "x": [
          -0.6342383857833502
         ],
         "y": [
          -0.6385465292356777
         ]
        },
        {
         "hoverinfo": "text",
         "marker": {
          "color": "blue",
          "size": 0.5
         },
         "mode": "markers",
         "text": "Tableau appears with Qlik 196 times",
         "type": "scatter",
         "uid": "a69dc31d-cff2-4f1d-895f-ed4bc0563a8f",
         "x": [
          -0.29417122093415365
         ],
         "y": [
          -0.8505664540611212
         ]
        },
        {
         "hoverinfo": "text",
         "marker": {
          "color": "green",
          "size": 0.5
         },
         "mode": "markers",
         "text": "Qlik appears with Microstrategy 17 times",
         "type": "scatter",
         "uid": "e46221e3-0de6-4d03-9802-23b3847e9e2e",
         "x": [
          -0.7660277767351547
         ],
         "y": [
          -0.4724420020173864
         ]
        },
        {
         "hoverinfo": "text",
         "marker": {
          "color": "blue",
          "size": 0.5
         },
         "mode": "markers",
         "text": "Microstrategy appears with Qlik 17 times",
         "type": "scatter",
         "uid": "723dfadb-85be-40e4-b715-38f93ced0e62",
         "x": [
          -0.039386291443445104
         ],
         "y": [
          -0.8991377647759725
         ]
        },
        {
         "hoverinfo": "text",
         "marker": {
          "color": "green",
          "size": 0.5
         },
         "mode": "markers",
         "text": "Qlik appears with Oracle BI 169 times",
         "type": "scatter",
         "uid": "78e0438e-5f65-48cc-8d31-187aab2bf179",
         "x": [
          -0.6799289470590436
         ],
         "y": [
          -0.5896580593455671
         ]
        },
        {
         "hoverinfo": "text",
         "marker": {
          "color": "blue",
          "size": 0.5
         },
         "mode": "markers",
         "text": "Oracle BI appears with Qlik 169 times",
         "type": "scatter",
         "uid": "931e77fc-2aa5-499b-b946-5175cb9779b5",
         "x": [
          0.3324735246260731
         ],
         "y": [
          -0.8363380628805053
         ]
        },
        {
         "hoverinfo": "text",
         "marker": {
          "color": "green",
          "size": 0.5
         },
         "mode": "markers",
         "text": "Qlik appears with Python 21 times",
         "type": "scatter",
         "uid": "92df383f-55f3-4ab0-85e7-60eefa7b1b67",
         "x": [
          -0.7623470129863176
         ],
         "y": [
          -0.4783586852883926
         ]
        },
        {
         "hoverinfo": "text",
         "marker": {
          "color": "blue",
          "size": 0.5
         },
         "mode": "markers",
         "text": "Python appears with Qlik 21 times",
         "type": "scatter",
         "uid": "c9290df3-97b2-440a-a27a-928481042d8a",
         "x": [
          0.5808336612846656
         ],
         "y": [
          -0.6874825509921326
         ]
        },
        {
         "hoverinfo": "text",
         "marker": {
          "color": "green",
          "size": 0.5
         },
         "mode": "markers",
         "text": "Qlik appears with VBA 23 times",
         "type": "scatter",
         "uid": "2b411934-a424-4680-8940-7f07b6848183",
         "x": [
          -0.7580279990348031
         ],
         "y": [
          -0.4851737345315515
         ]
        },
        {
         "hoverinfo": "text",
         "marker": {
          "color": "blue",
          "size": 0.5
         },
         "mode": "markers",
         "text": "VBA appears with Qlik 23 times",
         "type": "scatter",
         "uid": "398d194f-df1c-453e-bb4b-37ce17533800",
         "x": [
          0.8212864411110291
         ],
         "y": [
          -0.3680877363444484
         ]
        },
        {
         "hoverinfo": "text",
         "marker": {
          "color": "green",
          "size": 0.5
         },
         "mode": "markers",
         "text": "Qlik appears with Linux 2 times",
         "type": "scatter",
         "uid": "acc16f3a-bd03-4dd9-b8f8-dc1b6ffbbd5c",
         "x": [
          -0.7794657430830326
         ],
         "y": [
          -0.4499257220475574
         ]
        },
        {
         "hoverinfo": "text",
         "marker": {
          "color": "blue",
          "size": 0.5
         },
         "mode": "markers",
         "text": "Linux appears with Qlik 2 times",
         "type": "scatter",
         "uid": "c0bb9fe0-398c-477c-a088-4b9e46434895",
         "x": [
          0.8717007317168786
         ],
         "y": [
          -0.2239147925534588
         ]
        },
        {
         "hoverinfo": "text",
         "marker": {
          "color": "green",
          "size": 0.5
         },
         "mode": "markers",
         "text": "Qlik appears with AWS 2 times",
         "type": "scatter",
         "uid": "9927b76a-63c7-498e-99a0-69eec52827e8",
         "x": [
          -0.7798321694773777
         ],
         "y": [
          -0.44929031532874875
         ]
        },
        {
         "hoverinfo": "text",
         "marker": {
          "color": "blue",
          "size": 0.5
         },
         "mode": "markers",
         "text": "AWS appears with Qlik 2 times",
         "type": "scatter",
         "uid": "46a52a6e-6dad-46b9-8f7a-6da3fdb4f6a2",
         "x": [
          0.8958399836089544
         ],
         "y": [
          -0.08643334870007194
         ]
        },
        {
         "hoverinfo": "text",
         "marker": {
          "color": "green",
          "size": 0.5
         },
         "mode": "markers",
         "text": "Tableau appears with Microstrategy 23 times",
         "type": "scatter",
         "uid": "9e0780f7-ae5f-4029-9c17-0ba6d480bd64",
         "x": [
          -0.5021726503184325
         ],
         "y": [
          -0.7468752434457587
         ]
        },
        {
         "hoverinfo": "text",
         "marker": {
          "color": "blue",
          "size": 0.5
         },
         "mode": "markers",
         "text": "Microstrategy appears with Tableau 23 times",
         "type": "scatter",
         "uid": "3024e782-6de2-4207-9d7b-976dfd5161b9",
         "x": [
          -0.03464276432442627
         ],
         "y": [
          -0.8993330188978732
         ]
        },
        {
         "hoverinfo": "text",
         "marker": {
          "color": "green",
          "size": 0.5
         },
         "mode": "markers",
         "text": "Tableau appears with Oracle BI 217 times",
         "type": "scatter",
         "uid": "d5d0df34-2f92-49d0-bcc9-b6adf0836220",
         "x": [
          -0.22046841900727274
         ],
         "y": [
          -0.8725787507270811
         ]
        },
        {
         "hoverinfo": "text",
         "marker": {
          "color": "blue",
          "size": 0.5
         },
         "mode": "markers",
         "text": "Oracle BI appears with Tableau 217 times",
         "type": "scatter",
         "uid": "6e7fab6d-00a6-4370-bc39-0d0ad8ba551a",
         "x": [
          0.3988967562135344
         ],
         "y": [
          -0.8067721970186629
         ]
        },
        {
         "hoverinfo": "text",
         "marker": {
          "color": "green",
          "size": 0.5
         },
         "mode": "markers",
         "text": "Tableau appears with Python 63 times",
         "type": "scatter",
         "uid": "2e612206-98e3-4297-8aa6-22dcd63e01b1",
         "x": [
          -0.39744301303089574
         ],
         "y": [
          -0.8074893506374702
         ]
        },
        {
         "hoverinfo": "text",
         "marker": {
          "color": "blue",
          "size": 0.5
         },
         "mode": "markers",
         "text": "Python appears with Tableau 63 times",
         "type": "scatter",
         "uid": "b5386f49-63f0-4735-9c22-72f75dafb134",
         "x": [
          0.677561832448232
         ],
         "y": [
          -0.5923765383684554
         ]
        },
        {
         "hoverinfo": "text",
         "marker": {
          "color": "green",
          "size": 0.5
         },
         "mode": "markers",
         "text": "Tableau appears with VBA 45 times",
         "type": "scatter",
         "uid": "af89fba9-4b07-4c7c-b0f2-efd3bf7a5534",
         "x": [
          -0.4324854308363181
         ],
         "y": [
          -0.789275840320939
         ]
        },
        {
         "hoverinfo": "text",
         "marker": {
          "color": "blue",
          "size": 0.5
         },
         "mode": "markers",
         "text": "VBA appears with Tableau 45 times",
         "type": "scatter",
         "uid": "e68c36d5-5385-4be4-82ec-b3f1ef06e739",
         "x": [
          0.829640693400997
         ],
         "y": [
          -0.3488499962062676
         ]
        },
        {
         "hoverinfo": "text",
         "marker": {
          "color": "green",
          "size": 0.5
         },
         "mode": "markers",
         "text": "Tableau appears with Linux 8 times",
         "type": "scatter",
         "uid": "1bf4d21a-6051-49aa-893f-16688fe9b824",
         "x": [
          -0.5158465583316119
         ],
         "y": [
          -0.7374973411866859
         ]
        },
        {
         "hoverinfo": "text",
         "marker": {
          "color": "blue",
          "size": 0.5
         },
         "mode": "markers",
         "text": "Linux appears with Tableau 8 times",
         "type": "scatter",
         "uid": "4d88f2f3-314d-4173-b6bd-8e33e54eb1ba",
         "x": [
          0.8724796752703141
         ],
         "y": [
          -0.22086017350397788
         ]
        },
        {
         "hoverinfo": "text",
         "marker": {
          "color": "green",
          "size": 0.5
         },
         "mode": "markers",
         "text": "Tableau appears with AWS 18 times",
         "type": "scatter",
         "uid": "dc39f124-ae4c-4816-a0cf-f11d0cf6081a",
         "x": [
          -0.5084933218537296
         ],
         "y": [
          -0.7425863866447858
         ]
        },
        {
         "hoverinfo": "text",
         "marker": {
          "color": "blue",
          "size": 0.5
         },
         "mode": "markers",
         "text": "AWS appears with Tableau 18 times",
         "type": "scatter",
         "uid": "308f0f7f-7fc0-469e-a864-59ab795d5685",
         "x": [
          0.8978306578978128
         ],
         "y": [
          -0.06245085859122112
         ]
        },
        {
         "hoverinfo": "text",
         "marker": {
          "color": "green",
          "size": 0.5
         },
         "mode": "markers",
         "text": "Microstrategy appears with Oracle BI 34 times",
         "type": "scatter",
         "uid": "31ddfb38-c170-4aa7-ac69-12eb0e2e1611",
         "x": [
          -0.02242406403293124
         ],
         "y": [
          -0.8997206018271712
         ]
        },
        {
         "hoverinfo": "text",
         "marker": {
          "color": "blue",
          "size": 0.5
         },
         "mode": "markers",
         "text": "Oracle BI appears with Microstrategy 34 times",
         "type": "scatter",
         "uid": "0ab79122-68f5-47f0-a3b0-034d0b74d67f",
         "x": [
          0.07047889170581041
         ],
         "y": [
          -0.8972361594496293
         ]
        },
        {
         "hoverinfo": "text",
         "marker": {
          "color": "green",
          "size": 0.5
         },
         "mode": "markers",
         "text": "Microstrategy appears with Python 9 times",
         "type": "scatter",
         "uid": "780da0cb-dc5d-4931-8a56-737c44458c0a",
         "x": [
          -0.0531358497868789
         ],
         "y": [
          -0.898430064872846
         ]
        },
        {
         "hoverinfo": "text",
         "marker": {
          "color": "blue",
          "size": 0.5
         },
         "mode": "markers",
         "text": "Python appears with Microstrategy 9 times",
         "type": "scatter",
         "uid": "2da387eb-977c-4cba-acb6-c85f283e7531",
         "x": [
          0.5689755745661367
         ],
         "y": [
          -0.6973283269358378
         ]
        },
        {
         "hoverinfo": "text",
         "marker": {
          "color": "green",
          "size": 0.5
         },
         "mode": "markers",
         "text": "Microstrategy appears with VBA 6 times",
         "type": "scatter",
         "uid": "d06b7d24-89e4-4be6-91ce-413c4fe4f72b",
         "x": [
          -0.054912970156768146
         ],
         "y": [
          -0.8983231966884535
         ]
        },
        {
         "hoverinfo": "text",
         "marker": {
          "color": "blue",
          "size": 0.5
         },
         "mode": "markers",
         "text": "VBA appears with Microstrategy 6 times",
         "type": "scatter",
         "uid": "510bfcbb-8205-4c98-bcfe-12ca2e7487ca",
         "x": [
          0.8118406428931871
         ],
         "y": [
          -0.3884775032698505
         ]
        },
        {
         "hoverinfo": "text",
         "marker": {
          "color": "green",
          "size": 0.5
         },
         "mode": "markers",
         "text": "Microstrategy appears with AWS 2 times",
         "type": "scatter",
         "uid": "d1a06c31-6603-45d3-a91b-06c70641b1b0",
         "x": [
          -0.06059827709863387
         ],
         "y": [
          -0.8979575985605763
         ]
        },
        {
         "hoverinfo": "text",
         "marker": {
          "color": "blue",
          "size": 0.5
         },
         "mode": "markers",
         "text": "AWS appears with Microstrategy 2 times",
         "type": "scatter",
         "uid": "b6885df4-f404-45aa-844d-3d53e3fd4425",
         "x": [
          0.8957884655144326
         ],
         "y": [
          -0.08696565443494508
         ]
        },
        {
         "hoverinfo": "text",
         "marker": {
          "color": "green",
          "size": 0.5
         },
         "mode": "markers",
         "text": "Oracle BI appears with Python 79 times",
         "type": "scatter",
         "uid": "5d119fda-087c-4223-b5f4-d26730517ccc",
         "x": [
          0.20642414773614634
         ],
         "y": [
          -0.8760074607167485
         ]
        },
        {
         "hoverinfo": "text",
         "marker": {
          "color": "blue",
          "size": 0.5
         },
         "mode": "markers",
         "text": "Python appears with Oracle BI 79 times",
         "type": "scatter",
         "uid": "0bde4ec3-75b1-4b19-93ee-144c44d0197b",
         "x": [
          0.694424978245175
         ],
         "y": [
          -0.572515457947808
         ]
        },
        {
         "hoverinfo": "text",
         "marker": {
          "color": "green",
          "size": 0.5
         },
         "mode": "markers",
         "text": "Oracle BI appears with VBA 49 times",
         "type": "scatter",
         "uid": "3762c58c-f36c-4b7c-85a8-449c33e49bee",
         "x": [
          0.08605740817729597
         ],
         "y": [
          -0.8958761758735446
         ]
        },
        {
         "hoverinfo": "text",
         "marker": {
          "color": "blue",
          "size": 0.5
         },
         "mode": "markers",
         "text": "VBA appears with Oracle BI 49 times",
         "type": "scatter",
         "uid": "dd1117e6-c14a-4d2b-b12e-26e5398da214",
         "x": [
          0.8465863761034559
         ],
         "y": [
          -0.305436585555853
         ]
        },
        {
         "hoverinfo": "text",
         "marker": {
          "color": "green",
          "size": 0.5
         },
         "mode": "markers",
         "text": "Oracle BI appears with Linux 3 times",
         "type": "scatter",
         "uid": "db6869c9-d298-4430-9b6e-fe880cb6d664",
         "x": [
          0.010448359012885112
         ],
         "y": [
          -0.8999393489529935
         ]
        },
        {
         "hoverinfo": "text",
         "marker": {
          "color": "blue",
          "size": 0.5
         },
         "mode": "markers",
         "text": "Linux appears with Oracle BI 3 times",
         "type": "scatter",
         "uid": "9253e273-ba29-4397-a4eb-bc9321ca237a",
         "x": [
          0.8720525803254573
         ],
         "y": [
          -0.2225405516927465
         ]
        },
        {
         "hoverinfo": "text",
         "marker": {
          "color": "green",
          "size": 0.5
         },
         "mode": "markers",
         "text": "Oracle BI appears with AWS 29 times",
         "type": "scatter",
         "uid": "7283c6ea-e776-43f4-8242-59ef149747d6",
         "x": [
          0.04735491759450504
         ],
         "y": [
          -0.898753309746127
         ]
        },
        {
         "hoverinfo": "text",
         "marker": {
          "color": "blue",
          "size": 0.5
         },
         "mode": "markers",
         "text": "AWS appears with Oracle BI 29 times",
         "type": "scatter",
         "uid": "ddb8a809-1172-4ee7-a22b-4dff95fee6f1",
         "x": [
          0.8988892238804629
         ],
         "y": [
          -0.04470081869025621
         ]
        },
        {
         "hoverinfo": "text",
         "marker": {
          "color": "green",
          "size": 0.5
         },
         "mode": "markers",
         "text": "Python appears with VBA 46 times",
         "type": "scatter",
         "uid": "a775e778-7d0c-4fe5-a405-f62d4cef1c6b",
         "x": [
          0.62375655368116
         ],
         "y": [
          -0.6487894587150767
         ]
        },
        {
         "hoverinfo": "text",
         "marker": {
          "color": "blue",
          "size": 0.5
         },
         "mode": "markers",
         "text": "VBA appears with Python 46 times",
         "type": "scatter",
         "uid": "c52c69ae-f96e-4ca4-9e3c-cda1a6604e49",
         "x": [
          0.8353943683420726
         ],
         "y": [
          -0.33483764624419043
         ]
        },
        {
         "hoverinfo": "text",
         "marker": {
          "color": "green",
          "size": 0.5
         },
         "mode": "markers",
         "text": "Python appears with Linux 58 times",
         "type": "scatter",
         "uid": "b1014b11-482a-4abf-92ec-9d57ef60f6bb",
         "x": [
          0.6627438863888666
         ],
         "y": [
          -0.6089093044568963
         ]
        },
        {
         "hoverinfo": "text",
         "marker": {
          "color": "blue",
          "size": 0.5
         },
         "mode": "markers",
         "text": "Linux appears with Python 58 times",
         "type": "scatter",
         "uid": "83f325c9-5f78-4eb7-aad1-43e0e99927b1",
         "x": [
          0.8913631051714169
         ],
         "y": [
          -0.1243857497431657
         ]
        },
        {
         "hoverinfo": "text",
         "marker": {
          "color": "green",
          "size": 0.5
         },
         "mode": "markers",
         "text": "Python appears with AWS 47 times",
         "type": "scatter",
         "uid": "1789191e-aa97-4be4-9a2a-06b8237a39a0",
         "x": [
          0.6359450002015375
         ],
         "y": [
          -0.6368468864010143
         ]
        },
        {
         "hoverinfo": "text",
         "marker": {
          "color": "blue",
          "size": 0.5
         },
         "mode": "markers",
         "text": "AWS appears with Python 47 times",
         "type": "scatter",
         "uid": "d3e229f9-4ab7-4bfd-a78d-193edfaeb648",
         "x": [
          0.8993366005059997
         ],
         "y": [
          -0.034549659771290424
         ]
        },
        {
         "hoverinfo": "text",
         "marker": {
          "color": "green",
          "size": 0.5
         },
         "mode": "markers",
         "text": "Linux appears with AWS 13 times",
         "type": "scatter",
         "uid": "1cff4ed4-de58-49ec-a8e4-75c1b7c20677",
         "x": [
          0.8732860456734967
         ],
         "y": [
          -0.21764990795299566
         ]
        },
        {
         "hoverinfo": "text",
         "marker": {
          "color": "blue",
          "size": 0.5
         },
         "mode": "markers",
         "text": "AWS appears with Linux 13 times",
         "type": "scatter",
         "uid": "7c96d036-9ba5-41b2-b584-c8cb48b36f91",
         "x": [
          0.8968822144045687
         ],
         "y": [
          -0.07484847015642516
         ]
        }
       ],
       "layout": {
        "font": {
         "color": "#655643",
         "family": "Fira Sans Condensed",
         "size": 12
        },
        "height": 525,
        "hoverdistance": 40,
        "hovermode": "closest",
        "margin": {
         "b": 10,
         "l": 260,
         "r": 260,
         "t": 80
        },
        "paper_bgcolor": "#fffaf0",
        "plot_bgcolor": "#fffaf0",
        "shapes": [
         {
          "fillcolor": "#f2e6ce",
          "layer": "below",
          "line": {
           "color": "rgb(175,175,175)",
           "width": 0.5
          },
          "path": "M 0.9785741537031529,0.20589469566785365 Q 0.1843918741143427, 0.07745732218841803 0.832054238228861, 0.5546942803431361L 0.832054238228861, 0.5546942803431361 L 0.8477618020224904, 0.5303771554578682 L 0.8627588989336461, 0.5056155479322235 M 0.8627588989336461,0.5056155479322235 Q 0.18456898599496577, 0.07703433915332909 0.9662117308311654, 0.2577496677092785L 0.9662117308311654, 0.2577496677092785 L 0.9727385407715359, 0.23190457368853898 L 0.9785741537031529, 0.20589469566785365 ",
          "type": "path"
         },
         {
          "fillcolor": "#f2e6ce",
          "layer": "below",
          "line": {
           "color": "rgb(175,175,175)",
           "width": 0.5
          },
          "path": "M 0.9942787047351255,0.10681693363058681 Q 0.1407899896894436, 0.14204991659007188 0.09795472507324376, 0.9951908720621513L 0.09795472507324376, 0.9951908720621513 L 0.11400513054009498, 0.9934801609546795 L 0.1300258328767364, 0.9915106064912825 M 0.1300258328767364,0.9915106064912825 Q 0.1409110729678541, 0.14192980488624685 0.990548243449369, 0.1371647819207603L 0.990548243449369, 0.1371647819207603 L 0.9925294713678805, 0.12200511655744502 L 0.9942787047351255, 0.10681693363058681 ",
          "type": "path"
         },
         {
          "fillcolor": "#f2e6ce",
          "layer": "below",
          "line": {
           "color": "rgb(175,175,175)",
           "width": 0.5
          },
          "path": "M 0.9966454579789844,0.08184027791900783 Q 0.09901262896317743, 0.1737713995621839 -0.4377093326898257, 0.8991165330902483L -0.4377093326898257, 0.8991165330902483 L -0.42603014457830446, 0.9047089675197152 L -0.41427952026135817, 0.910149701473345 M -0.41427952026135817,0.910149701473345 Q 0.09908292435531674, 0.17373132734541166 0.9942787047351255, 0.10681693363058681L 0.9942787047351255, 0.10681693363058681 L 0.9955404129177045, 0.09433602836481117 L 0.9966454579789844, 0.08184027791900783 ",
          "type": "path"
         },
         {
          "fillcolor": "#f2e6ce",
          "layer": "below",
          "line": {
           "color": "rgb(175,175,175)",
           "width": 0.5
          },
          "path": "M 0.9999972337850501,0.0023521101691413985 Q 0.07672038129596052, 0.1846997105947988 -0.7040307052091367, 0.7101695333670163L -0.7040307052091367, 0.7101695333670163 L -0.703397332079688, 0.71079687198466 L -0.7027633999496441, 0.7114236457211811 M -0.7027633999496441,0.7114236457211811 Q 0.07670402052731456, 0.1847065056649205 0.9999907024543172, 0.0043121925886039246L 0.9999907024543172, 0.0043121925886039246 L 0.9999944483628516, 0.003332152979125248 L 0.9999972337850501, 0.0023521101691413985 ",
          "type": "path"
         },
         {
          "fillcolor": "#f2e6ce",
          "layer": "below",
          "line": {
           "color": "rgb(175,175,175)",
           "width": 0.5
          },
          "path": "M 0.9994448871374585,0.033315425478188825 Q 0.05147183184570049, 0.19326316391503048 -0.850480506417142, 0.5260065666932702L -0.850480506417142, 0.5260065666932702 L -0.8475504760204339, 0.5307147921412555 L -0.8445943813573806, 0.5354066968011733 M -0.8445943813573806,0.5354066968011733 Q 0.05148289327398469, 0.19326021758276976 0.9990189989086233, 0.04428362925068446L 0.9990189989086233, 0.04428362925068446 L 0.999246992155143, 0.038800111712462025 L 0.9994448871374585, 0.033315425478188825 ",
          "type": "path"
         },
         {
          "fillcolor": "#f2e6ce",
          "layer": "below",
          "line": {
           "color": "rgb(175,175,175)",
           "width": 0.5
          },
          "path": "M 1.0,0.0 Q 0.030375499530000502, 0.19767986500476709 -0.9538664514151469, 0.3002312323271432L -0.9538664514151469, 0.3002312323271432 L -0.9537411028857047, 0.30062918798140637 L -0.9536155883280988, 0.30102709130185284 M -0.9536155883280988,0.30102709130185284 Q 0.030341735765248252, 0.19768505019538493 0.9999993084460234, 0.0011760558978768322L 0.9999993084460234, 0.0011760558978768322 L 0.9999998271114909, 0.0005880280506017091 L 1.0, 0.0 ",
          "type": "path"
         },
         {
          "fillcolor": "#f2e6ce",
          "layer": "below",
          "line": {
           "color": "rgb(175,175,175)",
           "width": 0.5
          },
          "path": "M 0.9999803291935557,0.00627225844077022 Q 0.020663449797185502, 0.1989296907012103 -0.9773427122456597, 0.21166299350688986L -0.9773427122456597, 0.21166299350688986 L -0.9770836417791761, 0.2128557186630011 L -0.9768231157406343, 0.21404812672564885 M -0.9768231157406343,0.21404812672564885 Q 0.02063330607069998, 0.19893281951601857 0.9999593522647338, 0.009016308462679158L 0.9999593522647338, 0.009016308462679158 L 0.9999707819834046, 0.00764429064715606 L 0.9999803291935557, 0.00627225844077022 ",
          "type": "path"
         },
         {
          "fillcolor": "#f2e6ce",
          "layer": "below",
          "line": {
           "color": "rgb(175,175,175)",
           "width": 0.5
          },
          "path": "M 0.9999213175481044,0.012544270120776926 Q 0.0039820384486490895, 0.19996035449506855 -0.998629129778543, 0.052343683073987034L -0.998629129778543, 0.052343683073987034 L -0.9984912845312061, 0.054910424467691364 L -0.9983468420895034, 0.05747680305928717 M -0.9983468420895034,0.05747680305928717 Q 0.003947307239173757, 0.19996104311980265 0.9998374123634116, 0.018031883940319376L 0.9998374123634116, 0.018031883940319376 L 0.9998831296410036, 0.015288134592290144 L 0.9999213175481044, 0.012544270120776926 ",
          "type": "path"
         },
         {
          "fillcolor": "#f2e6ce",
          "layer": "below",
          "line": {
           "color": "rgb(175,175,175)",
           "width": 0.5
          },
          "path": "M 0.9998374123634116,0.018031883940319376 Q -0.01862594153374972, 0.19913079697018576 -0.9858379593521578, -0.16770067948691575L -0.9858379593521578, -0.16770067948691575 L -0.9864259887205739, -0.1642064821395252 L -0.9870016333196894, -0.1607102231479548 M -0.9870016333196894,-0.1607102231479548 Q -0.018661953067168634, 0.19912742530279148 0.9996753713557186, 0.02547845962389L 0.9996753713557186, 0.02547845962389 L 0.9997633249606674, 0.021755322649662713 L 0.9998374123634116, 0.018031883940319376 ",
          "type": "path"
         },
         {
          "fillcolor": "#f2e6ce",
          "layer": "below",
          "line": {
           "color": "rgb(175,175,175)",
           "width": 0.5
          },
          "path": "M 0.9999907024543172,0.0043121925886039246 Q -0.03408171134331888, 0.19707469891366242 -0.9433612629426837, -0.3317672792473434L -0.9433612629426837, -0.3317672792473434 L -0.9436652955681448, -0.3309015109368433 L -0.9439685336362929, -0.33003546401038025 M -0.9439685336362929,-0.33003546401038025 Q -0.03409401786557706, 0.19707257025213254 0.9999803291935557, 0.00627225844077022L 0.9999803291935557, 0.00627225844077022 L 0.9999859960630452, 0.0052922280562575485 L 0.9999907024543172, 0.0043121925886039246 ",
          "type": "path"
         },
         {
          "fillcolor": "#f2e6ce",
          "layer": "below",
          "line": {
           "color": "rgb(175,175,175)",
           "width": 0.5
          },
          "path": "M 0.990548243449369,0.1371647819207603 Q -0.07949988922626511, 0.1835204828159832 -0.7775842239090586, -0.6287787963407697L -0.7775842239090586, -0.6287787963407697 L -0.7888577458317234, -0.6145758348985844 L -0.7998718783821913, -0.6001707908365292 M -0.7998718783821913,-0.6001707908365292 Q -0.07937347782492044, 0.18357519172801337 0.9851607503361287, 0.17163419238938316L 0.9851607503361287, 0.17163419238938316 L 0.9880048289840184, 0.15442298373059773 L 0.990548243449369, 0.1371647819207603 ",
          "type": "path"
         },
         {
          "fillcolor": "#f2e6ce",
          "layer": "below",
          "line": {
           "color": "rgb(175,175,175)",
           "width": 0.5
          },
          "path": "M 0.9851607503361287,0.17163419238938316 Q -0.12651415712552536, 0.1549005101567386 -0.36492156528028286, -0.931038265160669L -0.36492156528028286, -0.931038265160669 L -0.3820114641770692, -0.9241575846344019 L -0.39897170517065245, -0.9169632372528476 M -0.39897170517065245,-0.9169632372528476 Q -0.12636253146672158, 0.1550242259820116 0.9785741537031529, 0.20589469566785365L 0.9785741537031529, 0.20589469566785365 L 0.9820168730000342, 0.1887931702769854 L 0.9851607503361287, 0.17163419238938316 ",
          "type": "path"
         },
         {
          "fillcolor": "#f2e6ce",
          "layer": "below",
          "line": {
           "color": "rgb(175,175,175)",
           "width": 0.5
          },
          "path": "M 0.9999593522647338,0.009016308462679158 Q -0.13809559435381943, 0.14467068403814695 -0.0554850153632631, -0.9984595199957474L -0.0554850153632631, -0.9984595199957474 L -0.0566700349952564, -0.9983929622817042 L -0.057854974796087914, -0.9983249981300398 M -0.057854974796087914,-0.9983249981300398 Q -0.1381790748138119, 0.14459095159656077 0.9999213175481044, 0.012544270120776926L 0.9999213175481044, 0.012544270120776926 L 0.9999418908122245, 0.010780306065843567 L 0.9999593522647338, 0.009016308462679158 ",
          "type": "path"
         },
         {
          "fillcolor": "#f2e6ce",
          "layer": "below",
          "line": {
           "color": "rgb(175,175,175)",
           "width": 0.5
          },
          "path": "M 0.9983625397119322,0.057203490277609986 Q -0.15557926349841794, 0.1256785294682025 0.15397617791067109, -0.9880745602615327L 0.15397617791067109, -0.9880745602615327 L 0.1409318015223108, -0.9900193065388553 L 0.1278629117673667, -0.9917918510425313 M 0.1278629117673667,-0.9917918510425313 Q -0.15547363191126923, 0.12580918003198008 0.9966454579789844, 0.08184027791900783L 0.9966454579789844, 0.08184027791900783 L 0.9975800572079425, 0.06952718505015217 L 0.9983625397119322, 0.057203490277609986 ",
          "type": "path"
         },
         {
          "fillcolor": "#f2e6ce",
          "layer": "below",
          "line": {
           "color": "rgb(175,175,175)",
           "width": 0.5
          },
          "path": "M 0.9990189989086233,0.04428362925068446 Q -0.1847509696119124, 0.07659686173374358 0.6746191734865188, -0.7381659506942638L 0.6746191734865188, -0.7381659506942638 L 0.6696376514968302, -0.742687966576684 L 0.6646258189019397, -0.747176365290636 M 0.6646258189019397,-0.747176365290636 Q -0.18473108111331055, 0.0766448150282032 0.9983625397119322, 0.057203490277609986L 0.9983625397119322, 0.057203490277609986 L 0.9987116617962329, 0.05074462131306934 L 0.9990189989086233, 0.04428362925068446 ",
          "type": "path"
         },
         {
          "fillcolor": "#f2e6ce",
          "layer": "below",
          "line": {
           "color": "rgb(175,175,175)",
           "width": 0.5
          },
          "path": "M 0.9996753713557186,0.02547845962389 Q -0.19585516483609144, 0.04050622676857776 0.9075578011756056, -0.4199271812175297L 0.9075578011756056, -0.4199271812175297 L 0.9059982433578924, -0.4232814465960127 L 0.9044262884791809, -0.42662992008035877 M 0.9044262884791809,-0.42662992008035877 Q -0.19586411550472582, 0.040462924480954565 0.9994448871374585, 0.033315425478188825L 0.9994448871374585, 0.033315425478188825 L 0.9995678098497907, 0.029397168436650977 L 0.9996753713557186, 0.02547845962389 ",
          "type": "path"
         },
         {
          "fillcolor": "#f2e6ce",
          "layer": "below",
          "line": {
           "color": "rgb(175,175,175)",
           "width": 0.5
          },
          "path": "M 0.9999993084460234,0.0011760558978768322 Q -0.19977998173260703, 0.009378640568825291 0.995491189823864, -0.09485405095760299L 0.995491189823864, -0.09485405095760299 L 0.9954488182334347, -0.09529769292935913 L 0.9954062489333807, -0.09574131597370299 M 0.9954062489333807,-0.09574131597370299 Q -0.19978131491952109, 0.009350198341594177 0.9999972337850501, 0.0023521101691413985L 0.9999972337850501, 0.0023521101691413985 L 0.9999984440037768, 0.0017640833384988538 L 0.9999993084460234, 0.0011760558978768322 ",
          "type": "path"
         },
         {
          "fillcolor": "#ecd5bb",
          "layer": "below",
          "line": {
           "color": "rgb(175,175,175)",
           "width": 0.5
          },
          "path": "M 0.5359045003107966,0.8442786071828632 Q 0.031021760188350334, 0.19757947867837006 -0.2513778359780235, 0.967889034744689L -0.2513778359780235, 0.967889034744689 L -0.19084302608830553, 0.9816205679352172 L -0.12957289454340812, 0.991569899200073 M -0.12957289454340812,0.991569899200073 Q 0.03067043989831495, 0.19763431917671548 0.42400019901733943, 0.9056620955043092L 0.42400019901733943, 0.9056620955043092 L 0.4809326783528927, 0.8767575257118202 L 0.5359045003107966, 0.8442786071828632 ",
          "type": "path"
         },
         {
          "fillcolor": "#ecd5bb",
          "layer": "below",
          "line": {
           "color": "rgb(175,175,175)",
           "width": 0.5
          },
          "path": "M 0.7962487803190149,0.6049693214043842 Q 0.026731435538913197, 0.19820552553859072 -0.6075340206751771, 0.7942936571081588L -0.6075340206751771, 0.7942936571081588 L -0.5816711658984456, 0.8134240313405691 L -0.5552063637857448, 0.8317126268199919 M -0.5552063637857448,0.8317126268199919 Q 0.026399309441410408, 0.1982500352106316 0.753504767350159, 0.6574424427891636L 0.753504767350159, 0.6574424427891636 L 0.7753208185939954, 0.6315675959505339 L 0.7962487803190149, 0.6049693214043842 ",
          "type": "path"
         },
         {
          "fillcolor": "#ecd5bb",
          "layer": "below",
          "line": {
           "color": "rgb(175,175,175)",
           "width": 0.5
          },
          "path": "M 0.9516853171672304,0.30707500238265606 Q 0.053202498660704936, 0.19279391623248307 -0.659512545841729, 0.7516935558306731L -0.659512545841729, 0.7516935558306731 L -0.6567732211189827, 0.7540881487074278 L -0.6540252020487661, 0.7564727589841359 M -0.6540252020487661,0.7564727589841359 Q 0.052877892300185594, 0.19288319912809923 0.9483631461088947, 0.3171866061208122L 0.9483631461088947, 0.3171866061208122 L 0.9500376844273234, 0.31213522417050205 L 0.9516853171672304, 0.30707500238265606 ",
          "type": "path"
         },
         {
          "fillcolor": "#ecd5bb",
          "layer": "below",
          "line": {
           "color": "rgb(175,175,175)",
           "width": 0.5
          },
          "path": "M 0.9122887468432381,0.4095476069801826 Q 0.023529738188240633, 0.19861105563586548 -0.7913381301882588, 0.6113787399886835L -0.7913381301882588, 0.6113787399886835 L -0.784310448407685, 0.620368536048159 L -0.7771806456856462, 0.6292775571809646 M -0.7771806456856462,0.6292775571809646 Q 0.02309019674239626, 0.19866263567766695 0.9007924946909072, 0.43424979160447735L 0.9007924946909072, 0.43424979160447735 L 0.9066247551120875, 0.42193785492409586 L 0.9122887468432381, 0.4095476069801826 ",
          "type": "path"
         },
         {
          "fillcolor": "#ecd5bb",
          "layer": "below",
          "line": {
           "color": "rgb(175,175,175)",
           "width": 0.5
          },
          "path": "M 0.8856805958571344,0.4642950377961747 Q -0.009843428293919564, 0.19975762042891498 -0.9270369420865472, 0.3749700094765231L -0.9270369420865472, 0.3749700094765231 L -0.9185702825692216, 0.39525768301286746 L -0.9096597018979599, 0.41535433877945077 M -0.9096597018979599,0.41535433877945077 Q -0.010171907980520666, 0.19974116322890437 0.8627588989336461, 0.5056155479322235L 0.8627588989336461, 0.5056155479322235 L 0.8744638430921748, 0.48509069989483844 L 0.8856805958571344, 0.4642950377961747 ",
          "type": "path"
         },
         {
          "fillcolor": "#ecd5bb",
          "layer": "below",
          "line": {
           "color": "rgb(175,175,175)",
           "width": 0.5
          },
          "path": "M 0.9483631461088947,0.3171866061208122 Q -0.005564805045870311, 0.19992256737247416 -0.9645387279310337, 0.263941361520288L -0.9645387279310337, 0.263941361520288 L -0.9632051527354036, 0.2687672482724926 L -0.9618474322927509, 0.2735863976732797 M -0.9618474322927509,0.2735863976732797 Q -0.006095879526280284, 0.1999070790462436 0.9433905831636327, 0.3316838971041268L 0.9433905831636327, 0.3316838971041268 L 0.9459046389121857, 0.32444477817404854 L 0.9483631461088947, 0.3171866061208122 ",
          "type": "path"
         },
         {
          "fillcolor": "#ecd5bb",
          "layer": "below",
          "line": {
           "color": "rgb(175,175,175)",
           "width": 0.5
          },
          "path": "M 0.9433905831636327,0.3316838971041268 Q -0.02375849946002835, 0.19858382034649208 -0.995010093776251, 0.09977431174092861L -0.995010093776251, 0.09977431174092861 L -0.9942527498938385, 0.10705825203383565 L -0.9934420848768006, 0.11433645086163731 M -0.9934420848768006,0.11433645086163731 Q -0.024079628127997157, 0.1985451372086896 0.937309266356985, 0.34849869325627403L 0.937309266356985, 0.34849869325627403 L 0.9403875080726711, 0.34010488773446335 L 0.9433905831636327, 0.3316838971041268 ",
          "type": "path"
         },
         {
          "fillcolor": "#ecd5bb",
          "layer": "below",
          "line": {
           "color": "rgb(175,175,175)",
           "width": 0.5
          },
          "path": "M 0.92967903635901,0.3683705869835193 Q -0.040649348028345564, 0.19582551035263623 -0.9994851688501479, -0.03208422117788337L -0.9994851688501479, -0.03208422117788337 L -0.9997375869972781, -0.02290757832813872 L -0.9999057527702172, -0.013729004953938233 M -0.9999057527702172,-0.013729004953938233 Q -0.04093585106665345, 0.19576581953305527 0.9216275571034754, 0.3880755673673366L 0.9216275571034754, 0.3880755673673366 L 0.9257057293289265, 0.37824450119942304 L 0.92967903635901, 0.3683705869835193 ",
          "type": "path"
         },
         {
          "fillcolor": "#ecd5bb",
          "layer": "below",
          "line": {
           "color": "rgb(175,175,175)",
           "width": 0.5
          },
          "path": "M 0.9216275571034754,0.3880755673673366 Q -0.06228935560685424, 0.19005271947036922 -0.972540479160309, -0.23273378868277095L -0.972540479160309, -0.23273378868277095 L -0.9748764331652582, -0.22274635812731894 L -0.977109824856154, -0.2127354934409772 M -0.977109824856154,-0.2127354934409772 Q -0.06256500852909139, 0.1899621533562797 0.9122887468432381, 0.4095476069801826L 0.9122887468432381, 0.4095476069801826 L 0.917021000082156, 0.39883892163168133 L 0.9216275571034754, 0.3880755673673366 ",
          "type": "path"
         },
         {
          "fillcolor": "#ecd5bb",
          "layer": "below",
          "line": {
           "color": "rgb(175,175,175)",
           "width": 0.5
          },
          "path": "M 0.9007924946909072,0.43424979160447735 Q -0.08769216852877604, 0.17975005863342786 -0.896688405832244, -0.4426622898395896L -0.896688405832244, -0.4426622898395896 L -0.9030116998839132, -0.42961595625950105 L -0.9091451891229786, -0.4164793213288547 M -0.9091451891229786,-0.4164793213288547 Q -0.0881086862249823, 0.17954625980985406 0.8856805958571344, 0.4642950377961747L 0.8856805958571344, 0.4642950377961747 L 0.8933628630168974, 0.4493359489093347 L 0.9007924946909072, 0.43424979160447735 ",
          "type": "path"
         },
         {
          "fillcolor": "#ecd5bb",
          "layer": "below",
          "line": {
           "color": "rgb(175,175,175)",
           "width": 0.5
          },
          "path": "M 0.698223242557579,0.7158800902053222 Q -0.15177564501488827, 0.1302465108181967 -0.6015998383332019, -0.798797617996865L -0.6015998383332019, -0.798797617996865 L -0.6394560962250314, -0.7688276146189361 L -0.6758215918053093, -0.7370652454496399 M -0.6758215918053093,-0.7370652454496399 Q -0.15205683314849072, 0.12991812611353373 0.6225625036690979, 0.7825700793061695L 0.6225625036690979, 0.7825700793061695 L 0.661234176007606, 0.7501795548264044 L 0.698223242557579, 0.7158800902053222 ",
          "type": "path"
         },
         {
          "fillcolor": "#ecd5bb",
          "layer": "below",
          "line": {
           "color": "rgb(175,175,175)",
           "width": 0.5
          },
          "path": "M 0.6225625036690979,0.7825700793061695 Q -0.18531928700123174, 0.07521144770149757 -0.09890013565448309, -0.9950973636622322L -0.09890013565448309, -0.9950973636622322 L -0.1502418765402634, -0.988649269727976 L -0.20118133694807852, -0.9795540156947874 M -0.20118133694807852,-0.9795540156947874 Q -0.18542936747894911, 0.07493964022035898 0.5359045003107966, 0.8442786071828632L 0.5359045003107966, 0.8442786071828632 L 0.580054683138336, 0.8145775374814141 L 0.6225625036690979, 0.7825700793061695 ",
          "type": "path"
         },
         {
          "fillcolor": "#ecd5bb",
          "layer": "below",
          "line": {
           "color": "rgb(175,175,175)",
           "width": 0.5
          },
          "path": "M 0.9576388509531945,0.2879719277031103 Q -0.15872586564077018, 0.12168031712889385 -0.029397765987632288, -0.9995677922757097L -0.029397765987632288, -0.9995677922757097 L -0.0324294717604377, -0.9994740263565327 L -0.03546087918106622, -0.9993710652443895 M -0.03546087918106622,-0.9993710652443895 Q -0.15895225830835422, 0.12138442889709639 0.9547731800379207, 0.2973351218411243L 0.9547731800379207, 0.2973351218411243 L 0.9562174760069003, 0.29265703234160106 L 0.9576388509531945, 0.2879719277031103 ",
          "type": "path"
         },
         {
          "fillcolor": "#ecd5bb",
          "layer": "below",
          "line": {
           "color": "rgb(175,175,175)",
           "width": 0.5
          },
          "path": "M 0.42400019901733943,0.9056620955043092 Q -0.19887258958409793, -0.02120596878510743 0.6054385010620539, -0.7958920915750661L 0.6054385010620539, -0.7958920915750661 L 0.545901873953804, -0.8378491176898888 L 0.48346923630815286, -0.8753613525531108 M 0.48346923630815286,-0.8753613525531108 Q -0.19884642747155967, -0.021449901673381983 0.2856659164752751, 0.9583292670916094L 0.2856659164752751, 0.9583292670916094 L 0.3558088765198892, 0.9345587426104655 L 0.42400019901733943, 0.9056620955043092 ",
          "type": "path"
         },
         {
          "fillcolor": "#ecd5bb",
          "layer": "below",
          "line": {
           "color": "rgb(175,175,175)",
           "width": 0.5
          },
          "path": "M 0.753504767350159,0.6574424427891636 Q -0.198622336127644, -0.02343432506382933 0.8858206825279608, -0.4640277129716476L 0.8858206825279608, -0.4640277129716476 L 0.867287477610096, -0.4978076246711347 L 0.847466730556729, -0.5308485100285093 M 0.847466730556729,-0.5308485100285093 Q -0.1985822171199405, -0.023771896090316578 0.698223242557579, 0.7158800902053222L 0.698223242557579, 0.7158800902053222 L 0.7264518520497791, 0.6872173649242617 L 0.753504767350159, 0.6574424427891636 ",
          "type": "path"
         },
         {
          "fillcolor": "#ecd5bb",
          "layer": "below",
          "line": {
           "color": "rgb(175,175,175)",
           "width": 0.5
          },
          "path": "M 0.832054238228861,0.5546942803431361 Q -0.1976873184402887, -0.030326953818144937 0.9600678803512613, -0.2797671623293845L 0.9600678803512613, -0.2797671623293845 L 0.9522206191641124, -0.30541102213036525 L 0.9436885332354598, -0.33083523427819256 M 0.9436885332354598,-0.33083523427819256 Q -0.1975629525375501, -0.03112683383586782 0.7962487803190149, 0.6049693214043842L 0.7962487803190149, 0.6049693214043842 L 0.8145394864532098, 0.5801081149307784 L 0.832054238228861, 0.5546942803431361 ",
          "type": "path"
         },
         {
          "fillcolor": "#ecd5bb",
          "layer": "below",
          "line": {
           "color": "rgb(175,175,175)",
           "width": 0.5
          },
          "path": "M 0.937309266356985,0.34849869325627403 Q -0.1989280662569943, -0.020679082553461996 0.9889485289441367, -0.14825925636946935L 0.9889485289441367, -0.14825925636946935 L 0.9876123844003526, -0.15691328235382168 L 0.9862005122593397, -0.1655552766281281 M 0.9862005122593397,-0.1655552766281281 Q -0.1988886943153757, -0.021054388462385984 0.92967903635901, 0.3683705869835193L 0.92967903635901, 0.3683705869835193 L 0.9335470280921389, 0.3584549432499646 L 0.937309266356985, 0.34849869325627403 ",
          "type": "path"
         },
         {
          "fillcolor": "#ecd5bb",
          "layer": "below",
          "line": {
           "color": "rgb(175,175,175)",
           "width": 0.5
          },
          "path": "M 0.9547731800379207,0.2973351218411243 Q -0.19846555318833126, -0.024726993299826486 0.998542566150505, -0.053969839591798775L 0.998542566150505, -0.053969839591798775 L 0.9983438022563311, -0.05752957931683078 L 0.998132348160512, -0.06108858776876872 M 0.998132348160512,-0.06108858776876872 Q -0.19842714927996408, -0.025033306386229987 0.9516853171672304, 0.30707500238265606L 0.9516853171672304, 0.30707500238265606 L 0.9532416885080465, 0.3022090059715767 L 0.9547731800379207, 0.2973351218411243 ",
          "type": "path"
         },
         {
          "fillcolor": "#e6c4a9",
          "layer": "below",
          "line": {
           "color": "rgb(175,175,175)",
           "width": 0.5
          },
          "path": "M -0.07110659367846944,0.997468722484793 Q -0.06478757627335734, 0.18921567049434332 -0.5552063637857448, 0.8317126268199919L -0.5552063637857448, 0.8317126268199919 L -0.5310845958689316, 0.8473188018867123 L -0.5065244641478004, 0.8622255895180702 M -0.5065244641478004,0.8622255895180702 Q -0.06491146279210212, 0.1891732063432598 -0.12957289454340812, 0.991569899200073L -0.12957289454340812, 0.991569899200073 L -0.10038308262493617, 0.9949488613605803 L -0.07110659367846944, 0.997468722484793 ",
          "type": "path"
         },
         {
          "fillcolor": "#e6c4a9",
          "layer": "below",
          "line": {
           "color": "rgb(175,175,175)",
           "width": 0.5
          },
          "path": "M 0.25542310786379274,0.9668293727277846 Q -0.04313978230285695, 0.19529198443065224 -0.638925267001568, 0.7692688107462664L -0.638925267001568, 0.7692688107462664 L -0.6376929277937942, 0.7702906787971531 L -0.6364589542592449, 0.7713105726899044 M -0.6364589542592449,0.7713105726899044 Q -0.043271685523922215, 0.1952628004303912 0.2510187647989263, 0.9679822207658678L 0.2510187647989263, 0.9679822207658678 L 0.2532215924070857, 0.9674083032199071 L 0.25542310786379274, 0.9668293727277846 ",
          "type": "path"
         },
         {
          "fillcolor": "#e6c4a9",
          "layer": "below",
          "line": {
           "color": "rgb(175,175,175)",
           "width": 0.5
          },
          "path": "M 0.20994271534996364,0.9777136882909455 Q -0.0599068572397926, 0.19081710734536125 -0.7310949002030361, 0.6822757850730983L -0.7310949002030361, 0.6822757850730983 L -0.7276797324741767, 0.6859170554420634 L -0.7242464293505595, 0.6895412312349168 M -0.7242464293505595,0.6895412312349168 Q -0.06005990378378792, 0.19076899107947848 0.19859838011453165, 0.9800809575825274L 0.19859838011453165, 0.9800809575825274 L 0.2042739769569468, 0.9789137563331066 L 0.20994271534996364, 0.9777136882909455 ",
          "type": "path"
         },
         {
          "fillcolor": "#e6c4a9",
          "layer": "below",
          "line": {
           "color": "rgb(175,175,175)",
           "width": 0.5
          },
          "path": "M 0.06412949758674315,0.9979415852339615 Q -0.10268053496812413, 0.1716295654561295 -0.9096597018979599, 0.41535433877945077L -0.9096597018979599, 0.41535433877945077 L -0.902026495510644, 0.4316806706314126 L -0.8941002974309445, 0.44786678614728337 M -0.8941002974309445,0.44786678614728337 Q -0.10281932759064327, 0.1715464539820278 0.02650695343818978, 0.9996486289789156L 0.02650695343818978, 0.9996486289789156 L 0.04532626240035188, 0.9989722368198299 L 0.06412949758674315, 0.9979415852339615 ",
          "type": "path"
         },
         {
          "fillcolor": "#e6c4a9",
          "layer": "below",
          "line": {
           "color": "rgb(175,175,175)",
           "width": 0.5
          },
          "path": "M 0.22771197770727697,0.973728532604771 Q -0.10144722148909979, 0.1723614262302953 -0.9618474322927509, 0.2735863976732797L -0.9618474322927509, 0.2735863976732797 L -0.9611595282160463, 0.2759934081087937 L -0.9604656006378762, 0.278398688918112 M -0.9604656006378762,0.278398688918112 Q -0.10165769878293188, 0.17223737189750282 0.2204515274335154, 0.9753979311297671L 0.2204515274335154, 0.9753979311297671 L 0.22408330718257233, 0.9745699930954784 L 0.22771197770727697, 0.973728532604771 ",
          "type": "path"
         },
         {
          "fillcolor": "#e6c4a9",
          "layer": "below",
          "line": {
           "color": "rgb(175,175,175)",
           "width": 0.5
          },
          "path": "M 0.23495978973182055,0.9720050911436517 Q -0.1075924309188383, 0.1685937982518189 -0.9805437860822563, 0.1963004930596824L -0.9805437860822563, 0.1963004930596824 L -0.9799228639161423, 0.1993769815560106 L -0.9792922891905554, 0.20245150612411217 M -0.9792922891905554,0.20245150612411217 Q -0.1076912817356237, 0.16853067328572124 0.22771197770727697, 0.973728532604771L 0.22771197770727697, 0.973728532604771 L 0.2313374886587171, 0.9728735613331663 L 0.23495978973182055, 0.9720050911436517 ",
          "type": "path"
         },
         {
          "fillcolor": "#e6c4a9",
          "layer": "below",
          "line": {
           "color": "rgb(175,175,175)",
           "width": 0.5
          },
          "path": "M 0.2204515274335154,0.9753979311297671 Q -0.12369541510797935, 0.15716056846825377 -0.9998888089538195, 0.014912066554045372L -0.9998888089538195, 0.014912066554045372 L -0.9998062311487, 0.019685023653329265 L -0.9997008698206078, 0.024457532171503486 M -0.9997008698206078,0.024457532171503486 Q -0.12379076062988269, 0.15708547858626237 0.20994271534996364, 0.9777136882909455L 0.20994271534996364, 0.9777136882909455 L 0.21520023638021046, 0.9765699454017114 L 0.2204515274335154, 0.9753979311297671 ",
          "type": "path"
         },
         {
          "fillcolor": "#e6c4a9",
          "layer": "below",
          "line": {
           "color": "rgb(175,175,175)",
           "width": 0.5
          },
          "path": "M 0.19859838011453165,0.9800809575825274 Q -0.14146700898970788, 0.14137568874281714 -0.9799525119960004, -0.19923120797889227L -0.9799525119960004, -0.19923120797889227 L -0.9812320480915376, -0.1928306713105732 L -0.9824697796961797, -0.18642191926847046 M -0.9824697796961797,-0.18642191926847046 Q -0.14156816726852436, 0.14127439264152264 0.18438063337068644, 0.9828549140324957L 0.18438063337068644, 0.9828549140324957 L 0.19149452968981723, 0.9814936806209583 L 0.19859838011453165, 0.9800809575825274 ",
          "type": "path"
         },
         {
          "fillcolor": "#e6c4a9",
          "layer": "below",
          "line": {
           "color": "rgb(175,175,175)",
           "width": 0.5
          },
          "path": "M 0.18438063337068644,0.9828549140324957 Q -0.15610850024648623, 0.12502054291512582 -0.9188217250058108, -0.39467282356066286L -0.9188217250058108, -0.39467282356066286 L -0.9219075906519304, -0.387409853125024 L -0.9249360460642451, -0.3801227573969239 M -0.9249360460642451,-0.3801227573969239 Q -0.156234335438228, 0.1248632549238376 0.1668604616174037, 0.9859805202684417L 0.1668604616174037, 0.9859805202684417 L 0.17562750085249657, 0.9844566932802612 L 0.18438063337068644, 0.9828549140324957 ",
          "type": "path"
         },
         {
          "fillcolor": "#e6c4a9",
          "layer": "below",
          "line": {
           "color": "rgb(175,175,175)",
           "width": 0.5
          },
          "path": "M 0.1668604616174037,0.9859805202684417 Q -0.1693865295493291, 0.1063400376492047 -0.8154862956060945, -0.5787763831382976L -0.8154862956060945, -0.5787763831382976 L -0.8205256804896732, -0.5716096637190091 L -0.8255020840643174, -0.5643990691040062 M -0.8255020840643174,-0.5643990691040062 Q -0.16940113517065863, 0.10631676915187108 0.14928744084548604, 0.9887938410031717L 0.14928744084548604, 0.9887938410031717 L 0.15808020986610033, 0.9874262743358057 L 0.1668604616174037, 0.9859805202684417 ",
          "type": "path"
         },
         {
          "fillcolor": "#e6c4a9",
          "layer": "below",
          "line": {
           "color": "rgb(175,175,175)",
           "width": 0.5
          },
          "path": "M 0.09795472507324376,0.9951908720621513 Q -0.19357026011444012, 0.050304616082701585 -0.39897170517065245, -0.9169632372528476L -0.39897170517065245, -0.9169632372528476 L -0.4144782700899037, -0.9100592088558199 L -0.42986541587660393, -0.9028929749606175 M -0.42986541587660393,-0.9028929749606175 Q -0.1935700076757101, 0.05030558744737543 0.06412949758674315, 0.9979415852339615L 0.06412949758674315, 0.9979415852339615 L 0.08105378100102084, 0.9967097293522515 L 0.09795472507324376, 0.9951908720621513 ",
          "type": "path"
         },
         {
          "fillcolor": "#e6c4a9",
          "layer": "below",
          "line": {
           "color": "rgb(175,175,175)",
           "width": 0.5
          },
          "path": "M 0.2510187647989263,0.9679822207658678 Q -0.19770246290823731, 0.030228069075232955 -0.04969049206084727, -0.9987646644724426L -0.04969049206084727, -0.9987646644724426 L -0.05127099073075749, -0.9986847778500915 L -0.052851360999756125, -0.9986023901636093 M -0.052851360999756125,-0.9986023901636093 Q -0.19772961182750567, 0.030049968494890847 0.24620809613593378, 0.9692169898413455L 0.24620809613593378, 0.9692169898413455 L 0.2486141970452434, 0.9686025918959482 L 0.2510187647989263, 0.9679822207658678 ",
          "type": "path"
         },
         {
          "fillcolor": "#e6c4a9",
          "layer": "below",
          "line": {
           "color": "rgb(175,175,175)",
           "width": 0.5
          },
          "path": "M -0.01363630215419346,0.9999070213092613 Q -0.196828666105833, -0.03547500809018256 0.33631421087665464, -0.9417498349149912L 0.33631421087665464, -0.9417498349149912 L 0.30877195740636687, -0.9511360987363695 L 0.2809682736131547, -0.9597170568573028 M 0.2809682736131547,-0.9597170568573028 Q -0.19684049633050452, -0.035409306747811974 -0.07110659367846944, 0.997468722484793L -0.07110659367846944, 0.997468722484793 L -0.0423889835194916, 0.9991011831021842 L -0.01363630215419346, 0.9999070213092613 ",
          "type": "path"
         },
         {
          "fillcolor": "#e6c4a9",
          "layer": "below",
          "line": {
           "color": "rgb(175,175,175)",
           "width": 0.5
          },
          "path": "M 0.02650695343818978,0.9996486289789156 Q -0.17808060362617045, -0.09103460118075309 0.8258134254650317, -0.563943424752617L 0.8258134254650317, -0.563943424752617 L 0.8145001939366843, -0.5801632822551801 L 0.8028684333861973, -0.5961562535711533 M 0.8028684333861973,-0.5961562535711533 Q -0.17805351258514968, -0.09108757684827254 -0.01363630215419346, 0.9999070213092613L -0.01363630215419346, 0.9999070213092613 L 0.006436622388151487, 0.999979284731555 L 0.02650695343818978, 0.9996486289789156 ",
          "type": "path"
         },
         {
          "fillcolor": "#e6c4a9",
          "layer": "below",
          "line": {
           "color": "rgb(175,175,175)",
           "width": 0.5
          },
          "path": "M 0.14928744084548604,0.9887938410031717 Q -0.17227588024084245, -0.10159242632816146 0.9375372656375344, -0.3478848596028509L 0.9375372656375344, -0.3478848596028509 L 0.9344777587310436, -0.35602151400864185 L 0.9313476373329466, -0.36413126538974677 M 0.9313476373329466,-0.36413126538974677 Q -0.17217080263685963, -0.10177040198102559 0.1300258328767364, 0.9915106064912825L 0.1300258328767364, 0.9915106064912825 L 0.13966324292037485, 0.990199060076793 L 0.14928744084548604, 0.9887938410031717 ",
          "type": "path"
         },
         {
          "fillcolor": "#e6c4a9",
          "layer": "below",
          "line": {
           "color": "rgb(175,175,175)",
           "width": 0.5
          },
          "path": "M 0.24058798177554308,0.9706273347815685 Q -0.17098654216793674, -0.10374778261462939 0.9720292608080651, -0.2348597797259604L 0.9720292608080651, -0.2348597797259604 L 0.9714504996004671, -0.23724233776036413 L 0.970865898472219, -0.23962346960122835 M 0.970865898472219,-0.23962346960122835 Q -0.17094032173672358, -0.10382392019445924 0.23495978973182055, 0.9720050911436517L 0.23495978973182055, 0.9720050911436517 L 0.23777488366005628, 0.9713202894516549 L 0.24058798177554308, 0.9706273347815685 ",
          "type": "path"
         },
         {
          "fillcolor": "#e6c4a9",
          "layer": "below",
          "line": {
           "color": "rgb(175,175,175)",
           "width": 0.5
          },
          "path": "M 0.24620809613593378,0.9692169898413455 Q -0.16249283206671714, -0.11660222779577444 0.9970238393350671, -0.07709386355321919L 0.9970238393350671, -0.07709386355321919 L 0.9968613472112471, -0.07916725608594403 L 0.9966945433029462, -0.0812403061917644 M 0.9966945433029462,-0.0812403061917644 Q -0.16239746244912223, -0.11673501698327687 0.24058798177554308, 0.9706273347815685L 0.24058798177554308, 0.9706273347815685 L 0.2433990604659593, 0.9699262329498508 L 0.24620809613593378, 0.9692169898413455 ",
          "type": "path"
         },
         {
          "fillcolor": "#e1b396",
          "layer": "below",
          "line": {
           "color": "rgb(175,175,175)",
           "width": 0.5
          },
          "path": "M -0.31333392658031783,0.94964301211232 Q -0.09993436167481788, 0.17324296048222765 -0.6651823336922952, 0.7466809646319317L -0.6651823336922952, 0.7466809646319317 L -0.6623521816100154, 0.7491926237733879 L -0.659512545841729, 0.7516935558306731 M -0.659512545841729,0.7516935558306731 Q -0.10019007372103544, 0.17309520249785518 -0.3233077875914901, 0.946293862646639L -0.3233077875914901, 0.946293862646639 L -0.31832526173151937, 0.9479815545376185 L -0.31333392658031783, 0.94964301211232 ",
          "type": "path"
         },
         {
          "fillcolor": "#e1b396",
          "layer": "below",
          "line": {
           "color": "rgb(175,175,175)",
           "width": 0.5
          },
          "path": "M -0.36660224026446325,0.9303777713558492 Q -0.1160789539116419, 0.16286705148303915 -0.7598435349475963, 0.6501059932029093L -0.7598435349475963, 0.6501059932029093 L -0.7560053833594749, 0.6545653980554529 L -0.7521410606043596, 0.6590021433599053 M -0.7521410606043596,0.6590021433599053 Q -0.11620810816138263, 0.16277492312255104 -0.378993295988995, 0.9253994173303752L -0.378993295988995, 0.9253994173303752 L -0.37280607817264894, 0.9279092779348252 L -0.36660224026446325, 0.9303777713558492 ",
          "type": "path"
         },
         {
          "fillcolor": "#e1b396",
          "layer": "below",
          "line": {
           "color": "rgb(175,175,175)",
           "width": 0.5
          },
          "path": "M -0.4651496802820306,0.8852320458125794 Q -0.15134516459098163, 0.1307464766444155 -0.9434131522108284, 0.33161969820206433L -0.9434131522108284, 0.33161969820206433 L -0.9354761895345939, 0.35338972652559747 L -0.9270369420865472, 0.3749700094765231 M -0.9270369420865472,0.3749700094765231 Q -0.15141057775882846, 0.130670719530956 -0.5065244641478004, 0.8622255895180702L -0.5065244641478004, 0.8622255895180702 L -0.4859732348557572, 0.8739736923980213 L -0.4651496802820306, 0.8852320458125794 ",
          "type": "path"
         },
         {
          "fillcolor": "#e1b396",
          "layer": "below",
          "line": {
           "color": "rgb(175,175,175)",
           "width": 0.5
          },
          "path": "M -0.28359674334442087,0.9589436308586854 Q -0.14058243548029875, 0.14225532972239616 -0.9555218896140154, 0.29492018999800845L -0.9555218896140154, 0.29492018999800845 L -0.9552754578035718, 0.29571743221896185 L -0.9550283608120953, 0.2965144685248298 M -0.9550283608120953,0.2965144685248298 Q -0.14063641478451863, 0.1422019649532201 -0.2859241915930723, 0.9582522406244861L -0.2859241915930723, 0.9582522406244861 L -0.2847606773031225, 0.9585986421135109 L -0.28359674334442087, 0.9589436308586854 ",
          "type": "path"
         },
         {
          "fillcolor": "#e1b396",
          "layer": "below",
          "line": {
           "color": "rgb(175,175,175)",
           "width": 0.5
          },
          "path": "M -0.33324586014229235,0.9428399634604081 Q -0.15490270827319064, 0.12651146576350622 -0.9904036065074718, 0.13820526841257852L -0.9904036065074718, 0.13820526841257852 L -0.9897419927886321, 0.14286632812103553 L -0.9890584432098448, 0.14752422145301491 M -0.9890584432098448,0.14752422145301491 Q -0.15499819878072327, 0.12639445547464256 -0.3435271073442049, 0.9391427615222955L -0.3435271073442049, 0.9391427615222955 L -0.3383915331471263, 0.9410054039665964 L -0.33324586014229235, 0.9428399634604081 ",
          "type": "path"
         },
         {
          "fillcolor": "#e1b396",
          "layer": "below",
          "line": {
           "color": "rgb(175,175,175)",
           "width": 0.5
          },
          "path": "M -0.2959901474360482,0.9551909927447947 Q -0.15902228481748207, 0.12129267468164602 -0.9994586561235147, 0.032899767473006616L -0.9994586561235147, 0.032899767473006616 L -0.9993311081782275, 0.03656960797268483 L -0.9991900852545046, 0.0402389553678502 M -0.9991900852545046,0.0402389553678502 Q -0.1590677048508454, 0.12123310304320492 -0.30371095318760405, 0.952764218951298L -0.30371095318760405, 0.952764218951298 L -0.2998530053710755, 0.953985416644266 L -0.2959901474360482, 0.9551909927447947 ",
          "type": "path"
         },
         {
          "fillcolor": "#e1b396",
          "layer": "below",
          "line": {
           "color": "rgb(175,175,175)",
           "width": 0.5
          },
          "path": "M -0.28979951960682465,0.957087372414689 Q -0.16900209401157204, 0.10694995193876328 -0.9890154469493873, -0.14781219738405835L -0.9890154469493873, -0.14781219738405835 L -0.9894520942658221, -0.1448604609718558 L -0.989879932085847, -0.14190743480776094 M -0.989879932085847,-0.14190743480776094 Q -0.16902919337049255, 0.1069071175765236 -0.2959901474360482, 0.9551909927447947L -0.2959901474360482, 0.9551909927447947 L -0.29289636830714216, 0.9561441928038297 L -0.28979951960682465, 0.957087372414689 ",
          "type": "path"
         },
         {
          "fillcolor": "#e1b396",
          "layer": "below",
          "line": {
           "color": "rgb(175,175,175)",
           "width": 0.5
          },
          "path": "M -0.354524217834395,0.9350468325003355 Q -0.18295564236120007, 0.08079129240333183 -0.9298778883367324, -0.3678683362052508L -0.9298778883367324, -0.3678683362052508 L -0.9320222006453448, -0.3624011830888643 L -0.9341343695228462, -0.3569215315390128 M -0.9341343695228462,-0.3569215315390128 Q -0.18300424102393315, 0.08068114877252422 -0.36660224026446325, 0.9303777713558492L -0.36660224026446325, 0.9303777713558492 L -0.3605707866363328, 0.9327318520477663 L -0.354524217834395, 0.9350468325003355 ",
          "type": "path"
         },
         {
          "fillcolor": "#e1b396",
          "layer": "below",
          "line": {
           "color": "rgb(175,175,175)",
           "width": 0.5
          },
          "path": "M -0.30371095318760405,0.952764218951298 Q -0.188617840366066, 0.0665079716698777 -0.8341423877655912, -0.5515491609391842L -0.8341423877655912, -0.5515491609391842 L -0.8369409760707991, -0.5472931596262263 L -0.8397178494036627, -0.5430229584399611 M -0.8397178494036627,-0.5430229584399611 Q -0.18861548445831788, 0.06651465269062187 -0.31333392658031783, 0.94964301211232L -0.31333392658031783, 0.94964301211232 L -0.3085263868698838, 0.9512157844595593 L -0.30371095318760405, 0.952764218951298 ",
          "type": "path"
         },
         {
          "fillcolor": "#e1b396",
          "layer": "below",
          "line": {
           "color": "rgb(175,175,175)",
           "width": 0.5
          },
          "path": "M -0.378993295988995,0.9253994173303752 Q -0.19962876726597378, 0.012180118220595625 -0.48868753919669117, -0.8724588752679878L -0.48868753919669117, -0.8724588752679878 L -0.4962542555426146, -0.8681772364303532 L -0.5037834612067765, -0.8638299741352579 M -0.5037834612067765,-0.8638299741352579 Q -0.19962637311466422, 0.012219294459373427 -0.39466569739029145, 0.9188247859648949L -0.39466569739029145, 0.9188247859648949 L -0.3868434644059025, 0.9221453974544574 L -0.378993295988995, 0.9253994173303752 ",
          "type": "path"
         },
         {
          "fillcolor": "#e1b396",
          "layer": "below",
          "line": {
           "color": "rgb(175,175,175)",
           "width": 0.5
          },
          "path": "M -0.2859241915930723,0.9582522406244861 Q -0.19859629707200963, -0.023653980411045092 -0.052851360999756125, -0.9986023901636093L -0.052851360999756125, -0.9986023901636093 L -0.05416823528451572, -0.9985318233717748 L -0.0554850153632631, -0.9984595199957474 M -0.0554850153632631,-0.9984595199957474 Q -0.19857958249794025, -0.023793894488791663 -0.28979951960682465, 0.957087372414689L -0.28979951960682465, 0.957087372414689 L -0.2878624448220575, 0.9576717667661858 L -0.2859241915930723, 0.9582522406244861 ",
          "type": "path"
         },
         {
          "fillcolor": "#e1b396",
          "layer": "below",
          "line": {
           "color": "rgb(175,175,175)",
           "width": 0.5
          },
          "path": "M -0.4377093326898257,0.8991165330902483 Q -0.18894996569035186, -0.065558450756671 0.21323227233099715, -0.977001534306144L 0.21323227233099715, -0.977001534306144 L 0.19766173937914203, -0.9802702876174572 L 0.18204117305349465, -0.9832909087921579 M 0.18204117305349465,-0.9832909087921579 Q -0.1889848792562513, -0.06545773760603192 -0.4651496802820306, 0.8852320458125794L -0.4651496802820306, 0.8852320458125794 L -0.45148288347718074, 0.8922797800730051 L -0.4377093326898257, 0.8991165330902483 ",
          "type": "path"
         },
         {
          "fillcolor": "#e1b396",
          "layer": "below",
          "line": {
           "color": "rgb(175,175,175)",
           "width": 0.5
          },
          "path": "M -0.39466569739029145,0.9188247859648949 Q -0.16383866916414314, -0.11470348942609576 0.7283305730995804, -0.6852259308348136L 0.7283305730995804, -0.6852259308348136 L 0.7208840711475176, -0.6930556658492741 L 0.7133534022735654, -0.7008044830512493 M 0.7133534022735654,-0.7008044830512493 Q -0.16384805679467648, -0.1146900792771915 -0.41427952026135817, 0.910149701473345L -0.41427952026135817, 0.910149701473345 L -0.4044958659406824, 0.9145398265996388 L -0.39466569739029145, 0.9188247859648949 ",
          "type": "path"
         },
         {
          "fillcolor": "#e1b396",
          "layer": "below",
          "line": {
           "color": "rgb(175,175,175)",
           "width": 0.5
          },
          "path": "M -0.3435271073442049,0.9391427615222955 Q -0.14530401782701366, -0.1374290449771332 0.9185650253333475, -0.3952699004912297L 0.9185650253333475, -0.3952699004912297 L 0.9164317157983822, -0.40019109220325394 L 0.9142720413134321, -0.4051007707627449 M 0.9142720413134321,-0.4051007707627449 Q -0.14523474874909578, -0.13750224636633043 -0.354524217834395, 0.9350468325003355L -0.354524217834395, 0.9350468325003355 L -0.3490316709190416, 0.9371109287034602 L -0.3435271073442049, 0.9391427615222955 ",
          "type": "path"
         },
         {
          "fillcolor": "#e1b396",
          "layer": "below",
          "line": {
           "color": "rgb(175,175,175)",
           "width": 0.5
          },
          "path": "M -0.3233077875914901,0.946293862646639 Q -0.13243792943265253, -0.14986725742333362 0.9788772066918927, -0.20444905042351616L 0.9788772066918927, -0.20444905042351616 L 0.9779361178387971, -0.2089041632576585 L 0.9769747527725481, -0.21335494474002373 M 0.9769747527725481,-0.21335494474002373 Q -0.132331914251838, -0.1499608764659776 -0.33324586014229235, 0.9428399634604081L -0.33324586014229235, 0.9428399634604081 L -0.32828136627446763, 0.9445799831443438 L -0.3233077875914901, 0.946293862646639 ",
          "type": "path"
         },
         {
          "fillcolor": "#e1b396",
          "layer": "below",
          "line": {
           "color": "rgb(175,175,175)",
           "width": 0.5
          },
          "path": "M -0.28165592547530316,0.9595154712898852 Q -0.12721395290467105, -0.1543263107391871 0.9956310004480282, -0.09337510881845607L 0.9956310004480282, -0.09337510881845607 L 0.9955613697636861, -0.0941146058497455 L 0.995491189823864, -0.09485405095760299 M 0.995491189823864,-0.09485405095760299 Q -0.12717245209280417, -0.15436051123491212 -0.28359674334442087, 0.9589436308586854L -0.28359674334442087, 0.9589436308586854 L -0.28262647903606775, 0.9592300419334641 L -0.28165592547530316, 0.9595154712898852 ",
          "type": "path"
         },
         {
          "fillcolor": "#dba284",
          "layer": "below",
          "line": {
           "color": "rgb(175,175,175)",
           "width": 0.5
          },
          "path": "M -0.6712456446229746,0.7412349725793348 Q -0.14426596630754587, 0.13851834162070395 -0.7678978291354367, 0.6405723409647686L -0.7678978291354367, 0.6405723409647686 L -0.7638855552462168, 0.6453517323802417 L -0.7598435349475963, 0.6501059932029093 M -0.7598435349475963,0.6501059932029093 Q -0.14410705889791778, 0.13868365287874437 -0.6787620375060328, 0.734358288875845L -0.6787620375060328, 0.734358288875845 L -0.6750125981391186, 0.7378062024363016 L -0.6712456446229746, 0.7412349725793348 ",
          "type": "path"
         },
         {
          "fillcolor": "#dba284",
          "layer": "below",
          "line": {
           "color": "rgb(175,175,175)",
           "width": 0.5
          },
          "path": "M -0.6487247667835314,0.7610231119760115 Q -0.15034949021504296, 0.13189022250370458 -0.8390356518499733, 0.5440764421702987L -0.8390356518499733, 0.5440764421702987 L -0.8364400334759091, 0.5480584552753657 L -0.8338255168575146, 0.5520280857323281 M -0.8338255168575146,0.5520280857323281 Q -0.15018313441165673, 0.13207962045028085 -0.6540252020487661, 0.7564727589841359L -0.6540252020487661, 0.7564727589841359 L -0.6513789578664833, 0.7587525639157829 L -0.6487247667835314, 0.7610231119760115 ",
          "type": "path"
         },
         {
          "fillcolor": "#dba284",
          "layer": "below",
          "line": {
           "color": "rgb(175,175,175)",
           "width": 0.5
          },
          "path": "M -0.6651823336922952,0.7466809646319317 Q -0.1768443169706343, 0.09341352982940869 -0.9917058494950922, 0.1285282384428321L -0.9917058494950922, 0.1285282384428321 L -0.9910665391995404, 0.13336834286683624 L -0.9904036065074718, 0.13820526841257852 M -0.9904036065074718,0.13820526841257852 Q -0.17676886201731967, 0.09355623667667379 -0.6712456446229746, 0.7412349725793348L -0.6712456446229746, 0.7412349725793348 L -0.6682195372879478, 0.7439641456324901 L -0.6651823336922952, 0.7466809646319317 ",
          "type": "path"
         },
         {
          "fillcolor": "#dba284",
          "layer": "below",
          "line": {
           "color": "rgb(175,175,175)",
           "width": 0.5
          },
          "path": "M -0.6321836060109189,0.7748186163812995 Q -0.17773262808756202, 0.09171211977208009 -0.9978015395123204, 0.06627282811864418L -0.9978015395123204, 0.06627282811864418 L -0.9977648844982021, 0.0668224158669031 L -0.9977279267719131, 0.06737198334189035 M -0.9977279267719131,0.06737198334189035 Q -0.17772215338775627, 0.09173241627265054 -0.6328599498103527, 0.7742662874786929L -0.6328599498103527, 0.7742662874786929 L -0.6325218381985209, 0.7745425257543734 L -0.6321836060109189, 0.7748186163812995 ",
          "type": "path"
         },
         {
          "fillcolor": "#dba284",
          "layer": "below",
          "line": {
           "color": "rgb(175,175,175)",
           "width": 0.5
          },
          "path": "M -0.6328599498103527,0.7742662874786929 Q -0.18580383172915313, 0.07400632482946683 -0.991886848164384, -0.12712387831766406L -0.991886848164384, -0.12712387831766406 L -0.9920049543577103, -0.12619893236377674 L -0.992122198028431, -0.12527387668318793 M -0.992122198028431,-0.12527387668318793 Q -0.18578867318721587, 0.0740443712603051 -0.6339861168640767, 0.7733444275506285L -0.6339861168640767, 0.7733444275506285 L -0.6334232010422022, 0.7738055623872511 L -0.6328599498103527, 0.7742662874786929 ",
          "type": "path"
         },
         {
          "fillcolor": "#dba284",
          "layer": "below",
          "line": {
           "color": "rgb(175,175,175)",
           "width": 0.5
          },
          "path": "M -0.6351109410857796,0.7724209296187768 Q -0.19683485113062926, 0.03544067409605827 -0.8646435279871946, -0.5023858771003196L -0.8646435279871946, -0.5023858771003196 L -0.8652570415017038, -0.5013284872533367 L -0.8658692619136866, -0.5002703481849065 M -0.8658692619136866,-0.5002703481849065 Q -0.19682246079759735, 0.035509420237146275 -0.6364589542592449, 0.7713105726899044L -0.6364589542592449, 0.7713105726899044 L -0.6357851900682076, 0.7718660454314163 L -0.6351109410857796, 0.7724209296187768 ",
          "type": "path"
         },
         {
          "fillcolor": "#dba284",
          "layer": "below",
          "line": {
           "color": "rgb(175,175,175)",
           "width": 0.5
          },
          "path": "M -0.6339861168640767,0.7733444275506285 Q -0.19986058741588297, -0.007466297461138237 -0.5745190732998395, -0.8184911938528683L -0.5745190732998395, -0.8184911938528683 L -0.5753659176320882, -0.8178961186039369 L -0.5762121455979159, -0.8173001671757116 M -0.5762121455979159,-0.8173001671757116 Q -0.19986287263837643, -0.0074048727697463195 -0.6351109410857796, 0.7724209296187768L -0.6351109410857796, 0.7724209296187768 L -0.6345486969779014, 0.772882883213005 L -0.6339861168640767, 0.7733444275506285 ",
          "type": "path"
         },
         {
          "fillcolor": "#dba284",
          "layer": "below",
          "line": {
           "color": "rgb(175,175,175)",
           "width": 0.5
          },
          "path": "M -0.638925267001568,0.7692688107462664 Q -0.18751670516794353, -0.0695520329175111 0.017260967085086502, -0.9998510184098867L 0.017260967085086502, -0.9998510184098867 L 0.014749166969917628, -0.9998912251208596 L 0.012237273776348933, -0.9999251217618861 M 0.012237273776348933,-0.9999251217618861 Q -0.18756990536803156, -0.06940843320683507 -0.6416083189459789, 0.7670324406824752L -0.6416083189459789, 0.7670324406824752 L -0.6402677693923742, 0.7681517971581616 L -0.638925267001568, 0.7692688107462664 ",
          "type": "path"
         },
         {
          "fillcolor": "#dba284",
          "layer": "below",
          "line": {
           "color": "rgb(175,175,175)",
           "width": 0.5
          },
          "path": "M -0.6416083189459789,0.7670324406824752 Q -0.15375766338603644, -0.12790066829405666 0.6373935587462904, -0.7705384164782046L 0.6373935587462904, -0.7705384164782046 L 0.6355065296722923, -0.7720954932803843 L 0.6336156968585499, -0.7736479488077599 M 0.6336156968585499,-0.7736479488077599 Q -0.15384716476983593, -0.1277929962567705 -0.6442835431926766, 0.7647867127317854L -0.6442835431926766, 0.7647867127317854 L -0.6429469115736632, 0.7659107447332804 L -0.6416083189459789, 0.7670324406824752 ",
          "type": "path"
         },
         {
          "fillcolor": "#dba284",
          "layer": "below",
          "line": {
           "color": "rgb(175,175,175)",
           "width": 0.5
          },
          "path": "M -0.6442835431926766,0.7647867127317854 Q -0.10406598562340547, -0.170793063782547 0.9750690580604598, -0.22190162688247134L 0.9750690580604598, -0.22190162688247134 L 0.974285837373991, -0.22531557223694304 L 0.9734906637031073, -0.22872675331688572 M 0.9734906637031073,-0.22872675331688572 Q -0.10416706214774825, -0.17073143578002017 -0.6487247667835314, 0.7610231119760115L -0.6487247667835314, 0.7610231119760115 L -0.6465068936906586, 0.7629081441500382 L -0.6442835431926766, 0.7647867127317854 ",
          "type": "path"
         },
         {
          "fillcolor": "#d59171",
          "layer": "below",
          "line": {
           "color": "rgb(175,175,175)",
           "width": 0.5
          },
          "path": "M -0.7381111183711071,0.6746791659277419 Q -0.16024333989952688, 0.11967485958982656 -0.8564665533958724, 0.516202521220301L -0.8564665533958724, 0.516202521220301 L -0.8534876074542516, 0.5211131392720945 L -0.850480506417142, 0.5260065666932702 M -0.850480506417142,0.5260065666932702 Q -0.16017473555352257, 0.1197666651884368 -0.7450484059330424, 0.6670103993316989L -0.7450484059330424, 0.6670103993316989 L -0.7415896750419358, 0.6708537499866838 L -0.7381111183711071, 0.6746791659277419 ",
          "type": "path"
         },
         {
          "fillcolor": "#d59171",
          "layer": "below",
          "line": {
           "color": "rgb(175,175,175)",
           "width": 0.5
          },
          "path": "M -0.7678978291354367,0.6405723409647686 Q -0.18382716079854114, 0.0787881650550849 -0.9934420848768006, 0.11433645086163731L -0.9934420848768006, 0.11433645086163731 L -0.9925993310716745, 0.12143544769162046 L -0.9917058494950922, 0.1285282384428321 M -0.9917058494950922,0.1285282384428321 Q -0.18383985729567734, 0.07875853521685755 -0.7771806456856462, 0.6292775571809646L -0.7771806456856462, 0.6292775571809646 L -0.7725598788275518, 0.6349419135841943 L -0.7678978291354367, 0.6405723409647686 ",
          "type": "path"
         },
         {
          "fillcolor": "#d59171",
          "layer": "below",
          "line": {
           "color": "rgb(175,175,175)",
           "width": 0.5
          },
          "path": "M -0.7020019442221809,0.7121750278606223 Q -0.18188427320087597, 0.08317518357171882 -0.9978739413596532, 0.0651735924692758L -0.9978739413596532, 0.0651735924692758 L -0.9978378918031471, 0.06572322026385319 L -0.9978015395123204, 0.06627282811864418 M -0.9978015395123204,0.06627282811864418 Q -0.18188294837011237, 0.08317808059936849 -0.7027633999496441, 0.7114236457211811L -0.7027633999496441, 0.7114236457211811 L -0.7023827725608925, 0.7117994386129238 L -0.7020019442221809, 0.7121750278606223 ",
          "type": "path"
         },
         {
          "fillcolor": "#d59171",
          "layer": "below",
          "line": {
           "color": "rgb(175,175,175)",
           "width": 0.5
          },
          "path": "M -0.7065585976606253,0.7076545400630526 Q -0.1903208768880757, 0.06146514313457621 -0.9870016333196894, -0.1607102231479548L -0.9870016333196894, -0.1607102231479548 L -0.9875355501052099, -0.15739611583009475 L -0.9880583389703709, -0.15408023491386486 M -0.9880583389703709,-0.15408023491386486 Q -0.19031180523579552, 0.06149322554471051 -0.7110861423682758, 0.703104898384163L -0.7110861423682758, 0.703104898384163 L -0.7088260202918303, 0.7053833517721025 L -0.7065585976606253, 0.7076545400630526 ",
          "type": "path"
         },
         {
          "fillcolor": "#d59171",
          "layer": "below",
          "line": {
           "color": "rgb(175,175,175)",
           "width": 0.5
          },
          "path": "M -0.7017479470779753,0.7124253075037742 Q -0.19470180266961934, 0.045729728155769866 -0.9455325534760096, -0.32552755692435176L -0.9455325534760096, -0.32552755692435176 L -0.9455922784023958, -0.3253540272161481 L -0.9456519714815872, -0.32518048655014237 M -0.9456519714815872,-0.32518048655014237 Q -0.19470156366121927, 0.04573074576120737 -0.7020019442221809, 0.7121750278606223L -0.7020019442221809, 0.7121750278606223 L -0.7018749568058936, 0.7123001790037153 L -0.7017479470779753, 0.7124253075037742 ",
          "type": "path"
         },
         {
          "fillcolor": "#d59171",
          "layer": "below",
          "line": {
           "color": "rgb(175,175,175)",
           "width": 0.5
          },
          "path": "M -0.7040307052091367,0.7101695333670163 Q -0.19840457935249348, 0.025211562663986525 -0.8592723813425142, -0.5115183033499044L -0.8592723813425142, -0.5115183033499044 L -0.860312803775876, -0.5097664952302092 L -0.8613496547836382, -0.5080125709114954 M -0.8613496547836382,-0.5080125709114954 Q -0.19839815555564091, 0.025262063892716864 -0.7065585976606253, 0.7076545400630526L -0.7065585976606253, 0.7076545400630526 L -0.705295772453288, 0.7089131634830318 L -0.7040307052091367, 0.7101695333670163 ",
          "type": "path"
         },
         {
          "fillcolor": "#d59171",
          "layer": "below",
          "line": {
           "color": "rgb(175,175,175)",
           "width": 0.5
          },
          "path": "M -0.7110861423682758,0.703104898384163 Q -0.19874521049567517, -0.0223683102855307 -0.5370108892160622, -0.8435753107241666L -0.5370108892160622, -0.8435753107241666 L -0.5415432859822574, -0.8406728670580126 L -0.546059995972568, -0.8377460717893215 M -0.546059995972568,-0.8377460717893215 Q -0.19876185203677837, -0.022219949930407715 -0.7175741618694667, 0.696482104735888L -0.7175741618694667, 0.696482104735888 L -0.7143378273443853, 0.6998010205943567 L -0.7110861423682758, 0.703104898384163 ",
          "type": "path"
         },
         {
          "fillcolor": "#d59171",
          "layer": "below",
          "line": {
           "color": "rgb(175,175,175)",
           "width": 0.5
          },
          "path": "M -0.7450484059330424,0.6670103993316989 Q -0.1795695131378423, -0.08806128520205846 0.07121213331466922, -0.997461193264567L 0.07121213331466922, -0.997461193264567 L 0.06494640821975617, -0.9978887533484646 L 0.058678121500908106, -0.9982769545858127 M 0.058678121500908106,-0.9982769545858127 Q -0.17965146412979133, -0.08789397838317653 -0.7521410606043596, 0.6590021433599053L -0.7521410606043596, 0.6590021433599053 L -0.7486054419509419, 0.6630157556811413 L -0.7450484059330424, 0.6670103993316989 ",
          "type": "path"
         },
         {
          "fillcolor": "#d59171",
          "layer": "below",
          "line": {
           "color": "rgb(175,175,175)",
           "width": 0.5
          },
          "path": "M -0.7310949002030361,0.6822757850730983 Q -0.1430996711718275, -0.1397228832744116 0.6646258189019397, -0.747176365290636L 0.6646258189019397, -0.747176365290636 L 0.6601966385904798, -0.7510928027839379 L 0.6557443803655231, -0.7549829849864407 M 0.6557443803655231,-0.7549829849864407 Q -0.1432032871580205, -0.1396166843437328 -0.7381111183711071, 0.6746791659277419L -0.7381111183711071, 0.6746791659277419 L -0.7346128289168596, 0.6784865448855774 L -0.7310949002030361, 0.6822757850730983 ",
          "type": "path"
         },
         {
          "fillcolor": "#d59171",
          "layer": "below",
          "line": {
           "color": "rgb(175,175,175)",
           "width": 0.5
          },
          "path": "M -0.701493860703396,0.7126754965588787 Q -0.11653687792728284, -0.16253970617348112 0.9001202558730612, -0.4356415096923328L 0.9001202558730612, -0.4356415096923328 L 0.900039666426995, -0.4358079839309781 L 0.8999590461920743, -0.4359744432613588 M 0.8999590461920743,-0.4359744432613588 Q -0.11653796065529201, -0.16253892987929264 -0.7017479470779753, 0.7124253075037742L -0.7017479470779753, 0.7124253075037742 L -0.7016209150424634, 0.7125504133568209 L -0.701493860703396, 0.7126754965588787 ",
          "type": "path"
         },
         {
          "fillcolor": "#d59171",
          "layer": "below",
          "line": {
           "color": "rgb(175,175,175)",
           "width": 0.5
          },
          "path": "M -0.7175741618694667,0.696482104735888 Q -0.09296970027270095, -0.17707804728764137 0.9807669037125883, -0.19518268514912473L 0.9807669037125883, -0.19518268514912473 L 0.9798330093654184, -0.19981810167727 L 0.9788772066918927, -0.20444905042351616 M 0.9788772066918927,-0.20444905042351616 Q -0.0929545833441889, -0.17708598317006416 -0.7242464293505595, 0.6895412312349168L -0.7242464293505595, 0.6895412312349168 L -0.720918648841709, 0.6930196979539938 L -0.7175741618694667, 0.696482104735888 ",
          "type": "path"
         },
         {
          "fillcolor": "#d0805f",
          "layer": "below",
          "line": {
           "color": "rgb(175,175,175)",
           "width": 0.5
          },
          "path": "M -0.8213763096452631,0.570386674067276 Q -0.18056072598195147, 0.08601060535114635 -0.9604656006378762, 0.278398688918112L -0.9604656006378762, 0.278398688918112 L -0.9598046976719662, 0.2806687412713173 L -0.9591384294645825, 0.28293722470578875 M -0.9591384294645825,0.28293722470578875 Q -0.1806468699090032, 0.08582953100232857 -0.8251985386737758, 0.564842785003637L -0.8251985386737758, 0.564842785003637 L -0.8232920906067932, 0.5676179468130793 L -0.8213763096452631, 0.570386674067276 ",
          "type": "path"
         },
         {
          "fillcolor": "#d0805f",
          "layer": "below",
          "line": {
           "color": "rgb(175,175,175)",
           "width": 0.5
          },
          "path": "M -0.8390356518499733,0.5440764421702987 Q -0.1870609976491194, 0.07076851813141312 -0.9890584432098448, 0.14752422145301491L -0.9890584432098448, 0.14752422145301491 L -0.9883794921733171, 0.15200651121322314 L -0.9876802280642534, 0.15648567695142093 M -0.9876802280642534,0.15648567695142093 Q -0.1871045532213254, 0.07065328133815311 -0.8445943813573806, 0.5354066968011733L -0.8445943813573806, 0.5354066968011733 L -0.8418261776047596, 0.5397487255189767 L -0.8390356518499733, 0.5440764421702987 ",
          "type": "path"
         },
         {
          "fillcolor": "#d0805f",
          "layer": "below",
          "line": {
           "color": "rgb(175,175,175)",
           "width": 0.5
          },
          "path": "M -0.818200618243244,0.5749328206898379 Q -0.1892166080567631, 0.06478483800622868 -0.9988850250906501, 0.04720917971805156L -0.9988850250906501, 0.04720917971805156 L -0.998760376920748, 0.04977659583705261 L -0.998629129778543, 0.052343683073987034 M -0.998629129778543,0.052343683073987034 Q -0.1892297106706427, 0.06474655666137666 -0.8213763096452631, 0.570386674067276L -0.8213763096452631, 0.570386674067276 L -0.8197916152769297, 0.5726619487286043 L -0.818200618243244, 0.5749328206898379 ",
          "type": "path"
         },
         {
          "fillcolor": "#d0805f",
          "layer": "below",
          "line": {
           "color": "rgb(175,175,175)",
           "width": 0.5
          },
          "path": "M -0.8149997651553538,0.5794612867109573 Q -0.19424615336285575, 0.04762805794627707 -0.9906074390070018, -0.13673661464285775L -0.9906074390070018, -0.13673661464285775 L -0.9909610647246653, -0.13414979761355503 L -0.9913079353843081, -0.13156206612888302 M -0.9913079353843081,-0.13156206612888302 Q -0.19425386047006307, 0.04759661429636854 -0.818200618243244, 0.5749328206898379L -0.818200618243244, 0.5749328206898379 L -0.8166033307760002, 0.5771992724922151 L -0.8149997651553538, 0.5794612867109573 ",
          "type": "path"
         },
         {
          "fillcolor": "#d0805f",
          "layer": "below",
          "line": {
           "color": "rgb(175,175,175)",
           "width": 0.5
          },
          "path": "M -0.812928832733106,0.5823630421920589 Q -0.19807169389495627, 0.02770566869040968 -0.9415203958687353, -0.3369559973693599L -0.9415203958687353, -0.3369559973693599 L -0.9420756551392041, -0.3354004472180074 L -0.9426283443810008, -0.3338439820777564 M -0.9426283443810008,-0.3338439820777564 Q -0.19807531611560195, 0.027679760578884372 -0.8149997651553538, 0.5794612867109573L -0.8149997651553538, 0.5794612867109573 L -0.8139655920258482, 0.5809130873013713 L -0.812928832733106, 0.5823630421920589 ",
          "type": "path"
         },
         {
          "fillcolor": "#d0805f",
          "layer": "below",
          "line": {
           "color": "rgb(175,175,175)",
           "width": 0.5
          },
          "path": "M -0.8564665533958724,0.516202521220301 Q -0.19991794052588452, -0.005728617275478571 -0.8255020840643174, -0.5643990691040062L -0.8255020840643174, -0.5643990691040062 L -0.8298471083602421, -0.5579908393030701 L -0.8341423877655912, -0.5515491609391842 M -0.8341423877655912,-0.5515491609391842 Q -0.19991917540168733, -0.00568535897805812 -0.8641391531866899, 0.5032529422962081L -0.8641391531866899, 0.5032529422962081 L -0.8603272181441763, 0.5097421678851993 L -0.8564665533958724, 0.516202521220301 ",
          "type": "path"
         },
         {
          "fillcolor": "#d0805f",
          "layer": "below",
          "line": {
           "color": "rgb(175,175,175)",
           "width": 0.5
          },
          "path": "M -0.8718100723152036,0.48984405458243496 Q -0.19140516539660582, -0.05800054016557063 -0.45326617590301216, -0.8913752149248148L -0.45326617590301216, -0.8913752149248148 L -0.462834650888039, -0.8864446321893698 L -0.47234949890694744, -0.8814113403413616 M -0.47234949890694744,-0.8814113403413616 Q -0.19143213779439783, -0.05791145499352173 -0.881714022109833, 0.4717842549459456L -0.881714022109833, 0.4717842549459456 L -0.8768085461051424, 0.4808396546427784 L -0.8718100723152036, 0.48984405458243496 ",
          "type": "path"
         },
         {
          "fillcolor": "#d0805f",
          "layer": "below",
          "line": {
           "color": "rgb(175,175,175)",
           "width": 0.5
          },
          "path": "M -0.8115424697834299,0.5842934363295644 Q -0.18080691559233975, -0.08549186671248057 -0.06338358927800689, -0.9979892387246653L -0.06338358927800689, -0.9979892387246653 L -0.06417323656719456, -0.9979387735269588 L -0.06496284367818857, -0.9978876835301873 M -0.06496284367818857,-0.9978876835301873 Q -0.18077295571124347, -0.08556365164847052 -0.812928832733106, 0.5823630421920589L -0.812928832733106, 0.5823630421920589 L -0.8122362247402687, 0.5833286511218833 L -0.8115424697834299, 0.5842934363295644 ",
          "type": "path"
         },
         {
          "fillcolor": "#d0805f",
          "layer": "below",
          "line": {
           "color": "rgb(175,175,175)",
           "width": 0.5
          },
          "path": "M -0.881714022109833,0.4717842549459456 Q -0.16145543743813903, -0.11803449377897623 0.18204117305349465, -0.9832909087921579L 0.18204117305349465, -0.9832909087921579 L 0.16802570002112457, -0.98578261504878 L 0.15397617791067109, -0.9880745602615327 M 0.15397617791067109,-0.9880745602615327 Q -0.1615460077693666, -0.11791050578205385 -0.8941002974309445, 0.44786678614728337L -0.8941002974309445, 0.44786678614728337 L -0.8879876889349044, 0.4598672246421215 L -0.881714022109833, 0.4717842549459456 ",
          "type": "path"
         },
         {
          "fillcolor": "#d0805f",
          "layer": "below",
          "line": {
           "color": "rgb(175,175,175)",
           "width": 0.5
          },
          "path": "M -0.8641391531866899,0.5032529422962081 Q -0.12433858241667978, -0.15665221646248909 0.6862718880369496, -0.7273451008222992L 0.6862718880369496, -0.7273451008222992 L 0.6804670403712483, -0.7327786889425715 L 0.6746191734865188, -0.7381659506942638 M 0.6746191734865188,-0.7381659506942638 Q -0.12437414617357341, -0.15662398208318737 -0.8718100723152036, 0.48984405458243496L -0.8718100723152036, 0.48984405458243496 L -0.8680005057300288, 0.4965633112226619 L -0.8641391531866899, 0.5032529422962081 ",
          "type": "path"
         },
         {
          "fillcolor": "#d0805f",
          "layer": "below",
          "line": {
           "color": "rgb(175,175,175)",
           "width": 0.5
          },
          "path": "M -0.8292048167910105,0.558944873677706 Q -0.09752282520250985, -0.17461185115713285 0.910792425436484, -0.4128645755783932L 0.910792425436484, -0.4128645755783932 L 0.9091819711997499, -0.4163990192655804 L 0.9075578011756056, -0.4199271812175297 M 0.9075578011756056,-0.4199271812175297 Q -0.09747479113608469, -0.1746386700962209 -0.8338255168575146, 0.5520280857323281L -0.8338255168575146, 0.5520280857323281 L -0.8315223587779536, 0.555491284227168 L -0.8292048167910105, 0.558944873677706 ",
          "type": "path"
         },
         {
          "fillcolor": "#d0805f",
          "layer": "below",
          "line": {
           "color": "rgb(175,175,175)",
           "width": 0.5
          },
          "path": "M -0.8251985386737758,0.564842785003637 Q -0.08073061169692464, -0.1829824263011079 0.9734906637031073, -0.22872675331688572L 0.9734906637031073, -0.22872675331688572 L 0.9727647956575748, -0.23179441824443675 L 0.9720292608080651, -0.2348597797259604 M 0.9720292608080651,-0.2348597797259604 Q -0.08065510830530792, -0.18301571928186677 -0.8292048167910105, 0.558944873677706L -0.8292048167910105, 0.558944873677706 L -0.8272069341965095, 0.5618973999025192 L -0.8251985386737758, 0.564842785003637 ",
          "type": "path"
         },
         {
          "fillcolor": "#d0805f",
          "layer": "below",
          "line": {
           "color": "rgb(175,175,175)",
           "width": 0.5
          },
          "path": "M -0.8101515228979899,0.5862205301301446 Q -0.07027834945268384, -0.18724570381775507 0.9957958728988462, -0.09160010653719246L 0.9957958728988462, -0.09160010653719246 L 0.9957138321979371, -0.09248764441642181 L 0.9956310004480282, -0.09337510881845607 M 0.9956310004480282,-0.09337510881845607 Q -0.07022273450993519, -0.18726656818008697 -0.8115424697834299, 0.5842934363295644L -0.8115424697834299, 0.5842934363295644 L -0.8108475688422456, 0.5852573964527229 L -0.8101515228979899, 0.5862205301301446 ",
          "type": "path"
         },
         {
          "fillcolor": "#ca6f4c",
          "layer": "below",
          "line": {
           "color": "rgb(175,175,175)",
           "width": 0.5
          },
          "path": "M -0.954532171974744,0.2981079211714738 Q -0.19331837202988303, 0.05126409109421275 -0.9768231157406343, 0.21404812672564885L -0.9768231157406343, 0.21404812672564885 L -0.9765986494851966, 0.21506993705232272 L -0.9763731143606593, 0.21609151198894144 M -0.9763731143606593,0.21609151198894144 Q -0.19330751434534216, 0.05130501824992696 -0.9550283608120953, 0.2965144685248298L -0.9550283608120953, 0.2965144685248298 L -0.9547805988116452, 0.29731129836061754 L -0.954532171974744, 0.2981079211714738 ",
          "type": "path"
         },
         {
          "fillcolor": "#ca6f4c",
          "layer": "below",
          "line": {
           "color": "rgb(175,175,175)",
           "width": 0.5
          },
          "path": "M -0.9538664514151469,0.3002312323271432 Q -0.19660464300828698, 0.0366962443253262 -0.9979451322260477, 0.06407427772777473L -0.9979451322260477, 0.06407427772777473 L -0.997909688170902, 0.06462394490166373 L -0.9978739413596532, 0.0651735924692758 M -0.9978739413596532,0.0651735924692758 Q -0.19659973941922337, 0.03672250618208769 -0.9541166503022868, 0.29943516429428224L -0.9541166503022868, 0.29943516429428224 L -0.953991633894605, 0.29983322440834 L -0.9538664514151469, 0.3002312323271432 ",
          "type": "path"
         },
         {
          "fillcolor": "#ca6f4c",
          "layer": "below",
          "line": {
           "color": "rgb(175,175,175)",
           "width": 0.5
          },
          "path": "M -0.957067166402557,0.28986624328158733 Q -0.19991579917084398, -0.005802864971958185 -0.9386423235159151, -0.3448921403926799L -0.9386423235159151, -0.3448921403926799 L -0.9393995824329886, -0.34282418894343897 L -0.9401522853895974, -0.3407545748434157 M -0.9401522853895974,-0.3407545748434157 Q -0.19991886552797633, -0.005696244904050271 -0.9580293605625659, 0.28667009662690845L -0.9580293605625659, 0.28667009662690845 L -0.95754959701147, 0.28826857141070966 L -0.957067166402557, 0.28986624328158733 ",
          "type": "path"
         },
         {
          "fillcolor": "#ca6f4c",
          "layer": "below",
          "line": {
           "color": "rgb(175,175,175)",
           "width": 0.5
          },
          "path": "M -0.9555218896140154,0.29492018999800845 Q -0.19867615651167006, -0.022973568154520188 -0.8630011770928581, -0.5052019084844607L -0.8630011770928581, -0.5052019084844607 L -0.8638235000600382, -0.5037945620429277 L -0.8646435279871946, -0.5023858771003196 M -0.8646435279871946,-0.5023858771003196 Q -0.19868801570763794, -0.0228707764223567 -0.9561757878088584, 0.2927932082684109L -0.9561757878088584, 0.2927932082684109 L -0.9558494303387025, 0.2938568810172358 L -0.9555218896140154, 0.29492018999800845 ",
          "type": "path"
         },
         {
          "fillcolor": "#ca6f4c",
          "layer": "below",
          "line": {
           "color": "rgb(175,175,175)",
           "width": 0.5
          },
          "path": "M -0.9561757878088584,0.2927932082684109 Q -0.18889851944498842, -0.06570653964021643 -0.5680630085040278, -0.8229850657025028L -0.5680630085040278, -0.8229850657025028 L -0.569935501792906, -0.8216894326910067 L -0.5718050400254702, -0.820389539305244 M -0.5718050400254702,-0.820389539305244 Q -0.18894756220590944, -0.06556537757417392 -0.957067166402557, 0.28986624328158733L -0.957067166402557, 0.28986624328158733 L -0.9566225965556712, 0.29133006669255 L -0.9561757878088584, 0.2927932082684109 ",
          "type": "path"
         },
         {
          "fillcolor": "#ca6f4c",
          "layer": "below",
          "line": {
           "color": "rgb(175,175,175)",
           "width": 0.5
          },
          "path": "M -0.9580293605625659,0.28667009662690845 Q -0.16312192089537828, -0.1157205207532439 -0.046002184728725484, -0.9989413391186612L -0.046002184728725484, -0.9989413391186612 L -0.04784641994205066, -0.9988547041981276 L -0.04969049206084727, -0.9987646644724426 M -0.04969049206084727,-0.9987646644724426 Q -0.16311025490842715, -0.11573696360155608 -0.9591384294645825, 0.28293722470578875L -0.9591384294645825, 0.28293722470578875 L -0.9585857120584419, 0.28480420052627387 L -0.9580293605625659, 0.28667009662690845 ",
          "type": "path"
         },
         {
          "fillcolor": "#ca6f4c",
          "layer": "below",
          "line": {
           "color": "rgb(175,175,175)",
           "width": 0.5
          },
          "path": "M -0.9645387279310337,0.263941361520288 Q -0.1508937481304801, -0.13126719611211035 0.1278629117673667, -0.9917918510425313L 0.1278629117673667, -0.9917918510425313 L 0.11685113060756658, -0.9931494415624134 L 0.10582496479591261, -0.994384773025987 M 0.10582496479591261,-0.994384773025987 Q -0.15138155839155598, -0.13070433726140818 -0.9683248350407864, 0.2496938402188445L -0.9683248350407864, 0.2496938402188445 L -0.966458036456751, 0.25682457781170687 L -0.9645387279310337, 0.263941361520288 ",
          "type": "path"
         },
         {
          "fillcolor": "#ca6f4c",
          "layer": "below",
          "line": {
           "color": "rgb(175,175,175)",
           "width": 0.5
          },
          "path": "M -0.9534479773563612,0.3015575475345689 Q -0.11248025417054486, -0.16537288901669955 0.6307723403887812, -0.7759679468898568L 0.6307723403887812, -0.7759679468898568 L 0.6304558868293594, -0.7762250799621241 L 0.630139328450171, -0.7764820839789979 M 0.630139328450171,-0.7764820839789979 Q -0.112501685032671, -0.16535831054050382 -0.9536155883280988, 0.30102709130185284L -0.9536155883280988, 0.30102709130185284 L -0.9535318197292817, 0.3012923310736015 L -0.9534479773563612, 0.3015575475345689 ",
          "type": "path"
         },
         {
          "fillcolor": "#ca6f4c",
          "layer": "below",
          "line": {
           "color": "rgb(175,175,175)",
           "width": 0.5
          },
          "path": "M -0.9541166503022868,0.29943516429428224 Q -0.0733961319161938, -0.18604571432779815 0.9015655978704014, -0.432642430578169L 0.9015655978704014, -0.432642430578169 L 0.9011651156332152, -0.4334759905297798 L 0.900763862712219, -0.43430917976916245 M 0.900763862712219,-0.43430917976916245 Q -0.07343880723644935, -0.18602887300547633 -0.954532171974744, 0.2981079211714738L -0.954532171974744, 0.2981079211714738 L -0.9543246418742685, 0.2987716149696104 L -0.9541166503022868, 0.29943516429428224 ",
          "type": "path"
         },
         {
          "fillcolor": "#ca6f4c",
          "layer": "below",
          "line": {
           "color": "rgb(175,175,175)",
           "width": 0.5
          },
          "path": "M -0.9533640612158241,0.30182274066423553 Q -0.05511632126402066, -0.19225553601995773 0.9684691655660329, -0.2491334488739558L 0.9684691655660329, -0.2491334488739558 L 0.9684255195050946, -0.24930305487756801 L 0.9683818437414078, -0.24947265323476173 M 0.9683818437414078,-0.24947265323476173 Q -0.05512325303581927, -0.1922535486662055 -0.9534479773563612, 0.3015575475345689L -0.9534479773563612, 0.3015575475345689 L -0.953406028506639, 0.30169014701709723 L -0.9533640612158241, 0.30182274066423553 ",
          "type": "path"
         },
         {
          "fillcolor": "#c45e3a",
          "layer": "below",
          "line": {
           "color": "rgb(175,175,175)",
           "width": 0.5
          },
          "path": "M -0.9759188384928315,0.21813395121989299 Q -0.19980661861932036, 0.008792903724792148 -0.9913079353843081, -0.13156206612888302L -0.9913079353843081, -0.13156206612888302 L -0.99145452577595, -0.13045276278556253 L -0.9915998748242396, -0.1293432961098187 M -0.9915998748242396,-0.1293432961098187 Q -0.19980597820905097, 0.00880744411984892 -0.9763731143606593, 0.21609151198894144L -0.9763731143606593, 0.21609151198894144 L -0.9761465106138665, 0.21711285041741019 L -0.9759188384928315, 0.21813395121989299 ",
          "type": "path"
         },
         {
          "fillcolor": "#c45e3a",
          "layer": "below",
          "line": {
           "color": "rgb(175,175,175)",
           "width": 0.5
          },
          "path": "M -0.9805437860822563,0.1963004930596824 Q -0.1992999510299096, -0.016719136325648892 -0.9341343695228462, -0.3569215315390128L -0.9341343695228462, -0.3569215315390128 L -0.9354381198216501, -0.353490486413052 L -0.9367292680519853, -0.35005467912140803 M -0.9367292680519853,-0.35005467912140803 Q -0.19930300984553428, -0.016682633680293414 -0.9818890238991492, 0.18945697333794825L -0.9818890238991492, 0.18945697333794825 L -0.9812223712611857, 0.19287990599483346 L -0.9805437860822563, 0.1963004930596824 ",
          "type": "path"
         },
         {
          "fillcolor": "#c45e3a",
          "layer": "below",
          "line": {
           "color": "rgb(175,175,175)",
           "width": 0.5
          },
          "path": "M -0.978147453346339,0.20791238422006414 Q -0.1971214270570929, -0.03381039773464974 -0.8529550897108403, -0.5219843052586662L -0.8529550897108403, -0.5219843052586662 L -0.8546522038821053, -0.5192009345132772 L -0.8563402353659408, -0.5164120460382435 M -0.8563402353659408,-0.5164120460382435 Q -0.1971373016919207, -0.033717714656077126 -0.9792922891905554, 0.20245150612411217L -0.9792922891905554, 0.20245150612411217 L -0.9787236799593236, 0.20518274363815137 L -0.978147453346339, 0.20791238422006414 ",
          "type": "path"
         },
         {
          "fillcolor": "#c45e3a",
          "layer": "below",
          "line": {
           "color": "rgb(175,175,175)",
           "width": 0.5
          },
          "path": "M -0.9818890238991492,0.18945697333794825 Q -0.18411339721067765, -0.07811694417694048 -0.546059995972568, -0.8377460717893215L -0.546059995972568, -0.8377460717893215 L -0.5500423660600244, -0.8351367525974953 L -0.5540122678871477, -0.8325085026776239 M -0.5540122678871477,-0.8325085026776239 Q -0.1841719909361299, -0.07797870064717728 -0.983376997131689, 0.18157555317900592L -0.983376997131689, 0.18157555317900592 L -0.9826409123125935, 0.18551775507878981 L -0.9818890238991492, 0.18945697333794825 ",
          "type": "path"
         },
         {
          "fillcolor": "#c45e3a",
          "layer": "below",
          "line": {
           "color": "rgb(175,175,175)",
           "width": 0.5
          },
          "path": "M -0.9757664636605679,0.218814552521878 Q -0.16020355597368746, -0.11972811137483791 -0.0665419353881592, -0.9977836292677877L -0.0665419353881592, -0.9977836292677877 L -0.06680510124503353, -0.9977660439439903 L -0.06706826245457681, -0.9977483892100873 M -0.06706826245457681,-0.9977483892100873 Q -0.1601933818393309, -0.11974172378447845 -0.9759188384928315, 0.21813395121989299L -0.9759188384928315, 0.21813395121989299 L -0.9758427104123567, 0.2184742651551102 L -0.9757664636605679, 0.218814552521878 ",
          "type": "path"
         },
         {
          "fillcolor": "#c45e3a",
          "layer": "below",
          "line": {
           "color": "rgb(175,175,175)",
           "width": 0.5
          },
          "path": "M -0.9862784496123476,0.1650903383916331 Q -0.1495992674716151, -0.13274057093427077 0.046553089447538255, -0.9989158172052786L 0.046553089447538255, -0.9989158172052786 L 0.04132456127621947, -0.9991457754678884 L 0.03609490120914824, -0.9993483667403984 M 0.03609490120914824,-0.9993483667403984 Q -0.14971529550593418, -0.13260969154466357 -0.9876802280642534, 0.15648567695142093L -0.9876802280642534, 0.15648567695142093 L -0.9869887159148851, 0.1607895352835068 L -0.9862784496123476, 0.1650903383916331 ",
          "type": "path"
         },
         {
          "fillcolor": "#c45e3a",
          "layer": "below",
          "line": {
           "color": "rgb(175,175,175)",
           "width": 0.5
          },
          "path": "M -0.983376997131689,0.18157555317900592 Q -0.0992212188485731, -0.17365238187310753 0.6557443803655231, -0.7549829849864407L 0.6557443803655231, -0.7549829849864407 L 0.6521969722786752, -0.7580495428074137 L 0.6486352237624098, -0.7610994327252443 M 0.6486352237624098,-0.7610994327252443 Q -0.09933906975300476, -0.1735849913460483 -0.9848017088880383, 0.17368245211074013L -0.9848017088880383, 0.17368245211074013 L -0.9840972665181479, 0.17763043104014975 L -0.983376997131689, 0.18157555317900592 ",
          "type": "path"
         },
         {
          "fillcolor": "#c45e3a",
          "layer": "below",
          "line": {
           "color": "rgb(175,175,175)",
           "width": 0.5
          },
          "path": "M -0.9756900982467375,0.21915481327881398 Q -0.06587933898442307, -0.18883832422200605 0.9002813423876026, -0.4353085165130315L 0.9002813423876026, -0.4353085165130315 L 0.9002008145275158, -0.43547502055111853 L 0.9001202558730612, -0.4356415096923328 M 0.9001202558730612,-0.4356415096923328 Q -0.06588133924880099, -0.18883762638516827 -0.9757664636605679, 0.218814552521878L -0.9757664636605679, 0.218814552521878 L -0.9757282957858278, 0.21898468622916123 L -0.9756900982467375, 0.21915481327881398 ",
          "type": "path"
         },
         {
          "fillcolor": "#c45e3a",
          "layer": "below",
          "line": {
           "color": "rgb(175,175,175)",
           "width": 0.5
          },
          "path": "M -0.9848017088880383,0.17368245211074013 Q -0.038711653000491966, -0.19621775638807387 0.9769747527725481, -0.21335494474002373L 0.9769747527725481, -0.21335494474002373 L 0.9760312604096111, -0.21763037173893252 L 0.9750690580604598, -0.22190162688247134 M 0.9750690580604598,-0.22190162688247134 Q -0.038715427370194025, -0.196217011707811 -0.9862784496123476, 0.1650903383916331L -0.9862784496123476, 0.1650903383916331 L -0.9855494426526845, 0.1693880045545815 L -0.9848017088880383, 0.17368245211074013 ",
          "type": "path"
         },
         {
          "fillcolor": "#c45e3a",
          "layer": "below",
          "line": {
           "color": "rgb(175,175,175)",
           "width": 0.5
          },
          "path": "M -0.9773427122456597,0.21166299350688986 Q -0.030059335356578953, -0.19772818807120224 0.996089919891984, -0.08834518373732023L 0.996089919891984, -0.08834518373732023 L 0.9959442261046032, -0.08997276526206761 L 0.9957958728988462, -0.09160010653719246 M 0.9957958728988462,-0.09160010653719246 Q -0.03000319963475838, -0.1977367138689142 -0.978147453346339, 0.20791238422006414L -0.978147453346339, 0.20791238422006414 L -0.9777468812015006, 0.20978807473433472 L -0.9773427122456597, 0.21166299350688986 ",
          "type": "path"
         },
         {
          "fillcolor": "#bf4d28",
          "layer": "below",
          "line": {
           "color": "rgb(175,175,175)",
           "width": 0.5
          },
          "path": "M -0.9994851688501479,-0.03208422117788337 Q -0.19781805972868527, -0.029462098451711 -0.9654563095179404, -0.26056499076429834L -0.9654563095179404, -0.26056499076429834 L -0.9690983088335917, -0.24667482201447424 L -0.972540479160309, -0.23273378868277095 M -0.972540479160309,-0.23273378868277095 Q -0.197824607125536, -0.029418103535532866 -0.9981786120386287, -0.06032792445159005L -0.9981786120386287, -0.06032792445159005 L -0.9989317154152049, -0.04621069072883635 L -0.9994851688501479, -0.03208422117788337 ",
          "type": "path"
         },
         {
          "fillcolor": "#bf4d28",
          "layer": "below",
          "line": {
           "color": "rgb(175,175,175)",
           "width": 0.5
          },
          "path": "M -0.9979451322260477,0.06407427772777473 Q -0.198170093503515, -0.02699285166128497 -0.9444520612290817, -0.3286492112270147L -0.9444520612290817, -0.3286492112270147 L -0.9446930616795566, -0.32795581899778137 L -0.944933553059502, -0.3272622500416834 M -0.944933553059502,-0.3272622500416834 Q -0.19817008456112883, -0.026992917312418166 -0.9980381694840019, 0.06260840401274058L -0.9980381694840019, 0.06260840401274058 L -0.9979919199937317, 0.06334135795217045 L -0.9979451322260477, 0.06407427772777473 ",
          "type": "path"
         },
         {
          "fillcolor": "#bf4d28",
          "layer": "below",
          "line": {
           "color": "rgb(175,175,175)",
           "width": 0.5
          },
          "path": "M -0.9981736880423311,0.06040934116484918 Q -0.19444615019699402, -0.046804857371517 -0.8613496547836382, -0.5080125709114954L -0.8613496547836382, -0.5080125709114954 L -0.8621765612704343, -0.5066079126858256 L -0.8630011770928581, -0.5052019084844607 M -0.8630011770928581,-0.5052019084844607 Q -0.19445369065509233, -0.04677352018625138 -0.9983468420895034, 0.05747680305928717L -0.9983468420895034, 0.05747680305928717 L -0.9982613419112305, 0.0589431356952568 L -0.9981736880423311, 0.06040934116484918 ",
          "type": "path"
         },
         {
          "fillcolor": "#bf4d28",
          "layer": "below",
          "line": {
           "color": "rgb(175,175,175)",
           "width": 0.5
          },
          "path": "M -0.9998888089538195,0.014912066554045372 Q -0.17488924597776137, -0.09702448990502388 -0.5166017633305668, -0.8562257985623588L -0.5166017633305668, -0.8562257985623588 L -0.5217324314154679, -0.853109178247019 L -0.5268442977884662, -0.8499618143703739 M -0.5268442977884662,-0.8499618143703739 Q -0.1749550478121905, -0.096905785405383 -0.9999909106585222, 0.004263636984962176L -0.9999909106585222, 0.004263636984962176 L -0.9999540341897004, 0.009587987679565637 L -0.9998888089538195, 0.014912066554045372 ",
          "type": "path"
         },
         {
          "fillcolor": "#bf4d28",
          "layer": "below",
          "line": {
           "color": "rgb(175,175,175)",
           "width": 0.5
          },
          "path": "M -0.9976531032277651,0.0684710568051223 Q -0.15054147646772784, -0.13167104413240047 -0.06496284367818857, -0.9978876835301873L -0.06496284367818857, -0.9978876835301873 L -0.06535763201237262, -0.9978619042421327 L -0.06575241011662322, -0.9978359687663375 M -0.06575241011662322,-0.9978359687663375 Q -0.1505210419902533, -0.13169440351878436 -0.9977279267719131, 0.06737198334189035L -0.9977279267719131, 0.06737198334189035 L -0.997690666344666, 0.06792153037687249 L -0.9976531032277651, 0.0684710568051223 ",
          "type": "path"
         },
         {
          "fillcolor": "#bf4d28",
          "layer": "below",
          "line": {
           "color": "rgb(175,175,175)",
           "width": 0.5
          },
          "path": "M -0.9994586561235147,0.032899767473006616 Q -0.14119511092349354, -0.14164724018244182 0.03609490120914824, -0.9993483667403984L 0.03609490120914824, -0.9993483667403984 L 0.03128273739469037, -0.999510575402329 L 0.02646984834526766, -0.9996496121784765 M 0.02646984834526766,-0.9996496121784765 Q -0.14127894621176237, -0.14156362300144043 -0.9997008698206078, 0.024457532171503486L -0.9997008698206078, 0.024457532171503486 L -0.9995886755948687, 0.0286789055317019 L -0.9994586561235147, 0.032899767473006616 ",
          "type": "path"
         },
         {
          "fillcolor": "#bf4d28",
          "layer": "below",
          "line": {
           "color": "rgb(175,175,175)",
           "width": 0.5
          },
          "path": "M -0.9981786120386287,-0.06032792445159005 Q -0.05703140048888057, -0.19169616417204838 0.8028684333861973, -0.5961562535711533L 0.8028684333861973, -0.5961562535711533 L 0.7924173778605583, -0.6099792613397583 L 0.7817283593128495, -0.6236190922719096 M 0.7817283593128495,-0.6236190922719096 Q -0.05736163456834347, -0.1915976066647176 -0.9958097493592508, -0.09144912837783732L -0.9958097493592508, -0.09144912837783732 L -0.9971156044717207, -0.07589776886704334 L -0.9981786120386287, -0.06032792445159005 ",
          "type": "path"
         },
         {
          "fillcolor": "#bf4d28",
          "layer": "below",
          "line": {
           "color": "rgb(175,175,175)",
           "width": 0.5
          },
          "path": "M -0.9980381694840019,0.06260840401274058 Q -0.04981137641409698, -0.193697771746949 0.9044262884791809, -0.42662992008035877L 0.9044262884791809, -0.42662992008035877 L 0.9039522877999187, -0.4276333258543971 L 0.9034771739036023, -0.4286362049980847 M 0.9034771739036023,-0.4286362049980847 Q -0.049812947715611886, -0.19369736766379073 -0.9981736880423311, 0.06040934116484918L -0.9981736880423311, 0.06040934116484918 L -0.9981065343947686, 0.06150890991120323 L -0.9980381694840019, 0.06260840401274058 ",
          "type": "path"
         },
         {
          "fillcolor": "#bf4d28",
          "layer": "below",
          "line": {
           "color": "rgb(175,175,175)",
           "width": 0.5
          },
          "path": "M -0.9999909106585222,0.004263636984962176 Q -0.01703779284670937, -0.19927296257875182 0.9862005122593397, -0.1655552766281281L 0.9862005122593397, -0.1655552766281281 L 0.9847435109507912, -0.1740121192340037 L 0.9832139921062842, -0.18245614740650307 M 0.9832139921062842,-0.18245614740650307 Q -0.01695507696068348, -0.19928001747605628 -0.9999057527702172, -0.013729004953938233L -0.9999057527702172, -0.013729004953938233 L -0.9999887998819469, -0.00473287551743256 L -0.9999909106585222, 0.004263636984962176 ",
          "type": "path"
         },
         {
          "fillcolor": "#bf4d28",
          "layer": "below",
          "line": {
           "color": "rgb(175,175,175)",
           "width": 0.5
          },
          "path": "M -0.9988850250906501,0.04720917971805156 Q -0.010830038303344251, -0.19970656040888618 0.998132348160512, -0.06108858776876872L 0.998132348160512, -0.06108858776876872 L 0.9979559488609937, -0.06390558765048368 L 0.9977715992405772, -0.06672207842162069 M 0.9977715992405772,-0.06672207842162069 Q -0.010697043914971956, -0.19971372824991568 -0.9991900852545046, 0.0402389553678502L -0.9991900852545046, 0.0402389553678502 L -0.9990436340080815, 0.04372433359042106 L -0.9988850250906501, 0.04720917971805156 ",
          "type": "path"
         },
         {
          "fillcolor": "#af4624",
          "layer": "below",
          "line": {
           "color": "rgb(175,175,175)",
           "width": 0.5
          },
          "path": "M -0.9923079936004028,-0.12379356137030342 Q -0.19472294452201563, -0.04563961959390142 -0.9439685336362929, -0.33003546401038025L -0.9439685336362929, -0.33003546401038025 L -0.9442105518379461, -0.3293424263557327 L -0.9444520612290817, -0.3286492112270147 M -0.9444520612290817,-0.3286492112270147 Q -0.1947224021092488, -0.0456419337539945 -0.992122198028431, -0.12527387668318793L -0.992122198028431, -0.12527387668318793 L -0.9922153718802027, -0.12453375367598547 L -0.9923079936004028, -0.12379356137030342 ",
          "type": "path"
         },
         {
          "fillcolor": "#af4624",
          "layer": "below",
          "line": {
           "color": "rgb(175,175,175)",
           "width": 0.5
          },
          "path": "M -0.9906074390070018,-0.13673661464285775 Q -0.18855686529736576, -0.06668064598690586 -0.8563402353659408, -0.5164120460382435L -0.8563402353659408, -0.5164120460382435 L -0.8578097981672179, -0.5139672656583459 L -0.8592723813425142, -0.5115183033499044 M -0.8592723813425142,-0.5115183033499044 Q -0.18857296922947198, -0.06663509042524537 -0.989879932085847, -0.14190743480776094L -0.989879932085847, -0.14190743480776094 L -0.9902470606418684, -0.13932249958330417 L -0.9906074390070018, -0.13673661464285775 ",
          "type": "path"
         },
         {
          "fillcolor": "#af4624",
          "layer": "below",
          "line": {
           "color": "rgb(175,175,175)",
           "width": 0.5
          },
          "path": "M -0.9844286989096257,-0.1757843473210898 Q -0.16548296974691443, -0.1123182386068345 -0.5268442977884662, -0.8499618143703739L -0.5268442977884662, -0.8499618143703739 L -0.5319371782328393, -0.8467838203542181 L -0.5370108892160622, -0.8435753107241666 M -0.5370108892160622,-0.8435753107241666 Q -0.1655497533401883, -0.11221978064941503 -0.9824697796961797, -0.18642191926847046L -0.9824697796961797, -0.18642191926847046 L -0.983463621985934, -0.18110578187983978 L -0.9844286989096257, -0.1757843473210898 ",
          "type": "path"
         },
         {
          "fillcolor": "#af4624",
          "layer": "below",
          "line": {
           "color": "rgb(175,175,175)",
           "width": 0.5
          },
          "path": "M -0.992445890821345,-0.12268314387815007 Q -0.13731992248096334, -0.14540714868885307 -0.06575241011662322, -0.9978359687663375L -0.06575241011662322, -0.9978359687663375 L -0.06614717792914875, -0.9978098771068612 L -0.0665419353881592, -0.9977836292677877 M -0.0665419353881592,-0.9977836292677877 Q -0.13729609648138333, -0.1454296458462809 -0.9923079936004028, -0.12379356137030342L -0.9923079936004028, -0.12379356137030342 L -0.9923770975231925, -0.12323837191169049 L -0.992445890821345, -0.12268314387815007 ",
          "type": "path"
         },
         {
          "fillcolor": "#af4624",
          "layer": "below",
          "line": {
           "color": "rgb(175,175,175)",
           "width": 0.5
          },
          "path": "M -0.9858379593521578,-0.16770067948691575 Q -0.1269852825733579, -0.15451452362080548 0.02646984834526766, -0.9996496121784765L 0.02646984834526766, -0.9996496121784765 L 0.02186563961260768, -0.9997609183221414 L 0.017260967085086502, -0.9998510184098867 M 0.017260967085086502,-0.9998510184098867 Q -0.12706294896160708, -0.15445066202894708 -0.9844286989096257, -0.1757843473210898L -0.9844286989096257, -0.1757843473210898 L -0.9851416205733708, -0.171743958886689 L -0.9858379593521578, -0.16770067948691575 ",
          "type": "path"
         },
         {
          "fillcolor": "#af4624",
          "layer": "below",
          "line": {
           "color": "rgb(175,175,175)",
           "width": 0.5
          },
          "path": "M -0.9654563095179404,-0.26056499076429834 Q -0.02949147699408954, -0.19781368199572824 0.847466730556729, -0.5308485100285093L 0.847466730556729, -0.5308485100285093 L 0.836803703672015, -0.5475030242115551 L 0.8258134254650317, -0.563943424752617 M 0.8258134254650317,-0.563943424752617 Q -0.029824996568175163, -0.19776367103112832 -0.955399515238569, -0.2953163833618232L -0.955399515238569, -0.2953163833618232 L -0.9605850767616159, -0.27798616926545205 L -0.9654563095179404, -0.26056499076429834 ",
          "type": "path"
         },
         {
          "fillcolor": "#af4624",
          "layer": "below",
          "line": {
           "color": "rgb(175,175,175)",
           "width": 0.5
          },
          "path": "M -0.991886848164384,-0.12712387831766406 Q -0.03142068644112327, -0.1975164308698611 0.9034771739036023, -0.4286362049980847L 0.9034771739036023, -0.4286362049980847 L 0.9030009473753347, -0.4296385562763753 L 0.9025236088015892, -0.4306403784548727 M 0.9025236088015892,-0.4306403784548727 Q -0.031418865829017525, -0.1975167204821359 -0.9915998748242396, -0.1293432961098187L -0.9915998748242396, -0.1293432961098187 L -0.991743982347194, -0.12823366749075163 L -0.991886848164384, -0.12712387831766406 ",
          "type": "path"
         },
         {
          "fillcolor": "#af4624",
          "layer": "below",
          "line": {
           "color": "rgb(175,175,175)",
           "width": 0.5
          },
          "path": "M -0.9799525119960004,-0.19923120797889227 Q 0.0017089175220504006, -0.1999926988689908 0.9832139921062842, -0.18245614740650307L 0.9832139921062842, -0.18245614740650307 L 0.9820110645894495, -0.1888233805011869 L 0.9807669037125883, -0.19518268514912473 M 0.9807669037125883,-0.19518268514912473 Q 0.0017929732421112826, -0.1999919629558975 -0.977109824856154, -0.2127354934409772L -0.977109824856154, -0.2127354934409772 L -0.9785544639992014, -0.2059882544885403 L -0.9799525119960004, -0.19923120797889227 ",
          "type": "path"
         },
         {
          "fillcolor": "#af4624",
          "layer": "below",
          "line": {
           "color": "rgb(175,175,175)",
           "width": 0.5
          },
          "path": "M -0.9890154469493873,-0.14781219738405835 Q 0.007621772974349109, -0.19985471867516036 0.9974005076830734, -0.07205711119346492L 0.9974005076830734, -0.07205711119346492 L 0.9972153534785089, -0.07457572518408787 L 0.9970238393350671, -0.07709386355321919 M 0.9970238393350671,-0.07709386355321919 Q 0.007750665501793128, -0.19984976153170492 -0.9880583389703709, -0.15408023491386486L -0.9880583389703709, -0.15408023491386486 L -0.9885418609327529, -0.15094697474149626 L -0.9890154469493873, -0.14781219738405835 ",
          "type": "path"
         },
         {
          "fillcolor": "#9f4021",
          "layer": "below",
          "line": {
           "color": "rgb(175,175,175)",
           "width": 0.5
          },
          "path": "M -0.9188217250058108,-0.39467282356066286 Q -0.17309353300690783, -0.10019295799199919 -0.7998718783821913, -0.6001707908365292L -0.7998718783821913, -0.6001707908365292 L -0.8077499227718204, -0.5895252855154884 L -0.8154862956060945, -0.5787763831382976 M -0.8154862956060945,-0.5787763831382976 Q -0.17322511637723859, -0.09996528925628209 -0.9091451891229786, -0.4164793213288547L -0.9091451891229786, -0.4164793213288547 L -0.9140484892081004, -0.40560493016775473 L -0.9188217250058108, -0.39467282356066286 ",
          "type": "path"
         },
         {
          "fillcolor": "#9f4021",
          "layer": "below",
          "line": {
           "color": "rgb(175,175,175)",
           "width": 0.5
          },
          "path": "M -0.9298778883367324,-0.3678683362052508 Q -0.15170243279107723, -0.13033177619164368 -0.5037834612067765, -0.8638299741352579L -0.5037834612067765, -0.8638299741352579 L -0.5102067791445608, -0.860051767345974 L -0.5166017633305668, -0.8562257985623588 M -0.5166017633305668,-0.8562257985623588 Q -0.15181256080185757, -0.1302034806861257 -0.9249360460642451, -0.3801227573969239L -0.9249360460642451, -0.3801227573969239 L -0.9274272076673695, -0.37400370917720305 L -0.9298778883367324, -0.3678683362052508 ",
          "type": "path"
         },
         {
          "fillcolor": "#9f4021",
          "layer": "below",
          "line": {
           "color": "rgb(175,175,175)",
           "width": 0.5
          },
          "path": "M -0.9433612629426837,-0.3317672792473434 Q -0.12059607188578025, -0.159551206343668 -0.06180417614263151, -0.9980882945968912L -0.06180417614263151, -0.9980882945968912 L -0.06259390230501456, -0.9980390790917109 L -0.06338358927800689, -0.9979892387246653 M -0.06338358927800689,-0.9979892387246653 Q -0.12054662718595349, -0.1595885668652073 -0.9426283443810008, -0.3338439820777564L -0.9426283443810008, -0.3338439820777564 L -0.9429953753369621, -0.33280583242050005 L -0.9433612629426837, -0.3317672792473434 ",
          "type": "path"
         },
         {
          "fillcolor": "#9f4021",
          "layer": "below",
          "line": {
           "color": "rgb(175,175,175)",
           "width": 0.5
          },
          "path": "M -0.896688405832244,-0.4426622898395896 Q -0.0804025443201666, -0.1831268163509748 0.2809682736131547, -0.9597170568573028L 0.2809682736131547, -0.9597170568573028 L 0.2632414673503923, -0.9647299776969783 L 0.2454253250847185, -0.9694154990544871 M 0.2454253250847185,-0.9694154990544871 Q -0.08081848534325375, -0.18294363182910273 -0.8819254056357018, -0.47138898894045334L -0.8819254056357018, -0.47138898894045334 L -0.8894228906411399, -0.4570852454450471 L -0.896688405832244, -0.4426622898395896 ",
          "type": "path"
         },
         {
          "fillcolor": "#9f4021",
          "layer": "below",
          "line": {
           "color": "rgb(175,175,175)",
           "width": 0.5
          },
          "path": "M -0.9386423235159151,-0.3448921403926799 Q -0.05155577029711198, -0.1932407890406977 0.6420944160055598, -0.7666255676237775L 0.6420944160055598, -0.7666255676237775 L 0.6397469788753892, -0.7685855860083588 L 0.6373935587462904, -0.7705384164782046 M 0.6373935587462904,-0.7705384164782046 Q -0.051614769228107864, -0.19322503874376418 -0.9367292680519853, -0.35005467912140803L -0.9367292680519853, -0.35005467912140803 L -0.9376893486472541, -0.34747472632335213 L -0.9386423235159151, -0.3448921403926799 ",
          "type": "path"
         },
         {
          "fillcolor": "#9f4021",
          "layer": "below",
          "line": {
           "color": "rgb(175,175,175)",
           "width": 0.5
          },
          "path": "M -0.945293335338764,-0.3262215660622625 Q -0.011690083904425306, -0.19965806254270702 0.900763862712219, -0.43430917976916245L 0.900763862712219, -0.43430917976916245 L 0.9005227411741177, -0.43480891507448777 L 0.9002813423876026, -0.4353085165130315 M 0.9002813423876026,-0.4353085165130315 Q -0.01169094333930553, -0.19965801222048954 -0.944933553059502, -0.3272622500416834L -0.944933553059502, -0.3272622500416834 L -0.9451135874389563, -0.3267419575724339 L -0.945293335338764, -0.3262215660622625 ",
          "type": "path"
         },
         {
          "fillcolor": "#9f4021",
          "layer": "below",
          "line": {
           "color": "rgb(175,175,175)",
           "width": 0.5
          },
          "path": "M -0.9455325534760096,-0.32552755692435176 Q 0.008116299434636126, -0.19983524634930477 0.9688172645941361, -0.24777632619831888L 0.9688172645941361, -0.24777632619831888 L 0.9687304180990375, -0.2481156525688454 L 0.968643452755539, -0.24845494849937683 M 0.968643452755539,-0.24845494849937683 Q 0.008119651957164924, -0.1998351101585868 -0.945293335338764, -0.3262215660622625L -0.945293335338764, -0.3262215660622625 L -0.9454130080897002, -0.3258745834439754 L -0.9455325534760096, -0.32552755692435176 ",
          "type": "path"
         },
         {
          "fillcolor": "#9f4021",
          "layer": "below",
          "line": {
           "color": "rgb(175,175,175)",
           "width": 0.5
          },
          "path": "M -0.9415203958687353,-0.3369559973693599 Q 0.025777057365720682, -0.19833190190578104 0.9963733276625657, -0.08508931732377138L 0.9963733276625657, -0.08508931732377138 L 0.9962329538719502, -0.08671736630899621 L 0.996089919891984, -0.08834518373732023 M 0.996089919891984,-0.08834518373732023 Q 0.025853340146347048, -0.19832197256803716 -0.9401522853895974, -0.3407545748434157L -0.9401522853895974, -0.3407545748434157 L -0.940838257696926, -0.3388559765649895 L -0.9415203958687353, -0.3369559973693599 ",
          "type": "path"
         },
         {
          "fillcolor": "#8f391e",
          "layer": "below",
          "line": {
           "color": "rgb(175,175,175)",
           "width": 0.5
          },
          "path": "M -0.7324733447454052,-0.6807957103547868 Q -0.10575821384645212, -0.16975040560778673 -0.28825428028451316, -0.9575538992128105L -0.28825428028451316, -0.9575538992128105 L -0.3268569121490596, -0.9450738378456902 L -0.36492156528028286, -0.931038265160669 M -0.36492156528028286,-0.931038265160669 Q -0.10586651271276962, -0.1696828850710554 -0.6758215918053093, -0.7370652454496399L -0.6758215918053093, -0.7370652454496399 L -0.7047093175370558, -0.7094961435951974 L -0.7324733447454052, -0.6807957103547868 ",
          "type": "path"
         },
         {
          "fillcolor": "#8f391e",
          "layer": "below",
          "line": {
           "color": "rgb(175,175,175)",
           "width": 0.5
          },
          "path": "M -0.8529550897108403,-0.5219843052586662 Q -0.10137878099152048, -0.17240169014448012 -0.04152268741261717, -0.9991375613147742L -0.04152268741261717, -0.9991375613147742 L -0.04376254604827234, -0.9990419608621917 L -0.046002184728725484, -0.9989413391186612 M -0.046002184728725484,-0.9989413391186612 Q -0.10116806286707991, -0.17252542727297496 -0.8493186472012757, -0.5278805125368761L -0.8493186472012757, -0.5278805125368761 L -0.8511419741501718, -0.524935557797096 L -0.8529550897108403, -0.5219843052586662 ",
          "type": "path"
         },
         {
          "fillcolor": "#8f391e",
          "layer": "below",
          "line": {
           "color": "rgb(175,175,175)",
           "width": 0.5
          },
          "path": "M -0.7775842239090586,-0.6287787963407697 Q -0.04725452400761915, -0.19433736120677708 0.4020535034743111, -0.9156161752306652L 0.4020535034743111, -0.9156161752306652 L 0.3694150273623034, -0.9292645143116726 L 0.33631421087665464, -0.9417498349149912 M 0.33631421087665464,-0.9417498349149912 Q -0.04743828775078431, -0.19429258569300525 -0.7324733447454052, -0.6807957103547868L -0.7324733447454052, -0.6807957103547868 L -0.7554766078433818, -0.6551756214950746 L -0.7775842239090586, -0.6287787963407697 ",
          "type": "path"
         },
         {
          "fillcolor": "#8f391e",
          "layer": "below",
          "line": {
           "color": "rgb(175,175,175)",
           "width": 0.5
          },
          "path": "M -0.8493186472012757,-0.5278805125368761 Q -0.03076766178587055, -0.19761920703269276 0.6486352237624098, -0.7610994327252443L 0.6486352237624098, -0.7610994327252443 L 0.6453707347607396, -0.7638695011023696 L 0.6420944160055598, -0.7666255676237775 M 0.6420944160055598,-0.7666255676237775 Q -0.03076819067759376, -0.19761912468793913 -0.8447703188979583, -0.5351290576197875L -0.8447703188979583, -0.5351290576197875 L -0.8470522366514639, -0.5315096503204362 L -0.8493186472012757, -0.5278805125368761 ",
          "type": "path"
         },
         {
          "fillcolor": "#8f391e",
          "layer": "below",
          "line": {
           "color": "rgb(175,175,175)",
           "width": 0.5
          },
          "path": "M -0.8447703188979583,-0.5351290576197875 Q 0.014743759629651715, -0.1994558135326796 0.9142720413134321, -0.4051007707627449L 0.9142720413134321, -0.4051007707627449 L 0.9125404901233657, -0.4089863737160538 L 0.910792425436484, -0.4128645755783932 M 0.910792425436484,-0.4128645755783932 Q 0.014829969651817876, -0.19944942216042183 -0.8397178494036627, -0.5430229584399611L -0.8397178494036627, -0.5430229584399611 L -0.8422533322608924, -0.5390819272572794 L -0.8447703188979583, -0.5351290576197875 ",
          "type": "path"
         },
         {
          "fillcolor": "#8f391e",
          "layer": "below",
          "line": {
           "color": "rgb(175,175,175)",
           "width": 0.5
          },
          "path": "M -0.8662766900128116,-0.49956450668602065 Q 0.02711733104992401, -0.198153098276885 0.968643452755539, -0.24845494849937683L 0.968643452755539, -0.24845494849937683 L 0.9685563685743095, -0.24879421394828757 L 0.9684691655660329, -0.2491334488739558 M 0.9684691655660329,-0.2491334488739558 Q 0.027128671627079222, -0.19815154598374982 -0.8658692619136866, -0.5002703481849065L -0.8658692619136866, -0.5002703481849065 L -0.8660730478700363, -0.4999174689417304 L -0.8662766900128116, -0.49956450668602065 ",
          "type": "path"
         },
         {
          "fillcolor": "#8f391e",
          "layer": "below",
          "line": {
           "color": "rgb(175,175,175)",
           "width": 0.5
          },
          "path": "M -0.8666835427224023,-0.4988583333714551 Q 0.042317001879851636, -0.1954719195994674 0.9954062489333807, -0.09574131597370299L 0.9954062489333807, -0.09574131597370299 L 0.9953777595655049, -0.09603705411119104 L 0.9953491823329566, -0.09633278377123088 M 0.9953491823329566,-0.09633278377123088 Q 0.042338579409158784, -0.1954672471121808 -0.8662766900128116, -0.49956450668602065L -0.8662766900128116, -0.49956450668602065 L -0.8664801883081974, -0.4992114614763875 L -0.8666835427224023, -0.4988583333714551 ",
          "type": "path"
         },
         {
          "fillcolor": "#f0f3e7",
          "layer": "below",
          "line": {
           "color": "rgb(175,175,175)",
           "width": 0.5
          },
          "path": "M -0.5619143070890118,-0.8271954493882784 Q -0.062169249301133, -0.19009204202526098 -0.03546087918106622, -0.9993710652443895L -0.03546087918106622, -0.9993710652443895 L -0.038491960360473636, -0.9992589098865258 L -0.04152268741261717, -0.9991375613147742 M -0.04152268741261717,-0.9991375613147742 Q -0.06184069260334945, -0.19019918174991723 -0.5540122678871477, -0.8325085026776239L -0.5540122678871477, -0.8325085026776239 L -0.557969611464925, -0.8298613816063986 L -0.5619143070890118, -0.8271954493882784 ",
          "type": "path"
         },
         {
          "fillcolor": "#f0f3e7",
          "layer": "below",
          "line": {
           "color": "rgb(175,175,175)",
           "width": 0.5
          },
          "path": "M -0.28825428028451316,-0.9575538992128105 Q 0.021181240233215454, -0.19887522485765496 0.48346923630815286, -0.8753613525531108L 0.48346923630815286, -0.8753613525531108 L 0.4432186180150382, -0.8964135522429587 L 0.4020535034743111, -0.9156161752306652 M 0.4020535034743111,-0.9156161752306652 Q 0.021080245427451197, -0.19888595539333195 -0.20118133694807852, -0.9795540156947874L -0.20118133694807852, -0.9795540156947874 L -0.24496491000808082, -0.9695319452523123 L -0.28825428028451316, -0.9575538992128105 ",
          "type": "path"
         },
         {
          "fillcolor": "#f0f3e7",
          "layer": "below",
          "line": {
           "color": "rgb(175,175,175)",
           "width": 0.5
          },
          "path": "M -0.45326617590301216,-0.8913752149248148 Q 0.03922352048114394, -0.19611607644725426 0.7612381087673616, -0.6484724680048418L 0.7612381087673616, -0.6484724680048418 L 0.7528464804980355, -0.6581961537427282 L 0.7443306555292704, -0.6678112571972463 M 0.7443306555292704,-0.6678112571972463 Q 0.039262170212099365, -0.1961083424799571 -0.42986541587660393, -0.9028929749606175L -0.42986541587660393, -0.9028929749606175 L -0.44160334781210636, -0.897210389597189 L -0.45326617590301216, -0.8913752149248148 ",
          "type": "path"
         },
         {
          "fillcolor": "#f0f3e7",
          "layer": "below",
          "line": {
           "color": "rgb(175,175,175)",
           "width": 0.5
          },
          "path": "M -0.48868753919669117,-0.8724588752679878 Q 0.06580065739666738, -0.1888657551970881 0.9250171039679689, -0.3799254629091236L 0.9250171039679689, -0.3799254629091236 L 0.9218229926677745, -0.3876111068958529 L 0.9185650253333475, -0.3952699004912297 M 0.9185650253333475,-0.3952699004912297 Q 0.06598801372700568, -0.18880037617643805 -0.47234949890694744, -0.8814113403413616L -0.47234949890694744, -0.8814113403413616 L -0.480539367595909, -0.8769731559121544 L -0.48868753919669117, -0.8724588752679878 ",
          "type": "path"
         },
         {
          "fillcolor": "#f0f3e7",
          "layer": "below",
          "line": {
           "color": "rgb(175,175,175)",
           "width": 0.5
          },
          "path": "M -0.5745190732998395,-0.8184911938528683 Q 0.0697288537513084, -0.18745102548273415 0.9697647290089806, -0.24404173899179296L 0.9697647290089806, -0.24404173899179296 L 0.9694218614114601, -0.24540019278219763 L 0.969077090882556, -0.24675816486309474 M 0.969077090882556,-0.24675816486309474 Q 0.06977664624618939, -0.18743324048480342 -0.5718050400254702, -0.820389539305244L -0.5718050400254702, -0.820389539305244 L -0.5731628425906798, -0.8194414902074287 L -0.5745190732998395, -0.8184911938528683 ",
          "type": "path"
         },
         {
          "fillcolor": "#f0f3e7",
          "layer": "below",
          "line": {
           "color": "rgb(175,175,175)",
           "width": 0.5
          },
          "path": "M -0.5680630085040278,-0.8229850657025028 Q 0.08698178998409926, -0.1800948866879958 0.9977715992405772, -0.06672207842162069L 0.9977715992405772, -0.06672207842162069 L 0.9975896198864587, -0.06938984287913458 L 0.9974005076830734, -0.07205711119346492 M 0.9974005076830734,-0.07205711119346492 Q 0.0871712189153895, -0.18000327383913117 -0.5619143070890118, -0.8271954493882784L -0.5619143070890118, -0.8271954493882784 L -0.5649925798374774, -0.8250959851608731 L -0.5680630085040278, -0.8229850657025028 ",
          "type": "path"
         },
         {
          "fillcolor": "#e2ecde",
          "layer": "below",
          "line": {
           "color": "rgb(175,175,175)",
           "width": 0.5
          },
          "path": "M -0.029397765987632288,-0.9995677922757097 Q 0.005609845968797774, -0.19992130858967078 0.0854036587620182, -0.9963464332600688L 0.0854036587620182, -0.9963464332600688 L 0.07830987967312268, -0.9969290660551436 L 0.07121213331466922, -0.997461193264567 M 0.07121213331466922,-0.997461193264567 Q 0.005083257614331753, -0.19993539079419217 -0.020432986505172154, -0.9997912247376847L -0.020432986505172154, -0.9997912247376847 L -0.024915626703256935, -0.9996895575857457 L -0.029397765987632288, -0.9995677922757097 ",
          "type": "path"
         },
         {
          "fillcolor": "#e2ecde",
          "layer": "below",
          "line": {
           "color": "rgb(175,175,175)",
           "width": 0.5
          },
          "path": "M -0.06022460822747826,-0.9981848508987936 Q 0.06157874316045789, -0.19028415170680496 0.6336156968585499, -0.7736479488077599L 0.6336156968585499, -0.7736479488077599 L 0.6321950828512629, -0.7748092521509309 L 0.6307723403887812, -0.7759679468898568 M 0.6307723403887812,-0.7759679468898568 Q 0.06145542824144188, -0.1903240140908682 -0.057854974796087914, -0.9983249981300398L -0.057854974796087914, -0.9983249981300398 L -0.05903983309653211, -0.9982556276364956 L -0.06022460822747826, -0.9981848508987936 ",
          "type": "path"
         },
         {
          "fillcolor": "#e2ecde",
          "layer": "below",
          "line": {
           "color": "rgb(175,175,175)",
           "width": 0.5
          },
          "path": "M -0.06180417614263151,-0.9980882945968912 Q 0.1014300893218732, -0.17237150860904138 0.9025236088015892, -0.4306403784548727L 0.9025236088015892, -0.4306403784548727 L 0.9020451587702079, -0.43164167029983386 L 0.9015655978704014, -0.432642430578169 M 0.9015655978704014,-0.432642430578169 Q 0.10137518878085712, -0.17240380245123826 -0.06022460822747826, -0.9981848508987936L -0.06022460822747826, -0.9981848508987936 L -0.061014411285297936, -0.9981368852093928 L -0.06180417614263151, -0.9980882945968912 ",
          "type": "path"
         },
         {
          "fillcolor": "#e2ecde",
          "layer": "below",
          "line": {
           "color": "rgb(175,175,175)",
           "width": 0.5
          },
          "path": "M -0.06759457085844273,-0.9977128715168824 Q 0.12935279980335124, -0.15253803847904346 0.9953491823329566, -0.09633278377123088L 0.9953491823329566, -0.09633278377123088 L 0.9953205172382584, -0.09662850492771675 L 0.9952917642839407, -0.09692421755454367 M 0.9952917642839407,-0.09692421755454367 Q 0.12934771190814562, -0.15254235288642748 -0.06706826245457681, -0.9977483892100873L -0.06706826245457681, -0.9977483892100873 L -0.06733141899848208, -0.997730665067307 L -0.06759457085844273, -0.9977128715168824 ",
          "type": "path"
         },
         {
          "fillcolor": "#d4e5d6",
          "layer": "below",
          "line": {
           "color": "rgb(175,175,175)",
           "width": 0.5
          },
          "path": "M 0.21323227233099715,-0.977001534306144 Q 0.10558531189797193, -0.16985800514373173 0.7817283593128495, -0.6236190922719096L 0.7817283593128495, -0.6236190922719096 L 0.7715833091613056, -0.6361282866086755 L 0.7612381087673616, -0.6484724680048418 M 0.7612381087673616,-0.6484724680048418 Q 0.10565868152850462, -0.16981237592607332 0.2454253250847185, -0.9694154990544871L 0.2454253250847185, -0.9694154990544871 L 0.2293601641512737, -0.9733416230186094 L 0.21323227233099715, -0.977001534306144 ",
          "type": "path"
         },
         {
          "fillcolor": "#d4e5d6",
          "layer": "below",
          "line": {
           "color": "rgb(175,175,175)",
           "width": 0.5
          },
          "path": "M 0.0854036587620182,-0.9963464332600688 Q 0.12255349426272875, -0.15805265275848843 0.9436885332354598, -0.33083523427819256L 0.9436885332354598, -0.33083523427819256 L 0.9406515290038399, -0.33937398395094776 L 0.9375372656375344, -0.3478848596028509 M 0.9375372656375344,-0.3478848596028509 Q 0.12274228619148252, -0.1579060834182401 0.10582496479591261, -0.994384773025987L 0.10582496479591261, -0.994384773025987 L 0.09561934241921774, -0.9954179731928273 L 0.0854036587620182, -0.9963464332600688 ",
          "type": "path"
         },
         {
          "fillcolor": "#d4e5d6",
          "layer": "below",
          "line": {
           "color": "rgb(175,175,175)",
           "width": 0.5
          },
          "path": "M 0.010981297228877135,-0.9999397037377659 Q 0.12360408062071415, -0.15723241158841264 0.969077090882556, -0.24675816486309474L 0.969077090882556, -0.24675816486309474 L 0.9689473114727303, -0.24726727965860723 L 0.9688172645941361, -0.24777632619831888 M 0.9688172645941361,-0.24777632619831888 Q 0.12362021751821384, -0.1572197246554945 0.012237273776348933, -0.9999251217618861L 0.012237273776348933, -0.9999251217618861 L 0.011609287792094568, -0.9999326099477706 L 0.010981297228877135, -0.9999397037377659 ",
          "type": "path"
         },
         {
          "fillcolor": "#d4e5d6",
          "layer": "below",
          "line": {
           "color": "rgb(175,175,175)",
           "width": 0.5
          },
          "path": "M 0.046553089447538255,-0.9989158172052786 Q 0.14150547377113518, -0.14133718864052225 0.9989705060740446, -0.04536439125754154L 0.9989705060740446, -0.04536439125754154 L 0.9987658043116254, -0.0496675763225069 L 0.998542566150505, -0.053969839591798775 M 0.998542566150505,-0.053969839591798775 Q 0.14175441826717236, -0.1410875079577762 0.058678121500908106, -0.9982769545858127L 0.058678121500908106, -0.9982769545858127 L 0.0526165751050056, -0.9986147886068077 L 0.046553089447538255, -0.9989158172052786 ",
          "type": "path"
         },
         {
          "fillcolor": "#c6decd",
          "layer": "below",
          "line": {
           "color": "rgb(175,175,175)",
           "width": 0.5
          },
          "path": "M 0.6862718880369496,-0.7273451008222992 Q 0.16578954186279518, -0.1118652216237222 0.9313476373329466, -0.36413126538974677L 0.9313476373329466, -0.36413126538974677 L 0.9282159648245251, -0.37204182916021156 L 0.9250171039679689, -0.3799254629091236 M 0.9250171039679689,-0.3799254629091236 Q 0.16588683856018824, -0.11172088789705376 0.6997928312123554, -0.7143458499801031L 0.6997928312123554, -0.7143458499801031 L 0.6930628374235112, -0.7208771763500852 L 0.6862718880369496, -0.7273451008222992 ",
          "type": "path"
         },
         {
          "fillcolor": "#c6decd",
          "layer": "below",
          "line": {
           "color": "rgb(175,175,175)",
           "width": 0.5
          },
          "path": "M 0.7283305730995804,-0.6852259308348136 Q 0.18080497813105514, -0.0854959641329851 0.9917561846333401, -0.12813926112445062L 0.9917561846333401, -0.12813926112445062 L 0.9904034501904633, -0.13820638860351744 L 0.9889485289441367, -0.14825925636946935 M 0.9889485289441367,-0.14825925636946935 Q 0.18094725786518417, -0.0851944239435337 0.7443306555292704, -0.6678112571972463L 0.7443306555292704, -0.6678112571972463 L 0.7363820959876295, -0.6765658938409959 L 0.7283305730995804, -0.6852259308348136 ",
          "type": "path"
         },
         {
          "fillcolor": "#c6decd",
          "layer": "below",
          "line": {
           "color": "rgb(175,175,175)",
           "width": 0.5
          },
          "path": "M 0.6997928312123554,-0.7143458499801031 Q 0.18313980344542635, -0.0803729581014075 0.9995065603657315, -0.031410759078131026L 0.9995065603657315, -0.031410759078131026 L 0.9992628894511107, -0.038388510856989355 L 0.9989705060740446, -0.04536439125754154 M 0.9989705060740446,-0.04536439125754154 Q 0.18334816282224856, -0.07989650298796708 0.7133534022735654, -0.7008044830512493L 0.7133534022735654, -0.7008044830512493 L 0.7066055557794861, -0.7076076515566825 L 0.6997928312123554, -0.7143458499801031 ",
          "type": "path"
         },
         {
          "fillcolor": "#aad0bc",
          "layer": "below",
          "line": {
           "color": "rgb(175,175,175)",
           "width": 0.5
          },
          "path": "M 0.9697647290089806,-0.24404173899179296 Q 0.19731868578984846, -0.03263948893850903 0.9966945433029462, -0.0812403061917644L 0.9966945433029462, -0.0812403061917644 L 0.9965357937828541, -0.0831649668404724 L 0.9963733276625657, -0.08508931732377138 M 0.9963733276625657,-0.08508931732377138 Q 0.19732995152950047, -0.03257130991171529 0.970865898472219, -0.23962346960122835L 0.970865898472219, -0.23962346960122835 L 0.9703178285261074, -0.24183323105888407 L 0.9697647290089806, -0.24404173899179296 ",
          "type": "path"
         },
         {
          "fillcolor": "#f2e6ce",
          "layer": "below",
          "line": {
           "color": "rgb(150,150,150)",
           "width": 0.45
          },
          "path": "M 1.1, 0.0 L 1.0997404386485046, 0.02389492835718731 L 1.0989618770887362, 0.04777857998728683 L 1.097664682747042, 0.07163968348503356 L 1.0958494678079973, 0.09546697808629648 L 1.093517088925498, 0.11924921898236798 L 1.0906686468184805, 0.14297518262672337 L 1.0873054857514592, 0.1666336720317462 L 1.0834291929001285, 0.1902135220529195 L 1.0790415976023269, 0.21370360465798954 L 1.0741447704947187, 0.23709283417861501 L 1.0687410225355987, 0.26037017254202355 L 1.062832903914282, 0.2835246344802064 L 0.9662117308311654, 0.2577496677092785 L 0.9715827477596352, 0.236700156856385 L 0.9764952459042897, 0.21553894016237726 L 0.9809469069112061, 0.19427600423453592 L 0.9849356299092076, 0.17292138368447227 L 0.9884595325013265, 0.15148515639249654 L 0.991516951653164, 0.1299774387515667 L 0.9941064444777253, 0.10840838089306179 L 0.9962267889163611, 0.08678816189663316 L 0.9978769843154927, 0.06512698498639415 L 0.999056251898851, 0.0434350727157153 L 0.999764035135004, 0.02172266214289755 L 1.0, 0.0 L 1.1 ,0.0",
          "type": "path"
         },
         {
          "fillcolor": "#ecd5bb",
          "layer": "below",
          "line": {
           "color": "rgb(150,150,150)",
           "width": 0.45
          },
          "path": "M 1.053402736048514, 0.3167691204734214 L 1.0466529341993787, 0.3384045438995038 L 1.0394588226680288, 0.35989631281467144 L 1.031823455392693, 0.38123530384984466 L 1.0237500736269878, 0.4024124584909584 L 1.0152421045639866, 0.42341878692434926 L 1.0063031598813597, 0.44424537185297835 L 0.9969370342081967, 0.4648833722818714 L 0.987147703514168, 0.4853240272711671 L 0.9769393234217035, 0.5055586596551823 L 0.9663162274419094, 0.5255786797259153 L 0.9552829251349702, 0.545375588879421 L 0.9438441001958161, 0.5649409832235138 L 0.9320046084658704, 0.5842665571452637 L 0.9197694758717191, 0.603344106836773 L 0.9071438962915781, 0.6221655337777355 L 0.8941332293504654, 0.640722848173302 L 0.880742998145011, 0.6590081723457892 L 0.8669788868988741, 0.6770137440787959 L 0.8528467385497607, 0.6947319199123042 L 0.8383525522690642, 0.7121551783873696 L 0.8235024809151869, 0.7292761232390188 L 0.8083028284216183, 0.7460874865360041 L 0.7927600471208831, 0.7625821317660777 L 0.7768807350054915, 0.7787530568654788 L 0.7606716329270562, 0.7945933971913473 L 0.7441396217347664, 0.8100964284357999 L 0.7272917193544303, 0.8252555694804349 L 0.710135077809329, 0.840064385190051 L 0.692676980184145, 0.8545165891443968 L 0.6749248375332537, 0.8686060463067887 L 0.656886185734693, 0.8823267756284666 L 0.6385686822911425, 0.8956729525875805 L 0.6199801030792732, 0.9086389116617305 L 0.6011283390488478, 0.9212191487330111 L 0.5820213928729697, 0.9334083234245387 L 0.5626673755509081, 0.9452012613674685 L 0.543074502964933, 0.9565929563975428 L 0.5232510923926331, 0.9675785726802327 L 0.5032055589761861, 0.9781534467635762 L 0.48294641215008605, 0.9883130895578383 L 0.4624822520288454, 0.9980531882411517 L 0.44182176575619886, 1.007369608090335 L 0.4209737238173669, 1.0162583942361014 L 0.399946976315938, 1.0247157733419245 L 0.3787504492169522, 1.0327381552058377 L 0.35739314055778426, 1.0403221342844937 L 0.3358841166284263, 1.0474644911388367 L 0.3142325081228027, 1.0541621938007704 L 0.2856659164752751, 0.9583292670916094 L 0.305349196934933, 0.9522404464898514 L 0.32490285505253114, 0.9457473948040851 L 0.34431859019722927, 0.9388528683689433 L 0.36358816028721636, 0.9315597939472041 L 0.38270338528851533, 0.9238712674873649 L 0.4016561506874535, 0.9157905528093953 L 0.420438410935314, 0.9073210802192287 L 0.43904219286371454, 0.8984664450525801 L 0.4574595990692601, 0.8892304061487055 L 0.47568281126603007, 0.8796168842547569 L 0.4937040936044845, 0.8696299603614025 L 0.5115157959553709, 0.8592738739704259 L 0.5291103571572452, 0.8485530212950352 L 0.5464803082262252, 0.8374719533936464 L 0.5636182755266119, 0.8260353742379367 L 0.5805169839010386, 0.8142481387159822 L 0.5971692597588119, 0.8021152505713333 L 0.6135680341211397, 0.7896418602788988 L 0.6297063456219499, 0.7768332628585425 L 0.6455773434630263, 0.7636948956273191 L 0.6611742903222093, 0.7502323358913043 L 0.676490565213424, 0.7364512985779998 L 0.6915196662973238, 0.7223576338103156 L 0.7062552136413558, 0.7079573244231625 L 0.7206909519280755, 0.6932564834237069 L 0.734820753110562, 0.6782613513963673 L 0.7486386190138061, 0.6629782938536534 L 0.7621386838809674, 0.6474137985339723 L 0.7753152168634188, 0.6315744726475492 L 0.7881626244535219, 0.6154670400716326 L 0.8006754528591008, 0.599098338496172 L 0.8128483903186048, 0.5824753165211837 L 0.82467626935598, 0.5656050307070323 L 0.83615406897429, 0.5484946425788845 L 0.8472769167871549, 0.5311514155866033 L 0.8580400910871054, 0.5135827120213762 L 0.8684390228499728, 0.49579598989038265 L 0.878469297674463, 0.4777987997508321 L 0.888126657656094, 0.4595987815047112 L 0.8974070031946981, 0.4412036611556064 L 0.9063063947347242, 0.42262124752897395 L 0.9148210544375995, 0.403859428957253 L 0.9229473677854423, 0.3849261699312266 L 0.9306818851154434, 0.3658295077190531 L 0.9380213230842663, 0.34657754895440424 L 0.9449625660618443, 0.32717846619515584 L 0.9515026674539806, 0.30764049445409436 L 0.9576388509531945, 0.2879719277031103 L 1.053402736048514 ,0.3167691204734214",
          "type": "path"
         },
         {
          "fillcolor": "#e6c4a9",
          "layer": "below",
          "line": {
           "color": "rgb(150,150,150)",
           "width": 0.45
          },
          "path": "M 0.28096541865017205, 1.063512310000563 L 0.258197620145226, 1.0692679687297013 L 0.23531213895131134, 1.0745362707987847 L 0.21231940593515605, 1.0793148149929854 L 0.18922990084729605, 1.0836014233219347 L 0.1660541475455584, 1.087394142012416 L 0.1428027091984415, 1.0906912423988677 L 0.1194861834705767, 1.0934912217112838 L 0.09611519769247055, 1.0957928037601532 L 0.07270040401672033, 1.0975949395181293 L 0.04925247456292155, 1.0988968075981607 L 0.025782096553471228, 1.0996978146278675 L 0.002299967442488847, 1.0999975955199919 L -0.021183209959926348, 1.0997960136387992 L -0.04465673236587927, 1.0990931608623549 L -0.0681099008880806, 1.0978893575406476 L -0.09153202591624279, 1.0961851523495783 L -0.11491243198924762, 1.0939813220408825 L -0.1382404626608649, 1.0912788710880965 L -0.16150548535680398, 1.0880790312287354 L -0.1846968962208867, 1.0843832609028836 L -0.20780412494812656, 1.0801932445884597 L -0.23081663960252227, 1.0755108920334557 L -0.2537239514173571, 1.0703383373855029 L -0.2765156195758261, 1.064677938219158 L -0.2513778359780237, 0.967889034744689 L -0.2306581376521428, 0.9730348521686389 L -0.20983330872956568, 0.9777371745758687 L -0.18891284086193322, 0.9819938587167814 L -0.16790626929171518, 0.9858029644571668 L -0.14682316850618543, 0.9891627556624867 L -0.12567314787351352, 0.9920717009891785 L -0.10446584726295238, 0.9945284745826203 L -0.0832109326511298, 0.9965319566814348 L -0.061918091716436904, 0.9980812341278614 L -0.0405970294235266, 0.999175600783959 L -0.019257463599933043, 0.9998145578534537 L 0.002090879493171679, 0.9999978141090835 L 0.02343826959406475, 0.9997252860253341 L 0.04477497687538322, 0.9989970978165096 L 0.06609127637883666, 0.9978135813801174 L 0.0873774524477005, 0.9961752761455936 L 0.10862380315506971, 0.9940829288284396 L 0.12982064472585592, 0.9915374930898796 L 0.15095831595050763, 0.9885401291021962 L 0.17202718258845093, 0.9850922030199405 L 0.19301764175923275, 0.9811952863572595 L 0.21392012631937393, 0.9768511552716223 L 0.23472510922293274, 0.9720617897542739 L 0.25542310786379274, 0.9668293727277846 L 0.28096541865017205 ,1.063512310000563",
          "type": "path"
         },
         {
          "fillcolor": "#e1b396",
          "layer": "below",
          "line": {
           "color": "rgb(150,150,150)",
           "width": 0.45
          },
          "path": "M -0.3098215180228335, 1.055467018418874 L -0.33255991950131153, 1.048524630107124 L -0.35514297106702863, 1.0410924407091255 L -0.3775601234177847, 1.033173922050275 L -0.3998009047484767, 1.0247727731367084 L -0.42185492564283134, 1.0158929184273713 L -0.4437118839266506, 1.0065385060007703 L -0.46536156948030366, 0.9967139056172682 L -0.48679386900821664, 0.9864237066778209 L -0.5079987707631315, 0.9756727160801144 L -0.528966369222932, 0.9644659559731017 L -0.5496868697178448, 0.9528086614109873 L -0.5701505930058572, 0.9407062779077588 L -0.59034797979422, 0.9281644588934029 L -0.6102695952049099, 0.9151890630730001 L -0.6299061331819817, 0.9017861516899246 L -0.6492484208387388, 0.8879619856944351 L -0.6682874227426946, 0.8737230228189751 L -0.6075340206751768, 0.7942936571081591 L -0.5902258371261261, 0.8072381688131227 L -0.572641939256347, 0.819805592445386 L -0.5547905410953725, 0.8319900573390909 L -0.5366799816311091, 0.8437858717212753 L -0.5183187209144157, 0.8551875253706898 L -0.4997153361071316, 0.8661896921918065 L -0.48087851747539273, 0.8767872327028197 L -0.46181706433011954, 0.8869751964364676 L -0.44253988091656055, 0.8967488242525643 L -0.4230559722548215, 0.9061035505611529 L -0.40337443993331873, 0.9150350054552456 L -0.3835044778571194, 0.9235390167521556 L -0.3634553679531606, 0.9316116119424621 L -0.34323647583434974, 0.9392490200457043 L -0.3228572464245715, 0.9464476733719321 L -0.30232719954664683, 0.9532042091882945 L -0.28165592547530316, 0.9595154712898852 L -0.3098215180228335 ,1.055467018418874",
          "type": "path"
         },
         {
          "fillcolor": "#dba284",
          "layer": "below",
          "line": {
           "color": "rgb(150,150,150)",
           "width": 0.45
          },
          "path": "M -0.6954019666120109, 0.8523004780194294 L -0.7084669983714597, 0.8414716348270657 L -0.7213634273396952, 0.8304425360593763 L -0.7340881843915146, 0.8192158064495398 L -0.7466382412566361, 0.8077941177634296 L -0.6787620375060328, 0.734358288875845 L -0.6673528949013768, 0.7447416422268544 L -0.6557849339451773, 0.7549477600539785 L -0.6440609076104178, 0.7649742134791505 L -0.6321836060109189, 0.7748186163812995 L -0.6954019666120109 ,0.8523004780194294",
          "type": "path"
         },
         {
          "fillcolor": "#d59171",
          "layer": "below",
          "line": {
           "color": "rgb(150,150,150)",
           "width": 0.45
          },
          "path": "M -0.7716432467737357, 0.7839430462147666 L -0.7977521405368404, 0.7573582522616952 L -0.8229456462860459, 0.7299044206324841 L -0.847194855502003, 0.7016130534781551 L -0.8704719432070845, 0.6725166139875522 L -0.7913381301882586, 0.6113787399886839 L -0.7701771413654572, 0.6378300486165045 L -0.7481324057145872, 0.6635494733022582 L -0.7252292186698549, 0.6885075020560865 L -0.701493860703396, 0.7126754965588787 L -0.7716432467737357 ,0.7839430462147666",
          "type": "path"
         },
         {
          "fillcolor": "#d0805f",
          "layer": "below",
          "line": {
           "color": "rgb(150,150,150)",
           "width": 0.45
          },
          "path": "M -0.8911666751877889, 0.6448425831431591 L -0.9052501580813975, 0.6249177156183083 L -0.918888239316187, 0.6046853757503964 L -0.9320742086762565, 0.5841555182659244 L -0.944801578394027, 0.5633382442761679 L -0.9570640863423576, 0.5422437963072224 L -0.9688556991156388, 0.5208825532604704 L -0.9801706149983536, 0.49926502530594863 L -0.9910032668196386, 0.47740184871112984 L -1.0013483246924482, 0.455303780607659 L -1.0112006986359683, 0.43298169369862505 L -1.0205555410799896, 0.41044657090896725 L -1.0294082492500136, 0.38770949998165105 L -1.0377544674319115, 0.3647816680222708 L -0.9434131522108284, 0.33161969820206433 L -0.935825681136376, 0.35246318180150094 L -0.9277777646181723, 0.3731332462808793 L -0.9192733623963347, 0.39361972154420455 L -0.9103166588113165, 0.41391252782514454 L -0.9009120607451259, 0.43400168064648165 L -0.8910641954530486, 0.45387729573268054 L -0.8807779082869444, 0.4735295938731549 L -0.8700582603112341, 0.4929489057338385 L -0.8589105258127517, 0.512125676614698 L -0.8473401897056876, 0.5310504711508403 L -0.8353529448328972, 0.5497139779549057 L -0.8229546891649068, 0.5681070141984621 L -0.8101515228979899, 0.5862205301301446 L -0.8911666751877889 ,0.6448425831431591",
          "type": "path"
         },
         {
          "fillcolor": "#ca6f4c",
          "layer": "below",
          "line": {
           "color": "rgb(150,150,150)",
           "width": 0.45
          },
          "path": "M -1.0487004673374065, 0.33200501473065913 L -1.053105897807651, 0.31775457196198037 L -1.05731769349043, 0.30344570359798706 L -1.0613350799620467, 0.2890810406131058 L -1.065157318544865, 0.2746632242407294 L -0.9683248350407863, 0.24969384021884491 L -0.9648500726927697, 0.26280094601191434 L -0.961197903173118, 0.27585973054362456 L -0.9573689980069554, 0.2888677926927094 L -0.9533640612158241, 0.30182274066423553 L -1.0487004673374065 ,0.33200501473065913",
          "type": "path"
         },
         {
          "fillcolor": "#c45e3a",
          "layer": "below",
          "line": {
           "color": "rgb(150,150,150)",
           "width": 0.45
          },
          "path": "M -1.0732591080714113, 0.2410702946066954 L -1.0800597533840273, 0.20849683239808378 L -1.0858720286818018, 0.17573257332227427 L -1.0906906151121396, 0.1428075001752447 L -1.0945111031538763, 0.10975174291502149 L -0.995010093776251, 0.09977431174092861 L -0.9915369228292178, 0.12982500015931336 L -0.9871563897107288, 0.15975688483843115 L -0.9818725030763883, 0.18954257490734888 L -0.9756900982467375, 0.21915481327881398 L -1.0732591080714113 ,0.2410702946066954",
          "type": "path"
         },
         {
          "fillcolor": "#bf4d28",
          "layer": "below",
          "line": {
           "color": "rgb(150,150,150)",
           "width": 0.45
          },
          "path": "M -1.0974184135505418, 0.07531816248563454 L -1.0995533167053158, 0.03134491541445948 L -1.0999269314857592, -0.012678540622733962 L -1.098538659427605, -0.05668168789830299 L -1.095390724295176, -0.10059404121562009 L -0.9958097493592508, -0.09144912837783643 L -0.99867150857055, -0.05152880718027544 L -0.9999335740779628, -0.011525946020667237 L -0.9995939242775598, 0.02849537764950862 L -0.9976531032277651, 0.0684710568051223 L -1.0974184135505418 ,0.07531816248563454",
          "type": "path"
         },
         {
          "fillcolor": "#af4624",
          "layer": "below",
          "line": {
           "color": "rgb(150,150,150)",
           "width": 0.45
          },
          "path": "M -1.0916904799034797, -0.13495145826596508 L -1.084661646392011, -0.1830549448831488 L -1.0755142715409267, -0.23080089192156525 L -1.0642662218359054, -0.27809604286851586 L -1.0509394667624261, -0.32484802169800514 L -0.9553995152385691, -0.2953163833618228 L -0.9675147471235503, -0.25281458442592347 L -0.9777402468553879, -0.2098189926559684 L -0.9860560421745552, -0.16641358625740799 L -0.992445890821345, -0.12268314387815007 L -1.0916904799034797 ,-0.13495145826596508",
          "type": "path"
         },
         {
          "fillcolor": "#9f4021",
          "layer": "below",
          "line": {
           "color": "rgb(150,150,150)",
           "width": 0.45
          },
          "path": "M -1.040217168629746, -0.35769853520515665 L -1.0251146438295915, -0.3989235102198537 L -1.0083790649579374, -0.4395129820091278 L -0.9900370925501486, -0.4794022897054716 L -0.9701179461992725, -0.5185278878344979 L -0.8819254056357022, -0.47138898894045256 L -0.900033720500135, -0.4358202633686105 L -0.9167082408708521, -0.39955725637193434 L -0.9319224034814468, -0.36265773656350336 L -0.9456519714815872, -0.32518048655014237 L -1.040217168629746 ,-0.35769853520515665",
          "type": "path"
         },
         {
          "fillcolor": "#8f391e",
          "layer": "below",
          "line": {
           "color": "rgb(150,150,150)",
           "width": 0.45
          },
          "path": "M -0.9533518969946426, -0.5487441667086006 L -0.9414987881911492, -0.568840954779627 L -0.9292221005775135, -0.5886818222081548 L -0.9165273574160032, -0.6082578426194255 L -0.9034202700514132, -0.6275602087929347 L -0.8899067353415411, -0.6465802366247831 L -0.8759928330041995, -0.6653093690346445 L -0.861684822881961, -0.6837391798155811 L -0.8469891421258652, -0.7018613774249806 L -0.8319124022993544, -0.7196678087149079 L -0.8164613864037411, -0.7371504626001948 L -0.8006430458265485, -0.7543014736626116 L -0.7844644972140896, -0.7711131256895097 L -0.7679330192697011, -0.7875778551453316 L -0.7510560494790661, -0.803688254574433 L -0.7338411807641003, -0.8194370759336871 L -0.7162961580669093, -0.8348172338533659 L -0.698428874865351, -0.8498218088248384 L -0.6802473696217738, -0.8644440503136441 L -0.6617598221665212, -0.8786773797965521 L -0.6015998383332011, -0.7987976179968655 L -0.6184066996561579, -0.7858582275578583 L -0.6349353407866827, -0.772565280749853 L -0.651178325515372, -0.7589247580485144 L -0.667128346149182, -0.7449427963033518 L -0.682778226799151, -0.7306256859767573 L -0.6981209266088192, -0.7159798683139378 L -0.7131495429218996, -0.7010119324450088 L -0.7278573143877713, -0.6857286124205559 L -0.742237624003401, -0.6701367841819952 L -0.7562840020903221, -0.6542434624680981 L -0.7699901292053319, -0.6380557976590732 L -0.7833498389836009, -0.6215810725596191 L -0.7963571209129086, -0.604826699122404 L -0.8090061230377645, -0.5878002151134392 L -0.8212911545921938, -0.5705092807208497 L -0.8332066885600029, -0.5529616751085686 L -0.8447473641613759, -0.5351652929165043 L -0.855907989264681, -0.5171281407087518 L -0.8666835427224023, -0.4988583333714551 L -0.9533518969946426 ,-0.5487441667086006",
          "type": "path"
         },
         {
          "fillcolor": "#f0f3e7",
          "layer": "below",
          "line": {
           "color": "rgb(150,150,150)",
           "width": 0.45
          },
          "path": "M -0.6338333601577075, -0.8990301838932828 L -0.6143963015191937, -0.9124237966425122 L -0.5946763219594858, -0.925397250968868 L -0.5746825022539234, -0.9379445727777146 L -0.5544240492774082, -0.9500599842024936 L -0.5339102917647722, -0.9617379062653484 L -0.5131506760150221, -0.972972961446168 L -0.49215476154145044, -0.9837599761588587 L -0.4709322166696147, -0.9940939831337091 L -0.449492814085207, -1.003970223704748 L -0.4278464263338704, -1.013384150001043 L -0.40600302127502513, -1.0223314270409336 L -0.38397265749181475, -1.0308079347282275 L -0.36176547965926475, -1.0388097697494485 L -0.3393917138728024, -1.0463332473712579 L -0.3168616629392835, -1.0533749031372222 L -0.2941857016326898, -1.059931494463148 L -0.27137427191669616, -1.0660000021302454 L -0.24843787813628807, -1.0715776316754373 L -0.22538708218065853, -1.0766618146781697 L -0.2022324986196054, -1.081250209943134 L -0.1789847898156702, -1.0853407045783552 L -0.15565466101426992, -1.088931414968148 L -0.13225285541407703, -1.0920206876404968 L -0.1087901492199324, -1.0946071000284554 L -0.09890013565448398, -0.9950973636622321 L -0.12022986855825184, -0.9927460796731788 L -0.1415042372856999, -0.9899376499710435 L -0.1627134452869729, -0.9866733677985047 L -0.1838477260178231, -0.98295473631194 L -0.20489734743696228, -0.9787834678892451 L -0.22585261648753457, -0.9741614833413065 L -0.24670388356063286, -0.9690909110274958 L -0.2674415469388089, -0.9635740858755889 L -0.2880560572175304, -0.9576135483065655 L -0.3085379217025476, -0.9512120430647798 L -0.32887770878114975, -0.9443725179540441 L -0.3490660522652861, -0.9370981224802067 L -0.36909365570456826, -0.9293922064008486 L -0.38895129666715483, -0.9212583181827663 L -0.4086298309865518, -0.9127002033679527 L -0.42812019697237697, -0.9037218028488264 L -0.44741341958313674, -0.8943272510535079 L -0.4665006145591109, -0.8845208740419708 L -0.4853729925134293, -0.874307187513953 L -0.5040218629794619, -0.8636908947295395 L -0.5224386384126576, -0.8526768843433769 L -0.5406148381449871, -0.8412702281535164 L -0.558542092290176, -0.8294761787659201 L -0.5762121455979159, -0.8173001671757116 L -0.6338333601577075 ,-0.8990301838932828",
          "type": "path"
         },
         {
          "fillcolor": "#e2ecde",
          "layer": "below",
          "line": {
           "color": "rgb(150,150,150)",
           "width": 0.45
          },
          "path": "M -0.074354027944287, -1.0974841586685706 L -0.06139561493438028, -1.098285290107643 L -0.04842864904447896, -1.0989334219832096 L -0.03545493667237332, -1.0994284640055296 L -0.022476285155690348, -1.0997703472114533 L -0.020432986505173042, -0.9997912247376847 L -0.032231760611248474, -0.9994804218232087 L -0.04402604458588996, -0.9990303836210995 L -0.05581419539489116, -0.9984411728251299 L -0.06759457085844273, -0.9977128715168824 L -0.074354027944287 ,-1.0974841586685706",
          "type": "path"
         },
         {
          "fillcolor": "#d4e5d6",
          "layer": "below",
          "line": {
           "color": "rgb(150,150,150)",
           "width": 0.45
          },
          "path": "M 0.01207942695176485, -1.0999336741115426 L 0.0355157865208012, -1.099426500002528 L 0.05893601663426789, -1.098420022552068 L 0.08232948102029576, -1.0969146988507943 L 0.10568555556264445, -1.0949112125398184 L 0.1289936331256272, -1.0924104735002549 L 0.1522431283713339, -1.0894136174400015 L 0.17542348256694867, -1.085922005377957 L 0.19852416837999087, -1.0819372230259172 L 0.22153469465928557, -1.0774610800684252 L 0.24444461119951238, -1.072495609340905 L 0.26724351348715286, -1.0670430659064525 L 0.28992104742569275, -1.0611059260316988 L 0.31246691403791765, -1.0546868860622192 L 0.33487087414318645, -1.0477888611979889 L 0.3571227530075417, -1.0404149841694488 L 0.37921244496455797, -1.032568603814779 L 0.4011299180048134, -1.0242532835590286 L 0.42286521833191953, -1.0154727997957889 L 0.44440847488302615, -1.0062311401721489 L 0.465749903811753, -0.9965325017777107 L 0.48687981293151605, -0.9863812892384831 L 0.5077886061172183, -0.9757821127165288 L 0.5284667876633232, -0.9647397858162626 L 0.5489049665963168, -0.9532593233983586 L 0.569093860939612, -0.9413459393022555 L 0.5890243019289423, -0.9290050439782996 L 0.6086872381763502, -0.9162422420305928 L 0.6280737397808637, -0.9030633296716682 L 0.6471750023840005, -0.8894742920901476 L 0.6659823511682608, -0.8754813007325716 L 0.6054385010620552, -0.795892091575065 L 0.5883409112581822, -0.808612992809225 L 0.5709761270735124, -0.8209666633378802 L 0.5533520347057729, -0.8329474927550843 L 0.5354766381172202, -0.8445500399802723 L 0.5173580553996472, -0.8557690357293232 L 0.4990045150875607, -0.8665993849075987 L 0.4804243524212029, -0.877036168923875 L 0.46162600556110756, -0.887074647924117 L 0.44261801175592363, -0.8967102629440755 L 0.42340900346522997, -0.905938637979737 L 0.40400770443911466, -0.9147555819746808 L 0.38442292575629045, -0.9231570907234443 L 0.3646635618225576, -0.9311393486900259 L 0.3447385863314163, -0.9386987307407082 L 0.32465704818867425, -0.945831803790408 L 0.30442806740289674, -0.952535328361808 L 0.2840608309435615, -0.9588062600565629 L 0.26356458856881154, -0.964641750937908 L 0.2429486486246844, -0.9700391508240477 L 0.22222237381773852, -0.9749960084917318 L 0.20139517696298687, -0.9795100727894773 L 0.1804765167090826, -0.9835792936599246 L 0.1594758932426806, -0.9872018230708699 L 0.1384028439739399, -0.9903760158545467 L 0.11726693920511563, -0.9931004304547771 L 0.09607777778422222, -0.995373829581653 L 0.07484498274572342, -0.9971951807734494 L 0.05357819694024353, -0.9985636568655163 L 0.03228707865527382, -0.9994786363659346 L 0.010981297228877135, -0.9999397037377659 L 0.01207942695176485 ,-1.0999336741115426",
          "type": "path"
         },
         {
          "fillcolor": "#c6decd",
          "layer": "below",
          "line": {
           "color": "rgb(150,150,150)",
           "width": 0.45
          },
          "path": "M 0.6931532612951881, -0.8541302923768977 L 0.7112683187556563, -0.8391051058922847 L 0.72905777313618, -0.8236957954425375 L 0.746513480813624, -0.8079094150729567 L 0.7636274509467927, -0.7917531914432072 L 0.7803918491344634, -0.7752345205191091 L 0.796799001001807, -0.758360964186925 L 0.8128413957135433, -0.7411402467916981 L 0.8285116894122432, -0.7235802516012104 L 0.8438027085801808, -0.7056890171972006 L 0.8587074533232154, -0.6874747337954742 L 0.8732191005751913, -0.6689457394966009 L 0.887331007221385, -0.6501105164689174 L 0.9010367131395796, -0.6309776870655754 L 0.9143299441573686, -0.6115560098774139 L 0.9272046149243316, -0.5918543757234731 L 0.939654831697779, -0.5718818035809664 L 0.9516748950407736, -0.5516474364565946 L 0.9632593024312118, -0.5311605372010757 L 0.9744027507807574, -0.5104304842688115 L 0.8858206825279612, -0.4640277129716468 L 0.8756902749374652, -0.48287321563734154 L 0.8651589954916123, -0.5014976695059951 L 0.854231665179799, -0.5198925487099694 L 0.8429132862948469, -0.5380494324758845 L 0.8312090401430623, -0.5559600089794671 L 0.819124284672345, -0.573616079150523 L 0.8066645520194409, -0.5910095604262885 L 0.7938355459774465, -0.6081324904514552 L 0.7806431393847412, -0.6249770307231584 L 0.7670933714365279, -0.6415354701792731 L 0.753192444920221, -0.6578002287283731 L 0.7389467233759484, -0.6737638607197255 L 0.7243627281834608, -0.68941905835175 L 0.7094471355767848, -0.7047586550173719 L 0.6942067735879933, -0.7197756285847338 L 0.6786486189214763, -0.7344631046117788 L 0.6627797937601636, -0.7488143594932158 L 0.6466075625051421, -0.7628228235384406 L 0.630139328450171, -0.7764820839789979 L 0.6931532612951881 ,-0.8541302923768977",
          "type": "path"
         },
         {
          "fillcolor": "#b8d7c5",
          "layer": "below",
          "line": {
           "color": "rgb(150,150,150)",
           "width": 0.45
          },
          "path": "M 0.9899549508112818, -0.47957188758749475 L 1.009170901045598, -0.43769177794746855 L 1.0266160513210034, -0.39504364717088053 L 1.0422597904978392, -0.35170233026154485 L 1.0560746683863875, -0.30774387856232294 L 0.9600678803512613, -0.2797671623293845 L 0.947508900452581, -0.31972939114685894 L 0.9332873193827302, -0.3591305883371641 L 0.9174280918596345, -0.39790161631588045 L 0.8999590461920743, -0.4359744432613588 L 0.9899549508112818 ,-0.47957188758749475",
          "type": "path"
         },
         {
          "fillcolor": "#aad0bc",
          "layer": "below",
          "line": {
           "color": "rgb(150,150,150)",
           "width": 0.45
          },
          "path": "M 1.0652200281155486, -0.27441991855823794 L 1.073192354568474, -0.2413672929287951 L 1.080139353001434, -0.2080840649776999 L 1.0860543862518381, -0.17460203350231404 L 1.0909318030966744, -0.1409531872368947 L 0.9917561846333403, -0.12813926112444973 L 0.9873221693198528, -0.15872912136574002 L 0.9819448663649399, -0.18916733179790898 L 0.9756294132440673, -0.21942481175345008 L 0.9683818437414078, -0.24947265323476173 L 1.0652200281155486 ,-0.27441991855823794",
          "type": "path"
         },
         {
          "fillcolor": "#9cc9b4",
          "layer": "below",
          "line": {
           "color": "rgb(150,150,150)",
           "width": 0.45
          },
          "path": "M 1.0948209407123348, -0.10661663930999804 L 1.0964234919305225, -0.08863140720354155 L 1.097730609805143, -0.07062229320001895 L 1.0987419421308606, -0.05259414988860109 L 1.0994572164023046, -0.03455183498594413 L 0.9995065603657315, -0.031410759078131026 L 0.998856311028055, -0.04781286353509189 L 0.9979369180046752, -0.06420208472728994 L 0.9967486290277475, -0.08057400654867414 L 0.9952917642839407, -0.09692421755454367 L 1.0948209407123348 ,-0.10661663930999804",
          "type": "path"
         }
        ],
        "showlegend": false,
        "title": "PoC Chord Diagram ‒ <br>Selected Techologies Commonly Occurring Together",
        "titlefont": {
         "color": "#655643",
         "family": "Merryweather",
         "size": 18
        },
        "xaxis": {
         "showgrid": false,
         "showline": false,
         "showticklabels": false,
         "title": "",
         "zeroline": false
        },
        "yaxis": {
         "showgrid": false,
         "showline": false,
         "showticklabels": false,
         "title": "",
         "zeroline": false
        }
       }
      },
      "text/html": [
       "<div id=\"040fb939-1706-4398-875e-195df7c3a968\" style=\"height: 525px; width: 100%;\" class=\"plotly-graph-div\"></div><script type=\"text/javascript\">require([\"plotly\"], function(Plotly) { window.PLOTLYENV=window.PLOTLYENV || {};window.PLOTLYENV.BASE_URL=\"https://plot.ly\";Plotly.newPlot(\"040fb939-1706-4398-875e-195df7c3a968\", [{\"hoverinfo\": \"text\", \"line\": {\"color\": \"#f2e6ce\", \"shape\": \"spline\", \"width\": 0.25}, \"mode\": \"lines\", \"text\": \"Power BI<br>665\", \"x\": [1.1, 1.0997404386485046, 1.0989618770887362, 1.097664682747042, 1.0958494678079973, 1.093517088925498, 1.0906686468184805, 1.0873054857514592, 1.0834291929001285, 1.0790415976023269, 1.0741447704947187, 1.0687410225355987, 1.062832903914282], \"y\": [0.0, 0.02389492835718731, 0.04777857998728683, 0.07163968348503356, 0.09546697808629648, 0.11924921898236798, 0.14297518262672337, 0.1666336720317462, 0.1902135220529195, 0.21370360465798954, 0.23709283417861501, 0.26037017254202355, 0.2835246344802064], \"type\": \"scatter\", \"uid\": \"90368a7c-3765-4268-8358-919f49cea07b\"}, {\"hoverinfo\": \"text\", \"line\": {\"color\": \"#ecd5bb\", \"shape\": \"spline\", \"width\": 0.25}, \"mode\": \"lines\", \"text\": \"Excel<br>2323\", \"x\": [1.053402736048514, 1.0466529341993787, 1.0394588226680288, 1.031823455392693, 1.0237500736269878, 1.0152421045639866, 1.0063031598813597, 0.9969370342081967, 0.987147703514168, 0.9769393234217035, 0.9663162274419094, 0.9552829251349702, 0.9438441001958161, 0.9320046084658704, 0.9197694758717191, 0.9071438962915781, 0.8941332293504654, 0.880742998145011, 0.8669788868988741, 0.8528467385497607, 0.8383525522690642, 0.8235024809151869, 0.8083028284216183, 0.7927600471208831, 0.7768807350054915, 0.7606716329270562, 0.7441396217347664, 0.7272917193544303, 0.710135077809329, 0.692676980184145, 0.6749248375332537, 0.656886185734693, 0.6385686822911425, 0.6199801030792732, 0.6011283390488478, 0.5820213928729697, 0.5626673755509081, 0.543074502964933, 0.5232510923926331, 0.5032055589761861, 0.48294641215008605, 0.4624822520288454, 0.44182176575619886, 0.4209737238173669, 0.399946976315938, 0.3787504492169522, 0.35739314055778426, 0.3358841166284263, 0.3142325081228027], \"y\": [0.3167691204734214, 0.3384045438995038, 0.35989631281467144, 0.38123530384984466, 0.4024124584909584, 0.42341878692434926, 0.44424537185297835, 0.4648833722818714, 0.4853240272711671, 0.5055586596551823, 0.5255786797259153, 0.545375588879421, 0.5649409832235138, 0.5842665571452637, 0.603344106836773, 0.6221655337777355, 0.640722848173302, 0.6590081723457892, 0.6770137440787959, 0.6947319199123042, 0.7121551783873696, 0.7292761232390188, 0.7460874865360041, 0.7625821317660777, 0.7787530568654788, 0.7945933971913473, 0.8100964284357999, 0.8252555694804349, 0.840064385190051, 0.8545165891443968, 0.8686060463067887, 0.8823267756284666, 0.8956729525875805, 0.9086389116617305, 0.9212191487330111, 0.9334083234245387, 0.9452012613674685, 0.9565929563975428, 0.9675785726802327, 0.9781534467635762, 0.9883130895578383, 0.9980531882411517, 1.007369608090335, 1.0162583942361014, 1.0247157733419245, 1.0327381552058377, 1.0403221342844937, 1.0474644911388367, 1.0541621938007704], \"type\": \"scatter\", \"uid\": \"a5c73433-746a-4e94-86cb-f5a7b21c47b2\"}, {\"hoverinfo\": \"text\", \"line\": {\"color\": \"#e6c4a9\", \"shape\": \"spline\", \"width\": 0.25}, \"mode\": \"lines\", \"text\": \"SSIS/SSRS<br>1238\", \"x\": [0.28096541865017205, 0.258197620145226, 0.23531213895131134, 0.21231940593515605, 0.18922990084729605, 0.1660541475455584, 0.1428027091984415, 0.1194861834705767, 0.09611519769247055, 0.07270040401672033, 0.04925247456292155, 0.025782096553471228, 0.002299967442488847, -0.021183209959926348, -0.04465673236587927, -0.0681099008880806, -0.09153202591624279, -0.11491243198924762, -0.1382404626608649, -0.16150548535680398, -0.1846968962208867, -0.20780412494812656, -0.23081663960252227, -0.2537239514173571, -0.2765156195758261], \"y\": [1.063512310000563, 1.0692679687297013, 1.0745362707987847, 1.0793148149929854, 1.0836014233219347, 1.087394142012416, 1.0906912423988677, 1.0934912217112838, 1.0957928037601532, 1.0975949395181293, 1.0988968075981607, 1.0996978146278675, 1.0999975955199919, 1.0997960136387992, 1.0990931608623549, 1.0978893575406476, 1.0961851523495783, 1.0939813220408825, 1.0912788710880965, 1.0880790312287354, 1.0843832609028836, 1.0801932445884597, 1.0755108920334557, 1.0703383373855029, 1.064677938219158], \"type\": \"scatter\", \"uid\": \"b38ce877-2535-46f7-8ae5-614b32d6e0a7\"}, {\"hoverinfo\": \"text\", \"line\": {\"color\": \"#e1b396\", \"shape\": \"spline\", \"width\": 0.25}, \"mode\": \"lines\", \"text\": \"MS SQL Server<br>908\", \"x\": [-0.3098215180228335, -0.33255991950131153, -0.35514297106702863, -0.3775601234177847, -0.3998009047484767, -0.42185492564283134, -0.4437118839266506, -0.46536156948030366, -0.48679386900821664, -0.5079987707631315, -0.528966369222932, -0.5496868697178448, -0.5701505930058572, -0.59034797979422, -0.6102695952049099, -0.6299061331819817, -0.6492484208387388, -0.6682874227426946], \"y\": [1.055467018418874, 1.048524630107124, 1.0410924407091255, 1.033173922050275, 1.0247727731367084, 1.0158929184273713, 1.0065385060007703, 0.9967139056172682, 0.9864237066778209, 0.9756727160801144, 0.9644659559731017, 0.9528086614109873, 0.9407062779077588, 0.9281644588934029, 0.9151890630730001, 0.9017861516899246, 0.8879619856944351, 0.8737230228189751], \"type\": \"scatter\", \"uid\": \"fb27591f-51a2-4ae0-a11d-0eef4506806b\"}, {\"hoverinfo\": \"text\", \"line\": {\"color\": \"#dba284\", \"shape\": \"spline\", \"width\": 0.25}, \"mode\": \"lines\", \"text\": \"PostgreSQL<br>212\", \"x\": [-0.6954019666120109, -0.7084669983714597, -0.7213634273396952, -0.7340881843915146, -0.7466382412566361], \"y\": [0.8523004780194294, 0.8414716348270657, 0.8304425360593763, 0.8192158064495398, 0.8077941177634296], \"type\": \"scatter\", \"uid\": \"643ae787-f22b-43f3-a3b7-53ac682b2809\"}, {\"hoverinfo\": \"text\", \"line\": {\"color\": \"#d59171\", \"shape\": \"spline\", \"width\": 0.25}, \"mode\": \"lines\", \"text\": \"MySQL/MariaDB<br>380\", \"x\": [-0.7716432467737357, -0.7977521405368404, -0.8229456462860459, -0.847194855502003, -0.8704719432070845], \"y\": [0.7839430462147666, 0.7573582522616952, 0.7299044206324841, 0.7016130534781551, 0.6725166139875522], \"type\": \"scatter\", \"uid\": \"09073320-62b7-4d40-9dab-36f0cb0aa101\"}, {\"hoverinfo\": \"text\", \"line\": {\"color\": \"#d0805f\", \"shape\": \"spline\", \"width\": 0.25}, \"mode\": \"lines\", \"text\": \"T-SQL<br>728\", \"x\": [-0.8911666751877889, -0.9052501580813975, -0.918888239316187, -0.9320742086762565, -0.944801578394027, -0.9570640863423576, -0.9688556991156388, -0.9801706149983536, -0.9910032668196386, -1.0013483246924482, -1.0112006986359683, -1.0205555410799896, -1.0294082492500136, -1.0377544674319115], \"y\": [0.6448425831431591, 0.6249177156183083, 0.6046853757503964, 0.5841555182659244, 0.5633382442761679, 0.5422437963072224, 0.5208825532604704, 0.49926502530594863, 0.47740184871112984, 0.455303780607659, 0.43298169369862505, 0.41044657090896725, 0.38770949998165105, 0.3647816680222708], \"type\": \"scatter\", \"uid\": \"a7f26ccc-00e3-40c7-a198-e6516b91a943\"}, {\"hoverinfo\": \"text\", \"line\": {\"color\": \"#ca6f4c\", \"shape\": \"spline\", \"width\": 0.25}, \"mode\": \"lines\", \"text\": \"PL/SQL<br>195\", \"x\": [-1.0487004673374065, -1.053105897807651, -1.05731769349043, -1.0613350799620467, -1.065157318544865], \"y\": [0.33200501473065913, 0.31775457196198037, 0.30344570359798706, 0.2890810406131058, 0.2746632242407294], \"type\": \"scatter\", \"uid\": \"c79553f9-5a56-490e-8725-22942dc474a9\"}, {\"hoverinfo\": \"text\", \"line\": {\"color\": \"#c45e3a\", \"shape\": \"spline\", \"width\": 0.25}, \"mode\": \"lines\", \"text\": \"Pentaho<br>347\", \"x\": [-1.0732591080714113, -1.0800597533840273, -1.0858720286818018, -1.0906906151121396, -1.0945111031538763], \"y\": [0.2410702946066954, 0.20849683239808378, 0.17573257332227427, 0.1428075001752447, 0.10975174291502149], \"type\": \"scatter\", \"uid\": \"7a536112-351c-4137-af05-3b850e075a3e\"}, {\"hoverinfo\": \"text\", \"line\": {\"color\": \"#bf4d28\", \"shape\": \"spline\", \"width\": 0.25}, \"mode\": \"lines\", \"text\": \"Hadoop<br>436\", \"x\": [-1.0974184135505418, -1.0995533167053158, -1.0999269314857592, -1.098538659427605, -1.095390724295176], \"y\": [0.07531816248563454, 0.03134491541445948, -0.012678540622733962, -0.05668168789830299, -0.10059404121562009], \"type\": \"scatter\", \"uid\": \"bb0f90b1-6a8e-4c40-802c-42e90c908c55\"}, {\"hoverinfo\": \"text\", \"line\": {\"color\": \"#af4624\", \"shape\": \"spline\", \"width\": 0.25}, \"mode\": \"lines\", \"text\": \"Spark<br>474\", \"x\": [-1.0916904799034797, -1.084661646392011, -1.0755142715409267, -1.0642662218359054, -1.0509394667624261], \"y\": [-0.13495145826596508, -0.1830549448831488, -0.23080089192156525, -0.27809604286851586, -0.32484802169800514], \"type\": \"scatter\", \"uid\": \"c46c4355-7b4e-40a0-80b6-d9c372e6dec2\"}, {\"hoverinfo\": \"text\", \"line\": {\"color\": \"#9f4021\", \"shape\": \"spline\", \"width\": 0.25}, \"mode\": \"lines\", \"text\": \"Informatica<br>435\", \"x\": [-1.040217168629746, -1.0251146438295915, -1.0083790649579374, -0.9900370925501486, -0.9701179461992725], \"y\": [-0.35769853520515665, -0.3989235102198537, -0.4395129820091278, -0.4794022897054716, -0.5185278878344979], \"type\": \"scatter\", \"uid\": \"30388b68-880f-474e-9484-7420a8788f0e\"}, {\"hoverinfo\": \"text\", \"line\": {\"color\": \"#8f391e\", \"shape\": \"spline\", \"width\": 0.25}, \"mode\": \"lines\", \"text\": \"Qlik<br>989\", \"x\": [-0.9533518969946426, -0.9414987881911492, -0.9292221005775135, -0.9165273574160032, -0.9034202700514132, -0.8899067353415411, -0.8759928330041995, -0.861684822881961, -0.8469891421258652, -0.8319124022993544, -0.8164613864037411, -0.8006430458265485, -0.7844644972140896, -0.7679330192697011, -0.7510560494790661, -0.7338411807641003, -0.7162961580669093, -0.698428874865351, -0.6802473696217738, -0.6617598221665212], \"y\": [-0.5487441667086006, -0.568840954779627, -0.5886818222081548, -0.6082578426194255, -0.6275602087929347, -0.6465802366247831, -0.6653093690346445, -0.6837391798155811, -0.7018613774249806, -0.7196678087149079, -0.7371504626001948, -0.7543014736626116, -0.7711131256895097, -0.7875778551453316, -0.803688254574433, -0.8194370759336871, -0.8348172338533659, -0.8498218088248384, -0.8644440503136441, -0.8786773797965521], \"type\": \"scatter\", \"uid\": \"5b1340fc-8560-4b73-9c20-794000997bed\"}, {\"hoverinfo\": \"text\", \"line\": {\"color\": \"#f0f3e7\", \"shape\": \"spline\", \"width\": 0.25}, \"mode\": \"lines\", \"text\": \"Tableau<br>1244\", \"x\": [-0.6338333601577075, -0.6143963015191937, -0.5946763219594858, -0.5746825022539234, -0.5544240492774082, -0.5339102917647722, -0.5131506760150221, -0.49215476154145044, -0.4709322166696147, -0.449492814085207, -0.4278464263338704, -0.40600302127502513, -0.38397265749181475, -0.36176547965926475, -0.3393917138728024, -0.3168616629392835, -0.2941857016326898, -0.27137427191669616, -0.24843787813628807, -0.22538708218065853, -0.2022324986196054, -0.1789847898156702, -0.15565466101426992, -0.13225285541407703, -0.1087901492199324], \"y\": [-0.8990301838932828, -0.9124237966425122, -0.925397250968868, -0.9379445727777146, -0.9500599842024936, -0.9617379062653484, -0.972972961446168, -0.9837599761588587, -0.9940939831337091, -1.003970223704748, -1.013384150001043, -1.0223314270409336, -1.0308079347282275, -1.0388097697494485, -1.0463332473712579, -1.0533749031372222, -1.059931494463148, -1.0660000021302454, -1.0715776316754373, -1.0766618146781697, -1.081250209943134, -1.0853407045783552, -1.088931414968148, -1.0920206876404968, -1.0946071000284554], \"type\": \"scatter\", \"uid\": \"a4dc365f-b004-4b65-8074-8997be492916\"}, {\"hoverinfo\": \"text\", \"line\": {\"color\": \"#e2ecde\", \"shape\": \"spline\", \"width\": 0.25}, \"mode\": \"lines\", \"text\": \"Microstrategy<br>179\", \"x\": [-0.074354027944287, -0.06139561493438028, -0.04842864904447896, -0.03545493667237332, -0.022476285155690348], \"y\": [-1.0974841586685706, -1.098285290107643, -1.0989334219832096, -1.0994284640055296, -1.0997703472114533], \"type\": \"scatter\", \"uid\": \"8a5a28d3-55fa-4d26-88a6-e24c339383e8\"}, {\"hoverinfo\": \"text\", \"line\": {\"color\": \"#d4e5d6\", \"shape\": \"spline\", \"width\": 0.25}, \"mode\": \"lines\", \"text\": \"Oracle BI<br>1527\", \"x\": [0.01207942695176485, 0.0355157865208012, 0.05893601663426789, 0.08232948102029576, 0.10568555556264445, 0.1289936331256272, 0.1522431283713339, 0.17542348256694867, 0.19852416837999087, 0.22153469465928557, 0.24444461119951238, 0.26724351348715286, 0.28992104742569275, 0.31246691403791765, 0.33487087414318645, 0.3571227530075417, 0.37921244496455797, 0.4011299180048134, 0.42286521833191953, 0.44440847488302615, 0.465749903811753, 0.48687981293151605, 0.5077886061172183, 0.5284667876633232, 0.5489049665963168, 0.569093860939612, 0.5890243019289423, 0.6086872381763502, 0.6280737397808637, 0.6471750023840005, 0.6659823511682608], \"y\": [-1.0999336741115426, -1.099426500002528, -1.098420022552068, -1.0969146988507943, -1.0949112125398184, -1.0924104735002549, -1.0894136174400015, -1.085922005377957, -1.0819372230259172, -1.0774610800684252, -1.072495609340905, -1.0670430659064525, -1.0611059260316988, -1.0546868860622192, -1.0477888611979889, -1.0404149841694488, -1.032568603814779, -1.0242532835590286, -1.0154727997957889, -1.0062311401721489, -0.9965325017777107, -0.9863812892384831, -0.9757821127165288, -0.9647397858162626, -0.9532593233983586, -0.9413459393022555, -0.9290050439782996, -0.9162422420305928, -0.9030633296716682, -0.8894742920901476, -0.8754813007325716], \"type\": \"scatter\", \"uid\": \"bf61c294-c4fc-49c5-9649-972301646406\"}, {\"hoverinfo\": \"text\", \"line\": {\"color\": \"#c6decd\", \"shape\": \"spline\", \"width\": 0.25}, \"mode\": \"lines\", \"text\": \"Python<br>997\", \"x\": [0.6931532612951881, 0.7112683187556563, 0.72905777313618, 0.746513480813624, 0.7636274509467927, 0.7803918491344634, 0.796799001001807, 0.8128413957135433, 0.8285116894122432, 0.8438027085801808, 0.8587074533232154, 0.8732191005751913, 0.887331007221385, 0.9010367131395796, 0.9143299441573686, 0.9272046149243316, 0.939654831697779, 0.9516748950407736, 0.9632593024312118, 0.9744027507807574], \"y\": [-0.8541302923768977, -0.8391051058922847, -0.8236957954425375, -0.8079094150729567, -0.7917531914432072, -0.7752345205191091, -0.758360964186925, -0.7411402467916981, -0.7235802516012104, -0.7056890171972006, -0.6874747337954742, -0.6689457394966009, -0.6501105164689174, -0.6309776870655754, -0.6115560098774139, -0.5918543757234731, -0.5718818035809664, -0.5516474364565946, -0.5311605372010757, -0.5104304842688115], \"type\": \"scatter\", \"uid\": \"c5302286-d64f-40e5-9341-717a315a39b9\"}, {\"hoverinfo\": \"text\", \"line\": {\"color\": \"#b8d7c5\", \"shape\": \"spline\", \"width\": 0.25}, \"mode\": \"lines\", \"text\": \"VBA<br>453\", \"x\": [0.9899549508112818, 1.009170901045598, 1.0266160513210034, 1.0422597904978392, 1.0560746683863875], \"y\": [-0.47957188758749475, -0.43769177794746855, -0.39504364717088053, -0.35170233026154485, -0.30774387856232294], \"type\": \"scatter\", \"uid\": \"202a1f99-14f3-4fef-b20a-f593d0266d47\"}, {\"hoverinfo\": \"text\", \"line\": {\"color\": \"#aad0bc\", \"shape\": \"spline\", \"width\": 0.25}, \"mode\": \"lines\", \"text\": \"Linux<br>353\", \"x\": [1.0652200281155486, 1.073192354568474, 1.080139353001434, 1.0860543862518381, 1.0909318030966744], \"y\": [-0.27441991855823794, -0.2413672929287951, -0.2080840649776999, -0.17460203350231404, -0.1409531872368947], \"type\": \"scatter\", \"uid\": \"0614dc1d-4445-4c5a-91b0-491840144d8a\"}, {\"hoverinfo\": \"text\", \"line\": {\"color\": \"#9cc9b4\", \"shape\": \"spline\", \"width\": 0.25}, \"mode\": \"lines\", \"text\": \"AWS<br>221\", \"x\": [1.0948209407123348, 1.0964234919305225, 1.097730609805143, 1.0987419421308606, 1.0994572164023046], \"y\": [-0.10661663930999804, -0.08863140720354155, -0.07062229320001895, -0.05259414988860109, -0.03455183498594413], \"type\": \"scatter\", \"uid\": \"2f29f3ff-5dbb-47b1-8517-d35a666eafa2\"}, {\"hoverinfo\": \"text\", \"marker\": {\"color\": \"green\", \"size\": 0.5}, \"mode\": \"markers\", \"text\": \"Power BI appears with Excel 136 times\", \"x\": [0.8754646866943823], \"y\": [0.2087141163196851], \"type\": \"scatter\", \"uid\": \"114a6615-88fb-44ed-98ce-3a7988efe0b1\"}, {\"hoverinfo\": \"text\", \"marker\": {\"color\": \"blue\", \"size\": 0.5}, \"mode\": \"markers\", \"text\": \"Excel appears with Power BI 136 times\", \"x\": [0.7629856218202414], \"y\": [0.47733943991208144], \"type\": \"scatter\", \"uid\": \"8d5f95bb-ce39-45da-b60b-f029d3843c81\"}, {\"hoverinfo\": \"text\", \"marker\": {\"color\": \"green\", \"size\": 0.5}, \"mode\": \"markers\", \"text\": \"Power BI appears with SSIS/SSRS 78 times\", \"x\": [0.8932765242310925], \"y\": [0.10980460490170052], \"type\": \"scatter\", \"uid\": \"451bf789-1c4b-4b6f-9074-a8080eea8876\"}, {\"hoverinfo\": \"text\", \"marker\": {\"color\": \"blue\", \"size\": 0.5}, \"mode\": \"markers\", \"text\": \"SSIS/SSRS appears with Power BI 78 times\", \"x\": [0.10260461748608549], \"y\": [0.8941321448592116], \"type\": \"scatter\", \"uid\": \"99b1139a-0ed4-428a-8351-1f5c74a087a4\"}, {\"hoverinfo\": \"text\", \"marker\": {\"color\": \"green\", \"size\": 0.5}, \"mode\": \"markers\", \"text\": \"Power BI appears with MS SQL Server 64 times\", \"x\": [0.895986371625934], \"y\": [0.08490242552833005], \"type\": \"scatter\", \"uid\": \"cd9f1fc0-50ab-4894-9b59-f269566add31\"}, {\"hoverinfo\": \"text\", \"marker\": {\"color\": \"blue\", \"size\": 0.5}, \"mode\": \"markers\", \"text\": \"MS SQL Server appears with Power BI 64 times\", \"x\": [-0.383427130120474], \"y\": [0.8142380707677437], \"type\": \"scatter\", \"uid\": \"0cd3c1b6-1b38-465e-8ccb-2fcad55c95e5\"}, {\"hoverinfo\": \"text\", \"marker\": {\"color\": \"green\", \"size\": 0.5}, \"mode\": \"markers\", \"text\": \"Power BI appears with MySQL/MariaDB 5 times\", \"x\": [0.8999950035265665], \"y\": [0.002998937681212723], \"type\": \"scatter\", \"uid\": \"b3621904-1f8b-4c3f-aff5-67c35ddb09a4\"}, {\"hoverinfo\": \"text\", \"marker\": {\"color\": \"blue\", \"size\": 0.5}, \"mode\": \"markers\", \"text\": \"MySQL/MariaDB appears with Power BI 5 times\", \"x\": [-0.6330575988717192], \"y\": [0.639717184786194], \"type\": \"scatter\", \"uid\": \"91213b6c-a27d-4e4c-aa26-fb1f168d7ff9\"}, {\"hoverinfo\": \"text\", \"marker\": {\"color\": \"green\", \"size\": 0.5}, \"mode\": \"markers\", \"text\": \"Power BI appears with T-SQL 28 times\", \"x\": [0.8993222929396287], \"y\": [0.034920100541215825], \"type\": \"scatter\", \"uid\": \"1fc5141a-c892-44cf-a0db-552a11fe869b\"}, {\"hoverinfo\": \"text\", \"marker\": {\"color\": \"blue\", \"size\": 0.5}, \"mode\": \"markers\", \"text\": \"T-SQL appears with Power BI 28 times\", \"x\": [-0.7627954284183905], \"y\": [0.47764331292712997], \"type\": \"scatter\", \"uid\": \"b7c0c358-4151-415e-8d01-e189825ce9ee\"}, {\"hoverinfo\": \"text\", \"marker\": {\"color\": \"green\", \"size\": 0.5}, \"mode\": \"markers\", \"text\": \"Power BI appears with PL/SQL 3 times\", \"x\": [0.8999998444003419], \"y\": [0.0005292252455415382], \"type\": \"scatter\", \"uid\": \"8cafe5a5-26eb-499e-b73d-23e71b7ed482\"}, {\"hoverinfo\": \"text\", \"marker\": {\"color\": \"blue\", \"size\": 0.5}, \"mode\": \"markers\", \"text\": \"PL/SQL appears with Power BI 3 times\", \"x\": [-0.8583669925971342], \"y\": [0.27056626918326576], \"type\": \"scatter\", \"uid\": \"7d8cb944-7c55-4e8b-abda-d39a5f9bb7e0\"}, {\"hoverinfo\": \"text\", \"marker\": {\"color\": \"green\", \"size\": 0.5}, \"mode\": \"markers\", \"text\": \"Power BI appears with Pentaho 7 times\", \"x\": [0.8999737037850641], \"y\": [0.0068798615824404545], \"type\": \"scatter\", \"uid\": \"f1a40d06-5c57-4edf-ac47-e95a3c20fdf4\"}, {\"hoverinfo\": \"text\", \"marker\": {\"color\": \"blue\", \"size\": 0.5}, \"mode\": \"markers\", \"text\": \"Pentaho appears with Power BI 7 times\", \"x\": [-0.8793752776012584], \"y\": [0.19157014679670098], \"type\": \"scatter\", \"uid\": \"86a82376-f702-47af-8f32-fee424f3fe3d\"}, {\"hoverinfo\": \"text\", \"marker\": {\"color\": \"green\", \"size\": 0.5}, \"mode\": \"markers\", \"text\": \"Power BI appears with Hadoop 14 times\", \"x\": [0.8998948166769032], \"y\": [0.01375932113306113], \"type\": \"scatter\", \"uid\": \"3909a38d-07ba-4cac-8ca8-e7fd6a06c5b7\"}, {\"hoverinfo\": \"text\", \"marker\": {\"color\": \"blue\", \"size\": 0.5}, \"mode\": \"markers\", \"text\": \"Hadoop appears with Power BI 14 times\", \"x\": [-0.8986421560780855], \"y\": [0.04941938202092223], \"type\": \"scatter\", \"uid\": \"065bff80-49b4-43be-b42b-00a0abe426f3\"}, {\"hoverinfo\": \"text\", \"marker\": {\"color\": \"green\", \"size\": 0.5}, \"mode\": \"markers\", \"text\": \"Power BI appears with Spark 19 times\", \"x\": [0.8997869924646007], \"y\": [0.01957979038469644], \"type\": \"scatter\", \"uid\": \"5d6afb87-e6a2-4e14-a144-1a620b7c3ac8\"}, {\"hoverinfo\": \"text\", \"marker\": {\"color\": \"blue\", \"size\": 0.5}, \"mode\": \"markers\", \"text\": \"Spark appears with Power BI 19 times\", \"x\": [-0.8877833898485165], \"y\": [-0.1477858339255727], \"type\": \"scatter\", \"uid\": \"b3839683-44eb-4970-9909-2b7e486db715\"}, {\"hoverinfo\": \"text\", \"marker\": {\"color\": \"green\", \"size\": 0.5}, \"mode\": \"markers\", \"text\": \"Power BI appears with Informatica 5 times\", \"x\": [0.8999873964567406], \"y\": [0.004763005250631794], \"type\": \"scatter\", \"uid\": \"3e4b4742-b8be-486b-a9e2-e8a7788148d9\"}, {\"hoverinfo\": \"text\", \"marker\": {\"color\": \"blue\", \"size\": 0.5}, \"mode\": \"markers\", \"text\": \"Informatica appears with Power BI 5 times\", \"x\": [-0.8492987660113304], \"y\": [-0.297811359843159], \"type\": \"scatter\", \"uid\": \"92f43b86-9c86-4be2-93a4-666ed4cb5ec6\"}, {\"hoverinfo\": \"text\", \"marker\": {\"color\": \"green\", \"size\": 0.5}, \"mode\": \"markers\", \"text\": \"Power BI appears with Qlik 89 times\", \"x\": [0.8892043460856166], \"y\": [0.13898068535753796], \"type\": \"scatter\", \"uid\": \"ccb0a1f6-9235-4552-a5f4-8cf006a422a6\"}, {\"hoverinfo\": \"text\", \"marker\": {\"color\": \"blue\", \"size\": 0.5}, \"mode\": \"markers\", \"text\": \"Qlik appears with Power BI 89 times\", \"x\": [-0.709971971248551], \"y\": [-0.553118251408726], \"type\": \"scatter\", \"uid\": \"42166918-1507-4dab-aaa4-83db42955b84\"}, {\"hoverinfo\": \"text\", \"marker\": {\"color\": \"green\", \"size\": 0.5}, \"mode\": \"markers\", \"text\": \"Power BI appears with Tableau 89 times\", \"x\": [0.8838151857000307], \"y\": [0.16991385324928684], \"type\": \"scatter\", \"uid\": \"78f23abb-58f8-47cc-9a40-5bfd2c047a64\"}, {\"hoverinfo\": \"text\", \"marker\": {\"color\": \"blue\", \"size\": 0.5}, \"mode\": \"markers\", \"text\": \"Tableau appears with Power BI 89 times\", \"x\": [-0.3438103177593623], \"y\": [-0.8317418261709617], \"type\": \"scatter\", \"uid\": \"9feeec2f-1b3a-4ca4-8f06-bfd6929a0da0\"}, {\"hoverinfo\": \"text\", \"marker\": {\"color\": \"green\", \"size\": 0.5}, \"mode\": \"markers\", \"text\": \"Power BI appears with Microstrategy 9 times\", \"x\": [0.899947701731002], \"y\": [0.00970227545925921], \"type\": \"scatter\", \"uid\": \"afe74145-1700-444b-ba86-059a09897d49\"}, {\"hoverinfo\": \"text\", \"marker\": {\"color\": \"blue\", \"size\": 0.5}, \"mode\": \"markers\", \"text\": \"Microstrategy appears with Power BI 9 times\", \"x\": [-0.05100303149573076], \"y\": [-0.8985536660535337], \"type\": \"scatter\", \"uid\": \"4796dff0-4d58-4b4e-9390-701655a47d64\"}, {\"hoverinfo\": \"text\", \"marker\": {\"color\": \"green\", \"size\": 0.5}, \"mode\": \"markers\", \"text\": \"Power BI appears with Oracle BI 63 times\", \"x\": [0.8978220514871483], \"y\": [0.06257446654513694], \"type\": \"scatter\", \"uid\": \"4140ce8b-3c13-4ab0-84c2-cd8016417095\"}, {\"hoverinfo\": \"text\", \"marker\": {\"color\": \"blue\", \"size\": 0.5}, \"mode\": \"markers\", \"text\": \"Oracle BI appears with Power BI 63 times\", \"x\": [0.12683862137007973], \"y\": [-0.8910173758849698], \"type\": \"scatter\", \"uid\": \"24ed10e0-d35f-42aa-bb27-40ba8531c22f\"}, {\"hoverinfo\": \"text\", \"marker\": {\"color\": \"green\", \"size\": 0.5}, \"mode\": \"markers\", \"text\": \"Power BI appears with Python 33 times\", \"x\": [0.8988404956166096], \"y\": [0.045670159181762406], \"type\": \"scatter\", \"uid\": \"4653d270-6c8c-4e22-a4ca-78bdbc3071df\"}, {\"hoverinfo\": \"text\", \"marker\": {\"color\": \"blue\", \"size\": 0.5}, \"mode\": \"markers\", \"text\": \"Python appears with Power BI 33 times\", \"x\": [0.6026738863471471], \"y\": [-0.6684191699190156], \"type\": \"scatter\", \"uid\": \"4f7cd1fa-c730-4a81-a7aa-4a001fb6c858\"}, {\"hoverinfo\": \"text\", \"marker\": {\"color\": \"green\", \"size\": 0.5}, \"mode\": \"markers\", \"text\": \"Power BI appears with VBA 20 times\", \"x\": [0.8996110288648116], \"y\": [0.02645745159298588], \"type\": \"scatter\", \"uid\": \"005a39d0-8729-454c-9bb3-972c83cb7364\"}, {\"hoverinfo\": \"text\", \"marker\": {\"color\": \"blue\", \"size\": 0.5}, \"mode\": \"markers\", \"text\": \"VBA appears with Power BI 20 times\", \"x\": [0.8153984190221032], \"y\": [-0.3809533019364114], \"type\": \"scatter\", \"uid\": \"7b45f096-e4c4-4e00-9e20-01a3366bfaee\"}, {\"hoverinfo\": \"text\", \"marker\": {\"color\": \"green\", \"size\": 0.5}, \"mode\": \"markers\", \"text\": \"Power BI appears with AWS 3 times\", \"x\": [0.8999985996033991], \"y\": [0.0015876750046489685], \"type\": \"scatter\", \"uid\": \"46ae9776-17a8-40ff-8dbe-e004f404a6dc\"}, {\"hoverinfo\": \"text\", \"marker\": {\"color\": \"blue\", \"size\": 0.5}, \"mode\": \"markers\", \"text\": \"AWS appears with Power BI 3 times\", \"x\": [0.8959039364100913], \"y\": [-0.08576792363642323], \"type\": \"scatter\", \"uid\": \"8204cae7-3f34-46ff-928c-eb97a06465f4\"}, {\"hoverinfo\": \"text\", \"marker\": {\"color\": \"green\", \"size\": 0.5}, \"mode\": \"markers\", \"text\": \"Excel appears with SSIS/SSRS 300 times\", \"x\": [0.43283941051760344], \"y\": [0.7890817731406382], \"type\": \"scatter\", \"uid\": \"af6aff25-9376-4c03-b2b0-d3cde607296a\"}, {\"hoverinfo\": \"text\", \"marker\": {\"color\": \"blue\", \"size\": 0.5}, \"mode\": \"markers\", \"text\": \"SSIS/SSRS appears with Excel 300 times\", \"x\": [-0.171758723479475], \"y\": [0.8834585111416955], \"type\": \"scatter\", \"uid\": \"b1c2c164-a015-48e9-86a3-2a0ee27d244b\"}, {\"hoverinfo\": \"text\", \"marker\": {\"color\": \"green\", \"size\": 0.5}, \"mode\": \"markers\", \"text\": \"Excel appears with MS SQL Server 159 times\", \"x\": [0.6977887367345958], \"y\": [0.5684108363554805], \"type\": \"scatter\", \"uid\": \"2d7ea3c3-5c91-4731-8dc6-6260d1b1d2d9\"}, {\"hoverinfo\": \"text\", \"marker\": {\"color\": \"blue\", \"size\": 0.5}, \"mode\": \"markers\", \"text\": \"MS SQL Server appears with Excel 159 times\", \"x\": [-0.5235040493086011], \"y\": [0.7320816282065121], \"type\": \"scatter\", \"uid\": \"85741117-b9f0-4df0-8fef-f369a2274dc2\"}, {\"hoverinfo\": \"text\", \"marker\": {\"color\": \"green\", \"size\": 0.5}, \"mode\": \"markers\", \"text\": \"Excel appears with PostgreSQL 25 times\", \"x\": [0.8550339159845911], \"y\": [0.2809217017534518], \"type\": \"scatter\", \"uid\": \"4b59d170-32a4-40f9-a437-fbb8562b9fe6\"}, {\"hoverinfo\": \"text\", \"marker\": {\"color\": \"blue\", \"size\": 0.5}, \"mode\": \"markers\", \"text\": \"PostgreSQL appears with Excel 25 times\", \"x\": [-0.5910958990070845], \"y\": [0.678679333836685], \"type\": \"scatter\", \"uid\": \"fd66500e-770f-44cd-8c10-d8af4eb63ca8\"}, {\"hoverinfo\": \"text\", \"marker\": {\"color\": \"green\", \"size\": 0.5}, \"mode\": \"markers\", \"text\": \"Excel appears with MySQL/MariaDB 64 times\", \"x\": [0.8159622796008787], \"y\": [0.37974406943168626], \"type\": \"scatter\", \"uid\": \"77e052bf-b08f-4eee-a6dc-5e56f61ed582\"}, {\"hoverinfo\": \"text\", \"marker\": {\"color\": \"blue\", \"size\": 0.5}, \"mode\": \"markers\", \"text\": \"MySQL/MariaDB appears with Excel 64 times\", \"x\": [-0.7058794035669166], \"y\": [0.5583316824433431], \"type\": \"scatter\", \"uid\": \"60b8742b-4bba-4096-b7b4-990e87963d10\"}, {\"hoverinfo\": \"text\", \"marker\": {\"color\": \"green\", \"size\": 0.5}, \"mode\": \"markers\", \"text\": \"Excel appears with T-SQL 111 times\", \"x\": [0.7870174587829574], \"y\": [0.4365816299053546], \"type\": \"scatter\", \"uid\": \"e77dfb05-7ff6-46a2-a24f-a85056f55add\"}, {\"hoverinfo\": \"text\", \"marker\": {\"color\": \"blue\", \"size\": 0.5}, \"mode\": \"markers\", \"text\": \"T-SQL appears with Excel 111 times\", \"x\": [-0.8267132543122995], \"y\": [0.3557319147115807], \"type\": \"scatter\", \"uid\": \"4a6e80f9-7510-4539-9cb3-d600c68c72d7\"}, {\"hoverinfo\": \"text\", \"marker\": {\"color\": \"green\", \"size\": 0.5}, \"mode\": \"markers\", \"text\": \"Excel appears with PL/SQL 36 times\", \"x\": [0.8513141750209672], \"y\": [0.2920003003566437], \"type\": \"scatter\", \"uid\": \"d82a6a30-1e06-4ea0-bfb5-d9bc0ad4e03d\"}, {\"hoverinfo\": \"text\", \"marker\": {\"color\": \"blue\", \"size\": 0.5}, \"mode\": \"markers\", \"text\": \"PL/SQL appears with Excel 36 times\", \"x\": [-0.8668846374618633], \"y\": [0.24189052344524334], \"type\": \"scatter\", \"uid\": \"f4d2987e-fcff-47b3-a3c5-2d56a5322634\"}, {\"hoverinfo\": \"text\", \"marker\": {\"color\": \"green\", \"size\": 0.5}, \"mode\": \"markers\", \"text\": \"Excel appears with Pentaho 42 times\", \"x\": [0.846348757265404], \"y\": [0.30609439896101703], \"type\": \"scatter\", \"uid\": \"0e13426f-c815-4c55-9812-3eeba756fceb\"}, {\"hoverinfo\": \"text\", \"marker\": {\"color\": \"blue\", \"size\": 0.5}, \"mode\": \"markers\", \"text\": \"Pentaho appears with Excel 42 times\", \"x\": [-0.8948274749044547], \"y\": [0.09635242683045209], \"type\": \"scatter\", \"uid\": \"cd6240fb-3f87-4fab-a068-8fbc1f970f2d\"}, {\"hoverinfo\": \"text\", \"marker\": {\"color\": \"green\", \"size\": 0.5}, \"mode\": \"markers\", \"text\": \"Excel appears with Hadoop 50 times\", \"x\": [0.8331351563960339], \"y\": [0.34042005107948076], \"type\": \"scatter\", \"uid\": \"0d564eb2-306c-46f1-a4eb-33af089a5fe5\"}, {\"hoverinfo\": \"text\", \"marker\": {\"color\": \"blue\", \"size\": 0.5}, \"mode\": \"markers\", \"text\": \"Hadoop appears with Excel 50 times\", \"x\": [-0.8997638282975503], \"y\": [-0.020616820495324848], \"type\": \"scatter\", \"uid\": \"ae78a73b-6478-4f8c-a2fe-23f31958f7c7\"}, {\"hoverinfo\": \"text\", \"marker\": {\"color\": \"green\", \"size\": 0.5}, \"mode\": \"markers\", \"text\": \"Excel appears with Spark 55 times\", \"x\": [0.8253189000739405], \"y\": [0.3589550294685132], \"type\": \"scatter\", \"uid\": \"ec03d4f1-b8c3-4d5a-94be-a65cd49093b5\"}, {\"hoverinfo\": \"text\", \"marker\": {\"color\": \"blue\", \"size\": 0.5}, \"mode\": \"markers\", \"text\": \"Spark appears with Excel 55 times\", \"x\": [-0.8773887898487324], \"y\": [-0.20047172231458704], \"type\": \"scatter\", \"uid\": \"fe351d82-ce9d-4900-af98-20ec79499966\"}, {\"hoverinfo\": \"text\", \"marker\": {\"color\": \"green\", \"size\": 0.5}, \"mode\": \"markers\", \"text\": \"Excel appears with Informatica 79 times\", \"x\": [0.8040265767152076], \"y\": [0.40440235401840124], \"type\": \"scatter\", \"uid\": \"9ecfd7ec-2faa-4fcf-811e-abc87cea0e64\"}, {\"hoverinfo\": \"text\", \"marker\": {\"color\": \"blue\", \"size\": 0.5}, \"mode\": \"markers\", \"text\": \"Informatica appears with Excel 79 times\", \"x\": [-0.8127105298955218], \"y\": [-0.38665436063355096], \"type\": \"scatter\", \"uid\": \"65bb39fb-a283-4eef-b516-56bb03ac771f\"}, {\"hoverinfo\": \"text\", \"marker\": {\"color\": \"green\", \"size\": 0.5}, \"mode\": \"markers\", \"text\": \"Excel appears with Qlik 237 times\", \"x\": [0.5951107584068455], \"y\": [0.675161599343764], \"type\": \"scatter\", \"uid\": \"a0eb1382-09ef-48ae-818c-5da3218ded6e\"}, {\"hoverinfo\": \"text\", \"marker\": {\"color\": \"blue\", \"size\": 0.5}, \"mode\": \"markers\", \"text\": \"Qlik appears with Excel 237 times\", \"x\": [-0.5755104866025282], \"y\": [-0.6919448531570426], \"type\": \"scatter\", \"uid\": \"a88cd9f6-e2c3-49fd-8f17-2c09ccba071e\"}, {\"hoverinfo\": \"text\", \"marker\": {\"color\": \"green\", \"size\": 0.5}, \"mode\": \"markers\", \"text\": \"Excel appears with Tableau 250 times\", \"x\": [0.5220492148245024], \"y\": [0.7331197837332728], \"type\": \"scatter\", \"uid\": \"ea2d5e76-46dc-4803-bce0-5bc27539396a\"}, {\"hoverinfo\": \"text\", \"marker\": {\"color\": \"blue\", \"size\": 0.5}, \"mode\": \"markers\", \"text\": \"Tableau appears with Excel 250 times\", \"x\": [-0.1352176888862371], \"y\": [-0.8897843427551784], \"type\": \"scatter\", \"uid\": \"aa20c0b8-564a-49da-901d-575b65790125\"}, {\"hoverinfo\": \"text\", \"marker\": {\"color\": \"green\", \"size\": 0.5}, \"mode\": \"markers\", \"text\": \"Excel appears with Microstrategy 23 times\", \"x\": [0.8605957284062103], \"y\": [0.26339132910744095], \"type\": \"scatter\", \"uid\": \"ef7ab64a-82d7-48ca-8d8c-b89a05bce4eb\"}, {\"hoverinfo\": \"text\", \"marker\": {\"color\": \"blue\", \"size\": 0.5}, \"mode\": \"markers\", \"text\": \"Microstrategy appears with Excel 23 times\", \"x\": [-0.02918652458439393], \"y\": [-0.8995266237208794], \"type\": \"scatter\", \"uid\": \"d8a0bf83-f67f-46a6-9746-6529012b2dac\"}, {\"hoverinfo\": \"text\", \"marker\": {\"color\": \"green\", \"size\": 0.5}, \"mode\": \"markers\", \"text\": \"Excel appears with Oracle BI 348 times\", \"x\": [0.32022798886790027], \"y\": [0.8411028683494189], \"type\": \"scatter\", \"uid\": \"b7a5372e-e34c-4520-9084-5397cd520f62\"}, {\"hoverinfo\": \"text\", \"marker\": {\"color\": \"blue\", \"size\": 0.5}, \"mode\": \"markers\", \"text\": \"Oracle BI appears with Excel 348 times\", \"x\": [0.49131168655842355], \"y\": [-0.7540642059209], \"type\": \"scatter\", \"uid\": \"3c59b0c2-c1b0-4651-907a-a35975435dd9\"}, {\"hoverinfo\": \"text\", \"marker\": {\"color\": \"green\", \"size\": 0.5}, \"mode\": \"markers\", \"text\": \"Excel appears with Python 189 times\", \"x\": [0.6538066668448013], \"y\": [0.6184956284318355], \"type\": \"scatter\", \"uid\": \"c3432967-494b-4bd6-8639-694617cecb2e\"}, {\"hoverinfo\": \"text\", \"marker\": {\"color\": \"blue\", \"size\": 0.5}, \"mode\": \"markers\", \"text\": \"Python appears with Excel 189 times\", \"x\": [0.7805587298490864], \"y\": [-0.44802686220402127], \"type\": \"scatter\", \"uid\": \"3728225a-583c-42b8-963f-158d76cdfeee\"}, {\"hoverinfo\": \"text\", \"marker\": {\"color\": \"green\", \"size\": 0.5}, \"mode\": \"markers\", \"text\": \"Excel appears with VBA 145 times\", \"x\": [0.7330855378078889], \"y\": [0.5220973034377006], \"type\": \"scatter\", \"uid\": \"431a1ade-9895-437b-a567-93b11f2115ef\"}, {\"hoverinfo\": \"text\", \"marker\": {\"color\": \"blue\", \"size\": 0.5}, \"mode\": \"markers\", \"text\": \"VBA appears with Excel 145 times\", \"x\": [0.8569985572477011], \"y\": [-0.27486991991732873], \"type\": \"scatter\", \"uid\": \"59180f18-05cb-49e9-b516-fa5eacdf2279\"}, {\"hoverinfo\": \"text\", \"marker\": {\"color\": \"green\", \"size\": 0.5}, \"mode\": \"markers\", \"text\": \"Excel appears with Linux 50 times\", \"x\": [0.840192325282925], \"y\": [0.3226094489249681], \"type\": \"scatter\", \"uid\": \"082bd25e-107d-4c14-b592-b70faca3f314\"}, {\"hoverinfo\": \"text\", \"marker\": {\"color\": \"blue\", \"size\": 0.5}, \"mode\": \"markers\", \"text\": \"Linux appears with Excel 50 times\", \"x\": [0.8888511459603173], \"y\": [-0.14122195411843952], \"type\": \"scatter\", \"uid\": \"5e7fe931-65d9-4636-9f8f-9f35e9981b3e\"}, {\"hoverinfo\": \"text\", \"marker\": {\"color\": \"green\", \"size\": 0.5}, \"mode\": \"markers\", \"text\": \"Excel appears with AWS 24 times\", \"x\": [0.8579175196572418], \"y\": [0.27198810537441903], \"type\": \"scatter\", \"uid\": \"d4d3675c-bb9e-43d0-b1f7-2f38d76b0ca5\"}, {\"hoverinfo\": \"text\", \"marker\": {\"color\": \"blue\", \"size\": 0.5}, \"mode\": \"markers\", \"text\": \"AWS appears with Excel 24 times\", \"x\": [0.8985094220306981], \"y\": [-0.05177662138514771], \"type\": \"scatter\", \"uid\": \"4815748a-d1a6-4f8a-ba43-73d444a2c99d\"}, {\"hoverinfo\": \"text\", \"marker\": {\"color\": \"green\", \"size\": 0.5}, \"mode\": \"markers\", \"text\": \"SSIS/SSRS appears with MS SQL Server 142 times\", \"x\": [-0.09034477436244255], \"y\": [0.8954539752245222], \"type\": \"scatter\", \"uid\": \"b43f9bbf-d0c3-47e8-8840-2f1a17889398\"}, {\"hoverinfo\": \"text\", \"marker\": {\"color\": \"blue\", \"size\": 0.5}, \"mode\": \"markers\", \"text\": \"MS SQL Server appears with SSIS/SSRS 142 times\", \"x\": [-0.4779761362820385], \"y\": [0.7625869216980411], \"type\": \"scatter\", \"uid\": \"79a8acf2-5f62-4a0d-9860-64927c6f5fed\"}, {\"hoverinfo\": \"text\", \"marker\": {\"color\": \"green\", \"size\": 0.5}, \"mode\": \"markers\", \"text\": \"SSIS/SSRS appears with PostgreSQL 11 times\", \"x\": [0.22789943316637712], \"y\": [0.8706674728979165], \"type\": \"scatter\", \"uid\": \"56168e77-e80c-4f69-b214-fd9f106f2f74\"}, {\"hoverinfo\": \"text\", \"marker\": {\"color\": \"blue\", \"size\": 0.5}, \"mode\": \"markers\", \"text\": \"PostgreSQL appears with SSIS/SSRS 11 times\", \"x\": [-0.5739236350144148], \"y\": [0.6932616109174378], \"type\": \"scatter\", \"uid\": \"13cc7023-8a87-438d-9b7f-199250995fb7\"}, {\"hoverinfo\": \"text\", \"marker\": {\"color\": \"green\", \"size\": 0.5}, \"mode\": \"markers\", \"text\": \"SSIS/SSRS appears with MySQL/MariaDB 28 times\", \"x\": [0.1838465792612521], \"y\": [0.881022380699796], \"type\": \"scatter\", \"uid\": \"5a75f516-55b8-45b9-a89c-1ab113629591\"}, {\"hoverinfo\": \"text\", \"marker\": {\"color\": \"blue\", \"size\": 0.5}, \"mode\": \"markers\", \"text\": \"MySQL/MariaDB appears with SSIS/SSRS 28 times\", \"x\": [-0.654911759226759], \"y\": [0.617325349897857], \"type\": \"scatter\", \"uid\": \"76f48067-e630-41ae-a6b2-e3514b63ed16\"}, {\"hoverinfo\": \"text\", \"marker\": {\"color\": \"green\", \"size\": 0.5}, \"mode\": \"markers\", \"text\": \"SSIS/SSRS appears with T-SQL 91 times\", \"x\": [0.0407936361603167], \"y\": [0.899075013137847], \"type\": \"scatter\", \"uid\": \"f548c735-a7ef-44aa-ba2a-68b9764d8e1f\"}, {\"hoverinfo\": \"text\", \"marker\": {\"color\": \"blue\", \"size\": 0.5}, \"mode\": \"markers\", \"text\": \"T-SQL appears with SSIS/SSRS 91 times\", \"x\": [-0.8118238459595796], \"y\": [0.38851260356827133], \"type\": \"scatter\", \"uid\": \"3f50d4ac-8859-4fdf-a34b-9d72bb2c7884\"}, {\"hoverinfo\": \"text\", \"marker\": {\"color\": \"green\", \"size\": 0.5}, \"mode\": \"markers\", \"text\": \"SSIS/SSRS appears with PL/SQL 18 times\", \"x\": [0.2016749764643151], \"y\": [0.8771129937859306], \"type\": \"scatter\", \"uid\": \"c1d6113f-68e3-49f9-9d44-74b705353a36\"}, {\"hoverinfo\": \"text\", \"marker\": {\"color\": \"blue\", \"size\": 0.5}, \"mode\": \"markers\", \"text\": \"PL/SQL appears with SSIS/SSRS 18 times\", \"x\": [-0.8650435753944418], \"y\": [0.24839406729791433], \"type\": \"scatter\", \"uid\": \"a75d04f9-9b80-4702-8229-39e055ae05e0\"}, {\"hoverinfo\": \"text\", \"marker\": {\"color\": \"green\", \"size\": 0.5}, \"mode\": \"markers\", \"text\": \"SSIS/SSRS appears with Pentaho 18 times\", \"x\": [0.20820373979284537], \"y\": [0.8755862051998496], \"type\": \"scatter\", \"uid\": \"4a9ee011-258c-44b3-8220-80186e22d9ae\"}, {\"hoverinfo\": \"text\", \"marker\": {\"color\": \"blue\", \"size\": 0.5}, \"mode\": \"markers\", \"text\": \"Pentaho appears with SSIS/SSRS 18 times\", \"x\": [-0.8819305775245281], \"y\": [0.17943928340040954], \"type\": \"scatter\", \"uid\": \"c784aa07-1558-48bd-9187-e3ef79dca8b1\"}, {\"hoverinfo\": \"text\", \"marker\": {\"color\": \"green\", \"size\": 0.5}, \"mode\": \"markers\", \"text\": \"SSIS/SSRS appears with Hadoop 26 times\", \"x\": [0.1936802127421894], \"y\": [0.8789129508615403], \"type\": \"scatter\", \"uid\": \"b9f8f78c-e83a-419e-8cb3-4781ed0bf8a7\"}, {\"hoverinfo\": \"text\", \"marker\": {\"color\": \"blue\", \"size\": 0.5}, \"mode\": \"markers\", \"text\": \"Hadoop appears with SSIS/SSRS 26 times\", \"x\": [-0.89982560803383], \"y\": [0.017716521287996338], \"type\": \"scatter\", \"uid\": \"fe021ed2-6a8a-423d-bf86-460bd40737ac\"}, {\"hoverinfo\": \"text\", \"marker\": {\"color\": \"green\", \"size\": 0.5}, \"mode\": \"markers\", \"text\": \"SSIS/SSRS appears with Spark 35 times\", \"x\": [0.17234507672083552], \"y\": [0.8833443125588625], \"type\": \"scatter\", \"uid\": \"af94d134-9887-499c-91e4-a15885eb3692\"}, {\"hoverinfo\": \"text\", \"marker\": {\"color\": \"blue\", \"size\": 0.5}, \"mode\": \"markers\", \"text\": \"Spark appears with SSIS/SSRS 35 times\", \"x\": [-0.8831088432823839], \"y\": [-0.17354760417951587], \"type\": \"scatter\", \"uid\": \"c7938dc3-646f-4804-b29d-0f41b095678a\"}, {\"hoverinfo\": \"text\", \"marker\": {\"color\": \"green\", \"size\": 0.5}, \"mode\": \"markers\", \"text\": \"SSIS/SSRS appears with Informatica 43 times\", \"x\": [0.1580647507672469], \"y\": [0.8860110239522351], \"type\": \"scatter\", \"uid\": \"5e7e67be-2cbe-47b5-813e-a461db0775f9\"}, {\"hoverinfo\": \"text\", \"marker\": {\"color\": \"blue\", \"size\": 0.5}, \"mode\": \"markers\", \"text\": \"Informatica appears with SSIS/SSRS 43 times\", \"x\": [-0.8297168315867374], \"y\": [-0.3486688678125216], \"type\": \"scatter\", \"uid\": \"867a8cd3-58bf-40b8-a96a-4adec38af5cd\"}, {\"hoverinfo\": \"text\", \"marker\": {\"color\": \"green\", \"size\": 0.5}, \"mode\": \"markers\", \"text\": \"SSIS/SSRS appears with Qlik 43 times\", \"x\": [0.1422721888794903], \"y\": [0.8886836469022251], \"type\": \"scatter\", \"uid\": \"c02de4be-3365-49f5-b4f5-fc7e359e02e6\"}, {\"hoverinfo\": \"text\", \"marker\": {\"color\": \"blue\", \"size\": 0.5}, \"mode\": \"markers\", \"text\": \"Qlik appears with SSIS/SSRS 43 times\", \"x\": [-0.7384731124407059], \"y\": [-0.5144486973471082], \"type\": \"scatter\", \"uid\": \"97d4400c-95f2-40ae-bf76-5cd194d55fac\"}, {\"hoverinfo\": \"text\", \"marker\": {\"color\": \"green\", \"size\": 0.5}, \"mode\": \"markers\", \"text\": \"SSIS/SSRS appears with Tableau 82 times\", \"x\": [0.07294840290091877], \"y\": [0.8970387564170265], \"type\": \"scatter\", \"uid\": \"7c4a6de0-922e-4828-bfac-e552b216d3e3\"}, {\"hoverinfo\": \"text\", \"marker\": {\"color\": \"blue\", \"size\": 0.5}, \"mode\": \"markers\", \"text\": \"Tableau appears with SSIS/SSRS 82 times\", \"x\": [-0.3730304430809133], \"y\": [-0.8190532879702379], \"type\": \"scatter\", \"uid\": \"eec4176c-f8f6-49bf-9939-b62366d551c0\"}, {\"hoverinfo\": \"text\", \"marker\": {\"color\": \"green\", \"size\": 0.5}, \"mode\": \"markers\", \"text\": \"SSIS/SSRS appears with Microstrategy 12 times\", \"x\": [0.22375277734071908], \"y\": [0.8717423327063534], \"type\": \"scatter\", \"uid\": \"d98d8e93-cc40-48f7-b6ef-e974cb0a4e1d\"}, {\"hoverinfo\": \"text\", \"marker\": {\"color\": \"blue\", \"size\": 0.5}, \"mode\": \"markers\", \"text\": \"Microstrategy appears with SSIS/SSRS 12 times\", \"x\": [-0.04614389165768174], \"y\": [-0.8988163000650823], \"type\": \"scatter\", \"uid\": \"ac4e3326-2efe-43cf-9a37-e362973f3622\"}, {\"hoverinfo\": \"text\", \"marker\": {\"color\": \"green\", \"size\": 0.5}, \"mode\": \"markers\", \"text\": \"SSIS/SSRS appears with Oracle BI 139 times\", \"x\": [-0.03815008516754244], \"y\": [0.8991910647919658], \"type\": \"scatter\", \"uid\": \"ecd2e30e-94a7-4518-9c48-b556a592fde1\"}, {\"hoverinfo\": \"text\", \"marker\": {\"color\": \"blue\", \"size\": 0.5}, \"mode\": \"markers\", \"text\": \"Oracle BI appears with SSIS/SSRS 139 times\", \"x\": [0.2778947616657302], \"y\": [-0.8560224888627326], \"type\": \"scatter\", \"uid\": \"f85c177f-7b20-419a-ac4d-671a35389ca7\"}, {\"hoverinfo\": \"text\", \"marker\": {\"color\": \"green\", \"size\": 0.5}, \"mode\": \"markers\", \"text\": \"SSIS/SSRS appears with Python 97 times\", \"x\": [0.005792960149336338], \"y\": [0.8999813562583995], \"type\": \"scatter\", \"uid\": \"b07efc6e-fe4f-47d2-b37d-6d4daee69f92\"}, {\"hoverinfo\": \"text\", \"marker\": {\"color\": \"blue\", \"size\": 0.5}, \"mode\": \"markers\", \"text\": \"Python appears with SSIS/SSRS 97 times\", \"x\": [0.7330501745430159], \"y\": [-0.5221469540296622], \"type\": \"scatter\", \"uid\": \"d46e4666-182f-4ca7-908a-c19c617d2c5b\"}, {\"hoverinfo\": \"text\", \"marker\": {\"color\": \"green\", \"size\": 0.5}, \"mode\": \"markers\", \"text\": \"SSIS/SSRS appears with VBA 47 times\", \"x\": [0.12569691862833737], \"y\": [0.8911791540691137], \"type\": \"scatter\", \"uid\": \"45ed2507-bf3c-4769-b7f2-a166634889a8\"}, {\"hoverinfo\": \"text\", \"marker\": {\"color\": \"blue\", \"size\": 0.5}, \"mode\": \"markers\", \"text\": \"VBA appears with SSIS/SSRS 47 times\", \"x\": [0.8410299828579392], \"y\": [-0.32041936260777765], \"type\": \"scatter\", \"uid\": \"031fa481-8746-4c19-8657-29b00e62c7a0\"}, {\"hoverinfo\": \"text\", \"marker\": {\"color\": \"green\", \"size\": 0.5}, \"mode\": \"markers\", \"text\": \"SSIS/SSRS appears with Linux 14 times\", \"x\": [0.21399739529405065], \"y\": [0.8741882605064895], \"type\": \"scatter\", \"uid\": \"f120520a-5951-4a48-99b8-2b190122f3c2\"}, {\"hoverinfo\": \"text\", \"marker\": {\"color\": \"blue\", \"size\": 0.5}, \"mode\": \"markers\", \"text\": \"Linux appears with SSIS/SSRS 14 times\", \"x\": [0.8743054496404205], \"y\": [-0.21351810398432772], \"type\": \"scatter\", \"uid\": \"b391bac8-5b59-468e-b746-f39a682f7d68\"}, {\"hoverinfo\": \"text\", \"marker\": {\"color\": \"green\", \"size\": 0.5}, \"mode\": \"markers\", \"text\": \"SSIS/SSRS appears with AWS 14 times\", \"x\": [0.21905915441936338], \"y\": [0.8729336096548658], \"type\": \"scatter\", \"uid\": \"6b8f2e19-78b7-4052-9bf2-12d0e9f29cd3\"}, {\"hoverinfo\": \"text\", \"marker\": {\"color\": \"blue\", \"size\": 0.5}, \"mode\": \"markers\", \"text\": \"AWS appears with SSIS/SSRS 14 times\", \"x\": [0.8971752124901224], \"y\": [-0.07125053047734964], \"type\": \"scatter\", \"uid\": \"c90ef222-bff0-4b20-817d-80982d5683d3\"}, {\"hoverinfo\": \"text\", \"marker\": {\"color\": \"green\", \"size\": 0.5}, \"mode\": \"markers\", \"text\": \"MS SQL Server appears with PostgreSQL 26 times\", \"x\": [-0.28649273555836746], \"y\": [0.8531833990838567], \"type\": \"scatter\", \"uid\": \"d72dd144-372c-495c-b171-a6e589210bad\"}, {\"hoverinfo\": \"text\", \"marker\": {\"color\": \"blue\", \"size\": 0.5}, \"mode\": \"markers\", \"text\": \"PostgreSQL appears with MS SQL Server 26 times\", \"x\": [-0.5961169634490139], \"y\": [0.6742733613960491], \"type\": \"scatter\", \"uid\": \"2d1b3e3f-b880-4a7b-86c7-dbd8944a29ef\"}, {\"hoverinfo\": \"text\", \"marker\": {\"color\": \"green\", \"size\": 0.5}, \"mode\": \"markers\", \"text\": \"MS SQL Server appears with MySQL/MariaDB 33 times\", \"x\": [-0.33552547035538405], \"y\": [0.8351183501413427], \"type\": \"scatter\", \"uid\": \"43c26c41-0949-49c8-8a01-5d262bf38c95\"}, {\"hoverinfo\": \"text\", \"marker\": {\"color\": \"blue\", \"size\": 0.5}, \"mode\": \"markers\", \"text\": \"MySQL/MariaDB appears with MS SQL Server 33 times\", \"x\": [-0.6804048450235274], \"y\": [0.5891088582499077], \"type\": \"scatter\", \"uid\": \"2f004cd1-28b8-4ce7-8dc5-bf4de3db724a\"}, {\"hoverinfo\": \"text\", \"marker\": {\"color\": \"green\", \"size\": 0.5}, \"mode\": \"markers\", \"text\": \"MS SQL Server appears with T-SQL 117 times\", \"x\": [-0.4373759113701815], \"y\": [0.7865763231582191], \"type\": \"scatter\", \"uid\": \"8408d0a1-d456-43d9-b0a7-eb18e8ddca67\"}, {\"hoverinfo\": \"text\", \"marker\": {\"color\": \"blue\", \"size\": 0.5}, \"mode\": \"markers\", \"text\": \"T-SQL appears with MS SQL Server 117 times\", \"x\": [-0.8419285705811345], \"y\": [0.3180507538730377], \"type\": \"scatter\", \"uid\": \"cd1476a1-951d-49e3-8367-74dc3b56de14\"}, {\"hoverinfo\": \"text\", \"marker\": {\"color\": \"green\", \"size\": 0.5}, \"mode\": \"markers\", \"text\": \"MS SQL Server appears with PL/SQL 6 times\", \"x\": [-0.25628460957281024], \"y\": [0.8627387779021598], \"type\": \"scatter\", \"uid\": \"9a7dfced-ea80-4d35-a11c-7f43a8a4f339\"}, {\"hoverinfo\": \"text\", \"marker\": {\"color\": \"blue\", \"size\": 0.5}, \"mode\": \"markers\", \"text\": \"PL/SQL appears with MS SQL Server 6 times\", \"x\": [-0.8597479120232147], \"y\": [0.2661456889970657], \"type\": \"scatter\", \"uid\": \"1d44809f-d0e2-4846-ab85-641b4725cc39\"}, {\"hoverinfo\": \"text\", \"marker\": {\"color\": \"green\", \"size\": 0.5}, \"mode\": \"markers\", \"text\": \"MS SQL Server appears with Pentaho 27 times\", \"x\": [-0.3045523798324137], \"y\": [0.8469048635699368], \"type\": \"scatter\", \"uid\": \"268720ac-0278-4368-a4b5-340786d8557e\"}, {\"hoverinfo\": \"text\", \"marker\": {\"color\": \"blue\", \"size\": 0.5}, \"mode\": \"markers\", \"text\": \"Pentaho appears with MS SQL Server 27 times\", \"x\": [-0.8907677935097689], \"y\": [0.12857969530893198], \"type\": \"scatter\", \"uid\": \"7dce6bbc-b519-481d-af9d-1c217c3a65a0\"}, {\"hoverinfo\": \"text\", \"marker\": {\"color\": \"green\", \"size\": 0.5}, \"mode\": \"markers\", \"text\": \"MS SQL Server appears with Hadoop 20 times\", \"x\": [-0.269867704833968], \"y\": [0.8585868749798393], \"type\": \"scatter\", \"uid\": \"21e87bb3-cae7-4d83-a0e2-4e5d21ee6d40\"}, {\"hoverinfo\": \"text\", \"marker\": {\"color\": \"blue\", \"size\": 0.5}, \"mode\": \"markers\", \"text\": \"Hadoop appears with MS SQL Server 20 times\", \"x\": [-0.8993979973604047], \"y\": [0.03291264717541635], \"type\": \"scatter\", \"uid\": \"3381175a-2b27-4376-a8e1-41364cec1bf4\"}, {\"hoverinfo\": \"text\", \"marker\": {\"color\": \"green\", \"size\": 0.5}, \"mode\": \"markers\", \"text\": \"MS SQL Server appears with Spark 16 times\", \"x\": [-0.26360673147642794], \"y\": [0.8605297735234467], \"type\": \"scatter\", \"uid\": \"67de15e6-78b6-483e-9bda-52c24dd890a1\"}, {\"hoverinfo\": \"text\", \"marker\": {\"color\": \"blue\", \"size\": 0.5}, \"mode\": \"markers\", \"text\": \"Spark appears with MS SQL Server 16 times\", \"x\": [-0.8905068848392399], \"y\": [-0.13037441487467022], \"type\": \"scatter\", \"uid\": \"683d9d04-7eec-4009-8067-c28cbad49810\"}, {\"hoverinfo\": \"text\", \"marker\": {\"color\": \"green\", \"size\": 0.5}, \"mode\": \"markers\", \"text\": \"MS SQL Server appears with Informatica 32 times\", \"x\": [-0.3245137079726995], \"y\": [0.8394586668429898], \"type\": \"scatter\", \"uid\": \"0e75967a-9d0e-4c41-9d2c-81de2d19b9e6\"}, {\"hoverinfo\": \"text\", \"marker\": {\"color\": \"blue\", \"size\": 0.5}, \"mode\": \"markers\", \"text\": \"Informatica appears with MS SQL Server 32 times\", \"x\": [-0.8388199805808103], \"y\": [-0.3261610647799779], \"type\": \"scatter\", \"uid\": \"4012c2a2-c728-48e0-821f-ed9f9e76a3c3\"}, {\"hoverinfo\": \"text\", \"marker\": {\"color\": \"green\", \"size\": 0.5}, \"mode\": \"markers\", \"text\": \"MS SQL Server appears with Qlik 25 times\", \"x\": [-0.2776737481828954], \"y\": [0.8560942060136034], \"type\": \"scatter\", \"uid\": \"8893963b-e730-4ebd-8fe3-cf3492059a31\"}, {\"hoverinfo\": \"text\", \"marker\": {\"color\": \"blue\", \"size\": 0.5}, \"mode\": \"markers\", \"text\": \"Qlik appears with MS SQL Server 25 times\", \"x\": [-0.7532468784637192], \"y\": [-0.4925638436636037], \"type\": \"scatter\", \"uid\": \"3ce5f421-13fa-41eb-8b76-31f8dd4242df\"}, {\"hoverinfo\": \"text\", \"marker\": {\"color\": \"green\", \"size\": 0.5}, \"mode\": \"markers\", \"text\": \"MS SQL Server appears with Tableau 42 times\", \"x\": [-0.34815911796531224], \"y\": [0.8299308577090118], \"type\": \"scatter\", \"uid\": \"2258c864-e0d2-4020-9ff5-26be3ff56ca2\"}, {\"hoverinfo\": \"text\", \"marker\": {\"color\": \"blue\", \"size\": 0.5}, \"mode\": \"markers\", \"text\": \"Tableau appears with MS SQL Server 42 times\", \"x\": [-0.4466288299883531], \"y\": [-0.7813595127873179], \"type\": \"scatter\", \"uid\": \"94930e3d-edc2-47d5-a49a-055fd07918df\"}, {\"hoverinfo\": \"text\", \"marker\": {\"color\": \"green\", \"size\": 0.5}, \"mode\": \"markers\", \"text\": \"MS SQL Server appears with Microstrategy 10 times\", \"x\": [-0.25907620033985174], \"y\": [0.8619045900895672], \"type\": \"scatter\", \"uid\": \"cea14af1-6b73-4c96-a28e-37ff8a46a941\"}, {\"hoverinfo\": \"text\", \"marker\": {\"color\": \"blue\", \"size\": 0.5}, \"mode\": \"markers\", \"text\": \"Microstrategy appears with MS SQL Server 10 times\", \"x\": [-0.04875141175606415], \"y\": [-0.8986786410345974], \"type\": \"scatter\", \"uid\": \"c9a28008-c680-494a-9256-128f2aa3d7c5\"}, {\"hoverinfo\": \"text\", \"marker\": {\"color\": \"green\", \"size\": 0.5}, \"mode\": \"markers\", \"text\": \"MS SQL Server appears with Oracle BI 76 times\", \"x\": [-0.4063345951294627], \"y\": [0.8030518020657046], \"type\": \"scatter\", \"uid\": \"a60246b5-68ed-46bb-883f-e79910d048d3\"}, {\"hoverinfo\": \"text\", \"marker\": {\"color\": \"blue\", \"size\": 0.5}, \"mode\": \"markers\", \"text\": \"Oracle BI appears with MS SQL Server 76 times\", \"x\": [0.17789556544122784], \"y\": [-0.8822432588557114], \"type\": \"scatter\", \"uid\": \"61c77cc0-db24-48cf-baf0-8e95c9cc2449\"}, {\"hoverinfo\": \"text\", \"marker\": {\"color\": \"green\", \"size\": 0.5}, \"mode\": \"markers\", \"text\": \"MS SQL Server appears with Python 53 times\", \"x\": [-0.36404627934661415], \"y\": [0.823085843939675], \"type\": \"scatter\", \"uid\": \"3eb5c8d1-f592-4b8d-87d4-227b6224ef20\"}, {\"hoverinfo\": \"text\", \"marker\": {\"color\": \"blue\", \"size\": 0.5}, \"mode\": \"markers\", \"text\": \"Python appears with MS SQL Server 53 times\", \"x\": [0.6487956640327659], \"y\": [-0.6237500992643468], \"type\": \"scatter\", \"uid\": \"fb9b3678-b805-4bb8-905b-cd68ac0f7ae8\"}, {\"hoverinfo\": \"text\", \"marker\": {\"color\": \"green\", \"size\": 0.5}, \"mode\": \"markers\", \"text\": \"MS SQL Server appears with VBA 29 times\", \"x\": [-0.3141285038271374], \"y\": [0.8433998358331143], \"type\": \"scatter\", \"uid\": \"a4852c7b-a39b-4774-8eff-e5ca4ed1091a\"}, {\"hoverinfo\": \"text\", \"marker\": {\"color\": \"blue\", \"size\": 0.5}, \"mode\": \"markers\", \"text\": \"VBA appears with MS SQL Server 29 times\", \"x\": [0.824788544218544], \"y\": [-0.3601719829829286], \"type\": \"scatter\", \"uid\": \"6a554e36-9962-471e-8c61-7d14884cc18c\"}, {\"hoverinfo\": \"text\", \"marker\": {\"color\": \"green\", \"size\": 0.5}, \"mode\": \"markers\", \"text\": \"MS SQL Server appears with Linux 26 times\", \"x\": [-0.29545322964702087], \"y\": [0.8501219848299094], \"type\": \"scatter\", \"uid\": \"5b78a493-18c3-4393-a57b-5c02c182d7fc\"}, {\"hoverinfo\": \"text\", \"marker\": {\"color\": \"blue\", \"size\": 0.5}, \"mode\": \"markers\", \"text\": \"Linux appears with MS SQL Server 26 times\", \"x\": [0.8801425060549174], \"y\": [-0.18801374693189266], \"type\": \"scatter\", \"uid\": \"9dba12c2-1b86-448d-95a1-be9e8612ed13\"}, {\"hoverinfo\": \"text\", \"marker\": {\"color\": \"green\", \"size\": 0.5}, \"mode\": \"markers\", \"text\": \"MS SQL Server appears with AWS 5 times\", \"x\": [-0.25436383113246097], \"y\": [0.8633070377401176], \"type\": \"scatter\", \"uid\": \"e1b799cf-221d-49ca-a1a5-bbf17012cc8c\"}, {\"hoverinfo\": \"text\", \"marker\": {\"color\": \"blue\", \"size\": 0.5}, \"mode\": \"markers\", \"text\": \"AWS appears with MS SQL Server 5 times\", \"x\": [0.8960052327873176], \"y\": [-0.08470314526477095], \"type\": \"scatter\", \"uid\": \"7976ef2a-a7a2-4b42-b105-7c9559eb29d7\"}, {\"hoverinfo\": \"text\", \"marker\": {\"color\": \"green\", \"size\": 0.5}, \"mode\": \"markers\", \"text\": \"PostgreSQL appears with MySQL/MariaDB 35 times\", \"x\": [-0.6075113383252068], \"y\": [0.6640255821926714], \"type\": \"scatter\", \"uid\": \"7e708e8d-ccd8-4394-8ffa-be3e03260d82\"}, {\"hoverinfo\": \"text\", \"marker\": {\"color\": \"blue\", \"size\": 0.5}, \"mode\": \"markers\", \"text\": \"MySQL/MariaDB appears with PostgreSQL 35 times\", \"x\": [-0.6874969997215952], \"y\": [0.5808165591422175], \"type\": \"scatter\", \"uid\": \"3c31033a-4373-4698-ad6b-2507baf244f8\"}, {\"hoverinfo\": \"text\", \"marker\": {\"color\": \"green\", \"size\": 0.5}, \"mode\": \"markers\", \"text\": \"PostgreSQL appears with T-SQL 24 times\", \"x\": [-0.586241062079835], \"y\": [0.6828773075242046], \"type\": \"scatter\", \"uid\": \"21b28b89-ddfc-419f-b681-3bd7a38e176a\"}, {\"hoverinfo\": \"text\", \"marker\": {\"color\": \"blue\", \"size\": 0.5}, \"mode\": \"markers\", \"text\": \"T-SQL appears with PostgreSQL 24 times\", \"x\": [-0.7527960301283182], \"y\": [0.49325260974782914], \"type\": \"scatter\", \"uid\": \"cd62ae9e-bf17-46c1-8ad7-7628fb52eae9\"}, {\"hoverinfo\": \"text\", \"marker\": {\"color\": \"green\", \"size\": 0.5}, \"mode\": \"markers\", \"text\": \"PostgreSQL appears with Pentaho 28 times\", \"x\": [-0.6013975835591531], \"y\": [0.6695677310692412], \"type\": \"scatter\", \"uid\": \"002332d5-5cf5-4f4c-8b3e-cbf7188dcae2\"}, {\"hoverinfo\": \"text\", \"marker\": {\"color\": \"blue\", \"size\": 0.5}, \"mode\": \"markers\", \"text\": \"Pentaho appears with PostgreSQL 28 times\", \"x\": [-0.8919598852795864], \"y\": [0.12003150858015262], \"type\": \"scatter\", \"uid\": \"b6d91d38-2d51-47a3-b858-da7ff2617e63\"}, {\"hoverinfo\": \"text\", \"marker\": {\"color\": \"green\", \"size\": 0.5}, \"mode\": \"markers\", \"text\": \"PostgreSQL appears with Hadoop 3 times\", \"x\": [-0.5692696543786688], \"y\": [0.6970882731789361], \"type\": \"scatter\", \"uid\": \"928222aa-22e5-4484-bca4-6482ff643e31\"}, {\"hoverinfo\": \"text\", \"marker\": {\"color\": \"blue\", \"size\": 0.5}, \"mode\": \"markers\", \"text\": \"Hadoop appears with PostgreSQL 3 times\", \"x\": [-0.8979883960483819], \"y\": [0.060140174280212795], \"type\": \"scatter\", \"uid\": \"9d47bb68-21f2-4fa8-adb0-1b0d6a463e6d\"}, {\"hoverinfo\": \"text\", \"marker\": {\"color\": \"green\", \"size\": 0.5}, \"mode\": \"markers\", \"text\": \"PostgreSQL appears with Spark 5 times\", \"x\": [-0.5700808809379819], \"y\": [0.696425006148526], \"type\": \"scatter\", \"uid\": \"4ae9cf75-b4a9-4224-b603-52214c586a3c\"}, {\"hoverinfo\": \"text\", \"marker\": {\"color\": \"blue\", \"size\": 0.5}, \"mode\": \"markers\", \"text\": \"Spark appears with PostgreSQL 5 times\", \"x\": [-0.8928044589219393], \"y\": [-0.11357903912739907], \"type\": \"scatter\", \"uid\": \"5f856c30-0e87-4652-a9d6-6fed82fdc37b\"}, {\"hoverinfo\": \"text\", \"marker\": {\"color\": \"green\", \"size\": 0.5}, \"mode\": \"markers\", \"text\": \"PostgreSQL appears with Qlik 6 times\", \"x\": [-0.5722066710613868], \"y\": [0.6946794408882747], \"type\": \"scatter\", \"uid\": \"9c21ad97-9a38-425a-8ae5-4535b5cc7812\"}, {\"hoverinfo\": \"text\", \"marker\": {\"color\": \"blue\", \"size\": 0.5}, \"mode\": \"markers\", \"text\": \"Qlik appears with PostgreSQL 6 times\", \"x\": [-0.7787313373515334], \"y\": [-0.45119563852800304], \"type\": \"scatter\", \"uid\": \"3e880685-3f78-4457-94cf-466b96b26d5e\"}, {\"hoverinfo\": \"text\", \"marker\": {\"color\": \"green\", \"size\": 0.5}, \"mode\": \"markers\", \"text\": \"PostgreSQL appears with Tableau 5 times\", \"x\": [-0.5710938272801113], \"y\": [0.6955945948917045], \"type\": \"scatter\", \"uid\": \"83e089ce-51fc-4674-ac41-4de4459607e6\"}, {\"hoverinfo\": \"text\", \"marker\": {\"color\": \"blue\", \"size\": 0.5}, \"mode\": \"markers\", \"text\": \"Tableau appears with PostgreSQL 5 times\", \"x\": [-0.5178293258688794], \"y\": [-0.7361065067435432], \"type\": \"scatter\", \"uid\": \"75e9da6a-6070-490d-a6d7-fe06690cc68f\"}, {\"hoverinfo\": \"text\", \"marker\": {\"color\": \"green\", \"size\": 0.5}, \"mode\": \"markers\", \"text\": \"PostgreSQL appears with Oracle BI 12 times\", \"x\": [-0.5762409924531368], \"y\": [0.6913366174423454], \"type\": \"scatter\", \"uid\": \"40124384-3d53-452f-8978-3d20e4b5409d\"}, {\"hoverinfo\": \"text\", \"marker\": {\"color\": \"blue\", \"size\": 0.5}, \"mode\": \"markers\", \"text\": \"Oracle BI appears with PostgreSQL 12 times\", \"x\": [0.013274250272925866], \"y\": [-0.8999021026087737], \"type\": \"scatter\", \"uid\": \"d60b9b6f-2e28-4937-a015-7eff9634b6f5\"}, {\"hoverinfo\": \"text\", \"marker\": {\"color\": \"green\", \"size\": 0.5}, \"mode\": \"markers\", \"text\": \"PostgreSQL appears with Python 12 times\", \"x\": [-0.5786522204162969], \"y\": [0.6893196702599523], \"type\": \"scatter\", \"uid\": \"b04c17fa-5ca1-4c56-b19f-5c70ebe4438b\"}, {\"hoverinfo\": \"text\", \"marker\": {\"color\": \"blue\", \"size\": 0.5}, \"mode\": \"markers\", \"text\": \"Python appears with PostgreSQL 12 times\", \"x\": [0.5719558767050631], \"y\": [-0.6948859439523459], \"type\": \"scatter\", \"uid\": \"d4d35249-8211-4ae0-8fe4-1094736f2136\"}, {\"hoverinfo\": \"text\", \"marker\": {\"color\": \"green\", \"size\": 0.5}, \"mode\": \"markers\", \"text\": \"PostgreSQL appears with Linux 20 times\", \"x\": [-0.5818562043215928], \"y\": [0.6866173297350343], \"type\": \"scatter\", \"uid\": \"b22daf3c-e91c-4a78-9294-042826730808\"}, {\"hoverinfo\": \"text\", \"marker\": {\"color\": \"blue\", \"size\": 0.5}, \"mode\": \"markers\", \"text\": \"Linux appears with PostgreSQL 20 times\", \"x\": [0.876857253636592], \"y\": [-0.20278401501324875], \"type\": \"scatter\", \"uid\": \"ab39274c-4d55-4c90-bd07-674e8190ca5a\"}, {\"hoverinfo\": \"text\", \"marker\": {\"color\": \"green\", \"size\": 0.5}, \"mode\": \"markers\", \"text\": \"MySQL/MariaDB appears with T-SQL 29 times\", \"x\": [-0.6674307075377423], \"y\": [0.6037683749880154], \"type\": \"scatter\", \"uid\": \"1565ebcc-9285-48d2-b5e4-76ca8faabcd6\"}, {\"hoverinfo\": \"text\", \"marker\": {\"color\": \"blue\", \"size\": 0.5}, \"mode\": \"markers\", \"text\": \"T-SQL appears with MySQL/MariaDB 29 times\", \"x\": [-0.7681388467088264], \"y\": [0.46900182534488505], \"type\": \"scatter\", \"uid\": \"16528b7e-8c3d-4c5c-ad18-43ad43098767\"}, {\"hoverinfo\": \"text\", \"marker\": {\"color\": \"green\", \"size\": 0.5}, \"mode\": \"markers\", \"text\": \"MySQL/MariaDB appears with Pentaho 41 times\", \"x\": [-0.6953038909447967], \"y\": [0.5714477222257749], \"type\": \"scatter\", \"uid\": \"84d1d2ca-823a-4da0-aacd-0bfc0761348e\"}, {\"hoverinfo\": \"text\", \"marker\": {\"color\": \"blue\", \"size\": 0.5}, \"mode\": \"markers\", \"text\": \"Pentaho appears with MySQL/MariaDB 41 times\", \"x\": [-0.8933393979645071], \"y\": [0.10929190292245841], \"type\": \"scatter\", \"uid\": \"622a6c78-ff6a-4780-a2ec-7c778f88ba8b\"}, {\"hoverinfo\": \"text\", \"marker\": {\"color\": \"green\", \"size\": 0.5}, \"mode\": \"markers\", \"text\": \"MySQL/MariaDB appears with Hadoop 3 times\", \"x\": [-0.6321444953048033], \"y\": [0.6406194947516315], \"type\": \"scatter\", \"uid\": \"8149fee6-a3f0-4d97-a150-ca3865dfa20b\"}, {\"hoverinfo\": \"text\", \"marker\": {\"color\": \"blue\", \"size\": 0.5}, \"mode\": \"markers\", \"text\": \"Hadoop appears with MySQL/MariaDB 3 times\", \"x\": [-0.8980541026228324], \"y\": [0.05915089823746787], \"type\": \"scatter\", \"uid\": \"f3e0dba4-5375-475b-a2b9-09051dcde109\"}, {\"hoverinfo\": \"text\", \"marker\": {\"color\": \"green\", \"size\": 0.5}, \"mode\": \"markers\", \"text\": \"MySQL/MariaDB appears with Spark 18 times\", \"x\": [-0.6379434182626472], \"y\": [0.6348450165948923], \"type\": \"scatter\", \"uid\": \"6c0480f3-a679-4592-8871-98cc027bd5d0\"}, {\"hoverinfo\": \"text\", \"marker\": {\"color\": \"blue\", \"size\": 0.5}, \"mode\": \"markers\", \"text\": \"Spark appears with MySQL/MariaDB 18 times\", \"x\": [-0.8887819950946889], \"y\": [-0.14165650424708529], \"type\": \"scatter\", \"uid\": \"9fe9bf99-64c4-49a8-82df-83f1e0302dc9\"}, {\"hoverinfo\": \"text\", \"marker\": {\"color\": \"green\", \"size\": 0.5}, \"mode\": \"markers\", \"text\": \"MySQL/MariaDB appears with Informatica 1 times\", \"x\": [-0.6316874611253043], \"y\": [0.6410701611033438], \"type\": \"scatter\", \"uid\": \"68a7a581-a80e-4d1f-97e5-8710d59d1305\"}, {\"hoverinfo\": \"text\", \"marker\": {\"color\": \"blue\", \"size\": 0.5}, \"mode\": \"markers\", \"text\": \"Informatica appears with MySQL/MariaDB 1 times\", \"x\": [-0.8510330505621563], \"y\": [-0.2928186244945333], \"type\": \"scatter\", \"uid\": \"cf006c6b-044c-44c8-9ce2-9872b0250915\"}, {\"hoverinfo\": \"text\", \"marker\": {\"color\": \"green\", \"size\": 0.5}, \"mode\": \"markers\", \"text\": \"MySQL/MariaDB appears with Qlik 10 times\", \"x\": [-0.6347661952079592], \"y\": [0.6380218471347286], \"type\": \"scatter\", \"uid\": \"5d588cb7-f0ec-4c86-a227-1f61b9cc9dc6\"}, {\"hoverinfo\": \"text\", \"marker\": {\"color\": \"blue\", \"size\": 0.5}, \"mode\": \"markers\", \"text\": \"Qlik appears with MySQL/MariaDB 10 times\", \"x\": [-0.7742815233982885], \"y\": [-0.45878984570718834], \"type\": \"scatter\", \"uid\": \"373872fb-7f38-4957-8c2f-dcae195f038a\"}, {\"hoverinfo\": \"text\", \"marker\": {\"color\": \"green\", \"size\": 0.5}, \"mode\": \"markers\", \"text\": \"MySQL/MariaDB appears with Tableau 26 times\", \"x\": [-0.6429040446099468], \"y\": [0.6298209185349211], \"type\": \"scatter\", \"uid\": \"1d698500-5d60-41ec-b909-3541b84e4825\"}, {\"hoverinfo\": \"text\", \"marker\": {\"color\": \"blue\", \"size\": 0.5}, \"mode\": \"markers\", \"text\": \"Tableau appears with MySQL/MariaDB 26 times\", \"x\": [-0.4873889573840317], \"y\": [-0.7566055803522114], \"type\": \"scatter\", \"uid\": \"ee82353e-8015-4ce2-87df-fd5cd2b14138\"}, {\"hoverinfo\": \"text\", \"marker\": {\"color\": \"green\", \"size\": 0.5}, \"mode\": \"markers\", \"text\": \"MySQL/MariaDB appears with Oracle BI 30 times\", \"x\": [-0.6737448977558478], \"y\": [0.5967141801130272], \"type\": \"scatter\", \"uid\": \"d456f375-a081-4515-b4f0-5d1fbd2075ba\"}, {\"hoverinfo\": \"text\", \"marker\": {\"color\": \"blue\", \"size\": 0.5}, \"mode\": \"markers\", \"text\": \"Oracle BI appears with MySQL/MariaDB 30 times\", \"x\": [0.05845176739778055], \"y\": [-0.8980998780136181], \"type\": \"scatter\", \"uid\": \"ae3ce28f-10af-4b35-b466-9c3a25ea2cda\"}, {\"hoverinfo\": \"text\", \"marker\": {\"color\": \"green\", \"size\": 0.5}, \"mode\": \"markers\", \"text\": \"MySQL/MariaDB appears with Python 29 times\", \"x\": [-0.6611515460251737], \"y\": [0.6106378903970197], \"type\": \"scatter\", \"uid\": \"54551824-cb0c-48ab-b235-fc1ce3f3d308\"}, {\"hoverinfo\": \"text\", \"marker\": {\"color\": \"blue\", \"size\": 0.5}, \"mode\": \"markers\", \"text\": \"Python appears with MySQL/MariaDB 29 times\", \"x\": [0.5941769747314318], \"y\": [-0.675983522505544], \"type\": \"scatter\", \"uid\": \"529d107f-aab2-4c2b-8f91-ae0dc35bf219\"}, {\"hoverinfo\": \"text\", \"marker\": {\"color\": \"green\", \"size\": 0.5}, \"mode\": \"markers\", \"text\": \"MySQL/MariaDB appears with VBA 1 times\", \"x\": [-0.631458823538217], \"y\": [0.6412953720211388], \"type\": \"scatter\", \"uid\": \"a8e1e3c1-e57c-4d40-ae2e-d020e41c68d5\"}, {\"hoverinfo\": \"text\", \"marker\": {\"color\": \"blue\", \"size\": 0.5}, \"mode\": \"markers\", \"text\": \"VBA appears with MySQL/MariaDB 1 times\", \"x\": [0.8100356997842955], \"y\": [-0.3922271855378803], \"type\": \"scatter\", \"uid\": \"1c257eee-18eb-4e47-98d6-f9df9e5013c3\"}, {\"hoverinfo\": \"text\", \"marker\": {\"color\": \"green\", \"size\": 0.5}, \"mode\": \"markers\", \"text\": \"MySQL/MariaDB appears with Linux 27 times\", \"x\": [-0.6488267839575381], \"y\": [0.6237177281585944], \"type\": \"scatter\", \"uid\": \"122fdd3b-f562-4ca9-a64d-a9e203bc293d\"}, {\"hoverinfo\": \"text\", \"marker\": {\"color\": \"blue\", \"size\": 0.5}, \"mode\": \"markers\", \"text\": \"Linux appears with MySQL/MariaDB 27 times\", \"x\": [0.8818497084288766], \"y\": [-0.179836291509543], \"type\": \"scatter\", \"uid\": \"bf9c4b98-27a1-46a7-881a-1910ccf7ae4b\"}, {\"hoverinfo\": \"text\", \"marker\": {\"color\": \"green\", \"size\": 0.5}, \"mode\": \"markers\", \"text\": \"T-SQL appears with PL/SQL 17 times\", \"x\": [-0.7409628815461139], \"y\": [0.5108561521317714], \"type\": \"scatter\", \"uid\": \"583a17f8-1a4a-4f05-9873-083fcb4b9bee\"}, {\"hoverinfo\": \"text\", \"marker\": {\"color\": \"blue\", \"size\": 0.5}, \"mode\": \"markers\", \"text\": \"PL/SQL appears with T-SQL 17 times\", \"x\": [-0.8638242279047695], \"y\": [0.2526018671441856], \"type\": \"scatter\", \"uid\": \"80affe3d-eeb8-447d-95fb-044e81fd39b7\"}, {\"hoverinfo\": \"text\", \"marker\": {\"color\": \"green\", \"size\": 0.5}, \"mode\": \"markers\", \"text\": \"T-SQL appears with Pentaho 26 times\", \"x\": [-0.7576435598442837], \"y\": [0.48577385296707903], \"type\": \"scatter\", \"uid\": \"e005380d-c231-4601-b8e9-175b14fd4d77\"}, {\"hoverinfo\": \"text\", \"marker\": {\"color\": \"blue\", \"size\": 0.5}, \"mode\": \"markers\", \"text\": \"Pentaho appears with T-SQL 26 times\", \"x\": [-0.8895415429559854], \"y\": [0.13680586009190082], \"type\": \"scatter\", \"uid\": \"50d6552d-6bab-404b-b44d-74a6af7671f3\"}, {\"hoverinfo\": \"text\", \"marker\": {\"color\": \"green\", \"size\": 0.5}, \"mode\": \"markers\", \"text\": \"T-SQL appears with Hadoop 14 times\", \"x\": [-0.7378124537492368], \"y\": [0.5153957538557439], \"type\": \"scatter\", \"uid\": \"7df4f413-ed94-4d6d-bf96-ddabc413fd59\"}, {\"hoverinfo\": \"text\", \"marker\": {\"color\": \"blue\", \"size\": 0.5}, \"mode\": \"markers\", \"text\": \"Hadoop appears with T-SQL 14 times\", \"x\": [-0.8988843392286733], \"y\": [0.04479893625334735], \"type\": \"scatter\", \"uid\": \"0f0062fb-d91c-404d-8f18-c76df308dddf\"}, {\"hoverinfo\": \"text\", \"marker\": {\"color\": \"green\", \"size\": 0.5}, \"mode\": \"markers\", \"text\": \"T-SQL appears with Spark 14 times\", \"x\": [-0.7349429976984002], \"y\": [0.5194793452429937], \"type\": \"scatter\", \"uid\": \"56b0c910-230d-4760-af95-bd60ae355994\"}, {\"hoverinfo\": \"text\", \"marker\": {\"color\": \"blue\", \"size\": 0.5}, \"mode\": \"markers\", \"text\": \"Spark appears with T-SQL 14 times\", \"x\": [-0.8918649582521988], \"y\": [-0.12073481785219953], \"type\": \"scatter\", \"uid\": \"ae529f8f-32e8-41ba-a612-1fb9a98e1bf9\"}, {\"hoverinfo\": \"text\", \"marker\": {\"color\": \"green\", \"size\": 0.5}, \"mode\": \"markers\", \"text\": \"T-SQL appears with Informatica 9 times\", \"x\": [-0.7325690328232634], \"y\": [0.5228217785712341], \"type\": \"scatter\", \"uid\": \"fa28ba5c-1200-48ea-a39e-aae53722c184\"}, {\"hoverinfo\": \"text\", \"marker\": {\"color\": \"blue\", \"size\": 0.5}, \"mode\": \"markers\", \"text\": \"Informatica appears with T-SQL 9 times\", \"x\": [-0.8478680896252837], \"y\": [-0.30186040249620666], \"type\": \"scatter\", \"uid\": \"377f5f20-2909-43ac-b581-4b37b810bf82\"}, {\"hoverinfo\": \"text\", \"marker\": {\"color\": \"green\", \"size\": 0.5}, \"mode\": \"markers\", \"text\": \"T-SQL appears with Qlik 38 times\", \"x\": [-0.7742944963297588], \"y\": [0.4587679510966794], \"type\": \"scatter\", \"uid\": \"2f669fb3-c494-459f-bace-a8203149be6c\"}, {\"hoverinfo\": \"text\", \"marker\": {\"color\": \"blue\", \"size\": 0.5}, \"mode\": \"markers\", \"text\": \"Qlik appears with T-SQL 38 times\", \"x\": [-0.7468623975242179], \"y\": [-0.5021917553727632], \"type\": \"scatter\", \"uid\": \"bf7073d0-d958-4f8c-b2a9-7d88b7e661c3\"}, {\"hoverinfo\": \"text\", \"marker\": {\"color\": \"green\", \"size\": 0.5}, \"mode\": \"markers\", \"text\": \"T-SQL appears with Tableau 52 times\", \"x\": [-0.7891276914946281], \"y\": [0.43275568917850055], \"type\": \"scatter\", \"uid\": \"0c3533eb-a1b7-4546-8a85-176f0c7f87f0\"}, {\"hoverinfo\": \"text\", \"marker\": {\"color\": \"blue\", \"size\": 0.5}, \"mode\": \"markers\", \"text\": \"Tableau appears with T-SQL 52 times\", \"x\": [-0.4165511857992351], \"y\": [-0.7978001689704328], \"type\": \"scatter\", \"uid\": \"969ce55d-ff00-4a93-9351-9b9866b52b31\"}, {\"hoverinfo\": \"text\", \"marker\": {\"color\": \"green\", \"size\": 0.5}, \"mode\": \"markers\", \"text\": \"T-SQL appears with Microstrategy 6 times\", \"x\": [-0.7310126022662419], \"y\": [0.524995786009695], \"type\": \"scatter\", \"uid\": \"5db402fa-badd-48c8-b16f-b000deca712f\"}, {\"hoverinfo\": \"text\", \"marker\": {\"color\": \"blue\", \"size\": 0.5}, \"mode\": \"markers\", \"text\": \"Microstrategy appears with T-SQL 6 times\", \"x\": [-0.05775591291047511], \"y\": [-0.898144896174263], \"type\": \"scatter\", \"uid\": \"2451cb31-b823-43bc-b18e-c906c9d19f27\"}, {\"hoverinfo\": \"text\", \"marker\": {\"color\": \"green\", \"size\": 0.5}, \"mode\": \"markers\", \"text\": \"T-SQL appears with Oracle BI 68 times\", \"x\": [-0.799188920041414], \"y\": [0.41388050217790934], \"type\": \"scatter\", \"uid\": \"6e469e40-c5a1-4d74-bd96-29821b92f751\"}, {\"hoverinfo\": \"text\", \"marker\": {\"color\": \"blue\", \"size\": 0.5}, \"mode\": \"markers\", \"text\": \"Oracle BI appears with T-SQL 68 times\", \"x\": [0.1512231300190121], \"y\": [-0.8872043535439019], \"type\": \"scatter\", \"uid\": \"0a5857c0-3440-434f-99df-02eb06b82def\"}, {\"hoverinfo\": \"text\", \"marker\": {\"color\": \"green\", \"size\": 0.5}, \"mode\": \"markers\", \"text\": \"T-SQL appears with Python 39 times\", \"x\": [-0.781200455157026], \"y\": [0.4469069801003957], \"type\": \"scatter\", \"uid\": \"f5417f01-87f0-40d6-83ef-76cd2297ae85\"}, {\"hoverinfo\": \"text\", \"marker\": {\"color\": \"blue\", \"size\": 0.5}, \"mode\": \"markers\", \"text\": \"Python appears with T-SQL 39 times\", \"x\": [0.6124203363341235], \"y\": [-0.6595008200483143], \"type\": \"scatter\", \"uid\": \"47ba25fc-2f0b-4933-990a-f2f2b5243740\"}, {\"hoverinfo\": \"text\", \"marker\": {\"color\": \"green\", \"size\": 0.5}, \"mode\": \"markers\", \"text\": \"T-SQL appears with VBA 21 times\", \"x\": [-0.7483701229001583], \"y\": [0.49994215580445117], \"type\": \"scatter\", \"uid\": \"f35fc105-cbe6-4707-aaf7-cefb15c6327b\"}, {\"hoverinfo\": \"text\", \"marker\": {\"color\": \"blue\", \"size\": 0.5}, \"mode\": \"markers\", \"text\": \"VBA appears with T-SQL 21 times\", \"x\": [0.8182637740797749], \"y\": [-0.37475911733902234], \"type\": \"scatter\", \"uid\": \"812cdc90-4f4e-4878-a75c-ceb9380fe316\"}, {\"hoverinfo\": \"text\", \"marker\": {\"color\": \"green\", \"size\": 0.5}, \"mode\": \"markers\", \"text\": \"T-SQL appears with Linux 18 times\", \"x\": [-0.7444862407768585], \"y\": [0.5057076599122673], \"type\": \"scatter\", \"uid\": \"f40d5972-0669-43d3-9266-5ac66f8554b3\"}, {\"hoverinfo\": \"text\", \"marker\": {\"color\": \"blue\", \"size\": 0.5}, \"mode\": \"markers\", \"text\": \"Linux appears with T-SQL 18 times\", \"x\": [0.8754883160918173], \"y\": [-0.20861497641999308], \"type\": \"scatter\", \"uid\": \"0daf09c2-37b1-443c-bb90-d4a116da79a8\"}, {\"hoverinfo\": \"text\", \"marker\": {\"color\": \"green\", \"size\": 0.5}, \"mode\": \"markers\", \"text\": \"T-SQL appears with AWS 6 times\", \"x\": [-0.7297628119580211], \"y\": [0.5267316568074506], \"type\": \"scatter\", \"uid\": \"fef9e49d-2160-4b8a-bb9a-52227c5713a1\"}, {\"hoverinfo\": \"text\", \"marker\": {\"color\": \"blue\", \"size\": 0.5}, \"mode\": \"markers\", \"text\": \"AWS appears with T-SQL 6 times\", \"x\": [0.8961424489781434], \"y\": [-0.08323887997477963], \"type\": \"scatter\", \"uid\": \"35b0ef74-9aad-42d4-bafc-d370a630bcf7\"}, {\"hoverinfo\": \"text\", \"marker\": {\"color\": \"green\", \"size\": 0.5}, \"mode\": \"markers\", \"text\": \"PL/SQL appears with Pentaho 6 times\", \"x\": [-0.8593025389304807], \"y\": [0.2675801685245558], \"type\": \"scatter\", \"uid\": \"04787052-ed94-4b4c-8aa6-31a78e1f8b7c\"}, {\"hoverinfo\": \"text\", \"marker\": {\"color\": \"blue\", \"size\": 0.5}, \"mode\": \"markers\", \"text\": \"Pentaho appears with PL/SQL 6 times\", \"x\": [-0.878938784536677], \"y\": [0.19356294334709045], \"type\": \"scatter\", \"uid\": \"2517e642-d6d2-45ad-96d3-7aba2bf45afd\"}, {\"hoverinfo\": \"text\", \"marker\": {\"color\": \"green\", \"size\": 0.5}, \"mode\": \"markers\", \"text\": \"PL/SQL appears with Hadoop 3 times\", \"x\": [-0.8585924705051444], \"y\": [0.26984990196750597], \"type\": \"scatter\", \"uid\": \"a4141e71-c32f-4a13-9804-89d82cb5a63e\"}, {\"hoverinfo\": \"text\", \"marker\": {\"color\": \"blue\", \"size\": 0.5}, \"mode\": \"markers\", \"text\": \"Hadoop appears with PL/SQL 3 times\", \"x\": [-0.8981187193538118], \"y\": [0.05816155041149736], \"type\": \"scatter\", \"uid\": \"e262ae7c-03bf-4ec1-bdfd-f20a14eddb12\"}, {\"hoverinfo\": \"text\", \"marker\": {\"color\": \"green\", \"size\": 0.5}, \"mode\": \"markers\", \"text\": \"PL/SQL appears with Informatica 12 times\", \"x\": [-0.861794637310323], \"y\": [0.2594417142696387], \"type\": \"scatter\", \"uid\": \"a72f6568-a5b5-4817-bdf9-3e37f7f1e426\"}, {\"hoverinfo\": \"text\", \"marker\": {\"color\": \"blue\", \"size\": 0.5}, \"mode\": \"markers\", \"text\": \"Informatica appears with PL/SQL 12 times\", \"x\": [-0.8454596241896898], \"y\": [-0.30854177004909505], \"type\": \"scatter\", \"uid\": \"091c0fb2-e331-458c-9565-fcf0c509480d\"}, {\"hoverinfo\": \"text\", \"marker\": {\"color\": \"green\", \"size\": 0.5}, \"mode\": \"markers\", \"text\": \"PL/SQL appears with Qlik 8 times\", \"x\": [-0.8602644873048323], \"y\": [0.2644711929155122], \"type\": \"scatter\", \"uid\": \"3bec3255-fcf0-42ee-a872-717ab651d2ce\"}, {\"hoverinfo\": \"text\", \"marker\": {\"color\": \"blue\", \"size\": 0.5}, \"mode\": \"markers\", \"text\": \"Qlik appears with PL/SQL 8 times\", \"x\": [-0.7774411500540344], \"y\": [-0.453415105838635], \"type\": \"scatter\", \"uid\": \"9b644ae3-302a-45ac-bf4b-421549540636\"}, {\"hoverinfo\": \"text\", \"marker\": {\"color\": \"green\", \"size\": 0.5}, \"mode\": \"markers\", \"text\": \"PL/SQL appears with Tableau 11 times\", \"x\": [-0.8609603369001041], \"y\": [0.262197060023295], \"type\": \"scatter\", \"uid\": \"c8542567-34ae-484b-877a-372cb2f50696\"}, {\"hoverinfo\": \"text\", \"marker\": {\"color\": \"blue\", \"size\": 0.5}, \"mode\": \"markers\", \"text\": \"Tableau appears with PL/SQL 11 times\", \"x\": [-0.5129419516136154], \"y\": [-0.7395204894219061], \"type\": \"scatter\", \"uid\": \"ff4f5ef2-9a63-4a45-a43e-a98922db7c1c\"}, {\"hoverinfo\": \"text\", \"marker\": {\"color\": \"green\", \"size\": 0.5}, \"mode\": \"markers\", \"text\": \"PL/SQL appears with Microstrategy 14 times\", \"x\": [-0.8627271408525977], \"y\": [0.2563237804736465], \"type\": \"scatter\", \"uid\": \"d76d055e-27a5-422d-9a9b-5bdf8bed668a\"}, {\"hoverinfo\": \"text\", \"marker\": {\"color\": \"blue\", \"size\": 0.5}, \"mode\": \"markers\", \"text\": \"Microstrategy appears with PL/SQL 14 times\", \"x\": [-0.043061777947845596], \"y\": [-0.8989692337783148], \"type\": \"scatter\", \"uid\": \"0f3af26d-3184-49fd-bc45-cd55eeae7bcd\"}, {\"hoverinfo\": \"text\", \"marker\": {\"color\": \"green\", \"size\": 0.5}, \"mode\": \"markers\", \"text\": \"PL/SQL appears with Oracle BI 53 times\", \"x\": [-0.8698122328110759], \"y\": [0.2311421200305362], \"type\": \"scatter\", \"uid\": \"a72ff934-ebb8-414b-acc7-5ba18df84cdc\"}, {\"hoverinfo\": \"text\", \"marker\": {\"color\": \"blue\", \"size\": 0.5}, \"mode\": \"markers\", \"text\": \"Oracle BI appears with PL/SQL 53 times\", \"x\": [0.10516601754680992], \"y\": [-0.893834497406172], \"type\": \"scatter\", \"uid\": \"5dffa145-69cf-4066-ba78-b3c189b5b65f\"}, {\"hoverinfo\": \"text\", \"marker\": {\"color\": \"green\", \"size\": 0.5}, \"mode\": \"markers\", \"text\": \"PL/SQL appears with Python 2 times\", \"x\": [-0.8581786377563535], \"y\": [0.27116309796624133], \"type\": \"scatter\", \"uid\": \"bccbaa41-1cf4-419e-a420-952f47e628a6\"}, {\"hoverinfo\": \"text\", \"marker\": {\"color\": \"blue\", \"size\": 0.5}, \"mode\": \"markers\", \"text\": \"Python appears with PL/SQL 2 times\", \"x\": [0.5674102981464234], \"y\": [-0.6986025719659117], \"type\": \"scatter\", \"uid\": \"1480b103-0dd3-4a07-a598-a5cd5de55c0e\"}, {\"hoverinfo\": \"text\", \"marker\": {\"color\": \"green\", \"size\": 0.5}, \"mode\": \"markers\", \"text\": \"PL/SQL appears with VBA 5 times\", \"x\": [-0.8588921776868417], \"y\": [0.2688944534726494], \"type\": \"scatter\", \"uid\": \"fa2709a5-a4bf-46d0-8d32-65e374671051\"}, {\"hoverinfo\": \"text\", \"marker\": {\"color\": \"blue\", \"size\": 0.5}, \"mode\": \"markers\", \"text\": \"VBA appears with PL/SQL 5 times\", \"x\": [0.8110486040698938], \"y\": [-0.39012839147680184], \"type\": \"scatter\", \"uid\": \"ef64ca78-8f52-423f-bcf1-34c093418867\"}, {\"hoverinfo\": \"text\", \"marker\": {\"color\": \"green\", \"size\": 0.5}, \"mode\": \"markers\", \"text\": \"PL/SQL appears with Linux 1 times\", \"x\": [-0.8580654256559751], \"y\": [0.2715211323153875], \"type\": \"scatter\", \"uid\": \"52584168-d238-4455-959d-a7bf2e6b8c1f\"}, {\"hoverinfo\": \"text\", \"marker\": {\"color\": \"blue\", \"size\": 0.5}, \"mode\": \"markers\", \"text\": \"Linux appears with PL/SQL 1 times\", \"x\": [0.8715829675545852], \"y\": [-0.22437274938981122], \"type\": \"scatter\", \"uid\": \"243eb2a9-7b8f-4e40-9300-03bcb4857d9e\"}, {\"hoverinfo\": \"text\", \"marker\": {\"color\": \"green\", \"size\": 0.5}, \"mode\": \"markers\", \"text\": \"Pentaho appears with Spark 6 times\", \"x\": [-0.8785318595524798], \"y\": [0.19540156537566916], \"type\": \"scatter\", \"uid\": \"bd51d9a2-19ca-403b-a003-216e317a5916\"}, {\"hoverinfo\": \"text\", \"marker\": {\"color\": \"blue\", \"size\": 0.5}, \"mode\": \"markers\", \"text\": \"Spark appears with Pentaho 6 times\", \"x\": [-0.892309073198355], \"y\": [-0.11740748650700628], \"type\": \"scatter\", \"uid\": \"6a3f7c62-ff7f-4e07-9a80-f815d98a3557\"}, {\"hoverinfo\": \"text\", \"marker\": {\"color\": \"green\", \"size\": 0.5}, \"mode\": \"markers\", \"text\": \"Pentaho appears with Informatica 20 times\", \"x\": [-0.8831001341350672], \"y\": [0.17359191539535013], \"type\": \"scatter\", \"uid\": \"c631d003-6e6a-4b7a-a0be-01214d72f82e\"}, {\"hoverinfo\": \"text\", \"marker\": {\"color\": \"blue\", \"size\": 0.5}, \"mode\": \"markers\", \"text\": \"Informatica appears with Pentaho 20 times\", \"x\": [-0.8418943078394852], \"y\": [-0.3181414377717468], \"type\": \"scatter\", \"uid\": \"23608d56-046f-4f83-9b43-ca2c56113337\"}, {\"hoverinfo\": \"text\", \"marker\": {\"color\": \"green\", \"size\": 0.5}, \"mode\": \"markers\", \"text\": \"Pentaho appears with Qlik 16 times\", \"x\": [-0.8808513119633913], \"y\": [0.18466446927433625], \"type\": \"scatter\", \"uid\": \"f83c4915-8353-48b5-a3f7-a371df8ec8e4\"}, {\"hoverinfo\": \"text\", \"marker\": {\"color\": \"blue\", \"size\": 0.5}, \"mode\": \"markers\", \"text\": \"Qlik appears with Pentaho 16 times\", \"x\": [-0.7691869834938948], \"y\": [-0.4672808410619495], \"type\": \"scatter\", \"uid\": \"c05e2885-4f24-49bb-bd63-cbc132770dee\"}, {\"hoverinfo\": \"text\", \"marker\": {\"color\": \"green\", \"size\": 0.5}, \"mode\": \"markers\", \"text\": \"Pentaho appears with Tableau 23 times\", \"x\": [-0.8843768210813342], \"y\": [0.16696597957091083], \"type\": \"scatter\", \"uid\": \"bbf29319-f9ea-4288-9e49-a12b403f16fa\"}, {\"hoverinfo\": \"text\", \"marker\": {\"color\": \"blue\", \"size\": 0.5}, \"mode\": \"markers\", \"text\": \"Tableau appears with Pentaho 23 times\", \"x\": [-0.495038129454022], \"y\": [-0.7516230773377458], \"type\": \"scatter\", \"uid\": \"4015b7e6-8e61-461f-8a97-850aeff4f39d\"}, {\"hoverinfo\": \"text\", \"marker\": {\"color\": \"green\", \"size\": 0.5}, \"mode\": \"markers\", \"text\": \"Pentaho appears with Microstrategy 2 times\", \"x\": [-0.878258439371121], \"y\": [0.19662683863959918], \"type\": \"scatter\", \"uid\": \"0877a926-2c5f-4a90-b675-1507c1ab6da1\"}, {\"hoverinfo\": \"text\", \"marker\": {\"color\": \"blue\", \"size\": 0.5}, \"mode\": \"markers\", \"text\": \"Microstrategy appears with Pentaho 2 times\", \"x\": [-0.060124591120530174], \"y\": [-0.8979894395495912], \"type\": \"scatter\", \"uid\": \"9831a6c9-2021-42dd-9d8a-c1fb7bd18673\"}, {\"hoverinfo\": \"text\", \"marker\": {\"color\": \"green\", \"size\": 0.5}, \"mode\": \"markers\", \"text\": \"Pentaho appears with Oracle BI 25 times\", \"x\": [-0.8882898443233966], \"y\": [0.14471058175515614], \"type\": \"scatter\", \"uid\": \"de960380-8b7b-4938-8435-b8a2921bf878\"}, {\"hoverinfo\": \"text\", \"marker\": {\"color\": \"blue\", \"size\": 0.5}, \"mode\": \"markers\", \"text\": \"Oracle BI appears with Pentaho 25 times\", \"x\": [0.03719210514859752], \"y\": [-0.8992311979210996], \"type\": \"scatter\", \"uid\": \"9ce56e4b-d4b2-4a77-afad-1b5ec6baf921\"}, {\"hoverinfo\": \"text\", \"marker\": {\"color\": \"green\", \"size\": 0.5}, \"mode\": \"markers\", \"text\": \"Pentaho appears with Python 23 times\", \"x\": [-0.8856875398663331], \"y\": [0.15986738793613478], \"type\": \"scatter\", \"uid\": \"c191327e-7ab1-4417-b447-c70a477d7202\"}, {\"hoverinfo\": \"text\", \"marker\": {\"color\": \"blue\", \"size\": 0.5}, \"mode\": \"markers\", \"text\": \"Python appears with Pentaho 23 times\", \"x\": [0.5869772750508078], \"y\": [-0.6822445885266724], \"type\": \"scatter\", \"uid\": \"3b12dba3-c160-4df0-a4ec-70f534f2ae6b\"}, {\"hoverinfo\": \"text\", \"marker\": {\"color\": \"green\", \"size\": 0.5}, \"mode\": \"markers\", \"text\": \"Pentaho appears with VBA 1 times\", \"x\": [-0.878155466207245], \"y\": [0.19708621760624512], \"type\": \"scatter\", \"uid\": \"ddd67952-e134-4a7b-8b27-d778e3792454\"}, {\"hoverinfo\": \"text\", \"marker\": {\"color\": \"blue\", \"size\": 0.5}, \"mode\": \"markers\", \"text\": \"VBA appears with Pentaho 1 times\", \"x\": [0.8101807330747642], \"y\": [-0.3919275184960067], \"type\": \"scatter\", \"uid\": \"14ca2e6c-21e1-41f5-9f10-df5b35e8b9f9\"}, {\"hoverinfo\": \"text\", \"marker\": {\"color\": \"green\", \"size\": 0.5}, \"mode\": \"markers\", \"text\": \"Pentaho appears with Linux 25 times\", \"x\": [-0.8869944983874161], \"y\": [0.15244920409912335], \"type\": \"scatter\", \"uid\": \"94d1d38a-dfef-4358-bdea-06f160b643e1\"}, {\"hoverinfo\": \"text\", \"marker\": {\"color\": \"blue\", \"size\": 0.5}, \"mode\": \"markers\", \"text\": \"Linux appears with Pentaho 25 times\", \"x\": [0.87842813436865], \"y\": [-0.19586733456503927], \"type\": \"scatter\", \"uid\": \"03bd8690-5ff7-4cb6-83ed-1711941414d6\"}, {\"hoverinfo\": \"text\", \"marker\": {\"color\": \"green\", \"size\": 0.5}, \"mode\": \"markers\", \"text\": \"Pentaho appears with AWS 11 times\", \"x\": [-0.8799721930813506], \"y\": [0.18880926726090125], \"type\": \"scatter\", \"uid\": \"6f3be8db-32ce-4dcb-8a3e-04eb8ea3c001\"}, {\"hoverinfo\": \"text\", \"marker\": {\"color\": \"blue\", \"size\": 0.5}, \"mode\": \"markers\", \"text\": \"AWS appears with Pentaho 11 times\", \"x\": [0.896349803494143], \"y\": [-0.08097548873586086], \"type\": \"scatter\", \"uid\": \"5cb1f4a3-7a1d-4880-ac15-a47392dc02a7\"}, {\"hoverinfo\": \"text\", \"marker\": {\"color\": \"green\", \"size\": 0.5}, \"mode\": \"markers\", \"text\": \"Hadoop appears with Spark 77 times\", \"x\": [-0.8990385438736844], \"y\": [-0.041589621655952716], \"type\": \"scatter\", \"uid\": \"33f29391-b230-461b-a543-3ffc26038496\"}, {\"hoverinfo\": \"text\", \"marker\": {\"color\": \"blue\", \"size\": 0.5}, \"mode\": \"markers\", \"text\": \"Spark appears with Hadoop 77 times\", \"x\": [-0.8721884779502326], \"y\": [-0.2220073398130268], \"type\": \"scatter\", \"uid\": \"d2b0e04b-1cc6-4eae-a0c0-075a42af11eb\"}, {\"hoverinfo\": \"text\", \"marker\": {\"color\": \"green\", \"size\": 0.5}, \"mode\": \"markers\", \"text\": \"Hadoop appears with Informatica 4 times\", \"x\": [-0.8981927279943586], \"y\": [0.05700722215695341], \"type\": \"scatter\", \"uid\": \"0b51b9f2-7d8d-4c9c-ac2b-22295416095d\"}, {\"hoverinfo\": \"text\", \"marker\": {\"color\": \"blue\", \"size\": 0.5}, \"mode\": \"markers\", \"text\": \"Informatica appears with Hadoop 4 times\", \"x\": [-0.8502237555116009], \"y\": [-0.29516023709800326], \"type\": \"scatter\", \"uid\": \"97a58fa6-cd0d-416a-b619-0d535c2f7f38\"}, {\"hoverinfo\": \"text\", \"marker\": {\"color\": \"green\", \"size\": 0.5}, \"mode\": \"markers\", \"text\": \"Hadoop appears with Qlik 8 times\", \"x\": [-0.8984352077201074], \"y\": [0.053048822125731115], \"type\": \"scatter\", \"uid\": \"3a21532a-417d-463f-b8cb-ba3ac4ab0fa7\"}, {\"hoverinfo\": \"text\", \"marker\": {\"color\": \"blue\", \"size\": 0.5}, \"mode\": \"markers\", \"text\": \"Qlik appears with Hadoop 8 times\", \"x\": [-0.7759589051433908], \"y\": [-0.4559471214172431], \"type\": \"scatter\", \"uid\": \"01367056-8d8c-4776-af9e-7393f73fde07\"}, {\"hoverinfo\": \"text\", \"marker\": {\"color\": \"green\", \"size\": 0.5}, \"mode\": \"markers\", \"text\": \"Hadoop appears with Tableau 29 times\", \"x\": [-0.8999586307707304], \"y\": [0.008629188911609074], \"type\": \"scatter\", \"uid\": \"797e4f34-43cd-4748-84d0-fcf0e8cd7fed\"}, {\"hoverinfo\": \"text\", \"marker\": {\"color\": \"blue\", \"size\": 0.5}, \"mode\": \"markers\", \"text\": \"Tableau appears with Hadoop 29 times\", \"x\": [-0.4695591882739211], \"y\": [-0.7677982604223171], \"type\": \"scatter\", \"uid\": \"84040909-d2be-4f61-8a21-25bc9f9298d8\"}, {\"hoverinfo\": \"text\", \"marker\": {\"color\": \"green\", \"size\": 0.5}, \"mode\": \"markers\", \"text\": \"Hadoop appears with Microstrategy 3 times\", \"x\": [-0.8979215997101994], \"y\": [0.06112937733918524], \"type\": \"scatter\", \"uid\": \"b09bfffa-c7cd-486f-a83d-1147204e0cb6\"}, {\"hoverinfo\": \"text\", \"marker\": {\"color\": \"blue\", \"size\": 0.5}, \"mode\": \"markers\", \"text\": \"Microstrategy appears with Hadoop 3 times\", \"x\": [-0.05882186881113535], \"y\": [-0.8980757138179195], \"type\": \"scatter\", \"uid\": \"55102314-b73a-4c70-a19a-ea84ce46d712\"}, {\"hoverinfo\": \"text\", \"marker\": {\"color\": \"green\", \"size\": 0.5}, \"mode\": \"markers\", \"text\": \"Hadoop appears with Oracle BI 23 times\", \"x\": [-0.8996298080353818], \"y\": [0.02581101497853171], \"type\": \"scatter\", \"uid\": \"616e1b3f-e4d7-48cc-b2c5-dd1fc3c49998\"}, {\"hoverinfo\": \"text\", \"marker\": {\"color\": \"blue\", \"size\": 0.5}, \"mode\": \"markers\", \"text\": \"Oracle BI appears with Hadoop 23 times\", \"x\": [0.028154463655221333], \"y\": [-0.8995595178620961], \"type\": \"scatter\", \"uid\": \"ac887a46-b542-46a0-b909-469ea730a0fc\"}, {\"hoverinfo\": \"text\", \"marker\": {\"color\": \"green\", \"size\": 0.5}, \"mode\": \"markers\", \"text\": \"Hadoop appears with Python 85 times\", \"x\": [-0.8974040440245487], \"y\": [-0.06830799198033902], \"type\": \"scatter\", \"uid\": \"49c35fc3-f8de-4d7c-9842-0aad3c86c06d\"}, {\"hoverinfo\": \"text\", \"marker\": {\"color\": \"blue\", \"size\": 0.5}, \"mode\": \"markers\", \"text\": \"Python appears with Hadoop 85 times\", \"x\": [0.7131756400745025], \"y\": [-0.5489813352057825], \"type\": \"scatter\", \"uid\": \"220b4ce2-86e2-4f3d-8f1b-5b02aae82f1d\"}, {\"hoverinfo\": \"text\", \"marker\": {\"color\": \"green\", \"size\": 0.5}, \"mode\": \"markers\", \"text\": \"Hadoop appears with VBA 6 times\", \"x\": [-0.8982958809552918], \"y\": [0.05535801892008291], \"type\": \"scatter\", \"uid\": \"3635b6c9-9f02-47fa-8a84-09f00d501baa\"}, {\"hoverinfo\": \"text\", \"marker\": {\"color\": \"blue\", \"size\": 0.5}, \"mode\": \"markers\", \"text\": \"VBA appears with Hadoop 6 times\", \"x\": [0.8135570590199268], \"y\": [-0.38486999326895743], \"type\": \"scatter\", \"uid\": \"69de219f-ccd1-4690-b8e9-a9539c9e1f17\"}, {\"hoverinfo\": \"text\", \"marker\": {\"color\": \"green\", \"size\": 0.5}, \"mode\": \"markers\", \"text\": \"Hadoop appears with Linux 49 times\", \"x\": [-0.8999899198937522], \"y\": [-0.004259587965689304], \"type\": \"scatter\", \"uid\": \"ba893012-dcca-4a84-8b4f-76c74fbe3a4b\"}, {\"hoverinfo\": \"text\", \"marker\": {\"color\": \"blue\", \"size\": 0.5}, \"mode\": \"markers\", \"text\": \"Linux appears with Hadoop 49 times\", \"x\": [0.8862691598557121], \"y\": [-0.15661090731060334], \"type\": \"scatter\", \"uid\": \"a458cdec-1277-4a74-84b6-82e851aa2d6d\"}, {\"hoverinfo\": \"text\", \"marker\": {\"color\": \"green\", \"size\": 0.5}, \"mode\": \"markers\", \"text\": \"Hadoop appears with AWS 19 times\", \"x\": [-0.8991392706072734], \"y\": [0.03935190023137896], \"type\": \"scatter\", \"uid\": \"8caa9324-7984-4fdd-972f-52c9ac4c6d8e\"}, {\"hoverinfo\": \"text\", \"marker\": {\"color\": \"blue\", \"size\": 0.5}, \"mode\": \"markers\", \"text\": \"AWS appears with Hadoop 19 times\", \"x\": [0.8981603539748944], \"y\": [-0.05751502888543531], \"type\": \"scatter\", \"uid\": \"8ae37829-5a6e-4ec9-a76a-cbd281092ad5\"}, {\"hoverinfo\": \"text\", \"marker\": {\"color\": \"green\", \"size\": 0.5}, \"mode\": \"markers\", \"text\": \"Spark appears with Informatica 4 times\", \"x\": [-0.8929938346921824], \"y\": [-0.11208037830838692], \"type\": \"scatter\", \"uid\": \"330fb5c7-99cd-46bf-b814-cada42b8eda1\"}, {\"hoverinfo\": \"text\", \"marker\": {\"color\": \"blue\", \"size\": 0.5}, \"mode\": \"markers\", \"text\": \"Informatica appears with Spark 4 times\", \"x\": [-0.8497894966541515], \"y\": [-0.2964081837201594], \"type\": \"scatter\", \"uid\": \"53073ca5-8461-4657-a5a9-6f1f2bcf31cb\"}, {\"hoverinfo\": \"text\", \"marker\": {\"color\": \"green\", \"size\": 0.5}, \"mode\": \"markers\", \"text\": \"Spark appears with Qlik 14 times\", \"x\": [-0.8912223545776816], \"y\": [-0.12539024962497375], \"type\": \"scatter\", \"uid\": \"d4aaf17e-407f-40b8-b6d9-b262f56f23f2\"}, {\"hoverinfo\": \"text\", \"marker\": {\"color\": \"blue\", \"size\": 0.5}, \"mode\": \"markers\", \"text\": \"Qlik appears with Spark 14 times\", \"x\": [-0.7720288183504962], \"y\": [-0.46257053909251133], \"type\": \"scatter\", \"uid\": \"a3119c5d-2c21-4241-a696-a5a7dd650a50\"}, {\"hoverinfo\": \"text\", \"marker\": {\"color\": \"green\", \"size\": 0.5}, \"mode\": \"markers\", \"text\": \"Spark appears with Tableau 29 times\", \"x\": [-0.8851172597873406], \"y\": [-0.1629952036918558], \"type\": \"scatter\", \"uid\": \"4fd325c5-d83a-4fc5-af0b-609db3a60b6b\"}, {\"hoverinfo\": \"text\", \"marker\": {\"color\": \"blue\", \"size\": 0.5}, \"mode\": \"markers\", \"text\": \"Tableau appears with Spark 29 times\", \"x\": [-0.47874346040955534], \"y\": [-0.7621054383187963], \"type\": \"scatter\", \"uid\": \"0b162b13-b027-4d37-b3fe-246ae37b111f\"}, {\"hoverinfo\": \"text\", \"marker\": {\"color\": \"green\", \"size\": 0.5}, \"mode\": \"markers\", \"text\": \"Spark appears with Microstrategy 3 times\", \"x\": [-0.8931393877708732], \"y\": [-0.11091453472052144], \"type\": \"scatter\", \"uid\": \"c2d3fa95-e988-409a-948c-2f13038856b8\"}, {\"hoverinfo\": \"text\", \"marker\": {\"color\": \"blue\", \"size\": 0.5}, \"mode\": \"markers\", \"text\": \"Microstrategy appears with Spark 3 times\", \"x\": [-0.059532460136233874], \"y\": [-0.8980288893961751], \"type\": \"scatter\", \"uid\": \"a234c980-dcfd-43d4-9127-932cd1307e32\"}, {\"hoverinfo\": \"text\", \"marker\": {\"color\": \"green\", \"size\": 0.5}, \"mode\": \"markers\", \"text\": \"Spark appears with Oracle BI 22 times\", \"x\": [-0.8866274585160338], \"y\": [-0.1545695629980201], \"type\": \"scatter\", \"uid\": \"cad88916-e5dc-482e-8bb1-0dcd24c0a298\"}, {\"hoverinfo\": \"text\", \"marker\": {\"color\": \"blue\", \"size\": 0.5}, \"mode\": \"markers\", \"text\": \"Oracle BI appears with Spark 22 times\", \"x\": [0.01967907565134691], \"y\": [-0.8997848264899273], \"type\": \"scatter\", \"uid\": \"9b1c27ee-4f53-4bea-8389-10a006d57c20\"}, {\"hoverinfo\": \"text\", \"marker\": {\"color\": \"green\", \"size\": 0.5}, \"mode\": \"markers\", \"text\": \"Spark appears with Python 97 times\", \"x\": [-0.8645265690854543], \"y\": [-0.2501875523389069], \"type\": \"scatter\", \"uid\": \"dcb0aa89-f55e-4d9a-bfe9-e701a5b2eba5\"}, {\"hoverinfo\": \"text\", \"marker\": {\"color\": \"blue\", \"size\": 0.5}, \"mode\": \"markers\", \"text\": \"Python appears with Spark 97 times\", \"x\": [0.7531233333048135], \"y\": [-0.4927527217903996], \"type\": \"scatter\", \"uid\": \"c59b7832-9e57-4622-b0c8-99011e66aa5f\"}, {\"hoverinfo\": \"text\", \"marker\": {\"color\": \"green\", \"size\": 0.5}, \"mode\": \"markers\", \"text\": \"Spark appears with VBA 6 times\", \"x\": [-0.8925695841124746], \"y\": [-0.11541030074167646], \"type\": \"scatter\", \"uid\": \"6037c5b3-84bf-43c3-b5e8-3c68ab2d64b9\"}, {\"hoverinfo\": \"text\", \"marker\": {\"color\": \"blue\", \"size\": 0.5}, \"mode\": \"markers\", \"text\": \"VBA appears with Spark 6 times\", \"x\": [0.8127008526378012], \"y\": [-0.38667470064873777], \"type\": \"scatter\", \"uid\": \"ce0cb193-8011-4bc2-8284-c9dc4d188d14\"}, {\"hoverinfo\": \"text\", \"marker\": {\"color\": \"green\", \"size\": 0.5}, \"mode\": \"markers\", \"text\": \"Spark appears with Linux 37 times\", \"x\": [-0.8806990175992813], \"y\": [-0.18538942903968628], \"type\": \"scatter\", \"uid\": \"98e71e4e-f99d-4d1f-a46b-c08ea404b2cc\"}, {\"hoverinfo\": \"text\", \"marker\": {\"color\": \"blue\", \"size\": 0.5}, \"mode\": \"markers\", \"text\": \"Linux appears with Spark 37 times\", \"x\": [0.8838099581305046], \"y\": [-0.16994104245106822], \"type\": \"scatter\", \"uid\": \"ba90f2b0-5064-4e37-b913-1b5283becd64\"}, {\"hoverinfo\": \"text\", \"marker\": {\"color\": \"green\", \"size\": 0.5}, \"mode\": \"markers\", \"text\": \"Spark appears with AWS 17 times\", \"x\": [-0.8896876748394776], \"y\": [-0.13585227726734664], \"type\": \"scatter\", \"uid\": \"5d2f55b0-3f55-420a-8c93-224f877bb70b\"}, {\"hoverinfo\": \"text\", \"marker\": {\"color\": \"blue\", \"size\": 0.5}, \"mode\": \"markers\", \"text\": \"AWS appears with Spark 17 times\", \"x\": [0.897493818130658], \"y\": [-0.06711815266567908], \"type\": \"scatter\", \"uid\": \"4f6cdfa8-da5e-4b8a-aca6-0b0de77616b6\"}, {\"hoverinfo\": \"text\", \"marker\": {\"color\": \"green\", \"size\": 0.5}, \"mode\": \"markers\", \"text\": \"Informatica appears with Qlik 65 times\", \"x\": [-0.8226436402872904], \"y\": [-0.3650444371509793], \"type\": \"scatter\", \"uid\": \"088f36fe-9284-4ea5-a849-056b89ce2fbd\"}, {\"hoverinfo\": \"text\", \"marker\": {\"color\": \"blue\", \"size\": 0.5}, \"mode\": \"markers\", \"text\": \"Qlik appears with Informatica 65 times\", \"x\": [-0.7269749304946385], \"y\": [-0.5305727569639396], \"type\": \"scatter\", \"uid\": \"907ac69a-f34f-4377-a612-653f2c1efbdf\"}, {\"hoverinfo\": \"text\", \"marker\": {\"color\": \"green\", \"size\": 0.5}, \"mode\": \"markers\", \"text\": \"Informatica appears with Tableau 36 times\", \"x\": [-0.8346844869006326], \"y\": [-0.33660333825948274], \"type\": \"scatter\", \"uid\": \"4fa925e4-8779-4727-9185-0cddb69934f5\"}, {\"hoverinfo\": \"text\", \"marker\": {\"color\": \"blue\", \"size\": 0.5}, \"mode\": \"markers\", \"text\": \"Tableau appears with Informatica 36 times\", \"x\": [-0.4591861012301047], \"y\": [-0.7740465906113766], \"type\": \"scatter\", \"uid\": \"20620e26-e699-44d8-ab66-26daa81bec5d\"}, {\"hoverinfo\": \"text\", \"marker\": {\"color\": \"green\", \"size\": 0.5}, \"mode\": \"markers\", \"text\": \"Informatica appears with Microstrategy 6 times\", \"x\": [-0.8486958378032659], \"y\": [-0.29952524917845], \"type\": \"scatter\", \"uid\": \"59235894-d7d1-412b-b9c8-9814d05e06dc\"}, {\"hoverinfo\": \"text\", \"marker\": {\"color\": \"blue\", \"size\": 0.5}, \"mode\": \"markers\", \"text\": \"Microstrategy appears with Informatica 6 times\", \"x\": [-0.05633451207451311], \"y\": [-0.8982351711825398], \"type\": \"scatter\", \"uid\": \"35abf9f7-8506-4238-98e1-8ef14fe0087f\"}, {\"hoverinfo\": \"text\", \"marker\": {\"color\": \"green\", \"size\": 0.5}, \"mode\": \"markers\", \"text\": \"Informatica appears with Oracle BI 88 times\", \"x\": [-0.8004806015770259], \"y\": [-0.4113767209005424], \"type\": \"scatter\", \"uid\": \"d94eb5bc-f356-4761-a7d8-33e7087920a8\"}, {\"hoverinfo\": \"text\", \"marker\": {\"color\": \"blue\", \"size\": 0.5}, \"mode\": \"markers\", \"text\": \"Oracle BI appears with Informatica 88 times\", \"x\": [0.23691732061535306], \"y\": [-0.8682569799272805], \"type\": \"scatter\", \"uid\": \"7dccfcd5-8233-4291-a6f3-da184eada1d9\"}, {\"hoverinfo\": \"text\", \"marker\": {\"color\": \"green\", \"size\": 0.5}, \"mode\": \"markers\", \"text\": \"Informatica appears with Python 15 times\", \"x\": [-0.8439204137825287], \"y\": [-0.31272725369101695], \"type\": \"scatter\", \"uid\": \"f2965615-84d8-4e1a-b8ba-b69fa8bf749d\"}, {\"hoverinfo\": \"text\", \"marker\": {\"color\": \"blue\", \"size\": 0.5}, \"mode\": \"markers\", \"text\": \"Python appears with Informatica 15 times\", \"x\": [0.5757722809878503], \"y\": [-0.6917270274075229], \"type\": \"scatter\", \"uid\": \"c7224d64-8236-44d6-a24b-f067c7a4ee6c\"}, {\"hoverinfo\": \"text\", \"marker\": {\"color\": \"green\", \"size\": 0.5}, \"mode\": \"markers\", \"text\": \"Informatica appears with VBA 3 times\", \"x\": [-0.8506022286950607], \"y\": [-0.2940677618151905], \"type\": \"scatter\", \"uid\": \"d8c9e637-7cbf-4936-a2db-8242cb3a2e3f\"}, {\"hoverinfo\": \"text\", \"marker\": {\"color\": \"blue\", \"size\": 0.5}, \"mode\": \"markers\", \"text\": \"VBA appears with Informatica 3 times\", \"x\": [0.8104704670567059], \"y\": [-0.391328023567039], \"type\": \"scatter\", \"uid\": \"b4e1dd25-ddf6-4386-a573-2514e1e70ba9\"}, {\"hoverinfo\": \"text\", \"marker\": {\"color\": \"green\", \"size\": 0.5}, \"mode\": \"markers\", \"text\": \"Informatica appears with Linux 2 times\", \"x\": [-0.8508717072807301], \"y\": [-0.2932871250995779], \"type\": \"scatter\", \"uid\": \"0ecfed7f-7fca-427c-8b4a-8c9171bc190f\"}, {\"hoverinfo\": \"text\", \"marker\": {\"color\": \"blue\", \"size\": 0.5}, \"mode\": \"markers\", \"text\": \"Linux appears with Informatica 2 times\", \"x\": [0.8718573762891337], \"y\": [-0.22330408731196086], \"type\": \"scatter\", \"uid\": \"7338ef5a-124c-4680-8263-90a3891614cc\"}, {\"hoverinfo\": \"text\", \"marker\": {\"color\": \"green\", \"size\": 0.5}, \"mode\": \"markers\", \"text\": \"Informatica appears with AWS 11 times\", \"x\": [-0.8467544319272334], \"y\": [-0.30497037890849055], \"type\": \"scatter\", \"uid\": \"6a673d2b-bf67-4b94-8aab-d338033f938f\"}, {\"hoverinfo\": \"text\", \"marker\": {\"color\": \"blue\", \"size\": 0.5}, \"mode\": \"markers\", \"text\": \"AWS appears with Informatica 11 times\", \"x\": [0.8966096584847552], \"y\": [-0.07804562967809658], \"type\": \"scatter\", \"uid\": \"1855e2fc-3299-41ba-9e3c-4cdbe54b4d11\"}, {\"hoverinfo\": \"text\", \"marker\": {\"color\": \"green\", \"size\": 0.5}, \"mode\": \"markers\", \"text\": \"Qlik appears with Tableau 196 times\", \"x\": [-0.6342383857833502], \"y\": [-0.6385465292356777], \"type\": \"scatter\", \"uid\": \"08d20b6b-c828-4ad2-8e2b-249c2c9bcf91\"}, {\"hoverinfo\": \"text\", \"marker\": {\"color\": \"blue\", \"size\": 0.5}, \"mode\": \"markers\", \"text\": \"Tableau appears with Qlik 196 times\", \"x\": [-0.29417122093415365], \"y\": [-0.8505664540611212], \"type\": \"scatter\", \"uid\": \"a69dc31d-cff2-4f1d-895f-ed4bc0563a8f\"}, {\"hoverinfo\": \"text\", \"marker\": {\"color\": \"green\", \"size\": 0.5}, \"mode\": \"markers\", \"text\": \"Qlik appears with Microstrategy 17 times\", \"x\": [-0.7660277767351547], \"y\": [-0.4724420020173864], \"type\": \"scatter\", \"uid\": \"e46221e3-0de6-4d03-9802-23b3847e9e2e\"}, {\"hoverinfo\": \"text\", \"marker\": {\"color\": \"blue\", \"size\": 0.5}, \"mode\": \"markers\", \"text\": \"Microstrategy appears with Qlik 17 times\", \"x\": [-0.039386291443445104], \"y\": [-0.8991377647759725], \"type\": \"scatter\", \"uid\": \"723dfadb-85be-40e4-b715-38f93ced0e62\"}, {\"hoverinfo\": \"text\", \"marker\": {\"color\": \"green\", \"size\": 0.5}, \"mode\": \"markers\", \"text\": \"Qlik appears with Oracle BI 169 times\", \"x\": [-0.6799289470590436], \"y\": [-0.5896580593455671], \"type\": \"scatter\", \"uid\": \"78e0438e-5f65-48cc-8d31-187aab2bf179\"}, {\"hoverinfo\": \"text\", \"marker\": {\"color\": \"blue\", \"size\": 0.5}, \"mode\": \"markers\", \"text\": \"Oracle BI appears with Qlik 169 times\", \"x\": [0.3324735246260731], \"y\": [-0.8363380628805053], \"type\": \"scatter\", \"uid\": \"931e77fc-2aa5-499b-b946-5175cb9779b5\"}, {\"hoverinfo\": \"text\", \"marker\": {\"color\": \"green\", \"size\": 0.5}, \"mode\": \"markers\", \"text\": \"Qlik appears with Python 21 times\", \"x\": [-0.7623470129863176], \"y\": [-0.4783586852883926], \"type\": \"scatter\", \"uid\": \"92df383f-55f3-4ab0-85e7-60eefa7b1b67\"}, {\"hoverinfo\": \"text\", \"marker\": {\"color\": \"blue\", \"size\": 0.5}, \"mode\": \"markers\", \"text\": \"Python appears with Qlik 21 times\", \"x\": [0.5808336612846656], \"y\": [-0.6874825509921326], \"type\": \"scatter\", \"uid\": \"c9290df3-97b2-440a-a27a-928481042d8a\"}, {\"hoverinfo\": \"text\", \"marker\": {\"color\": \"green\", \"size\": 0.5}, \"mode\": \"markers\", \"text\": \"Qlik appears with VBA 23 times\", \"x\": [-0.7580279990348031], \"y\": [-0.4851737345315515], \"type\": \"scatter\", \"uid\": \"2b411934-a424-4680-8940-7f07b6848183\"}, {\"hoverinfo\": \"text\", \"marker\": {\"color\": \"blue\", \"size\": 0.5}, \"mode\": \"markers\", \"text\": \"VBA appears with Qlik 23 times\", \"x\": [0.8212864411110291], \"y\": [-0.3680877363444484], \"type\": \"scatter\", \"uid\": \"398d194f-df1c-453e-bb4b-37ce17533800\"}, {\"hoverinfo\": \"text\", \"marker\": {\"color\": \"green\", \"size\": 0.5}, \"mode\": \"markers\", \"text\": \"Qlik appears with Linux 2 times\", \"x\": [-0.7794657430830326], \"y\": [-0.4499257220475574], \"type\": \"scatter\", \"uid\": \"acc16f3a-bd03-4dd9-b8f8-dc1b6ffbbd5c\"}, {\"hoverinfo\": \"text\", \"marker\": {\"color\": \"blue\", \"size\": 0.5}, \"mode\": \"markers\", \"text\": \"Linux appears with Qlik 2 times\", \"x\": [0.8717007317168786], \"y\": [-0.2239147925534588], \"type\": \"scatter\", \"uid\": \"c0bb9fe0-398c-477c-a088-4b9e46434895\"}, {\"hoverinfo\": \"text\", \"marker\": {\"color\": \"green\", \"size\": 0.5}, \"mode\": \"markers\", \"text\": \"Qlik appears with AWS 2 times\", \"x\": [-0.7798321694773777], \"y\": [-0.44929031532874875], \"type\": \"scatter\", \"uid\": \"9927b76a-63c7-498e-99a0-69eec52827e8\"}, {\"hoverinfo\": \"text\", \"marker\": {\"color\": \"blue\", \"size\": 0.5}, \"mode\": \"markers\", \"text\": \"AWS appears with Qlik 2 times\", \"x\": [0.8958399836089544], \"y\": [-0.08643334870007194], \"type\": \"scatter\", \"uid\": \"46a52a6e-6dad-46b9-8f7a-6da3fdb4f6a2\"}, {\"hoverinfo\": \"text\", \"marker\": {\"color\": \"green\", \"size\": 0.5}, \"mode\": \"markers\", \"text\": \"Tableau appears with Microstrategy 23 times\", \"x\": [-0.5021726503184325], \"y\": [-0.7468752434457587], \"type\": \"scatter\", \"uid\": \"9e0780f7-ae5f-4029-9c17-0ba6d480bd64\"}, {\"hoverinfo\": \"text\", \"marker\": {\"color\": \"blue\", \"size\": 0.5}, \"mode\": \"markers\", \"text\": \"Microstrategy appears with Tableau 23 times\", \"x\": [-0.03464276432442627], \"y\": [-0.8993330188978732], \"type\": \"scatter\", \"uid\": \"3024e782-6de2-4207-9d7b-976dfd5161b9\"}, {\"hoverinfo\": \"text\", \"marker\": {\"color\": \"green\", \"size\": 0.5}, \"mode\": \"markers\", \"text\": \"Tableau appears with Oracle BI 217 times\", \"x\": [-0.22046841900727274], \"y\": [-0.8725787507270811], \"type\": \"scatter\", \"uid\": \"d5d0df34-2f92-49d0-bcc9-b6adf0836220\"}, {\"hoverinfo\": \"text\", \"marker\": {\"color\": \"blue\", \"size\": 0.5}, \"mode\": \"markers\", \"text\": \"Oracle BI appears with Tableau 217 times\", \"x\": [0.3988967562135344], \"y\": [-0.8067721970186629], \"type\": \"scatter\", \"uid\": \"6e7fab6d-00a6-4370-bc39-0d0ad8ba551a\"}, {\"hoverinfo\": \"text\", \"marker\": {\"color\": \"green\", \"size\": 0.5}, \"mode\": \"markers\", \"text\": \"Tableau appears with Python 63 times\", \"x\": [-0.39744301303089574], \"y\": [-0.8074893506374702], \"type\": \"scatter\", \"uid\": \"2e612206-98e3-4297-8aa6-22dcd63e01b1\"}, {\"hoverinfo\": \"text\", \"marker\": {\"color\": \"blue\", \"size\": 0.5}, \"mode\": \"markers\", \"text\": \"Python appears with Tableau 63 times\", \"x\": [0.677561832448232], \"y\": [-0.5923765383684554], \"type\": \"scatter\", \"uid\": \"b5386f49-63f0-4735-9c22-72f75dafb134\"}, {\"hoverinfo\": \"text\", \"marker\": {\"color\": \"green\", \"size\": 0.5}, \"mode\": \"markers\", \"text\": \"Tableau appears with VBA 45 times\", \"x\": [-0.4324854308363181], \"y\": [-0.789275840320939], \"type\": \"scatter\", \"uid\": \"af89fba9-4b07-4c7c-b0f2-efd3bf7a5534\"}, {\"hoverinfo\": \"text\", \"marker\": {\"color\": \"blue\", \"size\": 0.5}, \"mode\": \"markers\", \"text\": \"VBA appears with Tableau 45 times\", \"x\": [0.829640693400997], \"y\": [-0.3488499962062676], \"type\": \"scatter\", \"uid\": \"e68c36d5-5385-4be4-82ec-b3f1ef06e739\"}, {\"hoverinfo\": \"text\", \"marker\": {\"color\": \"green\", \"size\": 0.5}, \"mode\": \"markers\", \"text\": \"Tableau appears with Linux 8 times\", \"x\": [-0.5158465583316119], \"y\": [-0.7374973411866859], \"type\": \"scatter\", \"uid\": \"1bf4d21a-6051-49aa-893f-16688fe9b824\"}, {\"hoverinfo\": \"text\", \"marker\": {\"color\": \"blue\", \"size\": 0.5}, \"mode\": \"markers\", \"text\": \"Linux appears with Tableau 8 times\", \"x\": [0.8724796752703141], \"y\": [-0.22086017350397788], \"type\": \"scatter\", \"uid\": \"4d88f2f3-314d-4173-b6bd-8e33e54eb1ba\"}, {\"hoverinfo\": \"text\", \"marker\": {\"color\": \"green\", \"size\": 0.5}, \"mode\": \"markers\", \"text\": \"Tableau appears with AWS 18 times\", \"x\": [-0.5084933218537296], \"y\": [-0.7425863866447858], \"type\": \"scatter\", \"uid\": \"dc39f124-ae4c-4816-a0cf-f11d0cf6081a\"}, {\"hoverinfo\": \"text\", \"marker\": {\"color\": \"blue\", \"size\": 0.5}, \"mode\": \"markers\", \"text\": \"AWS appears with Tableau 18 times\", \"x\": [0.8978306578978128], \"y\": [-0.06245085859122112], \"type\": \"scatter\", \"uid\": \"308f0f7f-7fc0-469e-a864-59ab795d5685\"}, {\"hoverinfo\": \"text\", \"marker\": {\"color\": \"green\", \"size\": 0.5}, \"mode\": \"markers\", \"text\": \"Microstrategy appears with Oracle BI 34 times\", \"x\": [-0.02242406403293124], \"y\": [-0.8997206018271712], \"type\": \"scatter\", \"uid\": \"31ddfb38-c170-4aa7-ac69-12eb0e2e1611\"}, {\"hoverinfo\": \"text\", \"marker\": {\"color\": \"blue\", \"size\": 0.5}, \"mode\": \"markers\", \"text\": \"Oracle BI appears with Microstrategy 34 times\", \"x\": [0.07047889170581041], \"y\": [-0.8972361594496293], \"type\": \"scatter\", \"uid\": \"0ab79122-68f5-47f0-a3b0-034d0b74d67f\"}, {\"hoverinfo\": \"text\", \"marker\": {\"color\": \"green\", \"size\": 0.5}, \"mode\": \"markers\", \"text\": \"Microstrategy appears with Python 9 times\", \"x\": [-0.0531358497868789], \"y\": [-0.898430064872846], \"type\": \"scatter\", \"uid\": \"780da0cb-dc5d-4931-8a56-737c44458c0a\"}, {\"hoverinfo\": \"text\", \"marker\": {\"color\": \"blue\", \"size\": 0.5}, \"mode\": \"markers\", \"text\": \"Python appears with Microstrategy 9 times\", \"x\": [0.5689755745661367], \"y\": [-0.6973283269358378], \"type\": \"scatter\", \"uid\": \"2da387eb-977c-4cba-acb6-c85f283e7531\"}, {\"hoverinfo\": \"text\", \"marker\": {\"color\": \"green\", \"size\": 0.5}, \"mode\": \"markers\", \"text\": \"Microstrategy appears with VBA 6 times\", \"x\": [-0.054912970156768146], \"y\": [-0.8983231966884535], \"type\": \"scatter\", \"uid\": \"d06b7d24-89e4-4be6-91ce-413c4fe4f72b\"}, {\"hoverinfo\": \"text\", \"marker\": {\"color\": \"blue\", \"size\": 0.5}, \"mode\": \"markers\", \"text\": \"VBA appears with Microstrategy 6 times\", \"x\": [0.8118406428931871], \"y\": [-0.3884775032698505], \"type\": \"scatter\", \"uid\": \"510bfcbb-8205-4c98-bcfe-12ca2e7487ca\"}, {\"hoverinfo\": \"text\", \"marker\": {\"color\": \"green\", \"size\": 0.5}, \"mode\": \"markers\", \"text\": \"Microstrategy appears with AWS 2 times\", \"x\": [-0.06059827709863387], \"y\": [-0.8979575985605763], \"type\": \"scatter\", \"uid\": \"d1a06c31-6603-45d3-a91b-06c70641b1b0\"}, {\"hoverinfo\": \"text\", \"marker\": {\"color\": \"blue\", \"size\": 0.5}, \"mode\": \"markers\", \"text\": \"AWS appears with Microstrategy 2 times\", \"x\": [0.8957884655144326], \"y\": [-0.08696565443494508], \"type\": \"scatter\", \"uid\": \"b6885df4-f404-45aa-844d-3d53e3fd4425\"}, {\"hoverinfo\": \"text\", \"marker\": {\"color\": \"green\", \"size\": 0.5}, \"mode\": \"markers\", \"text\": \"Oracle BI appears with Python 79 times\", \"x\": [0.20642414773614634], \"y\": [-0.8760074607167485], \"type\": \"scatter\", \"uid\": \"5d119fda-087c-4223-b5f4-d26730517ccc\"}, {\"hoverinfo\": \"text\", \"marker\": {\"color\": \"blue\", \"size\": 0.5}, \"mode\": \"markers\", \"text\": \"Python appears with Oracle BI 79 times\", \"x\": [0.694424978245175], \"y\": [-0.572515457947808], \"type\": \"scatter\", \"uid\": \"0bde4ec3-75b1-4b19-93ee-144c44d0197b\"}, {\"hoverinfo\": \"text\", \"marker\": {\"color\": \"green\", \"size\": 0.5}, \"mode\": \"markers\", \"text\": \"Oracle BI appears with VBA 49 times\", \"x\": [0.08605740817729597], \"y\": [-0.8958761758735446], \"type\": \"scatter\", \"uid\": \"3762c58c-f36c-4b7c-85a8-449c33e49bee\"}, {\"hoverinfo\": \"text\", \"marker\": {\"color\": \"blue\", \"size\": 0.5}, \"mode\": \"markers\", \"text\": \"VBA appears with Oracle BI 49 times\", \"x\": [0.8465863761034559], \"y\": [-0.305436585555853], \"type\": \"scatter\", \"uid\": \"dd1117e6-c14a-4d2b-b12e-26e5398da214\"}, {\"hoverinfo\": \"text\", \"marker\": {\"color\": \"green\", \"size\": 0.5}, \"mode\": \"markers\", \"text\": \"Oracle BI appears with Linux 3 times\", \"x\": [0.010448359012885112], \"y\": [-0.8999393489529935], \"type\": \"scatter\", \"uid\": \"db6869c9-d298-4430-9b6e-fe880cb6d664\"}, {\"hoverinfo\": \"text\", \"marker\": {\"color\": \"blue\", \"size\": 0.5}, \"mode\": \"markers\", \"text\": \"Linux appears with Oracle BI 3 times\", \"x\": [0.8720525803254573], \"y\": [-0.2225405516927465], \"type\": \"scatter\", \"uid\": \"9253e273-ba29-4397-a4eb-bc9321ca237a\"}, {\"hoverinfo\": \"text\", \"marker\": {\"color\": \"green\", \"size\": 0.5}, \"mode\": \"markers\", \"text\": \"Oracle BI appears with AWS 29 times\", \"x\": [0.04735491759450504], \"y\": [-0.898753309746127], \"type\": \"scatter\", \"uid\": \"7283c6ea-e776-43f4-8242-59ef149747d6\"}, {\"hoverinfo\": \"text\", \"marker\": {\"color\": \"blue\", \"size\": 0.5}, \"mode\": \"markers\", \"text\": \"AWS appears with Oracle BI 29 times\", \"x\": [0.8988892238804629], \"y\": [-0.04470081869025621], \"type\": \"scatter\", \"uid\": \"ddb8a809-1172-4ee7-a22b-4dff95fee6f1\"}, {\"hoverinfo\": \"text\", \"marker\": {\"color\": \"green\", \"size\": 0.5}, \"mode\": \"markers\", \"text\": \"Python appears with VBA 46 times\", \"x\": [0.62375655368116], \"y\": [-0.6487894587150767], \"type\": \"scatter\", \"uid\": \"a775e778-7d0c-4fe5-a405-f62d4cef1c6b\"}, {\"hoverinfo\": \"text\", \"marker\": {\"color\": \"blue\", \"size\": 0.5}, \"mode\": \"markers\", \"text\": \"VBA appears with Python 46 times\", \"x\": [0.8353943683420726], \"y\": [-0.33483764624419043], \"type\": \"scatter\", \"uid\": \"c52c69ae-f96e-4ca4-9e3c-cda1a6604e49\"}, {\"hoverinfo\": \"text\", \"marker\": {\"color\": \"green\", \"size\": 0.5}, \"mode\": \"markers\", \"text\": \"Python appears with Linux 58 times\", \"x\": [0.6627438863888666], \"y\": [-0.6089093044568963], \"type\": \"scatter\", \"uid\": \"b1014b11-482a-4abf-92ec-9d57ef60f6bb\"}, {\"hoverinfo\": \"text\", \"marker\": {\"color\": \"blue\", \"size\": 0.5}, \"mode\": \"markers\", \"text\": \"Linux appears with Python 58 times\", \"x\": [0.8913631051714169], \"y\": [-0.1243857497431657], \"type\": \"scatter\", \"uid\": \"83f325c9-5f78-4eb7-aad1-43e0e99927b1\"}, {\"hoverinfo\": \"text\", \"marker\": {\"color\": \"green\", \"size\": 0.5}, \"mode\": \"markers\", \"text\": \"Python appears with AWS 47 times\", \"x\": [0.6359450002015375], \"y\": [-0.6368468864010143], \"type\": \"scatter\", \"uid\": \"1789191e-aa97-4be4-9a2a-06b8237a39a0\"}, {\"hoverinfo\": \"text\", \"marker\": {\"color\": \"blue\", \"size\": 0.5}, \"mode\": \"markers\", \"text\": \"AWS appears with Python 47 times\", \"x\": [0.8993366005059997], \"y\": [-0.034549659771290424], \"type\": \"scatter\", \"uid\": \"d3e229f9-4ab7-4bfd-a78d-193edfaeb648\"}, {\"hoverinfo\": \"text\", \"marker\": {\"color\": \"green\", \"size\": 0.5}, \"mode\": \"markers\", \"text\": \"Linux appears with AWS 13 times\", \"x\": [0.8732860456734967], \"y\": [-0.21764990795299566], \"type\": \"scatter\", \"uid\": \"1cff4ed4-de58-49ec-a8e4-75c1b7c20677\"}, {\"hoverinfo\": \"text\", \"marker\": {\"color\": \"blue\", \"size\": 0.5}, \"mode\": \"markers\", \"text\": \"AWS appears with Linux 13 times\", \"x\": [0.8968822144045687], \"y\": [-0.07484847015642516], \"type\": \"scatter\", \"uid\": \"7c96d036-9ba5-41b2-b584-c8cb48b36f91\"}], {\"font\": {\"color\": \"#655643\", \"family\": \"Fira Sans Condensed\", \"size\": 12}, \"height\": 525, \"hoverdistance\": 40, \"hovermode\": \"closest\", \"margin\": {\"b\": 10, \"l\": 260, \"r\": 260, \"t\": 80}, \"paper_bgcolor\": \"#fffaf0\", \"plot_bgcolor\": \"#fffaf0\", \"shapes\": [{\"fillcolor\": \"#f2e6ce\", \"layer\": \"below\", \"line\": {\"color\": \"rgb(175,175,175)\", \"width\": 0.5}, \"path\": \"M 0.9785741537031529,0.20589469566785365 Q 0.1843918741143427, 0.07745732218841803 0.832054238228861, 0.5546942803431361L 0.832054238228861, 0.5546942803431361 L 0.8477618020224904, 0.5303771554578682 L 0.8627588989336461, 0.5056155479322235 M 0.8627588989336461,0.5056155479322235 Q 0.18456898599496577, 0.07703433915332909 0.9662117308311654, 0.2577496677092785L 0.9662117308311654, 0.2577496677092785 L 0.9727385407715359, 0.23190457368853898 L 0.9785741537031529, 0.20589469566785365 \", \"type\": \"path\"}, {\"fillcolor\": \"#f2e6ce\", \"layer\": \"below\", \"line\": {\"color\": \"rgb(175,175,175)\", \"width\": 0.5}, \"path\": \"M 0.9942787047351255,0.10681693363058681 Q 0.1407899896894436, 0.14204991659007188 0.09795472507324376, 0.9951908720621513L 0.09795472507324376, 0.9951908720621513 L 0.11400513054009498, 0.9934801609546795 L 0.1300258328767364, 0.9915106064912825 M 0.1300258328767364,0.9915106064912825 Q 0.1409110729678541, 0.14192980488624685 0.990548243449369, 0.1371647819207603L 0.990548243449369, 0.1371647819207603 L 0.9925294713678805, 0.12200511655744502 L 0.9942787047351255, 0.10681693363058681 \", \"type\": \"path\"}, {\"fillcolor\": \"#f2e6ce\", \"layer\": \"below\", \"line\": {\"color\": \"rgb(175,175,175)\", \"width\": 0.5}, \"path\": \"M 0.9966454579789844,0.08184027791900783 Q 0.09901262896317743, 0.1737713995621839 -0.4377093326898257, 0.8991165330902483L -0.4377093326898257, 0.8991165330902483 L -0.42603014457830446, 0.9047089675197152 L -0.41427952026135817, 0.910149701473345 M -0.41427952026135817,0.910149701473345 Q 0.09908292435531674, 0.17373132734541166 0.9942787047351255, 0.10681693363058681L 0.9942787047351255, 0.10681693363058681 L 0.9955404129177045, 0.09433602836481117 L 0.9966454579789844, 0.08184027791900783 \", \"type\": \"path\"}, {\"fillcolor\": \"#f2e6ce\", \"layer\": \"below\", \"line\": {\"color\": \"rgb(175,175,175)\", \"width\": 0.5}, \"path\": \"M 0.9999972337850501,0.0023521101691413985 Q 0.07672038129596052, 0.1846997105947988 -0.7040307052091367, 0.7101695333670163L -0.7040307052091367, 0.7101695333670163 L -0.703397332079688, 0.71079687198466 L -0.7027633999496441, 0.7114236457211811 M -0.7027633999496441,0.7114236457211811 Q 0.07670402052731456, 0.1847065056649205 0.9999907024543172, 0.0043121925886039246L 0.9999907024543172, 0.0043121925886039246 L 0.9999944483628516, 0.003332152979125248 L 0.9999972337850501, 0.0023521101691413985 \", \"type\": \"path\"}, {\"fillcolor\": \"#f2e6ce\", \"layer\": \"below\", \"line\": {\"color\": \"rgb(175,175,175)\", \"width\": 0.5}, \"path\": \"M 0.9994448871374585,0.033315425478188825 Q 0.05147183184570049, 0.19326316391503048 -0.850480506417142, 0.5260065666932702L -0.850480506417142, 0.5260065666932702 L -0.8475504760204339, 0.5307147921412555 L -0.8445943813573806, 0.5354066968011733 M -0.8445943813573806,0.5354066968011733 Q 0.05148289327398469, 0.19326021758276976 0.9990189989086233, 0.04428362925068446L 0.9990189989086233, 0.04428362925068446 L 0.999246992155143, 0.038800111712462025 L 0.9994448871374585, 0.033315425478188825 \", \"type\": \"path\"}, {\"fillcolor\": \"#f2e6ce\", \"layer\": \"below\", \"line\": {\"color\": \"rgb(175,175,175)\", \"width\": 0.5}, \"path\": \"M 1.0,0.0 Q 0.030375499530000502, 0.19767986500476709 -0.9538664514151469, 0.3002312323271432L -0.9538664514151469, 0.3002312323271432 L -0.9537411028857047, 0.30062918798140637 L -0.9536155883280988, 0.30102709130185284 M -0.9536155883280988,0.30102709130185284 Q 0.030341735765248252, 0.19768505019538493 0.9999993084460234, 0.0011760558978768322L 0.9999993084460234, 0.0011760558978768322 L 0.9999998271114909, 0.0005880280506017091 L 1.0, 0.0 \", \"type\": \"path\"}, {\"fillcolor\": \"#f2e6ce\", \"layer\": \"below\", \"line\": {\"color\": \"rgb(175,175,175)\", \"width\": 0.5}, \"path\": \"M 0.9999803291935557,0.00627225844077022 Q 0.020663449797185502, 0.1989296907012103 -0.9773427122456597, 0.21166299350688986L -0.9773427122456597, 0.21166299350688986 L -0.9770836417791761, 0.2128557186630011 L -0.9768231157406343, 0.21404812672564885 M -0.9768231157406343,0.21404812672564885 Q 0.02063330607069998, 0.19893281951601857 0.9999593522647338, 0.009016308462679158L 0.9999593522647338, 0.009016308462679158 L 0.9999707819834046, 0.00764429064715606 L 0.9999803291935557, 0.00627225844077022 \", \"type\": \"path\"}, {\"fillcolor\": \"#f2e6ce\", \"layer\": \"below\", \"line\": {\"color\": \"rgb(175,175,175)\", \"width\": 0.5}, \"path\": \"M 0.9999213175481044,0.012544270120776926 Q 0.0039820384486490895, 0.19996035449506855 -0.998629129778543, 0.052343683073987034L -0.998629129778543, 0.052343683073987034 L -0.9984912845312061, 0.054910424467691364 L -0.9983468420895034, 0.05747680305928717 M -0.9983468420895034,0.05747680305928717 Q 0.003947307239173757, 0.19996104311980265 0.9998374123634116, 0.018031883940319376L 0.9998374123634116, 0.018031883940319376 L 0.9998831296410036, 0.015288134592290144 L 0.9999213175481044, 0.012544270120776926 \", \"type\": \"path\"}, {\"fillcolor\": \"#f2e6ce\", \"layer\": \"below\", \"line\": {\"color\": \"rgb(175,175,175)\", \"width\": 0.5}, \"path\": \"M 0.9998374123634116,0.018031883940319376 Q -0.01862594153374972, 0.19913079697018576 -0.9858379593521578, -0.16770067948691575L -0.9858379593521578, -0.16770067948691575 L -0.9864259887205739, -0.1642064821395252 L -0.9870016333196894, -0.1607102231479548 M -0.9870016333196894,-0.1607102231479548 Q -0.018661953067168634, 0.19912742530279148 0.9996753713557186, 0.02547845962389L 0.9996753713557186, 0.02547845962389 L 0.9997633249606674, 0.021755322649662713 L 0.9998374123634116, 0.018031883940319376 \", \"type\": \"path\"}, {\"fillcolor\": \"#f2e6ce\", \"layer\": \"below\", \"line\": {\"color\": \"rgb(175,175,175)\", \"width\": 0.5}, \"path\": \"M 0.9999907024543172,0.0043121925886039246 Q -0.03408171134331888, 0.19707469891366242 -0.9433612629426837, -0.3317672792473434L -0.9433612629426837, -0.3317672792473434 L -0.9436652955681448, -0.3309015109368433 L -0.9439685336362929, -0.33003546401038025 M -0.9439685336362929,-0.33003546401038025 Q -0.03409401786557706, 0.19707257025213254 0.9999803291935557, 0.00627225844077022L 0.9999803291935557, 0.00627225844077022 L 0.9999859960630452, 0.0052922280562575485 L 0.9999907024543172, 0.0043121925886039246 \", \"type\": \"path\"}, {\"fillcolor\": \"#f2e6ce\", \"layer\": \"below\", \"line\": {\"color\": \"rgb(175,175,175)\", \"width\": 0.5}, \"path\": \"M 0.990548243449369,0.1371647819207603 Q -0.07949988922626511, 0.1835204828159832 -0.7775842239090586, -0.6287787963407697L -0.7775842239090586, -0.6287787963407697 L -0.7888577458317234, -0.6145758348985844 L -0.7998718783821913, -0.6001707908365292 M -0.7998718783821913,-0.6001707908365292 Q -0.07937347782492044, 0.18357519172801337 0.9851607503361287, 0.17163419238938316L 0.9851607503361287, 0.17163419238938316 L 0.9880048289840184, 0.15442298373059773 L 0.990548243449369, 0.1371647819207603 \", \"type\": \"path\"}, {\"fillcolor\": \"#f2e6ce\", \"layer\": \"below\", \"line\": {\"color\": \"rgb(175,175,175)\", \"width\": 0.5}, \"path\": \"M 0.9851607503361287,0.17163419238938316 Q -0.12651415712552536, 0.1549005101567386 -0.36492156528028286, -0.931038265160669L -0.36492156528028286, -0.931038265160669 L -0.3820114641770692, -0.9241575846344019 L -0.39897170517065245, -0.9169632372528476 M -0.39897170517065245,-0.9169632372528476 Q -0.12636253146672158, 0.1550242259820116 0.9785741537031529, 0.20589469566785365L 0.9785741537031529, 0.20589469566785365 L 0.9820168730000342, 0.1887931702769854 L 0.9851607503361287, 0.17163419238938316 \", \"type\": \"path\"}, {\"fillcolor\": \"#f2e6ce\", \"layer\": \"below\", \"line\": {\"color\": \"rgb(175,175,175)\", \"width\": 0.5}, \"path\": \"M 0.9999593522647338,0.009016308462679158 Q -0.13809559435381943, 0.14467068403814695 -0.0554850153632631, -0.9984595199957474L -0.0554850153632631, -0.9984595199957474 L -0.0566700349952564, -0.9983929622817042 L -0.057854974796087914, -0.9983249981300398 M -0.057854974796087914,-0.9983249981300398 Q -0.1381790748138119, 0.14459095159656077 0.9999213175481044, 0.012544270120776926L 0.9999213175481044, 0.012544270120776926 L 0.9999418908122245, 0.010780306065843567 L 0.9999593522647338, 0.009016308462679158 \", \"type\": \"path\"}, {\"fillcolor\": \"#f2e6ce\", \"layer\": \"below\", \"line\": {\"color\": \"rgb(175,175,175)\", \"width\": 0.5}, \"path\": \"M 0.9983625397119322,0.057203490277609986 Q -0.15557926349841794, 0.1256785294682025 0.15397617791067109, -0.9880745602615327L 0.15397617791067109, -0.9880745602615327 L 0.1409318015223108, -0.9900193065388553 L 0.1278629117673667, -0.9917918510425313 M 0.1278629117673667,-0.9917918510425313 Q -0.15547363191126923, 0.12580918003198008 0.9966454579789844, 0.08184027791900783L 0.9966454579789844, 0.08184027791900783 L 0.9975800572079425, 0.06952718505015217 L 0.9983625397119322, 0.057203490277609986 \", \"type\": \"path\"}, {\"fillcolor\": \"#f2e6ce\", \"layer\": \"below\", \"line\": {\"color\": \"rgb(175,175,175)\", \"width\": 0.5}, \"path\": \"M 0.9990189989086233,0.04428362925068446 Q -0.1847509696119124, 0.07659686173374358 0.6746191734865188, -0.7381659506942638L 0.6746191734865188, -0.7381659506942638 L 0.6696376514968302, -0.742687966576684 L 0.6646258189019397, -0.747176365290636 M 0.6646258189019397,-0.747176365290636 Q -0.18473108111331055, 0.0766448150282032 0.9983625397119322, 0.057203490277609986L 0.9983625397119322, 0.057203490277609986 L 0.9987116617962329, 0.05074462131306934 L 0.9990189989086233, 0.04428362925068446 \", \"type\": \"path\"}, {\"fillcolor\": \"#f2e6ce\", \"layer\": \"below\", \"line\": {\"color\": \"rgb(175,175,175)\", \"width\": 0.5}, \"path\": \"M 0.9996753713557186,0.02547845962389 Q -0.19585516483609144, 0.04050622676857776 0.9075578011756056, -0.4199271812175297L 0.9075578011756056, -0.4199271812175297 L 0.9059982433578924, -0.4232814465960127 L 0.9044262884791809, -0.42662992008035877 M 0.9044262884791809,-0.42662992008035877 Q -0.19586411550472582, 0.040462924480954565 0.9994448871374585, 0.033315425478188825L 0.9994448871374585, 0.033315425478188825 L 0.9995678098497907, 0.029397168436650977 L 0.9996753713557186, 0.02547845962389 \", \"type\": \"path\"}, {\"fillcolor\": \"#f2e6ce\", \"layer\": \"below\", \"line\": {\"color\": \"rgb(175,175,175)\", \"width\": 0.5}, \"path\": \"M 0.9999993084460234,0.0011760558978768322 Q -0.19977998173260703, 0.009378640568825291 0.995491189823864, -0.09485405095760299L 0.995491189823864, -0.09485405095760299 L 0.9954488182334347, -0.09529769292935913 L 0.9954062489333807, -0.09574131597370299 M 0.9954062489333807,-0.09574131597370299 Q -0.19978131491952109, 0.009350198341594177 0.9999972337850501, 0.0023521101691413985L 0.9999972337850501, 0.0023521101691413985 L 0.9999984440037768, 0.0017640833384988538 L 0.9999993084460234, 0.0011760558978768322 \", \"type\": \"path\"}, {\"fillcolor\": \"#ecd5bb\", \"layer\": \"below\", \"line\": {\"color\": \"rgb(175,175,175)\", \"width\": 0.5}, \"path\": \"M 0.5359045003107966,0.8442786071828632 Q 0.031021760188350334, 0.19757947867837006 -0.2513778359780235, 0.967889034744689L -0.2513778359780235, 0.967889034744689 L -0.19084302608830553, 0.9816205679352172 L -0.12957289454340812, 0.991569899200073 M -0.12957289454340812,0.991569899200073 Q 0.03067043989831495, 0.19763431917671548 0.42400019901733943, 0.9056620955043092L 0.42400019901733943, 0.9056620955043092 L 0.4809326783528927, 0.8767575257118202 L 0.5359045003107966, 0.8442786071828632 \", \"type\": \"path\"}, {\"fillcolor\": \"#ecd5bb\", \"layer\": \"below\", \"line\": {\"color\": \"rgb(175,175,175)\", \"width\": 0.5}, \"path\": \"M 0.7962487803190149,0.6049693214043842 Q 0.026731435538913197, 0.19820552553859072 -0.6075340206751771, 0.7942936571081588L -0.6075340206751771, 0.7942936571081588 L -0.5816711658984456, 0.8134240313405691 L -0.5552063637857448, 0.8317126268199919 M -0.5552063637857448,0.8317126268199919 Q 0.026399309441410408, 0.1982500352106316 0.753504767350159, 0.6574424427891636L 0.753504767350159, 0.6574424427891636 L 0.7753208185939954, 0.6315675959505339 L 0.7962487803190149, 0.6049693214043842 \", \"type\": \"path\"}, {\"fillcolor\": \"#ecd5bb\", \"layer\": \"below\", \"line\": {\"color\": \"rgb(175,175,175)\", \"width\": 0.5}, \"path\": \"M 0.9516853171672304,0.30707500238265606 Q 0.053202498660704936, 0.19279391623248307 -0.659512545841729, 0.7516935558306731L -0.659512545841729, 0.7516935558306731 L -0.6567732211189827, 0.7540881487074278 L -0.6540252020487661, 0.7564727589841359 M -0.6540252020487661,0.7564727589841359 Q 0.052877892300185594, 0.19288319912809923 0.9483631461088947, 0.3171866061208122L 0.9483631461088947, 0.3171866061208122 L 0.9500376844273234, 0.31213522417050205 L 0.9516853171672304, 0.30707500238265606 \", \"type\": \"path\"}, {\"fillcolor\": \"#ecd5bb\", \"layer\": \"below\", \"line\": {\"color\": \"rgb(175,175,175)\", \"width\": 0.5}, \"path\": \"M 0.9122887468432381,0.4095476069801826 Q 0.023529738188240633, 0.19861105563586548 -0.7913381301882588, 0.6113787399886835L -0.7913381301882588, 0.6113787399886835 L -0.784310448407685, 0.620368536048159 L -0.7771806456856462, 0.6292775571809646 M -0.7771806456856462,0.6292775571809646 Q 0.02309019674239626, 0.19866263567766695 0.9007924946909072, 0.43424979160447735L 0.9007924946909072, 0.43424979160447735 L 0.9066247551120875, 0.42193785492409586 L 0.9122887468432381, 0.4095476069801826 \", \"type\": \"path\"}, {\"fillcolor\": \"#ecd5bb\", \"layer\": \"below\", \"line\": {\"color\": \"rgb(175,175,175)\", \"width\": 0.5}, \"path\": \"M 0.8856805958571344,0.4642950377961747 Q -0.009843428293919564, 0.19975762042891498 -0.9270369420865472, 0.3749700094765231L -0.9270369420865472, 0.3749700094765231 L -0.9185702825692216, 0.39525768301286746 L -0.9096597018979599, 0.41535433877945077 M -0.9096597018979599,0.41535433877945077 Q -0.010171907980520666, 0.19974116322890437 0.8627588989336461, 0.5056155479322235L 0.8627588989336461, 0.5056155479322235 L 0.8744638430921748, 0.48509069989483844 L 0.8856805958571344, 0.4642950377961747 \", \"type\": \"path\"}, {\"fillcolor\": \"#ecd5bb\", \"layer\": \"below\", \"line\": {\"color\": \"rgb(175,175,175)\", \"width\": 0.5}, \"path\": \"M 0.9483631461088947,0.3171866061208122 Q -0.005564805045870311, 0.19992256737247416 -0.9645387279310337, 0.263941361520288L -0.9645387279310337, 0.263941361520288 L -0.9632051527354036, 0.2687672482724926 L -0.9618474322927509, 0.2735863976732797 M -0.9618474322927509,0.2735863976732797 Q -0.006095879526280284, 0.1999070790462436 0.9433905831636327, 0.3316838971041268L 0.9433905831636327, 0.3316838971041268 L 0.9459046389121857, 0.32444477817404854 L 0.9483631461088947, 0.3171866061208122 \", \"type\": \"path\"}, {\"fillcolor\": \"#ecd5bb\", \"layer\": \"below\", \"line\": {\"color\": \"rgb(175,175,175)\", \"width\": 0.5}, \"path\": \"M 0.9433905831636327,0.3316838971041268 Q -0.02375849946002835, 0.19858382034649208 -0.995010093776251, 0.09977431174092861L -0.995010093776251, 0.09977431174092861 L -0.9942527498938385, 0.10705825203383565 L -0.9934420848768006, 0.11433645086163731 M -0.9934420848768006,0.11433645086163731 Q -0.024079628127997157, 0.1985451372086896 0.937309266356985, 0.34849869325627403L 0.937309266356985, 0.34849869325627403 L 0.9403875080726711, 0.34010488773446335 L 0.9433905831636327, 0.3316838971041268 \", \"type\": \"path\"}, {\"fillcolor\": \"#ecd5bb\", \"layer\": \"below\", \"line\": {\"color\": \"rgb(175,175,175)\", \"width\": 0.5}, \"path\": \"M 0.92967903635901,0.3683705869835193 Q -0.040649348028345564, 0.19582551035263623 -0.9994851688501479, -0.03208422117788337L -0.9994851688501479, -0.03208422117788337 L -0.9997375869972781, -0.02290757832813872 L -0.9999057527702172, -0.013729004953938233 M -0.9999057527702172,-0.013729004953938233 Q -0.04093585106665345, 0.19576581953305527 0.9216275571034754, 0.3880755673673366L 0.9216275571034754, 0.3880755673673366 L 0.9257057293289265, 0.37824450119942304 L 0.92967903635901, 0.3683705869835193 \", \"type\": \"path\"}, {\"fillcolor\": \"#ecd5bb\", \"layer\": \"below\", \"line\": {\"color\": \"rgb(175,175,175)\", \"width\": 0.5}, \"path\": \"M 0.9216275571034754,0.3880755673673366 Q -0.06228935560685424, 0.19005271947036922 -0.972540479160309, -0.23273378868277095L -0.972540479160309, -0.23273378868277095 L -0.9748764331652582, -0.22274635812731894 L -0.977109824856154, -0.2127354934409772 M -0.977109824856154,-0.2127354934409772 Q -0.06256500852909139, 0.1899621533562797 0.9122887468432381, 0.4095476069801826L 0.9122887468432381, 0.4095476069801826 L 0.917021000082156, 0.39883892163168133 L 0.9216275571034754, 0.3880755673673366 \", \"type\": \"path\"}, {\"fillcolor\": \"#ecd5bb\", \"layer\": \"below\", \"line\": {\"color\": \"rgb(175,175,175)\", \"width\": 0.5}, \"path\": \"M 0.9007924946909072,0.43424979160447735 Q -0.08769216852877604, 0.17975005863342786 -0.896688405832244, -0.4426622898395896L -0.896688405832244, -0.4426622898395896 L -0.9030116998839132, -0.42961595625950105 L -0.9091451891229786, -0.4164793213288547 M -0.9091451891229786,-0.4164793213288547 Q -0.0881086862249823, 0.17954625980985406 0.8856805958571344, 0.4642950377961747L 0.8856805958571344, 0.4642950377961747 L 0.8933628630168974, 0.4493359489093347 L 0.9007924946909072, 0.43424979160447735 \", \"type\": \"path\"}, {\"fillcolor\": \"#ecd5bb\", \"layer\": \"below\", \"line\": {\"color\": \"rgb(175,175,175)\", \"width\": 0.5}, \"path\": \"M 0.698223242557579,0.7158800902053222 Q -0.15177564501488827, 0.1302465108181967 -0.6015998383332019, -0.798797617996865L -0.6015998383332019, -0.798797617996865 L -0.6394560962250314, -0.7688276146189361 L -0.6758215918053093, -0.7370652454496399 M -0.6758215918053093,-0.7370652454496399 Q -0.15205683314849072, 0.12991812611353373 0.6225625036690979, 0.7825700793061695L 0.6225625036690979, 0.7825700793061695 L 0.661234176007606, 0.7501795548264044 L 0.698223242557579, 0.7158800902053222 \", \"type\": \"path\"}, {\"fillcolor\": \"#ecd5bb\", \"layer\": \"below\", \"line\": {\"color\": \"rgb(175,175,175)\", \"width\": 0.5}, \"path\": \"M 0.6225625036690979,0.7825700793061695 Q -0.18531928700123174, 0.07521144770149757 -0.09890013565448309, -0.9950973636622322L -0.09890013565448309, -0.9950973636622322 L -0.1502418765402634, -0.988649269727976 L -0.20118133694807852, -0.9795540156947874 M -0.20118133694807852,-0.9795540156947874 Q -0.18542936747894911, 0.07493964022035898 0.5359045003107966, 0.8442786071828632L 0.5359045003107966, 0.8442786071828632 L 0.580054683138336, 0.8145775374814141 L 0.6225625036690979, 0.7825700793061695 \", \"type\": \"path\"}, {\"fillcolor\": \"#ecd5bb\", \"layer\": \"below\", \"line\": {\"color\": \"rgb(175,175,175)\", \"width\": 0.5}, \"path\": \"M 0.9576388509531945,0.2879719277031103 Q -0.15872586564077018, 0.12168031712889385 -0.029397765987632288, -0.9995677922757097L -0.029397765987632288, -0.9995677922757097 L -0.0324294717604377, -0.9994740263565327 L -0.03546087918106622, -0.9993710652443895 M -0.03546087918106622,-0.9993710652443895 Q -0.15895225830835422, 0.12138442889709639 0.9547731800379207, 0.2973351218411243L 0.9547731800379207, 0.2973351218411243 L 0.9562174760069003, 0.29265703234160106 L 0.9576388509531945, 0.2879719277031103 \", \"type\": \"path\"}, {\"fillcolor\": \"#ecd5bb\", \"layer\": \"below\", \"line\": {\"color\": \"rgb(175,175,175)\", \"width\": 0.5}, \"path\": \"M 0.42400019901733943,0.9056620955043092 Q -0.19887258958409793, -0.02120596878510743 0.6054385010620539, -0.7958920915750661L 0.6054385010620539, -0.7958920915750661 L 0.545901873953804, -0.8378491176898888 L 0.48346923630815286, -0.8753613525531108 M 0.48346923630815286,-0.8753613525531108 Q -0.19884642747155967, -0.021449901673381983 0.2856659164752751, 0.9583292670916094L 0.2856659164752751, 0.9583292670916094 L 0.3558088765198892, 0.9345587426104655 L 0.42400019901733943, 0.9056620955043092 \", \"type\": \"path\"}, {\"fillcolor\": \"#ecd5bb\", \"layer\": \"below\", \"line\": {\"color\": \"rgb(175,175,175)\", \"width\": 0.5}, \"path\": \"M 0.753504767350159,0.6574424427891636 Q -0.198622336127644, -0.02343432506382933 0.8858206825279608, -0.4640277129716476L 0.8858206825279608, -0.4640277129716476 L 0.867287477610096, -0.4978076246711347 L 0.847466730556729, -0.5308485100285093 M 0.847466730556729,-0.5308485100285093 Q -0.1985822171199405, -0.023771896090316578 0.698223242557579, 0.7158800902053222L 0.698223242557579, 0.7158800902053222 L 0.7264518520497791, 0.6872173649242617 L 0.753504767350159, 0.6574424427891636 \", \"type\": \"path\"}, {\"fillcolor\": \"#ecd5bb\", \"layer\": \"below\", \"line\": {\"color\": \"rgb(175,175,175)\", \"width\": 0.5}, \"path\": \"M 0.832054238228861,0.5546942803431361 Q -0.1976873184402887, -0.030326953818144937 0.9600678803512613, -0.2797671623293845L 0.9600678803512613, -0.2797671623293845 L 0.9522206191641124, -0.30541102213036525 L 0.9436885332354598, -0.33083523427819256 M 0.9436885332354598,-0.33083523427819256 Q -0.1975629525375501, -0.03112683383586782 0.7962487803190149, 0.6049693214043842L 0.7962487803190149, 0.6049693214043842 L 0.8145394864532098, 0.5801081149307784 L 0.832054238228861, 0.5546942803431361 \", \"type\": \"path\"}, {\"fillcolor\": \"#ecd5bb\", \"layer\": \"below\", \"line\": {\"color\": \"rgb(175,175,175)\", \"width\": 0.5}, \"path\": \"M 0.937309266356985,0.34849869325627403 Q -0.1989280662569943, -0.020679082553461996 0.9889485289441367, -0.14825925636946935L 0.9889485289441367, -0.14825925636946935 L 0.9876123844003526, -0.15691328235382168 L 0.9862005122593397, -0.1655552766281281 M 0.9862005122593397,-0.1655552766281281 Q -0.1988886943153757, -0.021054388462385984 0.92967903635901, 0.3683705869835193L 0.92967903635901, 0.3683705869835193 L 0.9335470280921389, 0.3584549432499646 L 0.937309266356985, 0.34849869325627403 \", \"type\": \"path\"}, {\"fillcolor\": \"#ecd5bb\", \"layer\": \"below\", \"line\": {\"color\": \"rgb(175,175,175)\", \"width\": 0.5}, \"path\": \"M 0.9547731800379207,0.2973351218411243 Q -0.19846555318833126, -0.024726993299826486 0.998542566150505, -0.053969839591798775L 0.998542566150505, -0.053969839591798775 L 0.9983438022563311, -0.05752957931683078 L 0.998132348160512, -0.06108858776876872 M 0.998132348160512,-0.06108858776876872 Q -0.19842714927996408, -0.025033306386229987 0.9516853171672304, 0.30707500238265606L 0.9516853171672304, 0.30707500238265606 L 0.9532416885080465, 0.3022090059715767 L 0.9547731800379207, 0.2973351218411243 \", \"type\": \"path\"}, {\"fillcolor\": \"#e6c4a9\", \"layer\": \"below\", \"line\": {\"color\": \"rgb(175,175,175)\", \"width\": 0.5}, \"path\": \"M -0.07110659367846944,0.997468722484793 Q -0.06478757627335734, 0.18921567049434332 -0.5552063637857448, 0.8317126268199919L -0.5552063637857448, 0.8317126268199919 L -0.5310845958689316, 0.8473188018867123 L -0.5065244641478004, 0.8622255895180702 M -0.5065244641478004,0.8622255895180702 Q -0.06491146279210212, 0.1891732063432598 -0.12957289454340812, 0.991569899200073L -0.12957289454340812, 0.991569899200073 L -0.10038308262493617, 0.9949488613605803 L -0.07110659367846944, 0.997468722484793 \", \"type\": \"path\"}, {\"fillcolor\": \"#e6c4a9\", \"layer\": \"below\", \"line\": {\"color\": \"rgb(175,175,175)\", \"width\": 0.5}, \"path\": \"M 0.25542310786379274,0.9668293727277846 Q -0.04313978230285695, 0.19529198443065224 -0.638925267001568, 0.7692688107462664L -0.638925267001568, 0.7692688107462664 L -0.6376929277937942, 0.7702906787971531 L -0.6364589542592449, 0.7713105726899044 M -0.6364589542592449,0.7713105726899044 Q -0.043271685523922215, 0.1952628004303912 0.2510187647989263, 0.9679822207658678L 0.2510187647989263, 0.9679822207658678 L 0.2532215924070857, 0.9674083032199071 L 0.25542310786379274, 0.9668293727277846 \", \"type\": \"path\"}, {\"fillcolor\": \"#e6c4a9\", \"layer\": \"below\", \"line\": {\"color\": \"rgb(175,175,175)\", \"width\": 0.5}, \"path\": \"M 0.20994271534996364,0.9777136882909455 Q -0.0599068572397926, 0.19081710734536125 -0.7310949002030361, 0.6822757850730983L -0.7310949002030361, 0.6822757850730983 L -0.7276797324741767, 0.6859170554420634 L -0.7242464293505595, 0.6895412312349168 M -0.7242464293505595,0.6895412312349168 Q -0.06005990378378792, 0.19076899107947848 0.19859838011453165, 0.9800809575825274L 0.19859838011453165, 0.9800809575825274 L 0.2042739769569468, 0.9789137563331066 L 0.20994271534996364, 0.9777136882909455 \", \"type\": \"path\"}, {\"fillcolor\": \"#e6c4a9\", \"layer\": \"below\", \"line\": {\"color\": \"rgb(175,175,175)\", \"width\": 0.5}, \"path\": \"M 0.06412949758674315,0.9979415852339615 Q -0.10268053496812413, 0.1716295654561295 -0.9096597018979599, 0.41535433877945077L -0.9096597018979599, 0.41535433877945077 L -0.902026495510644, 0.4316806706314126 L -0.8941002974309445, 0.44786678614728337 M -0.8941002974309445,0.44786678614728337 Q -0.10281932759064327, 0.1715464539820278 0.02650695343818978, 0.9996486289789156L 0.02650695343818978, 0.9996486289789156 L 0.04532626240035188, 0.9989722368198299 L 0.06412949758674315, 0.9979415852339615 \", \"type\": \"path\"}, {\"fillcolor\": \"#e6c4a9\", \"layer\": \"below\", \"line\": {\"color\": \"rgb(175,175,175)\", \"width\": 0.5}, \"path\": \"M 0.22771197770727697,0.973728532604771 Q -0.10144722148909979, 0.1723614262302953 -0.9618474322927509, 0.2735863976732797L -0.9618474322927509, 0.2735863976732797 L -0.9611595282160463, 0.2759934081087937 L -0.9604656006378762, 0.278398688918112 M -0.9604656006378762,0.278398688918112 Q -0.10165769878293188, 0.17223737189750282 0.2204515274335154, 0.9753979311297671L 0.2204515274335154, 0.9753979311297671 L 0.22408330718257233, 0.9745699930954784 L 0.22771197770727697, 0.973728532604771 \", \"type\": \"path\"}, {\"fillcolor\": \"#e6c4a9\", \"layer\": \"below\", \"line\": {\"color\": \"rgb(175,175,175)\", \"width\": 0.5}, \"path\": \"M 0.23495978973182055,0.9720050911436517 Q -0.1075924309188383, 0.1685937982518189 -0.9805437860822563, 0.1963004930596824L -0.9805437860822563, 0.1963004930596824 L -0.9799228639161423, 0.1993769815560106 L -0.9792922891905554, 0.20245150612411217 M -0.9792922891905554,0.20245150612411217 Q -0.1076912817356237, 0.16853067328572124 0.22771197770727697, 0.973728532604771L 0.22771197770727697, 0.973728532604771 L 0.2313374886587171, 0.9728735613331663 L 0.23495978973182055, 0.9720050911436517 \", \"type\": \"path\"}, {\"fillcolor\": \"#e6c4a9\", \"layer\": \"below\", \"line\": {\"color\": \"rgb(175,175,175)\", \"width\": 0.5}, \"path\": \"M 0.2204515274335154,0.9753979311297671 Q -0.12369541510797935, 0.15716056846825377 -0.9998888089538195, 0.014912066554045372L -0.9998888089538195, 0.014912066554045372 L -0.9998062311487, 0.019685023653329265 L -0.9997008698206078, 0.024457532171503486 M -0.9997008698206078,0.024457532171503486 Q -0.12379076062988269, 0.15708547858626237 0.20994271534996364, 0.9777136882909455L 0.20994271534996364, 0.9777136882909455 L 0.21520023638021046, 0.9765699454017114 L 0.2204515274335154, 0.9753979311297671 \", \"type\": \"path\"}, {\"fillcolor\": \"#e6c4a9\", \"layer\": \"below\", \"line\": {\"color\": \"rgb(175,175,175)\", \"width\": 0.5}, \"path\": \"M 0.19859838011453165,0.9800809575825274 Q -0.14146700898970788, 0.14137568874281714 -0.9799525119960004, -0.19923120797889227L -0.9799525119960004, -0.19923120797889227 L -0.9812320480915376, -0.1928306713105732 L -0.9824697796961797, -0.18642191926847046 M -0.9824697796961797,-0.18642191926847046 Q -0.14156816726852436, 0.14127439264152264 0.18438063337068644, 0.9828549140324957L 0.18438063337068644, 0.9828549140324957 L 0.19149452968981723, 0.9814936806209583 L 0.19859838011453165, 0.9800809575825274 \", \"type\": \"path\"}, {\"fillcolor\": \"#e6c4a9\", \"layer\": \"below\", \"line\": {\"color\": \"rgb(175,175,175)\", \"width\": 0.5}, \"path\": \"M 0.18438063337068644,0.9828549140324957 Q -0.15610850024648623, 0.12502054291512582 -0.9188217250058108, -0.39467282356066286L -0.9188217250058108, -0.39467282356066286 L -0.9219075906519304, -0.387409853125024 L -0.9249360460642451, -0.3801227573969239 M -0.9249360460642451,-0.3801227573969239 Q -0.156234335438228, 0.1248632549238376 0.1668604616174037, 0.9859805202684417L 0.1668604616174037, 0.9859805202684417 L 0.17562750085249657, 0.9844566932802612 L 0.18438063337068644, 0.9828549140324957 \", \"type\": \"path\"}, {\"fillcolor\": \"#e6c4a9\", \"layer\": \"below\", \"line\": {\"color\": \"rgb(175,175,175)\", \"width\": 0.5}, \"path\": \"M 0.1668604616174037,0.9859805202684417 Q -0.1693865295493291, 0.1063400376492047 -0.8154862956060945, -0.5787763831382976L -0.8154862956060945, -0.5787763831382976 L -0.8205256804896732, -0.5716096637190091 L -0.8255020840643174, -0.5643990691040062 M -0.8255020840643174,-0.5643990691040062 Q -0.16940113517065863, 0.10631676915187108 0.14928744084548604, 0.9887938410031717L 0.14928744084548604, 0.9887938410031717 L 0.15808020986610033, 0.9874262743358057 L 0.1668604616174037, 0.9859805202684417 \", \"type\": \"path\"}, {\"fillcolor\": \"#e6c4a9\", \"layer\": \"below\", \"line\": {\"color\": \"rgb(175,175,175)\", \"width\": 0.5}, \"path\": \"M 0.09795472507324376,0.9951908720621513 Q -0.19357026011444012, 0.050304616082701585 -0.39897170517065245, -0.9169632372528476L -0.39897170517065245, -0.9169632372528476 L -0.4144782700899037, -0.9100592088558199 L -0.42986541587660393, -0.9028929749606175 M -0.42986541587660393,-0.9028929749606175 Q -0.1935700076757101, 0.05030558744737543 0.06412949758674315, 0.9979415852339615L 0.06412949758674315, 0.9979415852339615 L 0.08105378100102084, 0.9967097293522515 L 0.09795472507324376, 0.9951908720621513 \", \"type\": \"path\"}, {\"fillcolor\": \"#e6c4a9\", \"layer\": \"below\", \"line\": {\"color\": \"rgb(175,175,175)\", \"width\": 0.5}, \"path\": \"M 0.2510187647989263,0.9679822207658678 Q -0.19770246290823731, 0.030228069075232955 -0.04969049206084727, -0.9987646644724426L -0.04969049206084727, -0.9987646644724426 L -0.05127099073075749, -0.9986847778500915 L -0.052851360999756125, -0.9986023901636093 M -0.052851360999756125,-0.9986023901636093 Q -0.19772961182750567, 0.030049968494890847 0.24620809613593378, 0.9692169898413455L 0.24620809613593378, 0.9692169898413455 L 0.2486141970452434, 0.9686025918959482 L 0.2510187647989263, 0.9679822207658678 \", \"type\": \"path\"}, {\"fillcolor\": \"#e6c4a9\", \"layer\": \"below\", \"line\": {\"color\": \"rgb(175,175,175)\", \"width\": 0.5}, \"path\": \"M -0.01363630215419346,0.9999070213092613 Q -0.196828666105833, -0.03547500809018256 0.33631421087665464, -0.9417498349149912L 0.33631421087665464, -0.9417498349149912 L 0.30877195740636687, -0.9511360987363695 L 0.2809682736131547, -0.9597170568573028 M 0.2809682736131547,-0.9597170568573028 Q -0.19684049633050452, -0.035409306747811974 -0.07110659367846944, 0.997468722484793L -0.07110659367846944, 0.997468722484793 L -0.0423889835194916, 0.9991011831021842 L -0.01363630215419346, 0.9999070213092613 \", \"type\": \"path\"}, {\"fillcolor\": \"#e6c4a9\", \"layer\": \"below\", \"line\": {\"color\": \"rgb(175,175,175)\", \"width\": 0.5}, \"path\": \"M 0.02650695343818978,0.9996486289789156 Q -0.17808060362617045, -0.09103460118075309 0.8258134254650317, -0.563943424752617L 0.8258134254650317, -0.563943424752617 L 0.8145001939366843, -0.5801632822551801 L 0.8028684333861973, -0.5961562535711533 M 0.8028684333861973,-0.5961562535711533 Q -0.17805351258514968, -0.09108757684827254 -0.01363630215419346, 0.9999070213092613L -0.01363630215419346, 0.9999070213092613 L 0.006436622388151487, 0.999979284731555 L 0.02650695343818978, 0.9996486289789156 \", \"type\": \"path\"}, {\"fillcolor\": \"#e6c4a9\", \"layer\": \"below\", \"line\": {\"color\": \"rgb(175,175,175)\", \"width\": 0.5}, \"path\": \"M 0.14928744084548604,0.9887938410031717 Q -0.17227588024084245, -0.10159242632816146 0.9375372656375344, -0.3478848596028509L 0.9375372656375344, -0.3478848596028509 L 0.9344777587310436, -0.35602151400864185 L 0.9313476373329466, -0.36413126538974677 M 0.9313476373329466,-0.36413126538974677 Q -0.17217080263685963, -0.10177040198102559 0.1300258328767364, 0.9915106064912825L 0.1300258328767364, 0.9915106064912825 L 0.13966324292037485, 0.990199060076793 L 0.14928744084548604, 0.9887938410031717 \", \"type\": \"path\"}, {\"fillcolor\": \"#e6c4a9\", \"layer\": \"below\", \"line\": {\"color\": \"rgb(175,175,175)\", \"width\": 0.5}, \"path\": \"M 0.24058798177554308,0.9706273347815685 Q -0.17098654216793674, -0.10374778261462939 0.9720292608080651, -0.2348597797259604L 0.9720292608080651, -0.2348597797259604 L 0.9714504996004671, -0.23724233776036413 L 0.970865898472219, -0.23962346960122835 M 0.970865898472219,-0.23962346960122835 Q -0.17094032173672358, -0.10382392019445924 0.23495978973182055, 0.9720050911436517L 0.23495978973182055, 0.9720050911436517 L 0.23777488366005628, 0.9713202894516549 L 0.24058798177554308, 0.9706273347815685 \", \"type\": \"path\"}, {\"fillcolor\": \"#e6c4a9\", \"layer\": \"below\", \"line\": {\"color\": \"rgb(175,175,175)\", \"width\": 0.5}, \"path\": \"M 0.24620809613593378,0.9692169898413455 Q -0.16249283206671714, -0.11660222779577444 0.9970238393350671, -0.07709386355321919L 0.9970238393350671, -0.07709386355321919 L 0.9968613472112471, -0.07916725608594403 L 0.9966945433029462, -0.0812403061917644 M 0.9966945433029462,-0.0812403061917644 Q -0.16239746244912223, -0.11673501698327687 0.24058798177554308, 0.9706273347815685L 0.24058798177554308, 0.9706273347815685 L 0.2433990604659593, 0.9699262329498508 L 0.24620809613593378, 0.9692169898413455 \", \"type\": \"path\"}, {\"fillcolor\": \"#e1b396\", \"layer\": \"below\", \"line\": {\"color\": \"rgb(175,175,175)\", \"width\": 0.5}, \"path\": \"M -0.31333392658031783,0.94964301211232 Q -0.09993436167481788, 0.17324296048222765 -0.6651823336922952, 0.7466809646319317L -0.6651823336922952, 0.7466809646319317 L -0.6623521816100154, 0.7491926237733879 L -0.659512545841729, 0.7516935558306731 M -0.659512545841729,0.7516935558306731 Q -0.10019007372103544, 0.17309520249785518 -0.3233077875914901, 0.946293862646639L -0.3233077875914901, 0.946293862646639 L -0.31832526173151937, 0.9479815545376185 L -0.31333392658031783, 0.94964301211232 \", \"type\": \"path\"}, {\"fillcolor\": \"#e1b396\", \"layer\": \"below\", \"line\": {\"color\": \"rgb(175,175,175)\", \"width\": 0.5}, \"path\": \"M -0.36660224026446325,0.9303777713558492 Q -0.1160789539116419, 0.16286705148303915 -0.7598435349475963, 0.6501059932029093L -0.7598435349475963, 0.6501059932029093 L -0.7560053833594749, 0.6545653980554529 L -0.7521410606043596, 0.6590021433599053 M -0.7521410606043596,0.6590021433599053 Q -0.11620810816138263, 0.16277492312255104 -0.378993295988995, 0.9253994173303752L -0.378993295988995, 0.9253994173303752 L -0.37280607817264894, 0.9279092779348252 L -0.36660224026446325, 0.9303777713558492 \", \"type\": \"path\"}, {\"fillcolor\": \"#e1b396\", \"layer\": \"below\", \"line\": {\"color\": \"rgb(175,175,175)\", \"width\": 0.5}, \"path\": \"M -0.4651496802820306,0.8852320458125794 Q -0.15134516459098163, 0.1307464766444155 -0.9434131522108284, 0.33161969820206433L -0.9434131522108284, 0.33161969820206433 L -0.9354761895345939, 0.35338972652559747 L -0.9270369420865472, 0.3749700094765231 M -0.9270369420865472,0.3749700094765231 Q -0.15141057775882846, 0.130670719530956 -0.5065244641478004, 0.8622255895180702L -0.5065244641478004, 0.8622255895180702 L -0.4859732348557572, 0.8739736923980213 L -0.4651496802820306, 0.8852320458125794 \", \"type\": \"path\"}, {\"fillcolor\": \"#e1b396\", \"layer\": \"below\", \"line\": {\"color\": \"rgb(175,175,175)\", \"width\": 0.5}, \"path\": \"M -0.28359674334442087,0.9589436308586854 Q -0.14058243548029875, 0.14225532972239616 -0.9555218896140154, 0.29492018999800845L -0.9555218896140154, 0.29492018999800845 L -0.9552754578035718, 0.29571743221896185 L -0.9550283608120953, 0.2965144685248298 M -0.9550283608120953,0.2965144685248298 Q -0.14063641478451863, 0.1422019649532201 -0.2859241915930723, 0.9582522406244861L -0.2859241915930723, 0.9582522406244861 L -0.2847606773031225, 0.9585986421135109 L -0.28359674334442087, 0.9589436308586854 \", \"type\": \"path\"}, {\"fillcolor\": \"#e1b396\", \"layer\": \"below\", \"line\": {\"color\": \"rgb(175,175,175)\", \"width\": 0.5}, \"path\": \"M -0.33324586014229235,0.9428399634604081 Q -0.15490270827319064, 0.12651146576350622 -0.9904036065074718, 0.13820526841257852L -0.9904036065074718, 0.13820526841257852 L -0.9897419927886321, 0.14286632812103553 L -0.9890584432098448, 0.14752422145301491 M -0.9890584432098448,0.14752422145301491 Q -0.15499819878072327, 0.12639445547464256 -0.3435271073442049, 0.9391427615222955L -0.3435271073442049, 0.9391427615222955 L -0.3383915331471263, 0.9410054039665964 L -0.33324586014229235, 0.9428399634604081 \", \"type\": \"path\"}, {\"fillcolor\": \"#e1b396\", \"layer\": \"below\", \"line\": {\"color\": \"rgb(175,175,175)\", \"width\": 0.5}, \"path\": \"M -0.2959901474360482,0.9551909927447947 Q -0.15902228481748207, 0.12129267468164602 -0.9994586561235147, 0.032899767473006616L -0.9994586561235147, 0.032899767473006616 L -0.9993311081782275, 0.03656960797268483 L -0.9991900852545046, 0.0402389553678502 M -0.9991900852545046,0.0402389553678502 Q -0.1590677048508454, 0.12123310304320492 -0.30371095318760405, 0.952764218951298L -0.30371095318760405, 0.952764218951298 L -0.2998530053710755, 0.953985416644266 L -0.2959901474360482, 0.9551909927447947 \", \"type\": \"path\"}, {\"fillcolor\": \"#e1b396\", \"layer\": \"below\", \"line\": {\"color\": \"rgb(175,175,175)\", \"width\": 0.5}, \"path\": \"M -0.28979951960682465,0.957087372414689 Q -0.16900209401157204, 0.10694995193876328 -0.9890154469493873, -0.14781219738405835L -0.9890154469493873, -0.14781219738405835 L -0.9894520942658221, -0.1448604609718558 L -0.989879932085847, -0.14190743480776094 M -0.989879932085847,-0.14190743480776094 Q -0.16902919337049255, 0.1069071175765236 -0.2959901474360482, 0.9551909927447947L -0.2959901474360482, 0.9551909927447947 L -0.29289636830714216, 0.9561441928038297 L -0.28979951960682465, 0.957087372414689 \", \"type\": \"path\"}, {\"fillcolor\": \"#e1b396\", \"layer\": \"below\", \"line\": {\"color\": \"rgb(175,175,175)\", \"width\": 0.5}, \"path\": \"M -0.354524217834395,0.9350468325003355 Q -0.18295564236120007, 0.08079129240333183 -0.9298778883367324, -0.3678683362052508L -0.9298778883367324, -0.3678683362052508 L -0.9320222006453448, -0.3624011830888643 L -0.9341343695228462, -0.3569215315390128 M -0.9341343695228462,-0.3569215315390128 Q -0.18300424102393315, 0.08068114877252422 -0.36660224026446325, 0.9303777713558492L -0.36660224026446325, 0.9303777713558492 L -0.3605707866363328, 0.9327318520477663 L -0.354524217834395, 0.9350468325003355 \", \"type\": \"path\"}, {\"fillcolor\": \"#e1b396\", \"layer\": \"below\", \"line\": {\"color\": \"rgb(175,175,175)\", \"width\": 0.5}, \"path\": \"M -0.30371095318760405,0.952764218951298 Q -0.188617840366066, 0.0665079716698777 -0.8341423877655912, -0.5515491609391842L -0.8341423877655912, -0.5515491609391842 L -0.8369409760707991, -0.5472931596262263 L -0.8397178494036627, -0.5430229584399611 M -0.8397178494036627,-0.5430229584399611 Q -0.18861548445831788, 0.06651465269062187 -0.31333392658031783, 0.94964301211232L -0.31333392658031783, 0.94964301211232 L -0.3085263868698838, 0.9512157844595593 L -0.30371095318760405, 0.952764218951298 \", \"type\": \"path\"}, {\"fillcolor\": \"#e1b396\", \"layer\": \"below\", \"line\": {\"color\": \"rgb(175,175,175)\", \"width\": 0.5}, \"path\": \"M -0.378993295988995,0.9253994173303752 Q -0.19962876726597378, 0.012180118220595625 -0.48868753919669117, -0.8724588752679878L -0.48868753919669117, -0.8724588752679878 L -0.4962542555426146, -0.8681772364303532 L -0.5037834612067765, -0.8638299741352579 M -0.5037834612067765,-0.8638299741352579 Q -0.19962637311466422, 0.012219294459373427 -0.39466569739029145, 0.9188247859648949L -0.39466569739029145, 0.9188247859648949 L -0.3868434644059025, 0.9221453974544574 L -0.378993295988995, 0.9253994173303752 \", \"type\": \"path\"}, {\"fillcolor\": \"#e1b396\", \"layer\": \"below\", \"line\": {\"color\": \"rgb(175,175,175)\", \"width\": 0.5}, \"path\": \"M -0.2859241915930723,0.9582522406244861 Q -0.19859629707200963, -0.023653980411045092 -0.052851360999756125, -0.9986023901636093L -0.052851360999756125, -0.9986023901636093 L -0.05416823528451572, -0.9985318233717748 L -0.0554850153632631, -0.9984595199957474 M -0.0554850153632631,-0.9984595199957474 Q -0.19857958249794025, -0.023793894488791663 -0.28979951960682465, 0.957087372414689L -0.28979951960682465, 0.957087372414689 L -0.2878624448220575, 0.9576717667661858 L -0.2859241915930723, 0.9582522406244861 \", \"type\": \"path\"}, {\"fillcolor\": \"#e1b396\", \"layer\": \"below\", \"line\": {\"color\": \"rgb(175,175,175)\", \"width\": 0.5}, \"path\": \"M -0.4377093326898257,0.8991165330902483 Q -0.18894996569035186, -0.065558450756671 0.21323227233099715, -0.977001534306144L 0.21323227233099715, -0.977001534306144 L 0.19766173937914203, -0.9802702876174572 L 0.18204117305349465, -0.9832909087921579 M 0.18204117305349465,-0.9832909087921579 Q -0.1889848792562513, -0.06545773760603192 -0.4651496802820306, 0.8852320458125794L -0.4651496802820306, 0.8852320458125794 L -0.45148288347718074, 0.8922797800730051 L -0.4377093326898257, 0.8991165330902483 \", \"type\": \"path\"}, {\"fillcolor\": \"#e1b396\", \"layer\": \"below\", \"line\": {\"color\": \"rgb(175,175,175)\", \"width\": 0.5}, \"path\": \"M -0.39466569739029145,0.9188247859648949 Q -0.16383866916414314, -0.11470348942609576 0.7283305730995804, -0.6852259308348136L 0.7283305730995804, -0.6852259308348136 L 0.7208840711475176, -0.6930556658492741 L 0.7133534022735654, -0.7008044830512493 M 0.7133534022735654,-0.7008044830512493 Q -0.16384805679467648, -0.1146900792771915 -0.41427952026135817, 0.910149701473345L -0.41427952026135817, 0.910149701473345 L -0.4044958659406824, 0.9145398265996388 L -0.39466569739029145, 0.9188247859648949 \", \"type\": \"path\"}, {\"fillcolor\": \"#e1b396\", \"layer\": \"below\", \"line\": {\"color\": \"rgb(175,175,175)\", \"width\": 0.5}, \"path\": \"M -0.3435271073442049,0.9391427615222955 Q -0.14530401782701366, -0.1374290449771332 0.9185650253333475, -0.3952699004912297L 0.9185650253333475, -0.3952699004912297 L 0.9164317157983822, -0.40019109220325394 L 0.9142720413134321, -0.4051007707627449 M 0.9142720413134321,-0.4051007707627449 Q -0.14523474874909578, -0.13750224636633043 -0.354524217834395, 0.9350468325003355L -0.354524217834395, 0.9350468325003355 L -0.3490316709190416, 0.9371109287034602 L -0.3435271073442049, 0.9391427615222955 \", \"type\": \"path\"}, {\"fillcolor\": \"#e1b396\", \"layer\": \"below\", \"line\": {\"color\": \"rgb(175,175,175)\", \"width\": 0.5}, \"path\": \"M -0.3233077875914901,0.946293862646639 Q -0.13243792943265253, -0.14986725742333362 0.9788772066918927, -0.20444905042351616L 0.9788772066918927, -0.20444905042351616 L 0.9779361178387971, -0.2089041632576585 L 0.9769747527725481, -0.21335494474002373 M 0.9769747527725481,-0.21335494474002373 Q -0.132331914251838, -0.1499608764659776 -0.33324586014229235, 0.9428399634604081L -0.33324586014229235, 0.9428399634604081 L -0.32828136627446763, 0.9445799831443438 L -0.3233077875914901, 0.946293862646639 \", \"type\": \"path\"}, {\"fillcolor\": \"#e1b396\", \"layer\": \"below\", \"line\": {\"color\": \"rgb(175,175,175)\", \"width\": 0.5}, \"path\": \"M -0.28165592547530316,0.9595154712898852 Q -0.12721395290467105, -0.1543263107391871 0.9956310004480282, -0.09337510881845607L 0.9956310004480282, -0.09337510881845607 L 0.9955613697636861, -0.0941146058497455 L 0.995491189823864, -0.09485405095760299 M 0.995491189823864,-0.09485405095760299 Q -0.12717245209280417, -0.15436051123491212 -0.28359674334442087, 0.9589436308586854L -0.28359674334442087, 0.9589436308586854 L -0.28262647903606775, 0.9592300419334641 L -0.28165592547530316, 0.9595154712898852 \", \"type\": \"path\"}, {\"fillcolor\": \"#dba284\", \"layer\": \"below\", \"line\": {\"color\": \"rgb(175,175,175)\", \"width\": 0.5}, \"path\": \"M -0.6712456446229746,0.7412349725793348 Q -0.14426596630754587, 0.13851834162070395 -0.7678978291354367, 0.6405723409647686L -0.7678978291354367, 0.6405723409647686 L -0.7638855552462168, 0.6453517323802417 L -0.7598435349475963, 0.6501059932029093 M -0.7598435349475963,0.6501059932029093 Q -0.14410705889791778, 0.13868365287874437 -0.6787620375060328, 0.734358288875845L -0.6787620375060328, 0.734358288875845 L -0.6750125981391186, 0.7378062024363016 L -0.6712456446229746, 0.7412349725793348 \", \"type\": \"path\"}, {\"fillcolor\": \"#dba284\", \"layer\": \"below\", \"line\": {\"color\": \"rgb(175,175,175)\", \"width\": 0.5}, \"path\": \"M -0.6487247667835314,0.7610231119760115 Q -0.15034949021504296, 0.13189022250370458 -0.8390356518499733, 0.5440764421702987L -0.8390356518499733, 0.5440764421702987 L -0.8364400334759091, 0.5480584552753657 L -0.8338255168575146, 0.5520280857323281 M -0.8338255168575146,0.5520280857323281 Q -0.15018313441165673, 0.13207962045028085 -0.6540252020487661, 0.7564727589841359L -0.6540252020487661, 0.7564727589841359 L -0.6513789578664833, 0.7587525639157829 L -0.6487247667835314, 0.7610231119760115 \", \"type\": \"path\"}, {\"fillcolor\": \"#dba284\", \"layer\": \"below\", \"line\": {\"color\": \"rgb(175,175,175)\", \"width\": 0.5}, \"path\": \"M -0.6651823336922952,0.7466809646319317 Q -0.1768443169706343, 0.09341352982940869 -0.9917058494950922, 0.1285282384428321L -0.9917058494950922, 0.1285282384428321 L -0.9910665391995404, 0.13336834286683624 L -0.9904036065074718, 0.13820526841257852 M -0.9904036065074718,0.13820526841257852 Q -0.17676886201731967, 0.09355623667667379 -0.6712456446229746, 0.7412349725793348L -0.6712456446229746, 0.7412349725793348 L -0.6682195372879478, 0.7439641456324901 L -0.6651823336922952, 0.7466809646319317 \", \"type\": \"path\"}, {\"fillcolor\": \"#dba284\", \"layer\": \"below\", \"line\": {\"color\": \"rgb(175,175,175)\", \"width\": 0.5}, \"path\": \"M -0.6321836060109189,0.7748186163812995 Q -0.17773262808756202, 0.09171211977208009 -0.9978015395123204, 0.06627282811864418L -0.9978015395123204, 0.06627282811864418 L -0.9977648844982021, 0.0668224158669031 L -0.9977279267719131, 0.06737198334189035 M -0.9977279267719131,0.06737198334189035 Q -0.17772215338775627, 0.09173241627265054 -0.6328599498103527, 0.7742662874786929L -0.6328599498103527, 0.7742662874786929 L -0.6325218381985209, 0.7745425257543734 L -0.6321836060109189, 0.7748186163812995 \", \"type\": \"path\"}, {\"fillcolor\": \"#dba284\", \"layer\": \"below\", \"line\": {\"color\": \"rgb(175,175,175)\", \"width\": 0.5}, \"path\": \"M -0.6328599498103527,0.7742662874786929 Q -0.18580383172915313, 0.07400632482946683 -0.991886848164384, -0.12712387831766406L -0.991886848164384, -0.12712387831766406 L -0.9920049543577103, -0.12619893236377674 L -0.992122198028431, -0.12527387668318793 M -0.992122198028431,-0.12527387668318793 Q -0.18578867318721587, 0.0740443712603051 -0.6339861168640767, 0.7733444275506285L -0.6339861168640767, 0.7733444275506285 L -0.6334232010422022, 0.7738055623872511 L -0.6328599498103527, 0.7742662874786929 \", \"type\": \"path\"}, {\"fillcolor\": \"#dba284\", \"layer\": \"below\", \"line\": {\"color\": \"rgb(175,175,175)\", \"width\": 0.5}, \"path\": \"M -0.6351109410857796,0.7724209296187768 Q -0.19683485113062926, 0.03544067409605827 -0.8646435279871946, -0.5023858771003196L -0.8646435279871946, -0.5023858771003196 L -0.8652570415017038, -0.5013284872533367 L -0.8658692619136866, -0.5002703481849065 M -0.8658692619136866,-0.5002703481849065 Q -0.19682246079759735, 0.035509420237146275 -0.6364589542592449, 0.7713105726899044L -0.6364589542592449, 0.7713105726899044 L -0.6357851900682076, 0.7718660454314163 L -0.6351109410857796, 0.7724209296187768 \", \"type\": \"path\"}, {\"fillcolor\": \"#dba284\", \"layer\": \"below\", \"line\": {\"color\": \"rgb(175,175,175)\", \"width\": 0.5}, \"path\": \"M -0.6339861168640767,0.7733444275506285 Q -0.19986058741588297, -0.007466297461138237 -0.5745190732998395, -0.8184911938528683L -0.5745190732998395, -0.8184911938528683 L -0.5753659176320882, -0.8178961186039369 L -0.5762121455979159, -0.8173001671757116 M -0.5762121455979159,-0.8173001671757116 Q -0.19986287263837643, -0.0074048727697463195 -0.6351109410857796, 0.7724209296187768L -0.6351109410857796, 0.7724209296187768 L -0.6345486969779014, 0.772882883213005 L -0.6339861168640767, 0.7733444275506285 \", \"type\": \"path\"}, {\"fillcolor\": \"#dba284\", \"layer\": \"below\", \"line\": {\"color\": \"rgb(175,175,175)\", \"width\": 0.5}, \"path\": \"M -0.638925267001568,0.7692688107462664 Q -0.18751670516794353, -0.0695520329175111 0.017260967085086502, -0.9998510184098867L 0.017260967085086502, -0.9998510184098867 L 0.014749166969917628, -0.9998912251208596 L 0.012237273776348933, -0.9999251217618861 M 0.012237273776348933,-0.9999251217618861 Q -0.18756990536803156, -0.06940843320683507 -0.6416083189459789, 0.7670324406824752L -0.6416083189459789, 0.7670324406824752 L -0.6402677693923742, 0.7681517971581616 L -0.638925267001568, 0.7692688107462664 \", \"type\": \"path\"}, {\"fillcolor\": \"#dba284\", \"layer\": \"below\", \"line\": {\"color\": \"rgb(175,175,175)\", \"width\": 0.5}, \"path\": \"M -0.6416083189459789,0.7670324406824752 Q -0.15375766338603644, -0.12790066829405666 0.6373935587462904, -0.7705384164782046L 0.6373935587462904, -0.7705384164782046 L 0.6355065296722923, -0.7720954932803843 L 0.6336156968585499, -0.7736479488077599 M 0.6336156968585499,-0.7736479488077599 Q -0.15384716476983593, -0.1277929962567705 -0.6442835431926766, 0.7647867127317854L -0.6442835431926766, 0.7647867127317854 L -0.6429469115736632, 0.7659107447332804 L -0.6416083189459789, 0.7670324406824752 \", \"type\": \"path\"}, {\"fillcolor\": \"#dba284\", \"layer\": \"below\", \"line\": {\"color\": \"rgb(175,175,175)\", \"width\": 0.5}, \"path\": \"M -0.6442835431926766,0.7647867127317854 Q -0.10406598562340547, -0.170793063782547 0.9750690580604598, -0.22190162688247134L 0.9750690580604598, -0.22190162688247134 L 0.974285837373991, -0.22531557223694304 L 0.9734906637031073, -0.22872675331688572 M 0.9734906637031073,-0.22872675331688572 Q -0.10416706214774825, -0.17073143578002017 -0.6487247667835314, 0.7610231119760115L -0.6487247667835314, 0.7610231119760115 L -0.6465068936906586, 0.7629081441500382 L -0.6442835431926766, 0.7647867127317854 \", \"type\": \"path\"}, {\"fillcolor\": \"#d59171\", \"layer\": \"below\", \"line\": {\"color\": \"rgb(175,175,175)\", \"width\": 0.5}, \"path\": \"M -0.7381111183711071,0.6746791659277419 Q -0.16024333989952688, 0.11967485958982656 -0.8564665533958724, 0.516202521220301L -0.8564665533958724, 0.516202521220301 L -0.8534876074542516, 0.5211131392720945 L -0.850480506417142, 0.5260065666932702 M -0.850480506417142,0.5260065666932702 Q -0.16017473555352257, 0.1197666651884368 -0.7450484059330424, 0.6670103993316989L -0.7450484059330424, 0.6670103993316989 L -0.7415896750419358, 0.6708537499866838 L -0.7381111183711071, 0.6746791659277419 \", \"type\": \"path\"}, {\"fillcolor\": \"#d59171\", \"layer\": \"below\", \"line\": {\"color\": \"rgb(175,175,175)\", \"width\": 0.5}, \"path\": \"M -0.7678978291354367,0.6405723409647686 Q -0.18382716079854114, 0.0787881650550849 -0.9934420848768006, 0.11433645086163731L -0.9934420848768006, 0.11433645086163731 L -0.9925993310716745, 0.12143544769162046 L -0.9917058494950922, 0.1285282384428321 M -0.9917058494950922,0.1285282384428321 Q -0.18383985729567734, 0.07875853521685755 -0.7771806456856462, 0.6292775571809646L -0.7771806456856462, 0.6292775571809646 L -0.7725598788275518, 0.6349419135841943 L -0.7678978291354367, 0.6405723409647686 \", \"type\": \"path\"}, {\"fillcolor\": \"#d59171\", \"layer\": \"below\", \"line\": {\"color\": \"rgb(175,175,175)\", \"width\": 0.5}, \"path\": \"M -0.7020019442221809,0.7121750278606223 Q -0.18188427320087597, 0.08317518357171882 -0.9978739413596532, 0.0651735924692758L -0.9978739413596532, 0.0651735924692758 L -0.9978378918031471, 0.06572322026385319 L -0.9978015395123204, 0.06627282811864418 M -0.9978015395123204,0.06627282811864418 Q -0.18188294837011237, 0.08317808059936849 -0.7027633999496441, 0.7114236457211811L -0.7027633999496441, 0.7114236457211811 L -0.7023827725608925, 0.7117994386129238 L -0.7020019442221809, 0.7121750278606223 \", \"type\": \"path\"}, {\"fillcolor\": \"#d59171\", \"layer\": \"below\", \"line\": {\"color\": \"rgb(175,175,175)\", \"width\": 0.5}, \"path\": \"M -0.7065585976606253,0.7076545400630526 Q -0.1903208768880757, 0.06146514313457621 -0.9870016333196894, -0.1607102231479548L -0.9870016333196894, -0.1607102231479548 L -0.9875355501052099, -0.15739611583009475 L -0.9880583389703709, -0.15408023491386486 M -0.9880583389703709,-0.15408023491386486 Q -0.19031180523579552, 0.06149322554471051 -0.7110861423682758, 0.703104898384163L -0.7110861423682758, 0.703104898384163 L -0.7088260202918303, 0.7053833517721025 L -0.7065585976606253, 0.7076545400630526 \", \"type\": \"path\"}, {\"fillcolor\": \"#d59171\", \"layer\": \"below\", \"line\": {\"color\": \"rgb(175,175,175)\", \"width\": 0.5}, \"path\": \"M -0.7017479470779753,0.7124253075037742 Q -0.19470180266961934, 0.045729728155769866 -0.9455325534760096, -0.32552755692435176L -0.9455325534760096, -0.32552755692435176 L -0.9455922784023958, -0.3253540272161481 L -0.9456519714815872, -0.32518048655014237 M -0.9456519714815872,-0.32518048655014237 Q -0.19470156366121927, 0.04573074576120737 -0.7020019442221809, 0.7121750278606223L -0.7020019442221809, 0.7121750278606223 L -0.7018749568058936, 0.7123001790037153 L -0.7017479470779753, 0.7124253075037742 \", \"type\": \"path\"}, {\"fillcolor\": \"#d59171\", \"layer\": \"below\", \"line\": {\"color\": \"rgb(175,175,175)\", \"width\": 0.5}, \"path\": \"M -0.7040307052091367,0.7101695333670163 Q -0.19840457935249348, 0.025211562663986525 -0.8592723813425142, -0.5115183033499044L -0.8592723813425142, -0.5115183033499044 L -0.860312803775876, -0.5097664952302092 L -0.8613496547836382, -0.5080125709114954 M -0.8613496547836382,-0.5080125709114954 Q -0.19839815555564091, 0.025262063892716864 -0.7065585976606253, 0.7076545400630526L -0.7065585976606253, 0.7076545400630526 L -0.705295772453288, 0.7089131634830318 L -0.7040307052091367, 0.7101695333670163 \", \"type\": \"path\"}, {\"fillcolor\": \"#d59171\", \"layer\": \"below\", \"line\": {\"color\": \"rgb(175,175,175)\", \"width\": 0.5}, \"path\": \"M -0.7110861423682758,0.703104898384163 Q -0.19874521049567517, -0.0223683102855307 -0.5370108892160622, -0.8435753107241666L -0.5370108892160622, -0.8435753107241666 L -0.5415432859822574, -0.8406728670580126 L -0.546059995972568, -0.8377460717893215 M -0.546059995972568,-0.8377460717893215 Q -0.19876185203677837, -0.022219949930407715 -0.7175741618694667, 0.696482104735888L -0.7175741618694667, 0.696482104735888 L -0.7143378273443853, 0.6998010205943567 L -0.7110861423682758, 0.703104898384163 \", \"type\": \"path\"}, {\"fillcolor\": \"#d59171\", \"layer\": \"below\", \"line\": {\"color\": \"rgb(175,175,175)\", \"width\": 0.5}, \"path\": \"M -0.7450484059330424,0.6670103993316989 Q -0.1795695131378423, -0.08806128520205846 0.07121213331466922, -0.997461193264567L 0.07121213331466922, -0.997461193264567 L 0.06494640821975617, -0.9978887533484646 L 0.058678121500908106, -0.9982769545858127 M 0.058678121500908106,-0.9982769545858127 Q -0.17965146412979133, -0.08789397838317653 -0.7521410606043596, 0.6590021433599053L -0.7521410606043596, 0.6590021433599053 L -0.7486054419509419, 0.6630157556811413 L -0.7450484059330424, 0.6670103993316989 \", \"type\": \"path\"}, {\"fillcolor\": \"#d59171\", \"layer\": \"below\", \"line\": {\"color\": \"rgb(175,175,175)\", \"width\": 0.5}, \"path\": \"M -0.7310949002030361,0.6822757850730983 Q -0.1430996711718275, -0.1397228832744116 0.6646258189019397, -0.747176365290636L 0.6646258189019397, -0.747176365290636 L 0.6601966385904798, -0.7510928027839379 L 0.6557443803655231, -0.7549829849864407 M 0.6557443803655231,-0.7549829849864407 Q -0.1432032871580205, -0.1396166843437328 -0.7381111183711071, 0.6746791659277419L -0.7381111183711071, 0.6746791659277419 L -0.7346128289168596, 0.6784865448855774 L -0.7310949002030361, 0.6822757850730983 \", \"type\": \"path\"}, {\"fillcolor\": \"#d59171\", \"layer\": \"below\", \"line\": {\"color\": \"rgb(175,175,175)\", \"width\": 0.5}, \"path\": \"M -0.701493860703396,0.7126754965588787 Q -0.11653687792728284, -0.16253970617348112 0.9001202558730612, -0.4356415096923328L 0.9001202558730612, -0.4356415096923328 L 0.900039666426995, -0.4358079839309781 L 0.8999590461920743, -0.4359744432613588 M 0.8999590461920743,-0.4359744432613588 Q -0.11653796065529201, -0.16253892987929264 -0.7017479470779753, 0.7124253075037742L -0.7017479470779753, 0.7124253075037742 L -0.7016209150424634, 0.7125504133568209 L -0.701493860703396, 0.7126754965588787 \", \"type\": \"path\"}, {\"fillcolor\": \"#d59171\", \"layer\": \"below\", \"line\": {\"color\": \"rgb(175,175,175)\", \"width\": 0.5}, \"path\": \"M -0.7175741618694667,0.696482104735888 Q -0.09296970027270095, -0.17707804728764137 0.9807669037125883, -0.19518268514912473L 0.9807669037125883, -0.19518268514912473 L 0.9798330093654184, -0.19981810167727 L 0.9788772066918927, -0.20444905042351616 M 0.9788772066918927,-0.20444905042351616 Q -0.0929545833441889, -0.17708598317006416 -0.7242464293505595, 0.6895412312349168L -0.7242464293505595, 0.6895412312349168 L -0.720918648841709, 0.6930196979539938 L -0.7175741618694667, 0.696482104735888 \", \"type\": \"path\"}, {\"fillcolor\": \"#d0805f\", \"layer\": \"below\", \"line\": {\"color\": \"rgb(175,175,175)\", \"width\": 0.5}, \"path\": \"M -0.8213763096452631,0.570386674067276 Q -0.18056072598195147, 0.08601060535114635 -0.9604656006378762, 0.278398688918112L -0.9604656006378762, 0.278398688918112 L -0.9598046976719662, 0.2806687412713173 L -0.9591384294645825, 0.28293722470578875 M -0.9591384294645825,0.28293722470578875 Q -0.1806468699090032, 0.08582953100232857 -0.8251985386737758, 0.564842785003637L -0.8251985386737758, 0.564842785003637 L -0.8232920906067932, 0.5676179468130793 L -0.8213763096452631, 0.570386674067276 \", \"type\": \"path\"}, {\"fillcolor\": \"#d0805f\", \"layer\": \"below\", \"line\": {\"color\": \"rgb(175,175,175)\", \"width\": 0.5}, \"path\": \"M -0.8390356518499733,0.5440764421702987 Q -0.1870609976491194, 0.07076851813141312 -0.9890584432098448, 0.14752422145301491L -0.9890584432098448, 0.14752422145301491 L -0.9883794921733171, 0.15200651121322314 L -0.9876802280642534, 0.15648567695142093 M -0.9876802280642534,0.15648567695142093 Q -0.1871045532213254, 0.07065328133815311 -0.8445943813573806, 0.5354066968011733L -0.8445943813573806, 0.5354066968011733 L -0.8418261776047596, 0.5397487255189767 L -0.8390356518499733, 0.5440764421702987 \", \"type\": \"path\"}, {\"fillcolor\": \"#d0805f\", \"layer\": \"below\", \"line\": {\"color\": \"rgb(175,175,175)\", \"width\": 0.5}, \"path\": \"M -0.818200618243244,0.5749328206898379 Q -0.1892166080567631, 0.06478483800622868 -0.9988850250906501, 0.04720917971805156L -0.9988850250906501, 0.04720917971805156 L -0.998760376920748, 0.04977659583705261 L -0.998629129778543, 0.052343683073987034 M -0.998629129778543,0.052343683073987034 Q -0.1892297106706427, 0.06474655666137666 -0.8213763096452631, 0.570386674067276L -0.8213763096452631, 0.570386674067276 L -0.8197916152769297, 0.5726619487286043 L -0.818200618243244, 0.5749328206898379 \", \"type\": \"path\"}, {\"fillcolor\": \"#d0805f\", \"layer\": \"below\", \"line\": {\"color\": \"rgb(175,175,175)\", \"width\": 0.5}, \"path\": \"M -0.8149997651553538,0.5794612867109573 Q -0.19424615336285575, 0.04762805794627707 -0.9906074390070018, -0.13673661464285775L -0.9906074390070018, -0.13673661464285775 L -0.9909610647246653, -0.13414979761355503 L -0.9913079353843081, -0.13156206612888302 M -0.9913079353843081,-0.13156206612888302 Q -0.19425386047006307, 0.04759661429636854 -0.818200618243244, 0.5749328206898379L -0.818200618243244, 0.5749328206898379 L -0.8166033307760002, 0.5771992724922151 L -0.8149997651553538, 0.5794612867109573 \", \"type\": \"path\"}, {\"fillcolor\": \"#d0805f\", \"layer\": \"below\", \"line\": {\"color\": \"rgb(175,175,175)\", \"width\": 0.5}, \"path\": \"M -0.812928832733106,0.5823630421920589 Q -0.19807169389495627, 0.02770566869040968 -0.9415203958687353, -0.3369559973693599L -0.9415203958687353, -0.3369559973693599 L -0.9420756551392041, -0.3354004472180074 L -0.9426283443810008, -0.3338439820777564 M -0.9426283443810008,-0.3338439820777564 Q -0.19807531611560195, 0.027679760578884372 -0.8149997651553538, 0.5794612867109573L -0.8149997651553538, 0.5794612867109573 L -0.8139655920258482, 0.5809130873013713 L -0.812928832733106, 0.5823630421920589 \", \"type\": \"path\"}, {\"fillcolor\": \"#d0805f\", \"layer\": \"below\", \"line\": {\"color\": \"rgb(175,175,175)\", \"width\": 0.5}, \"path\": \"M -0.8564665533958724,0.516202521220301 Q -0.19991794052588452, -0.005728617275478571 -0.8255020840643174, -0.5643990691040062L -0.8255020840643174, -0.5643990691040062 L -0.8298471083602421, -0.5579908393030701 L -0.8341423877655912, -0.5515491609391842 M -0.8341423877655912,-0.5515491609391842 Q -0.19991917540168733, -0.00568535897805812 -0.8641391531866899, 0.5032529422962081L -0.8641391531866899, 0.5032529422962081 L -0.8603272181441763, 0.5097421678851993 L -0.8564665533958724, 0.516202521220301 \", \"type\": \"path\"}, {\"fillcolor\": \"#d0805f\", \"layer\": \"below\", \"line\": {\"color\": \"rgb(175,175,175)\", \"width\": 0.5}, \"path\": \"M -0.8718100723152036,0.48984405458243496 Q -0.19140516539660582, -0.05800054016557063 -0.45326617590301216, -0.8913752149248148L -0.45326617590301216, -0.8913752149248148 L -0.462834650888039, -0.8864446321893698 L -0.47234949890694744, -0.8814113403413616 M -0.47234949890694744,-0.8814113403413616 Q -0.19143213779439783, -0.05791145499352173 -0.881714022109833, 0.4717842549459456L -0.881714022109833, 0.4717842549459456 L -0.8768085461051424, 0.4808396546427784 L -0.8718100723152036, 0.48984405458243496 \", \"type\": \"path\"}, {\"fillcolor\": \"#d0805f\", \"layer\": \"below\", \"line\": {\"color\": \"rgb(175,175,175)\", \"width\": 0.5}, \"path\": \"M -0.8115424697834299,0.5842934363295644 Q -0.18080691559233975, -0.08549186671248057 -0.06338358927800689, -0.9979892387246653L -0.06338358927800689, -0.9979892387246653 L -0.06417323656719456, -0.9979387735269588 L -0.06496284367818857, -0.9978876835301873 M -0.06496284367818857,-0.9978876835301873 Q -0.18077295571124347, -0.08556365164847052 -0.812928832733106, 0.5823630421920589L -0.812928832733106, 0.5823630421920589 L -0.8122362247402687, 0.5833286511218833 L -0.8115424697834299, 0.5842934363295644 \", \"type\": \"path\"}, {\"fillcolor\": \"#d0805f\", \"layer\": \"below\", \"line\": {\"color\": \"rgb(175,175,175)\", \"width\": 0.5}, \"path\": \"M -0.881714022109833,0.4717842549459456 Q -0.16145543743813903, -0.11803449377897623 0.18204117305349465, -0.9832909087921579L 0.18204117305349465, -0.9832909087921579 L 0.16802570002112457, -0.98578261504878 L 0.15397617791067109, -0.9880745602615327 M 0.15397617791067109,-0.9880745602615327 Q -0.1615460077693666, -0.11791050578205385 -0.8941002974309445, 0.44786678614728337L -0.8941002974309445, 0.44786678614728337 L -0.8879876889349044, 0.4598672246421215 L -0.881714022109833, 0.4717842549459456 \", \"type\": \"path\"}, {\"fillcolor\": \"#d0805f\", \"layer\": \"below\", \"line\": {\"color\": \"rgb(175,175,175)\", \"width\": 0.5}, \"path\": \"M -0.8641391531866899,0.5032529422962081 Q -0.12433858241667978, -0.15665221646248909 0.6862718880369496, -0.7273451008222992L 0.6862718880369496, -0.7273451008222992 L 0.6804670403712483, -0.7327786889425715 L 0.6746191734865188, -0.7381659506942638 M 0.6746191734865188,-0.7381659506942638 Q -0.12437414617357341, -0.15662398208318737 -0.8718100723152036, 0.48984405458243496L -0.8718100723152036, 0.48984405458243496 L -0.8680005057300288, 0.4965633112226619 L -0.8641391531866899, 0.5032529422962081 \", \"type\": \"path\"}, {\"fillcolor\": \"#d0805f\", \"layer\": \"below\", \"line\": {\"color\": \"rgb(175,175,175)\", \"width\": 0.5}, \"path\": \"M -0.8292048167910105,0.558944873677706 Q -0.09752282520250985, -0.17461185115713285 0.910792425436484, -0.4128645755783932L 0.910792425436484, -0.4128645755783932 L 0.9091819711997499, -0.4163990192655804 L 0.9075578011756056, -0.4199271812175297 M 0.9075578011756056,-0.4199271812175297 Q -0.09747479113608469, -0.1746386700962209 -0.8338255168575146, 0.5520280857323281L -0.8338255168575146, 0.5520280857323281 L -0.8315223587779536, 0.555491284227168 L -0.8292048167910105, 0.558944873677706 \", \"type\": \"path\"}, {\"fillcolor\": \"#d0805f\", \"layer\": \"below\", \"line\": {\"color\": \"rgb(175,175,175)\", \"width\": 0.5}, \"path\": \"M -0.8251985386737758,0.564842785003637 Q -0.08073061169692464, -0.1829824263011079 0.9734906637031073, -0.22872675331688572L 0.9734906637031073, -0.22872675331688572 L 0.9727647956575748, -0.23179441824443675 L 0.9720292608080651, -0.2348597797259604 M 0.9720292608080651,-0.2348597797259604 Q -0.08065510830530792, -0.18301571928186677 -0.8292048167910105, 0.558944873677706L -0.8292048167910105, 0.558944873677706 L -0.8272069341965095, 0.5618973999025192 L -0.8251985386737758, 0.564842785003637 \", \"type\": \"path\"}, {\"fillcolor\": \"#d0805f\", \"layer\": \"below\", \"line\": {\"color\": \"rgb(175,175,175)\", \"width\": 0.5}, \"path\": \"M -0.8101515228979899,0.5862205301301446 Q -0.07027834945268384, -0.18724570381775507 0.9957958728988462, -0.09160010653719246L 0.9957958728988462, -0.09160010653719246 L 0.9957138321979371, -0.09248764441642181 L 0.9956310004480282, -0.09337510881845607 M 0.9956310004480282,-0.09337510881845607 Q -0.07022273450993519, -0.18726656818008697 -0.8115424697834299, 0.5842934363295644L -0.8115424697834299, 0.5842934363295644 L -0.8108475688422456, 0.5852573964527229 L -0.8101515228979899, 0.5862205301301446 \", \"type\": \"path\"}, {\"fillcolor\": \"#ca6f4c\", \"layer\": \"below\", \"line\": {\"color\": \"rgb(175,175,175)\", \"width\": 0.5}, \"path\": \"M -0.954532171974744,0.2981079211714738 Q -0.19331837202988303, 0.05126409109421275 -0.9768231157406343, 0.21404812672564885L -0.9768231157406343, 0.21404812672564885 L -0.9765986494851966, 0.21506993705232272 L -0.9763731143606593, 0.21609151198894144 M -0.9763731143606593,0.21609151198894144 Q -0.19330751434534216, 0.05130501824992696 -0.9550283608120953, 0.2965144685248298L -0.9550283608120953, 0.2965144685248298 L -0.9547805988116452, 0.29731129836061754 L -0.954532171974744, 0.2981079211714738 \", \"type\": \"path\"}, {\"fillcolor\": \"#ca6f4c\", \"layer\": \"below\", \"line\": {\"color\": \"rgb(175,175,175)\", \"width\": 0.5}, \"path\": \"M -0.9538664514151469,0.3002312323271432 Q -0.19660464300828698, 0.0366962443253262 -0.9979451322260477, 0.06407427772777473L -0.9979451322260477, 0.06407427772777473 L -0.997909688170902, 0.06462394490166373 L -0.9978739413596532, 0.0651735924692758 M -0.9978739413596532,0.0651735924692758 Q -0.19659973941922337, 0.03672250618208769 -0.9541166503022868, 0.29943516429428224L -0.9541166503022868, 0.29943516429428224 L -0.953991633894605, 0.29983322440834 L -0.9538664514151469, 0.3002312323271432 \", \"type\": \"path\"}, {\"fillcolor\": \"#ca6f4c\", \"layer\": \"below\", \"line\": {\"color\": \"rgb(175,175,175)\", \"width\": 0.5}, \"path\": \"M -0.957067166402557,0.28986624328158733 Q -0.19991579917084398, -0.005802864971958185 -0.9386423235159151, -0.3448921403926799L -0.9386423235159151, -0.3448921403926799 L -0.9393995824329886, -0.34282418894343897 L -0.9401522853895974, -0.3407545748434157 M -0.9401522853895974,-0.3407545748434157 Q -0.19991886552797633, -0.005696244904050271 -0.9580293605625659, 0.28667009662690845L -0.9580293605625659, 0.28667009662690845 L -0.95754959701147, 0.28826857141070966 L -0.957067166402557, 0.28986624328158733 \", \"type\": \"path\"}, {\"fillcolor\": \"#ca6f4c\", \"layer\": \"below\", \"line\": {\"color\": \"rgb(175,175,175)\", \"width\": 0.5}, \"path\": \"M -0.9555218896140154,0.29492018999800845 Q -0.19867615651167006, -0.022973568154520188 -0.8630011770928581, -0.5052019084844607L -0.8630011770928581, -0.5052019084844607 L -0.8638235000600382, -0.5037945620429277 L -0.8646435279871946, -0.5023858771003196 M -0.8646435279871946,-0.5023858771003196 Q -0.19868801570763794, -0.0228707764223567 -0.9561757878088584, 0.2927932082684109L -0.9561757878088584, 0.2927932082684109 L -0.9558494303387025, 0.2938568810172358 L -0.9555218896140154, 0.29492018999800845 \", \"type\": \"path\"}, {\"fillcolor\": \"#ca6f4c\", \"layer\": \"below\", \"line\": {\"color\": \"rgb(175,175,175)\", \"width\": 0.5}, \"path\": \"M -0.9561757878088584,0.2927932082684109 Q -0.18889851944498842, -0.06570653964021643 -0.5680630085040278, -0.8229850657025028L -0.5680630085040278, -0.8229850657025028 L -0.569935501792906, -0.8216894326910067 L -0.5718050400254702, -0.820389539305244 M -0.5718050400254702,-0.820389539305244 Q -0.18894756220590944, -0.06556537757417392 -0.957067166402557, 0.28986624328158733L -0.957067166402557, 0.28986624328158733 L -0.9566225965556712, 0.29133006669255 L -0.9561757878088584, 0.2927932082684109 \", \"type\": \"path\"}, {\"fillcolor\": \"#ca6f4c\", \"layer\": \"below\", \"line\": {\"color\": \"rgb(175,175,175)\", \"width\": 0.5}, \"path\": \"M -0.9580293605625659,0.28667009662690845 Q -0.16312192089537828, -0.1157205207532439 -0.046002184728725484, -0.9989413391186612L -0.046002184728725484, -0.9989413391186612 L -0.04784641994205066, -0.9988547041981276 L -0.04969049206084727, -0.9987646644724426 M -0.04969049206084727,-0.9987646644724426 Q -0.16311025490842715, -0.11573696360155608 -0.9591384294645825, 0.28293722470578875L -0.9591384294645825, 0.28293722470578875 L -0.9585857120584419, 0.28480420052627387 L -0.9580293605625659, 0.28667009662690845 \", \"type\": \"path\"}, {\"fillcolor\": \"#ca6f4c\", \"layer\": \"below\", \"line\": {\"color\": \"rgb(175,175,175)\", \"width\": 0.5}, \"path\": \"M -0.9645387279310337,0.263941361520288 Q -0.1508937481304801, -0.13126719611211035 0.1278629117673667, -0.9917918510425313L 0.1278629117673667, -0.9917918510425313 L 0.11685113060756658, -0.9931494415624134 L 0.10582496479591261, -0.994384773025987 M 0.10582496479591261,-0.994384773025987 Q -0.15138155839155598, -0.13070433726140818 -0.9683248350407864, 0.2496938402188445L -0.9683248350407864, 0.2496938402188445 L -0.966458036456751, 0.25682457781170687 L -0.9645387279310337, 0.263941361520288 \", \"type\": \"path\"}, {\"fillcolor\": \"#ca6f4c\", \"layer\": \"below\", \"line\": {\"color\": \"rgb(175,175,175)\", \"width\": 0.5}, \"path\": \"M -0.9534479773563612,0.3015575475345689 Q -0.11248025417054486, -0.16537288901669955 0.6307723403887812, -0.7759679468898568L 0.6307723403887812, -0.7759679468898568 L 0.6304558868293594, -0.7762250799621241 L 0.630139328450171, -0.7764820839789979 M 0.630139328450171,-0.7764820839789979 Q -0.112501685032671, -0.16535831054050382 -0.9536155883280988, 0.30102709130185284L -0.9536155883280988, 0.30102709130185284 L -0.9535318197292817, 0.3012923310736015 L -0.9534479773563612, 0.3015575475345689 \", \"type\": \"path\"}, {\"fillcolor\": \"#ca6f4c\", \"layer\": \"below\", \"line\": {\"color\": \"rgb(175,175,175)\", \"width\": 0.5}, \"path\": \"M -0.9541166503022868,0.29943516429428224 Q -0.0733961319161938, -0.18604571432779815 0.9015655978704014, -0.432642430578169L 0.9015655978704014, -0.432642430578169 L 0.9011651156332152, -0.4334759905297798 L 0.900763862712219, -0.43430917976916245 M 0.900763862712219,-0.43430917976916245 Q -0.07343880723644935, -0.18602887300547633 -0.954532171974744, 0.2981079211714738L -0.954532171974744, 0.2981079211714738 L -0.9543246418742685, 0.2987716149696104 L -0.9541166503022868, 0.29943516429428224 \", \"type\": \"path\"}, {\"fillcolor\": \"#ca6f4c\", \"layer\": \"below\", \"line\": {\"color\": \"rgb(175,175,175)\", \"width\": 0.5}, \"path\": \"M -0.9533640612158241,0.30182274066423553 Q -0.05511632126402066, -0.19225553601995773 0.9684691655660329, -0.2491334488739558L 0.9684691655660329, -0.2491334488739558 L 0.9684255195050946, -0.24930305487756801 L 0.9683818437414078, -0.24947265323476173 M 0.9683818437414078,-0.24947265323476173 Q -0.05512325303581927, -0.1922535486662055 -0.9534479773563612, 0.3015575475345689L -0.9534479773563612, 0.3015575475345689 L -0.953406028506639, 0.30169014701709723 L -0.9533640612158241, 0.30182274066423553 \", \"type\": \"path\"}, {\"fillcolor\": \"#c45e3a\", \"layer\": \"below\", \"line\": {\"color\": \"rgb(175,175,175)\", \"width\": 0.5}, \"path\": \"M -0.9759188384928315,0.21813395121989299 Q -0.19980661861932036, 0.008792903724792148 -0.9913079353843081, -0.13156206612888302L -0.9913079353843081, -0.13156206612888302 L -0.99145452577595, -0.13045276278556253 L -0.9915998748242396, -0.1293432961098187 M -0.9915998748242396,-0.1293432961098187 Q -0.19980597820905097, 0.00880744411984892 -0.9763731143606593, 0.21609151198894144L -0.9763731143606593, 0.21609151198894144 L -0.9761465106138665, 0.21711285041741019 L -0.9759188384928315, 0.21813395121989299 \", \"type\": \"path\"}, {\"fillcolor\": \"#c45e3a\", \"layer\": \"below\", \"line\": {\"color\": \"rgb(175,175,175)\", \"width\": 0.5}, \"path\": \"M -0.9805437860822563,0.1963004930596824 Q -0.1992999510299096, -0.016719136325648892 -0.9341343695228462, -0.3569215315390128L -0.9341343695228462, -0.3569215315390128 L -0.9354381198216501, -0.353490486413052 L -0.9367292680519853, -0.35005467912140803 M -0.9367292680519853,-0.35005467912140803 Q -0.19930300984553428, -0.016682633680293414 -0.9818890238991492, 0.18945697333794825L -0.9818890238991492, 0.18945697333794825 L -0.9812223712611857, 0.19287990599483346 L -0.9805437860822563, 0.1963004930596824 \", \"type\": \"path\"}, {\"fillcolor\": \"#c45e3a\", \"layer\": \"below\", \"line\": {\"color\": \"rgb(175,175,175)\", \"width\": 0.5}, \"path\": \"M -0.978147453346339,0.20791238422006414 Q -0.1971214270570929, -0.03381039773464974 -0.8529550897108403, -0.5219843052586662L -0.8529550897108403, -0.5219843052586662 L -0.8546522038821053, -0.5192009345132772 L -0.8563402353659408, -0.5164120460382435 M -0.8563402353659408,-0.5164120460382435 Q -0.1971373016919207, -0.033717714656077126 -0.9792922891905554, 0.20245150612411217L -0.9792922891905554, 0.20245150612411217 L -0.9787236799593236, 0.20518274363815137 L -0.978147453346339, 0.20791238422006414 \", \"type\": \"path\"}, {\"fillcolor\": \"#c45e3a\", \"layer\": \"below\", \"line\": {\"color\": \"rgb(175,175,175)\", \"width\": 0.5}, \"path\": \"M -0.9818890238991492,0.18945697333794825 Q -0.18411339721067765, -0.07811694417694048 -0.546059995972568, -0.8377460717893215L -0.546059995972568, -0.8377460717893215 L -0.5500423660600244, -0.8351367525974953 L -0.5540122678871477, -0.8325085026776239 M -0.5540122678871477,-0.8325085026776239 Q -0.1841719909361299, -0.07797870064717728 -0.983376997131689, 0.18157555317900592L -0.983376997131689, 0.18157555317900592 L -0.9826409123125935, 0.18551775507878981 L -0.9818890238991492, 0.18945697333794825 \", \"type\": \"path\"}, {\"fillcolor\": \"#c45e3a\", \"layer\": \"below\", \"line\": {\"color\": \"rgb(175,175,175)\", \"width\": 0.5}, \"path\": \"M -0.9757664636605679,0.218814552521878 Q -0.16020355597368746, -0.11972811137483791 -0.0665419353881592, -0.9977836292677877L -0.0665419353881592, -0.9977836292677877 L -0.06680510124503353, -0.9977660439439903 L -0.06706826245457681, -0.9977483892100873 M -0.06706826245457681,-0.9977483892100873 Q -0.1601933818393309, -0.11974172378447845 -0.9759188384928315, 0.21813395121989299L -0.9759188384928315, 0.21813395121989299 L -0.9758427104123567, 0.2184742651551102 L -0.9757664636605679, 0.218814552521878 \", \"type\": \"path\"}, {\"fillcolor\": \"#c45e3a\", \"layer\": \"below\", \"line\": {\"color\": \"rgb(175,175,175)\", \"width\": 0.5}, \"path\": \"M -0.9862784496123476,0.1650903383916331 Q -0.1495992674716151, -0.13274057093427077 0.046553089447538255, -0.9989158172052786L 0.046553089447538255, -0.9989158172052786 L 0.04132456127621947, -0.9991457754678884 L 0.03609490120914824, -0.9993483667403984 M 0.03609490120914824,-0.9993483667403984 Q -0.14971529550593418, -0.13260969154466357 -0.9876802280642534, 0.15648567695142093L -0.9876802280642534, 0.15648567695142093 L -0.9869887159148851, 0.1607895352835068 L -0.9862784496123476, 0.1650903383916331 \", \"type\": \"path\"}, {\"fillcolor\": \"#c45e3a\", \"layer\": \"below\", \"line\": {\"color\": \"rgb(175,175,175)\", \"width\": 0.5}, \"path\": \"M -0.983376997131689,0.18157555317900592 Q -0.0992212188485731, -0.17365238187310753 0.6557443803655231, -0.7549829849864407L 0.6557443803655231, -0.7549829849864407 L 0.6521969722786752, -0.7580495428074137 L 0.6486352237624098, -0.7610994327252443 M 0.6486352237624098,-0.7610994327252443 Q -0.09933906975300476, -0.1735849913460483 -0.9848017088880383, 0.17368245211074013L -0.9848017088880383, 0.17368245211074013 L -0.9840972665181479, 0.17763043104014975 L -0.983376997131689, 0.18157555317900592 \", \"type\": \"path\"}, {\"fillcolor\": \"#c45e3a\", \"layer\": \"below\", \"line\": {\"color\": \"rgb(175,175,175)\", \"width\": 0.5}, \"path\": \"M -0.9756900982467375,0.21915481327881398 Q -0.06587933898442307, -0.18883832422200605 0.9002813423876026, -0.4353085165130315L 0.9002813423876026, -0.4353085165130315 L 0.9002008145275158, -0.43547502055111853 L 0.9001202558730612, -0.4356415096923328 M 0.9001202558730612,-0.4356415096923328 Q -0.06588133924880099, -0.18883762638516827 -0.9757664636605679, 0.218814552521878L -0.9757664636605679, 0.218814552521878 L -0.9757282957858278, 0.21898468622916123 L -0.9756900982467375, 0.21915481327881398 \", \"type\": \"path\"}, {\"fillcolor\": \"#c45e3a\", \"layer\": \"below\", \"line\": {\"color\": \"rgb(175,175,175)\", \"width\": 0.5}, \"path\": \"M -0.9848017088880383,0.17368245211074013 Q -0.038711653000491966, -0.19621775638807387 0.9769747527725481, -0.21335494474002373L 0.9769747527725481, -0.21335494474002373 L 0.9760312604096111, -0.21763037173893252 L 0.9750690580604598, -0.22190162688247134 M 0.9750690580604598,-0.22190162688247134 Q -0.038715427370194025, -0.196217011707811 -0.9862784496123476, 0.1650903383916331L -0.9862784496123476, 0.1650903383916331 L -0.9855494426526845, 0.1693880045545815 L -0.9848017088880383, 0.17368245211074013 \", \"type\": \"path\"}, {\"fillcolor\": \"#c45e3a\", \"layer\": \"below\", \"line\": {\"color\": \"rgb(175,175,175)\", \"width\": 0.5}, \"path\": \"M -0.9773427122456597,0.21166299350688986 Q -0.030059335356578953, -0.19772818807120224 0.996089919891984, -0.08834518373732023L 0.996089919891984, -0.08834518373732023 L 0.9959442261046032, -0.08997276526206761 L 0.9957958728988462, -0.09160010653719246 M 0.9957958728988462,-0.09160010653719246 Q -0.03000319963475838, -0.1977367138689142 -0.978147453346339, 0.20791238422006414L -0.978147453346339, 0.20791238422006414 L -0.9777468812015006, 0.20978807473433472 L -0.9773427122456597, 0.21166299350688986 \", \"type\": \"path\"}, {\"fillcolor\": \"#bf4d28\", \"layer\": \"below\", \"line\": {\"color\": \"rgb(175,175,175)\", \"width\": 0.5}, \"path\": \"M -0.9994851688501479,-0.03208422117788337 Q -0.19781805972868527, -0.029462098451711 -0.9654563095179404, -0.26056499076429834L -0.9654563095179404, -0.26056499076429834 L -0.9690983088335917, -0.24667482201447424 L -0.972540479160309, -0.23273378868277095 M -0.972540479160309,-0.23273378868277095 Q -0.197824607125536, -0.029418103535532866 -0.9981786120386287, -0.06032792445159005L -0.9981786120386287, -0.06032792445159005 L -0.9989317154152049, -0.04621069072883635 L -0.9994851688501479, -0.03208422117788337 \", \"type\": \"path\"}, {\"fillcolor\": \"#bf4d28\", \"layer\": \"below\", \"line\": {\"color\": \"rgb(175,175,175)\", \"width\": 0.5}, \"path\": \"M -0.9979451322260477,0.06407427772777473 Q -0.198170093503515, -0.02699285166128497 -0.9444520612290817, -0.3286492112270147L -0.9444520612290817, -0.3286492112270147 L -0.9446930616795566, -0.32795581899778137 L -0.944933553059502, -0.3272622500416834 M -0.944933553059502,-0.3272622500416834 Q -0.19817008456112883, -0.026992917312418166 -0.9980381694840019, 0.06260840401274058L -0.9980381694840019, 0.06260840401274058 L -0.9979919199937317, 0.06334135795217045 L -0.9979451322260477, 0.06407427772777473 \", \"type\": \"path\"}, {\"fillcolor\": \"#bf4d28\", \"layer\": \"below\", \"line\": {\"color\": \"rgb(175,175,175)\", \"width\": 0.5}, \"path\": \"M -0.9981736880423311,0.06040934116484918 Q -0.19444615019699402, -0.046804857371517 -0.8613496547836382, -0.5080125709114954L -0.8613496547836382, -0.5080125709114954 L -0.8621765612704343, -0.5066079126858256 L -0.8630011770928581, -0.5052019084844607 M -0.8630011770928581,-0.5052019084844607 Q -0.19445369065509233, -0.04677352018625138 -0.9983468420895034, 0.05747680305928717L -0.9983468420895034, 0.05747680305928717 L -0.9982613419112305, 0.0589431356952568 L -0.9981736880423311, 0.06040934116484918 \", \"type\": \"path\"}, {\"fillcolor\": \"#bf4d28\", \"layer\": \"below\", \"line\": {\"color\": \"rgb(175,175,175)\", \"width\": 0.5}, \"path\": \"M -0.9998888089538195,0.014912066554045372 Q -0.17488924597776137, -0.09702448990502388 -0.5166017633305668, -0.8562257985623588L -0.5166017633305668, -0.8562257985623588 L -0.5217324314154679, -0.853109178247019 L -0.5268442977884662, -0.8499618143703739 M -0.5268442977884662,-0.8499618143703739 Q -0.1749550478121905, -0.096905785405383 -0.9999909106585222, 0.004263636984962176L -0.9999909106585222, 0.004263636984962176 L -0.9999540341897004, 0.009587987679565637 L -0.9998888089538195, 0.014912066554045372 \", \"type\": \"path\"}, {\"fillcolor\": \"#bf4d28\", \"layer\": \"below\", \"line\": {\"color\": \"rgb(175,175,175)\", \"width\": 0.5}, \"path\": \"M -0.9976531032277651,0.0684710568051223 Q -0.15054147646772784, -0.13167104413240047 -0.06496284367818857, -0.9978876835301873L -0.06496284367818857, -0.9978876835301873 L -0.06535763201237262, -0.9978619042421327 L -0.06575241011662322, -0.9978359687663375 M -0.06575241011662322,-0.9978359687663375 Q -0.1505210419902533, -0.13169440351878436 -0.9977279267719131, 0.06737198334189035L -0.9977279267719131, 0.06737198334189035 L -0.997690666344666, 0.06792153037687249 L -0.9976531032277651, 0.0684710568051223 \", \"type\": \"path\"}, {\"fillcolor\": \"#bf4d28\", \"layer\": \"below\", \"line\": {\"color\": \"rgb(175,175,175)\", \"width\": 0.5}, \"path\": \"M -0.9994586561235147,0.032899767473006616 Q -0.14119511092349354, -0.14164724018244182 0.03609490120914824, -0.9993483667403984L 0.03609490120914824, -0.9993483667403984 L 0.03128273739469037, -0.999510575402329 L 0.02646984834526766, -0.9996496121784765 M 0.02646984834526766,-0.9996496121784765 Q -0.14127894621176237, -0.14156362300144043 -0.9997008698206078, 0.024457532171503486L -0.9997008698206078, 0.024457532171503486 L -0.9995886755948687, 0.0286789055317019 L -0.9994586561235147, 0.032899767473006616 \", \"type\": \"path\"}, {\"fillcolor\": \"#bf4d28\", \"layer\": \"below\", \"line\": {\"color\": \"rgb(175,175,175)\", \"width\": 0.5}, \"path\": \"M -0.9981786120386287,-0.06032792445159005 Q -0.05703140048888057, -0.19169616417204838 0.8028684333861973, -0.5961562535711533L 0.8028684333861973, -0.5961562535711533 L 0.7924173778605583, -0.6099792613397583 L 0.7817283593128495, -0.6236190922719096 M 0.7817283593128495,-0.6236190922719096 Q -0.05736163456834347, -0.1915976066647176 -0.9958097493592508, -0.09144912837783732L -0.9958097493592508, -0.09144912837783732 L -0.9971156044717207, -0.07589776886704334 L -0.9981786120386287, -0.06032792445159005 \", \"type\": \"path\"}, {\"fillcolor\": \"#bf4d28\", \"layer\": \"below\", \"line\": {\"color\": \"rgb(175,175,175)\", \"width\": 0.5}, \"path\": \"M -0.9980381694840019,0.06260840401274058 Q -0.04981137641409698, -0.193697771746949 0.9044262884791809, -0.42662992008035877L 0.9044262884791809, -0.42662992008035877 L 0.9039522877999187, -0.4276333258543971 L 0.9034771739036023, -0.4286362049980847 M 0.9034771739036023,-0.4286362049980847 Q -0.049812947715611886, -0.19369736766379073 -0.9981736880423311, 0.06040934116484918L -0.9981736880423311, 0.06040934116484918 L -0.9981065343947686, 0.06150890991120323 L -0.9980381694840019, 0.06260840401274058 \", \"type\": \"path\"}, {\"fillcolor\": \"#bf4d28\", \"layer\": \"below\", \"line\": {\"color\": \"rgb(175,175,175)\", \"width\": 0.5}, \"path\": \"M -0.9999909106585222,0.004263636984962176 Q -0.01703779284670937, -0.19927296257875182 0.9862005122593397, -0.1655552766281281L 0.9862005122593397, -0.1655552766281281 L 0.9847435109507912, -0.1740121192340037 L 0.9832139921062842, -0.18245614740650307 M 0.9832139921062842,-0.18245614740650307 Q -0.01695507696068348, -0.19928001747605628 -0.9999057527702172, -0.013729004953938233L -0.9999057527702172, -0.013729004953938233 L -0.9999887998819469, -0.00473287551743256 L -0.9999909106585222, 0.004263636984962176 \", \"type\": \"path\"}, {\"fillcolor\": \"#bf4d28\", \"layer\": \"below\", \"line\": {\"color\": \"rgb(175,175,175)\", \"width\": 0.5}, \"path\": \"M -0.9988850250906501,0.04720917971805156 Q -0.010830038303344251, -0.19970656040888618 0.998132348160512, -0.06108858776876872L 0.998132348160512, -0.06108858776876872 L 0.9979559488609937, -0.06390558765048368 L 0.9977715992405772, -0.06672207842162069 M 0.9977715992405772,-0.06672207842162069 Q -0.010697043914971956, -0.19971372824991568 -0.9991900852545046, 0.0402389553678502L -0.9991900852545046, 0.0402389553678502 L -0.9990436340080815, 0.04372433359042106 L -0.9988850250906501, 0.04720917971805156 \", \"type\": \"path\"}, {\"fillcolor\": \"#af4624\", \"layer\": \"below\", \"line\": {\"color\": \"rgb(175,175,175)\", \"width\": 0.5}, \"path\": \"M -0.9923079936004028,-0.12379356137030342 Q -0.19472294452201563, -0.04563961959390142 -0.9439685336362929, -0.33003546401038025L -0.9439685336362929, -0.33003546401038025 L -0.9442105518379461, -0.3293424263557327 L -0.9444520612290817, -0.3286492112270147 M -0.9444520612290817,-0.3286492112270147 Q -0.1947224021092488, -0.0456419337539945 -0.992122198028431, -0.12527387668318793L -0.992122198028431, -0.12527387668318793 L -0.9922153718802027, -0.12453375367598547 L -0.9923079936004028, -0.12379356137030342 \", \"type\": \"path\"}, {\"fillcolor\": \"#af4624\", \"layer\": \"below\", \"line\": {\"color\": \"rgb(175,175,175)\", \"width\": 0.5}, \"path\": \"M -0.9906074390070018,-0.13673661464285775 Q -0.18855686529736576, -0.06668064598690586 -0.8563402353659408, -0.5164120460382435L -0.8563402353659408, -0.5164120460382435 L -0.8578097981672179, -0.5139672656583459 L -0.8592723813425142, -0.5115183033499044 M -0.8592723813425142,-0.5115183033499044 Q -0.18857296922947198, -0.06663509042524537 -0.989879932085847, -0.14190743480776094L -0.989879932085847, -0.14190743480776094 L -0.9902470606418684, -0.13932249958330417 L -0.9906074390070018, -0.13673661464285775 \", \"type\": \"path\"}, {\"fillcolor\": \"#af4624\", \"layer\": \"below\", \"line\": {\"color\": \"rgb(175,175,175)\", \"width\": 0.5}, \"path\": \"M -0.9844286989096257,-0.1757843473210898 Q -0.16548296974691443, -0.1123182386068345 -0.5268442977884662, -0.8499618143703739L -0.5268442977884662, -0.8499618143703739 L -0.5319371782328393, -0.8467838203542181 L -0.5370108892160622, -0.8435753107241666 M -0.5370108892160622,-0.8435753107241666 Q -0.1655497533401883, -0.11221978064941503 -0.9824697796961797, -0.18642191926847046L -0.9824697796961797, -0.18642191926847046 L -0.983463621985934, -0.18110578187983978 L -0.9844286989096257, -0.1757843473210898 \", \"type\": \"path\"}, {\"fillcolor\": \"#af4624\", \"layer\": \"below\", \"line\": {\"color\": \"rgb(175,175,175)\", \"width\": 0.5}, \"path\": \"M -0.992445890821345,-0.12268314387815007 Q -0.13731992248096334, -0.14540714868885307 -0.06575241011662322, -0.9978359687663375L -0.06575241011662322, -0.9978359687663375 L -0.06614717792914875, -0.9978098771068612 L -0.0665419353881592, -0.9977836292677877 M -0.0665419353881592,-0.9977836292677877 Q -0.13729609648138333, -0.1454296458462809 -0.9923079936004028, -0.12379356137030342L -0.9923079936004028, -0.12379356137030342 L -0.9923770975231925, -0.12323837191169049 L -0.992445890821345, -0.12268314387815007 \", \"type\": \"path\"}, {\"fillcolor\": \"#af4624\", \"layer\": \"below\", \"line\": {\"color\": \"rgb(175,175,175)\", \"width\": 0.5}, \"path\": \"M -0.9858379593521578,-0.16770067948691575 Q -0.1269852825733579, -0.15451452362080548 0.02646984834526766, -0.9996496121784765L 0.02646984834526766, -0.9996496121784765 L 0.02186563961260768, -0.9997609183221414 L 0.017260967085086502, -0.9998510184098867 M 0.017260967085086502,-0.9998510184098867 Q -0.12706294896160708, -0.15445066202894708 -0.9844286989096257, -0.1757843473210898L -0.9844286989096257, -0.1757843473210898 L -0.9851416205733708, -0.171743958886689 L -0.9858379593521578, -0.16770067948691575 \", \"type\": \"path\"}, {\"fillcolor\": \"#af4624\", \"layer\": \"below\", \"line\": {\"color\": \"rgb(175,175,175)\", \"width\": 0.5}, \"path\": \"M -0.9654563095179404,-0.26056499076429834 Q -0.02949147699408954, -0.19781368199572824 0.847466730556729, -0.5308485100285093L 0.847466730556729, -0.5308485100285093 L 0.836803703672015, -0.5475030242115551 L 0.8258134254650317, -0.563943424752617 M 0.8258134254650317,-0.563943424752617 Q -0.029824996568175163, -0.19776367103112832 -0.955399515238569, -0.2953163833618232L -0.955399515238569, -0.2953163833618232 L -0.9605850767616159, -0.27798616926545205 L -0.9654563095179404, -0.26056499076429834 \", \"type\": \"path\"}, {\"fillcolor\": \"#af4624\", \"layer\": \"below\", \"line\": {\"color\": \"rgb(175,175,175)\", \"width\": 0.5}, \"path\": \"M -0.991886848164384,-0.12712387831766406 Q -0.03142068644112327, -0.1975164308698611 0.9034771739036023, -0.4286362049980847L 0.9034771739036023, -0.4286362049980847 L 0.9030009473753347, -0.4296385562763753 L 0.9025236088015892, -0.4306403784548727 M 0.9025236088015892,-0.4306403784548727 Q -0.031418865829017525, -0.1975167204821359 -0.9915998748242396, -0.1293432961098187L -0.9915998748242396, -0.1293432961098187 L -0.991743982347194, -0.12823366749075163 L -0.991886848164384, -0.12712387831766406 \", \"type\": \"path\"}, {\"fillcolor\": \"#af4624\", \"layer\": \"below\", \"line\": {\"color\": \"rgb(175,175,175)\", \"width\": 0.5}, \"path\": \"M -0.9799525119960004,-0.19923120797889227 Q 0.0017089175220504006, -0.1999926988689908 0.9832139921062842, -0.18245614740650307L 0.9832139921062842, -0.18245614740650307 L 0.9820110645894495, -0.1888233805011869 L 0.9807669037125883, -0.19518268514912473 M 0.9807669037125883,-0.19518268514912473 Q 0.0017929732421112826, -0.1999919629558975 -0.977109824856154, -0.2127354934409772L -0.977109824856154, -0.2127354934409772 L -0.9785544639992014, -0.2059882544885403 L -0.9799525119960004, -0.19923120797889227 \", \"type\": \"path\"}, {\"fillcolor\": \"#af4624\", \"layer\": \"below\", \"line\": {\"color\": \"rgb(175,175,175)\", \"width\": 0.5}, \"path\": \"M -0.9890154469493873,-0.14781219738405835 Q 0.007621772974349109, -0.19985471867516036 0.9974005076830734, -0.07205711119346492L 0.9974005076830734, -0.07205711119346492 L 0.9972153534785089, -0.07457572518408787 L 0.9970238393350671, -0.07709386355321919 M 0.9970238393350671,-0.07709386355321919 Q 0.007750665501793128, -0.19984976153170492 -0.9880583389703709, -0.15408023491386486L -0.9880583389703709, -0.15408023491386486 L -0.9885418609327529, -0.15094697474149626 L -0.9890154469493873, -0.14781219738405835 \", \"type\": \"path\"}, {\"fillcolor\": \"#9f4021\", \"layer\": \"below\", \"line\": {\"color\": \"rgb(175,175,175)\", \"width\": 0.5}, \"path\": \"M -0.9188217250058108,-0.39467282356066286 Q -0.17309353300690783, -0.10019295799199919 -0.7998718783821913, -0.6001707908365292L -0.7998718783821913, -0.6001707908365292 L -0.8077499227718204, -0.5895252855154884 L -0.8154862956060945, -0.5787763831382976 M -0.8154862956060945,-0.5787763831382976 Q -0.17322511637723859, -0.09996528925628209 -0.9091451891229786, -0.4164793213288547L -0.9091451891229786, -0.4164793213288547 L -0.9140484892081004, -0.40560493016775473 L -0.9188217250058108, -0.39467282356066286 \", \"type\": \"path\"}, {\"fillcolor\": \"#9f4021\", \"layer\": \"below\", \"line\": {\"color\": \"rgb(175,175,175)\", \"width\": 0.5}, \"path\": \"M -0.9298778883367324,-0.3678683362052508 Q -0.15170243279107723, -0.13033177619164368 -0.5037834612067765, -0.8638299741352579L -0.5037834612067765, -0.8638299741352579 L -0.5102067791445608, -0.860051767345974 L -0.5166017633305668, -0.8562257985623588 M -0.5166017633305668,-0.8562257985623588 Q -0.15181256080185757, -0.1302034806861257 -0.9249360460642451, -0.3801227573969239L -0.9249360460642451, -0.3801227573969239 L -0.9274272076673695, -0.37400370917720305 L -0.9298778883367324, -0.3678683362052508 \", \"type\": \"path\"}, {\"fillcolor\": \"#9f4021\", \"layer\": \"below\", \"line\": {\"color\": \"rgb(175,175,175)\", \"width\": 0.5}, \"path\": \"M -0.9433612629426837,-0.3317672792473434 Q -0.12059607188578025, -0.159551206343668 -0.06180417614263151, -0.9980882945968912L -0.06180417614263151, -0.9980882945968912 L -0.06259390230501456, -0.9980390790917109 L -0.06338358927800689, -0.9979892387246653 M -0.06338358927800689,-0.9979892387246653 Q -0.12054662718595349, -0.1595885668652073 -0.9426283443810008, -0.3338439820777564L -0.9426283443810008, -0.3338439820777564 L -0.9429953753369621, -0.33280583242050005 L -0.9433612629426837, -0.3317672792473434 \", \"type\": \"path\"}, {\"fillcolor\": \"#9f4021\", \"layer\": \"below\", \"line\": {\"color\": \"rgb(175,175,175)\", \"width\": 0.5}, \"path\": \"M -0.896688405832244,-0.4426622898395896 Q -0.0804025443201666, -0.1831268163509748 0.2809682736131547, -0.9597170568573028L 0.2809682736131547, -0.9597170568573028 L 0.2632414673503923, -0.9647299776969783 L 0.2454253250847185, -0.9694154990544871 M 0.2454253250847185,-0.9694154990544871 Q -0.08081848534325375, -0.18294363182910273 -0.8819254056357018, -0.47138898894045334L -0.8819254056357018, -0.47138898894045334 L -0.8894228906411399, -0.4570852454450471 L -0.896688405832244, -0.4426622898395896 \", \"type\": \"path\"}, {\"fillcolor\": \"#9f4021\", \"layer\": \"below\", \"line\": {\"color\": \"rgb(175,175,175)\", \"width\": 0.5}, \"path\": \"M -0.9386423235159151,-0.3448921403926799 Q -0.05155577029711198, -0.1932407890406977 0.6420944160055598, -0.7666255676237775L 0.6420944160055598, -0.7666255676237775 L 0.6397469788753892, -0.7685855860083588 L 0.6373935587462904, -0.7705384164782046 M 0.6373935587462904,-0.7705384164782046 Q -0.051614769228107864, -0.19322503874376418 -0.9367292680519853, -0.35005467912140803L -0.9367292680519853, -0.35005467912140803 L -0.9376893486472541, -0.34747472632335213 L -0.9386423235159151, -0.3448921403926799 \", \"type\": \"path\"}, {\"fillcolor\": \"#9f4021\", \"layer\": \"below\", \"line\": {\"color\": \"rgb(175,175,175)\", \"width\": 0.5}, \"path\": \"M -0.945293335338764,-0.3262215660622625 Q -0.011690083904425306, -0.19965806254270702 0.900763862712219, -0.43430917976916245L 0.900763862712219, -0.43430917976916245 L 0.9005227411741177, -0.43480891507448777 L 0.9002813423876026, -0.4353085165130315 M 0.9002813423876026,-0.4353085165130315 Q -0.01169094333930553, -0.19965801222048954 -0.944933553059502, -0.3272622500416834L -0.944933553059502, -0.3272622500416834 L -0.9451135874389563, -0.3267419575724339 L -0.945293335338764, -0.3262215660622625 \", \"type\": \"path\"}, {\"fillcolor\": \"#9f4021\", \"layer\": \"below\", \"line\": {\"color\": \"rgb(175,175,175)\", \"width\": 0.5}, \"path\": \"M -0.9455325534760096,-0.32552755692435176 Q 0.008116299434636126, -0.19983524634930477 0.9688172645941361, -0.24777632619831888L 0.9688172645941361, -0.24777632619831888 L 0.9687304180990375, -0.2481156525688454 L 0.968643452755539, -0.24845494849937683 M 0.968643452755539,-0.24845494849937683 Q 0.008119651957164924, -0.1998351101585868 -0.945293335338764, -0.3262215660622625L -0.945293335338764, -0.3262215660622625 L -0.9454130080897002, -0.3258745834439754 L -0.9455325534760096, -0.32552755692435176 \", \"type\": \"path\"}, {\"fillcolor\": \"#9f4021\", \"layer\": \"below\", \"line\": {\"color\": \"rgb(175,175,175)\", \"width\": 0.5}, \"path\": \"M -0.9415203958687353,-0.3369559973693599 Q 0.025777057365720682, -0.19833190190578104 0.9963733276625657, -0.08508931732377138L 0.9963733276625657, -0.08508931732377138 L 0.9962329538719502, -0.08671736630899621 L 0.996089919891984, -0.08834518373732023 M 0.996089919891984,-0.08834518373732023 Q 0.025853340146347048, -0.19832197256803716 -0.9401522853895974, -0.3407545748434157L -0.9401522853895974, -0.3407545748434157 L -0.940838257696926, -0.3388559765649895 L -0.9415203958687353, -0.3369559973693599 \", \"type\": \"path\"}, {\"fillcolor\": \"#8f391e\", \"layer\": \"below\", \"line\": {\"color\": \"rgb(175,175,175)\", \"width\": 0.5}, \"path\": \"M -0.7324733447454052,-0.6807957103547868 Q -0.10575821384645212, -0.16975040560778673 -0.28825428028451316, -0.9575538992128105L -0.28825428028451316, -0.9575538992128105 L -0.3268569121490596, -0.9450738378456902 L -0.36492156528028286, -0.931038265160669 M -0.36492156528028286,-0.931038265160669 Q -0.10586651271276962, -0.1696828850710554 -0.6758215918053093, -0.7370652454496399L -0.6758215918053093, -0.7370652454496399 L -0.7047093175370558, -0.7094961435951974 L -0.7324733447454052, -0.6807957103547868 \", \"type\": \"path\"}, {\"fillcolor\": \"#8f391e\", \"layer\": \"below\", \"line\": {\"color\": \"rgb(175,175,175)\", \"width\": 0.5}, \"path\": \"M -0.8529550897108403,-0.5219843052586662 Q -0.10137878099152048, -0.17240169014448012 -0.04152268741261717, -0.9991375613147742L -0.04152268741261717, -0.9991375613147742 L -0.04376254604827234, -0.9990419608621917 L -0.046002184728725484, -0.9989413391186612 M -0.046002184728725484,-0.9989413391186612 Q -0.10116806286707991, -0.17252542727297496 -0.8493186472012757, -0.5278805125368761L -0.8493186472012757, -0.5278805125368761 L -0.8511419741501718, -0.524935557797096 L -0.8529550897108403, -0.5219843052586662 \", \"type\": \"path\"}, {\"fillcolor\": \"#8f391e\", \"layer\": \"below\", \"line\": {\"color\": \"rgb(175,175,175)\", \"width\": 0.5}, \"path\": \"M -0.7775842239090586,-0.6287787963407697 Q -0.04725452400761915, -0.19433736120677708 0.4020535034743111, -0.9156161752306652L 0.4020535034743111, -0.9156161752306652 L 0.3694150273623034, -0.9292645143116726 L 0.33631421087665464, -0.9417498349149912 M 0.33631421087665464,-0.9417498349149912 Q -0.04743828775078431, -0.19429258569300525 -0.7324733447454052, -0.6807957103547868L -0.7324733447454052, -0.6807957103547868 L -0.7554766078433818, -0.6551756214950746 L -0.7775842239090586, -0.6287787963407697 \", \"type\": \"path\"}, {\"fillcolor\": \"#8f391e\", \"layer\": \"below\", \"line\": {\"color\": \"rgb(175,175,175)\", \"width\": 0.5}, \"path\": \"M -0.8493186472012757,-0.5278805125368761 Q -0.03076766178587055, -0.19761920703269276 0.6486352237624098, -0.7610994327252443L 0.6486352237624098, -0.7610994327252443 L 0.6453707347607396, -0.7638695011023696 L 0.6420944160055598, -0.7666255676237775 M 0.6420944160055598,-0.7666255676237775 Q -0.03076819067759376, -0.19761912468793913 -0.8447703188979583, -0.5351290576197875L -0.8447703188979583, -0.5351290576197875 L -0.8470522366514639, -0.5315096503204362 L -0.8493186472012757, -0.5278805125368761 \", \"type\": \"path\"}, {\"fillcolor\": \"#8f391e\", \"layer\": \"below\", \"line\": {\"color\": \"rgb(175,175,175)\", \"width\": 0.5}, \"path\": \"M -0.8447703188979583,-0.5351290576197875 Q 0.014743759629651715, -0.1994558135326796 0.9142720413134321, -0.4051007707627449L 0.9142720413134321, -0.4051007707627449 L 0.9125404901233657, -0.4089863737160538 L 0.910792425436484, -0.4128645755783932 M 0.910792425436484,-0.4128645755783932 Q 0.014829969651817876, -0.19944942216042183 -0.8397178494036627, -0.5430229584399611L -0.8397178494036627, -0.5430229584399611 L -0.8422533322608924, -0.5390819272572794 L -0.8447703188979583, -0.5351290576197875 \", \"type\": \"path\"}, {\"fillcolor\": \"#8f391e\", \"layer\": \"below\", \"line\": {\"color\": \"rgb(175,175,175)\", \"width\": 0.5}, \"path\": \"M -0.8662766900128116,-0.49956450668602065 Q 0.02711733104992401, -0.198153098276885 0.968643452755539, -0.24845494849937683L 0.968643452755539, -0.24845494849937683 L 0.9685563685743095, -0.24879421394828757 L 0.9684691655660329, -0.2491334488739558 M 0.9684691655660329,-0.2491334488739558 Q 0.027128671627079222, -0.19815154598374982 -0.8658692619136866, -0.5002703481849065L -0.8658692619136866, -0.5002703481849065 L -0.8660730478700363, -0.4999174689417304 L -0.8662766900128116, -0.49956450668602065 \", \"type\": \"path\"}, {\"fillcolor\": \"#8f391e\", \"layer\": \"below\", \"line\": {\"color\": \"rgb(175,175,175)\", \"width\": 0.5}, \"path\": \"M -0.8666835427224023,-0.4988583333714551 Q 0.042317001879851636, -0.1954719195994674 0.9954062489333807, -0.09574131597370299L 0.9954062489333807, -0.09574131597370299 L 0.9953777595655049, -0.09603705411119104 L 0.9953491823329566, -0.09633278377123088 M 0.9953491823329566,-0.09633278377123088 Q 0.042338579409158784, -0.1954672471121808 -0.8662766900128116, -0.49956450668602065L -0.8662766900128116, -0.49956450668602065 L -0.8664801883081974, -0.4992114614763875 L -0.8666835427224023, -0.4988583333714551 \", \"type\": \"path\"}, {\"fillcolor\": \"#f0f3e7\", \"layer\": \"below\", \"line\": {\"color\": \"rgb(175,175,175)\", \"width\": 0.5}, \"path\": \"M -0.5619143070890118,-0.8271954493882784 Q -0.062169249301133, -0.19009204202526098 -0.03546087918106622, -0.9993710652443895L -0.03546087918106622, -0.9993710652443895 L -0.038491960360473636, -0.9992589098865258 L -0.04152268741261717, -0.9991375613147742 M -0.04152268741261717,-0.9991375613147742 Q -0.06184069260334945, -0.19019918174991723 -0.5540122678871477, -0.8325085026776239L -0.5540122678871477, -0.8325085026776239 L -0.557969611464925, -0.8298613816063986 L -0.5619143070890118, -0.8271954493882784 \", \"type\": \"path\"}, {\"fillcolor\": \"#f0f3e7\", \"layer\": \"below\", \"line\": {\"color\": \"rgb(175,175,175)\", \"width\": 0.5}, \"path\": \"M -0.28825428028451316,-0.9575538992128105 Q 0.021181240233215454, -0.19887522485765496 0.48346923630815286, -0.8753613525531108L 0.48346923630815286, -0.8753613525531108 L 0.4432186180150382, -0.8964135522429587 L 0.4020535034743111, -0.9156161752306652 M 0.4020535034743111,-0.9156161752306652 Q 0.021080245427451197, -0.19888595539333195 -0.20118133694807852, -0.9795540156947874L -0.20118133694807852, -0.9795540156947874 L -0.24496491000808082, -0.9695319452523123 L -0.28825428028451316, -0.9575538992128105 \", \"type\": \"path\"}, {\"fillcolor\": \"#f0f3e7\", \"layer\": \"below\", \"line\": {\"color\": \"rgb(175,175,175)\", \"width\": 0.5}, \"path\": \"M -0.45326617590301216,-0.8913752149248148 Q 0.03922352048114394, -0.19611607644725426 0.7612381087673616, -0.6484724680048418L 0.7612381087673616, -0.6484724680048418 L 0.7528464804980355, -0.6581961537427282 L 0.7443306555292704, -0.6678112571972463 M 0.7443306555292704,-0.6678112571972463 Q 0.039262170212099365, -0.1961083424799571 -0.42986541587660393, -0.9028929749606175L -0.42986541587660393, -0.9028929749606175 L -0.44160334781210636, -0.897210389597189 L -0.45326617590301216, -0.8913752149248148 \", \"type\": \"path\"}, {\"fillcolor\": \"#f0f3e7\", \"layer\": \"below\", \"line\": {\"color\": \"rgb(175,175,175)\", \"width\": 0.5}, \"path\": \"M -0.48868753919669117,-0.8724588752679878 Q 0.06580065739666738, -0.1888657551970881 0.9250171039679689, -0.3799254629091236L 0.9250171039679689, -0.3799254629091236 L 0.9218229926677745, -0.3876111068958529 L 0.9185650253333475, -0.3952699004912297 M 0.9185650253333475,-0.3952699004912297 Q 0.06598801372700568, -0.18880037617643805 -0.47234949890694744, -0.8814113403413616L -0.47234949890694744, -0.8814113403413616 L -0.480539367595909, -0.8769731559121544 L -0.48868753919669117, -0.8724588752679878 \", \"type\": \"path\"}, {\"fillcolor\": \"#f0f3e7\", \"layer\": \"below\", \"line\": {\"color\": \"rgb(175,175,175)\", \"width\": 0.5}, \"path\": \"M -0.5745190732998395,-0.8184911938528683 Q 0.0697288537513084, -0.18745102548273415 0.9697647290089806, -0.24404173899179296L 0.9697647290089806, -0.24404173899179296 L 0.9694218614114601, -0.24540019278219763 L 0.969077090882556, -0.24675816486309474 M 0.969077090882556,-0.24675816486309474 Q 0.06977664624618939, -0.18743324048480342 -0.5718050400254702, -0.820389539305244L -0.5718050400254702, -0.820389539305244 L -0.5731628425906798, -0.8194414902074287 L -0.5745190732998395, -0.8184911938528683 \", \"type\": \"path\"}, {\"fillcolor\": \"#f0f3e7\", \"layer\": \"below\", \"line\": {\"color\": \"rgb(175,175,175)\", \"width\": 0.5}, \"path\": \"M -0.5680630085040278,-0.8229850657025028 Q 0.08698178998409926, -0.1800948866879958 0.9977715992405772, -0.06672207842162069L 0.9977715992405772, -0.06672207842162069 L 0.9975896198864587, -0.06938984287913458 L 0.9974005076830734, -0.07205711119346492 M 0.9974005076830734,-0.07205711119346492 Q 0.0871712189153895, -0.18000327383913117 -0.5619143070890118, -0.8271954493882784L -0.5619143070890118, -0.8271954493882784 L -0.5649925798374774, -0.8250959851608731 L -0.5680630085040278, -0.8229850657025028 \", \"type\": \"path\"}, {\"fillcolor\": \"#e2ecde\", \"layer\": \"below\", \"line\": {\"color\": \"rgb(175,175,175)\", \"width\": 0.5}, \"path\": \"M -0.029397765987632288,-0.9995677922757097 Q 0.005609845968797774, -0.19992130858967078 0.0854036587620182, -0.9963464332600688L 0.0854036587620182, -0.9963464332600688 L 0.07830987967312268, -0.9969290660551436 L 0.07121213331466922, -0.997461193264567 M 0.07121213331466922,-0.997461193264567 Q 0.005083257614331753, -0.19993539079419217 -0.020432986505172154, -0.9997912247376847L -0.020432986505172154, -0.9997912247376847 L -0.024915626703256935, -0.9996895575857457 L -0.029397765987632288, -0.9995677922757097 \", \"type\": \"path\"}, {\"fillcolor\": \"#e2ecde\", \"layer\": \"below\", \"line\": {\"color\": \"rgb(175,175,175)\", \"width\": 0.5}, \"path\": \"M -0.06022460822747826,-0.9981848508987936 Q 0.06157874316045789, -0.19028415170680496 0.6336156968585499, -0.7736479488077599L 0.6336156968585499, -0.7736479488077599 L 0.6321950828512629, -0.7748092521509309 L 0.6307723403887812, -0.7759679468898568 M 0.6307723403887812,-0.7759679468898568 Q 0.06145542824144188, -0.1903240140908682 -0.057854974796087914, -0.9983249981300398L -0.057854974796087914, -0.9983249981300398 L -0.05903983309653211, -0.9982556276364956 L -0.06022460822747826, -0.9981848508987936 \", \"type\": \"path\"}, {\"fillcolor\": \"#e2ecde\", \"layer\": \"below\", \"line\": {\"color\": \"rgb(175,175,175)\", \"width\": 0.5}, \"path\": \"M -0.06180417614263151,-0.9980882945968912 Q 0.1014300893218732, -0.17237150860904138 0.9025236088015892, -0.4306403784548727L 0.9025236088015892, -0.4306403784548727 L 0.9020451587702079, -0.43164167029983386 L 0.9015655978704014, -0.432642430578169 M 0.9015655978704014,-0.432642430578169 Q 0.10137518878085712, -0.17240380245123826 -0.06022460822747826, -0.9981848508987936L -0.06022460822747826, -0.9981848508987936 L -0.061014411285297936, -0.9981368852093928 L -0.06180417614263151, -0.9980882945968912 \", \"type\": \"path\"}, {\"fillcolor\": \"#e2ecde\", \"layer\": \"below\", \"line\": {\"color\": \"rgb(175,175,175)\", \"width\": 0.5}, \"path\": \"M -0.06759457085844273,-0.9977128715168824 Q 0.12935279980335124, -0.15253803847904346 0.9953491823329566, -0.09633278377123088L 0.9953491823329566, -0.09633278377123088 L 0.9953205172382584, -0.09662850492771675 L 0.9952917642839407, -0.09692421755454367 M 0.9952917642839407,-0.09692421755454367 Q 0.12934771190814562, -0.15254235288642748 -0.06706826245457681, -0.9977483892100873L -0.06706826245457681, -0.9977483892100873 L -0.06733141899848208, -0.997730665067307 L -0.06759457085844273, -0.9977128715168824 \", \"type\": \"path\"}, {\"fillcolor\": \"#d4e5d6\", \"layer\": \"below\", \"line\": {\"color\": \"rgb(175,175,175)\", \"width\": 0.5}, \"path\": \"M 0.21323227233099715,-0.977001534306144 Q 0.10558531189797193, -0.16985800514373173 0.7817283593128495, -0.6236190922719096L 0.7817283593128495, -0.6236190922719096 L 0.7715833091613056, -0.6361282866086755 L 0.7612381087673616, -0.6484724680048418 M 0.7612381087673616,-0.6484724680048418 Q 0.10565868152850462, -0.16981237592607332 0.2454253250847185, -0.9694154990544871L 0.2454253250847185, -0.9694154990544871 L 0.2293601641512737, -0.9733416230186094 L 0.21323227233099715, -0.977001534306144 \", \"type\": \"path\"}, {\"fillcolor\": \"#d4e5d6\", \"layer\": \"below\", \"line\": {\"color\": \"rgb(175,175,175)\", \"width\": 0.5}, \"path\": \"M 0.0854036587620182,-0.9963464332600688 Q 0.12255349426272875, -0.15805265275848843 0.9436885332354598, -0.33083523427819256L 0.9436885332354598, -0.33083523427819256 L 0.9406515290038399, -0.33937398395094776 L 0.9375372656375344, -0.3478848596028509 M 0.9375372656375344,-0.3478848596028509 Q 0.12274228619148252, -0.1579060834182401 0.10582496479591261, -0.994384773025987L 0.10582496479591261, -0.994384773025987 L 0.09561934241921774, -0.9954179731928273 L 0.0854036587620182, -0.9963464332600688 \", \"type\": \"path\"}, {\"fillcolor\": \"#d4e5d6\", \"layer\": \"below\", \"line\": {\"color\": \"rgb(175,175,175)\", \"width\": 0.5}, \"path\": \"M 0.010981297228877135,-0.9999397037377659 Q 0.12360408062071415, -0.15723241158841264 0.969077090882556, -0.24675816486309474L 0.969077090882556, -0.24675816486309474 L 0.9689473114727303, -0.24726727965860723 L 0.9688172645941361, -0.24777632619831888 M 0.9688172645941361,-0.24777632619831888 Q 0.12362021751821384, -0.1572197246554945 0.012237273776348933, -0.9999251217618861L 0.012237273776348933, -0.9999251217618861 L 0.011609287792094568, -0.9999326099477706 L 0.010981297228877135, -0.9999397037377659 \", \"type\": \"path\"}, {\"fillcolor\": \"#d4e5d6\", \"layer\": \"below\", \"line\": {\"color\": \"rgb(175,175,175)\", \"width\": 0.5}, \"path\": \"M 0.046553089447538255,-0.9989158172052786 Q 0.14150547377113518, -0.14133718864052225 0.9989705060740446, -0.04536439125754154L 0.9989705060740446, -0.04536439125754154 L 0.9987658043116254, -0.0496675763225069 L 0.998542566150505, -0.053969839591798775 M 0.998542566150505,-0.053969839591798775 Q 0.14175441826717236, -0.1410875079577762 0.058678121500908106, -0.9982769545858127L 0.058678121500908106, -0.9982769545858127 L 0.0526165751050056, -0.9986147886068077 L 0.046553089447538255, -0.9989158172052786 \", \"type\": \"path\"}, {\"fillcolor\": \"#c6decd\", \"layer\": \"below\", \"line\": {\"color\": \"rgb(175,175,175)\", \"width\": 0.5}, \"path\": \"M 0.6862718880369496,-0.7273451008222992 Q 0.16578954186279518, -0.1118652216237222 0.9313476373329466, -0.36413126538974677L 0.9313476373329466, -0.36413126538974677 L 0.9282159648245251, -0.37204182916021156 L 0.9250171039679689, -0.3799254629091236 M 0.9250171039679689,-0.3799254629091236 Q 0.16588683856018824, -0.11172088789705376 0.6997928312123554, -0.7143458499801031L 0.6997928312123554, -0.7143458499801031 L 0.6930628374235112, -0.7208771763500852 L 0.6862718880369496, -0.7273451008222992 \", \"type\": \"path\"}, {\"fillcolor\": \"#c6decd\", \"layer\": \"below\", \"line\": {\"color\": \"rgb(175,175,175)\", \"width\": 0.5}, \"path\": \"M 0.7283305730995804,-0.6852259308348136 Q 0.18080497813105514, -0.0854959641329851 0.9917561846333401, -0.12813926112445062L 0.9917561846333401, -0.12813926112445062 L 0.9904034501904633, -0.13820638860351744 L 0.9889485289441367, -0.14825925636946935 M 0.9889485289441367,-0.14825925636946935 Q 0.18094725786518417, -0.0851944239435337 0.7443306555292704, -0.6678112571972463L 0.7443306555292704, -0.6678112571972463 L 0.7363820959876295, -0.6765658938409959 L 0.7283305730995804, -0.6852259308348136 \", \"type\": \"path\"}, {\"fillcolor\": \"#c6decd\", \"layer\": \"below\", \"line\": {\"color\": \"rgb(175,175,175)\", \"width\": 0.5}, \"path\": \"M 0.6997928312123554,-0.7143458499801031 Q 0.18313980344542635, -0.0803729581014075 0.9995065603657315, -0.031410759078131026L 0.9995065603657315, -0.031410759078131026 L 0.9992628894511107, -0.038388510856989355 L 0.9989705060740446, -0.04536439125754154 M 0.9989705060740446,-0.04536439125754154 Q 0.18334816282224856, -0.07989650298796708 0.7133534022735654, -0.7008044830512493L 0.7133534022735654, -0.7008044830512493 L 0.7066055557794861, -0.7076076515566825 L 0.6997928312123554, -0.7143458499801031 \", \"type\": \"path\"}, {\"fillcolor\": \"#aad0bc\", \"layer\": \"below\", \"line\": {\"color\": \"rgb(175,175,175)\", \"width\": 0.5}, \"path\": \"M 0.9697647290089806,-0.24404173899179296 Q 0.19731868578984846, -0.03263948893850903 0.9966945433029462, -0.0812403061917644L 0.9966945433029462, -0.0812403061917644 L 0.9965357937828541, -0.0831649668404724 L 0.9963733276625657, -0.08508931732377138 M 0.9963733276625657,-0.08508931732377138 Q 0.19732995152950047, -0.03257130991171529 0.970865898472219, -0.23962346960122835L 0.970865898472219, -0.23962346960122835 L 0.9703178285261074, -0.24183323105888407 L 0.9697647290089806, -0.24404173899179296 \", \"type\": \"path\"}, {\"fillcolor\": \"#f2e6ce\", \"layer\": \"below\", \"line\": {\"color\": \"rgb(150,150,150)\", \"width\": 0.45}, \"path\": \"M 1.1, 0.0 L 1.0997404386485046, 0.02389492835718731 L 1.0989618770887362, 0.04777857998728683 L 1.097664682747042, 0.07163968348503356 L 1.0958494678079973, 0.09546697808629648 L 1.093517088925498, 0.11924921898236798 L 1.0906686468184805, 0.14297518262672337 L 1.0873054857514592, 0.1666336720317462 L 1.0834291929001285, 0.1902135220529195 L 1.0790415976023269, 0.21370360465798954 L 1.0741447704947187, 0.23709283417861501 L 1.0687410225355987, 0.26037017254202355 L 1.062832903914282, 0.2835246344802064 L 0.9662117308311654, 0.2577496677092785 L 0.9715827477596352, 0.236700156856385 L 0.9764952459042897, 0.21553894016237726 L 0.9809469069112061, 0.19427600423453592 L 0.9849356299092076, 0.17292138368447227 L 0.9884595325013265, 0.15148515639249654 L 0.991516951653164, 0.1299774387515667 L 0.9941064444777253, 0.10840838089306179 L 0.9962267889163611, 0.08678816189663316 L 0.9978769843154927, 0.06512698498639415 L 0.999056251898851, 0.0434350727157153 L 0.999764035135004, 0.02172266214289755 L 1.0, 0.0 L 1.1 ,0.0\", \"type\": \"path\"}, {\"fillcolor\": \"#ecd5bb\", \"layer\": \"below\", \"line\": {\"color\": \"rgb(150,150,150)\", \"width\": 0.45}, \"path\": \"M 1.053402736048514, 0.3167691204734214 L 1.0466529341993787, 0.3384045438995038 L 1.0394588226680288, 0.35989631281467144 L 1.031823455392693, 0.38123530384984466 L 1.0237500736269878, 0.4024124584909584 L 1.0152421045639866, 0.42341878692434926 L 1.0063031598813597, 0.44424537185297835 L 0.9969370342081967, 0.4648833722818714 L 0.987147703514168, 0.4853240272711671 L 0.9769393234217035, 0.5055586596551823 L 0.9663162274419094, 0.5255786797259153 L 0.9552829251349702, 0.545375588879421 L 0.9438441001958161, 0.5649409832235138 L 0.9320046084658704, 0.5842665571452637 L 0.9197694758717191, 0.603344106836773 L 0.9071438962915781, 0.6221655337777355 L 0.8941332293504654, 0.640722848173302 L 0.880742998145011, 0.6590081723457892 L 0.8669788868988741, 0.6770137440787959 L 0.8528467385497607, 0.6947319199123042 L 0.8383525522690642, 0.7121551783873696 L 0.8235024809151869, 0.7292761232390188 L 0.8083028284216183, 0.7460874865360041 L 0.7927600471208831, 0.7625821317660777 L 0.7768807350054915, 0.7787530568654788 L 0.7606716329270562, 0.7945933971913473 L 0.7441396217347664, 0.8100964284357999 L 0.7272917193544303, 0.8252555694804349 L 0.710135077809329, 0.840064385190051 L 0.692676980184145, 0.8545165891443968 L 0.6749248375332537, 0.8686060463067887 L 0.656886185734693, 0.8823267756284666 L 0.6385686822911425, 0.8956729525875805 L 0.6199801030792732, 0.9086389116617305 L 0.6011283390488478, 0.9212191487330111 L 0.5820213928729697, 0.9334083234245387 L 0.5626673755509081, 0.9452012613674685 L 0.543074502964933, 0.9565929563975428 L 0.5232510923926331, 0.9675785726802327 L 0.5032055589761861, 0.9781534467635762 L 0.48294641215008605, 0.9883130895578383 L 0.4624822520288454, 0.9980531882411517 L 0.44182176575619886, 1.007369608090335 L 0.4209737238173669, 1.0162583942361014 L 0.399946976315938, 1.0247157733419245 L 0.3787504492169522, 1.0327381552058377 L 0.35739314055778426, 1.0403221342844937 L 0.3358841166284263, 1.0474644911388367 L 0.3142325081228027, 1.0541621938007704 L 0.2856659164752751, 0.9583292670916094 L 0.305349196934933, 0.9522404464898514 L 0.32490285505253114, 0.9457473948040851 L 0.34431859019722927, 0.9388528683689433 L 0.36358816028721636, 0.9315597939472041 L 0.38270338528851533, 0.9238712674873649 L 0.4016561506874535, 0.9157905528093953 L 0.420438410935314, 0.9073210802192287 L 0.43904219286371454, 0.8984664450525801 L 0.4574595990692601, 0.8892304061487055 L 0.47568281126603007, 0.8796168842547569 L 0.4937040936044845, 0.8696299603614025 L 0.5115157959553709, 0.8592738739704259 L 0.5291103571572452, 0.8485530212950352 L 0.5464803082262252, 0.8374719533936464 L 0.5636182755266119, 0.8260353742379367 L 0.5805169839010386, 0.8142481387159822 L 0.5971692597588119, 0.8021152505713333 L 0.6135680341211397, 0.7896418602788988 L 0.6297063456219499, 0.7768332628585425 L 0.6455773434630263, 0.7636948956273191 L 0.6611742903222093, 0.7502323358913043 L 0.676490565213424, 0.7364512985779998 L 0.6915196662973238, 0.7223576338103156 L 0.7062552136413558, 0.7079573244231625 L 0.7206909519280755, 0.6932564834237069 L 0.734820753110562, 0.6782613513963673 L 0.7486386190138061, 0.6629782938536534 L 0.7621386838809674, 0.6474137985339723 L 0.7753152168634188, 0.6315744726475492 L 0.7881626244535219, 0.6154670400716326 L 0.8006754528591008, 0.599098338496172 L 0.8128483903186048, 0.5824753165211837 L 0.82467626935598, 0.5656050307070323 L 0.83615406897429, 0.5484946425788845 L 0.8472769167871549, 0.5311514155866033 L 0.8580400910871054, 0.5135827120213762 L 0.8684390228499728, 0.49579598989038265 L 0.878469297674463, 0.4777987997508321 L 0.888126657656094, 0.4595987815047112 L 0.8974070031946981, 0.4412036611556064 L 0.9063063947347242, 0.42262124752897395 L 0.9148210544375995, 0.403859428957253 L 0.9229473677854423, 0.3849261699312266 L 0.9306818851154434, 0.3658295077190531 L 0.9380213230842663, 0.34657754895440424 L 0.9449625660618443, 0.32717846619515584 L 0.9515026674539806, 0.30764049445409436 L 0.9576388509531945, 0.2879719277031103 L 1.053402736048514 ,0.3167691204734214\", \"type\": \"path\"}, {\"fillcolor\": \"#e6c4a9\", \"layer\": \"below\", \"line\": {\"color\": \"rgb(150,150,150)\", \"width\": 0.45}, \"path\": \"M 0.28096541865017205, 1.063512310000563 L 0.258197620145226, 1.0692679687297013 L 0.23531213895131134, 1.0745362707987847 L 0.21231940593515605, 1.0793148149929854 L 0.18922990084729605, 1.0836014233219347 L 0.1660541475455584, 1.087394142012416 L 0.1428027091984415, 1.0906912423988677 L 0.1194861834705767, 1.0934912217112838 L 0.09611519769247055, 1.0957928037601532 L 0.07270040401672033, 1.0975949395181293 L 0.04925247456292155, 1.0988968075981607 L 0.025782096553471228, 1.0996978146278675 L 0.002299967442488847, 1.0999975955199919 L -0.021183209959926348, 1.0997960136387992 L -0.04465673236587927, 1.0990931608623549 L -0.0681099008880806, 1.0978893575406476 L -0.09153202591624279, 1.0961851523495783 L -0.11491243198924762, 1.0939813220408825 L -0.1382404626608649, 1.0912788710880965 L -0.16150548535680398, 1.0880790312287354 L -0.1846968962208867, 1.0843832609028836 L -0.20780412494812656, 1.0801932445884597 L -0.23081663960252227, 1.0755108920334557 L -0.2537239514173571, 1.0703383373855029 L -0.2765156195758261, 1.064677938219158 L -0.2513778359780237, 0.967889034744689 L -0.2306581376521428, 0.9730348521686389 L -0.20983330872956568, 0.9777371745758687 L -0.18891284086193322, 0.9819938587167814 L -0.16790626929171518, 0.9858029644571668 L -0.14682316850618543, 0.9891627556624867 L -0.12567314787351352, 0.9920717009891785 L -0.10446584726295238, 0.9945284745826203 L -0.0832109326511298, 0.9965319566814348 L -0.061918091716436904, 0.9980812341278614 L -0.0405970294235266, 0.999175600783959 L -0.019257463599933043, 0.9998145578534537 L 0.002090879493171679, 0.9999978141090835 L 0.02343826959406475, 0.9997252860253341 L 0.04477497687538322, 0.9989970978165096 L 0.06609127637883666, 0.9978135813801174 L 0.0873774524477005, 0.9961752761455936 L 0.10862380315506971, 0.9940829288284396 L 0.12982064472585592, 0.9915374930898796 L 0.15095831595050763, 0.9885401291021962 L 0.17202718258845093, 0.9850922030199405 L 0.19301764175923275, 0.9811952863572595 L 0.21392012631937393, 0.9768511552716223 L 0.23472510922293274, 0.9720617897542739 L 0.25542310786379274, 0.9668293727277846 L 0.28096541865017205 ,1.063512310000563\", \"type\": \"path\"}, {\"fillcolor\": \"#e1b396\", \"layer\": \"below\", \"line\": {\"color\": \"rgb(150,150,150)\", \"width\": 0.45}, \"path\": \"M -0.3098215180228335, 1.055467018418874 L -0.33255991950131153, 1.048524630107124 L -0.35514297106702863, 1.0410924407091255 L -0.3775601234177847, 1.033173922050275 L -0.3998009047484767, 1.0247727731367084 L -0.42185492564283134, 1.0158929184273713 L -0.4437118839266506, 1.0065385060007703 L -0.46536156948030366, 0.9967139056172682 L -0.48679386900821664, 0.9864237066778209 L -0.5079987707631315, 0.9756727160801144 L -0.528966369222932, 0.9644659559731017 L -0.5496868697178448, 0.9528086614109873 L -0.5701505930058572, 0.9407062779077588 L -0.59034797979422, 0.9281644588934029 L -0.6102695952049099, 0.9151890630730001 L -0.6299061331819817, 0.9017861516899246 L -0.6492484208387388, 0.8879619856944351 L -0.6682874227426946, 0.8737230228189751 L -0.6075340206751768, 0.7942936571081591 L -0.5902258371261261, 0.8072381688131227 L -0.572641939256347, 0.819805592445386 L -0.5547905410953725, 0.8319900573390909 L -0.5366799816311091, 0.8437858717212753 L -0.5183187209144157, 0.8551875253706898 L -0.4997153361071316, 0.8661896921918065 L -0.48087851747539273, 0.8767872327028197 L -0.46181706433011954, 0.8869751964364676 L -0.44253988091656055, 0.8967488242525643 L -0.4230559722548215, 0.9061035505611529 L -0.40337443993331873, 0.9150350054552456 L -0.3835044778571194, 0.9235390167521556 L -0.3634553679531606, 0.9316116119424621 L -0.34323647583434974, 0.9392490200457043 L -0.3228572464245715, 0.9464476733719321 L -0.30232719954664683, 0.9532042091882945 L -0.28165592547530316, 0.9595154712898852 L -0.3098215180228335 ,1.055467018418874\", \"type\": \"path\"}, {\"fillcolor\": \"#dba284\", \"layer\": \"below\", \"line\": {\"color\": \"rgb(150,150,150)\", \"width\": 0.45}, \"path\": \"M -0.6954019666120109, 0.8523004780194294 L -0.7084669983714597, 0.8414716348270657 L -0.7213634273396952, 0.8304425360593763 L -0.7340881843915146, 0.8192158064495398 L -0.7466382412566361, 0.8077941177634296 L -0.6787620375060328, 0.734358288875845 L -0.6673528949013768, 0.7447416422268544 L -0.6557849339451773, 0.7549477600539785 L -0.6440609076104178, 0.7649742134791505 L -0.6321836060109189, 0.7748186163812995 L -0.6954019666120109 ,0.8523004780194294\", \"type\": \"path\"}, {\"fillcolor\": \"#d59171\", \"layer\": \"below\", \"line\": {\"color\": \"rgb(150,150,150)\", \"width\": 0.45}, \"path\": \"M -0.7716432467737357, 0.7839430462147666 L -0.7977521405368404, 0.7573582522616952 L -0.8229456462860459, 0.7299044206324841 L -0.847194855502003, 0.7016130534781551 L -0.8704719432070845, 0.6725166139875522 L -0.7913381301882586, 0.6113787399886839 L -0.7701771413654572, 0.6378300486165045 L -0.7481324057145872, 0.6635494733022582 L -0.7252292186698549, 0.6885075020560865 L -0.701493860703396, 0.7126754965588787 L -0.7716432467737357 ,0.7839430462147666\", \"type\": \"path\"}, {\"fillcolor\": \"#d0805f\", \"layer\": \"below\", \"line\": {\"color\": \"rgb(150,150,150)\", \"width\": 0.45}, \"path\": \"M -0.8911666751877889, 0.6448425831431591 L -0.9052501580813975, 0.6249177156183083 L -0.918888239316187, 0.6046853757503964 L -0.9320742086762565, 0.5841555182659244 L -0.944801578394027, 0.5633382442761679 L -0.9570640863423576, 0.5422437963072224 L -0.9688556991156388, 0.5208825532604704 L -0.9801706149983536, 0.49926502530594863 L -0.9910032668196386, 0.47740184871112984 L -1.0013483246924482, 0.455303780607659 L -1.0112006986359683, 0.43298169369862505 L -1.0205555410799896, 0.41044657090896725 L -1.0294082492500136, 0.38770949998165105 L -1.0377544674319115, 0.3647816680222708 L -0.9434131522108284, 0.33161969820206433 L -0.935825681136376, 0.35246318180150094 L -0.9277777646181723, 0.3731332462808793 L -0.9192733623963347, 0.39361972154420455 L -0.9103166588113165, 0.41391252782514454 L -0.9009120607451259, 0.43400168064648165 L -0.8910641954530486, 0.45387729573268054 L -0.8807779082869444, 0.4735295938731549 L -0.8700582603112341, 0.4929489057338385 L -0.8589105258127517, 0.512125676614698 L -0.8473401897056876, 0.5310504711508403 L -0.8353529448328972, 0.5497139779549057 L -0.8229546891649068, 0.5681070141984621 L -0.8101515228979899, 0.5862205301301446 L -0.8911666751877889 ,0.6448425831431591\", \"type\": \"path\"}, {\"fillcolor\": \"#ca6f4c\", \"layer\": \"below\", \"line\": {\"color\": \"rgb(150,150,150)\", \"width\": 0.45}, \"path\": \"M -1.0487004673374065, 0.33200501473065913 L -1.053105897807651, 0.31775457196198037 L -1.05731769349043, 0.30344570359798706 L -1.0613350799620467, 0.2890810406131058 L -1.065157318544865, 0.2746632242407294 L -0.9683248350407863, 0.24969384021884491 L -0.9648500726927697, 0.26280094601191434 L -0.961197903173118, 0.27585973054362456 L -0.9573689980069554, 0.2888677926927094 L -0.9533640612158241, 0.30182274066423553 L -1.0487004673374065 ,0.33200501473065913\", \"type\": \"path\"}, {\"fillcolor\": \"#c45e3a\", \"layer\": \"below\", \"line\": {\"color\": \"rgb(150,150,150)\", \"width\": 0.45}, \"path\": \"M -1.0732591080714113, 0.2410702946066954 L -1.0800597533840273, 0.20849683239808378 L -1.0858720286818018, 0.17573257332227427 L -1.0906906151121396, 0.1428075001752447 L -1.0945111031538763, 0.10975174291502149 L -0.995010093776251, 0.09977431174092861 L -0.9915369228292178, 0.12982500015931336 L -0.9871563897107288, 0.15975688483843115 L -0.9818725030763883, 0.18954257490734888 L -0.9756900982467375, 0.21915481327881398 L -1.0732591080714113 ,0.2410702946066954\", \"type\": \"path\"}, {\"fillcolor\": \"#bf4d28\", \"layer\": \"below\", \"line\": {\"color\": \"rgb(150,150,150)\", \"width\": 0.45}, \"path\": \"M -1.0974184135505418, 0.07531816248563454 L -1.0995533167053158, 0.03134491541445948 L -1.0999269314857592, -0.012678540622733962 L -1.098538659427605, -0.05668168789830299 L -1.095390724295176, -0.10059404121562009 L -0.9958097493592508, -0.09144912837783643 L -0.99867150857055, -0.05152880718027544 L -0.9999335740779628, -0.011525946020667237 L -0.9995939242775598, 0.02849537764950862 L -0.9976531032277651, 0.0684710568051223 L -1.0974184135505418 ,0.07531816248563454\", \"type\": \"path\"}, {\"fillcolor\": \"#af4624\", \"layer\": \"below\", \"line\": {\"color\": \"rgb(150,150,150)\", \"width\": 0.45}, \"path\": \"M -1.0916904799034797, -0.13495145826596508 L -1.084661646392011, -0.1830549448831488 L -1.0755142715409267, -0.23080089192156525 L -1.0642662218359054, -0.27809604286851586 L -1.0509394667624261, -0.32484802169800514 L -0.9553995152385691, -0.2953163833618228 L -0.9675147471235503, -0.25281458442592347 L -0.9777402468553879, -0.2098189926559684 L -0.9860560421745552, -0.16641358625740799 L -0.992445890821345, -0.12268314387815007 L -1.0916904799034797 ,-0.13495145826596508\", \"type\": \"path\"}, {\"fillcolor\": \"#9f4021\", \"layer\": \"below\", \"line\": {\"color\": \"rgb(150,150,150)\", \"width\": 0.45}, \"path\": \"M -1.040217168629746, -0.35769853520515665 L -1.0251146438295915, -0.3989235102198537 L -1.0083790649579374, -0.4395129820091278 L -0.9900370925501486, -0.4794022897054716 L -0.9701179461992725, -0.5185278878344979 L -0.8819254056357022, -0.47138898894045256 L -0.900033720500135, -0.4358202633686105 L -0.9167082408708521, -0.39955725637193434 L -0.9319224034814468, -0.36265773656350336 L -0.9456519714815872, -0.32518048655014237 L -1.040217168629746 ,-0.35769853520515665\", \"type\": \"path\"}, {\"fillcolor\": \"#8f391e\", \"layer\": \"below\", \"line\": {\"color\": \"rgb(150,150,150)\", \"width\": 0.45}, \"path\": \"M -0.9533518969946426, -0.5487441667086006 L -0.9414987881911492, -0.568840954779627 L -0.9292221005775135, -0.5886818222081548 L -0.9165273574160032, -0.6082578426194255 L -0.9034202700514132, -0.6275602087929347 L -0.8899067353415411, -0.6465802366247831 L -0.8759928330041995, -0.6653093690346445 L -0.861684822881961, -0.6837391798155811 L -0.8469891421258652, -0.7018613774249806 L -0.8319124022993544, -0.7196678087149079 L -0.8164613864037411, -0.7371504626001948 L -0.8006430458265485, -0.7543014736626116 L -0.7844644972140896, -0.7711131256895097 L -0.7679330192697011, -0.7875778551453316 L -0.7510560494790661, -0.803688254574433 L -0.7338411807641003, -0.8194370759336871 L -0.7162961580669093, -0.8348172338533659 L -0.698428874865351, -0.8498218088248384 L -0.6802473696217738, -0.8644440503136441 L -0.6617598221665212, -0.8786773797965521 L -0.6015998383332011, -0.7987976179968655 L -0.6184066996561579, -0.7858582275578583 L -0.6349353407866827, -0.772565280749853 L -0.651178325515372, -0.7589247580485144 L -0.667128346149182, -0.7449427963033518 L -0.682778226799151, -0.7306256859767573 L -0.6981209266088192, -0.7159798683139378 L -0.7131495429218996, -0.7010119324450088 L -0.7278573143877713, -0.6857286124205559 L -0.742237624003401, -0.6701367841819952 L -0.7562840020903221, -0.6542434624680981 L -0.7699901292053319, -0.6380557976590732 L -0.7833498389836009, -0.6215810725596191 L -0.7963571209129086, -0.604826699122404 L -0.8090061230377645, -0.5878002151134392 L -0.8212911545921938, -0.5705092807208497 L -0.8332066885600029, -0.5529616751085686 L -0.8447473641613759, -0.5351652929165043 L -0.855907989264681, -0.5171281407087518 L -0.8666835427224023, -0.4988583333714551 L -0.9533518969946426 ,-0.5487441667086006\", \"type\": \"path\"}, {\"fillcolor\": \"#f0f3e7\", \"layer\": \"below\", \"line\": {\"color\": \"rgb(150,150,150)\", \"width\": 0.45}, \"path\": \"M -0.6338333601577075, -0.8990301838932828 L -0.6143963015191937, -0.9124237966425122 L -0.5946763219594858, -0.925397250968868 L -0.5746825022539234, -0.9379445727777146 L -0.5544240492774082, -0.9500599842024936 L -0.5339102917647722, -0.9617379062653484 L -0.5131506760150221, -0.972972961446168 L -0.49215476154145044, -0.9837599761588587 L -0.4709322166696147, -0.9940939831337091 L -0.449492814085207, -1.003970223704748 L -0.4278464263338704, -1.013384150001043 L -0.40600302127502513, -1.0223314270409336 L -0.38397265749181475, -1.0308079347282275 L -0.36176547965926475, -1.0388097697494485 L -0.3393917138728024, -1.0463332473712579 L -0.3168616629392835, -1.0533749031372222 L -0.2941857016326898, -1.059931494463148 L -0.27137427191669616, -1.0660000021302454 L -0.24843787813628807, -1.0715776316754373 L -0.22538708218065853, -1.0766618146781697 L -0.2022324986196054, -1.081250209943134 L -0.1789847898156702, -1.0853407045783552 L -0.15565466101426992, -1.088931414968148 L -0.13225285541407703, -1.0920206876404968 L -0.1087901492199324, -1.0946071000284554 L -0.09890013565448398, -0.9950973636622321 L -0.12022986855825184, -0.9927460796731788 L -0.1415042372856999, -0.9899376499710435 L -0.1627134452869729, -0.9866733677985047 L -0.1838477260178231, -0.98295473631194 L -0.20489734743696228, -0.9787834678892451 L -0.22585261648753457, -0.9741614833413065 L -0.24670388356063286, -0.9690909110274958 L -0.2674415469388089, -0.9635740858755889 L -0.2880560572175304, -0.9576135483065655 L -0.3085379217025476, -0.9512120430647798 L -0.32887770878114975, -0.9443725179540441 L -0.3490660522652861, -0.9370981224802067 L -0.36909365570456826, -0.9293922064008486 L -0.38895129666715483, -0.9212583181827663 L -0.4086298309865518, -0.9127002033679527 L -0.42812019697237697, -0.9037218028488264 L -0.44741341958313674, -0.8943272510535079 L -0.4665006145591109, -0.8845208740419708 L -0.4853729925134293, -0.874307187513953 L -0.5040218629794619, -0.8636908947295395 L -0.5224386384126576, -0.8526768843433769 L -0.5406148381449871, -0.8412702281535164 L -0.558542092290176, -0.8294761787659201 L -0.5762121455979159, -0.8173001671757116 L -0.6338333601577075 ,-0.8990301838932828\", \"type\": \"path\"}, {\"fillcolor\": \"#e2ecde\", \"layer\": \"below\", \"line\": {\"color\": \"rgb(150,150,150)\", \"width\": 0.45}, \"path\": \"M -0.074354027944287, -1.0974841586685706 L -0.06139561493438028, -1.098285290107643 L -0.04842864904447896, -1.0989334219832096 L -0.03545493667237332, -1.0994284640055296 L -0.022476285155690348, -1.0997703472114533 L -0.020432986505173042, -0.9997912247376847 L -0.032231760611248474, -0.9994804218232087 L -0.04402604458588996, -0.9990303836210995 L -0.05581419539489116, -0.9984411728251299 L -0.06759457085844273, -0.9977128715168824 L -0.074354027944287 ,-1.0974841586685706\", \"type\": \"path\"}, {\"fillcolor\": \"#d4e5d6\", \"layer\": \"below\", \"line\": {\"color\": \"rgb(150,150,150)\", \"width\": 0.45}, \"path\": \"M 0.01207942695176485, -1.0999336741115426 L 0.0355157865208012, -1.099426500002528 L 0.05893601663426789, -1.098420022552068 L 0.08232948102029576, -1.0969146988507943 L 0.10568555556264445, -1.0949112125398184 L 0.1289936331256272, -1.0924104735002549 L 0.1522431283713339, -1.0894136174400015 L 0.17542348256694867, -1.085922005377957 L 0.19852416837999087, -1.0819372230259172 L 0.22153469465928557, -1.0774610800684252 L 0.24444461119951238, -1.072495609340905 L 0.26724351348715286, -1.0670430659064525 L 0.28992104742569275, -1.0611059260316988 L 0.31246691403791765, -1.0546868860622192 L 0.33487087414318645, -1.0477888611979889 L 0.3571227530075417, -1.0404149841694488 L 0.37921244496455797, -1.032568603814779 L 0.4011299180048134, -1.0242532835590286 L 0.42286521833191953, -1.0154727997957889 L 0.44440847488302615, -1.0062311401721489 L 0.465749903811753, -0.9965325017777107 L 0.48687981293151605, -0.9863812892384831 L 0.5077886061172183, -0.9757821127165288 L 0.5284667876633232, -0.9647397858162626 L 0.5489049665963168, -0.9532593233983586 L 0.569093860939612, -0.9413459393022555 L 0.5890243019289423, -0.9290050439782996 L 0.6086872381763502, -0.9162422420305928 L 0.6280737397808637, -0.9030633296716682 L 0.6471750023840005, -0.8894742920901476 L 0.6659823511682608, -0.8754813007325716 L 0.6054385010620552, -0.795892091575065 L 0.5883409112581822, -0.808612992809225 L 0.5709761270735124, -0.8209666633378802 L 0.5533520347057729, -0.8329474927550843 L 0.5354766381172202, -0.8445500399802723 L 0.5173580553996472, -0.8557690357293232 L 0.4990045150875607, -0.8665993849075987 L 0.4804243524212029, -0.877036168923875 L 0.46162600556110756, -0.887074647924117 L 0.44261801175592363, -0.8967102629440755 L 0.42340900346522997, -0.905938637979737 L 0.40400770443911466, -0.9147555819746808 L 0.38442292575629045, -0.9231570907234443 L 0.3646635618225576, -0.9311393486900259 L 0.3447385863314163, -0.9386987307407082 L 0.32465704818867425, -0.945831803790408 L 0.30442806740289674, -0.952535328361808 L 0.2840608309435615, -0.9588062600565629 L 0.26356458856881154, -0.964641750937908 L 0.2429486486246844, -0.9700391508240477 L 0.22222237381773852, -0.9749960084917318 L 0.20139517696298687, -0.9795100727894773 L 0.1804765167090826, -0.9835792936599246 L 0.1594758932426806, -0.9872018230708699 L 0.1384028439739399, -0.9903760158545467 L 0.11726693920511563, -0.9931004304547771 L 0.09607777778422222, -0.995373829581653 L 0.07484498274572342, -0.9971951807734494 L 0.05357819694024353, -0.9985636568655163 L 0.03228707865527382, -0.9994786363659346 L 0.010981297228877135, -0.9999397037377659 L 0.01207942695176485 ,-1.0999336741115426\", \"type\": \"path\"}, {\"fillcolor\": \"#c6decd\", \"layer\": \"below\", \"line\": {\"color\": \"rgb(150,150,150)\", \"width\": 0.45}, \"path\": \"M 0.6931532612951881, -0.8541302923768977 L 0.7112683187556563, -0.8391051058922847 L 0.72905777313618, -0.8236957954425375 L 0.746513480813624, -0.8079094150729567 L 0.7636274509467927, -0.7917531914432072 L 0.7803918491344634, -0.7752345205191091 L 0.796799001001807, -0.758360964186925 L 0.8128413957135433, -0.7411402467916981 L 0.8285116894122432, -0.7235802516012104 L 0.8438027085801808, -0.7056890171972006 L 0.8587074533232154, -0.6874747337954742 L 0.8732191005751913, -0.6689457394966009 L 0.887331007221385, -0.6501105164689174 L 0.9010367131395796, -0.6309776870655754 L 0.9143299441573686, -0.6115560098774139 L 0.9272046149243316, -0.5918543757234731 L 0.939654831697779, -0.5718818035809664 L 0.9516748950407736, -0.5516474364565946 L 0.9632593024312118, -0.5311605372010757 L 0.9744027507807574, -0.5104304842688115 L 0.8858206825279612, -0.4640277129716468 L 0.8756902749374652, -0.48287321563734154 L 0.8651589954916123, -0.5014976695059951 L 0.854231665179799, -0.5198925487099694 L 0.8429132862948469, -0.5380494324758845 L 0.8312090401430623, -0.5559600089794671 L 0.819124284672345, -0.573616079150523 L 0.8066645520194409, -0.5910095604262885 L 0.7938355459774465, -0.6081324904514552 L 0.7806431393847412, -0.6249770307231584 L 0.7670933714365279, -0.6415354701792731 L 0.753192444920221, -0.6578002287283731 L 0.7389467233759484, -0.6737638607197255 L 0.7243627281834608, -0.68941905835175 L 0.7094471355767848, -0.7047586550173719 L 0.6942067735879933, -0.7197756285847338 L 0.6786486189214763, -0.7344631046117788 L 0.6627797937601636, -0.7488143594932158 L 0.6466075625051421, -0.7628228235384406 L 0.630139328450171, -0.7764820839789979 L 0.6931532612951881 ,-0.8541302923768977\", \"type\": \"path\"}, {\"fillcolor\": \"#b8d7c5\", \"layer\": \"below\", \"line\": {\"color\": \"rgb(150,150,150)\", \"width\": 0.45}, \"path\": \"M 0.9899549508112818, -0.47957188758749475 L 1.009170901045598, -0.43769177794746855 L 1.0266160513210034, -0.39504364717088053 L 1.0422597904978392, -0.35170233026154485 L 1.0560746683863875, -0.30774387856232294 L 0.9600678803512613, -0.2797671623293845 L 0.947508900452581, -0.31972939114685894 L 0.9332873193827302, -0.3591305883371641 L 0.9174280918596345, -0.39790161631588045 L 0.8999590461920743, -0.4359744432613588 L 0.9899549508112818 ,-0.47957188758749475\", \"type\": \"path\"}, {\"fillcolor\": \"#aad0bc\", \"layer\": \"below\", \"line\": {\"color\": \"rgb(150,150,150)\", \"width\": 0.45}, \"path\": \"M 1.0652200281155486, -0.27441991855823794 L 1.073192354568474, -0.2413672929287951 L 1.080139353001434, -0.2080840649776999 L 1.0860543862518381, -0.17460203350231404 L 1.0909318030966744, -0.1409531872368947 L 0.9917561846333403, -0.12813926112444973 L 0.9873221693198528, -0.15872912136574002 L 0.9819448663649399, -0.18916733179790898 L 0.9756294132440673, -0.21942481175345008 L 0.9683818437414078, -0.24947265323476173 L 1.0652200281155486 ,-0.27441991855823794\", \"type\": \"path\"}, {\"fillcolor\": \"#9cc9b4\", \"layer\": \"below\", \"line\": {\"color\": \"rgb(150,150,150)\", \"width\": 0.45}, \"path\": \"M 1.0948209407123348, -0.10661663930999804 L 1.0964234919305225, -0.08863140720354155 L 1.097730609805143, -0.07062229320001895 L 1.0987419421308606, -0.05259414988860109 L 1.0994572164023046, -0.03455183498594413 L 0.9995065603657315, -0.031410759078131026 L 0.998856311028055, -0.04781286353509189 L 0.9979369180046752, -0.06420208472728994 L 0.9967486290277475, -0.08057400654867414 L 0.9952917642839407, -0.09692421755454367 L 1.0948209407123348 ,-0.10661663930999804\", \"type\": \"path\"}], \"showlegend\": false, \"title\": \"PoC Chord Diagram \\u2012 <br>Selected Techologies Commonly Occurring Together\", \"titlefont\": {\"color\": \"#655643\", \"family\": \"Merryweather\", \"size\": 18}, \"xaxis\": {\"showgrid\": false, \"showline\": false, \"showticklabels\": false, \"title\": \"\", \"zeroline\": false}, \"yaxis\": {\"showgrid\": false, \"showline\": false, \"showticklabels\": false, \"title\": \"\", \"zeroline\": false}}, {\"showLink\": true, \"linkText\": \"Export to plot.ly\", \"plotlyServerURL\": \"https://plot.ly\"})});</script><script type=\"text/javascript\">window.addEventListener(\"resize\", function(){window._Plotly.Plots.resize(document.getElementById(\"040fb939-1706-4398-875e-195df7c3a968\"));});</script>"
      ],
      "text/vnd.plotly.v1+html": [
       "<div id=\"040fb939-1706-4398-875e-195df7c3a968\" style=\"height: 525px; width: 100%;\" class=\"plotly-graph-div\"></div><script type=\"text/javascript\">require([\"plotly\"], function(Plotly) { window.PLOTLYENV=window.PLOTLYENV || {};window.PLOTLYENV.BASE_URL=\"https://plot.ly\";Plotly.newPlot(\"040fb939-1706-4398-875e-195df7c3a968\", [{\"hoverinfo\": \"text\", \"line\": {\"color\": \"#f2e6ce\", \"shape\": \"spline\", \"width\": 0.25}, \"mode\": \"lines\", \"text\": \"Power BI<br>665\", \"x\": [1.1, 1.0997404386485046, 1.0989618770887362, 1.097664682747042, 1.0958494678079973, 1.093517088925498, 1.0906686468184805, 1.0873054857514592, 1.0834291929001285, 1.0790415976023269, 1.0741447704947187, 1.0687410225355987, 1.062832903914282], \"y\": [0.0, 0.02389492835718731, 0.04777857998728683, 0.07163968348503356, 0.09546697808629648, 0.11924921898236798, 0.14297518262672337, 0.1666336720317462, 0.1902135220529195, 0.21370360465798954, 0.23709283417861501, 0.26037017254202355, 0.2835246344802064], \"type\": \"scatter\", \"uid\": \"90368a7c-3765-4268-8358-919f49cea07b\"}, {\"hoverinfo\": \"text\", \"line\": {\"color\": \"#ecd5bb\", \"shape\": \"spline\", \"width\": 0.25}, \"mode\": \"lines\", \"text\": \"Excel<br>2323\", \"x\": [1.053402736048514, 1.0466529341993787, 1.0394588226680288, 1.031823455392693, 1.0237500736269878, 1.0152421045639866, 1.0063031598813597, 0.9969370342081967, 0.987147703514168, 0.9769393234217035, 0.9663162274419094, 0.9552829251349702, 0.9438441001958161, 0.9320046084658704, 0.9197694758717191, 0.9071438962915781, 0.8941332293504654, 0.880742998145011, 0.8669788868988741, 0.8528467385497607, 0.8383525522690642, 0.8235024809151869, 0.8083028284216183, 0.7927600471208831, 0.7768807350054915, 0.7606716329270562, 0.7441396217347664, 0.7272917193544303, 0.710135077809329, 0.692676980184145, 0.6749248375332537, 0.656886185734693, 0.6385686822911425, 0.6199801030792732, 0.6011283390488478, 0.5820213928729697, 0.5626673755509081, 0.543074502964933, 0.5232510923926331, 0.5032055589761861, 0.48294641215008605, 0.4624822520288454, 0.44182176575619886, 0.4209737238173669, 0.399946976315938, 0.3787504492169522, 0.35739314055778426, 0.3358841166284263, 0.3142325081228027], \"y\": [0.3167691204734214, 0.3384045438995038, 0.35989631281467144, 0.38123530384984466, 0.4024124584909584, 0.42341878692434926, 0.44424537185297835, 0.4648833722818714, 0.4853240272711671, 0.5055586596551823, 0.5255786797259153, 0.545375588879421, 0.5649409832235138, 0.5842665571452637, 0.603344106836773, 0.6221655337777355, 0.640722848173302, 0.6590081723457892, 0.6770137440787959, 0.6947319199123042, 0.7121551783873696, 0.7292761232390188, 0.7460874865360041, 0.7625821317660777, 0.7787530568654788, 0.7945933971913473, 0.8100964284357999, 0.8252555694804349, 0.840064385190051, 0.8545165891443968, 0.8686060463067887, 0.8823267756284666, 0.8956729525875805, 0.9086389116617305, 0.9212191487330111, 0.9334083234245387, 0.9452012613674685, 0.9565929563975428, 0.9675785726802327, 0.9781534467635762, 0.9883130895578383, 0.9980531882411517, 1.007369608090335, 1.0162583942361014, 1.0247157733419245, 1.0327381552058377, 1.0403221342844937, 1.0474644911388367, 1.0541621938007704], \"type\": \"scatter\", \"uid\": \"a5c73433-746a-4e94-86cb-f5a7b21c47b2\"}, {\"hoverinfo\": \"text\", \"line\": {\"color\": \"#e6c4a9\", \"shape\": \"spline\", \"width\": 0.25}, \"mode\": \"lines\", \"text\": \"SSIS/SSRS<br>1238\", \"x\": [0.28096541865017205, 0.258197620145226, 0.23531213895131134, 0.21231940593515605, 0.18922990084729605, 0.1660541475455584, 0.1428027091984415, 0.1194861834705767, 0.09611519769247055, 0.07270040401672033, 0.04925247456292155, 0.025782096553471228, 0.002299967442488847, -0.021183209959926348, -0.04465673236587927, -0.0681099008880806, -0.09153202591624279, -0.11491243198924762, -0.1382404626608649, -0.16150548535680398, -0.1846968962208867, -0.20780412494812656, -0.23081663960252227, -0.2537239514173571, -0.2765156195758261], \"y\": [1.063512310000563, 1.0692679687297013, 1.0745362707987847, 1.0793148149929854, 1.0836014233219347, 1.087394142012416, 1.0906912423988677, 1.0934912217112838, 1.0957928037601532, 1.0975949395181293, 1.0988968075981607, 1.0996978146278675, 1.0999975955199919, 1.0997960136387992, 1.0990931608623549, 1.0978893575406476, 1.0961851523495783, 1.0939813220408825, 1.0912788710880965, 1.0880790312287354, 1.0843832609028836, 1.0801932445884597, 1.0755108920334557, 1.0703383373855029, 1.064677938219158], \"type\": \"scatter\", \"uid\": \"b38ce877-2535-46f7-8ae5-614b32d6e0a7\"}, {\"hoverinfo\": \"text\", \"line\": {\"color\": \"#e1b396\", \"shape\": \"spline\", \"width\": 0.25}, \"mode\": \"lines\", \"text\": \"MS SQL Server<br>908\", \"x\": [-0.3098215180228335, -0.33255991950131153, -0.35514297106702863, -0.3775601234177847, -0.3998009047484767, -0.42185492564283134, -0.4437118839266506, -0.46536156948030366, -0.48679386900821664, -0.5079987707631315, -0.528966369222932, -0.5496868697178448, -0.5701505930058572, -0.59034797979422, -0.6102695952049099, -0.6299061331819817, -0.6492484208387388, -0.6682874227426946], \"y\": [1.055467018418874, 1.048524630107124, 1.0410924407091255, 1.033173922050275, 1.0247727731367084, 1.0158929184273713, 1.0065385060007703, 0.9967139056172682, 0.9864237066778209, 0.9756727160801144, 0.9644659559731017, 0.9528086614109873, 0.9407062779077588, 0.9281644588934029, 0.9151890630730001, 0.9017861516899246, 0.8879619856944351, 0.8737230228189751], \"type\": \"scatter\", \"uid\": \"fb27591f-51a2-4ae0-a11d-0eef4506806b\"}, {\"hoverinfo\": \"text\", \"line\": {\"color\": \"#dba284\", \"shape\": \"spline\", \"width\": 0.25}, \"mode\": \"lines\", \"text\": \"PostgreSQL<br>212\", \"x\": [-0.6954019666120109, -0.7084669983714597, -0.7213634273396952, -0.7340881843915146, -0.7466382412566361], \"y\": [0.8523004780194294, 0.8414716348270657, 0.8304425360593763, 0.8192158064495398, 0.8077941177634296], \"type\": \"scatter\", \"uid\": \"643ae787-f22b-43f3-a3b7-53ac682b2809\"}, {\"hoverinfo\": \"text\", \"line\": {\"color\": \"#d59171\", \"shape\": \"spline\", \"width\": 0.25}, \"mode\": \"lines\", \"text\": \"MySQL/MariaDB<br>380\", \"x\": [-0.7716432467737357, -0.7977521405368404, -0.8229456462860459, -0.847194855502003, -0.8704719432070845], \"y\": [0.7839430462147666, 0.7573582522616952, 0.7299044206324841, 0.7016130534781551, 0.6725166139875522], \"type\": \"scatter\", \"uid\": \"09073320-62b7-4d40-9dab-36f0cb0aa101\"}, {\"hoverinfo\": \"text\", \"line\": {\"color\": \"#d0805f\", \"shape\": \"spline\", \"width\": 0.25}, \"mode\": \"lines\", \"text\": \"T-SQL<br>728\", \"x\": [-0.8911666751877889, -0.9052501580813975, -0.918888239316187, -0.9320742086762565, -0.944801578394027, -0.9570640863423576, -0.9688556991156388, -0.9801706149983536, -0.9910032668196386, -1.0013483246924482, -1.0112006986359683, -1.0205555410799896, -1.0294082492500136, -1.0377544674319115], \"y\": [0.6448425831431591, 0.6249177156183083, 0.6046853757503964, 0.5841555182659244, 0.5633382442761679, 0.5422437963072224, 0.5208825532604704, 0.49926502530594863, 0.47740184871112984, 0.455303780607659, 0.43298169369862505, 0.41044657090896725, 0.38770949998165105, 0.3647816680222708], \"type\": \"scatter\", \"uid\": \"a7f26ccc-00e3-40c7-a198-e6516b91a943\"}, {\"hoverinfo\": \"text\", \"line\": {\"color\": \"#ca6f4c\", \"shape\": \"spline\", \"width\": 0.25}, \"mode\": \"lines\", \"text\": \"PL/SQL<br>195\", \"x\": [-1.0487004673374065, -1.053105897807651, -1.05731769349043, -1.0613350799620467, -1.065157318544865], \"y\": [0.33200501473065913, 0.31775457196198037, 0.30344570359798706, 0.2890810406131058, 0.2746632242407294], \"type\": \"scatter\", \"uid\": \"c79553f9-5a56-490e-8725-22942dc474a9\"}, {\"hoverinfo\": \"text\", \"line\": {\"color\": \"#c45e3a\", \"shape\": \"spline\", \"width\": 0.25}, \"mode\": \"lines\", \"text\": \"Pentaho<br>347\", \"x\": [-1.0732591080714113, -1.0800597533840273, -1.0858720286818018, -1.0906906151121396, -1.0945111031538763], \"y\": [0.2410702946066954, 0.20849683239808378, 0.17573257332227427, 0.1428075001752447, 0.10975174291502149], \"type\": \"scatter\", \"uid\": \"7a536112-351c-4137-af05-3b850e075a3e\"}, {\"hoverinfo\": \"text\", \"line\": {\"color\": \"#bf4d28\", \"shape\": \"spline\", \"width\": 0.25}, \"mode\": \"lines\", \"text\": \"Hadoop<br>436\", \"x\": [-1.0974184135505418, -1.0995533167053158, -1.0999269314857592, -1.098538659427605, -1.095390724295176], \"y\": [0.07531816248563454, 0.03134491541445948, -0.012678540622733962, -0.05668168789830299, -0.10059404121562009], \"type\": \"scatter\", \"uid\": \"bb0f90b1-6a8e-4c40-802c-42e90c908c55\"}, {\"hoverinfo\": \"text\", \"line\": {\"color\": \"#af4624\", \"shape\": \"spline\", \"width\": 0.25}, \"mode\": \"lines\", \"text\": \"Spark<br>474\", \"x\": [-1.0916904799034797, -1.084661646392011, -1.0755142715409267, -1.0642662218359054, -1.0509394667624261], \"y\": [-0.13495145826596508, -0.1830549448831488, -0.23080089192156525, -0.27809604286851586, -0.32484802169800514], \"type\": \"scatter\", \"uid\": \"c46c4355-7b4e-40a0-80b6-d9c372e6dec2\"}, {\"hoverinfo\": \"text\", \"line\": {\"color\": \"#9f4021\", \"shape\": \"spline\", \"width\": 0.25}, \"mode\": \"lines\", \"text\": \"Informatica<br>435\", \"x\": [-1.040217168629746, -1.0251146438295915, -1.0083790649579374, -0.9900370925501486, -0.9701179461992725], \"y\": [-0.35769853520515665, -0.3989235102198537, -0.4395129820091278, -0.4794022897054716, -0.5185278878344979], \"type\": \"scatter\", \"uid\": \"30388b68-880f-474e-9484-7420a8788f0e\"}, {\"hoverinfo\": \"text\", \"line\": {\"color\": \"#8f391e\", \"shape\": \"spline\", \"width\": 0.25}, \"mode\": \"lines\", \"text\": \"Qlik<br>989\", \"x\": [-0.9533518969946426, -0.9414987881911492, -0.9292221005775135, -0.9165273574160032, -0.9034202700514132, -0.8899067353415411, -0.8759928330041995, -0.861684822881961, -0.8469891421258652, -0.8319124022993544, -0.8164613864037411, -0.8006430458265485, -0.7844644972140896, -0.7679330192697011, -0.7510560494790661, -0.7338411807641003, -0.7162961580669093, -0.698428874865351, -0.6802473696217738, -0.6617598221665212], \"y\": [-0.5487441667086006, -0.568840954779627, -0.5886818222081548, -0.6082578426194255, -0.6275602087929347, -0.6465802366247831, -0.6653093690346445, -0.6837391798155811, -0.7018613774249806, -0.7196678087149079, -0.7371504626001948, -0.7543014736626116, -0.7711131256895097, -0.7875778551453316, -0.803688254574433, -0.8194370759336871, -0.8348172338533659, -0.8498218088248384, -0.8644440503136441, -0.8786773797965521], \"type\": \"scatter\", \"uid\": \"5b1340fc-8560-4b73-9c20-794000997bed\"}, {\"hoverinfo\": \"text\", \"line\": {\"color\": \"#f0f3e7\", \"shape\": \"spline\", \"width\": 0.25}, \"mode\": \"lines\", \"text\": \"Tableau<br>1244\", \"x\": [-0.6338333601577075, -0.6143963015191937, -0.5946763219594858, -0.5746825022539234, -0.5544240492774082, -0.5339102917647722, -0.5131506760150221, -0.49215476154145044, -0.4709322166696147, -0.449492814085207, -0.4278464263338704, -0.40600302127502513, -0.38397265749181475, -0.36176547965926475, -0.3393917138728024, -0.3168616629392835, -0.2941857016326898, -0.27137427191669616, -0.24843787813628807, -0.22538708218065853, -0.2022324986196054, -0.1789847898156702, -0.15565466101426992, -0.13225285541407703, -0.1087901492199324], \"y\": [-0.8990301838932828, -0.9124237966425122, -0.925397250968868, -0.9379445727777146, -0.9500599842024936, -0.9617379062653484, -0.972972961446168, -0.9837599761588587, -0.9940939831337091, -1.003970223704748, -1.013384150001043, -1.0223314270409336, -1.0308079347282275, -1.0388097697494485, -1.0463332473712579, -1.0533749031372222, -1.059931494463148, -1.0660000021302454, -1.0715776316754373, -1.0766618146781697, -1.081250209943134, -1.0853407045783552, -1.088931414968148, -1.0920206876404968, -1.0946071000284554], \"type\": \"scatter\", \"uid\": \"a4dc365f-b004-4b65-8074-8997be492916\"}, {\"hoverinfo\": \"text\", \"line\": {\"color\": \"#e2ecde\", \"shape\": \"spline\", \"width\": 0.25}, \"mode\": \"lines\", \"text\": \"Microstrategy<br>179\", \"x\": [-0.074354027944287, -0.06139561493438028, -0.04842864904447896, -0.03545493667237332, -0.022476285155690348], \"y\": [-1.0974841586685706, -1.098285290107643, -1.0989334219832096, -1.0994284640055296, -1.0997703472114533], \"type\": \"scatter\", \"uid\": \"8a5a28d3-55fa-4d26-88a6-e24c339383e8\"}, {\"hoverinfo\": \"text\", \"line\": {\"color\": \"#d4e5d6\", \"shape\": \"spline\", \"width\": 0.25}, \"mode\": \"lines\", \"text\": \"Oracle BI<br>1527\", \"x\": [0.01207942695176485, 0.0355157865208012, 0.05893601663426789, 0.08232948102029576, 0.10568555556264445, 0.1289936331256272, 0.1522431283713339, 0.17542348256694867, 0.19852416837999087, 0.22153469465928557, 0.24444461119951238, 0.26724351348715286, 0.28992104742569275, 0.31246691403791765, 0.33487087414318645, 0.3571227530075417, 0.37921244496455797, 0.4011299180048134, 0.42286521833191953, 0.44440847488302615, 0.465749903811753, 0.48687981293151605, 0.5077886061172183, 0.5284667876633232, 0.5489049665963168, 0.569093860939612, 0.5890243019289423, 0.6086872381763502, 0.6280737397808637, 0.6471750023840005, 0.6659823511682608], \"y\": [-1.0999336741115426, -1.099426500002528, -1.098420022552068, -1.0969146988507943, -1.0949112125398184, -1.0924104735002549, -1.0894136174400015, -1.085922005377957, -1.0819372230259172, -1.0774610800684252, -1.072495609340905, -1.0670430659064525, -1.0611059260316988, -1.0546868860622192, -1.0477888611979889, -1.0404149841694488, -1.032568603814779, -1.0242532835590286, -1.0154727997957889, -1.0062311401721489, -0.9965325017777107, -0.9863812892384831, -0.9757821127165288, -0.9647397858162626, -0.9532593233983586, -0.9413459393022555, -0.9290050439782996, -0.9162422420305928, -0.9030633296716682, -0.8894742920901476, -0.8754813007325716], \"type\": \"scatter\", \"uid\": \"bf61c294-c4fc-49c5-9649-972301646406\"}, {\"hoverinfo\": \"text\", \"line\": {\"color\": \"#c6decd\", \"shape\": \"spline\", \"width\": 0.25}, \"mode\": \"lines\", \"text\": \"Python<br>997\", \"x\": [0.6931532612951881, 0.7112683187556563, 0.72905777313618, 0.746513480813624, 0.7636274509467927, 0.7803918491344634, 0.796799001001807, 0.8128413957135433, 0.8285116894122432, 0.8438027085801808, 0.8587074533232154, 0.8732191005751913, 0.887331007221385, 0.9010367131395796, 0.9143299441573686, 0.9272046149243316, 0.939654831697779, 0.9516748950407736, 0.9632593024312118, 0.9744027507807574], \"y\": [-0.8541302923768977, -0.8391051058922847, -0.8236957954425375, -0.8079094150729567, -0.7917531914432072, -0.7752345205191091, -0.758360964186925, -0.7411402467916981, -0.7235802516012104, -0.7056890171972006, -0.6874747337954742, -0.6689457394966009, -0.6501105164689174, -0.6309776870655754, -0.6115560098774139, -0.5918543757234731, -0.5718818035809664, -0.5516474364565946, -0.5311605372010757, -0.5104304842688115], \"type\": \"scatter\", \"uid\": \"c5302286-d64f-40e5-9341-717a315a39b9\"}, {\"hoverinfo\": \"text\", \"line\": {\"color\": \"#b8d7c5\", \"shape\": \"spline\", \"width\": 0.25}, \"mode\": \"lines\", \"text\": \"VBA<br>453\", \"x\": [0.9899549508112818, 1.009170901045598, 1.0266160513210034, 1.0422597904978392, 1.0560746683863875], \"y\": [-0.47957188758749475, -0.43769177794746855, -0.39504364717088053, -0.35170233026154485, -0.30774387856232294], \"type\": \"scatter\", \"uid\": \"202a1f99-14f3-4fef-b20a-f593d0266d47\"}, {\"hoverinfo\": \"text\", \"line\": {\"color\": \"#aad0bc\", \"shape\": \"spline\", \"width\": 0.25}, \"mode\": \"lines\", \"text\": \"Linux<br>353\", \"x\": [1.0652200281155486, 1.073192354568474, 1.080139353001434, 1.0860543862518381, 1.0909318030966744], \"y\": [-0.27441991855823794, -0.2413672929287951, -0.2080840649776999, -0.17460203350231404, -0.1409531872368947], \"type\": \"scatter\", \"uid\": \"0614dc1d-4445-4c5a-91b0-491840144d8a\"}, {\"hoverinfo\": \"text\", \"line\": {\"color\": \"#9cc9b4\", \"shape\": \"spline\", \"width\": 0.25}, \"mode\": \"lines\", \"text\": \"AWS<br>221\", \"x\": [1.0948209407123348, 1.0964234919305225, 1.097730609805143, 1.0987419421308606, 1.0994572164023046], \"y\": [-0.10661663930999804, -0.08863140720354155, -0.07062229320001895, -0.05259414988860109, -0.03455183498594413], \"type\": \"scatter\", \"uid\": \"2f29f3ff-5dbb-47b1-8517-d35a666eafa2\"}, {\"hoverinfo\": \"text\", \"marker\": {\"color\": \"green\", \"size\": 0.5}, \"mode\": \"markers\", \"text\": \"Power BI appears with Excel 136 times\", \"x\": [0.8754646866943823], \"y\": [0.2087141163196851], \"type\": \"scatter\", \"uid\": \"114a6615-88fb-44ed-98ce-3a7988efe0b1\"}, {\"hoverinfo\": \"text\", \"marker\": {\"color\": \"blue\", \"size\": 0.5}, \"mode\": \"markers\", \"text\": \"Excel appears with Power BI 136 times\", \"x\": [0.7629856218202414], \"y\": [0.47733943991208144], \"type\": \"scatter\", \"uid\": \"8d5f95bb-ce39-45da-b60b-f029d3843c81\"}, {\"hoverinfo\": \"text\", \"marker\": {\"color\": \"green\", \"size\": 0.5}, \"mode\": \"markers\", \"text\": \"Power BI appears with SSIS/SSRS 78 times\", \"x\": [0.8932765242310925], \"y\": [0.10980460490170052], \"type\": \"scatter\", \"uid\": \"451bf789-1c4b-4b6f-9074-a8080eea8876\"}, {\"hoverinfo\": \"text\", \"marker\": {\"color\": \"blue\", \"size\": 0.5}, \"mode\": \"markers\", \"text\": \"SSIS/SSRS appears with Power BI 78 times\", \"x\": [0.10260461748608549], \"y\": [0.8941321448592116], \"type\": \"scatter\", \"uid\": \"99b1139a-0ed4-428a-8351-1f5c74a087a4\"}, {\"hoverinfo\": \"text\", \"marker\": {\"color\": \"green\", \"size\": 0.5}, \"mode\": \"markers\", \"text\": \"Power BI appears with MS SQL Server 64 times\", \"x\": [0.895986371625934], \"y\": [0.08490242552833005], \"type\": \"scatter\", \"uid\": \"cd9f1fc0-50ab-4894-9b59-f269566add31\"}, {\"hoverinfo\": \"text\", \"marker\": {\"color\": \"blue\", \"size\": 0.5}, \"mode\": \"markers\", \"text\": \"MS SQL Server appears with Power BI 64 times\", \"x\": [-0.383427130120474], \"y\": [0.8142380707677437], \"type\": \"scatter\", \"uid\": \"0cd3c1b6-1b38-465e-8ccb-2fcad55c95e5\"}, {\"hoverinfo\": \"text\", \"marker\": {\"color\": \"green\", \"size\": 0.5}, \"mode\": \"markers\", \"text\": \"Power BI appears with MySQL/MariaDB 5 times\", \"x\": [0.8999950035265665], \"y\": [0.002998937681212723], \"type\": \"scatter\", \"uid\": \"b3621904-1f8b-4c3f-aff5-67c35ddb09a4\"}, {\"hoverinfo\": \"text\", \"marker\": {\"color\": \"blue\", \"size\": 0.5}, \"mode\": \"markers\", \"text\": \"MySQL/MariaDB appears with Power BI 5 times\", \"x\": [-0.6330575988717192], \"y\": [0.639717184786194], \"type\": \"scatter\", \"uid\": \"91213b6c-a27d-4e4c-aa26-fb1f168d7ff9\"}, {\"hoverinfo\": \"text\", \"marker\": {\"color\": \"green\", \"size\": 0.5}, \"mode\": \"markers\", \"text\": \"Power BI appears with T-SQL 28 times\", \"x\": [0.8993222929396287], \"y\": [0.034920100541215825], \"type\": \"scatter\", \"uid\": \"1fc5141a-c892-44cf-a0db-552a11fe869b\"}, {\"hoverinfo\": \"text\", \"marker\": {\"color\": \"blue\", \"size\": 0.5}, \"mode\": \"markers\", \"text\": \"T-SQL appears with Power BI 28 times\", \"x\": [-0.7627954284183905], \"y\": [0.47764331292712997], \"type\": \"scatter\", \"uid\": \"b7c0c358-4151-415e-8d01-e189825ce9ee\"}, {\"hoverinfo\": \"text\", \"marker\": {\"color\": \"green\", \"size\": 0.5}, \"mode\": \"markers\", \"text\": \"Power BI appears with PL/SQL 3 times\", \"x\": [0.8999998444003419], \"y\": [0.0005292252455415382], \"type\": \"scatter\", \"uid\": \"8cafe5a5-26eb-499e-b73d-23e71b7ed482\"}, {\"hoverinfo\": \"text\", \"marker\": {\"color\": \"blue\", \"size\": 0.5}, \"mode\": \"markers\", \"text\": \"PL/SQL appears with Power BI 3 times\", \"x\": [-0.8583669925971342], \"y\": [0.27056626918326576], \"type\": \"scatter\", \"uid\": \"7d8cb944-7c55-4e8b-abda-d39a5f9bb7e0\"}, {\"hoverinfo\": \"text\", \"marker\": {\"color\": \"green\", \"size\": 0.5}, \"mode\": \"markers\", \"text\": \"Power BI appears with Pentaho 7 times\", \"x\": [0.8999737037850641], \"y\": [0.0068798615824404545], \"type\": \"scatter\", \"uid\": \"f1a40d06-5c57-4edf-ac47-e95a3c20fdf4\"}, {\"hoverinfo\": \"text\", \"marker\": {\"color\": \"blue\", \"size\": 0.5}, \"mode\": \"markers\", \"text\": \"Pentaho appears with Power BI 7 times\", \"x\": [-0.8793752776012584], \"y\": [0.19157014679670098], \"type\": \"scatter\", \"uid\": \"86a82376-f702-47af-8f32-fee424f3fe3d\"}, {\"hoverinfo\": \"text\", \"marker\": {\"color\": \"green\", \"size\": 0.5}, \"mode\": \"markers\", \"text\": \"Power BI appears with Hadoop 14 times\", \"x\": [0.8998948166769032], \"y\": [0.01375932113306113], \"type\": \"scatter\", \"uid\": \"3909a38d-07ba-4cac-8ca8-e7fd6a06c5b7\"}, {\"hoverinfo\": \"text\", \"marker\": {\"color\": \"blue\", \"size\": 0.5}, \"mode\": \"markers\", \"text\": \"Hadoop appears with Power BI 14 times\", \"x\": [-0.8986421560780855], \"y\": [0.04941938202092223], \"type\": \"scatter\", \"uid\": \"065bff80-49b4-43be-b42b-00a0abe426f3\"}, {\"hoverinfo\": \"text\", \"marker\": {\"color\": \"green\", \"size\": 0.5}, \"mode\": \"markers\", \"text\": \"Power BI appears with Spark 19 times\", \"x\": [0.8997869924646007], \"y\": [0.01957979038469644], \"type\": \"scatter\", \"uid\": \"5d6afb87-e6a2-4e14-a144-1a620b7c3ac8\"}, {\"hoverinfo\": \"text\", \"marker\": {\"color\": \"blue\", \"size\": 0.5}, \"mode\": \"markers\", \"text\": \"Spark appears with Power BI 19 times\", \"x\": [-0.8877833898485165], \"y\": [-0.1477858339255727], \"type\": \"scatter\", \"uid\": \"b3839683-44eb-4970-9909-2b7e486db715\"}, {\"hoverinfo\": \"text\", \"marker\": {\"color\": \"green\", \"size\": 0.5}, \"mode\": \"markers\", \"text\": \"Power BI appears with Informatica 5 times\", \"x\": [0.8999873964567406], \"y\": [0.004763005250631794], \"type\": \"scatter\", \"uid\": \"3e4b4742-b8be-486b-a9e2-e8a7788148d9\"}, {\"hoverinfo\": \"text\", \"marker\": {\"color\": \"blue\", \"size\": 0.5}, \"mode\": \"markers\", \"text\": \"Informatica appears with Power BI 5 times\", \"x\": [-0.8492987660113304], \"y\": [-0.297811359843159], \"type\": \"scatter\", \"uid\": \"92f43b86-9c86-4be2-93a4-666ed4cb5ec6\"}, {\"hoverinfo\": \"text\", \"marker\": {\"color\": \"green\", \"size\": 0.5}, \"mode\": \"markers\", \"text\": \"Power BI appears with Qlik 89 times\", \"x\": [0.8892043460856166], \"y\": [0.13898068535753796], \"type\": \"scatter\", \"uid\": \"ccb0a1f6-9235-4552-a5f4-8cf006a422a6\"}, {\"hoverinfo\": \"text\", \"marker\": {\"color\": \"blue\", \"size\": 0.5}, \"mode\": \"markers\", \"text\": \"Qlik appears with Power BI 89 times\", \"x\": [-0.709971971248551], \"y\": [-0.553118251408726], \"type\": \"scatter\", \"uid\": \"42166918-1507-4dab-aaa4-83db42955b84\"}, {\"hoverinfo\": \"text\", \"marker\": {\"color\": \"green\", \"size\": 0.5}, \"mode\": \"markers\", \"text\": \"Power BI appears with Tableau 89 times\", \"x\": [0.8838151857000307], \"y\": [0.16991385324928684], \"type\": \"scatter\", \"uid\": \"78f23abb-58f8-47cc-9a40-5bfd2c047a64\"}, {\"hoverinfo\": \"text\", \"marker\": {\"color\": \"blue\", \"size\": 0.5}, \"mode\": \"markers\", \"text\": \"Tableau appears with Power BI 89 times\", \"x\": [-0.3438103177593623], \"y\": [-0.8317418261709617], \"type\": \"scatter\", \"uid\": \"9feeec2f-1b3a-4ca4-8f06-bfd6929a0da0\"}, {\"hoverinfo\": \"text\", \"marker\": {\"color\": \"green\", \"size\": 0.5}, \"mode\": \"markers\", \"text\": \"Power BI appears with Microstrategy 9 times\", \"x\": [0.899947701731002], \"y\": [0.00970227545925921], \"type\": \"scatter\", \"uid\": \"afe74145-1700-444b-ba86-059a09897d49\"}, {\"hoverinfo\": \"text\", \"marker\": {\"color\": \"blue\", \"size\": 0.5}, \"mode\": \"markers\", \"text\": \"Microstrategy appears with Power BI 9 times\", \"x\": [-0.05100303149573076], \"y\": [-0.8985536660535337], \"type\": \"scatter\", \"uid\": \"4796dff0-4d58-4b4e-9390-701655a47d64\"}, {\"hoverinfo\": \"text\", \"marker\": {\"color\": \"green\", \"size\": 0.5}, \"mode\": \"markers\", \"text\": \"Power BI appears with Oracle BI 63 times\", \"x\": [0.8978220514871483], \"y\": [0.06257446654513694], \"type\": \"scatter\", \"uid\": \"4140ce8b-3c13-4ab0-84c2-cd8016417095\"}, {\"hoverinfo\": \"text\", \"marker\": {\"color\": \"blue\", \"size\": 0.5}, \"mode\": \"markers\", \"text\": \"Oracle BI appears with Power BI 63 times\", \"x\": [0.12683862137007973], \"y\": [-0.8910173758849698], \"type\": \"scatter\", \"uid\": \"24ed10e0-d35f-42aa-bb27-40ba8531c22f\"}, {\"hoverinfo\": \"text\", \"marker\": {\"color\": \"green\", \"size\": 0.5}, \"mode\": \"markers\", \"text\": \"Power BI appears with Python 33 times\", \"x\": [0.8988404956166096], \"y\": [0.045670159181762406], \"type\": \"scatter\", \"uid\": \"4653d270-6c8c-4e22-a4ca-78bdbc3071df\"}, {\"hoverinfo\": \"text\", \"marker\": {\"color\": \"blue\", \"size\": 0.5}, \"mode\": \"markers\", \"text\": \"Python appears with Power BI 33 times\", \"x\": [0.6026738863471471], \"y\": [-0.6684191699190156], \"type\": \"scatter\", \"uid\": \"4f7cd1fa-c730-4a81-a7aa-4a001fb6c858\"}, {\"hoverinfo\": \"text\", \"marker\": {\"color\": \"green\", \"size\": 0.5}, \"mode\": \"markers\", \"text\": \"Power BI appears with VBA 20 times\", \"x\": [0.8996110288648116], \"y\": [0.02645745159298588], \"type\": \"scatter\", \"uid\": \"005a39d0-8729-454c-9bb3-972c83cb7364\"}, {\"hoverinfo\": \"text\", \"marker\": {\"color\": \"blue\", \"size\": 0.5}, \"mode\": \"markers\", \"text\": \"VBA appears with Power BI 20 times\", \"x\": [0.8153984190221032], \"y\": [-0.3809533019364114], \"type\": \"scatter\", \"uid\": \"7b45f096-e4c4-4e00-9e20-01a3366bfaee\"}, {\"hoverinfo\": \"text\", \"marker\": {\"color\": \"green\", \"size\": 0.5}, \"mode\": \"markers\", \"text\": \"Power BI appears with AWS 3 times\", \"x\": [0.8999985996033991], \"y\": [0.0015876750046489685], \"type\": \"scatter\", \"uid\": \"46ae9776-17a8-40ff-8dbe-e004f404a6dc\"}, {\"hoverinfo\": \"text\", \"marker\": {\"color\": \"blue\", \"size\": 0.5}, \"mode\": \"markers\", \"text\": \"AWS appears with Power BI 3 times\", \"x\": [0.8959039364100913], \"y\": [-0.08576792363642323], \"type\": \"scatter\", \"uid\": \"8204cae7-3f34-46ff-928c-eb97a06465f4\"}, {\"hoverinfo\": \"text\", \"marker\": {\"color\": \"green\", \"size\": 0.5}, \"mode\": \"markers\", \"text\": \"Excel appears with SSIS/SSRS 300 times\", \"x\": [0.43283941051760344], \"y\": [0.7890817731406382], \"type\": \"scatter\", \"uid\": \"af6aff25-9376-4c03-b2b0-d3cde607296a\"}, {\"hoverinfo\": \"text\", \"marker\": {\"color\": \"blue\", \"size\": 0.5}, \"mode\": \"markers\", \"text\": \"SSIS/SSRS appears with Excel 300 times\", \"x\": [-0.171758723479475], \"y\": [0.8834585111416955], \"type\": \"scatter\", \"uid\": \"b1c2c164-a015-48e9-86a3-2a0ee27d244b\"}, {\"hoverinfo\": \"text\", \"marker\": {\"color\": \"green\", \"size\": 0.5}, \"mode\": \"markers\", \"text\": \"Excel appears with MS SQL Server 159 times\", \"x\": [0.6977887367345958], \"y\": [0.5684108363554805], \"type\": \"scatter\", \"uid\": \"2d7ea3c3-5c91-4731-8dc6-6260d1b1d2d9\"}, {\"hoverinfo\": \"text\", \"marker\": {\"color\": \"blue\", \"size\": 0.5}, \"mode\": \"markers\", \"text\": \"MS SQL Server appears with Excel 159 times\", \"x\": [-0.5235040493086011], \"y\": [0.7320816282065121], \"type\": \"scatter\", \"uid\": \"85741117-b9f0-4df0-8fef-f369a2274dc2\"}, {\"hoverinfo\": \"text\", \"marker\": {\"color\": \"green\", \"size\": 0.5}, \"mode\": \"markers\", \"text\": \"Excel appears with PostgreSQL 25 times\", \"x\": [0.8550339159845911], \"y\": [0.2809217017534518], \"type\": \"scatter\", \"uid\": \"4b59d170-32a4-40f9-a437-fbb8562b9fe6\"}, {\"hoverinfo\": \"text\", \"marker\": {\"color\": \"blue\", \"size\": 0.5}, \"mode\": \"markers\", \"text\": \"PostgreSQL appears with Excel 25 times\", \"x\": [-0.5910958990070845], \"y\": [0.678679333836685], \"type\": \"scatter\", \"uid\": \"fd66500e-770f-44cd-8c10-d8af4eb63ca8\"}, {\"hoverinfo\": \"text\", \"marker\": {\"color\": \"green\", \"size\": 0.5}, \"mode\": \"markers\", \"text\": \"Excel appears with MySQL/MariaDB 64 times\", \"x\": [0.8159622796008787], \"y\": [0.37974406943168626], \"type\": \"scatter\", \"uid\": \"77e052bf-b08f-4eee-a6dc-5e56f61ed582\"}, {\"hoverinfo\": \"text\", \"marker\": {\"color\": \"blue\", \"size\": 0.5}, \"mode\": \"markers\", \"text\": \"MySQL/MariaDB appears with Excel 64 times\", \"x\": [-0.7058794035669166], \"y\": [0.5583316824433431], \"type\": \"scatter\", \"uid\": \"60b8742b-4bba-4096-b7b4-990e87963d10\"}, {\"hoverinfo\": \"text\", \"marker\": {\"color\": \"green\", \"size\": 0.5}, \"mode\": \"markers\", \"text\": \"Excel appears with T-SQL 111 times\", \"x\": [0.7870174587829574], \"y\": [0.4365816299053546], \"type\": \"scatter\", \"uid\": \"e77dfb05-7ff6-46a2-a24f-a85056f55add\"}, {\"hoverinfo\": \"text\", \"marker\": {\"color\": \"blue\", \"size\": 0.5}, \"mode\": \"markers\", \"text\": \"T-SQL appears with Excel 111 times\", \"x\": [-0.8267132543122995], \"y\": [0.3557319147115807], \"type\": \"scatter\", \"uid\": \"4a6e80f9-7510-4539-9cb3-d600c68c72d7\"}, {\"hoverinfo\": \"text\", \"marker\": {\"color\": \"green\", \"size\": 0.5}, \"mode\": \"markers\", \"text\": \"Excel appears with PL/SQL 36 times\", \"x\": [0.8513141750209672], \"y\": [0.2920003003566437], \"type\": \"scatter\", \"uid\": \"d82a6a30-1e06-4ea0-bfb5-d9bc0ad4e03d\"}, {\"hoverinfo\": \"text\", \"marker\": {\"color\": \"blue\", \"size\": 0.5}, \"mode\": \"markers\", \"text\": \"PL/SQL appears with Excel 36 times\", \"x\": [-0.8668846374618633], \"y\": [0.24189052344524334], \"type\": \"scatter\", \"uid\": \"f4d2987e-fcff-47b3-a3c5-2d56a5322634\"}, {\"hoverinfo\": \"text\", \"marker\": {\"color\": \"green\", \"size\": 0.5}, \"mode\": \"markers\", \"text\": \"Excel appears with Pentaho 42 times\", \"x\": [0.846348757265404], \"y\": [0.30609439896101703], \"type\": \"scatter\", \"uid\": \"0e13426f-c815-4c55-9812-3eeba756fceb\"}, {\"hoverinfo\": \"text\", \"marker\": {\"color\": \"blue\", \"size\": 0.5}, \"mode\": \"markers\", \"text\": \"Pentaho appears with Excel 42 times\", \"x\": [-0.8948274749044547], \"y\": [0.09635242683045209], \"type\": \"scatter\", \"uid\": \"cd6240fb-3f87-4fab-a068-8fbc1f970f2d\"}, {\"hoverinfo\": \"text\", \"marker\": {\"color\": \"green\", \"size\": 0.5}, \"mode\": \"markers\", \"text\": \"Excel appears with Hadoop 50 times\", \"x\": [0.8331351563960339], \"y\": [0.34042005107948076], \"type\": \"scatter\", \"uid\": \"0d564eb2-306c-46f1-a4eb-33af089a5fe5\"}, {\"hoverinfo\": \"text\", \"marker\": {\"color\": \"blue\", \"size\": 0.5}, \"mode\": \"markers\", \"text\": \"Hadoop appears with Excel 50 times\", \"x\": [-0.8997638282975503], \"y\": [-0.020616820495324848], \"type\": \"scatter\", \"uid\": \"ae78a73b-6478-4f8c-a2fe-23f31958f7c7\"}, {\"hoverinfo\": \"text\", \"marker\": {\"color\": \"green\", \"size\": 0.5}, \"mode\": \"markers\", \"text\": \"Excel appears with Spark 55 times\", \"x\": [0.8253189000739405], \"y\": [0.3589550294685132], \"type\": \"scatter\", \"uid\": \"ec03d4f1-b8c3-4d5a-94be-a65cd49093b5\"}, {\"hoverinfo\": \"text\", \"marker\": {\"color\": \"blue\", \"size\": 0.5}, \"mode\": \"markers\", \"text\": \"Spark appears with Excel 55 times\", \"x\": [-0.8773887898487324], \"y\": [-0.20047172231458704], \"type\": \"scatter\", \"uid\": \"fe351d82-ce9d-4900-af98-20ec79499966\"}, {\"hoverinfo\": \"text\", \"marker\": {\"color\": \"green\", \"size\": 0.5}, \"mode\": \"markers\", \"text\": \"Excel appears with Informatica 79 times\", \"x\": [0.8040265767152076], \"y\": [0.40440235401840124], \"type\": \"scatter\", \"uid\": \"9ecfd7ec-2faa-4fcf-811e-abc87cea0e64\"}, {\"hoverinfo\": \"text\", \"marker\": {\"color\": \"blue\", \"size\": 0.5}, \"mode\": \"markers\", \"text\": \"Informatica appears with Excel 79 times\", \"x\": [-0.8127105298955218], \"y\": [-0.38665436063355096], \"type\": \"scatter\", \"uid\": \"65bb39fb-a283-4eef-b516-56bb03ac771f\"}, {\"hoverinfo\": \"text\", \"marker\": {\"color\": \"green\", \"size\": 0.5}, \"mode\": \"markers\", \"text\": \"Excel appears with Qlik 237 times\", \"x\": [0.5951107584068455], \"y\": [0.675161599343764], \"type\": \"scatter\", \"uid\": \"a0eb1382-09ef-48ae-818c-5da3218ded6e\"}, {\"hoverinfo\": \"text\", \"marker\": {\"color\": \"blue\", \"size\": 0.5}, \"mode\": \"markers\", \"text\": \"Qlik appears with Excel 237 times\", \"x\": [-0.5755104866025282], \"y\": [-0.6919448531570426], \"type\": \"scatter\", \"uid\": \"a88cd9f6-e2c3-49fd-8f17-2c09ccba071e\"}, {\"hoverinfo\": \"text\", \"marker\": {\"color\": \"green\", \"size\": 0.5}, \"mode\": \"markers\", \"text\": \"Excel appears with Tableau 250 times\", \"x\": [0.5220492148245024], \"y\": [0.7331197837332728], \"type\": \"scatter\", \"uid\": \"ea2d5e76-46dc-4803-bce0-5bc27539396a\"}, {\"hoverinfo\": \"text\", \"marker\": {\"color\": \"blue\", \"size\": 0.5}, \"mode\": \"markers\", \"text\": \"Tableau appears with Excel 250 times\", \"x\": [-0.1352176888862371], \"y\": [-0.8897843427551784], \"type\": \"scatter\", \"uid\": \"aa20c0b8-564a-49da-901d-575b65790125\"}, {\"hoverinfo\": \"text\", \"marker\": {\"color\": \"green\", \"size\": 0.5}, \"mode\": \"markers\", \"text\": \"Excel appears with Microstrategy 23 times\", \"x\": [0.8605957284062103], \"y\": [0.26339132910744095], \"type\": \"scatter\", \"uid\": \"ef7ab64a-82d7-48ca-8d8c-b89a05bce4eb\"}, {\"hoverinfo\": \"text\", \"marker\": {\"color\": \"blue\", \"size\": 0.5}, \"mode\": \"markers\", \"text\": \"Microstrategy appears with Excel 23 times\", \"x\": [-0.02918652458439393], \"y\": [-0.8995266237208794], \"type\": \"scatter\", \"uid\": \"d8a0bf83-f67f-46a6-9746-6529012b2dac\"}, {\"hoverinfo\": \"text\", \"marker\": {\"color\": \"green\", \"size\": 0.5}, \"mode\": \"markers\", \"text\": \"Excel appears with Oracle BI 348 times\", \"x\": [0.32022798886790027], \"y\": [0.8411028683494189], \"type\": \"scatter\", \"uid\": \"b7a5372e-e34c-4520-9084-5397cd520f62\"}, {\"hoverinfo\": \"text\", \"marker\": {\"color\": \"blue\", \"size\": 0.5}, \"mode\": \"markers\", \"text\": \"Oracle BI appears with Excel 348 times\", \"x\": [0.49131168655842355], \"y\": [-0.7540642059209], \"type\": \"scatter\", \"uid\": \"3c59b0c2-c1b0-4651-907a-a35975435dd9\"}, {\"hoverinfo\": \"text\", \"marker\": {\"color\": \"green\", \"size\": 0.5}, \"mode\": \"markers\", \"text\": \"Excel appears with Python 189 times\", \"x\": [0.6538066668448013], \"y\": [0.6184956284318355], \"type\": \"scatter\", \"uid\": \"c3432967-494b-4bd6-8639-694617cecb2e\"}, {\"hoverinfo\": \"text\", \"marker\": {\"color\": \"blue\", \"size\": 0.5}, \"mode\": \"markers\", \"text\": \"Python appears with Excel 189 times\", \"x\": [0.7805587298490864], \"y\": [-0.44802686220402127], \"type\": \"scatter\", \"uid\": \"3728225a-583c-42b8-963f-158d76cdfeee\"}, {\"hoverinfo\": \"text\", \"marker\": {\"color\": \"green\", \"size\": 0.5}, \"mode\": \"markers\", \"text\": \"Excel appears with VBA 145 times\", \"x\": [0.7330855378078889], \"y\": [0.5220973034377006], \"type\": \"scatter\", \"uid\": \"431a1ade-9895-437b-a567-93b11f2115ef\"}, {\"hoverinfo\": \"text\", \"marker\": {\"color\": \"blue\", \"size\": 0.5}, \"mode\": \"markers\", \"text\": \"VBA appears with Excel 145 times\", \"x\": [0.8569985572477011], \"y\": [-0.27486991991732873], \"type\": \"scatter\", \"uid\": \"59180f18-05cb-49e9-b516-fa5eacdf2279\"}, {\"hoverinfo\": \"text\", \"marker\": {\"color\": \"green\", \"size\": 0.5}, \"mode\": \"markers\", \"text\": \"Excel appears with Linux 50 times\", \"x\": [0.840192325282925], \"y\": [0.3226094489249681], \"type\": \"scatter\", \"uid\": \"082bd25e-107d-4c14-b592-b70faca3f314\"}, {\"hoverinfo\": \"text\", \"marker\": {\"color\": \"blue\", \"size\": 0.5}, \"mode\": \"markers\", \"text\": \"Linux appears with Excel 50 times\", \"x\": [0.8888511459603173], \"y\": [-0.14122195411843952], \"type\": \"scatter\", \"uid\": \"5e7fe931-65d9-4636-9f8f-9f35e9981b3e\"}, {\"hoverinfo\": \"text\", \"marker\": {\"color\": \"green\", \"size\": 0.5}, \"mode\": \"markers\", \"text\": \"Excel appears with AWS 24 times\", \"x\": [0.8579175196572418], \"y\": [0.27198810537441903], \"type\": \"scatter\", \"uid\": \"d4d3675c-bb9e-43d0-b1f7-2f38d76b0ca5\"}, {\"hoverinfo\": \"text\", \"marker\": {\"color\": \"blue\", \"size\": 0.5}, \"mode\": \"markers\", \"text\": \"AWS appears with Excel 24 times\", \"x\": [0.8985094220306981], \"y\": [-0.05177662138514771], \"type\": \"scatter\", \"uid\": \"4815748a-d1a6-4f8a-ba43-73d444a2c99d\"}, {\"hoverinfo\": \"text\", \"marker\": {\"color\": \"green\", \"size\": 0.5}, \"mode\": \"markers\", \"text\": \"SSIS/SSRS appears with MS SQL Server 142 times\", \"x\": [-0.09034477436244255], \"y\": [0.8954539752245222], \"type\": \"scatter\", \"uid\": \"b43f9bbf-d0c3-47e8-8840-2f1a17889398\"}, {\"hoverinfo\": \"text\", \"marker\": {\"color\": \"blue\", \"size\": 0.5}, \"mode\": \"markers\", \"text\": \"MS SQL Server appears with SSIS/SSRS 142 times\", \"x\": [-0.4779761362820385], \"y\": [0.7625869216980411], \"type\": \"scatter\", \"uid\": \"79a8acf2-5f62-4a0d-9860-64927c6f5fed\"}, {\"hoverinfo\": \"text\", \"marker\": {\"color\": \"green\", \"size\": 0.5}, \"mode\": \"markers\", \"text\": \"SSIS/SSRS appears with PostgreSQL 11 times\", \"x\": [0.22789943316637712], \"y\": [0.8706674728979165], \"type\": \"scatter\", \"uid\": \"56168e77-e80c-4f69-b214-fd9f106f2f74\"}, {\"hoverinfo\": \"text\", \"marker\": {\"color\": \"blue\", \"size\": 0.5}, \"mode\": \"markers\", \"text\": \"PostgreSQL appears with SSIS/SSRS 11 times\", \"x\": [-0.5739236350144148], \"y\": [0.6932616109174378], \"type\": \"scatter\", \"uid\": \"13cc7023-8a87-438d-9b7f-199250995fb7\"}, {\"hoverinfo\": \"text\", \"marker\": {\"color\": \"green\", \"size\": 0.5}, \"mode\": \"markers\", \"text\": \"SSIS/SSRS appears with MySQL/MariaDB 28 times\", \"x\": [0.1838465792612521], \"y\": [0.881022380699796], \"type\": \"scatter\", \"uid\": \"5a75f516-55b8-45b9-a89c-1ab113629591\"}, {\"hoverinfo\": \"text\", \"marker\": {\"color\": \"blue\", \"size\": 0.5}, \"mode\": \"markers\", \"text\": \"MySQL/MariaDB appears with SSIS/SSRS 28 times\", \"x\": [-0.654911759226759], \"y\": [0.617325349897857], \"type\": \"scatter\", \"uid\": \"76f48067-e630-41ae-a6b2-e3514b63ed16\"}, {\"hoverinfo\": \"text\", \"marker\": {\"color\": \"green\", \"size\": 0.5}, \"mode\": \"markers\", \"text\": \"SSIS/SSRS appears with T-SQL 91 times\", \"x\": [0.0407936361603167], \"y\": [0.899075013137847], \"type\": \"scatter\", \"uid\": \"f548c735-a7ef-44aa-ba2a-68b9764d8e1f\"}, {\"hoverinfo\": \"text\", \"marker\": {\"color\": \"blue\", \"size\": 0.5}, \"mode\": \"markers\", \"text\": \"T-SQL appears with SSIS/SSRS 91 times\", \"x\": [-0.8118238459595796], \"y\": [0.38851260356827133], \"type\": \"scatter\", \"uid\": \"3f50d4ac-8859-4fdf-a34b-9d72bb2c7884\"}, {\"hoverinfo\": \"text\", \"marker\": {\"color\": \"green\", \"size\": 0.5}, \"mode\": \"markers\", \"text\": \"SSIS/SSRS appears with PL/SQL 18 times\", \"x\": [0.2016749764643151], \"y\": [0.8771129937859306], \"type\": \"scatter\", \"uid\": \"c1d6113f-68e3-49f9-9d44-74b705353a36\"}, {\"hoverinfo\": \"text\", \"marker\": {\"color\": \"blue\", \"size\": 0.5}, \"mode\": \"markers\", \"text\": \"PL/SQL appears with SSIS/SSRS 18 times\", \"x\": [-0.8650435753944418], \"y\": [0.24839406729791433], \"type\": \"scatter\", \"uid\": \"a75d04f9-9b80-4702-8229-39e055ae05e0\"}, {\"hoverinfo\": \"text\", \"marker\": {\"color\": \"green\", \"size\": 0.5}, \"mode\": \"markers\", \"text\": \"SSIS/SSRS appears with Pentaho 18 times\", \"x\": [0.20820373979284537], \"y\": [0.8755862051998496], \"type\": \"scatter\", \"uid\": \"4a9ee011-258c-44b3-8220-80186e22d9ae\"}, {\"hoverinfo\": \"text\", \"marker\": {\"color\": \"blue\", \"size\": 0.5}, \"mode\": \"markers\", \"text\": \"Pentaho appears with SSIS/SSRS 18 times\", \"x\": [-0.8819305775245281], \"y\": [0.17943928340040954], \"type\": \"scatter\", \"uid\": \"c784aa07-1558-48bd-9187-e3ef79dca8b1\"}, {\"hoverinfo\": \"text\", \"marker\": {\"color\": \"green\", \"size\": 0.5}, \"mode\": \"markers\", \"text\": \"SSIS/SSRS appears with Hadoop 26 times\", \"x\": [0.1936802127421894], \"y\": [0.8789129508615403], \"type\": \"scatter\", \"uid\": \"b9f8f78c-e83a-419e-8cb3-4781ed0bf8a7\"}, {\"hoverinfo\": \"text\", \"marker\": {\"color\": \"blue\", \"size\": 0.5}, \"mode\": \"markers\", \"text\": \"Hadoop appears with SSIS/SSRS 26 times\", \"x\": [-0.89982560803383], \"y\": [0.017716521287996338], \"type\": \"scatter\", \"uid\": \"fe021ed2-6a8a-423d-bf86-460bd40737ac\"}, {\"hoverinfo\": \"text\", \"marker\": {\"color\": \"green\", \"size\": 0.5}, \"mode\": \"markers\", \"text\": \"SSIS/SSRS appears with Spark 35 times\", \"x\": [0.17234507672083552], \"y\": [0.8833443125588625], \"type\": \"scatter\", \"uid\": \"af94d134-9887-499c-91e4-a15885eb3692\"}, {\"hoverinfo\": \"text\", \"marker\": {\"color\": \"blue\", \"size\": 0.5}, \"mode\": \"markers\", \"text\": \"Spark appears with SSIS/SSRS 35 times\", \"x\": [-0.8831088432823839], \"y\": [-0.17354760417951587], \"type\": \"scatter\", \"uid\": \"c7938dc3-646f-4804-b29d-0f41b095678a\"}, {\"hoverinfo\": \"text\", \"marker\": {\"color\": \"green\", \"size\": 0.5}, \"mode\": \"markers\", \"text\": \"SSIS/SSRS appears with Informatica 43 times\", \"x\": [0.1580647507672469], \"y\": [0.8860110239522351], \"type\": \"scatter\", \"uid\": \"5e7e67be-2cbe-47b5-813e-a461db0775f9\"}, {\"hoverinfo\": \"text\", \"marker\": {\"color\": \"blue\", \"size\": 0.5}, \"mode\": \"markers\", \"text\": \"Informatica appears with SSIS/SSRS 43 times\", \"x\": [-0.8297168315867374], \"y\": [-0.3486688678125216], \"type\": \"scatter\", \"uid\": \"867a8cd3-58bf-40b8-a96a-4adec38af5cd\"}, {\"hoverinfo\": \"text\", \"marker\": {\"color\": \"green\", \"size\": 0.5}, \"mode\": \"markers\", \"text\": \"SSIS/SSRS appears with Qlik 43 times\", \"x\": [0.1422721888794903], \"y\": [0.8886836469022251], \"type\": \"scatter\", \"uid\": \"c02de4be-3365-49f5-b4f5-fc7e359e02e6\"}, {\"hoverinfo\": \"text\", \"marker\": {\"color\": \"blue\", \"size\": 0.5}, \"mode\": \"markers\", \"text\": \"Qlik appears with SSIS/SSRS 43 times\", \"x\": [-0.7384731124407059], \"y\": [-0.5144486973471082], \"type\": \"scatter\", \"uid\": \"97d4400c-95f2-40ae-bf76-5cd194d55fac\"}, {\"hoverinfo\": \"text\", \"marker\": {\"color\": \"green\", \"size\": 0.5}, \"mode\": \"markers\", \"text\": \"SSIS/SSRS appears with Tableau 82 times\", \"x\": [0.07294840290091877], \"y\": [0.8970387564170265], \"type\": \"scatter\", \"uid\": \"7c4a6de0-922e-4828-bfac-e552b216d3e3\"}, {\"hoverinfo\": \"text\", \"marker\": {\"color\": \"blue\", \"size\": 0.5}, \"mode\": \"markers\", \"text\": \"Tableau appears with SSIS/SSRS 82 times\", \"x\": [-0.3730304430809133], \"y\": [-0.8190532879702379], \"type\": \"scatter\", \"uid\": \"eec4176c-f8f6-49bf-9939-b62366d551c0\"}, {\"hoverinfo\": \"text\", \"marker\": {\"color\": \"green\", \"size\": 0.5}, \"mode\": \"markers\", \"text\": \"SSIS/SSRS appears with Microstrategy 12 times\", \"x\": [0.22375277734071908], \"y\": [0.8717423327063534], \"type\": \"scatter\", \"uid\": \"d98d8e93-cc40-48f7-b6ef-e974cb0a4e1d\"}, {\"hoverinfo\": \"text\", \"marker\": {\"color\": \"blue\", \"size\": 0.5}, \"mode\": \"markers\", \"text\": \"Microstrategy appears with SSIS/SSRS 12 times\", \"x\": [-0.04614389165768174], \"y\": [-0.8988163000650823], \"type\": \"scatter\", \"uid\": \"ac4e3326-2efe-43cf-9a37-e362973f3622\"}, {\"hoverinfo\": \"text\", \"marker\": {\"color\": \"green\", \"size\": 0.5}, \"mode\": \"markers\", \"text\": \"SSIS/SSRS appears with Oracle BI 139 times\", \"x\": [-0.03815008516754244], \"y\": [0.8991910647919658], \"type\": \"scatter\", \"uid\": \"ecd2e30e-94a7-4518-9c48-b556a592fde1\"}, {\"hoverinfo\": \"text\", \"marker\": {\"color\": \"blue\", \"size\": 0.5}, \"mode\": \"markers\", \"text\": \"Oracle BI appears with SSIS/SSRS 139 times\", \"x\": [0.2778947616657302], \"y\": [-0.8560224888627326], \"type\": \"scatter\", \"uid\": \"f85c177f-7b20-419a-ac4d-671a35389ca7\"}, {\"hoverinfo\": \"text\", \"marker\": {\"color\": \"green\", \"size\": 0.5}, \"mode\": \"markers\", \"text\": \"SSIS/SSRS appears with Python 97 times\", \"x\": [0.005792960149336338], \"y\": [0.8999813562583995], \"type\": \"scatter\", \"uid\": \"b07efc6e-fe4f-47d2-b37d-6d4daee69f92\"}, {\"hoverinfo\": \"text\", \"marker\": {\"color\": \"blue\", \"size\": 0.5}, \"mode\": \"markers\", \"text\": \"Python appears with SSIS/SSRS 97 times\", \"x\": [0.7330501745430159], \"y\": [-0.5221469540296622], \"type\": \"scatter\", \"uid\": \"d46e4666-182f-4ca7-908a-c19c617d2c5b\"}, {\"hoverinfo\": \"text\", \"marker\": {\"color\": \"green\", \"size\": 0.5}, \"mode\": \"markers\", \"text\": \"SSIS/SSRS appears with VBA 47 times\", \"x\": [0.12569691862833737], \"y\": [0.8911791540691137], \"type\": \"scatter\", \"uid\": \"45ed2507-bf3c-4769-b7f2-a166634889a8\"}, {\"hoverinfo\": \"text\", \"marker\": {\"color\": \"blue\", \"size\": 0.5}, \"mode\": \"markers\", \"text\": \"VBA appears with SSIS/SSRS 47 times\", \"x\": [0.8410299828579392], \"y\": [-0.32041936260777765], \"type\": \"scatter\", \"uid\": \"031fa481-8746-4c19-8657-29b00e62c7a0\"}, {\"hoverinfo\": \"text\", \"marker\": {\"color\": \"green\", \"size\": 0.5}, \"mode\": \"markers\", \"text\": \"SSIS/SSRS appears with Linux 14 times\", \"x\": [0.21399739529405065], \"y\": [0.8741882605064895], \"type\": \"scatter\", \"uid\": \"f120520a-5951-4a48-99b8-2b190122f3c2\"}, {\"hoverinfo\": \"text\", \"marker\": {\"color\": \"blue\", \"size\": 0.5}, \"mode\": \"markers\", \"text\": \"Linux appears with SSIS/SSRS 14 times\", \"x\": [0.8743054496404205], \"y\": [-0.21351810398432772], \"type\": \"scatter\", \"uid\": \"b391bac8-5b59-468e-b746-f39a682f7d68\"}, {\"hoverinfo\": \"text\", \"marker\": {\"color\": \"green\", \"size\": 0.5}, \"mode\": \"markers\", \"text\": \"SSIS/SSRS appears with AWS 14 times\", \"x\": [0.21905915441936338], \"y\": [0.8729336096548658], \"type\": \"scatter\", \"uid\": \"6b8f2e19-78b7-4052-9bf2-12d0e9f29cd3\"}, {\"hoverinfo\": \"text\", \"marker\": {\"color\": \"blue\", \"size\": 0.5}, \"mode\": \"markers\", \"text\": \"AWS appears with SSIS/SSRS 14 times\", \"x\": [0.8971752124901224], \"y\": [-0.07125053047734964], \"type\": \"scatter\", \"uid\": \"c90ef222-bff0-4b20-817d-80982d5683d3\"}, {\"hoverinfo\": \"text\", \"marker\": {\"color\": \"green\", \"size\": 0.5}, \"mode\": \"markers\", \"text\": \"MS SQL Server appears with PostgreSQL 26 times\", \"x\": [-0.28649273555836746], \"y\": [0.8531833990838567], \"type\": \"scatter\", \"uid\": \"d72dd144-372c-495c-b171-a6e589210bad\"}, {\"hoverinfo\": \"text\", \"marker\": {\"color\": \"blue\", \"size\": 0.5}, \"mode\": \"markers\", \"text\": \"PostgreSQL appears with MS SQL Server 26 times\", \"x\": [-0.5961169634490139], \"y\": [0.6742733613960491], \"type\": \"scatter\", \"uid\": \"2d1b3e3f-b880-4a7b-86c7-dbd8944a29ef\"}, {\"hoverinfo\": \"text\", \"marker\": {\"color\": \"green\", \"size\": 0.5}, \"mode\": \"markers\", \"text\": \"MS SQL Server appears with MySQL/MariaDB 33 times\", \"x\": [-0.33552547035538405], \"y\": [0.8351183501413427], \"type\": \"scatter\", \"uid\": \"43c26c41-0949-49c8-8a01-5d262bf38c95\"}, {\"hoverinfo\": \"text\", \"marker\": {\"color\": \"blue\", \"size\": 0.5}, \"mode\": \"markers\", \"text\": \"MySQL/MariaDB appears with MS SQL Server 33 times\", \"x\": [-0.6804048450235274], \"y\": [0.5891088582499077], \"type\": \"scatter\", \"uid\": \"2f004cd1-28b8-4ce7-8dc5-bf4de3db724a\"}, {\"hoverinfo\": \"text\", \"marker\": {\"color\": \"green\", \"size\": 0.5}, \"mode\": \"markers\", \"text\": \"MS SQL Server appears with T-SQL 117 times\", \"x\": [-0.4373759113701815], \"y\": [0.7865763231582191], \"type\": \"scatter\", \"uid\": \"8408d0a1-d456-43d9-b0a7-eb18e8ddca67\"}, {\"hoverinfo\": \"text\", \"marker\": {\"color\": \"blue\", \"size\": 0.5}, \"mode\": \"markers\", \"text\": \"T-SQL appears with MS SQL Server 117 times\", \"x\": [-0.8419285705811345], \"y\": [0.3180507538730377], \"type\": \"scatter\", \"uid\": \"cd1476a1-951d-49e3-8367-74dc3b56de14\"}, {\"hoverinfo\": \"text\", \"marker\": {\"color\": \"green\", \"size\": 0.5}, \"mode\": \"markers\", \"text\": \"MS SQL Server appears with PL/SQL 6 times\", \"x\": [-0.25628460957281024], \"y\": [0.8627387779021598], \"type\": \"scatter\", \"uid\": \"9a7dfced-ea80-4d35-a11c-7f43a8a4f339\"}, {\"hoverinfo\": \"text\", \"marker\": {\"color\": \"blue\", \"size\": 0.5}, \"mode\": \"markers\", \"text\": \"PL/SQL appears with MS SQL Server 6 times\", \"x\": [-0.8597479120232147], \"y\": [0.2661456889970657], \"type\": \"scatter\", \"uid\": \"1d44809f-d0e2-4846-ab85-641b4725cc39\"}, {\"hoverinfo\": \"text\", \"marker\": {\"color\": \"green\", \"size\": 0.5}, \"mode\": \"markers\", \"text\": \"MS SQL Server appears with Pentaho 27 times\", \"x\": [-0.3045523798324137], \"y\": [0.8469048635699368], \"type\": \"scatter\", \"uid\": \"268720ac-0278-4368-a4b5-340786d8557e\"}, {\"hoverinfo\": \"text\", \"marker\": {\"color\": \"blue\", \"size\": 0.5}, \"mode\": \"markers\", \"text\": \"Pentaho appears with MS SQL Server 27 times\", \"x\": [-0.8907677935097689], \"y\": [0.12857969530893198], \"type\": \"scatter\", \"uid\": \"7dce6bbc-b519-481d-af9d-1c217c3a65a0\"}, {\"hoverinfo\": \"text\", \"marker\": {\"color\": \"green\", \"size\": 0.5}, \"mode\": \"markers\", \"text\": \"MS SQL Server appears with Hadoop 20 times\", \"x\": [-0.269867704833968], \"y\": [0.8585868749798393], \"type\": \"scatter\", \"uid\": \"21e87bb3-cae7-4d83-a0e2-4e5d21ee6d40\"}, {\"hoverinfo\": \"text\", \"marker\": {\"color\": \"blue\", \"size\": 0.5}, \"mode\": \"markers\", \"text\": \"Hadoop appears with MS SQL Server 20 times\", \"x\": [-0.8993979973604047], \"y\": [0.03291264717541635], \"type\": \"scatter\", \"uid\": \"3381175a-2b27-4376-a8e1-41364cec1bf4\"}, {\"hoverinfo\": \"text\", \"marker\": {\"color\": \"green\", \"size\": 0.5}, \"mode\": \"markers\", \"text\": \"MS SQL Server appears with Spark 16 times\", \"x\": [-0.26360673147642794], \"y\": [0.8605297735234467], \"type\": \"scatter\", \"uid\": \"67de15e6-78b6-483e-9bda-52c24dd890a1\"}, {\"hoverinfo\": \"text\", \"marker\": {\"color\": \"blue\", \"size\": 0.5}, \"mode\": \"markers\", \"text\": \"Spark appears with MS SQL Server 16 times\", \"x\": [-0.8905068848392399], \"y\": [-0.13037441487467022], \"type\": \"scatter\", \"uid\": \"683d9d04-7eec-4009-8067-c28cbad49810\"}, {\"hoverinfo\": \"text\", \"marker\": {\"color\": \"green\", \"size\": 0.5}, \"mode\": \"markers\", \"text\": \"MS SQL Server appears with Informatica 32 times\", \"x\": [-0.3245137079726995], \"y\": [0.8394586668429898], \"type\": \"scatter\", \"uid\": \"0e75967a-9d0e-4c41-9d2c-81de2d19b9e6\"}, {\"hoverinfo\": \"text\", \"marker\": {\"color\": \"blue\", \"size\": 0.5}, \"mode\": \"markers\", \"text\": \"Informatica appears with MS SQL Server 32 times\", \"x\": [-0.8388199805808103], \"y\": [-0.3261610647799779], \"type\": \"scatter\", \"uid\": \"4012c2a2-c728-48e0-821f-ed9f9e76a3c3\"}, {\"hoverinfo\": \"text\", \"marker\": {\"color\": \"green\", \"size\": 0.5}, \"mode\": \"markers\", \"text\": \"MS SQL Server appears with Qlik 25 times\", \"x\": [-0.2776737481828954], \"y\": [0.8560942060136034], \"type\": \"scatter\", \"uid\": \"8893963b-e730-4ebd-8fe3-cf3492059a31\"}, {\"hoverinfo\": \"text\", \"marker\": {\"color\": \"blue\", \"size\": 0.5}, \"mode\": \"markers\", \"text\": \"Qlik appears with MS SQL Server 25 times\", \"x\": [-0.7532468784637192], \"y\": [-0.4925638436636037], \"type\": \"scatter\", \"uid\": \"3ce5f421-13fa-41eb-8b76-31f8dd4242df\"}, {\"hoverinfo\": \"text\", \"marker\": {\"color\": \"green\", \"size\": 0.5}, \"mode\": \"markers\", \"text\": \"MS SQL Server appears with Tableau 42 times\", \"x\": [-0.34815911796531224], \"y\": [0.8299308577090118], \"type\": \"scatter\", \"uid\": \"2258c864-e0d2-4020-9ff5-26be3ff56ca2\"}, {\"hoverinfo\": \"text\", \"marker\": {\"color\": \"blue\", \"size\": 0.5}, \"mode\": \"markers\", \"text\": \"Tableau appears with MS SQL Server 42 times\", \"x\": [-0.4466288299883531], \"y\": [-0.7813595127873179], \"type\": \"scatter\", \"uid\": \"94930e3d-edc2-47d5-a49a-055fd07918df\"}, {\"hoverinfo\": \"text\", \"marker\": {\"color\": \"green\", \"size\": 0.5}, \"mode\": \"markers\", \"text\": \"MS SQL Server appears with Microstrategy 10 times\", \"x\": [-0.25907620033985174], \"y\": [0.8619045900895672], \"type\": \"scatter\", \"uid\": \"cea14af1-6b73-4c96-a28e-37ff8a46a941\"}, {\"hoverinfo\": \"text\", \"marker\": {\"color\": \"blue\", \"size\": 0.5}, \"mode\": \"markers\", \"text\": \"Microstrategy appears with MS SQL Server 10 times\", \"x\": [-0.04875141175606415], \"y\": [-0.8986786410345974], \"type\": \"scatter\", \"uid\": \"c9a28008-c680-494a-9256-128f2aa3d7c5\"}, {\"hoverinfo\": \"text\", \"marker\": {\"color\": \"green\", \"size\": 0.5}, \"mode\": \"markers\", \"text\": \"MS SQL Server appears with Oracle BI 76 times\", \"x\": [-0.4063345951294627], \"y\": [0.8030518020657046], \"type\": \"scatter\", \"uid\": \"a60246b5-68ed-46bb-883f-e79910d048d3\"}, {\"hoverinfo\": \"text\", \"marker\": {\"color\": \"blue\", \"size\": 0.5}, \"mode\": \"markers\", \"text\": \"Oracle BI appears with MS SQL Server 76 times\", \"x\": [0.17789556544122784], \"y\": [-0.8822432588557114], \"type\": \"scatter\", \"uid\": \"61c77cc0-db24-48cf-baf0-8e95c9cc2449\"}, {\"hoverinfo\": \"text\", \"marker\": {\"color\": \"green\", \"size\": 0.5}, \"mode\": \"markers\", \"text\": \"MS SQL Server appears with Python 53 times\", \"x\": [-0.36404627934661415], \"y\": [0.823085843939675], \"type\": \"scatter\", \"uid\": \"3eb5c8d1-f592-4b8d-87d4-227b6224ef20\"}, {\"hoverinfo\": \"text\", \"marker\": {\"color\": \"blue\", \"size\": 0.5}, \"mode\": \"markers\", \"text\": \"Python appears with MS SQL Server 53 times\", \"x\": [0.6487956640327659], \"y\": [-0.6237500992643468], \"type\": \"scatter\", \"uid\": \"fb9b3678-b805-4bb8-905b-cd68ac0f7ae8\"}, {\"hoverinfo\": \"text\", \"marker\": {\"color\": \"green\", \"size\": 0.5}, \"mode\": \"markers\", \"text\": \"MS SQL Server appears with VBA 29 times\", \"x\": [-0.3141285038271374], \"y\": [0.8433998358331143], \"type\": \"scatter\", \"uid\": \"a4852c7b-a39b-4774-8eff-e5ca4ed1091a\"}, {\"hoverinfo\": \"text\", \"marker\": {\"color\": \"blue\", \"size\": 0.5}, \"mode\": \"markers\", \"text\": \"VBA appears with MS SQL Server 29 times\", \"x\": [0.824788544218544], \"y\": [-0.3601719829829286], \"type\": \"scatter\", \"uid\": \"6a554e36-9962-471e-8c61-7d14884cc18c\"}, {\"hoverinfo\": \"text\", \"marker\": {\"color\": \"green\", \"size\": 0.5}, \"mode\": \"markers\", \"text\": \"MS SQL Server appears with Linux 26 times\", \"x\": [-0.29545322964702087], \"y\": [0.8501219848299094], \"type\": \"scatter\", \"uid\": \"5b78a493-18c3-4393-a57b-5c02c182d7fc\"}, {\"hoverinfo\": \"text\", \"marker\": {\"color\": \"blue\", \"size\": 0.5}, \"mode\": \"markers\", \"text\": \"Linux appears with MS SQL Server 26 times\", \"x\": [0.8801425060549174], \"y\": [-0.18801374693189266], \"type\": \"scatter\", \"uid\": \"9dba12c2-1b86-448d-95a1-be9e8612ed13\"}, {\"hoverinfo\": \"text\", \"marker\": {\"color\": \"green\", \"size\": 0.5}, \"mode\": \"markers\", \"text\": \"MS SQL Server appears with AWS 5 times\", \"x\": [-0.25436383113246097], \"y\": [0.8633070377401176], \"type\": \"scatter\", \"uid\": \"e1b799cf-221d-49ca-a1a5-bbf17012cc8c\"}, {\"hoverinfo\": \"text\", \"marker\": {\"color\": \"blue\", \"size\": 0.5}, \"mode\": \"markers\", \"text\": \"AWS appears with MS SQL Server 5 times\", \"x\": [0.8960052327873176], \"y\": [-0.08470314526477095], \"type\": \"scatter\", \"uid\": \"7976ef2a-a7a2-4b42-b105-7c9559eb29d7\"}, {\"hoverinfo\": \"text\", \"marker\": {\"color\": \"green\", \"size\": 0.5}, \"mode\": \"markers\", \"text\": \"PostgreSQL appears with MySQL/MariaDB 35 times\", \"x\": [-0.6075113383252068], \"y\": [0.6640255821926714], \"type\": \"scatter\", \"uid\": \"7e708e8d-ccd8-4394-8ffa-be3e03260d82\"}, {\"hoverinfo\": \"text\", \"marker\": {\"color\": \"blue\", \"size\": 0.5}, \"mode\": \"markers\", \"text\": \"MySQL/MariaDB appears with PostgreSQL 35 times\", \"x\": [-0.6874969997215952], \"y\": [0.5808165591422175], \"type\": \"scatter\", \"uid\": \"3c31033a-4373-4698-ad6b-2507baf244f8\"}, {\"hoverinfo\": \"text\", \"marker\": {\"color\": \"green\", \"size\": 0.5}, \"mode\": \"markers\", \"text\": \"PostgreSQL appears with T-SQL 24 times\", \"x\": [-0.586241062079835], \"y\": [0.6828773075242046], \"type\": \"scatter\", \"uid\": \"21b28b89-ddfc-419f-b681-3bd7a38e176a\"}, {\"hoverinfo\": \"text\", \"marker\": {\"color\": \"blue\", \"size\": 0.5}, \"mode\": \"markers\", \"text\": \"T-SQL appears with PostgreSQL 24 times\", \"x\": [-0.7527960301283182], \"y\": [0.49325260974782914], \"type\": \"scatter\", \"uid\": \"cd62ae9e-bf17-46c1-8ad7-7628fb52eae9\"}, {\"hoverinfo\": \"text\", \"marker\": {\"color\": \"green\", \"size\": 0.5}, \"mode\": \"markers\", \"text\": \"PostgreSQL appears with Pentaho 28 times\", \"x\": [-0.6013975835591531], \"y\": [0.6695677310692412], \"type\": \"scatter\", \"uid\": \"002332d5-5cf5-4f4c-8b3e-cbf7188dcae2\"}, {\"hoverinfo\": \"text\", \"marker\": {\"color\": \"blue\", \"size\": 0.5}, \"mode\": \"markers\", \"text\": \"Pentaho appears with PostgreSQL 28 times\", \"x\": [-0.8919598852795864], \"y\": [0.12003150858015262], \"type\": \"scatter\", \"uid\": \"b6d91d38-2d51-47a3-b858-da7ff2617e63\"}, {\"hoverinfo\": \"text\", \"marker\": {\"color\": \"green\", \"size\": 0.5}, \"mode\": \"markers\", \"text\": \"PostgreSQL appears with Hadoop 3 times\", \"x\": [-0.5692696543786688], \"y\": [0.6970882731789361], \"type\": \"scatter\", \"uid\": \"928222aa-22e5-4484-bca4-6482ff643e31\"}, {\"hoverinfo\": \"text\", \"marker\": {\"color\": \"blue\", \"size\": 0.5}, \"mode\": \"markers\", \"text\": \"Hadoop appears with PostgreSQL 3 times\", \"x\": [-0.8979883960483819], \"y\": [0.060140174280212795], \"type\": \"scatter\", \"uid\": \"9d47bb68-21f2-4fa8-adb0-1b0d6a463e6d\"}, {\"hoverinfo\": \"text\", \"marker\": {\"color\": \"green\", \"size\": 0.5}, \"mode\": \"markers\", \"text\": \"PostgreSQL appears with Spark 5 times\", \"x\": [-0.5700808809379819], \"y\": [0.696425006148526], \"type\": \"scatter\", \"uid\": \"4ae9cf75-b4a9-4224-b603-52214c586a3c\"}, {\"hoverinfo\": \"text\", \"marker\": {\"color\": \"blue\", \"size\": 0.5}, \"mode\": \"markers\", \"text\": \"Spark appears with PostgreSQL 5 times\", \"x\": [-0.8928044589219393], \"y\": [-0.11357903912739907], \"type\": \"scatter\", \"uid\": \"5f856c30-0e87-4652-a9d6-6fed82fdc37b\"}, {\"hoverinfo\": \"text\", \"marker\": {\"color\": \"green\", \"size\": 0.5}, \"mode\": \"markers\", \"text\": \"PostgreSQL appears with Qlik 6 times\", \"x\": [-0.5722066710613868], \"y\": [0.6946794408882747], \"type\": \"scatter\", \"uid\": \"9c21ad97-9a38-425a-8ae5-4535b5cc7812\"}, {\"hoverinfo\": \"text\", \"marker\": {\"color\": \"blue\", \"size\": 0.5}, \"mode\": \"markers\", \"text\": \"Qlik appears with PostgreSQL 6 times\", \"x\": [-0.7787313373515334], \"y\": [-0.45119563852800304], \"type\": \"scatter\", \"uid\": \"3e880685-3f78-4457-94cf-466b96b26d5e\"}, {\"hoverinfo\": \"text\", \"marker\": {\"color\": \"green\", \"size\": 0.5}, \"mode\": \"markers\", \"text\": \"PostgreSQL appears with Tableau 5 times\", \"x\": [-0.5710938272801113], \"y\": [0.6955945948917045], \"type\": \"scatter\", \"uid\": \"83e089ce-51fc-4674-ac41-4de4459607e6\"}, {\"hoverinfo\": \"text\", \"marker\": {\"color\": \"blue\", \"size\": 0.5}, \"mode\": \"markers\", \"text\": \"Tableau appears with PostgreSQL 5 times\", \"x\": [-0.5178293258688794], \"y\": [-0.7361065067435432], \"type\": \"scatter\", \"uid\": \"75e9da6a-6070-490d-a6d7-fe06690cc68f\"}, {\"hoverinfo\": \"text\", \"marker\": {\"color\": \"green\", \"size\": 0.5}, \"mode\": \"markers\", \"text\": \"PostgreSQL appears with Oracle BI 12 times\", \"x\": [-0.5762409924531368], \"y\": [0.6913366174423454], \"type\": \"scatter\", \"uid\": \"40124384-3d53-452f-8978-3d20e4b5409d\"}, {\"hoverinfo\": \"text\", \"marker\": {\"color\": \"blue\", \"size\": 0.5}, \"mode\": \"markers\", \"text\": \"Oracle BI appears with PostgreSQL 12 times\", \"x\": [0.013274250272925866], \"y\": [-0.8999021026087737], \"type\": \"scatter\", \"uid\": \"d60b9b6f-2e28-4937-a015-7eff9634b6f5\"}, {\"hoverinfo\": \"text\", \"marker\": {\"color\": \"green\", \"size\": 0.5}, \"mode\": \"markers\", \"text\": \"PostgreSQL appears with Python 12 times\", \"x\": [-0.5786522204162969], \"y\": [0.6893196702599523], \"type\": \"scatter\", \"uid\": \"b04c17fa-5ca1-4c56-b19f-5c70ebe4438b\"}, {\"hoverinfo\": \"text\", \"marker\": {\"color\": \"blue\", \"size\": 0.5}, \"mode\": \"markers\", \"text\": \"Python appears with PostgreSQL 12 times\", \"x\": [0.5719558767050631], \"y\": [-0.6948859439523459], \"type\": \"scatter\", \"uid\": \"d4d35249-8211-4ae0-8fe4-1094736f2136\"}, {\"hoverinfo\": \"text\", \"marker\": {\"color\": \"green\", \"size\": 0.5}, \"mode\": \"markers\", \"text\": \"PostgreSQL appears with Linux 20 times\", \"x\": [-0.5818562043215928], \"y\": [0.6866173297350343], \"type\": \"scatter\", \"uid\": \"b22daf3c-e91c-4a78-9294-042826730808\"}, {\"hoverinfo\": \"text\", \"marker\": {\"color\": \"blue\", \"size\": 0.5}, \"mode\": \"markers\", \"text\": \"Linux appears with PostgreSQL 20 times\", \"x\": [0.876857253636592], \"y\": [-0.20278401501324875], \"type\": \"scatter\", \"uid\": \"ab39274c-4d55-4c90-bd07-674e8190ca5a\"}, {\"hoverinfo\": \"text\", \"marker\": {\"color\": \"green\", \"size\": 0.5}, \"mode\": \"markers\", \"text\": \"MySQL/MariaDB appears with T-SQL 29 times\", \"x\": [-0.6674307075377423], \"y\": [0.6037683749880154], \"type\": \"scatter\", \"uid\": \"1565ebcc-9285-48d2-b5e4-76ca8faabcd6\"}, {\"hoverinfo\": \"text\", \"marker\": {\"color\": \"blue\", \"size\": 0.5}, \"mode\": \"markers\", \"text\": \"T-SQL appears with MySQL/MariaDB 29 times\", \"x\": [-0.7681388467088264], \"y\": [0.46900182534488505], \"type\": \"scatter\", \"uid\": \"16528b7e-8c3d-4c5c-ad18-43ad43098767\"}, {\"hoverinfo\": \"text\", \"marker\": {\"color\": \"green\", \"size\": 0.5}, \"mode\": \"markers\", \"text\": \"MySQL/MariaDB appears with Pentaho 41 times\", \"x\": [-0.6953038909447967], \"y\": [0.5714477222257749], \"type\": \"scatter\", \"uid\": \"84d1d2ca-823a-4da0-aacd-0bfc0761348e\"}, {\"hoverinfo\": \"text\", \"marker\": {\"color\": \"blue\", \"size\": 0.5}, \"mode\": \"markers\", \"text\": \"Pentaho appears with MySQL/MariaDB 41 times\", \"x\": [-0.8933393979645071], \"y\": [0.10929190292245841], \"type\": \"scatter\", \"uid\": \"622a6c78-ff6a-4780-a2ec-7c778f88ba8b\"}, {\"hoverinfo\": \"text\", \"marker\": {\"color\": \"green\", \"size\": 0.5}, \"mode\": \"markers\", \"text\": \"MySQL/MariaDB appears with Hadoop 3 times\", \"x\": [-0.6321444953048033], \"y\": [0.6406194947516315], \"type\": \"scatter\", \"uid\": \"8149fee6-a3f0-4d97-a150-ca3865dfa20b\"}, {\"hoverinfo\": \"text\", \"marker\": {\"color\": \"blue\", \"size\": 0.5}, \"mode\": \"markers\", \"text\": \"Hadoop appears with MySQL/MariaDB 3 times\", \"x\": [-0.8980541026228324], \"y\": [0.05915089823746787], \"type\": \"scatter\", \"uid\": \"f3e0dba4-5375-475b-a2b9-09051dcde109\"}, {\"hoverinfo\": \"text\", \"marker\": {\"color\": \"green\", \"size\": 0.5}, \"mode\": \"markers\", \"text\": \"MySQL/MariaDB appears with Spark 18 times\", \"x\": [-0.6379434182626472], \"y\": [0.6348450165948923], \"type\": \"scatter\", \"uid\": \"6c0480f3-a679-4592-8871-98cc027bd5d0\"}, {\"hoverinfo\": \"text\", \"marker\": {\"color\": \"blue\", \"size\": 0.5}, \"mode\": \"markers\", \"text\": \"Spark appears with MySQL/MariaDB 18 times\", \"x\": [-0.8887819950946889], \"y\": [-0.14165650424708529], \"type\": \"scatter\", \"uid\": \"9fe9bf99-64c4-49a8-82df-83f1e0302dc9\"}, {\"hoverinfo\": \"text\", \"marker\": {\"color\": \"green\", \"size\": 0.5}, \"mode\": \"markers\", \"text\": \"MySQL/MariaDB appears with Informatica 1 times\", \"x\": [-0.6316874611253043], \"y\": [0.6410701611033438], \"type\": \"scatter\", \"uid\": \"68a7a581-a80e-4d1f-97e5-8710d59d1305\"}, {\"hoverinfo\": \"text\", \"marker\": {\"color\": \"blue\", \"size\": 0.5}, \"mode\": \"markers\", \"text\": \"Informatica appears with MySQL/MariaDB 1 times\", \"x\": [-0.8510330505621563], \"y\": [-0.2928186244945333], \"type\": \"scatter\", \"uid\": \"cf006c6b-044c-44c8-9ce2-9872b0250915\"}, {\"hoverinfo\": \"text\", \"marker\": {\"color\": \"green\", \"size\": 0.5}, \"mode\": \"markers\", \"text\": \"MySQL/MariaDB appears with Qlik 10 times\", \"x\": [-0.6347661952079592], \"y\": [0.6380218471347286], \"type\": \"scatter\", \"uid\": \"5d588cb7-f0ec-4c86-a227-1f61b9cc9dc6\"}, {\"hoverinfo\": \"text\", \"marker\": {\"color\": \"blue\", \"size\": 0.5}, \"mode\": \"markers\", \"text\": \"Qlik appears with MySQL/MariaDB 10 times\", \"x\": [-0.7742815233982885], \"y\": [-0.45878984570718834], \"type\": \"scatter\", \"uid\": \"373872fb-7f38-4957-8c2f-dcae195f038a\"}, {\"hoverinfo\": \"text\", \"marker\": {\"color\": \"green\", \"size\": 0.5}, \"mode\": \"markers\", \"text\": \"MySQL/MariaDB appears with Tableau 26 times\", \"x\": [-0.6429040446099468], \"y\": [0.6298209185349211], \"type\": \"scatter\", \"uid\": \"1d698500-5d60-41ec-b909-3541b84e4825\"}, {\"hoverinfo\": \"text\", \"marker\": {\"color\": \"blue\", \"size\": 0.5}, \"mode\": \"markers\", \"text\": \"Tableau appears with MySQL/MariaDB 26 times\", \"x\": [-0.4873889573840317], \"y\": [-0.7566055803522114], \"type\": \"scatter\", \"uid\": \"ee82353e-8015-4ce2-87df-fd5cd2b14138\"}, {\"hoverinfo\": \"text\", \"marker\": {\"color\": \"green\", \"size\": 0.5}, \"mode\": \"markers\", \"text\": \"MySQL/MariaDB appears with Oracle BI 30 times\", \"x\": [-0.6737448977558478], \"y\": [0.5967141801130272], \"type\": \"scatter\", \"uid\": \"d456f375-a081-4515-b4f0-5d1fbd2075ba\"}, {\"hoverinfo\": \"text\", \"marker\": {\"color\": \"blue\", \"size\": 0.5}, \"mode\": \"markers\", \"text\": \"Oracle BI appears with MySQL/MariaDB 30 times\", \"x\": [0.05845176739778055], \"y\": [-0.8980998780136181], \"type\": \"scatter\", \"uid\": \"ae3ce28f-10af-4b35-b466-9c3a25ea2cda\"}, {\"hoverinfo\": \"text\", \"marker\": {\"color\": \"green\", \"size\": 0.5}, \"mode\": \"markers\", \"text\": \"MySQL/MariaDB appears with Python 29 times\", \"x\": [-0.6611515460251737], \"y\": [0.6106378903970197], \"type\": \"scatter\", \"uid\": \"54551824-cb0c-48ab-b235-fc1ce3f3d308\"}, {\"hoverinfo\": \"text\", \"marker\": {\"color\": \"blue\", \"size\": 0.5}, \"mode\": \"markers\", \"text\": \"Python appears with MySQL/MariaDB 29 times\", \"x\": [0.5941769747314318], \"y\": [-0.675983522505544], \"type\": \"scatter\", \"uid\": \"529d107f-aab2-4c2b-8f91-ae0dc35bf219\"}, {\"hoverinfo\": \"text\", \"marker\": {\"color\": \"green\", \"size\": 0.5}, \"mode\": \"markers\", \"text\": \"MySQL/MariaDB appears with VBA 1 times\", \"x\": [-0.631458823538217], \"y\": [0.6412953720211388], \"type\": \"scatter\", \"uid\": \"a8e1e3c1-e57c-4d40-ae2e-d020e41c68d5\"}, {\"hoverinfo\": \"text\", \"marker\": {\"color\": \"blue\", \"size\": 0.5}, \"mode\": \"markers\", \"text\": \"VBA appears with MySQL/MariaDB 1 times\", \"x\": [0.8100356997842955], \"y\": [-0.3922271855378803], \"type\": \"scatter\", \"uid\": \"1c257eee-18eb-4e47-98d6-f9df9e5013c3\"}, {\"hoverinfo\": \"text\", \"marker\": {\"color\": \"green\", \"size\": 0.5}, \"mode\": \"markers\", \"text\": \"MySQL/MariaDB appears with Linux 27 times\", \"x\": [-0.6488267839575381], \"y\": [0.6237177281585944], \"type\": \"scatter\", \"uid\": \"122fdd3b-f562-4ca9-a64d-a9e203bc293d\"}, {\"hoverinfo\": \"text\", \"marker\": {\"color\": \"blue\", \"size\": 0.5}, \"mode\": \"markers\", \"text\": \"Linux appears with MySQL/MariaDB 27 times\", \"x\": [0.8818497084288766], \"y\": [-0.179836291509543], \"type\": \"scatter\", \"uid\": \"bf9c4b98-27a1-46a7-881a-1910ccf7ae4b\"}, {\"hoverinfo\": \"text\", \"marker\": {\"color\": \"green\", \"size\": 0.5}, \"mode\": \"markers\", \"text\": \"T-SQL appears with PL/SQL 17 times\", \"x\": [-0.7409628815461139], \"y\": [0.5108561521317714], \"type\": \"scatter\", \"uid\": \"583a17f8-1a4a-4f05-9873-083fcb4b9bee\"}, {\"hoverinfo\": \"text\", \"marker\": {\"color\": \"blue\", \"size\": 0.5}, \"mode\": \"markers\", \"text\": \"PL/SQL appears with T-SQL 17 times\", \"x\": [-0.8638242279047695], \"y\": [0.2526018671441856], \"type\": \"scatter\", \"uid\": \"80affe3d-eeb8-447d-95fb-044e81fd39b7\"}, {\"hoverinfo\": \"text\", \"marker\": {\"color\": \"green\", \"size\": 0.5}, \"mode\": \"markers\", \"text\": \"T-SQL appears with Pentaho 26 times\", \"x\": [-0.7576435598442837], \"y\": [0.48577385296707903], \"type\": \"scatter\", \"uid\": \"e005380d-c231-4601-b8e9-175b14fd4d77\"}, {\"hoverinfo\": \"text\", \"marker\": {\"color\": \"blue\", \"size\": 0.5}, \"mode\": \"markers\", \"text\": \"Pentaho appears with T-SQL 26 times\", \"x\": [-0.8895415429559854], \"y\": [0.13680586009190082], \"type\": \"scatter\", \"uid\": \"50d6552d-6bab-404b-b44d-74a6af7671f3\"}, {\"hoverinfo\": \"text\", \"marker\": {\"color\": \"green\", \"size\": 0.5}, \"mode\": \"markers\", \"text\": \"T-SQL appears with Hadoop 14 times\", \"x\": [-0.7378124537492368], \"y\": [0.5153957538557439], \"type\": \"scatter\", \"uid\": \"7df4f413-ed94-4d6d-bf96-ddabc413fd59\"}, {\"hoverinfo\": \"text\", \"marker\": {\"color\": \"blue\", \"size\": 0.5}, \"mode\": \"markers\", \"text\": \"Hadoop appears with T-SQL 14 times\", \"x\": [-0.8988843392286733], \"y\": [0.04479893625334735], \"type\": \"scatter\", \"uid\": \"0f0062fb-d91c-404d-8f18-c76df308dddf\"}, {\"hoverinfo\": \"text\", \"marker\": {\"color\": \"green\", \"size\": 0.5}, \"mode\": \"markers\", \"text\": \"T-SQL appears with Spark 14 times\", \"x\": [-0.7349429976984002], \"y\": [0.5194793452429937], \"type\": \"scatter\", \"uid\": \"56b0c910-230d-4760-af95-bd60ae355994\"}, {\"hoverinfo\": \"text\", \"marker\": {\"color\": \"blue\", \"size\": 0.5}, \"mode\": \"markers\", \"text\": \"Spark appears with T-SQL 14 times\", \"x\": [-0.8918649582521988], \"y\": [-0.12073481785219953], \"type\": \"scatter\", \"uid\": \"ae529f8f-32e8-41ba-a612-1fb9a98e1bf9\"}, {\"hoverinfo\": \"text\", \"marker\": {\"color\": \"green\", \"size\": 0.5}, \"mode\": \"markers\", \"text\": \"T-SQL appears with Informatica 9 times\", \"x\": [-0.7325690328232634], \"y\": [0.5228217785712341], \"type\": \"scatter\", \"uid\": \"fa28ba5c-1200-48ea-a39e-aae53722c184\"}, {\"hoverinfo\": \"text\", \"marker\": {\"color\": \"blue\", \"size\": 0.5}, \"mode\": \"markers\", \"text\": \"Informatica appears with T-SQL 9 times\", \"x\": [-0.8478680896252837], \"y\": [-0.30186040249620666], \"type\": \"scatter\", \"uid\": \"377f5f20-2909-43ac-b581-4b37b810bf82\"}, {\"hoverinfo\": \"text\", \"marker\": {\"color\": \"green\", \"size\": 0.5}, \"mode\": \"markers\", \"text\": \"T-SQL appears with Qlik 38 times\", \"x\": [-0.7742944963297588], \"y\": [0.4587679510966794], \"type\": \"scatter\", \"uid\": \"2f669fb3-c494-459f-bace-a8203149be6c\"}, {\"hoverinfo\": \"text\", \"marker\": {\"color\": \"blue\", \"size\": 0.5}, \"mode\": \"markers\", \"text\": \"Qlik appears with T-SQL 38 times\", \"x\": [-0.7468623975242179], \"y\": [-0.5021917553727632], \"type\": \"scatter\", \"uid\": \"bf7073d0-d958-4f8c-b2a9-7d88b7e661c3\"}, {\"hoverinfo\": \"text\", \"marker\": {\"color\": \"green\", \"size\": 0.5}, \"mode\": \"markers\", \"text\": \"T-SQL appears with Tableau 52 times\", \"x\": [-0.7891276914946281], \"y\": [0.43275568917850055], \"type\": \"scatter\", \"uid\": \"0c3533eb-a1b7-4546-8a85-176f0c7f87f0\"}, {\"hoverinfo\": \"text\", \"marker\": {\"color\": \"blue\", \"size\": 0.5}, \"mode\": \"markers\", \"text\": \"Tableau appears with T-SQL 52 times\", \"x\": [-0.4165511857992351], \"y\": [-0.7978001689704328], \"type\": \"scatter\", \"uid\": \"969ce55d-ff00-4a93-9351-9b9866b52b31\"}, {\"hoverinfo\": \"text\", \"marker\": {\"color\": \"green\", \"size\": 0.5}, \"mode\": \"markers\", \"text\": \"T-SQL appears with Microstrategy 6 times\", \"x\": [-0.7310126022662419], \"y\": [0.524995786009695], \"type\": \"scatter\", \"uid\": \"5db402fa-badd-48c8-b16f-b000deca712f\"}, {\"hoverinfo\": \"text\", \"marker\": {\"color\": \"blue\", \"size\": 0.5}, \"mode\": \"markers\", \"text\": \"Microstrategy appears with T-SQL 6 times\", \"x\": [-0.05775591291047511], \"y\": [-0.898144896174263], \"type\": \"scatter\", \"uid\": \"2451cb31-b823-43bc-b18e-c906c9d19f27\"}, {\"hoverinfo\": \"text\", \"marker\": {\"color\": \"green\", \"size\": 0.5}, \"mode\": \"markers\", \"text\": \"T-SQL appears with Oracle BI 68 times\", \"x\": [-0.799188920041414], \"y\": [0.41388050217790934], \"type\": \"scatter\", \"uid\": \"6e469e40-c5a1-4d74-bd96-29821b92f751\"}, {\"hoverinfo\": \"text\", \"marker\": {\"color\": \"blue\", \"size\": 0.5}, \"mode\": \"markers\", \"text\": \"Oracle BI appears with T-SQL 68 times\", \"x\": [0.1512231300190121], \"y\": [-0.8872043535439019], \"type\": \"scatter\", \"uid\": \"0a5857c0-3440-434f-99df-02eb06b82def\"}, {\"hoverinfo\": \"text\", \"marker\": {\"color\": \"green\", \"size\": 0.5}, \"mode\": \"markers\", \"text\": \"T-SQL appears with Python 39 times\", \"x\": [-0.781200455157026], \"y\": [0.4469069801003957], \"type\": \"scatter\", \"uid\": \"f5417f01-87f0-40d6-83ef-76cd2297ae85\"}, {\"hoverinfo\": \"text\", \"marker\": {\"color\": \"blue\", \"size\": 0.5}, \"mode\": \"markers\", \"text\": \"Python appears with T-SQL 39 times\", \"x\": [0.6124203363341235], \"y\": [-0.6595008200483143], \"type\": \"scatter\", \"uid\": \"47ba25fc-2f0b-4933-990a-f2f2b5243740\"}, {\"hoverinfo\": \"text\", \"marker\": {\"color\": \"green\", \"size\": 0.5}, \"mode\": \"markers\", \"text\": \"T-SQL appears with VBA 21 times\", \"x\": [-0.7483701229001583], \"y\": [0.49994215580445117], \"type\": \"scatter\", \"uid\": \"f35fc105-cbe6-4707-aaf7-cefb15c6327b\"}, {\"hoverinfo\": \"text\", \"marker\": {\"color\": \"blue\", \"size\": 0.5}, \"mode\": \"markers\", \"text\": \"VBA appears with T-SQL 21 times\", \"x\": [0.8182637740797749], \"y\": [-0.37475911733902234], \"type\": \"scatter\", \"uid\": \"812cdc90-4f4e-4878-a75c-ceb9380fe316\"}, {\"hoverinfo\": \"text\", \"marker\": {\"color\": \"green\", \"size\": 0.5}, \"mode\": \"markers\", \"text\": \"T-SQL appears with Linux 18 times\", \"x\": [-0.7444862407768585], \"y\": [0.5057076599122673], \"type\": \"scatter\", \"uid\": \"f40d5972-0669-43d3-9266-5ac66f8554b3\"}, {\"hoverinfo\": \"text\", \"marker\": {\"color\": \"blue\", \"size\": 0.5}, \"mode\": \"markers\", \"text\": \"Linux appears with T-SQL 18 times\", \"x\": [0.8754883160918173], \"y\": [-0.20861497641999308], \"type\": \"scatter\", \"uid\": \"0daf09c2-37b1-443c-bb90-d4a116da79a8\"}, {\"hoverinfo\": \"text\", \"marker\": {\"color\": \"green\", \"size\": 0.5}, \"mode\": \"markers\", \"text\": \"T-SQL appears with AWS 6 times\", \"x\": [-0.7297628119580211], \"y\": [0.5267316568074506], \"type\": \"scatter\", \"uid\": \"fef9e49d-2160-4b8a-bb9a-52227c5713a1\"}, {\"hoverinfo\": \"text\", \"marker\": {\"color\": \"blue\", \"size\": 0.5}, \"mode\": \"markers\", \"text\": \"AWS appears with T-SQL 6 times\", \"x\": [0.8961424489781434], \"y\": [-0.08323887997477963], \"type\": \"scatter\", \"uid\": \"35b0ef74-9aad-42d4-bafc-d370a630bcf7\"}, {\"hoverinfo\": \"text\", \"marker\": {\"color\": \"green\", \"size\": 0.5}, \"mode\": \"markers\", \"text\": \"PL/SQL appears with Pentaho 6 times\", \"x\": [-0.8593025389304807], \"y\": [0.2675801685245558], \"type\": \"scatter\", \"uid\": \"04787052-ed94-4b4c-8aa6-31a78e1f8b7c\"}, {\"hoverinfo\": \"text\", \"marker\": {\"color\": \"blue\", \"size\": 0.5}, \"mode\": \"markers\", \"text\": \"Pentaho appears with PL/SQL 6 times\", \"x\": [-0.878938784536677], \"y\": [0.19356294334709045], \"type\": \"scatter\", \"uid\": \"2517e642-d6d2-45ad-96d3-7aba2bf45afd\"}, {\"hoverinfo\": \"text\", \"marker\": {\"color\": \"green\", \"size\": 0.5}, \"mode\": \"markers\", \"text\": \"PL/SQL appears with Hadoop 3 times\", \"x\": [-0.8585924705051444], \"y\": [0.26984990196750597], \"type\": \"scatter\", \"uid\": \"a4141e71-c32f-4a13-9804-89d82cb5a63e\"}, {\"hoverinfo\": \"text\", \"marker\": {\"color\": \"blue\", \"size\": 0.5}, \"mode\": \"markers\", \"text\": \"Hadoop appears with PL/SQL 3 times\", \"x\": [-0.8981187193538118], \"y\": [0.05816155041149736], \"type\": \"scatter\", \"uid\": \"e262ae7c-03bf-4ec1-bdfd-f20a14eddb12\"}, {\"hoverinfo\": \"text\", \"marker\": {\"color\": \"green\", \"size\": 0.5}, \"mode\": \"markers\", \"text\": \"PL/SQL appears with Informatica 12 times\", \"x\": [-0.861794637310323], \"y\": [0.2594417142696387], \"type\": \"scatter\", \"uid\": \"a72f6568-a5b5-4817-bdf9-3e37f7f1e426\"}, {\"hoverinfo\": \"text\", \"marker\": {\"color\": \"blue\", \"size\": 0.5}, \"mode\": \"markers\", \"text\": \"Informatica appears with PL/SQL 12 times\", \"x\": [-0.8454596241896898], \"y\": [-0.30854177004909505], \"type\": \"scatter\", \"uid\": \"091c0fb2-e331-458c-9565-fcf0c509480d\"}, {\"hoverinfo\": \"text\", \"marker\": {\"color\": \"green\", \"size\": 0.5}, \"mode\": \"markers\", \"text\": \"PL/SQL appears with Qlik 8 times\", \"x\": [-0.8602644873048323], \"y\": [0.2644711929155122], \"type\": \"scatter\", \"uid\": \"3bec3255-fcf0-42ee-a872-717ab651d2ce\"}, {\"hoverinfo\": \"text\", \"marker\": {\"color\": \"blue\", \"size\": 0.5}, \"mode\": \"markers\", \"text\": \"Qlik appears with PL/SQL 8 times\", \"x\": [-0.7774411500540344], \"y\": [-0.453415105838635], \"type\": \"scatter\", \"uid\": \"9b644ae3-302a-45ac-bf4b-421549540636\"}, {\"hoverinfo\": \"text\", \"marker\": {\"color\": \"green\", \"size\": 0.5}, \"mode\": \"markers\", \"text\": \"PL/SQL appears with Tableau 11 times\", \"x\": [-0.8609603369001041], \"y\": [0.262197060023295], \"type\": \"scatter\", \"uid\": \"c8542567-34ae-484b-877a-372cb2f50696\"}, {\"hoverinfo\": \"text\", \"marker\": {\"color\": \"blue\", \"size\": 0.5}, \"mode\": \"markers\", \"text\": \"Tableau appears with PL/SQL 11 times\", \"x\": [-0.5129419516136154], \"y\": [-0.7395204894219061], \"type\": \"scatter\", \"uid\": \"ff4f5ef2-9a63-4a45-a43e-a98922db7c1c\"}, {\"hoverinfo\": \"text\", \"marker\": {\"color\": \"green\", \"size\": 0.5}, \"mode\": \"markers\", \"text\": \"PL/SQL appears with Microstrategy 14 times\", \"x\": [-0.8627271408525977], \"y\": [0.2563237804736465], \"type\": \"scatter\", \"uid\": \"d76d055e-27a5-422d-9a9b-5bdf8bed668a\"}, {\"hoverinfo\": \"text\", \"marker\": {\"color\": \"blue\", \"size\": 0.5}, \"mode\": \"markers\", \"text\": \"Microstrategy appears with PL/SQL 14 times\", \"x\": [-0.043061777947845596], \"y\": [-0.8989692337783148], \"type\": \"scatter\", \"uid\": \"0f3af26d-3184-49fd-bc45-cd55eeae7bcd\"}, {\"hoverinfo\": \"text\", \"marker\": {\"color\": \"green\", \"size\": 0.5}, \"mode\": \"markers\", \"text\": \"PL/SQL appears with Oracle BI 53 times\", \"x\": [-0.8698122328110759], \"y\": [0.2311421200305362], \"type\": \"scatter\", \"uid\": \"a72ff934-ebb8-414b-acc7-5ba18df84cdc\"}, {\"hoverinfo\": \"text\", \"marker\": {\"color\": \"blue\", \"size\": 0.5}, \"mode\": \"markers\", \"text\": \"Oracle BI appears with PL/SQL 53 times\", \"x\": [0.10516601754680992], \"y\": [-0.893834497406172], \"type\": \"scatter\", \"uid\": \"5dffa145-69cf-4066-ba78-b3c189b5b65f\"}, {\"hoverinfo\": \"text\", \"marker\": {\"color\": \"green\", \"size\": 0.5}, \"mode\": \"markers\", \"text\": \"PL/SQL appears with Python 2 times\", \"x\": [-0.8581786377563535], \"y\": [0.27116309796624133], \"type\": \"scatter\", \"uid\": \"bccbaa41-1cf4-419e-a420-952f47e628a6\"}, {\"hoverinfo\": \"text\", \"marker\": {\"color\": \"blue\", \"size\": 0.5}, \"mode\": \"markers\", \"text\": \"Python appears with PL/SQL 2 times\", \"x\": [0.5674102981464234], \"y\": [-0.6986025719659117], \"type\": \"scatter\", \"uid\": \"1480b103-0dd3-4a07-a598-a5cd5de55c0e\"}, {\"hoverinfo\": \"text\", \"marker\": {\"color\": \"green\", \"size\": 0.5}, \"mode\": \"markers\", \"text\": \"PL/SQL appears with VBA 5 times\", \"x\": [-0.8588921776868417], \"y\": [0.2688944534726494], \"type\": \"scatter\", \"uid\": \"fa2709a5-a4bf-46d0-8d32-65e374671051\"}, {\"hoverinfo\": \"text\", \"marker\": {\"color\": \"blue\", \"size\": 0.5}, \"mode\": \"markers\", \"text\": \"VBA appears with PL/SQL 5 times\", \"x\": [0.8110486040698938], \"y\": [-0.39012839147680184], \"type\": \"scatter\", \"uid\": \"ef64ca78-8f52-423f-bcf1-34c093418867\"}, {\"hoverinfo\": \"text\", \"marker\": {\"color\": \"green\", \"size\": 0.5}, \"mode\": \"markers\", \"text\": \"PL/SQL appears with Linux 1 times\", \"x\": [-0.8580654256559751], \"y\": [0.2715211323153875], \"type\": \"scatter\", \"uid\": \"52584168-d238-4455-959d-a7bf2e6b8c1f\"}, {\"hoverinfo\": \"text\", \"marker\": {\"color\": \"blue\", \"size\": 0.5}, \"mode\": \"markers\", \"text\": \"Linux appears with PL/SQL 1 times\", \"x\": [0.8715829675545852], \"y\": [-0.22437274938981122], \"type\": \"scatter\", \"uid\": \"243eb2a9-7b8f-4e40-9300-03bcb4857d9e\"}, {\"hoverinfo\": \"text\", \"marker\": {\"color\": \"green\", \"size\": 0.5}, \"mode\": \"markers\", \"text\": \"Pentaho appears with Spark 6 times\", \"x\": [-0.8785318595524798], \"y\": [0.19540156537566916], \"type\": \"scatter\", \"uid\": \"bd51d9a2-19ca-403b-a003-216e317a5916\"}, {\"hoverinfo\": \"text\", \"marker\": {\"color\": \"blue\", \"size\": 0.5}, \"mode\": \"markers\", \"text\": \"Spark appears with Pentaho 6 times\", \"x\": [-0.892309073198355], \"y\": [-0.11740748650700628], \"type\": \"scatter\", \"uid\": \"6a3f7c62-ff7f-4e07-9a80-f815d98a3557\"}, {\"hoverinfo\": \"text\", \"marker\": {\"color\": \"green\", \"size\": 0.5}, \"mode\": \"markers\", \"text\": \"Pentaho appears with Informatica 20 times\", \"x\": [-0.8831001341350672], \"y\": [0.17359191539535013], \"type\": \"scatter\", \"uid\": \"c631d003-6e6a-4b7a-a0be-01214d72f82e\"}, {\"hoverinfo\": \"text\", \"marker\": {\"color\": \"blue\", \"size\": 0.5}, \"mode\": \"markers\", \"text\": \"Informatica appears with Pentaho 20 times\", \"x\": [-0.8418943078394852], \"y\": [-0.3181414377717468], \"type\": \"scatter\", \"uid\": \"23608d56-046f-4f83-9b43-ca2c56113337\"}, {\"hoverinfo\": \"text\", \"marker\": {\"color\": \"green\", \"size\": 0.5}, \"mode\": \"markers\", \"text\": \"Pentaho appears with Qlik 16 times\", \"x\": [-0.8808513119633913], \"y\": [0.18466446927433625], \"type\": \"scatter\", \"uid\": \"f83c4915-8353-48b5-a3f7-a371df8ec8e4\"}, {\"hoverinfo\": \"text\", \"marker\": {\"color\": \"blue\", \"size\": 0.5}, \"mode\": \"markers\", \"text\": \"Qlik appears with Pentaho 16 times\", \"x\": [-0.7691869834938948], \"y\": [-0.4672808410619495], \"type\": \"scatter\", \"uid\": \"c05e2885-4f24-49bb-bd63-cbc132770dee\"}, {\"hoverinfo\": \"text\", \"marker\": {\"color\": \"green\", \"size\": 0.5}, \"mode\": \"markers\", \"text\": \"Pentaho appears with Tableau 23 times\", \"x\": [-0.8843768210813342], \"y\": [0.16696597957091083], \"type\": \"scatter\", \"uid\": \"bbf29319-f9ea-4288-9e49-a12b403f16fa\"}, {\"hoverinfo\": \"text\", \"marker\": {\"color\": \"blue\", \"size\": 0.5}, \"mode\": \"markers\", \"text\": \"Tableau appears with Pentaho 23 times\", \"x\": [-0.495038129454022], \"y\": [-0.7516230773377458], \"type\": \"scatter\", \"uid\": \"4015b7e6-8e61-461f-8a97-850aeff4f39d\"}, {\"hoverinfo\": \"text\", \"marker\": {\"color\": \"green\", \"size\": 0.5}, \"mode\": \"markers\", \"text\": \"Pentaho appears with Microstrategy 2 times\", \"x\": [-0.878258439371121], \"y\": [0.19662683863959918], \"type\": \"scatter\", \"uid\": \"0877a926-2c5f-4a90-b675-1507c1ab6da1\"}, {\"hoverinfo\": \"text\", \"marker\": {\"color\": \"blue\", \"size\": 0.5}, \"mode\": \"markers\", \"text\": \"Microstrategy appears with Pentaho 2 times\", \"x\": [-0.060124591120530174], \"y\": [-0.8979894395495912], \"type\": \"scatter\", \"uid\": \"9831a6c9-2021-42dd-9d8a-c1fb7bd18673\"}, {\"hoverinfo\": \"text\", \"marker\": {\"color\": \"green\", \"size\": 0.5}, \"mode\": \"markers\", \"text\": \"Pentaho appears with Oracle BI 25 times\", \"x\": [-0.8882898443233966], \"y\": [0.14471058175515614], \"type\": \"scatter\", \"uid\": \"de960380-8b7b-4938-8435-b8a2921bf878\"}, {\"hoverinfo\": \"text\", \"marker\": {\"color\": \"blue\", \"size\": 0.5}, \"mode\": \"markers\", \"text\": \"Oracle BI appears with Pentaho 25 times\", \"x\": [0.03719210514859752], \"y\": [-0.8992311979210996], \"type\": \"scatter\", \"uid\": \"9ce56e4b-d4b2-4a77-afad-1b5ec6baf921\"}, {\"hoverinfo\": \"text\", \"marker\": {\"color\": \"green\", \"size\": 0.5}, \"mode\": \"markers\", \"text\": \"Pentaho appears with Python 23 times\", \"x\": [-0.8856875398663331], \"y\": [0.15986738793613478], \"type\": \"scatter\", \"uid\": \"c191327e-7ab1-4417-b447-c70a477d7202\"}, {\"hoverinfo\": \"text\", \"marker\": {\"color\": \"blue\", \"size\": 0.5}, \"mode\": \"markers\", \"text\": \"Python appears with Pentaho 23 times\", \"x\": [0.5869772750508078], \"y\": [-0.6822445885266724], \"type\": \"scatter\", \"uid\": \"3b12dba3-c160-4df0-a4ec-70f534f2ae6b\"}, {\"hoverinfo\": \"text\", \"marker\": {\"color\": \"green\", \"size\": 0.5}, \"mode\": \"markers\", \"text\": \"Pentaho appears with VBA 1 times\", \"x\": [-0.878155466207245], \"y\": [0.19708621760624512], \"type\": \"scatter\", \"uid\": \"ddd67952-e134-4a7b-8b27-d778e3792454\"}, {\"hoverinfo\": \"text\", \"marker\": {\"color\": \"blue\", \"size\": 0.5}, \"mode\": \"markers\", \"text\": \"VBA appears with Pentaho 1 times\", \"x\": [0.8101807330747642], \"y\": [-0.3919275184960067], \"type\": \"scatter\", \"uid\": \"14ca2e6c-21e1-41f5-9f10-df5b35e8b9f9\"}, {\"hoverinfo\": \"text\", \"marker\": {\"color\": \"green\", \"size\": 0.5}, \"mode\": \"markers\", \"text\": \"Pentaho appears with Linux 25 times\", \"x\": [-0.8869944983874161], \"y\": [0.15244920409912335], \"type\": \"scatter\", \"uid\": \"94d1d38a-dfef-4358-bdea-06f160b643e1\"}, {\"hoverinfo\": \"text\", \"marker\": {\"color\": \"blue\", \"size\": 0.5}, \"mode\": \"markers\", \"text\": \"Linux appears with Pentaho 25 times\", \"x\": [0.87842813436865], \"y\": [-0.19586733456503927], \"type\": \"scatter\", \"uid\": \"03bd8690-5ff7-4cb6-83ed-1711941414d6\"}, {\"hoverinfo\": \"text\", \"marker\": {\"color\": \"green\", \"size\": 0.5}, \"mode\": \"markers\", \"text\": \"Pentaho appears with AWS 11 times\", \"x\": [-0.8799721930813506], \"y\": [0.18880926726090125], \"type\": \"scatter\", \"uid\": \"6f3be8db-32ce-4dcb-8a3e-04eb8ea3c001\"}, {\"hoverinfo\": \"text\", \"marker\": {\"color\": \"blue\", \"size\": 0.5}, \"mode\": \"markers\", \"text\": \"AWS appears with Pentaho 11 times\", \"x\": [0.896349803494143], \"y\": [-0.08097548873586086], \"type\": \"scatter\", \"uid\": \"5cb1f4a3-7a1d-4880-ac15-a47392dc02a7\"}, {\"hoverinfo\": \"text\", \"marker\": {\"color\": \"green\", \"size\": 0.5}, \"mode\": \"markers\", \"text\": \"Hadoop appears with Spark 77 times\", \"x\": [-0.8990385438736844], \"y\": [-0.041589621655952716], \"type\": \"scatter\", \"uid\": \"33f29391-b230-461b-a543-3ffc26038496\"}, {\"hoverinfo\": \"text\", \"marker\": {\"color\": \"blue\", \"size\": 0.5}, \"mode\": \"markers\", \"text\": \"Spark appears with Hadoop 77 times\", \"x\": [-0.8721884779502326], \"y\": [-0.2220073398130268], \"type\": \"scatter\", \"uid\": \"d2b0e04b-1cc6-4eae-a0c0-075a42af11eb\"}, {\"hoverinfo\": \"text\", \"marker\": {\"color\": \"green\", \"size\": 0.5}, \"mode\": \"markers\", \"text\": \"Hadoop appears with Informatica 4 times\", \"x\": [-0.8981927279943586], \"y\": [0.05700722215695341], \"type\": \"scatter\", \"uid\": \"0b51b9f2-7d8d-4c9c-ac2b-22295416095d\"}, {\"hoverinfo\": \"text\", \"marker\": {\"color\": \"blue\", \"size\": 0.5}, \"mode\": \"markers\", \"text\": \"Informatica appears with Hadoop 4 times\", \"x\": [-0.8502237555116009], \"y\": [-0.29516023709800326], \"type\": \"scatter\", \"uid\": \"97a58fa6-cd0d-416a-b619-0d535c2f7f38\"}, {\"hoverinfo\": \"text\", \"marker\": {\"color\": \"green\", \"size\": 0.5}, \"mode\": \"markers\", \"text\": \"Hadoop appears with Qlik 8 times\", \"x\": [-0.8984352077201074], \"y\": [0.053048822125731115], \"type\": \"scatter\", \"uid\": \"3a21532a-417d-463f-b8cb-ba3ac4ab0fa7\"}, {\"hoverinfo\": \"text\", \"marker\": {\"color\": \"blue\", \"size\": 0.5}, \"mode\": \"markers\", \"text\": \"Qlik appears with Hadoop 8 times\", \"x\": [-0.7759589051433908], \"y\": [-0.4559471214172431], \"type\": \"scatter\", \"uid\": \"01367056-8d8c-4776-af9e-7393f73fde07\"}, {\"hoverinfo\": \"text\", \"marker\": {\"color\": \"green\", \"size\": 0.5}, \"mode\": \"markers\", \"text\": \"Hadoop appears with Tableau 29 times\", \"x\": [-0.8999586307707304], \"y\": [0.008629188911609074], \"type\": \"scatter\", \"uid\": \"797e4f34-43cd-4748-84d0-fcf0e8cd7fed\"}, {\"hoverinfo\": \"text\", \"marker\": {\"color\": \"blue\", \"size\": 0.5}, \"mode\": \"markers\", \"text\": \"Tableau appears with Hadoop 29 times\", \"x\": [-0.4695591882739211], \"y\": [-0.7677982604223171], \"type\": \"scatter\", \"uid\": \"84040909-d2be-4f61-8a21-25bc9f9298d8\"}, {\"hoverinfo\": \"text\", \"marker\": {\"color\": \"green\", \"size\": 0.5}, \"mode\": \"markers\", \"text\": \"Hadoop appears with Microstrategy 3 times\", \"x\": [-0.8979215997101994], \"y\": [0.06112937733918524], \"type\": \"scatter\", \"uid\": \"b09bfffa-c7cd-486f-a83d-1147204e0cb6\"}, {\"hoverinfo\": \"text\", \"marker\": {\"color\": \"blue\", \"size\": 0.5}, \"mode\": \"markers\", \"text\": \"Microstrategy appears with Hadoop 3 times\", \"x\": [-0.05882186881113535], \"y\": [-0.8980757138179195], \"type\": \"scatter\", \"uid\": \"55102314-b73a-4c70-a19a-ea84ce46d712\"}, {\"hoverinfo\": \"text\", \"marker\": {\"color\": \"green\", \"size\": 0.5}, \"mode\": \"markers\", \"text\": \"Hadoop appears with Oracle BI 23 times\", \"x\": [-0.8996298080353818], \"y\": [0.02581101497853171], \"type\": \"scatter\", \"uid\": \"616e1b3f-e4d7-48cc-b2c5-dd1fc3c49998\"}, {\"hoverinfo\": \"text\", \"marker\": {\"color\": \"blue\", \"size\": 0.5}, \"mode\": \"markers\", \"text\": \"Oracle BI appears with Hadoop 23 times\", \"x\": [0.028154463655221333], \"y\": [-0.8995595178620961], \"type\": \"scatter\", \"uid\": \"ac887a46-b542-46a0-b909-469ea730a0fc\"}, {\"hoverinfo\": \"text\", \"marker\": {\"color\": \"green\", \"size\": 0.5}, \"mode\": \"markers\", \"text\": \"Hadoop appears with Python 85 times\", \"x\": [-0.8974040440245487], \"y\": [-0.06830799198033902], \"type\": \"scatter\", \"uid\": \"49c35fc3-f8de-4d7c-9842-0aad3c86c06d\"}, {\"hoverinfo\": \"text\", \"marker\": {\"color\": \"blue\", \"size\": 0.5}, \"mode\": \"markers\", \"text\": \"Python appears with Hadoop 85 times\", \"x\": [0.7131756400745025], \"y\": [-0.5489813352057825], \"type\": \"scatter\", \"uid\": \"220b4ce2-86e2-4f3d-8f1b-5b02aae82f1d\"}, {\"hoverinfo\": \"text\", \"marker\": {\"color\": \"green\", \"size\": 0.5}, \"mode\": \"markers\", \"text\": \"Hadoop appears with VBA 6 times\", \"x\": [-0.8982958809552918], \"y\": [0.05535801892008291], \"type\": \"scatter\", \"uid\": \"3635b6c9-9f02-47fa-8a84-09f00d501baa\"}, {\"hoverinfo\": \"text\", \"marker\": {\"color\": \"blue\", \"size\": 0.5}, \"mode\": \"markers\", \"text\": \"VBA appears with Hadoop 6 times\", \"x\": [0.8135570590199268], \"y\": [-0.38486999326895743], \"type\": \"scatter\", \"uid\": \"69de219f-ccd1-4690-b8e9-a9539c9e1f17\"}, {\"hoverinfo\": \"text\", \"marker\": {\"color\": \"green\", \"size\": 0.5}, \"mode\": \"markers\", \"text\": \"Hadoop appears with Linux 49 times\", \"x\": [-0.8999899198937522], \"y\": [-0.004259587965689304], \"type\": \"scatter\", \"uid\": \"ba893012-dcca-4a84-8b4f-76c74fbe3a4b\"}, {\"hoverinfo\": \"text\", \"marker\": {\"color\": \"blue\", \"size\": 0.5}, \"mode\": \"markers\", \"text\": \"Linux appears with Hadoop 49 times\", \"x\": [0.8862691598557121], \"y\": [-0.15661090731060334], \"type\": \"scatter\", \"uid\": \"a458cdec-1277-4a74-84b6-82e851aa2d6d\"}, {\"hoverinfo\": \"text\", \"marker\": {\"color\": \"green\", \"size\": 0.5}, \"mode\": \"markers\", \"text\": \"Hadoop appears with AWS 19 times\", \"x\": [-0.8991392706072734], \"y\": [0.03935190023137896], \"type\": \"scatter\", \"uid\": \"8caa9324-7984-4fdd-972f-52c9ac4c6d8e\"}, {\"hoverinfo\": \"text\", \"marker\": {\"color\": \"blue\", \"size\": 0.5}, \"mode\": \"markers\", \"text\": \"AWS appears with Hadoop 19 times\", \"x\": [0.8981603539748944], \"y\": [-0.05751502888543531], \"type\": \"scatter\", \"uid\": \"8ae37829-5a6e-4ec9-a76a-cbd281092ad5\"}, {\"hoverinfo\": \"text\", \"marker\": {\"color\": \"green\", \"size\": 0.5}, \"mode\": \"markers\", \"text\": \"Spark appears with Informatica 4 times\", \"x\": [-0.8929938346921824], \"y\": [-0.11208037830838692], \"type\": \"scatter\", \"uid\": \"330fb5c7-99cd-46bf-b814-cada42b8eda1\"}, {\"hoverinfo\": \"text\", \"marker\": {\"color\": \"blue\", \"size\": 0.5}, \"mode\": \"markers\", \"text\": \"Informatica appears with Spark 4 times\", \"x\": [-0.8497894966541515], \"y\": [-0.2964081837201594], \"type\": \"scatter\", \"uid\": \"53073ca5-8461-4657-a5a9-6f1f2bcf31cb\"}, {\"hoverinfo\": \"text\", \"marker\": {\"color\": \"green\", \"size\": 0.5}, \"mode\": \"markers\", \"text\": \"Spark appears with Qlik 14 times\", \"x\": [-0.8912223545776816], \"y\": [-0.12539024962497375], \"type\": \"scatter\", \"uid\": \"d4aaf17e-407f-40b8-b6d9-b262f56f23f2\"}, {\"hoverinfo\": \"text\", \"marker\": {\"color\": \"blue\", \"size\": 0.5}, \"mode\": \"markers\", \"text\": \"Qlik appears with Spark 14 times\", \"x\": [-0.7720288183504962], \"y\": [-0.46257053909251133], \"type\": \"scatter\", \"uid\": \"a3119c5d-2c21-4241-a696-a5a7dd650a50\"}, {\"hoverinfo\": \"text\", \"marker\": {\"color\": \"green\", \"size\": 0.5}, \"mode\": \"markers\", \"text\": \"Spark appears with Tableau 29 times\", \"x\": [-0.8851172597873406], \"y\": [-0.1629952036918558], \"type\": \"scatter\", \"uid\": \"4fd325c5-d83a-4fc5-af0b-609db3a60b6b\"}, {\"hoverinfo\": \"text\", \"marker\": {\"color\": \"blue\", \"size\": 0.5}, \"mode\": \"markers\", \"text\": \"Tableau appears with Spark 29 times\", \"x\": [-0.47874346040955534], \"y\": [-0.7621054383187963], \"type\": \"scatter\", \"uid\": \"0b162b13-b027-4d37-b3fe-246ae37b111f\"}, {\"hoverinfo\": \"text\", \"marker\": {\"color\": \"green\", \"size\": 0.5}, \"mode\": \"markers\", \"text\": \"Spark appears with Microstrategy 3 times\", \"x\": [-0.8931393877708732], \"y\": [-0.11091453472052144], \"type\": \"scatter\", \"uid\": \"c2d3fa95-e988-409a-948c-2f13038856b8\"}, {\"hoverinfo\": \"text\", \"marker\": {\"color\": \"blue\", \"size\": 0.5}, \"mode\": \"markers\", \"text\": \"Microstrategy appears with Spark 3 times\", \"x\": [-0.059532460136233874], \"y\": [-0.8980288893961751], \"type\": \"scatter\", \"uid\": \"a234c980-dcfd-43d4-9127-932cd1307e32\"}, {\"hoverinfo\": \"text\", \"marker\": {\"color\": \"green\", \"size\": 0.5}, \"mode\": \"markers\", \"text\": \"Spark appears with Oracle BI 22 times\", \"x\": [-0.8866274585160338], \"y\": [-0.1545695629980201], \"type\": \"scatter\", \"uid\": \"cad88916-e5dc-482e-8bb1-0dcd24c0a298\"}, {\"hoverinfo\": \"text\", \"marker\": {\"color\": \"blue\", \"size\": 0.5}, \"mode\": \"markers\", \"text\": \"Oracle BI appears with Spark 22 times\", \"x\": [0.01967907565134691], \"y\": [-0.8997848264899273], \"type\": \"scatter\", \"uid\": \"9b1c27ee-4f53-4bea-8389-10a006d57c20\"}, {\"hoverinfo\": \"text\", \"marker\": {\"color\": \"green\", \"size\": 0.5}, \"mode\": \"markers\", \"text\": \"Spark appears with Python 97 times\", \"x\": [-0.8645265690854543], \"y\": [-0.2501875523389069], \"type\": \"scatter\", \"uid\": \"dcb0aa89-f55e-4d9a-bfe9-e701a5b2eba5\"}, {\"hoverinfo\": \"text\", \"marker\": {\"color\": \"blue\", \"size\": 0.5}, \"mode\": \"markers\", \"text\": \"Python appears with Spark 97 times\", \"x\": [0.7531233333048135], \"y\": [-0.4927527217903996], \"type\": \"scatter\", \"uid\": \"c59b7832-9e57-4622-b0c8-99011e66aa5f\"}, {\"hoverinfo\": \"text\", \"marker\": {\"color\": \"green\", \"size\": 0.5}, \"mode\": \"markers\", \"text\": \"Spark appears with VBA 6 times\", \"x\": [-0.8925695841124746], \"y\": [-0.11541030074167646], \"type\": \"scatter\", \"uid\": \"6037c5b3-84bf-43c3-b5e8-3c68ab2d64b9\"}, {\"hoverinfo\": \"text\", \"marker\": {\"color\": \"blue\", \"size\": 0.5}, \"mode\": \"markers\", \"text\": \"VBA appears with Spark 6 times\", \"x\": [0.8127008526378012], \"y\": [-0.38667470064873777], \"type\": \"scatter\", \"uid\": \"ce0cb193-8011-4bc2-8284-c9dc4d188d14\"}, {\"hoverinfo\": \"text\", \"marker\": {\"color\": \"green\", \"size\": 0.5}, \"mode\": \"markers\", \"text\": \"Spark appears with Linux 37 times\", \"x\": [-0.8806990175992813], \"y\": [-0.18538942903968628], \"type\": \"scatter\", \"uid\": \"98e71e4e-f99d-4d1f-a46b-c08ea404b2cc\"}, {\"hoverinfo\": \"text\", \"marker\": {\"color\": \"blue\", \"size\": 0.5}, \"mode\": \"markers\", \"text\": \"Linux appears with Spark 37 times\", \"x\": [0.8838099581305046], \"y\": [-0.16994104245106822], \"type\": \"scatter\", \"uid\": \"ba90f2b0-5064-4e37-b913-1b5283becd64\"}, {\"hoverinfo\": \"text\", \"marker\": {\"color\": \"green\", \"size\": 0.5}, \"mode\": \"markers\", \"text\": \"Spark appears with AWS 17 times\", \"x\": [-0.8896876748394776], \"y\": [-0.13585227726734664], \"type\": \"scatter\", \"uid\": \"5d2f55b0-3f55-420a-8c93-224f877bb70b\"}, {\"hoverinfo\": \"text\", \"marker\": {\"color\": \"blue\", \"size\": 0.5}, \"mode\": \"markers\", \"text\": \"AWS appears with Spark 17 times\", \"x\": [0.897493818130658], \"y\": [-0.06711815266567908], \"type\": \"scatter\", \"uid\": \"4f6cdfa8-da5e-4b8a-aca6-0b0de77616b6\"}, {\"hoverinfo\": \"text\", \"marker\": {\"color\": \"green\", \"size\": 0.5}, \"mode\": \"markers\", \"text\": \"Informatica appears with Qlik 65 times\", \"x\": [-0.8226436402872904], \"y\": [-0.3650444371509793], \"type\": \"scatter\", \"uid\": \"088f36fe-9284-4ea5-a849-056b89ce2fbd\"}, {\"hoverinfo\": \"text\", \"marker\": {\"color\": \"blue\", \"size\": 0.5}, \"mode\": \"markers\", \"text\": \"Qlik appears with Informatica 65 times\", \"x\": [-0.7269749304946385], \"y\": [-0.5305727569639396], \"type\": \"scatter\", \"uid\": \"907ac69a-f34f-4377-a612-653f2c1efbdf\"}, {\"hoverinfo\": \"text\", \"marker\": {\"color\": \"green\", \"size\": 0.5}, \"mode\": \"markers\", \"text\": \"Informatica appears with Tableau 36 times\", \"x\": [-0.8346844869006326], \"y\": [-0.33660333825948274], \"type\": \"scatter\", \"uid\": \"4fa925e4-8779-4727-9185-0cddb69934f5\"}, {\"hoverinfo\": \"text\", \"marker\": {\"color\": \"blue\", \"size\": 0.5}, \"mode\": \"markers\", \"text\": \"Tableau appears with Informatica 36 times\", \"x\": [-0.4591861012301047], \"y\": [-0.7740465906113766], \"type\": \"scatter\", \"uid\": \"20620e26-e699-44d8-ab66-26daa81bec5d\"}, {\"hoverinfo\": \"text\", \"marker\": {\"color\": \"green\", \"size\": 0.5}, \"mode\": \"markers\", \"text\": \"Informatica appears with Microstrategy 6 times\", \"x\": [-0.8486958378032659], \"y\": [-0.29952524917845], \"type\": \"scatter\", \"uid\": \"59235894-d7d1-412b-b9c8-9814d05e06dc\"}, {\"hoverinfo\": \"text\", \"marker\": {\"color\": \"blue\", \"size\": 0.5}, \"mode\": \"markers\", \"text\": \"Microstrategy appears with Informatica 6 times\", \"x\": [-0.05633451207451311], \"y\": [-0.8982351711825398], \"type\": \"scatter\", \"uid\": \"35abf9f7-8506-4238-98e1-8ef14fe0087f\"}, {\"hoverinfo\": \"text\", \"marker\": {\"color\": \"green\", \"size\": 0.5}, \"mode\": \"markers\", \"text\": \"Informatica appears with Oracle BI 88 times\", \"x\": [-0.8004806015770259], \"y\": [-0.4113767209005424], \"type\": \"scatter\", \"uid\": \"d94eb5bc-f356-4761-a7d8-33e7087920a8\"}, {\"hoverinfo\": \"text\", \"marker\": {\"color\": \"blue\", \"size\": 0.5}, \"mode\": \"markers\", \"text\": \"Oracle BI appears with Informatica 88 times\", \"x\": [0.23691732061535306], \"y\": [-0.8682569799272805], \"type\": \"scatter\", \"uid\": \"7dccfcd5-8233-4291-a6f3-da184eada1d9\"}, {\"hoverinfo\": \"text\", \"marker\": {\"color\": \"green\", \"size\": 0.5}, \"mode\": \"markers\", \"text\": \"Informatica appears with Python 15 times\", \"x\": [-0.8439204137825287], \"y\": [-0.31272725369101695], \"type\": \"scatter\", \"uid\": \"f2965615-84d8-4e1a-b8ba-b69fa8bf749d\"}, {\"hoverinfo\": \"text\", \"marker\": {\"color\": \"blue\", \"size\": 0.5}, \"mode\": \"markers\", \"text\": \"Python appears with Informatica 15 times\", \"x\": [0.5757722809878503], \"y\": [-0.6917270274075229], \"type\": \"scatter\", \"uid\": \"c7224d64-8236-44d6-a24b-f067c7a4ee6c\"}, {\"hoverinfo\": \"text\", \"marker\": {\"color\": \"green\", \"size\": 0.5}, \"mode\": \"markers\", \"text\": \"Informatica appears with VBA 3 times\", \"x\": [-0.8506022286950607], \"y\": [-0.2940677618151905], \"type\": \"scatter\", \"uid\": \"d8c9e637-7cbf-4936-a2db-8242cb3a2e3f\"}, {\"hoverinfo\": \"text\", \"marker\": {\"color\": \"blue\", \"size\": 0.5}, \"mode\": \"markers\", \"text\": \"VBA appears with Informatica 3 times\", \"x\": [0.8104704670567059], \"y\": [-0.391328023567039], \"type\": \"scatter\", \"uid\": \"b4e1dd25-ddf6-4386-a573-2514e1e70ba9\"}, {\"hoverinfo\": \"text\", \"marker\": {\"color\": \"green\", \"size\": 0.5}, \"mode\": \"markers\", \"text\": \"Informatica appears with Linux 2 times\", \"x\": [-0.8508717072807301], \"y\": [-0.2932871250995779], \"type\": \"scatter\", \"uid\": \"0ecfed7f-7fca-427c-8b4a-8c9171bc190f\"}, {\"hoverinfo\": \"text\", \"marker\": {\"color\": \"blue\", \"size\": 0.5}, \"mode\": \"markers\", \"text\": \"Linux appears with Informatica 2 times\", \"x\": [0.8718573762891337], \"y\": [-0.22330408731196086], \"type\": \"scatter\", \"uid\": \"7338ef5a-124c-4680-8263-90a3891614cc\"}, {\"hoverinfo\": \"text\", \"marker\": {\"color\": \"green\", \"size\": 0.5}, \"mode\": \"markers\", \"text\": \"Informatica appears with AWS 11 times\", \"x\": [-0.8467544319272334], \"y\": [-0.30497037890849055], \"type\": \"scatter\", \"uid\": \"6a673d2b-bf67-4b94-8aab-d338033f938f\"}, {\"hoverinfo\": \"text\", \"marker\": {\"color\": \"blue\", \"size\": 0.5}, \"mode\": \"markers\", \"text\": \"AWS appears with Informatica 11 times\", \"x\": [0.8966096584847552], \"y\": [-0.07804562967809658], \"type\": \"scatter\", \"uid\": \"1855e2fc-3299-41ba-9e3c-4cdbe54b4d11\"}, {\"hoverinfo\": \"text\", \"marker\": {\"color\": \"green\", \"size\": 0.5}, \"mode\": \"markers\", \"text\": \"Qlik appears with Tableau 196 times\", \"x\": [-0.6342383857833502], \"y\": [-0.6385465292356777], \"type\": \"scatter\", \"uid\": \"08d20b6b-c828-4ad2-8e2b-249c2c9bcf91\"}, {\"hoverinfo\": \"text\", \"marker\": {\"color\": \"blue\", \"size\": 0.5}, \"mode\": \"markers\", \"text\": \"Tableau appears with Qlik 196 times\", \"x\": [-0.29417122093415365], \"y\": [-0.8505664540611212], \"type\": \"scatter\", \"uid\": \"a69dc31d-cff2-4f1d-895f-ed4bc0563a8f\"}, {\"hoverinfo\": \"text\", \"marker\": {\"color\": \"green\", \"size\": 0.5}, \"mode\": \"markers\", \"text\": \"Qlik appears with Microstrategy 17 times\", \"x\": [-0.7660277767351547], \"y\": [-0.4724420020173864], \"type\": \"scatter\", \"uid\": \"e46221e3-0de6-4d03-9802-23b3847e9e2e\"}, {\"hoverinfo\": \"text\", \"marker\": {\"color\": \"blue\", \"size\": 0.5}, \"mode\": \"markers\", \"text\": \"Microstrategy appears with Qlik 17 times\", \"x\": [-0.039386291443445104], \"y\": [-0.8991377647759725], \"type\": \"scatter\", \"uid\": \"723dfadb-85be-40e4-b715-38f93ced0e62\"}, {\"hoverinfo\": \"text\", \"marker\": {\"color\": \"green\", \"size\": 0.5}, \"mode\": \"markers\", \"text\": \"Qlik appears with Oracle BI 169 times\", \"x\": [-0.6799289470590436], \"y\": [-0.5896580593455671], \"type\": \"scatter\", \"uid\": \"78e0438e-5f65-48cc-8d31-187aab2bf179\"}, {\"hoverinfo\": \"text\", \"marker\": {\"color\": \"blue\", \"size\": 0.5}, \"mode\": \"markers\", \"text\": \"Oracle BI appears with Qlik 169 times\", \"x\": [0.3324735246260731], \"y\": [-0.8363380628805053], \"type\": \"scatter\", \"uid\": \"931e77fc-2aa5-499b-b946-5175cb9779b5\"}, {\"hoverinfo\": \"text\", \"marker\": {\"color\": \"green\", \"size\": 0.5}, \"mode\": \"markers\", \"text\": \"Qlik appears with Python 21 times\", \"x\": [-0.7623470129863176], \"y\": [-0.4783586852883926], \"type\": \"scatter\", \"uid\": \"92df383f-55f3-4ab0-85e7-60eefa7b1b67\"}, {\"hoverinfo\": \"text\", \"marker\": {\"color\": \"blue\", \"size\": 0.5}, \"mode\": \"markers\", \"text\": \"Python appears with Qlik 21 times\", \"x\": [0.5808336612846656], \"y\": [-0.6874825509921326], \"type\": \"scatter\", \"uid\": \"c9290df3-97b2-440a-a27a-928481042d8a\"}, {\"hoverinfo\": \"text\", \"marker\": {\"color\": \"green\", \"size\": 0.5}, \"mode\": \"markers\", \"text\": \"Qlik appears with VBA 23 times\", \"x\": [-0.7580279990348031], \"y\": [-0.4851737345315515], \"type\": \"scatter\", \"uid\": \"2b411934-a424-4680-8940-7f07b6848183\"}, {\"hoverinfo\": \"text\", \"marker\": {\"color\": \"blue\", \"size\": 0.5}, \"mode\": \"markers\", \"text\": \"VBA appears with Qlik 23 times\", \"x\": [0.8212864411110291], \"y\": [-0.3680877363444484], \"type\": \"scatter\", \"uid\": \"398d194f-df1c-453e-bb4b-37ce17533800\"}, {\"hoverinfo\": \"text\", \"marker\": {\"color\": \"green\", \"size\": 0.5}, \"mode\": \"markers\", \"text\": \"Qlik appears with Linux 2 times\", \"x\": [-0.7794657430830326], \"y\": [-0.4499257220475574], \"type\": \"scatter\", \"uid\": \"acc16f3a-bd03-4dd9-b8f8-dc1b6ffbbd5c\"}, {\"hoverinfo\": \"text\", \"marker\": {\"color\": \"blue\", \"size\": 0.5}, \"mode\": \"markers\", \"text\": \"Linux appears with Qlik 2 times\", \"x\": [0.8717007317168786], \"y\": [-0.2239147925534588], \"type\": \"scatter\", \"uid\": \"c0bb9fe0-398c-477c-a088-4b9e46434895\"}, {\"hoverinfo\": \"text\", \"marker\": {\"color\": \"green\", \"size\": 0.5}, \"mode\": \"markers\", \"text\": \"Qlik appears with AWS 2 times\", \"x\": [-0.7798321694773777], \"y\": [-0.44929031532874875], \"type\": \"scatter\", \"uid\": \"9927b76a-63c7-498e-99a0-69eec52827e8\"}, {\"hoverinfo\": \"text\", \"marker\": {\"color\": \"blue\", \"size\": 0.5}, \"mode\": \"markers\", \"text\": \"AWS appears with Qlik 2 times\", \"x\": [0.8958399836089544], \"y\": [-0.08643334870007194], \"type\": \"scatter\", \"uid\": \"46a52a6e-6dad-46b9-8f7a-6da3fdb4f6a2\"}, {\"hoverinfo\": \"text\", \"marker\": {\"color\": \"green\", \"size\": 0.5}, \"mode\": \"markers\", \"text\": \"Tableau appears with Microstrategy 23 times\", \"x\": [-0.5021726503184325], \"y\": [-0.7468752434457587], \"type\": \"scatter\", \"uid\": \"9e0780f7-ae5f-4029-9c17-0ba6d480bd64\"}, {\"hoverinfo\": \"text\", \"marker\": {\"color\": \"blue\", \"size\": 0.5}, \"mode\": \"markers\", \"text\": \"Microstrategy appears with Tableau 23 times\", \"x\": [-0.03464276432442627], \"y\": [-0.8993330188978732], \"type\": \"scatter\", \"uid\": \"3024e782-6de2-4207-9d7b-976dfd5161b9\"}, {\"hoverinfo\": \"text\", \"marker\": {\"color\": \"green\", \"size\": 0.5}, \"mode\": \"markers\", \"text\": \"Tableau appears with Oracle BI 217 times\", \"x\": [-0.22046841900727274], \"y\": [-0.8725787507270811], \"type\": \"scatter\", \"uid\": \"d5d0df34-2f92-49d0-bcc9-b6adf0836220\"}, {\"hoverinfo\": \"text\", \"marker\": {\"color\": \"blue\", \"size\": 0.5}, \"mode\": \"markers\", \"text\": \"Oracle BI appears with Tableau 217 times\", \"x\": [0.3988967562135344], \"y\": [-0.8067721970186629], \"type\": \"scatter\", \"uid\": \"6e7fab6d-00a6-4370-bc39-0d0ad8ba551a\"}, {\"hoverinfo\": \"text\", \"marker\": {\"color\": \"green\", \"size\": 0.5}, \"mode\": \"markers\", \"text\": \"Tableau appears with Python 63 times\", \"x\": [-0.39744301303089574], \"y\": [-0.8074893506374702], \"type\": \"scatter\", \"uid\": \"2e612206-98e3-4297-8aa6-22dcd63e01b1\"}, {\"hoverinfo\": \"text\", \"marker\": {\"color\": \"blue\", \"size\": 0.5}, \"mode\": \"markers\", \"text\": \"Python appears with Tableau 63 times\", \"x\": [0.677561832448232], \"y\": [-0.5923765383684554], \"type\": \"scatter\", \"uid\": \"b5386f49-63f0-4735-9c22-72f75dafb134\"}, {\"hoverinfo\": \"text\", \"marker\": {\"color\": \"green\", \"size\": 0.5}, \"mode\": \"markers\", \"text\": \"Tableau appears with VBA 45 times\", \"x\": [-0.4324854308363181], \"y\": [-0.789275840320939], \"type\": \"scatter\", \"uid\": \"af89fba9-4b07-4c7c-b0f2-efd3bf7a5534\"}, {\"hoverinfo\": \"text\", \"marker\": {\"color\": \"blue\", \"size\": 0.5}, \"mode\": \"markers\", \"text\": \"VBA appears with Tableau 45 times\", \"x\": [0.829640693400997], \"y\": [-0.3488499962062676], \"type\": \"scatter\", \"uid\": \"e68c36d5-5385-4be4-82ec-b3f1ef06e739\"}, {\"hoverinfo\": \"text\", \"marker\": {\"color\": \"green\", \"size\": 0.5}, \"mode\": \"markers\", \"text\": \"Tableau appears with Linux 8 times\", \"x\": [-0.5158465583316119], \"y\": [-0.7374973411866859], \"type\": \"scatter\", \"uid\": \"1bf4d21a-6051-49aa-893f-16688fe9b824\"}, {\"hoverinfo\": \"text\", \"marker\": {\"color\": \"blue\", \"size\": 0.5}, \"mode\": \"markers\", \"text\": \"Linux appears with Tableau 8 times\", \"x\": [0.8724796752703141], \"y\": [-0.22086017350397788], \"type\": \"scatter\", \"uid\": \"4d88f2f3-314d-4173-b6bd-8e33e54eb1ba\"}, {\"hoverinfo\": \"text\", \"marker\": {\"color\": \"green\", \"size\": 0.5}, \"mode\": \"markers\", \"text\": \"Tableau appears with AWS 18 times\", \"x\": [-0.5084933218537296], \"y\": [-0.7425863866447858], \"type\": \"scatter\", \"uid\": \"dc39f124-ae4c-4816-a0cf-f11d0cf6081a\"}, {\"hoverinfo\": \"text\", \"marker\": {\"color\": \"blue\", \"size\": 0.5}, \"mode\": \"markers\", \"text\": \"AWS appears with Tableau 18 times\", \"x\": [0.8978306578978128], \"y\": [-0.06245085859122112], \"type\": \"scatter\", \"uid\": \"308f0f7f-7fc0-469e-a864-59ab795d5685\"}, {\"hoverinfo\": \"text\", \"marker\": {\"color\": \"green\", \"size\": 0.5}, \"mode\": \"markers\", \"text\": \"Microstrategy appears with Oracle BI 34 times\", \"x\": [-0.02242406403293124], \"y\": [-0.8997206018271712], \"type\": \"scatter\", \"uid\": \"31ddfb38-c170-4aa7-ac69-12eb0e2e1611\"}, {\"hoverinfo\": \"text\", \"marker\": {\"color\": \"blue\", \"size\": 0.5}, \"mode\": \"markers\", \"text\": \"Oracle BI appears with Microstrategy 34 times\", \"x\": [0.07047889170581041], \"y\": [-0.8972361594496293], \"type\": \"scatter\", \"uid\": \"0ab79122-68f5-47f0-a3b0-034d0b74d67f\"}, {\"hoverinfo\": \"text\", \"marker\": {\"color\": \"green\", \"size\": 0.5}, \"mode\": \"markers\", \"text\": \"Microstrategy appears with Python 9 times\", \"x\": [-0.0531358497868789], \"y\": [-0.898430064872846], \"type\": \"scatter\", \"uid\": \"780da0cb-dc5d-4931-8a56-737c44458c0a\"}, {\"hoverinfo\": \"text\", \"marker\": {\"color\": \"blue\", \"size\": 0.5}, \"mode\": \"markers\", \"text\": \"Python appears with Microstrategy 9 times\", \"x\": [0.5689755745661367], \"y\": [-0.6973283269358378], \"type\": \"scatter\", \"uid\": \"2da387eb-977c-4cba-acb6-c85f283e7531\"}, {\"hoverinfo\": \"text\", \"marker\": {\"color\": \"green\", \"size\": 0.5}, \"mode\": \"markers\", \"text\": \"Microstrategy appears with VBA 6 times\", \"x\": [-0.054912970156768146], \"y\": [-0.8983231966884535], \"type\": \"scatter\", \"uid\": \"d06b7d24-89e4-4be6-91ce-413c4fe4f72b\"}, {\"hoverinfo\": \"text\", \"marker\": {\"color\": \"blue\", \"size\": 0.5}, \"mode\": \"markers\", \"text\": \"VBA appears with Microstrategy 6 times\", \"x\": [0.8118406428931871], \"y\": [-0.3884775032698505], \"type\": \"scatter\", \"uid\": \"510bfcbb-8205-4c98-bcfe-12ca2e7487ca\"}, {\"hoverinfo\": \"text\", \"marker\": {\"color\": \"green\", \"size\": 0.5}, \"mode\": \"markers\", \"text\": \"Microstrategy appears with AWS 2 times\", \"x\": [-0.06059827709863387], \"y\": [-0.8979575985605763], \"type\": \"scatter\", \"uid\": \"d1a06c31-6603-45d3-a91b-06c70641b1b0\"}, {\"hoverinfo\": \"text\", \"marker\": {\"color\": \"blue\", \"size\": 0.5}, \"mode\": \"markers\", \"text\": \"AWS appears with Microstrategy 2 times\", \"x\": [0.8957884655144326], \"y\": [-0.08696565443494508], \"type\": \"scatter\", \"uid\": \"b6885df4-f404-45aa-844d-3d53e3fd4425\"}, {\"hoverinfo\": \"text\", \"marker\": {\"color\": \"green\", \"size\": 0.5}, \"mode\": \"markers\", \"text\": \"Oracle BI appears with Python 79 times\", \"x\": [0.20642414773614634], \"y\": [-0.8760074607167485], \"type\": \"scatter\", \"uid\": \"5d119fda-087c-4223-b5f4-d26730517ccc\"}, {\"hoverinfo\": \"text\", \"marker\": {\"color\": \"blue\", \"size\": 0.5}, \"mode\": \"markers\", \"text\": \"Python appears with Oracle BI 79 times\", \"x\": [0.694424978245175], \"y\": [-0.572515457947808], \"type\": \"scatter\", \"uid\": \"0bde4ec3-75b1-4b19-93ee-144c44d0197b\"}, {\"hoverinfo\": \"text\", \"marker\": {\"color\": \"green\", \"size\": 0.5}, \"mode\": \"markers\", \"text\": \"Oracle BI appears with VBA 49 times\", \"x\": [0.08605740817729597], \"y\": [-0.8958761758735446], \"type\": \"scatter\", \"uid\": \"3762c58c-f36c-4b7c-85a8-449c33e49bee\"}, {\"hoverinfo\": \"text\", \"marker\": {\"color\": \"blue\", \"size\": 0.5}, \"mode\": \"markers\", \"text\": \"VBA appears with Oracle BI 49 times\", \"x\": [0.8465863761034559], \"y\": [-0.305436585555853], \"type\": \"scatter\", \"uid\": \"dd1117e6-c14a-4d2b-b12e-26e5398da214\"}, {\"hoverinfo\": \"text\", \"marker\": {\"color\": \"green\", \"size\": 0.5}, \"mode\": \"markers\", \"text\": \"Oracle BI appears with Linux 3 times\", \"x\": [0.010448359012885112], \"y\": [-0.8999393489529935], \"type\": \"scatter\", \"uid\": \"db6869c9-d298-4430-9b6e-fe880cb6d664\"}, {\"hoverinfo\": \"text\", \"marker\": {\"color\": \"blue\", \"size\": 0.5}, \"mode\": \"markers\", \"text\": \"Linux appears with Oracle BI 3 times\", \"x\": [0.8720525803254573], \"y\": [-0.2225405516927465], \"type\": \"scatter\", \"uid\": \"9253e273-ba29-4397-a4eb-bc9321ca237a\"}, {\"hoverinfo\": \"text\", \"marker\": {\"color\": \"green\", \"size\": 0.5}, \"mode\": \"markers\", \"text\": \"Oracle BI appears with AWS 29 times\", \"x\": [0.04735491759450504], \"y\": [-0.898753309746127], \"type\": \"scatter\", \"uid\": \"7283c6ea-e776-43f4-8242-59ef149747d6\"}, {\"hoverinfo\": \"text\", \"marker\": {\"color\": \"blue\", \"size\": 0.5}, \"mode\": \"markers\", \"text\": \"AWS appears with Oracle BI 29 times\", \"x\": [0.8988892238804629], \"y\": [-0.04470081869025621], \"type\": \"scatter\", \"uid\": \"ddb8a809-1172-4ee7-a22b-4dff95fee6f1\"}, {\"hoverinfo\": \"text\", \"marker\": {\"color\": \"green\", \"size\": 0.5}, \"mode\": \"markers\", \"text\": \"Python appears with VBA 46 times\", \"x\": [0.62375655368116], \"y\": [-0.6487894587150767], \"type\": \"scatter\", \"uid\": \"a775e778-7d0c-4fe5-a405-f62d4cef1c6b\"}, {\"hoverinfo\": \"text\", \"marker\": {\"color\": \"blue\", \"size\": 0.5}, \"mode\": \"markers\", \"text\": \"VBA appears with Python 46 times\", \"x\": [0.8353943683420726], \"y\": [-0.33483764624419043], \"type\": \"scatter\", \"uid\": \"c52c69ae-f96e-4ca4-9e3c-cda1a6604e49\"}, {\"hoverinfo\": \"text\", \"marker\": {\"color\": \"green\", \"size\": 0.5}, \"mode\": \"markers\", \"text\": \"Python appears with Linux 58 times\", \"x\": [0.6627438863888666], \"y\": [-0.6089093044568963], \"type\": \"scatter\", \"uid\": \"b1014b11-482a-4abf-92ec-9d57ef60f6bb\"}, {\"hoverinfo\": \"text\", \"marker\": {\"color\": \"blue\", \"size\": 0.5}, \"mode\": \"markers\", \"text\": \"Linux appears with Python 58 times\", \"x\": [0.8913631051714169], \"y\": [-0.1243857497431657], \"type\": \"scatter\", \"uid\": \"83f325c9-5f78-4eb7-aad1-43e0e99927b1\"}, {\"hoverinfo\": \"text\", \"marker\": {\"color\": \"green\", \"size\": 0.5}, \"mode\": \"markers\", \"text\": \"Python appears with AWS 47 times\", \"x\": [0.6359450002015375], \"y\": [-0.6368468864010143], \"type\": \"scatter\", \"uid\": \"1789191e-aa97-4be4-9a2a-06b8237a39a0\"}, {\"hoverinfo\": \"text\", \"marker\": {\"color\": \"blue\", \"size\": 0.5}, \"mode\": \"markers\", \"text\": \"AWS appears with Python 47 times\", \"x\": [0.8993366005059997], \"y\": [-0.034549659771290424], \"type\": \"scatter\", \"uid\": \"d3e229f9-4ab7-4bfd-a78d-193edfaeb648\"}, {\"hoverinfo\": \"text\", \"marker\": {\"color\": \"green\", \"size\": 0.5}, \"mode\": \"markers\", \"text\": \"Linux appears with AWS 13 times\", \"x\": [0.8732860456734967], \"y\": [-0.21764990795299566], \"type\": \"scatter\", \"uid\": \"1cff4ed4-de58-49ec-a8e4-75c1b7c20677\"}, {\"hoverinfo\": \"text\", \"marker\": {\"color\": \"blue\", \"size\": 0.5}, \"mode\": \"markers\", \"text\": \"AWS appears with Linux 13 times\", \"x\": [0.8968822144045687], \"y\": [-0.07484847015642516], \"type\": \"scatter\", \"uid\": \"7c96d036-9ba5-41b2-b584-c8cb48b36f91\"}], {\"font\": {\"color\": \"#655643\", \"family\": \"Fira Sans Condensed\", \"size\": 12}, \"height\": 525, \"hoverdistance\": 40, \"hovermode\": \"closest\", \"margin\": {\"b\": 10, \"l\": 260, \"r\": 260, \"t\": 80}, \"paper_bgcolor\": \"#fffaf0\", \"plot_bgcolor\": \"#fffaf0\", \"shapes\": [{\"fillcolor\": \"#f2e6ce\", \"layer\": \"below\", \"line\": {\"color\": \"rgb(175,175,175)\", \"width\": 0.5}, \"path\": \"M 0.9785741537031529,0.20589469566785365 Q 0.1843918741143427, 0.07745732218841803 0.832054238228861, 0.5546942803431361L 0.832054238228861, 0.5546942803431361 L 0.8477618020224904, 0.5303771554578682 L 0.8627588989336461, 0.5056155479322235 M 0.8627588989336461,0.5056155479322235 Q 0.18456898599496577, 0.07703433915332909 0.9662117308311654, 0.2577496677092785L 0.9662117308311654, 0.2577496677092785 L 0.9727385407715359, 0.23190457368853898 L 0.9785741537031529, 0.20589469566785365 \", \"type\": \"path\"}, {\"fillcolor\": \"#f2e6ce\", \"layer\": \"below\", \"line\": {\"color\": \"rgb(175,175,175)\", \"width\": 0.5}, \"path\": \"M 0.9942787047351255,0.10681693363058681 Q 0.1407899896894436, 0.14204991659007188 0.09795472507324376, 0.9951908720621513L 0.09795472507324376, 0.9951908720621513 L 0.11400513054009498, 0.9934801609546795 L 0.1300258328767364, 0.9915106064912825 M 0.1300258328767364,0.9915106064912825 Q 0.1409110729678541, 0.14192980488624685 0.990548243449369, 0.1371647819207603L 0.990548243449369, 0.1371647819207603 L 0.9925294713678805, 0.12200511655744502 L 0.9942787047351255, 0.10681693363058681 \", \"type\": \"path\"}, {\"fillcolor\": \"#f2e6ce\", \"layer\": \"below\", \"line\": {\"color\": \"rgb(175,175,175)\", \"width\": 0.5}, \"path\": \"M 0.9966454579789844,0.08184027791900783 Q 0.09901262896317743, 0.1737713995621839 -0.4377093326898257, 0.8991165330902483L -0.4377093326898257, 0.8991165330902483 L -0.42603014457830446, 0.9047089675197152 L -0.41427952026135817, 0.910149701473345 M -0.41427952026135817,0.910149701473345 Q 0.09908292435531674, 0.17373132734541166 0.9942787047351255, 0.10681693363058681L 0.9942787047351255, 0.10681693363058681 L 0.9955404129177045, 0.09433602836481117 L 0.9966454579789844, 0.08184027791900783 \", \"type\": \"path\"}, {\"fillcolor\": \"#f2e6ce\", \"layer\": \"below\", \"line\": {\"color\": \"rgb(175,175,175)\", \"width\": 0.5}, \"path\": \"M 0.9999972337850501,0.0023521101691413985 Q 0.07672038129596052, 0.1846997105947988 -0.7040307052091367, 0.7101695333670163L -0.7040307052091367, 0.7101695333670163 L -0.703397332079688, 0.71079687198466 L -0.7027633999496441, 0.7114236457211811 M -0.7027633999496441,0.7114236457211811 Q 0.07670402052731456, 0.1847065056649205 0.9999907024543172, 0.0043121925886039246L 0.9999907024543172, 0.0043121925886039246 L 0.9999944483628516, 0.003332152979125248 L 0.9999972337850501, 0.0023521101691413985 \", \"type\": \"path\"}, {\"fillcolor\": \"#f2e6ce\", \"layer\": \"below\", \"line\": {\"color\": \"rgb(175,175,175)\", \"width\": 0.5}, \"path\": \"M 0.9994448871374585,0.033315425478188825 Q 0.05147183184570049, 0.19326316391503048 -0.850480506417142, 0.5260065666932702L -0.850480506417142, 0.5260065666932702 L -0.8475504760204339, 0.5307147921412555 L -0.8445943813573806, 0.5354066968011733 M -0.8445943813573806,0.5354066968011733 Q 0.05148289327398469, 0.19326021758276976 0.9990189989086233, 0.04428362925068446L 0.9990189989086233, 0.04428362925068446 L 0.999246992155143, 0.038800111712462025 L 0.9994448871374585, 0.033315425478188825 \", \"type\": \"path\"}, {\"fillcolor\": \"#f2e6ce\", \"layer\": \"below\", \"line\": {\"color\": \"rgb(175,175,175)\", \"width\": 0.5}, \"path\": \"M 1.0,0.0 Q 0.030375499530000502, 0.19767986500476709 -0.9538664514151469, 0.3002312323271432L -0.9538664514151469, 0.3002312323271432 L -0.9537411028857047, 0.30062918798140637 L -0.9536155883280988, 0.30102709130185284 M -0.9536155883280988,0.30102709130185284 Q 0.030341735765248252, 0.19768505019538493 0.9999993084460234, 0.0011760558978768322L 0.9999993084460234, 0.0011760558978768322 L 0.9999998271114909, 0.0005880280506017091 L 1.0, 0.0 \", \"type\": \"path\"}, {\"fillcolor\": \"#f2e6ce\", \"layer\": \"below\", \"line\": {\"color\": \"rgb(175,175,175)\", \"width\": 0.5}, \"path\": \"M 0.9999803291935557,0.00627225844077022 Q 0.020663449797185502, 0.1989296907012103 -0.9773427122456597, 0.21166299350688986L -0.9773427122456597, 0.21166299350688986 L -0.9770836417791761, 0.2128557186630011 L -0.9768231157406343, 0.21404812672564885 M -0.9768231157406343,0.21404812672564885 Q 0.02063330607069998, 0.19893281951601857 0.9999593522647338, 0.009016308462679158L 0.9999593522647338, 0.009016308462679158 L 0.9999707819834046, 0.00764429064715606 L 0.9999803291935557, 0.00627225844077022 \", \"type\": \"path\"}, {\"fillcolor\": \"#f2e6ce\", \"layer\": \"below\", \"line\": {\"color\": \"rgb(175,175,175)\", \"width\": 0.5}, \"path\": \"M 0.9999213175481044,0.012544270120776926 Q 0.0039820384486490895, 0.19996035449506855 -0.998629129778543, 0.052343683073987034L -0.998629129778543, 0.052343683073987034 L -0.9984912845312061, 0.054910424467691364 L -0.9983468420895034, 0.05747680305928717 M -0.9983468420895034,0.05747680305928717 Q 0.003947307239173757, 0.19996104311980265 0.9998374123634116, 0.018031883940319376L 0.9998374123634116, 0.018031883940319376 L 0.9998831296410036, 0.015288134592290144 L 0.9999213175481044, 0.012544270120776926 \", \"type\": \"path\"}, {\"fillcolor\": \"#f2e6ce\", \"layer\": \"below\", \"line\": {\"color\": \"rgb(175,175,175)\", \"width\": 0.5}, \"path\": \"M 0.9998374123634116,0.018031883940319376 Q -0.01862594153374972, 0.19913079697018576 -0.9858379593521578, -0.16770067948691575L -0.9858379593521578, -0.16770067948691575 L -0.9864259887205739, -0.1642064821395252 L -0.9870016333196894, -0.1607102231479548 M -0.9870016333196894,-0.1607102231479548 Q -0.018661953067168634, 0.19912742530279148 0.9996753713557186, 0.02547845962389L 0.9996753713557186, 0.02547845962389 L 0.9997633249606674, 0.021755322649662713 L 0.9998374123634116, 0.018031883940319376 \", \"type\": \"path\"}, {\"fillcolor\": \"#f2e6ce\", \"layer\": \"below\", \"line\": {\"color\": \"rgb(175,175,175)\", \"width\": 0.5}, \"path\": \"M 0.9999907024543172,0.0043121925886039246 Q -0.03408171134331888, 0.19707469891366242 -0.9433612629426837, -0.3317672792473434L -0.9433612629426837, -0.3317672792473434 L -0.9436652955681448, -0.3309015109368433 L -0.9439685336362929, -0.33003546401038025 M -0.9439685336362929,-0.33003546401038025 Q -0.03409401786557706, 0.19707257025213254 0.9999803291935557, 0.00627225844077022L 0.9999803291935557, 0.00627225844077022 L 0.9999859960630452, 0.0052922280562575485 L 0.9999907024543172, 0.0043121925886039246 \", \"type\": \"path\"}, {\"fillcolor\": \"#f2e6ce\", \"layer\": \"below\", \"line\": {\"color\": \"rgb(175,175,175)\", \"width\": 0.5}, \"path\": \"M 0.990548243449369,0.1371647819207603 Q -0.07949988922626511, 0.1835204828159832 -0.7775842239090586, -0.6287787963407697L -0.7775842239090586, -0.6287787963407697 L -0.7888577458317234, -0.6145758348985844 L -0.7998718783821913, -0.6001707908365292 M -0.7998718783821913,-0.6001707908365292 Q -0.07937347782492044, 0.18357519172801337 0.9851607503361287, 0.17163419238938316L 0.9851607503361287, 0.17163419238938316 L 0.9880048289840184, 0.15442298373059773 L 0.990548243449369, 0.1371647819207603 \", \"type\": \"path\"}, {\"fillcolor\": \"#f2e6ce\", \"layer\": \"below\", \"line\": {\"color\": \"rgb(175,175,175)\", \"width\": 0.5}, \"path\": \"M 0.9851607503361287,0.17163419238938316 Q -0.12651415712552536, 0.1549005101567386 -0.36492156528028286, -0.931038265160669L -0.36492156528028286, -0.931038265160669 L -0.3820114641770692, -0.9241575846344019 L -0.39897170517065245, -0.9169632372528476 M -0.39897170517065245,-0.9169632372528476 Q -0.12636253146672158, 0.1550242259820116 0.9785741537031529, 0.20589469566785365L 0.9785741537031529, 0.20589469566785365 L 0.9820168730000342, 0.1887931702769854 L 0.9851607503361287, 0.17163419238938316 \", \"type\": \"path\"}, {\"fillcolor\": \"#f2e6ce\", \"layer\": \"below\", \"line\": {\"color\": \"rgb(175,175,175)\", \"width\": 0.5}, \"path\": \"M 0.9999593522647338,0.009016308462679158 Q -0.13809559435381943, 0.14467068403814695 -0.0554850153632631, -0.9984595199957474L -0.0554850153632631, -0.9984595199957474 L -0.0566700349952564, -0.9983929622817042 L -0.057854974796087914, -0.9983249981300398 M -0.057854974796087914,-0.9983249981300398 Q -0.1381790748138119, 0.14459095159656077 0.9999213175481044, 0.012544270120776926L 0.9999213175481044, 0.012544270120776926 L 0.9999418908122245, 0.010780306065843567 L 0.9999593522647338, 0.009016308462679158 \", \"type\": \"path\"}, {\"fillcolor\": \"#f2e6ce\", \"layer\": \"below\", \"line\": {\"color\": \"rgb(175,175,175)\", \"width\": 0.5}, \"path\": \"M 0.9983625397119322,0.057203490277609986 Q -0.15557926349841794, 0.1256785294682025 0.15397617791067109, -0.9880745602615327L 0.15397617791067109, -0.9880745602615327 L 0.1409318015223108, -0.9900193065388553 L 0.1278629117673667, -0.9917918510425313 M 0.1278629117673667,-0.9917918510425313 Q -0.15547363191126923, 0.12580918003198008 0.9966454579789844, 0.08184027791900783L 0.9966454579789844, 0.08184027791900783 L 0.9975800572079425, 0.06952718505015217 L 0.9983625397119322, 0.057203490277609986 \", \"type\": \"path\"}, {\"fillcolor\": \"#f2e6ce\", \"layer\": \"below\", \"line\": {\"color\": \"rgb(175,175,175)\", \"width\": 0.5}, \"path\": \"M 0.9990189989086233,0.04428362925068446 Q -0.1847509696119124, 0.07659686173374358 0.6746191734865188, -0.7381659506942638L 0.6746191734865188, -0.7381659506942638 L 0.6696376514968302, -0.742687966576684 L 0.6646258189019397, -0.747176365290636 M 0.6646258189019397,-0.747176365290636 Q -0.18473108111331055, 0.0766448150282032 0.9983625397119322, 0.057203490277609986L 0.9983625397119322, 0.057203490277609986 L 0.9987116617962329, 0.05074462131306934 L 0.9990189989086233, 0.04428362925068446 \", \"type\": \"path\"}, {\"fillcolor\": \"#f2e6ce\", \"layer\": \"below\", \"line\": {\"color\": \"rgb(175,175,175)\", \"width\": 0.5}, \"path\": \"M 0.9996753713557186,0.02547845962389 Q -0.19585516483609144, 0.04050622676857776 0.9075578011756056, -0.4199271812175297L 0.9075578011756056, -0.4199271812175297 L 0.9059982433578924, -0.4232814465960127 L 0.9044262884791809, -0.42662992008035877 M 0.9044262884791809,-0.42662992008035877 Q -0.19586411550472582, 0.040462924480954565 0.9994448871374585, 0.033315425478188825L 0.9994448871374585, 0.033315425478188825 L 0.9995678098497907, 0.029397168436650977 L 0.9996753713557186, 0.02547845962389 \", \"type\": \"path\"}, {\"fillcolor\": \"#f2e6ce\", \"layer\": \"below\", \"line\": {\"color\": \"rgb(175,175,175)\", \"width\": 0.5}, \"path\": \"M 0.9999993084460234,0.0011760558978768322 Q -0.19977998173260703, 0.009378640568825291 0.995491189823864, -0.09485405095760299L 0.995491189823864, -0.09485405095760299 L 0.9954488182334347, -0.09529769292935913 L 0.9954062489333807, -0.09574131597370299 M 0.9954062489333807,-0.09574131597370299 Q -0.19978131491952109, 0.009350198341594177 0.9999972337850501, 0.0023521101691413985L 0.9999972337850501, 0.0023521101691413985 L 0.9999984440037768, 0.0017640833384988538 L 0.9999993084460234, 0.0011760558978768322 \", \"type\": \"path\"}, {\"fillcolor\": \"#ecd5bb\", \"layer\": \"below\", \"line\": {\"color\": \"rgb(175,175,175)\", \"width\": 0.5}, \"path\": \"M 0.5359045003107966,0.8442786071828632 Q 0.031021760188350334, 0.19757947867837006 -0.2513778359780235, 0.967889034744689L -0.2513778359780235, 0.967889034744689 L -0.19084302608830553, 0.9816205679352172 L -0.12957289454340812, 0.991569899200073 M -0.12957289454340812,0.991569899200073 Q 0.03067043989831495, 0.19763431917671548 0.42400019901733943, 0.9056620955043092L 0.42400019901733943, 0.9056620955043092 L 0.4809326783528927, 0.8767575257118202 L 0.5359045003107966, 0.8442786071828632 \", \"type\": \"path\"}, {\"fillcolor\": \"#ecd5bb\", \"layer\": \"below\", \"line\": {\"color\": \"rgb(175,175,175)\", \"width\": 0.5}, \"path\": \"M 0.7962487803190149,0.6049693214043842 Q 0.026731435538913197, 0.19820552553859072 -0.6075340206751771, 0.7942936571081588L -0.6075340206751771, 0.7942936571081588 L -0.5816711658984456, 0.8134240313405691 L -0.5552063637857448, 0.8317126268199919 M -0.5552063637857448,0.8317126268199919 Q 0.026399309441410408, 0.1982500352106316 0.753504767350159, 0.6574424427891636L 0.753504767350159, 0.6574424427891636 L 0.7753208185939954, 0.6315675959505339 L 0.7962487803190149, 0.6049693214043842 \", \"type\": \"path\"}, {\"fillcolor\": \"#ecd5bb\", \"layer\": \"below\", \"line\": {\"color\": \"rgb(175,175,175)\", \"width\": 0.5}, \"path\": \"M 0.9516853171672304,0.30707500238265606 Q 0.053202498660704936, 0.19279391623248307 -0.659512545841729, 0.7516935558306731L -0.659512545841729, 0.7516935558306731 L -0.6567732211189827, 0.7540881487074278 L -0.6540252020487661, 0.7564727589841359 M -0.6540252020487661,0.7564727589841359 Q 0.052877892300185594, 0.19288319912809923 0.9483631461088947, 0.3171866061208122L 0.9483631461088947, 0.3171866061208122 L 0.9500376844273234, 0.31213522417050205 L 0.9516853171672304, 0.30707500238265606 \", \"type\": \"path\"}, {\"fillcolor\": \"#ecd5bb\", \"layer\": \"below\", \"line\": {\"color\": \"rgb(175,175,175)\", \"width\": 0.5}, \"path\": \"M 0.9122887468432381,0.4095476069801826 Q 0.023529738188240633, 0.19861105563586548 -0.7913381301882588, 0.6113787399886835L -0.7913381301882588, 0.6113787399886835 L -0.784310448407685, 0.620368536048159 L -0.7771806456856462, 0.6292775571809646 M -0.7771806456856462,0.6292775571809646 Q 0.02309019674239626, 0.19866263567766695 0.9007924946909072, 0.43424979160447735L 0.9007924946909072, 0.43424979160447735 L 0.9066247551120875, 0.42193785492409586 L 0.9122887468432381, 0.4095476069801826 \", \"type\": \"path\"}, {\"fillcolor\": \"#ecd5bb\", \"layer\": \"below\", \"line\": {\"color\": \"rgb(175,175,175)\", \"width\": 0.5}, \"path\": \"M 0.8856805958571344,0.4642950377961747 Q -0.009843428293919564, 0.19975762042891498 -0.9270369420865472, 0.3749700094765231L -0.9270369420865472, 0.3749700094765231 L -0.9185702825692216, 0.39525768301286746 L -0.9096597018979599, 0.41535433877945077 M -0.9096597018979599,0.41535433877945077 Q -0.010171907980520666, 0.19974116322890437 0.8627588989336461, 0.5056155479322235L 0.8627588989336461, 0.5056155479322235 L 0.8744638430921748, 0.48509069989483844 L 0.8856805958571344, 0.4642950377961747 \", \"type\": \"path\"}, {\"fillcolor\": \"#ecd5bb\", \"layer\": \"below\", \"line\": {\"color\": \"rgb(175,175,175)\", \"width\": 0.5}, \"path\": \"M 0.9483631461088947,0.3171866061208122 Q -0.005564805045870311, 0.19992256737247416 -0.9645387279310337, 0.263941361520288L -0.9645387279310337, 0.263941361520288 L -0.9632051527354036, 0.2687672482724926 L -0.9618474322927509, 0.2735863976732797 M -0.9618474322927509,0.2735863976732797 Q -0.006095879526280284, 0.1999070790462436 0.9433905831636327, 0.3316838971041268L 0.9433905831636327, 0.3316838971041268 L 0.9459046389121857, 0.32444477817404854 L 0.9483631461088947, 0.3171866061208122 \", \"type\": \"path\"}, {\"fillcolor\": \"#ecd5bb\", \"layer\": \"below\", \"line\": {\"color\": \"rgb(175,175,175)\", \"width\": 0.5}, \"path\": \"M 0.9433905831636327,0.3316838971041268 Q -0.02375849946002835, 0.19858382034649208 -0.995010093776251, 0.09977431174092861L -0.995010093776251, 0.09977431174092861 L -0.9942527498938385, 0.10705825203383565 L -0.9934420848768006, 0.11433645086163731 M -0.9934420848768006,0.11433645086163731 Q -0.024079628127997157, 0.1985451372086896 0.937309266356985, 0.34849869325627403L 0.937309266356985, 0.34849869325627403 L 0.9403875080726711, 0.34010488773446335 L 0.9433905831636327, 0.3316838971041268 \", \"type\": \"path\"}, {\"fillcolor\": \"#ecd5bb\", \"layer\": \"below\", \"line\": {\"color\": \"rgb(175,175,175)\", \"width\": 0.5}, \"path\": \"M 0.92967903635901,0.3683705869835193 Q -0.040649348028345564, 0.19582551035263623 -0.9994851688501479, -0.03208422117788337L -0.9994851688501479, -0.03208422117788337 L -0.9997375869972781, -0.02290757832813872 L -0.9999057527702172, -0.013729004953938233 M -0.9999057527702172,-0.013729004953938233 Q -0.04093585106665345, 0.19576581953305527 0.9216275571034754, 0.3880755673673366L 0.9216275571034754, 0.3880755673673366 L 0.9257057293289265, 0.37824450119942304 L 0.92967903635901, 0.3683705869835193 \", \"type\": \"path\"}, {\"fillcolor\": \"#ecd5bb\", \"layer\": \"below\", \"line\": {\"color\": \"rgb(175,175,175)\", \"width\": 0.5}, \"path\": \"M 0.9216275571034754,0.3880755673673366 Q -0.06228935560685424, 0.19005271947036922 -0.972540479160309, -0.23273378868277095L -0.972540479160309, -0.23273378868277095 L -0.9748764331652582, -0.22274635812731894 L -0.977109824856154, -0.2127354934409772 M -0.977109824856154,-0.2127354934409772 Q -0.06256500852909139, 0.1899621533562797 0.9122887468432381, 0.4095476069801826L 0.9122887468432381, 0.4095476069801826 L 0.917021000082156, 0.39883892163168133 L 0.9216275571034754, 0.3880755673673366 \", \"type\": \"path\"}, {\"fillcolor\": \"#ecd5bb\", \"layer\": \"below\", \"line\": {\"color\": \"rgb(175,175,175)\", \"width\": 0.5}, \"path\": \"M 0.9007924946909072,0.43424979160447735 Q -0.08769216852877604, 0.17975005863342786 -0.896688405832244, -0.4426622898395896L -0.896688405832244, -0.4426622898395896 L -0.9030116998839132, -0.42961595625950105 L -0.9091451891229786, -0.4164793213288547 M -0.9091451891229786,-0.4164793213288547 Q -0.0881086862249823, 0.17954625980985406 0.8856805958571344, 0.4642950377961747L 0.8856805958571344, 0.4642950377961747 L 0.8933628630168974, 0.4493359489093347 L 0.9007924946909072, 0.43424979160447735 \", \"type\": \"path\"}, {\"fillcolor\": \"#ecd5bb\", \"layer\": \"below\", \"line\": {\"color\": \"rgb(175,175,175)\", \"width\": 0.5}, \"path\": \"M 0.698223242557579,0.7158800902053222 Q -0.15177564501488827, 0.1302465108181967 -0.6015998383332019, -0.798797617996865L -0.6015998383332019, -0.798797617996865 L -0.6394560962250314, -0.7688276146189361 L -0.6758215918053093, -0.7370652454496399 M -0.6758215918053093,-0.7370652454496399 Q -0.15205683314849072, 0.12991812611353373 0.6225625036690979, 0.7825700793061695L 0.6225625036690979, 0.7825700793061695 L 0.661234176007606, 0.7501795548264044 L 0.698223242557579, 0.7158800902053222 \", \"type\": \"path\"}, {\"fillcolor\": \"#ecd5bb\", \"layer\": \"below\", \"line\": {\"color\": \"rgb(175,175,175)\", \"width\": 0.5}, \"path\": \"M 0.6225625036690979,0.7825700793061695 Q -0.18531928700123174, 0.07521144770149757 -0.09890013565448309, -0.9950973636622322L -0.09890013565448309, -0.9950973636622322 L -0.1502418765402634, -0.988649269727976 L -0.20118133694807852, -0.9795540156947874 M -0.20118133694807852,-0.9795540156947874 Q -0.18542936747894911, 0.07493964022035898 0.5359045003107966, 0.8442786071828632L 0.5359045003107966, 0.8442786071828632 L 0.580054683138336, 0.8145775374814141 L 0.6225625036690979, 0.7825700793061695 \", \"type\": \"path\"}, {\"fillcolor\": \"#ecd5bb\", \"layer\": \"below\", \"line\": {\"color\": \"rgb(175,175,175)\", \"width\": 0.5}, \"path\": \"M 0.9576388509531945,0.2879719277031103 Q -0.15872586564077018, 0.12168031712889385 -0.029397765987632288, -0.9995677922757097L -0.029397765987632288, -0.9995677922757097 L -0.0324294717604377, -0.9994740263565327 L -0.03546087918106622, -0.9993710652443895 M -0.03546087918106622,-0.9993710652443895 Q -0.15895225830835422, 0.12138442889709639 0.9547731800379207, 0.2973351218411243L 0.9547731800379207, 0.2973351218411243 L 0.9562174760069003, 0.29265703234160106 L 0.9576388509531945, 0.2879719277031103 \", \"type\": \"path\"}, {\"fillcolor\": \"#ecd5bb\", \"layer\": \"below\", \"line\": {\"color\": \"rgb(175,175,175)\", \"width\": 0.5}, \"path\": \"M 0.42400019901733943,0.9056620955043092 Q -0.19887258958409793, -0.02120596878510743 0.6054385010620539, -0.7958920915750661L 0.6054385010620539, -0.7958920915750661 L 0.545901873953804, -0.8378491176898888 L 0.48346923630815286, -0.8753613525531108 M 0.48346923630815286,-0.8753613525531108 Q -0.19884642747155967, -0.021449901673381983 0.2856659164752751, 0.9583292670916094L 0.2856659164752751, 0.9583292670916094 L 0.3558088765198892, 0.9345587426104655 L 0.42400019901733943, 0.9056620955043092 \", \"type\": \"path\"}, {\"fillcolor\": \"#ecd5bb\", \"layer\": \"below\", \"line\": {\"color\": \"rgb(175,175,175)\", \"width\": 0.5}, \"path\": \"M 0.753504767350159,0.6574424427891636 Q -0.198622336127644, -0.02343432506382933 0.8858206825279608, -0.4640277129716476L 0.8858206825279608, -0.4640277129716476 L 0.867287477610096, -0.4978076246711347 L 0.847466730556729, -0.5308485100285093 M 0.847466730556729,-0.5308485100285093 Q -0.1985822171199405, -0.023771896090316578 0.698223242557579, 0.7158800902053222L 0.698223242557579, 0.7158800902053222 L 0.7264518520497791, 0.6872173649242617 L 0.753504767350159, 0.6574424427891636 \", \"type\": \"path\"}, {\"fillcolor\": \"#ecd5bb\", \"layer\": \"below\", \"line\": {\"color\": \"rgb(175,175,175)\", \"width\": 0.5}, \"path\": \"M 0.832054238228861,0.5546942803431361 Q -0.1976873184402887, -0.030326953818144937 0.9600678803512613, -0.2797671623293845L 0.9600678803512613, -0.2797671623293845 L 0.9522206191641124, -0.30541102213036525 L 0.9436885332354598, -0.33083523427819256 M 0.9436885332354598,-0.33083523427819256 Q -0.1975629525375501, -0.03112683383586782 0.7962487803190149, 0.6049693214043842L 0.7962487803190149, 0.6049693214043842 L 0.8145394864532098, 0.5801081149307784 L 0.832054238228861, 0.5546942803431361 \", \"type\": \"path\"}, {\"fillcolor\": \"#ecd5bb\", \"layer\": \"below\", \"line\": {\"color\": \"rgb(175,175,175)\", \"width\": 0.5}, \"path\": \"M 0.937309266356985,0.34849869325627403 Q -0.1989280662569943, -0.020679082553461996 0.9889485289441367, -0.14825925636946935L 0.9889485289441367, -0.14825925636946935 L 0.9876123844003526, -0.15691328235382168 L 0.9862005122593397, -0.1655552766281281 M 0.9862005122593397,-0.1655552766281281 Q -0.1988886943153757, -0.021054388462385984 0.92967903635901, 0.3683705869835193L 0.92967903635901, 0.3683705869835193 L 0.9335470280921389, 0.3584549432499646 L 0.937309266356985, 0.34849869325627403 \", \"type\": \"path\"}, {\"fillcolor\": \"#ecd5bb\", \"layer\": \"below\", \"line\": {\"color\": \"rgb(175,175,175)\", \"width\": 0.5}, \"path\": \"M 0.9547731800379207,0.2973351218411243 Q -0.19846555318833126, -0.024726993299826486 0.998542566150505, -0.053969839591798775L 0.998542566150505, -0.053969839591798775 L 0.9983438022563311, -0.05752957931683078 L 0.998132348160512, -0.06108858776876872 M 0.998132348160512,-0.06108858776876872 Q -0.19842714927996408, -0.025033306386229987 0.9516853171672304, 0.30707500238265606L 0.9516853171672304, 0.30707500238265606 L 0.9532416885080465, 0.3022090059715767 L 0.9547731800379207, 0.2973351218411243 \", \"type\": \"path\"}, {\"fillcolor\": \"#e6c4a9\", \"layer\": \"below\", \"line\": {\"color\": \"rgb(175,175,175)\", \"width\": 0.5}, \"path\": \"M -0.07110659367846944,0.997468722484793 Q -0.06478757627335734, 0.18921567049434332 -0.5552063637857448, 0.8317126268199919L -0.5552063637857448, 0.8317126268199919 L -0.5310845958689316, 0.8473188018867123 L -0.5065244641478004, 0.8622255895180702 M -0.5065244641478004,0.8622255895180702 Q -0.06491146279210212, 0.1891732063432598 -0.12957289454340812, 0.991569899200073L -0.12957289454340812, 0.991569899200073 L -0.10038308262493617, 0.9949488613605803 L -0.07110659367846944, 0.997468722484793 \", \"type\": \"path\"}, {\"fillcolor\": \"#e6c4a9\", \"layer\": \"below\", \"line\": {\"color\": \"rgb(175,175,175)\", \"width\": 0.5}, \"path\": \"M 0.25542310786379274,0.9668293727277846 Q -0.04313978230285695, 0.19529198443065224 -0.638925267001568, 0.7692688107462664L -0.638925267001568, 0.7692688107462664 L -0.6376929277937942, 0.7702906787971531 L -0.6364589542592449, 0.7713105726899044 M -0.6364589542592449,0.7713105726899044 Q -0.043271685523922215, 0.1952628004303912 0.2510187647989263, 0.9679822207658678L 0.2510187647989263, 0.9679822207658678 L 0.2532215924070857, 0.9674083032199071 L 0.25542310786379274, 0.9668293727277846 \", \"type\": \"path\"}, {\"fillcolor\": \"#e6c4a9\", \"layer\": \"below\", \"line\": {\"color\": \"rgb(175,175,175)\", \"width\": 0.5}, \"path\": \"M 0.20994271534996364,0.9777136882909455 Q -0.0599068572397926, 0.19081710734536125 -0.7310949002030361, 0.6822757850730983L -0.7310949002030361, 0.6822757850730983 L -0.7276797324741767, 0.6859170554420634 L -0.7242464293505595, 0.6895412312349168 M -0.7242464293505595,0.6895412312349168 Q -0.06005990378378792, 0.19076899107947848 0.19859838011453165, 0.9800809575825274L 0.19859838011453165, 0.9800809575825274 L 0.2042739769569468, 0.9789137563331066 L 0.20994271534996364, 0.9777136882909455 \", \"type\": \"path\"}, {\"fillcolor\": \"#e6c4a9\", \"layer\": \"below\", \"line\": {\"color\": \"rgb(175,175,175)\", \"width\": 0.5}, \"path\": \"M 0.06412949758674315,0.9979415852339615 Q -0.10268053496812413, 0.1716295654561295 -0.9096597018979599, 0.41535433877945077L -0.9096597018979599, 0.41535433877945077 L -0.902026495510644, 0.4316806706314126 L -0.8941002974309445, 0.44786678614728337 M -0.8941002974309445,0.44786678614728337 Q -0.10281932759064327, 0.1715464539820278 0.02650695343818978, 0.9996486289789156L 0.02650695343818978, 0.9996486289789156 L 0.04532626240035188, 0.9989722368198299 L 0.06412949758674315, 0.9979415852339615 \", \"type\": \"path\"}, {\"fillcolor\": \"#e6c4a9\", \"layer\": \"below\", \"line\": {\"color\": \"rgb(175,175,175)\", \"width\": 0.5}, \"path\": \"M 0.22771197770727697,0.973728532604771 Q -0.10144722148909979, 0.1723614262302953 -0.9618474322927509, 0.2735863976732797L -0.9618474322927509, 0.2735863976732797 L -0.9611595282160463, 0.2759934081087937 L -0.9604656006378762, 0.278398688918112 M -0.9604656006378762,0.278398688918112 Q -0.10165769878293188, 0.17223737189750282 0.2204515274335154, 0.9753979311297671L 0.2204515274335154, 0.9753979311297671 L 0.22408330718257233, 0.9745699930954784 L 0.22771197770727697, 0.973728532604771 \", \"type\": \"path\"}, {\"fillcolor\": \"#e6c4a9\", \"layer\": \"below\", \"line\": {\"color\": \"rgb(175,175,175)\", \"width\": 0.5}, \"path\": \"M 0.23495978973182055,0.9720050911436517 Q -0.1075924309188383, 0.1685937982518189 -0.9805437860822563, 0.1963004930596824L -0.9805437860822563, 0.1963004930596824 L -0.9799228639161423, 0.1993769815560106 L -0.9792922891905554, 0.20245150612411217 M -0.9792922891905554,0.20245150612411217 Q -0.1076912817356237, 0.16853067328572124 0.22771197770727697, 0.973728532604771L 0.22771197770727697, 0.973728532604771 L 0.2313374886587171, 0.9728735613331663 L 0.23495978973182055, 0.9720050911436517 \", \"type\": \"path\"}, {\"fillcolor\": \"#e6c4a9\", \"layer\": \"below\", \"line\": {\"color\": \"rgb(175,175,175)\", \"width\": 0.5}, \"path\": \"M 0.2204515274335154,0.9753979311297671 Q -0.12369541510797935, 0.15716056846825377 -0.9998888089538195, 0.014912066554045372L -0.9998888089538195, 0.014912066554045372 L -0.9998062311487, 0.019685023653329265 L -0.9997008698206078, 0.024457532171503486 M -0.9997008698206078,0.024457532171503486 Q -0.12379076062988269, 0.15708547858626237 0.20994271534996364, 0.9777136882909455L 0.20994271534996364, 0.9777136882909455 L 0.21520023638021046, 0.9765699454017114 L 0.2204515274335154, 0.9753979311297671 \", \"type\": \"path\"}, {\"fillcolor\": \"#e6c4a9\", \"layer\": \"below\", \"line\": {\"color\": \"rgb(175,175,175)\", \"width\": 0.5}, \"path\": \"M 0.19859838011453165,0.9800809575825274 Q -0.14146700898970788, 0.14137568874281714 -0.9799525119960004, -0.19923120797889227L -0.9799525119960004, -0.19923120797889227 L -0.9812320480915376, -0.1928306713105732 L -0.9824697796961797, -0.18642191926847046 M -0.9824697796961797,-0.18642191926847046 Q -0.14156816726852436, 0.14127439264152264 0.18438063337068644, 0.9828549140324957L 0.18438063337068644, 0.9828549140324957 L 0.19149452968981723, 0.9814936806209583 L 0.19859838011453165, 0.9800809575825274 \", \"type\": \"path\"}, {\"fillcolor\": \"#e6c4a9\", \"layer\": \"below\", \"line\": {\"color\": \"rgb(175,175,175)\", \"width\": 0.5}, \"path\": \"M 0.18438063337068644,0.9828549140324957 Q -0.15610850024648623, 0.12502054291512582 -0.9188217250058108, -0.39467282356066286L -0.9188217250058108, -0.39467282356066286 L -0.9219075906519304, -0.387409853125024 L -0.9249360460642451, -0.3801227573969239 M -0.9249360460642451,-0.3801227573969239 Q -0.156234335438228, 0.1248632549238376 0.1668604616174037, 0.9859805202684417L 0.1668604616174037, 0.9859805202684417 L 0.17562750085249657, 0.9844566932802612 L 0.18438063337068644, 0.9828549140324957 \", \"type\": \"path\"}, {\"fillcolor\": \"#e6c4a9\", \"layer\": \"below\", \"line\": {\"color\": \"rgb(175,175,175)\", \"width\": 0.5}, \"path\": \"M 0.1668604616174037,0.9859805202684417 Q -0.1693865295493291, 0.1063400376492047 -0.8154862956060945, -0.5787763831382976L -0.8154862956060945, -0.5787763831382976 L -0.8205256804896732, -0.5716096637190091 L -0.8255020840643174, -0.5643990691040062 M -0.8255020840643174,-0.5643990691040062 Q -0.16940113517065863, 0.10631676915187108 0.14928744084548604, 0.9887938410031717L 0.14928744084548604, 0.9887938410031717 L 0.15808020986610033, 0.9874262743358057 L 0.1668604616174037, 0.9859805202684417 \", \"type\": \"path\"}, {\"fillcolor\": \"#e6c4a9\", \"layer\": \"below\", \"line\": {\"color\": \"rgb(175,175,175)\", \"width\": 0.5}, \"path\": \"M 0.09795472507324376,0.9951908720621513 Q -0.19357026011444012, 0.050304616082701585 -0.39897170517065245, -0.9169632372528476L -0.39897170517065245, -0.9169632372528476 L -0.4144782700899037, -0.9100592088558199 L -0.42986541587660393, -0.9028929749606175 M -0.42986541587660393,-0.9028929749606175 Q -0.1935700076757101, 0.05030558744737543 0.06412949758674315, 0.9979415852339615L 0.06412949758674315, 0.9979415852339615 L 0.08105378100102084, 0.9967097293522515 L 0.09795472507324376, 0.9951908720621513 \", \"type\": \"path\"}, {\"fillcolor\": \"#e6c4a9\", \"layer\": \"below\", \"line\": {\"color\": \"rgb(175,175,175)\", \"width\": 0.5}, \"path\": \"M 0.2510187647989263,0.9679822207658678 Q -0.19770246290823731, 0.030228069075232955 -0.04969049206084727, -0.9987646644724426L -0.04969049206084727, -0.9987646644724426 L -0.05127099073075749, -0.9986847778500915 L -0.052851360999756125, -0.9986023901636093 M -0.052851360999756125,-0.9986023901636093 Q -0.19772961182750567, 0.030049968494890847 0.24620809613593378, 0.9692169898413455L 0.24620809613593378, 0.9692169898413455 L 0.2486141970452434, 0.9686025918959482 L 0.2510187647989263, 0.9679822207658678 \", \"type\": \"path\"}, {\"fillcolor\": \"#e6c4a9\", \"layer\": \"below\", \"line\": {\"color\": \"rgb(175,175,175)\", \"width\": 0.5}, \"path\": \"M -0.01363630215419346,0.9999070213092613 Q -0.196828666105833, -0.03547500809018256 0.33631421087665464, -0.9417498349149912L 0.33631421087665464, -0.9417498349149912 L 0.30877195740636687, -0.9511360987363695 L 0.2809682736131547, -0.9597170568573028 M 0.2809682736131547,-0.9597170568573028 Q -0.19684049633050452, -0.035409306747811974 -0.07110659367846944, 0.997468722484793L -0.07110659367846944, 0.997468722484793 L -0.0423889835194916, 0.9991011831021842 L -0.01363630215419346, 0.9999070213092613 \", \"type\": \"path\"}, {\"fillcolor\": \"#e6c4a9\", \"layer\": \"below\", \"line\": {\"color\": \"rgb(175,175,175)\", \"width\": 0.5}, \"path\": \"M 0.02650695343818978,0.9996486289789156 Q -0.17808060362617045, -0.09103460118075309 0.8258134254650317, -0.563943424752617L 0.8258134254650317, -0.563943424752617 L 0.8145001939366843, -0.5801632822551801 L 0.8028684333861973, -0.5961562535711533 M 0.8028684333861973,-0.5961562535711533 Q -0.17805351258514968, -0.09108757684827254 -0.01363630215419346, 0.9999070213092613L -0.01363630215419346, 0.9999070213092613 L 0.006436622388151487, 0.999979284731555 L 0.02650695343818978, 0.9996486289789156 \", \"type\": \"path\"}, {\"fillcolor\": \"#e6c4a9\", \"layer\": \"below\", \"line\": {\"color\": \"rgb(175,175,175)\", \"width\": 0.5}, \"path\": \"M 0.14928744084548604,0.9887938410031717 Q -0.17227588024084245, -0.10159242632816146 0.9375372656375344, -0.3478848596028509L 0.9375372656375344, -0.3478848596028509 L 0.9344777587310436, -0.35602151400864185 L 0.9313476373329466, -0.36413126538974677 M 0.9313476373329466,-0.36413126538974677 Q -0.17217080263685963, -0.10177040198102559 0.1300258328767364, 0.9915106064912825L 0.1300258328767364, 0.9915106064912825 L 0.13966324292037485, 0.990199060076793 L 0.14928744084548604, 0.9887938410031717 \", \"type\": \"path\"}, {\"fillcolor\": \"#e6c4a9\", \"layer\": \"below\", \"line\": {\"color\": \"rgb(175,175,175)\", \"width\": 0.5}, \"path\": \"M 0.24058798177554308,0.9706273347815685 Q -0.17098654216793674, -0.10374778261462939 0.9720292608080651, -0.2348597797259604L 0.9720292608080651, -0.2348597797259604 L 0.9714504996004671, -0.23724233776036413 L 0.970865898472219, -0.23962346960122835 M 0.970865898472219,-0.23962346960122835 Q -0.17094032173672358, -0.10382392019445924 0.23495978973182055, 0.9720050911436517L 0.23495978973182055, 0.9720050911436517 L 0.23777488366005628, 0.9713202894516549 L 0.24058798177554308, 0.9706273347815685 \", \"type\": \"path\"}, {\"fillcolor\": \"#e6c4a9\", \"layer\": \"below\", \"line\": {\"color\": \"rgb(175,175,175)\", \"width\": 0.5}, \"path\": \"M 0.24620809613593378,0.9692169898413455 Q -0.16249283206671714, -0.11660222779577444 0.9970238393350671, -0.07709386355321919L 0.9970238393350671, -0.07709386355321919 L 0.9968613472112471, -0.07916725608594403 L 0.9966945433029462, -0.0812403061917644 M 0.9966945433029462,-0.0812403061917644 Q -0.16239746244912223, -0.11673501698327687 0.24058798177554308, 0.9706273347815685L 0.24058798177554308, 0.9706273347815685 L 0.2433990604659593, 0.9699262329498508 L 0.24620809613593378, 0.9692169898413455 \", \"type\": \"path\"}, {\"fillcolor\": \"#e1b396\", \"layer\": \"below\", \"line\": {\"color\": \"rgb(175,175,175)\", \"width\": 0.5}, \"path\": \"M -0.31333392658031783,0.94964301211232 Q -0.09993436167481788, 0.17324296048222765 -0.6651823336922952, 0.7466809646319317L -0.6651823336922952, 0.7466809646319317 L -0.6623521816100154, 0.7491926237733879 L -0.659512545841729, 0.7516935558306731 M -0.659512545841729,0.7516935558306731 Q -0.10019007372103544, 0.17309520249785518 -0.3233077875914901, 0.946293862646639L -0.3233077875914901, 0.946293862646639 L -0.31832526173151937, 0.9479815545376185 L -0.31333392658031783, 0.94964301211232 \", \"type\": \"path\"}, {\"fillcolor\": \"#e1b396\", \"layer\": \"below\", \"line\": {\"color\": \"rgb(175,175,175)\", \"width\": 0.5}, \"path\": \"M -0.36660224026446325,0.9303777713558492 Q -0.1160789539116419, 0.16286705148303915 -0.7598435349475963, 0.6501059932029093L -0.7598435349475963, 0.6501059932029093 L -0.7560053833594749, 0.6545653980554529 L -0.7521410606043596, 0.6590021433599053 M -0.7521410606043596,0.6590021433599053 Q -0.11620810816138263, 0.16277492312255104 -0.378993295988995, 0.9253994173303752L -0.378993295988995, 0.9253994173303752 L -0.37280607817264894, 0.9279092779348252 L -0.36660224026446325, 0.9303777713558492 \", \"type\": \"path\"}, {\"fillcolor\": \"#e1b396\", \"layer\": \"below\", \"line\": {\"color\": \"rgb(175,175,175)\", \"width\": 0.5}, \"path\": \"M -0.4651496802820306,0.8852320458125794 Q -0.15134516459098163, 0.1307464766444155 -0.9434131522108284, 0.33161969820206433L -0.9434131522108284, 0.33161969820206433 L -0.9354761895345939, 0.35338972652559747 L -0.9270369420865472, 0.3749700094765231 M -0.9270369420865472,0.3749700094765231 Q -0.15141057775882846, 0.130670719530956 -0.5065244641478004, 0.8622255895180702L -0.5065244641478004, 0.8622255895180702 L -0.4859732348557572, 0.8739736923980213 L -0.4651496802820306, 0.8852320458125794 \", \"type\": \"path\"}, {\"fillcolor\": \"#e1b396\", \"layer\": \"below\", \"line\": {\"color\": \"rgb(175,175,175)\", \"width\": 0.5}, \"path\": \"M -0.28359674334442087,0.9589436308586854 Q -0.14058243548029875, 0.14225532972239616 -0.9555218896140154, 0.29492018999800845L -0.9555218896140154, 0.29492018999800845 L -0.9552754578035718, 0.29571743221896185 L -0.9550283608120953, 0.2965144685248298 M -0.9550283608120953,0.2965144685248298 Q -0.14063641478451863, 0.1422019649532201 -0.2859241915930723, 0.9582522406244861L -0.2859241915930723, 0.9582522406244861 L -0.2847606773031225, 0.9585986421135109 L -0.28359674334442087, 0.9589436308586854 \", \"type\": \"path\"}, {\"fillcolor\": \"#e1b396\", \"layer\": \"below\", \"line\": {\"color\": \"rgb(175,175,175)\", \"width\": 0.5}, \"path\": \"M -0.33324586014229235,0.9428399634604081 Q -0.15490270827319064, 0.12651146576350622 -0.9904036065074718, 0.13820526841257852L -0.9904036065074718, 0.13820526841257852 L -0.9897419927886321, 0.14286632812103553 L -0.9890584432098448, 0.14752422145301491 M -0.9890584432098448,0.14752422145301491 Q -0.15499819878072327, 0.12639445547464256 -0.3435271073442049, 0.9391427615222955L -0.3435271073442049, 0.9391427615222955 L -0.3383915331471263, 0.9410054039665964 L -0.33324586014229235, 0.9428399634604081 \", \"type\": \"path\"}, {\"fillcolor\": \"#e1b396\", \"layer\": \"below\", \"line\": {\"color\": \"rgb(175,175,175)\", \"width\": 0.5}, \"path\": \"M -0.2959901474360482,0.9551909927447947 Q -0.15902228481748207, 0.12129267468164602 -0.9994586561235147, 0.032899767473006616L -0.9994586561235147, 0.032899767473006616 L -0.9993311081782275, 0.03656960797268483 L -0.9991900852545046, 0.0402389553678502 M -0.9991900852545046,0.0402389553678502 Q -0.1590677048508454, 0.12123310304320492 -0.30371095318760405, 0.952764218951298L -0.30371095318760405, 0.952764218951298 L -0.2998530053710755, 0.953985416644266 L -0.2959901474360482, 0.9551909927447947 \", \"type\": \"path\"}, {\"fillcolor\": \"#e1b396\", \"layer\": \"below\", \"line\": {\"color\": \"rgb(175,175,175)\", \"width\": 0.5}, \"path\": \"M -0.28979951960682465,0.957087372414689 Q -0.16900209401157204, 0.10694995193876328 -0.9890154469493873, -0.14781219738405835L -0.9890154469493873, -0.14781219738405835 L -0.9894520942658221, -0.1448604609718558 L -0.989879932085847, -0.14190743480776094 M -0.989879932085847,-0.14190743480776094 Q -0.16902919337049255, 0.1069071175765236 -0.2959901474360482, 0.9551909927447947L -0.2959901474360482, 0.9551909927447947 L -0.29289636830714216, 0.9561441928038297 L -0.28979951960682465, 0.957087372414689 \", \"type\": \"path\"}, {\"fillcolor\": \"#e1b396\", \"layer\": \"below\", \"line\": {\"color\": \"rgb(175,175,175)\", \"width\": 0.5}, \"path\": \"M -0.354524217834395,0.9350468325003355 Q -0.18295564236120007, 0.08079129240333183 -0.9298778883367324, -0.3678683362052508L -0.9298778883367324, -0.3678683362052508 L -0.9320222006453448, -0.3624011830888643 L -0.9341343695228462, -0.3569215315390128 M -0.9341343695228462,-0.3569215315390128 Q -0.18300424102393315, 0.08068114877252422 -0.36660224026446325, 0.9303777713558492L -0.36660224026446325, 0.9303777713558492 L -0.3605707866363328, 0.9327318520477663 L -0.354524217834395, 0.9350468325003355 \", \"type\": \"path\"}, {\"fillcolor\": \"#e1b396\", \"layer\": \"below\", \"line\": {\"color\": \"rgb(175,175,175)\", \"width\": 0.5}, \"path\": \"M -0.30371095318760405,0.952764218951298 Q -0.188617840366066, 0.0665079716698777 -0.8341423877655912, -0.5515491609391842L -0.8341423877655912, -0.5515491609391842 L -0.8369409760707991, -0.5472931596262263 L -0.8397178494036627, -0.5430229584399611 M -0.8397178494036627,-0.5430229584399611 Q -0.18861548445831788, 0.06651465269062187 -0.31333392658031783, 0.94964301211232L -0.31333392658031783, 0.94964301211232 L -0.3085263868698838, 0.9512157844595593 L -0.30371095318760405, 0.952764218951298 \", \"type\": \"path\"}, {\"fillcolor\": \"#e1b396\", \"layer\": \"below\", \"line\": {\"color\": \"rgb(175,175,175)\", \"width\": 0.5}, \"path\": \"M -0.378993295988995,0.9253994173303752 Q -0.19962876726597378, 0.012180118220595625 -0.48868753919669117, -0.8724588752679878L -0.48868753919669117, -0.8724588752679878 L -0.4962542555426146, -0.8681772364303532 L -0.5037834612067765, -0.8638299741352579 M -0.5037834612067765,-0.8638299741352579 Q -0.19962637311466422, 0.012219294459373427 -0.39466569739029145, 0.9188247859648949L -0.39466569739029145, 0.9188247859648949 L -0.3868434644059025, 0.9221453974544574 L -0.378993295988995, 0.9253994173303752 \", \"type\": \"path\"}, {\"fillcolor\": \"#e1b396\", \"layer\": \"below\", \"line\": {\"color\": \"rgb(175,175,175)\", \"width\": 0.5}, \"path\": \"M -0.2859241915930723,0.9582522406244861 Q -0.19859629707200963, -0.023653980411045092 -0.052851360999756125, -0.9986023901636093L -0.052851360999756125, -0.9986023901636093 L -0.05416823528451572, -0.9985318233717748 L -0.0554850153632631, -0.9984595199957474 M -0.0554850153632631,-0.9984595199957474 Q -0.19857958249794025, -0.023793894488791663 -0.28979951960682465, 0.957087372414689L -0.28979951960682465, 0.957087372414689 L -0.2878624448220575, 0.9576717667661858 L -0.2859241915930723, 0.9582522406244861 \", \"type\": \"path\"}, {\"fillcolor\": \"#e1b396\", \"layer\": \"below\", \"line\": {\"color\": \"rgb(175,175,175)\", \"width\": 0.5}, \"path\": \"M -0.4377093326898257,0.8991165330902483 Q -0.18894996569035186, -0.065558450756671 0.21323227233099715, -0.977001534306144L 0.21323227233099715, -0.977001534306144 L 0.19766173937914203, -0.9802702876174572 L 0.18204117305349465, -0.9832909087921579 M 0.18204117305349465,-0.9832909087921579 Q -0.1889848792562513, -0.06545773760603192 -0.4651496802820306, 0.8852320458125794L -0.4651496802820306, 0.8852320458125794 L -0.45148288347718074, 0.8922797800730051 L -0.4377093326898257, 0.8991165330902483 \", \"type\": \"path\"}, {\"fillcolor\": \"#e1b396\", \"layer\": \"below\", \"line\": {\"color\": \"rgb(175,175,175)\", \"width\": 0.5}, \"path\": \"M -0.39466569739029145,0.9188247859648949 Q -0.16383866916414314, -0.11470348942609576 0.7283305730995804, -0.6852259308348136L 0.7283305730995804, -0.6852259308348136 L 0.7208840711475176, -0.6930556658492741 L 0.7133534022735654, -0.7008044830512493 M 0.7133534022735654,-0.7008044830512493 Q -0.16384805679467648, -0.1146900792771915 -0.41427952026135817, 0.910149701473345L -0.41427952026135817, 0.910149701473345 L -0.4044958659406824, 0.9145398265996388 L -0.39466569739029145, 0.9188247859648949 \", \"type\": \"path\"}, {\"fillcolor\": \"#e1b396\", \"layer\": \"below\", \"line\": {\"color\": \"rgb(175,175,175)\", \"width\": 0.5}, \"path\": \"M -0.3435271073442049,0.9391427615222955 Q -0.14530401782701366, -0.1374290449771332 0.9185650253333475, -0.3952699004912297L 0.9185650253333475, -0.3952699004912297 L 0.9164317157983822, -0.40019109220325394 L 0.9142720413134321, -0.4051007707627449 M 0.9142720413134321,-0.4051007707627449 Q -0.14523474874909578, -0.13750224636633043 -0.354524217834395, 0.9350468325003355L -0.354524217834395, 0.9350468325003355 L -0.3490316709190416, 0.9371109287034602 L -0.3435271073442049, 0.9391427615222955 \", \"type\": \"path\"}, {\"fillcolor\": \"#e1b396\", \"layer\": \"below\", \"line\": {\"color\": \"rgb(175,175,175)\", \"width\": 0.5}, \"path\": \"M -0.3233077875914901,0.946293862646639 Q -0.13243792943265253, -0.14986725742333362 0.9788772066918927, -0.20444905042351616L 0.9788772066918927, -0.20444905042351616 L 0.9779361178387971, -0.2089041632576585 L 0.9769747527725481, -0.21335494474002373 M 0.9769747527725481,-0.21335494474002373 Q -0.132331914251838, -0.1499608764659776 -0.33324586014229235, 0.9428399634604081L -0.33324586014229235, 0.9428399634604081 L -0.32828136627446763, 0.9445799831443438 L -0.3233077875914901, 0.946293862646639 \", \"type\": \"path\"}, {\"fillcolor\": \"#e1b396\", \"layer\": \"below\", \"line\": {\"color\": \"rgb(175,175,175)\", \"width\": 0.5}, \"path\": \"M -0.28165592547530316,0.9595154712898852 Q -0.12721395290467105, -0.1543263107391871 0.9956310004480282, -0.09337510881845607L 0.9956310004480282, -0.09337510881845607 L 0.9955613697636861, -0.0941146058497455 L 0.995491189823864, -0.09485405095760299 M 0.995491189823864,-0.09485405095760299 Q -0.12717245209280417, -0.15436051123491212 -0.28359674334442087, 0.9589436308586854L -0.28359674334442087, 0.9589436308586854 L -0.28262647903606775, 0.9592300419334641 L -0.28165592547530316, 0.9595154712898852 \", \"type\": \"path\"}, {\"fillcolor\": \"#dba284\", \"layer\": \"below\", \"line\": {\"color\": \"rgb(175,175,175)\", \"width\": 0.5}, \"path\": \"M -0.6712456446229746,0.7412349725793348 Q -0.14426596630754587, 0.13851834162070395 -0.7678978291354367, 0.6405723409647686L -0.7678978291354367, 0.6405723409647686 L -0.7638855552462168, 0.6453517323802417 L -0.7598435349475963, 0.6501059932029093 M -0.7598435349475963,0.6501059932029093 Q -0.14410705889791778, 0.13868365287874437 -0.6787620375060328, 0.734358288875845L -0.6787620375060328, 0.734358288875845 L -0.6750125981391186, 0.7378062024363016 L -0.6712456446229746, 0.7412349725793348 \", \"type\": \"path\"}, {\"fillcolor\": \"#dba284\", \"layer\": \"below\", \"line\": {\"color\": \"rgb(175,175,175)\", \"width\": 0.5}, \"path\": \"M -0.6487247667835314,0.7610231119760115 Q -0.15034949021504296, 0.13189022250370458 -0.8390356518499733, 0.5440764421702987L -0.8390356518499733, 0.5440764421702987 L -0.8364400334759091, 0.5480584552753657 L -0.8338255168575146, 0.5520280857323281 M -0.8338255168575146,0.5520280857323281 Q -0.15018313441165673, 0.13207962045028085 -0.6540252020487661, 0.7564727589841359L -0.6540252020487661, 0.7564727589841359 L -0.6513789578664833, 0.7587525639157829 L -0.6487247667835314, 0.7610231119760115 \", \"type\": \"path\"}, {\"fillcolor\": \"#dba284\", \"layer\": \"below\", \"line\": {\"color\": \"rgb(175,175,175)\", \"width\": 0.5}, \"path\": \"M -0.6651823336922952,0.7466809646319317 Q -0.1768443169706343, 0.09341352982940869 -0.9917058494950922, 0.1285282384428321L -0.9917058494950922, 0.1285282384428321 L -0.9910665391995404, 0.13336834286683624 L -0.9904036065074718, 0.13820526841257852 M -0.9904036065074718,0.13820526841257852 Q -0.17676886201731967, 0.09355623667667379 -0.6712456446229746, 0.7412349725793348L -0.6712456446229746, 0.7412349725793348 L -0.6682195372879478, 0.7439641456324901 L -0.6651823336922952, 0.7466809646319317 \", \"type\": \"path\"}, {\"fillcolor\": \"#dba284\", \"layer\": \"below\", \"line\": {\"color\": \"rgb(175,175,175)\", \"width\": 0.5}, \"path\": \"M -0.6321836060109189,0.7748186163812995 Q -0.17773262808756202, 0.09171211977208009 -0.9978015395123204, 0.06627282811864418L -0.9978015395123204, 0.06627282811864418 L -0.9977648844982021, 0.0668224158669031 L -0.9977279267719131, 0.06737198334189035 M -0.9977279267719131,0.06737198334189035 Q -0.17772215338775627, 0.09173241627265054 -0.6328599498103527, 0.7742662874786929L -0.6328599498103527, 0.7742662874786929 L -0.6325218381985209, 0.7745425257543734 L -0.6321836060109189, 0.7748186163812995 \", \"type\": \"path\"}, {\"fillcolor\": \"#dba284\", \"layer\": \"below\", \"line\": {\"color\": \"rgb(175,175,175)\", \"width\": 0.5}, \"path\": \"M -0.6328599498103527,0.7742662874786929 Q -0.18580383172915313, 0.07400632482946683 -0.991886848164384, -0.12712387831766406L -0.991886848164384, -0.12712387831766406 L -0.9920049543577103, -0.12619893236377674 L -0.992122198028431, -0.12527387668318793 M -0.992122198028431,-0.12527387668318793 Q -0.18578867318721587, 0.0740443712603051 -0.6339861168640767, 0.7733444275506285L -0.6339861168640767, 0.7733444275506285 L -0.6334232010422022, 0.7738055623872511 L -0.6328599498103527, 0.7742662874786929 \", \"type\": \"path\"}, {\"fillcolor\": \"#dba284\", \"layer\": \"below\", \"line\": {\"color\": \"rgb(175,175,175)\", \"width\": 0.5}, \"path\": \"M -0.6351109410857796,0.7724209296187768 Q -0.19683485113062926, 0.03544067409605827 -0.8646435279871946, -0.5023858771003196L -0.8646435279871946, -0.5023858771003196 L -0.8652570415017038, -0.5013284872533367 L -0.8658692619136866, -0.5002703481849065 M -0.8658692619136866,-0.5002703481849065 Q -0.19682246079759735, 0.035509420237146275 -0.6364589542592449, 0.7713105726899044L -0.6364589542592449, 0.7713105726899044 L -0.6357851900682076, 0.7718660454314163 L -0.6351109410857796, 0.7724209296187768 \", \"type\": \"path\"}, {\"fillcolor\": \"#dba284\", \"layer\": \"below\", \"line\": {\"color\": \"rgb(175,175,175)\", \"width\": 0.5}, \"path\": \"M -0.6339861168640767,0.7733444275506285 Q -0.19986058741588297, -0.007466297461138237 -0.5745190732998395, -0.8184911938528683L -0.5745190732998395, -0.8184911938528683 L -0.5753659176320882, -0.8178961186039369 L -0.5762121455979159, -0.8173001671757116 M -0.5762121455979159,-0.8173001671757116 Q -0.19986287263837643, -0.0074048727697463195 -0.6351109410857796, 0.7724209296187768L -0.6351109410857796, 0.7724209296187768 L -0.6345486969779014, 0.772882883213005 L -0.6339861168640767, 0.7733444275506285 \", \"type\": \"path\"}, {\"fillcolor\": \"#dba284\", \"layer\": \"below\", \"line\": {\"color\": \"rgb(175,175,175)\", \"width\": 0.5}, \"path\": \"M -0.638925267001568,0.7692688107462664 Q -0.18751670516794353, -0.0695520329175111 0.017260967085086502, -0.9998510184098867L 0.017260967085086502, -0.9998510184098867 L 0.014749166969917628, -0.9998912251208596 L 0.012237273776348933, -0.9999251217618861 M 0.012237273776348933,-0.9999251217618861 Q -0.18756990536803156, -0.06940843320683507 -0.6416083189459789, 0.7670324406824752L -0.6416083189459789, 0.7670324406824752 L -0.6402677693923742, 0.7681517971581616 L -0.638925267001568, 0.7692688107462664 \", \"type\": \"path\"}, {\"fillcolor\": \"#dba284\", \"layer\": \"below\", \"line\": {\"color\": \"rgb(175,175,175)\", \"width\": 0.5}, \"path\": \"M -0.6416083189459789,0.7670324406824752 Q -0.15375766338603644, -0.12790066829405666 0.6373935587462904, -0.7705384164782046L 0.6373935587462904, -0.7705384164782046 L 0.6355065296722923, -0.7720954932803843 L 0.6336156968585499, -0.7736479488077599 M 0.6336156968585499,-0.7736479488077599 Q -0.15384716476983593, -0.1277929962567705 -0.6442835431926766, 0.7647867127317854L -0.6442835431926766, 0.7647867127317854 L -0.6429469115736632, 0.7659107447332804 L -0.6416083189459789, 0.7670324406824752 \", \"type\": \"path\"}, {\"fillcolor\": \"#dba284\", \"layer\": \"below\", \"line\": {\"color\": \"rgb(175,175,175)\", \"width\": 0.5}, \"path\": \"M -0.6442835431926766,0.7647867127317854 Q -0.10406598562340547, -0.170793063782547 0.9750690580604598, -0.22190162688247134L 0.9750690580604598, -0.22190162688247134 L 0.974285837373991, -0.22531557223694304 L 0.9734906637031073, -0.22872675331688572 M 0.9734906637031073,-0.22872675331688572 Q -0.10416706214774825, -0.17073143578002017 -0.6487247667835314, 0.7610231119760115L -0.6487247667835314, 0.7610231119760115 L -0.6465068936906586, 0.7629081441500382 L -0.6442835431926766, 0.7647867127317854 \", \"type\": \"path\"}, {\"fillcolor\": \"#d59171\", \"layer\": \"below\", \"line\": {\"color\": \"rgb(175,175,175)\", \"width\": 0.5}, \"path\": \"M -0.7381111183711071,0.6746791659277419 Q -0.16024333989952688, 0.11967485958982656 -0.8564665533958724, 0.516202521220301L -0.8564665533958724, 0.516202521220301 L -0.8534876074542516, 0.5211131392720945 L -0.850480506417142, 0.5260065666932702 M -0.850480506417142,0.5260065666932702 Q -0.16017473555352257, 0.1197666651884368 -0.7450484059330424, 0.6670103993316989L -0.7450484059330424, 0.6670103993316989 L -0.7415896750419358, 0.6708537499866838 L -0.7381111183711071, 0.6746791659277419 \", \"type\": \"path\"}, {\"fillcolor\": \"#d59171\", \"layer\": \"below\", \"line\": {\"color\": \"rgb(175,175,175)\", \"width\": 0.5}, \"path\": \"M -0.7678978291354367,0.6405723409647686 Q -0.18382716079854114, 0.0787881650550849 -0.9934420848768006, 0.11433645086163731L -0.9934420848768006, 0.11433645086163731 L -0.9925993310716745, 0.12143544769162046 L -0.9917058494950922, 0.1285282384428321 M -0.9917058494950922,0.1285282384428321 Q -0.18383985729567734, 0.07875853521685755 -0.7771806456856462, 0.6292775571809646L -0.7771806456856462, 0.6292775571809646 L -0.7725598788275518, 0.6349419135841943 L -0.7678978291354367, 0.6405723409647686 \", \"type\": \"path\"}, {\"fillcolor\": \"#d59171\", \"layer\": \"below\", \"line\": {\"color\": \"rgb(175,175,175)\", \"width\": 0.5}, \"path\": \"M -0.7020019442221809,0.7121750278606223 Q -0.18188427320087597, 0.08317518357171882 -0.9978739413596532, 0.0651735924692758L -0.9978739413596532, 0.0651735924692758 L -0.9978378918031471, 0.06572322026385319 L -0.9978015395123204, 0.06627282811864418 M -0.9978015395123204,0.06627282811864418 Q -0.18188294837011237, 0.08317808059936849 -0.7027633999496441, 0.7114236457211811L -0.7027633999496441, 0.7114236457211811 L -0.7023827725608925, 0.7117994386129238 L -0.7020019442221809, 0.7121750278606223 \", \"type\": \"path\"}, {\"fillcolor\": \"#d59171\", \"layer\": \"below\", \"line\": {\"color\": \"rgb(175,175,175)\", \"width\": 0.5}, \"path\": \"M -0.7065585976606253,0.7076545400630526 Q -0.1903208768880757, 0.06146514313457621 -0.9870016333196894, -0.1607102231479548L -0.9870016333196894, -0.1607102231479548 L -0.9875355501052099, -0.15739611583009475 L -0.9880583389703709, -0.15408023491386486 M -0.9880583389703709,-0.15408023491386486 Q -0.19031180523579552, 0.06149322554471051 -0.7110861423682758, 0.703104898384163L -0.7110861423682758, 0.703104898384163 L -0.7088260202918303, 0.7053833517721025 L -0.7065585976606253, 0.7076545400630526 \", \"type\": \"path\"}, {\"fillcolor\": \"#d59171\", \"layer\": \"below\", \"line\": {\"color\": \"rgb(175,175,175)\", \"width\": 0.5}, \"path\": \"M -0.7017479470779753,0.7124253075037742 Q -0.19470180266961934, 0.045729728155769866 -0.9455325534760096, -0.32552755692435176L -0.9455325534760096, -0.32552755692435176 L -0.9455922784023958, -0.3253540272161481 L -0.9456519714815872, -0.32518048655014237 M -0.9456519714815872,-0.32518048655014237 Q -0.19470156366121927, 0.04573074576120737 -0.7020019442221809, 0.7121750278606223L -0.7020019442221809, 0.7121750278606223 L -0.7018749568058936, 0.7123001790037153 L -0.7017479470779753, 0.7124253075037742 \", \"type\": \"path\"}, {\"fillcolor\": \"#d59171\", \"layer\": \"below\", \"line\": {\"color\": \"rgb(175,175,175)\", \"width\": 0.5}, \"path\": \"M -0.7040307052091367,0.7101695333670163 Q -0.19840457935249348, 0.025211562663986525 -0.8592723813425142, -0.5115183033499044L -0.8592723813425142, -0.5115183033499044 L -0.860312803775876, -0.5097664952302092 L -0.8613496547836382, -0.5080125709114954 M -0.8613496547836382,-0.5080125709114954 Q -0.19839815555564091, 0.025262063892716864 -0.7065585976606253, 0.7076545400630526L -0.7065585976606253, 0.7076545400630526 L -0.705295772453288, 0.7089131634830318 L -0.7040307052091367, 0.7101695333670163 \", \"type\": \"path\"}, {\"fillcolor\": \"#d59171\", \"layer\": \"below\", \"line\": {\"color\": \"rgb(175,175,175)\", \"width\": 0.5}, \"path\": \"M -0.7110861423682758,0.703104898384163 Q -0.19874521049567517, -0.0223683102855307 -0.5370108892160622, -0.8435753107241666L -0.5370108892160622, -0.8435753107241666 L -0.5415432859822574, -0.8406728670580126 L -0.546059995972568, -0.8377460717893215 M -0.546059995972568,-0.8377460717893215 Q -0.19876185203677837, -0.022219949930407715 -0.7175741618694667, 0.696482104735888L -0.7175741618694667, 0.696482104735888 L -0.7143378273443853, 0.6998010205943567 L -0.7110861423682758, 0.703104898384163 \", \"type\": \"path\"}, {\"fillcolor\": \"#d59171\", \"layer\": \"below\", \"line\": {\"color\": \"rgb(175,175,175)\", \"width\": 0.5}, \"path\": \"M -0.7450484059330424,0.6670103993316989 Q -0.1795695131378423, -0.08806128520205846 0.07121213331466922, -0.997461193264567L 0.07121213331466922, -0.997461193264567 L 0.06494640821975617, -0.9978887533484646 L 0.058678121500908106, -0.9982769545858127 M 0.058678121500908106,-0.9982769545858127 Q -0.17965146412979133, -0.08789397838317653 -0.7521410606043596, 0.6590021433599053L -0.7521410606043596, 0.6590021433599053 L -0.7486054419509419, 0.6630157556811413 L -0.7450484059330424, 0.6670103993316989 \", \"type\": \"path\"}, {\"fillcolor\": \"#d59171\", \"layer\": \"below\", \"line\": {\"color\": \"rgb(175,175,175)\", \"width\": 0.5}, \"path\": \"M -0.7310949002030361,0.6822757850730983 Q -0.1430996711718275, -0.1397228832744116 0.6646258189019397, -0.747176365290636L 0.6646258189019397, -0.747176365290636 L 0.6601966385904798, -0.7510928027839379 L 0.6557443803655231, -0.7549829849864407 M 0.6557443803655231,-0.7549829849864407 Q -0.1432032871580205, -0.1396166843437328 -0.7381111183711071, 0.6746791659277419L -0.7381111183711071, 0.6746791659277419 L -0.7346128289168596, 0.6784865448855774 L -0.7310949002030361, 0.6822757850730983 \", \"type\": \"path\"}, {\"fillcolor\": \"#d59171\", \"layer\": \"below\", \"line\": {\"color\": \"rgb(175,175,175)\", \"width\": 0.5}, \"path\": \"M -0.701493860703396,0.7126754965588787 Q -0.11653687792728284, -0.16253970617348112 0.9001202558730612, -0.4356415096923328L 0.9001202558730612, -0.4356415096923328 L 0.900039666426995, -0.4358079839309781 L 0.8999590461920743, -0.4359744432613588 M 0.8999590461920743,-0.4359744432613588 Q -0.11653796065529201, -0.16253892987929264 -0.7017479470779753, 0.7124253075037742L -0.7017479470779753, 0.7124253075037742 L -0.7016209150424634, 0.7125504133568209 L -0.701493860703396, 0.7126754965588787 \", \"type\": \"path\"}, {\"fillcolor\": \"#d59171\", \"layer\": \"below\", \"line\": {\"color\": \"rgb(175,175,175)\", \"width\": 0.5}, \"path\": \"M -0.7175741618694667,0.696482104735888 Q -0.09296970027270095, -0.17707804728764137 0.9807669037125883, -0.19518268514912473L 0.9807669037125883, -0.19518268514912473 L 0.9798330093654184, -0.19981810167727 L 0.9788772066918927, -0.20444905042351616 M 0.9788772066918927,-0.20444905042351616 Q -0.0929545833441889, -0.17708598317006416 -0.7242464293505595, 0.6895412312349168L -0.7242464293505595, 0.6895412312349168 L -0.720918648841709, 0.6930196979539938 L -0.7175741618694667, 0.696482104735888 \", \"type\": \"path\"}, {\"fillcolor\": \"#d0805f\", \"layer\": \"below\", \"line\": {\"color\": \"rgb(175,175,175)\", \"width\": 0.5}, \"path\": \"M -0.8213763096452631,0.570386674067276 Q -0.18056072598195147, 0.08601060535114635 -0.9604656006378762, 0.278398688918112L -0.9604656006378762, 0.278398688918112 L -0.9598046976719662, 0.2806687412713173 L -0.9591384294645825, 0.28293722470578875 M -0.9591384294645825,0.28293722470578875 Q -0.1806468699090032, 0.08582953100232857 -0.8251985386737758, 0.564842785003637L -0.8251985386737758, 0.564842785003637 L -0.8232920906067932, 0.5676179468130793 L -0.8213763096452631, 0.570386674067276 \", \"type\": \"path\"}, {\"fillcolor\": \"#d0805f\", \"layer\": \"below\", \"line\": {\"color\": \"rgb(175,175,175)\", \"width\": 0.5}, \"path\": \"M -0.8390356518499733,0.5440764421702987 Q -0.1870609976491194, 0.07076851813141312 -0.9890584432098448, 0.14752422145301491L -0.9890584432098448, 0.14752422145301491 L -0.9883794921733171, 0.15200651121322314 L -0.9876802280642534, 0.15648567695142093 M -0.9876802280642534,0.15648567695142093 Q -0.1871045532213254, 0.07065328133815311 -0.8445943813573806, 0.5354066968011733L -0.8445943813573806, 0.5354066968011733 L -0.8418261776047596, 0.5397487255189767 L -0.8390356518499733, 0.5440764421702987 \", \"type\": \"path\"}, {\"fillcolor\": \"#d0805f\", \"layer\": \"below\", \"line\": {\"color\": \"rgb(175,175,175)\", \"width\": 0.5}, \"path\": \"M -0.818200618243244,0.5749328206898379 Q -0.1892166080567631, 0.06478483800622868 -0.9988850250906501, 0.04720917971805156L -0.9988850250906501, 0.04720917971805156 L -0.998760376920748, 0.04977659583705261 L -0.998629129778543, 0.052343683073987034 M -0.998629129778543,0.052343683073987034 Q -0.1892297106706427, 0.06474655666137666 -0.8213763096452631, 0.570386674067276L -0.8213763096452631, 0.570386674067276 L -0.8197916152769297, 0.5726619487286043 L -0.818200618243244, 0.5749328206898379 \", \"type\": \"path\"}, {\"fillcolor\": \"#d0805f\", \"layer\": \"below\", \"line\": {\"color\": \"rgb(175,175,175)\", \"width\": 0.5}, \"path\": \"M -0.8149997651553538,0.5794612867109573 Q -0.19424615336285575, 0.04762805794627707 -0.9906074390070018, -0.13673661464285775L -0.9906074390070018, -0.13673661464285775 L -0.9909610647246653, -0.13414979761355503 L -0.9913079353843081, -0.13156206612888302 M -0.9913079353843081,-0.13156206612888302 Q -0.19425386047006307, 0.04759661429636854 -0.818200618243244, 0.5749328206898379L -0.818200618243244, 0.5749328206898379 L -0.8166033307760002, 0.5771992724922151 L -0.8149997651553538, 0.5794612867109573 \", \"type\": \"path\"}, {\"fillcolor\": \"#d0805f\", \"layer\": \"below\", \"line\": {\"color\": \"rgb(175,175,175)\", \"width\": 0.5}, \"path\": \"M -0.812928832733106,0.5823630421920589 Q -0.19807169389495627, 0.02770566869040968 -0.9415203958687353, -0.3369559973693599L -0.9415203958687353, -0.3369559973693599 L -0.9420756551392041, -0.3354004472180074 L -0.9426283443810008, -0.3338439820777564 M -0.9426283443810008,-0.3338439820777564 Q -0.19807531611560195, 0.027679760578884372 -0.8149997651553538, 0.5794612867109573L -0.8149997651553538, 0.5794612867109573 L -0.8139655920258482, 0.5809130873013713 L -0.812928832733106, 0.5823630421920589 \", \"type\": \"path\"}, {\"fillcolor\": \"#d0805f\", \"layer\": \"below\", \"line\": {\"color\": \"rgb(175,175,175)\", \"width\": 0.5}, \"path\": \"M -0.8564665533958724,0.516202521220301 Q -0.19991794052588452, -0.005728617275478571 -0.8255020840643174, -0.5643990691040062L -0.8255020840643174, -0.5643990691040062 L -0.8298471083602421, -0.5579908393030701 L -0.8341423877655912, -0.5515491609391842 M -0.8341423877655912,-0.5515491609391842 Q -0.19991917540168733, -0.00568535897805812 -0.8641391531866899, 0.5032529422962081L -0.8641391531866899, 0.5032529422962081 L -0.8603272181441763, 0.5097421678851993 L -0.8564665533958724, 0.516202521220301 \", \"type\": \"path\"}, {\"fillcolor\": \"#d0805f\", \"layer\": \"below\", \"line\": {\"color\": \"rgb(175,175,175)\", \"width\": 0.5}, \"path\": \"M -0.8718100723152036,0.48984405458243496 Q -0.19140516539660582, -0.05800054016557063 -0.45326617590301216, -0.8913752149248148L -0.45326617590301216, -0.8913752149248148 L -0.462834650888039, -0.8864446321893698 L -0.47234949890694744, -0.8814113403413616 M -0.47234949890694744,-0.8814113403413616 Q -0.19143213779439783, -0.05791145499352173 -0.881714022109833, 0.4717842549459456L -0.881714022109833, 0.4717842549459456 L -0.8768085461051424, 0.4808396546427784 L -0.8718100723152036, 0.48984405458243496 \", \"type\": \"path\"}, {\"fillcolor\": \"#d0805f\", \"layer\": \"below\", \"line\": {\"color\": \"rgb(175,175,175)\", \"width\": 0.5}, \"path\": \"M -0.8115424697834299,0.5842934363295644 Q -0.18080691559233975, -0.08549186671248057 -0.06338358927800689, -0.9979892387246653L -0.06338358927800689, -0.9979892387246653 L -0.06417323656719456, -0.9979387735269588 L -0.06496284367818857, -0.9978876835301873 M -0.06496284367818857,-0.9978876835301873 Q -0.18077295571124347, -0.08556365164847052 -0.812928832733106, 0.5823630421920589L -0.812928832733106, 0.5823630421920589 L -0.8122362247402687, 0.5833286511218833 L -0.8115424697834299, 0.5842934363295644 \", \"type\": \"path\"}, {\"fillcolor\": \"#d0805f\", \"layer\": \"below\", \"line\": {\"color\": \"rgb(175,175,175)\", \"width\": 0.5}, \"path\": \"M -0.881714022109833,0.4717842549459456 Q -0.16145543743813903, -0.11803449377897623 0.18204117305349465, -0.9832909087921579L 0.18204117305349465, -0.9832909087921579 L 0.16802570002112457, -0.98578261504878 L 0.15397617791067109, -0.9880745602615327 M 0.15397617791067109,-0.9880745602615327 Q -0.1615460077693666, -0.11791050578205385 -0.8941002974309445, 0.44786678614728337L -0.8941002974309445, 0.44786678614728337 L -0.8879876889349044, 0.4598672246421215 L -0.881714022109833, 0.4717842549459456 \", \"type\": \"path\"}, {\"fillcolor\": \"#d0805f\", \"layer\": \"below\", \"line\": {\"color\": \"rgb(175,175,175)\", \"width\": 0.5}, \"path\": \"M -0.8641391531866899,0.5032529422962081 Q -0.12433858241667978, -0.15665221646248909 0.6862718880369496, -0.7273451008222992L 0.6862718880369496, -0.7273451008222992 L 0.6804670403712483, -0.7327786889425715 L 0.6746191734865188, -0.7381659506942638 M 0.6746191734865188,-0.7381659506942638 Q -0.12437414617357341, -0.15662398208318737 -0.8718100723152036, 0.48984405458243496L -0.8718100723152036, 0.48984405458243496 L -0.8680005057300288, 0.4965633112226619 L -0.8641391531866899, 0.5032529422962081 \", \"type\": \"path\"}, {\"fillcolor\": \"#d0805f\", \"layer\": \"below\", \"line\": {\"color\": \"rgb(175,175,175)\", \"width\": 0.5}, \"path\": \"M -0.8292048167910105,0.558944873677706 Q -0.09752282520250985, -0.17461185115713285 0.910792425436484, -0.4128645755783932L 0.910792425436484, -0.4128645755783932 L 0.9091819711997499, -0.4163990192655804 L 0.9075578011756056, -0.4199271812175297 M 0.9075578011756056,-0.4199271812175297 Q -0.09747479113608469, -0.1746386700962209 -0.8338255168575146, 0.5520280857323281L -0.8338255168575146, 0.5520280857323281 L -0.8315223587779536, 0.555491284227168 L -0.8292048167910105, 0.558944873677706 \", \"type\": \"path\"}, {\"fillcolor\": \"#d0805f\", \"layer\": \"below\", \"line\": {\"color\": \"rgb(175,175,175)\", \"width\": 0.5}, \"path\": \"M -0.8251985386737758,0.564842785003637 Q -0.08073061169692464, -0.1829824263011079 0.9734906637031073, -0.22872675331688572L 0.9734906637031073, -0.22872675331688572 L 0.9727647956575748, -0.23179441824443675 L 0.9720292608080651, -0.2348597797259604 M 0.9720292608080651,-0.2348597797259604 Q -0.08065510830530792, -0.18301571928186677 -0.8292048167910105, 0.558944873677706L -0.8292048167910105, 0.558944873677706 L -0.8272069341965095, 0.5618973999025192 L -0.8251985386737758, 0.564842785003637 \", \"type\": \"path\"}, {\"fillcolor\": \"#d0805f\", \"layer\": \"below\", \"line\": {\"color\": \"rgb(175,175,175)\", \"width\": 0.5}, \"path\": \"M -0.8101515228979899,0.5862205301301446 Q -0.07027834945268384, -0.18724570381775507 0.9957958728988462, -0.09160010653719246L 0.9957958728988462, -0.09160010653719246 L 0.9957138321979371, -0.09248764441642181 L 0.9956310004480282, -0.09337510881845607 M 0.9956310004480282,-0.09337510881845607 Q -0.07022273450993519, -0.18726656818008697 -0.8115424697834299, 0.5842934363295644L -0.8115424697834299, 0.5842934363295644 L -0.8108475688422456, 0.5852573964527229 L -0.8101515228979899, 0.5862205301301446 \", \"type\": \"path\"}, {\"fillcolor\": \"#ca6f4c\", \"layer\": \"below\", \"line\": {\"color\": \"rgb(175,175,175)\", \"width\": 0.5}, \"path\": \"M -0.954532171974744,0.2981079211714738 Q -0.19331837202988303, 0.05126409109421275 -0.9768231157406343, 0.21404812672564885L -0.9768231157406343, 0.21404812672564885 L -0.9765986494851966, 0.21506993705232272 L -0.9763731143606593, 0.21609151198894144 M -0.9763731143606593,0.21609151198894144 Q -0.19330751434534216, 0.05130501824992696 -0.9550283608120953, 0.2965144685248298L -0.9550283608120953, 0.2965144685248298 L -0.9547805988116452, 0.29731129836061754 L -0.954532171974744, 0.2981079211714738 \", \"type\": \"path\"}, {\"fillcolor\": \"#ca6f4c\", \"layer\": \"below\", \"line\": {\"color\": \"rgb(175,175,175)\", \"width\": 0.5}, \"path\": \"M -0.9538664514151469,0.3002312323271432 Q -0.19660464300828698, 0.0366962443253262 -0.9979451322260477, 0.06407427772777473L -0.9979451322260477, 0.06407427772777473 L -0.997909688170902, 0.06462394490166373 L -0.9978739413596532, 0.0651735924692758 M -0.9978739413596532,0.0651735924692758 Q -0.19659973941922337, 0.03672250618208769 -0.9541166503022868, 0.29943516429428224L -0.9541166503022868, 0.29943516429428224 L -0.953991633894605, 0.29983322440834 L -0.9538664514151469, 0.3002312323271432 \", \"type\": \"path\"}, {\"fillcolor\": \"#ca6f4c\", \"layer\": \"below\", \"line\": {\"color\": \"rgb(175,175,175)\", \"width\": 0.5}, \"path\": \"M -0.957067166402557,0.28986624328158733 Q -0.19991579917084398, -0.005802864971958185 -0.9386423235159151, -0.3448921403926799L -0.9386423235159151, -0.3448921403926799 L -0.9393995824329886, -0.34282418894343897 L -0.9401522853895974, -0.3407545748434157 M -0.9401522853895974,-0.3407545748434157 Q -0.19991886552797633, -0.005696244904050271 -0.9580293605625659, 0.28667009662690845L -0.9580293605625659, 0.28667009662690845 L -0.95754959701147, 0.28826857141070966 L -0.957067166402557, 0.28986624328158733 \", \"type\": \"path\"}, {\"fillcolor\": \"#ca6f4c\", \"layer\": \"below\", \"line\": {\"color\": \"rgb(175,175,175)\", \"width\": 0.5}, \"path\": \"M -0.9555218896140154,0.29492018999800845 Q -0.19867615651167006, -0.022973568154520188 -0.8630011770928581, -0.5052019084844607L -0.8630011770928581, -0.5052019084844607 L -0.8638235000600382, -0.5037945620429277 L -0.8646435279871946, -0.5023858771003196 M -0.8646435279871946,-0.5023858771003196 Q -0.19868801570763794, -0.0228707764223567 -0.9561757878088584, 0.2927932082684109L -0.9561757878088584, 0.2927932082684109 L -0.9558494303387025, 0.2938568810172358 L -0.9555218896140154, 0.29492018999800845 \", \"type\": \"path\"}, {\"fillcolor\": \"#ca6f4c\", \"layer\": \"below\", \"line\": {\"color\": \"rgb(175,175,175)\", \"width\": 0.5}, \"path\": \"M -0.9561757878088584,0.2927932082684109 Q -0.18889851944498842, -0.06570653964021643 -0.5680630085040278, -0.8229850657025028L -0.5680630085040278, -0.8229850657025028 L -0.569935501792906, -0.8216894326910067 L -0.5718050400254702, -0.820389539305244 M -0.5718050400254702,-0.820389539305244 Q -0.18894756220590944, -0.06556537757417392 -0.957067166402557, 0.28986624328158733L -0.957067166402557, 0.28986624328158733 L -0.9566225965556712, 0.29133006669255 L -0.9561757878088584, 0.2927932082684109 \", \"type\": \"path\"}, {\"fillcolor\": \"#ca6f4c\", \"layer\": \"below\", \"line\": {\"color\": \"rgb(175,175,175)\", \"width\": 0.5}, \"path\": \"M -0.9580293605625659,0.28667009662690845 Q -0.16312192089537828, -0.1157205207532439 -0.046002184728725484, -0.9989413391186612L -0.046002184728725484, -0.9989413391186612 L -0.04784641994205066, -0.9988547041981276 L -0.04969049206084727, -0.9987646644724426 M -0.04969049206084727,-0.9987646644724426 Q -0.16311025490842715, -0.11573696360155608 -0.9591384294645825, 0.28293722470578875L -0.9591384294645825, 0.28293722470578875 L -0.9585857120584419, 0.28480420052627387 L -0.9580293605625659, 0.28667009662690845 \", \"type\": \"path\"}, {\"fillcolor\": \"#ca6f4c\", \"layer\": \"below\", \"line\": {\"color\": \"rgb(175,175,175)\", \"width\": 0.5}, \"path\": \"M -0.9645387279310337,0.263941361520288 Q -0.1508937481304801, -0.13126719611211035 0.1278629117673667, -0.9917918510425313L 0.1278629117673667, -0.9917918510425313 L 0.11685113060756658, -0.9931494415624134 L 0.10582496479591261, -0.994384773025987 M 0.10582496479591261,-0.994384773025987 Q -0.15138155839155598, -0.13070433726140818 -0.9683248350407864, 0.2496938402188445L -0.9683248350407864, 0.2496938402188445 L -0.966458036456751, 0.25682457781170687 L -0.9645387279310337, 0.263941361520288 \", \"type\": \"path\"}, {\"fillcolor\": \"#ca6f4c\", \"layer\": \"below\", \"line\": {\"color\": \"rgb(175,175,175)\", \"width\": 0.5}, \"path\": \"M -0.9534479773563612,0.3015575475345689 Q -0.11248025417054486, -0.16537288901669955 0.6307723403887812, -0.7759679468898568L 0.6307723403887812, -0.7759679468898568 L 0.6304558868293594, -0.7762250799621241 L 0.630139328450171, -0.7764820839789979 M 0.630139328450171,-0.7764820839789979 Q -0.112501685032671, -0.16535831054050382 -0.9536155883280988, 0.30102709130185284L -0.9536155883280988, 0.30102709130185284 L -0.9535318197292817, 0.3012923310736015 L -0.9534479773563612, 0.3015575475345689 \", \"type\": \"path\"}, {\"fillcolor\": \"#ca6f4c\", \"layer\": \"below\", \"line\": {\"color\": \"rgb(175,175,175)\", \"width\": 0.5}, \"path\": \"M -0.9541166503022868,0.29943516429428224 Q -0.0733961319161938, -0.18604571432779815 0.9015655978704014, -0.432642430578169L 0.9015655978704014, -0.432642430578169 L 0.9011651156332152, -0.4334759905297798 L 0.900763862712219, -0.43430917976916245 M 0.900763862712219,-0.43430917976916245 Q -0.07343880723644935, -0.18602887300547633 -0.954532171974744, 0.2981079211714738L -0.954532171974744, 0.2981079211714738 L -0.9543246418742685, 0.2987716149696104 L -0.9541166503022868, 0.29943516429428224 \", \"type\": \"path\"}, {\"fillcolor\": \"#ca6f4c\", \"layer\": \"below\", \"line\": {\"color\": \"rgb(175,175,175)\", \"width\": 0.5}, \"path\": \"M -0.9533640612158241,0.30182274066423553 Q -0.05511632126402066, -0.19225553601995773 0.9684691655660329, -0.2491334488739558L 0.9684691655660329, -0.2491334488739558 L 0.9684255195050946, -0.24930305487756801 L 0.9683818437414078, -0.24947265323476173 M 0.9683818437414078,-0.24947265323476173 Q -0.05512325303581927, -0.1922535486662055 -0.9534479773563612, 0.3015575475345689L -0.9534479773563612, 0.3015575475345689 L -0.953406028506639, 0.30169014701709723 L -0.9533640612158241, 0.30182274066423553 \", \"type\": \"path\"}, {\"fillcolor\": \"#c45e3a\", \"layer\": \"below\", \"line\": {\"color\": \"rgb(175,175,175)\", \"width\": 0.5}, \"path\": \"M -0.9759188384928315,0.21813395121989299 Q -0.19980661861932036, 0.008792903724792148 -0.9913079353843081, -0.13156206612888302L -0.9913079353843081, -0.13156206612888302 L -0.99145452577595, -0.13045276278556253 L -0.9915998748242396, -0.1293432961098187 M -0.9915998748242396,-0.1293432961098187 Q -0.19980597820905097, 0.00880744411984892 -0.9763731143606593, 0.21609151198894144L -0.9763731143606593, 0.21609151198894144 L -0.9761465106138665, 0.21711285041741019 L -0.9759188384928315, 0.21813395121989299 \", \"type\": \"path\"}, {\"fillcolor\": \"#c45e3a\", \"layer\": \"below\", \"line\": {\"color\": \"rgb(175,175,175)\", \"width\": 0.5}, \"path\": \"M -0.9805437860822563,0.1963004930596824 Q -0.1992999510299096, -0.016719136325648892 -0.9341343695228462, -0.3569215315390128L -0.9341343695228462, -0.3569215315390128 L -0.9354381198216501, -0.353490486413052 L -0.9367292680519853, -0.35005467912140803 M -0.9367292680519853,-0.35005467912140803 Q -0.19930300984553428, -0.016682633680293414 -0.9818890238991492, 0.18945697333794825L -0.9818890238991492, 0.18945697333794825 L -0.9812223712611857, 0.19287990599483346 L -0.9805437860822563, 0.1963004930596824 \", \"type\": \"path\"}, {\"fillcolor\": \"#c45e3a\", \"layer\": \"below\", \"line\": {\"color\": \"rgb(175,175,175)\", \"width\": 0.5}, \"path\": \"M -0.978147453346339,0.20791238422006414 Q -0.1971214270570929, -0.03381039773464974 -0.8529550897108403, -0.5219843052586662L -0.8529550897108403, -0.5219843052586662 L -0.8546522038821053, -0.5192009345132772 L -0.8563402353659408, -0.5164120460382435 M -0.8563402353659408,-0.5164120460382435 Q -0.1971373016919207, -0.033717714656077126 -0.9792922891905554, 0.20245150612411217L -0.9792922891905554, 0.20245150612411217 L -0.9787236799593236, 0.20518274363815137 L -0.978147453346339, 0.20791238422006414 \", \"type\": \"path\"}, {\"fillcolor\": \"#c45e3a\", \"layer\": \"below\", \"line\": {\"color\": \"rgb(175,175,175)\", \"width\": 0.5}, \"path\": \"M -0.9818890238991492,0.18945697333794825 Q -0.18411339721067765, -0.07811694417694048 -0.546059995972568, -0.8377460717893215L -0.546059995972568, -0.8377460717893215 L -0.5500423660600244, -0.8351367525974953 L -0.5540122678871477, -0.8325085026776239 M -0.5540122678871477,-0.8325085026776239 Q -0.1841719909361299, -0.07797870064717728 -0.983376997131689, 0.18157555317900592L -0.983376997131689, 0.18157555317900592 L -0.9826409123125935, 0.18551775507878981 L -0.9818890238991492, 0.18945697333794825 \", \"type\": \"path\"}, {\"fillcolor\": \"#c45e3a\", \"layer\": \"below\", \"line\": {\"color\": \"rgb(175,175,175)\", \"width\": 0.5}, \"path\": \"M -0.9757664636605679,0.218814552521878 Q -0.16020355597368746, -0.11972811137483791 -0.0665419353881592, -0.9977836292677877L -0.0665419353881592, -0.9977836292677877 L -0.06680510124503353, -0.9977660439439903 L -0.06706826245457681, -0.9977483892100873 M -0.06706826245457681,-0.9977483892100873 Q -0.1601933818393309, -0.11974172378447845 -0.9759188384928315, 0.21813395121989299L -0.9759188384928315, 0.21813395121989299 L -0.9758427104123567, 0.2184742651551102 L -0.9757664636605679, 0.218814552521878 \", \"type\": \"path\"}, {\"fillcolor\": \"#c45e3a\", \"layer\": \"below\", \"line\": {\"color\": \"rgb(175,175,175)\", \"width\": 0.5}, \"path\": \"M -0.9862784496123476,0.1650903383916331 Q -0.1495992674716151, -0.13274057093427077 0.046553089447538255, -0.9989158172052786L 0.046553089447538255, -0.9989158172052786 L 0.04132456127621947, -0.9991457754678884 L 0.03609490120914824, -0.9993483667403984 M 0.03609490120914824,-0.9993483667403984 Q -0.14971529550593418, -0.13260969154466357 -0.9876802280642534, 0.15648567695142093L -0.9876802280642534, 0.15648567695142093 L -0.9869887159148851, 0.1607895352835068 L -0.9862784496123476, 0.1650903383916331 \", \"type\": \"path\"}, {\"fillcolor\": \"#c45e3a\", \"layer\": \"below\", \"line\": {\"color\": \"rgb(175,175,175)\", \"width\": 0.5}, \"path\": \"M -0.983376997131689,0.18157555317900592 Q -0.0992212188485731, -0.17365238187310753 0.6557443803655231, -0.7549829849864407L 0.6557443803655231, -0.7549829849864407 L 0.6521969722786752, -0.7580495428074137 L 0.6486352237624098, -0.7610994327252443 M 0.6486352237624098,-0.7610994327252443 Q -0.09933906975300476, -0.1735849913460483 -0.9848017088880383, 0.17368245211074013L -0.9848017088880383, 0.17368245211074013 L -0.9840972665181479, 0.17763043104014975 L -0.983376997131689, 0.18157555317900592 \", \"type\": \"path\"}, {\"fillcolor\": \"#c45e3a\", \"layer\": \"below\", \"line\": {\"color\": \"rgb(175,175,175)\", \"width\": 0.5}, \"path\": \"M -0.9756900982467375,0.21915481327881398 Q -0.06587933898442307, -0.18883832422200605 0.9002813423876026, -0.4353085165130315L 0.9002813423876026, -0.4353085165130315 L 0.9002008145275158, -0.43547502055111853 L 0.9001202558730612, -0.4356415096923328 M 0.9001202558730612,-0.4356415096923328 Q -0.06588133924880099, -0.18883762638516827 -0.9757664636605679, 0.218814552521878L -0.9757664636605679, 0.218814552521878 L -0.9757282957858278, 0.21898468622916123 L -0.9756900982467375, 0.21915481327881398 \", \"type\": \"path\"}, {\"fillcolor\": \"#c45e3a\", \"layer\": \"below\", \"line\": {\"color\": \"rgb(175,175,175)\", \"width\": 0.5}, \"path\": \"M -0.9848017088880383,0.17368245211074013 Q -0.038711653000491966, -0.19621775638807387 0.9769747527725481, -0.21335494474002373L 0.9769747527725481, -0.21335494474002373 L 0.9760312604096111, -0.21763037173893252 L 0.9750690580604598, -0.22190162688247134 M 0.9750690580604598,-0.22190162688247134 Q -0.038715427370194025, -0.196217011707811 -0.9862784496123476, 0.1650903383916331L -0.9862784496123476, 0.1650903383916331 L -0.9855494426526845, 0.1693880045545815 L -0.9848017088880383, 0.17368245211074013 \", \"type\": \"path\"}, {\"fillcolor\": \"#c45e3a\", \"layer\": \"below\", \"line\": {\"color\": \"rgb(175,175,175)\", \"width\": 0.5}, \"path\": \"M -0.9773427122456597,0.21166299350688986 Q -0.030059335356578953, -0.19772818807120224 0.996089919891984, -0.08834518373732023L 0.996089919891984, -0.08834518373732023 L 0.9959442261046032, -0.08997276526206761 L 0.9957958728988462, -0.09160010653719246 M 0.9957958728988462,-0.09160010653719246 Q -0.03000319963475838, -0.1977367138689142 -0.978147453346339, 0.20791238422006414L -0.978147453346339, 0.20791238422006414 L -0.9777468812015006, 0.20978807473433472 L -0.9773427122456597, 0.21166299350688986 \", \"type\": \"path\"}, {\"fillcolor\": \"#bf4d28\", \"layer\": \"below\", \"line\": {\"color\": \"rgb(175,175,175)\", \"width\": 0.5}, \"path\": \"M -0.9994851688501479,-0.03208422117788337 Q -0.19781805972868527, -0.029462098451711 -0.9654563095179404, -0.26056499076429834L -0.9654563095179404, -0.26056499076429834 L -0.9690983088335917, -0.24667482201447424 L -0.972540479160309, -0.23273378868277095 M -0.972540479160309,-0.23273378868277095 Q -0.197824607125536, -0.029418103535532866 -0.9981786120386287, -0.06032792445159005L -0.9981786120386287, -0.06032792445159005 L -0.9989317154152049, -0.04621069072883635 L -0.9994851688501479, -0.03208422117788337 \", \"type\": \"path\"}, {\"fillcolor\": \"#bf4d28\", \"layer\": \"below\", \"line\": {\"color\": \"rgb(175,175,175)\", \"width\": 0.5}, \"path\": \"M -0.9979451322260477,0.06407427772777473 Q -0.198170093503515, -0.02699285166128497 -0.9444520612290817, -0.3286492112270147L -0.9444520612290817, -0.3286492112270147 L -0.9446930616795566, -0.32795581899778137 L -0.944933553059502, -0.3272622500416834 M -0.944933553059502,-0.3272622500416834 Q -0.19817008456112883, -0.026992917312418166 -0.9980381694840019, 0.06260840401274058L -0.9980381694840019, 0.06260840401274058 L -0.9979919199937317, 0.06334135795217045 L -0.9979451322260477, 0.06407427772777473 \", \"type\": \"path\"}, {\"fillcolor\": \"#bf4d28\", \"layer\": \"below\", \"line\": {\"color\": \"rgb(175,175,175)\", \"width\": 0.5}, \"path\": \"M -0.9981736880423311,0.06040934116484918 Q -0.19444615019699402, -0.046804857371517 -0.8613496547836382, -0.5080125709114954L -0.8613496547836382, -0.5080125709114954 L -0.8621765612704343, -0.5066079126858256 L -0.8630011770928581, -0.5052019084844607 M -0.8630011770928581,-0.5052019084844607 Q -0.19445369065509233, -0.04677352018625138 -0.9983468420895034, 0.05747680305928717L -0.9983468420895034, 0.05747680305928717 L -0.9982613419112305, 0.0589431356952568 L -0.9981736880423311, 0.06040934116484918 \", \"type\": \"path\"}, {\"fillcolor\": \"#bf4d28\", \"layer\": \"below\", \"line\": {\"color\": \"rgb(175,175,175)\", \"width\": 0.5}, \"path\": \"M -0.9998888089538195,0.014912066554045372 Q -0.17488924597776137, -0.09702448990502388 -0.5166017633305668, -0.8562257985623588L -0.5166017633305668, -0.8562257985623588 L -0.5217324314154679, -0.853109178247019 L -0.5268442977884662, -0.8499618143703739 M -0.5268442977884662,-0.8499618143703739 Q -0.1749550478121905, -0.096905785405383 -0.9999909106585222, 0.004263636984962176L -0.9999909106585222, 0.004263636984962176 L -0.9999540341897004, 0.009587987679565637 L -0.9998888089538195, 0.014912066554045372 \", \"type\": \"path\"}, {\"fillcolor\": \"#bf4d28\", \"layer\": \"below\", \"line\": {\"color\": \"rgb(175,175,175)\", \"width\": 0.5}, \"path\": \"M -0.9976531032277651,0.0684710568051223 Q -0.15054147646772784, -0.13167104413240047 -0.06496284367818857, -0.9978876835301873L -0.06496284367818857, -0.9978876835301873 L -0.06535763201237262, -0.9978619042421327 L -0.06575241011662322, -0.9978359687663375 M -0.06575241011662322,-0.9978359687663375 Q -0.1505210419902533, -0.13169440351878436 -0.9977279267719131, 0.06737198334189035L -0.9977279267719131, 0.06737198334189035 L -0.997690666344666, 0.06792153037687249 L -0.9976531032277651, 0.0684710568051223 \", \"type\": \"path\"}, {\"fillcolor\": \"#bf4d28\", \"layer\": \"below\", \"line\": {\"color\": \"rgb(175,175,175)\", \"width\": 0.5}, \"path\": \"M -0.9994586561235147,0.032899767473006616 Q -0.14119511092349354, -0.14164724018244182 0.03609490120914824, -0.9993483667403984L 0.03609490120914824, -0.9993483667403984 L 0.03128273739469037, -0.999510575402329 L 0.02646984834526766, -0.9996496121784765 M 0.02646984834526766,-0.9996496121784765 Q -0.14127894621176237, -0.14156362300144043 -0.9997008698206078, 0.024457532171503486L -0.9997008698206078, 0.024457532171503486 L -0.9995886755948687, 0.0286789055317019 L -0.9994586561235147, 0.032899767473006616 \", \"type\": \"path\"}, {\"fillcolor\": \"#bf4d28\", \"layer\": \"below\", \"line\": {\"color\": \"rgb(175,175,175)\", \"width\": 0.5}, \"path\": \"M -0.9981786120386287,-0.06032792445159005 Q -0.05703140048888057, -0.19169616417204838 0.8028684333861973, -0.5961562535711533L 0.8028684333861973, -0.5961562535711533 L 0.7924173778605583, -0.6099792613397583 L 0.7817283593128495, -0.6236190922719096 M 0.7817283593128495,-0.6236190922719096 Q -0.05736163456834347, -0.1915976066647176 -0.9958097493592508, -0.09144912837783732L -0.9958097493592508, -0.09144912837783732 L -0.9971156044717207, -0.07589776886704334 L -0.9981786120386287, -0.06032792445159005 \", \"type\": \"path\"}, {\"fillcolor\": \"#bf4d28\", \"layer\": \"below\", \"line\": {\"color\": \"rgb(175,175,175)\", \"width\": 0.5}, \"path\": \"M -0.9980381694840019,0.06260840401274058 Q -0.04981137641409698, -0.193697771746949 0.9044262884791809, -0.42662992008035877L 0.9044262884791809, -0.42662992008035877 L 0.9039522877999187, -0.4276333258543971 L 0.9034771739036023, -0.4286362049980847 M 0.9034771739036023,-0.4286362049980847 Q -0.049812947715611886, -0.19369736766379073 -0.9981736880423311, 0.06040934116484918L -0.9981736880423311, 0.06040934116484918 L -0.9981065343947686, 0.06150890991120323 L -0.9980381694840019, 0.06260840401274058 \", \"type\": \"path\"}, {\"fillcolor\": \"#bf4d28\", \"layer\": \"below\", \"line\": {\"color\": \"rgb(175,175,175)\", \"width\": 0.5}, \"path\": \"M -0.9999909106585222,0.004263636984962176 Q -0.01703779284670937, -0.19927296257875182 0.9862005122593397, -0.1655552766281281L 0.9862005122593397, -0.1655552766281281 L 0.9847435109507912, -0.1740121192340037 L 0.9832139921062842, -0.18245614740650307 M 0.9832139921062842,-0.18245614740650307 Q -0.01695507696068348, -0.19928001747605628 -0.9999057527702172, -0.013729004953938233L -0.9999057527702172, -0.013729004953938233 L -0.9999887998819469, -0.00473287551743256 L -0.9999909106585222, 0.004263636984962176 \", \"type\": \"path\"}, {\"fillcolor\": \"#bf4d28\", \"layer\": \"below\", \"line\": {\"color\": \"rgb(175,175,175)\", \"width\": 0.5}, \"path\": \"M -0.9988850250906501,0.04720917971805156 Q -0.010830038303344251, -0.19970656040888618 0.998132348160512, -0.06108858776876872L 0.998132348160512, -0.06108858776876872 L 0.9979559488609937, -0.06390558765048368 L 0.9977715992405772, -0.06672207842162069 M 0.9977715992405772,-0.06672207842162069 Q -0.010697043914971956, -0.19971372824991568 -0.9991900852545046, 0.0402389553678502L -0.9991900852545046, 0.0402389553678502 L -0.9990436340080815, 0.04372433359042106 L -0.9988850250906501, 0.04720917971805156 \", \"type\": \"path\"}, {\"fillcolor\": \"#af4624\", \"layer\": \"below\", \"line\": {\"color\": \"rgb(175,175,175)\", \"width\": 0.5}, \"path\": \"M -0.9923079936004028,-0.12379356137030342 Q -0.19472294452201563, -0.04563961959390142 -0.9439685336362929, -0.33003546401038025L -0.9439685336362929, -0.33003546401038025 L -0.9442105518379461, -0.3293424263557327 L -0.9444520612290817, -0.3286492112270147 M -0.9444520612290817,-0.3286492112270147 Q -0.1947224021092488, -0.0456419337539945 -0.992122198028431, -0.12527387668318793L -0.992122198028431, -0.12527387668318793 L -0.9922153718802027, -0.12453375367598547 L -0.9923079936004028, -0.12379356137030342 \", \"type\": \"path\"}, {\"fillcolor\": \"#af4624\", \"layer\": \"below\", \"line\": {\"color\": \"rgb(175,175,175)\", \"width\": 0.5}, \"path\": \"M -0.9906074390070018,-0.13673661464285775 Q -0.18855686529736576, -0.06668064598690586 -0.8563402353659408, -0.5164120460382435L -0.8563402353659408, -0.5164120460382435 L -0.8578097981672179, -0.5139672656583459 L -0.8592723813425142, -0.5115183033499044 M -0.8592723813425142,-0.5115183033499044 Q -0.18857296922947198, -0.06663509042524537 -0.989879932085847, -0.14190743480776094L -0.989879932085847, -0.14190743480776094 L -0.9902470606418684, -0.13932249958330417 L -0.9906074390070018, -0.13673661464285775 \", \"type\": \"path\"}, {\"fillcolor\": \"#af4624\", \"layer\": \"below\", \"line\": {\"color\": \"rgb(175,175,175)\", \"width\": 0.5}, \"path\": \"M -0.9844286989096257,-0.1757843473210898 Q -0.16548296974691443, -0.1123182386068345 -0.5268442977884662, -0.8499618143703739L -0.5268442977884662, -0.8499618143703739 L -0.5319371782328393, -0.8467838203542181 L -0.5370108892160622, -0.8435753107241666 M -0.5370108892160622,-0.8435753107241666 Q -0.1655497533401883, -0.11221978064941503 -0.9824697796961797, -0.18642191926847046L -0.9824697796961797, -0.18642191926847046 L -0.983463621985934, -0.18110578187983978 L -0.9844286989096257, -0.1757843473210898 \", \"type\": \"path\"}, {\"fillcolor\": \"#af4624\", \"layer\": \"below\", \"line\": {\"color\": \"rgb(175,175,175)\", \"width\": 0.5}, \"path\": \"M -0.992445890821345,-0.12268314387815007 Q -0.13731992248096334, -0.14540714868885307 -0.06575241011662322, -0.9978359687663375L -0.06575241011662322, -0.9978359687663375 L -0.06614717792914875, -0.9978098771068612 L -0.0665419353881592, -0.9977836292677877 M -0.0665419353881592,-0.9977836292677877 Q -0.13729609648138333, -0.1454296458462809 -0.9923079936004028, -0.12379356137030342L -0.9923079936004028, -0.12379356137030342 L -0.9923770975231925, -0.12323837191169049 L -0.992445890821345, -0.12268314387815007 \", \"type\": \"path\"}, {\"fillcolor\": \"#af4624\", \"layer\": \"below\", \"line\": {\"color\": \"rgb(175,175,175)\", \"width\": 0.5}, \"path\": \"M -0.9858379593521578,-0.16770067948691575 Q -0.1269852825733579, -0.15451452362080548 0.02646984834526766, -0.9996496121784765L 0.02646984834526766, -0.9996496121784765 L 0.02186563961260768, -0.9997609183221414 L 0.017260967085086502, -0.9998510184098867 M 0.017260967085086502,-0.9998510184098867 Q -0.12706294896160708, -0.15445066202894708 -0.9844286989096257, -0.1757843473210898L -0.9844286989096257, -0.1757843473210898 L -0.9851416205733708, -0.171743958886689 L -0.9858379593521578, -0.16770067948691575 \", \"type\": \"path\"}, {\"fillcolor\": \"#af4624\", \"layer\": \"below\", \"line\": {\"color\": \"rgb(175,175,175)\", \"width\": 0.5}, \"path\": \"M -0.9654563095179404,-0.26056499076429834 Q -0.02949147699408954, -0.19781368199572824 0.847466730556729, -0.5308485100285093L 0.847466730556729, -0.5308485100285093 L 0.836803703672015, -0.5475030242115551 L 0.8258134254650317, -0.563943424752617 M 0.8258134254650317,-0.563943424752617 Q -0.029824996568175163, -0.19776367103112832 -0.955399515238569, -0.2953163833618232L -0.955399515238569, -0.2953163833618232 L -0.9605850767616159, -0.27798616926545205 L -0.9654563095179404, -0.26056499076429834 \", \"type\": \"path\"}, {\"fillcolor\": \"#af4624\", \"layer\": \"below\", \"line\": {\"color\": \"rgb(175,175,175)\", \"width\": 0.5}, \"path\": \"M -0.991886848164384,-0.12712387831766406 Q -0.03142068644112327, -0.1975164308698611 0.9034771739036023, -0.4286362049980847L 0.9034771739036023, -0.4286362049980847 L 0.9030009473753347, -0.4296385562763753 L 0.9025236088015892, -0.4306403784548727 M 0.9025236088015892,-0.4306403784548727 Q -0.031418865829017525, -0.1975167204821359 -0.9915998748242396, -0.1293432961098187L -0.9915998748242396, -0.1293432961098187 L -0.991743982347194, -0.12823366749075163 L -0.991886848164384, -0.12712387831766406 \", \"type\": \"path\"}, {\"fillcolor\": \"#af4624\", \"layer\": \"below\", \"line\": {\"color\": \"rgb(175,175,175)\", \"width\": 0.5}, \"path\": \"M -0.9799525119960004,-0.19923120797889227 Q 0.0017089175220504006, -0.1999926988689908 0.9832139921062842, -0.18245614740650307L 0.9832139921062842, -0.18245614740650307 L 0.9820110645894495, -0.1888233805011869 L 0.9807669037125883, -0.19518268514912473 M 0.9807669037125883,-0.19518268514912473 Q 0.0017929732421112826, -0.1999919629558975 -0.977109824856154, -0.2127354934409772L -0.977109824856154, -0.2127354934409772 L -0.9785544639992014, -0.2059882544885403 L -0.9799525119960004, -0.19923120797889227 \", \"type\": \"path\"}, {\"fillcolor\": \"#af4624\", \"layer\": \"below\", \"line\": {\"color\": \"rgb(175,175,175)\", \"width\": 0.5}, \"path\": \"M -0.9890154469493873,-0.14781219738405835 Q 0.007621772974349109, -0.19985471867516036 0.9974005076830734, -0.07205711119346492L 0.9974005076830734, -0.07205711119346492 L 0.9972153534785089, -0.07457572518408787 L 0.9970238393350671, -0.07709386355321919 M 0.9970238393350671,-0.07709386355321919 Q 0.007750665501793128, -0.19984976153170492 -0.9880583389703709, -0.15408023491386486L -0.9880583389703709, -0.15408023491386486 L -0.9885418609327529, -0.15094697474149626 L -0.9890154469493873, -0.14781219738405835 \", \"type\": \"path\"}, {\"fillcolor\": \"#9f4021\", \"layer\": \"below\", \"line\": {\"color\": \"rgb(175,175,175)\", \"width\": 0.5}, \"path\": \"M -0.9188217250058108,-0.39467282356066286 Q -0.17309353300690783, -0.10019295799199919 -0.7998718783821913, -0.6001707908365292L -0.7998718783821913, -0.6001707908365292 L -0.8077499227718204, -0.5895252855154884 L -0.8154862956060945, -0.5787763831382976 M -0.8154862956060945,-0.5787763831382976 Q -0.17322511637723859, -0.09996528925628209 -0.9091451891229786, -0.4164793213288547L -0.9091451891229786, -0.4164793213288547 L -0.9140484892081004, -0.40560493016775473 L -0.9188217250058108, -0.39467282356066286 \", \"type\": \"path\"}, {\"fillcolor\": \"#9f4021\", \"layer\": \"below\", \"line\": {\"color\": \"rgb(175,175,175)\", \"width\": 0.5}, \"path\": \"M -0.9298778883367324,-0.3678683362052508 Q -0.15170243279107723, -0.13033177619164368 -0.5037834612067765, -0.8638299741352579L -0.5037834612067765, -0.8638299741352579 L -0.5102067791445608, -0.860051767345974 L -0.5166017633305668, -0.8562257985623588 M -0.5166017633305668,-0.8562257985623588 Q -0.15181256080185757, -0.1302034806861257 -0.9249360460642451, -0.3801227573969239L -0.9249360460642451, -0.3801227573969239 L -0.9274272076673695, -0.37400370917720305 L -0.9298778883367324, -0.3678683362052508 \", \"type\": \"path\"}, {\"fillcolor\": \"#9f4021\", \"layer\": \"below\", \"line\": {\"color\": \"rgb(175,175,175)\", \"width\": 0.5}, \"path\": \"M -0.9433612629426837,-0.3317672792473434 Q -0.12059607188578025, -0.159551206343668 -0.06180417614263151, -0.9980882945968912L -0.06180417614263151, -0.9980882945968912 L -0.06259390230501456, -0.9980390790917109 L -0.06338358927800689, -0.9979892387246653 M -0.06338358927800689,-0.9979892387246653 Q -0.12054662718595349, -0.1595885668652073 -0.9426283443810008, -0.3338439820777564L -0.9426283443810008, -0.3338439820777564 L -0.9429953753369621, -0.33280583242050005 L -0.9433612629426837, -0.3317672792473434 \", \"type\": \"path\"}, {\"fillcolor\": \"#9f4021\", \"layer\": \"below\", \"line\": {\"color\": \"rgb(175,175,175)\", \"width\": 0.5}, \"path\": \"M -0.896688405832244,-0.4426622898395896 Q -0.0804025443201666, -0.1831268163509748 0.2809682736131547, -0.9597170568573028L 0.2809682736131547, -0.9597170568573028 L 0.2632414673503923, -0.9647299776969783 L 0.2454253250847185, -0.9694154990544871 M 0.2454253250847185,-0.9694154990544871 Q -0.08081848534325375, -0.18294363182910273 -0.8819254056357018, -0.47138898894045334L -0.8819254056357018, -0.47138898894045334 L -0.8894228906411399, -0.4570852454450471 L -0.896688405832244, -0.4426622898395896 \", \"type\": \"path\"}, {\"fillcolor\": \"#9f4021\", \"layer\": \"below\", \"line\": {\"color\": \"rgb(175,175,175)\", \"width\": 0.5}, \"path\": \"M -0.9386423235159151,-0.3448921403926799 Q -0.05155577029711198, -0.1932407890406977 0.6420944160055598, -0.7666255676237775L 0.6420944160055598, -0.7666255676237775 L 0.6397469788753892, -0.7685855860083588 L 0.6373935587462904, -0.7705384164782046 M 0.6373935587462904,-0.7705384164782046 Q -0.051614769228107864, -0.19322503874376418 -0.9367292680519853, -0.35005467912140803L -0.9367292680519853, -0.35005467912140803 L -0.9376893486472541, -0.34747472632335213 L -0.9386423235159151, -0.3448921403926799 \", \"type\": \"path\"}, {\"fillcolor\": \"#9f4021\", \"layer\": \"below\", \"line\": {\"color\": \"rgb(175,175,175)\", \"width\": 0.5}, \"path\": \"M -0.945293335338764,-0.3262215660622625 Q -0.011690083904425306, -0.19965806254270702 0.900763862712219, -0.43430917976916245L 0.900763862712219, -0.43430917976916245 L 0.9005227411741177, -0.43480891507448777 L 0.9002813423876026, -0.4353085165130315 M 0.9002813423876026,-0.4353085165130315 Q -0.01169094333930553, -0.19965801222048954 -0.944933553059502, -0.3272622500416834L -0.944933553059502, -0.3272622500416834 L -0.9451135874389563, -0.3267419575724339 L -0.945293335338764, -0.3262215660622625 \", \"type\": \"path\"}, {\"fillcolor\": \"#9f4021\", \"layer\": \"below\", \"line\": {\"color\": \"rgb(175,175,175)\", \"width\": 0.5}, \"path\": \"M -0.9455325534760096,-0.32552755692435176 Q 0.008116299434636126, -0.19983524634930477 0.9688172645941361, -0.24777632619831888L 0.9688172645941361, -0.24777632619831888 L 0.9687304180990375, -0.2481156525688454 L 0.968643452755539, -0.24845494849937683 M 0.968643452755539,-0.24845494849937683 Q 0.008119651957164924, -0.1998351101585868 -0.945293335338764, -0.3262215660622625L -0.945293335338764, -0.3262215660622625 L -0.9454130080897002, -0.3258745834439754 L -0.9455325534760096, -0.32552755692435176 \", \"type\": \"path\"}, {\"fillcolor\": \"#9f4021\", \"layer\": \"below\", \"line\": {\"color\": \"rgb(175,175,175)\", \"width\": 0.5}, \"path\": \"M -0.9415203958687353,-0.3369559973693599 Q 0.025777057365720682, -0.19833190190578104 0.9963733276625657, -0.08508931732377138L 0.9963733276625657, -0.08508931732377138 L 0.9962329538719502, -0.08671736630899621 L 0.996089919891984, -0.08834518373732023 M 0.996089919891984,-0.08834518373732023 Q 0.025853340146347048, -0.19832197256803716 -0.9401522853895974, -0.3407545748434157L -0.9401522853895974, -0.3407545748434157 L -0.940838257696926, -0.3388559765649895 L -0.9415203958687353, -0.3369559973693599 \", \"type\": \"path\"}, {\"fillcolor\": \"#8f391e\", \"layer\": \"below\", \"line\": {\"color\": \"rgb(175,175,175)\", \"width\": 0.5}, \"path\": \"M -0.7324733447454052,-0.6807957103547868 Q -0.10575821384645212, -0.16975040560778673 -0.28825428028451316, -0.9575538992128105L -0.28825428028451316, -0.9575538992128105 L -0.3268569121490596, -0.9450738378456902 L -0.36492156528028286, -0.931038265160669 M -0.36492156528028286,-0.931038265160669 Q -0.10586651271276962, -0.1696828850710554 -0.6758215918053093, -0.7370652454496399L -0.6758215918053093, -0.7370652454496399 L -0.7047093175370558, -0.7094961435951974 L -0.7324733447454052, -0.6807957103547868 \", \"type\": \"path\"}, {\"fillcolor\": \"#8f391e\", \"layer\": \"below\", \"line\": {\"color\": \"rgb(175,175,175)\", \"width\": 0.5}, \"path\": \"M -0.8529550897108403,-0.5219843052586662 Q -0.10137878099152048, -0.17240169014448012 -0.04152268741261717, -0.9991375613147742L -0.04152268741261717, -0.9991375613147742 L -0.04376254604827234, -0.9990419608621917 L -0.046002184728725484, -0.9989413391186612 M -0.046002184728725484,-0.9989413391186612 Q -0.10116806286707991, -0.17252542727297496 -0.8493186472012757, -0.5278805125368761L -0.8493186472012757, -0.5278805125368761 L -0.8511419741501718, -0.524935557797096 L -0.8529550897108403, -0.5219843052586662 \", \"type\": \"path\"}, {\"fillcolor\": \"#8f391e\", \"layer\": \"below\", \"line\": {\"color\": \"rgb(175,175,175)\", \"width\": 0.5}, \"path\": \"M -0.7775842239090586,-0.6287787963407697 Q -0.04725452400761915, -0.19433736120677708 0.4020535034743111, -0.9156161752306652L 0.4020535034743111, -0.9156161752306652 L 0.3694150273623034, -0.9292645143116726 L 0.33631421087665464, -0.9417498349149912 M 0.33631421087665464,-0.9417498349149912 Q -0.04743828775078431, -0.19429258569300525 -0.7324733447454052, -0.6807957103547868L -0.7324733447454052, -0.6807957103547868 L -0.7554766078433818, -0.6551756214950746 L -0.7775842239090586, -0.6287787963407697 \", \"type\": \"path\"}, {\"fillcolor\": \"#8f391e\", \"layer\": \"below\", \"line\": {\"color\": \"rgb(175,175,175)\", \"width\": 0.5}, \"path\": \"M -0.8493186472012757,-0.5278805125368761 Q -0.03076766178587055, -0.19761920703269276 0.6486352237624098, -0.7610994327252443L 0.6486352237624098, -0.7610994327252443 L 0.6453707347607396, -0.7638695011023696 L 0.6420944160055598, -0.7666255676237775 M 0.6420944160055598,-0.7666255676237775 Q -0.03076819067759376, -0.19761912468793913 -0.8447703188979583, -0.5351290576197875L -0.8447703188979583, -0.5351290576197875 L -0.8470522366514639, -0.5315096503204362 L -0.8493186472012757, -0.5278805125368761 \", \"type\": \"path\"}, {\"fillcolor\": \"#8f391e\", \"layer\": \"below\", \"line\": {\"color\": \"rgb(175,175,175)\", \"width\": 0.5}, \"path\": \"M -0.8447703188979583,-0.5351290576197875 Q 0.014743759629651715, -0.1994558135326796 0.9142720413134321, -0.4051007707627449L 0.9142720413134321, -0.4051007707627449 L 0.9125404901233657, -0.4089863737160538 L 0.910792425436484, -0.4128645755783932 M 0.910792425436484,-0.4128645755783932 Q 0.014829969651817876, -0.19944942216042183 -0.8397178494036627, -0.5430229584399611L -0.8397178494036627, -0.5430229584399611 L -0.8422533322608924, -0.5390819272572794 L -0.8447703188979583, -0.5351290576197875 \", \"type\": \"path\"}, {\"fillcolor\": \"#8f391e\", \"layer\": \"below\", \"line\": {\"color\": \"rgb(175,175,175)\", \"width\": 0.5}, \"path\": \"M -0.8662766900128116,-0.49956450668602065 Q 0.02711733104992401, -0.198153098276885 0.968643452755539, -0.24845494849937683L 0.968643452755539, -0.24845494849937683 L 0.9685563685743095, -0.24879421394828757 L 0.9684691655660329, -0.2491334488739558 M 0.9684691655660329,-0.2491334488739558 Q 0.027128671627079222, -0.19815154598374982 -0.8658692619136866, -0.5002703481849065L -0.8658692619136866, -0.5002703481849065 L -0.8660730478700363, -0.4999174689417304 L -0.8662766900128116, -0.49956450668602065 \", \"type\": \"path\"}, {\"fillcolor\": \"#8f391e\", \"layer\": \"below\", \"line\": {\"color\": \"rgb(175,175,175)\", \"width\": 0.5}, \"path\": \"M -0.8666835427224023,-0.4988583333714551 Q 0.042317001879851636, -0.1954719195994674 0.9954062489333807, -0.09574131597370299L 0.9954062489333807, -0.09574131597370299 L 0.9953777595655049, -0.09603705411119104 L 0.9953491823329566, -0.09633278377123088 M 0.9953491823329566,-0.09633278377123088 Q 0.042338579409158784, -0.1954672471121808 -0.8662766900128116, -0.49956450668602065L -0.8662766900128116, -0.49956450668602065 L -0.8664801883081974, -0.4992114614763875 L -0.8666835427224023, -0.4988583333714551 \", \"type\": \"path\"}, {\"fillcolor\": \"#f0f3e7\", \"layer\": \"below\", \"line\": {\"color\": \"rgb(175,175,175)\", \"width\": 0.5}, \"path\": \"M -0.5619143070890118,-0.8271954493882784 Q -0.062169249301133, -0.19009204202526098 -0.03546087918106622, -0.9993710652443895L -0.03546087918106622, -0.9993710652443895 L -0.038491960360473636, -0.9992589098865258 L -0.04152268741261717, -0.9991375613147742 M -0.04152268741261717,-0.9991375613147742 Q -0.06184069260334945, -0.19019918174991723 -0.5540122678871477, -0.8325085026776239L -0.5540122678871477, -0.8325085026776239 L -0.557969611464925, -0.8298613816063986 L -0.5619143070890118, -0.8271954493882784 \", \"type\": \"path\"}, {\"fillcolor\": \"#f0f3e7\", \"layer\": \"below\", \"line\": {\"color\": \"rgb(175,175,175)\", \"width\": 0.5}, \"path\": \"M -0.28825428028451316,-0.9575538992128105 Q 0.021181240233215454, -0.19887522485765496 0.48346923630815286, -0.8753613525531108L 0.48346923630815286, -0.8753613525531108 L 0.4432186180150382, -0.8964135522429587 L 0.4020535034743111, -0.9156161752306652 M 0.4020535034743111,-0.9156161752306652 Q 0.021080245427451197, -0.19888595539333195 -0.20118133694807852, -0.9795540156947874L -0.20118133694807852, -0.9795540156947874 L -0.24496491000808082, -0.9695319452523123 L -0.28825428028451316, -0.9575538992128105 \", \"type\": \"path\"}, {\"fillcolor\": \"#f0f3e7\", \"layer\": \"below\", \"line\": {\"color\": \"rgb(175,175,175)\", \"width\": 0.5}, \"path\": \"M -0.45326617590301216,-0.8913752149248148 Q 0.03922352048114394, -0.19611607644725426 0.7612381087673616, -0.6484724680048418L 0.7612381087673616, -0.6484724680048418 L 0.7528464804980355, -0.6581961537427282 L 0.7443306555292704, -0.6678112571972463 M 0.7443306555292704,-0.6678112571972463 Q 0.039262170212099365, -0.1961083424799571 -0.42986541587660393, -0.9028929749606175L -0.42986541587660393, -0.9028929749606175 L -0.44160334781210636, -0.897210389597189 L -0.45326617590301216, -0.8913752149248148 \", \"type\": \"path\"}, {\"fillcolor\": \"#f0f3e7\", \"layer\": \"below\", \"line\": {\"color\": \"rgb(175,175,175)\", \"width\": 0.5}, \"path\": \"M -0.48868753919669117,-0.8724588752679878 Q 0.06580065739666738, -0.1888657551970881 0.9250171039679689, -0.3799254629091236L 0.9250171039679689, -0.3799254629091236 L 0.9218229926677745, -0.3876111068958529 L 0.9185650253333475, -0.3952699004912297 M 0.9185650253333475,-0.3952699004912297 Q 0.06598801372700568, -0.18880037617643805 -0.47234949890694744, -0.8814113403413616L -0.47234949890694744, -0.8814113403413616 L -0.480539367595909, -0.8769731559121544 L -0.48868753919669117, -0.8724588752679878 \", \"type\": \"path\"}, {\"fillcolor\": \"#f0f3e7\", \"layer\": \"below\", \"line\": {\"color\": \"rgb(175,175,175)\", \"width\": 0.5}, \"path\": \"M -0.5745190732998395,-0.8184911938528683 Q 0.0697288537513084, -0.18745102548273415 0.9697647290089806, -0.24404173899179296L 0.9697647290089806, -0.24404173899179296 L 0.9694218614114601, -0.24540019278219763 L 0.969077090882556, -0.24675816486309474 M 0.969077090882556,-0.24675816486309474 Q 0.06977664624618939, -0.18743324048480342 -0.5718050400254702, -0.820389539305244L -0.5718050400254702, -0.820389539305244 L -0.5731628425906798, -0.8194414902074287 L -0.5745190732998395, -0.8184911938528683 \", \"type\": \"path\"}, {\"fillcolor\": \"#f0f3e7\", \"layer\": \"below\", \"line\": {\"color\": \"rgb(175,175,175)\", \"width\": 0.5}, \"path\": \"M -0.5680630085040278,-0.8229850657025028 Q 0.08698178998409926, -0.1800948866879958 0.9977715992405772, -0.06672207842162069L 0.9977715992405772, -0.06672207842162069 L 0.9975896198864587, -0.06938984287913458 L 0.9974005076830734, -0.07205711119346492 M 0.9974005076830734,-0.07205711119346492 Q 0.0871712189153895, -0.18000327383913117 -0.5619143070890118, -0.8271954493882784L -0.5619143070890118, -0.8271954493882784 L -0.5649925798374774, -0.8250959851608731 L -0.5680630085040278, -0.8229850657025028 \", \"type\": \"path\"}, {\"fillcolor\": \"#e2ecde\", \"layer\": \"below\", \"line\": {\"color\": \"rgb(175,175,175)\", \"width\": 0.5}, \"path\": \"M -0.029397765987632288,-0.9995677922757097 Q 0.005609845968797774, -0.19992130858967078 0.0854036587620182, -0.9963464332600688L 0.0854036587620182, -0.9963464332600688 L 0.07830987967312268, -0.9969290660551436 L 0.07121213331466922, -0.997461193264567 M 0.07121213331466922,-0.997461193264567 Q 0.005083257614331753, -0.19993539079419217 -0.020432986505172154, -0.9997912247376847L -0.020432986505172154, -0.9997912247376847 L -0.024915626703256935, -0.9996895575857457 L -0.029397765987632288, -0.9995677922757097 \", \"type\": \"path\"}, {\"fillcolor\": \"#e2ecde\", \"layer\": \"below\", \"line\": {\"color\": \"rgb(175,175,175)\", \"width\": 0.5}, \"path\": \"M -0.06022460822747826,-0.9981848508987936 Q 0.06157874316045789, -0.19028415170680496 0.6336156968585499, -0.7736479488077599L 0.6336156968585499, -0.7736479488077599 L 0.6321950828512629, -0.7748092521509309 L 0.6307723403887812, -0.7759679468898568 M 0.6307723403887812,-0.7759679468898568 Q 0.06145542824144188, -0.1903240140908682 -0.057854974796087914, -0.9983249981300398L -0.057854974796087914, -0.9983249981300398 L -0.05903983309653211, -0.9982556276364956 L -0.06022460822747826, -0.9981848508987936 \", \"type\": \"path\"}, {\"fillcolor\": \"#e2ecde\", \"layer\": \"below\", \"line\": {\"color\": \"rgb(175,175,175)\", \"width\": 0.5}, \"path\": \"M -0.06180417614263151,-0.9980882945968912 Q 0.1014300893218732, -0.17237150860904138 0.9025236088015892, -0.4306403784548727L 0.9025236088015892, -0.4306403784548727 L 0.9020451587702079, -0.43164167029983386 L 0.9015655978704014, -0.432642430578169 M 0.9015655978704014,-0.432642430578169 Q 0.10137518878085712, -0.17240380245123826 -0.06022460822747826, -0.9981848508987936L -0.06022460822747826, -0.9981848508987936 L -0.061014411285297936, -0.9981368852093928 L -0.06180417614263151, -0.9980882945968912 \", \"type\": \"path\"}, {\"fillcolor\": \"#e2ecde\", \"layer\": \"below\", \"line\": {\"color\": \"rgb(175,175,175)\", \"width\": 0.5}, \"path\": \"M -0.06759457085844273,-0.9977128715168824 Q 0.12935279980335124, -0.15253803847904346 0.9953491823329566, -0.09633278377123088L 0.9953491823329566, -0.09633278377123088 L 0.9953205172382584, -0.09662850492771675 L 0.9952917642839407, -0.09692421755454367 M 0.9952917642839407,-0.09692421755454367 Q 0.12934771190814562, -0.15254235288642748 -0.06706826245457681, -0.9977483892100873L -0.06706826245457681, -0.9977483892100873 L -0.06733141899848208, -0.997730665067307 L -0.06759457085844273, -0.9977128715168824 \", \"type\": \"path\"}, {\"fillcolor\": \"#d4e5d6\", \"layer\": \"below\", \"line\": {\"color\": \"rgb(175,175,175)\", \"width\": 0.5}, \"path\": \"M 0.21323227233099715,-0.977001534306144 Q 0.10558531189797193, -0.16985800514373173 0.7817283593128495, -0.6236190922719096L 0.7817283593128495, -0.6236190922719096 L 0.7715833091613056, -0.6361282866086755 L 0.7612381087673616, -0.6484724680048418 M 0.7612381087673616,-0.6484724680048418 Q 0.10565868152850462, -0.16981237592607332 0.2454253250847185, -0.9694154990544871L 0.2454253250847185, -0.9694154990544871 L 0.2293601641512737, -0.9733416230186094 L 0.21323227233099715, -0.977001534306144 \", \"type\": \"path\"}, {\"fillcolor\": \"#d4e5d6\", \"layer\": \"below\", \"line\": {\"color\": \"rgb(175,175,175)\", \"width\": 0.5}, \"path\": \"M 0.0854036587620182,-0.9963464332600688 Q 0.12255349426272875, -0.15805265275848843 0.9436885332354598, -0.33083523427819256L 0.9436885332354598, -0.33083523427819256 L 0.9406515290038399, -0.33937398395094776 L 0.9375372656375344, -0.3478848596028509 M 0.9375372656375344,-0.3478848596028509 Q 0.12274228619148252, -0.1579060834182401 0.10582496479591261, -0.994384773025987L 0.10582496479591261, -0.994384773025987 L 0.09561934241921774, -0.9954179731928273 L 0.0854036587620182, -0.9963464332600688 \", \"type\": \"path\"}, {\"fillcolor\": \"#d4e5d6\", \"layer\": \"below\", \"line\": {\"color\": \"rgb(175,175,175)\", \"width\": 0.5}, \"path\": \"M 0.010981297228877135,-0.9999397037377659 Q 0.12360408062071415, -0.15723241158841264 0.969077090882556, -0.24675816486309474L 0.969077090882556, -0.24675816486309474 L 0.9689473114727303, -0.24726727965860723 L 0.9688172645941361, -0.24777632619831888 M 0.9688172645941361,-0.24777632619831888 Q 0.12362021751821384, -0.1572197246554945 0.012237273776348933, -0.9999251217618861L 0.012237273776348933, -0.9999251217618861 L 0.011609287792094568, -0.9999326099477706 L 0.010981297228877135, -0.9999397037377659 \", \"type\": \"path\"}, {\"fillcolor\": \"#d4e5d6\", \"layer\": \"below\", \"line\": {\"color\": \"rgb(175,175,175)\", \"width\": 0.5}, \"path\": \"M 0.046553089447538255,-0.9989158172052786 Q 0.14150547377113518, -0.14133718864052225 0.9989705060740446, -0.04536439125754154L 0.9989705060740446, -0.04536439125754154 L 0.9987658043116254, -0.0496675763225069 L 0.998542566150505, -0.053969839591798775 M 0.998542566150505,-0.053969839591798775 Q 0.14175441826717236, -0.1410875079577762 0.058678121500908106, -0.9982769545858127L 0.058678121500908106, -0.9982769545858127 L 0.0526165751050056, -0.9986147886068077 L 0.046553089447538255, -0.9989158172052786 \", \"type\": \"path\"}, {\"fillcolor\": \"#c6decd\", \"layer\": \"below\", \"line\": {\"color\": \"rgb(175,175,175)\", \"width\": 0.5}, \"path\": \"M 0.6862718880369496,-0.7273451008222992 Q 0.16578954186279518, -0.1118652216237222 0.9313476373329466, -0.36413126538974677L 0.9313476373329466, -0.36413126538974677 L 0.9282159648245251, -0.37204182916021156 L 0.9250171039679689, -0.3799254629091236 M 0.9250171039679689,-0.3799254629091236 Q 0.16588683856018824, -0.11172088789705376 0.6997928312123554, -0.7143458499801031L 0.6997928312123554, -0.7143458499801031 L 0.6930628374235112, -0.7208771763500852 L 0.6862718880369496, -0.7273451008222992 \", \"type\": \"path\"}, {\"fillcolor\": \"#c6decd\", \"layer\": \"below\", \"line\": {\"color\": \"rgb(175,175,175)\", \"width\": 0.5}, \"path\": \"M 0.7283305730995804,-0.6852259308348136 Q 0.18080497813105514, -0.0854959641329851 0.9917561846333401, -0.12813926112445062L 0.9917561846333401, -0.12813926112445062 L 0.9904034501904633, -0.13820638860351744 L 0.9889485289441367, -0.14825925636946935 M 0.9889485289441367,-0.14825925636946935 Q 0.18094725786518417, -0.0851944239435337 0.7443306555292704, -0.6678112571972463L 0.7443306555292704, -0.6678112571972463 L 0.7363820959876295, -0.6765658938409959 L 0.7283305730995804, -0.6852259308348136 \", \"type\": \"path\"}, {\"fillcolor\": \"#c6decd\", \"layer\": \"below\", \"line\": {\"color\": \"rgb(175,175,175)\", \"width\": 0.5}, \"path\": \"M 0.6997928312123554,-0.7143458499801031 Q 0.18313980344542635, -0.0803729581014075 0.9995065603657315, -0.031410759078131026L 0.9995065603657315, -0.031410759078131026 L 0.9992628894511107, -0.038388510856989355 L 0.9989705060740446, -0.04536439125754154 M 0.9989705060740446,-0.04536439125754154 Q 0.18334816282224856, -0.07989650298796708 0.7133534022735654, -0.7008044830512493L 0.7133534022735654, -0.7008044830512493 L 0.7066055557794861, -0.7076076515566825 L 0.6997928312123554, -0.7143458499801031 \", \"type\": \"path\"}, {\"fillcolor\": \"#aad0bc\", \"layer\": \"below\", \"line\": {\"color\": \"rgb(175,175,175)\", \"width\": 0.5}, \"path\": \"M 0.9697647290089806,-0.24404173899179296 Q 0.19731868578984846, -0.03263948893850903 0.9966945433029462, -0.0812403061917644L 0.9966945433029462, -0.0812403061917644 L 0.9965357937828541, -0.0831649668404724 L 0.9963733276625657, -0.08508931732377138 M 0.9963733276625657,-0.08508931732377138 Q 0.19732995152950047, -0.03257130991171529 0.970865898472219, -0.23962346960122835L 0.970865898472219, -0.23962346960122835 L 0.9703178285261074, -0.24183323105888407 L 0.9697647290089806, -0.24404173899179296 \", \"type\": \"path\"}, {\"fillcolor\": \"#f2e6ce\", \"layer\": \"below\", \"line\": {\"color\": \"rgb(150,150,150)\", \"width\": 0.45}, \"path\": \"M 1.1, 0.0 L 1.0997404386485046, 0.02389492835718731 L 1.0989618770887362, 0.04777857998728683 L 1.097664682747042, 0.07163968348503356 L 1.0958494678079973, 0.09546697808629648 L 1.093517088925498, 0.11924921898236798 L 1.0906686468184805, 0.14297518262672337 L 1.0873054857514592, 0.1666336720317462 L 1.0834291929001285, 0.1902135220529195 L 1.0790415976023269, 0.21370360465798954 L 1.0741447704947187, 0.23709283417861501 L 1.0687410225355987, 0.26037017254202355 L 1.062832903914282, 0.2835246344802064 L 0.9662117308311654, 0.2577496677092785 L 0.9715827477596352, 0.236700156856385 L 0.9764952459042897, 0.21553894016237726 L 0.9809469069112061, 0.19427600423453592 L 0.9849356299092076, 0.17292138368447227 L 0.9884595325013265, 0.15148515639249654 L 0.991516951653164, 0.1299774387515667 L 0.9941064444777253, 0.10840838089306179 L 0.9962267889163611, 0.08678816189663316 L 0.9978769843154927, 0.06512698498639415 L 0.999056251898851, 0.0434350727157153 L 0.999764035135004, 0.02172266214289755 L 1.0, 0.0 L 1.1 ,0.0\", \"type\": \"path\"}, {\"fillcolor\": \"#ecd5bb\", \"layer\": \"below\", \"line\": {\"color\": \"rgb(150,150,150)\", \"width\": 0.45}, \"path\": \"M 1.053402736048514, 0.3167691204734214 L 1.0466529341993787, 0.3384045438995038 L 1.0394588226680288, 0.35989631281467144 L 1.031823455392693, 0.38123530384984466 L 1.0237500736269878, 0.4024124584909584 L 1.0152421045639866, 0.42341878692434926 L 1.0063031598813597, 0.44424537185297835 L 0.9969370342081967, 0.4648833722818714 L 0.987147703514168, 0.4853240272711671 L 0.9769393234217035, 0.5055586596551823 L 0.9663162274419094, 0.5255786797259153 L 0.9552829251349702, 0.545375588879421 L 0.9438441001958161, 0.5649409832235138 L 0.9320046084658704, 0.5842665571452637 L 0.9197694758717191, 0.603344106836773 L 0.9071438962915781, 0.6221655337777355 L 0.8941332293504654, 0.640722848173302 L 0.880742998145011, 0.6590081723457892 L 0.8669788868988741, 0.6770137440787959 L 0.8528467385497607, 0.6947319199123042 L 0.8383525522690642, 0.7121551783873696 L 0.8235024809151869, 0.7292761232390188 L 0.8083028284216183, 0.7460874865360041 L 0.7927600471208831, 0.7625821317660777 L 0.7768807350054915, 0.7787530568654788 L 0.7606716329270562, 0.7945933971913473 L 0.7441396217347664, 0.8100964284357999 L 0.7272917193544303, 0.8252555694804349 L 0.710135077809329, 0.840064385190051 L 0.692676980184145, 0.8545165891443968 L 0.6749248375332537, 0.8686060463067887 L 0.656886185734693, 0.8823267756284666 L 0.6385686822911425, 0.8956729525875805 L 0.6199801030792732, 0.9086389116617305 L 0.6011283390488478, 0.9212191487330111 L 0.5820213928729697, 0.9334083234245387 L 0.5626673755509081, 0.9452012613674685 L 0.543074502964933, 0.9565929563975428 L 0.5232510923926331, 0.9675785726802327 L 0.5032055589761861, 0.9781534467635762 L 0.48294641215008605, 0.9883130895578383 L 0.4624822520288454, 0.9980531882411517 L 0.44182176575619886, 1.007369608090335 L 0.4209737238173669, 1.0162583942361014 L 0.399946976315938, 1.0247157733419245 L 0.3787504492169522, 1.0327381552058377 L 0.35739314055778426, 1.0403221342844937 L 0.3358841166284263, 1.0474644911388367 L 0.3142325081228027, 1.0541621938007704 L 0.2856659164752751, 0.9583292670916094 L 0.305349196934933, 0.9522404464898514 L 0.32490285505253114, 0.9457473948040851 L 0.34431859019722927, 0.9388528683689433 L 0.36358816028721636, 0.9315597939472041 L 0.38270338528851533, 0.9238712674873649 L 0.4016561506874535, 0.9157905528093953 L 0.420438410935314, 0.9073210802192287 L 0.43904219286371454, 0.8984664450525801 L 0.4574595990692601, 0.8892304061487055 L 0.47568281126603007, 0.8796168842547569 L 0.4937040936044845, 0.8696299603614025 L 0.5115157959553709, 0.8592738739704259 L 0.5291103571572452, 0.8485530212950352 L 0.5464803082262252, 0.8374719533936464 L 0.5636182755266119, 0.8260353742379367 L 0.5805169839010386, 0.8142481387159822 L 0.5971692597588119, 0.8021152505713333 L 0.6135680341211397, 0.7896418602788988 L 0.6297063456219499, 0.7768332628585425 L 0.6455773434630263, 0.7636948956273191 L 0.6611742903222093, 0.7502323358913043 L 0.676490565213424, 0.7364512985779998 L 0.6915196662973238, 0.7223576338103156 L 0.7062552136413558, 0.7079573244231625 L 0.7206909519280755, 0.6932564834237069 L 0.734820753110562, 0.6782613513963673 L 0.7486386190138061, 0.6629782938536534 L 0.7621386838809674, 0.6474137985339723 L 0.7753152168634188, 0.6315744726475492 L 0.7881626244535219, 0.6154670400716326 L 0.8006754528591008, 0.599098338496172 L 0.8128483903186048, 0.5824753165211837 L 0.82467626935598, 0.5656050307070323 L 0.83615406897429, 0.5484946425788845 L 0.8472769167871549, 0.5311514155866033 L 0.8580400910871054, 0.5135827120213762 L 0.8684390228499728, 0.49579598989038265 L 0.878469297674463, 0.4777987997508321 L 0.888126657656094, 0.4595987815047112 L 0.8974070031946981, 0.4412036611556064 L 0.9063063947347242, 0.42262124752897395 L 0.9148210544375995, 0.403859428957253 L 0.9229473677854423, 0.3849261699312266 L 0.9306818851154434, 0.3658295077190531 L 0.9380213230842663, 0.34657754895440424 L 0.9449625660618443, 0.32717846619515584 L 0.9515026674539806, 0.30764049445409436 L 0.9576388509531945, 0.2879719277031103 L 1.053402736048514 ,0.3167691204734214\", \"type\": \"path\"}, {\"fillcolor\": \"#e6c4a9\", \"layer\": \"below\", \"line\": {\"color\": \"rgb(150,150,150)\", \"width\": 0.45}, \"path\": \"M 0.28096541865017205, 1.063512310000563 L 0.258197620145226, 1.0692679687297013 L 0.23531213895131134, 1.0745362707987847 L 0.21231940593515605, 1.0793148149929854 L 0.18922990084729605, 1.0836014233219347 L 0.1660541475455584, 1.087394142012416 L 0.1428027091984415, 1.0906912423988677 L 0.1194861834705767, 1.0934912217112838 L 0.09611519769247055, 1.0957928037601532 L 0.07270040401672033, 1.0975949395181293 L 0.04925247456292155, 1.0988968075981607 L 0.025782096553471228, 1.0996978146278675 L 0.002299967442488847, 1.0999975955199919 L -0.021183209959926348, 1.0997960136387992 L -0.04465673236587927, 1.0990931608623549 L -0.0681099008880806, 1.0978893575406476 L -0.09153202591624279, 1.0961851523495783 L -0.11491243198924762, 1.0939813220408825 L -0.1382404626608649, 1.0912788710880965 L -0.16150548535680398, 1.0880790312287354 L -0.1846968962208867, 1.0843832609028836 L -0.20780412494812656, 1.0801932445884597 L -0.23081663960252227, 1.0755108920334557 L -0.2537239514173571, 1.0703383373855029 L -0.2765156195758261, 1.064677938219158 L -0.2513778359780237, 0.967889034744689 L -0.2306581376521428, 0.9730348521686389 L -0.20983330872956568, 0.9777371745758687 L -0.18891284086193322, 0.9819938587167814 L -0.16790626929171518, 0.9858029644571668 L -0.14682316850618543, 0.9891627556624867 L -0.12567314787351352, 0.9920717009891785 L -0.10446584726295238, 0.9945284745826203 L -0.0832109326511298, 0.9965319566814348 L -0.061918091716436904, 0.9980812341278614 L -0.0405970294235266, 0.999175600783959 L -0.019257463599933043, 0.9998145578534537 L 0.002090879493171679, 0.9999978141090835 L 0.02343826959406475, 0.9997252860253341 L 0.04477497687538322, 0.9989970978165096 L 0.06609127637883666, 0.9978135813801174 L 0.0873774524477005, 0.9961752761455936 L 0.10862380315506971, 0.9940829288284396 L 0.12982064472585592, 0.9915374930898796 L 0.15095831595050763, 0.9885401291021962 L 0.17202718258845093, 0.9850922030199405 L 0.19301764175923275, 0.9811952863572595 L 0.21392012631937393, 0.9768511552716223 L 0.23472510922293274, 0.9720617897542739 L 0.25542310786379274, 0.9668293727277846 L 0.28096541865017205 ,1.063512310000563\", \"type\": \"path\"}, {\"fillcolor\": \"#e1b396\", \"layer\": \"below\", \"line\": {\"color\": \"rgb(150,150,150)\", \"width\": 0.45}, \"path\": \"M -0.3098215180228335, 1.055467018418874 L -0.33255991950131153, 1.048524630107124 L -0.35514297106702863, 1.0410924407091255 L -0.3775601234177847, 1.033173922050275 L -0.3998009047484767, 1.0247727731367084 L -0.42185492564283134, 1.0158929184273713 L -0.4437118839266506, 1.0065385060007703 L -0.46536156948030366, 0.9967139056172682 L -0.48679386900821664, 0.9864237066778209 L -0.5079987707631315, 0.9756727160801144 L -0.528966369222932, 0.9644659559731017 L -0.5496868697178448, 0.9528086614109873 L -0.5701505930058572, 0.9407062779077588 L -0.59034797979422, 0.9281644588934029 L -0.6102695952049099, 0.9151890630730001 L -0.6299061331819817, 0.9017861516899246 L -0.6492484208387388, 0.8879619856944351 L -0.6682874227426946, 0.8737230228189751 L -0.6075340206751768, 0.7942936571081591 L -0.5902258371261261, 0.8072381688131227 L -0.572641939256347, 0.819805592445386 L -0.5547905410953725, 0.8319900573390909 L -0.5366799816311091, 0.8437858717212753 L -0.5183187209144157, 0.8551875253706898 L -0.4997153361071316, 0.8661896921918065 L -0.48087851747539273, 0.8767872327028197 L -0.46181706433011954, 0.8869751964364676 L -0.44253988091656055, 0.8967488242525643 L -0.4230559722548215, 0.9061035505611529 L -0.40337443993331873, 0.9150350054552456 L -0.3835044778571194, 0.9235390167521556 L -0.3634553679531606, 0.9316116119424621 L -0.34323647583434974, 0.9392490200457043 L -0.3228572464245715, 0.9464476733719321 L -0.30232719954664683, 0.9532042091882945 L -0.28165592547530316, 0.9595154712898852 L -0.3098215180228335 ,1.055467018418874\", \"type\": \"path\"}, {\"fillcolor\": \"#dba284\", \"layer\": \"below\", \"line\": {\"color\": \"rgb(150,150,150)\", \"width\": 0.45}, \"path\": \"M -0.6954019666120109, 0.8523004780194294 L -0.7084669983714597, 0.8414716348270657 L -0.7213634273396952, 0.8304425360593763 L -0.7340881843915146, 0.8192158064495398 L -0.7466382412566361, 0.8077941177634296 L -0.6787620375060328, 0.734358288875845 L -0.6673528949013768, 0.7447416422268544 L -0.6557849339451773, 0.7549477600539785 L -0.6440609076104178, 0.7649742134791505 L -0.6321836060109189, 0.7748186163812995 L -0.6954019666120109 ,0.8523004780194294\", \"type\": \"path\"}, {\"fillcolor\": \"#d59171\", \"layer\": \"below\", \"line\": {\"color\": \"rgb(150,150,150)\", \"width\": 0.45}, \"path\": \"M -0.7716432467737357, 0.7839430462147666 L -0.7977521405368404, 0.7573582522616952 L -0.8229456462860459, 0.7299044206324841 L -0.847194855502003, 0.7016130534781551 L -0.8704719432070845, 0.6725166139875522 L -0.7913381301882586, 0.6113787399886839 L -0.7701771413654572, 0.6378300486165045 L -0.7481324057145872, 0.6635494733022582 L -0.7252292186698549, 0.6885075020560865 L -0.701493860703396, 0.7126754965588787 L -0.7716432467737357 ,0.7839430462147666\", \"type\": \"path\"}, {\"fillcolor\": \"#d0805f\", \"layer\": \"below\", \"line\": {\"color\": \"rgb(150,150,150)\", \"width\": 0.45}, \"path\": \"M -0.8911666751877889, 0.6448425831431591 L -0.9052501580813975, 0.6249177156183083 L -0.918888239316187, 0.6046853757503964 L -0.9320742086762565, 0.5841555182659244 L -0.944801578394027, 0.5633382442761679 L -0.9570640863423576, 0.5422437963072224 L -0.9688556991156388, 0.5208825532604704 L -0.9801706149983536, 0.49926502530594863 L -0.9910032668196386, 0.47740184871112984 L -1.0013483246924482, 0.455303780607659 L -1.0112006986359683, 0.43298169369862505 L -1.0205555410799896, 0.41044657090896725 L -1.0294082492500136, 0.38770949998165105 L -1.0377544674319115, 0.3647816680222708 L -0.9434131522108284, 0.33161969820206433 L -0.935825681136376, 0.35246318180150094 L -0.9277777646181723, 0.3731332462808793 L -0.9192733623963347, 0.39361972154420455 L -0.9103166588113165, 0.41391252782514454 L -0.9009120607451259, 0.43400168064648165 L -0.8910641954530486, 0.45387729573268054 L -0.8807779082869444, 0.4735295938731549 L -0.8700582603112341, 0.4929489057338385 L -0.8589105258127517, 0.512125676614698 L -0.8473401897056876, 0.5310504711508403 L -0.8353529448328972, 0.5497139779549057 L -0.8229546891649068, 0.5681070141984621 L -0.8101515228979899, 0.5862205301301446 L -0.8911666751877889 ,0.6448425831431591\", \"type\": \"path\"}, {\"fillcolor\": \"#ca6f4c\", \"layer\": \"below\", \"line\": {\"color\": \"rgb(150,150,150)\", \"width\": 0.45}, \"path\": \"M -1.0487004673374065, 0.33200501473065913 L -1.053105897807651, 0.31775457196198037 L -1.05731769349043, 0.30344570359798706 L -1.0613350799620467, 0.2890810406131058 L -1.065157318544865, 0.2746632242407294 L -0.9683248350407863, 0.24969384021884491 L -0.9648500726927697, 0.26280094601191434 L -0.961197903173118, 0.27585973054362456 L -0.9573689980069554, 0.2888677926927094 L -0.9533640612158241, 0.30182274066423553 L -1.0487004673374065 ,0.33200501473065913\", \"type\": \"path\"}, {\"fillcolor\": \"#c45e3a\", \"layer\": \"below\", \"line\": {\"color\": \"rgb(150,150,150)\", \"width\": 0.45}, \"path\": \"M -1.0732591080714113, 0.2410702946066954 L -1.0800597533840273, 0.20849683239808378 L -1.0858720286818018, 0.17573257332227427 L -1.0906906151121396, 0.1428075001752447 L -1.0945111031538763, 0.10975174291502149 L -0.995010093776251, 0.09977431174092861 L -0.9915369228292178, 0.12982500015931336 L -0.9871563897107288, 0.15975688483843115 L -0.9818725030763883, 0.18954257490734888 L -0.9756900982467375, 0.21915481327881398 L -1.0732591080714113 ,0.2410702946066954\", \"type\": \"path\"}, {\"fillcolor\": \"#bf4d28\", \"layer\": \"below\", \"line\": {\"color\": \"rgb(150,150,150)\", \"width\": 0.45}, \"path\": \"M -1.0974184135505418, 0.07531816248563454 L -1.0995533167053158, 0.03134491541445948 L -1.0999269314857592, -0.012678540622733962 L -1.098538659427605, -0.05668168789830299 L -1.095390724295176, -0.10059404121562009 L -0.9958097493592508, -0.09144912837783643 L -0.99867150857055, -0.05152880718027544 L -0.9999335740779628, -0.011525946020667237 L -0.9995939242775598, 0.02849537764950862 L -0.9976531032277651, 0.0684710568051223 L -1.0974184135505418 ,0.07531816248563454\", \"type\": \"path\"}, {\"fillcolor\": \"#af4624\", \"layer\": \"below\", \"line\": {\"color\": \"rgb(150,150,150)\", \"width\": 0.45}, \"path\": \"M -1.0916904799034797, -0.13495145826596508 L -1.084661646392011, -0.1830549448831488 L -1.0755142715409267, -0.23080089192156525 L -1.0642662218359054, -0.27809604286851586 L -1.0509394667624261, -0.32484802169800514 L -0.9553995152385691, -0.2953163833618228 L -0.9675147471235503, -0.25281458442592347 L -0.9777402468553879, -0.2098189926559684 L -0.9860560421745552, -0.16641358625740799 L -0.992445890821345, -0.12268314387815007 L -1.0916904799034797 ,-0.13495145826596508\", \"type\": \"path\"}, {\"fillcolor\": \"#9f4021\", \"layer\": \"below\", \"line\": {\"color\": \"rgb(150,150,150)\", \"width\": 0.45}, \"path\": \"M -1.040217168629746, -0.35769853520515665 L -1.0251146438295915, -0.3989235102198537 L -1.0083790649579374, -0.4395129820091278 L -0.9900370925501486, -0.4794022897054716 L -0.9701179461992725, -0.5185278878344979 L -0.8819254056357022, -0.47138898894045256 L -0.900033720500135, -0.4358202633686105 L -0.9167082408708521, -0.39955725637193434 L -0.9319224034814468, -0.36265773656350336 L -0.9456519714815872, -0.32518048655014237 L -1.040217168629746 ,-0.35769853520515665\", \"type\": \"path\"}, {\"fillcolor\": \"#8f391e\", \"layer\": \"below\", \"line\": {\"color\": \"rgb(150,150,150)\", \"width\": 0.45}, \"path\": \"M -0.9533518969946426, -0.5487441667086006 L -0.9414987881911492, -0.568840954779627 L -0.9292221005775135, -0.5886818222081548 L -0.9165273574160032, -0.6082578426194255 L -0.9034202700514132, -0.6275602087929347 L -0.8899067353415411, -0.6465802366247831 L -0.8759928330041995, -0.6653093690346445 L -0.861684822881961, -0.6837391798155811 L -0.8469891421258652, -0.7018613774249806 L -0.8319124022993544, -0.7196678087149079 L -0.8164613864037411, -0.7371504626001948 L -0.8006430458265485, -0.7543014736626116 L -0.7844644972140896, -0.7711131256895097 L -0.7679330192697011, -0.7875778551453316 L -0.7510560494790661, -0.803688254574433 L -0.7338411807641003, -0.8194370759336871 L -0.7162961580669093, -0.8348172338533659 L -0.698428874865351, -0.8498218088248384 L -0.6802473696217738, -0.8644440503136441 L -0.6617598221665212, -0.8786773797965521 L -0.6015998383332011, -0.7987976179968655 L -0.6184066996561579, -0.7858582275578583 L -0.6349353407866827, -0.772565280749853 L -0.651178325515372, -0.7589247580485144 L -0.667128346149182, -0.7449427963033518 L -0.682778226799151, -0.7306256859767573 L -0.6981209266088192, -0.7159798683139378 L -0.7131495429218996, -0.7010119324450088 L -0.7278573143877713, -0.6857286124205559 L -0.742237624003401, -0.6701367841819952 L -0.7562840020903221, -0.6542434624680981 L -0.7699901292053319, -0.6380557976590732 L -0.7833498389836009, -0.6215810725596191 L -0.7963571209129086, -0.604826699122404 L -0.8090061230377645, -0.5878002151134392 L -0.8212911545921938, -0.5705092807208497 L -0.8332066885600029, -0.5529616751085686 L -0.8447473641613759, -0.5351652929165043 L -0.855907989264681, -0.5171281407087518 L -0.8666835427224023, -0.4988583333714551 L -0.9533518969946426 ,-0.5487441667086006\", \"type\": \"path\"}, {\"fillcolor\": \"#f0f3e7\", \"layer\": \"below\", \"line\": {\"color\": \"rgb(150,150,150)\", \"width\": 0.45}, \"path\": \"M -0.6338333601577075, -0.8990301838932828 L -0.6143963015191937, -0.9124237966425122 L -0.5946763219594858, -0.925397250968868 L -0.5746825022539234, -0.9379445727777146 L -0.5544240492774082, -0.9500599842024936 L -0.5339102917647722, -0.9617379062653484 L -0.5131506760150221, -0.972972961446168 L -0.49215476154145044, -0.9837599761588587 L -0.4709322166696147, -0.9940939831337091 L -0.449492814085207, -1.003970223704748 L -0.4278464263338704, -1.013384150001043 L -0.40600302127502513, -1.0223314270409336 L -0.38397265749181475, -1.0308079347282275 L -0.36176547965926475, -1.0388097697494485 L -0.3393917138728024, -1.0463332473712579 L -0.3168616629392835, -1.0533749031372222 L -0.2941857016326898, -1.059931494463148 L -0.27137427191669616, -1.0660000021302454 L -0.24843787813628807, -1.0715776316754373 L -0.22538708218065853, -1.0766618146781697 L -0.2022324986196054, -1.081250209943134 L -0.1789847898156702, -1.0853407045783552 L -0.15565466101426992, -1.088931414968148 L -0.13225285541407703, -1.0920206876404968 L -0.1087901492199324, -1.0946071000284554 L -0.09890013565448398, -0.9950973636622321 L -0.12022986855825184, -0.9927460796731788 L -0.1415042372856999, -0.9899376499710435 L -0.1627134452869729, -0.9866733677985047 L -0.1838477260178231, -0.98295473631194 L -0.20489734743696228, -0.9787834678892451 L -0.22585261648753457, -0.9741614833413065 L -0.24670388356063286, -0.9690909110274958 L -0.2674415469388089, -0.9635740858755889 L -0.2880560572175304, -0.9576135483065655 L -0.3085379217025476, -0.9512120430647798 L -0.32887770878114975, -0.9443725179540441 L -0.3490660522652861, -0.9370981224802067 L -0.36909365570456826, -0.9293922064008486 L -0.38895129666715483, -0.9212583181827663 L -0.4086298309865518, -0.9127002033679527 L -0.42812019697237697, -0.9037218028488264 L -0.44741341958313674, -0.8943272510535079 L -0.4665006145591109, -0.8845208740419708 L -0.4853729925134293, -0.874307187513953 L -0.5040218629794619, -0.8636908947295395 L -0.5224386384126576, -0.8526768843433769 L -0.5406148381449871, -0.8412702281535164 L -0.558542092290176, -0.8294761787659201 L -0.5762121455979159, -0.8173001671757116 L -0.6338333601577075 ,-0.8990301838932828\", \"type\": \"path\"}, {\"fillcolor\": \"#e2ecde\", \"layer\": \"below\", \"line\": {\"color\": \"rgb(150,150,150)\", \"width\": 0.45}, \"path\": \"M -0.074354027944287, -1.0974841586685706 L -0.06139561493438028, -1.098285290107643 L -0.04842864904447896, -1.0989334219832096 L -0.03545493667237332, -1.0994284640055296 L -0.022476285155690348, -1.0997703472114533 L -0.020432986505173042, -0.9997912247376847 L -0.032231760611248474, -0.9994804218232087 L -0.04402604458588996, -0.9990303836210995 L -0.05581419539489116, -0.9984411728251299 L -0.06759457085844273, -0.9977128715168824 L -0.074354027944287 ,-1.0974841586685706\", \"type\": \"path\"}, {\"fillcolor\": \"#d4e5d6\", \"layer\": \"below\", \"line\": {\"color\": \"rgb(150,150,150)\", \"width\": 0.45}, \"path\": \"M 0.01207942695176485, -1.0999336741115426 L 0.0355157865208012, -1.099426500002528 L 0.05893601663426789, -1.098420022552068 L 0.08232948102029576, -1.0969146988507943 L 0.10568555556264445, -1.0949112125398184 L 0.1289936331256272, -1.0924104735002549 L 0.1522431283713339, -1.0894136174400015 L 0.17542348256694867, -1.085922005377957 L 0.19852416837999087, -1.0819372230259172 L 0.22153469465928557, -1.0774610800684252 L 0.24444461119951238, -1.072495609340905 L 0.26724351348715286, -1.0670430659064525 L 0.28992104742569275, -1.0611059260316988 L 0.31246691403791765, -1.0546868860622192 L 0.33487087414318645, -1.0477888611979889 L 0.3571227530075417, -1.0404149841694488 L 0.37921244496455797, -1.032568603814779 L 0.4011299180048134, -1.0242532835590286 L 0.42286521833191953, -1.0154727997957889 L 0.44440847488302615, -1.0062311401721489 L 0.465749903811753, -0.9965325017777107 L 0.48687981293151605, -0.9863812892384831 L 0.5077886061172183, -0.9757821127165288 L 0.5284667876633232, -0.9647397858162626 L 0.5489049665963168, -0.9532593233983586 L 0.569093860939612, -0.9413459393022555 L 0.5890243019289423, -0.9290050439782996 L 0.6086872381763502, -0.9162422420305928 L 0.6280737397808637, -0.9030633296716682 L 0.6471750023840005, -0.8894742920901476 L 0.6659823511682608, -0.8754813007325716 L 0.6054385010620552, -0.795892091575065 L 0.5883409112581822, -0.808612992809225 L 0.5709761270735124, -0.8209666633378802 L 0.5533520347057729, -0.8329474927550843 L 0.5354766381172202, -0.8445500399802723 L 0.5173580553996472, -0.8557690357293232 L 0.4990045150875607, -0.8665993849075987 L 0.4804243524212029, -0.877036168923875 L 0.46162600556110756, -0.887074647924117 L 0.44261801175592363, -0.8967102629440755 L 0.42340900346522997, -0.905938637979737 L 0.40400770443911466, -0.9147555819746808 L 0.38442292575629045, -0.9231570907234443 L 0.3646635618225576, -0.9311393486900259 L 0.3447385863314163, -0.9386987307407082 L 0.32465704818867425, -0.945831803790408 L 0.30442806740289674, -0.952535328361808 L 0.2840608309435615, -0.9588062600565629 L 0.26356458856881154, -0.964641750937908 L 0.2429486486246844, -0.9700391508240477 L 0.22222237381773852, -0.9749960084917318 L 0.20139517696298687, -0.9795100727894773 L 0.1804765167090826, -0.9835792936599246 L 0.1594758932426806, -0.9872018230708699 L 0.1384028439739399, -0.9903760158545467 L 0.11726693920511563, -0.9931004304547771 L 0.09607777778422222, -0.995373829581653 L 0.07484498274572342, -0.9971951807734494 L 0.05357819694024353, -0.9985636568655163 L 0.03228707865527382, -0.9994786363659346 L 0.010981297228877135, -0.9999397037377659 L 0.01207942695176485 ,-1.0999336741115426\", \"type\": \"path\"}, {\"fillcolor\": \"#c6decd\", \"layer\": \"below\", \"line\": {\"color\": \"rgb(150,150,150)\", \"width\": 0.45}, \"path\": \"M 0.6931532612951881, -0.8541302923768977 L 0.7112683187556563, -0.8391051058922847 L 0.72905777313618, -0.8236957954425375 L 0.746513480813624, -0.8079094150729567 L 0.7636274509467927, -0.7917531914432072 L 0.7803918491344634, -0.7752345205191091 L 0.796799001001807, -0.758360964186925 L 0.8128413957135433, -0.7411402467916981 L 0.8285116894122432, -0.7235802516012104 L 0.8438027085801808, -0.7056890171972006 L 0.8587074533232154, -0.6874747337954742 L 0.8732191005751913, -0.6689457394966009 L 0.887331007221385, -0.6501105164689174 L 0.9010367131395796, -0.6309776870655754 L 0.9143299441573686, -0.6115560098774139 L 0.9272046149243316, -0.5918543757234731 L 0.939654831697779, -0.5718818035809664 L 0.9516748950407736, -0.5516474364565946 L 0.9632593024312118, -0.5311605372010757 L 0.9744027507807574, -0.5104304842688115 L 0.8858206825279612, -0.4640277129716468 L 0.8756902749374652, -0.48287321563734154 L 0.8651589954916123, -0.5014976695059951 L 0.854231665179799, -0.5198925487099694 L 0.8429132862948469, -0.5380494324758845 L 0.8312090401430623, -0.5559600089794671 L 0.819124284672345, -0.573616079150523 L 0.8066645520194409, -0.5910095604262885 L 0.7938355459774465, -0.6081324904514552 L 0.7806431393847412, -0.6249770307231584 L 0.7670933714365279, -0.6415354701792731 L 0.753192444920221, -0.6578002287283731 L 0.7389467233759484, -0.6737638607197255 L 0.7243627281834608, -0.68941905835175 L 0.7094471355767848, -0.7047586550173719 L 0.6942067735879933, -0.7197756285847338 L 0.6786486189214763, -0.7344631046117788 L 0.6627797937601636, -0.7488143594932158 L 0.6466075625051421, -0.7628228235384406 L 0.630139328450171, -0.7764820839789979 L 0.6931532612951881 ,-0.8541302923768977\", \"type\": \"path\"}, {\"fillcolor\": \"#b8d7c5\", \"layer\": \"below\", \"line\": {\"color\": \"rgb(150,150,150)\", \"width\": 0.45}, \"path\": \"M 0.9899549508112818, -0.47957188758749475 L 1.009170901045598, -0.43769177794746855 L 1.0266160513210034, -0.39504364717088053 L 1.0422597904978392, -0.35170233026154485 L 1.0560746683863875, -0.30774387856232294 L 0.9600678803512613, -0.2797671623293845 L 0.947508900452581, -0.31972939114685894 L 0.9332873193827302, -0.3591305883371641 L 0.9174280918596345, -0.39790161631588045 L 0.8999590461920743, -0.4359744432613588 L 0.9899549508112818 ,-0.47957188758749475\", \"type\": \"path\"}, {\"fillcolor\": \"#aad0bc\", \"layer\": \"below\", \"line\": {\"color\": \"rgb(150,150,150)\", \"width\": 0.45}, \"path\": \"M 1.0652200281155486, -0.27441991855823794 L 1.073192354568474, -0.2413672929287951 L 1.080139353001434, -0.2080840649776999 L 1.0860543862518381, -0.17460203350231404 L 1.0909318030966744, -0.1409531872368947 L 0.9917561846333403, -0.12813926112444973 L 0.9873221693198528, -0.15872912136574002 L 0.9819448663649399, -0.18916733179790898 L 0.9756294132440673, -0.21942481175345008 L 0.9683818437414078, -0.24947265323476173 L 1.0652200281155486 ,-0.27441991855823794\", \"type\": \"path\"}, {\"fillcolor\": \"#9cc9b4\", \"layer\": \"below\", \"line\": {\"color\": \"rgb(150,150,150)\", \"width\": 0.45}, \"path\": \"M 1.0948209407123348, -0.10661663930999804 L 1.0964234919305225, -0.08863140720354155 L 1.097730609805143, -0.07062229320001895 L 1.0987419421308606, -0.05259414988860109 L 1.0994572164023046, -0.03455183498594413 L 0.9995065603657315, -0.031410759078131026 L 0.998856311028055, -0.04781286353509189 L 0.9979369180046752, -0.06420208472728994 L 0.9967486290277475, -0.08057400654867414 L 0.9952917642839407, -0.09692421755454367 L 1.0948209407123348 ,-0.10661663930999804\", \"type\": \"path\"}], \"showlegend\": false, \"title\": \"PoC Chord Diagram \\u2012 <br>Selected Techologies Commonly Occurring Together\", \"titlefont\": {\"color\": \"#655643\", \"family\": \"Merryweather\", \"size\": 18}, \"xaxis\": {\"showgrid\": false, \"showline\": false, \"showticklabels\": false, \"title\": \"\", \"zeroline\": false}, \"yaxis\": {\"showgrid\": false, \"showline\": false, \"showticklabels\": false, \"title\": \"\", \"zeroline\": false}}, {\"showLink\": true, \"linkText\": \"Export to plot.ly\", \"plotlyServerURL\": \"https://plot.ly\"})});</script><script type=\"text/javascript\">window.addEventListener(\"resize\", function(){window._Plotly.Plots.resize(document.getElementById(\"040fb939-1706-4398-875e-195df7c3a968\"));});</script>"
      ]
     },
     "metadata": {},
     "output_type": "display_data"
    }
   ],
   "source": [
    "fig = go.Figure(data=data, layout=layout)\n",
    "\n",
    "plotly.offline.iplot(fig, filename = 'data_offers_tech_requirements_chord.html')"
   ]
  },
  {
   "cell_type": "code",
   "execution_count": 32,
   "metadata": {},
   "outputs": [
    {
     "data": {
      "text/plain": [
       "'file:///data/WORKSPACE/jpynb_Employment_Trends_Bulgaria/workbooks/data_offers_tech_requirements_chord.html'"
      ]
     },
     "execution_count": 32,
     "metadata": {},
     "output_type": "execute_result"
    }
   ],
   "source": [
    "# Uncomment the line below to export an HTML version of the chart.\n",
    "#plotly.offline.plot(fig, filename = 'data_offers_tech_requirements_chord.html')"
   ]
  },
  {
   "cell_type": "code",
   "execution_count": null,
   "metadata": {},
   "outputs": [],
   "source": []
  },
  {
   "cell_type": "code",
   "execution_count": 31,
   "metadata": {},
   "outputs": [
    {
     "data": {
      "text/html": [
       "<style>\n",
       "@import url('https://fonts.googleapis.com/css?family=Fira+Mono|Fira+Sans|Fira+Sans+Condensed|Fira+Sans+Extra+Condensed');\n",
       "@import url('https://fonts.googleapis.com/css?family=Merriweather|Merriweather+Sans');\n",
       "\n",
       ".nbviewer {\n",
       "    background-color: #FFFAF0;\n",
       "}\n",
       "\n",
       "#notebook-container {\n",
       "    background-color: #FFFAF0\n",
       "}\n",
       "\n",
       "/* Headings */\n",
       ".text_cell_render h1 {\n",
       "    color: #655643;\n",
       "    font-family: 'Merriweather', serif;\n",
       "    font-weight: 900;\n",
       "    font-size: 3.2em;\n",
       "    text-shadow: 0 2px #FFFAF0, 0 3px #8c8b8b;\n",
       "    padding: 30px 0 20px 0;\n",
       "}\n",
       "\n",
       ".text_cell_render h2 {\n",
       "    color: #655643;\n",
       "    font-family: 'Merriweather', serif;\n",
       "    font-weight: 400;\n",
       "    font-size: 2.4em;\n",
       "    padding: 34px 0 6px 0;\n",
       "    margin-bottom: 26px;\n",
       "    border-bottom: 2px solid #655643;\n",
       "}\n",
       "\n",
       ".text_cell_render h3 {\n",
       "    color: #655643;\n",
       "    font-family: 'Merriweather', serif;\n",
       "    font-weight: 100;\n",
       "    font-size: 1.6em;\n",
       "    padding: 6px 0 0 0;\n",
       "}\n",
       "\n",
       ".text_cell_render h4 {\n",
       "    color: #655643;\n",
       "    font-family: 'Merriweather', serif;\n",
       "    font-weight: 100;\n",
       "    font-size: 1.4em;\n",
       "}\n",
       "\n",
       "/* Use for subtitles and other non-headings */\n",
       "div.rendered_html > h5 {\n",
       "    color: #655643;\n",
       "    font-family: 'Merriweather Sans', sans-serif;\n",
       "    font-size: 1.0em;\n",
       "    font-weight: normal;\n",
       "    font-style: normal;\n",
       "    margin-top: 0.5em;\n",
       "    padding: 8px 0 8px 0;\n",
       "    border-bottom: 2px solid #655643;\n",
       "    border-top: 2px solid #655643;\n",
       "}\n",
       "\n",
       "/* Use for image and chart captions */\n",
       "div.rendered_html > h6 {\n",
       "    font-family: 'Merriweather Sans', sans-serif;\n",
       "    font-size: 0.9em;\n",
       "    line-height: 1.5em;\n",
       "    color: #cac8c9;\n",
       "    font-weight: normal;\n",
       "    max-width: 520px;\n",
       "    display: block;\n",
       "    margin-left: auto;\n",
       "    margin-right: auto;\n",
       "}\n",
       "\n",
       "div#notebook-container p {\n",
       "    font-family: 'Fira Sans Condensed', sans-serif;\n",
       "    font-size: 1.2em;\n",
       "    line-height: 1.3em;\n",
       "    text-indent: 1em;\n",
       "    color: #40362F;\n",
       "}\n",
       "\n",
       "/* Lists */\n",
       "ol, ul {\n",
       "    font-family: 'Fira Sans Condensed', sans-serif;\n",
       "    line-height: 1.4em;\n",
       "    color: #40362F;\n",
       "}\n",
       "\n",
       "\n",
       "div.input_prompt {\n",
       "    color: #40362F;\n",
       "}\n",
       "\n",
       "div.output_prompt {\n",
       "    color: #40362F;\n",
       "}\n",
       "\n",
       "div.text_cell code {\n",
       "    background: transparent;\n",
       "    color: #40362F;\n",
       "    font-family: 'Fira Mono', monospace;\n",
       "}\n",
       "\n",
       "div.input_area {\n",
       "    background-color: #FFFAF0;\n",
       "    border: 1px solid #E5E1D8;\n",
       "    background: repeating-linear-gradient(135deg, #FFFAF0, #FFFAF0 5px, #F7F7ED 5px, #F7F7ED 10px);\n",
       "}\n",
       "\n",
       "div.cell.rendered.selected {\n",
       "    background: #E5E1D8;\n",
       "    border: 1px solid #38614F;\n",
       "}\n",
       "\n",
       "div.output_area img {\n",
       "    display: block;\n",
       "    margin-left: auto;\n",
       "    margin-right: auto;\n",
       "}\n",
       "\n",
       "div.rendered_html pre, code {\n",
       "    font-family: 'Fira Sans Condensed', sans-serif;\n",
       "    font-size: 16px;\n",
       "    font-weight: 400;\n",
       "    color: #40362F;\n",
       "    background-color: #E5E1D8;\n",
       "}\n",
       "\n",
       "div.output_text pre {\n",
       "    font-family: 'Fira Sans Condensed', sans-serif;\n",
       "    font-size: 13px;\n",
       "    font-weight: 300;\n",
       "    color: #40362F;\n",
       "}\n",
       "\n",
       "pre, textarea {\n",
       "    overflow: hidden;\n",
       "}\n",
       "\n",
       "div.text_cell_render img {\n",
       "    max-height: 520px;\n",
       "    display: block;\n",
       "    margin-left: auto;\n",
       "    margin-right: auto;\n",
       "}\n",
       "\n",
       "div.output output_scroll {\n",
       "    overflow-x: auto;\n",
       "    overflow-y: scroll;\n",
       "    max-height: 2000px;\n",
       "}\n",
       "\n",
       "div.rendered_html hr {\n",
       "    border: 0;\n",
       "    height: 2px;\n",
       "    background-color: #655643;\n",
       "}\n",
       "\n",
       "div.rendered_html pre, code {\n",
       "    font-family: 'Fira Sans Condensed', sans-serif;\n",
       "    font-size: 16px;\n",
       "    color: #40362F;\n",
       "    background-color: #FFFAF0;\n",
       "}\n",
       "\n",
       "/* Links */\n",
       "a.link--embedview {\n",
       "    display: none;\n",
       "}\n",
       "\n",
       "a:link {\n",
       "    color: #293C34;\n",
       "}\n",
       "\n",
       "a:visited {\n",
       "    color: #293C34;\n",
       "}\n",
       "\n",
       "a:hover {\n",
       "    color: #557C6C;\n",
       "}\n",
       "\n",
       "a:focus {\n",
       "    color:#557C6C;\n",
       "}\n",
       "\n",
       "a:active {\n",
       "    font-weight: bold;\n",
       "    color:#80BCA3;\n",
       "}\n",
       "\n",
       ".rendered_html :link {\n",
       "    text-decoration: underline;\n",
       "}\n",
       "\n",
       "/* Colors for code highlighting */\n",
       ".CodeMirror-code span.cm-keyword {\n",
       "    color: #557C6C;\n",
       "}\n",
       "\n",
       ".CodeMirror-code span.cm-variable {\n",
       "    color: #4C4138;\n",
       "}\n",
       "\n",
       ".CodeMirror-code span.cm-property {\n",
       "    color: #40362F;\n",
       "}\n",
       "\n",
       ".CodeMirror-code span.cm-operator {\n",
       "    color: #4C4138;\n",
       "}\n",
       "\n",
       ".CodeMirror-code span.cm-string {\n",
       "    color: #7F331B;\n",
       "}\n",
       "\n",
       ".CodeMirror-code span.cm-number {\n",
       "    color: #458C7A;\n",
       "}\n",
       "\n",
       ".CodeMirror-code span.cm-comment {\n",
       "    color: #557C6C;\n",
       "}\n",
       "\n",
       ".CodeMirror-code span.cm-builtin {\n",
       "    color: #557C6C;\n",
       "}\n",
       "\n",
       "/* Code with no class applied (brackets mostly) */\n",
       ".CodeMirror-line > span {\n",
       "    color: #557C6C;\n",
       "}\n",
       "\n",
       "/* Table styles */\n",
       "table {\n",
       "    border: 1px solid #BF4D28;\n",
       "}\n",
       "\n",
       ".rendered_html table {\n",
       "    float:left;\n",
       "    width:100%;\n",
       "    border-collapse: collapse;\n",
       "}\n",
       "\n",
       ".rendered_html table th {\n",
       "    text-align: left;\n",
       "    background-color: #E5E1D8;\n",
       "}\n",
       "\n",
       ".rendered_html td {\n",
       "    text-align: left;\n",
       "}\n",
       "\n",
       ".rendered_html table tr:nth-child(odd) {\n",
       "    background-color: #F0E4D5;\n",
       "}\n",
       "\n",
       ".rendered_html table tr:nth-child(even) {\n",
       "    background-color: #F5EDE1;\n",
       "}\n",
       "\n",
       ".rendered_html table tr:hover {\n",
       "    background-color: #BF4D28;\n",
       "}\n",
       "\n",
       "iframe {\n",
       "    border-width: 0;\n",
       "}\n",
       "</style>\n"
      ],
      "text/plain": [
       "<IPython.core.display.HTML object>"
      ]
     },
     "execution_count": 31,
     "metadata": {},
     "output_type": "execute_result"
    }
   ],
   "source": [
    "from IPython.core.display import HTML\n",
    "with open('../resources/styles/datum.css', 'r') as f:\n",
    "    style = f.read()\n",
    "HTML(style)"
   ]
  },
  {
   "cell_type": "markdown",
   "metadata": {},
   "source": [
    "### Resources:\n",
    "\n",
    "- https://plot.ly/python/filled-chord-diagram/\n",
    "- https://hci.stanford.edu/courses/cs448b/f11/lectures/CS448B-20111117-Text.pdf"
   ]
  },
  {
   "cell_type": "code",
   "execution_count": null,
   "metadata": {},
   "outputs": [],
   "source": []
  }
 ],
 "metadata": {
  "kernelspec": {
   "display_name": "Python 3",
   "language": "python",
   "name": "python3"
  },
  "language_info": {
   "codemirror_mode": {
    "name": "ipython",
    "version": 3
   },
   "file_extension": ".py",
   "mimetype": "text/x-python",
   "name": "python",
   "nbconvert_exporter": "python",
   "pygments_lexer": "ipython3",
   "version": "3.7.1"
  }
 },
 "nbformat": 4,
 "nbformat_minor": 2
}
