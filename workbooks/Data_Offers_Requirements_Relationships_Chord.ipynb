{
 "cells": [
  {
   "cell_type": "markdown",
   "metadata": {},
   "source": [
    "## Requirements Relationships Chord Diagram\n"
   ]
  },
  {
   "cell_type": "code",
   "execution_count": 1,
   "metadata": {},
   "outputs": [
    {
     "data": {
      "text/html": [
       "<script type=\"text/javascript\">window.PlotlyConfig = {MathJaxConfig: 'local'};</script><script type=\"text/javascript\">if (window.MathJax) {MathJax.Hub.Config({SVG: {font: \"STIX-Web\"}});}</script><script>requirejs.config({paths: { 'plotly': ['https://cdn.plot.ly/plotly-latest.min']},});if(!window._Plotly) {require(['plotly'],function(plotly) {window._Plotly=plotly;});}</script>"
      ],
      "text/vnd.plotly.v1+html": [
       "<script type=\"text/javascript\">window.PlotlyConfig = {MathJaxConfig: 'local'};</script><script type=\"text/javascript\">if (window.MathJax) {MathJax.Hub.Config({SVG: {font: \"STIX-Web\"}});}</script><script>requirejs.config({paths: { 'plotly': ['https://cdn.plot.ly/plotly-latest.min']},});if(!window._Plotly) {require(['plotly'],function(plotly) {window._Plotly=plotly;});}</script>"
      ]
     },
     "metadata": {},
     "output_type": "display_data"
    }
   ],
   "source": [
    "import re\n",
    "from itertools import combinations\n",
    "import psycopg2\n",
    "import numpy as np\n",
    "import pandas as pd\n",
    "import plotly\n",
    "import plotly.plotly as py\n",
    "import plotly.graph_objs as go\n",
    "from IPython import display\n",
    "from bs4 import BeautifulSoup as bs\n",
    "\n",
    "from nbstyler import DATA_STYLE as DS\n",
    "\n",
    "plotly.offline.init_notebook_mode(connected=True)\n",
    "\n",
    "%matplotlib notebook\n",
    "%matplotlib inline"
   ]
  },
  {
   "cell_type": "markdown",
   "metadata": {},
   "source": [
    "### Objectives\n",
    "\n",
    "The main objective for this recipe is to try the plotly implementation of the chord diagram and to provide a clean recipe for preparing such charts in the future. \n",
    "\n",
    "\n",
    "### Data Preparation"
   ]
  },
  {
   "cell_type": "code",
   "execution_count": 2,
   "metadata": {},
   "outputs": [],
   "source": [
    "data_querystr = \"\"\"SELECT * FROM v_full_data_offers_history_tsv\"\"\"\n",
    "conn = psycopg2.connect('dbname=jobsbg')\n",
    "data_df = pd.read_sql_query(data_querystr, conn, index_col='subm_date')\n",
    "conn.close()"
   ]
  },
  {
   "cell_type": "code",
   "execution_count": 3,
   "metadata": {},
   "outputs": [
    {
     "data": {
      "text/html": [
       "<div>\n",
       "<style scoped>\n",
       "    .dataframe tbody tr th:only-of-type {\n",
       "        vertical-align: middle;\n",
       "    }\n",
       "\n",
       "    .dataframe tbody tr th {\n",
       "        vertical-align: top;\n",
       "    }\n",
       "\n",
       "    .dataframe thead th {\n",
       "        text-align: right;\n",
       "    }\n",
       "</style>\n",
       "<table border=\"1\" class=\"dataframe\">\n",
       "  <thead>\n",
       "    <tr style=\"text-align: right;\">\n",
       "      <th></th>\n",
       "      <th>subm_type</th>\n",
       "      <th>job_id</th>\n",
       "      <th>company_id</th>\n",
       "      <th>norm_salary</th>\n",
       "      <th>job_title</th>\n",
       "      <th>company_name</th>\n",
       "      <th>text_salary</th>\n",
       "      <th>job_location</th>\n",
       "      <th>job_contents</th>\n",
       "    </tr>\n",
       "    <tr>\n",
       "      <th>subm_date</th>\n",
       "      <th></th>\n",
       "      <th></th>\n",
       "      <th></th>\n",
       "      <th></th>\n",
       "      <th></th>\n",
       "      <th></th>\n",
       "      <th></th>\n",
       "      <th></th>\n",
       "      <th></th>\n",
       "    </tr>\n",
       "  </thead>\n",
       "  <tbody>\n",
       "    <tr>\n",
       "      <th>2017-09-27</th>\n",
       "      <td>submission</td>\n",
       "      <td>3994555</td>\n",
       "      <td>67058</td>\n",
       "      <td>NaN</td>\n",
       "      <td>ETL Developer</td>\n",
       "      <td>Adastra Bulgaria Ltd.</td>\n",
       "      <td>None</td>\n",
       "      <td>София</td>\n",
       "      <td>&lt;!DOCTYPE html PUBLIC \"-//W3C//DTD XHTML 1.0 ...</td>\n",
       "    </tr>\n",
       "  </tbody>\n",
       "</table>\n",
       "</div>"
      ],
      "text/plain": [
       "             subm_type   job_id  company_id  norm_salary      job_title  \\\n",
       "subm_date                                                                 \n",
       "2017-09-27  submission  3994555       67058          NaN  ETL Developer   \n",
       "\n",
       "                     company_name text_salary job_location  \\\n",
       "subm_date                                                    \n",
       "2017-09-27  Adastra Bulgaria Ltd.        None        София   \n",
       "\n",
       "                                                 job_contents  \n",
       "subm_date                                                      \n",
       "2017-09-27   <!DOCTYPE html PUBLIC \"-//W3C//DTD XHTML 1.0 ...  "
      ]
     },
     "execution_count": 3,
     "metadata": {},
     "output_type": "execute_result"
    }
   ],
   "source": [
    "data_df.head(1)"
   ]
  },
  {
   "cell_type": "markdown",
   "metadata": {},
   "source": [
    "### Relationship Categories Definition"
   ]
  },
  {
   "cell_type": "markdown",
   "metadata": {},
   "source": [
    "In order to build the necessary data we first need to define the scope of the relationships we aim to observe. The search strings we will compare should be of the same semantic category to provide meaningful insight.\n",
    "\n",
    "To explore the data and prepare proper definitions we took a deep dive in the data offers' text contents. We used the `nltk` library for text processing to produce frequency distributions of most common words, bigrams and trigrams. Then those distributions were used to explore different possible relationship categories. See the details in the [Requirements Deep Dive Notebook](./Data_Offers_Requirements_Deep_Dive.ipynb).\n",
    "\n",
    "For the first chord diagram the chosen view is a breakdown by technology. Other possible relationships to explore are skill requirements breakdown, perks & benefits breakdown, job title breakdown, etc."
   ]
  },
  {
   "cell_type": "markdown",
   "metadata": {},
   "source": [
    "### Data Jobs Technology Requirement Relationships"
   ]
  },
  {
   "cell_type": "markdown",
   "metadata": {},
   "source": [
    "A preliminary list of terms that describe most often sought categories is presented below. We are going to use it to construct regex filters for selected key technologies."
   ]
  },
  {
   "cell_type": "code",
   "execution_count": 4,
   "metadata": {},
   "outputs": [],
   "source": [
    "tech_terms_filters = [\n",
    "    r'power bi', r'excel', r'ss[ir]s',\n",
    "    r'sql server', r'postgresql', r'(mysql)|(mariadb)', r't.?sql', r'pl.?sql',\n",
    "    r'pentaho', r'hadoop', r'spark', r'informatica',\n",
    "    r'qlik', r'tableau', r'microstrategy', r'oracle (bi)|(business intelligence)',\n",
    "    r'python', r'vba', r'linux', r'aws']\n",
    "\n",
    "tech_terms_labels = [\n",
    "    'Power BI', 'Excel', 'SSIS/SSRS',\n",
    "    'MS SQL Server', 'PostgreSQL', 'MySQL/MariaDB', 'T-SQL', 'PL/SQL',\n",
    "    'Pentaho', 'Hadoop', 'Spark', 'Informatica',\n",
    "    'Qlik', 'Tableau', 'Microstrategy', 'Oracle BI',\n",
    "    'Python', 'VBA', 'Linux', 'AWS']"
   ]
  },
  {
   "cell_type": "markdown",
   "metadata": {},
   "source": [
    "#### Preparing a square matrix with counts for matching filters"
   ]
  },
  {
   "cell_type": "markdown",
   "metadata": {},
   "source": [
    "First we define a helper function that returns `True` for job offers where both of the provided patterns are found in the job contents. We also prepare a list of all possible filter patterns' combinations."
   ]
  },
  {
   "cell_type": "code",
   "execution_count": 5,
   "metadata": {},
   "outputs": [],
   "source": [
    "def match_terms(first_term, second_term, text):\n",
    "    match_found = re.search(first_term, text, re.IGNORECASE) and re.search(second_term, text, re.IGNORECASE)\n",
    "    return True if match_found else False\n",
    "\n",
    "    \n",
    "def count_matches(first_term, second_term, col):\n",
    "    return sum([match_terms(first_term, second_term, t) for t in col.values])\n",
    "\n",
    "req_combinations = list(combinations(tech_terms_filters, 2))"
   ]
  },
  {
   "cell_type": "markdown",
   "metadata": {},
   "source": [
    "Building the counts in a dictionary with keys composed of tuples with both search terms. "
   ]
  },
  {
   "cell_type": "code",
   "execution_count": 6,
   "metadata": {},
   "outputs": [
    {
     "name": "stdout",
     "output_type": "stream",
     "text": [
      "CPU times: user 2min 24s, sys: 10 ms, total: 2min 24s\n",
      "Wall time: 2min 24s\n"
     ]
    }
   ],
   "source": [
    "%%time\n",
    "match_results = [count_matches(*tup, data_df.job_contents) for tup in req_combinations]\n",
    "match_dict = dict(zip(req_combinations, match_results))"
   ]
  },
  {
   "cell_type": "markdown",
   "metadata": {},
   "source": [
    "Another helper function will unpack the combinations counts into a square matrix form. Finally, a DataFrame is created from the combinations counts matrix. This is our main data source for the chord diagram. "
   ]
  },
  {
   "cell_type": "code",
   "execution_count": 7,
   "metadata": {},
   "outputs": [],
   "source": [
    "def make_matrix(headers, counts):\n",
    "    res = []\n",
    "    for k1 in headers:\n",
    "        row = []\n",
    "        for k2 in headers:\n",
    "            if k1 == k2:\n",
    "                row.append(0)\n",
    "            else:\n",
    "                curr_key = tuple([k1, k2])\n",
    "                cell_value = counts.get(curr_key) if curr_key in counts else counts.get(tuple([k2, k1]))\n",
    "                row.append(cell_value)\n",
    "        res.append(row)\n",
    "    return np.array(res, dtype=int)  "
   ]
  },
  {
   "cell_type": "code",
   "execution_count": 8,
   "metadata": {},
   "outputs": [],
   "source": [
    "tech_terms_matrix = make_matrix(tech_terms_filters, match_dict)"
   ]
  },
  {
   "cell_type": "code",
   "execution_count": 9,
   "metadata": {},
   "outputs": [
    {
     "data": {
      "text/html": [
       "<div>\n",
       "<style scoped>\n",
       "    .dataframe tbody tr th:only-of-type {\n",
       "        vertical-align: middle;\n",
       "    }\n",
       "\n",
       "    .dataframe tbody tr th {\n",
       "        vertical-align: top;\n",
       "    }\n",
       "\n",
       "    .dataframe thead th {\n",
       "        text-align: right;\n",
       "    }\n",
       "</style>\n",
       "<table border=\"1\" class=\"dataframe\">\n",
       "  <thead>\n",
       "    <tr style=\"text-align: right;\">\n",
       "      <th></th>\n",
       "      <th>Power BI</th>\n",
       "      <th>Excel</th>\n",
       "      <th>SSIS/SSRS</th>\n",
       "      <th>MS SQL Server</th>\n",
       "      <th>PostgreSQL</th>\n",
       "      <th>MySQL/MariaDB</th>\n",
       "      <th>T-SQL</th>\n",
       "      <th>PL/SQL</th>\n",
       "      <th>Pentaho</th>\n",
       "      <th>Hadoop</th>\n",
       "      <th>Spark</th>\n",
       "      <th>Informatica</th>\n",
       "      <th>Qlik</th>\n",
       "      <th>Tableau</th>\n",
       "      <th>Microstrategy</th>\n",
       "      <th>Oracle BI</th>\n",
       "      <th>Python</th>\n",
       "      <th>VBA</th>\n",
       "      <th>Linux</th>\n",
       "      <th>AWS</th>\n",
       "    </tr>\n",
       "  </thead>\n",
       "  <tbody>\n",
       "    <tr>\n",
       "      <th>Power BI</th>\n",
       "      <td>0</td>\n",
       "      <td>176</td>\n",
       "      <td>107</td>\n",
       "      <td>108</td>\n",
       "      <td>0</td>\n",
       "      <td>5</td>\n",
       "      <td>38</td>\n",
       "      <td>5</td>\n",
       "      <td>8</td>\n",
       "      <td>19</td>\n",
       "      <td>24</td>\n",
       "      <td>10</td>\n",
       "      <td>138</td>\n",
       "      <td>149</td>\n",
       "      <td>18</td>\n",
       "      <td>120</td>\n",
       "      <td>63</td>\n",
       "      <td>27</td>\n",
       "      <td>4</td>\n",
       "      <td>5</td>\n",
       "    </tr>\n",
       "    <tr>\n",
       "      <th>Excel</th>\n",
       "      <td>176</td>\n",
       "      <td>0</td>\n",
       "      <td>488</td>\n",
       "      <td>236</td>\n",
       "      <td>56</td>\n",
       "      <td>96</td>\n",
       "      <td>167</td>\n",
       "      <td>50</td>\n",
       "      <td>60</td>\n",
       "      <td>70</td>\n",
       "      <td>74</td>\n",
       "      <td>114</td>\n",
       "      <td>355</td>\n",
       "      <td>386</td>\n",
       "      <td>33</td>\n",
       "      <td>524</td>\n",
       "      <td>297</td>\n",
       "      <td>210</td>\n",
       "      <td>65</td>\n",
       "      <td>46</td>\n",
       "    </tr>\n",
       "    <tr>\n",
       "      <th>SSIS/SSRS</th>\n",
       "      <td>107</td>\n",
       "      <td>488</td>\n",
       "      <td>0</td>\n",
       "      <td>226</td>\n",
       "      <td>31</td>\n",
       "      <td>55</td>\n",
       "      <td>110</td>\n",
       "      <td>26</td>\n",
       "      <td>31</td>\n",
       "      <td>31</td>\n",
       "      <td>36</td>\n",
       "      <td>64</td>\n",
       "      <td>67</td>\n",
       "      <td>128</td>\n",
       "      <td>22</td>\n",
       "      <td>220</td>\n",
       "      <td>133</td>\n",
       "      <td>63</td>\n",
       "      <td>15</td>\n",
       "      <td>26</td>\n",
       "    </tr>\n",
       "    <tr>\n",
       "      <th>MS SQL Server</th>\n",
       "      <td>108</td>\n",
       "      <td>236</td>\n",
       "      <td>226</td>\n",
       "      <td>0</td>\n",
       "      <td>55</td>\n",
       "      <td>66</td>\n",
       "      <td>153</td>\n",
       "      <td>10</td>\n",
       "      <td>43</td>\n",
       "      <td>26</td>\n",
       "      <td>22</td>\n",
       "      <td>55</td>\n",
       "      <td>53</td>\n",
       "      <td>86</td>\n",
       "      <td>16</td>\n",
       "      <td>142</td>\n",
       "      <td>99</td>\n",
       "      <td>34</td>\n",
       "      <td>40</td>\n",
       "      <td>9</td>\n",
       "    </tr>\n",
       "    <tr>\n",
       "      <th>PostgreSQL</th>\n",
       "      <td>0</td>\n",
       "      <td>56</td>\n",
       "      <td>31</td>\n",
       "      <td>55</td>\n",
       "      <td>0</td>\n",
       "      <td>68</td>\n",
       "      <td>29</td>\n",
       "      <td>0</td>\n",
       "      <td>41</td>\n",
       "      <td>3</td>\n",
       "      <td>5</td>\n",
       "      <td>0</td>\n",
       "      <td>13</td>\n",
       "      <td>6</td>\n",
       "      <td>0</td>\n",
       "      <td>34</td>\n",
       "      <td>23</td>\n",
       "      <td>0</td>\n",
       "      <td>32</td>\n",
       "      <td>0</td>\n",
       "    </tr>\n",
       "    <tr>\n",
       "      <th>MySQL/MariaDB</th>\n",
       "      <td>5</td>\n",
       "      <td>96</td>\n",
       "      <td>55</td>\n",
       "      <td>66</td>\n",
       "      <td>68</td>\n",
       "      <td>0</td>\n",
       "      <td>36</td>\n",
       "      <td>0</td>\n",
       "      <td>59</td>\n",
       "      <td>4</td>\n",
       "      <td>19</td>\n",
       "      <td>8</td>\n",
       "      <td>16</td>\n",
       "      <td>38</td>\n",
       "      <td>0</td>\n",
       "      <td>55</td>\n",
       "      <td>46</td>\n",
       "      <td>4</td>\n",
       "      <td>34</td>\n",
       "      <td>0</td>\n",
       "    </tr>\n",
       "    <tr>\n",
       "      <th>T-SQL</th>\n",
       "      <td>38</td>\n",
       "      <td>167</td>\n",
       "      <td>110</td>\n",
       "      <td>153</td>\n",
       "      <td>29</td>\n",
       "      <td>36</td>\n",
       "      <td>0</td>\n",
       "      <td>30</td>\n",
       "      <td>36</td>\n",
       "      <td>16</td>\n",
       "      <td>16</td>\n",
       "      <td>12</td>\n",
       "      <td>66</td>\n",
       "      <td>89</td>\n",
       "      <td>9</td>\n",
       "      <td>122</td>\n",
       "      <td>46</td>\n",
       "      <td>26</td>\n",
       "      <td>23</td>\n",
       "      <td>8</td>\n",
       "    </tr>\n",
       "    <tr>\n",
       "      <th>PL/SQL</th>\n",
       "      <td>5</td>\n",
       "      <td>50</td>\n",
       "      <td>26</td>\n",
       "      <td>10</td>\n",
       "      <td>0</td>\n",
       "      <td>0</td>\n",
       "      <td>30</td>\n",
       "      <td>0</td>\n",
       "      <td>8</td>\n",
       "      <td>3</td>\n",
       "      <td>0</td>\n",
       "      <td>24</td>\n",
       "      <td>12</td>\n",
       "      <td>15</td>\n",
       "      <td>20</td>\n",
       "      <td>74</td>\n",
       "      <td>2</td>\n",
       "      <td>6</td>\n",
       "      <td>1</td>\n",
       "      <td>1</td>\n",
       "    </tr>\n",
       "    <tr>\n",
       "      <th>Pentaho</th>\n",
       "      <td>8</td>\n",
       "      <td>60</td>\n",
       "      <td>31</td>\n",
       "      <td>43</td>\n",
       "      <td>41</td>\n",
       "      <td>59</td>\n",
       "      <td>36</td>\n",
       "      <td>8</td>\n",
       "      <td>0</td>\n",
       "      <td>0</td>\n",
       "      <td>6</td>\n",
       "      <td>32</td>\n",
       "      <td>28</td>\n",
       "      <td>36</td>\n",
       "      <td>3</td>\n",
       "      <td>36</td>\n",
       "      <td>34</td>\n",
       "      <td>1</td>\n",
       "      <td>32</td>\n",
       "      <td>13</td>\n",
       "    </tr>\n",
       "    <tr>\n",
       "      <th>Hadoop</th>\n",
       "      <td>19</td>\n",
       "      <td>70</td>\n",
       "      <td>31</td>\n",
       "      <td>26</td>\n",
       "      <td>3</td>\n",
       "      <td>4</td>\n",
       "      <td>16</td>\n",
       "      <td>3</td>\n",
       "      <td>0</td>\n",
       "      <td>0</td>\n",
       "      <td>110</td>\n",
       "      <td>5</td>\n",
       "      <td>9</td>\n",
       "      <td>35</td>\n",
       "      <td>3</td>\n",
       "      <td>32</td>\n",
       "      <td>118</td>\n",
       "      <td>6</td>\n",
       "      <td>71</td>\n",
       "      <td>40</td>\n",
       "    </tr>\n",
       "    <tr>\n",
       "      <th>Spark</th>\n",
       "      <td>24</td>\n",
       "      <td>74</td>\n",
       "      <td>36</td>\n",
       "      <td>22</td>\n",
       "      <td>5</td>\n",
       "      <td>19</td>\n",
       "      <td>16</td>\n",
       "      <td>0</td>\n",
       "      <td>6</td>\n",
       "      <td>110</td>\n",
       "      <td>0</td>\n",
       "      <td>10</td>\n",
       "      <td>15</td>\n",
       "      <td>33</td>\n",
       "      <td>3</td>\n",
       "      <td>27</td>\n",
       "      <td>126</td>\n",
       "      <td>6</td>\n",
       "      <td>54</td>\n",
       "      <td>43</td>\n",
       "    </tr>\n",
       "    <tr>\n",
       "      <th>Informatica</th>\n",
       "      <td>10</td>\n",
       "      <td>114</td>\n",
       "      <td>64</td>\n",
       "      <td>55</td>\n",
       "      <td>0</td>\n",
       "      <td>8</td>\n",
       "      <td>12</td>\n",
       "      <td>24</td>\n",
       "      <td>32</td>\n",
       "      <td>5</td>\n",
       "      <td>10</td>\n",
       "      <td>0</td>\n",
       "      <td>91</td>\n",
       "      <td>64</td>\n",
       "      <td>11</td>\n",
       "      <td>123</td>\n",
       "      <td>24</td>\n",
       "      <td>3</td>\n",
       "      <td>6</td>\n",
       "      <td>18</td>\n",
       "    </tr>\n",
       "    <tr>\n",
       "      <th>Qlik</th>\n",
       "      <td>138</td>\n",
       "      <td>355</td>\n",
       "      <td>67</td>\n",
       "      <td>53</td>\n",
       "      <td>13</td>\n",
       "      <td>16</td>\n",
       "      <td>66</td>\n",
       "      <td>12</td>\n",
       "      <td>28</td>\n",
       "      <td>9</td>\n",
       "      <td>15</td>\n",
       "      <td>91</td>\n",
       "      <td>0</td>\n",
       "      <td>308</td>\n",
       "      <td>28</td>\n",
       "      <td>286</td>\n",
       "      <td>38</td>\n",
       "      <td>29</td>\n",
       "      <td>2</td>\n",
       "      <td>2</td>\n",
       "    </tr>\n",
       "    <tr>\n",
       "      <th>Tableau</th>\n",
       "      <td>149</td>\n",
       "      <td>386</td>\n",
       "      <td>128</td>\n",
       "      <td>86</td>\n",
       "      <td>6</td>\n",
       "      <td>38</td>\n",
       "      <td>89</td>\n",
       "      <td>15</td>\n",
       "      <td>36</td>\n",
       "      <td>35</td>\n",
       "      <td>33</td>\n",
       "      <td>64</td>\n",
       "      <td>308</td>\n",
       "      <td>0</td>\n",
       "      <td>40</td>\n",
       "      <td>358</td>\n",
       "      <td>106</td>\n",
       "      <td>57</td>\n",
       "      <td>13</td>\n",
       "      <td>31</td>\n",
       "    </tr>\n",
       "    <tr>\n",
       "      <th>Microstrategy</th>\n",
       "      <td>18</td>\n",
       "      <td>33</td>\n",
       "      <td>22</td>\n",
       "      <td>16</td>\n",
       "      <td>0</td>\n",
       "      <td>0</td>\n",
       "      <td>9</td>\n",
       "      <td>20</td>\n",
       "      <td>3</td>\n",
       "      <td>3</td>\n",
       "      <td>3</td>\n",
       "      <td>11</td>\n",
       "      <td>28</td>\n",
       "      <td>40</td>\n",
       "      <td>0</td>\n",
       "      <td>51</td>\n",
       "      <td>14</td>\n",
       "      <td>7</td>\n",
       "      <td>4</td>\n",
       "      <td>2</td>\n",
       "    </tr>\n",
       "    <tr>\n",
       "      <th>Oracle BI</th>\n",
       "      <td>120</td>\n",
       "      <td>524</td>\n",
       "      <td>220</td>\n",
       "      <td>142</td>\n",
       "      <td>34</td>\n",
       "      <td>55</td>\n",
       "      <td>122</td>\n",
       "      <td>74</td>\n",
       "      <td>36</td>\n",
       "      <td>32</td>\n",
       "      <td>27</td>\n",
       "      <td>123</td>\n",
       "      <td>286</td>\n",
       "      <td>358</td>\n",
       "      <td>51</td>\n",
       "      <td>0</td>\n",
       "      <td>129</td>\n",
       "      <td>62</td>\n",
       "      <td>3</td>\n",
       "      <td>43</td>\n",
       "    </tr>\n",
       "    <tr>\n",
       "      <th>Python</th>\n",
       "      <td>63</td>\n",
       "      <td>297</td>\n",
       "      <td>133</td>\n",
       "      <td>99</td>\n",
       "      <td>23</td>\n",
       "      <td>46</td>\n",
       "      <td>46</td>\n",
       "      <td>2</td>\n",
       "      <td>34</td>\n",
       "      <td>118</td>\n",
       "      <td>126</td>\n",
       "      <td>24</td>\n",
       "      <td>38</td>\n",
       "      <td>106</td>\n",
       "      <td>14</td>\n",
       "      <td>129</td>\n",
       "      <td>0</td>\n",
       "      <td>55</td>\n",
       "      <td>77</td>\n",
       "      <td>75</td>\n",
       "    </tr>\n",
       "    <tr>\n",
       "      <th>VBA</th>\n",
       "      <td>27</td>\n",
       "      <td>210</td>\n",
       "      <td>63</td>\n",
       "      <td>34</td>\n",
       "      <td>0</td>\n",
       "      <td>4</td>\n",
       "      <td>26</td>\n",
       "      <td>6</td>\n",
       "      <td>1</td>\n",
       "      <td>6</td>\n",
       "      <td>6</td>\n",
       "      <td>3</td>\n",
       "      <td>29</td>\n",
       "      <td>57</td>\n",
       "      <td>7</td>\n",
       "      <td>62</td>\n",
       "      <td>55</td>\n",
       "      <td>0</td>\n",
       "      <td>0</td>\n",
       "      <td>5</td>\n",
       "    </tr>\n",
       "    <tr>\n",
       "      <th>Linux</th>\n",
       "      <td>4</td>\n",
       "      <td>65</td>\n",
       "      <td>15</td>\n",
       "      <td>40</td>\n",
       "      <td>32</td>\n",
       "      <td>34</td>\n",
       "      <td>23</td>\n",
       "      <td>1</td>\n",
       "      <td>32</td>\n",
       "      <td>71</td>\n",
       "      <td>54</td>\n",
       "      <td>6</td>\n",
       "      <td>2</td>\n",
       "      <td>13</td>\n",
       "      <td>4</td>\n",
       "      <td>3</td>\n",
       "      <td>77</td>\n",
       "      <td>0</td>\n",
       "      <td>0</td>\n",
       "      <td>22</td>\n",
       "    </tr>\n",
       "    <tr>\n",
       "      <th>AWS</th>\n",
       "      <td>5</td>\n",
       "      <td>46</td>\n",
       "      <td>26</td>\n",
       "      <td>9</td>\n",
       "      <td>0</td>\n",
       "      <td>0</td>\n",
       "      <td>8</td>\n",
       "      <td>1</td>\n",
       "      <td>13</td>\n",
       "      <td>40</td>\n",
       "      <td>43</td>\n",
       "      <td>18</td>\n",
       "      <td>2</td>\n",
       "      <td>31</td>\n",
       "      <td>2</td>\n",
       "      <td>43</td>\n",
       "      <td>75</td>\n",
       "      <td>5</td>\n",
       "      <td>22</td>\n",
       "      <td>0</td>\n",
       "    </tr>\n",
       "  </tbody>\n",
       "</table>\n",
       "</div>"
      ],
      "text/plain": [
       "               Power BI  Excel  SSIS/SSRS  MS SQL Server  PostgreSQL  \\\n",
       "Power BI              0    176        107            108           0   \n",
       "Excel               176      0        488            236          56   \n",
       "SSIS/SSRS           107    488          0            226          31   \n",
       "MS SQL Server       108    236        226              0          55   \n",
       "PostgreSQL            0     56         31             55           0   \n",
       "MySQL/MariaDB         5     96         55             66          68   \n",
       "T-SQL                38    167        110            153          29   \n",
       "PL/SQL                5     50         26             10           0   \n",
       "Pentaho               8     60         31             43          41   \n",
       "Hadoop               19     70         31             26           3   \n",
       "Spark                24     74         36             22           5   \n",
       "Informatica          10    114         64             55           0   \n",
       "Qlik                138    355         67             53          13   \n",
       "Tableau             149    386        128             86           6   \n",
       "Microstrategy        18     33         22             16           0   \n",
       "Oracle BI           120    524        220            142          34   \n",
       "Python               63    297        133             99          23   \n",
       "VBA                  27    210         63             34           0   \n",
       "Linux                 4     65         15             40          32   \n",
       "AWS                   5     46         26              9           0   \n",
       "\n",
       "               MySQL/MariaDB  T-SQL  PL/SQL  Pentaho  Hadoop  Spark  \\\n",
       "Power BI                   5     38       5        8      19     24   \n",
       "Excel                     96    167      50       60      70     74   \n",
       "SSIS/SSRS                 55    110      26       31      31     36   \n",
       "MS SQL Server             66    153      10       43      26     22   \n",
       "PostgreSQL                68     29       0       41       3      5   \n",
       "MySQL/MariaDB              0     36       0       59       4     19   \n",
       "T-SQL                     36      0      30       36      16     16   \n",
       "PL/SQL                     0     30       0        8       3      0   \n",
       "Pentaho                   59     36       8        0       0      6   \n",
       "Hadoop                     4     16       3        0       0    110   \n",
       "Spark                     19     16       0        6     110      0   \n",
       "Informatica                8     12      24       32       5     10   \n",
       "Qlik                      16     66      12       28       9     15   \n",
       "Tableau                   38     89      15       36      35     33   \n",
       "Microstrategy              0      9      20        3       3      3   \n",
       "Oracle BI                 55    122      74       36      32     27   \n",
       "Python                    46     46       2       34     118    126   \n",
       "VBA                        4     26       6        1       6      6   \n",
       "Linux                     34     23       1       32      71     54   \n",
       "AWS                        0      8       1       13      40     43   \n",
       "\n",
       "               Informatica  Qlik  Tableau  Microstrategy  Oracle BI  Python  \\\n",
       "Power BI                10   138      149             18        120      63   \n",
       "Excel                  114   355      386             33        524     297   \n",
       "SSIS/SSRS               64    67      128             22        220     133   \n",
       "MS SQL Server           55    53       86             16        142      99   \n",
       "PostgreSQL               0    13        6              0         34      23   \n",
       "MySQL/MariaDB            8    16       38              0         55      46   \n",
       "T-SQL                   12    66       89              9        122      46   \n",
       "PL/SQL                  24    12       15             20         74       2   \n",
       "Pentaho                 32    28       36              3         36      34   \n",
       "Hadoop                   5     9       35              3         32     118   \n",
       "Spark                   10    15       33              3         27     126   \n",
       "Informatica              0    91       64             11        123      24   \n",
       "Qlik                    91     0      308             28        286      38   \n",
       "Tableau                 64   308        0             40        358     106   \n",
       "Microstrategy           11    28       40              0         51      14   \n",
       "Oracle BI              123   286      358             51          0     129   \n",
       "Python                  24    38      106             14        129       0   \n",
       "VBA                      3    29       57              7         62      55   \n",
       "Linux                    6     2       13              4          3      77   \n",
       "AWS                     18     2       31              2         43      75   \n",
       "\n",
       "               VBA  Linux  AWS  \n",
       "Power BI        27      4    5  \n",
       "Excel          210     65   46  \n",
       "SSIS/SSRS       63     15   26  \n",
       "MS SQL Server   34     40    9  \n",
       "PostgreSQL       0     32    0  \n",
       "MySQL/MariaDB    4     34    0  \n",
       "T-SQL           26     23    8  \n",
       "PL/SQL           6      1    1  \n",
       "Pentaho          1     32   13  \n",
       "Hadoop           6     71   40  \n",
       "Spark            6     54   43  \n",
       "Informatica      3      6   18  \n",
       "Qlik            29      2    2  \n",
       "Tableau         57     13   31  \n",
       "Microstrategy    7      4    2  \n",
       "Oracle BI       62      3   43  \n",
       "Python          55     77   75  \n",
       "VBA              0      0    5  \n",
       "Linux            0      0   22  \n",
       "AWS              5     22    0  "
      ]
     },
     "execution_count": 9,
     "metadata": {},
     "output_type": "execute_result"
    }
   ],
   "source": [
    "tech_terms_df = pd.DataFrame(tech_terms_matrix, columns=tech_terms_labels, index=tech_terms_labels)\n",
    "tech_terms_df"
   ]
  },
  {
   "cell_type": "markdown",
   "metadata": {},
   "source": [
    "We can finally move to Plotly. \n",
    "\n",
    "A chord diagram encodes information in two graphical objects:\n",
    "\n",
    "- Ideograms, represented by distinctly colored arcs of circles;\n",
    "- Ribbons, that are planar shapes bounded by two quadratic Bezier curves and two arcs of circle,that can degenerate to a point;\n"
   ]
  },
  {
   "cell_type": "markdown",
   "metadata": {},
   "source": [
    "### Ideograms Preparation"
   ]
  },
  {
   "cell_type": "markdown",
   "metadata": {},
   "source": [
    "For each of our predefined tech terms we can produce a total hits count by summing up all the entries on the row (or column for that matter). That total count determines the size of each ideogram of the chart.\n",
    "\n",
    "We are going to need a couple of helper functions to process the data in order to get ideogram ends.\n"
   ]
  },
  {
   "cell_type": "code",
   "execution_count": 10,
   "metadata": {},
   "outputs": [],
   "source": [
    "PI = np.pi\n",
    "\n",
    "def moduloAB(x, a, b):\n",
    "    if a >= b:\n",
    "        raise ValueError('Incorrect interval ends')\n",
    "    y = (x-a) % (b-a)\n",
    "    return y+b if y < 0 else y+a\n",
    "\n",
    "\n",
    "def test_2PI(x):\n",
    "    return 0 <= x < 2*PI"
   ]
  },
  {
   "cell_type": "markdown",
   "metadata": {},
   "source": [
    "And now use them to compute the row sums and the lengths of corresponding ideograms."
   ]
  },
  {
   "cell_type": "code",
   "execution_count": 11,
   "metadata": {},
   "outputs": [],
   "source": [
    "row_sum = [np.sum(tech_terms_matrix[k, :]) for k in range(len(tech_terms_filters))]\n",
    "\n",
    "#set the gap between two consecutive ideograms\n",
    "gap = 2*PI*0.005\n",
    "ideogram_length = 2*PI*np.asarray(row_sum)/sum(row_sum)-gap*np.ones(len(tech_terms_filters))"
   ]
  },
  {
   "cell_type": "markdown",
   "metadata": {},
   "source": [
    "The next function returns the list of end angular coordinates for each ideogram arc:\n"
   ]
  },
  {
   "cell_type": "code",
   "execution_count": 12,
   "metadata": {},
   "outputs": [],
   "source": [
    "def get_ideogram_ends(ideogram_len, gap):\n",
    "    ideo_ends = []\n",
    "    left = 0\n",
    "    for k in range(len(ideogram_len)):\n",
    "        right = left+ideogram_len[k]\n",
    "        ideo_ends.append([left, right])\n",
    "        left = right+gap\n",
    "    return ideo_ends\n",
    "\n",
    "ideo_ends = get_ideogram_ends(ideogram_length, gap)"
   ]
  },
  {
   "cell_type": "markdown",
   "metadata": {},
   "source": [
    "The function make_ideogram_arc returns equally spaced points on an ideogram arc, expressed as complex numbers in polar form:"
   ]
  },
  {
   "cell_type": "code",
   "execution_count": 13,
   "metadata": {},
   "outputs": [],
   "source": [
    "def make_ideogram_arc(R, phi, a=50):\n",
    "    if not test_2PI(phi[0]) or not test_2PI(phi[1]):\n",
    "        phi = [moduloAB(t, 0, 2*PI) for t in phi]\n",
    "    length = (phi[1]-phi[0]) % 2*PI\n",
    "    nr = 5 if length <= PI/4 else int(a*length/PI)\n",
    "    if phi[0] < phi[1]:\n",
    "        theta = np.linspace(phi[0], phi[1], nr)\n",
    "    else:\n",
    "        phi = [moduloAB(t, -PI, PI) for t in phi]\n",
    "        theta = np.linspace(phi[0], phi[1], nr)\n",
    "    return R*np.exp(1j*theta)"
   ]
  },
  {
   "cell_type": "code",
   "execution_count": 14,
   "metadata": {},
   "outputs": [],
   "source": [
    "z = make_ideogram_arc(1.3, [11*PI/6, PI/17])"
   ]
  },
  {
   "cell_type": "markdown",
   "metadata": {},
   "source": [
    "### Ribbons Preparation"
   ]
  },
  {
   "cell_type": "markdown",
   "metadata": {},
   "source": [
    "The function map_data maps all matrix entries to the corresponding values in the intervals associated to ideograms:"
   ]
  },
  {
   "cell_type": "code",
   "execution_count": 15,
   "metadata": {},
   "outputs": [],
   "source": [
    "def map_data(data_matrix, row_value, ideogram_length):\n",
    "    mapped = np.zeros(data_matrix.shape)\n",
    "    for j in range(len(tech_terms_filters)):\n",
    "        mapped[:, j] = ideogram_length*data_matrix[:, j]/row_value\n",
    "    return mapped\n",
    "\n",
    "mapped_data = map_data(tech_terms_matrix, row_sum, ideogram_length)"
   ]
  },
  {
   "cell_type": "markdown",
   "metadata": {},
   "source": [
    "The array idx_sort, defined below, has on each row the indices that sort the corresponding row in mapped_data:\n"
   ]
  },
  {
   "cell_type": "code",
   "execution_count": 16,
   "metadata": {},
   "outputs": [],
   "source": [
    "idx_sort = np.argsort(mapped_data, axis=1)"
   ]
  },
  {
   "cell_type": "code",
   "execution_count": 17,
   "metadata": {},
   "outputs": [
    {
     "name": "stdout",
     "output_type": "stream",
     "text": [
      "ribbon ends starting from the ideogram[2]\n",
      " [(1.3004745741405443, 1.3004745741405443), (1.3004745741405443, 1.3045328426338634), (1.3045328426338634, 1.3104849697573981), (1.3104849697573981, 1.3175193018124847), (1.3175193018124847, 1.3245536338675712), (1.3245536338675712, 1.3329407220870972), (1.3329407220870972, 1.3413278103066233), (1.3413278103066233, 1.3497148985261493), (1.3497148985261493, 1.3594547429101151), (1.3594547429101151, 1.3743350607189517), (1.3743350607189517, 1.3913797883908918), (1.3913797883908918, 1.40869506729572), (1.40869506729572, 1.4268219998992118), (1.4268219998992118, 1.4557709818182212), (1.4557709818182212, 1.4855316174358946), (1.4855316174358946, 1.5201621752455508), (1.5201621752455508, 1.5561454892196467), (1.5561454892196467, 1.6156667604549932), (1.6156667604549932, 1.6768113390876676), (1.6768113390876676, 1.8088403407369817)]\n"
     ]
    }
   ],
   "source": [
    "def make_ribbon_ends(mapped_data, ideo_ends,  idx_sort):\n",
    "    L = mapped_data.shape[0]\n",
    "    ribbon_boundary = np.zeros((L, L+1))\n",
    "    for k in range(L):\n",
    "        start = ideo_ends[k][0]\n",
    "        ribbon_boundary[k][0] = start\n",
    "        for j in range(1, L+1):\n",
    "            J = idx_sort[k][j-1]\n",
    "            ribbon_boundary[k][j] = start+mapped_data[k][J]\n",
    "            start = ribbon_boundary[k][j]\n",
    "    return [[(ribbon_boundary[k][j], ribbon_boundary[k][j+1]) for j in range(L)] for k in range(L)]\n",
    "\n",
    "\n",
    "ribbon_ends = make_ribbon_ends(mapped_data, ideo_ends, idx_sort)\n",
    "print('ribbon ends starting from the ideogram[2]\\n', ribbon_ends[2])"
   ]
  },
  {
   "cell_type": "code",
   "execution_count": 18,
   "metadata": {},
   "outputs": [],
   "source": [
    "def control_pts(angle, radius):\n",
    "    if len(angle) != 3:\n",
    "        raise InvalidInputError('angle must have len =3')\n",
    "    b_cplx = np.array([np.exp(1j*angle[k]) for k in range(3)])\n",
    "    b_cplx[1] = radius*b_cplx[1]\n",
    "    return zip(b_cplx.real, b_cplx.imag)"
   ]
  },
  {
   "cell_type": "code",
   "execution_count": 19,
   "metadata": {},
   "outputs": [],
   "source": [
    "def ctrl_rib_chords(l, r, radius):\n",
    "    if len(l) != 2 or len(r) != 2:\n",
    "        raise ValueError('the arc ends must be elements in a list of len 2')\n",
    "    return [control_pts([l[j], (l[j]+r[j])/2, r[j]], radius) for j in range(2)]"
   ]
  },
  {
   "cell_type": "code",
   "execution_count": 20,
   "metadata": {},
   "outputs": [
    {
     "data": {
      "text/plain": [
       "'M 1,4 Q -0.5, 2.35 3.745, 1.47'"
      ]
     },
     "execution_count": 20,
     "metadata": {},
     "output_type": "execute_result"
    }
   ],
   "source": [
    "def make_q_bezier(b):\n",
    "    if len(b) != 3:\n",
    "        raise ValueError('control poligon must have 3 points')\n",
    "    A, B, C = b\n",
    "    return 'M ' + str(A[0]) + ',' + str(A[1]) + ' ' + 'Q ' + \\\n",
    "        str(B[0]) + ', ' + str(B[1]) + ' ' + \\\n",
    "        str(C[0]) + ', ' + str(C[1])\n",
    "\n",
    "\n",
    "b = [(1,4), (-0.5, 2.35), (3.745, 1.47)]\n",
    "make_q_bezier(b)"
   ]
  },
  {
   "cell_type": "code",
   "execution_count": 21,
   "metadata": {},
   "outputs": [],
   "source": [
    "def make_ribbon_arc(theta0, theta1):\n",
    "    if test_2PI(theta0) and test_2PI(theta1):\n",
    "        if theta0 < theta1:\n",
    "            theta0 = moduloAB(theta0, -PI, PI)\n",
    "            theta1 = moduloAB(theta1, -PI, PI)\n",
    "            if theta0*theta1 > 0:\n",
    "                raise ValueError('incorrect angle coordinates for ribbon')\n",
    "\n",
    "        nr = int(40*(theta0-theta1)/PI)\n",
    "        if nr <= 2: \n",
    "            nr = 3\n",
    "        theta = np.linspace(theta0, theta1, nr)\n",
    "        pts = np.exp(1j*theta)\n",
    "\n",
    "        string_arc = ''\n",
    "        for k in range(len(theta)):\n",
    "            string_arc += 'L ' + str(pts.real[k]) + ', ' + str(pts.imag[k]) + ' '\n",
    "        return string_arc\n",
    "    else:\n",
    "        raise ValueError('the angle coordinates for an arc side of a ribbon must be in [0, 2*pi]')"
   ]
  },
  {
   "cell_type": "code",
   "execution_count": 22,
   "metadata": {},
   "outputs": [],
   "source": [
    "def make_ideo_shape(path, line_color, fill_color):\n",
    "    return dict(\n",
    "        line=dict(color=line_color, width=0.45),\n",
    "        path=path,\n",
    "        type='path',\n",
    "        fillcolor=fill_color,\n",
    "        layer='below',\n",
    "    )"
   ]
  },
  {
   "cell_type": "code",
   "execution_count": 23,
   "metadata": {},
   "outputs": [],
   "source": [
    "temp_colors = [*DS['colorramp']['acc1'], *DS['colorramp']['acc2']]\n",
    "len_datalist = len(tech_terms_filters)\n",
    "ideo_colors = temp_colors[:len_datalist]"
   ]
  },
  {
   "cell_type": "code",
   "execution_count": 24,
   "metadata": {},
   "outputs": [],
   "source": [
    "def make_ribbon(l, r, line_color, fill_color, radius=0.2):\n",
    "    poligon = ctrl_rib_chords(l, r, radius)\n",
    "    b, c = poligon\n",
    "\n",
    "    return dict(\n",
    "        line=dict(\n",
    "            color=line_color,\n",
    "            width=0.5\n",
    "            ),\n",
    "        path=make_q_bezier(list(b))+make_ribbon_arc(r[0], r[1])+make_q_bezier(list(c)[::-1])+make_ribbon_arc(l[1], l[0]),\n",
    "        type='path',\n",
    "        fillcolor=fill_color,\n",
    "        layer='below'\n",
    "    )\n",
    "\n",
    "\n",
    "def make_self_rel(l, line_color, fill_color, radius):\n",
    "    b = control_pts([l[0], (l[0]+l[1])/2, l[1]], radius)\n",
    "    return dict(\n",
    "        line=dict(\n",
    "            color=line_color,\n",
    "            width=0.5\n",
    "            ),\n",
    "        path=make_q_bezier(b)+make_ribbon_arc(l[1], l[0]),\n",
    "        type='path',\n",
    "        fillcolor=fill_color,\n",
    "        layer='below'\n",
    "    )\n",
    "\n",
    "\n",
    "def invPerm(perm):\n",
    "    inv = [0] * len(perm)\n",
    "    for i, s in enumerate(perm):\n",
    "        inv[s] = i\n",
    "    return inv"
   ]
  },
  {
   "cell_type": "code",
   "execution_count": 25,
   "metadata": {},
   "outputs": [],
   "source": [
    "radii_sribb = [0.4, 0.30, 0.35, 0.39, 0.12]"
   ]
  },
  {
   "cell_type": "code",
   "execution_count": 26,
   "metadata": {},
   "outputs": [],
   "source": [
    "shapes = []\n",
    "ribbon_info = []\n",
    "\n",
    "for k in range(len(tech_terms_filters)):\n",
    "    sigma = idx_sort[k]\n",
    "    sigma_inv = invPerm(sigma)\n",
    "    for j in range(k, len(tech_terms_filters)):\n",
    "        if tech_terms_matrix[k][j] == 0 and tech_terms_matrix[j][k] == 0:\n",
    "            continue\n",
    "        eta = idx_sort[j]\n",
    "        eta_inv = invPerm(eta)\n",
    "        l = ribbon_ends[k][sigma_inv[j]]\n",
    "\n",
    "        if j == k:\n",
    "            shapes.append(make_self_rel(l, DS['colors']['acc1'], ideo_colors[k], radius=radii_sribb[k]))\n",
    "            z = 0.9*np.exp(1j*(l[0]+l[1])/2)\n",
    "            text = tech_terms_labels[k]+' appears in ' + '{:d}'.format(tech_terms_matrix[k][k]),\n",
    "            ribbon_info.append(\n",
    "                go.Scatter(\n",
    "                    x=[z.real],\n",
    "                    y=[z.imag],\n",
    "                    mode='markers',\n",
    "                    marker=dict(size=0.5, color=ideo_colors[k]),\n",
    "                    text=text,\n",
    "                    hoverinfo='text',\n",
    "                ),\n",
    "            )\n",
    "        else:\n",
    "            r = ribbon_ends[j][eta_inv[k]]\n",
    "            zi = 0.9*np.exp(1j*(l[0]+l[1])/2)\n",
    "            zf = 0.9*np.exp(1j*(r[0]+r[1])/2)\n",
    "            texti = tech_terms_labels[k]+' appears with '+tech_terms_labels[j]+' {:d}'.format(tech_terms_matrix[k][j])+' times'\n",
    "            textf = tech_terms_labels[j]+' appears with '+tech_terms_labels[k]+' {:d}'.format(tech_terms_matrix[j][k])+' times'\n",
    "\n",
    "            ribbon_info.append(go.Scatter(\n",
    "                x=[zi.real],\n",
    "                y=[zi.imag],\n",
    "                mode='markers',\n",
    "                marker=dict(size=0.5, color='green'),\n",
    "                text=texti,\n",
    "                hoverinfo='text'\n",
    "            )),\n",
    "            ribbon_info.append(go.Scatter(\n",
    "                x=[zf.real],\n",
    "                y=[zf.imag],\n",
    "                mode='markers',\n",
    "                marker=dict(size=0.5, color='blue'),\n",
    "                text=textf,\n",
    "                hoverinfo='text'\n",
    "            ))\n",
    "            r = (r[1], r[0])\n",
    "            shapes.append(make_ribbon(l, r, 'rgb(175,175,175)', ideo_colors[k]))"
   ]
  },
  {
   "cell_type": "code",
   "execution_count": 27,
   "metadata": {},
   "outputs": [
    {
     "name": "stderr",
     "output_type": "stream",
     "text": [
      "/data/WORKSPACE/jpynb_Employment_Trends_Bulgaria/ve-emptrends/lib/python3.7/site-packages/plotly/graph_objs/_deprecations.py:39: DeprecationWarning:\n",
      "\n",
      "plotly.graph_objs.Data is deprecated.\n",
      "Please replace it with a list or tuple of instances of the following types\n",
      "  - plotly.graph_objs.Scatter\n",
      "  - plotly.graph_objs.Bar\n",
      "  - plotly.graph_objs.Area\n",
      "  - plotly.graph_objs.Histogram\n",
      "  - etc.\n",
      "\n",
      "\n"
     ]
    }
   ],
   "source": [
    "ideograms = []\n",
    "for k in range(len(ideo_ends)):\n",
    "    z = make_ideogram_arc(1.1, ideo_ends[k])\n",
    "    zi = make_ideogram_arc(1.0, ideo_ends[k])\n",
    "    m = len(z)\n",
    "    n = len(zi)\n",
    "    ideograms.append(go.Scatter(\n",
    "        x=z.real,\n",
    "        y=z.imag,\n",
    "        mode='lines',\n",
    "        line=dict(color=ideo_colors[k], shape='spline', width=0.25),\n",
    "        text=tech_terms_labels[k]+'<br>'+'{:d}'.format(row_sum[k]),\n",
    "        hoverinfo='text',))\n",
    "\n",
    "    path = 'M '\n",
    "    for s in range(m):\n",
    "        path += str(z.real[s])+', '+str(z.imag[s])+' L '\n",
    "\n",
    "    Zi = np.array(zi.tolist()[::-1])\n",
    "\n",
    "    for s in range(m):\n",
    "        path += str(Zi.real[s])+', '+str(Zi.imag[s])+' L '\n",
    "    path += str(z.real[0])+' ,'+str(z.imag[0])\n",
    "\n",
    "    shapes.append(make_ideo_shape(path, 'rgb(150,150,150)', ideo_colors[k]))\n",
    "\n",
    "data = go.Data(ideograms+ribbon_info)\n"
   ]
  },
  {
   "cell_type": "code",
   "execution_count": 53,
   "metadata": {},
   "outputs": [],
   "source": [
    "layout = go.Layout(\n",
    "    paper_bgcolor=DS['colors']['bg1'],\n",
    "    plot_bgcolor=DS['colors']['bg1'],\n",
    "    title='Data Jobs ‒ Technologies in Demand',\n",
    "    titlefont=DS['chart_fonts']['title'],\n",
    "    font=DS['chart_fonts']['text'],\n",
    "    autosize=False,\n",
    "    width=1000,\n",
    "    height=525,\n",
    "    margin=dict(\n",
    "        l=280,\n",
    "        r=280,\n",
    "        t=80,\n",
    "        b=10,\n",
    "    ),\n",
    "    showlegend=False,\n",
    "    hidesources=True,\n",
    "    xaxis=dict(\n",
    "        showline=False,\n",
    "        zeroline=False,\n",
    "        showgrid=False,\n",
    "        showticklabels=False,\n",
    "        title='',\n",
    "    ),\n",
    "    yaxis=dict(\n",
    "        showline=False,\n",
    "        zeroline=False,\n",
    "        showgrid=False,\n",
    "        showticklabels=False,\n",
    "        title='',\n",
    "    ),\n",
    "    shapes=shapes,\n",
    "    hovermode='closest',\n",
    "    hoverdistance=40,\n",
    ")"
   ]
  },
  {
   "cell_type": "code",
   "execution_count": 54,
   "metadata": {},
   "outputs": [
    {
     "data": {
      "application/vnd.plotly.v1+json": {
       "config": {
        "linkText": "Export to plot.ly",
        "plotlyServerURL": "https://plot.ly",
        "showLink": true
       },
       "data": [
        {
         "hoverinfo": "text",
         "line": {
          "color": "#f2e6ce",
          "shape": "spline",
          "width": 0.25
         },
         "mode": "lines",
         "text": "Power BI<br>1024",
         "type": "scatter",
         "uid": "9ecee28b-91f1-4daf-ae90-5289d05c2cec",
         "x": [
          1.1,
          1.0997363268123403,
          1.0989454336558153,
          1.0976276996891878,
          1.095783756641759,
          1.0934144885105128,
          1.0905210311363231,
          1.0871047716594247,
          1.0831673478544104,
          1.078710647345073,
          1.0737368066994661,
          1.068248210405623,
          1.0622474897284169
         ],
         "y": [
          0,
          0.024083427690046746,
          0.04815530964527748,
          0.07220410566596835,
          0.09621828661992639,
          0.12018633996962215,
          0.14409677529136708,
          0.16793812978388917,
          0.19169897376366624,
          0.2153679161443826,
          0.23893360989788184,
          0.2623847574939977,
          0.2857101163166557
         ]
        },
        {
         "hoverinfo": "text",
         "line": {
          "color": "#ecd5bb",
          "shape": "spline",
          "width": 0.25
         },
         "mode": "lines",
         "text": "Excel<br>3503",
         "type": "scatter",
         "uid": "7107e261-6bfc-4890-898a-c056df5ac2cc",
         "x": [
          1.0527489630857763,
          1.0459074897672316,
          1.0386160332812246,
          1.0308777306477281,
          1.0226959111343532,
          1.0140740948239906,
          1.0050159911003578,
          0.9955254970521026,
          0.9856066957961491,
          0.9752638547210095,
          0.9645014236508156,
          0.9533240329308604,
          0.9417364914354753,
          0.9297437844990958,
          0.9173510717714103,
          0.9045636849975119,
          0.8913871257240106,
          0.8778270629320883,
          0.8638893305985221,
          0.8495799251857182,
          0.8349050030618403,
          0.8198708778521414,
          0.8044840177226378,
          0.7887510425972964,
          0.7726787213099289,
          0.7562739686920205,
          0.7395438425977475,
          0.72249554086746,
          0.7051363982309375,
          0.6874738831517535,
          0.6695155946140995,
          0.6512692588534573,
          0.6327427260325235,
          0.6139439668638159,
          0.594881069180415,
          0.5755622344563175,
          0.5559957742778984,
          0.5361901067679963,
          0.5161537529641665,
          0.495895333152656,
          0.47542356315967627,
          0.454747250601575,
          0.43387529109551454,
          0.4128166644322908,
          0.39158043071293663,
          0.3701757264507738,
          0.3486117606405913,
          0.32689781079663677
         ],
         "y": [
          0.31893513560255954,
          0.34070151577122243,
          0.3623213151488251,
          0.3837852321997163,
          0.40508403245385455,
          0.4262085524797743,
          0.4471497038269909,
          0.46789847693614495,
          0.48844594501520555,
          0.5087832678800648,
          0.5289016957578697,
          0.548792573051458,
          0.5684473420632742,
          0.5878575466771683,
          0.6070148359964895,
          0.6259109679369119,
          0.6445378127724449,
          0.6628873566331037,
          0.6809517049527357,
          0.6987230858655162,
          0.7161938535496576,
          0.7333564915168879,
          0.7502036158462866,
          0.766727978361086,
          0.7829224697470711,
          0.7987801226112359,
          0.8142941144793803,
          0.8294577707313595,
          0.8442645674727212,
          0.858708134341494,
          0.8727822572489252,
          0.8864808810529805,
          0.8997981121634625,
          0.9127282210776229,
          0.9252656448451799,
          0.9374049894616794,
          0.9491410321891687,
          0.960468723803188,
          0.9713831907651101,
          0.9818797373188921,
          0.9919538475113434,
          1.0016011871350334,
          1.0108176055930085,
          1.0195991376845106,
          1.0279420053109374,
          1.0358426191013006,
          1.0432975799564894,
          1.050303680511673
         ]
        },
        {
         "hoverinfo": "text",
         "line": {
          "color": "#e6c4a9",
          "shape": "spline",
          "width": 0.25
         },
         "mode": "lines",
         "text": "SSIS/SSRS<br>1879",
         "type": "scatter",
         "uid": "fa44509f-41bc-4c43-8e25-8cdbf55d4dca",
         "x": [
          0.29374567059301054,
          0.2712274990271666,
          0.24858763950632082,
          0.22583624954848489,
          0.20298353671051544,
          0.18003975400842853,
          0.15701519531731795,
          0.13392019075294265,
          0.11076510203705385,
          0.08756031784854225,
          0.06431624916249067,
          0.041043324579223515,
          0.017751985645448252,
          -0.005547317830411295,
          -0.028844132466588474,
          -0.052128005997950505,
          -0.07538849196547419,
          -0.09861515440311665,
          -0.12179757251997843,
          -0.144925345375658,
          -0.16798809654670027,
          -0.1909754787820456,
          -0.21387717864539021,
          -0.2366829211423753,
          -0.25938247433052936
         ],
         "y": [
          1.0600535274257912,
          1.0660373557110785,
          1.0715428995073766,
          1.0765676887171909,
          1.0811094689366525,
          1.08516620246697,
          1.0887360692286558,
          1.0918174675781183,
          1.0944090150262475,
          1.0965095488586785,
          1.0981181266574505,
          1.0992340267238296,
          1.0998567484021018,
          1.099986012304197,
          1.0996217604350371,
          1.0987641562185573,
          1.0974135844243826,
          1.0955706509952015,
          1.0932361827749029,
          1.090411227137609,
          1.0870970515177643,
          1.083295142841492,
          1.079007206859476,
          1.0742351673816644,
          1.0689811654141397
         ]
        },
        {
         "hoverinfo": "text",
         "line": {
          "color": "#e1b396",
          "shape": "spline",
          "width": 0.25
         },
         "mode": "lines",
         "text": "MS SQL Server<br>1479",
         "type": "scatter",
         "uid": "0058ffe3-c801-4ff8-9be1-721c212c72b1",
         "x": [
          -0.29283199458314046,
          -0.31593716212322354,
          -0.3388913793515035,
          -0.36168367906733623,
          -0.38430317143197773,
          -0.40673904917159437,
          -0.4289805927408262,
          -0.45101717544443304,
          -0.47283826851458116,
          -0.49443344614133794,
          -0.5157923904539778,
          -0.5369048964507149,
          -0.5577608768745079,
          -0.5783503670326098,
          -0.598663529557557,
          -0.6186906591073247,
          -0.6384221870024009,
          -0.6578486857975684,
          -0.6769608737862033
         ],
         "y": [
          1.060306287328553,
          1.0536525563911114,
          1.0464954051505604,
          1.0388382531926308,
          1.0306847589963306,
          1.0220388181859765,
          1.0129045616699186,
          1.003286353666851,
          0.9931887896206506,
          0.982616694004738,
          0.9715751180170124,
          0.9600693371664607,
          0.9481048487525946,
          0.9356873692389173,
          0.9228228315216785,
          0.909517382095221,
          0.8957773781152724,
          0.8816093843615846,
          0.8670201701013768
         ]
        },
        {
         "hoverinfo": "text",
         "line": {
          "color": "#dba284",
          "shape": "spline",
          "width": 0.25
         },
         "mode": "lines",
         "text": "PostgreSQL<br>396",
         "type": "scatter",
         "uid": "0ca8e138-3424-4f0d-a935-6ab7893bd82c",
         "x": [
          -0.7038605961391602,
          -0.7211120131010683,
          -0.7380578508954042,
          -0.7546909285365325,
          -0.7710041975743831
         ],
         "y": [
          0.8453284930739212,
          0.8306608601356662,
          0.815641225497864,
          0.800275953896321,
          0.7845715565343175
         ]
        },
        {
         "hoverinfo": "text",
         "line": {
          "color": "#d59171",
          "shape": "spline",
          "width": 0.25
         },
         "mode": "lines",
         "text": "MySQL/MariaDB<br>609",
         "type": "scatter",
         "uid": "41b36f07-f1ca-4818-b6dc-533ab3eacf55",
         "x": [
          -0.7952677416869639,
          -0.8220198268292043,
          -0.8477136020884485,
          -0.8723159879994565,
          -0.895795310206811
         ],
         "y": [
          0.7599665907341695,
          0.7309469230386603,
          0.700986197320766,
          0.6701229865334664,
          0.6383970255346458
         ]
        },
        {
         "hoverinfo": "text",
         "line": {
          "color": "#d0805f",
          "shape": "spline",
          "width": 0.25
         },
         "mode": "lines",
         "text": "T-SQL<br>1032",
         "type": "scatter",
         "uid": "356d2aee-b5a8-467a-829e-cf99ae554d7c",
         "x": [
          -0.9154058244618256,
          -0.9286534666258246,
          -0.9414480851797282,
          -0.9537834385442007,
          -0.9656535091825463,
          -0.9770525065362354,
          -0.9879748698497023,
          -0.998415270883042,
          -1.0083686165112764,
          -1.0178300512089256,
          -1.026794959418672,
          -1.0352589678029607,
          -1.043217947377437
         ],
         "y": [
          0.6099444044676249,
          0.5895784417054601,
          0.5689248657875865,
          0.5479937521165741,
          0.5267953114858125,
          0.5053398850983958,
          0.483637939522391,
          0.461700061584945,
          0.4395369532077301,
          0.4171594261862436,
          0.39457839691550245,
          0.37180488106471743,
          0.3488499882035362
         ]
        },
        {
         "hoverinfo": "text",
         "line": {
          "color": "#ca6f4c",
          "shape": "spline",
          "width": 0.25
         },
         "mode": "lines",
         "text": "PL/SQL<br>287",
         "type": "scatter",
         "uid": "30994b39-785a-4375-978f-d32492565a7c",
         "x": [
          -1.05366082522889,
          -1.0576052482821885,
          -1.0613775391846263,
          -1.0649770839712593,
          -1.068403296792701
         ],
         "y": [
          0.31590958418189047,
          0.30244195940042856,
          0.28892511021783385,
          0.27536123658945433,
          0.2617525461241734
         ]
        },
        {
         "hoverinfo": "text",
         "line": {
          "color": "#c45e3a",
          "shape": "spline",
          "width": 0.25
         },
         "mode": "lines",
         "text": "Pentaho<br>507",
         "type": "scatter",
         "uid": "a6fc5ba0-2d89-4d1a-9b6c-b12e753a121a",
         "x": [
          -1.0760979504250736,
          -1.0821712543453237,
          -1.0873620691287513,
          -1.09166616176913,
          -1.0950800223645072
         ],
         "y": [
          0.22806402848971172,
          0.19724445814437705,
          0.16626403886601818,
          0.13514803457045083,
          0.1039218197403743
         ]
        },
        {
         "hoverinfo": "text",
         "line": {
          "color": "#bf4d28",
          "shape": "spline",
          "width": 0.25
         },
         "mode": "lines",
         "text": "Hadoop<br>601",
         "type": "scatter",
         "uid": "c33d972e-e5ad-4b53-a1c1-c47a62b52987",
         "x": [
          -1.0978039297216025,
          -1.0995721748807266,
          -1.0999697409062783,
          -1.0989961322096387,
          -1.096652562449315
         ],
         "y": [
          0.06947324584188641,
          0.030676248598368833,
          -0.008158988330373682,
          -0.046984054617015165,
          -0.0857505526125109
         ]
        },
        {
         "hoverinfo": "text",
         "line": {
          "color": "#af4624",
          "shape": "spline",
          "width": 0.25
         },
         "mode": "lines",
         "text": "Spark<br>629",
         "type": "scatter",
         "uid": "7bda8b74-c010-4f11-ac5a-35d615469a64",
         "x": [
          -1.0934179406610527,
          -1.0881735474644971,
          -1.0814137947995266,
          -1.0731480961050444,
          -1.0633879619574735
         ],
         "y": [
          -0.12015492932269875,
          -0.16086743175214807,
          -0.20135591478098555,
          -0.2415639953016977,
          -0.2814356806873122
         ]
        },
        {
         "hoverinfo": "text",
         "line": {
          "color": "#9f4021",
          "shape": "spline",
          "width": 0.25
         },
         "mode": "lines",
         "text": "Informatica<br>674",
         "type": "scatter",
         "uid": "f573987e-5550-427b-beb2-5142e87a9e86",
         "x": [
          -1.0540231358283818,
          -1.0403987498614196,
          -1.0250637722360767,
          -1.008043416251399,
          -0.9893656662537474
         ],
         "y": [
          -0.3146986322475916,
          -0.35717004533806496,
          -0.39905421041400474,
          -0.44028226281808014,
          -0.48078641665325633
         ]
        },
        {
         "hoverinfo": "text",
         "line": {
          "color": "#8f391e",
          "shape": "spline",
          "width": 0.25
         },
         "mode": "lines",
         "text": "Qlik<br>1556",
         "type": "scatter",
         "uid": "7aad3b51-9b9e-44da-9f21-4bf41c5607c4",
         "x": [
          -0.9737756077197015,
          -0.9623530464785766,
          -0.950470108267439,
          -0.9381324777267741,
          -0.9253460570158627,
          -0.912116962989269,
          -0.8984515242706165,
          -0.8843562782250577,
          -0.8698379678318874,
          -0.8549035384587881,
          -0.8395601345392597,
          -0.8238150961548153,
          -0.8076759555235856,
          -0.791150433397003,
          -0.7742464353662979,
          -0.7569720480805673,
          -0.7393355353782289,
          -0.721345334333712,
          -0.7030100512212695,
          -0.6843384573978529
         ],
         "y": [
          -0.5116259041625298,
          -0.5328007262883591,
          -0.5537206635931903,
          -0.5743757082556887,
          -0.5947559791756584,
          -0.6148517267010254,
          -0.6346533372919473,
          -0.6541513381197999,
          -0.6733364015988536,
          -0.6921993498484693,
          -0.7107311590836725,
          -0.7289229639320144,
          -0.7467660616746472,
          -0.7642519164095923,
          -0.7813721631351999,
          -0.798118611751857,
          -0.8144832509800234,
          -0.8304582521927188,
          -0.8460359731606384,
          -0.8612089617080904
         ]
        },
        {
         "hoverinfo": "text",
         "line": {
          "color": "#f0f3e7",
          "shape": "spline",
          "width": 0.25
         },
         "mode": "lines",
         "text": "Tableau<br>1978",
         "type": "scatter",
         "uid": "6996fbed-2cb3-43f1-926c-df54469ee2e7",
         "x": [
          -0.6569495504675811,
          -0.6378550625860528,
          -0.61846649887707,
          -0.5987927982175828,
          -0.5788430309436898,
          -0.5586263946688673,
          -0.5381522100435082,
          -0.5174299164577489,
          -0.4964690676895389,
          -0.4752793274999869,
          -0.4538704651779873,
          -0.43225235103620346,
          -0.4104349518604748,
          -0.3884283263147372,
          -0.3662426203035975,
          -0.34388806229467217,
          -0.3213749586028762,
          -0.2987136886388058,
          -0.27591470012343694,
          -0.2529885042713159,
          -0.22994567094448562,
          -0.20679682377937408,
          -0.18355263528888088,
          -0.1602238219419438,
          -0.13682113922282518,
          -0.11335537667242578
         ],
         "y": [
          -0.8822795974862183,
          -0.8961812981385757,
          -0.9096698245884269,
          -0.9227389581039468,
          -0.9353826733096582,
          -0.9475951409643588,
          -0.959370730648631,
          -0.970704013360678,
          -0.9815897640193078,
          -0.9920229638728936,
          -1.0019988028132158,
          -1.0115126815931053,
          -1.0205602139468744,
          -1.029137228612556,
          -1.0372397712550145,
          -1.0448641062890502,
          -1.0520067186016446,
          -1.0586643151725663,
          -1.0648338265925787,
          -1.0705124084785578,
          -1.0756974427848616,
          -1.0803865390103502,
          -1.0845775353005,
          -1.0882684994441014,
          -1.0914577297640842,
          -1.0941437559020535
         ]
        },
        {
         "hoverinfo": "text",
         "line": {
          "color": "#e2ecde",
          "shape": "spline",
          "width": 0.25
         },
         "mode": "lines",
         "text": "Microstrategy<br>284",
         "type": "scatter",
         "uid": "d928688d-2d25-41af-bfee-9c9e5124fe85",
         "x": [
          -0.07893155672334055,
          -0.06516480971811617,
          -0.05138781191565056,
          -0.03760273051648942,
          -0.023811733992771457
         ],
         "y": [
          -1.0971644404341723,
          -1.0980680978766306,
          -1.0987990229275424,
          -1.0993571006082166,
          -1.0997422431298425
         ]
        },
        {
         "hoverinfo": "text",
         "line": {
          "color": "#d4e5d6",
          "shape": "spline",
          "width": 0.25
         },
         "mode": "lines",
         "text": "Oracle BI<br>2441",
         "type": "scatter",
         "uid": "5c3c4776-a0f6-4e5c-b550-9eafce93a5ee",
         "x": [
          0.010743754307532912,
          0.03376340589629426,
          0.05676826516914789,
          0.07974825331038264,
          0.10269330240075134,
          0.12559335982838954,
          0.14843839269303688,
          0.17121839220162235,
          0.1939233780532789,
          0.21654340281188494,
          0.23906855626420262,
          0.2614889697617078,
          0.28379482054421484,
          0.30597633604338703,
          0.3280237981642664,
          0.34992754754293703,
          0.37167798777844935,
          0.39326558963716846,
          0.41468089522769064,
          0.4359145221445041,
          0.4569571675785814,
          0.47779961239309215,
          0.49843272516246384,
          0.5188474661730158,
          0.5390348913834047,
          0.5589861563431625,
          0.5786925200675986,
          0.5981453488673715,
          0.6173361201310553,
          0.6362564260590362,
          0.6548979773471113,
          0.6732526068181764,
          0.6913122730003974
         ],
         "y": [
          -1.0999475313592824,
          -1.099481710817548,
          -1.0985341888487976,
          -1.0971053805783395,
          -1.095195911991105,
          -1.0928066196573925,
          -1.0899385503663535,
          -1.086592960667375,
          -1.0827713163195658,
          -1.0784752916495814,
          -1.0737067688180744,
          -1.0684678369950875,
          -1.0627607914447526,
          -1.0565881325196986,
          -1.049952564565604,
          -1.042856994736376,
          -1.0353045317204803,
          -1.0272984843789708,
          -1.0188423602958219,
          -1.0099398642411976,
          -1.0005948965483287,
          -0.9908115514047114,
          -0.9805941150583762,
          -0.9699470639400077,
          -0.958875062701748,
          -0.9473829621735329,
          -0.9354757972378612,
          -0.9231587846239295,
          -0.9104373206220928,
          -0.8973169787196621,
          -0.8838035071590644,
          -0.8699028264194398,
          -0.8556210266227824
         ]
        },
        {
         "hoverinfo": "text",
         "line": {
          "color": "#c6decd",
          "shape": "spline",
          "width": 0.25
         },
         "mode": "lines",
         "text": "Python<br>1505",
         "type": "scatter",
         "uid": "0760d138-c201-4307-8c21-18f68fb1d2c3",
         "x": [
          0.7178468580546717,
          0.7352734208545166,
          0.7523726014196696,
          0.7691367862994248,
          0.7855585112007014,
          0.8016304643115333,
          0.8173454895566761,
          0.832696589783864,
          0.8476769298793078,
          0.8622798398110472,
          0.8764988175987978,
          0.8903275322089712,
          0.9037598263735863,
          0.9167897193318051,
          0.9294114094928815,
          0.9416192770193325,
          0.9534078863291852,
          0.9647719885161826,
          0.9757065236868694,
          0.9862066232135248
         ],
         "y": [
          -0.8334841860413646,
          -0.8181521842450199,
          -0.8024558982479968,
          -0.7864023168588664,
          -0.7699985879728207,
          -0.7532520153890567,
          -0.7361700555587395,
          -0.7187603142650014,
          -0.7010305432364494,
          -0.6829886366956883,
          -0.6646426278444001,
          -0.6460006852865433,
          -0.6270711093912599,
          -0.6078623285971175,
          -0.5883828956593281,
          -0.5686414838416117,
          -0.5486468830544066,
          -0.5284079959411392,
          -0.5079338339143049,
          -0.4872335131431096
         ]
        },
        {
         "hoverinfo": "text",
         "line": {
          "color": "#b8d7c5",
          "shape": "spline",
          "width": 0.25
         },
         "mode": "lines",
         "text": "VBA<br>601",
         "type": "scatter",
         "uid": "8906c94e-ff27-439f-a968-b574b448d28f",
         "x": [
          1.0010243642741814,
          1.0164983035762867,
          1.0307051200411168,
          1.0436271040654934,
          1.055248147662809
         ],
         "y": [
          -0.45601559417356663,
          -0.42039409941926126,
          -0.3842485595562167,
          -0.34762403205168674,
          -0.31056617145821036
         ]
        },
        {
         "hoverinfo": "text",
         "line": {
          "color": "#aad0bc",
          "shape": "spline",
          "width": 0.25
         },
         "mode": "lines",
         "text": "Linux<br>498",
         "type": "scatter",
         "uid": "cab4270a-1475-47ac-897a-8e007d0a000e",
         "x": [
          1.0644825655922543,
          1.0718058075335521,
          1.0782941279338587,
          1.083942472483495,
          1.08874644120207
         ],
         "y": [
          -0.2772667804662724,
          -0.2474516335313837,
          -0.21744372527934527,
          -0.18726643144559596,
          -0.1569432597145461
         ]
        },
        {
         "hoverinfo": "text",
         "line": {
          "color": "#9cc9b4",
          "shape": "spline",
          "width": 0.25
         },
         "mode": "lines",
         "text": "AWS<br>389",
         "type": "scatter",
         "uid": "aeed1ba6-4c8d-46aa-a51b-1061d2fa00a4",
         "x": [
          1.093138917476142,
          1.0953818535463808,
          1.0971830032684329,
          1.0985416402076256,
          1.0994572164023046
         ],
         "y": [
          -0.12266746552810405,
          -0.10069059003350353,
          -0.07867310429150415,
          -0.056623888332929646,
          -0.03455183498594608
         ]
        },
        {
         "hoverinfo": "text",
         "marker": {
          "color": "green",
          "size": 0.5
         },
         "mode": "markers",
         "text": "Power BI appears with Excel 176 times",
         "type": "scatter",
         "uid": "a4c5167b-f8ea-4717-bca3-e2e047fa2f24",
         "x": [
          0.8741679506540299
         ],
         "y": [
          0.21408034484588648
         ]
        },
        {
         "hoverinfo": "text",
         "marker": {
          "color": "blue",
          "size": 0.5
         },
         "mode": "markers",
         "text": "Excel appears with Power BI 176 times",
         "type": "scatter",
         "uid": "8675ed11-36a6-48d4-9964-d36ef5b616ca",
         "x": [
          0.7673072741537128
         ],
         "y": [
          0.47036108154352996
         ]
        },
        {
         "hoverinfo": "text",
         "marker": {
          "color": "green",
          "size": 0.5
         },
         "mode": "markers",
         "text": "Power BI appears with SSIS/SSRS 107 times",
         "type": "scatter",
         "uid": "a3f6238b-ff86-4b51-820b-ff7147e5d708",
         "x": [
          0.8976864803325494
         ],
         "y": [
          0.06449017776498595
         ]
        },
        {
         "hoverinfo": "text",
         "marker": {
          "color": "blue",
          "size": 0.5
         },
         "mode": "markers",
         "text": "SSIS/SSRS appears with Power BI 107 times",
         "type": "scatter",
         "uid": "d530ef0a-e6f2-4b24-8f73-390d70054129",
         "x": [
          0.11622436451926207
         ],
         "y": [
          0.8924639472225719
         ]
        },
        {
         "hoverinfo": "text",
         "marker": {
          "color": "green",
          "size": 0.5
         },
         "mode": "markers",
         "text": "Power BI appears with MS SQL Server 108 times",
         "type": "scatter",
         "uid": "d4757d5d-dc72-4ad3-92a2-2cbbc36b95c5",
         "x": [
          0.8955663566380487
         ],
         "y": [
          0.08922388053683437
         ]
        },
        {
         "hoverinfo": "text",
         "marker": {
          "color": "blue",
          "size": 0.5
         },
         "mode": "markers",
         "text": "MS SQL Server appears with Power BI 108 times",
         "type": "scatter",
         "uid": "19d5b9fa-81b9-4a08-b3bd-5f3878300d34",
         "x": [
          -0.38917201099807824
         ],
         "y": [
          0.8115079456516194
         ]
        },
        {
         "hoverinfo": "text",
         "marker": {
          "color": "green",
          "size": 0.5
         },
         "mode": "markers",
         "text": "Power BI appears with MySQL/MariaDB 5 times",
         "type": "scatter",
         "uid": "4f4f994b-4bed-4c1e-9eda-e1f697667d5c",
         "x": [
          0.8999960817594999
         ],
         "y": [
          0.0026557141314005384
         ]
        },
        {
         "hoverinfo": "text",
         "marker": {
          "color": "blue",
          "size": 0.5
         },
         "mode": "markers",
         "text": "MySQL/MariaDB appears with Power BI 5 times",
         "type": "scatter",
         "uid": "eb8471ce-8ac0-411f-a99f-73a1e7088456",
         "x": [
          -0.6522103516651578
         ],
         "y": [
          0.6201787300293451
         ]
        },
        {
         "hoverinfo": "text",
         "marker": {
          "color": "green",
          "size": 0.5
         },
         "mode": "markers",
         "text": "Power BI appears with T-SQL 38 times",
         "type": "scatter",
         "uid": "43c6ed19-d4d0-42c1-b6d9-3def5eb1e201",
         "x": [
          0.899385713037884
         ],
         "y": [
          0.03324664168509572
         ]
        },
        {
         "hoverinfo": "text",
         "marker": {
          "color": "blue",
          "size": 0.5
         },
         "mode": "markers",
         "text": "T-SQL appears with Power BI 38 times",
         "type": "scatter",
         "uid": "20dbd531-2917-43c9-8bc4-dad1ed0a303b",
         "x": [
          -0.7805984678274983
         ],
         "y": [
          0.44795762302405584
         ]
        },
        {
         "hoverinfo": "text",
         "marker": {
          "color": "green",
          "size": 0.5
         },
         "mode": "markers",
         "text": "Power BI appears with PL/SQL 5 times",
         "type": "scatter",
         "uid": "5ffa46af-703e-477c-b638-a4c43ac2f75d",
         "x": [
          0.8999987482363487
         ],
         "y": [
          0.001501057295821755
         ]
        },
        {
         "hoverinfo": "text",
         "marker": {
          "color": "blue",
          "size": 0.5
         },
         "mode": "markers",
         "text": "PL/SQL appears with Power BI 5 times",
         "type": "scatter",
         "uid": "a1bebbae-9d71-4c63-b655-1ac479a2ff05",
         "x": [
          -0.862521502383043
         ],
         "y": [
          0.25701489825863844
         ]
        },
        {
         "hoverinfo": "text",
         "marker": {
          "color": "green",
          "size": 0.5
         },
         "mode": "markers",
         "text": "Power BI appears with Pentaho 8 times",
         "type": "scatter",
         "uid": "67eb40d0-0f25-435c-a75f-dafd4c76723c",
         "x": [
          0.8999843270721162
         ],
         "y": [
          0.00531140513896404
         ]
        },
        {
         "hoverinfo": "text",
         "marker": {
          "color": "blue",
          "size": 0.5
         },
         "mode": "markers",
         "text": "Pentaho appears with Power BI 8 times",
         "type": "scatter",
         "uid": "4ad5cc16-8c2f-4404-95ec-2a946a411046",
         "x": [
          -0.8813578749478024
         ],
         "y": [
          0.18223143600239194
         ]
        },
        {
         "hoverinfo": "text",
         "marker": {
          "color": "green",
          "size": 0.5
         },
         "mode": "markers",
         "text": "Power BI appears with Hadoop 19 times",
         "type": "scatter",
         "uid": "b2042863-e1ca-4b1b-871a-8b148e5fa637",
         "x": [
          0.899876744803057
         ],
         "y": [
          0.014894433948756261
         ]
        },
        {
         "hoverinfo": "text",
         "marker": {
          "color": "blue",
          "size": 0.5
         },
         "mode": "markers",
         "text": "Hadoop appears with Power BI 19 times",
         "type": "scatter",
         "uid": "d4f82365-0811-4256-af42-c3506afd6d5e",
         "x": [
          -0.8988997411756087
         ],
         "y": [
          0.04448882235375323
         ]
        },
        {
         "hoverinfo": "text",
         "marker": {
          "color": "green",
          "size": 0.5
         },
         "mode": "markers",
         "text": "Power BI appears with Spark 24 times",
         "type": "scatter",
         "uid": "cbd6e64a-8bd1-4492-b6fb-18f40106735f",
         "x": [
          0.8997808835399591
         ],
         "y": [
          0.0198585401288856
         ]
        },
        {
         "hoverinfo": "text",
         "marker": {
          "color": "blue",
          "size": 0.5
         },
         "mode": "markers",
         "text": "Spark appears with Power BI 24 times",
         "type": "scatter",
         "uid": "bb389c8e-5076-4908-bbd6-67cac5100334",
         "x": [
          -0.891627862983662
         ],
         "y": [
          -0.12247348264497088
         ]
        },
        {
         "hoverinfo": "text",
         "marker": {
          "color": "green",
          "size": 0.5
         },
         "mode": "markers",
         "text": "Power BI appears with Informatica 10 times",
         "type": "scatter",
         "uid": "e9f4bbf1-1a12-48b8-b3e7-263c84c94023",
         "x": [
          0.8999696615603667
         ],
         "y": [
          0.007389740923677055
         ]
        },
        {
         "hoverinfo": "text",
         "marker": {
          "color": "blue",
          "size": 0.5
         },
         "mode": "markers",
         "text": "Informatica appears with Power BI 10 times",
         "type": "scatter",
         "uid": "4bf4510c-ef36-41e0-8d81-821988c58da3",
         "x": [
          -0.8600556956516194
         ],
         "y": [
          -0.26514939256428455
         ]
        },
        {
         "hoverinfo": "text",
         "marker": {
          "color": "green",
          "size": 0.5
         },
         "mode": "markers",
         "text": "Power BI appears with Qlik 138 times",
         "type": "scatter",
         "uid": "5c82e6c2-9a3d-48e6-b62a-f98158a0b500",
         "x": [
          0.888266410613057
         ],
         "y": [
          0.14485435366807575
         ]
        },
        {
         "hoverinfo": "text",
         "marker": {
          "color": "blue",
          "size": 0.5
         },
         "mode": "markers",
         "text": "Qlik appears with Power BI 138 times",
         "type": "scatter",
         "uid": "370e45de-b053-410e-8c0f-391330caa51d",
         "x": [
          -0.7285727706667332
         ],
         "y": [
          -0.5283764925155167
         ]
        },
        {
         "hoverinfo": "text",
         "marker": {
          "color": "green",
          "size": 0.5
         },
         "mode": "markers",
         "text": "Power BI appears with Tableau 149 times",
         "type": "scatter",
         "uid": "3fb4a836-1130-4e8d-bc00-2c0a4d67ca8a",
         "x": [
          0.88233188321519
         ],
         "y": [
          0.177455481352187
         ]
        },
        {
         "hoverinfo": "text",
         "marker": {
          "color": "blue",
          "size": 0.5
         },
         "mode": "markers",
         "text": "Tableau appears with Power BI 149 times",
         "type": "scatter",
         "uid": "825f355b-5637-4f08-9fa3-b94b956c3d79",
         "x": [
          -0.3578833758999954
         ],
         "y": [
          -0.8257841662652673
         ]
        },
        {
         "hoverinfo": "text",
         "marker": {
          "color": "green",
          "size": 0.5
         },
         "mode": "markers",
         "text": "Power BI appears with Microstrategy 18 times",
         "type": "scatter",
         "uid": "b5d5dbad-82aa-4bc3-b71c-30db1b08861e",
         "x": [
          0.8999373088343329
         ],
         "y": [
          0.010622625288439847
         ]
        },
        {
         "hoverinfo": "text",
         "marker": {
          "color": "blue",
          "size": 0.5
         },
         "mode": "markers",
         "text": "Microstrategy appears with Power BI 18 times",
         "type": "scatter",
         "uid": "630af65e-4306-42b9-b740-6045e45410eb",
         "x": [
          -0.05172951097384589
         ],
         "y": [
          -0.8985121355298474
         ]
        },
        {
         "hoverinfo": "text",
         "marker": {
          "color": "green",
          "size": 0.5
         },
         "mode": "markers",
         "text": "Power BI appears with Oracle BI 120 times",
         "type": "scatter",
         "uid": "8caab8d2-08a0-4c40-81a0-661f0c0c5ca2",
         "x": [
          0.8925736911032706
         ],
         "y": [
          0.11537853331657275
         ]
        },
        {
         "hoverinfo": "text",
         "marker": {
          "color": "blue",
          "size": 0.5
         },
         "mode": "markers",
         "text": "Oracle BI appears with Power BI 120 times",
         "type": "scatter",
         "uid": "4041cb94-1f6e-4594-aca7-d08ed25c21f1",
         "x": [
          0.1261736674879844
         ],
         "y": [
          -0.8911117806608952
         ]
        },
        {
         "hoverinfo": "text",
         "marker": {
          "color": "green",
          "size": 0.5
         },
         "mode": "markers",
         "text": "Power BI appears with Python 63 times",
         "type": "scatter",
         "uid": "00072f4f-83bd-4020-81b3-1579d8ef6d70",
         "x": [
          0.8988794150341239
         ],
         "y": [
          0.04489763053782768
         ]
        },
        {
         "hoverinfo": "text",
         "marker": {
          "color": "blue",
          "size": 0.5
         },
         "mode": "markers",
         "text": "Python appears with Power BI 63 times",
         "type": "scatter",
         "uid": "aa300e69-a899-4be2-b338-a28f03c829de",
         "x": [
          0.6421685328089723
         ],
         "y": [
          -0.6305708330314461
         ]
        },
        {
         "hoverinfo": "text",
         "marker": {
          "color": "green",
          "size": 0.5
         },
         "mode": "markers",
         "text": "Power BI appears with VBA 27 times",
         "type": "scatter",
         "uid": "48b06606-be9a-4c11-8802-acae067be0d7",
         "x": [
          0.8996316880288706
         ],
         "y": [
          0.025745405305120043
         ]
        },
        {
         "hoverinfo": "text",
         "marker": {
          "color": "blue",
          "size": 0.5
         },
         "mode": "markers",
         "text": "VBA appears with Power BI 27 times",
         "type": "scatter",
         "uid": "ca29c263-5ca1-44cb-8e40-6572cea39a46",
         "x": [
          0.8256788242283821
         ],
         "y": [
          -0.3581263453319741
         ]
        },
        {
         "hoverinfo": "text",
         "marker": {
          "color": "green",
          "size": 0.5
         },
         "mode": "markers",
         "text": "Power BI appears with Linux 4 times",
         "type": "scatter",
         "uid": "2d4674fc-0ff5-434a-bf67-cfeb77c69cd8",
         "x": [
          0.8999998814898069
         ],
         "y": [
          0.0004618639771849655
         ]
        },
        {
         "hoverinfo": "text",
         "marker": {
          "color": "blue",
          "size": 0.5
         },
         "mode": "markers",
         "text": "Linux appears with Power BI 4 times",
         "type": "scatter",
         "uid": "61b909f5-1d20-4a32-bb2a-2cf504702588",
         "x": [
          0.8713457420258516
         ],
         "y": [
          -0.2252922498742869
         ]
        },
        {
         "hoverinfo": "text",
         "marker": {
          "color": "green",
          "size": 0.5
         },
         "mode": "markers",
         "text": "Power BI appears with AWS 5 times",
         "type": "scatter",
         "uid": "63f5dae7-64f4-42cc-8450-f3f0da9a6309",
         "x": [
          0.8999919339118579
         ],
         "y": [
          0.003810366595741015
         ]
        },
        {
         "hoverinfo": "text",
         "marker": {
          "color": "blue",
          "size": 0.5
         },
         "mode": "markers",
         "text": "AWS appears with Power BI 5 times",
         "type": "scatter",
         "uid": "2039e04f-27d3-4e25-9ccf-fbdccd641057",
         "x": [
          0.8946424847247938
         ],
         "y": [
          -0.09805521161798113
         ]
        },
        {
         "hoverinfo": "text",
         "marker": {
          "color": "green",
          "size": 0.5
         },
         "mode": "markers",
         "text": "Excel appears with SSIS/SSRS 488 times",
         "type": "scatter",
         "uid": "0ce2785a-415d-4151-b30c-e8123118ac2f",
         "x": [
          0.44365254060250403
         ],
         "y": [
          0.78305326971857
         ]
        },
        {
         "hoverinfo": "text",
         "marker": {
          "color": "blue",
          "size": 0.5
         },
         "mode": "markers",
         "text": "SSIS/SSRS appears with Excel 488 times",
         "type": "scatter",
         "uid": "430bb5fc-5482-47cf-b70e-3265d2a73789",
         "x": [
          -0.15406403083395198
         ],
         "y": [
          0.8867154416176563
         ]
        },
        {
         "hoverinfo": "text",
         "marker": {
          "color": "green",
          "size": 0.5
         },
         "mode": "markers",
         "text": "Excel appears with MS SQL Server 236 times",
         "type": "scatter",
         "uid": "fe20900b-ad70-46b7-99ee-5b4f88ef9671",
         "x": [
          0.7078367574792601
         ],
         "y": [
          0.5558481130320109
         ]
        },
        {
         "hoverinfo": "text",
         "marker": {
          "color": "blue",
          "size": 0.5
         },
         "mode": "markers",
         "text": "MS SQL Server appears with Excel 236 times",
         "type": "scatter",
         "uid": "789f0a57-f2c1-415a-9bdf-bc8f948c25eb",
         "x": [
          -0.5313393716912562
         ],
         "y": [
          0.7264148071802647
         ]
        },
        {
         "hoverinfo": "text",
         "marker": {
          "color": "green",
          "size": 0.5
         },
         "mode": "markers",
         "text": "Excel appears with PostgreSQL 56 times",
         "type": "scatter",
         "uid": "d29b1dbc-4b47-40fd-87b5-e08e5b32dfd1",
         "x": [
          0.8491199381233795
         ],
         "y": [
          0.2983208519050389
         ]
        },
        {
         "hoverinfo": "text",
         "marker": {
          "color": "blue",
          "size": 0.5
         },
         "mode": "markers",
         "text": "PostgreSQL appears with Excel 56 times",
         "type": "scatter",
         "uid": "f8caabe3-197c-40bd-b10b-d536f07ab382",
         "x": [
          -0.6178827305396897
         ],
         "y": [
          0.6543859192409455
         ]
        },
        {
         "hoverinfo": "text",
         "marker": {
          "color": "green",
          "size": 0.5
         },
         "mode": "markers",
         "text": "Excel appears with MySQL/MariaDB 96 times",
         "type": "scatter",
         "uid": "39df7e9c-b993-450d-a69d-0b119a8300aa",
         "x": [
          0.8166099393794982
         ],
         "y": [
          0.3783493186284497
         ]
        },
        {
         "hoverinfo": "text",
         "marker": {
          "color": "blue",
          "size": 0.5
         },
         "mode": "markers",
         "text": "MySQL/MariaDB appears with Excel 96 times",
         "type": "scatter",
         "uid": "36bee89a-ed9f-4b64-9911-077fc4819319",
         "x": [
          -0.7269676728967848
         ],
         "y": [
          0.530582700964735
         ]
        },
        {
         "hoverinfo": "text",
         "marker": {
          "color": "green",
          "size": 0.5
         },
         "mode": "markers",
         "text": "Excel appears with T-SQL 167 times",
         "type": "scatter",
         "uid": "b19150df-0f96-4b2f-b43c-60ecbd2d254d",
         "x": [
          0.7888747389216377
         ],
         "y": [
          0.4332166274409582
         ]
        },
        {
         "hoverinfo": "text",
         "marker": {
          "color": "blue",
          "size": 0.5
         },
         "mode": "markers",
         "text": "T-SQL appears with Excel 167 times",
         "type": "scatter",
         "uid": "049be966-9b75-4118-95fb-3660cee238da",
         "x": [
          -0.8472252109257957
         ],
         "y": [
          0.3036600763546979
         ]
        },
        {
         "hoverinfo": "text",
         "marker": {
          "color": "green",
          "size": 0.5
         },
         "mode": "markers",
         "text": "Excel appears with PL/SQL 50 times",
         "type": "scatter",
         "uid": "49bcbcee-233b-479c-bd35-5fab3148faf0",
         "x": [
          0.8534276527637965
         ],
         "y": [
          0.28576431109933387
         ]
        },
        {
         "hoverinfo": "text",
         "marker": {
          "color": "blue",
          "size": 0.5
         },
         "mode": "markers",
         "text": "PL/SQL appears with Excel 50 times",
         "type": "scatter",
         "uid": "baae04b1-3dae-424e-bc21-ec787c4bd3dd",
         "x": [
          -0.8702430484150594
         ],
         "y": [
          0.22951478533041111
         ]
        },
        {
         "hoverinfo": "text",
         "marker": {
          "color": "green",
          "size": 0.5
         },
         "mode": "markers",
         "text": "Excel appears with Pentaho 60 times",
         "type": "scatter",
         "uid": "fa8986c7-9e11-4a3b-8600-a5b8a26e1a73",
         "x": [
          0.8441941724988722
         ],
         "y": [
          0.31198749833758466
         ]
        },
        {
         "hoverinfo": "text",
         "marker": {
          "color": "blue",
          "size": 0.5
         },
         "mode": "markers",
         "text": "Pentaho appears with Excel 60 times",
         "type": "scatter",
         "uid": "9115a690-dc94-4819-be58-1a4cee482870",
         "x": [
          -0.8953793877939363
         ],
         "y": [
          0.09108101840535002
         ]
        },
        {
         "hoverinfo": "text",
         "marker": {
          "color": "green",
          "size": 0.5
         },
         "mode": "markers",
         "text": "Excel appears with Hadoop 70 times",
         "type": "scatter",
         "uid": "8c5616db-bc0d-49dc-b0c4-85870b5977cc",
         "x": [
          0.8323566996476166
         ],
         "y": [
          0.3423190391312285
         ]
        },
        {
         "hoverinfo": "text",
         "marker": {
          "color": "blue",
          "size": 0.5
         },
         "mode": "markers",
         "text": "Hadoop appears with Excel 70 times",
         "type": "scatter",
         "uid": "ac12b7b1-a121-45b5-8331-d797e5724c2d",
         "x": [
          -0.8999999067970453
         ],
         "y": [
          0.00040959163779249406
         ]
        },
        {
         "hoverinfo": "text",
         "marker": {
          "color": "green",
          "size": 0.5
         },
         "mode": "markers",
         "text": "Excel appears with Spark 74 times",
         "type": "scatter",
         "uid": "c37d8601-9251-4489-a39e-c03d820578d1",
         "x": [
          0.8253307515048255
         ],
         "y": [
          0.3589277791150749
         ]
        },
        {
         "hoverinfo": "text",
         "marker": {
          "color": "blue",
          "size": 0.5
         },
         "mode": "markers",
         "text": "Spark appears with Excel 74 times",
         "type": "scatter",
         "uid": "ab48447c-ee8a-4635-97e7-725968ec5632",
         "x": [
          -0.8831276397485028
         ],
         "y": [
          -0.17345192968727244
         ]
        },
        {
         "hoverinfo": "text",
         "marker": {
          "color": "green",
          "size": 0.5
         },
         "mode": "markers",
         "text": "Excel appears with Informatica 114 times",
         "type": "scatter",
         "uid": "b556788f-a9c3-4bfd-9043-3c0000f0cd05",
         "x": [
          0.8052068502049292
         ],
         "y": [
          0.40204717183815236
         ]
        },
        {
         "hoverinfo": "text",
         "marker": {
          "color": "blue",
          "size": 0.5
         },
         "mode": "markers",
         "text": "Informatica appears with Excel 114 times",
         "type": "scatter",
         "uid": "47567aa2-d7f2-46df-9056-1e4435f82e08",
         "x": [
          -0.8257566049225046
         ],
         "y": [
          -0.3579469645448315
         ]
        },
        {
         "hoverinfo": "text",
         "marker": {
          "color": "green",
          "size": 0.5
         },
         "mode": "markers",
         "text": "Excel appears with Qlik 355 times",
         "type": "scatter",
         "uid": "2f818176-4d29-45e6-9863-d7e73fb1553d",
         "x": [
          0.6069941346477992
         ],
         "y": [
          0.6644983976678721
         ]
        },
        {
         "hoverinfo": "text",
         "marker": {
          "color": "blue",
          "size": 0.5
         },
         "mode": "markers",
         "text": "Qlik appears with Excel 355 times",
         "type": "scatter",
         "uid": "c0f80c96-0861-46fb-8d23-67069b3c7e31",
         "x": [
          -0.5926757527916386
         ],
         "y": [
          -0.6773001196315149
         ]
        },
        {
         "hoverinfo": "text",
         "marker": {
          "color": "green",
          "size": 0.5
         },
         "mode": "markers",
         "text": "Excel appears with Tableau 386 times",
         "type": "scatter",
         "uid": "0f7ce60c-a0b5-407c-8114-030aae0a7a18",
         "x": [
          0.5353744633486633
         ],
         "y": [
          0.723446047742422
         ]
        },
        {
         "hoverinfo": "text",
         "marker": {
          "color": "blue",
          "size": 0.5
         },
         "mode": "markers",
         "text": "Tableau appears with Excel 386 times",
         "type": "scatter",
         "uid": "3e1bd337-6353-4e8f-93a1-40050889ce11",
         "x": [
          -0.13948581735334897
         ],
         "y": [
          -0.8891252480709724
         ]
        },
        {
         "hoverinfo": "text",
         "marker": {
          "color": "green",
          "size": 0.5
         },
         "mode": "markers",
         "text": "Excel appears with Microstrategy 33 times",
         "type": "scatter",
         "uid": "e3fd855a-643f-4458-ad42-ccccd67ce6a8",
         "x": [
          0.8601327179353491
         ],
         "y": [
          0.2648994290993268
         ]
        },
        {
         "hoverinfo": "text",
         "marker": {
          "color": "blue",
          "size": 0.5
         },
         "mode": "markers",
         "text": "Microstrategy appears with Excel 33 times",
         "type": "scatter",
         "uid": "381e81d8-990b-4b9c-be52-c3a540203dd4",
         "x": [
          -0.036564793212537014
         ],
         "y": [
          -0.8992569242976807
         ]
        },
        {
         "hoverinfo": "text",
         "marker": {
          "color": "green",
          "size": 0.5
         },
         "mode": "markers",
         "text": "Excel appears with Oracle BI 524 times",
         "type": "scatter",
         "uid": "66fef6d6-4e90-4645-ae24-07f1acd0a041",
         "x": [
          0.3293545891051773
         ],
         "y": [
          0.8375712236194364
         ]
        },
        {
         "hoverinfo": "text",
         "marker": {
          "color": "blue",
          "size": 0.5
         },
         "mode": "markers",
         "text": "Oracle BI appears with Excel 524 times",
         "type": "scatter",
         "uid": "692e4a03-e4f9-4b88-b9f4-3e67e88b766f",
         "x": [
          0.5138724518740175
         ],
         "y": [
          -0.7388742133847855
         ]
        },
        {
         "hoverinfo": "text",
         "marker": {
          "color": "green",
          "size": 0.5
         },
         "mode": "markers",
         "text": "Excel appears with Python 297 times",
         "type": "scatter",
         "uid": "16ea18ed-b0d1-4c64-9f14-6e565b4bf886",
         "x": [
          0.6647026700293825
         ],
         "y": [
          0.6067704347245422
         ]
        },
        {
         "hoverinfo": "text",
         "marker": {
          "color": "blue",
          "size": 0.5
         },
         "mode": "markers",
         "text": "Python appears with Excel 297 times",
         "type": "scatter",
         "uid": "0fa8684c-dfb0-4117-9421-baed345eb4f3",
         "x": [
          0.7904987704833045
         ],
         "y": [
          -0.43024608524004465
         ]
        },
        {
         "hoverinfo": "text",
         "marker": {
          "color": "green",
          "size": 0.5
         },
         "mode": "markers",
         "text": "Excel appears with VBA 210 times",
         "type": "scatter",
         "uid": "ea304895-0d69-4982-adcb-55372b979feb",
         "x": [
          0.7409486302408806
         ],
         "y": [
          0.5108768220854835
         ]
        },
        {
         "hoverinfo": "text",
         "marker": {
          "color": "blue",
          "size": 0.5
         },
         "mode": "markers",
         "text": "VBA appears with Excel 210 times",
         "type": "scatter",
         "uid": "1782aa70-aee0-4cf3-b4ea-a06c2f05c165",
         "x": [
          0.8568528104953584
         ],
         "y": [
          -0.2753239204032321
         ]
        },
        {
         "hoverinfo": "text",
         "marker": {
          "color": "green",
          "size": 0.5
         },
         "mode": "markers",
         "text": "Excel appears with Linux 65 times",
         "type": "scatter",
         "uid": "7c00190d-0a30-4923-ae93-6b7d137d8a78",
         "x": [
          0.8386400647936436
         ],
         "y": [
          0.32662339432887094
         ]
        },
        {
         "hoverinfo": "text",
         "marker": {
          "color": "blue",
          "size": 0.5
         },
         "mode": "markers",
         "text": "Linux appears with Excel 65 times",
         "type": "scatter",
         "uid": "c9d7fa81-2a0d-4288-b168-8577d503f01d",
         "x": [
          0.8848686164297976
         ],
         "y": [
          -0.16433968375780636
         ]
        },
        {
         "hoverinfo": "text",
         "marker": {
          "color": "green",
          "size": 0.5
         },
         "mode": "markers",
         "text": "Excel appears with AWS 46 times",
         "type": "scatter",
         "uid": "fd0d93ef-3f84-427b-8a47-8357b84897ab",
         "x": [
          0.8571687806453034
         ],
         "y": [
          0.27433862558349986
         ]
        },
        {
         "hoverinfo": "text",
         "marker": {
          "color": "blue",
          "size": 0.5
         },
         "mode": "markers",
         "text": "AWS appears with Excel 46 times",
         "type": "scatter",
         "uid": "00344796-8ec1-4c3e-ba71-95d09ae07a89",
         "x": [
          0.8987996102584241
         ],
         "y": [
          -0.04646784478868045
         ]
        },
        {
         "hoverinfo": "text",
         "marker": {
          "color": "green",
          "size": 0.5
         },
         "mode": "markers",
         "text": "SSIS/SSRS appears with MS SQL Server 226 times",
         "type": "scatter",
         "uid": "62c59508-8689-493c-a912-3fdbef8433e8",
         "x": [
          -0.06783406048502481
         ],
         "y": [
          0.8974399925555546
         ]
        },
        {
         "hoverinfo": "text",
         "marker": {
          "color": "blue",
          "size": 0.5
         },
         "mode": "markers",
         "text": "MS SQL Server appears with SSIS/SSRS 226 times",
         "type": "scatter",
         "uid": "5891677b-6d1b-465a-8837-cafd91d89539",
         "x": [
          -0.48572427498506104
         ],
         "y": [
          0.7576753451777594
         ]
        },
        {
         "hoverinfo": "text",
         "marker": {
          "color": "green",
          "size": 0.5
         },
         "mode": "markers",
         "text": "SSIS/SSRS appears with PostgreSQL 31 times",
         "type": "scatter",
         "uid": "0b33c9e1-7f34-4d9d-8feb-a9f138843cb2",
         "x": [
          0.20103695563322854
         ],
         "y": [
          0.8772594499175961
         ]
        },
        {
         "hoverinfo": "text",
         "marker": {
          "color": "blue",
          "size": 0.5
         },
         "mode": "markers",
         "text": "PostgreSQL appears with SSIS/SSRS 31 times",
         "type": "scatter",
         "uid": "6361f751-b873-46a9-8c8f-c6c4e05ba023",
         "x": [
          -0.5893645355103926
         ],
         "y": [
          0.6801833901843085
         ]
        },
        {
         "hoverinfo": "text",
         "marker": {
          "color": "green",
          "size": 0.5
         },
         "mode": "markers",
         "text": "SSIS/SSRS appears with MySQL/MariaDB 55 times",
         "type": "scatter",
         "uid": "4edbe83f-897d-4959-9432-1e9a7c2e7497",
         "x": [
          0.18224231880743114
         ],
         "y": [
          0.881355624725735
         ]
        },
        {
         "hoverinfo": "text",
         "marker": {
          "color": "blue",
          "size": 0.5
         },
         "mode": "markers",
         "text": "MySQL/MariaDB appears with SSIS/SSRS 55 times",
         "type": "scatter",
         "uid": "18cbda96-8587-4733-9d54-4f3851716a46",
         "x": [
          -0.6844411574459377
         ],
         "y": [
          0.5844144950239214
         ]
        },
        {
         "hoverinfo": "text",
         "marker": {
          "color": "green",
          "size": 0.5
         },
         "mode": "markers",
         "text": "SSIS/SSRS appears with T-SQL 110 times",
         "type": "scatter",
         "uid": "bb3b96d8-cb42-4afe-8fa3-d7550f2fa74d",
         "x": [
          0.08997994640925731
         ],
         "y": [
          0.8954907086308529
         ]
        },
        {
         "hoverinfo": "text",
         "marker": {
          "color": "blue",
          "size": 0.5
         },
         "mode": "markers",
         "text": "T-SQL appears with SSIS/SSRS 110 times",
         "type": "scatter",
         "uid": "88962b06-a9db-4af1-a6dd-2742efaded94",
         "x": [
          -0.8102643789529563
         ],
         "y": [
          0.391754561173166
         ]
        },
        {
         "hoverinfo": "text",
         "marker": {
          "color": "green",
          "size": 0.5
         },
         "mode": "markers",
         "text": "SSIS/SSRS appears with PL/SQL 26 times",
         "type": "scatter",
         "uid": "e3c234fe-dfd2-4238-bbe0-e5149758691e",
         "x": [
          0.2224541488334019
         ],
         "y": [
          0.8720746250561398
         ]
        },
        {
         "hoverinfo": "text",
         "marker": {
          "color": "blue",
          "size": 0.5
         },
         "mode": "markers",
         "text": "PL/SQL appears with SSIS/SSRS 26 times",
         "type": "scatter",
         "uid": "59217d53-21f2-4782-954a-e335e39d2669",
         "x": [
          -0.867404462639031
         ],
         "y": [
          0.24001978708826055
         ]
        },
        {
         "hoverinfo": "text",
         "marker": {
          "color": "green",
          "size": 0.5
         },
         "mode": "markers",
         "text": "SSIS/SSRS appears with Pentaho 31 times",
         "type": "scatter",
         "uid": "783d1d1f-5a56-410c-a194-99b6c4501c82",
         "x": [
          0.21572328783511002
         ],
         "y": [
          0.8737639630275503
         ]
        },
        {
         "hoverinfo": "text",
         "marker": {
          "color": "blue",
          "size": 0.5
         },
         "mode": "markers",
         "text": "Pentaho appears with SSIS/SSRS 31 times",
         "type": "scatter",
         "uid": "dfdee066-9926-4957-ae2f-9dd316716283",
         "x": [
          -0.8837599220740875
         ],
         "y": [
          0.17020105797439308
         ]
        },
        {
         "hoverinfo": "text",
         "marker": {
          "color": "green",
          "size": 0.5
         },
         "mode": "markers",
         "text": "SSIS/SSRS appears with Hadoop 31 times",
         "type": "scatter",
         "uid": "535cbb65-2c7c-4f00-92f4-2cd37d0a1282",
         "x": [
          0.2083874510163622
         ],
         "y": [
          0.8755425005440359
         ]
        },
        {
         "hoverinfo": "text",
         "marker": {
          "color": "blue",
          "size": 0.5
         },
         "mode": "markers",
         "text": "Hadoop appears with SSIS/SSRS 31 times",
         "type": "scatter",
         "uid": "bbd12d2d-dedb-4099-a4e3-2f39e00a7d98",
         "x": [
          -0.8993683651473324
         ],
         "y": [
          0.03371266486373437
         ]
        },
        {
         "hoverinfo": "text",
         "marker": {
          "color": "green",
          "size": 0.5
         },
         "mode": "markers",
         "text": "SSIS/SSRS appears with Spark 36 times",
         "type": "scatter",
         "uid": "4e7b0cdc-4a10-4c9e-837c-9ce7d739b9ac",
         "x": [
          0.193077795851709
         ],
         "y": [
          0.8790454850285313
         ]
        },
        {
         "hoverinfo": "text",
         "marker": {
          "color": "blue",
          "size": 0.5
         },
         "mode": "markers",
         "text": "Spark appears with SSIS/SSRS 36 times",
         "type": "scatter",
         "uid": "462e64c9-2e4f-4417-b06b-f48083de7700",
         "x": [
          -0.88880874105984
         ],
         "y": [
          -0.14148859252823998
         ]
        },
        {
         "hoverinfo": "text",
         "marker": {
          "color": "green",
          "size": 0.5
         },
         "mode": "markers",
         "text": "SSIS/SSRS appears with Informatica 64 times",
         "type": "scatter",
         "uid": "3fd2071f-1ff7-4b0f-8ad5-8075ed0c574d",
         "x": [
          0.15293723357080893
         ],
         "y": [
          0.886910481721638
         ]
        },
        {
         "hoverinfo": "text",
         "marker": {
          "color": "blue",
          "size": 0.5
         },
         "mode": "markers",
         "text": "Informatica appears with SSIS/SSRS 64 times",
         "type": "scatter",
         "uid": "5a09753f-224a-4e0d-a99a-43da6ecd4e07",
         "x": [
          -0.8453402506326694
         ],
         "y": [
          -0.30886867866505296
         ]
        },
        {
         "hoverinfo": "text",
         "marker": {
          "color": "green",
          "size": 0.5
         },
         "mode": "markers",
         "text": "SSIS/SSRS appears with Qlik 67 times",
         "type": "scatter",
         "uid": "edcca05d-d6e2-4bb4-b1b1-d8a6eab5b490",
         "x": [
          0.1371970083484722
         ],
         "y": [
          0.8894812987917337
         ]
        },
        {
         "hoverinfo": "text",
         "marker": {
          "color": "blue",
          "size": 0.5
         },
         "mode": "markers",
         "text": "Qlik appears with SSIS/SSRS 67 times",
         "type": "scatter",
         "uid": "b53fc654-2068-42f1-95a3-1bec1a60f6d7",
         "x": [
          -0.7548944281055615
         ],
         "y": [
          -0.4900351032478971
         ]
        },
        {
         "hoverinfo": "text",
         "marker": {
          "color": "green",
          "size": 0.5
         },
         "mode": "markers",
         "text": "SSIS/SSRS appears with Tableau 128 times",
         "type": "scatter",
         "uid": "4306fca4-b72e-4fac-a556-87c3c49719f7",
         "x": [
          0.06110743861845524
         ],
         "y": [
          0.8979230930015619
         ]
        },
        {
         "hoverinfo": "text",
         "marker": {
          "color": "blue",
          "size": 0.5
         },
         "mode": "markers",
         "text": "Tableau appears with SSIS/SSRS 128 times",
         "type": "scatter",
         "uid": "89a4b1a7-def2-432a-9e99-83705bfc34d9",
         "x": [
          -0.38866224056922566
         ],
         "y": [
          -0.8117522175859512
         ]
        },
        {
         "hoverinfo": "text",
         "marker": {
          "color": "green",
          "size": 0.5
         },
         "mode": "markers",
         "text": "SSIS/SSRS appears with Microstrategy 22 times",
         "type": "scatter",
         "uid": "a8567103-2c84-43a1-925d-10e0fc460bc0",
         "x": [
          0.2342304786061699
         ],
         "y": [
          0.8689856632257661
         ]
        },
        {
         "hoverinfo": "text",
         "marker": {
          "color": "blue",
          "size": 0.5
         },
         "mode": "markers",
         "text": "Microstrategy appears with SSIS/SSRS 22 times",
         "type": "scatter",
         "uid": "ce821d7c-d87d-489a-8be4-235935dac6be",
         "x": [
          -0.04537934016463465
         ],
         "y": [
          -0.8988552249868843
         ]
        },
        {
         "hoverinfo": "text",
         "marker": {
          "color": "green",
          "size": 0.5
         },
         "mode": "markers",
         "text": "SSIS/SSRS appears with Oracle BI 220 times",
         "type": "scatter",
         "uid": "a41c66c7-e47f-48b4-8f47-c947d74e454f",
         "x": [
          -0.013598300795462193
         ],
         "y": [
          0.8998972642560239
         ]
        },
        {
         "hoverinfo": "text",
         "marker": {
          "color": "blue",
          "size": 0.5
         },
         "mode": "markers",
         "text": "Oracle BI appears with SSIS/SSRS 220 times",
         "type": "scatter",
         "uid": "05dc25b3-ab54-459a-b6e6-0ffc487d63b1",
         "x": [
          0.2906978160333549
         ],
         "y": [
          -0.8517598134177485
         ]
        },
        {
         "hoverinfo": "text",
         "marker": {
          "color": "green",
          "size": 0.5
         },
         "mode": "markers",
         "text": "SSIS/SSRS appears with Python 133 times",
         "type": "scatter",
         "uid": "40ec5eed-5393-4cbc-b31a-d6b954bfc1b0",
         "x": [
          0.029373028138431404
         ],
         "y": [
          0.8995205529714031
         ]
        },
        {
         "hoverinfo": "text",
         "marker": {
          "color": "blue",
          "size": 0.5
         },
         "mode": "markers",
         "text": "Python appears with SSIS/SSRS 133 times",
         "type": "scatter",
         "uid": "2fc19325-b824-43a1-8c10-4738c1a32c80",
         "x": [
          0.7645735620565709
         ],
         "y": [
          -0.47479181564568584
         ]
        },
        {
         "hoverinfo": "text",
         "marker": {
          "color": "green",
          "size": 0.5
         },
         "mode": "markers",
         "text": "SSIS/SSRS appears with VBA 63 times",
         "type": "scatter",
         "uid": "36093e1b-075b-4d40-8f41-a692fd71d086",
         "x": [
          0.16815103967911085
         ],
         "y": [
          0.8841522650849423
         ]
        },
        {
         "hoverinfo": "text",
         "marker": {
          "color": "blue",
          "size": 0.5
         },
         "mode": "markers",
         "text": "VBA appears with SSIS/SSRS 63 times",
         "type": "scatter",
         "uid": "1a22ff26-55a5-4687-8f01-6af7dff73dd4",
         "x": [
          0.8475819074409946
         ],
         "y": [
          -0.302663030743243
         ]
        },
        {
         "hoverinfo": "text",
         "marker": {
          "color": "green",
          "size": 0.5
         },
         "mode": "markers",
         "text": "SSIS/SSRS appears with Linux 15 times",
         "type": "scatter",
         "uid": "b0541b50-f1dd-4ae5-a855-913f09a8f8ff",
         "x": [
          0.23857697161749053
         ],
         "y": [
          0.8678024133486995
         ]
        },
        {
         "hoverinfo": "text",
         "marker": {
          "color": "blue",
          "size": 0.5
         },
         "mode": "markers",
         "text": "Linux appears with SSIS/SSRS 15 times",
         "type": "scatter",
         "uid": "8ffb61e0-2029-4c73-9a40-6c4a73ede6f6",
         "x": [
          0.8729640925598509
         ],
         "y": [
          -0.21893764660550308
         ]
        },
        {
         "hoverinfo": "text",
         "marker": {
          "color": "green",
          "size": 0.5
         },
         "mode": "markers",
         "text": "SSIS/SSRS appears with AWS 26 times",
         "type": "scatter",
         "uid": "4913bfe1-f96c-46fc-be57-0c39c14c6c56",
         "x": [
          0.22858305703604043
         ],
         "y": [
          0.8704882457770801
         ]
        },
        {
         "hoverinfo": "text",
         "marker": {
          "color": "blue",
          "size": 0.5
         },
         "mode": "markers",
         "text": "AWS appears with SSIS/SSRS 26 times",
         "type": "scatter",
         "uid": "2e616499-d96e-4189-a8fd-383cd45461a7",
         "x": [
          0.8962342655051921
         ],
         "y": [
          -0.08224440001829186
         ]
        },
        {
         "hoverinfo": "text",
         "marker": {
          "color": "green",
          "size": 0.5
         },
         "mode": "markers",
         "text": "MS SQL Server appears with PostgreSQL 55 times",
         "type": "scatter",
         "uid": "f737f854-2ce6-4a50-8a5c-c9ffe7d0dd6e",
         "x": [
          -0.3035986751852794
         ],
         "y": [
          0.8472472156494486
         ]
        },
        {
         "hoverinfo": "text",
         "marker": {
          "color": "blue",
          "size": 0.5
         },
         "mode": "markers",
         "text": "PostgreSQL appears with MS SQL Server 55 times",
         "type": "scatter",
         "uid": "afae371d-5d2a-429b-9c08-62708e54ca08",
         "x": [
          -0.6102897886236486
         ],
         "y": [
          0.661472882211888
         ]
        },
        {
         "hoverinfo": "text",
         "marker": {
          "color": "green",
          "size": 0.5
         },
         "mode": "markers",
         "text": "MS SQL Server appears with MySQL/MariaDB 66 times",
         "type": "scatter",
         "uid": "4d77c69d-1966-4e62-b0c9-11fa81fc41b3",
         "x": [
          -0.32948412765003093
         ],
         "y": [
          0.837520274158601
         ]
        },
        {
         "hoverinfo": "text",
         "marker": {
          "color": "blue",
          "size": 0.5
         },
         "mode": "markers",
         "text": "MySQL/MariaDB appears with MS SQL Server 66 times",
         "type": "scatter",
         "uid": "753b525d-e9ca-4bf6-b431-62a19b4072ec",
         "x": [
          -0.7078908197653104
         ],
         "y": [
          0.5557792613007406
         ]
        },
        {
         "hoverinfo": "text",
         "marker": {
          "color": "green",
          "size": 0.5
         },
         "mode": "markers",
         "text": "MS SQL Server appears with T-SQL 153 times",
         "type": "scatter",
         "uid": "4fa34ad0-262a-4753-9c36-130b758f24c9",
         "x": [
          -0.4469270042966135
         ],
         "y": [
          0.7811889994300066
         ]
        },
        {
         "hoverinfo": "text",
         "marker": {
          "color": "blue",
          "size": 0.5
         },
         "mode": "markers",
         "text": "T-SQL appears with MS SQL Server 153 times",
         "type": "scatter",
         "uid": "d190f7fc-995d-4ba4-9847-fbd3437cf79d",
         "x": [
          -0.8340353179345771
         ],
         "y": [
          0.3382086463084125
         ]
        },
        {
         "hoverinfo": "text",
         "marker": {
          "color": "green",
          "size": 0.5
         },
         "mode": "markers",
         "text": "MS SQL Server appears with PL/SQL 10 times",
         "type": "scatter",
         "uid": "0a1bc6b2-0ecc-491b-b4c0-69b1cc6d5f49",
         "x": [
          -0.24281915846582044
         ],
         "y": [
          0.8666249801857495
         ]
        },
        {
         "hoverinfo": "text",
         "marker": {
          "color": "blue",
          "size": 0.5
         },
         "mode": "markers",
         "text": "PL/SQL appears with MS SQL Server 10 times",
         "type": "scatter",
         "uid": "1696f5a7-5699-4174-a238-eb4329753f4e",
         "x": [
          -0.8634977300968834
         ],
         "y": [
          0.25371572698106465
         ]
        },
        {
         "hoverinfo": "text",
         "marker": {
          "color": "green",
          "size": 0.5
         },
         "mode": "markers",
         "text": "MS SQL Server appears with Pentaho 43 times",
         "type": "scatter",
         "uid": "607a933d-962f-44a4-86a2-e9b6c3e9f3bd",
         "x": [
          -0.2804996803271997
         ],
         "y": [
          0.8551724559036842
         ]
        },
        {
         "hoverinfo": "text",
         "marker": {
          "color": "blue",
          "size": 0.5
         },
         "mode": "markers",
         "text": "Pentaho appears with MS SQL Server 43 times",
         "type": "scatter",
         "uid": "9e44f218-f502-4ecf-bbe5-ef2998c69c78",
         "x": [
          -0.8928345602606812
         ],
         "y": [
          0.11334217222250523
         ]
        },
        {
         "hoverinfo": "text",
         "marker": {
          "color": "green",
          "size": 0.5
         },
         "mode": "markers",
         "text": "MS SQL Server appears with Hadoop 26 times",
         "type": "scatter",
         "uid": "070e69d4-5a45-4b9d-b1d1-3d0113a77924",
         "x": [
          -0.2557024080920602
         ],
         "y": [
          0.8629115125526612
         ]
        },
        {
         "hoverinfo": "text",
         "marker": {
          "color": "blue",
          "size": 0.5
         },
         "mode": "markers",
         "text": "Hadoop appears with MS SQL Server 26 times",
         "type": "scatter",
         "uid": "d789f12d-d105-4477-a0b5-1a0ca3f5efda",
         "x": [
          -0.8991224073763319
         ],
         "y": [
          0.039735331303383664
         ]
        },
        {
         "hoverinfo": "text",
         "marker": {
          "color": "green",
          "size": 0.5
         },
         "mode": "markers",
         "text": "MS SQL Server appears with Spark 22 times",
         "type": "scatter",
         "uid": "bc2e5ce3-182d-403f-8890-34edcecde84a",
         "x": [
          -0.2501877978754988
         ],
         "y": [
          0.8645264980289549
         ]
        },
        {
         "hoverinfo": "text",
         "marker": {
          "color": "blue",
          "size": 0.5
         },
         "mode": "markers",
         "text": "Spark appears with MS SQL Server 22 times",
         "type": "scatter",
         "uid": "ed3eea76-6169-4e8b-8063-c7256339300d",
         "x": [
          -0.8922830948561005
         ],
         "y": [
          -0.11760475600084871
         ]
        },
        {
         "hoverinfo": "text",
         "marker": {
          "color": "green",
          "size": 0.5
         },
         "mode": "markers",
         "text": "MS SQL Server appears with Informatica 55 times",
         "type": "scatter",
         "uid": "72699782-22ec-4a2b-8ca0-99c4a2bd8b28",
         "x": [
          -0.31596233217815495
         ],
         "y": [
          0.8427145451720537
         ]
        },
        {
         "hoverinfo": "text",
         "marker": {
          "color": "blue",
          "size": 0.5
         },
         "mode": "markers",
         "text": "Informatica appears with MS SQL Server 55 times",
         "type": "scatter",
         "uid": "d7ca644b-a1c0-4d1e-880d-1cd54e8ae503",
         "x": [
          -0.8496762022685282
         ],
         "y": [
          -0.29673279444397627
         ]
        },
        {
         "hoverinfo": "text",
         "marker": {
          "color": "green",
          "size": 0.5
         },
         "mode": "markers",
         "text": "MS SQL Server appears with Qlik 53 times",
         "type": "scatter",
         "uid": "2898b296-e076-40d2-8b2e-d4d6b2745bee",
         "x": [
          -0.29139656359998306
         ],
         "y": [
          0.8515210171934225
         ]
        },
        {
         "hoverinfo": "text",
         "marker": {
          "color": "blue",
          "size": 0.5
         },
         "mode": "markers",
         "text": "Qlik appears with MS SQL Server 53 times",
         "type": "scatter",
         "uid": "a53dba76-b587-4bfd-83d5-1d47b2e10028",
         "x": [
          -0.7709546434599394
         ],
         "y": [
          -0.464358630508315
         ]
        },
        {
         "hoverinfo": "text",
         "marker": {
          "color": "green",
          "size": 0.5
         },
         "mode": "markers",
         "text": "MS SQL Server appears with Tableau 86 times",
         "type": "scatter",
         "uid": "1e34a695-383c-46b2-b9f7-5fc7aa80e1c6",
         "x": [
          -0.34634881450505534
         ],
         "y": [
          0.8306879671037392
         ]
        },
        {
         "hoverinfo": "text",
         "marker": {
          "color": "blue",
          "size": 0.5
         },
         "mode": "markers",
         "text": "Tableau appears with MS SQL Server 86 times",
         "type": "scatter",
         "uid": "d3bb50a8-4b60-4971-b2f8-1a362ba49837",
         "x": [
          -0.4538136853540082
         ],
         "y": [
          -0.7772085556563395
         ]
        },
        {
         "hoverinfo": "text",
         "marker": {
          "color": "green",
          "size": 0.5
         },
         "mode": "markers",
         "text": "MS SQL Server appears with Microstrategy 16 times",
         "type": "scatter",
         "uid": "19dd6e43-cde1-44e4-b298-4461785fd86a",
         "x": [
          -0.24581482074324673
         ],
         "y": [
          0.8657800378288734
         ]
        },
        {
         "hoverinfo": "text",
         "marker": {
          "color": "blue",
          "size": 0.5
         },
         "mode": "markers",
         "text": "Microstrategy appears with MS SQL Server 16 times",
         "type": "scatter",
         "uid": "edc2cc0a-2ce6-4735-8421-ad5f3572b48c",
         "x": [
          -0.054427569862253194
         ],
         "y": [
          -0.8983527367570545
         ]
        },
        {
         "hoverinfo": "text",
         "marker": {
          "color": "green",
          "size": 0.5
         },
         "mode": "markers",
         "text": "MS SQL Server appears with Oracle BI 142 times",
         "type": "scatter",
         "uid": "556248ae-c4f0-43cb-83f6-c643d274d592",
         "x": [
          -0.4159375041393252
         ],
         "y": [
          0.7981202870810571
         ]
        },
        {
         "hoverinfo": "text",
         "marker": {
          "color": "blue",
          "size": 0.5
         },
         "mode": "markers",
         "text": "Oracle BI appears with MS SQL Server 142 times",
         "type": "scatter",
         "uid": "feb2ec20-a8c5-4c2c-bf63-6cd96c5e485f",
         "x": [
          0.24805279941529232
         ],
         "y": [
          -0.8651414963474107
         ]
        },
        {
         "hoverinfo": "text",
         "marker": {
          "color": "green",
          "size": 0.5
         },
         "mode": "markers",
         "text": "MS SQL Server appears with Python 99 times",
         "type": "scatter",
         "uid": "b13831f4-30b0-4e34-9ccc-ba84b3cf66ae",
         "x": [
          -0.36668322901405925
         ],
         "y": [
          0.8219144782517358
         ]
        },
        {
         "hoverinfo": "text",
         "marker": {
          "color": "blue",
          "size": 0.5
         },
         "mode": "markers",
         "text": "Python appears with MS SQL Server 99 times",
         "type": "scatter",
         "uid": "dbf50163-5d6d-4e60-9e18-e8818d703d75",
         "x": [
          0.6800465046582891
         ],
         "y": [
          -0.5895224775206146
         ]
        },
        {
         "hoverinfo": "text",
         "marker": {
          "color": "green",
          "size": 0.5
         },
         "mode": "markers",
         "text": "MS SQL Server appears with VBA 34 times",
         "type": "scatter",
         "uid": "1669a41b-b722-4478-bdfd-30589e6bf6e0",
         "x": [
          -0.2625809864615174
         ],
         "y": [
          0.8608433223002293
         ]
        },
        {
         "hoverinfo": "text",
         "marker": {
          "color": "blue",
          "size": 0.5
         },
         "mode": "markers",
         "text": "VBA appears with MS SQL Server 34 times",
         "type": "scatter",
         "uid": "2a003714-7637-481c-85e5-9c7101d2667f",
         "x": [
          0.8306054077639954
         ],
         "y": [
          -0.3465467596056945
         ]
        },
        {
         "hoverinfo": "text",
         "marker": {
          "color": "green",
          "size": 0.5
         },
         "mode": "markers",
         "text": "MS SQL Server appears with Linux 40 times",
         "type": "scatter",
         "uid": "304d9d43-4a50-4ea8-b850-e15340b09bef",
         "x": [
          -0.2710414857497627
         ],
         "y": [
          0.8582170547143427
         ]
        },
        {
         "hoverinfo": "text",
         "marker": {
          "color": "blue",
          "size": 0.5
         },
         "mode": "markers",
         "text": "Linux appears with MS SQL Server 40 times",
         "type": "scatter",
         "uid": "07fe6400-92d2-4068-bae2-0bf37daf1d47",
         "x": [
          0.8806930361535452
         ],
         "y": [
          -0.18541784183473367
         ]
        },
        {
         "hoverinfo": "text",
         "marker": {
          "color": "green",
          "size": 0.5
         },
         "mode": "markers",
         "text": "MS SQL Server appears with AWS 9 times",
         "type": "scatter",
         "uid": "137488a3-1e51-4171-a346-606f4a41848d",
         "x": [
          -0.24062818199886823
         ],
         "y": [
          0.8672358837294035
         ]
        },
        {
         "hoverinfo": "text",
         "marker": {
          "color": "blue",
          "size": 0.5
         },
         "mode": "markers",
         "text": "AWS appears with MS SQL Server 9 times",
         "type": "scatter",
         "uid": "47e45295-dfa5-4099-a0fb-6eea63df7914",
         "x": [
          0.89494193271068
         ],
         "y": [
          -0.09528345646581422
         ]
        },
        {
         "hoverinfo": "text",
         "marker": {
          "color": "green",
          "size": 0.5
         },
         "mode": "markers",
         "text": "PostgreSQL appears with MySQL/MariaDB 68 times",
         "type": "scatter",
         "uid": "4cc5b4df-5257-4774-9c41-7205dfe52e3f",
         "x": [
          -0.6262675775520066
         ],
         "y": [
          0.6463659345194034
         ]
        },
        {
         "hoverinfo": "text",
         "marker": {
          "color": "blue",
          "size": 0.5
         },
         "mode": "markers",
         "text": "MySQL/MariaDB appears with PostgreSQL 68 times",
         "type": "scatter",
         "uid": "3639c2c9-f22c-4883-a16b-bc02985ebdc6",
         "x": [
          -0.7165784385436301
         ],
         "y": [
          0.5445322225675658
         ]
        },
        {
         "hoverinfo": "text",
         "marker": {
          "color": "green",
          "size": 0.5
         },
         "mode": "markers",
         "text": "PostgreSQL appears with T-SQL 29 times",
         "type": "scatter",
         "uid": "9fcb6438-c347-4b86-89c8-9dfcc97c0444",
         "x": [
          -0.5851100251373859
         ],
         "y": [
          0.6838466629908548
         ]
        },
        {
         "hoverinfo": "text",
         "marker": {
          "color": "blue",
          "size": 0.5
         },
         "mode": "markers",
         "text": "T-SQL appears with PostgreSQL 29 times",
         "type": "scatter",
         "uid": "78397a90-00f1-4e87-8f37-8a50e65c8711",
         "x": [
          -0.7645399161846504
         ],
         "y": [
          0.4748459924653126
         ]
        },
        {
         "hoverinfo": "text",
         "marker": {
          "color": "green",
          "size": 0.5
         },
         "mode": "markers",
         "text": "PostgreSQL appears with Pentaho 41 times",
         "type": "scatter",
         "uid": "372c27d7-8003-4a27-a43a-da2e31a0fe7d",
         "x": [
          -0.603657336524202
         ],
         "y": [
          0.6675311378958336
         ]
        },
        {
         "hoverinfo": "text",
         "marker": {
          "color": "blue",
          "size": 0.5
         },
         "mode": "markers",
         "text": "Pentaho appears with PostgreSQL 41 times",
         "type": "scatter",
         "uid": "85100990-c056-47c6-822d-8d43a51e7aea",
         "x": [
          -0.8917220597662687
         ],
         "y": [
          0.12178574681054948
         ]
        },
        {
         "hoverinfo": "text",
         "marker": {
          "color": "green",
          "size": 0.5
         },
         "mode": "markers",
         "text": "PostgreSQL appears with Hadoop 3 times",
         "type": "scatter",
         "uid": "8cde8cf3-0eb7-49f1-afda-cfd96f1d83f2",
         "x": [
          -0.576101638829356
         ],
         "y": [
          0.6914527472923441
         ]
        },
        {
         "hoverinfo": "text",
         "marker": {
          "color": "blue",
          "size": 0.5
         },
         "mode": "markers",
         "text": "Hadoop appears with PostgreSQL 3 times",
         "type": "scatter",
         "uid": "bf8133a0-502b-4ad5-9845-46a38fd764b1",
         "x": [
          -0.8982628226187171
         ],
         "y": [
          0.05589187330064335
         ]
        },
        {
         "hoverinfo": "text",
         "marker": {
          "color": "green",
          "size": 0.5
         },
         "mode": "markers",
         "text": "PostgreSQL appears with Spark 5 times",
         "type": "scatter",
         "uid": "7024de48-b053-4562-8cf2-36d5a508dc51",
         "x": [
          -0.576676555524321
         ],
         "y": [
          0.6909733354541294
         ]
        },
        {
         "hoverinfo": "text",
         "marker": {
          "color": "blue",
          "size": 0.5
         },
         "mode": "markers",
         "text": "Spark appears with PostgreSQL 5 times",
         "type": "scatter",
         "uid": "a4dd9285-1bb4-4fe8-864c-a8d4892fcfcc",
         "x": [
          -0.8944855957459857
         ],
         "y": [
          -0.09947622330461202
         ]
        },
        {
         "hoverinfo": "text",
         "marker": {
          "color": "green",
          "size": 0.5
         },
         "mode": "markers",
         "text": "PostgreSQL appears with Qlik 13 times",
         "type": "scatter",
         "uid": "0c56174a-49c2-4166-b107-caf665af0b6c",
         "x": [
          -0.5788289367402205
         ],
         "y": [
          0.6891712863956142
         ]
        },
        {
         "hoverinfo": "text",
         "marker": {
          "color": "blue",
          "size": 0.5
         },
         "mode": "markers",
         "text": "Qlik appears with PostgreSQL 13 times",
         "type": "scatter",
         "uid": "b4ad01c4-5b4c-404a-a254-71ec8d5d3951",
         "x": [
          -0.793175620487976
         ],
         "y": [
          -0.42529100044970897
         ]
        },
        {
         "hoverinfo": "text",
         "marker": {
          "color": "green",
          "size": 0.5
         },
         "mode": "markers",
         "text": "PostgreSQL appears with Tableau 6 times",
         "type": "scatter",
         "uid": "5cffe6ab-481a-4ac1-b87d-d348a5e04902",
         "x": [
          -0.577466414488604
         ],
         "y": [
          0.6903133637252548
         ]
        },
        {
         "hoverinfo": "text",
         "marker": {
          "color": "blue",
          "size": 0.5
         },
         "mode": "markers",
         "text": "Tableau appears with PostgreSQL 6 times",
         "type": "scatter",
         "uid": "a63aaeff-c90f-43f0-a21c-aa499dcf1391",
         "x": [
          -0.5369162828622165
         ],
         "y": [
          -0.7223025025551416
         ]
        },
        {
         "hoverinfo": "text",
         "marker": {
          "color": "green",
          "size": 0.5
         },
         "mode": "markers",
         "text": "PostgreSQL appears with Oracle BI 34 times",
         "type": "scatter",
         "uid": "586a2baf-3d38-4842-9c23-5ecd01b22fd7",
         "x": [
          -0.598433856836997
         ],
         "y": [
          0.6722179103469325
         ]
        },
        {
         "hoverinfo": "text",
         "marker": {
          "color": "blue",
          "size": 0.5
         },
         "mode": "markers",
         "text": "Oracle BI appears with PostgreSQL 34 times",
         "type": "scatter",
         "uid": "b38878ff-12b2-469a-9bd1-36cf8418c9d2",
         "x": [
          0.028295704736432857
         ],
         "y": [
          -0.8995550861917622
         ]
        },
        {
         "hoverinfo": "text",
         "marker": {
          "color": "green",
          "size": 0.5
         },
         "mode": "markers",
         "text": "PostgreSQL appears with Python 23 times",
         "type": "scatter",
         "uid": "a9d707d1-acfc-48bf-9f3e-c492d84cc4fe",
         "x": [
          -0.5814043592208243
         ],
         "y": [
          0.6869999789512534
         ]
        },
        {
         "hoverinfo": "text",
         "marker": {
          "color": "blue",
          "size": 0.5
         },
         "mode": "markers",
         "text": "Python appears with PostgreSQL 23 times",
         "type": "scatter",
         "uid": "81599f87-42a4-46ad-b835-929196116e9c",
         "x": [
          0.5923092781204162
         ],
         "y": [
          -0.67762063062784
         ]
        },
        {
         "hoverinfo": "text",
         "marker": {
          "color": "green",
          "size": 0.5
         },
         "mode": "markers",
         "text": "PostgreSQL appears with Linux 32 times",
         "type": "scatter",
         "uid": "41531b44-c55b-4832-bf03-cfc6ba0155de",
         "x": [
          -0.593807085087456
         ],
         "y": [
          0.6763084693392053
         ]
        },
        {
         "hoverinfo": "text",
         "marker": {
          "color": "blue",
          "size": 0.5
         },
         "mode": "markers",
         "text": "Linux appears with PostgreSQL 32 times",
         "type": "scatter",
         "uid": "89e70d10-b559-444d-9a1a-598e43f08590",
         "x": [
          0.8776749399167197
         ],
         "y": [
          -0.1992152098665723
         ]
        },
        {
         "hoverinfo": "text",
         "marker": {
          "color": "green",
          "size": 0.5
         },
         "mode": "markers",
         "text": "MySQL/MariaDB appears with T-SQL 36 times",
         "type": "scatter",
         "uid": "e6cd582e-3c9c-4371-8cd7-bd345203c9f0",
         "x": [
          -0.6662881500324397
         ],
         "y": [
          0.6050290084998812
         ]
        },
        {
         "hoverinfo": "text",
         "marker": {
          "color": "blue",
          "size": 0.5
         },
         "mode": "markers",
         "text": "T-SQL appears with MySQL/MariaDB 36 times",
         "type": "scatter",
         "uid": "222cb0b0-861f-4c38-8d96-04486313c65f",
         "x": [
          -0.7763064940928116
         ],
         "y": [
          0.4553550562246208
         ]
        },
        {
         "hoverinfo": "text",
         "marker": {
          "color": "green",
          "size": 0.5
         },
         "mode": "markers",
         "text": "MySQL/MariaDB appears with Pentaho 59 times",
         "type": "scatter",
         "uid": "6db21ee9-380b-458e-9daa-0bf3623e73cd",
         "x": [
          -0.6996275279620856
         ],
         "y": [
          0.5661460254366015
         ]
        },
        {
         "hoverinfo": "text",
         "marker": {
          "color": "blue",
          "size": 0.5
         },
         "mode": "markers",
         "text": "Pentaho appears with MySQL/MariaDB 59 times",
         "type": "scatter",
         "uid": "cb8d6ae9-a48c-43b5-8ae2-65cd681eea05",
         "x": [
          -0.8940779621856415
         ],
         "y": [
          0.10307568837495336
         ]
        },
        {
         "hoverinfo": "text",
         "marker": {
          "color": "green",
          "size": 0.5
         },
         "mode": "markers",
         "text": "MySQL/MariaDB appears with Hadoop 4 times",
         "type": "scatter",
         "uid": "bb01b590-54a2-49c9-aefb-f899c3143a87",
         "x": [
          -0.6515522352740388
         ],
         "y": [
          0.6208701029276604
         ]
        },
        {
         "hoverinfo": "text",
         "marker": {
          "color": "blue",
          "size": 0.5
         },
         "mode": "markers",
         "text": "Hadoop appears with MySQL/MariaDB 4 times",
         "type": "scatter",
         "uid": "28a8bb86-0ff6-4d94-ae74-c621891f38fc",
         "x": [
          -0.8983471487638285
         ],
         "y": [
          0.05451972402626347
         ]
        },
        {
         "hoverinfo": "text",
         "marker": {
          "color": "green",
          "size": 0.5
         },
         "mode": "markers",
         "text": "MySQL/MariaDB appears with Spark 19 times",
         "type": "scatter",
         "uid": "bd12c9d9-45c2-4f09-a8d7-8c89276968c8",
         "x": [
          -0.6574488102175244
         ],
         "y": [
          0.6146226988515486
         ]
        },
        {
         "hoverinfo": "text",
         "marker": {
          "color": "blue",
          "size": 0.5
         },
         "mode": "markers",
         "text": "Spark appears with MySQL/MariaDB 19 times",
         "type": "scatter",
         "uid": "316ce801-fc9c-41b5-be2d-741346b85a46",
         "x": [
          -0.8928446985437626
         ],
         "y": [
          -0.11326228093367073
         ]
        },
        {
         "hoverinfo": "text",
         "marker": {
          "color": "green",
          "size": 0.5
         },
         "mode": "markers",
         "text": "MySQL/MariaDB appears with Informatica 8 times",
         "type": "scatter",
         "uid": "a87d4d21-fae4-46a2-864a-95b3e97fc8b0",
         "x": [
          -0.6531596688682502
         ],
         "y": [
          0.6191788489313228
         ]
        },
        {
         "hoverinfo": "text",
         "marker": {
          "color": "blue",
          "size": 0.5
         },
         "mode": "markers",
         "text": "Informatica appears with MySQL/MariaDB 8 times",
         "type": "scatter",
         "uid": "e4473be0-ed13-4834-91a7-f71b6fb19d77",
         "x": [
          -0.8612591043799332
         ],
         "y": [
          -0.2612140025394416
         ]
        },
        {
         "hoverinfo": "text",
         "marker": {
          "color": "green",
          "size": 0.5
         },
         "mode": "markers",
         "text": "MySQL/MariaDB appears with Qlik 16 times",
         "type": "scatter",
         "uid": "78ac8137-b8dd-4077-a485-3189a0572f98",
         "x": [
          -0.6549082256106571
         ],
         "y": [
          0.617329098639859
         ]
        },
        {
         "hoverinfo": "text",
         "marker": {
          "color": "blue",
          "size": 0.5
         },
         "mode": "markers",
         "text": "Qlik appears with MySQL/MariaDB 16 times",
         "type": "scatter",
         "uid": "683d66be-75b2-49ce-9544-10cfe6531f09",
         "x": [
          -0.7898002213828718
         ],
         "y": [
          -0.43152706786894246
         ]
        },
        {
         "hoverinfo": "text",
         "marker": {
          "color": "green",
          "size": 0.5
         },
         "mode": "markers",
         "text": "MySQL/MariaDB appears with Tableau 38 times",
         "type": "scatter",
         "uid": "0d296fa5-ce98-4b57-804e-d67e2b2dfd4d",
         "x": [
          -0.6715388032670172
         ],
         "y": [
          0.5991958241732851
         ]
        },
        {
         "hoverinfo": "text",
         "marker": {
          "color": "blue",
          "size": 0.5
         },
         "mode": "markers",
         "text": "Tableau appears with MySQL/MariaDB 38 times",
         "type": "scatter",
         "uid": "03c4c68a-6c05-41cd-89eb-e6fdf95131f4",
         "x": [
          -0.499990460361388
         ],
         "y": [
          -0.7483378512059959
         ]
        },
        {
         "hoverinfo": "text",
         "marker": {
          "color": "green",
          "size": 0.5
         },
         "mode": "markers",
         "text": "MySQL/MariaDB appears with Oracle BI 55 times",
         "type": "scatter",
         "uid": "0d354172-b8a8-4f65-ac61-44e3891285a7",
         "x": [
          -0.6919590061950207
         ],
         "y": [
          0.5754934697679891
         ]
        },
        {
         "hoverinfo": "text",
         "marker": {
          "color": "blue",
          "size": 0.5
         },
         "mode": "markers",
         "text": "Oracle BI appears with MySQL/MariaDB 55 times",
         "type": "scatter",
         "uid": "8bb5b976-b1af-4118-8c1d-24b9c7282ccb",
         "x": [
          0.07132012911426798
         ],
         "y": [
          -0.8971696824921829
         ]
        },
        {
         "hoverinfo": "text",
         "marker": {
          "color": "green",
          "size": 0.5
         },
         "mode": "markers",
         "text": "MySQL/MariaDB appears with Python 46 times",
         "type": "scatter",
         "uid": "7856c0c9-97b3-4977-96b4-f008ae9edc51",
         "x": [
          -0.6774370987595818
         ],
         "y": [
          0.5925191787817511
         ]
        },
        {
         "hoverinfo": "text",
         "marker": {
          "color": "blue",
          "size": 0.5
         },
         "mode": "markers",
         "text": "Python appears with MySQL/MariaDB 46 times",
         "type": "scatter",
         "uid": "c0699a53-50c8-4ddf-81f8-c3934300e9d9",
         "x": [
          0.6155039353967736
         ],
         "y": [
          -0.6566238691298728
         ]
        },
        {
         "hoverinfo": "text",
         "marker": {
          "color": "green",
          "size": 0.5
         },
         "mode": "markers",
         "text": "MySQL/MariaDB appears with VBA 4 times",
         "type": "scatter",
         "uid": "a398395a-9614-4a89-93b1-87a4088c07fc",
         "x": [
          -0.6509666276405158
         ],
         "y": [
          0.6214840703496222
         ]
        },
        {
         "hoverinfo": "text",
         "marker": {
          "color": "blue",
          "size": 0.5
         },
         "mode": "markers",
         "text": "VBA appears with MySQL/MariaDB 4 times",
         "type": "scatter",
         "uid": "11e4d9c6-23a6-4baf-88fb-f2384e6b3c74",
         "x": [
          0.819545191724812
         ],
         "y": [
          -0.3719484893378935
         ]
        },
        {
         "hoverinfo": "text",
         "marker": {
          "color": "green",
          "size": 0.5
         },
         "mode": "markers",
         "text": "MySQL/MariaDB appears with Linux 34 times",
         "type": "scatter",
         "uid": "a54741a6-bc29-4ed8-8a22-30e1d8abfd1c",
         "x": [
          -0.6612746763215045
         ],
         "y": [
          0.6105045474489846
         ]
        },
        {
         "hoverinfo": "text",
         "marker": {
          "color": "blue",
          "size": 0.5
         },
         "mode": "markers",
         "text": "Linux appears with MySQL/MariaDB 34 times",
         "type": "scatter",
         "uid": "86935df4-0b37-4a20-ba0d-5e87dc7fd343",
         "x": [
          0.8791247329546072
         ],
         "y": [
          -0.19271664149079207
         ]
        },
        {
         "hoverinfo": "text",
         "marker": {
          "color": "green",
          "size": 0.5
         },
         "mode": "markers",
         "text": "T-SQL appears with PL/SQL 30 times",
         "type": "scatter",
         "uid": "22b83ab1-24a8-447f-bb8c-514d2f217076",
         "x": [
          -0.7681155871994775
         ],
         "y": [
          0.4690399180253232
         ]
        },
        {
         "hoverinfo": "text",
         "marker": {
          "color": "blue",
          "size": 0.5
         },
         "mode": "markers",
         "text": "PL/SQL appears with T-SQL 30 times",
         "type": "scatter",
         "uid": "f1c17dd1-931c-4f11-bdcf-083503e07049",
         "x": [
          -0.8685886730924324
         ],
         "y": [
          0.2356983601460303
         ]
        },
        {
         "hoverinfo": "text",
         "marker": {
          "color": "green",
          "size": 0.5
         },
         "mode": "markers",
         "text": "T-SQL appears with Pentaho 36 times",
         "type": "scatter",
         "uid": "d13883e9-ccf2-416f-b877-539c9366fbbc",
         "x": [
          -0.7720632320362316
         ],
         "y": [
          0.46251309790941925
         ]
        },
        {
         "hoverinfo": "text",
         "marker": {
          "color": "blue",
          "size": 0.5
         },
         "mode": "markers",
         "text": "Pentaho appears with T-SQL 36 times",
         "type": "scatter",
         "uid": "cd38a384-e133-4ec2-81db-3f61fd0fb0cb",
         "x": [
          -0.8906321195845802
         ],
         "y": [
          0.12951612858743922
         ]
        },
        {
         "hoverinfo": "text",
         "marker": {
          "color": "green",
          "size": 0.5
         },
         "mode": "markers",
         "text": "T-SQL appears with Hadoop 16 times",
         "type": "scatter",
         "uid": "139a236b-b6f2-4ec1-95e0-6eefc31fc814",
         "x": [
          -0.7556917800808247
         ],
         "y": [
          0.4888045964578019
         ]
        },
        {
         "hoverinfo": "text",
         "marker": {
          "color": "blue",
          "size": 0.5
         },
         "mode": "markers",
         "text": "Hadoop appears with T-SQL 16 times",
         "type": "scatter",
         "uid": "e9f9ad3d-23e7-49e8-b811-e86e5b218067",
         "x": [
          -0.8987091817414411
         ],
         "y": [
          0.048185128967654
         ]
        },
        {
         "hoverinfo": "text",
         "marker": {
          "color": "green",
          "size": 0.5
         },
         "mode": "markers",
         "text": "T-SQL appears with Spark 16 times",
         "type": "scatter",
         "uid": "46a3323d-cf8e-4580-87f3-f1b7eea0f5bc",
         "x": [
          -0.7536767787889925
         ],
         "y": [
          0.49190579699191184
         ]
        },
        {
         "hoverinfo": "text",
         "marker": {
          "color": "blue",
          "size": 0.5
         },
         "mode": "markers",
         "text": "Spark appears with T-SQL 16 times",
         "type": "scatter",
         "uid": "105aa2b8-fd17-47cd-ac8c-e088e74bff0e",
         "x": [
          -0.8933073961690015
         ],
         "y": [
          -0.1095531649463345
         ]
        },
        {
         "hoverinfo": "text",
         "marker": {
          "color": "green",
          "size": 0.5
         },
         "mode": "markers",
         "text": "T-SQL appears with Informatica 12 times",
         "type": "scatter",
         "uid": "48e26eb5-51f6-45a5-8040-7c26352df66b",
         "x": [
          -0.7519032117013142
         ],
         "y": [
          0.49461253545906897
         ]
        },
        {
         "hoverinfo": "text",
         "marker": {
          "color": "blue",
          "size": 0.5
         },
         "mode": "markers",
         "text": "Informatica appears with T-SQL 12 times",
         "type": "scatter",
         "uid": "25733953-c423-4927-9a9a-818d16eff253",
         "x": [
          -0.858639811580523
         ],
         "y": [
          -0.2696992287140695
         ]
        },
        {
         "hoverinfo": "text",
         "marker": {
          "color": "green",
          "size": 0.5
         },
         "mode": "markers",
         "text": "T-SQL appears with Qlik 66 times",
         "type": "scatter",
         "uid": "0f5fb3a8-6073-4a50-8712-a34673aee670",
         "x": [
          -0.7916247906987939
         ],
         "y": [
          0.42817074952767487
         ]
        },
        {
         "hoverinfo": "text",
         "marker": {
          "color": "blue",
          "size": 0.5
         },
         "mode": "markers",
         "text": "Qlik appears with T-SQL 66 times",
         "type": "scatter",
         "uid": "27e3a859-1528-43bd-938d-f6c13a100e9b",
         "x": [
          -0.7634783515933095
         ],
         "y": [
          -0.47655094863861397
         ]
        },
        {
         "hoverinfo": "text",
         "marker": {
          "color": "green",
          "size": 0.5
         },
         "mode": "markers",
         "text": "T-SQL appears with Tableau 89 times",
         "type": "scatter",
         "uid": "f89ff0b7-2698-4312-ac40-deb255ec2304",
         "x": [
          -0.799989835098445
         ],
         "y": [
          0.41233028477079253
         ]
        },
        {
         "hoverinfo": "text",
         "marker": {
          "color": "blue",
          "size": 0.5
         },
         "mode": "markers",
         "text": "Tableau appears with T-SQL 89 times",
         "type": "scatter",
         "uid": "22dfa54c-da00-44f7-9a01-c7db6a745df3",
         "x": [
          -0.43523152672309884
         ],
         "y": [
          -0.7877648876068801
         ]
        },
        {
         "hoverinfo": "text",
         "marker": {
          "color": "green",
          "size": 0.5
         },
         "mode": "markers",
         "text": "T-SQL appears with Microstrategy 9 times",
         "type": "scatter",
         "uid": "d6ab6aea-a759-40ac-b9e3-5ed94cf45c57",
         "x": [
          -0.7505666558013327
         ],
         "y": [
          0.4966383948097487
         ]
        },
        {
         "hoverinfo": "text",
         "marker": {
          "color": "blue",
          "size": 0.5
         },
         "mode": "markers",
         "text": "Microstrategy appears with T-SQL 9 times",
         "type": "scatter",
         "uid": "cd6139aa-762f-4424-aab2-8ff07a42c7cd",
         "x": [
          -0.060377400173715436
         ],
         "y": [
          -0.8979724770549836
         ]
        },
        {
         "hoverinfo": "text",
         "marker": {
          "color": "green",
          "size": 0.5
         },
         "mode": "markers",
         "text": "T-SQL appears with Oracle BI 122 times",
         "type": "scatter",
         "uid": "72384ada-2088-4fac-a4bb-88be76682c11",
         "x": [
          -0.8215743081223355
         ],
         "y": [
          0.36744476623474426
         ]
        },
        {
         "hoverinfo": "text",
         "marker": {
          "color": "blue",
          "size": 0.5
         },
         "mode": "markers",
         "text": "Oracle BI appears with T-SQL 122 times",
         "type": "scatter",
         "uid": "91692672-0297-4056-9719-ded163c64157",
         "x": [
          0.15568580749190525
         ],
         "y": [
          -0.8864321346530671
         ]
        },
        {
         "hoverinfo": "text",
         "marker": {
          "color": "green",
          "size": 0.5
         },
         "mode": "markers",
         "text": "T-SQL appears with Python 46 times",
         "type": "scatter",
         "uid": "9641b2d7-7ab1-46cc-960c-06f75b0c1120",
         "x": [
          -0.785384997295787
         ],
         "y": [
          0.43951155391263236
         ]
        },
        {
         "hoverinfo": "text",
         "marker": {
          "color": "blue",
          "size": 0.5
         },
         "mode": "markers",
         "text": "Python appears with T-SQL 46 times",
         "type": "scatter",
         "uid": "d5f13e7e-e9b3-43f2-898d-63c13dfa496b",
         "x": [
          0.623503942112148
         ],
         "y": [
          -0.6490322289151835
         ]
        },
        {
         "hoverinfo": "text",
         "marker": {
          "color": "green",
          "size": 0.5
         },
         "mode": "markers",
         "text": "T-SQL appears with VBA 26 times",
         "type": "scatter",
         "uid": "b2bbbefd-972b-4cb3-ba4f-97346a3aab49",
         "x": [
          -0.7611671350869487
         ],
         "y": [
          0.4802338934972487
         ]
        },
        {
         "hoverinfo": "text",
         "marker": {
          "color": "blue",
          "size": 0.5
         },
         "mode": "markers",
         "text": "VBA appears with T-SQL 26 times",
         "type": "scatter",
         "uid": "540912f3-4801-4908-8482-19f629ea3c40",
         "x": [
          0.8234326157922313
         ],
         "y": [
          -0.3632612382976796
         ]
        },
        {
         "hoverinfo": "text",
         "marker": {
          "color": "green",
          "size": 0.5
         },
         "mode": "markers",
         "text": "T-SQL appears with Linux 23 times",
         "type": "scatter",
         "uid": "6da2fdbd-2aec-413a-b2c7-16c43c78246c",
         "x": [
          -0.7581303065543943
         ],
         "y": [
          0.48501385370290206
         ]
        },
        {
         "hoverinfo": "text",
         "marker": {
          "color": "blue",
          "size": 0.5
         },
         "mode": "markers",
         "text": "Linux appears with T-SQL 23 times",
         "type": "scatter",
         "uid": "f1137f04-7d6c-40eb-9c29-c10bbc7f96d7",
         "x": [
          0.8749395854624601
         ],
         "y": [
          -0.21090453240928347
         ]
        },
        {
         "hoverinfo": "text",
         "marker": {
          "color": "green",
          "size": 0.5
         },
         "mode": "markers",
         "text": "T-SQL appears with AWS 8 times",
         "type": "scatter",
         "uid": "b7a2e97f-47c0-432f-826f-c459307c4e57",
         "x": [
          -0.7494806837391859
         ],
         "y": [
          0.49827573160032834
         ]
        },
        {
         "hoverinfo": "text",
         "marker": {
          "color": "blue",
          "size": 0.5
         },
         "mode": "markers",
         "text": "AWS appears with T-SQL 8 times",
         "type": "scatter",
         "uid": "bc07353f-f7f2-4a78-b033-05854909628e",
         "x": [
          0.8947732996720682
         ],
         "y": [
          -0.09685423167812174
         ]
        },
        {
         "hoverinfo": "text",
         "marker": {
          "color": "green",
          "size": 0.5
         },
         "mode": "markers",
         "text": "PL/SQL appears with Pentaho 8 times",
         "type": "scatter",
         "uid": "083785e0-2106-4a35-bb69-ff2bd84c9b9b",
         "x": [
          -0.8630906114382284
         ],
         "y": [
          0.25509722939927276
         ]
        },
        {
         "hoverinfo": "text",
         "marker": {
          "color": "blue",
          "size": 0.5
         },
         "mode": "markers",
         "text": "Pentaho appears with PL/SQL 8 times",
         "type": "scatter",
         "uid": "c3b7f7b3-62e9-473e-9609-1dfb5104b260",
         "x": [
          -0.8810279802036889
         ],
         "y": [
          0.1838197434940229
         ]
        },
        {
         "hoverinfo": "text",
         "marker": {
          "color": "green",
          "size": 0.5
         },
         "mode": "markers",
         "text": "PL/SQL appears with Hadoop 3 times",
         "type": "scatter",
         "uid": "d07d2803-fad9-41b7-afaf-8e68d8a1759e",
         "x": [
          -0.8623384874711051
         ],
         "y": [
          0.2576282846002099
         ]
        },
        {
         "hoverinfo": "text",
         "marker": {
          "color": "blue",
          "size": 0.5
         },
         "mode": "markers",
         "text": "Hadoop appears with PL/SQL 3 times",
         "type": "scatter",
         "uid": "83011ec2-1e60-40f4-843d-6b6c8a5d983b",
         "x": [
          -0.898302002819935
         ],
         "y": [
          0.05525858964625869
         ]
        },
        {
         "hoverinfo": "text",
         "marker": {
          "color": "green",
          "size": 0.5
         },
         "mode": "markers",
         "text": "PL/SQL appears with Informatica 24 times",
         "type": "scatter",
         "uid": "110a43f2-0ba1-4a5b-b656-8377b0b7088d",
         "x": [
          -0.8663289629798256
         ],
         "y": [
          0.24387317995691915
         ]
        },
        {
         "hoverinfo": "text",
         "marker": {
          "color": "blue",
          "size": 0.5
         },
         "mode": "markers",
         "text": "Informatica appears with PL/SQL 24 times",
         "type": "scatter",
         "uid": "902ebed5-f064-4bba-9981-fb9a89289d26",
         "x": [
          -0.8546560928739627
         ],
         "y": [
          -0.28206907472002757
         ]
        },
        {
         "hoverinfo": "text",
         "marker": {
          "color": "green",
          "size": 0.5
         },
         "mode": "markers",
         "text": "PL/SQL appears with Qlik 12 times",
         "type": "scatter",
         "uid": "b06265a9-e0ad-432b-a6ac-43dad59186f5",
         "x": [
          -0.8639923164714958
         ],
         "y": [
          0.2520263420323731
         ]
        },
        {
         "hoverinfo": "text",
         "marker": {
          "color": "blue",
          "size": 0.5
         },
         "mode": "markers",
         "text": "Qlik appears with PL/SQL 12 times",
         "type": "scatter",
         "uid": "cc3d5917-1f0a-47b0-8357-12454d6768a0",
         "x": [
          -0.7945910345172769
         ],
         "y": [
          -0.4226406131274701
         ]
        },
        {
         "hoverinfo": "text",
         "marker": {
          "color": "green",
          "size": 0.5
         },
         "mode": "markers",
         "text": "PL/SQL appears with Tableau 15 times",
         "type": "scatter",
         "uid": "2427cb87-accc-4820-b668-e6831efe031b",
         "x": [
          -0.8645947913336012
         ],
         "y": [
          0.24995168892969455
         ]
        },
        {
         "hoverinfo": "text",
         "marker": {
          "color": "blue",
          "size": 0.5
         },
         "mode": "markers",
         "text": "Tableau appears with PL/SQL 15 times",
         "type": "scatter",
         "uid": "12cecb40-78e4-43cb-aeed-1110b3892e5a",
         "x": [
          -0.5322988245155978
         ],
         "y": [
          -0.7257120375323209
         ]
        },
        {
         "hoverinfo": "text",
         "marker": {
          "color": "green",
          "size": 0.5
         },
         "mode": "markers",
         "text": "PL/SQL appears with Microstrategy 20 times",
         "type": "scatter",
         "uid": "96fc26a3-2bea-40f7-be8c-3b24f542be87",
         "x": [
          -0.8653683622461507
         ],
         "y": [
          0.24726018204194358
         ]
        },
        {
         "hoverinfo": "text",
         "marker": {
          "color": "blue",
          "size": 0.5
         },
         "mode": "markers",
         "text": "Microstrategy appears with PL/SQL 20 times",
         "type": "scatter",
         "uid": "29f6738e-4da4-4a9f-b6fa-b19b75fc72be",
         "x": [
          -0.048713482447571996
         ],
         "y": [
          -0.8986806978164324
         ]
        },
        {
         "hoverinfo": "text",
         "marker": {
          "color": "green",
          "size": 0.5
         },
         "mode": "markers",
         "text": "PL/SQL appears with Oracle BI 74 times",
         "type": "scatter",
         "uid": "95c37919-fed2-451c-8e3c-5c3c3b6c71be",
         "x": [
          -0.872720304201826
         ],
         "y": [
          0.21990741377650794
         ]
        },
        {
         "hoverinfo": "text",
         "marker": {
          "color": "blue",
          "size": 0.5
         },
         "mode": "markers",
         "text": "Oracle BI appears with PL/SQL 74 times",
         "type": "scatter",
         "uid": "fec96063-427f-4f06-9f08-fd731b597b8d",
         "x": [
          0.10241317863876248
         ],
         "y": [
          -0.8941540923359379
         ]
        },
        {
         "hoverinfo": "text",
         "marker": {
          "color": "green",
          "size": 0.5
         },
         "mode": "markers",
         "text": "PL/SQL appears with Python 2 times",
         "type": "scatter",
         "uid": "73b9d3fb-5b57-4abc-92f1-9850385df335",
         "x": [
          -0.8622238816310442
         ],
         "y": [
          0.2580115849048161
         ]
        },
        {
         "hoverinfo": "text",
         "marker": {
          "color": "blue",
          "size": 0.5
         },
         "mode": "markers",
         "text": "Python appears with PL/SQL 2 times",
         "type": "scatter",
         "uid": "e3c8ffff-8440-4923-9073-c705d7e38399",
         "x": [
          0.5875108934154428
         ],
         "y": [
          -0.6817851201941769
         ]
        },
        {
         "hoverinfo": "text",
         "marker": {
          "color": "green",
          "size": 0.5
         },
         "mode": "markers",
         "text": "PL/SQL appears with VBA 6 times",
         "type": "scatter",
         "uid": "489d5c9e-307b-4994-972e-ae2de99b8d77",
         "x": [
          -0.8627724354635428
         ],
         "y": [
          0.2561712798193955
         ]
        },
        {
         "hoverinfo": "text",
         "marker": {
          "color": "blue",
          "size": 0.5
         },
         "mode": "markers",
         "text": "VBA appears with PL/SQL 6 times",
         "type": "scatter",
         "uid": "bc033fd3-a03c-428f-bd39-ed391d14dfe8",
         "x": [
          0.8214571876732712
         ],
         "y": [
          -0.36770652539752396
         ]
        },
        {
         "hoverinfo": "text",
         "marker": {
          "color": "green",
          "size": 0.5
         },
         "mode": "markers",
         "text": "PL/SQL appears with Linux 1 times",
         "type": "scatter",
         "uid": "7bd0ee96-66dc-4086-b12b-56f492b50ad9",
         "x": [
          -0.8621550363465611
         ],
         "y": [
          0.25824154062090743
         ]
        },
        {
         "hoverinfo": "text",
         "marker": {
          "color": "blue",
          "size": 0.5
         },
         "mode": "markers",
         "text": "Linux appears with PL/SQL 1 times",
         "type": "scatter",
         "uid": "adaee625-4994-401e-bf49-c4f58eed5785",
         "x": [
          0.8709657043451798
         ],
         "y": [
          -0.22675701059615508
         ]
        },
        {
         "hoverinfo": "text",
         "marker": {
          "color": "green",
          "size": 0.5
         },
         "mode": "markers",
         "text": "PL/SQL appears with AWS 1 times",
         "type": "scatter",
         "uid": "61d6549d-db6e-4968-ad87-cfbc48d9f9d9",
         "x": [
          -0.8621091054180755
         ],
         "y": [
          0.25839483422709053
         ]
        },
        {
         "hoverinfo": "text",
         "marker": {
          "color": "blue",
          "size": 0.5
         },
         "mode": "markers",
         "text": "AWS appears with PL/SQL 1 times",
         "type": "scatter",
         "uid": "2a5aa491-d75c-4acc-b455-78a2fea5a20e",
         "x": [
          0.8943967453723264
         ],
         "y": [
          -0.10027193958127133
         ]
        },
        {
         "hoverinfo": "text",
         "marker": {
          "color": "green",
          "size": 0.5
         },
         "mode": "markers",
         "text": "Pentaho appears with Spark 6 times",
         "type": "scatter",
         "uid": "ce206e80-6de0-407e-828b-d536ee307ed5",
         "x": [
          -0.8807369742779018
         ],
         "y": [
          0.18520902283583962
         ]
        },
        {
         "hoverinfo": "text",
         "marker": {
          "color": "blue",
          "size": 0.5
         },
         "mode": "markers",
         "text": "Spark appears with Pentaho 6 times",
         "type": "scatter",
         "uid": "54159245-6d34-4ab3-826f-61e45c6a821b",
         "x": [
          -0.8942107705735105
         ],
         "y": [
          -0.10191711235277649
         ]
        },
        {
         "hoverinfo": "text",
         "marker": {
          "color": "green",
          "size": 0.5
         },
         "mode": "markers",
         "text": "Pentaho appears with Informatica 32 times",
         "type": "scatter",
         "uid": "e630bbc5-35d2-4eac-a735-35cde0b3a68f",
         "x": [
          -0.8861044514268389
         ],
         "y": [
          0.15754015729819779
         ]
        },
        {
         "hoverinfo": "text",
         "marker": {
          "color": "blue",
          "size": 0.5
         },
         "mode": "markers",
         "text": "Informatica appears with Pentaho 32 times",
         "type": "scatter",
         "uid": "51bc30da-6b1a-4bb6-bfe1-1cd3ee56ed58",
         "x": [
          -0.8527359903384478
         ],
         "y": [
          -0.28782169963626214
         ]
        },
        {
         "hoverinfo": "text",
         "marker": {
          "color": "green",
          "size": 0.5
         },
         "mode": "markers",
         "text": "Pentaho appears with Qlik 28 times",
         "type": "scatter",
         "uid": "18a3ce3b-065b-4226-826a-5b093e97b7e0",
         "x": [
          -0.882609161977617
         ],
         "y": [
          0.17607119921545614
         ]
        },
        {
         "hoverinfo": "text",
         "marker": {
          "color": "blue",
          "size": 0.5
         },
         "mode": "markers",
         "text": "Qlik appears with Pentaho 28 times",
         "type": "scatter",
         "uid": "bce20218-24b6-414a-96b7-e8cae31c131d",
         "x": [
          -0.7872510475826097
         ],
         "y": [
          -0.43616027797139395
         ]
        },
        {
         "hoverinfo": "text",
         "marker": {
          "color": "green",
          "size": 0.5
         },
         "mode": "markers",
         "text": "Pentaho appears with Tableau 36 times",
         "type": "scatter",
         "uid": "d782bba9-b57a-437c-a668-d761ce896ffd",
         "x": [
          -0.8884140088042907
         ],
         "y": [
          0.1439463405588684
         ]
        },
        {
         "hoverinfo": "text",
         "marker": {
          "color": "blue",
          "size": 0.5
         },
         "mode": "markers",
         "text": "Tableau appears with Pentaho 36 times",
         "type": "scatter",
         "uid": "eb9bc2df-6338-45fc-b1bc-8f9394403fc3",
         "x": [
          -0.5074794557943827
         ],
         "y": [
          -0.7432796256770645
         ]
        },
        {
         "hoverinfo": "text",
         "marker": {
          "color": "green",
          "size": 0.5
         },
         "mode": "markers",
         "text": "Pentaho appears with Microstrategy 3 times",
         "type": "scatter",
         "uid": "8be0c305-0aed-4273-904e-4560da02b570",
         "x": [
          -0.8805487421537542
         ],
         "y": [
          0.1861018879308891
         ]
        },
        {
         "hoverinfo": "text",
         "marker": {
          "color": "blue",
          "size": 0.5
         },
         "mode": "markers",
         "text": "Microstrategy appears with Pentaho 3 times",
         "type": "scatter",
         "uid": "3bb3ee61-1f4d-4300-bdb8-b685ae4ddd08",
         "x": [
          -0.06354957624546338
         ],
         "y": [
          -0.8977535582547262
         ]
        },
        {
         "hoverinfo": "text",
         "marker": {
          "color": "green",
          "size": 0.5
         },
         "mode": "markers",
         "text": "Pentaho appears with Oracle BI 36 times",
         "type": "scatter",
         "uid": "76f186a1-57bc-4f57-aef5-b6ecab497e65",
         "x": [
          -0.8895523253233858
         ],
         "y": [
          0.1367357323882723
         ]
        },
        {
         "hoverinfo": "text",
         "marker": {
          "color": "blue",
          "size": 0.5
         },
         "mode": "markers",
         "text": "Oracle BI appears with Pentaho 36 times",
         "type": "scatter",
         "uid": "782a9ede-e066-404a-ae7d-0311c3efc0e0",
         "x": [
          0.03693361355626729
         ],
         "y": [
          -0.8992418518895104
         ]
        },
        {
         "hoverinfo": "text",
         "marker": {
          "color": "green",
          "size": 0.5
         },
         "mode": "markers",
         "text": "Pentaho appears with Python 34 times",
         "type": "scatter",
         "uid": "ecd20f42-9ac8-4938-a2ce-67faa91eac16",
         "x": [
          -0.8872512768864519
         ],
         "y": [
          0.15094757919013044
         ]
        },
        {
         "hoverinfo": "text",
         "marker": {
          "color": "blue",
          "size": 0.5
         },
         "mode": "markers",
         "text": "Python appears with Pentaho 34 times",
         "type": "scatter",
         "uid": "e746788a-0a40-403d-b0a0-987cf5d74137",
         "x": [
          0.6017281139133377
         ],
         "y": [
          -0.669270705265289
         ]
        },
        {
         "hoverinfo": "text",
         "marker": {
          "color": "green",
          "size": 0.5
         },
         "mode": "markers",
         "text": "Pentaho appears with VBA 1 times",
         "type": "scatter",
         "uid": "d4dc46a3-0b67-4b08-8606-64a1201e65f3",
         "x": [
          -0.880464792875196
         ],
         "y": [
          0.18649865551053815
         ]
        },
        {
         "hoverinfo": "text",
         "marker": {
          "color": "blue",
          "size": 0.5
         },
         "mode": "markers",
         "text": "VBA appears with Pentaho 1 times",
         "type": "scatter",
         "uid": "1d39d3a6-7ff6-4606-b3db-3fb0ca63c393",
         "x": [
          0.8190637680544761
         ],
         "y": [
          -0.37300743137423337
         ]
        },
        {
         "hoverinfo": "text",
         "marker": {
          "color": "green",
          "size": 0.5
         },
         "mode": "markers",
         "text": "Pentaho appears with Linux 32 times",
         "type": "scatter",
         "uid": "b67b1bdf-37eb-49d8-9a69-1bbf71c8a6fc",
         "x": [
          -0.8849455973004985
         ],
         "y": [
          0.16392464676937402
         ]
        },
        {
         "hoverinfo": "text",
         "marker": {
          "color": "blue",
          "size": 0.5
         },
         "mode": "markers",
         "text": "Linux appears with Pentaho 32 times",
         "type": "scatter",
         "uid": "f7311811-3ac8-4006-b440-02766a738196",
         "x": [
          0.8762232033685599
         ],
         "y": [
          -0.20550644242587507
         ]
        },
        {
         "hoverinfo": "text",
         "marker": {
          "color": "green",
          "size": 0.5
         },
         "mode": "markers",
         "text": "Pentaho appears with AWS 13 times",
         "type": "scatter",
         "uid": "354ec489-f7cf-4133-ac3f-c3cdb34b1fa1",
         "x": [
          -0.8817865162272668
         ],
         "y": [
          0.1801458847705943
         ]
        },
        {
         "hoverinfo": "text",
         "marker": {
          "color": "blue",
          "size": 0.5
         },
         "mode": "markers",
         "text": "AWS appears with Pentaho 13 times",
         "type": "scatter",
         "uid": "ed514f8a-8b1a-4704-aa13-4764a129755f",
         "x": [
          0.8951560703215898
         ],
         "y": [
          -0.09325025343884548
         ]
        },
        {
         "hoverinfo": "text",
         "marker": {
          "color": "green",
          "size": 0.5
         },
         "mode": "markers",
         "text": "Hadoop appears with Spark 110 times",
         "type": "scatter",
         "uid": "97b441b0-fafb-4193-8c6f-cc19d024201a",
         "x": [
          -0.8993713186519213
         ],
         "y": [
          -0.033633780434323496
         ]
        },
        {
         "hoverinfo": "text",
         "marker": {
          "color": "blue",
          "size": 0.5
         },
         "mode": "markers",
         "text": "Spark appears with Hadoop 110 times",
         "type": "scatter",
         "uid": "250518d5-b982-4667-9d21-2b5e42eecab1",
         "x": [
          -0.879130316807942
         ],
         "y": [
          -0.19269116759511237
         ]
        },
        {
         "hoverinfo": "text",
         "marker": {
          "color": "green",
          "size": 0.5
         },
         "mode": "markers",
         "text": "Hadoop appears with Informatica 5 times",
         "type": "scatter",
         "uid": "7457d843-a975-43a4-92dd-ddba6fde9106",
         "x": [
          -0.8984043005581092
         ],
         "y": [
          0.05356969981897168
         ]
        },
        {
         "hoverinfo": "text",
         "marker": {
          "color": "blue",
          "size": 0.5
         },
         "mode": "markers",
         "text": "Informatica appears with Hadoop 5 times",
         "type": "scatter",
         "uid": "21e2c8aa-74d4-4e75-ab7e-d1d173f7372a",
         "x": [
          -0.862041001782077
         ],
         "y": [
          -0.25862194656786786
         ]
        },
        {
         "hoverinfo": "text",
         "marker": {
          "color": "green",
          "size": 0.5
         },
         "mode": "markers",
         "text": "Hadoop appears with Qlik 9 times",
         "type": "scatter",
         "uid": "a2c97bb3-6410-4087-8a69-594c92446ab8",
         "x": [
          -0.898563761983027
         ],
         "y": [
          0.05082485268950691
         ]
        },
        {
         "hoverinfo": "text",
         "marker": {
          "color": "blue",
          "size": 0.5
         },
         "mode": "markers",
         "text": "Qlik appears with Hadoop 9 times",
         "type": "scatter",
         "uid": "12f1d51c-d28e-45dc-85ae-c58be84f7d8a",
         "x": [
          -0.7957731388721303
         ],
         "y": [
          -0.4204106462134342
         ]
        },
        {
         "hoverinfo": "text",
         "marker": {
          "color": "green",
          "size": 0.5
         },
         "mode": "markers",
         "text": "Hadoop appears with Tableau 35 times",
         "type": "scatter",
         "uid": "af9a8424-0ae6-492b-8d0a-4b93a0e5ce57",
         "x": [
          -0.899778382638563
         ],
         "y": [
          0.019971533149255583
         ]
        },
        {
         "hoverinfo": "text",
         "marker": {
          "color": "blue",
          "size": 0.5
         },
         "mode": "markers",
         "text": "Tableau appears with Hadoop 35 times",
         "type": "scatter",
         "uid": "226b4ac6-56ac-4e0e-8f2d-3431df128066",
         "x": [
          -0.5146167542264511
         ],
         "y": [
          -0.7383560091645713
         ]
        },
        {
         "hoverinfo": "text",
         "marker": {
          "color": "green",
          "size": 0.5
         },
         "mode": "markers",
         "text": "Hadoop appears with Microstrategy 3 times",
         "type": "scatter",
         "uid": "86167ac5-85b6-4ecd-a5d4-800eda1a8bf1",
         "x": [
          -0.8982231959661549
         ],
         "y": [
          0.05652512917585098
         ]
        },
        {
         "hoverinfo": "text",
         "marker": {
          "color": "blue",
          "size": 0.5
         },
         "mode": "markers",
         "text": "Microstrategy appears with Hadoop 3 times",
         "type": "scatter",
         "uid": "e9285d01-f8b8-4717-89b7-ad7024c1a6c6",
         "x": [
          -0.06307379943636426
         ],
         "y": [
          -0.8977871105249068
         ]
        },
        {
         "hoverinfo": "text",
         "marker": {
          "color": "green",
          "size": 0.5
         },
         "mode": "markers",
         "text": "Hadoop appears with Oracle BI 32 times",
         "type": "scatter",
         "uid": "324ebee5-ac44-42d3-885f-0fbc9d35fccd",
         "x": [
          -0.8995932779046772
         ],
         "y": [
          0.02705428521913483
         ]
        },
        {
         "hoverinfo": "text",
         "marker": {
          "color": "blue",
          "size": 0.5
         },
         "mode": "markers",
         "text": "Oracle BI appears with Hadoop 32 times",
         "type": "scatter",
         "uid": "58adfbc0-3c2a-48a1-9968-977e9644e2fc",
         "x": [
          0.02014898635018707
         ],
         "y": [
          -0.8997744263697763
         ]
        },
        {
         "hoverinfo": "text",
         "marker": {
          "color": "green",
          "size": 0.5
         },
         "mode": "markers",
         "text": "Hadoop appears with Python 118 times",
         "type": "scatter",
         "uid": "0b23a5b7-f017-44c0-be0f-61b243b98242",
         "x": [
          -0.8981476688736261
         ],
         "y": [
          -0.05771277932028107
         ]
        },
        {
         "hoverinfo": "text",
         "marker": {
          "color": "blue",
          "size": 0.5
         },
         "mode": "markers",
         "text": "Python appears with Hadoop 118 times",
         "type": "scatter",
         "uid": "6fc7aff8-2f84-4a4d-9336-d203faadd059",
         "x": [
          0.7126047342469612
         ],
         "y": [
          -0.5497221959579381
         ]
        },
        {
         "hoverinfo": "text",
         "marker": {
          "color": "green",
          "size": 0.5
         },
         "mode": "markers",
         "text": "Hadoop appears with VBA 6 times",
         "type": "scatter",
         "uid": "3a8d5078-4cc2-4433-bec8-3f6442a5d780",
         "x": [
          -0.8984727883731085
         ],
         "y": [
          0.052408477873827734
         ]
        },
        {
         "hoverinfo": "text",
         "marker": {
          "color": "blue",
          "size": 0.5
         },
         "mode": "markers",
         "text": "VBA appears with Hadoop 6 times",
         "type": "scatter",
         "uid": "4d0e72f0-33c8-4ceb-8bf7-15ae68f1c834",
         "x": [
          0.8209379095695067
         ],
         "y": [
          -0.36886440412656835
         ]
        },
        {
         "hoverinfo": "text",
         "marker": {
          "color": "green",
          "size": 0.5
         },
         "mode": "markers",
         "text": "Hadoop appears with Linux 71 times",
         "type": "scatter",
         "uid": "567c4999-4370-49f4-8201-a5bef221c370",
         "x": [
          -0.8998831803848873
         ],
         "y": [
          -0.014500402076504638
         ]
        },
        {
         "hoverinfo": "text",
         "marker": {
          "color": "blue",
          "size": 0.5
         },
         "mode": "markers",
         "text": "Linux appears with Hadoop 71 times",
         "type": "scatter",
         "uid": "c7aaf5d5-523c-40b9-8917-e006ad3e853d",
         "x": [
          0.8872710060885762
         ],
         "y": [
          -0.15083156750019447
         ]
        },
        {
         "hoverinfo": "text",
         "marker": {
          "color": "green",
          "size": 0.5
         },
         "mode": "markers",
         "text": "Hadoop appears with AWS 40 times",
         "type": "scatter",
         "uid": "947ffbe1-d517-4f6a-8fd7-023b364c50b4",
         "x": [
          -0.8999194403405991
         ],
         "y": [
          0.012041631827239937
         ]
        },
        {
         "hoverinfo": "text",
         "marker": {
          "color": "blue",
          "size": 0.5
         },
         "mode": "markers",
         "text": "AWS appears with Hadoop 40 times",
         "type": "scatter",
         "uid": "2f70f62f-3a1a-492e-b5dc-23a32424d9b5",
         "x": [
          0.8972429526664681
         ],
         "y": [
          -0.07039235676092959
         ]
        },
        {
         "hoverinfo": "text",
         "marker": {
          "color": "green",
          "size": 0.5
         },
         "mode": "markers",
         "text": "Spark appears with Informatica 10 times",
         "type": "scatter",
         "uid": "a56a443b-6003-47c1-93ad-a17c0c10be76",
         "x": [
          -0.8940156592739703
         ],
         "y": [
          -0.10361467547084388
         ]
        },
        {
         "hoverinfo": "text",
         "marker": {
          "color": "blue",
          "size": 0.5
         },
         "mode": "markers",
         "text": "Informatica appears with Spark 10 times",
         "type": "scatter",
         "uid": "b9105d58-d25d-4387-ba5b-6c9ecb4f7900",
         "x": [
          -0.8606913118010694
         ],
         "y": [
          -0.26307882048951514
         ]
        },
        {
         "hoverinfo": "text",
         "marker": {
          "color": "green",
          "size": 0.5
         },
         "mode": "markers",
         "text": "Spark appears with Qlik 15 times",
         "type": "scatter",
         "uid": "f78cbb26-93b2-4cf0-9bc2-025dbc4cc087",
         "x": [
          -0.8937043465654373
         ],
         "y": [
          -0.10626636782183155
         ]
        },
        {
         "hoverinfo": "text",
         "marker": {
          "color": "blue",
          "size": 0.5
         },
         "mode": "markers",
         "text": "Qlik appears with Spark 15 times",
         "type": "scatter",
         "uid": "7b64510d-6220-4844-bb64-fb1091fc2ab9",
         "x": [
          -0.7915798621674021
         ],
         "y": [
          -0.4282538053666736
         ]
        },
        {
         "hoverinfo": "text",
         "marker": {
          "color": "green",
          "size": 0.5
         },
         "mode": "markers",
         "text": "Spark appears with Tableau 33 times",
         "type": "scatter",
         "uid": "2d299df1-dd96-4e90-a138-ade3f8f4713a",
         "x": [
          -0.8899374034573406
         ],
         "y": [
          -0.13420662400793196
         ]
        },
        {
         "hoverinfo": "text",
         "marker": {
          "color": "blue",
          "size": 0.5
         },
         "mode": "markers",
         "text": "Tableau appears with Spark 33 times",
         "type": "scatter",
         "uid": "3e92617b-d627-44e5-9bd5-43c9c815fe4f",
         "x": [
          -0.5214077041717234
         ],
         "y": [
          -0.7335761760242576
         ]
        },
        {
         "hoverinfo": "text",
         "marker": {
          "color": "green",
          "size": 0.5
         },
         "mode": "markers",
         "text": "Spark appears with Microstrategy 3 times",
         "type": "scatter",
         "uid": "ad18543b-9d7a-4b1f-8210-d3f0d9105606",
         "x": [
          -0.894579625427696
         ],
         "y": [
          -0.0986270438046437
         ]
        },
        {
         "hoverinfo": "text",
         "marker": {
          "color": "blue",
          "size": 0.5
         },
         "mode": "markers",
         "text": "Microstrategy appears with Spark 3 times",
         "type": "scatter",
         "uid": "a5b70f13-d511-47d3-8607-67e6e1b981dd",
         "x": [
          -0.06402533520660071
         ],
         "y": [
          -0.8977197538495421
         ]
        },
        {
         "hoverinfo": "text",
         "marker": {
          "color": "green",
          "size": 0.5
         },
         "mode": "markers",
         "text": "Spark appears with Oracle BI 27 times",
         "type": "scatter",
         "uid": "54dc4d1f-8021-4d3d-8970-5bb4bb281cc4",
         "x": [
          -0.8908703568561915
         ],
         "y": [
          -0.1278671469726371
         ]
        },
        {
         "hoverinfo": "text",
         "marker": {
          "color": "blue",
          "size": 0.5
         },
         "mode": "markers",
         "text": "Oracle BI appears with Spark 27 times",
         "type": "scatter",
         "uid": "8db68e40-3ce5-4cb4-9c80-ca9a6bc7a955",
         "x": [
          0.012864895261718539
         ],
         "y": [
          -0.8999080477859419
         ]
        },
        {
         "hoverinfo": "text",
         "marker": {
          "color": "green",
          "size": 0.5
         },
         "mode": "markers",
         "text": "Spark appears with Python 126 times",
         "type": "scatter",
         "uid": "2865bcd9-3715-4418-af2e-4f388586ef58",
         "x": [
          -0.8733901302184043
         ],
         "y": [
          -0.2172318587064954
         ]
        },
        {
         "hoverinfo": "text",
         "marker": {
          "color": "blue",
          "size": 0.5
         },
         "mode": "markers",
         "text": "Python appears with Spark 126 times",
         "type": "scatter",
         "uid": "ed2a8ef7-8070-4be8-81e2-2399a7adffa2",
         "x": [
          0.730091436409912
         ],
         "y": [
          -0.5262760629944245
         ]
        },
        {
         "hoverinfo": "text",
         "marker": {
          "color": "green",
          "size": 0.5
         },
         "mode": "markers",
         "text": "Spark appears with VBA 6 times",
         "type": "scatter",
         "uid": "3e321ec1-da64-42dc-b250-efbf136ca2d2",
         "x": [
          -0.8943549887682348
         ],
         "y": [
          -0.10064369858749521
         ]
        },
        {
         "hoverinfo": "text",
         "marker": {
          "color": "blue",
          "size": 0.5
         },
         "mode": "markers",
         "text": "VBA appears with Spark 6 times",
         "type": "scatter",
         "uid": "d71b7077-1784-40b5-b5cb-d5b9aa52630d",
         "x": [
          0.8204169993875635
         ],
         "y": [
          -0.3700215495290871
         ]
        },
        {
         "hoverinfo": "text",
         "marker": {
          "color": "green",
          "size": 0.5
         },
         "mode": "markers",
         "text": "Spark appears with Linux 54 times",
         "type": "scatter",
         "uid": "01cfbc34-dba3-4f79-9a4d-11506403973a",
         "x": [
          -0.8856601974016752
         ],
         "y": [
          -0.1600187949536733
         ]
        },
        {
         "hoverinfo": "text",
         "marker": {
          "color": "blue",
          "size": 0.5
         },
         "mode": "markers",
         "text": "Linux appears with Spark 54 times",
         "type": "scatter",
         "uid": "65a991e5-c35c-41af-a933-185f12aeaa02",
         "x": [
          0.8825978162891435
         ],
         "y": [
          -0.17612806329950753
         ]
        },
        {
         "hoverinfo": "text",
         "marker": {
          "color": "green",
          "size": 0.5
         },
         "mode": "markers",
         "text": "Spark appears with AWS 43 times",
         "type": "scatter",
         "uid": "573c880b-cf9c-4e0c-895a-545857e3db61",
         "x": [
          -0.8874433461092637
         ],
         "y": [
          -0.14981424313593703
         ]
        },
        {
         "hoverinfo": "text",
         "marker": {
          "color": "blue",
          "size": 0.5
         },
         "mode": "markers",
         "text": "AWS appears with Spark 43 times",
         "type": "scatter",
         "uid": "49dc018a-e4e9-4b14-8a11-64b2db5ef5d6",
         "x": [
          0.8978132693382869
         ],
         "y": [
          -0.06270034609232085
         ]
        },
        {
         "hoverinfo": "text",
         "marker": {
          "color": "green",
          "size": 0.5
         },
         "mode": "markers",
         "text": "Informatica appears with Qlik 91 times",
         "type": "scatter",
         "uid": "7dd82ad4-d769-4b98-9668-fe58a9546542",
         "x": [
          -0.8343341838483553
         ],
         "y": [
          -0.33747069452338957
         ]
        },
        {
         "hoverinfo": "text",
         "marker": {
          "color": "blue",
          "size": 0.5
         },
         "mode": "markers",
         "text": "Qlik appears with Informatica 91 times",
         "type": "scatter",
         "uid": "82a862de-ddc8-49fc-9d02-29310c5e837f",
         "x": [
          -0.7443877399442599
         ],
         "y": [
          -0.5058526392346657
         ]
        },
        {
         "hoverinfo": "text",
         "marker": {
          "color": "green",
          "size": 0.5
         },
         "mode": "markers",
         "text": "Informatica appears with Tableau 64 times",
         "type": "scatter",
         "uid": "1851dba7-9178-4f50-887e-95a6d2000955",
         "x": [
          -0.840482910673659
         ],
         "y": [
          -0.32185163797242705
         ]
        },
        {
         "hoverinfo": "text",
         "marker": {
          "color": "blue",
          "size": 0.5
         },
         "mode": "markers",
         "text": "Tableau appears with Informatica 64 times",
         "type": "scatter",
         "uid": "2412729a-7175-49c0-87ef-10dd6e60c244",
         "x": [
          -0.46953797492764654
         ],
         "y": [
          -0.7678112333776088
         ]
        },
        {
         "hoverinfo": "text",
         "marker": {
          "color": "green",
          "size": 0.5
         },
         "mode": "markers",
         "text": "Informatica appears with Microstrategy 11 times",
         "type": "scatter",
         "uid": "ca22155c-2e4f-48f4-91f4-b9c29e9b5ceb",
         "x": [
          -0.8593829377616787
         ],
         "y": [
          -0.26732184026769445
         ]
        },
        {
         "hoverinfo": "text",
         "marker": {
          "color": "blue",
          "size": 0.5
         },
         "mode": "markers",
         "text": "Microstrategy appears with Informatica 11 times",
         "type": "scatter",
         "uid": "9a9aace2-8c97-40f8-af91-b041bf1bcd36",
         "x": [
          -0.05879102704543696
         ],
         "y": [
          -0.8980777333499271
         ]
        },
        {
         "hoverinfo": "text",
         "marker": {
          "color": "green",
          "size": 0.5
         },
         "mode": "markers",
         "text": "Informatica appears with Oracle BI 123 times",
         "type": "scatter",
         "uid": "da322e4b-0c01-4f00-8229-19c2d2091d32",
         "x": [
          -0.8152142354534037
         ],
         "y": [
          -0.3813472830821304
         ]
        },
        {
         "hoverinfo": "text",
         "marker": {
          "color": "blue",
          "size": 0.5
         },
         "mode": "markers",
         "text": "Oracle BI appears with Informatica 123 times",
         "type": "scatter",
         "uid": "e6e3f609-1438-473d-8514-411078e27e26",
         "x": [
          0.18538884683003445
         ],
         "y": [
          -0.8806991401557231
         ]
        },
        {
         "hoverinfo": "text",
         "marker": {
          "color": "green",
          "size": 0.5
         },
         "mode": "markers",
         "text": "Informatica appears with Python 24 times",
         "type": "scatter",
         "uid": "3bbfbd69-fbfb-4265-9e5f-d2e5f70f9b17",
         "x": [
          -0.8562710109595896
         ],
         "y": [
          -0.2771280494468984
         ]
        },
        {
         "hoverinfo": "text",
         "marker": {
          "color": "blue",
          "size": 0.5
         },
         "mode": "markers",
         "text": "Python appears with Informatica 24 times",
         "type": "scatter",
         "uid": "30b8af40-b85b-41c3-90f6-680df9cb156e",
         "x": [
          0.5965397618573152
         ],
         "y": [
          -0.6738993341169124
         ]
        },
        {
         "hoverinfo": "text",
         "marker": {
          "color": "green",
          "size": 0.5
         },
         "mode": "markers",
         "text": "Informatica appears with VBA 3 times",
         "type": "scatter",
         "uid": "108c1a41-7d70-454e-bfc9-dc3de2d3c584",
         "x": [
          -0.8622895617027748
         ],
         "y": [
          -0.25779199323958174
         ]
        },
        {
         "hoverinfo": "text",
         "marker": {
          "color": "blue",
          "size": 0.5
         },
         "mode": "markers",
         "text": "VBA appears with Informatica 3 times",
         "type": "scatter",
         "uid": "744c4923-4ad6-4b43-b61c-9943652a53e3",
         "x": [
          0.8192389895617007
         ],
         "y": [
          -0.37262243354624225
         ]
        },
        {
         "hoverinfo": "text",
         "marker": {
          "color": "green",
          "size": 0.5
         },
         "mode": "markers",
         "text": "Informatica appears with Linux 6 times",
         "type": "scatter",
         "uid": "bbdf713a-60a3-4e9b-ac2a-d8bbabf86a9c",
         "x": [
          -0.8616979275994373
         ],
         "y": [
          -0.2597627409210852
         ]
        },
        {
         "hoverinfo": "text",
         "marker": {
          "color": "blue",
          "size": 0.5
         },
         "mode": "markers",
         "text": "Linux appears with Informatica 6 times",
         "type": "scatter",
         "uid": "f44a2577-a0ba-4a1b-b657-a482fe182467",
         "x": [
          0.8717985354826701
         ],
         "y": [
          -0.22353369663268152
         ]
        },
        {
         "hoverinfo": "text",
         "marker": {
          "color": "green",
          "size": 0.5
         },
         "mode": "markers",
         "text": "Informatica appears with AWS 18 times",
         "type": "scatter",
         "uid": "16baa1e9-fbea-4d16-8cb6-e11b3bc48fa2",
         "x": [
          -0.8576606336320566
         ],
         "y": [
          -0.2727970628834911
         ]
        },
        {
         "hoverinfo": "text",
         "marker": {
          "color": "blue",
          "size": 0.5
         },
         "mode": "markers",
         "text": "AWS appears with Informatica 18 times",
         "type": "scatter",
         "uid": "ad3bf4aa-2e9d-448b-811e-8be3fc151ab2",
         "x": [
          0.8954499692108613
         ],
         "y": [
          -0.09038447123409916
         ]
        },
        {
         "hoverinfo": "text",
         "marker": {
          "color": "green",
          "size": 0.5
         },
         "mode": "markers",
         "text": "Qlik appears with Tableau 308 times",
         "type": "scatter",
         "uid": "27a7a244-b871-4f11-b0e1-98c88cac7494",
         "x": [
          -0.650242268110653
         ],
         "y": [
          -0.6222419085551163
         ]
        },
        {
         "hoverinfo": "text",
         "marker": {
          "color": "blue",
          "size": 0.5
         },
         "mode": "markers",
         "text": "Tableau appears with Qlik 308 times",
         "type": "scatter",
         "uid": "aef49850-fff4-4d38-9459-48945424758b",
         "x": [
          -0.30601962057750365
         ],
         "y": [
          -0.8463757982253514
         ]
        },
        {
         "hoverinfo": "text",
         "marker": {
          "color": "green",
          "size": 0.5
         },
         "mode": "markers",
         "text": "Qlik appears with Microstrategy 28 times",
         "type": "scatter",
         "uid": "81ef0ee8-e48a-4db4-8d8a-dfa3887410ab",
         "x": [
          -0.7839673470068631
         ],
         "y": [
          -0.4420352913818317
         ]
        },
        {
         "hoverinfo": "text",
         "marker": {
          "color": "blue",
          "size": 0.5
         },
         "mode": "markers",
         "text": "Microstrategy appears with Qlik 28 times",
         "type": "scatter",
         "uid": "d653526d-54ff-4140-9bc2-84904dab8161",
         "x": [
          -0.04140931270777455
         ],
         "y": [
          -0.8990468668657212
         ]
        },
        {
         "hoverinfo": "text",
         "marker": {
          "color": "green",
          "size": 0.5
         },
         "mode": "markers",
         "text": "Qlik appears with Oracle BI 286 times",
         "type": "scatter",
         "uid": "7c2fa171-59e6-4260-a253-55fcac3311c9",
         "x": [
          -0.6975039381962463
         ],
         "y": [
          -0.5687602800835576
         ]
        },
        {
         "hoverinfo": "text",
         "marker": {
          "color": "blue",
          "size": 0.5
         },
         "mode": "markers",
         "text": "Oracle BI appears with Qlik 286 times",
         "type": "scatter",
         "uid": "9c06c753-3277-4bc2-8621-29632a94522c",
         "x": [
          0.34908211158221175
         ],
         "y": [
          -0.829543054562754
         ]
        },
        {
         "hoverinfo": "text",
         "marker": {
          "color": "green",
          "size": 0.5
         },
         "mode": "markers",
         "text": "Qlik appears with Python 38 times",
         "type": "scatter",
         "uid": "41c14efa-5050-4ee7-93a1-ac4983fa40b5",
         "x": [
          -0.7765405423950109
         ],
         "y": [
          -0.45495580666352875
         ]
        },
        {
         "hoverinfo": "text",
         "marker": {
          "color": "blue",
          "size": 0.5
         },
         "mode": "markers",
         "text": "Python appears with Qlik 38 times",
         "type": "scatter",
         "uid": "68896b32-65d7-48db-bcd7-b8d8477873a0",
         "x": [
          0.6081188302569456
         ],
         "y": [
          -0.663469282097464
         ]
        },
        {
         "hoverinfo": "text",
         "marker": {
          "color": "green",
          "size": 0.5
         },
         "mode": "markers",
         "text": "Qlik appears with VBA 29 times",
         "type": "scatter",
         "uid": "3c938f5e-6f43-4210-add2-407132985f23",
         "x": [
          -0.7805799860876282
         ],
         "y": [
          -0.4479898272499478
         ]
        },
        {
         "hoverinfo": "text",
         "marker": {
          "color": "blue",
          "size": 0.5
         },
         "mode": "markers",
         "text": "VBA appears with Qlik 29 times",
         "type": "scatter",
         "uid": "4d8ed724-6e91-43f1-8874-46d0ddef90b7",
         "x": [
          0.8280173841254379
         ],
         "y": [
          -0.3526857121943941
         ]
        },
        {
         "hoverinfo": "text",
         "marker": {
          "color": "green",
          "size": 0.5
         },
         "mode": "markers",
         "text": "Qlik appears with Linux 2 times",
         "type": "scatter",
         "uid": "ed9e6ff0-8746-450d-9346-f209fe6a96cc",
         "x": [
          -0.79638983935944
         ],
         "y": [
          -0.4192412476904502
         ]
        },
        {
         "hoverinfo": "text",
         "marker": {
          "color": "blue",
          "size": 0.5
         },
         "mode": "markers",
         "text": "Linux appears with Qlik 2 times",
         "type": "scatter",
         "uid": "88dfd461-d6b3-47eb-b7e3-a9ad4d96ad01",
         "x": [
          0.8710419089005055
         ],
         "y": [
          -0.2264641096045099
         ]
        },
        {
         "hoverinfo": "text",
         "marker": {
          "color": "green",
          "size": 0.5
         },
         "mode": "markers",
         "text": "Qlik appears with AWS 2 times",
         "type": "scatter",
         "uid": "ec963f36-faee-4bb6-a2c7-128717fd93f7",
         "x": [
          -0.7966136680913515
         ],
         "y": [
          -0.4188157874412593
         ]
        },
        {
         "hoverinfo": "text",
         "marker": {
          "color": "blue",
          "size": 0.5
         },
         "mode": "markers",
         "text": "AWS appears with Qlik 2 times",
         "type": "scatter",
         "uid": "0648696d-2e29-49cf-a922-5aaf5671ccdd",
         "x": [
          0.8944689867914427
         ],
         "y": [
          -0.09962545692888927
         ]
        },
        {
         "hoverinfo": "text",
         "marker": {
          "color": "green",
          "size": 0.5
         },
         "mode": "markers",
         "text": "Tableau appears with Microstrategy 40 times",
         "type": "scatter",
         "uid": "23ec54ce-384f-4d47-9118-3a179856c98d",
         "x": [
          -0.4920420949254997
         ],
         "y": [
          -0.7535878029940013
         ]
        },
        {
         "hoverinfo": "text",
         "marker": {
          "color": "blue",
          "size": 0.5
         },
         "mode": "markers",
         "text": "Microstrategy appears with Tableau 40 times",
         "type": "scatter",
         "uid": "15de75e6-574b-404d-bd63-e8b824ef54ff",
         "x": [
          -0.030765870422581453
         ],
         "y": [
          -0.8994739914067227
         ]
        },
        {
         "hoverinfo": "text",
         "marker": {
          "color": "green",
          "size": 0.5
         },
         "mode": "markers",
         "text": "Tableau appears with Oracle BI 358 times",
         "type": "scatter",
         "uid": "5bea8eeb-5ff1-4554-8932-b25cda6a9163",
         "x": [
          -0.22838603071940472
         ],
         "y": [
          -0.8705399594345082
         ]
        },
        {
         "hoverinfo": "text",
         "marker": {
          "color": "blue",
          "size": 0.5
         },
         "mode": "markers",
         "text": "Oracle BI appears with Tableau 358 times",
         "type": "scatter",
         "uid": "06ce40ca-3961-4a5a-adb1-662dca464c73",
         "x": [
          0.4209209658755803
         ],
         "y": [
          -0.7955033252516098
         ]
        },
        {
         "hoverinfo": "text",
         "marker": {
          "color": "green",
          "size": 0.5
         },
         "mode": "markers",
         "text": "Tableau appears with Python 106 times",
         "type": "scatter",
         "uid": "cf906e82-9ee6-48ec-b741-209ff361948b",
         "x": [
          -0.41423708143202886
         ],
         "y": [
          -0.7990041554126454
         ]
        },
        {
         "hoverinfo": "text",
         "marker": {
          "color": "blue",
          "size": 0.5
         },
         "mode": "markers",
         "text": "Python appears with Tableau 106 times",
         "type": "scatter",
         "uid": "d2285651-6c9c-4ac6-8ace-368f290a3558",
         "x": [
          0.6958882802977306
         ],
         "y": [
          -0.570735929606913
         ]
        },
        {
         "hoverinfo": "text",
         "marker": {
          "color": "green",
          "size": 0.5
         },
         "mode": "markers",
         "text": "Tableau appears with VBA 57 times",
         "type": "scatter",
         "uid": "4e0c5f4c-8bab-404c-a938-d9f94570a268",
         "x": [
          -0.482080795379352
         ],
         "y": [
          -0.75999875442425
         ]
        },
        {
         "hoverinfo": "text",
         "marker": {
          "color": "blue",
          "size": 0.5
         },
         "mode": "markers",
         "text": "VBA appears with Tableau 57 times",
         "type": "scatter",
         "uid": "6ebefce7-bdfc-4d23-9a21-01b3afaa8f34",
         "x": [
          0.8385575089061261
         ],
         "y": [
          -0.3268352861261345
         ]
        },
        {
         "hoverinfo": "text",
         "marker": {
          "color": "green",
          "size": 0.5
         },
         "mode": "markers",
         "text": "Tableau appears with Linux 13 times",
         "type": "scatter",
         "uid": "d9a79d41-d7ad-424a-84ef-16dd43f214c0",
         "x": [
          -0.5350522699106582
         ],
         "y": [
          -0.7236843707469798
         ]
        },
        {
         "hoverinfo": "text",
         "marker": {
          "color": "blue",
          "size": 0.5
         },
         "mode": "markers",
         "text": "Linux appears with Tableau 13 times",
         "type": "scatter",
         "uid": "d149f5e3-83ad-4387-b37e-641e85dfac8a",
         "x": [
          0.8722726337432292
         ],
         "y": [
          -0.22167645888242268
         ]
        },
        {
         "hoverinfo": "text",
         "marker": {
          "color": "green",
          "size": 0.5
         },
         "mode": "markers",
         "text": "Tableau appears with AWS 31 times",
         "type": "scatter",
         "uid": "4c856630-5ab3-42db-92dd-8e2a623c8da7",
         "x": [
          -0.5277586440838931
         ],
         "y": [
          -0.7290204479949316
         ]
        },
        {
         "hoverinfo": "text",
         "marker": {
          "color": "blue",
          "size": 0.5
         },
         "mode": "markers",
         "text": "AWS appears with Tableau 31 times",
         "type": "scatter",
         "uid": "40519455-f21c-4e0d-bee4-3e77b8fcd7c6",
         "x": [
          0.8967027924624891
         ],
         "y": [
          -0.07696818816871284
         ]
        },
        {
         "hoverinfo": "text",
         "marker": {
          "color": "green",
          "size": 0.5
         },
         "mode": "markers",
         "text": "Microstrategy appears with Oracle BI 51 times",
         "type": "scatter",
         "uid": "3a348be6-d89f-4cf2-9a92-1210b9a4b2bf",
         "x": [
          -0.02353531300741695
         ],
         "y": [
          -0.8996922190625208
         ]
        },
        {
         "hoverinfo": "text",
         "marker": {
          "color": "blue",
          "size": 0.5
         },
         "mode": "markers",
         "text": "Oracle BI appears with Microstrategy 51 times",
         "type": "scatter",
         "uid": "0c88a472-875f-4f2d-9c14-5c9f013bc4b7",
         "x": [
          0.05826529925890196
         ],
         "y": [
          -0.8981119946322232
         ]
        },
        {
         "hoverinfo": "text",
         "marker": {
          "color": "green",
          "size": 0.5
         },
         "mode": "markers",
         "text": "Microstrategy appears with Python 14 times",
         "type": "scatter",
         "uid": "d4d56bf8-bc14-47cf-93d9-22fa86917528",
         "x": [
          -0.05680780322282713
         ],
         "y": [
          -0.8982053626498768
         ]
        },
        {
         "hoverinfo": "text",
         "marker": {
          "color": "blue",
          "size": 0.5
         },
         "mode": "markers",
         "text": "Python appears with Microstrategy 14 times",
         "type": "scatter",
         "uid": "c2c5fd98-6712-43b9-865c-4ae238454787",
         "x": [
          0.588962558682302
         ],
         "y": [
          -0.6805314867589861
         ]
        },
        {
         "hoverinfo": "text",
         "marker": {
          "color": "green",
          "size": 0.5
         },
         "mode": "markers",
         "text": "Microstrategy appears with VBA 7 times",
         "type": "scatter",
         "uid": "1861cd37-f5dd-4440-944c-4446327bb3da",
         "x": [
          -0.06164636325753402
         ],
         "y": [
          -0.8978862544315512
         ]
        },
        {
         "hoverinfo": "text",
         "marker": {
          "color": "blue",
          "size": 0.5
         },
         "mode": "markers",
         "text": "VBA appears with Microstrategy 7 times",
         "type": "scatter",
         "uid": "51acb2a6-a5c7-4817-8bd9-a00a02b2c10b",
         "x": [
          0.8220178960001897
         ],
         "y": [
          -0.3664513319056452
         ]
        },
        {
         "hoverinfo": "text",
         "marker": {
          "color": "green",
          "size": 0.5
         },
         "mode": "markers",
         "text": "Microstrategy appears with Linux 4 times",
         "type": "scatter",
         "uid": "e9c145b8-ea51-4627-9d9a-ee09d6567cd5",
         "x": [
          -0.06251870411283825
         ],
         "y": [
          -0.897825936156921
         ]
        },
        {
         "hoverinfo": "text",
         "marker": {
          "color": "blue",
          "size": 0.5
         },
         "mode": "markers",
         "text": "Linux appears with Microstrategy 4 times",
         "type": "scatter",
         "uid": "233e24b8-68bb-4996-ba92-2243682fcd70",
         "x": [
          0.8715474216068809
         ],
         "y": [
          -0.22451078346128017
         ]
        },
        {
         "hoverinfo": "text",
         "marker": {
          "color": "green",
          "size": 0.5
         },
         "mode": "markers",
         "text": "Microstrategy appears with AWS 2 times",
         "type": "scatter",
         "uid": "c56299d6-4eaa-4bd0-bd05-7f934229c84d",
         "x": [
          -0.0644217872772883
         ],
         "y": [
          -0.8976913909156085
         ]
        },
        {
         "hoverinfo": "text",
         "marker": {
          "color": "blue",
          "size": 0.5
         },
         "mode": "markers",
         "text": "AWS appears with Microstrategy 2 times",
         "type": "scatter",
         "uid": "99356d72-cec3-43c1-b4df-c7b55a383893",
         "x": [
          0.8944277631968919
         ],
         "y": [
          -0.09999488198205332
         ]
        },
        {
         "hoverinfo": "text",
         "marker": {
          "color": "green",
          "size": 0.5
         },
         "mode": "markers",
         "text": "Oracle BI appears with Python 129 times",
         "type": "scatter",
         "uid": "df0afd0f-554d-4021-a1a9-e404fca85e8b",
         "x": [
          0.21572169844421857
         ],
         "y": [
          -0.8737643554301936
         ]
        },
        {
         "hoverinfo": "text",
         "marker": {
          "color": "blue",
          "size": 0.5
         },
         "mode": "markers",
         "text": "Python appears with Oracle BI 129 times",
         "type": "scatter",
         "uid": "184a21c5-c03e-408c-b394-79c0e0746311",
         "x": [
          0.7475421505640765
         ],
         "y": [
          -0.5011793422818179
         ]
        },
        {
         "hoverinfo": "text",
         "marker": {
          "color": "green",
          "size": 0.5
         },
         "mode": "markers",
         "text": "Oracle BI appears with VBA 62 times",
         "type": "scatter",
         "uid": "944cc892-7c9a-4875-acdf-25a1c97cffc4",
         "x": [
          0.08571208107007527
         ],
         "y": [
          -0.895909280652141
         ]
        },
        {
         "hoverinfo": "text",
         "marker": {
          "color": "blue",
          "size": 0.5
         },
         "mode": "markers",
         "text": "VBA appears with Oracle BI 62 times",
         "type": "scatter",
         "uid": "c5d4116b-60a2-4900-bdb1-cb62f0f43811",
         "x": [
          0.8430453243282697
         ],
         "y": [
          -0.31507869037471037
         ]
        },
        {
         "hoverinfo": "text",
         "marker": {
          "color": "green",
          "size": 0.5
         },
         "mode": "markers",
         "text": "Oracle BI appears with Linux 3 times",
         "type": "scatter",
         "uid": "0b891366-f0e9-4e77-ac72-d5d8f7930f53",
         "x": [
          0.009160766846285216
         ],
         "y": [
          -0.8999533767650345
         ]
        },
        {
         "hoverinfo": "text",
         "marker": {
          "color": "blue",
          "size": 0.5
         },
         "mode": "markers",
         "text": "Linux appears with Oracle BI 3 times",
         "type": "scatter",
         "uid": "c6354d6f-a5b6-4831-92e0-20768db354aa",
         "x": [
          0.8711686975973645
         ],
         "y": [
          -0.22597588439148056
         ]
        },
        {
         "hoverinfo": "text",
         "marker": {
          "color": "green",
          "size": 0.5
         },
         "mode": "markers",
         "text": "Oracle BI appears with AWS 43 times",
         "type": "scatter",
         "uid": "fdeda4bf-0910-4345-93df-9b38f05a466c",
         "x": [
          0.046677977874496
         ],
         "y": [
          -0.8987887217703324
         ]
        },
        {
         "hoverinfo": "text",
         "marker": {
          "color": "blue",
          "size": 0.5
         },
         "mode": "markers",
         "text": "AWS appears with Oracle BI 43 times",
         "type": "scatter",
         "uid": "a2b52060-25d8-4a2f-a180-3e9ef38f08cb",
         "x": [
          0.8983346392064836
         ],
         "y": [
          -0.0547254602699415
         ]
        },
        {
         "hoverinfo": "text",
         "marker": {
          "color": "green",
          "size": 0.5
         },
         "mode": "markers",
         "text": "Python appears with VBA 55 times",
         "type": "scatter",
         "uid": "2f873c06-4af2-4ba4-98bb-9eceb99e809c",
         "x": [
          0.6321786985196599
         ],
         "y": [
          -0.6405857422219051
         ]
        },
        {
         "hoverinfo": "text",
         "marker": {
          "color": "blue",
          "size": 0.5
         },
         "mode": "markers",
         "text": "VBA appears with Python 55 times",
         "type": "scatter",
         "uid": "ce57c13f-ba16-4bf7-9b01-5b0b1cb74bfd",
         "x": [
          0.8341839071163705
         ],
         "y": [
          -0.33784198837336143
         ]
        },
        {
         "hoverinfo": "text",
         "marker": {
          "color": "green",
          "size": 0.5
         },
         "mode": "markers",
         "text": "Python appears with Linux 77 times",
         "type": "scatter",
         "uid": "d69552f7-15cf-4621-b760-6aeef5c1b01f",
         "x": [
          0.6660408086469689
         ],
         "y": [
          -0.6053012813606888
         ]
        },
        {
         "hoverinfo": "text",
         "marker": {
          "color": "blue",
          "size": 0.5
         },
         "mode": "markers",
         "text": "Linux appears with Python 77 times",
         "type": "scatter",
         "uid": "5bad4faf-a00d-4006-b55c-d81bb08121ae",
         "x": [
          0.8896510621316642
         ],
         "y": [
          -0.13609183534658384
         ]
        },
        {
         "hoverinfo": "text",
         "marker": {
          "color": "green",
          "size": 0.5
         },
         "mode": "markers",
         "text": "Python appears with AWS 75 times",
         "type": "scatter",
         "uid": "baf9170b-d5fa-4bda-b8de-293f23b05c7d",
         "x": [
          0.6536501394173513
         ],
         "y": [
          -0.6186610503657696
         ]
        },
        {
         "hoverinfo": "text",
         "marker": {
          "color": "blue",
          "size": 0.5
         },
         "mode": "markers",
         "text": "AWS appears with Python 75 times",
         "type": "scatter",
         "uid": "782dc5f0-8388-4a0f-9d61-a43351553c8c",
         "x": [
          0.8993100088608217
         ],
         "y": [
          -0.035235038849827885
         ]
        },
        {
         "hoverinfo": "text",
         "marker": {
          "color": "green",
          "size": 0.5
         },
         "mode": "markers",
         "text": "VBA appears with AWS 5 times",
         "type": "scatter",
         "uid": "e4117e31-a6e4-4496-8366-bcb3d75afe73",
         "x": [
          0.8199380655365246
         ],
         "y": [
          -0.3710816199762822
         ]
        },
        {
         "hoverinfo": "text",
         "marker": {
          "color": "blue",
          "size": 0.5
         },
         "mode": "markers",
         "text": "AWS appears with VBA 5 times",
         "type": "scatter",
         "uid": "708c58b3-7a04-4ff8-9e28-6800b79af825",
         "x": [
          0.8945407609237908
         ],
         "y": [
          -0.09897892223036837
         ]
        },
        {
         "hoverinfo": "text",
         "marker": {
          "color": "green",
          "size": 0.5
         },
         "mode": "markers",
         "text": "Linux appears with AWS 22 times",
         "type": "scatter",
         "uid": "f0ae6ac9-2bdc-4706-aea7-b3ffb0fdcaa6",
         "x": [
          0.8738646150287965
         ],
         "y": [
          -0.21531519825728343
         ]
        },
        {
         "hoverinfo": "text",
         "marker": {
          "color": "blue",
          "size": 0.5
         },
         "mode": "markers",
         "text": "AWS appears with Linux 22 times",
         "type": "scatter",
         "uid": "b67334dd-fe29-43e9-914d-658b0677ff55",
         "x": [
          0.8958156365442044
         ],
         "y": [
          -0.0866853235726894
         ]
        }
       ],
       "layout": {
        "autosize": false,
        "font": {
         "color": "#655643",
         "family": "Fira Sans Condensed",
         "size": 12
        },
        "height": 525,
        "hidesources": true,
        "hoverdistance": 40,
        "hovermode": "closest",
        "margin": {
         "b": 10,
         "l": 280,
         "r": 280,
         "t": 80
        },
        "paper_bgcolor": "#fffaf0",
        "plot_bgcolor": "#fffaf0",
        "shapes": [
         {
          "fillcolor": "#f2e6ce",
          "layer": "below",
          "line": {
           "color": "rgb(175,175,175)",
           "width": 0.5
          },
          "path": "M 0.9764207076871341,0.2158763572042021 Q 0.18452206475196486, 0.07714666304949094 0.8395098819063138, 0.5433444194814621L 0.8395098819063138, 0.5433444194814621 L 0.8525636379485697, 0.5226234239372555 L 0.8651060602501279, 0.5015889796621352 M 0.8651060602501279,0.5015889796621352 Q 0.18466912401900756, 0.07679397524579912 0.9656795361167426, 0.2597364693787779L 0.9656795361167426, 0.2597364693787779 L 0.971297722948922, 0.23786704982876275 L 0.9764207076871341, 0.2158763572042021 ",
          "type": "path"
         },
         {
          "fillcolor": "#f2e6ce",
          "layer": "below",
          "line": {
           "color": "rgb(175,175,175)",
           "width": 0.5
          },
          "path": "M 0.9983190748093466,0.05795709509464963 Q 0.14539634353003128, 0.13733136308978053 0.11477186592444427, 0.9933918757430128L 0.11477186592444427, 0.9933918757430128 L 0.12913818279918007, 0.99162660802508 L 0.14347744429086498, 0.9896535873626497 M 0.14347744429086498,0.9896535873626497 Q 0.14549887117568958, 0.13722273312611177 0.99635181007436, 0.08534090790205183L 0.99635181007436, 0.08534090790205183 L 0.9974294225917215, 0.0716557530722066 L 0.9983190748093466, 0.05795709509464963 ",
          "type": "path"
         },
         {
          "fillcolor": "#f2e6ce",
          "layer": "below",
          "line": {
           "color": "rgb(175,175,175)",
           "width": 0.5
          },
          "path": "M 0.99635181007436,0.08534090790205183 Q 0.09796851328187625, 0.17436218169470938 -0.4453213803194647, 0.8953707992951114L -0.4453213803194647, 0.8953707992951114 L -0.43241334555342026, 0.901675495168466 L -0.419416075136398, 0.9077941153792414 M -0.419416075136398,0.9077941153792414 Q 0.09805736728242759, 0.17431222768824653 0.9936046114382849, 0.11291534939314014L 0.9936046114382849, 0.11291534939314014 L 0.9950737295978319, 0.09913764504092708 L 0.99635181007436, 0.08534090790205183 ",
          "type": "path"
         },
         {
          "fillcolor": "#f2e6ce",
          "layer": "below",
          "line": {
           "color": "rgb(175,175,175)",
           "width": 0.5
          },
          "path": "M 0.9999973335217832,0.0023093179347028554 Q 0.07393612603387661, 0.18583177679585028 -0.7250840610339272, 0.6886603694380475L -0.7250840610339272, 0.6886603694380475 L -0.724678168516842, 0.6890874778103834 L -0.7242720244130213, 0.6895143469520152 M -0.7242720244130213,0.6895143469520152 Q 0.07392641321649078, 0.18583564090062127 0.999993547785176, 0.0035922678097320203L 0.999993547785176, 0.0035922678097320203 L 0.9999956463994443, 0.0029507934793339317 L 0.9999973335217832, 0.0023093179347028554 ",
          "type": "path"
         },
         {
          "fillcolor": "#f2e6ce",
          "layer": "below",
          "line": {
           "color": "rgb(175,175,175)",
           "width": 0.5
          },
          "path": "M 0.9994856769255202,0.0320683897434025 Q 0.04793156144320417, 0.1941714845635588 -0.8697500961083501, 0.4934924217447679L -0.8697500961083501, 0.4934924217447679 L -0.8673316309194425, 0.49773069224895095 L -0.8648925129071607, 0.501957110834319 M -0.8648925129071607,0.501957110834319 Q 0.04793243884600326, 0.19417126797308135 0.9991254893279158, 0.04181215822285184L 0.9991254893279158, 0.04181215822285184 L 0.9993174589309821, 0.036940712983439684 L 0.9994856769255202, 0.0320683897434025 ",
          "type": "path"
         },
         {
          "fillcolor": "#f2e6ce",
          "layer": "below",
          "line": {
           "color": "rgb(175,175,175)",
           "width": 0.5
          },
          "path": "M 0.9999994732880656,0.001026364258594765 Q 0.028713679221186235, 0.19792807942680296 -0.9584840723862728, 0.2851460730605038L -0.9584840723862728, 0.2851460730605038 L -0.9583572248700478, 0.2855721091762649 L -0.9582301879852487, 0.28599808886381556 M -0.9582301879852487,0.28599808886381556 Q 0.02867469497615285, 0.1979337310011222 0.9999973335217832, 0.0023093179347028554L 0.9999973335217832, 0.0023093179347028554 L 0.9999986091514986, 0.00166784143980195 L 0.9999994732880656, 0.001026364258594765 ",
          "type": "path"
         },
         {
          "fillcolor": "#f2e6ce",
          "layer": "below",
          "line": {
           "color": "rgb(175,175,175)",
           "width": 0.5
          },
          "path": "M 0.9999881160844755,0.0048752117719792045 Q 0.01977887943174461, 0.1990195867959345 -0.9794686095763376, 0.2015967332438597L -0.9794686095763376, 0.2015967332438597 L -0.9792865277197804, 0.20247937333599106 L -0.9791036504795229, 0.2033618489728898 M -0.9791036504795229,0.2033618489728898 Q 0.01975397417571068, 0.199022060345745 0.9999760017813698, 0.006927904542206495L 0.9999760017813698, 0.006927904542206495 L 0.9999825856356847, 0.0059015612655156 L 0.9999881160844755, 0.0048752117719792045 ",
          "type": "path"
         },
         {
          "fillcolor": "#f2e6ce",
          "layer": "below",
          "line": {
           "color": "rgb(175,175,175)",
           "width": 0.5
          },
          "path": "M 0.9999004201689001,0.014112042589822507 Q 0.003310567467177729, 0.199972598480505 -0.9988853572076658, 0.04720215202841896L -0.9988853572076658, 0.04720215202841896 L -0.9987774901951207, 0.04943202483750359 L -0.9986646453074883, 0.05166165127895643 M -0.9986646453074883,0.05166165127895643 Q 0.0032695460517876748, 0.19997327338575832 0.9998197382406133, 0.018986601182714866L 0.9998197382406133, 0.018986601182714866 L 0.9998630497811745, 0.016549371054173624 L 0.9999004201689001, 0.014112042589822507 ",
          "type": "path"
         },
         {
          "fillcolor": "#f2e6ce",
          "layer": "below",
          "line": {
           "color": "rgb(175,175,175)",
           "width": 0.5
          },
          "path": "M 0.9998197382406133,0.018986601182714866 Q -0.01581754651080712, 0.19937353190024612 -0.9903060617696536, -0.13890249825787507L -0.9903060617696536, -0.13890249825787507 L -0.9906976255374023, -0.13608164738330097 L -0.9910811542304213, -0.1332596928155541 M -0.9910811542304213,-0.1332596928155541 Q -0.015863640163791697, 0.19936986964121167 0.9996838577926921, 0.02514327879813168L 0.9996838577926921, 0.02514327879813168 L 0.9997565372666212, 0.022065044587650667 L 0.9998197382406133, 0.018986601182714866 ",
          "type": "path"
         },
         {
          "fillcolor": "#f2e6ce",
          "layer": "below",
          "line": {
           "color": "rgb(175,175,175)",
           "width": 0.5
          },
          "path": "M 0.9999760017813698,0.006927904542206495 Q -0.03059728048585938, 0.19764565876049403 -0.9552622437795869, -0.2957601149735864L -0.9552622437795869, -0.2957601149735864 L -0.9556174396129105, -0.29461043618253835 L -0.955971251783468, -0.29346033081755585 M -0.955971251783468,-0.29346033081755585 Q -0.030613024398436786, 0.1976432208227257 0.9999549335446606, 0.00949372844004618L 0.9999549335446606, 0.00949372844004618 L 0.9999662906226296, 0.00821082324853006 L 0.9999760017813698, 0.006927904542206495 ",
          "type": "path"
         },
         {
          "fillcolor": "#f2e6ce",
          "layer": "below",
          "line": {
           "color": "rgb(175,175,175)",
           "width": 0.5
          },
          "path": "M 0.9896574199168644,0.1434510062826163 Q -0.0769458914171457, 0.18460587692167557 -0.7985693254235507, -0.6019028430673634L -0.7985693254235507, -0.6019028430673634 L -0.8095253007408146, -0.5870849916839074 L -0.8202063595539835, -0.5720677649957229 M -0.8202063595539835,-0.5720677649957229 Q -0.07681225893526805, 0.18466151975238732 0.9839585722866815, 0.1783971076658909L 0.9839585722866815, 0.1783971076658909 L 0.9869626784589522, 0.1609492818534175 L 0.9896574199168644, 0.1434510062826163 ",
          "type": "path"
         },
         {
          "fillcolor": "#f2e6ce",
          "layer": "below",
          "line": {
           "color": "rgb(175,175,175)",
           "width": 0.5
          },
          "path": "M 0.9839585722866815,0.1783971076658909 Q -0.12586896301412492, 0.15542523652788454 -0.37901702730544196, -0.9253896979178804L -0.37901702730544196, -0.9253896979178804 L -0.39764819544443936, -0.9175379625169636 L -0.4161168168609847, -0.9093111649625125 M -0.4161168168609847,-0.9093111649625125 Q -0.12569755010001557, 0.1555638965147572 0.9764207076871341, 0.2158763572042021L 0.9764207076871341, 0.2158763572042021 L 0.9803687591279888, 0.19717275705798554 L 0.9839585722866815, 0.1783971076658909 ",
          "type": "path"
         },
         {
          "fillcolor": "#f2e6ce",
          "layer": "below",
          "line": {
           "color": "rgb(175,175,175)",
           "width": 0.5
          },
          "path": "M 0.9999549335446606,0.00949372844004618 Q -0.1381007949663741, 0.14466571960784458 -0.05588992938164685, -0.9984369363128122L -0.05588992938164685, -0.9984369363128122 L -0.057477234415384326, -0.998346817255386 L -0.059064394166289336, -0.9982541747179269 M -0.059064394166289336,-0.9982541747179269 Q -0.1382048402108402, 0.1445663243715359 0.9999004201689001, 0.014112042589822507L 0.9999004201689001, 0.014112042589822507 L 0.9999303431492588, 0.011802916987155385 L 0.9999549335446606, 0.00949372844004618 ",
          "type": "path"
         },
         {
          "fillcolor": "#f2e6ce",
          "layer": "below",
          "line": {
           "color": "rgb(175,175,175)",
           "width": 0.5
          },
          "path": "M 0.9936046114382849,0.11291534939314014 Q -0.15918532643079378, 0.1210786184638792 0.15647466888328604, -0.9876819720931763L 0.15647466888328604, -0.9876819720931763 L 0.1401929638755382, -0.990124200734328 L 0.12387325838749484, -0.9922980478951196 M 0.12387325838749484,-0.9922980478951196 Q -0.15905585451628582, 0.12124865007122398 0.9896574199168644, 0.1434510062826163L 0.9896574199168644, 0.1434510062826163 L 0.9917485456703006, 0.1281983703517475 L 0.9936046114382849, 0.11291534939314014 ",
          "type": "path"
         },
         {
          "fillcolor": "#f2e6ce",
          "layer": "below",
          "line": {
           "color": "rgb(175,175,175)",
           "width": 0.5
          },
          "path": "M 0.9991254893279158,0.04181215822285184 Q -0.1869646658636394, 0.07102262821451814 0.7193747631749237, -0.6946221635587383L 0.7193747631749237, -0.6946221635587383 L 0.7135205920099692, -0.700634258923829 L 0.7076161771432553, -0.7065970179990609 M 0.7076161771432553,-0.7065970179990609 Q -0.18694272052431188, 0.07108037171377925 0.9983190748093466, 0.05795709509464963L 0.9983190748093466, 0.05795709509464963 L 0.998754905593471, 0.049886256153141864 L 0.9991254893279158, 0.04181215822285184 ",
          "type": "path"
         },
         {
          "fillcolor": "#f2e6ce",
          "layer": "below",
          "line": {
           "color": "rgb(175,175,175)",
           "width": 0.5
          },
          "path": "M 0.9996838577926921,0.02514327879813168 Q -0.19638329796785087, 0.03786291429975126 0.9186786814242912, -0.39500567122071256L 0.9186786814242912, -0.39500567122071256 L 0.9174209158093135, -0.3979181614799712 L 0.9161539167437749, -0.4008266468625064 M 0.9161539167437749,-0.4008266468625064 Q -0.19639432694330794, 0.03780566550776575 0.9994856769255202, 0.0320683897434025L 0.9994856769255202, 0.0320683897434025 L 0.9995907644765228, 0.028606005894577825 L 0.9996838577926921, 0.02514327879813168 ",
          "type": "path"
         },
         {
          "fillcolor": "#f2e6ce",
          "layer": "below",
          "line": {
           "color": "rgb(175,175,175)",
           "width": 0.5
          },
          "path": "M 1.0,0.0 Q -0.19840736262175868, 0.02518964980856154 0.9682740771261018, -0.2498905991941191L 0.9682740771261018, -0.2498905991941191 L 0.9681619355842795, -0.250324722082541 L 0.9680495994047231, -0.2507587946460802 M 0.9680495994047231,-0.2507587946460802 Q -0.19840899472482587, 0.02517679114351187 0.9999994732880656, 0.001026364258594765L 0.9999994732880656, 0.001026364258594765 L 0.9999998683220077, 0.0005131821968721839 L 1.0, 0.0 ",
          "type": "path"
         },
         {
          "fillcolor": "#f2e6ce",
          "layer": "below",
          "line": {
           "color": "rgb(175,175,175)",
           "width": 0.5
          },
          "path": "M 0.999993547785176,0.0035922678097320203 Q -0.1997241318266087, 0.010501007861507082 0.9941033210502882, -0.10843701894089285L 0.9941033210502882, -0.10843701894089285 L 0.9940472052497709, -0.10895023513109015 L 0.9939908244960696, -0.10946342228170908 M 0.9939908244960696,-0.10946342228170908 Q -0.19972544501680242, 0.010476001758315957 0.9999881160844755, 0.0048752117719792045L 0.9999881160844755, 0.0048752117719792045 L 0.9999910376798421, 0.004233740661934461 L 0.999993547785176, 0.0035922678097320203 ",
          "type": "path"
         },
         {
          "fillcolor": "#ecd5bb",
          "layer": "below",
          "line": {
           "color": "rgb(175,175,175)",
           "width": 0.5
          },
          "path": "M 0.5508478293728678,0.8346056966467459 Q 0.03436222999826354, 0.1970259808998459 -0.2358022493913903, 0.9718010594673997L -0.2358022493913903, 0.9718010594673997 L -0.17118225648216887, 0.9852393795751736 L -0.10581653684302948, 0.9943856699141173 M -0.10581653684302948,0.9943856699141173 Q 0.03398953491269395, 0.19709061752508353 0.4327745017557696, 0.9015022077787971L 0.4327745017557696, 0.9015022077787971 L 0.4929472673361156, 0.8700591885761889 L 0.5508478293728678, 0.8346056966467459 ",
          "type": "path"
         },
         {
          "fillcolor": "#ecd5bb",
          "layer": "below",
          "line": {
           "color": "rgb(175,175,175)",
           "width": 0.5
          },
          "path": "M 0.8063396751164756,0.5914527270484569 Q 0.027415372247963157, 0.19811208283319223 -0.615418976169275, 0.7882001546376157L -0.615418976169275, 0.7882001546376157 L -0.5903770796569513, 0.8071275635336275 L -0.5647534589924952, 0.8252596746212747 M -0.5647534589924952,0.8252596746212747 Q 0.02712843402453583, 0.1981515785134613 0.7657827921174972, 0.6430993043820916L 0.7657827921174972, 0.6430993043820916 L 0.7864852860880668, 0.617609014480012 L 0.8063396751164756, 0.5914527270484569 ",
          "type": "path"
         },
         {
          "fillcolor": "#ecd5bb",
          "layer": "below",
          "line": {
           "color": "rgb(175,175,175)",
           "width": 0.5
          },
          "path": "M 0.9460208778812712,0.3241056904973266 Q 0.047365006614910714, 0.1943104633013093 -0.690758040220534, 0.7230859768178934L -0.690758040220534, 0.7230859768178934 L -0.6865363672663218, 0.7270954658232728 L -0.6822914217421641, 0.731080307365105 M -0.6822914217421641,0.731080307365105 Q 0.046982081355954775, 0.19440340540088913 0.940855028531537, 0.3388094084982304L 0.940855028531537, 0.3388094084982304 L 0.9434665979148661, 0.331467613227821 L 0.9460208778812712, 0.3241056904973266 ",
          "type": "path"
         },
         {
          "fillcolor": "#ecd5bb",
          "layer": "below",
          "line": {
           "color": "rgb(175,175,175)",
           "width": 0.5
          },
          "path": "M 0.9128790154083071,0.4082302086166087 Q 0.01983307994089052, 0.19901419281060898 -0.8143593729152827, 0.5803609323042235L -0.8143593729152827, 0.5803609323042235 L -0.8077418587742052, 0.5895363344052611 L -0.8010209702362369, 0.5986362879426854 M -0.8010209702362369,0.5986362879426854 Q 0.019425924521757523, 0.1990543479969101 0.9016478255980391, 0.43247103786765645L 0.9016478255980391, 0.43247103786765645 L 0.9073443770883314, 0.42038813180938855 L 0.9128790154083071, 0.4082302086166087 ",
          "type": "path"
         },
         {
          "fillcolor": "#ecd5bb",
          "layer": "below",
          "line": {
           "color": "rgb(175,175,175)",
           "width": 0.5
          },
          "path": "M 0.8874755972030132,0.46085471069433054 Q -0.015609070060848499, 0.1993899619635741 -0.9483799521613061, 0.317136352912306L -0.9483799521613061, 0.317136352912306 L -0.9413613454731063, 0.3374000848385532 L -0.9339098258386606, 0.357508653324647 M -0.9339098258386606,0.357508653324647 Q -0.015966558363241228, 0.19936165382047075 0.8651060602501279, 0.5015889796621352L 0.8651060602501279, 0.5015889796621352 L 0.8765274876907085, 0.4813518082677313 L 0.8874755972030132, 0.46085471069433054 ",
          "type": "path"
         },
         {
          "fillcolor": "#ecd5bb",
          "layer": "below",
          "line": {
           "color": "rgb(175,175,175)",
           "width": 0.5
          },
          "path": "M 0.9504391146350828,0.31091074180812717 Q -0.006272132570142035, 0.19990162668928577 -0.9680607598151599, 0.2507157061416281L -0.9680607598151599, 0.2507157061416281 L -0.9669367204611771, 0.2550164281449012 L -0.9657935747526076, 0.25931211110663377 M -0.9657935747526076,0.25931211110663377 Q -0.006774339430397446, 0.19988523788734816 0.9460208778812712, 0.3241056904973266L 0.9460208778812712, 0.3241056904973266 L 0.9482529475153294, 0.31751590122148204 L 0.9504391146350828, 0.31091074180812717 ",
          "type": "path"
         },
         {
          "fillcolor": "#ecd5bb",
          "layer": "below",
          "line": {
           "color": "rgb(175,175,175)",
           "width": 0.5
          },
          "path": "M 0.940855028531537,0.3388094084982304 Q -0.02503770394556977, 0.19842659444019595 -0.9955272930586428, 0.09447438158215711L -0.9955272930586428, 0.09447438158215711 L -0.9948659864377071, 0.10120113156150001 L -0.994159227880108, 0.10792325801618262 M -0.994159227880108,0.10792325801618262 Q -0.025353147001024895, 0.1983865366831742 0.9350666371122983, 0.354471979371427L 0.9350666371122983, 0.354471979371427 L 0.9379935249987469, 0.34665277593064964 L 0.940855028531537, 0.3388094084982304 ",
          "type": "path"
         },
         {
          "fillcolor": "#ecd5bb",
          "layer": "below",
          "line": {
           "color": "rgb(175,175,175)",
           "width": 0.5
          },
          "path": "M 0.9285017204498276,0.37132809632683356 Q -0.03857756664260764, 0.1962441625932735 -0.999969815045391, -0.007769748907563434L -0.999969815045391, -0.007769748907563434 L -0.9999998964411615, 0.00045510181976943784 L -0.9999623287695604, 0.0086799217598859 M -0.9999623287695604,0.0086799217598859 Q -0.038874960910596175, 0.19618546687815494 0.9210920870487466, 0.3893447921523855L 0.9210920870487466, 0.3893447921523855 L 0.9248407773862406, 0.3803544879235872 L 0.9285017204498276, 0.37132809632683356 ",
          "type": "path"
         },
         {
          "fillcolor": "#ecd5bb",
          "layer": "below",
          "line": {
           "color": "rgb(175,175,175)",
           "width": 0.5
          },
          "path": "M 0.9210920870487466,0.3893447921523855 Q -0.059356101030522204, 0.19098914437856002 -0.9795228078980669, -0.20133322827463598L -0.9795228078980669, -0.20133322827463598 L -0.981252933053892, -0.1927243663191916 L -0.9829073978807868, -0.18410064419012898 M -0.9829073978807868,-0.18410064419012898 Q -0.05964560449341333, 0.19089893102009586 0.9128790154083071, 0.4082302086166087L 0.9128790154083071, 0.4082302086166087 L 0.917034168338695, 0.3988086434611943 L 0.9210920870487466, 0.3893447921523855 ",
          "type": "path"
         },
         {
          "fillcolor": "#ecd5bb",
          "layer": "below",
          "line": {
           "color": "rgb(175,175,175)",
           "width": 0.5
          },
          "path": "M 0.9016478255980391,0.43247103786765645 Q -0.08428012240490897, 0.18137491824233462 -0.9119654404404844, -0.4102670294359433L -0.9119654404404844, -0.4102670294359433 L -0.9175073388027828, -0.39771884949425723 L -0.9228765903070634, -0.38509583101250106 M -0.9228765903070634,-0.38509583101250106 Q -0.08466909408555374, 0.18119366574671325 0.8874755972030132, 0.46085471069433054L 0.8874755972030132, 0.46085471069433054 L 0.8946742780054768, 0.4467190798201693 L 0.9016478255980391, 0.43247103786765645 ",
          "type": "path"
         },
         {
          "fillcolor": "#ecd5bb",
          "layer": "below",
          "line": {
           "color": "rgb(175,175,175)",
           "width": 0.5
          },
          "path": "M 0.7100729767354976,0.7041280904139455 Q -0.14896437500385015, 0.13345266943644216 -0.6221258703616838, -0.7829172379164463L -0.6221258703616838, -0.7829172379164463 L -0.6585286142129319, -0.752555688479461 L -0.6934516551705685, -0.7205031588696881 M -0.6934516551705685,-0.7205031588696881 Q -0.14922990179900184, 0.13315568485446003 0.6371574291698596, 0.7707336832224574L 0.6371574291698596, 0.7707336832224574 L 0.6744379273864435, 0.7383315529643023 L 0.7100729767354976, 0.7041280904139455 ",
          "type": "path"
         },
         {
          "fillcolor": "#ecd5bb",
          "layer": "below",
          "line": {
           "color": "rgb(175,175,175)",
           "width": 0.5
          },
          "path": "M 0.6371574291698596,0.7707336832224574 Q -0.18444354773593807, 0.07733419488544986 -0.10305034242947797, -0.9946761417291395L -0.10305034242947797, -0.9946761417291395 L -0.1549842415037211, -0.9879169423010804 L -0.20649304721988607, -0.9784480678348983 M -0.20649304721988607,-0.9784480678348983 Q -0.1845465840619297, 0.07708799070590124 0.5508478293728678, 0.8346056966467459L 0.5508478293728678, 0.8346056966467459 L 0.5948605148318481, 0.8038289419360245 L 0.6371574291698596, 0.7707336832224574 ",
          "type": "path"
         },
         {
          "fillcolor": "#ecd5bb",
          "layer": "below",
          "line": {
           "color": "rgb(175,175,175)",
           "width": 0.5
          },
          "path": "M 0.9570445118961601,0.2899410323659632 Q -0.15834391539717074, 0.12217693913621193 -0.037715040200935725, -0.9992885347799412L -0.037715040200935725, -0.9992885347799412 L -0.040627548013930016, -0.9991743603307562 L -0.04353971066593756, -0.9990516971584236 M -0.04353971066593756,-0.9990516971584236 Q -0.158548613149477, 0.12191118598544393 0.9543413756846815, 0.29871815923420136L 0.9543413756846815, 0.29871815923420136 L 0.9557030199281656, 0.29433269899925196 L 0.9570445118961601, 0.2899410323659632 ",
          "type": "path"
         },
         {
          "fillcolor": "#ecd5bb",
          "layer": "below",
          "line": {
           "color": "rgb(175,175,175)",
           "width": 0.5
          },
          "path": "M 0.4327745017557696,0.9015022077787971 Q -0.19865578128226977, -0.023149094218370643 0.6284657027276334, -0.7778372969298026L 0.6284657027276334, -0.7778372969298026 L 0.5709693909711305, -0.8209713482053173 L 0.5105232388003472, -0.8598639558934911 M 0.5105232388003472,-0.8598639558934911 Q -0.1986320127425634, -0.02335216293704152 0.2971798279969425, 0.9548215277378844L 0.2971798279969425, 0.9548215277378844 L 0.365949543450197, 0.9306346929104848 L 0.4327745017557696, 0.9015022077787971 ",
          "type": "path"
         },
         {
          "fillcolor": "#ecd5bb",
          "layer": "below",
          "line": {
           "color": "rgb(175,175,175)",
           "width": 0.5
          },
          "path": "M 0.7657827921174972,0.6430993043820916 Q -0.1985657479802779, -0.023909072107314664 0.8965514756486597, -0.4429395574028253L 0.8965514756486597, -0.4429395574028253 L 0.8783319672036717, -0.47805120582227184 L 0.858738063918695, -0.5124148100681432 M 0.858738063918695,-0.5124148100681432 Q -0.19852316514683782, -0.024260109234736735 0.7100729767354976, 0.7041280904139455L 0.7100729767354976, 0.7041280904139455 L 0.7385585222548695, 0.6741893719161579 L 0.7657827921174972, 0.6430993043820916 ",
          "type": "path"
         },
         {
          "fillcolor": "#ecd5bb",
          "layer": "below",
          "line": {
           "color": "rgb(175,175,175)",
           "width": 0.5
          },
          "path": "M 0.8395098819063138,0.5433444194814621 Q -0.19792724301289943, -0.02871944416789193 0.9593164978752802, -0.28233288314383015L 0.9593164978752802, -0.28233288314383015 L 0.952058678328176, -0.30591546711470236 L 0.9442212319276941, -0.3293118054017312 M 0.9442212319276941,-0.3293118054017312 Q -0.19779461098547454, -0.029619113172152864 0.8063396751164756, 0.5914527270484569L 0.8063396751164756, 0.5914527270484569 L 0.8232762558232007, 0.5676409134283149 L 0.8395098819063138, 0.5433444194814621 ",
          "type": "path"
         },
         {
          "fillcolor": "#ecd5bb",
          "layer": "below",
          "line": {
           "color": "rgb(175,175,175)",
           "width": 0.5
          },
          "path": "M 0.9350666371122983,0.354471979371427 Q -0.19913567236996274, -0.018573744634910443 0.9844916752796072, -0.17543130081360175L 0.9844916752796072, -0.17543130081360175 L 0.983187351588664, -0.18259964861978484 L 0.9818308339513244, -0.189758302855097 M 0.9818308339513244,-0.189758302855097 Q -0.1991026975144178, -0.018923948913539296 0.9285017204498276, 0.37132809632683356L 0.9285017204498276, 0.37132809632683356 L 0.9318222942151596, 0.3629148825876344 L 0.9350666371122983, 0.354471979371427 ",
          "type": "path"
         },
         {
          "fillcolor": "#ecd5bb",
          "layer": "below",
          "line": {
           "color": "rgb(175,175,175)",
           "width": 0.5
          },
          "path": "M 0.9543413756846815,0.29871815923420136 Q -0.19835815002055884, -0.025574290223219734 0.998900200803122, -0.04688697938108701L 0.998900200803122, -0.04688697938108701 L 0.9986662336204712, -0.05163093865408939 L 0.9984097366372171, -0.05637373313878344 M 0.9984097366372171,-0.05637373313878344 Q -0.1983156506845184, -0.025901789389462856 0.9504391146350828, 0.31091074180812717L 0.9504391146350828, 0.31091074180812717 L 0.9524097562725593, 0.3048206950927776 L 0.9543413756846815, 0.29871815923420136 ",
          "type": "path"
         },
         {
          "fillcolor": "#e6c4a9",
          "layer": "below",
          "line": {
           "color": "rgb(175,175,175)",
           "width": 0.5
          },
          "path": "M -0.04485537848431218,0.9989934909803112 Q -0.06338819871841288, 0.18968905151124302 -0.5647534589924952, 0.8252596746212747L -0.5647534589924952, 0.8252596746212747 L -0.53969363887229, 0.8418614946419548 L -0.5141461434778725, 0.8577025959776681 M -0.5141461434778725,0.8577025959776681 Q -0.06348511539655526, 0.1896566374348287 -0.10581653684302948, 0.9943856699141173L -0.10581653684302948, 0.9943856699141173 L -0.07537117831669424, 0.9971555472839496 L -0.04485537848431218, 0.9989934909803112 ",
          "type": "path"
         },
         {
          "fillcolor": "#e6c4a9",
          "layer": "below",
          "line": {
           "color": "rgb(175,175,175)",
           "width": 0.5
          },
          "path": "M 0.22746000372574038,0.9737874237764041 Q -0.04829178507964585, 0.19408220808157894 -0.6572819152413168, 0.7536447995552722L -0.6572819152413168, 0.7536447995552722 L -0.6548494839004362, 0.7557593224270094 L -0.6524102500294781, 0.7578659945244106 M -0.6524102500294781,0.7578659945244106 Q -0.04848012135247144, 0.19403524894629234 0.2192848583559161, 0.975660879043444L 0.2192848583559161, 0.975660879043444 L 0.2233743951480317, 0.9747327221306623 L 0.22746000372574038, 0.9737874237764041 ",
          "type": "path"
         },
         {
          "fillcolor": "#e6c4a9",
          "layer": "below",
          "line": {
           "color": "rgb(175,175,175)",
           "width": 0.5
          },
          "path": "M 0.20977182236854397,0.9777503682127561 Q -0.06473361691689633, 0.1892341376201887 -0.764682818769816, 0.6444068487207819L -0.764682818769816, 0.6444068487207819 L -0.7604901749399308, 0.6493494389154683 L -0.7562655848493525, 0.6542647515894975 M -0.7562655848493525,0.6542647515894975 Q -0.06491503075165596, 0.18917198202300353 0.1951998992559724, 0.9807634777715054L 0.1951998992559724, 0.9807634777715054 L 0.20249146534159015, 0.9792840274730389 L 0.20977182236854397, 0.9777503682127561 ",
          "type": "path"
         },
         {
          "fillcolor": "#e6c4a9",
          "layer": "below",
          "line": {
           "color": "rgb(175,175,175)",
           "width": 0.5
          },
          "path": "M 0.11477186592444427,0.9933918757430128 Q -0.09759566277193778, 0.17457115056075617 -0.9063523602167403, 0.4225226610840469L -0.9063523602167403, 0.4225226610840469 L -0.9002937543921737, 0.4352828457479622 L -0.8940555138396071, 0.4479561788534634 M -0.8940555138396071,0.4479561788534634 Q -0.09772738840549082, 0.17449744283353363 0.08516143349695489, 0.996367166382325L 0.08516143349695489, 0.996367166382325 L 0.09997771823250812, 0.9949896762565033 L 0.11477186592444427, 0.9933918757430128 ",
          "type": "path"
         },
         {
          "fillcolor": "#e6c4a9",
          "layer": "below",
          "line": {
           "color": "rgb(175,175,175)",
           "width": 0.5
          },
          "path": "M 0.25057777536220655,0.9680964716878827 Q -0.10023180085502469, 0.17307104349763042 -0.9643966113449894, 0.2644601596201238L -0.9643966113449894, 0.2644601596201238 L -0.96378273626559, 0.2666886523202895 L -0.9631637116735114, 0.2689157200970313 M -0.9631637116735114,0.2689157200970313 Q -0.1004403941141687, 0.1729500714951875 0.24376171998244672, 0.9698351529364149L 0.24376171998244672, 0.9698351529364149 L 0.24717127648155765, 0.9689718056179331 L 0.25057777536220655, 0.9680964716878827 ",
          "type": "path"
         },
         {
          "fillcolor": "#e6c4a9",
          "layer": "below",
          "line": {
           "color": "rgb(175,175,175)",
           "width": 0.5
          },
          "path": "M 0.24376171998244672,0.9698351529364149 Q -0.10774010188746774, 0.16849946719582848 -0.9826099069213562, 0.1856819076270052L -0.9826099069213562, 0.1856819076270052 L -0.9819554689712083, 0.18911228663821453 L -0.9812890552991659, 0.19254035927584257 M -0.9812890552991659,0.19254035927584257 Q -0.10785824327201449, 0.16842386813713472 0.23561914891372243, 0.9718454695398714L 0.23561914891372243, 0.9718454695398714 L 0.23969254203901114, 0.9708488478083892 L 0.24376171998244672, 0.9698351529364149 ",
          "type": "path"
         },
         {
          "fillcolor": "#e6c4a9",
          "layer": "below",
          "line": {
           "color": "rgb(175,175,175)",
           "width": 0.5
          },
          "path": "M 0.23561914891372243,0.9718454695398714 Q -0.12096688824238902, 0.1592702481600169 -0.9994279955371784, 0.03381836389504517L -0.9994279955371784, 0.03381836389504517 L -0.999298183497036, 0.037458516515260415 L -0.9991551132060237, 0.04109817215227547 M -0.9991551132060237,0.04109817215227547 Q -0.12105463981570325, 0.1592035620804081 0.22746000372574038, 0.9737874237764041L 0.22746000372574038, 0.9737874237764041 L 0.23154161224040243, 0.9728250006044844 L 0.23561914891372243, 0.9718454695398714 ",
          "type": "path"
         },
         {
          "fillcolor": "#e6c4a9",
          "layer": "below",
          "line": {
           "color": "rgb(175,175,175)",
           "width": 0.5
          },
          "path": "M 0.2192848583559161,0.975660879043444 Q -0.13719249058490365, 0.14552738754994238 -0.9868846837050523, -0.16142682883702722L -0.9868846837050523, -0.16142682883702722 L -0.9875652678442667, -0.15720954725359998 L -0.98822783024194, -0.15298939680679624 M -0.98822783024194,-0.15298939680679624 Q -0.13727950219864057, 0.1454453102581635 0.20977182236854397, 0.9777503682127561L 0.20977182236854397, 0.9777503682127561 L 0.21453088427967668, 0.9767172055872569 L 0.2192848583559161, 0.975660879043444 ",
          "type": "path"
         },
         {
          "fillcolor": "#e6c4a9",
          "layer": "below",
          "line": {
           "color": "rgb(175,175,175)",
           "width": 0.5
          },
          "path": "M 0.17845550797390147,0.983947982199149 Q -0.15346954226506795, 0.12824624593706643 -0.9365961961808208, -0.35041056676364285L -0.9365961961808208, -0.35041056676364285 L -0.9392669451474104, -0.3431874207389477 L -0.9418819892548681, -0.3359439213876217 M -0.9418819892548681,-0.3359439213876217 Q -0.15359214387823553, 0.12809938851878802 0.1613922740767261, 0.9868903352796312L 0.1613922740767261, 0.9868903352796312 L 0.16993025952312105, 0.98545609080182 L 0.17845550797390147, 0.983947982199149 ",
          "type": "path"
         },
         {
          "fillcolor": "#e6c4a9",
          "layer": "below",
          "line": {
           "color": "rgb(175,175,175)",
           "width": 0.5
          },
          "path": "M 0.1613922740767261,0.9868903352796312 Q -0.1679375187956448, 0.10861394837111138 -0.8338664778943693, -0.5519662100564121L -0.8338664778943693, -0.5519662100564121 L -0.8387715867839572, -0.544483448053219 L -0.8436095504811106, -0.5369570991588234 M -0.8436095504811106,-0.5369570991588234 Q -0.1679501460052939, 0.10859442184937712 0.14347744429086498, 0.9896535873626497L 0.14347744429086498, 0.9896535873626497 L 0.15244112038719132, 0.9883125542130373 L 0.1613922740767261, 0.9868903352796312 ",
          "type": "path"
         },
         {
          "fillcolor": "#e6c4a9",
          "layer": "below",
          "line": {
           "color": "rgb(175,175,175)",
           "width": 0.5
          },
          "path": "M 0.08516143349695489,0.996367166382325 Q -0.19342030318285816, 0.0508781516630787 -0.4161168168609847, -0.9093111649625125L -0.4161168168609847, -0.9093111649625125 L -0.43184693396580626, -0.9019469084288346 L -0.44744677629904306, -0.8943105626009312 M -0.44744677629904306,-0.8943105626009312 Q -0.19341757805107634, 0.050888510499481024 0.05061251820375086, 0.9987183652066658L 0.05061251820375086, 0.9987183652066658 L 0.06789715402050582, 0.997692325557291 L 0.08516143349695489, 0.996367166382325 ",
          "type": "path"
         },
         {
          "fillcolor": "#e6c4a9",
          "layer": "below",
          "line": {
           "color": "rgb(175,175,175)",
           "width": 0.5
          },
          "path": "M 0.26312843785895357,0.9647608124244614 Q -0.19752821151826447, 0.0313465413466267 -0.048480702826765136, -0.9988241193790941L -0.048480702826765136, -0.9988241193790941 L -0.050421489071816275, -0.9987280277632048 L -0.052362084931130835, -0.9986281650652885 M -0.052362084931130835,-0.9986281650652885 Q -0.19756048397410395, 0.031142497843265917 0.2573814317468475, 0.9663098874543005L 0.2573814317468475, 0.9663098874543005 L 0.2602560873401888, 0.9655396258064067 L 0.26312843785895357, 0.9647608124244614 ",
          "type": "path"
         },
         {
          "fillcolor": "#e6c4a9",
          "layer": "below",
          "line": {
           "color": "rgb(175,175,175)",
           "width": 0.5
          },
          "path": "M 0.014650313454384466,0.9998926783988811 Q -0.1970415502711437, -0.03427283861521179 0.351412305003783, -0.9362208029583236L 0.351412305003783, -0.9362208029583236 L 0.32299757337039436, -0.9463997926863872 L 0.29428858810345143, -0.9557166038696184 M 0.29428858810345143,-0.9557166038696184 Q -0.1970560448443317, -0.03418940172493134 -0.04485537848431218, 0.9989934909803112L -0.04485537848431218, 0.9989934909803112 L -0.015109223106069103, 0.9998858491733599 L 0.014650313454384466, 0.9998926783988811 ",
          "type": "path"
         },
         {
          "fillcolor": "#e6c4a9",
          "layer": "below",
          "line": {
           "color": "rgb(175,175,175)",
           "width": 0.5
          },
          "path": "M 0.05061251820375086,0.9987183652066658 Q -0.17636445091408184, -0.0943163848637893 0.858738063918695, -0.5124148100681432L 0.858738063918695, -0.5124148100681432 L 0.8495261800628565, -0.5275464618285398 L 0.8400476930680912, -0.5425125559569824 M 0.8400476930680912,-0.5425125559569824 Q -0.1763383846280174, -0.09436511064361341 0.014650313454384466, 0.9998926783988811L 0.014650313454384466, 0.9998926783988811 L 0.03263669793159045, 0.9994672810793368 L 0.05061251820375086, 0.9987183652066658 ",
          "type": "path"
         },
         {
          "fillcolor": "#e6c4a9",
          "layer": "below",
          "line": {
           "color": "rgb(175,175,175)",
           "width": 0.5
          },
          "path": "M 0.1951998992559724,0.9807634777715054 Q -0.17362539450694714, -0.09926843598197255 0.9442212319276941, -0.3293118054017312L 0.9442212319276941, -0.3293118054017312 L 0.9417576749344384, -0.3362922563813811 L 0.9392425135675609, -0.34325427995480284 M 0.9392425135675609,-0.34325427995480284 Q -0.173514112164523, -0.0994628215955959 0.17845550797390147, 0.983947982199149L 0.17845550797390147, 0.983947982199149 L 0.18683448853234538, 0.9823914056499359 L 0.1951998992559724, 0.9807634777715054 ",
          "type": "path"
         },
         {
          "fillcolor": "#e6c4a9",
          "layer": "below",
          "line": {
           "color": "rgb(175,175,175)",
           "width": 0.5
          },
          "path": "M 0.26704151872091864,0.9636850249325374 Q -0.17274179622094876, -0.10079817378484704 0.9703677555010721, -0.24163281872256417L 0.9703677555010721, -0.24163281872256417 L 0.9699601028442787, -0.2432640517838923 L 0.9695497080113494, -0.24489459711293576 M 0.9695497080113494,-0.24489459711293576 Q -0.1727067347016131, -0.10085823609753759 0.26312843785895357, 0.9647608124244614L 0.26312843785895357, 0.9647608124244614 L 0.2650855240194339, 0.9642249037207772 L 0.26704151872091864, 0.9636850249325374 ",
          "type": "path"
         },
         {
          "fillcolor": "#e6c4a9",
          "layer": "below",
          "line": {
           "color": "rgb(175,175,175)",
           "width": 0.5
          },
          "path": "M 0.2573814317468475,0.9663098874543005 Q -0.16383449319620932, -0.11470945400942874 0.9960575903633733, -0.08870894362751937L 0.9960575903633733, -0.08870894362751937 L 0.9958158505613246, -0.09138266668699095 L 0.9955669336822857, -0.09405573113027961 M 0.9955669336822857,-0.09405573113027961 Q -0.16373893665927652, -0.11484581238203438 0.25057777536220655, 0.9680964716878827L 0.25057777536220655, 0.9680964716878827 L 0.25398117448448937, 0.9672091619745334 L 0.2573814317468475, 0.9663098874543005 ",
          "type": "path"
         },
         {
          "fillcolor": "#e1b396",
          "layer": "below",
          "line": {
           "color": "rgb(175,175,175)",
           "width": 0.5
          },
          "path": "M -0.3304358975184299,0.9438284365451116 Q -0.10348325418377327, 0.1711467677273999 -0.6822914217421641, 0.731080307365105L -0.6822914217421641, 0.731080307365105 L -0.6780997651373872, 0.73496986912432 L -0.6738859355682494, 0.7388353983420834 M -0.6738859355682494,0.7388353983420834 Q -0.10375653325851852, 0.17098123232148593 -0.3442097708398476, 0.9388927700533111L -0.3442097708398476, 0.9388927700533111 L -0.33733186131697707, 0.941385795166054 L -0.3304358975184299, 0.9438284365451116 ",
          "type": "path"
         },
         {
          "fillcolor": "#e1b396",
          "layer": "below",
          "line": {
           "color": "rgb(175,175,175)",
           "width": 0.5
          },
          "path": "M -0.35790995559928457,0.9337561050311362 Q -0.11935893007260992, 0.16047880175251128 -0.7913244341576441, 0.611396467036803L -0.7913244341576441, 0.611396467036803 L -0.7865453552947893, 0.6175325125563784 L -0.7817186977926136, 0.6236312031332464 M -0.7817186977926136,0.6236312031332464 Q -0.119519569977864, 0.160359198028384 -0.37424877997574996, 0.9273283402801096L -0.37424877997574996, 0.9273283402801096 L -0.36609347516670104, 0.9305780823984455 L -0.35790995559928457, 0.9337561050311362 ",
          "type": "path"
         },
         {
          "fillcolor": "#e1b396",
          "layer": "below",
          "line": {
           "color": "rgb(175,175,175)",
           "width": 0.5
          },
          "path": "M -0.4788193117862264,0.8779134733335424 Q -0.15055313988697974, 0.13165770797857418 -0.9339098258386606, 0.357508653324647L -0.9339098258386606, 0.357508653324647 L -0.9267059088161967, 0.37578738478712503 L -0.9191442754875067, 0.3939210591457969 M -0.9191442754875067,0.3939210591457969 Q -0.15064576791281206, 0.13155171078309535 -0.5141461434778725, 0.8577025959776681L -0.5141461434778725, 0.8577025959776681 L -0.4965855603295705, 0.8679877771444517 L -0.4788193117862264, 0.8779134733335424 ",
          "type": "path"
         },
         {
          "fillcolor": "#e1b396",
          "layer": "below",
          "line": {
           "color": "rgb(175,175,175)",
           "width": 0.5
          },
          "path": "M -0.2685180059972269,0.9632746651164834 Q -0.14049648615901109, 0.14234021700479035 -0.9596921685536818, 0.28105327184847295L -0.9596921685536818, 0.28105327184847295 L -0.9594419223298704, 0.281906363312294 L -0.9591909177744675, 0.2827592319606465 M -0.9591909177744675,0.2827592319606465 Q -0.1405592600597015, 0.14227822887381333 -0.2710796465738352, 0.9625569205056939L -0.2710796465738352, 0.9625569205056939 L -0.2697990649620227, 0.9629166446508328 L -0.2685180059972269, 0.9632746651164834 ",
          "type": "path"
         },
         {
          "fillcolor": "#e1b396",
          "layer": "below",
          "line": {
           "color": "rgb(175,175,175)",
           "width": 0.5
          },
          "path": "M -0.306226496773087,0.9519586822305276 Q -0.15418573918484083, 0.12738429193595355 -0.9926368024650013, 0.12112876781366964L -0.9926368024650013, 0.12112876781366964 L -0.9920384002896457, 0.1259357469138947 L -0.9914167198010546, 0.13073977091504 M -0.9914167198010546,0.13073977091504 Q -0.15429721075063985, 0.12724924657762274 -0.3170959302930086, 0.9483934684463045L -0.3170959302930086, 0.9483934684463045 L -0.31166631147466634, 0.9501916176707602 L -0.306226496773087, 0.9519586822305276 ",
          "type": "path"
         },
         {
          "fillcolor": "#e1b396",
          "layer": "below",
          "line": {
           "color": "rgb(175,175,175)",
           "width": 0.5
          },
          "path": "M -0.28079623013525773,0.9597674078347459 Q -0.15755089989938378, 0.12319786500136419 -0.9991551132060237, 0.04109817215227547L -0.9991551132060237, 0.04109817215227547 L -0.9990248970848131, 0.04415036811487074 L -0.9988853572076658, 0.04720215202841896 M -0.9988853572076658,0.04720215202841896 Q -0.15760058614990358, 0.12313429759903137 -0.2874279452894979, 0.9578022636570961L -0.2874279452894979, 0.9578022636570961 L -0.28411378676895577, 0.9587905695029568 L -0.28079623013525773, 0.9597674078347459 ",
          "type": "path"
         },
         {
          "fillcolor": "#e1b396",
          "layer": "below",
          "line": {
           "color": "rgb(175,175,175)",
           "width": 0.5
          },
          "path": "M -0.27517427353391,0.961394361947835 Q -0.16738190786200757, 0.10946824617428755 -0.9910811542304213, -0.1332596928155541L -0.9910811542304213, -0.1332596928155541 L -0.9914256609512228, -0.13067195111205412 L -0.991763411014929, -0.12808331886718488 M -0.991763411014929,-0.12808331886718488 Q -0.16741646406104183, 0.1094153899654792 -0.28079623013525773, 0.9597674078347459L -0.28079623013525773, 0.9597674078347459 L -0.2779864420838875, 0.9605849978099499 L -0.27517427353391, 0.961394361947835 ",
          "type": "path"
         },
         {
          "fillcolor": "#e1b396",
          "layer": "below",
          "line": {
           "color": "rgb(175,175,175)",
           "width": 0.5
          },
          "path": "M -0.3442097708398476,0.9388927700533111 Q -0.18108673626822006, 0.08489754971566682 -0.9418819892548681, -0.3359439213876217L -0.9418819892548681, -0.3359439213876217 L -0.9440846691872536, -0.3297031049377514 L -0.9462459985992935, -0.3234478476274434 M -0.9462459985992935,-0.3234478476274434 Q -0.18114592271017194, 0.08477119018558377 -0.35790995559928457, 0.9337561050311362L -0.35790995559928457, 0.9337561050311362 L -0.3510692579757277, 0.9363494946356152 L -0.3442097708398476, 0.9388927700533111 ",
          "type": "path"
         },
         {
          "fillcolor": "#e1b396",
          "layer": "below",
          "line": {
           "color": "rgb(175,175,175)",
           "width": 0.5
          },
          "path": "M -0.3170959302930086,0.9483934684463045 Q -0.18791114161985534, 0.06847921476712969 -0.8529431118976393, -0.5220038772522396L -0.8529431118976393, -0.5220038772522396 L -0.8566162705110437, -0.5159540338981278 L -0.8602465189036148, -0.5098783450139972 M -0.8602465189036148,-0.5098783450139972 Q -0.1879092340340831, 0.06848444907221043 -0.3304358975184299, 0.9438284365451116L -0.3304358975184299, 0.9438284365451116 L -0.32377395955553673, 0.9461344635482473 L -0.3170959302930086, 0.9483934684463045 ",
          "type": "path"
         },
         {
          "fillcolor": "#e1b396",
          "layer": "below",
          "line": {
           "color": "rgb(175,175,175)",
           "width": 0.5
          },
          "path": "M -0.37424877997574996,0.9273283402801096 Q -0.19955632538058343, 0.013314390733290044 -0.4941257900186799, -0.869390420719262L -0.4941257900186799, -0.869390420719262 L -0.5042374281711202, -0.8635650618403772 L -0.5142803992543581, -0.85762210264357 M -0.5142803992543581,-0.85762210264357 Q -0.1995532521510804, 0.013360372596874885 -0.3953648949355604, 0.9185241422263181L -0.3953648949355604, 0.9185241422263181 L -0.3848320161167281, 0.9229866301152657 L -0.37424877997574996, 0.9273283402801096 ",
          "type": "path"
         },
         {
          "fillcolor": "#e1b396",
          "layer": "below",
          "line": {
           "color": "rgb(175,175,175)",
           "width": 0.5
          },
          "path": "M -0.2710796465738352,0.9625569205056939 Q -0.19884102289991046, -0.021499944467772047 -0.059064394166289336, -0.9982541747179269L -0.059064394166289336, -0.9982541747179269 L -0.06047507762472577, -0.9981697075078383 L -0.0618856403046041, -0.9980832467906118 M -0.0618856403046041,-0.9980832467906118 Q -0.19882559907275946, -0.021642115269961903 -0.27517427353391, 0.961394361947835L -0.27517427353391, 0.961394361947835 L -0.2731275786036075, 0.9619778198098593 L -0.2710796465738352, 0.9625569205056939 ",
          "type": "path"
         },
         {
          "fillcolor": "#e1b396",
          "layer": "below",
          "line": {
           "color": "rgb(175,175,175)",
           "width": 0.5
          },
          "path": "M -0.4453213803194647,0.8953707992951114 Q -0.18572386703059218, -0.07420677337819585 0.29428858810345143, -0.9557166038696184L 0.29428858810345143, -0.9557166038696184 L 0.275614221572547, -0.9612683292749007 L 0.25683524466603674, -0.9664552018057211 M 0.25683524466603674,-0.9664552018057211 Q -0.18576793953452203, -0.07409637400776216 -0.4788193117862264, 0.8779134733335424L -0.4788193117862264, 0.8779134733335424 L -0.46215278237702795, 0.8868003189789523 L -0.4453213803194647, 0.8953707992951114 ",
          "type": "path"
         },
         {
          "fillcolor": "#e1b396",
          "layer": "below",
          "line": {
           "color": "rgb(175,175,175)",
           "width": 0.5
          },
          "path": "M -0.3953648949355604,0.9185241422263181 Q -0.16064386896979232, -0.11913667513581282 0.7641788480902507, -0.6450044093891588L 0.7641788480902507, -0.6450044093891588 L 0.7556072273980989, -0.6550249750229051 L 0.7469042183837985, -0.6649316420208073 M 0.7469042183837985,-0.6649316420208073 Q -0.16064603300290944, -0.11913375709859962 -0.419416075136398, 0.9077941153792414L -0.419416075136398, 0.9077941153792414 L -0.4074258100156214, 0.9132383091685953 L -0.3953648949355604, 0.9185241422263181 ",
          "type": "path"
         },
         {
          "fillcolor": "#e1b396",
          "layer": "below",
          "line": {
           "color": "rgb(175,175,175)",
           "width": 0.5
          },
          "path": "M -0.2874279452894979,0.9578022636570961 Q -0.1482945406875616, -0.13419660652291152 0.9244257981151202, -0.3813619590090536L 0.9244257981151202, -0.3813619590090536 L 0.9228948975155504, -0.3850519551174383 L 0.9213492677645123, -0.388735805901382 M 0.9213492677645123,-0.388735805901382 Q -0.1482237267496169, -0.1342748182961158 -0.2960793906685855, 0.9551633338970457L -0.2960793906685855, 0.9551633338970457 L -0.2917566516239082, 0.9564925803335881 L -0.2874279452894979, 0.9578022636570961 ",
          "type": "path"
         },
         {
          "fillcolor": "#e1b396",
          "layer": "below",
          "line": {
           "color": "rgb(175,175,175)",
           "width": 0.5
          },
          "path": "M -0.2960793906685855,0.9551633338970457 Q -0.13435708899177273, -0.14814915672273288 0.979461715998255, -0.20163022316546117L 0.979461715998255, -0.20163022316546117 L 0.9785478179483835, -0.2060198242608152 L 0.9776142473616268, -0.21040528357329805 M 0.9776142473616268,-0.21040528357329805 Q -0.1342330622700509, -0.14826154253077442 -0.306226496773087, 0.9519586822305276L -0.306226496773087, 0.9519586822305276 L -0.30115720638862525, 0.9535745052381586 L -0.2960793906685855, 0.9551633338970457 ",
          "type": "path"
         },
         {
          "fillcolor": "#e1b396",
          "layer": "below",
          "line": {
           "color": "rgb(175,175,175)",
           "width": 0.5
          },
          "path": "M -0.2662109041664913,0.9639148066623208 Q -0.12933820184261471, -0.15255041640100186 0.9944778807797914, -0.10494638936016404L 0.9944778807797914, -0.10494638936016404 L 0.9943799252340889, -0.10587050718423803 L 0.9942811109527796, -0.10679453357970306 M 0.9942811109527796,-0.10679453357970306 Q -0.12929733850752775, -0.15258505252766338 -0.2685180059972269, 0.9632746651164834L -0.2685180059972269, 0.9632746651164834 L -0.26736464666540916, 0.9635954263660039 L -0.2662109041664913, 0.9639148066623208 ",
          "type": "path"
         },
         {
          "fillcolor": "#dba284",
          "layer": "below",
          "line": {
           "color": "rgb(175,175,175)",
           "width": 0.5
          },
          "path": "M -0.690758040220534,0.7230859768178934 Q -0.14969610352646182, 0.13263135597962808 -0.8010209702362369, 0.5986362879426854L -0.8010209702362369, 0.5986362879426854 L -0.7961982650484779, 0.6050358028528509 L -0.7913244341576441, 0.611396467036803 M -0.7913244341576441,0.611396467036803 Q -0.14957091249644583, 0.13277252025543745 -0.7009129068858031, 0.713246869576652L -0.7009129068858031, 0.713246869576652 L -0.6958528639466739, 0.7181843716882259 L -0.690758040220534, 0.7230859768178934 ",
          "type": "path"
         },
         {
          "fillcolor": "#dba284",
          "layer": "below",
          "line": {
           "color": "rgb(175,175,175)",
           "width": 0.5
          },
          "path": "M -0.6478283401508284,0.7617863491146468 Q -0.15179467147612807, 0.13022433609527198 -0.8514477182572545, 0.5244394941978674L -0.8514477182572545, 0.5244394941978674 L -0.8494887957607227, 0.5276066582947918 L -0.8475180922938279, 0.5307665053812558 M -0.8475180922938279,0.5307665053812558 Q -0.1517023140915729, 0.13033191435431987 -0.6524102500294781, 0.7578659945244106L -0.6524102500294781, 0.7578659945244106 L -0.6501222501526509, 0.7598296255453942 L -0.6478283401508284, 0.7617863491146468 ",
          "type": "path"
         },
         {
          "fillcolor": "#dba284",
          "layer": "below",
          "line": {
           "color": "rgb(175,175,175)",
           "width": 0.5
          },
          "path": "M -0.6675626245845422,0.7445536530417386 Q -0.17688922937786555, 0.09332845509331475 -0.9914167198010546, 0.13073977091504L -0.9914167198010546, 0.13073977091504 L -0.9908022886291874, 0.1353174964561661 L -0.9901667205761921, 0.13989233525604222 M -0.9901667205761921,0.13989233525604222 Q -0.17685598760687357, 0.09339143241003102 -0.6738859355682494, 0.7388353983420834L -0.6738859355682494, 0.7388353983420834 L -0.6707303739157799, 0.741701264328704 L -0.6675626245845422, 0.7445536530417386 ",
          "type": "path"
         },
         {
          "fillcolor": "#dba284",
          "layer": "below",
          "line": {
           "color": "rgb(175,175,175)",
           "width": 0.5
          },
          "path": "M -0.6398732692174183,0.7684804482490192 Q -0.1783927289480793, 0.09042142588157473 -0.9980916316966293, 0.061750261029084944L -0.9980916316966293, 0.061750261029084944 L -0.9980698029096857, 0.06210208144515928 L -0.9980478501084759, 0.06245389414479531 M -0.9980478501084759,0.06245389414479531 Q -0.17838905854234172, 0.09042866687271789 -0.6403525325740587, 0.768081137657988L -0.6403525325740587, 0.768081137657988 L -0.6401129320326178, 0.7682808303248267 L -0.6398732692174183, 0.7684804482490192 ",
          "type": "path"
         },
         {
          "fillcolor": "#dba284",
          "layer": "below",
          "line": {
           "color": "rgb(175,175,175)",
           "width": 0.5
          },
          "path": "M -0.6403525325740587,0.768081137657988 Q -0.18556590006022022, 0.0746009164477244 -0.9938071309448371, -0.11111879446426429L -0.9938071309448371, -0.11111879446426429 L -0.9938728841622063, -0.11052913700512447 L -0.9939382875170345, -0.10993944063758408 M -0.9939382875170345,-0.10993944063758408 Q -0.18556041875715953, 0.07461454945697656 -0.6411507509913684, 0.7674149558766784L -0.6411507509913684, 0.7674149558766784 L -0.6407517283603565, 0.7677481505045882 L -0.6403525325740587, 0.768081137657988 ",
          "type": "path"
         },
         {
          "fillcolor": "#dba284",
          "layer": "below",
          "line": {
           "color": "rgb(175,175,175)",
           "width": 0.5
          },
          "path": "M -0.6421076981870664,0.7666144428126223 Q -0.19640766361049367, 0.03773631772003147 -0.8804845671696241, -0.47407481158158954L -0.8804845671696241, -0.47407481158158954 L -0.8813062449866399, -0.4725455560552322 L -0.8821252667432529, -0.4710148763819938 M -0.8821252667432529,-0.4710148763819938 Q -0.1963931421528721, 0.037811819783260564 -0.6441776530038574, 0.7648759058634557L -0.6441776530038574, 0.7648759058634557 L -0.6431432630446895, 0.7657458737729047 L -0.6421076981870664, 0.7666144428126223 ",
          "type": "path"
         },
         {
          "fillcolor": "#dba284",
          "layer": "below",
          "line": {
           "color": "rgb(175,175,175)",
           "width": 0.5
          },
          "path": "M -0.6411507509913684,0.7674149558766784 Q -0.19991710205383353, -0.005757803956119849 -0.5959200357411917, -0.8030437790072324L -0.5959200357411917, -0.8030437790072324 L -0.596573647624685, -0.8025583361723796 L -0.5972268640614373, -0.8020723613511075 M -0.5972268640614373,-0.8020723613511075 Q -0.19991819443815279, -0.005719749346688266 -0.6421076981870664, 0.7666144428126223L -0.6421076981870664, 0.7666144428126223 L -0.6416293494317822, 0.7670148485836163 L -0.6411507509913684, 0.7674149558766784 ",
          "type": "path"
         },
         {
          "fillcolor": "#dba284",
          "layer": "below",
          "line": {
           "color": "rgb(175,175,175)",
           "width": 0.5
          },
          "path": "M -0.6622820818337967,0.7492545922995015 Q -0.18573403452690096, -0.07418132122279812 0.036101817452714055, -0.9993481169125256L 0.036101817452714055, -0.9993481169125256 L 0.03143967192936984, -0.9995056513241801 L 0.02677684226562355, -0.9996414360750968 M 0.02677684226562355,-0.9996414360750968 Q -0.18581773133157542, -0.07397141828291831 -0.6675626245845422, 0.7445536530417386L -0.6675626245845422, 0.7445536530417386 L -0.6649265075966633, 0.7469087892743694 L -0.6622820818337967, 0.7492545922995015 ",
          "type": "path"
         },
         {
          "fillcolor": "#dba284",
          "layer": "below",
          "line": {
           "color": "rgb(175,175,175)",
           "width": 0.5
          },
          "path": "M -0.6441776530038574,0.7648759058634557 Q -0.15158550677992733, -0.13046775131913868 0.6604249172379121, -0.7508920885795088L 0.6604249172379121, -0.7508920885795088 L 0.6581214201337958, -0.752911811808711 L 0.6558117463095183, -0.754924468673827 M 0.6558117463095183,-0.754924468673827 Q -0.15167318284952278, -0.13036581455387464 -0.6478283401508284, 0.7617863491146468L -0.6478283401508284, 0.7617863491146468 L -0.6460048435786937, 0.7633333099458371 L -0.6441776530038574, 0.7648759058634557 ",
          "type": "path"
         },
         {
          "fillcolor": "#dba284",
          "layer": "below",
          "line": {
           "color": "rgb(175,175,175)",
           "width": 0.5
          },
          "path": "M -0.6572819152413168,0.7536447995552722 Q -0.10224350907764826, -0.1718902697987552 0.975982082211455, -0.21785080950547944L 0.975982082211455, -0.21785080950547944 L 0.9751943776852441, -0.22135023318508032 L 0.9743941258746865, -0.2248468088741878 M 0.9743941258746865,-0.2248468088741878 Q -0.10228819422611422, -0.17186368238217387 -0.6622820818337967, 0.7492545922995015L -0.6622820818337967, 0.7492545922995015 L -0.6597856500971734, 0.7514538548213392 L -0.6572819152413168, 0.7536447995552722 ",
          "type": "path"
         },
         {
          "fillcolor": "#d59171",
          "layer": "below",
          "line": {
           "color": "rgb(175,175,175)",
           "width": 0.5
          },
          "path": "M -0.7374615925105192,0.6753890727364849 Q -0.1611712544022081, 0.11842223927294536 -0.8648925129071607, 0.501957110834319L -0.8648925129071607, 0.501957110834319 L -0.8625627712142351, 0.5059500624718009 L -0.8602145953825495, 0.5099322012687928 M -0.8602145953825495,0.5099322012687928 Q -0.16112617154017186, 0.1184835720461158 -0.7431654171442893, 0.6691077362882263L -0.7431654171442893, 0.6691077362882263 L -0.7403201667027107, 0.6722544538887568 L -0.7374615925105192, 0.6753890727364849 ",
          "type": "path"
         },
         {
          "fillcolor": "#d59171",
          "layer": "below",
          "line": {
           "color": "rgb(175,175,175)",
           "width": 0.5
          },
          "path": "M -0.7729715645076131,0.6344406674092173 Q -0.18439012500128113, 0.07746148592695552 -0.994159227880108, 0.10792325801618262L -0.994159227880108, 0.10792325801618262 L -0.9934199579840461, 0.11452854263883706 L -0.9926368024650013, 0.12112876781366964 M -0.9926368024650013,0.12112876781366964 Q -0.1844138318781039, 0.07740502963008568 -0.7817186977926136, 0.6236312031332464L -0.7817186977926136, 0.6236312031332464 L -0.7773639199578729, 0.6290511393740017 L -0.7729715645076131, 0.6344406674092173 ",
          "type": "path"
         },
         {
          "fillcolor": "#d59171",
          "layer": "below",
          "line": {
           "color": "rgb(175,175,175)",
           "width": 0.5
          },
          "path": "M -0.7236216708984708,0.6901968396088938 Q -0.18334812138247528, 0.07989659808475649 -0.9981918595455662, 0.06010833167677082L -0.9981918595455662, 0.06010833167677082 L -0.998163498626476, 0.060577471140292743 L -0.9981349172168841, 0.061046597222482825 M -0.9981349172168841,0.061046597222482825 Q -0.1833482311075017, 0.07989634628535992 -0.7242720244130213, 0.6895143469520152L -0.7242720244130213, 0.6895143469520152 L -0.7239469280822654, 0.6898556699196227 L -0.7236216708984708, 0.6901968396088938 ",
          "type": "path"
         },
         {
          "fillcolor": "#d59171",
          "layer": "below",
          "line": {
           "color": "rgb(175,175,175)",
           "width": 0.5
          },
          "path": "M -0.7289678007790407,0.6845479862123391 Q -0.19029675617932096, 0.06153978052957346 -0.991763411014929, -0.12808331886718488L -0.991763411014929, -0.12808331886718488 L -0.992049665048625, -0.1258469788151897 L -0.9923308763369315, -0.12360999906309217 M -0.9923308763369315,-0.12360999906309217 Q -0.19029579721612055, 0.061542745810380675 -0.732025893169848, 0.6812768099156805L -0.732025893169848, 0.6812768099156805 L -0.7304986780194715, 0.6829141098350541 L -0.7289678007790407, 0.6845479862123391 ",
          "type": "path"
         },
         {
          "fillcolor": "#d59171",
          "layer": "below",
          "line": {
           "color": "rgb(175,175,175)",
           "width": 0.5
          },
          "path": "M -0.7250840610339272,0.6886603694380475 Q -0.19463705466663106, 0.04600453184957837 -0.9566747230891147, -0.2911588470274699L -0.9566747230891147, -0.2911588470274699 L -0.956954560422148, -0.29023778059937955 L -0.9572335109718997, -0.2893164452159781 M -0.9572335109718997,-0.2893164452159781 Q -0.19463613915275998, 0.046008405055027235 -0.7263812247849367, 0.6872920167439276L -0.7263812247849367, 0.6872920167439276 L -0.7257329654091669, 0.6879764988125808 L -0.7250840610339272, 0.6886603694380475 ",
          "type": "path"
         },
         {
          "fillcolor": "#d59171",
          "layer": "below",
          "line": {
           "color": "rgb(175,175,175)",
           "width": 0.5
          },
          "path": "M -0.7263812247849367,0.6872920167439276 Q -0.19836942285635636, 0.025486703899015414 -0.8765293326719606, -0.4813484485958664L -0.8765293326719606, -0.4813484485958664 L -0.8775558015365241, -0.4794745198543805 L -0.878578264141871, -0.47759840219315713 M -0.878578264141871,-0.47759840219315713 Q -0.19836301517487193, 0.02553652699044123 -0.7289678007790407, 0.6845479862123391L -0.7289678007790407, 0.6845479862123391 L -0.7276758062340634, 0.6859212207109544 L -0.7263812247849367, 0.6872920167439276 ",
          "type": "path"
         },
         {
          "fillcolor": "#d59171",
          "layer": "below",
          "line": {
           "color": "rgb(175,175,175)",
           "width": 0.5
          },
          "path": "M -0.7431654171442893,0.6691077362882263 Q -0.19839019161680607, -0.02532453099757174 -0.5512501349594956, -0.8343400318258366L -0.5512501349594956, -0.8343400318258366 L -0.5555449559570977, -0.8314865013399955 L -0.559825006056726, -0.8286108631882559 M -0.559825006056726,-0.8286108631882559 Q -0.19840732523988558, -0.025189944246748038 -0.7491280722850937, 0.6624251892209561L -0.7491280722850937, 0.6624251892209561 L -0.7461542258522413, 0.6657731379703168 L -0.7431654171442893, 0.6691077362882263 ",
          "type": "path"
         },
         {
          "fillcolor": "#d59171",
          "layer": "below",
          "line": {
           "color": "rgb(175,175,175)",
           "width": 0.5
          },
          "path": "M -0.764682818769816,0.6444068487207819 Q -0.1775178488523168, -0.09212715853018594 0.08676454670511063, -0.9962288459159656L 0.08676454670511063, -0.9962288459159656 L 0.0792445879047422, -0.996855202769092 L 0.07172011675086687, -0.9974247965903204 M 0.07172011675086687,-0.9974247965903204 Q -0.17761583503661377, -0.09193810496331982 -0.7729715645076131, 0.6344406674092173L -0.7729715645076131, 0.6344406674092173 L -0.7688433402166897, 0.639437188631099 L -0.764682818769816, 0.6444068487207819 ",
          "type": "path"
         },
         {
          "fillcolor": "#d59171",
          "layer": "below",
          "line": {
           "color": "rgb(175,175,175)",
           "width": 0.5
          },
          "path": "M -0.7491280722850937,0.6624251892209561 Q -0.1389133509790538, -0.14388565223735902 0.6883506305624884, -0.7253781147816803L 0.6883506305624884, -0.7253781147816803 L 0.6838932615519707, -0.7295820768109698 L 0.6794102182068643, -0.73375864928197 M 0.6794102182068643,-0.73375864928197 Q -0.13901495274784456, -0.14378749219773793 -0.7562655848493525, 0.6542647515894975L -0.7562655848493525, 0.6542647515894975 L -0.7527078875106464, 0.6583546430908345 L -0.7491280722850937, 0.6624251892209561 ",
          "type": "path"
         },
         {
          "fillcolor": "#d59171",
          "layer": "below",
          "line": {
           "color": "rgb(175,175,175)",
           "width": 0.5
          },
          "path": "M -0.7229706742608762,0.6908787188492449 Q -0.11195948600009037, -0.16572589868392804 0.9107999060893629, -0.412848072621888L 0.9107999060893629, -0.412848072621888 L 0.9106057685831245, -0.41327609926432607 L 0.9104114299275522, -0.4137040346156534 M 0.9104114299275522,-0.4137040346156534 Q -0.11195925840196791, -0.1657260524422198 -0.7236216708984708, 0.6901968396088938L -0.7236216708984708, 0.6901968396088938 L -0.7232962529339064, 0.6905378559440246 L -0.7229706742608762, 0.6908787188492449 ",
          "type": "path"
         },
         {
          "fillcolor": "#d59171",
          "layer": "below",
          "line": {
           "color": "rgb(175,175,175)",
           "width": 0.5
          },
          "path": "M -0.732025893169848,0.6812768099156805 Q -0.09248840984488346, -0.1773299017209587 0.9776142473616268, -0.21040528357329805L 0.9776142473616268, -0.21040528357329805 L 0.9768052588384525, -0.21412960165643563 L 0.975982082211455, -0.21785080950547944 M 0.975982082211455,-0.21785080950547944 Q -0.0924537457994435, -0.17734797683551928 -0.7374615925105192, 0.6753890727364849L -0.7374615925105192, 0.6753890727364849 L -0.7347496403572272, 0.6783383860544273 L -0.732025893169848, 0.6812768099156805 ",
          "type": "path"
         },
         {
          "fillcolor": "#d0805f",
          "layer": "below",
          "line": {
           "color": "rgb(175,175,175)",
           "width": 0.5
          },
          "path": "M -0.8514477182572545,0.5244394941978674 Q -0.18364799063112458, 0.07920489591654285 -0.9657935747526076, 0.25931211110663377L -0.9657935747526076, 0.25931211110663377 L -0.9650985256582582, 0.26188706682892254 L -0.9643966113449894, 0.2644601596201238 M -0.9643966113449894,0.2644601596201238 Q -0.18374174478789645, 0.078987158591125 -0.855463142430624, 0.5178637001593391L -0.855463142430624, 0.5178637001593391 L -0.8534617635549749, 0.5211554644725813 L -0.8514477182572545, 0.5244394941978674 ",
          "type": "path"
         },
         {
          "fillcolor": "#d0805f",
          "layer": "below",
          "line": {
           "color": "rgb(175,175,175)",
           "width": 0.5
          },
          "path": "M -0.855463142430624,0.5178637001593391 Q -0.18839352281618973, 0.0671407518643171 -0.9901667205761921, 0.13989233525604222L -0.9901667205761921, 0.13989233525604222 L -0.9895912439828669, 0.14390680954159912 L -0.9889994914070962, 0.14791891696637377 M -0.9889994914070962,0.14791891696637377 Q -0.18843158856180903, 0.0670338454220935 -0.8602145953825495, 0.5099322012687928L -0.8602145953825495, 0.5099322012687928 L -0.8578480355958129, 0.5139034421215769 L -0.855463142430624, 0.5178637001593391 ",
          "type": "path"
         },
         {
          "fillcolor": "#d0805f",
          "layer": "below",
          "line": {
           "color": "rgb(175,175,175)",
           "width": 0.5
          },
          "path": "M -0.8385398582128191,0.5448402574961081 Q -0.19022474931999755, 0.06176200082691692 -0.9986646453074883, 0.05166165127895643L -0.9986646453074883, 0.05166165127895643 L -0.99856575749049, 0.05353903218628222 L -0.9984633404047178, 0.055416223868578945 M -0.9984633404047178,0.055416223868578945 Q -0.19023553301246643, 0.061728777563327855 -0.8407716640115632, 0.541389886306742L -0.8407716640115632, 0.541389886306742 L -0.8396575334231385, 0.5431162182864465 L -0.8385398582128191, 0.5448402574961081 ",
          "type": "path"
         },
         {
          "fillcolor": "#d0805f",
          "layer": "below",
          "line": {
           "color": "rgb(175,175,175)",
           "width": 0.5
          },
          "path": "M -0.8362938928145431,0.5482814285028241 Q -0.19481546747604128, 0.045243050649702105 -0.9923308763369315, -0.12360999906309217L -0.9923308763369315, -0.12360999906309217 L -0.9925637735211127, -0.12172573882926056 L -0.9927930928327666, -0.11984103981336937 M -0.9927930928327666,-0.11984103981336937 Q -0.19482252448262607, 0.04521265258991746 -0.8385398582128191, 0.5448402574961081L -0.8385398582128191, 0.5448402574961081 L -0.8374186430988806, 0.5465619966576798 L -0.8362938928145431, 0.5482814285028241 ",
          "type": "path"
         },
         {
          "fillcolor": "#d0805f",
          "layer": "below",
          "line": {
           "color": "rgb(175,175,175)",
           "width": 0.5
          },
          "path": "M -0.8346001493341784,0.5508562341767289 Q -0.1980764984508411, 0.027671298514055077 -0.9536105359940582, -0.3010430959864801L -0.9536105359940582, -0.3010430959864801 L -0.95404423508947, -0.2996658096822994 L -0.9544759449907555, -0.29828789857116933 M -0.9544759449907555,-0.29828789857116933 Q -0.19807918208473424, 0.027652081741574214 -0.8362938928145431, 0.5482814285028241L -0.8362938928145431, 0.5482814285028241 L -0.8354480130014602, 0.54956948384341 L -0.8346001493341784, 0.5508562341767289 ",
          "type": "path"
         },
         {
          "fillcolor": "#d0805f",
          "layer": "below",
          "line": {
           "color": "rgb(175,175,175)",
           "width": 0.5
          },
          "path": "M -0.8755194482251778,0.4831828802632398 Q -0.19990222839698746, -0.00625292586863703 -0.8436095504811106, -0.5369570991588234L -0.8436095504811106, -0.5369570991588234 L -0.8483092795481216, -0.5295010540429044 L -0.8529431118976393, -0.5220038772522396 M -0.8529431118976393,-0.5220038772522396 Q -0.19990433234104033, -0.006185297994672777 -0.8835835718087491, 0.468273500883504L -0.8835835718087491, 0.468273500883504 L -0.8795831007764376, 0.47574527725297205 L -0.8755194482251778, 0.4831828802632398 ",
          "type": "path"
         },
         {
          "fillcolor": "#d0805f",
          "layer": "below",
          "line": {
           "color": "rgb(175,175,175)",
           "width": 0.5
          },
          "path": "M -0.8835835718087491,0.468273500883504 Q -0.1913375885240563, -0.05822308148663144 -0.4729848504532466, -0.88107055974066L -0.4729848504532466, -0.88107055974066 L -0.48359058524788756, -0.8752943195632001 L -0.4941257900186799, -0.869390420719262 M -0.4941257900186799,-0.869390420719262 Q -0.19137526997466303, -0.058099105347026093 -0.8940555138396071, 0.4479561788534634L -0.8940555138396071, 0.4479561788534634 L -0.8888775945538278, 0.45814476085643613 L -0.8835835718087491, 0.468273500883504 ",
          "type": "path"
         },
         {
          "fillcolor": "#d0805f",
          "layer": "below",
          "line": {
           "color": "rgb(175,175,175)",
           "width": 0.5
          },
          "path": "M -0.8333246385120932,0.552783906104989 Q -0.17926580008317192, -0.08867791675800828 -0.06629283920650335, -0.9978002101973825L -0.06629283920650335, -0.9978002101973825 L -0.06708600019301715, -0.9977471967277596 L -0.067879118786896, -0.9976935527669378 M -0.067879118786896,-0.9976935527669378 Q -0.17923379346628876, -0.08874258999873597 -0.8346001493341784, 0.5508562341767289L -0.8346001493341784, 0.5508562341767289 L -0.8339629508903696, 0.5518204386774985 L -0.8333246385120932, 0.552783906104989 ",
          "type": "path"
         },
         {
          "fillcolor": "#d0805f",
          "layer": "below",
          "line": {
           "color": "rgb(175,175,175)",
           "width": 0.5
          },
          "path": "M -0.9063523602167403,0.4225226610840469 Q -0.1576811398382798, -0.12303112670906032 0.18944532743247577, -0.9818912709226018L 0.18944532743247577, -0.9818912709226018 L 0.17298423054656137, -0.9849245940589635 L 0.15647466888328604, -0.9876819720931763 M 0.15647466888328604,-0.9876819720931763 Q -0.15781292294253207, -0.1228620419508582 -0.9191442754875067, 0.3939210591457969L -0.9191442754875067, 0.3939210591457969 L -0.9128603423581505, 0.40827196248304914 L -0.9063523602167403, 0.4225226610840469 ",
          "type": "path"
         },
         {
          "fillcolor": "#d0805f",
          "layer": "below",
          "line": {
           "color": "rgb(175,175,175)",
           "width": 0.5
          },
          "path": "M -0.8697500961083501,0.4934924217447679 Q -0.12226201936063336, -0.15827823167403698 0.6971876772057682, -0.7168886543616279L 0.6971876772057682, -0.7168886543616279 L 0.6927821579023866, -0.7211469210168706 L 0.6883506305624884, -0.7253781147816803 M 0.6883506305624884,-0.7253781147816803 Q -0.12229684562772727, -0.15825132400554456 -0.8755194482251778, 0.4831828802632398L -0.8755194482251778, 0.4831828802632398 L -0.8726499969953189, 0.48834617101403593 L -0.8697500961083501, 0.4934924217447679 ",
          "type": "path"
         },
         {
          "fillcolor": "#d0805f",
          "layer": "below",
          "line": {
           "color": "rgb(175,175,175)",
           "width": 0.5
          },
          "path": "M -0.8439550022919806,0.536413976427109 Q -0.0940017377069341, -0.17653235768004905 0.9161539167437749, -0.4008266468625064L 0.9161539167437749, -0.4008266468625064 L 0.9149251286580348, -0.4036235981085329 L 0.9136878017074226, -0.40641678239346557 M 0.9136878017074226,-0.40641678239346557 Q -0.09395163358495234, -0.17655902850525335 -0.8475180922938279, 0.5307665053812558L -0.8475180922938279, 0.5307665053812558 L -0.8457412612077208, 0.533593214996943 L -0.8439550022919806, 0.536413976427109 ",
          "type": "path"
         },
         {
          "fillcolor": "#d0805f",
          "layer": "below",
          "line": {
           "color": "rgb(175,175,175)",
           "width": 0.5
          },
          "path": "M -0.8407716640115632,0.541389886306742 Q -0.07844047266758379, -0.18397579255892893 0.9727560217474189, -0.23183123636416L 0.9727560217474189, -0.23183123636416 L 0.972155094958289, -0.2343383693436483 L 0.9715477064206925, -0.23684394471611836 M 0.9715477064206925,-0.23684394471611836 Q -0.07837140491005773, -0.18400522517696008 -0.8439550022919806, 0.536413976427109L -0.8439550022919806, 0.536413976427109 L -0.8423670072826603, 0.5389042818921134 L -0.8407716640115632, 0.541389886306742 ",
          "type": "path"
         },
         {
          "fillcolor": "#d0805f",
          "layer": "below",
          "line": {
           "color": "rgb(175,175,175)",
           "width": 0.5
          },
          "path": "M -0.8321871131471141,0.5544949131523862 Q -0.06808657697989053, -0.18805376368252097 0.9942811109527796, -0.10679453357970306L 0.9942811109527796, -0.10679453357970306 L 0.9941925551911869, -0.10761581297569082 L 0.9941033210502882, -0.10843701894089285 M 0.9941033210502882,-0.10843701894089285 Q -0.06804872493127621, -0.18806746405273697 -0.8333246385120932, 0.552783906104989L -0.8333246385120932, 0.552783906104989 L -0.8327563152657621, 0.5536397017781426 L -0.8321871131471141, 0.5544949131523862 ",
          "type": "path"
         },
         {
          "fillcolor": "#ca6f4c",
          "layer": "below",
          "line": {
           "color": "rgb(175,175,175)",
           "width": 0.5
          },
          "path": "M -0.9587877336515213,0.28412335665935606 Q -0.19395735195689606, 0.04879083542909214 -0.9791036504795229, 0.2033618489728898L -0.9791036504795229, 0.2033618489728898 L -0.9789199780040988, 0.20424415943780322 L -0.9787355104426884, 0.2051263040141127 M -0.9787355104426884,0.2051263040141127 Q -0.1939480784303896, 0.048827685519174956 -0.9591909177744675, 0.2827592319606465L -0.9591909177744675, 0.2827592319606465 L -0.9589895682646982, 0.28344136599919195 L -0.9587877336515213, 0.28412335665935606 ",
          "type": "path"
         },
         {
          "fillcolor": "#ca6f4c",
          "layer": "below",
          "line": {
           "color": "rgb(175,175,175)",
           "width": 0.5
          },
          "path": "M -0.9580774937923182,0.28650918988512475 Q -0.19691623543213993, 0.03498565739319528 -0.9981349172168841, 0.061046597222482825L -0.9981349172168841, 0.061046597222482825 L -0.9981133364665944, 0.061398432940287434 L -0.9980916316966293, 0.061750261029084944 M -0.9980916316966293,0.061750261029084944 Q -0.19691323344183878, 0.03500254984254591 -0.9582301879852487, 0.28599808886381556L -0.9582301879852487, 0.28599808886381556 L -0.9581538749678945, 0.2862536495557888 L -0.9580774937923182, 0.28650918988512475 ",
          "type": "path"
         },
         {
          "fillcolor": "#ca6f4c",
          "layer": "below",
          "line": {
           "color": "rgb(175,175,175)",
           "width": 0.5
          },
          "path": "M -0.9620073793046493,0.273023446178896 Q -0.19994907217210975, -0.004513151616381847 -0.948708820714513, -0.3161511877227065L -0.948708820714513, -0.3161511877227065 L -0.9496178809710697, -0.3134100830222528 L -0.9505190213712639, -0.3106663644674375 M -0.9505190213712639,-0.3106663644674375 Q -0.19995241922772067, -0.004362343977936502 -0.9631637116735114, 0.2689157200970313L -0.9631637116735114, 0.2689157200970313 L -0.9625877366442507, 0.2709701999521324 L -0.9620073793046493, 0.273023446178896 ",
          "type": "path"
         },
         {
          "fillcolor": "#ca6f4c",
          "layer": "below",
          "line": {
           "color": "rgb(175,175,175)",
           "width": 0.5
          },
          "path": "M -0.9596921685536818,0.28105327184847295 Q -0.19894466478261189, -0.020518780532336342 -0.8821252667432529, -0.4710148763819938L -0.8821252667432529, -0.4710148763819938 L -0.8828789272414187, -0.4696006812527445 L -0.8836303205488684, -0.4681852802114823 M -0.8836303205488684,-0.4681852802114823 Q -0.1989556268781177, -0.020412215302000488 -0.9602896643156065, 0.27900494728341246L -0.9602896643156065, 0.27900494728341246 L -0.9599914627461064, 0.280029268924859 L -0.9596921685536818, 0.28105327184847295 ",
          "type": "path"
         },
         {
          "fillcolor": "#ca6f4c",
          "layer": "below",
          "line": {
           "color": "rgb(175,175,175)",
           "width": 0.5
          },
          "path": "M -0.9602896643156065,0.27900494728341246 Q -0.1892981571149161, -0.06454616729827221 -0.5898006678678582, -0.8075488667459254L -0.5898006678678582, -0.8075488667459254 L -0.5914431383506642, -0.8063467083692455 L -0.5930831585472117, -0.8051412093835857 M -0.5930831585472117,-0.8051412093835857 Q -0.18934341244998726, -0.06441329180995188 -0.9610303857898064, 0.27644275644099603L -0.9610303857898064, 0.27644275644099603 L -0.9606608792595568, 0.2777240988107717 L -0.9602896643156065, 0.27900494728341246 ",
          "type": "path"
         },
         {
          "fillcolor": "#ca6f4c",
          "layer": "below",
          "line": {
           "color": "rgb(175,175,175)",
           "width": 0.5
          },
          "path": "M -0.9610303857898064,0.27644275644099603 Q -0.162873268358708, -0.11607023069741995 -0.052362084931130835, -0.9986281650652885L -0.052362084931130835, -0.9986281650652885 L -0.05412609160841333, -0.998534108684925 L -0.05588992938164685, -0.9984369363128122 M -0.05588992938164685,-0.9984369363128122 Q -0.1628719262266142, -0.11607211399484521 -0.9620073793046493, 0.273023446178896L -0.9620073793046493, 0.273023446178896 L -0.9615204024957229, 0.2747335356021595 L -0.9610303857898064, 0.27644275644099603 ",
          "type": "path"
         },
         {
          "fillcolor": "#ca6f4c",
          "layer": "below",
          "line": {
           "color": "rgb(175,175,175)",
           "width": 0.5
          },
          "path": "M -0.9680607598151599,0.2507157061416281 Q -0.1502576364212885, -0.13199485860096172 0.12387325838749484, -0.9922980478951196L 0.12387325838749484, -0.9922980478951196 L 0.11379242070973608, -0.993504547039931 L 0.10369985343118146, -0.9946086368006019 M 0.10369985343118146,-0.9946086368006019 Q -0.15072841789106275, -0.13145700453021572 -0.9712757243570009, 0.23795686011288492L -0.9712757243570009, 0.23795686011288492 L -0.9696892268909177, 0.2443415708627866 L -0.9680607598151599, 0.2507157061416281 ",
          "type": "path"
         },
         {
          "fillcolor": "#ca6f4c",
          "layer": "below",
          "line": {
           "color": "rgb(175,175,175)",
           "width": 0.5
          },
          "path": "M -0.9579755462103737,0.28684987861760747 Q -0.10878419365483954, -0.1678272898275676 0.6529916640419036, -0.7573650947144223L 0.6529916640419036, -0.7573650947144223 L 0.6527898815727142, -0.7575390224379743 L 0.6525880527769743, -0.7577128964012405 M 0.6525880527769743,-0.7577128964012405 Q -0.10879906084429765, -0.16781765210906396 -0.9580774937923182, 0.28650918988512475L -0.9580774937923182, 0.28650918988512475 L -0.9580265351456047, 0.286679538783129 L -0.9579755462103737, 0.28684987861760747 ",
          "type": "path"
         },
         {
          "fillcolor": "#ca6f4c",
          "layer": "below",
          "line": {
           "color": "rgb(175,175,175)",
           "width": 0.5
          },
          "path": "M -0.9584840723862728,0.2851460730605038 Q -0.06945550258370836, -0.18755248108421407 0.9130180159701085, -0.4079192352831708L 0.9130180159701085, -0.4079192352831708 L 0.912730208525857, -0.40856280599724887 L 0.9124419474397332, -0.4092061736489165 M 0.9124419474397332,-0.4092061736489165 Q -0.06948768016685257, -0.18754056175939435 -0.9587877336515213, 0.28412335665935606L -0.9587877336515213, 0.28412335665935606 L -0.9586360394039364, 0.2846347553548839 L -0.9584840723862728, 0.2851460730605038 ",
          "type": "path"
         },
         {
          "fillcolor": "#ca6f4c",
          "layer": "below",
          "line": {
           "color": "rgb(175,175,175)",
           "width": 0.5
          },
          "path": "M -0.9579245269882375,0.2870202093831748 Q -0.05389538612784833, -0.1926013690349322 0.96776790756405, -0.2518437553109078L 0.96776790756405, -0.2518437553109078 L 0.9677396714946442, -0.25195223399572786 L 0.9677114232656857, -0.2520607095147931 M 0.9677114232656857,-0.2520607095147931 Q -0.0538998524398022, -0.19260011917692976 -0.9579755462103737, 0.28684987861760747L -0.9579755462103737, 0.28684987861760747 L -0.9579500403850679, 0.2869350451343416 L -0.9579245269882375, 0.2870202093831748 ",
          "type": "path"
         },
         {
          "fillcolor": "#ca6f4c",
          "layer": "below",
          "line": {
           "color": "rgb(175,175,175)",
           "width": 0.5
          },
          "path": "M -0.9578734774808089,0.28719053107444587 Q -0.04001160818374788, -0.19595680955391737 0.9937856602033593, -0.11131065346216029L 0.9937856602033593, -0.11131065346216029 L 0.993774161524807, -0.11141326620141258 L 0.9937626522510381, -0.11151587775282186 M 0.9937626522510381,-0.11151587775282186 Q -0.04001442039715469, -0.1959562353187052 -0.9579245269882375, 0.2870202093831748L -0.9579245269882375, 0.2870202093831748 L -0.9578990060200839, 0.2871053713634339 L -0.9578734774808089, 0.28719053107444587 ",
          "type": "path"
         },
         {
          "fillcolor": "#c45e3a",
          "layer": "below",
          "line": {
           "color": "rgb(175,175,175)",
           "width": 0.5
          },
          "path": "M -0.9784573186422694,0.20644920827017108 Q -0.19978032328473946, 0.009371362133916084 -0.9934866461489003, -0.11394860211432986L -0.9934866461489003, -0.11394860211432986 L -0.9935675228594562, -0.11324123594752944 L -0.9936478959227496, -0.1125338123778478 M -0.9936478959227496,-0.1125338123778478 Q -0.1997799852650881, 0.009378565321048696 -0.9787355104426884, 0.2051263040141127L -0.9787355104426884, 0.2051263040141127 L -0.9785966380865575, 0.2057878031509329 L -0.9784573186422694, 0.20644920827017108 ",
          "type": "path"
         },
         {
          "fillcolor": "#c45e3a",
          "layer": "below",
          "line": {
           "color": "rgb(175,175,175)",
           "width": 0.5
          },
          "path": "M -0.9839230869273029,0.17859271824866504 Q -0.19943914932900664, -0.014967488597697087 -0.9462459985992935, -0.3234478476274434L -0.9462459985992935, -0.3234478476274434 L -0.9474844337093864, -0.31980188848473573 L -0.948708820714513, -0.3161511877227065 M -0.948708820714513,-0.3161511877227065 Q -0.19944282008943687, -0.014918495727536325 -0.9851851215802662, 0.17149424543370623L -0.9851851215802662, 0.17149424543370623 L -0.9845605015853766, 0.17504461922021977 L -0.9839230869273029, 0.17859271824866504 ",
          "type": "path"
         },
         {
          "fillcolor": "#c45e3a",
          "layer": "below",
          "line": {
           "color": "rgb(175,175,175)",
           "width": 0.5
          },
          "path": "M -0.9800548807084909,0.1987270258406382 Q -0.19760829476904967, -0.03083766914778706 -0.8729052101747793, -0.48788983802670505L -0.8729052101747793, -0.48788983802670505 L -0.8747233862028996, -0.4846225310793266 L -0.8765293326719606, -0.4813484485958664 M -0.8765293326719606,-0.4813484485958664 Q -0.19762629602505807, -0.030722094971146113 -0.9812890552991659, 0.19254035927584257L -0.9812890552991659, 0.19254035927584257 L -0.9806768466417966, 0.19563466579495126 L -0.9800548807084909, 0.1987270258406382 ",
          "type": "path"
         },
         {
          "fillcolor": "#c45e3a",
          "layer": "below",
          "line": {
           "color": "rgb(175,175,175)",
           "width": 0.5
          },
          "path": "M -0.9864699199447664,0.16394235890753223 Q -0.18374411274570657, -0.07898164996562859 -0.559825006056726, -0.8286108631882559L -0.559825006056726, -0.8286108631882559 L -0.5638660619937585, -0.8258662507522939 L -0.5678936623777495, -0.8231019306447936 M -0.5678936623777495,-0.8231019306447936 Q -0.18380956245571178, -0.07882921254103581 -0.9877671975063907, 0.15593576732222433L -0.9877671975063907, 0.15593576732222433 L -0.9871266764492118, 0.15994037839874267 L -0.9864699199447664, 0.16394235890753223 ",
          "type": "path"
         },
         {
          "fillcolor": "#c45e3a",
          "layer": "below",
          "line": {
           "color": "rgb(175,175,175)",
           "width": 0.5
          },
          "path": "M -0.9783175521734744,0.20711051906965328 Q -0.1597133977637134, -0.12038118862500852 -0.07034632229284218, -0.9975226287858695L -0.07034632229284218, -0.9975226287858695 L -0.07061064027273709, -0.9975039536163625 L -0.07087495329486519, -0.9974852084093532 M -0.07087495329486519,-0.9974852084093532 Q -0.1597046115988582, -0.12039284461319887 -0.9784573186422694, 0.20644920827017108L -0.9784573186422694, 0.20644920827017108 L -0.9783874912819491, 0.20677987547876567 L -0.9783175521734744, 0.20711051906965328 ",
          "type": "path"
         },
         {
          "fillcolor": "#c45e3a",
          "layer": "below",
          "line": {
           "color": "rgb(175,175,175)",
           "width": 0.5
          },
          "path": "M -0.9877671975063907,0.15593576732222433 Q -0.1490208970909004, -0.1333895506785418 0.04597187820179724, -0.9989427343019214L 0.04597187820179724, -0.9989427343019214 L 0.041037348395852546, -0.9991576132105672 L 0.036101817452714055, -0.9993481169125256 M 0.036101817452714055,-0.9993481169125256 Q -0.1491387147608883, -0.13325780937517473 -0.9889994914070962, 0.14791891696637377L -0.9889994914070962, 0.14791891696637377 L -0.9883914725815398, 0.15192859154252478 L -0.9877671975063907, 0.15593576732222433 ",
          "type": "path"
         },
         {
          "fillcolor": "#c45e3a",
          "layer": "below",
          "line": {
           "color": "rgb(175,175,175)",
           "width": 0.5
          },
          "path": "M -0.9851851215802662,0.17149424543370623 Q -0.09643812308561855, -0.1752132655243977 0.6719476496752618, -0.7405986471064416L 0.6719476496752618, -0.7405986471064416 L 0.6685867932370418, -0.7436341169614322 L 0.6652122244626217, -0.7466543353021468 M 0.6652122244626217,-0.7466543353021468 Q -0.09656049121727248, -0.17514585788958598 -0.9864699199447664, 0.16394235890753223L -0.9864699199447664, 0.16394235890753223 L -0.9858347520960576, 0.16771953243347826 L -0.9851851215802662, 0.17149424543370623 ",
          "type": "path"
         },
         {
          "fillcolor": "#c45e3a",
          "layer": "below",
          "line": {
           "color": "rgb(175,175,175)",
           "width": 0.5
          },
          "path": "M -0.9782708640227941,0.207330934990647 Q -0.0625401089849246, -0.1899703523399211 0.9101195448831112, -0.41434576626503433L 0.9101195448831112, -0.41434576626503433 L 0.9100708533938623, -0.4144527015269259 L 0.9100221493401649, -0.4145596310668787 M 0.9100221493401649,-0.4145596310668787 Q -0.06254102954212877, -0.18997004928096056 -0.9783175521734744, 0.20711051906965328L -0.9783175521734744, 0.20711051906965328 L -0.9782942143057732, 0.20722072834504238 L -0.9782708640227941, 0.207330934990647 ",
          "type": "path"
         },
         {
          "fillcolor": "#c45e3a",
          "layer": "below",
          "line": {
           "color": "rgb(175,175,175)",
           "width": 0.5
          },
          "path": "M -0.9826099069213562,0.1856819076270052 Q -0.041061091818207184, -0.19573958909402248 0.9743941258746865, -0.2248468088741878L 0.9743941258746865, -0.2248468088741878 L 0.9735813370761776, -0.22834049158430564 L 0.9727560217474189, -0.23183123636416 M 0.9727560217474189,-0.23183123636416 Q -0.04105758466650988, -0.1957403247707339 -0.9839230869273029, 0.17859271824866504L -0.9839230869273029, 0.17859271824866504 L -0.9832728858894427, 0.18213849641041557 L -0.9826099069213562, 0.1856819076270052 ",
          "type": "path"
         },
         {
          "fillcolor": "#c45e3a",
          "layer": "below",
          "line": {
           "color": "rgb(175,175,175)",
           "width": 0.5
          },
          "path": "M -0.9794686095763376,0.2015967332438597 Q -0.030425724436753065, -0.19767214091140606 0.9947560389344657, -0.1022762093715429L 0.9947560389344657, -0.1022762093715429 L 0.9946178559128775, -0.1036113927098283 L 0.9944778807797914, -0.10494638936016404 M 0.9944778807797914,-0.10494638936016404 Q -0.030401573319612102, -0.19767585674455102 -0.9800548807084909, 0.1987270258406382L -0.9800548807084909, 0.1987270258406382 L -0.9797627958080741, 0.2001620941895492 L -0.9794686095763376, 0.2015967332438597 ",
          "type": "path"
         },
         {
          "fillcolor": "#bf4d28",
          "layer": "below",
          "line": {
           "color": "rgb(175,175,175)",
           "width": 0.5
          },
          "path": "M -0.9997009991436888,-0.024452245522859867 Q -0.1983983827358675, -0.025260279645962832 -0.9739336941104064, -0.22683288887737874L -0.9739336941104064, -0.22683288887737874 L -0.9768114631199355, -0.21410129732790262 L -0.9795228078980669, -0.20133322827463598 M -0.9795228078980669,-0.20133322827463598 Q -0.1984016139467385, -0.025234888217096366 -0.9987349974723225, -0.050283245956877665L -0.9987349974723225, -0.050283245956877665 L -0.9993014651688015, -0.037370867149248324 L -0.9997009991436888, -0.024452245522859867 ",
          "type": "path"
         },
         {
          "fillcolor": "#bf4d28",
          "layer": "below",
          "line": {
           "color": "rgb(175,175,175)",
           "width": 0.5
          },
          "path": "M -0.9981918595455662,0.06010833167677082 Q -0.19865678624509323, -0.023140468421605914 -0.9576502735126396, -0.28793393971737075L -0.9576502735126396, -0.28793393971737075 L -0.9578233353134189, -0.2873577184087421 L -0.9579960503999821, -0.286781393081969 M -0.9579960503999821,-0.286781393081969 Q -0.19865711375476716, -0.023137656636433693 -0.998261797156353, 0.058935425154725586L -0.998261797156353, 0.058935425154725586 L -0.9982270006201213, 0.05952188868774631 L -0.9981918595455662, 0.06010833167677082 ",
          "type": "path"
         },
         {
          "fillcolor": "#bf4d28",
          "layer": "below",
          "line": {
           "color": "rgb(175,175,175)",
           "width": 0.5
          },
          "path": "M -0.9983439030553314,0.05752783006725557 Q -0.1954021814778324, -0.042637864319220446 -0.8836303205488684, -0.4681852802114823L -0.8836303205488684, -0.4681852802114823 L -0.8841923765245892, -0.4671229402371491 L -0.8847531553081709, -0.4660599255162749 M -0.8847531553081709,-0.4660599255162749 Q -0.19540833513702496, -0.04260965335432962 -0.9984633404047178, 0.055416223868578945L -0.9984633404047178, 0.055416223868578945 L -0.9984041799811411, 0.056472058543896565 L -0.9983439030553314, 0.05752783006725557 ",
          "type": "path"
         },
         {
          "fillcolor": "#bf4d28",
          "layer": "below",
          "line": {
           "color": "rgb(175,175,175)",
           "width": 0.5
          },
          "path": "M -0.9996540466341852,0.026301844952364005 Q -0.1782888833894944, -0.09062601204801674 -0.5678936623777495, -0.8231019306447936L -0.5678936623777495, -0.8231019306447936 L -0.5717963935849457, -0.8203955657384125 L -0.5756862275117149, -0.8176706962178173 M -0.5756862275117149,-0.8176706962178173 Q -0.17834656027600876, -0.09051245459999402 -0.9998365621648182, 0.018078964528914L -0.9998365621648182, 0.018078964528914 L -0.9997537584872922, 0.02219059238806176 L -0.9996540466341852, 0.026301844952364005 ",
          "type": "path"
         },
         {
          "fillcolor": "#bf4d28",
          "layer": "below",
          "line": {
           "color": "rgb(175,175,175)",
           "width": 0.5
          },
          "path": "M -0.9980035724741839,0.06315749621989673 Q -0.15051123964361823, -0.13170560633830788 -0.06981767153398273, -0.9975597690071372L -0.06981767153398273, -0.9975597690071372 L -0.07008199937373807, -0.9975412339165631 L -0.07034632229284218, -0.9975226287858695 M -0.07034632229284218,-0.9975226287858695 Q -0.15049971218528224, -0.13171877858584635 -0.9980478501084759, 0.06245389414479531L -0.9980478501084759, 0.06245389414479531 L -0.9980257732957276, 0.06280569908427887 L -0.9980035724741839, 0.06315749621989673 ",
          "type": "path"
         },
         {
          "fillcolor": "#bf4d28",
          "layer": "below",
          "line": {
           "color": "rgb(175,175,175)",
           "width": 0.5
          },
          "path": "M -0.9994279955371784,0.03381836389504517 Q -0.14191861837386985, -0.14092233945990215 0.02677684226562355, -0.9996414360750968L 0.02677684226562355, -0.9996414360750968 L 0.022387762611318966, -0.9997493626330848 L 0.017998251417926218, -0.9998380183539217 M 0.017998251417926218,-0.9998380183539217 Q -0.14200743358528486, -0.14083283994339144 -0.9996540466341852, 0.026301844952364005L -0.9996540466341852, 0.026301844952364005 L -0.9995480865607524, 0.03006031691014981 L -0.9994279955371784, 0.03381836389504517 ",
          "type": "path"
         },
         {
          "fillcolor": "#bf4d28",
          "layer": "below",
          "line": {
           "color": "rgb(175,175,175)",
           "width": 0.5
          },
          "path": "M -0.9987349974723225,-0.050283245956877665 Q -0.058248599398725544, -0.1913298216904171 0.801285062368784, -0.5982827498972821L 0.801285062368784, -0.5982827498972821 L 0.7917830380521792, -0.6108024399532646 L 0.7820854186965973, -0.623171242807439 M 0.7820854186965973,-0.623171242807439 Q -0.058602938661837294, -0.1912215876416597 -0.9969568749539229, -0.07795504782955402L -0.9969568749539229, -0.07795504782955402 L -0.9979418543040289, -0.06412531035586785 L -0.9987349974723225, -0.050283245956877665 ",
          "type": "path"
         },
         {
          "fillcolor": "#bf4d28",
          "layer": "below",
          "line": {
           "color": "rgb(175,175,175)",
           "width": 0.5
          },
          "path": "M -0.998261797156353,0.058935425154725586 Q -0.04759428570068186, -0.19425443101417758 0.9124419474397332, -0.4092061736489165L 0.9124419474397332, -0.4092061736489165 L 0.9121532328550075, -0.4098493379184093 L 0.9118640649151759, -0.4104922984860641 M 0.9118640649151759,-0.4104922984860641 Q -0.04759428570068186, -0.19425443101417758 -0.9983439030553314, 0.05752783006725557L -0.9983439030553314, 0.05752783006725557 L -0.9983030981923428, 0.05823164208203081 L -0.998261797156353, 0.058935425154725586 ",
          "type": "path"
         },
         {
          "fillcolor": "#bf4d28",
          "layer": "below",
          "line": {
           "color": "rgb(175,175,175)",
           "width": 0.5
          },
          "path": "M -0.999969815045391,-0.007769748907563434 Q -0.015250858776343435, -0.19941768052653716 0.9871592280826774, -0.15973934521968078L 0.9871592280826774, -0.15973934521968078 L 0.9858566734317513, -0.16759063055577164 L 0.9844916752796072, -0.17543130081360175 M 0.9844916752796072,-0.17543130081360175 Q -0.015174319974511966, -0.19942351920801904 -0.9997009991436888, -0.024452245522859867L -0.9997009991436888, -0.024452245522859867 L -0.9998702004276526, -0.01611155786278293 L -0.999969815045391, -0.007769748907563434 ",
          "type": "path"
         },
         {
          "fillcolor": "#bf4d28",
          "layer": "below",
          "line": {
           "color": "rgb(175,175,175)",
           "width": 0.5
          },
          "path": "M -0.9998365621648182,0.018078964528914 Q -0.009221074365142934, -0.199787316383079 0.9972511483499988, -0.07409552695411875L 0.9972511483499988, -0.07409552695411875 L 0.9969366140738535, -0.0782137297343662 L 0.9966050735286064, -0.08233059830367533 M 0.9966050735286064,-0.08233059830367533 Q -0.009107242131948001, -0.19979253775041267 -0.9999623287695604, 0.0086799217598859L -0.9999623287695604, 0.0086799217598859 L -0.9999104892673324, 0.013379590919155485 L -0.9998365621648182, 0.018078964528914 ",
          "type": "path"
         },
         {
          "fillcolor": "#af4624",
          "layer": "below",
          "line": {
           "color": "rgb(175,175,175)",
           "width": 0.5
          },
          "path": "M -0.9934866461489003,-0.11394860211432986 Q -0.19577054315072298, -0.04091325499726117 -0.955971251783468, -0.29346033081755585L -0.955971251783468, -0.29346033081755585 L -0.9563236797789659, -0.2923098005439057 L -0.9566747230891147, -0.2911588470274699 M -0.9566747230891147,-0.2911588470274699 Q -0.19577122528293214, -0.04090999084843983 -0.9932134201895559, -0.116306070156998L -0.9932134201895559, -0.116306070156998 L -0.9933507325266336, -0.11512741718982653 L -0.9934866461489003, -0.11394860211432986 ",
          "type": "path"
         },
         {
          "fillcolor": "#af4624",
          "layer": "below",
          "line": {
           "color": "rgb(175,175,175)",
           "width": 0.5
          },
          "path": "M -0.9932134201895559,-0.116306070156998 Q -0.1906341065685888, -0.06048667136482162 -0.878578264141871, -0.47759840219315713L -0.878578264141871, -0.47759840219315713 L -0.8795331801860022, -0.47583756151852624 L -0.8804845671696241, -0.47407481158158954 M -0.8804845671696241,-0.47407481158158954 Q -0.19064760047074217, -0.060444126552943726 -0.9927930928327666, -0.11984103981336937L -0.9927930928327666, -0.11984103981336937 L -0.9930048295171525, -0.11807374202425727 L -0.9932134201895559, -0.116306070156998 ",
          "type": "path"
         },
         {
          "fillcolor": "#af4624",
          "layer": "below",
          "line": {
           "color": "rgb(175,175,175)",
           "width": 0.5
          },
          "path": "M -0.9893956816052625,-0.1452452588584497 Q -0.17034193115769175, -0.10480279809942197 -0.5756862275117149, -0.8176706962178173L -0.5756862275117149, -0.8176706962178173 L -0.5793418935241371, -0.8150846400269529 L -0.5829859428158775, -0.812482240100719 M -0.5829859428158775,-0.812482240100719 Q -0.17040080783266512, -0.10470704221768055 -0.98822783024194, -0.15298939680679624L -0.98822783024194, -0.15298939680679624 L -0.988819337174823, -0.14911847111992438 L -0.9893956816052625, -0.1452452588584497 ",
          "type": "path"
         },
         {
          "fillcolor": "#af4624",
          "layer": "below",
          "line": {
           "color": "rgb(175,175,175)",
           "width": 0.5
          },
          "path": "M -0.994016309691866,-0.10923175392972613 Q -0.13867182847934423, -0.1441184373569022 -0.07087495329486519, -0.9974852084093532L -0.07087495329486519, -0.9974852084093532 L -0.07113926134066746, -0.9974663931661578 L -0.07140356439158521, -0.9974475078880977 M -0.07140356439158521,-0.9974475078880977 Q -0.13865871162183896, -0.14413105734494458 -0.9939382875170345, -0.10993944063758408L -0.9939382875170345, -0.10993944063758408 L -0.9939773615863289, -0.10958560422738188 L -0.994016309691866, -0.10923175392972613 ",
          "type": "path"
         },
         {
          "fillcolor": "#af4624",
          "layer": "below",
          "line": {
           "color": "rgb(175,175,175)",
           "width": 0.5
          },
          "path": "M -0.9903060617696536,-0.13890249825787507 Q -0.1298688741706042, -0.15209890046170546 0.017998251417926218, -0.9998380183539217L 0.017998251417926218, -0.9998380183539217 L 0.014294328068576154, -0.9998978308732688 L 0.01059020856351126, -0.9999439221689291 M 0.01059020856351126,-0.9999439221689291 Q -0.12994498678753283, -0.15203387914799754 -0.9893956816052625, -0.1452452588584497L -0.9893956816052625, -0.1452452588584497 L -0.989855952062435, -0.14207460774737454 L -0.9903060617696536, -0.13890249825787507 ",
          "type": "path"
         },
         {
          "fillcolor": "#af4624",
          "layer": "below",
          "line": {
           "color": "rgb(175,175,175)",
           "width": 0.5
          },
          "path": "M -0.9739336941104064,-0.22683288887737874 Q -0.03767021110332194, -0.1964203533125607 0.8209118645002685, -0.5710549104269157L 0.8209118645002685, -0.5710549104269157 L 0.8112127071221245, -0.5847511811049161 L 0.801285062368784, -0.5982827498972821 M 0.801285062368784,-0.5982827498972821 Q -0.03802989197983213, -0.19635103085036834 -0.9667163290522488, -0.25585061880664695L -0.9667163290522488, -0.25585061880664695 L -0.9704334780204492, -0.241368731896106 L -0.9739336941104064, -0.22683288887737874 ",
          "type": "path"
         },
         {
          "fillcolor": "#af4624",
          "layer": "below",
          "line": {
           "color": "rgb(175,175,175)",
           "width": 0.5
          },
          "path": "M -0.9938071309448371,-0.11111879446426429 Q -0.031038550381844877, -0.19757684173554774 0.9118640649151759, -0.4104922984860641L 0.9118640649151759, -0.4104922984860641 L 0.9115744437639595, -0.411135055032319 L 0.9112843695453047, -0.41177760723771356 M 0.9112843695453047,-0.41177760723771356 Q -0.0310371711403378, -0.19757705840407025 -0.9936478959227496, -0.1125338123778478L -0.9936478959227496, -0.1125338123778478 L -0.9937277652980386, -0.11182633176388357 L -0.9938071309448371, -0.11111879446426429 ",
          "type": "path"
         },
         {
          "fillcolor": "#af4624",
          "layer": "below",
          "line": {
           "color": "rgb(175,175,175)",
           "width": 0.5
          },
          "path": "M -0.9851859689230217,-0.17148937762207567 Q -0.0018574459880385391, -0.19999137455000784 0.9818308339513244, -0.189758302855097L 0.9818308339513244, -0.189758302855097 L 0.9806642403212705, -0.19569784811056393 L 0.979461715998255, -0.20163022316546117 M 0.979461715998255,-0.20163022316546117 Q -0.0017865017847403155, -0.19999202086926648 -0.9829073978807868, -0.18410064419012898L -0.9829073978807868, -0.18410064419012898 L -0.9840668860018613, -0.177798661059637 L -0.9851859689230217, -0.17148937762207567 ",
          "type": "path"
         },
         {
          "fillcolor": "#af4624",
          "layer": "below",
          "line": {
           "color": "rgb(175,175,175)",
           "width": 0.5
          },
          "path": "M -0.9868846837050523,-0.16142682883702722 Q 0.009681485803657667, -0.19976553464657906 0.9978697848221469, -0.06523720210893597L 0.9978697848221469, -0.06523720210893597 L 0.9975702992647631, -0.06966705121368984 L 0.9972511483499988, -0.07409552695411875 M 0.9972511483499988,-0.07409552695411875 Q 0.009813832433120792, -0.1997590766222517 -0.9851859689230217, -0.17148937762207567L -0.9851859689230217, -0.17148937762207567 L -0.9860481623436262, -0.16646027015104115 L -0.9868846837050523, -0.16142682883702722 ",
          "type": "path"
         },
         {
          "fillcolor": "#9f4021",
          "layer": "below",
          "line": {
           "color": "rgb(175,175,175)",
           "width": 0.5
          },
          "path": "M -0.9310882205381682,-0.3647940865407053 Q -0.17635178150618214, -0.09434007186554288 -0.8202063595539835, -0.5720677649957229L -0.8202063595539835, -0.5720677649957229 L -0.8270974888269554, -0.5620584880385174 L -0.8338664778943693, -0.5519662100564121 M -0.8338664778943693,-0.5519662100564121 Q -0.1764650654117138, -0.09412800162140686 -0.9228765903070634, -0.38509583101250106L -0.9228765903070634, -0.38509583101250106 L -0.9270379820537281, -0.3749674383593217 L -0.9310882205381682, -0.3647940865407053 ",
          "type": "path"
         },
         {
          "fillcolor": "#9f4021",
          "layer": "below",
          "line": {
           "color": "rgb(175,175,175)",
           "width": 0.5
          },
          "path": "M -0.9365961961808208,-0.35041056676364285 Q -0.15369796476568093, -0.12797240181729616 -0.5142803992543581, -0.85762210264357L -0.5142803992543581, -0.85762210264357 L -0.5217088610307183, -0.8531235926417875 L -0.5290979762360781, -0.8485607412217976 M -0.5290979762360781,-0.8485607412217976 Q -0.1538237272149967, -0.12782120694816757 -0.9310882205381682, -0.3647940865407053L -0.9310882205381682, -0.3647940865407053 L -0.93386990074851, -0.3576129310804745 L -0.9365961961808208, -0.35041056676364285 ",
          "type": "path"
         },
         {
          "fillcolor": "#9f4021",
          "layer": "below",
          "line": {
           "color": "rgb(175,175,175)",
           "width": 0.5
          },
          "path": "M -0.9552622437795869,-0.2957601149735864 Q -0.12380046310291269, -0.1570778320944886 -0.0643538258977444, -0.9979271441805373L -0.0643538258977444, -0.9979271441805373 L -0.06532336338381885, -0.9978641481665856 L -0.06629283920650335, -0.9978002101973825 M -0.06629283920650335,-0.9978002101973825 Q -0.12374515687121648, -0.15712140576929046 -0.9544759449907555, -0.29828789857116933L -0.9544759449907555, -0.29828789857116933 L -0.9548699308463097, -0.29702426696410494 L -0.9552622437795869, -0.2957601149735864 ",
          "type": "path"
         },
         {
          "fillcolor": "#9f4021",
          "layer": "below",
          "line": {
           "color": "rgb(175,175,175)",
           "width": 0.5
          },
          "path": "M -0.9119654404404844,-0.4102670294359433 Q -0.08912109709690445, -0.17904588811878405 0.22247122651117363, -0.9749392562486209L 0.22247122651117363, -0.9749392562486209 L 0.20598760758892717, -0.9785546001730256 L 0.18944532743247577, -0.9818912709226018 M 0.18944532743247577,-0.9818912709226018 Q -0.08949243865632855, -0.1788605697836817 -0.8994233329579524, -0.4370785605938689L -0.8994233329579524, -0.4370785605938689 L -0.9057935949482263, -0.4237192034245893 L -0.9119654404404844, -0.4102670294359433 ",
          "type": "path"
         },
         {
          "fillcolor": "#9f4021",
          "layer": "below",
          "line": {
           "color": "rgb(175,175,175)",
           "width": 0.5
          },
          "path": "M -0.9522975126064722,-0.3051711773472815 Q -0.052661688296753176, -0.19294234005457592 0.6652122244626217, -0.7466543353021468L 0.6652122244626217, -0.7466543353021468 L 0.662821957619239, -0.7487770379076804 L 0.6604249172379121, -0.7508920885795088 M 0.6604249172379121,-0.7508920885795088 Q -0.05272127439875951, -0.19292606673482646 -0.9505190213712639, -0.3106663644674375L -0.9505190213712639, -0.3106663644674375 L -0.9514122343995439, -0.3079200549409982 L -0.9522975126064722, -0.3051711773472815 ",
          "type": "path"
         },
         {
          "fillcolor": "#9f4021",
          "layer": "below",
          "line": {
           "color": "rgb(175,175,175)",
           "width": 0.5
          },
          "path": "M -0.9582028507530742,-0.2860896656796287 Q -0.013626975843327078, -0.19953522378107927 0.9104114299275522, -0.4137040346156534L 0.9104114299275522, -0.4137040346156534 L 0.9102655439574452, -0.41402492616249137 L 0.9101195448831112, -0.41434576626503433 M 0.9101195448831112,-0.41434576626503433 Q -0.01362528131309409, -0.1995353394993956 -0.9579960503999821, -0.286781393081969L -0.9579960503999821, -0.286781393081969 L -0.9580995130030832, -0.2864355480439797 L -0.9582028507530742, -0.2860896656796287 ",
          "type": "path"
         },
         {
          "fillcolor": "#9f4021",
          "layer": "below",
          "line": {
           "color": "rgb(175,175,175)",
           "width": 0.5
          },
          "path": "M -0.9576502735126396,-0.28793393971737075 Q 0.004174027573325195, -0.19995643899063897 0.9688318644815086, -0.24771923293374637L 0.9688318644815086, -0.24771923293374637 L 0.9686650394251889, -0.2483707740363128 L 0.968497776206405, -0.2490222027917355 M 0.968497776206405,-0.2490222027917355 Q 0.004183909229198069, -0.19995623246991287 -0.9572335109718997, -0.2893164452159781L -0.9572335109718997, -0.2893164452159781 L -0.9574421417771526, -0.28862526769009467 L -0.9576502735126396, -0.28793393971737075 ",
          "type": "path"
         },
         {
          "fillcolor": "#9f4021",
          "layer": "below",
          "line": {
           "color": "rgb(175,175,175)",
           "width": 0.5
          },
          "path": "M -0.9536105359940582,-0.3010430959864801 Q 0.020667848880806763, -0.19892923370545654 0.9951293446424976, -0.09857782423746923L 0.9951293446424976, -0.09857782423746923 L 0.9949444102342903, -0.10042719026011018 L 0.9947560389344657, -0.1022762093715429 M 0.9947560389344657,-0.1022762093715429 Q 0.020728988033143565, -0.1989228721266657 -0.9522975126064722, -0.3051711773472815L -0.9522975126064722, -0.3051711773472815 L -0.9529562595911739, -0.30310784764832344 L -0.9536105359940582, -0.3010430959864801 ",
          "type": "path"
         },
         {
          "fillcolor": "#8f391e",
          "layer": "below",
          "line": {
           "color": "rgb(175,175,175)",
           "width": 0.5
          },
          "path": "M -0.7503090891507268,-0.6610871884538428 Q -0.10907524632197621, -0.1676382731949963 -0.30043273809337984, -0.9538030037076392L -0.30043273809337984, -0.9538030037076392 L -0.3400218006416707, -0.9404175535837237 L -0.37901702730544196, -0.9253896979178804 M -0.37901702730544196,-0.9253896979178804 Q -0.10918642629809693, -0.1675658805134573 -0.6934516551705685, -0.7205031588696881L -0.6934516551705685, -0.7205031588696881 L -0.7224914090118366, -0.6913798983945736 L -0.7503090891507268, -0.6610871884538428 ",
          "type": "path"
         },
         {
          "fillcolor": "#8f391e",
          "layer": "below",
          "line": {
           "color": "rgb(175,175,175)",
           "width": 0.5
          },
          "path": "M -0.8729052101747793,-0.48788983802670505 Q -0.10493606335124935, -0.17025986787362013 -0.04353971066593756, -0.9990516971584236L -0.04353971066593756, -0.9990516971584236 L -0.046010347453082835, -0.9989409631841346 L -0.048480702826765136, -0.9988241193790941 M -0.048480702826765136,-0.9988241193790941 Q -0.10472042864313634, -0.1703925814840476 -0.8692322712920916, -0.4944039426869407L -0.8692322712920916, -0.4944039426869407 L -0.8710748300076256, -0.4911503237575907 L -0.8729052101747793, -0.48788983802670505 ",
          "type": "path"
         },
         {
          "fillcolor": "#8f391e",
          "layer": "below",
          "line": {
           "color": "rgb(175,175,175)",
           "width": 0.5
          },
          "path": "M -0.7985693254235507,-0.6019028430673634 Q -0.04825479254762396, -0.19409140886753792 0.4237285869923238, -0.9057892053703713L 0.4237285869923238, -0.9057892053703713 L 0.3878690128691242, -0.9217145050697266 L 0.351412305003783, -0.9362208029583236 M 0.351412305003783,-0.9362208029583236 Q -0.0484579353907152, -0.19404079080870928 -0.7503090891507268, -0.6610871884538428L -0.7503090891507268, -0.6610871884538428 L -0.775004375773607, -0.6319558667595084 L -0.7985693254235507, -0.6019028430673634 ",
          "type": "path"
         },
         {
          "fillcolor": "#8f391e",
          "layer": "below",
          "line": {
           "color": "rgb(175,175,175)",
           "width": 0.5
          },
          "path": "M -0.8653769124830469,-0.5011215414860042 Q -0.0297831555251761, -0.1977699766065698 0.6794102182068643, -0.73375864928197L 0.6794102182068643, -0.73375864928197 L 0.675687589174384, -0.7371880912194044 L 0.6719476496752618, -0.7405986471064416 M 0.6719476496752618,-0.7405986471064416 Q -0.029780584606468992, -0.1977703637567999 -0.8602465189036148, -0.5098783450139972L -0.8602465189036148, -0.5098783450139972 L -0.8628228248833455, -0.5055064518483653 L -0.8653769124830469, -0.5011215414860042 ",
          "type": "path"
         },
         {
          "fillcolor": "#8f391e",
          "layer": "below",
          "line": {
           "color": "rgb(175,175,175)",
           "width": 0.5
          },
          "path": "M -0.8692322712920916,-0.4944039426869407 Q 0.011782162981828784, -0.1996526499585458 0.9213492677645123, -0.388735805901382L 0.9213492677645123, -0.388735805901382 L 0.920019315694931, -0.39187301354932674 L 0.9186786814242912, -0.39500567122071256 M 0.9186786814242912,-0.39500567122071256 Q 0.011875039576534425, -0.19964714732511393 -0.8653769124830469, -0.5011215414860042L -0.8653769124830469, -0.5011215414860042 L -0.8673110956529203, -0.4977664747221642 L -0.8692322712920916, -0.4944039426869407 ",
          "type": "path"
         },
         {
          "fillcolor": "#8f391e",
          "layer": "below",
          "line": {
           "color": "rgb(175,175,175)",
           "width": 0.5
          },
          "path": "M -0.8850019801482604,-0.46558725834547726 Q 0.022965379824830375, -0.19867710318378734 0.9678807302390507, -0.2514098089413416L 0.9678807302390507, -0.2514098089413416 L 0.9678243432227839, -0.25162678844945546 L 0.96776790756405, -0.2518437553109078 M 0.96776790756405,-0.2518437553109078 Q 0.02297390186049375, -0.19867611792388234 -0.8847531553081709, -0.4660599255162749L -0.8847531553081709, -0.4660599255162749 L -0.8848775992882666, -0.46582360854494465 L -0.8850019801482604, -0.46558725834547726 ",
          "type": "path"
         },
         {
          "fillcolor": "#8f391e",
          "layer": "below",
          "line": {
           "color": "rgb(175,175,175)",
           "width": 0.5
          },
          "path": "M -0.8852505524724559,-0.46511445832957254 Q 0.037088876535061044, -0.19653095236467716 0.9938772681892966, -0.11048970891708043L 0.9938772681892966, -0.11048970891708043 L 0.9938544297682697, -0.1106949521432103 L 0.9938315489629536, -0.11090019064860257 M 0.9938315489629536,-0.11090019064860257 Q 0.037100780455375834, -0.19652870551042156 -0.8850019801482604, -0.46558725834547726L -0.8850019801482604, -0.46558725834547726 L -0.8851262978792794, -0.46535087493473254 L -0.8852505524724559, -0.46511445832957254 ",
          "type": "path"
         },
         {
          "fillcolor": "#f0f3e7",
          "layer": "below",
          "line": {
           "color": "rgb(175,175,175)",
           "width": 0.5
          },
          "path": "M -0.5512501349594956,-0.8343400318258366 Q -0.060489599704492275, -0.1906331774051681 -0.030653134040982036, -0.9995300822753989L -0.030653134040982036, -0.9995300822753989 L -0.034184300469534946, -0.9994155460074696 L -0.037715040200935725, -0.9992885347799412 M -0.037715040200935725,-0.9992885347799412 Q -0.0601282918467707, -0.19074744695431595 -0.5421606361917563, -0.8402748625087806L -0.5421606361917563, -0.8402748625087806 L -0.5467134388061108, -0.8373197811044458 L -0.5512501349594956, -0.8343400318258366 ",
          "type": "path"
         },
         {
          "fillcolor": "#f0f3e7",
          "layer": "below",
          "line": {
           "color": "rgb(175,175,175)",
           "width": 0.5
          },
          "path": "M -0.30043273809337984,-0.9538030037076392 Q 0.023013596674907877, -0.19867152379766123 0.5105232388003472, -0.8598639558934911L 0.5105232388003472, -0.8598639558934911 L 0.4676899620839781, -0.8838925836128998 L 0.4237285869923238, -0.9057892053703713 M 0.4237285869923238,-0.9057892053703713 Q 0.022906459795189182, -0.19868390498389996 -0.20649304721988607, -0.9784480678348983L -0.20649304721988607, -0.9784480678348983 L -0.25376225635489413, -0.967266621593898 L -0.30043273809337984, -0.9538030037076392 ",
          "type": "path"
         },
         {
          "fillcolor": "#f0f3e7",
          "layer": "below",
          "line": {
           "color": "rgb(175,175,175)",
           "width": 0.5
          },
          "path": "M -0.4729848504532466,-0.88107055974066 Q 0.04025608264138282, -0.19590673242737258 0.7820854186965973, -0.623171242807439L 0.7820854186965973, -0.623171242807439 L 0.7732092003308119, -0.6341510328965699 L 0.7641788480902507, -0.6450044093891588 M 0.7641788480902507,-0.6450044093891588 Q 0.04030791030683711, -0.19589607542443513 -0.44744677629904306, -0.8943105626009312L -0.44744677629904306, -0.8943105626009312 L -0.4602634238133654, -0.8877823949029393 L -0.4729848504532466, -0.88107055974066 ",
          "type": "path"
         },
         {
          "fillcolor": "#f0f3e7",
          "layer": "below",
          "line": {
           "color": "rgb(175,175,175)",
           "width": 0.5
          },
          "path": "M -0.5421606361917563,-0.8402748625087806 Q 0.062233316761264104, -0.19007107692884828 0.9341418288542288, -0.356902008378878L 0.9341418288542288, -0.356902008378878 L 0.9317305654512512, -0.36315031791792723 L 0.9292775087489218, -0.3693823381449058 M 0.9292775087489218,-0.3693823381449058 Q 0.06243040927444881, -0.19000643146437127 -0.5290979762360781, -0.8485607412217976L -0.5290979762360781, -0.8485607412217976 L -0.53564532819928, -0.8444430604713888 L -0.5421606361917563, -0.8402748625087806 ",
          "type": "path"
         },
         {
          "fillcolor": "#f0f3e7",
          "layer": "below",
          "line": {
           "color": "rgb(175,175,175)",
           "width": 0.5
          },
          "path": "M -0.5959200357411917,-0.8030437790072324 Q 0.06716618503756025, -0.1883844568628214 0.9695497080113494, -0.24489459711293576L 0.9695497080113494, -0.24489459711293576 L 0.9691918152702546, -0.2463071765360252 L 0.9688318644815086, -0.24771923293374637 M 0.9688318644815086,-0.24771923293374637 Q 0.06722398008453105, -0.18836384074868132 -0.5930831585472117, -0.8051412093835857L -0.5930831585472117, -0.8051412093835857 L -0.5945025221229536, -0.804093745274422 L -0.5959200357411917, -0.8030437790072324 ",
          "type": "path"
         },
         {
          "fillcolor": "#f0f3e7",
          "layer": "below",
          "line": {
           "color": "rgb(175,175,175)",
           "width": 0.5
          },
          "path": "M -0.5898006678678582,-0.8075488667459254 Q 0.08315235182166347, -0.1818947123654954 0.9966050735286064, -0.08233059830367533L 0.9966050735286064, -0.08233059830367533 L 0.9963364360694322, -0.0855202090763476 L 0.9960575903633733, -0.08870894362751937 M 0.9960575903633733,-0.08870894362751937 Q 0.08333522488691592, -0.18181100157319183 -0.5829859428158775, -0.812482240100719L -0.5829859428158775, -0.812482240100719 L -0.5863984934265478, -0.8100227199943684 L -0.5898006678678582, -0.8075488667459254 ",
          "type": "path"
         },
         {
          "fillcolor": "#e2ecde",
          "layer": "below",
          "line": {
           "color": "rgb(175,175,175)",
           "width": 0.5
          },
          "path": "M -0.030653134040982036,-0.9995300822753989 Q 0.004112091069893488, -0.19995772229907227 0.07172011675086687, -0.9974247965903204L 0.07172011675086687, -0.9974247965903204 L 0.06473922139877995, -0.9979022162580258 L 0.05775515636071413, -0.9983307778055074 M 0.05775515636071413,-0.9983307778055074 Q 0.0036136624852173838, -0.19996735094370516 -0.021647030902518617, -0.9997656755725841L -0.021647030902518617, -0.9997656755725841 L -0.026150347786018834, -0.9996580211805787 L -0.030653134040982036, -0.9995300822753989 ",
          "type": "path"
         },
         {
          "fillcolor": "#e2ecde",
          "layer": "below",
          "line": {
           "color": "rgb(175,175,175)",
           "width": 0.5
          },
          "path": "M -0.0643538258977444,-0.9979271441805373 Q 0.06394316006589289, -0.18950269729158897 0.6558117463095183, -0.754924468673827L 0.6558117463095183, -0.754924468673827 L 0.6544028429803355, -0.7561460963988734 L 0.6529916640419036, -0.7573650947144223 M 0.6529916640419036,-0.7573650947144223 Q 0.06382409889982751, -0.18954282998738053 -0.0618856403046041, -0.9980832467906118L -0.0618856403046041, -0.9980832467906118 L -0.06311978135869681, -0.9980059584998631 L -0.0643538258977444, -0.9979271441805373 ",
          "type": "path"
         },
         {
          "fillcolor": "#e2ecde",
          "layer": "below",
          "line": {
           "color": "rgb(175,175,175)",
           "width": 0.5
          },
          "path": "M -0.06911277337926665,-0.9976088534870899 Q 0.10309292135735959, -0.17138217400303124 0.9136878017074226, -0.40641678239346557L 0.9136878017074226, -0.40641678239346557 L 0.9133532177779885, -0.407168146561828 L 0.9130180159701085, -0.4079192352831708 M 0.9130180159701085,-0.4079192352831708 Q 0.10305792066093221, -0.17140322339164163 -0.067879118786896, -0.9976935527669378L -0.067879118786896, -0.9976935527669378 L -0.0684959591750378, -0.9976513938128346 L -0.06911277337926665, -0.9976088534870899 ",
          "type": "path"
         },
         {
          "fillcolor": "#e2ecde",
          "layer": "below",
          "line": {
           "color": "rgb(175,175,175)",
           "width": 0.5
          },
          "path": "M -0.06981767153398273,-0.9975597690071372 Q 0.116958728557116, -0.16223641950654255 0.968497776206405, -0.2490222027917355L 0.968497776206405, -0.2490222027917355 L 0.9683860240076454, -0.24945642606808907 L 0.9682740771261018, -0.2498905991941191 M 0.9682740771261018,-0.2498905991941191 Q 0.11694330412463282, -0.16224753810278184 -0.06911277337926665, -0.9976088534870899L -0.06911277337926665, -0.9976088534870899 L -0.06946522679204249, -0.9975843735076899 L -0.06981767153398273, -0.9975597690071372 ",
          "type": "path"
         },
         {
          "fillcolor": "#e2ecde",
          "layer": "below",
          "line": {
           "color": "rgb(175,175,175)",
           "width": 0.5
          },
          "path": "M -0.07175596065758232,-0.9974222185765201 Q 0.12791187187083636, -0.15374834319269506 0.9938315489629536, -0.11090019064860257L 0.9938315489629536, -0.11090019064860257 L 0.9938086257743243, -0.11110542442450369 L 0.9937856602033593, -0.11131065346216029 M 0.9937856602033593,-0.11131065346216029 Q 0.12790728108462074, -0.15375216240931322 -0.07140356439158521, -0.9974475078880977L -0.07140356439158521, -0.9974475078880977 L -0.07157976364143144, -0.9974348787951205 L -0.07175596065758232, -0.9974222185765201 ",
          "type": "path"
         },
         {
          "fillcolor": "#d4e5d6",
          "layer": "below",
          "line": {
           "color": "rgb(175,175,175)",
           "width": 0.5
          },
          "path": "M 0.22247122651117363,-0.9749392562486209 Q 0.11471439777068103, -0.16383103168847463 0.8400476930680912, -0.5425125559569824L 0.8400476930680912, -0.5425125559569824 L 0.8306023895156405, -0.5568659358686866 L 0.8209118645002685, -0.5710549104269157 M 0.8209118645002685,-0.5710549104269157 Q 0.11479896435677331, -0.16377178567327247 0.25683524466603674, -0.9664552018057211L 0.25683524466603674, -0.9664552018057211 L 0.23969077604913175, -0.9708492838113262 L 0.22247122651117363, -0.9749392562486209 ",
          "type": "path"
         },
         {
          "fillcolor": "#d4e5d6",
          "layer": "below",
          "line": {
           "color": "rgb(175,175,175)",
           "width": 0.5
          },
          "path": "M 0.08676454670511063,-0.9962288459159656 Q 0.12161686854715262, -0.1587744856227996 0.9392425135675609, -0.34325427995480284L 0.9392425135675609, -0.34325427995480284 L 0.9367170270314108, -0.35008743374967816 L 0.9341418288542288, -0.356902008378878 M 0.9341418288542288,-0.356902008378878 Q 0.12181071797760717, -0.15862581437389014 0.10369985343118146, -0.9946086368006019L 0.10369985343118146, -0.9946086368006019 L 0.09523564563341697, -0.9954547562801567 L 0.08676454670511063, -0.9962288459159656 ",
          "type": "path"
         },
         {
          "fillcolor": "#d4e5d6",
          "layer": "below",
          "line": {
           "color": "rgb(175,175,175)",
           "width": 0.5
          },
          "path": "M 0.009767049370484464,-0.9999523012357112 Q 0.12318345298529527, -0.15756216839907844 0.9680495994047231, -0.2507587946460802L 0.9680495994047231, -0.2507587946460802 L 0.9679652195526272, -0.25108431599053394 L 0.9678807302390507, -0.2514098089413416 M 0.9678807302390507,-0.2514098089413416 Q 0.12319532039597039, -0.1575528896356211 0.01059020856351126, -0.9999439221689291L 0.01059020856351126, -0.9999439221689291 L 0.010178629829205796, -0.9999481964055938 L 0.009767049370484464, -0.9999523012357112 ",
          "type": "path"
         },
         {
          "fillcolor": "#d4e5d6",
          "layer": "below",
          "line": {
           "color": "rgb(175,175,175)",
           "width": 0.5
          },
          "path": "M 0.04597187820179724,-0.9989427343019214 Q 0.1406829513255755, -0.14215592568136495 0.9984097366372171, -0.05637373313878344L 0.9984097366372171, -0.05637373313878344 L 0.9981495991183151, -0.060806066966601666 L 0.9978697848221469, -0.06523720210893597 M 0.9978697848221469,-0.06523720210893597 Q 0.14089029907887676, -0.14195042664770213 0.05775515636071413, -0.9983307778055074L 0.05775515636071413, -0.9983307778055074 L 0.05186441986055111, -0.9986541353003694 L 0.04597187820179724, -0.9989427343019214 ",
          "type": "path"
         },
         {
          "fillcolor": "#c6decd",
          "layer": "below",
          "line": {
           "color": "rgb(175,175,175)",
           "width": 0.5
          },
          "path": "M 0.6971876772057682,-0.7168886543616279 Q 0.16631745671856396, -0.111078817020477 0.9292775087489218, -0.3693823381449058L 0.9292775087489218, -0.3693823381449058 L 0.9268710079070783, -0.3753799870815127 L 0.9244257981151202, -0.3813619590090536 M 0.9244257981151202,-0.3813619590090536 Q 0.1664133063370082, -0.11093516788640592 0.7076161771432553, -0.7065970179990609L 0.7076161771432553, -0.7065970179990609 L 0.7024207761329554, -0.7117619358021168 L 0.6971876772057682, -0.7168886543616279 ",
          "type": "path"
         },
         {
          "fillcolor": "#c6decd",
          "layer": "below",
          "line": {
           "color": "rgb(175,175,175)",
           "width": 0.5
          },
          "path": "M 0.7331086221725395,-0.6801115703296634 Q 0.18047565822206343, -0.0861889597878577 0.9897694920018816, -0.14267569064958913L 0.9897694920018816, -0.14267569064958913 L 0.9885011801462936, -0.15121315038509314 L 0.9871592280826774, -0.15973934521968078 M 0.9871592280826774,-0.15973934521968078 Q 0.18061548364186256, -0.08589555907505396 0.7469042183837985, -0.6649316420208073L 0.7469042183837985, -0.6649316420208073 L 0.7400453429410765, -0.6725569792896543 L 0.7331086221725395, -0.6801115703296634 ",
          "type": "path"
         },
         {
          "fillcolor": "#c6decd",
          "layer": "below",
          "line": {
           "color": "rgb(175,175,175)",
           "width": 0.5
          },
          "path": "M 0.7193747631749237,-0.6946221635587383 Q 0.1842390396048028, -0.0778201534661806 0.9995065603657314, -0.03141075907813368L 0.9995065603657314, -0.03141075907813368 L 0.9992333431786907, -0.039150043166475426 L 0.998900200803122, -0.04688697938108701 M 0.998900200803122,-0.04688697938108701 Q 0.1844133386023779, -0.07740620482574195 0.7331086221725395, -0.6801115703296634L 0.7331086221725395, -0.6801115703296634 L 0.7262779326859459, -0.6874011670730773 L 0.7193747631749237, -0.6946221635587383 ",
          "type": "path"
         },
         {
          "fillcolor": "#b8d7c5",
          "layer": "below",
          "line": {
           "color": "rgb(175,175,175)",
           "width": 0.5
          },
          "path": "M 0.9107999060893629,-0.412848072621888 Q 0.19288001382689238, -0.05288950998201636 0.9939908244960696, -0.10946342228170908L 0.9939908244960696, -0.10946342228170908 L 0.993934178804212, -0.10997658025596486 L 0.9938772681892966, -0.11048970891708043 M 0.9938772681892966,-0.11048970891708043 Q 0.19288378012601404, -0.05287577294280882 0.9112843695453047, -0.41177760723771356L 0.9112843695453047, -0.41177760723771356 L 0.9110422950405829, -0.412312911084758 L 0.9107999060893629, -0.412848072621888 ",
          "type": "path"
         },
         {
          "fillcolor": "#aad0bc",
          "layer": "below",
          "line": {
           "color": "rgb(175,175,175)",
           "width": 0.5
          },
          "path": "M 0.9703677555010721,-0.24163281872256417 Q 0.19714660024754893, -0.033663303623280016 0.9955669336822857, -0.09405573113027961L 0.9955669336822857, -0.09405573113027961 L 0.9953507072713382, -0.09631702619187711 L 0.9951293446424976, -0.09857782423746923 M 0.9951293446424976,-0.09857782423746923 Q 0.19715314208124665, -0.03362496940506823 0.9715477064206925, -0.23684394471611836L 0.9715477064206925, -0.23684394471611836 L 0.9709606833653295, -0.23923910917475935 L 0.9703677555010721, -0.24163281872256417 ",
          "type": "path"
         },
         {
          "fillcolor": "#f2e6ce",
          "layer": "below",
          "line": {
           "color": "rgb(150,150,150)",
           "width": 0.45
          },
          "path": "M 1.1, 0.0 L 1.0997363268123403, 0.024083427690046746 L 1.0989454336558153, 0.04815530964527748 L 1.0976276996891878, 0.07220410566596835 L 1.095783756641759, 0.09621828661992639 L 1.0934144885105128, 0.12018633996962215 L 1.0905210311363231, 0.14409677529136708 L 1.0871047716594247, 0.16793812978388917 L 1.0831673478544104, 0.19169897376366624 L 1.078710647345073, 0.2153679161443826 L 1.0737368066994661, 0.23893360989788184 L 1.068248210405623, 0.2623847574939977 L 1.0622474897284169, 0.2857101163166557 L 0.9656795361167426, 0.2597364693787779 L 0.9711347367323845, 0.23853159772181606 L 0.9761243697267874, 0.21721237263443802 L 0.9806460430409754, 0.19578901467671145 L 0.9846975889585549, 0.17427179433060566 L 0.9882770651449314, 0.15267102707626287 L 0.9913827555784755, 0.13099706844669734 L 0.9940131713731934, 0.10926030906329286 L 0.9961670514925082, 0.08747116965447853 L 0.9978433633538071, 0.06564009605997123 L 0.9990413033234683, 0.04377755422297952 L 0.9997602971021274, 0.021894025172769768 L 1.0, 0.0 L 1.1 ,0.0",
          "type": "path"
         },
         {
          "fillcolor": "#ecd5bb",
          "layer": "below",
          "line": {
           "color": "rgb(150,150,150)",
           "width": 0.45
          },
          "path": "M 1.0527489630857763, 0.31893513560255954 L 1.0459074897672316, 0.34070151577122243 L 1.0386160332812246, 0.3623213151488251 L 1.0308777306477281, 0.3837852321997163 L 1.0226959111343532, 0.40508403245385455 L 1.0140740948239906, 0.4262085524797743 L 1.0050159911003578, 0.4471497038269909 L 0.9955254970521026, 0.46789847693614495 L 0.9856066957961491, 0.48844594501520555 L 0.9752638547210095, 0.5087832678800648 L 0.9645014236508156, 0.5289016957578697 L 0.9533240329308604, 0.548792573051458 L 0.9417364914354753, 0.5684473420632742 L 0.9297437844990958, 0.5878575466771683 L 0.9173510717714103, 0.6070148359964895 L 0.9045636849975119, 0.6259109679369119 L 0.8913871257240106, 0.6445378127724449 L 0.8778270629320883, 0.6628873566331037 L 0.8638893305985221, 0.6809517049527357 L 0.8495799251857182, 0.6987230858655162 L 0.8349050030618403, 0.7161938535496576 L 0.8198708778521414, 0.7333564915168879 L 0.8044840177226378, 0.7502036158462866 L 0.7887510425972964, 0.766727978361086 L 0.7726787213099289, 0.7829224697470711 L 0.7562739686920205, 0.7987801226112359 L 0.7395438425977475, 0.8142941144793803 L 0.72249554086746, 0.8294577707313595 L 0.7051363982309375, 0.8442645674727212 L 0.6874738831517535, 0.858708134341494 L 0.6695155946140995, 0.8727822572489252 L 0.6512692588534573, 0.8864808810529805 L 0.6327427260325235, 0.8997981121634625 L 0.6139439668638159, 0.9127282210776229 L 0.594881069180415, 0.9252656448451799 L 0.5755622344563175, 0.9374049894616794 L 0.5559957742778984, 0.9491410321891687 L 0.5361901067679963, 0.960468723803188 L 0.5161537529641665, 0.9713831907651101 L 0.495895333152656, 0.9818797373188921 L 0.47542356315967627, 0.9919538475113434 L 0.454747250601575, 1.0016011871350334 L 0.43387529109551454, 1.0108176055930085 L 0.4128166644322908, 1.0195991376845106 L 0.39158043071293663, 1.0279420053109374 L 0.3701757264507738, 1.0358426191013006 L 0.3486117606405913, 1.0432975799564894 L 0.32689781079663677, 1.050303680511673 L 0.2971798279969425, 0.9548215277378844 L 0.31691978240053753, 0.9484523454149902 L 0.3365233876825216, 0.9416751082739095 L 0.3559822097390333, 0.934492732100852 L 0.375287876756628, 0.9269083069859186 L 0.3944320828141041, 0.9189250959936439 L 0.41340659145597725, 0.9105465337591213 L 0.4322032392360693, 0.9017762250103121 L 0.4508139392296872, 0.8926179430171746 L 0.46923068451287864, 0.8830756279682819 L 0.4874455516072693, 0.8731533852756255 L 0.5054507038889985, 0.8628554838083351 L 0.5232383949602886, 0.8521863540560721 L 0.5408009719821953, 0.8411505862228907 L 0.5581308789671053, 0.8297529282523843 L 0.5752206600295667, 0.8179982837849659 L 0.5920629625940521, 0.8058917100481641 L 0.6086505405582722, 0.7934384156808411 L 0.624976257410685, 0.7806437584922672 L 0.6410330893008522, 0.7675132431570192 L 0.6568141280613272, 0.7540525188466904 L 0.6723125841797705, 0.7402673767994365 L 0.6875217897200185, 0.7261637478283962 L 0.7024352011908443, 0.7117476997700646 L 0.7170464023611786, 0.6970254348737145 L 0.7313491070205798, 0.6820032871329877 L 0.7453371616837648, 0.6666877195608071 L 0.7590045482380366, 0.6510853214087796 L 0.7723453865324711, 0.6352028053322875 L 0.7853539369077474, 0.619047004502487 L 0.7980246026655348, 0.6026248696664579 L 0.8103519324763732, 0.5859434661567681 L 0.8223306227250108, 0.5690099708517381 L 0.8339555197921911, 0.5518316690877177 L 0.8452216222719052, 0.5344159515246983 L 0.8561240831231594, 0.5167703109666129 L 0.8666582117553276, 0.49890233913768905 L 0.8768194760461959, 0.4808197234162452 L 0.8866035042918268, 0.4625302435273316 L 0.8960060870874083, 0.4440417681956414 L 0.905023179138275, 0.42536225176013176 L 0.9136509010003252, 0.40649973075180984 L 0.9218855407490822, 0.3874623204361584 L 0.9297235555766846, 0.3682582113216859 L 0.9371615733161165, 0.3488956656361057 L 0.9441963938920224, 0.3293830137716591 L 0.9508249906974832, 0.3097286507011113 L 0.9570445118961601, 0.2899410323659632 L 1.0527489630857763 ,0.31893513560255954",
          "type": "path"
         },
         {
          "fillcolor": "#e6c4a9",
          "layer": "below",
          "line": {
           "color": "rgb(150,150,150)",
           "width": 0.45
          },
          "path": "M 0.29374567059301054, 1.0600535274257912 L 0.2712274990271666, 1.0660373557110785 L 0.24858763950632082, 1.0715428995073766 L 0.22583624954848489, 1.0765676887171909 L 0.20298353671051544, 1.0811094689366525 L 0.18003975400842853, 1.08516620246697 L 0.15701519531731795, 1.0887360692286558 L 0.13392019075294265, 1.0918174675781183 L 0.11076510203705385, 1.0944090150262475 L 0.08756031784854225, 1.0965095488586785 L 0.06431624916249067, 1.0981181266574505 L 0.041043324579223515, 1.0992340267238296 L 0.017751985645448252, 1.0998567484021018 L -0.005547317830411295, 1.099986012304197 L -0.028844132466588474, 1.0996217604350371 L -0.052128005997950505, 1.0987641562185573 L -0.07538849196547419, 1.0974135844243826 L -0.09861515440311665, 1.0955706509952015 L -0.12179757251997843, 1.0932361827749029 L -0.144925345375658, 1.090411227137609 L -0.16798809654670027, 1.0870970515177643 L -0.1909754787820456, 1.083295142841492 L -0.21387717864539021, 1.079007206859476 L -0.2366829211423753, 1.0742351673816644 L -0.25938247433052936, 1.0689811654141397 L -0.2358022493913903, 0.9718010594673997 L -0.21516629194761389, 0.976577424892422 L -0.19443379876853653, 0.9809156425995236 L -0.17361407162004144, 0.9848137662195381 L -0.15271645140609114, 0.9882700468343311 L -0.13175031397787088, 0.9912829337614627 L -0.1107250659272531, 0.9938510752499116 L -0.08965014036646968, 0.9959733190865467 L -0.06853499269588562, 0.9976487131130751 L -0.04738909636177318, 0.9988765056532337 L -0.02622193860598952, 0.9996561458500336 L -0.005043016209464813, 0.9999872839129061 L 0.01613816876858932, 0.9998697712746378 L 0.037312113253839554, 0.9993036606580268 L 0.05846931742044606, 0.9982892060522277 L 0.07960028895322022, 0.9968268625987985 L 0.10069554730641259, 0.9949172863874977 L 0.12174562795722059, 0.9925613341619257 L 0.14274108665210722, 0.9897600629351416 L 0.1636725036440259, 0.9865147295154271 L 0.1845304879186504, 0.9828267899424113 L 0.20530568140771352, 0.9786978988338099 L 0.22598876318756436, 0.9741299086430695 L 0.2465704536610605, 0.9691248688282531 L 0.26704151872091864, 0.9636850249325374 L 0.29374567059301054 ,1.0600535274257912",
          "type": "path"
         },
         {
          "fillcolor": "#e1b396",
          "layer": "below",
          "line": {
           "color": "rgb(150,150,150)",
           "width": 0.45
          },
          "path": "M -0.29283199458314046, 1.060306287328553 L -0.31593716212322354, 1.0536525563911114 L -0.3388913793515035, 1.0464954051505604 L -0.36168367906733623, 1.0388382531926308 L -0.38430317143197773, 1.0306847589963306 L -0.40673904917159437, 1.0220388181859765 L -0.4289805927408262, 1.0129045616699186 L -0.45101717544443304, 1.003286353666851 L -0.47283826851458116, 0.9931887896206506 L -0.49443344614133794, 0.982616694004738 L -0.5157923904539778, 0.9715751180170124 L -0.5369048964507149, 0.9600693371664607 L -0.5577608768745079, 0.9481048487525946 L -0.5783503670326098, 0.9356873692389173 L -0.598663529557557, 0.9228228315216785 L -0.6186906591073247, 0.909517382095221 L -0.6384221870024009, 0.8957773781152724 L -0.6578486857975684, 0.8816093843615846 L -0.6769608737862033, 0.8670201701013768 L -0.6154189761692757, 0.7882001546376152 L -0.5980442598159712, 0.8014630766923496 L -0.580383806365819, 0.8143430710138839 L -0.5624460537339315, 0.8268339837229282 L -0.5442395723250517, 0.8389298468378895 L -0.5257730609387361, 0.8506248811262883 L -0.507055342613189, 0.861913498865995 L -0.4880953604097408, 0.8727903065149643 L -0.46890217313997984, 0.883250107288193 L -0.4494849510375799, 0.8932879036406708 L -0.42985297137689193, 0.9028988996551368 L -0.41001561404039366, 0.9120785033335008 L -0.3899823570371147, 0.9208223287908349 L -0.3697627719741767, 0.9291261983508876 L -0.3493665194836161, 0.9369861445421187 L -0.32880334460666927, 0.9443984119933005 L -0.3080830721377304, 0.9513594592277821 L -0.2872156019302032, 0.9578659603555557 L -0.2662109041664913, 0.9639148066623208 L -0.29283199458314046 ,1.060306287328553",
          "type": "path"
         },
         {
          "fillcolor": "#dba284",
          "layer": "below",
          "line": {
           "color": "rgb(150,150,150)",
           "width": 0.45
          },
          "path": "M -0.7038605961391602, 0.8453284930739212 L -0.7211120131010683, 0.8306608601356662 L -0.7380578508954042, 0.815641225497864 L -0.7546909285365325, 0.800275953896321 L -0.7710041975743831, 0.7845715565343175 L -0.7009129068858028, 0.7132468695766523 L -0.6860826623059386, 0.7275235944512009 L -0.6709616826321856, 0.7414920231798763 L -0.6555563755464257, 0.7551462364869692 L -0.6398732692174183, 0.7684804482490192 L -0.7038605961391602 ,0.8453284930739212",
          "type": "path"
         },
         {
          "fillcolor": "#d59171",
          "layer": "below",
          "line": {
           "color": "rgb(150,150,150)",
           "width": 0.45
          },
          "path": "M -0.7952677416869639, 0.7599665907341695 L -0.8220198268292043, 0.7309469230386603 L -0.8477136020884485, 0.700986197320766 L -0.8723159879994565, 0.6701229865334664 L -0.895795310206811, 0.6383970255346458 L -0.8143593729152827, 0.5803609323042235 L -0.7930145345449604, 0.6092027150304239 L -0.7706487291713168, 0.6372601793825144 L -0.7472907516629129, 0.6644972027624184 L -0.7229706742608762, 0.6908787188492449 L -0.7952677416869639 ,0.7599665907341695",
          "type": "path"
         },
         {
          "fillcolor": "#d0805f",
          "layer": "below",
          "line": {
           "color": "rgb(150,150,150)",
           "width": 0.45
          },
          "path": "M -0.9154058244618256, 0.6099444044676249 L -0.9286534666258246, 0.5895784417054601 L -0.9414480851797282, 0.5689248657875865 L -0.9537834385442007, 0.5479937521165741 L -0.9656535091825463, 0.5267953114858125 L -0.9770525065362354, 0.5053398850983958 L -0.9879748698497023, 0.483637939522391 L -0.998415270883042, 0.461700061584945 L -1.0083686165112764, 0.4395369532077301 L -1.0178300512089256, 0.4171594261862436 L -1.026794959418672, 0.39457839691550245 L -1.0352589678029607, 0.37180488106471743 L -1.043217947377437, 0.3488499882035362 L -0.9483799521613062, 0.3171363529123056 L -0.9411445161845096, 0.33800443733156127 L -0.9334499631078836, 0.35870763355954766 L -0.9253000465535687, 0.3792358419874941 L -0.9166987422829785, 0.3995790483706637 L -0.9076502462573108, 0.4197273287135863 L -0.8981589725906384, 0.4396708541112645 L -0.8882295513965776, 0.45939989554399613 L -0.8778668265295875, 0.47890482862346584 L -0.8670758532220005, 0.4981761382877946 L -0.8558618956179347, 0.5172044234432605 L -0.844230424205295, 0.5359804015504183 L -0.8321871131471141, 0.5544949131523862 L -0.9154058244618256 ,0.6099444044676249",
          "type": "path"
         },
         {
          "fillcolor": "#ca6f4c",
          "layer": "below",
          "line": {
           "color": "rgb(150,150,150)",
           "width": 0.45
          },
          "path": "M -1.05366082522889, 0.31590958418189047 L -1.0576052482821885, 0.30244195940042856 L -1.0613775391846263, 0.28892511021783385 L -1.0649770839712593, 0.27536123658945433 L -1.068403296792701, 0.2617525461241734 L -0.9712757243570009, 0.23795686011288492 L -0.9681609854284174, 0.2503283968995039 L -0.9648886719860238, 0.26265919110712166 L -0.9614593166201714, 0.2749472358185714 L -0.9578734774808089, 0.28719053107444587 L -1.05366082522889 ,0.31590958418189047",
          "type": "path"
         },
         {
          "fillcolor": "#c45e3a",
          "layer": "below",
          "line": {
           "color": "rgb(150,150,150)",
           "width": 0.45
          },
          "path": "M -1.0760979504250736, 0.22806402848971172 L -1.0821712543453237, 0.19724445814437705 L -1.0873620691287513, 0.16626403886601818 L -1.09166616176913, 0.13514803457045083 L -1.0950800223645072, 0.1039218197403743 L -0.9955272930586427, 0.09447438158215844 L -0.9924237834264817, 0.12286184960950074 L -0.9885109719352284, 0.15114912624183469 L -0.9837920494048397, 0.17931314376761548 L -0.9782708640227941, 0.207330934990647 L -1.0760979504250736 ,0.22806402848971172",
          "type": "path"
         },
         {
          "fillcolor": "#bf4d28",
          "layer": "below",
          "line": {
           "color": "rgb(150,150,150)",
           "width": 0.45
          },
          "path": "M -1.0978039297216025, 0.06947324584188641 L -1.0995721748807266, 0.030676248598368833 L -1.0999697409062783, -0.008158988330373682 L -1.0989961322096387, -0.046984054617015165 L -1.096652562449315, -0.0857505526125109 L -0.9969568749539228, -0.07795504782955535 L -0.9990873929178532, -0.042712776924559236 L -0.9999724917329802, -0.0074172621185215285 L -0.9996110680733877, 0.027887498725789845 L -0.9980035724741839, 0.06315749621989673 L -1.0978039297216025 ,0.06947324584188641",
          "type": "path"
         },
         {
          "fillcolor": "#af4624",
          "layer": "below",
          "line": {
           "color": "rgb(150,150,150)",
           "width": 0.45
          },
          "path": "M -1.0934179406610527, -0.12015492932269875 L -1.0881735474644971, -0.16086743175214807 L -1.0814137947995266, -0.20135591478098555 L -1.0731480961050444, -0.2415639953016977 L -1.0633879619574735, -0.2814356806873122 L -0.9667163290522487, -0.2558506188066474 L -0.975589178277313, -0.21960363209245243 L -0.9831034498177514, -0.18305083161907776 L -0.9892486795131791, -0.14624311977468005 L -0.994016309691866, -0.10923175392972613 L -1.0934179406610527 ,-0.12015492932269875",
          "type": "path"
         },
         {
          "fillcolor": "#9f4021",
          "layer": "below",
          "line": {
           "color": "rgb(150,150,150)",
           "width": 0.45
          },
          "path": "M -1.0540231358283818, -0.3146986322475916 L -1.0403987498614196, -0.35717004533806496 L -1.0250637722360767, -0.39905421041400474 L -1.008043416251399, -0.44028226281808014 L -0.9893656662537474, -0.48078641665325633 L -0.8994233329579522, -0.43707856059386935 L -0.9164031056830899, -0.400256602561891 L -0.9318761565782515, -0.3627765549218225 L -0.9458170453285633, -0.32470004121642265 L -0.9582028507530742, -0.2860896656796287 L -1.0540231358283818 ,-0.3146986322475916",
          "type": "path"
         },
         {
          "fillcolor": "#8f391e",
          "layer": "below",
          "line": {
           "color": "rgb(150,150,150)",
           "width": 0.45
          },
          "path": "M -0.9737756077197015, -0.5116259041625298 L -0.9623530464785766, -0.5328007262883591 L -0.950470108267439, -0.5537206635931903 L -0.9381324777267741, -0.5743757082556887 L -0.9253460570158627, -0.5947559791756584 L -0.912116962989269, -0.6148517267010254 L -0.8984515242706165, -0.6346533372919473 L -0.8843562782250577, -0.6541513381197999 L -0.8698379678318874, -0.6733364015988536 L -0.8549035384587881, -0.6921993498484693 L -0.8395601345392597, -0.7107311590836725 L -0.8238150961548153, -0.7289229639320144 L -0.8076759555235856, -0.7467660616746472 L -0.791150433397003, -0.7642519164095923 L -0.7742464353662979, -0.7813721631351999 L -0.7569720480805673, -0.798118611751857 L -0.7393355353782289, -0.8144832509800234 L -0.721345334333712, -0.8304582521927188 L -0.7030100512212695, -0.8460359731606384 L -0.6843384573978529, -0.8612089617080904 L -0.6221258703616844, -0.7829172379164457 L -0.6391000465647904, -0.7691236119642166 L -0.6557684857579199, -0.7549620474479262 L -0.672123213980208, -0.7404393190727485 L -0.6881564073459702, -0.72556237431987 L -0.7038603957875434, -0.7103383301229089 L -0.7192276667245481, -0.6947744694632657 L -0.7342508686578051, -0.6788782378860428 L -0.7489228146861957, -0.6626572399381948 L -0.7632364859447814, -0.6461192355306112 L -0.7771850349625345, -0.6292721362258812 L -0.7907617889380794, -0.6121240014535032 L -0.8039602529318706, -0.5946830346543635 L -0.8167741129732876, -0.5769575793563156 L -0.8291972390811536, -0.5589561151827503 L -0.8412236881962387, -0.540687253796053 L -0.85284770702434, -0.5221597347778988 L -0.8640637347885809, -0.5033824214483548 L -0.874866405889615, -0.4843642966257809 L -0.8852505524724559, -0.46511445832957254 L -0.9737756077197015 ,-0.5116259041625298",
          "type": "path"
         },
         {
          "fillcolor": "#f0f3e7",
          "layer": "below",
          "line": {
           "color": "rgb(150,150,150)",
           "width": 0.45
          },
          "path": "M -0.6569495504675811, -0.8822795974862183 L -0.6378550625860528, -0.8961812981385757 L -0.61846649887707, -0.9096698245884269 L -0.5987927982175828, -0.9227389581039468 L -0.5788430309436898, -0.9353826733096582 L -0.5586263946688673, -0.9475951409643588 L -0.5381522100435082, -0.959370730648631 L -0.5174299164577489, -0.970704013360678 L -0.4964690676895389, -0.9815897640193078 L -0.4752793274999869, -0.9920229638728936 L -0.4538704651779873, -1.0019988028132158 L -0.43225235103620346, -1.0115126815931053 L -0.4104349518604748, -1.0205602139468744 L -0.3884283263147372, -1.029137228612556 L -0.3662426203035975, -1.0372397712550145 L -0.34388806229467217, -1.0448641062890502 L -0.3213749586028762, -1.0520067186016446 L -0.2987136886388058, -1.0586643151725663 L -0.27591470012343694, -1.0648338265925787 L -0.2529885042713159, -1.0705124084785578 L -0.22994567094448562, -1.0756974427848616 L -0.20679682377937408, -1.0803865390103502 L -0.18355263528888088, -1.0845775353005 L -0.1602238219419438, -1.0882684994441014 L -0.13682113922282518, -1.0914577297640842 L -0.11335537667242578, -1.0941437559020535 L -0.10305034242947797, -0.9946761417291395 L -0.12438285383893198, -0.9922342997855309 L -0.1456580199472216, -0.9893349994946377 L -0.16686603208080078, -0.985979577545909 L -0.1879971125267037, -0.9821695809185 L -0.20904151904044146, -0.9779067661680559 L -0.2299895493375599, -0.9731930986168706 L -0.25083154556676085, -0.9680307514477988 L -0.2715578987625507, -0.9624221047023329 L -0.292159053275342, -0.9563697441833132 L -0.3126255111769747, -0.949876460262773 L -0.33294783663963406, -0.9429452465954677 L -0.3531166602861247, -0.9355792987386872 L -0.3731226835095225, -0.9277820126789766 L -0.3929566827601849, -0.9195569832664593 L -0.41260951379817024, -0.9109080025574688 L -0.43207211590907896, -0.9018390580662669 L -0.451335516081399, -0.8923543309266433 L -0.47039083314340807, -0.8824581939642526 L -0.4892292818577347, -0.8721552096805736 L -0.5078421769716975, -0.861450128149417 L -0.5262209372215362, -0.8503478848269619 L -0.5443570892887116, -0.8388535982763152 L -0.5622422717064272, -0.8269725678076608 L -0.5798682387145935, -0.8147102710350688 L -0.5972268640614373, -0.8020723613511075 L -0.6569495504675811 ,-0.8822795974862183",
          "type": "path"
         },
         {
          "fillcolor": "#e2ecde",
          "layer": "below",
          "line": {
           "color": "rgb(150,150,150)",
           "width": 0.45
          },
          "path": "M -0.07893155672334055, -1.0971644404341723 L -0.06516480971811617, -1.0980680978766306 L -0.05138781191565056, -1.0987990229275424 L -0.03760273051648942, -1.0993571006082166 L -0.023811733992771457, -1.0997422431298425 L -0.021647030902519505, -0.999765675572584 L -0.034184300469535835, -0.9994155460074695 L -0.04671619265059142, -0.9989082026614021 L -0.05924073610737833, -0.9982437253423915 L -0.07175596065758232, -0.9974222185765201 L -0.07893155672334055 ,-1.0971644404341723",
          "type": "path"
         },
         {
          "fillcolor": "#d4e5d6",
          "layer": "below",
          "line": {
           "color": "rgb(150,150,150)",
           "width": 0.45
          },
          "path": "M 0.010743754307532912, -1.0999475313592824 L 0.03376340589629426, -1.099481710817548 L 0.05676826516914789, -1.0985341888487976 L 0.07974825331038264, -1.0971053805783395 L 0.10269330240075134, -1.095195911991105 L 0.12559335982838954, -1.0928066196573925 L 0.14843839269303688, -1.0899385503663535 L 0.17121839220162235, -1.086592960667375 L 0.1939233780532789, -1.0827713163195658 L 0.21654340281188494, -1.0784752916495814 L 0.23906855626420262, -1.0737067688180744 L 0.2614889697617078, -1.0684678369950875 L 0.28379482054421484, -1.0627607914447526 L 0.30597633604338703, -1.0565881325196986 L 0.3280237981642664, -1.049952564565604 L 0.34992754754293703, -1.042856994736376 L 0.37167798777844935, -1.0353045317204803 L 0.39326558963716846, -1.0272984843789708 L 0.41468089522769064, -1.0188423602958219 L 0.4359145221445041, -1.0099398642411976 L 0.4569571675785814, -1.0005948965483287 L 0.47779961239309215, -0.9908115514047114 L 0.49843272516246384, -0.9805941150583762 L 0.5188474661730158, -0.9699470639400077 L 0.5390348913834047, -0.958875062701748 L 0.5589861563431625, -0.9473829621735329 L 0.5786925200675986, -0.9354757972378612 L 0.5981453488673715, -0.9231587846239295 L 0.6173361201310553, -0.9104373206220928 L 0.6362564260590362, -0.8973169787196621 L 0.6548979773471113, -0.8838035071590644 L 0.6732526068181764, -0.8699028264194398 L 0.6913122730003974, -0.8556210266227824 L 0.628465702727634, -0.7778372969298021 L 0.6120478243801604, -0.7908207512903997 L 0.595361797588283, -0.8034577337809676 L 0.5784149327809419, -0.8157427079269655 L 0.5612146546645957, -0.8276702914746298 L 0.5437684989703376, -0.8392352587490268 L 0.5260841091523624, -0.8504325429435101 L 0.5081692330392386, -0.8612572383395753 L 0.4900317194394587, -0.8717046024561346 L 0.4716795147027416, -0.8817700581272797 L 0.45312065923860345, -0.8914491955076147 L 0.4343632839937201, -0.900737774004283 L 0.4154156068896194, -0.9096317241348442 L 0.3962859292222764, -0.9181271493101797 L 0.3769826320251733, -0.9262203275416562 L 0.35751417239742583, -0.9339077130717915 L 0.3378890797985903, -0.9411859379277093 L 0.31811595231176093, -0.9480518133967054 L 0.2982034528766058, -0.9545023314232762 L 0.2781603054939882, -0.9605346659269988 L 0.25799529140383165, -0.9661461740406841 L 0.2377172452379162, -0.9713343972682613 L 0.2173350511492751, -0.9760970625618858 L 0.19685763891989538, -0.9804320833178013 L 0.17629398004843533, -0.9843375602905143 L 0.15565308381965667, -0.9878117824248863 L 0.13494399335730625, -0.9908532276057758 L 0.1141757816621723, -0.9934605633249022 L 0.09335754763704666, -0.9956326472646407 L 0.07249841210034785, -0.9973685277984904 L 0.05160751379013444, -0.9986674444079977 L 0.030694005360267503, -0.9995288280159527 L 0.009767049370484464, -0.9999523012357112 L 0.010743754307532912 ,-1.0999475313592824",
          "type": "path"
         },
         {
          "fillcolor": "#c6decd",
          "layer": "below",
          "line": {
           "color": "rgb(150,150,150)",
           "width": 0.45
          },
          "path": "M 0.7178468580546717, -0.8334841860413646 L 0.7352734208545166, -0.8181521842450199 L 0.7523726014196696, -0.8024558982479968 L 0.7691367862994248, -0.7864023168588664 L 0.7855585112007014, -0.7699985879728207 L 0.8016304643115333, -0.7532520153890567 L 0.8173454895566761, -0.7361700555587395 L 0.832696589783864, -0.7187603142650014 L 0.8476769298793078, -0.7010305432364494 L 0.8622798398110472, -0.6829886366956883 L 0.8764988175987978, -0.6646426278444001 L 0.8903275322089712, -0.6460006852865433 L 0.9037598263735863, -0.6270711093912599 L 0.9167897193318051, -0.6078623285971175 L 0.9294114094928815, -0.5883828956593281 L 0.9416192770193325, -0.5686414838416117 L 0.9534078863291852, -0.5486468830544066 L 0.9647719885161826, -0.5284079959411392 L 0.9757065236868694, -0.5079338339143049 L 0.9862066232135248, -0.4872335131431096 L 0.8965514756486589, -0.44293955740282687 L 0.8870059306244267, -0.4617580308311863 L 0.8770654441056205, -0.4803709054010356 L 0.866734442117441, -0.4987698936858241 L 0.8560175245630295, -0.5169468034923742 L 0.8449194631753467, -0.53489354150848 L 0.83344519939255, -0.5526021169064704 L 0.8215998421578057, -0.5700646449011453 L 0.8093886656445192, -0.5872733502604939 L 0.7968171069079979, -0.6042205707676364 L 0.7838907634645883, -0.6208987606324439 L 0.7706153907993706, -0.6373004938513176 L 0.7569968998035126, -0.6534184675136376 L 0.7430413541424328, -0.6692455050533995 L 0.7287549675559393, -0.684774559444597 L 0.7141441010915467, -0.6999987163389279 L 0.6992152602722044, -0.714911197144424 L 0.6839750921996995, -0.7295053620436334 L 0.6684303825950151, -0.7437747129500181 L 0.6525880527769743, -0.7577128964012405 L 0.7178468580546717 ,-0.8334841860413646",
          "type": "path"
         },
         {
          "fillcolor": "#b8d7c5",
          "layer": "below",
          "line": {
           "color": "rgb(150,150,150)",
           "width": 0.45
          },
          "path": "M 1.0010243642741814, -0.45601559417356663 L 1.0164983035762867, -0.42039409941926126 L 1.0307051200411168, -0.3842485595562167 L 1.0436271040654934, -0.34762403205168674 L 1.055248147662809, -0.31056617145821036 L 0.9593164978752808, -0.2823328831438276 L 0.948751912786812, -0.31602184731971517 L 0.9370046545828333, -0.3493168723238333 L 0.9240893668875332, -0.3821764540175102 L 0.9100221493401649, -0.4145596310668787 L 1.0010243642741814 ,-0.45601559417356663",
          "type": "path"
         },
         {
          "fillcolor": "#aad0bc",
          "layer": "below",
          "line": {
           "color": "rgb(150,150,150)",
           "width": 0.45
          },
          "path": "M 1.0644825655922543, -0.2772667804662724 L 1.0718058075335521, -0.2474516335313837 L 1.0782941279338587, -0.21744372527934527 L 1.083942472483495, -0.18726643144559596 L 1.08874644120207, -0.1569432597145461 L 0.9897694920018818, -0.14267569064958735 L 0.985402247712268, -0.17024221040508722 L 0.9802673890307806, -0.19767611389031386 L 0.9743689159395929, -0.22495603048307605 L 0.9677114232656857, -0.2520607095147931 L 1.0644825655922543 ,-0.2772667804662724",
          "type": "path"
         },
         {
          "fillcolor": "#9cc9b4",
          "layer": "below",
          "line": {
           "color": "rgb(150,150,150)",
           "width": 0.45
          },
          "path": "M 1.093138917476142, -0.12266746552810405 L 1.0953818535463808, -0.10069059003350353 L 1.0971830032684329, -0.07867310429150415 L 1.0985416402076256, -0.056623888332929646 L 1.0994572164023046, -0.03455183498594608 L 0.9995065603657314, -0.031410759078132795 L 0.9986742183705686, -0.05147626212084513 L 0.9974390938803935, -0.0715210039013674 L 0.9958016850421644, -0.09153690003045775 L 0.9937626522510381, -0.11151587775282186 L 1.093138917476142 ,-0.12266746552810405",
          "type": "path"
         }
        ],
        "showlegend": false,
        "title": "Data Jobs ‒ Technologies in Demand",
        "titlefont": {
         "color": "#655643",
         "family": "Merryweather",
         "size": 18
        },
        "width": 1000,
        "xaxis": {
         "showgrid": false,
         "showline": false,
         "showticklabels": false,
         "title": "",
         "zeroline": false
        },
        "yaxis": {
         "showgrid": false,
         "showline": false,
         "showticklabels": false,
         "title": "",
         "zeroline": false
        }
       }
      },
      "text/html": [
       "<div id=\"7c529185-7b10-41e7-a8e9-85d84968b5f1\" style=\"height: 525px; width: 1000px;\" class=\"plotly-graph-div\"></div><script type=\"text/javascript\">require([\"plotly\"], function(Plotly) { window.PLOTLYENV=window.PLOTLYENV || {};window.PLOTLYENV.BASE_URL=\"https://plot.ly\";Plotly.newPlot(\"7c529185-7b10-41e7-a8e9-85d84968b5f1\", [{\"hoverinfo\": \"text\", \"line\": {\"color\": \"#f2e6ce\", \"shape\": \"spline\", \"width\": 0.25}, \"mode\": \"lines\", \"text\": \"Power BI<br>1024\", \"x\": [1.1, 1.0997363268123403, 1.0989454336558153, 1.0976276996891878, 1.095783756641759, 1.0934144885105128, 1.0905210311363231, 1.0871047716594247, 1.0831673478544104, 1.078710647345073, 1.0737368066994661, 1.068248210405623, 1.0622474897284169], \"y\": [0.0, 0.024083427690046746, 0.04815530964527748, 0.07220410566596835, 0.09621828661992639, 0.12018633996962215, 0.14409677529136708, 0.16793812978388917, 0.19169897376366624, 0.2153679161443826, 0.23893360989788184, 0.2623847574939977, 0.2857101163166557], \"type\": \"scatter\", \"uid\": \"9ecee28b-91f1-4daf-ae90-5289d05c2cec\"}, {\"hoverinfo\": \"text\", \"line\": {\"color\": \"#ecd5bb\", \"shape\": \"spline\", \"width\": 0.25}, \"mode\": \"lines\", \"text\": \"Excel<br>3503\", \"x\": [1.0527489630857763, 1.0459074897672316, 1.0386160332812246, 1.0308777306477281, 1.0226959111343532, 1.0140740948239906, 1.0050159911003578, 0.9955254970521026, 0.9856066957961491, 0.9752638547210095, 0.9645014236508156, 0.9533240329308604, 0.9417364914354753, 0.9297437844990958, 0.9173510717714103, 0.9045636849975119, 0.8913871257240106, 0.8778270629320883, 0.8638893305985221, 0.8495799251857182, 0.8349050030618403, 0.8198708778521414, 0.8044840177226378, 0.7887510425972964, 0.7726787213099289, 0.7562739686920205, 0.7395438425977475, 0.72249554086746, 0.7051363982309375, 0.6874738831517535, 0.6695155946140995, 0.6512692588534573, 0.6327427260325235, 0.6139439668638159, 0.594881069180415, 0.5755622344563175, 0.5559957742778984, 0.5361901067679963, 0.5161537529641665, 0.495895333152656, 0.47542356315967627, 0.454747250601575, 0.43387529109551454, 0.4128166644322908, 0.39158043071293663, 0.3701757264507738, 0.3486117606405913, 0.32689781079663677], \"y\": [0.31893513560255954, 0.34070151577122243, 0.3623213151488251, 0.3837852321997163, 0.40508403245385455, 0.4262085524797743, 0.4471497038269909, 0.46789847693614495, 0.48844594501520555, 0.5087832678800648, 0.5289016957578697, 0.548792573051458, 0.5684473420632742, 0.5878575466771683, 0.6070148359964895, 0.6259109679369119, 0.6445378127724449, 0.6628873566331037, 0.6809517049527357, 0.6987230858655162, 0.7161938535496576, 0.7333564915168879, 0.7502036158462866, 0.766727978361086, 0.7829224697470711, 0.7987801226112359, 0.8142941144793803, 0.8294577707313595, 0.8442645674727212, 0.858708134341494, 0.8727822572489252, 0.8864808810529805, 0.8997981121634625, 0.9127282210776229, 0.9252656448451799, 0.9374049894616794, 0.9491410321891687, 0.960468723803188, 0.9713831907651101, 0.9818797373188921, 0.9919538475113434, 1.0016011871350334, 1.0108176055930085, 1.0195991376845106, 1.0279420053109374, 1.0358426191013006, 1.0432975799564894, 1.050303680511673], \"type\": \"scatter\", \"uid\": \"7107e261-6bfc-4890-898a-c056df5ac2cc\"}, {\"hoverinfo\": \"text\", \"line\": {\"color\": \"#e6c4a9\", \"shape\": \"spline\", \"width\": 0.25}, \"mode\": \"lines\", \"text\": \"SSIS/SSRS<br>1879\", \"x\": [0.29374567059301054, 0.2712274990271666, 0.24858763950632082, 0.22583624954848489, 0.20298353671051544, 0.18003975400842853, 0.15701519531731795, 0.13392019075294265, 0.11076510203705385, 0.08756031784854225, 0.06431624916249067, 0.041043324579223515, 0.017751985645448252, -0.005547317830411295, -0.028844132466588474, -0.052128005997950505, -0.07538849196547419, -0.09861515440311665, -0.12179757251997843, -0.144925345375658, -0.16798809654670027, -0.1909754787820456, -0.21387717864539021, -0.2366829211423753, -0.25938247433052936], \"y\": [1.0600535274257912, 1.0660373557110785, 1.0715428995073766, 1.0765676887171909, 1.0811094689366525, 1.08516620246697, 1.0887360692286558, 1.0918174675781183, 1.0944090150262475, 1.0965095488586785, 1.0981181266574505, 1.0992340267238296, 1.0998567484021018, 1.099986012304197, 1.0996217604350371, 1.0987641562185573, 1.0974135844243826, 1.0955706509952015, 1.0932361827749029, 1.090411227137609, 1.0870970515177643, 1.083295142841492, 1.079007206859476, 1.0742351673816644, 1.0689811654141397], \"type\": \"scatter\", \"uid\": \"fa44509f-41bc-4c43-8e25-8cdbf55d4dca\"}, {\"hoverinfo\": \"text\", \"line\": {\"color\": \"#e1b396\", \"shape\": \"spline\", \"width\": 0.25}, \"mode\": \"lines\", \"text\": \"MS SQL Server<br>1479\", \"x\": [-0.29283199458314046, -0.31593716212322354, -0.3388913793515035, -0.36168367906733623, -0.38430317143197773, -0.40673904917159437, -0.4289805927408262, -0.45101717544443304, -0.47283826851458116, -0.49443344614133794, -0.5157923904539778, -0.5369048964507149, -0.5577608768745079, -0.5783503670326098, -0.598663529557557, -0.6186906591073247, -0.6384221870024009, -0.6578486857975684, -0.6769608737862033], \"y\": [1.060306287328553, 1.0536525563911114, 1.0464954051505604, 1.0388382531926308, 1.0306847589963306, 1.0220388181859765, 1.0129045616699186, 1.003286353666851, 0.9931887896206506, 0.982616694004738, 0.9715751180170124, 0.9600693371664607, 0.9481048487525946, 0.9356873692389173, 0.9228228315216785, 0.909517382095221, 0.8957773781152724, 0.8816093843615846, 0.8670201701013768], \"type\": \"scatter\", \"uid\": \"0058ffe3-c801-4ff8-9be1-721c212c72b1\"}, {\"hoverinfo\": \"text\", \"line\": {\"color\": \"#dba284\", \"shape\": \"spline\", \"width\": 0.25}, \"mode\": \"lines\", \"text\": \"PostgreSQL<br>396\", \"x\": [-0.7038605961391602, -0.7211120131010683, -0.7380578508954042, -0.7546909285365325, -0.7710041975743831], \"y\": [0.8453284930739212, 0.8306608601356662, 0.815641225497864, 0.800275953896321, 0.7845715565343175], \"type\": \"scatter\", \"uid\": \"0ca8e138-3424-4f0d-a935-6ab7893bd82c\"}, {\"hoverinfo\": \"text\", \"line\": {\"color\": \"#d59171\", \"shape\": \"spline\", \"width\": 0.25}, \"mode\": \"lines\", \"text\": \"MySQL/MariaDB<br>609\", \"x\": [-0.7952677416869639, -0.8220198268292043, -0.8477136020884485, -0.8723159879994565, -0.895795310206811], \"y\": [0.7599665907341695, 0.7309469230386603, 0.700986197320766, 0.6701229865334664, 0.6383970255346458], \"type\": \"scatter\", \"uid\": \"41b36f07-f1ca-4818-b6dc-533ab3eacf55\"}, {\"hoverinfo\": \"text\", \"line\": {\"color\": \"#d0805f\", \"shape\": \"spline\", \"width\": 0.25}, \"mode\": \"lines\", \"text\": \"T-SQL<br>1032\", \"x\": [-0.9154058244618256, -0.9286534666258246, -0.9414480851797282, -0.9537834385442007, -0.9656535091825463, -0.9770525065362354, -0.9879748698497023, -0.998415270883042, -1.0083686165112764, -1.0178300512089256, -1.026794959418672, -1.0352589678029607, -1.043217947377437], \"y\": [0.6099444044676249, 0.5895784417054601, 0.5689248657875865, 0.5479937521165741, 0.5267953114858125, 0.5053398850983958, 0.483637939522391, 0.461700061584945, 0.4395369532077301, 0.4171594261862436, 0.39457839691550245, 0.37180488106471743, 0.3488499882035362], \"type\": \"scatter\", \"uid\": \"356d2aee-b5a8-467a-829e-cf99ae554d7c\"}, {\"hoverinfo\": \"text\", \"line\": {\"color\": \"#ca6f4c\", \"shape\": \"spline\", \"width\": 0.25}, \"mode\": \"lines\", \"text\": \"PL/SQL<br>287\", \"x\": [-1.05366082522889, -1.0576052482821885, -1.0613775391846263, -1.0649770839712593, -1.068403296792701], \"y\": [0.31590958418189047, 0.30244195940042856, 0.28892511021783385, 0.27536123658945433, 0.2617525461241734], \"type\": \"scatter\", \"uid\": \"30994b39-785a-4375-978f-d32492565a7c\"}, {\"hoverinfo\": \"text\", \"line\": {\"color\": \"#c45e3a\", \"shape\": \"spline\", \"width\": 0.25}, \"mode\": \"lines\", \"text\": \"Pentaho<br>507\", \"x\": [-1.0760979504250736, -1.0821712543453237, -1.0873620691287513, -1.09166616176913, -1.0950800223645072], \"y\": [0.22806402848971172, 0.19724445814437705, 0.16626403886601818, 0.13514803457045083, 0.1039218197403743], \"type\": \"scatter\", \"uid\": \"a6fc5ba0-2d89-4d1a-9b6c-b12e753a121a\"}, {\"hoverinfo\": \"text\", \"line\": {\"color\": \"#bf4d28\", \"shape\": \"spline\", \"width\": 0.25}, \"mode\": \"lines\", \"text\": \"Hadoop<br>601\", \"x\": [-1.0978039297216025, -1.0995721748807266, -1.0999697409062783, -1.0989961322096387, -1.096652562449315], \"y\": [0.06947324584188641, 0.030676248598368833, -0.008158988330373682, -0.046984054617015165, -0.0857505526125109], \"type\": \"scatter\", \"uid\": \"c33d972e-e5ad-4b53-a1c1-c47a62b52987\"}, {\"hoverinfo\": \"text\", \"line\": {\"color\": \"#af4624\", \"shape\": \"spline\", \"width\": 0.25}, \"mode\": \"lines\", \"text\": \"Spark<br>629\", \"x\": [-1.0934179406610527, -1.0881735474644971, -1.0814137947995266, -1.0731480961050444, -1.0633879619574735], \"y\": [-0.12015492932269875, -0.16086743175214807, -0.20135591478098555, -0.2415639953016977, -0.2814356806873122], \"type\": \"scatter\", \"uid\": \"7bda8b74-c010-4f11-ac5a-35d615469a64\"}, {\"hoverinfo\": \"text\", \"line\": {\"color\": \"#9f4021\", \"shape\": \"spline\", \"width\": 0.25}, \"mode\": \"lines\", \"text\": \"Informatica<br>674\", \"x\": [-1.0540231358283818, -1.0403987498614196, -1.0250637722360767, -1.008043416251399, -0.9893656662537474], \"y\": [-0.3146986322475916, -0.35717004533806496, -0.39905421041400474, -0.44028226281808014, -0.48078641665325633], \"type\": \"scatter\", \"uid\": \"f573987e-5550-427b-beb2-5142e87a9e86\"}, {\"hoverinfo\": \"text\", \"line\": {\"color\": \"#8f391e\", \"shape\": \"spline\", \"width\": 0.25}, \"mode\": \"lines\", \"text\": \"Qlik<br>1556\", \"x\": [-0.9737756077197015, -0.9623530464785766, -0.950470108267439, -0.9381324777267741, -0.9253460570158627, -0.912116962989269, -0.8984515242706165, -0.8843562782250577, -0.8698379678318874, -0.8549035384587881, -0.8395601345392597, -0.8238150961548153, -0.8076759555235856, -0.791150433397003, -0.7742464353662979, -0.7569720480805673, -0.7393355353782289, -0.721345334333712, -0.7030100512212695, -0.6843384573978529], \"y\": [-0.5116259041625298, -0.5328007262883591, -0.5537206635931903, -0.5743757082556887, -0.5947559791756584, -0.6148517267010254, -0.6346533372919473, -0.6541513381197999, -0.6733364015988536, -0.6921993498484693, -0.7107311590836725, -0.7289229639320144, -0.7467660616746472, -0.7642519164095923, -0.7813721631351999, -0.798118611751857, -0.8144832509800234, -0.8304582521927188, -0.8460359731606384, -0.8612089617080904], \"type\": \"scatter\", \"uid\": \"7aad3b51-9b9e-44da-9f21-4bf41c5607c4\"}, {\"hoverinfo\": \"text\", \"line\": {\"color\": \"#f0f3e7\", \"shape\": \"spline\", \"width\": 0.25}, \"mode\": \"lines\", \"text\": \"Tableau<br>1978\", \"x\": [-0.6569495504675811, -0.6378550625860528, -0.61846649887707, -0.5987927982175828, -0.5788430309436898, -0.5586263946688673, -0.5381522100435082, -0.5174299164577489, -0.4964690676895389, -0.4752793274999869, -0.4538704651779873, -0.43225235103620346, -0.4104349518604748, -0.3884283263147372, -0.3662426203035975, -0.34388806229467217, -0.3213749586028762, -0.2987136886388058, -0.27591470012343694, -0.2529885042713159, -0.22994567094448562, -0.20679682377937408, -0.18355263528888088, -0.1602238219419438, -0.13682113922282518, -0.11335537667242578], \"y\": [-0.8822795974862183, -0.8961812981385757, -0.9096698245884269, -0.9227389581039468, -0.9353826733096582, -0.9475951409643588, -0.959370730648631, -0.970704013360678, -0.9815897640193078, -0.9920229638728936, -1.0019988028132158, -1.0115126815931053, -1.0205602139468744, -1.029137228612556, -1.0372397712550145, -1.0448641062890502, -1.0520067186016446, -1.0586643151725663, -1.0648338265925787, -1.0705124084785578, -1.0756974427848616, -1.0803865390103502, -1.0845775353005, -1.0882684994441014, -1.0914577297640842, -1.0941437559020535], \"type\": \"scatter\", \"uid\": \"6996fbed-2cb3-43f1-926c-df54469ee2e7\"}, {\"hoverinfo\": \"text\", \"line\": {\"color\": \"#e2ecde\", \"shape\": \"spline\", \"width\": 0.25}, \"mode\": \"lines\", \"text\": \"Microstrategy<br>284\", \"x\": [-0.07893155672334055, -0.06516480971811617, -0.05138781191565056, -0.03760273051648942, -0.023811733992771457], \"y\": [-1.0971644404341723, -1.0980680978766306, -1.0987990229275424, -1.0993571006082166, -1.0997422431298425], \"type\": \"scatter\", \"uid\": \"d928688d-2d25-41af-bfee-9c9e5124fe85\"}, {\"hoverinfo\": \"text\", \"line\": {\"color\": \"#d4e5d6\", \"shape\": \"spline\", \"width\": 0.25}, \"mode\": \"lines\", \"text\": \"Oracle BI<br>2441\", \"x\": [0.010743754307532912, 0.03376340589629426, 0.05676826516914789, 0.07974825331038264, 0.10269330240075134, 0.12559335982838954, 0.14843839269303688, 0.17121839220162235, 0.1939233780532789, 0.21654340281188494, 0.23906855626420262, 0.2614889697617078, 0.28379482054421484, 0.30597633604338703, 0.3280237981642664, 0.34992754754293703, 0.37167798777844935, 0.39326558963716846, 0.41468089522769064, 0.4359145221445041, 0.4569571675785814, 0.47779961239309215, 0.49843272516246384, 0.5188474661730158, 0.5390348913834047, 0.5589861563431625, 0.5786925200675986, 0.5981453488673715, 0.6173361201310553, 0.6362564260590362, 0.6548979773471113, 0.6732526068181764, 0.6913122730003974], \"y\": [-1.0999475313592824, -1.099481710817548, -1.0985341888487976, -1.0971053805783395, -1.095195911991105, -1.0928066196573925, -1.0899385503663535, -1.086592960667375, -1.0827713163195658, -1.0784752916495814, -1.0737067688180744, -1.0684678369950875, -1.0627607914447526, -1.0565881325196986, -1.049952564565604, -1.042856994736376, -1.0353045317204803, -1.0272984843789708, -1.0188423602958219, -1.0099398642411976, -1.0005948965483287, -0.9908115514047114, -0.9805941150583762, -0.9699470639400077, -0.958875062701748, -0.9473829621735329, -0.9354757972378612, -0.9231587846239295, -0.9104373206220928, -0.8973169787196621, -0.8838035071590644, -0.8699028264194398, -0.8556210266227824], \"type\": \"scatter\", \"uid\": \"5c3c4776-a0f6-4e5c-b550-9eafce93a5ee\"}, {\"hoverinfo\": \"text\", \"line\": {\"color\": \"#c6decd\", \"shape\": \"spline\", \"width\": 0.25}, \"mode\": \"lines\", \"text\": \"Python<br>1505\", \"x\": [0.7178468580546717, 0.7352734208545166, 0.7523726014196696, 0.7691367862994248, 0.7855585112007014, 0.8016304643115333, 0.8173454895566761, 0.832696589783864, 0.8476769298793078, 0.8622798398110472, 0.8764988175987978, 0.8903275322089712, 0.9037598263735863, 0.9167897193318051, 0.9294114094928815, 0.9416192770193325, 0.9534078863291852, 0.9647719885161826, 0.9757065236868694, 0.9862066232135248], \"y\": [-0.8334841860413646, -0.8181521842450199, -0.8024558982479968, -0.7864023168588664, -0.7699985879728207, -0.7532520153890567, -0.7361700555587395, -0.7187603142650014, -0.7010305432364494, -0.6829886366956883, -0.6646426278444001, -0.6460006852865433, -0.6270711093912599, -0.6078623285971175, -0.5883828956593281, -0.5686414838416117, -0.5486468830544066, -0.5284079959411392, -0.5079338339143049, -0.4872335131431096], \"type\": \"scatter\", \"uid\": \"0760d138-c201-4307-8c21-18f68fb1d2c3\"}, {\"hoverinfo\": \"text\", \"line\": {\"color\": \"#b8d7c5\", \"shape\": \"spline\", \"width\": 0.25}, \"mode\": \"lines\", \"text\": \"VBA<br>601\", \"x\": [1.0010243642741814, 1.0164983035762867, 1.0307051200411168, 1.0436271040654934, 1.055248147662809], \"y\": [-0.45601559417356663, -0.42039409941926126, -0.3842485595562167, -0.34762403205168674, -0.31056617145821036], \"type\": \"scatter\", \"uid\": \"8906c94e-ff27-439f-a968-b574b448d28f\"}, {\"hoverinfo\": \"text\", \"line\": {\"color\": \"#aad0bc\", \"shape\": \"spline\", \"width\": 0.25}, \"mode\": \"lines\", \"text\": \"Linux<br>498\", \"x\": [1.0644825655922543, 1.0718058075335521, 1.0782941279338587, 1.083942472483495, 1.08874644120207], \"y\": [-0.2772667804662724, -0.2474516335313837, -0.21744372527934527, -0.18726643144559596, -0.1569432597145461], \"type\": \"scatter\", \"uid\": \"cab4270a-1475-47ac-897a-8e007d0a000e\"}, {\"hoverinfo\": \"text\", \"line\": {\"color\": \"#9cc9b4\", \"shape\": \"spline\", \"width\": 0.25}, \"mode\": \"lines\", \"text\": \"AWS<br>389\", \"x\": [1.093138917476142, 1.0953818535463808, 1.0971830032684329, 1.0985416402076256, 1.0994572164023046], \"y\": [-0.12266746552810405, -0.10069059003350353, -0.07867310429150415, -0.056623888332929646, -0.03455183498594608], \"type\": \"scatter\", \"uid\": \"aeed1ba6-4c8d-46aa-a51b-1061d2fa00a4\"}, {\"hoverinfo\": \"text\", \"marker\": {\"color\": \"green\", \"size\": 0.5}, \"mode\": \"markers\", \"text\": \"Power BI appears with Excel 176 times\", \"x\": [0.8741679506540299], \"y\": [0.21408034484588648], \"type\": \"scatter\", \"uid\": \"a4c5167b-f8ea-4717-bca3-e2e047fa2f24\"}, {\"hoverinfo\": \"text\", \"marker\": {\"color\": \"blue\", \"size\": 0.5}, \"mode\": \"markers\", \"text\": \"Excel appears with Power BI 176 times\", \"x\": [0.7673072741537128], \"y\": [0.47036108154352996], \"type\": \"scatter\", \"uid\": \"8675ed11-36a6-48d4-9964-d36ef5b616ca\"}, {\"hoverinfo\": \"text\", \"marker\": {\"color\": \"green\", \"size\": 0.5}, \"mode\": \"markers\", \"text\": \"Power BI appears with SSIS/SSRS 107 times\", \"x\": [0.8976864803325494], \"y\": [0.06449017776498595], \"type\": \"scatter\", \"uid\": \"a3f6238b-ff86-4b51-820b-ff7147e5d708\"}, {\"hoverinfo\": \"text\", \"marker\": {\"color\": \"blue\", \"size\": 0.5}, \"mode\": \"markers\", \"text\": \"SSIS/SSRS appears with Power BI 107 times\", \"x\": [0.11622436451926207], \"y\": [0.8924639472225719], \"type\": \"scatter\", \"uid\": \"d530ef0a-e6f2-4b24-8f73-390d70054129\"}, {\"hoverinfo\": \"text\", \"marker\": {\"color\": \"green\", \"size\": 0.5}, \"mode\": \"markers\", \"text\": \"Power BI appears with MS SQL Server 108 times\", \"x\": [0.8955663566380487], \"y\": [0.08922388053683437], \"type\": \"scatter\", \"uid\": \"d4757d5d-dc72-4ad3-92a2-2cbbc36b95c5\"}, {\"hoverinfo\": \"text\", \"marker\": {\"color\": \"blue\", \"size\": 0.5}, \"mode\": \"markers\", \"text\": \"MS SQL Server appears with Power BI 108 times\", \"x\": [-0.38917201099807824], \"y\": [0.8115079456516194], \"type\": \"scatter\", \"uid\": \"19d5b9fa-81b9-4a08-b3bd-5f3878300d34\"}, {\"hoverinfo\": \"text\", \"marker\": {\"color\": \"green\", \"size\": 0.5}, \"mode\": \"markers\", \"text\": \"Power BI appears with MySQL/MariaDB 5 times\", \"x\": [0.8999960817594999], \"y\": [0.0026557141314005384], \"type\": \"scatter\", \"uid\": \"4f4f994b-4bed-4c1e-9eda-e1f697667d5c\"}, {\"hoverinfo\": \"text\", \"marker\": {\"color\": \"blue\", \"size\": 0.5}, \"mode\": \"markers\", \"text\": \"MySQL/MariaDB appears with Power BI 5 times\", \"x\": [-0.6522103516651578], \"y\": [0.6201787300293451], \"type\": \"scatter\", \"uid\": \"eb8471ce-8ac0-411f-a99f-73a1e7088456\"}, {\"hoverinfo\": \"text\", \"marker\": {\"color\": \"green\", \"size\": 0.5}, \"mode\": \"markers\", \"text\": \"Power BI appears with T-SQL 38 times\", \"x\": [0.899385713037884], \"y\": [0.03324664168509572], \"type\": \"scatter\", \"uid\": \"43c6ed19-d4d0-42c1-b6d9-3def5eb1e201\"}, {\"hoverinfo\": \"text\", \"marker\": {\"color\": \"blue\", \"size\": 0.5}, \"mode\": \"markers\", \"text\": \"T-SQL appears with Power BI 38 times\", \"x\": [-0.7805984678274983], \"y\": [0.44795762302405584], \"type\": \"scatter\", \"uid\": \"20dbd531-2917-43c9-8bc4-dad1ed0a303b\"}, {\"hoverinfo\": \"text\", \"marker\": {\"color\": \"green\", \"size\": 0.5}, \"mode\": \"markers\", \"text\": \"Power BI appears with PL/SQL 5 times\", \"x\": [0.8999987482363487], \"y\": [0.001501057295821755], \"type\": \"scatter\", \"uid\": \"5ffa46af-703e-477c-b638-a4c43ac2f75d\"}, {\"hoverinfo\": \"text\", \"marker\": {\"color\": \"blue\", \"size\": 0.5}, \"mode\": \"markers\", \"text\": \"PL/SQL appears with Power BI 5 times\", \"x\": [-0.862521502383043], \"y\": [0.25701489825863844], \"type\": \"scatter\", \"uid\": \"a1bebbae-9d71-4c63-b655-1ac479a2ff05\"}, {\"hoverinfo\": \"text\", \"marker\": {\"color\": \"green\", \"size\": 0.5}, \"mode\": \"markers\", \"text\": \"Power BI appears with Pentaho 8 times\", \"x\": [0.8999843270721162], \"y\": [0.00531140513896404], \"type\": \"scatter\", \"uid\": \"67eb40d0-0f25-435c-a75f-dafd4c76723c\"}, {\"hoverinfo\": \"text\", \"marker\": {\"color\": \"blue\", \"size\": 0.5}, \"mode\": \"markers\", \"text\": \"Pentaho appears with Power BI 8 times\", \"x\": [-0.8813578749478024], \"y\": [0.18223143600239194], \"type\": \"scatter\", \"uid\": \"4ad5cc16-8c2f-4404-95ec-2a946a411046\"}, {\"hoverinfo\": \"text\", \"marker\": {\"color\": \"green\", \"size\": 0.5}, \"mode\": \"markers\", \"text\": \"Power BI appears with Hadoop 19 times\", \"x\": [0.899876744803057], \"y\": [0.014894433948756261], \"type\": \"scatter\", \"uid\": \"b2042863-e1ca-4b1b-871a-8b148e5fa637\"}, {\"hoverinfo\": \"text\", \"marker\": {\"color\": \"blue\", \"size\": 0.5}, \"mode\": \"markers\", \"text\": \"Hadoop appears with Power BI 19 times\", \"x\": [-0.8988997411756087], \"y\": [0.04448882235375323], \"type\": \"scatter\", \"uid\": \"d4f82365-0811-4256-af42-c3506afd6d5e\"}, {\"hoverinfo\": \"text\", \"marker\": {\"color\": \"green\", \"size\": 0.5}, \"mode\": \"markers\", \"text\": \"Power BI appears with Spark 24 times\", \"x\": [0.8997808835399591], \"y\": [0.0198585401288856], \"type\": \"scatter\", \"uid\": \"cbd6e64a-8bd1-4492-b6fb-18f40106735f\"}, {\"hoverinfo\": \"text\", \"marker\": {\"color\": \"blue\", \"size\": 0.5}, \"mode\": \"markers\", \"text\": \"Spark appears with Power BI 24 times\", \"x\": [-0.891627862983662], \"y\": [-0.12247348264497088], \"type\": \"scatter\", \"uid\": \"bb389c8e-5076-4908-bbd6-67cac5100334\"}, {\"hoverinfo\": \"text\", \"marker\": {\"color\": \"green\", \"size\": 0.5}, \"mode\": \"markers\", \"text\": \"Power BI appears with Informatica 10 times\", \"x\": [0.8999696615603667], \"y\": [0.007389740923677055], \"type\": \"scatter\", \"uid\": \"e9f4bbf1-1a12-48b8-b3e7-263c84c94023\"}, {\"hoverinfo\": \"text\", \"marker\": {\"color\": \"blue\", \"size\": 0.5}, \"mode\": \"markers\", \"text\": \"Informatica appears with Power BI 10 times\", \"x\": [-0.8600556956516194], \"y\": [-0.26514939256428455], \"type\": \"scatter\", \"uid\": \"4bf4510c-ef36-41e0-8d81-821988c58da3\"}, {\"hoverinfo\": \"text\", \"marker\": {\"color\": \"green\", \"size\": 0.5}, \"mode\": \"markers\", \"text\": \"Power BI appears with Qlik 138 times\", \"x\": [0.888266410613057], \"y\": [0.14485435366807575], \"type\": \"scatter\", \"uid\": \"5c82e6c2-9a3d-48e6-b62a-f98158a0b500\"}, {\"hoverinfo\": \"text\", \"marker\": {\"color\": \"blue\", \"size\": 0.5}, \"mode\": \"markers\", \"text\": \"Qlik appears with Power BI 138 times\", \"x\": [-0.7285727706667332], \"y\": [-0.5283764925155167], \"type\": \"scatter\", \"uid\": \"370e45de-b053-410e-8c0f-391330caa51d\"}, {\"hoverinfo\": \"text\", \"marker\": {\"color\": \"green\", \"size\": 0.5}, \"mode\": \"markers\", \"text\": \"Power BI appears with Tableau 149 times\", \"x\": [0.88233188321519], \"y\": [0.177455481352187], \"type\": \"scatter\", \"uid\": \"3fb4a836-1130-4e8d-bc00-2c0a4d67ca8a\"}, {\"hoverinfo\": \"text\", \"marker\": {\"color\": \"blue\", \"size\": 0.5}, \"mode\": \"markers\", \"text\": \"Tableau appears with Power BI 149 times\", \"x\": [-0.3578833758999954], \"y\": [-0.8257841662652673], \"type\": \"scatter\", \"uid\": \"825f355b-5637-4f08-9fa3-b94b956c3d79\"}, {\"hoverinfo\": \"text\", \"marker\": {\"color\": \"green\", \"size\": 0.5}, \"mode\": \"markers\", \"text\": \"Power BI appears with Microstrategy 18 times\", \"x\": [0.8999373088343329], \"y\": [0.010622625288439847], \"type\": \"scatter\", \"uid\": \"b5d5dbad-82aa-4bc3-b71c-30db1b08861e\"}, {\"hoverinfo\": \"text\", \"marker\": {\"color\": \"blue\", \"size\": 0.5}, \"mode\": \"markers\", \"text\": \"Microstrategy appears with Power BI 18 times\", \"x\": [-0.05172951097384589], \"y\": [-0.8985121355298474], \"type\": \"scatter\", \"uid\": \"630af65e-4306-42b9-b740-6045e45410eb\"}, {\"hoverinfo\": \"text\", \"marker\": {\"color\": \"green\", \"size\": 0.5}, \"mode\": \"markers\", \"text\": \"Power BI appears with Oracle BI 120 times\", \"x\": [0.8925736911032706], \"y\": [0.11537853331657275], \"type\": \"scatter\", \"uid\": \"8caab8d2-08a0-4c40-81a0-661f0c0c5ca2\"}, {\"hoverinfo\": \"text\", \"marker\": {\"color\": \"blue\", \"size\": 0.5}, \"mode\": \"markers\", \"text\": \"Oracle BI appears with Power BI 120 times\", \"x\": [0.1261736674879844], \"y\": [-0.8911117806608952], \"type\": \"scatter\", \"uid\": \"4041cb94-1f6e-4594-aca7-d08ed25c21f1\"}, {\"hoverinfo\": \"text\", \"marker\": {\"color\": \"green\", \"size\": 0.5}, \"mode\": \"markers\", \"text\": \"Power BI appears with Python 63 times\", \"x\": [0.8988794150341239], \"y\": [0.04489763053782768], \"type\": \"scatter\", \"uid\": \"00072f4f-83bd-4020-81b3-1579d8ef6d70\"}, {\"hoverinfo\": \"text\", \"marker\": {\"color\": \"blue\", \"size\": 0.5}, \"mode\": \"markers\", \"text\": \"Python appears with Power BI 63 times\", \"x\": [0.6421685328089723], \"y\": [-0.6305708330314461], \"type\": \"scatter\", \"uid\": \"aa300e69-a899-4be2-b338-a28f03c829de\"}, {\"hoverinfo\": \"text\", \"marker\": {\"color\": \"green\", \"size\": 0.5}, \"mode\": \"markers\", \"text\": \"Power BI appears with VBA 27 times\", \"x\": [0.8996316880288706], \"y\": [0.025745405305120043], \"type\": \"scatter\", \"uid\": \"48b06606-be9a-4c11-8802-acae067be0d7\"}, {\"hoverinfo\": \"text\", \"marker\": {\"color\": \"blue\", \"size\": 0.5}, \"mode\": \"markers\", \"text\": \"VBA appears with Power BI 27 times\", \"x\": [0.8256788242283821], \"y\": [-0.3581263453319741], \"type\": \"scatter\", \"uid\": \"ca29c263-5ca1-44cb-8e40-6572cea39a46\"}, {\"hoverinfo\": \"text\", \"marker\": {\"color\": \"green\", \"size\": 0.5}, \"mode\": \"markers\", \"text\": \"Power BI appears with Linux 4 times\", \"x\": [0.8999998814898069], \"y\": [0.0004618639771849655], \"type\": \"scatter\", \"uid\": \"2d4674fc-0ff5-434a-bf67-cfeb77c69cd8\"}, {\"hoverinfo\": \"text\", \"marker\": {\"color\": \"blue\", \"size\": 0.5}, \"mode\": \"markers\", \"text\": \"Linux appears with Power BI 4 times\", \"x\": [0.8713457420258516], \"y\": [-0.2252922498742869], \"type\": \"scatter\", \"uid\": \"61b909f5-1d20-4a32-bb2a-2cf504702588\"}, {\"hoverinfo\": \"text\", \"marker\": {\"color\": \"green\", \"size\": 0.5}, \"mode\": \"markers\", \"text\": \"Power BI appears with AWS 5 times\", \"x\": [0.8999919339118579], \"y\": [0.003810366595741015], \"type\": \"scatter\", \"uid\": \"63f5dae7-64f4-42cc-8450-f3f0da9a6309\"}, {\"hoverinfo\": \"text\", \"marker\": {\"color\": \"blue\", \"size\": 0.5}, \"mode\": \"markers\", \"text\": \"AWS appears with Power BI 5 times\", \"x\": [0.8946424847247938], \"y\": [-0.09805521161798113], \"type\": \"scatter\", \"uid\": \"2039e04f-27d3-4e25-9ccf-fbdccd641057\"}, {\"hoverinfo\": \"text\", \"marker\": {\"color\": \"green\", \"size\": 0.5}, \"mode\": \"markers\", \"text\": \"Excel appears with SSIS/SSRS 488 times\", \"x\": [0.44365254060250403], \"y\": [0.78305326971857], \"type\": \"scatter\", \"uid\": \"0ce2785a-415d-4151-b30c-e8123118ac2f\"}, {\"hoverinfo\": \"text\", \"marker\": {\"color\": \"blue\", \"size\": 0.5}, \"mode\": \"markers\", \"text\": \"SSIS/SSRS appears with Excel 488 times\", \"x\": [-0.15406403083395198], \"y\": [0.8867154416176563], \"type\": \"scatter\", \"uid\": \"430bb5fc-5482-47cf-b70e-3265d2a73789\"}, {\"hoverinfo\": \"text\", \"marker\": {\"color\": \"green\", \"size\": 0.5}, \"mode\": \"markers\", \"text\": \"Excel appears with MS SQL Server 236 times\", \"x\": [0.7078367574792601], \"y\": [0.5558481130320109], \"type\": \"scatter\", \"uid\": \"fe20900b-ad70-46b7-99ee-5b4f88ef9671\"}, {\"hoverinfo\": \"text\", \"marker\": {\"color\": \"blue\", \"size\": 0.5}, \"mode\": \"markers\", \"text\": \"MS SQL Server appears with Excel 236 times\", \"x\": [-0.5313393716912562], \"y\": [0.7264148071802647], \"type\": \"scatter\", \"uid\": \"789f0a57-f2c1-415a-9bdf-bc8f948c25eb\"}, {\"hoverinfo\": \"text\", \"marker\": {\"color\": \"green\", \"size\": 0.5}, \"mode\": \"markers\", \"text\": \"Excel appears with PostgreSQL 56 times\", \"x\": [0.8491199381233795], \"y\": [0.2983208519050389], \"type\": \"scatter\", \"uid\": \"d29b1dbc-4b47-40fd-87b5-e08e5b32dfd1\"}, {\"hoverinfo\": \"text\", \"marker\": {\"color\": \"blue\", \"size\": 0.5}, \"mode\": \"markers\", \"text\": \"PostgreSQL appears with Excel 56 times\", \"x\": [-0.6178827305396897], \"y\": [0.6543859192409455], \"type\": \"scatter\", \"uid\": \"f8caabe3-197c-40bd-b10b-d536f07ab382\"}, {\"hoverinfo\": \"text\", \"marker\": {\"color\": \"green\", \"size\": 0.5}, \"mode\": \"markers\", \"text\": \"Excel appears with MySQL/MariaDB 96 times\", \"x\": [0.8166099393794982], \"y\": [0.3783493186284497], \"type\": \"scatter\", \"uid\": \"39df7e9c-b993-450d-a69d-0b119a8300aa\"}, {\"hoverinfo\": \"text\", \"marker\": {\"color\": \"blue\", \"size\": 0.5}, \"mode\": \"markers\", \"text\": \"MySQL/MariaDB appears with Excel 96 times\", \"x\": [-0.7269676728967848], \"y\": [0.530582700964735], \"type\": \"scatter\", \"uid\": \"36bee89a-ed9f-4b64-9911-077fc4819319\"}, {\"hoverinfo\": \"text\", \"marker\": {\"color\": \"green\", \"size\": 0.5}, \"mode\": \"markers\", \"text\": \"Excel appears with T-SQL 167 times\", \"x\": [0.7888747389216377], \"y\": [0.4332166274409582], \"type\": \"scatter\", \"uid\": \"b19150df-0f96-4b2f-b43c-60ecbd2d254d\"}, {\"hoverinfo\": \"text\", \"marker\": {\"color\": \"blue\", \"size\": 0.5}, \"mode\": \"markers\", \"text\": \"T-SQL appears with Excel 167 times\", \"x\": [-0.8472252109257957], \"y\": [0.3036600763546979], \"type\": \"scatter\", \"uid\": \"049be966-9b75-4118-95fb-3660cee238da\"}, {\"hoverinfo\": \"text\", \"marker\": {\"color\": \"green\", \"size\": 0.5}, \"mode\": \"markers\", \"text\": \"Excel appears with PL/SQL 50 times\", \"x\": [0.8534276527637965], \"y\": [0.28576431109933387], \"type\": \"scatter\", \"uid\": \"49bcbcee-233b-479c-bd35-5fab3148faf0\"}, {\"hoverinfo\": \"text\", \"marker\": {\"color\": \"blue\", \"size\": 0.5}, \"mode\": \"markers\", \"text\": \"PL/SQL appears with Excel 50 times\", \"x\": [-0.8702430484150594], \"y\": [0.22951478533041111], \"type\": \"scatter\", \"uid\": \"baae04b1-3dae-424e-bc21-ec787c4bd3dd\"}, {\"hoverinfo\": \"text\", \"marker\": {\"color\": \"green\", \"size\": 0.5}, \"mode\": \"markers\", \"text\": \"Excel appears with Pentaho 60 times\", \"x\": [0.8441941724988722], \"y\": [0.31198749833758466], \"type\": \"scatter\", \"uid\": \"fa8986c7-9e11-4a3b-8600-a5b8a26e1a73\"}, {\"hoverinfo\": \"text\", \"marker\": {\"color\": \"blue\", \"size\": 0.5}, \"mode\": \"markers\", \"text\": \"Pentaho appears with Excel 60 times\", \"x\": [-0.8953793877939363], \"y\": [0.09108101840535002], \"type\": \"scatter\", \"uid\": \"9115a690-dc94-4819-be58-1a4cee482870\"}, {\"hoverinfo\": \"text\", \"marker\": {\"color\": \"green\", \"size\": 0.5}, \"mode\": \"markers\", \"text\": \"Excel appears with Hadoop 70 times\", \"x\": [0.8323566996476166], \"y\": [0.3423190391312285], \"type\": \"scatter\", \"uid\": \"8c5616db-bc0d-49dc-b0c4-85870b5977cc\"}, {\"hoverinfo\": \"text\", \"marker\": {\"color\": \"blue\", \"size\": 0.5}, \"mode\": \"markers\", \"text\": \"Hadoop appears with Excel 70 times\", \"x\": [-0.8999999067970453], \"y\": [0.00040959163779249406], \"type\": \"scatter\", \"uid\": \"ac12b7b1-a121-45b5-8331-d797e5724c2d\"}, {\"hoverinfo\": \"text\", \"marker\": {\"color\": \"green\", \"size\": 0.5}, \"mode\": \"markers\", \"text\": \"Excel appears with Spark 74 times\", \"x\": [0.8253307515048255], \"y\": [0.3589277791150749], \"type\": \"scatter\", \"uid\": \"c37d8601-9251-4489-a39e-c03d820578d1\"}, {\"hoverinfo\": \"text\", \"marker\": {\"color\": \"blue\", \"size\": 0.5}, \"mode\": \"markers\", \"text\": \"Spark appears with Excel 74 times\", \"x\": [-0.8831276397485028], \"y\": [-0.17345192968727244], \"type\": \"scatter\", \"uid\": \"ab48447c-ee8a-4635-97e7-725968ec5632\"}, {\"hoverinfo\": \"text\", \"marker\": {\"color\": \"green\", \"size\": 0.5}, \"mode\": \"markers\", \"text\": \"Excel appears with Informatica 114 times\", \"x\": [0.8052068502049292], \"y\": [0.40204717183815236], \"type\": \"scatter\", \"uid\": \"b556788f-a9c3-4bfd-9043-3c0000f0cd05\"}, {\"hoverinfo\": \"text\", \"marker\": {\"color\": \"blue\", \"size\": 0.5}, \"mode\": \"markers\", \"text\": \"Informatica appears with Excel 114 times\", \"x\": [-0.8257566049225046], \"y\": [-0.3579469645448315], \"type\": \"scatter\", \"uid\": \"47567aa2-d7f2-46df-9056-1e4435f82e08\"}, {\"hoverinfo\": \"text\", \"marker\": {\"color\": \"green\", \"size\": 0.5}, \"mode\": \"markers\", \"text\": \"Excel appears with Qlik 355 times\", \"x\": [0.6069941346477992], \"y\": [0.6644983976678721], \"type\": \"scatter\", \"uid\": \"2f818176-4d29-45e6-9863-d7e73fb1553d\"}, {\"hoverinfo\": \"text\", \"marker\": {\"color\": \"blue\", \"size\": 0.5}, \"mode\": \"markers\", \"text\": \"Qlik appears with Excel 355 times\", \"x\": [-0.5926757527916386], \"y\": [-0.6773001196315149], \"type\": \"scatter\", \"uid\": \"c0f80c96-0861-46fb-8d23-67069b3c7e31\"}, {\"hoverinfo\": \"text\", \"marker\": {\"color\": \"green\", \"size\": 0.5}, \"mode\": \"markers\", \"text\": \"Excel appears with Tableau 386 times\", \"x\": [0.5353744633486633], \"y\": [0.723446047742422], \"type\": \"scatter\", \"uid\": \"0f7ce60c-a0b5-407c-8114-030aae0a7a18\"}, {\"hoverinfo\": \"text\", \"marker\": {\"color\": \"blue\", \"size\": 0.5}, \"mode\": \"markers\", \"text\": \"Tableau appears with Excel 386 times\", \"x\": [-0.13948581735334897], \"y\": [-0.8891252480709724], \"type\": \"scatter\", \"uid\": \"3e1bd337-6353-4e8f-93a1-40050889ce11\"}, {\"hoverinfo\": \"text\", \"marker\": {\"color\": \"green\", \"size\": 0.5}, \"mode\": \"markers\", \"text\": \"Excel appears with Microstrategy 33 times\", \"x\": [0.8601327179353491], \"y\": [0.2648994290993268], \"type\": \"scatter\", \"uid\": \"e3fd855a-643f-4458-ad42-ccccd67ce6a8\"}, {\"hoverinfo\": \"text\", \"marker\": {\"color\": \"blue\", \"size\": 0.5}, \"mode\": \"markers\", \"text\": \"Microstrategy appears with Excel 33 times\", \"x\": [-0.036564793212537014], \"y\": [-0.8992569242976807], \"type\": \"scatter\", \"uid\": \"381e81d8-990b-4b9c-be52-c3a540203dd4\"}, {\"hoverinfo\": \"text\", \"marker\": {\"color\": \"green\", \"size\": 0.5}, \"mode\": \"markers\", \"text\": \"Excel appears with Oracle BI 524 times\", \"x\": [0.3293545891051773], \"y\": [0.8375712236194364], \"type\": \"scatter\", \"uid\": \"66fef6d6-4e90-4645-ae24-07f1acd0a041\"}, {\"hoverinfo\": \"text\", \"marker\": {\"color\": \"blue\", \"size\": 0.5}, \"mode\": \"markers\", \"text\": \"Oracle BI appears with Excel 524 times\", \"x\": [0.5138724518740175], \"y\": [-0.7388742133847855], \"type\": \"scatter\", \"uid\": \"692e4a03-e4f9-4b88-b9f4-3e67e88b766f\"}, {\"hoverinfo\": \"text\", \"marker\": {\"color\": \"green\", \"size\": 0.5}, \"mode\": \"markers\", \"text\": \"Excel appears with Python 297 times\", \"x\": [0.6647026700293825], \"y\": [0.6067704347245422], \"type\": \"scatter\", \"uid\": \"16ea18ed-b0d1-4c64-9f14-6e565b4bf886\"}, {\"hoverinfo\": \"text\", \"marker\": {\"color\": \"blue\", \"size\": 0.5}, \"mode\": \"markers\", \"text\": \"Python appears with Excel 297 times\", \"x\": [0.7904987704833045], \"y\": [-0.43024608524004465], \"type\": \"scatter\", \"uid\": \"0fa8684c-dfb0-4117-9421-baed345eb4f3\"}, {\"hoverinfo\": \"text\", \"marker\": {\"color\": \"green\", \"size\": 0.5}, \"mode\": \"markers\", \"text\": \"Excel appears with VBA 210 times\", \"x\": [0.7409486302408806], \"y\": [0.5108768220854835], \"type\": \"scatter\", \"uid\": \"ea304895-0d69-4982-adcb-55372b979feb\"}, {\"hoverinfo\": \"text\", \"marker\": {\"color\": \"blue\", \"size\": 0.5}, \"mode\": \"markers\", \"text\": \"VBA appears with Excel 210 times\", \"x\": [0.8568528104953584], \"y\": [-0.2753239204032321], \"type\": \"scatter\", \"uid\": \"1782aa70-aee0-4cf3-b4ea-a06c2f05c165\"}, {\"hoverinfo\": \"text\", \"marker\": {\"color\": \"green\", \"size\": 0.5}, \"mode\": \"markers\", \"text\": \"Excel appears with Linux 65 times\", \"x\": [0.8386400647936436], \"y\": [0.32662339432887094], \"type\": \"scatter\", \"uid\": \"7c00190d-0a30-4923-ae93-6b7d137d8a78\"}, {\"hoverinfo\": \"text\", \"marker\": {\"color\": \"blue\", \"size\": 0.5}, \"mode\": \"markers\", \"text\": \"Linux appears with Excel 65 times\", \"x\": [0.8848686164297976], \"y\": [-0.16433968375780636], \"type\": \"scatter\", \"uid\": \"c9d7fa81-2a0d-4288-b168-8577d503f01d\"}, {\"hoverinfo\": \"text\", \"marker\": {\"color\": \"green\", \"size\": 0.5}, \"mode\": \"markers\", \"text\": \"Excel appears with AWS 46 times\", \"x\": [0.8571687806453034], \"y\": [0.27433862558349986], \"type\": \"scatter\", \"uid\": \"fd0d93ef-3f84-427b-8a47-8357b84897ab\"}, {\"hoverinfo\": \"text\", \"marker\": {\"color\": \"blue\", \"size\": 0.5}, \"mode\": \"markers\", \"text\": \"AWS appears with Excel 46 times\", \"x\": [0.8987996102584241], \"y\": [-0.04646784478868045], \"type\": \"scatter\", \"uid\": \"00344796-8ec1-4c3e-ba71-95d09ae07a89\"}, {\"hoverinfo\": \"text\", \"marker\": {\"color\": \"green\", \"size\": 0.5}, \"mode\": \"markers\", \"text\": \"SSIS/SSRS appears with MS SQL Server 226 times\", \"x\": [-0.06783406048502481], \"y\": [0.8974399925555546], \"type\": \"scatter\", \"uid\": \"62c59508-8689-493c-a912-3fdbef8433e8\"}, {\"hoverinfo\": \"text\", \"marker\": {\"color\": \"blue\", \"size\": 0.5}, \"mode\": \"markers\", \"text\": \"MS SQL Server appears with SSIS/SSRS 226 times\", \"x\": [-0.48572427498506104], \"y\": [0.7576753451777594], \"type\": \"scatter\", \"uid\": \"5891677b-6d1b-465a-8837-cafd91d89539\"}, {\"hoverinfo\": \"text\", \"marker\": {\"color\": \"green\", \"size\": 0.5}, \"mode\": \"markers\", \"text\": \"SSIS/SSRS appears with PostgreSQL 31 times\", \"x\": [0.20103695563322854], \"y\": [0.8772594499175961], \"type\": \"scatter\", \"uid\": \"0b33c9e1-7f34-4d9d-8feb-a9f138843cb2\"}, {\"hoverinfo\": \"text\", \"marker\": {\"color\": \"blue\", \"size\": 0.5}, \"mode\": \"markers\", \"text\": \"PostgreSQL appears with SSIS/SSRS 31 times\", \"x\": [-0.5893645355103926], \"y\": [0.6801833901843085], \"type\": \"scatter\", \"uid\": \"6361f751-b873-46a9-8c8f-c6c4e05ba023\"}, {\"hoverinfo\": \"text\", \"marker\": {\"color\": \"green\", \"size\": 0.5}, \"mode\": \"markers\", \"text\": \"SSIS/SSRS appears with MySQL/MariaDB 55 times\", \"x\": [0.18224231880743114], \"y\": [0.881355624725735], \"type\": \"scatter\", \"uid\": \"4edbe83f-897d-4959-9432-1e9a7c2e7497\"}, {\"hoverinfo\": \"text\", \"marker\": {\"color\": \"blue\", \"size\": 0.5}, \"mode\": \"markers\", \"text\": \"MySQL/MariaDB appears with SSIS/SSRS 55 times\", \"x\": [-0.6844411574459377], \"y\": [0.5844144950239214], \"type\": \"scatter\", \"uid\": \"18cbda96-8587-4733-9d54-4f3851716a46\"}, {\"hoverinfo\": \"text\", \"marker\": {\"color\": \"green\", \"size\": 0.5}, \"mode\": \"markers\", \"text\": \"SSIS/SSRS appears with T-SQL 110 times\", \"x\": [0.08997994640925731], \"y\": [0.8954907086308529], \"type\": \"scatter\", \"uid\": \"bb3b96d8-cb42-4afe-8fa3-d7550f2fa74d\"}, {\"hoverinfo\": \"text\", \"marker\": {\"color\": \"blue\", \"size\": 0.5}, \"mode\": \"markers\", \"text\": \"T-SQL appears with SSIS/SSRS 110 times\", \"x\": [-0.8102643789529563], \"y\": [0.391754561173166], \"type\": \"scatter\", \"uid\": \"88962b06-a9db-4af1-a6dd-2742efaded94\"}, {\"hoverinfo\": \"text\", \"marker\": {\"color\": \"green\", \"size\": 0.5}, \"mode\": \"markers\", \"text\": \"SSIS/SSRS appears with PL/SQL 26 times\", \"x\": [0.2224541488334019], \"y\": [0.8720746250561398], \"type\": \"scatter\", \"uid\": \"e3c234fe-dfd2-4238-bbe0-e5149758691e\"}, {\"hoverinfo\": \"text\", \"marker\": {\"color\": \"blue\", \"size\": 0.5}, \"mode\": \"markers\", \"text\": \"PL/SQL appears with SSIS/SSRS 26 times\", \"x\": [-0.867404462639031], \"y\": [0.24001978708826055], \"type\": \"scatter\", \"uid\": \"59217d53-21f2-4782-954a-e335e39d2669\"}, {\"hoverinfo\": \"text\", \"marker\": {\"color\": \"green\", \"size\": 0.5}, \"mode\": \"markers\", \"text\": \"SSIS/SSRS appears with Pentaho 31 times\", \"x\": [0.21572328783511002], \"y\": [0.8737639630275503], \"type\": \"scatter\", \"uid\": \"783d1d1f-5a56-410c-a194-99b6c4501c82\"}, {\"hoverinfo\": \"text\", \"marker\": {\"color\": \"blue\", \"size\": 0.5}, \"mode\": \"markers\", \"text\": \"Pentaho appears with SSIS/SSRS 31 times\", \"x\": [-0.8837599220740875], \"y\": [0.17020105797439308], \"type\": \"scatter\", \"uid\": \"dfdee066-9926-4957-ae2f-9dd316716283\"}, {\"hoverinfo\": \"text\", \"marker\": {\"color\": \"green\", \"size\": 0.5}, \"mode\": \"markers\", \"text\": \"SSIS/SSRS appears with Hadoop 31 times\", \"x\": [0.2083874510163622], \"y\": [0.8755425005440359], \"type\": \"scatter\", \"uid\": \"535cbb65-2c7c-4f00-92f4-2cd37d0a1282\"}, {\"hoverinfo\": \"text\", \"marker\": {\"color\": \"blue\", \"size\": 0.5}, \"mode\": \"markers\", \"text\": \"Hadoop appears with SSIS/SSRS 31 times\", \"x\": [-0.8993683651473324], \"y\": [0.03371266486373437], \"type\": \"scatter\", \"uid\": \"bbd12d2d-dedb-4099-a4e3-2f39e00a7d98\"}, {\"hoverinfo\": \"text\", \"marker\": {\"color\": \"green\", \"size\": 0.5}, \"mode\": \"markers\", \"text\": \"SSIS/SSRS appears with Spark 36 times\", \"x\": [0.193077795851709], \"y\": [0.8790454850285313], \"type\": \"scatter\", \"uid\": \"4e7b0cdc-4a10-4c9e-837c-9ce7d739b9ac\"}, {\"hoverinfo\": \"text\", \"marker\": {\"color\": \"blue\", \"size\": 0.5}, \"mode\": \"markers\", \"text\": \"Spark appears with SSIS/SSRS 36 times\", \"x\": [-0.88880874105984], \"y\": [-0.14148859252823998], \"type\": \"scatter\", \"uid\": \"462e64c9-2e4f-4417-b06b-f48083de7700\"}, {\"hoverinfo\": \"text\", \"marker\": {\"color\": \"green\", \"size\": 0.5}, \"mode\": \"markers\", \"text\": \"SSIS/SSRS appears with Informatica 64 times\", \"x\": [0.15293723357080893], \"y\": [0.886910481721638], \"type\": \"scatter\", \"uid\": \"3fd2071f-1ff7-4b0f-8ad5-8075ed0c574d\"}, {\"hoverinfo\": \"text\", \"marker\": {\"color\": \"blue\", \"size\": 0.5}, \"mode\": \"markers\", \"text\": \"Informatica appears with SSIS/SSRS 64 times\", \"x\": [-0.8453402506326694], \"y\": [-0.30886867866505296], \"type\": \"scatter\", \"uid\": \"5a09753f-224a-4e0d-a99a-43da6ecd4e07\"}, {\"hoverinfo\": \"text\", \"marker\": {\"color\": \"green\", \"size\": 0.5}, \"mode\": \"markers\", \"text\": \"SSIS/SSRS appears with Qlik 67 times\", \"x\": [0.1371970083484722], \"y\": [0.8894812987917337], \"type\": \"scatter\", \"uid\": \"edcca05d-d6e2-4bb4-b1b1-d8a6eab5b490\"}, {\"hoverinfo\": \"text\", \"marker\": {\"color\": \"blue\", \"size\": 0.5}, \"mode\": \"markers\", \"text\": \"Qlik appears with SSIS/SSRS 67 times\", \"x\": [-0.7548944281055615], \"y\": [-0.4900351032478971], \"type\": \"scatter\", \"uid\": \"b53fc654-2068-42f1-95a3-1bec1a60f6d7\"}, {\"hoverinfo\": \"text\", \"marker\": {\"color\": \"green\", \"size\": 0.5}, \"mode\": \"markers\", \"text\": \"SSIS/SSRS appears with Tableau 128 times\", \"x\": [0.06110743861845524], \"y\": [0.8979230930015619], \"type\": \"scatter\", \"uid\": \"4306fca4-b72e-4fac-a556-87c3c49719f7\"}, {\"hoverinfo\": \"text\", \"marker\": {\"color\": \"blue\", \"size\": 0.5}, \"mode\": \"markers\", \"text\": \"Tableau appears with SSIS/SSRS 128 times\", \"x\": [-0.38866224056922566], \"y\": [-0.8117522175859512], \"type\": \"scatter\", \"uid\": \"89a4b1a7-def2-432a-9e99-83705bfc34d9\"}, {\"hoverinfo\": \"text\", \"marker\": {\"color\": \"green\", \"size\": 0.5}, \"mode\": \"markers\", \"text\": \"SSIS/SSRS appears with Microstrategy 22 times\", \"x\": [0.2342304786061699], \"y\": [0.8689856632257661], \"type\": \"scatter\", \"uid\": \"a8567103-2c84-43a1-925d-10e0fc460bc0\"}, {\"hoverinfo\": \"text\", \"marker\": {\"color\": \"blue\", \"size\": 0.5}, \"mode\": \"markers\", \"text\": \"Microstrategy appears with SSIS/SSRS 22 times\", \"x\": [-0.04537934016463465], \"y\": [-0.8988552249868843], \"type\": \"scatter\", \"uid\": \"ce821d7c-d87d-489a-8be4-235935dac6be\"}, {\"hoverinfo\": \"text\", \"marker\": {\"color\": \"green\", \"size\": 0.5}, \"mode\": \"markers\", \"text\": \"SSIS/SSRS appears with Oracle BI 220 times\", \"x\": [-0.013598300795462193], \"y\": [0.8998972642560239], \"type\": \"scatter\", \"uid\": \"a41c66c7-e47f-48b4-8f47-c947d74e454f\"}, {\"hoverinfo\": \"text\", \"marker\": {\"color\": \"blue\", \"size\": 0.5}, \"mode\": \"markers\", \"text\": \"Oracle BI appears with SSIS/SSRS 220 times\", \"x\": [0.2906978160333549], \"y\": [-0.8517598134177485], \"type\": \"scatter\", \"uid\": \"05dc25b3-ab54-459a-b6e6-0ffc487d63b1\"}, {\"hoverinfo\": \"text\", \"marker\": {\"color\": \"green\", \"size\": 0.5}, \"mode\": \"markers\", \"text\": \"SSIS/SSRS appears with Python 133 times\", \"x\": [0.029373028138431404], \"y\": [0.8995205529714031], \"type\": \"scatter\", \"uid\": \"40ec5eed-5393-4cbc-b31a-d6b954bfc1b0\"}, {\"hoverinfo\": \"text\", \"marker\": {\"color\": \"blue\", \"size\": 0.5}, \"mode\": \"markers\", \"text\": \"Python appears with SSIS/SSRS 133 times\", \"x\": [0.7645735620565709], \"y\": [-0.47479181564568584], \"type\": \"scatter\", \"uid\": \"2fc19325-b824-43a1-8c10-4738c1a32c80\"}, {\"hoverinfo\": \"text\", \"marker\": {\"color\": \"green\", \"size\": 0.5}, \"mode\": \"markers\", \"text\": \"SSIS/SSRS appears with VBA 63 times\", \"x\": [0.16815103967911085], \"y\": [0.8841522650849423], \"type\": \"scatter\", \"uid\": \"36093e1b-075b-4d40-8f41-a692fd71d086\"}, {\"hoverinfo\": \"text\", \"marker\": {\"color\": \"blue\", \"size\": 0.5}, \"mode\": \"markers\", \"text\": \"VBA appears with SSIS/SSRS 63 times\", \"x\": [0.8475819074409946], \"y\": [-0.302663030743243], \"type\": \"scatter\", \"uid\": \"1a22ff26-55a5-4687-8f01-6af7dff73dd4\"}, {\"hoverinfo\": \"text\", \"marker\": {\"color\": \"green\", \"size\": 0.5}, \"mode\": \"markers\", \"text\": \"SSIS/SSRS appears with Linux 15 times\", \"x\": [0.23857697161749053], \"y\": [0.8678024133486995], \"type\": \"scatter\", \"uid\": \"b0541b50-f1dd-4ae5-a855-913f09a8f8ff\"}, {\"hoverinfo\": \"text\", \"marker\": {\"color\": \"blue\", \"size\": 0.5}, \"mode\": \"markers\", \"text\": \"Linux appears with SSIS/SSRS 15 times\", \"x\": [0.8729640925598509], \"y\": [-0.21893764660550308], \"type\": \"scatter\", \"uid\": \"8ffb61e0-2029-4c73-9a40-6c4a73ede6f6\"}, {\"hoverinfo\": \"text\", \"marker\": {\"color\": \"green\", \"size\": 0.5}, \"mode\": \"markers\", \"text\": \"SSIS/SSRS appears with AWS 26 times\", \"x\": [0.22858305703604043], \"y\": [0.8704882457770801], \"type\": \"scatter\", \"uid\": \"4913bfe1-f96c-46fc-be57-0c39c14c6c56\"}, {\"hoverinfo\": \"text\", \"marker\": {\"color\": \"blue\", \"size\": 0.5}, \"mode\": \"markers\", \"text\": \"AWS appears with SSIS/SSRS 26 times\", \"x\": [0.8962342655051921], \"y\": [-0.08224440001829186], \"type\": \"scatter\", \"uid\": \"2e616499-d96e-4189-a8fd-383cd45461a7\"}, {\"hoverinfo\": \"text\", \"marker\": {\"color\": \"green\", \"size\": 0.5}, \"mode\": \"markers\", \"text\": \"MS SQL Server appears with PostgreSQL 55 times\", \"x\": [-0.3035986751852794], \"y\": [0.8472472156494486], \"type\": \"scatter\", \"uid\": \"f737f854-2ce6-4a50-8a5c-c9ffe7d0dd6e\"}, {\"hoverinfo\": \"text\", \"marker\": {\"color\": \"blue\", \"size\": 0.5}, \"mode\": \"markers\", \"text\": \"PostgreSQL appears with MS SQL Server 55 times\", \"x\": [-0.6102897886236486], \"y\": [0.661472882211888], \"type\": \"scatter\", \"uid\": \"afae371d-5d2a-429b-9c08-62708e54ca08\"}, {\"hoverinfo\": \"text\", \"marker\": {\"color\": \"green\", \"size\": 0.5}, \"mode\": \"markers\", \"text\": \"MS SQL Server appears with MySQL/MariaDB 66 times\", \"x\": [-0.32948412765003093], \"y\": [0.837520274158601], \"type\": \"scatter\", \"uid\": \"4d77c69d-1966-4e62-b0c9-11fa81fc41b3\"}, {\"hoverinfo\": \"text\", \"marker\": {\"color\": \"blue\", \"size\": 0.5}, \"mode\": \"markers\", \"text\": \"MySQL/MariaDB appears with MS SQL Server 66 times\", \"x\": [-0.7078908197653104], \"y\": [0.5557792613007406], \"type\": \"scatter\", \"uid\": \"753b525d-e9ca-4bf6-b431-62a19b4072ec\"}, {\"hoverinfo\": \"text\", \"marker\": {\"color\": \"green\", \"size\": 0.5}, \"mode\": \"markers\", \"text\": \"MS SQL Server appears with T-SQL 153 times\", \"x\": [-0.4469270042966135], \"y\": [0.7811889994300066], \"type\": \"scatter\", \"uid\": \"4fa34ad0-262a-4753-9c36-130b758f24c9\"}, {\"hoverinfo\": \"text\", \"marker\": {\"color\": \"blue\", \"size\": 0.5}, \"mode\": \"markers\", \"text\": \"T-SQL appears with MS SQL Server 153 times\", \"x\": [-0.8340353179345771], \"y\": [0.3382086463084125], \"type\": \"scatter\", \"uid\": \"d190f7fc-995d-4ba4-9847-fbd3437cf79d\"}, {\"hoverinfo\": \"text\", \"marker\": {\"color\": \"green\", \"size\": 0.5}, \"mode\": \"markers\", \"text\": \"MS SQL Server appears with PL/SQL 10 times\", \"x\": [-0.24281915846582044], \"y\": [0.8666249801857495], \"type\": \"scatter\", \"uid\": \"0a1bc6b2-0ecc-491b-b4c0-69b1cc6d5f49\"}, {\"hoverinfo\": \"text\", \"marker\": {\"color\": \"blue\", \"size\": 0.5}, \"mode\": \"markers\", \"text\": \"PL/SQL appears with MS SQL Server 10 times\", \"x\": [-0.8634977300968834], \"y\": [0.25371572698106465], \"type\": \"scatter\", \"uid\": \"1696f5a7-5699-4174-a238-eb4329753f4e\"}, {\"hoverinfo\": \"text\", \"marker\": {\"color\": \"green\", \"size\": 0.5}, \"mode\": \"markers\", \"text\": \"MS SQL Server appears with Pentaho 43 times\", \"x\": [-0.2804996803271997], \"y\": [0.8551724559036842], \"type\": \"scatter\", \"uid\": \"607a933d-962f-44a4-86a2-e9b6c3e9f3bd\"}, {\"hoverinfo\": \"text\", \"marker\": {\"color\": \"blue\", \"size\": 0.5}, \"mode\": \"markers\", \"text\": \"Pentaho appears with MS SQL Server 43 times\", \"x\": [-0.8928345602606812], \"y\": [0.11334217222250523], \"type\": \"scatter\", \"uid\": \"9e44f218-f502-4ecf-bbe5-ef2998c69c78\"}, {\"hoverinfo\": \"text\", \"marker\": {\"color\": \"green\", \"size\": 0.5}, \"mode\": \"markers\", \"text\": \"MS SQL Server appears with Hadoop 26 times\", \"x\": [-0.2557024080920602], \"y\": [0.8629115125526612], \"type\": \"scatter\", \"uid\": \"070e69d4-5a45-4b9d-b1d1-3d0113a77924\"}, {\"hoverinfo\": \"text\", \"marker\": {\"color\": \"blue\", \"size\": 0.5}, \"mode\": \"markers\", \"text\": \"Hadoop appears with MS SQL Server 26 times\", \"x\": [-0.8991224073763319], \"y\": [0.039735331303383664], \"type\": \"scatter\", \"uid\": \"d789f12d-d105-4477-a0b5-1a0ca3f5efda\"}, {\"hoverinfo\": \"text\", \"marker\": {\"color\": \"green\", \"size\": 0.5}, \"mode\": \"markers\", \"text\": \"MS SQL Server appears with Spark 22 times\", \"x\": [-0.2501877978754988], \"y\": [0.8645264980289549], \"type\": \"scatter\", \"uid\": \"bc2e5ce3-182d-403f-8890-34edcecde84a\"}, {\"hoverinfo\": \"text\", \"marker\": {\"color\": \"blue\", \"size\": 0.5}, \"mode\": \"markers\", \"text\": \"Spark appears with MS SQL Server 22 times\", \"x\": [-0.8922830948561005], \"y\": [-0.11760475600084871], \"type\": \"scatter\", \"uid\": \"ed3eea76-6169-4e8b-8063-c7256339300d\"}, {\"hoverinfo\": \"text\", \"marker\": {\"color\": \"green\", \"size\": 0.5}, \"mode\": \"markers\", \"text\": \"MS SQL Server appears with Informatica 55 times\", \"x\": [-0.31596233217815495], \"y\": [0.8427145451720537], \"type\": \"scatter\", \"uid\": \"72699782-22ec-4a2b-8ca0-99c4a2bd8b28\"}, {\"hoverinfo\": \"text\", \"marker\": {\"color\": \"blue\", \"size\": 0.5}, \"mode\": \"markers\", \"text\": \"Informatica appears with MS SQL Server 55 times\", \"x\": [-0.8496762022685282], \"y\": [-0.29673279444397627], \"type\": \"scatter\", \"uid\": \"d7ca644b-a1c0-4d1e-880d-1cd54e8ae503\"}, {\"hoverinfo\": \"text\", \"marker\": {\"color\": \"green\", \"size\": 0.5}, \"mode\": \"markers\", \"text\": \"MS SQL Server appears with Qlik 53 times\", \"x\": [-0.29139656359998306], \"y\": [0.8515210171934225], \"type\": \"scatter\", \"uid\": \"2898b296-e076-40d2-8b2e-d4d6b2745bee\"}, {\"hoverinfo\": \"text\", \"marker\": {\"color\": \"blue\", \"size\": 0.5}, \"mode\": \"markers\", \"text\": \"Qlik appears with MS SQL Server 53 times\", \"x\": [-0.7709546434599394], \"y\": [-0.464358630508315], \"type\": \"scatter\", \"uid\": \"a53dba76-b587-4bfd-83d5-1d47b2e10028\"}, {\"hoverinfo\": \"text\", \"marker\": {\"color\": \"green\", \"size\": 0.5}, \"mode\": \"markers\", \"text\": \"MS SQL Server appears with Tableau 86 times\", \"x\": [-0.34634881450505534], \"y\": [0.8306879671037392], \"type\": \"scatter\", \"uid\": \"1e34a695-383c-46b2-b9f7-5fc7aa80e1c6\"}, {\"hoverinfo\": \"text\", \"marker\": {\"color\": \"blue\", \"size\": 0.5}, \"mode\": \"markers\", \"text\": \"Tableau appears with MS SQL Server 86 times\", \"x\": [-0.4538136853540082], \"y\": [-0.7772085556563395], \"type\": \"scatter\", \"uid\": \"d3bb50a8-4b60-4971-b2f8-1a362ba49837\"}, {\"hoverinfo\": \"text\", \"marker\": {\"color\": \"green\", \"size\": 0.5}, \"mode\": \"markers\", \"text\": \"MS SQL Server appears with Microstrategy 16 times\", \"x\": [-0.24581482074324673], \"y\": [0.8657800378288734], \"type\": \"scatter\", \"uid\": \"19dd6e43-cde1-44e4-b298-4461785fd86a\"}, {\"hoverinfo\": \"text\", \"marker\": {\"color\": \"blue\", \"size\": 0.5}, \"mode\": \"markers\", \"text\": \"Microstrategy appears with MS SQL Server 16 times\", \"x\": [-0.054427569862253194], \"y\": [-0.8983527367570545], \"type\": \"scatter\", \"uid\": \"edc2cc0a-2ce6-4735-8421-ad5f3572b48c\"}, {\"hoverinfo\": \"text\", \"marker\": {\"color\": \"green\", \"size\": 0.5}, \"mode\": \"markers\", \"text\": \"MS SQL Server appears with Oracle BI 142 times\", \"x\": [-0.4159375041393252], \"y\": [0.7981202870810571], \"type\": \"scatter\", \"uid\": \"556248ae-c4f0-43cb-83f6-c643d274d592\"}, {\"hoverinfo\": \"text\", \"marker\": {\"color\": \"blue\", \"size\": 0.5}, \"mode\": \"markers\", \"text\": \"Oracle BI appears with MS SQL Server 142 times\", \"x\": [0.24805279941529232], \"y\": [-0.8651414963474107], \"type\": \"scatter\", \"uid\": \"feb2ec20-a8c5-4c2c-bf63-6cd96c5e485f\"}, {\"hoverinfo\": \"text\", \"marker\": {\"color\": \"green\", \"size\": 0.5}, \"mode\": \"markers\", \"text\": \"MS SQL Server appears with Python 99 times\", \"x\": [-0.36668322901405925], \"y\": [0.8219144782517358], \"type\": \"scatter\", \"uid\": \"b13831f4-30b0-4e34-9ccc-ba84b3cf66ae\"}, {\"hoverinfo\": \"text\", \"marker\": {\"color\": \"blue\", \"size\": 0.5}, \"mode\": \"markers\", \"text\": \"Python appears with MS SQL Server 99 times\", \"x\": [0.6800465046582891], \"y\": [-0.5895224775206146], \"type\": \"scatter\", \"uid\": \"dbf50163-5d6d-4e60-9e18-e8818d703d75\"}, {\"hoverinfo\": \"text\", \"marker\": {\"color\": \"green\", \"size\": 0.5}, \"mode\": \"markers\", \"text\": \"MS SQL Server appears with VBA 34 times\", \"x\": [-0.2625809864615174], \"y\": [0.8608433223002293], \"type\": \"scatter\", \"uid\": \"1669a41b-b722-4478-bdfd-30589e6bf6e0\"}, {\"hoverinfo\": \"text\", \"marker\": {\"color\": \"blue\", \"size\": 0.5}, \"mode\": \"markers\", \"text\": \"VBA appears with MS SQL Server 34 times\", \"x\": [0.8306054077639954], \"y\": [-0.3465467596056945], \"type\": \"scatter\", \"uid\": \"2a003714-7637-481c-85e5-9c7101d2667f\"}, {\"hoverinfo\": \"text\", \"marker\": {\"color\": \"green\", \"size\": 0.5}, \"mode\": \"markers\", \"text\": \"MS SQL Server appears with Linux 40 times\", \"x\": [-0.2710414857497627], \"y\": [0.8582170547143427], \"type\": \"scatter\", \"uid\": \"304d9d43-4a50-4ea8-b850-e15340b09bef\"}, {\"hoverinfo\": \"text\", \"marker\": {\"color\": \"blue\", \"size\": 0.5}, \"mode\": \"markers\", \"text\": \"Linux appears with MS SQL Server 40 times\", \"x\": [0.8806930361535452], \"y\": [-0.18541784183473367], \"type\": \"scatter\", \"uid\": \"07fe6400-92d2-4068-bae2-0bf37daf1d47\"}, {\"hoverinfo\": \"text\", \"marker\": {\"color\": \"green\", \"size\": 0.5}, \"mode\": \"markers\", \"text\": \"MS SQL Server appears with AWS 9 times\", \"x\": [-0.24062818199886823], \"y\": [0.8672358837294035], \"type\": \"scatter\", \"uid\": \"137488a3-1e51-4171-a346-606f4a41848d\"}, {\"hoverinfo\": \"text\", \"marker\": {\"color\": \"blue\", \"size\": 0.5}, \"mode\": \"markers\", \"text\": \"AWS appears with MS SQL Server 9 times\", \"x\": [0.89494193271068], \"y\": [-0.09528345646581422], \"type\": \"scatter\", \"uid\": \"47e45295-dfa5-4099-a0fb-6eea63df7914\"}, {\"hoverinfo\": \"text\", \"marker\": {\"color\": \"green\", \"size\": 0.5}, \"mode\": \"markers\", \"text\": \"PostgreSQL appears with MySQL/MariaDB 68 times\", \"x\": [-0.6262675775520066], \"y\": [0.6463659345194034], \"type\": \"scatter\", \"uid\": \"4cc5b4df-5257-4774-9c41-7205dfe52e3f\"}, {\"hoverinfo\": \"text\", \"marker\": {\"color\": \"blue\", \"size\": 0.5}, \"mode\": \"markers\", \"text\": \"MySQL/MariaDB appears with PostgreSQL 68 times\", \"x\": [-0.7165784385436301], \"y\": [0.5445322225675658], \"type\": \"scatter\", \"uid\": \"3639c2c9-f22c-4883-a16b-bc02985ebdc6\"}, {\"hoverinfo\": \"text\", \"marker\": {\"color\": \"green\", \"size\": 0.5}, \"mode\": \"markers\", \"text\": \"PostgreSQL appears with T-SQL 29 times\", \"x\": [-0.5851100251373859], \"y\": [0.6838466629908548], \"type\": \"scatter\", \"uid\": \"9fcb6438-c347-4b86-89c8-9dfcc97c0444\"}, {\"hoverinfo\": \"text\", \"marker\": {\"color\": \"blue\", \"size\": 0.5}, \"mode\": \"markers\", \"text\": \"T-SQL appears with PostgreSQL 29 times\", \"x\": [-0.7645399161846504], \"y\": [0.4748459924653126], \"type\": \"scatter\", \"uid\": \"78397a90-00f1-4e87-8f37-8a50e65c8711\"}, {\"hoverinfo\": \"text\", \"marker\": {\"color\": \"green\", \"size\": 0.5}, \"mode\": \"markers\", \"text\": \"PostgreSQL appears with Pentaho 41 times\", \"x\": [-0.603657336524202], \"y\": [0.6675311378958336], \"type\": \"scatter\", \"uid\": \"372c27d7-8003-4a27-a43a-da2e31a0fe7d\"}, {\"hoverinfo\": \"text\", \"marker\": {\"color\": \"blue\", \"size\": 0.5}, \"mode\": \"markers\", \"text\": \"Pentaho appears with PostgreSQL 41 times\", \"x\": [-0.8917220597662687], \"y\": [0.12178574681054948], \"type\": \"scatter\", \"uid\": \"85100990-c056-47c6-822d-8d43a51e7aea\"}, {\"hoverinfo\": \"text\", \"marker\": {\"color\": \"green\", \"size\": 0.5}, \"mode\": \"markers\", \"text\": \"PostgreSQL appears with Hadoop 3 times\", \"x\": [-0.576101638829356], \"y\": [0.6914527472923441], \"type\": \"scatter\", \"uid\": \"8cde8cf3-0eb7-49f1-afda-cfd96f1d83f2\"}, {\"hoverinfo\": \"text\", \"marker\": {\"color\": \"blue\", \"size\": 0.5}, \"mode\": \"markers\", \"text\": \"Hadoop appears with PostgreSQL 3 times\", \"x\": [-0.8982628226187171], \"y\": [0.05589187330064335], \"type\": \"scatter\", \"uid\": \"bf8133a0-502b-4ad5-9845-46a38fd764b1\"}, {\"hoverinfo\": \"text\", \"marker\": {\"color\": \"green\", \"size\": 0.5}, \"mode\": \"markers\", \"text\": \"PostgreSQL appears with Spark 5 times\", \"x\": [-0.576676555524321], \"y\": [0.6909733354541294], \"type\": \"scatter\", \"uid\": \"7024de48-b053-4562-8cf2-36d5a508dc51\"}, {\"hoverinfo\": \"text\", \"marker\": {\"color\": \"blue\", \"size\": 0.5}, \"mode\": \"markers\", \"text\": \"Spark appears with PostgreSQL 5 times\", \"x\": [-0.8944855957459857], \"y\": [-0.09947622330461202], \"type\": \"scatter\", \"uid\": \"a4dd9285-1bb4-4fe8-864c-a8d4892fcfcc\"}, {\"hoverinfo\": \"text\", \"marker\": {\"color\": \"green\", \"size\": 0.5}, \"mode\": \"markers\", \"text\": \"PostgreSQL appears with Qlik 13 times\", \"x\": [-0.5788289367402205], \"y\": [0.6891712863956142], \"type\": \"scatter\", \"uid\": \"0c56174a-49c2-4166-b107-caf665af0b6c\"}, {\"hoverinfo\": \"text\", \"marker\": {\"color\": \"blue\", \"size\": 0.5}, \"mode\": \"markers\", \"text\": \"Qlik appears with PostgreSQL 13 times\", \"x\": [-0.793175620487976], \"y\": [-0.42529100044970897], \"type\": \"scatter\", \"uid\": \"b4ad01c4-5b4c-404a-a254-71ec8d5d3951\"}, {\"hoverinfo\": \"text\", \"marker\": {\"color\": \"green\", \"size\": 0.5}, \"mode\": \"markers\", \"text\": \"PostgreSQL appears with Tableau 6 times\", \"x\": [-0.577466414488604], \"y\": [0.6903133637252548], \"type\": \"scatter\", \"uid\": \"5cffe6ab-481a-4ac1-b87d-d348a5e04902\"}, {\"hoverinfo\": \"text\", \"marker\": {\"color\": \"blue\", \"size\": 0.5}, \"mode\": \"markers\", \"text\": \"Tableau appears with PostgreSQL 6 times\", \"x\": [-0.5369162828622165], \"y\": [-0.7223025025551416], \"type\": \"scatter\", \"uid\": \"a63aaeff-c90f-43f0-a21c-aa499dcf1391\"}, {\"hoverinfo\": \"text\", \"marker\": {\"color\": \"green\", \"size\": 0.5}, \"mode\": \"markers\", \"text\": \"PostgreSQL appears with Oracle BI 34 times\", \"x\": [-0.598433856836997], \"y\": [0.6722179103469325], \"type\": \"scatter\", \"uid\": \"586a2baf-3d38-4842-9c23-5ecd01b22fd7\"}, {\"hoverinfo\": \"text\", \"marker\": {\"color\": \"blue\", \"size\": 0.5}, \"mode\": \"markers\", \"text\": \"Oracle BI appears with PostgreSQL 34 times\", \"x\": [0.028295704736432857], \"y\": [-0.8995550861917622], \"type\": \"scatter\", \"uid\": \"b38878ff-12b2-469a-9bd1-36cf8418c9d2\"}, {\"hoverinfo\": \"text\", \"marker\": {\"color\": \"green\", \"size\": 0.5}, \"mode\": \"markers\", \"text\": \"PostgreSQL appears with Python 23 times\", \"x\": [-0.5814043592208243], \"y\": [0.6869999789512534], \"type\": \"scatter\", \"uid\": \"a9d707d1-acfc-48bf-9f3e-c492d84cc4fe\"}, {\"hoverinfo\": \"text\", \"marker\": {\"color\": \"blue\", \"size\": 0.5}, \"mode\": \"markers\", \"text\": \"Python appears with PostgreSQL 23 times\", \"x\": [0.5923092781204162], \"y\": [-0.67762063062784], \"type\": \"scatter\", \"uid\": \"81599f87-42a4-46ad-b835-929196116e9c\"}, {\"hoverinfo\": \"text\", \"marker\": {\"color\": \"green\", \"size\": 0.5}, \"mode\": \"markers\", \"text\": \"PostgreSQL appears with Linux 32 times\", \"x\": [-0.593807085087456], \"y\": [0.6763084693392053], \"type\": \"scatter\", \"uid\": \"41531b44-c55b-4832-bf03-cfc6ba0155de\"}, {\"hoverinfo\": \"text\", \"marker\": {\"color\": \"blue\", \"size\": 0.5}, \"mode\": \"markers\", \"text\": \"Linux appears with PostgreSQL 32 times\", \"x\": [0.8776749399167197], \"y\": [-0.1992152098665723], \"type\": \"scatter\", \"uid\": \"89e70d10-b559-444d-9a1a-598e43f08590\"}, {\"hoverinfo\": \"text\", \"marker\": {\"color\": \"green\", \"size\": 0.5}, \"mode\": \"markers\", \"text\": \"MySQL/MariaDB appears with T-SQL 36 times\", \"x\": [-0.6662881500324397], \"y\": [0.6050290084998812], \"type\": \"scatter\", \"uid\": \"e6cd582e-3c9c-4371-8cd7-bd345203c9f0\"}, {\"hoverinfo\": \"text\", \"marker\": {\"color\": \"blue\", \"size\": 0.5}, \"mode\": \"markers\", \"text\": \"T-SQL appears with MySQL/MariaDB 36 times\", \"x\": [-0.7763064940928116], \"y\": [0.4553550562246208], \"type\": \"scatter\", \"uid\": \"222cb0b0-861f-4c38-8d96-04486313c65f\"}, {\"hoverinfo\": \"text\", \"marker\": {\"color\": \"green\", \"size\": 0.5}, \"mode\": \"markers\", \"text\": \"MySQL/MariaDB appears with Pentaho 59 times\", \"x\": [-0.6996275279620856], \"y\": [0.5661460254366015], \"type\": \"scatter\", \"uid\": \"6db21ee9-380b-458e-9daa-0bf3623e73cd\"}, {\"hoverinfo\": \"text\", \"marker\": {\"color\": \"blue\", \"size\": 0.5}, \"mode\": \"markers\", \"text\": \"Pentaho appears with MySQL/MariaDB 59 times\", \"x\": [-0.8940779621856415], \"y\": [0.10307568837495336], \"type\": \"scatter\", \"uid\": \"cb8d6ae9-a48c-43b5-8ae2-65cd681eea05\"}, {\"hoverinfo\": \"text\", \"marker\": {\"color\": \"green\", \"size\": 0.5}, \"mode\": \"markers\", \"text\": \"MySQL/MariaDB appears with Hadoop 4 times\", \"x\": [-0.6515522352740388], \"y\": [0.6208701029276604], \"type\": \"scatter\", \"uid\": \"bb01b590-54a2-49c9-aefb-f899c3143a87\"}, {\"hoverinfo\": \"text\", \"marker\": {\"color\": \"blue\", \"size\": 0.5}, \"mode\": \"markers\", \"text\": \"Hadoop appears with MySQL/MariaDB 4 times\", \"x\": [-0.8983471487638285], \"y\": [0.05451972402626347], \"type\": \"scatter\", \"uid\": \"28a8bb86-0ff6-4d94-ae74-c621891f38fc\"}, {\"hoverinfo\": \"text\", \"marker\": {\"color\": \"green\", \"size\": 0.5}, \"mode\": \"markers\", \"text\": \"MySQL/MariaDB appears with Spark 19 times\", \"x\": [-0.6574488102175244], \"y\": [0.6146226988515486], \"type\": \"scatter\", \"uid\": \"bd12c9d9-45c2-4f09-a8d7-8c89276968c8\"}, {\"hoverinfo\": \"text\", \"marker\": {\"color\": \"blue\", \"size\": 0.5}, \"mode\": \"markers\", \"text\": \"Spark appears with MySQL/MariaDB 19 times\", \"x\": [-0.8928446985437626], \"y\": [-0.11326228093367073], \"type\": \"scatter\", \"uid\": \"316ce801-fc9c-41b5-be2d-741346b85a46\"}, {\"hoverinfo\": \"text\", \"marker\": {\"color\": \"green\", \"size\": 0.5}, \"mode\": \"markers\", \"text\": \"MySQL/MariaDB appears with Informatica 8 times\", \"x\": [-0.6531596688682502], \"y\": [0.6191788489313228], \"type\": \"scatter\", \"uid\": \"a87d4d21-fae4-46a2-864a-95b3e97fc8b0\"}, {\"hoverinfo\": \"text\", \"marker\": {\"color\": \"blue\", \"size\": 0.5}, \"mode\": \"markers\", \"text\": \"Informatica appears with MySQL/MariaDB 8 times\", \"x\": [-0.8612591043799332], \"y\": [-0.2612140025394416], \"type\": \"scatter\", \"uid\": \"e4473be0-ed13-4834-91a7-f71b6fb19d77\"}, {\"hoverinfo\": \"text\", \"marker\": {\"color\": \"green\", \"size\": 0.5}, \"mode\": \"markers\", \"text\": \"MySQL/MariaDB appears with Qlik 16 times\", \"x\": [-0.6549082256106571], \"y\": [0.617329098639859], \"type\": \"scatter\", \"uid\": \"78ac8137-b8dd-4077-a485-3189a0572f98\"}, {\"hoverinfo\": \"text\", \"marker\": {\"color\": \"blue\", \"size\": 0.5}, \"mode\": \"markers\", \"text\": \"Qlik appears with MySQL/MariaDB 16 times\", \"x\": [-0.7898002213828718], \"y\": [-0.43152706786894246], \"type\": \"scatter\", \"uid\": \"683d66be-75b2-49ce-9544-10cfe6531f09\"}, {\"hoverinfo\": \"text\", \"marker\": {\"color\": \"green\", \"size\": 0.5}, \"mode\": \"markers\", \"text\": \"MySQL/MariaDB appears with Tableau 38 times\", \"x\": [-0.6715388032670172], \"y\": [0.5991958241732851], \"type\": \"scatter\", \"uid\": \"0d296fa5-ce98-4b57-804e-d67e2b2dfd4d\"}, {\"hoverinfo\": \"text\", \"marker\": {\"color\": \"blue\", \"size\": 0.5}, \"mode\": \"markers\", \"text\": \"Tableau appears with MySQL/MariaDB 38 times\", \"x\": [-0.499990460361388], \"y\": [-0.7483378512059959], \"type\": \"scatter\", \"uid\": \"03c4c68a-6c05-41cd-89eb-e6fdf95131f4\"}, {\"hoverinfo\": \"text\", \"marker\": {\"color\": \"green\", \"size\": 0.5}, \"mode\": \"markers\", \"text\": \"MySQL/MariaDB appears with Oracle BI 55 times\", \"x\": [-0.6919590061950207], \"y\": [0.5754934697679891], \"type\": \"scatter\", \"uid\": \"0d354172-b8a8-4f65-ac61-44e3891285a7\"}, {\"hoverinfo\": \"text\", \"marker\": {\"color\": \"blue\", \"size\": 0.5}, \"mode\": \"markers\", \"text\": \"Oracle BI appears with MySQL/MariaDB 55 times\", \"x\": [0.07132012911426798], \"y\": [-0.8971696824921829], \"type\": \"scatter\", \"uid\": \"8bb5b976-b1af-4118-8c1d-24b9c7282ccb\"}, {\"hoverinfo\": \"text\", \"marker\": {\"color\": \"green\", \"size\": 0.5}, \"mode\": \"markers\", \"text\": \"MySQL/MariaDB appears with Python 46 times\", \"x\": [-0.6774370987595818], \"y\": [0.5925191787817511], \"type\": \"scatter\", \"uid\": \"7856c0c9-97b3-4977-96b4-f008ae9edc51\"}, {\"hoverinfo\": \"text\", \"marker\": {\"color\": \"blue\", \"size\": 0.5}, \"mode\": \"markers\", \"text\": \"Python appears with MySQL/MariaDB 46 times\", \"x\": [0.6155039353967736], \"y\": [-0.6566238691298728], \"type\": \"scatter\", \"uid\": \"c0699a53-50c8-4ddf-81f8-c3934300e9d9\"}, {\"hoverinfo\": \"text\", \"marker\": {\"color\": \"green\", \"size\": 0.5}, \"mode\": \"markers\", \"text\": \"MySQL/MariaDB appears with VBA 4 times\", \"x\": [-0.6509666276405158], \"y\": [0.6214840703496222], \"type\": \"scatter\", \"uid\": \"a398395a-9614-4a89-93b1-87a4088c07fc\"}, {\"hoverinfo\": \"text\", \"marker\": {\"color\": \"blue\", \"size\": 0.5}, \"mode\": \"markers\", \"text\": \"VBA appears with MySQL/MariaDB 4 times\", \"x\": [0.819545191724812], \"y\": [-0.3719484893378935], \"type\": \"scatter\", \"uid\": \"11e4d9c6-23a6-4baf-88fb-f2384e6b3c74\"}, {\"hoverinfo\": \"text\", \"marker\": {\"color\": \"green\", \"size\": 0.5}, \"mode\": \"markers\", \"text\": \"MySQL/MariaDB appears with Linux 34 times\", \"x\": [-0.6612746763215045], \"y\": [0.6105045474489846], \"type\": \"scatter\", \"uid\": \"a54741a6-bc29-4ed8-8a22-30e1d8abfd1c\"}, {\"hoverinfo\": \"text\", \"marker\": {\"color\": \"blue\", \"size\": 0.5}, \"mode\": \"markers\", \"text\": \"Linux appears with MySQL/MariaDB 34 times\", \"x\": [0.8791247329546072], \"y\": [-0.19271664149079207], \"type\": \"scatter\", \"uid\": \"86935df4-0b37-4a20-ba0d-5e87dc7fd343\"}, {\"hoverinfo\": \"text\", \"marker\": {\"color\": \"green\", \"size\": 0.5}, \"mode\": \"markers\", \"text\": \"T-SQL appears with PL/SQL 30 times\", \"x\": [-0.7681155871994775], \"y\": [0.4690399180253232], \"type\": \"scatter\", \"uid\": \"22b83ab1-24a8-447f-bb8c-514d2f217076\"}, {\"hoverinfo\": \"text\", \"marker\": {\"color\": \"blue\", \"size\": 0.5}, \"mode\": \"markers\", \"text\": \"PL/SQL appears with T-SQL 30 times\", \"x\": [-0.8685886730924324], \"y\": [0.2356983601460303], \"type\": \"scatter\", \"uid\": \"f1c17dd1-931c-4f11-bdcf-083503e07049\"}, {\"hoverinfo\": \"text\", \"marker\": {\"color\": \"green\", \"size\": 0.5}, \"mode\": \"markers\", \"text\": \"T-SQL appears with Pentaho 36 times\", \"x\": [-0.7720632320362316], \"y\": [0.46251309790941925], \"type\": \"scatter\", \"uid\": \"d13883e9-ccf2-416f-b877-539c9366fbbc\"}, {\"hoverinfo\": \"text\", \"marker\": {\"color\": \"blue\", \"size\": 0.5}, \"mode\": \"markers\", \"text\": \"Pentaho appears with T-SQL 36 times\", \"x\": [-0.8906321195845802], \"y\": [0.12951612858743922], \"type\": \"scatter\", \"uid\": \"cd38a384-e133-4ec2-81db-3f61fd0fb0cb\"}, {\"hoverinfo\": \"text\", \"marker\": {\"color\": \"green\", \"size\": 0.5}, \"mode\": \"markers\", \"text\": \"T-SQL appears with Hadoop 16 times\", \"x\": [-0.7556917800808247], \"y\": [0.4888045964578019], \"type\": \"scatter\", \"uid\": \"139a236b-b6f2-4ec1-95e0-6eefc31fc814\"}, {\"hoverinfo\": \"text\", \"marker\": {\"color\": \"blue\", \"size\": 0.5}, \"mode\": \"markers\", \"text\": \"Hadoop appears with T-SQL 16 times\", \"x\": [-0.8987091817414411], \"y\": [0.048185128967654], \"type\": \"scatter\", \"uid\": \"e9f9ad3d-23e7-49e8-b811-e86e5b218067\"}, {\"hoverinfo\": \"text\", \"marker\": {\"color\": \"green\", \"size\": 0.5}, \"mode\": \"markers\", \"text\": \"T-SQL appears with Spark 16 times\", \"x\": [-0.7536767787889925], \"y\": [0.49190579699191184], \"type\": \"scatter\", \"uid\": \"46a3323d-cf8e-4580-87f3-f1b7eea0f5bc\"}, {\"hoverinfo\": \"text\", \"marker\": {\"color\": \"blue\", \"size\": 0.5}, \"mode\": \"markers\", \"text\": \"Spark appears with T-SQL 16 times\", \"x\": [-0.8933073961690015], \"y\": [-0.1095531649463345], \"type\": \"scatter\", \"uid\": \"105aa2b8-fd17-47cd-ac8c-e088e74bff0e\"}, {\"hoverinfo\": \"text\", \"marker\": {\"color\": \"green\", \"size\": 0.5}, \"mode\": \"markers\", \"text\": \"T-SQL appears with Informatica 12 times\", \"x\": [-0.7519032117013142], \"y\": [0.49461253545906897], \"type\": \"scatter\", \"uid\": \"48e26eb5-51f6-45a5-8040-7c26352df66b\"}, {\"hoverinfo\": \"text\", \"marker\": {\"color\": \"blue\", \"size\": 0.5}, \"mode\": \"markers\", \"text\": \"Informatica appears with T-SQL 12 times\", \"x\": [-0.858639811580523], \"y\": [-0.2696992287140695], \"type\": \"scatter\", \"uid\": \"25733953-c423-4927-9a9a-818d16eff253\"}, {\"hoverinfo\": \"text\", \"marker\": {\"color\": \"green\", \"size\": 0.5}, \"mode\": \"markers\", \"text\": \"T-SQL appears with Qlik 66 times\", \"x\": [-0.7916247906987939], \"y\": [0.42817074952767487], \"type\": \"scatter\", \"uid\": \"0f5fb3a8-6073-4a50-8712-a34673aee670\"}, {\"hoverinfo\": \"text\", \"marker\": {\"color\": \"blue\", \"size\": 0.5}, \"mode\": \"markers\", \"text\": \"Qlik appears with T-SQL 66 times\", \"x\": [-0.7634783515933095], \"y\": [-0.47655094863861397], \"type\": \"scatter\", \"uid\": \"27e3a859-1528-43bd-938d-f6c13a100e9b\"}, {\"hoverinfo\": \"text\", \"marker\": {\"color\": \"green\", \"size\": 0.5}, \"mode\": \"markers\", \"text\": \"T-SQL appears with Tableau 89 times\", \"x\": [-0.799989835098445], \"y\": [0.41233028477079253], \"type\": \"scatter\", \"uid\": \"f89ff0b7-2698-4312-ac40-deb255ec2304\"}, {\"hoverinfo\": \"text\", \"marker\": {\"color\": \"blue\", \"size\": 0.5}, \"mode\": \"markers\", \"text\": \"Tableau appears with T-SQL 89 times\", \"x\": [-0.43523152672309884], \"y\": [-0.7877648876068801], \"type\": \"scatter\", \"uid\": \"22dfa54c-da00-44f7-9a01-c7db6a745df3\"}, {\"hoverinfo\": \"text\", \"marker\": {\"color\": \"green\", \"size\": 0.5}, \"mode\": \"markers\", \"text\": \"T-SQL appears with Microstrategy 9 times\", \"x\": [-0.7505666558013327], \"y\": [0.4966383948097487], \"type\": \"scatter\", \"uid\": \"d6ab6aea-a759-40ac-b9e3-5ed94cf45c57\"}, {\"hoverinfo\": \"text\", \"marker\": {\"color\": \"blue\", \"size\": 0.5}, \"mode\": \"markers\", \"text\": \"Microstrategy appears with T-SQL 9 times\", \"x\": [-0.060377400173715436], \"y\": [-0.8979724770549836], \"type\": \"scatter\", \"uid\": \"cd6139aa-762f-4424-aab2-8ff07a42c7cd\"}, {\"hoverinfo\": \"text\", \"marker\": {\"color\": \"green\", \"size\": 0.5}, \"mode\": \"markers\", \"text\": \"T-SQL appears with Oracle BI 122 times\", \"x\": [-0.8215743081223355], \"y\": [0.36744476623474426], \"type\": \"scatter\", \"uid\": \"72384ada-2088-4fac-a4bb-88be76682c11\"}, {\"hoverinfo\": \"text\", \"marker\": {\"color\": \"blue\", \"size\": 0.5}, \"mode\": \"markers\", \"text\": \"Oracle BI appears with T-SQL 122 times\", \"x\": [0.15568580749190525], \"y\": [-0.8864321346530671], \"type\": \"scatter\", \"uid\": \"91692672-0297-4056-9719-ded163c64157\"}, {\"hoverinfo\": \"text\", \"marker\": {\"color\": \"green\", \"size\": 0.5}, \"mode\": \"markers\", \"text\": \"T-SQL appears with Python 46 times\", \"x\": [-0.785384997295787], \"y\": [0.43951155391263236], \"type\": \"scatter\", \"uid\": \"9641b2d7-7ab1-46cc-960c-06f75b0c1120\"}, {\"hoverinfo\": \"text\", \"marker\": {\"color\": \"blue\", \"size\": 0.5}, \"mode\": \"markers\", \"text\": \"Python appears with T-SQL 46 times\", \"x\": [0.623503942112148], \"y\": [-0.6490322289151835], \"type\": \"scatter\", \"uid\": \"d5f13e7e-e9b3-43f2-898d-63c13dfa496b\"}, {\"hoverinfo\": \"text\", \"marker\": {\"color\": \"green\", \"size\": 0.5}, \"mode\": \"markers\", \"text\": \"T-SQL appears with VBA 26 times\", \"x\": [-0.7611671350869487], \"y\": [0.4802338934972487], \"type\": \"scatter\", \"uid\": \"b2bbbefd-972b-4cb3-ba4f-97346a3aab49\"}, {\"hoverinfo\": \"text\", \"marker\": {\"color\": \"blue\", \"size\": 0.5}, \"mode\": \"markers\", \"text\": \"VBA appears with T-SQL 26 times\", \"x\": [0.8234326157922313], \"y\": [-0.3632612382976796], \"type\": \"scatter\", \"uid\": \"540912f3-4801-4908-8482-19f629ea3c40\"}, {\"hoverinfo\": \"text\", \"marker\": {\"color\": \"green\", \"size\": 0.5}, \"mode\": \"markers\", \"text\": \"T-SQL appears with Linux 23 times\", \"x\": [-0.7581303065543943], \"y\": [0.48501385370290206], \"type\": \"scatter\", \"uid\": \"6da2fdbd-2aec-413a-b2c7-16c43c78246c\"}, {\"hoverinfo\": \"text\", \"marker\": {\"color\": \"blue\", \"size\": 0.5}, \"mode\": \"markers\", \"text\": \"Linux appears with T-SQL 23 times\", \"x\": [0.8749395854624601], \"y\": [-0.21090453240928347], \"type\": \"scatter\", \"uid\": \"f1137f04-7d6c-40eb-9c29-c10bbc7f96d7\"}, {\"hoverinfo\": \"text\", \"marker\": {\"color\": \"green\", \"size\": 0.5}, \"mode\": \"markers\", \"text\": \"T-SQL appears with AWS 8 times\", \"x\": [-0.7494806837391859], \"y\": [0.49827573160032834], \"type\": \"scatter\", \"uid\": \"b7a2e97f-47c0-432f-826f-c459307c4e57\"}, {\"hoverinfo\": \"text\", \"marker\": {\"color\": \"blue\", \"size\": 0.5}, \"mode\": \"markers\", \"text\": \"AWS appears with T-SQL 8 times\", \"x\": [0.8947732996720682], \"y\": [-0.09685423167812174], \"type\": \"scatter\", \"uid\": \"bc07353f-f7f2-4a78-b033-05854909628e\"}, {\"hoverinfo\": \"text\", \"marker\": {\"color\": \"green\", \"size\": 0.5}, \"mode\": \"markers\", \"text\": \"PL/SQL appears with Pentaho 8 times\", \"x\": [-0.8630906114382284], \"y\": [0.25509722939927276], \"type\": \"scatter\", \"uid\": \"083785e0-2106-4a35-bb69-ff2bd84c9b9b\"}, {\"hoverinfo\": \"text\", \"marker\": {\"color\": \"blue\", \"size\": 0.5}, \"mode\": \"markers\", \"text\": \"Pentaho appears with PL/SQL 8 times\", \"x\": [-0.8810279802036889], \"y\": [0.1838197434940229], \"type\": \"scatter\", \"uid\": \"c3b7f7b3-62e9-473e-9609-1dfb5104b260\"}, {\"hoverinfo\": \"text\", \"marker\": {\"color\": \"green\", \"size\": 0.5}, \"mode\": \"markers\", \"text\": \"PL/SQL appears with Hadoop 3 times\", \"x\": [-0.8623384874711051], \"y\": [0.2576282846002099], \"type\": \"scatter\", \"uid\": \"d07d2803-fad9-41b7-afaf-8e68d8a1759e\"}, {\"hoverinfo\": \"text\", \"marker\": {\"color\": \"blue\", \"size\": 0.5}, \"mode\": \"markers\", \"text\": \"Hadoop appears with PL/SQL 3 times\", \"x\": [-0.898302002819935], \"y\": [0.05525858964625869], \"type\": \"scatter\", \"uid\": \"83011ec2-1e60-40f4-843d-6b6c8a5d983b\"}, {\"hoverinfo\": \"text\", \"marker\": {\"color\": \"green\", \"size\": 0.5}, \"mode\": \"markers\", \"text\": \"PL/SQL appears with Informatica 24 times\", \"x\": [-0.8663289629798256], \"y\": [0.24387317995691915], \"type\": \"scatter\", \"uid\": \"110a43f2-0ba1-4a5b-b656-8377b0b7088d\"}, {\"hoverinfo\": \"text\", \"marker\": {\"color\": \"blue\", \"size\": 0.5}, \"mode\": \"markers\", \"text\": \"Informatica appears with PL/SQL 24 times\", \"x\": [-0.8546560928739627], \"y\": [-0.28206907472002757], \"type\": \"scatter\", \"uid\": \"902ebed5-f064-4bba-9981-fb9a89289d26\"}, {\"hoverinfo\": \"text\", \"marker\": {\"color\": \"green\", \"size\": 0.5}, \"mode\": \"markers\", \"text\": \"PL/SQL appears with Qlik 12 times\", \"x\": [-0.8639923164714958], \"y\": [0.2520263420323731], \"type\": \"scatter\", \"uid\": \"b06265a9-e0ad-432b-a6ac-43dad59186f5\"}, {\"hoverinfo\": \"text\", \"marker\": {\"color\": \"blue\", \"size\": 0.5}, \"mode\": \"markers\", \"text\": \"Qlik appears with PL/SQL 12 times\", \"x\": [-0.7945910345172769], \"y\": [-0.4226406131274701], \"type\": \"scatter\", \"uid\": \"cc3d5917-1f0a-47b0-8357-12454d6768a0\"}, {\"hoverinfo\": \"text\", \"marker\": {\"color\": \"green\", \"size\": 0.5}, \"mode\": \"markers\", \"text\": \"PL/SQL appears with Tableau 15 times\", \"x\": [-0.8645947913336012], \"y\": [0.24995168892969455], \"type\": \"scatter\", \"uid\": \"2427cb87-accc-4820-b668-e6831efe031b\"}, {\"hoverinfo\": \"text\", \"marker\": {\"color\": \"blue\", \"size\": 0.5}, \"mode\": \"markers\", \"text\": \"Tableau appears with PL/SQL 15 times\", \"x\": [-0.5322988245155978], \"y\": [-0.7257120375323209], \"type\": \"scatter\", \"uid\": \"12cecb40-78e4-43cb-aeed-1110b3892e5a\"}, {\"hoverinfo\": \"text\", \"marker\": {\"color\": \"green\", \"size\": 0.5}, \"mode\": \"markers\", \"text\": \"PL/SQL appears with Microstrategy 20 times\", \"x\": [-0.8653683622461507], \"y\": [0.24726018204194358], \"type\": \"scatter\", \"uid\": \"96fc26a3-2bea-40f7-be8c-3b24f542be87\"}, {\"hoverinfo\": \"text\", \"marker\": {\"color\": \"blue\", \"size\": 0.5}, \"mode\": \"markers\", \"text\": \"Microstrategy appears with PL/SQL 20 times\", \"x\": [-0.048713482447571996], \"y\": [-0.8986806978164324], \"type\": \"scatter\", \"uid\": \"29f6738e-4da4-4a9f-b6fa-b19b75fc72be\"}, {\"hoverinfo\": \"text\", \"marker\": {\"color\": \"green\", \"size\": 0.5}, \"mode\": \"markers\", \"text\": \"PL/SQL appears with Oracle BI 74 times\", \"x\": [-0.872720304201826], \"y\": [0.21990741377650794], \"type\": \"scatter\", \"uid\": \"95c37919-fed2-451c-8e3c-5c3c3b6c71be\"}, {\"hoverinfo\": \"text\", \"marker\": {\"color\": \"blue\", \"size\": 0.5}, \"mode\": \"markers\", \"text\": \"Oracle BI appears with PL/SQL 74 times\", \"x\": [0.10241317863876248], \"y\": [-0.8941540923359379], \"type\": \"scatter\", \"uid\": \"fec96063-427f-4f06-9f08-fd731b597b8d\"}, {\"hoverinfo\": \"text\", \"marker\": {\"color\": \"green\", \"size\": 0.5}, \"mode\": \"markers\", \"text\": \"PL/SQL appears with Python 2 times\", \"x\": [-0.8622238816310442], \"y\": [0.2580115849048161], \"type\": \"scatter\", \"uid\": \"73b9d3fb-5b57-4abc-92f1-9850385df335\"}, {\"hoverinfo\": \"text\", \"marker\": {\"color\": \"blue\", \"size\": 0.5}, \"mode\": \"markers\", \"text\": \"Python appears with PL/SQL 2 times\", \"x\": [0.5875108934154428], \"y\": [-0.6817851201941769], \"type\": \"scatter\", \"uid\": \"e3c8ffff-8440-4923-9073-c705d7e38399\"}, {\"hoverinfo\": \"text\", \"marker\": {\"color\": \"green\", \"size\": 0.5}, \"mode\": \"markers\", \"text\": \"PL/SQL appears with VBA 6 times\", \"x\": [-0.8627724354635428], \"y\": [0.2561712798193955], \"type\": \"scatter\", \"uid\": \"489d5c9e-307b-4994-972e-ae2de99b8d77\"}, {\"hoverinfo\": \"text\", \"marker\": {\"color\": \"blue\", \"size\": 0.5}, \"mode\": \"markers\", \"text\": \"VBA appears with PL/SQL 6 times\", \"x\": [0.8214571876732712], \"y\": [-0.36770652539752396], \"type\": \"scatter\", \"uid\": \"bc033fd3-a03c-428f-bd39-ed391d14dfe8\"}, {\"hoverinfo\": \"text\", \"marker\": {\"color\": \"green\", \"size\": 0.5}, \"mode\": \"markers\", \"text\": \"PL/SQL appears with Linux 1 times\", \"x\": [-0.8621550363465611], \"y\": [0.25824154062090743], \"type\": \"scatter\", \"uid\": \"7bd0ee96-66dc-4086-b12b-56f492b50ad9\"}, {\"hoverinfo\": \"text\", \"marker\": {\"color\": \"blue\", \"size\": 0.5}, \"mode\": \"markers\", \"text\": \"Linux appears with PL/SQL 1 times\", \"x\": [0.8709657043451798], \"y\": [-0.22675701059615508], \"type\": \"scatter\", \"uid\": \"adaee625-4994-401e-bf49-c4f58eed5785\"}, {\"hoverinfo\": \"text\", \"marker\": {\"color\": \"green\", \"size\": 0.5}, \"mode\": \"markers\", \"text\": \"PL/SQL appears with AWS 1 times\", \"x\": [-0.8621091054180755], \"y\": [0.25839483422709053], \"type\": \"scatter\", \"uid\": \"61d6549d-db6e-4968-ad87-cfbc48d9f9d9\"}, {\"hoverinfo\": \"text\", \"marker\": {\"color\": \"blue\", \"size\": 0.5}, \"mode\": \"markers\", \"text\": \"AWS appears with PL/SQL 1 times\", \"x\": [0.8943967453723264], \"y\": [-0.10027193958127133], \"type\": \"scatter\", \"uid\": \"2a5aa491-d75c-4acc-b455-78a2fea5a20e\"}, {\"hoverinfo\": \"text\", \"marker\": {\"color\": \"green\", \"size\": 0.5}, \"mode\": \"markers\", \"text\": \"Pentaho appears with Spark 6 times\", \"x\": [-0.8807369742779018], \"y\": [0.18520902283583962], \"type\": \"scatter\", \"uid\": \"ce206e80-6de0-407e-828b-d536ee307ed5\"}, {\"hoverinfo\": \"text\", \"marker\": {\"color\": \"blue\", \"size\": 0.5}, \"mode\": \"markers\", \"text\": \"Spark appears with Pentaho 6 times\", \"x\": [-0.8942107705735105], \"y\": [-0.10191711235277649], \"type\": \"scatter\", \"uid\": \"54159245-6d34-4ab3-826f-61e45c6a821b\"}, {\"hoverinfo\": \"text\", \"marker\": {\"color\": \"green\", \"size\": 0.5}, \"mode\": \"markers\", \"text\": \"Pentaho appears with Informatica 32 times\", \"x\": [-0.8861044514268389], \"y\": [0.15754015729819779], \"type\": \"scatter\", \"uid\": \"e630bbc5-35d2-4eac-a735-35cde0b3a68f\"}, {\"hoverinfo\": \"text\", \"marker\": {\"color\": \"blue\", \"size\": 0.5}, \"mode\": \"markers\", \"text\": \"Informatica appears with Pentaho 32 times\", \"x\": [-0.8527359903384478], \"y\": [-0.28782169963626214], \"type\": \"scatter\", \"uid\": \"51bc30da-6b1a-4bb6-bfe1-1cd3ee56ed58\"}, {\"hoverinfo\": \"text\", \"marker\": {\"color\": \"green\", \"size\": 0.5}, \"mode\": \"markers\", \"text\": \"Pentaho appears with Qlik 28 times\", \"x\": [-0.882609161977617], \"y\": [0.17607119921545614], \"type\": \"scatter\", \"uid\": \"18a3ce3b-065b-4226-826a-5b093e97b7e0\"}, {\"hoverinfo\": \"text\", \"marker\": {\"color\": \"blue\", \"size\": 0.5}, \"mode\": \"markers\", \"text\": \"Qlik appears with Pentaho 28 times\", \"x\": [-0.7872510475826097], \"y\": [-0.43616027797139395], \"type\": \"scatter\", \"uid\": \"bce20218-24b6-414a-96b7-e8cae31c131d\"}, {\"hoverinfo\": \"text\", \"marker\": {\"color\": \"green\", \"size\": 0.5}, \"mode\": \"markers\", \"text\": \"Pentaho appears with Tableau 36 times\", \"x\": [-0.8884140088042907], \"y\": [0.1439463405588684], \"type\": \"scatter\", \"uid\": \"d782bba9-b57a-437c-a668-d761ce896ffd\"}, {\"hoverinfo\": \"text\", \"marker\": {\"color\": \"blue\", \"size\": 0.5}, \"mode\": \"markers\", \"text\": \"Tableau appears with Pentaho 36 times\", \"x\": [-0.5074794557943827], \"y\": [-0.7432796256770645], \"type\": \"scatter\", \"uid\": \"eb9bc2df-6338-45fc-b1bc-8f9394403fc3\"}, {\"hoverinfo\": \"text\", \"marker\": {\"color\": \"green\", \"size\": 0.5}, \"mode\": \"markers\", \"text\": \"Pentaho appears with Microstrategy 3 times\", \"x\": [-0.8805487421537542], \"y\": [0.1861018879308891], \"type\": \"scatter\", \"uid\": \"8be0c305-0aed-4273-904e-4560da02b570\"}, {\"hoverinfo\": \"text\", \"marker\": {\"color\": \"blue\", \"size\": 0.5}, \"mode\": \"markers\", \"text\": \"Microstrategy appears with Pentaho 3 times\", \"x\": [-0.06354957624546338], \"y\": [-0.8977535582547262], \"type\": \"scatter\", \"uid\": \"3bb3ee61-1f4d-4300-bdb8-b685ae4ddd08\"}, {\"hoverinfo\": \"text\", \"marker\": {\"color\": \"green\", \"size\": 0.5}, \"mode\": \"markers\", \"text\": \"Pentaho appears with Oracle BI 36 times\", \"x\": [-0.8895523253233858], \"y\": [0.1367357323882723], \"type\": \"scatter\", \"uid\": \"76f186a1-57bc-4f57-aef5-b6ecab497e65\"}, {\"hoverinfo\": \"text\", \"marker\": {\"color\": \"blue\", \"size\": 0.5}, \"mode\": \"markers\", \"text\": \"Oracle BI appears with Pentaho 36 times\", \"x\": [0.03693361355626729], \"y\": [-0.8992418518895104], \"type\": \"scatter\", \"uid\": \"782a9ede-e066-404a-ae7d-0311c3efc0e0\"}, {\"hoverinfo\": \"text\", \"marker\": {\"color\": \"green\", \"size\": 0.5}, \"mode\": \"markers\", \"text\": \"Pentaho appears with Python 34 times\", \"x\": [-0.8872512768864519], \"y\": [0.15094757919013044], \"type\": \"scatter\", \"uid\": \"ecd20f42-9ac8-4938-a2ce-67faa91eac16\"}, {\"hoverinfo\": \"text\", \"marker\": {\"color\": \"blue\", \"size\": 0.5}, \"mode\": \"markers\", \"text\": \"Python appears with Pentaho 34 times\", \"x\": [0.6017281139133377], \"y\": [-0.669270705265289], \"type\": \"scatter\", \"uid\": \"e746788a-0a40-403d-b0a0-987cf5d74137\"}, {\"hoverinfo\": \"text\", \"marker\": {\"color\": \"green\", \"size\": 0.5}, \"mode\": \"markers\", \"text\": \"Pentaho appears with VBA 1 times\", \"x\": [-0.880464792875196], \"y\": [0.18649865551053815], \"type\": \"scatter\", \"uid\": \"d4dc46a3-0b67-4b08-8606-64a1201e65f3\"}, {\"hoverinfo\": \"text\", \"marker\": {\"color\": \"blue\", \"size\": 0.5}, \"mode\": \"markers\", \"text\": \"VBA appears with Pentaho 1 times\", \"x\": [0.8190637680544761], \"y\": [-0.37300743137423337], \"type\": \"scatter\", \"uid\": \"1d39d3a6-7ff6-4606-b3db-3fb0ca63c393\"}, {\"hoverinfo\": \"text\", \"marker\": {\"color\": \"green\", \"size\": 0.5}, \"mode\": \"markers\", \"text\": \"Pentaho appears with Linux 32 times\", \"x\": [-0.8849455973004985], \"y\": [0.16392464676937402], \"type\": \"scatter\", \"uid\": \"b67b1bdf-37eb-49d8-9a69-1bbf71c8a6fc\"}, {\"hoverinfo\": \"text\", \"marker\": {\"color\": \"blue\", \"size\": 0.5}, \"mode\": \"markers\", \"text\": \"Linux appears with Pentaho 32 times\", \"x\": [0.8762232033685599], \"y\": [-0.20550644242587507], \"type\": \"scatter\", \"uid\": \"f7311811-3ac8-4006-b440-02766a738196\"}, {\"hoverinfo\": \"text\", \"marker\": {\"color\": \"green\", \"size\": 0.5}, \"mode\": \"markers\", \"text\": \"Pentaho appears with AWS 13 times\", \"x\": [-0.8817865162272668], \"y\": [0.1801458847705943], \"type\": \"scatter\", \"uid\": \"354ec489-f7cf-4133-ac3f-c3cdb34b1fa1\"}, {\"hoverinfo\": \"text\", \"marker\": {\"color\": \"blue\", \"size\": 0.5}, \"mode\": \"markers\", \"text\": \"AWS appears with Pentaho 13 times\", \"x\": [0.8951560703215898], \"y\": [-0.09325025343884548], \"type\": \"scatter\", \"uid\": \"ed514f8a-8b1a-4704-aa13-4764a129755f\"}, {\"hoverinfo\": \"text\", \"marker\": {\"color\": \"green\", \"size\": 0.5}, \"mode\": \"markers\", \"text\": \"Hadoop appears with Spark 110 times\", \"x\": [-0.8993713186519213], \"y\": [-0.033633780434323496], \"type\": \"scatter\", \"uid\": \"97b441b0-fafb-4193-8c6f-cc19d024201a\"}, {\"hoverinfo\": \"text\", \"marker\": {\"color\": \"blue\", \"size\": 0.5}, \"mode\": \"markers\", \"text\": \"Spark appears with Hadoop 110 times\", \"x\": [-0.879130316807942], \"y\": [-0.19269116759511237], \"type\": \"scatter\", \"uid\": \"250518d5-b982-4667-9d21-2b5e42eecab1\"}, {\"hoverinfo\": \"text\", \"marker\": {\"color\": \"green\", \"size\": 0.5}, \"mode\": \"markers\", \"text\": \"Hadoop appears with Informatica 5 times\", \"x\": [-0.8984043005581092], \"y\": [0.05356969981897168], \"type\": \"scatter\", \"uid\": \"7457d843-a975-43a4-92dd-ddba6fde9106\"}, {\"hoverinfo\": \"text\", \"marker\": {\"color\": \"blue\", \"size\": 0.5}, \"mode\": \"markers\", \"text\": \"Informatica appears with Hadoop 5 times\", \"x\": [-0.862041001782077], \"y\": [-0.25862194656786786], \"type\": \"scatter\", \"uid\": \"21e2c8aa-74d4-4e75-ab7e-d1d173f7372a\"}, {\"hoverinfo\": \"text\", \"marker\": {\"color\": \"green\", \"size\": 0.5}, \"mode\": \"markers\", \"text\": \"Hadoop appears with Qlik 9 times\", \"x\": [-0.898563761983027], \"y\": [0.05082485268950691], \"type\": \"scatter\", \"uid\": \"a2c97bb3-6410-4087-8a69-594c92446ab8\"}, {\"hoverinfo\": \"text\", \"marker\": {\"color\": \"blue\", \"size\": 0.5}, \"mode\": \"markers\", \"text\": \"Qlik appears with Hadoop 9 times\", \"x\": [-0.7957731388721303], \"y\": [-0.4204106462134342], \"type\": \"scatter\", \"uid\": \"12f1d51c-d28e-45dc-85ae-c58be84f7d8a\"}, {\"hoverinfo\": \"text\", \"marker\": {\"color\": \"green\", \"size\": 0.5}, \"mode\": \"markers\", \"text\": \"Hadoop appears with Tableau 35 times\", \"x\": [-0.899778382638563], \"y\": [0.019971533149255583], \"type\": \"scatter\", \"uid\": \"af9a8424-0ae6-492b-8d0a-4b93a0e5ce57\"}, {\"hoverinfo\": \"text\", \"marker\": {\"color\": \"blue\", \"size\": 0.5}, \"mode\": \"markers\", \"text\": \"Tableau appears with Hadoop 35 times\", \"x\": [-0.5146167542264511], \"y\": [-0.7383560091645713], \"type\": \"scatter\", \"uid\": \"226b4ac6-56ac-4e0e-8f2d-3431df128066\"}, {\"hoverinfo\": \"text\", \"marker\": {\"color\": \"green\", \"size\": 0.5}, \"mode\": \"markers\", \"text\": \"Hadoop appears with Microstrategy 3 times\", \"x\": [-0.8982231959661549], \"y\": [0.05652512917585098], \"type\": \"scatter\", \"uid\": \"86167ac5-85b6-4ecd-a5d4-800eda1a8bf1\"}, {\"hoverinfo\": \"text\", \"marker\": {\"color\": \"blue\", \"size\": 0.5}, \"mode\": \"markers\", \"text\": \"Microstrategy appears with Hadoop 3 times\", \"x\": [-0.06307379943636426], \"y\": [-0.8977871105249068], \"type\": \"scatter\", \"uid\": \"e9285d01-f8b8-4717-89b7-ad7024c1a6c6\"}, {\"hoverinfo\": \"text\", \"marker\": {\"color\": \"green\", \"size\": 0.5}, \"mode\": \"markers\", \"text\": \"Hadoop appears with Oracle BI 32 times\", \"x\": [-0.8995932779046772], \"y\": [0.02705428521913483], \"type\": \"scatter\", \"uid\": \"324ebee5-ac44-42d3-885f-0fbc9d35fccd\"}, {\"hoverinfo\": \"text\", \"marker\": {\"color\": \"blue\", \"size\": 0.5}, \"mode\": \"markers\", \"text\": \"Oracle BI appears with Hadoop 32 times\", \"x\": [0.02014898635018707], \"y\": [-0.8997744263697763], \"type\": \"scatter\", \"uid\": \"58adfbc0-3c2a-48a1-9968-977e9644e2fc\"}, {\"hoverinfo\": \"text\", \"marker\": {\"color\": \"green\", \"size\": 0.5}, \"mode\": \"markers\", \"text\": \"Hadoop appears with Python 118 times\", \"x\": [-0.8981476688736261], \"y\": [-0.05771277932028107], \"type\": \"scatter\", \"uid\": \"0b23a5b7-f017-44c0-be0f-61b243b98242\"}, {\"hoverinfo\": \"text\", \"marker\": {\"color\": \"blue\", \"size\": 0.5}, \"mode\": \"markers\", \"text\": \"Python appears with Hadoop 118 times\", \"x\": [0.7126047342469612], \"y\": [-0.5497221959579381], \"type\": \"scatter\", \"uid\": \"6fc7aff8-2f84-4a4d-9336-d203faadd059\"}, {\"hoverinfo\": \"text\", \"marker\": {\"color\": \"green\", \"size\": 0.5}, \"mode\": \"markers\", \"text\": \"Hadoop appears with VBA 6 times\", \"x\": [-0.8984727883731085], \"y\": [0.052408477873827734], \"type\": \"scatter\", \"uid\": \"3a8d5078-4cc2-4433-bec8-3f6442a5d780\"}, {\"hoverinfo\": \"text\", \"marker\": {\"color\": \"blue\", \"size\": 0.5}, \"mode\": \"markers\", \"text\": \"VBA appears with Hadoop 6 times\", \"x\": [0.8209379095695067], \"y\": [-0.36886440412656835], \"type\": \"scatter\", \"uid\": \"4d0e72f0-33c8-4ceb-8bf7-15ae68f1c834\"}, {\"hoverinfo\": \"text\", \"marker\": {\"color\": \"green\", \"size\": 0.5}, \"mode\": \"markers\", \"text\": \"Hadoop appears with Linux 71 times\", \"x\": [-0.8998831803848873], \"y\": [-0.014500402076504638], \"type\": \"scatter\", \"uid\": \"567c4999-4370-49f4-8201-a5bef221c370\"}, {\"hoverinfo\": \"text\", \"marker\": {\"color\": \"blue\", \"size\": 0.5}, \"mode\": \"markers\", \"text\": \"Linux appears with Hadoop 71 times\", \"x\": [0.8872710060885762], \"y\": [-0.15083156750019447], \"type\": \"scatter\", \"uid\": \"c7aaf5d5-523c-40b9-8917-e006ad3e853d\"}, {\"hoverinfo\": \"text\", \"marker\": {\"color\": \"green\", \"size\": 0.5}, \"mode\": \"markers\", \"text\": \"Hadoop appears with AWS 40 times\", \"x\": [-0.8999194403405991], \"y\": [0.012041631827239937], \"type\": \"scatter\", \"uid\": \"947ffbe1-d517-4f6a-8fd7-023b364c50b4\"}, {\"hoverinfo\": \"text\", \"marker\": {\"color\": \"blue\", \"size\": 0.5}, \"mode\": \"markers\", \"text\": \"AWS appears with Hadoop 40 times\", \"x\": [0.8972429526664681], \"y\": [-0.07039235676092959], \"type\": \"scatter\", \"uid\": \"2f70f62f-3a1a-492e-b5dc-23a32424d9b5\"}, {\"hoverinfo\": \"text\", \"marker\": {\"color\": \"green\", \"size\": 0.5}, \"mode\": \"markers\", \"text\": \"Spark appears with Informatica 10 times\", \"x\": [-0.8940156592739703], \"y\": [-0.10361467547084388], \"type\": \"scatter\", \"uid\": \"a56a443b-6003-47c1-93ad-a17c0c10be76\"}, {\"hoverinfo\": \"text\", \"marker\": {\"color\": \"blue\", \"size\": 0.5}, \"mode\": \"markers\", \"text\": \"Informatica appears with Spark 10 times\", \"x\": [-0.8606913118010694], \"y\": [-0.26307882048951514], \"type\": \"scatter\", \"uid\": \"b9105d58-d25d-4387-ba5b-6c9ecb4f7900\"}, {\"hoverinfo\": \"text\", \"marker\": {\"color\": \"green\", \"size\": 0.5}, \"mode\": \"markers\", \"text\": \"Spark appears with Qlik 15 times\", \"x\": [-0.8937043465654373], \"y\": [-0.10626636782183155], \"type\": \"scatter\", \"uid\": \"f78cbb26-93b2-4cf0-9bc2-025dbc4cc087\"}, {\"hoverinfo\": \"text\", \"marker\": {\"color\": \"blue\", \"size\": 0.5}, \"mode\": \"markers\", \"text\": \"Qlik appears with Spark 15 times\", \"x\": [-0.7915798621674021], \"y\": [-0.4282538053666736], \"type\": \"scatter\", \"uid\": \"7b64510d-6220-4844-bb64-fb1091fc2ab9\"}, {\"hoverinfo\": \"text\", \"marker\": {\"color\": \"green\", \"size\": 0.5}, \"mode\": \"markers\", \"text\": \"Spark appears with Tableau 33 times\", \"x\": [-0.8899374034573406], \"y\": [-0.13420662400793196], \"type\": \"scatter\", \"uid\": \"2d299df1-dd96-4e90-a138-ade3f8f4713a\"}, {\"hoverinfo\": \"text\", \"marker\": {\"color\": \"blue\", \"size\": 0.5}, \"mode\": \"markers\", \"text\": \"Tableau appears with Spark 33 times\", \"x\": [-0.5214077041717234], \"y\": [-0.7335761760242576], \"type\": \"scatter\", \"uid\": \"3e92617b-d627-44e5-9bd5-43c9c815fe4f\"}, {\"hoverinfo\": \"text\", \"marker\": {\"color\": \"green\", \"size\": 0.5}, \"mode\": \"markers\", \"text\": \"Spark appears with Microstrategy 3 times\", \"x\": [-0.894579625427696], \"y\": [-0.0986270438046437], \"type\": \"scatter\", \"uid\": \"ad18543b-9d7a-4b1f-8210-d3f0d9105606\"}, {\"hoverinfo\": \"text\", \"marker\": {\"color\": \"blue\", \"size\": 0.5}, \"mode\": \"markers\", \"text\": \"Microstrategy appears with Spark 3 times\", \"x\": [-0.06402533520660071], \"y\": [-0.8977197538495421], \"type\": \"scatter\", \"uid\": \"a5b70f13-d511-47d3-8607-67e6e1b981dd\"}, {\"hoverinfo\": \"text\", \"marker\": {\"color\": \"green\", \"size\": 0.5}, \"mode\": \"markers\", \"text\": \"Spark appears with Oracle BI 27 times\", \"x\": [-0.8908703568561915], \"y\": [-0.1278671469726371], \"type\": \"scatter\", \"uid\": \"54dc4d1f-8021-4d3d-8970-5bb4bb281cc4\"}, {\"hoverinfo\": \"text\", \"marker\": {\"color\": \"blue\", \"size\": 0.5}, \"mode\": \"markers\", \"text\": \"Oracle BI appears with Spark 27 times\", \"x\": [0.012864895261718539], \"y\": [-0.8999080477859419], \"type\": \"scatter\", \"uid\": \"8db68e40-3ce5-4cb4-9c80-ca9a6bc7a955\"}, {\"hoverinfo\": \"text\", \"marker\": {\"color\": \"green\", \"size\": 0.5}, \"mode\": \"markers\", \"text\": \"Spark appears with Python 126 times\", \"x\": [-0.8733901302184043], \"y\": [-0.2172318587064954], \"type\": \"scatter\", \"uid\": \"2865bcd9-3715-4418-af2e-4f388586ef58\"}, {\"hoverinfo\": \"text\", \"marker\": {\"color\": \"blue\", \"size\": 0.5}, \"mode\": \"markers\", \"text\": \"Python appears with Spark 126 times\", \"x\": [0.730091436409912], \"y\": [-0.5262760629944245], \"type\": \"scatter\", \"uid\": \"ed2a8ef7-8070-4be8-81e2-2399a7adffa2\"}, {\"hoverinfo\": \"text\", \"marker\": {\"color\": \"green\", \"size\": 0.5}, \"mode\": \"markers\", \"text\": \"Spark appears with VBA 6 times\", \"x\": [-0.8943549887682348], \"y\": [-0.10064369858749521], \"type\": \"scatter\", \"uid\": \"3e321ec1-da64-42dc-b250-efbf136ca2d2\"}, {\"hoverinfo\": \"text\", \"marker\": {\"color\": \"blue\", \"size\": 0.5}, \"mode\": \"markers\", \"text\": \"VBA appears with Spark 6 times\", \"x\": [0.8204169993875635], \"y\": [-0.3700215495290871], \"type\": \"scatter\", \"uid\": \"d71b7077-1784-40b5-b5cb-d5b9aa52630d\"}, {\"hoverinfo\": \"text\", \"marker\": {\"color\": \"green\", \"size\": 0.5}, \"mode\": \"markers\", \"text\": \"Spark appears with Linux 54 times\", \"x\": [-0.8856601974016752], \"y\": [-0.1600187949536733], \"type\": \"scatter\", \"uid\": \"01cfbc34-dba3-4f79-9a4d-11506403973a\"}, {\"hoverinfo\": \"text\", \"marker\": {\"color\": \"blue\", \"size\": 0.5}, \"mode\": \"markers\", \"text\": \"Linux appears with Spark 54 times\", \"x\": [0.8825978162891435], \"y\": [-0.17612806329950753], \"type\": \"scatter\", \"uid\": \"65a991e5-c35c-41af-a933-185f12aeaa02\"}, {\"hoverinfo\": \"text\", \"marker\": {\"color\": \"green\", \"size\": 0.5}, \"mode\": \"markers\", \"text\": \"Spark appears with AWS 43 times\", \"x\": [-0.8874433461092637], \"y\": [-0.14981424313593703], \"type\": \"scatter\", \"uid\": \"573c880b-cf9c-4e0c-895a-545857e3db61\"}, {\"hoverinfo\": \"text\", \"marker\": {\"color\": \"blue\", \"size\": 0.5}, \"mode\": \"markers\", \"text\": \"AWS appears with Spark 43 times\", \"x\": [0.8978132693382869], \"y\": [-0.06270034609232085], \"type\": \"scatter\", \"uid\": \"49dc018a-e4e9-4b14-8a11-64b2db5ef5d6\"}, {\"hoverinfo\": \"text\", \"marker\": {\"color\": \"green\", \"size\": 0.5}, \"mode\": \"markers\", \"text\": \"Informatica appears with Qlik 91 times\", \"x\": [-0.8343341838483553], \"y\": [-0.33747069452338957], \"type\": \"scatter\", \"uid\": \"7dd82ad4-d769-4b98-9668-fe58a9546542\"}, {\"hoverinfo\": \"text\", \"marker\": {\"color\": \"blue\", \"size\": 0.5}, \"mode\": \"markers\", \"text\": \"Qlik appears with Informatica 91 times\", \"x\": [-0.7443877399442599], \"y\": [-0.5058526392346657], \"type\": \"scatter\", \"uid\": \"82a862de-ddc8-49fc-9d02-29310c5e837f\"}, {\"hoverinfo\": \"text\", \"marker\": {\"color\": \"green\", \"size\": 0.5}, \"mode\": \"markers\", \"text\": \"Informatica appears with Tableau 64 times\", \"x\": [-0.840482910673659], \"y\": [-0.32185163797242705], \"type\": \"scatter\", \"uid\": \"1851dba7-9178-4f50-887e-95a6d2000955\"}, {\"hoverinfo\": \"text\", \"marker\": {\"color\": \"blue\", \"size\": 0.5}, \"mode\": \"markers\", \"text\": \"Tableau appears with Informatica 64 times\", \"x\": [-0.46953797492764654], \"y\": [-0.7678112333776088], \"type\": \"scatter\", \"uid\": \"2412729a-7175-49c0-87ef-10dd6e60c244\"}, {\"hoverinfo\": \"text\", \"marker\": {\"color\": \"green\", \"size\": 0.5}, \"mode\": \"markers\", \"text\": \"Informatica appears with Microstrategy 11 times\", \"x\": [-0.8593829377616787], \"y\": [-0.26732184026769445], \"type\": \"scatter\", \"uid\": \"ca22155c-2e4f-48f4-91f4-b9c29e9b5ceb\"}, {\"hoverinfo\": \"text\", \"marker\": {\"color\": \"blue\", \"size\": 0.5}, \"mode\": \"markers\", \"text\": \"Microstrategy appears with Informatica 11 times\", \"x\": [-0.05879102704543696], \"y\": [-0.8980777333499271], \"type\": \"scatter\", \"uid\": \"9a9aace2-8c97-40f8-af91-b041bf1bcd36\"}, {\"hoverinfo\": \"text\", \"marker\": {\"color\": \"green\", \"size\": 0.5}, \"mode\": \"markers\", \"text\": \"Informatica appears with Oracle BI 123 times\", \"x\": [-0.8152142354534037], \"y\": [-0.3813472830821304], \"type\": \"scatter\", \"uid\": \"da322e4b-0c01-4f00-8229-19c2d2091d32\"}, {\"hoverinfo\": \"text\", \"marker\": {\"color\": \"blue\", \"size\": 0.5}, \"mode\": \"markers\", \"text\": \"Oracle BI appears with Informatica 123 times\", \"x\": [0.18538884683003445], \"y\": [-0.8806991401557231], \"type\": \"scatter\", \"uid\": \"e6e3f609-1438-473d-8514-411078e27e26\"}, {\"hoverinfo\": \"text\", \"marker\": {\"color\": \"green\", \"size\": 0.5}, \"mode\": \"markers\", \"text\": \"Informatica appears with Python 24 times\", \"x\": [-0.8562710109595896], \"y\": [-0.2771280494468984], \"type\": \"scatter\", \"uid\": \"3bbfbd69-fbfb-4265-9e5f-d2e5f70f9b17\"}, {\"hoverinfo\": \"text\", \"marker\": {\"color\": \"blue\", \"size\": 0.5}, \"mode\": \"markers\", \"text\": \"Python appears with Informatica 24 times\", \"x\": [0.5965397618573152], \"y\": [-0.6738993341169124], \"type\": \"scatter\", \"uid\": \"30b8af40-b85b-41c3-90f6-680df9cb156e\"}, {\"hoverinfo\": \"text\", \"marker\": {\"color\": \"green\", \"size\": 0.5}, \"mode\": \"markers\", \"text\": \"Informatica appears with VBA 3 times\", \"x\": [-0.8622895617027748], \"y\": [-0.25779199323958174], \"type\": \"scatter\", \"uid\": \"108c1a41-7d70-454e-bfc9-dc3de2d3c584\"}, {\"hoverinfo\": \"text\", \"marker\": {\"color\": \"blue\", \"size\": 0.5}, \"mode\": \"markers\", \"text\": \"VBA appears with Informatica 3 times\", \"x\": [0.8192389895617007], \"y\": [-0.37262243354624225], \"type\": \"scatter\", \"uid\": \"744c4923-4ad6-4b43-b61c-9943652a53e3\"}, {\"hoverinfo\": \"text\", \"marker\": {\"color\": \"green\", \"size\": 0.5}, \"mode\": \"markers\", \"text\": \"Informatica appears with Linux 6 times\", \"x\": [-0.8616979275994373], \"y\": [-0.2597627409210852], \"type\": \"scatter\", \"uid\": \"bbdf713a-60a3-4e9b-ac2a-d8bbabf86a9c\"}, {\"hoverinfo\": \"text\", \"marker\": {\"color\": \"blue\", \"size\": 0.5}, \"mode\": \"markers\", \"text\": \"Linux appears with Informatica 6 times\", \"x\": [0.8717985354826701], \"y\": [-0.22353369663268152], \"type\": \"scatter\", \"uid\": \"f44a2577-a0ba-4a1b-b657-a482fe182467\"}, {\"hoverinfo\": \"text\", \"marker\": {\"color\": \"green\", \"size\": 0.5}, \"mode\": \"markers\", \"text\": \"Informatica appears with AWS 18 times\", \"x\": [-0.8576606336320566], \"y\": [-0.2727970628834911], \"type\": \"scatter\", \"uid\": \"16baa1e9-fbea-4d16-8cb6-e11b3bc48fa2\"}, {\"hoverinfo\": \"text\", \"marker\": {\"color\": \"blue\", \"size\": 0.5}, \"mode\": \"markers\", \"text\": \"AWS appears with Informatica 18 times\", \"x\": [0.8954499692108613], \"y\": [-0.09038447123409916], \"type\": \"scatter\", \"uid\": \"ad3bf4aa-2e9d-448b-811e-8be3fc151ab2\"}, {\"hoverinfo\": \"text\", \"marker\": {\"color\": \"green\", \"size\": 0.5}, \"mode\": \"markers\", \"text\": \"Qlik appears with Tableau 308 times\", \"x\": [-0.650242268110653], \"y\": [-0.6222419085551163], \"type\": \"scatter\", \"uid\": \"27a7a244-b871-4f11-b0e1-98c88cac7494\"}, {\"hoverinfo\": \"text\", \"marker\": {\"color\": \"blue\", \"size\": 0.5}, \"mode\": \"markers\", \"text\": \"Tableau appears with Qlik 308 times\", \"x\": [-0.30601962057750365], \"y\": [-0.8463757982253514], \"type\": \"scatter\", \"uid\": \"aef49850-fff4-4d38-9459-48945424758b\"}, {\"hoverinfo\": \"text\", \"marker\": {\"color\": \"green\", \"size\": 0.5}, \"mode\": \"markers\", \"text\": \"Qlik appears with Microstrategy 28 times\", \"x\": [-0.7839673470068631], \"y\": [-0.4420352913818317], \"type\": \"scatter\", \"uid\": \"81ef0ee8-e48a-4db4-8d8a-dfa3887410ab\"}, {\"hoverinfo\": \"text\", \"marker\": {\"color\": \"blue\", \"size\": 0.5}, \"mode\": \"markers\", \"text\": \"Microstrategy appears with Qlik 28 times\", \"x\": [-0.04140931270777455], \"y\": [-0.8990468668657212], \"type\": \"scatter\", \"uid\": \"d653526d-54ff-4140-9bc2-84904dab8161\"}, {\"hoverinfo\": \"text\", \"marker\": {\"color\": \"green\", \"size\": 0.5}, \"mode\": \"markers\", \"text\": \"Qlik appears with Oracle BI 286 times\", \"x\": [-0.6975039381962463], \"y\": [-0.5687602800835576], \"type\": \"scatter\", \"uid\": \"7c2fa171-59e6-4260-a253-55fcac3311c9\"}, {\"hoverinfo\": \"text\", \"marker\": {\"color\": \"blue\", \"size\": 0.5}, \"mode\": \"markers\", \"text\": \"Oracle BI appears with Qlik 286 times\", \"x\": [0.34908211158221175], \"y\": [-0.829543054562754], \"type\": \"scatter\", \"uid\": \"9c06c753-3277-4bc2-8621-29632a94522c\"}, {\"hoverinfo\": \"text\", \"marker\": {\"color\": \"green\", \"size\": 0.5}, \"mode\": \"markers\", \"text\": \"Qlik appears with Python 38 times\", \"x\": [-0.7765405423950109], \"y\": [-0.45495580666352875], \"type\": \"scatter\", \"uid\": \"41c14efa-5050-4ee7-93a1-ac4983fa40b5\"}, {\"hoverinfo\": \"text\", \"marker\": {\"color\": \"blue\", \"size\": 0.5}, \"mode\": \"markers\", \"text\": \"Python appears with Qlik 38 times\", \"x\": [0.6081188302569456], \"y\": [-0.663469282097464], \"type\": \"scatter\", \"uid\": \"68896b32-65d7-48db-bcd7-b8d8477873a0\"}, {\"hoverinfo\": \"text\", \"marker\": {\"color\": \"green\", \"size\": 0.5}, \"mode\": \"markers\", \"text\": \"Qlik appears with VBA 29 times\", \"x\": [-0.7805799860876282], \"y\": [-0.4479898272499478], \"type\": \"scatter\", \"uid\": \"3c938f5e-6f43-4210-add2-407132985f23\"}, {\"hoverinfo\": \"text\", \"marker\": {\"color\": \"blue\", \"size\": 0.5}, \"mode\": \"markers\", \"text\": \"VBA appears with Qlik 29 times\", \"x\": [0.8280173841254379], \"y\": [-0.3526857121943941], \"type\": \"scatter\", \"uid\": \"4d8ed724-6e91-43f1-8874-46d0ddef90b7\"}, {\"hoverinfo\": \"text\", \"marker\": {\"color\": \"green\", \"size\": 0.5}, \"mode\": \"markers\", \"text\": \"Qlik appears with Linux 2 times\", \"x\": [-0.79638983935944], \"y\": [-0.4192412476904502], \"type\": \"scatter\", \"uid\": \"ed9e6ff0-8746-450d-9346-f209fe6a96cc\"}, {\"hoverinfo\": \"text\", \"marker\": {\"color\": \"blue\", \"size\": 0.5}, \"mode\": \"markers\", \"text\": \"Linux appears with Qlik 2 times\", \"x\": [0.8710419089005055], \"y\": [-0.2264641096045099], \"type\": \"scatter\", \"uid\": \"88dfd461-d6b3-47eb-b7e3-a9ad4d96ad01\"}, {\"hoverinfo\": \"text\", \"marker\": {\"color\": \"green\", \"size\": 0.5}, \"mode\": \"markers\", \"text\": \"Qlik appears with AWS 2 times\", \"x\": [-0.7966136680913515], \"y\": [-0.4188157874412593], \"type\": \"scatter\", \"uid\": \"ec963f36-faee-4bb6-a2c7-128717fd93f7\"}, {\"hoverinfo\": \"text\", \"marker\": {\"color\": \"blue\", \"size\": 0.5}, \"mode\": \"markers\", \"text\": \"AWS appears with Qlik 2 times\", \"x\": [0.8944689867914427], \"y\": [-0.09962545692888927], \"type\": \"scatter\", \"uid\": \"0648696d-2e29-49cf-a922-5aaf5671ccdd\"}, {\"hoverinfo\": \"text\", \"marker\": {\"color\": \"green\", \"size\": 0.5}, \"mode\": \"markers\", \"text\": \"Tableau appears with Microstrategy 40 times\", \"x\": [-0.4920420949254997], \"y\": [-0.7535878029940013], \"type\": \"scatter\", \"uid\": \"23ec54ce-384f-4d47-9118-3a179856c98d\"}, {\"hoverinfo\": \"text\", \"marker\": {\"color\": \"blue\", \"size\": 0.5}, \"mode\": \"markers\", \"text\": \"Microstrategy appears with Tableau 40 times\", \"x\": [-0.030765870422581453], \"y\": [-0.8994739914067227], \"type\": \"scatter\", \"uid\": \"15de75e6-574b-404d-bd63-e8b824ef54ff\"}, {\"hoverinfo\": \"text\", \"marker\": {\"color\": \"green\", \"size\": 0.5}, \"mode\": \"markers\", \"text\": \"Tableau appears with Oracle BI 358 times\", \"x\": [-0.22838603071940472], \"y\": [-0.8705399594345082], \"type\": \"scatter\", \"uid\": \"5bea8eeb-5ff1-4554-8932-b25cda6a9163\"}, {\"hoverinfo\": \"text\", \"marker\": {\"color\": \"blue\", \"size\": 0.5}, \"mode\": \"markers\", \"text\": \"Oracle BI appears with Tableau 358 times\", \"x\": [0.4209209658755803], \"y\": [-0.7955033252516098], \"type\": \"scatter\", \"uid\": \"06ce40ca-3961-4a5a-adb1-662dca464c73\"}, {\"hoverinfo\": \"text\", \"marker\": {\"color\": \"green\", \"size\": 0.5}, \"mode\": \"markers\", \"text\": \"Tableau appears with Python 106 times\", \"x\": [-0.41423708143202886], \"y\": [-0.7990041554126454], \"type\": \"scatter\", \"uid\": \"cf906e82-9ee6-48ec-b741-209ff361948b\"}, {\"hoverinfo\": \"text\", \"marker\": {\"color\": \"blue\", \"size\": 0.5}, \"mode\": \"markers\", \"text\": \"Python appears with Tableau 106 times\", \"x\": [0.6958882802977306], \"y\": [-0.570735929606913], \"type\": \"scatter\", \"uid\": \"d2285651-6c9c-4ac6-8ace-368f290a3558\"}, {\"hoverinfo\": \"text\", \"marker\": {\"color\": \"green\", \"size\": 0.5}, \"mode\": \"markers\", \"text\": \"Tableau appears with VBA 57 times\", \"x\": [-0.482080795379352], \"y\": [-0.75999875442425], \"type\": \"scatter\", \"uid\": \"4e0c5f4c-8bab-404c-a938-d9f94570a268\"}, {\"hoverinfo\": \"text\", \"marker\": {\"color\": \"blue\", \"size\": 0.5}, \"mode\": \"markers\", \"text\": \"VBA appears with Tableau 57 times\", \"x\": [0.8385575089061261], \"y\": [-0.3268352861261345], \"type\": \"scatter\", \"uid\": \"6ebefce7-bdfc-4d23-9a21-01b3afaa8f34\"}, {\"hoverinfo\": \"text\", \"marker\": {\"color\": \"green\", \"size\": 0.5}, \"mode\": \"markers\", \"text\": \"Tableau appears with Linux 13 times\", \"x\": [-0.5350522699106582], \"y\": [-0.7236843707469798], \"type\": \"scatter\", \"uid\": \"d9a79d41-d7ad-424a-84ef-16dd43f214c0\"}, {\"hoverinfo\": \"text\", \"marker\": {\"color\": \"blue\", \"size\": 0.5}, \"mode\": \"markers\", \"text\": \"Linux appears with Tableau 13 times\", \"x\": [0.8722726337432292], \"y\": [-0.22167645888242268], \"type\": \"scatter\", \"uid\": \"d149f5e3-83ad-4387-b37e-641e85dfac8a\"}, {\"hoverinfo\": \"text\", \"marker\": {\"color\": \"green\", \"size\": 0.5}, \"mode\": \"markers\", \"text\": \"Tableau appears with AWS 31 times\", \"x\": [-0.5277586440838931], \"y\": [-0.7290204479949316], \"type\": \"scatter\", \"uid\": \"4c856630-5ab3-42db-92dd-8e2a623c8da7\"}, {\"hoverinfo\": \"text\", \"marker\": {\"color\": \"blue\", \"size\": 0.5}, \"mode\": \"markers\", \"text\": \"AWS appears with Tableau 31 times\", \"x\": [0.8967027924624891], \"y\": [-0.07696818816871284], \"type\": \"scatter\", \"uid\": \"40519455-f21c-4e0d-bee4-3e77b8fcd7c6\"}, {\"hoverinfo\": \"text\", \"marker\": {\"color\": \"green\", \"size\": 0.5}, \"mode\": \"markers\", \"text\": \"Microstrategy appears with Oracle BI 51 times\", \"x\": [-0.02353531300741695], \"y\": [-0.8996922190625208], \"type\": \"scatter\", \"uid\": \"3a348be6-d89f-4cf2-9a92-1210b9a4b2bf\"}, {\"hoverinfo\": \"text\", \"marker\": {\"color\": \"blue\", \"size\": 0.5}, \"mode\": \"markers\", \"text\": \"Oracle BI appears with Microstrategy 51 times\", \"x\": [0.05826529925890196], \"y\": [-0.8981119946322232], \"type\": \"scatter\", \"uid\": \"0c88a472-875f-4f2d-9c14-5c9f013bc4b7\"}, {\"hoverinfo\": \"text\", \"marker\": {\"color\": \"green\", \"size\": 0.5}, \"mode\": \"markers\", \"text\": \"Microstrategy appears with Python 14 times\", \"x\": [-0.05680780322282713], \"y\": [-0.8982053626498768], \"type\": \"scatter\", \"uid\": \"d4d56bf8-bc14-47cf-93d9-22fa86917528\"}, {\"hoverinfo\": \"text\", \"marker\": {\"color\": \"blue\", \"size\": 0.5}, \"mode\": \"markers\", \"text\": \"Python appears with Microstrategy 14 times\", \"x\": [0.588962558682302], \"y\": [-0.6805314867589861], \"type\": \"scatter\", \"uid\": \"c2c5fd98-6712-43b9-865c-4ae238454787\"}, {\"hoverinfo\": \"text\", \"marker\": {\"color\": \"green\", \"size\": 0.5}, \"mode\": \"markers\", \"text\": \"Microstrategy appears with VBA 7 times\", \"x\": [-0.06164636325753402], \"y\": [-0.8978862544315512], \"type\": \"scatter\", \"uid\": \"1861cd37-f5dd-4440-944c-4446327bb3da\"}, {\"hoverinfo\": \"text\", \"marker\": {\"color\": \"blue\", \"size\": 0.5}, \"mode\": \"markers\", \"text\": \"VBA appears with Microstrategy 7 times\", \"x\": [0.8220178960001897], \"y\": [-0.3664513319056452], \"type\": \"scatter\", \"uid\": \"51acb2a6-a5c7-4817-8bd9-a00a02b2c10b\"}, {\"hoverinfo\": \"text\", \"marker\": {\"color\": \"green\", \"size\": 0.5}, \"mode\": \"markers\", \"text\": \"Microstrategy appears with Linux 4 times\", \"x\": [-0.06251870411283825], \"y\": [-0.897825936156921], \"type\": \"scatter\", \"uid\": \"e9c145b8-ea51-4627-9d9a-ee09d6567cd5\"}, {\"hoverinfo\": \"text\", \"marker\": {\"color\": \"blue\", \"size\": 0.5}, \"mode\": \"markers\", \"text\": \"Linux appears with Microstrategy 4 times\", \"x\": [0.8715474216068809], \"y\": [-0.22451078346128017], \"type\": \"scatter\", \"uid\": \"233e24b8-68bb-4996-ba92-2243682fcd70\"}, {\"hoverinfo\": \"text\", \"marker\": {\"color\": \"green\", \"size\": 0.5}, \"mode\": \"markers\", \"text\": \"Microstrategy appears with AWS 2 times\", \"x\": [-0.0644217872772883], \"y\": [-0.8976913909156085], \"type\": \"scatter\", \"uid\": \"c56299d6-4eaa-4bd0-bd05-7f934229c84d\"}, {\"hoverinfo\": \"text\", \"marker\": {\"color\": \"blue\", \"size\": 0.5}, \"mode\": \"markers\", \"text\": \"AWS appears with Microstrategy 2 times\", \"x\": [0.8944277631968919], \"y\": [-0.09999488198205332], \"type\": \"scatter\", \"uid\": \"99356d72-cec3-43c1-b4df-c7b55a383893\"}, {\"hoverinfo\": \"text\", \"marker\": {\"color\": \"green\", \"size\": 0.5}, \"mode\": \"markers\", \"text\": \"Oracle BI appears with Python 129 times\", \"x\": [0.21572169844421857], \"y\": [-0.8737643554301936], \"type\": \"scatter\", \"uid\": \"df0afd0f-554d-4021-a1a9-e404fca85e8b\"}, {\"hoverinfo\": \"text\", \"marker\": {\"color\": \"blue\", \"size\": 0.5}, \"mode\": \"markers\", \"text\": \"Python appears with Oracle BI 129 times\", \"x\": [0.7475421505640765], \"y\": [-0.5011793422818179], \"type\": \"scatter\", \"uid\": \"184a21c5-c03e-408c-b394-79c0e0746311\"}, {\"hoverinfo\": \"text\", \"marker\": {\"color\": \"green\", \"size\": 0.5}, \"mode\": \"markers\", \"text\": \"Oracle BI appears with VBA 62 times\", \"x\": [0.08571208107007527], \"y\": [-0.895909280652141], \"type\": \"scatter\", \"uid\": \"944cc892-7c9a-4875-acdf-25a1c97cffc4\"}, {\"hoverinfo\": \"text\", \"marker\": {\"color\": \"blue\", \"size\": 0.5}, \"mode\": \"markers\", \"text\": \"VBA appears with Oracle BI 62 times\", \"x\": [0.8430453243282697], \"y\": [-0.31507869037471037], \"type\": \"scatter\", \"uid\": \"c5d4116b-60a2-4900-bdb1-cb62f0f43811\"}, {\"hoverinfo\": \"text\", \"marker\": {\"color\": \"green\", \"size\": 0.5}, \"mode\": \"markers\", \"text\": \"Oracle BI appears with Linux 3 times\", \"x\": [0.009160766846285216], \"y\": [-0.8999533767650345], \"type\": \"scatter\", \"uid\": \"0b891366-f0e9-4e77-ac72-d5d8f7930f53\"}, {\"hoverinfo\": \"text\", \"marker\": {\"color\": \"blue\", \"size\": 0.5}, \"mode\": \"markers\", \"text\": \"Linux appears with Oracle BI 3 times\", \"x\": [0.8711686975973645], \"y\": [-0.22597588439148056], \"type\": \"scatter\", \"uid\": \"c6354d6f-a5b6-4831-92e0-20768db354aa\"}, {\"hoverinfo\": \"text\", \"marker\": {\"color\": \"green\", \"size\": 0.5}, \"mode\": \"markers\", \"text\": \"Oracle BI appears with AWS 43 times\", \"x\": [0.046677977874496], \"y\": [-0.8987887217703324], \"type\": \"scatter\", \"uid\": \"fdeda4bf-0910-4345-93df-9b38f05a466c\"}, {\"hoverinfo\": \"text\", \"marker\": {\"color\": \"blue\", \"size\": 0.5}, \"mode\": \"markers\", \"text\": \"AWS appears with Oracle BI 43 times\", \"x\": [0.8983346392064836], \"y\": [-0.0547254602699415], \"type\": \"scatter\", \"uid\": \"a2b52060-25d8-4a2f-a180-3e9ef38f08cb\"}, {\"hoverinfo\": \"text\", \"marker\": {\"color\": \"green\", \"size\": 0.5}, \"mode\": \"markers\", \"text\": \"Python appears with VBA 55 times\", \"x\": [0.6321786985196599], \"y\": [-0.6405857422219051], \"type\": \"scatter\", \"uid\": \"2f873c06-4af2-4ba4-98bb-9eceb99e809c\"}, {\"hoverinfo\": \"text\", \"marker\": {\"color\": \"blue\", \"size\": 0.5}, \"mode\": \"markers\", \"text\": \"VBA appears with Python 55 times\", \"x\": [0.8341839071163705], \"y\": [-0.33784198837336143], \"type\": \"scatter\", \"uid\": \"ce57c13f-ba16-4bf7-9b01-5b0b1cb74bfd\"}, {\"hoverinfo\": \"text\", \"marker\": {\"color\": \"green\", \"size\": 0.5}, \"mode\": \"markers\", \"text\": \"Python appears with Linux 77 times\", \"x\": [0.6660408086469689], \"y\": [-0.6053012813606888], \"type\": \"scatter\", \"uid\": \"d69552f7-15cf-4621-b760-6aeef5c1b01f\"}, {\"hoverinfo\": \"text\", \"marker\": {\"color\": \"blue\", \"size\": 0.5}, \"mode\": \"markers\", \"text\": \"Linux appears with Python 77 times\", \"x\": [0.8896510621316642], \"y\": [-0.13609183534658384], \"type\": \"scatter\", \"uid\": \"5bad4faf-a00d-4006-b55c-d81bb08121ae\"}, {\"hoverinfo\": \"text\", \"marker\": {\"color\": \"green\", \"size\": 0.5}, \"mode\": \"markers\", \"text\": \"Python appears with AWS 75 times\", \"x\": [0.6536501394173513], \"y\": [-0.6186610503657696], \"type\": \"scatter\", \"uid\": \"baf9170b-d5fa-4bda-b8de-293f23b05c7d\"}, {\"hoverinfo\": \"text\", \"marker\": {\"color\": \"blue\", \"size\": 0.5}, \"mode\": \"markers\", \"text\": \"AWS appears with Python 75 times\", \"x\": [0.8993100088608217], \"y\": [-0.035235038849827885], \"type\": \"scatter\", \"uid\": \"782dc5f0-8388-4a0f-9d61-a43351553c8c\"}, {\"hoverinfo\": \"text\", \"marker\": {\"color\": \"green\", \"size\": 0.5}, \"mode\": \"markers\", \"text\": \"VBA appears with AWS 5 times\", \"x\": [0.8199380655365246], \"y\": [-0.3710816199762822], \"type\": \"scatter\", \"uid\": \"e4117e31-a6e4-4496-8366-bcb3d75afe73\"}, {\"hoverinfo\": \"text\", \"marker\": {\"color\": \"blue\", \"size\": 0.5}, \"mode\": \"markers\", \"text\": \"AWS appears with VBA 5 times\", \"x\": [0.8945407609237908], \"y\": [-0.09897892223036837], \"type\": \"scatter\", \"uid\": \"708c58b3-7a04-4ff8-9e28-6800b79af825\"}, {\"hoverinfo\": \"text\", \"marker\": {\"color\": \"green\", \"size\": 0.5}, \"mode\": \"markers\", \"text\": \"Linux appears with AWS 22 times\", \"x\": [0.8738646150287965], \"y\": [-0.21531519825728343], \"type\": \"scatter\", \"uid\": \"f0ae6ac9-2bdc-4706-aea7-b3ffb0fdcaa6\"}, {\"hoverinfo\": \"text\", \"marker\": {\"color\": \"blue\", \"size\": 0.5}, \"mode\": \"markers\", \"text\": \"AWS appears with Linux 22 times\", \"x\": [0.8958156365442044], \"y\": [-0.0866853235726894], \"type\": \"scatter\", \"uid\": \"b67334dd-fe29-43e9-914d-658b0677ff55\"}], {\"autosize\": false, \"font\": {\"color\": \"#655643\", \"family\": \"Fira Sans Condensed\", \"size\": 12}, \"height\": 525, \"hidesources\": true, \"hoverdistance\": 40, \"hovermode\": \"closest\", \"margin\": {\"b\": 10, \"l\": 280, \"r\": 280, \"t\": 80}, \"paper_bgcolor\": \"#fffaf0\", \"plot_bgcolor\": \"#fffaf0\", \"shapes\": [{\"fillcolor\": \"#f2e6ce\", \"layer\": \"below\", \"line\": {\"color\": \"rgb(175,175,175)\", \"width\": 0.5}, \"path\": \"M 0.9764207076871341,0.2158763572042021 Q 0.18452206475196486, 0.07714666304949094 0.8395098819063138, 0.5433444194814621L 0.8395098819063138, 0.5433444194814621 L 0.8525636379485697, 0.5226234239372555 L 0.8651060602501279, 0.5015889796621352 M 0.8651060602501279,0.5015889796621352 Q 0.18466912401900756, 0.07679397524579912 0.9656795361167426, 0.2597364693787779L 0.9656795361167426, 0.2597364693787779 L 0.971297722948922, 0.23786704982876275 L 0.9764207076871341, 0.2158763572042021 \", \"type\": \"path\"}, {\"fillcolor\": \"#f2e6ce\", \"layer\": \"below\", \"line\": {\"color\": \"rgb(175,175,175)\", \"width\": 0.5}, \"path\": \"M 0.9983190748093466,0.05795709509464963 Q 0.14539634353003128, 0.13733136308978053 0.11477186592444427, 0.9933918757430128L 0.11477186592444427, 0.9933918757430128 L 0.12913818279918007, 0.99162660802508 L 0.14347744429086498, 0.9896535873626497 M 0.14347744429086498,0.9896535873626497 Q 0.14549887117568958, 0.13722273312611177 0.99635181007436, 0.08534090790205183L 0.99635181007436, 0.08534090790205183 L 0.9974294225917215, 0.0716557530722066 L 0.9983190748093466, 0.05795709509464963 \", \"type\": \"path\"}, {\"fillcolor\": \"#f2e6ce\", \"layer\": \"below\", \"line\": {\"color\": \"rgb(175,175,175)\", \"width\": 0.5}, \"path\": \"M 0.99635181007436,0.08534090790205183 Q 0.09796851328187625, 0.17436218169470938 -0.4453213803194647, 0.8953707992951114L -0.4453213803194647, 0.8953707992951114 L -0.43241334555342026, 0.901675495168466 L -0.419416075136398, 0.9077941153792414 M -0.419416075136398,0.9077941153792414 Q 0.09805736728242759, 0.17431222768824653 0.9936046114382849, 0.11291534939314014L 0.9936046114382849, 0.11291534939314014 L 0.9950737295978319, 0.09913764504092708 L 0.99635181007436, 0.08534090790205183 \", \"type\": \"path\"}, {\"fillcolor\": \"#f2e6ce\", \"layer\": \"below\", \"line\": {\"color\": \"rgb(175,175,175)\", \"width\": 0.5}, \"path\": \"M 0.9999973335217832,0.0023093179347028554 Q 0.07393612603387661, 0.18583177679585028 -0.7250840610339272, 0.6886603694380475L -0.7250840610339272, 0.6886603694380475 L -0.724678168516842, 0.6890874778103834 L -0.7242720244130213, 0.6895143469520152 M -0.7242720244130213,0.6895143469520152 Q 0.07392641321649078, 0.18583564090062127 0.999993547785176, 0.0035922678097320203L 0.999993547785176, 0.0035922678097320203 L 0.9999956463994443, 0.0029507934793339317 L 0.9999973335217832, 0.0023093179347028554 \", \"type\": \"path\"}, {\"fillcolor\": \"#f2e6ce\", \"layer\": \"below\", \"line\": {\"color\": \"rgb(175,175,175)\", \"width\": 0.5}, \"path\": \"M 0.9994856769255202,0.0320683897434025 Q 0.04793156144320417, 0.1941714845635588 -0.8697500961083501, 0.4934924217447679L -0.8697500961083501, 0.4934924217447679 L -0.8673316309194425, 0.49773069224895095 L -0.8648925129071607, 0.501957110834319 M -0.8648925129071607,0.501957110834319 Q 0.04793243884600326, 0.19417126797308135 0.9991254893279158, 0.04181215822285184L 0.9991254893279158, 0.04181215822285184 L 0.9993174589309821, 0.036940712983439684 L 0.9994856769255202, 0.0320683897434025 \", \"type\": \"path\"}, {\"fillcolor\": \"#f2e6ce\", \"layer\": \"below\", \"line\": {\"color\": \"rgb(175,175,175)\", \"width\": 0.5}, \"path\": \"M 0.9999994732880656,0.001026364258594765 Q 0.028713679221186235, 0.19792807942680296 -0.9584840723862728, 0.2851460730605038L -0.9584840723862728, 0.2851460730605038 L -0.9583572248700478, 0.2855721091762649 L -0.9582301879852487, 0.28599808886381556 M -0.9582301879852487,0.28599808886381556 Q 0.02867469497615285, 0.1979337310011222 0.9999973335217832, 0.0023093179347028554L 0.9999973335217832, 0.0023093179347028554 L 0.9999986091514986, 0.00166784143980195 L 0.9999994732880656, 0.001026364258594765 \", \"type\": \"path\"}, {\"fillcolor\": \"#f2e6ce\", \"layer\": \"below\", \"line\": {\"color\": \"rgb(175,175,175)\", \"width\": 0.5}, \"path\": \"M 0.9999881160844755,0.0048752117719792045 Q 0.01977887943174461, 0.1990195867959345 -0.9794686095763376, 0.2015967332438597L -0.9794686095763376, 0.2015967332438597 L -0.9792865277197804, 0.20247937333599106 L -0.9791036504795229, 0.2033618489728898 M -0.9791036504795229,0.2033618489728898 Q 0.01975397417571068, 0.199022060345745 0.9999760017813698, 0.006927904542206495L 0.9999760017813698, 0.006927904542206495 L 0.9999825856356847, 0.0059015612655156 L 0.9999881160844755, 0.0048752117719792045 \", \"type\": \"path\"}, {\"fillcolor\": \"#f2e6ce\", \"layer\": \"below\", \"line\": {\"color\": \"rgb(175,175,175)\", \"width\": 0.5}, \"path\": \"M 0.9999004201689001,0.014112042589822507 Q 0.003310567467177729, 0.199972598480505 -0.9988853572076658, 0.04720215202841896L -0.9988853572076658, 0.04720215202841896 L -0.9987774901951207, 0.04943202483750359 L -0.9986646453074883, 0.05166165127895643 M -0.9986646453074883,0.05166165127895643 Q 0.0032695460517876748, 0.19997327338575832 0.9998197382406133, 0.018986601182714866L 0.9998197382406133, 0.018986601182714866 L 0.9998630497811745, 0.016549371054173624 L 0.9999004201689001, 0.014112042589822507 \", \"type\": \"path\"}, {\"fillcolor\": \"#f2e6ce\", \"layer\": \"below\", \"line\": {\"color\": \"rgb(175,175,175)\", \"width\": 0.5}, \"path\": \"M 0.9998197382406133,0.018986601182714866 Q -0.01581754651080712, 0.19937353190024612 -0.9903060617696536, -0.13890249825787507L -0.9903060617696536, -0.13890249825787507 L -0.9906976255374023, -0.13608164738330097 L -0.9910811542304213, -0.1332596928155541 M -0.9910811542304213,-0.1332596928155541 Q -0.015863640163791697, 0.19936986964121167 0.9996838577926921, 0.02514327879813168L 0.9996838577926921, 0.02514327879813168 L 0.9997565372666212, 0.022065044587650667 L 0.9998197382406133, 0.018986601182714866 \", \"type\": \"path\"}, {\"fillcolor\": \"#f2e6ce\", \"layer\": \"below\", \"line\": {\"color\": \"rgb(175,175,175)\", \"width\": 0.5}, \"path\": \"M 0.9999760017813698,0.006927904542206495 Q -0.03059728048585938, 0.19764565876049403 -0.9552622437795869, -0.2957601149735864L -0.9552622437795869, -0.2957601149735864 L -0.9556174396129105, -0.29461043618253835 L -0.955971251783468, -0.29346033081755585 M -0.955971251783468,-0.29346033081755585 Q -0.030613024398436786, 0.1976432208227257 0.9999549335446606, 0.00949372844004618L 0.9999549335446606, 0.00949372844004618 L 0.9999662906226296, 0.00821082324853006 L 0.9999760017813698, 0.006927904542206495 \", \"type\": \"path\"}, {\"fillcolor\": \"#f2e6ce\", \"layer\": \"below\", \"line\": {\"color\": \"rgb(175,175,175)\", \"width\": 0.5}, \"path\": \"M 0.9896574199168644,0.1434510062826163 Q -0.0769458914171457, 0.18460587692167557 -0.7985693254235507, -0.6019028430673634L -0.7985693254235507, -0.6019028430673634 L -0.8095253007408146, -0.5870849916839074 L -0.8202063595539835, -0.5720677649957229 M -0.8202063595539835,-0.5720677649957229 Q -0.07681225893526805, 0.18466151975238732 0.9839585722866815, 0.1783971076658909L 0.9839585722866815, 0.1783971076658909 L 0.9869626784589522, 0.1609492818534175 L 0.9896574199168644, 0.1434510062826163 \", \"type\": \"path\"}, {\"fillcolor\": \"#f2e6ce\", \"layer\": \"below\", \"line\": {\"color\": \"rgb(175,175,175)\", \"width\": 0.5}, \"path\": \"M 0.9839585722866815,0.1783971076658909 Q -0.12586896301412492, 0.15542523652788454 -0.37901702730544196, -0.9253896979178804L -0.37901702730544196, -0.9253896979178804 L -0.39764819544443936, -0.9175379625169636 L -0.4161168168609847, -0.9093111649625125 M -0.4161168168609847,-0.9093111649625125 Q -0.12569755010001557, 0.1555638965147572 0.9764207076871341, 0.2158763572042021L 0.9764207076871341, 0.2158763572042021 L 0.9803687591279888, 0.19717275705798554 L 0.9839585722866815, 0.1783971076658909 \", \"type\": \"path\"}, {\"fillcolor\": \"#f2e6ce\", \"layer\": \"below\", \"line\": {\"color\": \"rgb(175,175,175)\", \"width\": 0.5}, \"path\": \"M 0.9999549335446606,0.00949372844004618 Q -0.1381007949663741, 0.14466571960784458 -0.05588992938164685, -0.9984369363128122L -0.05588992938164685, -0.9984369363128122 L -0.057477234415384326, -0.998346817255386 L -0.059064394166289336, -0.9982541747179269 M -0.059064394166289336,-0.9982541747179269 Q -0.1382048402108402, 0.1445663243715359 0.9999004201689001, 0.014112042589822507L 0.9999004201689001, 0.014112042589822507 L 0.9999303431492588, 0.011802916987155385 L 0.9999549335446606, 0.00949372844004618 \", \"type\": \"path\"}, {\"fillcolor\": \"#f2e6ce\", \"layer\": \"below\", \"line\": {\"color\": \"rgb(175,175,175)\", \"width\": 0.5}, \"path\": \"M 0.9936046114382849,0.11291534939314014 Q -0.15918532643079378, 0.1210786184638792 0.15647466888328604, -0.9876819720931763L 0.15647466888328604, -0.9876819720931763 L 0.1401929638755382, -0.990124200734328 L 0.12387325838749484, -0.9922980478951196 M 0.12387325838749484,-0.9922980478951196 Q -0.15905585451628582, 0.12124865007122398 0.9896574199168644, 0.1434510062826163L 0.9896574199168644, 0.1434510062826163 L 0.9917485456703006, 0.1281983703517475 L 0.9936046114382849, 0.11291534939314014 \", \"type\": \"path\"}, {\"fillcolor\": \"#f2e6ce\", \"layer\": \"below\", \"line\": {\"color\": \"rgb(175,175,175)\", \"width\": 0.5}, \"path\": \"M 0.9991254893279158,0.04181215822285184 Q -0.1869646658636394, 0.07102262821451814 0.7193747631749237, -0.6946221635587383L 0.7193747631749237, -0.6946221635587383 L 0.7135205920099692, -0.700634258923829 L 0.7076161771432553, -0.7065970179990609 M 0.7076161771432553,-0.7065970179990609 Q -0.18694272052431188, 0.07108037171377925 0.9983190748093466, 0.05795709509464963L 0.9983190748093466, 0.05795709509464963 L 0.998754905593471, 0.049886256153141864 L 0.9991254893279158, 0.04181215822285184 \", \"type\": \"path\"}, {\"fillcolor\": \"#f2e6ce\", \"layer\": \"below\", \"line\": {\"color\": \"rgb(175,175,175)\", \"width\": 0.5}, \"path\": \"M 0.9996838577926921,0.02514327879813168 Q -0.19638329796785087, 0.03786291429975126 0.9186786814242912, -0.39500567122071256L 0.9186786814242912, -0.39500567122071256 L 0.9174209158093135, -0.3979181614799712 L 0.9161539167437749, -0.4008266468625064 M 0.9161539167437749,-0.4008266468625064 Q -0.19639432694330794, 0.03780566550776575 0.9994856769255202, 0.0320683897434025L 0.9994856769255202, 0.0320683897434025 L 0.9995907644765228, 0.028606005894577825 L 0.9996838577926921, 0.02514327879813168 \", \"type\": \"path\"}, {\"fillcolor\": \"#f2e6ce\", \"layer\": \"below\", \"line\": {\"color\": \"rgb(175,175,175)\", \"width\": 0.5}, \"path\": \"M 1.0,0.0 Q -0.19840736262175868, 0.02518964980856154 0.9682740771261018, -0.2498905991941191L 0.9682740771261018, -0.2498905991941191 L 0.9681619355842795, -0.250324722082541 L 0.9680495994047231, -0.2507587946460802 M 0.9680495994047231,-0.2507587946460802 Q -0.19840899472482587, 0.02517679114351187 0.9999994732880656, 0.001026364258594765L 0.9999994732880656, 0.001026364258594765 L 0.9999998683220077, 0.0005131821968721839 L 1.0, 0.0 \", \"type\": \"path\"}, {\"fillcolor\": \"#f2e6ce\", \"layer\": \"below\", \"line\": {\"color\": \"rgb(175,175,175)\", \"width\": 0.5}, \"path\": \"M 0.999993547785176,0.0035922678097320203 Q -0.1997241318266087, 0.010501007861507082 0.9941033210502882, -0.10843701894089285L 0.9941033210502882, -0.10843701894089285 L 0.9940472052497709, -0.10895023513109015 L 0.9939908244960696, -0.10946342228170908 M 0.9939908244960696,-0.10946342228170908 Q -0.19972544501680242, 0.010476001758315957 0.9999881160844755, 0.0048752117719792045L 0.9999881160844755, 0.0048752117719792045 L 0.9999910376798421, 0.004233740661934461 L 0.999993547785176, 0.0035922678097320203 \", \"type\": \"path\"}, {\"fillcolor\": \"#ecd5bb\", \"layer\": \"below\", \"line\": {\"color\": \"rgb(175,175,175)\", \"width\": 0.5}, \"path\": \"M 0.5508478293728678,0.8346056966467459 Q 0.03436222999826354, 0.1970259808998459 -0.2358022493913903, 0.9718010594673997L -0.2358022493913903, 0.9718010594673997 L -0.17118225648216887, 0.9852393795751736 L -0.10581653684302948, 0.9943856699141173 M -0.10581653684302948,0.9943856699141173 Q 0.03398953491269395, 0.19709061752508353 0.4327745017557696, 0.9015022077787971L 0.4327745017557696, 0.9015022077787971 L 0.4929472673361156, 0.8700591885761889 L 0.5508478293728678, 0.8346056966467459 \", \"type\": \"path\"}, {\"fillcolor\": \"#ecd5bb\", \"layer\": \"below\", \"line\": {\"color\": \"rgb(175,175,175)\", \"width\": 0.5}, \"path\": \"M 0.8063396751164756,0.5914527270484569 Q 0.027415372247963157, 0.19811208283319223 -0.615418976169275, 0.7882001546376157L -0.615418976169275, 0.7882001546376157 L -0.5903770796569513, 0.8071275635336275 L -0.5647534589924952, 0.8252596746212747 M -0.5647534589924952,0.8252596746212747 Q 0.02712843402453583, 0.1981515785134613 0.7657827921174972, 0.6430993043820916L 0.7657827921174972, 0.6430993043820916 L 0.7864852860880668, 0.617609014480012 L 0.8063396751164756, 0.5914527270484569 \", \"type\": \"path\"}, {\"fillcolor\": \"#ecd5bb\", \"layer\": \"below\", \"line\": {\"color\": \"rgb(175,175,175)\", \"width\": 0.5}, \"path\": \"M 0.9460208778812712,0.3241056904973266 Q 0.047365006614910714, 0.1943104633013093 -0.690758040220534, 0.7230859768178934L -0.690758040220534, 0.7230859768178934 L -0.6865363672663218, 0.7270954658232728 L -0.6822914217421641, 0.731080307365105 M -0.6822914217421641,0.731080307365105 Q 0.046982081355954775, 0.19440340540088913 0.940855028531537, 0.3388094084982304L 0.940855028531537, 0.3388094084982304 L 0.9434665979148661, 0.331467613227821 L 0.9460208778812712, 0.3241056904973266 \", \"type\": \"path\"}, {\"fillcolor\": \"#ecd5bb\", \"layer\": \"below\", \"line\": {\"color\": \"rgb(175,175,175)\", \"width\": 0.5}, \"path\": \"M 0.9128790154083071,0.4082302086166087 Q 0.01983307994089052, 0.19901419281060898 -0.8143593729152827, 0.5803609323042235L -0.8143593729152827, 0.5803609323042235 L -0.8077418587742052, 0.5895363344052611 L -0.8010209702362369, 0.5986362879426854 M -0.8010209702362369,0.5986362879426854 Q 0.019425924521757523, 0.1990543479969101 0.9016478255980391, 0.43247103786765645L 0.9016478255980391, 0.43247103786765645 L 0.9073443770883314, 0.42038813180938855 L 0.9128790154083071, 0.4082302086166087 \", \"type\": \"path\"}, {\"fillcolor\": \"#ecd5bb\", \"layer\": \"below\", \"line\": {\"color\": \"rgb(175,175,175)\", \"width\": 0.5}, \"path\": \"M 0.8874755972030132,0.46085471069433054 Q -0.015609070060848499, 0.1993899619635741 -0.9483799521613061, 0.317136352912306L -0.9483799521613061, 0.317136352912306 L -0.9413613454731063, 0.3374000848385532 L -0.9339098258386606, 0.357508653324647 M -0.9339098258386606,0.357508653324647 Q -0.015966558363241228, 0.19936165382047075 0.8651060602501279, 0.5015889796621352L 0.8651060602501279, 0.5015889796621352 L 0.8765274876907085, 0.4813518082677313 L 0.8874755972030132, 0.46085471069433054 \", \"type\": \"path\"}, {\"fillcolor\": \"#ecd5bb\", \"layer\": \"below\", \"line\": {\"color\": \"rgb(175,175,175)\", \"width\": 0.5}, \"path\": \"M 0.9504391146350828,0.31091074180812717 Q -0.006272132570142035, 0.19990162668928577 -0.9680607598151599, 0.2507157061416281L -0.9680607598151599, 0.2507157061416281 L -0.9669367204611771, 0.2550164281449012 L -0.9657935747526076, 0.25931211110663377 M -0.9657935747526076,0.25931211110663377 Q -0.006774339430397446, 0.19988523788734816 0.9460208778812712, 0.3241056904973266L 0.9460208778812712, 0.3241056904973266 L 0.9482529475153294, 0.31751590122148204 L 0.9504391146350828, 0.31091074180812717 \", \"type\": \"path\"}, {\"fillcolor\": \"#ecd5bb\", \"layer\": \"below\", \"line\": {\"color\": \"rgb(175,175,175)\", \"width\": 0.5}, \"path\": \"M 0.940855028531537,0.3388094084982304 Q -0.02503770394556977, 0.19842659444019595 -0.9955272930586428, 0.09447438158215711L -0.9955272930586428, 0.09447438158215711 L -0.9948659864377071, 0.10120113156150001 L -0.994159227880108, 0.10792325801618262 M -0.994159227880108,0.10792325801618262 Q -0.025353147001024895, 0.1983865366831742 0.9350666371122983, 0.354471979371427L 0.9350666371122983, 0.354471979371427 L 0.9379935249987469, 0.34665277593064964 L 0.940855028531537, 0.3388094084982304 \", \"type\": \"path\"}, {\"fillcolor\": \"#ecd5bb\", \"layer\": \"below\", \"line\": {\"color\": \"rgb(175,175,175)\", \"width\": 0.5}, \"path\": \"M 0.9285017204498276,0.37132809632683356 Q -0.03857756664260764, 0.1962441625932735 -0.999969815045391, -0.007769748907563434L -0.999969815045391, -0.007769748907563434 L -0.9999998964411615, 0.00045510181976943784 L -0.9999623287695604, 0.0086799217598859 M -0.9999623287695604,0.0086799217598859 Q -0.038874960910596175, 0.19618546687815494 0.9210920870487466, 0.3893447921523855L 0.9210920870487466, 0.3893447921523855 L 0.9248407773862406, 0.3803544879235872 L 0.9285017204498276, 0.37132809632683356 \", \"type\": \"path\"}, {\"fillcolor\": \"#ecd5bb\", \"layer\": \"below\", \"line\": {\"color\": \"rgb(175,175,175)\", \"width\": 0.5}, \"path\": \"M 0.9210920870487466,0.3893447921523855 Q -0.059356101030522204, 0.19098914437856002 -0.9795228078980669, -0.20133322827463598L -0.9795228078980669, -0.20133322827463598 L -0.981252933053892, -0.1927243663191916 L -0.9829073978807868, -0.18410064419012898 M -0.9829073978807868,-0.18410064419012898 Q -0.05964560449341333, 0.19089893102009586 0.9128790154083071, 0.4082302086166087L 0.9128790154083071, 0.4082302086166087 L 0.917034168338695, 0.3988086434611943 L 0.9210920870487466, 0.3893447921523855 \", \"type\": \"path\"}, {\"fillcolor\": \"#ecd5bb\", \"layer\": \"below\", \"line\": {\"color\": \"rgb(175,175,175)\", \"width\": 0.5}, \"path\": \"M 0.9016478255980391,0.43247103786765645 Q -0.08428012240490897, 0.18137491824233462 -0.9119654404404844, -0.4102670294359433L -0.9119654404404844, -0.4102670294359433 L -0.9175073388027828, -0.39771884949425723 L -0.9228765903070634, -0.38509583101250106 M -0.9228765903070634,-0.38509583101250106 Q -0.08466909408555374, 0.18119366574671325 0.8874755972030132, 0.46085471069433054L 0.8874755972030132, 0.46085471069433054 L 0.8946742780054768, 0.4467190798201693 L 0.9016478255980391, 0.43247103786765645 \", \"type\": \"path\"}, {\"fillcolor\": \"#ecd5bb\", \"layer\": \"below\", \"line\": {\"color\": \"rgb(175,175,175)\", \"width\": 0.5}, \"path\": \"M 0.7100729767354976,0.7041280904139455 Q -0.14896437500385015, 0.13345266943644216 -0.6221258703616838, -0.7829172379164463L -0.6221258703616838, -0.7829172379164463 L -0.6585286142129319, -0.752555688479461 L -0.6934516551705685, -0.7205031588696881 M -0.6934516551705685,-0.7205031588696881 Q -0.14922990179900184, 0.13315568485446003 0.6371574291698596, 0.7707336832224574L 0.6371574291698596, 0.7707336832224574 L 0.6744379273864435, 0.7383315529643023 L 0.7100729767354976, 0.7041280904139455 \", \"type\": \"path\"}, {\"fillcolor\": \"#ecd5bb\", \"layer\": \"below\", \"line\": {\"color\": \"rgb(175,175,175)\", \"width\": 0.5}, \"path\": \"M 0.6371574291698596,0.7707336832224574 Q -0.18444354773593807, 0.07733419488544986 -0.10305034242947797, -0.9946761417291395L -0.10305034242947797, -0.9946761417291395 L -0.1549842415037211, -0.9879169423010804 L -0.20649304721988607, -0.9784480678348983 M -0.20649304721988607,-0.9784480678348983 Q -0.1845465840619297, 0.07708799070590124 0.5508478293728678, 0.8346056966467459L 0.5508478293728678, 0.8346056966467459 L 0.5948605148318481, 0.8038289419360245 L 0.6371574291698596, 0.7707336832224574 \", \"type\": \"path\"}, {\"fillcolor\": \"#ecd5bb\", \"layer\": \"below\", \"line\": {\"color\": \"rgb(175,175,175)\", \"width\": 0.5}, \"path\": \"M 0.9570445118961601,0.2899410323659632 Q -0.15834391539717074, 0.12217693913621193 -0.037715040200935725, -0.9992885347799412L -0.037715040200935725, -0.9992885347799412 L -0.040627548013930016, -0.9991743603307562 L -0.04353971066593756, -0.9990516971584236 M -0.04353971066593756,-0.9990516971584236 Q -0.158548613149477, 0.12191118598544393 0.9543413756846815, 0.29871815923420136L 0.9543413756846815, 0.29871815923420136 L 0.9557030199281656, 0.29433269899925196 L 0.9570445118961601, 0.2899410323659632 \", \"type\": \"path\"}, {\"fillcolor\": \"#ecd5bb\", \"layer\": \"below\", \"line\": {\"color\": \"rgb(175,175,175)\", \"width\": 0.5}, \"path\": \"M 0.4327745017557696,0.9015022077787971 Q -0.19865578128226977, -0.023149094218370643 0.6284657027276334, -0.7778372969298026L 0.6284657027276334, -0.7778372969298026 L 0.5709693909711305, -0.8209713482053173 L 0.5105232388003472, -0.8598639558934911 M 0.5105232388003472,-0.8598639558934911 Q -0.1986320127425634, -0.02335216293704152 0.2971798279969425, 0.9548215277378844L 0.2971798279969425, 0.9548215277378844 L 0.365949543450197, 0.9306346929104848 L 0.4327745017557696, 0.9015022077787971 \", \"type\": \"path\"}, {\"fillcolor\": \"#ecd5bb\", \"layer\": \"below\", \"line\": {\"color\": \"rgb(175,175,175)\", \"width\": 0.5}, \"path\": \"M 0.7657827921174972,0.6430993043820916 Q -0.1985657479802779, -0.023909072107314664 0.8965514756486597, -0.4429395574028253L 0.8965514756486597, -0.4429395574028253 L 0.8783319672036717, -0.47805120582227184 L 0.858738063918695, -0.5124148100681432 M 0.858738063918695,-0.5124148100681432 Q -0.19852316514683782, -0.024260109234736735 0.7100729767354976, 0.7041280904139455L 0.7100729767354976, 0.7041280904139455 L 0.7385585222548695, 0.6741893719161579 L 0.7657827921174972, 0.6430993043820916 \", \"type\": \"path\"}, {\"fillcolor\": \"#ecd5bb\", \"layer\": \"below\", \"line\": {\"color\": \"rgb(175,175,175)\", \"width\": 0.5}, \"path\": \"M 0.8395098819063138,0.5433444194814621 Q -0.19792724301289943, -0.02871944416789193 0.9593164978752802, -0.28233288314383015L 0.9593164978752802, -0.28233288314383015 L 0.952058678328176, -0.30591546711470236 L 0.9442212319276941, -0.3293118054017312 M 0.9442212319276941,-0.3293118054017312 Q -0.19779461098547454, -0.029619113172152864 0.8063396751164756, 0.5914527270484569L 0.8063396751164756, 0.5914527270484569 L 0.8232762558232007, 0.5676409134283149 L 0.8395098819063138, 0.5433444194814621 \", \"type\": \"path\"}, {\"fillcolor\": \"#ecd5bb\", \"layer\": \"below\", \"line\": {\"color\": \"rgb(175,175,175)\", \"width\": 0.5}, \"path\": \"M 0.9350666371122983,0.354471979371427 Q -0.19913567236996274, -0.018573744634910443 0.9844916752796072, -0.17543130081360175L 0.9844916752796072, -0.17543130081360175 L 0.983187351588664, -0.18259964861978484 L 0.9818308339513244, -0.189758302855097 M 0.9818308339513244,-0.189758302855097 Q -0.1991026975144178, -0.018923948913539296 0.9285017204498276, 0.37132809632683356L 0.9285017204498276, 0.37132809632683356 L 0.9318222942151596, 0.3629148825876344 L 0.9350666371122983, 0.354471979371427 \", \"type\": \"path\"}, {\"fillcolor\": \"#ecd5bb\", \"layer\": \"below\", \"line\": {\"color\": \"rgb(175,175,175)\", \"width\": 0.5}, \"path\": \"M 0.9543413756846815,0.29871815923420136 Q -0.19835815002055884, -0.025574290223219734 0.998900200803122, -0.04688697938108701L 0.998900200803122, -0.04688697938108701 L 0.9986662336204712, -0.05163093865408939 L 0.9984097366372171, -0.05637373313878344 M 0.9984097366372171,-0.05637373313878344 Q -0.1983156506845184, -0.025901789389462856 0.9504391146350828, 0.31091074180812717L 0.9504391146350828, 0.31091074180812717 L 0.9524097562725593, 0.3048206950927776 L 0.9543413756846815, 0.29871815923420136 \", \"type\": \"path\"}, {\"fillcolor\": \"#e6c4a9\", \"layer\": \"below\", \"line\": {\"color\": \"rgb(175,175,175)\", \"width\": 0.5}, \"path\": \"M -0.04485537848431218,0.9989934909803112 Q -0.06338819871841288, 0.18968905151124302 -0.5647534589924952, 0.8252596746212747L -0.5647534589924952, 0.8252596746212747 L -0.53969363887229, 0.8418614946419548 L -0.5141461434778725, 0.8577025959776681 M -0.5141461434778725,0.8577025959776681 Q -0.06348511539655526, 0.1896566374348287 -0.10581653684302948, 0.9943856699141173L -0.10581653684302948, 0.9943856699141173 L -0.07537117831669424, 0.9971555472839496 L -0.04485537848431218, 0.9989934909803112 \", \"type\": \"path\"}, {\"fillcolor\": \"#e6c4a9\", \"layer\": \"below\", \"line\": {\"color\": \"rgb(175,175,175)\", \"width\": 0.5}, \"path\": \"M 0.22746000372574038,0.9737874237764041 Q -0.04829178507964585, 0.19408220808157894 -0.6572819152413168, 0.7536447995552722L -0.6572819152413168, 0.7536447995552722 L -0.6548494839004362, 0.7557593224270094 L -0.6524102500294781, 0.7578659945244106 M -0.6524102500294781,0.7578659945244106 Q -0.04848012135247144, 0.19403524894629234 0.2192848583559161, 0.975660879043444L 0.2192848583559161, 0.975660879043444 L 0.2233743951480317, 0.9747327221306623 L 0.22746000372574038, 0.9737874237764041 \", \"type\": \"path\"}, {\"fillcolor\": \"#e6c4a9\", \"layer\": \"below\", \"line\": {\"color\": \"rgb(175,175,175)\", \"width\": 0.5}, \"path\": \"M 0.20977182236854397,0.9777503682127561 Q -0.06473361691689633, 0.1892341376201887 -0.764682818769816, 0.6444068487207819L -0.764682818769816, 0.6444068487207819 L -0.7604901749399308, 0.6493494389154683 L -0.7562655848493525, 0.6542647515894975 M -0.7562655848493525,0.6542647515894975 Q -0.06491503075165596, 0.18917198202300353 0.1951998992559724, 0.9807634777715054L 0.1951998992559724, 0.9807634777715054 L 0.20249146534159015, 0.9792840274730389 L 0.20977182236854397, 0.9777503682127561 \", \"type\": \"path\"}, {\"fillcolor\": \"#e6c4a9\", \"layer\": \"below\", \"line\": {\"color\": \"rgb(175,175,175)\", \"width\": 0.5}, \"path\": \"M 0.11477186592444427,0.9933918757430128 Q -0.09759566277193778, 0.17457115056075617 -0.9063523602167403, 0.4225226610840469L -0.9063523602167403, 0.4225226610840469 L -0.9002937543921737, 0.4352828457479622 L -0.8940555138396071, 0.4479561788534634 M -0.8940555138396071,0.4479561788534634 Q -0.09772738840549082, 0.17449744283353363 0.08516143349695489, 0.996367166382325L 0.08516143349695489, 0.996367166382325 L 0.09997771823250812, 0.9949896762565033 L 0.11477186592444427, 0.9933918757430128 \", \"type\": \"path\"}, {\"fillcolor\": \"#e6c4a9\", \"layer\": \"below\", \"line\": {\"color\": \"rgb(175,175,175)\", \"width\": 0.5}, \"path\": \"M 0.25057777536220655,0.9680964716878827 Q -0.10023180085502469, 0.17307104349763042 -0.9643966113449894, 0.2644601596201238L -0.9643966113449894, 0.2644601596201238 L -0.96378273626559, 0.2666886523202895 L -0.9631637116735114, 0.2689157200970313 M -0.9631637116735114,0.2689157200970313 Q -0.1004403941141687, 0.1729500714951875 0.24376171998244672, 0.9698351529364149L 0.24376171998244672, 0.9698351529364149 L 0.24717127648155765, 0.9689718056179331 L 0.25057777536220655, 0.9680964716878827 \", \"type\": \"path\"}, {\"fillcolor\": \"#e6c4a9\", \"layer\": \"below\", \"line\": {\"color\": \"rgb(175,175,175)\", \"width\": 0.5}, \"path\": \"M 0.24376171998244672,0.9698351529364149 Q -0.10774010188746774, 0.16849946719582848 -0.9826099069213562, 0.1856819076270052L -0.9826099069213562, 0.1856819076270052 L -0.9819554689712083, 0.18911228663821453 L -0.9812890552991659, 0.19254035927584257 M -0.9812890552991659,0.19254035927584257 Q -0.10785824327201449, 0.16842386813713472 0.23561914891372243, 0.9718454695398714L 0.23561914891372243, 0.9718454695398714 L 0.23969254203901114, 0.9708488478083892 L 0.24376171998244672, 0.9698351529364149 \", \"type\": \"path\"}, {\"fillcolor\": \"#e6c4a9\", \"layer\": \"below\", \"line\": {\"color\": \"rgb(175,175,175)\", \"width\": 0.5}, \"path\": \"M 0.23561914891372243,0.9718454695398714 Q -0.12096688824238902, 0.1592702481600169 -0.9994279955371784, 0.03381836389504517L -0.9994279955371784, 0.03381836389504517 L -0.999298183497036, 0.037458516515260415 L -0.9991551132060237, 0.04109817215227547 M -0.9991551132060237,0.04109817215227547 Q -0.12105463981570325, 0.1592035620804081 0.22746000372574038, 0.9737874237764041L 0.22746000372574038, 0.9737874237764041 L 0.23154161224040243, 0.9728250006044844 L 0.23561914891372243, 0.9718454695398714 \", \"type\": \"path\"}, {\"fillcolor\": \"#e6c4a9\", \"layer\": \"below\", \"line\": {\"color\": \"rgb(175,175,175)\", \"width\": 0.5}, \"path\": \"M 0.2192848583559161,0.975660879043444 Q -0.13719249058490365, 0.14552738754994238 -0.9868846837050523, -0.16142682883702722L -0.9868846837050523, -0.16142682883702722 L -0.9875652678442667, -0.15720954725359998 L -0.98822783024194, -0.15298939680679624 M -0.98822783024194,-0.15298939680679624 Q -0.13727950219864057, 0.1454453102581635 0.20977182236854397, 0.9777503682127561L 0.20977182236854397, 0.9777503682127561 L 0.21453088427967668, 0.9767172055872569 L 0.2192848583559161, 0.975660879043444 \", \"type\": \"path\"}, {\"fillcolor\": \"#e6c4a9\", \"layer\": \"below\", \"line\": {\"color\": \"rgb(175,175,175)\", \"width\": 0.5}, \"path\": \"M 0.17845550797390147,0.983947982199149 Q -0.15346954226506795, 0.12824624593706643 -0.9365961961808208, -0.35041056676364285L -0.9365961961808208, -0.35041056676364285 L -0.9392669451474104, -0.3431874207389477 L -0.9418819892548681, -0.3359439213876217 M -0.9418819892548681,-0.3359439213876217 Q -0.15359214387823553, 0.12809938851878802 0.1613922740767261, 0.9868903352796312L 0.1613922740767261, 0.9868903352796312 L 0.16993025952312105, 0.98545609080182 L 0.17845550797390147, 0.983947982199149 \", \"type\": \"path\"}, {\"fillcolor\": \"#e6c4a9\", \"layer\": \"below\", \"line\": {\"color\": \"rgb(175,175,175)\", \"width\": 0.5}, \"path\": \"M 0.1613922740767261,0.9868903352796312 Q -0.1679375187956448, 0.10861394837111138 -0.8338664778943693, -0.5519662100564121L -0.8338664778943693, -0.5519662100564121 L -0.8387715867839572, -0.544483448053219 L -0.8436095504811106, -0.5369570991588234 M -0.8436095504811106,-0.5369570991588234 Q -0.1679501460052939, 0.10859442184937712 0.14347744429086498, 0.9896535873626497L 0.14347744429086498, 0.9896535873626497 L 0.15244112038719132, 0.9883125542130373 L 0.1613922740767261, 0.9868903352796312 \", \"type\": \"path\"}, {\"fillcolor\": \"#e6c4a9\", \"layer\": \"below\", \"line\": {\"color\": \"rgb(175,175,175)\", \"width\": 0.5}, \"path\": \"M 0.08516143349695489,0.996367166382325 Q -0.19342030318285816, 0.0508781516630787 -0.4161168168609847, -0.9093111649625125L -0.4161168168609847, -0.9093111649625125 L -0.43184693396580626, -0.9019469084288346 L -0.44744677629904306, -0.8943105626009312 M -0.44744677629904306,-0.8943105626009312 Q -0.19341757805107634, 0.050888510499481024 0.05061251820375086, 0.9987183652066658L 0.05061251820375086, 0.9987183652066658 L 0.06789715402050582, 0.997692325557291 L 0.08516143349695489, 0.996367166382325 \", \"type\": \"path\"}, {\"fillcolor\": \"#e6c4a9\", \"layer\": \"below\", \"line\": {\"color\": \"rgb(175,175,175)\", \"width\": 0.5}, \"path\": \"M 0.26312843785895357,0.9647608124244614 Q -0.19752821151826447, 0.0313465413466267 -0.048480702826765136, -0.9988241193790941L -0.048480702826765136, -0.9988241193790941 L -0.050421489071816275, -0.9987280277632048 L -0.052362084931130835, -0.9986281650652885 M -0.052362084931130835,-0.9986281650652885 Q -0.19756048397410395, 0.031142497843265917 0.2573814317468475, 0.9663098874543005L 0.2573814317468475, 0.9663098874543005 L 0.2602560873401888, 0.9655396258064067 L 0.26312843785895357, 0.9647608124244614 \", \"type\": \"path\"}, {\"fillcolor\": \"#e6c4a9\", \"layer\": \"below\", \"line\": {\"color\": \"rgb(175,175,175)\", \"width\": 0.5}, \"path\": \"M 0.014650313454384466,0.9998926783988811 Q -0.1970415502711437, -0.03427283861521179 0.351412305003783, -0.9362208029583236L 0.351412305003783, -0.9362208029583236 L 0.32299757337039436, -0.9463997926863872 L 0.29428858810345143, -0.9557166038696184 M 0.29428858810345143,-0.9557166038696184 Q -0.1970560448443317, -0.03418940172493134 -0.04485537848431218, 0.9989934909803112L -0.04485537848431218, 0.9989934909803112 L -0.015109223106069103, 0.9998858491733599 L 0.014650313454384466, 0.9998926783988811 \", \"type\": \"path\"}, {\"fillcolor\": \"#e6c4a9\", \"layer\": \"below\", \"line\": {\"color\": \"rgb(175,175,175)\", \"width\": 0.5}, \"path\": \"M 0.05061251820375086,0.9987183652066658 Q -0.17636445091408184, -0.0943163848637893 0.858738063918695, -0.5124148100681432L 0.858738063918695, -0.5124148100681432 L 0.8495261800628565, -0.5275464618285398 L 0.8400476930680912, -0.5425125559569824 M 0.8400476930680912,-0.5425125559569824 Q -0.1763383846280174, -0.09436511064361341 0.014650313454384466, 0.9998926783988811L 0.014650313454384466, 0.9998926783988811 L 0.03263669793159045, 0.9994672810793368 L 0.05061251820375086, 0.9987183652066658 \", \"type\": \"path\"}, {\"fillcolor\": \"#e6c4a9\", \"layer\": \"below\", \"line\": {\"color\": \"rgb(175,175,175)\", \"width\": 0.5}, \"path\": \"M 0.1951998992559724,0.9807634777715054 Q -0.17362539450694714, -0.09926843598197255 0.9442212319276941, -0.3293118054017312L 0.9442212319276941, -0.3293118054017312 L 0.9417576749344384, -0.3362922563813811 L 0.9392425135675609, -0.34325427995480284 M 0.9392425135675609,-0.34325427995480284 Q -0.173514112164523, -0.0994628215955959 0.17845550797390147, 0.983947982199149L 0.17845550797390147, 0.983947982199149 L 0.18683448853234538, 0.9823914056499359 L 0.1951998992559724, 0.9807634777715054 \", \"type\": \"path\"}, {\"fillcolor\": \"#e6c4a9\", \"layer\": \"below\", \"line\": {\"color\": \"rgb(175,175,175)\", \"width\": 0.5}, \"path\": \"M 0.26704151872091864,0.9636850249325374 Q -0.17274179622094876, -0.10079817378484704 0.9703677555010721, -0.24163281872256417L 0.9703677555010721, -0.24163281872256417 L 0.9699601028442787, -0.2432640517838923 L 0.9695497080113494, -0.24489459711293576 M 0.9695497080113494,-0.24489459711293576 Q -0.1727067347016131, -0.10085823609753759 0.26312843785895357, 0.9647608124244614L 0.26312843785895357, 0.9647608124244614 L 0.2650855240194339, 0.9642249037207772 L 0.26704151872091864, 0.9636850249325374 \", \"type\": \"path\"}, {\"fillcolor\": \"#e6c4a9\", \"layer\": \"below\", \"line\": {\"color\": \"rgb(175,175,175)\", \"width\": 0.5}, \"path\": \"M 0.2573814317468475,0.9663098874543005 Q -0.16383449319620932, -0.11470945400942874 0.9960575903633733, -0.08870894362751937L 0.9960575903633733, -0.08870894362751937 L 0.9958158505613246, -0.09138266668699095 L 0.9955669336822857, -0.09405573113027961 M 0.9955669336822857,-0.09405573113027961 Q -0.16373893665927652, -0.11484581238203438 0.25057777536220655, 0.9680964716878827L 0.25057777536220655, 0.9680964716878827 L 0.25398117448448937, 0.9672091619745334 L 0.2573814317468475, 0.9663098874543005 \", \"type\": \"path\"}, {\"fillcolor\": \"#e1b396\", \"layer\": \"below\", \"line\": {\"color\": \"rgb(175,175,175)\", \"width\": 0.5}, \"path\": \"M -0.3304358975184299,0.9438284365451116 Q -0.10348325418377327, 0.1711467677273999 -0.6822914217421641, 0.731080307365105L -0.6822914217421641, 0.731080307365105 L -0.6780997651373872, 0.73496986912432 L -0.6738859355682494, 0.7388353983420834 M -0.6738859355682494,0.7388353983420834 Q -0.10375653325851852, 0.17098123232148593 -0.3442097708398476, 0.9388927700533111L -0.3442097708398476, 0.9388927700533111 L -0.33733186131697707, 0.941385795166054 L -0.3304358975184299, 0.9438284365451116 \", \"type\": \"path\"}, {\"fillcolor\": \"#e1b396\", \"layer\": \"below\", \"line\": {\"color\": \"rgb(175,175,175)\", \"width\": 0.5}, \"path\": \"M -0.35790995559928457,0.9337561050311362 Q -0.11935893007260992, 0.16047880175251128 -0.7913244341576441, 0.611396467036803L -0.7913244341576441, 0.611396467036803 L -0.7865453552947893, 0.6175325125563784 L -0.7817186977926136, 0.6236312031332464 M -0.7817186977926136,0.6236312031332464 Q -0.119519569977864, 0.160359198028384 -0.37424877997574996, 0.9273283402801096L -0.37424877997574996, 0.9273283402801096 L -0.36609347516670104, 0.9305780823984455 L -0.35790995559928457, 0.9337561050311362 \", \"type\": \"path\"}, {\"fillcolor\": \"#e1b396\", \"layer\": \"below\", \"line\": {\"color\": \"rgb(175,175,175)\", \"width\": 0.5}, \"path\": \"M -0.4788193117862264,0.8779134733335424 Q -0.15055313988697974, 0.13165770797857418 -0.9339098258386606, 0.357508653324647L -0.9339098258386606, 0.357508653324647 L -0.9267059088161967, 0.37578738478712503 L -0.9191442754875067, 0.3939210591457969 M -0.9191442754875067,0.3939210591457969 Q -0.15064576791281206, 0.13155171078309535 -0.5141461434778725, 0.8577025959776681L -0.5141461434778725, 0.8577025959776681 L -0.4965855603295705, 0.8679877771444517 L -0.4788193117862264, 0.8779134733335424 \", \"type\": \"path\"}, {\"fillcolor\": \"#e1b396\", \"layer\": \"below\", \"line\": {\"color\": \"rgb(175,175,175)\", \"width\": 0.5}, \"path\": \"M -0.2685180059972269,0.9632746651164834 Q -0.14049648615901109, 0.14234021700479035 -0.9596921685536818, 0.28105327184847295L -0.9596921685536818, 0.28105327184847295 L -0.9594419223298704, 0.281906363312294 L -0.9591909177744675, 0.2827592319606465 M -0.9591909177744675,0.2827592319606465 Q -0.1405592600597015, 0.14227822887381333 -0.2710796465738352, 0.9625569205056939L -0.2710796465738352, 0.9625569205056939 L -0.2697990649620227, 0.9629166446508328 L -0.2685180059972269, 0.9632746651164834 \", \"type\": \"path\"}, {\"fillcolor\": \"#e1b396\", \"layer\": \"below\", \"line\": {\"color\": \"rgb(175,175,175)\", \"width\": 0.5}, \"path\": \"M -0.306226496773087,0.9519586822305276 Q -0.15418573918484083, 0.12738429193595355 -0.9926368024650013, 0.12112876781366964L -0.9926368024650013, 0.12112876781366964 L -0.9920384002896457, 0.1259357469138947 L -0.9914167198010546, 0.13073977091504 M -0.9914167198010546,0.13073977091504 Q -0.15429721075063985, 0.12724924657762274 -0.3170959302930086, 0.9483934684463045L -0.3170959302930086, 0.9483934684463045 L -0.31166631147466634, 0.9501916176707602 L -0.306226496773087, 0.9519586822305276 \", \"type\": \"path\"}, {\"fillcolor\": \"#e1b396\", \"layer\": \"below\", \"line\": {\"color\": \"rgb(175,175,175)\", \"width\": 0.5}, \"path\": \"M -0.28079623013525773,0.9597674078347459 Q -0.15755089989938378, 0.12319786500136419 -0.9991551132060237, 0.04109817215227547L -0.9991551132060237, 0.04109817215227547 L -0.9990248970848131, 0.04415036811487074 L -0.9988853572076658, 0.04720215202841896 M -0.9988853572076658,0.04720215202841896 Q -0.15760058614990358, 0.12313429759903137 -0.2874279452894979, 0.9578022636570961L -0.2874279452894979, 0.9578022636570961 L -0.28411378676895577, 0.9587905695029568 L -0.28079623013525773, 0.9597674078347459 \", \"type\": \"path\"}, {\"fillcolor\": \"#e1b396\", \"layer\": \"below\", \"line\": {\"color\": \"rgb(175,175,175)\", \"width\": 0.5}, \"path\": \"M -0.27517427353391,0.961394361947835 Q -0.16738190786200757, 0.10946824617428755 -0.9910811542304213, -0.1332596928155541L -0.9910811542304213, -0.1332596928155541 L -0.9914256609512228, -0.13067195111205412 L -0.991763411014929, -0.12808331886718488 M -0.991763411014929,-0.12808331886718488 Q -0.16741646406104183, 0.1094153899654792 -0.28079623013525773, 0.9597674078347459L -0.28079623013525773, 0.9597674078347459 L -0.2779864420838875, 0.9605849978099499 L -0.27517427353391, 0.961394361947835 \", \"type\": \"path\"}, {\"fillcolor\": \"#e1b396\", \"layer\": \"below\", \"line\": {\"color\": \"rgb(175,175,175)\", \"width\": 0.5}, \"path\": \"M -0.3442097708398476,0.9388927700533111 Q -0.18108673626822006, 0.08489754971566682 -0.9418819892548681, -0.3359439213876217L -0.9418819892548681, -0.3359439213876217 L -0.9440846691872536, -0.3297031049377514 L -0.9462459985992935, -0.3234478476274434 M -0.9462459985992935,-0.3234478476274434 Q -0.18114592271017194, 0.08477119018558377 -0.35790995559928457, 0.9337561050311362L -0.35790995559928457, 0.9337561050311362 L -0.3510692579757277, 0.9363494946356152 L -0.3442097708398476, 0.9388927700533111 \", \"type\": \"path\"}, {\"fillcolor\": \"#e1b396\", \"layer\": \"below\", \"line\": {\"color\": \"rgb(175,175,175)\", \"width\": 0.5}, \"path\": \"M -0.3170959302930086,0.9483934684463045 Q -0.18791114161985534, 0.06847921476712969 -0.8529431118976393, -0.5220038772522396L -0.8529431118976393, -0.5220038772522396 L -0.8566162705110437, -0.5159540338981278 L -0.8602465189036148, -0.5098783450139972 M -0.8602465189036148,-0.5098783450139972 Q -0.1879092340340831, 0.06848444907221043 -0.3304358975184299, 0.9438284365451116L -0.3304358975184299, 0.9438284365451116 L -0.32377395955553673, 0.9461344635482473 L -0.3170959302930086, 0.9483934684463045 \", \"type\": \"path\"}, {\"fillcolor\": \"#e1b396\", \"layer\": \"below\", \"line\": {\"color\": \"rgb(175,175,175)\", \"width\": 0.5}, \"path\": \"M -0.37424877997574996,0.9273283402801096 Q -0.19955632538058343, 0.013314390733290044 -0.4941257900186799, -0.869390420719262L -0.4941257900186799, -0.869390420719262 L -0.5042374281711202, -0.8635650618403772 L -0.5142803992543581, -0.85762210264357 M -0.5142803992543581,-0.85762210264357 Q -0.1995532521510804, 0.013360372596874885 -0.3953648949355604, 0.9185241422263181L -0.3953648949355604, 0.9185241422263181 L -0.3848320161167281, 0.9229866301152657 L -0.37424877997574996, 0.9273283402801096 \", \"type\": \"path\"}, {\"fillcolor\": \"#e1b396\", \"layer\": \"below\", \"line\": {\"color\": \"rgb(175,175,175)\", \"width\": 0.5}, \"path\": \"M -0.2710796465738352,0.9625569205056939 Q -0.19884102289991046, -0.021499944467772047 -0.059064394166289336, -0.9982541747179269L -0.059064394166289336, -0.9982541747179269 L -0.06047507762472577, -0.9981697075078383 L -0.0618856403046041, -0.9980832467906118 M -0.0618856403046041,-0.9980832467906118 Q -0.19882559907275946, -0.021642115269961903 -0.27517427353391, 0.961394361947835L -0.27517427353391, 0.961394361947835 L -0.2731275786036075, 0.9619778198098593 L -0.2710796465738352, 0.9625569205056939 \", \"type\": \"path\"}, {\"fillcolor\": \"#e1b396\", \"layer\": \"below\", \"line\": {\"color\": \"rgb(175,175,175)\", \"width\": 0.5}, \"path\": \"M -0.4453213803194647,0.8953707992951114 Q -0.18572386703059218, -0.07420677337819585 0.29428858810345143, -0.9557166038696184L 0.29428858810345143, -0.9557166038696184 L 0.275614221572547, -0.9612683292749007 L 0.25683524466603674, -0.9664552018057211 M 0.25683524466603674,-0.9664552018057211 Q -0.18576793953452203, -0.07409637400776216 -0.4788193117862264, 0.8779134733335424L -0.4788193117862264, 0.8779134733335424 L -0.46215278237702795, 0.8868003189789523 L -0.4453213803194647, 0.8953707992951114 \", \"type\": \"path\"}, {\"fillcolor\": \"#e1b396\", \"layer\": \"below\", \"line\": {\"color\": \"rgb(175,175,175)\", \"width\": 0.5}, \"path\": \"M -0.3953648949355604,0.9185241422263181 Q -0.16064386896979232, -0.11913667513581282 0.7641788480902507, -0.6450044093891588L 0.7641788480902507, -0.6450044093891588 L 0.7556072273980989, -0.6550249750229051 L 0.7469042183837985, -0.6649316420208073 M 0.7469042183837985,-0.6649316420208073 Q -0.16064603300290944, -0.11913375709859962 -0.419416075136398, 0.9077941153792414L -0.419416075136398, 0.9077941153792414 L -0.4074258100156214, 0.9132383091685953 L -0.3953648949355604, 0.9185241422263181 \", \"type\": \"path\"}, {\"fillcolor\": \"#e1b396\", \"layer\": \"below\", \"line\": {\"color\": \"rgb(175,175,175)\", \"width\": 0.5}, \"path\": \"M -0.2874279452894979,0.9578022636570961 Q -0.1482945406875616, -0.13419660652291152 0.9244257981151202, -0.3813619590090536L 0.9244257981151202, -0.3813619590090536 L 0.9228948975155504, -0.3850519551174383 L 0.9213492677645123, -0.388735805901382 M 0.9213492677645123,-0.388735805901382 Q -0.1482237267496169, -0.1342748182961158 -0.2960793906685855, 0.9551633338970457L -0.2960793906685855, 0.9551633338970457 L -0.2917566516239082, 0.9564925803335881 L -0.2874279452894979, 0.9578022636570961 \", \"type\": \"path\"}, {\"fillcolor\": \"#e1b396\", \"layer\": \"below\", \"line\": {\"color\": \"rgb(175,175,175)\", \"width\": 0.5}, \"path\": \"M -0.2960793906685855,0.9551633338970457 Q -0.13435708899177273, -0.14814915672273288 0.979461715998255, -0.20163022316546117L 0.979461715998255, -0.20163022316546117 L 0.9785478179483835, -0.2060198242608152 L 0.9776142473616268, -0.21040528357329805 M 0.9776142473616268,-0.21040528357329805 Q -0.1342330622700509, -0.14826154253077442 -0.306226496773087, 0.9519586822305276L -0.306226496773087, 0.9519586822305276 L -0.30115720638862525, 0.9535745052381586 L -0.2960793906685855, 0.9551633338970457 \", \"type\": \"path\"}, {\"fillcolor\": \"#e1b396\", \"layer\": \"below\", \"line\": {\"color\": \"rgb(175,175,175)\", \"width\": 0.5}, \"path\": \"M -0.2662109041664913,0.9639148066623208 Q -0.12933820184261471, -0.15255041640100186 0.9944778807797914, -0.10494638936016404L 0.9944778807797914, -0.10494638936016404 L 0.9943799252340889, -0.10587050718423803 L 0.9942811109527796, -0.10679453357970306 M 0.9942811109527796,-0.10679453357970306 Q -0.12929733850752775, -0.15258505252766338 -0.2685180059972269, 0.9632746651164834L -0.2685180059972269, 0.9632746651164834 L -0.26736464666540916, 0.9635954263660039 L -0.2662109041664913, 0.9639148066623208 \", \"type\": \"path\"}, {\"fillcolor\": \"#dba284\", \"layer\": \"below\", \"line\": {\"color\": \"rgb(175,175,175)\", \"width\": 0.5}, \"path\": \"M -0.690758040220534,0.7230859768178934 Q -0.14969610352646182, 0.13263135597962808 -0.8010209702362369, 0.5986362879426854L -0.8010209702362369, 0.5986362879426854 L -0.7961982650484779, 0.6050358028528509 L -0.7913244341576441, 0.611396467036803 M -0.7913244341576441,0.611396467036803 Q -0.14957091249644583, 0.13277252025543745 -0.7009129068858031, 0.713246869576652L -0.7009129068858031, 0.713246869576652 L -0.6958528639466739, 0.7181843716882259 L -0.690758040220534, 0.7230859768178934 \", \"type\": \"path\"}, {\"fillcolor\": \"#dba284\", \"layer\": \"below\", \"line\": {\"color\": \"rgb(175,175,175)\", \"width\": 0.5}, \"path\": \"M -0.6478283401508284,0.7617863491146468 Q -0.15179467147612807, 0.13022433609527198 -0.8514477182572545, 0.5244394941978674L -0.8514477182572545, 0.5244394941978674 L -0.8494887957607227, 0.5276066582947918 L -0.8475180922938279, 0.5307665053812558 M -0.8475180922938279,0.5307665053812558 Q -0.1517023140915729, 0.13033191435431987 -0.6524102500294781, 0.7578659945244106L -0.6524102500294781, 0.7578659945244106 L -0.6501222501526509, 0.7598296255453942 L -0.6478283401508284, 0.7617863491146468 \", \"type\": \"path\"}, {\"fillcolor\": \"#dba284\", \"layer\": \"below\", \"line\": {\"color\": \"rgb(175,175,175)\", \"width\": 0.5}, \"path\": \"M -0.6675626245845422,0.7445536530417386 Q -0.17688922937786555, 0.09332845509331475 -0.9914167198010546, 0.13073977091504L -0.9914167198010546, 0.13073977091504 L -0.9908022886291874, 0.1353174964561661 L -0.9901667205761921, 0.13989233525604222 M -0.9901667205761921,0.13989233525604222 Q -0.17685598760687357, 0.09339143241003102 -0.6738859355682494, 0.7388353983420834L -0.6738859355682494, 0.7388353983420834 L -0.6707303739157799, 0.741701264328704 L -0.6675626245845422, 0.7445536530417386 \", \"type\": \"path\"}, {\"fillcolor\": \"#dba284\", \"layer\": \"below\", \"line\": {\"color\": \"rgb(175,175,175)\", \"width\": 0.5}, \"path\": \"M -0.6398732692174183,0.7684804482490192 Q -0.1783927289480793, 0.09042142588157473 -0.9980916316966293, 0.061750261029084944L -0.9980916316966293, 0.061750261029084944 L -0.9980698029096857, 0.06210208144515928 L -0.9980478501084759, 0.06245389414479531 M -0.9980478501084759,0.06245389414479531 Q -0.17838905854234172, 0.09042866687271789 -0.6403525325740587, 0.768081137657988L -0.6403525325740587, 0.768081137657988 L -0.6401129320326178, 0.7682808303248267 L -0.6398732692174183, 0.7684804482490192 \", \"type\": \"path\"}, {\"fillcolor\": \"#dba284\", \"layer\": \"below\", \"line\": {\"color\": \"rgb(175,175,175)\", \"width\": 0.5}, \"path\": \"M -0.6403525325740587,0.768081137657988 Q -0.18556590006022022, 0.0746009164477244 -0.9938071309448371, -0.11111879446426429L -0.9938071309448371, -0.11111879446426429 L -0.9938728841622063, -0.11052913700512447 L -0.9939382875170345, -0.10993944063758408 M -0.9939382875170345,-0.10993944063758408 Q -0.18556041875715953, 0.07461454945697656 -0.6411507509913684, 0.7674149558766784L -0.6411507509913684, 0.7674149558766784 L -0.6407517283603565, 0.7677481505045882 L -0.6403525325740587, 0.768081137657988 \", \"type\": \"path\"}, {\"fillcolor\": \"#dba284\", \"layer\": \"below\", \"line\": {\"color\": \"rgb(175,175,175)\", \"width\": 0.5}, \"path\": \"M -0.6421076981870664,0.7666144428126223 Q -0.19640766361049367, 0.03773631772003147 -0.8804845671696241, -0.47407481158158954L -0.8804845671696241, -0.47407481158158954 L -0.8813062449866399, -0.4725455560552322 L -0.8821252667432529, -0.4710148763819938 M -0.8821252667432529,-0.4710148763819938 Q -0.1963931421528721, 0.037811819783260564 -0.6441776530038574, 0.7648759058634557L -0.6441776530038574, 0.7648759058634557 L -0.6431432630446895, 0.7657458737729047 L -0.6421076981870664, 0.7666144428126223 \", \"type\": \"path\"}, {\"fillcolor\": \"#dba284\", \"layer\": \"below\", \"line\": {\"color\": \"rgb(175,175,175)\", \"width\": 0.5}, \"path\": \"M -0.6411507509913684,0.7674149558766784 Q -0.19991710205383353, -0.005757803956119849 -0.5959200357411917, -0.8030437790072324L -0.5959200357411917, -0.8030437790072324 L -0.596573647624685, -0.8025583361723796 L -0.5972268640614373, -0.8020723613511075 M -0.5972268640614373,-0.8020723613511075 Q -0.19991819443815279, -0.005719749346688266 -0.6421076981870664, 0.7666144428126223L -0.6421076981870664, 0.7666144428126223 L -0.6416293494317822, 0.7670148485836163 L -0.6411507509913684, 0.7674149558766784 \", \"type\": \"path\"}, {\"fillcolor\": \"#dba284\", \"layer\": \"below\", \"line\": {\"color\": \"rgb(175,175,175)\", \"width\": 0.5}, \"path\": \"M -0.6622820818337967,0.7492545922995015 Q -0.18573403452690096, -0.07418132122279812 0.036101817452714055, -0.9993481169125256L 0.036101817452714055, -0.9993481169125256 L 0.03143967192936984, -0.9995056513241801 L 0.02677684226562355, -0.9996414360750968 M 0.02677684226562355,-0.9996414360750968 Q -0.18581773133157542, -0.07397141828291831 -0.6675626245845422, 0.7445536530417386L -0.6675626245845422, 0.7445536530417386 L -0.6649265075966633, 0.7469087892743694 L -0.6622820818337967, 0.7492545922995015 \", \"type\": \"path\"}, {\"fillcolor\": \"#dba284\", \"layer\": \"below\", \"line\": {\"color\": \"rgb(175,175,175)\", \"width\": 0.5}, \"path\": \"M -0.6441776530038574,0.7648759058634557 Q -0.15158550677992733, -0.13046775131913868 0.6604249172379121, -0.7508920885795088L 0.6604249172379121, -0.7508920885795088 L 0.6581214201337958, -0.752911811808711 L 0.6558117463095183, -0.754924468673827 M 0.6558117463095183,-0.754924468673827 Q -0.15167318284952278, -0.13036581455387464 -0.6478283401508284, 0.7617863491146468L -0.6478283401508284, 0.7617863491146468 L -0.6460048435786937, 0.7633333099458371 L -0.6441776530038574, 0.7648759058634557 \", \"type\": \"path\"}, {\"fillcolor\": \"#dba284\", \"layer\": \"below\", \"line\": {\"color\": \"rgb(175,175,175)\", \"width\": 0.5}, \"path\": \"M -0.6572819152413168,0.7536447995552722 Q -0.10224350907764826, -0.1718902697987552 0.975982082211455, -0.21785080950547944L 0.975982082211455, -0.21785080950547944 L 0.9751943776852441, -0.22135023318508032 L 0.9743941258746865, -0.2248468088741878 M 0.9743941258746865,-0.2248468088741878 Q -0.10228819422611422, -0.17186368238217387 -0.6622820818337967, 0.7492545922995015L -0.6622820818337967, 0.7492545922995015 L -0.6597856500971734, 0.7514538548213392 L -0.6572819152413168, 0.7536447995552722 \", \"type\": \"path\"}, {\"fillcolor\": \"#d59171\", \"layer\": \"below\", \"line\": {\"color\": \"rgb(175,175,175)\", \"width\": 0.5}, \"path\": \"M -0.7374615925105192,0.6753890727364849 Q -0.1611712544022081, 0.11842223927294536 -0.8648925129071607, 0.501957110834319L -0.8648925129071607, 0.501957110834319 L -0.8625627712142351, 0.5059500624718009 L -0.8602145953825495, 0.5099322012687928 M -0.8602145953825495,0.5099322012687928 Q -0.16112617154017186, 0.1184835720461158 -0.7431654171442893, 0.6691077362882263L -0.7431654171442893, 0.6691077362882263 L -0.7403201667027107, 0.6722544538887568 L -0.7374615925105192, 0.6753890727364849 \", \"type\": \"path\"}, {\"fillcolor\": \"#d59171\", \"layer\": \"below\", \"line\": {\"color\": \"rgb(175,175,175)\", \"width\": 0.5}, \"path\": \"M -0.7729715645076131,0.6344406674092173 Q -0.18439012500128113, 0.07746148592695552 -0.994159227880108, 0.10792325801618262L -0.994159227880108, 0.10792325801618262 L -0.9934199579840461, 0.11452854263883706 L -0.9926368024650013, 0.12112876781366964 M -0.9926368024650013,0.12112876781366964 Q -0.1844138318781039, 0.07740502963008568 -0.7817186977926136, 0.6236312031332464L -0.7817186977926136, 0.6236312031332464 L -0.7773639199578729, 0.6290511393740017 L -0.7729715645076131, 0.6344406674092173 \", \"type\": \"path\"}, {\"fillcolor\": \"#d59171\", \"layer\": \"below\", \"line\": {\"color\": \"rgb(175,175,175)\", \"width\": 0.5}, \"path\": \"M -0.7236216708984708,0.6901968396088938 Q -0.18334812138247528, 0.07989659808475649 -0.9981918595455662, 0.06010833167677082L -0.9981918595455662, 0.06010833167677082 L -0.998163498626476, 0.060577471140292743 L -0.9981349172168841, 0.061046597222482825 M -0.9981349172168841,0.061046597222482825 Q -0.1833482311075017, 0.07989634628535992 -0.7242720244130213, 0.6895143469520152L -0.7242720244130213, 0.6895143469520152 L -0.7239469280822654, 0.6898556699196227 L -0.7236216708984708, 0.6901968396088938 \", \"type\": \"path\"}, {\"fillcolor\": \"#d59171\", \"layer\": \"below\", \"line\": {\"color\": \"rgb(175,175,175)\", \"width\": 0.5}, \"path\": \"M -0.7289678007790407,0.6845479862123391 Q -0.19029675617932096, 0.06153978052957346 -0.991763411014929, -0.12808331886718488L -0.991763411014929, -0.12808331886718488 L -0.992049665048625, -0.1258469788151897 L -0.9923308763369315, -0.12360999906309217 M -0.9923308763369315,-0.12360999906309217 Q -0.19029579721612055, 0.061542745810380675 -0.732025893169848, 0.6812768099156805L -0.732025893169848, 0.6812768099156805 L -0.7304986780194715, 0.6829141098350541 L -0.7289678007790407, 0.6845479862123391 \", \"type\": \"path\"}, {\"fillcolor\": \"#d59171\", \"layer\": \"below\", \"line\": {\"color\": \"rgb(175,175,175)\", \"width\": 0.5}, \"path\": \"M -0.7250840610339272,0.6886603694380475 Q -0.19463705466663106, 0.04600453184957837 -0.9566747230891147, -0.2911588470274699L -0.9566747230891147, -0.2911588470274699 L -0.956954560422148, -0.29023778059937955 L -0.9572335109718997, -0.2893164452159781 M -0.9572335109718997,-0.2893164452159781 Q -0.19463613915275998, 0.046008405055027235 -0.7263812247849367, 0.6872920167439276L -0.7263812247849367, 0.6872920167439276 L -0.7257329654091669, 0.6879764988125808 L -0.7250840610339272, 0.6886603694380475 \", \"type\": \"path\"}, {\"fillcolor\": \"#d59171\", \"layer\": \"below\", \"line\": {\"color\": \"rgb(175,175,175)\", \"width\": 0.5}, \"path\": \"M -0.7263812247849367,0.6872920167439276 Q -0.19836942285635636, 0.025486703899015414 -0.8765293326719606, -0.4813484485958664L -0.8765293326719606, -0.4813484485958664 L -0.8775558015365241, -0.4794745198543805 L -0.878578264141871, -0.47759840219315713 M -0.878578264141871,-0.47759840219315713 Q -0.19836301517487193, 0.02553652699044123 -0.7289678007790407, 0.6845479862123391L -0.7289678007790407, 0.6845479862123391 L -0.7276758062340634, 0.6859212207109544 L -0.7263812247849367, 0.6872920167439276 \", \"type\": \"path\"}, {\"fillcolor\": \"#d59171\", \"layer\": \"below\", \"line\": {\"color\": \"rgb(175,175,175)\", \"width\": 0.5}, \"path\": \"M -0.7431654171442893,0.6691077362882263 Q -0.19839019161680607, -0.02532453099757174 -0.5512501349594956, -0.8343400318258366L -0.5512501349594956, -0.8343400318258366 L -0.5555449559570977, -0.8314865013399955 L -0.559825006056726, -0.8286108631882559 M -0.559825006056726,-0.8286108631882559 Q -0.19840732523988558, -0.025189944246748038 -0.7491280722850937, 0.6624251892209561L -0.7491280722850937, 0.6624251892209561 L -0.7461542258522413, 0.6657731379703168 L -0.7431654171442893, 0.6691077362882263 \", \"type\": \"path\"}, {\"fillcolor\": \"#d59171\", \"layer\": \"below\", \"line\": {\"color\": \"rgb(175,175,175)\", \"width\": 0.5}, \"path\": \"M -0.764682818769816,0.6444068487207819 Q -0.1775178488523168, -0.09212715853018594 0.08676454670511063, -0.9962288459159656L 0.08676454670511063, -0.9962288459159656 L 0.0792445879047422, -0.996855202769092 L 0.07172011675086687, -0.9974247965903204 M 0.07172011675086687,-0.9974247965903204 Q -0.17761583503661377, -0.09193810496331982 -0.7729715645076131, 0.6344406674092173L -0.7729715645076131, 0.6344406674092173 L -0.7688433402166897, 0.639437188631099 L -0.764682818769816, 0.6444068487207819 \", \"type\": \"path\"}, {\"fillcolor\": \"#d59171\", \"layer\": \"below\", \"line\": {\"color\": \"rgb(175,175,175)\", \"width\": 0.5}, \"path\": \"M -0.7491280722850937,0.6624251892209561 Q -0.1389133509790538, -0.14388565223735902 0.6883506305624884, -0.7253781147816803L 0.6883506305624884, -0.7253781147816803 L 0.6838932615519707, -0.7295820768109698 L 0.6794102182068643, -0.73375864928197 M 0.6794102182068643,-0.73375864928197 Q -0.13901495274784456, -0.14378749219773793 -0.7562655848493525, 0.6542647515894975L -0.7562655848493525, 0.6542647515894975 L -0.7527078875106464, 0.6583546430908345 L -0.7491280722850937, 0.6624251892209561 \", \"type\": \"path\"}, {\"fillcolor\": \"#d59171\", \"layer\": \"below\", \"line\": {\"color\": \"rgb(175,175,175)\", \"width\": 0.5}, \"path\": \"M -0.7229706742608762,0.6908787188492449 Q -0.11195948600009037, -0.16572589868392804 0.9107999060893629, -0.412848072621888L 0.9107999060893629, -0.412848072621888 L 0.9106057685831245, -0.41327609926432607 L 0.9104114299275522, -0.4137040346156534 M 0.9104114299275522,-0.4137040346156534 Q -0.11195925840196791, -0.1657260524422198 -0.7236216708984708, 0.6901968396088938L -0.7236216708984708, 0.6901968396088938 L -0.7232962529339064, 0.6905378559440246 L -0.7229706742608762, 0.6908787188492449 \", \"type\": \"path\"}, {\"fillcolor\": \"#d59171\", \"layer\": \"below\", \"line\": {\"color\": \"rgb(175,175,175)\", \"width\": 0.5}, \"path\": \"M -0.732025893169848,0.6812768099156805 Q -0.09248840984488346, -0.1773299017209587 0.9776142473616268, -0.21040528357329805L 0.9776142473616268, -0.21040528357329805 L 0.9768052588384525, -0.21412960165643563 L 0.975982082211455, -0.21785080950547944 M 0.975982082211455,-0.21785080950547944 Q -0.0924537457994435, -0.17734797683551928 -0.7374615925105192, 0.6753890727364849L -0.7374615925105192, 0.6753890727364849 L -0.7347496403572272, 0.6783383860544273 L -0.732025893169848, 0.6812768099156805 \", \"type\": \"path\"}, {\"fillcolor\": \"#d0805f\", \"layer\": \"below\", \"line\": {\"color\": \"rgb(175,175,175)\", \"width\": 0.5}, \"path\": \"M -0.8514477182572545,0.5244394941978674 Q -0.18364799063112458, 0.07920489591654285 -0.9657935747526076, 0.25931211110663377L -0.9657935747526076, 0.25931211110663377 L -0.9650985256582582, 0.26188706682892254 L -0.9643966113449894, 0.2644601596201238 M -0.9643966113449894,0.2644601596201238 Q -0.18374174478789645, 0.078987158591125 -0.855463142430624, 0.5178637001593391L -0.855463142430624, 0.5178637001593391 L -0.8534617635549749, 0.5211554644725813 L -0.8514477182572545, 0.5244394941978674 \", \"type\": \"path\"}, {\"fillcolor\": \"#d0805f\", \"layer\": \"below\", \"line\": {\"color\": \"rgb(175,175,175)\", \"width\": 0.5}, \"path\": \"M -0.855463142430624,0.5178637001593391 Q -0.18839352281618973, 0.0671407518643171 -0.9901667205761921, 0.13989233525604222L -0.9901667205761921, 0.13989233525604222 L -0.9895912439828669, 0.14390680954159912 L -0.9889994914070962, 0.14791891696637377 M -0.9889994914070962,0.14791891696637377 Q -0.18843158856180903, 0.0670338454220935 -0.8602145953825495, 0.5099322012687928L -0.8602145953825495, 0.5099322012687928 L -0.8578480355958129, 0.5139034421215769 L -0.855463142430624, 0.5178637001593391 \", \"type\": \"path\"}, {\"fillcolor\": \"#d0805f\", \"layer\": \"below\", \"line\": {\"color\": \"rgb(175,175,175)\", \"width\": 0.5}, \"path\": \"M -0.8385398582128191,0.5448402574961081 Q -0.19022474931999755, 0.06176200082691692 -0.9986646453074883, 0.05166165127895643L -0.9986646453074883, 0.05166165127895643 L -0.99856575749049, 0.05353903218628222 L -0.9984633404047178, 0.055416223868578945 M -0.9984633404047178,0.055416223868578945 Q -0.19023553301246643, 0.061728777563327855 -0.8407716640115632, 0.541389886306742L -0.8407716640115632, 0.541389886306742 L -0.8396575334231385, 0.5431162182864465 L -0.8385398582128191, 0.5448402574961081 \", \"type\": \"path\"}, {\"fillcolor\": \"#d0805f\", \"layer\": \"below\", \"line\": {\"color\": \"rgb(175,175,175)\", \"width\": 0.5}, \"path\": \"M -0.8362938928145431,0.5482814285028241 Q -0.19481546747604128, 0.045243050649702105 -0.9923308763369315, -0.12360999906309217L -0.9923308763369315, -0.12360999906309217 L -0.9925637735211127, -0.12172573882926056 L -0.9927930928327666, -0.11984103981336937 M -0.9927930928327666,-0.11984103981336937 Q -0.19482252448262607, 0.04521265258991746 -0.8385398582128191, 0.5448402574961081L -0.8385398582128191, 0.5448402574961081 L -0.8374186430988806, 0.5465619966576798 L -0.8362938928145431, 0.5482814285028241 \", \"type\": \"path\"}, {\"fillcolor\": \"#d0805f\", \"layer\": \"below\", \"line\": {\"color\": \"rgb(175,175,175)\", \"width\": 0.5}, \"path\": \"M -0.8346001493341784,0.5508562341767289 Q -0.1980764984508411, 0.027671298514055077 -0.9536105359940582, -0.3010430959864801L -0.9536105359940582, -0.3010430959864801 L -0.95404423508947, -0.2996658096822994 L -0.9544759449907555, -0.29828789857116933 M -0.9544759449907555,-0.29828789857116933 Q -0.19807918208473424, 0.027652081741574214 -0.8362938928145431, 0.5482814285028241L -0.8362938928145431, 0.5482814285028241 L -0.8354480130014602, 0.54956948384341 L -0.8346001493341784, 0.5508562341767289 \", \"type\": \"path\"}, {\"fillcolor\": \"#d0805f\", \"layer\": \"below\", \"line\": {\"color\": \"rgb(175,175,175)\", \"width\": 0.5}, \"path\": \"M -0.8755194482251778,0.4831828802632398 Q -0.19990222839698746, -0.00625292586863703 -0.8436095504811106, -0.5369570991588234L -0.8436095504811106, -0.5369570991588234 L -0.8483092795481216, -0.5295010540429044 L -0.8529431118976393, -0.5220038772522396 M -0.8529431118976393,-0.5220038772522396 Q -0.19990433234104033, -0.006185297994672777 -0.8835835718087491, 0.468273500883504L -0.8835835718087491, 0.468273500883504 L -0.8795831007764376, 0.47574527725297205 L -0.8755194482251778, 0.4831828802632398 \", \"type\": \"path\"}, {\"fillcolor\": \"#d0805f\", \"layer\": \"below\", \"line\": {\"color\": \"rgb(175,175,175)\", \"width\": 0.5}, \"path\": \"M -0.8835835718087491,0.468273500883504 Q -0.1913375885240563, -0.05822308148663144 -0.4729848504532466, -0.88107055974066L -0.4729848504532466, -0.88107055974066 L -0.48359058524788756, -0.8752943195632001 L -0.4941257900186799, -0.869390420719262 M -0.4941257900186799,-0.869390420719262 Q -0.19137526997466303, -0.058099105347026093 -0.8940555138396071, 0.4479561788534634L -0.8940555138396071, 0.4479561788534634 L -0.8888775945538278, 0.45814476085643613 L -0.8835835718087491, 0.468273500883504 \", \"type\": \"path\"}, {\"fillcolor\": \"#d0805f\", \"layer\": \"below\", \"line\": {\"color\": \"rgb(175,175,175)\", \"width\": 0.5}, \"path\": \"M -0.8333246385120932,0.552783906104989 Q -0.17926580008317192, -0.08867791675800828 -0.06629283920650335, -0.9978002101973825L -0.06629283920650335, -0.9978002101973825 L -0.06708600019301715, -0.9977471967277596 L -0.067879118786896, -0.9976935527669378 M -0.067879118786896,-0.9976935527669378 Q -0.17923379346628876, -0.08874258999873597 -0.8346001493341784, 0.5508562341767289L -0.8346001493341784, 0.5508562341767289 L -0.8339629508903696, 0.5518204386774985 L -0.8333246385120932, 0.552783906104989 \", \"type\": \"path\"}, {\"fillcolor\": \"#d0805f\", \"layer\": \"below\", \"line\": {\"color\": \"rgb(175,175,175)\", \"width\": 0.5}, \"path\": \"M -0.9063523602167403,0.4225226610840469 Q -0.1576811398382798, -0.12303112670906032 0.18944532743247577, -0.9818912709226018L 0.18944532743247577, -0.9818912709226018 L 0.17298423054656137, -0.9849245940589635 L 0.15647466888328604, -0.9876819720931763 M 0.15647466888328604,-0.9876819720931763 Q -0.15781292294253207, -0.1228620419508582 -0.9191442754875067, 0.3939210591457969L -0.9191442754875067, 0.3939210591457969 L -0.9128603423581505, 0.40827196248304914 L -0.9063523602167403, 0.4225226610840469 \", \"type\": \"path\"}, {\"fillcolor\": \"#d0805f\", \"layer\": \"below\", \"line\": {\"color\": \"rgb(175,175,175)\", \"width\": 0.5}, \"path\": \"M -0.8697500961083501,0.4934924217447679 Q -0.12226201936063336, -0.15827823167403698 0.6971876772057682, -0.7168886543616279L 0.6971876772057682, -0.7168886543616279 L 0.6927821579023866, -0.7211469210168706 L 0.6883506305624884, -0.7253781147816803 M 0.6883506305624884,-0.7253781147816803 Q -0.12229684562772727, -0.15825132400554456 -0.8755194482251778, 0.4831828802632398L -0.8755194482251778, 0.4831828802632398 L -0.8726499969953189, 0.48834617101403593 L -0.8697500961083501, 0.4934924217447679 \", \"type\": \"path\"}, {\"fillcolor\": \"#d0805f\", \"layer\": \"below\", \"line\": {\"color\": \"rgb(175,175,175)\", \"width\": 0.5}, \"path\": \"M -0.8439550022919806,0.536413976427109 Q -0.0940017377069341, -0.17653235768004905 0.9161539167437749, -0.4008266468625064L 0.9161539167437749, -0.4008266468625064 L 0.9149251286580348, -0.4036235981085329 L 0.9136878017074226, -0.40641678239346557 M 0.9136878017074226,-0.40641678239346557 Q -0.09395163358495234, -0.17655902850525335 -0.8475180922938279, 0.5307665053812558L -0.8475180922938279, 0.5307665053812558 L -0.8457412612077208, 0.533593214996943 L -0.8439550022919806, 0.536413976427109 \", \"type\": \"path\"}, {\"fillcolor\": \"#d0805f\", \"layer\": \"below\", \"line\": {\"color\": \"rgb(175,175,175)\", \"width\": 0.5}, \"path\": \"M -0.8407716640115632,0.541389886306742 Q -0.07844047266758379, -0.18397579255892893 0.9727560217474189, -0.23183123636416L 0.9727560217474189, -0.23183123636416 L 0.972155094958289, -0.2343383693436483 L 0.9715477064206925, -0.23684394471611836 M 0.9715477064206925,-0.23684394471611836 Q -0.07837140491005773, -0.18400522517696008 -0.8439550022919806, 0.536413976427109L -0.8439550022919806, 0.536413976427109 L -0.8423670072826603, 0.5389042818921134 L -0.8407716640115632, 0.541389886306742 \", \"type\": \"path\"}, {\"fillcolor\": \"#d0805f\", \"layer\": \"below\", \"line\": {\"color\": \"rgb(175,175,175)\", \"width\": 0.5}, \"path\": \"M -0.8321871131471141,0.5544949131523862 Q -0.06808657697989053, -0.18805376368252097 0.9942811109527796, -0.10679453357970306L 0.9942811109527796, -0.10679453357970306 L 0.9941925551911869, -0.10761581297569082 L 0.9941033210502882, -0.10843701894089285 M 0.9941033210502882,-0.10843701894089285 Q -0.06804872493127621, -0.18806746405273697 -0.8333246385120932, 0.552783906104989L -0.8333246385120932, 0.552783906104989 L -0.8327563152657621, 0.5536397017781426 L -0.8321871131471141, 0.5544949131523862 \", \"type\": \"path\"}, {\"fillcolor\": \"#ca6f4c\", \"layer\": \"below\", \"line\": {\"color\": \"rgb(175,175,175)\", \"width\": 0.5}, \"path\": \"M -0.9587877336515213,0.28412335665935606 Q -0.19395735195689606, 0.04879083542909214 -0.9791036504795229, 0.2033618489728898L -0.9791036504795229, 0.2033618489728898 L -0.9789199780040988, 0.20424415943780322 L -0.9787355104426884, 0.2051263040141127 M -0.9787355104426884,0.2051263040141127 Q -0.1939480784303896, 0.048827685519174956 -0.9591909177744675, 0.2827592319606465L -0.9591909177744675, 0.2827592319606465 L -0.9589895682646982, 0.28344136599919195 L -0.9587877336515213, 0.28412335665935606 \", \"type\": \"path\"}, {\"fillcolor\": \"#ca6f4c\", \"layer\": \"below\", \"line\": {\"color\": \"rgb(175,175,175)\", \"width\": 0.5}, \"path\": \"M -0.9580774937923182,0.28650918988512475 Q -0.19691623543213993, 0.03498565739319528 -0.9981349172168841, 0.061046597222482825L -0.9981349172168841, 0.061046597222482825 L -0.9981133364665944, 0.061398432940287434 L -0.9980916316966293, 0.061750261029084944 M -0.9980916316966293,0.061750261029084944 Q -0.19691323344183878, 0.03500254984254591 -0.9582301879852487, 0.28599808886381556L -0.9582301879852487, 0.28599808886381556 L -0.9581538749678945, 0.2862536495557888 L -0.9580774937923182, 0.28650918988512475 \", \"type\": \"path\"}, {\"fillcolor\": \"#ca6f4c\", \"layer\": \"below\", \"line\": {\"color\": \"rgb(175,175,175)\", \"width\": 0.5}, \"path\": \"M -0.9620073793046493,0.273023446178896 Q -0.19994907217210975, -0.004513151616381847 -0.948708820714513, -0.3161511877227065L -0.948708820714513, -0.3161511877227065 L -0.9496178809710697, -0.3134100830222528 L -0.9505190213712639, -0.3106663644674375 M -0.9505190213712639,-0.3106663644674375 Q -0.19995241922772067, -0.004362343977936502 -0.9631637116735114, 0.2689157200970313L -0.9631637116735114, 0.2689157200970313 L -0.9625877366442507, 0.2709701999521324 L -0.9620073793046493, 0.273023446178896 \", \"type\": \"path\"}, {\"fillcolor\": \"#ca6f4c\", \"layer\": \"below\", \"line\": {\"color\": \"rgb(175,175,175)\", \"width\": 0.5}, \"path\": \"M -0.9596921685536818,0.28105327184847295 Q -0.19894466478261189, -0.020518780532336342 -0.8821252667432529, -0.4710148763819938L -0.8821252667432529, -0.4710148763819938 L -0.8828789272414187, -0.4696006812527445 L -0.8836303205488684, -0.4681852802114823 M -0.8836303205488684,-0.4681852802114823 Q -0.1989556268781177, -0.020412215302000488 -0.9602896643156065, 0.27900494728341246L -0.9602896643156065, 0.27900494728341246 L -0.9599914627461064, 0.280029268924859 L -0.9596921685536818, 0.28105327184847295 \", \"type\": \"path\"}, {\"fillcolor\": \"#ca6f4c\", \"layer\": \"below\", \"line\": {\"color\": \"rgb(175,175,175)\", \"width\": 0.5}, \"path\": \"M -0.9602896643156065,0.27900494728341246 Q -0.1892981571149161, -0.06454616729827221 -0.5898006678678582, -0.8075488667459254L -0.5898006678678582, -0.8075488667459254 L -0.5914431383506642, -0.8063467083692455 L -0.5930831585472117, -0.8051412093835857 M -0.5930831585472117,-0.8051412093835857 Q -0.18934341244998726, -0.06441329180995188 -0.9610303857898064, 0.27644275644099603L -0.9610303857898064, 0.27644275644099603 L -0.9606608792595568, 0.2777240988107717 L -0.9602896643156065, 0.27900494728341246 \", \"type\": \"path\"}, {\"fillcolor\": \"#ca6f4c\", \"layer\": \"below\", \"line\": {\"color\": \"rgb(175,175,175)\", \"width\": 0.5}, \"path\": \"M -0.9610303857898064,0.27644275644099603 Q -0.162873268358708, -0.11607023069741995 -0.052362084931130835, -0.9986281650652885L -0.052362084931130835, -0.9986281650652885 L -0.05412609160841333, -0.998534108684925 L -0.05588992938164685, -0.9984369363128122 M -0.05588992938164685,-0.9984369363128122 Q -0.1628719262266142, -0.11607211399484521 -0.9620073793046493, 0.273023446178896L -0.9620073793046493, 0.273023446178896 L -0.9615204024957229, 0.2747335356021595 L -0.9610303857898064, 0.27644275644099603 \", \"type\": \"path\"}, {\"fillcolor\": \"#ca6f4c\", \"layer\": \"below\", \"line\": {\"color\": \"rgb(175,175,175)\", \"width\": 0.5}, \"path\": \"M -0.9680607598151599,0.2507157061416281 Q -0.1502576364212885, -0.13199485860096172 0.12387325838749484, -0.9922980478951196L 0.12387325838749484, -0.9922980478951196 L 0.11379242070973608, -0.993504547039931 L 0.10369985343118146, -0.9946086368006019 M 0.10369985343118146,-0.9946086368006019 Q -0.15072841789106275, -0.13145700453021572 -0.9712757243570009, 0.23795686011288492L -0.9712757243570009, 0.23795686011288492 L -0.9696892268909177, 0.2443415708627866 L -0.9680607598151599, 0.2507157061416281 \", \"type\": \"path\"}, {\"fillcolor\": \"#ca6f4c\", \"layer\": \"below\", \"line\": {\"color\": \"rgb(175,175,175)\", \"width\": 0.5}, \"path\": \"M -0.9579755462103737,0.28684987861760747 Q -0.10878419365483954, -0.1678272898275676 0.6529916640419036, -0.7573650947144223L 0.6529916640419036, -0.7573650947144223 L 0.6527898815727142, -0.7575390224379743 L 0.6525880527769743, -0.7577128964012405 M 0.6525880527769743,-0.7577128964012405 Q -0.10879906084429765, -0.16781765210906396 -0.9580774937923182, 0.28650918988512475L -0.9580774937923182, 0.28650918988512475 L -0.9580265351456047, 0.286679538783129 L -0.9579755462103737, 0.28684987861760747 \", \"type\": \"path\"}, {\"fillcolor\": \"#ca6f4c\", \"layer\": \"below\", \"line\": {\"color\": \"rgb(175,175,175)\", \"width\": 0.5}, \"path\": \"M -0.9584840723862728,0.2851460730605038 Q -0.06945550258370836, -0.18755248108421407 0.9130180159701085, -0.4079192352831708L 0.9130180159701085, -0.4079192352831708 L 0.912730208525857, -0.40856280599724887 L 0.9124419474397332, -0.4092061736489165 M 0.9124419474397332,-0.4092061736489165 Q -0.06948768016685257, -0.18754056175939435 -0.9587877336515213, 0.28412335665935606L -0.9587877336515213, 0.28412335665935606 L -0.9586360394039364, 0.2846347553548839 L -0.9584840723862728, 0.2851460730605038 \", \"type\": \"path\"}, {\"fillcolor\": \"#ca6f4c\", \"layer\": \"below\", \"line\": {\"color\": \"rgb(175,175,175)\", \"width\": 0.5}, \"path\": \"M -0.9579245269882375,0.2870202093831748 Q -0.05389538612784833, -0.1926013690349322 0.96776790756405, -0.2518437553109078L 0.96776790756405, -0.2518437553109078 L 0.9677396714946442, -0.25195223399572786 L 0.9677114232656857, -0.2520607095147931 M 0.9677114232656857,-0.2520607095147931 Q -0.0538998524398022, -0.19260011917692976 -0.9579755462103737, 0.28684987861760747L -0.9579755462103737, 0.28684987861760747 L -0.9579500403850679, 0.2869350451343416 L -0.9579245269882375, 0.2870202093831748 \", \"type\": \"path\"}, {\"fillcolor\": \"#ca6f4c\", \"layer\": \"below\", \"line\": {\"color\": \"rgb(175,175,175)\", \"width\": 0.5}, \"path\": \"M -0.9578734774808089,0.28719053107444587 Q -0.04001160818374788, -0.19595680955391737 0.9937856602033593, -0.11131065346216029L 0.9937856602033593, -0.11131065346216029 L 0.993774161524807, -0.11141326620141258 L 0.9937626522510381, -0.11151587775282186 M 0.9937626522510381,-0.11151587775282186 Q -0.04001442039715469, -0.1959562353187052 -0.9579245269882375, 0.2870202093831748L -0.9579245269882375, 0.2870202093831748 L -0.9578990060200839, 0.2871053713634339 L -0.9578734774808089, 0.28719053107444587 \", \"type\": \"path\"}, {\"fillcolor\": \"#c45e3a\", \"layer\": \"below\", \"line\": {\"color\": \"rgb(175,175,175)\", \"width\": 0.5}, \"path\": \"M -0.9784573186422694,0.20644920827017108 Q -0.19978032328473946, 0.009371362133916084 -0.9934866461489003, -0.11394860211432986L -0.9934866461489003, -0.11394860211432986 L -0.9935675228594562, -0.11324123594752944 L -0.9936478959227496, -0.1125338123778478 M -0.9936478959227496,-0.1125338123778478 Q -0.1997799852650881, 0.009378565321048696 -0.9787355104426884, 0.2051263040141127L -0.9787355104426884, 0.2051263040141127 L -0.9785966380865575, 0.2057878031509329 L -0.9784573186422694, 0.20644920827017108 \", \"type\": \"path\"}, {\"fillcolor\": \"#c45e3a\", \"layer\": \"below\", \"line\": {\"color\": \"rgb(175,175,175)\", \"width\": 0.5}, \"path\": \"M -0.9839230869273029,0.17859271824866504 Q -0.19943914932900664, -0.014967488597697087 -0.9462459985992935, -0.3234478476274434L -0.9462459985992935, -0.3234478476274434 L -0.9474844337093864, -0.31980188848473573 L -0.948708820714513, -0.3161511877227065 M -0.948708820714513,-0.3161511877227065 Q -0.19944282008943687, -0.014918495727536325 -0.9851851215802662, 0.17149424543370623L -0.9851851215802662, 0.17149424543370623 L -0.9845605015853766, 0.17504461922021977 L -0.9839230869273029, 0.17859271824866504 \", \"type\": \"path\"}, {\"fillcolor\": \"#c45e3a\", \"layer\": \"below\", \"line\": {\"color\": \"rgb(175,175,175)\", \"width\": 0.5}, \"path\": \"M -0.9800548807084909,0.1987270258406382 Q -0.19760829476904967, -0.03083766914778706 -0.8729052101747793, -0.48788983802670505L -0.8729052101747793, -0.48788983802670505 L -0.8747233862028996, -0.4846225310793266 L -0.8765293326719606, -0.4813484485958664 M -0.8765293326719606,-0.4813484485958664 Q -0.19762629602505807, -0.030722094971146113 -0.9812890552991659, 0.19254035927584257L -0.9812890552991659, 0.19254035927584257 L -0.9806768466417966, 0.19563466579495126 L -0.9800548807084909, 0.1987270258406382 \", \"type\": \"path\"}, {\"fillcolor\": \"#c45e3a\", \"layer\": \"below\", \"line\": {\"color\": \"rgb(175,175,175)\", \"width\": 0.5}, \"path\": \"M -0.9864699199447664,0.16394235890753223 Q -0.18374411274570657, -0.07898164996562859 -0.559825006056726, -0.8286108631882559L -0.559825006056726, -0.8286108631882559 L -0.5638660619937585, -0.8258662507522939 L -0.5678936623777495, -0.8231019306447936 M -0.5678936623777495,-0.8231019306447936 Q -0.18380956245571178, -0.07882921254103581 -0.9877671975063907, 0.15593576732222433L -0.9877671975063907, 0.15593576732222433 L -0.9871266764492118, 0.15994037839874267 L -0.9864699199447664, 0.16394235890753223 \", \"type\": \"path\"}, {\"fillcolor\": \"#c45e3a\", \"layer\": \"below\", \"line\": {\"color\": \"rgb(175,175,175)\", \"width\": 0.5}, \"path\": \"M -0.9783175521734744,0.20711051906965328 Q -0.1597133977637134, -0.12038118862500852 -0.07034632229284218, -0.9975226287858695L -0.07034632229284218, -0.9975226287858695 L -0.07061064027273709, -0.9975039536163625 L -0.07087495329486519, -0.9974852084093532 M -0.07087495329486519,-0.9974852084093532 Q -0.1597046115988582, -0.12039284461319887 -0.9784573186422694, 0.20644920827017108L -0.9784573186422694, 0.20644920827017108 L -0.9783874912819491, 0.20677987547876567 L -0.9783175521734744, 0.20711051906965328 \", \"type\": \"path\"}, {\"fillcolor\": \"#c45e3a\", \"layer\": \"below\", \"line\": {\"color\": \"rgb(175,175,175)\", \"width\": 0.5}, \"path\": \"M -0.9877671975063907,0.15593576732222433 Q -0.1490208970909004, -0.1333895506785418 0.04597187820179724, -0.9989427343019214L 0.04597187820179724, -0.9989427343019214 L 0.041037348395852546, -0.9991576132105672 L 0.036101817452714055, -0.9993481169125256 M 0.036101817452714055,-0.9993481169125256 Q -0.1491387147608883, -0.13325780937517473 -0.9889994914070962, 0.14791891696637377L -0.9889994914070962, 0.14791891696637377 L -0.9883914725815398, 0.15192859154252478 L -0.9877671975063907, 0.15593576732222433 \", \"type\": \"path\"}, {\"fillcolor\": \"#c45e3a\", \"layer\": \"below\", \"line\": {\"color\": \"rgb(175,175,175)\", \"width\": 0.5}, \"path\": \"M -0.9851851215802662,0.17149424543370623 Q -0.09643812308561855, -0.1752132655243977 0.6719476496752618, -0.7405986471064416L 0.6719476496752618, -0.7405986471064416 L 0.6685867932370418, -0.7436341169614322 L 0.6652122244626217, -0.7466543353021468 M 0.6652122244626217,-0.7466543353021468 Q -0.09656049121727248, -0.17514585788958598 -0.9864699199447664, 0.16394235890753223L -0.9864699199447664, 0.16394235890753223 L -0.9858347520960576, 0.16771953243347826 L -0.9851851215802662, 0.17149424543370623 \", \"type\": \"path\"}, {\"fillcolor\": \"#c45e3a\", \"layer\": \"below\", \"line\": {\"color\": \"rgb(175,175,175)\", \"width\": 0.5}, \"path\": \"M -0.9782708640227941,0.207330934990647 Q -0.0625401089849246, -0.1899703523399211 0.9101195448831112, -0.41434576626503433L 0.9101195448831112, -0.41434576626503433 L 0.9100708533938623, -0.4144527015269259 L 0.9100221493401649, -0.4145596310668787 M 0.9100221493401649,-0.4145596310668787 Q -0.06254102954212877, -0.18997004928096056 -0.9783175521734744, 0.20711051906965328L -0.9783175521734744, 0.20711051906965328 L -0.9782942143057732, 0.20722072834504238 L -0.9782708640227941, 0.207330934990647 \", \"type\": \"path\"}, {\"fillcolor\": \"#c45e3a\", \"layer\": \"below\", \"line\": {\"color\": \"rgb(175,175,175)\", \"width\": 0.5}, \"path\": \"M -0.9826099069213562,0.1856819076270052 Q -0.041061091818207184, -0.19573958909402248 0.9743941258746865, -0.2248468088741878L 0.9743941258746865, -0.2248468088741878 L 0.9735813370761776, -0.22834049158430564 L 0.9727560217474189, -0.23183123636416 M 0.9727560217474189,-0.23183123636416 Q -0.04105758466650988, -0.1957403247707339 -0.9839230869273029, 0.17859271824866504L -0.9839230869273029, 0.17859271824866504 L -0.9832728858894427, 0.18213849641041557 L -0.9826099069213562, 0.1856819076270052 \", \"type\": \"path\"}, {\"fillcolor\": \"#c45e3a\", \"layer\": \"below\", \"line\": {\"color\": \"rgb(175,175,175)\", \"width\": 0.5}, \"path\": \"M -0.9794686095763376,0.2015967332438597 Q -0.030425724436753065, -0.19767214091140606 0.9947560389344657, -0.1022762093715429L 0.9947560389344657, -0.1022762093715429 L 0.9946178559128775, -0.1036113927098283 L 0.9944778807797914, -0.10494638936016404 M 0.9944778807797914,-0.10494638936016404 Q -0.030401573319612102, -0.19767585674455102 -0.9800548807084909, 0.1987270258406382L -0.9800548807084909, 0.1987270258406382 L -0.9797627958080741, 0.2001620941895492 L -0.9794686095763376, 0.2015967332438597 \", \"type\": \"path\"}, {\"fillcolor\": \"#bf4d28\", \"layer\": \"below\", \"line\": {\"color\": \"rgb(175,175,175)\", \"width\": 0.5}, \"path\": \"M -0.9997009991436888,-0.024452245522859867 Q -0.1983983827358675, -0.025260279645962832 -0.9739336941104064, -0.22683288887737874L -0.9739336941104064, -0.22683288887737874 L -0.9768114631199355, -0.21410129732790262 L -0.9795228078980669, -0.20133322827463598 M -0.9795228078980669,-0.20133322827463598 Q -0.1984016139467385, -0.025234888217096366 -0.9987349974723225, -0.050283245956877665L -0.9987349974723225, -0.050283245956877665 L -0.9993014651688015, -0.037370867149248324 L -0.9997009991436888, -0.024452245522859867 \", \"type\": \"path\"}, {\"fillcolor\": \"#bf4d28\", \"layer\": \"below\", \"line\": {\"color\": \"rgb(175,175,175)\", \"width\": 0.5}, \"path\": \"M -0.9981918595455662,0.06010833167677082 Q -0.19865678624509323, -0.023140468421605914 -0.9576502735126396, -0.28793393971737075L -0.9576502735126396, -0.28793393971737075 L -0.9578233353134189, -0.2873577184087421 L -0.9579960503999821, -0.286781393081969 M -0.9579960503999821,-0.286781393081969 Q -0.19865711375476716, -0.023137656636433693 -0.998261797156353, 0.058935425154725586L -0.998261797156353, 0.058935425154725586 L -0.9982270006201213, 0.05952188868774631 L -0.9981918595455662, 0.06010833167677082 \", \"type\": \"path\"}, {\"fillcolor\": \"#bf4d28\", \"layer\": \"below\", \"line\": {\"color\": \"rgb(175,175,175)\", \"width\": 0.5}, \"path\": \"M -0.9983439030553314,0.05752783006725557 Q -0.1954021814778324, -0.042637864319220446 -0.8836303205488684, -0.4681852802114823L -0.8836303205488684, -0.4681852802114823 L -0.8841923765245892, -0.4671229402371491 L -0.8847531553081709, -0.4660599255162749 M -0.8847531553081709,-0.4660599255162749 Q -0.19540833513702496, -0.04260965335432962 -0.9984633404047178, 0.055416223868578945L -0.9984633404047178, 0.055416223868578945 L -0.9984041799811411, 0.056472058543896565 L -0.9983439030553314, 0.05752783006725557 \", \"type\": \"path\"}, {\"fillcolor\": \"#bf4d28\", \"layer\": \"below\", \"line\": {\"color\": \"rgb(175,175,175)\", \"width\": 0.5}, \"path\": \"M -0.9996540466341852,0.026301844952364005 Q -0.1782888833894944, -0.09062601204801674 -0.5678936623777495, -0.8231019306447936L -0.5678936623777495, -0.8231019306447936 L -0.5717963935849457, -0.8203955657384125 L -0.5756862275117149, -0.8176706962178173 M -0.5756862275117149,-0.8176706962178173 Q -0.17834656027600876, -0.09051245459999402 -0.9998365621648182, 0.018078964528914L -0.9998365621648182, 0.018078964528914 L -0.9997537584872922, 0.02219059238806176 L -0.9996540466341852, 0.026301844952364005 \", \"type\": \"path\"}, {\"fillcolor\": \"#bf4d28\", \"layer\": \"below\", \"line\": {\"color\": \"rgb(175,175,175)\", \"width\": 0.5}, \"path\": \"M -0.9980035724741839,0.06315749621989673 Q -0.15051123964361823, -0.13170560633830788 -0.06981767153398273, -0.9975597690071372L -0.06981767153398273, -0.9975597690071372 L -0.07008199937373807, -0.9975412339165631 L -0.07034632229284218, -0.9975226287858695 M -0.07034632229284218,-0.9975226287858695 Q -0.15049971218528224, -0.13171877858584635 -0.9980478501084759, 0.06245389414479531L -0.9980478501084759, 0.06245389414479531 L -0.9980257732957276, 0.06280569908427887 L -0.9980035724741839, 0.06315749621989673 \", \"type\": \"path\"}, {\"fillcolor\": \"#bf4d28\", \"layer\": \"below\", \"line\": {\"color\": \"rgb(175,175,175)\", \"width\": 0.5}, \"path\": \"M -0.9994279955371784,0.03381836389504517 Q -0.14191861837386985, -0.14092233945990215 0.02677684226562355, -0.9996414360750968L 0.02677684226562355, -0.9996414360750968 L 0.022387762611318966, -0.9997493626330848 L 0.017998251417926218, -0.9998380183539217 M 0.017998251417926218,-0.9998380183539217 Q -0.14200743358528486, -0.14083283994339144 -0.9996540466341852, 0.026301844952364005L -0.9996540466341852, 0.026301844952364005 L -0.9995480865607524, 0.03006031691014981 L -0.9994279955371784, 0.03381836389504517 \", \"type\": \"path\"}, {\"fillcolor\": \"#bf4d28\", \"layer\": \"below\", \"line\": {\"color\": \"rgb(175,175,175)\", \"width\": 0.5}, \"path\": \"M -0.9987349974723225,-0.050283245956877665 Q -0.058248599398725544, -0.1913298216904171 0.801285062368784, -0.5982827498972821L 0.801285062368784, -0.5982827498972821 L 0.7917830380521792, -0.6108024399532646 L 0.7820854186965973, -0.623171242807439 M 0.7820854186965973,-0.623171242807439 Q -0.058602938661837294, -0.1912215876416597 -0.9969568749539229, -0.07795504782955402L -0.9969568749539229, -0.07795504782955402 L -0.9979418543040289, -0.06412531035586785 L -0.9987349974723225, -0.050283245956877665 \", \"type\": \"path\"}, {\"fillcolor\": \"#bf4d28\", \"layer\": \"below\", \"line\": {\"color\": \"rgb(175,175,175)\", \"width\": 0.5}, \"path\": \"M -0.998261797156353,0.058935425154725586 Q -0.04759428570068186, -0.19425443101417758 0.9124419474397332, -0.4092061736489165L 0.9124419474397332, -0.4092061736489165 L 0.9121532328550075, -0.4098493379184093 L 0.9118640649151759, -0.4104922984860641 M 0.9118640649151759,-0.4104922984860641 Q -0.04759428570068186, -0.19425443101417758 -0.9983439030553314, 0.05752783006725557L -0.9983439030553314, 0.05752783006725557 L -0.9983030981923428, 0.05823164208203081 L -0.998261797156353, 0.058935425154725586 \", \"type\": \"path\"}, {\"fillcolor\": \"#bf4d28\", \"layer\": \"below\", \"line\": {\"color\": \"rgb(175,175,175)\", \"width\": 0.5}, \"path\": \"M -0.999969815045391,-0.007769748907563434 Q -0.015250858776343435, -0.19941768052653716 0.9871592280826774, -0.15973934521968078L 0.9871592280826774, -0.15973934521968078 L 0.9858566734317513, -0.16759063055577164 L 0.9844916752796072, -0.17543130081360175 M 0.9844916752796072,-0.17543130081360175 Q -0.015174319974511966, -0.19942351920801904 -0.9997009991436888, -0.024452245522859867L -0.9997009991436888, -0.024452245522859867 L -0.9998702004276526, -0.01611155786278293 L -0.999969815045391, -0.007769748907563434 \", \"type\": \"path\"}, {\"fillcolor\": \"#bf4d28\", \"layer\": \"below\", \"line\": {\"color\": \"rgb(175,175,175)\", \"width\": 0.5}, \"path\": \"M -0.9998365621648182,0.018078964528914 Q -0.009221074365142934, -0.199787316383079 0.9972511483499988, -0.07409552695411875L 0.9972511483499988, -0.07409552695411875 L 0.9969366140738535, -0.0782137297343662 L 0.9966050735286064, -0.08233059830367533 M 0.9966050735286064,-0.08233059830367533 Q -0.009107242131948001, -0.19979253775041267 -0.9999623287695604, 0.0086799217598859L -0.9999623287695604, 0.0086799217598859 L -0.9999104892673324, 0.013379590919155485 L -0.9998365621648182, 0.018078964528914 \", \"type\": \"path\"}, {\"fillcolor\": \"#af4624\", \"layer\": \"below\", \"line\": {\"color\": \"rgb(175,175,175)\", \"width\": 0.5}, \"path\": \"M -0.9934866461489003,-0.11394860211432986 Q -0.19577054315072298, -0.04091325499726117 -0.955971251783468, -0.29346033081755585L -0.955971251783468, -0.29346033081755585 L -0.9563236797789659, -0.2923098005439057 L -0.9566747230891147, -0.2911588470274699 M -0.9566747230891147,-0.2911588470274699 Q -0.19577122528293214, -0.04090999084843983 -0.9932134201895559, -0.116306070156998L -0.9932134201895559, -0.116306070156998 L -0.9933507325266336, -0.11512741718982653 L -0.9934866461489003, -0.11394860211432986 \", \"type\": \"path\"}, {\"fillcolor\": \"#af4624\", \"layer\": \"below\", \"line\": {\"color\": \"rgb(175,175,175)\", \"width\": 0.5}, \"path\": \"M -0.9932134201895559,-0.116306070156998 Q -0.1906341065685888, -0.06048667136482162 -0.878578264141871, -0.47759840219315713L -0.878578264141871, -0.47759840219315713 L -0.8795331801860022, -0.47583756151852624 L -0.8804845671696241, -0.47407481158158954 M -0.8804845671696241,-0.47407481158158954 Q -0.19064760047074217, -0.060444126552943726 -0.9927930928327666, -0.11984103981336937L -0.9927930928327666, -0.11984103981336937 L -0.9930048295171525, -0.11807374202425727 L -0.9932134201895559, -0.116306070156998 \", \"type\": \"path\"}, {\"fillcolor\": \"#af4624\", \"layer\": \"below\", \"line\": {\"color\": \"rgb(175,175,175)\", \"width\": 0.5}, \"path\": \"M -0.9893956816052625,-0.1452452588584497 Q -0.17034193115769175, -0.10480279809942197 -0.5756862275117149, -0.8176706962178173L -0.5756862275117149, -0.8176706962178173 L -0.5793418935241371, -0.8150846400269529 L -0.5829859428158775, -0.812482240100719 M -0.5829859428158775,-0.812482240100719 Q -0.17040080783266512, -0.10470704221768055 -0.98822783024194, -0.15298939680679624L -0.98822783024194, -0.15298939680679624 L -0.988819337174823, -0.14911847111992438 L -0.9893956816052625, -0.1452452588584497 \", \"type\": \"path\"}, {\"fillcolor\": \"#af4624\", \"layer\": \"below\", \"line\": {\"color\": \"rgb(175,175,175)\", \"width\": 0.5}, \"path\": \"M -0.994016309691866,-0.10923175392972613 Q -0.13867182847934423, -0.1441184373569022 -0.07087495329486519, -0.9974852084093532L -0.07087495329486519, -0.9974852084093532 L -0.07113926134066746, -0.9974663931661578 L -0.07140356439158521, -0.9974475078880977 M -0.07140356439158521,-0.9974475078880977 Q -0.13865871162183896, -0.14413105734494458 -0.9939382875170345, -0.10993944063758408L -0.9939382875170345, -0.10993944063758408 L -0.9939773615863289, -0.10958560422738188 L -0.994016309691866, -0.10923175392972613 \", \"type\": \"path\"}, {\"fillcolor\": \"#af4624\", \"layer\": \"below\", \"line\": {\"color\": \"rgb(175,175,175)\", \"width\": 0.5}, \"path\": \"M -0.9903060617696536,-0.13890249825787507 Q -0.1298688741706042, -0.15209890046170546 0.017998251417926218, -0.9998380183539217L 0.017998251417926218, -0.9998380183539217 L 0.014294328068576154, -0.9998978308732688 L 0.01059020856351126, -0.9999439221689291 M 0.01059020856351126,-0.9999439221689291 Q -0.12994498678753283, -0.15203387914799754 -0.9893956816052625, -0.1452452588584497L -0.9893956816052625, -0.1452452588584497 L -0.989855952062435, -0.14207460774737454 L -0.9903060617696536, -0.13890249825787507 \", \"type\": \"path\"}, {\"fillcolor\": \"#af4624\", \"layer\": \"below\", \"line\": {\"color\": \"rgb(175,175,175)\", \"width\": 0.5}, \"path\": \"M -0.9739336941104064,-0.22683288887737874 Q -0.03767021110332194, -0.1964203533125607 0.8209118645002685, -0.5710549104269157L 0.8209118645002685, -0.5710549104269157 L 0.8112127071221245, -0.5847511811049161 L 0.801285062368784, -0.5982827498972821 M 0.801285062368784,-0.5982827498972821 Q -0.03802989197983213, -0.19635103085036834 -0.9667163290522488, -0.25585061880664695L -0.9667163290522488, -0.25585061880664695 L -0.9704334780204492, -0.241368731896106 L -0.9739336941104064, -0.22683288887737874 \", \"type\": \"path\"}, {\"fillcolor\": \"#af4624\", \"layer\": \"below\", \"line\": {\"color\": \"rgb(175,175,175)\", \"width\": 0.5}, \"path\": \"M -0.9938071309448371,-0.11111879446426429 Q -0.031038550381844877, -0.19757684173554774 0.9118640649151759, -0.4104922984860641L 0.9118640649151759, -0.4104922984860641 L 0.9115744437639595, -0.411135055032319 L 0.9112843695453047, -0.41177760723771356 M 0.9112843695453047,-0.41177760723771356 Q -0.0310371711403378, -0.19757705840407025 -0.9936478959227496, -0.1125338123778478L -0.9936478959227496, -0.1125338123778478 L -0.9937277652980386, -0.11182633176388357 L -0.9938071309448371, -0.11111879446426429 \", \"type\": \"path\"}, {\"fillcolor\": \"#af4624\", \"layer\": \"below\", \"line\": {\"color\": \"rgb(175,175,175)\", \"width\": 0.5}, \"path\": \"M -0.9851859689230217,-0.17148937762207567 Q -0.0018574459880385391, -0.19999137455000784 0.9818308339513244, -0.189758302855097L 0.9818308339513244, -0.189758302855097 L 0.9806642403212705, -0.19569784811056393 L 0.979461715998255, -0.20163022316546117 M 0.979461715998255,-0.20163022316546117 Q -0.0017865017847403155, -0.19999202086926648 -0.9829073978807868, -0.18410064419012898L -0.9829073978807868, -0.18410064419012898 L -0.9840668860018613, -0.177798661059637 L -0.9851859689230217, -0.17148937762207567 \", \"type\": \"path\"}, {\"fillcolor\": \"#af4624\", \"layer\": \"below\", \"line\": {\"color\": \"rgb(175,175,175)\", \"width\": 0.5}, \"path\": \"M -0.9868846837050523,-0.16142682883702722 Q 0.009681485803657667, -0.19976553464657906 0.9978697848221469, -0.06523720210893597L 0.9978697848221469, -0.06523720210893597 L 0.9975702992647631, -0.06966705121368984 L 0.9972511483499988, -0.07409552695411875 M 0.9972511483499988,-0.07409552695411875 Q 0.009813832433120792, -0.1997590766222517 -0.9851859689230217, -0.17148937762207567L -0.9851859689230217, -0.17148937762207567 L -0.9860481623436262, -0.16646027015104115 L -0.9868846837050523, -0.16142682883702722 \", \"type\": \"path\"}, {\"fillcolor\": \"#9f4021\", \"layer\": \"below\", \"line\": {\"color\": \"rgb(175,175,175)\", \"width\": 0.5}, \"path\": \"M -0.9310882205381682,-0.3647940865407053 Q -0.17635178150618214, -0.09434007186554288 -0.8202063595539835, -0.5720677649957229L -0.8202063595539835, -0.5720677649957229 L -0.8270974888269554, -0.5620584880385174 L -0.8338664778943693, -0.5519662100564121 M -0.8338664778943693,-0.5519662100564121 Q -0.1764650654117138, -0.09412800162140686 -0.9228765903070634, -0.38509583101250106L -0.9228765903070634, -0.38509583101250106 L -0.9270379820537281, -0.3749674383593217 L -0.9310882205381682, -0.3647940865407053 \", \"type\": \"path\"}, {\"fillcolor\": \"#9f4021\", \"layer\": \"below\", \"line\": {\"color\": \"rgb(175,175,175)\", \"width\": 0.5}, \"path\": \"M -0.9365961961808208,-0.35041056676364285 Q -0.15369796476568093, -0.12797240181729616 -0.5142803992543581, -0.85762210264357L -0.5142803992543581, -0.85762210264357 L -0.5217088610307183, -0.8531235926417875 L -0.5290979762360781, -0.8485607412217976 M -0.5290979762360781,-0.8485607412217976 Q -0.1538237272149967, -0.12782120694816757 -0.9310882205381682, -0.3647940865407053L -0.9310882205381682, -0.3647940865407053 L -0.93386990074851, -0.3576129310804745 L -0.9365961961808208, -0.35041056676364285 \", \"type\": \"path\"}, {\"fillcolor\": \"#9f4021\", \"layer\": \"below\", \"line\": {\"color\": \"rgb(175,175,175)\", \"width\": 0.5}, \"path\": \"M -0.9552622437795869,-0.2957601149735864 Q -0.12380046310291269, -0.1570778320944886 -0.0643538258977444, -0.9979271441805373L -0.0643538258977444, -0.9979271441805373 L -0.06532336338381885, -0.9978641481665856 L -0.06629283920650335, -0.9978002101973825 M -0.06629283920650335,-0.9978002101973825 Q -0.12374515687121648, -0.15712140576929046 -0.9544759449907555, -0.29828789857116933L -0.9544759449907555, -0.29828789857116933 L -0.9548699308463097, -0.29702426696410494 L -0.9552622437795869, -0.2957601149735864 \", \"type\": \"path\"}, {\"fillcolor\": \"#9f4021\", \"layer\": \"below\", \"line\": {\"color\": \"rgb(175,175,175)\", \"width\": 0.5}, \"path\": \"M -0.9119654404404844,-0.4102670294359433 Q -0.08912109709690445, -0.17904588811878405 0.22247122651117363, -0.9749392562486209L 0.22247122651117363, -0.9749392562486209 L 0.20598760758892717, -0.9785546001730256 L 0.18944532743247577, -0.9818912709226018 M 0.18944532743247577,-0.9818912709226018 Q -0.08949243865632855, -0.1788605697836817 -0.8994233329579524, -0.4370785605938689L -0.8994233329579524, -0.4370785605938689 L -0.9057935949482263, -0.4237192034245893 L -0.9119654404404844, -0.4102670294359433 \", \"type\": \"path\"}, {\"fillcolor\": \"#9f4021\", \"layer\": \"below\", \"line\": {\"color\": \"rgb(175,175,175)\", \"width\": 0.5}, \"path\": \"M -0.9522975126064722,-0.3051711773472815 Q -0.052661688296753176, -0.19294234005457592 0.6652122244626217, -0.7466543353021468L 0.6652122244626217, -0.7466543353021468 L 0.662821957619239, -0.7487770379076804 L 0.6604249172379121, -0.7508920885795088 M 0.6604249172379121,-0.7508920885795088 Q -0.05272127439875951, -0.19292606673482646 -0.9505190213712639, -0.3106663644674375L -0.9505190213712639, -0.3106663644674375 L -0.9514122343995439, -0.3079200549409982 L -0.9522975126064722, -0.3051711773472815 \", \"type\": \"path\"}, {\"fillcolor\": \"#9f4021\", \"layer\": \"below\", \"line\": {\"color\": \"rgb(175,175,175)\", \"width\": 0.5}, \"path\": \"M -0.9582028507530742,-0.2860896656796287 Q -0.013626975843327078, -0.19953522378107927 0.9104114299275522, -0.4137040346156534L 0.9104114299275522, -0.4137040346156534 L 0.9102655439574452, -0.41402492616249137 L 0.9101195448831112, -0.41434576626503433 M 0.9101195448831112,-0.41434576626503433 Q -0.01362528131309409, -0.1995353394993956 -0.9579960503999821, -0.286781393081969L -0.9579960503999821, -0.286781393081969 L -0.9580995130030832, -0.2864355480439797 L -0.9582028507530742, -0.2860896656796287 \", \"type\": \"path\"}, {\"fillcolor\": \"#9f4021\", \"layer\": \"below\", \"line\": {\"color\": \"rgb(175,175,175)\", \"width\": 0.5}, \"path\": \"M -0.9576502735126396,-0.28793393971737075 Q 0.004174027573325195, -0.19995643899063897 0.9688318644815086, -0.24771923293374637L 0.9688318644815086, -0.24771923293374637 L 0.9686650394251889, -0.2483707740363128 L 0.968497776206405, -0.2490222027917355 M 0.968497776206405,-0.2490222027917355 Q 0.004183909229198069, -0.19995623246991287 -0.9572335109718997, -0.2893164452159781L -0.9572335109718997, -0.2893164452159781 L -0.9574421417771526, -0.28862526769009467 L -0.9576502735126396, -0.28793393971737075 \", \"type\": \"path\"}, {\"fillcolor\": \"#9f4021\", \"layer\": \"below\", \"line\": {\"color\": \"rgb(175,175,175)\", \"width\": 0.5}, \"path\": \"M -0.9536105359940582,-0.3010430959864801 Q 0.020667848880806763, -0.19892923370545654 0.9951293446424976, -0.09857782423746923L 0.9951293446424976, -0.09857782423746923 L 0.9949444102342903, -0.10042719026011018 L 0.9947560389344657, -0.1022762093715429 M 0.9947560389344657,-0.1022762093715429 Q 0.020728988033143565, -0.1989228721266657 -0.9522975126064722, -0.3051711773472815L -0.9522975126064722, -0.3051711773472815 L -0.9529562595911739, -0.30310784764832344 L -0.9536105359940582, -0.3010430959864801 \", \"type\": \"path\"}, {\"fillcolor\": \"#8f391e\", \"layer\": \"below\", \"line\": {\"color\": \"rgb(175,175,175)\", \"width\": 0.5}, \"path\": \"M -0.7503090891507268,-0.6610871884538428 Q -0.10907524632197621, -0.1676382731949963 -0.30043273809337984, -0.9538030037076392L -0.30043273809337984, -0.9538030037076392 L -0.3400218006416707, -0.9404175535837237 L -0.37901702730544196, -0.9253896979178804 M -0.37901702730544196,-0.9253896979178804 Q -0.10918642629809693, -0.1675658805134573 -0.6934516551705685, -0.7205031588696881L -0.6934516551705685, -0.7205031588696881 L -0.7224914090118366, -0.6913798983945736 L -0.7503090891507268, -0.6610871884538428 \", \"type\": \"path\"}, {\"fillcolor\": \"#8f391e\", \"layer\": \"below\", \"line\": {\"color\": \"rgb(175,175,175)\", \"width\": 0.5}, \"path\": \"M -0.8729052101747793,-0.48788983802670505 Q -0.10493606335124935, -0.17025986787362013 -0.04353971066593756, -0.9990516971584236L -0.04353971066593756, -0.9990516971584236 L -0.046010347453082835, -0.9989409631841346 L -0.048480702826765136, -0.9988241193790941 M -0.048480702826765136,-0.9988241193790941 Q -0.10472042864313634, -0.1703925814840476 -0.8692322712920916, -0.4944039426869407L -0.8692322712920916, -0.4944039426869407 L -0.8710748300076256, -0.4911503237575907 L -0.8729052101747793, -0.48788983802670505 \", \"type\": \"path\"}, {\"fillcolor\": \"#8f391e\", \"layer\": \"below\", \"line\": {\"color\": \"rgb(175,175,175)\", \"width\": 0.5}, \"path\": \"M -0.7985693254235507,-0.6019028430673634 Q -0.04825479254762396, -0.19409140886753792 0.4237285869923238, -0.9057892053703713L 0.4237285869923238, -0.9057892053703713 L 0.3878690128691242, -0.9217145050697266 L 0.351412305003783, -0.9362208029583236 M 0.351412305003783,-0.9362208029583236 Q -0.0484579353907152, -0.19404079080870928 -0.7503090891507268, -0.6610871884538428L -0.7503090891507268, -0.6610871884538428 L -0.775004375773607, -0.6319558667595084 L -0.7985693254235507, -0.6019028430673634 \", \"type\": \"path\"}, {\"fillcolor\": \"#8f391e\", \"layer\": \"below\", \"line\": {\"color\": \"rgb(175,175,175)\", \"width\": 0.5}, \"path\": \"M -0.8653769124830469,-0.5011215414860042 Q -0.0297831555251761, -0.1977699766065698 0.6794102182068643, -0.73375864928197L 0.6794102182068643, -0.73375864928197 L 0.675687589174384, -0.7371880912194044 L 0.6719476496752618, -0.7405986471064416 M 0.6719476496752618,-0.7405986471064416 Q -0.029780584606468992, -0.1977703637567999 -0.8602465189036148, -0.5098783450139972L -0.8602465189036148, -0.5098783450139972 L -0.8628228248833455, -0.5055064518483653 L -0.8653769124830469, -0.5011215414860042 \", \"type\": \"path\"}, {\"fillcolor\": \"#8f391e\", \"layer\": \"below\", \"line\": {\"color\": \"rgb(175,175,175)\", \"width\": 0.5}, \"path\": \"M -0.8692322712920916,-0.4944039426869407 Q 0.011782162981828784, -0.1996526499585458 0.9213492677645123, -0.388735805901382L 0.9213492677645123, -0.388735805901382 L 0.920019315694931, -0.39187301354932674 L 0.9186786814242912, -0.39500567122071256 M 0.9186786814242912,-0.39500567122071256 Q 0.011875039576534425, -0.19964714732511393 -0.8653769124830469, -0.5011215414860042L -0.8653769124830469, -0.5011215414860042 L -0.8673110956529203, -0.4977664747221642 L -0.8692322712920916, -0.4944039426869407 \", \"type\": \"path\"}, {\"fillcolor\": \"#8f391e\", \"layer\": \"below\", \"line\": {\"color\": \"rgb(175,175,175)\", \"width\": 0.5}, \"path\": \"M -0.8850019801482604,-0.46558725834547726 Q 0.022965379824830375, -0.19867710318378734 0.9678807302390507, -0.2514098089413416L 0.9678807302390507, -0.2514098089413416 L 0.9678243432227839, -0.25162678844945546 L 0.96776790756405, -0.2518437553109078 M 0.96776790756405,-0.2518437553109078 Q 0.02297390186049375, -0.19867611792388234 -0.8847531553081709, -0.4660599255162749L -0.8847531553081709, -0.4660599255162749 L -0.8848775992882666, -0.46582360854494465 L -0.8850019801482604, -0.46558725834547726 \", \"type\": \"path\"}, {\"fillcolor\": \"#8f391e\", \"layer\": \"below\", \"line\": {\"color\": \"rgb(175,175,175)\", \"width\": 0.5}, \"path\": \"M -0.8852505524724559,-0.46511445832957254 Q 0.037088876535061044, -0.19653095236467716 0.9938772681892966, -0.11048970891708043L 0.9938772681892966, -0.11048970891708043 L 0.9938544297682697, -0.1106949521432103 L 0.9938315489629536, -0.11090019064860257 M 0.9938315489629536,-0.11090019064860257 Q 0.037100780455375834, -0.19652870551042156 -0.8850019801482604, -0.46558725834547726L -0.8850019801482604, -0.46558725834547726 L -0.8851262978792794, -0.46535087493473254 L -0.8852505524724559, -0.46511445832957254 \", \"type\": \"path\"}, {\"fillcolor\": \"#f0f3e7\", \"layer\": \"below\", \"line\": {\"color\": \"rgb(175,175,175)\", \"width\": 0.5}, \"path\": \"M -0.5512501349594956,-0.8343400318258366 Q -0.060489599704492275, -0.1906331774051681 -0.030653134040982036, -0.9995300822753989L -0.030653134040982036, -0.9995300822753989 L -0.034184300469534946, -0.9994155460074696 L -0.037715040200935725, -0.9992885347799412 M -0.037715040200935725,-0.9992885347799412 Q -0.0601282918467707, -0.19074744695431595 -0.5421606361917563, -0.8402748625087806L -0.5421606361917563, -0.8402748625087806 L -0.5467134388061108, -0.8373197811044458 L -0.5512501349594956, -0.8343400318258366 \", \"type\": \"path\"}, {\"fillcolor\": \"#f0f3e7\", \"layer\": \"below\", \"line\": {\"color\": \"rgb(175,175,175)\", \"width\": 0.5}, \"path\": \"M -0.30043273809337984,-0.9538030037076392 Q 0.023013596674907877, -0.19867152379766123 0.5105232388003472, -0.8598639558934911L 0.5105232388003472, -0.8598639558934911 L 0.4676899620839781, -0.8838925836128998 L 0.4237285869923238, -0.9057892053703713 M 0.4237285869923238,-0.9057892053703713 Q 0.022906459795189182, -0.19868390498389996 -0.20649304721988607, -0.9784480678348983L -0.20649304721988607, -0.9784480678348983 L -0.25376225635489413, -0.967266621593898 L -0.30043273809337984, -0.9538030037076392 \", \"type\": \"path\"}, {\"fillcolor\": \"#f0f3e7\", \"layer\": \"below\", \"line\": {\"color\": \"rgb(175,175,175)\", \"width\": 0.5}, \"path\": \"M -0.4729848504532466,-0.88107055974066 Q 0.04025608264138282, -0.19590673242737258 0.7820854186965973, -0.623171242807439L 0.7820854186965973, -0.623171242807439 L 0.7732092003308119, -0.6341510328965699 L 0.7641788480902507, -0.6450044093891588 M 0.7641788480902507,-0.6450044093891588 Q 0.04030791030683711, -0.19589607542443513 -0.44744677629904306, -0.8943105626009312L -0.44744677629904306, -0.8943105626009312 L -0.4602634238133654, -0.8877823949029393 L -0.4729848504532466, -0.88107055974066 \", \"type\": \"path\"}, {\"fillcolor\": \"#f0f3e7\", \"layer\": \"below\", \"line\": {\"color\": \"rgb(175,175,175)\", \"width\": 0.5}, \"path\": \"M -0.5421606361917563,-0.8402748625087806 Q 0.062233316761264104, -0.19007107692884828 0.9341418288542288, -0.356902008378878L 0.9341418288542288, -0.356902008378878 L 0.9317305654512512, -0.36315031791792723 L 0.9292775087489218, -0.3693823381449058 M 0.9292775087489218,-0.3693823381449058 Q 0.06243040927444881, -0.19000643146437127 -0.5290979762360781, -0.8485607412217976L -0.5290979762360781, -0.8485607412217976 L -0.53564532819928, -0.8444430604713888 L -0.5421606361917563, -0.8402748625087806 \", \"type\": \"path\"}, {\"fillcolor\": \"#f0f3e7\", \"layer\": \"below\", \"line\": {\"color\": \"rgb(175,175,175)\", \"width\": 0.5}, \"path\": \"M -0.5959200357411917,-0.8030437790072324 Q 0.06716618503756025, -0.1883844568628214 0.9695497080113494, -0.24489459711293576L 0.9695497080113494, -0.24489459711293576 L 0.9691918152702546, -0.2463071765360252 L 0.9688318644815086, -0.24771923293374637 M 0.9688318644815086,-0.24771923293374637 Q 0.06722398008453105, -0.18836384074868132 -0.5930831585472117, -0.8051412093835857L -0.5930831585472117, -0.8051412093835857 L -0.5945025221229536, -0.804093745274422 L -0.5959200357411917, -0.8030437790072324 \", \"type\": \"path\"}, {\"fillcolor\": \"#f0f3e7\", \"layer\": \"below\", \"line\": {\"color\": \"rgb(175,175,175)\", \"width\": 0.5}, \"path\": \"M -0.5898006678678582,-0.8075488667459254 Q 0.08315235182166347, -0.1818947123654954 0.9966050735286064, -0.08233059830367533L 0.9966050735286064, -0.08233059830367533 L 0.9963364360694322, -0.0855202090763476 L 0.9960575903633733, -0.08870894362751937 M 0.9960575903633733,-0.08870894362751937 Q 0.08333522488691592, -0.18181100157319183 -0.5829859428158775, -0.812482240100719L -0.5829859428158775, -0.812482240100719 L -0.5863984934265478, -0.8100227199943684 L -0.5898006678678582, -0.8075488667459254 \", \"type\": \"path\"}, {\"fillcolor\": \"#e2ecde\", \"layer\": \"below\", \"line\": {\"color\": \"rgb(175,175,175)\", \"width\": 0.5}, \"path\": \"M -0.030653134040982036,-0.9995300822753989 Q 0.004112091069893488, -0.19995772229907227 0.07172011675086687, -0.9974247965903204L 0.07172011675086687, -0.9974247965903204 L 0.06473922139877995, -0.9979022162580258 L 0.05775515636071413, -0.9983307778055074 M 0.05775515636071413,-0.9983307778055074 Q 0.0036136624852173838, -0.19996735094370516 -0.021647030902518617, -0.9997656755725841L -0.021647030902518617, -0.9997656755725841 L -0.026150347786018834, -0.9996580211805787 L -0.030653134040982036, -0.9995300822753989 \", \"type\": \"path\"}, {\"fillcolor\": \"#e2ecde\", \"layer\": \"below\", \"line\": {\"color\": \"rgb(175,175,175)\", \"width\": 0.5}, \"path\": \"M -0.0643538258977444,-0.9979271441805373 Q 0.06394316006589289, -0.18950269729158897 0.6558117463095183, -0.754924468673827L 0.6558117463095183, -0.754924468673827 L 0.6544028429803355, -0.7561460963988734 L 0.6529916640419036, -0.7573650947144223 M 0.6529916640419036,-0.7573650947144223 Q 0.06382409889982751, -0.18954282998738053 -0.0618856403046041, -0.9980832467906118L -0.0618856403046041, -0.9980832467906118 L -0.06311978135869681, -0.9980059584998631 L -0.0643538258977444, -0.9979271441805373 \", \"type\": \"path\"}, {\"fillcolor\": \"#e2ecde\", \"layer\": \"below\", \"line\": {\"color\": \"rgb(175,175,175)\", \"width\": 0.5}, \"path\": \"M -0.06911277337926665,-0.9976088534870899 Q 0.10309292135735959, -0.17138217400303124 0.9136878017074226, -0.40641678239346557L 0.9136878017074226, -0.40641678239346557 L 0.9133532177779885, -0.407168146561828 L 0.9130180159701085, -0.4079192352831708 M 0.9130180159701085,-0.4079192352831708 Q 0.10305792066093221, -0.17140322339164163 -0.067879118786896, -0.9976935527669378L -0.067879118786896, -0.9976935527669378 L -0.0684959591750378, -0.9976513938128346 L -0.06911277337926665, -0.9976088534870899 \", \"type\": \"path\"}, {\"fillcolor\": \"#e2ecde\", \"layer\": \"below\", \"line\": {\"color\": \"rgb(175,175,175)\", \"width\": 0.5}, \"path\": \"M -0.06981767153398273,-0.9975597690071372 Q 0.116958728557116, -0.16223641950654255 0.968497776206405, -0.2490222027917355L 0.968497776206405, -0.2490222027917355 L 0.9683860240076454, -0.24945642606808907 L 0.9682740771261018, -0.2498905991941191 M 0.9682740771261018,-0.2498905991941191 Q 0.11694330412463282, -0.16224753810278184 -0.06911277337926665, -0.9976088534870899L -0.06911277337926665, -0.9976088534870899 L -0.06946522679204249, -0.9975843735076899 L -0.06981767153398273, -0.9975597690071372 \", \"type\": \"path\"}, {\"fillcolor\": \"#e2ecde\", \"layer\": \"below\", \"line\": {\"color\": \"rgb(175,175,175)\", \"width\": 0.5}, \"path\": \"M -0.07175596065758232,-0.9974222185765201 Q 0.12791187187083636, -0.15374834319269506 0.9938315489629536, -0.11090019064860257L 0.9938315489629536, -0.11090019064860257 L 0.9938086257743243, -0.11110542442450369 L 0.9937856602033593, -0.11131065346216029 M 0.9937856602033593,-0.11131065346216029 Q 0.12790728108462074, -0.15375216240931322 -0.07140356439158521, -0.9974475078880977L -0.07140356439158521, -0.9974475078880977 L -0.07157976364143144, -0.9974348787951205 L -0.07175596065758232, -0.9974222185765201 \", \"type\": \"path\"}, {\"fillcolor\": \"#d4e5d6\", \"layer\": \"below\", \"line\": {\"color\": \"rgb(175,175,175)\", \"width\": 0.5}, \"path\": \"M 0.22247122651117363,-0.9749392562486209 Q 0.11471439777068103, -0.16383103168847463 0.8400476930680912, -0.5425125559569824L 0.8400476930680912, -0.5425125559569824 L 0.8306023895156405, -0.5568659358686866 L 0.8209118645002685, -0.5710549104269157 M 0.8209118645002685,-0.5710549104269157 Q 0.11479896435677331, -0.16377178567327247 0.25683524466603674, -0.9664552018057211L 0.25683524466603674, -0.9664552018057211 L 0.23969077604913175, -0.9708492838113262 L 0.22247122651117363, -0.9749392562486209 \", \"type\": \"path\"}, {\"fillcolor\": \"#d4e5d6\", \"layer\": \"below\", \"line\": {\"color\": \"rgb(175,175,175)\", \"width\": 0.5}, \"path\": \"M 0.08676454670511063,-0.9962288459159656 Q 0.12161686854715262, -0.1587744856227996 0.9392425135675609, -0.34325427995480284L 0.9392425135675609, -0.34325427995480284 L 0.9367170270314108, -0.35008743374967816 L 0.9341418288542288, -0.356902008378878 M 0.9341418288542288,-0.356902008378878 Q 0.12181071797760717, -0.15862581437389014 0.10369985343118146, -0.9946086368006019L 0.10369985343118146, -0.9946086368006019 L 0.09523564563341697, -0.9954547562801567 L 0.08676454670511063, -0.9962288459159656 \", \"type\": \"path\"}, {\"fillcolor\": \"#d4e5d6\", \"layer\": \"below\", \"line\": {\"color\": \"rgb(175,175,175)\", \"width\": 0.5}, \"path\": \"M 0.009767049370484464,-0.9999523012357112 Q 0.12318345298529527, -0.15756216839907844 0.9680495994047231, -0.2507587946460802L 0.9680495994047231, -0.2507587946460802 L 0.9679652195526272, -0.25108431599053394 L 0.9678807302390507, -0.2514098089413416 M 0.9678807302390507,-0.2514098089413416 Q 0.12319532039597039, -0.1575528896356211 0.01059020856351126, -0.9999439221689291L 0.01059020856351126, -0.9999439221689291 L 0.010178629829205796, -0.9999481964055938 L 0.009767049370484464, -0.9999523012357112 \", \"type\": \"path\"}, {\"fillcolor\": \"#d4e5d6\", \"layer\": \"below\", \"line\": {\"color\": \"rgb(175,175,175)\", \"width\": 0.5}, \"path\": \"M 0.04597187820179724,-0.9989427343019214 Q 0.1406829513255755, -0.14215592568136495 0.9984097366372171, -0.05637373313878344L 0.9984097366372171, -0.05637373313878344 L 0.9981495991183151, -0.060806066966601666 L 0.9978697848221469, -0.06523720210893597 M 0.9978697848221469,-0.06523720210893597 Q 0.14089029907887676, -0.14195042664770213 0.05775515636071413, -0.9983307778055074L 0.05775515636071413, -0.9983307778055074 L 0.05186441986055111, -0.9986541353003694 L 0.04597187820179724, -0.9989427343019214 \", \"type\": \"path\"}, {\"fillcolor\": \"#c6decd\", \"layer\": \"below\", \"line\": {\"color\": \"rgb(175,175,175)\", \"width\": 0.5}, \"path\": \"M 0.6971876772057682,-0.7168886543616279 Q 0.16631745671856396, -0.111078817020477 0.9292775087489218, -0.3693823381449058L 0.9292775087489218, -0.3693823381449058 L 0.9268710079070783, -0.3753799870815127 L 0.9244257981151202, -0.3813619590090536 M 0.9244257981151202,-0.3813619590090536 Q 0.1664133063370082, -0.11093516788640592 0.7076161771432553, -0.7065970179990609L 0.7076161771432553, -0.7065970179990609 L 0.7024207761329554, -0.7117619358021168 L 0.6971876772057682, -0.7168886543616279 \", \"type\": \"path\"}, {\"fillcolor\": \"#c6decd\", \"layer\": \"below\", \"line\": {\"color\": \"rgb(175,175,175)\", \"width\": 0.5}, \"path\": \"M 0.7331086221725395,-0.6801115703296634 Q 0.18047565822206343, -0.0861889597878577 0.9897694920018816, -0.14267569064958913L 0.9897694920018816, -0.14267569064958913 L 0.9885011801462936, -0.15121315038509314 L 0.9871592280826774, -0.15973934521968078 M 0.9871592280826774,-0.15973934521968078 Q 0.18061548364186256, -0.08589555907505396 0.7469042183837985, -0.6649316420208073L 0.7469042183837985, -0.6649316420208073 L 0.7400453429410765, -0.6725569792896543 L 0.7331086221725395, -0.6801115703296634 \", \"type\": \"path\"}, {\"fillcolor\": \"#c6decd\", \"layer\": \"below\", \"line\": {\"color\": \"rgb(175,175,175)\", \"width\": 0.5}, \"path\": \"M 0.7193747631749237,-0.6946221635587383 Q 0.1842390396048028, -0.0778201534661806 0.9995065603657314, -0.03141075907813368L 0.9995065603657314, -0.03141075907813368 L 0.9992333431786907, -0.039150043166475426 L 0.998900200803122, -0.04688697938108701 M 0.998900200803122,-0.04688697938108701 Q 0.1844133386023779, -0.07740620482574195 0.7331086221725395, -0.6801115703296634L 0.7331086221725395, -0.6801115703296634 L 0.7262779326859459, -0.6874011670730773 L 0.7193747631749237, -0.6946221635587383 \", \"type\": \"path\"}, {\"fillcolor\": \"#b8d7c5\", \"layer\": \"below\", \"line\": {\"color\": \"rgb(175,175,175)\", \"width\": 0.5}, \"path\": \"M 0.9107999060893629,-0.412848072621888 Q 0.19288001382689238, -0.05288950998201636 0.9939908244960696, -0.10946342228170908L 0.9939908244960696, -0.10946342228170908 L 0.993934178804212, -0.10997658025596486 L 0.9938772681892966, -0.11048970891708043 M 0.9938772681892966,-0.11048970891708043 Q 0.19288378012601404, -0.05287577294280882 0.9112843695453047, -0.41177760723771356L 0.9112843695453047, -0.41177760723771356 L 0.9110422950405829, -0.412312911084758 L 0.9107999060893629, -0.412848072621888 \", \"type\": \"path\"}, {\"fillcolor\": \"#aad0bc\", \"layer\": \"below\", \"line\": {\"color\": \"rgb(175,175,175)\", \"width\": 0.5}, \"path\": \"M 0.9703677555010721,-0.24163281872256417 Q 0.19714660024754893, -0.033663303623280016 0.9955669336822857, -0.09405573113027961L 0.9955669336822857, -0.09405573113027961 L 0.9953507072713382, -0.09631702619187711 L 0.9951293446424976, -0.09857782423746923 M 0.9951293446424976,-0.09857782423746923 Q 0.19715314208124665, -0.03362496940506823 0.9715477064206925, -0.23684394471611836L 0.9715477064206925, -0.23684394471611836 L 0.9709606833653295, -0.23923910917475935 L 0.9703677555010721, -0.24163281872256417 \", \"type\": \"path\"}, {\"fillcolor\": \"#f2e6ce\", \"layer\": \"below\", \"line\": {\"color\": \"rgb(150,150,150)\", \"width\": 0.45}, \"path\": \"M 1.1, 0.0 L 1.0997363268123403, 0.024083427690046746 L 1.0989454336558153, 0.04815530964527748 L 1.0976276996891878, 0.07220410566596835 L 1.095783756641759, 0.09621828661992639 L 1.0934144885105128, 0.12018633996962215 L 1.0905210311363231, 0.14409677529136708 L 1.0871047716594247, 0.16793812978388917 L 1.0831673478544104, 0.19169897376366624 L 1.078710647345073, 0.2153679161443826 L 1.0737368066994661, 0.23893360989788184 L 1.068248210405623, 0.2623847574939977 L 1.0622474897284169, 0.2857101163166557 L 0.9656795361167426, 0.2597364693787779 L 0.9711347367323845, 0.23853159772181606 L 0.9761243697267874, 0.21721237263443802 L 0.9806460430409754, 0.19578901467671145 L 0.9846975889585549, 0.17427179433060566 L 0.9882770651449314, 0.15267102707626287 L 0.9913827555784755, 0.13099706844669734 L 0.9940131713731934, 0.10926030906329286 L 0.9961670514925082, 0.08747116965447853 L 0.9978433633538071, 0.06564009605997123 L 0.9990413033234683, 0.04377755422297952 L 0.9997602971021274, 0.021894025172769768 L 1.0, 0.0 L 1.1 ,0.0\", \"type\": \"path\"}, {\"fillcolor\": \"#ecd5bb\", \"layer\": \"below\", \"line\": {\"color\": \"rgb(150,150,150)\", \"width\": 0.45}, \"path\": \"M 1.0527489630857763, 0.31893513560255954 L 1.0459074897672316, 0.34070151577122243 L 1.0386160332812246, 0.3623213151488251 L 1.0308777306477281, 0.3837852321997163 L 1.0226959111343532, 0.40508403245385455 L 1.0140740948239906, 0.4262085524797743 L 1.0050159911003578, 0.4471497038269909 L 0.9955254970521026, 0.46789847693614495 L 0.9856066957961491, 0.48844594501520555 L 0.9752638547210095, 0.5087832678800648 L 0.9645014236508156, 0.5289016957578697 L 0.9533240329308604, 0.548792573051458 L 0.9417364914354753, 0.5684473420632742 L 0.9297437844990958, 0.5878575466771683 L 0.9173510717714103, 0.6070148359964895 L 0.9045636849975119, 0.6259109679369119 L 0.8913871257240106, 0.6445378127724449 L 0.8778270629320883, 0.6628873566331037 L 0.8638893305985221, 0.6809517049527357 L 0.8495799251857182, 0.6987230858655162 L 0.8349050030618403, 0.7161938535496576 L 0.8198708778521414, 0.7333564915168879 L 0.8044840177226378, 0.7502036158462866 L 0.7887510425972964, 0.766727978361086 L 0.7726787213099289, 0.7829224697470711 L 0.7562739686920205, 0.7987801226112359 L 0.7395438425977475, 0.8142941144793803 L 0.72249554086746, 0.8294577707313595 L 0.7051363982309375, 0.8442645674727212 L 0.6874738831517535, 0.858708134341494 L 0.6695155946140995, 0.8727822572489252 L 0.6512692588534573, 0.8864808810529805 L 0.6327427260325235, 0.8997981121634625 L 0.6139439668638159, 0.9127282210776229 L 0.594881069180415, 0.9252656448451799 L 0.5755622344563175, 0.9374049894616794 L 0.5559957742778984, 0.9491410321891687 L 0.5361901067679963, 0.960468723803188 L 0.5161537529641665, 0.9713831907651101 L 0.495895333152656, 0.9818797373188921 L 0.47542356315967627, 0.9919538475113434 L 0.454747250601575, 1.0016011871350334 L 0.43387529109551454, 1.0108176055930085 L 0.4128166644322908, 1.0195991376845106 L 0.39158043071293663, 1.0279420053109374 L 0.3701757264507738, 1.0358426191013006 L 0.3486117606405913, 1.0432975799564894 L 0.32689781079663677, 1.050303680511673 L 0.2971798279969425, 0.9548215277378844 L 0.31691978240053753, 0.9484523454149902 L 0.3365233876825216, 0.9416751082739095 L 0.3559822097390333, 0.934492732100852 L 0.375287876756628, 0.9269083069859186 L 0.3944320828141041, 0.9189250959936439 L 0.41340659145597725, 0.9105465337591213 L 0.4322032392360693, 0.9017762250103121 L 0.4508139392296872, 0.8926179430171746 L 0.46923068451287864, 0.8830756279682819 L 0.4874455516072693, 0.8731533852756255 L 0.5054507038889985, 0.8628554838083351 L 0.5232383949602886, 0.8521863540560721 L 0.5408009719821953, 0.8411505862228907 L 0.5581308789671053, 0.8297529282523843 L 0.5752206600295667, 0.8179982837849659 L 0.5920629625940521, 0.8058917100481641 L 0.6086505405582722, 0.7934384156808411 L 0.624976257410685, 0.7806437584922672 L 0.6410330893008522, 0.7675132431570192 L 0.6568141280613272, 0.7540525188466904 L 0.6723125841797705, 0.7402673767994365 L 0.6875217897200185, 0.7261637478283962 L 0.7024352011908443, 0.7117476997700646 L 0.7170464023611786, 0.6970254348737145 L 0.7313491070205798, 0.6820032871329877 L 0.7453371616837648, 0.6666877195608071 L 0.7590045482380366, 0.6510853214087796 L 0.7723453865324711, 0.6352028053322875 L 0.7853539369077474, 0.619047004502487 L 0.7980246026655348, 0.6026248696664579 L 0.8103519324763732, 0.5859434661567681 L 0.8223306227250108, 0.5690099708517381 L 0.8339555197921911, 0.5518316690877177 L 0.8452216222719052, 0.5344159515246983 L 0.8561240831231594, 0.5167703109666129 L 0.8666582117553276, 0.49890233913768905 L 0.8768194760461959, 0.4808197234162452 L 0.8866035042918268, 0.4625302435273316 L 0.8960060870874083, 0.4440417681956414 L 0.905023179138275, 0.42536225176013176 L 0.9136509010003252, 0.40649973075180984 L 0.9218855407490822, 0.3874623204361584 L 0.9297235555766846, 0.3682582113216859 L 0.9371615733161165, 0.3488956656361057 L 0.9441963938920224, 0.3293830137716591 L 0.9508249906974832, 0.3097286507011113 L 0.9570445118961601, 0.2899410323659632 L 1.0527489630857763 ,0.31893513560255954\", \"type\": \"path\"}, {\"fillcolor\": \"#e6c4a9\", \"layer\": \"below\", \"line\": {\"color\": \"rgb(150,150,150)\", \"width\": 0.45}, \"path\": \"M 0.29374567059301054, 1.0600535274257912 L 0.2712274990271666, 1.0660373557110785 L 0.24858763950632082, 1.0715428995073766 L 0.22583624954848489, 1.0765676887171909 L 0.20298353671051544, 1.0811094689366525 L 0.18003975400842853, 1.08516620246697 L 0.15701519531731795, 1.0887360692286558 L 0.13392019075294265, 1.0918174675781183 L 0.11076510203705385, 1.0944090150262475 L 0.08756031784854225, 1.0965095488586785 L 0.06431624916249067, 1.0981181266574505 L 0.041043324579223515, 1.0992340267238296 L 0.017751985645448252, 1.0998567484021018 L -0.005547317830411295, 1.099986012304197 L -0.028844132466588474, 1.0996217604350371 L -0.052128005997950505, 1.0987641562185573 L -0.07538849196547419, 1.0974135844243826 L -0.09861515440311665, 1.0955706509952015 L -0.12179757251997843, 1.0932361827749029 L -0.144925345375658, 1.090411227137609 L -0.16798809654670027, 1.0870970515177643 L -0.1909754787820456, 1.083295142841492 L -0.21387717864539021, 1.079007206859476 L -0.2366829211423753, 1.0742351673816644 L -0.25938247433052936, 1.0689811654141397 L -0.2358022493913903, 0.9718010594673997 L -0.21516629194761389, 0.976577424892422 L -0.19443379876853653, 0.9809156425995236 L -0.17361407162004144, 0.9848137662195381 L -0.15271645140609114, 0.9882700468343311 L -0.13175031397787088, 0.9912829337614627 L -0.1107250659272531, 0.9938510752499116 L -0.08965014036646968, 0.9959733190865467 L -0.06853499269588562, 0.9976487131130751 L -0.04738909636177318, 0.9988765056532337 L -0.02622193860598952, 0.9996561458500336 L -0.005043016209464813, 0.9999872839129061 L 0.01613816876858932, 0.9998697712746378 L 0.037312113253839554, 0.9993036606580268 L 0.05846931742044606, 0.9982892060522277 L 0.07960028895322022, 0.9968268625987985 L 0.10069554730641259, 0.9949172863874977 L 0.12174562795722059, 0.9925613341619257 L 0.14274108665210722, 0.9897600629351416 L 0.1636725036440259, 0.9865147295154271 L 0.1845304879186504, 0.9828267899424113 L 0.20530568140771352, 0.9786978988338099 L 0.22598876318756436, 0.9741299086430695 L 0.2465704536610605, 0.9691248688282531 L 0.26704151872091864, 0.9636850249325374 L 0.29374567059301054 ,1.0600535274257912\", \"type\": \"path\"}, {\"fillcolor\": \"#e1b396\", \"layer\": \"below\", \"line\": {\"color\": \"rgb(150,150,150)\", \"width\": 0.45}, \"path\": \"M -0.29283199458314046, 1.060306287328553 L -0.31593716212322354, 1.0536525563911114 L -0.3388913793515035, 1.0464954051505604 L -0.36168367906733623, 1.0388382531926308 L -0.38430317143197773, 1.0306847589963306 L -0.40673904917159437, 1.0220388181859765 L -0.4289805927408262, 1.0129045616699186 L -0.45101717544443304, 1.003286353666851 L -0.47283826851458116, 0.9931887896206506 L -0.49443344614133794, 0.982616694004738 L -0.5157923904539778, 0.9715751180170124 L -0.5369048964507149, 0.9600693371664607 L -0.5577608768745079, 0.9481048487525946 L -0.5783503670326098, 0.9356873692389173 L -0.598663529557557, 0.9228228315216785 L -0.6186906591073247, 0.909517382095221 L -0.6384221870024009, 0.8957773781152724 L -0.6578486857975684, 0.8816093843615846 L -0.6769608737862033, 0.8670201701013768 L -0.6154189761692757, 0.7882001546376152 L -0.5980442598159712, 0.8014630766923496 L -0.580383806365819, 0.8143430710138839 L -0.5624460537339315, 0.8268339837229282 L -0.5442395723250517, 0.8389298468378895 L -0.5257730609387361, 0.8506248811262883 L -0.507055342613189, 0.861913498865995 L -0.4880953604097408, 0.8727903065149643 L -0.46890217313997984, 0.883250107288193 L -0.4494849510375799, 0.8932879036406708 L -0.42985297137689193, 0.9028988996551368 L -0.41001561404039366, 0.9120785033335008 L -0.3899823570371147, 0.9208223287908349 L -0.3697627719741767, 0.9291261983508876 L -0.3493665194836161, 0.9369861445421187 L -0.32880334460666927, 0.9443984119933005 L -0.3080830721377304, 0.9513594592277821 L -0.2872156019302032, 0.9578659603555557 L -0.2662109041664913, 0.9639148066623208 L -0.29283199458314046 ,1.060306287328553\", \"type\": \"path\"}, {\"fillcolor\": \"#dba284\", \"layer\": \"below\", \"line\": {\"color\": \"rgb(150,150,150)\", \"width\": 0.45}, \"path\": \"M -0.7038605961391602, 0.8453284930739212 L -0.7211120131010683, 0.8306608601356662 L -0.7380578508954042, 0.815641225497864 L -0.7546909285365325, 0.800275953896321 L -0.7710041975743831, 0.7845715565343175 L -0.7009129068858028, 0.7132468695766523 L -0.6860826623059386, 0.7275235944512009 L -0.6709616826321856, 0.7414920231798763 L -0.6555563755464257, 0.7551462364869692 L -0.6398732692174183, 0.7684804482490192 L -0.7038605961391602 ,0.8453284930739212\", \"type\": \"path\"}, {\"fillcolor\": \"#d59171\", \"layer\": \"below\", \"line\": {\"color\": \"rgb(150,150,150)\", \"width\": 0.45}, \"path\": \"M -0.7952677416869639, 0.7599665907341695 L -0.8220198268292043, 0.7309469230386603 L -0.8477136020884485, 0.700986197320766 L -0.8723159879994565, 0.6701229865334664 L -0.895795310206811, 0.6383970255346458 L -0.8143593729152827, 0.5803609323042235 L -0.7930145345449604, 0.6092027150304239 L -0.7706487291713168, 0.6372601793825144 L -0.7472907516629129, 0.6644972027624184 L -0.7229706742608762, 0.6908787188492449 L -0.7952677416869639 ,0.7599665907341695\", \"type\": \"path\"}, {\"fillcolor\": \"#d0805f\", \"layer\": \"below\", \"line\": {\"color\": \"rgb(150,150,150)\", \"width\": 0.45}, \"path\": \"M -0.9154058244618256, 0.6099444044676249 L -0.9286534666258246, 0.5895784417054601 L -0.9414480851797282, 0.5689248657875865 L -0.9537834385442007, 0.5479937521165741 L -0.9656535091825463, 0.5267953114858125 L -0.9770525065362354, 0.5053398850983958 L -0.9879748698497023, 0.483637939522391 L -0.998415270883042, 0.461700061584945 L -1.0083686165112764, 0.4395369532077301 L -1.0178300512089256, 0.4171594261862436 L -1.026794959418672, 0.39457839691550245 L -1.0352589678029607, 0.37180488106471743 L -1.043217947377437, 0.3488499882035362 L -0.9483799521613062, 0.3171363529123056 L -0.9411445161845096, 0.33800443733156127 L -0.9334499631078836, 0.35870763355954766 L -0.9253000465535687, 0.3792358419874941 L -0.9166987422829785, 0.3995790483706637 L -0.9076502462573108, 0.4197273287135863 L -0.8981589725906384, 0.4396708541112645 L -0.8882295513965776, 0.45939989554399613 L -0.8778668265295875, 0.47890482862346584 L -0.8670758532220005, 0.4981761382877946 L -0.8558618956179347, 0.5172044234432605 L -0.844230424205295, 0.5359804015504183 L -0.8321871131471141, 0.5544949131523862 L -0.9154058244618256 ,0.6099444044676249\", \"type\": \"path\"}, {\"fillcolor\": \"#ca6f4c\", \"layer\": \"below\", \"line\": {\"color\": \"rgb(150,150,150)\", \"width\": 0.45}, \"path\": \"M -1.05366082522889, 0.31590958418189047 L -1.0576052482821885, 0.30244195940042856 L -1.0613775391846263, 0.28892511021783385 L -1.0649770839712593, 0.27536123658945433 L -1.068403296792701, 0.2617525461241734 L -0.9712757243570009, 0.23795686011288492 L -0.9681609854284174, 0.2503283968995039 L -0.9648886719860238, 0.26265919110712166 L -0.9614593166201714, 0.2749472358185714 L -0.9578734774808089, 0.28719053107444587 L -1.05366082522889 ,0.31590958418189047\", \"type\": \"path\"}, {\"fillcolor\": \"#c45e3a\", \"layer\": \"below\", \"line\": {\"color\": \"rgb(150,150,150)\", \"width\": 0.45}, \"path\": \"M -1.0760979504250736, 0.22806402848971172 L -1.0821712543453237, 0.19724445814437705 L -1.0873620691287513, 0.16626403886601818 L -1.09166616176913, 0.13514803457045083 L -1.0950800223645072, 0.1039218197403743 L -0.9955272930586427, 0.09447438158215844 L -0.9924237834264817, 0.12286184960950074 L -0.9885109719352284, 0.15114912624183469 L -0.9837920494048397, 0.17931314376761548 L -0.9782708640227941, 0.207330934990647 L -1.0760979504250736 ,0.22806402848971172\", \"type\": \"path\"}, {\"fillcolor\": \"#bf4d28\", \"layer\": \"below\", \"line\": {\"color\": \"rgb(150,150,150)\", \"width\": 0.45}, \"path\": \"M -1.0978039297216025, 0.06947324584188641 L -1.0995721748807266, 0.030676248598368833 L -1.0999697409062783, -0.008158988330373682 L -1.0989961322096387, -0.046984054617015165 L -1.096652562449315, -0.0857505526125109 L -0.9969568749539228, -0.07795504782955535 L -0.9990873929178532, -0.042712776924559236 L -0.9999724917329802, -0.0074172621185215285 L -0.9996110680733877, 0.027887498725789845 L -0.9980035724741839, 0.06315749621989673 L -1.0978039297216025 ,0.06947324584188641\", \"type\": \"path\"}, {\"fillcolor\": \"#af4624\", \"layer\": \"below\", \"line\": {\"color\": \"rgb(150,150,150)\", \"width\": 0.45}, \"path\": \"M -1.0934179406610527, -0.12015492932269875 L -1.0881735474644971, -0.16086743175214807 L -1.0814137947995266, -0.20135591478098555 L -1.0731480961050444, -0.2415639953016977 L -1.0633879619574735, -0.2814356806873122 L -0.9667163290522487, -0.2558506188066474 L -0.975589178277313, -0.21960363209245243 L -0.9831034498177514, -0.18305083161907776 L -0.9892486795131791, -0.14624311977468005 L -0.994016309691866, -0.10923175392972613 L -1.0934179406610527 ,-0.12015492932269875\", \"type\": \"path\"}, {\"fillcolor\": \"#9f4021\", \"layer\": \"below\", \"line\": {\"color\": \"rgb(150,150,150)\", \"width\": 0.45}, \"path\": \"M -1.0540231358283818, -0.3146986322475916 L -1.0403987498614196, -0.35717004533806496 L -1.0250637722360767, -0.39905421041400474 L -1.008043416251399, -0.44028226281808014 L -0.9893656662537474, -0.48078641665325633 L -0.8994233329579522, -0.43707856059386935 L -0.9164031056830899, -0.400256602561891 L -0.9318761565782515, -0.3627765549218225 L -0.9458170453285633, -0.32470004121642265 L -0.9582028507530742, -0.2860896656796287 L -1.0540231358283818 ,-0.3146986322475916\", \"type\": \"path\"}, {\"fillcolor\": \"#8f391e\", \"layer\": \"below\", \"line\": {\"color\": \"rgb(150,150,150)\", \"width\": 0.45}, \"path\": \"M -0.9737756077197015, -0.5116259041625298 L -0.9623530464785766, -0.5328007262883591 L -0.950470108267439, -0.5537206635931903 L -0.9381324777267741, -0.5743757082556887 L -0.9253460570158627, -0.5947559791756584 L -0.912116962989269, -0.6148517267010254 L -0.8984515242706165, -0.6346533372919473 L -0.8843562782250577, -0.6541513381197999 L -0.8698379678318874, -0.6733364015988536 L -0.8549035384587881, -0.6921993498484693 L -0.8395601345392597, -0.7107311590836725 L -0.8238150961548153, -0.7289229639320144 L -0.8076759555235856, -0.7467660616746472 L -0.791150433397003, -0.7642519164095923 L -0.7742464353662979, -0.7813721631351999 L -0.7569720480805673, -0.798118611751857 L -0.7393355353782289, -0.8144832509800234 L -0.721345334333712, -0.8304582521927188 L -0.7030100512212695, -0.8460359731606384 L -0.6843384573978529, -0.8612089617080904 L -0.6221258703616844, -0.7829172379164457 L -0.6391000465647904, -0.7691236119642166 L -0.6557684857579199, -0.7549620474479262 L -0.672123213980208, -0.7404393190727485 L -0.6881564073459702, -0.72556237431987 L -0.7038603957875434, -0.7103383301229089 L -0.7192276667245481, -0.6947744694632657 L -0.7342508686578051, -0.6788782378860428 L -0.7489228146861957, -0.6626572399381948 L -0.7632364859447814, -0.6461192355306112 L -0.7771850349625345, -0.6292721362258812 L -0.7907617889380794, -0.6121240014535032 L -0.8039602529318706, -0.5946830346543635 L -0.8167741129732876, -0.5769575793563156 L -0.8291972390811536, -0.5589561151827503 L -0.8412236881962387, -0.540687253796053 L -0.85284770702434, -0.5221597347778988 L -0.8640637347885809, -0.5033824214483548 L -0.874866405889615, -0.4843642966257809 L -0.8852505524724559, -0.46511445832957254 L -0.9737756077197015 ,-0.5116259041625298\", \"type\": \"path\"}, {\"fillcolor\": \"#f0f3e7\", \"layer\": \"below\", \"line\": {\"color\": \"rgb(150,150,150)\", \"width\": 0.45}, \"path\": \"M -0.6569495504675811, -0.8822795974862183 L -0.6378550625860528, -0.8961812981385757 L -0.61846649887707, -0.9096698245884269 L -0.5987927982175828, -0.9227389581039468 L -0.5788430309436898, -0.9353826733096582 L -0.5586263946688673, -0.9475951409643588 L -0.5381522100435082, -0.959370730648631 L -0.5174299164577489, -0.970704013360678 L -0.4964690676895389, -0.9815897640193078 L -0.4752793274999869, -0.9920229638728936 L -0.4538704651779873, -1.0019988028132158 L -0.43225235103620346, -1.0115126815931053 L -0.4104349518604748, -1.0205602139468744 L -0.3884283263147372, -1.029137228612556 L -0.3662426203035975, -1.0372397712550145 L -0.34388806229467217, -1.0448641062890502 L -0.3213749586028762, -1.0520067186016446 L -0.2987136886388058, -1.0586643151725663 L -0.27591470012343694, -1.0648338265925787 L -0.2529885042713159, -1.0705124084785578 L -0.22994567094448562, -1.0756974427848616 L -0.20679682377937408, -1.0803865390103502 L -0.18355263528888088, -1.0845775353005 L -0.1602238219419438, -1.0882684994441014 L -0.13682113922282518, -1.0914577297640842 L -0.11335537667242578, -1.0941437559020535 L -0.10305034242947797, -0.9946761417291395 L -0.12438285383893198, -0.9922342997855309 L -0.1456580199472216, -0.9893349994946377 L -0.16686603208080078, -0.985979577545909 L -0.1879971125267037, -0.9821695809185 L -0.20904151904044146, -0.9779067661680559 L -0.2299895493375599, -0.9731930986168706 L -0.25083154556676085, -0.9680307514477988 L -0.2715578987625507, -0.9624221047023329 L -0.292159053275342, -0.9563697441833132 L -0.3126255111769747, -0.949876460262773 L -0.33294783663963406, -0.9429452465954677 L -0.3531166602861247, -0.9355792987386872 L -0.3731226835095225, -0.9277820126789766 L -0.3929566827601849, -0.9195569832664593 L -0.41260951379817024, -0.9109080025574688 L -0.43207211590907896, -0.9018390580662669 L -0.451335516081399, -0.8923543309266433 L -0.47039083314340807, -0.8824581939642526 L -0.4892292818577347, -0.8721552096805736 L -0.5078421769716975, -0.861450128149417 L -0.5262209372215362, -0.8503478848269619 L -0.5443570892887116, -0.8388535982763152 L -0.5622422717064272, -0.8269725678076608 L -0.5798682387145935, -0.8147102710350688 L -0.5972268640614373, -0.8020723613511075 L -0.6569495504675811 ,-0.8822795974862183\", \"type\": \"path\"}, {\"fillcolor\": \"#e2ecde\", \"layer\": \"below\", \"line\": {\"color\": \"rgb(150,150,150)\", \"width\": 0.45}, \"path\": \"M -0.07893155672334055, -1.0971644404341723 L -0.06516480971811617, -1.0980680978766306 L -0.05138781191565056, -1.0987990229275424 L -0.03760273051648942, -1.0993571006082166 L -0.023811733992771457, -1.0997422431298425 L -0.021647030902519505, -0.999765675572584 L -0.034184300469535835, -0.9994155460074695 L -0.04671619265059142, -0.9989082026614021 L -0.05924073610737833, -0.9982437253423915 L -0.07175596065758232, -0.9974222185765201 L -0.07893155672334055 ,-1.0971644404341723\", \"type\": \"path\"}, {\"fillcolor\": \"#d4e5d6\", \"layer\": \"below\", \"line\": {\"color\": \"rgb(150,150,150)\", \"width\": 0.45}, \"path\": \"M 0.010743754307532912, -1.0999475313592824 L 0.03376340589629426, -1.099481710817548 L 0.05676826516914789, -1.0985341888487976 L 0.07974825331038264, -1.0971053805783395 L 0.10269330240075134, -1.095195911991105 L 0.12559335982838954, -1.0928066196573925 L 0.14843839269303688, -1.0899385503663535 L 0.17121839220162235, -1.086592960667375 L 0.1939233780532789, -1.0827713163195658 L 0.21654340281188494, -1.0784752916495814 L 0.23906855626420262, -1.0737067688180744 L 0.2614889697617078, -1.0684678369950875 L 0.28379482054421484, -1.0627607914447526 L 0.30597633604338703, -1.0565881325196986 L 0.3280237981642664, -1.049952564565604 L 0.34992754754293703, -1.042856994736376 L 0.37167798777844935, -1.0353045317204803 L 0.39326558963716846, -1.0272984843789708 L 0.41468089522769064, -1.0188423602958219 L 0.4359145221445041, -1.0099398642411976 L 0.4569571675785814, -1.0005948965483287 L 0.47779961239309215, -0.9908115514047114 L 0.49843272516246384, -0.9805941150583762 L 0.5188474661730158, -0.9699470639400077 L 0.5390348913834047, -0.958875062701748 L 0.5589861563431625, -0.9473829621735329 L 0.5786925200675986, -0.9354757972378612 L 0.5981453488673715, -0.9231587846239295 L 0.6173361201310553, -0.9104373206220928 L 0.6362564260590362, -0.8973169787196621 L 0.6548979773471113, -0.8838035071590644 L 0.6732526068181764, -0.8699028264194398 L 0.6913122730003974, -0.8556210266227824 L 0.628465702727634, -0.7778372969298021 L 0.6120478243801604, -0.7908207512903997 L 0.595361797588283, -0.8034577337809676 L 0.5784149327809419, -0.8157427079269655 L 0.5612146546645957, -0.8276702914746298 L 0.5437684989703376, -0.8392352587490268 L 0.5260841091523624, -0.8504325429435101 L 0.5081692330392386, -0.8612572383395753 L 0.4900317194394587, -0.8717046024561346 L 0.4716795147027416, -0.8817700581272797 L 0.45312065923860345, -0.8914491955076147 L 0.4343632839937201, -0.900737774004283 L 0.4154156068896194, -0.9096317241348442 L 0.3962859292222764, -0.9181271493101797 L 0.3769826320251733, -0.9262203275416562 L 0.35751417239742583, -0.9339077130717915 L 0.3378890797985903, -0.9411859379277093 L 0.31811595231176093, -0.9480518133967054 L 0.2982034528766058, -0.9545023314232762 L 0.2781603054939882, -0.9605346659269988 L 0.25799529140383165, -0.9661461740406841 L 0.2377172452379162, -0.9713343972682613 L 0.2173350511492751, -0.9760970625618858 L 0.19685763891989538, -0.9804320833178013 L 0.17629398004843533, -0.9843375602905143 L 0.15565308381965667, -0.9878117824248863 L 0.13494399335730625, -0.9908532276057758 L 0.1141757816621723, -0.9934605633249022 L 0.09335754763704666, -0.9956326472646407 L 0.07249841210034785, -0.9973685277984904 L 0.05160751379013444, -0.9986674444079977 L 0.030694005360267503, -0.9995288280159527 L 0.009767049370484464, -0.9999523012357112 L 0.010743754307532912 ,-1.0999475313592824\", \"type\": \"path\"}, {\"fillcolor\": \"#c6decd\", \"layer\": \"below\", \"line\": {\"color\": \"rgb(150,150,150)\", \"width\": 0.45}, \"path\": \"M 0.7178468580546717, -0.8334841860413646 L 0.7352734208545166, -0.8181521842450199 L 0.7523726014196696, -0.8024558982479968 L 0.7691367862994248, -0.7864023168588664 L 0.7855585112007014, -0.7699985879728207 L 0.8016304643115333, -0.7532520153890567 L 0.8173454895566761, -0.7361700555587395 L 0.832696589783864, -0.7187603142650014 L 0.8476769298793078, -0.7010305432364494 L 0.8622798398110472, -0.6829886366956883 L 0.8764988175987978, -0.6646426278444001 L 0.8903275322089712, -0.6460006852865433 L 0.9037598263735863, -0.6270711093912599 L 0.9167897193318051, -0.6078623285971175 L 0.9294114094928815, -0.5883828956593281 L 0.9416192770193325, -0.5686414838416117 L 0.9534078863291852, -0.5486468830544066 L 0.9647719885161826, -0.5284079959411392 L 0.9757065236868694, -0.5079338339143049 L 0.9862066232135248, -0.4872335131431096 L 0.8965514756486589, -0.44293955740282687 L 0.8870059306244267, -0.4617580308311863 L 0.8770654441056205, -0.4803709054010356 L 0.866734442117441, -0.4987698936858241 L 0.8560175245630295, -0.5169468034923742 L 0.8449194631753467, -0.53489354150848 L 0.83344519939255, -0.5526021169064704 L 0.8215998421578057, -0.5700646449011453 L 0.8093886656445192, -0.5872733502604939 L 0.7968171069079979, -0.6042205707676364 L 0.7838907634645883, -0.6208987606324439 L 0.7706153907993706, -0.6373004938513176 L 0.7569968998035126, -0.6534184675136376 L 0.7430413541424328, -0.6692455050533995 L 0.7287549675559393, -0.684774559444597 L 0.7141441010915467, -0.6999987163389279 L 0.6992152602722044, -0.714911197144424 L 0.6839750921996995, -0.7295053620436334 L 0.6684303825950151, -0.7437747129500181 L 0.6525880527769743, -0.7577128964012405 L 0.7178468580546717 ,-0.8334841860413646\", \"type\": \"path\"}, {\"fillcolor\": \"#b8d7c5\", \"layer\": \"below\", \"line\": {\"color\": \"rgb(150,150,150)\", \"width\": 0.45}, \"path\": \"M 1.0010243642741814, -0.45601559417356663 L 1.0164983035762867, -0.42039409941926126 L 1.0307051200411168, -0.3842485595562167 L 1.0436271040654934, -0.34762403205168674 L 1.055248147662809, -0.31056617145821036 L 0.9593164978752808, -0.2823328831438276 L 0.948751912786812, -0.31602184731971517 L 0.9370046545828333, -0.3493168723238333 L 0.9240893668875332, -0.3821764540175102 L 0.9100221493401649, -0.4145596310668787 L 1.0010243642741814 ,-0.45601559417356663\", \"type\": \"path\"}, {\"fillcolor\": \"#aad0bc\", \"layer\": \"below\", \"line\": {\"color\": \"rgb(150,150,150)\", \"width\": 0.45}, \"path\": \"M 1.0644825655922543, -0.2772667804662724 L 1.0718058075335521, -0.2474516335313837 L 1.0782941279338587, -0.21744372527934527 L 1.083942472483495, -0.18726643144559596 L 1.08874644120207, -0.1569432597145461 L 0.9897694920018818, -0.14267569064958735 L 0.985402247712268, -0.17024221040508722 L 0.9802673890307806, -0.19767611389031386 L 0.9743689159395929, -0.22495603048307605 L 0.9677114232656857, -0.2520607095147931 L 1.0644825655922543 ,-0.2772667804662724\", \"type\": \"path\"}, {\"fillcolor\": \"#9cc9b4\", \"layer\": \"below\", \"line\": {\"color\": \"rgb(150,150,150)\", \"width\": 0.45}, \"path\": \"M 1.093138917476142, -0.12266746552810405 L 1.0953818535463808, -0.10069059003350353 L 1.0971830032684329, -0.07867310429150415 L 1.0985416402076256, -0.056623888332929646 L 1.0994572164023046, -0.03455183498594608 L 0.9995065603657314, -0.031410759078132795 L 0.9986742183705686, -0.05147626212084513 L 0.9974390938803935, -0.0715210039013674 L 0.9958016850421644, -0.09153690003045775 L 0.9937626522510381, -0.11151587775282186 L 1.093138917476142 ,-0.12266746552810405\", \"type\": \"path\"}], \"showlegend\": false, \"title\": \"Data Jobs \\u2012 Technologies in Demand\", \"titlefont\": {\"color\": \"#655643\", \"family\": \"Merryweather\", \"size\": 18}, \"width\": 1000, \"xaxis\": {\"showgrid\": false, \"showline\": false, \"showticklabels\": false, \"title\": \"\", \"zeroline\": false}, \"yaxis\": {\"showgrid\": false, \"showline\": false, \"showticklabels\": false, \"title\": \"\", \"zeroline\": false}}, {\"showLink\": true, \"linkText\": \"Export to plot.ly\", \"plotlyServerURL\": \"https://plot.ly\"})});</script>"
      ],
      "text/vnd.plotly.v1+html": [
       "<div id=\"7c529185-7b10-41e7-a8e9-85d84968b5f1\" style=\"height: 525px; width: 1000px;\" class=\"plotly-graph-div\"></div><script type=\"text/javascript\">require([\"plotly\"], function(Plotly) { window.PLOTLYENV=window.PLOTLYENV || {};window.PLOTLYENV.BASE_URL=\"https://plot.ly\";Plotly.newPlot(\"7c529185-7b10-41e7-a8e9-85d84968b5f1\", [{\"hoverinfo\": \"text\", \"line\": {\"color\": \"#f2e6ce\", \"shape\": \"spline\", \"width\": 0.25}, \"mode\": \"lines\", \"text\": \"Power BI<br>1024\", \"x\": [1.1, 1.0997363268123403, 1.0989454336558153, 1.0976276996891878, 1.095783756641759, 1.0934144885105128, 1.0905210311363231, 1.0871047716594247, 1.0831673478544104, 1.078710647345073, 1.0737368066994661, 1.068248210405623, 1.0622474897284169], \"y\": [0.0, 0.024083427690046746, 0.04815530964527748, 0.07220410566596835, 0.09621828661992639, 0.12018633996962215, 0.14409677529136708, 0.16793812978388917, 0.19169897376366624, 0.2153679161443826, 0.23893360989788184, 0.2623847574939977, 0.2857101163166557], \"type\": \"scatter\", \"uid\": \"9ecee28b-91f1-4daf-ae90-5289d05c2cec\"}, {\"hoverinfo\": \"text\", \"line\": {\"color\": \"#ecd5bb\", \"shape\": \"spline\", \"width\": 0.25}, \"mode\": \"lines\", \"text\": \"Excel<br>3503\", \"x\": [1.0527489630857763, 1.0459074897672316, 1.0386160332812246, 1.0308777306477281, 1.0226959111343532, 1.0140740948239906, 1.0050159911003578, 0.9955254970521026, 0.9856066957961491, 0.9752638547210095, 0.9645014236508156, 0.9533240329308604, 0.9417364914354753, 0.9297437844990958, 0.9173510717714103, 0.9045636849975119, 0.8913871257240106, 0.8778270629320883, 0.8638893305985221, 0.8495799251857182, 0.8349050030618403, 0.8198708778521414, 0.8044840177226378, 0.7887510425972964, 0.7726787213099289, 0.7562739686920205, 0.7395438425977475, 0.72249554086746, 0.7051363982309375, 0.6874738831517535, 0.6695155946140995, 0.6512692588534573, 0.6327427260325235, 0.6139439668638159, 0.594881069180415, 0.5755622344563175, 0.5559957742778984, 0.5361901067679963, 0.5161537529641665, 0.495895333152656, 0.47542356315967627, 0.454747250601575, 0.43387529109551454, 0.4128166644322908, 0.39158043071293663, 0.3701757264507738, 0.3486117606405913, 0.32689781079663677], \"y\": [0.31893513560255954, 0.34070151577122243, 0.3623213151488251, 0.3837852321997163, 0.40508403245385455, 0.4262085524797743, 0.4471497038269909, 0.46789847693614495, 0.48844594501520555, 0.5087832678800648, 0.5289016957578697, 0.548792573051458, 0.5684473420632742, 0.5878575466771683, 0.6070148359964895, 0.6259109679369119, 0.6445378127724449, 0.6628873566331037, 0.6809517049527357, 0.6987230858655162, 0.7161938535496576, 0.7333564915168879, 0.7502036158462866, 0.766727978361086, 0.7829224697470711, 0.7987801226112359, 0.8142941144793803, 0.8294577707313595, 0.8442645674727212, 0.858708134341494, 0.8727822572489252, 0.8864808810529805, 0.8997981121634625, 0.9127282210776229, 0.9252656448451799, 0.9374049894616794, 0.9491410321891687, 0.960468723803188, 0.9713831907651101, 0.9818797373188921, 0.9919538475113434, 1.0016011871350334, 1.0108176055930085, 1.0195991376845106, 1.0279420053109374, 1.0358426191013006, 1.0432975799564894, 1.050303680511673], \"type\": \"scatter\", \"uid\": \"7107e261-6bfc-4890-898a-c056df5ac2cc\"}, {\"hoverinfo\": \"text\", \"line\": {\"color\": \"#e6c4a9\", \"shape\": \"spline\", \"width\": 0.25}, \"mode\": \"lines\", \"text\": \"SSIS/SSRS<br>1879\", \"x\": [0.29374567059301054, 0.2712274990271666, 0.24858763950632082, 0.22583624954848489, 0.20298353671051544, 0.18003975400842853, 0.15701519531731795, 0.13392019075294265, 0.11076510203705385, 0.08756031784854225, 0.06431624916249067, 0.041043324579223515, 0.017751985645448252, -0.005547317830411295, -0.028844132466588474, -0.052128005997950505, -0.07538849196547419, -0.09861515440311665, -0.12179757251997843, -0.144925345375658, -0.16798809654670027, -0.1909754787820456, -0.21387717864539021, -0.2366829211423753, -0.25938247433052936], \"y\": [1.0600535274257912, 1.0660373557110785, 1.0715428995073766, 1.0765676887171909, 1.0811094689366525, 1.08516620246697, 1.0887360692286558, 1.0918174675781183, 1.0944090150262475, 1.0965095488586785, 1.0981181266574505, 1.0992340267238296, 1.0998567484021018, 1.099986012304197, 1.0996217604350371, 1.0987641562185573, 1.0974135844243826, 1.0955706509952015, 1.0932361827749029, 1.090411227137609, 1.0870970515177643, 1.083295142841492, 1.079007206859476, 1.0742351673816644, 1.0689811654141397], \"type\": \"scatter\", \"uid\": \"fa44509f-41bc-4c43-8e25-8cdbf55d4dca\"}, {\"hoverinfo\": \"text\", \"line\": {\"color\": \"#e1b396\", \"shape\": \"spline\", \"width\": 0.25}, \"mode\": \"lines\", \"text\": \"MS SQL Server<br>1479\", \"x\": [-0.29283199458314046, -0.31593716212322354, -0.3388913793515035, -0.36168367906733623, -0.38430317143197773, -0.40673904917159437, -0.4289805927408262, -0.45101717544443304, -0.47283826851458116, -0.49443344614133794, -0.5157923904539778, -0.5369048964507149, -0.5577608768745079, -0.5783503670326098, -0.598663529557557, -0.6186906591073247, -0.6384221870024009, -0.6578486857975684, -0.6769608737862033], \"y\": [1.060306287328553, 1.0536525563911114, 1.0464954051505604, 1.0388382531926308, 1.0306847589963306, 1.0220388181859765, 1.0129045616699186, 1.003286353666851, 0.9931887896206506, 0.982616694004738, 0.9715751180170124, 0.9600693371664607, 0.9481048487525946, 0.9356873692389173, 0.9228228315216785, 0.909517382095221, 0.8957773781152724, 0.8816093843615846, 0.8670201701013768], \"type\": \"scatter\", \"uid\": \"0058ffe3-c801-4ff8-9be1-721c212c72b1\"}, {\"hoverinfo\": \"text\", \"line\": {\"color\": \"#dba284\", \"shape\": \"spline\", \"width\": 0.25}, \"mode\": \"lines\", \"text\": \"PostgreSQL<br>396\", \"x\": [-0.7038605961391602, -0.7211120131010683, -0.7380578508954042, -0.7546909285365325, -0.7710041975743831], \"y\": [0.8453284930739212, 0.8306608601356662, 0.815641225497864, 0.800275953896321, 0.7845715565343175], \"type\": \"scatter\", \"uid\": \"0ca8e138-3424-4f0d-a935-6ab7893bd82c\"}, {\"hoverinfo\": \"text\", \"line\": {\"color\": \"#d59171\", \"shape\": \"spline\", \"width\": 0.25}, \"mode\": \"lines\", \"text\": \"MySQL/MariaDB<br>609\", \"x\": [-0.7952677416869639, -0.8220198268292043, -0.8477136020884485, -0.8723159879994565, -0.895795310206811], \"y\": [0.7599665907341695, 0.7309469230386603, 0.700986197320766, 0.6701229865334664, 0.6383970255346458], \"type\": \"scatter\", \"uid\": \"41b36f07-f1ca-4818-b6dc-533ab3eacf55\"}, {\"hoverinfo\": \"text\", \"line\": {\"color\": \"#d0805f\", \"shape\": \"spline\", \"width\": 0.25}, \"mode\": \"lines\", \"text\": \"T-SQL<br>1032\", \"x\": [-0.9154058244618256, -0.9286534666258246, -0.9414480851797282, -0.9537834385442007, -0.9656535091825463, -0.9770525065362354, -0.9879748698497023, -0.998415270883042, -1.0083686165112764, -1.0178300512089256, -1.026794959418672, -1.0352589678029607, -1.043217947377437], \"y\": [0.6099444044676249, 0.5895784417054601, 0.5689248657875865, 0.5479937521165741, 0.5267953114858125, 0.5053398850983958, 0.483637939522391, 0.461700061584945, 0.4395369532077301, 0.4171594261862436, 0.39457839691550245, 0.37180488106471743, 0.3488499882035362], \"type\": \"scatter\", \"uid\": \"356d2aee-b5a8-467a-829e-cf99ae554d7c\"}, {\"hoverinfo\": \"text\", \"line\": {\"color\": \"#ca6f4c\", \"shape\": \"spline\", \"width\": 0.25}, \"mode\": \"lines\", \"text\": \"PL/SQL<br>287\", \"x\": [-1.05366082522889, -1.0576052482821885, -1.0613775391846263, -1.0649770839712593, -1.068403296792701], \"y\": [0.31590958418189047, 0.30244195940042856, 0.28892511021783385, 0.27536123658945433, 0.2617525461241734], \"type\": \"scatter\", \"uid\": \"30994b39-785a-4375-978f-d32492565a7c\"}, {\"hoverinfo\": \"text\", \"line\": {\"color\": \"#c45e3a\", \"shape\": \"spline\", \"width\": 0.25}, \"mode\": \"lines\", \"text\": \"Pentaho<br>507\", \"x\": [-1.0760979504250736, -1.0821712543453237, -1.0873620691287513, -1.09166616176913, -1.0950800223645072], \"y\": [0.22806402848971172, 0.19724445814437705, 0.16626403886601818, 0.13514803457045083, 0.1039218197403743], \"type\": \"scatter\", \"uid\": \"a6fc5ba0-2d89-4d1a-9b6c-b12e753a121a\"}, {\"hoverinfo\": \"text\", \"line\": {\"color\": \"#bf4d28\", \"shape\": \"spline\", \"width\": 0.25}, \"mode\": \"lines\", \"text\": \"Hadoop<br>601\", \"x\": [-1.0978039297216025, -1.0995721748807266, -1.0999697409062783, -1.0989961322096387, -1.096652562449315], \"y\": [0.06947324584188641, 0.030676248598368833, -0.008158988330373682, -0.046984054617015165, -0.0857505526125109], \"type\": \"scatter\", \"uid\": \"c33d972e-e5ad-4b53-a1c1-c47a62b52987\"}, {\"hoverinfo\": \"text\", \"line\": {\"color\": \"#af4624\", \"shape\": \"spline\", \"width\": 0.25}, \"mode\": \"lines\", \"text\": \"Spark<br>629\", \"x\": [-1.0934179406610527, -1.0881735474644971, -1.0814137947995266, -1.0731480961050444, -1.0633879619574735], \"y\": [-0.12015492932269875, -0.16086743175214807, -0.20135591478098555, -0.2415639953016977, -0.2814356806873122], \"type\": \"scatter\", \"uid\": \"7bda8b74-c010-4f11-ac5a-35d615469a64\"}, {\"hoverinfo\": \"text\", \"line\": {\"color\": \"#9f4021\", \"shape\": \"spline\", \"width\": 0.25}, \"mode\": \"lines\", \"text\": \"Informatica<br>674\", \"x\": [-1.0540231358283818, -1.0403987498614196, -1.0250637722360767, -1.008043416251399, -0.9893656662537474], \"y\": [-0.3146986322475916, -0.35717004533806496, -0.39905421041400474, -0.44028226281808014, -0.48078641665325633], \"type\": \"scatter\", \"uid\": \"f573987e-5550-427b-beb2-5142e87a9e86\"}, {\"hoverinfo\": \"text\", \"line\": {\"color\": \"#8f391e\", \"shape\": \"spline\", \"width\": 0.25}, \"mode\": \"lines\", \"text\": \"Qlik<br>1556\", \"x\": [-0.9737756077197015, -0.9623530464785766, -0.950470108267439, -0.9381324777267741, -0.9253460570158627, -0.912116962989269, -0.8984515242706165, -0.8843562782250577, -0.8698379678318874, -0.8549035384587881, -0.8395601345392597, -0.8238150961548153, -0.8076759555235856, -0.791150433397003, -0.7742464353662979, -0.7569720480805673, -0.7393355353782289, -0.721345334333712, -0.7030100512212695, -0.6843384573978529], \"y\": [-0.5116259041625298, -0.5328007262883591, -0.5537206635931903, -0.5743757082556887, -0.5947559791756584, -0.6148517267010254, -0.6346533372919473, -0.6541513381197999, -0.6733364015988536, -0.6921993498484693, -0.7107311590836725, -0.7289229639320144, -0.7467660616746472, -0.7642519164095923, -0.7813721631351999, -0.798118611751857, -0.8144832509800234, -0.8304582521927188, -0.8460359731606384, -0.8612089617080904], \"type\": \"scatter\", \"uid\": \"7aad3b51-9b9e-44da-9f21-4bf41c5607c4\"}, {\"hoverinfo\": \"text\", \"line\": {\"color\": \"#f0f3e7\", \"shape\": \"spline\", \"width\": 0.25}, \"mode\": \"lines\", \"text\": \"Tableau<br>1978\", \"x\": [-0.6569495504675811, -0.6378550625860528, -0.61846649887707, -0.5987927982175828, -0.5788430309436898, -0.5586263946688673, -0.5381522100435082, -0.5174299164577489, -0.4964690676895389, -0.4752793274999869, -0.4538704651779873, -0.43225235103620346, -0.4104349518604748, -0.3884283263147372, -0.3662426203035975, -0.34388806229467217, -0.3213749586028762, -0.2987136886388058, -0.27591470012343694, -0.2529885042713159, -0.22994567094448562, -0.20679682377937408, -0.18355263528888088, -0.1602238219419438, -0.13682113922282518, -0.11335537667242578], \"y\": [-0.8822795974862183, -0.8961812981385757, -0.9096698245884269, -0.9227389581039468, -0.9353826733096582, -0.9475951409643588, -0.959370730648631, -0.970704013360678, -0.9815897640193078, -0.9920229638728936, -1.0019988028132158, -1.0115126815931053, -1.0205602139468744, -1.029137228612556, -1.0372397712550145, -1.0448641062890502, -1.0520067186016446, -1.0586643151725663, -1.0648338265925787, -1.0705124084785578, -1.0756974427848616, -1.0803865390103502, -1.0845775353005, -1.0882684994441014, -1.0914577297640842, -1.0941437559020535], \"type\": \"scatter\", \"uid\": \"6996fbed-2cb3-43f1-926c-df54469ee2e7\"}, {\"hoverinfo\": \"text\", \"line\": {\"color\": \"#e2ecde\", \"shape\": \"spline\", \"width\": 0.25}, \"mode\": \"lines\", \"text\": \"Microstrategy<br>284\", \"x\": [-0.07893155672334055, -0.06516480971811617, -0.05138781191565056, -0.03760273051648942, -0.023811733992771457], \"y\": [-1.0971644404341723, -1.0980680978766306, -1.0987990229275424, -1.0993571006082166, -1.0997422431298425], \"type\": \"scatter\", \"uid\": \"d928688d-2d25-41af-bfee-9c9e5124fe85\"}, {\"hoverinfo\": \"text\", \"line\": {\"color\": \"#d4e5d6\", \"shape\": \"spline\", \"width\": 0.25}, \"mode\": \"lines\", \"text\": \"Oracle BI<br>2441\", \"x\": [0.010743754307532912, 0.03376340589629426, 0.05676826516914789, 0.07974825331038264, 0.10269330240075134, 0.12559335982838954, 0.14843839269303688, 0.17121839220162235, 0.1939233780532789, 0.21654340281188494, 0.23906855626420262, 0.2614889697617078, 0.28379482054421484, 0.30597633604338703, 0.3280237981642664, 0.34992754754293703, 0.37167798777844935, 0.39326558963716846, 0.41468089522769064, 0.4359145221445041, 0.4569571675785814, 0.47779961239309215, 0.49843272516246384, 0.5188474661730158, 0.5390348913834047, 0.5589861563431625, 0.5786925200675986, 0.5981453488673715, 0.6173361201310553, 0.6362564260590362, 0.6548979773471113, 0.6732526068181764, 0.6913122730003974], \"y\": [-1.0999475313592824, -1.099481710817548, -1.0985341888487976, -1.0971053805783395, -1.095195911991105, -1.0928066196573925, -1.0899385503663535, -1.086592960667375, -1.0827713163195658, -1.0784752916495814, -1.0737067688180744, -1.0684678369950875, -1.0627607914447526, -1.0565881325196986, -1.049952564565604, -1.042856994736376, -1.0353045317204803, -1.0272984843789708, -1.0188423602958219, -1.0099398642411976, -1.0005948965483287, -0.9908115514047114, -0.9805941150583762, -0.9699470639400077, -0.958875062701748, -0.9473829621735329, -0.9354757972378612, -0.9231587846239295, -0.9104373206220928, -0.8973169787196621, -0.8838035071590644, -0.8699028264194398, -0.8556210266227824], \"type\": \"scatter\", \"uid\": \"5c3c4776-a0f6-4e5c-b550-9eafce93a5ee\"}, {\"hoverinfo\": \"text\", \"line\": {\"color\": \"#c6decd\", \"shape\": \"spline\", \"width\": 0.25}, \"mode\": \"lines\", \"text\": \"Python<br>1505\", \"x\": [0.7178468580546717, 0.7352734208545166, 0.7523726014196696, 0.7691367862994248, 0.7855585112007014, 0.8016304643115333, 0.8173454895566761, 0.832696589783864, 0.8476769298793078, 0.8622798398110472, 0.8764988175987978, 0.8903275322089712, 0.9037598263735863, 0.9167897193318051, 0.9294114094928815, 0.9416192770193325, 0.9534078863291852, 0.9647719885161826, 0.9757065236868694, 0.9862066232135248], \"y\": [-0.8334841860413646, -0.8181521842450199, -0.8024558982479968, -0.7864023168588664, -0.7699985879728207, -0.7532520153890567, -0.7361700555587395, -0.7187603142650014, -0.7010305432364494, -0.6829886366956883, -0.6646426278444001, -0.6460006852865433, -0.6270711093912599, -0.6078623285971175, -0.5883828956593281, -0.5686414838416117, -0.5486468830544066, -0.5284079959411392, -0.5079338339143049, -0.4872335131431096], \"type\": \"scatter\", \"uid\": \"0760d138-c201-4307-8c21-18f68fb1d2c3\"}, {\"hoverinfo\": \"text\", \"line\": {\"color\": \"#b8d7c5\", \"shape\": \"spline\", \"width\": 0.25}, \"mode\": \"lines\", \"text\": \"VBA<br>601\", \"x\": [1.0010243642741814, 1.0164983035762867, 1.0307051200411168, 1.0436271040654934, 1.055248147662809], \"y\": [-0.45601559417356663, -0.42039409941926126, -0.3842485595562167, -0.34762403205168674, -0.31056617145821036], \"type\": \"scatter\", \"uid\": \"8906c94e-ff27-439f-a968-b574b448d28f\"}, {\"hoverinfo\": \"text\", \"line\": {\"color\": \"#aad0bc\", \"shape\": \"spline\", \"width\": 0.25}, \"mode\": \"lines\", \"text\": \"Linux<br>498\", \"x\": [1.0644825655922543, 1.0718058075335521, 1.0782941279338587, 1.083942472483495, 1.08874644120207], \"y\": [-0.2772667804662724, -0.2474516335313837, -0.21744372527934527, -0.18726643144559596, -0.1569432597145461], \"type\": \"scatter\", \"uid\": \"cab4270a-1475-47ac-897a-8e007d0a000e\"}, {\"hoverinfo\": \"text\", \"line\": {\"color\": \"#9cc9b4\", \"shape\": \"spline\", \"width\": 0.25}, \"mode\": \"lines\", \"text\": \"AWS<br>389\", \"x\": [1.093138917476142, 1.0953818535463808, 1.0971830032684329, 1.0985416402076256, 1.0994572164023046], \"y\": [-0.12266746552810405, -0.10069059003350353, -0.07867310429150415, -0.056623888332929646, -0.03455183498594608], \"type\": \"scatter\", \"uid\": \"aeed1ba6-4c8d-46aa-a51b-1061d2fa00a4\"}, {\"hoverinfo\": \"text\", \"marker\": {\"color\": \"green\", \"size\": 0.5}, \"mode\": \"markers\", \"text\": \"Power BI appears with Excel 176 times\", \"x\": [0.8741679506540299], \"y\": [0.21408034484588648], \"type\": \"scatter\", \"uid\": \"a4c5167b-f8ea-4717-bca3-e2e047fa2f24\"}, {\"hoverinfo\": \"text\", \"marker\": {\"color\": \"blue\", \"size\": 0.5}, \"mode\": \"markers\", \"text\": \"Excel appears with Power BI 176 times\", \"x\": [0.7673072741537128], \"y\": [0.47036108154352996], \"type\": \"scatter\", \"uid\": \"8675ed11-36a6-48d4-9964-d36ef5b616ca\"}, {\"hoverinfo\": \"text\", \"marker\": {\"color\": \"green\", \"size\": 0.5}, \"mode\": \"markers\", \"text\": \"Power BI appears with SSIS/SSRS 107 times\", \"x\": [0.8976864803325494], \"y\": [0.06449017776498595], \"type\": \"scatter\", \"uid\": \"a3f6238b-ff86-4b51-820b-ff7147e5d708\"}, {\"hoverinfo\": \"text\", \"marker\": {\"color\": \"blue\", \"size\": 0.5}, \"mode\": \"markers\", \"text\": \"SSIS/SSRS appears with Power BI 107 times\", \"x\": [0.11622436451926207], \"y\": [0.8924639472225719], \"type\": \"scatter\", \"uid\": \"d530ef0a-e6f2-4b24-8f73-390d70054129\"}, {\"hoverinfo\": \"text\", \"marker\": {\"color\": \"green\", \"size\": 0.5}, \"mode\": \"markers\", \"text\": \"Power BI appears with MS SQL Server 108 times\", \"x\": [0.8955663566380487], \"y\": [0.08922388053683437], \"type\": \"scatter\", \"uid\": \"d4757d5d-dc72-4ad3-92a2-2cbbc36b95c5\"}, {\"hoverinfo\": \"text\", \"marker\": {\"color\": \"blue\", \"size\": 0.5}, \"mode\": \"markers\", \"text\": \"MS SQL Server appears with Power BI 108 times\", \"x\": [-0.38917201099807824], \"y\": [0.8115079456516194], \"type\": \"scatter\", \"uid\": \"19d5b9fa-81b9-4a08-b3bd-5f3878300d34\"}, {\"hoverinfo\": \"text\", \"marker\": {\"color\": \"green\", \"size\": 0.5}, \"mode\": \"markers\", \"text\": \"Power BI appears with MySQL/MariaDB 5 times\", \"x\": [0.8999960817594999], \"y\": [0.0026557141314005384], \"type\": \"scatter\", \"uid\": \"4f4f994b-4bed-4c1e-9eda-e1f697667d5c\"}, {\"hoverinfo\": \"text\", \"marker\": {\"color\": \"blue\", \"size\": 0.5}, \"mode\": \"markers\", \"text\": \"MySQL/MariaDB appears with Power BI 5 times\", \"x\": [-0.6522103516651578], \"y\": [0.6201787300293451], \"type\": \"scatter\", \"uid\": \"eb8471ce-8ac0-411f-a99f-73a1e7088456\"}, {\"hoverinfo\": \"text\", \"marker\": {\"color\": \"green\", \"size\": 0.5}, \"mode\": \"markers\", \"text\": \"Power BI appears with T-SQL 38 times\", \"x\": [0.899385713037884], \"y\": [0.03324664168509572], \"type\": \"scatter\", \"uid\": \"43c6ed19-d4d0-42c1-b6d9-3def5eb1e201\"}, {\"hoverinfo\": \"text\", \"marker\": {\"color\": \"blue\", \"size\": 0.5}, \"mode\": \"markers\", \"text\": \"T-SQL appears with Power BI 38 times\", \"x\": [-0.7805984678274983], \"y\": [0.44795762302405584], \"type\": \"scatter\", \"uid\": \"20dbd531-2917-43c9-8bc4-dad1ed0a303b\"}, {\"hoverinfo\": \"text\", \"marker\": {\"color\": \"green\", \"size\": 0.5}, \"mode\": \"markers\", \"text\": \"Power BI appears with PL/SQL 5 times\", \"x\": [0.8999987482363487], \"y\": [0.001501057295821755], \"type\": \"scatter\", \"uid\": \"5ffa46af-703e-477c-b638-a4c43ac2f75d\"}, {\"hoverinfo\": \"text\", \"marker\": {\"color\": \"blue\", \"size\": 0.5}, \"mode\": \"markers\", \"text\": \"PL/SQL appears with Power BI 5 times\", \"x\": [-0.862521502383043], \"y\": [0.25701489825863844], \"type\": \"scatter\", \"uid\": \"a1bebbae-9d71-4c63-b655-1ac479a2ff05\"}, {\"hoverinfo\": \"text\", \"marker\": {\"color\": \"green\", \"size\": 0.5}, \"mode\": \"markers\", \"text\": \"Power BI appears with Pentaho 8 times\", \"x\": [0.8999843270721162], \"y\": [0.00531140513896404], \"type\": \"scatter\", \"uid\": \"67eb40d0-0f25-435c-a75f-dafd4c76723c\"}, {\"hoverinfo\": \"text\", \"marker\": {\"color\": \"blue\", \"size\": 0.5}, \"mode\": \"markers\", \"text\": \"Pentaho appears with Power BI 8 times\", \"x\": [-0.8813578749478024], \"y\": [0.18223143600239194], \"type\": \"scatter\", \"uid\": \"4ad5cc16-8c2f-4404-95ec-2a946a411046\"}, {\"hoverinfo\": \"text\", \"marker\": {\"color\": \"green\", \"size\": 0.5}, \"mode\": \"markers\", \"text\": \"Power BI appears with Hadoop 19 times\", \"x\": [0.899876744803057], \"y\": [0.014894433948756261], \"type\": \"scatter\", \"uid\": \"b2042863-e1ca-4b1b-871a-8b148e5fa637\"}, {\"hoverinfo\": \"text\", \"marker\": {\"color\": \"blue\", \"size\": 0.5}, \"mode\": \"markers\", \"text\": \"Hadoop appears with Power BI 19 times\", \"x\": [-0.8988997411756087], \"y\": [0.04448882235375323], \"type\": \"scatter\", \"uid\": \"d4f82365-0811-4256-af42-c3506afd6d5e\"}, {\"hoverinfo\": \"text\", \"marker\": {\"color\": \"green\", \"size\": 0.5}, \"mode\": \"markers\", \"text\": \"Power BI appears with Spark 24 times\", \"x\": [0.8997808835399591], \"y\": [0.0198585401288856], \"type\": \"scatter\", \"uid\": \"cbd6e64a-8bd1-4492-b6fb-18f40106735f\"}, {\"hoverinfo\": \"text\", \"marker\": {\"color\": \"blue\", \"size\": 0.5}, \"mode\": \"markers\", \"text\": \"Spark appears with Power BI 24 times\", \"x\": [-0.891627862983662], \"y\": [-0.12247348264497088], \"type\": \"scatter\", \"uid\": \"bb389c8e-5076-4908-bbd6-67cac5100334\"}, {\"hoverinfo\": \"text\", \"marker\": {\"color\": \"green\", \"size\": 0.5}, \"mode\": \"markers\", \"text\": \"Power BI appears with Informatica 10 times\", \"x\": [0.8999696615603667], \"y\": [0.007389740923677055], \"type\": \"scatter\", \"uid\": \"e9f4bbf1-1a12-48b8-b3e7-263c84c94023\"}, {\"hoverinfo\": \"text\", \"marker\": {\"color\": \"blue\", \"size\": 0.5}, \"mode\": \"markers\", \"text\": \"Informatica appears with Power BI 10 times\", \"x\": [-0.8600556956516194], \"y\": [-0.26514939256428455], \"type\": \"scatter\", \"uid\": \"4bf4510c-ef36-41e0-8d81-821988c58da3\"}, {\"hoverinfo\": \"text\", \"marker\": {\"color\": \"green\", \"size\": 0.5}, \"mode\": \"markers\", \"text\": \"Power BI appears with Qlik 138 times\", \"x\": [0.888266410613057], \"y\": [0.14485435366807575], \"type\": \"scatter\", \"uid\": \"5c82e6c2-9a3d-48e6-b62a-f98158a0b500\"}, {\"hoverinfo\": \"text\", \"marker\": {\"color\": \"blue\", \"size\": 0.5}, \"mode\": \"markers\", \"text\": \"Qlik appears with Power BI 138 times\", \"x\": [-0.7285727706667332], \"y\": [-0.5283764925155167], \"type\": \"scatter\", \"uid\": \"370e45de-b053-410e-8c0f-391330caa51d\"}, {\"hoverinfo\": \"text\", \"marker\": {\"color\": \"green\", \"size\": 0.5}, \"mode\": \"markers\", \"text\": \"Power BI appears with Tableau 149 times\", \"x\": [0.88233188321519], \"y\": [0.177455481352187], \"type\": \"scatter\", \"uid\": \"3fb4a836-1130-4e8d-bc00-2c0a4d67ca8a\"}, {\"hoverinfo\": \"text\", \"marker\": {\"color\": \"blue\", \"size\": 0.5}, \"mode\": \"markers\", \"text\": \"Tableau appears with Power BI 149 times\", \"x\": [-0.3578833758999954], \"y\": [-0.8257841662652673], \"type\": \"scatter\", \"uid\": \"825f355b-5637-4f08-9fa3-b94b956c3d79\"}, {\"hoverinfo\": \"text\", \"marker\": {\"color\": \"green\", \"size\": 0.5}, \"mode\": \"markers\", \"text\": \"Power BI appears with Microstrategy 18 times\", \"x\": [0.8999373088343329], \"y\": [0.010622625288439847], \"type\": \"scatter\", \"uid\": \"b5d5dbad-82aa-4bc3-b71c-30db1b08861e\"}, {\"hoverinfo\": \"text\", \"marker\": {\"color\": \"blue\", \"size\": 0.5}, \"mode\": \"markers\", \"text\": \"Microstrategy appears with Power BI 18 times\", \"x\": [-0.05172951097384589], \"y\": [-0.8985121355298474], \"type\": \"scatter\", \"uid\": \"630af65e-4306-42b9-b740-6045e45410eb\"}, {\"hoverinfo\": \"text\", \"marker\": {\"color\": \"green\", \"size\": 0.5}, \"mode\": \"markers\", \"text\": \"Power BI appears with Oracle BI 120 times\", \"x\": [0.8925736911032706], \"y\": [0.11537853331657275], \"type\": \"scatter\", \"uid\": \"8caab8d2-08a0-4c40-81a0-661f0c0c5ca2\"}, {\"hoverinfo\": \"text\", \"marker\": {\"color\": \"blue\", \"size\": 0.5}, \"mode\": \"markers\", \"text\": \"Oracle BI appears with Power BI 120 times\", \"x\": [0.1261736674879844], \"y\": [-0.8911117806608952], \"type\": \"scatter\", \"uid\": \"4041cb94-1f6e-4594-aca7-d08ed25c21f1\"}, {\"hoverinfo\": \"text\", \"marker\": {\"color\": \"green\", \"size\": 0.5}, \"mode\": \"markers\", \"text\": \"Power BI appears with Python 63 times\", \"x\": [0.8988794150341239], \"y\": [0.04489763053782768], \"type\": \"scatter\", \"uid\": \"00072f4f-83bd-4020-81b3-1579d8ef6d70\"}, {\"hoverinfo\": \"text\", \"marker\": {\"color\": \"blue\", \"size\": 0.5}, \"mode\": \"markers\", \"text\": \"Python appears with Power BI 63 times\", \"x\": [0.6421685328089723], \"y\": [-0.6305708330314461], \"type\": \"scatter\", \"uid\": \"aa300e69-a899-4be2-b338-a28f03c829de\"}, {\"hoverinfo\": \"text\", \"marker\": {\"color\": \"green\", \"size\": 0.5}, \"mode\": \"markers\", \"text\": \"Power BI appears with VBA 27 times\", \"x\": [0.8996316880288706], \"y\": [0.025745405305120043], \"type\": \"scatter\", \"uid\": \"48b06606-be9a-4c11-8802-acae067be0d7\"}, {\"hoverinfo\": \"text\", \"marker\": {\"color\": \"blue\", \"size\": 0.5}, \"mode\": \"markers\", \"text\": \"VBA appears with Power BI 27 times\", \"x\": [0.8256788242283821], \"y\": [-0.3581263453319741], \"type\": \"scatter\", \"uid\": \"ca29c263-5ca1-44cb-8e40-6572cea39a46\"}, {\"hoverinfo\": \"text\", \"marker\": {\"color\": \"green\", \"size\": 0.5}, \"mode\": \"markers\", \"text\": \"Power BI appears with Linux 4 times\", \"x\": [0.8999998814898069], \"y\": [0.0004618639771849655], \"type\": \"scatter\", \"uid\": \"2d4674fc-0ff5-434a-bf67-cfeb77c69cd8\"}, {\"hoverinfo\": \"text\", \"marker\": {\"color\": \"blue\", \"size\": 0.5}, \"mode\": \"markers\", \"text\": \"Linux appears with Power BI 4 times\", \"x\": [0.8713457420258516], \"y\": [-0.2252922498742869], \"type\": \"scatter\", \"uid\": \"61b909f5-1d20-4a32-bb2a-2cf504702588\"}, {\"hoverinfo\": \"text\", \"marker\": {\"color\": \"green\", \"size\": 0.5}, \"mode\": \"markers\", \"text\": \"Power BI appears with AWS 5 times\", \"x\": [0.8999919339118579], \"y\": [0.003810366595741015], \"type\": \"scatter\", \"uid\": \"63f5dae7-64f4-42cc-8450-f3f0da9a6309\"}, {\"hoverinfo\": \"text\", \"marker\": {\"color\": \"blue\", \"size\": 0.5}, \"mode\": \"markers\", \"text\": \"AWS appears with Power BI 5 times\", \"x\": [0.8946424847247938], \"y\": [-0.09805521161798113], \"type\": \"scatter\", \"uid\": \"2039e04f-27d3-4e25-9ccf-fbdccd641057\"}, {\"hoverinfo\": \"text\", \"marker\": {\"color\": \"green\", \"size\": 0.5}, \"mode\": \"markers\", \"text\": \"Excel appears with SSIS/SSRS 488 times\", \"x\": [0.44365254060250403], \"y\": [0.78305326971857], \"type\": \"scatter\", \"uid\": \"0ce2785a-415d-4151-b30c-e8123118ac2f\"}, {\"hoverinfo\": \"text\", \"marker\": {\"color\": \"blue\", \"size\": 0.5}, \"mode\": \"markers\", \"text\": \"SSIS/SSRS appears with Excel 488 times\", \"x\": [-0.15406403083395198], \"y\": [0.8867154416176563], \"type\": \"scatter\", \"uid\": \"430bb5fc-5482-47cf-b70e-3265d2a73789\"}, {\"hoverinfo\": \"text\", \"marker\": {\"color\": \"green\", \"size\": 0.5}, \"mode\": \"markers\", \"text\": \"Excel appears with MS SQL Server 236 times\", \"x\": [0.7078367574792601], \"y\": [0.5558481130320109], \"type\": \"scatter\", \"uid\": \"fe20900b-ad70-46b7-99ee-5b4f88ef9671\"}, {\"hoverinfo\": \"text\", \"marker\": {\"color\": \"blue\", \"size\": 0.5}, \"mode\": \"markers\", \"text\": \"MS SQL Server appears with Excel 236 times\", \"x\": [-0.5313393716912562], \"y\": [0.7264148071802647], \"type\": \"scatter\", \"uid\": \"789f0a57-f2c1-415a-9bdf-bc8f948c25eb\"}, {\"hoverinfo\": \"text\", \"marker\": {\"color\": \"green\", \"size\": 0.5}, \"mode\": \"markers\", \"text\": \"Excel appears with PostgreSQL 56 times\", \"x\": [0.8491199381233795], \"y\": [0.2983208519050389], \"type\": \"scatter\", \"uid\": \"d29b1dbc-4b47-40fd-87b5-e08e5b32dfd1\"}, {\"hoverinfo\": \"text\", \"marker\": {\"color\": \"blue\", \"size\": 0.5}, \"mode\": \"markers\", \"text\": \"PostgreSQL appears with Excel 56 times\", \"x\": [-0.6178827305396897], \"y\": [0.6543859192409455], \"type\": \"scatter\", \"uid\": \"f8caabe3-197c-40bd-b10b-d536f07ab382\"}, {\"hoverinfo\": \"text\", \"marker\": {\"color\": \"green\", \"size\": 0.5}, \"mode\": \"markers\", \"text\": \"Excel appears with MySQL/MariaDB 96 times\", \"x\": [0.8166099393794982], \"y\": [0.3783493186284497], \"type\": \"scatter\", \"uid\": \"39df7e9c-b993-450d-a69d-0b119a8300aa\"}, {\"hoverinfo\": \"text\", \"marker\": {\"color\": \"blue\", \"size\": 0.5}, \"mode\": \"markers\", \"text\": \"MySQL/MariaDB appears with Excel 96 times\", \"x\": [-0.7269676728967848], \"y\": [0.530582700964735], \"type\": \"scatter\", \"uid\": \"36bee89a-ed9f-4b64-9911-077fc4819319\"}, {\"hoverinfo\": \"text\", \"marker\": {\"color\": \"green\", \"size\": 0.5}, \"mode\": \"markers\", \"text\": \"Excel appears with T-SQL 167 times\", \"x\": [0.7888747389216377], \"y\": [0.4332166274409582], \"type\": \"scatter\", \"uid\": \"b19150df-0f96-4b2f-b43c-60ecbd2d254d\"}, {\"hoverinfo\": \"text\", \"marker\": {\"color\": \"blue\", \"size\": 0.5}, \"mode\": \"markers\", \"text\": \"T-SQL appears with Excel 167 times\", \"x\": [-0.8472252109257957], \"y\": [0.3036600763546979], \"type\": \"scatter\", \"uid\": \"049be966-9b75-4118-95fb-3660cee238da\"}, {\"hoverinfo\": \"text\", \"marker\": {\"color\": \"green\", \"size\": 0.5}, \"mode\": \"markers\", \"text\": \"Excel appears with PL/SQL 50 times\", \"x\": [0.8534276527637965], \"y\": [0.28576431109933387], \"type\": \"scatter\", \"uid\": \"49bcbcee-233b-479c-bd35-5fab3148faf0\"}, {\"hoverinfo\": \"text\", \"marker\": {\"color\": \"blue\", \"size\": 0.5}, \"mode\": \"markers\", \"text\": \"PL/SQL appears with Excel 50 times\", \"x\": [-0.8702430484150594], \"y\": [0.22951478533041111], \"type\": \"scatter\", \"uid\": \"baae04b1-3dae-424e-bc21-ec787c4bd3dd\"}, {\"hoverinfo\": \"text\", \"marker\": {\"color\": \"green\", \"size\": 0.5}, \"mode\": \"markers\", \"text\": \"Excel appears with Pentaho 60 times\", \"x\": [0.8441941724988722], \"y\": [0.31198749833758466], \"type\": \"scatter\", \"uid\": \"fa8986c7-9e11-4a3b-8600-a5b8a26e1a73\"}, {\"hoverinfo\": \"text\", \"marker\": {\"color\": \"blue\", \"size\": 0.5}, \"mode\": \"markers\", \"text\": \"Pentaho appears with Excel 60 times\", \"x\": [-0.8953793877939363], \"y\": [0.09108101840535002], \"type\": \"scatter\", \"uid\": \"9115a690-dc94-4819-be58-1a4cee482870\"}, {\"hoverinfo\": \"text\", \"marker\": {\"color\": \"green\", \"size\": 0.5}, \"mode\": \"markers\", \"text\": \"Excel appears with Hadoop 70 times\", \"x\": [0.8323566996476166], \"y\": [0.3423190391312285], \"type\": \"scatter\", \"uid\": \"8c5616db-bc0d-49dc-b0c4-85870b5977cc\"}, {\"hoverinfo\": \"text\", \"marker\": {\"color\": \"blue\", \"size\": 0.5}, \"mode\": \"markers\", \"text\": \"Hadoop appears with Excel 70 times\", \"x\": [-0.8999999067970453], \"y\": [0.00040959163779249406], \"type\": \"scatter\", \"uid\": \"ac12b7b1-a121-45b5-8331-d797e5724c2d\"}, {\"hoverinfo\": \"text\", \"marker\": {\"color\": \"green\", \"size\": 0.5}, \"mode\": \"markers\", \"text\": \"Excel appears with Spark 74 times\", \"x\": [0.8253307515048255], \"y\": [0.3589277791150749], \"type\": \"scatter\", \"uid\": \"c37d8601-9251-4489-a39e-c03d820578d1\"}, {\"hoverinfo\": \"text\", \"marker\": {\"color\": \"blue\", \"size\": 0.5}, \"mode\": \"markers\", \"text\": \"Spark appears with Excel 74 times\", \"x\": [-0.8831276397485028], \"y\": [-0.17345192968727244], \"type\": \"scatter\", \"uid\": \"ab48447c-ee8a-4635-97e7-725968ec5632\"}, {\"hoverinfo\": \"text\", \"marker\": {\"color\": \"green\", \"size\": 0.5}, \"mode\": \"markers\", \"text\": \"Excel appears with Informatica 114 times\", \"x\": [0.8052068502049292], \"y\": [0.40204717183815236], \"type\": \"scatter\", \"uid\": \"b556788f-a9c3-4bfd-9043-3c0000f0cd05\"}, {\"hoverinfo\": \"text\", \"marker\": {\"color\": \"blue\", \"size\": 0.5}, \"mode\": \"markers\", \"text\": \"Informatica appears with Excel 114 times\", \"x\": [-0.8257566049225046], \"y\": [-0.3579469645448315], \"type\": \"scatter\", \"uid\": \"47567aa2-d7f2-46df-9056-1e4435f82e08\"}, {\"hoverinfo\": \"text\", \"marker\": {\"color\": \"green\", \"size\": 0.5}, \"mode\": \"markers\", \"text\": \"Excel appears with Qlik 355 times\", \"x\": [0.6069941346477992], \"y\": [0.6644983976678721], \"type\": \"scatter\", \"uid\": \"2f818176-4d29-45e6-9863-d7e73fb1553d\"}, {\"hoverinfo\": \"text\", \"marker\": {\"color\": \"blue\", \"size\": 0.5}, \"mode\": \"markers\", \"text\": \"Qlik appears with Excel 355 times\", \"x\": [-0.5926757527916386], \"y\": [-0.6773001196315149], \"type\": \"scatter\", \"uid\": \"c0f80c96-0861-46fb-8d23-67069b3c7e31\"}, {\"hoverinfo\": \"text\", \"marker\": {\"color\": \"green\", \"size\": 0.5}, \"mode\": \"markers\", \"text\": \"Excel appears with Tableau 386 times\", \"x\": [0.5353744633486633], \"y\": [0.723446047742422], \"type\": \"scatter\", \"uid\": \"0f7ce60c-a0b5-407c-8114-030aae0a7a18\"}, {\"hoverinfo\": \"text\", \"marker\": {\"color\": \"blue\", \"size\": 0.5}, \"mode\": \"markers\", \"text\": \"Tableau appears with Excel 386 times\", \"x\": [-0.13948581735334897], \"y\": [-0.8891252480709724], \"type\": \"scatter\", \"uid\": \"3e1bd337-6353-4e8f-93a1-40050889ce11\"}, {\"hoverinfo\": \"text\", \"marker\": {\"color\": \"green\", \"size\": 0.5}, \"mode\": \"markers\", \"text\": \"Excel appears with Microstrategy 33 times\", \"x\": [0.8601327179353491], \"y\": [0.2648994290993268], \"type\": \"scatter\", \"uid\": \"e3fd855a-643f-4458-ad42-ccccd67ce6a8\"}, {\"hoverinfo\": \"text\", \"marker\": {\"color\": \"blue\", \"size\": 0.5}, \"mode\": \"markers\", \"text\": \"Microstrategy appears with Excel 33 times\", \"x\": [-0.036564793212537014], \"y\": [-0.8992569242976807], \"type\": \"scatter\", \"uid\": \"381e81d8-990b-4b9c-be52-c3a540203dd4\"}, {\"hoverinfo\": \"text\", \"marker\": {\"color\": \"green\", \"size\": 0.5}, \"mode\": \"markers\", \"text\": \"Excel appears with Oracle BI 524 times\", \"x\": [0.3293545891051773], \"y\": [0.8375712236194364], \"type\": \"scatter\", \"uid\": \"66fef6d6-4e90-4645-ae24-07f1acd0a041\"}, {\"hoverinfo\": \"text\", \"marker\": {\"color\": \"blue\", \"size\": 0.5}, \"mode\": \"markers\", \"text\": \"Oracle BI appears with Excel 524 times\", \"x\": [0.5138724518740175], \"y\": [-0.7388742133847855], \"type\": \"scatter\", \"uid\": \"692e4a03-e4f9-4b88-b9f4-3e67e88b766f\"}, {\"hoverinfo\": \"text\", \"marker\": {\"color\": \"green\", \"size\": 0.5}, \"mode\": \"markers\", \"text\": \"Excel appears with Python 297 times\", \"x\": [0.6647026700293825], \"y\": [0.6067704347245422], \"type\": \"scatter\", \"uid\": \"16ea18ed-b0d1-4c64-9f14-6e565b4bf886\"}, {\"hoverinfo\": \"text\", \"marker\": {\"color\": \"blue\", \"size\": 0.5}, \"mode\": \"markers\", \"text\": \"Python appears with Excel 297 times\", \"x\": [0.7904987704833045], \"y\": [-0.43024608524004465], \"type\": \"scatter\", \"uid\": \"0fa8684c-dfb0-4117-9421-baed345eb4f3\"}, {\"hoverinfo\": \"text\", \"marker\": {\"color\": \"green\", \"size\": 0.5}, \"mode\": \"markers\", \"text\": \"Excel appears with VBA 210 times\", \"x\": [0.7409486302408806], \"y\": [0.5108768220854835], \"type\": \"scatter\", \"uid\": \"ea304895-0d69-4982-adcb-55372b979feb\"}, {\"hoverinfo\": \"text\", \"marker\": {\"color\": \"blue\", \"size\": 0.5}, \"mode\": \"markers\", \"text\": \"VBA appears with Excel 210 times\", \"x\": [0.8568528104953584], \"y\": [-0.2753239204032321], \"type\": \"scatter\", \"uid\": \"1782aa70-aee0-4cf3-b4ea-a06c2f05c165\"}, {\"hoverinfo\": \"text\", \"marker\": {\"color\": \"green\", \"size\": 0.5}, \"mode\": \"markers\", \"text\": \"Excel appears with Linux 65 times\", \"x\": [0.8386400647936436], \"y\": [0.32662339432887094], \"type\": \"scatter\", \"uid\": \"7c00190d-0a30-4923-ae93-6b7d137d8a78\"}, {\"hoverinfo\": \"text\", \"marker\": {\"color\": \"blue\", \"size\": 0.5}, \"mode\": \"markers\", \"text\": \"Linux appears with Excel 65 times\", \"x\": [0.8848686164297976], \"y\": [-0.16433968375780636], \"type\": \"scatter\", \"uid\": \"c9d7fa81-2a0d-4288-b168-8577d503f01d\"}, {\"hoverinfo\": \"text\", \"marker\": {\"color\": \"green\", \"size\": 0.5}, \"mode\": \"markers\", \"text\": \"Excel appears with AWS 46 times\", \"x\": [0.8571687806453034], \"y\": [0.27433862558349986], \"type\": \"scatter\", \"uid\": \"fd0d93ef-3f84-427b-8a47-8357b84897ab\"}, {\"hoverinfo\": \"text\", \"marker\": {\"color\": \"blue\", \"size\": 0.5}, \"mode\": \"markers\", \"text\": \"AWS appears with Excel 46 times\", \"x\": [0.8987996102584241], \"y\": [-0.04646784478868045], \"type\": \"scatter\", \"uid\": \"00344796-8ec1-4c3e-ba71-95d09ae07a89\"}, {\"hoverinfo\": \"text\", \"marker\": {\"color\": \"green\", \"size\": 0.5}, \"mode\": \"markers\", \"text\": \"SSIS/SSRS appears with MS SQL Server 226 times\", \"x\": [-0.06783406048502481], \"y\": [0.8974399925555546], \"type\": \"scatter\", \"uid\": \"62c59508-8689-493c-a912-3fdbef8433e8\"}, {\"hoverinfo\": \"text\", \"marker\": {\"color\": \"blue\", \"size\": 0.5}, \"mode\": \"markers\", \"text\": \"MS SQL Server appears with SSIS/SSRS 226 times\", \"x\": [-0.48572427498506104], \"y\": [0.7576753451777594], \"type\": \"scatter\", \"uid\": \"5891677b-6d1b-465a-8837-cafd91d89539\"}, {\"hoverinfo\": \"text\", \"marker\": {\"color\": \"green\", \"size\": 0.5}, \"mode\": \"markers\", \"text\": \"SSIS/SSRS appears with PostgreSQL 31 times\", \"x\": [0.20103695563322854], \"y\": [0.8772594499175961], \"type\": \"scatter\", \"uid\": \"0b33c9e1-7f34-4d9d-8feb-a9f138843cb2\"}, {\"hoverinfo\": \"text\", \"marker\": {\"color\": \"blue\", \"size\": 0.5}, \"mode\": \"markers\", \"text\": \"PostgreSQL appears with SSIS/SSRS 31 times\", \"x\": [-0.5893645355103926], \"y\": [0.6801833901843085], \"type\": \"scatter\", \"uid\": \"6361f751-b873-46a9-8c8f-c6c4e05ba023\"}, {\"hoverinfo\": \"text\", \"marker\": {\"color\": \"green\", \"size\": 0.5}, \"mode\": \"markers\", \"text\": \"SSIS/SSRS appears with MySQL/MariaDB 55 times\", \"x\": [0.18224231880743114], \"y\": [0.881355624725735], \"type\": \"scatter\", \"uid\": \"4edbe83f-897d-4959-9432-1e9a7c2e7497\"}, {\"hoverinfo\": \"text\", \"marker\": {\"color\": \"blue\", \"size\": 0.5}, \"mode\": \"markers\", \"text\": \"MySQL/MariaDB appears with SSIS/SSRS 55 times\", \"x\": [-0.6844411574459377], \"y\": [0.5844144950239214], \"type\": \"scatter\", \"uid\": \"18cbda96-8587-4733-9d54-4f3851716a46\"}, {\"hoverinfo\": \"text\", \"marker\": {\"color\": \"green\", \"size\": 0.5}, \"mode\": \"markers\", \"text\": \"SSIS/SSRS appears with T-SQL 110 times\", \"x\": [0.08997994640925731], \"y\": [0.8954907086308529], \"type\": \"scatter\", \"uid\": \"bb3b96d8-cb42-4afe-8fa3-d7550f2fa74d\"}, {\"hoverinfo\": \"text\", \"marker\": {\"color\": \"blue\", \"size\": 0.5}, \"mode\": \"markers\", \"text\": \"T-SQL appears with SSIS/SSRS 110 times\", \"x\": [-0.8102643789529563], \"y\": [0.391754561173166], \"type\": \"scatter\", \"uid\": \"88962b06-a9db-4af1-a6dd-2742efaded94\"}, {\"hoverinfo\": \"text\", \"marker\": {\"color\": \"green\", \"size\": 0.5}, \"mode\": \"markers\", \"text\": \"SSIS/SSRS appears with PL/SQL 26 times\", \"x\": [0.2224541488334019], \"y\": [0.8720746250561398], \"type\": \"scatter\", \"uid\": \"e3c234fe-dfd2-4238-bbe0-e5149758691e\"}, {\"hoverinfo\": \"text\", \"marker\": {\"color\": \"blue\", \"size\": 0.5}, \"mode\": \"markers\", \"text\": \"PL/SQL appears with SSIS/SSRS 26 times\", \"x\": [-0.867404462639031], \"y\": [0.24001978708826055], \"type\": \"scatter\", \"uid\": \"59217d53-21f2-4782-954a-e335e39d2669\"}, {\"hoverinfo\": \"text\", \"marker\": {\"color\": \"green\", \"size\": 0.5}, \"mode\": \"markers\", \"text\": \"SSIS/SSRS appears with Pentaho 31 times\", \"x\": [0.21572328783511002], \"y\": [0.8737639630275503], \"type\": \"scatter\", \"uid\": \"783d1d1f-5a56-410c-a194-99b6c4501c82\"}, {\"hoverinfo\": \"text\", \"marker\": {\"color\": \"blue\", \"size\": 0.5}, \"mode\": \"markers\", \"text\": \"Pentaho appears with SSIS/SSRS 31 times\", \"x\": [-0.8837599220740875], \"y\": [0.17020105797439308], \"type\": \"scatter\", \"uid\": \"dfdee066-9926-4957-ae2f-9dd316716283\"}, {\"hoverinfo\": \"text\", \"marker\": {\"color\": \"green\", \"size\": 0.5}, \"mode\": \"markers\", \"text\": \"SSIS/SSRS appears with Hadoop 31 times\", \"x\": [0.2083874510163622], \"y\": [0.8755425005440359], \"type\": \"scatter\", \"uid\": \"535cbb65-2c7c-4f00-92f4-2cd37d0a1282\"}, {\"hoverinfo\": \"text\", \"marker\": {\"color\": \"blue\", \"size\": 0.5}, \"mode\": \"markers\", \"text\": \"Hadoop appears with SSIS/SSRS 31 times\", \"x\": [-0.8993683651473324], \"y\": [0.03371266486373437], \"type\": \"scatter\", \"uid\": \"bbd12d2d-dedb-4099-a4e3-2f39e00a7d98\"}, {\"hoverinfo\": \"text\", \"marker\": {\"color\": \"green\", \"size\": 0.5}, \"mode\": \"markers\", \"text\": \"SSIS/SSRS appears with Spark 36 times\", \"x\": [0.193077795851709], \"y\": [0.8790454850285313], \"type\": \"scatter\", \"uid\": \"4e7b0cdc-4a10-4c9e-837c-9ce7d739b9ac\"}, {\"hoverinfo\": \"text\", \"marker\": {\"color\": \"blue\", \"size\": 0.5}, \"mode\": \"markers\", \"text\": \"Spark appears with SSIS/SSRS 36 times\", \"x\": [-0.88880874105984], \"y\": [-0.14148859252823998], \"type\": \"scatter\", \"uid\": \"462e64c9-2e4f-4417-b06b-f48083de7700\"}, {\"hoverinfo\": \"text\", \"marker\": {\"color\": \"green\", \"size\": 0.5}, \"mode\": \"markers\", \"text\": \"SSIS/SSRS appears with Informatica 64 times\", \"x\": [0.15293723357080893], \"y\": [0.886910481721638], \"type\": \"scatter\", \"uid\": \"3fd2071f-1ff7-4b0f-8ad5-8075ed0c574d\"}, {\"hoverinfo\": \"text\", \"marker\": {\"color\": \"blue\", \"size\": 0.5}, \"mode\": \"markers\", \"text\": \"Informatica appears with SSIS/SSRS 64 times\", \"x\": [-0.8453402506326694], \"y\": [-0.30886867866505296], \"type\": \"scatter\", \"uid\": \"5a09753f-224a-4e0d-a99a-43da6ecd4e07\"}, {\"hoverinfo\": \"text\", \"marker\": {\"color\": \"green\", \"size\": 0.5}, \"mode\": \"markers\", \"text\": \"SSIS/SSRS appears with Qlik 67 times\", \"x\": [0.1371970083484722], \"y\": [0.8894812987917337], \"type\": \"scatter\", \"uid\": \"edcca05d-d6e2-4bb4-b1b1-d8a6eab5b490\"}, {\"hoverinfo\": \"text\", \"marker\": {\"color\": \"blue\", \"size\": 0.5}, \"mode\": \"markers\", \"text\": \"Qlik appears with SSIS/SSRS 67 times\", \"x\": [-0.7548944281055615], \"y\": [-0.4900351032478971], \"type\": \"scatter\", \"uid\": \"b53fc654-2068-42f1-95a3-1bec1a60f6d7\"}, {\"hoverinfo\": \"text\", \"marker\": {\"color\": \"green\", \"size\": 0.5}, \"mode\": \"markers\", \"text\": \"SSIS/SSRS appears with Tableau 128 times\", \"x\": [0.06110743861845524], \"y\": [0.8979230930015619], \"type\": \"scatter\", \"uid\": \"4306fca4-b72e-4fac-a556-87c3c49719f7\"}, {\"hoverinfo\": \"text\", \"marker\": {\"color\": \"blue\", \"size\": 0.5}, \"mode\": \"markers\", \"text\": \"Tableau appears with SSIS/SSRS 128 times\", \"x\": [-0.38866224056922566], \"y\": [-0.8117522175859512], \"type\": \"scatter\", \"uid\": \"89a4b1a7-def2-432a-9e99-83705bfc34d9\"}, {\"hoverinfo\": \"text\", \"marker\": {\"color\": \"green\", \"size\": 0.5}, \"mode\": \"markers\", \"text\": \"SSIS/SSRS appears with Microstrategy 22 times\", \"x\": [0.2342304786061699], \"y\": [0.8689856632257661], \"type\": \"scatter\", \"uid\": \"a8567103-2c84-43a1-925d-10e0fc460bc0\"}, {\"hoverinfo\": \"text\", \"marker\": {\"color\": \"blue\", \"size\": 0.5}, \"mode\": \"markers\", \"text\": \"Microstrategy appears with SSIS/SSRS 22 times\", \"x\": [-0.04537934016463465], \"y\": [-0.8988552249868843], \"type\": \"scatter\", \"uid\": \"ce821d7c-d87d-489a-8be4-235935dac6be\"}, {\"hoverinfo\": \"text\", \"marker\": {\"color\": \"green\", \"size\": 0.5}, \"mode\": \"markers\", \"text\": \"SSIS/SSRS appears with Oracle BI 220 times\", \"x\": [-0.013598300795462193], \"y\": [0.8998972642560239], \"type\": \"scatter\", \"uid\": \"a41c66c7-e47f-48b4-8f47-c947d74e454f\"}, {\"hoverinfo\": \"text\", \"marker\": {\"color\": \"blue\", \"size\": 0.5}, \"mode\": \"markers\", \"text\": \"Oracle BI appears with SSIS/SSRS 220 times\", \"x\": [0.2906978160333549], \"y\": [-0.8517598134177485], \"type\": \"scatter\", \"uid\": \"05dc25b3-ab54-459a-b6e6-0ffc487d63b1\"}, {\"hoverinfo\": \"text\", \"marker\": {\"color\": \"green\", \"size\": 0.5}, \"mode\": \"markers\", \"text\": \"SSIS/SSRS appears with Python 133 times\", \"x\": [0.029373028138431404], \"y\": [0.8995205529714031], \"type\": \"scatter\", \"uid\": \"40ec5eed-5393-4cbc-b31a-d6b954bfc1b0\"}, {\"hoverinfo\": \"text\", \"marker\": {\"color\": \"blue\", \"size\": 0.5}, \"mode\": \"markers\", \"text\": \"Python appears with SSIS/SSRS 133 times\", \"x\": [0.7645735620565709], \"y\": [-0.47479181564568584], \"type\": \"scatter\", \"uid\": \"2fc19325-b824-43a1-8c10-4738c1a32c80\"}, {\"hoverinfo\": \"text\", \"marker\": {\"color\": \"green\", \"size\": 0.5}, \"mode\": \"markers\", \"text\": \"SSIS/SSRS appears with VBA 63 times\", \"x\": [0.16815103967911085], \"y\": [0.8841522650849423], \"type\": \"scatter\", \"uid\": \"36093e1b-075b-4d40-8f41-a692fd71d086\"}, {\"hoverinfo\": \"text\", \"marker\": {\"color\": \"blue\", \"size\": 0.5}, \"mode\": \"markers\", \"text\": \"VBA appears with SSIS/SSRS 63 times\", \"x\": [0.8475819074409946], \"y\": [-0.302663030743243], \"type\": \"scatter\", \"uid\": \"1a22ff26-55a5-4687-8f01-6af7dff73dd4\"}, {\"hoverinfo\": \"text\", \"marker\": {\"color\": \"green\", \"size\": 0.5}, \"mode\": \"markers\", \"text\": \"SSIS/SSRS appears with Linux 15 times\", \"x\": [0.23857697161749053], \"y\": [0.8678024133486995], \"type\": \"scatter\", \"uid\": \"b0541b50-f1dd-4ae5-a855-913f09a8f8ff\"}, {\"hoverinfo\": \"text\", \"marker\": {\"color\": \"blue\", \"size\": 0.5}, \"mode\": \"markers\", \"text\": \"Linux appears with SSIS/SSRS 15 times\", \"x\": [0.8729640925598509], \"y\": [-0.21893764660550308], \"type\": \"scatter\", \"uid\": \"8ffb61e0-2029-4c73-9a40-6c4a73ede6f6\"}, {\"hoverinfo\": \"text\", \"marker\": {\"color\": \"green\", \"size\": 0.5}, \"mode\": \"markers\", \"text\": \"SSIS/SSRS appears with AWS 26 times\", \"x\": [0.22858305703604043], \"y\": [0.8704882457770801], \"type\": \"scatter\", \"uid\": \"4913bfe1-f96c-46fc-be57-0c39c14c6c56\"}, {\"hoverinfo\": \"text\", \"marker\": {\"color\": \"blue\", \"size\": 0.5}, \"mode\": \"markers\", \"text\": \"AWS appears with SSIS/SSRS 26 times\", \"x\": [0.8962342655051921], \"y\": [-0.08224440001829186], \"type\": \"scatter\", \"uid\": \"2e616499-d96e-4189-a8fd-383cd45461a7\"}, {\"hoverinfo\": \"text\", \"marker\": {\"color\": \"green\", \"size\": 0.5}, \"mode\": \"markers\", \"text\": \"MS SQL Server appears with PostgreSQL 55 times\", \"x\": [-0.3035986751852794], \"y\": [0.8472472156494486], \"type\": \"scatter\", \"uid\": \"f737f854-2ce6-4a50-8a5c-c9ffe7d0dd6e\"}, {\"hoverinfo\": \"text\", \"marker\": {\"color\": \"blue\", \"size\": 0.5}, \"mode\": \"markers\", \"text\": \"PostgreSQL appears with MS SQL Server 55 times\", \"x\": [-0.6102897886236486], \"y\": [0.661472882211888], \"type\": \"scatter\", \"uid\": \"afae371d-5d2a-429b-9c08-62708e54ca08\"}, {\"hoverinfo\": \"text\", \"marker\": {\"color\": \"green\", \"size\": 0.5}, \"mode\": \"markers\", \"text\": \"MS SQL Server appears with MySQL/MariaDB 66 times\", \"x\": [-0.32948412765003093], \"y\": [0.837520274158601], \"type\": \"scatter\", \"uid\": \"4d77c69d-1966-4e62-b0c9-11fa81fc41b3\"}, {\"hoverinfo\": \"text\", \"marker\": {\"color\": \"blue\", \"size\": 0.5}, \"mode\": \"markers\", \"text\": \"MySQL/MariaDB appears with MS SQL Server 66 times\", \"x\": [-0.7078908197653104], \"y\": [0.5557792613007406], \"type\": \"scatter\", \"uid\": \"753b525d-e9ca-4bf6-b431-62a19b4072ec\"}, {\"hoverinfo\": \"text\", \"marker\": {\"color\": \"green\", \"size\": 0.5}, \"mode\": \"markers\", \"text\": \"MS SQL Server appears with T-SQL 153 times\", \"x\": [-0.4469270042966135], \"y\": [0.7811889994300066], \"type\": \"scatter\", \"uid\": \"4fa34ad0-262a-4753-9c36-130b758f24c9\"}, {\"hoverinfo\": \"text\", \"marker\": {\"color\": \"blue\", \"size\": 0.5}, \"mode\": \"markers\", \"text\": \"T-SQL appears with MS SQL Server 153 times\", \"x\": [-0.8340353179345771], \"y\": [0.3382086463084125], \"type\": \"scatter\", \"uid\": \"d190f7fc-995d-4ba4-9847-fbd3437cf79d\"}, {\"hoverinfo\": \"text\", \"marker\": {\"color\": \"green\", \"size\": 0.5}, \"mode\": \"markers\", \"text\": \"MS SQL Server appears with PL/SQL 10 times\", \"x\": [-0.24281915846582044], \"y\": [0.8666249801857495], \"type\": \"scatter\", \"uid\": \"0a1bc6b2-0ecc-491b-b4c0-69b1cc6d5f49\"}, {\"hoverinfo\": \"text\", \"marker\": {\"color\": \"blue\", \"size\": 0.5}, \"mode\": \"markers\", \"text\": \"PL/SQL appears with MS SQL Server 10 times\", \"x\": [-0.8634977300968834], \"y\": [0.25371572698106465], \"type\": \"scatter\", \"uid\": \"1696f5a7-5699-4174-a238-eb4329753f4e\"}, {\"hoverinfo\": \"text\", \"marker\": {\"color\": \"green\", \"size\": 0.5}, \"mode\": \"markers\", \"text\": \"MS SQL Server appears with Pentaho 43 times\", \"x\": [-0.2804996803271997], \"y\": [0.8551724559036842], \"type\": \"scatter\", \"uid\": \"607a933d-962f-44a4-86a2-e9b6c3e9f3bd\"}, {\"hoverinfo\": \"text\", \"marker\": {\"color\": \"blue\", \"size\": 0.5}, \"mode\": \"markers\", \"text\": \"Pentaho appears with MS SQL Server 43 times\", \"x\": [-0.8928345602606812], \"y\": [0.11334217222250523], \"type\": \"scatter\", \"uid\": \"9e44f218-f502-4ecf-bbe5-ef2998c69c78\"}, {\"hoverinfo\": \"text\", \"marker\": {\"color\": \"green\", \"size\": 0.5}, \"mode\": \"markers\", \"text\": \"MS SQL Server appears with Hadoop 26 times\", \"x\": [-0.2557024080920602], \"y\": [0.8629115125526612], \"type\": \"scatter\", \"uid\": \"070e69d4-5a45-4b9d-b1d1-3d0113a77924\"}, {\"hoverinfo\": \"text\", \"marker\": {\"color\": \"blue\", \"size\": 0.5}, \"mode\": \"markers\", \"text\": \"Hadoop appears with MS SQL Server 26 times\", \"x\": [-0.8991224073763319], \"y\": [0.039735331303383664], \"type\": \"scatter\", \"uid\": \"d789f12d-d105-4477-a0b5-1a0ca3f5efda\"}, {\"hoverinfo\": \"text\", \"marker\": {\"color\": \"green\", \"size\": 0.5}, \"mode\": \"markers\", \"text\": \"MS SQL Server appears with Spark 22 times\", \"x\": [-0.2501877978754988], \"y\": [0.8645264980289549], \"type\": \"scatter\", \"uid\": \"bc2e5ce3-182d-403f-8890-34edcecde84a\"}, {\"hoverinfo\": \"text\", \"marker\": {\"color\": \"blue\", \"size\": 0.5}, \"mode\": \"markers\", \"text\": \"Spark appears with MS SQL Server 22 times\", \"x\": [-0.8922830948561005], \"y\": [-0.11760475600084871], \"type\": \"scatter\", \"uid\": \"ed3eea76-6169-4e8b-8063-c7256339300d\"}, {\"hoverinfo\": \"text\", \"marker\": {\"color\": \"green\", \"size\": 0.5}, \"mode\": \"markers\", \"text\": \"MS SQL Server appears with Informatica 55 times\", \"x\": [-0.31596233217815495], \"y\": [0.8427145451720537], \"type\": \"scatter\", \"uid\": \"72699782-22ec-4a2b-8ca0-99c4a2bd8b28\"}, {\"hoverinfo\": \"text\", \"marker\": {\"color\": \"blue\", \"size\": 0.5}, \"mode\": \"markers\", \"text\": \"Informatica appears with MS SQL Server 55 times\", \"x\": [-0.8496762022685282], \"y\": [-0.29673279444397627], \"type\": \"scatter\", \"uid\": \"d7ca644b-a1c0-4d1e-880d-1cd54e8ae503\"}, {\"hoverinfo\": \"text\", \"marker\": {\"color\": \"green\", \"size\": 0.5}, \"mode\": \"markers\", \"text\": \"MS SQL Server appears with Qlik 53 times\", \"x\": [-0.29139656359998306], \"y\": [0.8515210171934225], \"type\": \"scatter\", \"uid\": \"2898b296-e076-40d2-8b2e-d4d6b2745bee\"}, {\"hoverinfo\": \"text\", \"marker\": {\"color\": \"blue\", \"size\": 0.5}, \"mode\": \"markers\", \"text\": \"Qlik appears with MS SQL Server 53 times\", \"x\": [-0.7709546434599394], \"y\": [-0.464358630508315], \"type\": \"scatter\", \"uid\": \"a53dba76-b587-4bfd-83d5-1d47b2e10028\"}, {\"hoverinfo\": \"text\", \"marker\": {\"color\": \"green\", \"size\": 0.5}, \"mode\": \"markers\", \"text\": \"MS SQL Server appears with Tableau 86 times\", \"x\": [-0.34634881450505534], \"y\": [0.8306879671037392], \"type\": \"scatter\", \"uid\": \"1e34a695-383c-46b2-b9f7-5fc7aa80e1c6\"}, {\"hoverinfo\": \"text\", \"marker\": {\"color\": \"blue\", \"size\": 0.5}, \"mode\": \"markers\", \"text\": \"Tableau appears with MS SQL Server 86 times\", \"x\": [-0.4538136853540082], \"y\": [-0.7772085556563395], \"type\": \"scatter\", \"uid\": \"d3bb50a8-4b60-4971-b2f8-1a362ba49837\"}, {\"hoverinfo\": \"text\", \"marker\": {\"color\": \"green\", \"size\": 0.5}, \"mode\": \"markers\", \"text\": \"MS SQL Server appears with Microstrategy 16 times\", \"x\": [-0.24581482074324673], \"y\": [0.8657800378288734], \"type\": \"scatter\", \"uid\": \"19dd6e43-cde1-44e4-b298-4461785fd86a\"}, {\"hoverinfo\": \"text\", \"marker\": {\"color\": \"blue\", \"size\": 0.5}, \"mode\": \"markers\", \"text\": \"Microstrategy appears with MS SQL Server 16 times\", \"x\": [-0.054427569862253194], \"y\": [-0.8983527367570545], \"type\": \"scatter\", \"uid\": \"edc2cc0a-2ce6-4735-8421-ad5f3572b48c\"}, {\"hoverinfo\": \"text\", \"marker\": {\"color\": \"green\", \"size\": 0.5}, \"mode\": \"markers\", \"text\": \"MS SQL Server appears with Oracle BI 142 times\", \"x\": [-0.4159375041393252], \"y\": [0.7981202870810571], \"type\": \"scatter\", \"uid\": \"556248ae-c4f0-43cb-83f6-c643d274d592\"}, {\"hoverinfo\": \"text\", \"marker\": {\"color\": \"blue\", \"size\": 0.5}, \"mode\": \"markers\", \"text\": \"Oracle BI appears with MS SQL Server 142 times\", \"x\": [0.24805279941529232], \"y\": [-0.8651414963474107], \"type\": \"scatter\", \"uid\": \"feb2ec20-a8c5-4c2c-bf63-6cd96c5e485f\"}, {\"hoverinfo\": \"text\", \"marker\": {\"color\": \"green\", \"size\": 0.5}, \"mode\": \"markers\", \"text\": \"MS SQL Server appears with Python 99 times\", \"x\": [-0.36668322901405925], \"y\": [0.8219144782517358], \"type\": \"scatter\", \"uid\": \"b13831f4-30b0-4e34-9ccc-ba84b3cf66ae\"}, {\"hoverinfo\": \"text\", \"marker\": {\"color\": \"blue\", \"size\": 0.5}, \"mode\": \"markers\", \"text\": \"Python appears with MS SQL Server 99 times\", \"x\": [0.6800465046582891], \"y\": [-0.5895224775206146], \"type\": \"scatter\", \"uid\": \"dbf50163-5d6d-4e60-9e18-e8818d703d75\"}, {\"hoverinfo\": \"text\", \"marker\": {\"color\": \"green\", \"size\": 0.5}, \"mode\": \"markers\", \"text\": \"MS SQL Server appears with VBA 34 times\", \"x\": [-0.2625809864615174], \"y\": [0.8608433223002293], \"type\": \"scatter\", \"uid\": \"1669a41b-b722-4478-bdfd-30589e6bf6e0\"}, {\"hoverinfo\": \"text\", \"marker\": {\"color\": \"blue\", \"size\": 0.5}, \"mode\": \"markers\", \"text\": \"VBA appears with MS SQL Server 34 times\", \"x\": [0.8306054077639954], \"y\": [-0.3465467596056945], \"type\": \"scatter\", \"uid\": \"2a003714-7637-481c-85e5-9c7101d2667f\"}, {\"hoverinfo\": \"text\", \"marker\": {\"color\": \"green\", \"size\": 0.5}, \"mode\": \"markers\", \"text\": \"MS SQL Server appears with Linux 40 times\", \"x\": [-0.2710414857497627], \"y\": [0.8582170547143427], \"type\": \"scatter\", \"uid\": \"304d9d43-4a50-4ea8-b850-e15340b09bef\"}, {\"hoverinfo\": \"text\", \"marker\": {\"color\": \"blue\", \"size\": 0.5}, \"mode\": \"markers\", \"text\": \"Linux appears with MS SQL Server 40 times\", \"x\": [0.8806930361535452], \"y\": [-0.18541784183473367], \"type\": \"scatter\", \"uid\": \"07fe6400-92d2-4068-bae2-0bf37daf1d47\"}, {\"hoverinfo\": \"text\", \"marker\": {\"color\": \"green\", \"size\": 0.5}, \"mode\": \"markers\", \"text\": \"MS SQL Server appears with AWS 9 times\", \"x\": [-0.24062818199886823], \"y\": [0.8672358837294035], \"type\": \"scatter\", \"uid\": \"137488a3-1e51-4171-a346-606f4a41848d\"}, {\"hoverinfo\": \"text\", \"marker\": {\"color\": \"blue\", \"size\": 0.5}, \"mode\": \"markers\", \"text\": \"AWS appears with MS SQL Server 9 times\", \"x\": [0.89494193271068], \"y\": [-0.09528345646581422], \"type\": \"scatter\", \"uid\": \"47e45295-dfa5-4099-a0fb-6eea63df7914\"}, {\"hoverinfo\": \"text\", \"marker\": {\"color\": \"green\", \"size\": 0.5}, \"mode\": \"markers\", \"text\": \"PostgreSQL appears with MySQL/MariaDB 68 times\", \"x\": [-0.6262675775520066], \"y\": [0.6463659345194034], \"type\": \"scatter\", \"uid\": \"4cc5b4df-5257-4774-9c41-7205dfe52e3f\"}, {\"hoverinfo\": \"text\", \"marker\": {\"color\": \"blue\", \"size\": 0.5}, \"mode\": \"markers\", \"text\": \"MySQL/MariaDB appears with PostgreSQL 68 times\", \"x\": [-0.7165784385436301], \"y\": [0.5445322225675658], \"type\": \"scatter\", \"uid\": \"3639c2c9-f22c-4883-a16b-bc02985ebdc6\"}, {\"hoverinfo\": \"text\", \"marker\": {\"color\": \"green\", \"size\": 0.5}, \"mode\": \"markers\", \"text\": \"PostgreSQL appears with T-SQL 29 times\", \"x\": [-0.5851100251373859], \"y\": [0.6838466629908548], \"type\": \"scatter\", \"uid\": \"9fcb6438-c347-4b86-89c8-9dfcc97c0444\"}, {\"hoverinfo\": \"text\", \"marker\": {\"color\": \"blue\", \"size\": 0.5}, \"mode\": \"markers\", \"text\": \"T-SQL appears with PostgreSQL 29 times\", \"x\": [-0.7645399161846504], \"y\": [0.4748459924653126], \"type\": \"scatter\", \"uid\": \"78397a90-00f1-4e87-8f37-8a50e65c8711\"}, {\"hoverinfo\": \"text\", \"marker\": {\"color\": \"green\", \"size\": 0.5}, \"mode\": \"markers\", \"text\": \"PostgreSQL appears with Pentaho 41 times\", \"x\": [-0.603657336524202], \"y\": [0.6675311378958336], \"type\": \"scatter\", \"uid\": \"372c27d7-8003-4a27-a43a-da2e31a0fe7d\"}, {\"hoverinfo\": \"text\", \"marker\": {\"color\": \"blue\", \"size\": 0.5}, \"mode\": \"markers\", \"text\": \"Pentaho appears with PostgreSQL 41 times\", \"x\": [-0.8917220597662687], \"y\": [0.12178574681054948], \"type\": \"scatter\", \"uid\": \"85100990-c056-47c6-822d-8d43a51e7aea\"}, {\"hoverinfo\": \"text\", \"marker\": {\"color\": \"green\", \"size\": 0.5}, \"mode\": \"markers\", \"text\": \"PostgreSQL appears with Hadoop 3 times\", \"x\": [-0.576101638829356], \"y\": [0.6914527472923441], \"type\": \"scatter\", \"uid\": \"8cde8cf3-0eb7-49f1-afda-cfd96f1d83f2\"}, {\"hoverinfo\": \"text\", \"marker\": {\"color\": \"blue\", \"size\": 0.5}, \"mode\": \"markers\", \"text\": \"Hadoop appears with PostgreSQL 3 times\", \"x\": [-0.8982628226187171], \"y\": [0.05589187330064335], \"type\": \"scatter\", \"uid\": \"bf8133a0-502b-4ad5-9845-46a38fd764b1\"}, {\"hoverinfo\": \"text\", \"marker\": {\"color\": \"green\", \"size\": 0.5}, \"mode\": \"markers\", \"text\": \"PostgreSQL appears with Spark 5 times\", \"x\": [-0.576676555524321], \"y\": [0.6909733354541294], \"type\": \"scatter\", \"uid\": \"7024de48-b053-4562-8cf2-36d5a508dc51\"}, {\"hoverinfo\": \"text\", \"marker\": {\"color\": \"blue\", \"size\": 0.5}, \"mode\": \"markers\", \"text\": \"Spark appears with PostgreSQL 5 times\", \"x\": [-0.8944855957459857], \"y\": [-0.09947622330461202], \"type\": \"scatter\", \"uid\": \"a4dd9285-1bb4-4fe8-864c-a8d4892fcfcc\"}, {\"hoverinfo\": \"text\", \"marker\": {\"color\": \"green\", \"size\": 0.5}, \"mode\": \"markers\", \"text\": \"PostgreSQL appears with Qlik 13 times\", \"x\": [-0.5788289367402205], \"y\": [0.6891712863956142], \"type\": \"scatter\", \"uid\": \"0c56174a-49c2-4166-b107-caf665af0b6c\"}, {\"hoverinfo\": \"text\", \"marker\": {\"color\": \"blue\", \"size\": 0.5}, \"mode\": \"markers\", \"text\": \"Qlik appears with PostgreSQL 13 times\", \"x\": [-0.793175620487976], \"y\": [-0.42529100044970897], \"type\": \"scatter\", \"uid\": \"b4ad01c4-5b4c-404a-a254-71ec8d5d3951\"}, {\"hoverinfo\": \"text\", \"marker\": {\"color\": \"green\", \"size\": 0.5}, \"mode\": \"markers\", \"text\": \"PostgreSQL appears with Tableau 6 times\", \"x\": [-0.577466414488604], \"y\": [0.6903133637252548], \"type\": \"scatter\", \"uid\": \"5cffe6ab-481a-4ac1-b87d-d348a5e04902\"}, {\"hoverinfo\": \"text\", \"marker\": {\"color\": \"blue\", \"size\": 0.5}, \"mode\": \"markers\", \"text\": \"Tableau appears with PostgreSQL 6 times\", \"x\": [-0.5369162828622165], \"y\": [-0.7223025025551416], \"type\": \"scatter\", \"uid\": \"a63aaeff-c90f-43f0-a21c-aa499dcf1391\"}, {\"hoverinfo\": \"text\", \"marker\": {\"color\": \"green\", \"size\": 0.5}, \"mode\": \"markers\", \"text\": \"PostgreSQL appears with Oracle BI 34 times\", \"x\": [-0.598433856836997], \"y\": [0.6722179103469325], \"type\": \"scatter\", \"uid\": \"586a2baf-3d38-4842-9c23-5ecd01b22fd7\"}, {\"hoverinfo\": \"text\", \"marker\": {\"color\": \"blue\", \"size\": 0.5}, \"mode\": \"markers\", \"text\": \"Oracle BI appears with PostgreSQL 34 times\", \"x\": [0.028295704736432857], \"y\": [-0.8995550861917622], \"type\": \"scatter\", \"uid\": \"b38878ff-12b2-469a-9bd1-36cf8418c9d2\"}, {\"hoverinfo\": \"text\", \"marker\": {\"color\": \"green\", \"size\": 0.5}, \"mode\": \"markers\", \"text\": \"PostgreSQL appears with Python 23 times\", \"x\": [-0.5814043592208243], \"y\": [0.6869999789512534], \"type\": \"scatter\", \"uid\": \"a9d707d1-acfc-48bf-9f3e-c492d84cc4fe\"}, {\"hoverinfo\": \"text\", \"marker\": {\"color\": \"blue\", \"size\": 0.5}, \"mode\": \"markers\", \"text\": \"Python appears with PostgreSQL 23 times\", \"x\": [0.5923092781204162], \"y\": [-0.67762063062784], \"type\": \"scatter\", \"uid\": \"81599f87-42a4-46ad-b835-929196116e9c\"}, {\"hoverinfo\": \"text\", \"marker\": {\"color\": \"green\", \"size\": 0.5}, \"mode\": \"markers\", \"text\": \"PostgreSQL appears with Linux 32 times\", \"x\": [-0.593807085087456], \"y\": [0.6763084693392053], \"type\": \"scatter\", \"uid\": \"41531b44-c55b-4832-bf03-cfc6ba0155de\"}, {\"hoverinfo\": \"text\", \"marker\": {\"color\": \"blue\", \"size\": 0.5}, \"mode\": \"markers\", \"text\": \"Linux appears with PostgreSQL 32 times\", \"x\": [0.8776749399167197], \"y\": [-0.1992152098665723], \"type\": \"scatter\", \"uid\": \"89e70d10-b559-444d-9a1a-598e43f08590\"}, {\"hoverinfo\": \"text\", \"marker\": {\"color\": \"green\", \"size\": 0.5}, \"mode\": \"markers\", \"text\": \"MySQL/MariaDB appears with T-SQL 36 times\", \"x\": [-0.6662881500324397], \"y\": [0.6050290084998812], \"type\": \"scatter\", \"uid\": \"e6cd582e-3c9c-4371-8cd7-bd345203c9f0\"}, {\"hoverinfo\": \"text\", \"marker\": {\"color\": \"blue\", \"size\": 0.5}, \"mode\": \"markers\", \"text\": \"T-SQL appears with MySQL/MariaDB 36 times\", \"x\": [-0.7763064940928116], \"y\": [0.4553550562246208], \"type\": \"scatter\", \"uid\": \"222cb0b0-861f-4c38-8d96-04486313c65f\"}, {\"hoverinfo\": \"text\", \"marker\": {\"color\": \"green\", \"size\": 0.5}, \"mode\": \"markers\", \"text\": \"MySQL/MariaDB appears with Pentaho 59 times\", \"x\": [-0.6996275279620856], \"y\": [0.5661460254366015], \"type\": \"scatter\", \"uid\": \"6db21ee9-380b-458e-9daa-0bf3623e73cd\"}, {\"hoverinfo\": \"text\", \"marker\": {\"color\": \"blue\", \"size\": 0.5}, \"mode\": \"markers\", \"text\": \"Pentaho appears with MySQL/MariaDB 59 times\", \"x\": [-0.8940779621856415], \"y\": [0.10307568837495336], \"type\": \"scatter\", \"uid\": \"cb8d6ae9-a48c-43b5-8ae2-65cd681eea05\"}, {\"hoverinfo\": \"text\", \"marker\": {\"color\": \"green\", \"size\": 0.5}, \"mode\": \"markers\", \"text\": \"MySQL/MariaDB appears with Hadoop 4 times\", \"x\": [-0.6515522352740388], \"y\": [0.6208701029276604], \"type\": \"scatter\", \"uid\": \"bb01b590-54a2-49c9-aefb-f899c3143a87\"}, {\"hoverinfo\": \"text\", \"marker\": {\"color\": \"blue\", \"size\": 0.5}, \"mode\": \"markers\", \"text\": \"Hadoop appears with MySQL/MariaDB 4 times\", \"x\": [-0.8983471487638285], \"y\": [0.05451972402626347], \"type\": \"scatter\", \"uid\": \"28a8bb86-0ff6-4d94-ae74-c621891f38fc\"}, {\"hoverinfo\": \"text\", \"marker\": {\"color\": \"green\", \"size\": 0.5}, \"mode\": \"markers\", \"text\": \"MySQL/MariaDB appears with Spark 19 times\", \"x\": [-0.6574488102175244], \"y\": [0.6146226988515486], \"type\": \"scatter\", \"uid\": \"bd12c9d9-45c2-4f09-a8d7-8c89276968c8\"}, {\"hoverinfo\": \"text\", \"marker\": {\"color\": \"blue\", \"size\": 0.5}, \"mode\": \"markers\", \"text\": \"Spark appears with MySQL/MariaDB 19 times\", \"x\": [-0.8928446985437626], \"y\": [-0.11326228093367073], \"type\": \"scatter\", \"uid\": \"316ce801-fc9c-41b5-be2d-741346b85a46\"}, {\"hoverinfo\": \"text\", \"marker\": {\"color\": \"green\", \"size\": 0.5}, \"mode\": \"markers\", \"text\": \"MySQL/MariaDB appears with Informatica 8 times\", \"x\": [-0.6531596688682502], \"y\": [0.6191788489313228], \"type\": \"scatter\", \"uid\": \"a87d4d21-fae4-46a2-864a-95b3e97fc8b0\"}, {\"hoverinfo\": \"text\", \"marker\": {\"color\": \"blue\", \"size\": 0.5}, \"mode\": \"markers\", \"text\": \"Informatica appears with MySQL/MariaDB 8 times\", \"x\": [-0.8612591043799332], \"y\": [-0.2612140025394416], \"type\": \"scatter\", \"uid\": \"e4473be0-ed13-4834-91a7-f71b6fb19d77\"}, {\"hoverinfo\": \"text\", \"marker\": {\"color\": \"green\", \"size\": 0.5}, \"mode\": \"markers\", \"text\": \"MySQL/MariaDB appears with Qlik 16 times\", \"x\": [-0.6549082256106571], \"y\": [0.617329098639859], \"type\": \"scatter\", \"uid\": \"78ac8137-b8dd-4077-a485-3189a0572f98\"}, {\"hoverinfo\": \"text\", \"marker\": {\"color\": \"blue\", \"size\": 0.5}, \"mode\": \"markers\", \"text\": \"Qlik appears with MySQL/MariaDB 16 times\", \"x\": [-0.7898002213828718], \"y\": [-0.43152706786894246], \"type\": \"scatter\", \"uid\": \"683d66be-75b2-49ce-9544-10cfe6531f09\"}, {\"hoverinfo\": \"text\", \"marker\": {\"color\": \"green\", \"size\": 0.5}, \"mode\": \"markers\", \"text\": \"MySQL/MariaDB appears with Tableau 38 times\", \"x\": [-0.6715388032670172], \"y\": [0.5991958241732851], \"type\": \"scatter\", \"uid\": \"0d296fa5-ce98-4b57-804e-d67e2b2dfd4d\"}, {\"hoverinfo\": \"text\", \"marker\": {\"color\": \"blue\", \"size\": 0.5}, \"mode\": \"markers\", \"text\": \"Tableau appears with MySQL/MariaDB 38 times\", \"x\": [-0.499990460361388], \"y\": [-0.7483378512059959], \"type\": \"scatter\", \"uid\": \"03c4c68a-6c05-41cd-89eb-e6fdf95131f4\"}, {\"hoverinfo\": \"text\", \"marker\": {\"color\": \"green\", \"size\": 0.5}, \"mode\": \"markers\", \"text\": \"MySQL/MariaDB appears with Oracle BI 55 times\", \"x\": [-0.6919590061950207], \"y\": [0.5754934697679891], \"type\": \"scatter\", \"uid\": \"0d354172-b8a8-4f65-ac61-44e3891285a7\"}, {\"hoverinfo\": \"text\", \"marker\": {\"color\": \"blue\", \"size\": 0.5}, \"mode\": \"markers\", \"text\": \"Oracle BI appears with MySQL/MariaDB 55 times\", \"x\": [0.07132012911426798], \"y\": [-0.8971696824921829], \"type\": \"scatter\", \"uid\": \"8bb5b976-b1af-4118-8c1d-24b9c7282ccb\"}, {\"hoverinfo\": \"text\", \"marker\": {\"color\": \"green\", \"size\": 0.5}, \"mode\": \"markers\", \"text\": \"MySQL/MariaDB appears with Python 46 times\", \"x\": [-0.6774370987595818], \"y\": [0.5925191787817511], \"type\": \"scatter\", \"uid\": \"7856c0c9-97b3-4977-96b4-f008ae9edc51\"}, {\"hoverinfo\": \"text\", \"marker\": {\"color\": \"blue\", \"size\": 0.5}, \"mode\": \"markers\", \"text\": \"Python appears with MySQL/MariaDB 46 times\", \"x\": [0.6155039353967736], \"y\": [-0.6566238691298728], \"type\": \"scatter\", \"uid\": \"c0699a53-50c8-4ddf-81f8-c3934300e9d9\"}, {\"hoverinfo\": \"text\", \"marker\": {\"color\": \"green\", \"size\": 0.5}, \"mode\": \"markers\", \"text\": \"MySQL/MariaDB appears with VBA 4 times\", \"x\": [-0.6509666276405158], \"y\": [0.6214840703496222], \"type\": \"scatter\", \"uid\": \"a398395a-9614-4a89-93b1-87a4088c07fc\"}, {\"hoverinfo\": \"text\", \"marker\": {\"color\": \"blue\", \"size\": 0.5}, \"mode\": \"markers\", \"text\": \"VBA appears with MySQL/MariaDB 4 times\", \"x\": [0.819545191724812], \"y\": [-0.3719484893378935], \"type\": \"scatter\", \"uid\": \"11e4d9c6-23a6-4baf-88fb-f2384e6b3c74\"}, {\"hoverinfo\": \"text\", \"marker\": {\"color\": \"green\", \"size\": 0.5}, \"mode\": \"markers\", \"text\": \"MySQL/MariaDB appears with Linux 34 times\", \"x\": [-0.6612746763215045], \"y\": [0.6105045474489846], \"type\": \"scatter\", \"uid\": \"a54741a6-bc29-4ed8-8a22-30e1d8abfd1c\"}, {\"hoverinfo\": \"text\", \"marker\": {\"color\": \"blue\", \"size\": 0.5}, \"mode\": \"markers\", \"text\": \"Linux appears with MySQL/MariaDB 34 times\", \"x\": [0.8791247329546072], \"y\": [-0.19271664149079207], \"type\": \"scatter\", \"uid\": \"86935df4-0b37-4a20-ba0d-5e87dc7fd343\"}, {\"hoverinfo\": \"text\", \"marker\": {\"color\": \"green\", \"size\": 0.5}, \"mode\": \"markers\", \"text\": \"T-SQL appears with PL/SQL 30 times\", \"x\": [-0.7681155871994775], \"y\": [0.4690399180253232], \"type\": \"scatter\", \"uid\": \"22b83ab1-24a8-447f-bb8c-514d2f217076\"}, {\"hoverinfo\": \"text\", \"marker\": {\"color\": \"blue\", \"size\": 0.5}, \"mode\": \"markers\", \"text\": \"PL/SQL appears with T-SQL 30 times\", \"x\": [-0.8685886730924324], \"y\": [0.2356983601460303], \"type\": \"scatter\", \"uid\": \"f1c17dd1-931c-4f11-bdcf-083503e07049\"}, {\"hoverinfo\": \"text\", \"marker\": {\"color\": \"green\", \"size\": 0.5}, \"mode\": \"markers\", \"text\": \"T-SQL appears with Pentaho 36 times\", \"x\": [-0.7720632320362316], \"y\": [0.46251309790941925], \"type\": \"scatter\", \"uid\": \"d13883e9-ccf2-416f-b877-539c9366fbbc\"}, {\"hoverinfo\": \"text\", \"marker\": {\"color\": \"blue\", \"size\": 0.5}, \"mode\": \"markers\", \"text\": \"Pentaho appears with T-SQL 36 times\", \"x\": [-0.8906321195845802], \"y\": [0.12951612858743922], \"type\": \"scatter\", \"uid\": \"cd38a384-e133-4ec2-81db-3f61fd0fb0cb\"}, {\"hoverinfo\": \"text\", \"marker\": {\"color\": \"green\", \"size\": 0.5}, \"mode\": \"markers\", \"text\": \"T-SQL appears with Hadoop 16 times\", \"x\": [-0.7556917800808247], \"y\": [0.4888045964578019], \"type\": \"scatter\", \"uid\": \"139a236b-b6f2-4ec1-95e0-6eefc31fc814\"}, {\"hoverinfo\": \"text\", \"marker\": {\"color\": \"blue\", \"size\": 0.5}, \"mode\": \"markers\", \"text\": \"Hadoop appears with T-SQL 16 times\", \"x\": [-0.8987091817414411], \"y\": [0.048185128967654], \"type\": \"scatter\", \"uid\": \"e9f9ad3d-23e7-49e8-b811-e86e5b218067\"}, {\"hoverinfo\": \"text\", \"marker\": {\"color\": \"green\", \"size\": 0.5}, \"mode\": \"markers\", \"text\": \"T-SQL appears with Spark 16 times\", \"x\": [-0.7536767787889925], \"y\": [0.49190579699191184], \"type\": \"scatter\", \"uid\": \"46a3323d-cf8e-4580-87f3-f1b7eea0f5bc\"}, {\"hoverinfo\": \"text\", \"marker\": {\"color\": \"blue\", \"size\": 0.5}, \"mode\": \"markers\", \"text\": \"Spark appears with T-SQL 16 times\", \"x\": [-0.8933073961690015], \"y\": [-0.1095531649463345], \"type\": \"scatter\", \"uid\": \"105aa2b8-fd17-47cd-ac8c-e088e74bff0e\"}, {\"hoverinfo\": \"text\", \"marker\": {\"color\": \"green\", \"size\": 0.5}, \"mode\": \"markers\", \"text\": \"T-SQL appears with Informatica 12 times\", \"x\": [-0.7519032117013142], \"y\": [0.49461253545906897], \"type\": \"scatter\", \"uid\": \"48e26eb5-51f6-45a5-8040-7c26352df66b\"}, {\"hoverinfo\": \"text\", \"marker\": {\"color\": \"blue\", \"size\": 0.5}, \"mode\": \"markers\", \"text\": \"Informatica appears with T-SQL 12 times\", \"x\": [-0.858639811580523], \"y\": [-0.2696992287140695], \"type\": \"scatter\", \"uid\": \"25733953-c423-4927-9a9a-818d16eff253\"}, {\"hoverinfo\": \"text\", \"marker\": {\"color\": \"green\", \"size\": 0.5}, \"mode\": \"markers\", \"text\": \"T-SQL appears with Qlik 66 times\", \"x\": [-0.7916247906987939], \"y\": [0.42817074952767487], \"type\": \"scatter\", \"uid\": \"0f5fb3a8-6073-4a50-8712-a34673aee670\"}, {\"hoverinfo\": \"text\", \"marker\": {\"color\": \"blue\", \"size\": 0.5}, \"mode\": \"markers\", \"text\": \"Qlik appears with T-SQL 66 times\", \"x\": [-0.7634783515933095], \"y\": [-0.47655094863861397], \"type\": \"scatter\", \"uid\": \"27e3a859-1528-43bd-938d-f6c13a100e9b\"}, {\"hoverinfo\": \"text\", \"marker\": {\"color\": \"green\", \"size\": 0.5}, \"mode\": \"markers\", \"text\": \"T-SQL appears with Tableau 89 times\", \"x\": [-0.799989835098445], \"y\": [0.41233028477079253], \"type\": \"scatter\", \"uid\": \"f89ff0b7-2698-4312-ac40-deb255ec2304\"}, {\"hoverinfo\": \"text\", \"marker\": {\"color\": \"blue\", \"size\": 0.5}, \"mode\": \"markers\", \"text\": \"Tableau appears with T-SQL 89 times\", \"x\": [-0.43523152672309884], \"y\": [-0.7877648876068801], \"type\": \"scatter\", \"uid\": \"22dfa54c-da00-44f7-9a01-c7db6a745df3\"}, {\"hoverinfo\": \"text\", \"marker\": {\"color\": \"green\", \"size\": 0.5}, \"mode\": \"markers\", \"text\": \"T-SQL appears with Microstrategy 9 times\", \"x\": [-0.7505666558013327], \"y\": [0.4966383948097487], \"type\": \"scatter\", \"uid\": \"d6ab6aea-a759-40ac-b9e3-5ed94cf45c57\"}, {\"hoverinfo\": \"text\", \"marker\": {\"color\": \"blue\", \"size\": 0.5}, \"mode\": \"markers\", \"text\": \"Microstrategy appears with T-SQL 9 times\", \"x\": [-0.060377400173715436], \"y\": [-0.8979724770549836], \"type\": \"scatter\", \"uid\": \"cd6139aa-762f-4424-aab2-8ff07a42c7cd\"}, {\"hoverinfo\": \"text\", \"marker\": {\"color\": \"green\", \"size\": 0.5}, \"mode\": \"markers\", \"text\": \"T-SQL appears with Oracle BI 122 times\", \"x\": [-0.8215743081223355], \"y\": [0.36744476623474426], \"type\": \"scatter\", \"uid\": \"72384ada-2088-4fac-a4bb-88be76682c11\"}, {\"hoverinfo\": \"text\", \"marker\": {\"color\": \"blue\", \"size\": 0.5}, \"mode\": \"markers\", \"text\": \"Oracle BI appears with T-SQL 122 times\", \"x\": [0.15568580749190525], \"y\": [-0.8864321346530671], \"type\": \"scatter\", \"uid\": \"91692672-0297-4056-9719-ded163c64157\"}, {\"hoverinfo\": \"text\", \"marker\": {\"color\": \"green\", \"size\": 0.5}, \"mode\": \"markers\", \"text\": \"T-SQL appears with Python 46 times\", \"x\": [-0.785384997295787], \"y\": [0.43951155391263236], \"type\": \"scatter\", \"uid\": \"9641b2d7-7ab1-46cc-960c-06f75b0c1120\"}, {\"hoverinfo\": \"text\", \"marker\": {\"color\": \"blue\", \"size\": 0.5}, \"mode\": \"markers\", \"text\": \"Python appears with T-SQL 46 times\", \"x\": [0.623503942112148], \"y\": [-0.6490322289151835], \"type\": \"scatter\", \"uid\": \"d5f13e7e-e9b3-43f2-898d-63c13dfa496b\"}, {\"hoverinfo\": \"text\", \"marker\": {\"color\": \"green\", \"size\": 0.5}, \"mode\": \"markers\", \"text\": \"T-SQL appears with VBA 26 times\", \"x\": [-0.7611671350869487], \"y\": [0.4802338934972487], \"type\": \"scatter\", \"uid\": \"b2bbbefd-972b-4cb3-ba4f-97346a3aab49\"}, {\"hoverinfo\": \"text\", \"marker\": {\"color\": \"blue\", \"size\": 0.5}, \"mode\": \"markers\", \"text\": \"VBA appears with T-SQL 26 times\", \"x\": [0.8234326157922313], \"y\": [-0.3632612382976796], \"type\": \"scatter\", \"uid\": \"540912f3-4801-4908-8482-19f629ea3c40\"}, {\"hoverinfo\": \"text\", \"marker\": {\"color\": \"green\", \"size\": 0.5}, \"mode\": \"markers\", \"text\": \"T-SQL appears with Linux 23 times\", \"x\": [-0.7581303065543943], \"y\": [0.48501385370290206], \"type\": \"scatter\", \"uid\": \"6da2fdbd-2aec-413a-b2c7-16c43c78246c\"}, {\"hoverinfo\": \"text\", \"marker\": {\"color\": \"blue\", \"size\": 0.5}, \"mode\": \"markers\", \"text\": \"Linux appears with T-SQL 23 times\", \"x\": [0.8749395854624601], \"y\": [-0.21090453240928347], \"type\": \"scatter\", \"uid\": \"f1137f04-7d6c-40eb-9c29-c10bbc7f96d7\"}, {\"hoverinfo\": \"text\", \"marker\": {\"color\": \"green\", \"size\": 0.5}, \"mode\": \"markers\", \"text\": \"T-SQL appears with AWS 8 times\", \"x\": [-0.7494806837391859], \"y\": [0.49827573160032834], \"type\": \"scatter\", \"uid\": \"b7a2e97f-47c0-432f-826f-c459307c4e57\"}, {\"hoverinfo\": \"text\", \"marker\": {\"color\": \"blue\", \"size\": 0.5}, \"mode\": \"markers\", \"text\": \"AWS appears with T-SQL 8 times\", \"x\": [0.8947732996720682], \"y\": [-0.09685423167812174], \"type\": \"scatter\", \"uid\": \"bc07353f-f7f2-4a78-b033-05854909628e\"}, {\"hoverinfo\": \"text\", \"marker\": {\"color\": \"green\", \"size\": 0.5}, \"mode\": \"markers\", \"text\": \"PL/SQL appears with Pentaho 8 times\", \"x\": [-0.8630906114382284], \"y\": [0.25509722939927276], \"type\": \"scatter\", \"uid\": \"083785e0-2106-4a35-bb69-ff2bd84c9b9b\"}, {\"hoverinfo\": \"text\", \"marker\": {\"color\": \"blue\", \"size\": 0.5}, \"mode\": \"markers\", \"text\": \"Pentaho appears with PL/SQL 8 times\", \"x\": [-0.8810279802036889], \"y\": [0.1838197434940229], \"type\": \"scatter\", \"uid\": \"c3b7f7b3-62e9-473e-9609-1dfb5104b260\"}, {\"hoverinfo\": \"text\", \"marker\": {\"color\": \"green\", \"size\": 0.5}, \"mode\": \"markers\", \"text\": \"PL/SQL appears with Hadoop 3 times\", \"x\": [-0.8623384874711051], \"y\": [0.2576282846002099], \"type\": \"scatter\", \"uid\": \"d07d2803-fad9-41b7-afaf-8e68d8a1759e\"}, {\"hoverinfo\": \"text\", \"marker\": {\"color\": \"blue\", \"size\": 0.5}, \"mode\": \"markers\", \"text\": \"Hadoop appears with PL/SQL 3 times\", \"x\": [-0.898302002819935], \"y\": [0.05525858964625869], \"type\": \"scatter\", \"uid\": \"83011ec2-1e60-40f4-843d-6b6c8a5d983b\"}, {\"hoverinfo\": \"text\", \"marker\": {\"color\": \"green\", \"size\": 0.5}, \"mode\": \"markers\", \"text\": \"PL/SQL appears with Informatica 24 times\", \"x\": [-0.8663289629798256], \"y\": [0.24387317995691915], \"type\": \"scatter\", \"uid\": \"110a43f2-0ba1-4a5b-b656-8377b0b7088d\"}, {\"hoverinfo\": \"text\", \"marker\": {\"color\": \"blue\", \"size\": 0.5}, \"mode\": \"markers\", \"text\": \"Informatica appears with PL/SQL 24 times\", \"x\": [-0.8546560928739627], \"y\": [-0.28206907472002757], \"type\": \"scatter\", \"uid\": \"902ebed5-f064-4bba-9981-fb9a89289d26\"}, {\"hoverinfo\": \"text\", \"marker\": {\"color\": \"green\", \"size\": 0.5}, \"mode\": \"markers\", \"text\": \"PL/SQL appears with Qlik 12 times\", \"x\": [-0.8639923164714958], \"y\": [0.2520263420323731], \"type\": \"scatter\", \"uid\": \"b06265a9-e0ad-432b-a6ac-43dad59186f5\"}, {\"hoverinfo\": \"text\", \"marker\": {\"color\": \"blue\", \"size\": 0.5}, \"mode\": \"markers\", \"text\": \"Qlik appears with PL/SQL 12 times\", \"x\": [-0.7945910345172769], \"y\": [-0.4226406131274701], \"type\": \"scatter\", \"uid\": \"cc3d5917-1f0a-47b0-8357-12454d6768a0\"}, {\"hoverinfo\": \"text\", \"marker\": {\"color\": \"green\", \"size\": 0.5}, \"mode\": \"markers\", \"text\": \"PL/SQL appears with Tableau 15 times\", \"x\": [-0.8645947913336012], \"y\": [0.24995168892969455], \"type\": \"scatter\", \"uid\": \"2427cb87-accc-4820-b668-e6831efe031b\"}, {\"hoverinfo\": \"text\", \"marker\": {\"color\": \"blue\", \"size\": 0.5}, \"mode\": \"markers\", \"text\": \"Tableau appears with PL/SQL 15 times\", \"x\": [-0.5322988245155978], \"y\": [-0.7257120375323209], \"type\": \"scatter\", \"uid\": \"12cecb40-78e4-43cb-aeed-1110b3892e5a\"}, {\"hoverinfo\": \"text\", \"marker\": {\"color\": \"green\", \"size\": 0.5}, \"mode\": \"markers\", \"text\": \"PL/SQL appears with Microstrategy 20 times\", \"x\": [-0.8653683622461507], \"y\": [0.24726018204194358], \"type\": \"scatter\", \"uid\": \"96fc26a3-2bea-40f7-be8c-3b24f542be87\"}, {\"hoverinfo\": \"text\", \"marker\": {\"color\": \"blue\", \"size\": 0.5}, \"mode\": \"markers\", \"text\": \"Microstrategy appears with PL/SQL 20 times\", \"x\": [-0.048713482447571996], \"y\": [-0.8986806978164324], \"type\": \"scatter\", \"uid\": \"29f6738e-4da4-4a9f-b6fa-b19b75fc72be\"}, {\"hoverinfo\": \"text\", \"marker\": {\"color\": \"green\", \"size\": 0.5}, \"mode\": \"markers\", \"text\": \"PL/SQL appears with Oracle BI 74 times\", \"x\": [-0.872720304201826], \"y\": [0.21990741377650794], \"type\": \"scatter\", \"uid\": \"95c37919-fed2-451c-8e3c-5c3c3b6c71be\"}, {\"hoverinfo\": \"text\", \"marker\": {\"color\": \"blue\", \"size\": 0.5}, \"mode\": \"markers\", \"text\": \"Oracle BI appears with PL/SQL 74 times\", \"x\": [0.10241317863876248], \"y\": [-0.8941540923359379], \"type\": \"scatter\", \"uid\": \"fec96063-427f-4f06-9f08-fd731b597b8d\"}, {\"hoverinfo\": \"text\", \"marker\": {\"color\": \"green\", \"size\": 0.5}, \"mode\": \"markers\", \"text\": \"PL/SQL appears with Python 2 times\", \"x\": [-0.8622238816310442], \"y\": [0.2580115849048161], \"type\": \"scatter\", \"uid\": \"73b9d3fb-5b57-4abc-92f1-9850385df335\"}, {\"hoverinfo\": \"text\", \"marker\": {\"color\": \"blue\", \"size\": 0.5}, \"mode\": \"markers\", \"text\": \"Python appears with PL/SQL 2 times\", \"x\": [0.5875108934154428], \"y\": [-0.6817851201941769], \"type\": \"scatter\", \"uid\": \"e3c8ffff-8440-4923-9073-c705d7e38399\"}, {\"hoverinfo\": \"text\", \"marker\": {\"color\": \"green\", \"size\": 0.5}, \"mode\": \"markers\", \"text\": \"PL/SQL appears with VBA 6 times\", \"x\": [-0.8627724354635428], \"y\": [0.2561712798193955], \"type\": \"scatter\", \"uid\": \"489d5c9e-307b-4994-972e-ae2de99b8d77\"}, {\"hoverinfo\": \"text\", \"marker\": {\"color\": \"blue\", \"size\": 0.5}, \"mode\": \"markers\", \"text\": \"VBA appears with PL/SQL 6 times\", \"x\": [0.8214571876732712], \"y\": [-0.36770652539752396], \"type\": \"scatter\", \"uid\": \"bc033fd3-a03c-428f-bd39-ed391d14dfe8\"}, {\"hoverinfo\": \"text\", \"marker\": {\"color\": \"green\", \"size\": 0.5}, \"mode\": \"markers\", \"text\": \"PL/SQL appears with Linux 1 times\", \"x\": [-0.8621550363465611], \"y\": [0.25824154062090743], \"type\": \"scatter\", \"uid\": \"7bd0ee96-66dc-4086-b12b-56f492b50ad9\"}, {\"hoverinfo\": \"text\", \"marker\": {\"color\": \"blue\", \"size\": 0.5}, \"mode\": \"markers\", \"text\": \"Linux appears with PL/SQL 1 times\", \"x\": [0.8709657043451798], \"y\": [-0.22675701059615508], \"type\": \"scatter\", \"uid\": \"adaee625-4994-401e-bf49-c4f58eed5785\"}, {\"hoverinfo\": \"text\", \"marker\": {\"color\": \"green\", \"size\": 0.5}, \"mode\": \"markers\", \"text\": \"PL/SQL appears with AWS 1 times\", \"x\": [-0.8621091054180755], \"y\": [0.25839483422709053], \"type\": \"scatter\", \"uid\": \"61d6549d-db6e-4968-ad87-cfbc48d9f9d9\"}, {\"hoverinfo\": \"text\", \"marker\": {\"color\": \"blue\", \"size\": 0.5}, \"mode\": \"markers\", \"text\": \"AWS appears with PL/SQL 1 times\", \"x\": [0.8943967453723264], \"y\": [-0.10027193958127133], \"type\": \"scatter\", \"uid\": \"2a5aa491-d75c-4acc-b455-78a2fea5a20e\"}, {\"hoverinfo\": \"text\", \"marker\": {\"color\": \"green\", \"size\": 0.5}, \"mode\": \"markers\", \"text\": \"Pentaho appears with Spark 6 times\", \"x\": [-0.8807369742779018], \"y\": [0.18520902283583962], \"type\": \"scatter\", \"uid\": \"ce206e80-6de0-407e-828b-d536ee307ed5\"}, {\"hoverinfo\": \"text\", \"marker\": {\"color\": \"blue\", \"size\": 0.5}, \"mode\": \"markers\", \"text\": \"Spark appears with Pentaho 6 times\", \"x\": [-0.8942107705735105], \"y\": [-0.10191711235277649], \"type\": \"scatter\", \"uid\": \"54159245-6d34-4ab3-826f-61e45c6a821b\"}, {\"hoverinfo\": \"text\", \"marker\": {\"color\": \"green\", \"size\": 0.5}, \"mode\": \"markers\", \"text\": \"Pentaho appears with Informatica 32 times\", \"x\": [-0.8861044514268389], \"y\": [0.15754015729819779], \"type\": \"scatter\", \"uid\": \"e630bbc5-35d2-4eac-a735-35cde0b3a68f\"}, {\"hoverinfo\": \"text\", \"marker\": {\"color\": \"blue\", \"size\": 0.5}, \"mode\": \"markers\", \"text\": \"Informatica appears with Pentaho 32 times\", \"x\": [-0.8527359903384478], \"y\": [-0.28782169963626214], \"type\": \"scatter\", \"uid\": \"51bc30da-6b1a-4bb6-bfe1-1cd3ee56ed58\"}, {\"hoverinfo\": \"text\", \"marker\": {\"color\": \"green\", \"size\": 0.5}, \"mode\": \"markers\", \"text\": \"Pentaho appears with Qlik 28 times\", \"x\": [-0.882609161977617], \"y\": [0.17607119921545614], \"type\": \"scatter\", \"uid\": \"18a3ce3b-065b-4226-826a-5b093e97b7e0\"}, {\"hoverinfo\": \"text\", \"marker\": {\"color\": \"blue\", \"size\": 0.5}, \"mode\": \"markers\", \"text\": \"Qlik appears with Pentaho 28 times\", \"x\": [-0.7872510475826097], \"y\": [-0.43616027797139395], \"type\": \"scatter\", \"uid\": \"bce20218-24b6-414a-96b7-e8cae31c131d\"}, {\"hoverinfo\": \"text\", \"marker\": {\"color\": \"green\", \"size\": 0.5}, \"mode\": \"markers\", \"text\": \"Pentaho appears with Tableau 36 times\", \"x\": [-0.8884140088042907], \"y\": [0.1439463405588684], \"type\": \"scatter\", \"uid\": \"d782bba9-b57a-437c-a668-d761ce896ffd\"}, {\"hoverinfo\": \"text\", \"marker\": {\"color\": \"blue\", \"size\": 0.5}, \"mode\": \"markers\", \"text\": \"Tableau appears with Pentaho 36 times\", \"x\": [-0.5074794557943827], \"y\": [-0.7432796256770645], \"type\": \"scatter\", \"uid\": \"eb9bc2df-6338-45fc-b1bc-8f9394403fc3\"}, {\"hoverinfo\": \"text\", \"marker\": {\"color\": \"green\", \"size\": 0.5}, \"mode\": \"markers\", \"text\": \"Pentaho appears with Microstrategy 3 times\", \"x\": [-0.8805487421537542], \"y\": [0.1861018879308891], \"type\": \"scatter\", \"uid\": \"8be0c305-0aed-4273-904e-4560da02b570\"}, {\"hoverinfo\": \"text\", \"marker\": {\"color\": \"blue\", \"size\": 0.5}, \"mode\": \"markers\", \"text\": \"Microstrategy appears with Pentaho 3 times\", \"x\": [-0.06354957624546338], \"y\": [-0.8977535582547262], \"type\": \"scatter\", \"uid\": \"3bb3ee61-1f4d-4300-bdb8-b685ae4ddd08\"}, {\"hoverinfo\": \"text\", \"marker\": {\"color\": \"green\", \"size\": 0.5}, \"mode\": \"markers\", \"text\": \"Pentaho appears with Oracle BI 36 times\", \"x\": [-0.8895523253233858], \"y\": [0.1367357323882723], \"type\": \"scatter\", \"uid\": \"76f186a1-57bc-4f57-aef5-b6ecab497e65\"}, {\"hoverinfo\": \"text\", \"marker\": {\"color\": \"blue\", \"size\": 0.5}, \"mode\": \"markers\", \"text\": \"Oracle BI appears with Pentaho 36 times\", \"x\": [0.03693361355626729], \"y\": [-0.8992418518895104], \"type\": \"scatter\", \"uid\": \"782a9ede-e066-404a-ae7d-0311c3efc0e0\"}, {\"hoverinfo\": \"text\", \"marker\": {\"color\": \"green\", \"size\": 0.5}, \"mode\": \"markers\", \"text\": \"Pentaho appears with Python 34 times\", \"x\": [-0.8872512768864519], \"y\": [0.15094757919013044], \"type\": \"scatter\", \"uid\": \"ecd20f42-9ac8-4938-a2ce-67faa91eac16\"}, {\"hoverinfo\": \"text\", \"marker\": {\"color\": \"blue\", \"size\": 0.5}, \"mode\": \"markers\", \"text\": \"Python appears with Pentaho 34 times\", \"x\": [0.6017281139133377], \"y\": [-0.669270705265289], \"type\": \"scatter\", \"uid\": \"e746788a-0a40-403d-b0a0-987cf5d74137\"}, {\"hoverinfo\": \"text\", \"marker\": {\"color\": \"green\", \"size\": 0.5}, \"mode\": \"markers\", \"text\": \"Pentaho appears with VBA 1 times\", \"x\": [-0.880464792875196], \"y\": [0.18649865551053815], \"type\": \"scatter\", \"uid\": \"d4dc46a3-0b67-4b08-8606-64a1201e65f3\"}, {\"hoverinfo\": \"text\", \"marker\": {\"color\": \"blue\", \"size\": 0.5}, \"mode\": \"markers\", \"text\": \"VBA appears with Pentaho 1 times\", \"x\": [0.8190637680544761], \"y\": [-0.37300743137423337], \"type\": \"scatter\", \"uid\": \"1d39d3a6-7ff6-4606-b3db-3fb0ca63c393\"}, {\"hoverinfo\": \"text\", \"marker\": {\"color\": \"green\", \"size\": 0.5}, \"mode\": \"markers\", \"text\": \"Pentaho appears with Linux 32 times\", \"x\": [-0.8849455973004985], \"y\": [0.16392464676937402], \"type\": \"scatter\", \"uid\": \"b67b1bdf-37eb-49d8-9a69-1bbf71c8a6fc\"}, {\"hoverinfo\": \"text\", \"marker\": {\"color\": \"blue\", \"size\": 0.5}, \"mode\": \"markers\", \"text\": \"Linux appears with Pentaho 32 times\", \"x\": [0.8762232033685599], \"y\": [-0.20550644242587507], \"type\": \"scatter\", \"uid\": \"f7311811-3ac8-4006-b440-02766a738196\"}, {\"hoverinfo\": \"text\", \"marker\": {\"color\": \"green\", \"size\": 0.5}, \"mode\": \"markers\", \"text\": \"Pentaho appears with AWS 13 times\", \"x\": [-0.8817865162272668], \"y\": [0.1801458847705943], \"type\": \"scatter\", \"uid\": \"354ec489-f7cf-4133-ac3f-c3cdb34b1fa1\"}, {\"hoverinfo\": \"text\", \"marker\": {\"color\": \"blue\", \"size\": 0.5}, \"mode\": \"markers\", \"text\": \"AWS appears with Pentaho 13 times\", \"x\": [0.8951560703215898], \"y\": [-0.09325025343884548], \"type\": \"scatter\", \"uid\": \"ed514f8a-8b1a-4704-aa13-4764a129755f\"}, {\"hoverinfo\": \"text\", \"marker\": {\"color\": \"green\", \"size\": 0.5}, \"mode\": \"markers\", \"text\": \"Hadoop appears with Spark 110 times\", \"x\": [-0.8993713186519213], \"y\": [-0.033633780434323496], \"type\": \"scatter\", \"uid\": \"97b441b0-fafb-4193-8c6f-cc19d024201a\"}, {\"hoverinfo\": \"text\", \"marker\": {\"color\": \"blue\", \"size\": 0.5}, \"mode\": \"markers\", \"text\": \"Spark appears with Hadoop 110 times\", \"x\": [-0.879130316807942], \"y\": [-0.19269116759511237], \"type\": \"scatter\", \"uid\": \"250518d5-b982-4667-9d21-2b5e42eecab1\"}, {\"hoverinfo\": \"text\", \"marker\": {\"color\": \"green\", \"size\": 0.5}, \"mode\": \"markers\", \"text\": \"Hadoop appears with Informatica 5 times\", \"x\": [-0.8984043005581092], \"y\": [0.05356969981897168], \"type\": \"scatter\", \"uid\": \"7457d843-a975-43a4-92dd-ddba6fde9106\"}, {\"hoverinfo\": \"text\", \"marker\": {\"color\": \"blue\", \"size\": 0.5}, \"mode\": \"markers\", \"text\": \"Informatica appears with Hadoop 5 times\", \"x\": [-0.862041001782077], \"y\": [-0.25862194656786786], \"type\": \"scatter\", \"uid\": \"21e2c8aa-74d4-4e75-ab7e-d1d173f7372a\"}, {\"hoverinfo\": \"text\", \"marker\": {\"color\": \"green\", \"size\": 0.5}, \"mode\": \"markers\", \"text\": \"Hadoop appears with Qlik 9 times\", \"x\": [-0.898563761983027], \"y\": [0.05082485268950691], \"type\": \"scatter\", \"uid\": \"a2c97bb3-6410-4087-8a69-594c92446ab8\"}, {\"hoverinfo\": \"text\", \"marker\": {\"color\": \"blue\", \"size\": 0.5}, \"mode\": \"markers\", \"text\": \"Qlik appears with Hadoop 9 times\", \"x\": [-0.7957731388721303], \"y\": [-0.4204106462134342], \"type\": \"scatter\", \"uid\": \"12f1d51c-d28e-45dc-85ae-c58be84f7d8a\"}, {\"hoverinfo\": \"text\", \"marker\": {\"color\": \"green\", \"size\": 0.5}, \"mode\": \"markers\", \"text\": \"Hadoop appears with Tableau 35 times\", \"x\": [-0.899778382638563], \"y\": [0.019971533149255583], \"type\": \"scatter\", \"uid\": \"af9a8424-0ae6-492b-8d0a-4b93a0e5ce57\"}, {\"hoverinfo\": \"text\", \"marker\": {\"color\": \"blue\", \"size\": 0.5}, \"mode\": \"markers\", \"text\": \"Tableau appears with Hadoop 35 times\", \"x\": [-0.5146167542264511], \"y\": [-0.7383560091645713], \"type\": \"scatter\", \"uid\": \"226b4ac6-56ac-4e0e-8f2d-3431df128066\"}, {\"hoverinfo\": \"text\", \"marker\": {\"color\": \"green\", \"size\": 0.5}, \"mode\": \"markers\", \"text\": \"Hadoop appears with Microstrategy 3 times\", \"x\": [-0.8982231959661549], \"y\": [0.05652512917585098], \"type\": \"scatter\", \"uid\": \"86167ac5-85b6-4ecd-a5d4-800eda1a8bf1\"}, {\"hoverinfo\": \"text\", \"marker\": {\"color\": \"blue\", \"size\": 0.5}, \"mode\": \"markers\", \"text\": \"Microstrategy appears with Hadoop 3 times\", \"x\": [-0.06307379943636426], \"y\": [-0.8977871105249068], \"type\": \"scatter\", \"uid\": \"e9285d01-f8b8-4717-89b7-ad7024c1a6c6\"}, {\"hoverinfo\": \"text\", \"marker\": {\"color\": \"green\", \"size\": 0.5}, \"mode\": \"markers\", \"text\": \"Hadoop appears with Oracle BI 32 times\", \"x\": [-0.8995932779046772], \"y\": [0.02705428521913483], \"type\": \"scatter\", \"uid\": \"324ebee5-ac44-42d3-885f-0fbc9d35fccd\"}, {\"hoverinfo\": \"text\", \"marker\": {\"color\": \"blue\", \"size\": 0.5}, \"mode\": \"markers\", \"text\": \"Oracle BI appears with Hadoop 32 times\", \"x\": [0.02014898635018707], \"y\": [-0.8997744263697763], \"type\": \"scatter\", \"uid\": \"58adfbc0-3c2a-48a1-9968-977e9644e2fc\"}, {\"hoverinfo\": \"text\", \"marker\": {\"color\": \"green\", \"size\": 0.5}, \"mode\": \"markers\", \"text\": \"Hadoop appears with Python 118 times\", \"x\": [-0.8981476688736261], \"y\": [-0.05771277932028107], \"type\": \"scatter\", \"uid\": \"0b23a5b7-f017-44c0-be0f-61b243b98242\"}, {\"hoverinfo\": \"text\", \"marker\": {\"color\": \"blue\", \"size\": 0.5}, \"mode\": \"markers\", \"text\": \"Python appears with Hadoop 118 times\", \"x\": [0.7126047342469612], \"y\": [-0.5497221959579381], \"type\": \"scatter\", \"uid\": \"6fc7aff8-2f84-4a4d-9336-d203faadd059\"}, {\"hoverinfo\": \"text\", \"marker\": {\"color\": \"green\", \"size\": 0.5}, \"mode\": \"markers\", \"text\": \"Hadoop appears with VBA 6 times\", \"x\": [-0.8984727883731085], \"y\": [0.052408477873827734], \"type\": \"scatter\", \"uid\": \"3a8d5078-4cc2-4433-bec8-3f6442a5d780\"}, {\"hoverinfo\": \"text\", \"marker\": {\"color\": \"blue\", \"size\": 0.5}, \"mode\": \"markers\", \"text\": \"VBA appears with Hadoop 6 times\", \"x\": [0.8209379095695067], \"y\": [-0.36886440412656835], \"type\": \"scatter\", \"uid\": \"4d0e72f0-33c8-4ceb-8bf7-15ae68f1c834\"}, {\"hoverinfo\": \"text\", \"marker\": {\"color\": \"green\", \"size\": 0.5}, \"mode\": \"markers\", \"text\": \"Hadoop appears with Linux 71 times\", \"x\": [-0.8998831803848873], \"y\": [-0.014500402076504638], \"type\": \"scatter\", \"uid\": \"567c4999-4370-49f4-8201-a5bef221c370\"}, {\"hoverinfo\": \"text\", \"marker\": {\"color\": \"blue\", \"size\": 0.5}, \"mode\": \"markers\", \"text\": \"Linux appears with Hadoop 71 times\", \"x\": [0.8872710060885762], \"y\": [-0.15083156750019447], \"type\": \"scatter\", \"uid\": \"c7aaf5d5-523c-40b9-8917-e006ad3e853d\"}, {\"hoverinfo\": \"text\", \"marker\": {\"color\": \"green\", \"size\": 0.5}, \"mode\": \"markers\", \"text\": \"Hadoop appears with AWS 40 times\", \"x\": [-0.8999194403405991], \"y\": [0.012041631827239937], \"type\": \"scatter\", \"uid\": \"947ffbe1-d517-4f6a-8fd7-023b364c50b4\"}, {\"hoverinfo\": \"text\", \"marker\": {\"color\": \"blue\", \"size\": 0.5}, \"mode\": \"markers\", \"text\": \"AWS appears with Hadoop 40 times\", \"x\": [0.8972429526664681], \"y\": [-0.07039235676092959], \"type\": \"scatter\", \"uid\": \"2f70f62f-3a1a-492e-b5dc-23a32424d9b5\"}, {\"hoverinfo\": \"text\", \"marker\": {\"color\": \"green\", \"size\": 0.5}, \"mode\": \"markers\", \"text\": \"Spark appears with Informatica 10 times\", \"x\": [-0.8940156592739703], \"y\": [-0.10361467547084388], \"type\": \"scatter\", \"uid\": \"a56a443b-6003-47c1-93ad-a17c0c10be76\"}, {\"hoverinfo\": \"text\", \"marker\": {\"color\": \"blue\", \"size\": 0.5}, \"mode\": \"markers\", \"text\": \"Informatica appears with Spark 10 times\", \"x\": [-0.8606913118010694], \"y\": [-0.26307882048951514], \"type\": \"scatter\", \"uid\": \"b9105d58-d25d-4387-ba5b-6c9ecb4f7900\"}, {\"hoverinfo\": \"text\", \"marker\": {\"color\": \"green\", \"size\": 0.5}, \"mode\": \"markers\", \"text\": \"Spark appears with Qlik 15 times\", \"x\": [-0.8937043465654373], \"y\": [-0.10626636782183155], \"type\": \"scatter\", \"uid\": \"f78cbb26-93b2-4cf0-9bc2-025dbc4cc087\"}, {\"hoverinfo\": \"text\", \"marker\": {\"color\": \"blue\", \"size\": 0.5}, \"mode\": \"markers\", \"text\": \"Qlik appears with Spark 15 times\", \"x\": [-0.7915798621674021], \"y\": [-0.4282538053666736], \"type\": \"scatter\", \"uid\": \"7b64510d-6220-4844-bb64-fb1091fc2ab9\"}, {\"hoverinfo\": \"text\", \"marker\": {\"color\": \"green\", \"size\": 0.5}, \"mode\": \"markers\", \"text\": \"Spark appears with Tableau 33 times\", \"x\": [-0.8899374034573406], \"y\": [-0.13420662400793196], \"type\": \"scatter\", \"uid\": \"2d299df1-dd96-4e90-a138-ade3f8f4713a\"}, {\"hoverinfo\": \"text\", \"marker\": {\"color\": \"blue\", \"size\": 0.5}, \"mode\": \"markers\", \"text\": \"Tableau appears with Spark 33 times\", \"x\": [-0.5214077041717234], \"y\": [-0.7335761760242576], \"type\": \"scatter\", \"uid\": \"3e92617b-d627-44e5-9bd5-43c9c815fe4f\"}, {\"hoverinfo\": \"text\", \"marker\": {\"color\": \"green\", \"size\": 0.5}, \"mode\": \"markers\", \"text\": \"Spark appears with Microstrategy 3 times\", \"x\": [-0.894579625427696], \"y\": [-0.0986270438046437], \"type\": \"scatter\", \"uid\": \"ad18543b-9d7a-4b1f-8210-d3f0d9105606\"}, {\"hoverinfo\": \"text\", \"marker\": {\"color\": \"blue\", \"size\": 0.5}, \"mode\": \"markers\", \"text\": \"Microstrategy appears with Spark 3 times\", \"x\": [-0.06402533520660071], \"y\": [-0.8977197538495421], \"type\": \"scatter\", \"uid\": \"a5b70f13-d511-47d3-8607-67e6e1b981dd\"}, {\"hoverinfo\": \"text\", \"marker\": {\"color\": \"green\", \"size\": 0.5}, \"mode\": \"markers\", \"text\": \"Spark appears with Oracle BI 27 times\", \"x\": [-0.8908703568561915], \"y\": [-0.1278671469726371], \"type\": \"scatter\", \"uid\": \"54dc4d1f-8021-4d3d-8970-5bb4bb281cc4\"}, {\"hoverinfo\": \"text\", \"marker\": {\"color\": \"blue\", \"size\": 0.5}, \"mode\": \"markers\", \"text\": \"Oracle BI appears with Spark 27 times\", \"x\": [0.012864895261718539], \"y\": [-0.8999080477859419], \"type\": \"scatter\", \"uid\": \"8db68e40-3ce5-4cb4-9c80-ca9a6bc7a955\"}, {\"hoverinfo\": \"text\", \"marker\": {\"color\": \"green\", \"size\": 0.5}, \"mode\": \"markers\", \"text\": \"Spark appears with Python 126 times\", \"x\": [-0.8733901302184043], \"y\": [-0.2172318587064954], \"type\": \"scatter\", \"uid\": \"2865bcd9-3715-4418-af2e-4f388586ef58\"}, {\"hoverinfo\": \"text\", \"marker\": {\"color\": \"blue\", \"size\": 0.5}, \"mode\": \"markers\", \"text\": \"Python appears with Spark 126 times\", \"x\": [0.730091436409912], \"y\": [-0.5262760629944245], \"type\": \"scatter\", \"uid\": \"ed2a8ef7-8070-4be8-81e2-2399a7adffa2\"}, {\"hoverinfo\": \"text\", \"marker\": {\"color\": \"green\", \"size\": 0.5}, \"mode\": \"markers\", \"text\": \"Spark appears with VBA 6 times\", \"x\": [-0.8943549887682348], \"y\": [-0.10064369858749521], \"type\": \"scatter\", \"uid\": \"3e321ec1-da64-42dc-b250-efbf136ca2d2\"}, {\"hoverinfo\": \"text\", \"marker\": {\"color\": \"blue\", \"size\": 0.5}, \"mode\": \"markers\", \"text\": \"VBA appears with Spark 6 times\", \"x\": [0.8204169993875635], \"y\": [-0.3700215495290871], \"type\": \"scatter\", \"uid\": \"d71b7077-1784-40b5-b5cb-d5b9aa52630d\"}, {\"hoverinfo\": \"text\", \"marker\": {\"color\": \"green\", \"size\": 0.5}, \"mode\": \"markers\", \"text\": \"Spark appears with Linux 54 times\", \"x\": [-0.8856601974016752], \"y\": [-0.1600187949536733], \"type\": \"scatter\", \"uid\": \"01cfbc34-dba3-4f79-9a4d-11506403973a\"}, {\"hoverinfo\": \"text\", \"marker\": {\"color\": \"blue\", \"size\": 0.5}, \"mode\": \"markers\", \"text\": \"Linux appears with Spark 54 times\", \"x\": [0.8825978162891435], \"y\": [-0.17612806329950753], \"type\": \"scatter\", \"uid\": \"65a991e5-c35c-41af-a933-185f12aeaa02\"}, {\"hoverinfo\": \"text\", \"marker\": {\"color\": \"green\", \"size\": 0.5}, \"mode\": \"markers\", \"text\": \"Spark appears with AWS 43 times\", \"x\": [-0.8874433461092637], \"y\": [-0.14981424313593703], \"type\": \"scatter\", \"uid\": \"573c880b-cf9c-4e0c-895a-545857e3db61\"}, {\"hoverinfo\": \"text\", \"marker\": {\"color\": \"blue\", \"size\": 0.5}, \"mode\": \"markers\", \"text\": \"AWS appears with Spark 43 times\", \"x\": [0.8978132693382869], \"y\": [-0.06270034609232085], \"type\": \"scatter\", \"uid\": \"49dc018a-e4e9-4b14-8a11-64b2db5ef5d6\"}, {\"hoverinfo\": \"text\", \"marker\": {\"color\": \"green\", \"size\": 0.5}, \"mode\": \"markers\", \"text\": \"Informatica appears with Qlik 91 times\", \"x\": [-0.8343341838483553], \"y\": [-0.33747069452338957], \"type\": \"scatter\", \"uid\": \"7dd82ad4-d769-4b98-9668-fe58a9546542\"}, {\"hoverinfo\": \"text\", \"marker\": {\"color\": \"blue\", \"size\": 0.5}, \"mode\": \"markers\", \"text\": \"Qlik appears with Informatica 91 times\", \"x\": [-0.7443877399442599], \"y\": [-0.5058526392346657], \"type\": \"scatter\", \"uid\": \"82a862de-ddc8-49fc-9d02-29310c5e837f\"}, {\"hoverinfo\": \"text\", \"marker\": {\"color\": \"green\", \"size\": 0.5}, \"mode\": \"markers\", \"text\": \"Informatica appears with Tableau 64 times\", \"x\": [-0.840482910673659], \"y\": [-0.32185163797242705], \"type\": \"scatter\", \"uid\": \"1851dba7-9178-4f50-887e-95a6d2000955\"}, {\"hoverinfo\": \"text\", \"marker\": {\"color\": \"blue\", \"size\": 0.5}, \"mode\": \"markers\", \"text\": \"Tableau appears with Informatica 64 times\", \"x\": [-0.46953797492764654], \"y\": [-0.7678112333776088], \"type\": \"scatter\", \"uid\": \"2412729a-7175-49c0-87ef-10dd6e60c244\"}, {\"hoverinfo\": \"text\", \"marker\": {\"color\": \"green\", \"size\": 0.5}, \"mode\": \"markers\", \"text\": \"Informatica appears with Microstrategy 11 times\", \"x\": [-0.8593829377616787], \"y\": [-0.26732184026769445], \"type\": \"scatter\", \"uid\": \"ca22155c-2e4f-48f4-91f4-b9c29e9b5ceb\"}, {\"hoverinfo\": \"text\", \"marker\": {\"color\": \"blue\", \"size\": 0.5}, \"mode\": \"markers\", \"text\": \"Microstrategy appears with Informatica 11 times\", \"x\": [-0.05879102704543696], \"y\": [-0.8980777333499271], \"type\": \"scatter\", \"uid\": \"9a9aace2-8c97-40f8-af91-b041bf1bcd36\"}, {\"hoverinfo\": \"text\", \"marker\": {\"color\": \"green\", \"size\": 0.5}, \"mode\": \"markers\", \"text\": \"Informatica appears with Oracle BI 123 times\", \"x\": [-0.8152142354534037], \"y\": [-0.3813472830821304], \"type\": \"scatter\", \"uid\": \"da322e4b-0c01-4f00-8229-19c2d2091d32\"}, {\"hoverinfo\": \"text\", \"marker\": {\"color\": \"blue\", \"size\": 0.5}, \"mode\": \"markers\", \"text\": \"Oracle BI appears with Informatica 123 times\", \"x\": [0.18538884683003445], \"y\": [-0.8806991401557231], \"type\": \"scatter\", \"uid\": \"e6e3f609-1438-473d-8514-411078e27e26\"}, {\"hoverinfo\": \"text\", \"marker\": {\"color\": \"green\", \"size\": 0.5}, \"mode\": \"markers\", \"text\": \"Informatica appears with Python 24 times\", \"x\": [-0.8562710109595896], \"y\": [-0.2771280494468984], \"type\": \"scatter\", \"uid\": \"3bbfbd69-fbfb-4265-9e5f-d2e5f70f9b17\"}, {\"hoverinfo\": \"text\", \"marker\": {\"color\": \"blue\", \"size\": 0.5}, \"mode\": \"markers\", \"text\": \"Python appears with Informatica 24 times\", \"x\": [0.5965397618573152], \"y\": [-0.6738993341169124], \"type\": \"scatter\", \"uid\": \"30b8af40-b85b-41c3-90f6-680df9cb156e\"}, {\"hoverinfo\": \"text\", \"marker\": {\"color\": \"green\", \"size\": 0.5}, \"mode\": \"markers\", \"text\": \"Informatica appears with VBA 3 times\", \"x\": [-0.8622895617027748], \"y\": [-0.25779199323958174], \"type\": \"scatter\", \"uid\": \"108c1a41-7d70-454e-bfc9-dc3de2d3c584\"}, {\"hoverinfo\": \"text\", \"marker\": {\"color\": \"blue\", \"size\": 0.5}, \"mode\": \"markers\", \"text\": \"VBA appears with Informatica 3 times\", \"x\": [0.8192389895617007], \"y\": [-0.37262243354624225], \"type\": \"scatter\", \"uid\": \"744c4923-4ad6-4b43-b61c-9943652a53e3\"}, {\"hoverinfo\": \"text\", \"marker\": {\"color\": \"green\", \"size\": 0.5}, \"mode\": \"markers\", \"text\": \"Informatica appears with Linux 6 times\", \"x\": [-0.8616979275994373], \"y\": [-0.2597627409210852], \"type\": \"scatter\", \"uid\": \"bbdf713a-60a3-4e9b-ac2a-d8bbabf86a9c\"}, {\"hoverinfo\": \"text\", \"marker\": {\"color\": \"blue\", \"size\": 0.5}, \"mode\": \"markers\", \"text\": \"Linux appears with Informatica 6 times\", \"x\": [0.8717985354826701], \"y\": [-0.22353369663268152], \"type\": \"scatter\", \"uid\": \"f44a2577-a0ba-4a1b-b657-a482fe182467\"}, {\"hoverinfo\": \"text\", \"marker\": {\"color\": \"green\", \"size\": 0.5}, \"mode\": \"markers\", \"text\": \"Informatica appears with AWS 18 times\", \"x\": [-0.8576606336320566], \"y\": [-0.2727970628834911], \"type\": \"scatter\", \"uid\": \"16baa1e9-fbea-4d16-8cb6-e11b3bc48fa2\"}, {\"hoverinfo\": \"text\", \"marker\": {\"color\": \"blue\", \"size\": 0.5}, \"mode\": \"markers\", \"text\": \"AWS appears with Informatica 18 times\", \"x\": [0.8954499692108613], \"y\": [-0.09038447123409916], \"type\": \"scatter\", \"uid\": \"ad3bf4aa-2e9d-448b-811e-8be3fc151ab2\"}, {\"hoverinfo\": \"text\", \"marker\": {\"color\": \"green\", \"size\": 0.5}, \"mode\": \"markers\", \"text\": \"Qlik appears with Tableau 308 times\", \"x\": [-0.650242268110653], \"y\": [-0.6222419085551163], \"type\": \"scatter\", \"uid\": \"27a7a244-b871-4f11-b0e1-98c88cac7494\"}, {\"hoverinfo\": \"text\", \"marker\": {\"color\": \"blue\", \"size\": 0.5}, \"mode\": \"markers\", \"text\": \"Tableau appears with Qlik 308 times\", \"x\": [-0.30601962057750365], \"y\": [-0.8463757982253514], \"type\": \"scatter\", \"uid\": \"aef49850-fff4-4d38-9459-48945424758b\"}, {\"hoverinfo\": \"text\", \"marker\": {\"color\": \"green\", \"size\": 0.5}, \"mode\": \"markers\", \"text\": \"Qlik appears with Microstrategy 28 times\", \"x\": [-0.7839673470068631], \"y\": [-0.4420352913818317], \"type\": \"scatter\", \"uid\": \"81ef0ee8-e48a-4db4-8d8a-dfa3887410ab\"}, {\"hoverinfo\": \"text\", \"marker\": {\"color\": \"blue\", \"size\": 0.5}, \"mode\": \"markers\", \"text\": \"Microstrategy appears with Qlik 28 times\", \"x\": [-0.04140931270777455], \"y\": [-0.8990468668657212], \"type\": \"scatter\", \"uid\": \"d653526d-54ff-4140-9bc2-84904dab8161\"}, {\"hoverinfo\": \"text\", \"marker\": {\"color\": \"green\", \"size\": 0.5}, \"mode\": \"markers\", \"text\": \"Qlik appears with Oracle BI 286 times\", \"x\": [-0.6975039381962463], \"y\": [-0.5687602800835576], \"type\": \"scatter\", \"uid\": \"7c2fa171-59e6-4260-a253-55fcac3311c9\"}, {\"hoverinfo\": \"text\", \"marker\": {\"color\": \"blue\", \"size\": 0.5}, \"mode\": \"markers\", \"text\": \"Oracle BI appears with Qlik 286 times\", \"x\": [0.34908211158221175], \"y\": [-0.829543054562754], \"type\": \"scatter\", \"uid\": \"9c06c753-3277-4bc2-8621-29632a94522c\"}, {\"hoverinfo\": \"text\", \"marker\": {\"color\": \"green\", \"size\": 0.5}, \"mode\": \"markers\", \"text\": \"Qlik appears with Python 38 times\", \"x\": [-0.7765405423950109], \"y\": [-0.45495580666352875], \"type\": \"scatter\", \"uid\": \"41c14efa-5050-4ee7-93a1-ac4983fa40b5\"}, {\"hoverinfo\": \"text\", \"marker\": {\"color\": \"blue\", \"size\": 0.5}, \"mode\": \"markers\", \"text\": \"Python appears with Qlik 38 times\", \"x\": [0.6081188302569456], \"y\": [-0.663469282097464], \"type\": \"scatter\", \"uid\": \"68896b32-65d7-48db-bcd7-b8d8477873a0\"}, {\"hoverinfo\": \"text\", \"marker\": {\"color\": \"green\", \"size\": 0.5}, \"mode\": \"markers\", \"text\": \"Qlik appears with VBA 29 times\", \"x\": [-0.7805799860876282], \"y\": [-0.4479898272499478], \"type\": \"scatter\", \"uid\": \"3c938f5e-6f43-4210-add2-407132985f23\"}, {\"hoverinfo\": \"text\", \"marker\": {\"color\": \"blue\", \"size\": 0.5}, \"mode\": \"markers\", \"text\": \"VBA appears with Qlik 29 times\", \"x\": [0.8280173841254379], \"y\": [-0.3526857121943941], \"type\": \"scatter\", \"uid\": \"4d8ed724-6e91-43f1-8874-46d0ddef90b7\"}, {\"hoverinfo\": \"text\", \"marker\": {\"color\": \"green\", \"size\": 0.5}, \"mode\": \"markers\", \"text\": \"Qlik appears with Linux 2 times\", \"x\": [-0.79638983935944], \"y\": [-0.4192412476904502], \"type\": \"scatter\", \"uid\": \"ed9e6ff0-8746-450d-9346-f209fe6a96cc\"}, {\"hoverinfo\": \"text\", \"marker\": {\"color\": \"blue\", \"size\": 0.5}, \"mode\": \"markers\", \"text\": \"Linux appears with Qlik 2 times\", \"x\": [0.8710419089005055], \"y\": [-0.2264641096045099], \"type\": \"scatter\", \"uid\": \"88dfd461-d6b3-47eb-b7e3-a9ad4d96ad01\"}, {\"hoverinfo\": \"text\", \"marker\": {\"color\": \"green\", \"size\": 0.5}, \"mode\": \"markers\", \"text\": \"Qlik appears with AWS 2 times\", \"x\": [-0.7966136680913515], \"y\": [-0.4188157874412593], \"type\": \"scatter\", \"uid\": \"ec963f36-faee-4bb6-a2c7-128717fd93f7\"}, {\"hoverinfo\": \"text\", \"marker\": {\"color\": \"blue\", \"size\": 0.5}, \"mode\": \"markers\", \"text\": \"AWS appears with Qlik 2 times\", \"x\": [0.8944689867914427], \"y\": [-0.09962545692888927], \"type\": \"scatter\", \"uid\": \"0648696d-2e29-49cf-a922-5aaf5671ccdd\"}, {\"hoverinfo\": \"text\", \"marker\": {\"color\": \"green\", \"size\": 0.5}, \"mode\": \"markers\", \"text\": \"Tableau appears with Microstrategy 40 times\", \"x\": [-0.4920420949254997], \"y\": [-0.7535878029940013], \"type\": \"scatter\", \"uid\": \"23ec54ce-384f-4d47-9118-3a179856c98d\"}, {\"hoverinfo\": \"text\", \"marker\": {\"color\": \"blue\", \"size\": 0.5}, \"mode\": \"markers\", \"text\": \"Microstrategy appears with Tableau 40 times\", \"x\": [-0.030765870422581453], \"y\": [-0.8994739914067227], \"type\": \"scatter\", \"uid\": \"15de75e6-574b-404d-bd63-e8b824ef54ff\"}, {\"hoverinfo\": \"text\", \"marker\": {\"color\": \"green\", \"size\": 0.5}, \"mode\": \"markers\", \"text\": \"Tableau appears with Oracle BI 358 times\", \"x\": [-0.22838603071940472], \"y\": [-0.8705399594345082], \"type\": \"scatter\", \"uid\": \"5bea8eeb-5ff1-4554-8932-b25cda6a9163\"}, {\"hoverinfo\": \"text\", \"marker\": {\"color\": \"blue\", \"size\": 0.5}, \"mode\": \"markers\", \"text\": \"Oracle BI appears with Tableau 358 times\", \"x\": [0.4209209658755803], \"y\": [-0.7955033252516098], \"type\": \"scatter\", \"uid\": \"06ce40ca-3961-4a5a-adb1-662dca464c73\"}, {\"hoverinfo\": \"text\", \"marker\": {\"color\": \"green\", \"size\": 0.5}, \"mode\": \"markers\", \"text\": \"Tableau appears with Python 106 times\", \"x\": [-0.41423708143202886], \"y\": [-0.7990041554126454], \"type\": \"scatter\", \"uid\": \"cf906e82-9ee6-48ec-b741-209ff361948b\"}, {\"hoverinfo\": \"text\", \"marker\": {\"color\": \"blue\", \"size\": 0.5}, \"mode\": \"markers\", \"text\": \"Python appears with Tableau 106 times\", \"x\": [0.6958882802977306], \"y\": [-0.570735929606913], \"type\": \"scatter\", \"uid\": \"d2285651-6c9c-4ac6-8ace-368f290a3558\"}, {\"hoverinfo\": \"text\", \"marker\": {\"color\": \"green\", \"size\": 0.5}, \"mode\": \"markers\", \"text\": \"Tableau appears with VBA 57 times\", \"x\": [-0.482080795379352], \"y\": [-0.75999875442425], \"type\": \"scatter\", \"uid\": \"4e0c5f4c-8bab-404c-a938-d9f94570a268\"}, {\"hoverinfo\": \"text\", \"marker\": {\"color\": \"blue\", \"size\": 0.5}, \"mode\": \"markers\", \"text\": \"VBA appears with Tableau 57 times\", \"x\": [0.8385575089061261], \"y\": [-0.3268352861261345], \"type\": \"scatter\", \"uid\": \"6ebefce7-bdfc-4d23-9a21-01b3afaa8f34\"}, {\"hoverinfo\": \"text\", \"marker\": {\"color\": \"green\", \"size\": 0.5}, \"mode\": \"markers\", \"text\": \"Tableau appears with Linux 13 times\", \"x\": [-0.5350522699106582], \"y\": [-0.7236843707469798], \"type\": \"scatter\", \"uid\": \"d9a79d41-d7ad-424a-84ef-16dd43f214c0\"}, {\"hoverinfo\": \"text\", \"marker\": {\"color\": \"blue\", \"size\": 0.5}, \"mode\": \"markers\", \"text\": \"Linux appears with Tableau 13 times\", \"x\": [0.8722726337432292], \"y\": [-0.22167645888242268], \"type\": \"scatter\", \"uid\": \"d149f5e3-83ad-4387-b37e-641e85dfac8a\"}, {\"hoverinfo\": \"text\", \"marker\": {\"color\": \"green\", \"size\": 0.5}, \"mode\": \"markers\", \"text\": \"Tableau appears with AWS 31 times\", \"x\": [-0.5277586440838931], \"y\": [-0.7290204479949316], \"type\": \"scatter\", \"uid\": \"4c856630-5ab3-42db-92dd-8e2a623c8da7\"}, {\"hoverinfo\": \"text\", \"marker\": {\"color\": \"blue\", \"size\": 0.5}, \"mode\": \"markers\", \"text\": \"AWS appears with Tableau 31 times\", \"x\": [0.8967027924624891], \"y\": [-0.07696818816871284], \"type\": \"scatter\", \"uid\": \"40519455-f21c-4e0d-bee4-3e77b8fcd7c6\"}, {\"hoverinfo\": \"text\", \"marker\": {\"color\": \"green\", \"size\": 0.5}, \"mode\": \"markers\", \"text\": \"Microstrategy appears with Oracle BI 51 times\", \"x\": [-0.02353531300741695], \"y\": [-0.8996922190625208], \"type\": \"scatter\", \"uid\": \"3a348be6-d89f-4cf2-9a92-1210b9a4b2bf\"}, {\"hoverinfo\": \"text\", \"marker\": {\"color\": \"blue\", \"size\": 0.5}, \"mode\": \"markers\", \"text\": \"Oracle BI appears with Microstrategy 51 times\", \"x\": [0.05826529925890196], \"y\": [-0.8981119946322232], \"type\": \"scatter\", \"uid\": \"0c88a472-875f-4f2d-9c14-5c9f013bc4b7\"}, {\"hoverinfo\": \"text\", \"marker\": {\"color\": \"green\", \"size\": 0.5}, \"mode\": \"markers\", \"text\": \"Microstrategy appears with Python 14 times\", \"x\": [-0.05680780322282713], \"y\": [-0.8982053626498768], \"type\": \"scatter\", \"uid\": \"d4d56bf8-bc14-47cf-93d9-22fa86917528\"}, {\"hoverinfo\": \"text\", \"marker\": {\"color\": \"blue\", \"size\": 0.5}, \"mode\": \"markers\", \"text\": \"Python appears with Microstrategy 14 times\", \"x\": [0.588962558682302], \"y\": [-0.6805314867589861], \"type\": \"scatter\", \"uid\": \"c2c5fd98-6712-43b9-865c-4ae238454787\"}, {\"hoverinfo\": \"text\", \"marker\": {\"color\": \"green\", \"size\": 0.5}, \"mode\": \"markers\", \"text\": \"Microstrategy appears with VBA 7 times\", \"x\": [-0.06164636325753402], \"y\": [-0.8978862544315512], \"type\": \"scatter\", \"uid\": \"1861cd37-f5dd-4440-944c-4446327bb3da\"}, {\"hoverinfo\": \"text\", \"marker\": {\"color\": \"blue\", \"size\": 0.5}, \"mode\": \"markers\", \"text\": \"VBA appears with Microstrategy 7 times\", \"x\": [0.8220178960001897], \"y\": [-0.3664513319056452], \"type\": \"scatter\", \"uid\": \"51acb2a6-a5c7-4817-8bd9-a00a02b2c10b\"}, {\"hoverinfo\": \"text\", \"marker\": {\"color\": \"green\", \"size\": 0.5}, \"mode\": \"markers\", \"text\": \"Microstrategy appears with Linux 4 times\", \"x\": [-0.06251870411283825], \"y\": [-0.897825936156921], \"type\": \"scatter\", \"uid\": \"e9c145b8-ea51-4627-9d9a-ee09d6567cd5\"}, {\"hoverinfo\": \"text\", \"marker\": {\"color\": \"blue\", \"size\": 0.5}, \"mode\": \"markers\", \"text\": \"Linux appears with Microstrategy 4 times\", \"x\": [0.8715474216068809], \"y\": [-0.22451078346128017], \"type\": \"scatter\", \"uid\": \"233e24b8-68bb-4996-ba92-2243682fcd70\"}, {\"hoverinfo\": \"text\", \"marker\": {\"color\": \"green\", \"size\": 0.5}, \"mode\": \"markers\", \"text\": \"Microstrategy appears with AWS 2 times\", \"x\": [-0.0644217872772883], \"y\": [-0.8976913909156085], \"type\": \"scatter\", \"uid\": \"c56299d6-4eaa-4bd0-bd05-7f934229c84d\"}, {\"hoverinfo\": \"text\", \"marker\": {\"color\": \"blue\", \"size\": 0.5}, \"mode\": \"markers\", \"text\": \"AWS appears with Microstrategy 2 times\", \"x\": [0.8944277631968919], \"y\": [-0.09999488198205332], \"type\": \"scatter\", \"uid\": \"99356d72-cec3-43c1-b4df-c7b55a383893\"}, {\"hoverinfo\": \"text\", \"marker\": {\"color\": \"green\", \"size\": 0.5}, \"mode\": \"markers\", \"text\": \"Oracle BI appears with Python 129 times\", \"x\": [0.21572169844421857], \"y\": [-0.8737643554301936], \"type\": \"scatter\", \"uid\": \"df0afd0f-554d-4021-a1a9-e404fca85e8b\"}, {\"hoverinfo\": \"text\", \"marker\": {\"color\": \"blue\", \"size\": 0.5}, \"mode\": \"markers\", \"text\": \"Python appears with Oracle BI 129 times\", \"x\": [0.7475421505640765], \"y\": [-0.5011793422818179], \"type\": \"scatter\", \"uid\": \"184a21c5-c03e-408c-b394-79c0e0746311\"}, {\"hoverinfo\": \"text\", \"marker\": {\"color\": \"green\", \"size\": 0.5}, \"mode\": \"markers\", \"text\": \"Oracle BI appears with VBA 62 times\", \"x\": [0.08571208107007527], \"y\": [-0.895909280652141], \"type\": \"scatter\", \"uid\": \"944cc892-7c9a-4875-acdf-25a1c97cffc4\"}, {\"hoverinfo\": \"text\", \"marker\": {\"color\": \"blue\", \"size\": 0.5}, \"mode\": \"markers\", \"text\": \"VBA appears with Oracle BI 62 times\", \"x\": [0.8430453243282697], \"y\": [-0.31507869037471037], \"type\": \"scatter\", \"uid\": \"c5d4116b-60a2-4900-bdb1-cb62f0f43811\"}, {\"hoverinfo\": \"text\", \"marker\": {\"color\": \"green\", \"size\": 0.5}, \"mode\": \"markers\", \"text\": \"Oracle BI appears with Linux 3 times\", \"x\": [0.009160766846285216], \"y\": [-0.8999533767650345], \"type\": \"scatter\", \"uid\": \"0b891366-f0e9-4e77-ac72-d5d8f7930f53\"}, {\"hoverinfo\": \"text\", \"marker\": {\"color\": \"blue\", \"size\": 0.5}, \"mode\": \"markers\", \"text\": \"Linux appears with Oracle BI 3 times\", \"x\": [0.8711686975973645], \"y\": [-0.22597588439148056], \"type\": \"scatter\", \"uid\": \"c6354d6f-a5b6-4831-92e0-20768db354aa\"}, {\"hoverinfo\": \"text\", \"marker\": {\"color\": \"green\", \"size\": 0.5}, \"mode\": \"markers\", \"text\": \"Oracle BI appears with AWS 43 times\", \"x\": [0.046677977874496], \"y\": [-0.8987887217703324], \"type\": \"scatter\", \"uid\": \"fdeda4bf-0910-4345-93df-9b38f05a466c\"}, {\"hoverinfo\": \"text\", \"marker\": {\"color\": \"blue\", \"size\": 0.5}, \"mode\": \"markers\", \"text\": \"AWS appears with Oracle BI 43 times\", \"x\": [0.8983346392064836], \"y\": [-0.0547254602699415], \"type\": \"scatter\", \"uid\": \"a2b52060-25d8-4a2f-a180-3e9ef38f08cb\"}, {\"hoverinfo\": \"text\", \"marker\": {\"color\": \"green\", \"size\": 0.5}, \"mode\": \"markers\", \"text\": \"Python appears with VBA 55 times\", \"x\": [0.6321786985196599], \"y\": [-0.6405857422219051], \"type\": \"scatter\", \"uid\": \"2f873c06-4af2-4ba4-98bb-9eceb99e809c\"}, {\"hoverinfo\": \"text\", \"marker\": {\"color\": \"blue\", \"size\": 0.5}, \"mode\": \"markers\", \"text\": \"VBA appears with Python 55 times\", \"x\": [0.8341839071163705], \"y\": [-0.33784198837336143], \"type\": \"scatter\", \"uid\": \"ce57c13f-ba16-4bf7-9b01-5b0b1cb74bfd\"}, {\"hoverinfo\": \"text\", \"marker\": {\"color\": \"green\", \"size\": 0.5}, \"mode\": \"markers\", \"text\": \"Python appears with Linux 77 times\", \"x\": [0.6660408086469689], \"y\": [-0.6053012813606888], \"type\": \"scatter\", \"uid\": \"d69552f7-15cf-4621-b760-6aeef5c1b01f\"}, {\"hoverinfo\": \"text\", \"marker\": {\"color\": \"blue\", \"size\": 0.5}, \"mode\": \"markers\", \"text\": \"Linux appears with Python 77 times\", \"x\": [0.8896510621316642], \"y\": [-0.13609183534658384], \"type\": \"scatter\", \"uid\": \"5bad4faf-a00d-4006-b55c-d81bb08121ae\"}, {\"hoverinfo\": \"text\", \"marker\": {\"color\": \"green\", \"size\": 0.5}, \"mode\": \"markers\", \"text\": \"Python appears with AWS 75 times\", \"x\": [0.6536501394173513], \"y\": [-0.6186610503657696], \"type\": \"scatter\", \"uid\": \"baf9170b-d5fa-4bda-b8de-293f23b05c7d\"}, {\"hoverinfo\": \"text\", \"marker\": {\"color\": \"blue\", \"size\": 0.5}, \"mode\": \"markers\", \"text\": \"AWS appears with Python 75 times\", \"x\": [0.8993100088608217], \"y\": [-0.035235038849827885], \"type\": \"scatter\", \"uid\": \"782dc5f0-8388-4a0f-9d61-a43351553c8c\"}, {\"hoverinfo\": \"text\", \"marker\": {\"color\": \"green\", \"size\": 0.5}, \"mode\": \"markers\", \"text\": \"VBA appears with AWS 5 times\", \"x\": [0.8199380655365246], \"y\": [-0.3710816199762822], \"type\": \"scatter\", \"uid\": \"e4117e31-a6e4-4496-8366-bcb3d75afe73\"}, {\"hoverinfo\": \"text\", \"marker\": {\"color\": \"blue\", \"size\": 0.5}, \"mode\": \"markers\", \"text\": \"AWS appears with VBA 5 times\", \"x\": [0.8945407609237908], \"y\": [-0.09897892223036837], \"type\": \"scatter\", \"uid\": \"708c58b3-7a04-4ff8-9e28-6800b79af825\"}, {\"hoverinfo\": \"text\", \"marker\": {\"color\": \"green\", \"size\": 0.5}, \"mode\": \"markers\", \"text\": \"Linux appears with AWS 22 times\", \"x\": [0.8738646150287965], \"y\": [-0.21531519825728343], \"type\": \"scatter\", \"uid\": \"f0ae6ac9-2bdc-4706-aea7-b3ffb0fdcaa6\"}, {\"hoverinfo\": \"text\", \"marker\": {\"color\": \"blue\", \"size\": 0.5}, \"mode\": \"markers\", \"text\": \"AWS appears with Linux 22 times\", \"x\": [0.8958156365442044], \"y\": [-0.0866853235726894], \"type\": \"scatter\", \"uid\": \"b67334dd-fe29-43e9-914d-658b0677ff55\"}], {\"autosize\": false, \"font\": {\"color\": \"#655643\", \"family\": \"Fira Sans Condensed\", \"size\": 12}, \"height\": 525, \"hidesources\": true, \"hoverdistance\": 40, \"hovermode\": \"closest\", \"margin\": {\"b\": 10, \"l\": 280, \"r\": 280, \"t\": 80}, \"paper_bgcolor\": \"#fffaf0\", \"plot_bgcolor\": \"#fffaf0\", \"shapes\": [{\"fillcolor\": \"#f2e6ce\", \"layer\": \"below\", \"line\": {\"color\": \"rgb(175,175,175)\", \"width\": 0.5}, \"path\": \"M 0.9764207076871341,0.2158763572042021 Q 0.18452206475196486, 0.07714666304949094 0.8395098819063138, 0.5433444194814621L 0.8395098819063138, 0.5433444194814621 L 0.8525636379485697, 0.5226234239372555 L 0.8651060602501279, 0.5015889796621352 M 0.8651060602501279,0.5015889796621352 Q 0.18466912401900756, 0.07679397524579912 0.9656795361167426, 0.2597364693787779L 0.9656795361167426, 0.2597364693787779 L 0.971297722948922, 0.23786704982876275 L 0.9764207076871341, 0.2158763572042021 \", \"type\": \"path\"}, {\"fillcolor\": \"#f2e6ce\", \"layer\": \"below\", \"line\": {\"color\": \"rgb(175,175,175)\", \"width\": 0.5}, \"path\": \"M 0.9983190748093466,0.05795709509464963 Q 0.14539634353003128, 0.13733136308978053 0.11477186592444427, 0.9933918757430128L 0.11477186592444427, 0.9933918757430128 L 0.12913818279918007, 0.99162660802508 L 0.14347744429086498, 0.9896535873626497 M 0.14347744429086498,0.9896535873626497 Q 0.14549887117568958, 0.13722273312611177 0.99635181007436, 0.08534090790205183L 0.99635181007436, 0.08534090790205183 L 0.9974294225917215, 0.0716557530722066 L 0.9983190748093466, 0.05795709509464963 \", \"type\": \"path\"}, {\"fillcolor\": \"#f2e6ce\", \"layer\": \"below\", \"line\": {\"color\": \"rgb(175,175,175)\", \"width\": 0.5}, \"path\": \"M 0.99635181007436,0.08534090790205183 Q 0.09796851328187625, 0.17436218169470938 -0.4453213803194647, 0.8953707992951114L -0.4453213803194647, 0.8953707992951114 L -0.43241334555342026, 0.901675495168466 L -0.419416075136398, 0.9077941153792414 M -0.419416075136398,0.9077941153792414 Q 0.09805736728242759, 0.17431222768824653 0.9936046114382849, 0.11291534939314014L 0.9936046114382849, 0.11291534939314014 L 0.9950737295978319, 0.09913764504092708 L 0.99635181007436, 0.08534090790205183 \", \"type\": \"path\"}, {\"fillcolor\": \"#f2e6ce\", \"layer\": \"below\", \"line\": {\"color\": \"rgb(175,175,175)\", \"width\": 0.5}, \"path\": \"M 0.9999973335217832,0.0023093179347028554 Q 0.07393612603387661, 0.18583177679585028 -0.7250840610339272, 0.6886603694380475L -0.7250840610339272, 0.6886603694380475 L -0.724678168516842, 0.6890874778103834 L -0.7242720244130213, 0.6895143469520152 M -0.7242720244130213,0.6895143469520152 Q 0.07392641321649078, 0.18583564090062127 0.999993547785176, 0.0035922678097320203L 0.999993547785176, 0.0035922678097320203 L 0.9999956463994443, 0.0029507934793339317 L 0.9999973335217832, 0.0023093179347028554 \", \"type\": \"path\"}, {\"fillcolor\": \"#f2e6ce\", \"layer\": \"below\", \"line\": {\"color\": \"rgb(175,175,175)\", \"width\": 0.5}, \"path\": \"M 0.9994856769255202,0.0320683897434025 Q 0.04793156144320417, 0.1941714845635588 -0.8697500961083501, 0.4934924217447679L -0.8697500961083501, 0.4934924217447679 L -0.8673316309194425, 0.49773069224895095 L -0.8648925129071607, 0.501957110834319 M -0.8648925129071607,0.501957110834319 Q 0.04793243884600326, 0.19417126797308135 0.9991254893279158, 0.04181215822285184L 0.9991254893279158, 0.04181215822285184 L 0.9993174589309821, 0.036940712983439684 L 0.9994856769255202, 0.0320683897434025 \", \"type\": \"path\"}, {\"fillcolor\": \"#f2e6ce\", \"layer\": \"below\", \"line\": {\"color\": \"rgb(175,175,175)\", \"width\": 0.5}, \"path\": \"M 0.9999994732880656,0.001026364258594765 Q 0.028713679221186235, 0.19792807942680296 -0.9584840723862728, 0.2851460730605038L -0.9584840723862728, 0.2851460730605038 L -0.9583572248700478, 0.2855721091762649 L -0.9582301879852487, 0.28599808886381556 M -0.9582301879852487,0.28599808886381556 Q 0.02867469497615285, 0.1979337310011222 0.9999973335217832, 0.0023093179347028554L 0.9999973335217832, 0.0023093179347028554 L 0.9999986091514986, 0.00166784143980195 L 0.9999994732880656, 0.001026364258594765 \", \"type\": \"path\"}, {\"fillcolor\": \"#f2e6ce\", \"layer\": \"below\", \"line\": {\"color\": \"rgb(175,175,175)\", \"width\": 0.5}, \"path\": \"M 0.9999881160844755,0.0048752117719792045 Q 0.01977887943174461, 0.1990195867959345 -0.9794686095763376, 0.2015967332438597L -0.9794686095763376, 0.2015967332438597 L -0.9792865277197804, 0.20247937333599106 L -0.9791036504795229, 0.2033618489728898 M -0.9791036504795229,0.2033618489728898 Q 0.01975397417571068, 0.199022060345745 0.9999760017813698, 0.006927904542206495L 0.9999760017813698, 0.006927904542206495 L 0.9999825856356847, 0.0059015612655156 L 0.9999881160844755, 0.0048752117719792045 \", \"type\": \"path\"}, {\"fillcolor\": \"#f2e6ce\", \"layer\": \"below\", \"line\": {\"color\": \"rgb(175,175,175)\", \"width\": 0.5}, \"path\": \"M 0.9999004201689001,0.014112042589822507 Q 0.003310567467177729, 0.199972598480505 -0.9988853572076658, 0.04720215202841896L -0.9988853572076658, 0.04720215202841896 L -0.9987774901951207, 0.04943202483750359 L -0.9986646453074883, 0.05166165127895643 M -0.9986646453074883,0.05166165127895643 Q 0.0032695460517876748, 0.19997327338575832 0.9998197382406133, 0.018986601182714866L 0.9998197382406133, 0.018986601182714866 L 0.9998630497811745, 0.016549371054173624 L 0.9999004201689001, 0.014112042589822507 \", \"type\": \"path\"}, {\"fillcolor\": \"#f2e6ce\", \"layer\": \"below\", \"line\": {\"color\": \"rgb(175,175,175)\", \"width\": 0.5}, \"path\": \"M 0.9998197382406133,0.018986601182714866 Q -0.01581754651080712, 0.19937353190024612 -0.9903060617696536, -0.13890249825787507L -0.9903060617696536, -0.13890249825787507 L -0.9906976255374023, -0.13608164738330097 L -0.9910811542304213, -0.1332596928155541 M -0.9910811542304213,-0.1332596928155541 Q -0.015863640163791697, 0.19936986964121167 0.9996838577926921, 0.02514327879813168L 0.9996838577926921, 0.02514327879813168 L 0.9997565372666212, 0.022065044587650667 L 0.9998197382406133, 0.018986601182714866 \", \"type\": \"path\"}, {\"fillcolor\": \"#f2e6ce\", \"layer\": \"below\", \"line\": {\"color\": \"rgb(175,175,175)\", \"width\": 0.5}, \"path\": \"M 0.9999760017813698,0.006927904542206495 Q -0.03059728048585938, 0.19764565876049403 -0.9552622437795869, -0.2957601149735864L -0.9552622437795869, -0.2957601149735864 L -0.9556174396129105, -0.29461043618253835 L -0.955971251783468, -0.29346033081755585 M -0.955971251783468,-0.29346033081755585 Q -0.030613024398436786, 0.1976432208227257 0.9999549335446606, 0.00949372844004618L 0.9999549335446606, 0.00949372844004618 L 0.9999662906226296, 0.00821082324853006 L 0.9999760017813698, 0.006927904542206495 \", \"type\": \"path\"}, {\"fillcolor\": \"#f2e6ce\", \"layer\": \"below\", \"line\": {\"color\": \"rgb(175,175,175)\", \"width\": 0.5}, \"path\": \"M 0.9896574199168644,0.1434510062826163 Q -0.0769458914171457, 0.18460587692167557 -0.7985693254235507, -0.6019028430673634L -0.7985693254235507, -0.6019028430673634 L -0.8095253007408146, -0.5870849916839074 L -0.8202063595539835, -0.5720677649957229 M -0.8202063595539835,-0.5720677649957229 Q -0.07681225893526805, 0.18466151975238732 0.9839585722866815, 0.1783971076658909L 0.9839585722866815, 0.1783971076658909 L 0.9869626784589522, 0.1609492818534175 L 0.9896574199168644, 0.1434510062826163 \", \"type\": \"path\"}, {\"fillcolor\": \"#f2e6ce\", \"layer\": \"below\", \"line\": {\"color\": \"rgb(175,175,175)\", \"width\": 0.5}, \"path\": \"M 0.9839585722866815,0.1783971076658909 Q -0.12586896301412492, 0.15542523652788454 -0.37901702730544196, -0.9253896979178804L -0.37901702730544196, -0.9253896979178804 L -0.39764819544443936, -0.9175379625169636 L -0.4161168168609847, -0.9093111649625125 M -0.4161168168609847,-0.9093111649625125 Q -0.12569755010001557, 0.1555638965147572 0.9764207076871341, 0.2158763572042021L 0.9764207076871341, 0.2158763572042021 L 0.9803687591279888, 0.19717275705798554 L 0.9839585722866815, 0.1783971076658909 \", \"type\": \"path\"}, {\"fillcolor\": \"#f2e6ce\", \"layer\": \"below\", \"line\": {\"color\": \"rgb(175,175,175)\", \"width\": 0.5}, \"path\": \"M 0.9999549335446606,0.00949372844004618 Q -0.1381007949663741, 0.14466571960784458 -0.05588992938164685, -0.9984369363128122L -0.05588992938164685, -0.9984369363128122 L -0.057477234415384326, -0.998346817255386 L -0.059064394166289336, -0.9982541747179269 M -0.059064394166289336,-0.9982541747179269 Q -0.1382048402108402, 0.1445663243715359 0.9999004201689001, 0.014112042589822507L 0.9999004201689001, 0.014112042589822507 L 0.9999303431492588, 0.011802916987155385 L 0.9999549335446606, 0.00949372844004618 \", \"type\": \"path\"}, {\"fillcolor\": \"#f2e6ce\", \"layer\": \"below\", \"line\": {\"color\": \"rgb(175,175,175)\", \"width\": 0.5}, \"path\": \"M 0.9936046114382849,0.11291534939314014 Q -0.15918532643079378, 0.1210786184638792 0.15647466888328604, -0.9876819720931763L 0.15647466888328604, -0.9876819720931763 L 0.1401929638755382, -0.990124200734328 L 0.12387325838749484, -0.9922980478951196 M 0.12387325838749484,-0.9922980478951196 Q -0.15905585451628582, 0.12124865007122398 0.9896574199168644, 0.1434510062826163L 0.9896574199168644, 0.1434510062826163 L 0.9917485456703006, 0.1281983703517475 L 0.9936046114382849, 0.11291534939314014 \", \"type\": \"path\"}, {\"fillcolor\": \"#f2e6ce\", \"layer\": \"below\", \"line\": {\"color\": \"rgb(175,175,175)\", \"width\": 0.5}, \"path\": \"M 0.9991254893279158,0.04181215822285184 Q -0.1869646658636394, 0.07102262821451814 0.7193747631749237, -0.6946221635587383L 0.7193747631749237, -0.6946221635587383 L 0.7135205920099692, -0.700634258923829 L 0.7076161771432553, -0.7065970179990609 M 0.7076161771432553,-0.7065970179990609 Q -0.18694272052431188, 0.07108037171377925 0.9983190748093466, 0.05795709509464963L 0.9983190748093466, 0.05795709509464963 L 0.998754905593471, 0.049886256153141864 L 0.9991254893279158, 0.04181215822285184 \", \"type\": \"path\"}, {\"fillcolor\": \"#f2e6ce\", \"layer\": \"below\", \"line\": {\"color\": \"rgb(175,175,175)\", \"width\": 0.5}, \"path\": \"M 0.9996838577926921,0.02514327879813168 Q -0.19638329796785087, 0.03786291429975126 0.9186786814242912, -0.39500567122071256L 0.9186786814242912, -0.39500567122071256 L 0.9174209158093135, -0.3979181614799712 L 0.9161539167437749, -0.4008266468625064 M 0.9161539167437749,-0.4008266468625064 Q -0.19639432694330794, 0.03780566550776575 0.9994856769255202, 0.0320683897434025L 0.9994856769255202, 0.0320683897434025 L 0.9995907644765228, 0.028606005894577825 L 0.9996838577926921, 0.02514327879813168 \", \"type\": \"path\"}, {\"fillcolor\": \"#f2e6ce\", \"layer\": \"below\", \"line\": {\"color\": \"rgb(175,175,175)\", \"width\": 0.5}, \"path\": \"M 1.0,0.0 Q -0.19840736262175868, 0.02518964980856154 0.9682740771261018, -0.2498905991941191L 0.9682740771261018, -0.2498905991941191 L 0.9681619355842795, -0.250324722082541 L 0.9680495994047231, -0.2507587946460802 M 0.9680495994047231,-0.2507587946460802 Q -0.19840899472482587, 0.02517679114351187 0.9999994732880656, 0.001026364258594765L 0.9999994732880656, 0.001026364258594765 L 0.9999998683220077, 0.0005131821968721839 L 1.0, 0.0 \", \"type\": \"path\"}, {\"fillcolor\": \"#f2e6ce\", \"layer\": \"below\", \"line\": {\"color\": \"rgb(175,175,175)\", \"width\": 0.5}, \"path\": \"M 0.999993547785176,0.0035922678097320203 Q -0.1997241318266087, 0.010501007861507082 0.9941033210502882, -0.10843701894089285L 0.9941033210502882, -0.10843701894089285 L 0.9940472052497709, -0.10895023513109015 L 0.9939908244960696, -0.10946342228170908 M 0.9939908244960696,-0.10946342228170908 Q -0.19972544501680242, 0.010476001758315957 0.9999881160844755, 0.0048752117719792045L 0.9999881160844755, 0.0048752117719792045 L 0.9999910376798421, 0.004233740661934461 L 0.999993547785176, 0.0035922678097320203 \", \"type\": \"path\"}, {\"fillcolor\": \"#ecd5bb\", \"layer\": \"below\", \"line\": {\"color\": \"rgb(175,175,175)\", \"width\": 0.5}, \"path\": \"M 0.5508478293728678,0.8346056966467459 Q 0.03436222999826354, 0.1970259808998459 -0.2358022493913903, 0.9718010594673997L -0.2358022493913903, 0.9718010594673997 L -0.17118225648216887, 0.9852393795751736 L -0.10581653684302948, 0.9943856699141173 M -0.10581653684302948,0.9943856699141173 Q 0.03398953491269395, 0.19709061752508353 0.4327745017557696, 0.9015022077787971L 0.4327745017557696, 0.9015022077787971 L 0.4929472673361156, 0.8700591885761889 L 0.5508478293728678, 0.8346056966467459 \", \"type\": \"path\"}, {\"fillcolor\": \"#ecd5bb\", \"layer\": \"below\", \"line\": {\"color\": \"rgb(175,175,175)\", \"width\": 0.5}, \"path\": \"M 0.8063396751164756,0.5914527270484569 Q 0.027415372247963157, 0.19811208283319223 -0.615418976169275, 0.7882001546376157L -0.615418976169275, 0.7882001546376157 L -0.5903770796569513, 0.8071275635336275 L -0.5647534589924952, 0.8252596746212747 M -0.5647534589924952,0.8252596746212747 Q 0.02712843402453583, 0.1981515785134613 0.7657827921174972, 0.6430993043820916L 0.7657827921174972, 0.6430993043820916 L 0.7864852860880668, 0.617609014480012 L 0.8063396751164756, 0.5914527270484569 \", \"type\": \"path\"}, {\"fillcolor\": \"#ecd5bb\", \"layer\": \"below\", \"line\": {\"color\": \"rgb(175,175,175)\", \"width\": 0.5}, \"path\": \"M 0.9460208778812712,0.3241056904973266 Q 0.047365006614910714, 0.1943104633013093 -0.690758040220534, 0.7230859768178934L -0.690758040220534, 0.7230859768178934 L -0.6865363672663218, 0.7270954658232728 L -0.6822914217421641, 0.731080307365105 M -0.6822914217421641,0.731080307365105 Q 0.046982081355954775, 0.19440340540088913 0.940855028531537, 0.3388094084982304L 0.940855028531537, 0.3388094084982304 L 0.9434665979148661, 0.331467613227821 L 0.9460208778812712, 0.3241056904973266 \", \"type\": \"path\"}, {\"fillcolor\": \"#ecd5bb\", \"layer\": \"below\", \"line\": {\"color\": \"rgb(175,175,175)\", \"width\": 0.5}, \"path\": \"M 0.9128790154083071,0.4082302086166087 Q 0.01983307994089052, 0.19901419281060898 -0.8143593729152827, 0.5803609323042235L -0.8143593729152827, 0.5803609323042235 L -0.8077418587742052, 0.5895363344052611 L -0.8010209702362369, 0.5986362879426854 M -0.8010209702362369,0.5986362879426854 Q 0.019425924521757523, 0.1990543479969101 0.9016478255980391, 0.43247103786765645L 0.9016478255980391, 0.43247103786765645 L 0.9073443770883314, 0.42038813180938855 L 0.9128790154083071, 0.4082302086166087 \", \"type\": \"path\"}, {\"fillcolor\": \"#ecd5bb\", \"layer\": \"below\", \"line\": {\"color\": \"rgb(175,175,175)\", \"width\": 0.5}, \"path\": \"M 0.8874755972030132,0.46085471069433054 Q -0.015609070060848499, 0.1993899619635741 -0.9483799521613061, 0.317136352912306L -0.9483799521613061, 0.317136352912306 L -0.9413613454731063, 0.3374000848385532 L -0.9339098258386606, 0.357508653324647 M -0.9339098258386606,0.357508653324647 Q -0.015966558363241228, 0.19936165382047075 0.8651060602501279, 0.5015889796621352L 0.8651060602501279, 0.5015889796621352 L 0.8765274876907085, 0.4813518082677313 L 0.8874755972030132, 0.46085471069433054 \", \"type\": \"path\"}, {\"fillcolor\": \"#ecd5bb\", \"layer\": \"below\", \"line\": {\"color\": \"rgb(175,175,175)\", \"width\": 0.5}, \"path\": \"M 0.9504391146350828,0.31091074180812717 Q -0.006272132570142035, 0.19990162668928577 -0.9680607598151599, 0.2507157061416281L -0.9680607598151599, 0.2507157061416281 L -0.9669367204611771, 0.2550164281449012 L -0.9657935747526076, 0.25931211110663377 M -0.9657935747526076,0.25931211110663377 Q -0.006774339430397446, 0.19988523788734816 0.9460208778812712, 0.3241056904973266L 0.9460208778812712, 0.3241056904973266 L 0.9482529475153294, 0.31751590122148204 L 0.9504391146350828, 0.31091074180812717 \", \"type\": \"path\"}, {\"fillcolor\": \"#ecd5bb\", \"layer\": \"below\", \"line\": {\"color\": \"rgb(175,175,175)\", \"width\": 0.5}, \"path\": \"M 0.940855028531537,0.3388094084982304 Q -0.02503770394556977, 0.19842659444019595 -0.9955272930586428, 0.09447438158215711L -0.9955272930586428, 0.09447438158215711 L -0.9948659864377071, 0.10120113156150001 L -0.994159227880108, 0.10792325801618262 M -0.994159227880108,0.10792325801618262 Q -0.025353147001024895, 0.1983865366831742 0.9350666371122983, 0.354471979371427L 0.9350666371122983, 0.354471979371427 L 0.9379935249987469, 0.34665277593064964 L 0.940855028531537, 0.3388094084982304 \", \"type\": \"path\"}, {\"fillcolor\": \"#ecd5bb\", \"layer\": \"below\", \"line\": {\"color\": \"rgb(175,175,175)\", \"width\": 0.5}, \"path\": \"M 0.9285017204498276,0.37132809632683356 Q -0.03857756664260764, 0.1962441625932735 -0.999969815045391, -0.007769748907563434L -0.999969815045391, -0.007769748907563434 L -0.9999998964411615, 0.00045510181976943784 L -0.9999623287695604, 0.0086799217598859 M -0.9999623287695604,0.0086799217598859 Q -0.038874960910596175, 0.19618546687815494 0.9210920870487466, 0.3893447921523855L 0.9210920870487466, 0.3893447921523855 L 0.9248407773862406, 0.3803544879235872 L 0.9285017204498276, 0.37132809632683356 \", \"type\": \"path\"}, {\"fillcolor\": \"#ecd5bb\", \"layer\": \"below\", \"line\": {\"color\": \"rgb(175,175,175)\", \"width\": 0.5}, \"path\": \"M 0.9210920870487466,0.3893447921523855 Q -0.059356101030522204, 0.19098914437856002 -0.9795228078980669, -0.20133322827463598L -0.9795228078980669, -0.20133322827463598 L -0.981252933053892, -0.1927243663191916 L -0.9829073978807868, -0.18410064419012898 M -0.9829073978807868,-0.18410064419012898 Q -0.05964560449341333, 0.19089893102009586 0.9128790154083071, 0.4082302086166087L 0.9128790154083071, 0.4082302086166087 L 0.917034168338695, 0.3988086434611943 L 0.9210920870487466, 0.3893447921523855 \", \"type\": \"path\"}, {\"fillcolor\": \"#ecd5bb\", \"layer\": \"below\", \"line\": {\"color\": \"rgb(175,175,175)\", \"width\": 0.5}, \"path\": \"M 0.9016478255980391,0.43247103786765645 Q -0.08428012240490897, 0.18137491824233462 -0.9119654404404844, -0.4102670294359433L -0.9119654404404844, -0.4102670294359433 L -0.9175073388027828, -0.39771884949425723 L -0.9228765903070634, -0.38509583101250106 M -0.9228765903070634,-0.38509583101250106 Q -0.08466909408555374, 0.18119366574671325 0.8874755972030132, 0.46085471069433054L 0.8874755972030132, 0.46085471069433054 L 0.8946742780054768, 0.4467190798201693 L 0.9016478255980391, 0.43247103786765645 \", \"type\": \"path\"}, {\"fillcolor\": \"#ecd5bb\", \"layer\": \"below\", \"line\": {\"color\": \"rgb(175,175,175)\", \"width\": 0.5}, \"path\": \"M 0.7100729767354976,0.7041280904139455 Q -0.14896437500385015, 0.13345266943644216 -0.6221258703616838, -0.7829172379164463L -0.6221258703616838, -0.7829172379164463 L -0.6585286142129319, -0.752555688479461 L -0.6934516551705685, -0.7205031588696881 M -0.6934516551705685,-0.7205031588696881 Q -0.14922990179900184, 0.13315568485446003 0.6371574291698596, 0.7707336832224574L 0.6371574291698596, 0.7707336832224574 L 0.6744379273864435, 0.7383315529643023 L 0.7100729767354976, 0.7041280904139455 \", \"type\": \"path\"}, {\"fillcolor\": \"#ecd5bb\", \"layer\": \"below\", \"line\": {\"color\": \"rgb(175,175,175)\", \"width\": 0.5}, \"path\": \"M 0.6371574291698596,0.7707336832224574 Q -0.18444354773593807, 0.07733419488544986 -0.10305034242947797, -0.9946761417291395L -0.10305034242947797, -0.9946761417291395 L -0.1549842415037211, -0.9879169423010804 L -0.20649304721988607, -0.9784480678348983 M -0.20649304721988607,-0.9784480678348983 Q -0.1845465840619297, 0.07708799070590124 0.5508478293728678, 0.8346056966467459L 0.5508478293728678, 0.8346056966467459 L 0.5948605148318481, 0.8038289419360245 L 0.6371574291698596, 0.7707336832224574 \", \"type\": \"path\"}, {\"fillcolor\": \"#ecd5bb\", \"layer\": \"below\", \"line\": {\"color\": \"rgb(175,175,175)\", \"width\": 0.5}, \"path\": \"M 0.9570445118961601,0.2899410323659632 Q -0.15834391539717074, 0.12217693913621193 -0.037715040200935725, -0.9992885347799412L -0.037715040200935725, -0.9992885347799412 L -0.040627548013930016, -0.9991743603307562 L -0.04353971066593756, -0.9990516971584236 M -0.04353971066593756,-0.9990516971584236 Q -0.158548613149477, 0.12191118598544393 0.9543413756846815, 0.29871815923420136L 0.9543413756846815, 0.29871815923420136 L 0.9557030199281656, 0.29433269899925196 L 0.9570445118961601, 0.2899410323659632 \", \"type\": \"path\"}, {\"fillcolor\": \"#ecd5bb\", \"layer\": \"below\", \"line\": {\"color\": \"rgb(175,175,175)\", \"width\": 0.5}, \"path\": \"M 0.4327745017557696,0.9015022077787971 Q -0.19865578128226977, -0.023149094218370643 0.6284657027276334, -0.7778372969298026L 0.6284657027276334, -0.7778372969298026 L 0.5709693909711305, -0.8209713482053173 L 0.5105232388003472, -0.8598639558934911 M 0.5105232388003472,-0.8598639558934911 Q -0.1986320127425634, -0.02335216293704152 0.2971798279969425, 0.9548215277378844L 0.2971798279969425, 0.9548215277378844 L 0.365949543450197, 0.9306346929104848 L 0.4327745017557696, 0.9015022077787971 \", \"type\": \"path\"}, {\"fillcolor\": \"#ecd5bb\", \"layer\": \"below\", \"line\": {\"color\": \"rgb(175,175,175)\", \"width\": 0.5}, \"path\": \"M 0.7657827921174972,0.6430993043820916 Q -0.1985657479802779, -0.023909072107314664 0.8965514756486597, -0.4429395574028253L 0.8965514756486597, -0.4429395574028253 L 0.8783319672036717, -0.47805120582227184 L 0.858738063918695, -0.5124148100681432 M 0.858738063918695,-0.5124148100681432 Q -0.19852316514683782, -0.024260109234736735 0.7100729767354976, 0.7041280904139455L 0.7100729767354976, 0.7041280904139455 L 0.7385585222548695, 0.6741893719161579 L 0.7657827921174972, 0.6430993043820916 \", \"type\": \"path\"}, {\"fillcolor\": \"#ecd5bb\", \"layer\": \"below\", \"line\": {\"color\": \"rgb(175,175,175)\", \"width\": 0.5}, \"path\": \"M 0.8395098819063138,0.5433444194814621 Q -0.19792724301289943, -0.02871944416789193 0.9593164978752802, -0.28233288314383015L 0.9593164978752802, -0.28233288314383015 L 0.952058678328176, -0.30591546711470236 L 0.9442212319276941, -0.3293118054017312 M 0.9442212319276941,-0.3293118054017312 Q -0.19779461098547454, -0.029619113172152864 0.8063396751164756, 0.5914527270484569L 0.8063396751164756, 0.5914527270484569 L 0.8232762558232007, 0.5676409134283149 L 0.8395098819063138, 0.5433444194814621 \", \"type\": \"path\"}, {\"fillcolor\": \"#ecd5bb\", \"layer\": \"below\", \"line\": {\"color\": \"rgb(175,175,175)\", \"width\": 0.5}, \"path\": \"M 0.9350666371122983,0.354471979371427 Q -0.19913567236996274, -0.018573744634910443 0.9844916752796072, -0.17543130081360175L 0.9844916752796072, -0.17543130081360175 L 0.983187351588664, -0.18259964861978484 L 0.9818308339513244, -0.189758302855097 M 0.9818308339513244,-0.189758302855097 Q -0.1991026975144178, -0.018923948913539296 0.9285017204498276, 0.37132809632683356L 0.9285017204498276, 0.37132809632683356 L 0.9318222942151596, 0.3629148825876344 L 0.9350666371122983, 0.354471979371427 \", \"type\": \"path\"}, {\"fillcolor\": \"#ecd5bb\", \"layer\": \"below\", \"line\": {\"color\": \"rgb(175,175,175)\", \"width\": 0.5}, \"path\": \"M 0.9543413756846815,0.29871815923420136 Q -0.19835815002055884, -0.025574290223219734 0.998900200803122, -0.04688697938108701L 0.998900200803122, -0.04688697938108701 L 0.9986662336204712, -0.05163093865408939 L 0.9984097366372171, -0.05637373313878344 M 0.9984097366372171,-0.05637373313878344 Q -0.1983156506845184, -0.025901789389462856 0.9504391146350828, 0.31091074180812717L 0.9504391146350828, 0.31091074180812717 L 0.9524097562725593, 0.3048206950927776 L 0.9543413756846815, 0.29871815923420136 \", \"type\": \"path\"}, {\"fillcolor\": \"#e6c4a9\", \"layer\": \"below\", \"line\": {\"color\": \"rgb(175,175,175)\", \"width\": 0.5}, \"path\": \"M -0.04485537848431218,0.9989934909803112 Q -0.06338819871841288, 0.18968905151124302 -0.5647534589924952, 0.8252596746212747L -0.5647534589924952, 0.8252596746212747 L -0.53969363887229, 0.8418614946419548 L -0.5141461434778725, 0.8577025959776681 M -0.5141461434778725,0.8577025959776681 Q -0.06348511539655526, 0.1896566374348287 -0.10581653684302948, 0.9943856699141173L -0.10581653684302948, 0.9943856699141173 L -0.07537117831669424, 0.9971555472839496 L -0.04485537848431218, 0.9989934909803112 \", \"type\": \"path\"}, {\"fillcolor\": \"#e6c4a9\", \"layer\": \"below\", \"line\": {\"color\": \"rgb(175,175,175)\", \"width\": 0.5}, \"path\": \"M 0.22746000372574038,0.9737874237764041 Q -0.04829178507964585, 0.19408220808157894 -0.6572819152413168, 0.7536447995552722L -0.6572819152413168, 0.7536447995552722 L -0.6548494839004362, 0.7557593224270094 L -0.6524102500294781, 0.7578659945244106 M -0.6524102500294781,0.7578659945244106 Q -0.04848012135247144, 0.19403524894629234 0.2192848583559161, 0.975660879043444L 0.2192848583559161, 0.975660879043444 L 0.2233743951480317, 0.9747327221306623 L 0.22746000372574038, 0.9737874237764041 \", \"type\": \"path\"}, {\"fillcolor\": \"#e6c4a9\", \"layer\": \"below\", \"line\": {\"color\": \"rgb(175,175,175)\", \"width\": 0.5}, \"path\": \"M 0.20977182236854397,0.9777503682127561 Q -0.06473361691689633, 0.1892341376201887 -0.764682818769816, 0.6444068487207819L -0.764682818769816, 0.6444068487207819 L -0.7604901749399308, 0.6493494389154683 L -0.7562655848493525, 0.6542647515894975 M -0.7562655848493525,0.6542647515894975 Q -0.06491503075165596, 0.18917198202300353 0.1951998992559724, 0.9807634777715054L 0.1951998992559724, 0.9807634777715054 L 0.20249146534159015, 0.9792840274730389 L 0.20977182236854397, 0.9777503682127561 \", \"type\": \"path\"}, {\"fillcolor\": \"#e6c4a9\", \"layer\": \"below\", \"line\": {\"color\": \"rgb(175,175,175)\", \"width\": 0.5}, \"path\": \"M 0.11477186592444427,0.9933918757430128 Q -0.09759566277193778, 0.17457115056075617 -0.9063523602167403, 0.4225226610840469L -0.9063523602167403, 0.4225226610840469 L -0.9002937543921737, 0.4352828457479622 L -0.8940555138396071, 0.4479561788534634 M -0.8940555138396071,0.4479561788534634 Q -0.09772738840549082, 0.17449744283353363 0.08516143349695489, 0.996367166382325L 0.08516143349695489, 0.996367166382325 L 0.09997771823250812, 0.9949896762565033 L 0.11477186592444427, 0.9933918757430128 \", \"type\": \"path\"}, {\"fillcolor\": \"#e6c4a9\", \"layer\": \"below\", \"line\": {\"color\": \"rgb(175,175,175)\", \"width\": 0.5}, \"path\": \"M 0.25057777536220655,0.9680964716878827 Q -0.10023180085502469, 0.17307104349763042 -0.9643966113449894, 0.2644601596201238L -0.9643966113449894, 0.2644601596201238 L -0.96378273626559, 0.2666886523202895 L -0.9631637116735114, 0.2689157200970313 M -0.9631637116735114,0.2689157200970313 Q -0.1004403941141687, 0.1729500714951875 0.24376171998244672, 0.9698351529364149L 0.24376171998244672, 0.9698351529364149 L 0.24717127648155765, 0.9689718056179331 L 0.25057777536220655, 0.9680964716878827 \", \"type\": \"path\"}, {\"fillcolor\": \"#e6c4a9\", \"layer\": \"below\", \"line\": {\"color\": \"rgb(175,175,175)\", \"width\": 0.5}, \"path\": \"M 0.24376171998244672,0.9698351529364149 Q -0.10774010188746774, 0.16849946719582848 -0.9826099069213562, 0.1856819076270052L -0.9826099069213562, 0.1856819076270052 L -0.9819554689712083, 0.18911228663821453 L -0.9812890552991659, 0.19254035927584257 M -0.9812890552991659,0.19254035927584257 Q -0.10785824327201449, 0.16842386813713472 0.23561914891372243, 0.9718454695398714L 0.23561914891372243, 0.9718454695398714 L 0.23969254203901114, 0.9708488478083892 L 0.24376171998244672, 0.9698351529364149 \", \"type\": \"path\"}, {\"fillcolor\": \"#e6c4a9\", \"layer\": \"below\", \"line\": {\"color\": \"rgb(175,175,175)\", \"width\": 0.5}, \"path\": \"M 0.23561914891372243,0.9718454695398714 Q -0.12096688824238902, 0.1592702481600169 -0.9994279955371784, 0.03381836389504517L -0.9994279955371784, 0.03381836389504517 L -0.999298183497036, 0.037458516515260415 L -0.9991551132060237, 0.04109817215227547 M -0.9991551132060237,0.04109817215227547 Q -0.12105463981570325, 0.1592035620804081 0.22746000372574038, 0.9737874237764041L 0.22746000372574038, 0.9737874237764041 L 0.23154161224040243, 0.9728250006044844 L 0.23561914891372243, 0.9718454695398714 \", \"type\": \"path\"}, {\"fillcolor\": \"#e6c4a9\", \"layer\": \"below\", \"line\": {\"color\": \"rgb(175,175,175)\", \"width\": 0.5}, \"path\": \"M 0.2192848583559161,0.975660879043444 Q -0.13719249058490365, 0.14552738754994238 -0.9868846837050523, -0.16142682883702722L -0.9868846837050523, -0.16142682883702722 L -0.9875652678442667, -0.15720954725359998 L -0.98822783024194, -0.15298939680679624 M -0.98822783024194,-0.15298939680679624 Q -0.13727950219864057, 0.1454453102581635 0.20977182236854397, 0.9777503682127561L 0.20977182236854397, 0.9777503682127561 L 0.21453088427967668, 0.9767172055872569 L 0.2192848583559161, 0.975660879043444 \", \"type\": \"path\"}, {\"fillcolor\": \"#e6c4a9\", \"layer\": \"below\", \"line\": {\"color\": \"rgb(175,175,175)\", \"width\": 0.5}, \"path\": \"M 0.17845550797390147,0.983947982199149 Q -0.15346954226506795, 0.12824624593706643 -0.9365961961808208, -0.35041056676364285L -0.9365961961808208, -0.35041056676364285 L -0.9392669451474104, -0.3431874207389477 L -0.9418819892548681, -0.3359439213876217 M -0.9418819892548681,-0.3359439213876217 Q -0.15359214387823553, 0.12809938851878802 0.1613922740767261, 0.9868903352796312L 0.1613922740767261, 0.9868903352796312 L 0.16993025952312105, 0.98545609080182 L 0.17845550797390147, 0.983947982199149 \", \"type\": \"path\"}, {\"fillcolor\": \"#e6c4a9\", \"layer\": \"below\", \"line\": {\"color\": \"rgb(175,175,175)\", \"width\": 0.5}, \"path\": \"M 0.1613922740767261,0.9868903352796312 Q -0.1679375187956448, 0.10861394837111138 -0.8338664778943693, -0.5519662100564121L -0.8338664778943693, -0.5519662100564121 L -0.8387715867839572, -0.544483448053219 L -0.8436095504811106, -0.5369570991588234 M -0.8436095504811106,-0.5369570991588234 Q -0.1679501460052939, 0.10859442184937712 0.14347744429086498, 0.9896535873626497L 0.14347744429086498, 0.9896535873626497 L 0.15244112038719132, 0.9883125542130373 L 0.1613922740767261, 0.9868903352796312 \", \"type\": \"path\"}, {\"fillcolor\": \"#e6c4a9\", \"layer\": \"below\", \"line\": {\"color\": \"rgb(175,175,175)\", \"width\": 0.5}, \"path\": \"M 0.08516143349695489,0.996367166382325 Q -0.19342030318285816, 0.0508781516630787 -0.4161168168609847, -0.9093111649625125L -0.4161168168609847, -0.9093111649625125 L -0.43184693396580626, -0.9019469084288346 L -0.44744677629904306, -0.8943105626009312 M -0.44744677629904306,-0.8943105626009312 Q -0.19341757805107634, 0.050888510499481024 0.05061251820375086, 0.9987183652066658L 0.05061251820375086, 0.9987183652066658 L 0.06789715402050582, 0.997692325557291 L 0.08516143349695489, 0.996367166382325 \", \"type\": \"path\"}, {\"fillcolor\": \"#e6c4a9\", \"layer\": \"below\", \"line\": {\"color\": \"rgb(175,175,175)\", \"width\": 0.5}, \"path\": \"M 0.26312843785895357,0.9647608124244614 Q -0.19752821151826447, 0.0313465413466267 -0.048480702826765136, -0.9988241193790941L -0.048480702826765136, -0.9988241193790941 L -0.050421489071816275, -0.9987280277632048 L -0.052362084931130835, -0.9986281650652885 M -0.052362084931130835,-0.9986281650652885 Q -0.19756048397410395, 0.031142497843265917 0.2573814317468475, 0.9663098874543005L 0.2573814317468475, 0.9663098874543005 L 0.2602560873401888, 0.9655396258064067 L 0.26312843785895357, 0.9647608124244614 \", \"type\": \"path\"}, {\"fillcolor\": \"#e6c4a9\", \"layer\": \"below\", \"line\": {\"color\": \"rgb(175,175,175)\", \"width\": 0.5}, \"path\": \"M 0.014650313454384466,0.9998926783988811 Q -0.1970415502711437, -0.03427283861521179 0.351412305003783, -0.9362208029583236L 0.351412305003783, -0.9362208029583236 L 0.32299757337039436, -0.9463997926863872 L 0.29428858810345143, -0.9557166038696184 M 0.29428858810345143,-0.9557166038696184 Q -0.1970560448443317, -0.03418940172493134 -0.04485537848431218, 0.9989934909803112L -0.04485537848431218, 0.9989934909803112 L -0.015109223106069103, 0.9998858491733599 L 0.014650313454384466, 0.9998926783988811 \", \"type\": \"path\"}, {\"fillcolor\": \"#e6c4a9\", \"layer\": \"below\", \"line\": {\"color\": \"rgb(175,175,175)\", \"width\": 0.5}, \"path\": \"M 0.05061251820375086,0.9987183652066658 Q -0.17636445091408184, -0.0943163848637893 0.858738063918695, -0.5124148100681432L 0.858738063918695, -0.5124148100681432 L 0.8495261800628565, -0.5275464618285398 L 0.8400476930680912, -0.5425125559569824 M 0.8400476930680912,-0.5425125559569824 Q -0.1763383846280174, -0.09436511064361341 0.014650313454384466, 0.9998926783988811L 0.014650313454384466, 0.9998926783988811 L 0.03263669793159045, 0.9994672810793368 L 0.05061251820375086, 0.9987183652066658 \", \"type\": \"path\"}, {\"fillcolor\": \"#e6c4a9\", \"layer\": \"below\", \"line\": {\"color\": \"rgb(175,175,175)\", \"width\": 0.5}, \"path\": \"M 0.1951998992559724,0.9807634777715054 Q -0.17362539450694714, -0.09926843598197255 0.9442212319276941, -0.3293118054017312L 0.9442212319276941, -0.3293118054017312 L 0.9417576749344384, -0.3362922563813811 L 0.9392425135675609, -0.34325427995480284 M 0.9392425135675609,-0.34325427995480284 Q -0.173514112164523, -0.0994628215955959 0.17845550797390147, 0.983947982199149L 0.17845550797390147, 0.983947982199149 L 0.18683448853234538, 0.9823914056499359 L 0.1951998992559724, 0.9807634777715054 \", \"type\": \"path\"}, {\"fillcolor\": \"#e6c4a9\", \"layer\": \"below\", \"line\": {\"color\": \"rgb(175,175,175)\", \"width\": 0.5}, \"path\": \"M 0.26704151872091864,0.9636850249325374 Q -0.17274179622094876, -0.10079817378484704 0.9703677555010721, -0.24163281872256417L 0.9703677555010721, -0.24163281872256417 L 0.9699601028442787, -0.2432640517838923 L 0.9695497080113494, -0.24489459711293576 M 0.9695497080113494,-0.24489459711293576 Q -0.1727067347016131, -0.10085823609753759 0.26312843785895357, 0.9647608124244614L 0.26312843785895357, 0.9647608124244614 L 0.2650855240194339, 0.9642249037207772 L 0.26704151872091864, 0.9636850249325374 \", \"type\": \"path\"}, {\"fillcolor\": \"#e6c4a9\", \"layer\": \"below\", \"line\": {\"color\": \"rgb(175,175,175)\", \"width\": 0.5}, \"path\": \"M 0.2573814317468475,0.9663098874543005 Q -0.16383449319620932, -0.11470945400942874 0.9960575903633733, -0.08870894362751937L 0.9960575903633733, -0.08870894362751937 L 0.9958158505613246, -0.09138266668699095 L 0.9955669336822857, -0.09405573113027961 M 0.9955669336822857,-0.09405573113027961 Q -0.16373893665927652, -0.11484581238203438 0.25057777536220655, 0.9680964716878827L 0.25057777536220655, 0.9680964716878827 L 0.25398117448448937, 0.9672091619745334 L 0.2573814317468475, 0.9663098874543005 \", \"type\": \"path\"}, {\"fillcolor\": \"#e1b396\", \"layer\": \"below\", \"line\": {\"color\": \"rgb(175,175,175)\", \"width\": 0.5}, \"path\": \"M -0.3304358975184299,0.9438284365451116 Q -0.10348325418377327, 0.1711467677273999 -0.6822914217421641, 0.731080307365105L -0.6822914217421641, 0.731080307365105 L -0.6780997651373872, 0.73496986912432 L -0.6738859355682494, 0.7388353983420834 M -0.6738859355682494,0.7388353983420834 Q -0.10375653325851852, 0.17098123232148593 -0.3442097708398476, 0.9388927700533111L -0.3442097708398476, 0.9388927700533111 L -0.33733186131697707, 0.941385795166054 L -0.3304358975184299, 0.9438284365451116 \", \"type\": \"path\"}, {\"fillcolor\": \"#e1b396\", \"layer\": \"below\", \"line\": {\"color\": \"rgb(175,175,175)\", \"width\": 0.5}, \"path\": \"M -0.35790995559928457,0.9337561050311362 Q -0.11935893007260992, 0.16047880175251128 -0.7913244341576441, 0.611396467036803L -0.7913244341576441, 0.611396467036803 L -0.7865453552947893, 0.6175325125563784 L -0.7817186977926136, 0.6236312031332464 M -0.7817186977926136,0.6236312031332464 Q -0.119519569977864, 0.160359198028384 -0.37424877997574996, 0.9273283402801096L -0.37424877997574996, 0.9273283402801096 L -0.36609347516670104, 0.9305780823984455 L -0.35790995559928457, 0.9337561050311362 \", \"type\": \"path\"}, {\"fillcolor\": \"#e1b396\", \"layer\": \"below\", \"line\": {\"color\": \"rgb(175,175,175)\", \"width\": 0.5}, \"path\": \"M -0.4788193117862264,0.8779134733335424 Q -0.15055313988697974, 0.13165770797857418 -0.9339098258386606, 0.357508653324647L -0.9339098258386606, 0.357508653324647 L -0.9267059088161967, 0.37578738478712503 L -0.9191442754875067, 0.3939210591457969 M -0.9191442754875067,0.3939210591457969 Q -0.15064576791281206, 0.13155171078309535 -0.5141461434778725, 0.8577025959776681L -0.5141461434778725, 0.8577025959776681 L -0.4965855603295705, 0.8679877771444517 L -0.4788193117862264, 0.8779134733335424 \", \"type\": \"path\"}, {\"fillcolor\": \"#e1b396\", \"layer\": \"below\", \"line\": {\"color\": \"rgb(175,175,175)\", \"width\": 0.5}, \"path\": \"M -0.2685180059972269,0.9632746651164834 Q -0.14049648615901109, 0.14234021700479035 -0.9596921685536818, 0.28105327184847295L -0.9596921685536818, 0.28105327184847295 L -0.9594419223298704, 0.281906363312294 L -0.9591909177744675, 0.2827592319606465 M -0.9591909177744675,0.2827592319606465 Q -0.1405592600597015, 0.14227822887381333 -0.2710796465738352, 0.9625569205056939L -0.2710796465738352, 0.9625569205056939 L -0.2697990649620227, 0.9629166446508328 L -0.2685180059972269, 0.9632746651164834 \", \"type\": \"path\"}, {\"fillcolor\": \"#e1b396\", \"layer\": \"below\", \"line\": {\"color\": \"rgb(175,175,175)\", \"width\": 0.5}, \"path\": \"M -0.306226496773087,0.9519586822305276 Q -0.15418573918484083, 0.12738429193595355 -0.9926368024650013, 0.12112876781366964L -0.9926368024650013, 0.12112876781366964 L -0.9920384002896457, 0.1259357469138947 L -0.9914167198010546, 0.13073977091504 M -0.9914167198010546,0.13073977091504 Q -0.15429721075063985, 0.12724924657762274 -0.3170959302930086, 0.9483934684463045L -0.3170959302930086, 0.9483934684463045 L -0.31166631147466634, 0.9501916176707602 L -0.306226496773087, 0.9519586822305276 \", \"type\": \"path\"}, {\"fillcolor\": \"#e1b396\", \"layer\": \"below\", \"line\": {\"color\": \"rgb(175,175,175)\", \"width\": 0.5}, \"path\": \"M -0.28079623013525773,0.9597674078347459 Q -0.15755089989938378, 0.12319786500136419 -0.9991551132060237, 0.04109817215227547L -0.9991551132060237, 0.04109817215227547 L -0.9990248970848131, 0.04415036811487074 L -0.9988853572076658, 0.04720215202841896 M -0.9988853572076658,0.04720215202841896 Q -0.15760058614990358, 0.12313429759903137 -0.2874279452894979, 0.9578022636570961L -0.2874279452894979, 0.9578022636570961 L -0.28411378676895577, 0.9587905695029568 L -0.28079623013525773, 0.9597674078347459 \", \"type\": \"path\"}, {\"fillcolor\": \"#e1b396\", \"layer\": \"below\", \"line\": {\"color\": \"rgb(175,175,175)\", \"width\": 0.5}, \"path\": \"M -0.27517427353391,0.961394361947835 Q -0.16738190786200757, 0.10946824617428755 -0.9910811542304213, -0.1332596928155541L -0.9910811542304213, -0.1332596928155541 L -0.9914256609512228, -0.13067195111205412 L -0.991763411014929, -0.12808331886718488 M -0.991763411014929,-0.12808331886718488 Q -0.16741646406104183, 0.1094153899654792 -0.28079623013525773, 0.9597674078347459L -0.28079623013525773, 0.9597674078347459 L -0.2779864420838875, 0.9605849978099499 L -0.27517427353391, 0.961394361947835 \", \"type\": \"path\"}, {\"fillcolor\": \"#e1b396\", \"layer\": \"below\", \"line\": {\"color\": \"rgb(175,175,175)\", \"width\": 0.5}, \"path\": \"M -0.3442097708398476,0.9388927700533111 Q -0.18108673626822006, 0.08489754971566682 -0.9418819892548681, -0.3359439213876217L -0.9418819892548681, -0.3359439213876217 L -0.9440846691872536, -0.3297031049377514 L -0.9462459985992935, -0.3234478476274434 M -0.9462459985992935,-0.3234478476274434 Q -0.18114592271017194, 0.08477119018558377 -0.35790995559928457, 0.9337561050311362L -0.35790995559928457, 0.9337561050311362 L -0.3510692579757277, 0.9363494946356152 L -0.3442097708398476, 0.9388927700533111 \", \"type\": \"path\"}, {\"fillcolor\": \"#e1b396\", \"layer\": \"below\", \"line\": {\"color\": \"rgb(175,175,175)\", \"width\": 0.5}, \"path\": \"M -0.3170959302930086,0.9483934684463045 Q -0.18791114161985534, 0.06847921476712969 -0.8529431118976393, -0.5220038772522396L -0.8529431118976393, -0.5220038772522396 L -0.8566162705110437, -0.5159540338981278 L -0.8602465189036148, -0.5098783450139972 M -0.8602465189036148,-0.5098783450139972 Q -0.1879092340340831, 0.06848444907221043 -0.3304358975184299, 0.9438284365451116L -0.3304358975184299, 0.9438284365451116 L -0.32377395955553673, 0.9461344635482473 L -0.3170959302930086, 0.9483934684463045 \", \"type\": \"path\"}, {\"fillcolor\": \"#e1b396\", \"layer\": \"below\", \"line\": {\"color\": \"rgb(175,175,175)\", \"width\": 0.5}, \"path\": \"M -0.37424877997574996,0.9273283402801096 Q -0.19955632538058343, 0.013314390733290044 -0.4941257900186799, -0.869390420719262L -0.4941257900186799, -0.869390420719262 L -0.5042374281711202, -0.8635650618403772 L -0.5142803992543581, -0.85762210264357 M -0.5142803992543581,-0.85762210264357 Q -0.1995532521510804, 0.013360372596874885 -0.3953648949355604, 0.9185241422263181L -0.3953648949355604, 0.9185241422263181 L -0.3848320161167281, 0.9229866301152657 L -0.37424877997574996, 0.9273283402801096 \", \"type\": \"path\"}, {\"fillcolor\": \"#e1b396\", \"layer\": \"below\", \"line\": {\"color\": \"rgb(175,175,175)\", \"width\": 0.5}, \"path\": \"M -0.2710796465738352,0.9625569205056939 Q -0.19884102289991046, -0.021499944467772047 -0.059064394166289336, -0.9982541747179269L -0.059064394166289336, -0.9982541747179269 L -0.06047507762472577, -0.9981697075078383 L -0.0618856403046041, -0.9980832467906118 M -0.0618856403046041,-0.9980832467906118 Q -0.19882559907275946, -0.021642115269961903 -0.27517427353391, 0.961394361947835L -0.27517427353391, 0.961394361947835 L -0.2731275786036075, 0.9619778198098593 L -0.2710796465738352, 0.9625569205056939 \", \"type\": \"path\"}, {\"fillcolor\": \"#e1b396\", \"layer\": \"below\", \"line\": {\"color\": \"rgb(175,175,175)\", \"width\": 0.5}, \"path\": \"M -0.4453213803194647,0.8953707992951114 Q -0.18572386703059218, -0.07420677337819585 0.29428858810345143, -0.9557166038696184L 0.29428858810345143, -0.9557166038696184 L 0.275614221572547, -0.9612683292749007 L 0.25683524466603674, -0.9664552018057211 M 0.25683524466603674,-0.9664552018057211 Q -0.18576793953452203, -0.07409637400776216 -0.4788193117862264, 0.8779134733335424L -0.4788193117862264, 0.8779134733335424 L -0.46215278237702795, 0.8868003189789523 L -0.4453213803194647, 0.8953707992951114 \", \"type\": \"path\"}, {\"fillcolor\": \"#e1b396\", \"layer\": \"below\", \"line\": {\"color\": \"rgb(175,175,175)\", \"width\": 0.5}, \"path\": \"M -0.3953648949355604,0.9185241422263181 Q -0.16064386896979232, -0.11913667513581282 0.7641788480902507, -0.6450044093891588L 0.7641788480902507, -0.6450044093891588 L 0.7556072273980989, -0.6550249750229051 L 0.7469042183837985, -0.6649316420208073 M 0.7469042183837985,-0.6649316420208073 Q -0.16064603300290944, -0.11913375709859962 -0.419416075136398, 0.9077941153792414L -0.419416075136398, 0.9077941153792414 L -0.4074258100156214, 0.9132383091685953 L -0.3953648949355604, 0.9185241422263181 \", \"type\": \"path\"}, {\"fillcolor\": \"#e1b396\", \"layer\": \"below\", \"line\": {\"color\": \"rgb(175,175,175)\", \"width\": 0.5}, \"path\": \"M -0.2874279452894979,0.9578022636570961 Q -0.1482945406875616, -0.13419660652291152 0.9244257981151202, -0.3813619590090536L 0.9244257981151202, -0.3813619590090536 L 0.9228948975155504, -0.3850519551174383 L 0.9213492677645123, -0.388735805901382 M 0.9213492677645123,-0.388735805901382 Q -0.1482237267496169, -0.1342748182961158 -0.2960793906685855, 0.9551633338970457L -0.2960793906685855, 0.9551633338970457 L -0.2917566516239082, 0.9564925803335881 L -0.2874279452894979, 0.9578022636570961 \", \"type\": \"path\"}, {\"fillcolor\": \"#e1b396\", \"layer\": \"below\", \"line\": {\"color\": \"rgb(175,175,175)\", \"width\": 0.5}, \"path\": \"M -0.2960793906685855,0.9551633338970457 Q -0.13435708899177273, -0.14814915672273288 0.979461715998255, -0.20163022316546117L 0.979461715998255, -0.20163022316546117 L 0.9785478179483835, -0.2060198242608152 L 0.9776142473616268, -0.21040528357329805 M 0.9776142473616268,-0.21040528357329805 Q -0.1342330622700509, -0.14826154253077442 -0.306226496773087, 0.9519586822305276L -0.306226496773087, 0.9519586822305276 L -0.30115720638862525, 0.9535745052381586 L -0.2960793906685855, 0.9551633338970457 \", \"type\": \"path\"}, {\"fillcolor\": \"#e1b396\", \"layer\": \"below\", \"line\": {\"color\": \"rgb(175,175,175)\", \"width\": 0.5}, \"path\": \"M -0.2662109041664913,0.9639148066623208 Q -0.12933820184261471, -0.15255041640100186 0.9944778807797914, -0.10494638936016404L 0.9944778807797914, -0.10494638936016404 L 0.9943799252340889, -0.10587050718423803 L 0.9942811109527796, -0.10679453357970306 M 0.9942811109527796,-0.10679453357970306 Q -0.12929733850752775, -0.15258505252766338 -0.2685180059972269, 0.9632746651164834L -0.2685180059972269, 0.9632746651164834 L -0.26736464666540916, 0.9635954263660039 L -0.2662109041664913, 0.9639148066623208 \", \"type\": \"path\"}, {\"fillcolor\": \"#dba284\", \"layer\": \"below\", \"line\": {\"color\": \"rgb(175,175,175)\", \"width\": 0.5}, \"path\": \"M -0.690758040220534,0.7230859768178934 Q -0.14969610352646182, 0.13263135597962808 -0.8010209702362369, 0.5986362879426854L -0.8010209702362369, 0.5986362879426854 L -0.7961982650484779, 0.6050358028528509 L -0.7913244341576441, 0.611396467036803 M -0.7913244341576441,0.611396467036803 Q -0.14957091249644583, 0.13277252025543745 -0.7009129068858031, 0.713246869576652L -0.7009129068858031, 0.713246869576652 L -0.6958528639466739, 0.7181843716882259 L -0.690758040220534, 0.7230859768178934 \", \"type\": \"path\"}, {\"fillcolor\": \"#dba284\", \"layer\": \"below\", \"line\": {\"color\": \"rgb(175,175,175)\", \"width\": 0.5}, \"path\": \"M -0.6478283401508284,0.7617863491146468 Q -0.15179467147612807, 0.13022433609527198 -0.8514477182572545, 0.5244394941978674L -0.8514477182572545, 0.5244394941978674 L -0.8494887957607227, 0.5276066582947918 L -0.8475180922938279, 0.5307665053812558 M -0.8475180922938279,0.5307665053812558 Q -0.1517023140915729, 0.13033191435431987 -0.6524102500294781, 0.7578659945244106L -0.6524102500294781, 0.7578659945244106 L -0.6501222501526509, 0.7598296255453942 L -0.6478283401508284, 0.7617863491146468 \", \"type\": \"path\"}, {\"fillcolor\": \"#dba284\", \"layer\": \"below\", \"line\": {\"color\": \"rgb(175,175,175)\", \"width\": 0.5}, \"path\": \"M -0.6675626245845422,0.7445536530417386 Q -0.17688922937786555, 0.09332845509331475 -0.9914167198010546, 0.13073977091504L -0.9914167198010546, 0.13073977091504 L -0.9908022886291874, 0.1353174964561661 L -0.9901667205761921, 0.13989233525604222 M -0.9901667205761921,0.13989233525604222 Q -0.17685598760687357, 0.09339143241003102 -0.6738859355682494, 0.7388353983420834L -0.6738859355682494, 0.7388353983420834 L -0.6707303739157799, 0.741701264328704 L -0.6675626245845422, 0.7445536530417386 \", \"type\": \"path\"}, {\"fillcolor\": \"#dba284\", \"layer\": \"below\", \"line\": {\"color\": \"rgb(175,175,175)\", \"width\": 0.5}, \"path\": \"M -0.6398732692174183,0.7684804482490192 Q -0.1783927289480793, 0.09042142588157473 -0.9980916316966293, 0.061750261029084944L -0.9980916316966293, 0.061750261029084944 L -0.9980698029096857, 0.06210208144515928 L -0.9980478501084759, 0.06245389414479531 M -0.9980478501084759,0.06245389414479531 Q -0.17838905854234172, 0.09042866687271789 -0.6403525325740587, 0.768081137657988L -0.6403525325740587, 0.768081137657988 L -0.6401129320326178, 0.7682808303248267 L -0.6398732692174183, 0.7684804482490192 \", \"type\": \"path\"}, {\"fillcolor\": \"#dba284\", \"layer\": \"below\", \"line\": {\"color\": \"rgb(175,175,175)\", \"width\": 0.5}, \"path\": \"M -0.6403525325740587,0.768081137657988 Q -0.18556590006022022, 0.0746009164477244 -0.9938071309448371, -0.11111879446426429L -0.9938071309448371, -0.11111879446426429 L -0.9938728841622063, -0.11052913700512447 L -0.9939382875170345, -0.10993944063758408 M -0.9939382875170345,-0.10993944063758408 Q -0.18556041875715953, 0.07461454945697656 -0.6411507509913684, 0.7674149558766784L -0.6411507509913684, 0.7674149558766784 L -0.6407517283603565, 0.7677481505045882 L -0.6403525325740587, 0.768081137657988 \", \"type\": \"path\"}, {\"fillcolor\": \"#dba284\", \"layer\": \"below\", \"line\": {\"color\": \"rgb(175,175,175)\", \"width\": 0.5}, \"path\": \"M -0.6421076981870664,0.7666144428126223 Q -0.19640766361049367, 0.03773631772003147 -0.8804845671696241, -0.47407481158158954L -0.8804845671696241, -0.47407481158158954 L -0.8813062449866399, -0.4725455560552322 L -0.8821252667432529, -0.4710148763819938 M -0.8821252667432529,-0.4710148763819938 Q -0.1963931421528721, 0.037811819783260564 -0.6441776530038574, 0.7648759058634557L -0.6441776530038574, 0.7648759058634557 L -0.6431432630446895, 0.7657458737729047 L -0.6421076981870664, 0.7666144428126223 \", \"type\": \"path\"}, {\"fillcolor\": \"#dba284\", \"layer\": \"below\", \"line\": {\"color\": \"rgb(175,175,175)\", \"width\": 0.5}, \"path\": \"M -0.6411507509913684,0.7674149558766784 Q -0.19991710205383353, -0.005757803956119849 -0.5959200357411917, -0.8030437790072324L -0.5959200357411917, -0.8030437790072324 L -0.596573647624685, -0.8025583361723796 L -0.5972268640614373, -0.8020723613511075 M -0.5972268640614373,-0.8020723613511075 Q -0.19991819443815279, -0.005719749346688266 -0.6421076981870664, 0.7666144428126223L -0.6421076981870664, 0.7666144428126223 L -0.6416293494317822, 0.7670148485836163 L -0.6411507509913684, 0.7674149558766784 \", \"type\": \"path\"}, {\"fillcolor\": \"#dba284\", \"layer\": \"below\", \"line\": {\"color\": \"rgb(175,175,175)\", \"width\": 0.5}, \"path\": \"M -0.6622820818337967,0.7492545922995015 Q -0.18573403452690096, -0.07418132122279812 0.036101817452714055, -0.9993481169125256L 0.036101817452714055, -0.9993481169125256 L 0.03143967192936984, -0.9995056513241801 L 0.02677684226562355, -0.9996414360750968 M 0.02677684226562355,-0.9996414360750968 Q -0.18581773133157542, -0.07397141828291831 -0.6675626245845422, 0.7445536530417386L -0.6675626245845422, 0.7445536530417386 L -0.6649265075966633, 0.7469087892743694 L -0.6622820818337967, 0.7492545922995015 \", \"type\": \"path\"}, {\"fillcolor\": \"#dba284\", \"layer\": \"below\", \"line\": {\"color\": \"rgb(175,175,175)\", \"width\": 0.5}, \"path\": \"M -0.6441776530038574,0.7648759058634557 Q -0.15158550677992733, -0.13046775131913868 0.6604249172379121, -0.7508920885795088L 0.6604249172379121, -0.7508920885795088 L 0.6581214201337958, -0.752911811808711 L 0.6558117463095183, -0.754924468673827 M 0.6558117463095183,-0.754924468673827 Q -0.15167318284952278, -0.13036581455387464 -0.6478283401508284, 0.7617863491146468L -0.6478283401508284, 0.7617863491146468 L -0.6460048435786937, 0.7633333099458371 L -0.6441776530038574, 0.7648759058634557 \", \"type\": \"path\"}, {\"fillcolor\": \"#dba284\", \"layer\": \"below\", \"line\": {\"color\": \"rgb(175,175,175)\", \"width\": 0.5}, \"path\": \"M -0.6572819152413168,0.7536447995552722 Q -0.10224350907764826, -0.1718902697987552 0.975982082211455, -0.21785080950547944L 0.975982082211455, -0.21785080950547944 L 0.9751943776852441, -0.22135023318508032 L 0.9743941258746865, -0.2248468088741878 M 0.9743941258746865,-0.2248468088741878 Q -0.10228819422611422, -0.17186368238217387 -0.6622820818337967, 0.7492545922995015L -0.6622820818337967, 0.7492545922995015 L -0.6597856500971734, 0.7514538548213392 L -0.6572819152413168, 0.7536447995552722 \", \"type\": \"path\"}, {\"fillcolor\": \"#d59171\", \"layer\": \"below\", \"line\": {\"color\": \"rgb(175,175,175)\", \"width\": 0.5}, \"path\": \"M -0.7374615925105192,0.6753890727364849 Q -0.1611712544022081, 0.11842223927294536 -0.8648925129071607, 0.501957110834319L -0.8648925129071607, 0.501957110834319 L -0.8625627712142351, 0.5059500624718009 L -0.8602145953825495, 0.5099322012687928 M -0.8602145953825495,0.5099322012687928 Q -0.16112617154017186, 0.1184835720461158 -0.7431654171442893, 0.6691077362882263L -0.7431654171442893, 0.6691077362882263 L -0.7403201667027107, 0.6722544538887568 L -0.7374615925105192, 0.6753890727364849 \", \"type\": \"path\"}, {\"fillcolor\": \"#d59171\", \"layer\": \"below\", \"line\": {\"color\": \"rgb(175,175,175)\", \"width\": 0.5}, \"path\": \"M -0.7729715645076131,0.6344406674092173 Q -0.18439012500128113, 0.07746148592695552 -0.994159227880108, 0.10792325801618262L -0.994159227880108, 0.10792325801618262 L -0.9934199579840461, 0.11452854263883706 L -0.9926368024650013, 0.12112876781366964 M -0.9926368024650013,0.12112876781366964 Q -0.1844138318781039, 0.07740502963008568 -0.7817186977926136, 0.6236312031332464L -0.7817186977926136, 0.6236312031332464 L -0.7773639199578729, 0.6290511393740017 L -0.7729715645076131, 0.6344406674092173 \", \"type\": \"path\"}, {\"fillcolor\": \"#d59171\", \"layer\": \"below\", \"line\": {\"color\": \"rgb(175,175,175)\", \"width\": 0.5}, \"path\": \"M -0.7236216708984708,0.6901968396088938 Q -0.18334812138247528, 0.07989659808475649 -0.9981918595455662, 0.06010833167677082L -0.9981918595455662, 0.06010833167677082 L -0.998163498626476, 0.060577471140292743 L -0.9981349172168841, 0.061046597222482825 M -0.9981349172168841,0.061046597222482825 Q -0.1833482311075017, 0.07989634628535992 -0.7242720244130213, 0.6895143469520152L -0.7242720244130213, 0.6895143469520152 L -0.7239469280822654, 0.6898556699196227 L -0.7236216708984708, 0.6901968396088938 \", \"type\": \"path\"}, {\"fillcolor\": \"#d59171\", \"layer\": \"below\", \"line\": {\"color\": \"rgb(175,175,175)\", \"width\": 0.5}, \"path\": \"M -0.7289678007790407,0.6845479862123391 Q -0.19029675617932096, 0.06153978052957346 -0.991763411014929, -0.12808331886718488L -0.991763411014929, -0.12808331886718488 L -0.992049665048625, -0.1258469788151897 L -0.9923308763369315, -0.12360999906309217 M -0.9923308763369315,-0.12360999906309217 Q -0.19029579721612055, 0.061542745810380675 -0.732025893169848, 0.6812768099156805L -0.732025893169848, 0.6812768099156805 L -0.7304986780194715, 0.6829141098350541 L -0.7289678007790407, 0.6845479862123391 \", \"type\": \"path\"}, {\"fillcolor\": \"#d59171\", \"layer\": \"below\", \"line\": {\"color\": \"rgb(175,175,175)\", \"width\": 0.5}, \"path\": \"M -0.7250840610339272,0.6886603694380475 Q -0.19463705466663106, 0.04600453184957837 -0.9566747230891147, -0.2911588470274699L -0.9566747230891147, -0.2911588470274699 L -0.956954560422148, -0.29023778059937955 L -0.9572335109718997, -0.2893164452159781 M -0.9572335109718997,-0.2893164452159781 Q -0.19463613915275998, 0.046008405055027235 -0.7263812247849367, 0.6872920167439276L -0.7263812247849367, 0.6872920167439276 L -0.7257329654091669, 0.6879764988125808 L -0.7250840610339272, 0.6886603694380475 \", \"type\": \"path\"}, {\"fillcolor\": \"#d59171\", \"layer\": \"below\", \"line\": {\"color\": \"rgb(175,175,175)\", \"width\": 0.5}, \"path\": \"M -0.7263812247849367,0.6872920167439276 Q -0.19836942285635636, 0.025486703899015414 -0.8765293326719606, -0.4813484485958664L -0.8765293326719606, -0.4813484485958664 L -0.8775558015365241, -0.4794745198543805 L -0.878578264141871, -0.47759840219315713 M -0.878578264141871,-0.47759840219315713 Q -0.19836301517487193, 0.02553652699044123 -0.7289678007790407, 0.6845479862123391L -0.7289678007790407, 0.6845479862123391 L -0.7276758062340634, 0.6859212207109544 L -0.7263812247849367, 0.6872920167439276 \", \"type\": \"path\"}, {\"fillcolor\": \"#d59171\", \"layer\": \"below\", \"line\": {\"color\": \"rgb(175,175,175)\", \"width\": 0.5}, \"path\": \"M -0.7431654171442893,0.6691077362882263 Q -0.19839019161680607, -0.02532453099757174 -0.5512501349594956, -0.8343400318258366L -0.5512501349594956, -0.8343400318258366 L -0.5555449559570977, -0.8314865013399955 L -0.559825006056726, -0.8286108631882559 M -0.559825006056726,-0.8286108631882559 Q -0.19840732523988558, -0.025189944246748038 -0.7491280722850937, 0.6624251892209561L -0.7491280722850937, 0.6624251892209561 L -0.7461542258522413, 0.6657731379703168 L -0.7431654171442893, 0.6691077362882263 \", \"type\": \"path\"}, {\"fillcolor\": \"#d59171\", \"layer\": \"below\", \"line\": {\"color\": \"rgb(175,175,175)\", \"width\": 0.5}, \"path\": \"M -0.764682818769816,0.6444068487207819 Q -0.1775178488523168, -0.09212715853018594 0.08676454670511063, -0.9962288459159656L 0.08676454670511063, -0.9962288459159656 L 0.0792445879047422, -0.996855202769092 L 0.07172011675086687, -0.9974247965903204 M 0.07172011675086687,-0.9974247965903204 Q -0.17761583503661377, -0.09193810496331982 -0.7729715645076131, 0.6344406674092173L -0.7729715645076131, 0.6344406674092173 L -0.7688433402166897, 0.639437188631099 L -0.764682818769816, 0.6444068487207819 \", \"type\": \"path\"}, {\"fillcolor\": \"#d59171\", \"layer\": \"below\", \"line\": {\"color\": \"rgb(175,175,175)\", \"width\": 0.5}, \"path\": \"M -0.7491280722850937,0.6624251892209561 Q -0.1389133509790538, -0.14388565223735902 0.6883506305624884, -0.7253781147816803L 0.6883506305624884, -0.7253781147816803 L 0.6838932615519707, -0.7295820768109698 L 0.6794102182068643, -0.73375864928197 M 0.6794102182068643,-0.73375864928197 Q -0.13901495274784456, -0.14378749219773793 -0.7562655848493525, 0.6542647515894975L -0.7562655848493525, 0.6542647515894975 L -0.7527078875106464, 0.6583546430908345 L -0.7491280722850937, 0.6624251892209561 \", \"type\": \"path\"}, {\"fillcolor\": \"#d59171\", \"layer\": \"below\", \"line\": {\"color\": \"rgb(175,175,175)\", \"width\": 0.5}, \"path\": \"M -0.7229706742608762,0.6908787188492449 Q -0.11195948600009037, -0.16572589868392804 0.9107999060893629, -0.412848072621888L 0.9107999060893629, -0.412848072621888 L 0.9106057685831245, -0.41327609926432607 L 0.9104114299275522, -0.4137040346156534 M 0.9104114299275522,-0.4137040346156534 Q -0.11195925840196791, -0.1657260524422198 -0.7236216708984708, 0.6901968396088938L -0.7236216708984708, 0.6901968396088938 L -0.7232962529339064, 0.6905378559440246 L -0.7229706742608762, 0.6908787188492449 \", \"type\": \"path\"}, {\"fillcolor\": \"#d59171\", \"layer\": \"below\", \"line\": {\"color\": \"rgb(175,175,175)\", \"width\": 0.5}, \"path\": \"M -0.732025893169848,0.6812768099156805 Q -0.09248840984488346, -0.1773299017209587 0.9776142473616268, -0.21040528357329805L 0.9776142473616268, -0.21040528357329805 L 0.9768052588384525, -0.21412960165643563 L 0.975982082211455, -0.21785080950547944 M 0.975982082211455,-0.21785080950547944 Q -0.0924537457994435, -0.17734797683551928 -0.7374615925105192, 0.6753890727364849L -0.7374615925105192, 0.6753890727364849 L -0.7347496403572272, 0.6783383860544273 L -0.732025893169848, 0.6812768099156805 \", \"type\": \"path\"}, {\"fillcolor\": \"#d0805f\", \"layer\": \"below\", \"line\": {\"color\": \"rgb(175,175,175)\", \"width\": 0.5}, \"path\": \"M -0.8514477182572545,0.5244394941978674 Q -0.18364799063112458, 0.07920489591654285 -0.9657935747526076, 0.25931211110663377L -0.9657935747526076, 0.25931211110663377 L -0.9650985256582582, 0.26188706682892254 L -0.9643966113449894, 0.2644601596201238 M -0.9643966113449894,0.2644601596201238 Q -0.18374174478789645, 0.078987158591125 -0.855463142430624, 0.5178637001593391L -0.855463142430624, 0.5178637001593391 L -0.8534617635549749, 0.5211554644725813 L -0.8514477182572545, 0.5244394941978674 \", \"type\": \"path\"}, {\"fillcolor\": \"#d0805f\", \"layer\": \"below\", \"line\": {\"color\": \"rgb(175,175,175)\", \"width\": 0.5}, \"path\": \"M -0.855463142430624,0.5178637001593391 Q -0.18839352281618973, 0.0671407518643171 -0.9901667205761921, 0.13989233525604222L -0.9901667205761921, 0.13989233525604222 L -0.9895912439828669, 0.14390680954159912 L -0.9889994914070962, 0.14791891696637377 M -0.9889994914070962,0.14791891696637377 Q -0.18843158856180903, 0.0670338454220935 -0.8602145953825495, 0.5099322012687928L -0.8602145953825495, 0.5099322012687928 L -0.8578480355958129, 0.5139034421215769 L -0.855463142430624, 0.5178637001593391 \", \"type\": \"path\"}, {\"fillcolor\": \"#d0805f\", \"layer\": \"below\", \"line\": {\"color\": \"rgb(175,175,175)\", \"width\": 0.5}, \"path\": \"M -0.8385398582128191,0.5448402574961081 Q -0.19022474931999755, 0.06176200082691692 -0.9986646453074883, 0.05166165127895643L -0.9986646453074883, 0.05166165127895643 L -0.99856575749049, 0.05353903218628222 L -0.9984633404047178, 0.055416223868578945 M -0.9984633404047178,0.055416223868578945 Q -0.19023553301246643, 0.061728777563327855 -0.8407716640115632, 0.541389886306742L -0.8407716640115632, 0.541389886306742 L -0.8396575334231385, 0.5431162182864465 L -0.8385398582128191, 0.5448402574961081 \", \"type\": \"path\"}, {\"fillcolor\": \"#d0805f\", \"layer\": \"below\", \"line\": {\"color\": \"rgb(175,175,175)\", \"width\": 0.5}, \"path\": \"M -0.8362938928145431,0.5482814285028241 Q -0.19481546747604128, 0.045243050649702105 -0.9923308763369315, -0.12360999906309217L -0.9923308763369315, -0.12360999906309217 L -0.9925637735211127, -0.12172573882926056 L -0.9927930928327666, -0.11984103981336937 M -0.9927930928327666,-0.11984103981336937 Q -0.19482252448262607, 0.04521265258991746 -0.8385398582128191, 0.5448402574961081L -0.8385398582128191, 0.5448402574961081 L -0.8374186430988806, 0.5465619966576798 L -0.8362938928145431, 0.5482814285028241 \", \"type\": \"path\"}, {\"fillcolor\": \"#d0805f\", \"layer\": \"below\", \"line\": {\"color\": \"rgb(175,175,175)\", \"width\": 0.5}, \"path\": \"M -0.8346001493341784,0.5508562341767289 Q -0.1980764984508411, 0.027671298514055077 -0.9536105359940582, -0.3010430959864801L -0.9536105359940582, -0.3010430959864801 L -0.95404423508947, -0.2996658096822994 L -0.9544759449907555, -0.29828789857116933 M -0.9544759449907555,-0.29828789857116933 Q -0.19807918208473424, 0.027652081741574214 -0.8362938928145431, 0.5482814285028241L -0.8362938928145431, 0.5482814285028241 L -0.8354480130014602, 0.54956948384341 L -0.8346001493341784, 0.5508562341767289 \", \"type\": \"path\"}, {\"fillcolor\": \"#d0805f\", \"layer\": \"below\", \"line\": {\"color\": \"rgb(175,175,175)\", \"width\": 0.5}, \"path\": \"M -0.8755194482251778,0.4831828802632398 Q -0.19990222839698746, -0.00625292586863703 -0.8436095504811106, -0.5369570991588234L -0.8436095504811106, -0.5369570991588234 L -0.8483092795481216, -0.5295010540429044 L -0.8529431118976393, -0.5220038772522396 M -0.8529431118976393,-0.5220038772522396 Q -0.19990433234104033, -0.006185297994672777 -0.8835835718087491, 0.468273500883504L -0.8835835718087491, 0.468273500883504 L -0.8795831007764376, 0.47574527725297205 L -0.8755194482251778, 0.4831828802632398 \", \"type\": \"path\"}, {\"fillcolor\": \"#d0805f\", \"layer\": \"below\", \"line\": {\"color\": \"rgb(175,175,175)\", \"width\": 0.5}, \"path\": \"M -0.8835835718087491,0.468273500883504 Q -0.1913375885240563, -0.05822308148663144 -0.4729848504532466, -0.88107055974066L -0.4729848504532466, -0.88107055974066 L -0.48359058524788756, -0.8752943195632001 L -0.4941257900186799, -0.869390420719262 M -0.4941257900186799,-0.869390420719262 Q -0.19137526997466303, -0.058099105347026093 -0.8940555138396071, 0.4479561788534634L -0.8940555138396071, 0.4479561788534634 L -0.8888775945538278, 0.45814476085643613 L -0.8835835718087491, 0.468273500883504 \", \"type\": \"path\"}, {\"fillcolor\": \"#d0805f\", \"layer\": \"below\", \"line\": {\"color\": \"rgb(175,175,175)\", \"width\": 0.5}, \"path\": \"M -0.8333246385120932,0.552783906104989 Q -0.17926580008317192, -0.08867791675800828 -0.06629283920650335, -0.9978002101973825L -0.06629283920650335, -0.9978002101973825 L -0.06708600019301715, -0.9977471967277596 L -0.067879118786896, -0.9976935527669378 M -0.067879118786896,-0.9976935527669378 Q -0.17923379346628876, -0.08874258999873597 -0.8346001493341784, 0.5508562341767289L -0.8346001493341784, 0.5508562341767289 L -0.8339629508903696, 0.5518204386774985 L -0.8333246385120932, 0.552783906104989 \", \"type\": \"path\"}, {\"fillcolor\": \"#d0805f\", \"layer\": \"below\", \"line\": {\"color\": \"rgb(175,175,175)\", \"width\": 0.5}, \"path\": \"M -0.9063523602167403,0.4225226610840469 Q -0.1576811398382798, -0.12303112670906032 0.18944532743247577, -0.9818912709226018L 0.18944532743247577, -0.9818912709226018 L 0.17298423054656137, -0.9849245940589635 L 0.15647466888328604, -0.9876819720931763 M 0.15647466888328604,-0.9876819720931763 Q -0.15781292294253207, -0.1228620419508582 -0.9191442754875067, 0.3939210591457969L -0.9191442754875067, 0.3939210591457969 L -0.9128603423581505, 0.40827196248304914 L -0.9063523602167403, 0.4225226610840469 \", \"type\": \"path\"}, {\"fillcolor\": \"#d0805f\", \"layer\": \"below\", \"line\": {\"color\": \"rgb(175,175,175)\", \"width\": 0.5}, \"path\": \"M -0.8697500961083501,0.4934924217447679 Q -0.12226201936063336, -0.15827823167403698 0.6971876772057682, -0.7168886543616279L 0.6971876772057682, -0.7168886543616279 L 0.6927821579023866, -0.7211469210168706 L 0.6883506305624884, -0.7253781147816803 M 0.6883506305624884,-0.7253781147816803 Q -0.12229684562772727, -0.15825132400554456 -0.8755194482251778, 0.4831828802632398L -0.8755194482251778, 0.4831828802632398 L -0.8726499969953189, 0.48834617101403593 L -0.8697500961083501, 0.4934924217447679 \", \"type\": \"path\"}, {\"fillcolor\": \"#d0805f\", \"layer\": \"below\", \"line\": {\"color\": \"rgb(175,175,175)\", \"width\": 0.5}, \"path\": \"M -0.8439550022919806,0.536413976427109 Q -0.0940017377069341, -0.17653235768004905 0.9161539167437749, -0.4008266468625064L 0.9161539167437749, -0.4008266468625064 L 0.9149251286580348, -0.4036235981085329 L 0.9136878017074226, -0.40641678239346557 M 0.9136878017074226,-0.40641678239346557 Q -0.09395163358495234, -0.17655902850525335 -0.8475180922938279, 0.5307665053812558L -0.8475180922938279, 0.5307665053812558 L -0.8457412612077208, 0.533593214996943 L -0.8439550022919806, 0.536413976427109 \", \"type\": \"path\"}, {\"fillcolor\": \"#d0805f\", \"layer\": \"below\", \"line\": {\"color\": \"rgb(175,175,175)\", \"width\": 0.5}, \"path\": \"M -0.8407716640115632,0.541389886306742 Q -0.07844047266758379, -0.18397579255892893 0.9727560217474189, -0.23183123636416L 0.9727560217474189, -0.23183123636416 L 0.972155094958289, -0.2343383693436483 L 0.9715477064206925, -0.23684394471611836 M 0.9715477064206925,-0.23684394471611836 Q -0.07837140491005773, -0.18400522517696008 -0.8439550022919806, 0.536413976427109L -0.8439550022919806, 0.536413976427109 L -0.8423670072826603, 0.5389042818921134 L -0.8407716640115632, 0.541389886306742 \", \"type\": \"path\"}, {\"fillcolor\": \"#d0805f\", \"layer\": \"below\", \"line\": {\"color\": \"rgb(175,175,175)\", \"width\": 0.5}, \"path\": \"M -0.8321871131471141,0.5544949131523862 Q -0.06808657697989053, -0.18805376368252097 0.9942811109527796, -0.10679453357970306L 0.9942811109527796, -0.10679453357970306 L 0.9941925551911869, -0.10761581297569082 L 0.9941033210502882, -0.10843701894089285 M 0.9941033210502882,-0.10843701894089285 Q -0.06804872493127621, -0.18806746405273697 -0.8333246385120932, 0.552783906104989L -0.8333246385120932, 0.552783906104989 L -0.8327563152657621, 0.5536397017781426 L -0.8321871131471141, 0.5544949131523862 \", \"type\": \"path\"}, {\"fillcolor\": \"#ca6f4c\", \"layer\": \"below\", \"line\": {\"color\": \"rgb(175,175,175)\", \"width\": 0.5}, \"path\": \"M -0.9587877336515213,0.28412335665935606 Q -0.19395735195689606, 0.04879083542909214 -0.9791036504795229, 0.2033618489728898L -0.9791036504795229, 0.2033618489728898 L -0.9789199780040988, 0.20424415943780322 L -0.9787355104426884, 0.2051263040141127 M -0.9787355104426884,0.2051263040141127 Q -0.1939480784303896, 0.048827685519174956 -0.9591909177744675, 0.2827592319606465L -0.9591909177744675, 0.2827592319606465 L -0.9589895682646982, 0.28344136599919195 L -0.9587877336515213, 0.28412335665935606 \", \"type\": \"path\"}, {\"fillcolor\": \"#ca6f4c\", \"layer\": \"below\", \"line\": {\"color\": \"rgb(175,175,175)\", \"width\": 0.5}, \"path\": \"M -0.9580774937923182,0.28650918988512475 Q -0.19691623543213993, 0.03498565739319528 -0.9981349172168841, 0.061046597222482825L -0.9981349172168841, 0.061046597222482825 L -0.9981133364665944, 0.061398432940287434 L -0.9980916316966293, 0.061750261029084944 M -0.9980916316966293,0.061750261029084944 Q -0.19691323344183878, 0.03500254984254591 -0.9582301879852487, 0.28599808886381556L -0.9582301879852487, 0.28599808886381556 L -0.9581538749678945, 0.2862536495557888 L -0.9580774937923182, 0.28650918988512475 \", \"type\": \"path\"}, {\"fillcolor\": \"#ca6f4c\", \"layer\": \"below\", \"line\": {\"color\": \"rgb(175,175,175)\", \"width\": 0.5}, \"path\": \"M -0.9620073793046493,0.273023446178896 Q -0.19994907217210975, -0.004513151616381847 -0.948708820714513, -0.3161511877227065L -0.948708820714513, -0.3161511877227065 L -0.9496178809710697, -0.3134100830222528 L -0.9505190213712639, -0.3106663644674375 M -0.9505190213712639,-0.3106663644674375 Q -0.19995241922772067, -0.004362343977936502 -0.9631637116735114, 0.2689157200970313L -0.9631637116735114, 0.2689157200970313 L -0.9625877366442507, 0.2709701999521324 L -0.9620073793046493, 0.273023446178896 \", \"type\": \"path\"}, {\"fillcolor\": \"#ca6f4c\", \"layer\": \"below\", \"line\": {\"color\": \"rgb(175,175,175)\", \"width\": 0.5}, \"path\": \"M -0.9596921685536818,0.28105327184847295 Q -0.19894466478261189, -0.020518780532336342 -0.8821252667432529, -0.4710148763819938L -0.8821252667432529, -0.4710148763819938 L -0.8828789272414187, -0.4696006812527445 L -0.8836303205488684, -0.4681852802114823 M -0.8836303205488684,-0.4681852802114823 Q -0.1989556268781177, -0.020412215302000488 -0.9602896643156065, 0.27900494728341246L -0.9602896643156065, 0.27900494728341246 L -0.9599914627461064, 0.280029268924859 L -0.9596921685536818, 0.28105327184847295 \", \"type\": \"path\"}, {\"fillcolor\": \"#ca6f4c\", \"layer\": \"below\", \"line\": {\"color\": \"rgb(175,175,175)\", \"width\": 0.5}, \"path\": \"M -0.9602896643156065,0.27900494728341246 Q -0.1892981571149161, -0.06454616729827221 -0.5898006678678582, -0.8075488667459254L -0.5898006678678582, -0.8075488667459254 L -0.5914431383506642, -0.8063467083692455 L -0.5930831585472117, -0.8051412093835857 M -0.5930831585472117,-0.8051412093835857 Q -0.18934341244998726, -0.06441329180995188 -0.9610303857898064, 0.27644275644099603L -0.9610303857898064, 0.27644275644099603 L -0.9606608792595568, 0.2777240988107717 L -0.9602896643156065, 0.27900494728341246 \", \"type\": \"path\"}, {\"fillcolor\": \"#ca6f4c\", \"layer\": \"below\", \"line\": {\"color\": \"rgb(175,175,175)\", \"width\": 0.5}, \"path\": \"M -0.9610303857898064,0.27644275644099603 Q -0.162873268358708, -0.11607023069741995 -0.052362084931130835, -0.9986281650652885L -0.052362084931130835, -0.9986281650652885 L -0.05412609160841333, -0.998534108684925 L -0.05588992938164685, -0.9984369363128122 M -0.05588992938164685,-0.9984369363128122 Q -0.1628719262266142, -0.11607211399484521 -0.9620073793046493, 0.273023446178896L -0.9620073793046493, 0.273023446178896 L -0.9615204024957229, 0.2747335356021595 L -0.9610303857898064, 0.27644275644099603 \", \"type\": \"path\"}, {\"fillcolor\": \"#ca6f4c\", \"layer\": \"below\", \"line\": {\"color\": \"rgb(175,175,175)\", \"width\": 0.5}, \"path\": \"M -0.9680607598151599,0.2507157061416281 Q -0.1502576364212885, -0.13199485860096172 0.12387325838749484, -0.9922980478951196L 0.12387325838749484, -0.9922980478951196 L 0.11379242070973608, -0.993504547039931 L 0.10369985343118146, -0.9946086368006019 M 0.10369985343118146,-0.9946086368006019 Q -0.15072841789106275, -0.13145700453021572 -0.9712757243570009, 0.23795686011288492L -0.9712757243570009, 0.23795686011288492 L -0.9696892268909177, 0.2443415708627866 L -0.9680607598151599, 0.2507157061416281 \", \"type\": \"path\"}, {\"fillcolor\": \"#ca6f4c\", \"layer\": \"below\", \"line\": {\"color\": \"rgb(175,175,175)\", \"width\": 0.5}, \"path\": \"M -0.9579755462103737,0.28684987861760747 Q -0.10878419365483954, -0.1678272898275676 0.6529916640419036, -0.7573650947144223L 0.6529916640419036, -0.7573650947144223 L 0.6527898815727142, -0.7575390224379743 L 0.6525880527769743, -0.7577128964012405 M 0.6525880527769743,-0.7577128964012405 Q -0.10879906084429765, -0.16781765210906396 -0.9580774937923182, 0.28650918988512475L -0.9580774937923182, 0.28650918988512475 L -0.9580265351456047, 0.286679538783129 L -0.9579755462103737, 0.28684987861760747 \", \"type\": \"path\"}, {\"fillcolor\": \"#ca6f4c\", \"layer\": \"below\", \"line\": {\"color\": \"rgb(175,175,175)\", \"width\": 0.5}, \"path\": \"M -0.9584840723862728,0.2851460730605038 Q -0.06945550258370836, -0.18755248108421407 0.9130180159701085, -0.4079192352831708L 0.9130180159701085, -0.4079192352831708 L 0.912730208525857, -0.40856280599724887 L 0.9124419474397332, -0.4092061736489165 M 0.9124419474397332,-0.4092061736489165 Q -0.06948768016685257, -0.18754056175939435 -0.9587877336515213, 0.28412335665935606L -0.9587877336515213, 0.28412335665935606 L -0.9586360394039364, 0.2846347553548839 L -0.9584840723862728, 0.2851460730605038 \", \"type\": \"path\"}, {\"fillcolor\": \"#ca6f4c\", \"layer\": \"below\", \"line\": {\"color\": \"rgb(175,175,175)\", \"width\": 0.5}, \"path\": \"M -0.9579245269882375,0.2870202093831748 Q -0.05389538612784833, -0.1926013690349322 0.96776790756405, -0.2518437553109078L 0.96776790756405, -0.2518437553109078 L 0.9677396714946442, -0.25195223399572786 L 0.9677114232656857, -0.2520607095147931 M 0.9677114232656857,-0.2520607095147931 Q -0.0538998524398022, -0.19260011917692976 -0.9579755462103737, 0.28684987861760747L -0.9579755462103737, 0.28684987861760747 L -0.9579500403850679, 0.2869350451343416 L -0.9579245269882375, 0.2870202093831748 \", \"type\": \"path\"}, {\"fillcolor\": \"#ca6f4c\", \"layer\": \"below\", \"line\": {\"color\": \"rgb(175,175,175)\", \"width\": 0.5}, \"path\": \"M -0.9578734774808089,0.28719053107444587 Q -0.04001160818374788, -0.19595680955391737 0.9937856602033593, -0.11131065346216029L 0.9937856602033593, -0.11131065346216029 L 0.993774161524807, -0.11141326620141258 L 0.9937626522510381, -0.11151587775282186 M 0.9937626522510381,-0.11151587775282186 Q -0.04001442039715469, -0.1959562353187052 -0.9579245269882375, 0.2870202093831748L -0.9579245269882375, 0.2870202093831748 L -0.9578990060200839, 0.2871053713634339 L -0.9578734774808089, 0.28719053107444587 \", \"type\": \"path\"}, {\"fillcolor\": \"#c45e3a\", \"layer\": \"below\", \"line\": {\"color\": \"rgb(175,175,175)\", \"width\": 0.5}, \"path\": \"M -0.9784573186422694,0.20644920827017108 Q -0.19978032328473946, 0.009371362133916084 -0.9934866461489003, -0.11394860211432986L -0.9934866461489003, -0.11394860211432986 L -0.9935675228594562, -0.11324123594752944 L -0.9936478959227496, -0.1125338123778478 M -0.9936478959227496,-0.1125338123778478 Q -0.1997799852650881, 0.009378565321048696 -0.9787355104426884, 0.2051263040141127L -0.9787355104426884, 0.2051263040141127 L -0.9785966380865575, 0.2057878031509329 L -0.9784573186422694, 0.20644920827017108 \", \"type\": \"path\"}, {\"fillcolor\": \"#c45e3a\", \"layer\": \"below\", \"line\": {\"color\": \"rgb(175,175,175)\", \"width\": 0.5}, \"path\": \"M -0.9839230869273029,0.17859271824866504 Q -0.19943914932900664, -0.014967488597697087 -0.9462459985992935, -0.3234478476274434L -0.9462459985992935, -0.3234478476274434 L -0.9474844337093864, -0.31980188848473573 L -0.948708820714513, -0.3161511877227065 M -0.948708820714513,-0.3161511877227065 Q -0.19944282008943687, -0.014918495727536325 -0.9851851215802662, 0.17149424543370623L -0.9851851215802662, 0.17149424543370623 L -0.9845605015853766, 0.17504461922021977 L -0.9839230869273029, 0.17859271824866504 \", \"type\": \"path\"}, {\"fillcolor\": \"#c45e3a\", \"layer\": \"below\", \"line\": {\"color\": \"rgb(175,175,175)\", \"width\": 0.5}, \"path\": \"M -0.9800548807084909,0.1987270258406382 Q -0.19760829476904967, -0.03083766914778706 -0.8729052101747793, -0.48788983802670505L -0.8729052101747793, -0.48788983802670505 L -0.8747233862028996, -0.4846225310793266 L -0.8765293326719606, -0.4813484485958664 M -0.8765293326719606,-0.4813484485958664 Q -0.19762629602505807, -0.030722094971146113 -0.9812890552991659, 0.19254035927584257L -0.9812890552991659, 0.19254035927584257 L -0.9806768466417966, 0.19563466579495126 L -0.9800548807084909, 0.1987270258406382 \", \"type\": \"path\"}, {\"fillcolor\": \"#c45e3a\", \"layer\": \"below\", \"line\": {\"color\": \"rgb(175,175,175)\", \"width\": 0.5}, \"path\": \"M -0.9864699199447664,0.16394235890753223 Q -0.18374411274570657, -0.07898164996562859 -0.559825006056726, -0.8286108631882559L -0.559825006056726, -0.8286108631882559 L -0.5638660619937585, -0.8258662507522939 L -0.5678936623777495, -0.8231019306447936 M -0.5678936623777495,-0.8231019306447936 Q -0.18380956245571178, -0.07882921254103581 -0.9877671975063907, 0.15593576732222433L -0.9877671975063907, 0.15593576732222433 L -0.9871266764492118, 0.15994037839874267 L -0.9864699199447664, 0.16394235890753223 \", \"type\": \"path\"}, {\"fillcolor\": \"#c45e3a\", \"layer\": \"below\", \"line\": {\"color\": \"rgb(175,175,175)\", \"width\": 0.5}, \"path\": \"M -0.9783175521734744,0.20711051906965328 Q -0.1597133977637134, -0.12038118862500852 -0.07034632229284218, -0.9975226287858695L -0.07034632229284218, -0.9975226287858695 L -0.07061064027273709, -0.9975039536163625 L -0.07087495329486519, -0.9974852084093532 M -0.07087495329486519,-0.9974852084093532 Q -0.1597046115988582, -0.12039284461319887 -0.9784573186422694, 0.20644920827017108L -0.9784573186422694, 0.20644920827017108 L -0.9783874912819491, 0.20677987547876567 L -0.9783175521734744, 0.20711051906965328 \", \"type\": \"path\"}, {\"fillcolor\": \"#c45e3a\", \"layer\": \"below\", \"line\": {\"color\": \"rgb(175,175,175)\", \"width\": 0.5}, \"path\": \"M -0.9877671975063907,0.15593576732222433 Q -0.1490208970909004, -0.1333895506785418 0.04597187820179724, -0.9989427343019214L 0.04597187820179724, -0.9989427343019214 L 0.041037348395852546, -0.9991576132105672 L 0.036101817452714055, -0.9993481169125256 M 0.036101817452714055,-0.9993481169125256 Q -0.1491387147608883, -0.13325780937517473 -0.9889994914070962, 0.14791891696637377L -0.9889994914070962, 0.14791891696637377 L -0.9883914725815398, 0.15192859154252478 L -0.9877671975063907, 0.15593576732222433 \", \"type\": \"path\"}, {\"fillcolor\": \"#c45e3a\", \"layer\": \"below\", \"line\": {\"color\": \"rgb(175,175,175)\", \"width\": 0.5}, \"path\": \"M -0.9851851215802662,0.17149424543370623 Q -0.09643812308561855, -0.1752132655243977 0.6719476496752618, -0.7405986471064416L 0.6719476496752618, -0.7405986471064416 L 0.6685867932370418, -0.7436341169614322 L 0.6652122244626217, -0.7466543353021468 M 0.6652122244626217,-0.7466543353021468 Q -0.09656049121727248, -0.17514585788958598 -0.9864699199447664, 0.16394235890753223L -0.9864699199447664, 0.16394235890753223 L -0.9858347520960576, 0.16771953243347826 L -0.9851851215802662, 0.17149424543370623 \", \"type\": \"path\"}, {\"fillcolor\": \"#c45e3a\", \"layer\": \"below\", \"line\": {\"color\": \"rgb(175,175,175)\", \"width\": 0.5}, \"path\": \"M -0.9782708640227941,0.207330934990647 Q -0.0625401089849246, -0.1899703523399211 0.9101195448831112, -0.41434576626503433L 0.9101195448831112, -0.41434576626503433 L 0.9100708533938623, -0.4144527015269259 L 0.9100221493401649, -0.4145596310668787 M 0.9100221493401649,-0.4145596310668787 Q -0.06254102954212877, -0.18997004928096056 -0.9783175521734744, 0.20711051906965328L -0.9783175521734744, 0.20711051906965328 L -0.9782942143057732, 0.20722072834504238 L -0.9782708640227941, 0.207330934990647 \", \"type\": \"path\"}, {\"fillcolor\": \"#c45e3a\", \"layer\": \"below\", \"line\": {\"color\": \"rgb(175,175,175)\", \"width\": 0.5}, \"path\": \"M -0.9826099069213562,0.1856819076270052 Q -0.041061091818207184, -0.19573958909402248 0.9743941258746865, -0.2248468088741878L 0.9743941258746865, -0.2248468088741878 L 0.9735813370761776, -0.22834049158430564 L 0.9727560217474189, -0.23183123636416 M 0.9727560217474189,-0.23183123636416 Q -0.04105758466650988, -0.1957403247707339 -0.9839230869273029, 0.17859271824866504L -0.9839230869273029, 0.17859271824866504 L -0.9832728858894427, 0.18213849641041557 L -0.9826099069213562, 0.1856819076270052 \", \"type\": \"path\"}, {\"fillcolor\": \"#c45e3a\", \"layer\": \"below\", \"line\": {\"color\": \"rgb(175,175,175)\", \"width\": 0.5}, \"path\": \"M -0.9794686095763376,0.2015967332438597 Q -0.030425724436753065, -0.19767214091140606 0.9947560389344657, -0.1022762093715429L 0.9947560389344657, -0.1022762093715429 L 0.9946178559128775, -0.1036113927098283 L 0.9944778807797914, -0.10494638936016404 M 0.9944778807797914,-0.10494638936016404 Q -0.030401573319612102, -0.19767585674455102 -0.9800548807084909, 0.1987270258406382L -0.9800548807084909, 0.1987270258406382 L -0.9797627958080741, 0.2001620941895492 L -0.9794686095763376, 0.2015967332438597 \", \"type\": \"path\"}, {\"fillcolor\": \"#bf4d28\", \"layer\": \"below\", \"line\": {\"color\": \"rgb(175,175,175)\", \"width\": 0.5}, \"path\": \"M -0.9997009991436888,-0.024452245522859867 Q -0.1983983827358675, -0.025260279645962832 -0.9739336941104064, -0.22683288887737874L -0.9739336941104064, -0.22683288887737874 L -0.9768114631199355, -0.21410129732790262 L -0.9795228078980669, -0.20133322827463598 M -0.9795228078980669,-0.20133322827463598 Q -0.1984016139467385, -0.025234888217096366 -0.9987349974723225, -0.050283245956877665L -0.9987349974723225, -0.050283245956877665 L -0.9993014651688015, -0.037370867149248324 L -0.9997009991436888, -0.024452245522859867 \", \"type\": \"path\"}, {\"fillcolor\": \"#bf4d28\", \"layer\": \"below\", \"line\": {\"color\": \"rgb(175,175,175)\", \"width\": 0.5}, \"path\": \"M -0.9981918595455662,0.06010833167677082 Q -0.19865678624509323, -0.023140468421605914 -0.9576502735126396, -0.28793393971737075L -0.9576502735126396, -0.28793393971737075 L -0.9578233353134189, -0.2873577184087421 L -0.9579960503999821, -0.286781393081969 M -0.9579960503999821,-0.286781393081969 Q -0.19865711375476716, -0.023137656636433693 -0.998261797156353, 0.058935425154725586L -0.998261797156353, 0.058935425154725586 L -0.9982270006201213, 0.05952188868774631 L -0.9981918595455662, 0.06010833167677082 \", \"type\": \"path\"}, {\"fillcolor\": \"#bf4d28\", \"layer\": \"below\", \"line\": {\"color\": \"rgb(175,175,175)\", \"width\": 0.5}, \"path\": \"M -0.9983439030553314,0.05752783006725557 Q -0.1954021814778324, -0.042637864319220446 -0.8836303205488684, -0.4681852802114823L -0.8836303205488684, -0.4681852802114823 L -0.8841923765245892, -0.4671229402371491 L -0.8847531553081709, -0.4660599255162749 M -0.8847531553081709,-0.4660599255162749 Q -0.19540833513702496, -0.04260965335432962 -0.9984633404047178, 0.055416223868578945L -0.9984633404047178, 0.055416223868578945 L -0.9984041799811411, 0.056472058543896565 L -0.9983439030553314, 0.05752783006725557 \", \"type\": \"path\"}, {\"fillcolor\": \"#bf4d28\", \"layer\": \"below\", \"line\": {\"color\": \"rgb(175,175,175)\", \"width\": 0.5}, \"path\": \"M -0.9996540466341852,0.026301844952364005 Q -0.1782888833894944, -0.09062601204801674 -0.5678936623777495, -0.8231019306447936L -0.5678936623777495, -0.8231019306447936 L -0.5717963935849457, -0.8203955657384125 L -0.5756862275117149, -0.8176706962178173 M -0.5756862275117149,-0.8176706962178173 Q -0.17834656027600876, -0.09051245459999402 -0.9998365621648182, 0.018078964528914L -0.9998365621648182, 0.018078964528914 L -0.9997537584872922, 0.02219059238806176 L -0.9996540466341852, 0.026301844952364005 \", \"type\": \"path\"}, {\"fillcolor\": \"#bf4d28\", \"layer\": \"below\", \"line\": {\"color\": \"rgb(175,175,175)\", \"width\": 0.5}, \"path\": \"M -0.9980035724741839,0.06315749621989673 Q -0.15051123964361823, -0.13170560633830788 -0.06981767153398273, -0.9975597690071372L -0.06981767153398273, -0.9975597690071372 L -0.07008199937373807, -0.9975412339165631 L -0.07034632229284218, -0.9975226287858695 M -0.07034632229284218,-0.9975226287858695 Q -0.15049971218528224, -0.13171877858584635 -0.9980478501084759, 0.06245389414479531L -0.9980478501084759, 0.06245389414479531 L -0.9980257732957276, 0.06280569908427887 L -0.9980035724741839, 0.06315749621989673 \", \"type\": \"path\"}, {\"fillcolor\": \"#bf4d28\", \"layer\": \"below\", \"line\": {\"color\": \"rgb(175,175,175)\", \"width\": 0.5}, \"path\": \"M -0.9994279955371784,0.03381836389504517 Q -0.14191861837386985, -0.14092233945990215 0.02677684226562355, -0.9996414360750968L 0.02677684226562355, -0.9996414360750968 L 0.022387762611318966, -0.9997493626330848 L 0.017998251417926218, -0.9998380183539217 M 0.017998251417926218,-0.9998380183539217 Q -0.14200743358528486, -0.14083283994339144 -0.9996540466341852, 0.026301844952364005L -0.9996540466341852, 0.026301844952364005 L -0.9995480865607524, 0.03006031691014981 L -0.9994279955371784, 0.03381836389504517 \", \"type\": \"path\"}, {\"fillcolor\": \"#bf4d28\", \"layer\": \"below\", \"line\": {\"color\": \"rgb(175,175,175)\", \"width\": 0.5}, \"path\": \"M -0.9987349974723225,-0.050283245956877665 Q -0.058248599398725544, -0.1913298216904171 0.801285062368784, -0.5982827498972821L 0.801285062368784, -0.5982827498972821 L 0.7917830380521792, -0.6108024399532646 L 0.7820854186965973, -0.623171242807439 M 0.7820854186965973,-0.623171242807439 Q -0.058602938661837294, -0.1912215876416597 -0.9969568749539229, -0.07795504782955402L -0.9969568749539229, -0.07795504782955402 L -0.9979418543040289, -0.06412531035586785 L -0.9987349974723225, -0.050283245956877665 \", \"type\": \"path\"}, {\"fillcolor\": \"#bf4d28\", \"layer\": \"below\", \"line\": {\"color\": \"rgb(175,175,175)\", \"width\": 0.5}, \"path\": \"M -0.998261797156353,0.058935425154725586 Q -0.04759428570068186, -0.19425443101417758 0.9124419474397332, -0.4092061736489165L 0.9124419474397332, -0.4092061736489165 L 0.9121532328550075, -0.4098493379184093 L 0.9118640649151759, -0.4104922984860641 M 0.9118640649151759,-0.4104922984860641 Q -0.04759428570068186, -0.19425443101417758 -0.9983439030553314, 0.05752783006725557L -0.9983439030553314, 0.05752783006725557 L -0.9983030981923428, 0.05823164208203081 L -0.998261797156353, 0.058935425154725586 \", \"type\": \"path\"}, {\"fillcolor\": \"#bf4d28\", \"layer\": \"below\", \"line\": {\"color\": \"rgb(175,175,175)\", \"width\": 0.5}, \"path\": \"M -0.999969815045391,-0.007769748907563434 Q -0.015250858776343435, -0.19941768052653716 0.9871592280826774, -0.15973934521968078L 0.9871592280826774, -0.15973934521968078 L 0.9858566734317513, -0.16759063055577164 L 0.9844916752796072, -0.17543130081360175 M 0.9844916752796072,-0.17543130081360175 Q -0.015174319974511966, -0.19942351920801904 -0.9997009991436888, -0.024452245522859867L -0.9997009991436888, -0.024452245522859867 L -0.9998702004276526, -0.01611155786278293 L -0.999969815045391, -0.007769748907563434 \", \"type\": \"path\"}, {\"fillcolor\": \"#bf4d28\", \"layer\": \"below\", \"line\": {\"color\": \"rgb(175,175,175)\", \"width\": 0.5}, \"path\": \"M -0.9998365621648182,0.018078964528914 Q -0.009221074365142934, -0.199787316383079 0.9972511483499988, -0.07409552695411875L 0.9972511483499988, -0.07409552695411875 L 0.9969366140738535, -0.0782137297343662 L 0.9966050735286064, -0.08233059830367533 M 0.9966050735286064,-0.08233059830367533 Q -0.009107242131948001, -0.19979253775041267 -0.9999623287695604, 0.0086799217598859L -0.9999623287695604, 0.0086799217598859 L -0.9999104892673324, 0.013379590919155485 L -0.9998365621648182, 0.018078964528914 \", \"type\": \"path\"}, {\"fillcolor\": \"#af4624\", \"layer\": \"below\", \"line\": {\"color\": \"rgb(175,175,175)\", \"width\": 0.5}, \"path\": \"M -0.9934866461489003,-0.11394860211432986 Q -0.19577054315072298, -0.04091325499726117 -0.955971251783468, -0.29346033081755585L -0.955971251783468, -0.29346033081755585 L -0.9563236797789659, -0.2923098005439057 L -0.9566747230891147, -0.2911588470274699 M -0.9566747230891147,-0.2911588470274699 Q -0.19577122528293214, -0.04090999084843983 -0.9932134201895559, -0.116306070156998L -0.9932134201895559, -0.116306070156998 L -0.9933507325266336, -0.11512741718982653 L -0.9934866461489003, -0.11394860211432986 \", \"type\": \"path\"}, {\"fillcolor\": \"#af4624\", \"layer\": \"below\", \"line\": {\"color\": \"rgb(175,175,175)\", \"width\": 0.5}, \"path\": \"M -0.9932134201895559,-0.116306070156998 Q -0.1906341065685888, -0.06048667136482162 -0.878578264141871, -0.47759840219315713L -0.878578264141871, -0.47759840219315713 L -0.8795331801860022, -0.47583756151852624 L -0.8804845671696241, -0.47407481158158954 M -0.8804845671696241,-0.47407481158158954 Q -0.19064760047074217, -0.060444126552943726 -0.9927930928327666, -0.11984103981336937L -0.9927930928327666, -0.11984103981336937 L -0.9930048295171525, -0.11807374202425727 L -0.9932134201895559, -0.116306070156998 \", \"type\": \"path\"}, {\"fillcolor\": \"#af4624\", \"layer\": \"below\", \"line\": {\"color\": \"rgb(175,175,175)\", \"width\": 0.5}, \"path\": \"M -0.9893956816052625,-0.1452452588584497 Q -0.17034193115769175, -0.10480279809942197 -0.5756862275117149, -0.8176706962178173L -0.5756862275117149, -0.8176706962178173 L -0.5793418935241371, -0.8150846400269529 L -0.5829859428158775, -0.812482240100719 M -0.5829859428158775,-0.812482240100719 Q -0.17040080783266512, -0.10470704221768055 -0.98822783024194, -0.15298939680679624L -0.98822783024194, -0.15298939680679624 L -0.988819337174823, -0.14911847111992438 L -0.9893956816052625, -0.1452452588584497 \", \"type\": \"path\"}, {\"fillcolor\": \"#af4624\", \"layer\": \"below\", \"line\": {\"color\": \"rgb(175,175,175)\", \"width\": 0.5}, \"path\": \"M -0.994016309691866,-0.10923175392972613 Q -0.13867182847934423, -0.1441184373569022 -0.07087495329486519, -0.9974852084093532L -0.07087495329486519, -0.9974852084093532 L -0.07113926134066746, -0.9974663931661578 L -0.07140356439158521, -0.9974475078880977 M -0.07140356439158521,-0.9974475078880977 Q -0.13865871162183896, -0.14413105734494458 -0.9939382875170345, -0.10993944063758408L -0.9939382875170345, -0.10993944063758408 L -0.9939773615863289, -0.10958560422738188 L -0.994016309691866, -0.10923175392972613 \", \"type\": \"path\"}, {\"fillcolor\": \"#af4624\", \"layer\": \"below\", \"line\": {\"color\": \"rgb(175,175,175)\", \"width\": 0.5}, \"path\": \"M -0.9903060617696536,-0.13890249825787507 Q -0.1298688741706042, -0.15209890046170546 0.017998251417926218, -0.9998380183539217L 0.017998251417926218, -0.9998380183539217 L 0.014294328068576154, -0.9998978308732688 L 0.01059020856351126, -0.9999439221689291 M 0.01059020856351126,-0.9999439221689291 Q -0.12994498678753283, -0.15203387914799754 -0.9893956816052625, -0.1452452588584497L -0.9893956816052625, -0.1452452588584497 L -0.989855952062435, -0.14207460774737454 L -0.9903060617696536, -0.13890249825787507 \", \"type\": \"path\"}, {\"fillcolor\": \"#af4624\", \"layer\": \"below\", \"line\": {\"color\": \"rgb(175,175,175)\", \"width\": 0.5}, \"path\": \"M -0.9739336941104064,-0.22683288887737874 Q -0.03767021110332194, -0.1964203533125607 0.8209118645002685, -0.5710549104269157L 0.8209118645002685, -0.5710549104269157 L 0.8112127071221245, -0.5847511811049161 L 0.801285062368784, -0.5982827498972821 M 0.801285062368784,-0.5982827498972821 Q -0.03802989197983213, -0.19635103085036834 -0.9667163290522488, -0.25585061880664695L -0.9667163290522488, -0.25585061880664695 L -0.9704334780204492, -0.241368731896106 L -0.9739336941104064, -0.22683288887737874 \", \"type\": \"path\"}, {\"fillcolor\": \"#af4624\", \"layer\": \"below\", \"line\": {\"color\": \"rgb(175,175,175)\", \"width\": 0.5}, \"path\": \"M -0.9938071309448371,-0.11111879446426429 Q -0.031038550381844877, -0.19757684173554774 0.9118640649151759, -0.4104922984860641L 0.9118640649151759, -0.4104922984860641 L 0.9115744437639595, -0.411135055032319 L 0.9112843695453047, -0.41177760723771356 M 0.9112843695453047,-0.41177760723771356 Q -0.0310371711403378, -0.19757705840407025 -0.9936478959227496, -0.1125338123778478L -0.9936478959227496, -0.1125338123778478 L -0.9937277652980386, -0.11182633176388357 L -0.9938071309448371, -0.11111879446426429 \", \"type\": \"path\"}, {\"fillcolor\": \"#af4624\", \"layer\": \"below\", \"line\": {\"color\": \"rgb(175,175,175)\", \"width\": 0.5}, \"path\": \"M -0.9851859689230217,-0.17148937762207567 Q -0.0018574459880385391, -0.19999137455000784 0.9818308339513244, -0.189758302855097L 0.9818308339513244, -0.189758302855097 L 0.9806642403212705, -0.19569784811056393 L 0.979461715998255, -0.20163022316546117 M 0.979461715998255,-0.20163022316546117 Q -0.0017865017847403155, -0.19999202086926648 -0.9829073978807868, -0.18410064419012898L -0.9829073978807868, -0.18410064419012898 L -0.9840668860018613, -0.177798661059637 L -0.9851859689230217, -0.17148937762207567 \", \"type\": \"path\"}, {\"fillcolor\": \"#af4624\", \"layer\": \"below\", \"line\": {\"color\": \"rgb(175,175,175)\", \"width\": 0.5}, \"path\": \"M -0.9868846837050523,-0.16142682883702722 Q 0.009681485803657667, -0.19976553464657906 0.9978697848221469, -0.06523720210893597L 0.9978697848221469, -0.06523720210893597 L 0.9975702992647631, -0.06966705121368984 L 0.9972511483499988, -0.07409552695411875 M 0.9972511483499988,-0.07409552695411875 Q 0.009813832433120792, -0.1997590766222517 -0.9851859689230217, -0.17148937762207567L -0.9851859689230217, -0.17148937762207567 L -0.9860481623436262, -0.16646027015104115 L -0.9868846837050523, -0.16142682883702722 \", \"type\": \"path\"}, {\"fillcolor\": \"#9f4021\", \"layer\": \"below\", \"line\": {\"color\": \"rgb(175,175,175)\", \"width\": 0.5}, \"path\": \"M -0.9310882205381682,-0.3647940865407053 Q -0.17635178150618214, -0.09434007186554288 -0.8202063595539835, -0.5720677649957229L -0.8202063595539835, -0.5720677649957229 L -0.8270974888269554, -0.5620584880385174 L -0.8338664778943693, -0.5519662100564121 M -0.8338664778943693,-0.5519662100564121 Q -0.1764650654117138, -0.09412800162140686 -0.9228765903070634, -0.38509583101250106L -0.9228765903070634, -0.38509583101250106 L -0.9270379820537281, -0.3749674383593217 L -0.9310882205381682, -0.3647940865407053 \", \"type\": \"path\"}, {\"fillcolor\": \"#9f4021\", \"layer\": \"below\", \"line\": {\"color\": \"rgb(175,175,175)\", \"width\": 0.5}, \"path\": \"M -0.9365961961808208,-0.35041056676364285 Q -0.15369796476568093, -0.12797240181729616 -0.5142803992543581, -0.85762210264357L -0.5142803992543581, -0.85762210264357 L -0.5217088610307183, -0.8531235926417875 L -0.5290979762360781, -0.8485607412217976 M -0.5290979762360781,-0.8485607412217976 Q -0.1538237272149967, -0.12782120694816757 -0.9310882205381682, -0.3647940865407053L -0.9310882205381682, -0.3647940865407053 L -0.93386990074851, -0.3576129310804745 L -0.9365961961808208, -0.35041056676364285 \", \"type\": \"path\"}, {\"fillcolor\": \"#9f4021\", \"layer\": \"below\", \"line\": {\"color\": \"rgb(175,175,175)\", \"width\": 0.5}, \"path\": \"M -0.9552622437795869,-0.2957601149735864 Q -0.12380046310291269, -0.1570778320944886 -0.0643538258977444, -0.9979271441805373L -0.0643538258977444, -0.9979271441805373 L -0.06532336338381885, -0.9978641481665856 L -0.06629283920650335, -0.9978002101973825 M -0.06629283920650335,-0.9978002101973825 Q -0.12374515687121648, -0.15712140576929046 -0.9544759449907555, -0.29828789857116933L -0.9544759449907555, -0.29828789857116933 L -0.9548699308463097, -0.29702426696410494 L -0.9552622437795869, -0.2957601149735864 \", \"type\": \"path\"}, {\"fillcolor\": \"#9f4021\", \"layer\": \"below\", \"line\": {\"color\": \"rgb(175,175,175)\", \"width\": 0.5}, \"path\": \"M -0.9119654404404844,-0.4102670294359433 Q -0.08912109709690445, -0.17904588811878405 0.22247122651117363, -0.9749392562486209L 0.22247122651117363, -0.9749392562486209 L 0.20598760758892717, -0.9785546001730256 L 0.18944532743247577, -0.9818912709226018 M 0.18944532743247577,-0.9818912709226018 Q -0.08949243865632855, -0.1788605697836817 -0.8994233329579524, -0.4370785605938689L -0.8994233329579524, -0.4370785605938689 L -0.9057935949482263, -0.4237192034245893 L -0.9119654404404844, -0.4102670294359433 \", \"type\": \"path\"}, {\"fillcolor\": \"#9f4021\", \"layer\": \"below\", \"line\": {\"color\": \"rgb(175,175,175)\", \"width\": 0.5}, \"path\": \"M -0.9522975126064722,-0.3051711773472815 Q -0.052661688296753176, -0.19294234005457592 0.6652122244626217, -0.7466543353021468L 0.6652122244626217, -0.7466543353021468 L 0.662821957619239, -0.7487770379076804 L 0.6604249172379121, -0.7508920885795088 M 0.6604249172379121,-0.7508920885795088 Q -0.05272127439875951, -0.19292606673482646 -0.9505190213712639, -0.3106663644674375L -0.9505190213712639, -0.3106663644674375 L -0.9514122343995439, -0.3079200549409982 L -0.9522975126064722, -0.3051711773472815 \", \"type\": \"path\"}, {\"fillcolor\": \"#9f4021\", \"layer\": \"below\", \"line\": {\"color\": \"rgb(175,175,175)\", \"width\": 0.5}, \"path\": \"M -0.9582028507530742,-0.2860896656796287 Q -0.013626975843327078, -0.19953522378107927 0.9104114299275522, -0.4137040346156534L 0.9104114299275522, -0.4137040346156534 L 0.9102655439574452, -0.41402492616249137 L 0.9101195448831112, -0.41434576626503433 M 0.9101195448831112,-0.41434576626503433 Q -0.01362528131309409, -0.1995353394993956 -0.9579960503999821, -0.286781393081969L -0.9579960503999821, -0.286781393081969 L -0.9580995130030832, -0.2864355480439797 L -0.9582028507530742, -0.2860896656796287 \", \"type\": \"path\"}, {\"fillcolor\": \"#9f4021\", \"layer\": \"below\", \"line\": {\"color\": \"rgb(175,175,175)\", \"width\": 0.5}, \"path\": \"M -0.9576502735126396,-0.28793393971737075 Q 0.004174027573325195, -0.19995643899063897 0.9688318644815086, -0.24771923293374637L 0.9688318644815086, -0.24771923293374637 L 0.9686650394251889, -0.2483707740363128 L 0.968497776206405, -0.2490222027917355 M 0.968497776206405,-0.2490222027917355 Q 0.004183909229198069, -0.19995623246991287 -0.9572335109718997, -0.2893164452159781L -0.9572335109718997, -0.2893164452159781 L -0.9574421417771526, -0.28862526769009467 L -0.9576502735126396, -0.28793393971737075 \", \"type\": \"path\"}, {\"fillcolor\": \"#9f4021\", \"layer\": \"below\", \"line\": {\"color\": \"rgb(175,175,175)\", \"width\": 0.5}, \"path\": \"M -0.9536105359940582,-0.3010430959864801 Q 0.020667848880806763, -0.19892923370545654 0.9951293446424976, -0.09857782423746923L 0.9951293446424976, -0.09857782423746923 L 0.9949444102342903, -0.10042719026011018 L 0.9947560389344657, -0.1022762093715429 M 0.9947560389344657,-0.1022762093715429 Q 0.020728988033143565, -0.1989228721266657 -0.9522975126064722, -0.3051711773472815L -0.9522975126064722, -0.3051711773472815 L -0.9529562595911739, -0.30310784764832344 L -0.9536105359940582, -0.3010430959864801 \", \"type\": \"path\"}, {\"fillcolor\": \"#8f391e\", \"layer\": \"below\", \"line\": {\"color\": \"rgb(175,175,175)\", \"width\": 0.5}, \"path\": \"M -0.7503090891507268,-0.6610871884538428 Q -0.10907524632197621, -0.1676382731949963 -0.30043273809337984, -0.9538030037076392L -0.30043273809337984, -0.9538030037076392 L -0.3400218006416707, -0.9404175535837237 L -0.37901702730544196, -0.9253896979178804 M -0.37901702730544196,-0.9253896979178804 Q -0.10918642629809693, -0.1675658805134573 -0.6934516551705685, -0.7205031588696881L -0.6934516551705685, -0.7205031588696881 L -0.7224914090118366, -0.6913798983945736 L -0.7503090891507268, -0.6610871884538428 \", \"type\": \"path\"}, {\"fillcolor\": \"#8f391e\", \"layer\": \"below\", \"line\": {\"color\": \"rgb(175,175,175)\", \"width\": 0.5}, \"path\": \"M -0.8729052101747793,-0.48788983802670505 Q -0.10493606335124935, -0.17025986787362013 -0.04353971066593756, -0.9990516971584236L -0.04353971066593756, -0.9990516971584236 L -0.046010347453082835, -0.9989409631841346 L -0.048480702826765136, -0.9988241193790941 M -0.048480702826765136,-0.9988241193790941 Q -0.10472042864313634, -0.1703925814840476 -0.8692322712920916, -0.4944039426869407L -0.8692322712920916, -0.4944039426869407 L -0.8710748300076256, -0.4911503237575907 L -0.8729052101747793, -0.48788983802670505 \", \"type\": \"path\"}, {\"fillcolor\": \"#8f391e\", \"layer\": \"below\", \"line\": {\"color\": \"rgb(175,175,175)\", \"width\": 0.5}, \"path\": \"M -0.7985693254235507,-0.6019028430673634 Q -0.04825479254762396, -0.19409140886753792 0.4237285869923238, -0.9057892053703713L 0.4237285869923238, -0.9057892053703713 L 0.3878690128691242, -0.9217145050697266 L 0.351412305003783, -0.9362208029583236 M 0.351412305003783,-0.9362208029583236 Q -0.0484579353907152, -0.19404079080870928 -0.7503090891507268, -0.6610871884538428L -0.7503090891507268, -0.6610871884538428 L -0.775004375773607, -0.6319558667595084 L -0.7985693254235507, -0.6019028430673634 \", \"type\": \"path\"}, {\"fillcolor\": \"#8f391e\", \"layer\": \"below\", \"line\": {\"color\": \"rgb(175,175,175)\", \"width\": 0.5}, \"path\": \"M -0.8653769124830469,-0.5011215414860042 Q -0.0297831555251761, -0.1977699766065698 0.6794102182068643, -0.73375864928197L 0.6794102182068643, -0.73375864928197 L 0.675687589174384, -0.7371880912194044 L 0.6719476496752618, -0.7405986471064416 M 0.6719476496752618,-0.7405986471064416 Q -0.029780584606468992, -0.1977703637567999 -0.8602465189036148, -0.5098783450139972L -0.8602465189036148, -0.5098783450139972 L -0.8628228248833455, -0.5055064518483653 L -0.8653769124830469, -0.5011215414860042 \", \"type\": \"path\"}, {\"fillcolor\": \"#8f391e\", \"layer\": \"below\", \"line\": {\"color\": \"rgb(175,175,175)\", \"width\": 0.5}, \"path\": \"M -0.8692322712920916,-0.4944039426869407 Q 0.011782162981828784, -0.1996526499585458 0.9213492677645123, -0.388735805901382L 0.9213492677645123, -0.388735805901382 L 0.920019315694931, -0.39187301354932674 L 0.9186786814242912, -0.39500567122071256 M 0.9186786814242912,-0.39500567122071256 Q 0.011875039576534425, -0.19964714732511393 -0.8653769124830469, -0.5011215414860042L -0.8653769124830469, -0.5011215414860042 L -0.8673110956529203, -0.4977664747221642 L -0.8692322712920916, -0.4944039426869407 \", \"type\": \"path\"}, {\"fillcolor\": \"#8f391e\", \"layer\": \"below\", \"line\": {\"color\": \"rgb(175,175,175)\", \"width\": 0.5}, \"path\": \"M -0.8850019801482604,-0.46558725834547726 Q 0.022965379824830375, -0.19867710318378734 0.9678807302390507, -0.2514098089413416L 0.9678807302390507, -0.2514098089413416 L 0.9678243432227839, -0.25162678844945546 L 0.96776790756405, -0.2518437553109078 M 0.96776790756405,-0.2518437553109078 Q 0.02297390186049375, -0.19867611792388234 -0.8847531553081709, -0.4660599255162749L -0.8847531553081709, -0.4660599255162749 L -0.8848775992882666, -0.46582360854494465 L -0.8850019801482604, -0.46558725834547726 \", \"type\": \"path\"}, {\"fillcolor\": \"#8f391e\", \"layer\": \"below\", \"line\": {\"color\": \"rgb(175,175,175)\", \"width\": 0.5}, \"path\": \"M -0.8852505524724559,-0.46511445832957254 Q 0.037088876535061044, -0.19653095236467716 0.9938772681892966, -0.11048970891708043L 0.9938772681892966, -0.11048970891708043 L 0.9938544297682697, -0.1106949521432103 L 0.9938315489629536, -0.11090019064860257 M 0.9938315489629536,-0.11090019064860257 Q 0.037100780455375834, -0.19652870551042156 -0.8850019801482604, -0.46558725834547726L -0.8850019801482604, -0.46558725834547726 L -0.8851262978792794, -0.46535087493473254 L -0.8852505524724559, -0.46511445832957254 \", \"type\": \"path\"}, {\"fillcolor\": \"#f0f3e7\", \"layer\": \"below\", \"line\": {\"color\": \"rgb(175,175,175)\", \"width\": 0.5}, \"path\": \"M -0.5512501349594956,-0.8343400318258366 Q -0.060489599704492275, -0.1906331774051681 -0.030653134040982036, -0.9995300822753989L -0.030653134040982036, -0.9995300822753989 L -0.034184300469534946, -0.9994155460074696 L -0.037715040200935725, -0.9992885347799412 M -0.037715040200935725,-0.9992885347799412 Q -0.0601282918467707, -0.19074744695431595 -0.5421606361917563, -0.8402748625087806L -0.5421606361917563, -0.8402748625087806 L -0.5467134388061108, -0.8373197811044458 L -0.5512501349594956, -0.8343400318258366 \", \"type\": \"path\"}, {\"fillcolor\": \"#f0f3e7\", \"layer\": \"below\", \"line\": {\"color\": \"rgb(175,175,175)\", \"width\": 0.5}, \"path\": \"M -0.30043273809337984,-0.9538030037076392 Q 0.023013596674907877, -0.19867152379766123 0.5105232388003472, -0.8598639558934911L 0.5105232388003472, -0.8598639558934911 L 0.4676899620839781, -0.8838925836128998 L 0.4237285869923238, -0.9057892053703713 M 0.4237285869923238,-0.9057892053703713 Q 0.022906459795189182, -0.19868390498389996 -0.20649304721988607, -0.9784480678348983L -0.20649304721988607, -0.9784480678348983 L -0.25376225635489413, -0.967266621593898 L -0.30043273809337984, -0.9538030037076392 \", \"type\": \"path\"}, {\"fillcolor\": \"#f0f3e7\", \"layer\": \"below\", \"line\": {\"color\": \"rgb(175,175,175)\", \"width\": 0.5}, \"path\": \"M -0.4729848504532466,-0.88107055974066 Q 0.04025608264138282, -0.19590673242737258 0.7820854186965973, -0.623171242807439L 0.7820854186965973, -0.623171242807439 L 0.7732092003308119, -0.6341510328965699 L 0.7641788480902507, -0.6450044093891588 M 0.7641788480902507,-0.6450044093891588 Q 0.04030791030683711, -0.19589607542443513 -0.44744677629904306, -0.8943105626009312L -0.44744677629904306, -0.8943105626009312 L -0.4602634238133654, -0.8877823949029393 L -0.4729848504532466, -0.88107055974066 \", \"type\": \"path\"}, {\"fillcolor\": \"#f0f3e7\", \"layer\": \"below\", \"line\": {\"color\": \"rgb(175,175,175)\", \"width\": 0.5}, \"path\": \"M -0.5421606361917563,-0.8402748625087806 Q 0.062233316761264104, -0.19007107692884828 0.9341418288542288, -0.356902008378878L 0.9341418288542288, -0.356902008378878 L 0.9317305654512512, -0.36315031791792723 L 0.9292775087489218, -0.3693823381449058 M 0.9292775087489218,-0.3693823381449058 Q 0.06243040927444881, -0.19000643146437127 -0.5290979762360781, -0.8485607412217976L -0.5290979762360781, -0.8485607412217976 L -0.53564532819928, -0.8444430604713888 L -0.5421606361917563, -0.8402748625087806 \", \"type\": \"path\"}, {\"fillcolor\": \"#f0f3e7\", \"layer\": \"below\", \"line\": {\"color\": \"rgb(175,175,175)\", \"width\": 0.5}, \"path\": \"M -0.5959200357411917,-0.8030437790072324 Q 0.06716618503756025, -0.1883844568628214 0.9695497080113494, -0.24489459711293576L 0.9695497080113494, -0.24489459711293576 L 0.9691918152702546, -0.2463071765360252 L 0.9688318644815086, -0.24771923293374637 M 0.9688318644815086,-0.24771923293374637 Q 0.06722398008453105, -0.18836384074868132 -0.5930831585472117, -0.8051412093835857L -0.5930831585472117, -0.8051412093835857 L -0.5945025221229536, -0.804093745274422 L -0.5959200357411917, -0.8030437790072324 \", \"type\": \"path\"}, {\"fillcolor\": \"#f0f3e7\", \"layer\": \"below\", \"line\": {\"color\": \"rgb(175,175,175)\", \"width\": 0.5}, \"path\": \"M -0.5898006678678582,-0.8075488667459254 Q 0.08315235182166347, -0.1818947123654954 0.9966050735286064, -0.08233059830367533L 0.9966050735286064, -0.08233059830367533 L 0.9963364360694322, -0.0855202090763476 L 0.9960575903633733, -0.08870894362751937 M 0.9960575903633733,-0.08870894362751937 Q 0.08333522488691592, -0.18181100157319183 -0.5829859428158775, -0.812482240100719L -0.5829859428158775, -0.812482240100719 L -0.5863984934265478, -0.8100227199943684 L -0.5898006678678582, -0.8075488667459254 \", \"type\": \"path\"}, {\"fillcolor\": \"#e2ecde\", \"layer\": \"below\", \"line\": {\"color\": \"rgb(175,175,175)\", \"width\": 0.5}, \"path\": \"M -0.030653134040982036,-0.9995300822753989 Q 0.004112091069893488, -0.19995772229907227 0.07172011675086687, -0.9974247965903204L 0.07172011675086687, -0.9974247965903204 L 0.06473922139877995, -0.9979022162580258 L 0.05775515636071413, -0.9983307778055074 M 0.05775515636071413,-0.9983307778055074 Q 0.0036136624852173838, -0.19996735094370516 -0.021647030902518617, -0.9997656755725841L -0.021647030902518617, -0.9997656755725841 L -0.026150347786018834, -0.9996580211805787 L -0.030653134040982036, -0.9995300822753989 \", \"type\": \"path\"}, {\"fillcolor\": \"#e2ecde\", \"layer\": \"below\", \"line\": {\"color\": \"rgb(175,175,175)\", \"width\": 0.5}, \"path\": \"M -0.0643538258977444,-0.9979271441805373 Q 0.06394316006589289, -0.18950269729158897 0.6558117463095183, -0.754924468673827L 0.6558117463095183, -0.754924468673827 L 0.6544028429803355, -0.7561460963988734 L 0.6529916640419036, -0.7573650947144223 M 0.6529916640419036,-0.7573650947144223 Q 0.06382409889982751, -0.18954282998738053 -0.0618856403046041, -0.9980832467906118L -0.0618856403046041, -0.9980832467906118 L -0.06311978135869681, -0.9980059584998631 L -0.0643538258977444, -0.9979271441805373 \", \"type\": \"path\"}, {\"fillcolor\": \"#e2ecde\", \"layer\": \"below\", \"line\": {\"color\": \"rgb(175,175,175)\", \"width\": 0.5}, \"path\": \"M -0.06911277337926665,-0.9976088534870899 Q 0.10309292135735959, -0.17138217400303124 0.9136878017074226, -0.40641678239346557L 0.9136878017074226, -0.40641678239346557 L 0.9133532177779885, -0.407168146561828 L 0.9130180159701085, -0.4079192352831708 M 0.9130180159701085,-0.4079192352831708 Q 0.10305792066093221, -0.17140322339164163 -0.067879118786896, -0.9976935527669378L -0.067879118786896, -0.9976935527669378 L -0.0684959591750378, -0.9976513938128346 L -0.06911277337926665, -0.9976088534870899 \", \"type\": \"path\"}, {\"fillcolor\": \"#e2ecde\", \"layer\": \"below\", \"line\": {\"color\": \"rgb(175,175,175)\", \"width\": 0.5}, \"path\": \"M -0.06981767153398273,-0.9975597690071372 Q 0.116958728557116, -0.16223641950654255 0.968497776206405, -0.2490222027917355L 0.968497776206405, -0.2490222027917355 L 0.9683860240076454, -0.24945642606808907 L 0.9682740771261018, -0.2498905991941191 M 0.9682740771261018,-0.2498905991941191 Q 0.11694330412463282, -0.16224753810278184 -0.06911277337926665, -0.9976088534870899L -0.06911277337926665, -0.9976088534870899 L -0.06946522679204249, -0.9975843735076899 L -0.06981767153398273, -0.9975597690071372 \", \"type\": \"path\"}, {\"fillcolor\": \"#e2ecde\", \"layer\": \"below\", \"line\": {\"color\": \"rgb(175,175,175)\", \"width\": 0.5}, \"path\": \"M -0.07175596065758232,-0.9974222185765201 Q 0.12791187187083636, -0.15374834319269506 0.9938315489629536, -0.11090019064860257L 0.9938315489629536, -0.11090019064860257 L 0.9938086257743243, -0.11110542442450369 L 0.9937856602033593, -0.11131065346216029 M 0.9937856602033593,-0.11131065346216029 Q 0.12790728108462074, -0.15375216240931322 -0.07140356439158521, -0.9974475078880977L -0.07140356439158521, -0.9974475078880977 L -0.07157976364143144, -0.9974348787951205 L -0.07175596065758232, -0.9974222185765201 \", \"type\": \"path\"}, {\"fillcolor\": \"#d4e5d6\", \"layer\": \"below\", \"line\": {\"color\": \"rgb(175,175,175)\", \"width\": 0.5}, \"path\": \"M 0.22247122651117363,-0.9749392562486209 Q 0.11471439777068103, -0.16383103168847463 0.8400476930680912, -0.5425125559569824L 0.8400476930680912, -0.5425125559569824 L 0.8306023895156405, -0.5568659358686866 L 0.8209118645002685, -0.5710549104269157 M 0.8209118645002685,-0.5710549104269157 Q 0.11479896435677331, -0.16377178567327247 0.25683524466603674, -0.9664552018057211L 0.25683524466603674, -0.9664552018057211 L 0.23969077604913175, -0.9708492838113262 L 0.22247122651117363, -0.9749392562486209 \", \"type\": \"path\"}, {\"fillcolor\": \"#d4e5d6\", \"layer\": \"below\", \"line\": {\"color\": \"rgb(175,175,175)\", \"width\": 0.5}, \"path\": \"M 0.08676454670511063,-0.9962288459159656 Q 0.12161686854715262, -0.1587744856227996 0.9392425135675609, -0.34325427995480284L 0.9392425135675609, -0.34325427995480284 L 0.9367170270314108, -0.35008743374967816 L 0.9341418288542288, -0.356902008378878 M 0.9341418288542288,-0.356902008378878 Q 0.12181071797760717, -0.15862581437389014 0.10369985343118146, -0.9946086368006019L 0.10369985343118146, -0.9946086368006019 L 0.09523564563341697, -0.9954547562801567 L 0.08676454670511063, -0.9962288459159656 \", \"type\": \"path\"}, {\"fillcolor\": \"#d4e5d6\", \"layer\": \"below\", \"line\": {\"color\": \"rgb(175,175,175)\", \"width\": 0.5}, \"path\": \"M 0.009767049370484464,-0.9999523012357112 Q 0.12318345298529527, -0.15756216839907844 0.9680495994047231, -0.2507587946460802L 0.9680495994047231, -0.2507587946460802 L 0.9679652195526272, -0.25108431599053394 L 0.9678807302390507, -0.2514098089413416 M 0.9678807302390507,-0.2514098089413416 Q 0.12319532039597039, -0.1575528896356211 0.01059020856351126, -0.9999439221689291L 0.01059020856351126, -0.9999439221689291 L 0.010178629829205796, -0.9999481964055938 L 0.009767049370484464, -0.9999523012357112 \", \"type\": \"path\"}, {\"fillcolor\": \"#d4e5d6\", \"layer\": \"below\", \"line\": {\"color\": \"rgb(175,175,175)\", \"width\": 0.5}, \"path\": \"M 0.04597187820179724,-0.9989427343019214 Q 0.1406829513255755, -0.14215592568136495 0.9984097366372171, -0.05637373313878344L 0.9984097366372171, -0.05637373313878344 L 0.9981495991183151, -0.060806066966601666 L 0.9978697848221469, -0.06523720210893597 M 0.9978697848221469,-0.06523720210893597 Q 0.14089029907887676, -0.14195042664770213 0.05775515636071413, -0.9983307778055074L 0.05775515636071413, -0.9983307778055074 L 0.05186441986055111, -0.9986541353003694 L 0.04597187820179724, -0.9989427343019214 \", \"type\": \"path\"}, {\"fillcolor\": \"#c6decd\", \"layer\": \"below\", \"line\": {\"color\": \"rgb(175,175,175)\", \"width\": 0.5}, \"path\": \"M 0.6971876772057682,-0.7168886543616279 Q 0.16631745671856396, -0.111078817020477 0.9292775087489218, -0.3693823381449058L 0.9292775087489218, -0.3693823381449058 L 0.9268710079070783, -0.3753799870815127 L 0.9244257981151202, -0.3813619590090536 M 0.9244257981151202,-0.3813619590090536 Q 0.1664133063370082, -0.11093516788640592 0.7076161771432553, -0.7065970179990609L 0.7076161771432553, -0.7065970179990609 L 0.7024207761329554, -0.7117619358021168 L 0.6971876772057682, -0.7168886543616279 \", \"type\": \"path\"}, {\"fillcolor\": \"#c6decd\", \"layer\": \"below\", \"line\": {\"color\": \"rgb(175,175,175)\", \"width\": 0.5}, \"path\": \"M 0.7331086221725395,-0.6801115703296634 Q 0.18047565822206343, -0.0861889597878577 0.9897694920018816, -0.14267569064958913L 0.9897694920018816, -0.14267569064958913 L 0.9885011801462936, -0.15121315038509314 L 0.9871592280826774, -0.15973934521968078 M 0.9871592280826774,-0.15973934521968078 Q 0.18061548364186256, -0.08589555907505396 0.7469042183837985, -0.6649316420208073L 0.7469042183837985, -0.6649316420208073 L 0.7400453429410765, -0.6725569792896543 L 0.7331086221725395, -0.6801115703296634 \", \"type\": \"path\"}, {\"fillcolor\": \"#c6decd\", \"layer\": \"below\", \"line\": {\"color\": \"rgb(175,175,175)\", \"width\": 0.5}, \"path\": \"M 0.7193747631749237,-0.6946221635587383 Q 0.1842390396048028, -0.0778201534661806 0.9995065603657314, -0.03141075907813368L 0.9995065603657314, -0.03141075907813368 L 0.9992333431786907, -0.039150043166475426 L 0.998900200803122, -0.04688697938108701 M 0.998900200803122,-0.04688697938108701 Q 0.1844133386023779, -0.07740620482574195 0.7331086221725395, -0.6801115703296634L 0.7331086221725395, -0.6801115703296634 L 0.7262779326859459, -0.6874011670730773 L 0.7193747631749237, -0.6946221635587383 \", \"type\": \"path\"}, {\"fillcolor\": \"#b8d7c5\", \"layer\": \"below\", \"line\": {\"color\": \"rgb(175,175,175)\", \"width\": 0.5}, \"path\": \"M 0.9107999060893629,-0.412848072621888 Q 0.19288001382689238, -0.05288950998201636 0.9939908244960696, -0.10946342228170908L 0.9939908244960696, -0.10946342228170908 L 0.993934178804212, -0.10997658025596486 L 0.9938772681892966, -0.11048970891708043 M 0.9938772681892966,-0.11048970891708043 Q 0.19288378012601404, -0.05287577294280882 0.9112843695453047, -0.41177760723771356L 0.9112843695453047, -0.41177760723771356 L 0.9110422950405829, -0.412312911084758 L 0.9107999060893629, -0.412848072621888 \", \"type\": \"path\"}, {\"fillcolor\": \"#aad0bc\", \"layer\": \"below\", \"line\": {\"color\": \"rgb(175,175,175)\", \"width\": 0.5}, \"path\": \"M 0.9703677555010721,-0.24163281872256417 Q 0.19714660024754893, -0.033663303623280016 0.9955669336822857, -0.09405573113027961L 0.9955669336822857, -0.09405573113027961 L 0.9953507072713382, -0.09631702619187711 L 0.9951293446424976, -0.09857782423746923 M 0.9951293446424976,-0.09857782423746923 Q 0.19715314208124665, -0.03362496940506823 0.9715477064206925, -0.23684394471611836L 0.9715477064206925, -0.23684394471611836 L 0.9709606833653295, -0.23923910917475935 L 0.9703677555010721, -0.24163281872256417 \", \"type\": \"path\"}, {\"fillcolor\": \"#f2e6ce\", \"layer\": \"below\", \"line\": {\"color\": \"rgb(150,150,150)\", \"width\": 0.45}, \"path\": \"M 1.1, 0.0 L 1.0997363268123403, 0.024083427690046746 L 1.0989454336558153, 0.04815530964527748 L 1.0976276996891878, 0.07220410566596835 L 1.095783756641759, 0.09621828661992639 L 1.0934144885105128, 0.12018633996962215 L 1.0905210311363231, 0.14409677529136708 L 1.0871047716594247, 0.16793812978388917 L 1.0831673478544104, 0.19169897376366624 L 1.078710647345073, 0.2153679161443826 L 1.0737368066994661, 0.23893360989788184 L 1.068248210405623, 0.2623847574939977 L 1.0622474897284169, 0.2857101163166557 L 0.9656795361167426, 0.2597364693787779 L 0.9711347367323845, 0.23853159772181606 L 0.9761243697267874, 0.21721237263443802 L 0.9806460430409754, 0.19578901467671145 L 0.9846975889585549, 0.17427179433060566 L 0.9882770651449314, 0.15267102707626287 L 0.9913827555784755, 0.13099706844669734 L 0.9940131713731934, 0.10926030906329286 L 0.9961670514925082, 0.08747116965447853 L 0.9978433633538071, 0.06564009605997123 L 0.9990413033234683, 0.04377755422297952 L 0.9997602971021274, 0.021894025172769768 L 1.0, 0.0 L 1.1 ,0.0\", \"type\": \"path\"}, {\"fillcolor\": \"#ecd5bb\", \"layer\": \"below\", \"line\": {\"color\": \"rgb(150,150,150)\", \"width\": 0.45}, \"path\": \"M 1.0527489630857763, 0.31893513560255954 L 1.0459074897672316, 0.34070151577122243 L 1.0386160332812246, 0.3623213151488251 L 1.0308777306477281, 0.3837852321997163 L 1.0226959111343532, 0.40508403245385455 L 1.0140740948239906, 0.4262085524797743 L 1.0050159911003578, 0.4471497038269909 L 0.9955254970521026, 0.46789847693614495 L 0.9856066957961491, 0.48844594501520555 L 0.9752638547210095, 0.5087832678800648 L 0.9645014236508156, 0.5289016957578697 L 0.9533240329308604, 0.548792573051458 L 0.9417364914354753, 0.5684473420632742 L 0.9297437844990958, 0.5878575466771683 L 0.9173510717714103, 0.6070148359964895 L 0.9045636849975119, 0.6259109679369119 L 0.8913871257240106, 0.6445378127724449 L 0.8778270629320883, 0.6628873566331037 L 0.8638893305985221, 0.6809517049527357 L 0.8495799251857182, 0.6987230858655162 L 0.8349050030618403, 0.7161938535496576 L 0.8198708778521414, 0.7333564915168879 L 0.8044840177226378, 0.7502036158462866 L 0.7887510425972964, 0.766727978361086 L 0.7726787213099289, 0.7829224697470711 L 0.7562739686920205, 0.7987801226112359 L 0.7395438425977475, 0.8142941144793803 L 0.72249554086746, 0.8294577707313595 L 0.7051363982309375, 0.8442645674727212 L 0.6874738831517535, 0.858708134341494 L 0.6695155946140995, 0.8727822572489252 L 0.6512692588534573, 0.8864808810529805 L 0.6327427260325235, 0.8997981121634625 L 0.6139439668638159, 0.9127282210776229 L 0.594881069180415, 0.9252656448451799 L 0.5755622344563175, 0.9374049894616794 L 0.5559957742778984, 0.9491410321891687 L 0.5361901067679963, 0.960468723803188 L 0.5161537529641665, 0.9713831907651101 L 0.495895333152656, 0.9818797373188921 L 0.47542356315967627, 0.9919538475113434 L 0.454747250601575, 1.0016011871350334 L 0.43387529109551454, 1.0108176055930085 L 0.4128166644322908, 1.0195991376845106 L 0.39158043071293663, 1.0279420053109374 L 0.3701757264507738, 1.0358426191013006 L 0.3486117606405913, 1.0432975799564894 L 0.32689781079663677, 1.050303680511673 L 0.2971798279969425, 0.9548215277378844 L 0.31691978240053753, 0.9484523454149902 L 0.3365233876825216, 0.9416751082739095 L 0.3559822097390333, 0.934492732100852 L 0.375287876756628, 0.9269083069859186 L 0.3944320828141041, 0.9189250959936439 L 0.41340659145597725, 0.9105465337591213 L 0.4322032392360693, 0.9017762250103121 L 0.4508139392296872, 0.8926179430171746 L 0.46923068451287864, 0.8830756279682819 L 0.4874455516072693, 0.8731533852756255 L 0.5054507038889985, 0.8628554838083351 L 0.5232383949602886, 0.8521863540560721 L 0.5408009719821953, 0.8411505862228907 L 0.5581308789671053, 0.8297529282523843 L 0.5752206600295667, 0.8179982837849659 L 0.5920629625940521, 0.8058917100481641 L 0.6086505405582722, 0.7934384156808411 L 0.624976257410685, 0.7806437584922672 L 0.6410330893008522, 0.7675132431570192 L 0.6568141280613272, 0.7540525188466904 L 0.6723125841797705, 0.7402673767994365 L 0.6875217897200185, 0.7261637478283962 L 0.7024352011908443, 0.7117476997700646 L 0.7170464023611786, 0.6970254348737145 L 0.7313491070205798, 0.6820032871329877 L 0.7453371616837648, 0.6666877195608071 L 0.7590045482380366, 0.6510853214087796 L 0.7723453865324711, 0.6352028053322875 L 0.7853539369077474, 0.619047004502487 L 0.7980246026655348, 0.6026248696664579 L 0.8103519324763732, 0.5859434661567681 L 0.8223306227250108, 0.5690099708517381 L 0.8339555197921911, 0.5518316690877177 L 0.8452216222719052, 0.5344159515246983 L 0.8561240831231594, 0.5167703109666129 L 0.8666582117553276, 0.49890233913768905 L 0.8768194760461959, 0.4808197234162452 L 0.8866035042918268, 0.4625302435273316 L 0.8960060870874083, 0.4440417681956414 L 0.905023179138275, 0.42536225176013176 L 0.9136509010003252, 0.40649973075180984 L 0.9218855407490822, 0.3874623204361584 L 0.9297235555766846, 0.3682582113216859 L 0.9371615733161165, 0.3488956656361057 L 0.9441963938920224, 0.3293830137716591 L 0.9508249906974832, 0.3097286507011113 L 0.9570445118961601, 0.2899410323659632 L 1.0527489630857763 ,0.31893513560255954\", \"type\": \"path\"}, {\"fillcolor\": \"#e6c4a9\", \"layer\": \"below\", \"line\": {\"color\": \"rgb(150,150,150)\", \"width\": 0.45}, \"path\": \"M 0.29374567059301054, 1.0600535274257912 L 0.2712274990271666, 1.0660373557110785 L 0.24858763950632082, 1.0715428995073766 L 0.22583624954848489, 1.0765676887171909 L 0.20298353671051544, 1.0811094689366525 L 0.18003975400842853, 1.08516620246697 L 0.15701519531731795, 1.0887360692286558 L 0.13392019075294265, 1.0918174675781183 L 0.11076510203705385, 1.0944090150262475 L 0.08756031784854225, 1.0965095488586785 L 0.06431624916249067, 1.0981181266574505 L 0.041043324579223515, 1.0992340267238296 L 0.017751985645448252, 1.0998567484021018 L -0.005547317830411295, 1.099986012304197 L -0.028844132466588474, 1.0996217604350371 L -0.052128005997950505, 1.0987641562185573 L -0.07538849196547419, 1.0974135844243826 L -0.09861515440311665, 1.0955706509952015 L -0.12179757251997843, 1.0932361827749029 L -0.144925345375658, 1.090411227137609 L -0.16798809654670027, 1.0870970515177643 L -0.1909754787820456, 1.083295142841492 L -0.21387717864539021, 1.079007206859476 L -0.2366829211423753, 1.0742351673816644 L -0.25938247433052936, 1.0689811654141397 L -0.2358022493913903, 0.9718010594673997 L -0.21516629194761389, 0.976577424892422 L -0.19443379876853653, 0.9809156425995236 L -0.17361407162004144, 0.9848137662195381 L -0.15271645140609114, 0.9882700468343311 L -0.13175031397787088, 0.9912829337614627 L -0.1107250659272531, 0.9938510752499116 L -0.08965014036646968, 0.9959733190865467 L -0.06853499269588562, 0.9976487131130751 L -0.04738909636177318, 0.9988765056532337 L -0.02622193860598952, 0.9996561458500336 L -0.005043016209464813, 0.9999872839129061 L 0.01613816876858932, 0.9998697712746378 L 0.037312113253839554, 0.9993036606580268 L 0.05846931742044606, 0.9982892060522277 L 0.07960028895322022, 0.9968268625987985 L 0.10069554730641259, 0.9949172863874977 L 0.12174562795722059, 0.9925613341619257 L 0.14274108665210722, 0.9897600629351416 L 0.1636725036440259, 0.9865147295154271 L 0.1845304879186504, 0.9828267899424113 L 0.20530568140771352, 0.9786978988338099 L 0.22598876318756436, 0.9741299086430695 L 0.2465704536610605, 0.9691248688282531 L 0.26704151872091864, 0.9636850249325374 L 0.29374567059301054 ,1.0600535274257912\", \"type\": \"path\"}, {\"fillcolor\": \"#e1b396\", \"layer\": \"below\", \"line\": {\"color\": \"rgb(150,150,150)\", \"width\": 0.45}, \"path\": \"M -0.29283199458314046, 1.060306287328553 L -0.31593716212322354, 1.0536525563911114 L -0.3388913793515035, 1.0464954051505604 L -0.36168367906733623, 1.0388382531926308 L -0.38430317143197773, 1.0306847589963306 L -0.40673904917159437, 1.0220388181859765 L -0.4289805927408262, 1.0129045616699186 L -0.45101717544443304, 1.003286353666851 L -0.47283826851458116, 0.9931887896206506 L -0.49443344614133794, 0.982616694004738 L -0.5157923904539778, 0.9715751180170124 L -0.5369048964507149, 0.9600693371664607 L -0.5577608768745079, 0.9481048487525946 L -0.5783503670326098, 0.9356873692389173 L -0.598663529557557, 0.9228228315216785 L -0.6186906591073247, 0.909517382095221 L -0.6384221870024009, 0.8957773781152724 L -0.6578486857975684, 0.8816093843615846 L -0.6769608737862033, 0.8670201701013768 L -0.6154189761692757, 0.7882001546376152 L -0.5980442598159712, 0.8014630766923496 L -0.580383806365819, 0.8143430710138839 L -0.5624460537339315, 0.8268339837229282 L -0.5442395723250517, 0.8389298468378895 L -0.5257730609387361, 0.8506248811262883 L -0.507055342613189, 0.861913498865995 L -0.4880953604097408, 0.8727903065149643 L -0.46890217313997984, 0.883250107288193 L -0.4494849510375799, 0.8932879036406708 L -0.42985297137689193, 0.9028988996551368 L -0.41001561404039366, 0.9120785033335008 L -0.3899823570371147, 0.9208223287908349 L -0.3697627719741767, 0.9291261983508876 L -0.3493665194836161, 0.9369861445421187 L -0.32880334460666927, 0.9443984119933005 L -0.3080830721377304, 0.9513594592277821 L -0.2872156019302032, 0.9578659603555557 L -0.2662109041664913, 0.9639148066623208 L -0.29283199458314046 ,1.060306287328553\", \"type\": \"path\"}, {\"fillcolor\": \"#dba284\", \"layer\": \"below\", \"line\": {\"color\": \"rgb(150,150,150)\", \"width\": 0.45}, \"path\": \"M -0.7038605961391602, 0.8453284930739212 L -0.7211120131010683, 0.8306608601356662 L -0.7380578508954042, 0.815641225497864 L -0.7546909285365325, 0.800275953896321 L -0.7710041975743831, 0.7845715565343175 L -0.7009129068858028, 0.7132468695766523 L -0.6860826623059386, 0.7275235944512009 L -0.6709616826321856, 0.7414920231798763 L -0.6555563755464257, 0.7551462364869692 L -0.6398732692174183, 0.7684804482490192 L -0.7038605961391602 ,0.8453284930739212\", \"type\": \"path\"}, {\"fillcolor\": \"#d59171\", \"layer\": \"below\", \"line\": {\"color\": \"rgb(150,150,150)\", \"width\": 0.45}, \"path\": \"M -0.7952677416869639, 0.7599665907341695 L -0.8220198268292043, 0.7309469230386603 L -0.8477136020884485, 0.700986197320766 L -0.8723159879994565, 0.6701229865334664 L -0.895795310206811, 0.6383970255346458 L -0.8143593729152827, 0.5803609323042235 L -0.7930145345449604, 0.6092027150304239 L -0.7706487291713168, 0.6372601793825144 L -0.7472907516629129, 0.6644972027624184 L -0.7229706742608762, 0.6908787188492449 L -0.7952677416869639 ,0.7599665907341695\", \"type\": \"path\"}, {\"fillcolor\": \"#d0805f\", \"layer\": \"below\", \"line\": {\"color\": \"rgb(150,150,150)\", \"width\": 0.45}, \"path\": \"M -0.9154058244618256, 0.6099444044676249 L -0.9286534666258246, 0.5895784417054601 L -0.9414480851797282, 0.5689248657875865 L -0.9537834385442007, 0.5479937521165741 L -0.9656535091825463, 0.5267953114858125 L -0.9770525065362354, 0.5053398850983958 L -0.9879748698497023, 0.483637939522391 L -0.998415270883042, 0.461700061584945 L -1.0083686165112764, 0.4395369532077301 L -1.0178300512089256, 0.4171594261862436 L -1.026794959418672, 0.39457839691550245 L -1.0352589678029607, 0.37180488106471743 L -1.043217947377437, 0.3488499882035362 L -0.9483799521613062, 0.3171363529123056 L -0.9411445161845096, 0.33800443733156127 L -0.9334499631078836, 0.35870763355954766 L -0.9253000465535687, 0.3792358419874941 L -0.9166987422829785, 0.3995790483706637 L -0.9076502462573108, 0.4197273287135863 L -0.8981589725906384, 0.4396708541112645 L -0.8882295513965776, 0.45939989554399613 L -0.8778668265295875, 0.47890482862346584 L -0.8670758532220005, 0.4981761382877946 L -0.8558618956179347, 0.5172044234432605 L -0.844230424205295, 0.5359804015504183 L -0.8321871131471141, 0.5544949131523862 L -0.9154058244618256 ,0.6099444044676249\", \"type\": \"path\"}, {\"fillcolor\": \"#ca6f4c\", \"layer\": \"below\", \"line\": {\"color\": \"rgb(150,150,150)\", \"width\": 0.45}, \"path\": \"M -1.05366082522889, 0.31590958418189047 L -1.0576052482821885, 0.30244195940042856 L -1.0613775391846263, 0.28892511021783385 L -1.0649770839712593, 0.27536123658945433 L -1.068403296792701, 0.2617525461241734 L -0.9712757243570009, 0.23795686011288492 L -0.9681609854284174, 0.2503283968995039 L -0.9648886719860238, 0.26265919110712166 L -0.9614593166201714, 0.2749472358185714 L -0.9578734774808089, 0.28719053107444587 L -1.05366082522889 ,0.31590958418189047\", \"type\": \"path\"}, {\"fillcolor\": \"#c45e3a\", \"layer\": \"below\", \"line\": {\"color\": \"rgb(150,150,150)\", \"width\": 0.45}, \"path\": \"M -1.0760979504250736, 0.22806402848971172 L -1.0821712543453237, 0.19724445814437705 L -1.0873620691287513, 0.16626403886601818 L -1.09166616176913, 0.13514803457045083 L -1.0950800223645072, 0.1039218197403743 L -0.9955272930586427, 0.09447438158215844 L -0.9924237834264817, 0.12286184960950074 L -0.9885109719352284, 0.15114912624183469 L -0.9837920494048397, 0.17931314376761548 L -0.9782708640227941, 0.207330934990647 L -1.0760979504250736 ,0.22806402848971172\", \"type\": \"path\"}, {\"fillcolor\": \"#bf4d28\", \"layer\": \"below\", \"line\": {\"color\": \"rgb(150,150,150)\", \"width\": 0.45}, \"path\": \"M -1.0978039297216025, 0.06947324584188641 L -1.0995721748807266, 0.030676248598368833 L -1.0999697409062783, -0.008158988330373682 L -1.0989961322096387, -0.046984054617015165 L -1.096652562449315, -0.0857505526125109 L -0.9969568749539228, -0.07795504782955535 L -0.9990873929178532, -0.042712776924559236 L -0.9999724917329802, -0.0074172621185215285 L -0.9996110680733877, 0.027887498725789845 L -0.9980035724741839, 0.06315749621989673 L -1.0978039297216025 ,0.06947324584188641\", \"type\": \"path\"}, {\"fillcolor\": \"#af4624\", \"layer\": \"below\", \"line\": {\"color\": \"rgb(150,150,150)\", \"width\": 0.45}, \"path\": \"M -1.0934179406610527, -0.12015492932269875 L -1.0881735474644971, -0.16086743175214807 L -1.0814137947995266, -0.20135591478098555 L -1.0731480961050444, -0.2415639953016977 L -1.0633879619574735, -0.2814356806873122 L -0.9667163290522487, -0.2558506188066474 L -0.975589178277313, -0.21960363209245243 L -0.9831034498177514, -0.18305083161907776 L -0.9892486795131791, -0.14624311977468005 L -0.994016309691866, -0.10923175392972613 L -1.0934179406610527 ,-0.12015492932269875\", \"type\": \"path\"}, {\"fillcolor\": \"#9f4021\", \"layer\": \"below\", \"line\": {\"color\": \"rgb(150,150,150)\", \"width\": 0.45}, \"path\": \"M -1.0540231358283818, -0.3146986322475916 L -1.0403987498614196, -0.35717004533806496 L -1.0250637722360767, -0.39905421041400474 L -1.008043416251399, -0.44028226281808014 L -0.9893656662537474, -0.48078641665325633 L -0.8994233329579522, -0.43707856059386935 L -0.9164031056830899, -0.400256602561891 L -0.9318761565782515, -0.3627765549218225 L -0.9458170453285633, -0.32470004121642265 L -0.9582028507530742, -0.2860896656796287 L -1.0540231358283818 ,-0.3146986322475916\", \"type\": \"path\"}, {\"fillcolor\": \"#8f391e\", \"layer\": \"below\", \"line\": {\"color\": \"rgb(150,150,150)\", \"width\": 0.45}, \"path\": \"M -0.9737756077197015, -0.5116259041625298 L -0.9623530464785766, -0.5328007262883591 L -0.950470108267439, -0.5537206635931903 L -0.9381324777267741, -0.5743757082556887 L -0.9253460570158627, -0.5947559791756584 L -0.912116962989269, -0.6148517267010254 L -0.8984515242706165, -0.6346533372919473 L -0.8843562782250577, -0.6541513381197999 L -0.8698379678318874, -0.6733364015988536 L -0.8549035384587881, -0.6921993498484693 L -0.8395601345392597, -0.7107311590836725 L -0.8238150961548153, -0.7289229639320144 L -0.8076759555235856, -0.7467660616746472 L -0.791150433397003, -0.7642519164095923 L -0.7742464353662979, -0.7813721631351999 L -0.7569720480805673, -0.798118611751857 L -0.7393355353782289, -0.8144832509800234 L -0.721345334333712, -0.8304582521927188 L -0.7030100512212695, -0.8460359731606384 L -0.6843384573978529, -0.8612089617080904 L -0.6221258703616844, -0.7829172379164457 L -0.6391000465647904, -0.7691236119642166 L -0.6557684857579199, -0.7549620474479262 L -0.672123213980208, -0.7404393190727485 L -0.6881564073459702, -0.72556237431987 L -0.7038603957875434, -0.7103383301229089 L -0.7192276667245481, -0.6947744694632657 L -0.7342508686578051, -0.6788782378860428 L -0.7489228146861957, -0.6626572399381948 L -0.7632364859447814, -0.6461192355306112 L -0.7771850349625345, -0.6292721362258812 L -0.7907617889380794, -0.6121240014535032 L -0.8039602529318706, -0.5946830346543635 L -0.8167741129732876, -0.5769575793563156 L -0.8291972390811536, -0.5589561151827503 L -0.8412236881962387, -0.540687253796053 L -0.85284770702434, -0.5221597347778988 L -0.8640637347885809, -0.5033824214483548 L -0.874866405889615, -0.4843642966257809 L -0.8852505524724559, -0.46511445832957254 L -0.9737756077197015 ,-0.5116259041625298\", \"type\": \"path\"}, {\"fillcolor\": \"#f0f3e7\", \"layer\": \"below\", \"line\": {\"color\": \"rgb(150,150,150)\", \"width\": 0.45}, \"path\": \"M -0.6569495504675811, -0.8822795974862183 L -0.6378550625860528, -0.8961812981385757 L -0.61846649887707, -0.9096698245884269 L -0.5987927982175828, -0.9227389581039468 L -0.5788430309436898, -0.9353826733096582 L -0.5586263946688673, -0.9475951409643588 L -0.5381522100435082, -0.959370730648631 L -0.5174299164577489, -0.970704013360678 L -0.4964690676895389, -0.9815897640193078 L -0.4752793274999869, -0.9920229638728936 L -0.4538704651779873, -1.0019988028132158 L -0.43225235103620346, -1.0115126815931053 L -0.4104349518604748, -1.0205602139468744 L -0.3884283263147372, -1.029137228612556 L -0.3662426203035975, -1.0372397712550145 L -0.34388806229467217, -1.0448641062890502 L -0.3213749586028762, -1.0520067186016446 L -0.2987136886388058, -1.0586643151725663 L -0.27591470012343694, -1.0648338265925787 L -0.2529885042713159, -1.0705124084785578 L -0.22994567094448562, -1.0756974427848616 L -0.20679682377937408, -1.0803865390103502 L -0.18355263528888088, -1.0845775353005 L -0.1602238219419438, -1.0882684994441014 L -0.13682113922282518, -1.0914577297640842 L -0.11335537667242578, -1.0941437559020535 L -0.10305034242947797, -0.9946761417291395 L -0.12438285383893198, -0.9922342997855309 L -0.1456580199472216, -0.9893349994946377 L -0.16686603208080078, -0.985979577545909 L -0.1879971125267037, -0.9821695809185 L -0.20904151904044146, -0.9779067661680559 L -0.2299895493375599, -0.9731930986168706 L -0.25083154556676085, -0.9680307514477988 L -0.2715578987625507, -0.9624221047023329 L -0.292159053275342, -0.9563697441833132 L -0.3126255111769747, -0.949876460262773 L -0.33294783663963406, -0.9429452465954677 L -0.3531166602861247, -0.9355792987386872 L -0.3731226835095225, -0.9277820126789766 L -0.3929566827601849, -0.9195569832664593 L -0.41260951379817024, -0.9109080025574688 L -0.43207211590907896, -0.9018390580662669 L -0.451335516081399, -0.8923543309266433 L -0.47039083314340807, -0.8824581939642526 L -0.4892292818577347, -0.8721552096805736 L -0.5078421769716975, -0.861450128149417 L -0.5262209372215362, -0.8503478848269619 L -0.5443570892887116, -0.8388535982763152 L -0.5622422717064272, -0.8269725678076608 L -0.5798682387145935, -0.8147102710350688 L -0.5972268640614373, -0.8020723613511075 L -0.6569495504675811 ,-0.8822795974862183\", \"type\": \"path\"}, {\"fillcolor\": \"#e2ecde\", \"layer\": \"below\", \"line\": {\"color\": \"rgb(150,150,150)\", \"width\": 0.45}, \"path\": \"M -0.07893155672334055, -1.0971644404341723 L -0.06516480971811617, -1.0980680978766306 L -0.05138781191565056, -1.0987990229275424 L -0.03760273051648942, -1.0993571006082166 L -0.023811733992771457, -1.0997422431298425 L -0.021647030902519505, -0.999765675572584 L -0.034184300469535835, -0.9994155460074695 L -0.04671619265059142, -0.9989082026614021 L -0.05924073610737833, -0.9982437253423915 L -0.07175596065758232, -0.9974222185765201 L -0.07893155672334055 ,-1.0971644404341723\", \"type\": \"path\"}, {\"fillcolor\": \"#d4e5d6\", \"layer\": \"below\", \"line\": {\"color\": \"rgb(150,150,150)\", \"width\": 0.45}, \"path\": \"M 0.010743754307532912, -1.0999475313592824 L 0.03376340589629426, -1.099481710817548 L 0.05676826516914789, -1.0985341888487976 L 0.07974825331038264, -1.0971053805783395 L 0.10269330240075134, -1.095195911991105 L 0.12559335982838954, -1.0928066196573925 L 0.14843839269303688, -1.0899385503663535 L 0.17121839220162235, -1.086592960667375 L 0.1939233780532789, -1.0827713163195658 L 0.21654340281188494, -1.0784752916495814 L 0.23906855626420262, -1.0737067688180744 L 0.2614889697617078, -1.0684678369950875 L 0.28379482054421484, -1.0627607914447526 L 0.30597633604338703, -1.0565881325196986 L 0.3280237981642664, -1.049952564565604 L 0.34992754754293703, -1.042856994736376 L 0.37167798777844935, -1.0353045317204803 L 0.39326558963716846, -1.0272984843789708 L 0.41468089522769064, -1.0188423602958219 L 0.4359145221445041, -1.0099398642411976 L 0.4569571675785814, -1.0005948965483287 L 0.47779961239309215, -0.9908115514047114 L 0.49843272516246384, -0.9805941150583762 L 0.5188474661730158, -0.9699470639400077 L 0.5390348913834047, -0.958875062701748 L 0.5589861563431625, -0.9473829621735329 L 0.5786925200675986, -0.9354757972378612 L 0.5981453488673715, -0.9231587846239295 L 0.6173361201310553, -0.9104373206220928 L 0.6362564260590362, -0.8973169787196621 L 0.6548979773471113, -0.8838035071590644 L 0.6732526068181764, -0.8699028264194398 L 0.6913122730003974, -0.8556210266227824 L 0.628465702727634, -0.7778372969298021 L 0.6120478243801604, -0.7908207512903997 L 0.595361797588283, -0.8034577337809676 L 0.5784149327809419, -0.8157427079269655 L 0.5612146546645957, -0.8276702914746298 L 0.5437684989703376, -0.8392352587490268 L 0.5260841091523624, -0.8504325429435101 L 0.5081692330392386, -0.8612572383395753 L 0.4900317194394587, -0.8717046024561346 L 0.4716795147027416, -0.8817700581272797 L 0.45312065923860345, -0.8914491955076147 L 0.4343632839937201, -0.900737774004283 L 0.4154156068896194, -0.9096317241348442 L 0.3962859292222764, -0.9181271493101797 L 0.3769826320251733, -0.9262203275416562 L 0.35751417239742583, -0.9339077130717915 L 0.3378890797985903, -0.9411859379277093 L 0.31811595231176093, -0.9480518133967054 L 0.2982034528766058, -0.9545023314232762 L 0.2781603054939882, -0.9605346659269988 L 0.25799529140383165, -0.9661461740406841 L 0.2377172452379162, -0.9713343972682613 L 0.2173350511492751, -0.9760970625618858 L 0.19685763891989538, -0.9804320833178013 L 0.17629398004843533, -0.9843375602905143 L 0.15565308381965667, -0.9878117824248863 L 0.13494399335730625, -0.9908532276057758 L 0.1141757816621723, -0.9934605633249022 L 0.09335754763704666, -0.9956326472646407 L 0.07249841210034785, -0.9973685277984904 L 0.05160751379013444, -0.9986674444079977 L 0.030694005360267503, -0.9995288280159527 L 0.009767049370484464, -0.9999523012357112 L 0.010743754307532912 ,-1.0999475313592824\", \"type\": \"path\"}, {\"fillcolor\": \"#c6decd\", \"layer\": \"below\", \"line\": {\"color\": \"rgb(150,150,150)\", \"width\": 0.45}, \"path\": \"M 0.7178468580546717, -0.8334841860413646 L 0.7352734208545166, -0.8181521842450199 L 0.7523726014196696, -0.8024558982479968 L 0.7691367862994248, -0.7864023168588664 L 0.7855585112007014, -0.7699985879728207 L 0.8016304643115333, -0.7532520153890567 L 0.8173454895566761, -0.7361700555587395 L 0.832696589783864, -0.7187603142650014 L 0.8476769298793078, -0.7010305432364494 L 0.8622798398110472, -0.6829886366956883 L 0.8764988175987978, -0.6646426278444001 L 0.8903275322089712, -0.6460006852865433 L 0.9037598263735863, -0.6270711093912599 L 0.9167897193318051, -0.6078623285971175 L 0.9294114094928815, -0.5883828956593281 L 0.9416192770193325, -0.5686414838416117 L 0.9534078863291852, -0.5486468830544066 L 0.9647719885161826, -0.5284079959411392 L 0.9757065236868694, -0.5079338339143049 L 0.9862066232135248, -0.4872335131431096 L 0.8965514756486589, -0.44293955740282687 L 0.8870059306244267, -0.4617580308311863 L 0.8770654441056205, -0.4803709054010356 L 0.866734442117441, -0.4987698936858241 L 0.8560175245630295, -0.5169468034923742 L 0.8449194631753467, -0.53489354150848 L 0.83344519939255, -0.5526021169064704 L 0.8215998421578057, -0.5700646449011453 L 0.8093886656445192, -0.5872733502604939 L 0.7968171069079979, -0.6042205707676364 L 0.7838907634645883, -0.6208987606324439 L 0.7706153907993706, -0.6373004938513176 L 0.7569968998035126, -0.6534184675136376 L 0.7430413541424328, -0.6692455050533995 L 0.7287549675559393, -0.684774559444597 L 0.7141441010915467, -0.6999987163389279 L 0.6992152602722044, -0.714911197144424 L 0.6839750921996995, -0.7295053620436334 L 0.6684303825950151, -0.7437747129500181 L 0.6525880527769743, -0.7577128964012405 L 0.7178468580546717 ,-0.8334841860413646\", \"type\": \"path\"}, {\"fillcolor\": \"#b8d7c5\", \"layer\": \"below\", \"line\": {\"color\": \"rgb(150,150,150)\", \"width\": 0.45}, \"path\": \"M 1.0010243642741814, -0.45601559417356663 L 1.0164983035762867, -0.42039409941926126 L 1.0307051200411168, -0.3842485595562167 L 1.0436271040654934, -0.34762403205168674 L 1.055248147662809, -0.31056617145821036 L 0.9593164978752808, -0.2823328831438276 L 0.948751912786812, -0.31602184731971517 L 0.9370046545828333, -0.3493168723238333 L 0.9240893668875332, -0.3821764540175102 L 0.9100221493401649, -0.4145596310668787 L 1.0010243642741814 ,-0.45601559417356663\", \"type\": \"path\"}, {\"fillcolor\": \"#aad0bc\", \"layer\": \"below\", \"line\": {\"color\": \"rgb(150,150,150)\", \"width\": 0.45}, \"path\": \"M 1.0644825655922543, -0.2772667804662724 L 1.0718058075335521, -0.2474516335313837 L 1.0782941279338587, -0.21744372527934527 L 1.083942472483495, -0.18726643144559596 L 1.08874644120207, -0.1569432597145461 L 0.9897694920018818, -0.14267569064958735 L 0.985402247712268, -0.17024221040508722 L 0.9802673890307806, -0.19767611389031386 L 0.9743689159395929, -0.22495603048307605 L 0.9677114232656857, -0.2520607095147931 L 1.0644825655922543 ,-0.2772667804662724\", \"type\": \"path\"}, {\"fillcolor\": \"#9cc9b4\", \"layer\": \"below\", \"line\": {\"color\": \"rgb(150,150,150)\", \"width\": 0.45}, \"path\": \"M 1.093138917476142, -0.12266746552810405 L 1.0953818535463808, -0.10069059003350353 L 1.0971830032684329, -0.07867310429150415 L 1.0985416402076256, -0.056623888332929646 L 1.0994572164023046, -0.03455183498594608 L 0.9995065603657314, -0.031410759078132795 L 0.9986742183705686, -0.05147626212084513 L 0.9974390938803935, -0.0715210039013674 L 0.9958016850421644, -0.09153690003045775 L 0.9937626522510381, -0.11151587775282186 L 1.093138917476142 ,-0.12266746552810405\", \"type\": \"path\"}], \"showlegend\": false, \"title\": \"Data Jobs \\u2012 Technologies in Demand\", \"titlefont\": {\"color\": \"#655643\", \"family\": \"Merryweather\", \"size\": 18}, \"width\": 1000, \"xaxis\": {\"showgrid\": false, \"showline\": false, \"showticklabels\": false, \"title\": \"\", \"zeroline\": false}, \"yaxis\": {\"showgrid\": false, \"showline\": false, \"showticklabels\": false, \"title\": \"\", \"zeroline\": false}}, {\"showLink\": true, \"linkText\": \"Export to plot.ly\", \"plotlyServerURL\": \"https://plot.ly\"})});</script>"
      ]
     },
     "metadata": {},
     "output_type": "display_data"
    }
   ],
   "source": [
    "fig = go.Figure(data=data, layout=layout)\n",
    "\n",
    "plotly.offline.iplot(fig, filename='data_offers_tech_requirements_chord.html')"
   ]
  },
  {
   "cell_type": "code",
   "execution_count": 56,
   "metadata": {},
   "outputs": [
    {
     "data": {
      "text/plain": [
       "'file:///data/WORKSPACE/jpynb_Employment_Trends_Bulgaria/workbooks/data_offers_tech_requirements_chord.html'"
      ]
     },
     "execution_count": 56,
     "metadata": {},
     "output_type": "execute_result"
    }
   ],
   "source": [
    "# Uncomment the line below to export an HTML version of the chart.\n",
    "# plotly.offline.plot(fig, filename='data_offers_tech_requirements_chord.html', show_link=False)"
   ]
  },
  {
   "cell_type": "markdown",
   "metadata": {},
   "source": [
    "### Resources:\n",
    "\n",
    "- https://plot.ly/python/filled-chord-diagram/\n",
    "- https://hci.stanford.edu/courses/cs448b/f11/lectures/CS448B-20111117-Text.pdf"
   ]
  },
  {
   "cell_type": "code",
   "execution_count": 31,
   "metadata": {},
   "outputs": [
    {
     "data": {
      "text/html": [
       "<style>\n",
       "@import url('https://fonts.googleapis.com/css?family=Fira+Mono|Fira+Sans|Fira+Sans+Condensed|Fira+Sans+Extra+Condensed');\n",
       "@import url('https://fonts.googleapis.com/css?family=Merriweather|Merriweather+Sans');\n",
       "\n",
       ".nbviewer {\n",
       "    background-color: #E5E1D8;\n",
       "}\n",
       "\n",
       "#notebook {\n",
       "    background-color: #E5E1D8;\n",
       "}\n",
       "\n",
       "#notebook-container {\n",
       "    background-color: #FFFAF0;\n",
       "    max-width: 1100px;\n",
       "    border-radius: 4px;\n",
       "    -webkit-box-shadow: 0px 0px 12px 1px rgba(101,86,67,0.75);\n",
       "    -moz-box-shadow: 0px 0px 12px 1px rgba(101,86,67,0.75);\n",
       "    box-shadow: 0px 0px 12px 1px rgba(101,86,67,0.75);\n",
       "}\n",
       "\n",
       "/* Jupyter Notebook Header Styling */\n",
       "body > #header {\n",
       "    background-color:#fafafa;\n",
       "}\n",
       "\n",
       "#header #menubar #menus {\n",
       "    background-color:#fefefe;\n",
       "}\n",
       "\n",
       "/* Headings */\n",
       ".text_cell_render h1 {\n",
       "    color: #655B4F;\n",
       "    font-family: 'Merriweather', serif;\n",
       "    font-weight: 900;\n",
       "    text-align: center;\n",
       "    font-size: 3.0em;\n",
       "    padding: 40px 0 12px 0;\n",
       "    text-shadow: 0 2px #FFFAF0, 0 3px #8c8b8b;\n",
       "}\n",
       "\n",
       ".text_cell_render h2 {\n",
       "    color: #655B4F;\n",
       "    font-family: 'Merriweather', serif;\n",
       "    font-weight: 600;\n",
       "    font-size: 2.2em;\n",
       "    text-indent: 22px;\n",
       "    padding: 40px 0 6px 0;\n",
       "    margin-bottom: 24px;\n",
       "    border-bottom: 1px solid #655B4F;\n",
       "}\n",
       "\n",
       ".text_cell_render h3 {\n",
       "    color: #655B4F;\n",
       "    font-family: 'Merriweather', serif;\n",
       "    font-weight: 100;\n",
       "    padding: 6px 0 0 0;\n",
       "    font-size: 1.6em;\n",
       "}\n",
       "\n",
       ".text_cell_render h4 {\n",
       "    color: #655B4F;\n",
       "    font-family: 'Merriweather', serif;\n",
       "    font-weight: 100;\n",
       "    font-size: 1.2em;\n",
       "}\n",
       "\n",
       "/* Use for subtitles and other non-headings */\n",
       "div.rendered_html > h5 {\n",
       "    font-family: 'Merriweather', serif;\n",
       "    line-height: 1.5em;\n",
       "    color: #655B4F;\n",
       "    font-weight: 200;\n",
       "    font-style: normal important!;\n",
       "    text-indent: 22px;\n",
       "    text-align: center;\n",
       "    margin-top: 0.5em;\n",
       "    padding: 6px 0 6px 0;\n",
       "    border-bottom: 1px solid #655B4F;\n",
       "    border-top: 1px solid #655B4F;\n",
       "}\n",
       "\n",
       "/* Use for image and chart captions */\n",
       "div.rendered_html > h6 {\n",
       "    font-family: 'Merriweather Sans', sans-serif;\n",
       "    font-size: 0.9em;\n",
       "    line-height: 1.5em;\n",
       "    color: #cac8c9;\n",
       "    font-weight: normal;\n",
       "    max-width: 525px;\n",
       "    display: block;\n",
       "    margin-left: auto;\n",
       "    margin-right: auto;\n",
       "}\n",
       "\n",
       "div#notebook-container p {\n",
       "    font-family: 'Fira Sans Condensed', sans-serif;\n",
       "    font-size: 1.2em;\n",
       "    line-height: 1.3em;\n",
       "    color: #655B4F;\n",
       "}\n",
       "\n",
       "/* Plotly Exported Charts Styling */\n",
       ".js-plotly-plot .plotly,\n",
       ".js-plotly-plot .plotly div {\n",
       "    direction: ltr;\n",
       "    font-family: \"Fira Sans Extra Condensed\", verdana, arial, sans-serif;\n",
       "}\n",
       "\n",
       "/* Lists */\n",
       "ol, ul {\n",
       "    font-family: 'Fira Sans Condensed', sans-serif;\n",
       "    line-height: 1.3em;\n",
       "    color: #655B4F;\n",
       "}\n",
       "\n",
       "div.input_prompt {\n",
       "    color: #aad0bc;\n",
       "    font-size: 0.7em;\n",
       "}\n",
       "\n",
       "div.output_prompt {\n",
       "    color: #aad0bc;\n",
       "    font-size: 0.7em;\n",
       "}\n",
       "\n",
       "div.prompt {\n",
       "    min-width: 2ex;\n",
       "}\n",
       "\n",
       "div.output_subarea {\n",
       "    min-width: 425px;\n",
       "    max-width: calc(100% - 1ex);\n",
       "    padding: 0;\n",
       "}\n",
       "\n",
       "div.text_cell code {\n",
       "    padding: 2px;\n",
       "    background-color: #E5E1D8;\n",
       "    color: #483F3A;\n",
       "    font-family: 'Fira Mono', monospace;\n",
       "    font-size: 0.9em;\n",
       "}\n",
       "\n",
       "div.input_area {\n",
       "    background-color: #FFFAF0;\n",
       "    border: 1px solid #E5E1D8;\n",
       "    background: repeating-linear-gradient(135deg, #FFFAF0, #FFFAF0 5px, #F7F7ED 5px, #F7F7ED 10px);\n",
       "}\n",
       "\n",
       "div.cell.rendered.selected {\n",
       "    background: #F7F7ED;\n",
       "    border: 1px solid #293C34;\n",
       "}\n",
       "\n",
       "div.output_area img {\n",
       "    display: block;\n",
       "    margin-left: auto;\n",
       "    margin-right: auto;\n",
       "}\n",
       "\n",
       "div.rendered_html pre, code {\n",
       "    font-family: 'Fira Sans Condensed', sans-serif;\n",
       "    font-size: 16px;\n",
       "    font-weight: 400;\n",
       "    color: #40362F;\n",
       "    background-color: #E5E1D8;\n",
       "}\n",
       "\n",
       "div.output_text pre {\n",
       "    font-family: 'Fira Sans Condensed', sans-serif;\n",
       "    font-size: 13px;\n",
       "    font-weight: 300;\n",
       "    color: #40362F;\n",
       "}\n",
       "\n",
       "\n",
       "pre, textarea {\n",
       "    overflow: hidden;\n",
       "}\n",
       "\n",
       "div.text_cell_render img {\n",
       "    max-height: 550px;\n",
       "    display: block;\n",
       "    margin-left: auto;\n",
       "    margin-right: auto;\n",
       "}\n",
       "\n",
       "div.output output_scroll {\n",
       "    overflow-x: auto;\n",
       "    overflow-y: scroll;\n",
       "    max-height: 2000px;\n",
       "}\n",
       "\n",
       "div.rendered_html hr {\n",
       "    border: 0;\n",
       "    height: 1px;\n",
       "    background-color: #655B4F;\n",
       "}\n",
       "\n",
       "div.rendered_html pre, code {\n",
       "    color: #40362F;\n",
       "    background-color: #FFFAF0;\n",
       "}\n",
       "\n",
       "/* Links */\n",
       "a.link--embedview {\n",
       "    display: none;\n",
       "}\n",
       "\n",
       "a:link {\n",
       "    color: #293C34;\n",
       "}\n",
       "\n",
       "a:visited {\n",
       "    color: #293C34;\n",
       "}\n",
       "\n",
       "a:hover {\n",
       "    color: #557C6C;\n",
       "}\n",
       "\n",
       "a:focus {\n",
       "    color:#557C6C;\n",
       "}\n",
       "\n",
       "a:active {\n",
       "    font-weight: bold;\n",
       "    color:#80BCA3;\n",
       "}\n",
       "\n",
       ".rendered_html :link {\n",
       "    text-decoration: underline;\n",
       "}\n",
       "\n",
       "/* Colors for code highlighting */\n",
       ".CodeMirror pre {\n",
       "    font-family: 'Fira Mono', monospace;\n",
       "    font-size: 0.9em;\n",
       "    font-weight: 600;\n",
       "    letter-spacing: -2px;\n",
       "}\n",
       "\n",
       ".CodeMirror-code span.cm-keyword,\n",
       ".highlight .k,\n",
       ".highlight .ow {\n",
       "    color: #5F362E;\n",
       "}\n",
       "\n",
       ".CodeMirror-code span.cm-variable,\n",
       ".highlight .na {\n",
       "    color: #655B4F;\n",
       "}\n",
       "\n",
       ".CodeMirror-code span.cm-property {\n",
       "    color: #655B4F;\n",
       "}\n",
       "\n",
       ".CodeMirror-code span.cm-def {\n",
       "    color: #293C34;\n",
       "}\n",
       "\n",
       ".CodeMirror-code span.cm-operator {\n",
       "    color: #655B4F;\n",
       "}\n",
       "\n",
       ".CodeMirror-code span.cm-string,\n",
       ".highlight .s {\n",
       "    color: #0B7761;\n",
       "}\n",
       "\n",
       ".CodeMirror-code span.cm-number,\n",
       ".highlight .mb, .highlight .mf, .highlight .mh, .highlight .mi, .highlight .mo {\n",
       "    color: #265BCA;\n",
       "}\n",
       "\n",
       ".CodeMirror-code span.cm-comment,\n",
       ".highlight .c1, .highlight .cs {\n",
       "    color: #75AC95;\n",
       "}\n",
       "\n",
       ".CodeMirror-code span.cm-builtin,\n",
       ".highlight .nb {\n",
       "    color: #5F362E;\n",
       "}\n",
       "\n",
       "/* Code with no class applied (brackets mostly) */\n",
       ".CodeMirror-line > span {\n",
       "    color: #72614B;\n",
       "}\n",
       "\n",
       "/* Table styles */\n",
       "table {\n",
       "    border: 1px solid #BF4D28;\n",
       "}\n",
       "\n",
       ".rendered_html table {\n",
       "    float: middle;\n",
       "    border-collapse: collapse;\n",
       "}\n",
       "\n",
       ".rendered_html table th {\n",
       "    color: #40362F;\n",
       "    text-align: left;\n",
       "    background-color: #f2e6ce;\n",
       "}\n",
       "\n",
       ".rendered_html td {\n",
       "    color: #40362F;\n",
       "    text-align: left;\n",
       "}\n",
       "\n",
       ".rendered_html table tr:nth-child(odd) {\n",
       "    background-color: #F7F7ED;\n",
       "}\n",
       "\n",
       ".rendered_html table tr:nth-child(even) {\n",
       "    background-color: #FFFAF0;\n",
       "}\n",
       "\n",
       ".rendered_html table tr:hover {\n",
       "    background-color: #BF4D28;\n",
       "}\n",
       "\n",
       "iframe {\n",
       "    border-width: 0;\n",
       "}\n",
       "</style>\n"
      ],
      "text/plain": [
       "<IPython.core.display.HTML object>"
      ]
     },
     "execution_count": 31,
     "metadata": {},
     "output_type": "execute_result"
    }
   ],
   "source": [
    "from IPython.core.display import HTML\n",
    "with open('../resources/styles/datum.css', 'r') as f:\n",
    "    style = f.read()\n",
    "HTML(style)"
   ]
  }
 ],
 "metadata": {
  "kernelspec": {
   "display_name": "Python 3",
   "language": "python",
   "name": "python3"
  },
  "language_info": {
   "codemirror_mode": {
    "name": "ipython",
    "version": 3
   },
   "file_extension": ".py",
   "mimetype": "text/x-python",
   "name": "python",
   "nbconvert_exporter": "python",
   "pygments_lexer": "ipython3",
   "version": "3.7.3"
  }
 },
 "nbformat": 4,
 "nbformat_minor": 2
}
