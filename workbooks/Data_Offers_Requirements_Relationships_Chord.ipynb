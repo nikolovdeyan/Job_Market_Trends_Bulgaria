{
 "cells": [
  {
   "cell_type": "markdown",
   "metadata": {},
   "source": [
    "## Requirements Relationships Chord Diagram\n"
   ]
  },
  {
   "cell_type": "code",
   "execution_count": 1,
   "metadata": {},
   "outputs": [
    {
     "data": {
      "text/html": [
       "<script type=\"text/javascript\">window.PlotlyConfig = {MathJaxConfig: 'local'};</script><script type=\"text/javascript\">if (window.MathJax) {MathJax.Hub.Config({SVG: {font: \"STIX-Web\"}});}</script><script>requirejs.config({paths: { 'plotly': ['https://cdn.plot.ly/plotly-latest.min']},});if(!window._Plotly) {require(['plotly'],function(plotly) {window._Plotly=plotly;});}</script>"
      ],
      "text/vnd.plotly.v1+html": [
       "<script type=\"text/javascript\">window.PlotlyConfig = {MathJaxConfig: 'local'};</script><script type=\"text/javascript\">if (window.MathJax) {MathJax.Hub.Config({SVG: {font: \"STIX-Web\"}});}</script><script>requirejs.config({paths: { 'plotly': ['https://cdn.plot.ly/plotly-latest.min']},});if(!window._Plotly) {require(['plotly'],function(plotly) {window._Plotly=plotly;});}</script>"
      ]
     },
     "metadata": {},
     "output_type": "display_data"
    }
   ],
   "source": [
    "import re\n",
    "from itertools import combinations\n",
    "import psycopg2\n",
    "import numpy as np\n",
    "import pandas as pd\n",
    "import plotly\n",
    "import plotly.plotly as py\n",
    "import plotly.graph_objs as go\n",
    "from IPython import display\n",
    "from bs4 import BeautifulSoup as bs\n",
    "\n",
    "from nbstyler import DATA_STYLE as DS\n",
    "\n",
    "plotly.offline.init_notebook_mode(connected=True) # run at the start of every ipython notebook to use plotly.offline\n",
    "\n",
    "%matplotlib notebook\n",
    "%matplotlib inline"
   ]
  },
  {
   "cell_type": "markdown",
   "metadata": {},
   "source": [
    "### Objectives\n",
    "\n",
    "The main objective for this recipe is to try the plotly implementation of the chord diagram and to provide a clean recipe for preparing such charts in the future. \n",
    "\n",
    "\n",
    "### Data Preparation"
   ]
  },
  {
   "cell_type": "code",
   "execution_count": 2,
   "metadata": {},
   "outputs": [],
   "source": [
    "data_querystr = \"\"\"SELECT * FROM v_full_data_offers_history\"\"\"\n",
    "conn = psycopg2.connect('dbname=jobsbg')\n",
    "data_df = pd.read_sql_query(data_querystr, conn, index_col='subm_date')\n",
    "conn.close()"
   ]
  },
  {
   "cell_type": "code",
   "execution_count": 3,
   "metadata": {},
   "outputs": [
    {
     "data": {
      "text/html": [
       "<div>\n",
       "<style scoped>\n",
       "    .dataframe tbody tr th:only-of-type {\n",
       "        vertical-align: middle;\n",
       "    }\n",
       "\n",
       "    .dataframe tbody tr th {\n",
       "        vertical-align: top;\n",
       "    }\n",
       "\n",
       "    .dataframe thead th {\n",
       "        text-align: right;\n",
       "    }\n",
       "</style>\n",
       "<table border=\"1\" class=\"dataframe\">\n",
       "  <thead>\n",
       "    <tr style=\"text-align: right;\">\n",
       "      <th></th>\n",
       "      <th>subm_type</th>\n",
       "      <th>job_id</th>\n",
       "      <th>company_id</th>\n",
       "      <th>norm_salary</th>\n",
       "      <th>job_title</th>\n",
       "      <th>company_name</th>\n",
       "      <th>text_salary</th>\n",
       "      <th>job_location</th>\n",
       "      <th>job_contents</th>\n",
       "    </tr>\n",
       "    <tr>\n",
       "      <th>subm_date</th>\n",
       "      <th></th>\n",
       "      <th></th>\n",
       "      <th></th>\n",
       "      <th></th>\n",
       "      <th></th>\n",
       "      <th></th>\n",
       "      <th></th>\n",
       "      <th></th>\n",
       "      <th></th>\n",
       "    </tr>\n",
       "  </thead>\n",
       "  <tbody>\n",
       "    <tr>\n",
       "      <th>2017-09-27</th>\n",
       "      <td>submission</td>\n",
       "      <td>3994437</td>\n",
       "      <td>124912</td>\n",
       "      <td>NaN</td>\n",
       "      <td>Data Analyst</td>\n",
       "      <td>ПрайсуотърхаусКупърс Одит ООД</td>\n",
       "      <td>None</td>\n",
       "      <td>София</td>\n",
       "      <td>&lt;!DOCTYPE html PUBLIC \"-//W3C//DTD XHTML 1.0 ...</td>\n",
       "    </tr>\n",
       "  </tbody>\n",
       "</table>\n",
       "</div>"
      ],
      "text/plain": [
       "             subm_type   job_id  company_id  norm_salary     job_title  \\\n",
       "subm_date                                                                \n",
       "2017-09-27  submission  3994437      124912          NaN  Data Analyst   \n",
       "\n",
       "                             company_name text_salary job_location  \\\n",
       "subm_date                                                            \n",
       "2017-09-27  ПрайсуотърхаусКупърс Одит ООД        None        София   \n",
       "\n",
       "                                                 job_contents  \n",
       "subm_date                                                      \n",
       "2017-09-27   <!DOCTYPE html PUBLIC \"-//W3C//DTD XHTML 1.0 ...  "
      ]
     },
     "execution_count": 3,
     "metadata": {},
     "output_type": "execute_result"
    }
   ],
   "source": [
    "data_df.head(1)"
   ]
  },
  {
   "cell_type": "markdown",
   "metadata": {},
   "source": [
    "### Relationship Categories Definition"
   ]
  },
  {
   "cell_type": "markdown",
   "metadata": {},
   "source": [
    "In order to build the necessary data we first need to define the scope of the relationships we aim to observe. The search strings we will compare should be of the same semantic category to provide meaningful insight.\n",
    "\n",
    "To explore the data and prepare proper definitions we took a deep dive in the data offers' text contents. We used the `nltk` library for text processing to produce frequency distributions of most common words, bigrams and trigrams. Then those distributions were used to explore different possible relationship categories. See the details in the [Requirements Deep Dive Notebook](./Data_Offers_Requirements_Deep_Dive.ipynb).\n",
    "\n",
    "For the first chord diagram the chosen view is a breakdown by technology. Other possible relationships to explore are skill requirements breakdown, perks & benefits breakdown, job title breakdown, etc."
   ]
  },
  {
   "cell_type": "markdown",
   "metadata": {},
   "source": [
    "### Data Jobs Technology Requirement Relationships"
   ]
  },
  {
   "cell_type": "markdown",
   "metadata": {},
   "source": [
    "A preliminary list of terms that describe most often sought categories is presented below. We are going to use it to construct regex filters for selected key technologies."
   ]
  },
  {
   "cell_type": "code",
   "execution_count": 4,
   "metadata": {},
   "outputs": [],
   "source": [
    "tech_terms_filters = [\n",
    "    r'power bi', r'excel', r'ss[ir]s',\n",
    "    r'sql server', r'postgresql', r'(mysql)|(mariadb)', r't.?sql', r'pl.?sql',\n",
    "    r'pentaho', r'hadoop', r'spark', r'informatica',\n",
    "    r'qlik', r'tableau', r'microstrategy', r'oracle (bi)|(business intelligence)',\n",
    "    r'python', r'vba', r'linux', r'aws']\n",
    "\n",
    "tech_terms_labels = [\n",
    "    'Power BI', 'Excel', 'SSIS/SSRS',\n",
    "    'MS SQL Server', 'PostgreSQL', 'MySQL/MariaDB', 'T-SQL', 'PL/SQL',\n",
    "    'Pentaho', 'Hadoop', 'Spark', 'Informatica',\n",
    "    'Qlik', 'Tableau', 'Microstrategy', 'Oracle BI',\n",
    "    'Python', 'VBA', 'Linux', 'AWS']"
   ]
  },
  {
   "cell_type": "markdown",
   "metadata": {},
   "source": [
    "#### Preparing a square matrix with counts for matching filters"
   ]
  },
  {
   "cell_type": "markdown",
   "metadata": {},
   "source": [
    "First we define a helper function that returns `True` for job offers where both of the provided patterns are found in the job contents. We also prepare a list of all possible filter patterns' combinations."
   ]
  },
  {
   "cell_type": "code",
   "execution_count": 5,
   "metadata": {},
   "outputs": [],
   "source": [
    "def match_terms(first_term, second_term, text):\n",
    "    match_found = re.search(first_term, text, re.IGNORECASE) and re.search(second_term, text, re.IGNORECASE)\n",
    "    return True if match_found else False\n",
    "\n",
    "    \n",
    "def count_matches(first_term, second_term, col):\n",
    "    return sum([match_terms(first_term, second_term, t) for t in col.values])\n",
    "\n",
    "req_combinations = list(combinations(tech_terms_filters, 2))"
   ]
  },
  {
   "cell_type": "markdown",
   "metadata": {},
   "source": [
    "Building the counts in a dictionary with keys composed of tuples with both search terms. "
   ]
  },
  {
   "cell_type": "code",
   "execution_count": 6,
   "metadata": {},
   "outputs": [
    {
     "name": "stdout",
     "output_type": "stream",
     "text": [
      "CPU times: user 1min 55s, sys: 0 ns, total: 1min 55s\n",
      "Wall time: 1min 55s\n"
     ]
    }
   ],
   "source": [
    "%%time\n",
    "match_results = [count_matches(*tup, data_df.job_contents) for tup in req_combinations]\n",
    "match_dict = dict(zip(req_combinations, match_results))"
   ]
  },
  {
   "cell_type": "markdown",
   "metadata": {},
   "source": [
    "Another helper function will unpack the combinations counts into a square matrix form. Finally, a DataFrame is created from the combinations counts matrix. This is our main data source for the chord diagram. "
   ]
  },
  {
   "cell_type": "code",
   "execution_count": 7,
   "metadata": {},
   "outputs": [],
   "source": [
    "def make_matrix(headers, counts):\n",
    "    res = []\n",
    "    for k1 in headers:\n",
    "        row = []\n",
    "        for k2 in headers:\n",
    "            if k1 == k2:\n",
    "                row.append(0)\n",
    "            else:\n",
    "                curr_key = tuple([k1, k2])\n",
    "                cell_value = counts.get(curr_key) if curr_key in counts else counts.get(tuple([k2, k1]))\n",
    "                row.append(cell_value)\n",
    "        res.append(row)\n",
    "    return np.array(res, dtype=int)  "
   ]
  },
  {
   "cell_type": "code",
   "execution_count": 8,
   "metadata": {},
   "outputs": [],
   "source": [
    "tech_terms_matrix = make_matrix(tech_terms_filters, match_dict)"
   ]
  },
  {
   "cell_type": "code",
   "execution_count": 9,
   "metadata": {},
   "outputs": [
    {
     "data": {
      "text/html": [
       "<div>\n",
       "<style scoped>\n",
       "    .dataframe tbody tr th:only-of-type {\n",
       "        vertical-align: middle;\n",
       "    }\n",
       "\n",
       "    .dataframe tbody tr th {\n",
       "        vertical-align: top;\n",
       "    }\n",
       "\n",
       "    .dataframe thead th {\n",
       "        text-align: right;\n",
       "    }\n",
       "</style>\n",
       "<table border=\"1\" class=\"dataframe\">\n",
       "  <thead>\n",
       "    <tr style=\"text-align: right;\">\n",
       "      <th></th>\n",
       "      <th>Power BI</th>\n",
       "      <th>Excel</th>\n",
       "      <th>SSIS/SSRS</th>\n",
       "      <th>MS SQL Server</th>\n",
       "      <th>PostgreSQL</th>\n",
       "      <th>MySQL/MariaDB</th>\n",
       "      <th>T-SQL</th>\n",
       "      <th>PL/SQL</th>\n",
       "      <th>Pentaho</th>\n",
       "      <th>Hadoop</th>\n",
       "      <th>Spark</th>\n",
       "      <th>Informatica</th>\n",
       "      <th>Qlik</th>\n",
       "      <th>Tableau</th>\n",
       "      <th>Microstrategy</th>\n",
       "      <th>Oracle BI</th>\n",
       "      <th>Python</th>\n",
       "      <th>VBA</th>\n",
       "      <th>Linux</th>\n",
       "      <th>AWS</th>\n",
       "    </tr>\n",
       "  </thead>\n",
       "  <tbody>\n",
       "    <tr>\n",
       "      <th>Power BI</th>\n",
       "      <td>0</td>\n",
       "      <td>171</td>\n",
       "      <td>100</td>\n",
       "      <td>99</td>\n",
       "      <td>0</td>\n",
       "      <td>5</td>\n",
       "      <td>36</td>\n",
       "      <td>5</td>\n",
       "      <td>8</td>\n",
       "      <td>17</td>\n",
       "      <td>22</td>\n",
       "      <td>10</td>\n",
       "      <td>132</td>\n",
       "      <td>141</td>\n",
       "      <td>18</td>\n",
       "      <td>109</td>\n",
       "      <td>58</td>\n",
       "      <td>26</td>\n",
       "      <td>4</td>\n",
       "      <td>5</td>\n",
       "    </tr>\n",
       "    <tr>\n",
       "      <th>Excel</th>\n",
       "      <td>171</td>\n",
       "      <td>0</td>\n",
       "      <td>403</td>\n",
       "      <td>220</td>\n",
       "      <td>51</td>\n",
       "      <td>93</td>\n",
       "      <td>164</td>\n",
       "      <td>49</td>\n",
       "      <td>59</td>\n",
       "      <td>63</td>\n",
       "      <td>68</td>\n",
       "      <td>114</td>\n",
       "      <td>344</td>\n",
       "      <td>371</td>\n",
       "      <td>31</td>\n",
       "      <td>507</td>\n",
       "      <td>279</td>\n",
       "      <td>184</td>\n",
       "      <td>58</td>\n",
       "      <td>41</td>\n",
       "    </tr>\n",
       "    <tr>\n",
       "      <th>SSIS/SSRS</th>\n",
       "      <td>100</td>\n",
       "      <td>403</td>\n",
       "      <td>0</td>\n",
       "      <td>218</td>\n",
       "      <td>29</td>\n",
       "      <td>53</td>\n",
       "      <td>109</td>\n",
       "      <td>25</td>\n",
       "      <td>30</td>\n",
       "      <td>30</td>\n",
       "      <td>36</td>\n",
       "      <td>63</td>\n",
       "      <td>61</td>\n",
       "      <td>121</td>\n",
       "      <td>21</td>\n",
       "      <td>207</td>\n",
       "      <td>128</td>\n",
       "      <td>57</td>\n",
       "      <td>15</td>\n",
       "      <td>23</td>\n",
       "    </tr>\n",
       "    <tr>\n",
       "      <th>MS SQL Server</th>\n",
       "      <td>99</td>\n",
       "      <td>220</td>\n",
       "      <td>218</td>\n",
       "      <td>0</td>\n",
       "      <td>47</td>\n",
       "      <td>62</td>\n",
       "      <td>150</td>\n",
       "      <td>10</td>\n",
       "      <td>42</td>\n",
       "      <td>24</td>\n",
       "      <td>20</td>\n",
       "      <td>55</td>\n",
       "      <td>49</td>\n",
       "      <td>80</td>\n",
       "      <td>16</td>\n",
       "      <td>132</td>\n",
       "      <td>88</td>\n",
       "      <td>33</td>\n",
       "      <td>34</td>\n",
       "      <td>9</td>\n",
       "    </tr>\n",
       "    <tr>\n",
       "      <th>PostgreSQL</th>\n",
       "      <td>0</td>\n",
       "      <td>51</td>\n",
       "      <td>29</td>\n",
       "      <td>47</td>\n",
       "      <td>0</td>\n",
       "      <td>64</td>\n",
       "      <td>28</td>\n",
       "      <td>0</td>\n",
       "      <td>40</td>\n",
       "      <td>3</td>\n",
       "      <td>5</td>\n",
       "      <td>0</td>\n",
       "      <td>13</td>\n",
       "      <td>6</td>\n",
       "      <td>0</td>\n",
       "      <td>33</td>\n",
       "      <td>23</td>\n",
       "      <td>0</td>\n",
       "      <td>26</td>\n",
       "      <td>0</td>\n",
       "    </tr>\n",
       "    <tr>\n",
       "      <th>MySQL/MariaDB</th>\n",
       "      <td>5</td>\n",
       "      <td>93</td>\n",
       "      <td>53</td>\n",
       "      <td>62</td>\n",
       "      <td>64</td>\n",
       "      <td>0</td>\n",
       "      <td>35</td>\n",
       "      <td>0</td>\n",
       "      <td>58</td>\n",
       "      <td>4</td>\n",
       "      <td>19</td>\n",
       "      <td>8</td>\n",
       "      <td>16</td>\n",
       "      <td>38</td>\n",
       "      <td>0</td>\n",
       "      <td>54</td>\n",
       "      <td>45</td>\n",
       "      <td>3</td>\n",
       "      <td>32</td>\n",
       "      <td>0</td>\n",
       "    </tr>\n",
       "    <tr>\n",
       "      <th>T-SQL</th>\n",
       "      <td>36</td>\n",
       "      <td>164</td>\n",
       "      <td>109</td>\n",
       "      <td>150</td>\n",
       "      <td>28</td>\n",
       "      <td>35</td>\n",
       "      <td>0</td>\n",
       "      <td>30</td>\n",
       "      <td>35</td>\n",
       "      <td>16</td>\n",
       "      <td>16</td>\n",
       "      <td>12</td>\n",
       "      <td>64</td>\n",
       "      <td>86</td>\n",
       "      <td>9</td>\n",
       "      <td>118</td>\n",
       "      <td>45</td>\n",
       "      <td>26</td>\n",
       "      <td>22</td>\n",
       "      <td>8</td>\n",
       "    </tr>\n",
       "    <tr>\n",
       "      <th>PL/SQL</th>\n",
       "      <td>5</td>\n",
       "      <td>49</td>\n",
       "      <td>25</td>\n",
       "      <td>10</td>\n",
       "      <td>0</td>\n",
       "      <td>0</td>\n",
       "      <td>30</td>\n",
       "      <td>0</td>\n",
       "      <td>8</td>\n",
       "      <td>3</td>\n",
       "      <td>0</td>\n",
       "      <td>23</td>\n",
       "      <td>12</td>\n",
       "      <td>15</td>\n",
       "      <td>20</td>\n",
       "      <td>74</td>\n",
       "      <td>2</td>\n",
       "      <td>6</td>\n",
       "      <td>1</td>\n",
       "      <td>1</td>\n",
       "    </tr>\n",
       "    <tr>\n",
       "      <th>Pentaho</th>\n",
       "      <td>8</td>\n",
       "      <td>59</td>\n",
       "      <td>30</td>\n",
       "      <td>42</td>\n",
       "      <td>40</td>\n",
       "      <td>58</td>\n",
       "      <td>35</td>\n",
       "      <td>8</td>\n",
       "      <td>0</td>\n",
       "      <td>0</td>\n",
       "      <td>6</td>\n",
       "      <td>32</td>\n",
       "      <td>27</td>\n",
       "      <td>35</td>\n",
       "      <td>3</td>\n",
       "      <td>35</td>\n",
       "      <td>34</td>\n",
       "      <td>1</td>\n",
       "      <td>31</td>\n",
       "      <td>13</td>\n",
       "    </tr>\n",
       "    <tr>\n",
       "      <th>Hadoop</th>\n",
       "      <td>17</td>\n",
       "      <td>63</td>\n",
       "      <td>30</td>\n",
       "      <td>24</td>\n",
       "      <td>3</td>\n",
       "      <td>4</td>\n",
       "      <td>16</td>\n",
       "      <td>3</td>\n",
       "      <td>0</td>\n",
       "      <td>0</td>\n",
       "      <td>101</td>\n",
       "      <td>5</td>\n",
       "      <td>9</td>\n",
       "      <td>34</td>\n",
       "      <td>3</td>\n",
       "      <td>29</td>\n",
       "      <td>108</td>\n",
       "      <td>6</td>\n",
       "      <td>68</td>\n",
       "      <td>37</td>\n",
       "    </tr>\n",
       "    <tr>\n",
       "      <th>Spark</th>\n",
       "      <td>22</td>\n",
       "      <td>68</td>\n",
       "      <td>36</td>\n",
       "      <td>20</td>\n",
       "      <td>5</td>\n",
       "      <td>19</td>\n",
       "      <td>16</td>\n",
       "      <td>0</td>\n",
       "      <td>6</td>\n",
       "      <td>101</td>\n",
       "      <td>0</td>\n",
       "      <td>9</td>\n",
       "      <td>15</td>\n",
       "      <td>33</td>\n",
       "      <td>3</td>\n",
       "      <td>25</td>\n",
       "      <td>120</td>\n",
       "      <td>6</td>\n",
       "      <td>51</td>\n",
       "      <td>40</td>\n",
       "    </tr>\n",
       "    <tr>\n",
       "      <th>Informatica</th>\n",
       "      <td>10</td>\n",
       "      <td>114</td>\n",
       "      <td>63</td>\n",
       "      <td>55</td>\n",
       "      <td>0</td>\n",
       "      <td>8</td>\n",
       "      <td>12</td>\n",
       "      <td>23</td>\n",
       "      <td>32</td>\n",
       "      <td>5</td>\n",
       "      <td>9</td>\n",
       "      <td>0</td>\n",
       "      <td>91</td>\n",
       "      <td>64</td>\n",
       "      <td>11</td>\n",
       "      <td>122</td>\n",
       "      <td>24</td>\n",
       "      <td>3</td>\n",
       "      <td>6</td>\n",
       "      <td>17</td>\n",
       "    </tr>\n",
       "    <tr>\n",
       "      <th>Qlik</th>\n",
       "      <td>132</td>\n",
       "      <td>344</td>\n",
       "      <td>61</td>\n",
       "      <td>49</td>\n",
       "      <td>13</td>\n",
       "      <td>16</td>\n",
       "      <td>64</td>\n",
       "      <td>12</td>\n",
       "      <td>27</td>\n",
       "      <td>9</td>\n",
       "      <td>15</td>\n",
       "      <td>91</td>\n",
       "      <td>0</td>\n",
       "      <td>296</td>\n",
       "      <td>26</td>\n",
       "      <td>275</td>\n",
       "      <td>36</td>\n",
       "      <td>27</td>\n",
       "      <td>2</td>\n",
       "      <td>2</td>\n",
       "    </tr>\n",
       "    <tr>\n",
       "      <th>Tableau</th>\n",
       "      <td>141</td>\n",
       "      <td>371</td>\n",
       "      <td>121</td>\n",
       "      <td>80</td>\n",
       "      <td>6</td>\n",
       "      <td>38</td>\n",
       "      <td>86</td>\n",
       "      <td>15</td>\n",
       "      <td>35</td>\n",
       "      <td>34</td>\n",
       "      <td>33</td>\n",
       "      <td>64</td>\n",
       "      <td>296</td>\n",
       "      <td>0</td>\n",
       "      <td>38</td>\n",
       "      <td>343</td>\n",
       "      <td>103</td>\n",
       "      <td>54</td>\n",
       "      <td>13</td>\n",
       "      <td>29</td>\n",
       "    </tr>\n",
       "    <tr>\n",
       "      <th>Microstrategy</th>\n",
       "      <td>18</td>\n",
       "      <td>31</td>\n",
       "      <td>21</td>\n",
       "      <td>16</td>\n",
       "      <td>0</td>\n",
       "      <td>0</td>\n",
       "      <td>9</td>\n",
       "      <td>20</td>\n",
       "      <td>3</td>\n",
       "      <td>3</td>\n",
       "      <td>3</td>\n",
       "      <td>11</td>\n",
       "      <td>26</td>\n",
       "      <td>38</td>\n",
       "      <td>0</td>\n",
       "      <td>50</td>\n",
       "      <td>14</td>\n",
       "      <td>6</td>\n",
       "      <td>4</td>\n",
       "      <td>2</td>\n",
       "    </tr>\n",
       "    <tr>\n",
       "      <th>Oracle BI</th>\n",
       "      <td>109</td>\n",
       "      <td>507</td>\n",
       "      <td>207</td>\n",
       "      <td>132</td>\n",
       "      <td>33</td>\n",
       "      <td>54</td>\n",
       "      <td>118</td>\n",
       "      <td>74</td>\n",
       "      <td>35</td>\n",
       "      <td>29</td>\n",
       "      <td>25</td>\n",
       "      <td>122</td>\n",
       "      <td>275</td>\n",
       "      <td>343</td>\n",
       "      <td>50</td>\n",
       "      <td>0</td>\n",
       "      <td>122</td>\n",
       "      <td>57</td>\n",
       "      <td>3</td>\n",
       "      <td>42</td>\n",
       "    </tr>\n",
       "    <tr>\n",
       "      <th>Python</th>\n",
       "      <td>58</td>\n",
       "      <td>279</td>\n",
       "      <td>128</td>\n",
       "      <td>88</td>\n",
       "      <td>23</td>\n",
       "      <td>45</td>\n",
       "      <td>45</td>\n",
       "      <td>2</td>\n",
       "      <td>34</td>\n",
       "      <td>108</td>\n",
       "      <td>120</td>\n",
       "      <td>24</td>\n",
       "      <td>36</td>\n",
       "      <td>103</td>\n",
       "      <td>14</td>\n",
       "      <td>122</td>\n",
       "      <td>0</td>\n",
       "      <td>54</td>\n",
       "      <td>74</td>\n",
       "      <td>73</td>\n",
       "    </tr>\n",
       "    <tr>\n",
       "      <th>VBA</th>\n",
       "      <td>26</td>\n",
       "      <td>184</td>\n",
       "      <td>57</td>\n",
       "      <td>33</td>\n",
       "      <td>0</td>\n",
       "      <td>3</td>\n",
       "      <td>26</td>\n",
       "      <td>6</td>\n",
       "      <td>1</td>\n",
       "      <td>6</td>\n",
       "      <td>6</td>\n",
       "      <td>3</td>\n",
       "      <td>27</td>\n",
       "      <td>54</td>\n",
       "      <td>6</td>\n",
       "      <td>57</td>\n",
       "      <td>54</td>\n",
       "      <td>0</td>\n",
       "      <td>0</td>\n",
       "      <td>4</td>\n",
       "    </tr>\n",
       "    <tr>\n",
       "      <th>Linux</th>\n",
       "      <td>4</td>\n",
       "      <td>58</td>\n",
       "      <td>15</td>\n",
       "      <td>34</td>\n",
       "      <td>26</td>\n",
       "      <td>32</td>\n",
       "      <td>22</td>\n",
       "      <td>1</td>\n",
       "      <td>31</td>\n",
       "      <td>68</td>\n",
       "      <td>51</td>\n",
       "      <td>6</td>\n",
       "      <td>2</td>\n",
       "      <td>13</td>\n",
       "      <td>4</td>\n",
       "      <td>3</td>\n",
       "      <td>74</td>\n",
       "      <td>0</td>\n",
       "      <td>0</td>\n",
       "      <td>20</td>\n",
       "    </tr>\n",
       "    <tr>\n",
       "      <th>AWS</th>\n",
       "      <td>5</td>\n",
       "      <td>41</td>\n",
       "      <td>23</td>\n",
       "      <td>9</td>\n",
       "      <td>0</td>\n",
       "      <td>0</td>\n",
       "      <td>8</td>\n",
       "      <td>1</td>\n",
       "      <td>13</td>\n",
       "      <td>37</td>\n",
       "      <td>40</td>\n",
       "      <td>17</td>\n",
       "      <td>2</td>\n",
       "      <td>29</td>\n",
       "      <td>2</td>\n",
       "      <td>42</td>\n",
       "      <td>73</td>\n",
       "      <td>4</td>\n",
       "      <td>20</td>\n",
       "      <td>0</td>\n",
       "    </tr>\n",
       "  </tbody>\n",
       "</table>\n",
       "</div>"
      ],
      "text/plain": [
       "               Power BI  Excel  SSIS/SSRS  MS SQL Server  PostgreSQL  \\\n",
       "Power BI              0    171        100             99           0   \n",
       "Excel               171      0        403            220          51   \n",
       "SSIS/SSRS           100    403          0            218          29   \n",
       "MS SQL Server        99    220        218              0          47   \n",
       "PostgreSQL            0     51         29             47           0   \n",
       "MySQL/MariaDB         5     93         53             62          64   \n",
       "T-SQL                36    164        109            150          28   \n",
       "PL/SQL                5     49         25             10           0   \n",
       "Pentaho               8     59         30             42          40   \n",
       "Hadoop               17     63         30             24           3   \n",
       "Spark                22     68         36             20           5   \n",
       "Informatica          10    114         63             55           0   \n",
       "Qlik                132    344         61             49          13   \n",
       "Tableau             141    371        121             80           6   \n",
       "Microstrategy        18     31         21             16           0   \n",
       "Oracle BI           109    507        207            132          33   \n",
       "Python               58    279        128             88          23   \n",
       "VBA                  26    184         57             33           0   \n",
       "Linux                 4     58         15             34          26   \n",
       "AWS                   5     41         23              9           0   \n",
       "\n",
       "               MySQL/MariaDB  T-SQL  PL/SQL  Pentaho  Hadoop  Spark  \\\n",
       "Power BI                   5     36       5        8      17     22   \n",
       "Excel                     93    164      49       59      63     68   \n",
       "SSIS/SSRS                 53    109      25       30      30     36   \n",
       "MS SQL Server             62    150      10       42      24     20   \n",
       "PostgreSQL                64     28       0       40       3      5   \n",
       "MySQL/MariaDB              0     35       0       58       4     19   \n",
       "T-SQL                     35      0      30       35      16     16   \n",
       "PL/SQL                     0     30       0        8       3      0   \n",
       "Pentaho                   58     35       8        0       0      6   \n",
       "Hadoop                     4     16       3        0       0    101   \n",
       "Spark                     19     16       0        6     101      0   \n",
       "Informatica                8     12      23       32       5      9   \n",
       "Qlik                      16     64      12       27       9     15   \n",
       "Tableau                   38     86      15       35      34     33   \n",
       "Microstrategy              0      9      20        3       3      3   \n",
       "Oracle BI                 54    118      74       35      29     25   \n",
       "Python                    45     45       2       34     108    120   \n",
       "VBA                        3     26       6        1       6      6   \n",
       "Linux                     32     22       1       31      68     51   \n",
       "AWS                        0      8       1       13      37     40   \n",
       "\n",
       "               Informatica  Qlik  Tableau  Microstrategy  Oracle BI  Python  \\\n",
       "Power BI                10   132      141             18        109      58   \n",
       "Excel                  114   344      371             31        507     279   \n",
       "SSIS/SSRS               63    61      121             21        207     128   \n",
       "MS SQL Server           55    49       80             16        132      88   \n",
       "PostgreSQL               0    13        6              0         33      23   \n",
       "MySQL/MariaDB            8    16       38              0         54      45   \n",
       "T-SQL                   12    64       86              9        118      45   \n",
       "PL/SQL                  23    12       15             20         74       2   \n",
       "Pentaho                 32    27       35              3         35      34   \n",
       "Hadoop                   5     9       34              3         29     108   \n",
       "Spark                    9    15       33              3         25     120   \n",
       "Informatica              0    91       64             11        122      24   \n",
       "Qlik                    91     0      296             26        275      36   \n",
       "Tableau                 64   296        0             38        343     103   \n",
       "Microstrategy           11    26       38              0         50      14   \n",
       "Oracle BI              122   275      343             50          0     122   \n",
       "Python                  24    36      103             14        122       0   \n",
       "VBA                      3    27       54              6         57      54   \n",
       "Linux                    6     2       13              4          3      74   \n",
       "AWS                     17     2       29              2         42      73   \n",
       "\n",
       "               VBA  Linux  AWS  \n",
       "Power BI        26      4    5  \n",
       "Excel          184     58   41  \n",
       "SSIS/SSRS       57     15   23  \n",
       "MS SQL Server   33     34    9  \n",
       "PostgreSQL       0     26    0  \n",
       "MySQL/MariaDB    3     32    0  \n",
       "T-SQL           26     22    8  \n",
       "PL/SQL           6      1    1  \n",
       "Pentaho          1     31   13  \n",
       "Hadoop           6     68   37  \n",
       "Spark            6     51   40  \n",
       "Informatica      3      6   17  \n",
       "Qlik            27      2    2  \n",
       "Tableau         54     13   29  \n",
       "Microstrategy    6      4    2  \n",
       "Oracle BI       57      3   42  \n",
       "Python          54     74   73  \n",
       "VBA              0      0    4  \n",
       "Linux            0      0   20  \n",
       "AWS              4     20    0  "
      ]
     },
     "execution_count": 9,
     "metadata": {},
     "output_type": "execute_result"
    }
   ],
   "source": [
    "tech_terms_df = pd.DataFrame(tech_terms_matrix, columns=tech_terms_labels, index=tech_terms_labels)\n",
    "tech_terms_df"
   ]
  },
  {
   "cell_type": "markdown",
   "metadata": {},
   "source": [
    "We can finally move to Plotly. \n",
    "\n",
    "A chord diagram encodes information in two graphical objects:\n",
    "\n",
    "- Ideograms, represented by distinctly colored arcs of circles;\n",
    "- Ribbons, that are planar shapes bounded by two quadratic Bezier curves and two arcs of circle,that can degenerate to a point;\n"
   ]
  },
  {
   "cell_type": "markdown",
   "metadata": {},
   "source": [
    "### Ideograms Preparation"
   ]
  },
  {
   "cell_type": "markdown",
   "metadata": {},
   "source": [
    "For each of our predefined tech terms we can produce a total hits count by summing up all the entries on the row (or column for that matter). That total count determines the size of each ideogram of the chart.\n",
    "\n",
    "We are going to need a couple of helper functions to process the data in order to get ideogram ends.\n"
   ]
  },
  {
   "cell_type": "code",
   "execution_count": 12,
   "metadata": {},
   "outputs": [],
   "source": [
    "PI = np.pi\n",
    "\n",
    "def moduloAB(x, a, b):\n",
    "    if a >= b:\n",
    "        raise ValueError('Incorrect interval ends')\n",
    "    y = (x-a) % (b-a)\n",
    "    return y+b if y < 0 else y+a\n",
    "\n",
    "\n",
    "def test_2PI(x):\n",
    "    return 0 <= x < 2*PI"
   ]
  },
  {
   "cell_type": "markdown",
   "metadata": {},
   "source": [
    "And now use them to compute the row sums and the lengths of corresponding ideograms."
   ]
  },
  {
   "cell_type": "code",
   "execution_count": 13,
   "metadata": {},
   "outputs": [],
   "source": [
    "row_sum = [np.sum(tech_terms_matrix[k, :]) for k in range(len(tech_terms_filters))]\n",
    "\n",
    "#set the gap between two consecutive ideograms\n",
    "gap = 2*PI*0.005\n",
    "ideogram_length = 2*PI*np.asarray(row_sum)/sum(row_sum)-gap*np.ones(len(tech_terms_filters))"
   ]
  },
  {
   "cell_type": "markdown",
   "metadata": {},
   "source": [
    "The next function returns the list of end angular coordinates for each ideogram arc:\n"
   ]
  },
  {
   "cell_type": "code",
   "execution_count": 14,
   "metadata": {},
   "outputs": [],
   "source": [
    "def get_ideogram_ends(ideogram_len, gap):\n",
    "    ideo_ends = []\n",
    "    left = 0\n",
    "    for k in range(len(ideogram_len)):\n",
    "        right = left+ideogram_len[k]\n",
    "        ideo_ends.append([left, right])\n",
    "        left = right+gap\n",
    "    return ideo_ends\n",
    "\n",
    "ideo_ends = get_ideogram_ends(ideogram_length, gap)"
   ]
  },
  {
   "cell_type": "markdown",
   "metadata": {},
   "source": [
    "The function make_ideogram_arc returns equally spaced points on an ideogram arc, expressed as complex numbers in polar form:"
   ]
  },
  {
   "cell_type": "code",
   "execution_count": 15,
   "metadata": {},
   "outputs": [],
   "source": [
    "def make_ideogram_arc(R, phi, a=50):\n",
    "    if not test_2PI(phi[0]) or not test_2PI(phi[1]):\n",
    "        phi = [moduloAB(t, 0, 2*PI) for t in phi]\n",
    "    length = (phi[1]-phi[0]) % 2*PI\n",
    "    nr = 5 if length <= PI/4 else int(a*length/PI)\n",
    "    if phi[0] < phi[1]:\n",
    "        theta = np.linspace(phi[0], phi[1], nr)\n",
    "    else:\n",
    "        phi = [moduloAB(t, -PI, PI) for t in phi]\n",
    "        theta = np.linspace(phi[0], phi[1], nr)\n",
    "    return R*np.exp(1j*theta)"
   ]
  },
  {
   "cell_type": "code",
   "execution_count": 16,
   "metadata": {},
   "outputs": [],
   "source": [
    "z = make_ideogram_arc(1.3, [11*PI/6, PI/17])"
   ]
  },
  {
   "cell_type": "markdown",
   "metadata": {},
   "source": [
    "### Ribbons Preparation"
   ]
  },
  {
   "cell_type": "markdown",
   "metadata": {},
   "source": [
    "The function map_data maps all matrix entries to the corresponding values in the intervals associated to ideograms:"
   ]
  },
  {
   "cell_type": "code",
   "execution_count": 17,
   "metadata": {},
   "outputs": [],
   "source": [
    "def map_data(data_matrix, row_value, ideogram_length):\n",
    "    mapped = np.zeros(data_matrix.shape)\n",
    "    for j in range(len(tech_terms_filters)):\n",
    "        mapped[:, j] = ideogram_length*data_matrix[:, j]/row_value\n",
    "    return mapped\n",
    "\n",
    "mapped_data = map_data(tech_terms_matrix, row_sum, ideogram_length)"
   ]
  },
  {
   "cell_type": "markdown",
   "metadata": {},
   "source": [
    "The array idx_sort, defined below, has on each row the indices that sort the corresponding row in mapped_data:\n"
   ]
  },
  {
   "cell_type": "code",
   "execution_count": 18,
   "metadata": {},
   "outputs": [],
   "source": [
    "idx_sort = np.argsort(mapped_data, axis=1)"
   ]
  },
  {
   "cell_type": "code",
   "execution_count": 19,
   "metadata": {},
   "outputs": [
    {
     "name": "stdout",
     "output_type": "stream",
     "text": [
      "ribbon ends starting from the ideogram[2]\n",
      " [(1.2829255259429637, 1.2829255259429637), (1.2829255259429637, 1.2871959133878288), (1.2871959133878288, 1.29317445581064), (1.29317445581064, 1.2997223832260998), (1.2997223832260998, 1.3068396956342083), (1.3068396956342083, 1.3150957780276142), (1.3150957780276142, 1.3236365529173446), (1.3236365529173446, 1.332177327807075), (1.332177327807075, 1.3424262576747512), (1.3424262576747512, 1.3575149599799414), (1.3575149599799414, 1.373742432270429), (1.373742432270429, 1.391108674546214), (1.391108674546214, 1.4090443018146475), (1.4090443018146475, 1.4375135514470816), (1.4375135514470816, 1.468545033546435), (1.468545033546435, 1.5029928256016805), (1.5029928256016805, 1.5394334651311963), (1.5394334651311963, 1.598364811870335), (1.598364811870335, 1.6604277760690418), (1.6604277760690418, 1.7751588520877517)]\n"
     ]
    }
   ],
   "source": [
    "def make_ribbon_ends(mapped_data, ideo_ends,  idx_sort):\n",
    "    L = mapped_data.shape[0]\n",
    "    ribbon_boundary = np.zeros((L, L+1))\n",
    "    for k in range(L):\n",
    "        start = ideo_ends[k][0]\n",
    "        ribbon_boundary[k][0] = start\n",
    "        for j in range(1, L+1):\n",
    "            J = idx_sort[k][j-1]\n",
    "            ribbon_boundary[k][j] = start+mapped_data[k][J]\n",
    "            start = ribbon_boundary[k][j]\n",
    "    return [[(ribbon_boundary[k][j], ribbon_boundary[k][j+1]) for j in range(L)] for k in range(L)]\n",
    "\n",
    "\n",
    "ribbon_ends = make_ribbon_ends(mapped_data, ideo_ends, idx_sort)\n",
    "print('ribbon ends starting from the ideogram[2]\\n', ribbon_ends[2])"
   ]
  },
  {
   "cell_type": "code",
   "execution_count": 20,
   "metadata": {},
   "outputs": [],
   "source": [
    "def control_pts(angle, radius):\n",
    "    if len(angle) != 3:\n",
    "        raise InvalidInputError('angle must have len =3')\n",
    "    b_cplx = np.array([np.exp(1j*angle[k]) for k in range(3)])\n",
    "    b_cplx[1] = radius*b_cplx[1]\n",
    "    return zip(b_cplx.real, b_cplx.imag)"
   ]
  },
  {
   "cell_type": "code",
   "execution_count": 21,
   "metadata": {},
   "outputs": [],
   "source": [
    "def ctrl_rib_chords(l, r, radius):\n",
    "    if len(l) != 2 or len(r) != 2:\n",
    "        raise ValueError('the arc ends must be elements in a list of len 2')\n",
    "    return [control_pts([l[j], (l[j]+r[j])/2, r[j]], radius) for j in range(2)]"
   ]
  },
  {
   "cell_type": "code",
   "execution_count": 22,
   "metadata": {},
   "outputs": [
    {
     "data": {
      "text/plain": [
       "'M 1,4 Q -0.5, 2.35 3.745, 1.47'"
      ]
     },
     "execution_count": 22,
     "metadata": {},
     "output_type": "execute_result"
    }
   ],
   "source": [
    "def make_q_bezier(b):\n",
    "    if len(b) != 3:\n",
    "        raise ValueError('control poligon must have 3 points')\n",
    "    A, B, C = b\n",
    "    return 'M ' + str(A[0]) + ',' + str(A[1]) + ' ' + 'Q ' + \\\n",
    "        str(B[0]) + ', ' + str(B[1]) + ' ' + \\\n",
    "        str(C[0]) + ', ' + str(C[1])\n",
    "\n",
    "\n",
    "b = [(1,4), (-0.5, 2.35), (3.745, 1.47)]\n",
    "make_q_bezier(b)"
   ]
  },
  {
   "cell_type": "code",
   "execution_count": 23,
   "metadata": {},
   "outputs": [],
   "source": [
    "def make_ribbon_arc(theta0, theta1):\n",
    "    if test_2PI(theta0) and test_2PI(theta1):\n",
    "        if theta0 < theta1:\n",
    "            theta0 = moduloAB(theta0, -PI, PI)\n",
    "            theta1 = moduloAB(theta1, -PI, PI)\n",
    "            if theta0*theta1 > 0:\n",
    "                raise ValueError('incorrect angle coordinates for ribbon')\n",
    "\n",
    "        nr = int(40*(theta0-theta1)/PI)\n",
    "        if nr <= 2: \n",
    "            nr = 3\n",
    "        theta = np.linspace(theta0, theta1, nr)\n",
    "        pts = np.exp(1j*theta)\n",
    "\n",
    "        string_arc = ''\n",
    "        for k in range(len(theta)):\n",
    "            string_arc += 'L ' + str(pts.real[k]) + ', ' + str(pts.imag[k]) + ' '\n",
    "        return string_arc\n",
    "    else:\n",
    "        raise ValueError('the angle coordinates for an arc side of a ribbon must be in [0, 2*pi]')"
   ]
  },
  {
   "cell_type": "code",
   "execution_count": 24,
   "metadata": {},
   "outputs": [],
   "source": [
    "def make_ideo_shape(path, line_color, fill_color):\n",
    "    return dict(\n",
    "        line=dict(color=line_color, width=0.45),\n",
    "        path=path,\n",
    "        type='path',\n",
    "        fillcolor=fill_color,\n",
    "        layer='below',\n",
    "    )"
   ]
  },
  {
   "cell_type": "code",
   "execution_count": 25,
   "metadata": {},
   "outputs": [],
   "source": [
    "temp_colors = [*DS['colorramp']['acc1'], *DS['colorramp']['acc2']]\n",
    "len_datalist = len(tech_terms_filters)\n",
    "ideo_colors = temp_colors[:len_datalist]"
   ]
  },
  {
   "cell_type": "code",
   "execution_count": 26,
   "metadata": {},
   "outputs": [],
   "source": [
    "def make_ribbon(l, r, line_color, fill_color, radius=0.2):\n",
    "    poligon = ctrl_rib_chords(l, r, radius)\n",
    "    b, c = poligon\n",
    "\n",
    "    return dict(\n",
    "        line=dict(\n",
    "            color=line_color,\n",
    "            width=0.5\n",
    "            ),\n",
    "        path=make_q_bezier(list(b))+make_ribbon_arc(r[0], r[1])+make_q_bezier(list(c)[::-1])+make_ribbon_arc(l[1], l[0]),\n",
    "        type='path',\n",
    "        fillcolor=fill_color,\n",
    "        layer='below'\n",
    "    )\n",
    "\n",
    "\n",
    "def make_self_rel(l, line_color, fill_color, radius):\n",
    "    b = control_pts([l[0], (l[0]+l[1])/2, l[1]], radius)\n",
    "    return dict(\n",
    "        line=dict(\n",
    "            color=line_color,\n",
    "            width=0.5\n",
    "            ),\n",
    "        path=make_q_bezier(b)+make_ribbon_arc(l[1], l[0]),\n",
    "        type='path',\n",
    "        fillcolor=fill_color,\n",
    "        layer='below'\n",
    "    )\n",
    "\n",
    "\n",
    "def invPerm(perm):\n",
    "    inv = [0] * len(perm)\n",
    "    for i, s in enumerate(perm):\n",
    "        inv[s] = i\n",
    "    return inv"
   ]
  },
  {
   "cell_type": "code",
   "execution_count": 27,
   "metadata": {},
   "outputs": [],
   "source": [
    "radii_sribb = [0.4, 0.30, 0.35, 0.39, 0.12]"
   ]
  },
  {
   "cell_type": "code",
   "execution_count": 28,
   "metadata": {},
   "outputs": [],
   "source": [
    "shapes = []\n",
    "ribbon_info = []\n",
    "\n",
    "for k in range(len(tech_terms_filters)):\n",
    "    sigma = idx_sort[k]\n",
    "    sigma_inv = invPerm(sigma)\n",
    "    for j in range(k, len(tech_terms_filters)):\n",
    "        if tech_terms_matrix[k][j] == 0 and tech_terms_matrix[j][k] == 0:\n",
    "            continue\n",
    "        eta = idx_sort[j]\n",
    "        eta_inv = invPerm(eta)\n",
    "        l = ribbon_ends[k][sigma_inv[j]]\n",
    "\n",
    "        if j == k:\n",
    "            shapes.append(make_self_rel(l, DS['colors']['acc1'], ideo_colors[k], radius=radii_sribb[k]))\n",
    "            z = 0.9*np.exp(1j*(l[0]+l[1])/2)\n",
    "            text = tech_terms_labels[k]+' appears in ' + '{:d}'.format(tech_terms_matrix[k][k]),\n",
    "            ribbon_info.append(\n",
    "                go.Scatter(\n",
    "                    x=[z.real],\n",
    "                    y=[z.imag],\n",
    "                    mode='markers',\n",
    "                    marker=dict(size=0.5, color=ideo_colors[k]),\n",
    "                    text=text,\n",
    "                    hoverinfo='text',\n",
    "                ),\n",
    "            )\n",
    "        else:\n",
    "            r = ribbon_ends[j][eta_inv[k]]\n",
    "            zi = 0.9*np.exp(1j*(l[0]+l[1])/2)\n",
    "            zf = 0.9*np.exp(1j*(r[0]+r[1])/2)\n",
    "            texti = tech_terms_labels[k]+' appears with '+tech_terms_labels[j]+' {:d}'.format(tech_terms_matrix[k][j])+' times'\n",
    "            textf = tech_terms_labels[j]+' appears with '+tech_terms_labels[k]+' {:d}'.format(tech_terms_matrix[j][k])+' times'\n",
    "\n",
    "            ribbon_info.append(go.Scatter(\n",
    "                x=[zi.real],\n",
    "                y=[zi.imag],\n",
    "                mode='markers',\n",
    "                marker=dict(size=0.5, color='green'),\n",
    "                text=texti,\n",
    "                hoverinfo='text'\n",
    "            )),\n",
    "            ribbon_info.append(go.Scatter(\n",
    "                x=[zf.real],\n",
    "                y=[zf.imag],\n",
    "                mode='markers',\n",
    "                marker=dict(size=0.5, color='blue'),\n",
    "                text=textf,\n",
    "                hoverinfo='text'\n",
    "            ))\n",
    "            r = (r[1], r[0])\n",
    "            shapes.append(make_ribbon(l, r, 'rgb(175,175,175)', ideo_colors[k]))"
   ]
  },
  {
   "cell_type": "code",
   "execution_count": 29,
   "metadata": {},
   "outputs": [
    {
     "name": "stderr",
     "output_type": "stream",
     "text": [
      "/data/WORKSPACE/jpynb_Employment_Trends_Bulgaria/ve-emptrends/lib/python3.7/site-packages/plotly/graph_objs/_deprecations.py:39: DeprecationWarning:\n",
      "\n",
      "plotly.graph_objs.Data is deprecated.\n",
      "Please replace it with a list or tuple of instances of the following types\n",
      "  - plotly.graph_objs.Scatter\n",
      "  - plotly.graph_objs.Bar\n",
      "  - plotly.graph_objs.Area\n",
      "  - plotly.graph_objs.Histogram\n",
      "  - etc.\n",
      "\n",
      "\n"
     ]
    }
   ],
   "source": [
    "ideograms = []\n",
    "for k in range(len(ideo_ends)):\n",
    "    z = make_ideogram_arc(1.1, ideo_ends[k])\n",
    "    zi = make_ideogram_arc(1.0, ideo_ends[k])\n",
    "    m = len(z)\n",
    "    n = len(zi)\n",
    "    ideograms.append(go.Scatter(\n",
    "        x=z.real,\n",
    "        y=z.imag,\n",
    "        mode='lines',\n",
    "        line=dict(color=ideo_colors[k], shape='spline', width=0.25),\n",
    "        text=tech_terms_labels[k]+'<br>'+'{:d}'.format(row_sum[k]),\n",
    "        hoverinfo='text',))\n",
    "\n",
    "    path = 'M '\n",
    "    for s in range(m):\n",
    "        path += str(z.real[s])+', '+str(z.imag[s])+' L '\n",
    "\n",
    "    Zi = np.array(zi.tolist()[::-1])\n",
    "\n",
    "    for s in range(m):\n",
    "        path += str(Zi.real[s])+', '+str(Zi.imag[s])+' L '\n",
    "    path += str(z.real[0])+' ,'+str(z.imag[0])\n",
    "\n",
    "    shapes.append(make_ideo_shape(path, 'rgb(150,150,150)', ideo_colors[k]))\n",
    "\n",
    "data = go.Data(ideograms+ribbon_info)\n"
   ]
  },
  {
   "cell_type": "code",
   "execution_count": 34,
   "metadata": {},
   "outputs": [],
   "source": [
    "layout = go.Layout(\n",
    "    paper_bgcolor=DS['colors']['bg1'],\n",
    "    plot_bgcolor=DS['colors']['bg1'],\n",
    "    title='Data Jobs ‒ Technologies in Demand',\n",
    "    titlefont=DS['chart_fonts']['title'],\n",
    "    font=DS['chart_fonts']['text'],\n",
    "    autosize=True,\n",
    "    margin=dict(\n",
    "        l=260,\n",
    "        r=270,\n",
    "        t=80,\n",
    "        b=10,\n",
    "    ),\n",
    "    showlegend=False,\n",
    "    hidesources=True,\n",
    "    xaxis=dict(\n",
    "        showline=False,\n",
    "        zeroline=False,\n",
    "        showgrid=False,\n",
    "        showticklabels=False,\n",
    "        title='',\n",
    "    ),\n",
    "    yaxis=dict(\n",
    "        showline=False,\n",
    "        zeroline=False,\n",
    "        showgrid=False,\n",
    "        showticklabels=False,\n",
    "        title='',\n",
    "    ),\n",
    "    shapes=shapes,\n",
    "    hovermode='closest',\n",
    "    hoverdistance=40,\n",
    ")"
   ]
  },
  {
   "cell_type": "code",
   "execution_count": 35,
   "metadata": {},
   "outputs": [
    {
     "data": {
      "application/vnd.plotly.v1+json": {
       "config": {
        "linkText": "Export to plot.ly",
        "plotlyServerURL": "https://plot.ly",
        "showLink": true
       },
       "data": [
        {
         "hoverinfo": "text",
         "line": {
          "color": "#f2e6ce",
          "shape": "spline",
          "width": 0.25
         },
         "mode": "lines",
         "text": "Power BI<br>966",
         "type": "scatter",
         "uid": "4ee4f114-ba82-4e90-8ecd-455e9c209f8c",
         "x": [
          1.1,
          1.0997395282670144,
          1.0989582364235548,
          1.097656494477695,
          1.095834918914854,
          1.0934943724058384,
          1.0906359633982943,
          1.087261045591763,
          1.08337121729659,
          1.0789683206769873,
          1.074054440878615,
          1.068631905041085,
          1.0627032811958645
         ],
         "y": [
          0,
          0.023936791076601974,
          0.047862246048742424,
          0.0717650341805685,
          0.09563383547090222,
          0.11945734601422292,
          0.14322428335402687,
          0.16692339182602925,
          0.19054344788867747,
          0.21407326543845184,
          0.2375017011074359,
          0.2608176595406482,
          0.2840100986506352
         ]
        },
        {
         "hoverinfo": "text",
         "line": {
          "color": "#ecd5bb",
          "shape": "spline",
          "width": 0.25
         },
         "mode": "lines",
         "text": "Excel<br>3270",
         "type": "scatter",
         "uid": "c18df92e-d5f6-4a92-8037-63cc0c9c3789",
         "x": [
          1.0532579284929848,
          1.0464159573223164,
          1.0391192496209887,
          1.0313709762882242,
          1.0231745044582004,
          1.0145333960368088,
          1.0054514061537736,
          0.995932481530799,
          0.985980758766461,
          0.9756005625385822,
          0.9647964037248754,
          0.9535729774426706,
          0.9419351610085779,
          0.9298880118189726,
          0.9174367651522242,
          0.9045868318936235,
          0.8913437961839977,
          0.8777134129930332,
          0.8637016056183636,
          0.8493144631115076,
          0.8345582376317746,
          0.8194393417292923,
          0.8039643455583306,
          0.7881399740221379,
          0.771973103850529,
          0.7554707606114932,
          0.7386401156581237,
          0.721488483012193,
          0.7040233161857296,
          0.6862522049419763,
          0.6681828719971405,
          0.649823169664365,
          0.6311810764413825,
          0.6122646935433332,
          0.5930822413822542,
          0.5736420559947708,
          0.5539525854195395,
          0.534022386026021,
          0.5138601187961735,
          0.4934745455606878,
          0.4728745251913958,
          0.45206900975150777,
          0.4310670406053527,
          0.409877744489311,
          0.3885103295456468,
          0.36697408132096615,
          0.345278358731035
         ],
         "y": [
          0.3172502735486082,
          0.33913661592523486,
          0.36087558114551543,
          0.38245772219982116,
          0.40387366022893406,
          0.4251140885997778,
          0.4461697769497612,
          0.4670315751979782,
          0.48769041752151937,
          0.5081373262951682,
          0.5283634159927686,
          0.5483598970485719,
          0.5681180796768791,
          0.5876293776483256,
          0.6068853120211618,
          0.6258775148259101,
          0.6445977327017991,
          0.6630378304833906,
          0.6811897947358437,
          0.6990457372372797,
          0.7165978984067332,
          0.7338386506761988,
          0.750760501805313,
          0.7673560981372233,
          0.7836182277942371,
          0.799539823811855,
          0.8151139672098336,
          0.8303338899989356,
          0.8451929781220668,
          0.8596847743285186,
          0.873802980980068,
          0.8875414627877156,
          0.9008942494778717,
          0.913855538386833,
          0.9264196969824214,
          0.9385812653116897,
          0.9503349583736295,
          0.961675668415852,
          0.9725984671542427,
          0.9830986079146246,
          0.9931715276954994,
          1.0028128491509727,
          1.0120183824929978,
          1.0207841273121145,
          1.0291062743158905,
          1.0369812069843085,
          1.044405503141382
         ]
        },
        {
         "hoverinfo": "text",
         "line": {
          "color": "#e6c4a9",
          "shape": "spline",
          "width": 0.25
         },
         "mode": "lines",
         "text": "SSIS/SSRS<br>1729",
         "type": "scatter",
         "uid": "5ca956dd-3eda-46e1-9728-bb6b2e944f5e",
         "x": [
          0.3123024150649366,
          0.2896597499380816,
          0.26688441933186985,
          0.2439868544510267,
          0.22097754248413004,
          0.19786702180043045,
          0.17466587712322892,
          0.15138473468202737,
          0.12803425734566623,
          0.10462513973868263,
          0.08116810334312291,
          0.05767389158805672,
          0.03415326492903667,
          0.010616995919761492,
          -0.012924135721803462,
          -0.03645934805058445,
          -0.05997786183257985,
          -0.08346890548179896,
          -0.10692171999369568,
          -0.13032556387284233,
          -0.15366971805258375,
          -0.17694349080441732,
          -0.20013622263485342,
          -0.22323729116751295
         ],
         "y": [
          1.054735607412876,
          1.061177284559846,
          1.0671329376970289,
          1.0725998391082734,
          1.077575484927935,
          1.0820575962876597,
          1.0860441203601137,
          1.0895332312991892,
          1.0925233310762494,
          1.0950130502120334,
          1.0970012484038842,
          1.098487015048011,
          1.0994696696565518,
          1.0999487621692385,
          1.099924073159527,
          1.099395613935096,
          1.098363626532667,
          1.0968285836071519,
          1.0947911882151729,
          1.0922523734930614,
          1.0892133022294759,
          1.0856753663328405,
          1.0816401861938436,
          1.0771096099432924
         ]
        },
        {
         "hoverinfo": "text",
         "line": {
          "color": "#e1b396",
          "shape": "spline",
          "width": 0.25
         },
         "mode": "lines",
         "text": "MS SQL Server<br>1388",
         "type": "scatter",
         "uid": "10d2f12c-cc95-4144-bc7e-1b4a2640194c",
         "x": [
          -0.25695996749886973,
          -0.2800101480106703,
          -0.3029295864012386,
          -0.32570758114416953,
          -0.3483334967558163,
          -0.3707967687612021,
          -0.39308690862677687,
          -0.41519350865771476,
          -0.4371062468574675,
          -0.45881489174730267,
          -0.4803093071435777,
          -0.5015794568905193,
          -0.5226154095462974,
          -0.5434073430202059,
          -0.5639455491587859,
          -0.5842204382787495,
          -0.6042225436445868,
          -0.623942525888767,
          -0.6433711773724683
         ],
         "y": [
          1.069566068601178,
          1.0637642205916886,
          1.0574656806169997,
          1.050673389586514,
          1.043390518951493,
          1.035620469224248,
          1.027366868390374,
          1.0186335702147737,
          1.0094246524422608,
          0.9997444148935823,
          0.98959737745775,
          0.978988277981617,
          0.967922070057686,
          0.9564039207111819,
          0.9444392079874678,
          0.9320335184409335,
          0.9191926445265245,
          0.9059225818951339,
          0.892229526594118
         ]
        },
        {
         "hoverinfo": "text",
         "line": {
          "color": "#dba284",
          "shape": "spline",
          "width": 0.25
         },
         "mode": "lines",
         "text": "PostgreSQL<br>368",
         "type": "scatter",
         "uid": "e8eec0f9-03ff-4bb0-bb0b-93aaa8d8c19c",
         "x": [
          -0.671079319236247,
          -0.6883835929683682,
          -0.7054122644516337,
          -0.7221585160625501,
          -0.7386156432476525
         ],
         "y": [
          0.8715804881325737,
          0.8579790375830637,
          0.8440340853077076,
          0.8297512143277259,
          0.8151361429539588
         ]
        },
        {
         "hoverinfo": "text",
         "line": {
          "color": "#d59171",
          "shape": "spline",
          "width": 0.25
         },
         "mode": "lines",
         "text": "MySQL/MariaDB<br>589",
         "type": "scatter",
         "uid": "b2a76694-dec0-4907-9ab1-5cc8dec04459",
         "x": [
          -0.7638552260169849,
          -0.7924160674964296,
          -0.8199072574678189,
          -0.8462916866472592,
          -0.8715337397240335
         ],
         "y": [
          0.791533444452312,
          0.7629395624644815,
          0.7333158181517702,
          0.7027021994499073,
          0.6711400304874094
         ]
        },
        {
         "hoverinfo": "text",
         "line": {
          "color": "#d0805f",
          "shape": "spline",
          "width": 0.25
         },
         "mode": "lines",
         "text": "T-SQL<br>1009",
         "type": "scatter",
         "uid": "948aefb6-3c29-4578-84cf-cec081c5ab84",
         "x": [
          -0.8921847082395791,
          -0.9066515394125049,
          -0.9206451035395873,
          -0.9341580960584145,
          -0.9471834632622729,
          -0.9597144059821442,
          -0.9717443831358324,
          -0.983267115142372,
          -0.9942765871999344,
          -1.0047670524255217,
          -1.0147330348548074,
          -1.024169332300558,
          -1.033071019068147
         ],
         "y": [
          0.6434333270692912,
          0.6228828028457162,
          0.602007137273789,
          0.5808172273344846,
          0.5593241340425842,
          0.5375390766728873,
          0.5154734269038129,
          0.4931387028814485,
          0.47054656320714056,
          0.447708800851769,
          0.4246373369998831,
          0.4013442148269104,
          0.37784159321268573
         ]
        },
        {
         "hoverinfo": "text",
         "line": {
          "color": "#ca6f4c",
          "shape": "spline",
          "width": 0.25
         },
         "mode": "lines",
         "text": "PL/SQL<br>284",
         "type": "scatter",
         "uid": "7008131b-bd35-4ec6-b832-4c071b67cf0f",
         "x": [
          -1.0444295521364244,
          -1.049043917104343,
          -1.0534628459433708,
          -1.057685515410236,
          -1.0617111388246476
         ],
         "y": [
          0.3452056063045736,
          0.33091820739629335,
          0.31656915866346463,
          0.302161133323569,
          0.28769681558138616
         ]
        },
        {
         "hoverinfo": "text",
         "line": {
          "color": "#c45e3a",
          "shape": "spline",
          "width": 0.25
         },
         "mode": "lines",
         "text": "Pentaho<br>497",
         "type": "scatter",
         "uid": "0323c44b-08d5-4f05-b787-3ee775642008",
         "x": [
          -1.0702240238303788,
          -1.077317885507484,
          -1.0834566129225351,
          -1.0886347635696951,
          -1.0928477465764248
         ],
         "y": [
          0.25420570177773943,
          0.22223000149773536,
          0.19005727535253195,
          0.1577160472100221,
          0.12523499032950233
         ]
        },
        {
         "hoverinfo": "text",
         "line": {
          "color": "#bf4d28",
          "shape": "spline",
          "width": 0.25
         },
         "mode": "lines",
         "text": "Hadoop<br>560",
         "type": "scatter",
         "uid": "b8c7ef3d-15c0-4183-93f3-c707cd98394b",
         "x": [
          -1.0962422182934348,
          -1.0987259242371894,
          -1.0998984541121317,
          -1.0997584086674768,
          -1.0983059550279204
         ],
         "y": [
          0.09084601714488923,
          0.05292771872218173,
          0.014946258452981,
          -0.023053038090007458,
          -0.06102482404897286
         ]
        },
        {
         "hoverinfo": "text",
         "line": {
          "color": "#af4624",
          "shape": "spline",
          "width": 0.25
         },
         "mode": "lines",
         "text": "Spark<br>595",
         "type": "scatter",
         "uid": "bf6b3a59-7907-4d4a-9ec1-71e87d4a5e5e",
         "x": [
          -1.095847171293169,
          -1.0915379211438618,
          -1.0857185899756698,
          -1.078397228504349,
          -1.0695839654196826
         ],
         "y": [
          -0.09549333572956827,
          -0.13617990565768706,
          -0.17667807838337873,
          -0.2169318269736815,
          -0.25688546264260975
         ]
        },
        {
         "hoverinfo": "text",
         "line": {
          "color": "#9f4021",
          "shape": "spline",
          "width": 0.25
         },
         "mode": "lines",
         "text": "Informatica<br>669",
         "type": "scatter",
         "uid": "fd0eda40-e43c-4c41-a3dd-feac44800e97",
         "x": [
          -1.060987222921226,
          -1.0475922621846505,
          -1.0322785935357726,
          -1.0150742645826776,
          -0.9960107857548328
         ],
         "y": [
          -0.2903551494255011,
          -0.33548539791002335,
          -0.3800011912189322,
          -0.4238209968629874,
          -0.4668645570827163
         ]
        },
        {
         "hoverinfo": "text",
         "line": {
          "color": "#8f391e",
          "shape": "spline",
          "width": 0.25
         },
         "mode": "lines",
         "text": "Qlik<br>1497",
         "type": "scatter",
         "uid": "d95460a0-d037-4d7c-aa85-581a1af11bb4",
         "x": [
          -0.9808547444323403,
          -0.9701318822422141,
          -0.9589771866446132,
          -0.9473956229131234,
          -0.9353923463325274,
          -0.9229726999040417,
          -0.9101422119669927,
          -0.8969065937379969,
          -0.8832717367687327,
          -0.8692437103234454,
          -0.8548287586773416,
          -0.8400332983370866,
          -0.8248639151846315,
          -0.8093273615456505,
          -0.7934305531838883,
          -0.7771805662227546,
          -0.7605846339955412,
          -0.743650143825657,
          -0.7263846337383213,
          -0.7087957891051714,
          -0.6908914392232866
         ],
         "y": [
          -0.49791964243697867,
          -0.5185018139381762,
          -0.5388531854737271,
          -0.5589646980669307,
          -0.5788273995091536,
          -0.59843244834471,
          -0.6177711178064493,
          -0.6368347997002866,
          -0.6556150082369583,
          -0.6741033838092866,
          -0.6922916967132825,
          -0.7101718508114183,
          -0.7277358871364537,
          -0.7449759874341965,
          -0.7618844776436314,
          -0.7784538313128652,
          -0.794676672949363,
          -0.8105457813029933,
          -0.8260540925804103,
          -0.8411947035893519,
          -0.8559608748114459
         ]
        },
        {
         "hoverinfo": "text",
         "line": {
          "color": "#f0f3e7",
          "shape": "spline",
          "width": 0.25
         },
         "mode": "lines",
         "text": "Tableau<br>1900",
         "type": "scatter",
         "uid": "c2c53c00-674d-4a05-b907-d74fb501f6c7",
         "x": [
          -0.663664145185191,
          -0.6451648814754251,
          -0.6263831672309399,
          -0.6073272250090731,
          -0.5880053974230479,
          -0.568426143489604,
          -0.5485980349256819,
          -0.528529752395754,
          -0.5082300817114703,
          -0.48770790998526475,
          -0.4669722217396106,
          -0.4460320949736396,
          -0.4248966971888243,
          -0.40357528137549,
          -0.38207718196189044,
          -0.3604118107276312,
          -0.33858865268323735,
          -0.31661726191764755,
          -0.2945072574154806,
          -0.272268318845876,
          -0.2499101823247811,
          -0.2274426361525167,
          -0.20487551652849662,
          -0.1822187032449866,
          -0.1594821153617642,
          -0.13667570686360292,
          -0.11380946230245069
         ],
         "y": [
          -0.8772399343370147,
          -0.8909333733286687,
          -0.9042367653495055,
          -0.917144286229151,
          -0.9296502851079882,
          -0.9417492869110846,
          -0.9534359947451536,
          -0.9647052922175162,
          -0.9755522456760337,
          -0.9859721063690418,
          -0.9959603125243356,
          -1.0055124913462918,
          -1.014624460930264,
          -1.0232922320934008,
          -1.0315120101210944,
          -1.0392801964282925,
          -1.0465933901349418,
          -1.0534483895548807,
          -1.0598421935975242,
          -1.0657720030817288,
          -1.0712352219612624,
          -1.0762294584613423,
          -1.0807525261257462,
          -1.0848024447740314,
          -1.0883774413684515,
          -1.0914759507901832,
          -1.0940966165245314
         ]
        },
        {
         "hoverinfo": "text",
         "line": {
          "color": "#e2ecde",
          "shape": "spline",
          "width": 0.25
         },
         "mode": "lines",
         "text": "Microstrategy<br>275",
         "type": "scatter",
         "uid": "be5b285f-6a02-4852-bce8-308cf7f53077",
         "x": [
          -0.07938689897314871,
          -0.06515322350856137,
          -0.05090859175637126,
          -0.03665539912042592,
          -0.022396042444187074
         ],
         "y": [
          -1.0971315874914127,
          -1.0980687853984574,
          -1.0988213300101994,
          -1.0993890947773324,
          -1.0997719842234746
         ]
        },
        {
         "hoverinfo": "text",
         "line": {
          "color": "#d4e5d6",
          "shape": "spline",
          "width": 0.25
         },
         "mode": "lines",
         "text": "Oracle BI<br>2337",
         "type": "scatter",
         "uid": "50f9972f-a3da-435d-8fbe-1112df80b7fa",
         "x": [
          0.012159681488124121,
          0.03540416040905106,
          0.05863282278473744,
          0.08183529138309915,
          0.10500120067392425,
          0.12812020145960237,
          0.15118196549854881,
          0.17417619011926666,
          0.19709260282299454,
          0.219920965872865,
          0.24265108086753834,
          0.2652727932972635,
          0.28777599708032586,
          0.3101506390778698,
          0.3323867235850609,
          0.3544743167965896,
          0.3764035512445308,
          0.39816463020655796,
          0.4197478320825564,
          0.4411435147376773,
          0.4623421198098859,
          0.4833341769800936,
          0.5041103082029506,
          0.5246612318964146,
          0.5449777670882341,
          0.5650508375174761,
          0.5848714756892784,
          0.6044308268810128,
          0.6237201530980626,
          0.6427308369774621,
          0.6614543856376368,
          0.6798824344725322,
          0.6980067508884449
         ],
         "y": [
          -1.0999327898313185,
          -1.0994301002909326,
          -1.0984362485334749,
          -1.0969516785548228,
          -1.094977053575569,
          -1.0925132557447306,
          -1.0895613857456568,
          -1.0861227623043066,
          -1.0821989216001178,
          -1.0777916165797294,
          -1.0729028161738674,
          -1.0675347044177381,
          -1.0616896794753279,
          -1.05537035256804,
          -1.0485795468081516,
          -1.0413202959376098,
          -1.033595842972729,
          -1.0254096387553977,
          -1.0167653404114414,
          -1.0076668097168273,
          -0.9981181113724474,
          -0.9881235111882399,
          -0.9776874741774728,
          -0.9668146625620325,
          -0.9555099336896098,
          -0.9437783378637162,
          -0.931625116087499,
          -0.9190556977223607,
          -0.9060756980624353,
          -0.8926909158259936,
          -0.8789073305649104,
          -0.8647310999933466,
          -0.8501685572368322
         ]
        },
        {
         "hoverinfo": "text",
         "line": {
          "color": "#c6decd",
          "shape": "spline",
          "width": 0.25
         },
         "mode": "lines",
         "text": "Python<br>1430",
         "type": "scatter",
         "uid": "92b0e30a-fd0f-44ec-b0bd-e76c7544d370",
         "x": [
          0.7243667664197354,
          0.7417045571168132,
          0.758710863904649,
          0.77537808629461,
          0.7916987753422587,
          0.8076656369764522,
          0.8232715352592188,
          0.8385094955749651,
          0.8533727077475831,
          0.8678545290840647,
          0.8819484873432686,
          0.8956482836285038,
          0.9089477952026447,
          0.9218410782245147,
          0.9343223704053171,
          0.9463860935839308,
          0.9580268562199087,
          0.9692394558030767,
          0.9800188811786459,
          0.9903603147868097
         ],
         "y": [
          -0.8278241284878187,
          -0.8123265045239828,
          -0.7964658341655725,
          -0.7802492058913667,
          -0.7636838672654858,
          -0.7467772216982933,
          -0.7295368251376547,
          -0.7119703826920175,
          -0.6940857451868309,
          -0.6758909056558438,
          -0.6573939957688393,
          -0.638603282197418,
          -0.6195271629204415,
          -0.6001741634707917,
          -0.5805529331251282,
          -0.560672241038334,
          -0.5405409723243915,
          -0.5201681240854306,
          -0.49956280139073156,
          -0.47873421320746573
         ]
        },
        {
         "hoverinfo": "text",
         "line": {
          "color": "#b8d7c5",
          "shape": "spline",
          "width": 0.25
         },
         "mode": "lines",
         "text": "VBA<br>553",
         "type": "scatter",
         "uid": "36e190e9-1300-4e2d-a378-a8a9bb00a0e4",
         "x": [
          1.0049090367888043,
          1.0195435058917155,
          1.0329983343438793,
          1.0452579545285148,
          1.0563081817185862
         ],
         "y": [
          -0.44739001752408125,
          -0.4129540405348152,
          -0.37804026404970587,
          -0.34268908429488304,
          -0.3069414035844211
         ]
        },
        {
         "hoverinfo": "text",
         "line": {
          "color": "#aad0bc",
          "shape": "spline",
          "width": 0.25
         },
         "mode": "lines",
         "text": "Linux<br>464",
         "type": "scatter",
         "uid": "cc9d8d31-2d8f-48e0-bd14-8fe57b50e25f",
         "x": [
          1.065428219874817,
          1.072494495934821,
          1.078762785854792,
          1.0842284257334256,
          1.0888873488786448
         ],
         "y": [
          -0.2736105047222765,
          -0.2444494961940282,
          -0.21510660579073035,
          -0.18560366599724798,
          -0.15596262838268907
         ]
        },
        {
         "hoverinfo": "text",
         "line": {
          "color": "#9cc9b4",
          "shape": "spline",
          "width": 0.25
         },
         "mode": "lines",
         "text": "AWS<br>366",
         "type": "scatter",
         "uid": "bf833c1e-db4e-4ac6-9b9a-9821944e76e6",
         "x": [
          1.0932489532487748,
          1.0954496180703728,
          1.09721832006363,
          1.0985543617856854,
          1.0994572164023046
         ],
         "y": [
          -0.12168289206153163,
          -0.09995065917478671,
          -0.07817901327559612,
          -0.056376539461423944,
          -0.03455183498594511
         ]
        },
        {
         "hoverinfo": "text",
         "marker": {
          "color": "green",
          "size": 0.5
         },
         "mode": "markers",
         "text": "Power BI appears with Excel 171 times",
         "type": "scatter",
         "uid": "ed82c53c-556d-4b50-b1bf-033873b02f0b",
         "x": [
          0.8746228448160602
         ],
         "y": [
          0.21221422979117566
         ]
        },
        {
         "hoverinfo": "text",
         "marker": {
          "color": "blue",
          "size": 0.5
         },
         "mode": "markers",
         "text": "Excel appears with Power BI 171 times",
         "type": "scatter",
         "uid": "80c7fda7-80c2-4e84-a62c-624224f249d2",
         "x": [
          0.7674586092416128
         ],
         "y": [
          0.4701141171044852
         ]
        },
        {
         "hoverinfo": "text",
         "marker": {
          "color": "green",
          "size": 0.5
         },
         "mode": "markers",
         "text": "Power BI appears with SSIS/SSRS 100 times",
         "type": "scatter",
         "uid": "b5c34fa9-9838-406b-8ca7-99564e2972fb",
         "x": [
          0.8956698743775817
         ],
         "y": [
          0.08817866030081736
         ]
        },
        {
         "hoverinfo": "text",
         "marker": {
          "color": "blue",
          "size": 0.5
         },
         "mode": "markers",
         "text": "SSIS/SSRS appears with Power BI 100 times",
         "type": "scatter",
         "uid": "db6e12cf-55ff-44db-8934-d16262793c4e",
         "x": [
          0.13228465640697715
         ],
         "y": [
          0.8902251230330943
         ]
        },
        {
         "hoverinfo": "text",
         "marker": {
          "color": "green",
          "size": 0.5
         },
         "mode": "markers",
         "text": "Power BI appears with MS SQL Server 99 times",
         "type": "scatter",
         "uid": "3cbb9312-a09a-47da-9a25-9303ecd1f0cf",
         "x": [
          0.8977174863354996
         ],
         "y": [
          0.06405712081784629
         ]
        },
        {
         "hoverinfo": "text",
         "marker": {
          "color": "blue",
          "size": 0.5
         },
         "mode": "markers",
         "text": "MS SQL Server appears with Power BI 99 times",
         "type": "scatter",
         "uid": "95844189-8285-45d5-85c0-3bf5dcd240c5",
         "x": [
          -0.35800522089218617
         ],
         "y": [
          0.8257313496615816
         ]
        },
        {
         "hoverinfo": "text",
         "marker": {
          "color": "green",
          "size": 0.5
         },
         "mode": "markers",
         "text": "Power BI appears with MySQL/MariaDB 5 times",
         "type": "scatter",
         "uid": "6153a869-6028-4cb0-9498-c64a0f9c1334",
         "x": [
          0.8999956505821316
         ],
         "y": [
          0.0027980230960042477
         ]
        },
        {
         "hoverinfo": "text",
         "marker": {
          "color": "blue",
          "size": 0.5
         },
         "mode": "markers",
         "text": "MySQL/MariaDB appears with Power BI 5 times",
         "type": "scatter",
         "uid": "430ef188-f63c-48d1-9fca-0d238d7ba07f",
         "x": [
          -0.6265058698237502
         ],
         "y": [
          0.6461349666102171
         ]
        },
        {
         "hoverinfo": "text",
         "marker": {
          "color": "green",
          "size": 0.5
         },
         "mode": "markers",
         "text": "Power BI appears with T-SQL 36 times",
         "type": "scatter",
         "uid": "73188be4-9f5d-4b24-81d2-b2f59b23b831",
         "x": [
          0.8993737559621781
         ],
         "y": [
          0.03356854310935491
         ]
        },
        {
         "hoverinfo": "text",
         "marker": {
          "color": "blue",
          "size": 0.5
         },
         "mode": "markers",
         "text": "T-SQL appears with Power BI 36 times",
         "type": "scatter",
         "uid": "6a4c4f55-2d26-4629-b78d-1c957e55a679",
         "x": [
          -0.7646660591816224
         ],
         "y": [
          0.47464283196488655
         ]
        },
        {
         "hoverinfo": "text",
         "marker": {
          "color": "green",
          "size": 0.5
         },
         "mode": "markers",
         "text": "Power BI appears with PL/SQL 5 times",
         "type": "scatter",
         "uid": "0257323c-265d-40cc-8e21-f027a2e0c565",
         "x": [
          0.8999986104876698
         ],
         "y": [
          0.001581493048864107
         ]
        },
        {
         "hoverinfo": "text",
         "marker": {
          "color": "blue",
          "size": 0.5
         },
         "mode": "markers",
         "text": "PL/SQL appears with Power BI 5 times",
         "type": "scatter",
         "uid": "282ded92-7387-4dc7-bca7-4d2ae34984e3",
         "x": [
          -0.8550476689385579
         ],
         "y": [
          0.28087983879719536
         ]
        },
        {
         "hoverinfo": "text",
         "marker": {
          "color": "green",
          "size": 0.5
         },
         "mode": "markers",
         "text": "Power BI appears with Pentaho 8 times",
         "type": "scatter",
         "uid": "291c69b9-3843-4d96-bd11-3b692c1d10c5",
         "x": [
          0.8999826023705649
         ],
         "y": [
          0.005596019148071494
         ]
        },
        {
         "hoverinfo": "text",
         "marker": {
          "color": "blue",
          "size": 0.5
         },
         "mode": "markers",
         "text": "Pentaho appears with Power BI 8 times",
         "type": "scatter",
         "uid": "927e6dfd-1510-4ca2-bdbc-9386359491dc",
         "x": [
          -0.876722235795894
         ],
         "y": [
          0.203366962068692
         ]
        },
        {
         "hoverinfo": "text",
         "marker": {
          "color": "green",
          "size": 0.5
         },
         "mode": "markers",
         "text": "Power BI appears with Hadoop 17 times",
         "type": "scatter",
         "uid": "969aa15a-6ca5-42b8-9b98-a6b3b7980936",
         "x": [
          0.8999319147367631
         ],
         "y": [
          0.011070177876772839
         ]
        },
        {
         "hoverinfo": "text",
         "marker": {
          "color": "blue",
          "size": 0.5
         },
         "mode": "markers",
         "text": "Hadoop appears with Power BI 17 times",
         "type": "scatter",
         "uid": "5b36952e-c2bb-4e57-a25c-9d40fd7c153d",
         "x": [
          -0.8978897682300734
         ],
         "y": [
          0.061595163022312244
         ]
        },
        {
         "hoverinfo": "text",
         "marker": {
          "color": "green",
          "size": 0.5
         },
         "mode": "markers",
         "text": "Power BI appears with Spark 22 times",
         "type": "scatter",
         "uid": "5043733b-0a1c-44d0-9c7e-1f83b80bb809",
         "x": [
          0.8997734449398556
         ],
         "y": [
          0.020192765562564902
         ]
        },
        {
         "hoverinfo": "text",
         "marker": {
          "color": "blue",
          "size": 0.5
         },
         "mode": "markers",
         "text": "Spark appears with Power BI 22 times",
         "type": "scatter",
         "uid": "5d635544-77bf-4ae6-813e-75134bf8cb3e",
         "x": [
          -0.8941141876616722
         ],
         "y": [
          -0.10276098200245158
         ]
        },
        {
         "hoverinfo": "text",
         "marker": {
          "color": "green",
          "size": 0.5
         },
         "mode": "markers",
         "text": "Power BI appears with Informatica 10 times",
         "type": "scatter",
         "uid": "3037ed9f-ddac-4840-a299-5dad165db107",
         "x": [
          0.8999663230267794
         ],
         "y": [
          0.007785718827358103
         ]
        },
        {
         "hoverinfo": "text",
         "marker": {
          "color": "blue",
          "size": 0.5
         },
         "mode": "markers",
         "text": "Informatica appears with Power BI 10 times",
         "type": "scatter",
         "uid": "e38ba6c3-69df-4846-afd7-950072cf220d",
         "x": [
          -0.8658550956979204
         ],
         "y": [
          -0.2455503069717996
         ]
        },
        {
         "hoverinfo": "text",
         "marker": {
          "color": "green",
          "size": 0.5
         },
         "mode": "markers",
         "text": "Power BI appears with Qlik 132 times",
         "type": "scatter",
         "uid": "42ee48a3-d541-4b16-b04a-8b9d5bfd130e",
         "x": [
          0.8886531381150905
         ],
         "y": [
          0.14246262709286944
         ]
        },
        {
         "hoverinfo": "text",
         "marker": {
          "color": "blue",
          "size": 0.5
         },
         "mode": "markers",
         "text": "Qlik appears with Power BI 132 times",
         "type": "scatter",
         "uid": "545e116e-ec7c-4dfe-a873-636043bffdc1",
         "x": [
          -0.7349984472910365
         ],
         "y": [
          -0.5194008880236589
         ]
        },
        {
         "hoverinfo": "text",
         "marker": {
          "color": "green",
          "size": 0.5
         },
         "mode": "markers",
         "text": "Power BI appears with Tableau 141 times",
         "type": "scatter",
         "uid": "bb83d681-e030-4352-a98a-28a23a5be23c",
         "x": [
          0.8827922623720805
         ],
         "y": [
          0.17515085354055152
         ]
        },
        {
         "hoverinfo": "text",
         "marker": {
          "color": "blue",
          "size": 0.5
         },
         "mode": "markers",
         "text": "Tableau appears with Power BI 141 times",
         "type": "scatter",
         "uid": "98d3aef8-1585-4ae1-b0c6-cf47722ea737",
         "x": [
          -0.36124428338987974
         ],
         "y": [
          -0.8243194573210875
         ]
        },
        {
         "hoverinfo": "text",
         "marker": {
          "color": "green",
          "size": 0.5
         },
         "mode": "markers",
         "text": "Power BI appears with Microstrategy 18 times",
         "type": "scatter",
         "uid": "88b1702a-4fa9-405f-a307-04380d3c2f38",
         "x": [
          0.8998694711823031
         ],
         "y": [
          0.015327584091502068
         ]
        },
        {
         "hoverinfo": "text",
         "marker": {
          "color": "blue",
          "size": 0.5
         },
         "mode": "markers",
         "text": "Microstrategy appears with Power BI 18 times",
         "type": "scatter",
         "uid": "07d4267a-d276-4927-9f42-cf6a2a2cd509",
         "x": [
          -0.05140061177218349
         ],
         "y": [
          -0.8985310106554172
         ]
        },
        {
         "hoverinfo": "text",
         "marker": {
          "color": "green",
          "size": 0.5
         },
         "mode": "markers",
         "text": "Power BI appears with Oracle BI 109 times",
         "type": "scatter",
         "uid": "d575f6c6-c80c-4164-bab3-daa7349c1d32",
         "x": [
          0.8928217120658614
         ],
         "y": [
          0.11344333591614895
         ]
        },
        {
         "hoverinfo": "text",
         "marker": {
          "color": "blue",
          "size": 0.5
         },
         "mode": "markers",
         "text": "Oracle BI appears with Power BI 109 times",
         "type": "scatter",
         "uid": "1a2e3d7a-9d06-47f1-b9b2-6dd9c1ea2a5f",
         "x": [
          0.12841730801369444
         ],
         "y": [
          -0.8907912185257082
         ]
        },
        {
         "hoverinfo": "text",
         "marker": {
          "color": "green",
          "size": 0.5
         },
         "mode": "markers",
         "text": "Power BI appears with Python 58 times",
         "type": "scatter",
         "uid": "032a1a58-e661-4dfc-ac29-4eba6cc2f4fe",
         "x": [
          0.8988746471035383
         ],
         "y": [
          0.044992986058823965
         ]
        },
        {
         "hoverinfo": "text",
         "marker": {
          "color": "blue",
          "size": 0.5
         },
         "mode": "markers",
         "text": "Python appears with Power BI 58 times",
         "type": "scatter",
         "uid": "3f8f29e3-b00b-472e-8596-95822c069f71",
         "x": [
          0.6486212362909834
         ],
         "y": [
          -0.6239314800780261
         ]
        },
        {
         "hoverinfo": "text",
         "marker": {
          "color": "green",
          "size": 0.5
         },
         "mode": "markers",
         "text": "Power BI appears with VBA 26 times",
         "type": "scatter",
         "uid": "051aeb4f-b169-4baf-b812-32f99ca77181",
         "x": [
          0.8996234929818525
         ],
         "y": [
          0.0260301916076482
         ]
        },
        {
         "hoverinfo": "text",
         "marker": {
          "color": "blue",
          "size": 0.5
         },
         "mode": "markers",
         "text": "VBA appears with Power BI 26 times",
         "type": "scatter",
         "uid": "9646e45b-3a8b-4c00-8463-8e0a918aa239",
         "x": [
          0.8287265782014516
         ],
         "y": [
          -0.3510160375004444
         ]
        },
        {
         "hoverinfo": "text",
         "marker": {
          "color": "green",
          "size": 0.5
         },
         "mode": "markers",
         "text": "Power BI appears with Linux 4 times",
         "type": "scatter",
         "uid": "0177d45d-52bf-4f00-87a1-a55cf52c8912",
         "x": [
          0.8999998684485061
         ],
         "y": [
          0.0004866134725231516
         ]
        },
        {
         "hoverinfo": "text",
         "marker": {
          "color": "blue",
          "size": 0.5
         },
         "mode": "markers",
         "text": "Linux appears with Power BI 4 times",
         "type": "scatter",
         "uid": "1f030f28-f026-4132-b939-3bc363a7e999",
         "x": [
          0.8721335969437536
         ],
         "y": [
          -0.22222283654465066
         ]
        },
        {
         "hoverinfo": "text",
         "marker": {
          "color": "green",
          "size": 0.5
         },
         "mode": "markers",
         "text": "Power BI appears with AWS 5 times",
         "type": "scatter",
         "uid": "20dd18f5-60fd-4fc6-bb01-77b06f8b609f",
         "x": [
          0.8999910462910772
         ],
         "y": [
          0.004014548030865623
         ]
        },
        {
         "hoverinfo": "text",
         "marker": {
          "color": "blue",
          "size": 0.5
         },
         "mode": "markers",
         "text": "AWS appears with Power BI 5 times",
         "type": "scatter",
         "uid": "11f188ff-f2c0-45b4-82b7-b96835f98bc3",
         "x": [
          0.8947221094684592
         ],
         "y": [
          -0.09732598228792987
         ]
        },
        {
         "hoverinfo": "text",
         "marker": {
          "color": "green",
          "size": 0.5
         },
         "mode": "markers",
         "text": "Excel appears with SSIS/SSRS 403 times",
         "type": "scatter",
         "uid": "cbd82fb4-65c8-45e2-8bcb-c59feabf4123",
         "x": [
          0.4526935167818203
         ],
         "y": [
          0.7778615428620366
         ]
        },
        {
         "hoverinfo": "text",
         "marker": {
          "color": "blue",
          "size": 0.5
         },
         "mode": "markers",
         "text": "SSIS/SSRS appears with Excel 403 times",
         "type": "scatter",
         "uid": "139c6997-e1d6-4409-b422-eed60f1b8ff4",
         "x": [
          -0.13182135389399177
         ],
         "y": [
          0.8902938451194387
         ]
        },
        {
         "hoverinfo": "text",
         "marker": {
          "color": "green",
          "size": 0.5
         },
         "mode": "markers",
         "text": "Excel appears with MS SQL Server 220 times",
         "type": "scatter",
         "uid": "926ccf3a-4073-46d3-a6e5-e989c33e6afb",
         "x": [
          0.7104995915312242
         ],
         "y": [
          0.5524403410631447
         ]
        },
        {
         "hoverinfo": "text",
         "marker": {
          "color": "blue",
          "size": 0.5
         },
         "mode": "markers",
         "text": "MS SQL Server appears with Excel 220 times",
         "type": "scatter",
         "uid": "5509eb72-ea32-484c-b503-dae045469ea0",
         "x": [
          -0.5036455595711083
         ],
         "y": [
          0.745882799321921
         ]
        },
        {
         "hoverinfo": "text",
         "marker": {
          "color": "green",
          "size": 0.5
         },
         "mode": "markers",
         "text": "Excel appears with PostgreSQL 51 times",
         "type": "scatter",
         "uid": "2e7cafaa-356a-454b-b11c-5a52104a2ae7",
         "x": [
          0.8498132097245694
         ],
         "y": [
          0.2963401906215644
         ]
        },
        {
         "hoverinfo": "text",
         "marker": {
          "color": "blue",
          "size": 0.5
         },
         "mode": "markers",
         "text": "PostgreSQL appears with Excel 51 times",
         "type": "scatter",
         "uid": "537cc4db-38fa-4933-bebf-ee9d49cfd8be",
         "x": [
          -0.5912260136657137
         ],
         "y": [
          0.6785659885117654
         ]
        },
        {
         "hoverinfo": "text",
         "marker": {
          "color": "green",
          "size": 0.5
         },
         "mode": "markers",
         "text": "Excel appears with MySQL/MariaDB 93 times",
         "type": "scatter",
         "uid": "df349e44-f3fe-4681-b625-5f1a709b6768",
         "x": [
          0.8183058615090415
         ],
         "y": [
          0.37466720835955936
         ]
        },
        {
         "hoverinfo": "text",
         "marker": {
          "color": "blue",
          "size": 0.5
         },
         "mode": "markers",
         "text": "MySQL/MariaDB appears with Excel 93 times",
         "type": "scatter",
         "uid": "3391d63b-8a74-40a2-8e8e-9b83db8f329b",
         "x": [
          -0.7066538815736579
         ],
         "y": [
          0.557351138562471
         ]
        },
        {
         "hoverinfo": "text",
         "marker": {
          "color": "green",
          "size": 0.5
         },
         "mode": "markers",
         "text": "Excel appears with T-SQL 164 times",
         "type": "scatter",
         "uid": "7f74f778-3c97-4de8-a645-009628ada281",
         "x": [
          0.7896157683250685
         ],
         "y": [
          0.43186449079822675
         ]
        },
        {
         "hoverinfo": "text",
         "marker": {
          "color": "blue",
          "size": 0.5
         },
         "mode": "markers",
         "text": "T-SQL appears with Excel 164 times",
         "type": "scatter",
         "uid": "f5d2a291-a392-435c-9c0d-07f2c1fa047c",
         "x": [
          -0.8381424830155259
         ],
         "y": [
          0.3278981216240329
         ]
        },
        {
         "hoverinfo": "text",
         "marker": {
          "color": "green",
          "size": 0.5
         },
         "mode": "markers",
         "text": "Excel appears with PL/SQL 49 times",
         "type": "scatter",
         "uid": "b4904cb6-90e3-4416-96da-a8e6490a7df0",
         "x": [
          0.8540668669895513
         ],
         "y": [
          0.28384817545767704
         ]
        },
        {
         "hoverinfo": "text",
         "marker": {
          "color": "blue",
          "size": 0.5
         },
         "mode": "markers",
         "text": "PL/SQL appears with Excel 49 times",
         "type": "scatter",
         "uid": "007d4cbc-d0eb-40f1-94e5-23a1c656298b",
         "x": [
          -0.8640599825323311
         ],
         "y": [
          0.251794254474219
         ]
        },
        {
         "hoverinfo": "text",
         "marker": {
          "color": "green",
          "size": 0.5
         },
         "mode": "markers",
         "text": "Excel appears with Pentaho 59 times",
         "type": "scatter",
         "uid": "8a11bc94-d02d-4e86-a3fa-9f7da6cefbd3",
         "x": [
          0.8395283804449439
         ],
         "y": [
          0.3243333137799592
         ]
        },
        {
         "hoverinfo": "text",
         "marker": {
          "color": "blue",
          "size": 0.5
         },
         "mode": "markers",
         "text": "Pentaho appears with Excel 59 times",
         "type": "scatter",
         "uid": "ac486860-061c-4711-abb0-95790806f1c2",
         "x": [
          -0.8934014189145164
         ],
         "y": [
          0.10878375191879
         ]
        },
        {
         "hoverinfo": "text",
         "marker": {
          "color": "green",
          "size": 0.5
         },
         "mode": "markers",
         "text": "Excel appears with Hadoop 63 times",
         "type": "scatter",
         "uid": "77b3df51-6406-4456-a707-f856b61afbd7",
         "x": [
          0.8335925107535229
         ],
         "y": [
          0.3392985794483052
         ]
        },
        {
         "hoverinfo": "text",
         "marker": {
          "color": "blue",
          "size": 0.5
         },
         "mode": "markers",
         "text": "Hadoop appears with Excel 63 times",
         "type": "scatter",
         "uid": "5c41a558-c3af-4a66-ab05-7c5d941dc1d6",
         "x": [
          -0.8998086615398351
         ],
         "y": [
          0.018557279377389727
         ]
        },
        {
         "hoverinfo": "text",
         "marker": {
          "color": "green",
          "size": 0.5
         },
         "mode": "markers",
         "text": "Excel appears with Spark 68 times",
         "type": "scatter",
         "uid": "5af971ce-2bd1-4129-8162-9e08d674819e",
         "x": [
          0.8269218172114412
         ],
         "y": [
          0.35524682717756667
         ]
        },
        {
         "hoverinfo": "text",
         "marker": {
          "color": "blue",
          "size": 0.5
         },
         "mode": "markers",
         "text": "Spark appears with Excel 68 times",
         "type": "scatter",
         "uid": "a44deef3-96d2-4dc4-928d-72963638ff6d",
         "x": [
          -0.88672879366522
         ],
         "y": [
          -0.15398716337741863
         ]
        },
        {
         "hoverinfo": "text",
         "marker": {
          "color": "green",
          "size": 0.5
         },
         "mode": "markers",
         "text": "Excel appears with Informatica 114 times",
         "type": "scatter",
         "uid": "3a2b1156-413a-47f1-856a-894cf5adb60e",
         "x": [
          0.8065588432604656
         ],
         "y": [
          0.39932797592748237
         ]
        },
        {
         "hoverinfo": "text",
         "marker": {
          "color": "blue",
          "size": 0.5
         },
         "mode": "markers",
         "text": "Informatica appears with Excel 114 times",
         "type": "scatter",
         "uid": "9a4c3ab9-df94-4b55-a24c-cf2929bf91bf",
         "x": [
          -0.831554218016024
         ],
         "y": [
          -0.3442638268824636
         ]
        },
        {
         "hoverinfo": "text",
         "marker": {
          "color": "green",
          "size": 0.5
         },
         "mode": "markers",
         "text": "Excel appears with Qlik 344 times",
         "type": "scatter",
         "uid": "c5b51679-cb53-4010-b802-834324dbbce7",
         "x": [
          0.6104302841950187
         ],
         "y": [
          0.6613432302047014
         ]
        },
        {
         "hoverinfo": "text",
         "marker": {
          "color": "blue",
          "size": 0.5
         },
         "mode": "markers",
         "text": "Qlik appears with Excel 344 times",
         "type": "scatter",
         "uid": "7e6033c2-1075-48cb-8634-5c7ffe132ff0",
         "x": [
          -0.5985512994021203
         ],
         "y": [
          -0.6721133401324759
         ]
        },
        {
         "hoverinfo": "text",
         "marker": {
          "color": "green",
          "size": 0.5
         },
         "mode": "markers",
         "text": "Excel appears with Tableau 371 times",
         "type": "scatter",
         "uid": "b88fe765-7d23-412c-9660-b48cfbbd70e1",
         "x": [
          0.5378712471674705
         ],
         "y": [
          0.7215916583986471
         ]
        },
        {
         "hoverinfo": "text",
         "marker": {
          "color": "blue",
          "size": 0.5
         },
         "mode": "markers",
         "text": "Tableau appears with Excel 371 times",
         "type": "scatter",
         "uid": "ec43f29c-83a8-4507-9d63-236b8cbac3b0",
         "x": [
          -0.14050905057905813
         ],
         "y": [
          -0.8889641200326207
         ]
        },
        {
         "hoverinfo": "text",
         "marker": {
          "color": "green",
          "size": 0.5
         },
         "mode": "markers",
         "text": "Excel appears with Microstrategy 31 times",
         "type": "scatter",
         "uid": "3e3e6c83-2e1d-4e64-8bd7-498045d6ca34",
         "x": [
          0.8605677320094176
         ],
         "y": [
          0.26348278620085824
         ]
        },
        {
         "hoverinfo": "text",
         "marker": {
          "color": "blue",
          "size": 0.5
         },
         "mode": "markers",
         "text": "Microstrategy appears with Excel 31 times",
         "type": "scatter",
         "uid": "595528f7-8a3d-4aae-87f2-4209d009a332",
         "x": [
          -0.035885995279715574
         ],
         "y": [
          -0.89928426837279
         ]
        },
        {
         "hoverinfo": "text",
         "marker": {
          "color": "green",
          "size": 0.5
         },
         "mode": "markers",
         "text": "Excel appears with Oracle BI 507 times",
         "type": "scatter",
         "uid": "244037b8-7db1-4868-b0a9-783c9a6512b0",
         "x": [
          0.3451864262151425
         ],
         "y": [
          0.8311716616661194
         ]
        },
        {
         "hoverinfo": "text",
         "marker": {
          "color": "blue",
          "size": 0.5
         },
         "mode": "markers",
         "text": "Oracle BI appears with Excel 507 times",
         "type": "scatter",
         "uid": "6de7e9be-ff66-4d0f-b5d4-cd4cc4e8833e",
         "x": [
          0.5185716875571168
         ],
         "y": [
          -0.7355837171010273
         ]
        },
        {
         "hoverinfo": "text",
         "marker": {
          "color": "green",
          "size": 0.5
         },
         "mode": "markers",
         "text": "Excel appears with Python 279 times",
         "type": "scatter",
         "uid": "66065913-4c7c-4682-8a58-c567c8a465f6",
         "x": [
          0.6682141939145051
         ],
         "y": [
          0.6029011453390914
         ]
        },
        {
         "hoverinfo": "text",
         "marker": {
          "color": "blue",
          "size": 0.5
         },
         "mode": "markers",
         "text": "Python appears with Excel 279 times",
         "type": "scatter",
         "uid": "ae8500e9-6f94-405d-9cc6-992a99d82ebd",
         "x": [
          0.7943284461854084
         ],
         "y": [
          -0.42313392629364377
         ]
        },
        {
         "hoverinfo": "text",
         "marker": {
          "color": "green",
          "size": 0.5
         },
         "mode": "markers",
         "text": "Excel appears with VBA 184 times",
         "type": "scatter",
         "uid": "fd300543-f6c0-421b-b62f-c3611f01a1a7",
         "x": [
          0.7419594277516951
         ],
         "y": [
          0.5094077027002804
         ]
        },
        {
         "hoverinfo": "text",
         "marker": {
          "color": "blue",
          "size": 0.5
         },
         "mode": "markers",
         "text": "VBA appears with Excel 184 times",
         "type": "scatter",
         "uid": "0d9e3ce4-01a0-41e6-aa08-0206b478b5ea",
         "x": [
          0.8583463361027149
         ],
         "y": [
          -0.27063179284600886
         ]
        },
        {
         "hoverinfo": "text",
         "marker": {
          "color": "green",
          "size": 0.5
         },
         "mode": "markers",
         "text": "Excel appears with Linux 58 times",
         "type": "scatter",
         "uid": "5275fb96-7053-4ea3-afb6-e53972638816",
         "x": [
          0.8449686470691101
         ],
         "y": [
          0.30988382576410406
         ]
        },
        {
         "hoverinfo": "text",
         "marker": {
          "color": "blue",
          "size": 0.5
         },
         "mode": "markers",
         "text": "Linux appears with Excel 58 times",
         "type": "scatter",
         "uid": "e0f93a71-f338-4437-9b67-c272d763cf17",
         "x": [
          0.8850577853716389
         ],
         "y": [
          -0.1633178390533316
         ]
        },
        {
         "hoverinfo": "text",
         "marker": {
          "color": "green",
          "size": 0.5
         },
         "mode": "markers",
         "text": "Excel appears with AWS 41 times",
         "type": "scatter",
         "uid": "db32bfcf-4726-414c-98e5-825ec34401b0",
         "x": [
          0.8577381903051293
         ],
         "y": [
          0.2725531083882221
         ]
        },
        {
         "hoverinfo": "text",
         "marker": {
          "color": "blue",
          "size": 0.5
         },
         "mode": "markers",
         "text": "AWS appears with Excel 41 times",
         "type": "scatter",
         "uid": "ccc739de-6c1a-4d14-a895-90af88fbd216",
         "x": [
          0.8983357644521538
         ],
         "y": [
          -0.05470698589910134
         ]
        },
        {
         "hoverinfo": "text",
         "marker": {
          "color": "green",
          "size": 0.5
         },
         "mode": "markers",
         "text": "SSIS/SSRS appears with MS SQL Server 218 times",
         "type": "scatter",
         "uid": "46e1e7e7-ef1d-47e9-8f3e-0cf15448fb56",
         "x": [
          -0.05270979118181831
         ],
         "y": [
          0.8984551618826446
         ]
        },
        {
         "hoverinfo": "text",
         "marker": {
          "color": "blue",
          "size": 0.5
         },
         "mode": "markers",
         "text": "MS SQL Server appears with SSIS/SSRS 218 times",
         "type": "scatter",
         "uid": "aca911ef-bf27-44ab-8cdd-5ba8e3599874",
         "x": [
          -0.4569512843063763
         ],
         "y": [
          0.7753679924853445
         ]
        },
        {
         "hoverinfo": "text",
         "marker": {
          "color": "green",
          "size": 0.5
         },
         "mode": "markers",
         "text": "SSIS/SSRS appears with PostgreSQL 29 times",
         "type": "scatter",
         "uid": "c418a4c8-04be-41f5-b426-a477b9c94044",
         "x": [
          0.23122340925778512
         ],
         "y": [
          0.8697906271116095
         ]
        },
        {
         "hoverinfo": "text",
         "marker": {
          "color": "blue",
          "size": 0.5
         },
         "mode": "markers",
         "text": "PostgreSQL appears with SSIS/SSRS 29 times",
         "type": "scatter",
         "uid": "c435b120-d0cc-44c9-ab48-139c69cf8fa9",
         "x": [
          -0.5672594883785655
         ],
         "y": [
          0.6987250337897507
         ]
        },
        {
         "hoverinfo": "text",
         "marker": {
          "color": "green",
          "size": 0.5
         },
         "mode": "markers",
         "text": "SSIS/SSRS appears with MySQL/MariaDB 53 times",
         "type": "scatter",
         "uid": "98616b08-57b9-4495-b8b9-07f84810470b",
         "x": [
          0.19713182818690458
         ],
         "y": [
          0.8781452284876852
         ]
        },
        {
         "hoverinfo": "text",
         "marker": {
          "color": "blue",
          "size": 0.5
         },
         "mode": "markers",
         "text": "MySQL/MariaDB appears with SSIS/SSRS 53 times",
         "type": "scatter",
         "uid": "8d368171-d224-474b-99fa-8cb5776238d1",
         "x": [
          -0.6613189019932008
         ],
         "y": [
          0.6104566404475484
         ]
        },
        {
         "hoverinfo": "text",
         "marker": {
          "color": "green",
          "size": 0.5
         },
         "mode": "markers",
         "text": "SSIS/SSRS appears with T-SQL 109 times",
         "type": "scatter",
         "uid": "d091d06f-7ac1-4cb6-a898-d099bba6dcd5",
         "x": [
          0.10574550274347615
         ],
         "y": [
          0.8937661263717313
         ]
        },
        {
         "hoverinfo": "text",
         "marker": {
          "color": "blue",
          "size": 0.5
         },
         "mode": "markers",
         "text": "T-SQL appears with SSIS/SSRS 109 times",
         "type": "scatter",
         "uid": "b07e40d0-d1f0-4032-a5c1-450226a6834d",
         "x": [
          -0.797116886708985
         ],
         "y": [
          0.41785723509755734
         ]
        },
        {
         "hoverinfo": "text",
         "marker": {
          "color": "green",
          "size": 0.5
         },
         "mode": "markers",
         "text": "SSIS/SSRS appears with PL/SQL 25 times",
         "type": "scatter",
         "uid": "ea3bfb83-96f8-4fb7-a76d-35420f735a90",
         "x": [
          0.23790232985108703
         ],
         "y": [
          0.8679876044342019
         ]
        },
        {
         "hoverinfo": "text",
         "marker": {
          "color": "blue",
          "size": 0.5
         },
         "mode": "markers",
         "text": "PL/SQL appears with SSIS/SSRS 25 times",
         "type": "scatter",
         "uid": "813849be-fb30-4b5a-a44d-6d1dde90e947",
         "x": [
          -0.8607452173510197
         ],
         "y": [
          0.26290239787294795
         ]
        },
        {
         "hoverinfo": "text",
         "marker": {
          "color": "green",
          "size": 0.5
         },
         "mode": "markers",
         "text": "SSIS/SSRS appears with Pentaho 30 times",
         "type": "scatter",
         "uid": "c90b2f63-bd0d-4e62-ac93-5fc9d360c9d7",
         "x": [
          0.22391046615354707
         ],
         "y": [
          0.8717018430328694
         ]
        },
        {
         "hoverinfo": "text",
         "marker": {
          "color": "blue",
          "size": 0.5
         },
         "mode": "markers",
         "text": "Pentaho appears with SSIS/SSRS 30 times",
         "type": "scatter",
         "uid": "651caaff-34d1-45c0-ae29-69b948416787",
         "x": [
          -0.8795099958973414
         ],
         "y": [
          0.19095069289389505
         ]
        },
        {
         "hoverinfo": "text",
         "marker": {
          "color": "green",
          "size": 0.5
         },
         "mode": "markers",
         "text": "SSIS/SSRS appears with Hadoop 30 times",
         "type": "scatter",
         "uid": "af2e0e39-d31c-4db5-a6a2-a5c2baf15afd",
         "x": [
          0.21645738094696337
         ],
         "y": [
          0.8735823957896479
         ]
        },
        {
         "hoverinfo": "text",
         "marker": {
          "color": "blue",
          "size": 0.5
         },
         "mode": "markers",
         "text": "Hadoop appears with SSIS/SSRS 30 times",
         "type": "scatter",
         "uid": "4dd7e888-c3fd-4ea3-b138-320f7270322a",
         "x": [
          -0.8988924735065298
         ],
         "y": [
          0.04463542397370778
         ]
        },
        {
         "hoverinfo": "text",
         "marker": {
          "color": "green",
          "size": 0.5
         },
         "mode": "markers",
         "text": "SSIS/SSRS appears with Spark 36 times",
         "type": "scatter",
         "uid": "997666bc-8bfa-439a-9ce2-e8b6017b3550",
         "x": [
          0.20824077148354916
         ],
         "y": [
          0.8755773986872527
         ]
        },
        {
         "hoverinfo": "text",
         "marker": {
          "color": "blue",
          "size": 0.5
         },
         "mode": "markers",
         "text": "Spark appears with SSIS/SSRS 36 times",
         "type": "scatter",
         "uid": "f39174b4-7951-4254-a325-648267018e52",
         "x": [
          -0.891667169278736
         ],
         "y": [
          -0.12218698470150574
         ]
        },
        {
         "hoverinfo": "text",
         "marker": {
          "color": "green",
          "size": 0.5
         },
         "mode": "markers",
         "text": "SSIS/SSRS appears with Informatica 63 times",
         "type": "scatter",
         "uid": "0fe0b6ae-a49b-4829-ab5c-6943d2e08a71",
         "x": [
          0.1529025904317333
         ],
         "y": [
          0.8869164548249545
         ]
        },
        {
         "hoverinfo": "text",
         "marker": {
          "color": "blue",
          "size": 0.5
         },
         "mode": "markers",
         "text": "Informatica appears with SSIS/SSRS 63 times",
         "type": "scatter",
         "uid": "4ff96ef0-7bd0-474e-829a-49580e825867",
         "x": [
          -0.8513783636097632
         ],
         "y": [
          -0.2918130942524033
         ]
        },
        {
         "hoverinfo": "text",
         "marker": {
          "color": "green",
          "size": 0.5
         },
         "mode": "markers",
         "text": "SSIS/SSRS appears with Qlik 61 times",
         "type": "scatter",
         "uid": "42a4fc14-613e-40a4-a88b-df85c7feb432",
         "x": [
          0.16853286383858193
         ],
         "y": [
          0.8840795630520852
         ]
        },
        {
         "hoverinfo": "text",
         "marker": {
          "color": "blue",
          "size": 0.5
         },
         "mode": "markers",
         "text": "Qlik appears with SSIS/SSRS 61 times",
         "type": "scatter",
         "uid": "8771b14d-a7d6-40dd-bc9b-8179aea2e30b",
         "x": [
          -0.7699428025204077
         ],
         "y": [
          -0.4660344202384846
         ]
        },
        {
         "hoverinfo": "text",
         "marker": {
          "color": "green",
          "size": 0.5
         },
         "mode": "markers",
         "text": "SSIS/SSRS appears with Tableau 121 times",
         "type": "scatter",
         "uid": "e7d56ac6-105e-4169-9023-c138102de9d5",
         "x": [
          0.07643248297065372
         ],
         "y": [
          0.8967486133509996
         ]
        },
        {
         "hoverinfo": "text",
         "marker": {
          "color": "blue",
          "size": 0.5
         },
         "mode": "markers",
         "text": "Tableau appears with SSIS/SSRS 121 times",
         "type": "scatter",
         "uid": "e67ac2e6-1a8d-4390-9cd6-c3f47fd21cd5",
         "x": [
          -0.39190229262064813
         ],
         "y": [
          -0.8101929356879631
         ]
        },
        {
         "hoverinfo": "text",
         "marker": {
          "color": "green",
          "size": 0.5
         },
         "mode": "markers",
         "text": "SSIS/SSRS appears with Microstrategy 21 times",
         "type": "scatter",
         "uid": "9bd6c9d3-7ed9-4a7d-9e83-ad9abe6e4a35",
         "x": [
          0.24924864460462182
         ],
         "y": [
          0.8647977296239618
         ]
        },
        {
         "hoverinfo": "text",
         "marker": {
          "color": "blue",
          "size": 0.5
         },
         "mode": "markers",
         "text": "Microstrategy appears with SSIS/SSRS 21 times",
         "type": "scatter",
         "uid": "e204a8f8-31e6-46b7-8807-b74d62a2410e",
         "x": [
          -0.04470465273636009
         ],
         "y": [
          -0.8988890332091728
         ]
        },
        {
         "hoverinfo": "text",
         "marker": {
          "color": "green",
          "size": 0.5
         },
         "mode": "markers",
         "text": "SSIS/SSRS appears with Oracle BI 207 times",
         "type": "scatter",
         "uid": "c2317e65-8c31-484d-905b-1da6e64e2bf7",
         "x": [
          0.0017074684404289919
         ],
         "y": [
          0.8999983803049454
         ]
        },
        {
         "hoverinfo": "text",
         "marker": {
          "color": "blue",
          "size": 0.5
         },
         "mode": "markers",
         "text": "Oracle BI appears with SSIS/SSRS 207 times",
         "type": "scatter",
         "uid": "453a564a-3e07-42df-a942-c4931611e718",
         "x": [
          0.29323564832990684
         ],
         "y": [
          -0.8508894490758122
         ]
        },
        {
         "hoverinfo": "text",
         "marker": {
          "color": "green",
          "size": 0.5
         },
         "mode": "markers",
         "text": "SSIS/SSRS appears with Python 128 times",
         "type": "scatter",
         "uid": "41dce31e-97ed-440d-a461-07982f0aef3e",
         "x": [
          0.0446065805558111
         ],
         "y": [
          0.8988939052920083
         ]
        },
        {
         "hoverinfo": "text",
         "marker": {
          "color": "blue",
          "size": 0.5
         },
         "mode": "markers",
         "text": "Python appears with SSIS/SSRS 128 times",
         "type": "scatter",
         "uid": "53e703c7-bb41-4a9c-9e1c-95e7e2150fbd",
         "x": [
          0.7688571543971237
         ],
         "y": [
          -0.46782333859306074
         ]
        },
        {
         "hoverinfo": "text",
         "marker": {
          "color": "green",
          "size": 0.5
         },
         "mode": "markers",
         "text": "SSIS/SSRS appears with VBA 57 times",
         "type": "scatter",
         "uid": "db82d850-c6f6-4ef9-a8eb-3a8e0a414885",
         "x": [
          0.18335814992316896
         ],
         "y": [
          0.8811241619980426
         ]
        },
        {
         "hoverinfo": "text",
         "marker": {
          "color": "blue",
          "size": 0.5
         },
         "mode": "markers",
         "text": "VBA appears with SSIS/SSRS 57 times",
         "type": "scatter",
         "uid": "ac0fc5c3-a025-4bd1-bc82-114e1697f2e7",
         "x": [
          0.8457119395100617
         ],
         "y": [
          -0.3078495011692074
         ]
        },
        {
         "hoverinfo": "text",
         "marker": {
          "color": "green",
          "size": 0.5
         },
         "mode": "markers",
         "text": "SSIS/SSRS appears with Linux 15 times",
         "type": "scatter",
         "uid": "03edc743-078c-48cb-9978-acb3053671ff",
         "x": [
          0.2536769782040194
         ],
         "y": [
          0.8635091144448201
         ]
        },
        {
         "hoverinfo": "text",
         "marker": {
          "color": "blue",
          "size": 0.5
         },
         "mode": "markers",
         "text": "Linux appears with SSIS/SSRS 15 times",
         "type": "scatter",
         "uid": "14471c35-a2eb-4b53-ab22-63836d44110e",
         "x": [
          0.8738064622382219
         ],
         "y": [
          -0.21555107643137136
         ]
        },
        {
         "hoverinfo": "text",
         "marker": {
          "color": "green",
          "size": 0.5
         },
         "mode": "markers",
         "text": "SSIS/SSRS appears with AWS 23 times",
         "type": "scatter",
         "uid": "abecbd17-ffa2-4cc3-beb0-49294c2da82b",
         "x": [
          0.24382735991826285
         ],
         "y": [
          0.8663418600963998
         ]
        },
        {
         "hoverinfo": "text",
         "marker": {
          "color": "blue",
          "size": 0.5
         },
         "mode": "markers",
         "text": "AWS appears with SSIS/SSRS 23 times",
         "type": "scatter",
         "uid": "68a67fa2-5ea1-4c1e-86c8-0c8753d87acf",
         "x": [
          0.8962946870945991
         ],
         "y": [
          -0.08158329415998462
         ]
        },
        {
         "hoverinfo": "text",
         "marker": {
          "color": "green",
          "size": 0.5
         },
         "mode": "markers",
         "text": "MS SQL Server appears with PostgreSQL 47 times",
         "type": "scatter",
         "uid": "9f6a9d68-9235-4a44-9268-a7ad04c79d06",
         "x": [
          -0.26170615530148006
         ],
         "y": [
          0.8611096842315256
         ]
        },
        {
         "hoverinfo": "text",
         "marker": {
          "color": "blue",
          "size": 0.5
         },
         "mode": "markers",
         "text": "PostgreSQL appears with MS SQL Server 47 times",
         "type": "scatter",
         "uid": "489369da-190c-4ac3-b986-69bbf7ef2692",
         "x": [
          -0.5839609880303842
         ],
         "y": [
          0.6848281276777244
         ]
        },
        {
         "hoverinfo": "text",
         "marker": {
          "color": "green",
          "size": 0.5
         },
         "mode": "markers",
         "text": "MS SQL Server appears with MySQL/MariaDB 62 times",
         "type": "scatter",
         "uid": "6acd434e-ce24-4fa3-8baf-cfac520b63a4",
         "x": [
          -0.2996827166784407
         ],
         "y": [
          0.8486402472922372
         ]
        },
        {
         "hoverinfo": "text",
         "marker": {
          "color": "blue",
          "size": 0.5
         },
         "mode": "markers",
         "text": "MySQL/MariaDB appears with MS SQL Server 62 times",
         "type": "scatter",
         "uid": "43de70d9-5d11-4d2f-9416-d33c996108d9",
         "x": [
          -0.6865387287079379
         ],
         "y": [
          0.5819489444823219
         ]
        },
        {
         "hoverinfo": "text",
         "marker": {
          "color": "green",
          "size": 0.5
         },
         "mode": "markers",
         "text": "MS SQL Server appears with T-SQL 150 times",
         "type": "scatter",
         "uid": "0be07f14-4c31-47ca-b557-19b999399243",
         "x": [
          -0.4163821316398398
         ],
         "y": [
          0.7978884135335361
         ]
        },
        {
         "hoverinfo": "text",
         "marker": {
          "color": "blue",
          "size": 0.5
         },
         "mode": "markers",
         "text": "T-SQL appears with MS SQL Server 150 times",
         "type": "scatter",
         "uid": "41b80b2f-660d-4e81-8874-3e5c8cade566",
         "x": [
          -0.8233956478455113
         ],
         "y": [
          0.3633450248855359
         ]
        },
        {
         "hoverinfo": "text",
         "marker": {
          "color": "green",
          "size": 0.5
         },
         "mode": "markers",
         "text": "MS SQL Server appears with PL/SQL 10 times",
         "type": "scatter",
         "uid": "a44a684a-4a62-41c6-8928-aaaf4140c299",
         "x": [
          -0.21367153668294223
         ],
         "y": [
          0.8742679648777886
         ]
        },
        {
         "hoverinfo": "text",
         "marker": {
          "color": "blue",
          "size": 0.5
         },
         "mode": "markers",
         "text": "PL/SQL appears with MS SQL Server 10 times",
         "type": "scatter",
         "uid": "42de0246-173e-45a5-a24d-8735195a4758",
         "x": [
          -0.8562013016590088
         ],
         "y": [
          0.2773433450389953
         ]
        },
        {
         "hoverinfo": "text",
         "marker": {
          "color": "green",
          "size": 0.5
         },
         "mode": "markers",
         "text": "MS SQL Server appears with Pentaho 42 times",
         "type": "scatter",
         "uid": "5c8bbc80-c106-4ca4-8065-74258c30047c",
         "x": [
          -0.2509479013099408
         ],
         "y": [
          0.864306167297293
         ]
        },
        {
         "hoverinfo": "text",
         "marker": {
          "color": "blue",
          "size": 0.5
         },
         "mode": "markers",
         "text": "Pentaho appears with MS SQL Server 42 times",
         "type": "scatter",
         "uid": "1b215c28-796d-4447-a908-877aa7db415f",
         "x": [
          -0.890271120419709
         ],
         "y": [
          0.13197474056286695
         ]
        },
        {
         "hoverinfo": "text",
         "marker": {
          "color": "green",
          "size": 0.5
         },
         "mode": "markers",
         "text": "MS SQL Server appears with Hadoop 24 times",
         "type": "scatter",
         "uid": "30cd4223-97ce-43d0-a121-563fc2be3c3b",
         "x": [
          -0.22663221969661426
         ],
         "y": [
          0.8709981842664114
         ]
        },
        {
         "hoverinfo": "text",
         "marker": {
          "color": "blue",
          "size": 0.5
         },
         "mode": "markers",
         "text": "Hadoop appears with MS SQL Server 24 times",
         "type": "scatter",
         "uid": "fe418d48-1f8b-455e-a827-850de4e6d3fb",
         "x": [
          -0.8981898659015662
         ],
         "y": [
          0.0570522987418259
         ]
        },
        {
         "hoverinfo": "text",
         "marker": {
          "color": "green",
          "size": 0.5
         },
         "mode": "markers",
         "text": "MS SQL Server appears with Spark 20 times",
         "type": "scatter",
         "uid": "ec05e9bc-2b04-46da-87fa-76467629a2b5",
         "x": [
          -0.22125821873747026
         ],
         "y": [
          0.8723788171666721
         ]
        },
        {
         "hoverinfo": "text",
         "marker": {
          "color": "blue",
          "size": 0.5
         },
         "mode": "markers",
         "text": "Spark appears with MS SQL Server 20 times",
         "type": "scatter",
         "uid": "9f29b07a-a8e1-43f5-b1df-f0068a33328c",
         "x": [
          -0.8946414873087889
         ],
         "y": [
          -0.0980643114793458
         ]
        },
        {
         "hoverinfo": "text",
         "marker": {
          "color": "green",
          "size": 0.5
         },
         "mode": "markers",
         "text": "MS SQL Server appears with Informatica 55 times",
         "type": "scatter",
         "uid": "83c501de-2720-4e42-a505-da006443e4fe",
         "x": [
          -0.2857309986514288
         ],
         "y": [
          0.8534388064821387
         ]
        },
        {
         "hoverinfo": "text",
         "marker": {
          "color": "blue",
          "size": 0.5
         },
         "mode": "markers",
         "text": "Informatica appears with MS SQL Server 55 times",
         "type": "scatter",
         "uid": "9cd2d3db-6e7b-43c5-8469-910aa317ae85",
         "x": [
          -0.8556870331399696
         ],
         "y": [
          -0.27892597820231174
         ]
        },
        {
         "hoverinfo": "text",
         "marker": {
          "color": "green",
          "size": 0.5
         },
         "mode": "markers",
         "text": "MS SQL Server appears with Qlik 49 times",
         "type": "scatter",
         "uid": "cad88bfe-0350-4b71-ae74-cf7a4d6b74ec",
         "x": [
          -0.27326489184465036
         ],
         "y": [
          0.857511690232344
         ]
        },
        {
         "hoverinfo": "text",
         "marker": {
          "color": "blue",
          "size": 0.5
         },
         "mode": "markers",
         "text": "Qlik appears with MS SQL Server 49 times",
         "type": "scatter",
         "uid": "2c04df11-f673-47e6-8878-9878b7b6f9b3",
         "x": [
          -0.7770750173968153
         ],
         "y": [
          -0.4540423078720081
         ]
        },
        {
         "hoverinfo": "text",
         "marker": {
          "color": "green",
          "size": 0.5
         },
         "mode": "markers",
         "text": "MS SQL Server appears with Tableau 80 times",
         "type": "scatter",
         "uid": "46c98f56-81bc-48fa-a118-c50fbd8c675f",
         "x": [
          -0.3165070270156174
         ],
         "y": [
          0.8425101197313509
         ]
        },
        {
         "hoverinfo": "text",
         "marker": {
          "color": "blue",
          "size": 0.5
         },
         "mode": "markers",
         "text": "Tableau appears with MS SQL Server 80 times",
         "type": "scatter",
         "uid": "fd7e0959-5dad-4c81-95a0-62a68ccadd5e",
         "x": [
          -0.45763821743993266
         ],
         "y": [
          -0.774962748742416
         ]
        },
        {
         "hoverinfo": "text",
         "marker": {
          "color": "green",
          "size": 0.5
         },
         "mode": "markers",
         "text": "MS SQL Server appears with Microstrategy 16 times",
         "type": "scatter",
         "uid": "420b08d0-1fa7-4292-950d-8977b49abac1",
         "x": [
          -0.2168550446735836
         ],
         "y": [
          0.8734837660767475
         ]
        },
        {
         "hoverinfo": "text",
         "marker": {
          "color": "blue",
          "size": 0.5
         },
         "mode": "markers",
         "text": "Microstrategy appears with MS SQL Server 16 times",
         "type": "scatter",
         "uid": "e3757314-ae6c-4c30-8091-9f806f1dedb0",
         "x": [
          -0.05428156038751881
         ],
         "y": [
          -0.8983615709734561
         ]
        },
        {
         "hoverinfo": "text",
         "marker": {
          "color": "green",
          "size": 0.5
         },
         "mode": "markers",
         "text": "MS SQL Server appears with Oracle BI 132 times",
         "type": "scatter",
         "uid": "2c1246d2-8c49-4234-9de3-0bf508da92d1",
         "x": [
          -0.3845389993250212
         ],
         "y": [
          0.8137135601660521
         ]
        },
        {
         "hoverinfo": "text",
         "marker": {
          "color": "blue",
          "size": 0.5
         },
         "mode": "markers",
         "text": "Oracle BI appears with MS SQL Server 132 times",
         "type": "scatter",
         "uid": "bb146916-6e81-4996-be71-3c79dd31805f",
         "x": [
          0.2511578463126913
         ],
         "y": [
          -0.8642451829403336
         ]
        },
        {
         "hoverinfo": "text",
         "marker": {
          "color": "green",
          "size": 0.5
         },
         "mode": "markers",
         "text": "MS SQL Server appears with Python 88 times",
         "type": "scatter",
         "uid": "57e67a1c-2755-4142-ace6-1ea4f3d6b74d",
         "x": [
          -0.33624952444702544
         ],
         "y": [
          0.8348270822806058
         ]
        },
        {
         "hoverinfo": "text",
         "marker": {
          "color": "blue",
          "size": 0.5
         },
         "mode": "markers",
         "text": "Python appears with MS SQL Server 88 times",
         "type": "scatter",
         "uid": "e2b7b1c4-664d-4e20-8377-f338c53eff82",
         "x": [
          0.68591541387767
         ],
         "y": [
          -0.5826834861269236
         ]
        },
        {
         "hoverinfo": "text",
         "marker": {
          "color": "green",
          "size": 0.5
         },
         "mode": "markers",
         "text": "MS SQL Server appears with VBA 33 times",
         "type": "scatter",
         "uid": "211e1909-826e-4a75-92f6-a2573e5dca1c",
         "x": [
          -0.23358115668381485
         ],
         "y": [
          0.8691604243419342
         ]
        },
        {
         "hoverinfo": "text",
         "marker": {
          "color": "blue",
          "size": 0.5
         },
         "mode": "markers",
         "text": "VBA appears with MS SQL Server 33 times",
         "type": "scatter",
         "uid": "96872728-cf68-473b-9c60-4b8f69b1d717",
         "x": [
          0.8335261536453846
         ],
         "y": [
          -0.3394615606944781
         ]
        },
        {
         "hoverinfo": "text",
         "marker": {
          "color": "green",
          "size": 0.5
         },
         "mode": "markers",
         "text": "MS SQL Server appears with Linux 34 times",
         "type": "scatter",
         "uid": "02320556-0580-4a7e-be9a-55decaee18ae",
         "x": [
          -0.24173012357851148
         ],
         "y": [
          0.8669293785278692
         ]
        },
        {
         "hoverinfo": "text",
         "marker": {
          "color": "blue",
          "size": 0.5
         },
         "mode": "markers",
         "text": "Linux appears with MS SQL Server 34 times",
         "type": "scatter",
         "uid": "57245d83-60d1-475b-b238-d85b8af7ca56",
         "x": [
          0.8811025725451888
         ],
         "y": [
          -0.18346186703031866
         ]
        },
        {
         "hoverinfo": "text",
         "marker": {
          "color": "green",
          "size": 0.5
         },
         "mode": "markers",
         "text": "MS SQL Server appears with AWS 9 times",
         "type": "scatter",
         "uid": "7e7f711f-0d84-430e-ab40-0fa7ddd4f102",
         "x": [
          -0.2113433313225683
         ],
         "y": [
          0.8748336963706183
         ]
        },
        {
         "hoverinfo": "text",
         "marker": {
          "color": "blue",
          "size": 0.5
         },
         "mode": "markers",
         "text": "AWS appears with MS SQL Server 9 times",
         "type": "scatter",
         "uid": "aa5b5c62-e32f-4b2e-9616-8730b2fddbd0",
         "x": [
          0.8950342028965317
         ],
         "y": [
          -0.09441279386486816
         ]
        },
        {
         "hoverinfo": "text",
         "marker": {
          "color": "green",
          "size": 0.5
         },
         "mode": "markers",
         "text": "PostgreSQL appears with MySQL/MariaDB 64 times",
         "type": "scatter",
         "uid": "dfc5ad10-695e-417d-a94c-057fee065050",
         "x": [
          -0.5996656080539194
         ],
         "y": [
          0.6711193325462493
         ]
        },
        {
         "hoverinfo": "text",
         "marker": {
          "color": "blue",
          "size": 0.5
         },
         "mode": "markers",
         "text": "MySQL/MariaDB appears with PostgreSQL 64 times",
         "type": "scatter",
         "uid": "f61a23b3-bb96-41a4-a862-5c0b17fc9a78",
         "x": [
          -0.6956017970418827
         ],
         "y": [
          0.571085054919233
         ]
        },
        {
         "hoverinfo": "text",
         "marker": {
          "color": "green",
          "size": 0.5
         },
         "mode": "markers",
         "text": "PostgreSQL appears with T-SQL 28 times",
         "type": "scatter",
         "uid": "a640bedd-fc17-4570-90d2-a729874d279b",
         "x": [
          -0.562917533534195
         ],
         "y": [
          0.7022277767503777
         ]
        },
        {
         "hoverinfo": "text",
         "marker": {
          "color": "blue",
          "size": 0.5
         },
         "mode": "markers",
         "text": "T-SQL appears with PostgreSQL 28 times",
         "type": "scatter",
         "uid": "78b8386b-c6a3-42dc-80b1-620e35fee06e",
         "x": [
          -0.7471534284083216
         ],
         "y": [
          0.5017586615273234
         ]
        },
        {
         "hoverinfo": "text",
         "marker": {
          "color": "green",
          "size": 0.5
         },
         "mode": "markers",
         "text": "PostgreSQL appears with Pentaho 40 times",
         "type": "scatter",
         "uid": "538d4543-cb7a-4b2d-bd7e-953fc0a063b0",
         "x": [
          -0.5774558243984174
         ],
         "y": [
          0.6903222224934847
         ]
        },
        {
         "hoverinfo": "text",
         "marker": {
          "color": "blue",
          "size": 0.5
         },
         "mode": "markers",
         "text": "Pentaho appears with PostgreSQL 40 times",
         "type": "scatter",
         "uid": "450a8268-37b8-4b5e-89ce-3d4f218933b2",
         "x": [
          -0.8889314211913244
         ],
         "y": [
          0.14071577174848704
         ]
        },
        {
         "hoverinfo": "text",
         "marker": {
          "color": "green",
          "size": 0.5
         },
         "mode": "markers",
         "text": "PostgreSQL appears with Hadoop 3 times",
         "type": "scatter",
         "uid": "325fa21b-f034-4f6f-91eb-e269c03d4c83",
         "x": [
          -0.5492975135480955
         ],
         "y": [
          0.7129321437625603
         ]
        },
        {
         "hoverinfo": "text",
         "marker": {
          "color": "blue",
          "size": 0.5
         },
         "mode": "markers",
         "text": "Hadoop appears with PostgreSQL 3 times",
         "type": "scatter",
         "uid": "e00b7d7e-6262-47f6-b261-a5f1b62638ff",
         "x": [
          -0.8970074351303653
         ],
         "y": [
          0.07333253930448304
         ]
        },
        {
         "hoverinfo": "text",
         "marker": {
          "color": "green",
          "size": 0.5
         },
         "mode": "markers",
         "text": "PostgreSQL appears with Spark 5 times",
         "type": "scatter",
         "uid": "e0c36b8c-9e25-4d15-ab78-833206521b25",
         "x": [
          -0.5499175369714503
         ],
         "y": [
          0.7124540002914249
         ]
        },
        {
         "hoverinfo": "text",
         "marker": {
          "color": "blue",
          "size": 0.5
         },
         "mode": "markers",
         "text": "Spark appears with PostgreSQL 5 times",
         "type": "scatter",
         "uid": "a64dba52-65fb-4957-92b4-5c41e2a64eb3",
         "x": [
          -0.8964939261873118
         ],
         "y": [
          -0.07936397362316608
         ]
        },
        {
         "hoverinfo": "text",
         "marker": {
          "color": "green",
          "size": 0.5
         },
         "mode": "markers",
         "text": "PostgreSQL appears with Qlik 13 times",
         "type": "scatter",
         "uid": "3061199c-c348-4cea-b817-e64fabba9d8f",
         "x": [
          -0.5522389141446203
         ],
         "y": [
          0.7106561627850494
         ]
        },
        {
         "hoverinfo": "text",
         "marker": {
          "color": "blue",
          "size": 0.5
         },
         "mode": "markers",
         "text": "Qlik appears with PostgreSQL 13 times",
         "type": "scatter",
         "uid": "b5c5e729-a9d3-43e3-a5fa-6a3cebe28680",
         "x": [
          -0.7988686804501506
         ],
         "y": [
          -0.41449828877310857
         ]
        },
        {
         "hoverinfo": "text",
         "marker": {
          "color": "green",
          "size": 0.5
         },
         "mode": "markers",
         "text": "PostgreSQL appears with Tableau 6 times",
         "type": "scatter",
         "uid": "3916339f-c8ce-4929-b266-fb611a52d9d6",
         "x": [
          -0.5507693894960575
         ],
         "y": [
          0.7117956726435896
         ]
        },
        {
         "hoverinfo": "text",
         "marker": {
          "color": "blue",
          "size": 0.5
         },
         "mode": "markers",
         "text": "Tableau appears with PostgreSQL 6 times",
         "type": "scatter",
         "uid": "4c5822a3-41cf-48c9-a2db-46b9444df970",
         "x": [
          -0.5423812084664966
         ],
         "y": [
          -0.7182079258142607
         ]
        },
        {
         "hoverinfo": "text",
         "marker": {
          "color": "green",
          "size": 0.5
         },
         "mode": "markers",
         "text": "PostgreSQL appears with Oracle BI 33 times",
         "type": "scatter",
         "uid": "88c367f9-c4f0-498d-9e72-f6d93b6be0ec",
         "x": [
          -0.5719575640764755
         ],
         "y": [
          0.6948845550850188
         ]
        },
        {
         "hoverinfo": "text",
         "marker": {
          "color": "blue",
          "size": 0.5
         },
         "mode": "markers",
         "text": "Oracle BI appears with PostgreSQL 33 times",
         "type": "scatter",
         "uid": "c5e07cdb-b202-4df3-a4b5-a015726fd345",
         "x": [
          0.02908907572438677
         ],
         "y": [
          -0.8995297803149715
         ]
        },
        {
         "hoverinfo": "text",
         "marker": {
          "color": "green",
          "size": 0.5
         },
         "mode": "markers",
         "text": "PostgreSQL appears with Python 23 times",
         "type": "scatter",
         "uid": "56d10481-e49f-43f7-a96e-0510596b1d6d",
         "x": [
          -0.5550168061471458
         ],
         "y": [
          0.7084887754186524
         ]
        },
        {
         "hoverinfo": "text",
         "marker": {
          "color": "blue",
          "size": 0.5
         },
         "mode": "markers",
         "text": "Python appears with PostgreSQL 23 times",
         "type": "scatter",
         "uid": "12da5315-621b-47e3-ad69-ab2a0fd34d2b",
         "x": [
          0.5978779151661404
         ],
         "y": [
          -0.6727124189106289
         ]
        },
        {
         "hoverinfo": "text",
         "marker": {
          "color": "green",
          "size": 0.5
         },
         "mode": "markers",
         "text": "PostgreSQL appears with Linux 26 times",
         "type": "scatter",
         "uid": "b9f8af47-487a-48ca-8761-84b4d31c551c",
         "x": [
          -0.5587841490777844
         ],
         "y": [
          0.7055212787290093
         ]
        },
        {
         "hoverinfo": "text",
         "marker": {
          "color": "blue",
          "size": 0.5
         },
         "mode": "markers",
         "text": "Linux appears with PostgreSQL 26 times",
         "type": "scatter",
         "uid": "78a7d0fb-59c6-45a5-a92c-d4f63bd24184",
         "x": [
          0.876879979754601
         ],
         "y": [
          -0.20268572003367816
         ]
        },
        {
         "hoverinfo": "text",
         "marker": {
          "color": "green",
          "size": 0.5
         },
         "mode": "markers",
         "text": "MySQL/MariaDB appears with T-SQL 35 times",
         "type": "scatter",
         "uid": "948f1d0e-5a23-402a-b369-81aed8aec35f",
         "x": [
          -0.6416449543480296
         ],
         "y": [
          0.6311035989120288
         ]
        },
        {
         "hoverinfo": "text",
         "marker": {
          "color": "blue",
          "size": 0.5
         },
         "mode": "markers",
         "text": "T-SQL appears with MySQL/MariaDB 35 times",
         "type": "scatter",
         "uid": "e51374dd-51c1-495f-a41c-498515f559cf",
         "x": [
          -0.7600520063144467
         ],
         "y": [
          0.48199683370057966
         ]
        },
        {
         "hoverinfo": "text",
         "marker": {
          "color": "green",
          "size": 0.5
         },
         "mode": "markers",
         "text": "MySQL/MariaDB appears with Pentaho 58 times",
         "type": "scatter",
         "uid": "b17671de-fe58-41ca-8fde-e3893b64064f",
         "x": [
          -0.677749473201328
         ],
         "y": [
          0.5921618457612096
         ]
        },
        {
         "hoverinfo": "text",
         "marker": {
          "color": "blue",
          "size": 0.5
         },
         "mode": "markers",
         "text": "Pentaho appears with MySQL/MariaDB 58 times",
         "type": "scatter",
         "uid": "67864c32-b92f-4dc6-ad9e-2d4df1c79a28",
         "x": [
          -0.8917885663071276
         ],
         "y": [
          0.12129778647559086
         ]
        },
        {
         "hoverinfo": "text",
         "marker": {
          "color": "green",
          "size": 0.5
         },
         "mode": "markers",
         "text": "MySQL/MariaDB appears with Hadoop 4 times",
         "type": "scatter",
         "uid": "b57ea68c-aadb-4cdd-b7f3-4c3e5b7e4554",
         "x": [
          -0.6257799550003089
         ],
         "y": [
          0.6468380383989576
         ]
        },
        {
         "hoverinfo": "text",
         "marker": {
          "color": "blue",
          "size": 0.5
         },
         "mode": "markers",
         "text": "Hadoop appears with MySQL/MariaDB 4 times",
         "type": "scatter",
         "uid": "f804db77-eafe-475e-9190-75723f0acc68",
         "x": [
          -0.897123903468981
         ],
         "y": [
          0.07189368417725307
         ]
        },
        {
         "hoverinfo": "text",
         "marker": {
          "color": "green",
          "size": 0.5
         },
         "mode": "markers",
         "text": "MySQL/MariaDB appears with Spark 19 times",
         "type": "scatter",
         "uid": "7578fcfc-df11-4684-b09b-e69e0f8d360a",
         "x": [
          -0.6322846749930373
         ],
         "y": [
          0.6404811392765201
         ]
        },
        {
         "hoverinfo": "text",
         "marker": {
          "color": "blue",
          "size": 0.5
         },
         "mode": "markers",
         "text": "Spark appears with MySQL/MariaDB 19 times",
         "type": "scatter",
         "uid": "b1e06c42-fd77-4cd9-a1a6-2cbd1e78c26b",
         "x": [
          -0.8951090325112875
         ],
         "y": [
          -0.09370069325627714
         ]
        },
        {
         "hoverinfo": "text",
         "marker": {
          "color": "green",
          "size": 0.5
         },
         "mode": "markers",
         "text": "MySQL/MariaDB appears with Informatica 8 times",
         "type": "scatter",
         "uid": "a46e3bdc-b210-4aef-9794-19cec90d89ea",
         "x": [
          -0.6275530186866238
         ],
         "y": [
          0.6451179804790019
         ]
        },
        {
         "hoverinfo": "text",
         "marker": {
          "color": "blue",
          "size": 0.5
         },
         "mode": "markers",
         "text": "Informatica appears with MySQL/MariaDB 8 times",
         "type": "scatter",
         "uid": "42183207-688d-4bf9-ade4-62624b64c0a1",
         "x": [
          -0.8669769729635816
         ],
         "y": [
          -0.24155936817044596
         ]
        },
        {
         "hoverinfo": "text",
         "marker": {
          "color": "green",
          "size": 0.5
         },
         "mode": "markers",
         "text": "MySQL/MariaDB appears with Qlik 16 times",
         "type": "scatter",
         "uid": "2c9d671e-cc4a-4226-b85d-89a19176f7cf",
         "x": [
          -0.6294818774376393
         ],
         "y": [
          0.6432360111013569
         ]
        },
        {
         "hoverinfo": "text",
         "marker": {
          "color": "blue",
          "size": 0.5
         },
         "mode": "markers",
         "text": "Qlik appears with MySQL/MariaDB 16 times",
         "type": "scatter",
         "uid": "ff83f5fc-c887-4a34-82e5-2d594b633d02",
         "x": [
          -0.7953943993480199
         ],
         "y": [
          -0.4211267617782117
         ]
        },
        {
         "hoverinfo": "text",
         "marker": {
          "color": "green",
          "size": 0.5
         },
         "mode": "markers",
         "text": "MySQL/MariaDB appears with Tableau 38 times",
         "type": "scatter",
         "uid": "19e66c0e-d3eb-4ca3-964f-bf9bb3929d0a",
         "x": [
          -0.647366136063906
         ],
         "y": [
          0.625233625037624
         ]
        },
        {
         "hoverinfo": "text",
         "marker": {
          "color": "blue",
          "size": 0.5
         },
         "mode": "markers",
         "text": "Tableau appears with MySQL/MariaDB 38 times",
         "type": "scatter",
         "uid": "ee275918-7de4-4c30-a686-3c596988ddbb",
         "x": [
          -0.5044482862757469
         ],
         "y": [
          -0.7453401414612406
         ]
        },
        {
         "hoverinfo": "text",
         "marker": {
          "color": "green",
          "size": 0.5
         },
         "mode": "markers",
         "text": "MySQL/MariaDB appears with Oracle BI 54 times",
         "type": "scatter",
         "uid": "8678dffd-c193-48b3-bd49-f44e2c48ff56",
         "x": [
          -0.6694090700637025
         ],
         "y": [
          0.6015741823885473
         ]
        },
        {
         "hoverinfo": "text",
         "marker": {
          "color": "blue",
          "size": 0.5
         },
         "mode": "markers",
         "text": "Oracle BI appears with MySQL/MariaDB 54 times",
         "type": "scatter",
         "uid": "3490399d-2863-4b8d-924a-84b2bba7bca4",
         "x": [
          0.07342389605893938
         ],
         "y": [
          -0.8969999618102145
         ]
        },
        {
         "hoverinfo": "text",
         "marker": {
          "color": "green",
          "size": 0.5
         },
         "mode": "markers",
         "text": "MySQL/MariaDB appears with Python 45 times",
         "type": "scatter",
         "uid": "0de1f04a-c31d-4952-be2e-6a0c972e82fd",
         "x": [
          -0.653805779224105
         ],
         "y": [
          0.6184965667270603
         ]
        },
        {
         "hoverinfo": "text",
         "marker": {
          "color": "blue",
          "size": 0.5
         },
         "mode": "markers",
         "text": "Python appears with MySQL/MariaDB 45 times",
         "type": "scatter",
         "uid": "6ba6248c-0e74-46cb-9832-aa9ea3882784",
         "x": [
          0.6216732370905971
         ],
         "y": [
          -0.6507859757902734
         ]
        },
        {
         "hoverinfo": "text",
         "marker": {
          "color": "green",
          "size": 0.5
         },
         "mode": "markers",
         "text": "MySQL/MariaDB appears with VBA 3 times",
         "type": "scatter",
         "uid": "a5e1e234-0c2f-4b88-ac10-d390cdb5e1d1",
         "x": [
          -0.6252148090575658
         ],
         "y": [
          0.6473843082243435
         ]
        },
        {
         "hoverinfo": "text",
         "marker": {
          "color": "blue",
          "size": 0.5
         },
         "mode": "markers",
         "text": "VBA appears with MySQL/MariaDB 3 times",
         "type": "scatter",
         "uid": "9f42f3d7-90ee-4c48-8c0d-e606820d5cdd",
         "x": [
          0.8226929162395257
         ],
         "y": [
          -0.364933371410871
         ]
        },
        {
         "hoverinfo": "text",
         "marker": {
          "color": "green",
          "size": 0.5
         },
         "mode": "markers",
         "text": "MySQL/MariaDB appears with Linux 32 times",
         "type": "scatter",
         "uid": "1498dd9f-7fbb-4aa8-ba6e-b319d46c1b51",
         "x": [
          -0.6363471536038088
         ],
         "y": [
          0.636445048767237
         ]
        },
        {
         "hoverinfo": "text",
         "marker": {
          "color": "blue",
          "size": 0.5
         },
         "mode": "markers",
         "text": "Linux appears with MySQL/MariaDB 32 times",
         "type": "scatter",
         "uid": "406b6c2a-4616-45e4-a118-5059cefd6c92",
         "x": [
          0.8796523673054221
         ],
         "y": [
          -0.19029375369140944
         ]
        },
        {
         "hoverinfo": "text",
         "marker": {
          "color": "green",
          "size": 0.5
         },
         "mode": "markers",
         "text": "T-SQL appears with PL/SQL 30 times",
         "type": "scatter",
         "uid": "09912a82-d451-4021-b84d-8e875b74cb20",
         "x": [
          -0.7510840869644152
         ],
         "y": [
          0.4958555175742535
         ]
        },
        {
         "hoverinfo": "text",
         "marker": {
          "color": "blue",
          "size": 0.5
         },
         "mode": "markers",
         "text": "PL/SQL appears with T-SQL 30 times",
         "type": "scatter",
         "uid": "319595d3-efd8-41c9-bc2c-b4c97dc1f4ed",
         "x": [
          -0.8621230641680815
         ],
         "y": [
          0.2583482576473818
         ]
        },
        {
         "hoverinfo": "text",
         "marker": {
          "color": "green",
          "size": 0.5
         },
         "mode": "markers",
         "text": "T-SQL appears with Pentaho 35 times",
         "type": "scatter",
         "uid": "d30c7a4a-9212-4546-b19f-2262a2cb0a75",
         "x": [
          -0.7554337021031078
         ],
         "y": [
          0.48920335416551763
         ]
        },
        {
         "hoverinfo": "text",
         "marker": {
          "color": "blue",
          "size": 0.5
         },
         "mode": "markers",
         "text": "Pentaho appears with T-SQL 35 times",
         "type": "scatter",
         "uid": "b214e780-6ca1-4cfe-a20a-c8ce84dda210",
         "x": [
          -0.8876309389451372
         ],
         "y": [
          0.1486987431936601
         ]
        },
        {
         "hoverinfo": "text",
         "marker": {
          "color": "green",
          "size": 0.5
         },
         "mode": "markers",
         "text": "T-SQL appears with Hadoop 16 times",
         "type": "scatter",
         "uid": "6856876f-2b1c-4dfb-a8fa-409c0f11596f",
         "x": [
          -0.7374749613584137
         ],
         "y": [
          0.5158785529263707
         ]
        },
        {
         "hoverinfo": "text",
         "marker": {
          "color": "blue",
          "size": 0.5
         },
         "mode": "markers",
         "text": "Hadoop appears with T-SQL 16 times",
         "type": "scatter",
         "uid": "965ee466-1f02-45dc-ad04-6297e444cfa8",
         "x": [
          -0.8976315365805286
         ],
         "y": [
          0.06525047537052232
         ]
        },
        {
         "hoverinfo": "text",
         "marker": {
          "color": "green",
          "size": 0.5
         },
         "mode": "markers",
         "text": "T-SQL appears with Spark 16 times",
         "type": "scatter",
         "uid": "a2e30340-ba20-4aa7-8f38-378b9d1de3d6",
         "x": [
          -0.7352251502411157
         ],
         "y": [
          0.5190799345504782
         ]
        },
        {
         "hoverinfo": "text",
         "marker": {
          "color": "blue",
          "size": 0.5
         },
         "mode": "markers",
         "text": "Spark appears with T-SQL 16 times",
         "type": "scatter",
         "uid": "4ff89383-fb39-43a3-a06e-af12cfd9c2fd",
         "x": [
          -0.8955105036624983
         ],
         "y": [
          -0.08978272567782018
         ]
        },
        {
         "hoverinfo": "text",
         "marker": {
          "color": "green",
          "size": 0.5
         },
         "mode": "markers",
         "text": "T-SQL appears with Informatica 12 times",
         "type": "scatter",
         "uid": "50641442-7ff1-4200-aac5-2ca4e6041aac",
         "x": [
          -0.7332451640790255
         ],
         "y": [
          0.5218730969830914
         ]
        },
        {
         "hoverinfo": "text",
         "marker": {
          "color": "blue",
          "size": 0.5
         },
         "mode": "markers",
         "text": "Informatica appears with T-SQL 12 times",
         "type": "scatter",
         "uid": "d3dd8373-ee95-47aa-807d-d9c4e1e463c0",
         "x": [
          -0.8644589661088804
         ],
         "y": [
          -0.2504210372831436
         ]
        },
        {
         "hoverinfo": "text",
         "marker": {
          "color": "green",
          "size": 0.5
         },
         "mode": "markers",
         "text": "T-SQL appears with Qlik 64 times",
         "type": "scatter",
         "uid": "3f400da4-1a5d-4006-977b-9797d3b111a0",
         "x": [
          -0.776662390697109
         ],
         "y": [
          0.45474776621403146
         ]
        },
        {
         "hoverinfo": "text",
         "marker": {
          "color": "blue",
          "size": 0.5
         },
         "mode": "markers",
         "text": "Qlik appears with T-SQL 64 times",
         "type": "scatter",
         "uid": "9ca082f1-79ee-4ffa-934d-31863df757a3",
         "x": [
          -0.7616134856759557
         ],
         "y": [
          -0.47952570153905294
         ]
        },
        {
         "hoverinfo": "text",
         "marker": {
          "color": "green",
          "size": 0.5
         },
         "mode": "markers",
         "text": "T-SQL appears with Tableau 86 times",
         "type": "scatter",
         "uid": "0ba1f7dc-9195-4609-ac44-d76ab5229f51",
         "x": [
          -0.7857680076465223
         ],
         "y": [
          0.43882643284015493
         ]
        },
        {
         "hoverinfo": "text",
         "marker": {
          "color": "blue",
          "size": 0.5
         },
         "mode": "markers",
         "text": "Tableau appears with T-SQL 86 times",
         "type": "scatter",
         "uid": "3b3c6bcb-c4f8-489b-bced-f3230c75a694",
         "x": [
          -0.43909357327631104
         ],
         "y": [
          -0.7856187586275171
         ]
        },
        {
         "hoverinfo": "text",
         "marker": {
          "color": "green",
          "size": 0.5
         },
         "mode": "markers",
         "text": "T-SQL appears with Microstrategy 9 times",
         "type": "scatter",
         "uid": "8b705932-1258-4cd4-bfad-8dc472d8b3cf",
         "x": [
          -0.7317532092017967
         ],
         "y": [
          0.5239630147471018
         ]
        },
        {
         "hoverinfo": "text",
         "marker": {
          "color": "blue",
          "size": 0.5
         },
         "mode": "markers",
         "text": "Microstrategy appears with T-SQL 9 times",
         "type": "scatter",
         "uid": "77d209b8-344f-4564-9ab7-118bd7a70c7c",
         "x": [
          -0.06063457850060902
         ],
         "y": [
          -0.8979551480391732
         ]
        },
        {
         "hoverinfo": "text",
         "marker": {
          "color": "green",
          "size": 0.5
         },
         "mode": "markers",
         "text": "T-SQL appears with Oracle BI 118 times",
         "type": "scatter",
         "uid": "6da1a1ea-6857-4b42-beaa-293e50bb4b91",
         "x": [
          -0.8096229094122503
         ],
         "y": [
          0.39307854756377014
         ]
        },
        {
         "hoverinfo": "text",
         "marker": {
          "color": "blue",
          "size": 0.5
         },
         "mode": "markers",
         "text": "Oracle BI appears with T-SQL 118 times",
         "type": "scatter",
         "uid": "3fd6c529-d207-4432-902b-bd237d3ce7a8",
         "x": [
          0.1576044834553116
         ],
         "y": [
          -0.8860930124963092
         ]
        },
        {
         "hoverinfo": "text",
         "marker": {
          "color": "green",
          "size": 0.5
         },
         "mode": "markers",
         "text": "T-SQL appears with Python 45 times",
         "type": "scatter",
         "uid": "33bc9846-fe86-4f00-9219-b62f47efc276",
         "x": [
          -0.7698430638956703
         ],
         "y": [
          0.4661991602005811
         ]
        },
        {
         "hoverinfo": "text",
         "marker": {
          "color": "blue",
          "size": 0.5
         },
         "mode": "markers",
         "text": "Python appears with T-SQL 45 times",
         "type": "scatter",
         "uid": "34b80835-4cb9-4c23-9394-2ae77d88eb79",
         "x": [
          0.6298494192456444
         ],
         "y": [
          -0.6428761226518873
         ]
        },
        {
         "hoverinfo": "text",
         "marker": {
          "color": "green",
          "size": 0.5
         },
         "mode": "markers",
         "text": "T-SQL appears with VBA 26 times",
         "type": "scatter",
         "uid": "526d78ff-7a5a-41ae-aa3a-285840865341",
         "x": [
          -0.7434521390764622
         ],
         "y": [
          0.507226691827858
         ]
        },
        {
         "hoverinfo": "text",
         "marker": {
          "color": "blue",
          "size": 0.5
         },
         "mode": "markers",
         "text": "VBA appears with T-SQL 26 times",
         "type": "scatter",
         "uid": "77d02801-cf90-406c-9f83-cbf49714e2c8",
         "x": [
          0.8264640575107297
         ],
         "y": [
          -0.35631048489049744
         ]
        },
        {
         "hoverinfo": "text",
         "marker": {
          "color": "green",
          "size": 0.5
         },
         "mode": "markers",
         "text": "T-SQL appears with Linux 22 times",
         "type": "scatter",
         "uid": "787cfbf5-d136-4371-a14e-2c88d89b769f",
         "x": [
          -0.7401285034321287
         ],
         "y": [
          0.5120642522255556
         ]
        },
        {
         "hoverinfo": "text",
         "marker": {
          "color": "blue",
          "size": 0.5
         },
         "mode": "markers",
         "text": "Linux appears with T-SQL 22 times",
         "type": "scatter",
         "uid": "bd825287-950c-4a82-b353-f47877730308",
         "x": [
          0.875722115640142
         ],
         "y": [
          -0.2076313468114912
         ]
        },
        {
         "hoverinfo": "text",
         "marker": {
          "color": "green",
          "size": 0.5
         },
         "mode": "markers",
         "text": "T-SQL appears with AWS 8 times",
         "type": "scatter",
         "uid": "dbc14327-40c9-4683-abc7-ebabb514f5ca",
         "x": [
          -0.7305410727744637
         ],
         "y": [
          0.5256517297503509
         ]
        },
        {
         "hoverinfo": "text",
         "marker": {
          "color": "blue",
          "size": 0.5
         },
         "mode": "markers",
         "text": "AWS appears with T-SQL 8 times",
         "type": "scatter",
         "uid": "a628d380-362b-4c1a-91fc-9a32f633382e",
         "x": [
          0.8948585143195329
         ],
         "y": [
          -0.09606372546304087
         ]
        },
        {
         "hoverinfo": "text",
         "marker": {
          "color": "green",
          "size": 0.5
         },
         "mode": "markers",
         "text": "PL/SQL appears with Pentaho 8 times",
         "type": "scatter",
         "uid": "dcf15154-c1d8-474b-a7a3-f3c54a294b7d",
         "x": [
          -0.8557201644221297
         ],
         "y": [
          0.2788243178084785
         ]
        },
        {
         "hoverinfo": "text",
         "marker": {
          "color": "blue",
          "size": 0.5
         },
         "mode": "markers",
         "text": "Pentaho appears with PL/SQL 8 times",
         "type": "scatter",
         "uid": "64fc050e-7fb9-4a5e-b0b2-64500a7dc24c",
         "x": [
          -0.8763307273762084
         ],
         "y": [
          0.2050474487924333
         ]
        },
        {
         "hoverinfo": "text",
         "marker": {
          "color": "green",
          "size": 0.5
         },
         "mode": "markers",
         "text": "PL/SQL appears with Hadoop 3 times",
         "type": "scatter",
         "uid": "fd81b62d-c384-4e9a-bb02-afb56ccb7cc2",
         "x": [
          -0.854831427386882
         ],
         "y": [
          0.2815372635224435
         ]
        },
        {
         "hoverinfo": "text",
         "marker": {
          "color": "blue",
          "size": 0.5
         },
         "mode": "markers",
         "text": "Hadoop appears with PL/SQL 3 times",
         "type": "scatter",
         "uid": "8534a3f6-bcad-40cf-96ad-83b971802dd2",
         "x": [
          -0.8970614765234585
         ],
         "y": [
          0.07266847554168632
         ]
        },
        {
         "hoverinfo": "text",
         "marker": {
          "color": "green",
          "size": 0.5
         },
         "mode": "markers",
         "text": "PL/SQL appears with Informatica 23 times",
         "type": "scatter",
         "uid": "bba74a7d-a587-4dc8-b29d-82c9188c3368",
         "x": [
          -0.8595230724189343
         ],
         "y": [
          0.26687092007094987
         ]
        },
        {
         "hoverinfo": "text",
         "marker": {
          "color": "blue",
          "size": 0.5
         },
         "mode": "markers",
         "text": "Informatica appears with PL/SQL 23 times",
         "type": "scatter",
         "uid": "b1dc9953-ad97-48eb-97c9-e86f6d83023f",
         "x": [
          -0.8622144246319715
         ],
         "y": [
          -0.25804318622385325
         ]
        },
        {
         "hoverinfo": "text",
         "marker": {
          "color": "green",
          "size": 0.5
         },
         "mode": "markers",
         "text": "PL/SQL appears with Qlik 12 times",
         "type": "scatter",
         "uid": "d209de16-01e3-4ed8-9ff1-c51336d9853f",
         "x": [
          -0.8567858774127963
         ],
         "y": [
          0.2755321401687737
         ]
        },
        {
         "hoverinfo": "text",
         "marker": {
          "color": "blue",
          "size": 0.5
         },
         "mode": "markers",
         "text": "Qlik appears with PL/SQL 12 times",
         "type": "scatter",
         "uid": "d4abdf17-2530-4fe8-a4cf-349bc133fd5a",
         "x": [
          -0.8003241855122194
         ],
         "y": [
          -0.41168094209497075
         ]
        },
        {
         "hoverinfo": "text",
         "marker": {
          "color": "green",
          "size": 0.5
         },
         "mode": "markers",
         "text": "PL/SQL appears with Tableau 15 times",
         "type": "scatter",
         "uid": "6d5e1370-1b5d-473b-a6d0-384dbb24601e",
         "x": [
          -0.8574980744977205
         ],
         "y": [
          0.27330761466285874
         ]
        },
        {
         "hoverinfo": "text",
         "marker": {
          "color": "blue",
          "size": 0.5
         },
         "mode": "markers",
         "text": "Tableau appears with PL/SQL 15 times",
         "type": "scatter",
         "uid": "50ccb2aa-2f50-4de2-8d39-b6f0a26daeb3",
         "x": [
          -0.5375363587279253
         ],
         "y": [
          -0.7218411619224296
         ]
        },
        {
         "hoverinfo": "text",
         "marker": {
          "color": "green",
          "size": 0.5
         },
         "mode": "markers",
         "text": "PL/SQL appears with Microstrategy 20 times",
         "type": "scatter",
         "uid": "46821429-7b99-47af-8d1e-297c10af4221",
         "x": [
          -0.858412696092723
         ],
         "y": [
          0.2704212328697995
         ]
        },
        {
         "hoverinfo": "text",
         "marker": {
          "color": "blue",
          "size": 0.5
         },
         "mode": "markers",
         "text": "Microstrategy appears with PL/SQL 20 times",
         "type": "scatter",
         "uid": "5fa35654-21ee-4649-ac82-824bbebdff7c",
         "x": [
          -0.04818010396548102
         ],
         "y": [
          -0.8987094511475194
         ]
        },
        {
         "hoverinfo": "text",
         "marker": {
          "color": "green",
          "size": 0.5
         },
         "mode": "markers",
         "text": "PL/SQL appears with Oracle BI 74 times",
         "type": "scatter",
         "uid": "3803addf-1618-48cf-92ca-28c22215d54f",
         "x": [
          -0.8669764738702163
         ],
         "y": [
          0.24156115945152756
         ]
        },
        {
         "hoverinfo": "text",
         "marker": {
          "color": "blue",
          "size": 0.5
         },
         "mode": "markers",
         "text": "Oracle BI appears with PL/SQL 74 times",
         "type": "scatter",
         "uid": "02ae623b-741c-4bbb-a974-03544ffcefd7",
         "x": [
          0.10478519663762345
         ],
         "y": [
          -0.8938792214642953
         ]
        },
        {
         "hoverinfo": "text",
         "marker": {
          "color": "green",
          "size": 0.5
         },
         "mode": "markers",
         "text": "PL/SQL appears with Python 2 times",
         "type": "scatter",
         "uid": "f5d5b6e8-134a-48a9-9751-5c5104c705f8",
         "x": [
          -0.8546960197212575
         ],
         "y": [
          0.2819480694607426
         ]
        },
        {
         "hoverinfo": "text",
         "marker": {
          "color": "blue",
          "size": 0.5
         },
         "mode": "markers",
         "text": "Python appears with PL/SQL 2 times",
         "type": "scatter",
         "uid": "3c923be6-33d0-4b7f-b352-3768d4991cbc",
         "x": [
          0.5928539466302615
         ],
         "y": [
          -0.6771441485864905
         ]
        },
        {
         "hoverinfo": "text",
         "marker": {
          "color": "green",
          "size": 0.5
         },
         "mode": "markers",
         "text": "PL/SQL appears with VBA 6 times",
         "type": "scatter",
         "uid": "1768874b-12ca-4b73-9d9d-2e00c083832b",
         "x": [
          -0.8553441754876057
         ],
         "y": [
          0.27997560868659255
         ]
        },
        {
         "hoverinfo": "text",
         "marker": {
          "color": "blue",
          "size": 0.5
         },
         "mode": "markers",
         "text": "VBA appears with PL/SQL 6 times",
         "type": "scatter",
         "uid": "9119bbe5-1cb5-4961-88b0-c3673883cb1e",
         "x": [
          0.8250549192066934
         ],
         "y": [
          -0.3595613720810909
         ]
        },
        {
         "hoverinfo": "text",
         "marker": {
          "color": "green",
          "size": 0.5
         },
         "mode": "markers",
         "text": "PL/SQL appears with Linux 1 times",
         "type": "scatter",
         "uid": "10d27803-46c7-4116-91e7-2ebd5bc1fe58",
         "x": [
          -0.8546146803578929
         ],
         "y": [
          0.2821945217696059
         ]
        },
        {
         "hoverinfo": "text",
         "marker": {
          "color": "blue",
          "size": 0.5
         },
         "mode": "markers",
         "text": "Linux appears with PL/SQL 1 times",
         "type": "scatter",
         "uid": "0b3ee0ef-28c6-4dab-b26d-dc086766605a",
         "x": [
          0.8717403134068059
         ],
         "y": [
          -0.22376064439798996
         ]
        },
        {
         "hoverinfo": "text",
         "marker": {
          "color": "green",
          "size": 0.5
         },
         "mode": "markers",
         "text": "PL/SQL appears with AWS 1 times",
         "type": "scatter",
         "uid": "8fd324e3-b36d-4c8e-810c-7c8aaed83c6a",
         "x": [
          -0.8545604146348285
         ],
         "y": [
          0.2823588102736482
         ]
        },
        {
         "hoverinfo": "text",
         "marker": {
          "color": "blue",
          "size": 0.5
         },
         "mode": "markers",
         "text": "AWS appears with PL/SQL 1 times",
         "type": "scatter",
         "uid": "9cee455e-d430-4aba-9e3a-31b0e15aae0d",
         "x": [
          0.8944872144759274
         ],
         "y": [
          -0.09946166668167325
         ]
        },
        {
         "hoverinfo": "text",
         "marker": {
          "color": "green",
          "size": 0.5
         },
         "mode": "markers",
         "text": "Pentaho appears with Spark 6 times",
         "type": "scatter",
         "uid": "a6f4e226-1c3a-4e4a-a7b7-e13365ff6c40",
         "x": [
          -0.8759855151294864
         ],
         "y": [
          0.20651725662357695
         ]
        },
        {
         "hoverinfo": "text",
         "marker": {
          "color": "blue",
          "size": 0.5
         },
         "mode": "markers",
         "text": "Spark appears with Pentaho 6 times",
         "type": "scatter",
         "uid": "d1d363e3-d818-4e20-851a-c5b702a9fcee",
         "x": [
          -0.8962619910323559
         ],
         "y": [
          -0.08194170751648455
         ]
        },
        {
         "hoverinfo": "text",
         "marker": {
          "color": "green",
          "size": 0.5
         },
         "mode": "markers",
         "text": "Pentaho appears with Informatica 32 times",
         "type": "scatter",
         "uid": "f8d41b7c-2a69-4bfe-ab49-88ad730b997c",
         "x": [
          -0.8822500268220941
         ],
         "y": [
          0.17786199754982585
         ]
        },
        {
         "hoverinfo": "text",
         "marker": {
          "color": "blue",
          "size": 0.5
         },
         "mode": "markers",
         "text": "Informatica appears with Pentaho 32 times",
         "type": "scatter",
         "uid": "f014e3a5-31fd-44a1-84c2-6f47d9707199",
         "x": [
          -0.858738895005299
         ],
         "y": [
          -0.2693835744901277
         ]
        },
        {
         "hoverinfo": "text",
         "marker": {
          "color": "green",
          "size": 0.5
         },
         "mode": "markers",
         "text": "Pentaho appears with Qlik 27 times",
         "type": "scatter",
         "uid": "7245f064-2738-4ff6-9970-a320701d98fd",
         "x": [
          -0.8781852861582367
         ],
         "y": [
          0.19695330201643207
         ]
        },
        {
         "hoverinfo": "text",
         "marker": {
          "color": "blue",
          "size": 0.5
         },
         "mode": "markers",
         "text": "Qlik appears with Pentaho 27 times",
         "type": "scatter",
         "uid": "301a5564-8e91-46f3-8b61-a116b019d191",
         "x": [
          -0.7896847501352203
         ],
         "y": [
          -0.43173834136415845
         ]
        },
        {
         "hoverinfo": "text",
         "marker": {
          "color": "green",
          "size": 0.5
         },
         "mode": "markers",
         "text": "Pentaho appears with Tableau 35 times",
         "type": "scatter",
         "uid": "6f860edc-6a29-4c5f-9802-4bae7455302d",
         "x": [
          -0.8850116499715143
         ],
         "y": [
          0.16356766005142348
         ]
        },
        {
         "hoverinfo": "text",
         "marker": {
          "color": "blue",
          "size": 0.5
         },
         "mode": "markers",
         "text": "Tableau appears with Pentaho 35 times",
         "type": "scatter",
         "uid": "55564673-2866-4559-ae6b-1fc5a21182bc",
         "x": [
          -0.512210119539638
         ],
         "y": [
          -0.7400275626226295
         ]
        },
        {
         "hoverinfo": "text",
         "marker": {
          "color": "green",
          "size": 0.5
         },
         "mode": "markers",
         "text": "Pentaho appears with Microstrategy 3 times",
         "type": "scatter",
         "uid": "d79a738d-39e3-41c3-bd27-e8e2118e0c04",
         "x": [
          -0.8757622911312117
         ],
         "y": [
          0.2074618264467243
         ]
        },
        {
         "hoverinfo": "text",
         "marker": {
          "color": "blue",
          "size": 0.5
         },
         "mode": "markers",
         "text": "Microstrategy appears with Pentaho 3 times",
         "type": "scatter",
         "uid": "f959ed8c-1f6d-4951-b123-2d341eb3e1a1",
         "x": [
          -0.06385230303548015
         ],
         "y": [
          -0.8977320777364844
         ]
        },
        {
         "hoverinfo": "text",
         "marker": {
          "color": "green",
          "size": 0.5
         },
         "mode": "markers",
         "text": "Pentaho appears with Oracle BI 35 times",
         "type": "scatter",
         "uid": "ca8f0c4c-6c37-44ba-8b89-acd098791ad1",
         "x": [
          -0.8863524740093034
         ],
         "y": [
          0.15613869417151896
         ]
        },
        {
         "hoverinfo": "text",
         "marker": {
          "color": "blue",
          "size": 0.5
         },
         "mode": "markers",
         "text": "Oracle BI appears with Pentaho 35 times",
         "type": "scatter",
         "uid": "6b1fc168-98c9-43aa-aa0b-bd19a02b3b82",
         "x": [
          0.03793913873513326
         ],
         "y": [
          -0.8991999898532229
         ]
        },
        {
         "hoverinfo": "text",
         "marker": {
          "color": "green",
          "size": 0.5
         },
         "mode": "markers",
         "text": "Pentaho appears with Python 34 times",
         "type": "scatter",
         "uid": "83f4cd50-b975-4bd3-b6ee-978f981b65ea",
         "x": [
          -0.883629043230838
         ],
         "y": [
          0.17087923793999613
         ]
        },
        {
         "hoverinfo": "text",
         "marker": {
          "color": "blue",
          "size": 0.5
         },
         "mode": "markers",
         "text": "Python appears with Pentaho 34 times",
         "type": "scatter",
         "uid": "87bb4e33-6c30-4dd1-8c6f-024c3fb921e2",
         "x": [
          0.607732968337755
         ],
         "y": [
          -0.6638227468197977
         ]
        },
        {
         "hoverinfo": "text",
         "marker": {
          "color": "green",
          "size": 0.5
         },
         "mode": "markers",
         "text": "Pentaho appears with VBA 1 times",
         "type": "scatter",
         "uid": "f253ba18-2f93-4b8f-b4e7-510ebd3d5832",
         "x": [
          -0.8756627535163517
         ],
         "y": [
          0.20788155787409615
         ]
        },
        {
         "hoverinfo": "text",
         "marker": {
          "color": "blue",
          "size": 0.5
         },
         "mode": "markers",
         "text": "VBA appears with Pentaho 1 times",
         "type": "scatter",
         "uid": "a7010158-eba8-4a38-8171-a845908b0549",
         "x": [
          0.8222433299182309
         ],
         "y": [
          -0.3659452232301703
         ]
        },
        {
         "hoverinfo": "text",
         "marker": {
          "color": "green",
          "size": 0.5
         },
         "mode": "markers",
         "text": "Pentaho appears with Linux 31 times",
         "type": "scatter",
         "uid": "b57fb5c2-14eb-49b1-ac0f-329f872ebf50",
         "x": [
          -0.8808822175303109
         ],
         "y": [
          0.18451698794117022
         ]
        },
        {
         "hoverinfo": "text",
         "marker": {
          "color": "blue",
          "size": 0.5
         },
         "mode": "markers",
         "text": "Linux appears with Pentaho 31 times",
         "type": "scatter",
         "uid": "c553fc4d-0a0b-47f0-ab11-5568709fe253",
         "x": [
          0.8782186640362785
         ],
         "y": [
          -0.1968044159523213
         ]
        },
        {
         "hoverinfo": "text",
         "marker": {
          "color": "green",
          "size": 0.5
         },
         "mode": "markers",
         "text": "Pentaho appears with AWS 13 times",
         "type": "scatter",
         "uid": "46fcef6d-6e9a-49ad-8ec6-6612123adc45",
         "x": [
          -0.8772311998763613
         ],
         "y": [
          0.2011601898077238
         ]
        },
        {
         "hoverinfo": "text",
         "marker": {
          "color": "blue",
          "size": 0.5
         },
         "mode": "markers",
         "text": "AWS appears with Pentaho 13 times",
         "type": "scatter",
         "uid": "6775cc34-fd4c-488e-9a1b-d8425bbfd2a2",
         "x": [
          0.8952570432034734
         ],
         "y": [
          -0.09227581803795734
         ]
        },
        {
         "hoverinfo": "text",
         "marker": {
          "color": "green",
          "size": 0.5
         },
         "mode": "markers",
         "text": "Hadoop appears with Spark 101 times",
         "type": "scatter",
         "uid": "9da997db-30e9-4515-ab2c-e41326a63311",
         "x": [
          -0.899879063188985
         ],
         "y": [
          -0.014753698997699143
         ]
        },
        {
         "hoverinfo": "text",
         "marker": {
          "color": "blue",
          "size": 0.5
         },
         "mode": "markers",
         "text": "Spark appears with Hadoop 101 times",
         "type": "scatter",
         "uid": "73028a76-cc99-450f-b9c8-761cda201ba1",
         "x": [
          -0.883277292134428
         ],
         "y": [
          -0.1726882312135732
         ]
        },
        {
         "hoverinfo": "text",
         "marker": {
          "color": "green",
          "size": 0.5
         },
         "mode": "markers",
         "text": "Hadoop appears with Informatica 5 times",
         "type": "scatter",
         "uid": "7213e7af-5500-4787-afcd-a77bcf1e2879",
         "x": [
          -0.8972031833835548
         ],
         "y": [
          0.07089744513320324
         ]
        },
        {
         "hoverinfo": "text",
         "marker": {
          "color": "blue",
          "size": 0.5
         },
         "mode": "markers",
         "text": "Informatica appears with Hadoop 5 times",
         "type": "scatter",
         "uid": "3d8462b7-b27f-4ff3-9bb0-11d306b9c62b",
         "x": [
          -0.8677452330673655
         ],
         "y": [
          -0.2387848623528374
         ]
        },
        {
         "hoverinfo": "text",
         "marker": {
          "color": "green",
          "size": 0.5
         },
         "mode": "markers",
         "text": "Hadoop appears with Qlik 9 times",
         "type": "scatter",
         "uid": "dd5979e7-d77f-4253-88f3-a4de6113cdfa",
         "x": [
          -0.8974259994833101
         ],
         "y": [
          0.06801893450637035
         ]
        },
        {
         "hoverinfo": "text",
         "marker": {
          "color": "blue",
          "size": 0.5
         },
         "mode": "markers",
         "text": "Qlik appears with Hadoop 9 times",
         "type": "scatter",
         "uid": "de880f0c-f060-47d7-9d02-4715c3df4374",
         "x": [
          -0.801539132107992
         ],
         "y": [
          -0.4093104197300222
         ]
        },
        {
         "hoverinfo": "text",
         "marker": {
          "color": "green",
          "size": 0.5
         },
         "mode": "markers",
         "text": "Hadoop appears with Tableau 34 times",
         "type": "scatter",
         "uid": "c0a27c24-712a-4803-b721-c2c4f60f11d9",
         "x": [
          -0.8992169049209964
         ],
         "y": [
          0.03753608802610773
         ]
        },
        {
         "hoverinfo": "text",
         "marker": {
          "color": "blue",
          "size": 0.5
         },
         "mode": "markers",
         "text": "Tableau appears with Hadoop 34 times",
         "type": "scatter",
         "uid": "e04e9659-89aa-4e21-a1e1-444e3615364c",
         "x": [
          -0.5194952307765572
         ],
         "y": [
          -0.7349317690781992
         ]
        },
        {
         "hoverinfo": "text",
         "marker": {
          "color": "green",
          "size": 0.5
         },
         "mode": "markers",
         "text": "Hadoop appears with Microstrategy 3 times",
         "type": "scatter",
         "uid": "799a06d5-600f-4daf-b6be-2ebe75f86200",
         "x": [
          -0.8969529021537723
         ],
         "y": [
          0.07399656287913234
         ]
        },
        {
         "hoverinfo": "text",
         "marker": {
          "color": "blue",
          "size": 0.5
         },
         "mode": "markers",
         "text": "Microstrategy appears with Hadoop 3 times",
         "type": "scatter",
         "uid": "3bf142ae-9474-41c5-a85e-04615e0a6f9e",
         "x": [
          -0.06334429472894756
         ],
         "y": [
          -0.8977680659977232
         ]
        },
        {
         "hoverinfo": "text",
         "marker": {
          "color": "green",
          "size": 0.5
         },
         "mode": "markers",
         "text": "Hadoop appears with Oracle BI 29 times",
         "type": "scatter",
         "uid": "8941eab9-745a-45de-9cc6-f360e835f62e",
         "x": [
          -0.8985437363833555
         ],
         "y": [
          0.05117766901920291
         ]
        },
        {
         "hoverinfo": "text",
         "marker": {
          "color": "blue",
          "size": 0.5
         },
         "mode": "markers",
         "text": "Oracle BI appears with Hadoop 29 times",
         "type": "scatter",
         "uid": "19c0407d-d540-462f-907c-5dcb92d7df4c",
         "x": [
          0.021017423789853207
         ],
         "y": [
          -0.8997545598090836
         ]
        },
        {
         "hoverinfo": "text",
         "marker": {
          "color": "green",
          "size": 0.5
         },
         "mode": "markers",
         "text": "Hadoop appears with Python 108 times",
         "type": "scatter",
         "uid": "28560962-5ab5-4617-90bf-cd9ddd565dfe",
         "x": [
          -0.8991994838886516
         ],
         "y": [
          -0.03795112876295927
         ]
        },
        {
         "hoverinfo": "text",
         "marker": {
          "color": "blue",
          "size": 0.5
         },
         "mode": "markers",
         "text": "Python appears with Hadoop 108 times",
         "type": "scatter",
         "uid": "f4a22657-0f61-4e48-9f9e-edff9ee55786",
         "x": [
          0.7177030401090951
         ],
         "y": [
          -0.5430491195261831
         ]
        },
        {
         "hoverinfo": "text",
         "marker": {
          "color": "green",
          "size": 0.5
         },
         "mode": "markers",
         "text": "Hadoop appears with VBA 6 times",
         "type": "scatter",
         "uid": "ceff667c-2687-4a1b-9eb3-02668de2de5e",
         "x": [
          -0.8972985786588059
         ],
         "y": [
          0.0696797010390173
         ]
        },
        {
         "hoverinfo": "text",
         "marker": {
          "color": "blue",
          "size": 0.5
         },
         "mode": "markers",
         "text": "VBA appears with Hadoop 6 times",
         "type": "scatter",
         "uid": "7c9e51b1-11b6-4be7-8e4a-8d5f14fb1f57",
         "x": [
          0.8245231944453247
         ],
         "y": [
          -0.36077902076156987
         ]
        },
        {
         "hoverinfo": "text",
         "marker": {
          "color": "green",
          "size": 0.5
         },
         "mode": "markers",
         "text": "Hadoop appears with Linux 68 times",
         "type": "scatter",
         "uid": "099ea75e-f944-4c5d-953e-34690658c64a",
         "x": [
          -0.8999910579898677
         ],
         "y": [
          0.004011924510594134
         ]
        },
        {
         "hoverinfo": "text",
         "marker": {
          "color": "blue",
          "size": 0.5
         },
         "mode": "markers",
         "text": "Linux appears with Hadoop 68 times",
         "type": "scatter",
         "uid": "b0b0a7da-868e-4eb8-9f61-f247d44fc337",
         "x": [
          0.8873800961744729
         ],
         "y": [
          -0.1501884313566907
         ]
        },
        {
         "hoverinfo": "text",
         "marker": {
          "color": "green",
          "size": 0.5
         },
         "mode": "markers",
         "text": "Hadoop appears with AWS 37 times",
         "type": "scatter",
         "uid": "e2877f3a-dee2-49ef-9718-61a4136c191c",
         "x": [
          -0.8995112173648422
         ],
         "y": [
          0.029657542629481774
         ]
        },
        {
         "hoverinfo": "text",
         "marker": {
          "color": "blue",
          "size": 0.5
         },
         "mode": "markers",
         "text": "AWS appears with Hadoop 37 times",
         "type": "scatter",
         "uid": "b40f7040-ddaa-4b26-ac1a-f5dcffe05b17",
         "x": [
          0.8972658217337086
         ],
         "y": [
          -0.07010025070235314
         ]
        },
        {
         "hoverinfo": "text",
         "marker": {
          "color": "green",
          "size": 0.5
         },
         "mode": "markers",
         "text": "Spark appears with Informatica 9 times",
         "type": "scatter",
         "uid": "3b11971d-3e32-4148-94fb-860715058fdd",
         "x": [
          -0.8961067356889065
         ],
         "y": [
          -0.083622474568576
         ]
        },
        {
         "hoverinfo": "text",
         "marker": {
          "color": "blue",
          "size": 0.5
         },
         "mode": "markers",
         "text": "Informatica appears with Spark 9 times",
         "type": "scatter",
         "uid": "a84fc7ee-9c30-42d4-94d8-b6a3518291b8",
         "x": [
          -0.8664494884336862
         ],
         "y": [
          -0.24344462202522246
         ]
        },
        {
         "hoverinfo": "text",
         "marker": {
          "color": "green",
          "size": 0.5
         },
         "mode": "markers",
         "text": "Spark appears with Qlik 15 times",
         "type": "scatter",
         "uid": "5c965c1c-2f74-4f43-9936-0f5dad4b1190",
         "x": [
          -0.8958517713091539
         ],
         "y": [
          -0.08631108759743109
         ]
        },
        {
         "hoverinfo": "text",
         "marker": {
          "color": "blue",
          "size": 0.5
         },
         "mode": "markers",
         "text": "Qlik appears with Spark 15 times",
         "type": "scatter",
         "uid": "5185bc65-06a5-4d7e-b806-68e527b545ab",
         "x": [
          -0.7972267412965665
         ],
         "y": [
          -0.41764760619648894
         ]
        },
        {
         "hoverinfo": "text",
         "marker": {
          "color": "green",
          "size": 0.5
         },
         "mode": "markers",
         "text": "Spark appears with Tableau 33 times",
         "type": "scatter",
         "uid": "cb5333ff-8e14-4fb0-8753-80f0ba709453",
         "x": [
          -0.892688100658534
         ],
         "y": [
          -0.11448997747689145
         ]
        },
        {
         "hoverinfo": "text",
         "marker": {
          "color": "blue",
          "size": 0.5
         },
         "mode": "markers",
         "text": "Tableau appears with Spark 33 times",
         "type": "scatter",
         "uid": "61ec8703-b5d3-433a-89bf-973f6d3ff6aa",
         "x": [
          -0.5265206761865645
         ],
         "y": [
          -0.7299150481720752
         ]
        },
        {
         "hoverinfo": "text",
         "marker": {
          "color": "green",
          "size": 0.5
         },
         "mode": "markers",
         "text": "Spark appears with Microstrategy 3 times",
         "type": "scatter",
         "uid": "1e8731bb-b55f-49e6-8ae1-9b5248d8b5f6",
         "x": [
          -0.8965728615545846
         ],
         "y": [
          -0.07846721559876899
         ]
        },
        {
         "hoverinfo": "text",
         "marker": {
          "color": "blue",
          "size": 0.5
         },
         "mode": "markers",
         "text": "Microstrategy appears with Spark 3 times",
         "type": "scatter",
         "uid": "faf01ec3-cf4c-4dda-9dc5-543b9e498aba",
         "x": [
          -0.06436029089606586
         ],
         "y": [
          -0.8976958020152338
         ]
        },
        {
         "hoverinfo": "text",
         "marker": {
          "color": "green",
          "size": 0.5
         },
         "mode": "markers",
         "text": "Spark appears with Oracle BI 25 times",
         "type": "scatter",
         "uid": "f3543358-db79-4391-9276-aa00c12a9a6b",
         "x": [
          -0.8934948810120243
         ],
         "y": [
          -0.10801341400635567
         ]
        },
        {
         "hoverinfo": "text",
         "marker": {
          "color": "blue",
          "size": 0.5
         },
         "mode": "markers",
         "text": "Oracle BI appears with Spark 25 times",
         "type": "scatter",
         "uid": "252436ed-b383-4532-8bbd-f2f0f539ce98",
         "x": [
          0.01398587409687154
         ],
         "y": [
          -0.8998913241751731
         ]
        },
        {
         "hoverinfo": "text",
         "marker": {
          "color": "green",
          "size": 0.5
         },
         "mode": "markers",
         "text": "Spark appears with Python 120 times",
         "type": "scatter",
         "uid": "c9f398dc-641b-455a-964b-ef65080552fa",
         "x": [
          -0.8781690122734259
         ],
         "y": [
          -0.19702585079810073
         ]
        },
        {
         "hoverinfo": "text",
         "marker": {
          "color": "blue",
          "size": 0.5
         },
         "mode": "markers",
         "text": "Python appears with Spark 120 times",
         "type": "scatter",
         "uid": "ce4ae733-4dae-4818-8f73-9810a68d9252",
         "x": [
          0.7347215650649765
         ],
         "y": [
          -0.5197924795805259
         ]
        },
        {
         "hoverinfo": "text",
         "marker": {
          "color": "green",
          "size": 0.5
         },
         "mode": "markers",
         "text": "Spark appears with VBA 6 times",
         "type": "scatter",
         "uid": "32800c9e-e5d5-41dd-a679-df5305f04aa9",
         "x": [
          -0.8963839255338442
         ],
         "y": [
          -0.08059688607220329
         ]
        },
        {
         "hoverinfo": "text",
         "marker": {
          "color": "blue",
          "size": 0.5
         },
         "mode": "markers",
         "text": "VBA appears with Spark 6 times",
         "type": "scatter",
         "uid": "c3cc17c5-b6c7-475c-9eaf-5369e94fa7da",
         "x": [
          0.8239896726310416
         ],
         "y": [
          -0.36199588312215497
         ]
        },
        {
         "hoverinfo": "text",
         "marker": {
          "color": "green",
          "size": 0.5
         },
         "mode": "markers",
         "text": "Spark appears with Linux 51 times",
         "type": "scatter",
         "uid": "124a8e6b-c057-4731-8cda-83d08971f57a",
         "x": [
          -0.8889216932676139
         ],
         "y": [
          -0.1407772113597866
         ]
        },
        {
         "hoverinfo": "text",
         "marker": {
          "color": "blue",
          "size": 0.5
         },
         "mode": "markers",
         "text": "Linux appears with Spark 51 times",
         "type": "scatter",
         "uid": "7e9fd62e-bbf5-455f-bc8e-d0bf88bdcdd5",
         "x": [
          0.8828920789041286
         ],
         "y": [
          -0.17464700686913012
         ]
        },
        {
         "hoverinfo": "text",
         "marker": {
          "color": "green",
          "size": 0.5
         },
         "mode": "markers",
         "text": "Spark appears with AWS 40 times",
         "type": "scatter",
         "uid": "ef680c57-b68c-4c8c-963e-ade799cc1229",
         "x": [
          -0.8904658633193474
         ],
         "y": [
          -0.13065430059102243
         ]
        },
        {
         "hoverinfo": "text",
         "marker": {
          "color": "blue",
          "size": 0.5
         },
         "mode": "markers",
         "text": "AWS appears with Spark 40 times",
         "type": "scatter",
         "uid": "35a959c7-07cb-4e9e-8b4b-3478758a4ba3",
         "x": [
          0.8978202182964563
         ],
         "y": [
          -0.0626007637182128
         ]
        },
        {
         "hoverinfo": "text",
         "marker": {
          "color": "green",
          "size": 0.5
         },
         "mode": "markers",
         "text": "Informatica appears with Qlik 91 times",
         "type": "scatter",
         "uid": "2f888ab4-3e38-4e5b-a2b9-fb3282ce93ec",
         "x": [
          -0.8402971964607416
         ],
         "y": [
          -0.32233619346920667
         ]
        },
        {
         "hoverinfo": "text",
         "marker": {
          "color": "blue",
          "size": 0.5
         },
         "mode": "markers",
         "text": "Qlik appears with Informatica 91 times",
         "type": "scatter",
         "uid": "90e3fdff-25fc-4cd3-b3cc-9a6833721172",
         "x": [
          -0.7509571491324262
         ],
         "y": [
          -0.49604773980626016
         ]
        },
        {
         "hoverinfo": "text",
         "marker": {
          "color": "green",
          "size": 0.5
         },
         "mode": "markers",
         "text": "Informatica appears with Tableau 64 times",
         "type": "scatter",
         "uid": "54fb036c-bfa4-4ef9-a83a-2d2a071a12c3",
         "x": [
          -0.8465242529101615
         ],
         "y": [
          -0.3056087191735421
         ]
        },
        {
         "hoverinfo": "text",
         "marker": {
          "color": "blue",
          "size": 0.5
         },
         "mode": "markers",
         "text": "Tableau appears with Informatica 64 times",
         "type": "scatter",
         "uid": "255f6cf9-17f4-4c7f-8ece-e8ca9a902361",
         "x": [
          -0.47351616349993736
         ],
         "y": [
          -0.7653642550474254
         ]
        },
        {
         "hoverinfo": "text",
         "marker": {
          "color": "green",
          "size": 0.5
         },
         "mode": "markers",
         "text": "Informatica appears with Microstrategy 11 times",
         "type": "scatter",
         "uid": "0365321f-0860-41a3-8b86-debce12ceb6a",
         "x": [
          -0.8651921817777664
         ],
         "y": [
          -0.24787595403876622
         ]
        },
        {
         "hoverinfo": "text",
         "marker": {
          "color": "blue",
          "size": 0.5
         },
         "mode": "markers",
         "text": "Microstrategy appears with Informatica 11 times",
         "type": "scatter",
         "uid": "1cc52641-2f92-409c-b922-3f1a72e5c802",
         "x": [
          -0.058940723843554046
         ],
         "y": [
          -0.8980679211912637
         ]
        },
        {
         "hoverinfo": "text",
         "marker": {
          "color": "green",
          "size": 0.5
         },
         "mode": "markers",
         "text": "Informatica appears with Oracle BI 122 times",
         "type": "scatter",
         "uid": "06260a0d-3e79-44ce-857d-ef0f5b9f883e",
         "x": [
          -0.8207811281462787
         ],
         "y": [
          -0.3692131358428651
         ]
        },
        {
         "hoverinfo": "text",
         "marker": {
          "color": "blue",
          "size": 0.5
         },
         "mode": "markers",
         "text": "Oracle BI appears with Informatica 122 times",
         "type": "scatter",
         "uid": "5305fd25-132c-4e45-a212-a3b5ad50b985",
         "x": [
          0.18827758321435015
         ],
         "y": [
          -0.8800861046846288
         ]
        },
        {
         "hoverinfo": "text",
         "marker": {
          "color": "green",
          "size": 0.5
         },
         "mode": "markers",
         "text": "Informatica appears with Python 24 times",
         "type": "scatter",
         "uid": "3dc1f912-dbb0-4175-91fb-33ab353f50c1",
         "x": [
          -0.8606470437422465
         ],
         "y": [
          -0.26322360475027984
         ]
        },
        {
         "hoverinfo": "text",
         "marker": {
          "color": "blue",
          "size": 0.5
         },
         "mode": "markers",
         "text": "Python appears with Informatica 24 times",
         "type": "scatter",
         "uid": "78e68cd3-a02a-4a92-bea3-e26b2c9fe256",
         "x": [
          0.6023054271674705
         ],
         "y": [
          -0.6687512036659156
         ]
        },
        {
         "hoverinfo": "text",
         "marker": {
          "color": "green",
          "size": 0.5
         },
         "mode": "markers",
         "text": "Informatica appears with VBA 3 times",
         "type": "scatter",
         "uid": "f326d533-8295-4074-b074-1d800f173e6c",
         "x": [
          -0.8679892014362061
         ],
         "y": [
          -0.23789650310615595
         ]
        },
        {
         "hoverinfo": "text",
         "marker": {
          "color": "blue",
          "size": 0.5
         },
         "mode": "markers",
         "text": "VBA appears with Informatica 3 times",
         "type": "scatter",
         "uid": "120dc5e5-b03f-49bd-a068-2fadcd7be5a8",
         "x": [
          0.8224233138252336
         ],
         "y": [
          -0.36554054888168197
         ]
        },
        {
         "hoverinfo": "text",
         "marker": {
          "color": "green",
          "size": 0.5
         },
         "mode": "markers",
         "text": "Informatica appears with Linux 6 times",
         "type": "scatter",
         "uid": "5f22ed34-4f76-4fac-9050-bc297e39c169",
         "x": [
          -0.8674082920478591
         ],
         "y": [
          -0.240005947606754
         ]
        },
        {
         "hoverinfo": "text",
         "marker": {
          "color": "blue",
          "size": 0.5
         },
         "mode": "markers",
         "text": "Linux appears with Informatica 6 times",
         "type": "scatter",
         "uid": "9b9abf35-2dd3-41d0-bd8e-a28eb0f2aaa3",
         "x": [
          0.8726019561942504
         ],
         "y": [
          -0.22037655511865914
         ]
        },
        {
         "hoverinfo": "text",
         "marker": {
          "color": "green",
          "size": 0.5
         },
         "mode": "markers",
         "text": "Informatica appears with AWS 17 times",
         "type": "scatter",
         "uid": "ab8afe34-2ac7-41f7-aa36-8579e49d5539",
         "x": [
          -0.8635238065579118
         ],
         "y": [
          -0.25362696131865425
         ]
        },
        {
         "hoverinfo": "text",
         "marker": {
          "color": "blue",
          "size": 0.5
         },
         "mode": "markers",
         "text": "AWS appears with Informatica 17 times",
         "type": "scatter",
         "uid": "6b770a4f-6eca-4543-b2b7-02995953b0b1",
         "x": [
          0.8955526935241911
         ],
         "y": [
          -0.08936091495484094
         ]
        },
        {
         "hoverinfo": "text",
         "marker": {
          "color": "green",
          "size": 0.5
         },
         "mode": "markers",
         "text": "Qlik appears with Tableau 296 times",
         "type": "scatter",
         "uid": "55945bf2-71cb-4391-9400-a0b00d054371",
         "x": [
          -0.6566607899979788
         ],
         "y": [
          -0.6154645455907517
         ]
        },
        {
         "hoverinfo": "text",
         "marker": {
          "color": "blue",
          "size": 0.5
         },
         "mode": "markers",
         "text": "Tableau appears with Qlik 296 times",
         "type": "scatter",
         "uid": "19a3de53-5817-4a17-ae7b-322838472443",
         "x": [
          -0.3089995922763226
         ],
         "y": [
          -0.845292406196262
         ]
        },
        {
         "hoverinfo": "text",
         "marker": {
          "color": "green",
          "size": 0.5
         },
         "mode": "markers",
         "text": "Qlik appears with Microstrategy 26 times",
         "type": "scatter",
         "uid": "a6455b7f-47b4-4b1a-ab63-28232ea978ba",
         "x": [
          -0.7928876577559134
         ],
         "y": [
          -0.4258276202624033
         ]
        },
        {
         "hoverinfo": "text",
         "marker": {
          "color": "blue",
          "size": 0.5
         },
         "mode": "markers",
         "text": "Microstrategy appears with Qlik 26 times",
         "type": "scatter",
         "uid": "fd668d5f-b7d4-4b56-8bfe-7f8069d31058",
         "x": [
          -0.04071977970604693
         ],
         "y": [
          -0.8990783611792084
         ]
        },
        {
         "hoverinfo": "text",
         "marker": {
          "color": "green",
          "size": 0.5
         },
         "mode": "markers",
         "text": "Qlik appears with Oracle BI 275 times",
         "type": "scatter",
         "uid": "f232528d-fb4e-4a12-8ea1-9b9579cb240b",
         "x": [
          -0.7040120882552139
         ],
         "y": [
          -0.5606843850068708
         ]
        },
        {
         "hoverinfo": "text",
         "marker": {
          "color": "blue",
          "size": 0.5
         },
         "mode": "markers",
         "text": "Oracle BI appears with Qlik 275 times",
         "type": "scatter",
         "uid": "3cbd8810-3960-4efe-bdc7-e9c8990cf12e",
         "x": [
          0.35182417259431537
         ],
         "y": [
          -0.8283838189983707
         ]
        },
        {
         "hoverinfo": "text",
         "marker": {
          "color": "green",
          "size": 0.5
         },
         "mode": "markers",
         "text": "Qlik appears with Python 36 times",
         "type": "scatter",
         "uid": "03f15eb0-8182-49fb-b8b1-f59cb7814748",
         "x": [
          -0.7824584424739794
         ],
         "y": [
          -0.4447007823258177
         ]
        },
        {
         "hoverinfo": "text",
         "marker": {
          "color": "blue",
          "size": 0.5
         },
         "mode": "markers",
         "text": "Python appears with Qlik 36 times",
         "type": "scatter",
         "uid": "2294ed21-b7ad-43ad-b2df-e49bfd80310b",
         "x": [
          0.6142297116120569
         ],
         "y": [
          -0.6578159783503054
         ]
        },
        {
         "hoverinfo": "text",
         "marker": {
          "color": "green",
          "size": 0.5
         },
         "mode": "markers",
         "text": "Qlik appears with VBA 27 times",
         "type": "scatter",
         "uid": "852ed13a-6038-4466-a0bb-fb39ca442118",
         "x": [
          -0.7863760948710922
         ],
         "y": [
          -0.437735807782835
         ]
        },
        {
         "hoverinfo": "text",
         "marker": {
          "color": "blue",
          "size": 0.5
         },
         "mode": "markers",
         "text": "VBA appears with Qlik 27 times",
         "type": "scatter",
         "uid": "f63f6d9a-b91a-4e16-a309-f75a7b50cd69",
         "x": [
          0.8309977070875422
         ],
         "y": [
          -0.34560499246285137
         ]
        },
        {
         "hoverinfo": "text",
         "marker": {
          "color": "green",
          "size": 0.5
         },
         "mode": "markers",
         "text": "Qlik appears with Linux 2 times",
         "type": "scatter",
         "uid": "08faf9f5-4c3c-474e-80e6-c6c6ea4cdda2",
         "x": [
          -0.8021727312038329
         ],
         "y": [
          -0.4080672852765623
         ]
        },
        {
         "hoverinfo": "text",
         "marker": {
          "color": "blue",
          "size": 0.5
         },
         "mode": "markers",
         "text": "Linux appears with Qlik 2 times",
         "type": "scatter",
         "uid": "463f3f9c-8623-4c56-a206-e40ee1960057",
         "x": [
          0.8718191870790392
         ],
         "y": [
          -0.2234531383553237
         ]
        },
        {
         "hoverinfo": "text",
         "marker": {
          "color": "green",
          "size": 0.5
         },
         "mode": "markers",
         "text": "Qlik appears with AWS 2 times",
         "type": "scatter",
         "uid": "855bc225-40d4-4cff-9187-029648b03fef",
         "x": [
          -0.8024026529339324
         ],
         "y": [
          -0.4076149930566677
         ]
        },
        {
         "hoverinfo": "text",
         "marker": {
          "color": "blue",
          "size": 0.5
         },
         "mode": "markers",
         "text": "AWS appears with Qlik 2 times",
         "type": "scatter",
         "uid": "06694647-ed8c-4bfa-bf81-ded6a6f992e9",
         "x": [
          0.894562506823222
         ],
         "y": [
          -0.09878219164481418
         ]
        },
        {
         "hoverinfo": "text",
         "marker": {
          "color": "green",
          "size": 0.5
         },
         "mode": "markers",
         "text": "Tableau appears with Microstrategy 38 times",
         "type": "scatter",
         "uid": "3b2e1a3f-82ba-44d1-ae64-81b98cc6509d",
         "x": [
          -0.49630894638954703
         ],
         "y": [
          -0.7507845428175102
         ]
        },
        {
         "hoverinfo": "text",
         "marker": {
          "color": "blue",
          "size": 0.5
         },
         "mode": "markers",
         "text": "Microstrategy appears with Tableau 38 times",
         "type": "scatter",
         "uid": "7eb71247-9c29-4fe1-b64e-cc809482a28b",
         "x": [
          -0.030033197616597583
         ],
         "y": [
          -0.8994987532181035
         ]
        },
        {
         "hoverinfo": "text",
         "marker": {
          "color": "green",
          "size": 0.5
         },
         "mode": "markers",
         "text": "Tableau appears with Oracle BI 343 times",
         "type": "scatter",
         "uid": "425bc45d-ed8b-4251-aa64-6638dd0763f5",
         "x": [
          -0.2304865014073613
         ],
         "y": [
          -0.8699861910794875
         ]
        },
        {
         "hoverinfo": "text",
         "marker": {
          "color": "blue",
          "size": 0.5
         },
         "mode": "markers",
         "text": "Oracle BI appears with Tableau 343 times",
         "type": "scatter",
         "uid": "8011b2f3-313e-4d33-81b1-117e0317ad35",
         "x": [
          0.4244024028358522
         ],
         "y": [
          -0.7936514351194454
         ]
        },
        {
         "hoverinfo": "text",
         "marker": {
          "color": "green",
          "size": 0.5
         },
         "mode": "markers",
         "text": "Tableau appears with Python 103 times",
         "type": "scatter",
         "uid": "b6c82d5b-d495-4e5b-bc8d-8a25eeb47f12",
         "x": [
          -0.41767818506388393
         ],
         "y": [
          -0.7972107210278472
         ]
        },
        {
         "hoverinfo": "text",
         "marker": {
          "color": "blue",
          "size": 0.5
         },
         "mode": "markers",
         "text": "Python appears with Tableau 103 times",
         "type": "scatter",
         "uid": "2a79f807-2e05-4833-abca-d6a587b4f44d",
         "x": [
          0.7012974287241472
         ],
         "y": [
          -0.5640761619364
         ]
        },
        {
         "hoverinfo": "text",
         "marker": {
          "color": "green",
          "size": 0.5
         },
         "mode": "markers",
         "text": "Tableau appears with VBA 54 times",
         "type": "scatter",
         "uid": "8c1e3180-86b3-432a-8f33-b173ad07e04e",
         "x": [
          -0.48637754150548806
         ],
         "y": [
          -0.7572561568710269
         ]
        },
        {
         "hoverinfo": "text",
         "marker": {
          "color": "blue",
          "size": 0.5
         },
         "mode": "markers",
         "text": "VBA appears with Tableau 54 times",
         "type": "scatter",
         "uid": "7e3bd9ac-660c-4281-bb1e-40b32e7e3c65",
         "x": [
          0.8371116936472861
         ],
         "y": [
          -0.33052081985704357
         ]
        },
        {
         "hoverinfo": "text",
         "marker": {
          "color": "green",
          "size": 0.5
         },
         "mode": "markers",
         "text": "Tableau appears with Linux 13 times",
         "type": "scatter",
         "uid": "f2df55cd-6ba6-4cb4-adf2-2d41b86d1ad6",
         "x": [
          -0.5404255968525882
         ],
         "y": [
          -0.7196806057318231
         ]
        },
        {
         "hoverinfo": "text",
         "marker": {
          "color": "blue",
          "size": 0.5
         },
         "mode": "markers",
         "text": "Linux appears with Tableau 13 times",
         "type": "scatter",
         "uid": "20858606-eb6c-4e5a-9e51-b0c3b8aac428",
         "x": [
          0.8730920951002666
         ],
         "y": [
          -0.21842663178611468
         ]
        },
        {
         "hoverinfo": "text",
         "marker": {
          "color": "green",
          "size": 0.5
         },
         "mode": "markers",
         "text": "Tableau appears with AWS 29 times",
         "type": "scatter",
         "uid": "34425241-b77c-4e34-bc2c-b7ef6ddd6f6d",
         "x": [
          -0.5329786939358834
         ],
         "y": [
          -0.7252128734450319
         ]
        },
        {
         "hoverinfo": "text",
         "marker": {
          "color": "blue",
          "size": 0.5
         },
         "mode": "markers",
         "text": "AWS appears with Tableau 29 times",
         "type": "scatter",
         "uid": "2d70af05-d6ae-4fbf-97f8-d417e5fac3b4",
         "x": [
          0.8967407651195353
         ],
         "y": [
          -0.0765245070080849
         ]
        },
        {
         "hoverinfo": "text",
         "marker": {
          "color": "green",
          "size": 0.5
         },
         "mode": "markers",
         "text": "Microstrategy appears with Oracle BI 50 times",
         "type": "scatter",
         "uid": "ccc462ab-2c75-4f04-b9f0-be297a39c9cd",
         "x": [
          -0.02256694767403378
         ],
         "y": [
          -0.8997170293334885
         ]
        },
        {
         "hoverinfo": "text",
         "marker": {
          "color": "blue",
          "size": 0.5
         },
         "mode": "markers",
         "text": "Oracle BI appears with Microstrategy 50 times",
         "type": "scatter",
         "uid": "4af8206b-4f00-4167-8b52-1283d918925b",
         "x": [
          0.05991640107318266
         ],
         "y": [
          -0.8980033546053364
         ]
        },
        {
         "hoverinfo": "text",
         "marker": {
          "color": "green",
          "size": 0.5
         },
         "mode": "markers",
         "text": "Microstrategy appears with Python 14 times",
         "type": "scatter",
         "uid": "d023d99d-e316-4fe9-b534-fa7b3c6d2051",
         "x": [
          -0.05682311133444542
         ],
         "y": [
          -0.8982043943436667
         ]
        },
        {
         "hoverinfo": "text",
         "marker": {
          "color": "blue",
          "size": 0.5
         },
         "mode": "markers",
         "text": "Python appears with Microstrategy 14 times",
         "type": "scatter",
         "uid": "dc825df5-6e20-45c4-8160-0760485f10eb",
         "x": [
          0.594374090609242
         ],
         "y": [
          -0.6758102103493528
         ]
        },
        {
         "hoverinfo": "text",
         "marker": {
          "color": "green",
          "size": 0.5
         },
         "mode": "markers",
         "text": "Microstrategy appears with VBA 6 times",
         "type": "scatter",
         "uid": "7ccea5a8-541d-41a9-8c31-8fb28155163d",
         "x": [
          -0.061904828250821047
         ],
         "y": [
          -0.8978684715698821
         ]
        },
        {
         "hoverinfo": "text",
         "marker": {
          "color": "blue",
          "size": 0.5
         },
         "mode": "markers",
         "text": "VBA appears with Microstrategy 6 times",
         "type": "scatter",
         "uid": "6b07f04a-2075-4955-ae45-8dac8a873c4e",
         "x": [
          0.8234543549266579
         ],
         "y": [
          -0.3632119565106879
         ]
        },
        {
         "hoverinfo": "text",
         "marker": {
          "color": "green",
          "size": 0.5
         },
         "mode": "markers",
         "text": "Microstrategy appears with Linux 4 times",
         "type": "scatter",
         "uid": "1f5eef9b-fafb-4e1c-9067-9319ee06932e",
         "x": [
          -0.06275159274693434
         ],
         "y": [
          -0.8978096889696184
         ]
        },
        {
         "hoverinfo": "text",
         "marker": {
          "color": "blue",
          "size": 0.5
         },
         "mode": "markers",
         "text": "Linux appears with Microstrategy 4 times",
         "type": "scatter",
         "uid": "3368033f-ceb0-40ff-94f2-68593d1abc7b",
         "x": [
          0.8723422390100056
         ],
         "y": [
          -0.22140238941576537
         ]
        },
        {
         "hoverinfo": "text",
         "marker": {
          "color": "green",
          "size": 0.5
         },
         "mode": "markers",
         "text": "Microstrategy appears with AWS 2 times",
         "type": "scatter",
         "uid": "d026212a-4322-48a6-b2dc-be786ecd1e2a",
         "x": [
          -0.06478359837743396
         ],
         "y": [
          -0.8976653526683936
         ]
        },
        {
         "hoverinfo": "text",
         "marker": {
          "color": "blue",
          "size": 0.5
         },
         "mode": "markers",
         "text": "AWS appears with Microstrategy 2 times",
         "type": "scatter",
         "uid": "bb1b8b95-607d-4bd9-b222-d94188ea3ea0",
         "x": [
          0.8945195458235751
         ],
         "y": [
          -0.0991704700986388
         ]
        },
        {
         "hoverinfo": "text",
         "marker": {
          "color": "green",
          "size": 0.5
         },
         "mode": "markers",
         "text": "Oracle BI appears with Python 122 times",
         "type": "scatter",
         "uid": "8a81e19f-06e7-4373-bc52-8b4bbdcae6d0",
         "x": [
          0.21922890610976303
         ],
         "y": [
          -0.8728909936102657
         ]
        },
        {
         "hoverinfo": "text",
         "marker": {
          "color": "blue",
          "size": 0.5
         },
         "mode": "markers",
         "text": "Python appears with Oracle BI 122 times",
         "type": "scatter",
         "uid": "155ed29e-ccd9-4efc-9f00-e0f4e5432a16",
         "x": [
          0.7519605872277275
         ],
         "y": [
          -0.4945253029483236
         ]
        },
        {
         "hoverinfo": "text",
         "marker": {
          "color": "green",
          "size": 0.5
         },
         "mode": "markers",
         "text": "Oracle BI appears with VBA 57 times",
         "type": "scatter",
         "uid": "c05ddad7-4ac3-428d-a301-e92e401e2039",
         "x": [
          0.08782212705822318
         ],
         "y": [
          -0.89570490341349
         ]
        },
        {
         "hoverinfo": "text",
         "marker": {
          "color": "blue",
          "size": 0.5
         },
         "mode": "markers",
         "text": "VBA appears with Oracle BI 57 times",
         "type": "scatter",
         "uid": "c9fc0391-287d-47b5-b875-c18829440071",
         "x": [
          0.8499462103399679
         ],
         "y": [
          -0.29595850980961347
         ]
        },
        {
         "hoverinfo": "text",
         "marker": {
          "color": "green",
          "size": 0.5
         },
         "mode": "markers",
         "text": "Oracle BI appears with Linux 3 times",
         "type": "scatter",
         "uid": "a8c22327-00cf-4825-802e-995937357524",
         "x": [
          0.010339522013703953
         ],
         "y": [
          -0.8999406059760434
         ]
        },
        {
         "hoverinfo": "text",
         "marker": {
          "color": "blue",
          "size": 0.5
         },
         "mode": "markers",
         "text": "Linux appears with Oracle BI 3 times",
         "type": "scatter",
         "uid": "a88157b2-4152-4ed4-8f37-9d7086acf06c",
         "x": [
          0.8719504021443018
         ],
         "y": [
          -0.2229405665202957
         ]
        },
        {
         "hoverinfo": "text",
         "marker": {
          "color": "green",
          "size": 0.5
         },
         "mode": "markers",
         "text": "Oracle BI appears with AWS 42 times",
         "type": "scatter",
         "uid": "88f01c83-dd62-4197-bd49-88b667ed9f88",
         "x": [
          0.047956052831289606
         ],
         "y": [
          -0.898721434592968
         ]
        },
        {
         "hoverinfo": "text",
         "marker": {
          "color": "blue",
          "size": 0.5
         },
         "mode": "markers",
         "text": "AWS appears with Oracle BI 42 times",
         "type": "scatter",
         "uid": "098b1bc1-6f44-4411-a442-549bd8c705be",
         "x": [
          0.8987920462357804
         ],
         "y": [
          -0.046613920917458224
         ]
        },
        {
         "hoverinfo": "text",
         "marker": {
          "color": "green",
          "size": 0.5
         },
         "mode": "markers",
         "text": "Python appears with VBA 54 times",
         "type": "scatter",
         "uid": "5a6277eb-de2d-4120-8f00-3b5312cab3b8",
         "x": [
          0.6387269391236216
         ],
         "y": [
          -0.6340566987563253
         ]
        },
        {
         "hoverinfo": "text",
         "marker": {
          "color": "blue",
          "size": 0.5
         },
         "mode": "markers",
         "text": "VBA appears with Python 54 times",
         "type": "scatter",
         "uid": "242c2940-9fbd-44b4-a9c3-6a130115cfc5",
         "x": [
          0.8414292492856716
         ],
         "y": [
          -0.3193694074994522
         ]
        },
        {
         "hoverinfo": "text",
         "marker": {
          "color": "green",
          "size": 0.5
         },
         "mode": "markers",
         "text": "Python appears with Linux 74 times",
         "type": "scatter",
         "uid": "b3800348-b208-4ed8-929b-c8bee5762465",
         "x": [
          0.6724816029075847
         ],
         "y": [
          -0.5981375207682975
         ]
        },
        {
         "hoverinfo": "text",
         "marker": {
          "color": "blue",
          "size": 0.5
         },
         "mode": "markers",
         "text": "Linux appears with Python 74 times",
         "type": "scatter",
         "uid": "38f2f9a6-33fb-45cc-a0a1-8ee4cfcba883",
         "x": [
          0.8897638550952452
         ],
         "y": [
          -0.13535243686778411
         ]
        },
        {
         "hoverinfo": "text",
         "marker": {
          "color": "green",
          "size": 0.5
         },
         "mode": "markers",
         "text": "Python appears with AWS 73 times",
         "type": "scatter",
         "uid": "864bcead-cacb-49c9-a5eb-c110b6589d37",
         "x": [
          0.6599902218151651
         ],
         "y": [
          -0.6118928885911072
         ]
        },
        {
         "hoverinfo": "text",
         "marker": {
          "color": "blue",
          "size": 0.5
         },
         "mode": "markers",
         "text": "AWS appears with Python 73 times",
         "type": "scatter",
         "uid": "5bec2dfd-9a74-4722-bafb-1a102980e692",
         "x": [
          0.8993037458759666
         ],
         "y": [
          -0.03539452858076848
         ]
        },
        {
         "hoverinfo": "text",
         "marker": {
          "color": "green",
          "size": 0.5
         },
         "mode": "markers",
         "text": "VBA appears with AWS 4 times",
         "type": "scatter",
         "uid": "6360da3b-03fb-4def-97f3-4dae4d37e196",
         "x": [
          0.8230068858207968
         ],
         "y": [
          -0.3642247464019352
         ]
        },
        {
         "hoverinfo": "text",
         "marker": {
          "color": "blue",
          "size": 0.5
         },
         "mode": "markers",
         "text": "AWS appears with VBA 4 times",
         "type": "scatter",
         "uid": "02b2ce47-223a-47b9-b8dd-827c1d061b01",
         "x": [
          0.8946266323122283
         ],
         "y": [
          -0.09819973909171635
         ]
        },
        {
         "hoverinfo": "text",
         "marker": {
          "color": "green",
          "size": 0.5
         },
         "mode": "markers",
         "text": "Linux appears with AWS 20 times",
         "type": "scatter",
         "uid": "c0965bc4-1026-4031-9d59-220c457e175f",
         "x": [
          0.8746861020888
         ],
         "y": [
          -0.21195335055785552
         ]
        },
        {
         "hoverinfo": "text",
         "marker": {
          "color": "blue",
          "size": 0.5
         },
         "mode": "markers",
         "text": "AWS appears with Linux 20 times",
         "type": "scatter",
         "uid": "7e9e2ed8-d158-4146-9b1e-aa7cf08ead6c",
         "x": [
          0.8959042577572424
         ],
         "y": [
          -0.08576456688192863
         ]
        }
       ],
       "layout": {
        "autosize": true,
        "font": {
         "color": "#655643",
         "family": "Fira Sans Condensed",
         "size": 12
        },
        "hidesources": true,
        "hoverdistance": 40,
        "hovermode": "closest",
        "margin": {
         "b": 10,
         "l": 260,
         "r": 270,
         "t": 80
        },
        "paper_bgcolor": "#fffaf0",
        "plot_bgcolor": "#fffaf0",
        "shapes": [
         {
          "fillcolor": "#f2e6ce",
          "layer": "below",
          "line": {
           "color": "rgb(175,175,175)",
           "width": 0.5
          },
          "path": "M 0.9769932539575542,0.21327020823694517 Q 0.1846147933965143, 0.07692449583300726 0.8393681074650686, 0.5435634095213815L 0.8393681074650686, 0.5435634095213815 L 0.8527317880462364, 0.5223490190049835 L 0.8655594087456371, 0.5008062598769141 M 0.8655594087456371,0.5008062598769141 Q 0.18476514766153782, 0.07656265545035733 0.9660938919962404, 0.25819099877330476L 0.9660938919962404, 0.25819099877330476 L 0.9718031609067336, 0.23579358865686184 L 0.9769932539575542, 0.21327020823694517 ",
          "type": "path"
         },
         {
          "fillcolor": "#f2e6ce",
          "layer": "below",
          "line": {
           "color": "rgb(175,175,175)",
           "width": 0.5
          },
          "path": "M 0.9964221442643367,0.08451574066208839 Q 0.1448203637203744, 0.13793861769605517 0.13288851320584022, 0.9911309918764226L 0.13288851320584022, 0.9911309918764226 L 0.14698295156330793, 0.989139025592327 L 0.16104760807017246, 0.9869466388487658 M 0.16104760807017246,0.9869466388487658 Q 0.14491930886818308, 0.13783466152302967 0.9937735257740447, 0.11141893676850546L 0.9937735257740447, 0.11141893676850546 L 0.9951887493084242, 0.0979762892231304 L 0.9964221442643367, 0.08451574066208839 ",
          "type": "path"
         },
         {
          "fillcolor": "#f2e6ce",
          "layer": "below",
          "line": {
           "color": "rgb(175,175,175)",
           "width": 0.5
          },
          "path": "M 0.998326985493504,0.05782067135076389 Q 0.10368124693999943, 0.17102689564207985 -0.41047154387569484, 0.9118734076988447L -0.41047154387569484, 0.9118734076988447 L -0.39778357876909576, 0.9174792774017573 L -0.3850190760311547, 0.9229086147025154 M -0.3850190760311547,0.9229086147025154 Q 0.10376494220528994, 0.1709761292377765 0.9964221442643367, 0.08451574066208839L 0.9964221442643367, 0.08451574066208839 L 0.9974638737061107, 0.07117457868649588 L 0.998326985493504, 0.05782067135076389 ",
          "type": "path"
         },
         {
          "fillcolor": "#f2e6ce",
          "layer": "below",
          "line": {
           "color": "rgb(175,175,175)",
           "width": 0.5
          },
          "path": "M 0.9999970400927762,0.0024330650806097484 Q 0.07767766786058865, 0.1842991587494096 -0.6965653495292686, 0.7174933545581923L -0.6965653495292686, 0.7174933545581923 L -0.6961176331375002, 0.7179277406780189 L -0.695669645857633, 0.7183618474225336 M -0.695669645857633,0.7183618474225336 Q 0.07766807679356669, 0.18430320085985655 0.9999928377603762, 0.0037847626015443158L 0.9999928377603762, 0.0037847626015443158 L 0.9999951673134795, 0.003108914551115831 L 0.9999970400927762, 0.0024330650806097484 ",
          "type": "path"
         },
         {
          "fillcolor": "#f2e6ce",
          "layer": "below",
          "line": {
           "color": "rgb(175,175,175)",
           "width": 0.5
          },
          "path": "M 0.9994738401589149,0.0324352098496642 Q 0.05124049734299179, 0.1933246270707456 -0.8521982451332073, 0.5232190277425716L -0.8521982451332073, 0.5232190277425716 L -0.8496289546462471, 0.5273809244054295 L -0.8470393387938472, 0.5315302047256413 M -0.8470393387938472,0.5315302047256413 Q 0.051245320243311125, 0.1933233487014967 0.9991108436775926, 0.04216066941889167L 0.9991108436775926, 0.04216066941889167 L 0.9993041732913089, 0.03729838123261657 L 0.9994738401589149, 0.0324352098496642 ",
          "type": "path"
         },
         {
          "fillcolor": "#f2e6ce",
          "layer": "below",
          "line": {
           "color": "rgb(175,175,175)",
           "width": 0.5
          },
          "path": "M 0.9999994153267366,0.0010813631142126104 Q 0.03145177901852713, 0.19751148218918751 -0.9502028479598091, 0.31163207108554775L -0.9502028479598091, 0.31163207108554775 L -0.9500529654872865, 0.3120887097746615 L -0.9499028635680639, 0.31254527637638707 M -0.9499028635680639,0.31254527637638707 Q 0.03141321539041267, 0.19751761921113656 0.9999970400927762, 0.0024330650806097484L 0.9999970400927762, 0.0024330650806097484 L 0.9999984560974109, 0.0017572144987378967 L 0.9999994153267366, 0.0010813631142126104 ",
          "type": "path"
         },
         {
          "fillcolor": "#f2e6ce",
          "layer": "below",
          "line": {
           "color": "rgb(175,175,175)",
           "width": 0.5
          },
          "path": "M 0.9999868083372145,0.005136453207324572 Q 0.022138211703928167, 0.19877097268603397 -0.9743519795925237, 0.22502937555823757L -0.9743519795925237, 0.22502937555823757 L -0.9741358175509933, 0.22596329118743555 L -0.9739187603522614, 0.22689699917344527 M -0.9739187603522614,0.22689699917344527 Q 0.02211381084453799, 0.19877368882709803 0.9999733609401186, 0.007299137628739245L 0.9999733609401186, 0.007299137628739245 L 0.9999806693006277, 0.006217799053412771 L 0.9999868083372145, 0.005136453207324572 ",
          "type": "path"
         },
         {
          "fillcolor": "#f2e6ce",
          "layer": "below",
          "line": {
           "color": "rgb(175,175,175)",
           "width": 0.5
          },
          "path": "M 0.9999499743061336,0.010002443959482287 Q 0.005638504492631471, 0.19992050236803272 -0.9977966531097627, 0.06634635666678176L -0.9977966531097627, 0.06634635666678176 L -0.9976552980334148, 0.06843907002479138 L -0.9975095538419637, 0.07053148228987192 M -0.9975095538419637,0.07053148228987192 Q 0.005598437362412453, 0.1999216283924757 0.9998934451797534, 0.014597886373149741L 0.9998934451797534, 0.014597886373149741 L 0.9999243497075145, 0.01230019764085871 L 0.9999499743061336, 0.010002443959482287 ",
          "type": "path"
         },
         {
          "fillcolor": "#f2e6ce",
          "layer": "below",
          "line": {
           "color": "rgb(175,175,175)",
           "width": 0.5
          },
          "path": "M 0.9998105718250353,0.019463310789684014 Q -0.013653737143509113, 0.1995333943529653 -0.9931423799725825, -0.11691113335518834L -0.9931423799725825, -0.11691113335518834 L -0.993460208512969, -0.11417886889161287 L -0.9937705202511958, -0.11144574051827945 M -0.9937705202511958,-0.11144574051827945 Q -0.013698244791835554, 0.1995303437816488 0.9996771315343763, 0.025409303162450065L 0.9996771315343763, 0.025409303162450065 L 0.9997482721553951, 0.022436406180627668 L 0.9998105718250353, 0.019463310789684014 ",
          "type": "path"
         },
         {
          "fillcolor": "#f2e6ce",
          "layer": "below",
          "line": {
           "color": "rgb(175,175,175)",
           "width": 0.5
          },
          "path": "M 0.9999733609401186,0.007299137628739245 Q -0.02839532276184935, 0.19797400244792346 -0.961711335286034, -0.27406442232138306L -0.961711335286034, -0.27406442232138306 L -0.9620612174421338, -0.2728336744131107 L -0.9624095245520757, -0.2716024798330228 M -0.9624095245520757,-0.2716024798330228 Q -0.028409614300781972, 0.19797195209241336 0.9999499743061336, 0.010002443959482287L 0.9999499743061336, 0.010002443959482287 L 0.9999625811408659, 0.008650798697064558 L 0.9999733609401186, 0.007299137628739245 ",
          "type": "path"
         },
         {
          "fillcolor": "#f2e6ce",
          "layer": "below",
          "line": {
           "color": "rgb(175,175,175)",
           "width": 0.5
          },
          "path": "M 0.9900593803045922,0.1406500034514286 Q -0.07556664072014778, 0.18517473588552005 -0.8057877305328784, -0.5922044691849879L -0.8057877305328784, -0.5922044691849879 L -0.816664941434485, -0.5771120978040655 L -0.8272595099972835, -0.5618199917402855 M -0.8272595099972835,-0.5618199917402855 Q -0.07542563440732458, 0.18523221554106784 0.9844110384741006, 0.17588322071858575L 0.9844110384741006, 0.17588322071858575 L 0.9873923756834339, 0.15829180788096606 L 0.9900593803045922, 0.1406500034514286 ",
          "type": "path"
         },
         {
          "fillcolor": "#f2e6ce",
          "layer": "below",
          "line": {
           "color": "rgb(175,175,175)",
           "width": 0.5
          },
          "path": "M 0.9844110384741006,0.17588322071858575 Q -0.12535068851530293, 0.1558435269388482 -0.38281334806672246, -0.9238257089635179L -0.38281334806672246, -0.9238257089635179 L -0.4013825370998664, -0.9159105081345417 L -0.41978817672307056, -0.9076221056604561 M -0.41978817672307056,-0.9076221056604561 Q -0.1251749606530858, 0.1559847083066107 0.9769932539575542, 0.21327020823694517L 0.9769932539575542, 0.21327020823694517 L 0.9808802915245339, 0.1946120594895017 L 0.9844110384741006, 0.17588322071858575 ",
          "type": "path"
         },
         {
          "fillcolor": "#f2e6ce",
          "layer": "below",
          "line": {
           "color": "rgb(175,175,175)",
           "width": 0.5
          },
          "path": "M 0.9998934451797534,0.014597886373149741 Q -0.1385037532650528, 0.14427997203871845 -0.05541687537299158, -0.9984633042450255L -0.05541687537299158, -0.9984633042450255 L -0.057111790857981654, -0.9983677896171301 L -0.058806541754698745, -0.9982693978314936 M -0.058806541754698745,-0.9982693978314936 Q -0.13860982832418536, 0.14417806869264085 0.9998105718250353, 0.019463310789684014L 0.9998105718250353, 0.019463310789684014 L 0.9998549679803368, 0.017030648990557853 L 0.9998934451797534, 0.014597886373149741 ",
          "type": "path"
         },
         {
          "fillcolor": "#f2e6ce",
          "layer": "below",
          "line": {
           "color": "rgb(175,175,175)",
           "width": 0.5
          },
          "path": "M 0.9937735257740447,0.11141893676850546 Q -0.1592047979581107, 0.1210530144486999 0.15827947885675117, -0.9873943521070166L 0.15827947885675117, -0.9873943521070166 L 0.14268589779299382, -0.9897680205841202 L 0.12705681732364607, -0.9918954406446204 M 0.12705681732364607,-0.9918954406446204 Q -0.15907884152036345, 0.12121848943349814 0.9900593803045922, 0.1406500034514286L 0.9900593803045922, 0.1406500034514286 L 0.9920241245176237, 0.12604815101794328 L 0.9937735257740447, 0.11141893676850546 ",
          "type": "path"
         },
         {
          "fillcolor": "#f2e6ce",
          "layer": "below",
          "line": {
           "color": "rgb(175,175,175)",
           "width": 0.5
          },
          "path": "M 0.9991108436775926,0.04216066941889167 Q -0.18733111861776847, 0.0700503532997198 0.7263134973169424, -0.6873635890962162L 0.7263134973169424, -0.6873635890962162 L 0.7206902625455371, -0.6932572000866957 L 0.7150192060692138, -0.6991048097046331 M 0.7150192060692138,-0.6991048097046331 Q -0.18730967289527292, 0.07010767746734921 0.998326985493504, 0.05782067135076389L 0.998326985493504, 0.05782067135076389 L 0.9987496078928203, 0.049992206732026624 L 0.9991108436775926, 0.04216066941889167 ",
          "type": "path"
         },
         {
          "fillcolor": "#f2e6ce",
          "layer": "below",
          "line": {
           "color": "rgb(175,175,175)",
           "width": 0.5
          },
          "path": "M 0.9996771315343763,0.025409303162450065 Q -0.196549618632948, 0.03698982853762233 0.9220501395139463, -0.3870704589894613L 0.9220501395139463, -0.3870704589894613 L 0.9208073091127239, -0.39001781944493824 L 0.9195550574152933, -0.39296118940928076 M 0.9195550574152933,-0.39296118940928076 Q -0.19656128831047473, 0.03692776648710878 0.9994738401589149, 0.0324352098496642L 0.9994738401589149, 0.0324352098496642 L 0.999581658868725, 0.02892243511960911 L 0.9996771315343763, 0.025409303162450065 ",
          "type": "path"
         },
         {
          "fillcolor": "#f2e6ce",
          "layer": "below",
          "line": {
           "color": "rgb(175,175,175)",
           "width": 0.5
          },
          "path": "M 1.0,0.0 Q -0.19845167418701512, 0.024838136249944447 0.9691533493814598, -0.24645848612433321L 0.9691533493814598, -0.24645848612433321 L 0.9690373299375039, -0.24691426282738962 L 0.9689210961493567, -0.24736998491476064 M 0.9689210961493567,-0.24736998491476064 Q -0.19845342155903223, 0.024824171114320132 0.9999994153267366, 0.0010813631142126104L 0.9999994153267366, 0.0010813631142126104 L 0.9999998538316734, 0.0005406816361368352 L 1.0, 0.0 ",
          "type": "path"
         },
         {
          "fillcolor": "#f2e6ce",
          "layer": "below",
          "line": {
           "color": "rgb(175,175,175)",
           "width": 0.5
          },
          "path": "M 0.9999928377603762,0.0037847626015443158 Q -0.19972953341904306, 0.01039776323116504 0.9941942039968228, -0.10760057964120812L 0.9941942039968228, -0.10760057964120812 L 0.9941356771871769, -0.10813998031992207 L 0.9940768577253819, -0.10867934916455303 M 0.9940768577253819,-0.10867934916455303 Q -0.19973091751605598, 0.010371142087274573 0.9999868083372145, 0.005136453207324572L 0.9999868083372145, 0.005136453207324572 L 0.9999900514345302, 0.004460608923184025 L 0.9999928377603762, 0.0037847626015443158 ",
          "type": "path"
         },
         {
          "fillcolor": "#ecd5bb",
          "layer": "below",
          "line": {
           "color": "rgb(175,175,175)",
           "width": 0.5
          },
          "path": "M 0.5531569017854665,0.8330770924753026 Q 0.0379471904639816, 0.19636703067442435 -0.20294299197046653, 0.9791905544939019L -0.20294299197046653, 0.9791905544939019 L -0.14646817099332418, 0.9892153834660429 L -0.08951148399956665, 0.9959857901758414 M -0.08951148399956665,0.9959857901758414 Q 0.037608326357505675, 0.1964322116878679 0.451072883687939, 0.8924871167705711L 0.451072883687939, 0.8924871167705711 L 0.5029927964242448, 0.8642906031800406 L 0.5531569017854665, 0.8330770924753026 ",
          "type": "path"
         },
         {
          "fillcolor": "#ecd5bb",
          "layer": "below",
          "line": {
           "color": "rgb(175,175,175)",
           "width": 0.5
          },
          "path": "M 0.8088305834509926,0.5880417393980865 Q 0.03160940955116714, 0.19748631655845572 -0.5848828885204265, 0.8111177514491976L -0.5848828885204265, 0.8111177514491976 L -0.5596061773012315, 0.8287586659132455 L -0.5337977764223092, 0.8456121651718348 M -0.5337977764223092,0.8456121651718348 Q 0.03132639313992371, 0.19753140786427598 0.7692359869278472, 0.6389647849569965L 0.7692359869278472, 0.6389647849569965 L 0.7894439905902491, 0.6138226011812719 L 0.8088305834509926, 0.5880417393980865 ",
          "type": "path"
         },
         {
          "fillcolor": "#ecd5bb",
          "layer": "below",
          "line": {
           "color": "rgb(175,175,175)",
           "width": 0.5
          },
          "path": "M 0.9466727357560839,0.32219672775509633 Q 0.05146228067978155, 0.19326570742693952 -0.6610891992989564, 0.7503073174175131L -0.6610891992989564, 0.7503073174175131 L -0.6569177929619041, 0.7539622094575171 L -0.6527261805780565, 0.7575939104744588 M -0.6527261805780565,0.7575939104744588 Q 0.05108880862319387, 0.19336476833555455 0.9417482615943009, 0.33631861646972827L 0.9417482615943009, 0.33631861646972827 L 0.944236899693966, 0.3292668784684049 L 0.9466727357560839, 0.32219672775509633 ",
          "type": "path"
         },
         {
          "fillcolor": "#ecd5bb",
          "layer": "below",
          "line": {
           "color": "rgb(175,175,175)",
           "width": 0.5
          },
          "path": "M 0.9148208013953056,0.40386000214734163 Q 0.023990979982560848, 0.19855586840855743 -0.7923033997491212, 0.6101273004430995L -0.7923033997491212, 0.6101273004430995 L -0.7851709795262866, 0.6192790428471899 L -0.7779328550264913, 0.6283474143102142 M -0.7779328550264913,0.6283474143102142 Q 0.023587174352694654, 0.19860424266882012 0.9034675997333738, 0.4286563848025785L 0.9034675997333738, 0.4286563848025785 L 0.9092287350100461, 0.41629689817728815 L 0.9148208013953056, 0.40386000214734163 ",
          "type": "path"
         },
         {
          "fillcolor": "#ecd5bb",
          "layer": "below",
          "line": {
           "color": "rgb(175,175,175)",
           "width": 0.5
          },
          "path": "M 0.8886349909408555,0.45861514680126486 Q -0.012572022756362567, 0.1996044694985899 -0.9391554718801335, 0.3434923574660779L -0.9391554718801335, 0.3434923574660779 L -0.9312694255728065, 0.3643312462489255 L -0.9229210514791872, 0.38498926314450826 M -0.9229210514791872,0.38498926314450826 Q -0.012924370309305414, 0.19958196474658713 0.8655594087456371, 0.5008062598769141L 0.8655594087456371, 0.5008062598769141 L 0.8773508536945206, 0.47984943422025195 L 0.8886349909408555, 0.45861514680126486 ",
          "type": "path"
         },
         {
          "fillcolor": "#ecd5bb",
          "layer": "below",
          "line": {
           "color": "rgb(175,175,175)",
           "width": 0.5
          },
          "path": "M 0.9512046494374602,0.30856071507656074 Q -0.003483174949340209, 0.19996966643036712 -0.9613737039985379, 0.27524643732504805L -0.9613737039985379, 0.27524643732504805 L -0.9600666472581456, 0.2797713938602433 L -0.958738292755466, 0.28429014405064135 M -0.958738292755466,0.28429014405064135 Q -0.003978048207159119, 0.1999604339174666 0.9466727357560839, 0.32219672775509633L 0.9466727357560839, 0.32219672775509633 L 0.9489631855439458, 0.31538686161964113 L 0.9512046494374602, 0.30856071507656074 ",
          "type": "path"
         },
         {
          "fillcolor": "#ecd5bb",
          "layer": "below",
          "line": {
           "color": "rgb(175,175,175)",
           "width": 0.5
          },
          "path": "M 0.9358919409609553,0.3522872050533991 Q -0.024529728369586612, 0.19849003104970864 -0.9934979514331134, 0.1138499912086389L -0.9934979514331134, 0.1138499912086389 L -0.9926682432383516, 0.12087083546532222 L -0.9917889208199381, 0.1278856385166939 M -0.9917889208199381,0.1278856385166939 Q -0.024843572274163995, 0.19845099374066735 0.929656870974601, 0.36842652218551536L 0.929656870974601, 0.36842652218551536 L 0.9328093116054933, 0.3603703486443991 L 0.9358919409609553, 0.3522872050533991 ",
          "type": "path"
         },
         {
          "fillcolor": "#ecd5bb",
          "layer": "below",
          "line": {
           "color": "rgb(175,175,175)",
           "width": 0.5
          },
          "path": "M 0.929656870974601,0.36842652218551536 Q -0.036245433655472746, 0.19668825216348518 -0.9999174702350132, 0.012847284491727486L -0.9999174702350132, 0.012847284491727486 L -0.9997874017109278, 0.020619199308210805 L -0.9995969264542057, 0.02838986832137823 M -0.9995969264542057,0.02838986832137823 Q -0.03653344765369388, 0.1966349592583547 0.9226918954755464, 0.38553815119095963L 0.9226918954755464, 0.38553815119095963 L 0.9262139008372476, 0.37699842160922803 L 0.929656870974601, 0.36842652218551536 ",
          "type": "path"
         },
         {
          "fillcolor": "#ecd5bb",
          "layer": "below",
          "line": {
           "color": "rgb(175,175,175)",
           "width": 0.5
          },
          "path": "M 0.9226918954755464,0.38553815119095963 Q -0.05682965586212312, 0.19175606956389324 -0.9837639353075154, -0.17946732178385746L -0.9837639353075154, -0.17946732178385746 L -0.9852542151835777, -0.1710968481971318 L -0.9866732752077593, -0.16271400674432804 M -0.9866732752077593,-0.16271400674432804 Q -0.057111197286044295, 0.1916724057984209 0.9148208013953056, 0.40386000214734163L 0.9148208013953056, 0.40386000214734163 L 0.9188020191238235, 0.39471869686396294 L 0.9226918954755464, 0.38553815119095963 ",
          "type": "path"
         },
         {
          "fillcolor": "#ecd5bb",
          "layer": "below",
          "line": {
           "color": "rgb(175,175,175)",
           "width": 0.5
          },
          "path": "M 0.9034675997333738,0.4286563848025785 Q -0.08247406069126623, 0.18220326372788534 -0.9182714902291986, -0.39595134831472256L -0.9182714902291986, -0.39595134831472256 L -0.9239491311289155, -0.3825153632027373 L -0.9294301914084047, -0.36899799362399827 M -0.9294301914084047,-0.36899799362399827 Q -0.08286179810900522, 0.18202725733840652 0.8886349909408555, 0.45861514680126486L 0.8886349909408555, 0.45861514680126486 L 0.8961764925116283, 0.44369775103053594 L 0.9034675997333738, 0.4286563848025785 ",
          "type": "path"
         },
         {
          "fillcolor": "#ecd5bb",
          "layer": "below",
          "line": {
           "color": "rgb(175,175,175)",
           "width": 0.5
          },
          "path": "M 0.7144420698335249,0.6996945968435005 Q -0.1480361927088997, 0.13448154389451927 -0.6280831265666241, -0.7781462498285872L -0.6280831265666241, -0.7781462498285872 L -0.6650569993356892, -0.7467926001471955 L -0.7004679092699896, -0.713683899273992 M -0.7004679092699896,-0.713683899273992 Q -0.148299105575764, 0.13419156190099438 0.6403444318910475, 0.7680878911596847L 0.6403444318910475, 0.7680878911596847 L 0.6782558713277985, 0.7348258113385572 L 0.7144420698335249, 0.6996945968435005 ",
          "type": "path"
         },
         {
          "fillcolor": "#ecd5bb",
          "layer": "below",
          "line": {
           "color": "rgb(175,175,175)",
           "width": 0.5
          },
          "path": "M 0.6403444318910475,0.7680878911596847 Q -0.18426685724930095, 0.07775426238776721 -0.1034631475476842, -0.9946332877495736L -0.1034631475476842, -0.9946332877495736 L -0.1561211673100646, -0.9877379111473563 L -0.20833886086140574, -0.9780567054393993 M -0.20833886086140574,-0.9780567054393993 Q -0.184366621580362, 0.07751740996088304 0.5531569017854665, 0.8330770924753026L 0.5531569017854665, 0.8330770924753026 L 0.5976347190749671, 0.8017685093318302 L 0.6403444318910475, 0.7680878911596847 ",
          "type": "path"
         },
         {
          "fillcolor": "#ecd5bb",
          "layer": "below",
          "line": {
           "color": "rgb(175,175,175)",
           "width": 0.5
          },
          "path": "M 0.9575072077208951,0.28840933958964377 Q -0.15829281236409598, 0.1222431411321924 -0.036951834090696266, -0.9993170477667904L -0.036951834090696266, -0.9993170477667904 L -0.03987332808857286, -0.9992047426364333 L -0.04279448125962398, -0.9990838965641072 M -0.04279448125962398,-0.9990838965641072 Q -0.15849085832823884, 0.12198626080988845 0.9548457741889996, 0.2971019143550071L 0.9548457741889996, 0.2971019143550071 L 0.9561863688993529, 0.2927586513342869 L 0.9575072077208951, 0.28840933958964377 ",
          "type": "path"
         },
         {
          "fillcolor": "#ecd5bb",
          "layer": "below",
          "line": {
           "color": "rgb(175,175,175)",
           "width": 0.5
          },
          "path": "M 0.451072883687939,0.8924871167705711 Q -0.19879712831171728, -0.021902095219741277 0.634551591716768, -0.7728805065789383L 0.634551591716768, -0.7728805065789383 L 0.576190763952352, -0.8173152412233636 L 0.5147297810439737, -0.8573524669040283 M 0.5147297810439737,-0.8573524669040283 Q -0.1987757388047351, -0.022095376498981245 0.3138894170282134, 0.9494595483103471L 0.3138894170282134, 0.9494595483103471 L 0.3835404735723805, 0.9235240685179105 L 0.451072883687939, 0.8924871167705711 ",
          "type": "path"
         },
         {
          "fillcolor": "#ecd5bb",
          "layer": "below",
          "line": {
           "color": "rgb(175,175,175)",
           "width": 0.5
          },
          "path": "M 0.7692359869278472,0.6389647849569965 Q -0.19852708071526393, -0.02422804620011879 0.9003275588971001, -0.43521292109769527L 0.9003275588971001, -0.43521292109769527 L 0.8825871624282315, -0.47014880699293754 L 0.8634917847944953, -0.5043629026726857 M 0.8634917847944953,-0.5043629026726857 Q -0.19848500476666778, -0.024570365947129726 0.7144420698335249, 0.6996945968435005L 0.7144420698335249, 0.6996945968435005 L 0.7424602154605612, 0.6698901614878794 L 0.7692359869278472, 0.6389647849569965 ",
          "type": "path"
         },
         {
          "fillcolor": "#ecd5bb",
          "layer": "below",
          "line": {
           "color": "rgb(175,175,175)",
           "width": 0.5
          },
          "path": "M 0.8393681074650686,0.5435634095213815 Q -0.19787385859061482, -0.029084980427385106 0.9602801651987142, -0.2790376396222027L 0.9602801651987142, -0.2790376396222027 L 0.9537181512252388, -0.30070199205112097 L 0.9466674480716084, -0.3222122635183035 M 0.9466674480716084,-0.3222122635183035 Q -0.1977456873993726, -0.029943999648504194 0.8088305834509926, 0.5880417393980865L 0.8088305834509926, 0.5880417393980865 L 0.8243993641685501, 0.5660085585558671 L 0.8393681074650686, 0.5435634095213815 ",
          "type": "path"
         },
         {
          "fillcolor": "#ecd5bb",
          "layer": "below",
          "line": {
           "color": "rgb(175,175,175)",
           "width": 0.5
          },
          "path": "M 0.9417482615943009,0.33631861646972827 Q -0.19930026334059325, -0.016715413018235235 0.9846121615795148, -0.17475380187485295L 0.9846121615795148, -0.17475380187485295 L 0.983397539301821, -0.1814642656148129 L 0.9821371835011534, -0.18816629024461778 M 0.9821371835011534,-0.18816629024461778 Q -0.199271816945215, -0.017051186801883646 0.9358919409609553, 0.3522872050533991L 0.9358919409609553, 0.3522872050533991 L 0.9388540522990112, 0.34431536196011564 L 0.9417482615943009, 0.33631861646972827 ",
          "type": "path"
         },
         {
          "fillcolor": "#ecd5bb",
          "layer": "below",
          "line": {
           "color": "rgb(175,175,175)",
           "width": 0.5
          },
          "path": "M 0.9548457741889996,0.2971019143550071 Q -0.1984978016702858, -0.0244667679120861 0.9984114074689946, -0.05634413399619569L 0.9984114074689946, -0.05634413399619569 L 0.998150849391282, -0.06078553988789038 L 0.9978705339388071, -0.06522574259201745 M 0.9978705339388071,-0.06522574259201745 Q -0.19845932546468192, -0.024776927495221503 0.9512046494374602, 0.30856071507656074L 0.9512046494374602, 0.30856071507656074 L 0.9530424336723659, 0.30283678709802453 L 0.9548457741889996, 0.2971019143550071 ",
          "type": "path"
         },
         {
          "fillcolor": "#e6c4a9",
          "layer": "below",
          "line": {
           "color": "rgb(175,175,175)",
           "width": 0.5
          },
          "path": "M -0.027564993101843484,0.999620013382733 Q -0.058210529659021154, 0.19134140753327866 -0.5337977764223092, 0.8456121651718348L -0.5337977764223092, 0.8456121651718348 L -0.507723649229307, 0.8615199916503827 L -0.48117585697071286, 0.8766240897149131 M -0.48117585697071286,0.8766240897149131 Q -0.05830362395946348, 0.191313061324086 -0.08951148399956665, 0.9959857901758414L -0.08951148399956665, 0.9959857901758414 L -0.058566434646464785, 0.9982835132029384 L -0.027564993101843484, 0.999620013382733 ",
          "type": "path"
         },
         {
          "fillcolor": "#e6c4a9",
          "layer": "below",
          "line": {
           "color": "rgb(175,175,175)",
           "width": 0.5
          },
          "path": "M 0.2609021783301194,0.9653652434921192 Q -0.04180166435841593, 0.19558277239283206 -0.6327335537163521, 0.7743695823064566L -0.6327335537163521, 0.7743695823064566 L -0.6302883204206283, 0.7763611486552785 L -0.6278368185909056, 0.7783449937024394 M -0.6278368185909056,0.7783449937024394 Q -0.041992218544164385, 0.19554194839404446 0.2529232420108114, 0.9674863480435992L 0.2529232420108114, 0.9674863480435992 L 0.2569148991753168, 0.9664340301240105 L 0.2609021783301194, 0.9653652434921192 ",
          "type": "path"
         },
         {
          "fillcolor": "#e6c4a9",
          "layer": "below",
          "line": {
           "color": "rgb(175,175,175)",
           "width": 0.5
          },
          "path": "M 0.22639021248299737,0.9740366890892269 Q -0.05944904193069678, 0.19096023516303665 -0.7392677801266537, 0.6734115749425529L -0.7392677801266537, 0.6734115749425529 L -0.7347987799924453, 0.6782851560528316 L -0.7302976516963781, 0.6831290799891011 M -0.7302976516963781,0.6831290799891011 Q -0.059626980536085034, 0.19090474900365717 0.21166804999319352, 0.9773416171493359L 0.21166804999319352, 0.9773416171493359 L 0.2190353646521162, 0.9757169205418724 L 0.22639021248299737, 0.9740366890892269 ",
          "type": "path"
         },
         {
          "fillcolor": "#e6c4a9",
          "layer": "below",
          "line": {
           "color": "rgb(175,175,175)",
           "width": 0.5
          },
          "path": "M 0.13288851320584022,0.9911309918764226 Q -0.09319695593636337, 0.17695854713518516 -0.8924637201531285, 0.45111917295814236L -0.8924637201531285, 0.45111917295814236 L -0.8856854296766499, 0.4642858167750637 L -0.8787129033094161, 0.4773506400514582 M -0.8787129033094161,0.4773506400514582 Q -0.09332197706061328, 0.17689264709845454 0.10207320792028932, 0.9947768896716798L 0.10207320792028932, 0.9947768896716798 L 0.11749500304830683, 0.993073473746368 L 0.13288851320584022, 0.9911309918764226 ",
          "type": "path"
         },
         {
          "fillcolor": "#e6c4a9",
          "layer": "below",
          "line": {
           "color": "rgb(175,175,175)",
           "width": 0.5
          },
          "path": "M 0.26776631822784114,0.9634838861250906 Q -0.09638398915254738, 0.17524305017615288 -0.9570827732813116, 0.28981470819845134L -0.9570827732813116, 0.28981470819845134 L -0.9563835748344663, 0.2921137754143866 L -0.9556788536659984, 0.2944111557934641 M -0.9556788536659984,0.2944111557934641 Q -0.09658643881986291, 0.17513155008763237 0.2609021783301194, 0.9653652434921192L 0.2609021783301194, 0.9653652434921192 L 0.2643359220567634, 0.9644306715935577 L 0.26776631822784114, 0.9634838861250906 ",
          "type": "path"
         },
         {
          "fillcolor": "#e6c4a9",
          "layer": "below",
          "line": {
           "color": "rgb(175,175,175)",
           "width": 0.5
          },
          "path": "M 0.2529232420108114,0.9674863480435992 Q -0.10495471451158177, 0.17024837121626854 -0.9779897063178242, 0.20865314360530468L -0.9779897063178242, 0.20865314360530468 L -0.9772333287748237, 0.21216743654877226 L -0.9764643230691074, 0.21567898778784605 M -0.9764643230691074,0.21567898778784605 Q -0.10506971321346548, 0.17017742319485307 0.24465103469502972, 0.9696111959041374L 0.24465103469502972, 0.9696111959041374 L 0.24878940683727452, 0.9685576033698549 L 0.2529232420108114, 0.9674863480435992 ",
          "type": "path"
         },
         {
          "fillcolor": "#e6c4a9",
          "layer": "below",
          "line": {
           "color": "rgb(175,175,175)",
           "width": 0.5
          },
          "path": "M 0.24465103469502972,0.9696111959041374 Q -0.11925635147709346, 0.16055504549023664 -0.9989461452725535, 0.045897699780124514L -0.9989461452725535, 0.045897699780124514 L -0.9987694150072554, 0.04959491552634198 L -0.9985790009638957, 0.05329145179058164 M -0.9985790009638957,0.05329145179058164 Q -0.1193476796524306, 0.16048716883782582 0.23636098145819523, 0.9716653160652173L 0.23636098145819523, 0.9716653160652173 L 0.24050820105218151, 0.9706471064329422 L 0.24465103469502972, 0.9696111959041374 ",
          "type": "path"
         },
         {
          "fillcolor": "#e6c4a9",
          "layer": "below",
          "line": {
           "color": "rgb(175,175,175)",
           "width": 0.5
          },
          "path": "M 0.23636098145819523,0.9716653160652173 Q -0.13432962988610736, 0.14817405486339846 -0.9901201770525428, -0.14022137851783223L -0.9901201770525428, -0.14022137851783223 L -0.9907412991985955, -0.13576331633500638 L -0.9913423488158093, -0.13130250357230158 M -0.9913423488158093,-0.13130250357230158 Q -0.13442196627462985, 0.1480902933445075 0.22639021248299737, 0.9740366890892269L 0.22639021248299737, 0.9740366890892269 L 0.2313786349817213, 0.9728637763191696 L 0.23636098145819523, 0.9716653160652173 ",
          "type": "path"
         },
         {
          "fillcolor": "#e6c4a9",
          "layer": "below",
          "line": {
           "color": "rgb(175,175,175)",
           "width": 0.5
          },
          "path": "M 0.17872226333256822,0.9838995642794462 Q -0.15217846753650946, 0.1297756295235725 -0.943331599603366, -0.33185161320951095L -0.943331599603366, -0.33185161320951095 L -0.9459759595664035, -0.3242367713915592 L -0.9485588514726231, -0.31660086116897757 M -0.9485588514726231,-0.31660086116897757 Q -0.152296094608095, 0.12963757004480675 0.16104760807017246, 0.9869466388487658L 0.16104760807017246, 0.9869466388487658 L 0.16989176714637033, 0.9854627275832828 L 0.17872226333256822, 0.9838995642794462 ",
          "type": "path"
         },
         {
          "fillcolor": "#e6c4a9",
          "layer": "below",
          "line": {
           "color": "rgb(175,175,175)",
           "width": 0.5
          },
          "path": "M 0.19578109328222104,0.9806476245386099 Q -0.16421798467108495, 0.11415977185754755 -0.8510086558230809, -0.5251516616313738L -0.8510086558230809, -0.5251516616313738 L -0.855492002800453, -0.5178160224872052 L -0.859912118651397, -0.5104421105242647 M -0.859912118651397,-0.5104421105242647 Q -0.16422778875831115, 0.11414566745853971 0.17872226333256822, 0.9838995642794462L 0.17872226333256822, 0.9838995642794462 L 0.18725873759842437, 0.9823106256134281 L 0.19578109328222104, 0.9806476245386099 ",
          "type": "path"
         },
         {
          "fillcolor": "#e6c4a9",
          "layer": "below",
          "line": {
           "color": "rgb(175,175,175)",
           "width": 0.5
          },
          "path": "M 0.10207320792028932,0.9947768896716798 Q -0.19287469348885747, 0.05290890862207688 -0.41978817672307056, -0.9076221056604561L -0.41978817672307056, -0.9076221056604561 L -0.4354469918007201, -0.9002143729866257 L -0.45097514099624586, -0.8925365102915489 M -0.45097514099624586,-0.8925365102915489 Q -0.19286945796822402, 0.05292799054416737 0.06775156079434391, 0.99770222311566L 0.06775156079434391, 0.99770222311566 L 0.08492498107850413, 0.9963873481677774 L 0.10207320792028932, 0.9947768896716798 ",
          "type": "path"
         },
         {
          "fillcolor": "#e6c4a9",
          "layer": "below",
          "line": {
           "color": "rgb(175,175,175)",
           "width": 0.5
          },
          "path": "M 0.27981404677942423,0.9600542168153433 Q -0.19726207608880558, 0.03297989292181341 -0.04769364604412323, -0.9988620105535188L -0.04769364604412323, -0.9988620105535188 L -0.04967183637373343, -0.9987655924546365 L -0.05164983186390581, -0.998665256664329 M -0.05164983186390581,-0.998665256664329 Q -0.19729524360255024, 0.03278089156521476 0.2740693554308272, 0.9617099294557225L 0.2740693554308272, 0.9617099294557225 L 0.2769429384495798, 0.9608863662488465 L 0.27981404677942423, 0.9600542168153433 ",
          "type": "path"
         },
         {
          "fillcolor": "#e6c4a9",
          "layer": "below",
          "line": {
           "color": "rgb(175,175,175)",
           "width": 0.5
          },
          "path": "M 0.03135772034604225,0.9995082257664013 Q -0.19727597478524217, -0.032896652907742664 0.35398735977495366, -0.9352502066931381L 0.35398735977495366, -0.9352502066931381 L 0.3258173870332298, -0.9454327211953468 L 0.29735508084264517, -0.9547669641839646 M 0.29735508084264517,-0.9547669641839646 Q -0.1972920462037302, -0.03280012964524979 -0.027564993101843484, 0.999620013382733L -0.027564993101843484, 0.999620013382733 L 0.0018971871560322132, 0.9999982003388281 L 0.03135772034604225, 0.9995082257664013 ",
          "type": "path"
         },
         {
          "fillcolor": "#e6c4a9",
          "layer": "below",
          "line": {
           "color": "rgb(175,175,175)",
           "width": 0.5
          },
          "path": "M 0.06775156079434391,0.99770222311566 Q -0.17673182539692883, -0.09362618165806756 0.8634917847944953, -0.5043629026726857L 0.8634917847944953, -0.5043629026726857 L 0.8542857271079152, -0.5198037095478453 L 0.8448035898900185, -0.5350765314503501 M 0.8448035898900185,-0.5350765314503501 Q -0.17670905519063154, -0.0936691508108958 0.03135772034604225, 0.9995082257664013L 0.03135772034604225, 0.9995082257664013 L 0.04956286728423455, 0.9987710058800092 L 0.06775156079434391, 0.99770222311566 ",
          "type": "path"
         },
         {
          "fillcolor": "#e6c4a9",
          "layer": "below",
          "line": {
           "color": "rgb(175,175,175)",
           "width": 0.5
          },
          "path": "M 0.21166804999319352,0.9773416171493359 Q -0.17477180954548927, -0.09723587089235758 0.942055468215079, -0.3354571430243633L 0.942055468215079, -0.3354571430243633 L 0.9396799327889575, -0.3420550012991193 L 0.9372581886938776, -0.34863603905257967 M 0.9372581886938776,-0.34863603905257967 Q -0.17466462357304435, -0.09742827757939031 0.19578109328222104, 0.9806476245386099L 0.19578109328222104, 0.9806476245386099 L 0.20373127769240995, 0.9790268466644917 L 0.21166804999319352, 0.9773416171493359 ",
          "type": "path"
         },
         {
          "fillcolor": "#e6c4a9",
          "layer": "below",
          "line": {
           "color": "rgb(175,175,175)",
           "width": 0.5
          },
          "path": "M 0.2839112864226696,0.9588505521935234 Q -0.17342268989762566, -0.0996221392496265 0.9713169595728378, -0.2377884859411365L 0.9713169595728378, -0.2377884859411365 L 0.9708960691535798, -0.23950119603485706 L 0.9704721587382051, -0.24121316115421235 M 0.9704721587382051,-0.24121316115421235 Q -0.17338566575935632, -0.09968656333320342 0.27981404677942423, 0.9600542168153433L 0.27981404677942423, 0.9600542168153433 L 0.2818633091155771, 0.9594545716053557 L 0.2839112864226696, 0.9588505521935234 ",
          "type": "path"
         },
         {
          "fillcolor": "#e6c4a9",
          "layer": "below",
          "line": {
           "color": "rgb(175,175,175)",
           "width": 0.5
          },
          "path": "M 0.2740693554308272,0.9617099294557225 Q -0.16479009173819167, -0.11333236812543174 0.9961061238306093, -0.0881622939082178L 0.9961061238306093, -0.0881622939082178 L 0.9958829856606657, -0.09064810462220514 L 0.9956536440902435, -0.09313335068501902 M 0.9956536440902435,-0.09313335068501902 Q -0.16470185142578275, -0.11346056644014864 0.26776631822784114, 0.9634838861250906L 0.26776631822784114, 0.9634838861250906 L 0.2709192887980698, 0.9626020667737776 L 0.2740693554308272, 0.9617099294557225 ",
          "type": "path"
         },
         {
          "fillcolor": "#e1b396",
          "layer": "below",
          "line": {
           "color": "rgb(175,175,175)",
           "width": 0.5
          },
          "path": "M -0.28447755009344844,0.9586827021975673 Q -0.09585340551807464, 0.17553382765321202 -0.6527261805780565, 0.7575939104744588L -0.6527261805780565, 0.7575939104744588 L -0.6488455422559825, 0.7609201418641381 L -0.6449479540321247, 0.7642264956083219 M -0.6449479540321247,0.7642264956083219 Q -0.09611208765282113, 0.17539232197281737 -0.29707907346764445, 0.9548528808709779L -0.29707907346764445, 0.9548528808709779 L -0.2907846170016445, 0.9567885380350284 L -0.28447755009344844, 0.9586827021975673 ",
          "type": "path"
         },
         {
          "fillcolor": "#e1b396",
          "layer": "below",
          "line": {
           "color": "rgb(175,175,175)",
           "width": 0.5
          },
          "path": "M -0.3247769909425475,0.9457906249029456 Q -0.11343765099348385, 0.16471763517328847 -0.7677996393067984, 0.6406900294841105L -0.7677996393067984, 0.6406900294841105 L -0.7628208096754865, 0.646609938313691 L -0.7577963373742285, 0.6524911578421615 M -0.7577963373742285,0.6524911578421615 Q -0.11359438067648837, 0.16460958865972858 -0.3411594732912399, 0.9400054328479404L -0.3411594732912399, 0.9400054328479404 L -0.33298079630937855, 0.9429336081024857 L -0.3247769909425475, 0.9457906249029456 ",
          "type": "path"
         },
         {
          "fillcolor": "#e1b396",
          "layer": "below",
          "line": {
           "color": "rgb(175,175,175)",
           "width": 0.5
          },
          "path": "M -0.4439134159755016,0.8960696842974665 Q -0.145925996940505, 0.13676842989856877 -0.9229210514791872, 0.38498926314450826L -0.9229210514791872, 0.38498926314450826 L -0.9148840531616792, 0.4037166943172621 L -0.9064670943294935, 0.4222764579015093 M -0.9064670943294935,0.4222764579015093 Q -0.14601317511880893, 0.13667535510004736 -0.48117585697071286, 0.8766240897149131L -0.48117585697071286, 0.8766240897149131 L -0.4626468129331553, 0.886542681703929 L -0.4439134159755016, 0.8960696842974665 ",
          "type": "path"
         },
         {
          "fillcolor": "#e1b396",
          "layer": "below",
          "line": {
           "color": "rgb(175,175,175)",
           "width": 0.5
          },
          "path": "M -0.2360515035115428,0.9717405454595069 Q -0.13609347495874455, 0.14655567567874528 -0.9516305474583148, 0.307244692621676L -0.9516305474583148, 0.307244692621676 L -0.9513347796211208, 0.30815927226555034 L -0.9510381328128663, 0.3090735671904292 M -0.9510381328128663,0.3090735671904292 Q -0.1361579356641492, 0.14649579023192924 -0.2387736674726823, 0.9710752471985088L -0.2387736674726823, 0.9710752471985088 L -0.23741281853660245, 0.9714088498642095 L -0.2360515035115428, 0.9717405454595069 ",
          "type": "path"
         },
         {
          "fillcolor": "#e1b396",
          "layer": "below",
          "line": {
           "color": "rgb(175,175,175)",
           "width": 0.5
          },
          "path": "M -0.2731747966870081,0.9619644122601478 Q -0.1506087358150022, 0.13159410585663356 -0.9899155886641289, 0.1416584883434496L -0.9899155886641289, 0.1416584883434496 L -0.9891901337996767, 0.14663860062540773 L -0.9884396249222858, 0.15161499887376265 M -0.9884396249222858,0.15161499887376265 Q -0.15072081515830515, 0.13146572130413317 -0.28447755009344844, 0.9586827021975673L -0.28447755009344844, 0.9586827021975673 L -0.2788310014554898, 0.9603401858858811 L -0.2731747966870081, 0.9619644122601478 ",
          "type": "path"
         },
         {
          "fillcolor": "#e1b396",
          "layer": "below",
          "line": {
           "color": "rgb(175,175,175)",
           "width": 0.5
          },
          "path": "M -0.2485577791393156,0.9686170711015428 Q -0.15424422962700435, 0.12731346207990715 -0.9981720758952175, 0.06043597358388525L -0.9981720758952175, 0.06043597358388525 L -0.9979887398906291, 0.06339144304647322 L -0.9977966531097627, 0.06634635666678176 M -0.9977966531097627,0.06634635666678176 Q -0.15429534512723486, 0.127251508722166 -0.25506652822745524, 0.9669235058565867L -0.25506652822745524, 0.9669235058565867 L -0.2518135774406825, 0.9677757602960126 L -0.2485577791393156, 0.9686170711015428 ",
          "type": "path"
         },
         {
          "fillcolor": "#e1b396",
          "layer": "below",
          "line": {
           "color": "rgb(175,175,175)",
           "width": 0.5
          },
          "path": "M -0.24312522083707636,0.9699949108077438 Q -0.1642992683082539, 0.11404275704038554 -0.9937705202511958, -0.11144574051827945L -0.9937705202511958, -0.11144574051827945 L -0.9940460970097654, -0.108960346088162 L -0.9943154578708295, -0.10647427031505102 M -0.9943154578708295,-0.10647427031505102 Q -0.1643336628833243, 0.11399318946037929 -0.2485577791393156, 0.9686170711015428L -0.2485577791393156, 0.9686170711015428 L -0.24584246526385584, 0.9693097968518578 L -0.24312522083707636, 0.9699949108077438 ",
          "type": "path"
         },
         {
          "fillcolor": "#e1b396",
          "layer": "below",
          "line": {
           "color": "rgb(175,175,175)",
           "width": 0.5
          },
          "path": "M -0.3101619298680082,0.950683741977611 Q -0.17861658015848295, 0.08997842681714457 -0.9485588514726231, -0.31660086116897757L -0.9485588514726231, -0.31660086116897757 L -0.9507633701555218, -0.3099177535581242 L -0.9529208033949432, -0.303219297633142 M -0.9529208033949432,-0.303219297633142 Q -0.17867673156425523, 0.08985892052275654 -0.3247769909425475, 0.9457906249029456L -0.3247769909425475, 0.9457906249029456 L -0.31747888739047647, 0.9482653405357095 L -0.3101619298680082, 0.950683741977611 ",
          "type": "path"
         },
         {
          "fillcolor": "#e1b396",
          "layer": "below",
          "line": {
           "color": "rgb(175,175,175)",
           "width": 0.5
          },
          "path": "M -0.29707907346764445,0.9548528808709779 Q -0.18670077746086183, 0.07171345547043284 -0.859912118651397, -0.5104421105242647L -0.859912118651397, -0.5104421105242647 L -0.8634166859964614, -0.5044914531911201 L -0.8668800750009845, -0.4985167354926888 M -0.8668800750009845,-0.4985167354926888 Q -0.18669788175354757, 0.07172099377963453 -0.3101619298680082, 0.950683741977611L -0.3101619298680082, 0.950683741977611 L -0.3036276576051671, 0.9527907669248267 L -0.29707907346764445, 0.9548528808709779 ",
          "type": "path"
         },
         {
          "fillcolor": "#e1b396",
          "layer": "below",
          "line": {
           "color": "rgb(175,175,175)",
           "width": 0.5
          },
          "path": "M -0.3411594732912399,0.9400054328479404 Q -0.19924511061260747, 0.01736046937642576 -0.49859184634188286, -0.8668368766736867L -0.49859184634188286, -0.8668368766736867 L -0.5084869082665918, -0.8610697208249066 L -0.5183152707751691, -0.8551896164484594 M -0.5183152707751691,-0.8551896164484594 Q -0.1992408692460214, 0.01740907872604985 -0.36214529000603535, 0.9321216599384677L -0.36214529000603535, 0.9321216599384677 L -0.3516744744617971, 0.9361223552570566 L -0.3411594732912399, 0.9400054328479404 ",
          "type": "path"
         },
         {
          "fillcolor": "#e1b396",
          "layer": "below",
          "line": {
           "color": "rgb(175,175,175)",
           "width": 0.5
          },
          "path": "M -0.2387736674726823,0.9710752471985088 Q -0.19917008590227997, -0.018201013204720787 -0.058806541754698745, -0.9982693978314936L -0.058806541754698745, -0.9982693978314936 L -0.0603128448750209, -0.9981795233038402 L -0.06181901066139483, -0.9980873758949396 M -0.06181901066139483,-0.9980873758949396 Q -0.19915669387587898, -0.018346969352714262 -0.24312522083707636, 0.9699949108077438L -0.24312522083707636, 0.9699949108077438 L -0.24095004963731512, 0.9705375178630528 L -0.2387736674726823, 0.9710752471985088 ",
          "type": "path"
         },
         {
          "fillcolor": "#e1b396",
          "layer": "below",
          "line": {
           "color": "rgb(175,175,175)",
           "width": 0.5
          },
          "path": "M -0.41047154387569484,0.9118734076988447 Q -0.18700646010637978, -0.07091250861788065 0.29735508084264517, -0.9547669641839646L 0.29735508084264517, -0.9547669641839646 L 0.2790642736807681, -0.9602724254892595 L 0.2606716460868589, -0.9654275182147893 M 0.2606716460868589,-0.9654275182147893 Q -0.18704944215882807, -0.07079905499419631 -0.4439134159755016, 0.8960696842974665L -0.4439134159755016, 0.8960696842974665 L -0.42726555480557915, 0.9041261779622801 L -0.41047154387569484, 0.9118734076988447 ",
          "type": "path"
         },
         {
          "fillcolor": "#e1b396",
          "layer": "below",
          "line": {
           "color": "rgb(175,175,175)",
           "width": 0.5
          },
          "path": "M -0.36214529000603535,0.9321216599384677 Q -0.1622206044616633, -0.11698066288106163 0.770071563332117, -0.6379575121802621L 0.770071563332117, -0.6379575121802621 L 0.7621282376418556, -0.6474260956965817 L 0.7540684964846482, -0.6567957845551249 M 0.7540684964846482,-0.6567957845551249 Q -0.16222402608032516, -0.11697591787325279 -0.3850190760311547, 0.9229086147025154L -0.3850190760311547, 0.9229086147025154 L -0.3736105827189172, 0.9275856469784508 L -0.36214529000603535, 0.9321216599384677 ",
          "type": "path"
         },
         {
          "fillcolor": "#e1b396",
          "layer": "below",
          "line": {
           "color": "rgb(175,175,175)",
           "width": 0.5
          },
          "path": "M -0.25506652822745524,0.9669235058565867 Q -0.14996326949125552, -0.13232920238365029 0.9276638323359118, -0.3734164085519667L 0.9276638323359118, -0.3734164085519667 L 0.926140170717094, -0.3771795118827534 L 0.9246012440008704, -0.38093639835547743 M 0.9246012440008704,-0.38093639835547743 Q -0.14988862459607108, -0.1324137463283102 -0.26399716020009406, 0.9645234571571009L -0.26399716020009406, 0.9645234571571009 L -0.25953461853757204, 0.9657338048243713 L -0.25506652822745524, 0.9669235058565867 ",
          "type": "path"
         },
         {
          "fillcolor": "#e1b396",
          "layer": "below",
          "line": {
           "color": "rgb(175,175,175)",
           "width": 0.5
          },
          "path": "M -0.26399716020009406,0.9645234571571009 Q -0.13668732806142858, -0.14600196692999515 0.9798099400077347, -0.19993119181868382L 0.9798099400077347, -0.19993119181868382 L 0.9790028583835431, -0.2038465189225763 L 0.9781801311511013, -0.2077585883211915 M 0.9781801311511013,-0.2077585883211915 Q -0.1365754157859986, -0.14610665899568576 -0.2731747966870081, 0.9619644122601478L -0.2731747966870081, 0.9619644122601478 L -0.26858902619834607, 0.9632548650309658 L -0.26399716020009406, 0.9645234571571009 ",
          "type": "path"
         },
         {
          "fillcolor": "#e1b396",
          "layer": "below",
          "line": {
           "color": "rgb(175,175,175)",
           "width": 0.5
          },
          "path": "M -0.2335999704535179,0.9723327896374345 Q -0.13181209561368543, -0.15041798911675644 0.994584423836855, -0.10393182313955247L 0.994584423836855, -0.10393182313955247 L 0.994482447662813, -0.10490310429429796 L 0.9943795229651148, -0.10587428539390797 M 0.9943795229651148,-0.10587428539390797 Q -0.13176931011292467, -0.15045547152684044 -0.2360515035115428, 0.9717405454595069L -0.2360515035115428, 0.9717405454595069 L -0.23482592369174254, 0.9720374404117981 L -0.2335999704535179, 0.9723327896374345 ",
          "type": "path"
         },
         {
          "fillcolor": "#dba284",
          "layer": "below",
          "line": {
           "color": "rgb(175,175,175)",
           "width": 0.5
          },
          "path": "M -0.6610891992989564,0.7503073174175131 Q -0.14441809757786503, 0.13835972351804646 -0.7779328550264913, 0.6283474143102142L -0.7779328550264913, 0.6283474143102142 L -0.772890885602092, 0.6345389499102588 L -0.7677996393067984, 0.6406900294841105 M -0.7677996393067984,0.6406900294841105 Q -0.1442762013392854, 0.1385076811122978 -0.671468766588775, 0.7410328572308715L -0.671468766588775, 0.7410328572308715 L -0.6662951200599104, 0.7456881472736103 L -0.6610891992989564, 0.7503073174175131 ",
          "type": "path"
         },
         {
          "fillcolor": "#dba284",
          "layer": "below",
          "line": {
           "color": "rgb(175,175,175)",
           "width": 0.5
          },
          "path": "M -0.6230852347610448,0.7821539427905313 Q -0.14730917344283886, 0.135277520008269 -0.832285328092427, 0.5543474836617203L -0.832285328092427, 0.5543474836617203 L -0.8301704760092462, 0.5575096239192482 L -0.8280436099227988, 0.5606636960478357 M -0.8280436099227988,0.5606636960478357 Q -0.1472064186602554, 0.13538932862386757 -0.6278368185909056, 0.7783449937024394L -0.6278368185909056, 0.7783449937024394 L -0.6254639261491056, 0.7802530852781975 L -0.6230852347610448, 0.7821539427905313 ",
          "type": "path"
         },
         {
          "fillcolor": "#dba284",
          "layer": "below",
          "line": {
           "color": "rgb(175,175,175)",
           "width": 0.5
          },
          "path": "M -0.6382750710752323,0.7698083746257293 Q -0.17402194551256778, 0.0985716109233328 -0.9884396249222858, 0.15161499887376265L -0.9884396249222858, 0.15161499887376265 L -0.9877015791014715, 0.15635085749831892 L -0.986940842744578, 0.16108312426390922 M -0.986940842744578,0.16108312426390922 Q -0.1739782449457983, 0.09864872166216755 -0.6449479540321247, 0.7642264956083219L -0.6449479540321247, 0.7642264956083219 L -0.6416175826649082, 0.7670246916594274 L -0.6382750710752323, 0.7698083746257293 ",
          "type": "path"
         },
         {
          "fillcolor": "#dba284",
          "layer": "below",
          "line": {
           "color": "rgb(175,175,175)",
           "width": 0.5
          },
          "path": "M -0.6100721083965881,0.7923458983023397 Q -0.1757153052630876, 0.09552031980840486 -0.9967050191963407, 0.0811116804709536L -0.9967050191963407, 0.0811116804709536 L -0.9966749279226281, 0.08148059922720337 L -0.9966447000979386, 0.08184950682007826 M -0.9966447000979386,0.08184950682007826 Q -0.17571111134619755, 0.0955280343641811 -0.6105889678624932, 0.7919476701933122L -0.6105889678624932, 0.7919476701933122 L -0.610330570608995, 0.7921468264028447 L -0.6100721083965881, 0.7923458983023397 ",
          "type": "path"
         },
         {
          "fillcolor": "#dba284",
          "layer": "below",
          "line": {
           "color": "rgb(175,175,175)",
           "width": 0.5
          },
          "path": "M -0.6105889678624932,0.7919476701933122 Q -0.1832214718020999, 0.08018660904834615 -0.9960490401098324, -0.0888048968035071L -0.9960490401098324, -0.0888048968035071 L -0.9961043624303465, -0.08818219291462898 L -0.9961592954526641, -0.08755945456232472 M -0.9961592954526641,-0.08755945456232472 Q -0.18321494210252964, 0.08020152735681978 -0.6114498225400894, 0.7912832075279326L -0.6114498225400894, 0.7912832075279326 L -0.6110194855238337, 0.7916155558793609 L -0.6105889678624932, 0.7919476701933122 ",
          "type": "path"
         },
         {
          "fillcolor": "#dba284",
          "layer": "below",
          "line": {
           "color": "rgb(175,175,175)",
           "width": 0.5
          },
          "path": "M -0.6124818935859433,0.7904846171997132 Q -0.19537073745647363, 0.04278171274871611 -0.886786552419562, -0.4621791973334883L -0.886786552419562, -0.4621791973334883 L -0.887631867166834, -0.46055365419234284 L -0.8884742021805054, -0.4589265649967479 M -0.8884742021805054,-0.4589265649967479 Q -0.19535281652809577, 0.04286347016446693 -0.6147144670865956, 0.7887497219995978L -0.6147144670865956, 0.7887497219995978 L -0.6135987934940226, 0.7896179586500549 L -0.6124818935859433, 0.7904846171997132 ",
          "type": "path"
         },
         {
          "fillcolor": "#dba284",
          "layer": "below",
          "line": {
           "color": "rgb(175,175,175)",
           "width": 0.5
          },
          "path": "M -0.6114498225400894,0.7912832075279326 Q -0.1999964370776811, -0.001193799075699046 -0.601960088628896, -0.7985261747105674L -0.601960088628896, -0.7985261747105674 L -0.6026457871849963, -0.7980088064602897 L -0.6033310410774463, -0.7974908493972861 M -0.6033310410774463,-0.7974908493972861 Q -0.19999667933765206, -0.0011524989858502398 -0.6124818935859433, 0.7904846171997132L -0.6124818935859433, 0.7904846171997132 L -0.6119659883289528, 0.7908840807150995 L -0.6114498225400894, 0.7912832075279326 ",
          "type": "path"
         },
         {
          "fillcolor": "#dba284",
          "layer": "below",
          "line": {
           "color": "rgb(175,175,175)",
           "width": 0.5
          },
          "path": "M -0.6327335537163521,0.7743695823064566 Q -0.18710244259528794, -0.07065887046137231 0.03709373780321045, -0.9993117904917297L 0.03709373780321045, -0.9993117904917297 L 0.03232119524931863, -0.9994775336833017 L 0.02754791562242435, -0.9996204841562921 M 0.02754791562242435,-0.9996204841562921 Q -0.18718616788369072, -0.07043676989342114 -0.6382750710752323, 0.7698083746257293L -0.6382750710752323, 0.7698083746257293 L -0.6355084045294171, 0.7720939500944652 L -0.6327335537163521, 0.7743695823064566 ",
          "type": "path"
         },
         {
          "fillcolor": "#dba284",
          "layer": "below",
          "line": {
           "color": "rgb(175,175,175)",
           "width": 0.5
          },
          "path": "M -0.6147144670865956,0.7887497219995978 Q -0.15349394211946035, -0.12821704150629806 0.6667198187859756, -0.7453084483876429L 0.6667198187859756, -0.7453084483876429 L 0.6643087946290449, -0.7474582432340321 L 0.6618908386387851, -0.7496002386112519 M 0.6618908386387851,-0.7496002386112519 Q -0.15358738463276264, -0.12810509467491069 -0.6186523553475519, 0.7856648542622524L -0.6186523553475519, 0.7856648542622524 L -0.6166853401634953, 0.7872097504651693 L -0.6147144670865956, 0.7887497219995978 ",
          "type": "path"
         },
         {
          "fillcolor": "#dba284",
          "layer": "below",
          "line": {
           "color": "rgb(175,175,175)",
           "width": 0.5
          },
          "path": "M -0.6186523553475519,0.7856648542622524 Q -0.10690302587727044, -0.16903178120780615 0.9749949963043827, -0.2222268147218438L 0.9749949963043827, -0.2222268147218438 L 0.9743110886162233, -0.22520635559297572 L 0.9736180756075214, -0.22818379182208948 M 0.9736180756075214,-0.22818379182208948 Q -0.10694183514855458, -0.169007230304089 -0.6230852347610448, 0.7821539427905313L -0.6230852347610448, 0.7821539427905313 L -0.6208712767530937, 0.7839125319211214 L -0.6186523553475519, 0.7856648542622524 ",
          "type": "path"
         },
         {
          "fillcolor": "#d59171",
          "layer": "below",
          "line": {
           "color": "rgb(175,175,175)",
           "width": 0.5
          },
          "path": "M -0.7098700179674632,0.7043327037635505 Q -0.15664697408008443, 0.12434518692556362 -0.8470393387938472, 0.5315302047256413L -0.8470393387938472, 0.5315302047256413 L -0.8445022292382741, 0.5355520374450885 L -0.8419460237448197, 0.5395617602279533 M -0.8419460237448197,0.5395617602279533 Q -0.15659864973323148, 0.12440604045515105 -0.7159940641203811, 0.6981063673569949L -0.7159940641203811, 0.6981063673569949 L -0.7129388381644773, 0.7012262210133654 L -0.7098700179674632, 0.7043327037635505 ",
          "type": "path"
         },
         {
          "fillcolor": "#d59171",
          "layer": "below",
          "line": {
           "color": "rgb(175,175,175)",
           "width": 0.5
          },
          "path": "M -0.748274171140185,0.663389602574889 Q -0.1820599917478814, 0.08278985085601594 -0.9917889208199381, 0.1278856385166939L -0.9917889208199381, 0.1278856385166939 L -0.9908761847856973, 0.13477531830621206 L -0.9899155886641289, 0.1416584883434496 M -0.9899155886641289,0.1416584883434496 Q -0.18208368934761524, 0.08273771856632955 -0.7577963373742285, 0.6524911578421615L -0.7577963373742285, 0.6524911578421615 L -0.7530549702236977, 0.6579576064013439 L -0.748274171140185, 0.663389602574889 ",
          "type": "path"
         },
         {
          "fillcolor": "#d59171",
          "layer": "below",
          "line": {
           "color": "rgb(175,175,175)",
           "width": 0.5
          },
          "path": "M -0.6949523031977679,0.7190558366915032 Q -0.18086862649660626, 0.08536123212109319 -0.99684363951234, 0.07938991348900691L -0.99684363951234, 0.07938991348900691 L -0.9968043371877566, 0.07988187130805896 L -0.9967647920743633, 0.08037380967050982 M -0.9967647920743633,0.08037380967050982 Q -0.18086909805195772, 0.08536023295347372 -0.695669645857633, 0.7183618474225336L -0.695669645857633, 0.7183618474225336 L -0.6953110611114544, 0.7187089315543973 L -0.6949523031977679, 0.7190558366915032 ",
          "type": "path"
         },
         {
          "fillcolor": "#d59171",
          "layer": "below",
          "line": {
           "color": "rgb(175,175,175)",
           "width": 0.5
          },
          "path": "M -0.7008496098721221,0.7133090664936864 Q -0.1882984154528453, 0.06740702291265847 -0.9943154578708295, -0.10647427031505102L -0.9943154578708295, -0.10647427031505102 L -0.9945655916792083, -0.10411188139586348 L -0.994810112708062, -0.10174890492665302 M -0.994810112708062,-0.10174890492665302 Q -0.18829807102304974, 0.06740798505369015 -0.7042234979652439, 0.7099783552430287L -0.7042234979652439, 0.7099783552430287 L -0.7025385277700414, 0.7116457103072446 L -0.7008496098721221, 0.7133090664936864 ",
          "type": "path"
         },
         {
          "fillcolor": "#d59171",
          "layer": "below",
          "line": {
           "color": "rgb(175,175,175)",
           "width": 0.5
          },
          "path": "M -0.6965653495292686,0.7174933545581923 Q -0.19308532687518085, 0.052134983892819724 -0.9630325064151138, -0.269385210410341L -0.9630325064151138, -0.269385210410341 L -0.9633077477373129, -0.26839929796716216 L -0.9635819797238305, -0.2674131043002633 M -0.9635819797238305,-0.2674131043002633 Q -0.1930839967019625, 0.052139910026740025 -0.6979962195862073, 0.7161014435422981L -0.6979962195862073, 0.7161014435422981 L -0.6972811318740265, 0.71679775608778 L -0.6965653495292686, 0.7174933545581923 ",
          "type": "path"
         },
         {
          "fillcolor": "#d59171",
          "layer": "below",
          "line": {
           "color": "rgb(175,175,175)",
           "width": 0.5
          },
          "path": "M -0.6979962195862073,0.7161014435422981 Q -0.19761754052713817, 0.030778363764256668 -0.8827141463210136, -0.46991034877385307L -0.8827141463210136, -0.46991034877385307 L -0.8837715548311332, -0.46791862419801294 L -0.8848244692925983, -0.46592452021874936 M -0.8848244692925983,-0.46592452021874936 Q -0.19760956802152976, 0.03082950901886704 -0.7008496098721221, 0.7133090664936864L -0.7008496098721221, 0.7133090664936864 L -0.6994243082640437, 0.7147066790015076 L -0.6979962195862073, 0.7161014435422981 ",
          "type": "path"
         },
         {
          "fillcolor": "#d59171",
          "layer": "below",
          "line": {
           "color": "rgb(175,175,175)",
           "width": 0.5
          },
          "path": "M -0.7159940641203811,0.6981063673569949 Q -0.19891417652954752, -0.020812265027430714 -0.555984467830286, -0.8311926801479147L -0.555984467830286, -0.8311926801479147 L -0.560498095861941, -0.8281557127347118 L -0.5649951353868632, -0.8250942352175175 M -0.5649951353868632,-0.8250942352175175 Q -0.19892868103467476, -0.020673167677079343 -0.7225811819192194, 0.6912860735876457L -0.7225811819192194, 0.6912860735876457 L -0.7192957067376734, 0.6947040278195822 L -0.7159940641203811, 0.6981063673569949 ",
          "type": "path"
         },
         {
          "fillcolor": "#d59171",
          "layer": "below",
          "line": {
           "color": "rgb(175,175,175)",
           "width": 0.5
          },
          "path": "M -0.7392677801266537,0.6734115749425529 Q -0.17914520914981885, -0.08892128001028589 0.0893678190835612, -0.9959986912201481L 0.0893678190835612, -0.9959986912201481 L 0.08158210673215487, -0.9966666242335716 L 0.07379141269574385, -0.9972736973430947 M 0.07379141269574385,-0.9972736973430947 Q -0.17924088783347705, -0.08872826003403256 -0.748274171140185, 0.663389602574889L -0.748274171140185, 0.663389602574889 L -0.7437878556263361, 0.668415758209497 L -0.7392677801266537, 0.6734115749425529 ",
          "type": "path"
         },
         {
          "fillcolor": "#d59171",
          "layer": "below",
          "line": {
           "color": "rgb(175,175,175)",
           "width": 0.5
          },
          "path": "M -0.7225811819192194,0.6912860735876457 Q -0.14102654091907463, -0.1418150723879538 0.6953042510828971, -0.7187155198171608L 0.6953042510828971, -0.7187155198171608 L 0.6907480412117745, -0.7230955286558594 L 0.6861642404284342, -0.7274466545096416 M 0.6861642404284342,-0.7274466545096416 Q -0.14112659780306522, -0.14171550159573887 -0.7302976516963781, 0.6831290799891011L -0.7302976516963781, 0.6831290799891011 L -0.7264508658045611, 0.6872184074745115 L -0.7225811819192194, 0.6912860735876457 ",
          "type": "path"
         },
         {
          "fillcolor": "#d59171",
          "layer": "below",
          "line": {
           "color": "rgb(175,175,175)",
           "width": 0.5
          },
          "path": "M -0.6944138418336225,0.7195758585930109 Q -0.11460035830381712, -0.16391082293929446 0.9142528326178754, -0.4051441200982574L 0.9142528326178754, -0.4051441200982574 L 0.9141032402661396, -0.4054815237898567 L 0.9139535233960622, -0.40581887224711927 M 0.9139535233960622,-0.40581887224711927 Q -0.11459950459134156, -0.16391141982003293 -0.6949523031977679, 0.7190558366915032L -0.6949523031977679, 0.7190558366915032 L -0.694683121175073, 0.7193158980270482 L -0.6944138418336225, 0.7195758585930109 ",
          "type": "path"
         },
         {
          "fillcolor": "#d59171",
          "layer": "below",
          "line": {
           "color": "rgb(175,175,175)",
           "width": 0.5
          },
          "path": "M -0.7042234979652439,0.7099783552430287 Q -0.09577543184184169, -0.17557638410534812 0.9781801311511013, -0.2077585883211915L 0.9781801311511013, -0.2077585883211915 L 0.9773915192282467, -0.21143750410156603 L 0.9765890710284248, -0.21511342670284034 M 0.9765890710284248,-0.21511342670284034 Q -0.09573506359194406, -0.1755983986232404 -0.7098700179674632, 0.7043327037635505L -0.7098700179674632, 0.7043327037635505 L -0.7070523928931208, 0.70716116529693 L -0.7042234979652439, 0.7099783552430287 ",
          "type": "path"
         },
         {
          "fillcolor": "#d0805f",
          "layer": "below",
          "line": {
           "color": "rgb(175,175,175)",
           "width": 0.5
          },
          "path": "M -0.832285328092427,0.5543474836617203 Q -0.18112693276023062, 0.08481175760984383 -0.958738292755466, 0.28429014405064135L -0.958738292755466, 0.28429014405064135 L -0.9579145157423128, 0.28705361960820197 L -0.9570827732813116, 0.28981470819845134 M -0.9570827732813116,0.28981470819845134 Q -0.18122792135631294, 0.08459574765240895 -0.8367765565790795, 0.5475445135873965L -0.8367765565790795, 0.5475445135873965 L -0.8345378744049058, 0.5509505750825039 L -0.832285328092427, 0.5543474836617203 ",
          "type": "path"
         },
         {
          "fillcolor": "#d0805f",
          "layer": "below",
          "line": {
           "color": "rgb(175,175,175)",
           "width": 0.5
          },
          "path": "M -0.8367765565790795,0.5475445135873965 Q -0.18642149978030123, 0.07243634736555364 -0.986940842744578, 0.16108312426390922L -0.986940842744578, 0.16108312426390922 L -0.9862565988279303, 0.16522082577073346 L -0.9855550078772183, 0.16935562124752843 M -0.9855550078772183,0.16935562124752843 Q -0.18646213036213027, 0.07233169388875071 -0.8419460237448197, 0.5395617602279533L -0.8419460237448197, 0.5395617602279533 L -0.8393707801145642, 0.5435592824061307 L -0.8367765565790795, 0.5475445135873965 ",
          "type": "path"
         },
         {
          "fillcolor": "#d0805f",
          "layer": "below",
          "line": {
           "color": "rgb(175,175,175)",
           "width": 0.5
          },
          "path": "M -0.818168661780832,0.5749782960075646 Q -0.18844505752492188, 0.0669959722254173 -0.9975095538419637, 0.07053148228987192L -0.9975095538419637, 0.07053148228987192 L -0.9973683739783651, 0.07250052818946924 L -0.997223307296898, 0.07446929154917878 M -0.997223307296898,0.07446929154917878 Q -0.18845843375403193, 0.06695833590358378 -0.820660713556253, 0.5714157796432835L -0.820660713556253, 0.5714157796432835 L -0.8194166237315708, 0.5731983921404119 L -0.818168661780832, 0.5749782960075646 ",
          "type": "path"
         },
         {
          "fillcolor": "#d0805f",
          "layer": "below",
          "line": {
           "color": "rgb(175,175,175)",
           "width": 0.5
          },
          "path": "M -0.8156611451082663,0.5785299442212751 Q -0.19340593289703054, 0.05093275095878222 -0.994810112708062, -0.10174890492665302L -0.994810112708062, -0.10174890492665302 L -0.9950116707361092, -0.09975858408646687 L -0.995209246724778, -0.09776786401215887 M -0.995209246724778,-0.09776786401215887 Q -0.19341475731901803, 0.05089923035985281 -0.818168661780832, 0.5749782960075646L -0.818168661780832, 0.5749782960075646 L -0.8169168336012397, 0.5767554828338647 L -0.8156611451082663, 0.5785299442212751 ",
          "type": "path"
         },
         {
          "fillcolor": "#d0805f",
          "layer": "below",
          "line": {
           "color": "rgb(175,175,175)",
           "width": 0.5
          },
          "path": "M -0.8137703872661979,0.5811865077654697 Q -0.19717279232447812, 0.033509550384453524 -0.9600816070703961, -0.27972005249020937L -0.9600816070703961, -0.27972005249020937 L -0.9605099623432004, -0.2782455969812706 L -0.9609360532067688, -0.27677048550630917 M -0.9609360532067688,-0.27677048550630917 Q -0.19717597293161818, 0.03349083006540411 -0.8156611451082663, 0.5785299442212751L -0.8156611451082663, 0.5785299442212751 L -0.8147168489766949, 0.5798589966478793 L -0.8137703872661979, 0.5811865077654697 ",
          "type": "path"
         },
         {
          "fillcolor": "#d0805f",
          "layer": "below",
          "line": {
           "color": "rgb(175,175,175)",
           "width": 0.5
          },
          "path": "M -0.8585321457185419,0.5127597437084119 Q -0.19997353383124006, -0.003253577576436512 -0.8413969062916891, -0.5404176589294383L -0.8413969062916891, -0.5404176589294383 L -0.8462372063066174, -0.5328063350433921 L -0.8510086558230809, -0.5251516616313738 M -0.8510086558230809,-0.5251516616313738 Q -0.19997458002289917, -0.0031886273951500163 -0.8673190323520334, 0.49775264551776344L -0.8673190323520334, 0.49775264551776344 L -0.8629582118856766, 0.5052752957933683 L -0.8585321457185419, 0.5127597437084119 ",
          "type": "path"
         },
         {
          "fillcolor": "#d0805f",
          "layer": "below",
          "line": {
           "color": "rgb(175,175,175)",
           "width": 0.5
          },
          "path": "M -0.8673190323520334,0.49775264551776344 Q -0.19241860384299098, -0.054544302132432665 -0.477097693895213, -0.8788502662455474L -0.477097693895213, -0.8788502662455474 L -0.48788174808479007, -0.8729097318083523 L -0.49859184634188286, -0.8668368766736867 M -0.49859184634188286,-0.8668368766736867 Q -0.1924528111909966, -0.054423482658523537 -0.8787129033094161, 0.4773506400514582L -0.8787129033094161, 0.4773506400514582 L -0.8730755640516914, 0.4875849253779499 L -0.8673190323520334, 0.49775264551776344 ",
          "type": "path"
         },
         {
          "fillcolor": "#d0805f",
          "layer": "below",
          "line": {
           "color": "rgb(175,175,175)",
           "width": 0.5
          },
          "path": "M -0.8123466397447786,0.5831748767697104 Q -0.18088251724794943, -0.08533179333662973 -0.06652485582327824, -0.9977847681527775L -0.06652485582327824, -0.9977847681527775 L -0.06737175388956558, -0.997727942265748 L -0.06821860341682748, -0.9976703975501416 M -0.06821860341682748,-0.9976703975501416 Q -0.1808505932295731, -0.08539943166386701 -0.8137703872661979, 0.5811865077654697L -0.8137703872661979, 0.5811865077654697 L -0.8130591213353296, 0.5821811274967797 L -0.8123466397447786, 0.5831748767697104 ",
          "type": "path"
         },
         {
          "fillcolor": "#d0805f",
          "layer": "below",
          "line": {
           "color": "rgb(175,175,175)",
           "width": 0.5
          },
          "path": "M -0.8924637201531285,0.45111917295814236 Q -0.1594659516767654, -0.12070878284459474 0.19190164721704273, -0.9814141622146002L 0.19190164721704273, -0.9814141622146002 L 0.175116092728124, -0.9845477916625658 L 0.15827947885675117, -0.9873943521070166 M 0.15827947885675117,-0.9873943521070166 Q -0.15959187011050666, -0.12054225398021717 -0.9064670943294935, 0.4222764579015093L -0.9064670943294935, 0.4222764579015093 L -0.8995810104580559, 0.43675394173752236 L -0.8924637201531285, 0.45111917295814236 ",
          "type": "path"
         },
         {
          "fillcolor": "#d0805f",
          "layer": "below",
          "line": {
           "color": "rgb(175,175,175)",
           "width": 0.5
          },
          "path": "M -0.8521982451332073,0.5232190277425716 Q -0.12419225140312327, -0.15676825154164165 0.7043331712334929, -0.7098695541436969L 0.7043331712334929, -0.7098695541436969 L 0.699832688050716, -0.7143068029465415 L 0.6953042510828971, -0.7187155198171608 M 0.6953042510828971,-0.7187155198171608 Q -0.12422458171644471, -0.15674263394933222 -0.8585321457185419, 0.5127597437084119L -0.8585321457185419, 0.5127597437084119 L -0.8553811821063002, 0.5179990668895346 L -0.8521982451332073, 0.5232190277425716 ",
          "type": "path"
         },
         {
          "fillcolor": "#d0805f",
          "layer": "below",
          "line": {
           "color": "rgb(175,175,175)",
           "width": 0.5
          },
          "path": "M -0.824061946993871,0.5664996977198404 Q -0.09642012902234466, -0.17522316832917506 0.9195550574152933, -0.39296118940928076L 0.9195550574152933, -0.39296118940928076 L 0.918293397234144, -0.39590053876721937 L 0.9170223414780293, -0.39883583744462164 M 0.9170223414780293,-0.39883583744462164 Q -0.09636164016046128, -0.17525534030546908 -0.8280436099227988, 0.5606636960478357L -0.8280436099227988, 0.5606636960478357 L -0.8260579323071803, 0.5635852131420643 L -0.824061946993871, 0.5664996977198404 ",
          "type": "path"
         },
         {
          "fillcolor": "#d0805f",
          "layer": "below",
          "line": {
           "color": "rgb(175,175,175)",
           "width": 0.5
          },
          "path": "M -0.820660713556253,0.5714157796432835 Q -0.08140979236512581, -0.1826812680793165 0.9736180756075214, -0.22818379182208948L 0.9736180756075214, -0.22818379182208948 L 0.9730245729334911, -0.23070149645721244 L 0.972424559672203, -0.2332176574496927 M 0.972424559672203,-0.2332176574496927 Q -0.08133629651023541, -0.18271400293901688 -0.824061946993871, 0.5664996977198404L -0.824061946993871, 0.5664996977198404 L -0.8223650038134763, 0.5689602802506174 L -0.820660713556253, 0.5714157796432835 ",
          "type": "path"
         },
         {
          "fillcolor": "#d0805f",
          "layer": "below",
          "line": {
           "color": "rgb(175,175,175)",
           "width": 0.5
          },
          "path": "M -0.8110770074905264,0.5849393882448102 Q -0.07147190663928969, -0.18679337932952725 0.9943795229651148, -0.10587428539390797L 0.9943795229651148, -0.10587428539390797 L 0.9942872381328143, -0.10673747273671208 L 0.9941942039968228, -0.10760057964120812 M 0.9941942039968228,-0.10760057964120812 Q -0.07143103441810944, -0.18680901295697397 -0.8123466397447786, 0.5831748767697104L -0.8123466397447786, 0.5831748767697104 L -0.8117123030827373, 0.5840574775003898 L -0.8110770074905264, 0.5849393882448102 ",
          "type": "path"
         },
         {
          "fillcolor": "#ca6f4c",
          "layer": "below",
          "line": {
           "color": "rgb(175,175,175)",
           "width": 0.5
          },
          "path": "M -0.9505616703442664,0.31053584474633217 Q -0.19262970655178446, 0.053794015966215136 -0.9739187603522614, 0.22689699917344527L -0.9739187603522614, 0.22689699917344527 L -0.9737008081957871, 0.22783049865825922 L -0.973481961281852, 0.22876378878406145 M -0.973481961281852,0.22876378878406145 Q -0.1926195019483236, 0.05383054401712622 -0.9510381328128663, 0.3090735671904292L -0.9510381328128663, 0.3090735671904292 L -0.9508001826912552, 0.3098047975649761 L -0.9505616703442664, 0.31053584474633217 ",
          "type": "path"
         },
         {
          "fillcolor": "#ca6f4c",
          "layer": "below",
          "line": {
           "color": "rgb(175,175,175)",
           "width": 0.5
          },
          "path": "M -0.9497224516441738,0.31309306099461864 Q -0.19603496728634517, 0.03962690501466881 -0.9967647920743633, 0.08037380967050982L -0.9967647920743633, 0.08037380967050982 L -0.9967349739149538, 0.08074275060187368 L -0.9967050191963407, 0.0811116804709536 M -0.9967050191963407,0.0811116804709536 Q -0.19603172596685053, 0.03964293650144531 -0.9499028635680639, 0.31254527637638707L -0.9499028635680639, 0.31254527637638707 L -0.9498126970965356, 0.3128191816916039 L -0.9497224516441738, 0.31309306099461864 ",
          "type": "path"
         },
         {
          "fillcolor": "#ca6f4c",
          "layer": "below",
          "line": {
           "color": "rgb(175,175,175)",
           "width": 0.5
          },
          "path": "M -0.954367750581229,0.298633883962495 Q -0.19999773316410707, 0.0009522233029190382 -0.957168112127925, -0.28953273584426337L -0.957168112127925, -0.28953273584426337 L -0.9580160273688573, -0.2867146513598369 L -0.9588556456541041, -0.28389408376584946 M -0.9588556456541041,-0.28389408376584946 Q -0.19999698245695186, 0.0010986392099762194 -0.9556788536659984, 0.2944111557934641L -0.9556788536659984, 0.2944111557934641 L -0.9550256360210382, 0.2965232445232776 L -0.954367750581229, 0.298633883962495 ",
          "type": "path"
         },
         {
          "fillcolor": "#ca6f4c",
          "layer": "below",
          "line": {
           "color": "rgb(175,175,175)",
           "width": 0.5
          },
          "path": "M -0.9516305474583148,0.307244692621676 Q -0.19932395454746385, -0.01643049431881386 -0.8884742021805054, -0.4589265649967479L -0.8884742021805054, -0.4589265649967479 L -0.8892490950135771, -0.45742326899441194 L -0.8900214442760875, -0.45591866459787245 M -0.8900214442760875,-0.45591866459787245 Q -0.1993327620616891, -0.016323295281837135 -0.952336802432106, 0.3050485448799776L -0.952336802432106, 0.3050485448799776 L -0.9519843082364403, 0.30614682240974855 L -0.9516305474583148, 0.307244692621676 ",
          "type": "path"
         },
         {
          "fillcolor": "#ca6f4c",
          "layer": "below",
          "line": {
           "color": "rgb(175,175,175)",
           "width": 0.5
          },
          "path": "M -0.952336802432106,0.3050485448799776 Q -0.19037894693818053, -0.06128504354823819 -0.5955388850627605, -0.803326481810605L -0.5955388850627605, -0.803326481810605 L -0.5972626208088059, -0.8020457354693662 L -0.5989836022328169, -0.8007612904331719 M -0.5989836022328169,-0.8007612904331719 Q -0.1904221444529571, -0.061150690118241036 -0.9532124935494665, 0.30230107863057376L -0.9532124935494665, 0.30230107863057376 L -0.9527756383308006, 0.30367512740317637 L -0.952336802432106, 0.3050485448799776 ",
          "type": "path"
         },
         {
          "fillcolor": "#ca6f4c",
          "layer": "below",
          "line": {
           "color": "rgb(175,175,175)",
           "width": 0.5
          },
          "path": "M -0.9532124935494665,0.30230107863057376 Q -0.16438557414219226, -0.11391831728893215 -0.05164983186390581, -0.998665256664329L -0.05164983186390581, -0.998665256664329 L -0.05353344885053447, -0.9985660568305771 L -0.05541687537299158, -0.9984633042450255 M -0.05541687537299158,-0.9984633042450255 Q -0.16438144988012982, -0.11392426842120332 -0.954367750581229, 0.298633883962495L -0.954367750581229, 0.298633883962495 L -0.95379188454747, 0.30046803652199944 L -0.9532124935494665, 0.30230107863057376 ",
          "type": "path"
         },
         {
          "fillcolor": "#ca6f4c",
          "layer": "below",
          "line": {
           "color": "rgb(175,175,175)",
           "width": 0.5
          },
          "path": "M -0.9613737039985379,0.27524643732504805 Q -0.15171464023934486, -0.13031756572713507 0.12705681732364607, -0.9918954406446204L 0.12705681732364607, -0.9918954406446204 L 0.11642799626402606, -0.9931991349603281 L 0.1057858242365569, -0.9943889376851456 M 0.1057858242365569,-0.9943889376851456 Q -0.15218221989681105, -0.12977122927397525 -0.9651919443860433, 0.2615425596194415L -0.9651919443860433, 0.2615425596194415 L -0.9633071931891292, 0.26840128827947507 L -0.9613737039985379, 0.27524643732504805 ",
          "type": "path"
         },
         {
          "fillcolor": "#ca6f4c",
          "layer": "below",
          "line": {
           "color": "rgb(175,175,175)",
           "width": 0.5
          },
          "path": "M -0.9496020015282548,0.31345819289585075 Q -0.11045846696206725, -0.16673010249019193 0.6589379205599315, -0.7521973257385016L 0.6589379205599315, -0.7521973257385016 L 0.6587266073669572, -0.7523823873183227 L 0.6585152421997594, -0.7525673895343806 M 0.6585152421997594,-0.7525673895343806 Q -0.11047324719831819, -0.16672030966099866 -0.9497224516441738, 0.31309306099461864L -0.9497224516441738, 0.31309306099461864 L -0.9496622441347305, 0.3132756327341584 L -0.9496020015282548, 0.31345819289585075 ",
          "type": "path"
         },
         {
          "fillcolor": "#ca6f4c",
          "layer": "below",
          "line": {
           "color": "rgb(175,175,175)",
           "width": 0.5
          },
          "path": "M -0.9502028479598091,0.31163207108554775 Q -0.07112422899839543, -0.18692603898168872 0.9170223414780293, -0.39883583744462164L 0.9170223414780293, -0.39883583744462164 L 0.9167276880074371, -0.39951263564565653 L 0.9164325350334959, -0.40018921616165576 M 0.9164325350334959,-0.40018921616165576 Q -0.07115440324250656, -0.1869145550758495 -0.9505616703442664, 0.31053584474633217L -0.9505616703442664, 0.31053584474633217 L -0.9503824172084507, 0.31108400965176947 L -0.9502028479598091, 0.31163207108554775 ",
          "type": "path"
         },
         {
          "fillcolor": "#ca6f4c",
          "layer": "below",
          "line": {
           "color": "rgb(175,175,175)",
           "width": 0.5
          },
          "path": "M -0.9495417238269731,0.3136407414729477 Q -0.056247376354327555, -0.19192767557925208 0.9686295740919917, -0.2485090505280779L 0.9686295740919917, -0.2485090505280779 L 0.9686003482297844, -0.24862293821998882 L 0.9685711089771063, -0.24873682247479678 M 0.9685711089771063,-0.24873682247479678 Q -0.056251494410816116, -0.19192646867107707 -0.9496020015282548, 0.31345819289585075L -0.9496020015282548, 0.31345819289585075 L -0.9495718670643254, 0.31354946863289546 L -0.9495417238269731, 0.3136407414729477 ",
          "type": "path"
         },
         {
          "fillcolor": "#ca6f4c",
          "layer": "below",
          "line": {
           "color": "rgb(175,175,175)",
           "width": 0.5
          },
          "path": "M -0.949481411033113,0.3138232784587032 Q -0.04265460768136431, -0.1953985272297335 0.9938866690274344, -0.11040511369294048L 0.9938866690274344, -0.11040511369294048 L 0.9938746827510304, -0.11051296297963695 L 0.9938626847716134, -0.11062081096502874 M 0.9938626847716134,-0.11062081096502874 Q -0.04265702901704921, -0.19539799864747498 -0.9495417238269731, 0.3136407414729477L -0.9495417238269731, 0.3136407414729477 L -0.949511571816476, 0.3137320114151646 L -0.949481411033113, 0.3138232784587032 ",
          "type": "path"
         },
         {
          "fillcolor": "#c45e3a",
          "layer": "below",
          "line": {
           "color": "rgb(175,175,175)",
           "width": 0.5
          },
          "path": "M -0.9731520136808497,0.2301633295486214 Q -0.19950794020937504, 0.014020762939741652 -0.9957780746272169, -0.09179338806097542L -0.9957780746272169, -0.09179338806097542 L -0.9958466567026177, -0.09104634168498284 L -0.9959146783336555, -0.0902992440697672 M -0.9959146783336555,-0.0902992440697672 Q -0.19950750219133961, 0.01402699430999495 -0.973481961281852, 0.22876378878406145L -0.973481961281852, 0.22876378878406145 L -0.9733172390327627, 0.22946361847064106 L -0.9731520136808497, 0.2301633295486214 ",
          "type": "path"
         },
         {
          "fillcolor": "#c45e3a",
          "layer": "below",
          "line": {
           "color": "rgb(175,175,175)",
           "width": 0.5
          },
          "path": "M -0.9795128275298823,0.20138177848160693 Q -0.19972285757883268, -0.01052521546313065 -0.9529208033949432, -0.303219297633142L -0.9529208033949432, -0.303219297633142 L -0.9541543277836655, -0.2993150827668085 L -0.9553718562749258, -0.29540585003991127 M -0.9553718562749258,-0.29540585003991127 Q -0.19972558765035303, -0.010473282089257106 -0.9810283748272627, 0.19386419933494656L -0.9810283748272627, 0.19386419933494656 L -0.9802778075801045, 0.19762444172202873 L -0.9795128275298823, 0.20138177848160693 ",
          "type": "path"
         },
         {
          "fillcolor": "#c45e3a",
          "layer": "below",
          "line": {
           "color": "rgb(175,175,175)",
           "width": 0.5
          },
          "path": "M -0.9750483216529588,0.2219927261009875 Q -0.19803941645713075, -0.027935452910578275 -0.8755956978892584, -0.48304469134627964L -0.8755956978892584, -0.48304469134627964 L -0.8774275001502448, -0.4797092681823983 L -0.8792465967808959, -0.4763668985658141 M -0.8792465967808959,-0.4763668985658141 Q -0.19805530861023568, -0.0278225579576055 -0.9764643230691074, 0.21567898778784605L -0.9764643230691074, 0.21567898778784605 L -0.9757614290647074, 0.21883700224048008 L -0.9750483216529588, 0.2219927261009875 ",
          "type": "path"
         },
         {
          "fillcolor": "#c45e3a",
          "layer": "below",
          "line": {
           "color": "rgb(175,175,175)",
           "width": 0.5
          },
          "path": "M -0.9825754251081721,0.18586428912917863 Q -0.18485161015420362, -0.0763536654221546 -0.5649951353868632, -0.8250942352175175L -0.5649951353868632, -0.8250942352175175 L -0.5691223550440422, -0.8222528473584771 L -0.5732352855032007, -0.819390814846044 M -0.5732352855032007,-0.819390814846044 Q -0.184913917006503, -0.07620264626187284 -0.9840998345389667, 0.1776162032596642L -0.9840998345389667, 0.1776162032596642 L -0.9833462777461269, 0.18174184450158165 L -0.9825754251081721, 0.18586428912917863 ",
          "type": "path"
         },
         {
          "fillcolor": "#c45e3a",
          "layer": "below",
          "line": {
           "color": "rgb(175,175,175)",
           "width": 0.5
          },
          "path": "M -0.9729862853115173,0.23086292165632533 Q -0.16118570986166603, -0.11840256304823314 -0.07066477936421203, -0.9975001197781418L -0.07066477936421203, -0.9975001197781418 L -0.07094700337275571, -0.9974800863738715 L -0.07122922170187004, -0.9974599731195963 M -0.07122922170187004,-0.9974599731195963 Q -0.16117664651163202, -0.11841490032620226 -0.9731520136808497, 0.2301633295486214L -0.9731520136808497, 0.2301633295486214 L -0.973069212368013, 0.23051314049636035 L -0.9729862853115173, 0.23086292165632533 ",
          "type": "path"
         },
         {
          "fillcolor": "#c45e3a",
          "layer": "below",
          "line": {
           "color": "rgb(175,175,175)",
           "width": 0.5
          },
          "path": "M -0.9840998345389667,0.1776162032596642 Q -0.15039644014545753, -0.13183668226853182 0.04721437801139638, -0.9988847793960007L 0.04721437801139638, -0.9988847793960007 L 0.04215459859459251, -0.9991110998369144 L 0.03709373780321045, -0.9993117904917297 M 0.03709373780321045,-0.9993117904917297 Q -0.15051120556595568, -0.13170564528175183 -0.9855550078772183, 0.16935562124752843L -0.9855550078772183, 0.16935562124752843 L -0.9848360822325594, 0.1734874379683544 L -0.9840998345389667, 0.1776162032596642 ",
          "type": "path"
         },
         {
          "fillcolor": "#c45e3a",
          "layer": "below",
          "line": {
           "color": "rgb(175,175,175)",
           "width": 0.5
          },
          "path": "M -0.9810283748272627,0.19386419933494656 Q -0.09761843886538252, -0.17455841541869466 0.6787732274883186, -0.7343479458983264L 0.6787732274883186, -0.7343479458983264 L 0.6752588537086167, -0.7375808297997752 L 0.6717290824325044, -0.7407968951165939 M 0.6717290824325044,-0.7407968951165939 Q -0.09774080003471518, -0.17448993096615584 -0.9825754251081721, 0.18586428912917863L -0.9825754251081721, 0.18586428912917863 L -0.9818100480342644, 0.18986581993332902 L -0.9810283748272627, 0.19386419933494656 ",
          "type": "path"
         },
         {
          "fillcolor": "#c45e3a",
          "layer": "below",
          "line": {
           "color": "rgb(175,175,175)",
           "width": 0.5
          },
          "path": "M -0.9729309307548898,0.23109609252521765 Q -0.06403390924518178, -0.18947205194112357 0.9136537161824769, -0.40649340327482547L 0.9136537161824769, -0.40649340327482547 L 0.9136036999091455, -0.4066058035890781 L 0.9135536698080039, -0.40671819774916473 M 0.9135536698080039,-0.40671819774916473 Q -0.06403451566209792, -0.18947184699559072 -0.9729862853115173, 0.23086292165632533L -0.9729862853115173, 0.23086292165632533 L -0.9729586150181685, 0.23097950874899573 L -0.9729309307548898, 0.23109609252521765 ",
          "type": "path"
         },
         {
          "fillcolor": "#c45e3a",
          "layer": "below",
          "line": {
           "color": "rgb(175,175,175)",
           "width": 0.5
          },
          "path": "M -0.9779897063178242,0.20865314360530468 Q -0.042376888499504384, -0.19545894535963448 0.9765890710284248, -0.21511342670284034L 0.9765890710284248, -0.21511342670284034 L 0.975798515595865, -0.21867157328035697 L 0.9749949963043827, -0.2222268147218438 M 0.9749949963043827,-0.2222268147218438 Q -0.04236326840964813, -0.1954618977950744 -0.9795128275298823, 0.20138177848160693L -0.9795128275298823, 0.20138177848160693 L -0.9787580194781232, 0.20501887549018913 L -0.9779897063178242, 0.20865314360530468 ",
          "type": "path"
         },
         {
          "fillcolor": "#c45e3a",
          "layer": "below",
          "line": {
           "color": "rgb(175,175,175)",
           "width": 0.5
          },
          "path": "M -0.9743519795925237,0.22502937555823757 Q -0.03267996989939897, -0.1973119853616966 0.9948736926598176, -0.10112534624622431L 0.9948736926598176, -0.10112534624622431 L 0.9947300480038593, -0.1025286867088415 L 0.994584423836855, -0.10393182313955247 M 0.994584423836855,-0.10393182313955247 Q -0.032650952679238794, -0.19731678917197623 -0.9750483216529588, 0.2219927261009875L -0.9750483216529588, 0.2219927261009875 L -0.974701333195957, 0.22351132200858198 L -0.9743519795925237, 0.22502937555823757 ",
          "type": "path"
         },
         {
          "fillcolor": "#bf4d28",
          "layer": "below",
          "line": {
           "color": "rgb(175,175,175)",
           "width": 0.5
          },
          "path": "M -0.9999922688305255,-0.003932210469711053 Q -0.19890235039365356, -0.020924985254003603 -0.9789179863441734, -0.2042537050138107L -0.9789179863441734, -0.2042537050138107 L -0.9814192134826977, -0.19187581245952579 L -0.9837639353075154, -0.17946732178385746 M -0.9837639353075154,-0.17946732178385746 Q -0.1989058347723083, -0.020891837964410707 -0.9995837162807328, -0.028851241678640203L -0.9995837162807328, -0.028851241678640203 L -0.999865625765539, -0.01639299888633238 L -0.9999922688305255, -0.003932210469711053 ",
          "type": "path"
         },
         {
          "fillcolor": "#bf4d28",
          "layer": "below",
          "line": {
           "color": "rgb(175,175,175)",
           "width": 0.5
          },
          "path": "M -0.99684363951234,0.07938991348900691 Q -0.19910103720902095, -0.018941409194990207 -0.9639914345709478, -0.26593328876589717L -0.9639914345709478, -0.26593328876589717 L -0.9641613700748506, -0.2653165137253749 L -0.964330910957603, -0.26469963009358244 M -0.964330910957603,-0.26469963009358244 Q -0.1991014699842153, -0.018936859563418174 -0.9969408330600794, 0.07815993460510837L -0.9969408330600794, 0.07815993460510837 L -0.9968924259817274, 0.07877493903689249 L -0.99684363951234, 0.07938991348900691 ",
          "type": "path"
         },
         {
          "fillcolor": "#bf4d28",
          "layer": "below",
          "line": {
           "color": "rgb(175,175,175)",
           "width": 0.5
          },
          "path": "M -0.9970554620227622,0.07668380305237955 Q -0.19607969397246558, -0.039404994755287685 -0.8900214442760875, -0.45591866459787245L -0.8900214442760875, -0.45591866459787245 L -0.8905990356755467, -0.45478935525558023 L -0.8911751941444267, -0.45365931417931166 M -0.8911751941444267,-0.45365931417931166 Q -0.19608591801642872, -0.03937401117049672 -0.997223307296898, 0.07446929154917878L -0.997223307296898, 0.07446929154917878 L -0.9971399994259001, 0.07557659389596705 L -0.9970554620227622, 0.07668380305237955 ",
          "type": "path"
         },
         {
          "fillcolor": "#bf4d28",
          "layer": "below",
          "line": {
           "color": "rgb(175,175,175)",
           "width": 0.5
          },
          "path": "M -0.9989461452725535,0.045897699780124514 Q -0.1794569214274016, -0.08829050544537287 -0.5732352855032007, -0.819390814846044L -0.5732352855032007, -0.819390814846044 L -0.5772169230850636, -0.8165908545313325 L -0.5811848845419213, -0.8137715465534499 M -0.5811848845419213,-0.8137715465534499 Q -0.1795162657211765, -0.08816978133988972 -0.9992960610501614, 0.03751509522354889L -0.9992960610501614, 0.03751509522354889 L -0.9991298943566627, 0.041706764473453034 L -0.9989461452725535, 0.045897699780124514 ",
          "type": "path"
         },
         {
          "fillcolor": "#bf4d28",
          "layer": "below",
          "line": {
           "color": "rgb(175,175,175)",
           "width": 0.5
          },
          "path": "M -0.9965838348122134,0.08258728831353565 Q -0.15180546494478767, -0.13021175374326563 -0.0701003143992036, -0.9975399470302594L -0.0701003143992036, -0.9975399470302594 L -0.07038254969883062, -0.9975200733308035 L -0.07066477936421203, -0.9975001197781418 M -0.07066477936421203,-0.9975001197781418 Q -0.15179410862703085, -0.13022499217172243 -0.9966447000979386, 0.08184950682007826L -0.9966447000979386, 0.08184950682007826 L -0.9966143357264137, 0.08221840319903594 L -0.9965838348122134, 0.08258728831353565 ",
          "type": "path"
         },
         {
          "fillcolor": "#bf4d28",
          "layer": "below",
          "line": {
           "color": "rgb(175,175,175)",
           "width": 0.5
          },
          "path": "M -0.9981720758952175,0.06043597358388525 Q -0.14372998831496225, -0.13907440619675793 0.02754791562242435, -0.9996204841562921L 0.02754791562242435, -0.9996204841562921 L 0.023352693099836896, -0.9997272886767595 L 0.019157059305984565, -0.999816486700808 M 0.019157059305984565,-0.999816486700808 Q -0.14381598207134486, -0.1389854787409628 -0.9985790009638957, 0.05329145179058164L -0.9985790009638957, 0.05329145179058164 L -0.9983819293148394, 0.05686407668800324 L -0.9981720758952175, 0.06043597358388525 ",
          "type": "path"
         },
         {
          "fillcolor": "#bf4d28",
          "layer": "below",
          "line": {
           "color": "rgb(175,175,175)",
           "width": 0.5
          },
          "path": "M -0.9995837162807328,-0.028851241678640203 Q -0.05945925453460953, -0.19095705551298314 0.8065080685997791, -0.5912230841936519L 0.8065080685997791, -0.5912230841936519 L 0.797447822343439, -0.6033879105846478 L 0.7882041064186479, -0.6154139148774431 M 0.7882041064186479,-0.6154139148774431 Q -0.05981109812952062, -0.19084714443905326 -0.9984599591162912, -0.05547711277179262L -0.9984599591162912, -0.05547711277179262 L -0.9991105376540572, -0.04216792084773253 L -0.9995837162807328, -0.028851241678640203 ",
          "type": "path"
         },
         {
          "fillcolor": "#bf4d28",
          "layer": "below",
          "line": {
           "color": "rgb(175,175,175)",
           "width": 0.5
          },
          "path": "M -0.9969408330600794,0.07815993460510837 Q -0.04850767940135064, -0.19402836142970384 0.9164325350334959, -0.40018921616165576L 0.9164325350334959, -0.40018921616165576 L 0.9161368827170274, -0.4008655786239665 L 0.915840731219126, -0.40154172266405475 M 0.915840731219126,-0.40154172266405475 Q -0.04850726604811558, -0.19402846476879967 -0.9970554620227622, 0.07668380305237955L -0.9970554620227622, 0.07668380305237955 L -0.9969984207320065, 0.07742189004335255 L -0.9969408330600794, 0.07815993460510837 ",
          "type": "path"
         },
         {
          "fillcolor": "#bf4d28",
          "layer": "below",
          "line": {
           "color": "rgb(175,175,175)",
           "width": 0.5
          },
          "path": "M -0.9999174702350132,0.012847284491727486 Q -0.017229892238173193, -0.19925644484799218 0.9872805796396671, -0.15898760035412485L 0.9872805796396671, -0.15898760035412485 L 0.9859778846383032, -0.16687603484076743 L 0.9846121615795148, -0.17475380187485295 M 0.9846121615795148,-0.17475380187485295 Q -0.017151257618389967, -0.19926322882586145 -0.9999922688305255, -0.003932210469711053L -0.9999922688305255, -0.003932210469711053 L -0.9999900644331863, 0.0044576939006601484 L -0.9999174702350132, 0.012847284491727486 ",
          "type": "path"
         },
         {
          "fillcolor": "#bf4d28",
          "layer": "below",
          "line": {
           "color": "rgb(175,175,175)",
           "width": 0.5
          },
          "path": "M -0.9992960610501614,0.03751509522354889 Q -0.01114193328613311, -0.19968940212902475 0.9972667121569707, -0.07388575521455908L 0.9972667121569707, -0.07388575521455908 L 0.996962024148565, -0.07788916744705904 L 0.9966412649684826, -0.08189132409494233 M 0.9966412649684826,-0.08189132409494233 Q -0.011032079285240751, -0.1996955012679158 -0.9995969264542057, 0.02838986832137823L -0.9995969264542057, 0.02838986832137823 L -0.999456908183158, 0.03295282514386864 L -0.9992960610501614, 0.03751509522354889 ",
          "type": "path"
         },
         {
          "fillcolor": "#af4624",
          "layer": "below",
          "line": {
           "color": "rgb(175,175,175)",
           "width": 0.5
          },
          "path": "M -0.9957780746272169,-0.09179338806097542 Q -0.19664256871449404, -0.03649246729621737 -0.9624095245520757, -0.2716024798330228L -0.9624095245520757, -0.2716024798330228 L -0.9627216538152069, -0.2704940244724694 L -0.9630325064151138, -0.269385210410341 M -0.9630325064151138,-0.269385210410341 Q -0.19664352772529087, -0.0364872992115444 -0.995568966122381, -0.09403421554951909L -0.995568966122381, -0.09403421554951909 L -0.9956741507654517, -0.0929138606317511 L -0.9957780746272169, -0.09179338806097542 ",
          "type": "path"
         },
         {
          "fillcolor": "#af4624",
          "layer": "below",
          "line": {
           "color": "rgb(175,175,175)",
           "width": 0.5
          },
          "path": "M -0.995568966122381,-0.09403421554951909 Q -0.1916815554678833, -0.05708048084426749 -0.8848244692925983, -0.46592452021874936L -0.8848244692925983, -0.46592452021874936 L -0.8858074903295182, -0.4640528957738766 L -0.886786552419562, -0.4621791973334883 M -0.886786552419562,-0.4621791973334883 Q -0.19169516967962372, -0.05703474310891812 -0.995209246724778, -0.09776786401215887L -0.995209246724778, -0.09776786401215887 L -0.995390857010171, -0.0959012084415901 L -0.995568966122381, -0.09403421554951909 ",
          "type": "path"
         },
         {
          "fillcolor": "#af4624",
          "layer": "below",
          "line": {
           "color": "rgb(175,175,175)",
           "width": 0.5
          },
          "path": "M -0.9923921001648305,-0.12311750294103994 Q -0.17184724422454278, -0.10231580841898452 -0.5811848845419213, -0.8137715465534499L -0.5811848845419213, -0.8137715465534499 L -0.5850229735406273, -0.8110167201911946 L -0.5888480048292261, -0.808243791939437 M -0.5888480048292261,-0.808243791939437 Q -0.1719084367228374, -0.10221296093700749 -0.9913423488158093, -0.13130250357230158L -0.9913423488158093, -0.13130250357230158 L -0.9918756673983711, -0.12721108608543494 L -0.9923921001648305, -0.12311750294103994 ",
          "type": "path"
         },
         {
          "fillcolor": "#af4624",
          "layer": "below",
          "line": {
           "color": "rgb(175,175,175)",
           "width": 0.5
          },
          "path": "M -0.9962247011756081,-0.0868121233905166 Q -0.14031170242295238, -0.14252237074639498 -0.07122922170187004, -0.9974599731195963L -0.07122922170187004, -0.9974599731195963 L -0.07151143432896206, -0.9974397800169265 L -0.0717936412314393, -0.9974195070674783 M -0.0717936412314393,-0.9974195070674783 Q -0.14029856699613444, -0.1425353012373818 -0.9961592954526641, -0.08755945456232472L -0.9961592954526641, -0.08755945456232472 L -0.9961920683939829, -0.08718579510974331 L -0.9962247011756081, -0.0868121233905166 ",
          "type": "path"
         },
         {
          "fillcolor": "#af4624",
          "layer": "below",
          "line": {
           "color": "rgb(175,175,175)",
           "width": 0.5
          },
          "path": "M -0.9931423799725825,-0.11691113335518834 Q -0.13145985196402626, -0.15072593446914273 0.019157059305984565, -0.999816486700808L 0.019157059305984565, -0.999816486700808 L 0.015539860107635042, -0.9998792490835257 L 0.011922457522521737, -0.9999289249774824 M 0.011922457522521737,-0.9999289249774824 Q -0.13153398762132568, -0.1506612428610389 -0.9923921001648305, -0.12311750294103994L -0.9923921001648305, -0.12311750294103994 L -0.9927720900133604, -0.1200149044515063 L -0.9931423799725825, -0.11691113335518834 ",
          "type": "path"
         },
         {
          "fillcolor": "#af4624",
          "layer": "below",
          "line": {
           "color": "rgb(175,175,175)",
           "width": 0.5
          },
          "path": "M -0.9789179863441734,-0.2042537050138107 Q -0.039063861966957034, -0.1961479408207655 0.8259746446975453, -0.563707270058462L 0.8259746446975453, -0.563707270058462 L 0.8163572945166406, -0.5775471995339176 L 0.8065080685997791, -0.5912230841936519 M 0.8065080685997791,-0.5912230841936519 Q -0.03942663758886466, -0.1960753432954698 -0.9723490594724384, -0.23353223876600931L -0.9723490594724384, -0.23353223876600931 L -0.9757433469704733, -0.2189176119978897 L -0.9789179863441734, -0.2042537050138107 ",
          "type": "path"
         },
         {
          "fillcolor": "#af4624",
          "layer": "below",
          "line": {
           "color": "rgb(175,175,175)",
           "width": 0.5
          },
          "path": "M -0.9960490401098324,-0.0888048968035071 Q -0.03228586301532568, -0.19737685540446637 0.915840731219126, -0.40154172266405475L 0.915840731219126, -0.40154172266405475 L 0.9155440807011573, -0.4022176479135055 L 0.9152469313247594, -0.40289335400402304 M 0.9152469313247594,-0.40289335400402304 Q -0.03228348850001831, -0.1973772438004675 -0.9959146783336555, -0.0902992440697672L -0.9959146783336555, -0.0902992440697672 L -0.9959821394820491, -0.08955209563578144 L -0.9960490401098324, -0.0888048968035071 ",
          "type": "path"
         },
         {
          "fillcolor": "#af4624",
          "layer": "below",
          "line": {
           "color": "rgb(175,175,175)",
           "width": 0.5
          },
          "path": "M -0.9886681050422785,-0.15011788058759062 Q -0.0038604849612519625, -0.19996273816854968 0.9821371835011534, -0.18816629024461778L 0.9821371835011534, -0.18816629024461778 L 0.9809911987823651, -0.19405222985458903 L 0.9798099400077347, -0.19993119181868382 M 0.9798099400077347,-0.19993119181868382 Q -0.00378447385369056, -0.19996419118844938 -0.9866732752077593, -0.16271400674432804L -0.9866732752077593, -0.16271400674432804 L -0.9876907702973489, -0.15641912373309622 L -0.9886681050422785, -0.15011788058759062 ",
          "type": "path"
         },
         {
          "fillcolor": "#af4624",
          "layer": "below",
          "line": {
           "color": "rgb(175,175,175)",
           "width": 0.5
          },
          "path": "M -0.9901201770525428,-0.14022137851783223 Q 0.00753950491728855, -0.19985783913973 0.9978705339388071, -0.06522574259201745L 0.9978705339388071, -0.06522574259201745 L 0.9975780203293959, -0.06955640413134755 L 0.9972667121569707, -0.07388575521455908 M 0.9972667121569707,-0.07388575521455908 Q 0.007671553286787732, -0.19985281401613533 -0.9886681050422785, -0.15011788058759062L -0.9886681050422785, -0.15011788058759062 L -0.9894065147992749, -0.14517144510113603 L -0.9901201770525428, -0.14022137851783223 ",
          "type": "path"
         },
         {
          "fillcolor": "#9f4021",
          "layer": "below",
          "line": {
           "color": "rgb(175,175,175)",
           "width": 0.5
          },
          "path": "M -0.9377703336362753,-0.34725610340454643 Q -0.17780236250103246, -0.0915768523648386 -0.8272595099972835, -0.5618199917402855L -0.8272595099972835, -0.5618199917402855 L -0.8343968323693624, -0.5511641553402891 L -0.8413969062916891, -0.5404176589294383 M -0.8413969062916891,-0.5404176589294383 Q -0.17791046376203867, -0.09136666177537806 -0.9294301914084047, -0.36899799362399827L -0.9294301914084047, -0.36899799362399827 L -0.9336635516230463, -0.35815132607689626 L -0.9377703336362753, -0.34725610340454643 ",
          "type": "path"
         },
         {
          "fillcolor": "#9f4021",
          "layer": "below",
          "line": {
           "color": "rgb(175,175,175)",
           "width": 0.5
          },
          "path": "M -0.943331599603366,-0.33185161320951095 Q -0.15525122348379405, -0.12608353424133165 -0.5183152707751691, -0.8551896164484594L -0.5183152707751691, -0.8551896164484594 L -0.526129070555486, -0.8504047278304727 L -0.5338987014709246, -0.8455484472031515 M -0.5338987014709246,-0.8455484472031515 Q -0.15537390414035634, -0.1259323227459232 -0.9377703336362753, -0.34725610340454643L -0.9377703336362753, -0.34725610340454643 L -0.9405825032335128, -0.33956524352615786 L -0.943331599603366, -0.33185161320951095 ",
          "type": "path"
         },
         {
          "fillcolor": "#9f4021",
          "layer": "below",
          "line": {
           "color": "rgb(175,175,175)",
           "width": 0.5
          },
          "path": "M -0.961711335286034,-0.27406442232138306 Q -0.1255780266202261, -0.155660397115547 -0.06445446001238794, -0.997920649442886L -0.06445446001238794, -0.997920649442886 L -0.0654896931595045, -0.9978532457680708 L -0.06652485582327824, -0.9977847681527775 M -0.06652485582327824,-0.9977847681527775 Q -0.12552041727802907, -0.1557068554892477 -0.9609360532067688, -0.27677048550630917L -0.9609360532067688, -0.27677048550630917 L -0.9613246464197404, -0.27541772670974024 L -0.961711335286034, -0.27406442232138306 ",
          "type": "path"
         },
         {
          "fillcolor": "#9f4021",
          "layer": "below",
          "line": {
           "color": "rgb(175,175,175)",
           "width": 0.5
          },
          "path": "M -0.9182714902291986,-0.39595134831472256 Q -0.09015654630752307, -0.17852674073622543 0.2264277802072418, -0.9740279566575186L 0.2264277802072418, -0.9740279566575186 L 0.20919731468261127, -0.9778734496495876 L 0.19190164721704273, -0.9814141622146002 M 0.19190164721704273,-0.9814141622146002 Q -0.09052135874634842, -0.17834204106355545 -0.9054643506862113, -0.42442232462065155L -0.9054643506862113, -0.42442232462065155 L -0.911979031273643, -0.4102368176031834 L -0.9182714902291986, -0.39595134831472256 ",
          "type": "path"
         },
         {
          "fillcolor": "#9f4021",
          "layer": "below",
          "line": {
           "color": "rgb(175,175,175)",
           "width": 0.5
          },
          "path": "M -0.957168112127925,-0.28953273584426337 Q -0.053396140414567986, -0.1927403750873899 0.6717290824325044, -0.7407968951165939L 0.6717290824325044, -0.7407968951165939 L 0.6692282524083005, -0.7430568929621284 L 0.6667198187859756, -0.7453084483876429 M 0.6667198187859756,-0.7453084483876429 Q -0.05345393781065738, -0.19272435376084252 -0.9553718562749258, -0.29540585003991127L -0.9553718562749258, -0.29540585003991127 L -0.9562744930469406, -0.29247067194475534 L -0.957168112127925, -0.28953273584426337 ",
          "type": "path"
         },
         {
          "fillcolor": "#9f4021",
          "layer": "below",
          "line": {
           "color": "rgb(175,175,175)",
           "width": 0.5
          },
          "path": "M -0.9645338390192962,-0.2639592267504555 Q -0.015060719554186345, -0.19943213062721402 0.9139535233960622, -0.40581887224711927L 0.9139535233960622, -0.40581887224711927 L 0.9138036820280373, -0.40615616542409105 L 0.9136537161824769, -0.40649340327482547 M 0.9136537161824769,-0.40649340327482547 Q -0.015057772804518647, -0.19943235313801896 -0.964330910957603, -0.26469963009358244L -0.964330910957603, -0.26469963009358244 L -0.9644324460402289, -0.2643294478957288 L -0.9645338390192962, -0.2639592267504555 ",
          "type": "path"
         },
         {
          "fillcolor": "#9f4021",
          "layer": "below",
          "line": {
           "color": "rgb(175,175,175)",
           "width": 0.5
          },
          "path": "M -0.9639914345709478,-0.26593328876589717 Q 0.0022498713974609097, -0.19998734479635177 0.9697302305418373, -0.24417878690270178L 0.9697302305418373, -0.24417878690270178 L 0.9695577291047227, -0.24486283902073236 L 0.9693847451341947, -0.2455467692744345 M 0.9693847451341947,-0.2455467692744345 Q 0.002262318929482551, -0.19998720437333312 -0.9635819797238305, -0.2674131043002633L -0.9635819797238305, -0.2674131043002633 L -0.9637869911642879, -0.26667327511861555 L -0.9639914345709478, -0.26593328876589717 ",
          "type": "path"
         },
         {
          "fillcolor": "#9f4021",
          "layer": "below",
          "line": {
           "color": "rgb(175,175,175)",
           "width": 0.5
          },
          "path": "M -0.9600816070703961,-0.27972005249020937 Q 0.018562591814750527, -0.19913671229865917 0.9952400178620947, -0.09745412687955987L 0.9952400178620947, -0.09745412687955987 L 0.9950585483602123, -0.09928990550537882 L 0.9948736926598176, -0.10112534624622431 M 0.9948736926598176,-0.10112534624622431 Q 0.01862839529444859, -0.19913056743944102 -0.9588556456541041, -0.28389408376584946L -0.9588556456541041, -0.28389408376584946 L -0.9594708961754576, -0.28180773479850474 L -0.9600816070703961, -0.27972005249020937 ",
          "type": "path"
         },
         {
          "fillcolor": "#8f391e",
          "layer": "below",
          "line": {
           "color": "rgb(175,175,175)",
           "width": 0.5
          },
          "path": "M -0.7575086612978718,-0.6528251129197667 Q -0.1102376246791736, -0.16687619993604141 -0.3032359582892392, -0.9529155018155633L -0.3032359582892392, -0.9529155018155633 L -0.34333288030702513, -0.9392137846625134 L -0.38281334806672246, -0.9238257089635179 M -0.38281334806672246,-0.9238257089635179 Q -0.11034753566240606, -0.16680354124908148 -0.7004679092699896, -0.713683899273992L -0.7004679092699896, -0.713683899273992 L -0.7296230999977542, -0.6838494951008351 L -0.7575086612978718, -0.6528251129197667 ",
          "type": "path"
         },
         {
          "fillcolor": "#8f391e",
          "layer": "below",
          "line": {
           "color": "rgb(175,175,175)",
           "width": 0.5
          },
          "path": "M -0.8827141463210136,-0.46991034877385307 Q -0.10661101553812907, -0.16921610847058505 -0.04279448125962398, -0.9990838965641072L -0.04279448125962398, -0.9990838965641072 L -0.04524419967338547, -0.998975956865787 L -0.04769364604412323, -0.9988620105535188 M -0.04769364604412323,-0.9988620105535188 Q -0.10640579663813197, -0.169345228577024 -0.8792465967808959, -0.4763668985658141L -0.8792465967808959, -0.4763668985658141 L -0.8809862863954593, -0.4731418002915592 L -0.8827141463210136, -0.46991034877385307 ",
          "type": "path"
         },
         {
          "fillcolor": "#8f391e",
          "layer": "below",
          "line": {
           "color": "rgb(175,175,175)",
           "width": 0.5
          },
          "path": "M -0.8057877305328784,-0.5922044691849879 Q -0.04905269636947024, -0.1938912916530409 0.4272251396874522, -0.9041452759479734L 0.4272251396874522, -0.9041452759479734 L 0.39091574732701706, -0.9204264655537452 L 0.35398735977495366, -0.9352502066931381 M 0.35398735977495366,-0.9352502066931381 Q -0.049253768827943294, -0.19384031122613152 -0.7575086612978718, -0.6528251129197667L -0.7575086612978718, -0.6528251129197667 L -0.7822356536169043, -0.6229826500076342 L -0.8057877305328784, -0.5922044691849879 ",
          "type": "path"
         },
         {
          "fillcolor": "#8f391e",
          "layer": "below",
          "line": {
           "color": "rgb(175,175,175)",
           "width": 0.5
          },
          "path": "M -0.8718940827618763,-0.4896945052222113 Q -0.03016979595953507, -0.197711363891305 0.6861642404284342, -0.7274466545096416L 0.6861642404284342, -0.7274466545096416 L 0.6824774573467298, -0.7309066426114504 L 0.6787732274883186, -0.7343479458983264 M 0.6787732274883186,-0.7343479458983264 Q -0.030166296737011183, -0.19771189782401713 -0.8668800750009845, -0.4985167354926888L -0.8668800750009845, -0.4985167354926888 L -0.8693982694155327, -0.4941119803620197 L -0.8718940827618763, -0.4896945052222113 ",
          "type": "path"
         },
         {
          "fillcolor": "#8f391e",
          "layer": "below",
          "line": {
           "color": "rgb(175,175,175)",
           "width": 0.5
          },
          "path": "M -0.8755956978892584,-0.48304469134627964 Q 0.011325920292494133, -0.19967905130365596 0.9246012440008704, -0.38093639835547743L 0.9246012440008704, -0.38093639835547743 L 0.9233307856528246, -0.384005547180946 L 0.9220501395139463, -0.3870704589894613 M 0.9220501395139463,-0.3870704589894613 Q 0.011422488736741341, -0.19967355045438295 -0.8718940827618763, -0.4896945052222113L -0.8718940827618763, -0.4896945052222113 L -0.8737512165234357, -0.48637311975870556 L -0.8755956978892584, -0.48304469134627964 ",
          "type": "path"
         },
         {
          "fillcolor": "#8f391e",
          "layer": "below",
          "line": {
           "color": "rgb(175,175,175)",
           "width": 0.5
          },
          "path": "M -0.8914308043794754,-0.4531568392988915 Q 0.021919189443368563, -0.198795244244287 0.9687463436280315, -0.24805346542090487L 0.9687463436280315, -0.24805346542090487 L 0.9686879856433768, -0.24828126483924856 L 0.9686295740919917, -0.2485090505280779 M 0.9686295740919917,-0.2485090505280779 Q 0.02192847729534185, -0.1987942199449161 -0.8911751941444267, -0.45365931417931166L -0.8911751941444267, -0.45365931417931166 L -0.8913030346709254, -0.4534080947517359 L -0.8914308043794754, -0.4531568392988915 ",
          "type": "path"
         },
         {
          "fillcolor": "#8f391e",
          "layer": "below",
          "line": {
           "color": "rgb(175,175,175)",
           "width": 0.5
          },
          "path": "M -0.8916861313021275,-0.4526542203972533 Q 0.035803670428871684, -0.19676914693066275 0.9939821379132905, -0.10954227270476143L 0.9939821379132905, -0.10954227270476143 L 0.9939583409146912, -0.1097579907164602 L 0.9939344971000996, -0.10997370355849638 M 0.9939344971000996,-0.10997370355849638 Q 0.03581643082133873, -0.19676682465095652 -0.8914308043794754, -0.4531568392988915L -0.8914308043794754, -0.4531568392988915 L -0.8915585032599249, -0.4529055478407419 L -0.8916861313021275, -0.4526542203972533 ",
          "type": "path"
         },
         {
          "fillcolor": "#f0f3e7",
          "layer": "below",
          "line": {
           "color": "rgb(175,175,175)",
           "width": 0.5
          },
          "path": "M -0.555984467830286,-0.8311926801479147 Q -0.06094882090692483, -0.19048685316854708 -0.029788176455491224, -0.9995562338075115L -0.029788176455491224, -0.9995562338075115 L -0.033370219573997315, -0.999443059131226 L -0.036951834090696266, -0.9993170477667904 M -0.036951834090696266,-0.9993170477667904 Q -0.06059509712169434, -0.19059967000184558 -0.5469079810752825, -0.8371927258619477L -0.5469079810752825, -0.8371927258619477 L -0.5514543848772745, -0.8342050475750112 L -0.555984467830286, -0.8311926801479147 ",
          "type": "path"
         },
         {
          "fillcolor": "#f0f3e7",
          "layer": "below",
          "line": {
           "color": "rgb(175,175,175)",
           "width": 0.5
          },
          "path": "M -0.3032359582892392,-0.9529155018155633 Q 0.023208173281177195, -0.1986488879731041 0.5147297810439737, -0.8573524669040283L 0.5147297810439737, -0.8573524669040283 L 0.47155822537316905, -0.8818349279104948 L 0.4272251396874522, -0.9041452759479734 M 0.4272251396874522,-0.9041452759479734 Q 0.023102835857915748, -0.19866116624877195 -0.20833886086140574, -0.9780567054393993L -0.20833886086140574, -0.9780567054393993 L -0.2560961126748459, -0.9666513234216527 L -0.3032359582892392, -0.9529155018155633 ",
          "type": "path"
         },
         {
          "fillcolor": "#f0f3e7",
          "layer": "below",
          "line": {
           "color": "rgb(175,175,175)",
           "width": 0.5
          },
          "path": "M -0.477097693895213,-0.8788502662455474 Q 0.04076590623736224, -0.1958012790781679 0.7882041064186479, -0.6154139148774431L 0.7882041064186479, -0.6154139148774431 L 0.7792193652490524, -0.6267512910404444 L 0.770071563332117, -0.6379575121802621 M 0.770071563332117,-0.6379575121802621 Q 0.04082070467629141, -0.19578986201979665 -0.45097514099624586, -0.8925365102915489L -0.45097514099624586, -0.8925365102915489 L -0.46408687229320433, -0.8857896900309413 L -0.477097693895213, -0.8788502662455474 ",
          "type": "path"
         },
         {
          "fillcolor": "#f0f3e7",
          "layer": "below",
          "line": {
           "color": "rgb(175,175,175)",
           "width": 0.5
          },
          "path": "M -0.5469079810752825,-0.8371927258619477 Q 0.06127142940475279, -0.1903833289411087 0.9325433248962699, -0.3610580939286779L 0.9325433248962699, -0.3610580939286779 L 0.9301241040525401, -0.36724535539671505 L 0.9276638323359118, -0.3734164085519667 M 0.9276638323359118,-0.3734164085519667 Q 0.06147842224765087, -0.1903165878160376 -0.5338987014709246, -0.8455484472031515L -0.5338987014709246, -0.8455484472031515 L -0.5404194905616534, -0.8413957298566965 L -0.5469079810752825, -0.8371927258619477 ",
          "type": "path"
         },
         {
          "fillcolor": "#f0f3e7",
          "layer": "below",
          "line": {
           "color": "rgb(175,175,175)",
           "width": 0.5
          },
          "path": "M -0.601960088628896,-0.7985261747105674 Q 0.06681309309525442, -0.18850997477864367 0.9704721587382051, -0.24121316115421235L 0.9704721587382051, -0.24121316115421235 L 0.9701023278891852, -0.2426962575401274 L 0.9697302305418373, -0.24417878690270178 M 0.9697302305418373,-0.24417878690270178 Q 0.06687579125802953, -0.18848774109637068 -0.5989836022328169, -0.8007612904331719L -0.5989836022328169, -0.8007612904331719 L -0.6004728853917646, -0.7996451174798035 L -0.601960088628896, -0.7985261747105674 ",
          "type": "path"
         },
         {
          "fillcolor": "#f0f3e7",
          "layer": "below",
          "line": {
           "color": "rgb(175,175,175)",
           "width": 0.5
          },
          "path": "M -0.5955388850627605,-0.803326481810605 Q 0.08254403709258817, -0.18217157281106577 0.9966412649684826, -0.08189132409494233L 0.9966412649684826, -0.08189132409494233 L 0.9963786279105947, -0.08502723000898323 L 0.9961061238306093, -0.0881622939082178 M 0.9961061238306093,-0.0881622939082178 Q 0.08272705357375125, -0.18208853507842193 -0.5888480048292261, -0.808243791939437L -0.5888480048292261, -0.808243791939437 L -0.5921985488176482, -0.805792081605591 L -0.5955388850627605, -0.803326481810605 ",
          "type": "path"
         },
         {
          "fillcolor": "#e2ecde",
          "layer": "below",
          "line": {
           "color": "rgb(175,175,175)",
           "width": 0.5
          },
          "path": "M -0.029788176455491224,-0.9995562338075115 Q 0.004406239635252348, -0.1999514567395715 0.07379141269574385, -0.9972736973430947L 0.07379141269574385, -0.9972736973430947 L 0.06657377897020296, -0.9977815051170404 L 0.059352659967173114, -0.9982370769285326 M 0.059352659967173114,-0.9982370769285326 Q 0.0039023640598683214, -0.19996192526264656 -0.020360038585624612, -0.9997927129304314L -0.020360038585624612, -0.9997927129304314 L -0.02507438630448198, -0.9996855881483205 L -0.029788176455491224, -0.9995562338075115 ",
          "type": "path"
         },
         {
          "fillcolor": "#e2ecde",
          "layer": "below",
          "line": {
           "color": "rgb(175,175,175)",
           "width": 0.5
          },
          "path": "M -0.06445446001238794,-0.997920649442886 Q 0.06469878305979297, -0.18924605007920733 0.6618908386387851, -0.7496002386112519L 0.6618908386387851, -0.7496002386112519 L 0.6604156562324911, -0.7509002337215032 L 0.6589379205599315, -0.7521973257385016 M 0.6589379205599315,-0.7521973257385016 Q 0.06457653670833954, -0.18928779914922272 -0.06181901066139483, -0.9980873758949396L -0.06181901066139483, -0.9980873758949396 L -0.06313679037160602, -0.9980048826040742 L -0.06445446001238794, -0.997920649442886 ",
          "type": "path"
         },
         {
          "fillcolor": "#e2ecde",
          "layer": "below",
          "line": {
           "color": "rgb(175,175,175)",
           "width": 0.5
          },
          "path": "M -0.06934765956015977,-0.9975925531566122 Q 0.10340274248996546, -0.17119542296905574 0.9152469313247594, -0.40289335400402304L 0.9152469313247594, -0.40289335400402304 L 0.914949283251842, -0.403568840567431 L 0.9146511366445865, -0.4042441072356726 M 0.9146511366445865,-0.4042441072356726 Q 0.10337324582998997, -0.17121323560569862 -0.06821860341682748, -0.9976703975501416L -0.06821860341682748, -0.9976703975501416 L -0.06878314250091228, -0.9976316350776469 L -0.06934765956015977, -0.9975925531566122 ",
          "type": "path"
         },
         {
          "fillcolor": "#e2ecde",
          "layer": "below",
          "line": {
           "color": "rgb(175,175,175)",
           "width": 0.5
          },
          "path": "M -0.0701003143992036,-0.9975399470302594 Q 0.11722654250440295, -0.16204301198281712 0.9693847451341947, -0.2455467692744345L 0.9693847451341947, -0.2455467692744345 L 0.9692691544555618, -0.24600265490640597 L 0.9691533493814598, -0.24645848612433321 M 0.9691533493814598,-0.24645848612433321 Q 0.11721146130354487, -0.1620539210851981 -0.06934765956015977, -0.9975925531566122L -0.06934765956015977, -0.9975925531566122 L -0.06972399194103816, -0.9975663210773538 L -0.0701003143992036, -0.9975399470302594 ",
          "type": "path"
         },
         {
          "fillcolor": "#e2ecde",
          "layer": "below",
          "line": {
           "color": "rgb(175,175,175)",
           "width": 0.5
          },
          "path": "M -0.07216990815740791,-0.9973923522649205 Q 0.12795162427654547, -0.15371526223831433 0.9939344971000996, -0.10997370355849638L 0.9939344971000996, -0.10997370355849638 L 0.9939106064706389, -0.11018941122070978 L 0.9938866690274344, -0.11040511369294048 M 0.9938866690274344,-0.11040511369294048 Q 0.12794725811691252, -0.15371889649735382 -0.0717936412314393, -0.9974195070674783L -0.0717936412314393, -0.9974195070674783 L -0.07198177597492662, -0.9974059474093262 L -0.07216990815740791, -0.9973923522649205 ",
          "type": "path"
         },
         {
          "fillcolor": "#d4e5d6",
          "layer": "below",
          "line": {
           "color": "rgb(175,175,175)",
           "width": 0.5
          },
          "path": "M 0.2264277802072418,-0.9740279566575186 Q 0.11576765532616871, -0.16308847286145456 0.8448035898900185, -0.5350765314503501L 0.8448035898900185, -0.5350765314503501 L 0.8355117635863639, -0.5494725588314706 L 0.8259746446975453, -0.563707270058462 M 0.8259746446975453,-0.563707270058462 Q 0.1158524630318356, -0.16302823930061064 0.2606716460868589, -0.9654275182147893L 0.2606716460868589, -0.9654275182147893 L 0.24358767345529225, -0.969878881789184 L 0.2264277802072418, -0.9740279566575186 ",
          "type": "path"
         },
         {
          "fillcolor": "#d4e5d6",
          "layer": "below",
          "line": {
           "color": "rgb(175,175,175)",
           "width": 0.5
          },
          "path": "M 0.0893678190835612,-0.9959986912201481 Q 0.1235862947476175, -0.15724639185226164 0.9466674480716084, -0.3222122635183035L 0.9466674480716084, -0.3222122635183035 L 0.9443846781555199, -0.3288427886773483 L 0.942055468215079, -0.3354571430243633 M 0.942055468215079,-0.3354571430243633 Q 0.12378055114522613, -0.15709352360356574 0.1057858242365569, -0.9943889376851456L 0.1057858242365569, -0.9943889376851456 L 0.09758014117580352, -0.9952276704594333 L 0.0893678190835612, -0.9959986912201481 ",
          "type": "path"
         },
         {
          "fillcolor": "#d4e5d6",
          "layer": "below",
          "line": {
           "color": "rgb(175,175,175)",
           "width": 0.5
          },
          "path": "M 0.011054255898294655,-0.9999388998466532 Q 0.12356017409920911, -0.15726691761643052 0.9689210961493567, -0.24736998491476064L 0.9689210961493567, -0.24736998491476064 L 0.9688337801603353, -0.24771174057810633 L 0.9687463436280315, -0.24805346542090487 M 0.9687463436280315,-0.24805346542090487 Q 0.12357297456294714, -0.1572568598111549 0.011922457522521737, -0.9999289249774824L 0.011922457522521737, -0.9999289249774824 L 0.011488357793004392, -0.9999340066400482 L 0.011054255898294655, -0.9999388998466532 ",
          "type": "path"
         },
         {
          "fillcolor": "#d4e5d6",
          "layer": "below",
          "line": {
           "color": "rgb(175,175,175)",
           "width": 0.5
          },
          "path": "M 0.04721437801139638,-0.9988847793960007 Q 0.14141945176247356, -0.14142326068649888 0.998883507401307, -0.047241281117927705L 0.998883507401307, -0.047241281117927705 L 0.998657829150867, -0.051793245463842466 L 0.9984114074689946, -0.05634413399619569 M 0.9984114074689946,-0.05634413399619569 Q 0.1416342874555749, -0.14120810393511973 0.059352659967173114, -0.9982370769285326L 0.059352659967173114, -0.9982370769285326 L 0.053284503145877335, -0.9985793717699645 L 0.04721437801139638, -0.9988847793960007 ",
          "type": "path"
         },
         {
          "fillcolor": "#c6decd",
          "layer": "below",
          "line": {
           "color": "rgb(175,175,175)",
           "width": 0.5
          },
          "path": "M 0.7043331712334929,-0.7098695541436969 Q 0.16808663972527027, -0.10838303163257246 0.9372581886938776, -0.34863603905257967L 0.9372581886938776, -0.34863603905257967 L 0.9349213880951907, -0.35485489722161356 L 0.9325433248962699, -0.3610580939286779 M 0.9325433248962699,-0.3610580939286779 Q 0.16818852147183821, -0.10822486426471976 0.7150192060692138, -0.6991048097046331L 0.7150192060692138, -0.6991048097046331 L 0.7096965990262462, -0.7045074430625836 L 0.7043331712334929, -0.7098695541436969 ",
          "type": "path"
         },
         {
          "fillcolor": "#c6decd",
          "layer": "below",
          "line": {
           "color": "rgb(175,175,175)",
           "width": 0.5
          },
          "path": "M 0.7402543568522643,-0.6723269198546497 Q 0.18096688449325649, -0.08515272583308402 0.989897589889677, -0.1417842076206264L 0.989897589889677, -0.1417842076206264 L 0.9886265056613835, -0.1503915965197601 L 0.9872805796396671, -0.15898760035412485 M 0.9872805796396671,-0.15898760035412485 Q 0.1811107283729074, -0.08484635565676918 0.7540684964846482, -0.6567957845551249L 0.7540684964846482, -0.6567957845551249 L 0.7472017810084275, -0.6645972452981084 L 0.7402543568522643, -0.6723269198546497 ",
          "type": "path"
         },
         {
          "fillcolor": "#c6decd",
          "layer": "below",
          "line": {
           "color": "rgb(175,175,175)",
           "width": 0.5
          },
          "path": "M 0.7263134973169424,-0.6873635890962162 Q 0.1846274353044141, -0.07689414888607837 0.9995065603657314, -0.031410759078132795L 0.9995065603657314, -0.031410759078132795 L 0.9992263843066296, -0.03932725397863165 L 0.998883507401307, -0.047241281117927705 M 0.998883507401307,-0.047241281117927705 Q 0.1848061840587422, -0.07646354905212227 0.7402543568522643, -0.6723269198546497L 0.7402543568522643, -0.6723269198546497 L 0.7333224686835168, -0.6798809873234525 L 0.7263134973169424, -0.6873635890962162 ",
          "type": "path"
         },
         {
          "fillcolor": "#b8d7c5",
          "layer": "below",
          "line": {
           "color": "rgb(175,175,175)",
           "width": 0.5
          },
          "path": "M 0.9142528326178754,-0.4051441200982574 Q 0.19312207453966432, -0.05199869542110015 0.9940768577253819, -0.10867934916455303L 0.9940768577253819, -0.10867934916455303 L 0.9940295914580314, -0.10911082121301817 L 0.9939821379132905, -0.10954227270476143 M 0.9939821379132905,-0.10954227270476143 Q 0.1931250928291145, -0.05198748426059788 0.9146511366445865, -0.4042441072356726L 0.9146511366445865, -0.4042441072356726 L 0.9144520953564409, -0.40469416266881686 L 0.9142528326178754, -0.4051441200982574 ",
          "type": "path"
         },
         {
          "fillcolor": "#aad0bc",
          "layer": "below",
          "line": {
           "color": "rgb(175,175,175)",
           "width": 0.5
          },
          "path": "M 0.9713169595728378,-0.2377884859411365 Q 0.197228255172292, -0.03318155152631177 0.9956536440902435, -0.09313335068501902L 0.9956536440902435, -0.09313335068501902 L 0.9954491752858248, -0.09529396320214292 L 0.9952400178620947, -0.09745412687955987 M 0.9952400178620947,-0.09745412687955987 Q 0.197234267456649, -0.03314579522109944 0.972424559672203, -0.2332176574496927L 0.972424559672203, -0.2332176574496927 L 0.9718734467653334, -0.2355037228420617 L 0.9713169595728378, -0.2377884859411365 ",
          "type": "path"
         },
         {
          "fillcolor": "#f2e6ce",
          "layer": "below",
          "line": {
           "color": "rgb(150,150,150)",
           "width": 0.45
          },
          "path": "M 1.1, 0.0 L 1.0997395282670144, 0.023936791076601974 L 1.0989582364235548, 0.047862246048742424 L 1.097656494477695, 0.0717650341805685 L 1.095834918914854, 0.09563383547090222 L 1.0934943724058384, 0.11945734601422292 L 1.0906359633982943, 0.14322428335402687 L 1.087261045591763, 0.16692339182602925 L 1.08337121729659, 0.19054344788867747 L 1.0789683206769873, 0.21407326543845184 L 1.074054440878615, 0.2375017011074359 L 1.068631905041085, 0.2608176595406482 L 1.0627032811958645, 0.2840100986506352 L 0.9660938919962404, 0.2581909987733047 L 0.97148355003735, 0.23710696321877103 L 0.9764131280714682, 0.21591063737039626 L 0.9808802915245339, 0.19461205948950167 L 0.9848829248150817, 0.17322131626243406 L 0.9884191323561482, 0.15174853802366295 L 0.9914872394529948, 0.13020389395820622 L 0.9940857930962167, 0.10859758728565719 L 0.9962135626498672, 0.08693985042809292 L 0.9978695404342681, 0.06524094016415317 L 0.9990529422032316, 0.04351113277158402 L 0.9997632075154675, 0.021760719160547247 L 1.0, 0.0 L 1.1 ,0.0",
          "type": "path"
         },
         {
          "fillcolor": "#ecd5bb",
          "layer": "below",
          "line": {
           "color": "rgb(150,150,150)",
           "width": 0.45
          },
          "path": "M 1.0532579284929848, 0.3172502735486082 L 1.0464159573223164, 0.33913661592523486 L 1.0391192496209887, 0.36087558114551543 L 1.0313709762882242, 0.38245772219982116 L 1.0231745044582004, 0.40387366022893406 L 1.0145333960368088, 0.4251140885997778 L 1.0054514061537736, 0.4461697769497612 L 0.995932481530799, 0.4670315751979782 L 0.985980758766461, 0.48769041752151937 L 0.9756005625385822, 0.5081373262951682 L 0.9647964037248754, 0.5283634159927686 L 0.9535729774426706, 0.5483598970485719 L 0.9419351610085779, 0.5681180796768791 L 0.9298880118189726, 0.5876293776483256 L 0.9174367651522242, 0.6068853120211618 L 0.9045868318936235, 0.6258775148259101 L 0.8913437961839977, 0.6445977327017991 L 0.8777134129930332, 0.6630378304833906 L 0.8637016056183636, 0.6811897947358437 L 0.8493144631115076, 0.6990457372372797 L 0.8345582376317746, 0.7165978984067332 L 0.8194393417292923, 0.7338386506761988 L 0.8039643455583306, 0.750760501805313 L 0.7881399740221379, 0.7673560981372233 L 0.771973103850529, 0.7836182277942371 L 0.7554707606114932, 0.799539823811855 L 0.7386401156581237, 0.8151139672098336 L 0.721488483012193, 0.8303338899989356 L 0.7040233161857296, 0.8451929781220668 L 0.6862522049419763, 0.8596847743285186 L 0.6681828719971405, 0.873802980980068 L 0.649823169664365, 0.8875414627877156 L 0.6311810764413825, 0.9008942494778717 L 0.6122646935433332, 0.913855538386833 L 0.5930822413822542, 0.9264196969824214 L 0.5736420559947708, 0.9385812653116897 L 0.5539525854195395, 0.9503349583736295 L 0.534022386026021, 0.961675668415852 L 0.5138601187961735, 0.9725984671542427 L 0.4934745455606878, 0.9830986079146246 L 0.4728745251913958, 0.9931715276954994 L 0.45206900975150777, 1.0028128491509727 L 0.4310670406053527, 1.0120183824929978 L 0.409877744489311, 1.0207841273121145 L 0.3885103295456468, 1.0291062743158905 L 0.36697408132096615, 1.0369812069843085 L 0.345278358731035, 1.044405503141382 L 0.3138894170282136, 0.9494595483103471 L 0.3336128012008783, 0.942710188167553 L 0.3531912086778607, 0.9355511584689914 L 0.3726161313539191, 0.9279855702837404 L 0.3918791278230479, 0.9200167113572706 L 0.4109718270468252, 0.9116480446827023 L 0.42988593199217795, 0.9028832069959085 L 0.4486132232369889, 0.8937260071951132 L 0.46714556254197587, 0.8841804246856751 L 0.4854748963872918, 0.8742506076507744 L 0.5035932594723086, 0.863940871248754 L 0.5214927781770643, 0.8532556957378997 L 0.5391656739838674, 0.842199724529474 L 0.5566042668575756, 0.8307777621698481 L 0.573800978583075, 0.8189947722526105 L 0.5907483360585136, 0.8068558752615596 L 0.607438974542855, 0.7943663463455163 L 0.623865640856342, 0.781531613025926 L 0.6400211965324814, 0.7683572528382425 L 0.6558986209201755, 0.7548489909081233 L 0.6714910142346578, 0.7410126974634851 L 0.6867916005559028, 0.7268543852835044 L 0.7017937307732081, 0.71238020708567 L 0.7164908854746708, 0.6975964528520211 L 0.7308766777803005, 0.682509547095739 L 0.7449448561175385, 0.6671260460692716 L 0.7586893069379769, 0.6514526349152119 L 0.7721040573740977, 0.6354961247611634 L 0.785183277834876, 0.6192634497598579 L 0.797921284539121, 0.6027616640758096 L 0.8103125419854524, 0.5859979388198173 L 0.8223516653578395, 0.5689795589326455 L 0.8340334228656583, 0.5517139200192379 L 0.8453527380172478, 0.5342085251348414 L 0.8563046918259798, 0.5164709815244355 L 0.8668845249478823, 0.4985089973168835 L 0.8770876397498867, 0.48033037817524415 L 0.8869096023078019, 0.46194302390469827 L 0.8963461443331463, 0.44335492501956303 L 0.905393165027999, 0.42457415927088926 L 0.9140467328670668, 0.4056088881361465 L 0.9223030873061898, 0.38646735327252524 L 0.9301586404165456, 0.3671578729353946 L 0.9376099784438401, 0.34768883836347375 L 0.9446538632918079, 0.3280687101322867 L 0.9512872339293785, 0.30830601447748623 L 0.9575072077208951, 0.28840933958964377 L 1.0532579284929848 ,0.3172502735486082",
          "type": "path"
         },
         {
          "fillcolor": "#e6c4a9",
          "layer": "below",
          "line": {
           "color": "rgb(150,150,150)",
           "width": 0.45
          },
          "path": "M 0.3123024150649366, 1.054735607412876 L 0.2896597499380816, 1.061177284559846 L 0.26688441933186985, 1.0671329376970289 L 0.2439868544510267, 1.0725998391082734 L 0.22097754248413004, 1.077575484927935 L 0.19786702180043045, 1.0820575962876597 L 0.17466587712322892, 1.0860441203601137 L 0.15138473468202737, 1.0895332312991892 L 0.12803425734566623, 1.0925233310762494 L 0.10462513973868263, 1.0950130502120334 L 0.08116810334312291, 1.0970012484038842 L 0.05767389158805672, 1.098487015048011 L 0.03415326492903667, 1.0994696696565518 L 0.010616995919761492, 1.0999487621692385 L -0.012924135721803462, 1.099924073159527 L -0.03645934805058445, 1.099395613935096 L -0.05997786183257985, 1.098363626532667 L -0.08346890548179896, 1.0968285836071519 L -0.10692171999369568, 1.0947911882151729 L -0.13032556387284233, 1.0922523734930614 L -0.15366971805258375, 1.0892133022294759 L -0.17694349080441732, 1.0856753663328405 L -0.20013622263485342, 1.0816401861938436 L -0.22323729116751295, 1.0771096099432924 L -0.2029429919704663, 0.979190554493902 L -0.18194202057713946, 0.9833092601762213 L -0.16085771891310663, 0.9869776057571276 L -0.13969974368416704, 0.9901939111177053 L -0.11847778533894755, 0.9929567031755102 L -0.09720156363063243, 0.995264716559248 L -0.07588082316527177, 0.9971168941883197 L -0.054525328938708956, 0.9985123877569699 L -0.03314486186416768, 0.9994505581228145 L -0.0117492142925486, 0.99993097559957 L 0.009651814472510446, 0.9999534201538531 L 0.031048422662760606, 0.9995178815059561 L 0.052430810534597014, 0.9986245591345554 L 0.07378918485738446, 0.9972738621853492 L 0.09511376339880238, 0.9954664092836667 L 0.11639477940515111, 0.9932030282511357 L 0.13762248607457034, 0.9904847557265355 L 0.1587871610211172, 0.9873128366910124 L 0.17987911072766402, 0.9836887238978724 L 0.20088867498557275, 0.9796140772072137 L 0.22180623131911514, 0.975090762825703 L 0.24262219939260896, 0.9701208524518443 L 0.26332704539825597, 0.9647066223271326 L 0.2839112864226696, 0.9588505521935234 L 0.3123024150649366 ,1.054735607412876",
          "type": "path"
         },
         {
          "fillcolor": "#e1b396",
          "layer": "below",
          "line": {
           "color": "rgb(150,150,150)",
           "width": 0.45
          },
          "path": "M -0.25695996749886973, 1.069566068601178 L -0.2800101480106703, 1.0637642205916886 L -0.3029295864012386, 1.0574656806169997 L -0.32570758114416953, 1.050673389586514 L -0.3483334967558163, 1.043390518951493 L -0.3707967687612021, 1.035620469224248 L -0.39308690862677687, 1.027366868390374 L -0.41519350865771476, 1.0186335702147737 L -0.4371062468574675, 1.0094246524422608 L -0.45881489174730267, 0.9997444148935823 L -0.4803093071435777, 0.98959737745775 L -0.5015794568905193, 0.978988277981617 L -0.5226154095462974, 0.967922070057686 L -0.5434073430202059, 0.9564039207111819 L -0.5639455491587859, 0.9444392079874678 L -0.5842204382787495, 0.9320335184409335 L -0.6042225436445868, 0.9191926445265245 L -0.623942525888767, 0.9059225818951339 L -0.6433711773724683, 0.892229526594118 L -0.5848828885204257, 0.8111177514491982 L -0.5672204780806972, 0.8235659835410307 L -0.5492932214950789, 0.8356296768422949 L -0.5311094893443177, 0.8473031985826668 L -0.5126777719625326, 0.8585810981704253 L -0.4940066754729144, 0.869458109737438 L -0.47510491776936126, 0.8799291545978963 L -0.45598132444592665, 0.8899893436196518 L -0.4366448246759797, 0.8996339795070454 L -0.41710444704300237, 0.9088585589941657 L -0.39736931532497044, 0.9176587749475097 L -0.3774486442342861, 0.926030518377067 L -0.35735173511525165, 0.9339698803548855 L -0.3370879716010928, 0.9414731538402255 L -0.31666681523256024, 0.9485368354104481 L -0.2960978010401541, 0.9551576268968307 L -0.2753905330920351, 0.9613324369245452 L -0.2545546800097003, 0.9670583823560804 L -0.2335999704535179, 0.9723327896374345 L -0.25695996749886973 ,1.069566068601178",
          "type": "path"
         },
         {
          "fillcolor": "#dba284",
          "layer": "below",
          "line": {
           "color": "rgb(150,150,150)",
           "width": 0.45
          },
          "path": "M -0.671079319236247, 0.8715804881325737 L -0.6883835929683682, 0.8579790375830637 L -0.7054122644516337, 0.8440340853077076 L -0.7221585160625501, 0.8297512143277259 L -0.7386156432476525, 0.8151361429539588 L -0.671468766588775, 0.7410328572308715 L -0.6565077418750455, 0.7543192857524781 L -0.6412838767742124, 0.7673037139160978 L -0.62580326633488, 0.7799809432573306 L -0.6100721083965881, 0.7923458983023397 L -0.671079319236247 ,0.8715804881325737",
          "type": "path"
         },
         {
          "fillcolor": "#d59171",
          "layer": "below",
          "line": {
           "color": "rgb(150,150,150)",
           "width": 0.45
          },
          "path": "M -0.7638552260169849, 0.791533444452312 L -0.7924160674964296, 0.7629395624644815 L -0.8199072574678189, 0.7333158181517702 L -0.8462916866472592, 0.7027021994499073 L -0.8715337397240335, 0.6711400304874094 L -0.7923033997491212, 0.6101273004430995 L -0.7693560787702356, 0.6388201813180975 L -0.7453702340616535, 0.6666507437743364 L -0.7203782431785722, 0.6935814204222558 L -0.6944138418336225, 0.7195758585930109 L -0.7638552260169849 ,0.791533444452312",
          "type": "path"
         },
         {
          "fillcolor": "#d0805f",
          "layer": "below",
          "line": {
           "color": "rgb(150,150,150)",
           "width": 0.45
          },
          "path": "M -0.8921847082395791, 0.6434333270692912 L -0.9066515394125049, 0.6228828028457162 L -0.9206451035395873, 0.602007137273789 L -0.9341580960584145, 0.5808172273344846 L -0.9471834632622729, 0.5593241340425842 L -0.9597144059821442, 0.5375390766728873 L -0.9717443831358324, 0.5154734269038129 L -0.983267115142372, 0.4931387028814485 L -0.9942765871999344, 0.47054656320714056 L -1.0047670524255217, 0.447708800851769 L -1.0147330348548074, 0.4246373369998831 L -1.024169332300558, 0.4013442148269104 L -1.033071019068147, 0.37784159321268573 L -0.9391554718801335, 0.3434923574660779 L -0.9310630293641436, 0.36485837711537306 L -0.922484577140734, 0.3860339427271664 L -0.9134245931141106, 0.4070080007743354 L -0.9038878065453948, 0.4277696029155823 L -0.8938791955839744, 0.4483079117104077 L -0.8834039846689385, 0.4686122062761935 L -0.8724676418019492, 0.4886718878844429 L -0.8610758756929753, 0.5084764854932583 L -0.8492346327803767, 0.5280156612131678 L -0.8369500941268975, 0.5472792157034445 L -0.8242286721931862, 0.5662570934961055 L -0.8110770074905264, 0.5849393882448102 L -0.8921847082395791 ,0.6434333270692912",
          "type": "path"
         },
         {
          "fillcolor": "#ca6f4c",
          "layer": "below",
          "line": {
           "color": "rgb(150,150,150)",
           "width": 0.45
          },
          "path": "M -1.0444295521364244, 0.3452056063045736 L -1.049043917104343, 0.33091820739629335 L -1.0534628459433708, 0.31656915866346463 L -1.057685515410236, 0.302161133323569 L -1.0617111388246476, 0.28769681558138616 L -0.9651919443860432, 0.26154255961944195 L -0.9615322867365781, 0.2746919393850627 L -0.9576934963121553, 0.28779014423951327 L -0.9536762882766755, 0.3008347339966303 L -0.949481411033113, 0.3138232784587032 L -1.0444295521364244 ,0.3452056063045736",
          "type": "path"
         },
         {
          "fillcolor": "#c45e3a",
          "layer": "below",
          "line": {
           "color": "rgb(150,150,150)",
           "width": 0.45
          },
          "path": "M -1.0702240238303788, 0.25420570177773943 L -1.077317885507484, 0.22223000149773536 L -1.0834566129225351, 0.19005727535253195 L -1.0886347635696951, 0.1577160472100221 L -1.0928477465764248, 0.12523499032950233 L -0.9934979514331134, 0.11384999120863847 L -0.989667966881541, 0.14337822473638373 L -0.9849605572023046, 0.17277934122957447 L -0.9793798959158946, 0.20202727408885032 L -0.9729309307548898, 0.23109609252521765 L -1.0702240238303788 ,0.25420570177773943",
          "type": "path"
         },
         {
          "fillcolor": "#bf4d28",
          "layer": "below",
          "line": {
           "color": "rgb(150,150,150)",
           "width": 0.45
          },
          "path": "M -1.0962422182934348, 0.09084601714488923 L -1.0987259242371894, 0.05292771872218173 L -1.0998984541121317, 0.014946258452981 L -1.0997584086674768, -0.023053038090007458 L -1.0983059550279204, -0.06102482404897286 L -0.9984599591162912, -0.055477112771793506 L -0.999780371515888, -0.020957307354552233 L -0.9999076855564832, 0.013587507684528181 L -0.9988417493065357, 0.048116107929256115 L -0.9965838348122134, 0.08258728831353565 L -1.0962422182934348 ,0.09084601714488923",
          "type": "path"
         },
         {
          "fillcolor": "#af4624",
          "layer": "below",
          "line": {
           "color": "rgb(150,150,150)",
           "width": 0.45
          },
          "path": "M -1.095847171293169, -0.09549333572956827 L -1.0915379211438618, -0.13617990565768706 L -1.0857185899756698, -0.17667807838337873 L -1.078397228504349, -0.2169318269736815 L -1.0695839654196826, -0.25688546264260975 L -0.9723490594724385, -0.23353223876600887 L -0.9803611168221353, -0.19721075179425587 L -0.9870168999778817, -0.16061643489398064 L -0.9923072010398744, -0.12379991423426095 L -0.9962247011756081, -0.0868121233905166 L -1.095847171293169 ,-0.09549333572956827",
          "type": "path"
         },
         {
          "fillcolor": "#9f4021",
          "layer": "below",
          "line": {
           "color": "rgb(150,150,150)",
           "width": 0.45
          },
          "path": "M -1.060987222921226, -0.2903551494255011 L -1.0475922621846505, -0.33548539791002335 L -1.0322785935357726, -0.3800011912189322 L -1.0150742645826776, -0.4238209968629874 L -0.9960107857548328, -0.4668645570827163 L -0.9054643506862116, -0.42442232462065116 L -0.9227947859842524, -0.3852918153299885 L -0.9384350850325205, -0.3454556283808474 L -0.9523566019860459, -0.30498672537274846 L -0.9645338390192962, -0.2639592267504555 L -1.060987222921226 ,-0.2903551494255011",
          "type": "path"
         },
         {
          "fillcolor": "#8f391e",
          "layer": "below",
          "line": {
           "color": "rgb(150,150,150)",
           "width": 0.45
          },
          "path": "M -0.9808547444323403, -0.49791964243697867 L -0.9701318822422141, -0.5185018139381762 L -0.9589771866446132, -0.5388531854737271 L -0.9473956229131234, -0.5589646980669307 L -0.9353923463325274, -0.5788273995091536 L -0.9229726999040417, -0.59843244834471 L -0.9101422119669927, -0.6177711178064493 L -0.8969065937379969, -0.6368347997002866 L -0.8832717367687327, -0.6556150082369583 L -0.8692437103234454, -0.6741033838092866 L -0.8548287586773416, -0.6922916967132825 L -0.8400332983370866, -0.7101718508114183 L -0.8248639151846315, -0.7277358871364537 L -0.8093273615456505, -0.7449759874341965 L -0.7934305531838883, -0.7618844776436314 L -0.7771805662227546, -0.7784538313128652 L -0.7605846339955412, -0.794676672949363 L -0.743650143825657, -0.8105457813029933 L -0.7263846337383213, -0.8260540925804103 L -0.7087957891051714, -0.8411947035893519 L -0.6908914392232866, -0.8559608748114459 L -0.6280831265666241, -0.7781462498285872 L -0.6443598082774284, -0.7647224578085017 L -0.6603496670348374, -0.7509582659821911 L -0.6760455852960517, -0.7368598011845393 L -0.6914405763595829, -0.7224333390448754 L -0.7065277874752314, -0.7076853011935137 L -0.7213005028944439, -0.6926222524033012 L -0.7357521468596823, -0.6772508976674513 L -0.7498762865314832, -0.6615780792149578 L -0.7636666348518969, -0.6456107734649257 L -0.7771170533430378, -0.6293560879211658 L -0.7902215548394957, -0.6128212580084423 L -0.8029743061533933, -0.5960136438517802 L -0.8153696306709062, -0.5789407270002604 L -0.8274020108790843, -0.5616101070967721 L -0.839066090821856, -0.5440294984951909 L -0.8503566784841158, -0.5262067268265033 L -0.8612687481028394, -0.5081497255153915 L -0.8717974424041938, -0.4898665322488428 L -0.8819380747656491, -0.47136528539834194 L -0.8916861313021275, -0.4526542203972533 L -0.9808547444323403 ,-0.49791964243697867",
          "type": "path"
         },
         {
          "fillcolor": "#f0f3e7",
          "layer": "below",
          "line": {
           "color": "rgb(150,150,150)",
           "width": 0.45
          },
          "path": "M -0.663664145185191, -0.8772399343370147 L -0.6451648814754251, -0.8909333733286687 L -0.6263831672309399, -0.9042367653495055 L -0.6073272250090731, -0.917144286229151 L -0.5880053974230479, -0.9296502851079882 L -0.568426143489604, -0.9417492869110846 L -0.5485980349256819, -0.9534359947451536 L -0.528529752395754, -0.9647052922175162 L -0.5082300817114703, -0.9755522456760337 L -0.48770790998526475, -0.9859721063690418 L -0.4669722217396106, -0.9959603125243356 L -0.4460320949736396, -1.0055124913462918 L -0.4248966971888243, -1.014624460930264 L -0.40357528137549, -1.0232922320934008 L -0.38207718196189044, -1.0315120101210944 L -0.3604118107276312, -1.0392801964282925 L -0.33858865268323735, -1.0465933901349418 L -0.31661726191764755, -1.0534483895548807 L -0.2945072574154806, -1.0598421935975242 L -0.272268318845876, -1.0657720030817288 L -0.2499101823247811, -1.0712352219612624 L -0.2274426361525167, -1.0762294584613423 L -0.20487551652849662, -1.0807525261257462 L -0.1822187032449866, -1.0848024447740314 L -0.1594821153617642, -1.0883774413684515 L -0.13667570686360292, -1.0914759507901832 L -0.11380946230245069, -1.0940966165245314 L -0.10346314754768243, -0.9946332877495738 L -0.12425064260327537, -0.992250864354712 L -0.14498374123796745, -0.9894340376076831 L -0.16565336658635144, -0.9861840407036649 L -0.18625046957136054, -0.9825022964779511 L -0.20676603286592427, -0.9783904167830384 L -0.22719107484071008, -0.9738502017829657 L -0.2475166534962509, -0.9688836391652079 L -0.2677338703777096, -0.9634929032704765 L -0.28783387447058867, -0.9576803541408007 L -0.3078078660756703, -0.9514485364863106 L -0.32764710066148284, -0.9448001785711749 L -0.34734289269262764, -0.9377381910191767 L -0.3668866194322636, -0.9302656655394551 L -0.38626972471711296, -0.9223858735729672 L -0.4054837227033087, -0.9141022648602651 L -0.42452020158146414, -0.9054184659312141 L -0.4433708272593316, -0.8963382785173106 L -0.4620273470104275, -0.8868656778873033 L -0.480481593087049, -0.8770048111068328 L -0.49872548629607444, -0.8667599952228668 L -0.5167510395360035, -0.8561357153737132 L -0.5345503612936798, -0.8451366228254438 L -0.5521156590991573, -0.8337675329355918 L -0.569439242937218, -0.8220334230450049 L -0.5865135286140227, -0.8099394302987897 L -0.6033310410774463, -0.7974908493972861 L -0.663664145185191 ,-0.8772399343370147",
          "type": "path"
         },
         {
          "fillcolor": "#e2ecde",
          "layer": "below",
          "line": {
           "color": "rgb(150,150,150)",
           "width": 0.45
          },
          "path": "M -0.07938689897314871, -1.0971315874914127 L -0.06515322350856137, -1.0980687853984574 L -0.05090859175637126, -1.0988213300101994 L -0.03665539912042592, -1.0993890947773324 L -0.022396042444187074, -1.0997719842234746 L -0.020360038585624612, -0.9997927129304314 L -0.03332309010947811, -0.9994446316157567 L -0.04628053796033751, -0.9989284818274539 L -0.059230203189601247, -0.998244350362234 L -0.07216990815740791, -0.9973923522649205 L -0.07938689897314871 ,-1.0971315874914127",
          "type": "path"
         },
         {
          "fillcolor": "#d4e5d6",
          "layer": "below",
          "line": {
           "color": "rgb(150,150,150)",
           "width": 0.45
          },
          "path": "M 0.012159681488124121, -1.0999327898313185 L 0.03540416040905106, -1.0994301002909326 L 0.05863282278473744, -1.0984362485334749 L 0.08183529138309915, -1.0969516785548228 L 0.10500120067392425, -1.094977053575569 L 0.12812020145960237, -1.0925132557447306 L 0.15118196549854881, -1.0895613857456568 L 0.17417619011926666, -1.0861227623043066 L 0.19709260282299454, -1.0821989216001178 L 0.219920965872865, -1.0777916165797294 L 0.24265108086753834, -1.0729028161738674 L 0.2652727932972635, -1.0675347044177381 L 0.28777599708032586, -1.0616896794753279 L 0.3101506390778698, -1.05537035256804 L 0.3323867235850609, -1.0485795468081516 L 0.3544743167965896, -1.0413202959376098 L 0.3764035512445308, -1.033595842972729 L 0.39816463020655796, -1.0254096387553977 L 0.4197478320825564, -1.0167653404114414 L 0.4411435147376773, -1.0076668097168273 L 0.4623421198098859, -0.9981181113724474 L 0.4833341769800936, -0.9881235111882399 L 0.5041103082029506, -0.9776874741774728 L 0.5246612318964146, -0.9668146625620325 L 0.5449777670882341, -0.9555099336896098 L 0.5650508375174761, -0.9437783378637162 L 0.5848714756892784, -0.931625116087499 L 0.6044308268810128, -0.9190556977223607 L 0.6237201530980626, -0.9060756980624353 L 0.6427308369774621, -0.8926909158259936 L 0.6614543856376368, -0.8789073305649104 L 0.6798824344725322, -0.8647310999933466 L 0.6980067508884449, -0.8501685572368322 L 0.634551591716768, -0.7728805065789383 L 0.6180749404295747, -0.7861191818121332 L 0.6013221687614879, -0.7990066641499185 L 0.5843007608886019, -0.8115371962054486 L 0.5670183209982387, -0.8237051800567593 L 0.5494825698918298, -0.8355051797476006 L 0.5317013415357076, -0.8469319237159081 L 0.5136825795613419, -0.8579803071488329 L 0.4954343337165764, -0.8686453942632816 L 0.47696475626946777, -0.8789224205109386 L 0.45828209836631867, -0.8888067947067934 L 0.4393947063455396, -0.898294101080218 L 0.4203110180089871, -0.9073801012476794 L 0.4010395588524339, -0.9160607361062066 L 0.3815889382568694, -0.9243321276467648 L 0.36196784564232537, -0.9321905806867251 L 0.34218504658593707, -0.9396325845206626 L 0.3222493789059905, -0.9466548144887361 L 0.3021697487136917, -0.9532541334619559 L 0.2819551264344271, -0.9594275932436727 L 0.2616145428002962, -0.9651724358866617 L 0.2411570848156941, -0.9704860949252164 L 0.2205918916977621, -0.9753661965216975 L 0.19992815079351361, -0.9798105605270266 L 0.17917509347544958, -0.9838172014546523 L 0.15834199101751514, -0.9873843293675514 L 0.1374381504532262, -0.9905103506778696 L 0.11647291041782033, -0.9931938688588459 L 0.09545563697629476, -0.995433685068699 L 0.07439571943918104, -0.9972287986862025 L 0.05330256616794313, -0.9985784077577043 L 0.032185600371864596, -0.9994819093553933 L 0.011054255898294655, -0.9999388998466532 L 0.012159681488124121 ,-1.0999327898313185",
          "type": "path"
         },
         {
          "fillcolor": "#c6decd",
          "layer": "below",
          "line": {
           "color": "rgb(150,150,150)",
           "width": 0.45
          },
          "path": "M 0.7243667664197354, -0.8278241284878187 L 0.7417045571168132, -0.8123265045239828 L 0.758710863904649, -0.7964658341655725 L 0.77537808629461, -0.7802492058913667 L 0.7916987753422587, -0.7636838672654858 L 0.8076656369764522, -0.7467772216982933 L 0.8232715352592188, -0.7295368251376547 L 0.8385094955749651, -0.7119703826920175 L 0.8533727077475831, -0.6940857451868309 L 0.8678545290840647, -0.6758909056558438 L 0.8819484873432686, -0.6573939957688393 L 0.8956482836285038, -0.638603282197418 L 0.9089477952026447, -0.6195271629204415 L 0.9218410782245147, -0.6001741634707917 L 0.9343223704053171, -0.5805529331251282 L 0.9463860935839308, -0.560672241038334 L 0.9580268562199087, -0.5405409723243915 L 0.9692394558030767, -0.5201681240854306 L 0.9800188811786459, -0.49956280139073156 L 0.9903603147868097, -0.47873421320746573 L 0.9003275588970997, -0.4352129210976961 L 0.8909262556169507, -0.4541480012643014 L 0.8811267780027969, -0.47288011280493686 L 0.8709335056544624, -0.4914008839312649 L 0.8603509941672097, -0.5097020373075763 L 0.8493839730957428, -0.5277753937501165 L 0.8380373438404678, -0.5456128758825378 L 0.8263161774569496, -0.5632065117458559 L 0.8142257123895489, -0.5805484383612891 L 0.8017713521302441, -0.5976309052443993 L 0.7889586628036951, -0.6144462778689488 L 0.775793370679621, -0.6309870410789371 L 0.7622813596136045, -0.6472458024472886 L 0.7484286684174716, -0.6632152955796861 L 0.734241488160411, -0.6788883833620848 L 0.7197261594020533, -0.6942580611504415 L 0.7048891693587364, -0.7093174599012424 L 0.6897371490042263, -0.7240598492414295 L 0.6742768701061937, -0.7384786404763479 L 0.6585152421997594, -0.7525673895343806 L 0.7243667664197354 ,-0.8278241284878187",
          "type": "path"
         },
         {
          "fillcolor": "#b8d7c5",
          "layer": "below",
          "line": {
           "color": "rgb(150,150,150)",
           "width": 0.45
          },
          "path": "M 1.0049090367888043, -0.44739001752408125 L 1.0195435058917155, -0.4129540405348152 L 1.0329983343438793, -0.37804026404970587 L 1.0452579545285148, -0.34268908429488304 L 1.0563081817185862, -0.3069414035844211 L 0.9602801651987146, -0.279037639622201 L 0.9502345041168315, -0.31153553117716637 L 0.939089394858072, -0.3436729673179144 L 0.9268577326288322, -0.37541276412255925 L 0.9135536698080039, -0.40671819774916473 L 1.0049090367888043 ,-0.44739001752408125",
          "type": "path"
         },
         {
          "fillcolor": "#aad0bc",
          "layer": "below",
          "line": {
           "color": "rgb(150,150,150)",
           "width": 0.45
          },
          "path": "M 1.065428219874817, -0.2736105047222765 L 1.072494495934821, -0.2444494961940282 L 1.078762785854792, -0.21510660579073035 L 1.0842284257334256, -0.18560366599724798 L 1.0888873488786448, -0.15596262838268907 L 0.989897589889677, -0.1417842076206264 L 0.9856622052122049, -0.1687306054520436 L 0.9806934416861743, -0.19555145980975486 L 0.9749949963043827, -0.2222268147218438 L 0.9685711089771063, -0.24873682247479678 L 1.065428219874817 ,-0.2736105047222765",
          "type": "path"
         },
         {
          "fillcolor": "#9cc9b4",
          "layer": "below",
          "line": {
           "color": "rgb(150,150,150)",
           "width": 0.45
          },
          "path": "M 1.0932489532487748, -0.12168289206153163 L 1.0954496180703728, -0.09995065917478671 L 1.09721832006363, -0.07817901327559612 L 1.0985543617856854, -0.056376539461423944 L 1.0994572164023046, -0.03455183498594511 L 0.9995065603657315, -0.031410759078131914 L 0.9986857834415321, -0.0512513995103854 L 0.9974712000578454, -0.07107183025054192 L 0.9958632891548843, -0.09086423561344245 L 0.9938626847716134, -0.11062081096502874 L 1.0932489532487748 ,-0.12168289206153163",
          "type": "path"
         }
        ],
        "showlegend": false,
        "title": "Data Jobs ‒ Technologies in Demand",
        "titlefont": {
         "color": "#655643",
         "family": "Merryweather",
         "size": 18
        },
        "xaxis": {
         "showgrid": false,
         "showline": false,
         "showticklabels": false,
         "title": "",
         "zeroline": false
        },
        "yaxis": {
         "showgrid": false,
         "showline": false,
         "showticklabels": false,
         "title": "",
         "zeroline": false
        }
       }
      },
      "text/html": [
       "<div id=\"da2dd4eb-e0ee-49b2-9da4-50720c84fecf\" style=\"height: 525px; width: 100%;\" class=\"plotly-graph-div\"></div><script type=\"text/javascript\">require([\"plotly\"], function(Plotly) { window.PLOTLYENV=window.PLOTLYENV || {};window.PLOTLYENV.BASE_URL=\"https://plot.ly\";Plotly.newPlot(\"da2dd4eb-e0ee-49b2-9da4-50720c84fecf\", [{\"hoverinfo\": \"text\", \"line\": {\"color\": \"#f2e6ce\", \"shape\": \"spline\", \"width\": 0.25}, \"mode\": \"lines\", \"text\": \"Power BI<br>966\", \"x\": [1.1, 1.0997395282670144, 1.0989582364235548, 1.097656494477695, 1.095834918914854, 1.0934943724058384, 1.0906359633982943, 1.087261045591763, 1.08337121729659, 1.0789683206769873, 1.074054440878615, 1.068631905041085, 1.0627032811958645], \"y\": [0.0, 0.023936791076601974, 0.047862246048742424, 0.0717650341805685, 0.09563383547090222, 0.11945734601422292, 0.14322428335402687, 0.16692339182602925, 0.19054344788867747, 0.21407326543845184, 0.2375017011074359, 0.2608176595406482, 0.2840100986506352], \"type\": \"scatter\", \"uid\": \"4ee4f114-ba82-4e90-8ecd-455e9c209f8c\"}, {\"hoverinfo\": \"text\", \"line\": {\"color\": \"#ecd5bb\", \"shape\": \"spline\", \"width\": 0.25}, \"mode\": \"lines\", \"text\": \"Excel<br>3270\", \"x\": [1.0532579284929848, 1.0464159573223164, 1.0391192496209887, 1.0313709762882242, 1.0231745044582004, 1.0145333960368088, 1.0054514061537736, 0.995932481530799, 0.985980758766461, 0.9756005625385822, 0.9647964037248754, 0.9535729774426706, 0.9419351610085779, 0.9298880118189726, 0.9174367651522242, 0.9045868318936235, 0.8913437961839977, 0.8777134129930332, 0.8637016056183636, 0.8493144631115076, 0.8345582376317746, 0.8194393417292923, 0.8039643455583306, 0.7881399740221379, 0.771973103850529, 0.7554707606114932, 0.7386401156581237, 0.721488483012193, 0.7040233161857296, 0.6862522049419763, 0.6681828719971405, 0.649823169664365, 0.6311810764413825, 0.6122646935433332, 0.5930822413822542, 0.5736420559947708, 0.5539525854195395, 0.534022386026021, 0.5138601187961735, 0.4934745455606878, 0.4728745251913958, 0.45206900975150777, 0.4310670406053527, 0.409877744489311, 0.3885103295456468, 0.36697408132096615, 0.345278358731035], \"y\": [0.3172502735486082, 0.33913661592523486, 0.36087558114551543, 0.38245772219982116, 0.40387366022893406, 0.4251140885997778, 0.4461697769497612, 0.4670315751979782, 0.48769041752151937, 0.5081373262951682, 0.5283634159927686, 0.5483598970485719, 0.5681180796768791, 0.5876293776483256, 0.6068853120211618, 0.6258775148259101, 0.6445977327017991, 0.6630378304833906, 0.6811897947358437, 0.6990457372372797, 0.7165978984067332, 0.7338386506761988, 0.750760501805313, 0.7673560981372233, 0.7836182277942371, 0.799539823811855, 0.8151139672098336, 0.8303338899989356, 0.8451929781220668, 0.8596847743285186, 0.873802980980068, 0.8875414627877156, 0.9008942494778717, 0.913855538386833, 0.9264196969824214, 0.9385812653116897, 0.9503349583736295, 0.961675668415852, 0.9725984671542427, 0.9830986079146246, 0.9931715276954994, 1.0028128491509727, 1.0120183824929978, 1.0207841273121145, 1.0291062743158905, 1.0369812069843085, 1.044405503141382], \"type\": \"scatter\", \"uid\": \"c18df92e-d5f6-4a92-8037-63cc0c9c3789\"}, {\"hoverinfo\": \"text\", \"line\": {\"color\": \"#e6c4a9\", \"shape\": \"spline\", \"width\": 0.25}, \"mode\": \"lines\", \"text\": \"SSIS/SSRS<br>1729\", \"x\": [0.3123024150649366, 0.2896597499380816, 0.26688441933186985, 0.2439868544510267, 0.22097754248413004, 0.19786702180043045, 0.17466587712322892, 0.15138473468202737, 0.12803425734566623, 0.10462513973868263, 0.08116810334312291, 0.05767389158805672, 0.03415326492903667, 0.010616995919761492, -0.012924135721803462, -0.03645934805058445, -0.05997786183257985, -0.08346890548179896, -0.10692171999369568, -0.13032556387284233, -0.15366971805258375, -0.17694349080441732, -0.20013622263485342, -0.22323729116751295], \"y\": [1.054735607412876, 1.061177284559846, 1.0671329376970289, 1.0725998391082734, 1.077575484927935, 1.0820575962876597, 1.0860441203601137, 1.0895332312991892, 1.0925233310762494, 1.0950130502120334, 1.0970012484038842, 1.098487015048011, 1.0994696696565518, 1.0999487621692385, 1.099924073159527, 1.099395613935096, 1.098363626532667, 1.0968285836071519, 1.0947911882151729, 1.0922523734930614, 1.0892133022294759, 1.0856753663328405, 1.0816401861938436, 1.0771096099432924], \"type\": \"scatter\", \"uid\": \"5ca956dd-3eda-46e1-9728-bb6b2e944f5e\"}, {\"hoverinfo\": \"text\", \"line\": {\"color\": \"#e1b396\", \"shape\": \"spline\", \"width\": 0.25}, \"mode\": \"lines\", \"text\": \"MS SQL Server<br>1388\", \"x\": [-0.25695996749886973, -0.2800101480106703, -0.3029295864012386, -0.32570758114416953, -0.3483334967558163, -0.3707967687612021, -0.39308690862677687, -0.41519350865771476, -0.4371062468574675, -0.45881489174730267, -0.4803093071435777, -0.5015794568905193, -0.5226154095462974, -0.5434073430202059, -0.5639455491587859, -0.5842204382787495, -0.6042225436445868, -0.623942525888767, -0.6433711773724683], \"y\": [1.069566068601178, 1.0637642205916886, 1.0574656806169997, 1.050673389586514, 1.043390518951493, 1.035620469224248, 1.027366868390374, 1.0186335702147737, 1.0094246524422608, 0.9997444148935823, 0.98959737745775, 0.978988277981617, 0.967922070057686, 0.9564039207111819, 0.9444392079874678, 0.9320335184409335, 0.9191926445265245, 0.9059225818951339, 0.892229526594118], \"type\": \"scatter\", \"uid\": \"10d2f12c-cc95-4144-bc7e-1b4a2640194c\"}, {\"hoverinfo\": \"text\", \"line\": {\"color\": \"#dba284\", \"shape\": \"spline\", \"width\": 0.25}, \"mode\": \"lines\", \"text\": \"PostgreSQL<br>368\", \"x\": [-0.671079319236247, -0.6883835929683682, -0.7054122644516337, -0.7221585160625501, -0.7386156432476525], \"y\": [0.8715804881325737, 0.8579790375830637, 0.8440340853077076, 0.8297512143277259, 0.8151361429539588], \"type\": \"scatter\", \"uid\": \"e8eec0f9-03ff-4bb0-bb0b-93aaa8d8c19c\"}, {\"hoverinfo\": \"text\", \"line\": {\"color\": \"#d59171\", \"shape\": \"spline\", \"width\": 0.25}, \"mode\": \"lines\", \"text\": \"MySQL/MariaDB<br>589\", \"x\": [-0.7638552260169849, -0.7924160674964296, -0.8199072574678189, -0.8462916866472592, -0.8715337397240335], \"y\": [0.791533444452312, 0.7629395624644815, 0.7333158181517702, 0.7027021994499073, 0.6711400304874094], \"type\": \"scatter\", \"uid\": \"b2a76694-dec0-4907-9ab1-5cc8dec04459\"}, {\"hoverinfo\": \"text\", \"line\": {\"color\": \"#d0805f\", \"shape\": \"spline\", \"width\": 0.25}, \"mode\": \"lines\", \"text\": \"T-SQL<br>1009\", \"x\": [-0.8921847082395791, -0.9066515394125049, -0.9206451035395873, -0.9341580960584145, -0.9471834632622729, -0.9597144059821442, -0.9717443831358324, -0.983267115142372, -0.9942765871999344, -1.0047670524255217, -1.0147330348548074, -1.024169332300558, -1.033071019068147], \"y\": [0.6434333270692912, 0.6228828028457162, 0.602007137273789, 0.5808172273344846, 0.5593241340425842, 0.5375390766728873, 0.5154734269038129, 0.4931387028814485, 0.47054656320714056, 0.447708800851769, 0.4246373369998831, 0.4013442148269104, 0.37784159321268573], \"type\": \"scatter\", \"uid\": \"948aefb6-3c29-4578-84cf-cec081c5ab84\"}, {\"hoverinfo\": \"text\", \"line\": {\"color\": \"#ca6f4c\", \"shape\": \"spline\", \"width\": 0.25}, \"mode\": \"lines\", \"text\": \"PL/SQL<br>284\", \"x\": [-1.0444295521364244, -1.049043917104343, -1.0534628459433708, -1.057685515410236, -1.0617111388246476], \"y\": [0.3452056063045736, 0.33091820739629335, 0.31656915866346463, 0.302161133323569, 0.28769681558138616], \"type\": \"scatter\", \"uid\": \"7008131b-bd35-4ec6-b832-4c071b67cf0f\"}, {\"hoverinfo\": \"text\", \"line\": {\"color\": \"#c45e3a\", \"shape\": \"spline\", \"width\": 0.25}, \"mode\": \"lines\", \"text\": \"Pentaho<br>497\", \"x\": [-1.0702240238303788, -1.077317885507484, -1.0834566129225351, -1.0886347635696951, -1.0928477465764248], \"y\": [0.25420570177773943, 0.22223000149773536, 0.19005727535253195, 0.1577160472100221, 0.12523499032950233], \"type\": \"scatter\", \"uid\": \"0323c44b-08d5-4f05-b787-3ee775642008\"}, {\"hoverinfo\": \"text\", \"line\": {\"color\": \"#bf4d28\", \"shape\": \"spline\", \"width\": 0.25}, \"mode\": \"lines\", \"text\": \"Hadoop<br>560\", \"x\": [-1.0962422182934348, -1.0987259242371894, -1.0998984541121317, -1.0997584086674768, -1.0983059550279204], \"y\": [0.09084601714488923, 0.05292771872218173, 0.014946258452981, -0.023053038090007458, -0.06102482404897286], \"type\": \"scatter\", \"uid\": \"b8c7ef3d-15c0-4183-93f3-c707cd98394b\"}, {\"hoverinfo\": \"text\", \"line\": {\"color\": \"#af4624\", \"shape\": \"spline\", \"width\": 0.25}, \"mode\": \"lines\", \"text\": \"Spark<br>595\", \"x\": [-1.095847171293169, -1.0915379211438618, -1.0857185899756698, -1.078397228504349, -1.0695839654196826], \"y\": [-0.09549333572956827, -0.13617990565768706, -0.17667807838337873, -0.2169318269736815, -0.25688546264260975], \"type\": \"scatter\", \"uid\": \"bf6b3a59-7907-4d4a-9ec1-71e87d4a5e5e\"}, {\"hoverinfo\": \"text\", \"line\": {\"color\": \"#9f4021\", \"shape\": \"spline\", \"width\": 0.25}, \"mode\": \"lines\", \"text\": \"Informatica<br>669\", \"x\": [-1.060987222921226, -1.0475922621846505, -1.0322785935357726, -1.0150742645826776, -0.9960107857548328], \"y\": [-0.2903551494255011, -0.33548539791002335, -0.3800011912189322, -0.4238209968629874, -0.4668645570827163], \"type\": \"scatter\", \"uid\": \"fd0eda40-e43c-4c41-a3dd-feac44800e97\"}, {\"hoverinfo\": \"text\", \"line\": {\"color\": \"#8f391e\", \"shape\": \"spline\", \"width\": 0.25}, \"mode\": \"lines\", \"text\": \"Qlik<br>1497\", \"x\": [-0.9808547444323403, -0.9701318822422141, -0.9589771866446132, -0.9473956229131234, -0.9353923463325274, -0.9229726999040417, -0.9101422119669927, -0.8969065937379969, -0.8832717367687327, -0.8692437103234454, -0.8548287586773416, -0.8400332983370866, -0.8248639151846315, -0.8093273615456505, -0.7934305531838883, -0.7771805662227546, -0.7605846339955412, -0.743650143825657, -0.7263846337383213, -0.7087957891051714, -0.6908914392232866], \"y\": [-0.49791964243697867, -0.5185018139381762, -0.5388531854737271, -0.5589646980669307, -0.5788273995091536, -0.59843244834471, -0.6177711178064493, -0.6368347997002866, -0.6556150082369583, -0.6741033838092866, -0.6922916967132825, -0.7101718508114183, -0.7277358871364537, -0.7449759874341965, -0.7618844776436314, -0.7784538313128652, -0.794676672949363, -0.8105457813029933, -0.8260540925804103, -0.8411947035893519, -0.8559608748114459], \"type\": \"scatter\", \"uid\": \"d95460a0-d037-4d7c-aa85-581a1af11bb4\"}, {\"hoverinfo\": \"text\", \"line\": {\"color\": \"#f0f3e7\", \"shape\": \"spline\", \"width\": 0.25}, \"mode\": \"lines\", \"text\": \"Tableau<br>1900\", \"x\": [-0.663664145185191, -0.6451648814754251, -0.6263831672309399, -0.6073272250090731, -0.5880053974230479, -0.568426143489604, -0.5485980349256819, -0.528529752395754, -0.5082300817114703, -0.48770790998526475, -0.4669722217396106, -0.4460320949736396, -0.4248966971888243, -0.40357528137549, -0.38207718196189044, -0.3604118107276312, -0.33858865268323735, -0.31661726191764755, -0.2945072574154806, -0.272268318845876, -0.2499101823247811, -0.2274426361525167, -0.20487551652849662, -0.1822187032449866, -0.1594821153617642, -0.13667570686360292, -0.11380946230245069], \"y\": [-0.8772399343370147, -0.8909333733286687, -0.9042367653495055, -0.917144286229151, -0.9296502851079882, -0.9417492869110846, -0.9534359947451536, -0.9647052922175162, -0.9755522456760337, -0.9859721063690418, -0.9959603125243356, -1.0055124913462918, -1.014624460930264, -1.0232922320934008, -1.0315120101210944, -1.0392801964282925, -1.0465933901349418, -1.0534483895548807, -1.0598421935975242, -1.0657720030817288, -1.0712352219612624, -1.0762294584613423, -1.0807525261257462, -1.0848024447740314, -1.0883774413684515, -1.0914759507901832, -1.0940966165245314], \"type\": \"scatter\", \"uid\": \"c2c53c00-674d-4a05-b907-d74fb501f6c7\"}, {\"hoverinfo\": \"text\", \"line\": {\"color\": \"#e2ecde\", \"shape\": \"spline\", \"width\": 0.25}, \"mode\": \"lines\", \"text\": \"Microstrategy<br>275\", \"x\": [-0.07938689897314871, -0.06515322350856137, -0.05090859175637126, -0.03665539912042592, -0.022396042444187074], \"y\": [-1.0971315874914127, -1.0980687853984574, -1.0988213300101994, -1.0993890947773324, -1.0997719842234746], \"type\": \"scatter\", \"uid\": \"be5b285f-6a02-4852-bce8-308cf7f53077\"}, {\"hoverinfo\": \"text\", \"line\": {\"color\": \"#d4e5d6\", \"shape\": \"spline\", \"width\": 0.25}, \"mode\": \"lines\", \"text\": \"Oracle BI<br>2337\", \"x\": [0.012159681488124121, 0.03540416040905106, 0.05863282278473744, 0.08183529138309915, 0.10500120067392425, 0.12812020145960237, 0.15118196549854881, 0.17417619011926666, 0.19709260282299454, 0.219920965872865, 0.24265108086753834, 0.2652727932972635, 0.28777599708032586, 0.3101506390778698, 0.3323867235850609, 0.3544743167965896, 0.3764035512445308, 0.39816463020655796, 0.4197478320825564, 0.4411435147376773, 0.4623421198098859, 0.4833341769800936, 0.5041103082029506, 0.5246612318964146, 0.5449777670882341, 0.5650508375174761, 0.5848714756892784, 0.6044308268810128, 0.6237201530980626, 0.6427308369774621, 0.6614543856376368, 0.6798824344725322, 0.6980067508884449], \"y\": [-1.0999327898313185, -1.0994301002909326, -1.0984362485334749, -1.0969516785548228, -1.094977053575569, -1.0925132557447306, -1.0895613857456568, -1.0861227623043066, -1.0821989216001178, -1.0777916165797294, -1.0729028161738674, -1.0675347044177381, -1.0616896794753279, -1.05537035256804, -1.0485795468081516, -1.0413202959376098, -1.033595842972729, -1.0254096387553977, -1.0167653404114414, -1.0076668097168273, -0.9981181113724474, -0.9881235111882399, -0.9776874741774728, -0.9668146625620325, -0.9555099336896098, -0.9437783378637162, -0.931625116087499, -0.9190556977223607, -0.9060756980624353, -0.8926909158259936, -0.8789073305649104, -0.8647310999933466, -0.8501685572368322], \"type\": \"scatter\", \"uid\": \"50f9972f-a3da-435d-8fbe-1112df80b7fa\"}, {\"hoverinfo\": \"text\", \"line\": {\"color\": \"#c6decd\", \"shape\": \"spline\", \"width\": 0.25}, \"mode\": \"lines\", \"text\": \"Python<br>1430\", \"x\": [0.7243667664197354, 0.7417045571168132, 0.758710863904649, 0.77537808629461, 0.7916987753422587, 0.8076656369764522, 0.8232715352592188, 0.8385094955749651, 0.8533727077475831, 0.8678545290840647, 0.8819484873432686, 0.8956482836285038, 0.9089477952026447, 0.9218410782245147, 0.9343223704053171, 0.9463860935839308, 0.9580268562199087, 0.9692394558030767, 0.9800188811786459, 0.9903603147868097], \"y\": [-0.8278241284878187, -0.8123265045239828, -0.7964658341655725, -0.7802492058913667, -0.7636838672654858, -0.7467772216982933, -0.7295368251376547, -0.7119703826920175, -0.6940857451868309, -0.6758909056558438, -0.6573939957688393, -0.638603282197418, -0.6195271629204415, -0.6001741634707917, -0.5805529331251282, -0.560672241038334, -0.5405409723243915, -0.5201681240854306, -0.49956280139073156, -0.47873421320746573], \"type\": \"scatter\", \"uid\": \"92b0e30a-fd0f-44ec-b0bd-e76c7544d370\"}, {\"hoverinfo\": \"text\", \"line\": {\"color\": \"#b8d7c5\", \"shape\": \"spline\", \"width\": 0.25}, \"mode\": \"lines\", \"text\": \"VBA<br>553\", \"x\": [1.0049090367888043, 1.0195435058917155, 1.0329983343438793, 1.0452579545285148, 1.0563081817185862], \"y\": [-0.44739001752408125, -0.4129540405348152, -0.37804026404970587, -0.34268908429488304, -0.3069414035844211], \"type\": \"scatter\", \"uid\": \"36e190e9-1300-4e2d-a378-a8a9bb00a0e4\"}, {\"hoverinfo\": \"text\", \"line\": {\"color\": \"#aad0bc\", \"shape\": \"spline\", \"width\": 0.25}, \"mode\": \"lines\", \"text\": \"Linux<br>464\", \"x\": [1.065428219874817, 1.072494495934821, 1.078762785854792, 1.0842284257334256, 1.0888873488786448], \"y\": [-0.2736105047222765, -0.2444494961940282, -0.21510660579073035, -0.18560366599724798, -0.15596262838268907], \"type\": \"scatter\", \"uid\": \"cc9d8d31-2d8f-48e0-bd14-8fe57b50e25f\"}, {\"hoverinfo\": \"text\", \"line\": {\"color\": \"#9cc9b4\", \"shape\": \"spline\", \"width\": 0.25}, \"mode\": \"lines\", \"text\": \"AWS<br>366\", \"x\": [1.0932489532487748, 1.0954496180703728, 1.09721832006363, 1.0985543617856854, 1.0994572164023046], \"y\": [-0.12168289206153163, -0.09995065917478671, -0.07817901327559612, -0.056376539461423944, -0.03455183498594511], \"type\": \"scatter\", \"uid\": \"bf833c1e-db4e-4ac6-9b9a-9821944e76e6\"}, {\"hoverinfo\": \"text\", \"marker\": {\"color\": \"green\", \"size\": 0.5}, \"mode\": \"markers\", \"text\": \"Power BI appears with Excel 171 times\", \"x\": [0.8746228448160602], \"y\": [0.21221422979117566], \"type\": \"scatter\", \"uid\": \"ed82c53c-556d-4b50-b1bf-033873b02f0b\"}, {\"hoverinfo\": \"text\", \"marker\": {\"color\": \"blue\", \"size\": 0.5}, \"mode\": \"markers\", \"text\": \"Excel appears with Power BI 171 times\", \"x\": [0.7674586092416128], \"y\": [0.4701141171044852], \"type\": \"scatter\", \"uid\": \"80c7fda7-80c2-4e84-a62c-624224f249d2\"}, {\"hoverinfo\": \"text\", \"marker\": {\"color\": \"green\", \"size\": 0.5}, \"mode\": \"markers\", \"text\": \"Power BI appears with SSIS/SSRS 100 times\", \"x\": [0.8956698743775817], \"y\": [0.08817866030081736], \"type\": \"scatter\", \"uid\": \"b5c34fa9-9838-406b-8ca7-99564e2972fb\"}, {\"hoverinfo\": \"text\", \"marker\": {\"color\": \"blue\", \"size\": 0.5}, \"mode\": \"markers\", \"text\": \"SSIS/SSRS appears with Power BI 100 times\", \"x\": [0.13228465640697715], \"y\": [0.8902251230330943], \"type\": \"scatter\", \"uid\": \"db6e12cf-55ff-44db-8934-d16262793c4e\"}, {\"hoverinfo\": \"text\", \"marker\": {\"color\": \"green\", \"size\": 0.5}, \"mode\": \"markers\", \"text\": \"Power BI appears with MS SQL Server 99 times\", \"x\": [0.8977174863354996], \"y\": [0.06405712081784629], \"type\": \"scatter\", \"uid\": \"3cbb9312-a09a-47da-9a25-9303ecd1f0cf\"}, {\"hoverinfo\": \"text\", \"marker\": {\"color\": \"blue\", \"size\": 0.5}, \"mode\": \"markers\", \"text\": \"MS SQL Server appears with Power BI 99 times\", \"x\": [-0.35800522089218617], \"y\": [0.8257313496615816], \"type\": \"scatter\", \"uid\": \"95844189-8285-45d5-85c0-3bf5dcd240c5\"}, {\"hoverinfo\": \"text\", \"marker\": {\"color\": \"green\", \"size\": 0.5}, \"mode\": \"markers\", \"text\": \"Power BI appears with MySQL/MariaDB 5 times\", \"x\": [0.8999956505821316], \"y\": [0.0027980230960042477], \"type\": \"scatter\", \"uid\": \"6153a869-6028-4cb0-9498-c64a0f9c1334\"}, {\"hoverinfo\": \"text\", \"marker\": {\"color\": \"blue\", \"size\": 0.5}, \"mode\": \"markers\", \"text\": \"MySQL/MariaDB appears with Power BI 5 times\", \"x\": [-0.6265058698237502], \"y\": [0.6461349666102171], \"type\": \"scatter\", \"uid\": \"430ef188-f63c-48d1-9fca-0d238d7ba07f\"}, {\"hoverinfo\": \"text\", \"marker\": {\"color\": \"green\", \"size\": 0.5}, \"mode\": \"markers\", \"text\": \"Power BI appears with T-SQL 36 times\", \"x\": [0.8993737559621781], \"y\": [0.03356854310935491], \"type\": \"scatter\", \"uid\": \"73188be4-9f5d-4b24-81d2-b2f59b23b831\"}, {\"hoverinfo\": \"text\", \"marker\": {\"color\": \"blue\", \"size\": 0.5}, \"mode\": \"markers\", \"text\": \"T-SQL appears with Power BI 36 times\", \"x\": [-0.7646660591816224], \"y\": [0.47464283196488655], \"type\": \"scatter\", \"uid\": \"6a4c4f55-2d26-4629-b78d-1c957e55a679\"}, {\"hoverinfo\": \"text\", \"marker\": {\"color\": \"green\", \"size\": 0.5}, \"mode\": \"markers\", \"text\": \"Power BI appears with PL/SQL 5 times\", \"x\": [0.8999986104876698], \"y\": [0.001581493048864107], \"type\": \"scatter\", \"uid\": \"0257323c-265d-40cc-8e21-f027a2e0c565\"}, {\"hoverinfo\": \"text\", \"marker\": {\"color\": \"blue\", \"size\": 0.5}, \"mode\": \"markers\", \"text\": \"PL/SQL appears with Power BI 5 times\", \"x\": [-0.8550476689385579], \"y\": [0.28087983879719536], \"type\": \"scatter\", \"uid\": \"282ded92-7387-4dc7-bca7-4d2ae34984e3\"}, {\"hoverinfo\": \"text\", \"marker\": {\"color\": \"green\", \"size\": 0.5}, \"mode\": \"markers\", \"text\": \"Power BI appears with Pentaho 8 times\", \"x\": [0.8999826023705649], \"y\": [0.005596019148071494], \"type\": \"scatter\", \"uid\": \"291c69b9-3843-4d96-bd11-3b692c1d10c5\"}, {\"hoverinfo\": \"text\", \"marker\": {\"color\": \"blue\", \"size\": 0.5}, \"mode\": \"markers\", \"text\": \"Pentaho appears with Power BI 8 times\", \"x\": [-0.876722235795894], \"y\": [0.203366962068692], \"type\": \"scatter\", \"uid\": \"927e6dfd-1510-4ca2-bdbc-9386359491dc\"}, {\"hoverinfo\": \"text\", \"marker\": {\"color\": \"green\", \"size\": 0.5}, \"mode\": \"markers\", \"text\": \"Power BI appears with Hadoop 17 times\", \"x\": [0.8999319147367631], \"y\": [0.011070177876772839], \"type\": \"scatter\", \"uid\": \"969aa15a-6ca5-42b8-9b98-a6b3b7980936\"}, {\"hoverinfo\": \"text\", \"marker\": {\"color\": \"blue\", \"size\": 0.5}, \"mode\": \"markers\", \"text\": \"Hadoop appears with Power BI 17 times\", \"x\": [-0.8978897682300734], \"y\": [0.061595163022312244], \"type\": \"scatter\", \"uid\": \"5b36952e-c2bb-4e57-a25c-9d40fd7c153d\"}, {\"hoverinfo\": \"text\", \"marker\": {\"color\": \"green\", \"size\": 0.5}, \"mode\": \"markers\", \"text\": \"Power BI appears with Spark 22 times\", \"x\": [0.8997734449398556], \"y\": [0.020192765562564902], \"type\": \"scatter\", \"uid\": \"5043733b-0a1c-44d0-9c7e-1f83b80bb809\"}, {\"hoverinfo\": \"text\", \"marker\": {\"color\": \"blue\", \"size\": 0.5}, \"mode\": \"markers\", \"text\": \"Spark appears with Power BI 22 times\", \"x\": [-0.8941141876616722], \"y\": [-0.10276098200245158], \"type\": \"scatter\", \"uid\": \"5d635544-77bf-4ae6-813e-75134bf8cb3e\"}, {\"hoverinfo\": \"text\", \"marker\": {\"color\": \"green\", \"size\": 0.5}, \"mode\": \"markers\", \"text\": \"Power BI appears with Informatica 10 times\", \"x\": [0.8999663230267794], \"y\": [0.007785718827358103], \"type\": \"scatter\", \"uid\": \"3037ed9f-ddac-4840-a299-5dad165db107\"}, {\"hoverinfo\": \"text\", \"marker\": {\"color\": \"blue\", \"size\": 0.5}, \"mode\": \"markers\", \"text\": \"Informatica appears with Power BI 10 times\", \"x\": [-0.8658550956979204], \"y\": [-0.2455503069717996], \"type\": \"scatter\", \"uid\": \"e38ba6c3-69df-4846-afd7-950072cf220d\"}, {\"hoverinfo\": \"text\", \"marker\": {\"color\": \"green\", \"size\": 0.5}, \"mode\": \"markers\", \"text\": \"Power BI appears with Qlik 132 times\", \"x\": [0.8886531381150905], \"y\": [0.14246262709286944], \"type\": \"scatter\", \"uid\": \"42ee48a3-d541-4b16-b04a-8b9d5bfd130e\"}, {\"hoverinfo\": \"text\", \"marker\": {\"color\": \"blue\", \"size\": 0.5}, \"mode\": \"markers\", \"text\": \"Qlik appears with Power BI 132 times\", \"x\": [-0.7349984472910365], \"y\": [-0.5194008880236589], \"type\": \"scatter\", \"uid\": \"545e116e-ec7c-4dfe-a873-636043bffdc1\"}, {\"hoverinfo\": \"text\", \"marker\": {\"color\": \"green\", \"size\": 0.5}, \"mode\": \"markers\", \"text\": \"Power BI appears with Tableau 141 times\", \"x\": [0.8827922623720805], \"y\": [0.17515085354055152], \"type\": \"scatter\", \"uid\": \"bb83d681-e030-4352-a98a-28a23a5be23c\"}, {\"hoverinfo\": \"text\", \"marker\": {\"color\": \"blue\", \"size\": 0.5}, \"mode\": \"markers\", \"text\": \"Tableau appears with Power BI 141 times\", \"x\": [-0.36124428338987974], \"y\": [-0.8243194573210875], \"type\": \"scatter\", \"uid\": \"98d3aef8-1585-4ae1-b0c6-cf47722ea737\"}, {\"hoverinfo\": \"text\", \"marker\": {\"color\": \"green\", \"size\": 0.5}, \"mode\": \"markers\", \"text\": \"Power BI appears with Microstrategy 18 times\", \"x\": [0.8998694711823031], \"y\": [0.015327584091502068], \"type\": \"scatter\", \"uid\": \"88b1702a-4fa9-405f-a307-04380d3c2f38\"}, {\"hoverinfo\": \"text\", \"marker\": {\"color\": \"blue\", \"size\": 0.5}, \"mode\": \"markers\", \"text\": \"Microstrategy appears with Power BI 18 times\", \"x\": [-0.05140061177218349], \"y\": [-0.8985310106554172], \"type\": \"scatter\", \"uid\": \"07d4267a-d276-4927-9f42-cf6a2a2cd509\"}, {\"hoverinfo\": \"text\", \"marker\": {\"color\": \"green\", \"size\": 0.5}, \"mode\": \"markers\", \"text\": \"Power BI appears with Oracle BI 109 times\", \"x\": [0.8928217120658614], \"y\": [0.11344333591614895], \"type\": \"scatter\", \"uid\": \"d575f6c6-c80c-4164-bab3-daa7349c1d32\"}, {\"hoverinfo\": \"text\", \"marker\": {\"color\": \"blue\", \"size\": 0.5}, \"mode\": \"markers\", \"text\": \"Oracle BI appears with Power BI 109 times\", \"x\": [0.12841730801369444], \"y\": [-0.8907912185257082], \"type\": \"scatter\", \"uid\": \"1a2e3d7a-9d06-47f1-b9b2-6dd9c1ea2a5f\"}, {\"hoverinfo\": \"text\", \"marker\": {\"color\": \"green\", \"size\": 0.5}, \"mode\": \"markers\", \"text\": \"Power BI appears with Python 58 times\", \"x\": [0.8988746471035383], \"y\": [0.044992986058823965], \"type\": \"scatter\", \"uid\": \"032a1a58-e661-4dfc-ac29-4eba6cc2f4fe\"}, {\"hoverinfo\": \"text\", \"marker\": {\"color\": \"blue\", \"size\": 0.5}, \"mode\": \"markers\", \"text\": \"Python appears with Power BI 58 times\", \"x\": [0.6486212362909834], \"y\": [-0.6239314800780261], \"type\": \"scatter\", \"uid\": \"3f8f29e3-b00b-472e-8596-95822c069f71\"}, {\"hoverinfo\": \"text\", \"marker\": {\"color\": \"green\", \"size\": 0.5}, \"mode\": \"markers\", \"text\": \"Power BI appears with VBA 26 times\", \"x\": [0.8996234929818525], \"y\": [0.0260301916076482], \"type\": \"scatter\", \"uid\": \"051aeb4f-b169-4baf-b812-32f99ca77181\"}, {\"hoverinfo\": \"text\", \"marker\": {\"color\": \"blue\", \"size\": 0.5}, \"mode\": \"markers\", \"text\": \"VBA appears with Power BI 26 times\", \"x\": [0.8287265782014516], \"y\": [-0.3510160375004444], \"type\": \"scatter\", \"uid\": \"9646e45b-3a8b-4c00-8463-8e0a918aa239\"}, {\"hoverinfo\": \"text\", \"marker\": {\"color\": \"green\", \"size\": 0.5}, \"mode\": \"markers\", \"text\": \"Power BI appears with Linux 4 times\", \"x\": [0.8999998684485061], \"y\": [0.0004866134725231516], \"type\": \"scatter\", \"uid\": \"0177d45d-52bf-4f00-87a1-a55cf52c8912\"}, {\"hoverinfo\": \"text\", \"marker\": {\"color\": \"blue\", \"size\": 0.5}, \"mode\": \"markers\", \"text\": \"Linux appears with Power BI 4 times\", \"x\": [0.8721335969437536], \"y\": [-0.22222283654465066], \"type\": \"scatter\", \"uid\": \"1f030f28-f026-4132-b939-3bc363a7e999\"}, {\"hoverinfo\": \"text\", \"marker\": {\"color\": \"green\", \"size\": 0.5}, \"mode\": \"markers\", \"text\": \"Power BI appears with AWS 5 times\", \"x\": [0.8999910462910772], \"y\": [0.004014548030865623], \"type\": \"scatter\", \"uid\": \"20dd18f5-60fd-4fc6-bb01-77b06f8b609f\"}, {\"hoverinfo\": \"text\", \"marker\": {\"color\": \"blue\", \"size\": 0.5}, \"mode\": \"markers\", \"text\": \"AWS appears with Power BI 5 times\", \"x\": [0.8947221094684592], \"y\": [-0.09732598228792987], \"type\": \"scatter\", \"uid\": \"11f188ff-f2c0-45b4-82b7-b96835f98bc3\"}, {\"hoverinfo\": \"text\", \"marker\": {\"color\": \"green\", \"size\": 0.5}, \"mode\": \"markers\", \"text\": \"Excel appears with SSIS/SSRS 403 times\", \"x\": [0.4526935167818203], \"y\": [0.7778615428620366], \"type\": \"scatter\", \"uid\": \"cbd82fb4-65c8-45e2-8bcb-c59feabf4123\"}, {\"hoverinfo\": \"text\", \"marker\": {\"color\": \"blue\", \"size\": 0.5}, \"mode\": \"markers\", \"text\": \"SSIS/SSRS appears with Excel 403 times\", \"x\": [-0.13182135389399177], \"y\": [0.8902938451194387], \"type\": \"scatter\", \"uid\": \"139c6997-e1d6-4409-b422-eed60f1b8ff4\"}, {\"hoverinfo\": \"text\", \"marker\": {\"color\": \"green\", \"size\": 0.5}, \"mode\": \"markers\", \"text\": \"Excel appears with MS SQL Server 220 times\", \"x\": [0.7104995915312242], \"y\": [0.5524403410631447], \"type\": \"scatter\", \"uid\": \"926ccf3a-4073-46d3-a6e5-e989c33e6afb\"}, {\"hoverinfo\": \"text\", \"marker\": {\"color\": \"blue\", \"size\": 0.5}, \"mode\": \"markers\", \"text\": \"MS SQL Server appears with Excel 220 times\", \"x\": [-0.5036455595711083], \"y\": [0.745882799321921], \"type\": \"scatter\", \"uid\": \"5509eb72-ea32-484c-b503-dae045469ea0\"}, {\"hoverinfo\": \"text\", \"marker\": {\"color\": \"green\", \"size\": 0.5}, \"mode\": \"markers\", \"text\": \"Excel appears with PostgreSQL 51 times\", \"x\": [0.8498132097245694], \"y\": [0.2963401906215644], \"type\": \"scatter\", \"uid\": \"2e7cafaa-356a-454b-b11c-5a52104a2ae7\"}, {\"hoverinfo\": \"text\", \"marker\": {\"color\": \"blue\", \"size\": 0.5}, \"mode\": \"markers\", \"text\": \"PostgreSQL appears with Excel 51 times\", \"x\": [-0.5912260136657137], \"y\": [0.6785659885117654], \"type\": \"scatter\", \"uid\": \"537cc4db-38fa-4933-bebf-ee9d49cfd8be\"}, {\"hoverinfo\": \"text\", \"marker\": {\"color\": \"green\", \"size\": 0.5}, \"mode\": \"markers\", \"text\": \"Excel appears with MySQL/MariaDB 93 times\", \"x\": [0.8183058615090415], \"y\": [0.37466720835955936], \"type\": \"scatter\", \"uid\": \"df349e44-f3fe-4681-b625-5f1a709b6768\"}, {\"hoverinfo\": \"text\", \"marker\": {\"color\": \"blue\", \"size\": 0.5}, \"mode\": \"markers\", \"text\": \"MySQL/MariaDB appears with Excel 93 times\", \"x\": [-0.7066538815736579], \"y\": [0.557351138562471], \"type\": \"scatter\", \"uid\": \"3391d63b-8a74-40a2-8e8e-9b83db8f329b\"}, {\"hoverinfo\": \"text\", \"marker\": {\"color\": \"green\", \"size\": 0.5}, \"mode\": \"markers\", \"text\": \"Excel appears with T-SQL 164 times\", \"x\": [0.7896157683250685], \"y\": [0.43186449079822675], \"type\": \"scatter\", \"uid\": \"7f74f778-3c97-4de8-a645-009628ada281\"}, {\"hoverinfo\": \"text\", \"marker\": {\"color\": \"blue\", \"size\": 0.5}, \"mode\": \"markers\", \"text\": \"T-SQL appears with Excel 164 times\", \"x\": [-0.8381424830155259], \"y\": [0.3278981216240329], \"type\": \"scatter\", \"uid\": \"f5d2a291-a392-435c-9c0d-07f2c1fa047c\"}, {\"hoverinfo\": \"text\", \"marker\": {\"color\": \"green\", \"size\": 0.5}, \"mode\": \"markers\", \"text\": \"Excel appears with PL/SQL 49 times\", \"x\": [0.8540668669895513], \"y\": [0.28384817545767704], \"type\": \"scatter\", \"uid\": \"b4904cb6-90e3-4416-96da-a8e6490a7df0\"}, {\"hoverinfo\": \"text\", \"marker\": {\"color\": \"blue\", \"size\": 0.5}, \"mode\": \"markers\", \"text\": \"PL/SQL appears with Excel 49 times\", \"x\": [-0.8640599825323311], \"y\": [0.251794254474219], \"type\": \"scatter\", \"uid\": \"007d4cbc-d0eb-40f1-94e5-23a1c656298b\"}, {\"hoverinfo\": \"text\", \"marker\": {\"color\": \"green\", \"size\": 0.5}, \"mode\": \"markers\", \"text\": \"Excel appears with Pentaho 59 times\", \"x\": [0.8395283804449439], \"y\": [0.3243333137799592], \"type\": \"scatter\", \"uid\": \"8a11bc94-d02d-4e86-a3fa-9f7da6cefbd3\"}, {\"hoverinfo\": \"text\", \"marker\": {\"color\": \"blue\", \"size\": 0.5}, \"mode\": \"markers\", \"text\": \"Pentaho appears with Excel 59 times\", \"x\": [-0.8934014189145164], \"y\": [0.10878375191879], \"type\": \"scatter\", \"uid\": \"ac486860-061c-4711-abb0-95790806f1c2\"}, {\"hoverinfo\": \"text\", \"marker\": {\"color\": \"green\", \"size\": 0.5}, \"mode\": \"markers\", \"text\": \"Excel appears with Hadoop 63 times\", \"x\": [0.8335925107535229], \"y\": [0.3392985794483052], \"type\": \"scatter\", \"uid\": \"77b3df51-6406-4456-a707-f856b61afbd7\"}, {\"hoverinfo\": \"text\", \"marker\": {\"color\": \"blue\", \"size\": 0.5}, \"mode\": \"markers\", \"text\": \"Hadoop appears with Excel 63 times\", \"x\": [-0.8998086615398351], \"y\": [0.018557279377389727], \"type\": \"scatter\", \"uid\": \"5c41a558-c3af-4a66-ab05-7c5d941dc1d6\"}, {\"hoverinfo\": \"text\", \"marker\": {\"color\": \"green\", \"size\": 0.5}, \"mode\": \"markers\", \"text\": \"Excel appears with Spark 68 times\", \"x\": [0.8269218172114412], \"y\": [0.35524682717756667], \"type\": \"scatter\", \"uid\": \"5af971ce-2bd1-4129-8162-9e08d674819e\"}, {\"hoverinfo\": \"text\", \"marker\": {\"color\": \"blue\", \"size\": 0.5}, \"mode\": \"markers\", \"text\": \"Spark appears with Excel 68 times\", \"x\": [-0.88672879366522], \"y\": [-0.15398716337741863], \"type\": \"scatter\", \"uid\": \"a44deef3-96d2-4dc4-928d-72963638ff6d\"}, {\"hoverinfo\": \"text\", \"marker\": {\"color\": \"green\", \"size\": 0.5}, \"mode\": \"markers\", \"text\": \"Excel appears with Informatica 114 times\", \"x\": [0.8065588432604656], \"y\": [0.39932797592748237], \"type\": \"scatter\", \"uid\": \"3a2b1156-413a-47f1-856a-894cf5adb60e\"}, {\"hoverinfo\": \"text\", \"marker\": {\"color\": \"blue\", \"size\": 0.5}, \"mode\": \"markers\", \"text\": \"Informatica appears with Excel 114 times\", \"x\": [-0.831554218016024], \"y\": [-0.3442638268824636], \"type\": \"scatter\", \"uid\": \"9a4c3ab9-df94-4b55-a24c-cf2929bf91bf\"}, {\"hoverinfo\": \"text\", \"marker\": {\"color\": \"green\", \"size\": 0.5}, \"mode\": \"markers\", \"text\": \"Excel appears with Qlik 344 times\", \"x\": [0.6104302841950187], \"y\": [0.6613432302047014], \"type\": \"scatter\", \"uid\": \"c5b51679-cb53-4010-b802-834324dbbce7\"}, {\"hoverinfo\": \"text\", \"marker\": {\"color\": \"blue\", \"size\": 0.5}, \"mode\": \"markers\", \"text\": \"Qlik appears with Excel 344 times\", \"x\": [-0.5985512994021203], \"y\": [-0.6721133401324759], \"type\": \"scatter\", \"uid\": \"7e6033c2-1075-48cb-8634-5c7ffe132ff0\"}, {\"hoverinfo\": \"text\", \"marker\": {\"color\": \"green\", \"size\": 0.5}, \"mode\": \"markers\", \"text\": \"Excel appears with Tableau 371 times\", \"x\": [0.5378712471674705], \"y\": [0.7215916583986471], \"type\": \"scatter\", \"uid\": \"b88fe765-7d23-412c-9660-b48cfbbd70e1\"}, {\"hoverinfo\": \"text\", \"marker\": {\"color\": \"blue\", \"size\": 0.5}, \"mode\": \"markers\", \"text\": \"Tableau appears with Excel 371 times\", \"x\": [-0.14050905057905813], \"y\": [-0.8889641200326207], \"type\": \"scatter\", \"uid\": \"ec43f29c-83a8-4507-9d63-236b8cbac3b0\"}, {\"hoverinfo\": \"text\", \"marker\": {\"color\": \"green\", \"size\": 0.5}, \"mode\": \"markers\", \"text\": \"Excel appears with Microstrategy 31 times\", \"x\": [0.8605677320094176], \"y\": [0.26348278620085824], \"type\": \"scatter\", \"uid\": \"3e3e6c83-2e1d-4e64-8bd7-498045d6ca34\"}, {\"hoverinfo\": \"text\", \"marker\": {\"color\": \"blue\", \"size\": 0.5}, \"mode\": \"markers\", \"text\": \"Microstrategy appears with Excel 31 times\", \"x\": [-0.035885995279715574], \"y\": [-0.89928426837279], \"type\": \"scatter\", \"uid\": \"595528f7-8a3d-4aae-87f2-4209d009a332\"}, {\"hoverinfo\": \"text\", \"marker\": {\"color\": \"green\", \"size\": 0.5}, \"mode\": \"markers\", \"text\": \"Excel appears with Oracle BI 507 times\", \"x\": [0.3451864262151425], \"y\": [0.8311716616661194], \"type\": \"scatter\", \"uid\": \"244037b8-7db1-4868-b0a9-783c9a6512b0\"}, {\"hoverinfo\": \"text\", \"marker\": {\"color\": \"blue\", \"size\": 0.5}, \"mode\": \"markers\", \"text\": \"Oracle BI appears with Excel 507 times\", \"x\": [0.5185716875571168], \"y\": [-0.7355837171010273], \"type\": \"scatter\", \"uid\": \"6de7e9be-ff66-4d0f-b5d4-cd4cc4e8833e\"}, {\"hoverinfo\": \"text\", \"marker\": {\"color\": \"green\", \"size\": 0.5}, \"mode\": \"markers\", \"text\": \"Excel appears with Python 279 times\", \"x\": [0.6682141939145051], \"y\": [0.6029011453390914], \"type\": \"scatter\", \"uid\": \"66065913-4c7c-4682-8a58-c567c8a465f6\"}, {\"hoverinfo\": \"text\", \"marker\": {\"color\": \"blue\", \"size\": 0.5}, \"mode\": \"markers\", \"text\": \"Python appears with Excel 279 times\", \"x\": [0.7943284461854084], \"y\": [-0.42313392629364377], \"type\": \"scatter\", \"uid\": \"ae8500e9-6f94-405d-9cc6-992a99d82ebd\"}, {\"hoverinfo\": \"text\", \"marker\": {\"color\": \"green\", \"size\": 0.5}, \"mode\": \"markers\", \"text\": \"Excel appears with VBA 184 times\", \"x\": [0.7419594277516951], \"y\": [0.5094077027002804], \"type\": \"scatter\", \"uid\": \"fd300543-f6c0-421b-b62f-c3611f01a1a7\"}, {\"hoverinfo\": \"text\", \"marker\": {\"color\": \"blue\", \"size\": 0.5}, \"mode\": \"markers\", \"text\": \"VBA appears with Excel 184 times\", \"x\": [0.8583463361027149], \"y\": [-0.27063179284600886], \"type\": \"scatter\", \"uid\": \"0d9e3ce4-01a0-41e6-aa08-0206b478b5ea\"}, {\"hoverinfo\": \"text\", \"marker\": {\"color\": \"green\", \"size\": 0.5}, \"mode\": \"markers\", \"text\": \"Excel appears with Linux 58 times\", \"x\": [0.8449686470691101], \"y\": [0.30988382576410406], \"type\": \"scatter\", \"uid\": \"5275fb96-7053-4ea3-afb6-e53972638816\"}, {\"hoverinfo\": \"text\", \"marker\": {\"color\": \"blue\", \"size\": 0.5}, \"mode\": \"markers\", \"text\": \"Linux appears with Excel 58 times\", \"x\": [0.8850577853716389], \"y\": [-0.1633178390533316], \"type\": \"scatter\", \"uid\": \"e0f93a71-f338-4437-9b67-c272d763cf17\"}, {\"hoverinfo\": \"text\", \"marker\": {\"color\": \"green\", \"size\": 0.5}, \"mode\": \"markers\", \"text\": \"Excel appears with AWS 41 times\", \"x\": [0.8577381903051293], \"y\": [0.2725531083882221], \"type\": \"scatter\", \"uid\": \"db32bfcf-4726-414c-98e5-825ec34401b0\"}, {\"hoverinfo\": \"text\", \"marker\": {\"color\": \"blue\", \"size\": 0.5}, \"mode\": \"markers\", \"text\": \"AWS appears with Excel 41 times\", \"x\": [0.8983357644521538], \"y\": [-0.05470698589910134], \"type\": \"scatter\", \"uid\": \"ccc739de-6c1a-4d14-a895-90af88fbd216\"}, {\"hoverinfo\": \"text\", \"marker\": {\"color\": \"green\", \"size\": 0.5}, \"mode\": \"markers\", \"text\": \"SSIS/SSRS appears with MS SQL Server 218 times\", \"x\": [-0.05270979118181831], \"y\": [0.8984551618826446], \"type\": \"scatter\", \"uid\": \"46e1e7e7-ef1d-47e9-8f3e-0cf15448fb56\"}, {\"hoverinfo\": \"text\", \"marker\": {\"color\": \"blue\", \"size\": 0.5}, \"mode\": \"markers\", \"text\": \"MS SQL Server appears with SSIS/SSRS 218 times\", \"x\": [-0.4569512843063763], \"y\": [0.7753679924853445], \"type\": \"scatter\", \"uid\": \"aca911ef-bf27-44ab-8cdd-5ba8e3599874\"}, {\"hoverinfo\": \"text\", \"marker\": {\"color\": \"green\", \"size\": 0.5}, \"mode\": \"markers\", \"text\": \"SSIS/SSRS appears with PostgreSQL 29 times\", \"x\": [0.23122340925778512], \"y\": [0.8697906271116095], \"type\": \"scatter\", \"uid\": \"c418a4c8-04be-41f5-b426-a477b9c94044\"}, {\"hoverinfo\": \"text\", \"marker\": {\"color\": \"blue\", \"size\": 0.5}, \"mode\": \"markers\", \"text\": \"PostgreSQL appears with SSIS/SSRS 29 times\", \"x\": [-0.5672594883785655], \"y\": [0.6987250337897507], \"type\": \"scatter\", \"uid\": \"c435b120-d0cc-44c9-ab48-139c69cf8fa9\"}, {\"hoverinfo\": \"text\", \"marker\": {\"color\": \"green\", \"size\": 0.5}, \"mode\": \"markers\", \"text\": \"SSIS/SSRS appears with MySQL/MariaDB 53 times\", \"x\": [0.19713182818690458], \"y\": [0.8781452284876852], \"type\": \"scatter\", \"uid\": \"98616b08-57b9-4495-b8b9-07f84810470b\"}, {\"hoverinfo\": \"text\", \"marker\": {\"color\": \"blue\", \"size\": 0.5}, \"mode\": \"markers\", \"text\": \"MySQL/MariaDB appears with SSIS/SSRS 53 times\", \"x\": [-0.6613189019932008], \"y\": [0.6104566404475484], \"type\": \"scatter\", \"uid\": \"8d368171-d224-474b-99fa-8cb5776238d1\"}, {\"hoverinfo\": \"text\", \"marker\": {\"color\": \"green\", \"size\": 0.5}, \"mode\": \"markers\", \"text\": \"SSIS/SSRS appears with T-SQL 109 times\", \"x\": [0.10574550274347615], \"y\": [0.8937661263717313], \"type\": \"scatter\", \"uid\": \"d091d06f-7ac1-4cb6-a898-d099bba6dcd5\"}, {\"hoverinfo\": \"text\", \"marker\": {\"color\": \"blue\", \"size\": 0.5}, \"mode\": \"markers\", \"text\": \"T-SQL appears with SSIS/SSRS 109 times\", \"x\": [-0.797116886708985], \"y\": [0.41785723509755734], \"type\": \"scatter\", \"uid\": \"b07e40d0-d1f0-4032-a5c1-450226a6834d\"}, {\"hoverinfo\": \"text\", \"marker\": {\"color\": \"green\", \"size\": 0.5}, \"mode\": \"markers\", \"text\": \"SSIS/SSRS appears with PL/SQL 25 times\", \"x\": [0.23790232985108703], \"y\": [0.8679876044342019], \"type\": \"scatter\", \"uid\": \"ea3bfb83-96f8-4fb7-a76d-35420f735a90\"}, {\"hoverinfo\": \"text\", \"marker\": {\"color\": \"blue\", \"size\": 0.5}, \"mode\": \"markers\", \"text\": \"PL/SQL appears with SSIS/SSRS 25 times\", \"x\": [-0.8607452173510197], \"y\": [0.26290239787294795], \"type\": \"scatter\", \"uid\": \"813849be-fb30-4b5a-a44d-6d1dde90e947\"}, {\"hoverinfo\": \"text\", \"marker\": {\"color\": \"green\", \"size\": 0.5}, \"mode\": \"markers\", \"text\": \"SSIS/SSRS appears with Pentaho 30 times\", \"x\": [0.22391046615354707], \"y\": [0.8717018430328694], \"type\": \"scatter\", \"uid\": \"c90b2f63-bd0d-4e62-ac93-5fc9d360c9d7\"}, {\"hoverinfo\": \"text\", \"marker\": {\"color\": \"blue\", \"size\": 0.5}, \"mode\": \"markers\", \"text\": \"Pentaho appears with SSIS/SSRS 30 times\", \"x\": [-0.8795099958973414], \"y\": [0.19095069289389505], \"type\": \"scatter\", \"uid\": \"651caaff-34d1-45c0-ae29-69b948416787\"}, {\"hoverinfo\": \"text\", \"marker\": {\"color\": \"green\", \"size\": 0.5}, \"mode\": \"markers\", \"text\": \"SSIS/SSRS appears with Hadoop 30 times\", \"x\": [0.21645738094696337], \"y\": [0.8735823957896479], \"type\": \"scatter\", \"uid\": \"af2e0e39-d31c-4db5-a6a2-a5c2baf15afd\"}, {\"hoverinfo\": \"text\", \"marker\": {\"color\": \"blue\", \"size\": 0.5}, \"mode\": \"markers\", \"text\": \"Hadoop appears with SSIS/SSRS 30 times\", \"x\": [-0.8988924735065298], \"y\": [0.04463542397370778], \"type\": \"scatter\", \"uid\": \"4dd7e888-c3fd-4ea3-b138-320f7270322a\"}, {\"hoverinfo\": \"text\", \"marker\": {\"color\": \"green\", \"size\": 0.5}, \"mode\": \"markers\", \"text\": \"SSIS/SSRS appears with Spark 36 times\", \"x\": [0.20824077148354916], \"y\": [0.8755773986872527], \"type\": \"scatter\", \"uid\": \"997666bc-8bfa-439a-9ce2-e8b6017b3550\"}, {\"hoverinfo\": \"text\", \"marker\": {\"color\": \"blue\", \"size\": 0.5}, \"mode\": \"markers\", \"text\": \"Spark appears with SSIS/SSRS 36 times\", \"x\": [-0.891667169278736], \"y\": [-0.12218698470150574], \"type\": \"scatter\", \"uid\": \"f39174b4-7951-4254-a325-648267018e52\"}, {\"hoverinfo\": \"text\", \"marker\": {\"color\": \"green\", \"size\": 0.5}, \"mode\": \"markers\", \"text\": \"SSIS/SSRS appears with Informatica 63 times\", \"x\": [0.1529025904317333], \"y\": [0.8869164548249545], \"type\": \"scatter\", \"uid\": \"0fe0b6ae-a49b-4829-ab5c-6943d2e08a71\"}, {\"hoverinfo\": \"text\", \"marker\": {\"color\": \"blue\", \"size\": 0.5}, \"mode\": \"markers\", \"text\": \"Informatica appears with SSIS/SSRS 63 times\", \"x\": [-0.8513783636097632], \"y\": [-0.2918130942524033], \"type\": \"scatter\", \"uid\": \"4ff96ef0-7bd0-474e-829a-49580e825867\"}, {\"hoverinfo\": \"text\", \"marker\": {\"color\": \"green\", \"size\": 0.5}, \"mode\": \"markers\", \"text\": \"SSIS/SSRS appears with Qlik 61 times\", \"x\": [0.16853286383858193], \"y\": [0.8840795630520852], \"type\": \"scatter\", \"uid\": \"42a4fc14-613e-40a4-a88b-df85c7feb432\"}, {\"hoverinfo\": \"text\", \"marker\": {\"color\": \"blue\", \"size\": 0.5}, \"mode\": \"markers\", \"text\": \"Qlik appears with SSIS/SSRS 61 times\", \"x\": [-0.7699428025204077], \"y\": [-0.4660344202384846], \"type\": \"scatter\", \"uid\": \"8771b14d-a7d6-40dd-bc9b-8179aea2e30b\"}, {\"hoverinfo\": \"text\", \"marker\": {\"color\": \"green\", \"size\": 0.5}, \"mode\": \"markers\", \"text\": \"SSIS/SSRS appears with Tableau 121 times\", \"x\": [0.07643248297065372], \"y\": [0.8967486133509996], \"type\": \"scatter\", \"uid\": \"e7d56ac6-105e-4169-9023-c138102de9d5\"}, {\"hoverinfo\": \"text\", \"marker\": {\"color\": \"blue\", \"size\": 0.5}, \"mode\": \"markers\", \"text\": \"Tableau appears with SSIS/SSRS 121 times\", \"x\": [-0.39190229262064813], \"y\": [-0.8101929356879631], \"type\": \"scatter\", \"uid\": \"e67ac2e6-1a8d-4390-9cd6-c3f47fd21cd5\"}, {\"hoverinfo\": \"text\", \"marker\": {\"color\": \"green\", \"size\": 0.5}, \"mode\": \"markers\", \"text\": \"SSIS/SSRS appears with Microstrategy 21 times\", \"x\": [0.24924864460462182], \"y\": [0.8647977296239618], \"type\": \"scatter\", \"uid\": \"9bd6c9d3-7ed9-4a7d-9e83-ad9abe6e4a35\"}, {\"hoverinfo\": \"text\", \"marker\": {\"color\": \"blue\", \"size\": 0.5}, \"mode\": \"markers\", \"text\": \"Microstrategy appears with SSIS/SSRS 21 times\", \"x\": [-0.04470465273636009], \"y\": [-0.8988890332091728], \"type\": \"scatter\", \"uid\": \"e204a8f8-31e6-46b7-8807-b74d62a2410e\"}, {\"hoverinfo\": \"text\", \"marker\": {\"color\": \"green\", \"size\": 0.5}, \"mode\": \"markers\", \"text\": \"SSIS/SSRS appears with Oracle BI 207 times\", \"x\": [0.0017074684404289919], \"y\": [0.8999983803049454], \"type\": \"scatter\", \"uid\": \"c2317e65-8c31-484d-905b-1da6e64e2bf7\"}, {\"hoverinfo\": \"text\", \"marker\": {\"color\": \"blue\", \"size\": 0.5}, \"mode\": \"markers\", \"text\": \"Oracle BI appears with SSIS/SSRS 207 times\", \"x\": [0.29323564832990684], \"y\": [-0.8508894490758122], \"type\": \"scatter\", \"uid\": \"453a564a-3e07-42df-a942-c4931611e718\"}, {\"hoverinfo\": \"text\", \"marker\": {\"color\": \"green\", \"size\": 0.5}, \"mode\": \"markers\", \"text\": \"SSIS/SSRS appears with Python 128 times\", \"x\": [0.0446065805558111], \"y\": [0.8988939052920083], \"type\": \"scatter\", \"uid\": \"41dce31e-97ed-440d-a461-07982f0aef3e\"}, {\"hoverinfo\": \"text\", \"marker\": {\"color\": \"blue\", \"size\": 0.5}, \"mode\": \"markers\", \"text\": \"Python appears with SSIS/SSRS 128 times\", \"x\": [0.7688571543971237], \"y\": [-0.46782333859306074], \"type\": \"scatter\", \"uid\": \"53e703c7-bb41-4a9c-9e1c-95e7e2150fbd\"}, {\"hoverinfo\": \"text\", \"marker\": {\"color\": \"green\", \"size\": 0.5}, \"mode\": \"markers\", \"text\": \"SSIS/SSRS appears with VBA 57 times\", \"x\": [0.18335814992316896], \"y\": [0.8811241619980426], \"type\": \"scatter\", \"uid\": \"db82d850-c6f6-4ef9-a8eb-3a8e0a414885\"}, {\"hoverinfo\": \"text\", \"marker\": {\"color\": \"blue\", \"size\": 0.5}, \"mode\": \"markers\", \"text\": \"VBA appears with SSIS/SSRS 57 times\", \"x\": [0.8457119395100617], \"y\": [-0.3078495011692074], \"type\": \"scatter\", \"uid\": \"ac0fc5c3-a025-4bd1-bc82-114e1697f2e7\"}, {\"hoverinfo\": \"text\", \"marker\": {\"color\": \"green\", \"size\": 0.5}, \"mode\": \"markers\", \"text\": \"SSIS/SSRS appears with Linux 15 times\", \"x\": [0.2536769782040194], \"y\": [0.8635091144448201], \"type\": \"scatter\", \"uid\": \"03edc743-078c-48cb-9978-acb3053671ff\"}, {\"hoverinfo\": \"text\", \"marker\": {\"color\": \"blue\", \"size\": 0.5}, \"mode\": \"markers\", \"text\": \"Linux appears with SSIS/SSRS 15 times\", \"x\": [0.8738064622382219], \"y\": [-0.21555107643137136], \"type\": \"scatter\", \"uid\": \"14471c35-a2eb-4b53-ab22-63836d44110e\"}, {\"hoverinfo\": \"text\", \"marker\": {\"color\": \"green\", \"size\": 0.5}, \"mode\": \"markers\", \"text\": \"SSIS/SSRS appears with AWS 23 times\", \"x\": [0.24382735991826285], \"y\": [0.8663418600963998], \"type\": \"scatter\", \"uid\": \"abecbd17-ffa2-4cc3-beb0-49294c2da82b\"}, {\"hoverinfo\": \"text\", \"marker\": {\"color\": \"blue\", \"size\": 0.5}, \"mode\": \"markers\", \"text\": \"AWS appears with SSIS/SSRS 23 times\", \"x\": [0.8962946870945991], \"y\": [-0.08158329415998462], \"type\": \"scatter\", \"uid\": \"68a67fa2-5ea1-4c1e-86c8-0c8753d87acf\"}, {\"hoverinfo\": \"text\", \"marker\": {\"color\": \"green\", \"size\": 0.5}, \"mode\": \"markers\", \"text\": \"MS SQL Server appears with PostgreSQL 47 times\", \"x\": [-0.26170615530148006], \"y\": [0.8611096842315256], \"type\": \"scatter\", \"uid\": \"9f6a9d68-9235-4a44-9268-a7ad04c79d06\"}, {\"hoverinfo\": \"text\", \"marker\": {\"color\": \"blue\", \"size\": 0.5}, \"mode\": \"markers\", \"text\": \"PostgreSQL appears with MS SQL Server 47 times\", \"x\": [-0.5839609880303842], \"y\": [0.6848281276777244], \"type\": \"scatter\", \"uid\": \"489369da-190c-4ac3-b986-69bbf7ef2692\"}, {\"hoverinfo\": \"text\", \"marker\": {\"color\": \"green\", \"size\": 0.5}, \"mode\": \"markers\", \"text\": \"MS SQL Server appears with MySQL/MariaDB 62 times\", \"x\": [-0.2996827166784407], \"y\": [0.8486402472922372], \"type\": \"scatter\", \"uid\": \"6acd434e-ce24-4fa3-8baf-cfac520b63a4\"}, {\"hoverinfo\": \"text\", \"marker\": {\"color\": \"blue\", \"size\": 0.5}, \"mode\": \"markers\", \"text\": \"MySQL/MariaDB appears with MS SQL Server 62 times\", \"x\": [-0.6865387287079379], \"y\": [0.5819489444823219], \"type\": \"scatter\", \"uid\": \"43de70d9-5d11-4d2f-9416-d33c996108d9\"}, {\"hoverinfo\": \"text\", \"marker\": {\"color\": \"green\", \"size\": 0.5}, \"mode\": \"markers\", \"text\": \"MS SQL Server appears with T-SQL 150 times\", \"x\": [-0.4163821316398398], \"y\": [0.7978884135335361], \"type\": \"scatter\", \"uid\": \"0be07f14-4c31-47ca-b557-19b999399243\"}, {\"hoverinfo\": \"text\", \"marker\": {\"color\": \"blue\", \"size\": 0.5}, \"mode\": \"markers\", \"text\": \"T-SQL appears with MS SQL Server 150 times\", \"x\": [-0.8233956478455113], \"y\": [0.3633450248855359], \"type\": \"scatter\", \"uid\": \"41b80b2f-660d-4e81-8874-3e5c8cade566\"}, {\"hoverinfo\": \"text\", \"marker\": {\"color\": \"green\", \"size\": 0.5}, \"mode\": \"markers\", \"text\": \"MS SQL Server appears with PL/SQL 10 times\", \"x\": [-0.21367153668294223], \"y\": [0.8742679648777886], \"type\": \"scatter\", \"uid\": \"a44a684a-4a62-41c6-8928-aaaf4140c299\"}, {\"hoverinfo\": \"text\", \"marker\": {\"color\": \"blue\", \"size\": 0.5}, \"mode\": \"markers\", \"text\": \"PL/SQL appears with MS SQL Server 10 times\", \"x\": [-0.8562013016590088], \"y\": [0.2773433450389953], \"type\": \"scatter\", \"uid\": \"42de0246-173e-45a5-a24d-8735195a4758\"}, {\"hoverinfo\": \"text\", \"marker\": {\"color\": \"green\", \"size\": 0.5}, \"mode\": \"markers\", \"text\": \"MS SQL Server appears with Pentaho 42 times\", \"x\": [-0.2509479013099408], \"y\": [0.864306167297293], \"type\": \"scatter\", \"uid\": \"5c8bbc80-c106-4ca4-8065-74258c30047c\"}, {\"hoverinfo\": \"text\", \"marker\": {\"color\": \"blue\", \"size\": 0.5}, \"mode\": \"markers\", \"text\": \"Pentaho appears with MS SQL Server 42 times\", \"x\": [-0.890271120419709], \"y\": [0.13197474056286695], \"type\": \"scatter\", \"uid\": \"1b215c28-796d-4447-a908-877aa7db415f\"}, {\"hoverinfo\": \"text\", \"marker\": {\"color\": \"green\", \"size\": 0.5}, \"mode\": \"markers\", \"text\": \"MS SQL Server appears with Hadoop 24 times\", \"x\": [-0.22663221969661426], \"y\": [0.8709981842664114], \"type\": \"scatter\", \"uid\": \"30cd4223-97ce-43d0-a121-563fc2be3c3b\"}, {\"hoverinfo\": \"text\", \"marker\": {\"color\": \"blue\", \"size\": 0.5}, \"mode\": \"markers\", \"text\": \"Hadoop appears with MS SQL Server 24 times\", \"x\": [-0.8981898659015662], \"y\": [0.0570522987418259], \"type\": \"scatter\", \"uid\": \"fe418d48-1f8b-455e-a827-850de4e6d3fb\"}, {\"hoverinfo\": \"text\", \"marker\": {\"color\": \"green\", \"size\": 0.5}, \"mode\": \"markers\", \"text\": \"MS SQL Server appears with Spark 20 times\", \"x\": [-0.22125821873747026], \"y\": [0.8723788171666721], \"type\": \"scatter\", \"uid\": \"ec05e9bc-2b04-46da-87fa-76467629a2b5\"}, {\"hoverinfo\": \"text\", \"marker\": {\"color\": \"blue\", \"size\": 0.5}, \"mode\": \"markers\", \"text\": \"Spark appears with MS SQL Server 20 times\", \"x\": [-0.8946414873087889], \"y\": [-0.0980643114793458], \"type\": \"scatter\", \"uid\": \"9f29b07a-a8e1-43f5-b1df-f0068a33328c\"}, {\"hoverinfo\": \"text\", \"marker\": {\"color\": \"green\", \"size\": 0.5}, \"mode\": \"markers\", \"text\": \"MS SQL Server appears with Informatica 55 times\", \"x\": [-0.2857309986514288], \"y\": [0.8534388064821387], \"type\": \"scatter\", \"uid\": \"83c501de-2720-4e42-a505-da006443e4fe\"}, {\"hoverinfo\": \"text\", \"marker\": {\"color\": \"blue\", \"size\": 0.5}, \"mode\": \"markers\", \"text\": \"Informatica appears with MS SQL Server 55 times\", \"x\": [-0.8556870331399696], \"y\": [-0.27892597820231174], \"type\": \"scatter\", \"uid\": \"9cd2d3db-6e7b-43c5-8469-910aa317ae85\"}, {\"hoverinfo\": \"text\", \"marker\": {\"color\": \"green\", \"size\": 0.5}, \"mode\": \"markers\", \"text\": \"MS SQL Server appears with Qlik 49 times\", \"x\": [-0.27326489184465036], \"y\": [0.857511690232344], \"type\": \"scatter\", \"uid\": \"cad88bfe-0350-4b71-ae74-cf7a4d6b74ec\"}, {\"hoverinfo\": \"text\", \"marker\": {\"color\": \"blue\", \"size\": 0.5}, \"mode\": \"markers\", \"text\": \"Qlik appears with MS SQL Server 49 times\", \"x\": [-0.7770750173968153], \"y\": [-0.4540423078720081], \"type\": \"scatter\", \"uid\": \"2c04df11-f673-47e6-8878-9878b7b6f9b3\"}, {\"hoverinfo\": \"text\", \"marker\": {\"color\": \"green\", \"size\": 0.5}, \"mode\": \"markers\", \"text\": \"MS SQL Server appears with Tableau 80 times\", \"x\": [-0.3165070270156174], \"y\": [0.8425101197313509], \"type\": \"scatter\", \"uid\": \"46c98f56-81bc-48fa-a118-c50fbd8c675f\"}, {\"hoverinfo\": \"text\", \"marker\": {\"color\": \"blue\", \"size\": 0.5}, \"mode\": \"markers\", \"text\": \"Tableau appears with MS SQL Server 80 times\", \"x\": [-0.45763821743993266], \"y\": [-0.774962748742416], \"type\": \"scatter\", \"uid\": \"fd7e0959-5dad-4c81-95a0-62a68ccadd5e\"}, {\"hoverinfo\": \"text\", \"marker\": {\"color\": \"green\", \"size\": 0.5}, \"mode\": \"markers\", \"text\": \"MS SQL Server appears with Microstrategy 16 times\", \"x\": [-0.2168550446735836], \"y\": [0.8734837660767475], \"type\": \"scatter\", \"uid\": \"420b08d0-1fa7-4292-950d-8977b49abac1\"}, {\"hoverinfo\": \"text\", \"marker\": {\"color\": \"blue\", \"size\": 0.5}, \"mode\": \"markers\", \"text\": \"Microstrategy appears with MS SQL Server 16 times\", \"x\": [-0.05428156038751881], \"y\": [-0.8983615709734561], \"type\": \"scatter\", \"uid\": \"e3757314-ae6c-4c30-8091-9f806f1dedb0\"}, {\"hoverinfo\": \"text\", \"marker\": {\"color\": \"green\", \"size\": 0.5}, \"mode\": \"markers\", \"text\": \"MS SQL Server appears with Oracle BI 132 times\", \"x\": [-0.3845389993250212], \"y\": [0.8137135601660521], \"type\": \"scatter\", \"uid\": \"2c1246d2-8c49-4234-9de3-0bf508da92d1\"}, {\"hoverinfo\": \"text\", \"marker\": {\"color\": \"blue\", \"size\": 0.5}, \"mode\": \"markers\", \"text\": \"Oracle BI appears with MS SQL Server 132 times\", \"x\": [0.2511578463126913], \"y\": [-0.8642451829403336], \"type\": \"scatter\", \"uid\": \"bb146916-6e81-4996-be71-3c79dd31805f\"}, {\"hoverinfo\": \"text\", \"marker\": {\"color\": \"green\", \"size\": 0.5}, \"mode\": \"markers\", \"text\": \"MS SQL Server appears with Python 88 times\", \"x\": [-0.33624952444702544], \"y\": [0.8348270822806058], \"type\": \"scatter\", \"uid\": \"57e67a1c-2755-4142-ace6-1ea4f3d6b74d\"}, {\"hoverinfo\": \"text\", \"marker\": {\"color\": \"blue\", \"size\": 0.5}, \"mode\": \"markers\", \"text\": \"Python appears with MS SQL Server 88 times\", \"x\": [0.68591541387767], \"y\": [-0.5826834861269236], \"type\": \"scatter\", \"uid\": \"e2b7b1c4-664d-4e20-8377-f338c53eff82\"}, {\"hoverinfo\": \"text\", \"marker\": {\"color\": \"green\", \"size\": 0.5}, \"mode\": \"markers\", \"text\": \"MS SQL Server appears with VBA 33 times\", \"x\": [-0.23358115668381485], \"y\": [0.8691604243419342], \"type\": \"scatter\", \"uid\": \"211e1909-826e-4a75-92f6-a2573e5dca1c\"}, {\"hoverinfo\": \"text\", \"marker\": {\"color\": \"blue\", \"size\": 0.5}, \"mode\": \"markers\", \"text\": \"VBA appears with MS SQL Server 33 times\", \"x\": [0.8335261536453846], \"y\": [-0.3394615606944781], \"type\": \"scatter\", \"uid\": \"96872728-cf68-473b-9c60-4b8f69b1d717\"}, {\"hoverinfo\": \"text\", \"marker\": {\"color\": \"green\", \"size\": 0.5}, \"mode\": \"markers\", \"text\": \"MS SQL Server appears with Linux 34 times\", \"x\": [-0.24173012357851148], \"y\": [0.8669293785278692], \"type\": \"scatter\", \"uid\": \"02320556-0580-4a7e-be9a-55decaee18ae\"}, {\"hoverinfo\": \"text\", \"marker\": {\"color\": \"blue\", \"size\": 0.5}, \"mode\": \"markers\", \"text\": \"Linux appears with MS SQL Server 34 times\", \"x\": [0.8811025725451888], \"y\": [-0.18346186703031866], \"type\": \"scatter\", \"uid\": \"57245d83-60d1-475b-b238-d85b8af7ca56\"}, {\"hoverinfo\": \"text\", \"marker\": {\"color\": \"green\", \"size\": 0.5}, \"mode\": \"markers\", \"text\": \"MS SQL Server appears with AWS 9 times\", \"x\": [-0.2113433313225683], \"y\": [0.8748336963706183], \"type\": \"scatter\", \"uid\": \"7e7f711f-0d84-430e-ab40-0fa7ddd4f102\"}, {\"hoverinfo\": \"text\", \"marker\": {\"color\": \"blue\", \"size\": 0.5}, \"mode\": \"markers\", \"text\": \"AWS appears with MS SQL Server 9 times\", \"x\": [0.8950342028965317], \"y\": [-0.09441279386486816], \"type\": \"scatter\", \"uid\": \"aa5b5c62-e32f-4b2e-9616-8730b2fddbd0\"}, {\"hoverinfo\": \"text\", \"marker\": {\"color\": \"green\", \"size\": 0.5}, \"mode\": \"markers\", \"text\": \"PostgreSQL appears with MySQL/MariaDB 64 times\", \"x\": [-0.5996656080539194], \"y\": [0.6711193325462493], \"type\": \"scatter\", \"uid\": \"dfc5ad10-695e-417d-a94c-057fee065050\"}, {\"hoverinfo\": \"text\", \"marker\": {\"color\": \"blue\", \"size\": 0.5}, \"mode\": \"markers\", \"text\": \"MySQL/MariaDB appears with PostgreSQL 64 times\", \"x\": [-0.6956017970418827], \"y\": [0.571085054919233], \"type\": \"scatter\", \"uid\": \"f61a23b3-bb96-41a4-a862-5c0b17fc9a78\"}, {\"hoverinfo\": \"text\", \"marker\": {\"color\": \"green\", \"size\": 0.5}, \"mode\": \"markers\", \"text\": \"PostgreSQL appears with T-SQL 28 times\", \"x\": [-0.562917533534195], \"y\": [0.7022277767503777], \"type\": \"scatter\", \"uid\": \"a640bedd-fc17-4570-90d2-a729874d279b\"}, {\"hoverinfo\": \"text\", \"marker\": {\"color\": \"blue\", \"size\": 0.5}, \"mode\": \"markers\", \"text\": \"T-SQL appears with PostgreSQL 28 times\", \"x\": [-0.7471534284083216], \"y\": [0.5017586615273234], \"type\": \"scatter\", \"uid\": \"78b8386b-c6a3-42dc-80b1-620e35fee06e\"}, {\"hoverinfo\": \"text\", \"marker\": {\"color\": \"green\", \"size\": 0.5}, \"mode\": \"markers\", \"text\": \"PostgreSQL appears with Pentaho 40 times\", \"x\": [-0.5774558243984174], \"y\": [0.6903222224934847], \"type\": \"scatter\", \"uid\": \"538d4543-cb7a-4b2d-bd7e-953fc0a063b0\"}, {\"hoverinfo\": \"text\", \"marker\": {\"color\": \"blue\", \"size\": 0.5}, \"mode\": \"markers\", \"text\": \"Pentaho appears with PostgreSQL 40 times\", \"x\": [-0.8889314211913244], \"y\": [0.14071577174848704], \"type\": \"scatter\", \"uid\": \"450a8268-37b8-4b5e-89ce-3d4f218933b2\"}, {\"hoverinfo\": \"text\", \"marker\": {\"color\": \"green\", \"size\": 0.5}, \"mode\": \"markers\", \"text\": \"PostgreSQL appears with Hadoop 3 times\", \"x\": [-0.5492975135480955], \"y\": [0.7129321437625603], \"type\": \"scatter\", \"uid\": \"325fa21b-f034-4f6f-91eb-e269c03d4c83\"}, {\"hoverinfo\": \"text\", \"marker\": {\"color\": \"blue\", \"size\": 0.5}, \"mode\": \"markers\", \"text\": \"Hadoop appears with PostgreSQL 3 times\", \"x\": [-0.8970074351303653], \"y\": [0.07333253930448304], \"type\": \"scatter\", \"uid\": \"e00b7d7e-6262-47f6-b261-a5f1b62638ff\"}, {\"hoverinfo\": \"text\", \"marker\": {\"color\": \"green\", \"size\": 0.5}, \"mode\": \"markers\", \"text\": \"PostgreSQL appears with Spark 5 times\", \"x\": [-0.5499175369714503], \"y\": [0.7124540002914249], \"type\": \"scatter\", \"uid\": \"e0c36b8c-9e25-4d15-ab78-833206521b25\"}, {\"hoverinfo\": \"text\", \"marker\": {\"color\": \"blue\", \"size\": 0.5}, \"mode\": \"markers\", \"text\": \"Spark appears with PostgreSQL 5 times\", \"x\": [-0.8964939261873118], \"y\": [-0.07936397362316608], \"type\": \"scatter\", \"uid\": \"a64dba52-65fb-4957-92b4-5c41e2a64eb3\"}, {\"hoverinfo\": \"text\", \"marker\": {\"color\": \"green\", \"size\": 0.5}, \"mode\": \"markers\", \"text\": \"PostgreSQL appears with Qlik 13 times\", \"x\": [-0.5522389141446203], \"y\": [0.7106561627850494], \"type\": \"scatter\", \"uid\": \"3061199c-c348-4cea-b817-e64fabba9d8f\"}, {\"hoverinfo\": \"text\", \"marker\": {\"color\": \"blue\", \"size\": 0.5}, \"mode\": \"markers\", \"text\": \"Qlik appears with PostgreSQL 13 times\", \"x\": [-0.7988686804501506], \"y\": [-0.41449828877310857], \"type\": \"scatter\", \"uid\": \"b5c5e729-a9d3-43e3-a5fa-6a3cebe28680\"}, {\"hoverinfo\": \"text\", \"marker\": {\"color\": \"green\", \"size\": 0.5}, \"mode\": \"markers\", \"text\": \"PostgreSQL appears with Tableau 6 times\", \"x\": [-0.5507693894960575], \"y\": [0.7117956726435896], \"type\": \"scatter\", \"uid\": \"3916339f-c8ce-4929-b266-fb611a52d9d6\"}, {\"hoverinfo\": \"text\", \"marker\": {\"color\": \"blue\", \"size\": 0.5}, \"mode\": \"markers\", \"text\": \"Tableau appears with PostgreSQL 6 times\", \"x\": [-0.5423812084664966], \"y\": [-0.7182079258142607], \"type\": \"scatter\", \"uid\": \"4c5822a3-41cf-48c9-a2db-46b9444df970\"}, {\"hoverinfo\": \"text\", \"marker\": {\"color\": \"green\", \"size\": 0.5}, \"mode\": \"markers\", \"text\": \"PostgreSQL appears with Oracle BI 33 times\", \"x\": [-0.5719575640764755], \"y\": [0.6948845550850188], \"type\": \"scatter\", \"uid\": \"88c367f9-c4f0-498d-9e72-f6d93b6be0ec\"}, {\"hoverinfo\": \"text\", \"marker\": {\"color\": \"blue\", \"size\": 0.5}, \"mode\": \"markers\", \"text\": \"Oracle BI appears with PostgreSQL 33 times\", \"x\": [0.02908907572438677], \"y\": [-0.8995297803149715], \"type\": \"scatter\", \"uid\": \"c5e07cdb-b202-4df3-a4b5-a015726fd345\"}, {\"hoverinfo\": \"text\", \"marker\": {\"color\": \"green\", \"size\": 0.5}, \"mode\": \"markers\", \"text\": \"PostgreSQL appears with Python 23 times\", \"x\": [-0.5550168061471458], \"y\": [0.7084887754186524], \"type\": \"scatter\", \"uid\": \"56d10481-e49f-43f7-a96e-0510596b1d6d\"}, {\"hoverinfo\": \"text\", \"marker\": {\"color\": \"blue\", \"size\": 0.5}, \"mode\": \"markers\", \"text\": \"Python appears with PostgreSQL 23 times\", \"x\": [0.5978779151661404], \"y\": [-0.6727124189106289], \"type\": \"scatter\", \"uid\": \"12da5315-621b-47e3-ad69-ab2a0fd34d2b\"}, {\"hoverinfo\": \"text\", \"marker\": {\"color\": \"green\", \"size\": 0.5}, \"mode\": \"markers\", \"text\": \"PostgreSQL appears with Linux 26 times\", \"x\": [-0.5587841490777844], \"y\": [0.7055212787290093], \"type\": \"scatter\", \"uid\": \"b9f8af47-487a-48ca-8761-84b4d31c551c\"}, {\"hoverinfo\": \"text\", \"marker\": {\"color\": \"blue\", \"size\": 0.5}, \"mode\": \"markers\", \"text\": \"Linux appears with PostgreSQL 26 times\", \"x\": [0.876879979754601], \"y\": [-0.20268572003367816], \"type\": \"scatter\", \"uid\": \"78a7d0fb-59c6-45a5-a92c-d4f63bd24184\"}, {\"hoverinfo\": \"text\", \"marker\": {\"color\": \"green\", \"size\": 0.5}, \"mode\": \"markers\", \"text\": \"MySQL/MariaDB appears with T-SQL 35 times\", \"x\": [-0.6416449543480296], \"y\": [0.6311035989120288], \"type\": \"scatter\", \"uid\": \"948f1d0e-5a23-402a-b369-81aed8aec35f\"}, {\"hoverinfo\": \"text\", \"marker\": {\"color\": \"blue\", \"size\": 0.5}, \"mode\": \"markers\", \"text\": \"T-SQL appears with MySQL/MariaDB 35 times\", \"x\": [-0.7600520063144467], \"y\": [0.48199683370057966], \"type\": \"scatter\", \"uid\": \"e51374dd-51c1-495f-a41c-498515f559cf\"}, {\"hoverinfo\": \"text\", \"marker\": {\"color\": \"green\", \"size\": 0.5}, \"mode\": \"markers\", \"text\": \"MySQL/MariaDB appears with Pentaho 58 times\", \"x\": [-0.677749473201328], \"y\": [0.5921618457612096], \"type\": \"scatter\", \"uid\": \"b17671de-fe58-41ca-8fde-e3893b64064f\"}, {\"hoverinfo\": \"text\", \"marker\": {\"color\": \"blue\", \"size\": 0.5}, \"mode\": \"markers\", \"text\": \"Pentaho appears with MySQL/MariaDB 58 times\", \"x\": [-0.8917885663071276], \"y\": [0.12129778647559086], \"type\": \"scatter\", \"uid\": \"67864c32-b92f-4dc6-ad9e-2d4df1c79a28\"}, {\"hoverinfo\": \"text\", \"marker\": {\"color\": \"green\", \"size\": 0.5}, \"mode\": \"markers\", \"text\": \"MySQL/MariaDB appears with Hadoop 4 times\", \"x\": [-0.6257799550003089], \"y\": [0.6468380383989576], \"type\": \"scatter\", \"uid\": \"b57ea68c-aadb-4cdd-b7f3-4c3e5b7e4554\"}, {\"hoverinfo\": \"text\", \"marker\": {\"color\": \"blue\", \"size\": 0.5}, \"mode\": \"markers\", \"text\": \"Hadoop appears with MySQL/MariaDB 4 times\", \"x\": [-0.897123903468981], \"y\": [0.07189368417725307], \"type\": \"scatter\", \"uid\": \"f804db77-eafe-475e-9190-75723f0acc68\"}, {\"hoverinfo\": \"text\", \"marker\": {\"color\": \"green\", \"size\": 0.5}, \"mode\": \"markers\", \"text\": \"MySQL/MariaDB appears with Spark 19 times\", \"x\": [-0.6322846749930373], \"y\": [0.6404811392765201], \"type\": \"scatter\", \"uid\": \"7578fcfc-df11-4684-b09b-e69e0f8d360a\"}, {\"hoverinfo\": \"text\", \"marker\": {\"color\": \"blue\", \"size\": 0.5}, \"mode\": \"markers\", \"text\": \"Spark appears with MySQL/MariaDB 19 times\", \"x\": [-0.8951090325112875], \"y\": [-0.09370069325627714], \"type\": \"scatter\", \"uid\": \"b1e06c42-fd77-4cd9-a1a6-2cbd1e78c26b\"}, {\"hoverinfo\": \"text\", \"marker\": {\"color\": \"green\", \"size\": 0.5}, \"mode\": \"markers\", \"text\": \"MySQL/MariaDB appears with Informatica 8 times\", \"x\": [-0.6275530186866238], \"y\": [0.6451179804790019], \"type\": \"scatter\", \"uid\": \"a46e3bdc-b210-4aef-9794-19cec90d89ea\"}, {\"hoverinfo\": \"text\", \"marker\": {\"color\": \"blue\", \"size\": 0.5}, \"mode\": \"markers\", \"text\": \"Informatica appears with MySQL/MariaDB 8 times\", \"x\": [-0.8669769729635816], \"y\": [-0.24155936817044596], \"type\": \"scatter\", \"uid\": \"42183207-688d-4bf9-ade4-62624b64c0a1\"}, {\"hoverinfo\": \"text\", \"marker\": {\"color\": \"green\", \"size\": 0.5}, \"mode\": \"markers\", \"text\": \"MySQL/MariaDB appears with Qlik 16 times\", \"x\": [-0.6294818774376393], \"y\": [0.6432360111013569], \"type\": \"scatter\", \"uid\": \"2c9d671e-cc4a-4226-b85d-89a19176f7cf\"}, {\"hoverinfo\": \"text\", \"marker\": {\"color\": \"blue\", \"size\": 0.5}, \"mode\": \"markers\", \"text\": \"Qlik appears with MySQL/MariaDB 16 times\", \"x\": [-0.7953943993480199], \"y\": [-0.4211267617782117], \"type\": \"scatter\", \"uid\": \"ff83f5fc-c887-4a34-82e5-2d594b633d02\"}, {\"hoverinfo\": \"text\", \"marker\": {\"color\": \"green\", \"size\": 0.5}, \"mode\": \"markers\", \"text\": \"MySQL/MariaDB appears with Tableau 38 times\", \"x\": [-0.647366136063906], \"y\": [0.625233625037624], \"type\": \"scatter\", \"uid\": \"19e66c0e-d3eb-4ca3-964f-bf9bb3929d0a\"}, {\"hoverinfo\": \"text\", \"marker\": {\"color\": \"blue\", \"size\": 0.5}, \"mode\": \"markers\", \"text\": \"Tableau appears with MySQL/MariaDB 38 times\", \"x\": [-0.5044482862757469], \"y\": [-0.7453401414612406], \"type\": \"scatter\", \"uid\": \"ee275918-7de4-4c30-a686-3c596988ddbb\"}, {\"hoverinfo\": \"text\", \"marker\": {\"color\": \"green\", \"size\": 0.5}, \"mode\": \"markers\", \"text\": \"MySQL/MariaDB appears with Oracle BI 54 times\", \"x\": [-0.6694090700637025], \"y\": [0.6015741823885473], \"type\": \"scatter\", \"uid\": \"8678dffd-c193-48b3-bd49-f44e2c48ff56\"}, {\"hoverinfo\": \"text\", \"marker\": {\"color\": \"blue\", \"size\": 0.5}, \"mode\": \"markers\", \"text\": \"Oracle BI appears with MySQL/MariaDB 54 times\", \"x\": [0.07342389605893938], \"y\": [-0.8969999618102145], \"type\": \"scatter\", \"uid\": \"3490399d-2863-4b8d-924a-84b2bba7bca4\"}, {\"hoverinfo\": \"text\", \"marker\": {\"color\": \"green\", \"size\": 0.5}, \"mode\": \"markers\", \"text\": \"MySQL/MariaDB appears with Python 45 times\", \"x\": [-0.653805779224105], \"y\": [0.6184965667270603], \"type\": \"scatter\", \"uid\": \"0de1f04a-c31d-4952-be2e-6a0c972e82fd\"}, {\"hoverinfo\": \"text\", \"marker\": {\"color\": \"blue\", \"size\": 0.5}, \"mode\": \"markers\", \"text\": \"Python appears with MySQL/MariaDB 45 times\", \"x\": [0.6216732370905971], \"y\": [-0.6507859757902734], \"type\": \"scatter\", \"uid\": \"6ba6248c-0e74-46cb-9832-aa9ea3882784\"}, {\"hoverinfo\": \"text\", \"marker\": {\"color\": \"green\", \"size\": 0.5}, \"mode\": \"markers\", \"text\": \"MySQL/MariaDB appears with VBA 3 times\", \"x\": [-0.6252148090575658], \"y\": [0.6473843082243435], \"type\": \"scatter\", \"uid\": \"a5e1e234-0c2f-4b88-ac10-d390cdb5e1d1\"}, {\"hoverinfo\": \"text\", \"marker\": {\"color\": \"blue\", \"size\": 0.5}, \"mode\": \"markers\", \"text\": \"VBA appears with MySQL/MariaDB 3 times\", \"x\": [0.8226929162395257], \"y\": [-0.364933371410871], \"type\": \"scatter\", \"uid\": \"9f42f3d7-90ee-4c48-8c0d-e606820d5cdd\"}, {\"hoverinfo\": \"text\", \"marker\": {\"color\": \"green\", \"size\": 0.5}, \"mode\": \"markers\", \"text\": \"MySQL/MariaDB appears with Linux 32 times\", \"x\": [-0.6363471536038088], \"y\": [0.636445048767237], \"type\": \"scatter\", \"uid\": \"1498dd9f-7fbb-4aa8-ba6e-b319d46c1b51\"}, {\"hoverinfo\": \"text\", \"marker\": {\"color\": \"blue\", \"size\": 0.5}, \"mode\": \"markers\", \"text\": \"Linux appears with MySQL/MariaDB 32 times\", \"x\": [0.8796523673054221], \"y\": [-0.19029375369140944], \"type\": \"scatter\", \"uid\": \"406b6c2a-4616-45e4-a118-5059cefd6c92\"}, {\"hoverinfo\": \"text\", \"marker\": {\"color\": \"green\", \"size\": 0.5}, \"mode\": \"markers\", \"text\": \"T-SQL appears with PL/SQL 30 times\", \"x\": [-0.7510840869644152], \"y\": [0.4958555175742535], \"type\": \"scatter\", \"uid\": \"09912a82-d451-4021-b84d-8e875b74cb20\"}, {\"hoverinfo\": \"text\", \"marker\": {\"color\": \"blue\", \"size\": 0.5}, \"mode\": \"markers\", \"text\": \"PL/SQL appears with T-SQL 30 times\", \"x\": [-0.8621230641680815], \"y\": [0.2583482576473818], \"type\": \"scatter\", \"uid\": \"319595d3-efd8-41c9-bc2c-b4c97dc1f4ed\"}, {\"hoverinfo\": \"text\", \"marker\": {\"color\": \"green\", \"size\": 0.5}, \"mode\": \"markers\", \"text\": \"T-SQL appears with Pentaho 35 times\", \"x\": [-0.7554337021031078], \"y\": [0.48920335416551763], \"type\": \"scatter\", \"uid\": \"d30c7a4a-9212-4546-b19f-2262a2cb0a75\"}, {\"hoverinfo\": \"text\", \"marker\": {\"color\": \"blue\", \"size\": 0.5}, \"mode\": \"markers\", \"text\": \"Pentaho appears with T-SQL 35 times\", \"x\": [-0.8876309389451372], \"y\": [0.1486987431936601], \"type\": \"scatter\", \"uid\": \"b214e780-6ca1-4cfe-a20a-c8ce84dda210\"}, {\"hoverinfo\": \"text\", \"marker\": {\"color\": \"green\", \"size\": 0.5}, \"mode\": \"markers\", \"text\": \"T-SQL appears with Hadoop 16 times\", \"x\": [-0.7374749613584137], \"y\": [0.5158785529263707], \"type\": \"scatter\", \"uid\": \"6856876f-2b1c-4dfb-a8fa-409c0f11596f\"}, {\"hoverinfo\": \"text\", \"marker\": {\"color\": \"blue\", \"size\": 0.5}, \"mode\": \"markers\", \"text\": \"Hadoop appears with T-SQL 16 times\", \"x\": [-0.8976315365805286], \"y\": [0.06525047537052232], \"type\": \"scatter\", \"uid\": \"965ee466-1f02-45dc-ad04-6297e444cfa8\"}, {\"hoverinfo\": \"text\", \"marker\": {\"color\": \"green\", \"size\": 0.5}, \"mode\": \"markers\", \"text\": \"T-SQL appears with Spark 16 times\", \"x\": [-0.7352251502411157], \"y\": [0.5190799345504782], \"type\": \"scatter\", \"uid\": \"a2e30340-ba20-4aa7-8f38-378b9d1de3d6\"}, {\"hoverinfo\": \"text\", \"marker\": {\"color\": \"blue\", \"size\": 0.5}, \"mode\": \"markers\", \"text\": \"Spark appears with T-SQL 16 times\", \"x\": [-0.8955105036624983], \"y\": [-0.08978272567782018], \"type\": \"scatter\", \"uid\": \"4ff89383-fb39-43a3-a06e-af12cfd9c2fd\"}, {\"hoverinfo\": \"text\", \"marker\": {\"color\": \"green\", \"size\": 0.5}, \"mode\": \"markers\", \"text\": \"T-SQL appears with Informatica 12 times\", \"x\": [-0.7332451640790255], \"y\": [0.5218730969830914], \"type\": \"scatter\", \"uid\": \"50641442-7ff1-4200-aac5-2ca4e6041aac\"}, {\"hoverinfo\": \"text\", \"marker\": {\"color\": \"blue\", \"size\": 0.5}, \"mode\": \"markers\", \"text\": \"Informatica appears with T-SQL 12 times\", \"x\": [-0.8644589661088804], \"y\": [-0.2504210372831436], \"type\": \"scatter\", \"uid\": \"d3dd8373-ee95-47aa-807d-d9c4e1e463c0\"}, {\"hoverinfo\": \"text\", \"marker\": {\"color\": \"green\", \"size\": 0.5}, \"mode\": \"markers\", \"text\": \"T-SQL appears with Qlik 64 times\", \"x\": [-0.776662390697109], \"y\": [0.45474776621403146], \"type\": \"scatter\", \"uid\": \"3f400da4-1a5d-4006-977b-9797d3b111a0\"}, {\"hoverinfo\": \"text\", \"marker\": {\"color\": \"blue\", \"size\": 0.5}, \"mode\": \"markers\", \"text\": \"Qlik appears with T-SQL 64 times\", \"x\": [-0.7616134856759557], \"y\": [-0.47952570153905294], \"type\": \"scatter\", \"uid\": \"9ca082f1-79ee-4ffa-934d-31863df757a3\"}, {\"hoverinfo\": \"text\", \"marker\": {\"color\": \"green\", \"size\": 0.5}, \"mode\": \"markers\", \"text\": \"T-SQL appears with Tableau 86 times\", \"x\": [-0.7857680076465223], \"y\": [0.43882643284015493], \"type\": \"scatter\", \"uid\": \"0ba1f7dc-9195-4609-ac44-d76ab5229f51\"}, {\"hoverinfo\": \"text\", \"marker\": {\"color\": \"blue\", \"size\": 0.5}, \"mode\": \"markers\", \"text\": \"Tableau appears with T-SQL 86 times\", \"x\": [-0.43909357327631104], \"y\": [-0.7856187586275171], \"type\": \"scatter\", \"uid\": \"3b3c6bcb-c4f8-489b-bced-f3230c75a694\"}, {\"hoverinfo\": \"text\", \"marker\": {\"color\": \"green\", \"size\": 0.5}, \"mode\": \"markers\", \"text\": \"T-SQL appears with Microstrategy 9 times\", \"x\": [-0.7317532092017967], \"y\": [0.5239630147471018], \"type\": \"scatter\", \"uid\": \"8b705932-1258-4cd4-bfad-8dc472d8b3cf\"}, {\"hoverinfo\": \"text\", \"marker\": {\"color\": \"blue\", \"size\": 0.5}, \"mode\": \"markers\", \"text\": \"Microstrategy appears with T-SQL 9 times\", \"x\": [-0.06063457850060902], \"y\": [-0.8979551480391732], \"type\": \"scatter\", \"uid\": \"77d209b8-344f-4564-9ab7-118bd7a70c7c\"}, {\"hoverinfo\": \"text\", \"marker\": {\"color\": \"green\", \"size\": 0.5}, \"mode\": \"markers\", \"text\": \"T-SQL appears with Oracle BI 118 times\", \"x\": [-0.8096229094122503], \"y\": [0.39307854756377014], \"type\": \"scatter\", \"uid\": \"6da1a1ea-6857-4b42-beaa-293e50bb4b91\"}, {\"hoverinfo\": \"text\", \"marker\": {\"color\": \"blue\", \"size\": 0.5}, \"mode\": \"markers\", \"text\": \"Oracle BI appears with T-SQL 118 times\", \"x\": [0.1576044834553116], \"y\": [-0.8860930124963092], \"type\": \"scatter\", \"uid\": \"3fd6c529-d207-4432-902b-bd237d3ce7a8\"}, {\"hoverinfo\": \"text\", \"marker\": {\"color\": \"green\", \"size\": 0.5}, \"mode\": \"markers\", \"text\": \"T-SQL appears with Python 45 times\", \"x\": [-0.7698430638956703], \"y\": [0.4661991602005811], \"type\": \"scatter\", \"uid\": \"33bc9846-fe86-4f00-9219-b62f47efc276\"}, {\"hoverinfo\": \"text\", \"marker\": {\"color\": \"blue\", \"size\": 0.5}, \"mode\": \"markers\", \"text\": \"Python appears with T-SQL 45 times\", \"x\": [0.6298494192456444], \"y\": [-0.6428761226518873], \"type\": \"scatter\", \"uid\": \"34b80835-4cb9-4c23-9394-2ae77d88eb79\"}, {\"hoverinfo\": \"text\", \"marker\": {\"color\": \"green\", \"size\": 0.5}, \"mode\": \"markers\", \"text\": \"T-SQL appears with VBA 26 times\", \"x\": [-0.7434521390764622], \"y\": [0.507226691827858], \"type\": \"scatter\", \"uid\": \"526d78ff-7a5a-41ae-aa3a-285840865341\"}, {\"hoverinfo\": \"text\", \"marker\": {\"color\": \"blue\", \"size\": 0.5}, \"mode\": \"markers\", \"text\": \"VBA appears with T-SQL 26 times\", \"x\": [0.8264640575107297], \"y\": [-0.35631048489049744], \"type\": \"scatter\", \"uid\": \"77d02801-cf90-406c-9f83-cbf49714e2c8\"}, {\"hoverinfo\": \"text\", \"marker\": {\"color\": \"green\", \"size\": 0.5}, \"mode\": \"markers\", \"text\": \"T-SQL appears with Linux 22 times\", \"x\": [-0.7401285034321287], \"y\": [0.5120642522255556], \"type\": \"scatter\", \"uid\": \"787cfbf5-d136-4371-a14e-2c88d89b769f\"}, {\"hoverinfo\": \"text\", \"marker\": {\"color\": \"blue\", \"size\": 0.5}, \"mode\": \"markers\", \"text\": \"Linux appears with T-SQL 22 times\", \"x\": [0.875722115640142], \"y\": [-0.2076313468114912], \"type\": \"scatter\", \"uid\": \"bd825287-950c-4a82-b353-f47877730308\"}, {\"hoverinfo\": \"text\", \"marker\": {\"color\": \"green\", \"size\": 0.5}, \"mode\": \"markers\", \"text\": \"T-SQL appears with AWS 8 times\", \"x\": [-0.7305410727744637], \"y\": [0.5256517297503509], \"type\": \"scatter\", \"uid\": \"dbc14327-40c9-4683-abc7-ebabb514f5ca\"}, {\"hoverinfo\": \"text\", \"marker\": {\"color\": \"blue\", \"size\": 0.5}, \"mode\": \"markers\", \"text\": \"AWS appears with T-SQL 8 times\", \"x\": [0.8948585143195329], \"y\": [-0.09606372546304087], \"type\": \"scatter\", \"uid\": \"a628d380-362b-4c1a-91fc-9a32f633382e\"}, {\"hoverinfo\": \"text\", \"marker\": {\"color\": \"green\", \"size\": 0.5}, \"mode\": \"markers\", \"text\": \"PL/SQL appears with Pentaho 8 times\", \"x\": [-0.8557201644221297], \"y\": [0.2788243178084785], \"type\": \"scatter\", \"uid\": \"dcf15154-c1d8-474b-a7a3-f3c54a294b7d\"}, {\"hoverinfo\": \"text\", \"marker\": {\"color\": \"blue\", \"size\": 0.5}, \"mode\": \"markers\", \"text\": \"Pentaho appears with PL/SQL 8 times\", \"x\": [-0.8763307273762084], \"y\": [0.2050474487924333], \"type\": \"scatter\", \"uid\": \"64fc050e-7fb9-4a5e-b0b2-64500a7dc24c\"}, {\"hoverinfo\": \"text\", \"marker\": {\"color\": \"green\", \"size\": 0.5}, \"mode\": \"markers\", \"text\": \"PL/SQL appears with Hadoop 3 times\", \"x\": [-0.854831427386882], \"y\": [0.2815372635224435], \"type\": \"scatter\", \"uid\": \"fd81b62d-c384-4e9a-bb02-afb56ccb7cc2\"}, {\"hoverinfo\": \"text\", \"marker\": {\"color\": \"blue\", \"size\": 0.5}, \"mode\": \"markers\", \"text\": \"Hadoop appears with PL/SQL 3 times\", \"x\": [-0.8970614765234585], \"y\": [0.07266847554168632], \"type\": \"scatter\", \"uid\": \"8534a3f6-bcad-40cf-96ad-83b971802dd2\"}, {\"hoverinfo\": \"text\", \"marker\": {\"color\": \"green\", \"size\": 0.5}, \"mode\": \"markers\", \"text\": \"PL/SQL appears with Informatica 23 times\", \"x\": [-0.8595230724189343], \"y\": [0.26687092007094987], \"type\": \"scatter\", \"uid\": \"bba74a7d-a587-4dc8-b29d-82c9188c3368\"}, {\"hoverinfo\": \"text\", \"marker\": {\"color\": \"blue\", \"size\": 0.5}, \"mode\": \"markers\", \"text\": \"Informatica appears with PL/SQL 23 times\", \"x\": [-0.8622144246319715], \"y\": [-0.25804318622385325], \"type\": \"scatter\", \"uid\": \"b1dc9953-ad97-48eb-97c9-e86f6d83023f\"}, {\"hoverinfo\": \"text\", \"marker\": {\"color\": \"green\", \"size\": 0.5}, \"mode\": \"markers\", \"text\": \"PL/SQL appears with Qlik 12 times\", \"x\": [-0.8567858774127963], \"y\": [0.2755321401687737], \"type\": \"scatter\", \"uid\": \"d209de16-01e3-4ed8-9ff1-c51336d9853f\"}, {\"hoverinfo\": \"text\", \"marker\": {\"color\": \"blue\", \"size\": 0.5}, \"mode\": \"markers\", \"text\": \"Qlik appears with PL/SQL 12 times\", \"x\": [-0.8003241855122194], \"y\": [-0.41168094209497075], \"type\": \"scatter\", \"uid\": \"d4abdf17-2530-4fe8-a4cf-349bc133fd5a\"}, {\"hoverinfo\": \"text\", \"marker\": {\"color\": \"green\", \"size\": 0.5}, \"mode\": \"markers\", \"text\": \"PL/SQL appears with Tableau 15 times\", \"x\": [-0.8574980744977205], \"y\": [0.27330761466285874], \"type\": \"scatter\", \"uid\": \"6d5e1370-1b5d-473b-a6d0-384dbb24601e\"}, {\"hoverinfo\": \"text\", \"marker\": {\"color\": \"blue\", \"size\": 0.5}, \"mode\": \"markers\", \"text\": \"Tableau appears with PL/SQL 15 times\", \"x\": [-0.5375363587279253], \"y\": [-0.7218411619224296], \"type\": \"scatter\", \"uid\": \"50ccb2aa-2f50-4de2-8d39-b6f0a26daeb3\"}, {\"hoverinfo\": \"text\", \"marker\": {\"color\": \"green\", \"size\": 0.5}, \"mode\": \"markers\", \"text\": \"PL/SQL appears with Microstrategy 20 times\", \"x\": [-0.858412696092723], \"y\": [0.2704212328697995], \"type\": \"scatter\", \"uid\": \"46821429-7b99-47af-8d1e-297c10af4221\"}, {\"hoverinfo\": \"text\", \"marker\": {\"color\": \"blue\", \"size\": 0.5}, \"mode\": \"markers\", \"text\": \"Microstrategy appears with PL/SQL 20 times\", \"x\": [-0.04818010396548102], \"y\": [-0.8987094511475194], \"type\": \"scatter\", \"uid\": \"5fa35654-21ee-4649-ac82-824bbebdff7c\"}, {\"hoverinfo\": \"text\", \"marker\": {\"color\": \"green\", \"size\": 0.5}, \"mode\": \"markers\", \"text\": \"PL/SQL appears with Oracle BI 74 times\", \"x\": [-0.8669764738702163], \"y\": [0.24156115945152756], \"type\": \"scatter\", \"uid\": \"3803addf-1618-48cf-92ca-28c22215d54f\"}, {\"hoverinfo\": \"text\", \"marker\": {\"color\": \"blue\", \"size\": 0.5}, \"mode\": \"markers\", \"text\": \"Oracle BI appears with PL/SQL 74 times\", \"x\": [0.10478519663762345], \"y\": [-0.8938792214642953], \"type\": \"scatter\", \"uid\": \"02ae623b-741c-4bbb-a974-03544ffcefd7\"}, {\"hoverinfo\": \"text\", \"marker\": {\"color\": \"green\", \"size\": 0.5}, \"mode\": \"markers\", \"text\": \"PL/SQL appears with Python 2 times\", \"x\": [-0.8546960197212575], \"y\": [0.2819480694607426], \"type\": \"scatter\", \"uid\": \"f5d5b6e8-134a-48a9-9751-5c5104c705f8\"}, {\"hoverinfo\": \"text\", \"marker\": {\"color\": \"blue\", \"size\": 0.5}, \"mode\": \"markers\", \"text\": \"Python appears with PL/SQL 2 times\", \"x\": [0.5928539466302615], \"y\": [-0.6771441485864905], \"type\": \"scatter\", \"uid\": \"3c923be6-33d0-4b7f-b352-3768d4991cbc\"}, {\"hoverinfo\": \"text\", \"marker\": {\"color\": \"green\", \"size\": 0.5}, \"mode\": \"markers\", \"text\": \"PL/SQL appears with VBA 6 times\", \"x\": [-0.8553441754876057], \"y\": [0.27997560868659255], \"type\": \"scatter\", \"uid\": \"1768874b-12ca-4b73-9d9d-2e00c083832b\"}, {\"hoverinfo\": \"text\", \"marker\": {\"color\": \"blue\", \"size\": 0.5}, \"mode\": \"markers\", \"text\": \"VBA appears with PL/SQL 6 times\", \"x\": [0.8250549192066934], \"y\": [-0.3595613720810909], \"type\": \"scatter\", \"uid\": \"9119bbe5-1cb5-4961-88b0-c3673883cb1e\"}, {\"hoverinfo\": \"text\", \"marker\": {\"color\": \"green\", \"size\": 0.5}, \"mode\": \"markers\", \"text\": \"PL/SQL appears with Linux 1 times\", \"x\": [-0.8546146803578929], \"y\": [0.2821945217696059], \"type\": \"scatter\", \"uid\": \"10d27803-46c7-4116-91e7-2ebd5bc1fe58\"}, {\"hoverinfo\": \"text\", \"marker\": {\"color\": \"blue\", \"size\": 0.5}, \"mode\": \"markers\", \"text\": \"Linux appears with PL/SQL 1 times\", \"x\": [0.8717403134068059], \"y\": [-0.22376064439798996], \"type\": \"scatter\", \"uid\": \"0b3ee0ef-28c6-4dab-b26d-dc086766605a\"}, {\"hoverinfo\": \"text\", \"marker\": {\"color\": \"green\", \"size\": 0.5}, \"mode\": \"markers\", \"text\": \"PL/SQL appears with AWS 1 times\", \"x\": [-0.8545604146348285], \"y\": [0.2823588102736482], \"type\": \"scatter\", \"uid\": \"8fd324e3-b36d-4c8e-810c-7c8aaed83c6a\"}, {\"hoverinfo\": \"text\", \"marker\": {\"color\": \"blue\", \"size\": 0.5}, \"mode\": \"markers\", \"text\": \"AWS appears with PL/SQL 1 times\", \"x\": [0.8944872144759274], \"y\": [-0.09946166668167325], \"type\": \"scatter\", \"uid\": \"9cee455e-d430-4aba-9e3a-31b0e15aae0d\"}, {\"hoverinfo\": \"text\", \"marker\": {\"color\": \"green\", \"size\": 0.5}, \"mode\": \"markers\", \"text\": \"Pentaho appears with Spark 6 times\", \"x\": [-0.8759855151294864], \"y\": [0.20651725662357695], \"type\": \"scatter\", \"uid\": \"a6f4e226-1c3a-4e4a-a7b7-e13365ff6c40\"}, {\"hoverinfo\": \"text\", \"marker\": {\"color\": \"blue\", \"size\": 0.5}, \"mode\": \"markers\", \"text\": \"Spark appears with Pentaho 6 times\", \"x\": [-0.8962619910323559], \"y\": [-0.08194170751648455], \"type\": \"scatter\", \"uid\": \"d1d363e3-d818-4e20-851a-c5b702a9fcee\"}, {\"hoverinfo\": \"text\", \"marker\": {\"color\": \"green\", \"size\": 0.5}, \"mode\": \"markers\", \"text\": \"Pentaho appears with Informatica 32 times\", \"x\": [-0.8822500268220941], \"y\": [0.17786199754982585], \"type\": \"scatter\", \"uid\": \"f8d41b7c-2a69-4bfe-ab49-88ad730b997c\"}, {\"hoverinfo\": \"text\", \"marker\": {\"color\": \"blue\", \"size\": 0.5}, \"mode\": \"markers\", \"text\": \"Informatica appears with Pentaho 32 times\", \"x\": [-0.858738895005299], \"y\": [-0.2693835744901277], \"type\": \"scatter\", \"uid\": \"f014e3a5-31fd-44a1-84c2-6f47d9707199\"}, {\"hoverinfo\": \"text\", \"marker\": {\"color\": \"green\", \"size\": 0.5}, \"mode\": \"markers\", \"text\": \"Pentaho appears with Qlik 27 times\", \"x\": [-0.8781852861582367], \"y\": [0.19695330201643207], \"type\": \"scatter\", \"uid\": \"7245f064-2738-4ff6-9970-a320701d98fd\"}, {\"hoverinfo\": \"text\", \"marker\": {\"color\": \"blue\", \"size\": 0.5}, \"mode\": \"markers\", \"text\": \"Qlik appears with Pentaho 27 times\", \"x\": [-0.7896847501352203], \"y\": [-0.43173834136415845], \"type\": \"scatter\", \"uid\": \"301a5564-8e91-46f3-8b61-a116b019d191\"}, {\"hoverinfo\": \"text\", \"marker\": {\"color\": \"green\", \"size\": 0.5}, \"mode\": \"markers\", \"text\": \"Pentaho appears with Tableau 35 times\", \"x\": [-0.8850116499715143], \"y\": [0.16356766005142348], \"type\": \"scatter\", \"uid\": \"6f860edc-6a29-4c5f-9802-4bae7455302d\"}, {\"hoverinfo\": \"text\", \"marker\": {\"color\": \"blue\", \"size\": 0.5}, \"mode\": \"markers\", \"text\": \"Tableau appears with Pentaho 35 times\", \"x\": [-0.512210119539638], \"y\": [-0.7400275626226295], \"type\": \"scatter\", \"uid\": \"55564673-2866-4559-ae6b-1fc5a21182bc\"}, {\"hoverinfo\": \"text\", \"marker\": {\"color\": \"green\", \"size\": 0.5}, \"mode\": \"markers\", \"text\": \"Pentaho appears with Microstrategy 3 times\", \"x\": [-0.8757622911312117], \"y\": [0.2074618264467243], \"type\": \"scatter\", \"uid\": \"d79a738d-39e3-41c3-bd27-e8e2118e0c04\"}, {\"hoverinfo\": \"text\", \"marker\": {\"color\": \"blue\", \"size\": 0.5}, \"mode\": \"markers\", \"text\": \"Microstrategy appears with Pentaho 3 times\", \"x\": [-0.06385230303548015], \"y\": [-0.8977320777364844], \"type\": \"scatter\", \"uid\": \"f959ed8c-1f6d-4951-b123-2d341eb3e1a1\"}, {\"hoverinfo\": \"text\", \"marker\": {\"color\": \"green\", \"size\": 0.5}, \"mode\": \"markers\", \"text\": \"Pentaho appears with Oracle BI 35 times\", \"x\": [-0.8863524740093034], \"y\": [0.15613869417151896], \"type\": \"scatter\", \"uid\": \"ca8f0c4c-6c37-44ba-8b89-acd098791ad1\"}, {\"hoverinfo\": \"text\", \"marker\": {\"color\": \"blue\", \"size\": 0.5}, \"mode\": \"markers\", \"text\": \"Oracle BI appears with Pentaho 35 times\", \"x\": [0.03793913873513326], \"y\": [-0.8991999898532229], \"type\": \"scatter\", \"uid\": \"6b1fc168-98c9-43aa-aa0b-bd19a02b3b82\"}, {\"hoverinfo\": \"text\", \"marker\": {\"color\": \"green\", \"size\": 0.5}, \"mode\": \"markers\", \"text\": \"Pentaho appears with Python 34 times\", \"x\": [-0.883629043230838], \"y\": [0.17087923793999613], \"type\": \"scatter\", \"uid\": \"83f4cd50-b975-4bd3-b6ee-978f981b65ea\"}, {\"hoverinfo\": \"text\", \"marker\": {\"color\": \"blue\", \"size\": 0.5}, \"mode\": \"markers\", \"text\": \"Python appears with Pentaho 34 times\", \"x\": [0.607732968337755], \"y\": [-0.6638227468197977], \"type\": \"scatter\", \"uid\": \"87bb4e33-6c30-4dd1-8c6f-024c3fb921e2\"}, {\"hoverinfo\": \"text\", \"marker\": {\"color\": \"green\", \"size\": 0.5}, \"mode\": \"markers\", \"text\": \"Pentaho appears with VBA 1 times\", \"x\": [-0.8756627535163517], \"y\": [0.20788155787409615], \"type\": \"scatter\", \"uid\": \"f253ba18-2f93-4b8f-b4e7-510ebd3d5832\"}, {\"hoverinfo\": \"text\", \"marker\": {\"color\": \"blue\", \"size\": 0.5}, \"mode\": \"markers\", \"text\": \"VBA appears with Pentaho 1 times\", \"x\": [0.8222433299182309], \"y\": [-0.3659452232301703], \"type\": \"scatter\", \"uid\": \"a7010158-eba8-4a38-8171-a845908b0549\"}, {\"hoverinfo\": \"text\", \"marker\": {\"color\": \"green\", \"size\": 0.5}, \"mode\": \"markers\", \"text\": \"Pentaho appears with Linux 31 times\", \"x\": [-0.8808822175303109], \"y\": [0.18451698794117022], \"type\": \"scatter\", \"uid\": \"b57fb5c2-14eb-49b1-ac0f-329f872ebf50\"}, {\"hoverinfo\": \"text\", \"marker\": {\"color\": \"blue\", \"size\": 0.5}, \"mode\": \"markers\", \"text\": \"Linux appears with Pentaho 31 times\", \"x\": [0.8782186640362785], \"y\": [-0.1968044159523213], \"type\": \"scatter\", \"uid\": \"c553fc4d-0a0b-47f0-ab11-5568709fe253\"}, {\"hoverinfo\": \"text\", \"marker\": {\"color\": \"green\", \"size\": 0.5}, \"mode\": \"markers\", \"text\": \"Pentaho appears with AWS 13 times\", \"x\": [-0.8772311998763613], \"y\": [0.2011601898077238], \"type\": \"scatter\", \"uid\": \"46fcef6d-6e9a-49ad-8ec6-6612123adc45\"}, {\"hoverinfo\": \"text\", \"marker\": {\"color\": \"blue\", \"size\": 0.5}, \"mode\": \"markers\", \"text\": \"AWS appears with Pentaho 13 times\", \"x\": [0.8952570432034734], \"y\": [-0.09227581803795734], \"type\": \"scatter\", \"uid\": \"6775cc34-fd4c-488e-9a1b-d8425bbfd2a2\"}, {\"hoverinfo\": \"text\", \"marker\": {\"color\": \"green\", \"size\": 0.5}, \"mode\": \"markers\", \"text\": \"Hadoop appears with Spark 101 times\", \"x\": [-0.899879063188985], \"y\": [-0.014753698997699143], \"type\": \"scatter\", \"uid\": \"9da997db-30e9-4515-ab2c-e41326a63311\"}, {\"hoverinfo\": \"text\", \"marker\": {\"color\": \"blue\", \"size\": 0.5}, \"mode\": \"markers\", \"text\": \"Spark appears with Hadoop 101 times\", \"x\": [-0.883277292134428], \"y\": [-0.1726882312135732], \"type\": \"scatter\", \"uid\": \"73028a76-cc99-450f-b9c8-761cda201ba1\"}, {\"hoverinfo\": \"text\", \"marker\": {\"color\": \"green\", \"size\": 0.5}, \"mode\": \"markers\", \"text\": \"Hadoop appears with Informatica 5 times\", \"x\": [-0.8972031833835548], \"y\": [0.07089744513320324], \"type\": \"scatter\", \"uid\": \"7213e7af-5500-4787-afcd-a77bcf1e2879\"}, {\"hoverinfo\": \"text\", \"marker\": {\"color\": \"blue\", \"size\": 0.5}, \"mode\": \"markers\", \"text\": \"Informatica appears with Hadoop 5 times\", \"x\": [-0.8677452330673655], \"y\": [-0.2387848623528374], \"type\": \"scatter\", \"uid\": \"3d8462b7-b27f-4ff3-9bb0-11d306b9c62b\"}, {\"hoverinfo\": \"text\", \"marker\": {\"color\": \"green\", \"size\": 0.5}, \"mode\": \"markers\", \"text\": \"Hadoop appears with Qlik 9 times\", \"x\": [-0.8974259994833101], \"y\": [0.06801893450637035], \"type\": \"scatter\", \"uid\": \"dd5979e7-d77f-4253-88f3-a4de6113cdfa\"}, {\"hoverinfo\": \"text\", \"marker\": {\"color\": \"blue\", \"size\": 0.5}, \"mode\": \"markers\", \"text\": \"Qlik appears with Hadoop 9 times\", \"x\": [-0.801539132107992], \"y\": [-0.4093104197300222], \"type\": \"scatter\", \"uid\": \"de880f0c-f060-47d7-9d02-4715c3df4374\"}, {\"hoverinfo\": \"text\", \"marker\": {\"color\": \"green\", \"size\": 0.5}, \"mode\": \"markers\", \"text\": \"Hadoop appears with Tableau 34 times\", \"x\": [-0.8992169049209964], \"y\": [0.03753608802610773], \"type\": \"scatter\", \"uid\": \"c0a27c24-712a-4803-b721-c2c4f60f11d9\"}, {\"hoverinfo\": \"text\", \"marker\": {\"color\": \"blue\", \"size\": 0.5}, \"mode\": \"markers\", \"text\": \"Tableau appears with Hadoop 34 times\", \"x\": [-0.5194952307765572], \"y\": [-0.7349317690781992], \"type\": \"scatter\", \"uid\": \"e04e9659-89aa-4e21-a1e1-444e3615364c\"}, {\"hoverinfo\": \"text\", \"marker\": {\"color\": \"green\", \"size\": 0.5}, \"mode\": \"markers\", \"text\": \"Hadoop appears with Microstrategy 3 times\", \"x\": [-0.8969529021537723], \"y\": [0.07399656287913234], \"type\": \"scatter\", \"uid\": \"799a06d5-600f-4daf-b6be-2ebe75f86200\"}, {\"hoverinfo\": \"text\", \"marker\": {\"color\": \"blue\", \"size\": 0.5}, \"mode\": \"markers\", \"text\": \"Microstrategy appears with Hadoop 3 times\", \"x\": [-0.06334429472894756], \"y\": [-0.8977680659977232], \"type\": \"scatter\", \"uid\": \"3bf142ae-9474-41c5-a85e-04615e0a6f9e\"}, {\"hoverinfo\": \"text\", \"marker\": {\"color\": \"green\", \"size\": 0.5}, \"mode\": \"markers\", \"text\": \"Hadoop appears with Oracle BI 29 times\", \"x\": [-0.8985437363833555], \"y\": [0.05117766901920291], \"type\": \"scatter\", \"uid\": \"8941eab9-745a-45de-9cc6-f360e835f62e\"}, {\"hoverinfo\": \"text\", \"marker\": {\"color\": \"blue\", \"size\": 0.5}, \"mode\": \"markers\", \"text\": \"Oracle BI appears with Hadoop 29 times\", \"x\": [0.021017423789853207], \"y\": [-0.8997545598090836], \"type\": \"scatter\", \"uid\": \"19c0407d-d540-462f-907c-5dcb92d7df4c\"}, {\"hoverinfo\": \"text\", \"marker\": {\"color\": \"green\", \"size\": 0.5}, \"mode\": \"markers\", \"text\": \"Hadoop appears with Python 108 times\", \"x\": [-0.8991994838886516], \"y\": [-0.03795112876295927], \"type\": \"scatter\", \"uid\": \"28560962-5ab5-4617-90bf-cd9ddd565dfe\"}, {\"hoverinfo\": \"text\", \"marker\": {\"color\": \"blue\", \"size\": 0.5}, \"mode\": \"markers\", \"text\": \"Python appears with Hadoop 108 times\", \"x\": [0.7177030401090951], \"y\": [-0.5430491195261831], \"type\": \"scatter\", \"uid\": \"f4a22657-0f61-4e48-9f9e-edff9ee55786\"}, {\"hoverinfo\": \"text\", \"marker\": {\"color\": \"green\", \"size\": 0.5}, \"mode\": \"markers\", \"text\": \"Hadoop appears with VBA 6 times\", \"x\": [-0.8972985786588059], \"y\": [0.0696797010390173], \"type\": \"scatter\", \"uid\": \"ceff667c-2687-4a1b-9eb3-02668de2de5e\"}, {\"hoverinfo\": \"text\", \"marker\": {\"color\": \"blue\", \"size\": 0.5}, \"mode\": \"markers\", \"text\": \"VBA appears with Hadoop 6 times\", \"x\": [0.8245231944453247], \"y\": [-0.36077902076156987], \"type\": \"scatter\", \"uid\": \"7c9e51b1-11b6-4be7-8e4a-8d5f14fb1f57\"}, {\"hoverinfo\": \"text\", \"marker\": {\"color\": \"green\", \"size\": 0.5}, \"mode\": \"markers\", \"text\": \"Hadoop appears with Linux 68 times\", \"x\": [-0.8999910579898677], \"y\": [0.004011924510594134], \"type\": \"scatter\", \"uid\": \"099ea75e-f944-4c5d-953e-34690658c64a\"}, {\"hoverinfo\": \"text\", \"marker\": {\"color\": \"blue\", \"size\": 0.5}, \"mode\": \"markers\", \"text\": \"Linux appears with Hadoop 68 times\", \"x\": [0.8873800961744729], \"y\": [-0.1501884313566907], \"type\": \"scatter\", \"uid\": \"b0b0a7da-868e-4eb8-9f61-f247d44fc337\"}, {\"hoverinfo\": \"text\", \"marker\": {\"color\": \"green\", \"size\": 0.5}, \"mode\": \"markers\", \"text\": \"Hadoop appears with AWS 37 times\", \"x\": [-0.8995112173648422], \"y\": [0.029657542629481774], \"type\": \"scatter\", \"uid\": \"e2877f3a-dee2-49ef-9718-61a4136c191c\"}, {\"hoverinfo\": \"text\", \"marker\": {\"color\": \"blue\", \"size\": 0.5}, \"mode\": \"markers\", \"text\": \"AWS appears with Hadoop 37 times\", \"x\": [0.8972658217337086], \"y\": [-0.07010025070235314], \"type\": \"scatter\", \"uid\": \"b40f7040-ddaa-4b26-ac1a-f5dcffe05b17\"}, {\"hoverinfo\": \"text\", \"marker\": {\"color\": \"green\", \"size\": 0.5}, \"mode\": \"markers\", \"text\": \"Spark appears with Informatica 9 times\", \"x\": [-0.8961067356889065], \"y\": [-0.083622474568576], \"type\": \"scatter\", \"uid\": \"3b11971d-3e32-4148-94fb-860715058fdd\"}, {\"hoverinfo\": \"text\", \"marker\": {\"color\": \"blue\", \"size\": 0.5}, \"mode\": \"markers\", \"text\": \"Informatica appears with Spark 9 times\", \"x\": [-0.8664494884336862], \"y\": [-0.24344462202522246], \"type\": \"scatter\", \"uid\": \"a84fc7ee-9c30-42d4-94d8-b6a3518291b8\"}, {\"hoverinfo\": \"text\", \"marker\": {\"color\": \"green\", \"size\": 0.5}, \"mode\": \"markers\", \"text\": \"Spark appears with Qlik 15 times\", \"x\": [-0.8958517713091539], \"y\": [-0.08631108759743109], \"type\": \"scatter\", \"uid\": \"5c965c1c-2f74-4f43-9936-0f5dad4b1190\"}, {\"hoverinfo\": \"text\", \"marker\": {\"color\": \"blue\", \"size\": 0.5}, \"mode\": \"markers\", \"text\": \"Qlik appears with Spark 15 times\", \"x\": [-0.7972267412965665], \"y\": [-0.41764760619648894], \"type\": \"scatter\", \"uid\": \"5185bc65-06a5-4d7e-b806-68e527b545ab\"}, {\"hoverinfo\": \"text\", \"marker\": {\"color\": \"green\", \"size\": 0.5}, \"mode\": \"markers\", \"text\": \"Spark appears with Tableau 33 times\", \"x\": [-0.892688100658534], \"y\": [-0.11448997747689145], \"type\": \"scatter\", \"uid\": \"cb5333ff-8e14-4fb0-8753-80f0ba709453\"}, {\"hoverinfo\": \"text\", \"marker\": {\"color\": \"blue\", \"size\": 0.5}, \"mode\": \"markers\", \"text\": \"Tableau appears with Spark 33 times\", \"x\": [-0.5265206761865645], \"y\": [-0.7299150481720752], \"type\": \"scatter\", \"uid\": \"61ec8703-b5d3-433a-89bf-973f6d3ff6aa\"}, {\"hoverinfo\": \"text\", \"marker\": {\"color\": \"green\", \"size\": 0.5}, \"mode\": \"markers\", \"text\": \"Spark appears with Microstrategy 3 times\", \"x\": [-0.8965728615545846], \"y\": [-0.07846721559876899], \"type\": \"scatter\", \"uid\": \"1e8731bb-b55f-49e6-8ae1-9b5248d8b5f6\"}, {\"hoverinfo\": \"text\", \"marker\": {\"color\": \"blue\", \"size\": 0.5}, \"mode\": \"markers\", \"text\": \"Microstrategy appears with Spark 3 times\", \"x\": [-0.06436029089606586], \"y\": [-0.8976958020152338], \"type\": \"scatter\", \"uid\": \"faf01ec3-cf4c-4dda-9dc5-543b9e498aba\"}, {\"hoverinfo\": \"text\", \"marker\": {\"color\": \"green\", \"size\": 0.5}, \"mode\": \"markers\", \"text\": \"Spark appears with Oracle BI 25 times\", \"x\": [-0.8934948810120243], \"y\": [-0.10801341400635567], \"type\": \"scatter\", \"uid\": \"f3543358-db79-4391-9276-aa00c12a9a6b\"}, {\"hoverinfo\": \"text\", \"marker\": {\"color\": \"blue\", \"size\": 0.5}, \"mode\": \"markers\", \"text\": \"Oracle BI appears with Spark 25 times\", \"x\": [0.01398587409687154], \"y\": [-0.8998913241751731], \"type\": \"scatter\", \"uid\": \"252436ed-b383-4532-8bbd-f2f0f539ce98\"}, {\"hoverinfo\": \"text\", \"marker\": {\"color\": \"green\", \"size\": 0.5}, \"mode\": \"markers\", \"text\": \"Spark appears with Python 120 times\", \"x\": [-0.8781690122734259], \"y\": [-0.19702585079810073], \"type\": \"scatter\", \"uid\": \"c9f398dc-641b-455a-964b-ef65080552fa\"}, {\"hoverinfo\": \"text\", \"marker\": {\"color\": \"blue\", \"size\": 0.5}, \"mode\": \"markers\", \"text\": \"Python appears with Spark 120 times\", \"x\": [0.7347215650649765], \"y\": [-0.5197924795805259], \"type\": \"scatter\", \"uid\": \"ce4ae733-4dae-4818-8f73-9810a68d9252\"}, {\"hoverinfo\": \"text\", \"marker\": {\"color\": \"green\", \"size\": 0.5}, \"mode\": \"markers\", \"text\": \"Spark appears with VBA 6 times\", \"x\": [-0.8963839255338442], \"y\": [-0.08059688607220329], \"type\": \"scatter\", \"uid\": \"32800c9e-e5d5-41dd-a679-df5305f04aa9\"}, {\"hoverinfo\": \"text\", \"marker\": {\"color\": \"blue\", \"size\": 0.5}, \"mode\": \"markers\", \"text\": \"VBA appears with Spark 6 times\", \"x\": [0.8239896726310416], \"y\": [-0.36199588312215497], \"type\": \"scatter\", \"uid\": \"c3cc17c5-b6c7-475c-9eaf-5369e94fa7da\"}, {\"hoverinfo\": \"text\", \"marker\": {\"color\": \"green\", \"size\": 0.5}, \"mode\": \"markers\", \"text\": \"Spark appears with Linux 51 times\", \"x\": [-0.8889216932676139], \"y\": [-0.1407772113597866], \"type\": \"scatter\", \"uid\": \"124a8e6b-c057-4731-8cda-83d08971f57a\"}, {\"hoverinfo\": \"text\", \"marker\": {\"color\": \"blue\", \"size\": 0.5}, \"mode\": \"markers\", \"text\": \"Linux appears with Spark 51 times\", \"x\": [0.8828920789041286], \"y\": [-0.17464700686913012], \"type\": \"scatter\", \"uid\": \"7e9fd62e-bbf5-455f-bc8e-d0bf88bdcdd5\"}, {\"hoverinfo\": \"text\", \"marker\": {\"color\": \"green\", \"size\": 0.5}, \"mode\": \"markers\", \"text\": \"Spark appears with AWS 40 times\", \"x\": [-0.8904658633193474], \"y\": [-0.13065430059102243], \"type\": \"scatter\", \"uid\": \"ef680c57-b68c-4c8c-963e-ade799cc1229\"}, {\"hoverinfo\": \"text\", \"marker\": {\"color\": \"blue\", \"size\": 0.5}, \"mode\": \"markers\", \"text\": \"AWS appears with Spark 40 times\", \"x\": [0.8978202182964563], \"y\": [-0.0626007637182128], \"type\": \"scatter\", \"uid\": \"35a959c7-07cb-4e9e-8b4b-3478758a4ba3\"}, {\"hoverinfo\": \"text\", \"marker\": {\"color\": \"green\", \"size\": 0.5}, \"mode\": \"markers\", \"text\": \"Informatica appears with Qlik 91 times\", \"x\": [-0.8402971964607416], \"y\": [-0.32233619346920667], \"type\": \"scatter\", \"uid\": \"2f888ab4-3e38-4e5b-a2b9-fb3282ce93ec\"}, {\"hoverinfo\": \"text\", \"marker\": {\"color\": \"blue\", \"size\": 0.5}, \"mode\": \"markers\", \"text\": \"Qlik appears with Informatica 91 times\", \"x\": [-0.7509571491324262], \"y\": [-0.49604773980626016], \"type\": \"scatter\", \"uid\": \"90e3fdff-25fc-4cd3-b3cc-9a6833721172\"}, {\"hoverinfo\": \"text\", \"marker\": {\"color\": \"green\", \"size\": 0.5}, \"mode\": \"markers\", \"text\": \"Informatica appears with Tableau 64 times\", \"x\": [-0.8465242529101615], \"y\": [-0.3056087191735421], \"type\": \"scatter\", \"uid\": \"54fb036c-bfa4-4ef9-a83a-2d2a071a12c3\"}, {\"hoverinfo\": \"text\", \"marker\": {\"color\": \"blue\", \"size\": 0.5}, \"mode\": \"markers\", \"text\": \"Tableau appears with Informatica 64 times\", \"x\": [-0.47351616349993736], \"y\": [-0.7653642550474254], \"type\": \"scatter\", \"uid\": \"255f6cf9-17f4-4c7f-8ece-e8ca9a902361\"}, {\"hoverinfo\": \"text\", \"marker\": {\"color\": \"green\", \"size\": 0.5}, \"mode\": \"markers\", \"text\": \"Informatica appears with Microstrategy 11 times\", \"x\": [-0.8651921817777664], \"y\": [-0.24787595403876622], \"type\": \"scatter\", \"uid\": \"0365321f-0860-41a3-8b86-debce12ceb6a\"}, {\"hoverinfo\": \"text\", \"marker\": {\"color\": \"blue\", \"size\": 0.5}, \"mode\": \"markers\", \"text\": \"Microstrategy appears with Informatica 11 times\", \"x\": [-0.058940723843554046], \"y\": [-0.8980679211912637], \"type\": \"scatter\", \"uid\": \"1cc52641-2f92-409c-b922-3f1a72e5c802\"}, {\"hoverinfo\": \"text\", \"marker\": {\"color\": \"green\", \"size\": 0.5}, \"mode\": \"markers\", \"text\": \"Informatica appears with Oracle BI 122 times\", \"x\": [-0.8207811281462787], \"y\": [-0.3692131358428651], \"type\": \"scatter\", \"uid\": \"06260a0d-3e79-44ce-857d-ef0f5b9f883e\"}, {\"hoverinfo\": \"text\", \"marker\": {\"color\": \"blue\", \"size\": 0.5}, \"mode\": \"markers\", \"text\": \"Oracle BI appears with Informatica 122 times\", \"x\": [0.18827758321435015], \"y\": [-0.8800861046846288], \"type\": \"scatter\", \"uid\": \"5305fd25-132c-4e45-a212-a3b5ad50b985\"}, {\"hoverinfo\": \"text\", \"marker\": {\"color\": \"green\", \"size\": 0.5}, \"mode\": \"markers\", \"text\": \"Informatica appears with Python 24 times\", \"x\": [-0.8606470437422465], \"y\": [-0.26322360475027984], \"type\": \"scatter\", \"uid\": \"3dc1f912-dbb0-4175-91fb-33ab353f50c1\"}, {\"hoverinfo\": \"text\", \"marker\": {\"color\": \"blue\", \"size\": 0.5}, \"mode\": \"markers\", \"text\": \"Python appears with Informatica 24 times\", \"x\": [0.6023054271674705], \"y\": [-0.6687512036659156], \"type\": \"scatter\", \"uid\": \"78e68cd3-a02a-4a92-bea3-e26b2c9fe256\"}, {\"hoverinfo\": \"text\", \"marker\": {\"color\": \"green\", \"size\": 0.5}, \"mode\": \"markers\", \"text\": \"Informatica appears with VBA 3 times\", \"x\": [-0.8679892014362061], \"y\": [-0.23789650310615595], \"type\": \"scatter\", \"uid\": \"f326d533-8295-4074-b074-1d800f173e6c\"}, {\"hoverinfo\": \"text\", \"marker\": {\"color\": \"blue\", \"size\": 0.5}, \"mode\": \"markers\", \"text\": \"VBA appears with Informatica 3 times\", \"x\": [0.8224233138252336], \"y\": [-0.36554054888168197], \"type\": \"scatter\", \"uid\": \"120dc5e5-b03f-49bd-a068-2fadcd7be5a8\"}, {\"hoverinfo\": \"text\", \"marker\": {\"color\": \"green\", \"size\": 0.5}, \"mode\": \"markers\", \"text\": \"Informatica appears with Linux 6 times\", \"x\": [-0.8674082920478591], \"y\": [-0.240005947606754], \"type\": \"scatter\", \"uid\": \"5f22ed34-4f76-4fac-9050-bc297e39c169\"}, {\"hoverinfo\": \"text\", \"marker\": {\"color\": \"blue\", \"size\": 0.5}, \"mode\": \"markers\", \"text\": \"Linux appears with Informatica 6 times\", \"x\": [0.8726019561942504], \"y\": [-0.22037655511865914], \"type\": \"scatter\", \"uid\": \"9b9abf35-2dd3-41d0-bd8e-a28eb0f2aaa3\"}, {\"hoverinfo\": \"text\", \"marker\": {\"color\": \"green\", \"size\": 0.5}, \"mode\": \"markers\", \"text\": \"Informatica appears with AWS 17 times\", \"x\": [-0.8635238065579118], \"y\": [-0.25362696131865425], \"type\": \"scatter\", \"uid\": \"ab8afe34-2ac7-41f7-aa36-8579e49d5539\"}, {\"hoverinfo\": \"text\", \"marker\": {\"color\": \"blue\", \"size\": 0.5}, \"mode\": \"markers\", \"text\": \"AWS appears with Informatica 17 times\", \"x\": [0.8955526935241911], \"y\": [-0.08936091495484094], \"type\": \"scatter\", \"uid\": \"6b770a4f-6eca-4543-b2b7-02995953b0b1\"}, {\"hoverinfo\": \"text\", \"marker\": {\"color\": \"green\", \"size\": 0.5}, \"mode\": \"markers\", \"text\": \"Qlik appears with Tableau 296 times\", \"x\": [-0.6566607899979788], \"y\": [-0.6154645455907517], \"type\": \"scatter\", \"uid\": \"55945bf2-71cb-4391-9400-a0b00d054371\"}, {\"hoverinfo\": \"text\", \"marker\": {\"color\": \"blue\", \"size\": 0.5}, \"mode\": \"markers\", \"text\": \"Tableau appears with Qlik 296 times\", \"x\": [-0.3089995922763226], \"y\": [-0.845292406196262], \"type\": \"scatter\", \"uid\": \"19a3de53-5817-4a17-ae7b-322838472443\"}, {\"hoverinfo\": \"text\", \"marker\": {\"color\": \"green\", \"size\": 0.5}, \"mode\": \"markers\", \"text\": \"Qlik appears with Microstrategy 26 times\", \"x\": [-0.7928876577559134], \"y\": [-0.4258276202624033], \"type\": \"scatter\", \"uid\": \"a6455b7f-47b4-4b1a-ab63-28232ea978ba\"}, {\"hoverinfo\": \"text\", \"marker\": {\"color\": \"blue\", \"size\": 0.5}, \"mode\": \"markers\", \"text\": \"Microstrategy appears with Qlik 26 times\", \"x\": [-0.04071977970604693], \"y\": [-0.8990783611792084], \"type\": \"scatter\", \"uid\": \"fd668d5f-b7d4-4b56-8bfe-7f8069d31058\"}, {\"hoverinfo\": \"text\", \"marker\": {\"color\": \"green\", \"size\": 0.5}, \"mode\": \"markers\", \"text\": \"Qlik appears with Oracle BI 275 times\", \"x\": [-0.7040120882552139], \"y\": [-0.5606843850068708], \"type\": \"scatter\", \"uid\": \"f232528d-fb4e-4a12-8ea1-9b9579cb240b\"}, {\"hoverinfo\": \"text\", \"marker\": {\"color\": \"blue\", \"size\": 0.5}, \"mode\": \"markers\", \"text\": \"Oracle BI appears with Qlik 275 times\", \"x\": [0.35182417259431537], \"y\": [-0.8283838189983707], \"type\": \"scatter\", \"uid\": \"3cbd8810-3960-4efe-bdc7-e9c8990cf12e\"}, {\"hoverinfo\": \"text\", \"marker\": {\"color\": \"green\", \"size\": 0.5}, \"mode\": \"markers\", \"text\": \"Qlik appears with Python 36 times\", \"x\": [-0.7824584424739794], \"y\": [-0.4447007823258177], \"type\": \"scatter\", \"uid\": \"03f15eb0-8182-49fb-b8b1-f59cb7814748\"}, {\"hoverinfo\": \"text\", \"marker\": {\"color\": \"blue\", \"size\": 0.5}, \"mode\": \"markers\", \"text\": \"Python appears with Qlik 36 times\", \"x\": [0.6142297116120569], \"y\": [-0.6578159783503054], \"type\": \"scatter\", \"uid\": \"2294ed21-b7ad-43ad-b2df-e49bfd80310b\"}, {\"hoverinfo\": \"text\", \"marker\": {\"color\": \"green\", \"size\": 0.5}, \"mode\": \"markers\", \"text\": \"Qlik appears with VBA 27 times\", \"x\": [-0.7863760948710922], \"y\": [-0.437735807782835], \"type\": \"scatter\", \"uid\": \"852ed13a-6038-4466-a0bb-fb39ca442118\"}, {\"hoverinfo\": \"text\", \"marker\": {\"color\": \"blue\", \"size\": 0.5}, \"mode\": \"markers\", \"text\": \"VBA appears with Qlik 27 times\", \"x\": [0.8309977070875422], \"y\": [-0.34560499246285137], \"type\": \"scatter\", \"uid\": \"f63f6d9a-b91a-4e16-a309-f75a7b50cd69\"}, {\"hoverinfo\": \"text\", \"marker\": {\"color\": \"green\", \"size\": 0.5}, \"mode\": \"markers\", \"text\": \"Qlik appears with Linux 2 times\", \"x\": [-0.8021727312038329], \"y\": [-0.4080672852765623], \"type\": \"scatter\", \"uid\": \"08faf9f5-4c3c-474e-80e6-c6c6ea4cdda2\"}, {\"hoverinfo\": \"text\", \"marker\": {\"color\": \"blue\", \"size\": 0.5}, \"mode\": \"markers\", \"text\": \"Linux appears with Qlik 2 times\", \"x\": [0.8718191870790392], \"y\": [-0.2234531383553237], \"type\": \"scatter\", \"uid\": \"463f3f9c-8623-4c56-a206-e40ee1960057\"}, {\"hoverinfo\": \"text\", \"marker\": {\"color\": \"green\", \"size\": 0.5}, \"mode\": \"markers\", \"text\": \"Qlik appears with AWS 2 times\", \"x\": [-0.8024026529339324], \"y\": [-0.4076149930566677], \"type\": \"scatter\", \"uid\": \"855bc225-40d4-4cff-9187-029648b03fef\"}, {\"hoverinfo\": \"text\", \"marker\": {\"color\": \"blue\", \"size\": 0.5}, \"mode\": \"markers\", \"text\": \"AWS appears with Qlik 2 times\", \"x\": [0.894562506823222], \"y\": [-0.09878219164481418], \"type\": \"scatter\", \"uid\": \"06694647-ed8c-4bfa-bf81-ded6a6f992e9\"}, {\"hoverinfo\": \"text\", \"marker\": {\"color\": \"green\", \"size\": 0.5}, \"mode\": \"markers\", \"text\": \"Tableau appears with Microstrategy 38 times\", \"x\": [-0.49630894638954703], \"y\": [-0.7507845428175102], \"type\": \"scatter\", \"uid\": \"3b2e1a3f-82ba-44d1-ae64-81b98cc6509d\"}, {\"hoverinfo\": \"text\", \"marker\": {\"color\": \"blue\", \"size\": 0.5}, \"mode\": \"markers\", \"text\": \"Microstrategy appears with Tableau 38 times\", \"x\": [-0.030033197616597583], \"y\": [-0.8994987532181035], \"type\": \"scatter\", \"uid\": \"7eb71247-9c29-4fe1-b64e-cc809482a28b\"}, {\"hoverinfo\": \"text\", \"marker\": {\"color\": \"green\", \"size\": 0.5}, \"mode\": \"markers\", \"text\": \"Tableau appears with Oracle BI 343 times\", \"x\": [-0.2304865014073613], \"y\": [-0.8699861910794875], \"type\": \"scatter\", \"uid\": \"425bc45d-ed8b-4251-aa64-6638dd0763f5\"}, {\"hoverinfo\": \"text\", \"marker\": {\"color\": \"blue\", \"size\": 0.5}, \"mode\": \"markers\", \"text\": \"Oracle BI appears with Tableau 343 times\", \"x\": [0.4244024028358522], \"y\": [-0.7936514351194454], \"type\": \"scatter\", \"uid\": \"8011b2f3-313e-4d33-81b1-117e0317ad35\"}, {\"hoverinfo\": \"text\", \"marker\": {\"color\": \"green\", \"size\": 0.5}, \"mode\": \"markers\", \"text\": \"Tableau appears with Python 103 times\", \"x\": [-0.41767818506388393], \"y\": [-0.7972107210278472], \"type\": \"scatter\", \"uid\": \"b6c82d5b-d495-4e5b-bc8d-8a25eeb47f12\"}, {\"hoverinfo\": \"text\", \"marker\": {\"color\": \"blue\", \"size\": 0.5}, \"mode\": \"markers\", \"text\": \"Python appears with Tableau 103 times\", \"x\": [0.7012974287241472], \"y\": [-0.5640761619364], \"type\": \"scatter\", \"uid\": \"2a79f807-2e05-4833-abca-d6a587b4f44d\"}, {\"hoverinfo\": \"text\", \"marker\": {\"color\": \"green\", \"size\": 0.5}, \"mode\": \"markers\", \"text\": \"Tableau appears with VBA 54 times\", \"x\": [-0.48637754150548806], \"y\": [-0.7572561568710269], \"type\": \"scatter\", \"uid\": \"8c1e3180-86b3-432a-8f33-b173ad07e04e\"}, {\"hoverinfo\": \"text\", \"marker\": {\"color\": \"blue\", \"size\": 0.5}, \"mode\": \"markers\", \"text\": \"VBA appears with Tableau 54 times\", \"x\": [0.8371116936472861], \"y\": [-0.33052081985704357], \"type\": \"scatter\", \"uid\": \"7e3bd9ac-660c-4281-bb1e-40b32e7e3c65\"}, {\"hoverinfo\": \"text\", \"marker\": {\"color\": \"green\", \"size\": 0.5}, \"mode\": \"markers\", \"text\": \"Tableau appears with Linux 13 times\", \"x\": [-0.5404255968525882], \"y\": [-0.7196806057318231], \"type\": \"scatter\", \"uid\": \"f2df55cd-6ba6-4cb4-adf2-2d41b86d1ad6\"}, {\"hoverinfo\": \"text\", \"marker\": {\"color\": \"blue\", \"size\": 0.5}, \"mode\": \"markers\", \"text\": \"Linux appears with Tableau 13 times\", \"x\": [0.8730920951002666], \"y\": [-0.21842663178611468], \"type\": \"scatter\", \"uid\": \"20858606-eb6c-4e5a-9e51-b0c3b8aac428\"}, {\"hoverinfo\": \"text\", \"marker\": {\"color\": \"green\", \"size\": 0.5}, \"mode\": \"markers\", \"text\": \"Tableau appears with AWS 29 times\", \"x\": [-0.5329786939358834], \"y\": [-0.7252128734450319], \"type\": \"scatter\", \"uid\": \"34425241-b77c-4e34-bc2c-b7ef6ddd6f6d\"}, {\"hoverinfo\": \"text\", \"marker\": {\"color\": \"blue\", \"size\": 0.5}, \"mode\": \"markers\", \"text\": \"AWS appears with Tableau 29 times\", \"x\": [0.8967407651195353], \"y\": [-0.0765245070080849], \"type\": \"scatter\", \"uid\": \"2d70af05-d6ae-4fbf-97f8-d417e5fac3b4\"}, {\"hoverinfo\": \"text\", \"marker\": {\"color\": \"green\", \"size\": 0.5}, \"mode\": \"markers\", \"text\": \"Microstrategy appears with Oracle BI 50 times\", \"x\": [-0.02256694767403378], \"y\": [-0.8997170293334885], \"type\": \"scatter\", \"uid\": \"ccc462ab-2c75-4f04-b9f0-be297a39c9cd\"}, {\"hoverinfo\": \"text\", \"marker\": {\"color\": \"blue\", \"size\": 0.5}, \"mode\": \"markers\", \"text\": \"Oracle BI appears with Microstrategy 50 times\", \"x\": [0.05991640107318266], \"y\": [-0.8980033546053364], \"type\": \"scatter\", \"uid\": \"4af8206b-4f00-4167-8b52-1283d918925b\"}, {\"hoverinfo\": \"text\", \"marker\": {\"color\": \"green\", \"size\": 0.5}, \"mode\": \"markers\", \"text\": \"Microstrategy appears with Python 14 times\", \"x\": [-0.05682311133444542], \"y\": [-0.8982043943436667], \"type\": \"scatter\", \"uid\": \"d023d99d-e316-4fe9-b534-fa7b3c6d2051\"}, {\"hoverinfo\": \"text\", \"marker\": {\"color\": \"blue\", \"size\": 0.5}, \"mode\": \"markers\", \"text\": \"Python appears with Microstrategy 14 times\", \"x\": [0.594374090609242], \"y\": [-0.6758102103493528], \"type\": \"scatter\", \"uid\": \"dc825df5-6e20-45c4-8160-0760485f10eb\"}, {\"hoverinfo\": \"text\", \"marker\": {\"color\": \"green\", \"size\": 0.5}, \"mode\": \"markers\", \"text\": \"Microstrategy appears with VBA 6 times\", \"x\": [-0.061904828250821047], \"y\": [-0.8978684715698821], \"type\": \"scatter\", \"uid\": \"7ccea5a8-541d-41a9-8c31-8fb28155163d\"}, {\"hoverinfo\": \"text\", \"marker\": {\"color\": \"blue\", \"size\": 0.5}, \"mode\": \"markers\", \"text\": \"VBA appears with Microstrategy 6 times\", \"x\": [0.8234543549266579], \"y\": [-0.3632119565106879], \"type\": \"scatter\", \"uid\": \"6b07f04a-2075-4955-ae45-8dac8a873c4e\"}, {\"hoverinfo\": \"text\", \"marker\": {\"color\": \"green\", \"size\": 0.5}, \"mode\": \"markers\", \"text\": \"Microstrategy appears with Linux 4 times\", \"x\": [-0.06275159274693434], \"y\": [-0.8978096889696184], \"type\": \"scatter\", \"uid\": \"1f5eef9b-fafb-4e1c-9067-9319ee06932e\"}, {\"hoverinfo\": \"text\", \"marker\": {\"color\": \"blue\", \"size\": 0.5}, \"mode\": \"markers\", \"text\": \"Linux appears with Microstrategy 4 times\", \"x\": [0.8723422390100056], \"y\": [-0.22140238941576537], \"type\": \"scatter\", \"uid\": \"3368033f-ceb0-40ff-94f2-68593d1abc7b\"}, {\"hoverinfo\": \"text\", \"marker\": {\"color\": \"green\", \"size\": 0.5}, \"mode\": \"markers\", \"text\": \"Microstrategy appears with AWS 2 times\", \"x\": [-0.06478359837743396], \"y\": [-0.8976653526683936], \"type\": \"scatter\", \"uid\": \"d026212a-4322-48a6-b2dc-be786ecd1e2a\"}, {\"hoverinfo\": \"text\", \"marker\": {\"color\": \"blue\", \"size\": 0.5}, \"mode\": \"markers\", \"text\": \"AWS appears with Microstrategy 2 times\", \"x\": [0.8945195458235751], \"y\": [-0.0991704700986388], \"type\": \"scatter\", \"uid\": \"bb1b8b95-607d-4bd9-b222-d94188ea3ea0\"}, {\"hoverinfo\": \"text\", \"marker\": {\"color\": \"green\", \"size\": 0.5}, \"mode\": \"markers\", \"text\": \"Oracle BI appears with Python 122 times\", \"x\": [0.21922890610976303], \"y\": [-0.8728909936102657], \"type\": \"scatter\", \"uid\": \"8a81e19f-06e7-4373-bc52-8b4bbdcae6d0\"}, {\"hoverinfo\": \"text\", \"marker\": {\"color\": \"blue\", \"size\": 0.5}, \"mode\": \"markers\", \"text\": \"Python appears with Oracle BI 122 times\", \"x\": [0.7519605872277275], \"y\": [-0.4945253029483236], \"type\": \"scatter\", \"uid\": \"155ed29e-ccd9-4efc-9f00-e0f4e5432a16\"}, {\"hoverinfo\": \"text\", \"marker\": {\"color\": \"green\", \"size\": 0.5}, \"mode\": \"markers\", \"text\": \"Oracle BI appears with VBA 57 times\", \"x\": [0.08782212705822318], \"y\": [-0.89570490341349], \"type\": \"scatter\", \"uid\": \"c05ddad7-4ac3-428d-a301-e92e401e2039\"}, {\"hoverinfo\": \"text\", \"marker\": {\"color\": \"blue\", \"size\": 0.5}, \"mode\": \"markers\", \"text\": \"VBA appears with Oracle BI 57 times\", \"x\": [0.8499462103399679], \"y\": [-0.29595850980961347], \"type\": \"scatter\", \"uid\": \"c9fc0391-287d-47b5-b875-c18829440071\"}, {\"hoverinfo\": \"text\", \"marker\": {\"color\": \"green\", \"size\": 0.5}, \"mode\": \"markers\", \"text\": \"Oracle BI appears with Linux 3 times\", \"x\": [0.010339522013703953], \"y\": [-0.8999406059760434], \"type\": \"scatter\", \"uid\": \"a8c22327-00cf-4825-802e-995937357524\"}, {\"hoverinfo\": \"text\", \"marker\": {\"color\": \"blue\", \"size\": 0.5}, \"mode\": \"markers\", \"text\": \"Linux appears with Oracle BI 3 times\", \"x\": [0.8719504021443018], \"y\": [-0.2229405665202957], \"type\": \"scatter\", \"uid\": \"a88157b2-4152-4ed4-8f37-9d7086acf06c\"}, {\"hoverinfo\": \"text\", \"marker\": {\"color\": \"green\", \"size\": 0.5}, \"mode\": \"markers\", \"text\": \"Oracle BI appears with AWS 42 times\", \"x\": [0.047956052831289606], \"y\": [-0.898721434592968], \"type\": \"scatter\", \"uid\": \"88f01c83-dd62-4197-bd49-88b667ed9f88\"}, {\"hoverinfo\": \"text\", \"marker\": {\"color\": \"blue\", \"size\": 0.5}, \"mode\": \"markers\", \"text\": \"AWS appears with Oracle BI 42 times\", \"x\": [0.8987920462357804], \"y\": [-0.046613920917458224], \"type\": \"scatter\", \"uid\": \"098b1bc1-6f44-4411-a442-549bd8c705be\"}, {\"hoverinfo\": \"text\", \"marker\": {\"color\": \"green\", \"size\": 0.5}, \"mode\": \"markers\", \"text\": \"Python appears with VBA 54 times\", \"x\": [0.6387269391236216], \"y\": [-0.6340566987563253], \"type\": \"scatter\", \"uid\": \"5a6277eb-de2d-4120-8f00-3b5312cab3b8\"}, {\"hoverinfo\": \"text\", \"marker\": {\"color\": \"blue\", \"size\": 0.5}, \"mode\": \"markers\", \"text\": \"VBA appears with Python 54 times\", \"x\": [0.8414292492856716], \"y\": [-0.3193694074994522], \"type\": \"scatter\", \"uid\": \"242c2940-9fbd-44b4-a9c3-6a130115cfc5\"}, {\"hoverinfo\": \"text\", \"marker\": {\"color\": \"green\", \"size\": 0.5}, \"mode\": \"markers\", \"text\": \"Python appears with Linux 74 times\", \"x\": [0.6724816029075847], \"y\": [-0.5981375207682975], \"type\": \"scatter\", \"uid\": \"b3800348-b208-4ed8-929b-c8bee5762465\"}, {\"hoverinfo\": \"text\", \"marker\": {\"color\": \"blue\", \"size\": 0.5}, \"mode\": \"markers\", \"text\": \"Linux appears with Python 74 times\", \"x\": [0.8897638550952452], \"y\": [-0.13535243686778411], \"type\": \"scatter\", \"uid\": \"38f2f9a6-33fb-45cc-a0a1-8ee4cfcba883\"}, {\"hoverinfo\": \"text\", \"marker\": {\"color\": \"green\", \"size\": 0.5}, \"mode\": \"markers\", \"text\": \"Python appears with AWS 73 times\", \"x\": [0.6599902218151651], \"y\": [-0.6118928885911072], \"type\": \"scatter\", \"uid\": \"864bcead-cacb-49c9-a5eb-c110b6589d37\"}, {\"hoverinfo\": \"text\", \"marker\": {\"color\": \"blue\", \"size\": 0.5}, \"mode\": \"markers\", \"text\": \"AWS appears with Python 73 times\", \"x\": [0.8993037458759666], \"y\": [-0.03539452858076848], \"type\": \"scatter\", \"uid\": \"5bec2dfd-9a74-4722-bafb-1a102980e692\"}, {\"hoverinfo\": \"text\", \"marker\": {\"color\": \"green\", \"size\": 0.5}, \"mode\": \"markers\", \"text\": \"VBA appears with AWS 4 times\", \"x\": [0.8230068858207968], \"y\": [-0.3642247464019352], \"type\": \"scatter\", \"uid\": \"6360da3b-03fb-4def-97f3-4dae4d37e196\"}, {\"hoverinfo\": \"text\", \"marker\": {\"color\": \"blue\", \"size\": 0.5}, \"mode\": \"markers\", \"text\": \"AWS appears with VBA 4 times\", \"x\": [0.8946266323122283], \"y\": [-0.09819973909171635], \"type\": \"scatter\", \"uid\": \"02b2ce47-223a-47b9-b8dd-827c1d061b01\"}, {\"hoverinfo\": \"text\", \"marker\": {\"color\": \"green\", \"size\": 0.5}, \"mode\": \"markers\", \"text\": \"Linux appears with AWS 20 times\", \"x\": [0.8746861020888], \"y\": [-0.21195335055785552], \"type\": \"scatter\", \"uid\": \"c0965bc4-1026-4031-9d59-220c457e175f\"}, {\"hoverinfo\": \"text\", \"marker\": {\"color\": \"blue\", \"size\": 0.5}, \"mode\": \"markers\", \"text\": \"AWS appears with Linux 20 times\", \"x\": [0.8959042577572424], \"y\": [-0.08576456688192863], \"type\": \"scatter\", \"uid\": \"7e9e2ed8-d158-4146-9b1e-aa7cf08ead6c\"}], {\"autosize\": true, \"font\": {\"color\": \"#655643\", \"family\": \"Fira Sans Condensed\", \"size\": 12}, \"hidesources\": true, \"hoverdistance\": 40, \"hovermode\": \"closest\", \"margin\": {\"b\": 10, \"l\": 260, \"r\": 270, \"t\": 80}, \"paper_bgcolor\": \"#fffaf0\", \"plot_bgcolor\": \"#fffaf0\", \"shapes\": [{\"fillcolor\": \"#f2e6ce\", \"layer\": \"below\", \"line\": {\"color\": \"rgb(175,175,175)\", \"width\": 0.5}, \"path\": \"M 0.9769932539575542,0.21327020823694517 Q 0.1846147933965143, 0.07692449583300726 0.8393681074650686, 0.5435634095213815L 0.8393681074650686, 0.5435634095213815 L 0.8527317880462364, 0.5223490190049835 L 0.8655594087456371, 0.5008062598769141 M 0.8655594087456371,0.5008062598769141 Q 0.18476514766153782, 0.07656265545035733 0.9660938919962404, 0.25819099877330476L 0.9660938919962404, 0.25819099877330476 L 0.9718031609067336, 0.23579358865686184 L 0.9769932539575542, 0.21327020823694517 \", \"type\": \"path\"}, {\"fillcolor\": \"#f2e6ce\", \"layer\": \"below\", \"line\": {\"color\": \"rgb(175,175,175)\", \"width\": 0.5}, \"path\": \"M 0.9964221442643367,0.08451574066208839 Q 0.1448203637203744, 0.13793861769605517 0.13288851320584022, 0.9911309918764226L 0.13288851320584022, 0.9911309918764226 L 0.14698295156330793, 0.989139025592327 L 0.16104760807017246, 0.9869466388487658 M 0.16104760807017246,0.9869466388487658 Q 0.14491930886818308, 0.13783466152302967 0.9937735257740447, 0.11141893676850546L 0.9937735257740447, 0.11141893676850546 L 0.9951887493084242, 0.0979762892231304 L 0.9964221442643367, 0.08451574066208839 \", \"type\": \"path\"}, {\"fillcolor\": \"#f2e6ce\", \"layer\": \"below\", \"line\": {\"color\": \"rgb(175,175,175)\", \"width\": 0.5}, \"path\": \"M 0.998326985493504,0.05782067135076389 Q 0.10368124693999943, 0.17102689564207985 -0.41047154387569484, 0.9118734076988447L -0.41047154387569484, 0.9118734076988447 L -0.39778357876909576, 0.9174792774017573 L -0.3850190760311547, 0.9229086147025154 M -0.3850190760311547,0.9229086147025154 Q 0.10376494220528994, 0.1709761292377765 0.9964221442643367, 0.08451574066208839L 0.9964221442643367, 0.08451574066208839 L 0.9974638737061107, 0.07117457868649588 L 0.998326985493504, 0.05782067135076389 \", \"type\": \"path\"}, {\"fillcolor\": \"#f2e6ce\", \"layer\": \"below\", \"line\": {\"color\": \"rgb(175,175,175)\", \"width\": 0.5}, \"path\": \"M 0.9999970400927762,0.0024330650806097484 Q 0.07767766786058865, 0.1842991587494096 -0.6965653495292686, 0.7174933545581923L -0.6965653495292686, 0.7174933545581923 L -0.6961176331375002, 0.7179277406780189 L -0.695669645857633, 0.7183618474225336 M -0.695669645857633,0.7183618474225336 Q 0.07766807679356669, 0.18430320085985655 0.9999928377603762, 0.0037847626015443158L 0.9999928377603762, 0.0037847626015443158 L 0.9999951673134795, 0.003108914551115831 L 0.9999970400927762, 0.0024330650806097484 \", \"type\": \"path\"}, {\"fillcolor\": \"#f2e6ce\", \"layer\": \"below\", \"line\": {\"color\": \"rgb(175,175,175)\", \"width\": 0.5}, \"path\": \"M 0.9994738401589149,0.0324352098496642 Q 0.05124049734299179, 0.1933246270707456 -0.8521982451332073, 0.5232190277425716L -0.8521982451332073, 0.5232190277425716 L -0.8496289546462471, 0.5273809244054295 L -0.8470393387938472, 0.5315302047256413 M -0.8470393387938472,0.5315302047256413 Q 0.051245320243311125, 0.1933233487014967 0.9991108436775926, 0.04216066941889167L 0.9991108436775926, 0.04216066941889167 L 0.9993041732913089, 0.03729838123261657 L 0.9994738401589149, 0.0324352098496642 \", \"type\": \"path\"}, {\"fillcolor\": \"#f2e6ce\", \"layer\": \"below\", \"line\": {\"color\": \"rgb(175,175,175)\", \"width\": 0.5}, \"path\": \"M 0.9999994153267366,0.0010813631142126104 Q 0.03145177901852713, 0.19751148218918751 -0.9502028479598091, 0.31163207108554775L -0.9502028479598091, 0.31163207108554775 L -0.9500529654872865, 0.3120887097746615 L -0.9499028635680639, 0.31254527637638707 M -0.9499028635680639,0.31254527637638707 Q 0.03141321539041267, 0.19751761921113656 0.9999970400927762, 0.0024330650806097484L 0.9999970400927762, 0.0024330650806097484 L 0.9999984560974109, 0.0017572144987378967 L 0.9999994153267366, 0.0010813631142126104 \", \"type\": \"path\"}, {\"fillcolor\": \"#f2e6ce\", \"layer\": \"below\", \"line\": {\"color\": \"rgb(175,175,175)\", \"width\": 0.5}, \"path\": \"M 0.9999868083372145,0.005136453207324572 Q 0.022138211703928167, 0.19877097268603397 -0.9743519795925237, 0.22502937555823757L -0.9743519795925237, 0.22502937555823757 L -0.9741358175509933, 0.22596329118743555 L -0.9739187603522614, 0.22689699917344527 M -0.9739187603522614,0.22689699917344527 Q 0.02211381084453799, 0.19877368882709803 0.9999733609401186, 0.007299137628739245L 0.9999733609401186, 0.007299137628739245 L 0.9999806693006277, 0.006217799053412771 L 0.9999868083372145, 0.005136453207324572 \", \"type\": \"path\"}, {\"fillcolor\": \"#f2e6ce\", \"layer\": \"below\", \"line\": {\"color\": \"rgb(175,175,175)\", \"width\": 0.5}, \"path\": \"M 0.9999499743061336,0.010002443959482287 Q 0.005638504492631471, 0.19992050236803272 -0.9977966531097627, 0.06634635666678176L -0.9977966531097627, 0.06634635666678176 L -0.9976552980334148, 0.06843907002479138 L -0.9975095538419637, 0.07053148228987192 M -0.9975095538419637,0.07053148228987192 Q 0.005598437362412453, 0.1999216283924757 0.9998934451797534, 0.014597886373149741L 0.9998934451797534, 0.014597886373149741 L 0.9999243497075145, 0.01230019764085871 L 0.9999499743061336, 0.010002443959482287 \", \"type\": \"path\"}, {\"fillcolor\": \"#f2e6ce\", \"layer\": \"below\", \"line\": {\"color\": \"rgb(175,175,175)\", \"width\": 0.5}, \"path\": \"M 0.9998105718250353,0.019463310789684014 Q -0.013653737143509113, 0.1995333943529653 -0.9931423799725825, -0.11691113335518834L -0.9931423799725825, -0.11691113335518834 L -0.993460208512969, -0.11417886889161287 L -0.9937705202511958, -0.11144574051827945 M -0.9937705202511958,-0.11144574051827945 Q -0.013698244791835554, 0.1995303437816488 0.9996771315343763, 0.025409303162450065L 0.9996771315343763, 0.025409303162450065 L 0.9997482721553951, 0.022436406180627668 L 0.9998105718250353, 0.019463310789684014 \", \"type\": \"path\"}, {\"fillcolor\": \"#f2e6ce\", \"layer\": \"below\", \"line\": {\"color\": \"rgb(175,175,175)\", \"width\": 0.5}, \"path\": \"M 0.9999733609401186,0.007299137628739245 Q -0.02839532276184935, 0.19797400244792346 -0.961711335286034, -0.27406442232138306L -0.961711335286034, -0.27406442232138306 L -0.9620612174421338, -0.2728336744131107 L -0.9624095245520757, -0.2716024798330228 M -0.9624095245520757,-0.2716024798330228 Q -0.028409614300781972, 0.19797195209241336 0.9999499743061336, 0.010002443959482287L 0.9999499743061336, 0.010002443959482287 L 0.9999625811408659, 0.008650798697064558 L 0.9999733609401186, 0.007299137628739245 \", \"type\": \"path\"}, {\"fillcolor\": \"#f2e6ce\", \"layer\": \"below\", \"line\": {\"color\": \"rgb(175,175,175)\", \"width\": 0.5}, \"path\": \"M 0.9900593803045922,0.1406500034514286 Q -0.07556664072014778, 0.18517473588552005 -0.8057877305328784, -0.5922044691849879L -0.8057877305328784, -0.5922044691849879 L -0.816664941434485, -0.5771120978040655 L -0.8272595099972835, -0.5618199917402855 M -0.8272595099972835,-0.5618199917402855 Q -0.07542563440732458, 0.18523221554106784 0.9844110384741006, 0.17588322071858575L 0.9844110384741006, 0.17588322071858575 L 0.9873923756834339, 0.15829180788096606 L 0.9900593803045922, 0.1406500034514286 \", \"type\": \"path\"}, {\"fillcolor\": \"#f2e6ce\", \"layer\": \"below\", \"line\": {\"color\": \"rgb(175,175,175)\", \"width\": 0.5}, \"path\": \"M 0.9844110384741006,0.17588322071858575 Q -0.12535068851530293, 0.1558435269388482 -0.38281334806672246, -0.9238257089635179L -0.38281334806672246, -0.9238257089635179 L -0.4013825370998664, -0.9159105081345417 L -0.41978817672307056, -0.9076221056604561 M -0.41978817672307056,-0.9076221056604561 Q -0.1251749606530858, 0.1559847083066107 0.9769932539575542, 0.21327020823694517L 0.9769932539575542, 0.21327020823694517 L 0.9808802915245339, 0.1946120594895017 L 0.9844110384741006, 0.17588322071858575 \", \"type\": \"path\"}, {\"fillcolor\": \"#f2e6ce\", \"layer\": \"below\", \"line\": {\"color\": \"rgb(175,175,175)\", \"width\": 0.5}, \"path\": \"M 0.9998934451797534,0.014597886373149741 Q -0.1385037532650528, 0.14427997203871845 -0.05541687537299158, -0.9984633042450255L -0.05541687537299158, -0.9984633042450255 L -0.057111790857981654, -0.9983677896171301 L -0.058806541754698745, -0.9982693978314936 M -0.058806541754698745,-0.9982693978314936 Q -0.13860982832418536, 0.14417806869264085 0.9998105718250353, 0.019463310789684014L 0.9998105718250353, 0.019463310789684014 L 0.9998549679803368, 0.017030648990557853 L 0.9998934451797534, 0.014597886373149741 \", \"type\": \"path\"}, {\"fillcolor\": \"#f2e6ce\", \"layer\": \"below\", \"line\": {\"color\": \"rgb(175,175,175)\", \"width\": 0.5}, \"path\": \"M 0.9937735257740447,0.11141893676850546 Q -0.1592047979581107, 0.1210530144486999 0.15827947885675117, -0.9873943521070166L 0.15827947885675117, -0.9873943521070166 L 0.14268589779299382, -0.9897680205841202 L 0.12705681732364607, -0.9918954406446204 M 0.12705681732364607,-0.9918954406446204 Q -0.15907884152036345, 0.12121848943349814 0.9900593803045922, 0.1406500034514286L 0.9900593803045922, 0.1406500034514286 L 0.9920241245176237, 0.12604815101794328 L 0.9937735257740447, 0.11141893676850546 \", \"type\": \"path\"}, {\"fillcolor\": \"#f2e6ce\", \"layer\": \"below\", \"line\": {\"color\": \"rgb(175,175,175)\", \"width\": 0.5}, \"path\": \"M 0.9991108436775926,0.04216066941889167 Q -0.18733111861776847, 0.0700503532997198 0.7263134973169424, -0.6873635890962162L 0.7263134973169424, -0.6873635890962162 L 0.7206902625455371, -0.6932572000866957 L 0.7150192060692138, -0.6991048097046331 M 0.7150192060692138,-0.6991048097046331 Q -0.18730967289527292, 0.07010767746734921 0.998326985493504, 0.05782067135076389L 0.998326985493504, 0.05782067135076389 L 0.9987496078928203, 0.049992206732026624 L 0.9991108436775926, 0.04216066941889167 \", \"type\": \"path\"}, {\"fillcolor\": \"#f2e6ce\", \"layer\": \"below\", \"line\": {\"color\": \"rgb(175,175,175)\", \"width\": 0.5}, \"path\": \"M 0.9996771315343763,0.025409303162450065 Q -0.196549618632948, 0.03698982853762233 0.9220501395139463, -0.3870704589894613L 0.9220501395139463, -0.3870704589894613 L 0.9208073091127239, -0.39001781944493824 L 0.9195550574152933, -0.39296118940928076 M 0.9195550574152933,-0.39296118940928076 Q -0.19656128831047473, 0.03692776648710878 0.9994738401589149, 0.0324352098496642L 0.9994738401589149, 0.0324352098496642 L 0.999581658868725, 0.02892243511960911 L 0.9996771315343763, 0.025409303162450065 \", \"type\": \"path\"}, {\"fillcolor\": \"#f2e6ce\", \"layer\": \"below\", \"line\": {\"color\": \"rgb(175,175,175)\", \"width\": 0.5}, \"path\": \"M 1.0,0.0 Q -0.19845167418701512, 0.024838136249944447 0.9691533493814598, -0.24645848612433321L 0.9691533493814598, -0.24645848612433321 L 0.9690373299375039, -0.24691426282738962 L 0.9689210961493567, -0.24736998491476064 M 0.9689210961493567,-0.24736998491476064 Q -0.19845342155903223, 0.024824171114320132 0.9999994153267366, 0.0010813631142126104L 0.9999994153267366, 0.0010813631142126104 L 0.9999998538316734, 0.0005406816361368352 L 1.0, 0.0 \", \"type\": \"path\"}, {\"fillcolor\": \"#f2e6ce\", \"layer\": \"below\", \"line\": {\"color\": \"rgb(175,175,175)\", \"width\": 0.5}, \"path\": \"M 0.9999928377603762,0.0037847626015443158 Q -0.19972953341904306, 0.01039776323116504 0.9941942039968228, -0.10760057964120812L 0.9941942039968228, -0.10760057964120812 L 0.9941356771871769, -0.10813998031992207 L 0.9940768577253819, -0.10867934916455303 M 0.9940768577253819,-0.10867934916455303 Q -0.19973091751605598, 0.010371142087274573 0.9999868083372145, 0.005136453207324572L 0.9999868083372145, 0.005136453207324572 L 0.9999900514345302, 0.004460608923184025 L 0.9999928377603762, 0.0037847626015443158 \", \"type\": \"path\"}, {\"fillcolor\": \"#ecd5bb\", \"layer\": \"below\", \"line\": {\"color\": \"rgb(175,175,175)\", \"width\": 0.5}, \"path\": \"M 0.5531569017854665,0.8330770924753026 Q 0.0379471904639816, 0.19636703067442435 -0.20294299197046653, 0.9791905544939019L -0.20294299197046653, 0.9791905544939019 L -0.14646817099332418, 0.9892153834660429 L -0.08951148399956665, 0.9959857901758414 M -0.08951148399956665,0.9959857901758414 Q 0.037608326357505675, 0.1964322116878679 0.451072883687939, 0.8924871167705711L 0.451072883687939, 0.8924871167705711 L 0.5029927964242448, 0.8642906031800406 L 0.5531569017854665, 0.8330770924753026 \", \"type\": \"path\"}, {\"fillcolor\": \"#ecd5bb\", \"layer\": \"below\", \"line\": {\"color\": \"rgb(175,175,175)\", \"width\": 0.5}, \"path\": \"M 0.8088305834509926,0.5880417393980865 Q 0.03160940955116714, 0.19748631655845572 -0.5848828885204265, 0.8111177514491976L -0.5848828885204265, 0.8111177514491976 L -0.5596061773012315, 0.8287586659132455 L -0.5337977764223092, 0.8456121651718348 M -0.5337977764223092,0.8456121651718348 Q 0.03132639313992371, 0.19753140786427598 0.7692359869278472, 0.6389647849569965L 0.7692359869278472, 0.6389647849569965 L 0.7894439905902491, 0.6138226011812719 L 0.8088305834509926, 0.5880417393980865 \", \"type\": \"path\"}, {\"fillcolor\": \"#ecd5bb\", \"layer\": \"below\", \"line\": {\"color\": \"rgb(175,175,175)\", \"width\": 0.5}, \"path\": \"M 0.9466727357560839,0.32219672775509633 Q 0.05146228067978155, 0.19326570742693952 -0.6610891992989564, 0.7503073174175131L -0.6610891992989564, 0.7503073174175131 L -0.6569177929619041, 0.7539622094575171 L -0.6527261805780565, 0.7575939104744588 M -0.6527261805780565,0.7575939104744588 Q 0.05108880862319387, 0.19336476833555455 0.9417482615943009, 0.33631861646972827L 0.9417482615943009, 0.33631861646972827 L 0.944236899693966, 0.3292668784684049 L 0.9466727357560839, 0.32219672775509633 \", \"type\": \"path\"}, {\"fillcolor\": \"#ecd5bb\", \"layer\": \"below\", \"line\": {\"color\": \"rgb(175,175,175)\", \"width\": 0.5}, \"path\": \"M 0.9148208013953056,0.40386000214734163 Q 0.023990979982560848, 0.19855586840855743 -0.7923033997491212, 0.6101273004430995L -0.7923033997491212, 0.6101273004430995 L -0.7851709795262866, 0.6192790428471899 L -0.7779328550264913, 0.6283474143102142 M -0.7779328550264913,0.6283474143102142 Q 0.023587174352694654, 0.19860424266882012 0.9034675997333738, 0.4286563848025785L 0.9034675997333738, 0.4286563848025785 L 0.9092287350100461, 0.41629689817728815 L 0.9148208013953056, 0.40386000214734163 \", \"type\": \"path\"}, {\"fillcolor\": \"#ecd5bb\", \"layer\": \"below\", \"line\": {\"color\": \"rgb(175,175,175)\", \"width\": 0.5}, \"path\": \"M 0.8886349909408555,0.45861514680126486 Q -0.012572022756362567, 0.1996044694985899 -0.9391554718801335, 0.3434923574660779L -0.9391554718801335, 0.3434923574660779 L -0.9312694255728065, 0.3643312462489255 L -0.9229210514791872, 0.38498926314450826 M -0.9229210514791872,0.38498926314450826 Q -0.012924370309305414, 0.19958196474658713 0.8655594087456371, 0.5008062598769141L 0.8655594087456371, 0.5008062598769141 L 0.8773508536945206, 0.47984943422025195 L 0.8886349909408555, 0.45861514680126486 \", \"type\": \"path\"}, {\"fillcolor\": \"#ecd5bb\", \"layer\": \"below\", \"line\": {\"color\": \"rgb(175,175,175)\", \"width\": 0.5}, \"path\": \"M 0.9512046494374602,0.30856071507656074 Q -0.003483174949340209, 0.19996966643036712 -0.9613737039985379, 0.27524643732504805L -0.9613737039985379, 0.27524643732504805 L -0.9600666472581456, 0.2797713938602433 L -0.958738292755466, 0.28429014405064135 M -0.958738292755466,0.28429014405064135 Q -0.003978048207159119, 0.1999604339174666 0.9466727357560839, 0.32219672775509633L 0.9466727357560839, 0.32219672775509633 L 0.9489631855439458, 0.31538686161964113 L 0.9512046494374602, 0.30856071507656074 \", \"type\": \"path\"}, {\"fillcolor\": \"#ecd5bb\", \"layer\": \"below\", \"line\": {\"color\": \"rgb(175,175,175)\", \"width\": 0.5}, \"path\": \"M 0.9358919409609553,0.3522872050533991 Q -0.024529728369586612, 0.19849003104970864 -0.9934979514331134, 0.1138499912086389L -0.9934979514331134, 0.1138499912086389 L -0.9926682432383516, 0.12087083546532222 L -0.9917889208199381, 0.1278856385166939 M -0.9917889208199381,0.1278856385166939 Q -0.024843572274163995, 0.19845099374066735 0.929656870974601, 0.36842652218551536L 0.929656870974601, 0.36842652218551536 L 0.9328093116054933, 0.3603703486443991 L 0.9358919409609553, 0.3522872050533991 \", \"type\": \"path\"}, {\"fillcolor\": \"#ecd5bb\", \"layer\": \"below\", \"line\": {\"color\": \"rgb(175,175,175)\", \"width\": 0.5}, \"path\": \"M 0.929656870974601,0.36842652218551536 Q -0.036245433655472746, 0.19668825216348518 -0.9999174702350132, 0.012847284491727486L -0.9999174702350132, 0.012847284491727486 L -0.9997874017109278, 0.020619199308210805 L -0.9995969264542057, 0.02838986832137823 M -0.9995969264542057,0.02838986832137823 Q -0.03653344765369388, 0.1966349592583547 0.9226918954755464, 0.38553815119095963L 0.9226918954755464, 0.38553815119095963 L 0.9262139008372476, 0.37699842160922803 L 0.929656870974601, 0.36842652218551536 \", \"type\": \"path\"}, {\"fillcolor\": \"#ecd5bb\", \"layer\": \"below\", \"line\": {\"color\": \"rgb(175,175,175)\", \"width\": 0.5}, \"path\": \"M 0.9226918954755464,0.38553815119095963 Q -0.05682965586212312, 0.19175606956389324 -0.9837639353075154, -0.17946732178385746L -0.9837639353075154, -0.17946732178385746 L -0.9852542151835777, -0.1710968481971318 L -0.9866732752077593, -0.16271400674432804 M -0.9866732752077593,-0.16271400674432804 Q -0.057111197286044295, 0.1916724057984209 0.9148208013953056, 0.40386000214734163L 0.9148208013953056, 0.40386000214734163 L 0.9188020191238235, 0.39471869686396294 L 0.9226918954755464, 0.38553815119095963 \", \"type\": \"path\"}, {\"fillcolor\": \"#ecd5bb\", \"layer\": \"below\", \"line\": {\"color\": \"rgb(175,175,175)\", \"width\": 0.5}, \"path\": \"M 0.9034675997333738,0.4286563848025785 Q -0.08247406069126623, 0.18220326372788534 -0.9182714902291986, -0.39595134831472256L -0.9182714902291986, -0.39595134831472256 L -0.9239491311289155, -0.3825153632027373 L -0.9294301914084047, -0.36899799362399827 M -0.9294301914084047,-0.36899799362399827 Q -0.08286179810900522, 0.18202725733840652 0.8886349909408555, 0.45861514680126486L 0.8886349909408555, 0.45861514680126486 L 0.8961764925116283, 0.44369775103053594 L 0.9034675997333738, 0.4286563848025785 \", \"type\": \"path\"}, {\"fillcolor\": \"#ecd5bb\", \"layer\": \"below\", \"line\": {\"color\": \"rgb(175,175,175)\", \"width\": 0.5}, \"path\": \"M 0.7144420698335249,0.6996945968435005 Q -0.1480361927088997, 0.13448154389451927 -0.6280831265666241, -0.7781462498285872L -0.6280831265666241, -0.7781462498285872 L -0.6650569993356892, -0.7467926001471955 L -0.7004679092699896, -0.713683899273992 M -0.7004679092699896,-0.713683899273992 Q -0.148299105575764, 0.13419156190099438 0.6403444318910475, 0.7680878911596847L 0.6403444318910475, 0.7680878911596847 L 0.6782558713277985, 0.7348258113385572 L 0.7144420698335249, 0.6996945968435005 \", \"type\": \"path\"}, {\"fillcolor\": \"#ecd5bb\", \"layer\": \"below\", \"line\": {\"color\": \"rgb(175,175,175)\", \"width\": 0.5}, \"path\": \"M 0.6403444318910475,0.7680878911596847 Q -0.18426685724930095, 0.07775426238776721 -0.1034631475476842, -0.9946332877495736L -0.1034631475476842, -0.9946332877495736 L -0.1561211673100646, -0.9877379111473563 L -0.20833886086140574, -0.9780567054393993 M -0.20833886086140574,-0.9780567054393993 Q -0.184366621580362, 0.07751740996088304 0.5531569017854665, 0.8330770924753026L 0.5531569017854665, 0.8330770924753026 L 0.5976347190749671, 0.8017685093318302 L 0.6403444318910475, 0.7680878911596847 \", \"type\": \"path\"}, {\"fillcolor\": \"#ecd5bb\", \"layer\": \"below\", \"line\": {\"color\": \"rgb(175,175,175)\", \"width\": 0.5}, \"path\": \"M 0.9575072077208951,0.28840933958964377 Q -0.15829281236409598, 0.1222431411321924 -0.036951834090696266, -0.9993170477667904L -0.036951834090696266, -0.9993170477667904 L -0.03987332808857286, -0.9992047426364333 L -0.04279448125962398, -0.9990838965641072 M -0.04279448125962398,-0.9990838965641072 Q -0.15849085832823884, 0.12198626080988845 0.9548457741889996, 0.2971019143550071L 0.9548457741889996, 0.2971019143550071 L 0.9561863688993529, 0.2927586513342869 L 0.9575072077208951, 0.28840933958964377 \", \"type\": \"path\"}, {\"fillcolor\": \"#ecd5bb\", \"layer\": \"below\", \"line\": {\"color\": \"rgb(175,175,175)\", \"width\": 0.5}, \"path\": \"M 0.451072883687939,0.8924871167705711 Q -0.19879712831171728, -0.021902095219741277 0.634551591716768, -0.7728805065789383L 0.634551591716768, -0.7728805065789383 L 0.576190763952352, -0.8173152412233636 L 0.5147297810439737, -0.8573524669040283 M 0.5147297810439737,-0.8573524669040283 Q -0.1987757388047351, -0.022095376498981245 0.3138894170282134, 0.9494595483103471L 0.3138894170282134, 0.9494595483103471 L 0.3835404735723805, 0.9235240685179105 L 0.451072883687939, 0.8924871167705711 \", \"type\": \"path\"}, {\"fillcolor\": \"#ecd5bb\", \"layer\": \"below\", \"line\": {\"color\": \"rgb(175,175,175)\", \"width\": 0.5}, \"path\": \"M 0.7692359869278472,0.6389647849569965 Q -0.19852708071526393, -0.02422804620011879 0.9003275588971001, -0.43521292109769527L 0.9003275588971001, -0.43521292109769527 L 0.8825871624282315, -0.47014880699293754 L 0.8634917847944953, -0.5043629026726857 M 0.8634917847944953,-0.5043629026726857 Q -0.19848500476666778, -0.024570365947129726 0.7144420698335249, 0.6996945968435005L 0.7144420698335249, 0.6996945968435005 L 0.7424602154605612, 0.6698901614878794 L 0.7692359869278472, 0.6389647849569965 \", \"type\": \"path\"}, {\"fillcolor\": \"#ecd5bb\", \"layer\": \"below\", \"line\": {\"color\": \"rgb(175,175,175)\", \"width\": 0.5}, \"path\": \"M 0.8393681074650686,0.5435634095213815 Q -0.19787385859061482, -0.029084980427385106 0.9602801651987142, -0.2790376396222027L 0.9602801651987142, -0.2790376396222027 L 0.9537181512252388, -0.30070199205112097 L 0.9466674480716084, -0.3222122635183035 M 0.9466674480716084,-0.3222122635183035 Q -0.1977456873993726, -0.029943999648504194 0.8088305834509926, 0.5880417393980865L 0.8088305834509926, 0.5880417393980865 L 0.8243993641685501, 0.5660085585558671 L 0.8393681074650686, 0.5435634095213815 \", \"type\": \"path\"}, {\"fillcolor\": \"#ecd5bb\", \"layer\": \"below\", \"line\": {\"color\": \"rgb(175,175,175)\", \"width\": 0.5}, \"path\": \"M 0.9417482615943009,0.33631861646972827 Q -0.19930026334059325, -0.016715413018235235 0.9846121615795148, -0.17475380187485295L 0.9846121615795148, -0.17475380187485295 L 0.983397539301821, -0.1814642656148129 L 0.9821371835011534, -0.18816629024461778 M 0.9821371835011534,-0.18816629024461778 Q -0.199271816945215, -0.017051186801883646 0.9358919409609553, 0.3522872050533991L 0.9358919409609553, 0.3522872050533991 L 0.9388540522990112, 0.34431536196011564 L 0.9417482615943009, 0.33631861646972827 \", \"type\": \"path\"}, {\"fillcolor\": \"#ecd5bb\", \"layer\": \"below\", \"line\": {\"color\": \"rgb(175,175,175)\", \"width\": 0.5}, \"path\": \"M 0.9548457741889996,0.2971019143550071 Q -0.1984978016702858, -0.0244667679120861 0.9984114074689946, -0.05634413399619569L 0.9984114074689946, -0.05634413399619569 L 0.998150849391282, -0.06078553988789038 L 0.9978705339388071, -0.06522574259201745 M 0.9978705339388071,-0.06522574259201745 Q -0.19845932546468192, -0.024776927495221503 0.9512046494374602, 0.30856071507656074L 0.9512046494374602, 0.30856071507656074 L 0.9530424336723659, 0.30283678709802453 L 0.9548457741889996, 0.2971019143550071 \", \"type\": \"path\"}, {\"fillcolor\": \"#e6c4a9\", \"layer\": \"below\", \"line\": {\"color\": \"rgb(175,175,175)\", \"width\": 0.5}, \"path\": \"M -0.027564993101843484,0.999620013382733 Q -0.058210529659021154, 0.19134140753327866 -0.5337977764223092, 0.8456121651718348L -0.5337977764223092, 0.8456121651718348 L -0.507723649229307, 0.8615199916503827 L -0.48117585697071286, 0.8766240897149131 M -0.48117585697071286,0.8766240897149131 Q -0.05830362395946348, 0.191313061324086 -0.08951148399956665, 0.9959857901758414L -0.08951148399956665, 0.9959857901758414 L -0.058566434646464785, 0.9982835132029384 L -0.027564993101843484, 0.999620013382733 \", \"type\": \"path\"}, {\"fillcolor\": \"#e6c4a9\", \"layer\": \"below\", \"line\": {\"color\": \"rgb(175,175,175)\", \"width\": 0.5}, \"path\": \"M 0.2609021783301194,0.9653652434921192 Q -0.04180166435841593, 0.19558277239283206 -0.6327335537163521, 0.7743695823064566L -0.6327335537163521, 0.7743695823064566 L -0.6302883204206283, 0.7763611486552785 L -0.6278368185909056, 0.7783449937024394 M -0.6278368185909056,0.7783449937024394 Q -0.041992218544164385, 0.19554194839404446 0.2529232420108114, 0.9674863480435992L 0.2529232420108114, 0.9674863480435992 L 0.2569148991753168, 0.9664340301240105 L 0.2609021783301194, 0.9653652434921192 \", \"type\": \"path\"}, {\"fillcolor\": \"#e6c4a9\", \"layer\": \"below\", \"line\": {\"color\": \"rgb(175,175,175)\", \"width\": 0.5}, \"path\": \"M 0.22639021248299737,0.9740366890892269 Q -0.05944904193069678, 0.19096023516303665 -0.7392677801266537, 0.6734115749425529L -0.7392677801266537, 0.6734115749425529 L -0.7347987799924453, 0.6782851560528316 L -0.7302976516963781, 0.6831290799891011 M -0.7302976516963781,0.6831290799891011 Q -0.059626980536085034, 0.19090474900365717 0.21166804999319352, 0.9773416171493359L 0.21166804999319352, 0.9773416171493359 L 0.2190353646521162, 0.9757169205418724 L 0.22639021248299737, 0.9740366890892269 \", \"type\": \"path\"}, {\"fillcolor\": \"#e6c4a9\", \"layer\": \"below\", \"line\": {\"color\": \"rgb(175,175,175)\", \"width\": 0.5}, \"path\": \"M 0.13288851320584022,0.9911309918764226 Q -0.09319695593636337, 0.17695854713518516 -0.8924637201531285, 0.45111917295814236L -0.8924637201531285, 0.45111917295814236 L -0.8856854296766499, 0.4642858167750637 L -0.8787129033094161, 0.4773506400514582 M -0.8787129033094161,0.4773506400514582 Q -0.09332197706061328, 0.17689264709845454 0.10207320792028932, 0.9947768896716798L 0.10207320792028932, 0.9947768896716798 L 0.11749500304830683, 0.993073473746368 L 0.13288851320584022, 0.9911309918764226 \", \"type\": \"path\"}, {\"fillcolor\": \"#e6c4a9\", \"layer\": \"below\", \"line\": {\"color\": \"rgb(175,175,175)\", \"width\": 0.5}, \"path\": \"M 0.26776631822784114,0.9634838861250906 Q -0.09638398915254738, 0.17524305017615288 -0.9570827732813116, 0.28981470819845134L -0.9570827732813116, 0.28981470819845134 L -0.9563835748344663, 0.2921137754143866 L -0.9556788536659984, 0.2944111557934641 M -0.9556788536659984,0.2944111557934641 Q -0.09658643881986291, 0.17513155008763237 0.2609021783301194, 0.9653652434921192L 0.2609021783301194, 0.9653652434921192 L 0.2643359220567634, 0.9644306715935577 L 0.26776631822784114, 0.9634838861250906 \", \"type\": \"path\"}, {\"fillcolor\": \"#e6c4a9\", \"layer\": \"below\", \"line\": {\"color\": \"rgb(175,175,175)\", \"width\": 0.5}, \"path\": \"M 0.2529232420108114,0.9674863480435992 Q -0.10495471451158177, 0.17024837121626854 -0.9779897063178242, 0.20865314360530468L -0.9779897063178242, 0.20865314360530468 L -0.9772333287748237, 0.21216743654877226 L -0.9764643230691074, 0.21567898778784605 M -0.9764643230691074,0.21567898778784605 Q -0.10506971321346548, 0.17017742319485307 0.24465103469502972, 0.9696111959041374L 0.24465103469502972, 0.9696111959041374 L 0.24878940683727452, 0.9685576033698549 L 0.2529232420108114, 0.9674863480435992 \", \"type\": \"path\"}, {\"fillcolor\": \"#e6c4a9\", \"layer\": \"below\", \"line\": {\"color\": \"rgb(175,175,175)\", \"width\": 0.5}, \"path\": \"M 0.24465103469502972,0.9696111959041374 Q -0.11925635147709346, 0.16055504549023664 -0.9989461452725535, 0.045897699780124514L -0.9989461452725535, 0.045897699780124514 L -0.9987694150072554, 0.04959491552634198 L -0.9985790009638957, 0.05329145179058164 M -0.9985790009638957,0.05329145179058164 Q -0.1193476796524306, 0.16048716883782582 0.23636098145819523, 0.9716653160652173L 0.23636098145819523, 0.9716653160652173 L 0.24050820105218151, 0.9706471064329422 L 0.24465103469502972, 0.9696111959041374 \", \"type\": \"path\"}, {\"fillcolor\": \"#e6c4a9\", \"layer\": \"below\", \"line\": {\"color\": \"rgb(175,175,175)\", \"width\": 0.5}, \"path\": \"M 0.23636098145819523,0.9716653160652173 Q -0.13432962988610736, 0.14817405486339846 -0.9901201770525428, -0.14022137851783223L -0.9901201770525428, -0.14022137851783223 L -0.9907412991985955, -0.13576331633500638 L -0.9913423488158093, -0.13130250357230158 M -0.9913423488158093,-0.13130250357230158 Q -0.13442196627462985, 0.1480902933445075 0.22639021248299737, 0.9740366890892269L 0.22639021248299737, 0.9740366890892269 L 0.2313786349817213, 0.9728637763191696 L 0.23636098145819523, 0.9716653160652173 \", \"type\": \"path\"}, {\"fillcolor\": \"#e6c4a9\", \"layer\": \"below\", \"line\": {\"color\": \"rgb(175,175,175)\", \"width\": 0.5}, \"path\": \"M 0.17872226333256822,0.9838995642794462 Q -0.15217846753650946, 0.1297756295235725 -0.943331599603366, -0.33185161320951095L -0.943331599603366, -0.33185161320951095 L -0.9459759595664035, -0.3242367713915592 L -0.9485588514726231, -0.31660086116897757 M -0.9485588514726231,-0.31660086116897757 Q -0.152296094608095, 0.12963757004480675 0.16104760807017246, 0.9869466388487658L 0.16104760807017246, 0.9869466388487658 L 0.16989176714637033, 0.9854627275832828 L 0.17872226333256822, 0.9838995642794462 \", \"type\": \"path\"}, {\"fillcolor\": \"#e6c4a9\", \"layer\": \"below\", \"line\": {\"color\": \"rgb(175,175,175)\", \"width\": 0.5}, \"path\": \"M 0.19578109328222104,0.9806476245386099 Q -0.16421798467108495, 0.11415977185754755 -0.8510086558230809, -0.5251516616313738L -0.8510086558230809, -0.5251516616313738 L -0.855492002800453, -0.5178160224872052 L -0.859912118651397, -0.5104421105242647 M -0.859912118651397,-0.5104421105242647 Q -0.16422778875831115, 0.11414566745853971 0.17872226333256822, 0.9838995642794462L 0.17872226333256822, 0.9838995642794462 L 0.18725873759842437, 0.9823106256134281 L 0.19578109328222104, 0.9806476245386099 \", \"type\": \"path\"}, {\"fillcolor\": \"#e6c4a9\", \"layer\": \"below\", \"line\": {\"color\": \"rgb(175,175,175)\", \"width\": 0.5}, \"path\": \"M 0.10207320792028932,0.9947768896716798 Q -0.19287469348885747, 0.05290890862207688 -0.41978817672307056, -0.9076221056604561L -0.41978817672307056, -0.9076221056604561 L -0.4354469918007201, -0.9002143729866257 L -0.45097514099624586, -0.8925365102915489 M -0.45097514099624586,-0.8925365102915489 Q -0.19286945796822402, 0.05292799054416737 0.06775156079434391, 0.99770222311566L 0.06775156079434391, 0.99770222311566 L 0.08492498107850413, 0.9963873481677774 L 0.10207320792028932, 0.9947768896716798 \", \"type\": \"path\"}, {\"fillcolor\": \"#e6c4a9\", \"layer\": \"below\", \"line\": {\"color\": \"rgb(175,175,175)\", \"width\": 0.5}, \"path\": \"M 0.27981404677942423,0.9600542168153433 Q -0.19726207608880558, 0.03297989292181341 -0.04769364604412323, -0.9988620105535188L -0.04769364604412323, -0.9988620105535188 L -0.04967183637373343, -0.9987655924546365 L -0.05164983186390581, -0.998665256664329 M -0.05164983186390581,-0.998665256664329 Q -0.19729524360255024, 0.03278089156521476 0.2740693554308272, 0.9617099294557225L 0.2740693554308272, 0.9617099294557225 L 0.2769429384495798, 0.9608863662488465 L 0.27981404677942423, 0.9600542168153433 \", \"type\": \"path\"}, {\"fillcolor\": \"#e6c4a9\", \"layer\": \"below\", \"line\": {\"color\": \"rgb(175,175,175)\", \"width\": 0.5}, \"path\": \"M 0.03135772034604225,0.9995082257664013 Q -0.19727597478524217, -0.032896652907742664 0.35398735977495366, -0.9352502066931381L 0.35398735977495366, -0.9352502066931381 L 0.3258173870332298, -0.9454327211953468 L 0.29735508084264517, -0.9547669641839646 M 0.29735508084264517,-0.9547669641839646 Q -0.1972920462037302, -0.03280012964524979 -0.027564993101843484, 0.999620013382733L -0.027564993101843484, 0.999620013382733 L 0.0018971871560322132, 0.9999982003388281 L 0.03135772034604225, 0.9995082257664013 \", \"type\": \"path\"}, {\"fillcolor\": \"#e6c4a9\", \"layer\": \"below\", \"line\": {\"color\": \"rgb(175,175,175)\", \"width\": 0.5}, \"path\": \"M 0.06775156079434391,0.99770222311566 Q -0.17673182539692883, -0.09362618165806756 0.8634917847944953, -0.5043629026726857L 0.8634917847944953, -0.5043629026726857 L 0.8542857271079152, -0.5198037095478453 L 0.8448035898900185, -0.5350765314503501 M 0.8448035898900185,-0.5350765314503501 Q -0.17670905519063154, -0.0936691508108958 0.03135772034604225, 0.9995082257664013L 0.03135772034604225, 0.9995082257664013 L 0.04956286728423455, 0.9987710058800092 L 0.06775156079434391, 0.99770222311566 \", \"type\": \"path\"}, {\"fillcolor\": \"#e6c4a9\", \"layer\": \"below\", \"line\": {\"color\": \"rgb(175,175,175)\", \"width\": 0.5}, \"path\": \"M 0.21166804999319352,0.9773416171493359 Q -0.17477180954548927, -0.09723587089235758 0.942055468215079, -0.3354571430243633L 0.942055468215079, -0.3354571430243633 L 0.9396799327889575, -0.3420550012991193 L 0.9372581886938776, -0.34863603905257967 M 0.9372581886938776,-0.34863603905257967 Q -0.17466462357304435, -0.09742827757939031 0.19578109328222104, 0.9806476245386099L 0.19578109328222104, 0.9806476245386099 L 0.20373127769240995, 0.9790268466644917 L 0.21166804999319352, 0.9773416171493359 \", \"type\": \"path\"}, {\"fillcolor\": \"#e6c4a9\", \"layer\": \"below\", \"line\": {\"color\": \"rgb(175,175,175)\", \"width\": 0.5}, \"path\": \"M 0.2839112864226696,0.9588505521935234 Q -0.17342268989762566, -0.0996221392496265 0.9713169595728378, -0.2377884859411365L 0.9713169595728378, -0.2377884859411365 L 0.9708960691535798, -0.23950119603485706 L 0.9704721587382051, -0.24121316115421235 M 0.9704721587382051,-0.24121316115421235 Q -0.17338566575935632, -0.09968656333320342 0.27981404677942423, 0.9600542168153433L 0.27981404677942423, 0.9600542168153433 L 0.2818633091155771, 0.9594545716053557 L 0.2839112864226696, 0.9588505521935234 \", \"type\": \"path\"}, {\"fillcolor\": \"#e6c4a9\", \"layer\": \"below\", \"line\": {\"color\": \"rgb(175,175,175)\", \"width\": 0.5}, \"path\": \"M 0.2740693554308272,0.9617099294557225 Q -0.16479009173819167, -0.11333236812543174 0.9961061238306093, -0.0881622939082178L 0.9961061238306093, -0.0881622939082178 L 0.9958829856606657, -0.09064810462220514 L 0.9956536440902435, -0.09313335068501902 M 0.9956536440902435,-0.09313335068501902 Q -0.16470185142578275, -0.11346056644014864 0.26776631822784114, 0.9634838861250906L 0.26776631822784114, 0.9634838861250906 L 0.2709192887980698, 0.9626020667737776 L 0.2740693554308272, 0.9617099294557225 \", \"type\": \"path\"}, {\"fillcolor\": \"#e1b396\", \"layer\": \"below\", \"line\": {\"color\": \"rgb(175,175,175)\", \"width\": 0.5}, \"path\": \"M -0.28447755009344844,0.9586827021975673 Q -0.09585340551807464, 0.17553382765321202 -0.6527261805780565, 0.7575939104744588L -0.6527261805780565, 0.7575939104744588 L -0.6488455422559825, 0.7609201418641381 L -0.6449479540321247, 0.7642264956083219 M -0.6449479540321247,0.7642264956083219 Q -0.09611208765282113, 0.17539232197281737 -0.29707907346764445, 0.9548528808709779L -0.29707907346764445, 0.9548528808709779 L -0.2907846170016445, 0.9567885380350284 L -0.28447755009344844, 0.9586827021975673 \", \"type\": \"path\"}, {\"fillcolor\": \"#e1b396\", \"layer\": \"below\", \"line\": {\"color\": \"rgb(175,175,175)\", \"width\": 0.5}, \"path\": \"M -0.3247769909425475,0.9457906249029456 Q -0.11343765099348385, 0.16471763517328847 -0.7677996393067984, 0.6406900294841105L -0.7677996393067984, 0.6406900294841105 L -0.7628208096754865, 0.646609938313691 L -0.7577963373742285, 0.6524911578421615 M -0.7577963373742285,0.6524911578421615 Q -0.11359438067648837, 0.16460958865972858 -0.3411594732912399, 0.9400054328479404L -0.3411594732912399, 0.9400054328479404 L -0.33298079630937855, 0.9429336081024857 L -0.3247769909425475, 0.9457906249029456 \", \"type\": \"path\"}, {\"fillcolor\": \"#e1b396\", \"layer\": \"below\", \"line\": {\"color\": \"rgb(175,175,175)\", \"width\": 0.5}, \"path\": \"M -0.4439134159755016,0.8960696842974665 Q -0.145925996940505, 0.13676842989856877 -0.9229210514791872, 0.38498926314450826L -0.9229210514791872, 0.38498926314450826 L -0.9148840531616792, 0.4037166943172621 L -0.9064670943294935, 0.4222764579015093 M -0.9064670943294935,0.4222764579015093 Q -0.14601317511880893, 0.13667535510004736 -0.48117585697071286, 0.8766240897149131L -0.48117585697071286, 0.8766240897149131 L -0.4626468129331553, 0.886542681703929 L -0.4439134159755016, 0.8960696842974665 \", \"type\": \"path\"}, {\"fillcolor\": \"#e1b396\", \"layer\": \"below\", \"line\": {\"color\": \"rgb(175,175,175)\", \"width\": 0.5}, \"path\": \"M -0.2360515035115428,0.9717405454595069 Q -0.13609347495874455, 0.14655567567874528 -0.9516305474583148, 0.307244692621676L -0.9516305474583148, 0.307244692621676 L -0.9513347796211208, 0.30815927226555034 L -0.9510381328128663, 0.3090735671904292 M -0.9510381328128663,0.3090735671904292 Q -0.1361579356641492, 0.14649579023192924 -0.2387736674726823, 0.9710752471985088L -0.2387736674726823, 0.9710752471985088 L -0.23741281853660245, 0.9714088498642095 L -0.2360515035115428, 0.9717405454595069 \", \"type\": \"path\"}, {\"fillcolor\": \"#e1b396\", \"layer\": \"below\", \"line\": {\"color\": \"rgb(175,175,175)\", \"width\": 0.5}, \"path\": \"M -0.2731747966870081,0.9619644122601478 Q -0.1506087358150022, 0.13159410585663356 -0.9899155886641289, 0.1416584883434496L -0.9899155886641289, 0.1416584883434496 L -0.9891901337996767, 0.14663860062540773 L -0.9884396249222858, 0.15161499887376265 M -0.9884396249222858,0.15161499887376265 Q -0.15072081515830515, 0.13146572130413317 -0.28447755009344844, 0.9586827021975673L -0.28447755009344844, 0.9586827021975673 L -0.2788310014554898, 0.9603401858858811 L -0.2731747966870081, 0.9619644122601478 \", \"type\": \"path\"}, {\"fillcolor\": \"#e1b396\", \"layer\": \"below\", \"line\": {\"color\": \"rgb(175,175,175)\", \"width\": 0.5}, \"path\": \"M -0.2485577791393156,0.9686170711015428 Q -0.15424422962700435, 0.12731346207990715 -0.9981720758952175, 0.06043597358388525L -0.9981720758952175, 0.06043597358388525 L -0.9979887398906291, 0.06339144304647322 L -0.9977966531097627, 0.06634635666678176 M -0.9977966531097627,0.06634635666678176 Q -0.15429534512723486, 0.127251508722166 -0.25506652822745524, 0.9669235058565867L -0.25506652822745524, 0.9669235058565867 L -0.2518135774406825, 0.9677757602960126 L -0.2485577791393156, 0.9686170711015428 \", \"type\": \"path\"}, {\"fillcolor\": \"#e1b396\", \"layer\": \"below\", \"line\": {\"color\": \"rgb(175,175,175)\", \"width\": 0.5}, \"path\": \"M -0.24312522083707636,0.9699949108077438 Q -0.1642992683082539, 0.11404275704038554 -0.9937705202511958, -0.11144574051827945L -0.9937705202511958, -0.11144574051827945 L -0.9940460970097654, -0.108960346088162 L -0.9943154578708295, -0.10647427031505102 M -0.9943154578708295,-0.10647427031505102 Q -0.1643336628833243, 0.11399318946037929 -0.2485577791393156, 0.9686170711015428L -0.2485577791393156, 0.9686170711015428 L -0.24584246526385584, 0.9693097968518578 L -0.24312522083707636, 0.9699949108077438 \", \"type\": \"path\"}, {\"fillcolor\": \"#e1b396\", \"layer\": \"below\", \"line\": {\"color\": \"rgb(175,175,175)\", \"width\": 0.5}, \"path\": \"M -0.3101619298680082,0.950683741977611 Q -0.17861658015848295, 0.08997842681714457 -0.9485588514726231, -0.31660086116897757L -0.9485588514726231, -0.31660086116897757 L -0.9507633701555218, -0.3099177535581242 L -0.9529208033949432, -0.303219297633142 M -0.9529208033949432,-0.303219297633142 Q -0.17867673156425523, 0.08985892052275654 -0.3247769909425475, 0.9457906249029456L -0.3247769909425475, 0.9457906249029456 L -0.31747888739047647, 0.9482653405357095 L -0.3101619298680082, 0.950683741977611 \", \"type\": \"path\"}, {\"fillcolor\": \"#e1b396\", \"layer\": \"below\", \"line\": {\"color\": \"rgb(175,175,175)\", \"width\": 0.5}, \"path\": \"M -0.29707907346764445,0.9548528808709779 Q -0.18670077746086183, 0.07171345547043284 -0.859912118651397, -0.5104421105242647L -0.859912118651397, -0.5104421105242647 L -0.8634166859964614, -0.5044914531911201 L -0.8668800750009845, -0.4985167354926888 M -0.8668800750009845,-0.4985167354926888 Q -0.18669788175354757, 0.07172099377963453 -0.3101619298680082, 0.950683741977611L -0.3101619298680082, 0.950683741977611 L -0.3036276576051671, 0.9527907669248267 L -0.29707907346764445, 0.9548528808709779 \", \"type\": \"path\"}, {\"fillcolor\": \"#e1b396\", \"layer\": \"below\", \"line\": {\"color\": \"rgb(175,175,175)\", \"width\": 0.5}, \"path\": \"M -0.3411594732912399,0.9400054328479404 Q -0.19924511061260747, 0.01736046937642576 -0.49859184634188286, -0.8668368766736867L -0.49859184634188286, -0.8668368766736867 L -0.5084869082665918, -0.8610697208249066 L -0.5183152707751691, -0.8551896164484594 M -0.5183152707751691,-0.8551896164484594 Q -0.1992408692460214, 0.01740907872604985 -0.36214529000603535, 0.9321216599384677L -0.36214529000603535, 0.9321216599384677 L -0.3516744744617971, 0.9361223552570566 L -0.3411594732912399, 0.9400054328479404 \", \"type\": \"path\"}, {\"fillcolor\": \"#e1b396\", \"layer\": \"below\", \"line\": {\"color\": \"rgb(175,175,175)\", \"width\": 0.5}, \"path\": \"M -0.2387736674726823,0.9710752471985088 Q -0.19917008590227997, -0.018201013204720787 -0.058806541754698745, -0.9982693978314936L -0.058806541754698745, -0.9982693978314936 L -0.0603128448750209, -0.9981795233038402 L -0.06181901066139483, -0.9980873758949396 M -0.06181901066139483,-0.9980873758949396 Q -0.19915669387587898, -0.018346969352714262 -0.24312522083707636, 0.9699949108077438L -0.24312522083707636, 0.9699949108077438 L -0.24095004963731512, 0.9705375178630528 L -0.2387736674726823, 0.9710752471985088 \", \"type\": \"path\"}, {\"fillcolor\": \"#e1b396\", \"layer\": \"below\", \"line\": {\"color\": \"rgb(175,175,175)\", \"width\": 0.5}, \"path\": \"M -0.41047154387569484,0.9118734076988447 Q -0.18700646010637978, -0.07091250861788065 0.29735508084264517, -0.9547669641839646L 0.29735508084264517, -0.9547669641839646 L 0.2790642736807681, -0.9602724254892595 L 0.2606716460868589, -0.9654275182147893 M 0.2606716460868589,-0.9654275182147893 Q -0.18704944215882807, -0.07079905499419631 -0.4439134159755016, 0.8960696842974665L -0.4439134159755016, 0.8960696842974665 L -0.42726555480557915, 0.9041261779622801 L -0.41047154387569484, 0.9118734076988447 \", \"type\": \"path\"}, {\"fillcolor\": \"#e1b396\", \"layer\": \"below\", \"line\": {\"color\": \"rgb(175,175,175)\", \"width\": 0.5}, \"path\": \"M -0.36214529000603535,0.9321216599384677 Q -0.1622206044616633, -0.11698066288106163 0.770071563332117, -0.6379575121802621L 0.770071563332117, -0.6379575121802621 L 0.7621282376418556, -0.6474260956965817 L 0.7540684964846482, -0.6567957845551249 M 0.7540684964846482,-0.6567957845551249 Q -0.16222402608032516, -0.11697591787325279 -0.3850190760311547, 0.9229086147025154L -0.3850190760311547, 0.9229086147025154 L -0.3736105827189172, 0.9275856469784508 L -0.36214529000603535, 0.9321216599384677 \", \"type\": \"path\"}, {\"fillcolor\": \"#e1b396\", \"layer\": \"below\", \"line\": {\"color\": \"rgb(175,175,175)\", \"width\": 0.5}, \"path\": \"M -0.25506652822745524,0.9669235058565867 Q -0.14996326949125552, -0.13232920238365029 0.9276638323359118, -0.3734164085519667L 0.9276638323359118, -0.3734164085519667 L 0.926140170717094, -0.3771795118827534 L 0.9246012440008704, -0.38093639835547743 M 0.9246012440008704,-0.38093639835547743 Q -0.14988862459607108, -0.1324137463283102 -0.26399716020009406, 0.9645234571571009L -0.26399716020009406, 0.9645234571571009 L -0.25953461853757204, 0.9657338048243713 L -0.25506652822745524, 0.9669235058565867 \", \"type\": \"path\"}, {\"fillcolor\": \"#e1b396\", \"layer\": \"below\", \"line\": {\"color\": \"rgb(175,175,175)\", \"width\": 0.5}, \"path\": \"M -0.26399716020009406,0.9645234571571009 Q -0.13668732806142858, -0.14600196692999515 0.9798099400077347, -0.19993119181868382L 0.9798099400077347, -0.19993119181868382 L 0.9790028583835431, -0.2038465189225763 L 0.9781801311511013, -0.2077585883211915 M 0.9781801311511013,-0.2077585883211915 Q -0.1365754157859986, -0.14610665899568576 -0.2731747966870081, 0.9619644122601478L -0.2731747966870081, 0.9619644122601478 L -0.26858902619834607, 0.9632548650309658 L -0.26399716020009406, 0.9645234571571009 \", \"type\": \"path\"}, {\"fillcolor\": \"#e1b396\", \"layer\": \"below\", \"line\": {\"color\": \"rgb(175,175,175)\", \"width\": 0.5}, \"path\": \"M -0.2335999704535179,0.9723327896374345 Q -0.13181209561368543, -0.15041798911675644 0.994584423836855, -0.10393182313955247L 0.994584423836855, -0.10393182313955247 L 0.994482447662813, -0.10490310429429796 L 0.9943795229651148, -0.10587428539390797 M 0.9943795229651148,-0.10587428539390797 Q -0.13176931011292467, -0.15045547152684044 -0.2360515035115428, 0.9717405454595069L -0.2360515035115428, 0.9717405454595069 L -0.23482592369174254, 0.9720374404117981 L -0.2335999704535179, 0.9723327896374345 \", \"type\": \"path\"}, {\"fillcolor\": \"#dba284\", \"layer\": \"below\", \"line\": {\"color\": \"rgb(175,175,175)\", \"width\": 0.5}, \"path\": \"M -0.6610891992989564,0.7503073174175131 Q -0.14441809757786503, 0.13835972351804646 -0.7779328550264913, 0.6283474143102142L -0.7779328550264913, 0.6283474143102142 L -0.772890885602092, 0.6345389499102588 L -0.7677996393067984, 0.6406900294841105 M -0.7677996393067984,0.6406900294841105 Q -0.1442762013392854, 0.1385076811122978 -0.671468766588775, 0.7410328572308715L -0.671468766588775, 0.7410328572308715 L -0.6662951200599104, 0.7456881472736103 L -0.6610891992989564, 0.7503073174175131 \", \"type\": \"path\"}, {\"fillcolor\": \"#dba284\", \"layer\": \"below\", \"line\": {\"color\": \"rgb(175,175,175)\", \"width\": 0.5}, \"path\": \"M -0.6230852347610448,0.7821539427905313 Q -0.14730917344283886, 0.135277520008269 -0.832285328092427, 0.5543474836617203L -0.832285328092427, 0.5543474836617203 L -0.8301704760092462, 0.5575096239192482 L -0.8280436099227988, 0.5606636960478357 M -0.8280436099227988,0.5606636960478357 Q -0.1472064186602554, 0.13538932862386757 -0.6278368185909056, 0.7783449937024394L -0.6278368185909056, 0.7783449937024394 L -0.6254639261491056, 0.7802530852781975 L -0.6230852347610448, 0.7821539427905313 \", \"type\": \"path\"}, {\"fillcolor\": \"#dba284\", \"layer\": \"below\", \"line\": {\"color\": \"rgb(175,175,175)\", \"width\": 0.5}, \"path\": \"M -0.6382750710752323,0.7698083746257293 Q -0.17402194551256778, 0.0985716109233328 -0.9884396249222858, 0.15161499887376265L -0.9884396249222858, 0.15161499887376265 L -0.9877015791014715, 0.15635085749831892 L -0.986940842744578, 0.16108312426390922 M -0.986940842744578,0.16108312426390922 Q -0.1739782449457983, 0.09864872166216755 -0.6449479540321247, 0.7642264956083219L -0.6449479540321247, 0.7642264956083219 L -0.6416175826649082, 0.7670246916594274 L -0.6382750710752323, 0.7698083746257293 \", \"type\": \"path\"}, {\"fillcolor\": \"#dba284\", \"layer\": \"below\", \"line\": {\"color\": \"rgb(175,175,175)\", \"width\": 0.5}, \"path\": \"M -0.6100721083965881,0.7923458983023397 Q -0.1757153052630876, 0.09552031980840486 -0.9967050191963407, 0.0811116804709536L -0.9967050191963407, 0.0811116804709536 L -0.9966749279226281, 0.08148059922720337 L -0.9966447000979386, 0.08184950682007826 M -0.9966447000979386,0.08184950682007826 Q -0.17571111134619755, 0.0955280343641811 -0.6105889678624932, 0.7919476701933122L -0.6105889678624932, 0.7919476701933122 L -0.610330570608995, 0.7921468264028447 L -0.6100721083965881, 0.7923458983023397 \", \"type\": \"path\"}, {\"fillcolor\": \"#dba284\", \"layer\": \"below\", \"line\": {\"color\": \"rgb(175,175,175)\", \"width\": 0.5}, \"path\": \"M -0.6105889678624932,0.7919476701933122 Q -0.1832214718020999, 0.08018660904834615 -0.9960490401098324, -0.0888048968035071L -0.9960490401098324, -0.0888048968035071 L -0.9961043624303465, -0.08818219291462898 L -0.9961592954526641, -0.08755945456232472 M -0.9961592954526641,-0.08755945456232472 Q -0.18321494210252964, 0.08020152735681978 -0.6114498225400894, 0.7912832075279326L -0.6114498225400894, 0.7912832075279326 L -0.6110194855238337, 0.7916155558793609 L -0.6105889678624932, 0.7919476701933122 \", \"type\": \"path\"}, {\"fillcolor\": \"#dba284\", \"layer\": \"below\", \"line\": {\"color\": \"rgb(175,175,175)\", \"width\": 0.5}, \"path\": \"M -0.6124818935859433,0.7904846171997132 Q -0.19537073745647363, 0.04278171274871611 -0.886786552419562, -0.4621791973334883L -0.886786552419562, -0.4621791973334883 L -0.887631867166834, -0.46055365419234284 L -0.8884742021805054, -0.4589265649967479 M -0.8884742021805054,-0.4589265649967479 Q -0.19535281652809577, 0.04286347016446693 -0.6147144670865956, 0.7887497219995978L -0.6147144670865956, 0.7887497219995978 L -0.6135987934940226, 0.7896179586500549 L -0.6124818935859433, 0.7904846171997132 \", \"type\": \"path\"}, {\"fillcolor\": \"#dba284\", \"layer\": \"below\", \"line\": {\"color\": \"rgb(175,175,175)\", \"width\": 0.5}, \"path\": \"M -0.6114498225400894,0.7912832075279326 Q -0.1999964370776811, -0.001193799075699046 -0.601960088628896, -0.7985261747105674L -0.601960088628896, -0.7985261747105674 L -0.6026457871849963, -0.7980088064602897 L -0.6033310410774463, -0.7974908493972861 M -0.6033310410774463,-0.7974908493972861 Q -0.19999667933765206, -0.0011524989858502398 -0.6124818935859433, 0.7904846171997132L -0.6124818935859433, 0.7904846171997132 L -0.6119659883289528, 0.7908840807150995 L -0.6114498225400894, 0.7912832075279326 \", \"type\": \"path\"}, {\"fillcolor\": \"#dba284\", \"layer\": \"below\", \"line\": {\"color\": \"rgb(175,175,175)\", \"width\": 0.5}, \"path\": \"M -0.6327335537163521,0.7743695823064566 Q -0.18710244259528794, -0.07065887046137231 0.03709373780321045, -0.9993117904917297L 0.03709373780321045, -0.9993117904917297 L 0.03232119524931863, -0.9994775336833017 L 0.02754791562242435, -0.9996204841562921 M 0.02754791562242435,-0.9996204841562921 Q -0.18718616788369072, -0.07043676989342114 -0.6382750710752323, 0.7698083746257293L -0.6382750710752323, 0.7698083746257293 L -0.6355084045294171, 0.7720939500944652 L -0.6327335537163521, 0.7743695823064566 \", \"type\": \"path\"}, {\"fillcolor\": \"#dba284\", \"layer\": \"below\", \"line\": {\"color\": \"rgb(175,175,175)\", \"width\": 0.5}, \"path\": \"M -0.6147144670865956,0.7887497219995978 Q -0.15349394211946035, -0.12821704150629806 0.6667198187859756, -0.7453084483876429L 0.6667198187859756, -0.7453084483876429 L 0.6643087946290449, -0.7474582432340321 L 0.6618908386387851, -0.7496002386112519 M 0.6618908386387851,-0.7496002386112519 Q -0.15358738463276264, -0.12810509467491069 -0.6186523553475519, 0.7856648542622524L -0.6186523553475519, 0.7856648542622524 L -0.6166853401634953, 0.7872097504651693 L -0.6147144670865956, 0.7887497219995978 \", \"type\": \"path\"}, {\"fillcolor\": \"#dba284\", \"layer\": \"below\", \"line\": {\"color\": \"rgb(175,175,175)\", \"width\": 0.5}, \"path\": \"M -0.6186523553475519,0.7856648542622524 Q -0.10690302587727044, -0.16903178120780615 0.9749949963043827, -0.2222268147218438L 0.9749949963043827, -0.2222268147218438 L 0.9743110886162233, -0.22520635559297572 L 0.9736180756075214, -0.22818379182208948 M 0.9736180756075214,-0.22818379182208948 Q -0.10694183514855458, -0.169007230304089 -0.6230852347610448, 0.7821539427905313L -0.6230852347610448, 0.7821539427905313 L -0.6208712767530937, 0.7839125319211214 L -0.6186523553475519, 0.7856648542622524 \", \"type\": \"path\"}, {\"fillcolor\": \"#d59171\", \"layer\": \"below\", \"line\": {\"color\": \"rgb(175,175,175)\", \"width\": 0.5}, \"path\": \"M -0.7098700179674632,0.7043327037635505 Q -0.15664697408008443, 0.12434518692556362 -0.8470393387938472, 0.5315302047256413L -0.8470393387938472, 0.5315302047256413 L -0.8445022292382741, 0.5355520374450885 L -0.8419460237448197, 0.5395617602279533 M -0.8419460237448197,0.5395617602279533 Q -0.15659864973323148, 0.12440604045515105 -0.7159940641203811, 0.6981063673569949L -0.7159940641203811, 0.6981063673569949 L -0.7129388381644773, 0.7012262210133654 L -0.7098700179674632, 0.7043327037635505 \", \"type\": \"path\"}, {\"fillcolor\": \"#d59171\", \"layer\": \"below\", \"line\": {\"color\": \"rgb(175,175,175)\", \"width\": 0.5}, \"path\": \"M -0.748274171140185,0.663389602574889 Q -0.1820599917478814, 0.08278985085601594 -0.9917889208199381, 0.1278856385166939L -0.9917889208199381, 0.1278856385166939 L -0.9908761847856973, 0.13477531830621206 L -0.9899155886641289, 0.1416584883434496 M -0.9899155886641289,0.1416584883434496 Q -0.18208368934761524, 0.08273771856632955 -0.7577963373742285, 0.6524911578421615L -0.7577963373742285, 0.6524911578421615 L -0.7530549702236977, 0.6579576064013439 L -0.748274171140185, 0.663389602574889 \", \"type\": \"path\"}, {\"fillcolor\": \"#d59171\", \"layer\": \"below\", \"line\": {\"color\": \"rgb(175,175,175)\", \"width\": 0.5}, \"path\": \"M -0.6949523031977679,0.7190558366915032 Q -0.18086862649660626, 0.08536123212109319 -0.99684363951234, 0.07938991348900691L -0.99684363951234, 0.07938991348900691 L -0.9968043371877566, 0.07988187130805896 L -0.9967647920743633, 0.08037380967050982 M -0.9967647920743633,0.08037380967050982 Q -0.18086909805195772, 0.08536023295347372 -0.695669645857633, 0.7183618474225336L -0.695669645857633, 0.7183618474225336 L -0.6953110611114544, 0.7187089315543973 L -0.6949523031977679, 0.7190558366915032 \", \"type\": \"path\"}, {\"fillcolor\": \"#d59171\", \"layer\": \"below\", \"line\": {\"color\": \"rgb(175,175,175)\", \"width\": 0.5}, \"path\": \"M -0.7008496098721221,0.7133090664936864 Q -0.1882984154528453, 0.06740702291265847 -0.9943154578708295, -0.10647427031505102L -0.9943154578708295, -0.10647427031505102 L -0.9945655916792083, -0.10411188139586348 L -0.994810112708062, -0.10174890492665302 M -0.994810112708062,-0.10174890492665302 Q -0.18829807102304974, 0.06740798505369015 -0.7042234979652439, 0.7099783552430287L -0.7042234979652439, 0.7099783552430287 L -0.7025385277700414, 0.7116457103072446 L -0.7008496098721221, 0.7133090664936864 \", \"type\": \"path\"}, {\"fillcolor\": \"#d59171\", \"layer\": \"below\", \"line\": {\"color\": \"rgb(175,175,175)\", \"width\": 0.5}, \"path\": \"M -0.6965653495292686,0.7174933545581923 Q -0.19308532687518085, 0.052134983892819724 -0.9630325064151138, -0.269385210410341L -0.9630325064151138, -0.269385210410341 L -0.9633077477373129, -0.26839929796716216 L -0.9635819797238305, -0.2674131043002633 M -0.9635819797238305,-0.2674131043002633 Q -0.1930839967019625, 0.052139910026740025 -0.6979962195862073, 0.7161014435422981L -0.6979962195862073, 0.7161014435422981 L -0.6972811318740265, 0.71679775608778 L -0.6965653495292686, 0.7174933545581923 \", \"type\": \"path\"}, {\"fillcolor\": \"#d59171\", \"layer\": \"below\", \"line\": {\"color\": \"rgb(175,175,175)\", \"width\": 0.5}, \"path\": \"M -0.6979962195862073,0.7161014435422981 Q -0.19761754052713817, 0.030778363764256668 -0.8827141463210136, -0.46991034877385307L -0.8827141463210136, -0.46991034877385307 L -0.8837715548311332, -0.46791862419801294 L -0.8848244692925983, -0.46592452021874936 M -0.8848244692925983,-0.46592452021874936 Q -0.19760956802152976, 0.03082950901886704 -0.7008496098721221, 0.7133090664936864L -0.7008496098721221, 0.7133090664936864 L -0.6994243082640437, 0.7147066790015076 L -0.6979962195862073, 0.7161014435422981 \", \"type\": \"path\"}, {\"fillcolor\": \"#d59171\", \"layer\": \"below\", \"line\": {\"color\": \"rgb(175,175,175)\", \"width\": 0.5}, \"path\": \"M -0.7159940641203811,0.6981063673569949 Q -0.19891417652954752, -0.020812265027430714 -0.555984467830286, -0.8311926801479147L -0.555984467830286, -0.8311926801479147 L -0.560498095861941, -0.8281557127347118 L -0.5649951353868632, -0.8250942352175175 M -0.5649951353868632,-0.8250942352175175 Q -0.19892868103467476, -0.020673167677079343 -0.7225811819192194, 0.6912860735876457L -0.7225811819192194, 0.6912860735876457 L -0.7192957067376734, 0.6947040278195822 L -0.7159940641203811, 0.6981063673569949 \", \"type\": \"path\"}, {\"fillcolor\": \"#d59171\", \"layer\": \"below\", \"line\": {\"color\": \"rgb(175,175,175)\", \"width\": 0.5}, \"path\": \"M -0.7392677801266537,0.6734115749425529 Q -0.17914520914981885, -0.08892128001028589 0.0893678190835612, -0.9959986912201481L 0.0893678190835612, -0.9959986912201481 L 0.08158210673215487, -0.9966666242335716 L 0.07379141269574385, -0.9972736973430947 M 0.07379141269574385,-0.9972736973430947 Q -0.17924088783347705, -0.08872826003403256 -0.748274171140185, 0.663389602574889L -0.748274171140185, 0.663389602574889 L -0.7437878556263361, 0.668415758209497 L -0.7392677801266537, 0.6734115749425529 \", \"type\": \"path\"}, {\"fillcolor\": \"#d59171\", \"layer\": \"below\", \"line\": {\"color\": \"rgb(175,175,175)\", \"width\": 0.5}, \"path\": \"M -0.7225811819192194,0.6912860735876457 Q -0.14102654091907463, -0.1418150723879538 0.6953042510828971, -0.7187155198171608L 0.6953042510828971, -0.7187155198171608 L 0.6907480412117745, -0.7230955286558594 L 0.6861642404284342, -0.7274466545096416 M 0.6861642404284342,-0.7274466545096416 Q -0.14112659780306522, -0.14171550159573887 -0.7302976516963781, 0.6831290799891011L -0.7302976516963781, 0.6831290799891011 L -0.7264508658045611, 0.6872184074745115 L -0.7225811819192194, 0.6912860735876457 \", \"type\": \"path\"}, {\"fillcolor\": \"#d59171\", \"layer\": \"below\", \"line\": {\"color\": \"rgb(175,175,175)\", \"width\": 0.5}, \"path\": \"M -0.6944138418336225,0.7195758585930109 Q -0.11460035830381712, -0.16391082293929446 0.9142528326178754, -0.4051441200982574L 0.9142528326178754, -0.4051441200982574 L 0.9141032402661396, -0.4054815237898567 L 0.9139535233960622, -0.40581887224711927 M 0.9139535233960622,-0.40581887224711927 Q -0.11459950459134156, -0.16391141982003293 -0.6949523031977679, 0.7190558366915032L -0.6949523031977679, 0.7190558366915032 L -0.694683121175073, 0.7193158980270482 L -0.6944138418336225, 0.7195758585930109 \", \"type\": \"path\"}, {\"fillcolor\": \"#d59171\", \"layer\": \"below\", \"line\": {\"color\": \"rgb(175,175,175)\", \"width\": 0.5}, \"path\": \"M -0.7042234979652439,0.7099783552430287 Q -0.09577543184184169, -0.17557638410534812 0.9781801311511013, -0.2077585883211915L 0.9781801311511013, -0.2077585883211915 L 0.9773915192282467, -0.21143750410156603 L 0.9765890710284248, -0.21511342670284034 M 0.9765890710284248,-0.21511342670284034 Q -0.09573506359194406, -0.1755983986232404 -0.7098700179674632, 0.7043327037635505L -0.7098700179674632, 0.7043327037635505 L -0.7070523928931208, 0.70716116529693 L -0.7042234979652439, 0.7099783552430287 \", \"type\": \"path\"}, {\"fillcolor\": \"#d0805f\", \"layer\": \"below\", \"line\": {\"color\": \"rgb(175,175,175)\", \"width\": 0.5}, \"path\": \"M -0.832285328092427,0.5543474836617203 Q -0.18112693276023062, 0.08481175760984383 -0.958738292755466, 0.28429014405064135L -0.958738292755466, 0.28429014405064135 L -0.9579145157423128, 0.28705361960820197 L -0.9570827732813116, 0.28981470819845134 M -0.9570827732813116,0.28981470819845134 Q -0.18122792135631294, 0.08459574765240895 -0.8367765565790795, 0.5475445135873965L -0.8367765565790795, 0.5475445135873965 L -0.8345378744049058, 0.5509505750825039 L -0.832285328092427, 0.5543474836617203 \", \"type\": \"path\"}, {\"fillcolor\": \"#d0805f\", \"layer\": \"below\", \"line\": {\"color\": \"rgb(175,175,175)\", \"width\": 0.5}, \"path\": \"M -0.8367765565790795,0.5475445135873965 Q -0.18642149978030123, 0.07243634736555364 -0.986940842744578, 0.16108312426390922L -0.986940842744578, 0.16108312426390922 L -0.9862565988279303, 0.16522082577073346 L -0.9855550078772183, 0.16935562124752843 M -0.9855550078772183,0.16935562124752843 Q -0.18646213036213027, 0.07233169388875071 -0.8419460237448197, 0.5395617602279533L -0.8419460237448197, 0.5395617602279533 L -0.8393707801145642, 0.5435592824061307 L -0.8367765565790795, 0.5475445135873965 \", \"type\": \"path\"}, {\"fillcolor\": \"#d0805f\", \"layer\": \"below\", \"line\": {\"color\": \"rgb(175,175,175)\", \"width\": 0.5}, \"path\": \"M -0.818168661780832,0.5749782960075646 Q -0.18844505752492188, 0.0669959722254173 -0.9975095538419637, 0.07053148228987192L -0.9975095538419637, 0.07053148228987192 L -0.9973683739783651, 0.07250052818946924 L -0.997223307296898, 0.07446929154917878 M -0.997223307296898,0.07446929154917878 Q -0.18845843375403193, 0.06695833590358378 -0.820660713556253, 0.5714157796432835L -0.820660713556253, 0.5714157796432835 L -0.8194166237315708, 0.5731983921404119 L -0.818168661780832, 0.5749782960075646 \", \"type\": \"path\"}, {\"fillcolor\": \"#d0805f\", \"layer\": \"below\", \"line\": {\"color\": \"rgb(175,175,175)\", \"width\": 0.5}, \"path\": \"M -0.8156611451082663,0.5785299442212751 Q -0.19340593289703054, 0.05093275095878222 -0.994810112708062, -0.10174890492665302L -0.994810112708062, -0.10174890492665302 L -0.9950116707361092, -0.09975858408646687 L -0.995209246724778, -0.09776786401215887 M -0.995209246724778,-0.09776786401215887 Q -0.19341475731901803, 0.05089923035985281 -0.818168661780832, 0.5749782960075646L -0.818168661780832, 0.5749782960075646 L -0.8169168336012397, 0.5767554828338647 L -0.8156611451082663, 0.5785299442212751 \", \"type\": \"path\"}, {\"fillcolor\": \"#d0805f\", \"layer\": \"below\", \"line\": {\"color\": \"rgb(175,175,175)\", \"width\": 0.5}, \"path\": \"M -0.8137703872661979,0.5811865077654697 Q -0.19717279232447812, 0.033509550384453524 -0.9600816070703961, -0.27972005249020937L -0.9600816070703961, -0.27972005249020937 L -0.9605099623432004, -0.2782455969812706 L -0.9609360532067688, -0.27677048550630917 M -0.9609360532067688,-0.27677048550630917 Q -0.19717597293161818, 0.03349083006540411 -0.8156611451082663, 0.5785299442212751L -0.8156611451082663, 0.5785299442212751 L -0.8147168489766949, 0.5798589966478793 L -0.8137703872661979, 0.5811865077654697 \", \"type\": \"path\"}, {\"fillcolor\": \"#d0805f\", \"layer\": \"below\", \"line\": {\"color\": \"rgb(175,175,175)\", \"width\": 0.5}, \"path\": \"M -0.8585321457185419,0.5127597437084119 Q -0.19997353383124006, -0.003253577576436512 -0.8413969062916891, -0.5404176589294383L -0.8413969062916891, -0.5404176589294383 L -0.8462372063066174, -0.5328063350433921 L -0.8510086558230809, -0.5251516616313738 M -0.8510086558230809,-0.5251516616313738 Q -0.19997458002289917, -0.0031886273951500163 -0.8673190323520334, 0.49775264551776344L -0.8673190323520334, 0.49775264551776344 L -0.8629582118856766, 0.5052752957933683 L -0.8585321457185419, 0.5127597437084119 \", \"type\": \"path\"}, {\"fillcolor\": \"#d0805f\", \"layer\": \"below\", \"line\": {\"color\": \"rgb(175,175,175)\", \"width\": 0.5}, \"path\": \"M -0.8673190323520334,0.49775264551776344 Q -0.19241860384299098, -0.054544302132432665 -0.477097693895213, -0.8788502662455474L -0.477097693895213, -0.8788502662455474 L -0.48788174808479007, -0.8729097318083523 L -0.49859184634188286, -0.8668368766736867 M -0.49859184634188286,-0.8668368766736867 Q -0.1924528111909966, -0.054423482658523537 -0.8787129033094161, 0.4773506400514582L -0.8787129033094161, 0.4773506400514582 L -0.8730755640516914, 0.4875849253779499 L -0.8673190323520334, 0.49775264551776344 \", \"type\": \"path\"}, {\"fillcolor\": \"#d0805f\", \"layer\": \"below\", \"line\": {\"color\": \"rgb(175,175,175)\", \"width\": 0.5}, \"path\": \"M -0.8123466397447786,0.5831748767697104 Q -0.18088251724794943, -0.08533179333662973 -0.06652485582327824, -0.9977847681527775L -0.06652485582327824, -0.9977847681527775 L -0.06737175388956558, -0.997727942265748 L -0.06821860341682748, -0.9976703975501416 M -0.06821860341682748,-0.9976703975501416 Q -0.1808505932295731, -0.08539943166386701 -0.8137703872661979, 0.5811865077654697L -0.8137703872661979, 0.5811865077654697 L -0.8130591213353296, 0.5821811274967797 L -0.8123466397447786, 0.5831748767697104 \", \"type\": \"path\"}, {\"fillcolor\": \"#d0805f\", \"layer\": \"below\", \"line\": {\"color\": \"rgb(175,175,175)\", \"width\": 0.5}, \"path\": \"M -0.8924637201531285,0.45111917295814236 Q -0.1594659516767654, -0.12070878284459474 0.19190164721704273, -0.9814141622146002L 0.19190164721704273, -0.9814141622146002 L 0.175116092728124, -0.9845477916625658 L 0.15827947885675117, -0.9873943521070166 M 0.15827947885675117,-0.9873943521070166 Q -0.15959187011050666, -0.12054225398021717 -0.9064670943294935, 0.4222764579015093L -0.9064670943294935, 0.4222764579015093 L -0.8995810104580559, 0.43675394173752236 L -0.8924637201531285, 0.45111917295814236 \", \"type\": \"path\"}, {\"fillcolor\": \"#d0805f\", \"layer\": \"below\", \"line\": {\"color\": \"rgb(175,175,175)\", \"width\": 0.5}, \"path\": \"M -0.8521982451332073,0.5232190277425716 Q -0.12419225140312327, -0.15676825154164165 0.7043331712334929, -0.7098695541436969L 0.7043331712334929, -0.7098695541436969 L 0.699832688050716, -0.7143068029465415 L 0.6953042510828971, -0.7187155198171608 M 0.6953042510828971,-0.7187155198171608 Q -0.12422458171644471, -0.15674263394933222 -0.8585321457185419, 0.5127597437084119L -0.8585321457185419, 0.5127597437084119 L -0.8553811821063002, 0.5179990668895346 L -0.8521982451332073, 0.5232190277425716 \", \"type\": \"path\"}, {\"fillcolor\": \"#d0805f\", \"layer\": \"below\", \"line\": {\"color\": \"rgb(175,175,175)\", \"width\": 0.5}, \"path\": \"M -0.824061946993871,0.5664996977198404 Q -0.09642012902234466, -0.17522316832917506 0.9195550574152933, -0.39296118940928076L 0.9195550574152933, -0.39296118940928076 L 0.918293397234144, -0.39590053876721937 L 0.9170223414780293, -0.39883583744462164 M 0.9170223414780293,-0.39883583744462164 Q -0.09636164016046128, -0.17525534030546908 -0.8280436099227988, 0.5606636960478357L -0.8280436099227988, 0.5606636960478357 L -0.8260579323071803, 0.5635852131420643 L -0.824061946993871, 0.5664996977198404 \", \"type\": \"path\"}, {\"fillcolor\": \"#d0805f\", \"layer\": \"below\", \"line\": {\"color\": \"rgb(175,175,175)\", \"width\": 0.5}, \"path\": \"M -0.820660713556253,0.5714157796432835 Q -0.08140979236512581, -0.1826812680793165 0.9736180756075214, -0.22818379182208948L 0.9736180756075214, -0.22818379182208948 L 0.9730245729334911, -0.23070149645721244 L 0.972424559672203, -0.2332176574496927 M 0.972424559672203,-0.2332176574496927 Q -0.08133629651023541, -0.18271400293901688 -0.824061946993871, 0.5664996977198404L -0.824061946993871, 0.5664996977198404 L -0.8223650038134763, 0.5689602802506174 L -0.820660713556253, 0.5714157796432835 \", \"type\": \"path\"}, {\"fillcolor\": \"#d0805f\", \"layer\": \"below\", \"line\": {\"color\": \"rgb(175,175,175)\", \"width\": 0.5}, \"path\": \"M -0.8110770074905264,0.5849393882448102 Q -0.07147190663928969, -0.18679337932952725 0.9943795229651148, -0.10587428539390797L 0.9943795229651148, -0.10587428539390797 L 0.9942872381328143, -0.10673747273671208 L 0.9941942039968228, -0.10760057964120812 M 0.9941942039968228,-0.10760057964120812 Q -0.07143103441810944, -0.18680901295697397 -0.8123466397447786, 0.5831748767697104L -0.8123466397447786, 0.5831748767697104 L -0.8117123030827373, 0.5840574775003898 L -0.8110770074905264, 0.5849393882448102 \", \"type\": \"path\"}, {\"fillcolor\": \"#ca6f4c\", \"layer\": \"below\", \"line\": {\"color\": \"rgb(175,175,175)\", \"width\": 0.5}, \"path\": \"M -0.9505616703442664,0.31053584474633217 Q -0.19262970655178446, 0.053794015966215136 -0.9739187603522614, 0.22689699917344527L -0.9739187603522614, 0.22689699917344527 L -0.9737008081957871, 0.22783049865825922 L -0.973481961281852, 0.22876378878406145 M -0.973481961281852,0.22876378878406145 Q -0.1926195019483236, 0.05383054401712622 -0.9510381328128663, 0.3090735671904292L -0.9510381328128663, 0.3090735671904292 L -0.9508001826912552, 0.3098047975649761 L -0.9505616703442664, 0.31053584474633217 \", \"type\": \"path\"}, {\"fillcolor\": \"#ca6f4c\", \"layer\": \"below\", \"line\": {\"color\": \"rgb(175,175,175)\", \"width\": 0.5}, \"path\": \"M -0.9497224516441738,0.31309306099461864 Q -0.19603496728634517, 0.03962690501466881 -0.9967647920743633, 0.08037380967050982L -0.9967647920743633, 0.08037380967050982 L -0.9967349739149538, 0.08074275060187368 L -0.9967050191963407, 0.0811116804709536 M -0.9967050191963407,0.0811116804709536 Q -0.19603172596685053, 0.03964293650144531 -0.9499028635680639, 0.31254527637638707L -0.9499028635680639, 0.31254527637638707 L -0.9498126970965356, 0.3128191816916039 L -0.9497224516441738, 0.31309306099461864 \", \"type\": \"path\"}, {\"fillcolor\": \"#ca6f4c\", \"layer\": \"below\", \"line\": {\"color\": \"rgb(175,175,175)\", \"width\": 0.5}, \"path\": \"M -0.954367750581229,0.298633883962495 Q -0.19999773316410707, 0.0009522233029190382 -0.957168112127925, -0.28953273584426337L -0.957168112127925, -0.28953273584426337 L -0.9580160273688573, -0.2867146513598369 L -0.9588556456541041, -0.28389408376584946 M -0.9588556456541041,-0.28389408376584946 Q -0.19999698245695186, 0.0010986392099762194 -0.9556788536659984, 0.2944111557934641L -0.9556788536659984, 0.2944111557934641 L -0.9550256360210382, 0.2965232445232776 L -0.954367750581229, 0.298633883962495 \", \"type\": \"path\"}, {\"fillcolor\": \"#ca6f4c\", \"layer\": \"below\", \"line\": {\"color\": \"rgb(175,175,175)\", \"width\": 0.5}, \"path\": \"M -0.9516305474583148,0.307244692621676 Q -0.19932395454746385, -0.01643049431881386 -0.8884742021805054, -0.4589265649967479L -0.8884742021805054, -0.4589265649967479 L -0.8892490950135771, -0.45742326899441194 L -0.8900214442760875, -0.45591866459787245 M -0.8900214442760875,-0.45591866459787245 Q -0.1993327620616891, -0.016323295281837135 -0.952336802432106, 0.3050485448799776L -0.952336802432106, 0.3050485448799776 L -0.9519843082364403, 0.30614682240974855 L -0.9516305474583148, 0.307244692621676 \", \"type\": \"path\"}, {\"fillcolor\": \"#ca6f4c\", \"layer\": \"below\", \"line\": {\"color\": \"rgb(175,175,175)\", \"width\": 0.5}, \"path\": \"M -0.952336802432106,0.3050485448799776 Q -0.19037894693818053, -0.06128504354823819 -0.5955388850627605, -0.803326481810605L -0.5955388850627605, -0.803326481810605 L -0.5972626208088059, -0.8020457354693662 L -0.5989836022328169, -0.8007612904331719 M -0.5989836022328169,-0.8007612904331719 Q -0.1904221444529571, -0.061150690118241036 -0.9532124935494665, 0.30230107863057376L -0.9532124935494665, 0.30230107863057376 L -0.9527756383308006, 0.30367512740317637 L -0.952336802432106, 0.3050485448799776 \", \"type\": \"path\"}, {\"fillcolor\": \"#ca6f4c\", \"layer\": \"below\", \"line\": {\"color\": \"rgb(175,175,175)\", \"width\": 0.5}, \"path\": \"M -0.9532124935494665,0.30230107863057376 Q -0.16438557414219226, -0.11391831728893215 -0.05164983186390581, -0.998665256664329L -0.05164983186390581, -0.998665256664329 L -0.05353344885053447, -0.9985660568305771 L -0.05541687537299158, -0.9984633042450255 M -0.05541687537299158,-0.9984633042450255 Q -0.16438144988012982, -0.11392426842120332 -0.954367750581229, 0.298633883962495L -0.954367750581229, 0.298633883962495 L -0.95379188454747, 0.30046803652199944 L -0.9532124935494665, 0.30230107863057376 \", \"type\": \"path\"}, {\"fillcolor\": \"#ca6f4c\", \"layer\": \"below\", \"line\": {\"color\": \"rgb(175,175,175)\", \"width\": 0.5}, \"path\": \"M -0.9613737039985379,0.27524643732504805 Q -0.15171464023934486, -0.13031756572713507 0.12705681732364607, -0.9918954406446204L 0.12705681732364607, -0.9918954406446204 L 0.11642799626402606, -0.9931991349603281 L 0.1057858242365569, -0.9943889376851456 M 0.1057858242365569,-0.9943889376851456 Q -0.15218221989681105, -0.12977122927397525 -0.9651919443860433, 0.2615425596194415L -0.9651919443860433, 0.2615425596194415 L -0.9633071931891292, 0.26840128827947507 L -0.9613737039985379, 0.27524643732504805 \", \"type\": \"path\"}, {\"fillcolor\": \"#ca6f4c\", \"layer\": \"below\", \"line\": {\"color\": \"rgb(175,175,175)\", \"width\": 0.5}, \"path\": \"M -0.9496020015282548,0.31345819289585075 Q -0.11045846696206725, -0.16673010249019193 0.6589379205599315, -0.7521973257385016L 0.6589379205599315, -0.7521973257385016 L 0.6587266073669572, -0.7523823873183227 L 0.6585152421997594, -0.7525673895343806 M 0.6585152421997594,-0.7525673895343806 Q -0.11047324719831819, -0.16672030966099866 -0.9497224516441738, 0.31309306099461864L -0.9497224516441738, 0.31309306099461864 L -0.9496622441347305, 0.3132756327341584 L -0.9496020015282548, 0.31345819289585075 \", \"type\": \"path\"}, {\"fillcolor\": \"#ca6f4c\", \"layer\": \"below\", \"line\": {\"color\": \"rgb(175,175,175)\", \"width\": 0.5}, \"path\": \"M -0.9502028479598091,0.31163207108554775 Q -0.07112422899839543, -0.18692603898168872 0.9170223414780293, -0.39883583744462164L 0.9170223414780293, -0.39883583744462164 L 0.9167276880074371, -0.39951263564565653 L 0.9164325350334959, -0.40018921616165576 M 0.9164325350334959,-0.40018921616165576 Q -0.07115440324250656, -0.1869145550758495 -0.9505616703442664, 0.31053584474633217L -0.9505616703442664, 0.31053584474633217 L -0.9503824172084507, 0.31108400965176947 L -0.9502028479598091, 0.31163207108554775 \", \"type\": \"path\"}, {\"fillcolor\": \"#ca6f4c\", \"layer\": \"below\", \"line\": {\"color\": \"rgb(175,175,175)\", \"width\": 0.5}, \"path\": \"M -0.9495417238269731,0.3136407414729477 Q -0.056247376354327555, -0.19192767557925208 0.9686295740919917, -0.2485090505280779L 0.9686295740919917, -0.2485090505280779 L 0.9686003482297844, -0.24862293821998882 L 0.9685711089771063, -0.24873682247479678 M 0.9685711089771063,-0.24873682247479678 Q -0.056251494410816116, -0.19192646867107707 -0.9496020015282548, 0.31345819289585075L -0.9496020015282548, 0.31345819289585075 L -0.9495718670643254, 0.31354946863289546 L -0.9495417238269731, 0.3136407414729477 \", \"type\": \"path\"}, {\"fillcolor\": \"#ca6f4c\", \"layer\": \"below\", \"line\": {\"color\": \"rgb(175,175,175)\", \"width\": 0.5}, \"path\": \"M -0.949481411033113,0.3138232784587032 Q -0.04265460768136431, -0.1953985272297335 0.9938866690274344, -0.11040511369294048L 0.9938866690274344, -0.11040511369294048 L 0.9938746827510304, -0.11051296297963695 L 0.9938626847716134, -0.11062081096502874 M 0.9938626847716134,-0.11062081096502874 Q -0.04265702901704921, -0.19539799864747498 -0.9495417238269731, 0.3136407414729477L -0.9495417238269731, 0.3136407414729477 L -0.949511571816476, 0.3137320114151646 L -0.949481411033113, 0.3138232784587032 \", \"type\": \"path\"}, {\"fillcolor\": \"#c45e3a\", \"layer\": \"below\", \"line\": {\"color\": \"rgb(175,175,175)\", \"width\": 0.5}, \"path\": \"M -0.9731520136808497,0.2301633295486214 Q -0.19950794020937504, 0.014020762939741652 -0.9957780746272169, -0.09179338806097542L -0.9957780746272169, -0.09179338806097542 L -0.9958466567026177, -0.09104634168498284 L -0.9959146783336555, -0.0902992440697672 M -0.9959146783336555,-0.0902992440697672 Q -0.19950750219133961, 0.01402699430999495 -0.973481961281852, 0.22876378878406145L -0.973481961281852, 0.22876378878406145 L -0.9733172390327627, 0.22946361847064106 L -0.9731520136808497, 0.2301633295486214 \", \"type\": \"path\"}, {\"fillcolor\": \"#c45e3a\", \"layer\": \"below\", \"line\": {\"color\": \"rgb(175,175,175)\", \"width\": 0.5}, \"path\": \"M -0.9795128275298823,0.20138177848160693 Q -0.19972285757883268, -0.01052521546313065 -0.9529208033949432, -0.303219297633142L -0.9529208033949432, -0.303219297633142 L -0.9541543277836655, -0.2993150827668085 L -0.9553718562749258, -0.29540585003991127 M -0.9553718562749258,-0.29540585003991127 Q -0.19972558765035303, -0.010473282089257106 -0.9810283748272627, 0.19386419933494656L -0.9810283748272627, 0.19386419933494656 L -0.9802778075801045, 0.19762444172202873 L -0.9795128275298823, 0.20138177848160693 \", \"type\": \"path\"}, {\"fillcolor\": \"#c45e3a\", \"layer\": \"below\", \"line\": {\"color\": \"rgb(175,175,175)\", \"width\": 0.5}, \"path\": \"M -0.9750483216529588,0.2219927261009875 Q -0.19803941645713075, -0.027935452910578275 -0.8755956978892584, -0.48304469134627964L -0.8755956978892584, -0.48304469134627964 L -0.8774275001502448, -0.4797092681823983 L -0.8792465967808959, -0.4763668985658141 M -0.8792465967808959,-0.4763668985658141 Q -0.19805530861023568, -0.0278225579576055 -0.9764643230691074, 0.21567898778784605L -0.9764643230691074, 0.21567898778784605 L -0.9757614290647074, 0.21883700224048008 L -0.9750483216529588, 0.2219927261009875 \", \"type\": \"path\"}, {\"fillcolor\": \"#c45e3a\", \"layer\": \"below\", \"line\": {\"color\": \"rgb(175,175,175)\", \"width\": 0.5}, \"path\": \"M -0.9825754251081721,0.18586428912917863 Q -0.18485161015420362, -0.0763536654221546 -0.5649951353868632, -0.8250942352175175L -0.5649951353868632, -0.8250942352175175 L -0.5691223550440422, -0.8222528473584771 L -0.5732352855032007, -0.819390814846044 M -0.5732352855032007,-0.819390814846044 Q -0.184913917006503, -0.07620264626187284 -0.9840998345389667, 0.1776162032596642L -0.9840998345389667, 0.1776162032596642 L -0.9833462777461269, 0.18174184450158165 L -0.9825754251081721, 0.18586428912917863 \", \"type\": \"path\"}, {\"fillcolor\": \"#c45e3a\", \"layer\": \"below\", \"line\": {\"color\": \"rgb(175,175,175)\", \"width\": 0.5}, \"path\": \"M -0.9729862853115173,0.23086292165632533 Q -0.16118570986166603, -0.11840256304823314 -0.07066477936421203, -0.9975001197781418L -0.07066477936421203, -0.9975001197781418 L -0.07094700337275571, -0.9974800863738715 L -0.07122922170187004, -0.9974599731195963 M -0.07122922170187004,-0.9974599731195963 Q -0.16117664651163202, -0.11841490032620226 -0.9731520136808497, 0.2301633295486214L -0.9731520136808497, 0.2301633295486214 L -0.973069212368013, 0.23051314049636035 L -0.9729862853115173, 0.23086292165632533 \", \"type\": \"path\"}, {\"fillcolor\": \"#c45e3a\", \"layer\": \"below\", \"line\": {\"color\": \"rgb(175,175,175)\", \"width\": 0.5}, \"path\": \"M -0.9840998345389667,0.1776162032596642 Q -0.15039644014545753, -0.13183668226853182 0.04721437801139638, -0.9988847793960007L 0.04721437801139638, -0.9988847793960007 L 0.04215459859459251, -0.9991110998369144 L 0.03709373780321045, -0.9993117904917297 M 0.03709373780321045,-0.9993117904917297 Q -0.15051120556595568, -0.13170564528175183 -0.9855550078772183, 0.16935562124752843L -0.9855550078772183, 0.16935562124752843 L -0.9848360822325594, 0.1734874379683544 L -0.9840998345389667, 0.1776162032596642 \", \"type\": \"path\"}, {\"fillcolor\": \"#c45e3a\", \"layer\": \"below\", \"line\": {\"color\": \"rgb(175,175,175)\", \"width\": 0.5}, \"path\": \"M -0.9810283748272627,0.19386419933494656 Q -0.09761843886538252, -0.17455841541869466 0.6787732274883186, -0.7343479458983264L 0.6787732274883186, -0.7343479458983264 L 0.6752588537086167, -0.7375808297997752 L 0.6717290824325044, -0.7407968951165939 M 0.6717290824325044,-0.7407968951165939 Q -0.09774080003471518, -0.17448993096615584 -0.9825754251081721, 0.18586428912917863L -0.9825754251081721, 0.18586428912917863 L -0.9818100480342644, 0.18986581993332902 L -0.9810283748272627, 0.19386419933494656 \", \"type\": \"path\"}, {\"fillcolor\": \"#c45e3a\", \"layer\": \"below\", \"line\": {\"color\": \"rgb(175,175,175)\", \"width\": 0.5}, \"path\": \"M -0.9729309307548898,0.23109609252521765 Q -0.06403390924518178, -0.18947205194112357 0.9136537161824769, -0.40649340327482547L 0.9136537161824769, -0.40649340327482547 L 0.9136036999091455, -0.4066058035890781 L 0.9135536698080039, -0.40671819774916473 M 0.9135536698080039,-0.40671819774916473 Q -0.06403451566209792, -0.18947184699559072 -0.9729862853115173, 0.23086292165632533L -0.9729862853115173, 0.23086292165632533 L -0.9729586150181685, 0.23097950874899573 L -0.9729309307548898, 0.23109609252521765 \", \"type\": \"path\"}, {\"fillcolor\": \"#c45e3a\", \"layer\": \"below\", \"line\": {\"color\": \"rgb(175,175,175)\", \"width\": 0.5}, \"path\": \"M -0.9779897063178242,0.20865314360530468 Q -0.042376888499504384, -0.19545894535963448 0.9765890710284248, -0.21511342670284034L 0.9765890710284248, -0.21511342670284034 L 0.975798515595865, -0.21867157328035697 L 0.9749949963043827, -0.2222268147218438 M 0.9749949963043827,-0.2222268147218438 Q -0.04236326840964813, -0.1954618977950744 -0.9795128275298823, 0.20138177848160693L -0.9795128275298823, 0.20138177848160693 L -0.9787580194781232, 0.20501887549018913 L -0.9779897063178242, 0.20865314360530468 \", \"type\": \"path\"}, {\"fillcolor\": \"#c45e3a\", \"layer\": \"below\", \"line\": {\"color\": \"rgb(175,175,175)\", \"width\": 0.5}, \"path\": \"M -0.9743519795925237,0.22502937555823757 Q -0.03267996989939897, -0.1973119853616966 0.9948736926598176, -0.10112534624622431L 0.9948736926598176, -0.10112534624622431 L 0.9947300480038593, -0.1025286867088415 L 0.994584423836855, -0.10393182313955247 M 0.994584423836855,-0.10393182313955247 Q -0.032650952679238794, -0.19731678917197623 -0.9750483216529588, 0.2219927261009875L -0.9750483216529588, 0.2219927261009875 L -0.974701333195957, 0.22351132200858198 L -0.9743519795925237, 0.22502937555823757 \", \"type\": \"path\"}, {\"fillcolor\": \"#bf4d28\", \"layer\": \"below\", \"line\": {\"color\": \"rgb(175,175,175)\", \"width\": 0.5}, \"path\": \"M -0.9999922688305255,-0.003932210469711053 Q -0.19890235039365356, -0.020924985254003603 -0.9789179863441734, -0.2042537050138107L -0.9789179863441734, -0.2042537050138107 L -0.9814192134826977, -0.19187581245952579 L -0.9837639353075154, -0.17946732178385746 M -0.9837639353075154,-0.17946732178385746 Q -0.1989058347723083, -0.020891837964410707 -0.9995837162807328, -0.028851241678640203L -0.9995837162807328, -0.028851241678640203 L -0.999865625765539, -0.01639299888633238 L -0.9999922688305255, -0.003932210469711053 \", \"type\": \"path\"}, {\"fillcolor\": \"#bf4d28\", \"layer\": \"below\", \"line\": {\"color\": \"rgb(175,175,175)\", \"width\": 0.5}, \"path\": \"M -0.99684363951234,0.07938991348900691 Q -0.19910103720902095, -0.018941409194990207 -0.9639914345709478, -0.26593328876589717L -0.9639914345709478, -0.26593328876589717 L -0.9641613700748506, -0.2653165137253749 L -0.964330910957603, -0.26469963009358244 M -0.964330910957603,-0.26469963009358244 Q -0.1991014699842153, -0.018936859563418174 -0.9969408330600794, 0.07815993460510837L -0.9969408330600794, 0.07815993460510837 L -0.9968924259817274, 0.07877493903689249 L -0.99684363951234, 0.07938991348900691 \", \"type\": \"path\"}, {\"fillcolor\": \"#bf4d28\", \"layer\": \"below\", \"line\": {\"color\": \"rgb(175,175,175)\", \"width\": 0.5}, \"path\": \"M -0.9970554620227622,0.07668380305237955 Q -0.19607969397246558, -0.039404994755287685 -0.8900214442760875, -0.45591866459787245L -0.8900214442760875, -0.45591866459787245 L -0.8905990356755467, -0.45478935525558023 L -0.8911751941444267, -0.45365931417931166 M -0.8911751941444267,-0.45365931417931166 Q -0.19608591801642872, -0.03937401117049672 -0.997223307296898, 0.07446929154917878L -0.997223307296898, 0.07446929154917878 L -0.9971399994259001, 0.07557659389596705 L -0.9970554620227622, 0.07668380305237955 \", \"type\": \"path\"}, {\"fillcolor\": \"#bf4d28\", \"layer\": \"below\", \"line\": {\"color\": \"rgb(175,175,175)\", \"width\": 0.5}, \"path\": \"M -0.9989461452725535,0.045897699780124514 Q -0.1794569214274016, -0.08829050544537287 -0.5732352855032007, -0.819390814846044L -0.5732352855032007, -0.819390814846044 L -0.5772169230850636, -0.8165908545313325 L -0.5811848845419213, -0.8137715465534499 M -0.5811848845419213,-0.8137715465534499 Q -0.1795162657211765, -0.08816978133988972 -0.9992960610501614, 0.03751509522354889L -0.9992960610501614, 0.03751509522354889 L -0.9991298943566627, 0.041706764473453034 L -0.9989461452725535, 0.045897699780124514 \", \"type\": \"path\"}, {\"fillcolor\": \"#bf4d28\", \"layer\": \"below\", \"line\": {\"color\": \"rgb(175,175,175)\", \"width\": 0.5}, \"path\": \"M -0.9965838348122134,0.08258728831353565 Q -0.15180546494478767, -0.13021175374326563 -0.0701003143992036, -0.9975399470302594L -0.0701003143992036, -0.9975399470302594 L -0.07038254969883062, -0.9975200733308035 L -0.07066477936421203, -0.9975001197781418 M -0.07066477936421203,-0.9975001197781418 Q -0.15179410862703085, -0.13022499217172243 -0.9966447000979386, 0.08184950682007826L -0.9966447000979386, 0.08184950682007826 L -0.9966143357264137, 0.08221840319903594 L -0.9965838348122134, 0.08258728831353565 \", \"type\": \"path\"}, {\"fillcolor\": \"#bf4d28\", \"layer\": \"below\", \"line\": {\"color\": \"rgb(175,175,175)\", \"width\": 0.5}, \"path\": \"M -0.9981720758952175,0.06043597358388525 Q -0.14372998831496225, -0.13907440619675793 0.02754791562242435, -0.9996204841562921L 0.02754791562242435, -0.9996204841562921 L 0.023352693099836896, -0.9997272886767595 L 0.019157059305984565, -0.999816486700808 M 0.019157059305984565,-0.999816486700808 Q -0.14381598207134486, -0.1389854787409628 -0.9985790009638957, 0.05329145179058164L -0.9985790009638957, 0.05329145179058164 L -0.9983819293148394, 0.05686407668800324 L -0.9981720758952175, 0.06043597358388525 \", \"type\": \"path\"}, {\"fillcolor\": \"#bf4d28\", \"layer\": \"below\", \"line\": {\"color\": \"rgb(175,175,175)\", \"width\": 0.5}, \"path\": \"M -0.9995837162807328,-0.028851241678640203 Q -0.05945925453460953, -0.19095705551298314 0.8065080685997791, -0.5912230841936519L 0.8065080685997791, -0.5912230841936519 L 0.797447822343439, -0.6033879105846478 L 0.7882041064186479, -0.6154139148774431 M 0.7882041064186479,-0.6154139148774431 Q -0.05981109812952062, -0.19084714443905326 -0.9984599591162912, -0.05547711277179262L -0.9984599591162912, -0.05547711277179262 L -0.9991105376540572, -0.04216792084773253 L -0.9995837162807328, -0.028851241678640203 \", \"type\": \"path\"}, {\"fillcolor\": \"#bf4d28\", \"layer\": \"below\", \"line\": {\"color\": \"rgb(175,175,175)\", \"width\": 0.5}, \"path\": \"M -0.9969408330600794,0.07815993460510837 Q -0.04850767940135064, -0.19402836142970384 0.9164325350334959, -0.40018921616165576L 0.9164325350334959, -0.40018921616165576 L 0.9161368827170274, -0.4008655786239665 L 0.915840731219126, -0.40154172266405475 M 0.915840731219126,-0.40154172266405475 Q -0.04850726604811558, -0.19402846476879967 -0.9970554620227622, 0.07668380305237955L -0.9970554620227622, 0.07668380305237955 L -0.9969984207320065, 0.07742189004335255 L -0.9969408330600794, 0.07815993460510837 \", \"type\": \"path\"}, {\"fillcolor\": \"#bf4d28\", \"layer\": \"below\", \"line\": {\"color\": \"rgb(175,175,175)\", \"width\": 0.5}, \"path\": \"M -0.9999174702350132,0.012847284491727486 Q -0.017229892238173193, -0.19925644484799218 0.9872805796396671, -0.15898760035412485L 0.9872805796396671, -0.15898760035412485 L 0.9859778846383032, -0.16687603484076743 L 0.9846121615795148, -0.17475380187485295 M 0.9846121615795148,-0.17475380187485295 Q -0.017151257618389967, -0.19926322882586145 -0.9999922688305255, -0.003932210469711053L -0.9999922688305255, -0.003932210469711053 L -0.9999900644331863, 0.0044576939006601484 L -0.9999174702350132, 0.012847284491727486 \", \"type\": \"path\"}, {\"fillcolor\": \"#bf4d28\", \"layer\": \"below\", \"line\": {\"color\": \"rgb(175,175,175)\", \"width\": 0.5}, \"path\": \"M -0.9992960610501614,0.03751509522354889 Q -0.01114193328613311, -0.19968940212902475 0.9972667121569707, -0.07388575521455908L 0.9972667121569707, -0.07388575521455908 L 0.996962024148565, -0.07788916744705904 L 0.9966412649684826, -0.08189132409494233 M 0.9966412649684826,-0.08189132409494233 Q -0.011032079285240751, -0.1996955012679158 -0.9995969264542057, 0.02838986832137823L -0.9995969264542057, 0.02838986832137823 L -0.999456908183158, 0.03295282514386864 L -0.9992960610501614, 0.03751509522354889 \", \"type\": \"path\"}, {\"fillcolor\": \"#af4624\", \"layer\": \"below\", \"line\": {\"color\": \"rgb(175,175,175)\", \"width\": 0.5}, \"path\": \"M -0.9957780746272169,-0.09179338806097542 Q -0.19664256871449404, -0.03649246729621737 -0.9624095245520757, -0.2716024798330228L -0.9624095245520757, -0.2716024798330228 L -0.9627216538152069, -0.2704940244724694 L -0.9630325064151138, -0.269385210410341 M -0.9630325064151138,-0.269385210410341 Q -0.19664352772529087, -0.0364872992115444 -0.995568966122381, -0.09403421554951909L -0.995568966122381, -0.09403421554951909 L -0.9956741507654517, -0.0929138606317511 L -0.9957780746272169, -0.09179338806097542 \", \"type\": \"path\"}, {\"fillcolor\": \"#af4624\", \"layer\": \"below\", \"line\": {\"color\": \"rgb(175,175,175)\", \"width\": 0.5}, \"path\": \"M -0.995568966122381,-0.09403421554951909 Q -0.1916815554678833, -0.05708048084426749 -0.8848244692925983, -0.46592452021874936L -0.8848244692925983, -0.46592452021874936 L -0.8858074903295182, -0.4640528957738766 L -0.886786552419562, -0.4621791973334883 M -0.886786552419562,-0.4621791973334883 Q -0.19169516967962372, -0.05703474310891812 -0.995209246724778, -0.09776786401215887L -0.995209246724778, -0.09776786401215887 L -0.995390857010171, -0.0959012084415901 L -0.995568966122381, -0.09403421554951909 \", \"type\": \"path\"}, {\"fillcolor\": \"#af4624\", \"layer\": \"below\", \"line\": {\"color\": \"rgb(175,175,175)\", \"width\": 0.5}, \"path\": \"M -0.9923921001648305,-0.12311750294103994 Q -0.17184724422454278, -0.10231580841898452 -0.5811848845419213, -0.8137715465534499L -0.5811848845419213, -0.8137715465534499 L -0.5850229735406273, -0.8110167201911946 L -0.5888480048292261, -0.808243791939437 M -0.5888480048292261,-0.808243791939437 Q -0.1719084367228374, -0.10221296093700749 -0.9913423488158093, -0.13130250357230158L -0.9913423488158093, -0.13130250357230158 L -0.9918756673983711, -0.12721108608543494 L -0.9923921001648305, -0.12311750294103994 \", \"type\": \"path\"}, {\"fillcolor\": \"#af4624\", \"layer\": \"below\", \"line\": {\"color\": \"rgb(175,175,175)\", \"width\": 0.5}, \"path\": \"M -0.9962247011756081,-0.0868121233905166 Q -0.14031170242295238, -0.14252237074639498 -0.07122922170187004, -0.9974599731195963L -0.07122922170187004, -0.9974599731195963 L -0.07151143432896206, -0.9974397800169265 L -0.0717936412314393, -0.9974195070674783 M -0.0717936412314393,-0.9974195070674783 Q -0.14029856699613444, -0.1425353012373818 -0.9961592954526641, -0.08755945456232472L -0.9961592954526641, -0.08755945456232472 L -0.9961920683939829, -0.08718579510974331 L -0.9962247011756081, -0.0868121233905166 \", \"type\": \"path\"}, {\"fillcolor\": \"#af4624\", \"layer\": \"below\", \"line\": {\"color\": \"rgb(175,175,175)\", \"width\": 0.5}, \"path\": \"M -0.9931423799725825,-0.11691113335518834 Q -0.13145985196402626, -0.15072593446914273 0.019157059305984565, -0.999816486700808L 0.019157059305984565, -0.999816486700808 L 0.015539860107635042, -0.9998792490835257 L 0.011922457522521737, -0.9999289249774824 M 0.011922457522521737,-0.9999289249774824 Q -0.13153398762132568, -0.1506612428610389 -0.9923921001648305, -0.12311750294103994L -0.9923921001648305, -0.12311750294103994 L -0.9927720900133604, -0.1200149044515063 L -0.9931423799725825, -0.11691113335518834 \", \"type\": \"path\"}, {\"fillcolor\": \"#af4624\", \"layer\": \"below\", \"line\": {\"color\": \"rgb(175,175,175)\", \"width\": 0.5}, \"path\": \"M -0.9789179863441734,-0.2042537050138107 Q -0.039063861966957034, -0.1961479408207655 0.8259746446975453, -0.563707270058462L 0.8259746446975453, -0.563707270058462 L 0.8163572945166406, -0.5775471995339176 L 0.8065080685997791, -0.5912230841936519 M 0.8065080685997791,-0.5912230841936519 Q -0.03942663758886466, -0.1960753432954698 -0.9723490594724384, -0.23353223876600931L -0.9723490594724384, -0.23353223876600931 L -0.9757433469704733, -0.2189176119978897 L -0.9789179863441734, -0.2042537050138107 \", \"type\": \"path\"}, {\"fillcolor\": \"#af4624\", \"layer\": \"below\", \"line\": {\"color\": \"rgb(175,175,175)\", \"width\": 0.5}, \"path\": \"M -0.9960490401098324,-0.0888048968035071 Q -0.03228586301532568, -0.19737685540446637 0.915840731219126, -0.40154172266405475L 0.915840731219126, -0.40154172266405475 L 0.9155440807011573, -0.4022176479135055 L 0.9152469313247594, -0.40289335400402304 M 0.9152469313247594,-0.40289335400402304 Q -0.03228348850001831, -0.1973772438004675 -0.9959146783336555, -0.0902992440697672L -0.9959146783336555, -0.0902992440697672 L -0.9959821394820491, -0.08955209563578144 L -0.9960490401098324, -0.0888048968035071 \", \"type\": \"path\"}, {\"fillcolor\": \"#af4624\", \"layer\": \"below\", \"line\": {\"color\": \"rgb(175,175,175)\", \"width\": 0.5}, \"path\": \"M -0.9886681050422785,-0.15011788058759062 Q -0.0038604849612519625, -0.19996273816854968 0.9821371835011534, -0.18816629024461778L 0.9821371835011534, -0.18816629024461778 L 0.9809911987823651, -0.19405222985458903 L 0.9798099400077347, -0.19993119181868382 M 0.9798099400077347,-0.19993119181868382 Q -0.00378447385369056, -0.19996419118844938 -0.9866732752077593, -0.16271400674432804L -0.9866732752077593, -0.16271400674432804 L -0.9876907702973489, -0.15641912373309622 L -0.9886681050422785, -0.15011788058759062 \", \"type\": \"path\"}, {\"fillcolor\": \"#af4624\", \"layer\": \"below\", \"line\": {\"color\": \"rgb(175,175,175)\", \"width\": 0.5}, \"path\": \"M -0.9901201770525428,-0.14022137851783223 Q 0.00753950491728855, -0.19985783913973 0.9978705339388071, -0.06522574259201745L 0.9978705339388071, -0.06522574259201745 L 0.9975780203293959, -0.06955640413134755 L 0.9972667121569707, -0.07388575521455908 M 0.9972667121569707,-0.07388575521455908 Q 0.007671553286787732, -0.19985281401613533 -0.9886681050422785, -0.15011788058759062L -0.9886681050422785, -0.15011788058759062 L -0.9894065147992749, -0.14517144510113603 L -0.9901201770525428, -0.14022137851783223 \", \"type\": \"path\"}, {\"fillcolor\": \"#9f4021\", \"layer\": \"below\", \"line\": {\"color\": \"rgb(175,175,175)\", \"width\": 0.5}, \"path\": \"M -0.9377703336362753,-0.34725610340454643 Q -0.17780236250103246, -0.0915768523648386 -0.8272595099972835, -0.5618199917402855L -0.8272595099972835, -0.5618199917402855 L -0.8343968323693624, -0.5511641553402891 L -0.8413969062916891, -0.5404176589294383 M -0.8413969062916891,-0.5404176589294383 Q -0.17791046376203867, -0.09136666177537806 -0.9294301914084047, -0.36899799362399827L -0.9294301914084047, -0.36899799362399827 L -0.9336635516230463, -0.35815132607689626 L -0.9377703336362753, -0.34725610340454643 \", \"type\": \"path\"}, {\"fillcolor\": \"#9f4021\", \"layer\": \"below\", \"line\": {\"color\": \"rgb(175,175,175)\", \"width\": 0.5}, \"path\": \"M -0.943331599603366,-0.33185161320951095 Q -0.15525122348379405, -0.12608353424133165 -0.5183152707751691, -0.8551896164484594L -0.5183152707751691, -0.8551896164484594 L -0.526129070555486, -0.8504047278304727 L -0.5338987014709246, -0.8455484472031515 M -0.5338987014709246,-0.8455484472031515 Q -0.15537390414035634, -0.1259323227459232 -0.9377703336362753, -0.34725610340454643L -0.9377703336362753, -0.34725610340454643 L -0.9405825032335128, -0.33956524352615786 L -0.943331599603366, -0.33185161320951095 \", \"type\": \"path\"}, {\"fillcolor\": \"#9f4021\", \"layer\": \"below\", \"line\": {\"color\": \"rgb(175,175,175)\", \"width\": 0.5}, \"path\": \"M -0.961711335286034,-0.27406442232138306 Q -0.1255780266202261, -0.155660397115547 -0.06445446001238794, -0.997920649442886L -0.06445446001238794, -0.997920649442886 L -0.0654896931595045, -0.9978532457680708 L -0.06652485582327824, -0.9977847681527775 M -0.06652485582327824,-0.9977847681527775 Q -0.12552041727802907, -0.1557068554892477 -0.9609360532067688, -0.27677048550630917L -0.9609360532067688, -0.27677048550630917 L -0.9613246464197404, -0.27541772670974024 L -0.961711335286034, -0.27406442232138306 \", \"type\": \"path\"}, {\"fillcolor\": \"#9f4021\", \"layer\": \"below\", \"line\": {\"color\": \"rgb(175,175,175)\", \"width\": 0.5}, \"path\": \"M -0.9182714902291986,-0.39595134831472256 Q -0.09015654630752307, -0.17852674073622543 0.2264277802072418, -0.9740279566575186L 0.2264277802072418, -0.9740279566575186 L 0.20919731468261127, -0.9778734496495876 L 0.19190164721704273, -0.9814141622146002 M 0.19190164721704273,-0.9814141622146002 Q -0.09052135874634842, -0.17834204106355545 -0.9054643506862113, -0.42442232462065155L -0.9054643506862113, -0.42442232462065155 L -0.911979031273643, -0.4102368176031834 L -0.9182714902291986, -0.39595134831472256 \", \"type\": \"path\"}, {\"fillcolor\": \"#9f4021\", \"layer\": \"below\", \"line\": {\"color\": \"rgb(175,175,175)\", \"width\": 0.5}, \"path\": \"M -0.957168112127925,-0.28953273584426337 Q -0.053396140414567986, -0.1927403750873899 0.6717290824325044, -0.7407968951165939L 0.6717290824325044, -0.7407968951165939 L 0.6692282524083005, -0.7430568929621284 L 0.6667198187859756, -0.7453084483876429 M 0.6667198187859756,-0.7453084483876429 Q -0.05345393781065738, -0.19272435376084252 -0.9553718562749258, -0.29540585003991127L -0.9553718562749258, -0.29540585003991127 L -0.9562744930469406, -0.29247067194475534 L -0.957168112127925, -0.28953273584426337 \", \"type\": \"path\"}, {\"fillcolor\": \"#9f4021\", \"layer\": \"below\", \"line\": {\"color\": \"rgb(175,175,175)\", \"width\": 0.5}, \"path\": \"M -0.9645338390192962,-0.2639592267504555 Q -0.015060719554186345, -0.19943213062721402 0.9139535233960622, -0.40581887224711927L 0.9139535233960622, -0.40581887224711927 L 0.9138036820280373, -0.40615616542409105 L 0.9136537161824769, -0.40649340327482547 M 0.9136537161824769,-0.40649340327482547 Q -0.015057772804518647, -0.19943235313801896 -0.964330910957603, -0.26469963009358244L -0.964330910957603, -0.26469963009358244 L -0.9644324460402289, -0.2643294478957288 L -0.9645338390192962, -0.2639592267504555 \", \"type\": \"path\"}, {\"fillcolor\": \"#9f4021\", \"layer\": \"below\", \"line\": {\"color\": \"rgb(175,175,175)\", \"width\": 0.5}, \"path\": \"M -0.9639914345709478,-0.26593328876589717 Q 0.0022498713974609097, -0.19998734479635177 0.9697302305418373, -0.24417878690270178L 0.9697302305418373, -0.24417878690270178 L 0.9695577291047227, -0.24486283902073236 L 0.9693847451341947, -0.2455467692744345 M 0.9693847451341947,-0.2455467692744345 Q 0.002262318929482551, -0.19998720437333312 -0.9635819797238305, -0.2674131043002633L -0.9635819797238305, -0.2674131043002633 L -0.9637869911642879, -0.26667327511861555 L -0.9639914345709478, -0.26593328876589717 \", \"type\": \"path\"}, {\"fillcolor\": \"#9f4021\", \"layer\": \"below\", \"line\": {\"color\": \"rgb(175,175,175)\", \"width\": 0.5}, \"path\": \"M -0.9600816070703961,-0.27972005249020937 Q 0.018562591814750527, -0.19913671229865917 0.9952400178620947, -0.09745412687955987L 0.9952400178620947, -0.09745412687955987 L 0.9950585483602123, -0.09928990550537882 L 0.9948736926598176, -0.10112534624622431 M 0.9948736926598176,-0.10112534624622431 Q 0.01862839529444859, -0.19913056743944102 -0.9588556456541041, -0.28389408376584946L -0.9588556456541041, -0.28389408376584946 L -0.9594708961754576, -0.28180773479850474 L -0.9600816070703961, -0.27972005249020937 \", \"type\": \"path\"}, {\"fillcolor\": \"#8f391e\", \"layer\": \"below\", \"line\": {\"color\": \"rgb(175,175,175)\", \"width\": 0.5}, \"path\": \"M -0.7575086612978718,-0.6528251129197667 Q -0.1102376246791736, -0.16687619993604141 -0.3032359582892392, -0.9529155018155633L -0.3032359582892392, -0.9529155018155633 L -0.34333288030702513, -0.9392137846625134 L -0.38281334806672246, -0.9238257089635179 M -0.38281334806672246,-0.9238257089635179 Q -0.11034753566240606, -0.16680354124908148 -0.7004679092699896, -0.713683899273992L -0.7004679092699896, -0.713683899273992 L -0.7296230999977542, -0.6838494951008351 L -0.7575086612978718, -0.6528251129197667 \", \"type\": \"path\"}, {\"fillcolor\": \"#8f391e\", \"layer\": \"below\", \"line\": {\"color\": \"rgb(175,175,175)\", \"width\": 0.5}, \"path\": \"M -0.8827141463210136,-0.46991034877385307 Q -0.10661101553812907, -0.16921610847058505 -0.04279448125962398, -0.9990838965641072L -0.04279448125962398, -0.9990838965641072 L -0.04524419967338547, -0.998975956865787 L -0.04769364604412323, -0.9988620105535188 M -0.04769364604412323,-0.9988620105535188 Q -0.10640579663813197, -0.169345228577024 -0.8792465967808959, -0.4763668985658141L -0.8792465967808959, -0.4763668985658141 L -0.8809862863954593, -0.4731418002915592 L -0.8827141463210136, -0.46991034877385307 \", \"type\": \"path\"}, {\"fillcolor\": \"#8f391e\", \"layer\": \"below\", \"line\": {\"color\": \"rgb(175,175,175)\", \"width\": 0.5}, \"path\": \"M -0.8057877305328784,-0.5922044691849879 Q -0.04905269636947024, -0.1938912916530409 0.4272251396874522, -0.9041452759479734L 0.4272251396874522, -0.9041452759479734 L 0.39091574732701706, -0.9204264655537452 L 0.35398735977495366, -0.9352502066931381 M 0.35398735977495366,-0.9352502066931381 Q -0.049253768827943294, -0.19384031122613152 -0.7575086612978718, -0.6528251129197667L -0.7575086612978718, -0.6528251129197667 L -0.7822356536169043, -0.6229826500076342 L -0.8057877305328784, -0.5922044691849879 \", \"type\": \"path\"}, {\"fillcolor\": \"#8f391e\", \"layer\": \"below\", \"line\": {\"color\": \"rgb(175,175,175)\", \"width\": 0.5}, \"path\": \"M -0.8718940827618763,-0.4896945052222113 Q -0.03016979595953507, -0.197711363891305 0.6861642404284342, -0.7274466545096416L 0.6861642404284342, -0.7274466545096416 L 0.6824774573467298, -0.7309066426114504 L 0.6787732274883186, -0.7343479458983264 M 0.6787732274883186,-0.7343479458983264 Q -0.030166296737011183, -0.19771189782401713 -0.8668800750009845, -0.4985167354926888L -0.8668800750009845, -0.4985167354926888 L -0.8693982694155327, -0.4941119803620197 L -0.8718940827618763, -0.4896945052222113 \", \"type\": \"path\"}, {\"fillcolor\": \"#8f391e\", \"layer\": \"below\", \"line\": {\"color\": \"rgb(175,175,175)\", \"width\": 0.5}, \"path\": \"M -0.8755956978892584,-0.48304469134627964 Q 0.011325920292494133, -0.19967905130365596 0.9246012440008704, -0.38093639835547743L 0.9246012440008704, -0.38093639835547743 L 0.9233307856528246, -0.384005547180946 L 0.9220501395139463, -0.3870704589894613 M 0.9220501395139463,-0.3870704589894613 Q 0.011422488736741341, -0.19967355045438295 -0.8718940827618763, -0.4896945052222113L -0.8718940827618763, -0.4896945052222113 L -0.8737512165234357, -0.48637311975870556 L -0.8755956978892584, -0.48304469134627964 \", \"type\": \"path\"}, {\"fillcolor\": \"#8f391e\", \"layer\": \"below\", \"line\": {\"color\": \"rgb(175,175,175)\", \"width\": 0.5}, \"path\": \"M -0.8914308043794754,-0.4531568392988915 Q 0.021919189443368563, -0.198795244244287 0.9687463436280315, -0.24805346542090487L 0.9687463436280315, -0.24805346542090487 L 0.9686879856433768, -0.24828126483924856 L 0.9686295740919917, -0.2485090505280779 M 0.9686295740919917,-0.2485090505280779 Q 0.02192847729534185, -0.1987942199449161 -0.8911751941444267, -0.45365931417931166L -0.8911751941444267, -0.45365931417931166 L -0.8913030346709254, -0.4534080947517359 L -0.8914308043794754, -0.4531568392988915 \", \"type\": \"path\"}, {\"fillcolor\": \"#8f391e\", \"layer\": \"below\", \"line\": {\"color\": \"rgb(175,175,175)\", \"width\": 0.5}, \"path\": \"M -0.8916861313021275,-0.4526542203972533 Q 0.035803670428871684, -0.19676914693066275 0.9939821379132905, -0.10954227270476143L 0.9939821379132905, -0.10954227270476143 L 0.9939583409146912, -0.1097579907164602 L 0.9939344971000996, -0.10997370355849638 M 0.9939344971000996,-0.10997370355849638 Q 0.03581643082133873, -0.19676682465095652 -0.8914308043794754, -0.4531568392988915L -0.8914308043794754, -0.4531568392988915 L -0.8915585032599249, -0.4529055478407419 L -0.8916861313021275, -0.4526542203972533 \", \"type\": \"path\"}, {\"fillcolor\": \"#f0f3e7\", \"layer\": \"below\", \"line\": {\"color\": \"rgb(175,175,175)\", \"width\": 0.5}, \"path\": \"M -0.555984467830286,-0.8311926801479147 Q -0.06094882090692483, -0.19048685316854708 -0.029788176455491224, -0.9995562338075115L -0.029788176455491224, -0.9995562338075115 L -0.033370219573997315, -0.999443059131226 L -0.036951834090696266, -0.9993170477667904 M -0.036951834090696266,-0.9993170477667904 Q -0.06059509712169434, -0.19059967000184558 -0.5469079810752825, -0.8371927258619477L -0.5469079810752825, -0.8371927258619477 L -0.5514543848772745, -0.8342050475750112 L -0.555984467830286, -0.8311926801479147 \", \"type\": \"path\"}, {\"fillcolor\": \"#f0f3e7\", \"layer\": \"below\", \"line\": {\"color\": \"rgb(175,175,175)\", \"width\": 0.5}, \"path\": \"M -0.3032359582892392,-0.9529155018155633 Q 0.023208173281177195, -0.1986488879731041 0.5147297810439737, -0.8573524669040283L 0.5147297810439737, -0.8573524669040283 L 0.47155822537316905, -0.8818349279104948 L 0.4272251396874522, -0.9041452759479734 M 0.4272251396874522,-0.9041452759479734 Q 0.023102835857915748, -0.19866116624877195 -0.20833886086140574, -0.9780567054393993L -0.20833886086140574, -0.9780567054393993 L -0.2560961126748459, -0.9666513234216527 L -0.3032359582892392, -0.9529155018155633 \", \"type\": \"path\"}, {\"fillcolor\": \"#f0f3e7\", \"layer\": \"below\", \"line\": {\"color\": \"rgb(175,175,175)\", \"width\": 0.5}, \"path\": \"M -0.477097693895213,-0.8788502662455474 Q 0.04076590623736224, -0.1958012790781679 0.7882041064186479, -0.6154139148774431L 0.7882041064186479, -0.6154139148774431 L 0.7792193652490524, -0.6267512910404444 L 0.770071563332117, -0.6379575121802621 M 0.770071563332117,-0.6379575121802621 Q 0.04082070467629141, -0.19578986201979665 -0.45097514099624586, -0.8925365102915489L -0.45097514099624586, -0.8925365102915489 L -0.46408687229320433, -0.8857896900309413 L -0.477097693895213, -0.8788502662455474 \", \"type\": \"path\"}, {\"fillcolor\": \"#f0f3e7\", \"layer\": \"below\", \"line\": {\"color\": \"rgb(175,175,175)\", \"width\": 0.5}, \"path\": \"M -0.5469079810752825,-0.8371927258619477 Q 0.06127142940475279, -0.1903833289411087 0.9325433248962699, -0.3610580939286779L 0.9325433248962699, -0.3610580939286779 L 0.9301241040525401, -0.36724535539671505 L 0.9276638323359118, -0.3734164085519667 M 0.9276638323359118,-0.3734164085519667 Q 0.06147842224765087, -0.1903165878160376 -0.5338987014709246, -0.8455484472031515L -0.5338987014709246, -0.8455484472031515 L -0.5404194905616534, -0.8413957298566965 L -0.5469079810752825, -0.8371927258619477 \", \"type\": \"path\"}, {\"fillcolor\": \"#f0f3e7\", \"layer\": \"below\", \"line\": {\"color\": \"rgb(175,175,175)\", \"width\": 0.5}, \"path\": \"M -0.601960088628896,-0.7985261747105674 Q 0.06681309309525442, -0.18850997477864367 0.9704721587382051, -0.24121316115421235L 0.9704721587382051, -0.24121316115421235 L 0.9701023278891852, -0.2426962575401274 L 0.9697302305418373, -0.24417878690270178 M 0.9697302305418373,-0.24417878690270178 Q 0.06687579125802953, -0.18848774109637068 -0.5989836022328169, -0.8007612904331719L -0.5989836022328169, -0.8007612904331719 L -0.6004728853917646, -0.7996451174798035 L -0.601960088628896, -0.7985261747105674 \", \"type\": \"path\"}, {\"fillcolor\": \"#f0f3e7\", \"layer\": \"below\", \"line\": {\"color\": \"rgb(175,175,175)\", \"width\": 0.5}, \"path\": \"M -0.5955388850627605,-0.803326481810605 Q 0.08254403709258817, -0.18217157281106577 0.9966412649684826, -0.08189132409494233L 0.9966412649684826, -0.08189132409494233 L 0.9963786279105947, -0.08502723000898323 L 0.9961061238306093, -0.0881622939082178 M 0.9961061238306093,-0.0881622939082178 Q 0.08272705357375125, -0.18208853507842193 -0.5888480048292261, -0.808243791939437L -0.5888480048292261, -0.808243791939437 L -0.5921985488176482, -0.805792081605591 L -0.5955388850627605, -0.803326481810605 \", \"type\": \"path\"}, {\"fillcolor\": \"#e2ecde\", \"layer\": \"below\", \"line\": {\"color\": \"rgb(175,175,175)\", \"width\": 0.5}, \"path\": \"M -0.029788176455491224,-0.9995562338075115 Q 0.004406239635252348, -0.1999514567395715 0.07379141269574385, -0.9972736973430947L 0.07379141269574385, -0.9972736973430947 L 0.06657377897020296, -0.9977815051170404 L 0.059352659967173114, -0.9982370769285326 M 0.059352659967173114,-0.9982370769285326 Q 0.0039023640598683214, -0.19996192526264656 -0.020360038585624612, -0.9997927129304314L -0.020360038585624612, -0.9997927129304314 L -0.02507438630448198, -0.9996855881483205 L -0.029788176455491224, -0.9995562338075115 \", \"type\": \"path\"}, {\"fillcolor\": \"#e2ecde\", \"layer\": \"below\", \"line\": {\"color\": \"rgb(175,175,175)\", \"width\": 0.5}, \"path\": \"M -0.06445446001238794,-0.997920649442886 Q 0.06469878305979297, -0.18924605007920733 0.6618908386387851, -0.7496002386112519L 0.6618908386387851, -0.7496002386112519 L 0.6604156562324911, -0.7509002337215032 L 0.6589379205599315, -0.7521973257385016 M 0.6589379205599315,-0.7521973257385016 Q 0.06457653670833954, -0.18928779914922272 -0.06181901066139483, -0.9980873758949396L -0.06181901066139483, -0.9980873758949396 L -0.06313679037160602, -0.9980048826040742 L -0.06445446001238794, -0.997920649442886 \", \"type\": \"path\"}, {\"fillcolor\": \"#e2ecde\", \"layer\": \"below\", \"line\": {\"color\": \"rgb(175,175,175)\", \"width\": 0.5}, \"path\": \"M -0.06934765956015977,-0.9975925531566122 Q 0.10340274248996546, -0.17119542296905574 0.9152469313247594, -0.40289335400402304L 0.9152469313247594, -0.40289335400402304 L 0.914949283251842, -0.403568840567431 L 0.9146511366445865, -0.4042441072356726 M 0.9146511366445865,-0.4042441072356726 Q 0.10337324582998997, -0.17121323560569862 -0.06821860341682748, -0.9976703975501416L -0.06821860341682748, -0.9976703975501416 L -0.06878314250091228, -0.9976316350776469 L -0.06934765956015977, -0.9975925531566122 \", \"type\": \"path\"}, {\"fillcolor\": \"#e2ecde\", \"layer\": \"below\", \"line\": {\"color\": \"rgb(175,175,175)\", \"width\": 0.5}, \"path\": \"M -0.0701003143992036,-0.9975399470302594 Q 0.11722654250440295, -0.16204301198281712 0.9693847451341947, -0.2455467692744345L 0.9693847451341947, -0.2455467692744345 L 0.9692691544555618, -0.24600265490640597 L 0.9691533493814598, -0.24645848612433321 M 0.9691533493814598,-0.24645848612433321 Q 0.11721146130354487, -0.1620539210851981 -0.06934765956015977, -0.9975925531566122L -0.06934765956015977, -0.9975925531566122 L -0.06972399194103816, -0.9975663210773538 L -0.0701003143992036, -0.9975399470302594 \", \"type\": \"path\"}, {\"fillcolor\": \"#e2ecde\", \"layer\": \"below\", \"line\": {\"color\": \"rgb(175,175,175)\", \"width\": 0.5}, \"path\": \"M -0.07216990815740791,-0.9973923522649205 Q 0.12795162427654547, -0.15371526223831433 0.9939344971000996, -0.10997370355849638L 0.9939344971000996, -0.10997370355849638 L 0.9939106064706389, -0.11018941122070978 L 0.9938866690274344, -0.11040511369294048 M 0.9938866690274344,-0.11040511369294048 Q 0.12794725811691252, -0.15371889649735382 -0.0717936412314393, -0.9974195070674783L -0.0717936412314393, -0.9974195070674783 L -0.07198177597492662, -0.9974059474093262 L -0.07216990815740791, -0.9973923522649205 \", \"type\": \"path\"}, {\"fillcolor\": \"#d4e5d6\", \"layer\": \"below\", \"line\": {\"color\": \"rgb(175,175,175)\", \"width\": 0.5}, \"path\": \"M 0.2264277802072418,-0.9740279566575186 Q 0.11576765532616871, -0.16308847286145456 0.8448035898900185, -0.5350765314503501L 0.8448035898900185, -0.5350765314503501 L 0.8355117635863639, -0.5494725588314706 L 0.8259746446975453, -0.563707270058462 M 0.8259746446975453,-0.563707270058462 Q 0.1158524630318356, -0.16302823930061064 0.2606716460868589, -0.9654275182147893L 0.2606716460868589, -0.9654275182147893 L 0.24358767345529225, -0.969878881789184 L 0.2264277802072418, -0.9740279566575186 \", \"type\": \"path\"}, {\"fillcolor\": \"#d4e5d6\", \"layer\": \"below\", \"line\": {\"color\": \"rgb(175,175,175)\", \"width\": 0.5}, \"path\": \"M 0.0893678190835612,-0.9959986912201481 Q 0.1235862947476175, -0.15724639185226164 0.9466674480716084, -0.3222122635183035L 0.9466674480716084, -0.3222122635183035 L 0.9443846781555199, -0.3288427886773483 L 0.942055468215079, -0.3354571430243633 M 0.942055468215079,-0.3354571430243633 Q 0.12378055114522613, -0.15709352360356574 0.1057858242365569, -0.9943889376851456L 0.1057858242365569, -0.9943889376851456 L 0.09758014117580352, -0.9952276704594333 L 0.0893678190835612, -0.9959986912201481 \", \"type\": \"path\"}, {\"fillcolor\": \"#d4e5d6\", \"layer\": \"below\", \"line\": {\"color\": \"rgb(175,175,175)\", \"width\": 0.5}, \"path\": \"M 0.011054255898294655,-0.9999388998466532 Q 0.12356017409920911, -0.15726691761643052 0.9689210961493567, -0.24736998491476064L 0.9689210961493567, -0.24736998491476064 L 0.9688337801603353, -0.24771174057810633 L 0.9687463436280315, -0.24805346542090487 M 0.9687463436280315,-0.24805346542090487 Q 0.12357297456294714, -0.1572568598111549 0.011922457522521737, -0.9999289249774824L 0.011922457522521737, -0.9999289249774824 L 0.011488357793004392, -0.9999340066400482 L 0.011054255898294655, -0.9999388998466532 \", \"type\": \"path\"}, {\"fillcolor\": \"#d4e5d6\", \"layer\": \"below\", \"line\": {\"color\": \"rgb(175,175,175)\", \"width\": 0.5}, \"path\": \"M 0.04721437801139638,-0.9988847793960007 Q 0.14141945176247356, -0.14142326068649888 0.998883507401307, -0.047241281117927705L 0.998883507401307, -0.047241281117927705 L 0.998657829150867, -0.051793245463842466 L 0.9984114074689946, -0.05634413399619569 M 0.9984114074689946,-0.05634413399619569 Q 0.1416342874555749, -0.14120810393511973 0.059352659967173114, -0.9982370769285326L 0.059352659967173114, -0.9982370769285326 L 0.053284503145877335, -0.9985793717699645 L 0.04721437801139638, -0.9988847793960007 \", \"type\": \"path\"}, {\"fillcolor\": \"#c6decd\", \"layer\": \"below\", \"line\": {\"color\": \"rgb(175,175,175)\", \"width\": 0.5}, \"path\": \"M 0.7043331712334929,-0.7098695541436969 Q 0.16808663972527027, -0.10838303163257246 0.9372581886938776, -0.34863603905257967L 0.9372581886938776, -0.34863603905257967 L 0.9349213880951907, -0.35485489722161356 L 0.9325433248962699, -0.3610580939286779 M 0.9325433248962699,-0.3610580939286779 Q 0.16818852147183821, -0.10822486426471976 0.7150192060692138, -0.6991048097046331L 0.7150192060692138, -0.6991048097046331 L 0.7096965990262462, -0.7045074430625836 L 0.7043331712334929, -0.7098695541436969 \", \"type\": \"path\"}, {\"fillcolor\": \"#c6decd\", \"layer\": \"below\", \"line\": {\"color\": \"rgb(175,175,175)\", \"width\": 0.5}, \"path\": \"M 0.7402543568522643,-0.6723269198546497 Q 0.18096688449325649, -0.08515272583308402 0.989897589889677, -0.1417842076206264L 0.989897589889677, -0.1417842076206264 L 0.9886265056613835, -0.1503915965197601 L 0.9872805796396671, -0.15898760035412485 M 0.9872805796396671,-0.15898760035412485 Q 0.1811107283729074, -0.08484635565676918 0.7540684964846482, -0.6567957845551249L 0.7540684964846482, -0.6567957845551249 L 0.7472017810084275, -0.6645972452981084 L 0.7402543568522643, -0.6723269198546497 \", \"type\": \"path\"}, {\"fillcolor\": \"#c6decd\", \"layer\": \"below\", \"line\": {\"color\": \"rgb(175,175,175)\", \"width\": 0.5}, \"path\": \"M 0.7263134973169424,-0.6873635890962162 Q 0.1846274353044141, -0.07689414888607837 0.9995065603657314, -0.031410759078132795L 0.9995065603657314, -0.031410759078132795 L 0.9992263843066296, -0.03932725397863165 L 0.998883507401307, -0.047241281117927705 M 0.998883507401307,-0.047241281117927705 Q 0.1848061840587422, -0.07646354905212227 0.7402543568522643, -0.6723269198546497L 0.7402543568522643, -0.6723269198546497 L 0.7333224686835168, -0.6798809873234525 L 0.7263134973169424, -0.6873635890962162 \", \"type\": \"path\"}, {\"fillcolor\": \"#b8d7c5\", \"layer\": \"below\", \"line\": {\"color\": \"rgb(175,175,175)\", \"width\": 0.5}, \"path\": \"M 0.9142528326178754,-0.4051441200982574 Q 0.19312207453966432, -0.05199869542110015 0.9940768577253819, -0.10867934916455303L 0.9940768577253819, -0.10867934916455303 L 0.9940295914580314, -0.10911082121301817 L 0.9939821379132905, -0.10954227270476143 M 0.9939821379132905,-0.10954227270476143 Q 0.1931250928291145, -0.05198748426059788 0.9146511366445865, -0.4042441072356726L 0.9146511366445865, -0.4042441072356726 L 0.9144520953564409, -0.40469416266881686 L 0.9142528326178754, -0.4051441200982574 \", \"type\": \"path\"}, {\"fillcolor\": \"#aad0bc\", \"layer\": \"below\", \"line\": {\"color\": \"rgb(175,175,175)\", \"width\": 0.5}, \"path\": \"M 0.9713169595728378,-0.2377884859411365 Q 0.197228255172292, -0.03318155152631177 0.9956536440902435, -0.09313335068501902L 0.9956536440902435, -0.09313335068501902 L 0.9954491752858248, -0.09529396320214292 L 0.9952400178620947, -0.09745412687955987 M 0.9952400178620947,-0.09745412687955987 Q 0.197234267456649, -0.03314579522109944 0.972424559672203, -0.2332176574496927L 0.972424559672203, -0.2332176574496927 L 0.9718734467653334, -0.2355037228420617 L 0.9713169595728378, -0.2377884859411365 \", \"type\": \"path\"}, {\"fillcolor\": \"#f2e6ce\", \"layer\": \"below\", \"line\": {\"color\": \"rgb(150,150,150)\", \"width\": 0.45}, \"path\": \"M 1.1, 0.0 L 1.0997395282670144, 0.023936791076601974 L 1.0989582364235548, 0.047862246048742424 L 1.097656494477695, 0.0717650341805685 L 1.095834918914854, 0.09563383547090222 L 1.0934943724058384, 0.11945734601422292 L 1.0906359633982943, 0.14322428335402687 L 1.087261045591763, 0.16692339182602925 L 1.08337121729659, 0.19054344788867747 L 1.0789683206769873, 0.21407326543845184 L 1.074054440878615, 0.2375017011074359 L 1.068631905041085, 0.2608176595406482 L 1.0627032811958645, 0.2840100986506352 L 0.9660938919962404, 0.2581909987733047 L 0.97148355003735, 0.23710696321877103 L 0.9764131280714682, 0.21591063737039626 L 0.9808802915245339, 0.19461205948950167 L 0.9848829248150817, 0.17322131626243406 L 0.9884191323561482, 0.15174853802366295 L 0.9914872394529948, 0.13020389395820622 L 0.9940857930962167, 0.10859758728565719 L 0.9962135626498672, 0.08693985042809292 L 0.9978695404342681, 0.06524094016415317 L 0.9990529422032316, 0.04351113277158402 L 0.9997632075154675, 0.021760719160547247 L 1.0, 0.0 L 1.1 ,0.0\", \"type\": \"path\"}, {\"fillcolor\": \"#ecd5bb\", \"layer\": \"below\", \"line\": {\"color\": \"rgb(150,150,150)\", \"width\": 0.45}, \"path\": \"M 1.0532579284929848, 0.3172502735486082 L 1.0464159573223164, 0.33913661592523486 L 1.0391192496209887, 0.36087558114551543 L 1.0313709762882242, 0.38245772219982116 L 1.0231745044582004, 0.40387366022893406 L 1.0145333960368088, 0.4251140885997778 L 1.0054514061537736, 0.4461697769497612 L 0.995932481530799, 0.4670315751979782 L 0.985980758766461, 0.48769041752151937 L 0.9756005625385822, 0.5081373262951682 L 0.9647964037248754, 0.5283634159927686 L 0.9535729774426706, 0.5483598970485719 L 0.9419351610085779, 0.5681180796768791 L 0.9298880118189726, 0.5876293776483256 L 0.9174367651522242, 0.6068853120211618 L 0.9045868318936235, 0.6258775148259101 L 0.8913437961839977, 0.6445977327017991 L 0.8777134129930332, 0.6630378304833906 L 0.8637016056183636, 0.6811897947358437 L 0.8493144631115076, 0.6990457372372797 L 0.8345582376317746, 0.7165978984067332 L 0.8194393417292923, 0.7338386506761988 L 0.8039643455583306, 0.750760501805313 L 0.7881399740221379, 0.7673560981372233 L 0.771973103850529, 0.7836182277942371 L 0.7554707606114932, 0.799539823811855 L 0.7386401156581237, 0.8151139672098336 L 0.721488483012193, 0.8303338899989356 L 0.7040233161857296, 0.8451929781220668 L 0.6862522049419763, 0.8596847743285186 L 0.6681828719971405, 0.873802980980068 L 0.649823169664365, 0.8875414627877156 L 0.6311810764413825, 0.9008942494778717 L 0.6122646935433332, 0.913855538386833 L 0.5930822413822542, 0.9264196969824214 L 0.5736420559947708, 0.9385812653116897 L 0.5539525854195395, 0.9503349583736295 L 0.534022386026021, 0.961675668415852 L 0.5138601187961735, 0.9725984671542427 L 0.4934745455606878, 0.9830986079146246 L 0.4728745251913958, 0.9931715276954994 L 0.45206900975150777, 1.0028128491509727 L 0.4310670406053527, 1.0120183824929978 L 0.409877744489311, 1.0207841273121145 L 0.3885103295456468, 1.0291062743158905 L 0.36697408132096615, 1.0369812069843085 L 0.345278358731035, 1.044405503141382 L 0.3138894170282136, 0.9494595483103471 L 0.3336128012008783, 0.942710188167553 L 0.3531912086778607, 0.9355511584689914 L 0.3726161313539191, 0.9279855702837404 L 0.3918791278230479, 0.9200167113572706 L 0.4109718270468252, 0.9116480446827023 L 0.42988593199217795, 0.9028832069959085 L 0.4486132232369889, 0.8937260071951132 L 0.46714556254197587, 0.8841804246856751 L 0.4854748963872918, 0.8742506076507744 L 0.5035932594723086, 0.863940871248754 L 0.5214927781770643, 0.8532556957378997 L 0.5391656739838674, 0.842199724529474 L 0.5566042668575756, 0.8307777621698481 L 0.573800978583075, 0.8189947722526105 L 0.5907483360585136, 0.8068558752615596 L 0.607438974542855, 0.7943663463455163 L 0.623865640856342, 0.781531613025926 L 0.6400211965324814, 0.7683572528382425 L 0.6558986209201755, 0.7548489909081233 L 0.6714910142346578, 0.7410126974634851 L 0.6867916005559028, 0.7268543852835044 L 0.7017937307732081, 0.71238020708567 L 0.7164908854746708, 0.6975964528520211 L 0.7308766777803005, 0.682509547095739 L 0.7449448561175385, 0.6671260460692716 L 0.7586893069379769, 0.6514526349152119 L 0.7721040573740977, 0.6354961247611634 L 0.785183277834876, 0.6192634497598579 L 0.797921284539121, 0.6027616640758096 L 0.8103125419854524, 0.5859979388198173 L 0.8223516653578395, 0.5689795589326455 L 0.8340334228656583, 0.5517139200192379 L 0.8453527380172478, 0.5342085251348414 L 0.8563046918259798, 0.5164709815244355 L 0.8668845249478823, 0.4985089973168835 L 0.8770876397498867, 0.48033037817524415 L 0.8869096023078019, 0.46194302390469827 L 0.8963461443331463, 0.44335492501956303 L 0.905393165027999, 0.42457415927088926 L 0.9140467328670668, 0.4056088881361465 L 0.9223030873061898, 0.38646735327252524 L 0.9301586404165456, 0.3671578729353946 L 0.9376099784438401, 0.34768883836347375 L 0.9446538632918079, 0.3280687101322867 L 0.9512872339293785, 0.30830601447748623 L 0.9575072077208951, 0.28840933958964377 L 1.0532579284929848 ,0.3172502735486082\", \"type\": \"path\"}, {\"fillcolor\": \"#e6c4a9\", \"layer\": \"below\", \"line\": {\"color\": \"rgb(150,150,150)\", \"width\": 0.45}, \"path\": \"M 0.3123024150649366, 1.054735607412876 L 0.2896597499380816, 1.061177284559846 L 0.26688441933186985, 1.0671329376970289 L 0.2439868544510267, 1.0725998391082734 L 0.22097754248413004, 1.077575484927935 L 0.19786702180043045, 1.0820575962876597 L 0.17466587712322892, 1.0860441203601137 L 0.15138473468202737, 1.0895332312991892 L 0.12803425734566623, 1.0925233310762494 L 0.10462513973868263, 1.0950130502120334 L 0.08116810334312291, 1.0970012484038842 L 0.05767389158805672, 1.098487015048011 L 0.03415326492903667, 1.0994696696565518 L 0.010616995919761492, 1.0999487621692385 L -0.012924135721803462, 1.099924073159527 L -0.03645934805058445, 1.099395613935096 L -0.05997786183257985, 1.098363626532667 L -0.08346890548179896, 1.0968285836071519 L -0.10692171999369568, 1.0947911882151729 L -0.13032556387284233, 1.0922523734930614 L -0.15366971805258375, 1.0892133022294759 L -0.17694349080441732, 1.0856753663328405 L -0.20013622263485342, 1.0816401861938436 L -0.22323729116751295, 1.0771096099432924 L -0.2029429919704663, 0.979190554493902 L -0.18194202057713946, 0.9833092601762213 L -0.16085771891310663, 0.9869776057571276 L -0.13969974368416704, 0.9901939111177053 L -0.11847778533894755, 0.9929567031755102 L -0.09720156363063243, 0.995264716559248 L -0.07588082316527177, 0.9971168941883197 L -0.054525328938708956, 0.9985123877569699 L -0.03314486186416768, 0.9994505581228145 L -0.0117492142925486, 0.99993097559957 L 0.009651814472510446, 0.9999534201538531 L 0.031048422662760606, 0.9995178815059561 L 0.052430810534597014, 0.9986245591345554 L 0.07378918485738446, 0.9972738621853492 L 0.09511376339880238, 0.9954664092836667 L 0.11639477940515111, 0.9932030282511357 L 0.13762248607457034, 0.9904847557265355 L 0.1587871610211172, 0.9873128366910124 L 0.17987911072766402, 0.9836887238978724 L 0.20088867498557275, 0.9796140772072137 L 0.22180623131911514, 0.975090762825703 L 0.24262219939260896, 0.9701208524518443 L 0.26332704539825597, 0.9647066223271326 L 0.2839112864226696, 0.9588505521935234 L 0.3123024150649366 ,1.054735607412876\", \"type\": \"path\"}, {\"fillcolor\": \"#e1b396\", \"layer\": \"below\", \"line\": {\"color\": \"rgb(150,150,150)\", \"width\": 0.45}, \"path\": \"M -0.25695996749886973, 1.069566068601178 L -0.2800101480106703, 1.0637642205916886 L -0.3029295864012386, 1.0574656806169997 L -0.32570758114416953, 1.050673389586514 L -0.3483334967558163, 1.043390518951493 L -0.3707967687612021, 1.035620469224248 L -0.39308690862677687, 1.027366868390374 L -0.41519350865771476, 1.0186335702147737 L -0.4371062468574675, 1.0094246524422608 L -0.45881489174730267, 0.9997444148935823 L -0.4803093071435777, 0.98959737745775 L -0.5015794568905193, 0.978988277981617 L -0.5226154095462974, 0.967922070057686 L -0.5434073430202059, 0.9564039207111819 L -0.5639455491587859, 0.9444392079874678 L -0.5842204382787495, 0.9320335184409335 L -0.6042225436445868, 0.9191926445265245 L -0.623942525888767, 0.9059225818951339 L -0.6433711773724683, 0.892229526594118 L -0.5848828885204257, 0.8111177514491982 L -0.5672204780806972, 0.8235659835410307 L -0.5492932214950789, 0.8356296768422949 L -0.5311094893443177, 0.8473031985826668 L -0.5126777719625326, 0.8585810981704253 L -0.4940066754729144, 0.869458109737438 L -0.47510491776936126, 0.8799291545978963 L -0.45598132444592665, 0.8899893436196518 L -0.4366448246759797, 0.8996339795070454 L -0.41710444704300237, 0.9088585589941657 L -0.39736931532497044, 0.9176587749475097 L -0.3774486442342861, 0.926030518377067 L -0.35735173511525165, 0.9339698803548855 L -0.3370879716010928, 0.9414731538402255 L -0.31666681523256024, 0.9485368354104481 L -0.2960978010401541, 0.9551576268968307 L -0.2753905330920351, 0.9613324369245452 L -0.2545546800097003, 0.9670583823560804 L -0.2335999704535179, 0.9723327896374345 L -0.25695996749886973 ,1.069566068601178\", \"type\": \"path\"}, {\"fillcolor\": \"#dba284\", \"layer\": \"below\", \"line\": {\"color\": \"rgb(150,150,150)\", \"width\": 0.45}, \"path\": \"M -0.671079319236247, 0.8715804881325737 L -0.6883835929683682, 0.8579790375830637 L -0.7054122644516337, 0.8440340853077076 L -0.7221585160625501, 0.8297512143277259 L -0.7386156432476525, 0.8151361429539588 L -0.671468766588775, 0.7410328572308715 L -0.6565077418750455, 0.7543192857524781 L -0.6412838767742124, 0.7673037139160978 L -0.62580326633488, 0.7799809432573306 L -0.6100721083965881, 0.7923458983023397 L -0.671079319236247 ,0.8715804881325737\", \"type\": \"path\"}, {\"fillcolor\": \"#d59171\", \"layer\": \"below\", \"line\": {\"color\": \"rgb(150,150,150)\", \"width\": 0.45}, \"path\": \"M -0.7638552260169849, 0.791533444452312 L -0.7924160674964296, 0.7629395624644815 L -0.8199072574678189, 0.7333158181517702 L -0.8462916866472592, 0.7027021994499073 L -0.8715337397240335, 0.6711400304874094 L -0.7923033997491212, 0.6101273004430995 L -0.7693560787702356, 0.6388201813180975 L -0.7453702340616535, 0.6666507437743364 L -0.7203782431785722, 0.6935814204222558 L -0.6944138418336225, 0.7195758585930109 L -0.7638552260169849 ,0.791533444452312\", \"type\": \"path\"}, {\"fillcolor\": \"#d0805f\", \"layer\": \"below\", \"line\": {\"color\": \"rgb(150,150,150)\", \"width\": 0.45}, \"path\": \"M -0.8921847082395791, 0.6434333270692912 L -0.9066515394125049, 0.6228828028457162 L -0.9206451035395873, 0.602007137273789 L -0.9341580960584145, 0.5808172273344846 L -0.9471834632622729, 0.5593241340425842 L -0.9597144059821442, 0.5375390766728873 L -0.9717443831358324, 0.5154734269038129 L -0.983267115142372, 0.4931387028814485 L -0.9942765871999344, 0.47054656320714056 L -1.0047670524255217, 0.447708800851769 L -1.0147330348548074, 0.4246373369998831 L -1.024169332300558, 0.4013442148269104 L -1.033071019068147, 0.37784159321268573 L -0.9391554718801335, 0.3434923574660779 L -0.9310630293641436, 0.36485837711537306 L -0.922484577140734, 0.3860339427271664 L -0.9134245931141106, 0.4070080007743354 L -0.9038878065453948, 0.4277696029155823 L -0.8938791955839744, 0.4483079117104077 L -0.8834039846689385, 0.4686122062761935 L -0.8724676418019492, 0.4886718878844429 L -0.8610758756929753, 0.5084764854932583 L -0.8492346327803767, 0.5280156612131678 L -0.8369500941268975, 0.5472792157034445 L -0.8242286721931862, 0.5662570934961055 L -0.8110770074905264, 0.5849393882448102 L -0.8921847082395791 ,0.6434333270692912\", \"type\": \"path\"}, {\"fillcolor\": \"#ca6f4c\", \"layer\": \"below\", \"line\": {\"color\": \"rgb(150,150,150)\", \"width\": 0.45}, \"path\": \"M -1.0444295521364244, 0.3452056063045736 L -1.049043917104343, 0.33091820739629335 L -1.0534628459433708, 0.31656915866346463 L -1.057685515410236, 0.302161133323569 L -1.0617111388246476, 0.28769681558138616 L -0.9651919443860432, 0.26154255961944195 L -0.9615322867365781, 0.2746919393850627 L -0.9576934963121553, 0.28779014423951327 L -0.9536762882766755, 0.3008347339966303 L -0.949481411033113, 0.3138232784587032 L -1.0444295521364244 ,0.3452056063045736\", \"type\": \"path\"}, {\"fillcolor\": \"#c45e3a\", \"layer\": \"below\", \"line\": {\"color\": \"rgb(150,150,150)\", \"width\": 0.45}, \"path\": \"M -1.0702240238303788, 0.25420570177773943 L -1.077317885507484, 0.22223000149773536 L -1.0834566129225351, 0.19005727535253195 L -1.0886347635696951, 0.1577160472100221 L -1.0928477465764248, 0.12523499032950233 L -0.9934979514331134, 0.11384999120863847 L -0.989667966881541, 0.14337822473638373 L -0.9849605572023046, 0.17277934122957447 L -0.9793798959158946, 0.20202727408885032 L -0.9729309307548898, 0.23109609252521765 L -1.0702240238303788 ,0.25420570177773943\", \"type\": \"path\"}, {\"fillcolor\": \"#bf4d28\", \"layer\": \"below\", \"line\": {\"color\": \"rgb(150,150,150)\", \"width\": 0.45}, \"path\": \"M -1.0962422182934348, 0.09084601714488923 L -1.0987259242371894, 0.05292771872218173 L -1.0998984541121317, 0.014946258452981 L -1.0997584086674768, -0.023053038090007458 L -1.0983059550279204, -0.06102482404897286 L -0.9984599591162912, -0.055477112771793506 L -0.999780371515888, -0.020957307354552233 L -0.9999076855564832, 0.013587507684528181 L -0.9988417493065357, 0.048116107929256115 L -0.9965838348122134, 0.08258728831353565 L -1.0962422182934348 ,0.09084601714488923\", \"type\": \"path\"}, {\"fillcolor\": \"#af4624\", \"layer\": \"below\", \"line\": {\"color\": \"rgb(150,150,150)\", \"width\": 0.45}, \"path\": \"M -1.095847171293169, -0.09549333572956827 L -1.0915379211438618, -0.13617990565768706 L -1.0857185899756698, -0.17667807838337873 L -1.078397228504349, -0.2169318269736815 L -1.0695839654196826, -0.25688546264260975 L -0.9723490594724385, -0.23353223876600887 L -0.9803611168221353, -0.19721075179425587 L -0.9870168999778817, -0.16061643489398064 L -0.9923072010398744, -0.12379991423426095 L -0.9962247011756081, -0.0868121233905166 L -1.095847171293169 ,-0.09549333572956827\", \"type\": \"path\"}, {\"fillcolor\": \"#9f4021\", \"layer\": \"below\", \"line\": {\"color\": \"rgb(150,150,150)\", \"width\": 0.45}, \"path\": \"M -1.060987222921226, -0.2903551494255011 L -1.0475922621846505, -0.33548539791002335 L -1.0322785935357726, -0.3800011912189322 L -1.0150742645826776, -0.4238209968629874 L -0.9960107857548328, -0.4668645570827163 L -0.9054643506862116, -0.42442232462065116 L -0.9227947859842524, -0.3852918153299885 L -0.9384350850325205, -0.3454556283808474 L -0.9523566019860459, -0.30498672537274846 L -0.9645338390192962, -0.2639592267504555 L -1.060987222921226 ,-0.2903551494255011\", \"type\": \"path\"}, {\"fillcolor\": \"#8f391e\", \"layer\": \"below\", \"line\": {\"color\": \"rgb(150,150,150)\", \"width\": 0.45}, \"path\": \"M -0.9808547444323403, -0.49791964243697867 L -0.9701318822422141, -0.5185018139381762 L -0.9589771866446132, -0.5388531854737271 L -0.9473956229131234, -0.5589646980669307 L -0.9353923463325274, -0.5788273995091536 L -0.9229726999040417, -0.59843244834471 L -0.9101422119669927, -0.6177711178064493 L -0.8969065937379969, -0.6368347997002866 L -0.8832717367687327, -0.6556150082369583 L -0.8692437103234454, -0.6741033838092866 L -0.8548287586773416, -0.6922916967132825 L -0.8400332983370866, -0.7101718508114183 L -0.8248639151846315, -0.7277358871364537 L -0.8093273615456505, -0.7449759874341965 L -0.7934305531838883, -0.7618844776436314 L -0.7771805662227546, -0.7784538313128652 L -0.7605846339955412, -0.794676672949363 L -0.743650143825657, -0.8105457813029933 L -0.7263846337383213, -0.8260540925804103 L -0.7087957891051714, -0.8411947035893519 L -0.6908914392232866, -0.8559608748114459 L -0.6280831265666241, -0.7781462498285872 L -0.6443598082774284, -0.7647224578085017 L -0.6603496670348374, -0.7509582659821911 L -0.6760455852960517, -0.7368598011845393 L -0.6914405763595829, -0.7224333390448754 L -0.7065277874752314, -0.7076853011935137 L -0.7213005028944439, -0.6926222524033012 L -0.7357521468596823, -0.6772508976674513 L -0.7498762865314832, -0.6615780792149578 L -0.7636666348518969, -0.6456107734649257 L -0.7771170533430378, -0.6293560879211658 L -0.7902215548394957, -0.6128212580084423 L -0.8029743061533933, -0.5960136438517802 L -0.8153696306709062, -0.5789407270002604 L -0.8274020108790843, -0.5616101070967721 L -0.839066090821856, -0.5440294984951909 L -0.8503566784841158, -0.5262067268265033 L -0.8612687481028394, -0.5081497255153915 L -0.8717974424041938, -0.4898665322488428 L -0.8819380747656491, -0.47136528539834194 L -0.8916861313021275, -0.4526542203972533 L -0.9808547444323403 ,-0.49791964243697867\", \"type\": \"path\"}, {\"fillcolor\": \"#f0f3e7\", \"layer\": \"below\", \"line\": {\"color\": \"rgb(150,150,150)\", \"width\": 0.45}, \"path\": \"M -0.663664145185191, -0.8772399343370147 L -0.6451648814754251, -0.8909333733286687 L -0.6263831672309399, -0.9042367653495055 L -0.6073272250090731, -0.917144286229151 L -0.5880053974230479, -0.9296502851079882 L -0.568426143489604, -0.9417492869110846 L -0.5485980349256819, -0.9534359947451536 L -0.528529752395754, -0.9647052922175162 L -0.5082300817114703, -0.9755522456760337 L -0.48770790998526475, -0.9859721063690418 L -0.4669722217396106, -0.9959603125243356 L -0.4460320949736396, -1.0055124913462918 L -0.4248966971888243, -1.014624460930264 L -0.40357528137549, -1.0232922320934008 L -0.38207718196189044, -1.0315120101210944 L -0.3604118107276312, -1.0392801964282925 L -0.33858865268323735, -1.0465933901349418 L -0.31661726191764755, -1.0534483895548807 L -0.2945072574154806, -1.0598421935975242 L -0.272268318845876, -1.0657720030817288 L -0.2499101823247811, -1.0712352219612624 L -0.2274426361525167, -1.0762294584613423 L -0.20487551652849662, -1.0807525261257462 L -0.1822187032449866, -1.0848024447740314 L -0.1594821153617642, -1.0883774413684515 L -0.13667570686360292, -1.0914759507901832 L -0.11380946230245069, -1.0940966165245314 L -0.10346314754768243, -0.9946332877495738 L -0.12425064260327537, -0.992250864354712 L -0.14498374123796745, -0.9894340376076831 L -0.16565336658635144, -0.9861840407036649 L -0.18625046957136054, -0.9825022964779511 L -0.20676603286592427, -0.9783904167830384 L -0.22719107484071008, -0.9738502017829657 L -0.2475166534962509, -0.9688836391652079 L -0.2677338703777096, -0.9634929032704765 L -0.28783387447058867, -0.9576803541408007 L -0.3078078660756703, -0.9514485364863106 L -0.32764710066148284, -0.9448001785711749 L -0.34734289269262764, -0.9377381910191767 L -0.3668866194322636, -0.9302656655394551 L -0.38626972471711296, -0.9223858735729672 L -0.4054837227033087, -0.9141022648602651 L -0.42452020158146414, -0.9054184659312141 L -0.4433708272593316, -0.8963382785173106 L -0.4620273470104275, -0.8868656778873033 L -0.480481593087049, -0.8770048111068328 L -0.49872548629607444, -0.8667599952228668 L -0.5167510395360035, -0.8561357153737132 L -0.5345503612936798, -0.8451366228254438 L -0.5521156590991573, -0.8337675329355918 L -0.569439242937218, -0.8220334230450049 L -0.5865135286140227, -0.8099394302987897 L -0.6033310410774463, -0.7974908493972861 L -0.663664145185191 ,-0.8772399343370147\", \"type\": \"path\"}, {\"fillcolor\": \"#e2ecde\", \"layer\": \"below\", \"line\": {\"color\": \"rgb(150,150,150)\", \"width\": 0.45}, \"path\": \"M -0.07938689897314871, -1.0971315874914127 L -0.06515322350856137, -1.0980687853984574 L -0.05090859175637126, -1.0988213300101994 L -0.03665539912042592, -1.0993890947773324 L -0.022396042444187074, -1.0997719842234746 L -0.020360038585624612, -0.9997927129304314 L -0.03332309010947811, -0.9994446316157567 L -0.04628053796033751, -0.9989284818274539 L -0.059230203189601247, -0.998244350362234 L -0.07216990815740791, -0.9973923522649205 L -0.07938689897314871 ,-1.0971315874914127\", \"type\": \"path\"}, {\"fillcolor\": \"#d4e5d6\", \"layer\": \"below\", \"line\": {\"color\": \"rgb(150,150,150)\", \"width\": 0.45}, \"path\": \"M 0.012159681488124121, -1.0999327898313185 L 0.03540416040905106, -1.0994301002909326 L 0.05863282278473744, -1.0984362485334749 L 0.08183529138309915, -1.0969516785548228 L 0.10500120067392425, -1.094977053575569 L 0.12812020145960237, -1.0925132557447306 L 0.15118196549854881, -1.0895613857456568 L 0.17417619011926666, -1.0861227623043066 L 0.19709260282299454, -1.0821989216001178 L 0.219920965872865, -1.0777916165797294 L 0.24265108086753834, -1.0729028161738674 L 0.2652727932972635, -1.0675347044177381 L 0.28777599708032586, -1.0616896794753279 L 0.3101506390778698, -1.05537035256804 L 0.3323867235850609, -1.0485795468081516 L 0.3544743167965896, -1.0413202959376098 L 0.3764035512445308, -1.033595842972729 L 0.39816463020655796, -1.0254096387553977 L 0.4197478320825564, -1.0167653404114414 L 0.4411435147376773, -1.0076668097168273 L 0.4623421198098859, -0.9981181113724474 L 0.4833341769800936, -0.9881235111882399 L 0.5041103082029506, -0.9776874741774728 L 0.5246612318964146, -0.9668146625620325 L 0.5449777670882341, -0.9555099336896098 L 0.5650508375174761, -0.9437783378637162 L 0.5848714756892784, -0.931625116087499 L 0.6044308268810128, -0.9190556977223607 L 0.6237201530980626, -0.9060756980624353 L 0.6427308369774621, -0.8926909158259936 L 0.6614543856376368, -0.8789073305649104 L 0.6798824344725322, -0.8647310999933466 L 0.6980067508884449, -0.8501685572368322 L 0.634551591716768, -0.7728805065789383 L 0.6180749404295747, -0.7861191818121332 L 0.6013221687614879, -0.7990066641499185 L 0.5843007608886019, -0.8115371962054486 L 0.5670183209982387, -0.8237051800567593 L 0.5494825698918298, -0.8355051797476006 L 0.5317013415357076, -0.8469319237159081 L 0.5136825795613419, -0.8579803071488329 L 0.4954343337165764, -0.8686453942632816 L 0.47696475626946777, -0.8789224205109386 L 0.45828209836631867, -0.8888067947067934 L 0.4393947063455396, -0.898294101080218 L 0.4203110180089871, -0.9073801012476794 L 0.4010395588524339, -0.9160607361062066 L 0.3815889382568694, -0.9243321276467648 L 0.36196784564232537, -0.9321905806867251 L 0.34218504658593707, -0.9396325845206626 L 0.3222493789059905, -0.9466548144887361 L 0.3021697487136917, -0.9532541334619559 L 0.2819551264344271, -0.9594275932436727 L 0.2616145428002962, -0.9651724358866617 L 0.2411570848156941, -0.9704860949252164 L 0.2205918916977621, -0.9753661965216975 L 0.19992815079351361, -0.9798105605270266 L 0.17917509347544958, -0.9838172014546523 L 0.15834199101751514, -0.9873843293675514 L 0.1374381504532262, -0.9905103506778696 L 0.11647291041782033, -0.9931938688588459 L 0.09545563697629476, -0.995433685068699 L 0.07439571943918104, -0.9972287986862025 L 0.05330256616794313, -0.9985784077577043 L 0.032185600371864596, -0.9994819093553933 L 0.011054255898294655, -0.9999388998466532 L 0.012159681488124121 ,-1.0999327898313185\", \"type\": \"path\"}, {\"fillcolor\": \"#c6decd\", \"layer\": \"below\", \"line\": {\"color\": \"rgb(150,150,150)\", \"width\": 0.45}, \"path\": \"M 0.7243667664197354, -0.8278241284878187 L 0.7417045571168132, -0.8123265045239828 L 0.758710863904649, -0.7964658341655725 L 0.77537808629461, -0.7802492058913667 L 0.7916987753422587, -0.7636838672654858 L 0.8076656369764522, -0.7467772216982933 L 0.8232715352592188, -0.7295368251376547 L 0.8385094955749651, -0.7119703826920175 L 0.8533727077475831, -0.6940857451868309 L 0.8678545290840647, -0.6758909056558438 L 0.8819484873432686, -0.6573939957688393 L 0.8956482836285038, -0.638603282197418 L 0.9089477952026447, -0.6195271629204415 L 0.9218410782245147, -0.6001741634707917 L 0.9343223704053171, -0.5805529331251282 L 0.9463860935839308, -0.560672241038334 L 0.9580268562199087, -0.5405409723243915 L 0.9692394558030767, -0.5201681240854306 L 0.9800188811786459, -0.49956280139073156 L 0.9903603147868097, -0.47873421320746573 L 0.9003275588970997, -0.4352129210976961 L 0.8909262556169507, -0.4541480012643014 L 0.8811267780027969, -0.47288011280493686 L 0.8709335056544624, -0.4914008839312649 L 0.8603509941672097, -0.5097020373075763 L 0.8493839730957428, -0.5277753937501165 L 0.8380373438404678, -0.5456128758825378 L 0.8263161774569496, -0.5632065117458559 L 0.8142257123895489, -0.5805484383612891 L 0.8017713521302441, -0.5976309052443993 L 0.7889586628036951, -0.6144462778689488 L 0.775793370679621, -0.6309870410789371 L 0.7622813596136045, -0.6472458024472886 L 0.7484286684174716, -0.6632152955796861 L 0.734241488160411, -0.6788883833620848 L 0.7197261594020533, -0.6942580611504415 L 0.7048891693587364, -0.7093174599012424 L 0.6897371490042263, -0.7240598492414295 L 0.6742768701061937, -0.7384786404763479 L 0.6585152421997594, -0.7525673895343806 L 0.7243667664197354 ,-0.8278241284878187\", \"type\": \"path\"}, {\"fillcolor\": \"#b8d7c5\", \"layer\": \"below\", \"line\": {\"color\": \"rgb(150,150,150)\", \"width\": 0.45}, \"path\": \"M 1.0049090367888043, -0.44739001752408125 L 1.0195435058917155, -0.4129540405348152 L 1.0329983343438793, -0.37804026404970587 L 1.0452579545285148, -0.34268908429488304 L 1.0563081817185862, -0.3069414035844211 L 0.9602801651987146, -0.279037639622201 L 0.9502345041168315, -0.31153553117716637 L 0.939089394858072, -0.3436729673179144 L 0.9268577326288322, -0.37541276412255925 L 0.9135536698080039, -0.40671819774916473 L 1.0049090367888043 ,-0.44739001752408125\", \"type\": \"path\"}, {\"fillcolor\": \"#aad0bc\", \"layer\": \"below\", \"line\": {\"color\": \"rgb(150,150,150)\", \"width\": 0.45}, \"path\": \"M 1.065428219874817, -0.2736105047222765 L 1.072494495934821, -0.2444494961940282 L 1.078762785854792, -0.21510660579073035 L 1.0842284257334256, -0.18560366599724798 L 1.0888873488786448, -0.15596262838268907 L 0.989897589889677, -0.1417842076206264 L 0.9856622052122049, -0.1687306054520436 L 0.9806934416861743, -0.19555145980975486 L 0.9749949963043827, -0.2222268147218438 L 0.9685711089771063, -0.24873682247479678 L 1.065428219874817 ,-0.2736105047222765\", \"type\": \"path\"}, {\"fillcolor\": \"#9cc9b4\", \"layer\": \"below\", \"line\": {\"color\": \"rgb(150,150,150)\", \"width\": 0.45}, \"path\": \"M 1.0932489532487748, -0.12168289206153163 L 1.0954496180703728, -0.09995065917478671 L 1.09721832006363, -0.07817901327559612 L 1.0985543617856854, -0.056376539461423944 L 1.0994572164023046, -0.03455183498594511 L 0.9995065603657315, -0.031410759078131914 L 0.9986857834415321, -0.0512513995103854 L 0.9974712000578454, -0.07107183025054192 L 0.9958632891548843, -0.09086423561344245 L 0.9938626847716134, -0.11062081096502874 L 1.0932489532487748 ,-0.12168289206153163\", \"type\": \"path\"}], \"showlegend\": false, \"title\": \"Data Jobs \\u2012 Technologies in Demand\", \"titlefont\": {\"color\": \"#655643\", \"family\": \"Merryweather\", \"size\": 18}, \"xaxis\": {\"showgrid\": false, \"showline\": false, \"showticklabels\": false, \"title\": \"\", \"zeroline\": false}, \"yaxis\": {\"showgrid\": false, \"showline\": false, \"showticklabels\": false, \"title\": \"\", \"zeroline\": false}}, {\"showLink\": true, \"linkText\": \"Export to plot.ly\", \"plotlyServerURL\": \"https://plot.ly\"})});</script><script type=\"text/javascript\">window.addEventListener(\"resize\", function(){window._Plotly.Plots.resize(document.getElementById(\"da2dd4eb-e0ee-49b2-9da4-50720c84fecf\"));});</script>"
      ],
      "text/vnd.plotly.v1+html": [
       "<div id=\"da2dd4eb-e0ee-49b2-9da4-50720c84fecf\" style=\"height: 525px; width: 100%;\" class=\"plotly-graph-div\"></div><script type=\"text/javascript\">require([\"plotly\"], function(Plotly) { window.PLOTLYENV=window.PLOTLYENV || {};window.PLOTLYENV.BASE_URL=\"https://plot.ly\";Plotly.newPlot(\"da2dd4eb-e0ee-49b2-9da4-50720c84fecf\", [{\"hoverinfo\": \"text\", \"line\": {\"color\": \"#f2e6ce\", \"shape\": \"spline\", \"width\": 0.25}, \"mode\": \"lines\", \"text\": \"Power BI<br>966\", \"x\": [1.1, 1.0997395282670144, 1.0989582364235548, 1.097656494477695, 1.095834918914854, 1.0934943724058384, 1.0906359633982943, 1.087261045591763, 1.08337121729659, 1.0789683206769873, 1.074054440878615, 1.068631905041085, 1.0627032811958645], \"y\": [0.0, 0.023936791076601974, 0.047862246048742424, 0.0717650341805685, 0.09563383547090222, 0.11945734601422292, 0.14322428335402687, 0.16692339182602925, 0.19054344788867747, 0.21407326543845184, 0.2375017011074359, 0.2608176595406482, 0.2840100986506352], \"type\": \"scatter\", \"uid\": \"4ee4f114-ba82-4e90-8ecd-455e9c209f8c\"}, {\"hoverinfo\": \"text\", \"line\": {\"color\": \"#ecd5bb\", \"shape\": \"spline\", \"width\": 0.25}, \"mode\": \"lines\", \"text\": \"Excel<br>3270\", \"x\": [1.0532579284929848, 1.0464159573223164, 1.0391192496209887, 1.0313709762882242, 1.0231745044582004, 1.0145333960368088, 1.0054514061537736, 0.995932481530799, 0.985980758766461, 0.9756005625385822, 0.9647964037248754, 0.9535729774426706, 0.9419351610085779, 0.9298880118189726, 0.9174367651522242, 0.9045868318936235, 0.8913437961839977, 0.8777134129930332, 0.8637016056183636, 0.8493144631115076, 0.8345582376317746, 0.8194393417292923, 0.8039643455583306, 0.7881399740221379, 0.771973103850529, 0.7554707606114932, 0.7386401156581237, 0.721488483012193, 0.7040233161857296, 0.6862522049419763, 0.6681828719971405, 0.649823169664365, 0.6311810764413825, 0.6122646935433332, 0.5930822413822542, 0.5736420559947708, 0.5539525854195395, 0.534022386026021, 0.5138601187961735, 0.4934745455606878, 0.4728745251913958, 0.45206900975150777, 0.4310670406053527, 0.409877744489311, 0.3885103295456468, 0.36697408132096615, 0.345278358731035], \"y\": [0.3172502735486082, 0.33913661592523486, 0.36087558114551543, 0.38245772219982116, 0.40387366022893406, 0.4251140885997778, 0.4461697769497612, 0.4670315751979782, 0.48769041752151937, 0.5081373262951682, 0.5283634159927686, 0.5483598970485719, 0.5681180796768791, 0.5876293776483256, 0.6068853120211618, 0.6258775148259101, 0.6445977327017991, 0.6630378304833906, 0.6811897947358437, 0.6990457372372797, 0.7165978984067332, 0.7338386506761988, 0.750760501805313, 0.7673560981372233, 0.7836182277942371, 0.799539823811855, 0.8151139672098336, 0.8303338899989356, 0.8451929781220668, 0.8596847743285186, 0.873802980980068, 0.8875414627877156, 0.9008942494778717, 0.913855538386833, 0.9264196969824214, 0.9385812653116897, 0.9503349583736295, 0.961675668415852, 0.9725984671542427, 0.9830986079146246, 0.9931715276954994, 1.0028128491509727, 1.0120183824929978, 1.0207841273121145, 1.0291062743158905, 1.0369812069843085, 1.044405503141382], \"type\": \"scatter\", \"uid\": \"c18df92e-d5f6-4a92-8037-63cc0c9c3789\"}, {\"hoverinfo\": \"text\", \"line\": {\"color\": \"#e6c4a9\", \"shape\": \"spline\", \"width\": 0.25}, \"mode\": \"lines\", \"text\": \"SSIS/SSRS<br>1729\", \"x\": [0.3123024150649366, 0.2896597499380816, 0.26688441933186985, 0.2439868544510267, 0.22097754248413004, 0.19786702180043045, 0.17466587712322892, 0.15138473468202737, 0.12803425734566623, 0.10462513973868263, 0.08116810334312291, 0.05767389158805672, 0.03415326492903667, 0.010616995919761492, -0.012924135721803462, -0.03645934805058445, -0.05997786183257985, -0.08346890548179896, -0.10692171999369568, -0.13032556387284233, -0.15366971805258375, -0.17694349080441732, -0.20013622263485342, -0.22323729116751295], \"y\": [1.054735607412876, 1.061177284559846, 1.0671329376970289, 1.0725998391082734, 1.077575484927935, 1.0820575962876597, 1.0860441203601137, 1.0895332312991892, 1.0925233310762494, 1.0950130502120334, 1.0970012484038842, 1.098487015048011, 1.0994696696565518, 1.0999487621692385, 1.099924073159527, 1.099395613935096, 1.098363626532667, 1.0968285836071519, 1.0947911882151729, 1.0922523734930614, 1.0892133022294759, 1.0856753663328405, 1.0816401861938436, 1.0771096099432924], \"type\": \"scatter\", \"uid\": \"5ca956dd-3eda-46e1-9728-bb6b2e944f5e\"}, {\"hoverinfo\": \"text\", \"line\": {\"color\": \"#e1b396\", \"shape\": \"spline\", \"width\": 0.25}, \"mode\": \"lines\", \"text\": \"MS SQL Server<br>1388\", \"x\": [-0.25695996749886973, -0.2800101480106703, -0.3029295864012386, -0.32570758114416953, -0.3483334967558163, -0.3707967687612021, -0.39308690862677687, -0.41519350865771476, -0.4371062468574675, -0.45881489174730267, -0.4803093071435777, -0.5015794568905193, -0.5226154095462974, -0.5434073430202059, -0.5639455491587859, -0.5842204382787495, -0.6042225436445868, -0.623942525888767, -0.6433711773724683], \"y\": [1.069566068601178, 1.0637642205916886, 1.0574656806169997, 1.050673389586514, 1.043390518951493, 1.035620469224248, 1.027366868390374, 1.0186335702147737, 1.0094246524422608, 0.9997444148935823, 0.98959737745775, 0.978988277981617, 0.967922070057686, 0.9564039207111819, 0.9444392079874678, 0.9320335184409335, 0.9191926445265245, 0.9059225818951339, 0.892229526594118], \"type\": \"scatter\", \"uid\": \"10d2f12c-cc95-4144-bc7e-1b4a2640194c\"}, {\"hoverinfo\": \"text\", \"line\": {\"color\": \"#dba284\", \"shape\": \"spline\", \"width\": 0.25}, \"mode\": \"lines\", \"text\": \"PostgreSQL<br>368\", \"x\": [-0.671079319236247, -0.6883835929683682, -0.7054122644516337, -0.7221585160625501, -0.7386156432476525], \"y\": [0.8715804881325737, 0.8579790375830637, 0.8440340853077076, 0.8297512143277259, 0.8151361429539588], \"type\": \"scatter\", \"uid\": \"e8eec0f9-03ff-4bb0-bb0b-93aaa8d8c19c\"}, {\"hoverinfo\": \"text\", \"line\": {\"color\": \"#d59171\", \"shape\": \"spline\", \"width\": 0.25}, \"mode\": \"lines\", \"text\": \"MySQL/MariaDB<br>589\", \"x\": [-0.7638552260169849, -0.7924160674964296, -0.8199072574678189, -0.8462916866472592, -0.8715337397240335], \"y\": [0.791533444452312, 0.7629395624644815, 0.7333158181517702, 0.7027021994499073, 0.6711400304874094], \"type\": \"scatter\", \"uid\": \"b2a76694-dec0-4907-9ab1-5cc8dec04459\"}, {\"hoverinfo\": \"text\", \"line\": {\"color\": \"#d0805f\", \"shape\": \"spline\", \"width\": 0.25}, \"mode\": \"lines\", \"text\": \"T-SQL<br>1009\", \"x\": [-0.8921847082395791, -0.9066515394125049, -0.9206451035395873, -0.9341580960584145, -0.9471834632622729, -0.9597144059821442, -0.9717443831358324, -0.983267115142372, -0.9942765871999344, -1.0047670524255217, -1.0147330348548074, -1.024169332300558, -1.033071019068147], \"y\": [0.6434333270692912, 0.6228828028457162, 0.602007137273789, 0.5808172273344846, 0.5593241340425842, 0.5375390766728873, 0.5154734269038129, 0.4931387028814485, 0.47054656320714056, 0.447708800851769, 0.4246373369998831, 0.4013442148269104, 0.37784159321268573], \"type\": \"scatter\", \"uid\": \"948aefb6-3c29-4578-84cf-cec081c5ab84\"}, {\"hoverinfo\": \"text\", \"line\": {\"color\": \"#ca6f4c\", \"shape\": \"spline\", \"width\": 0.25}, \"mode\": \"lines\", \"text\": \"PL/SQL<br>284\", \"x\": [-1.0444295521364244, -1.049043917104343, -1.0534628459433708, -1.057685515410236, -1.0617111388246476], \"y\": [0.3452056063045736, 0.33091820739629335, 0.31656915866346463, 0.302161133323569, 0.28769681558138616], \"type\": \"scatter\", \"uid\": \"7008131b-bd35-4ec6-b832-4c071b67cf0f\"}, {\"hoverinfo\": \"text\", \"line\": {\"color\": \"#c45e3a\", \"shape\": \"spline\", \"width\": 0.25}, \"mode\": \"lines\", \"text\": \"Pentaho<br>497\", \"x\": [-1.0702240238303788, -1.077317885507484, -1.0834566129225351, -1.0886347635696951, -1.0928477465764248], \"y\": [0.25420570177773943, 0.22223000149773536, 0.19005727535253195, 0.1577160472100221, 0.12523499032950233], \"type\": \"scatter\", \"uid\": \"0323c44b-08d5-4f05-b787-3ee775642008\"}, {\"hoverinfo\": \"text\", \"line\": {\"color\": \"#bf4d28\", \"shape\": \"spline\", \"width\": 0.25}, \"mode\": \"lines\", \"text\": \"Hadoop<br>560\", \"x\": [-1.0962422182934348, -1.0987259242371894, -1.0998984541121317, -1.0997584086674768, -1.0983059550279204], \"y\": [0.09084601714488923, 0.05292771872218173, 0.014946258452981, -0.023053038090007458, -0.06102482404897286], \"type\": \"scatter\", \"uid\": \"b8c7ef3d-15c0-4183-93f3-c707cd98394b\"}, {\"hoverinfo\": \"text\", \"line\": {\"color\": \"#af4624\", \"shape\": \"spline\", \"width\": 0.25}, \"mode\": \"lines\", \"text\": \"Spark<br>595\", \"x\": [-1.095847171293169, -1.0915379211438618, -1.0857185899756698, -1.078397228504349, -1.0695839654196826], \"y\": [-0.09549333572956827, -0.13617990565768706, -0.17667807838337873, -0.2169318269736815, -0.25688546264260975], \"type\": \"scatter\", \"uid\": \"bf6b3a59-7907-4d4a-9ec1-71e87d4a5e5e\"}, {\"hoverinfo\": \"text\", \"line\": {\"color\": \"#9f4021\", \"shape\": \"spline\", \"width\": 0.25}, \"mode\": \"lines\", \"text\": \"Informatica<br>669\", \"x\": [-1.060987222921226, -1.0475922621846505, -1.0322785935357726, -1.0150742645826776, -0.9960107857548328], \"y\": [-0.2903551494255011, -0.33548539791002335, -0.3800011912189322, -0.4238209968629874, -0.4668645570827163], \"type\": \"scatter\", \"uid\": \"fd0eda40-e43c-4c41-a3dd-feac44800e97\"}, {\"hoverinfo\": \"text\", \"line\": {\"color\": \"#8f391e\", \"shape\": \"spline\", \"width\": 0.25}, \"mode\": \"lines\", \"text\": \"Qlik<br>1497\", \"x\": [-0.9808547444323403, -0.9701318822422141, -0.9589771866446132, -0.9473956229131234, -0.9353923463325274, -0.9229726999040417, -0.9101422119669927, -0.8969065937379969, -0.8832717367687327, -0.8692437103234454, -0.8548287586773416, -0.8400332983370866, -0.8248639151846315, -0.8093273615456505, -0.7934305531838883, -0.7771805662227546, -0.7605846339955412, -0.743650143825657, -0.7263846337383213, -0.7087957891051714, -0.6908914392232866], \"y\": [-0.49791964243697867, -0.5185018139381762, -0.5388531854737271, -0.5589646980669307, -0.5788273995091536, -0.59843244834471, -0.6177711178064493, -0.6368347997002866, -0.6556150082369583, -0.6741033838092866, -0.6922916967132825, -0.7101718508114183, -0.7277358871364537, -0.7449759874341965, -0.7618844776436314, -0.7784538313128652, -0.794676672949363, -0.8105457813029933, -0.8260540925804103, -0.8411947035893519, -0.8559608748114459], \"type\": \"scatter\", \"uid\": \"d95460a0-d037-4d7c-aa85-581a1af11bb4\"}, {\"hoverinfo\": \"text\", \"line\": {\"color\": \"#f0f3e7\", \"shape\": \"spline\", \"width\": 0.25}, \"mode\": \"lines\", \"text\": \"Tableau<br>1900\", \"x\": [-0.663664145185191, -0.6451648814754251, -0.6263831672309399, -0.6073272250090731, -0.5880053974230479, -0.568426143489604, -0.5485980349256819, -0.528529752395754, -0.5082300817114703, -0.48770790998526475, -0.4669722217396106, -0.4460320949736396, -0.4248966971888243, -0.40357528137549, -0.38207718196189044, -0.3604118107276312, -0.33858865268323735, -0.31661726191764755, -0.2945072574154806, -0.272268318845876, -0.2499101823247811, -0.2274426361525167, -0.20487551652849662, -0.1822187032449866, -0.1594821153617642, -0.13667570686360292, -0.11380946230245069], \"y\": [-0.8772399343370147, -0.8909333733286687, -0.9042367653495055, -0.917144286229151, -0.9296502851079882, -0.9417492869110846, -0.9534359947451536, -0.9647052922175162, -0.9755522456760337, -0.9859721063690418, -0.9959603125243356, -1.0055124913462918, -1.014624460930264, -1.0232922320934008, -1.0315120101210944, -1.0392801964282925, -1.0465933901349418, -1.0534483895548807, -1.0598421935975242, -1.0657720030817288, -1.0712352219612624, -1.0762294584613423, -1.0807525261257462, -1.0848024447740314, -1.0883774413684515, -1.0914759507901832, -1.0940966165245314], \"type\": \"scatter\", \"uid\": \"c2c53c00-674d-4a05-b907-d74fb501f6c7\"}, {\"hoverinfo\": \"text\", \"line\": {\"color\": \"#e2ecde\", \"shape\": \"spline\", \"width\": 0.25}, \"mode\": \"lines\", \"text\": \"Microstrategy<br>275\", \"x\": [-0.07938689897314871, -0.06515322350856137, -0.05090859175637126, -0.03665539912042592, -0.022396042444187074], \"y\": [-1.0971315874914127, -1.0980687853984574, -1.0988213300101994, -1.0993890947773324, -1.0997719842234746], \"type\": \"scatter\", \"uid\": \"be5b285f-6a02-4852-bce8-308cf7f53077\"}, {\"hoverinfo\": \"text\", \"line\": {\"color\": \"#d4e5d6\", \"shape\": \"spline\", \"width\": 0.25}, \"mode\": \"lines\", \"text\": \"Oracle BI<br>2337\", \"x\": [0.012159681488124121, 0.03540416040905106, 0.05863282278473744, 0.08183529138309915, 0.10500120067392425, 0.12812020145960237, 0.15118196549854881, 0.17417619011926666, 0.19709260282299454, 0.219920965872865, 0.24265108086753834, 0.2652727932972635, 0.28777599708032586, 0.3101506390778698, 0.3323867235850609, 0.3544743167965896, 0.3764035512445308, 0.39816463020655796, 0.4197478320825564, 0.4411435147376773, 0.4623421198098859, 0.4833341769800936, 0.5041103082029506, 0.5246612318964146, 0.5449777670882341, 0.5650508375174761, 0.5848714756892784, 0.6044308268810128, 0.6237201530980626, 0.6427308369774621, 0.6614543856376368, 0.6798824344725322, 0.6980067508884449], \"y\": [-1.0999327898313185, -1.0994301002909326, -1.0984362485334749, -1.0969516785548228, -1.094977053575569, -1.0925132557447306, -1.0895613857456568, -1.0861227623043066, -1.0821989216001178, -1.0777916165797294, -1.0729028161738674, -1.0675347044177381, -1.0616896794753279, -1.05537035256804, -1.0485795468081516, -1.0413202959376098, -1.033595842972729, -1.0254096387553977, -1.0167653404114414, -1.0076668097168273, -0.9981181113724474, -0.9881235111882399, -0.9776874741774728, -0.9668146625620325, -0.9555099336896098, -0.9437783378637162, -0.931625116087499, -0.9190556977223607, -0.9060756980624353, -0.8926909158259936, -0.8789073305649104, -0.8647310999933466, -0.8501685572368322], \"type\": \"scatter\", \"uid\": \"50f9972f-a3da-435d-8fbe-1112df80b7fa\"}, {\"hoverinfo\": \"text\", \"line\": {\"color\": \"#c6decd\", \"shape\": \"spline\", \"width\": 0.25}, \"mode\": \"lines\", \"text\": \"Python<br>1430\", \"x\": [0.7243667664197354, 0.7417045571168132, 0.758710863904649, 0.77537808629461, 0.7916987753422587, 0.8076656369764522, 0.8232715352592188, 0.8385094955749651, 0.8533727077475831, 0.8678545290840647, 0.8819484873432686, 0.8956482836285038, 0.9089477952026447, 0.9218410782245147, 0.9343223704053171, 0.9463860935839308, 0.9580268562199087, 0.9692394558030767, 0.9800188811786459, 0.9903603147868097], \"y\": [-0.8278241284878187, -0.8123265045239828, -0.7964658341655725, -0.7802492058913667, -0.7636838672654858, -0.7467772216982933, -0.7295368251376547, -0.7119703826920175, -0.6940857451868309, -0.6758909056558438, -0.6573939957688393, -0.638603282197418, -0.6195271629204415, -0.6001741634707917, -0.5805529331251282, -0.560672241038334, -0.5405409723243915, -0.5201681240854306, -0.49956280139073156, -0.47873421320746573], \"type\": \"scatter\", \"uid\": \"92b0e30a-fd0f-44ec-b0bd-e76c7544d370\"}, {\"hoverinfo\": \"text\", \"line\": {\"color\": \"#b8d7c5\", \"shape\": \"spline\", \"width\": 0.25}, \"mode\": \"lines\", \"text\": \"VBA<br>553\", \"x\": [1.0049090367888043, 1.0195435058917155, 1.0329983343438793, 1.0452579545285148, 1.0563081817185862], \"y\": [-0.44739001752408125, -0.4129540405348152, -0.37804026404970587, -0.34268908429488304, -0.3069414035844211], \"type\": \"scatter\", \"uid\": \"36e190e9-1300-4e2d-a378-a8a9bb00a0e4\"}, {\"hoverinfo\": \"text\", \"line\": {\"color\": \"#aad0bc\", \"shape\": \"spline\", \"width\": 0.25}, \"mode\": \"lines\", \"text\": \"Linux<br>464\", \"x\": [1.065428219874817, 1.072494495934821, 1.078762785854792, 1.0842284257334256, 1.0888873488786448], \"y\": [-0.2736105047222765, -0.2444494961940282, -0.21510660579073035, -0.18560366599724798, -0.15596262838268907], \"type\": \"scatter\", \"uid\": \"cc9d8d31-2d8f-48e0-bd14-8fe57b50e25f\"}, {\"hoverinfo\": \"text\", \"line\": {\"color\": \"#9cc9b4\", \"shape\": \"spline\", \"width\": 0.25}, \"mode\": \"lines\", \"text\": \"AWS<br>366\", \"x\": [1.0932489532487748, 1.0954496180703728, 1.09721832006363, 1.0985543617856854, 1.0994572164023046], \"y\": [-0.12168289206153163, -0.09995065917478671, -0.07817901327559612, -0.056376539461423944, -0.03455183498594511], \"type\": \"scatter\", \"uid\": \"bf833c1e-db4e-4ac6-9b9a-9821944e76e6\"}, {\"hoverinfo\": \"text\", \"marker\": {\"color\": \"green\", \"size\": 0.5}, \"mode\": \"markers\", \"text\": \"Power BI appears with Excel 171 times\", \"x\": [0.8746228448160602], \"y\": [0.21221422979117566], \"type\": \"scatter\", \"uid\": \"ed82c53c-556d-4b50-b1bf-033873b02f0b\"}, {\"hoverinfo\": \"text\", \"marker\": {\"color\": \"blue\", \"size\": 0.5}, \"mode\": \"markers\", \"text\": \"Excel appears with Power BI 171 times\", \"x\": [0.7674586092416128], \"y\": [0.4701141171044852], \"type\": \"scatter\", \"uid\": \"80c7fda7-80c2-4e84-a62c-624224f249d2\"}, {\"hoverinfo\": \"text\", \"marker\": {\"color\": \"green\", \"size\": 0.5}, \"mode\": \"markers\", \"text\": \"Power BI appears with SSIS/SSRS 100 times\", \"x\": [0.8956698743775817], \"y\": [0.08817866030081736], \"type\": \"scatter\", \"uid\": \"b5c34fa9-9838-406b-8ca7-99564e2972fb\"}, {\"hoverinfo\": \"text\", \"marker\": {\"color\": \"blue\", \"size\": 0.5}, \"mode\": \"markers\", \"text\": \"SSIS/SSRS appears with Power BI 100 times\", \"x\": [0.13228465640697715], \"y\": [0.8902251230330943], \"type\": \"scatter\", \"uid\": \"db6e12cf-55ff-44db-8934-d16262793c4e\"}, {\"hoverinfo\": \"text\", \"marker\": {\"color\": \"green\", \"size\": 0.5}, \"mode\": \"markers\", \"text\": \"Power BI appears with MS SQL Server 99 times\", \"x\": [0.8977174863354996], \"y\": [0.06405712081784629], \"type\": \"scatter\", \"uid\": \"3cbb9312-a09a-47da-9a25-9303ecd1f0cf\"}, {\"hoverinfo\": \"text\", \"marker\": {\"color\": \"blue\", \"size\": 0.5}, \"mode\": \"markers\", \"text\": \"MS SQL Server appears with Power BI 99 times\", \"x\": [-0.35800522089218617], \"y\": [0.8257313496615816], \"type\": \"scatter\", \"uid\": \"95844189-8285-45d5-85c0-3bf5dcd240c5\"}, {\"hoverinfo\": \"text\", \"marker\": {\"color\": \"green\", \"size\": 0.5}, \"mode\": \"markers\", \"text\": \"Power BI appears with MySQL/MariaDB 5 times\", \"x\": [0.8999956505821316], \"y\": [0.0027980230960042477], \"type\": \"scatter\", \"uid\": \"6153a869-6028-4cb0-9498-c64a0f9c1334\"}, {\"hoverinfo\": \"text\", \"marker\": {\"color\": \"blue\", \"size\": 0.5}, \"mode\": \"markers\", \"text\": \"MySQL/MariaDB appears with Power BI 5 times\", \"x\": [-0.6265058698237502], \"y\": [0.6461349666102171], \"type\": \"scatter\", \"uid\": \"430ef188-f63c-48d1-9fca-0d238d7ba07f\"}, {\"hoverinfo\": \"text\", \"marker\": {\"color\": \"green\", \"size\": 0.5}, \"mode\": \"markers\", \"text\": \"Power BI appears with T-SQL 36 times\", \"x\": [0.8993737559621781], \"y\": [0.03356854310935491], \"type\": \"scatter\", \"uid\": \"73188be4-9f5d-4b24-81d2-b2f59b23b831\"}, {\"hoverinfo\": \"text\", \"marker\": {\"color\": \"blue\", \"size\": 0.5}, \"mode\": \"markers\", \"text\": \"T-SQL appears with Power BI 36 times\", \"x\": [-0.7646660591816224], \"y\": [0.47464283196488655], \"type\": \"scatter\", \"uid\": \"6a4c4f55-2d26-4629-b78d-1c957e55a679\"}, {\"hoverinfo\": \"text\", \"marker\": {\"color\": \"green\", \"size\": 0.5}, \"mode\": \"markers\", \"text\": \"Power BI appears with PL/SQL 5 times\", \"x\": [0.8999986104876698], \"y\": [0.001581493048864107], \"type\": \"scatter\", \"uid\": \"0257323c-265d-40cc-8e21-f027a2e0c565\"}, {\"hoverinfo\": \"text\", \"marker\": {\"color\": \"blue\", \"size\": 0.5}, \"mode\": \"markers\", \"text\": \"PL/SQL appears with Power BI 5 times\", \"x\": [-0.8550476689385579], \"y\": [0.28087983879719536], \"type\": \"scatter\", \"uid\": \"282ded92-7387-4dc7-bca7-4d2ae34984e3\"}, {\"hoverinfo\": \"text\", \"marker\": {\"color\": \"green\", \"size\": 0.5}, \"mode\": \"markers\", \"text\": \"Power BI appears with Pentaho 8 times\", \"x\": [0.8999826023705649], \"y\": [0.005596019148071494], \"type\": \"scatter\", \"uid\": \"291c69b9-3843-4d96-bd11-3b692c1d10c5\"}, {\"hoverinfo\": \"text\", \"marker\": {\"color\": \"blue\", \"size\": 0.5}, \"mode\": \"markers\", \"text\": \"Pentaho appears with Power BI 8 times\", \"x\": [-0.876722235795894], \"y\": [0.203366962068692], \"type\": \"scatter\", \"uid\": \"927e6dfd-1510-4ca2-bdbc-9386359491dc\"}, {\"hoverinfo\": \"text\", \"marker\": {\"color\": \"green\", \"size\": 0.5}, \"mode\": \"markers\", \"text\": \"Power BI appears with Hadoop 17 times\", \"x\": [0.8999319147367631], \"y\": [0.011070177876772839], \"type\": \"scatter\", \"uid\": \"969aa15a-6ca5-42b8-9b98-a6b3b7980936\"}, {\"hoverinfo\": \"text\", \"marker\": {\"color\": \"blue\", \"size\": 0.5}, \"mode\": \"markers\", \"text\": \"Hadoop appears with Power BI 17 times\", \"x\": [-0.8978897682300734], \"y\": [0.061595163022312244], \"type\": \"scatter\", \"uid\": \"5b36952e-c2bb-4e57-a25c-9d40fd7c153d\"}, {\"hoverinfo\": \"text\", \"marker\": {\"color\": \"green\", \"size\": 0.5}, \"mode\": \"markers\", \"text\": \"Power BI appears with Spark 22 times\", \"x\": [0.8997734449398556], \"y\": [0.020192765562564902], \"type\": \"scatter\", \"uid\": \"5043733b-0a1c-44d0-9c7e-1f83b80bb809\"}, {\"hoverinfo\": \"text\", \"marker\": {\"color\": \"blue\", \"size\": 0.5}, \"mode\": \"markers\", \"text\": \"Spark appears with Power BI 22 times\", \"x\": [-0.8941141876616722], \"y\": [-0.10276098200245158], \"type\": \"scatter\", \"uid\": \"5d635544-77bf-4ae6-813e-75134bf8cb3e\"}, {\"hoverinfo\": \"text\", \"marker\": {\"color\": \"green\", \"size\": 0.5}, \"mode\": \"markers\", \"text\": \"Power BI appears with Informatica 10 times\", \"x\": [0.8999663230267794], \"y\": [0.007785718827358103], \"type\": \"scatter\", \"uid\": \"3037ed9f-ddac-4840-a299-5dad165db107\"}, {\"hoverinfo\": \"text\", \"marker\": {\"color\": \"blue\", \"size\": 0.5}, \"mode\": \"markers\", \"text\": \"Informatica appears with Power BI 10 times\", \"x\": [-0.8658550956979204], \"y\": [-0.2455503069717996], \"type\": \"scatter\", \"uid\": \"e38ba6c3-69df-4846-afd7-950072cf220d\"}, {\"hoverinfo\": \"text\", \"marker\": {\"color\": \"green\", \"size\": 0.5}, \"mode\": \"markers\", \"text\": \"Power BI appears with Qlik 132 times\", \"x\": [0.8886531381150905], \"y\": [0.14246262709286944], \"type\": \"scatter\", \"uid\": \"42ee48a3-d541-4b16-b04a-8b9d5bfd130e\"}, {\"hoverinfo\": \"text\", \"marker\": {\"color\": \"blue\", \"size\": 0.5}, \"mode\": \"markers\", \"text\": \"Qlik appears with Power BI 132 times\", \"x\": [-0.7349984472910365], \"y\": [-0.5194008880236589], \"type\": \"scatter\", \"uid\": \"545e116e-ec7c-4dfe-a873-636043bffdc1\"}, {\"hoverinfo\": \"text\", \"marker\": {\"color\": \"green\", \"size\": 0.5}, \"mode\": \"markers\", \"text\": \"Power BI appears with Tableau 141 times\", \"x\": [0.8827922623720805], \"y\": [0.17515085354055152], \"type\": \"scatter\", \"uid\": \"bb83d681-e030-4352-a98a-28a23a5be23c\"}, {\"hoverinfo\": \"text\", \"marker\": {\"color\": \"blue\", \"size\": 0.5}, \"mode\": \"markers\", \"text\": \"Tableau appears with Power BI 141 times\", \"x\": [-0.36124428338987974], \"y\": [-0.8243194573210875], \"type\": \"scatter\", \"uid\": \"98d3aef8-1585-4ae1-b0c6-cf47722ea737\"}, {\"hoverinfo\": \"text\", \"marker\": {\"color\": \"green\", \"size\": 0.5}, \"mode\": \"markers\", \"text\": \"Power BI appears with Microstrategy 18 times\", \"x\": [0.8998694711823031], \"y\": [0.015327584091502068], \"type\": \"scatter\", \"uid\": \"88b1702a-4fa9-405f-a307-04380d3c2f38\"}, {\"hoverinfo\": \"text\", \"marker\": {\"color\": \"blue\", \"size\": 0.5}, \"mode\": \"markers\", \"text\": \"Microstrategy appears with Power BI 18 times\", \"x\": [-0.05140061177218349], \"y\": [-0.8985310106554172], \"type\": \"scatter\", \"uid\": \"07d4267a-d276-4927-9f42-cf6a2a2cd509\"}, {\"hoverinfo\": \"text\", \"marker\": {\"color\": \"green\", \"size\": 0.5}, \"mode\": \"markers\", \"text\": \"Power BI appears with Oracle BI 109 times\", \"x\": [0.8928217120658614], \"y\": [0.11344333591614895], \"type\": \"scatter\", \"uid\": \"d575f6c6-c80c-4164-bab3-daa7349c1d32\"}, {\"hoverinfo\": \"text\", \"marker\": {\"color\": \"blue\", \"size\": 0.5}, \"mode\": \"markers\", \"text\": \"Oracle BI appears with Power BI 109 times\", \"x\": [0.12841730801369444], \"y\": [-0.8907912185257082], \"type\": \"scatter\", \"uid\": \"1a2e3d7a-9d06-47f1-b9b2-6dd9c1ea2a5f\"}, {\"hoverinfo\": \"text\", \"marker\": {\"color\": \"green\", \"size\": 0.5}, \"mode\": \"markers\", \"text\": \"Power BI appears with Python 58 times\", \"x\": [0.8988746471035383], \"y\": [0.044992986058823965], \"type\": \"scatter\", \"uid\": \"032a1a58-e661-4dfc-ac29-4eba6cc2f4fe\"}, {\"hoverinfo\": \"text\", \"marker\": {\"color\": \"blue\", \"size\": 0.5}, \"mode\": \"markers\", \"text\": \"Python appears with Power BI 58 times\", \"x\": [0.6486212362909834], \"y\": [-0.6239314800780261], \"type\": \"scatter\", \"uid\": \"3f8f29e3-b00b-472e-8596-95822c069f71\"}, {\"hoverinfo\": \"text\", \"marker\": {\"color\": \"green\", \"size\": 0.5}, \"mode\": \"markers\", \"text\": \"Power BI appears with VBA 26 times\", \"x\": [0.8996234929818525], \"y\": [0.0260301916076482], \"type\": \"scatter\", \"uid\": \"051aeb4f-b169-4baf-b812-32f99ca77181\"}, {\"hoverinfo\": \"text\", \"marker\": {\"color\": \"blue\", \"size\": 0.5}, \"mode\": \"markers\", \"text\": \"VBA appears with Power BI 26 times\", \"x\": [0.8287265782014516], \"y\": [-0.3510160375004444], \"type\": \"scatter\", \"uid\": \"9646e45b-3a8b-4c00-8463-8e0a918aa239\"}, {\"hoverinfo\": \"text\", \"marker\": {\"color\": \"green\", \"size\": 0.5}, \"mode\": \"markers\", \"text\": \"Power BI appears with Linux 4 times\", \"x\": [0.8999998684485061], \"y\": [0.0004866134725231516], \"type\": \"scatter\", \"uid\": \"0177d45d-52bf-4f00-87a1-a55cf52c8912\"}, {\"hoverinfo\": \"text\", \"marker\": {\"color\": \"blue\", \"size\": 0.5}, \"mode\": \"markers\", \"text\": \"Linux appears with Power BI 4 times\", \"x\": [0.8721335969437536], \"y\": [-0.22222283654465066], \"type\": \"scatter\", \"uid\": \"1f030f28-f026-4132-b939-3bc363a7e999\"}, {\"hoverinfo\": \"text\", \"marker\": {\"color\": \"green\", \"size\": 0.5}, \"mode\": \"markers\", \"text\": \"Power BI appears with AWS 5 times\", \"x\": [0.8999910462910772], \"y\": [0.004014548030865623], \"type\": \"scatter\", \"uid\": \"20dd18f5-60fd-4fc6-bb01-77b06f8b609f\"}, {\"hoverinfo\": \"text\", \"marker\": {\"color\": \"blue\", \"size\": 0.5}, \"mode\": \"markers\", \"text\": \"AWS appears with Power BI 5 times\", \"x\": [0.8947221094684592], \"y\": [-0.09732598228792987], \"type\": \"scatter\", \"uid\": \"11f188ff-f2c0-45b4-82b7-b96835f98bc3\"}, {\"hoverinfo\": \"text\", \"marker\": {\"color\": \"green\", \"size\": 0.5}, \"mode\": \"markers\", \"text\": \"Excel appears with SSIS/SSRS 403 times\", \"x\": [0.4526935167818203], \"y\": [0.7778615428620366], \"type\": \"scatter\", \"uid\": \"cbd82fb4-65c8-45e2-8bcb-c59feabf4123\"}, {\"hoverinfo\": \"text\", \"marker\": {\"color\": \"blue\", \"size\": 0.5}, \"mode\": \"markers\", \"text\": \"SSIS/SSRS appears with Excel 403 times\", \"x\": [-0.13182135389399177], \"y\": [0.8902938451194387], \"type\": \"scatter\", \"uid\": \"139c6997-e1d6-4409-b422-eed60f1b8ff4\"}, {\"hoverinfo\": \"text\", \"marker\": {\"color\": \"green\", \"size\": 0.5}, \"mode\": \"markers\", \"text\": \"Excel appears with MS SQL Server 220 times\", \"x\": [0.7104995915312242], \"y\": [0.5524403410631447], \"type\": \"scatter\", \"uid\": \"926ccf3a-4073-46d3-a6e5-e989c33e6afb\"}, {\"hoverinfo\": \"text\", \"marker\": {\"color\": \"blue\", \"size\": 0.5}, \"mode\": \"markers\", \"text\": \"MS SQL Server appears with Excel 220 times\", \"x\": [-0.5036455595711083], \"y\": [0.745882799321921], \"type\": \"scatter\", \"uid\": \"5509eb72-ea32-484c-b503-dae045469ea0\"}, {\"hoverinfo\": \"text\", \"marker\": {\"color\": \"green\", \"size\": 0.5}, \"mode\": \"markers\", \"text\": \"Excel appears with PostgreSQL 51 times\", \"x\": [0.8498132097245694], \"y\": [0.2963401906215644], \"type\": \"scatter\", \"uid\": \"2e7cafaa-356a-454b-b11c-5a52104a2ae7\"}, {\"hoverinfo\": \"text\", \"marker\": {\"color\": \"blue\", \"size\": 0.5}, \"mode\": \"markers\", \"text\": \"PostgreSQL appears with Excel 51 times\", \"x\": [-0.5912260136657137], \"y\": [0.6785659885117654], \"type\": \"scatter\", \"uid\": \"537cc4db-38fa-4933-bebf-ee9d49cfd8be\"}, {\"hoverinfo\": \"text\", \"marker\": {\"color\": \"green\", \"size\": 0.5}, \"mode\": \"markers\", \"text\": \"Excel appears with MySQL/MariaDB 93 times\", \"x\": [0.8183058615090415], \"y\": [0.37466720835955936], \"type\": \"scatter\", \"uid\": \"df349e44-f3fe-4681-b625-5f1a709b6768\"}, {\"hoverinfo\": \"text\", \"marker\": {\"color\": \"blue\", \"size\": 0.5}, \"mode\": \"markers\", \"text\": \"MySQL/MariaDB appears with Excel 93 times\", \"x\": [-0.7066538815736579], \"y\": [0.557351138562471], \"type\": \"scatter\", \"uid\": \"3391d63b-8a74-40a2-8e8e-9b83db8f329b\"}, {\"hoverinfo\": \"text\", \"marker\": {\"color\": \"green\", \"size\": 0.5}, \"mode\": \"markers\", \"text\": \"Excel appears with T-SQL 164 times\", \"x\": [0.7896157683250685], \"y\": [0.43186449079822675], \"type\": \"scatter\", \"uid\": \"7f74f778-3c97-4de8-a645-009628ada281\"}, {\"hoverinfo\": \"text\", \"marker\": {\"color\": \"blue\", \"size\": 0.5}, \"mode\": \"markers\", \"text\": \"T-SQL appears with Excel 164 times\", \"x\": [-0.8381424830155259], \"y\": [0.3278981216240329], \"type\": \"scatter\", \"uid\": \"f5d2a291-a392-435c-9c0d-07f2c1fa047c\"}, {\"hoverinfo\": \"text\", \"marker\": {\"color\": \"green\", \"size\": 0.5}, \"mode\": \"markers\", \"text\": \"Excel appears with PL/SQL 49 times\", \"x\": [0.8540668669895513], \"y\": [0.28384817545767704], \"type\": \"scatter\", \"uid\": \"b4904cb6-90e3-4416-96da-a8e6490a7df0\"}, {\"hoverinfo\": \"text\", \"marker\": {\"color\": \"blue\", \"size\": 0.5}, \"mode\": \"markers\", \"text\": \"PL/SQL appears with Excel 49 times\", \"x\": [-0.8640599825323311], \"y\": [0.251794254474219], \"type\": \"scatter\", \"uid\": \"007d4cbc-d0eb-40f1-94e5-23a1c656298b\"}, {\"hoverinfo\": \"text\", \"marker\": {\"color\": \"green\", \"size\": 0.5}, \"mode\": \"markers\", \"text\": \"Excel appears with Pentaho 59 times\", \"x\": [0.8395283804449439], \"y\": [0.3243333137799592], \"type\": \"scatter\", \"uid\": \"8a11bc94-d02d-4e86-a3fa-9f7da6cefbd3\"}, {\"hoverinfo\": \"text\", \"marker\": {\"color\": \"blue\", \"size\": 0.5}, \"mode\": \"markers\", \"text\": \"Pentaho appears with Excel 59 times\", \"x\": [-0.8934014189145164], \"y\": [0.10878375191879], \"type\": \"scatter\", \"uid\": \"ac486860-061c-4711-abb0-95790806f1c2\"}, {\"hoverinfo\": \"text\", \"marker\": {\"color\": \"green\", \"size\": 0.5}, \"mode\": \"markers\", \"text\": \"Excel appears with Hadoop 63 times\", \"x\": [0.8335925107535229], \"y\": [0.3392985794483052], \"type\": \"scatter\", \"uid\": \"77b3df51-6406-4456-a707-f856b61afbd7\"}, {\"hoverinfo\": \"text\", \"marker\": {\"color\": \"blue\", \"size\": 0.5}, \"mode\": \"markers\", \"text\": \"Hadoop appears with Excel 63 times\", \"x\": [-0.8998086615398351], \"y\": [0.018557279377389727], \"type\": \"scatter\", \"uid\": \"5c41a558-c3af-4a66-ab05-7c5d941dc1d6\"}, {\"hoverinfo\": \"text\", \"marker\": {\"color\": \"green\", \"size\": 0.5}, \"mode\": \"markers\", \"text\": \"Excel appears with Spark 68 times\", \"x\": [0.8269218172114412], \"y\": [0.35524682717756667], \"type\": \"scatter\", \"uid\": \"5af971ce-2bd1-4129-8162-9e08d674819e\"}, {\"hoverinfo\": \"text\", \"marker\": {\"color\": \"blue\", \"size\": 0.5}, \"mode\": \"markers\", \"text\": \"Spark appears with Excel 68 times\", \"x\": [-0.88672879366522], \"y\": [-0.15398716337741863], \"type\": \"scatter\", \"uid\": \"a44deef3-96d2-4dc4-928d-72963638ff6d\"}, {\"hoverinfo\": \"text\", \"marker\": {\"color\": \"green\", \"size\": 0.5}, \"mode\": \"markers\", \"text\": \"Excel appears with Informatica 114 times\", \"x\": [0.8065588432604656], \"y\": [0.39932797592748237], \"type\": \"scatter\", \"uid\": \"3a2b1156-413a-47f1-856a-894cf5adb60e\"}, {\"hoverinfo\": \"text\", \"marker\": {\"color\": \"blue\", \"size\": 0.5}, \"mode\": \"markers\", \"text\": \"Informatica appears with Excel 114 times\", \"x\": [-0.831554218016024], \"y\": [-0.3442638268824636], \"type\": \"scatter\", \"uid\": \"9a4c3ab9-df94-4b55-a24c-cf2929bf91bf\"}, {\"hoverinfo\": \"text\", \"marker\": {\"color\": \"green\", \"size\": 0.5}, \"mode\": \"markers\", \"text\": \"Excel appears with Qlik 344 times\", \"x\": [0.6104302841950187], \"y\": [0.6613432302047014], \"type\": \"scatter\", \"uid\": \"c5b51679-cb53-4010-b802-834324dbbce7\"}, {\"hoverinfo\": \"text\", \"marker\": {\"color\": \"blue\", \"size\": 0.5}, \"mode\": \"markers\", \"text\": \"Qlik appears with Excel 344 times\", \"x\": [-0.5985512994021203], \"y\": [-0.6721133401324759], \"type\": \"scatter\", \"uid\": \"7e6033c2-1075-48cb-8634-5c7ffe132ff0\"}, {\"hoverinfo\": \"text\", \"marker\": {\"color\": \"green\", \"size\": 0.5}, \"mode\": \"markers\", \"text\": \"Excel appears with Tableau 371 times\", \"x\": [0.5378712471674705], \"y\": [0.7215916583986471], \"type\": \"scatter\", \"uid\": \"b88fe765-7d23-412c-9660-b48cfbbd70e1\"}, {\"hoverinfo\": \"text\", \"marker\": {\"color\": \"blue\", \"size\": 0.5}, \"mode\": \"markers\", \"text\": \"Tableau appears with Excel 371 times\", \"x\": [-0.14050905057905813], \"y\": [-0.8889641200326207], \"type\": \"scatter\", \"uid\": \"ec43f29c-83a8-4507-9d63-236b8cbac3b0\"}, {\"hoverinfo\": \"text\", \"marker\": {\"color\": \"green\", \"size\": 0.5}, \"mode\": \"markers\", \"text\": \"Excel appears with Microstrategy 31 times\", \"x\": [0.8605677320094176], \"y\": [0.26348278620085824], \"type\": \"scatter\", \"uid\": \"3e3e6c83-2e1d-4e64-8bd7-498045d6ca34\"}, {\"hoverinfo\": \"text\", \"marker\": {\"color\": \"blue\", \"size\": 0.5}, \"mode\": \"markers\", \"text\": \"Microstrategy appears with Excel 31 times\", \"x\": [-0.035885995279715574], \"y\": [-0.89928426837279], \"type\": \"scatter\", \"uid\": \"595528f7-8a3d-4aae-87f2-4209d009a332\"}, {\"hoverinfo\": \"text\", \"marker\": {\"color\": \"green\", \"size\": 0.5}, \"mode\": \"markers\", \"text\": \"Excel appears with Oracle BI 507 times\", \"x\": [0.3451864262151425], \"y\": [0.8311716616661194], \"type\": \"scatter\", \"uid\": \"244037b8-7db1-4868-b0a9-783c9a6512b0\"}, {\"hoverinfo\": \"text\", \"marker\": {\"color\": \"blue\", \"size\": 0.5}, \"mode\": \"markers\", \"text\": \"Oracle BI appears with Excel 507 times\", \"x\": [0.5185716875571168], \"y\": [-0.7355837171010273], \"type\": \"scatter\", \"uid\": \"6de7e9be-ff66-4d0f-b5d4-cd4cc4e8833e\"}, {\"hoverinfo\": \"text\", \"marker\": {\"color\": \"green\", \"size\": 0.5}, \"mode\": \"markers\", \"text\": \"Excel appears with Python 279 times\", \"x\": [0.6682141939145051], \"y\": [0.6029011453390914], \"type\": \"scatter\", \"uid\": \"66065913-4c7c-4682-8a58-c567c8a465f6\"}, {\"hoverinfo\": \"text\", \"marker\": {\"color\": \"blue\", \"size\": 0.5}, \"mode\": \"markers\", \"text\": \"Python appears with Excel 279 times\", \"x\": [0.7943284461854084], \"y\": [-0.42313392629364377], \"type\": \"scatter\", \"uid\": \"ae8500e9-6f94-405d-9cc6-992a99d82ebd\"}, {\"hoverinfo\": \"text\", \"marker\": {\"color\": \"green\", \"size\": 0.5}, \"mode\": \"markers\", \"text\": \"Excel appears with VBA 184 times\", \"x\": [0.7419594277516951], \"y\": [0.5094077027002804], \"type\": \"scatter\", \"uid\": \"fd300543-f6c0-421b-b62f-c3611f01a1a7\"}, {\"hoverinfo\": \"text\", \"marker\": {\"color\": \"blue\", \"size\": 0.5}, \"mode\": \"markers\", \"text\": \"VBA appears with Excel 184 times\", \"x\": [0.8583463361027149], \"y\": [-0.27063179284600886], \"type\": \"scatter\", \"uid\": \"0d9e3ce4-01a0-41e6-aa08-0206b478b5ea\"}, {\"hoverinfo\": \"text\", \"marker\": {\"color\": \"green\", \"size\": 0.5}, \"mode\": \"markers\", \"text\": \"Excel appears with Linux 58 times\", \"x\": [0.8449686470691101], \"y\": [0.30988382576410406], \"type\": \"scatter\", \"uid\": \"5275fb96-7053-4ea3-afb6-e53972638816\"}, {\"hoverinfo\": \"text\", \"marker\": {\"color\": \"blue\", \"size\": 0.5}, \"mode\": \"markers\", \"text\": \"Linux appears with Excel 58 times\", \"x\": [0.8850577853716389], \"y\": [-0.1633178390533316], \"type\": \"scatter\", \"uid\": \"e0f93a71-f338-4437-9b67-c272d763cf17\"}, {\"hoverinfo\": \"text\", \"marker\": {\"color\": \"green\", \"size\": 0.5}, \"mode\": \"markers\", \"text\": \"Excel appears with AWS 41 times\", \"x\": [0.8577381903051293], \"y\": [0.2725531083882221], \"type\": \"scatter\", \"uid\": \"db32bfcf-4726-414c-98e5-825ec34401b0\"}, {\"hoverinfo\": \"text\", \"marker\": {\"color\": \"blue\", \"size\": 0.5}, \"mode\": \"markers\", \"text\": \"AWS appears with Excel 41 times\", \"x\": [0.8983357644521538], \"y\": [-0.05470698589910134], \"type\": \"scatter\", \"uid\": \"ccc739de-6c1a-4d14-a895-90af88fbd216\"}, {\"hoverinfo\": \"text\", \"marker\": {\"color\": \"green\", \"size\": 0.5}, \"mode\": \"markers\", \"text\": \"SSIS/SSRS appears with MS SQL Server 218 times\", \"x\": [-0.05270979118181831], \"y\": [0.8984551618826446], \"type\": \"scatter\", \"uid\": \"46e1e7e7-ef1d-47e9-8f3e-0cf15448fb56\"}, {\"hoverinfo\": \"text\", \"marker\": {\"color\": \"blue\", \"size\": 0.5}, \"mode\": \"markers\", \"text\": \"MS SQL Server appears with SSIS/SSRS 218 times\", \"x\": [-0.4569512843063763], \"y\": [0.7753679924853445], \"type\": \"scatter\", \"uid\": \"aca911ef-bf27-44ab-8cdd-5ba8e3599874\"}, {\"hoverinfo\": \"text\", \"marker\": {\"color\": \"green\", \"size\": 0.5}, \"mode\": \"markers\", \"text\": \"SSIS/SSRS appears with PostgreSQL 29 times\", \"x\": [0.23122340925778512], \"y\": [0.8697906271116095], \"type\": \"scatter\", \"uid\": \"c418a4c8-04be-41f5-b426-a477b9c94044\"}, {\"hoverinfo\": \"text\", \"marker\": {\"color\": \"blue\", \"size\": 0.5}, \"mode\": \"markers\", \"text\": \"PostgreSQL appears with SSIS/SSRS 29 times\", \"x\": [-0.5672594883785655], \"y\": [0.6987250337897507], \"type\": \"scatter\", \"uid\": \"c435b120-d0cc-44c9-ab48-139c69cf8fa9\"}, {\"hoverinfo\": \"text\", \"marker\": {\"color\": \"green\", \"size\": 0.5}, \"mode\": \"markers\", \"text\": \"SSIS/SSRS appears with MySQL/MariaDB 53 times\", \"x\": [0.19713182818690458], \"y\": [0.8781452284876852], \"type\": \"scatter\", \"uid\": \"98616b08-57b9-4495-b8b9-07f84810470b\"}, {\"hoverinfo\": \"text\", \"marker\": {\"color\": \"blue\", \"size\": 0.5}, \"mode\": \"markers\", \"text\": \"MySQL/MariaDB appears with SSIS/SSRS 53 times\", \"x\": [-0.6613189019932008], \"y\": [0.6104566404475484], \"type\": \"scatter\", \"uid\": \"8d368171-d224-474b-99fa-8cb5776238d1\"}, {\"hoverinfo\": \"text\", \"marker\": {\"color\": \"green\", \"size\": 0.5}, \"mode\": \"markers\", \"text\": \"SSIS/SSRS appears with T-SQL 109 times\", \"x\": [0.10574550274347615], \"y\": [0.8937661263717313], \"type\": \"scatter\", \"uid\": \"d091d06f-7ac1-4cb6-a898-d099bba6dcd5\"}, {\"hoverinfo\": \"text\", \"marker\": {\"color\": \"blue\", \"size\": 0.5}, \"mode\": \"markers\", \"text\": \"T-SQL appears with SSIS/SSRS 109 times\", \"x\": [-0.797116886708985], \"y\": [0.41785723509755734], \"type\": \"scatter\", \"uid\": \"b07e40d0-d1f0-4032-a5c1-450226a6834d\"}, {\"hoverinfo\": \"text\", \"marker\": {\"color\": \"green\", \"size\": 0.5}, \"mode\": \"markers\", \"text\": \"SSIS/SSRS appears with PL/SQL 25 times\", \"x\": [0.23790232985108703], \"y\": [0.8679876044342019], \"type\": \"scatter\", \"uid\": \"ea3bfb83-96f8-4fb7-a76d-35420f735a90\"}, {\"hoverinfo\": \"text\", \"marker\": {\"color\": \"blue\", \"size\": 0.5}, \"mode\": \"markers\", \"text\": \"PL/SQL appears with SSIS/SSRS 25 times\", \"x\": [-0.8607452173510197], \"y\": [0.26290239787294795], \"type\": \"scatter\", \"uid\": \"813849be-fb30-4b5a-a44d-6d1dde90e947\"}, {\"hoverinfo\": \"text\", \"marker\": {\"color\": \"green\", \"size\": 0.5}, \"mode\": \"markers\", \"text\": \"SSIS/SSRS appears with Pentaho 30 times\", \"x\": [0.22391046615354707], \"y\": [0.8717018430328694], \"type\": \"scatter\", \"uid\": \"c90b2f63-bd0d-4e62-ac93-5fc9d360c9d7\"}, {\"hoverinfo\": \"text\", \"marker\": {\"color\": \"blue\", \"size\": 0.5}, \"mode\": \"markers\", \"text\": \"Pentaho appears with SSIS/SSRS 30 times\", \"x\": [-0.8795099958973414], \"y\": [0.19095069289389505], \"type\": \"scatter\", \"uid\": \"651caaff-34d1-45c0-ae29-69b948416787\"}, {\"hoverinfo\": \"text\", \"marker\": {\"color\": \"green\", \"size\": 0.5}, \"mode\": \"markers\", \"text\": \"SSIS/SSRS appears with Hadoop 30 times\", \"x\": [0.21645738094696337], \"y\": [0.8735823957896479], \"type\": \"scatter\", \"uid\": \"af2e0e39-d31c-4db5-a6a2-a5c2baf15afd\"}, {\"hoverinfo\": \"text\", \"marker\": {\"color\": \"blue\", \"size\": 0.5}, \"mode\": \"markers\", \"text\": \"Hadoop appears with SSIS/SSRS 30 times\", \"x\": [-0.8988924735065298], \"y\": [0.04463542397370778], \"type\": \"scatter\", \"uid\": \"4dd7e888-c3fd-4ea3-b138-320f7270322a\"}, {\"hoverinfo\": \"text\", \"marker\": {\"color\": \"green\", \"size\": 0.5}, \"mode\": \"markers\", \"text\": \"SSIS/SSRS appears with Spark 36 times\", \"x\": [0.20824077148354916], \"y\": [0.8755773986872527], \"type\": \"scatter\", \"uid\": \"997666bc-8bfa-439a-9ce2-e8b6017b3550\"}, {\"hoverinfo\": \"text\", \"marker\": {\"color\": \"blue\", \"size\": 0.5}, \"mode\": \"markers\", \"text\": \"Spark appears with SSIS/SSRS 36 times\", \"x\": [-0.891667169278736], \"y\": [-0.12218698470150574], \"type\": \"scatter\", \"uid\": \"f39174b4-7951-4254-a325-648267018e52\"}, {\"hoverinfo\": \"text\", \"marker\": {\"color\": \"green\", \"size\": 0.5}, \"mode\": \"markers\", \"text\": \"SSIS/SSRS appears with Informatica 63 times\", \"x\": [0.1529025904317333], \"y\": [0.8869164548249545], \"type\": \"scatter\", \"uid\": \"0fe0b6ae-a49b-4829-ab5c-6943d2e08a71\"}, {\"hoverinfo\": \"text\", \"marker\": {\"color\": \"blue\", \"size\": 0.5}, \"mode\": \"markers\", \"text\": \"Informatica appears with SSIS/SSRS 63 times\", \"x\": [-0.8513783636097632], \"y\": [-0.2918130942524033], \"type\": \"scatter\", \"uid\": \"4ff96ef0-7bd0-474e-829a-49580e825867\"}, {\"hoverinfo\": \"text\", \"marker\": {\"color\": \"green\", \"size\": 0.5}, \"mode\": \"markers\", \"text\": \"SSIS/SSRS appears with Qlik 61 times\", \"x\": [0.16853286383858193], \"y\": [0.8840795630520852], \"type\": \"scatter\", \"uid\": \"42a4fc14-613e-40a4-a88b-df85c7feb432\"}, {\"hoverinfo\": \"text\", \"marker\": {\"color\": \"blue\", \"size\": 0.5}, \"mode\": \"markers\", \"text\": \"Qlik appears with SSIS/SSRS 61 times\", \"x\": [-0.7699428025204077], \"y\": [-0.4660344202384846], \"type\": \"scatter\", \"uid\": \"8771b14d-a7d6-40dd-bc9b-8179aea2e30b\"}, {\"hoverinfo\": \"text\", \"marker\": {\"color\": \"green\", \"size\": 0.5}, \"mode\": \"markers\", \"text\": \"SSIS/SSRS appears with Tableau 121 times\", \"x\": [0.07643248297065372], \"y\": [0.8967486133509996], \"type\": \"scatter\", \"uid\": \"e7d56ac6-105e-4169-9023-c138102de9d5\"}, {\"hoverinfo\": \"text\", \"marker\": {\"color\": \"blue\", \"size\": 0.5}, \"mode\": \"markers\", \"text\": \"Tableau appears with SSIS/SSRS 121 times\", \"x\": [-0.39190229262064813], \"y\": [-0.8101929356879631], \"type\": \"scatter\", \"uid\": \"e67ac2e6-1a8d-4390-9cd6-c3f47fd21cd5\"}, {\"hoverinfo\": \"text\", \"marker\": {\"color\": \"green\", \"size\": 0.5}, \"mode\": \"markers\", \"text\": \"SSIS/SSRS appears with Microstrategy 21 times\", \"x\": [0.24924864460462182], \"y\": [0.8647977296239618], \"type\": \"scatter\", \"uid\": \"9bd6c9d3-7ed9-4a7d-9e83-ad9abe6e4a35\"}, {\"hoverinfo\": \"text\", \"marker\": {\"color\": \"blue\", \"size\": 0.5}, \"mode\": \"markers\", \"text\": \"Microstrategy appears with SSIS/SSRS 21 times\", \"x\": [-0.04470465273636009], \"y\": [-0.8988890332091728], \"type\": \"scatter\", \"uid\": \"e204a8f8-31e6-46b7-8807-b74d62a2410e\"}, {\"hoverinfo\": \"text\", \"marker\": {\"color\": \"green\", \"size\": 0.5}, \"mode\": \"markers\", \"text\": \"SSIS/SSRS appears with Oracle BI 207 times\", \"x\": [0.0017074684404289919], \"y\": [0.8999983803049454], \"type\": \"scatter\", \"uid\": \"c2317e65-8c31-484d-905b-1da6e64e2bf7\"}, {\"hoverinfo\": \"text\", \"marker\": {\"color\": \"blue\", \"size\": 0.5}, \"mode\": \"markers\", \"text\": \"Oracle BI appears with SSIS/SSRS 207 times\", \"x\": [0.29323564832990684], \"y\": [-0.8508894490758122], \"type\": \"scatter\", \"uid\": \"453a564a-3e07-42df-a942-c4931611e718\"}, {\"hoverinfo\": \"text\", \"marker\": {\"color\": \"green\", \"size\": 0.5}, \"mode\": \"markers\", \"text\": \"SSIS/SSRS appears with Python 128 times\", \"x\": [0.0446065805558111], \"y\": [0.8988939052920083], \"type\": \"scatter\", \"uid\": \"41dce31e-97ed-440d-a461-07982f0aef3e\"}, {\"hoverinfo\": \"text\", \"marker\": {\"color\": \"blue\", \"size\": 0.5}, \"mode\": \"markers\", \"text\": \"Python appears with SSIS/SSRS 128 times\", \"x\": [0.7688571543971237], \"y\": [-0.46782333859306074], \"type\": \"scatter\", \"uid\": \"53e703c7-bb41-4a9c-9e1c-95e7e2150fbd\"}, {\"hoverinfo\": \"text\", \"marker\": {\"color\": \"green\", \"size\": 0.5}, \"mode\": \"markers\", \"text\": \"SSIS/SSRS appears with VBA 57 times\", \"x\": [0.18335814992316896], \"y\": [0.8811241619980426], \"type\": \"scatter\", \"uid\": \"db82d850-c6f6-4ef9-a8eb-3a8e0a414885\"}, {\"hoverinfo\": \"text\", \"marker\": {\"color\": \"blue\", \"size\": 0.5}, \"mode\": \"markers\", \"text\": \"VBA appears with SSIS/SSRS 57 times\", \"x\": [0.8457119395100617], \"y\": [-0.3078495011692074], \"type\": \"scatter\", \"uid\": \"ac0fc5c3-a025-4bd1-bc82-114e1697f2e7\"}, {\"hoverinfo\": \"text\", \"marker\": {\"color\": \"green\", \"size\": 0.5}, \"mode\": \"markers\", \"text\": \"SSIS/SSRS appears with Linux 15 times\", \"x\": [0.2536769782040194], \"y\": [0.8635091144448201], \"type\": \"scatter\", \"uid\": \"03edc743-078c-48cb-9978-acb3053671ff\"}, {\"hoverinfo\": \"text\", \"marker\": {\"color\": \"blue\", \"size\": 0.5}, \"mode\": \"markers\", \"text\": \"Linux appears with SSIS/SSRS 15 times\", \"x\": [0.8738064622382219], \"y\": [-0.21555107643137136], \"type\": \"scatter\", \"uid\": \"14471c35-a2eb-4b53-ab22-63836d44110e\"}, {\"hoverinfo\": \"text\", \"marker\": {\"color\": \"green\", \"size\": 0.5}, \"mode\": \"markers\", \"text\": \"SSIS/SSRS appears with AWS 23 times\", \"x\": [0.24382735991826285], \"y\": [0.8663418600963998], \"type\": \"scatter\", \"uid\": \"abecbd17-ffa2-4cc3-beb0-49294c2da82b\"}, {\"hoverinfo\": \"text\", \"marker\": {\"color\": \"blue\", \"size\": 0.5}, \"mode\": \"markers\", \"text\": \"AWS appears with SSIS/SSRS 23 times\", \"x\": [0.8962946870945991], \"y\": [-0.08158329415998462], \"type\": \"scatter\", \"uid\": \"68a67fa2-5ea1-4c1e-86c8-0c8753d87acf\"}, {\"hoverinfo\": \"text\", \"marker\": {\"color\": \"green\", \"size\": 0.5}, \"mode\": \"markers\", \"text\": \"MS SQL Server appears with PostgreSQL 47 times\", \"x\": [-0.26170615530148006], \"y\": [0.8611096842315256], \"type\": \"scatter\", \"uid\": \"9f6a9d68-9235-4a44-9268-a7ad04c79d06\"}, {\"hoverinfo\": \"text\", \"marker\": {\"color\": \"blue\", \"size\": 0.5}, \"mode\": \"markers\", \"text\": \"PostgreSQL appears with MS SQL Server 47 times\", \"x\": [-0.5839609880303842], \"y\": [0.6848281276777244], \"type\": \"scatter\", \"uid\": \"489369da-190c-4ac3-b986-69bbf7ef2692\"}, {\"hoverinfo\": \"text\", \"marker\": {\"color\": \"green\", \"size\": 0.5}, \"mode\": \"markers\", \"text\": \"MS SQL Server appears with MySQL/MariaDB 62 times\", \"x\": [-0.2996827166784407], \"y\": [0.8486402472922372], \"type\": \"scatter\", \"uid\": \"6acd434e-ce24-4fa3-8baf-cfac520b63a4\"}, {\"hoverinfo\": \"text\", \"marker\": {\"color\": \"blue\", \"size\": 0.5}, \"mode\": \"markers\", \"text\": \"MySQL/MariaDB appears with MS SQL Server 62 times\", \"x\": [-0.6865387287079379], \"y\": [0.5819489444823219], \"type\": \"scatter\", \"uid\": \"43de70d9-5d11-4d2f-9416-d33c996108d9\"}, {\"hoverinfo\": \"text\", \"marker\": {\"color\": \"green\", \"size\": 0.5}, \"mode\": \"markers\", \"text\": \"MS SQL Server appears with T-SQL 150 times\", \"x\": [-0.4163821316398398], \"y\": [0.7978884135335361], \"type\": \"scatter\", \"uid\": \"0be07f14-4c31-47ca-b557-19b999399243\"}, {\"hoverinfo\": \"text\", \"marker\": {\"color\": \"blue\", \"size\": 0.5}, \"mode\": \"markers\", \"text\": \"T-SQL appears with MS SQL Server 150 times\", \"x\": [-0.8233956478455113], \"y\": [0.3633450248855359], \"type\": \"scatter\", \"uid\": \"41b80b2f-660d-4e81-8874-3e5c8cade566\"}, {\"hoverinfo\": \"text\", \"marker\": {\"color\": \"green\", \"size\": 0.5}, \"mode\": \"markers\", \"text\": \"MS SQL Server appears with PL/SQL 10 times\", \"x\": [-0.21367153668294223], \"y\": [0.8742679648777886], \"type\": \"scatter\", \"uid\": \"a44a684a-4a62-41c6-8928-aaaf4140c299\"}, {\"hoverinfo\": \"text\", \"marker\": {\"color\": \"blue\", \"size\": 0.5}, \"mode\": \"markers\", \"text\": \"PL/SQL appears with MS SQL Server 10 times\", \"x\": [-0.8562013016590088], \"y\": [0.2773433450389953], \"type\": \"scatter\", \"uid\": \"42de0246-173e-45a5-a24d-8735195a4758\"}, {\"hoverinfo\": \"text\", \"marker\": {\"color\": \"green\", \"size\": 0.5}, \"mode\": \"markers\", \"text\": \"MS SQL Server appears with Pentaho 42 times\", \"x\": [-0.2509479013099408], \"y\": [0.864306167297293], \"type\": \"scatter\", \"uid\": \"5c8bbc80-c106-4ca4-8065-74258c30047c\"}, {\"hoverinfo\": \"text\", \"marker\": {\"color\": \"blue\", \"size\": 0.5}, \"mode\": \"markers\", \"text\": \"Pentaho appears with MS SQL Server 42 times\", \"x\": [-0.890271120419709], \"y\": [0.13197474056286695], \"type\": \"scatter\", \"uid\": \"1b215c28-796d-4447-a908-877aa7db415f\"}, {\"hoverinfo\": \"text\", \"marker\": {\"color\": \"green\", \"size\": 0.5}, \"mode\": \"markers\", \"text\": \"MS SQL Server appears with Hadoop 24 times\", \"x\": [-0.22663221969661426], \"y\": [0.8709981842664114], \"type\": \"scatter\", \"uid\": \"30cd4223-97ce-43d0-a121-563fc2be3c3b\"}, {\"hoverinfo\": \"text\", \"marker\": {\"color\": \"blue\", \"size\": 0.5}, \"mode\": \"markers\", \"text\": \"Hadoop appears with MS SQL Server 24 times\", \"x\": [-0.8981898659015662], \"y\": [0.0570522987418259], \"type\": \"scatter\", \"uid\": \"fe418d48-1f8b-455e-a827-850de4e6d3fb\"}, {\"hoverinfo\": \"text\", \"marker\": {\"color\": \"green\", \"size\": 0.5}, \"mode\": \"markers\", \"text\": \"MS SQL Server appears with Spark 20 times\", \"x\": [-0.22125821873747026], \"y\": [0.8723788171666721], \"type\": \"scatter\", \"uid\": \"ec05e9bc-2b04-46da-87fa-76467629a2b5\"}, {\"hoverinfo\": \"text\", \"marker\": {\"color\": \"blue\", \"size\": 0.5}, \"mode\": \"markers\", \"text\": \"Spark appears with MS SQL Server 20 times\", \"x\": [-0.8946414873087889], \"y\": [-0.0980643114793458], \"type\": \"scatter\", \"uid\": \"9f29b07a-a8e1-43f5-b1df-f0068a33328c\"}, {\"hoverinfo\": \"text\", \"marker\": {\"color\": \"green\", \"size\": 0.5}, \"mode\": \"markers\", \"text\": \"MS SQL Server appears with Informatica 55 times\", \"x\": [-0.2857309986514288], \"y\": [0.8534388064821387], \"type\": \"scatter\", \"uid\": \"83c501de-2720-4e42-a505-da006443e4fe\"}, {\"hoverinfo\": \"text\", \"marker\": {\"color\": \"blue\", \"size\": 0.5}, \"mode\": \"markers\", \"text\": \"Informatica appears with MS SQL Server 55 times\", \"x\": [-0.8556870331399696], \"y\": [-0.27892597820231174], \"type\": \"scatter\", \"uid\": \"9cd2d3db-6e7b-43c5-8469-910aa317ae85\"}, {\"hoverinfo\": \"text\", \"marker\": {\"color\": \"green\", \"size\": 0.5}, \"mode\": \"markers\", \"text\": \"MS SQL Server appears with Qlik 49 times\", \"x\": [-0.27326489184465036], \"y\": [0.857511690232344], \"type\": \"scatter\", \"uid\": \"cad88bfe-0350-4b71-ae74-cf7a4d6b74ec\"}, {\"hoverinfo\": \"text\", \"marker\": {\"color\": \"blue\", \"size\": 0.5}, \"mode\": \"markers\", \"text\": \"Qlik appears with MS SQL Server 49 times\", \"x\": [-0.7770750173968153], \"y\": [-0.4540423078720081], \"type\": \"scatter\", \"uid\": \"2c04df11-f673-47e6-8878-9878b7b6f9b3\"}, {\"hoverinfo\": \"text\", \"marker\": {\"color\": \"green\", \"size\": 0.5}, \"mode\": \"markers\", \"text\": \"MS SQL Server appears with Tableau 80 times\", \"x\": [-0.3165070270156174], \"y\": [0.8425101197313509], \"type\": \"scatter\", \"uid\": \"46c98f56-81bc-48fa-a118-c50fbd8c675f\"}, {\"hoverinfo\": \"text\", \"marker\": {\"color\": \"blue\", \"size\": 0.5}, \"mode\": \"markers\", \"text\": \"Tableau appears with MS SQL Server 80 times\", \"x\": [-0.45763821743993266], \"y\": [-0.774962748742416], \"type\": \"scatter\", \"uid\": \"fd7e0959-5dad-4c81-95a0-62a68ccadd5e\"}, {\"hoverinfo\": \"text\", \"marker\": {\"color\": \"green\", \"size\": 0.5}, \"mode\": \"markers\", \"text\": \"MS SQL Server appears with Microstrategy 16 times\", \"x\": [-0.2168550446735836], \"y\": [0.8734837660767475], \"type\": \"scatter\", \"uid\": \"420b08d0-1fa7-4292-950d-8977b49abac1\"}, {\"hoverinfo\": \"text\", \"marker\": {\"color\": \"blue\", \"size\": 0.5}, \"mode\": \"markers\", \"text\": \"Microstrategy appears with MS SQL Server 16 times\", \"x\": [-0.05428156038751881], \"y\": [-0.8983615709734561], \"type\": \"scatter\", \"uid\": \"e3757314-ae6c-4c30-8091-9f806f1dedb0\"}, {\"hoverinfo\": \"text\", \"marker\": {\"color\": \"green\", \"size\": 0.5}, \"mode\": \"markers\", \"text\": \"MS SQL Server appears with Oracle BI 132 times\", \"x\": [-0.3845389993250212], \"y\": [0.8137135601660521], \"type\": \"scatter\", \"uid\": \"2c1246d2-8c49-4234-9de3-0bf508da92d1\"}, {\"hoverinfo\": \"text\", \"marker\": {\"color\": \"blue\", \"size\": 0.5}, \"mode\": \"markers\", \"text\": \"Oracle BI appears with MS SQL Server 132 times\", \"x\": [0.2511578463126913], \"y\": [-0.8642451829403336], \"type\": \"scatter\", \"uid\": \"bb146916-6e81-4996-be71-3c79dd31805f\"}, {\"hoverinfo\": \"text\", \"marker\": {\"color\": \"green\", \"size\": 0.5}, \"mode\": \"markers\", \"text\": \"MS SQL Server appears with Python 88 times\", \"x\": [-0.33624952444702544], \"y\": [0.8348270822806058], \"type\": \"scatter\", \"uid\": \"57e67a1c-2755-4142-ace6-1ea4f3d6b74d\"}, {\"hoverinfo\": \"text\", \"marker\": {\"color\": \"blue\", \"size\": 0.5}, \"mode\": \"markers\", \"text\": \"Python appears with MS SQL Server 88 times\", \"x\": [0.68591541387767], \"y\": [-0.5826834861269236], \"type\": \"scatter\", \"uid\": \"e2b7b1c4-664d-4e20-8377-f338c53eff82\"}, {\"hoverinfo\": \"text\", \"marker\": {\"color\": \"green\", \"size\": 0.5}, \"mode\": \"markers\", \"text\": \"MS SQL Server appears with VBA 33 times\", \"x\": [-0.23358115668381485], \"y\": [0.8691604243419342], \"type\": \"scatter\", \"uid\": \"211e1909-826e-4a75-92f6-a2573e5dca1c\"}, {\"hoverinfo\": \"text\", \"marker\": {\"color\": \"blue\", \"size\": 0.5}, \"mode\": \"markers\", \"text\": \"VBA appears with MS SQL Server 33 times\", \"x\": [0.8335261536453846], \"y\": [-0.3394615606944781], \"type\": \"scatter\", \"uid\": \"96872728-cf68-473b-9c60-4b8f69b1d717\"}, {\"hoverinfo\": \"text\", \"marker\": {\"color\": \"green\", \"size\": 0.5}, \"mode\": \"markers\", \"text\": \"MS SQL Server appears with Linux 34 times\", \"x\": [-0.24173012357851148], \"y\": [0.8669293785278692], \"type\": \"scatter\", \"uid\": \"02320556-0580-4a7e-be9a-55decaee18ae\"}, {\"hoverinfo\": \"text\", \"marker\": {\"color\": \"blue\", \"size\": 0.5}, \"mode\": \"markers\", \"text\": \"Linux appears with MS SQL Server 34 times\", \"x\": [0.8811025725451888], \"y\": [-0.18346186703031866], \"type\": \"scatter\", \"uid\": \"57245d83-60d1-475b-b238-d85b8af7ca56\"}, {\"hoverinfo\": \"text\", \"marker\": {\"color\": \"green\", \"size\": 0.5}, \"mode\": \"markers\", \"text\": \"MS SQL Server appears with AWS 9 times\", \"x\": [-0.2113433313225683], \"y\": [0.8748336963706183], \"type\": \"scatter\", \"uid\": \"7e7f711f-0d84-430e-ab40-0fa7ddd4f102\"}, {\"hoverinfo\": \"text\", \"marker\": {\"color\": \"blue\", \"size\": 0.5}, \"mode\": \"markers\", \"text\": \"AWS appears with MS SQL Server 9 times\", \"x\": [0.8950342028965317], \"y\": [-0.09441279386486816], \"type\": \"scatter\", \"uid\": \"aa5b5c62-e32f-4b2e-9616-8730b2fddbd0\"}, {\"hoverinfo\": \"text\", \"marker\": {\"color\": \"green\", \"size\": 0.5}, \"mode\": \"markers\", \"text\": \"PostgreSQL appears with MySQL/MariaDB 64 times\", \"x\": [-0.5996656080539194], \"y\": [0.6711193325462493], \"type\": \"scatter\", \"uid\": \"dfc5ad10-695e-417d-a94c-057fee065050\"}, {\"hoverinfo\": \"text\", \"marker\": {\"color\": \"blue\", \"size\": 0.5}, \"mode\": \"markers\", \"text\": \"MySQL/MariaDB appears with PostgreSQL 64 times\", \"x\": [-0.6956017970418827], \"y\": [0.571085054919233], \"type\": \"scatter\", \"uid\": \"f61a23b3-bb96-41a4-a862-5c0b17fc9a78\"}, {\"hoverinfo\": \"text\", \"marker\": {\"color\": \"green\", \"size\": 0.5}, \"mode\": \"markers\", \"text\": \"PostgreSQL appears with T-SQL 28 times\", \"x\": [-0.562917533534195], \"y\": [0.7022277767503777], \"type\": \"scatter\", \"uid\": \"a640bedd-fc17-4570-90d2-a729874d279b\"}, {\"hoverinfo\": \"text\", \"marker\": {\"color\": \"blue\", \"size\": 0.5}, \"mode\": \"markers\", \"text\": \"T-SQL appears with PostgreSQL 28 times\", \"x\": [-0.7471534284083216], \"y\": [0.5017586615273234], \"type\": \"scatter\", \"uid\": \"78b8386b-c6a3-42dc-80b1-620e35fee06e\"}, {\"hoverinfo\": \"text\", \"marker\": {\"color\": \"green\", \"size\": 0.5}, \"mode\": \"markers\", \"text\": \"PostgreSQL appears with Pentaho 40 times\", \"x\": [-0.5774558243984174], \"y\": [0.6903222224934847], \"type\": \"scatter\", \"uid\": \"538d4543-cb7a-4b2d-bd7e-953fc0a063b0\"}, {\"hoverinfo\": \"text\", \"marker\": {\"color\": \"blue\", \"size\": 0.5}, \"mode\": \"markers\", \"text\": \"Pentaho appears with PostgreSQL 40 times\", \"x\": [-0.8889314211913244], \"y\": [0.14071577174848704], \"type\": \"scatter\", \"uid\": \"450a8268-37b8-4b5e-89ce-3d4f218933b2\"}, {\"hoverinfo\": \"text\", \"marker\": {\"color\": \"green\", \"size\": 0.5}, \"mode\": \"markers\", \"text\": \"PostgreSQL appears with Hadoop 3 times\", \"x\": [-0.5492975135480955], \"y\": [0.7129321437625603], \"type\": \"scatter\", \"uid\": \"325fa21b-f034-4f6f-91eb-e269c03d4c83\"}, {\"hoverinfo\": \"text\", \"marker\": {\"color\": \"blue\", \"size\": 0.5}, \"mode\": \"markers\", \"text\": \"Hadoop appears with PostgreSQL 3 times\", \"x\": [-0.8970074351303653], \"y\": [0.07333253930448304], \"type\": \"scatter\", \"uid\": \"e00b7d7e-6262-47f6-b261-a5f1b62638ff\"}, {\"hoverinfo\": \"text\", \"marker\": {\"color\": \"green\", \"size\": 0.5}, \"mode\": \"markers\", \"text\": \"PostgreSQL appears with Spark 5 times\", \"x\": [-0.5499175369714503], \"y\": [0.7124540002914249], \"type\": \"scatter\", \"uid\": \"e0c36b8c-9e25-4d15-ab78-833206521b25\"}, {\"hoverinfo\": \"text\", \"marker\": {\"color\": \"blue\", \"size\": 0.5}, \"mode\": \"markers\", \"text\": \"Spark appears with PostgreSQL 5 times\", \"x\": [-0.8964939261873118], \"y\": [-0.07936397362316608], \"type\": \"scatter\", \"uid\": \"a64dba52-65fb-4957-92b4-5c41e2a64eb3\"}, {\"hoverinfo\": \"text\", \"marker\": {\"color\": \"green\", \"size\": 0.5}, \"mode\": \"markers\", \"text\": \"PostgreSQL appears with Qlik 13 times\", \"x\": [-0.5522389141446203], \"y\": [0.7106561627850494], \"type\": \"scatter\", \"uid\": \"3061199c-c348-4cea-b817-e64fabba9d8f\"}, {\"hoverinfo\": \"text\", \"marker\": {\"color\": \"blue\", \"size\": 0.5}, \"mode\": \"markers\", \"text\": \"Qlik appears with PostgreSQL 13 times\", \"x\": [-0.7988686804501506], \"y\": [-0.41449828877310857], \"type\": \"scatter\", \"uid\": \"b5c5e729-a9d3-43e3-a5fa-6a3cebe28680\"}, {\"hoverinfo\": \"text\", \"marker\": {\"color\": \"green\", \"size\": 0.5}, \"mode\": \"markers\", \"text\": \"PostgreSQL appears with Tableau 6 times\", \"x\": [-0.5507693894960575], \"y\": [0.7117956726435896], \"type\": \"scatter\", \"uid\": \"3916339f-c8ce-4929-b266-fb611a52d9d6\"}, {\"hoverinfo\": \"text\", \"marker\": {\"color\": \"blue\", \"size\": 0.5}, \"mode\": \"markers\", \"text\": \"Tableau appears with PostgreSQL 6 times\", \"x\": [-0.5423812084664966], \"y\": [-0.7182079258142607], \"type\": \"scatter\", \"uid\": \"4c5822a3-41cf-48c9-a2db-46b9444df970\"}, {\"hoverinfo\": \"text\", \"marker\": {\"color\": \"green\", \"size\": 0.5}, \"mode\": \"markers\", \"text\": \"PostgreSQL appears with Oracle BI 33 times\", \"x\": [-0.5719575640764755], \"y\": [0.6948845550850188], \"type\": \"scatter\", \"uid\": \"88c367f9-c4f0-498d-9e72-f6d93b6be0ec\"}, {\"hoverinfo\": \"text\", \"marker\": {\"color\": \"blue\", \"size\": 0.5}, \"mode\": \"markers\", \"text\": \"Oracle BI appears with PostgreSQL 33 times\", \"x\": [0.02908907572438677], \"y\": [-0.8995297803149715], \"type\": \"scatter\", \"uid\": \"c5e07cdb-b202-4df3-a4b5-a015726fd345\"}, {\"hoverinfo\": \"text\", \"marker\": {\"color\": \"green\", \"size\": 0.5}, \"mode\": \"markers\", \"text\": \"PostgreSQL appears with Python 23 times\", \"x\": [-0.5550168061471458], \"y\": [0.7084887754186524], \"type\": \"scatter\", \"uid\": \"56d10481-e49f-43f7-a96e-0510596b1d6d\"}, {\"hoverinfo\": \"text\", \"marker\": {\"color\": \"blue\", \"size\": 0.5}, \"mode\": \"markers\", \"text\": \"Python appears with PostgreSQL 23 times\", \"x\": [0.5978779151661404], \"y\": [-0.6727124189106289], \"type\": \"scatter\", \"uid\": \"12da5315-621b-47e3-ad69-ab2a0fd34d2b\"}, {\"hoverinfo\": \"text\", \"marker\": {\"color\": \"green\", \"size\": 0.5}, \"mode\": \"markers\", \"text\": \"PostgreSQL appears with Linux 26 times\", \"x\": [-0.5587841490777844], \"y\": [0.7055212787290093], \"type\": \"scatter\", \"uid\": \"b9f8af47-487a-48ca-8761-84b4d31c551c\"}, {\"hoverinfo\": \"text\", \"marker\": {\"color\": \"blue\", \"size\": 0.5}, \"mode\": \"markers\", \"text\": \"Linux appears with PostgreSQL 26 times\", \"x\": [0.876879979754601], \"y\": [-0.20268572003367816], \"type\": \"scatter\", \"uid\": \"78a7d0fb-59c6-45a5-a92c-d4f63bd24184\"}, {\"hoverinfo\": \"text\", \"marker\": {\"color\": \"green\", \"size\": 0.5}, \"mode\": \"markers\", \"text\": \"MySQL/MariaDB appears with T-SQL 35 times\", \"x\": [-0.6416449543480296], \"y\": [0.6311035989120288], \"type\": \"scatter\", \"uid\": \"948f1d0e-5a23-402a-b369-81aed8aec35f\"}, {\"hoverinfo\": \"text\", \"marker\": {\"color\": \"blue\", \"size\": 0.5}, \"mode\": \"markers\", \"text\": \"T-SQL appears with MySQL/MariaDB 35 times\", \"x\": [-0.7600520063144467], \"y\": [0.48199683370057966], \"type\": \"scatter\", \"uid\": \"e51374dd-51c1-495f-a41c-498515f559cf\"}, {\"hoverinfo\": \"text\", \"marker\": {\"color\": \"green\", \"size\": 0.5}, \"mode\": \"markers\", \"text\": \"MySQL/MariaDB appears with Pentaho 58 times\", \"x\": [-0.677749473201328], \"y\": [0.5921618457612096], \"type\": \"scatter\", \"uid\": \"b17671de-fe58-41ca-8fde-e3893b64064f\"}, {\"hoverinfo\": \"text\", \"marker\": {\"color\": \"blue\", \"size\": 0.5}, \"mode\": \"markers\", \"text\": \"Pentaho appears with MySQL/MariaDB 58 times\", \"x\": [-0.8917885663071276], \"y\": [0.12129778647559086], \"type\": \"scatter\", \"uid\": \"67864c32-b92f-4dc6-ad9e-2d4df1c79a28\"}, {\"hoverinfo\": \"text\", \"marker\": {\"color\": \"green\", \"size\": 0.5}, \"mode\": \"markers\", \"text\": \"MySQL/MariaDB appears with Hadoop 4 times\", \"x\": [-0.6257799550003089], \"y\": [0.6468380383989576], \"type\": \"scatter\", \"uid\": \"b57ea68c-aadb-4cdd-b7f3-4c3e5b7e4554\"}, {\"hoverinfo\": \"text\", \"marker\": {\"color\": \"blue\", \"size\": 0.5}, \"mode\": \"markers\", \"text\": \"Hadoop appears with MySQL/MariaDB 4 times\", \"x\": [-0.897123903468981], \"y\": [0.07189368417725307], \"type\": \"scatter\", \"uid\": \"f804db77-eafe-475e-9190-75723f0acc68\"}, {\"hoverinfo\": \"text\", \"marker\": {\"color\": \"green\", \"size\": 0.5}, \"mode\": \"markers\", \"text\": \"MySQL/MariaDB appears with Spark 19 times\", \"x\": [-0.6322846749930373], \"y\": [0.6404811392765201], \"type\": \"scatter\", \"uid\": \"7578fcfc-df11-4684-b09b-e69e0f8d360a\"}, {\"hoverinfo\": \"text\", \"marker\": {\"color\": \"blue\", \"size\": 0.5}, \"mode\": \"markers\", \"text\": \"Spark appears with MySQL/MariaDB 19 times\", \"x\": [-0.8951090325112875], \"y\": [-0.09370069325627714], \"type\": \"scatter\", \"uid\": \"b1e06c42-fd77-4cd9-a1a6-2cbd1e78c26b\"}, {\"hoverinfo\": \"text\", \"marker\": {\"color\": \"green\", \"size\": 0.5}, \"mode\": \"markers\", \"text\": \"MySQL/MariaDB appears with Informatica 8 times\", \"x\": [-0.6275530186866238], \"y\": [0.6451179804790019], \"type\": \"scatter\", \"uid\": \"a46e3bdc-b210-4aef-9794-19cec90d89ea\"}, {\"hoverinfo\": \"text\", \"marker\": {\"color\": \"blue\", \"size\": 0.5}, \"mode\": \"markers\", \"text\": \"Informatica appears with MySQL/MariaDB 8 times\", \"x\": [-0.8669769729635816], \"y\": [-0.24155936817044596], \"type\": \"scatter\", \"uid\": \"42183207-688d-4bf9-ade4-62624b64c0a1\"}, {\"hoverinfo\": \"text\", \"marker\": {\"color\": \"green\", \"size\": 0.5}, \"mode\": \"markers\", \"text\": \"MySQL/MariaDB appears with Qlik 16 times\", \"x\": [-0.6294818774376393], \"y\": [0.6432360111013569], \"type\": \"scatter\", \"uid\": \"2c9d671e-cc4a-4226-b85d-89a19176f7cf\"}, {\"hoverinfo\": \"text\", \"marker\": {\"color\": \"blue\", \"size\": 0.5}, \"mode\": \"markers\", \"text\": \"Qlik appears with MySQL/MariaDB 16 times\", \"x\": [-0.7953943993480199], \"y\": [-0.4211267617782117], \"type\": \"scatter\", \"uid\": \"ff83f5fc-c887-4a34-82e5-2d594b633d02\"}, {\"hoverinfo\": \"text\", \"marker\": {\"color\": \"green\", \"size\": 0.5}, \"mode\": \"markers\", \"text\": \"MySQL/MariaDB appears with Tableau 38 times\", \"x\": [-0.647366136063906], \"y\": [0.625233625037624], \"type\": \"scatter\", \"uid\": \"19e66c0e-d3eb-4ca3-964f-bf9bb3929d0a\"}, {\"hoverinfo\": \"text\", \"marker\": {\"color\": \"blue\", \"size\": 0.5}, \"mode\": \"markers\", \"text\": \"Tableau appears with MySQL/MariaDB 38 times\", \"x\": [-0.5044482862757469], \"y\": [-0.7453401414612406], \"type\": \"scatter\", \"uid\": \"ee275918-7de4-4c30-a686-3c596988ddbb\"}, {\"hoverinfo\": \"text\", \"marker\": {\"color\": \"green\", \"size\": 0.5}, \"mode\": \"markers\", \"text\": \"MySQL/MariaDB appears with Oracle BI 54 times\", \"x\": [-0.6694090700637025], \"y\": [0.6015741823885473], \"type\": \"scatter\", \"uid\": \"8678dffd-c193-48b3-bd49-f44e2c48ff56\"}, {\"hoverinfo\": \"text\", \"marker\": {\"color\": \"blue\", \"size\": 0.5}, \"mode\": \"markers\", \"text\": \"Oracle BI appears with MySQL/MariaDB 54 times\", \"x\": [0.07342389605893938], \"y\": [-0.8969999618102145], \"type\": \"scatter\", \"uid\": \"3490399d-2863-4b8d-924a-84b2bba7bca4\"}, {\"hoverinfo\": \"text\", \"marker\": {\"color\": \"green\", \"size\": 0.5}, \"mode\": \"markers\", \"text\": \"MySQL/MariaDB appears with Python 45 times\", \"x\": [-0.653805779224105], \"y\": [0.6184965667270603], \"type\": \"scatter\", \"uid\": \"0de1f04a-c31d-4952-be2e-6a0c972e82fd\"}, {\"hoverinfo\": \"text\", \"marker\": {\"color\": \"blue\", \"size\": 0.5}, \"mode\": \"markers\", \"text\": \"Python appears with MySQL/MariaDB 45 times\", \"x\": [0.6216732370905971], \"y\": [-0.6507859757902734], \"type\": \"scatter\", \"uid\": \"6ba6248c-0e74-46cb-9832-aa9ea3882784\"}, {\"hoverinfo\": \"text\", \"marker\": {\"color\": \"green\", \"size\": 0.5}, \"mode\": \"markers\", \"text\": \"MySQL/MariaDB appears with VBA 3 times\", \"x\": [-0.6252148090575658], \"y\": [0.6473843082243435], \"type\": \"scatter\", \"uid\": \"a5e1e234-0c2f-4b88-ac10-d390cdb5e1d1\"}, {\"hoverinfo\": \"text\", \"marker\": {\"color\": \"blue\", \"size\": 0.5}, \"mode\": \"markers\", \"text\": \"VBA appears with MySQL/MariaDB 3 times\", \"x\": [0.8226929162395257], \"y\": [-0.364933371410871], \"type\": \"scatter\", \"uid\": \"9f42f3d7-90ee-4c48-8c0d-e606820d5cdd\"}, {\"hoverinfo\": \"text\", \"marker\": {\"color\": \"green\", \"size\": 0.5}, \"mode\": \"markers\", \"text\": \"MySQL/MariaDB appears with Linux 32 times\", \"x\": [-0.6363471536038088], \"y\": [0.636445048767237], \"type\": \"scatter\", \"uid\": \"1498dd9f-7fbb-4aa8-ba6e-b319d46c1b51\"}, {\"hoverinfo\": \"text\", \"marker\": {\"color\": \"blue\", \"size\": 0.5}, \"mode\": \"markers\", \"text\": \"Linux appears with MySQL/MariaDB 32 times\", \"x\": [0.8796523673054221], \"y\": [-0.19029375369140944], \"type\": \"scatter\", \"uid\": \"406b6c2a-4616-45e4-a118-5059cefd6c92\"}, {\"hoverinfo\": \"text\", \"marker\": {\"color\": \"green\", \"size\": 0.5}, \"mode\": \"markers\", \"text\": \"T-SQL appears with PL/SQL 30 times\", \"x\": [-0.7510840869644152], \"y\": [0.4958555175742535], \"type\": \"scatter\", \"uid\": \"09912a82-d451-4021-b84d-8e875b74cb20\"}, {\"hoverinfo\": \"text\", \"marker\": {\"color\": \"blue\", \"size\": 0.5}, \"mode\": \"markers\", \"text\": \"PL/SQL appears with T-SQL 30 times\", \"x\": [-0.8621230641680815], \"y\": [0.2583482576473818], \"type\": \"scatter\", \"uid\": \"319595d3-efd8-41c9-bc2c-b4c97dc1f4ed\"}, {\"hoverinfo\": \"text\", \"marker\": {\"color\": \"green\", \"size\": 0.5}, \"mode\": \"markers\", \"text\": \"T-SQL appears with Pentaho 35 times\", \"x\": [-0.7554337021031078], \"y\": [0.48920335416551763], \"type\": \"scatter\", \"uid\": \"d30c7a4a-9212-4546-b19f-2262a2cb0a75\"}, {\"hoverinfo\": \"text\", \"marker\": {\"color\": \"blue\", \"size\": 0.5}, \"mode\": \"markers\", \"text\": \"Pentaho appears with T-SQL 35 times\", \"x\": [-0.8876309389451372], \"y\": [0.1486987431936601], \"type\": \"scatter\", \"uid\": \"b214e780-6ca1-4cfe-a20a-c8ce84dda210\"}, {\"hoverinfo\": \"text\", \"marker\": {\"color\": \"green\", \"size\": 0.5}, \"mode\": \"markers\", \"text\": \"T-SQL appears with Hadoop 16 times\", \"x\": [-0.7374749613584137], \"y\": [0.5158785529263707], \"type\": \"scatter\", \"uid\": \"6856876f-2b1c-4dfb-a8fa-409c0f11596f\"}, {\"hoverinfo\": \"text\", \"marker\": {\"color\": \"blue\", \"size\": 0.5}, \"mode\": \"markers\", \"text\": \"Hadoop appears with T-SQL 16 times\", \"x\": [-0.8976315365805286], \"y\": [0.06525047537052232], \"type\": \"scatter\", \"uid\": \"965ee466-1f02-45dc-ad04-6297e444cfa8\"}, {\"hoverinfo\": \"text\", \"marker\": {\"color\": \"green\", \"size\": 0.5}, \"mode\": \"markers\", \"text\": \"T-SQL appears with Spark 16 times\", \"x\": [-0.7352251502411157], \"y\": [0.5190799345504782], \"type\": \"scatter\", \"uid\": \"a2e30340-ba20-4aa7-8f38-378b9d1de3d6\"}, {\"hoverinfo\": \"text\", \"marker\": {\"color\": \"blue\", \"size\": 0.5}, \"mode\": \"markers\", \"text\": \"Spark appears with T-SQL 16 times\", \"x\": [-0.8955105036624983], \"y\": [-0.08978272567782018], \"type\": \"scatter\", \"uid\": \"4ff89383-fb39-43a3-a06e-af12cfd9c2fd\"}, {\"hoverinfo\": \"text\", \"marker\": {\"color\": \"green\", \"size\": 0.5}, \"mode\": \"markers\", \"text\": \"T-SQL appears with Informatica 12 times\", \"x\": [-0.7332451640790255], \"y\": [0.5218730969830914], \"type\": \"scatter\", \"uid\": \"50641442-7ff1-4200-aac5-2ca4e6041aac\"}, {\"hoverinfo\": \"text\", \"marker\": {\"color\": \"blue\", \"size\": 0.5}, \"mode\": \"markers\", \"text\": \"Informatica appears with T-SQL 12 times\", \"x\": [-0.8644589661088804], \"y\": [-0.2504210372831436], \"type\": \"scatter\", \"uid\": \"d3dd8373-ee95-47aa-807d-d9c4e1e463c0\"}, {\"hoverinfo\": \"text\", \"marker\": {\"color\": \"green\", \"size\": 0.5}, \"mode\": \"markers\", \"text\": \"T-SQL appears with Qlik 64 times\", \"x\": [-0.776662390697109], \"y\": [0.45474776621403146], \"type\": \"scatter\", \"uid\": \"3f400da4-1a5d-4006-977b-9797d3b111a0\"}, {\"hoverinfo\": \"text\", \"marker\": {\"color\": \"blue\", \"size\": 0.5}, \"mode\": \"markers\", \"text\": \"Qlik appears with T-SQL 64 times\", \"x\": [-0.7616134856759557], \"y\": [-0.47952570153905294], \"type\": \"scatter\", \"uid\": \"9ca082f1-79ee-4ffa-934d-31863df757a3\"}, {\"hoverinfo\": \"text\", \"marker\": {\"color\": \"green\", \"size\": 0.5}, \"mode\": \"markers\", \"text\": \"T-SQL appears with Tableau 86 times\", \"x\": [-0.7857680076465223], \"y\": [0.43882643284015493], \"type\": \"scatter\", \"uid\": \"0ba1f7dc-9195-4609-ac44-d76ab5229f51\"}, {\"hoverinfo\": \"text\", \"marker\": {\"color\": \"blue\", \"size\": 0.5}, \"mode\": \"markers\", \"text\": \"Tableau appears with T-SQL 86 times\", \"x\": [-0.43909357327631104], \"y\": [-0.7856187586275171], \"type\": \"scatter\", \"uid\": \"3b3c6bcb-c4f8-489b-bced-f3230c75a694\"}, {\"hoverinfo\": \"text\", \"marker\": {\"color\": \"green\", \"size\": 0.5}, \"mode\": \"markers\", \"text\": \"T-SQL appears with Microstrategy 9 times\", \"x\": [-0.7317532092017967], \"y\": [0.5239630147471018], \"type\": \"scatter\", \"uid\": \"8b705932-1258-4cd4-bfad-8dc472d8b3cf\"}, {\"hoverinfo\": \"text\", \"marker\": {\"color\": \"blue\", \"size\": 0.5}, \"mode\": \"markers\", \"text\": \"Microstrategy appears with T-SQL 9 times\", \"x\": [-0.06063457850060902], \"y\": [-0.8979551480391732], \"type\": \"scatter\", \"uid\": \"77d209b8-344f-4564-9ab7-118bd7a70c7c\"}, {\"hoverinfo\": \"text\", \"marker\": {\"color\": \"green\", \"size\": 0.5}, \"mode\": \"markers\", \"text\": \"T-SQL appears with Oracle BI 118 times\", \"x\": [-0.8096229094122503], \"y\": [0.39307854756377014], \"type\": \"scatter\", \"uid\": \"6da1a1ea-6857-4b42-beaa-293e50bb4b91\"}, {\"hoverinfo\": \"text\", \"marker\": {\"color\": \"blue\", \"size\": 0.5}, \"mode\": \"markers\", \"text\": \"Oracle BI appears with T-SQL 118 times\", \"x\": [0.1576044834553116], \"y\": [-0.8860930124963092], \"type\": \"scatter\", \"uid\": \"3fd6c529-d207-4432-902b-bd237d3ce7a8\"}, {\"hoverinfo\": \"text\", \"marker\": {\"color\": \"green\", \"size\": 0.5}, \"mode\": \"markers\", \"text\": \"T-SQL appears with Python 45 times\", \"x\": [-0.7698430638956703], \"y\": [0.4661991602005811], \"type\": \"scatter\", \"uid\": \"33bc9846-fe86-4f00-9219-b62f47efc276\"}, {\"hoverinfo\": \"text\", \"marker\": {\"color\": \"blue\", \"size\": 0.5}, \"mode\": \"markers\", \"text\": \"Python appears with T-SQL 45 times\", \"x\": [0.6298494192456444], \"y\": [-0.6428761226518873], \"type\": \"scatter\", \"uid\": \"34b80835-4cb9-4c23-9394-2ae77d88eb79\"}, {\"hoverinfo\": \"text\", \"marker\": {\"color\": \"green\", \"size\": 0.5}, \"mode\": \"markers\", \"text\": \"T-SQL appears with VBA 26 times\", \"x\": [-0.7434521390764622], \"y\": [0.507226691827858], \"type\": \"scatter\", \"uid\": \"526d78ff-7a5a-41ae-aa3a-285840865341\"}, {\"hoverinfo\": \"text\", \"marker\": {\"color\": \"blue\", \"size\": 0.5}, \"mode\": \"markers\", \"text\": \"VBA appears with T-SQL 26 times\", \"x\": [0.8264640575107297], \"y\": [-0.35631048489049744], \"type\": \"scatter\", \"uid\": \"77d02801-cf90-406c-9f83-cbf49714e2c8\"}, {\"hoverinfo\": \"text\", \"marker\": {\"color\": \"green\", \"size\": 0.5}, \"mode\": \"markers\", \"text\": \"T-SQL appears with Linux 22 times\", \"x\": [-0.7401285034321287], \"y\": [0.5120642522255556], \"type\": \"scatter\", \"uid\": \"787cfbf5-d136-4371-a14e-2c88d89b769f\"}, {\"hoverinfo\": \"text\", \"marker\": {\"color\": \"blue\", \"size\": 0.5}, \"mode\": \"markers\", \"text\": \"Linux appears with T-SQL 22 times\", \"x\": [0.875722115640142], \"y\": [-0.2076313468114912], \"type\": \"scatter\", \"uid\": \"bd825287-950c-4a82-b353-f47877730308\"}, {\"hoverinfo\": \"text\", \"marker\": {\"color\": \"green\", \"size\": 0.5}, \"mode\": \"markers\", \"text\": \"T-SQL appears with AWS 8 times\", \"x\": [-0.7305410727744637], \"y\": [0.5256517297503509], \"type\": \"scatter\", \"uid\": \"dbc14327-40c9-4683-abc7-ebabb514f5ca\"}, {\"hoverinfo\": \"text\", \"marker\": {\"color\": \"blue\", \"size\": 0.5}, \"mode\": \"markers\", \"text\": \"AWS appears with T-SQL 8 times\", \"x\": [0.8948585143195329], \"y\": [-0.09606372546304087], \"type\": \"scatter\", \"uid\": \"a628d380-362b-4c1a-91fc-9a32f633382e\"}, {\"hoverinfo\": \"text\", \"marker\": {\"color\": \"green\", \"size\": 0.5}, \"mode\": \"markers\", \"text\": \"PL/SQL appears with Pentaho 8 times\", \"x\": [-0.8557201644221297], \"y\": [0.2788243178084785], \"type\": \"scatter\", \"uid\": \"dcf15154-c1d8-474b-a7a3-f3c54a294b7d\"}, {\"hoverinfo\": \"text\", \"marker\": {\"color\": \"blue\", \"size\": 0.5}, \"mode\": \"markers\", \"text\": \"Pentaho appears with PL/SQL 8 times\", \"x\": [-0.8763307273762084], \"y\": [0.2050474487924333], \"type\": \"scatter\", \"uid\": \"64fc050e-7fb9-4a5e-b0b2-64500a7dc24c\"}, {\"hoverinfo\": \"text\", \"marker\": {\"color\": \"green\", \"size\": 0.5}, \"mode\": \"markers\", \"text\": \"PL/SQL appears with Hadoop 3 times\", \"x\": [-0.854831427386882], \"y\": [0.2815372635224435], \"type\": \"scatter\", \"uid\": \"fd81b62d-c384-4e9a-bb02-afb56ccb7cc2\"}, {\"hoverinfo\": \"text\", \"marker\": {\"color\": \"blue\", \"size\": 0.5}, \"mode\": \"markers\", \"text\": \"Hadoop appears with PL/SQL 3 times\", \"x\": [-0.8970614765234585], \"y\": [0.07266847554168632], \"type\": \"scatter\", \"uid\": \"8534a3f6-bcad-40cf-96ad-83b971802dd2\"}, {\"hoverinfo\": \"text\", \"marker\": {\"color\": \"green\", \"size\": 0.5}, \"mode\": \"markers\", \"text\": \"PL/SQL appears with Informatica 23 times\", \"x\": [-0.8595230724189343], \"y\": [0.26687092007094987], \"type\": \"scatter\", \"uid\": \"bba74a7d-a587-4dc8-b29d-82c9188c3368\"}, {\"hoverinfo\": \"text\", \"marker\": {\"color\": \"blue\", \"size\": 0.5}, \"mode\": \"markers\", \"text\": \"Informatica appears with PL/SQL 23 times\", \"x\": [-0.8622144246319715], \"y\": [-0.25804318622385325], \"type\": \"scatter\", \"uid\": \"b1dc9953-ad97-48eb-97c9-e86f6d83023f\"}, {\"hoverinfo\": \"text\", \"marker\": {\"color\": \"green\", \"size\": 0.5}, \"mode\": \"markers\", \"text\": \"PL/SQL appears with Qlik 12 times\", \"x\": [-0.8567858774127963], \"y\": [0.2755321401687737], \"type\": \"scatter\", \"uid\": \"d209de16-01e3-4ed8-9ff1-c51336d9853f\"}, {\"hoverinfo\": \"text\", \"marker\": {\"color\": \"blue\", \"size\": 0.5}, \"mode\": \"markers\", \"text\": \"Qlik appears with PL/SQL 12 times\", \"x\": [-0.8003241855122194], \"y\": [-0.41168094209497075], \"type\": \"scatter\", \"uid\": \"d4abdf17-2530-4fe8-a4cf-349bc133fd5a\"}, {\"hoverinfo\": \"text\", \"marker\": {\"color\": \"green\", \"size\": 0.5}, \"mode\": \"markers\", \"text\": \"PL/SQL appears with Tableau 15 times\", \"x\": [-0.8574980744977205], \"y\": [0.27330761466285874], \"type\": \"scatter\", \"uid\": \"6d5e1370-1b5d-473b-a6d0-384dbb24601e\"}, {\"hoverinfo\": \"text\", \"marker\": {\"color\": \"blue\", \"size\": 0.5}, \"mode\": \"markers\", \"text\": \"Tableau appears with PL/SQL 15 times\", \"x\": [-0.5375363587279253], \"y\": [-0.7218411619224296], \"type\": \"scatter\", \"uid\": \"50ccb2aa-2f50-4de2-8d39-b6f0a26daeb3\"}, {\"hoverinfo\": \"text\", \"marker\": {\"color\": \"green\", \"size\": 0.5}, \"mode\": \"markers\", \"text\": \"PL/SQL appears with Microstrategy 20 times\", \"x\": [-0.858412696092723], \"y\": [0.2704212328697995], \"type\": \"scatter\", \"uid\": \"46821429-7b99-47af-8d1e-297c10af4221\"}, {\"hoverinfo\": \"text\", \"marker\": {\"color\": \"blue\", \"size\": 0.5}, \"mode\": \"markers\", \"text\": \"Microstrategy appears with PL/SQL 20 times\", \"x\": [-0.04818010396548102], \"y\": [-0.8987094511475194], \"type\": \"scatter\", \"uid\": \"5fa35654-21ee-4649-ac82-824bbebdff7c\"}, {\"hoverinfo\": \"text\", \"marker\": {\"color\": \"green\", \"size\": 0.5}, \"mode\": \"markers\", \"text\": \"PL/SQL appears with Oracle BI 74 times\", \"x\": [-0.8669764738702163], \"y\": [0.24156115945152756], \"type\": \"scatter\", \"uid\": \"3803addf-1618-48cf-92ca-28c22215d54f\"}, {\"hoverinfo\": \"text\", \"marker\": {\"color\": \"blue\", \"size\": 0.5}, \"mode\": \"markers\", \"text\": \"Oracle BI appears with PL/SQL 74 times\", \"x\": [0.10478519663762345], \"y\": [-0.8938792214642953], \"type\": \"scatter\", \"uid\": \"02ae623b-741c-4bbb-a974-03544ffcefd7\"}, {\"hoverinfo\": \"text\", \"marker\": {\"color\": \"green\", \"size\": 0.5}, \"mode\": \"markers\", \"text\": \"PL/SQL appears with Python 2 times\", \"x\": [-0.8546960197212575], \"y\": [0.2819480694607426], \"type\": \"scatter\", \"uid\": \"f5d5b6e8-134a-48a9-9751-5c5104c705f8\"}, {\"hoverinfo\": \"text\", \"marker\": {\"color\": \"blue\", \"size\": 0.5}, \"mode\": \"markers\", \"text\": \"Python appears with PL/SQL 2 times\", \"x\": [0.5928539466302615], \"y\": [-0.6771441485864905], \"type\": \"scatter\", \"uid\": \"3c923be6-33d0-4b7f-b352-3768d4991cbc\"}, {\"hoverinfo\": \"text\", \"marker\": {\"color\": \"green\", \"size\": 0.5}, \"mode\": \"markers\", \"text\": \"PL/SQL appears with VBA 6 times\", \"x\": [-0.8553441754876057], \"y\": [0.27997560868659255], \"type\": \"scatter\", \"uid\": \"1768874b-12ca-4b73-9d9d-2e00c083832b\"}, {\"hoverinfo\": \"text\", \"marker\": {\"color\": \"blue\", \"size\": 0.5}, \"mode\": \"markers\", \"text\": \"VBA appears with PL/SQL 6 times\", \"x\": [0.8250549192066934], \"y\": [-0.3595613720810909], \"type\": \"scatter\", \"uid\": \"9119bbe5-1cb5-4961-88b0-c3673883cb1e\"}, {\"hoverinfo\": \"text\", \"marker\": {\"color\": \"green\", \"size\": 0.5}, \"mode\": \"markers\", \"text\": \"PL/SQL appears with Linux 1 times\", \"x\": [-0.8546146803578929], \"y\": [0.2821945217696059], \"type\": \"scatter\", \"uid\": \"10d27803-46c7-4116-91e7-2ebd5bc1fe58\"}, {\"hoverinfo\": \"text\", \"marker\": {\"color\": \"blue\", \"size\": 0.5}, \"mode\": \"markers\", \"text\": \"Linux appears with PL/SQL 1 times\", \"x\": [0.8717403134068059], \"y\": [-0.22376064439798996], \"type\": \"scatter\", \"uid\": \"0b3ee0ef-28c6-4dab-b26d-dc086766605a\"}, {\"hoverinfo\": \"text\", \"marker\": {\"color\": \"green\", \"size\": 0.5}, \"mode\": \"markers\", \"text\": \"PL/SQL appears with AWS 1 times\", \"x\": [-0.8545604146348285], \"y\": [0.2823588102736482], \"type\": \"scatter\", \"uid\": \"8fd324e3-b36d-4c8e-810c-7c8aaed83c6a\"}, {\"hoverinfo\": \"text\", \"marker\": {\"color\": \"blue\", \"size\": 0.5}, \"mode\": \"markers\", \"text\": \"AWS appears with PL/SQL 1 times\", \"x\": [0.8944872144759274], \"y\": [-0.09946166668167325], \"type\": \"scatter\", \"uid\": \"9cee455e-d430-4aba-9e3a-31b0e15aae0d\"}, {\"hoverinfo\": \"text\", \"marker\": {\"color\": \"green\", \"size\": 0.5}, \"mode\": \"markers\", \"text\": \"Pentaho appears with Spark 6 times\", \"x\": [-0.8759855151294864], \"y\": [0.20651725662357695], \"type\": \"scatter\", \"uid\": \"a6f4e226-1c3a-4e4a-a7b7-e13365ff6c40\"}, {\"hoverinfo\": \"text\", \"marker\": {\"color\": \"blue\", \"size\": 0.5}, \"mode\": \"markers\", \"text\": \"Spark appears with Pentaho 6 times\", \"x\": [-0.8962619910323559], \"y\": [-0.08194170751648455], \"type\": \"scatter\", \"uid\": \"d1d363e3-d818-4e20-851a-c5b702a9fcee\"}, {\"hoverinfo\": \"text\", \"marker\": {\"color\": \"green\", \"size\": 0.5}, \"mode\": \"markers\", \"text\": \"Pentaho appears with Informatica 32 times\", \"x\": [-0.8822500268220941], \"y\": [0.17786199754982585], \"type\": \"scatter\", \"uid\": \"f8d41b7c-2a69-4bfe-ab49-88ad730b997c\"}, {\"hoverinfo\": \"text\", \"marker\": {\"color\": \"blue\", \"size\": 0.5}, \"mode\": \"markers\", \"text\": \"Informatica appears with Pentaho 32 times\", \"x\": [-0.858738895005299], \"y\": [-0.2693835744901277], \"type\": \"scatter\", \"uid\": \"f014e3a5-31fd-44a1-84c2-6f47d9707199\"}, {\"hoverinfo\": \"text\", \"marker\": {\"color\": \"green\", \"size\": 0.5}, \"mode\": \"markers\", \"text\": \"Pentaho appears with Qlik 27 times\", \"x\": [-0.8781852861582367], \"y\": [0.19695330201643207], \"type\": \"scatter\", \"uid\": \"7245f064-2738-4ff6-9970-a320701d98fd\"}, {\"hoverinfo\": \"text\", \"marker\": {\"color\": \"blue\", \"size\": 0.5}, \"mode\": \"markers\", \"text\": \"Qlik appears with Pentaho 27 times\", \"x\": [-0.7896847501352203], \"y\": [-0.43173834136415845], \"type\": \"scatter\", \"uid\": \"301a5564-8e91-46f3-8b61-a116b019d191\"}, {\"hoverinfo\": \"text\", \"marker\": {\"color\": \"green\", \"size\": 0.5}, \"mode\": \"markers\", \"text\": \"Pentaho appears with Tableau 35 times\", \"x\": [-0.8850116499715143], \"y\": [0.16356766005142348], \"type\": \"scatter\", \"uid\": \"6f860edc-6a29-4c5f-9802-4bae7455302d\"}, {\"hoverinfo\": \"text\", \"marker\": {\"color\": \"blue\", \"size\": 0.5}, \"mode\": \"markers\", \"text\": \"Tableau appears with Pentaho 35 times\", \"x\": [-0.512210119539638], \"y\": [-0.7400275626226295], \"type\": \"scatter\", \"uid\": \"55564673-2866-4559-ae6b-1fc5a21182bc\"}, {\"hoverinfo\": \"text\", \"marker\": {\"color\": \"green\", \"size\": 0.5}, \"mode\": \"markers\", \"text\": \"Pentaho appears with Microstrategy 3 times\", \"x\": [-0.8757622911312117], \"y\": [0.2074618264467243], \"type\": \"scatter\", \"uid\": \"d79a738d-39e3-41c3-bd27-e8e2118e0c04\"}, {\"hoverinfo\": \"text\", \"marker\": {\"color\": \"blue\", \"size\": 0.5}, \"mode\": \"markers\", \"text\": \"Microstrategy appears with Pentaho 3 times\", \"x\": [-0.06385230303548015], \"y\": [-0.8977320777364844], \"type\": \"scatter\", \"uid\": \"f959ed8c-1f6d-4951-b123-2d341eb3e1a1\"}, {\"hoverinfo\": \"text\", \"marker\": {\"color\": \"green\", \"size\": 0.5}, \"mode\": \"markers\", \"text\": \"Pentaho appears with Oracle BI 35 times\", \"x\": [-0.8863524740093034], \"y\": [0.15613869417151896], \"type\": \"scatter\", \"uid\": \"ca8f0c4c-6c37-44ba-8b89-acd098791ad1\"}, {\"hoverinfo\": \"text\", \"marker\": {\"color\": \"blue\", \"size\": 0.5}, \"mode\": \"markers\", \"text\": \"Oracle BI appears with Pentaho 35 times\", \"x\": [0.03793913873513326], \"y\": [-0.8991999898532229], \"type\": \"scatter\", \"uid\": \"6b1fc168-98c9-43aa-aa0b-bd19a02b3b82\"}, {\"hoverinfo\": \"text\", \"marker\": {\"color\": \"green\", \"size\": 0.5}, \"mode\": \"markers\", \"text\": \"Pentaho appears with Python 34 times\", \"x\": [-0.883629043230838], \"y\": [0.17087923793999613], \"type\": \"scatter\", \"uid\": \"83f4cd50-b975-4bd3-b6ee-978f981b65ea\"}, {\"hoverinfo\": \"text\", \"marker\": {\"color\": \"blue\", \"size\": 0.5}, \"mode\": \"markers\", \"text\": \"Python appears with Pentaho 34 times\", \"x\": [0.607732968337755], \"y\": [-0.6638227468197977], \"type\": \"scatter\", \"uid\": \"87bb4e33-6c30-4dd1-8c6f-024c3fb921e2\"}, {\"hoverinfo\": \"text\", \"marker\": {\"color\": \"green\", \"size\": 0.5}, \"mode\": \"markers\", \"text\": \"Pentaho appears with VBA 1 times\", \"x\": [-0.8756627535163517], \"y\": [0.20788155787409615], \"type\": \"scatter\", \"uid\": \"f253ba18-2f93-4b8f-b4e7-510ebd3d5832\"}, {\"hoverinfo\": \"text\", \"marker\": {\"color\": \"blue\", \"size\": 0.5}, \"mode\": \"markers\", \"text\": \"VBA appears with Pentaho 1 times\", \"x\": [0.8222433299182309], \"y\": [-0.3659452232301703], \"type\": \"scatter\", \"uid\": \"a7010158-eba8-4a38-8171-a845908b0549\"}, {\"hoverinfo\": \"text\", \"marker\": {\"color\": \"green\", \"size\": 0.5}, \"mode\": \"markers\", \"text\": \"Pentaho appears with Linux 31 times\", \"x\": [-0.8808822175303109], \"y\": [0.18451698794117022], \"type\": \"scatter\", \"uid\": \"b57fb5c2-14eb-49b1-ac0f-329f872ebf50\"}, {\"hoverinfo\": \"text\", \"marker\": {\"color\": \"blue\", \"size\": 0.5}, \"mode\": \"markers\", \"text\": \"Linux appears with Pentaho 31 times\", \"x\": [0.8782186640362785], \"y\": [-0.1968044159523213], \"type\": \"scatter\", \"uid\": \"c553fc4d-0a0b-47f0-ab11-5568709fe253\"}, {\"hoverinfo\": \"text\", \"marker\": {\"color\": \"green\", \"size\": 0.5}, \"mode\": \"markers\", \"text\": \"Pentaho appears with AWS 13 times\", \"x\": [-0.8772311998763613], \"y\": [0.2011601898077238], \"type\": \"scatter\", \"uid\": \"46fcef6d-6e9a-49ad-8ec6-6612123adc45\"}, {\"hoverinfo\": \"text\", \"marker\": {\"color\": \"blue\", \"size\": 0.5}, \"mode\": \"markers\", \"text\": \"AWS appears with Pentaho 13 times\", \"x\": [0.8952570432034734], \"y\": [-0.09227581803795734], \"type\": \"scatter\", \"uid\": \"6775cc34-fd4c-488e-9a1b-d8425bbfd2a2\"}, {\"hoverinfo\": \"text\", \"marker\": {\"color\": \"green\", \"size\": 0.5}, \"mode\": \"markers\", \"text\": \"Hadoop appears with Spark 101 times\", \"x\": [-0.899879063188985], \"y\": [-0.014753698997699143], \"type\": \"scatter\", \"uid\": \"9da997db-30e9-4515-ab2c-e41326a63311\"}, {\"hoverinfo\": \"text\", \"marker\": {\"color\": \"blue\", \"size\": 0.5}, \"mode\": \"markers\", \"text\": \"Spark appears with Hadoop 101 times\", \"x\": [-0.883277292134428], \"y\": [-0.1726882312135732], \"type\": \"scatter\", \"uid\": \"73028a76-cc99-450f-b9c8-761cda201ba1\"}, {\"hoverinfo\": \"text\", \"marker\": {\"color\": \"green\", \"size\": 0.5}, \"mode\": \"markers\", \"text\": \"Hadoop appears with Informatica 5 times\", \"x\": [-0.8972031833835548], \"y\": [0.07089744513320324], \"type\": \"scatter\", \"uid\": \"7213e7af-5500-4787-afcd-a77bcf1e2879\"}, {\"hoverinfo\": \"text\", \"marker\": {\"color\": \"blue\", \"size\": 0.5}, \"mode\": \"markers\", \"text\": \"Informatica appears with Hadoop 5 times\", \"x\": [-0.8677452330673655], \"y\": [-0.2387848623528374], \"type\": \"scatter\", \"uid\": \"3d8462b7-b27f-4ff3-9bb0-11d306b9c62b\"}, {\"hoverinfo\": \"text\", \"marker\": {\"color\": \"green\", \"size\": 0.5}, \"mode\": \"markers\", \"text\": \"Hadoop appears with Qlik 9 times\", \"x\": [-0.8974259994833101], \"y\": [0.06801893450637035], \"type\": \"scatter\", \"uid\": \"dd5979e7-d77f-4253-88f3-a4de6113cdfa\"}, {\"hoverinfo\": \"text\", \"marker\": {\"color\": \"blue\", \"size\": 0.5}, \"mode\": \"markers\", \"text\": \"Qlik appears with Hadoop 9 times\", \"x\": [-0.801539132107992], \"y\": [-0.4093104197300222], \"type\": \"scatter\", \"uid\": \"de880f0c-f060-47d7-9d02-4715c3df4374\"}, {\"hoverinfo\": \"text\", \"marker\": {\"color\": \"green\", \"size\": 0.5}, \"mode\": \"markers\", \"text\": \"Hadoop appears with Tableau 34 times\", \"x\": [-0.8992169049209964], \"y\": [0.03753608802610773], \"type\": \"scatter\", \"uid\": \"c0a27c24-712a-4803-b721-c2c4f60f11d9\"}, {\"hoverinfo\": \"text\", \"marker\": {\"color\": \"blue\", \"size\": 0.5}, \"mode\": \"markers\", \"text\": \"Tableau appears with Hadoop 34 times\", \"x\": [-0.5194952307765572], \"y\": [-0.7349317690781992], \"type\": \"scatter\", \"uid\": \"e04e9659-89aa-4e21-a1e1-444e3615364c\"}, {\"hoverinfo\": \"text\", \"marker\": {\"color\": \"green\", \"size\": 0.5}, \"mode\": \"markers\", \"text\": \"Hadoop appears with Microstrategy 3 times\", \"x\": [-0.8969529021537723], \"y\": [0.07399656287913234], \"type\": \"scatter\", \"uid\": \"799a06d5-600f-4daf-b6be-2ebe75f86200\"}, {\"hoverinfo\": \"text\", \"marker\": {\"color\": \"blue\", \"size\": 0.5}, \"mode\": \"markers\", \"text\": \"Microstrategy appears with Hadoop 3 times\", \"x\": [-0.06334429472894756], \"y\": [-0.8977680659977232], \"type\": \"scatter\", \"uid\": \"3bf142ae-9474-41c5-a85e-04615e0a6f9e\"}, {\"hoverinfo\": \"text\", \"marker\": {\"color\": \"green\", \"size\": 0.5}, \"mode\": \"markers\", \"text\": \"Hadoop appears with Oracle BI 29 times\", \"x\": [-0.8985437363833555], \"y\": [0.05117766901920291], \"type\": \"scatter\", \"uid\": \"8941eab9-745a-45de-9cc6-f360e835f62e\"}, {\"hoverinfo\": \"text\", \"marker\": {\"color\": \"blue\", \"size\": 0.5}, \"mode\": \"markers\", \"text\": \"Oracle BI appears with Hadoop 29 times\", \"x\": [0.021017423789853207], \"y\": [-0.8997545598090836], \"type\": \"scatter\", \"uid\": \"19c0407d-d540-462f-907c-5dcb92d7df4c\"}, {\"hoverinfo\": \"text\", \"marker\": {\"color\": \"green\", \"size\": 0.5}, \"mode\": \"markers\", \"text\": \"Hadoop appears with Python 108 times\", \"x\": [-0.8991994838886516], \"y\": [-0.03795112876295927], \"type\": \"scatter\", \"uid\": \"28560962-5ab5-4617-90bf-cd9ddd565dfe\"}, {\"hoverinfo\": \"text\", \"marker\": {\"color\": \"blue\", \"size\": 0.5}, \"mode\": \"markers\", \"text\": \"Python appears with Hadoop 108 times\", \"x\": [0.7177030401090951], \"y\": [-0.5430491195261831], \"type\": \"scatter\", \"uid\": \"f4a22657-0f61-4e48-9f9e-edff9ee55786\"}, {\"hoverinfo\": \"text\", \"marker\": {\"color\": \"green\", \"size\": 0.5}, \"mode\": \"markers\", \"text\": \"Hadoop appears with VBA 6 times\", \"x\": [-0.8972985786588059], \"y\": [0.0696797010390173], \"type\": \"scatter\", \"uid\": \"ceff667c-2687-4a1b-9eb3-02668de2de5e\"}, {\"hoverinfo\": \"text\", \"marker\": {\"color\": \"blue\", \"size\": 0.5}, \"mode\": \"markers\", \"text\": \"VBA appears with Hadoop 6 times\", \"x\": [0.8245231944453247], \"y\": [-0.36077902076156987], \"type\": \"scatter\", \"uid\": \"7c9e51b1-11b6-4be7-8e4a-8d5f14fb1f57\"}, {\"hoverinfo\": \"text\", \"marker\": {\"color\": \"green\", \"size\": 0.5}, \"mode\": \"markers\", \"text\": \"Hadoop appears with Linux 68 times\", \"x\": [-0.8999910579898677], \"y\": [0.004011924510594134], \"type\": \"scatter\", \"uid\": \"099ea75e-f944-4c5d-953e-34690658c64a\"}, {\"hoverinfo\": \"text\", \"marker\": {\"color\": \"blue\", \"size\": 0.5}, \"mode\": \"markers\", \"text\": \"Linux appears with Hadoop 68 times\", \"x\": [0.8873800961744729], \"y\": [-0.1501884313566907], \"type\": \"scatter\", \"uid\": \"b0b0a7da-868e-4eb8-9f61-f247d44fc337\"}, {\"hoverinfo\": \"text\", \"marker\": {\"color\": \"green\", \"size\": 0.5}, \"mode\": \"markers\", \"text\": \"Hadoop appears with AWS 37 times\", \"x\": [-0.8995112173648422], \"y\": [0.029657542629481774], \"type\": \"scatter\", \"uid\": \"e2877f3a-dee2-49ef-9718-61a4136c191c\"}, {\"hoverinfo\": \"text\", \"marker\": {\"color\": \"blue\", \"size\": 0.5}, \"mode\": \"markers\", \"text\": \"AWS appears with Hadoop 37 times\", \"x\": [0.8972658217337086], \"y\": [-0.07010025070235314], \"type\": \"scatter\", \"uid\": \"b40f7040-ddaa-4b26-ac1a-f5dcffe05b17\"}, {\"hoverinfo\": \"text\", \"marker\": {\"color\": \"green\", \"size\": 0.5}, \"mode\": \"markers\", \"text\": \"Spark appears with Informatica 9 times\", \"x\": [-0.8961067356889065], \"y\": [-0.083622474568576], \"type\": \"scatter\", \"uid\": \"3b11971d-3e32-4148-94fb-860715058fdd\"}, {\"hoverinfo\": \"text\", \"marker\": {\"color\": \"blue\", \"size\": 0.5}, \"mode\": \"markers\", \"text\": \"Informatica appears with Spark 9 times\", \"x\": [-0.8664494884336862], \"y\": [-0.24344462202522246], \"type\": \"scatter\", \"uid\": \"a84fc7ee-9c30-42d4-94d8-b6a3518291b8\"}, {\"hoverinfo\": \"text\", \"marker\": {\"color\": \"green\", \"size\": 0.5}, \"mode\": \"markers\", \"text\": \"Spark appears with Qlik 15 times\", \"x\": [-0.8958517713091539], \"y\": [-0.08631108759743109], \"type\": \"scatter\", \"uid\": \"5c965c1c-2f74-4f43-9936-0f5dad4b1190\"}, {\"hoverinfo\": \"text\", \"marker\": {\"color\": \"blue\", \"size\": 0.5}, \"mode\": \"markers\", \"text\": \"Qlik appears with Spark 15 times\", \"x\": [-0.7972267412965665], \"y\": [-0.41764760619648894], \"type\": \"scatter\", \"uid\": \"5185bc65-06a5-4d7e-b806-68e527b545ab\"}, {\"hoverinfo\": \"text\", \"marker\": {\"color\": \"green\", \"size\": 0.5}, \"mode\": \"markers\", \"text\": \"Spark appears with Tableau 33 times\", \"x\": [-0.892688100658534], \"y\": [-0.11448997747689145], \"type\": \"scatter\", \"uid\": \"cb5333ff-8e14-4fb0-8753-80f0ba709453\"}, {\"hoverinfo\": \"text\", \"marker\": {\"color\": \"blue\", \"size\": 0.5}, \"mode\": \"markers\", \"text\": \"Tableau appears with Spark 33 times\", \"x\": [-0.5265206761865645], \"y\": [-0.7299150481720752], \"type\": \"scatter\", \"uid\": \"61ec8703-b5d3-433a-89bf-973f6d3ff6aa\"}, {\"hoverinfo\": \"text\", \"marker\": {\"color\": \"green\", \"size\": 0.5}, \"mode\": \"markers\", \"text\": \"Spark appears with Microstrategy 3 times\", \"x\": [-0.8965728615545846], \"y\": [-0.07846721559876899], \"type\": \"scatter\", \"uid\": \"1e8731bb-b55f-49e6-8ae1-9b5248d8b5f6\"}, {\"hoverinfo\": \"text\", \"marker\": {\"color\": \"blue\", \"size\": 0.5}, \"mode\": \"markers\", \"text\": \"Microstrategy appears with Spark 3 times\", \"x\": [-0.06436029089606586], \"y\": [-0.8976958020152338], \"type\": \"scatter\", \"uid\": \"faf01ec3-cf4c-4dda-9dc5-543b9e498aba\"}, {\"hoverinfo\": \"text\", \"marker\": {\"color\": \"green\", \"size\": 0.5}, \"mode\": \"markers\", \"text\": \"Spark appears with Oracle BI 25 times\", \"x\": [-0.8934948810120243], \"y\": [-0.10801341400635567], \"type\": \"scatter\", \"uid\": \"f3543358-db79-4391-9276-aa00c12a9a6b\"}, {\"hoverinfo\": \"text\", \"marker\": {\"color\": \"blue\", \"size\": 0.5}, \"mode\": \"markers\", \"text\": \"Oracle BI appears with Spark 25 times\", \"x\": [0.01398587409687154], \"y\": [-0.8998913241751731], \"type\": \"scatter\", \"uid\": \"252436ed-b383-4532-8bbd-f2f0f539ce98\"}, {\"hoverinfo\": \"text\", \"marker\": {\"color\": \"green\", \"size\": 0.5}, \"mode\": \"markers\", \"text\": \"Spark appears with Python 120 times\", \"x\": [-0.8781690122734259], \"y\": [-0.19702585079810073], \"type\": \"scatter\", \"uid\": \"c9f398dc-641b-455a-964b-ef65080552fa\"}, {\"hoverinfo\": \"text\", \"marker\": {\"color\": \"blue\", \"size\": 0.5}, \"mode\": \"markers\", \"text\": \"Python appears with Spark 120 times\", \"x\": [0.7347215650649765], \"y\": [-0.5197924795805259], \"type\": \"scatter\", \"uid\": \"ce4ae733-4dae-4818-8f73-9810a68d9252\"}, {\"hoverinfo\": \"text\", \"marker\": {\"color\": \"green\", \"size\": 0.5}, \"mode\": \"markers\", \"text\": \"Spark appears with VBA 6 times\", \"x\": [-0.8963839255338442], \"y\": [-0.08059688607220329], \"type\": \"scatter\", \"uid\": \"32800c9e-e5d5-41dd-a679-df5305f04aa9\"}, {\"hoverinfo\": \"text\", \"marker\": {\"color\": \"blue\", \"size\": 0.5}, \"mode\": \"markers\", \"text\": \"VBA appears with Spark 6 times\", \"x\": [0.8239896726310416], \"y\": [-0.36199588312215497], \"type\": \"scatter\", \"uid\": \"c3cc17c5-b6c7-475c-9eaf-5369e94fa7da\"}, {\"hoverinfo\": \"text\", \"marker\": {\"color\": \"green\", \"size\": 0.5}, \"mode\": \"markers\", \"text\": \"Spark appears with Linux 51 times\", \"x\": [-0.8889216932676139], \"y\": [-0.1407772113597866], \"type\": \"scatter\", \"uid\": \"124a8e6b-c057-4731-8cda-83d08971f57a\"}, {\"hoverinfo\": \"text\", \"marker\": {\"color\": \"blue\", \"size\": 0.5}, \"mode\": \"markers\", \"text\": \"Linux appears with Spark 51 times\", \"x\": [0.8828920789041286], \"y\": [-0.17464700686913012], \"type\": \"scatter\", \"uid\": \"7e9fd62e-bbf5-455f-bc8e-d0bf88bdcdd5\"}, {\"hoverinfo\": \"text\", \"marker\": {\"color\": \"green\", \"size\": 0.5}, \"mode\": \"markers\", \"text\": \"Spark appears with AWS 40 times\", \"x\": [-0.8904658633193474], \"y\": [-0.13065430059102243], \"type\": \"scatter\", \"uid\": \"ef680c57-b68c-4c8c-963e-ade799cc1229\"}, {\"hoverinfo\": \"text\", \"marker\": {\"color\": \"blue\", \"size\": 0.5}, \"mode\": \"markers\", \"text\": \"AWS appears with Spark 40 times\", \"x\": [0.8978202182964563], \"y\": [-0.0626007637182128], \"type\": \"scatter\", \"uid\": \"35a959c7-07cb-4e9e-8b4b-3478758a4ba3\"}, {\"hoverinfo\": \"text\", \"marker\": {\"color\": \"green\", \"size\": 0.5}, \"mode\": \"markers\", \"text\": \"Informatica appears with Qlik 91 times\", \"x\": [-0.8402971964607416], \"y\": [-0.32233619346920667], \"type\": \"scatter\", \"uid\": \"2f888ab4-3e38-4e5b-a2b9-fb3282ce93ec\"}, {\"hoverinfo\": \"text\", \"marker\": {\"color\": \"blue\", \"size\": 0.5}, \"mode\": \"markers\", \"text\": \"Qlik appears with Informatica 91 times\", \"x\": [-0.7509571491324262], \"y\": [-0.49604773980626016], \"type\": \"scatter\", \"uid\": \"90e3fdff-25fc-4cd3-b3cc-9a6833721172\"}, {\"hoverinfo\": \"text\", \"marker\": {\"color\": \"green\", \"size\": 0.5}, \"mode\": \"markers\", \"text\": \"Informatica appears with Tableau 64 times\", \"x\": [-0.8465242529101615], \"y\": [-0.3056087191735421], \"type\": \"scatter\", \"uid\": \"54fb036c-bfa4-4ef9-a83a-2d2a071a12c3\"}, {\"hoverinfo\": \"text\", \"marker\": {\"color\": \"blue\", \"size\": 0.5}, \"mode\": \"markers\", \"text\": \"Tableau appears with Informatica 64 times\", \"x\": [-0.47351616349993736], \"y\": [-0.7653642550474254], \"type\": \"scatter\", \"uid\": \"255f6cf9-17f4-4c7f-8ece-e8ca9a902361\"}, {\"hoverinfo\": \"text\", \"marker\": {\"color\": \"green\", \"size\": 0.5}, \"mode\": \"markers\", \"text\": \"Informatica appears with Microstrategy 11 times\", \"x\": [-0.8651921817777664], \"y\": [-0.24787595403876622], \"type\": \"scatter\", \"uid\": \"0365321f-0860-41a3-8b86-debce12ceb6a\"}, {\"hoverinfo\": \"text\", \"marker\": {\"color\": \"blue\", \"size\": 0.5}, \"mode\": \"markers\", \"text\": \"Microstrategy appears with Informatica 11 times\", \"x\": [-0.058940723843554046], \"y\": [-0.8980679211912637], \"type\": \"scatter\", \"uid\": \"1cc52641-2f92-409c-b922-3f1a72e5c802\"}, {\"hoverinfo\": \"text\", \"marker\": {\"color\": \"green\", \"size\": 0.5}, \"mode\": \"markers\", \"text\": \"Informatica appears with Oracle BI 122 times\", \"x\": [-0.8207811281462787], \"y\": [-0.3692131358428651], \"type\": \"scatter\", \"uid\": \"06260a0d-3e79-44ce-857d-ef0f5b9f883e\"}, {\"hoverinfo\": \"text\", \"marker\": {\"color\": \"blue\", \"size\": 0.5}, \"mode\": \"markers\", \"text\": \"Oracle BI appears with Informatica 122 times\", \"x\": [0.18827758321435015], \"y\": [-0.8800861046846288], \"type\": \"scatter\", \"uid\": \"5305fd25-132c-4e45-a212-a3b5ad50b985\"}, {\"hoverinfo\": \"text\", \"marker\": {\"color\": \"green\", \"size\": 0.5}, \"mode\": \"markers\", \"text\": \"Informatica appears with Python 24 times\", \"x\": [-0.8606470437422465], \"y\": [-0.26322360475027984], \"type\": \"scatter\", \"uid\": \"3dc1f912-dbb0-4175-91fb-33ab353f50c1\"}, {\"hoverinfo\": \"text\", \"marker\": {\"color\": \"blue\", \"size\": 0.5}, \"mode\": \"markers\", \"text\": \"Python appears with Informatica 24 times\", \"x\": [0.6023054271674705], \"y\": [-0.6687512036659156], \"type\": \"scatter\", \"uid\": \"78e68cd3-a02a-4a92-bea3-e26b2c9fe256\"}, {\"hoverinfo\": \"text\", \"marker\": {\"color\": \"green\", \"size\": 0.5}, \"mode\": \"markers\", \"text\": \"Informatica appears with VBA 3 times\", \"x\": [-0.8679892014362061], \"y\": [-0.23789650310615595], \"type\": \"scatter\", \"uid\": \"f326d533-8295-4074-b074-1d800f173e6c\"}, {\"hoverinfo\": \"text\", \"marker\": {\"color\": \"blue\", \"size\": 0.5}, \"mode\": \"markers\", \"text\": \"VBA appears with Informatica 3 times\", \"x\": [0.8224233138252336], \"y\": [-0.36554054888168197], \"type\": \"scatter\", \"uid\": \"120dc5e5-b03f-49bd-a068-2fadcd7be5a8\"}, {\"hoverinfo\": \"text\", \"marker\": {\"color\": \"green\", \"size\": 0.5}, \"mode\": \"markers\", \"text\": \"Informatica appears with Linux 6 times\", \"x\": [-0.8674082920478591], \"y\": [-0.240005947606754], \"type\": \"scatter\", \"uid\": \"5f22ed34-4f76-4fac-9050-bc297e39c169\"}, {\"hoverinfo\": \"text\", \"marker\": {\"color\": \"blue\", \"size\": 0.5}, \"mode\": \"markers\", \"text\": \"Linux appears with Informatica 6 times\", \"x\": [0.8726019561942504], \"y\": [-0.22037655511865914], \"type\": \"scatter\", \"uid\": \"9b9abf35-2dd3-41d0-bd8e-a28eb0f2aaa3\"}, {\"hoverinfo\": \"text\", \"marker\": {\"color\": \"green\", \"size\": 0.5}, \"mode\": \"markers\", \"text\": \"Informatica appears with AWS 17 times\", \"x\": [-0.8635238065579118], \"y\": [-0.25362696131865425], \"type\": \"scatter\", \"uid\": \"ab8afe34-2ac7-41f7-aa36-8579e49d5539\"}, {\"hoverinfo\": \"text\", \"marker\": {\"color\": \"blue\", \"size\": 0.5}, \"mode\": \"markers\", \"text\": \"AWS appears with Informatica 17 times\", \"x\": [0.8955526935241911], \"y\": [-0.08936091495484094], \"type\": \"scatter\", \"uid\": \"6b770a4f-6eca-4543-b2b7-02995953b0b1\"}, {\"hoverinfo\": \"text\", \"marker\": {\"color\": \"green\", \"size\": 0.5}, \"mode\": \"markers\", \"text\": \"Qlik appears with Tableau 296 times\", \"x\": [-0.6566607899979788], \"y\": [-0.6154645455907517], \"type\": \"scatter\", \"uid\": \"55945bf2-71cb-4391-9400-a0b00d054371\"}, {\"hoverinfo\": \"text\", \"marker\": {\"color\": \"blue\", \"size\": 0.5}, \"mode\": \"markers\", \"text\": \"Tableau appears with Qlik 296 times\", \"x\": [-0.3089995922763226], \"y\": [-0.845292406196262], \"type\": \"scatter\", \"uid\": \"19a3de53-5817-4a17-ae7b-322838472443\"}, {\"hoverinfo\": \"text\", \"marker\": {\"color\": \"green\", \"size\": 0.5}, \"mode\": \"markers\", \"text\": \"Qlik appears with Microstrategy 26 times\", \"x\": [-0.7928876577559134], \"y\": [-0.4258276202624033], \"type\": \"scatter\", \"uid\": \"a6455b7f-47b4-4b1a-ab63-28232ea978ba\"}, {\"hoverinfo\": \"text\", \"marker\": {\"color\": \"blue\", \"size\": 0.5}, \"mode\": \"markers\", \"text\": \"Microstrategy appears with Qlik 26 times\", \"x\": [-0.04071977970604693], \"y\": [-0.8990783611792084], \"type\": \"scatter\", \"uid\": \"fd668d5f-b7d4-4b56-8bfe-7f8069d31058\"}, {\"hoverinfo\": \"text\", \"marker\": {\"color\": \"green\", \"size\": 0.5}, \"mode\": \"markers\", \"text\": \"Qlik appears with Oracle BI 275 times\", \"x\": [-0.7040120882552139], \"y\": [-0.5606843850068708], \"type\": \"scatter\", \"uid\": \"f232528d-fb4e-4a12-8ea1-9b9579cb240b\"}, {\"hoverinfo\": \"text\", \"marker\": {\"color\": \"blue\", \"size\": 0.5}, \"mode\": \"markers\", \"text\": \"Oracle BI appears with Qlik 275 times\", \"x\": [0.35182417259431537], \"y\": [-0.8283838189983707], \"type\": \"scatter\", \"uid\": \"3cbd8810-3960-4efe-bdc7-e9c8990cf12e\"}, {\"hoverinfo\": \"text\", \"marker\": {\"color\": \"green\", \"size\": 0.5}, \"mode\": \"markers\", \"text\": \"Qlik appears with Python 36 times\", \"x\": [-0.7824584424739794], \"y\": [-0.4447007823258177], \"type\": \"scatter\", \"uid\": \"03f15eb0-8182-49fb-b8b1-f59cb7814748\"}, {\"hoverinfo\": \"text\", \"marker\": {\"color\": \"blue\", \"size\": 0.5}, \"mode\": \"markers\", \"text\": \"Python appears with Qlik 36 times\", \"x\": [0.6142297116120569], \"y\": [-0.6578159783503054], \"type\": \"scatter\", \"uid\": \"2294ed21-b7ad-43ad-b2df-e49bfd80310b\"}, {\"hoverinfo\": \"text\", \"marker\": {\"color\": \"green\", \"size\": 0.5}, \"mode\": \"markers\", \"text\": \"Qlik appears with VBA 27 times\", \"x\": [-0.7863760948710922], \"y\": [-0.437735807782835], \"type\": \"scatter\", \"uid\": \"852ed13a-6038-4466-a0bb-fb39ca442118\"}, {\"hoverinfo\": \"text\", \"marker\": {\"color\": \"blue\", \"size\": 0.5}, \"mode\": \"markers\", \"text\": \"VBA appears with Qlik 27 times\", \"x\": [0.8309977070875422], \"y\": [-0.34560499246285137], \"type\": \"scatter\", \"uid\": \"f63f6d9a-b91a-4e16-a309-f75a7b50cd69\"}, {\"hoverinfo\": \"text\", \"marker\": {\"color\": \"green\", \"size\": 0.5}, \"mode\": \"markers\", \"text\": \"Qlik appears with Linux 2 times\", \"x\": [-0.8021727312038329], \"y\": [-0.4080672852765623], \"type\": \"scatter\", \"uid\": \"08faf9f5-4c3c-474e-80e6-c6c6ea4cdda2\"}, {\"hoverinfo\": \"text\", \"marker\": {\"color\": \"blue\", \"size\": 0.5}, \"mode\": \"markers\", \"text\": \"Linux appears with Qlik 2 times\", \"x\": [0.8718191870790392], \"y\": [-0.2234531383553237], \"type\": \"scatter\", \"uid\": \"463f3f9c-8623-4c56-a206-e40ee1960057\"}, {\"hoverinfo\": \"text\", \"marker\": {\"color\": \"green\", \"size\": 0.5}, \"mode\": \"markers\", \"text\": \"Qlik appears with AWS 2 times\", \"x\": [-0.8024026529339324], \"y\": [-0.4076149930566677], \"type\": \"scatter\", \"uid\": \"855bc225-40d4-4cff-9187-029648b03fef\"}, {\"hoverinfo\": \"text\", \"marker\": {\"color\": \"blue\", \"size\": 0.5}, \"mode\": \"markers\", \"text\": \"AWS appears with Qlik 2 times\", \"x\": [0.894562506823222], \"y\": [-0.09878219164481418], \"type\": \"scatter\", \"uid\": \"06694647-ed8c-4bfa-bf81-ded6a6f992e9\"}, {\"hoverinfo\": \"text\", \"marker\": {\"color\": \"green\", \"size\": 0.5}, \"mode\": \"markers\", \"text\": \"Tableau appears with Microstrategy 38 times\", \"x\": [-0.49630894638954703], \"y\": [-0.7507845428175102], \"type\": \"scatter\", \"uid\": \"3b2e1a3f-82ba-44d1-ae64-81b98cc6509d\"}, {\"hoverinfo\": \"text\", \"marker\": {\"color\": \"blue\", \"size\": 0.5}, \"mode\": \"markers\", \"text\": \"Microstrategy appears with Tableau 38 times\", \"x\": [-0.030033197616597583], \"y\": [-0.8994987532181035], \"type\": \"scatter\", \"uid\": \"7eb71247-9c29-4fe1-b64e-cc809482a28b\"}, {\"hoverinfo\": \"text\", \"marker\": {\"color\": \"green\", \"size\": 0.5}, \"mode\": \"markers\", \"text\": \"Tableau appears with Oracle BI 343 times\", \"x\": [-0.2304865014073613], \"y\": [-0.8699861910794875], \"type\": \"scatter\", \"uid\": \"425bc45d-ed8b-4251-aa64-6638dd0763f5\"}, {\"hoverinfo\": \"text\", \"marker\": {\"color\": \"blue\", \"size\": 0.5}, \"mode\": \"markers\", \"text\": \"Oracle BI appears with Tableau 343 times\", \"x\": [0.4244024028358522], \"y\": [-0.7936514351194454], \"type\": \"scatter\", \"uid\": \"8011b2f3-313e-4d33-81b1-117e0317ad35\"}, {\"hoverinfo\": \"text\", \"marker\": {\"color\": \"green\", \"size\": 0.5}, \"mode\": \"markers\", \"text\": \"Tableau appears with Python 103 times\", \"x\": [-0.41767818506388393], \"y\": [-0.7972107210278472], \"type\": \"scatter\", \"uid\": \"b6c82d5b-d495-4e5b-bc8d-8a25eeb47f12\"}, {\"hoverinfo\": \"text\", \"marker\": {\"color\": \"blue\", \"size\": 0.5}, \"mode\": \"markers\", \"text\": \"Python appears with Tableau 103 times\", \"x\": [0.7012974287241472], \"y\": [-0.5640761619364], \"type\": \"scatter\", \"uid\": \"2a79f807-2e05-4833-abca-d6a587b4f44d\"}, {\"hoverinfo\": \"text\", \"marker\": {\"color\": \"green\", \"size\": 0.5}, \"mode\": \"markers\", \"text\": \"Tableau appears with VBA 54 times\", \"x\": [-0.48637754150548806], \"y\": [-0.7572561568710269], \"type\": \"scatter\", \"uid\": \"8c1e3180-86b3-432a-8f33-b173ad07e04e\"}, {\"hoverinfo\": \"text\", \"marker\": {\"color\": \"blue\", \"size\": 0.5}, \"mode\": \"markers\", \"text\": \"VBA appears with Tableau 54 times\", \"x\": [0.8371116936472861], \"y\": [-0.33052081985704357], \"type\": \"scatter\", \"uid\": \"7e3bd9ac-660c-4281-bb1e-40b32e7e3c65\"}, {\"hoverinfo\": \"text\", \"marker\": {\"color\": \"green\", \"size\": 0.5}, \"mode\": \"markers\", \"text\": \"Tableau appears with Linux 13 times\", \"x\": [-0.5404255968525882], \"y\": [-0.7196806057318231], \"type\": \"scatter\", \"uid\": \"f2df55cd-6ba6-4cb4-adf2-2d41b86d1ad6\"}, {\"hoverinfo\": \"text\", \"marker\": {\"color\": \"blue\", \"size\": 0.5}, \"mode\": \"markers\", \"text\": \"Linux appears with Tableau 13 times\", \"x\": [0.8730920951002666], \"y\": [-0.21842663178611468], \"type\": \"scatter\", \"uid\": \"20858606-eb6c-4e5a-9e51-b0c3b8aac428\"}, {\"hoverinfo\": \"text\", \"marker\": {\"color\": \"green\", \"size\": 0.5}, \"mode\": \"markers\", \"text\": \"Tableau appears with AWS 29 times\", \"x\": [-0.5329786939358834], \"y\": [-0.7252128734450319], \"type\": \"scatter\", \"uid\": \"34425241-b77c-4e34-bc2c-b7ef6ddd6f6d\"}, {\"hoverinfo\": \"text\", \"marker\": {\"color\": \"blue\", \"size\": 0.5}, \"mode\": \"markers\", \"text\": \"AWS appears with Tableau 29 times\", \"x\": [0.8967407651195353], \"y\": [-0.0765245070080849], \"type\": \"scatter\", \"uid\": \"2d70af05-d6ae-4fbf-97f8-d417e5fac3b4\"}, {\"hoverinfo\": \"text\", \"marker\": {\"color\": \"green\", \"size\": 0.5}, \"mode\": \"markers\", \"text\": \"Microstrategy appears with Oracle BI 50 times\", \"x\": [-0.02256694767403378], \"y\": [-0.8997170293334885], \"type\": \"scatter\", \"uid\": \"ccc462ab-2c75-4f04-b9f0-be297a39c9cd\"}, {\"hoverinfo\": \"text\", \"marker\": {\"color\": \"blue\", \"size\": 0.5}, \"mode\": \"markers\", \"text\": \"Oracle BI appears with Microstrategy 50 times\", \"x\": [0.05991640107318266], \"y\": [-0.8980033546053364], \"type\": \"scatter\", \"uid\": \"4af8206b-4f00-4167-8b52-1283d918925b\"}, {\"hoverinfo\": \"text\", \"marker\": {\"color\": \"green\", \"size\": 0.5}, \"mode\": \"markers\", \"text\": \"Microstrategy appears with Python 14 times\", \"x\": [-0.05682311133444542], \"y\": [-0.8982043943436667], \"type\": \"scatter\", \"uid\": \"d023d99d-e316-4fe9-b534-fa7b3c6d2051\"}, {\"hoverinfo\": \"text\", \"marker\": {\"color\": \"blue\", \"size\": 0.5}, \"mode\": \"markers\", \"text\": \"Python appears with Microstrategy 14 times\", \"x\": [0.594374090609242], \"y\": [-0.6758102103493528], \"type\": \"scatter\", \"uid\": \"dc825df5-6e20-45c4-8160-0760485f10eb\"}, {\"hoverinfo\": \"text\", \"marker\": {\"color\": \"green\", \"size\": 0.5}, \"mode\": \"markers\", \"text\": \"Microstrategy appears with VBA 6 times\", \"x\": [-0.061904828250821047], \"y\": [-0.8978684715698821], \"type\": \"scatter\", \"uid\": \"7ccea5a8-541d-41a9-8c31-8fb28155163d\"}, {\"hoverinfo\": \"text\", \"marker\": {\"color\": \"blue\", \"size\": 0.5}, \"mode\": \"markers\", \"text\": \"VBA appears with Microstrategy 6 times\", \"x\": [0.8234543549266579], \"y\": [-0.3632119565106879], \"type\": \"scatter\", \"uid\": \"6b07f04a-2075-4955-ae45-8dac8a873c4e\"}, {\"hoverinfo\": \"text\", \"marker\": {\"color\": \"green\", \"size\": 0.5}, \"mode\": \"markers\", \"text\": \"Microstrategy appears with Linux 4 times\", \"x\": [-0.06275159274693434], \"y\": [-0.8978096889696184], \"type\": \"scatter\", \"uid\": \"1f5eef9b-fafb-4e1c-9067-9319ee06932e\"}, {\"hoverinfo\": \"text\", \"marker\": {\"color\": \"blue\", \"size\": 0.5}, \"mode\": \"markers\", \"text\": \"Linux appears with Microstrategy 4 times\", \"x\": [0.8723422390100056], \"y\": [-0.22140238941576537], \"type\": \"scatter\", \"uid\": \"3368033f-ceb0-40ff-94f2-68593d1abc7b\"}, {\"hoverinfo\": \"text\", \"marker\": {\"color\": \"green\", \"size\": 0.5}, \"mode\": \"markers\", \"text\": \"Microstrategy appears with AWS 2 times\", \"x\": [-0.06478359837743396], \"y\": [-0.8976653526683936], \"type\": \"scatter\", \"uid\": \"d026212a-4322-48a6-b2dc-be786ecd1e2a\"}, {\"hoverinfo\": \"text\", \"marker\": {\"color\": \"blue\", \"size\": 0.5}, \"mode\": \"markers\", \"text\": \"AWS appears with Microstrategy 2 times\", \"x\": [0.8945195458235751], \"y\": [-0.0991704700986388], \"type\": \"scatter\", \"uid\": \"bb1b8b95-607d-4bd9-b222-d94188ea3ea0\"}, {\"hoverinfo\": \"text\", \"marker\": {\"color\": \"green\", \"size\": 0.5}, \"mode\": \"markers\", \"text\": \"Oracle BI appears with Python 122 times\", \"x\": [0.21922890610976303], \"y\": [-0.8728909936102657], \"type\": \"scatter\", \"uid\": \"8a81e19f-06e7-4373-bc52-8b4bbdcae6d0\"}, {\"hoverinfo\": \"text\", \"marker\": {\"color\": \"blue\", \"size\": 0.5}, \"mode\": \"markers\", \"text\": \"Python appears with Oracle BI 122 times\", \"x\": [0.7519605872277275], \"y\": [-0.4945253029483236], \"type\": \"scatter\", \"uid\": \"155ed29e-ccd9-4efc-9f00-e0f4e5432a16\"}, {\"hoverinfo\": \"text\", \"marker\": {\"color\": \"green\", \"size\": 0.5}, \"mode\": \"markers\", \"text\": \"Oracle BI appears with VBA 57 times\", \"x\": [0.08782212705822318], \"y\": [-0.89570490341349], \"type\": \"scatter\", \"uid\": \"c05ddad7-4ac3-428d-a301-e92e401e2039\"}, {\"hoverinfo\": \"text\", \"marker\": {\"color\": \"blue\", \"size\": 0.5}, \"mode\": \"markers\", \"text\": \"VBA appears with Oracle BI 57 times\", \"x\": [0.8499462103399679], \"y\": [-0.29595850980961347], \"type\": \"scatter\", \"uid\": \"c9fc0391-287d-47b5-b875-c18829440071\"}, {\"hoverinfo\": \"text\", \"marker\": {\"color\": \"green\", \"size\": 0.5}, \"mode\": \"markers\", \"text\": \"Oracle BI appears with Linux 3 times\", \"x\": [0.010339522013703953], \"y\": [-0.8999406059760434], \"type\": \"scatter\", \"uid\": \"a8c22327-00cf-4825-802e-995937357524\"}, {\"hoverinfo\": \"text\", \"marker\": {\"color\": \"blue\", \"size\": 0.5}, \"mode\": \"markers\", \"text\": \"Linux appears with Oracle BI 3 times\", \"x\": [0.8719504021443018], \"y\": [-0.2229405665202957], \"type\": \"scatter\", \"uid\": \"a88157b2-4152-4ed4-8f37-9d7086acf06c\"}, {\"hoverinfo\": \"text\", \"marker\": {\"color\": \"green\", \"size\": 0.5}, \"mode\": \"markers\", \"text\": \"Oracle BI appears with AWS 42 times\", \"x\": [0.047956052831289606], \"y\": [-0.898721434592968], \"type\": \"scatter\", \"uid\": \"88f01c83-dd62-4197-bd49-88b667ed9f88\"}, {\"hoverinfo\": \"text\", \"marker\": {\"color\": \"blue\", \"size\": 0.5}, \"mode\": \"markers\", \"text\": \"AWS appears with Oracle BI 42 times\", \"x\": [0.8987920462357804], \"y\": [-0.046613920917458224], \"type\": \"scatter\", \"uid\": \"098b1bc1-6f44-4411-a442-549bd8c705be\"}, {\"hoverinfo\": \"text\", \"marker\": {\"color\": \"green\", \"size\": 0.5}, \"mode\": \"markers\", \"text\": \"Python appears with VBA 54 times\", \"x\": [0.6387269391236216], \"y\": [-0.6340566987563253], \"type\": \"scatter\", \"uid\": \"5a6277eb-de2d-4120-8f00-3b5312cab3b8\"}, {\"hoverinfo\": \"text\", \"marker\": {\"color\": \"blue\", \"size\": 0.5}, \"mode\": \"markers\", \"text\": \"VBA appears with Python 54 times\", \"x\": [0.8414292492856716], \"y\": [-0.3193694074994522], \"type\": \"scatter\", \"uid\": \"242c2940-9fbd-44b4-a9c3-6a130115cfc5\"}, {\"hoverinfo\": \"text\", \"marker\": {\"color\": \"green\", \"size\": 0.5}, \"mode\": \"markers\", \"text\": \"Python appears with Linux 74 times\", \"x\": [0.6724816029075847], \"y\": [-0.5981375207682975], \"type\": \"scatter\", \"uid\": \"b3800348-b208-4ed8-929b-c8bee5762465\"}, {\"hoverinfo\": \"text\", \"marker\": {\"color\": \"blue\", \"size\": 0.5}, \"mode\": \"markers\", \"text\": \"Linux appears with Python 74 times\", \"x\": [0.8897638550952452], \"y\": [-0.13535243686778411], \"type\": \"scatter\", \"uid\": \"38f2f9a6-33fb-45cc-a0a1-8ee4cfcba883\"}, {\"hoverinfo\": \"text\", \"marker\": {\"color\": \"green\", \"size\": 0.5}, \"mode\": \"markers\", \"text\": \"Python appears with AWS 73 times\", \"x\": [0.6599902218151651], \"y\": [-0.6118928885911072], \"type\": \"scatter\", \"uid\": \"864bcead-cacb-49c9-a5eb-c110b6589d37\"}, {\"hoverinfo\": \"text\", \"marker\": {\"color\": \"blue\", \"size\": 0.5}, \"mode\": \"markers\", \"text\": \"AWS appears with Python 73 times\", \"x\": [0.8993037458759666], \"y\": [-0.03539452858076848], \"type\": \"scatter\", \"uid\": \"5bec2dfd-9a74-4722-bafb-1a102980e692\"}, {\"hoverinfo\": \"text\", \"marker\": {\"color\": \"green\", \"size\": 0.5}, \"mode\": \"markers\", \"text\": \"VBA appears with AWS 4 times\", \"x\": [0.8230068858207968], \"y\": [-0.3642247464019352], \"type\": \"scatter\", \"uid\": \"6360da3b-03fb-4def-97f3-4dae4d37e196\"}, {\"hoverinfo\": \"text\", \"marker\": {\"color\": \"blue\", \"size\": 0.5}, \"mode\": \"markers\", \"text\": \"AWS appears with VBA 4 times\", \"x\": [0.8946266323122283], \"y\": [-0.09819973909171635], \"type\": \"scatter\", \"uid\": \"02b2ce47-223a-47b9-b8dd-827c1d061b01\"}, {\"hoverinfo\": \"text\", \"marker\": {\"color\": \"green\", \"size\": 0.5}, \"mode\": \"markers\", \"text\": \"Linux appears with AWS 20 times\", \"x\": [0.8746861020888], \"y\": [-0.21195335055785552], \"type\": \"scatter\", \"uid\": \"c0965bc4-1026-4031-9d59-220c457e175f\"}, {\"hoverinfo\": \"text\", \"marker\": {\"color\": \"blue\", \"size\": 0.5}, \"mode\": \"markers\", \"text\": \"AWS appears with Linux 20 times\", \"x\": [0.8959042577572424], \"y\": [-0.08576456688192863], \"type\": \"scatter\", \"uid\": \"7e9e2ed8-d158-4146-9b1e-aa7cf08ead6c\"}], {\"autosize\": true, \"font\": {\"color\": \"#655643\", \"family\": \"Fira Sans Condensed\", \"size\": 12}, \"hidesources\": true, \"hoverdistance\": 40, \"hovermode\": \"closest\", \"margin\": {\"b\": 10, \"l\": 260, \"r\": 270, \"t\": 80}, \"paper_bgcolor\": \"#fffaf0\", \"plot_bgcolor\": \"#fffaf0\", \"shapes\": [{\"fillcolor\": \"#f2e6ce\", \"layer\": \"below\", \"line\": {\"color\": \"rgb(175,175,175)\", \"width\": 0.5}, \"path\": \"M 0.9769932539575542,0.21327020823694517 Q 0.1846147933965143, 0.07692449583300726 0.8393681074650686, 0.5435634095213815L 0.8393681074650686, 0.5435634095213815 L 0.8527317880462364, 0.5223490190049835 L 0.8655594087456371, 0.5008062598769141 M 0.8655594087456371,0.5008062598769141 Q 0.18476514766153782, 0.07656265545035733 0.9660938919962404, 0.25819099877330476L 0.9660938919962404, 0.25819099877330476 L 0.9718031609067336, 0.23579358865686184 L 0.9769932539575542, 0.21327020823694517 \", \"type\": \"path\"}, {\"fillcolor\": \"#f2e6ce\", \"layer\": \"below\", \"line\": {\"color\": \"rgb(175,175,175)\", \"width\": 0.5}, \"path\": \"M 0.9964221442643367,0.08451574066208839 Q 0.1448203637203744, 0.13793861769605517 0.13288851320584022, 0.9911309918764226L 0.13288851320584022, 0.9911309918764226 L 0.14698295156330793, 0.989139025592327 L 0.16104760807017246, 0.9869466388487658 M 0.16104760807017246,0.9869466388487658 Q 0.14491930886818308, 0.13783466152302967 0.9937735257740447, 0.11141893676850546L 0.9937735257740447, 0.11141893676850546 L 0.9951887493084242, 0.0979762892231304 L 0.9964221442643367, 0.08451574066208839 \", \"type\": \"path\"}, {\"fillcolor\": \"#f2e6ce\", \"layer\": \"below\", \"line\": {\"color\": \"rgb(175,175,175)\", \"width\": 0.5}, \"path\": \"M 0.998326985493504,0.05782067135076389 Q 0.10368124693999943, 0.17102689564207985 -0.41047154387569484, 0.9118734076988447L -0.41047154387569484, 0.9118734076988447 L -0.39778357876909576, 0.9174792774017573 L -0.3850190760311547, 0.9229086147025154 M -0.3850190760311547,0.9229086147025154 Q 0.10376494220528994, 0.1709761292377765 0.9964221442643367, 0.08451574066208839L 0.9964221442643367, 0.08451574066208839 L 0.9974638737061107, 0.07117457868649588 L 0.998326985493504, 0.05782067135076389 \", \"type\": \"path\"}, {\"fillcolor\": \"#f2e6ce\", \"layer\": \"below\", \"line\": {\"color\": \"rgb(175,175,175)\", \"width\": 0.5}, \"path\": \"M 0.9999970400927762,0.0024330650806097484 Q 0.07767766786058865, 0.1842991587494096 -0.6965653495292686, 0.7174933545581923L -0.6965653495292686, 0.7174933545581923 L -0.6961176331375002, 0.7179277406780189 L -0.695669645857633, 0.7183618474225336 M -0.695669645857633,0.7183618474225336 Q 0.07766807679356669, 0.18430320085985655 0.9999928377603762, 0.0037847626015443158L 0.9999928377603762, 0.0037847626015443158 L 0.9999951673134795, 0.003108914551115831 L 0.9999970400927762, 0.0024330650806097484 \", \"type\": \"path\"}, {\"fillcolor\": \"#f2e6ce\", \"layer\": \"below\", \"line\": {\"color\": \"rgb(175,175,175)\", \"width\": 0.5}, \"path\": \"M 0.9994738401589149,0.0324352098496642 Q 0.05124049734299179, 0.1933246270707456 -0.8521982451332073, 0.5232190277425716L -0.8521982451332073, 0.5232190277425716 L -0.8496289546462471, 0.5273809244054295 L -0.8470393387938472, 0.5315302047256413 M -0.8470393387938472,0.5315302047256413 Q 0.051245320243311125, 0.1933233487014967 0.9991108436775926, 0.04216066941889167L 0.9991108436775926, 0.04216066941889167 L 0.9993041732913089, 0.03729838123261657 L 0.9994738401589149, 0.0324352098496642 \", \"type\": \"path\"}, {\"fillcolor\": \"#f2e6ce\", \"layer\": \"below\", \"line\": {\"color\": \"rgb(175,175,175)\", \"width\": 0.5}, \"path\": \"M 0.9999994153267366,0.0010813631142126104 Q 0.03145177901852713, 0.19751148218918751 -0.9502028479598091, 0.31163207108554775L -0.9502028479598091, 0.31163207108554775 L -0.9500529654872865, 0.3120887097746615 L -0.9499028635680639, 0.31254527637638707 M -0.9499028635680639,0.31254527637638707 Q 0.03141321539041267, 0.19751761921113656 0.9999970400927762, 0.0024330650806097484L 0.9999970400927762, 0.0024330650806097484 L 0.9999984560974109, 0.0017572144987378967 L 0.9999994153267366, 0.0010813631142126104 \", \"type\": \"path\"}, {\"fillcolor\": \"#f2e6ce\", \"layer\": \"below\", \"line\": {\"color\": \"rgb(175,175,175)\", \"width\": 0.5}, \"path\": \"M 0.9999868083372145,0.005136453207324572 Q 0.022138211703928167, 0.19877097268603397 -0.9743519795925237, 0.22502937555823757L -0.9743519795925237, 0.22502937555823757 L -0.9741358175509933, 0.22596329118743555 L -0.9739187603522614, 0.22689699917344527 M -0.9739187603522614,0.22689699917344527 Q 0.02211381084453799, 0.19877368882709803 0.9999733609401186, 0.007299137628739245L 0.9999733609401186, 0.007299137628739245 L 0.9999806693006277, 0.006217799053412771 L 0.9999868083372145, 0.005136453207324572 \", \"type\": \"path\"}, {\"fillcolor\": \"#f2e6ce\", \"layer\": \"below\", \"line\": {\"color\": \"rgb(175,175,175)\", \"width\": 0.5}, \"path\": \"M 0.9999499743061336,0.010002443959482287 Q 0.005638504492631471, 0.19992050236803272 -0.9977966531097627, 0.06634635666678176L -0.9977966531097627, 0.06634635666678176 L -0.9976552980334148, 0.06843907002479138 L -0.9975095538419637, 0.07053148228987192 M -0.9975095538419637,0.07053148228987192 Q 0.005598437362412453, 0.1999216283924757 0.9998934451797534, 0.014597886373149741L 0.9998934451797534, 0.014597886373149741 L 0.9999243497075145, 0.01230019764085871 L 0.9999499743061336, 0.010002443959482287 \", \"type\": \"path\"}, {\"fillcolor\": \"#f2e6ce\", \"layer\": \"below\", \"line\": {\"color\": \"rgb(175,175,175)\", \"width\": 0.5}, \"path\": \"M 0.9998105718250353,0.019463310789684014 Q -0.013653737143509113, 0.1995333943529653 -0.9931423799725825, -0.11691113335518834L -0.9931423799725825, -0.11691113335518834 L -0.993460208512969, -0.11417886889161287 L -0.9937705202511958, -0.11144574051827945 M -0.9937705202511958,-0.11144574051827945 Q -0.013698244791835554, 0.1995303437816488 0.9996771315343763, 0.025409303162450065L 0.9996771315343763, 0.025409303162450065 L 0.9997482721553951, 0.022436406180627668 L 0.9998105718250353, 0.019463310789684014 \", \"type\": \"path\"}, {\"fillcolor\": \"#f2e6ce\", \"layer\": \"below\", \"line\": {\"color\": \"rgb(175,175,175)\", \"width\": 0.5}, \"path\": \"M 0.9999733609401186,0.007299137628739245 Q -0.02839532276184935, 0.19797400244792346 -0.961711335286034, -0.27406442232138306L -0.961711335286034, -0.27406442232138306 L -0.9620612174421338, -0.2728336744131107 L -0.9624095245520757, -0.2716024798330228 M -0.9624095245520757,-0.2716024798330228 Q -0.028409614300781972, 0.19797195209241336 0.9999499743061336, 0.010002443959482287L 0.9999499743061336, 0.010002443959482287 L 0.9999625811408659, 0.008650798697064558 L 0.9999733609401186, 0.007299137628739245 \", \"type\": \"path\"}, {\"fillcolor\": \"#f2e6ce\", \"layer\": \"below\", \"line\": {\"color\": \"rgb(175,175,175)\", \"width\": 0.5}, \"path\": \"M 0.9900593803045922,0.1406500034514286 Q -0.07556664072014778, 0.18517473588552005 -0.8057877305328784, -0.5922044691849879L -0.8057877305328784, -0.5922044691849879 L -0.816664941434485, -0.5771120978040655 L -0.8272595099972835, -0.5618199917402855 M -0.8272595099972835,-0.5618199917402855 Q -0.07542563440732458, 0.18523221554106784 0.9844110384741006, 0.17588322071858575L 0.9844110384741006, 0.17588322071858575 L 0.9873923756834339, 0.15829180788096606 L 0.9900593803045922, 0.1406500034514286 \", \"type\": \"path\"}, {\"fillcolor\": \"#f2e6ce\", \"layer\": \"below\", \"line\": {\"color\": \"rgb(175,175,175)\", \"width\": 0.5}, \"path\": \"M 0.9844110384741006,0.17588322071858575 Q -0.12535068851530293, 0.1558435269388482 -0.38281334806672246, -0.9238257089635179L -0.38281334806672246, -0.9238257089635179 L -0.4013825370998664, -0.9159105081345417 L -0.41978817672307056, -0.9076221056604561 M -0.41978817672307056,-0.9076221056604561 Q -0.1251749606530858, 0.1559847083066107 0.9769932539575542, 0.21327020823694517L 0.9769932539575542, 0.21327020823694517 L 0.9808802915245339, 0.1946120594895017 L 0.9844110384741006, 0.17588322071858575 \", \"type\": \"path\"}, {\"fillcolor\": \"#f2e6ce\", \"layer\": \"below\", \"line\": {\"color\": \"rgb(175,175,175)\", \"width\": 0.5}, \"path\": \"M 0.9998934451797534,0.014597886373149741 Q -0.1385037532650528, 0.14427997203871845 -0.05541687537299158, -0.9984633042450255L -0.05541687537299158, -0.9984633042450255 L -0.057111790857981654, -0.9983677896171301 L -0.058806541754698745, -0.9982693978314936 M -0.058806541754698745,-0.9982693978314936 Q -0.13860982832418536, 0.14417806869264085 0.9998105718250353, 0.019463310789684014L 0.9998105718250353, 0.019463310789684014 L 0.9998549679803368, 0.017030648990557853 L 0.9998934451797534, 0.014597886373149741 \", \"type\": \"path\"}, {\"fillcolor\": \"#f2e6ce\", \"layer\": \"below\", \"line\": {\"color\": \"rgb(175,175,175)\", \"width\": 0.5}, \"path\": \"M 0.9937735257740447,0.11141893676850546 Q -0.1592047979581107, 0.1210530144486999 0.15827947885675117, -0.9873943521070166L 0.15827947885675117, -0.9873943521070166 L 0.14268589779299382, -0.9897680205841202 L 0.12705681732364607, -0.9918954406446204 M 0.12705681732364607,-0.9918954406446204 Q -0.15907884152036345, 0.12121848943349814 0.9900593803045922, 0.1406500034514286L 0.9900593803045922, 0.1406500034514286 L 0.9920241245176237, 0.12604815101794328 L 0.9937735257740447, 0.11141893676850546 \", \"type\": \"path\"}, {\"fillcolor\": \"#f2e6ce\", \"layer\": \"below\", \"line\": {\"color\": \"rgb(175,175,175)\", \"width\": 0.5}, \"path\": \"M 0.9991108436775926,0.04216066941889167 Q -0.18733111861776847, 0.0700503532997198 0.7263134973169424, -0.6873635890962162L 0.7263134973169424, -0.6873635890962162 L 0.7206902625455371, -0.6932572000866957 L 0.7150192060692138, -0.6991048097046331 M 0.7150192060692138,-0.6991048097046331 Q -0.18730967289527292, 0.07010767746734921 0.998326985493504, 0.05782067135076389L 0.998326985493504, 0.05782067135076389 L 0.9987496078928203, 0.049992206732026624 L 0.9991108436775926, 0.04216066941889167 \", \"type\": \"path\"}, {\"fillcolor\": \"#f2e6ce\", \"layer\": \"below\", \"line\": {\"color\": \"rgb(175,175,175)\", \"width\": 0.5}, \"path\": \"M 0.9996771315343763,0.025409303162450065 Q -0.196549618632948, 0.03698982853762233 0.9220501395139463, -0.3870704589894613L 0.9220501395139463, -0.3870704589894613 L 0.9208073091127239, -0.39001781944493824 L 0.9195550574152933, -0.39296118940928076 M 0.9195550574152933,-0.39296118940928076 Q -0.19656128831047473, 0.03692776648710878 0.9994738401589149, 0.0324352098496642L 0.9994738401589149, 0.0324352098496642 L 0.999581658868725, 0.02892243511960911 L 0.9996771315343763, 0.025409303162450065 \", \"type\": \"path\"}, {\"fillcolor\": \"#f2e6ce\", \"layer\": \"below\", \"line\": {\"color\": \"rgb(175,175,175)\", \"width\": 0.5}, \"path\": \"M 1.0,0.0 Q -0.19845167418701512, 0.024838136249944447 0.9691533493814598, -0.24645848612433321L 0.9691533493814598, -0.24645848612433321 L 0.9690373299375039, -0.24691426282738962 L 0.9689210961493567, -0.24736998491476064 M 0.9689210961493567,-0.24736998491476064 Q -0.19845342155903223, 0.024824171114320132 0.9999994153267366, 0.0010813631142126104L 0.9999994153267366, 0.0010813631142126104 L 0.9999998538316734, 0.0005406816361368352 L 1.0, 0.0 \", \"type\": \"path\"}, {\"fillcolor\": \"#f2e6ce\", \"layer\": \"below\", \"line\": {\"color\": \"rgb(175,175,175)\", \"width\": 0.5}, \"path\": \"M 0.9999928377603762,0.0037847626015443158 Q -0.19972953341904306, 0.01039776323116504 0.9941942039968228, -0.10760057964120812L 0.9941942039968228, -0.10760057964120812 L 0.9941356771871769, -0.10813998031992207 L 0.9940768577253819, -0.10867934916455303 M 0.9940768577253819,-0.10867934916455303 Q -0.19973091751605598, 0.010371142087274573 0.9999868083372145, 0.005136453207324572L 0.9999868083372145, 0.005136453207324572 L 0.9999900514345302, 0.004460608923184025 L 0.9999928377603762, 0.0037847626015443158 \", \"type\": \"path\"}, {\"fillcolor\": \"#ecd5bb\", \"layer\": \"below\", \"line\": {\"color\": \"rgb(175,175,175)\", \"width\": 0.5}, \"path\": \"M 0.5531569017854665,0.8330770924753026 Q 0.0379471904639816, 0.19636703067442435 -0.20294299197046653, 0.9791905544939019L -0.20294299197046653, 0.9791905544939019 L -0.14646817099332418, 0.9892153834660429 L -0.08951148399956665, 0.9959857901758414 M -0.08951148399956665,0.9959857901758414 Q 0.037608326357505675, 0.1964322116878679 0.451072883687939, 0.8924871167705711L 0.451072883687939, 0.8924871167705711 L 0.5029927964242448, 0.8642906031800406 L 0.5531569017854665, 0.8330770924753026 \", \"type\": \"path\"}, {\"fillcolor\": \"#ecd5bb\", \"layer\": \"below\", \"line\": {\"color\": \"rgb(175,175,175)\", \"width\": 0.5}, \"path\": \"M 0.8088305834509926,0.5880417393980865 Q 0.03160940955116714, 0.19748631655845572 -0.5848828885204265, 0.8111177514491976L -0.5848828885204265, 0.8111177514491976 L -0.5596061773012315, 0.8287586659132455 L -0.5337977764223092, 0.8456121651718348 M -0.5337977764223092,0.8456121651718348 Q 0.03132639313992371, 0.19753140786427598 0.7692359869278472, 0.6389647849569965L 0.7692359869278472, 0.6389647849569965 L 0.7894439905902491, 0.6138226011812719 L 0.8088305834509926, 0.5880417393980865 \", \"type\": \"path\"}, {\"fillcolor\": \"#ecd5bb\", \"layer\": \"below\", \"line\": {\"color\": \"rgb(175,175,175)\", \"width\": 0.5}, \"path\": \"M 0.9466727357560839,0.32219672775509633 Q 0.05146228067978155, 0.19326570742693952 -0.6610891992989564, 0.7503073174175131L -0.6610891992989564, 0.7503073174175131 L -0.6569177929619041, 0.7539622094575171 L -0.6527261805780565, 0.7575939104744588 M -0.6527261805780565,0.7575939104744588 Q 0.05108880862319387, 0.19336476833555455 0.9417482615943009, 0.33631861646972827L 0.9417482615943009, 0.33631861646972827 L 0.944236899693966, 0.3292668784684049 L 0.9466727357560839, 0.32219672775509633 \", \"type\": \"path\"}, {\"fillcolor\": \"#ecd5bb\", \"layer\": \"below\", \"line\": {\"color\": \"rgb(175,175,175)\", \"width\": 0.5}, \"path\": \"M 0.9148208013953056,0.40386000214734163 Q 0.023990979982560848, 0.19855586840855743 -0.7923033997491212, 0.6101273004430995L -0.7923033997491212, 0.6101273004430995 L -0.7851709795262866, 0.6192790428471899 L -0.7779328550264913, 0.6283474143102142 M -0.7779328550264913,0.6283474143102142 Q 0.023587174352694654, 0.19860424266882012 0.9034675997333738, 0.4286563848025785L 0.9034675997333738, 0.4286563848025785 L 0.9092287350100461, 0.41629689817728815 L 0.9148208013953056, 0.40386000214734163 \", \"type\": \"path\"}, {\"fillcolor\": \"#ecd5bb\", \"layer\": \"below\", \"line\": {\"color\": \"rgb(175,175,175)\", \"width\": 0.5}, \"path\": \"M 0.8886349909408555,0.45861514680126486 Q -0.012572022756362567, 0.1996044694985899 -0.9391554718801335, 0.3434923574660779L -0.9391554718801335, 0.3434923574660779 L -0.9312694255728065, 0.3643312462489255 L -0.9229210514791872, 0.38498926314450826 M -0.9229210514791872,0.38498926314450826 Q -0.012924370309305414, 0.19958196474658713 0.8655594087456371, 0.5008062598769141L 0.8655594087456371, 0.5008062598769141 L 0.8773508536945206, 0.47984943422025195 L 0.8886349909408555, 0.45861514680126486 \", \"type\": \"path\"}, {\"fillcolor\": \"#ecd5bb\", \"layer\": \"below\", \"line\": {\"color\": \"rgb(175,175,175)\", \"width\": 0.5}, \"path\": \"M 0.9512046494374602,0.30856071507656074 Q -0.003483174949340209, 0.19996966643036712 -0.9613737039985379, 0.27524643732504805L -0.9613737039985379, 0.27524643732504805 L -0.9600666472581456, 0.2797713938602433 L -0.958738292755466, 0.28429014405064135 M -0.958738292755466,0.28429014405064135 Q -0.003978048207159119, 0.1999604339174666 0.9466727357560839, 0.32219672775509633L 0.9466727357560839, 0.32219672775509633 L 0.9489631855439458, 0.31538686161964113 L 0.9512046494374602, 0.30856071507656074 \", \"type\": \"path\"}, {\"fillcolor\": \"#ecd5bb\", \"layer\": \"below\", \"line\": {\"color\": \"rgb(175,175,175)\", \"width\": 0.5}, \"path\": \"M 0.9358919409609553,0.3522872050533991 Q -0.024529728369586612, 0.19849003104970864 -0.9934979514331134, 0.1138499912086389L -0.9934979514331134, 0.1138499912086389 L -0.9926682432383516, 0.12087083546532222 L -0.9917889208199381, 0.1278856385166939 M -0.9917889208199381,0.1278856385166939 Q -0.024843572274163995, 0.19845099374066735 0.929656870974601, 0.36842652218551536L 0.929656870974601, 0.36842652218551536 L 0.9328093116054933, 0.3603703486443991 L 0.9358919409609553, 0.3522872050533991 \", \"type\": \"path\"}, {\"fillcolor\": \"#ecd5bb\", \"layer\": \"below\", \"line\": {\"color\": \"rgb(175,175,175)\", \"width\": 0.5}, \"path\": \"M 0.929656870974601,0.36842652218551536 Q -0.036245433655472746, 0.19668825216348518 -0.9999174702350132, 0.012847284491727486L -0.9999174702350132, 0.012847284491727486 L -0.9997874017109278, 0.020619199308210805 L -0.9995969264542057, 0.02838986832137823 M -0.9995969264542057,0.02838986832137823 Q -0.03653344765369388, 0.1966349592583547 0.9226918954755464, 0.38553815119095963L 0.9226918954755464, 0.38553815119095963 L 0.9262139008372476, 0.37699842160922803 L 0.929656870974601, 0.36842652218551536 \", \"type\": \"path\"}, {\"fillcolor\": \"#ecd5bb\", \"layer\": \"below\", \"line\": {\"color\": \"rgb(175,175,175)\", \"width\": 0.5}, \"path\": \"M 0.9226918954755464,0.38553815119095963 Q -0.05682965586212312, 0.19175606956389324 -0.9837639353075154, -0.17946732178385746L -0.9837639353075154, -0.17946732178385746 L -0.9852542151835777, -0.1710968481971318 L -0.9866732752077593, -0.16271400674432804 M -0.9866732752077593,-0.16271400674432804 Q -0.057111197286044295, 0.1916724057984209 0.9148208013953056, 0.40386000214734163L 0.9148208013953056, 0.40386000214734163 L 0.9188020191238235, 0.39471869686396294 L 0.9226918954755464, 0.38553815119095963 \", \"type\": \"path\"}, {\"fillcolor\": \"#ecd5bb\", \"layer\": \"below\", \"line\": {\"color\": \"rgb(175,175,175)\", \"width\": 0.5}, \"path\": \"M 0.9034675997333738,0.4286563848025785 Q -0.08247406069126623, 0.18220326372788534 -0.9182714902291986, -0.39595134831472256L -0.9182714902291986, -0.39595134831472256 L -0.9239491311289155, -0.3825153632027373 L -0.9294301914084047, -0.36899799362399827 M -0.9294301914084047,-0.36899799362399827 Q -0.08286179810900522, 0.18202725733840652 0.8886349909408555, 0.45861514680126486L 0.8886349909408555, 0.45861514680126486 L 0.8961764925116283, 0.44369775103053594 L 0.9034675997333738, 0.4286563848025785 \", \"type\": \"path\"}, {\"fillcolor\": \"#ecd5bb\", \"layer\": \"below\", \"line\": {\"color\": \"rgb(175,175,175)\", \"width\": 0.5}, \"path\": \"M 0.7144420698335249,0.6996945968435005 Q -0.1480361927088997, 0.13448154389451927 -0.6280831265666241, -0.7781462498285872L -0.6280831265666241, -0.7781462498285872 L -0.6650569993356892, -0.7467926001471955 L -0.7004679092699896, -0.713683899273992 M -0.7004679092699896,-0.713683899273992 Q -0.148299105575764, 0.13419156190099438 0.6403444318910475, 0.7680878911596847L 0.6403444318910475, 0.7680878911596847 L 0.6782558713277985, 0.7348258113385572 L 0.7144420698335249, 0.6996945968435005 \", \"type\": \"path\"}, {\"fillcolor\": \"#ecd5bb\", \"layer\": \"below\", \"line\": {\"color\": \"rgb(175,175,175)\", \"width\": 0.5}, \"path\": \"M 0.6403444318910475,0.7680878911596847 Q -0.18426685724930095, 0.07775426238776721 -0.1034631475476842, -0.9946332877495736L -0.1034631475476842, -0.9946332877495736 L -0.1561211673100646, -0.9877379111473563 L -0.20833886086140574, -0.9780567054393993 M -0.20833886086140574,-0.9780567054393993 Q -0.184366621580362, 0.07751740996088304 0.5531569017854665, 0.8330770924753026L 0.5531569017854665, 0.8330770924753026 L 0.5976347190749671, 0.8017685093318302 L 0.6403444318910475, 0.7680878911596847 \", \"type\": \"path\"}, {\"fillcolor\": \"#ecd5bb\", \"layer\": \"below\", \"line\": {\"color\": \"rgb(175,175,175)\", \"width\": 0.5}, \"path\": \"M 0.9575072077208951,0.28840933958964377 Q -0.15829281236409598, 0.1222431411321924 -0.036951834090696266, -0.9993170477667904L -0.036951834090696266, -0.9993170477667904 L -0.03987332808857286, -0.9992047426364333 L -0.04279448125962398, -0.9990838965641072 M -0.04279448125962398,-0.9990838965641072 Q -0.15849085832823884, 0.12198626080988845 0.9548457741889996, 0.2971019143550071L 0.9548457741889996, 0.2971019143550071 L 0.9561863688993529, 0.2927586513342869 L 0.9575072077208951, 0.28840933958964377 \", \"type\": \"path\"}, {\"fillcolor\": \"#ecd5bb\", \"layer\": \"below\", \"line\": {\"color\": \"rgb(175,175,175)\", \"width\": 0.5}, \"path\": \"M 0.451072883687939,0.8924871167705711 Q -0.19879712831171728, -0.021902095219741277 0.634551591716768, -0.7728805065789383L 0.634551591716768, -0.7728805065789383 L 0.576190763952352, -0.8173152412233636 L 0.5147297810439737, -0.8573524669040283 M 0.5147297810439737,-0.8573524669040283 Q -0.1987757388047351, -0.022095376498981245 0.3138894170282134, 0.9494595483103471L 0.3138894170282134, 0.9494595483103471 L 0.3835404735723805, 0.9235240685179105 L 0.451072883687939, 0.8924871167705711 \", \"type\": \"path\"}, {\"fillcolor\": \"#ecd5bb\", \"layer\": \"below\", \"line\": {\"color\": \"rgb(175,175,175)\", \"width\": 0.5}, \"path\": \"M 0.7692359869278472,0.6389647849569965 Q -0.19852708071526393, -0.02422804620011879 0.9003275588971001, -0.43521292109769527L 0.9003275588971001, -0.43521292109769527 L 0.8825871624282315, -0.47014880699293754 L 0.8634917847944953, -0.5043629026726857 M 0.8634917847944953,-0.5043629026726857 Q -0.19848500476666778, -0.024570365947129726 0.7144420698335249, 0.6996945968435005L 0.7144420698335249, 0.6996945968435005 L 0.7424602154605612, 0.6698901614878794 L 0.7692359869278472, 0.6389647849569965 \", \"type\": \"path\"}, {\"fillcolor\": \"#ecd5bb\", \"layer\": \"below\", \"line\": {\"color\": \"rgb(175,175,175)\", \"width\": 0.5}, \"path\": \"M 0.8393681074650686,0.5435634095213815 Q -0.19787385859061482, -0.029084980427385106 0.9602801651987142, -0.2790376396222027L 0.9602801651987142, -0.2790376396222027 L 0.9537181512252388, -0.30070199205112097 L 0.9466674480716084, -0.3222122635183035 M 0.9466674480716084,-0.3222122635183035 Q -0.1977456873993726, -0.029943999648504194 0.8088305834509926, 0.5880417393980865L 0.8088305834509926, 0.5880417393980865 L 0.8243993641685501, 0.5660085585558671 L 0.8393681074650686, 0.5435634095213815 \", \"type\": \"path\"}, {\"fillcolor\": \"#ecd5bb\", \"layer\": \"below\", \"line\": {\"color\": \"rgb(175,175,175)\", \"width\": 0.5}, \"path\": \"M 0.9417482615943009,0.33631861646972827 Q -0.19930026334059325, -0.016715413018235235 0.9846121615795148, -0.17475380187485295L 0.9846121615795148, -0.17475380187485295 L 0.983397539301821, -0.1814642656148129 L 0.9821371835011534, -0.18816629024461778 M 0.9821371835011534,-0.18816629024461778 Q -0.199271816945215, -0.017051186801883646 0.9358919409609553, 0.3522872050533991L 0.9358919409609553, 0.3522872050533991 L 0.9388540522990112, 0.34431536196011564 L 0.9417482615943009, 0.33631861646972827 \", \"type\": \"path\"}, {\"fillcolor\": \"#ecd5bb\", \"layer\": \"below\", \"line\": {\"color\": \"rgb(175,175,175)\", \"width\": 0.5}, \"path\": \"M 0.9548457741889996,0.2971019143550071 Q -0.1984978016702858, -0.0244667679120861 0.9984114074689946, -0.05634413399619569L 0.9984114074689946, -0.05634413399619569 L 0.998150849391282, -0.06078553988789038 L 0.9978705339388071, -0.06522574259201745 M 0.9978705339388071,-0.06522574259201745 Q -0.19845932546468192, -0.024776927495221503 0.9512046494374602, 0.30856071507656074L 0.9512046494374602, 0.30856071507656074 L 0.9530424336723659, 0.30283678709802453 L 0.9548457741889996, 0.2971019143550071 \", \"type\": \"path\"}, {\"fillcolor\": \"#e6c4a9\", \"layer\": \"below\", \"line\": {\"color\": \"rgb(175,175,175)\", \"width\": 0.5}, \"path\": \"M -0.027564993101843484,0.999620013382733 Q -0.058210529659021154, 0.19134140753327866 -0.5337977764223092, 0.8456121651718348L -0.5337977764223092, 0.8456121651718348 L -0.507723649229307, 0.8615199916503827 L -0.48117585697071286, 0.8766240897149131 M -0.48117585697071286,0.8766240897149131 Q -0.05830362395946348, 0.191313061324086 -0.08951148399956665, 0.9959857901758414L -0.08951148399956665, 0.9959857901758414 L -0.058566434646464785, 0.9982835132029384 L -0.027564993101843484, 0.999620013382733 \", \"type\": \"path\"}, {\"fillcolor\": \"#e6c4a9\", \"layer\": \"below\", \"line\": {\"color\": \"rgb(175,175,175)\", \"width\": 0.5}, \"path\": \"M 0.2609021783301194,0.9653652434921192 Q -0.04180166435841593, 0.19558277239283206 -0.6327335537163521, 0.7743695823064566L -0.6327335537163521, 0.7743695823064566 L -0.6302883204206283, 0.7763611486552785 L -0.6278368185909056, 0.7783449937024394 M -0.6278368185909056,0.7783449937024394 Q -0.041992218544164385, 0.19554194839404446 0.2529232420108114, 0.9674863480435992L 0.2529232420108114, 0.9674863480435992 L 0.2569148991753168, 0.9664340301240105 L 0.2609021783301194, 0.9653652434921192 \", \"type\": \"path\"}, {\"fillcolor\": \"#e6c4a9\", \"layer\": \"below\", \"line\": {\"color\": \"rgb(175,175,175)\", \"width\": 0.5}, \"path\": \"M 0.22639021248299737,0.9740366890892269 Q -0.05944904193069678, 0.19096023516303665 -0.7392677801266537, 0.6734115749425529L -0.7392677801266537, 0.6734115749425529 L -0.7347987799924453, 0.6782851560528316 L -0.7302976516963781, 0.6831290799891011 M -0.7302976516963781,0.6831290799891011 Q -0.059626980536085034, 0.19090474900365717 0.21166804999319352, 0.9773416171493359L 0.21166804999319352, 0.9773416171493359 L 0.2190353646521162, 0.9757169205418724 L 0.22639021248299737, 0.9740366890892269 \", \"type\": \"path\"}, {\"fillcolor\": \"#e6c4a9\", \"layer\": \"below\", \"line\": {\"color\": \"rgb(175,175,175)\", \"width\": 0.5}, \"path\": \"M 0.13288851320584022,0.9911309918764226 Q -0.09319695593636337, 0.17695854713518516 -0.8924637201531285, 0.45111917295814236L -0.8924637201531285, 0.45111917295814236 L -0.8856854296766499, 0.4642858167750637 L -0.8787129033094161, 0.4773506400514582 M -0.8787129033094161,0.4773506400514582 Q -0.09332197706061328, 0.17689264709845454 0.10207320792028932, 0.9947768896716798L 0.10207320792028932, 0.9947768896716798 L 0.11749500304830683, 0.993073473746368 L 0.13288851320584022, 0.9911309918764226 \", \"type\": \"path\"}, {\"fillcolor\": \"#e6c4a9\", \"layer\": \"below\", \"line\": {\"color\": \"rgb(175,175,175)\", \"width\": 0.5}, \"path\": \"M 0.26776631822784114,0.9634838861250906 Q -0.09638398915254738, 0.17524305017615288 -0.9570827732813116, 0.28981470819845134L -0.9570827732813116, 0.28981470819845134 L -0.9563835748344663, 0.2921137754143866 L -0.9556788536659984, 0.2944111557934641 M -0.9556788536659984,0.2944111557934641 Q -0.09658643881986291, 0.17513155008763237 0.2609021783301194, 0.9653652434921192L 0.2609021783301194, 0.9653652434921192 L 0.2643359220567634, 0.9644306715935577 L 0.26776631822784114, 0.9634838861250906 \", \"type\": \"path\"}, {\"fillcolor\": \"#e6c4a9\", \"layer\": \"below\", \"line\": {\"color\": \"rgb(175,175,175)\", \"width\": 0.5}, \"path\": \"M 0.2529232420108114,0.9674863480435992 Q -0.10495471451158177, 0.17024837121626854 -0.9779897063178242, 0.20865314360530468L -0.9779897063178242, 0.20865314360530468 L -0.9772333287748237, 0.21216743654877226 L -0.9764643230691074, 0.21567898778784605 M -0.9764643230691074,0.21567898778784605 Q -0.10506971321346548, 0.17017742319485307 0.24465103469502972, 0.9696111959041374L 0.24465103469502972, 0.9696111959041374 L 0.24878940683727452, 0.9685576033698549 L 0.2529232420108114, 0.9674863480435992 \", \"type\": \"path\"}, {\"fillcolor\": \"#e6c4a9\", \"layer\": \"below\", \"line\": {\"color\": \"rgb(175,175,175)\", \"width\": 0.5}, \"path\": \"M 0.24465103469502972,0.9696111959041374 Q -0.11925635147709346, 0.16055504549023664 -0.9989461452725535, 0.045897699780124514L -0.9989461452725535, 0.045897699780124514 L -0.9987694150072554, 0.04959491552634198 L -0.9985790009638957, 0.05329145179058164 M -0.9985790009638957,0.05329145179058164 Q -0.1193476796524306, 0.16048716883782582 0.23636098145819523, 0.9716653160652173L 0.23636098145819523, 0.9716653160652173 L 0.24050820105218151, 0.9706471064329422 L 0.24465103469502972, 0.9696111959041374 \", \"type\": \"path\"}, {\"fillcolor\": \"#e6c4a9\", \"layer\": \"below\", \"line\": {\"color\": \"rgb(175,175,175)\", \"width\": 0.5}, \"path\": \"M 0.23636098145819523,0.9716653160652173 Q -0.13432962988610736, 0.14817405486339846 -0.9901201770525428, -0.14022137851783223L -0.9901201770525428, -0.14022137851783223 L -0.9907412991985955, -0.13576331633500638 L -0.9913423488158093, -0.13130250357230158 M -0.9913423488158093,-0.13130250357230158 Q -0.13442196627462985, 0.1480902933445075 0.22639021248299737, 0.9740366890892269L 0.22639021248299737, 0.9740366890892269 L 0.2313786349817213, 0.9728637763191696 L 0.23636098145819523, 0.9716653160652173 \", \"type\": \"path\"}, {\"fillcolor\": \"#e6c4a9\", \"layer\": \"below\", \"line\": {\"color\": \"rgb(175,175,175)\", \"width\": 0.5}, \"path\": \"M 0.17872226333256822,0.9838995642794462 Q -0.15217846753650946, 0.1297756295235725 -0.943331599603366, -0.33185161320951095L -0.943331599603366, -0.33185161320951095 L -0.9459759595664035, -0.3242367713915592 L -0.9485588514726231, -0.31660086116897757 M -0.9485588514726231,-0.31660086116897757 Q -0.152296094608095, 0.12963757004480675 0.16104760807017246, 0.9869466388487658L 0.16104760807017246, 0.9869466388487658 L 0.16989176714637033, 0.9854627275832828 L 0.17872226333256822, 0.9838995642794462 \", \"type\": \"path\"}, {\"fillcolor\": \"#e6c4a9\", \"layer\": \"below\", \"line\": {\"color\": \"rgb(175,175,175)\", \"width\": 0.5}, \"path\": \"M 0.19578109328222104,0.9806476245386099 Q -0.16421798467108495, 0.11415977185754755 -0.8510086558230809, -0.5251516616313738L -0.8510086558230809, -0.5251516616313738 L -0.855492002800453, -0.5178160224872052 L -0.859912118651397, -0.5104421105242647 M -0.859912118651397,-0.5104421105242647 Q -0.16422778875831115, 0.11414566745853971 0.17872226333256822, 0.9838995642794462L 0.17872226333256822, 0.9838995642794462 L 0.18725873759842437, 0.9823106256134281 L 0.19578109328222104, 0.9806476245386099 \", \"type\": \"path\"}, {\"fillcolor\": \"#e6c4a9\", \"layer\": \"below\", \"line\": {\"color\": \"rgb(175,175,175)\", \"width\": 0.5}, \"path\": \"M 0.10207320792028932,0.9947768896716798 Q -0.19287469348885747, 0.05290890862207688 -0.41978817672307056, -0.9076221056604561L -0.41978817672307056, -0.9076221056604561 L -0.4354469918007201, -0.9002143729866257 L -0.45097514099624586, -0.8925365102915489 M -0.45097514099624586,-0.8925365102915489 Q -0.19286945796822402, 0.05292799054416737 0.06775156079434391, 0.99770222311566L 0.06775156079434391, 0.99770222311566 L 0.08492498107850413, 0.9963873481677774 L 0.10207320792028932, 0.9947768896716798 \", \"type\": \"path\"}, {\"fillcolor\": \"#e6c4a9\", \"layer\": \"below\", \"line\": {\"color\": \"rgb(175,175,175)\", \"width\": 0.5}, \"path\": \"M 0.27981404677942423,0.9600542168153433 Q -0.19726207608880558, 0.03297989292181341 -0.04769364604412323, -0.9988620105535188L -0.04769364604412323, -0.9988620105535188 L -0.04967183637373343, -0.9987655924546365 L -0.05164983186390581, -0.998665256664329 M -0.05164983186390581,-0.998665256664329 Q -0.19729524360255024, 0.03278089156521476 0.2740693554308272, 0.9617099294557225L 0.2740693554308272, 0.9617099294557225 L 0.2769429384495798, 0.9608863662488465 L 0.27981404677942423, 0.9600542168153433 \", \"type\": \"path\"}, {\"fillcolor\": \"#e6c4a9\", \"layer\": \"below\", \"line\": {\"color\": \"rgb(175,175,175)\", \"width\": 0.5}, \"path\": \"M 0.03135772034604225,0.9995082257664013 Q -0.19727597478524217, -0.032896652907742664 0.35398735977495366, -0.9352502066931381L 0.35398735977495366, -0.9352502066931381 L 0.3258173870332298, -0.9454327211953468 L 0.29735508084264517, -0.9547669641839646 M 0.29735508084264517,-0.9547669641839646 Q -0.1972920462037302, -0.03280012964524979 -0.027564993101843484, 0.999620013382733L -0.027564993101843484, 0.999620013382733 L 0.0018971871560322132, 0.9999982003388281 L 0.03135772034604225, 0.9995082257664013 \", \"type\": \"path\"}, {\"fillcolor\": \"#e6c4a9\", \"layer\": \"below\", \"line\": {\"color\": \"rgb(175,175,175)\", \"width\": 0.5}, \"path\": \"M 0.06775156079434391,0.99770222311566 Q -0.17673182539692883, -0.09362618165806756 0.8634917847944953, -0.5043629026726857L 0.8634917847944953, -0.5043629026726857 L 0.8542857271079152, -0.5198037095478453 L 0.8448035898900185, -0.5350765314503501 M 0.8448035898900185,-0.5350765314503501 Q -0.17670905519063154, -0.0936691508108958 0.03135772034604225, 0.9995082257664013L 0.03135772034604225, 0.9995082257664013 L 0.04956286728423455, 0.9987710058800092 L 0.06775156079434391, 0.99770222311566 \", \"type\": \"path\"}, {\"fillcolor\": \"#e6c4a9\", \"layer\": \"below\", \"line\": {\"color\": \"rgb(175,175,175)\", \"width\": 0.5}, \"path\": \"M 0.21166804999319352,0.9773416171493359 Q -0.17477180954548927, -0.09723587089235758 0.942055468215079, -0.3354571430243633L 0.942055468215079, -0.3354571430243633 L 0.9396799327889575, -0.3420550012991193 L 0.9372581886938776, -0.34863603905257967 M 0.9372581886938776,-0.34863603905257967 Q -0.17466462357304435, -0.09742827757939031 0.19578109328222104, 0.9806476245386099L 0.19578109328222104, 0.9806476245386099 L 0.20373127769240995, 0.9790268466644917 L 0.21166804999319352, 0.9773416171493359 \", \"type\": \"path\"}, {\"fillcolor\": \"#e6c4a9\", \"layer\": \"below\", \"line\": {\"color\": \"rgb(175,175,175)\", \"width\": 0.5}, \"path\": \"M 0.2839112864226696,0.9588505521935234 Q -0.17342268989762566, -0.0996221392496265 0.9713169595728378, -0.2377884859411365L 0.9713169595728378, -0.2377884859411365 L 0.9708960691535798, -0.23950119603485706 L 0.9704721587382051, -0.24121316115421235 M 0.9704721587382051,-0.24121316115421235 Q -0.17338566575935632, -0.09968656333320342 0.27981404677942423, 0.9600542168153433L 0.27981404677942423, 0.9600542168153433 L 0.2818633091155771, 0.9594545716053557 L 0.2839112864226696, 0.9588505521935234 \", \"type\": \"path\"}, {\"fillcolor\": \"#e6c4a9\", \"layer\": \"below\", \"line\": {\"color\": \"rgb(175,175,175)\", \"width\": 0.5}, \"path\": \"M 0.2740693554308272,0.9617099294557225 Q -0.16479009173819167, -0.11333236812543174 0.9961061238306093, -0.0881622939082178L 0.9961061238306093, -0.0881622939082178 L 0.9958829856606657, -0.09064810462220514 L 0.9956536440902435, -0.09313335068501902 M 0.9956536440902435,-0.09313335068501902 Q -0.16470185142578275, -0.11346056644014864 0.26776631822784114, 0.9634838861250906L 0.26776631822784114, 0.9634838861250906 L 0.2709192887980698, 0.9626020667737776 L 0.2740693554308272, 0.9617099294557225 \", \"type\": \"path\"}, {\"fillcolor\": \"#e1b396\", \"layer\": \"below\", \"line\": {\"color\": \"rgb(175,175,175)\", \"width\": 0.5}, \"path\": \"M -0.28447755009344844,0.9586827021975673 Q -0.09585340551807464, 0.17553382765321202 -0.6527261805780565, 0.7575939104744588L -0.6527261805780565, 0.7575939104744588 L -0.6488455422559825, 0.7609201418641381 L -0.6449479540321247, 0.7642264956083219 M -0.6449479540321247,0.7642264956083219 Q -0.09611208765282113, 0.17539232197281737 -0.29707907346764445, 0.9548528808709779L -0.29707907346764445, 0.9548528808709779 L -0.2907846170016445, 0.9567885380350284 L -0.28447755009344844, 0.9586827021975673 \", \"type\": \"path\"}, {\"fillcolor\": \"#e1b396\", \"layer\": \"below\", \"line\": {\"color\": \"rgb(175,175,175)\", \"width\": 0.5}, \"path\": \"M -0.3247769909425475,0.9457906249029456 Q -0.11343765099348385, 0.16471763517328847 -0.7677996393067984, 0.6406900294841105L -0.7677996393067984, 0.6406900294841105 L -0.7628208096754865, 0.646609938313691 L -0.7577963373742285, 0.6524911578421615 M -0.7577963373742285,0.6524911578421615 Q -0.11359438067648837, 0.16460958865972858 -0.3411594732912399, 0.9400054328479404L -0.3411594732912399, 0.9400054328479404 L -0.33298079630937855, 0.9429336081024857 L -0.3247769909425475, 0.9457906249029456 \", \"type\": \"path\"}, {\"fillcolor\": \"#e1b396\", \"layer\": \"below\", \"line\": {\"color\": \"rgb(175,175,175)\", \"width\": 0.5}, \"path\": \"M -0.4439134159755016,0.8960696842974665 Q -0.145925996940505, 0.13676842989856877 -0.9229210514791872, 0.38498926314450826L -0.9229210514791872, 0.38498926314450826 L -0.9148840531616792, 0.4037166943172621 L -0.9064670943294935, 0.4222764579015093 M -0.9064670943294935,0.4222764579015093 Q -0.14601317511880893, 0.13667535510004736 -0.48117585697071286, 0.8766240897149131L -0.48117585697071286, 0.8766240897149131 L -0.4626468129331553, 0.886542681703929 L -0.4439134159755016, 0.8960696842974665 \", \"type\": \"path\"}, {\"fillcolor\": \"#e1b396\", \"layer\": \"below\", \"line\": {\"color\": \"rgb(175,175,175)\", \"width\": 0.5}, \"path\": \"M -0.2360515035115428,0.9717405454595069 Q -0.13609347495874455, 0.14655567567874528 -0.9516305474583148, 0.307244692621676L -0.9516305474583148, 0.307244692621676 L -0.9513347796211208, 0.30815927226555034 L -0.9510381328128663, 0.3090735671904292 M -0.9510381328128663,0.3090735671904292 Q -0.1361579356641492, 0.14649579023192924 -0.2387736674726823, 0.9710752471985088L -0.2387736674726823, 0.9710752471985088 L -0.23741281853660245, 0.9714088498642095 L -0.2360515035115428, 0.9717405454595069 \", \"type\": \"path\"}, {\"fillcolor\": \"#e1b396\", \"layer\": \"below\", \"line\": {\"color\": \"rgb(175,175,175)\", \"width\": 0.5}, \"path\": \"M -0.2731747966870081,0.9619644122601478 Q -0.1506087358150022, 0.13159410585663356 -0.9899155886641289, 0.1416584883434496L -0.9899155886641289, 0.1416584883434496 L -0.9891901337996767, 0.14663860062540773 L -0.9884396249222858, 0.15161499887376265 M -0.9884396249222858,0.15161499887376265 Q -0.15072081515830515, 0.13146572130413317 -0.28447755009344844, 0.9586827021975673L -0.28447755009344844, 0.9586827021975673 L -0.2788310014554898, 0.9603401858858811 L -0.2731747966870081, 0.9619644122601478 \", \"type\": \"path\"}, {\"fillcolor\": \"#e1b396\", \"layer\": \"below\", \"line\": {\"color\": \"rgb(175,175,175)\", \"width\": 0.5}, \"path\": \"M -0.2485577791393156,0.9686170711015428 Q -0.15424422962700435, 0.12731346207990715 -0.9981720758952175, 0.06043597358388525L -0.9981720758952175, 0.06043597358388525 L -0.9979887398906291, 0.06339144304647322 L -0.9977966531097627, 0.06634635666678176 M -0.9977966531097627,0.06634635666678176 Q -0.15429534512723486, 0.127251508722166 -0.25506652822745524, 0.9669235058565867L -0.25506652822745524, 0.9669235058565867 L -0.2518135774406825, 0.9677757602960126 L -0.2485577791393156, 0.9686170711015428 \", \"type\": \"path\"}, {\"fillcolor\": \"#e1b396\", \"layer\": \"below\", \"line\": {\"color\": \"rgb(175,175,175)\", \"width\": 0.5}, \"path\": \"M -0.24312522083707636,0.9699949108077438 Q -0.1642992683082539, 0.11404275704038554 -0.9937705202511958, -0.11144574051827945L -0.9937705202511958, -0.11144574051827945 L -0.9940460970097654, -0.108960346088162 L -0.9943154578708295, -0.10647427031505102 M -0.9943154578708295,-0.10647427031505102 Q -0.1643336628833243, 0.11399318946037929 -0.2485577791393156, 0.9686170711015428L -0.2485577791393156, 0.9686170711015428 L -0.24584246526385584, 0.9693097968518578 L -0.24312522083707636, 0.9699949108077438 \", \"type\": \"path\"}, {\"fillcolor\": \"#e1b396\", \"layer\": \"below\", \"line\": {\"color\": \"rgb(175,175,175)\", \"width\": 0.5}, \"path\": \"M -0.3101619298680082,0.950683741977611 Q -0.17861658015848295, 0.08997842681714457 -0.9485588514726231, -0.31660086116897757L -0.9485588514726231, -0.31660086116897757 L -0.9507633701555218, -0.3099177535581242 L -0.9529208033949432, -0.303219297633142 M -0.9529208033949432,-0.303219297633142 Q -0.17867673156425523, 0.08985892052275654 -0.3247769909425475, 0.9457906249029456L -0.3247769909425475, 0.9457906249029456 L -0.31747888739047647, 0.9482653405357095 L -0.3101619298680082, 0.950683741977611 \", \"type\": \"path\"}, {\"fillcolor\": \"#e1b396\", \"layer\": \"below\", \"line\": {\"color\": \"rgb(175,175,175)\", \"width\": 0.5}, \"path\": \"M -0.29707907346764445,0.9548528808709779 Q -0.18670077746086183, 0.07171345547043284 -0.859912118651397, -0.5104421105242647L -0.859912118651397, -0.5104421105242647 L -0.8634166859964614, -0.5044914531911201 L -0.8668800750009845, -0.4985167354926888 M -0.8668800750009845,-0.4985167354926888 Q -0.18669788175354757, 0.07172099377963453 -0.3101619298680082, 0.950683741977611L -0.3101619298680082, 0.950683741977611 L -0.3036276576051671, 0.9527907669248267 L -0.29707907346764445, 0.9548528808709779 \", \"type\": \"path\"}, {\"fillcolor\": \"#e1b396\", \"layer\": \"below\", \"line\": {\"color\": \"rgb(175,175,175)\", \"width\": 0.5}, \"path\": \"M -0.3411594732912399,0.9400054328479404 Q -0.19924511061260747, 0.01736046937642576 -0.49859184634188286, -0.8668368766736867L -0.49859184634188286, -0.8668368766736867 L -0.5084869082665918, -0.8610697208249066 L -0.5183152707751691, -0.8551896164484594 M -0.5183152707751691,-0.8551896164484594 Q -0.1992408692460214, 0.01740907872604985 -0.36214529000603535, 0.9321216599384677L -0.36214529000603535, 0.9321216599384677 L -0.3516744744617971, 0.9361223552570566 L -0.3411594732912399, 0.9400054328479404 \", \"type\": \"path\"}, {\"fillcolor\": \"#e1b396\", \"layer\": \"below\", \"line\": {\"color\": \"rgb(175,175,175)\", \"width\": 0.5}, \"path\": \"M -0.2387736674726823,0.9710752471985088 Q -0.19917008590227997, -0.018201013204720787 -0.058806541754698745, -0.9982693978314936L -0.058806541754698745, -0.9982693978314936 L -0.0603128448750209, -0.9981795233038402 L -0.06181901066139483, -0.9980873758949396 M -0.06181901066139483,-0.9980873758949396 Q -0.19915669387587898, -0.018346969352714262 -0.24312522083707636, 0.9699949108077438L -0.24312522083707636, 0.9699949108077438 L -0.24095004963731512, 0.9705375178630528 L -0.2387736674726823, 0.9710752471985088 \", \"type\": \"path\"}, {\"fillcolor\": \"#e1b396\", \"layer\": \"below\", \"line\": {\"color\": \"rgb(175,175,175)\", \"width\": 0.5}, \"path\": \"M -0.41047154387569484,0.9118734076988447 Q -0.18700646010637978, -0.07091250861788065 0.29735508084264517, -0.9547669641839646L 0.29735508084264517, -0.9547669641839646 L 0.2790642736807681, -0.9602724254892595 L 0.2606716460868589, -0.9654275182147893 M 0.2606716460868589,-0.9654275182147893 Q -0.18704944215882807, -0.07079905499419631 -0.4439134159755016, 0.8960696842974665L -0.4439134159755016, 0.8960696842974665 L -0.42726555480557915, 0.9041261779622801 L -0.41047154387569484, 0.9118734076988447 \", \"type\": \"path\"}, {\"fillcolor\": \"#e1b396\", \"layer\": \"below\", \"line\": {\"color\": \"rgb(175,175,175)\", \"width\": 0.5}, \"path\": \"M -0.36214529000603535,0.9321216599384677 Q -0.1622206044616633, -0.11698066288106163 0.770071563332117, -0.6379575121802621L 0.770071563332117, -0.6379575121802621 L 0.7621282376418556, -0.6474260956965817 L 0.7540684964846482, -0.6567957845551249 M 0.7540684964846482,-0.6567957845551249 Q -0.16222402608032516, -0.11697591787325279 -0.3850190760311547, 0.9229086147025154L -0.3850190760311547, 0.9229086147025154 L -0.3736105827189172, 0.9275856469784508 L -0.36214529000603535, 0.9321216599384677 \", \"type\": \"path\"}, {\"fillcolor\": \"#e1b396\", \"layer\": \"below\", \"line\": {\"color\": \"rgb(175,175,175)\", \"width\": 0.5}, \"path\": \"M -0.25506652822745524,0.9669235058565867 Q -0.14996326949125552, -0.13232920238365029 0.9276638323359118, -0.3734164085519667L 0.9276638323359118, -0.3734164085519667 L 0.926140170717094, -0.3771795118827534 L 0.9246012440008704, -0.38093639835547743 M 0.9246012440008704,-0.38093639835547743 Q -0.14988862459607108, -0.1324137463283102 -0.26399716020009406, 0.9645234571571009L -0.26399716020009406, 0.9645234571571009 L -0.25953461853757204, 0.9657338048243713 L -0.25506652822745524, 0.9669235058565867 \", \"type\": \"path\"}, {\"fillcolor\": \"#e1b396\", \"layer\": \"below\", \"line\": {\"color\": \"rgb(175,175,175)\", \"width\": 0.5}, \"path\": \"M -0.26399716020009406,0.9645234571571009 Q -0.13668732806142858, -0.14600196692999515 0.9798099400077347, -0.19993119181868382L 0.9798099400077347, -0.19993119181868382 L 0.9790028583835431, -0.2038465189225763 L 0.9781801311511013, -0.2077585883211915 M 0.9781801311511013,-0.2077585883211915 Q -0.1365754157859986, -0.14610665899568576 -0.2731747966870081, 0.9619644122601478L -0.2731747966870081, 0.9619644122601478 L -0.26858902619834607, 0.9632548650309658 L -0.26399716020009406, 0.9645234571571009 \", \"type\": \"path\"}, {\"fillcolor\": \"#e1b396\", \"layer\": \"below\", \"line\": {\"color\": \"rgb(175,175,175)\", \"width\": 0.5}, \"path\": \"M -0.2335999704535179,0.9723327896374345 Q -0.13181209561368543, -0.15041798911675644 0.994584423836855, -0.10393182313955247L 0.994584423836855, -0.10393182313955247 L 0.994482447662813, -0.10490310429429796 L 0.9943795229651148, -0.10587428539390797 M 0.9943795229651148,-0.10587428539390797 Q -0.13176931011292467, -0.15045547152684044 -0.2360515035115428, 0.9717405454595069L -0.2360515035115428, 0.9717405454595069 L -0.23482592369174254, 0.9720374404117981 L -0.2335999704535179, 0.9723327896374345 \", \"type\": \"path\"}, {\"fillcolor\": \"#dba284\", \"layer\": \"below\", \"line\": {\"color\": \"rgb(175,175,175)\", \"width\": 0.5}, \"path\": \"M -0.6610891992989564,0.7503073174175131 Q -0.14441809757786503, 0.13835972351804646 -0.7779328550264913, 0.6283474143102142L -0.7779328550264913, 0.6283474143102142 L -0.772890885602092, 0.6345389499102588 L -0.7677996393067984, 0.6406900294841105 M -0.7677996393067984,0.6406900294841105 Q -0.1442762013392854, 0.1385076811122978 -0.671468766588775, 0.7410328572308715L -0.671468766588775, 0.7410328572308715 L -0.6662951200599104, 0.7456881472736103 L -0.6610891992989564, 0.7503073174175131 \", \"type\": \"path\"}, {\"fillcolor\": \"#dba284\", \"layer\": \"below\", \"line\": {\"color\": \"rgb(175,175,175)\", \"width\": 0.5}, \"path\": \"M -0.6230852347610448,0.7821539427905313 Q -0.14730917344283886, 0.135277520008269 -0.832285328092427, 0.5543474836617203L -0.832285328092427, 0.5543474836617203 L -0.8301704760092462, 0.5575096239192482 L -0.8280436099227988, 0.5606636960478357 M -0.8280436099227988,0.5606636960478357 Q -0.1472064186602554, 0.13538932862386757 -0.6278368185909056, 0.7783449937024394L -0.6278368185909056, 0.7783449937024394 L -0.6254639261491056, 0.7802530852781975 L -0.6230852347610448, 0.7821539427905313 \", \"type\": \"path\"}, {\"fillcolor\": \"#dba284\", \"layer\": \"below\", \"line\": {\"color\": \"rgb(175,175,175)\", \"width\": 0.5}, \"path\": \"M -0.6382750710752323,0.7698083746257293 Q -0.17402194551256778, 0.0985716109233328 -0.9884396249222858, 0.15161499887376265L -0.9884396249222858, 0.15161499887376265 L -0.9877015791014715, 0.15635085749831892 L -0.986940842744578, 0.16108312426390922 M -0.986940842744578,0.16108312426390922 Q -0.1739782449457983, 0.09864872166216755 -0.6449479540321247, 0.7642264956083219L -0.6449479540321247, 0.7642264956083219 L -0.6416175826649082, 0.7670246916594274 L -0.6382750710752323, 0.7698083746257293 \", \"type\": \"path\"}, {\"fillcolor\": \"#dba284\", \"layer\": \"below\", \"line\": {\"color\": \"rgb(175,175,175)\", \"width\": 0.5}, \"path\": \"M -0.6100721083965881,0.7923458983023397 Q -0.1757153052630876, 0.09552031980840486 -0.9967050191963407, 0.0811116804709536L -0.9967050191963407, 0.0811116804709536 L -0.9966749279226281, 0.08148059922720337 L -0.9966447000979386, 0.08184950682007826 M -0.9966447000979386,0.08184950682007826 Q -0.17571111134619755, 0.0955280343641811 -0.6105889678624932, 0.7919476701933122L -0.6105889678624932, 0.7919476701933122 L -0.610330570608995, 0.7921468264028447 L -0.6100721083965881, 0.7923458983023397 \", \"type\": \"path\"}, {\"fillcolor\": \"#dba284\", \"layer\": \"below\", \"line\": {\"color\": \"rgb(175,175,175)\", \"width\": 0.5}, \"path\": \"M -0.6105889678624932,0.7919476701933122 Q -0.1832214718020999, 0.08018660904834615 -0.9960490401098324, -0.0888048968035071L -0.9960490401098324, -0.0888048968035071 L -0.9961043624303465, -0.08818219291462898 L -0.9961592954526641, -0.08755945456232472 M -0.9961592954526641,-0.08755945456232472 Q -0.18321494210252964, 0.08020152735681978 -0.6114498225400894, 0.7912832075279326L -0.6114498225400894, 0.7912832075279326 L -0.6110194855238337, 0.7916155558793609 L -0.6105889678624932, 0.7919476701933122 \", \"type\": \"path\"}, {\"fillcolor\": \"#dba284\", \"layer\": \"below\", \"line\": {\"color\": \"rgb(175,175,175)\", \"width\": 0.5}, \"path\": \"M -0.6124818935859433,0.7904846171997132 Q -0.19537073745647363, 0.04278171274871611 -0.886786552419562, -0.4621791973334883L -0.886786552419562, -0.4621791973334883 L -0.887631867166834, -0.46055365419234284 L -0.8884742021805054, -0.4589265649967479 M -0.8884742021805054,-0.4589265649967479 Q -0.19535281652809577, 0.04286347016446693 -0.6147144670865956, 0.7887497219995978L -0.6147144670865956, 0.7887497219995978 L -0.6135987934940226, 0.7896179586500549 L -0.6124818935859433, 0.7904846171997132 \", \"type\": \"path\"}, {\"fillcolor\": \"#dba284\", \"layer\": \"below\", \"line\": {\"color\": \"rgb(175,175,175)\", \"width\": 0.5}, \"path\": \"M -0.6114498225400894,0.7912832075279326 Q -0.1999964370776811, -0.001193799075699046 -0.601960088628896, -0.7985261747105674L -0.601960088628896, -0.7985261747105674 L -0.6026457871849963, -0.7980088064602897 L -0.6033310410774463, -0.7974908493972861 M -0.6033310410774463,-0.7974908493972861 Q -0.19999667933765206, -0.0011524989858502398 -0.6124818935859433, 0.7904846171997132L -0.6124818935859433, 0.7904846171997132 L -0.6119659883289528, 0.7908840807150995 L -0.6114498225400894, 0.7912832075279326 \", \"type\": \"path\"}, {\"fillcolor\": \"#dba284\", \"layer\": \"below\", \"line\": {\"color\": \"rgb(175,175,175)\", \"width\": 0.5}, \"path\": \"M -0.6327335537163521,0.7743695823064566 Q -0.18710244259528794, -0.07065887046137231 0.03709373780321045, -0.9993117904917297L 0.03709373780321045, -0.9993117904917297 L 0.03232119524931863, -0.9994775336833017 L 0.02754791562242435, -0.9996204841562921 M 0.02754791562242435,-0.9996204841562921 Q -0.18718616788369072, -0.07043676989342114 -0.6382750710752323, 0.7698083746257293L -0.6382750710752323, 0.7698083746257293 L -0.6355084045294171, 0.7720939500944652 L -0.6327335537163521, 0.7743695823064566 \", \"type\": \"path\"}, {\"fillcolor\": \"#dba284\", \"layer\": \"below\", \"line\": {\"color\": \"rgb(175,175,175)\", \"width\": 0.5}, \"path\": \"M -0.6147144670865956,0.7887497219995978 Q -0.15349394211946035, -0.12821704150629806 0.6667198187859756, -0.7453084483876429L 0.6667198187859756, -0.7453084483876429 L 0.6643087946290449, -0.7474582432340321 L 0.6618908386387851, -0.7496002386112519 M 0.6618908386387851,-0.7496002386112519 Q -0.15358738463276264, -0.12810509467491069 -0.6186523553475519, 0.7856648542622524L -0.6186523553475519, 0.7856648542622524 L -0.6166853401634953, 0.7872097504651693 L -0.6147144670865956, 0.7887497219995978 \", \"type\": \"path\"}, {\"fillcolor\": \"#dba284\", \"layer\": \"below\", \"line\": {\"color\": \"rgb(175,175,175)\", \"width\": 0.5}, \"path\": \"M -0.6186523553475519,0.7856648542622524 Q -0.10690302587727044, -0.16903178120780615 0.9749949963043827, -0.2222268147218438L 0.9749949963043827, -0.2222268147218438 L 0.9743110886162233, -0.22520635559297572 L 0.9736180756075214, -0.22818379182208948 M 0.9736180756075214,-0.22818379182208948 Q -0.10694183514855458, -0.169007230304089 -0.6230852347610448, 0.7821539427905313L -0.6230852347610448, 0.7821539427905313 L -0.6208712767530937, 0.7839125319211214 L -0.6186523553475519, 0.7856648542622524 \", \"type\": \"path\"}, {\"fillcolor\": \"#d59171\", \"layer\": \"below\", \"line\": {\"color\": \"rgb(175,175,175)\", \"width\": 0.5}, \"path\": \"M -0.7098700179674632,0.7043327037635505 Q -0.15664697408008443, 0.12434518692556362 -0.8470393387938472, 0.5315302047256413L -0.8470393387938472, 0.5315302047256413 L -0.8445022292382741, 0.5355520374450885 L -0.8419460237448197, 0.5395617602279533 M -0.8419460237448197,0.5395617602279533 Q -0.15659864973323148, 0.12440604045515105 -0.7159940641203811, 0.6981063673569949L -0.7159940641203811, 0.6981063673569949 L -0.7129388381644773, 0.7012262210133654 L -0.7098700179674632, 0.7043327037635505 \", \"type\": \"path\"}, {\"fillcolor\": \"#d59171\", \"layer\": \"below\", \"line\": {\"color\": \"rgb(175,175,175)\", \"width\": 0.5}, \"path\": \"M -0.748274171140185,0.663389602574889 Q -0.1820599917478814, 0.08278985085601594 -0.9917889208199381, 0.1278856385166939L -0.9917889208199381, 0.1278856385166939 L -0.9908761847856973, 0.13477531830621206 L -0.9899155886641289, 0.1416584883434496 M -0.9899155886641289,0.1416584883434496 Q -0.18208368934761524, 0.08273771856632955 -0.7577963373742285, 0.6524911578421615L -0.7577963373742285, 0.6524911578421615 L -0.7530549702236977, 0.6579576064013439 L -0.748274171140185, 0.663389602574889 \", \"type\": \"path\"}, {\"fillcolor\": \"#d59171\", \"layer\": \"below\", \"line\": {\"color\": \"rgb(175,175,175)\", \"width\": 0.5}, \"path\": \"M -0.6949523031977679,0.7190558366915032 Q -0.18086862649660626, 0.08536123212109319 -0.99684363951234, 0.07938991348900691L -0.99684363951234, 0.07938991348900691 L -0.9968043371877566, 0.07988187130805896 L -0.9967647920743633, 0.08037380967050982 M -0.9967647920743633,0.08037380967050982 Q -0.18086909805195772, 0.08536023295347372 -0.695669645857633, 0.7183618474225336L -0.695669645857633, 0.7183618474225336 L -0.6953110611114544, 0.7187089315543973 L -0.6949523031977679, 0.7190558366915032 \", \"type\": \"path\"}, {\"fillcolor\": \"#d59171\", \"layer\": \"below\", \"line\": {\"color\": \"rgb(175,175,175)\", \"width\": 0.5}, \"path\": \"M -0.7008496098721221,0.7133090664936864 Q -0.1882984154528453, 0.06740702291265847 -0.9943154578708295, -0.10647427031505102L -0.9943154578708295, -0.10647427031505102 L -0.9945655916792083, -0.10411188139586348 L -0.994810112708062, -0.10174890492665302 M -0.994810112708062,-0.10174890492665302 Q -0.18829807102304974, 0.06740798505369015 -0.7042234979652439, 0.7099783552430287L -0.7042234979652439, 0.7099783552430287 L -0.7025385277700414, 0.7116457103072446 L -0.7008496098721221, 0.7133090664936864 \", \"type\": \"path\"}, {\"fillcolor\": \"#d59171\", \"layer\": \"below\", \"line\": {\"color\": \"rgb(175,175,175)\", \"width\": 0.5}, \"path\": \"M -0.6965653495292686,0.7174933545581923 Q -0.19308532687518085, 0.052134983892819724 -0.9630325064151138, -0.269385210410341L -0.9630325064151138, -0.269385210410341 L -0.9633077477373129, -0.26839929796716216 L -0.9635819797238305, -0.2674131043002633 M -0.9635819797238305,-0.2674131043002633 Q -0.1930839967019625, 0.052139910026740025 -0.6979962195862073, 0.7161014435422981L -0.6979962195862073, 0.7161014435422981 L -0.6972811318740265, 0.71679775608778 L -0.6965653495292686, 0.7174933545581923 \", \"type\": \"path\"}, {\"fillcolor\": \"#d59171\", \"layer\": \"below\", \"line\": {\"color\": \"rgb(175,175,175)\", \"width\": 0.5}, \"path\": \"M -0.6979962195862073,0.7161014435422981 Q -0.19761754052713817, 0.030778363764256668 -0.8827141463210136, -0.46991034877385307L -0.8827141463210136, -0.46991034877385307 L -0.8837715548311332, -0.46791862419801294 L -0.8848244692925983, -0.46592452021874936 M -0.8848244692925983,-0.46592452021874936 Q -0.19760956802152976, 0.03082950901886704 -0.7008496098721221, 0.7133090664936864L -0.7008496098721221, 0.7133090664936864 L -0.6994243082640437, 0.7147066790015076 L -0.6979962195862073, 0.7161014435422981 \", \"type\": \"path\"}, {\"fillcolor\": \"#d59171\", \"layer\": \"below\", \"line\": {\"color\": \"rgb(175,175,175)\", \"width\": 0.5}, \"path\": \"M -0.7159940641203811,0.6981063673569949 Q -0.19891417652954752, -0.020812265027430714 -0.555984467830286, -0.8311926801479147L -0.555984467830286, -0.8311926801479147 L -0.560498095861941, -0.8281557127347118 L -0.5649951353868632, -0.8250942352175175 M -0.5649951353868632,-0.8250942352175175 Q -0.19892868103467476, -0.020673167677079343 -0.7225811819192194, 0.6912860735876457L -0.7225811819192194, 0.6912860735876457 L -0.7192957067376734, 0.6947040278195822 L -0.7159940641203811, 0.6981063673569949 \", \"type\": \"path\"}, {\"fillcolor\": \"#d59171\", \"layer\": \"below\", \"line\": {\"color\": \"rgb(175,175,175)\", \"width\": 0.5}, \"path\": \"M -0.7392677801266537,0.6734115749425529 Q -0.17914520914981885, -0.08892128001028589 0.0893678190835612, -0.9959986912201481L 0.0893678190835612, -0.9959986912201481 L 0.08158210673215487, -0.9966666242335716 L 0.07379141269574385, -0.9972736973430947 M 0.07379141269574385,-0.9972736973430947 Q -0.17924088783347705, -0.08872826003403256 -0.748274171140185, 0.663389602574889L -0.748274171140185, 0.663389602574889 L -0.7437878556263361, 0.668415758209497 L -0.7392677801266537, 0.6734115749425529 \", \"type\": \"path\"}, {\"fillcolor\": \"#d59171\", \"layer\": \"below\", \"line\": {\"color\": \"rgb(175,175,175)\", \"width\": 0.5}, \"path\": \"M -0.7225811819192194,0.6912860735876457 Q -0.14102654091907463, -0.1418150723879538 0.6953042510828971, -0.7187155198171608L 0.6953042510828971, -0.7187155198171608 L 0.6907480412117745, -0.7230955286558594 L 0.6861642404284342, -0.7274466545096416 M 0.6861642404284342,-0.7274466545096416 Q -0.14112659780306522, -0.14171550159573887 -0.7302976516963781, 0.6831290799891011L -0.7302976516963781, 0.6831290799891011 L -0.7264508658045611, 0.6872184074745115 L -0.7225811819192194, 0.6912860735876457 \", \"type\": \"path\"}, {\"fillcolor\": \"#d59171\", \"layer\": \"below\", \"line\": {\"color\": \"rgb(175,175,175)\", \"width\": 0.5}, \"path\": \"M -0.6944138418336225,0.7195758585930109 Q -0.11460035830381712, -0.16391082293929446 0.9142528326178754, -0.4051441200982574L 0.9142528326178754, -0.4051441200982574 L 0.9141032402661396, -0.4054815237898567 L 0.9139535233960622, -0.40581887224711927 M 0.9139535233960622,-0.40581887224711927 Q -0.11459950459134156, -0.16391141982003293 -0.6949523031977679, 0.7190558366915032L -0.6949523031977679, 0.7190558366915032 L -0.694683121175073, 0.7193158980270482 L -0.6944138418336225, 0.7195758585930109 \", \"type\": \"path\"}, {\"fillcolor\": \"#d59171\", \"layer\": \"below\", \"line\": {\"color\": \"rgb(175,175,175)\", \"width\": 0.5}, \"path\": \"M -0.7042234979652439,0.7099783552430287 Q -0.09577543184184169, -0.17557638410534812 0.9781801311511013, -0.2077585883211915L 0.9781801311511013, -0.2077585883211915 L 0.9773915192282467, -0.21143750410156603 L 0.9765890710284248, -0.21511342670284034 M 0.9765890710284248,-0.21511342670284034 Q -0.09573506359194406, -0.1755983986232404 -0.7098700179674632, 0.7043327037635505L -0.7098700179674632, 0.7043327037635505 L -0.7070523928931208, 0.70716116529693 L -0.7042234979652439, 0.7099783552430287 \", \"type\": \"path\"}, {\"fillcolor\": \"#d0805f\", \"layer\": \"below\", \"line\": {\"color\": \"rgb(175,175,175)\", \"width\": 0.5}, \"path\": \"M -0.832285328092427,0.5543474836617203 Q -0.18112693276023062, 0.08481175760984383 -0.958738292755466, 0.28429014405064135L -0.958738292755466, 0.28429014405064135 L -0.9579145157423128, 0.28705361960820197 L -0.9570827732813116, 0.28981470819845134 M -0.9570827732813116,0.28981470819845134 Q -0.18122792135631294, 0.08459574765240895 -0.8367765565790795, 0.5475445135873965L -0.8367765565790795, 0.5475445135873965 L -0.8345378744049058, 0.5509505750825039 L -0.832285328092427, 0.5543474836617203 \", \"type\": \"path\"}, {\"fillcolor\": \"#d0805f\", \"layer\": \"below\", \"line\": {\"color\": \"rgb(175,175,175)\", \"width\": 0.5}, \"path\": \"M -0.8367765565790795,0.5475445135873965 Q -0.18642149978030123, 0.07243634736555364 -0.986940842744578, 0.16108312426390922L -0.986940842744578, 0.16108312426390922 L -0.9862565988279303, 0.16522082577073346 L -0.9855550078772183, 0.16935562124752843 M -0.9855550078772183,0.16935562124752843 Q -0.18646213036213027, 0.07233169388875071 -0.8419460237448197, 0.5395617602279533L -0.8419460237448197, 0.5395617602279533 L -0.8393707801145642, 0.5435592824061307 L -0.8367765565790795, 0.5475445135873965 \", \"type\": \"path\"}, {\"fillcolor\": \"#d0805f\", \"layer\": \"below\", \"line\": {\"color\": \"rgb(175,175,175)\", \"width\": 0.5}, \"path\": \"M -0.818168661780832,0.5749782960075646 Q -0.18844505752492188, 0.0669959722254173 -0.9975095538419637, 0.07053148228987192L -0.9975095538419637, 0.07053148228987192 L -0.9973683739783651, 0.07250052818946924 L -0.997223307296898, 0.07446929154917878 M -0.997223307296898,0.07446929154917878 Q -0.18845843375403193, 0.06695833590358378 -0.820660713556253, 0.5714157796432835L -0.820660713556253, 0.5714157796432835 L -0.8194166237315708, 0.5731983921404119 L -0.818168661780832, 0.5749782960075646 \", \"type\": \"path\"}, {\"fillcolor\": \"#d0805f\", \"layer\": \"below\", \"line\": {\"color\": \"rgb(175,175,175)\", \"width\": 0.5}, \"path\": \"M -0.8156611451082663,0.5785299442212751 Q -0.19340593289703054, 0.05093275095878222 -0.994810112708062, -0.10174890492665302L -0.994810112708062, -0.10174890492665302 L -0.9950116707361092, -0.09975858408646687 L -0.995209246724778, -0.09776786401215887 M -0.995209246724778,-0.09776786401215887 Q -0.19341475731901803, 0.05089923035985281 -0.818168661780832, 0.5749782960075646L -0.818168661780832, 0.5749782960075646 L -0.8169168336012397, 0.5767554828338647 L -0.8156611451082663, 0.5785299442212751 \", \"type\": \"path\"}, {\"fillcolor\": \"#d0805f\", \"layer\": \"below\", \"line\": {\"color\": \"rgb(175,175,175)\", \"width\": 0.5}, \"path\": \"M -0.8137703872661979,0.5811865077654697 Q -0.19717279232447812, 0.033509550384453524 -0.9600816070703961, -0.27972005249020937L -0.9600816070703961, -0.27972005249020937 L -0.9605099623432004, -0.2782455969812706 L -0.9609360532067688, -0.27677048550630917 M -0.9609360532067688,-0.27677048550630917 Q -0.19717597293161818, 0.03349083006540411 -0.8156611451082663, 0.5785299442212751L -0.8156611451082663, 0.5785299442212751 L -0.8147168489766949, 0.5798589966478793 L -0.8137703872661979, 0.5811865077654697 \", \"type\": \"path\"}, {\"fillcolor\": \"#d0805f\", \"layer\": \"below\", \"line\": {\"color\": \"rgb(175,175,175)\", \"width\": 0.5}, \"path\": \"M -0.8585321457185419,0.5127597437084119 Q -0.19997353383124006, -0.003253577576436512 -0.8413969062916891, -0.5404176589294383L -0.8413969062916891, -0.5404176589294383 L -0.8462372063066174, -0.5328063350433921 L -0.8510086558230809, -0.5251516616313738 M -0.8510086558230809,-0.5251516616313738 Q -0.19997458002289917, -0.0031886273951500163 -0.8673190323520334, 0.49775264551776344L -0.8673190323520334, 0.49775264551776344 L -0.8629582118856766, 0.5052752957933683 L -0.8585321457185419, 0.5127597437084119 \", \"type\": \"path\"}, {\"fillcolor\": \"#d0805f\", \"layer\": \"below\", \"line\": {\"color\": \"rgb(175,175,175)\", \"width\": 0.5}, \"path\": \"M -0.8673190323520334,0.49775264551776344 Q -0.19241860384299098, -0.054544302132432665 -0.477097693895213, -0.8788502662455474L -0.477097693895213, -0.8788502662455474 L -0.48788174808479007, -0.8729097318083523 L -0.49859184634188286, -0.8668368766736867 M -0.49859184634188286,-0.8668368766736867 Q -0.1924528111909966, -0.054423482658523537 -0.8787129033094161, 0.4773506400514582L -0.8787129033094161, 0.4773506400514582 L -0.8730755640516914, 0.4875849253779499 L -0.8673190323520334, 0.49775264551776344 \", \"type\": \"path\"}, {\"fillcolor\": \"#d0805f\", \"layer\": \"below\", \"line\": {\"color\": \"rgb(175,175,175)\", \"width\": 0.5}, \"path\": \"M -0.8123466397447786,0.5831748767697104 Q -0.18088251724794943, -0.08533179333662973 -0.06652485582327824, -0.9977847681527775L -0.06652485582327824, -0.9977847681527775 L -0.06737175388956558, -0.997727942265748 L -0.06821860341682748, -0.9976703975501416 M -0.06821860341682748,-0.9976703975501416 Q -0.1808505932295731, -0.08539943166386701 -0.8137703872661979, 0.5811865077654697L -0.8137703872661979, 0.5811865077654697 L -0.8130591213353296, 0.5821811274967797 L -0.8123466397447786, 0.5831748767697104 \", \"type\": \"path\"}, {\"fillcolor\": \"#d0805f\", \"layer\": \"below\", \"line\": {\"color\": \"rgb(175,175,175)\", \"width\": 0.5}, \"path\": \"M -0.8924637201531285,0.45111917295814236 Q -0.1594659516767654, -0.12070878284459474 0.19190164721704273, -0.9814141622146002L 0.19190164721704273, -0.9814141622146002 L 0.175116092728124, -0.9845477916625658 L 0.15827947885675117, -0.9873943521070166 M 0.15827947885675117,-0.9873943521070166 Q -0.15959187011050666, -0.12054225398021717 -0.9064670943294935, 0.4222764579015093L -0.9064670943294935, 0.4222764579015093 L -0.8995810104580559, 0.43675394173752236 L -0.8924637201531285, 0.45111917295814236 \", \"type\": \"path\"}, {\"fillcolor\": \"#d0805f\", \"layer\": \"below\", \"line\": {\"color\": \"rgb(175,175,175)\", \"width\": 0.5}, \"path\": \"M -0.8521982451332073,0.5232190277425716 Q -0.12419225140312327, -0.15676825154164165 0.7043331712334929, -0.7098695541436969L 0.7043331712334929, -0.7098695541436969 L 0.699832688050716, -0.7143068029465415 L 0.6953042510828971, -0.7187155198171608 M 0.6953042510828971,-0.7187155198171608 Q -0.12422458171644471, -0.15674263394933222 -0.8585321457185419, 0.5127597437084119L -0.8585321457185419, 0.5127597437084119 L -0.8553811821063002, 0.5179990668895346 L -0.8521982451332073, 0.5232190277425716 \", \"type\": \"path\"}, {\"fillcolor\": \"#d0805f\", \"layer\": \"below\", \"line\": {\"color\": \"rgb(175,175,175)\", \"width\": 0.5}, \"path\": \"M -0.824061946993871,0.5664996977198404 Q -0.09642012902234466, -0.17522316832917506 0.9195550574152933, -0.39296118940928076L 0.9195550574152933, -0.39296118940928076 L 0.918293397234144, -0.39590053876721937 L 0.9170223414780293, -0.39883583744462164 M 0.9170223414780293,-0.39883583744462164 Q -0.09636164016046128, -0.17525534030546908 -0.8280436099227988, 0.5606636960478357L -0.8280436099227988, 0.5606636960478357 L -0.8260579323071803, 0.5635852131420643 L -0.824061946993871, 0.5664996977198404 \", \"type\": \"path\"}, {\"fillcolor\": \"#d0805f\", \"layer\": \"below\", \"line\": {\"color\": \"rgb(175,175,175)\", \"width\": 0.5}, \"path\": \"M -0.820660713556253,0.5714157796432835 Q -0.08140979236512581, -0.1826812680793165 0.9736180756075214, -0.22818379182208948L 0.9736180756075214, -0.22818379182208948 L 0.9730245729334911, -0.23070149645721244 L 0.972424559672203, -0.2332176574496927 M 0.972424559672203,-0.2332176574496927 Q -0.08133629651023541, -0.18271400293901688 -0.824061946993871, 0.5664996977198404L -0.824061946993871, 0.5664996977198404 L -0.8223650038134763, 0.5689602802506174 L -0.820660713556253, 0.5714157796432835 \", \"type\": \"path\"}, {\"fillcolor\": \"#d0805f\", \"layer\": \"below\", \"line\": {\"color\": \"rgb(175,175,175)\", \"width\": 0.5}, \"path\": \"M -0.8110770074905264,0.5849393882448102 Q -0.07147190663928969, -0.18679337932952725 0.9943795229651148, -0.10587428539390797L 0.9943795229651148, -0.10587428539390797 L 0.9942872381328143, -0.10673747273671208 L 0.9941942039968228, -0.10760057964120812 M 0.9941942039968228,-0.10760057964120812 Q -0.07143103441810944, -0.18680901295697397 -0.8123466397447786, 0.5831748767697104L -0.8123466397447786, 0.5831748767697104 L -0.8117123030827373, 0.5840574775003898 L -0.8110770074905264, 0.5849393882448102 \", \"type\": \"path\"}, {\"fillcolor\": \"#ca6f4c\", \"layer\": \"below\", \"line\": {\"color\": \"rgb(175,175,175)\", \"width\": 0.5}, \"path\": \"M -0.9505616703442664,0.31053584474633217 Q -0.19262970655178446, 0.053794015966215136 -0.9739187603522614, 0.22689699917344527L -0.9739187603522614, 0.22689699917344527 L -0.9737008081957871, 0.22783049865825922 L -0.973481961281852, 0.22876378878406145 M -0.973481961281852,0.22876378878406145 Q -0.1926195019483236, 0.05383054401712622 -0.9510381328128663, 0.3090735671904292L -0.9510381328128663, 0.3090735671904292 L -0.9508001826912552, 0.3098047975649761 L -0.9505616703442664, 0.31053584474633217 \", \"type\": \"path\"}, {\"fillcolor\": \"#ca6f4c\", \"layer\": \"below\", \"line\": {\"color\": \"rgb(175,175,175)\", \"width\": 0.5}, \"path\": \"M -0.9497224516441738,0.31309306099461864 Q -0.19603496728634517, 0.03962690501466881 -0.9967647920743633, 0.08037380967050982L -0.9967647920743633, 0.08037380967050982 L -0.9967349739149538, 0.08074275060187368 L -0.9967050191963407, 0.0811116804709536 M -0.9967050191963407,0.0811116804709536 Q -0.19603172596685053, 0.03964293650144531 -0.9499028635680639, 0.31254527637638707L -0.9499028635680639, 0.31254527637638707 L -0.9498126970965356, 0.3128191816916039 L -0.9497224516441738, 0.31309306099461864 \", \"type\": \"path\"}, {\"fillcolor\": \"#ca6f4c\", \"layer\": \"below\", \"line\": {\"color\": \"rgb(175,175,175)\", \"width\": 0.5}, \"path\": \"M -0.954367750581229,0.298633883962495 Q -0.19999773316410707, 0.0009522233029190382 -0.957168112127925, -0.28953273584426337L -0.957168112127925, -0.28953273584426337 L -0.9580160273688573, -0.2867146513598369 L -0.9588556456541041, -0.28389408376584946 M -0.9588556456541041,-0.28389408376584946 Q -0.19999698245695186, 0.0010986392099762194 -0.9556788536659984, 0.2944111557934641L -0.9556788536659984, 0.2944111557934641 L -0.9550256360210382, 0.2965232445232776 L -0.954367750581229, 0.298633883962495 \", \"type\": \"path\"}, {\"fillcolor\": \"#ca6f4c\", \"layer\": \"below\", \"line\": {\"color\": \"rgb(175,175,175)\", \"width\": 0.5}, \"path\": \"M -0.9516305474583148,0.307244692621676 Q -0.19932395454746385, -0.01643049431881386 -0.8884742021805054, -0.4589265649967479L -0.8884742021805054, -0.4589265649967479 L -0.8892490950135771, -0.45742326899441194 L -0.8900214442760875, -0.45591866459787245 M -0.8900214442760875,-0.45591866459787245 Q -0.1993327620616891, -0.016323295281837135 -0.952336802432106, 0.3050485448799776L -0.952336802432106, 0.3050485448799776 L -0.9519843082364403, 0.30614682240974855 L -0.9516305474583148, 0.307244692621676 \", \"type\": \"path\"}, {\"fillcolor\": \"#ca6f4c\", \"layer\": \"below\", \"line\": {\"color\": \"rgb(175,175,175)\", \"width\": 0.5}, \"path\": \"M -0.952336802432106,0.3050485448799776 Q -0.19037894693818053, -0.06128504354823819 -0.5955388850627605, -0.803326481810605L -0.5955388850627605, -0.803326481810605 L -0.5972626208088059, -0.8020457354693662 L -0.5989836022328169, -0.8007612904331719 M -0.5989836022328169,-0.8007612904331719 Q -0.1904221444529571, -0.061150690118241036 -0.9532124935494665, 0.30230107863057376L -0.9532124935494665, 0.30230107863057376 L -0.9527756383308006, 0.30367512740317637 L -0.952336802432106, 0.3050485448799776 \", \"type\": \"path\"}, {\"fillcolor\": \"#ca6f4c\", \"layer\": \"below\", \"line\": {\"color\": \"rgb(175,175,175)\", \"width\": 0.5}, \"path\": \"M -0.9532124935494665,0.30230107863057376 Q -0.16438557414219226, -0.11391831728893215 -0.05164983186390581, -0.998665256664329L -0.05164983186390581, -0.998665256664329 L -0.05353344885053447, -0.9985660568305771 L -0.05541687537299158, -0.9984633042450255 M -0.05541687537299158,-0.9984633042450255 Q -0.16438144988012982, -0.11392426842120332 -0.954367750581229, 0.298633883962495L -0.954367750581229, 0.298633883962495 L -0.95379188454747, 0.30046803652199944 L -0.9532124935494665, 0.30230107863057376 \", \"type\": \"path\"}, {\"fillcolor\": \"#ca6f4c\", \"layer\": \"below\", \"line\": {\"color\": \"rgb(175,175,175)\", \"width\": 0.5}, \"path\": \"M -0.9613737039985379,0.27524643732504805 Q -0.15171464023934486, -0.13031756572713507 0.12705681732364607, -0.9918954406446204L 0.12705681732364607, -0.9918954406446204 L 0.11642799626402606, -0.9931991349603281 L 0.1057858242365569, -0.9943889376851456 M 0.1057858242365569,-0.9943889376851456 Q -0.15218221989681105, -0.12977122927397525 -0.9651919443860433, 0.2615425596194415L -0.9651919443860433, 0.2615425596194415 L -0.9633071931891292, 0.26840128827947507 L -0.9613737039985379, 0.27524643732504805 \", \"type\": \"path\"}, {\"fillcolor\": \"#ca6f4c\", \"layer\": \"below\", \"line\": {\"color\": \"rgb(175,175,175)\", \"width\": 0.5}, \"path\": \"M -0.9496020015282548,0.31345819289585075 Q -0.11045846696206725, -0.16673010249019193 0.6589379205599315, -0.7521973257385016L 0.6589379205599315, -0.7521973257385016 L 0.6587266073669572, -0.7523823873183227 L 0.6585152421997594, -0.7525673895343806 M 0.6585152421997594,-0.7525673895343806 Q -0.11047324719831819, -0.16672030966099866 -0.9497224516441738, 0.31309306099461864L -0.9497224516441738, 0.31309306099461864 L -0.9496622441347305, 0.3132756327341584 L -0.9496020015282548, 0.31345819289585075 \", \"type\": \"path\"}, {\"fillcolor\": \"#ca6f4c\", \"layer\": \"below\", \"line\": {\"color\": \"rgb(175,175,175)\", \"width\": 0.5}, \"path\": \"M -0.9502028479598091,0.31163207108554775 Q -0.07112422899839543, -0.18692603898168872 0.9170223414780293, -0.39883583744462164L 0.9170223414780293, -0.39883583744462164 L 0.9167276880074371, -0.39951263564565653 L 0.9164325350334959, -0.40018921616165576 M 0.9164325350334959,-0.40018921616165576 Q -0.07115440324250656, -0.1869145550758495 -0.9505616703442664, 0.31053584474633217L -0.9505616703442664, 0.31053584474633217 L -0.9503824172084507, 0.31108400965176947 L -0.9502028479598091, 0.31163207108554775 \", \"type\": \"path\"}, {\"fillcolor\": \"#ca6f4c\", \"layer\": \"below\", \"line\": {\"color\": \"rgb(175,175,175)\", \"width\": 0.5}, \"path\": \"M -0.9495417238269731,0.3136407414729477 Q -0.056247376354327555, -0.19192767557925208 0.9686295740919917, -0.2485090505280779L 0.9686295740919917, -0.2485090505280779 L 0.9686003482297844, -0.24862293821998882 L 0.9685711089771063, -0.24873682247479678 M 0.9685711089771063,-0.24873682247479678 Q -0.056251494410816116, -0.19192646867107707 -0.9496020015282548, 0.31345819289585075L -0.9496020015282548, 0.31345819289585075 L -0.9495718670643254, 0.31354946863289546 L -0.9495417238269731, 0.3136407414729477 \", \"type\": \"path\"}, {\"fillcolor\": \"#ca6f4c\", \"layer\": \"below\", \"line\": {\"color\": \"rgb(175,175,175)\", \"width\": 0.5}, \"path\": \"M -0.949481411033113,0.3138232784587032 Q -0.04265460768136431, -0.1953985272297335 0.9938866690274344, -0.11040511369294048L 0.9938866690274344, -0.11040511369294048 L 0.9938746827510304, -0.11051296297963695 L 0.9938626847716134, -0.11062081096502874 M 0.9938626847716134,-0.11062081096502874 Q -0.04265702901704921, -0.19539799864747498 -0.9495417238269731, 0.3136407414729477L -0.9495417238269731, 0.3136407414729477 L -0.949511571816476, 0.3137320114151646 L -0.949481411033113, 0.3138232784587032 \", \"type\": \"path\"}, {\"fillcolor\": \"#c45e3a\", \"layer\": \"below\", \"line\": {\"color\": \"rgb(175,175,175)\", \"width\": 0.5}, \"path\": \"M -0.9731520136808497,0.2301633295486214 Q -0.19950794020937504, 0.014020762939741652 -0.9957780746272169, -0.09179338806097542L -0.9957780746272169, -0.09179338806097542 L -0.9958466567026177, -0.09104634168498284 L -0.9959146783336555, -0.0902992440697672 M -0.9959146783336555,-0.0902992440697672 Q -0.19950750219133961, 0.01402699430999495 -0.973481961281852, 0.22876378878406145L -0.973481961281852, 0.22876378878406145 L -0.9733172390327627, 0.22946361847064106 L -0.9731520136808497, 0.2301633295486214 \", \"type\": \"path\"}, {\"fillcolor\": \"#c45e3a\", \"layer\": \"below\", \"line\": {\"color\": \"rgb(175,175,175)\", \"width\": 0.5}, \"path\": \"M -0.9795128275298823,0.20138177848160693 Q -0.19972285757883268, -0.01052521546313065 -0.9529208033949432, -0.303219297633142L -0.9529208033949432, -0.303219297633142 L -0.9541543277836655, -0.2993150827668085 L -0.9553718562749258, -0.29540585003991127 M -0.9553718562749258,-0.29540585003991127 Q -0.19972558765035303, -0.010473282089257106 -0.9810283748272627, 0.19386419933494656L -0.9810283748272627, 0.19386419933494656 L -0.9802778075801045, 0.19762444172202873 L -0.9795128275298823, 0.20138177848160693 \", \"type\": \"path\"}, {\"fillcolor\": \"#c45e3a\", \"layer\": \"below\", \"line\": {\"color\": \"rgb(175,175,175)\", \"width\": 0.5}, \"path\": \"M -0.9750483216529588,0.2219927261009875 Q -0.19803941645713075, -0.027935452910578275 -0.8755956978892584, -0.48304469134627964L -0.8755956978892584, -0.48304469134627964 L -0.8774275001502448, -0.4797092681823983 L -0.8792465967808959, -0.4763668985658141 M -0.8792465967808959,-0.4763668985658141 Q -0.19805530861023568, -0.0278225579576055 -0.9764643230691074, 0.21567898778784605L -0.9764643230691074, 0.21567898778784605 L -0.9757614290647074, 0.21883700224048008 L -0.9750483216529588, 0.2219927261009875 \", \"type\": \"path\"}, {\"fillcolor\": \"#c45e3a\", \"layer\": \"below\", \"line\": {\"color\": \"rgb(175,175,175)\", \"width\": 0.5}, \"path\": \"M -0.9825754251081721,0.18586428912917863 Q -0.18485161015420362, -0.0763536654221546 -0.5649951353868632, -0.8250942352175175L -0.5649951353868632, -0.8250942352175175 L -0.5691223550440422, -0.8222528473584771 L -0.5732352855032007, -0.819390814846044 M -0.5732352855032007,-0.819390814846044 Q -0.184913917006503, -0.07620264626187284 -0.9840998345389667, 0.1776162032596642L -0.9840998345389667, 0.1776162032596642 L -0.9833462777461269, 0.18174184450158165 L -0.9825754251081721, 0.18586428912917863 \", \"type\": \"path\"}, {\"fillcolor\": \"#c45e3a\", \"layer\": \"below\", \"line\": {\"color\": \"rgb(175,175,175)\", \"width\": 0.5}, \"path\": \"M -0.9729862853115173,0.23086292165632533 Q -0.16118570986166603, -0.11840256304823314 -0.07066477936421203, -0.9975001197781418L -0.07066477936421203, -0.9975001197781418 L -0.07094700337275571, -0.9974800863738715 L -0.07122922170187004, -0.9974599731195963 M -0.07122922170187004,-0.9974599731195963 Q -0.16117664651163202, -0.11841490032620226 -0.9731520136808497, 0.2301633295486214L -0.9731520136808497, 0.2301633295486214 L -0.973069212368013, 0.23051314049636035 L -0.9729862853115173, 0.23086292165632533 \", \"type\": \"path\"}, {\"fillcolor\": \"#c45e3a\", \"layer\": \"below\", \"line\": {\"color\": \"rgb(175,175,175)\", \"width\": 0.5}, \"path\": \"M -0.9840998345389667,0.1776162032596642 Q -0.15039644014545753, -0.13183668226853182 0.04721437801139638, -0.9988847793960007L 0.04721437801139638, -0.9988847793960007 L 0.04215459859459251, -0.9991110998369144 L 0.03709373780321045, -0.9993117904917297 M 0.03709373780321045,-0.9993117904917297 Q -0.15051120556595568, -0.13170564528175183 -0.9855550078772183, 0.16935562124752843L -0.9855550078772183, 0.16935562124752843 L -0.9848360822325594, 0.1734874379683544 L -0.9840998345389667, 0.1776162032596642 \", \"type\": \"path\"}, {\"fillcolor\": \"#c45e3a\", \"layer\": \"below\", \"line\": {\"color\": \"rgb(175,175,175)\", \"width\": 0.5}, \"path\": \"M -0.9810283748272627,0.19386419933494656 Q -0.09761843886538252, -0.17455841541869466 0.6787732274883186, -0.7343479458983264L 0.6787732274883186, -0.7343479458983264 L 0.6752588537086167, -0.7375808297997752 L 0.6717290824325044, -0.7407968951165939 M 0.6717290824325044,-0.7407968951165939 Q -0.09774080003471518, -0.17448993096615584 -0.9825754251081721, 0.18586428912917863L -0.9825754251081721, 0.18586428912917863 L -0.9818100480342644, 0.18986581993332902 L -0.9810283748272627, 0.19386419933494656 \", \"type\": \"path\"}, {\"fillcolor\": \"#c45e3a\", \"layer\": \"below\", \"line\": {\"color\": \"rgb(175,175,175)\", \"width\": 0.5}, \"path\": \"M -0.9729309307548898,0.23109609252521765 Q -0.06403390924518178, -0.18947205194112357 0.9136537161824769, -0.40649340327482547L 0.9136537161824769, -0.40649340327482547 L 0.9136036999091455, -0.4066058035890781 L 0.9135536698080039, -0.40671819774916473 M 0.9135536698080039,-0.40671819774916473 Q -0.06403451566209792, -0.18947184699559072 -0.9729862853115173, 0.23086292165632533L -0.9729862853115173, 0.23086292165632533 L -0.9729586150181685, 0.23097950874899573 L -0.9729309307548898, 0.23109609252521765 \", \"type\": \"path\"}, {\"fillcolor\": \"#c45e3a\", \"layer\": \"below\", \"line\": {\"color\": \"rgb(175,175,175)\", \"width\": 0.5}, \"path\": \"M -0.9779897063178242,0.20865314360530468 Q -0.042376888499504384, -0.19545894535963448 0.9765890710284248, -0.21511342670284034L 0.9765890710284248, -0.21511342670284034 L 0.975798515595865, -0.21867157328035697 L 0.9749949963043827, -0.2222268147218438 M 0.9749949963043827,-0.2222268147218438 Q -0.04236326840964813, -0.1954618977950744 -0.9795128275298823, 0.20138177848160693L -0.9795128275298823, 0.20138177848160693 L -0.9787580194781232, 0.20501887549018913 L -0.9779897063178242, 0.20865314360530468 \", \"type\": \"path\"}, {\"fillcolor\": \"#c45e3a\", \"layer\": \"below\", \"line\": {\"color\": \"rgb(175,175,175)\", \"width\": 0.5}, \"path\": \"M -0.9743519795925237,0.22502937555823757 Q -0.03267996989939897, -0.1973119853616966 0.9948736926598176, -0.10112534624622431L 0.9948736926598176, -0.10112534624622431 L 0.9947300480038593, -0.1025286867088415 L 0.994584423836855, -0.10393182313955247 M 0.994584423836855,-0.10393182313955247 Q -0.032650952679238794, -0.19731678917197623 -0.9750483216529588, 0.2219927261009875L -0.9750483216529588, 0.2219927261009875 L -0.974701333195957, 0.22351132200858198 L -0.9743519795925237, 0.22502937555823757 \", \"type\": \"path\"}, {\"fillcolor\": \"#bf4d28\", \"layer\": \"below\", \"line\": {\"color\": \"rgb(175,175,175)\", \"width\": 0.5}, \"path\": \"M -0.9999922688305255,-0.003932210469711053 Q -0.19890235039365356, -0.020924985254003603 -0.9789179863441734, -0.2042537050138107L -0.9789179863441734, -0.2042537050138107 L -0.9814192134826977, -0.19187581245952579 L -0.9837639353075154, -0.17946732178385746 M -0.9837639353075154,-0.17946732178385746 Q -0.1989058347723083, -0.020891837964410707 -0.9995837162807328, -0.028851241678640203L -0.9995837162807328, -0.028851241678640203 L -0.999865625765539, -0.01639299888633238 L -0.9999922688305255, -0.003932210469711053 \", \"type\": \"path\"}, {\"fillcolor\": \"#bf4d28\", \"layer\": \"below\", \"line\": {\"color\": \"rgb(175,175,175)\", \"width\": 0.5}, \"path\": \"M -0.99684363951234,0.07938991348900691 Q -0.19910103720902095, -0.018941409194990207 -0.9639914345709478, -0.26593328876589717L -0.9639914345709478, -0.26593328876589717 L -0.9641613700748506, -0.2653165137253749 L -0.964330910957603, -0.26469963009358244 M -0.964330910957603,-0.26469963009358244 Q -0.1991014699842153, -0.018936859563418174 -0.9969408330600794, 0.07815993460510837L -0.9969408330600794, 0.07815993460510837 L -0.9968924259817274, 0.07877493903689249 L -0.99684363951234, 0.07938991348900691 \", \"type\": \"path\"}, {\"fillcolor\": \"#bf4d28\", \"layer\": \"below\", \"line\": {\"color\": \"rgb(175,175,175)\", \"width\": 0.5}, \"path\": \"M -0.9970554620227622,0.07668380305237955 Q -0.19607969397246558, -0.039404994755287685 -0.8900214442760875, -0.45591866459787245L -0.8900214442760875, -0.45591866459787245 L -0.8905990356755467, -0.45478935525558023 L -0.8911751941444267, -0.45365931417931166 M -0.8911751941444267,-0.45365931417931166 Q -0.19608591801642872, -0.03937401117049672 -0.997223307296898, 0.07446929154917878L -0.997223307296898, 0.07446929154917878 L -0.9971399994259001, 0.07557659389596705 L -0.9970554620227622, 0.07668380305237955 \", \"type\": \"path\"}, {\"fillcolor\": \"#bf4d28\", \"layer\": \"below\", \"line\": {\"color\": \"rgb(175,175,175)\", \"width\": 0.5}, \"path\": \"M -0.9989461452725535,0.045897699780124514 Q -0.1794569214274016, -0.08829050544537287 -0.5732352855032007, -0.819390814846044L -0.5732352855032007, -0.819390814846044 L -0.5772169230850636, -0.8165908545313325 L -0.5811848845419213, -0.8137715465534499 M -0.5811848845419213,-0.8137715465534499 Q -0.1795162657211765, -0.08816978133988972 -0.9992960610501614, 0.03751509522354889L -0.9992960610501614, 0.03751509522354889 L -0.9991298943566627, 0.041706764473453034 L -0.9989461452725535, 0.045897699780124514 \", \"type\": \"path\"}, {\"fillcolor\": \"#bf4d28\", \"layer\": \"below\", \"line\": {\"color\": \"rgb(175,175,175)\", \"width\": 0.5}, \"path\": \"M -0.9965838348122134,0.08258728831353565 Q -0.15180546494478767, -0.13021175374326563 -0.0701003143992036, -0.9975399470302594L -0.0701003143992036, -0.9975399470302594 L -0.07038254969883062, -0.9975200733308035 L -0.07066477936421203, -0.9975001197781418 M -0.07066477936421203,-0.9975001197781418 Q -0.15179410862703085, -0.13022499217172243 -0.9966447000979386, 0.08184950682007826L -0.9966447000979386, 0.08184950682007826 L -0.9966143357264137, 0.08221840319903594 L -0.9965838348122134, 0.08258728831353565 \", \"type\": \"path\"}, {\"fillcolor\": \"#bf4d28\", \"layer\": \"below\", \"line\": {\"color\": \"rgb(175,175,175)\", \"width\": 0.5}, \"path\": \"M -0.9981720758952175,0.06043597358388525 Q -0.14372998831496225, -0.13907440619675793 0.02754791562242435, -0.9996204841562921L 0.02754791562242435, -0.9996204841562921 L 0.023352693099836896, -0.9997272886767595 L 0.019157059305984565, -0.999816486700808 M 0.019157059305984565,-0.999816486700808 Q -0.14381598207134486, -0.1389854787409628 -0.9985790009638957, 0.05329145179058164L -0.9985790009638957, 0.05329145179058164 L -0.9983819293148394, 0.05686407668800324 L -0.9981720758952175, 0.06043597358388525 \", \"type\": \"path\"}, {\"fillcolor\": \"#bf4d28\", \"layer\": \"below\", \"line\": {\"color\": \"rgb(175,175,175)\", \"width\": 0.5}, \"path\": \"M -0.9995837162807328,-0.028851241678640203 Q -0.05945925453460953, -0.19095705551298314 0.8065080685997791, -0.5912230841936519L 0.8065080685997791, -0.5912230841936519 L 0.797447822343439, -0.6033879105846478 L 0.7882041064186479, -0.6154139148774431 M 0.7882041064186479,-0.6154139148774431 Q -0.05981109812952062, -0.19084714443905326 -0.9984599591162912, -0.05547711277179262L -0.9984599591162912, -0.05547711277179262 L -0.9991105376540572, -0.04216792084773253 L -0.9995837162807328, -0.028851241678640203 \", \"type\": \"path\"}, {\"fillcolor\": \"#bf4d28\", \"layer\": \"below\", \"line\": {\"color\": \"rgb(175,175,175)\", \"width\": 0.5}, \"path\": \"M -0.9969408330600794,0.07815993460510837 Q -0.04850767940135064, -0.19402836142970384 0.9164325350334959, -0.40018921616165576L 0.9164325350334959, -0.40018921616165576 L 0.9161368827170274, -0.4008655786239665 L 0.915840731219126, -0.40154172266405475 M 0.915840731219126,-0.40154172266405475 Q -0.04850726604811558, -0.19402846476879967 -0.9970554620227622, 0.07668380305237955L -0.9970554620227622, 0.07668380305237955 L -0.9969984207320065, 0.07742189004335255 L -0.9969408330600794, 0.07815993460510837 \", \"type\": \"path\"}, {\"fillcolor\": \"#bf4d28\", \"layer\": \"below\", \"line\": {\"color\": \"rgb(175,175,175)\", \"width\": 0.5}, \"path\": \"M -0.9999174702350132,0.012847284491727486 Q -0.017229892238173193, -0.19925644484799218 0.9872805796396671, -0.15898760035412485L 0.9872805796396671, -0.15898760035412485 L 0.9859778846383032, -0.16687603484076743 L 0.9846121615795148, -0.17475380187485295 M 0.9846121615795148,-0.17475380187485295 Q -0.017151257618389967, -0.19926322882586145 -0.9999922688305255, -0.003932210469711053L -0.9999922688305255, -0.003932210469711053 L -0.9999900644331863, 0.0044576939006601484 L -0.9999174702350132, 0.012847284491727486 \", \"type\": \"path\"}, {\"fillcolor\": \"#bf4d28\", \"layer\": \"below\", \"line\": {\"color\": \"rgb(175,175,175)\", \"width\": 0.5}, \"path\": \"M -0.9992960610501614,0.03751509522354889 Q -0.01114193328613311, -0.19968940212902475 0.9972667121569707, -0.07388575521455908L 0.9972667121569707, -0.07388575521455908 L 0.996962024148565, -0.07788916744705904 L 0.9966412649684826, -0.08189132409494233 M 0.9966412649684826,-0.08189132409494233 Q -0.011032079285240751, -0.1996955012679158 -0.9995969264542057, 0.02838986832137823L -0.9995969264542057, 0.02838986832137823 L -0.999456908183158, 0.03295282514386864 L -0.9992960610501614, 0.03751509522354889 \", \"type\": \"path\"}, {\"fillcolor\": \"#af4624\", \"layer\": \"below\", \"line\": {\"color\": \"rgb(175,175,175)\", \"width\": 0.5}, \"path\": \"M -0.9957780746272169,-0.09179338806097542 Q -0.19664256871449404, -0.03649246729621737 -0.9624095245520757, -0.2716024798330228L -0.9624095245520757, -0.2716024798330228 L -0.9627216538152069, -0.2704940244724694 L -0.9630325064151138, -0.269385210410341 M -0.9630325064151138,-0.269385210410341 Q -0.19664352772529087, -0.0364872992115444 -0.995568966122381, -0.09403421554951909L -0.995568966122381, -0.09403421554951909 L -0.9956741507654517, -0.0929138606317511 L -0.9957780746272169, -0.09179338806097542 \", \"type\": \"path\"}, {\"fillcolor\": \"#af4624\", \"layer\": \"below\", \"line\": {\"color\": \"rgb(175,175,175)\", \"width\": 0.5}, \"path\": \"M -0.995568966122381,-0.09403421554951909 Q -0.1916815554678833, -0.05708048084426749 -0.8848244692925983, -0.46592452021874936L -0.8848244692925983, -0.46592452021874936 L -0.8858074903295182, -0.4640528957738766 L -0.886786552419562, -0.4621791973334883 M -0.886786552419562,-0.4621791973334883 Q -0.19169516967962372, -0.05703474310891812 -0.995209246724778, -0.09776786401215887L -0.995209246724778, -0.09776786401215887 L -0.995390857010171, -0.0959012084415901 L -0.995568966122381, -0.09403421554951909 \", \"type\": \"path\"}, {\"fillcolor\": \"#af4624\", \"layer\": \"below\", \"line\": {\"color\": \"rgb(175,175,175)\", \"width\": 0.5}, \"path\": \"M -0.9923921001648305,-0.12311750294103994 Q -0.17184724422454278, -0.10231580841898452 -0.5811848845419213, -0.8137715465534499L -0.5811848845419213, -0.8137715465534499 L -0.5850229735406273, -0.8110167201911946 L -0.5888480048292261, -0.808243791939437 M -0.5888480048292261,-0.808243791939437 Q -0.1719084367228374, -0.10221296093700749 -0.9913423488158093, -0.13130250357230158L -0.9913423488158093, -0.13130250357230158 L -0.9918756673983711, -0.12721108608543494 L -0.9923921001648305, -0.12311750294103994 \", \"type\": \"path\"}, {\"fillcolor\": \"#af4624\", \"layer\": \"below\", \"line\": {\"color\": \"rgb(175,175,175)\", \"width\": 0.5}, \"path\": \"M -0.9962247011756081,-0.0868121233905166 Q -0.14031170242295238, -0.14252237074639498 -0.07122922170187004, -0.9974599731195963L -0.07122922170187004, -0.9974599731195963 L -0.07151143432896206, -0.9974397800169265 L -0.0717936412314393, -0.9974195070674783 M -0.0717936412314393,-0.9974195070674783 Q -0.14029856699613444, -0.1425353012373818 -0.9961592954526641, -0.08755945456232472L -0.9961592954526641, -0.08755945456232472 L -0.9961920683939829, -0.08718579510974331 L -0.9962247011756081, -0.0868121233905166 \", \"type\": \"path\"}, {\"fillcolor\": \"#af4624\", \"layer\": \"below\", \"line\": {\"color\": \"rgb(175,175,175)\", \"width\": 0.5}, \"path\": \"M -0.9931423799725825,-0.11691113335518834 Q -0.13145985196402626, -0.15072593446914273 0.019157059305984565, -0.999816486700808L 0.019157059305984565, -0.999816486700808 L 0.015539860107635042, -0.9998792490835257 L 0.011922457522521737, -0.9999289249774824 M 0.011922457522521737,-0.9999289249774824 Q -0.13153398762132568, -0.1506612428610389 -0.9923921001648305, -0.12311750294103994L -0.9923921001648305, -0.12311750294103994 L -0.9927720900133604, -0.1200149044515063 L -0.9931423799725825, -0.11691113335518834 \", \"type\": \"path\"}, {\"fillcolor\": \"#af4624\", \"layer\": \"below\", \"line\": {\"color\": \"rgb(175,175,175)\", \"width\": 0.5}, \"path\": \"M -0.9789179863441734,-0.2042537050138107 Q -0.039063861966957034, -0.1961479408207655 0.8259746446975453, -0.563707270058462L 0.8259746446975453, -0.563707270058462 L 0.8163572945166406, -0.5775471995339176 L 0.8065080685997791, -0.5912230841936519 M 0.8065080685997791,-0.5912230841936519 Q -0.03942663758886466, -0.1960753432954698 -0.9723490594724384, -0.23353223876600931L -0.9723490594724384, -0.23353223876600931 L -0.9757433469704733, -0.2189176119978897 L -0.9789179863441734, -0.2042537050138107 \", \"type\": \"path\"}, {\"fillcolor\": \"#af4624\", \"layer\": \"below\", \"line\": {\"color\": \"rgb(175,175,175)\", \"width\": 0.5}, \"path\": \"M -0.9960490401098324,-0.0888048968035071 Q -0.03228586301532568, -0.19737685540446637 0.915840731219126, -0.40154172266405475L 0.915840731219126, -0.40154172266405475 L 0.9155440807011573, -0.4022176479135055 L 0.9152469313247594, -0.40289335400402304 M 0.9152469313247594,-0.40289335400402304 Q -0.03228348850001831, -0.1973772438004675 -0.9959146783336555, -0.0902992440697672L -0.9959146783336555, -0.0902992440697672 L -0.9959821394820491, -0.08955209563578144 L -0.9960490401098324, -0.0888048968035071 \", \"type\": \"path\"}, {\"fillcolor\": \"#af4624\", \"layer\": \"below\", \"line\": {\"color\": \"rgb(175,175,175)\", \"width\": 0.5}, \"path\": \"M -0.9886681050422785,-0.15011788058759062 Q -0.0038604849612519625, -0.19996273816854968 0.9821371835011534, -0.18816629024461778L 0.9821371835011534, -0.18816629024461778 L 0.9809911987823651, -0.19405222985458903 L 0.9798099400077347, -0.19993119181868382 M 0.9798099400077347,-0.19993119181868382 Q -0.00378447385369056, -0.19996419118844938 -0.9866732752077593, -0.16271400674432804L -0.9866732752077593, -0.16271400674432804 L -0.9876907702973489, -0.15641912373309622 L -0.9886681050422785, -0.15011788058759062 \", \"type\": \"path\"}, {\"fillcolor\": \"#af4624\", \"layer\": \"below\", \"line\": {\"color\": \"rgb(175,175,175)\", \"width\": 0.5}, \"path\": \"M -0.9901201770525428,-0.14022137851783223 Q 0.00753950491728855, -0.19985783913973 0.9978705339388071, -0.06522574259201745L 0.9978705339388071, -0.06522574259201745 L 0.9975780203293959, -0.06955640413134755 L 0.9972667121569707, -0.07388575521455908 M 0.9972667121569707,-0.07388575521455908 Q 0.007671553286787732, -0.19985281401613533 -0.9886681050422785, -0.15011788058759062L -0.9886681050422785, -0.15011788058759062 L -0.9894065147992749, -0.14517144510113603 L -0.9901201770525428, -0.14022137851783223 \", \"type\": \"path\"}, {\"fillcolor\": \"#9f4021\", \"layer\": \"below\", \"line\": {\"color\": \"rgb(175,175,175)\", \"width\": 0.5}, \"path\": \"M -0.9377703336362753,-0.34725610340454643 Q -0.17780236250103246, -0.0915768523648386 -0.8272595099972835, -0.5618199917402855L -0.8272595099972835, -0.5618199917402855 L -0.8343968323693624, -0.5511641553402891 L -0.8413969062916891, -0.5404176589294383 M -0.8413969062916891,-0.5404176589294383 Q -0.17791046376203867, -0.09136666177537806 -0.9294301914084047, -0.36899799362399827L -0.9294301914084047, -0.36899799362399827 L -0.9336635516230463, -0.35815132607689626 L -0.9377703336362753, -0.34725610340454643 \", \"type\": \"path\"}, {\"fillcolor\": \"#9f4021\", \"layer\": \"below\", \"line\": {\"color\": \"rgb(175,175,175)\", \"width\": 0.5}, \"path\": \"M -0.943331599603366,-0.33185161320951095 Q -0.15525122348379405, -0.12608353424133165 -0.5183152707751691, -0.8551896164484594L -0.5183152707751691, -0.8551896164484594 L -0.526129070555486, -0.8504047278304727 L -0.5338987014709246, -0.8455484472031515 M -0.5338987014709246,-0.8455484472031515 Q -0.15537390414035634, -0.1259323227459232 -0.9377703336362753, -0.34725610340454643L -0.9377703336362753, -0.34725610340454643 L -0.9405825032335128, -0.33956524352615786 L -0.943331599603366, -0.33185161320951095 \", \"type\": \"path\"}, {\"fillcolor\": \"#9f4021\", \"layer\": \"below\", \"line\": {\"color\": \"rgb(175,175,175)\", \"width\": 0.5}, \"path\": \"M -0.961711335286034,-0.27406442232138306 Q -0.1255780266202261, -0.155660397115547 -0.06445446001238794, -0.997920649442886L -0.06445446001238794, -0.997920649442886 L -0.0654896931595045, -0.9978532457680708 L -0.06652485582327824, -0.9977847681527775 M -0.06652485582327824,-0.9977847681527775 Q -0.12552041727802907, -0.1557068554892477 -0.9609360532067688, -0.27677048550630917L -0.9609360532067688, -0.27677048550630917 L -0.9613246464197404, -0.27541772670974024 L -0.961711335286034, -0.27406442232138306 \", \"type\": \"path\"}, {\"fillcolor\": \"#9f4021\", \"layer\": \"below\", \"line\": {\"color\": \"rgb(175,175,175)\", \"width\": 0.5}, \"path\": \"M -0.9182714902291986,-0.39595134831472256 Q -0.09015654630752307, -0.17852674073622543 0.2264277802072418, -0.9740279566575186L 0.2264277802072418, -0.9740279566575186 L 0.20919731468261127, -0.9778734496495876 L 0.19190164721704273, -0.9814141622146002 M 0.19190164721704273,-0.9814141622146002 Q -0.09052135874634842, -0.17834204106355545 -0.9054643506862113, -0.42442232462065155L -0.9054643506862113, -0.42442232462065155 L -0.911979031273643, -0.4102368176031834 L -0.9182714902291986, -0.39595134831472256 \", \"type\": \"path\"}, {\"fillcolor\": \"#9f4021\", \"layer\": \"below\", \"line\": {\"color\": \"rgb(175,175,175)\", \"width\": 0.5}, \"path\": \"M -0.957168112127925,-0.28953273584426337 Q -0.053396140414567986, -0.1927403750873899 0.6717290824325044, -0.7407968951165939L 0.6717290824325044, -0.7407968951165939 L 0.6692282524083005, -0.7430568929621284 L 0.6667198187859756, -0.7453084483876429 M 0.6667198187859756,-0.7453084483876429 Q -0.05345393781065738, -0.19272435376084252 -0.9553718562749258, -0.29540585003991127L -0.9553718562749258, -0.29540585003991127 L -0.9562744930469406, -0.29247067194475534 L -0.957168112127925, -0.28953273584426337 \", \"type\": \"path\"}, {\"fillcolor\": \"#9f4021\", \"layer\": \"below\", \"line\": {\"color\": \"rgb(175,175,175)\", \"width\": 0.5}, \"path\": \"M -0.9645338390192962,-0.2639592267504555 Q -0.015060719554186345, -0.19943213062721402 0.9139535233960622, -0.40581887224711927L 0.9139535233960622, -0.40581887224711927 L 0.9138036820280373, -0.40615616542409105 L 0.9136537161824769, -0.40649340327482547 M 0.9136537161824769,-0.40649340327482547 Q -0.015057772804518647, -0.19943235313801896 -0.964330910957603, -0.26469963009358244L -0.964330910957603, -0.26469963009358244 L -0.9644324460402289, -0.2643294478957288 L -0.9645338390192962, -0.2639592267504555 \", \"type\": \"path\"}, {\"fillcolor\": \"#9f4021\", \"layer\": \"below\", \"line\": {\"color\": \"rgb(175,175,175)\", \"width\": 0.5}, \"path\": \"M -0.9639914345709478,-0.26593328876589717 Q 0.0022498713974609097, -0.19998734479635177 0.9697302305418373, -0.24417878690270178L 0.9697302305418373, -0.24417878690270178 L 0.9695577291047227, -0.24486283902073236 L 0.9693847451341947, -0.2455467692744345 M 0.9693847451341947,-0.2455467692744345 Q 0.002262318929482551, -0.19998720437333312 -0.9635819797238305, -0.2674131043002633L -0.9635819797238305, -0.2674131043002633 L -0.9637869911642879, -0.26667327511861555 L -0.9639914345709478, -0.26593328876589717 \", \"type\": \"path\"}, {\"fillcolor\": \"#9f4021\", \"layer\": \"below\", \"line\": {\"color\": \"rgb(175,175,175)\", \"width\": 0.5}, \"path\": \"M -0.9600816070703961,-0.27972005249020937 Q 0.018562591814750527, -0.19913671229865917 0.9952400178620947, -0.09745412687955987L 0.9952400178620947, -0.09745412687955987 L 0.9950585483602123, -0.09928990550537882 L 0.9948736926598176, -0.10112534624622431 M 0.9948736926598176,-0.10112534624622431 Q 0.01862839529444859, -0.19913056743944102 -0.9588556456541041, -0.28389408376584946L -0.9588556456541041, -0.28389408376584946 L -0.9594708961754576, -0.28180773479850474 L -0.9600816070703961, -0.27972005249020937 \", \"type\": \"path\"}, {\"fillcolor\": \"#8f391e\", \"layer\": \"below\", \"line\": {\"color\": \"rgb(175,175,175)\", \"width\": 0.5}, \"path\": \"M -0.7575086612978718,-0.6528251129197667 Q -0.1102376246791736, -0.16687619993604141 -0.3032359582892392, -0.9529155018155633L -0.3032359582892392, -0.9529155018155633 L -0.34333288030702513, -0.9392137846625134 L -0.38281334806672246, -0.9238257089635179 M -0.38281334806672246,-0.9238257089635179 Q -0.11034753566240606, -0.16680354124908148 -0.7004679092699896, -0.713683899273992L -0.7004679092699896, -0.713683899273992 L -0.7296230999977542, -0.6838494951008351 L -0.7575086612978718, -0.6528251129197667 \", \"type\": \"path\"}, {\"fillcolor\": \"#8f391e\", \"layer\": \"below\", \"line\": {\"color\": \"rgb(175,175,175)\", \"width\": 0.5}, \"path\": \"M -0.8827141463210136,-0.46991034877385307 Q -0.10661101553812907, -0.16921610847058505 -0.04279448125962398, -0.9990838965641072L -0.04279448125962398, -0.9990838965641072 L -0.04524419967338547, -0.998975956865787 L -0.04769364604412323, -0.9988620105535188 M -0.04769364604412323,-0.9988620105535188 Q -0.10640579663813197, -0.169345228577024 -0.8792465967808959, -0.4763668985658141L -0.8792465967808959, -0.4763668985658141 L -0.8809862863954593, -0.4731418002915592 L -0.8827141463210136, -0.46991034877385307 \", \"type\": \"path\"}, {\"fillcolor\": \"#8f391e\", \"layer\": \"below\", \"line\": {\"color\": \"rgb(175,175,175)\", \"width\": 0.5}, \"path\": \"M -0.8057877305328784,-0.5922044691849879 Q -0.04905269636947024, -0.1938912916530409 0.4272251396874522, -0.9041452759479734L 0.4272251396874522, -0.9041452759479734 L 0.39091574732701706, -0.9204264655537452 L 0.35398735977495366, -0.9352502066931381 M 0.35398735977495366,-0.9352502066931381 Q -0.049253768827943294, -0.19384031122613152 -0.7575086612978718, -0.6528251129197667L -0.7575086612978718, -0.6528251129197667 L -0.7822356536169043, -0.6229826500076342 L -0.8057877305328784, -0.5922044691849879 \", \"type\": \"path\"}, {\"fillcolor\": \"#8f391e\", \"layer\": \"below\", \"line\": {\"color\": \"rgb(175,175,175)\", \"width\": 0.5}, \"path\": \"M -0.8718940827618763,-0.4896945052222113 Q -0.03016979595953507, -0.197711363891305 0.6861642404284342, -0.7274466545096416L 0.6861642404284342, -0.7274466545096416 L 0.6824774573467298, -0.7309066426114504 L 0.6787732274883186, -0.7343479458983264 M 0.6787732274883186,-0.7343479458983264 Q -0.030166296737011183, -0.19771189782401713 -0.8668800750009845, -0.4985167354926888L -0.8668800750009845, -0.4985167354926888 L -0.8693982694155327, -0.4941119803620197 L -0.8718940827618763, -0.4896945052222113 \", \"type\": \"path\"}, {\"fillcolor\": \"#8f391e\", \"layer\": \"below\", \"line\": {\"color\": \"rgb(175,175,175)\", \"width\": 0.5}, \"path\": \"M -0.8755956978892584,-0.48304469134627964 Q 0.011325920292494133, -0.19967905130365596 0.9246012440008704, -0.38093639835547743L 0.9246012440008704, -0.38093639835547743 L 0.9233307856528246, -0.384005547180946 L 0.9220501395139463, -0.3870704589894613 M 0.9220501395139463,-0.3870704589894613 Q 0.011422488736741341, -0.19967355045438295 -0.8718940827618763, -0.4896945052222113L -0.8718940827618763, -0.4896945052222113 L -0.8737512165234357, -0.48637311975870556 L -0.8755956978892584, -0.48304469134627964 \", \"type\": \"path\"}, {\"fillcolor\": \"#8f391e\", \"layer\": \"below\", \"line\": {\"color\": \"rgb(175,175,175)\", \"width\": 0.5}, \"path\": \"M -0.8914308043794754,-0.4531568392988915 Q 0.021919189443368563, -0.198795244244287 0.9687463436280315, -0.24805346542090487L 0.9687463436280315, -0.24805346542090487 L 0.9686879856433768, -0.24828126483924856 L 0.9686295740919917, -0.2485090505280779 M 0.9686295740919917,-0.2485090505280779 Q 0.02192847729534185, -0.1987942199449161 -0.8911751941444267, -0.45365931417931166L -0.8911751941444267, -0.45365931417931166 L -0.8913030346709254, -0.4534080947517359 L -0.8914308043794754, -0.4531568392988915 \", \"type\": \"path\"}, {\"fillcolor\": \"#8f391e\", \"layer\": \"below\", \"line\": {\"color\": \"rgb(175,175,175)\", \"width\": 0.5}, \"path\": \"M -0.8916861313021275,-0.4526542203972533 Q 0.035803670428871684, -0.19676914693066275 0.9939821379132905, -0.10954227270476143L 0.9939821379132905, -0.10954227270476143 L 0.9939583409146912, -0.1097579907164602 L 0.9939344971000996, -0.10997370355849638 M 0.9939344971000996,-0.10997370355849638 Q 0.03581643082133873, -0.19676682465095652 -0.8914308043794754, -0.4531568392988915L -0.8914308043794754, -0.4531568392988915 L -0.8915585032599249, -0.4529055478407419 L -0.8916861313021275, -0.4526542203972533 \", \"type\": \"path\"}, {\"fillcolor\": \"#f0f3e7\", \"layer\": \"below\", \"line\": {\"color\": \"rgb(175,175,175)\", \"width\": 0.5}, \"path\": \"M -0.555984467830286,-0.8311926801479147 Q -0.06094882090692483, -0.19048685316854708 -0.029788176455491224, -0.9995562338075115L -0.029788176455491224, -0.9995562338075115 L -0.033370219573997315, -0.999443059131226 L -0.036951834090696266, -0.9993170477667904 M -0.036951834090696266,-0.9993170477667904 Q -0.06059509712169434, -0.19059967000184558 -0.5469079810752825, -0.8371927258619477L -0.5469079810752825, -0.8371927258619477 L -0.5514543848772745, -0.8342050475750112 L -0.555984467830286, -0.8311926801479147 \", \"type\": \"path\"}, {\"fillcolor\": \"#f0f3e7\", \"layer\": \"below\", \"line\": {\"color\": \"rgb(175,175,175)\", \"width\": 0.5}, \"path\": \"M -0.3032359582892392,-0.9529155018155633 Q 0.023208173281177195, -0.1986488879731041 0.5147297810439737, -0.8573524669040283L 0.5147297810439737, -0.8573524669040283 L 0.47155822537316905, -0.8818349279104948 L 0.4272251396874522, -0.9041452759479734 M 0.4272251396874522,-0.9041452759479734 Q 0.023102835857915748, -0.19866116624877195 -0.20833886086140574, -0.9780567054393993L -0.20833886086140574, -0.9780567054393993 L -0.2560961126748459, -0.9666513234216527 L -0.3032359582892392, -0.9529155018155633 \", \"type\": \"path\"}, {\"fillcolor\": \"#f0f3e7\", \"layer\": \"below\", \"line\": {\"color\": \"rgb(175,175,175)\", \"width\": 0.5}, \"path\": \"M -0.477097693895213,-0.8788502662455474 Q 0.04076590623736224, -0.1958012790781679 0.7882041064186479, -0.6154139148774431L 0.7882041064186479, -0.6154139148774431 L 0.7792193652490524, -0.6267512910404444 L 0.770071563332117, -0.6379575121802621 M 0.770071563332117,-0.6379575121802621 Q 0.04082070467629141, -0.19578986201979665 -0.45097514099624586, -0.8925365102915489L -0.45097514099624586, -0.8925365102915489 L -0.46408687229320433, -0.8857896900309413 L -0.477097693895213, -0.8788502662455474 \", \"type\": \"path\"}, {\"fillcolor\": \"#f0f3e7\", \"layer\": \"below\", \"line\": {\"color\": \"rgb(175,175,175)\", \"width\": 0.5}, \"path\": \"M -0.5469079810752825,-0.8371927258619477 Q 0.06127142940475279, -0.1903833289411087 0.9325433248962699, -0.3610580939286779L 0.9325433248962699, -0.3610580939286779 L 0.9301241040525401, -0.36724535539671505 L 0.9276638323359118, -0.3734164085519667 M 0.9276638323359118,-0.3734164085519667 Q 0.06147842224765087, -0.1903165878160376 -0.5338987014709246, -0.8455484472031515L -0.5338987014709246, -0.8455484472031515 L -0.5404194905616534, -0.8413957298566965 L -0.5469079810752825, -0.8371927258619477 \", \"type\": \"path\"}, {\"fillcolor\": \"#f0f3e7\", \"layer\": \"below\", \"line\": {\"color\": \"rgb(175,175,175)\", \"width\": 0.5}, \"path\": \"M -0.601960088628896,-0.7985261747105674 Q 0.06681309309525442, -0.18850997477864367 0.9704721587382051, -0.24121316115421235L 0.9704721587382051, -0.24121316115421235 L 0.9701023278891852, -0.2426962575401274 L 0.9697302305418373, -0.24417878690270178 M 0.9697302305418373,-0.24417878690270178 Q 0.06687579125802953, -0.18848774109637068 -0.5989836022328169, -0.8007612904331719L -0.5989836022328169, -0.8007612904331719 L -0.6004728853917646, -0.7996451174798035 L -0.601960088628896, -0.7985261747105674 \", \"type\": \"path\"}, {\"fillcolor\": \"#f0f3e7\", \"layer\": \"below\", \"line\": {\"color\": \"rgb(175,175,175)\", \"width\": 0.5}, \"path\": \"M -0.5955388850627605,-0.803326481810605 Q 0.08254403709258817, -0.18217157281106577 0.9966412649684826, -0.08189132409494233L 0.9966412649684826, -0.08189132409494233 L 0.9963786279105947, -0.08502723000898323 L 0.9961061238306093, -0.0881622939082178 M 0.9961061238306093,-0.0881622939082178 Q 0.08272705357375125, -0.18208853507842193 -0.5888480048292261, -0.808243791939437L -0.5888480048292261, -0.808243791939437 L -0.5921985488176482, -0.805792081605591 L -0.5955388850627605, -0.803326481810605 \", \"type\": \"path\"}, {\"fillcolor\": \"#e2ecde\", \"layer\": \"below\", \"line\": {\"color\": \"rgb(175,175,175)\", \"width\": 0.5}, \"path\": \"M -0.029788176455491224,-0.9995562338075115 Q 0.004406239635252348, -0.1999514567395715 0.07379141269574385, -0.9972736973430947L 0.07379141269574385, -0.9972736973430947 L 0.06657377897020296, -0.9977815051170404 L 0.059352659967173114, -0.9982370769285326 M 0.059352659967173114,-0.9982370769285326 Q 0.0039023640598683214, -0.19996192526264656 -0.020360038585624612, -0.9997927129304314L -0.020360038585624612, -0.9997927129304314 L -0.02507438630448198, -0.9996855881483205 L -0.029788176455491224, -0.9995562338075115 \", \"type\": \"path\"}, {\"fillcolor\": \"#e2ecde\", \"layer\": \"below\", \"line\": {\"color\": \"rgb(175,175,175)\", \"width\": 0.5}, \"path\": \"M -0.06445446001238794,-0.997920649442886 Q 0.06469878305979297, -0.18924605007920733 0.6618908386387851, -0.7496002386112519L 0.6618908386387851, -0.7496002386112519 L 0.6604156562324911, -0.7509002337215032 L 0.6589379205599315, -0.7521973257385016 M 0.6589379205599315,-0.7521973257385016 Q 0.06457653670833954, -0.18928779914922272 -0.06181901066139483, -0.9980873758949396L -0.06181901066139483, -0.9980873758949396 L -0.06313679037160602, -0.9980048826040742 L -0.06445446001238794, -0.997920649442886 \", \"type\": \"path\"}, {\"fillcolor\": \"#e2ecde\", \"layer\": \"below\", \"line\": {\"color\": \"rgb(175,175,175)\", \"width\": 0.5}, \"path\": \"M -0.06934765956015977,-0.9975925531566122 Q 0.10340274248996546, -0.17119542296905574 0.9152469313247594, -0.40289335400402304L 0.9152469313247594, -0.40289335400402304 L 0.914949283251842, -0.403568840567431 L 0.9146511366445865, -0.4042441072356726 M 0.9146511366445865,-0.4042441072356726 Q 0.10337324582998997, -0.17121323560569862 -0.06821860341682748, -0.9976703975501416L -0.06821860341682748, -0.9976703975501416 L -0.06878314250091228, -0.9976316350776469 L -0.06934765956015977, -0.9975925531566122 \", \"type\": \"path\"}, {\"fillcolor\": \"#e2ecde\", \"layer\": \"below\", \"line\": {\"color\": \"rgb(175,175,175)\", \"width\": 0.5}, \"path\": \"M -0.0701003143992036,-0.9975399470302594 Q 0.11722654250440295, -0.16204301198281712 0.9693847451341947, -0.2455467692744345L 0.9693847451341947, -0.2455467692744345 L 0.9692691544555618, -0.24600265490640597 L 0.9691533493814598, -0.24645848612433321 M 0.9691533493814598,-0.24645848612433321 Q 0.11721146130354487, -0.1620539210851981 -0.06934765956015977, -0.9975925531566122L -0.06934765956015977, -0.9975925531566122 L -0.06972399194103816, -0.9975663210773538 L -0.0701003143992036, -0.9975399470302594 \", \"type\": \"path\"}, {\"fillcolor\": \"#e2ecde\", \"layer\": \"below\", \"line\": {\"color\": \"rgb(175,175,175)\", \"width\": 0.5}, \"path\": \"M -0.07216990815740791,-0.9973923522649205 Q 0.12795162427654547, -0.15371526223831433 0.9939344971000996, -0.10997370355849638L 0.9939344971000996, -0.10997370355849638 L 0.9939106064706389, -0.11018941122070978 L 0.9938866690274344, -0.11040511369294048 M 0.9938866690274344,-0.11040511369294048 Q 0.12794725811691252, -0.15371889649735382 -0.0717936412314393, -0.9974195070674783L -0.0717936412314393, -0.9974195070674783 L -0.07198177597492662, -0.9974059474093262 L -0.07216990815740791, -0.9973923522649205 \", \"type\": \"path\"}, {\"fillcolor\": \"#d4e5d6\", \"layer\": \"below\", \"line\": {\"color\": \"rgb(175,175,175)\", \"width\": 0.5}, \"path\": \"M 0.2264277802072418,-0.9740279566575186 Q 0.11576765532616871, -0.16308847286145456 0.8448035898900185, -0.5350765314503501L 0.8448035898900185, -0.5350765314503501 L 0.8355117635863639, -0.5494725588314706 L 0.8259746446975453, -0.563707270058462 M 0.8259746446975453,-0.563707270058462 Q 0.1158524630318356, -0.16302823930061064 0.2606716460868589, -0.9654275182147893L 0.2606716460868589, -0.9654275182147893 L 0.24358767345529225, -0.969878881789184 L 0.2264277802072418, -0.9740279566575186 \", \"type\": \"path\"}, {\"fillcolor\": \"#d4e5d6\", \"layer\": \"below\", \"line\": {\"color\": \"rgb(175,175,175)\", \"width\": 0.5}, \"path\": \"M 0.0893678190835612,-0.9959986912201481 Q 0.1235862947476175, -0.15724639185226164 0.9466674480716084, -0.3222122635183035L 0.9466674480716084, -0.3222122635183035 L 0.9443846781555199, -0.3288427886773483 L 0.942055468215079, -0.3354571430243633 M 0.942055468215079,-0.3354571430243633 Q 0.12378055114522613, -0.15709352360356574 0.1057858242365569, -0.9943889376851456L 0.1057858242365569, -0.9943889376851456 L 0.09758014117580352, -0.9952276704594333 L 0.0893678190835612, -0.9959986912201481 \", \"type\": \"path\"}, {\"fillcolor\": \"#d4e5d6\", \"layer\": \"below\", \"line\": {\"color\": \"rgb(175,175,175)\", \"width\": 0.5}, \"path\": \"M 0.011054255898294655,-0.9999388998466532 Q 0.12356017409920911, -0.15726691761643052 0.9689210961493567, -0.24736998491476064L 0.9689210961493567, -0.24736998491476064 L 0.9688337801603353, -0.24771174057810633 L 0.9687463436280315, -0.24805346542090487 M 0.9687463436280315,-0.24805346542090487 Q 0.12357297456294714, -0.1572568598111549 0.011922457522521737, -0.9999289249774824L 0.011922457522521737, -0.9999289249774824 L 0.011488357793004392, -0.9999340066400482 L 0.011054255898294655, -0.9999388998466532 \", \"type\": \"path\"}, {\"fillcolor\": \"#d4e5d6\", \"layer\": \"below\", \"line\": {\"color\": \"rgb(175,175,175)\", \"width\": 0.5}, \"path\": \"M 0.04721437801139638,-0.9988847793960007 Q 0.14141945176247356, -0.14142326068649888 0.998883507401307, -0.047241281117927705L 0.998883507401307, -0.047241281117927705 L 0.998657829150867, -0.051793245463842466 L 0.9984114074689946, -0.05634413399619569 M 0.9984114074689946,-0.05634413399619569 Q 0.1416342874555749, -0.14120810393511973 0.059352659967173114, -0.9982370769285326L 0.059352659967173114, -0.9982370769285326 L 0.053284503145877335, -0.9985793717699645 L 0.04721437801139638, -0.9988847793960007 \", \"type\": \"path\"}, {\"fillcolor\": \"#c6decd\", \"layer\": \"below\", \"line\": {\"color\": \"rgb(175,175,175)\", \"width\": 0.5}, \"path\": \"M 0.7043331712334929,-0.7098695541436969 Q 0.16808663972527027, -0.10838303163257246 0.9372581886938776, -0.34863603905257967L 0.9372581886938776, -0.34863603905257967 L 0.9349213880951907, -0.35485489722161356 L 0.9325433248962699, -0.3610580939286779 M 0.9325433248962699,-0.3610580939286779 Q 0.16818852147183821, -0.10822486426471976 0.7150192060692138, -0.6991048097046331L 0.7150192060692138, -0.6991048097046331 L 0.7096965990262462, -0.7045074430625836 L 0.7043331712334929, -0.7098695541436969 \", \"type\": \"path\"}, {\"fillcolor\": \"#c6decd\", \"layer\": \"below\", \"line\": {\"color\": \"rgb(175,175,175)\", \"width\": 0.5}, \"path\": \"M 0.7402543568522643,-0.6723269198546497 Q 0.18096688449325649, -0.08515272583308402 0.989897589889677, -0.1417842076206264L 0.989897589889677, -0.1417842076206264 L 0.9886265056613835, -0.1503915965197601 L 0.9872805796396671, -0.15898760035412485 M 0.9872805796396671,-0.15898760035412485 Q 0.1811107283729074, -0.08484635565676918 0.7540684964846482, -0.6567957845551249L 0.7540684964846482, -0.6567957845551249 L 0.7472017810084275, -0.6645972452981084 L 0.7402543568522643, -0.6723269198546497 \", \"type\": \"path\"}, {\"fillcolor\": \"#c6decd\", \"layer\": \"below\", \"line\": {\"color\": \"rgb(175,175,175)\", \"width\": 0.5}, \"path\": \"M 0.7263134973169424,-0.6873635890962162 Q 0.1846274353044141, -0.07689414888607837 0.9995065603657314, -0.031410759078132795L 0.9995065603657314, -0.031410759078132795 L 0.9992263843066296, -0.03932725397863165 L 0.998883507401307, -0.047241281117927705 M 0.998883507401307,-0.047241281117927705 Q 0.1848061840587422, -0.07646354905212227 0.7402543568522643, -0.6723269198546497L 0.7402543568522643, -0.6723269198546497 L 0.7333224686835168, -0.6798809873234525 L 0.7263134973169424, -0.6873635890962162 \", \"type\": \"path\"}, {\"fillcolor\": \"#b8d7c5\", \"layer\": \"below\", \"line\": {\"color\": \"rgb(175,175,175)\", \"width\": 0.5}, \"path\": \"M 0.9142528326178754,-0.4051441200982574 Q 0.19312207453966432, -0.05199869542110015 0.9940768577253819, -0.10867934916455303L 0.9940768577253819, -0.10867934916455303 L 0.9940295914580314, -0.10911082121301817 L 0.9939821379132905, -0.10954227270476143 M 0.9939821379132905,-0.10954227270476143 Q 0.1931250928291145, -0.05198748426059788 0.9146511366445865, -0.4042441072356726L 0.9146511366445865, -0.4042441072356726 L 0.9144520953564409, -0.40469416266881686 L 0.9142528326178754, -0.4051441200982574 \", \"type\": \"path\"}, {\"fillcolor\": \"#aad0bc\", \"layer\": \"below\", \"line\": {\"color\": \"rgb(175,175,175)\", \"width\": 0.5}, \"path\": \"M 0.9713169595728378,-0.2377884859411365 Q 0.197228255172292, -0.03318155152631177 0.9956536440902435, -0.09313335068501902L 0.9956536440902435, -0.09313335068501902 L 0.9954491752858248, -0.09529396320214292 L 0.9952400178620947, -0.09745412687955987 M 0.9952400178620947,-0.09745412687955987 Q 0.197234267456649, -0.03314579522109944 0.972424559672203, -0.2332176574496927L 0.972424559672203, -0.2332176574496927 L 0.9718734467653334, -0.2355037228420617 L 0.9713169595728378, -0.2377884859411365 \", \"type\": \"path\"}, {\"fillcolor\": \"#f2e6ce\", \"layer\": \"below\", \"line\": {\"color\": \"rgb(150,150,150)\", \"width\": 0.45}, \"path\": \"M 1.1, 0.0 L 1.0997395282670144, 0.023936791076601974 L 1.0989582364235548, 0.047862246048742424 L 1.097656494477695, 0.0717650341805685 L 1.095834918914854, 0.09563383547090222 L 1.0934943724058384, 0.11945734601422292 L 1.0906359633982943, 0.14322428335402687 L 1.087261045591763, 0.16692339182602925 L 1.08337121729659, 0.19054344788867747 L 1.0789683206769873, 0.21407326543845184 L 1.074054440878615, 0.2375017011074359 L 1.068631905041085, 0.2608176595406482 L 1.0627032811958645, 0.2840100986506352 L 0.9660938919962404, 0.2581909987733047 L 0.97148355003735, 0.23710696321877103 L 0.9764131280714682, 0.21591063737039626 L 0.9808802915245339, 0.19461205948950167 L 0.9848829248150817, 0.17322131626243406 L 0.9884191323561482, 0.15174853802366295 L 0.9914872394529948, 0.13020389395820622 L 0.9940857930962167, 0.10859758728565719 L 0.9962135626498672, 0.08693985042809292 L 0.9978695404342681, 0.06524094016415317 L 0.9990529422032316, 0.04351113277158402 L 0.9997632075154675, 0.021760719160547247 L 1.0, 0.0 L 1.1 ,0.0\", \"type\": \"path\"}, {\"fillcolor\": \"#ecd5bb\", \"layer\": \"below\", \"line\": {\"color\": \"rgb(150,150,150)\", \"width\": 0.45}, \"path\": \"M 1.0532579284929848, 0.3172502735486082 L 1.0464159573223164, 0.33913661592523486 L 1.0391192496209887, 0.36087558114551543 L 1.0313709762882242, 0.38245772219982116 L 1.0231745044582004, 0.40387366022893406 L 1.0145333960368088, 0.4251140885997778 L 1.0054514061537736, 0.4461697769497612 L 0.995932481530799, 0.4670315751979782 L 0.985980758766461, 0.48769041752151937 L 0.9756005625385822, 0.5081373262951682 L 0.9647964037248754, 0.5283634159927686 L 0.9535729774426706, 0.5483598970485719 L 0.9419351610085779, 0.5681180796768791 L 0.9298880118189726, 0.5876293776483256 L 0.9174367651522242, 0.6068853120211618 L 0.9045868318936235, 0.6258775148259101 L 0.8913437961839977, 0.6445977327017991 L 0.8777134129930332, 0.6630378304833906 L 0.8637016056183636, 0.6811897947358437 L 0.8493144631115076, 0.6990457372372797 L 0.8345582376317746, 0.7165978984067332 L 0.8194393417292923, 0.7338386506761988 L 0.8039643455583306, 0.750760501805313 L 0.7881399740221379, 0.7673560981372233 L 0.771973103850529, 0.7836182277942371 L 0.7554707606114932, 0.799539823811855 L 0.7386401156581237, 0.8151139672098336 L 0.721488483012193, 0.8303338899989356 L 0.7040233161857296, 0.8451929781220668 L 0.6862522049419763, 0.8596847743285186 L 0.6681828719971405, 0.873802980980068 L 0.649823169664365, 0.8875414627877156 L 0.6311810764413825, 0.9008942494778717 L 0.6122646935433332, 0.913855538386833 L 0.5930822413822542, 0.9264196969824214 L 0.5736420559947708, 0.9385812653116897 L 0.5539525854195395, 0.9503349583736295 L 0.534022386026021, 0.961675668415852 L 0.5138601187961735, 0.9725984671542427 L 0.4934745455606878, 0.9830986079146246 L 0.4728745251913958, 0.9931715276954994 L 0.45206900975150777, 1.0028128491509727 L 0.4310670406053527, 1.0120183824929978 L 0.409877744489311, 1.0207841273121145 L 0.3885103295456468, 1.0291062743158905 L 0.36697408132096615, 1.0369812069843085 L 0.345278358731035, 1.044405503141382 L 0.3138894170282136, 0.9494595483103471 L 0.3336128012008783, 0.942710188167553 L 0.3531912086778607, 0.9355511584689914 L 0.3726161313539191, 0.9279855702837404 L 0.3918791278230479, 0.9200167113572706 L 0.4109718270468252, 0.9116480446827023 L 0.42988593199217795, 0.9028832069959085 L 0.4486132232369889, 0.8937260071951132 L 0.46714556254197587, 0.8841804246856751 L 0.4854748963872918, 0.8742506076507744 L 0.5035932594723086, 0.863940871248754 L 0.5214927781770643, 0.8532556957378997 L 0.5391656739838674, 0.842199724529474 L 0.5566042668575756, 0.8307777621698481 L 0.573800978583075, 0.8189947722526105 L 0.5907483360585136, 0.8068558752615596 L 0.607438974542855, 0.7943663463455163 L 0.623865640856342, 0.781531613025926 L 0.6400211965324814, 0.7683572528382425 L 0.6558986209201755, 0.7548489909081233 L 0.6714910142346578, 0.7410126974634851 L 0.6867916005559028, 0.7268543852835044 L 0.7017937307732081, 0.71238020708567 L 0.7164908854746708, 0.6975964528520211 L 0.7308766777803005, 0.682509547095739 L 0.7449448561175385, 0.6671260460692716 L 0.7586893069379769, 0.6514526349152119 L 0.7721040573740977, 0.6354961247611634 L 0.785183277834876, 0.6192634497598579 L 0.797921284539121, 0.6027616640758096 L 0.8103125419854524, 0.5859979388198173 L 0.8223516653578395, 0.5689795589326455 L 0.8340334228656583, 0.5517139200192379 L 0.8453527380172478, 0.5342085251348414 L 0.8563046918259798, 0.5164709815244355 L 0.8668845249478823, 0.4985089973168835 L 0.8770876397498867, 0.48033037817524415 L 0.8869096023078019, 0.46194302390469827 L 0.8963461443331463, 0.44335492501956303 L 0.905393165027999, 0.42457415927088926 L 0.9140467328670668, 0.4056088881361465 L 0.9223030873061898, 0.38646735327252524 L 0.9301586404165456, 0.3671578729353946 L 0.9376099784438401, 0.34768883836347375 L 0.9446538632918079, 0.3280687101322867 L 0.9512872339293785, 0.30830601447748623 L 0.9575072077208951, 0.28840933958964377 L 1.0532579284929848 ,0.3172502735486082\", \"type\": \"path\"}, {\"fillcolor\": \"#e6c4a9\", \"layer\": \"below\", \"line\": {\"color\": \"rgb(150,150,150)\", \"width\": 0.45}, \"path\": \"M 0.3123024150649366, 1.054735607412876 L 0.2896597499380816, 1.061177284559846 L 0.26688441933186985, 1.0671329376970289 L 0.2439868544510267, 1.0725998391082734 L 0.22097754248413004, 1.077575484927935 L 0.19786702180043045, 1.0820575962876597 L 0.17466587712322892, 1.0860441203601137 L 0.15138473468202737, 1.0895332312991892 L 0.12803425734566623, 1.0925233310762494 L 0.10462513973868263, 1.0950130502120334 L 0.08116810334312291, 1.0970012484038842 L 0.05767389158805672, 1.098487015048011 L 0.03415326492903667, 1.0994696696565518 L 0.010616995919761492, 1.0999487621692385 L -0.012924135721803462, 1.099924073159527 L -0.03645934805058445, 1.099395613935096 L -0.05997786183257985, 1.098363626532667 L -0.08346890548179896, 1.0968285836071519 L -0.10692171999369568, 1.0947911882151729 L -0.13032556387284233, 1.0922523734930614 L -0.15366971805258375, 1.0892133022294759 L -0.17694349080441732, 1.0856753663328405 L -0.20013622263485342, 1.0816401861938436 L -0.22323729116751295, 1.0771096099432924 L -0.2029429919704663, 0.979190554493902 L -0.18194202057713946, 0.9833092601762213 L -0.16085771891310663, 0.9869776057571276 L -0.13969974368416704, 0.9901939111177053 L -0.11847778533894755, 0.9929567031755102 L -0.09720156363063243, 0.995264716559248 L -0.07588082316527177, 0.9971168941883197 L -0.054525328938708956, 0.9985123877569699 L -0.03314486186416768, 0.9994505581228145 L -0.0117492142925486, 0.99993097559957 L 0.009651814472510446, 0.9999534201538531 L 0.031048422662760606, 0.9995178815059561 L 0.052430810534597014, 0.9986245591345554 L 0.07378918485738446, 0.9972738621853492 L 0.09511376339880238, 0.9954664092836667 L 0.11639477940515111, 0.9932030282511357 L 0.13762248607457034, 0.9904847557265355 L 0.1587871610211172, 0.9873128366910124 L 0.17987911072766402, 0.9836887238978724 L 0.20088867498557275, 0.9796140772072137 L 0.22180623131911514, 0.975090762825703 L 0.24262219939260896, 0.9701208524518443 L 0.26332704539825597, 0.9647066223271326 L 0.2839112864226696, 0.9588505521935234 L 0.3123024150649366 ,1.054735607412876\", \"type\": \"path\"}, {\"fillcolor\": \"#e1b396\", \"layer\": \"below\", \"line\": {\"color\": \"rgb(150,150,150)\", \"width\": 0.45}, \"path\": \"M -0.25695996749886973, 1.069566068601178 L -0.2800101480106703, 1.0637642205916886 L -0.3029295864012386, 1.0574656806169997 L -0.32570758114416953, 1.050673389586514 L -0.3483334967558163, 1.043390518951493 L -0.3707967687612021, 1.035620469224248 L -0.39308690862677687, 1.027366868390374 L -0.41519350865771476, 1.0186335702147737 L -0.4371062468574675, 1.0094246524422608 L -0.45881489174730267, 0.9997444148935823 L -0.4803093071435777, 0.98959737745775 L -0.5015794568905193, 0.978988277981617 L -0.5226154095462974, 0.967922070057686 L -0.5434073430202059, 0.9564039207111819 L -0.5639455491587859, 0.9444392079874678 L -0.5842204382787495, 0.9320335184409335 L -0.6042225436445868, 0.9191926445265245 L -0.623942525888767, 0.9059225818951339 L -0.6433711773724683, 0.892229526594118 L -0.5848828885204257, 0.8111177514491982 L -0.5672204780806972, 0.8235659835410307 L -0.5492932214950789, 0.8356296768422949 L -0.5311094893443177, 0.8473031985826668 L -0.5126777719625326, 0.8585810981704253 L -0.4940066754729144, 0.869458109737438 L -0.47510491776936126, 0.8799291545978963 L -0.45598132444592665, 0.8899893436196518 L -0.4366448246759797, 0.8996339795070454 L -0.41710444704300237, 0.9088585589941657 L -0.39736931532497044, 0.9176587749475097 L -0.3774486442342861, 0.926030518377067 L -0.35735173511525165, 0.9339698803548855 L -0.3370879716010928, 0.9414731538402255 L -0.31666681523256024, 0.9485368354104481 L -0.2960978010401541, 0.9551576268968307 L -0.2753905330920351, 0.9613324369245452 L -0.2545546800097003, 0.9670583823560804 L -0.2335999704535179, 0.9723327896374345 L -0.25695996749886973 ,1.069566068601178\", \"type\": \"path\"}, {\"fillcolor\": \"#dba284\", \"layer\": \"below\", \"line\": {\"color\": \"rgb(150,150,150)\", \"width\": 0.45}, \"path\": \"M -0.671079319236247, 0.8715804881325737 L -0.6883835929683682, 0.8579790375830637 L -0.7054122644516337, 0.8440340853077076 L -0.7221585160625501, 0.8297512143277259 L -0.7386156432476525, 0.8151361429539588 L -0.671468766588775, 0.7410328572308715 L -0.6565077418750455, 0.7543192857524781 L -0.6412838767742124, 0.7673037139160978 L -0.62580326633488, 0.7799809432573306 L -0.6100721083965881, 0.7923458983023397 L -0.671079319236247 ,0.8715804881325737\", \"type\": \"path\"}, {\"fillcolor\": \"#d59171\", \"layer\": \"below\", \"line\": {\"color\": \"rgb(150,150,150)\", \"width\": 0.45}, \"path\": \"M -0.7638552260169849, 0.791533444452312 L -0.7924160674964296, 0.7629395624644815 L -0.8199072574678189, 0.7333158181517702 L -0.8462916866472592, 0.7027021994499073 L -0.8715337397240335, 0.6711400304874094 L -0.7923033997491212, 0.6101273004430995 L -0.7693560787702356, 0.6388201813180975 L -0.7453702340616535, 0.6666507437743364 L -0.7203782431785722, 0.6935814204222558 L -0.6944138418336225, 0.7195758585930109 L -0.7638552260169849 ,0.791533444452312\", \"type\": \"path\"}, {\"fillcolor\": \"#d0805f\", \"layer\": \"below\", \"line\": {\"color\": \"rgb(150,150,150)\", \"width\": 0.45}, \"path\": \"M -0.8921847082395791, 0.6434333270692912 L -0.9066515394125049, 0.6228828028457162 L -0.9206451035395873, 0.602007137273789 L -0.9341580960584145, 0.5808172273344846 L -0.9471834632622729, 0.5593241340425842 L -0.9597144059821442, 0.5375390766728873 L -0.9717443831358324, 0.5154734269038129 L -0.983267115142372, 0.4931387028814485 L -0.9942765871999344, 0.47054656320714056 L -1.0047670524255217, 0.447708800851769 L -1.0147330348548074, 0.4246373369998831 L -1.024169332300558, 0.4013442148269104 L -1.033071019068147, 0.37784159321268573 L -0.9391554718801335, 0.3434923574660779 L -0.9310630293641436, 0.36485837711537306 L -0.922484577140734, 0.3860339427271664 L -0.9134245931141106, 0.4070080007743354 L -0.9038878065453948, 0.4277696029155823 L -0.8938791955839744, 0.4483079117104077 L -0.8834039846689385, 0.4686122062761935 L -0.8724676418019492, 0.4886718878844429 L -0.8610758756929753, 0.5084764854932583 L -0.8492346327803767, 0.5280156612131678 L -0.8369500941268975, 0.5472792157034445 L -0.8242286721931862, 0.5662570934961055 L -0.8110770074905264, 0.5849393882448102 L -0.8921847082395791 ,0.6434333270692912\", \"type\": \"path\"}, {\"fillcolor\": \"#ca6f4c\", \"layer\": \"below\", \"line\": {\"color\": \"rgb(150,150,150)\", \"width\": 0.45}, \"path\": \"M -1.0444295521364244, 0.3452056063045736 L -1.049043917104343, 0.33091820739629335 L -1.0534628459433708, 0.31656915866346463 L -1.057685515410236, 0.302161133323569 L -1.0617111388246476, 0.28769681558138616 L -0.9651919443860432, 0.26154255961944195 L -0.9615322867365781, 0.2746919393850627 L -0.9576934963121553, 0.28779014423951327 L -0.9536762882766755, 0.3008347339966303 L -0.949481411033113, 0.3138232784587032 L -1.0444295521364244 ,0.3452056063045736\", \"type\": \"path\"}, {\"fillcolor\": \"#c45e3a\", \"layer\": \"below\", \"line\": {\"color\": \"rgb(150,150,150)\", \"width\": 0.45}, \"path\": \"M -1.0702240238303788, 0.25420570177773943 L -1.077317885507484, 0.22223000149773536 L -1.0834566129225351, 0.19005727535253195 L -1.0886347635696951, 0.1577160472100221 L -1.0928477465764248, 0.12523499032950233 L -0.9934979514331134, 0.11384999120863847 L -0.989667966881541, 0.14337822473638373 L -0.9849605572023046, 0.17277934122957447 L -0.9793798959158946, 0.20202727408885032 L -0.9729309307548898, 0.23109609252521765 L -1.0702240238303788 ,0.25420570177773943\", \"type\": \"path\"}, {\"fillcolor\": \"#bf4d28\", \"layer\": \"below\", \"line\": {\"color\": \"rgb(150,150,150)\", \"width\": 0.45}, \"path\": \"M -1.0962422182934348, 0.09084601714488923 L -1.0987259242371894, 0.05292771872218173 L -1.0998984541121317, 0.014946258452981 L -1.0997584086674768, -0.023053038090007458 L -1.0983059550279204, -0.06102482404897286 L -0.9984599591162912, -0.055477112771793506 L -0.999780371515888, -0.020957307354552233 L -0.9999076855564832, 0.013587507684528181 L -0.9988417493065357, 0.048116107929256115 L -0.9965838348122134, 0.08258728831353565 L -1.0962422182934348 ,0.09084601714488923\", \"type\": \"path\"}, {\"fillcolor\": \"#af4624\", \"layer\": \"below\", \"line\": {\"color\": \"rgb(150,150,150)\", \"width\": 0.45}, \"path\": \"M -1.095847171293169, -0.09549333572956827 L -1.0915379211438618, -0.13617990565768706 L -1.0857185899756698, -0.17667807838337873 L -1.078397228504349, -0.2169318269736815 L -1.0695839654196826, -0.25688546264260975 L -0.9723490594724385, -0.23353223876600887 L -0.9803611168221353, -0.19721075179425587 L -0.9870168999778817, -0.16061643489398064 L -0.9923072010398744, -0.12379991423426095 L -0.9962247011756081, -0.0868121233905166 L -1.095847171293169 ,-0.09549333572956827\", \"type\": \"path\"}, {\"fillcolor\": \"#9f4021\", \"layer\": \"below\", \"line\": {\"color\": \"rgb(150,150,150)\", \"width\": 0.45}, \"path\": \"M -1.060987222921226, -0.2903551494255011 L -1.0475922621846505, -0.33548539791002335 L -1.0322785935357726, -0.3800011912189322 L -1.0150742645826776, -0.4238209968629874 L -0.9960107857548328, -0.4668645570827163 L -0.9054643506862116, -0.42442232462065116 L -0.9227947859842524, -0.3852918153299885 L -0.9384350850325205, -0.3454556283808474 L -0.9523566019860459, -0.30498672537274846 L -0.9645338390192962, -0.2639592267504555 L -1.060987222921226 ,-0.2903551494255011\", \"type\": \"path\"}, {\"fillcolor\": \"#8f391e\", \"layer\": \"below\", \"line\": {\"color\": \"rgb(150,150,150)\", \"width\": 0.45}, \"path\": \"M -0.9808547444323403, -0.49791964243697867 L -0.9701318822422141, -0.5185018139381762 L -0.9589771866446132, -0.5388531854737271 L -0.9473956229131234, -0.5589646980669307 L -0.9353923463325274, -0.5788273995091536 L -0.9229726999040417, -0.59843244834471 L -0.9101422119669927, -0.6177711178064493 L -0.8969065937379969, -0.6368347997002866 L -0.8832717367687327, -0.6556150082369583 L -0.8692437103234454, -0.6741033838092866 L -0.8548287586773416, -0.6922916967132825 L -0.8400332983370866, -0.7101718508114183 L -0.8248639151846315, -0.7277358871364537 L -0.8093273615456505, -0.7449759874341965 L -0.7934305531838883, -0.7618844776436314 L -0.7771805662227546, -0.7784538313128652 L -0.7605846339955412, -0.794676672949363 L -0.743650143825657, -0.8105457813029933 L -0.7263846337383213, -0.8260540925804103 L -0.7087957891051714, -0.8411947035893519 L -0.6908914392232866, -0.8559608748114459 L -0.6280831265666241, -0.7781462498285872 L -0.6443598082774284, -0.7647224578085017 L -0.6603496670348374, -0.7509582659821911 L -0.6760455852960517, -0.7368598011845393 L -0.6914405763595829, -0.7224333390448754 L -0.7065277874752314, -0.7076853011935137 L -0.7213005028944439, -0.6926222524033012 L -0.7357521468596823, -0.6772508976674513 L -0.7498762865314832, -0.6615780792149578 L -0.7636666348518969, -0.6456107734649257 L -0.7771170533430378, -0.6293560879211658 L -0.7902215548394957, -0.6128212580084423 L -0.8029743061533933, -0.5960136438517802 L -0.8153696306709062, -0.5789407270002604 L -0.8274020108790843, -0.5616101070967721 L -0.839066090821856, -0.5440294984951909 L -0.8503566784841158, -0.5262067268265033 L -0.8612687481028394, -0.5081497255153915 L -0.8717974424041938, -0.4898665322488428 L -0.8819380747656491, -0.47136528539834194 L -0.8916861313021275, -0.4526542203972533 L -0.9808547444323403 ,-0.49791964243697867\", \"type\": \"path\"}, {\"fillcolor\": \"#f0f3e7\", \"layer\": \"below\", \"line\": {\"color\": \"rgb(150,150,150)\", \"width\": 0.45}, \"path\": \"M -0.663664145185191, -0.8772399343370147 L -0.6451648814754251, -0.8909333733286687 L -0.6263831672309399, -0.9042367653495055 L -0.6073272250090731, -0.917144286229151 L -0.5880053974230479, -0.9296502851079882 L -0.568426143489604, -0.9417492869110846 L -0.5485980349256819, -0.9534359947451536 L -0.528529752395754, -0.9647052922175162 L -0.5082300817114703, -0.9755522456760337 L -0.48770790998526475, -0.9859721063690418 L -0.4669722217396106, -0.9959603125243356 L -0.4460320949736396, -1.0055124913462918 L -0.4248966971888243, -1.014624460930264 L -0.40357528137549, -1.0232922320934008 L -0.38207718196189044, -1.0315120101210944 L -0.3604118107276312, -1.0392801964282925 L -0.33858865268323735, -1.0465933901349418 L -0.31661726191764755, -1.0534483895548807 L -0.2945072574154806, -1.0598421935975242 L -0.272268318845876, -1.0657720030817288 L -0.2499101823247811, -1.0712352219612624 L -0.2274426361525167, -1.0762294584613423 L -0.20487551652849662, -1.0807525261257462 L -0.1822187032449866, -1.0848024447740314 L -0.1594821153617642, -1.0883774413684515 L -0.13667570686360292, -1.0914759507901832 L -0.11380946230245069, -1.0940966165245314 L -0.10346314754768243, -0.9946332877495738 L -0.12425064260327537, -0.992250864354712 L -0.14498374123796745, -0.9894340376076831 L -0.16565336658635144, -0.9861840407036649 L -0.18625046957136054, -0.9825022964779511 L -0.20676603286592427, -0.9783904167830384 L -0.22719107484071008, -0.9738502017829657 L -0.2475166534962509, -0.9688836391652079 L -0.2677338703777096, -0.9634929032704765 L -0.28783387447058867, -0.9576803541408007 L -0.3078078660756703, -0.9514485364863106 L -0.32764710066148284, -0.9448001785711749 L -0.34734289269262764, -0.9377381910191767 L -0.3668866194322636, -0.9302656655394551 L -0.38626972471711296, -0.9223858735729672 L -0.4054837227033087, -0.9141022648602651 L -0.42452020158146414, -0.9054184659312141 L -0.4433708272593316, -0.8963382785173106 L -0.4620273470104275, -0.8868656778873033 L -0.480481593087049, -0.8770048111068328 L -0.49872548629607444, -0.8667599952228668 L -0.5167510395360035, -0.8561357153737132 L -0.5345503612936798, -0.8451366228254438 L -0.5521156590991573, -0.8337675329355918 L -0.569439242937218, -0.8220334230450049 L -0.5865135286140227, -0.8099394302987897 L -0.6033310410774463, -0.7974908493972861 L -0.663664145185191 ,-0.8772399343370147\", \"type\": \"path\"}, {\"fillcolor\": \"#e2ecde\", \"layer\": \"below\", \"line\": {\"color\": \"rgb(150,150,150)\", \"width\": 0.45}, \"path\": \"M -0.07938689897314871, -1.0971315874914127 L -0.06515322350856137, -1.0980687853984574 L -0.05090859175637126, -1.0988213300101994 L -0.03665539912042592, -1.0993890947773324 L -0.022396042444187074, -1.0997719842234746 L -0.020360038585624612, -0.9997927129304314 L -0.03332309010947811, -0.9994446316157567 L -0.04628053796033751, -0.9989284818274539 L -0.059230203189601247, -0.998244350362234 L -0.07216990815740791, -0.9973923522649205 L -0.07938689897314871 ,-1.0971315874914127\", \"type\": \"path\"}, {\"fillcolor\": \"#d4e5d6\", \"layer\": \"below\", \"line\": {\"color\": \"rgb(150,150,150)\", \"width\": 0.45}, \"path\": \"M 0.012159681488124121, -1.0999327898313185 L 0.03540416040905106, -1.0994301002909326 L 0.05863282278473744, -1.0984362485334749 L 0.08183529138309915, -1.0969516785548228 L 0.10500120067392425, -1.094977053575569 L 0.12812020145960237, -1.0925132557447306 L 0.15118196549854881, -1.0895613857456568 L 0.17417619011926666, -1.0861227623043066 L 0.19709260282299454, -1.0821989216001178 L 0.219920965872865, -1.0777916165797294 L 0.24265108086753834, -1.0729028161738674 L 0.2652727932972635, -1.0675347044177381 L 0.28777599708032586, -1.0616896794753279 L 0.3101506390778698, -1.05537035256804 L 0.3323867235850609, -1.0485795468081516 L 0.3544743167965896, -1.0413202959376098 L 0.3764035512445308, -1.033595842972729 L 0.39816463020655796, -1.0254096387553977 L 0.4197478320825564, -1.0167653404114414 L 0.4411435147376773, -1.0076668097168273 L 0.4623421198098859, -0.9981181113724474 L 0.4833341769800936, -0.9881235111882399 L 0.5041103082029506, -0.9776874741774728 L 0.5246612318964146, -0.9668146625620325 L 0.5449777670882341, -0.9555099336896098 L 0.5650508375174761, -0.9437783378637162 L 0.5848714756892784, -0.931625116087499 L 0.6044308268810128, -0.9190556977223607 L 0.6237201530980626, -0.9060756980624353 L 0.6427308369774621, -0.8926909158259936 L 0.6614543856376368, -0.8789073305649104 L 0.6798824344725322, -0.8647310999933466 L 0.6980067508884449, -0.8501685572368322 L 0.634551591716768, -0.7728805065789383 L 0.6180749404295747, -0.7861191818121332 L 0.6013221687614879, -0.7990066641499185 L 0.5843007608886019, -0.8115371962054486 L 0.5670183209982387, -0.8237051800567593 L 0.5494825698918298, -0.8355051797476006 L 0.5317013415357076, -0.8469319237159081 L 0.5136825795613419, -0.8579803071488329 L 0.4954343337165764, -0.8686453942632816 L 0.47696475626946777, -0.8789224205109386 L 0.45828209836631867, -0.8888067947067934 L 0.4393947063455396, -0.898294101080218 L 0.4203110180089871, -0.9073801012476794 L 0.4010395588524339, -0.9160607361062066 L 0.3815889382568694, -0.9243321276467648 L 0.36196784564232537, -0.9321905806867251 L 0.34218504658593707, -0.9396325845206626 L 0.3222493789059905, -0.9466548144887361 L 0.3021697487136917, -0.9532541334619559 L 0.2819551264344271, -0.9594275932436727 L 0.2616145428002962, -0.9651724358866617 L 0.2411570848156941, -0.9704860949252164 L 0.2205918916977621, -0.9753661965216975 L 0.19992815079351361, -0.9798105605270266 L 0.17917509347544958, -0.9838172014546523 L 0.15834199101751514, -0.9873843293675514 L 0.1374381504532262, -0.9905103506778696 L 0.11647291041782033, -0.9931938688588459 L 0.09545563697629476, -0.995433685068699 L 0.07439571943918104, -0.9972287986862025 L 0.05330256616794313, -0.9985784077577043 L 0.032185600371864596, -0.9994819093553933 L 0.011054255898294655, -0.9999388998466532 L 0.012159681488124121 ,-1.0999327898313185\", \"type\": \"path\"}, {\"fillcolor\": \"#c6decd\", \"layer\": \"below\", \"line\": {\"color\": \"rgb(150,150,150)\", \"width\": 0.45}, \"path\": \"M 0.7243667664197354, -0.8278241284878187 L 0.7417045571168132, -0.8123265045239828 L 0.758710863904649, -0.7964658341655725 L 0.77537808629461, -0.7802492058913667 L 0.7916987753422587, -0.7636838672654858 L 0.8076656369764522, -0.7467772216982933 L 0.8232715352592188, -0.7295368251376547 L 0.8385094955749651, -0.7119703826920175 L 0.8533727077475831, -0.6940857451868309 L 0.8678545290840647, -0.6758909056558438 L 0.8819484873432686, -0.6573939957688393 L 0.8956482836285038, -0.638603282197418 L 0.9089477952026447, -0.6195271629204415 L 0.9218410782245147, -0.6001741634707917 L 0.9343223704053171, -0.5805529331251282 L 0.9463860935839308, -0.560672241038334 L 0.9580268562199087, -0.5405409723243915 L 0.9692394558030767, -0.5201681240854306 L 0.9800188811786459, -0.49956280139073156 L 0.9903603147868097, -0.47873421320746573 L 0.9003275588970997, -0.4352129210976961 L 0.8909262556169507, -0.4541480012643014 L 0.8811267780027969, -0.47288011280493686 L 0.8709335056544624, -0.4914008839312649 L 0.8603509941672097, -0.5097020373075763 L 0.8493839730957428, -0.5277753937501165 L 0.8380373438404678, -0.5456128758825378 L 0.8263161774569496, -0.5632065117458559 L 0.8142257123895489, -0.5805484383612891 L 0.8017713521302441, -0.5976309052443993 L 0.7889586628036951, -0.6144462778689488 L 0.775793370679621, -0.6309870410789371 L 0.7622813596136045, -0.6472458024472886 L 0.7484286684174716, -0.6632152955796861 L 0.734241488160411, -0.6788883833620848 L 0.7197261594020533, -0.6942580611504415 L 0.7048891693587364, -0.7093174599012424 L 0.6897371490042263, -0.7240598492414295 L 0.6742768701061937, -0.7384786404763479 L 0.6585152421997594, -0.7525673895343806 L 0.7243667664197354 ,-0.8278241284878187\", \"type\": \"path\"}, {\"fillcolor\": \"#b8d7c5\", \"layer\": \"below\", \"line\": {\"color\": \"rgb(150,150,150)\", \"width\": 0.45}, \"path\": \"M 1.0049090367888043, -0.44739001752408125 L 1.0195435058917155, -0.4129540405348152 L 1.0329983343438793, -0.37804026404970587 L 1.0452579545285148, -0.34268908429488304 L 1.0563081817185862, -0.3069414035844211 L 0.9602801651987146, -0.279037639622201 L 0.9502345041168315, -0.31153553117716637 L 0.939089394858072, -0.3436729673179144 L 0.9268577326288322, -0.37541276412255925 L 0.9135536698080039, -0.40671819774916473 L 1.0049090367888043 ,-0.44739001752408125\", \"type\": \"path\"}, {\"fillcolor\": \"#aad0bc\", \"layer\": \"below\", \"line\": {\"color\": \"rgb(150,150,150)\", \"width\": 0.45}, \"path\": \"M 1.065428219874817, -0.2736105047222765 L 1.072494495934821, -0.2444494961940282 L 1.078762785854792, -0.21510660579073035 L 1.0842284257334256, -0.18560366599724798 L 1.0888873488786448, -0.15596262838268907 L 0.989897589889677, -0.1417842076206264 L 0.9856622052122049, -0.1687306054520436 L 0.9806934416861743, -0.19555145980975486 L 0.9749949963043827, -0.2222268147218438 L 0.9685711089771063, -0.24873682247479678 L 1.065428219874817 ,-0.2736105047222765\", \"type\": \"path\"}, {\"fillcolor\": \"#9cc9b4\", \"layer\": \"below\", \"line\": {\"color\": \"rgb(150,150,150)\", \"width\": 0.45}, \"path\": \"M 1.0932489532487748, -0.12168289206153163 L 1.0954496180703728, -0.09995065917478671 L 1.09721832006363, -0.07817901327559612 L 1.0985543617856854, -0.056376539461423944 L 1.0994572164023046, -0.03455183498594511 L 0.9995065603657315, -0.031410759078131914 L 0.9986857834415321, -0.0512513995103854 L 0.9974712000578454, -0.07107183025054192 L 0.9958632891548843, -0.09086423561344245 L 0.9938626847716134, -0.11062081096502874 L 1.0932489532487748 ,-0.12168289206153163\", \"type\": \"path\"}], \"showlegend\": false, \"title\": \"Data Jobs \\u2012 Technologies in Demand\", \"titlefont\": {\"color\": \"#655643\", \"family\": \"Merryweather\", \"size\": 18}, \"xaxis\": {\"showgrid\": false, \"showline\": false, \"showticklabels\": false, \"title\": \"\", \"zeroline\": false}, \"yaxis\": {\"showgrid\": false, \"showline\": false, \"showticklabels\": false, \"title\": \"\", \"zeroline\": false}}, {\"showLink\": true, \"linkText\": \"Export to plot.ly\", \"plotlyServerURL\": \"https://plot.ly\"})});</script><script type=\"text/javascript\">window.addEventListener(\"resize\", function(){window._Plotly.Plots.resize(document.getElementById(\"da2dd4eb-e0ee-49b2-9da4-50720c84fecf\"));});</script>"
      ]
     },
     "metadata": {},
     "output_type": "display_data"
    }
   ],
   "source": [
    "fig = go.Figure(data=data, layout=layout)\n",
    "\n",
    "plotly.offline.iplot(fig, filename='data_offers_tech_requirements_chord.html')"
   ]
  },
  {
   "cell_type": "code",
   "execution_count": 32,
   "metadata": {},
   "outputs": [
    {
     "data": {
      "text/plain": [
       "'file:///data/WORKSPACE/jpynb_Employment_Trends_Bulgaria/workbooks/data_offers_tech_requirements_chord.html'"
      ]
     },
     "execution_count": 32,
     "metadata": {},
     "output_type": "execute_result"
    }
   ],
   "source": [
    "# Uncomment the line below to export an HTML version of the chart.\n",
    "# plotly.offline.plot(fig, filename='data_offers_tech_requirements_chord.html', show_link=False)"
   ]
  },
  {
   "cell_type": "markdown",
   "metadata": {},
   "source": [
    "### Resources:\n",
    "\n",
    "- https://plot.ly/python/filled-chord-diagram/\n",
    "- https://hci.stanford.edu/courses/cs448b/f11/lectures/CS448B-20111117-Text.pdf"
   ]
  },
  {
   "cell_type": "code",
   "execution_count": 33,
   "metadata": {},
   "outputs": [
    {
     "data": {
      "text/html": [
       "<style>\n",
       "@import url('https://fonts.googleapis.com/css?family=Fira+Mono|Fira+Sans|Fira+Sans+Condensed|Fira+Sans+Extra+Condensed');\n",
       "@import url('https://fonts.googleapis.com/css?family=Merriweather|Merriweather+Sans');\n",
       "\n",
       ".nbviewer {\n",
       "    background-color: #E5E1D8;\n",
       "}\n",
       "\n",
       "#notebook {\n",
       "    background-color: #E5E1D8;\n",
       "}\n",
       "\n",
       "#notebook-container {\n",
       "    background-color: #FFFAF0;\n",
       "    max-width: 1200px;\n",
       "    border-radius: 4px;\n",
       "    padding: 60px 40px 40px 40px;\n",
       "    -webkit-box-shadow: 0px 0px 12px 1px rgba(101,86,67,0.75);\n",
       "    -moz-box-shadow: 0px 0px 12px 1px rgba(101,86,67,0.75);\n",
       "    box-shadow: 0px 0px 12px 1px rgba(101,86,67,0.75);\n",
       "}\n",
       "\n",
       "/* Jupyter Notebook Header Styling */\n",
       "body > #header {\n",
       "    background-color:#fafafa;\n",
       "}\n",
       "\n",
       "#header #menubar #menus {\n",
       "    background-color:#fefefe;\n",
       "}\n",
       "\n",
       "/* Headings */\n",
       ".text_cell_render h1 {\n",
       "    color: #655643;\n",
       "    font-family: 'Merriweather', serif;\n",
       "    font-weight: 900;\n",
       "    font-size: 3.4em;\n",
       "    text-indent: 22px;\n",
       "    text-shadow: 0 2px #FFFAF0, 0 3px #8c8b8b;\n",
       "    padding: 40px 0 12px 0;\n",
       "}\n",
       "\n",
       ".text_cell_render h2 {\n",
       "    color: #655643;\n",
       "    font-family: 'Merriweather', serif;\n",
       "    font-weight: 600;\n",
       "    font-size: 2.4em;\n",
       "    text-indent: 22px;\n",
       "    padding: 40px 0 5px 0;\n",
       "    margin-bottom: 24px;\n",
       "    border-bottom: 1px solid #655643;\n",
       "}\n",
       "\n",
       ".text_cell_render h3 {\n",
       "    color: #655643;\n",
       "    font-family: 'Merriweather', serif;\n",
       "    font-weight: 100;\n",
       "    font-size: 1.8em;\n",
       "    padding: 6px 0 0 0;\n",
       "}\n",
       "\n",
       ".text_cell_render h4 {\n",
       "    color: #655643;\n",
       "    font-family: 'Merriweather', serif;\n",
       "    font-weight: 100;\n",
       "    font-size: 1.3em;\n",
       "}\n",
       "\n",
       "/* Use for subtitles and other non-headings */\n",
       "div.rendered_html > h5 {\n",
       "    color: #655643;\n",
       "    font-family: 'Merriweather', serif;\n",
       "    font-weight: 200;\n",
       "    font-style: normal important!;\n",
       "    text-indent: 22px;\n",
       "    margin-top: 0.5em;\n",
       "    padding: 6px 0 6px 0;\n",
       "    border-bottom: 1px solid #655643;\n",
       "    border-top: 1px solid #655643;\n",
       "}\n",
       "\n",
       "/* Use for image and chart captions */\n",
       "div.rendered_html > h6 {\n",
       "    font-family: 'Merriweather Sans', sans-serif;\n",
       "    font-size: 0.9em;\n",
       "    line-height: 1.5em;\n",
       "    color: #cac8c9;\n",
       "    font-weight: normal;\n",
       "    max-width: 525px;\n",
       "    display: block;\n",
       "    margin-left: auto;\n",
       "    margin-right: auto;\n",
       "}\n",
       "\n",
       "div#notebook-container p {\n",
       "    font-family: 'Fira Sans Condensed', sans-serif;\n",
       "    font-size: 1.2em;\n",
       "    line-height: 1.3em;\n",
       "    color: #655643;\n",
       "}\n",
       "\n",
       "/* Plotly Exported Charts Styling */\n",
       ".js-plotly-plot .plotly,\n",
       ".js-plotly-plot .plotly div {\n",
       "    direction: ltr;\n",
       "    font-family: \"Fira Sans Extra Condensed\", verdana, arial, sans-serif;\n",
       "}\n",
       "\n",
       "\n",
       "/* Lists */\n",
       "ol, ul {\n",
       "    font-family: 'Fira Sans Condensed', sans-serif;\n",
       "    line-height: 1.3em;\n",
       "    color: #655643;\n",
       "}\n",
       "\n",
       "div.input_prompt {\n",
       "    color: #aad0bc;\n",
       "    font-size: 0.7em;\n",
       "}\n",
       "\n",
       "div.output_prompt {\n",
       "    color: #aad0bc;\n",
       "    font-size: 0.7em;\n",
       "}\n",
       "\n",
       "div.output_subarea {\n",
       "    padding: 0;\n",
       "}\n",
       "\n",
       "div.text_cell code {\n",
       "    padding: 2px;\n",
       "    background-color: #E5E1D8;\n",
       "    color: #40362F;\n",
       "    font-family: 'Fira Mono', monospace;\n",
       "    font-size: 0.9em;\n",
       "}\n",
       "\n",
       "div.input_area {\n",
       "    background-color: #FFFAF0;\n",
       "    border: 1px solid #E5E1D8;\n",
       "    background: repeating-linear-gradient(135deg, #FFFAF0, #FFFAF0 5px, #F7F7ED 5px, #F7F7ED 10px);\n",
       "}\n",
       "\n",
       "div.cell.rendered.selected {\n",
       "    background: #F7F7ED;\n",
       "    border: 1px solid #38614F;\n",
       "}\n",
       "\n",
       "div.output_area img {\n",
       "    display: block;\n",
       "    margin-left: auto;\n",
       "    margin-right: auto;\n",
       "}\n",
       "\n",
       "div.rendered_html pre, code {\n",
       "    font-family: 'Fira Sans Condensed', sans-serif;\n",
       "    font-size: 16px;\n",
       "    font-weight: 400;\n",
       "    color: #40362F;\n",
       "    background-color: #E5E1D8;\n",
       "}\n",
       "\n",
       "div.output_text pre {\n",
       "    font-family: 'Fira Sans Condensed', sans-serif;\n",
       "    font-size: 13px;\n",
       "    font-weight: 300;\n",
       "    color: #40362F;\n",
       "}\n",
       "\n",
       "pre, textarea {\n",
       "    overflow: hidden;\n",
       "}\n",
       "\n",
       "div.text_cell_render img {\n",
       "    max-height: 550px;\n",
       "    display: block;\n",
       "    margin-left: auto;\n",
       "    margin-right: auto;\n",
       "}\n",
       "\n",
       "div.output output_scroll {\n",
       "    overflow-x: auto;\n",
       "    overflow-y: scroll;\n",
       "    max-height: 2000px;\n",
       "}\n",
       "\n",
       "div.rendered_html hr {\n",
       "    border: 0;\n",
       "    height: 1px;\n",
       "    background-color: #655643;\n",
       "}\n",
       "\n",
       "div.rendered_html pre, code {\n",
       "    color: #40362F;\n",
       "    background-color: #FFFAF0;\n",
       "}\n",
       "\n",
       "/* Links */\n",
       "a.link--embedview {\n",
       "    display: none;\n",
       "}\n",
       "\n",
       "a:link {\n",
       "    color: #293C34;\n",
       "}\n",
       "\n",
       "a:visited {\n",
       "    color: #293C34;\n",
       "}\n",
       "\n",
       "a:hover {\n",
       "    color: #557C6C;\n",
       "}\n",
       "\n",
       "a:focus {\n",
       "    color:#557C6C;\n",
       "}\n",
       "\n",
       "a:active {\n",
       "    font-weight: bold;\n",
       "    color:#80BCA3;\n",
       "}\n",
       "\n",
       ".rendered_html :link {\n",
       "    text-decoration: underline;\n",
       "}\n",
       "\n",
       "/* Colors for code highlighting */\n",
       ".CodeMirror pre {\n",
       "    font-family: 'Fira Mono', monospace;\n",
       "    font-size: 0.9em;\n",
       "    font-weight: 600;\n",
       "    letter-spacing: -2px;\n",
       "}\n",
       "\n",
       ".CodeMirror-code span.cm-keyword {\n",
       "    color: #5F362E;\n",
       "}\n",
       "\n",
       ".CodeMirror-code span.cm-variable {\n",
       "    color: #72614B;\n",
       "}\n",
       "\n",
       ".CodeMirror-code span.cm-property {\n",
       "    color: #72614B;\n",
       "}\n",
       "\n",
       ".CodeMirror-code span.cm-def {\n",
       "    color: #B64F4E;\n",
       "}\n",
       "\n",
       ".CodeMirror-code span.cm-operator {\n",
       "    color: #72614B;\n",
       "}\n",
       "\n",
       ".CodeMirror-code span.cm-string {\n",
       "    color: #0B7761;\n",
       "}\n",
       "\n",
       ".CodeMirror-code span.cm-number {\n",
       "    color: #2764E6;\n",
       "}\n",
       "\n",
       ".CodeMirror-code span.cm-comment {\n",
       "    color: #75AC95;\n",
       "}\n",
       "\n",
       ".CodeMirror-code span.cm-builtin {\n",
       "    color: #5F362E;\n",
       "}\n",
       "\n",
       "/* Code with no class applied (brackets mostly) */\n",
       ".CodeMirror-line > span {\n",
       "    color: #72614B;\n",
       "}\n",
       "\n",
       "/* Table styles */\n",
       "table {\n",
       "    border: 1px solid #BF4D28;\n",
       "}\n",
       "\n",
       ".rendered_html table {\n",
       "    float: middle;\n",
       "    border-collapse: collapse;\n",
       "}\n",
       "\n",
       ".rendered_html table th {\n",
       "    color: #40362F;\n",
       "    text-align: left;\n",
       "    background-color: #f2e6ce;\n",
       "}\n",
       "\n",
       ".rendered_html td {\n",
       "    color: #40362F;\n",
       "    text-align: left;\n",
       "}\n",
       "\n",
       ".rendered_html table tr:nth-child(odd) {\n",
       "    background-color: #F7F7ED;\n",
       "}\n",
       "\n",
       ".rendered_html table tr:nth-child(even) {\n",
       "    background-color: #FFFAF0;\n",
       "}\n",
       "\n",
       ".rendered_html table tr:hover {\n",
       "    background-color: #BF4D28;\n",
       "}\n",
       "\n",
       "iframe {\n",
       "    border-width: 0;\n",
       "}\n",
       "</style>\n"
      ],
      "text/plain": [
       "<IPython.core.display.HTML object>"
      ]
     },
     "execution_count": 33,
     "metadata": {},
     "output_type": "execute_result"
    }
   ],
   "source": [
    "from IPython.core.display import HTML\n",
    "with open('../resources/styles/datum.css', 'r') as f:\n",
    "    style = f.read()\n",
    "HTML(style)"
   ]
  }
 ],
 "metadata": {
  "kernelspec": {
   "display_name": "Python 3",
   "language": "python",
   "name": "python3"
  },
  "language_info": {
   "codemirror_mode": {
    "name": "ipython",
    "version": 3
   },
   "file_extension": ".py",
   "mimetype": "text/x-python",
   "name": "python",
   "nbconvert_exporter": "python",
   "pygments_lexer": "ipython3",
   "version": "3.7.3"
  }
 },
 "nbformat": 4,
 "nbformat_minor": 2
}
