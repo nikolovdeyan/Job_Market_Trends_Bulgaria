{
 "cells": [
  {
   "cell_type": "markdown",
   "metadata": {},
   "source": [
    "## Requirements Relationships Chord Diagram\n"
   ]
  },
  {
   "cell_type": "code",
   "execution_count": 1,
   "metadata": {},
   "outputs": [
    {
     "data": {
      "text/html": [
       "        <script type=\"text/javascript\">\n",
       "        window.PlotlyConfig = {MathJaxConfig: 'local'};\n",
       "        if (window.MathJax) {MathJax.Hub.Config({SVG: {font: \"STIX-Web\"}});}\n",
       "        if (typeof require !== 'undefined') {\n",
       "        require.undef(\"plotly\");\n",
       "        requirejs.config({\n",
       "            paths: {\n",
       "                'plotly': ['https://cdn.plot.ly/plotly-latest.min']\n",
       "            }\n",
       "        });\n",
       "        require(['plotly'], function(Plotly) {\n",
       "            window._Plotly = Plotly;\n",
       "        });\n",
       "        }\n",
       "        </script>\n",
       "        "
      ]
     },
     "metadata": {},
     "output_type": "display_data"
    }
   ],
   "source": [
    "import re\n",
    "from itertools import combinations\n",
    "import psycopg2\n",
    "import numpy as np\n",
    "import pandas as pd\n",
    "import plotly\n",
    "import chart_studio.plotly as py\n",
    "import plotly.graph_objs as go\n",
    "from IPython import display\n",
    "from bs4 import BeautifulSoup as bs\n",
    "\n",
    "from nbstyler import DATA_STYLE as DS\n",
    "\n",
    "plotly.offline.init_notebook_mode(connected=True)\n",
    "\n",
    "%matplotlib notebook\n",
    "%matplotlib inline"
   ]
  },
  {
   "cell_type": "markdown",
   "metadata": {},
   "source": [
    "### Objectives\n",
    "\n",
    "The main objective for this recipe is to try the plotly implementation of the chord diagram and to provide a clean recipe for preparing such charts in the future. \n",
    "\n",
    "\n",
    "### Data Preparation"
   ]
  },
  {
   "cell_type": "code",
   "execution_count": 2,
   "metadata": {},
   "outputs": [],
   "source": [
    "data_querystr = \"\"\"SELECT * FROM data_offers.do_full_offer_history\"\"\"\n",
    "conn = psycopg2.connect('dbname=jobsbg')\n",
    "data_df = pd.read_sql_query(data_querystr, conn, index_col='subm_date')\n",
    "conn.close()"
   ]
  },
  {
   "cell_type": "code",
   "execution_count": 3,
   "metadata": {},
   "outputs": [
    {
     "data": {
      "text/html": [
       "<div>\n",
       "<style scoped>\n",
       "    .dataframe tbody tr th:only-of-type {\n",
       "        vertical-align: middle;\n",
       "    }\n",
       "\n",
       "    .dataframe tbody tr th {\n",
       "        vertical-align: top;\n",
       "    }\n",
       "\n",
       "    .dataframe thead th {\n",
       "        text-align: right;\n",
       "    }\n",
       "</style>\n",
       "<table border=\"1\" class=\"dataframe\">\n",
       "  <thead>\n",
       "    <tr style=\"text-align: right;\">\n",
       "      <th></th>\n",
       "      <th>subm_type</th>\n",
       "      <th>job_id</th>\n",
       "      <th>company_id</th>\n",
       "      <th>norm_salary</th>\n",
       "      <th>job_title</th>\n",
       "      <th>company_name</th>\n",
       "      <th>text_salary</th>\n",
       "      <th>job_location</th>\n",
       "      <th>job_contents</th>\n",
       "    </tr>\n",
       "    <tr>\n",
       "      <th>subm_date</th>\n",
       "      <th></th>\n",
       "      <th></th>\n",
       "      <th></th>\n",
       "      <th></th>\n",
       "      <th></th>\n",
       "      <th></th>\n",
       "      <th></th>\n",
       "      <th></th>\n",
       "      <th></th>\n",
       "    </tr>\n",
       "  </thead>\n",
       "  <tbody>\n",
       "    <tr>\n",
       "      <th>2017-09-27</th>\n",
       "      <td>submission</td>\n",
       "      <td>3994555</td>\n",
       "      <td>67058</td>\n",
       "      <td>NaN</td>\n",
       "      <td>ETL Developer</td>\n",
       "      <td>Adastra Bulgaria Ltd.</td>\n",
       "      <td>None</td>\n",
       "      <td>София</td>\n",
       "      <td>&lt;!DOCTYPE html PUBLIC \"-//W3C//DTD XHTML 1.0 ...</td>\n",
       "    </tr>\n",
       "  </tbody>\n",
       "</table>\n",
       "</div>"
      ],
      "text/plain": [
       "             subm_type   job_id  company_id  norm_salary      job_title  \\\n",
       "subm_date                                                                 \n",
       "2017-09-27  submission  3994555       67058          NaN  ETL Developer   \n",
       "\n",
       "                     company_name text_salary job_location  \\\n",
       "subm_date                                                    \n",
       "2017-09-27  Adastra Bulgaria Ltd.        None        София   \n",
       "\n",
       "                                                 job_contents  \n",
       "subm_date                                                      \n",
       "2017-09-27   <!DOCTYPE html PUBLIC \"-//W3C//DTD XHTML 1.0 ...  "
      ]
     },
     "execution_count": 3,
     "metadata": {},
     "output_type": "execute_result"
    }
   ],
   "source": [
    "data_df.head(1)"
   ]
  },
  {
   "cell_type": "markdown",
   "metadata": {},
   "source": [
    "### Relationship Categories Definition"
   ]
  },
  {
   "cell_type": "markdown",
   "metadata": {},
   "source": [
    "In order to build the necessary data we first need to define the scope of the relationships we aim to observe. The search strings we will compare should be of the same semantic category to provide meaningful insight.\n",
    "\n",
    "To explore the data and prepare proper definitions we took a deep dive in the data offers' text contents. We used the `nltk` library for text processing to produce frequency distributions of most common words, bigrams and trigrams. Then those distributions were used to explore different possible relationship categories. See the details in the [Requirements Deep Dive Notebook](./Data_Offers_Requirements_Deep_Dive.ipynb).\n",
    "\n",
    "For the first chord diagram the chosen view is a breakdown by technology. Other possible relationships to explore are skill requirements breakdown, perks & benefits breakdown, job title breakdown, etc."
   ]
  },
  {
   "cell_type": "markdown",
   "metadata": {},
   "source": [
    "### Data Jobs Technology Requirement Relationships"
   ]
  },
  {
   "cell_type": "markdown",
   "metadata": {},
   "source": [
    "A preliminary list of terms that describe most often sought categories is presented below. We are going to use it to construct regex filters for selected key technologies."
   ]
  },
  {
   "cell_type": "code",
   "execution_count": 4,
   "metadata": {},
   "outputs": [],
   "source": [
    "tech_terms_filters = [\n",
    "    r'power bi', r'excel', r'ss[ir]s',\n",
    "    r'sql server', r'postgresql', r'(mysql)|(mariadb)', r't.?sql', r'pl.?sql',\n",
    "    r'pentaho', r'hadoop', r'spark', r'informatica',\n",
    "    r'qlik', r'tableau', r'microstrategy', r'oracle (bi)|(business intelligence)',\n",
    "    r'python', r'vba', r'linux', r'aws']\n",
    "\n",
    "tech_terms_labels = [\n",
    "    'Power BI', 'Excel', 'SSIS/SSRS',\n",
    "    'MS SQL Server', 'PostgreSQL', 'MySQL/MariaDB', 'T-SQL', 'PL/SQL',\n",
    "    'Pentaho', 'Hadoop', 'Spark', 'Informatica',\n",
    "    'Qlik', 'Tableau', 'Microstrategy', 'Oracle BI',\n",
    "    'Python', 'VBA', 'Linux', 'AWS']"
   ]
  },
  {
   "cell_type": "markdown",
   "metadata": {},
   "source": [
    "#### Preparing a square matrix with counts for matching filters"
   ]
  },
  {
   "cell_type": "markdown",
   "metadata": {},
   "source": [
    "First we define a helper function that returns `True` for job offers where both of the provided patterns are found in the job contents. We also prepare a list of all possible filter patterns' combinations."
   ]
  },
  {
   "cell_type": "code",
   "execution_count": 5,
   "metadata": {},
   "outputs": [],
   "source": [
    "def match_terms(first_term, second_term, text):\n",
    "    match_found = re.search(first_term, text, re.IGNORECASE) and re.search(second_term, text, re.IGNORECASE)\n",
    "    return True if match_found else False\n",
    "\n",
    "    \n",
    "def count_matches(first_term, second_term, col):\n",
    "    return sum([match_terms(first_term, second_term, t) for t in col.values])\n",
    "\n",
    "req_combinations = list(combinations(tech_terms_filters, 2))"
   ]
  },
  {
   "cell_type": "markdown",
   "metadata": {},
   "source": [
    "Building the counts in a dictionary with keys composed of tuples with both search terms. "
   ]
  },
  {
   "cell_type": "code",
   "execution_count": 6,
   "metadata": {},
   "outputs": [
    {
     "name": "stdout",
     "output_type": "stream",
     "text": [
      "CPU times: user 3min 56s, sys: 671 µs, total: 3min 56s\n",
      "Wall time: 3min 56s\n"
     ]
    }
   ],
   "source": [
    "%%time\n",
    "match_results = [count_matches(*tup, data_df.job_contents) for tup in req_combinations]\n",
    "match_dict = dict(zip(req_combinations, match_results))"
   ]
  },
  {
   "cell_type": "markdown",
   "metadata": {},
   "source": [
    "Another helper function will unpack the combinations counts into a square matrix form. Finally, a DataFrame is created from the combinations counts matrix. This is our main data source for the chord diagram. "
   ]
  },
  {
   "cell_type": "code",
   "execution_count": 7,
   "metadata": {},
   "outputs": [],
   "source": [
    "def make_matrix(headers, counts):\n",
    "    res = []\n",
    "    for k1 in headers:\n",
    "        row = []\n",
    "        for k2 in headers:\n",
    "            if k1 == k2:\n",
    "                row.append(0)\n",
    "            else:\n",
    "                curr_key = tuple([k1, k2])\n",
    "                cell_value = counts.get(curr_key) if curr_key in counts else counts.get(tuple([k2, k1]))\n",
    "                row.append(cell_value)\n",
    "        res.append(row)\n",
    "    return np.array(res, dtype=int)  "
   ]
  },
  {
   "cell_type": "code",
   "execution_count": 8,
   "metadata": {},
   "outputs": [],
   "source": [
    "tech_terms_matrix = make_matrix(tech_terms_filters, match_dict)"
   ]
  },
  {
   "cell_type": "code",
   "execution_count": 9,
   "metadata": {},
   "outputs": [
    {
     "data": {
      "text/html": [
       "<div>\n",
       "<style scoped>\n",
       "    .dataframe tbody tr th:only-of-type {\n",
       "        vertical-align: middle;\n",
       "    }\n",
       "\n",
       "    .dataframe tbody tr th {\n",
       "        vertical-align: top;\n",
       "    }\n",
       "\n",
       "    .dataframe thead th {\n",
       "        text-align: right;\n",
       "    }\n",
       "</style>\n",
       "<table border=\"1\" class=\"dataframe\">\n",
       "  <thead>\n",
       "    <tr style=\"text-align: right;\">\n",
       "      <th></th>\n",
       "      <th>Power BI</th>\n",
       "      <th>Excel</th>\n",
       "      <th>SSIS/SSRS</th>\n",
       "      <th>MS SQL Server</th>\n",
       "      <th>PostgreSQL</th>\n",
       "      <th>MySQL/MariaDB</th>\n",
       "      <th>T-SQL</th>\n",
       "      <th>PL/SQL</th>\n",
       "      <th>Pentaho</th>\n",
       "      <th>Hadoop</th>\n",
       "      <th>Spark</th>\n",
       "      <th>Informatica</th>\n",
       "      <th>Qlik</th>\n",
       "      <th>Tableau</th>\n",
       "      <th>Microstrategy</th>\n",
       "      <th>Oracle BI</th>\n",
       "      <th>Python</th>\n",
       "      <th>VBA</th>\n",
       "      <th>Linux</th>\n",
       "      <th>AWS</th>\n",
       "    </tr>\n",
       "  </thead>\n",
       "  <tbody>\n",
       "    <tr>\n",
       "      <th>Power BI</th>\n",
       "      <td>0</td>\n",
       "      <td>274</td>\n",
       "      <td>171</td>\n",
       "      <td>168</td>\n",
       "      <td>0</td>\n",
       "      <td>5</td>\n",
       "      <td>77</td>\n",
       "      <td>11</td>\n",
       "      <td>12</td>\n",
       "      <td>51</td>\n",
       "      <td>58</td>\n",
       "      <td>26</td>\n",
       "      <td>225</td>\n",
       "      <td>254</td>\n",
       "      <td>37</td>\n",
       "      <td>234</td>\n",
       "      <td>117</td>\n",
       "      <td>44</td>\n",
       "      <td>13</td>\n",
       "      <td>8</td>\n",
       "    </tr>\n",
       "    <tr>\n",
       "      <th>Excel</th>\n",
       "      <td>274</td>\n",
       "      <td>0</td>\n",
       "      <td>699</td>\n",
       "      <td>289</td>\n",
       "      <td>79</td>\n",
       "      <td>149</td>\n",
       "      <td>196</td>\n",
       "      <td>69</td>\n",
       "      <td>68</td>\n",
       "      <td>116</td>\n",
       "      <td>121</td>\n",
       "      <td>124</td>\n",
       "      <td>484</td>\n",
       "      <td>525</td>\n",
       "      <td>53</td>\n",
       "      <td>744</td>\n",
       "      <td>470</td>\n",
       "      <td>313</td>\n",
       "      <td>101</td>\n",
       "      <td>70</td>\n",
       "    </tr>\n",
       "    <tr>\n",
       "      <th>SSIS/SSRS</th>\n",
       "      <td>171</td>\n",
       "      <td>699</td>\n",
       "      <td>0</td>\n",
       "      <td>313</td>\n",
       "      <td>66</td>\n",
       "      <td>91</td>\n",
       "      <td>173</td>\n",
       "      <td>71</td>\n",
       "      <td>39</td>\n",
       "      <td>72</td>\n",
       "      <td>69</td>\n",
       "      <td>82</td>\n",
       "      <td>108</td>\n",
       "      <td>226</td>\n",
       "      <td>41</td>\n",
       "      <td>354</td>\n",
       "      <td>218</td>\n",
       "      <td>110</td>\n",
       "      <td>26</td>\n",
       "      <td>38</td>\n",
       "    </tr>\n",
       "    <tr>\n",
       "      <th>MS SQL Server</th>\n",
       "      <td>168</td>\n",
       "      <td>289</td>\n",
       "      <td>313</td>\n",
       "      <td>0</td>\n",
       "      <td>104</td>\n",
       "      <td>109</td>\n",
       "      <td>218</td>\n",
       "      <td>14</td>\n",
       "      <td>53</td>\n",
       "      <td>57</td>\n",
       "      <td>54</td>\n",
       "      <td>77</td>\n",
       "      <td>75</td>\n",
       "      <td>149</td>\n",
       "      <td>25</td>\n",
       "      <td>218</td>\n",
       "      <td>139</td>\n",
       "      <td>39</td>\n",
       "      <td>65</td>\n",
       "      <td>15</td>\n",
       "    </tr>\n",
       "    <tr>\n",
       "      <th>PostgreSQL</th>\n",
       "      <td>0</td>\n",
       "      <td>79</td>\n",
       "      <td>66</td>\n",
       "      <td>104</td>\n",
       "      <td>0</td>\n",
       "      <td>115</td>\n",
       "      <td>47</td>\n",
       "      <td>3</td>\n",
       "      <td>54</td>\n",
       "      <td>4</td>\n",
       "      <td>13</td>\n",
       "      <td>2</td>\n",
       "      <td>14</td>\n",
       "      <td>6</td>\n",
       "      <td>0</td>\n",
       "      <td>52</td>\n",
       "      <td>31</td>\n",
       "      <td>0</td>\n",
       "      <td>53</td>\n",
       "      <td>6</td>\n",
       "    </tr>\n",
       "    <tr>\n",
       "      <th>MySQL/MariaDB</th>\n",
       "      <td>5</td>\n",
       "      <td>149</td>\n",
       "      <td>91</td>\n",
       "      <td>109</td>\n",
       "      <td>115</td>\n",
       "      <td>0</td>\n",
       "      <td>45</td>\n",
       "      <td>1</td>\n",
       "      <td>72</td>\n",
       "      <td>9</td>\n",
       "      <td>32</td>\n",
       "      <td>11</td>\n",
       "      <td>17</td>\n",
       "      <td>70</td>\n",
       "      <td>0</td>\n",
       "      <td>80</td>\n",
       "      <td>68</td>\n",
       "      <td>6</td>\n",
       "      <td>57</td>\n",
       "      <td>2</td>\n",
       "    </tr>\n",
       "    <tr>\n",
       "      <th>T-SQL</th>\n",
       "      <td>77</td>\n",
       "      <td>196</td>\n",
       "      <td>173</td>\n",
       "      <td>218</td>\n",
       "      <td>47</td>\n",
       "      <td>45</td>\n",
       "      <td>0</td>\n",
       "      <td>54</td>\n",
       "      <td>49</td>\n",
       "      <td>48</td>\n",
       "      <td>45</td>\n",
       "      <td>19</td>\n",
       "      <td>81</td>\n",
       "      <td>132</td>\n",
       "      <td>21</td>\n",
       "      <td>184</td>\n",
       "      <td>75</td>\n",
       "      <td>27</td>\n",
       "      <td>33</td>\n",
       "      <td>16</td>\n",
       "    </tr>\n",
       "    <tr>\n",
       "      <th>PL/SQL</th>\n",
       "      <td>11</td>\n",
       "      <td>69</td>\n",
       "      <td>71</td>\n",
       "      <td>14</td>\n",
       "      <td>3</td>\n",
       "      <td>1</td>\n",
       "      <td>54</td>\n",
       "      <td>0</td>\n",
       "      <td>8</td>\n",
       "      <td>8</td>\n",
       "      <td>0</td>\n",
       "      <td>36</td>\n",
       "      <td>20</td>\n",
       "      <td>32</td>\n",
       "      <td>26</td>\n",
       "      <td>106</td>\n",
       "      <td>4</td>\n",
       "      <td>11</td>\n",
       "      <td>5</td>\n",
       "      <td>2</td>\n",
       "    </tr>\n",
       "    <tr>\n",
       "      <th>Pentaho</th>\n",
       "      <td>12</td>\n",
       "      <td>68</td>\n",
       "      <td>39</td>\n",
       "      <td>53</td>\n",
       "      <td>54</td>\n",
       "      <td>72</td>\n",
       "      <td>49</td>\n",
       "      <td>8</td>\n",
       "      <td>0</td>\n",
       "      <td>0</td>\n",
       "      <td>8</td>\n",
       "      <td>39</td>\n",
       "      <td>36</td>\n",
       "      <td>44</td>\n",
       "      <td>7</td>\n",
       "      <td>40</td>\n",
       "      <td>38</td>\n",
       "      <td>1</td>\n",
       "      <td>42</td>\n",
       "      <td>15</td>\n",
       "    </tr>\n",
       "    <tr>\n",
       "      <th>Hadoop</th>\n",
       "      <td>51</td>\n",
       "      <td>116</td>\n",
       "      <td>72</td>\n",
       "      <td>57</td>\n",
       "      <td>4</td>\n",
       "      <td>9</td>\n",
       "      <td>48</td>\n",
       "      <td>8</td>\n",
       "      <td>0</td>\n",
       "      <td>0</td>\n",
       "      <td>219</td>\n",
       "      <td>14</td>\n",
       "      <td>13</td>\n",
       "      <td>82</td>\n",
       "      <td>6</td>\n",
       "      <td>78</td>\n",
       "      <td>234</td>\n",
       "      <td>11</td>\n",
       "      <td>130</td>\n",
       "      <td>80</td>\n",
       "    </tr>\n",
       "    <tr>\n",
       "      <th>Spark</th>\n",
       "      <td>58</td>\n",
       "      <td>121</td>\n",
       "      <td>69</td>\n",
       "      <td>54</td>\n",
       "      <td>13</td>\n",
       "      <td>32</td>\n",
       "      <td>45</td>\n",
       "      <td>0</td>\n",
       "      <td>8</td>\n",
       "      <td>219</td>\n",
       "      <td>0</td>\n",
       "      <td>16</td>\n",
       "      <td>16</td>\n",
       "      <td>67</td>\n",
       "      <td>3</td>\n",
       "      <td>72</td>\n",
       "      <td>256</td>\n",
       "      <td>10</td>\n",
       "      <td>113</td>\n",
       "      <td>85</td>\n",
       "    </tr>\n",
       "    <tr>\n",
       "      <th>Informatica</th>\n",
       "      <td>26</td>\n",
       "      <td>124</td>\n",
       "      <td>82</td>\n",
       "      <td>77</td>\n",
       "      <td>2</td>\n",
       "      <td>11</td>\n",
       "      <td>19</td>\n",
       "      <td>36</td>\n",
       "      <td>39</td>\n",
       "      <td>14</td>\n",
       "      <td>16</td>\n",
       "      <td>0</td>\n",
       "      <td>101</td>\n",
       "      <td>84</td>\n",
       "      <td>27</td>\n",
       "      <td>143</td>\n",
       "      <td>33</td>\n",
       "      <td>6</td>\n",
       "      <td>15</td>\n",
       "      <td>24</td>\n",
       "    </tr>\n",
       "    <tr>\n",
       "      <th>Qlik</th>\n",
       "      <td>225</td>\n",
       "      <td>484</td>\n",
       "      <td>108</td>\n",
       "      <td>75</td>\n",
       "      <td>14</td>\n",
       "      <td>17</td>\n",
       "      <td>81</td>\n",
       "      <td>20</td>\n",
       "      <td>36</td>\n",
       "      <td>13</td>\n",
       "      <td>16</td>\n",
       "      <td>101</td>\n",
       "      <td>0</td>\n",
       "      <td>388</td>\n",
       "      <td>50</td>\n",
       "      <td>412</td>\n",
       "      <td>57</td>\n",
       "      <td>31</td>\n",
       "      <td>2</td>\n",
       "      <td>3</td>\n",
       "    </tr>\n",
       "    <tr>\n",
       "      <th>Tableau</th>\n",
       "      <td>254</td>\n",
       "      <td>525</td>\n",
       "      <td>226</td>\n",
       "      <td>149</td>\n",
       "      <td>6</td>\n",
       "      <td>70</td>\n",
       "      <td>132</td>\n",
       "      <td>32</td>\n",
       "      <td>44</td>\n",
       "      <td>82</td>\n",
       "      <td>67</td>\n",
       "      <td>84</td>\n",
       "      <td>388</td>\n",
       "      <td>0</td>\n",
       "      <td>71</td>\n",
       "      <td>528</td>\n",
       "      <td>199</td>\n",
       "      <td>92</td>\n",
       "      <td>31</td>\n",
       "      <td>36</td>\n",
       "    </tr>\n",
       "    <tr>\n",
       "      <th>Microstrategy</th>\n",
       "      <td>37</td>\n",
       "      <td>53</td>\n",
       "      <td>41</td>\n",
       "      <td>25</td>\n",
       "      <td>0</td>\n",
       "      <td>0</td>\n",
       "      <td>21</td>\n",
       "      <td>26</td>\n",
       "      <td>7</td>\n",
       "      <td>6</td>\n",
       "      <td>3</td>\n",
       "      <td>27</td>\n",
       "      <td>50</td>\n",
       "      <td>71</td>\n",
       "      <td>0</td>\n",
       "      <td>72</td>\n",
       "      <td>20</td>\n",
       "      <td>7</td>\n",
       "      <td>13</td>\n",
       "      <td>2</td>\n",
       "    </tr>\n",
       "    <tr>\n",
       "      <th>Oracle BI</th>\n",
       "      <td>234</td>\n",
       "      <td>744</td>\n",
       "      <td>354</td>\n",
       "      <td>218</td>\n",
       "      <td>52</td>\n",
       "      <td>80</td>\n",
       "      <td>184</td>\n",
       "      <td>106</td>\n",
       "      <td>40</td>\n",
       "      <td>78</td>\n",
       "      <td>72</td>\n",
       "      <td>143</td>\n",
       "      <td>412</td>\n",
       "      <td>528</td>\n",
       "      <td>72</td>\n",
       "      <td>0</td>\n",
       "      <td>217</td>\n",
       "      <td>95</td>\n",
       "      <td>10</td>\n",
       "      <td>56</td>\n",
       "    </tr>\n",
       "    <tr>\n",
       "      <th>Python</th>\n",
       "      <td>117</td>\n",
       "      <td>470</td>\n",
       "      <td>218</td>\n",
       "      <td>139</td>\n",
       "      <td>31</td>\n",
       "      <td>68</td>\n",
       "      <td>75</td>\n",
       "      <td>4</td>\n",
       "      <td>38</td>\n",
       "      <td>234</td>\n",
       "      <td>256</td>\n",
       "      <td>33</td>\n",
       "      <td>57</td>\n",
       "      <td>199</td>\n",
       "      <td>20</td>\n",
       "      <td>217</td>\n",
       "      <td>0</td>\n",
       "      <td>76</td>\n",
       "      <td>141</td>\n",
       "      <td>131</td>\n",
       "    </tr>\n",
       "    <tr>\n",
       "      <th>VBA</th>\n",
       "      <td>44</td>\n",
       "      <td>313</td>\n",
       "      <td>110</td>\n",
       "      <td>39</td>\n",
       "      <td>0</td>\n",
       "      <td>6</td>\n",
       "      <td>27</td>\n",
       "      <td>11</td>\n",
       "      <td>1</td>\n",
       "      <td>11</td>\n",
       "      <td>10</td>\n",
       "      <td>6</td>\n",
       "      <td>31</td>\n",
       "      <td>92</td>\n",
       "      <td>7</td>\n",
       "      <td>95</td>\n",
       "      <td>76</td>\n",
       "      <td>0</td>\n",
       "      <td>5</td>\n",
       "      <td>5</td>\n",
       "    </tr>\n",
       "    <tr>\n",
       "      <th>Linux</th>\n",
       "      <td>13</td>\n",
       "      <td>101</td>\n",
       "      <td>26</td>\n",
       "      <td>65</td>\n",
       "      <td>53</td>\n",
       "      <td>57</td>\n",
       "      <td>33</td>\n",
       "      <td>5</td>\n",
       "      <td>42</td>\n",
       "      <td>130</td>\n",
       "      <td>113</td>\n",
       "      <td>15</td>\n",
       "      <td>2</td>\n",
       "      <td>31</td>\n",
       "      <td>13</td>\n",
       "      <td>10</td>\n",
       "      <td>141</td>\n",
       "      <td>5</td>\n",
       "      <td>0</td>\n",
       "      <td>39</td>\n",
       "    </tr>\n",
       "    <tr>\n",
       "      <th>AWS</th>\n",
       "      <td>8</td>\n",
       "      <td>70</td>\n",
       "      <td>38</td>\n",
       "      <td>15</td>\n",
       "      <td>6</td>\n",
       "      <td>2</td>\n",
       "      <td>16</td>\n",
       "      <td>2</td>\n",
       "      <td>15</td>\n",
       "      <td>80</td>\n",
       "      <td>85</td>\n",
       "      <td>24</td>\n",
       "      <td>3</td>\n",
       "      <td>36</td>\n",
       "      <td>2</td>\n",
       "      <td>56</td>\n",
       "      <td>131</td>\n",
       "      <td>5</td>\n",
       "      <td>39</td>\n",
       "      <td>0</td>\n",
       "    </tr>\n",
       "  </tbody>\n",
       "</table>\n",
       "</div>"
      ],
      "text/plain": [
       "               Power BI  Excel  SSIS/SSRS  MS SQL Server  PostgreSQL  \\\n",
       "Power BI              0    274        171            168           0   \n",
       "Excel               274      0        699            289          79   \n",
       "SSIS/SSRS           171    699          0            313          66   \n",
       "MS SQL Server       168    289        313              0         104   \n",
       "PostgreSQL            0     79         66            104           0   \n",
       "MySQL/MariaDB         5    149         91            109         115   \n",
       "T-SQL                77    196        173            218          47   \n",
       "PL/SQL               11     69         71             14           3   \n",
       "Pentaho              12     68         39             53          54   \n",
       "Hadoop               51    116         72             57           4   \n",
       "Spark                58    121         69             54          13   \n",
       "Informatica          26    124         82             77           2   \n",
       "Qlik                225    484        108             75          14   \n",
       "Tableau             254    525        226            149           6   \n",
       "Microstrategy        37     53         41             25           0   \n",
       "Oracle BI           234    744        354            218          52   \n",
       "Python              117    470        218            139          31   \n",
       "VBA                  44    313        110             39           0   \n",
       "Linux                13    101         26             65          53   \n",
       "AWS                   8     70         38             15           6   \n",
       "\n",
       "               MySQL/MariaDB  T-SQL  PL/SQL  Pentaho  Hadoop  Spark  \\\n",
       "Power BI                   5     77      11       12      51     58   \n",
       "Excel                    149    196      69       68     116    121   \n",
       "SSIS/SSRS                 91    173      71       39      72     69   \n",
       "MS SQL Server            109    218      14       53      57     54   \n",
       "PostgreSQL               115     47       3       54       4     13   \n",
       "MySQL/MariaDB              0     45       1       72       9     32   \n",
       "T-SQL                     45      0      54       49      48     45   \n",
       "PL/SQL                     1     54       0        8       8      0   \n",
       "Pentaho                   72     49       8        0       0      8   \n",
       "Hadoop                     9     48       8        0       0    219   \n",
       "Spark                     32     45       0        8     219      0   \n",
       "Informatica               11     19      36       39      14     16   \n",
       "Qlik                      17     81      20       36      13     16   \n",
       "Tableau                   70    132      32       44      82     67   \n",
       "Microstrategy              0     21      26        7       6      3   \n",
       "Oracle BI                 80    184     106       40      78     72   \n",
       "Python                    68     75       4       38     234    256   \n",
       "VBA                        6     27      11        1      11     10   \n",
       "Linux                     57     33       5       42     130    113   \n",
       "AWS                        2     16       2       15      80     85   \n",
       "\n",
       "               Informatica  Qlik  Tableau  Microstrategy  Oracle BI  Python  \\\n",
       "Power BI                26   225      254             37        234     117   \n",
       "Excel                  124   484      525             53        744     470   \n",
       "SSIS/SSRS               82   108      226             41        354     218   \n",
       "MS SQL Server           77    75      149             25        218     139   \n",
       "PostgreSQL               2    14        6              0         52      31   \n",
       "MySQL/MariaDB           11    17       70              0         80      68   \n",
       "T-SQL                   19    81      132             21        184      75   \n",
       "PL/SQL                  36    20       32             26        106       4   \n",
       "Pentaho                 39    36       44              7         40      38   \n",
       "Hadoop                  14    13       82              6         78     234   \n",
       "Spark                   16    16       67              3         72     256   \n",
       "Informatica              0   101       84             27        143      33   \n",
       "Qlik                   101     0      388             50        412      57   \n",
       "Tableau                 84   388        0             71        528     199   \n",
       "Microstrategy           27    50       71              0         72      20   \n",
       "Oracle BI              143   412      528             72          0     217   \n",
       "Python                  33    57      199             20        217       0   \n",
       "VBA                      6    31       92              7         95      76   \n",
       "Linux                   15     2       31             13         10     141   \n",
       "AWS                     24     3       36              2         56     131   \n",
       "\n",
       "               VBA  Linux  AWS  \n",
       "Power BI        44     13    8  \n",
       "Excel          313    101   70  \n",
       "SSIS/SSRS      110     26   38  \n",
       "MS SQL Server   39     65   15  \n",
       "PostgreSQL       0     53    6  \n",
       "MySQL/MariaDB    6     57    2  \n",
       "T-SQL           27     33   16  \n",
       "PL/SQL          11      5    2  \n",
       "Pentaho          1     42   15  \n",
       "Hadoop          11    130   80  \n",
       "Spark           10    113   85  \n",
       "Informatica      6     15   24  \n",
       "Qlik            31      2    3  \n",
       "Tableau         92     31   36  \n",
       "Microstrategy    7     13    2  \n",
       "Oracle BI       95     10   56  \n",
       "Python          76    141  131  \n",
       "VBA              0      5    5  \n",
       "Linux            5      0   39  \n",
       "AWS              5     39    0  "
      ]
     },
     "execution_count": 9,
     "metadata": {},
     "output_type": "execute_result"
    }
   ],
   "source": [
    "tech_terms_df = pd.DataFrame(tech_terms_matrix, columns=tech_terms_labels, index=tech_terms_labels)\n",
    "tech_terms_df"
   ]
  },
  {
   "cell_type": "markdown",
   "metadata": {},
   "source": [
    "We can finally move to Plotly. \n",
    "\n",
    "A chord diagram encodes information in two graphical objects:\n",
    "\n",
    "- Ideograms, represented by distinctly colored arcs of circles;\n",
    "- Ribbons, that are planar shapes bounded by two quadratic Bezier curves and two arcs of circle,that can degenerate to a point;\n"
   ]
  },
  {
   "cell_type": "markdown",
   "metadata": {},
   "source": [
    "### Ideograms Preparation"
   ]
  },
  {
   "cell_type": "markdown",
   "metadata": {},
   "source": [
    "For each of our predefined tech terms we can produce a total hits count by summing up all the entries on the row (or column for that matter). That total count determines the size of each ideogram of the chart.\n",
    "\n",
    "We are going to need a couple of helper functions to process the data in order to get ideogram ends.\n"
   ]
  },
  {
   "cell_type": "code",
   "execution_count": 10,
   "metadata": {},
   "outputs": [],
   "source": [
    "PI = np.pi\n",
    "\n",
    "def moduloAB(x, a, b):\n",
    "    if a >= b:\n",
    "        raise ValueError('Incorrect interval ends')\n",
    "    y = (x-a) % (b-a)\n",
    "    return y+b if y < 0 else y+a\n",
    "\n",
    "\n",
    "def test_2PI(x):\n",
    "    return 0 <= x < 2*PI"
   ]
  },
  {
   "cell_type": "markdown",
   "metadata": {},
   "source": [
    "And now use them to compute the row sums and the lengths of corresponding ideograms."
   ]
  },
  {
   "cell_type": "code",
   "execution_count": 11,
   "metadata": {},
   "outputs": [],
   "source": [
    "row_sum = [np.sum(tech_terms_matrix[k, :]) for k in range(len(tech_terms_filters))]\n",
    "\n",
    "#set the gap between two consecutive ideograms\n",
    "gap = 2*PI*0.005\n",
    "ideogram_length = 2*PI*np.asarray(row_sum)/sum(row_sum)-gap*np.ones(len(tech_terms_filters))"
   ]
  },
  {
   "cell_type": "markdown",
   "metadata": {},
   "source": [
    "The next function returns the list of end angular coordinates for each ideogram arc:\n"
   ]
  },
  {
   "cell_type": "code",
   "execution_count": 12,
   "metadata": {},
   "outputs": [],
   "source": [
    "def get_ideogram_ends(ideogram_len, gap):\n",
    "    ideo_ends = []\n",
    "    left = 0\n",
    "    for k in range(len(ideogram_len)):\n",
    "        right = left+ideogram_len[k]\n",
    "        ideo_ends.append([left, right])\n",
    "        left = right+gap\n",
    "    return ideo_ends\n",
    "\n",
    "ideo_ends = get_ideogram_ends(ideogram_length, gap)"
   ]
  },
  {
   "cell_type": "markdown",
   "metadata": {},
   "source": [
    "The function make_ideogram_arc returns equally spaced points on an ideogram arc, expressed as complex numbers in polar form:"
   ]
  },
  {
   "cell_type": "code",
   "execution_count": 13,
   "metadata": {},
   "outputs": [],
   "source": [
    "def make_ideogram_arc(R, phi, a=50):\n",
    "    if not test_2PI(phi[0]) or not test_2PI(phi[1]):\n",
    "        phi = [moduloAB(t, 0, 2*PI) for t in phi]\n",
    "    length = (phi[1]-phi[0]) % 2*PI\n",
    "    nr = 5 if length <= PI/4 else int(a*length/PI)\n",
    "    if phi[0] < phi[1]:\n",
    "        theta = np.linspace(phi[0], phi[1], nr)\n",
    "    else:\n",
    "        phi = [moduloAB(t, -PI, PI) for t in phi]\n",
    "        theta = np.linspace(phi[0], phi[1], nr)\n",
    "    return R*np.exp(1j*theta)"
   ]
  },
  {
   "cell_type": "code",
   "execution_count": 14,
   "metadata": {},
   "outputs": [],
   "source": [
    "z = make_ideogram_arc(1.3, [11*PI/6, PI/17])"
   ]
  },
  {
   "cell_type": "markdown",
   "metadata": {},
   "source": [
    "### Ribbons Preparation"
   ]
  },
  {
   "cell_type": "markdown",
   "metadata": {},
   "source": [
    "The function map_data maps all matrix entries to the corresponding values in the intervals associated to ideograms:"
   ]
  },
  {
   "cell_type": "code",
   "execution_count": 15,
   "metadata": {},
   "outputs": [],
   "source": [
    "def map_data(data_matrix, row_value, ideogram_length):\n",
    "    mapped = np.zeros(data_matrix.shape)\n",
    "    for j in range(len(tech_terms_filters)):\n",
    "        mapped[:, j] = ideogram_length*data_matrix[:, j]/row_value\n",
    "    return mapped\n",
    "\n",
    "mapped_data = map_data(tech_terms_matrix, row_sum, ideogram_length)"
   ]
  },
  {
   "cell_type": "markdown",
   "metadata": {},
   "source": [
    "The array idx_sort, defined below, has on each row the indices that sort the corresponding row in mapped_data:\n"
   ]
  },
  {
   "cell_type": "code",
   "execution_count": 16,
   "metadata": {},
   "outputs": [],
   "source": [
    "idx_sort = np.argsort(mapped_data, axis=1)"
   ]
  },
  {
   "cell_type": "code",
   "execution_count": 17,
   "metadata": {},
   "outputs": [
    {
     "name": "stdout",
     "output_type": "stream",
     "text": [
      "ribbon ends starting from the ideogram[2]\n",
      " [(1.252950270626228, 1.252950270626228), (1.252950270626228, 1.2575162114238296), (1.2575162114238296, 1.2641895095126316), (1.2641895095126316, 1.2710384207090337), (1.2710384207090337, 1.278238558120636), (1.278238558120636, 1.2898290232222396), (1.2898290232222396, 1.3019463276466434), (1.3019463276466434, 1.3144148582862474), (1.3144148582862474, 1.3270590020334514), (1.3270590020334514, 1.3414592768566558), (1.3414592768566558, 1.3574400696482607), (1.3574400696482607, 1.3764062852690666), (1.3764062852690666, 1.3957237271050726), (1.3957237271050726, 1.425753568504682), (1.425753568504682, 1.4561346361194916), (1.4561346361194916, 1.4944182935763035), (1.4944182935763035, 1.534106855893916), (1.534106855893916, 1.589073758572733), (1.589073758572733, 1.6512407986631523), (1.6512407986631523, 1.7739943608755906)]\n"
     ]
    }
   ],
   "source": [
    "def make_ribbon_ends(mapped_data, ideo_ends,  idx_sort):\n",
    "    L = mapped_data.shape[0]\n",
    "    ribbon_boundary = np.zeros((L, L+1))\n",
    "    for k in range(L):\n",
    "        start = ideo_ends[k][0]\n",
    "        ribbon_boundary[k][0] = start\n",
    "        for j in range(1, L+1):\n",
    "            J = idx_sort[k][j-1]\n",
    "            ribbon_boundary[k][j] = start+mapped_data[k][J]\n",
    "            start = ribbon_boundary[k][j]\n",
    "    return [[(ribbon_boundary[k][j], ribbon_boundary[k][j+1]) for j in range(L)] for k in range(L)]\n",
    "\n",
    "\n",
    "ribbon_ends = make_ribbon_ends(mapped_data, ideo_ends, idx_sort)\n",
    "print('ribbon ends starting from the ideogram[2]\\n', ribbon_ends[2])"
   ]
  },
  {
   "cell_type": "code",
   "execution_count": 18,
   "metadata": {},
   "outputs": [],
   "source": [
    "def control_pts(angle, radius):\n",
    "    if len(angle) != 3:\n",
    "        raise InvalidInputError('angle must have len =3')\n",
    "    b_cplx = np.array([np.exp(1j*angle[k]) for k in range(3)])\n",
    "    b_cplx[1] = radius*b_cplx[1]\n",
    "    return zip(b_cplx.real, b_cplx.imag)"
   ]
  },
  {
   "cell_type": "code",
   "execution_count": 19,
   "metadata": {},
   "outputs": [],
   "source": [
    "def ctrl_rib_chords(l, r, radius):\n",
    "    if len(l) != 2 or len(r) != 2:\n",
    "        raise ValueError('the arc ends must be elements in a list of len 2')\n",
    "    return [control_pts([l[j], (l[j]+r[j])/2, r[j]], radius) for j in range(2)]"
   ]
  },
  {
   "cell_type": "code",
   "execution_count": 20,
   "metadata": {},
   "outputs": [
    {
     "data": {
      "text/plain": [
       "'M 1,4 Q -0.5, 2.35 3.745, 1.47'"
      ]
     },
     "execution_count": 20,
     "metadata": {},
     "output_type": "execute_result"
    }
   ],
   "source": [
    "def make_q_bezier(b):\n",
    "    if len(b) != 3:\n",
    "        raise ValueError('control poligon must have 3 points')\n",
    "    A, B, C = b\n",
    "    return 'M ' + str(A[0]) + ',' + str(A[1]) + ' ' + 'Q ' + \\\n",
    "        str(B[0]) + ', ' + str(B[1]) + ' ' + \\\n",
    "        str(C[0]) + ', ' + str(C[1])\n",
    "\n",
    "\n",
    "b = [(1,4), (-0.5, 2.35), (3.745, 1.47)]\n",
    "make_q_bezier(b)"
   ]
  },
  {
   "cell_type": "code",
   "execution_count": 21,
   "metadata": {},
   "outputs": [],
   "source": [
    "def make_ribbon_arc(theta0, theta1):\n",
    "    if test_2PI(theta0) and test_2PI(theta1):\n",
    "        if theta0 < theta1:\n",
    "            theta0 = moduloAB(theta0, -PI, PI)\n",
    "            theta1 = moduloAB(theta1, -PI, PI)\n",
    "            if theta0*theta1 > 0:\n",
    "                raise ValueError('incorrect angle coordinates for ribbon')\n",
    "\n",
    "        nr = int(40*(theta0-theta1)/PI)\n",
    "        if nr <= 2: \n",
    "            nr = 3\n",
    "        theta = np.linspace(theta0, theta1, nr)\n",
    "        pts = np.exp(1j*theta)\n",
    "\n",
    "        string_arc = ''\n",
    "        for k in range(len(theta)):\n",
    "            string_arc += 'L ' + str(pts.real[k]) + ', ' + str(pts.imag[k]) + ' '\n",
    "        return string_arc\n",
    "    else:\n",
    "        raise ValueError('the angle coordinates for an arc side of a ribbon must be in [0, 2*pi]')"
   ]
  },
  {
   "cell_type": "code",
   "execution_count": 22,
   "metadata": {},
   "outputs": [],
   "source": [
    "def make_ideo_shape(path, line_color, fill_color):\n",
    "    return dict(\n",
    "        line=dict(color=line_color, width=0.45),\n",
    "        path=path,\n",
    "        type='path',\n",
    "        fillcolor=fill_color,\n",
    "        layer='below',\n",
    "    )"
   ]
  },
  {
   "cell_type": "code",
   "execution_count": 23,
   "metadata": {},
   "outputs": [],
   "source": [
    "temp_colors = [*DS['colorramp']['acc1'], *DS['colorramp']['acc2']]\n",
    "len_datalist = len(tech_terms_filters)\n",
    "ideo_colors = temp_colors[:len_datalist]"
   ]
  },
  {
   "cell_type": "code",
   "execution_count": 24,
   "metadata": {},
   "outputs": [],
   "source": [
    "def make_ribbon(l, r, line_color, fill_color, radius=0.2):\n",
    "    poligon = ctrl_rib_chords(l, r, radius)\n",
    "    b, c = poligon\n",
    "\n",
    "    return dict(\n",
    "        line=dict(\n",
    "            color=line_color,\n",
    "            width=0.5\n",
    "            ),\n",
    "        path=make_q_bezier(list(b))+make_ribbon_arc(r[0], r[1])+make_q_bezier(list(c)[::-1])+make_ribbon_arc(l[1], l[0]),\n",
    "        type='path',\n",
    "        fillcolor=fill_color,\n",
    "        layer='below'\n",
    "    )\n",
    "\n",
    "\n",
    "def make_self_rel(l, line_color, fill_color, radius):\n",
    "    b = control_pts([l[0], (l[0]+l[1])/2, l[1]], radius)\n",
    "    return dict(\n",
    "        line=dict(\n",
    "            color=line_color,\n",
    "            width=0.5\n",
    "            ),\n",
    "        path=make_q_bezier(b)+make_ribbon_arc(l[1], l[0]),\n",
    "        type='path',\n",
    "        fillcolor=fill_color,\n",
    "        layer='below'\n",
    "    )\n",
    "\n",
    "\n",
    "def invPerm(perm):\n",
    "    inv = [0] * len(perm)\n",
    "    for i, s in enumerate(perm):\n",
    "        inv[s] = i\n",
    "    return inv"
   ]
  },
  {
   "cell_type": "code",
   "execution_count": 25,
   "metadata": {},
   "outputs": [],
   "source": [
    "radii_sribb = [0.4, 0.30, 0.35, 0.39, 0.12]"
   ]
  },
  {
   "cell_type": "code",
   "execution_count": 26,
   "metadata": {},
   "outputs": [],
   "source": [
    "shapes = []\n",
    "ribbon_info = []\n",
    "\n",
    "for k in range(len(tech_terms_filters)):\n",
    "    sigma = idx_sort[k]\n",
    "    sigma_inv = invPerm(sigma)\n",
    "    for j in range(k, len(tech_terms_filters)):\n",
    "        if tech_terms_matrix[k][j] == 0 and tech_terms_matrix[j][k] == 0:\n",
    "            continue\n",
    "        eta = idx_sort[j]\n",
    "        eta_inv = invPerm(eta)\n",
    "        l = ribbon_ends[k][sigma_inv[j]]\n",
    "\n",
    "        if j == k:\n",
    "            shapes.append(make_self_rel(l, DS['colors']['acc1'], ideo_colors[k], radius=radii_sribb[k]))\n",
    "            z = 0.9*np.exp(1j*(l[0]+l[1])/2)\n",
    "            text = tech_terms_labels[k]+' appears in ' + '{:d}'.format(tech_terms_matrix[k][k]),\n",
    "            ribbon_info.append(\n",
    "                go.Scatter(\n",
    "                    x=[z.real],\n",
    "                    y=[z.imag],\n",
    "                    mode='markers',\n",
    "                    marker=dict(size=0.5, color=ideo_colors[k]),\n",
    "                    text=text,\n",
    "                    hoverinfo='text',\n",
    "                ),\n",
    "            )\n",
    "        else:\n",
    "            r = ribbon_ends[j][eta_inv[k]]\n",
    "            zi = 0.9*np.exp(1j*(l[0]+l[1])/2)\n",
    "            zf = 0.9*np.exp(1j*(r[0]+r[1])/2)\n",
    "            texti = tech_terms_labels[k]+' appears with '+tech_terms_labels[j]+' {:d}'.format(tech_terms_matrix[k][j])+' times'\n",
    "            textf = tech_terms_labels[j]+' appears with '+tech_terms_labels[k]+' {:d}'.format(tech_terms_matrix[j][k])+' times'\n",
    "\n",
    "            ribbon_info.append(go.Scatter(\n",
    "                x=[zi.real],\n",
    "                y=[zi.imag],\n",
    "                mode='markers',\n",
    "                marker=dict(size=0.5, color='green'),\n",
    "                text=texti,\n",
    "                hoverinfo='text'\n",
    "            )),\n",
    "            ribbon_info.append(go.Scatter(\n",
    "                x=[zf.real],\n",
    "                y=[zf.imag],\n",
    "                mode='markers',\n",
    "                marker=dict(size=0.5, color='blue'),\n",
    "                text=textf,\n",
    "                hoverinfo='text'\n",
    "            ))\n",
    "            r = (r[1], r[0])\n",
    "            shapes.append(make_ribbon(l, r, 'rgb(175,175,175)', ideo_colors[k]))"
   ]
  },
  {
   "cell_type": "code",
   "execution_count": 27,
   "metadata": {},
   "outputs": [
    {
     "name": "stderr",
     "output_type": "stream",
     "text": [
      "/run/media/deo/Games/WORKSPACE/jpynb_Job_Market_Trends_Bulgaria/ve-jobmarkettrends/lib/python3.8/site-packages/plotly/graph_objs/_deprecations.py:31: DeprecationWarning:\n",
      "\n",
      "plotly.graph_objs.Data is deprecated.\n",
      "Please replace it with a list or tuple of instances of the following types\n",
      "  - plotly.graph_objs.Scatter\n",
      "  - plotly.graph_objs.Bar\n",
      "  - plotly.graph_objs.Area\n",
      "  - plotly.graph_objs.Histogram\n",
      "  - etc.\n",
      "\n",
      "\n"
     ]
    }
   ],
   "source": [
    "ideograms = []\n",
    "for k in range(len(ideo_ends)):\n",
    "    z = make_ideogram_arc(1.1, ideo_ends[k])\n",
    "    zi = make_ideogram_arc(1.0, ideo_ends[k])\n",
    "    m = len(z)\n",
    "    n = len(zi)\n",
    "    ideograms.append(go.Scatter(\n",
    "        x=z.real,\n",
    "        y=z.imag,\n",
    "        mode='lines',\n",
    "        line=dict(color=ideo_colors[k], shape='spline', width=0.25),\n",
    "        text=tech_terms_labels[k]+'<br>'+'{:d}'.format(row_sum[k]),\n",
    "        hoverinfo='text',))\n",
    "\n",
    "    path = 'M '\n",
    "    for s in range(m):\n",
    "        path += str(z.real[s])+', '+str(z.imag[s])+' L '\n",
    "\n",
    "    Zi = np.array(zi.tolist()[::-1])\n",
    "\n",
    "    for s in range(m):\n",
    "        path += str(Zi.real[s])+', '+str(Zi.imag[s])+' L '\n",
    "    path += str(z.real[0])+' ,'+str(z.imag[0])\n",
    "\n",
    "    shapes.append(make_ideo_shape(path, 'rgb(150,150,150)', ideo_colors[k]))\n",
    "\n",
    "data = go.Data(ideograms+ribbon_info)\n"
   ]
  },
  {
   "cell_type": "code",
   "execution_count": 28,
   "metadata": {},
   "outputs": [],
   "source": [
    "layout = go.Layout(\n",
    "    paper_bgcolor=DS['colors']['bg1'],\n",
    "    plot_bgcolor=DS['colors']['bg1'],\n",
    "    title='Data Jobs ‒ Technologies in Demand and Relationships Between Them',\n",
    "    titlefont=DS['chart_fonts']['title'],\n",
    "    font=DS['chart_fonts']['text'],\n",
    "    autosize=False,\n",
    "    width=960,\n",
    "    height=525,\n",
    "    margin=dict(\n",
    "        l=280,\n",
    "        r=280,\n",
    "        t=80,\n",
    "        b=10,\n",
    "    ),\n",
    "    showlegend=False,\n",
    "    hidesources=True,\n",
    "    xaxis=dict(\n",
    "        showline=False,\n",
    "        zeroline=False,\n",
    "        showgrid=False,\n",
    "        showticklabels=False,\n",
    "        title='',\n",
    "    ),\n",
    "    yaxis=dict(\n",
    "        showline=False,\n",
    "        zeroline=False,\n",
    "        showgrid=False,\n",
    "        showticklabels=False,\n",
    "        title='',\n",
    "    ),\n",
    "    shapes=shapes,\n",
    "    hovermode='closest',\n",
    "    hoverdistance=40,\n",
    ")"
   ]
  },
  {
   "cell_type": "code",
   "execution_count": 29,
   "metadata": {},
   "outputs": [
    {
     "data": {
      "application/vnd.plotly.v1+json": {
       "config": {
        "linkText": "Export to plot.ly",
        "plotlyServerURL": "https://plot.ly",
        "showLink": false
       },
       "data": [
        {
         "hoverinfo": "text",
         "line": {
          "color": "#f2e6ce",
          "shape": "spline",
          "width": 0.25
         },
         "mode": "lines",
         "text": "Power BI<br>1785",
         "type": "scatter",
         "x": [
          1.1,
          1.099745850240148,
          1.098983518400774,
          1.0977133567481583,
          1.0959359522118988,
          1.0936521261136973,
          1.0908629337878348,
          1.0875696640935109,
          1.0837738388192744,
          1.0794772119798197,
          1.074681769005473,
          1.0693897258247445,
          1.063603527840367,
          1.0573258487993014,
          1.0505595895572215
         ],
         "y": [
          0,
          0.0236445528520701,
          0.047278179781541724,
          0.07088995991458111,
          0.094468982472551,
          0.1180043518137775,
          0.1414851924683222,
          0.16490065416343333,
          0.18823991683735336,
          0.21149219563916646,
          0.23464674591237542,
          0.25769286815990483,
          0.2806199129882371,
          0.30341728602839535,
          0.32607445283150066
         ]
        },
        {
         "hoverinfo": "text",
         "line": {
          "color": "#ecd5bb",
          "shape": "spline",
          "width": 0.25
         },
         "mode": "lines",
         "text": "Excel<br>4944",
         "type": "scatter",
         "x": [
          1.0397989557381504,
          1.032155509413297,
          1.0240707395982713,
          1.0155481031353795,
          1.0065912440875897,
          0.9972039921804234,
          0.9873903611644604,
          0.9771545470991625,
          0.9665009265587444,
          0.9554340547608617,
          0.9439586636189159,
          0.9320796597188074,
          0.919802122221005,
          0.9071313006888255,
          0.8940726128438531,
          0.8806316422494603,
          0.8668141359234172,
          0.8526260018806123,
          0.8380733066069366,
          0.8231622724654071,
          0.8078992750356426,
          0.7922908403878282,
          0.7763436422923329,
          0.7600644993661748,
          0.743460372157554,
          0.7265383601696986,
          0.7093056988252975,
          0.6917697563728172,
          0.673938030736026,
          0.655818146308072,
          0.6374178506914865,
          0.6187450113855054,
          0.5998076124221265,
          0.5806137509523404,
          0.5611716337839936,
          0.541489573872767,
          0.5215759867677654,
          0.5014393870132441,
          0.481088384508005,
          0.46053168082402274,
          0.43977806548587356,
          0.4188364122125569,
          0.39771567512332007,
          0.3764248849091022
         ],
         "y": [
          0.35891242893755043,
          0.38033538408591083,
          0.40159571748046563,
          0.42268433874243905,
          0.4435922309128039,
          0.46431045430770373,
          0.484830150340835,
          0.5051425453111535,
          0.5252389541542866,
          0.5451107841560454,
          0.5647495386264523,
          0.5841468205327087,
          0.6032943360895539,
          0.6221838983054769,
          0.640807430483266,
          0.6591569696733993,
          0.6772246700788003,
          0.6950028064095011,
          0.7124837771857798,
          0.7296601079883613,
          0.7465244546542888,
          0.7630696064171009,
          0.7792884889899726,
          0.7951741675905011,
          0.8107198499058423,
          0.8259188889969313,
          0.8407647861405452,
          0.855251193607991,
          0.869371917379235,
          0.8831209197913072,
          0.8964923221198527,
          0.9094804070927263,
          0.9220796213345507,
          0.9342845777412008,
          0.9460900577831919,
          0.9574910137369903,
          0.968482570843292,
          0.9790600293913455,
          0.9892188667284294,
          0.9989547391936237,
          1.0082634839750484,
          1.0171411208897776,
          1.0255838540856628,
          1.033588073664344
         ]
        },
        {
         "hoverinfo": "text",
         "line": {
          "color": "#e6c4a9",
          "shape": "spline",
          "width": 0.25
         },
         "mode": "lines",
         "text": "SSIS/SSRS<br>2967",
         "type": "scatter",
         "x": [
          0.3437733559836657,
          0.3219226739029976,
          0.2999321603993944,
          0.2778113673467796,
          0.25556990320774287,
          0.23321742885997612,
          0.21076365339994105,
          0.18821832992559365,
          0.1655912512999955,
          0.14289224589765262,
          0.12013117333542926,
          0.09731792018989135,
          0.07446239570294037,
          0.05157452747760005,
          0.028664257165830206,
          0.005741536150236725,
          -0.017183678778444848,
          -0.0401014297462137,
          -0.0630017621211411,
          -0.08587472883729703,
          -0.10871039471539176,
          -0.13149884077825383,
          -0.1542301685592707,
          -0.1768945044019204,
          -0.1994820037485255,
          -0.22198285541636997
         ],
         "y": [
          1.0449018517141828,
          1.0518392424829681,
          1.0583197527959838,
          1.0643405677568214,
          1.0698990721439032,
          1.074992851546438,
          1.0796196934131528,
          1.0837775880133436,
          1.08746472930983,
          1.090679515743431,
          1.0934205509286228,
          1.0956866442600794,
          1.0974768114298266,
          1.0987902748547889,
          1.099626464014545,
          1.0999850156991393,
          1.0998657741668478,
          1.0992687912118262,
          1.098194326141613,
          1.0966428456644948,
          1.0946150236867864,
          1.09211174102011,
          1.0891340849988027,
          1.085683349007619,
          1.0817610319199307,
          1.0773688374466728
         ]
        },
        {
         "hoverinfo": "text",
         "line": {
          "color": "#e1b396",
          "shape": "spline",
          "width": 0.25
         },
         "mode": "lines",
         "text": "MS SQL Server<br>2181",
         "type": "scatter",
         "x": [
          -0.2557142932687001,
          -0.27923069888845137,
          -0.30261146344890627,
          -0.32584522934617444,
          -0.3489207103834643,
          -0.37182669725354717,
          -0.39455206298386686,
          -0.4170857683416572,
          -0.4394168671964362,
          -0.4615345118372753,
          -0.48342795824225887,
          -0.5050865712975776,
          -0.5264998299637128,
          -0.5476573323862121,
          -0.5685488009485666,
          -0.5891640872647379,
          -0.6094931771089102,
          -0.6295261952800679
         ],
         "y": [
          1.0698645709705923,
          1.0639690863922069,
          1.057556760741149,
          1.0506307089136215,
          1.0431942953570532,
          1.0352511324357578,
          1.0268050786761695,
          1.0178602368924967,
          1.0084209521937104,
          0.9984918098728343,
          0.98807763317956,
          0.9771834809772714,
          0.9658146452856168,
          0.9539766487098195,
          0.9416752417579786,
          0.9289164000476622,
          0.9157063214031488,
          0.90205142284473
         ]
        },
        {
         "hoverinfo": "text",
         "line": {
          "color": "#dba284",
          "shape": "spline",
          "width": 0.25
         },
         "mode": "lines",
         "text": "PostgreSQL<br>649",
         "type": "scatter",
         "x": [
          -0.657549682023565,
          -0.6770990320441473,
          -0.6963099513773288,
          -0.7151728379348954,
          -0.7336782635839426
         ],
         "y": [
          0.8818324192672373,
          0.866912279763575,
          0.8515588362602446,
          0.8357797627845197,
          0.8195829461039627
         ]
        },
        {
         "hoverinfo": "text",
         "line": {
          "color": "#d59171",
          "shape": "spline",
          "width": 0.25
         },
         "mode": "lines",
         "text": "MySQL/MariaDB<br>939",
         "type": "scatter",
         "x": [
          -0.7590599601145032,
          -0.7871127427448888,
          -0.8141536330917339,
          -0.840147868068639,
          -0.8650620301429416
         ],
         "y": [
          0.7961331402164898,
          0.7684097410943062,
          0.7396984937956345,
          0.7100363087756294,
          0.6794613189909875
         ]
        },
        {
         "hoverinfo": "text",
         "line": {
          "color": "#d0805f",
          "shape": "spline",
          "width": 0.25
         },
         "mode": "lines",
         "text": "T-SQL<br>1540",
         "type": "scatter",
         "x": [
          -0.8859775700449014,
          -0.9008708339612503,
          -0.9152787238293725,
          -0.9291934769206192,
          -0.9426075962001397,
          -0.9555138543661584,
          -0.9679052977439226,
          -0.9797752500322258,
          -0.9911173159004864,
          -1.0019253844344445,
          -1.0121936324286191,
          -1.021916527523754
         ],
         "y": [
          0.6519537908297888,
          0.6312144964415516,
          0.6101351143027873,
          0.588727001629933,
          0.5670016927539058,
          0.5449708929056011,
          0.5226464719093097,
          0.5000404577874572,
          0.4771650302801072,
          0.4540325142827227,
          0.4306553732057194,
          0.40704620225939026
         ]
        },
        {
         "hoverinfo": "text",
         "line": {
          "color": "#ca6f4c",
          "shape": "spline",
          "width": 0.25
         },
         "mode": "lines",
         "text": "PL/SQL<br>481",
         "type": "scatter",
         "x": [
          -1.0341979035989965,
          -1.0395360352530931,
          -1.0446544988689999,
          -1.0495522128460577,
          -1.0542281422309945
         ],
         "y": [
          0.37474617568621116,
          0.3596732286538437,
          0.3445242777987623,
          0.3293025242993801,
          0.31401118471829365
         ]
        },
        {
         "hoverinfo": "text",
         "line": {
          "color": "#c45e3a",
          "shape": "spline",
          "width": 0.25
         },
         "mode": "lines",
         "text": "Pentaho<br>625",
         "type": "scatter",
         "x": [
          -1.0635712739530803,
          -1.069293892005307,
          -1.0745341289905654,
          -1.0792896209272347,
          -1.083558222512427
         ],
         "y": [
          0.2807421329651497,
          0.2580902410401121,
          0.23532191915435147,
          0.21244743857892529,
          0.18947711847531884
         ]
        },
        {
         "hoverinfo": "text",
         "line": {
          "color": "#bf4d28",
          "shape": "spline",
          "width": 0.25
         },
         "mode": "lines",
         "text": "Hadoop<br>1232",
         "type": "scatter",
         "x": [
          -1.088975172058648,
          -1.0953275163215221,
          -1.09899700527028,
          -1.0999746509923753,
          -1.0982580588779935
         ],
         "y": [
          0.15534823668081357,
          0.10127996834974697,
          0.046963628553979855,
          -0.007467742242614613,
          -0.06188082182342065
         ]
        },
        {
         "hoverinfo": "text",
         "line": {
          "color": "#af4624",
          "shape": "spline",
          "width": 0.25
         },
         "mode": "lines",
         "text": "Spark<br>1257",
         "type": "scatter",
         "x": [
          -1.0957724112372365,
          -1.0894877468035835,
          -1.0804075959201143,
          -1.0685552570946195,
          -1.0539611419151897
         ],
         "y": [
          -0.09634740666636117,
          -0.15171173179701972,
          -0.20668678399481458,
          -0.26113150429515686,
          -0.31490619449739254
         ]
        },
        {
         "hoverinfo": "text",
         "line": {
          "color": "#9f4021",
          "shape": "spline",
          "width": 0.25
         },
         "mode": "lines",
         "text": "Informatica<br>879",
         "type": "scatter",
         "x": [
          -1.043549633107222,
          -1.0314799059918713,
          -1.0182826517265038,
          -1.003972296440415,
          -0.9885644830113942
         ],
         "y": [
          -0.34785652680635776,
          -0.38216384383533797,
          -0.4160534114664128,
          -0.4494881844722502,
          -0.48243161476878244
         ]
        },
        {
         "hoverinfo": "text",
         "line": {
          "color": "#8f391e",
          "shape": "spline",
          "width": 0.25
         },
         "mode": "lines",
         "text": "Qlik<br>2133",
         "type": "scatter",
         "x": [
          -0.9729231428912718,
          -0.9616564483596428,
          -0.9499446321410576,
          -0.9377931152810484,
          -0.9252075223492758,
          -0.912193678836087,
          -0.8987576084560723,
          -0.8849055303598685,
          -0.8706438562555036,
          -0.85597918744061,
          -0.8409183117468852,
          -0.8254682003982073,
          -0.8096360047838681,
          -0.7934290531484111,
          -0.7768548471996077,
          -0.7599210586361448,
          -0.7426355255966263,
          -0.725006249031537
         ],
         "y": [
          -0.5132451246982966,
          -0.534056996329341,
          -0.5546216691280562,
          -0.5749296243293318,
          -0.5949714619948712,
          -0.6147379053641363,
          -0.6342198051482796,
          -0.6534081437650743,
          -0.6722940395128802,
          -0.6908687506817147,
          -0.7091236795995242,
          -0.7270503766117896,
          -0.7446405439926143,
          -0.7618860397854892,
          -0.7787788815719608,
          -0.7953112501664497,
          -0.8114754932355154,
          -0.8272641288398894
         ]
        },
        {
         "hoverinfo": "text",
         "line": {
          "color": "#f0f3e7",
          "shape": "spline",
          "width": 0.25
         },
         "mode": "lines",
         "text": "Tableau<br>3016",
         "type": "scatter",
         "x": [
          -0.6986635079682049,
          -0.6804899196603971,
          -0.6620103095494759,
          -0.6432329880650944,
          -0.6241663995201107,
          -0.6048191183131119,
          -0.5851998450724382,
          -0.5653174027434413,
          -0.5451807326207311,
          -0.5247988903272082,
          -0.5041810417416744,
          -0.4833364588768638,
          -0.46227451570974365,
          -0.4410046839659619,
          -0.419536528860335,
          -0.3978797047952945,
          -0.3760439510192241,
          -0.35403908724664085,
          -0.33187500924219077,
          -0.30956168437044457,
          -0.28710914711348956,
          -0.26452749455834773,
          -0.241826881856231,
          -0.21901751765568814,
          -0.19610965951169368,
          -0.1731136092727426
         ],
         "y": [
          -0.8496289205491786,
          -0.8642531279900505,
          -0.8784886738314884,
          -0.8923291562337579,
          -0.9057683510203377,
          -0.9188002144769832,
          -0.9314188860696322,
          -0.9436186910799351,
          -0.9553941431572224,
          -0.9667399467857585,
          -0.9776509996661795,
          -0.9881223950100382,
          -0.9981494237464259,
          -1.00772757663968,
          -1.0168525463172238,
          -1.0255202292066254,
          -1.0337267273810093,
          -1.0414683503119841,
          -1.048741616529303,
          -1.0555432551865098,
          -1.0618702075318645,
          -1.067719628283888,
          -1.0730888869109085,
          -1.0779755688140342,
          -1.0823774764130154,
          -1.086292630134516
         ]
        },
        {
         "hoverinfo": "text",
         "line": {
          "color": "#e2ecde",
          "shape": "spline",
          "width": 0.25
         },
         "mode": "lines",
         "text": "Microstrategy<br>481",
         "type": "scatter",
         "x": [
          -0.13890691206319475,
          -0.12303037041804187,
          -0.10712783078995142,
          -0.09120265360084516,
          -0.07525820405627093
         ],
         "y": [
          -1.0911942401704051,
          -1.0930981328109566,
          -1.0947710390169443,
          -1.0962126052806382,
          -1.0974225269795699
         ]
        },
        {
         "hoverinfo": "text",
         "line": {
          "color": "#d4e5d6",
          "shape": "spline",
          "width": 0.25
         },
         "mode": "lines",
         "text": "Oracle BI<br>3695",
         "type": "scatter",
         "x": [
          -0.04075019407371989,
          -0.01746011944986989,
          0.0058377878071355065,
          0.029133076224649283,
          0.05241529550484326,
          0.07567400121271799,
          0.09889875946149822,
          0.12207915159328075,
          0.14520477885286628,
          0.16826526705264722,
          0.19125027122648997,
          0.21414948027049302,
          0.23695262156856978,
          0.25964946560075036,
          0.28222983053216555,
          0.30468358678062435,
          0.32700066156076546,
          0.34917104340271515,
          0.3711847866432533,
          0.3930320158874443,
          0.4147029304387598,
          0.4361878086956769,
          0.45747701251280914,
          0.47856099152458437,
          0.49943028742955864,
          0.520075538233416,
          0.5404874824487788,
          0.5606569632499163,
          0.5805749325805157,
          0.600232455212649,
          0.6196207127551271,
          0.6387310076094436
         ],
         "y": [
          -1.0992449325254832,
          -1.099861420465686,
          -1.0999845090879776,
          -1.099614143174636,
          -1.09875048887231,
          -1.0973939336174854,
          -1.0955450859626805,
          -1.0932047753034493,
          -1.0903740515063123,
          -1.0870541844377866,
          -1.0832466633947202,
          -1.078953196436193,
          -1.0741757096172777,
          -1.0689163461250113,
          -1.0631774653169552,
          -1.0569616416627872,
          -1.0502716635893885,
          -1.0431105322299548,
          -1.0354814600776794,
          -1.0273878695446292,
          -1.0188333914264418,
          -1.0098218632735498,
          -1.0003573276696458,
          -0.9904440304181791,
          -0.9800864186376774,
          -0.969289138766768,
          -0.9580570344797752,
          -0.9463951445138452,
          -0.9343087004085586,
          -0.9218031241590557,
          -0.9088840257837237,
          -0.8955572008075336
         ]
        },
        {
         "hoverinfo": "text",
         "line": {
          "color": "#c6decd",
          "shape": "spline",
          "width": 0.25
         },
         "mode": "lines",
         "text": "Python<br>2524",
         "type": "scatter",
         "x": [
          0.6665459638899011,
          0.6855721911915886,
          0.7042687879090097,
          0.7226267645146153,
          0.7406372942930967,
          0.7582917175853705,
          0.7755815459522323,
          0.7924984662556936,
          0.8090343446560286,
          0.825181230522613,
          0.8409313602566734,
          0.8562771610241122,
          0.8712112543966057,
          0.8857264598992353,
          0.899815798462937,
          0.9134724957801145,
          0.9266899855617997,
          0.9394619126947963,
          0.9517821362972869,
          0.9636447326714379,
          0.9750439981515752
         ],
         "y": [
          -0.8750522715941504,
          -0.8602271622453944,
          -0.8449884462980393,
          -0.8293434506928592,
          -0.8132996977143181,
          -0.7968649013737705,
          -0.780046963700485,
          -0.7628539709422593,
          -0.7452941896774659,
          -0.7273760628403895,
          -0.7091082056617743,
          -0.6904994015265233,
          -0.6715585977505559,
          -0.6522949012788376,
          -0.6327175743066628,
          -0.6128360298262896,
          -0.5926598271010712,
          -0.5721986670692577,
          -0.5514623876796795,
          -0.5304609591615516,
          -0.5092044792306832
         ]
        },
        {
         "hoverinfo": "text",
         "line": {
          "color": "#b8d7c5",
          "shape": "spline",
          "width": 0.25
         },
         "mode": "lines",
         "text": "VBA<br>889",
         "type": "scatter",
         "x": [
          0.9905573720163504,
          1.0060355739703128,
          1.0203828816848055,
          1.0335831672135947,
          1.0456215919890886
         ],
         "y": [
          -0.4783263454421698,
          -0.44485101315634146,
          -0.4108756195792255,
          -0.37643835677666365,
          -0.3415779360061245
         ]
        },
        {
         "hoverinfo": "text",
         "line": {
          "color": "#aad0bc",
          "shape": "spline",
          "width": 0.25
         },
         "mode": "lines",
         "text": "Linux<br>894",
         "type": "scatter",
         "x": [
          1.055834863107447,
          1.0656489930834951,
          1.0742485295453614,
          1.081623671009368,
          1.0877660115191012
         ],
         "y": [
          -0.3085656200014494,
          -0.27274937862465065,
          -0.2366222660056081,
          -0.20022545870148087,
          -0.16360044065902293
         ]
        },
        {
         "hoverinfo": "text",
         "line": {
          "color": "#9cc9b4",
          "shape": "spline",
          "width": 0.25
         },
         "mode": "lines",
         "text": "AWS<br>633",
         "type": "scatter",
         "x": [
          1.0923680786828238,
          1.0949083628079803,
          1.096937239013931,
          1.0984537596566588,
          1.0994572164023046
         ],
         "y": [
          -0.12935215759621518,
          -0.1057150748623317,
          -0.08202861491269163,
          -0.05830384117836064,
          -0.03455183498594413
         ]
        },
        {
         "hoverinfo": "text",
         "marker": {
          "color": "green",
          "size": 0.5
         },
         "mode": "markers",
         "text": "Power BI appears with Excel 274 times",
         "type": "scatter",
         "x": [
          0.865481302131105
         ],
         "y": [
          0.24686456947372398
         ]
        },
        {
         "hoverinfo": "text",
         "marker": {
          "color": "blue",
          "size": 0.5
         },
         "mode": "markers",
         "text": "Excel appears with Power BI 274 times",
         "type": "scatter",
         "x": [
          0.761037328793065
         ],
         "y": [
          0.4804395739148852
         ]
        },
        {
         "hoverinfo": "text",
         "marker": {
          "color": "green",
          "size": 0.5
         },
         "mode": "markers",
         "text": "Power BI appears with SSIS/SSRS 171 times",
         "type": "scatter",
         "x": [
          0.8935139052899213
         ],
         "y": [
          0.10785592729912347
         ]
        },
        {
         "hoverinfo": "text",
         "marker": {
          "color": "blue",
          "size": 0.5
         },
         "mode": "markers",
         "text": "SSIS/SSRS appears with Power BI 171 times",
         "type": "scatter",
         "x": [
          0.14343763375964144
         ],
         "y": [
          0.8884962831781767
         ]
        },
        {
         "hoverinfo": "text",
         "marker": {
          "color": "green",
          "size": 0.5
         },
         "mode": "markers",
         "text": "Power BI appears with MS SQL Server 168 times",
         "type": "scatter",
         "x": [
          0.8962309475316962
         ],
         "y": [
          0.08228054865178065
         ]
        },
        {
         "hoverinfo": "text",
         "marker": {
          "color": "blue",
          "size": 0.5
         },
         "mode": "markers",
         "text": "MS SQL Server appears with Power BI 168 times",
         "type": "scatter",
         "x": [
          -0.3641447695238377
         ],
         "y": [
          0.8230422752376886
         ]
        },
        {
         "hoverinfo": "text",
         "marker": {
          "color": "green",
          "size": 0.5
         },
         "mode": "markers",
         "text": "Power BI appears with MySQL/MariaDB 5 times",
         "type": "scatter",
         "x": [
          0.8999999200504739
         ],
         "y": [
          0.0003793535824698515
         ]
        },
        {
         "hoverinfo": "text",
         "marker": {
          "color": "blue",
          "size": 0.5
         },
         "mode": "markers",
         "text": "MySQL/MariaDB appears with Power BI 5 times",
         "type": "scatter",
         "x": [
          -0.6215960623181702
         ],
         "y": [
          0.6508596894189602
         ]
        },
        {
         "hoverinfo": "text",
         "marker": {
          "color": "green",
          "size": 0.5
         },
         "mode": "markers",
         "text": "Power BI appears with T-SQL 77 times",
         "type": "scatter",
         "x": [
          0.8988219641492287
         ],
         "y": [
          0.04603343092712875
         ]
        },
        {
         "hoverinfo": "text",
         "marker": {
          "color": "blue",
          "size": 0.5
         },
         "mode": "markers",
         "text": "T-SQL appears with Power BI 77 times",
         "type": "scatter",
         "x": [
          -0.7679362999995678
         ],
         "y": [
          0.4693333987081825
         ]
        },
        {
         "hoverinfo": "text",
         "marker": {
          "color": "green",
          "size": 0.5
         },
         "mode": "markers",
         "text": "Power BI appears with PL/SQL 11 times",
         "type": "scatter",
         "x": [
          0.8999956219674371
         ],
         "y": [
          0.0028072120415161585
         ]
        },
        {
         "hoverinfo": "text",
         "marker": {
          "color": "blue",
          "size": 0.5
         },
         "mode": "markers",
         "text": "PL/SQL appears with Power BI 11 times",
         "type": "scatter",
         "x": [
          -0.8479085709593152
         ],
         "y": [
          0.30174667403922145
         ]
        },
        {
         "hoverinfo": "text",
         "marker": {
          "color": "green",
          "size": 0.5
         },
         "mode": "markers",
         "text": "Power BI appears with Pentaho 12 times",
         "type": "scatter",
         "x": [
          0.8999884872926206
         ],
         "y": [
          0.004552223713809321
         ]
        },
        {
         "hoverinfo": "text",
         "marker": {
          "color": "blue",
          "size": 0.5
         },
         "mode": "markers",
         "text": "Pentaho appears with Power BI 12 times",
         "type": "scatter",
         "x": [
          -0.8711241678760487
         ],
         "y": [
          0.22614748316587913
         ]
        },
        {
         "hoverinfo": "text",
         "marker": {
          "color": "green",
          "size": 0.5
         },
         "mode": "markers",
         "text": "Power BI appears with Hadoop 51 times",
         "type": "scatter",
         "x": [
          0.8995786381127011
         ],
         "y": [
          0.027536772710286688
         ]
        },
        {
         "hoverinfo": "text",
         "marker": {
          "color": "blue",
          "size": 0.5
         },
         "mode": "markers",
         "text": "Hadoop appears with Power BI 51 times",
         "type": "scatter",
         "x": [
          -0.8935877300680858
         ],
         "y": [
          0.10724256930792861
         ]
        },
        {
         "hoverinfo": "text",
         "marker": {
          "color": "green",
          "size": 0.5
         },
         "mode": "markers",
         "text": "Power BI appears with Spark 58 times",
         "type": "scatter",
         "x": [
          0.8992876349754613
         ],
         "y": [
          0.03580153041758962
         ]
        },
        {
         "hoverinfo": "text",
         "marker": {
          "color": "blue",
          "size": 0.5
         },
         "mode": "markers",
         "text": "Spark appears with Power BI 58 times",
         "type": "scatter",
         "x": [
          -0.8930747242180874
         ],
         "y": [
          -0.11143400272263042
         ]
        },
        {
         "hoverinfo": "text",
         "marker": {
          "color": "green",
          "size": 0.5
         },
         "mode": "markers",
         "text": "Power BI appears with Informatica 26 times",
         "type": "scatter",
         "x": [
          0.8999508282905162
         ],
         "y": [
          0.00940779778767939
         ]
        },
        {
         "hoverinfo": "text",
         "marker": {
          "color": "blue",
          "size": 0.5
         },
         "mode": "markers",
         "text": "Informatica appears with Power BI 26 times",
         "type": "scatter",
         "x": [
          -0.84853572642455
         ],
         "y": [
          -0.29997853420063453
         ]
        },
        {
         "hoverinfo": "text",
         "marker": {
          "color": "green",
          "size": 0.5
         },
         "mode": "markers",
         "text": "Power BI appears with Qlik 225 times",
         "type": "scatter",
         "x": [
          0.8894161728493116
         ],
         "y": [
          0.13761857241696507
         ]
        },
        {
         "hoverinfo": "text",
         "marker": {
          "color": "blue",
          "size": 0.5
         },
         "mode": "markers",
         "text": "Qlik appears with Power BI 225 times",
         "type": "scatter",
         "x": [
          -0.7367966961651021
         ],
         "y": [
          -0.516846813398506
         ]
        },
        {
         "hoverinfo": "text",
         "marker": {
          "color": "green",
          "size": 0.5
         },
         "mode": "markers",
         "text": "Power BI appears with Tableau 254 times",
         "type": "scatter",
         "x": [
          0.8756086090379447
         ],
         "y": [
          0.20810949949157953
         ]
        },
        {
         "hoverinfo": "text",
         "marker": {
          "color": "blue",
          "size": 0.5
         },
         "mode": "markers",
         "text": "Tableau appears with Power BI 254 times",
         "type": "scatter",
         "x": [
          -0.3781786645902214
         ],
         "y": [
          -0.8166889846500667
         ]
        },
        {
         "hoverinfo": "text",
         "marker": {
          "color": "green",
          "size": 0.5
         },
         "mode": "markers",
         "text": "Power BI appears with Microstrategy 37 times",
         "type": "scatter",
         "x": [
          0.8998881721151653
         ],
         "y": [
          0.014187236772066252
         ]
        },
        {
         "hoverinfo": "text",
         "marker": {
          "color": "blue",
          "size": 0.5
         },
         "mode": "markers",
         "text": "Microstrategy appears with Power BI 37 times",
         "type": "scatter",
         "x": [
          -0.09468558298897459
         ],
         "y": [
          -0.895005385667616
         ]
        },
        {
         "hoverinfo": "text",
         "marker": {
          "color": "green",
          "size": 0.5
         },
         "mode": "markers",
         "text": "Power BI appears with Oracle BI 234 times",
         "type": "scatter",
         "x": [
          0.8834267317799362
         ],
         "y": [
          0.17192210322300186
         ]
        },
        {
         "hoverinfo": "text",
         "marker": {
          "color": "blue",
          "size": 0.5
         },
         "mode": "markers",
         "text": "Oracle BI appears with Power BI 234 times",
         "type": "scatter",
         "x": [
          0.2109612663935639
         ],
         "y": [
          -0.874925907766837
         ]
        },
        {
         "hoverinfo": "text",
         "marker": {
          "color": "green",
          "size": 0.5
         },
         "mode": "markers",
         "text": "Power BI appears with Python 117 times",
         "type": "scatter",
         "x": [
          0.8979489516452989
         ],
         "y": [
          0.06072627305465792
         ]
        },
        {
         "hoverinfo": "text",
         "marker": {
          "color": "blue",
          "size": 0.5
         },
         "mode": "markers",
         "text": "Python appears with Power BI 117 times",
         "type": "scatter",
         "x": [
          0.6008360541952814
         ],
         "y": [
          -0.6700716648083583
         ]
        },
        {
         "hoverinfo": "text",
         "marker": {
          "color": "green",
          "size": 0.5
         },
         "mode": "markers",
         "text": "Power BI appears with VBA 44 times",
         "type": "scatter",
         "x": [
          0.8997703179760764
         ],
         "y": [
          0.020331622887271875
         ]
        },
        {
         "hoverinfo": "text",
         "marker": {
          "color": "blue",
          "size": 0.5
         },
         "mode": "markers",
         "text": "VBA appears with Power BI 44 times",
         "type": "scatter",
         "x": [
          0.8208390753218239
         ],
         "y": [
          -0.36908428905171947
         ]
        },
        {
         "hoverinfo": "text",
         "marker": {
          "color": "green",
          "size": 0.5
         },
         "mode": "markers",
         "text": "Power BI appears with Linux 13 times",
         "type": "scatter",
         "x": [
          0.8999768946854868
         ],
         "y": [
          0.006448955905287755
         ]
        },
        {
         "hoverinfo": "text",
         "marker": {
          "color": "blue",
          "size": 0.5
         },
         "mode": "markers",
         "text": "Linux appears with Power BI 13 times",
         "type": "scatter",
         "x": [
          0.8649437890937014
         ],
         "y": [
          -0.2487413148397963
         ]
        },
        {
         "hoverinfo": "text",
         "marker": {
          "color": "green",
          "size": 0.5
         },
         "mode": "markers",
         "text": "Power BI appears with AWS 8 times",
         "type": "scatter",
         "x": [
          0.8999989638543257
         ],
         "y": [
          0.001365672413242832
         ]
        },
        {
         "hoverinfo": "text",
         "marker": {
          "color": "blue",
          "size": 0.5
         },
         "mode": "markers",
         "text": "AWS appears with Power BI 8 times",
         "type": "scatter",
         "x": [
          0.8940977911618936
         ],
         "y": [
          -0.10290354629177209
         ]
        },
        {
         "hoverinfo": "text",
         "marker": {
          "color": "green",
          "size": 0.5
         },
         "mode": "markers",
         "text": "Excel appears with SSIS/SSRS 699 times",
         "type": "scatter",
         "x": [
          0.46728789680531835
         ],
         "y": [
          0.7691826970877998
         ]
        },
        {
         "hoverinfo": "text",
         "marker": {
          "color": "blue",
          "size": 0.5
         },
         "mode": "markers",
         "text": "SSIS/SSRS appears with Excel 699 times",
         "type": "scatter",
         "x": [
          -0.12721168444154074
         ],
         "y": [
          0.8909641897077266
         ]
        },
        {
         "hoverinfo": "text",
         "marker": {
          "color": "green",
          "size": 0.5
         },
         "mode": "markers",
         "text": "Excel appears with MS SQL Server 289 times",
         "type": "scatter",
         "x": [
          0.7357494136756184
         ],
         "y": [
          0.5183365704597582
         ]
        },
        {
         "hoverinfo": "text",
         "marker": {
          "color": "blue",
          "size": 0.5
         },
         "mode": "markers",
         "text": "MS SQL Server appears with Excel 289 times",
         "type": "scatter",
         "x": [
          -0.45552844281981697
         ],
         "y": [
          0.7762047653693919
         ]
        },
        {
         "hoverinfo": "text",
         "marker": {
          "color": "green",
          "size": 0.5
         },
         "mode": "markers",
         "text": "Excel appears with PostgreSQL 79 times",
         "type": "scatter",
         "x": [
          0.83370085352857
         ],
         "y": [
          0.3390322799170218
         ]
        },
        {
         "hoverinfo": "text",
         "marker": {
          "color": "blue",
          "size": 0.5
         },
         "mode": "markers",
         "text": "PostgreSQL appears with Excel 79 times",
         "type": "scatter",
         "x": [
          -0.576020879399231
         ],
         "y": [
          0.6915200260991264
         ]
        },
        {
         "hoverinfo": "text",
         "marker": {
          "color": "green",
          "size": 0.5
         },
         "mode": "markers",
         "text": "Excel appears with MySQL/MariaDB 149 times",
         "type": "scatter",
         "x": [
          0.7941732595278865
         ],
         "y": [
          0.423425121893886
         ]
        },
        {
         "hoverinfo": "text",
         "marker": {
          "color": "blue",
          "size": 0.5
         },
         "mode": "markers",
         "text": "MySQL/MariaDB appears with Excel 149 times",
         "type": "scatter",
         "x": [
          -0.7014062193719471
         ],
         "y": [
          0.5639408793715455
         ]
        },
        {
         "hoverinfo": "text",
         "marker": {
          "color": "green",
          "size": 0.5
         },
         "mode": "markers",
         "text": "Excel appears with T-SQL 196 times",
         "type": "scatter",
         "x": [
          0.7806570251966031
         ],
         "y": [
          0.4478555671320726
         ]
        },
        {
         "hoverinfo": "text",
         "marker": {
          "color": "blue",
          "size": 0.5
         },
         "mode": "markers",
         "text": "T-SQL appears with Excel 196 times",
         "type": "scatter",
         "x": [
          -0.8175252249533157
         ],
         "y": [
          0.3763675152892857
         ]
        },
        {
         "hoverinfo": "text",
         "marker": {
          "color": "green",
          "size": 0.5
         },
         "mode": "markers",
         "text": "Excel appears with PL/SQL 69 times",
         "type": "scatter",
         "x": [
          0.842200560501049
         ],
         "y": [
          0.3173298219388134
         ]
        },
        {
         "hoverinfo": "text",
         "marker": {
          "color": "blue",
          "size": 0.5
         },
         "mode": "markers",
         "text": "PL/SQL appears with Excel 69 times",
         "type": "scatter",
         "x": [
          -0.8557002747330392
         ],
         "y": [
          0.2788853524690771
         ]
        },
        {
         "hoverinfo": "text",
         "marker": {
          "color": "green",
          "size": 0.5
         },
         "mode": "markers",
         "text": "Excel appears with Pentaho 68 times",
         "type": "scatter",
         "x": [
          0.8460459069727795
         ],
         "y": [
          0.3069304860951532
         ]
        },
        {
         "hoverinfo": "text",
         "marker": {
          "color": "blue",
          "size": 0.5
         },
         "mode": "markers",
         "text": "Pentaho appears with Excel 68 times",
         "type": "scatter",
         "x": [
          -0.884221865546778
         ],
         "y": [
          0.16778466106583095
         ]
        },
        {
         "hoverinfo": "text",
         "marker": {
          "color": "green",
          "size": 0.5
         },
         "mode": "markers",
         "text": "Excel appears with Hadoop 116 times",
         "type": "scatter",
         "x": [
          0.8210688784284179
         ],
         "y": [
          0.3685727836890563
         ]
        },
        {
         "hoverinfo": "text",
         "marker": {
          "color": "blue",
          "size": 0.5
         },
         "mode": "markers",
         "text": "Hadoop appears with Excel 116 times",
         "type": "scatter",
         "x": [
          -0.8990177385785341
         ],
         "y": [
          0.04203695661127926
         ]
        },
        {
         "hoverinfo": "text",
         "marker": {
          "color": "green",
          "size": 0.5
         },
         "mode": "markers",
         "text": "Excel appears with Spark 121 times",
         "type": "scatter",
         "x": [
          0.8130280327726592
         ],
         "y": [
          0.38598629240663423
         ]
        },
        {
         "hoverinfo": "text",
         "marker": {
          "color": "blue",
          "size": 0.5
         },
         "mode": "markers",
         "text": "Spark appears with Excel 121 times",
         "type": "scatter",
         "x": [
          -0.8813352739486029
         ],
         "y": [
          -0.18234071101633076
         ]
        },
        {
         "hoverinfo": "text",
         "marker": {
          "color": "green",
          "size": 0.5
         },
         "mode": "markers",
         "text": "Excel appears with Informatica 124 times",
         "type": "scatter",
         "x": [
          0.804327642995364
         ],
         "y": [
          0.4038032227626748
         ]
        },
        {
         "hoverinfo": "text",
         "marker": {
          "color": "blue",
          "size": 0.5
         },
         "mode": "markers",
         "text": "Informatica appears with Excel 124 times",
         "type": "scatter",
         "x": [
          -0.8206136800759134
         ],
         "y": [
          -0.36958515672611425
         ]
        },
        {
         "hoverinfo": "text",
         "marker": {
          "color": "green",
          "size": 0.5
         },
         "mode": "markers",
         "text": "Excel appears with Qlik 484 times",
         "type": "scatter",
         "x": [
          0.6113144820003996
         ],
         "y": [
          0.6605260056171771
         ]
        },
        {
         "hoverinfo": "text",
         "marker": {
          "color": "blue",
          "size": 0.5
         },
         "mode": "markers",
         "text": "Qlik appears with Excel 484 times",
         "type": "scatter",
         "x": [
          -0.6207552147809238
         ],
         "y": [
          -0.6516616939196973
         ]
        },
        {
         "hoverinfo": "text",
         "marker": {
          "color": "green",
          "size": 0.5
         },
         "mode": "markers",
         "text": "Excel appears with Tableau 525 times",
         "type": "scatter",
         "x": [
          0.5489506441763077
         ],
         "y": [
          0.7131992640618867
         ]
        },
        {
         "hoverinfo": "text",
         "marker": {
          "color": "blue",
          "size": 0.5
         },
         "mode": "markers",
         "text": "Tableau appears with Excel 525 times",
         "type": "scatter",
         "x": [
          -0.26337995415853116
         ],
         "y": [
          -0.8605992097064986
         ]
        },
        {
         "hoverinfo": "text",
         "marker": {
          "color": "green",
          "size": 0.5
         },
         "mode": "markers",
         "text": "Excel appears with Microstrategy 53 times",
         "type": "scatter",
         "x": [
          0.8493353951673085
         ],
         "y": [
          0.2977068801959269
         ]
        },
        {
         "hoverinfo": "text",
         "marker": {
          "color": "blue",
          "size": 0.5
         },
         "mode": "markers",
         "text": "Microstrategy appears with Excel 53 times",
         "type": "scatter",
         "x": [
          -0.07995890043734985
         ],
         "y": [
          -0.8964410601042603
         ]
        },
        {
         "hoverinfo": "text",
         "marker": {
          "color": "green",
          "size": 0.5
         },
         "mode": "markers",
         "text": "Excel appears with Oracle BI 744 times",
         "type": "scatter",
         "x": [
          0.3638303071018918
         ],
         "y": [
          0.8231813333853867
         ]
        },
        {
         "hoverinfo": "text",
         "marker": {
          "color": "blue",
          "size": 0.5
         },
         "mode": "markers",
         "text": "Oracle BI appears with Excel 744 times",
         "type": "scatter",
         "x": [
          0.473055579682217
         ],
         "y": [
          -0.7656490178479443
         ]
        },
        {
         "hoverinfo": "text",
         "marker": {
          "color": "green",
          "size": 0.5
         },
         "mode": "markers",
         "text": "Excel appears with Python 470 times",
         "type": "scatter",
         "x": [
          0.6656615414035286
         ],
         "y": [
          0.605718344031513
         ]
        },
        {
         "hoverinfo": "text",
         "marker": {
          "color": "blue",
          "size": 0.5
         },
         "mode": "markers",
         "text": "Python appears with Excel 470 times",
         "type": "scatter",
         "x": [
          0.7800913942280292
         ],
         "y": [
          -0.4488400791499903
         ]
        },
        {
         "hoverinfo": "text",
         "marker": {
          "color": "green",
          "size": 0.5
         },
         "mode": "markers",
         "text": "Excel appears with VBA 313 times",
         "type": "scatter",
         "x": [
          0.7066256902727519
         ],
         "y": [
          0.5573868798658225
         ]
        },
        {
         "hoverinfo": "text",
         "marker": {
          "color": "blue",
          "size": 0.5
         },
         "mode": "markers",
         "text": "VBA appears with Excel 313 times",
         "type": "scatter",
         "x": [
          0.8486723807754422
         ],
         "y": [
          -0.29959170567447785
         ]
        },
        {
         "hoverinfo": "text",
         "marker": {
          "color": "green",
          "size": 0.5
         },
         "mode": "markers",
         "text": "Excel appears with Linux 101 times",
         "type": "scatter",
         "x": [
          0.8281042223365025
         ],
         "y": [
          0.3524817682497303
         ]
        },
        {
         "hoverinfo": "text",
         "marker": {
          "color": "blue",
          "size": 0.5
         },
         "mode": "markers",
         "text": "Linux appears with Excel 101 times",
         "type": "scatter",
         "x": [
          0.8792946149013019
         ],
         "y": [
          -0.19194004325718783
         ]
        },
        {
         "hoverinfo": "text",
         "marker": {
          "color": "green",
          "size": 0.5
         },
         "mode": "markers",
         "text": "Excel appears with AWS 70 times",
         "type": "scatter",
         "x": [
          0.8381684480411883
         ],
         "y": [
          0.32783174450962776
         ]
        },
        {
         "hoverinfo": "text",
         "marker": {
          "color": "blue",
          "size": 0.5
         },
         "mode": "markers",
         "text": "AWS appears with Excel 70 times",
         "type": "scatter",
         "x": [
          0.8973594395159457
         ],
         "y": [
          -0.06889148214132104
         ]
        },
        {
         "hoverinfo": "text",
         "marker": {
          "color": "green",
          "size": 0.5
         },
         "mode": "markers",
         "text": "SSIS/SSRS appears with MS SQL Server 313 times",
         "type": "scatter",
         "x": [
          0.008285300573287847
         ],
         "y": [
          0.8999618624110748
         ]
        },
        {
         "hoverinfo": "text",
         "marker": {
          "color": "blue",
          "size": 0.5
         },
         "mode": "markers",
         "text": "MS SQL Server appears with SSIS/SSRS 313 times",
         "type": "scatter",
         "x": [
          -0.49503993437841787
         ],
         "y": [
          0.7516218885653955
         ]
        },
        {
         "hoverinfo": "text",
         "marker": {
          "color": "green",
          "size": 0.5
         },
         "mode": "markers",
         "text": "SSIS/SSRS appears with PostgreSQL 66 times",
         "type": "scatter",
         "x": [
          0.2545636068326068
         ],
         "y": [
          0.8632481509255459
         ]
        },
        {
         "hoverinfo": "text",
         "marker": {
          "color": "blue",
          "size": 0.5
         },
         "mode": "markers",
         "text": "PostgreSQL appears with SSIS/SSRS 66 times",
         "type": "scatter",
         "x": [
          -0.569083875725462
         ],
         "y": [
          0.6972399460654036
         ]
        },
        {
         "hoverinfo": "text",
         "marker": {
          "color": "green",
          "size": 0.5
         },
         "mode": "markers",
         "text": "SSIS/SSRS appears with MySQL/MariaDB 91 times",
         "type": "scatter",
         "x": [
          0.19758925850743844
         ],
         "y": [
          0.8780424163572513
         ]
        },
        {
         "hoverinfo": "text",
         "marker": {
          "color": "blue",
          "size": 0.5
         },
         "mode": "markers",
         "text": "MySQL/MariaDB appears with SSIS/SSRS 91 times",
         "type": "scatter",
         "x": [
          -0.6708199996376558
         ],
         "y": [
          0.6000004400716181
         ]
        },
        {
         "hoverinfo": "text",
         "marker": {
          "color": "green",
          "size": 0.5
         },
         "mode": "markers",
         "text": "SSIS/SSRS appears with T-SQL 173 times",
         "type": "scatter",
         "x": [
          0.11653885136979798
         ],
         "y": [
          0.8924229356764696
         ]
        },
        {
         "hoverinfo": "text",
         "marker": {
          "color": "blue",
          "size": 0.5
         },
         "mode": "markers",
         "text": "T-SQL appears with SSIS/SSRS 173 times",
         "type": "scatter",
         "x": [
          -0.7930188508544335
         ],
         "y": [
          0.4255832494230873
         ]
        },
        {
         "hoverinfo": "text",
         "marker": {
          "color": "green",
          "size": 0.5
         },
         "mode": "markers",
         "text": "SSIS/SSRS appears with PL/SQL 71 times",
         "type": "scatter",
         "x": [
          0.23364673963796873
         ],
         "y": [
          0.8691427967006039
         ]
        },
        {
         "hoverinfo": "text",
         "marker": {
          "color": "blue",
          "size": 0.5
         },
         "mode": "markers",
         "text": "PL/SQL appears with SSIS/SSRS 71 times",
         "type": "scatter",
         "x": [
          -0.8580295774736773
         ],
         "y": [
          0.2716343943250613
         ]
        },
        {
         "hoverinfo": "text",
         "marker": {
          "color": "green",
          "size": 0.5
         },
         "mode": "markers",
         "text": "SSIS/SSRS appears with Pentaho 39 times",
         "type": "scatter",
         "x": [
          0.2687030382058919
         ],
         "y": [
          0.8589520808863106
         ]
        },
        {
         "hoverinfo": "text",
         "marker": {
          "color": "blue",
          "size": 0.5
         },
         "mode": "markers",
         "text": "Pentaho appears with SSIS/SSRS 39 times",
         "type": "scatter",
         "x": [
          -0.8756530253149702
         ],
         "y": [
          0.2079225318640097
         ]
        },
        {
         "hoverinfo": "text",
         "marker": {
          "color": "green",
          "size": 0.5
         },
         "mode": "markers",
         "text": "SSIS/SSRS appears with Hadoop 72 times",
         "type": "scatter",
         "x": [
          0.22271535806002077
         ],
         "y": [
          0.8720079525349507
         ]
        },
        {
         "hoverinfo": "text",
         "marker": {
          "color": "blue",
          "size": 0.5
         },
         "mode": "markers",
         "text": "Hadoop appears with SSIS/SSRS 72 times",
         "type": "scatter",
         "x": [
          -0.8954678210714601
         ],
         "y": [
          0.09020743553350616
         ]
        },
        {
         "hoverinfo": "text",
         "marker": {
          "color": "green",
          "size": 0.5
         },
         "mode": "markers",
         "text": "SSIS/SSRS appears with Spark 69 times",
         "type": "scatter",
         "x": [
          0.2443131176317167
         ],
         "y": [
          0.8662049991503575
         ]
        },
        {
         "hoverinfo": "text",
         "marker": {
          "color": "blue",
          "size": 0.5
         },
         "mode": "markers",
         "text": "Spark appears with SSIS/SSRS 69 times",
         "type": "scatter",
         "x": [
          -0.8905329527854497
         ],
         "y": [
          -0.13019623651714293
         ]
        },
        {
         "hoverinfo": "text",
         "marker": {
          "color": "green",
          "size": 0.5
         },
         "mode": "markers",
         "text": "SSIS/SSRS appears with Informatica 82 times",
         "type": "scatter",
         "x": [
          0.21090388191226928
         ],
         "y": [
          0.8749397422647662
         ]
        },
        {
         "hoverinfo": "text",
         "marker": {
          "color": "blue",
          "size": 0.5
         },
         "mode": "markers",
         "text": "Informatica appears with SSIS/SSRS 82 times",
         "type": "scatter",
         "x": [
          -0.8358534943984101
         ],
         "y": [
          -0.33368987983150933
         ]
        },
        {
         "hoverinfo": "text",
         "marker": {
          "color": "green",
          "size": 0.5
         },
         "mode": "markers",
         "text": "SSIS/SSRS appears with Qlik 108 times",
         "type": "scatter",
         "x": [
          0.18221739783658517
         ],
         "y": [
          0.8813607773923592
         ]
        },
        {
         "hoverinfo": "text",
         "marker": {
          "color": "blue",
          "size": 0.5
         },
         "mode": "markers",
         "text": "Qlik appears with SSIS/SSRS 108 times",
         "type": "scatter",
         "x": [
          -0.751250535507121
         ],
         "y": [
          -0.4956033019464902
         ]
        },
        {
         "hoverinfo": "text",
         "marker": {
          "color": "green",
          "size": 0.5
         },
         "mode": "markers",
         "text": "SSIS/SSRS appears with Tableau 226 times",
         "type": "scatter",
         "x": [
          0.05085327835162385
         ],
         "y": [
          0.8985621537105223
         ]
        },
        {
         "hoverinfo": "text",
         "marker": {
          "color": "blue",
          "size": 0.5
         },
         "mode": "markers",
         "text": "Tableau appears with SSIS/SSRS 226 times",
         "type": "scatter",
         "x": [
          -0.41228676931358754
         ],
         "y": [
          -0.8000122623116253
         ]
        },
        {
         "hoverinfo": "text",
         "marker": {
          "color": "green",
          "size": 0.5
         },
         "mode": "markers",
         "text": "SSIS/SSRS appears with Microstrategy 41 times",
         "type": "scatter",
         "x": [
          0.2626627286526799
         ],
         "y": [
          0.8608183844323544
         ]
        },
        {
         "hoverinfo": "text",
         "marker": {
          "color": "blue",
          "size": 0.5
         },
         "mode": "markers",
         "text": "Microstrategy appears with SSIS/SSRS 41 times",
         "type": "scatter",
         "x": [
          -0.09046493296926168
         ],
         "y": [
          -0.8954418439535127
         ]
        },
        {
         "hoverinfo": "text",
         "marker": {
          "color": "green",
          "size": 0.5
         },
         "mode": "markers",
         "text": "SSIS/SSRS appears with Oracle BI 354 times",
         "type": "scatter",
         "x": [
          -0.04440681861810473
         ],
         "y": [
          0.8989037959983364
         ]
        },
        {
         "hoverinfo": "text",
         "marker": {
          "color": "blue",
          "size": 0.5
         },
         "mode": "markers",
         "text": "Oracle BI appears with SSIS/SSRS 354 times",
         "type": "scatter",
         "x": [
          0.2563619113663346
         ],
         "y": [
          -0.8627158109137676
         ]
        },
        {
         "hoverinfo": "text",
         "marker": {
          "color": "green",
          "size": 0.5
         },
         "mode": "markers",
         "text": "SSIS/SSRS appears with Python 218 times",
         "type": "scatter",
         "x": [
          0.08583720626438479
         ],
         "y": [
          0.8958973010455638
         ]
        },
        {
         "hoverinfo": "text",
         "marker": {
          "color": "blue",
          "size": 0.5
         },
         "mode": "markers",
         "text": "Python appears with SSIS/SSRS 218 times",
         "type": "scatter",
         "x": [
          0.7071003823685063
         ],
         "y": [
          -0.5567845626939673
         ]
        },
        {
         "hoverinfo": "text",
         "marker": {
          "color": "green",
          "size": 0.5
         },
         "mode": "markers",
         "text": "SSIS/SSRS appears with VBA 110 times",
         "type": "scatter",
         "x": [
          0.16531418895968855
         ],
         "y": [
          0.8846870740146486
         ]
        },
        {
         "hoverinfo": "text",
         "marker": {
          "color": "blue",
          "size": 0.5
         },
         "mode": "markers",
         "text": "VBA appears with SSIS/SSRS 110 times",
         "type": "scatter",
         "x": [
          0.8386827933309332
         ],
         "y": [
          -0.3265136630688264
         ]
        },
        {
         "hoverinfo": "text",
         "marker": {
          "color": "green",
          "size": 0.5
         },
         "mode": "markers",
         "text": "SSIS/SSRS appears with Linux 26 times",
         "type": "scatter",
         "x": [
          0.2793166217948254
         ],
         "y": [
          0.8555595974501873
         ]
        },
        {
         "hoverinfo": "text",
         "marker": {
          "color": "blue",
          "size": 0.5
         },
         "mode": "markers",
         "text": "Linux appears with SSIS/SSRS 26 times",
         "type": "scatter",
         "x": [
          0.8667063218200297
         ],
         "y": [
          -0.2425286616406296
         ]
        },
        {
         "hoverinfo": "text",
         "marker": {
          "color": "green",
          "size": 0.5
         },
         "mode": "markers",
         "text": "SSIS/SSRS appears with AWS 38 times",
         "type": "scatter",
         "x": [
          0.27450431733693137
         ],
         "y": [
          0.8571157330042339
         ]
        },
        {
         "hoverinfo": "text",
         "marker": {
          "color": "blue",
          "size": 0.5
         },
         "mode": "markers",
         "text": "AWS appears with SSIS/SSRS 38 times",
         "type": "scatter",
         "x": [
          0.8957718684940627
         ],
         "y": [
          -0.08713644251778806
         ]
        },
        {
         "hoverinfo": "text",
         "marker": {
          "color": "green",
          "size": 0.5
         },
         "mode": "markers",
         "text": "MS SQL Server appears with PostgreSQL 104 times",
         "type": "scatter",
         "x": [
          -0.2873602367371026
         ],
         "y": [
          0.8528916076163467
         ]
        },
        {
         "hoverinfo": "text",
         "marker": {
          "color": "blue",
          "size": 0.5
         },
         "mode": "markers",
         "text": "PostgreSQL appears with MS SQL Server 104 times",
         "type": "scatter",
         "x": [
          -0.5846937098947673
         ],
         "y": [
          0.6842026495194927
         ]
        },
        {
         "hoverinfo": "text",
         "marker": {
          "color": "green",
          "size": 0.5
         },
         "mode": "markers",
         "text": "MS SQL Server appears with MySQL/MariaDB 109 times",
         "type": "scatter",
         "x": [
          -0.30291611580520833
         ],
         "y": [
          0.8474914906861812
         ]
        },
        {
         "hoverinfo": "text",
         "marker": {
          "color": "blue",
          "size": 0.5
         },
         "mode": "markers",
         "text": "MySQL/MariaDB appears with MS SQL Server 109 times",
         "type": "scatter",
         "x": [
          -0.6799060830488994
         ],
         "y": [
          0.5896844225796566
         ]
        },
        {
         "hoverinfo": "text",
         "marker": {
          "color": "green",
          "size": 0.5
         },
         "mode": "markers",
         "text": "MS SQL Server appears with T-SQL 218 times",
         "type": "scatter",
         "x": [
          -0.42130303273909836
         ],
         "y": [
          0.7953010465256778
         ]
        },
        {
         "hoverinfo": "text",
         "marker": {
          "color": "blue",
          "size": 0.5
         },
         "mode": "markers",
         "text": "T-SQL appears with MS SQL Server 218 times",
         "type": "scatter",
         "x": [
          -0.8299585280586822
         ],
         "y": [
          0.3480931508988159
         ]
        },
        {
         "hoverinfo": "text",
         "marker": {
          "color": "green",
          "size": 0.5
         },
         "mode": "markers",
         "text": "MS SQL Server appears with PL/SQL 14 times",
         "type": "scatter",
         "x": [
          -0.21027330501226157
         ],
         "y": [
          0.8750915021866116
         ]
        },
        {
         "hoverinfo": "text",
         "marker": {
          "color": "blue",
          "size": 0.5
         },
         "mode": "markers",
         "text": "PL/SQL appears with MS SQL Server 14 times",
         "type": "scatter",
         "x": [
          -0.8483635712897603
         ],
         "y": [
          0.30046505771634063
         ]
        },
        {
         "hoverinfo": "text",
         "marker": {
          "color": "green",
          "size": 0.5
         },
         "mode": "markers",
         "text": "MS SQL Server appears with Pentaho 53 times",
         "type": "scatter",
         "x": [
          -0.2271460347368032
         ],
         "y": [
          0.8708643286433008
         ]
        },
        {
         "hoverinfo": "text",
         "marker": {
          "color": "blue",
          "size": 0.5
         },
         "mode": "markers",
         "text": "Pentaho appears with MS SQL Server 53 times",
         "type": "scatter",
         "x": [
          -0.8815033530470439
         ],
         "y": [
          0.18152641286275334
         ]
        },
        {
         "hoverinfo": "text",
         "marker": {
          "color": "green",
          "size": 0.5
         },
         "mode": "markers",
         "text": "MS SQL Server appears with Hadoop 57 times",
         "type": "scatter",
         "x": [
          -0.24341297010358964
         ],
         "y": [
          0.8664583809885786
         ]
        },
        {
         "hoverinfo": "text",
         "marker": {
          "color": "blue",
          "size": 0.5
         },
         "mode": "markers",
         "text": "Hadoop appears with MS SQL Server 57 times",
         "type": "scatter",
         "x": [
          -0.8944847113864879
         ],
         "y": [
          0.09948417510253368
         ]
        },
        {
         "hoverinfo": "text",
         "marker": {
          "color": "green",
          "size": 0.5
         },
         "mode": "markers",
         "text": "MS SQL Server appears with Spark 54 times",
         "type": "scatter",
         "x": [
          -0.23514057206773567
         ],
         "y": [
          0.8687398410155126
         ]
        },
        {
         "hoverinfo": "text",
         "marker": {
          "color": "blue",
          "size": 0.5
         },
         "mode": "markers",
         "text": "Spark appears with MS SQL Server 54 times",
         "type": "scatter",
         "x": [
          -0.8940443101421047
         ],
         "y": [
          -0.10336716839755297
         ]
        },
        {
         "hoverinfo": "text",
         "marker": {
          "color": "green",
          "size": 0.5
         },
         "mode": "markers",
         "text": "MS SQL Server appears with Informatica 77 times",
         "type": "scatter",
         "x": [
          -0.2740655835955311
         ],
         "y": [
          0.8572561203563618
         ]
        },
        {
         "hoverinfo": "text",
         "marker": {
          "color": "blue",
          "size": 0.5
         },
         "mode": "markers",
         "text": "Informatica appears with MS SQL Server 77 times",
         "type": "scatter",
         "x": [
          -0.8397850845612991
         ],
         "y": [
          -0.3236680579673747
         ]
        },
        {
         "hoverinfo": "text",
         "marker": {
          "color": "green",
          "size": 0.5
         },
         "mode": "markers",
         "text": "MS SQL Server appears with Qlik 75 times",
         "type": "scatter",
         "x": [
          -0.26284970283952713
         ],
         "y": [
          0.860761310536883
         ]
        },
        {
         "hoverinfo": "text",
         "marker": {
          "color": "blue",
          "size": 0.5
         },
         "mode": "markers",
         "text": "Qlik appears with MS SQL Server 75 times",
         "type": "scatter",
         "x": [
          -0.7736587558324453
         ],
         "y": [
          -0.4598392431315457
         ]
        },
        {
         "hoverinfo": "text",
         "marker": {
          "color": "green",
          "size": 0.5
         },
         "mode": "markers",
         "text": "MS SQL Server appears with Tableau 149 times",
         "type": "scatter",
         "x": [
          -0.3416012257568578
         ],
         "y": [
          0.832651549305838
         ]
        },
        {
         "hoverinfo": "text",
         "marker": {
          "color": "blue",
          "size": 0.5
         },
         "mode": "markers",
         "text": "Tableau appears with MS SQL Server 149 times",
         "type": "scatter",
         "x": [
          -0.46564737356882097
         ],
         "y": [
          -0.7701769429737941
         ]
        },
        {
         "hoverinfo": "text",
         "marker": {
          "color": "green",
          "size": 0.5
         },
         "mode": "markers",
         "text": "MS SQL Server appears with Microstrategy 25 times",
         "type": "scatter",
         "x": [
          -0.21545625122078077
         ],
         "y": [
          0.8738298483171011
         ]
        },
        {
         "hoverinfo": "text",
         "marker": {
          "color": "blue",
          "size": 0.5
         },
         "mode": "markers",
         "text": "Microstrategy appears with MS SQL Server 25 times",
         "type": "scatter",
         "x": [
          -0.10376894301956864
         ],
         "y": [
          -0.8939977664762936
         ]
        },
        {
         "hoverinfo": "text",
         "marker": {
          "color": "green",
          "size": 0.5
         },
         "mode": "markers",
         "text": "MS SQL Server appears with Oracle BI 218 times",
         "type": "scatter",
         "x": [
          -0.39122911693992035
         ],
         "y": [
          0.8105182157474379
         ]
        },
        {
         "hoverinfo": "text",
         "marker": {
          "color": "blue",
          "size": 0.5
         },
         "mode": "markers",
         "text": "Oracle BI appears with MS SQL Server 218 times",
         "type": "scatter",
         "x": [
          0.17566355514291246
         ],
         "y": [
          -0.8826903847865076
         ]
        },
        {
         "hoverinfo": "text",
         "marker": {
          "color": "green",
          "size": 0.5
         },
         "mode": "markers",
         "text": "MS SQL Server appears with Python 139 times",
         "type": "scatter",
         "x": [
          -0.3209000047357737
         ],
         "y": [
          0.8408467083604362
         ]
        },
        {
         "hoverinfo": "text",
         "marker": {
          "color": "blue",
          "size": 0.5
         },
         "mode": "markers",
         "text": "Python appears with MS SQL Server 139 times",
         "type": "scatter",
         "x": [
          0.6303724404013086
         ],
         "y": [
          -0.6423632822496153
         ]
        },
        {
         "hoverinfo": "text",
         "marker": {
          "color": "green",
          "size": 0.5
         },
         "mode": "markers",
         "text": "MS SQL Server appears with VBA 39 times",
         "type": "scatter",
         "x": [
          -0.22025685955110547
         ],
         "y": [
          0.8726321767048729
         ]
        },
        {
         "hoverinfo": "text",
         "marker": {
          "color": "blue",
          "size": 0.5
         },
         "mode": "markers",
         "text": "VBA appears with MS SQL Server 39 times",
         "type": "scatter",
         "x": [
          0.8185122337899334
         ],
         "y": [
          -0.37421614494328465
         ]
        },
        {
         "hoverinfo": "text",
         "marker": {
          "color": "green",
          "size": 0.5
         },
         "mode": "markers",
         "text": "MS SQL Server appears with Linux 65 times",
         "type": "scatter",
         "x": [
          -0.2524795998213102
         ],
         "y": [
          0.8638599722605922
         ]
        },
        {
         "hoverinfo": "text",
         "marker": {
          "color": "blue",
          "size": 0.5
         },
         "mode": "markers",
         "text": "Linux appears with MS SQL Server 65 times",
         "type": "scatter",
         "x": [
          0.8768190136951318
         ],
         "y": [
          -0.20294929717221535
         ]
        },
        {
         "hoverinfo": "text",
         "marker": {
          "color": "green",
          "size": 0.5
         },
         "mode": "markers",
         "text": "MS SQL Server appears with AWS 15 times",
         "type": "scatter",
         "x": [
          -0.212452555106716
         ],
         "y": [
          0.8745649843371434
         ]
        },
        {
         "hoverinfo": "text",
         "marker": {
          "color": "blue",
          "size": 0.5
         },
         "mode": "markers",
         "text": "AWS appears with MS SQL Server 15 times",
         "type": "scatter",
         "x": [
          0.8944643572231809
         ],
         "y": [
          -0.09966701388785539
         ]
        },
        {
         "hoverinfo": "text",
         "marker": {
          "color": "green",
          "size": 0.5
         },
         "mode": "markers",
         "text": "PostgreSQL appears with MySQL/MariaDB 115 times",
         "type": "scatter",
         "x": [
          -0.5949503818981491
         ],
         "y": [
          0.6753029268996593
         ]
        },
        {
         "hoverinfo": "text",
         "marker": {
          "color": "blue",
          "size": 0.5
         },
         "mode": "markers",
         "text": "MySQL/MariaDB appears with PostgreSQL 115 times",
         "type": "scatter",
         "x": [
          -0.6898940769120768
         ],
         "y": [
          0.5779672677943218
         ]
        },
        {
         "hoverinfo": "text",
         "marker": {
          "color": "green",
          "size": 0.5
         },
         "mode": "markers",
         "text": "PostgreSQL appears with T-SQL 47 times",
         "type": "scatter",
         "x": [
          -0.5481316332773631
         ],
         "y": [
          0.7138289098941639
         ]
        },
        {
         "hoverinfo": "text",
         "marker": {
          "color": "blue",
          "size": 0.5
         },
         "mode": "markers",
         "text": "T-SQL appears with PostgreSQL 47 times",
         "type": "scatter",
         "x": [
          -0.7446584048395057
         ],
         "y": [
          0.5054541127559284
         ]
        },
        {
         "hoverinfo": "text",
         "marker": {
          "color": "green",
          "size": 0.5
         },
         "mode": "markers",
         "text": "PostgreSQL appears with PL/SQL 3 times",
         "type": "scatter",
         "x": [
          -0.5383430979858794
         ],
         "y": [
          0.7212397027694509
         ]
        },
        {
         "hoverinfo": "text",
         "marker": {
          "color": "blue",
          "size": 0.5
         },
         "mode": "markers",
         "text": "PL/SQL appears with PostgreSQL 3 times",
         "type": "scatter",
         "x": [
          -0.8463285905009263
         ],
         "y": [
          0.3061501541739204
         ]
        },
        {
         "hoverinfo": "text",
         "marker": {
          "color": "green",
          "size": 0.5
         },
         "mode": "markers",
         "text": "PostgreSQL appears with Pentaho 54 times",
         "type": "scatter",
         "x": [
          -0.5632999256317989
         ],
         "y": [
          0.7019210737563091
         ]
        },
        {
         "hoverinfo": "text",
         "marker": {
          "color": "blue",
          "size": 0.5
         },
         "mode": "markers",
         "text": "Pentaho appears with PostgreSQL 54 times",
         "type": "scatter",
         "x": [
          -0.8828001953198602
         ],
         "y": [
          0.17511086529172476
         ]
        },
        {
         "hoverinfo": "text",
         "marker": {
          "color": "green",
          "size": 0.5
         },
         "mode": "markers",
         "text": "PostgreSQL appears with Hadoop 4 times",
         "type": "scatter",
         "x": [
          -0.5386908763723735
         ],
         "y": [
          0.7209799856536686
         ]
        },
        {
         "hoverinfo": "text",
         "marker": {
          "color": "blue",
          "size": 0.5
         },
         "mode": "markers",
         "text": "Hadoop appears with PostgreSQL 4 times",
         "type": "scatter",
         "x": [
          -0.8910204915579175
         ],
         "y": [
          0.12681673242867894
         ]
        },
        {
         "hoverinfo": "text",
         "marker": {
          "color": "green",
          "size": 0.5
         },
         "mode": "markers",
         "text": "PostgreSQL appears with Spark 13 times",
         "type": "scatter",
         "x": [
          -0.5407253452609427
         ],
         "y": [
          0.7194554197394264
         ]
        },
        {
         "hoverinfo": "text",
         "marker": {
          "color": "blue",
          "size": 0.5
         },
         "mode": "markers",
         "text": "Spark appears with PostgreSQL 13 times",
         "type": "scatter",
         "x": [
          -0.8961827836910089
         ],
         "y": [
          -0.08280349156789528
         ]
        },
        {
         "hoverinfo": "text",
         "marker": {
          "color": "green",
          "size": 0.5
         },
         "mode": "markers",
         "text": "PostgreSQL appears with Informatica 2 times",
         "type": "scatter",
         "x": [
          -0.5380946081848074
         ],
         "y": [
          0.7214251122898611
         ]
        },
        {
         "hoverinfo": "text",
         "marker": {
          "color": "blue",
          "size": 0.5
         },
         "mode": "markers",
         "text": "Informatica appears with PostgreSQL 2 times",
         "type": "scatter",
         "x": [
          -0.8537705038190729
         ],
         "y": [
          -0.2847383479767456
         ]
        },
        {
         "hoverinfo": "text",
         "marker": {
          "color": "green",
          "size": 0.5
         },
         "mode": "markers",
         "text": "PostgreSQL appears with Qlik 14 times",
         "type": "scatter",
         "x": [
          -0.5420627621918997
         ],
         "y": [
          0.7184483014419952
         ]
        },
        {
         "hoverinfo": "text",
         "marker": {
          "color": "blue",
          "size": 0.5
         },
         "mode": "markers",
         "text": "Qlik appears with PostgreSQL 14 times",
         "type": "scatter",
         "x": [
          -0.7942205597442992
         ],
         "y": [
          -0.4233363939935382
         ]
        },
        {
         "hoverinfo": "text",
         "marker": {
          "color": "green",
          "size": 0.5
         },
         "mode": "markers",
         "text": "PostgreSQL appears with Tableau 6 times",
         "type": "scatter",
         "x": [
          -0.5391874852661895
         ],
         "y": [
          0.7206086703144243
         ]
        },
        {
         "hoverinfo": "text",
         "marker": {
          "color": "blue",
          "size": 0.5
         },
         "mode": "markers",
         "text": "Tableau appears with PostgreSQL 6 times",
         "type": "scatter",
         "x": [
          -0.571267108174565
         ],
         "y": [
          -0.695452292481569
         ]
        },
        {
         "hoverinfo": "text",
         "marker": {
          "color": "green",
          "size": 0.5
         },
         "mode": "markers",
         "text": "PostgreSQL appears with Oracle BI 52 times",
         "type": "scatter",
         "x": [
          -0.5529877627507904
         ],
         "y": [
          0.7100736118515288
         ]
        },
        {
         "hoverinfo": "text",
         "marker": {
          "color": "blue",
          "size": 0.5
         },
         "mode": "markers",
         "text": "Oracle BI appears with PostgreSQL 52 times",
         "type": "scatter",
         "x": [
          -0.021192109421359767
         ],
         "y": [
          -0.8997504623495745
         ]
        },
        {
         "hoverinfo": "text",
         "marker": {
          "color": "green",
          "size": 0.5
         },
         "mode": "markers",
         "text": "PostgreSQL appears with Python 31 times",
         "type": "scatter",
         "x": [
          -0.544287619715087
         ],
         "y": [
          0.7167642478701661
         ]
        },
        {
         "hoverinfo": "text",
         "marker": {
          "color": "blue",
          "size": 0.5
         },
         "mode": "markers",
         "text": "Python appears with PostgreSQL 31 times",
         "type": "scatter",
         "x": [
          0.5502567049352022
         ],
         "y": [
          -0.7121920799010995
         ]
        },
        {
         "hoverinfo": "text",
         "marker": {
          "color": "green",
          "size": 0.5
         },
         "mode": "markers",
         "text": "PostgreSQL appears with Linux 53 times",
         "type": "scatter",
         "x": [
          -0.5581100849822502
         ],
         "y": [
          0.706054624686437
         ]
        },
        {
         "hoverinfo": "text",
         "marker": {
          "color": "blue",
          "size": 0.5
         },
         "mode": "markers",
         "text": "Linux appears with PostgreSQL 53 times",
         "type": "scatter",
         "x": [
          0.8731282935770676
         ],
         "y": [
          -0.21828188874755075
         ]
        },
        {
         "hoverinfo": "text",
         "marker": {
          "color": "green",
          "size": 0.5
         },
         "mode": "markers",
         "text": "PostgreSQL appears with AWS 6 times",
         "type": "scatter",
         "x": [
          -0.5397830780711244
         ],
         "y": [
          0.720162640400113
         ]
        },
        {
         "hoverinfo": "text",
         "marker": {
          "color": "blue",
          "size": 0.5
         },
         "mode": "markers",
         "text": "AWS appears with PostgreSQL 6 times",
         "type": "scatter",
         "x": [
          0.8939990068766523
         ],
         "y": [
          -0.1037582560742003
         ]
        },
        {
         "hoverinfo": "text",
         "marker": {
          "color": "green",
          "size": 0.5
         },
         "mode": "markers",
         "text": "MySQL/MariaDB appears with T-SQL 45 times",
         "type": "scatter",
         "x": [
          -0.6314647060301473
         ],
         "y": [
          0.6412895797050344
         ]
        },
        {
         "hoverinfo": "text",
         "marker": {
          "color": "blue",
          "size": 0.5
         },
         "mode": "markers",
         "text": "T-SQL appears with MySQL/MariaDB 45 times",
         "type": "scatter",
         "x": [
          -0.7369476721677889
         ],
         "y": [
          0.5166315209958421
         ]
        },
        {
         "hoverinfo": "text",
         "marker": {
          "color": "green",
          "size": 0.5
         },
         "mode": "markers",
         "text": "MySQL/MariaDB appears with PL/SQL 1 times",
         "type": "scatter",
         "x": [
          -0.621098804033638
         ],
         "y": [
          0.6513342272811897
         ]
        },
        {
         "hoverinfo": "text",
         "marker": {
          "color": "blue",
          "size": 0.5
         },
         "mode": "markers",
         "text": "PL/SQL appears with MySQL/MariaDB 1 times",
         "type": "scatter",
         "x": [
          -0.8461804523124281
         ],
         "y": [
          0.3065593615017076
         ]
        },
        {
         "hoverinfo": "text",
         "marker": {
          "color": "green",
          "size": 0.5
         },
         "mode": "markers",
         "text": "MySQL/MariaDB appears with Pentaho 72 times",
         "type": "scatter",
         "x": [
          -0.6558164274157505
         ],
         "y": [
          0.6163641890405718
         ]
        },
        {
         "hoverinfo": "text",
         "marker": {
          "color": "blue",
          "size": 0.5
         },
         "mode": "markers",
         "text": "Pentaho appears with MySQL/MariaDB 72 times",
         "type": "scatter",
         "x": [
          -0.885778369886629
         ],
         "y": [
          0.15936335664445023
         ]
        },
        {
         "hoverinfo": "text",
         "marker": {
          "color": "green",
          "size": 0.5
         },
         "mode": "markers",
         "text": "MySQL/MariaDB appears with Hadoop 9 times",
         "type": "scatter",
         "x": [
          -0.622887236349821
         ],
         "y": [
          0.6496241150022698
         ]
        },
        {
         "hoverinfo": "text",
         "marker": {
          "color": "blue",
          "size": 0.5
         },
         "mode": "markers",
         "text": "Hadoop appears with MySQL/MariaDB 9 times",
         "type": "scatter",
         "x": [
          -0.8914334386044659
         ],
         "y": [
          0.12388068670223741
         ]
        },
        {
         "hoverinfo": "text",
         "marker": {
          "color": "green",
          "size": 0.5
         },
         "mode": "markers",
         "text": "MySQL/MariaDB appears with Spark 32 times",
         "type": "scatter",
         "x": [
          -0.6276825944269672
         ],
         "y": [
          0.6449919074325131
         ]
        },
        {
         "hoverinfo": "text",
         "marker": {
          "color": "blue",
          "size": 0.5
         },
         "mode": "markers",
         "text": "Spark appears with MySQL/MariaDB 32 times",
         "type": "scatter",
         "x": [
          -0.8954207029646615
         ],
         "y": [
          -0.09067394720795759
         ]
        },
        {
         "hoverinfo": "text",
         "marker": {
          "color": "green",
          "size": 0.5
         },
         "mode": "markers",
         "text": "MySQL/MariaDB appears with Informatica 11 times",
         "type": "scatter",
         "x": [
          -0.6238787761657666
         ],
         "y": [
          0.6486719299074883
         ]
        },
        {
         "hoverinfo": "text",
         "marker": {
          "color": "blue",
          "size": 0.5
         },
         "mode": "markers",
         "text": "Informatica appears with MySQL/MariaDB 11 times",
         "type": "scatter",
         "x": [
          -0.8532334688301739
         ],
         "y": [
          -0.2863435832492646
         ]
        },
        {
         "hoverinfo": "text",
         "marker": {
          "color": "green",
          "size": 0.5
         },
         "mode": "markers",
         "text": "MySQL/MariaDB appears with Qlik 17 times",
         "type": "scatter",
         "x": [
          -0.6252644860346227
         ],
         "y": [
          0.6473363287378975
         ]
        },
        {
         "hoverinfo": "text",
         "marker": {
          "color": "blue",
          "size": 0.5
         },
         "mode": "markers",
         "text": "Qlik appears with MySQL/MariaDB 17 times",
         "type": "scatter",
         "x": [
          -0.7919223756382232
         ],
         "y": [
          -0.4276201012154513
         ]
        },
        {
         "hoverinfo": "text",
         "marker": {
          "color": "green",
          "size": 0.5
         },
         "mode": "markers",
         "text": "MySQL/MariaDB appears with Tableau 70 times",
         "type": "scatter",
         "x": [
          -0.6490935984404902
         ],
         "y": [
          0.6234400536247056
         ]
        },
        {
         "hoverinfo": "text",
         "marker": {
          "color": "blue",
          "size": 0.5
         },
         "mode": "markers",
         "text": "Tableau appears with MySQL/MariaDB 70 times",
         "type": "scatter",
         "x": [
          -0.5404159067785451
         ],
         "y": [
          -0.7196878821410868
         ]
        },
        {
         "hoverinfo": "text",
         "marker": {
          "color": "green",
          "size": 0.5
         },
         "mode": "markers",
         "text": "MySQL/MariaDB appears with Oracle BI 80 times",
         "type": "scatter",
         "x": [
          -0.6629272050718154
         ],
         "y": [
          0.6087097179901692
         ]
        },
        {
         "hoverinfo": "text",
         "marker": {
          "color": "blue",
          "size": 0.5
         },
         "mode": "markers",
         "text": "Oracle BI appears with MySQL/MariaDB 80 times",
         "type": "scatter",
         "x": [
          0.0338136673951109
         ],
         "y": [
          -0.8993645734057424
         ]
        },
        {
         "hoverinfo": "text",
         "marker": {
          "color": "green",
          "size": 0.5
         },
         "mode": "markers",
         "text": "MySQL/MariaDB appears with Python 68 times",
         "type": "scatter",
         "x": [
          -0.6424869930544029
         ],
         "y": [
          0.6302463516403024
         ]
        },
        {
         "hoverinfo": "text",
         "marker": {
          "color": "blue",
          "size": 0.5
         },
         "mode": "markers",
         "text": "Python appears with MySQL/MariaDB 68 times",
         "type": "scatter",
         "x": [
          0.571956582774695
         ],
         "y": [
          -0.6948853627906502
         ]
        },
        {
         "hoverinfo": "text",
         "marker": {
          "color": "green",
          "size": 0.5
         },
         "mode": "markers",
         "text": "MySQL/MariaDB appears with VBA 6 times",
         "type": "scatter",
         "x": [
          -0.6221426276622065
         ],
         "y": [
          0.6503372593090181
         ]
        },
        {
         "hoverinfo": "text",
         "marker": {
          "color": "blue",
          "size": 0.5
         },
         "mode": "markers",
         "text": "VBA appears with MySQL/MariaDB 6 times",
         "type": "scatter",
         "x": [
          0.8116331697528733
         ],
         "y": [
          -0.38891078380125155
         ]
        },
        {
         "hoverinfo": "text",
         "marker": {
          "color": "green",
          "size": 0.5
         },
         "mode": "markers",
         "text": "MySQL/MariaDB appears with Linux 57 times",
         "type": "scatter",
         "x": [
          -0.6364411306937661
         ],
         "y": [
          0.6363510722559055
         ]
        },
        {
         "hoverinfo": "text",
         "marker": {
          "color": "blue",
          "size": 0.5
         },
         "mode": "markers",
         "text": "Linux appears with MySQL/MariaDB 57 times",
         "type": "scatter",
         "x": [
          0.8749116973268403
         ],
         "y": [
          -0.21102019306376224
         ]
        },
        {
         "hoverinfo": "text",
         "marker": {
          "color": "green",
          "size": 0.5
         },
         "mode": "markers",
         "text": "MySQL/MariaDB appears with AWS 2 times",
         "type": "scatter",
         "x": [
          -0.6212480195706346
         ],
         "y": [
          0.6511919058000986
         ]
        },
        {
         "hoverinfo": "text",
         "marker": {
          "color": "blue",
          "size": 0.5
         },
         "mode": "markers",
         "text": "AWS appears with MySQL/MariaDB 2 times",
         "type": "scatter",
         "x": [
          0.8937989872269234
         ],
         "y": [
          -0.10546739037316787
         ]
        },
        {
         "hoverinfo": "text",
         "marker": {
          "color": "green",
          "size": 0.5
         },
         "mode": "markers",
         "text": "T-SQL appears with PL/SQL 54 times",
         "type": "scatter",
         "x": [
          -0.756795752634854
         ],
         "y": [
          0.48709361399411205
         ]
        },
        {
         "hoverinfo": "text",
         "marker": {
          "color": "blue",
          "size": 0.5
         },
         "mode": "markers",
         "text": "PL/SQL appears with T-SQL 54 times",
         "type": "scatter",
         "x": [
          -0.8536032446676705
         ],
         "y": [
          0.28523937437321867
         ]
        },
        {
         "hoverinfo": "text",
         "marker": {
          "color": "green",
          "size": 0.5
         },
         "mode": "markers",
         "text": "T-SQL appears with Pentaho 49 times",
         "type": "scatter",
         "x": [
          -0.752609027576567
         ],
         "y": [
          0.49353789278053845
         ]
        },
        {
         "hoverinfo": "text",
         "marker": {
          "color": "blue",
          "size": 0.5
         },
         "mode": "markers",
         "text": "Pentaho appears with T-SQL 49 times",
         "type": "scatter",
         "x": [
          -0.8802237040390405
         ],
         "y": [
          0.18763323492332507
         ]
        },
        {
         "hoverinfo": "text",
         "marker": {
          "color": "green",
          "size": 0.5
         },
         "mode": "markers",
         "text": "T-SQL appears with Hadoop 48 times",
         "type": "scatter",
         "x": [
          -0.7486160125706689
         ],
         "y": [
          0.4995738841480729
         ]
        },
        {
         "hoverinfo": "text",
         "marker": {
          "color": "blue",
          "size": 0.5
         },
         "mode": "markers",
         "text": "Hadoop appears with T-SQL 48 times",
         "type": "scatter",
         "x": [
          -0.8927063814321545
         ],
         "y": [
          0.1143473504297701
         ]
        },
        {
         "hoverinfo": "text",
         "marker": {
          "color": "green",
          "size": 0.5
         },
         "mode": "markers",
         "text": "T-SQL appears with Spark 45 times",
         "type": "scatter",
         "x": [
          -0.7407817495095188
         ],
         "y": [
          0.5111187724918902
         ]
        },
        {
         "hoverinfo": "text",
         "marker": {
          "color": "blue",
          "size": 0.5
         },
         "mode": "markers",
         "text": "Spark appears with T-SQL 45 times",
         "type": "scatter",
         "x": [
          -0.8948406890505772
         ],
         "y": [
          -0.09622962755559317
         ]
        },
        {
         "hoverinfo": "text",
         "marker": {
          "color": "green",
          "size": 0.5
         },
         "mode": "markers",
         "text": "T-SQL appears with Informatica 19 times",
         "type": "scatter",
         "x": [
          -0.7271395079726412
         ],
         "y": [
          0.5303471843474851
         ]
        },
        {
         "hoverinfo": "text",
         "marker": {
          "color": "blue",
          "size": 0.5
         },
         "mode": "markers",
         "text": "Informatica appears with T-SQL 19 times",
         "type": "scatter",
         "x": [
          -0.8506137225339679
         ],
         "y": [
          -0.2940345133430866
         ]
        },
        {
         "hoverinfo": "text",
         "marker": {
          "color": "green",
          "size": 0.5
         },
         "mode": "markers",
         "text": "T-SQL appears with Qlik 81 times",
         "type": "scatter",
         "x": [
          -0.7740177314033715
         ],
         "y": [
          0.4592347454986156
         ]
        },
        {
         "hoverinfo": "text",
         "marker": {
          "color": "blue",
          "size": 0.5
         },
         "mode": "markers",
         "text": "Qlik appears with T-SQL 81 times",
         "type": "scatter",
         "x": [
          -0.767439438609376
         ],
         "y": [
          -0.4701454116195604
         ]
        },
        {
         "hoverinfo": "text",
         "marker": {
          "color": "green",
          "size": 0.5
         },
         "mode": "markers",
         "text": "T-SQL appears with Tableau 132 times",
         "type": "scatter",
         "x": [
          -0.7820057514244285
         ],
         "y": [
          0.4454963577170019
         ]
        },
        {
         "hoverinfo": "text",
         "marker": {
          "color": "blue",
          "size": 0.5
         },
         "mode": "markers",
         "text": "Tableau appears with T-SQL 132 times",
         "type": "scatter",
         "x": [
          -0.4845251137107125
         ],
         "y": [
          -0.7584427560360907
         ]
        },
        {
         "hoverinfo": "text",
         "marker": {
          "color": "green",
          "size": 0.5
         },
         "mode": "markers",
         "text": "T-SQL appears with Microstrategy 21 times",
         "type": "scatter",
         "x": [
          -0.7288941551894401
         ],
         "y": [
          0.5279330549706777
         ]
        },
        {
         "hoverinfo": "text",
         "marker": {
          "color": "blue",
          "size": 0.5
         },
         "mode": "markers",
         "text": "Microstrategy appears with T-SQL 21 times",
         "type": "scatter",
         "x": [
          -0.10625422702350805
         ],
         "y": [
          -0.893705790089578
         ]
        },
        {
         "hoverinfo": "text",
         "marker": {
          "color": "green",
          "size": 0.5
         },
         "mode": "markers",
         "text": "T-SQL appears with Oracle BI 184 times",
         "type": "scatter",
         "x": [
          -0.8052651212428074
         ],
         "y": [
          0.40193044735352756
         ]
        },
        {
         "hoverinfo": "text",
         "marker": {
          "color": "blue",
          "size": 0.5
         },
         "mode": "markers",
         "text": "Oracle BI appears with T-SQL 184 times",
         "type": "scatter",
         "x": [
          0.10967472101330193
         ],
         "y": [
          -0.8932924804176147
         ]
        },
        {
         "hoverinfo": "text",
         "marker": {
          "color": "green",
          "size": 0.5
         },
         "mode": "markers",
         "text": "T-SQL appears with Python 75 times",
         "type": "scatter",
         "x": [
          -0.7619614561141879
         ],
         "y": [
          0.4789725873119948
         ]
        },
        {
         "hoverinfo": "text",
         "marker": {
          "color": "blue",
          "size": 0.5
         },
         "mode": "markers",
         "text": "Python appears with T-SQL 75 times",
         "type": "scatter",
         "x": [
          0.5805451027361316
         ],
         "y": [
          -0.6877262418208968
         ]
        },
        {
         "hoverinfo": "text",
         "marker": {
          "color": "green",
          "size": 0.5
         },
         "mode": "markers",
         "text": "T-SQL appears with VBA 27 times",
         "type": "scatter",
         "x": [
          -0.7309891504069133
         ],
         "y": [
          0.5250284392177049
         ]
        },
        {
         "hoverinfo": "text",
         "marker": {
          "color": "blue",
          "size": 0.5
         },
         "mode": "markers",
         "text": "VBA appears with T-SQL 27 times",
         "type": "scatter",
         "x": [
          0.8148609928675973
         ],
         "y": [
          -0.3821015078520807
         ]
        },
        {
         "hoverinfo": "text",
         "marker": {
          "color": "green",
          "size": 0.5
         },
         "mode": "markers",
         "text": "T-SQL appears with Linux 33 times",
         "type": "scatter",
         "x": [
          -0.7335916136161962
         ],
         "y": [
          0.5213859841154013
         ]
        },
        {
         "hoverinfo": "text",
         "marker": {
          "color": "blue",
          "size": 0.5
         },
         "mode": "markers",
         "text": "Linux appears with T-SQL 33 times",
         "type": "scatter",
         "x": [
          0.8688866068419717
         ],
         "y": [
          -0.23459766505795623
         ]
        },
        {
         "hoverinfo": "text",
         "marker": {
          "color": "green",
          "size": 0.5
         },
         "mode": "markers",
         "text": "T-SQL appears with AWS 16 times",
         "type": "scatter",
         "x": [
          -0.7255976320493525
         ],
         "y": [
          0.5324547646179651
         ]
        },
        {
         "hoverinfo": "text",
         "marker": {
          "color": "blue",
          "size": 0.5
         },
         "mode": "markers",
         "text": "AWS appears with T-SQL 16 times",
         "type": "scatter",
         "x": [
          0.8946733336778808
         ],
         "y": [
          -0.09777333995372879
         ]
        },
        {
         "hoverinfo": "text",
         "marker": {
          "color": "green",
          "size": 0.5
         },
         "mode": "markers",
         "text": "PL/SQL appears with Pentaho 8 times",
         "type": "scatter",
         "x": [
          -0.8468639323061108
         ],
         "y": [
          0.30466617823288317
         ]
        },
        {
         "hoverinfo": "text",
         "marker": {
          "color": "blue",
          "size": 0.5
         },
         "mode": "markers",
         "text": "Pentaho appears with PL/SQL 8 times",
         "type": "scatter",
         "x": [
          -0.8708159471032634
         ],
         "y": [
          0.22733144584646983
         ]
        },
        {
         "hoverinfo": "text",
         "marker": {
          "color": "green",
          "size": 0.5
         },
         "mode": "markers",
         "text": "PL/SQL appears with Hadoop 8 times",
         "type": "scatter",
         "x": [
          -0.8471581795720238
         ],
         "y": [
          0.3038470318831741
         ]
        },
        {
         "hoverinfo": "text",
         "marker": {
          "color": "blue",
          "size": 0.5
         },
         "mode": "markers",
         "text": "Hadoop appears with PL/SQL 8 times",
         "type": "scatter",
         "x": [
          -0.8912633904883085
         ],
         "y": [
          0.12509823649950022
         ]
        },
        {
         "hoverinfo": "text",
         "marker": {
          "color": "green",
          "size": 0.5
         },
         "mode": "markers",
         "text": "PL/SQL appears with Informatica 36 times",
         "type": "scatter",
         "x": [
          -0.8520389340310883
         ],
         "y": [
          0.2898786899638653
         ]
        },
        {
         "hoverinfo": "text",
         "marker": {
          "color": "blue",
          "size": 0.5
         },
         "mode": "markers",
         "text": "Informatica appears with PL/SQL 36 times",
         "type": "scatter",
         "x": [
          -0.844349026596013
         ],
         "y": [
          -0.3115681647510951
         ]
        },
        {
         "hoverinfo": "text",
         "marker": {
          "color": "green",
          "size": 0.5
         },
         "mode": "markers",
         "text": "PL/SQL appears with Qlik 20 times",
         "type": "scatter",
         "x": [
          -0.8489792627763963
         ],
         "y": [
          0.2987209590498239
         ]
        },
        {
         "hoverinfo": "text",
         "marker": {
          "color": "blue",
          "size": 0.5
         },
         "mode": "markers",
         "text": "Qlik appears with PL/SQL 20 times",
         "type": "scatter",
         "x": [
          -0.7905618748992558
         ],
         "y": [
          -0.4301301221209385
         ]
        },
        {
         "hoverinfo": "text",
         "marker": {
          "color": "green",
          "size": 0.5
         },
         "mode": "markers",
         "text": "PL/SQL appears with Tableau 32 times",
         "type": "scatter",
         "x": [
          -0.8508402854874502
         ],
         "y": [
          0.2933782687787805
         ]
        },
        {
         "hoverinfo": "text",
         "marker": {
          "color": "blue",
          "size": 0.5
         },
         "mode": "markers",
         "text": "Tableau appears with PL/SQL 32 times",
         "type": "scatter",
         "x": [
          -0.5651326127801708
         ],
         "y": [
          -0.7004463790842649
         ]
        },
        {
         "hoverinfo": "text",
         "marker": {
          "color": "green",
          "size": 0.5
         },
         "mode": "markers",
         "text": "PL/SQL appears with Microstrategy 26 times",
         "type": "scatter",
         "x": [
          -0.8498065495025083
         ],
         "y": [
          0.2963592894151303
         ]
        },
        {
         "hoverinfo": "text",
         "marker": {
          "color": "blue",
          "size": 0.5
         },
         "mode": "markers",
         "text": "Microstrategy appears with PL/SQL 26 times",
         "type": "scatter",
         "x": [
          -0.10101258252091208
         ],
         "y": [
          -0.8943134004209351
         ]
        },
        {
         "hoverinfo": "text",
         "marker": {
          "color": "green",
          "size": 0.5
         },
         "mode": "markers",
         "text": "PL/SQL appears with Oracle BI 106 times",
         "type": "scatter",
         "x": [
          -0.8608865169124726
         ],
         "y": [
          0.2624393358441357
         ]
        },
        {
         "hoverinfo": "text",
         "marker": {
          "color": "blue",
          "size": 0.5
         },
         "mode": "markers",
         "text": "Oracle BI appears with PL/SQL 106 times",
         "type": "scatter",
         "x": [
          0.06383470111658027
         ],
         "y": [
          -0.8977333295212765
         ]
        },
        {
         "hoverinfo": "text",
         "marker": {
          "color": "green",
          "size": 0.5
         },
         "mode": "markers",
         "text": "PL/SQL appears with Python 4 times",
         "type": "scatter",
         "x": [
          -0.8464580490854274
         ],
         "y": [
          0.3057920390371408
         ]
        },
        {
         "hoverinfo": "text",
         "marker": {
          "color": "blue",
          "size": 0.5
         },
         "mode": "markers",
         "text": "Python appears with PL/SQL 4 times",
         "type": "scatter",
         "x": [
          0.5456045556685509
         ],
         "y": [
          -0.7157622991145337
         ]
        },
        {
         "hoverinfo": "text",
         "marker": {
          "color": "green",
          "size": 0.5
         },
         "mode": "markers",
         "text": "PL/SQL appears with VBA 11 times",
         "type": "scatter",
         "x": [
          -0.8475065690700528
         ],
         "y": [
          0.302873926548833
         ]
        },
        {
         "hoverinfo": "text",
         "marker": {
          "color": "blue",
          "size": 0.5
         },
         "mode": "markers",
         "text": "VBA appears with PL/SQL 11 times",
         "type": "scatter",
         "x": [
          0.813762391801439
         ],
         "y": [
          -0.3844356509087071
         ]
        },
        {
         "hoverinfo": "text",
         "marker": {
          "color": "green",
          "size": 0.5
         },
         "mode": "markers",
         "text": "PL/SQL appears with Linux 5 times",
         "type": "scatter",
         "x": [
          -0.846624273173415
         ],
         "y": [
          0.3053315248604158
         ]
        },
        {
         "hoverinfo": "text",
         "marker": {
          "color": "blue",
          "size": 0.5
         },
         "mode": "markers",
         "text": "Linux appears with PL/SQL 5 times",
         "type": "scatter",
         "x": [
          0.8642263017689746
         ],
         "y": [
          -0.25122280814193826
         ]
        },
        {
         "hoverinfo": "text",
         "marker": {
          "color": "green",
          "size": 0.5
         },
         "mode": "markers",
         "text": "PL/SQL appears with AWS 2 times",
         "type": "scatter",
         "x": [
          -0.8462360273211482
         ],
         "y": [
          0.3064059171486752
         ]
        },
        {
         "hoverinfo": "text",
         "marker": {
          "color": "blue",
          "size": 0.5
         },
         "mode": "markers",
         "text": "AWS appears with PL/SQL 2 times",
         "type": "scatter",
         "x": [
          0.8938277615305014
         ],
         "y": [
          -0.10522325179052897
         ]
        },
        {
         "hoverinfo": "text",
         "marker": {
          "color": "green",
          "size": 0.5
         },
         "mode": "markers",
         "text": "Pentaho appears with Spark 8 times",
         "type": "scatter",
         "x": [
          -0.8705682118716771
         ],
         "y": [
          0.2282783136405004
         ]
        },
        {
         "hoverinfo": "text",
         "marker": {
          "color": "blue",
          "size": 0.5
         },
         "mode": "markers",
         "text": "Spark appears with Pentaho 8 times",
         "type": "scatter",
         "x": [
          -0.8964515366483596
         ],
         "y": [
          -0.07984135795936073
         ]
        },
        {
         "hoverinfo": "text",
         "marker": {
          "color": "green",
          "size": 0.5
         },
         "mode": "markers",
         "text": "Pentaho appears with Informatica 39 times",
         "type": "scatter",
         "x": [
          -0.8745384222351877
         ],
         "y": [
          0.21256186872152913
         ]
        },
        {
         "hoverinfo": "text",
         "marker": {
          "color": "blue",
          "size": 0.5
         },
         "mode": "markers",
         "text": "Informatica appears with Pentaho 39 times",
         "type": "scatter",
         "x": [
          -0.8425776383998865
         ],
         "y": [
          -0.3163272407941975
         ]
        },
        {
         "hoverinfo": "text",
         "marker": {
          "color": "green",
          "size": 0.5
         },
         "mode": "markers",
         "text": "Pentaho appears with Qlik 36 times",
         "type": "scatter",
         "x": [
          -0.872310842827117
         ],
         "y": [
          0.22152605599848735
         ]
        },
        {
         "hoverinfo": "text",
         "marker": {
          "color": "blue",
          "size": 0.5
         },
         "mode": "markers",
         "text": "Qlik appears with Pentaho 36 times",
         "type": "scatter",
         "x": [
          -0.7861699043023891
         ],
         "y": [
          -0.4381060163581099
         ]
        },
        {
         "hoverinfo": "text",
         "marker": {
          "color": "green",
          "size": 0.5
         },
         "mode": "markers",
         "text": "Pentaho appears with Tableau 44 times",
         "type": "scatter",
         "x": [
          -0.8790200923327964
         ],
         "y": [
          0.19319336757570635
         ]
        },
        {
         "hoverinfo": "text",
         "marker": {
          "color": "blue",
          "size": 0.5
         },
         "mode": "markers",
         "text": "Tableau appears with Pentaho 44 times",
         "type": "scatter",
         "x": [
          -0.5559735806541035
         ],
         "y": [
          -0.7077382126285502
         ]
        },
        {
         "hoverinfo": "text",
         "marker": {
          "color": "green",
          "size": 0.5
         },
         "mode": "markers",
         "text": "Pentaho appears with Microstrategy 7 times",
         "type": "scatter",
         "x": [
          -0.8703350250357799
         ],
         "y": [
          0.22916575703182274
         ]
        },
        {
         "hoverinfo": "text",
         "marker": {
          "color": "blue",
          "size": 0.5
         },
         "mode": "markers",
         "text": "Microstrategy appears with Pentaho 7 times",
         "type": "scatter",
         "x": [
          -0.11208597949398501
         ],
         "y": [
          -0.8929931316650056
         ]
        },
        {
         "hoverinfo": "text",
         "marker": {
          "color": "green",
          "size": 0.5
         },
         "mode": "markers",
         "text": "Pentaho appears with Oracle BI 40 times",
         "type": "scatter",
         "x": [
          -0.8767568317076246
         ],
         "y": [
          0.20321776018352292
         ]
        },
        {
         "hoverinfo": "text",
         "marker": {
          "color": "blue",
          "size": 0.5
         },
         "mode": "markers",
         "text": "Oracle BI appears with Pentaho 40 times",
         "type": "scatter",
         "x": [
          -0.02854602976992155
         ],
         "y": [
          -0.8995471772977639
         ]
        },
        {
         "hoverinfo": "text",
         "marker": {
          "color": "green",
          "size": 0.5
         },
         "mode": "markers",
         "text": "Pentaho appears with Python 38 times",
         "type": "scatter",
         "x": [
          -0.8734139997739252
         ],
         "y": [
          0.2171358676011726
         ]
        },
        {
         "hoverinfo": "text",
         "marker": {
          "color": "blue",
          "size": 0.5
         },
         "mode": "markers",
         "text": "Python appears with Pentaho 38 times",
         "type": "scatter",
         "x": [
          0.5585715707293629
         ],
         "y": [
          -0.7056895920820516
         ]
        },
        {
         "hoverinfo": "text",
         "marker": {
          "color": "green",
          "size": 0.5
         },
         "mode": "markers",
         "text": "Pentaho appears with VBA 1 times",
         "type": "scatter",
         "x": [
          -0.8702102888083824
         ],
         "y": [
          0.22963896283521198
         ]
        },
        {
         "hoverinfo": "text",
         "marker": {
          "color": "blue",
          "size": 0.5
         },
         "mode": "markers",
         "text": "VBA appears with Pentaho 1 times",
         "type": "scatter",
         "x": [
          0.8104855500698259
         ],
         "y": [
          -0.391296783947954
         ]
        },
        {
         "hoverinfo": "text",
         "marker": {
          "color": "green",
          "size": 0.5
         },
         "mode": "markers",
         "text": "Pentaho appears with Linux 42 times",
         "type": "scatter",
         "x": [
          -0.8778758183266948
         ],
         "y": [
          0.19832813112928813
         ]
        },
        {
         "hoverinfo": "text",
         "marker": {
          "color": "blue",
          "size": 0.5
         },
         "mode": "markers",
         "text": "Linux appears with Pentaho 42 times",
         "type": "scatter",
         "x": [
          0.8715395739238074
         ],
         "y": [
          -0.22454124584295915
         ]
        },
        {
         "hoverinfo": "text",
         "marker": {
          "color": "green",
          "size": 0.5
         },
         "mode": "markers",
         "text": "Pentaho appears with AWS 15 times",
         "type": "scatter",
         "x": [
          -0.8715377124013164
         ],
         "y": [
          0.22454847107535678
         ]
        },
        {
         "hoverinfo": "text",
         "marker": {
          "color": "blue",
          "size": 0.5
         },
         "mode": "markers",
         "text": "AWS appears with Pentaho 15 times",
         "type": "scatter",
         "x": [
          0.8942583056293018
         ],
         "y": [
          -0.10149917641542872
         ]
        },
        {
         "hoverinfo": "text",
         "marker": {
          "color": "green",
          "size": 0.5
         },
         "mode": "markers",
         "text": "Hadoop appears with Spark 219 times",
         "type": "scatter",
         "x": [
          -0.8999994712235084
         ],
         "y": [
          -0.0009756010481802504
         ]
        },
        {
         "hoverinfo": "text",
         "marker": {
          "color": "blue",
          "size": 0.5
         },
         "mode": "markers",
         "text": "Spark appears with Hadoop 219 times",
         "type": "scatter",
         "x": [
          -0.8760078150685351
         ],
         "y": [
          -0.20642264395858156
         ]
        },
        {
         "hoverinfo": "text",
         "marker": {
          "color": "green",
          "size": 0.5
         },
         "mode": "markers",
         "text": "Hadoop appears with Informatica 14 times",
         "type": "scatter",
         "x": [
          -0.8921256563691232
         ],
         "y": [
          0.11879315320320885
         ]
        },
        {
         "hoverinfo": "text",
         "marker": {
          "color": "blue",
          "size": 0.5
         },
         "mode": "markers",
         "text": "Informatica appears with Hadoop 14 times",
         "type": "scatter",
         "x": [
          -0.8526934157260616
         ],
         "y": [
          -0.28794780564786726
         ]
        },
        {
         "hoverinfo": "text",
         "marker": {
          "color": "green",
          "size": 0.5
         },
         "mode": "markers",
         "text": "Hadoop appears with Qlik 13 times",
         "type": "scatter",
         "x": [
          -0.8918658387319738
         ],
         "y": [
          0.12072831359259971
         ]
        },
        {
         "hoverinfo": "text",
         "marker": {
          "color": "blue",
          "size": 0.5
         },
         "mode": "markers",
         "text": "Qlik appears with Hadoop 13 times",
         "type": "scatter",
         "x": [
          -0.7951984063800475
         ],
         "y": [
          -0.42149673129293996
         ]
        },
        {
         "hoverinfo": "text",
         "marker": {
          "color": "green",
          "size": 0.5
         },
         "mode": "markers",
         "text": "Hadoop appears with Tableau 82 times",
         "type": "scatter",
         "x": [
          -0.898235208311446
         ],
         "y": [
          0.05633392006325534
         ]
        },
        {
         "hoverinfo": "text",
         "marker": {
          "color": "blue",
          "size": 0.5
         },
         "mode": "markers",
         "text": "Tableau appears with Hadoop 82 times",
         "type": "scatter",
         "x": [
          -0.5216405278060456
         ],
         "y": [
          -0.7334106351493891
         ]
        },
        {
         "hoverinfo": "text",
         "marker": {
          "color": "green",
          "size": 0.5
         },
         "mode": "markers",
         "text": "Hadoop appears with Microstrategy 6 times",
         "type": "scatter",
         "x": [
          -0.8911221021832919
         ],
         "y": [
          0.1261007494047145
         ]
        },
        {
         "hoverinfo": "text",
         "marker": {
          "color": "blue",
          "size": 0.5
         },
         "mode": "markers",
         "text": "Microstrategy appears with Hadoop 6 times",
         "type": "scatter",
         "x": [
          -0.11278763253781267
         ],
         "y": [
          -0.8929047821277
         ]
        },
        {
         "hoverinfo": "text",
         "marker": {
          "color": "green",
          "size": 0.5
         },
         "mode": "markers",
         "text": "Hadoop appears with Oracle BI 78 times",
         "type": "scatter",
         "x": [
          -0.8964899912139668
         ],
         "y": [
          0.0794084104688021
         ]
        },
        {
         "hoverinfo": "text",
         "marker": {
          "color": "blue",
          "size": 0.5
         },
         "mode": "markers",
         "text": "Oracle BI appears with Hadoop 78 times",
         "type": "scatter",
         "x": [
          0.02118525205030909
         ],
         "y": [
          -0.8997506238372747
         ]
        },
        {
         "hoverinfo": "text",
         "marker": {
          "color": "green",
          "size": 0.5
         },
         "mode": "markers",
         "text": "Hadoop appears with Python 234 times",
         "type": "scatter",
         "x": [
          -0.8993678379280998
         ],
         "y": [
          -0.0337267267984206
         ]
        },
        {
         "hoverinfo": "text",
         "marker": {
          "color": "blue",
          "size": 0.5
         },
         "mode": "markers",
         "text": "Python appears with Hadoop 234 times",
         "type": "scatter",
         "x": [
          0.7284137785464729
         ],
         "y": [
          -0.5285956556988053
         ]
        },
        {
         "hoverinfo": "text",
         "marker": {
          "color": "green",
          "size": 0.5
         },
         "mode": "markers",
         "text": "Hadoop appears with VBA 11 times",
         "type": "scatter",
         "x": [
          -0.8916313657202254
         ],
         "y": [
          0.12244797941936725
         ]
        },
        {
         "hoverinfo": "text",
         "marker": {
          "color": "blue",
          "size": 0.5
         },
         "mode": "markers",
         "text": "VBA appears with Hadoop 11 times",
         "type": "scatter",
         "x": [
          0.8131233030681689
         ],
         "y": [
          -0.38578555443084
         ]
        },
        {
         "hoverinfo": "text",
         "marker": {
          "color": "green",
          "size": 0.5
         },
         "mode": "markers",
         "text": "Hadoop appears with Linux 130 times",
         "type": "scatter",
         "x": [
          -0.8996729791659335
         ],
         "y": [
          0.02425964877515279
         ]
        },
        {
         "hoverinfo": "text",
         "marker": {
          "color": "blue",
          "size": 0.5
         },
         "mode": "markers",
         "text": "Linux appears with Hadoop 130 times",
         "type": "scatter",
         "x": [
          0.8853947995364424
         ],
         "y": [
          -0.16148080057339
         ]
        },
        {
         "hoverinfo": "text",
         "marker": {
          "color": "green",
          "size": 0.5
         },
         "mode": "markers",
         "text": "Hadoop appears with AWS 80 times",
         "type": "scatter",
         "x": [
          -0.897425843446522
         ],
         "y": [
          0.0680209931881232
         ]
        },
        {
         "hoverinfo": "text",
         "marker": {
          "color": "blue",
          "size": 0.5
         },
         "mode": "markers",
         "text": "AWS appears with Hadoop 80 times",
         "type": "scatter",
         "x": [
          0.8980179990671607
         ],
         "y": [
          -0.05969651037885648
         ]
        },
        {
         "hoverinfo": "text",
         "marker": {
          "color": "green",
          "size": 0.5
         },
         "mode": "markers",
         "text": "Spark appears with Informatica 16 times",
         "type": "scatter",
         "x": [
          -0.8959867800658211
         ],
         "y": [
          -0.08489811509852208
         ]
        },
        {
         "hoverinfo": "text",
         "marker": {
          "color": "blue",
          "size": 0.5
         },
         "mode": "markers",
         "text": "Informatica appears with Spark 16 times",
         "type": "scatter",
         "x": [
          -0.8513849858197744
         ],
         "y": [
          -0.2917937729298941
         ]
        },
        {
         "hoverinfo": "text",
         "marker": {
          "color": "green",
          "size": 0.5
         },
         "mode": "markers",
         "text": "Spark appears with Qlik 16 times",
         "type": "scatter",
         "x": [
          -0.8957648186743412
         ],
         "y": [
          -0.08720888501365358
         ]
        },
        {
         "hoverinfo": "text",
         "marker": {
          "color": "blue",
          "size": 0.5
         },
         "mode": "markers",
         "text": "Qlik appears with Spark 16 times",
         "type": "scatter",
         "x": [
          -0.7931290721225911
         ],
         "y": [
          -0.4253778026107588
         ]
        },
        {
         "hoverinfo": "text",
         "marker": {
          "color": "green",
          "size": 0.5
         },
         "mode": "markers",
         "text": "Spark appears with Tableau 67 times",
         "type": "scatter",
         "x": [
          -0.891906653921629
         ],
         "y": [
          -0.12042641192995679
         ]
        },
        {
         "hoverinfo": "text",
         "marker": {
          "color": "blue",
          "size": 0.5
         },
         "mode": "markers",
         "text": "Tableau appears with Spark 67 times",
         "type": "scatter",
         "x": [
          -0.5490424842676759
         ],
         "y": [
          -0.7131285651754381
         ]
        },
        {
         "hoverinfo": "text",
         "marker": {
          "color": "green",
          "size": 0.5
         },
         "mode": "markers",
         "text": "Spark appears with Microstrategy 3 times",
         "type": "scatter",
         "x": [
          -0.896521975469644
         ],
         "y": [
          -0.07904648948566387
         ]
        },
        {
         "hoverinfo": "text",
         "marker": {
          "color": "blue",
          "size": 0.5
         },
         "mode": "markers",
         "text": "Microstrategy appears with Spark 3 times",
         "type": "scatter",
         "x": [
          -0.11327335156892564
         ],
         "y": [
          -0.892843294102802
         ]
        },
        {
         "hoverinfo": "text",
         "marker": {
          "color": "green",
          "size": 0.5
         },
         "mode": "markers",
         "text": "Spark appears with Oracle BI 72 times",
         "type": "scatter",
         "x": [
          -0.8889957623048392
         ],
         "y": [
          -0.14030871178953147
         ]
        },
        {
         "hoverinfo": "text",
         "marker": {
          "color": "blue",
          "size": 0.5
         },
         "mode": "markers",
         "text": "Oracle BI appears with Spark 72 times",
         "type": "scatter",
         "x": [
          0.009192348040166168
         ],
         "y": [
          -0.8999530547409174
         ]
        },
        {
         "hoverinfo": "text",
         "marker": {
          "color": "green",
          "size": 0.5
         },
         "mode": "markers",
         "text": "Spark appears with Python 256 times",
         "type": "scatter",
         "x": [
          -0.8674644329034034
         ],
         "y": [
          -0.23980295587748052
         ]
        },
        {
         "hoverinfo": "text",
         "marker": {
          "color": "blue",
          "size": 0.5
         },
         "mode": "markers",
         "text": "Python appears with Spark 256 times",
         "type": "scatter",
         "x": [
          0.7502493299637174
         ],
         "y": [
          -0.49711763486019384
         ]
        },
        {
         "hoverinfo": "text",
         "marker": {
          "color": "green",
          "size": 0.5
         },
         "mode": "markers",
         "text": "Spark appears with VBA 10 times",
         "type": "scatter",
         "x": [
          -0.896334753004447
         ],
         "y": [
          -0.08114191614977495
         ]
        },
        {
         "hoverinfo": "text",
         "marker": {
          "color": "blue",
          "size": 0.5
         },
         "mode": "markers",
         "text": "VBA appears with Spark 10 times",
         "type": "scatter",
         "x": [
          0.8125111748871416
         ],
         "y": [
          -0.38707310767284864
         ]
        },
        {
         "hoverinfo": "text",
         "marker": {
          "color": "green",
          "size": 0.5
         },
         "mode": "markers",
         "text": "Spark appears with Linux 113 times",
         "type": "scatter",
         "x": [
          -0.8846175116032309
         ],
         "y": [
          -0.16568602284111913
         ]
        },
        {
         "hoverinfo": "text",
         "marker": {
          "color": "blue",
          "size": 0.5
         },
         "mode": "markers",
         "text": "Linux appears with Spark 113 times",
         "type": "scatter",
         "x": [
          0.8822820425731069
         ],
         "y": [
          -0.17770311576623027
         ]
        },
        {
         "hoverinfo": "text",
         "marker": {
          "color": "green",
          "size": 0.5
         },
         "mode": "markers",
         "text": "Spark appears with AWS 85 times",
         "type": "scatter",
         "x": [
          -0.8871490348517216
         ],
         "y": [
          -0.15154731921633888
         ]
        },
        {
         "hoverinfo": "text",
         "marker": {
          "color": "blue",
          "size": 0.5
         },
         "mode": "markers",
         "text": "AWS appears with Spark 85 times",
         "type": "scatter",
         "x": [
          0.8986335931661875
         ],
         "y": [
          -0.04957484476251105
         ]
        },
        {
         "hoverinfo": "text",
         "marker": {
          "color": "green",
          "size": 0.5
         },
         "mode": "markers",
         "text": "Informatica appears with Qlik 101 times",
         "type": "scatter",
         "x": [
          -0.8267517417175002
         ],
         "y": [
          -0.3556424574865603
         ]
        },
        {
         "hoverinfo": "text",
         "marker": {
          "color": "blue",
          "size": 0.5
         },
         "mode": "markers",
         "text": "Qlik appears with Informatica 101 times",
         "type": "scatter",
         "x": [
          -0.760010136833977
         ],
         "y": [
          -0.48206285058029474
         ]
        },
        {
         "hoverinfo": "text",
         "marker": {
          "color": "green",
          "size": 0.5
         },
         "mode": "markers",
         "text": "Informatica appears with Tableau 84 times",
         "type": "scatter",
         "x": [
          -0.831621217378304
         ],
         "y": [
          -0.3441019482743854
         ]
        },
        {
         "hoverinfo": "text",
         "marker": {
          "color": "blue",
          "size": 0.5
         },
         "mode": "markers",
         "text": "Tableau appears with Informatica 84 times",
         "type": "scatter",
         "x": [
          -0.5108848038022675
         ],
         "y": [
          -0.7409431268619197
         ]
        },
        {
         "hoverinfo": "text",
         "marker": {
          "color": "green",
          "size": 0.5
         },
         "mode": "markers",
         "text": "Informatica appears with Microstrategy 27 times",
         "type": "scatter",
         "x": [
          -0.8473329050720594
         ],
         "y": [
          -0.3033594369426216
         ]
        },
        {
         "hoverinfo": "text",
         "marker": {
          "color": "blue",
          "size": 0.5
         },
         "mode": "markers",
         "text": "Microstrategy appears with Informatica 27 times",
         "type": "scatter",
         "x": [
          -0.09814711272710948
         ],
         "y": [
          -0.8946324073402059
         ]
        },
        {
         "hoverinfo": "text",
         "marker": {
          "color": "green",
          "size": 0.5
         },
         "mode": "markers",
         "text": "Informatica appears with Oracle BI 143 times",
         "type": "scatter",
         "x": [
          -0.8130249490214885
         ],
         "y": [
          -0.38599278784532515
         ]
        },
        {
         "hoverinfo": "text",
         "marker": {
          "color": "blue",
          "size": 0.5
         },
         "mode": "markers",
         "text": "Oracle BI appears with Informatica 143 times",
         "type": "scatter",
         "x": [
          0.08367851661581384
         ],
         "y": [
          -0.89610150421533
         ]
        },
        {
         "hoverinfo": "text",
         "marker": {
          "color": "green",
          "size": 0.5
         },
         "mode": "markers",
         "text": "Informatica appears with Python 33 times",
         "type": "scatter",
         "x": [
          -0.8459549645158421
         ],
         "y": [
          -0.3071810508657727
         ]
        },
        {
         "hoverinfo": "text",
         "marker": {
          "color": "blue",
          "size": 0.5
         },
         "mode": "markers",
         "text": "Python appears with Informatica 33 times",
         "type": "scatter",
         "x": [
          0.5542080734072498
         ],
         "y": [
          -0.709121577284336
         ]
        },
        {
         "hoverinfo": "text",
         "marker": {
          "color": "green",
          "size": 0.5
         },
         "mode": "markers",
         "text": "Informatica appears with VBA 6 times",
         "type": "scatter",
         "x": [
          -0.8535989811095163
         ],
         "y": [
          -0.2852521331187475
         ]
        },
        {
         "hoverinfo": "text",
         "marker": {
          "color": "blue",
          "size": 0.5
         },
         "mode": "markers",
         "text": "VBA appears with Informatica 6 times",
         "type": "scatter",
         "x": [
          0.8112808036798902
         ],
         "y": [
          -0.3896452971363976
         ]
        },
        {
         "hoverinfo": "text",
         "marker": {
          "color": "green",
          "size": 0.5
         },
         "mode": "markers",
         "text": "Informatica appears with Linux 15 times",
         "type": "scatter",
         "x": [
          -0.8520631755519936
         ],
         "y": [
          -0.2898074272137491
         ]
        },
        {
         "hoverinfo": "text",
         "marker": {
          "color": "blue",
          "size": 0.5
         },
         "mode": "markers",
         "text": "Linux appears with Informatica 15 times",
         "type": "scatter",
         "x": [
          0.8659511179868097
         ],
         "y": [
          -0.24521146232873048
         ]
        },
        {
         "hoverinfo": "text",
         "marker": {
          "color": "green",
          "size": 0.5
         },
         "mode": "markers",
         "text": "Informatica appears with AWS 24 times",
         "type": "scatter",
         "x": [
          -0.8496580977183642
         ],
         "y": [
          -0.2967846306357702
         ]
        },
        {
         "hoverinfo": "text",
         "marker": {
          "color": "blue",
          "size": 0.5
         },
         "mode": "markers",
         "text": "AWS appears with Informatica 24 times",
         "type": "scatter",
         "x": [
          0.8949370566283645
         ],
         "y": [
          -0.0953292435371194
         ]
        },
        {
         "hoverinfo": "text",
         "marker": {
          "color": "green",
          "size": 0.5
         },
         "mode": "markers",
         "text": "Qlik appears with Tableau 388 times",
         "type": "scatter",
         "x": [
          -0.7086281971210456
         ],
         "y": [
          -0.5548387858152822
         ]
        },
        {
         "hoverinfo": "text",
         "marker": {
          "color": "blue",
          "size": 0.5
         },
         "mode": "markers",
         "text": "Tableau appears with Qlik 388 times",
         "type": "scatter",
         "x": [
          -0.33151788073559463
         ],
         "y": [
          -0.8367173326474001
         ]
        },
        {
         "hoverinfo": "text",
         "marker": {
          "color": "green",
          "size": 0.5
         },
         "mode": "markers",
         "text": "Qlik appears with Microstrategy 50 times",
         "type": "scatter",
         "x": [
          -0.7829182582383323
         ],
         "y": [
          -0.4438907533583641
         ]
        },
        {
         "hoverinfo": "text",
         "marker": {
          "color": "blue",
          "size": 0.5
         },
         "mode": "markers",
         "text": "Microstrategy appears with Qlik 50 times",
         "type": "scatter",
         "x": [
          -0.08553830641473037
         ],
         "y": [
          -0.8959258887517983
         ]
        },
        {
         "hoverinfo": "text",
         "marker": {
          "color": "green",
          "size": 0.5
         },
         "mode": "markers",
         "text": "Qlik appears with Oracle BI 412 times",
         "type": "scatter",
         "x": [
          -0.6689358614897529
         ],
         "y": [
          -0.6021003348387728
         ]
        },
        {
         "hoverinfo": "text",
         "marker": {
          "color": "blue",
          "size": 0.5
         },
         "mode": "markers",
         "text": "Oracle BI appears with Qlik 412 times",
         "type": "scatter",
         "x": [
          0.31443851032242853
         ],
         "y": [
          -0.8432843074706252
         ]
        },
        {
         "hoverinfo": "text",
         "marker": {
          "color": "green",
          "size": 0.5
         },
         "mode": "markers",
         "text": "Qlik appears with Python 57 times",
         "type": "scatter",
         "x": [
          -0.7788132025135968
         ],
         "y": [
          -0.45105431556578135
         ]
        },
        {
         "hoverinfo": "text",
         "marker": {
          "color": "blue",
          "size": 0.5
         },
         "mode": "markers",
         "text": "Python appears with Qlik 57 times",
         "type": "scatter",
         "x": [
          0.5643767815366252
         ],
         "y": [
          -0.7010555245216747
         ]
        },
        {
         "hoverinfo": "text",
         "marker": {
          "color": "green",
          "size": 0.5
         },
         "mode": "markers",
         "text": "Qlik appears with VBA 31 times",
         "type": "scatter",
         "x": [
          -0.7886735525671367
         ],
         "y": [
          -0.43358278042506715
         ]
        },
        {
         "hoverinfo": "text",
         "marker": {
          "color": "blue",
          "size": 0.5
         },
         "mode": "markers",
         "text": "VBA appears with Qlik 31 times",
         "type": "scatter",
         "x": [
          0.8165248940048435
         ],
         "y": [
          -0.3785328221837297
         ]
        },
        {
         "hoverinfo": "text",
         "marker": {
          "color": "green",
          "size": 0.5
         },
         "mode": "markers",
         "text": "Qlik appears with Linux 2 times",
         "type": "scatter",
         "x": [
          -0.7959560079983816
         ],
         "y": [
          -0.42006432046923525
         ]
        },
        {
         "hoverinfo": "text",
         "marker": {
          "color": "blue",
          "size": 0.5
         },
         "mode": "markers",
         "text": "Linux appears with Qlik 2 times",
         "type": "scatter",
         "x": [
          0.8639030153443692
         ],
         "y": [
          -0.2523322810876693
         ]
        },
        {
         "hoverinfo": "text",
         "marker": {
          "color": "green",
          "size": 0.5
         },
         "mode": "markers",
         "text": "Qlik appears with AWS 3 times",
         "type": "scatter",
         "x": [
          -0.7957758606037961
         ],
         "y": [
          -0.4204054943507371
         ]
        },
        {
         "hoverinfo": "text",
         "marker": {
          "color": "blue",
          "size": 0.5
         },
         "mode": "markers",
         "text": "AWS appears with Qlik 3 times",
         "type": "scatter",
         "x": [
          0.8938636356329017
         ],
         "y": [
          -0.10491806752476526
         ]
        },
        {
         "hoverinfo": "text",
         "marker": {
          "color": "green",
          "size": 0.5
         },
         "mode": "markers",
         "text": "Tableau appears with Microstrategy 71 times",
         "type": "scatter",
         "x": [
          -0.5314556509085057
         ],
         "y": [
          -0.7263297399373212
         ]
        },
        {
         "hoverinfo": "text",
         "marker": {
          "color": "blue",
          "size": 0.5
         },
         "mode": "markers",
         "text": "Microstrategy appears with Tableau 71 times",
         "type": "scatter",
         "x": [
          -0.07323785379292531
         ],
         "y": [
          -0.8970151708704854
         ]
        },
        {
         "hoverinfo": "text",
         "marker": {
          "color": "green",
          "size": 0.5
         },
         "mode": "markers",
         "text": "Tableau appears with Oracle BI 528 times",
         "type": "scatter",
         "x": [
          -0.1827171978045734
         ],
         "y": [
          -0.8812572981975494
         ]
        },
        {
         "hoverinfo": "text",
         "marker": {
          "color": "blue",
          "size": 0.5
         },
         "mode": "markers",
         "text": "Oracle BI appears with Tableau 528 times",
         "type": "scatter",
         "x": [
          0.3836906100567467
         ],
         "y": [
          -0.8141139451908938
         ]
        },
        {
         "hoverinfo": "text",
         "marker": {
          "color": "green",
          "size": 0.5
         },
         "mode": "markers",
         "text": "Tableau appears with Python 199 times",
         "type": "scatter",
         "x": [
          -0.44187614295284394
         ],
         "y": [
          -0.7840570606079112
         ]
        },
        {
         "hoverinfo": "text",
         "marker": {
          "color": "blue",
          "size": 0.5
         },
         "mode": "markers",
         "text": "Python appears with Tableau 199 times",
         "type": "scatter",
         "x": [
          0.664041698476397
         ],
         "y": [
          -0.6074937223417061
         ]
        },
        {
         "hoverinfo": "text",
         "marker": {
          "color": "green",
          "size": 0.5
         },
         "mode": "markers",
         "text": "Tableau appears with VBA 92 times",
         "type": "scatter",
         "x": [
          -0.4993624193121691
         ],
         "y": [
          -0.7487570862293709
         ]
        },
        {
         "hoverinfo": "text",
         "marker": {
          "color": "blue",
          "size": 0.5
         },
         "mode": "markers",
         "text": "VBA appears with Tableau 92 times",
         "type": "scatter",
         "x": [
          0.8286628475555129
         ],
         "y": [
          -0.3511664634915881
         ]
        },
        {
         "hoverinfo": "text",
         "marker": {
          "color": "green",
          "size": 0.5
         },
         "mode": "markers",
         "text": "Tableau appears with Linux 31 times",
         "type": "scatter",
         "x": [
          -0.5690024631614856
         ],
         "y": [
          -0.6973063866882062
         ]
        },
        {
         "hoverinfo": "text",
         "marker": {
          "color": "blue",
          "size": 0.5
         },
         "mode": "markers",
         "text": "Linux appears with Tableau 31 times",
         "type": "scatter",
         "x": [
          0.8677424280523921
         ],
         "y": [
          -0.23879505555546807
         ]
        },
        {
         "hoverinfo": "text",
         "marker": {
          "color": "green",
          "size": 0.5
         },
         "mode": "markers",
         "text": "Tableau appears with AWS 36 times",
         "type": "scatter",
         "x": [
          -0.5609361901377399
         ],
         "y": [
          -0.7038114737582483
         ]
        },
        {
         "hoverinfo": "text",
         "marker": {
          "color": "blue",
          "size": 0.5
         },
         "mode": "markers",
         "text": "AWS appears with Tableau 36 times",
         "type": "scatter",
         "x": [
          0.8953201213666989
         ],
         "y": [
          -0.09166177107125703
         ]
        },
        {
         "hoverinfo": "text",
         "marker": {
          "color": "green",
          "size": 0.5
         },
         "mode": "markers",
         "text": "Microstrategy appears with Oracle BI 72 times",
         "type": "scatter",
         "x": [
          -0.06548188525388934
         ],
         "y": [
          -0.8976146849866019
         ]
        },
        {
         "hoverinfo": "text",
         "marker": {
          "color": "blue",
          "size": 0.5
         },
         "mode": "markers",
         "text": "Oracle BI appears with Microstrategy 72 times",
         "type": "scatter",
         "x": [
          -0.002322402604306493
         ],
         "y": [
          -0.8999970035762027
         ]
        },
        {
         "hoverinfo": "text",
         "marker": {
          "color": "green",
          "size": 0.5
         },
         "mode": "markers",
         "text": "Microstrategy appears with Python 20 times",
         "type": "scatter",
         "x": [
          -0.10846867970132935
         ],
         "y": [
          -0.8934397268556231
         ]
        },
        {
         "hoverinfo": "text",
         "marker": {
          "color": "blue",
          "size": 0.5
         },
         "mode": "markers",
         "text": "Python appears with Microstrategy 20 times",
         "type": "scatter",
         "x": [
          0.5470957731429866
         ],
         "y": [
          -0.7146231279556223
         ]
        },
        {
         "hoverinfo": "text",
         "marker": {
          "color": "green",
          "size": 0.5
         },
         "mode": "markers",
         "text": "Microstrategy appears with VBA 7 times",
         "type": "scatter",
         "x": [
          -0.11133027575563206
         ],
         "y": [
          -0.8930876607031221
         ]
        },
        {
         "hoverinfo": "text",
         "marker": {
          "color": "blue",
          "size": 0.5
         },
         "mode": "markers",
         "text": "VBA appears with Microstrategy 7 times",
         "type": "scatter",
         "x": [
          0.8120141492111213
         ],
         "y": [
          -0.388114701449119
         ]
        },
        {
         "hoverinfo": "text",
         "marker": {
          "color": "green",
          "size": 0.5
         },
         "mode": "markers",
         "text": "Microstrategy appears with Linux 13 times",
         "type": "scatter",
         "x": [
          -0.11025056082869274
         ],
         "y": [
          -0.8932215927959639
         ]
        },
        {
         "hoverinfo": "text",
         "marker": {
          "color": "blue",
          "size": 0.5
         },
         "mode": "markers",
         "text": "Linux appears with Microstrategy 13 times",
         "type": "scatter",
         "x": [
          0.8654305964447877
         ],
         "y": [
          -0.247042269130647
         ]
        },
        {
         "hoverinfo": "text",
         "marker": {
          "color": "green",
          "size": 0.5
         },
         "mode": "markers",
         "text": "Microstrategy appears with AWS 2 times",
         "type": "scatter",
         "x": [
          -0.11354318099989862
         ],
         "y": [
          -0.8928090199188314
         ]
        },
        {
         "hoverinfo": "text",
         "marker": {
          "color": "blue",
          "size": 0.5
         },
         "mode": "markers",
         "text": "AWS appears with Microstrategy 2 times",
         "type": "scatter",
         "x": [
          0.8937701462397527
         ],
         "y": [
          -0.10571152108720766
         ]
        },
        {
         "hoverinfo": "text",
         "marker": {
          "color": "green",
          "size": 0.5
         },
         "mode": "markers",
         "text": "Oracle BI appears with Python 217 times",
         "type": "scatter",
         "x": [
          0.14142523851346273
         ],
         "y": [
          -0.888818824008251
         ]
        },
        {
         "hoverinfo": "text",
         "marker": {
          "color": "blue",
          "size": 0.5
         },
         "mode": "markers",
         "text": "Python appears with Oracle BI 217 times",
         "type": "scatter",
         "x": [
          0.6855587046837978
         ],
         "y": [
          -0.583103131900587
         ]
        },
        {
         "hoverinfo": "text",
         "marker": {
          "color": "green",
          "size": 0.5
         },
         "mode": "markers",
         "text": "Oracle BI appears with VBA 95 times",
         "type": "scatter",
         "x": [
          0.04779295449514305
         ],
         "y": [
          -0.8987301227290789
         ]
        },
        {
         "hoverinfo": "text",
         "marker": {
          "color": "blue",
          "size": 0.5
         },
         "mode": "markers",
         "text": "VBA appears with Oracle BI 95 times",
         "type": "scatter",
         "x": [
          0.8335336921521855
         ],
         "y": [
          -0.33944304978471085
         ]
        },
        {
         "hoverinfo": "text",
         "marker": {
          "color": "green",
          "size": 0.5
         },
         "mode": "markers",
         "text": "Oracle BI appears with Linux 10 times",
         "type": "scatter",
         "x": [
          -0.03254195698113797
         ],
         "y": [
          -0.8994114859372421
         ]
        },
        {
         "hoverinfo": "text",
         "marker": {
          "color": "blue",
          "size": 0.5
         },
         "mode": "markers",
         "text": "Linux appears with Oracle BI 10 times",
         "type": "scatter",
         "x": [
          0.8645103712498807
         ],
         "y": [
          -0.25024351740133716
         ]
        },
        {
         "hoverinfo": "text",
         "marker": {
          "color": "green",
          "size": 0.5
         },
         "mode": "markers",
         "text": "Oracle BI appears with AWS 56 times",
         "type": "scatter",
         "x": [
          -0.01255747596929745
         ],
         "y": [
          -0.8999123900676557
         ]
        },
        {
         "hoverinfo": "text",
         "marker": {
          "color": "blue",
          "size": 0.5
         },
         "mode": "markers",
         "text": "AWS appears with Oracle BI 56 times",
         "type": "scatter",
         "x": [
          0.8967334899192002
         ],
         "y": [
          -0.07660971255220585
         ]
        },
        {
         "hoverinfo": "text",
         "marker": {
          "color": "green",
          "size": 0.5
         },
         "mode": "markers",
         "text": "Python appears with VBA 76 times",
         "type": "scatter",
         "x": [
          0.5895168119575513
         ],
         "y": [
          -0.6800514160116168
         ]
        },
        {
         "hoverinfo": "text",
         "marker": {
          "color": "blue",
          "size": 0.5
         },
         "mode": "markers",
         "text": "VBA appears with Python 76 times",
         "type": "scatter",
         "x": [
          0.8241462733201885
         ],
         "y": [
          -0.36163921271405997
         ]
        },
        {
         "hoverinfo": "text",
         "marker": {
          "color": "green",
          "size": 0.5
         },
         "mode": "markers",
         "text": "Python appears with Linux 141 times",
         "type": "scatter",
         "x": [
          0.6458103083856453
         ],
         "y": [
          -0.6268405264362201
         ]
        },
        {
         "hoverinfo": "text",
         "marker": {
          "color": "blue",
          "size": 0.5
         },
         "mode": "markers",
         "text": "Linux appears with Python 141 times",
         "type": "scatter",
         "x": [
          0.8885144049096199
         ],
         "y": [
          -0.14332533714631263
         ]
        },
        {
         "hoverinfo": "text",
         "marker": {
          "color": "green",
          "size": 0.5
         },
         "mode": "markers",
         "text": "Python appears with AWS 131 times",
         "type": "scatter",
         "x": [
          0.6151325674818028
         ],
         "y": [
          -0.656971783582252
         ]
        },
        {
         "hoverinfo": "text",
         "marker": {
          "color": "blue",
          "size": 0.5
         },
         "mode": "markers",
         "text": "AWS appears with Python 131 times",
         "type": "scatter",
         "x": [
          0.8992670321770042
         ],
         "y": [
          -0.03631535267022773
         ]
        },
        {
         "hoverinfo": "text",
         "marker": {
          "color": "green",
          "size": 0.5
         },
         "mode": "markers",
         "text": "VBA appears with Linux 5 times",
         "type": "scatter",
         "x": [
          0.8109572175002351
         ],
         "y": [
          -0.3903183205849765
         ]
        },
        {
         "hoverinfo": "text",
         "marker": {
          "color": "blue",
          "size": 0.5
         },
         "mode": "markers",
         "text": "Linux appears with VBA 5 times",
         "type": "scatter",
         "x": [
          0.8640363058091239
         ],
         "y": [
          -0.25187548956522565
         ]
        },
        {
         "hoverinfo": "text",
         "marker": {
          "color": "green",
          "size": 0.5
         },
         "mode": "markers",
         "text": "VBA appears with AWS 5 times",
         "type": "scatter",
         "x": [
          0.8106625637409784
         ],
         "y": [
          -0.39092992690366396
         ]
        },
        {
         "hoverinfo": "text",
         "marker": {
          "color": "blue",
          "size": 0.5
         },
         "mode": "markers",
         "text": "AWS appears with VBA 5 times",
         "type": "scatter",
         "x": [
          0.8939208174576562
         ],
         "y": [
          -0.10442974727459566
         ]
        },
        {
         "hoverinfo": "text",
         "marker": {
          "color": "green",
          "size": 0.5
         },
         "mode": "markers",
         "text": "Linux appears with AWS 39 times",
         "type": "scatter",
         "x": [
          0.8701495379593179
         ],
         "y": [
          -0.22986905313500908
         ]
        },
        {
         "hoverinfo": "text",
         "marker": {
          "color": "blue",
          "size": 0.5
         },
         "mode": "markers",
         "text": "AWS appears with Linux 39 times",
         "type": "scatter",
         "x": [
          0.896217647039134
         ],
         "y": [
          -0.08242529427086229
         ]
        }
       ],
       "layout": {
        "autosize": false,
        "font": {
         "color": "#655643",
         "family": "Fira Sans Condensed",
         "size": 12
        },
        "height": 525,
        "hidesources": true,
        "hoverdistance": 40,
        "hovermode": "closest",
        "margin": {
         "b": 10,
         "l": 280,
         "r": 280,
         "t": 80
        },
        "paper_bgcolor": "#fffaf0",
        "plot_bgcolor": "#fffaf0",
        "shapes": [
         {
          "fillcolor": "#f2e6ce",
          "layer": "below",
          "line": {
           "color": "rgb(175,175,175)",
           "width": 0.5
          },
          "path": "M 0.9677245593828349,0.2520102719479864 Q 0.18251530385571652, 0.0817811950172867 0.8321888320457139, 0.5544923334171453L 0.8321888320457139, 0.5544923334171453 L 0.8455970319922944, 0.5338217487943169 L 0.8584919098130597, 0.5128271061337587 M 0.8584919098130597,0.5128271061337587 Q 0.182641083219704, 0.08149990625965878 0.9550541723247467, 0.2964313207559097L 0.9550541723247467, 0.2964313207559097 L 0.9616458912567832, 0.27429396608191553 L 0.9677245593828349, 0.2520102719479864 ",
          "type": "path"
         },
         {
          "fillcolor": "#f2e6ce",
          "layer": "below",
          "line": {
           "color": "rgb(175,175,175)",
           "width": 0.5
          },
          "path": "M 0.9944175612031148,0.10551641564633245 Q 0.1441748534507573, 0.13861317265127673 0.14453473915912016, 0.9894997267186106L 0.14453473915912016, 0.9894997267186106 L 0.1593751486218238, 0.9872180924201964 L 0.1741796279759819, 0.984713896113053 M 0.1741796279759819,0.984713896113053 Q 0.14425792393738676, 0.13852671721106777 0.9909625913599597, 0.13413851991562117L 0.9909625913599597, 0.13413851991562117 L 0.9927932280999124, 0.11983991922124829 L 0.9944175612031148, 0.10551641564633245 ",
          "type": "path"
         },
         {
          "fillcolor": "#f2e6ce",
          "layer": "below",
          "line": {
           "color": "rgb(175,175,175)",
           "width": 0.5
          },
          "path": "M 0.997007032594834,0.07731091097926336 Q 0.10131625973947873, 0.17243843977606177 -0.41775970461076667, 0.9085575541502723L -0.41775970461076667, 0.9085575541502723 L -0.4046052994709307, 0.9144914169307651 L -0.391366635640783, 0.9202348376948215 M -0.391366635640783,0.9202348376948215 Q 0.10136254367599332, 0.17241123727742447 0.9944175612031148, 0.10551641564633245L 0.9944175612031148, 0.10551641564633245 L 0.9958121639241069, 0.09142283183531183 L 0.997007032594834, 0.07731091097926336 ",
          "type": "path"
         },
         {
          "fillcolor": "#f2e6ce",
          "layer": "below",
          "line": {
           "color": "rgb(175,175,175)",
           "width": 0.5
          },
          "path": "M 1.0,0.0 Q 0.07862081212754543, 0.18389879798521036 -0.6909383950202603, 0.7229136423438326L -0.6909383950202603, 0.7229136423438326 L -0.6906622914646335, 0.7231774326877336 L -0.690386087197654, 0.7234411175789728 M -0.690386087197654,0.7234411175789728 Q 0.07861352193494209, 0.18390191453322172 0.9999996446687888, 0.0008430078861573512L 0.9999996446687888, 0.0008430078861573512 L 0.9999999111671932, 0.0004215039805220572 L 1.0, 0.0 ",
          "type": "path"
         },
         {
          "fillcolor": "#f2e6ce",
          "layer": "below",
          "line": {
           "color": "rgb(175,175,175)",
           "width": 0.5
          },
          "path": "M 0.999002040599999,0.04466455951913207 Q 0.049240811201415394, 0.1938436032275158 -0.8565739543347345, 0.5160242831062858L -0.8565739543347345, 0.5160242831062858 L -0.8532625555550754, 0.5214815541202028 L -0.8499163887420366, 0.5269175762372095 M -0.8499163887420366,0.5269175762372095 Q 0.049219914623784146, 0.19384891024823278 0.9983380220760221, 0.05762979851896141L 0.9983380220760221, 0.05762979851896141 L 0.9986910712769207, 0.05114825658569861 L 0.999002040599999, 0.04466455951913207 ",
          "type": "path"
         },
         {
          "fillcolor": "#f2e6ce",
          "layer": "below",
          "line": {
           "color": "rgb(175,175,175)",
           "width": 0.5
          },
          "path": "M 0.9999975979618317,0.0021918190086705697 Q 0.03374179380160862, 0.19713318176057965 -0.9423433441078437, 0.3346476084116635L -0.9423433441078437, 0.3346476084116635 L -0.942120634399239, 0.3352740822658016 L -0.9418975082082094, 0.3359004079056264 M -0.9418975082082094,0.3359004079056264 Q 0.033690059768471725, 0.19714202969635067 0.99999181317958, 0.004046427290336558L 0.99999181317958, 0.004046427290336558 L 0.9999951355193746, 0.0031191244905735094 L 0.9999975979618317, 0.0021918190086705697 ",
          "type": "path"
         },
         {
          "fillcolor": "#f2e6ce",
          "layer": "below",
          "line": {
           "color": "rgb(175,175,175)",
           "width": 0.5
          },
          "path": "M 0.99999181317958,0.004046427290336558 Q 0.024849141048782455, 0.1984502965206596 -0.9681203641245009, 0.2504854498118481L -0.9681203641245009, 0.2504854498118481 L -0.9679157420844986, 0.25127498129542125 L -0.967710476157769, 0.2520643456233031 M -0.967710476157769,0.2520643456233031 Q 0.02481024567467964, 0.19845516297028415 0.9999815796854725, 0.0060696202308666925L 0.9999815796854725, 0.0060696202308666925 L 0.9999872081029118, 0.005058026348677023 L 0.99999181317958, 0.004046427290336558 ",
          "type": "path"
         },
         {
          "fillcolor": "#f2e6ce",
          "layer": "below",
          "line": {
           "color": "rgb(175,175,175)",
           "width": 0.5
          },
          "path": "M 0.9996541263052342,0.02629881672088868 Q 0.008901305715224917, 0.1998018187018429 -0.9933552159430931, 0.11508872646202596L -0.9933552159430931, 0.11508872646202596 L -0.9928752556312064, 0.11915841034214289 L -0.9923786222741496, 0.12322609323215838 M -0.9923786222741496,0.12322609323215838 Q 0.008861055552625641, 0.19980360781150397 0.9993910382969626, 0.0348934459708271L 0.9993910382969626, 0.0348934459708271 L 0.9995318201252235, 0.030596414122540765 L 0.9996541263052342, 0.02629881672088868 ",
          "type": "path"
         },
         {
          "fillcolor": "#f2e6ce",
          "layer": "below",
          "line": {
           "color": "rgb(175,175,175)",
           "width": 0.5
          },
          "path": "M 0.9993910382969626,0.0348934459708271 Q -0.01635269471487623, 0.199330352369031 -0.9917155628021314, -0.12845326969778473L -0.9917155628021314, -0.12845326969778473 L -0.9923052491312082, -0.12381555858070047 L -0.9928732475431139, -0.11917514133908311 M -0.9928732475431139,-0.11917514133908311 Q -0.016395429144015587, 0.19932684190340139 0.999002040599999, 0.04466455951913207L 0.999002040599999, 0.04466455951913207 L 0.999208483306068, 0.039779478241766246 L 0.9993910382969626, 0.0348934459708271 ",
          "type": "path"
         },
         {
          "fillcolor": "#f2e6ce",
          "layer": "below",
          "line": {
           "color": "rgb(175,175,175)",
           "width": 0.5
          },
          "path": "M 0.9999658741825531,0.008261384286082274 Q -0.03482449144167903, 0.19694480139325443 -0.9421637195299268, -0.3351529883523843L -0.9421637195299268, -0.3351529883523843 L -0.9428174738050555, -0.33330948244514946 L -0.9434676209466256, -0.3314647013262715 M -0.9434676209466256,-0.3314647013262715 Q -0.034870935460199544, 0.19693658334634173 0.9999200515380625, 0.012644782802340002L 0.9999200515380625, 0.012644782802340002 L 0.9999453647672402, 0.010453108652977099 L 0.9999658741825531, 0.008261384286082274 ",
          "type": "path"
         },
         {
          "fillcolor": "#f2e6ce",
          "layer": "below",
          "line": {
           "color": "rgb(175,175,175)",
           "width": 0.5
          },
          "path": "M 0.9909625913599597,0.13413851991562117 Q -0.0746994151064467, 0.18552627140853872 -0.807433200555445, -0.5899590042035044L -0.807433200555445, -0.5899590042035044 L -0.8186629957390024, -0.5742742371094511 L -0.8295881498695771, -0.5583757709607142 M -0.8295881498695771,-0.5583757709607142 Q -0.0746394793191138, 0.1855503924193414 0.9851622613962727, 0.1716255188501469L 0.9851622613962727, 0.1716255188501469 L 0.9882401920547906, 0.15290952490773896 L 0.9909625913599597, 0.13413851991562117 ",
          "type": "path"
         },
         {
          "fillcolor": "#f2e6ce",
          "layer": "below",
          "line": {
           "color": "rgb(175,175,175)",
           "width": 0.5
          },
          "path": "M 0.9776263014521938,0.21034926838214651 Q -0.12664215178962818, 0.15479588298818797 -0.39983732857445325, -0.9165861174371149L -0.39983732857445325, -0.9165861174371149 L -0.4201985162113571, -0.9074322051667407 L -0.44035028864315306, -0.8978260540282242 M -0.44035028864315306,-0.8978260540282242 Q -0.12650087738718188, 0.15491135536258527 0.9677245593828349, 0.2520102719479864L 0.9677245593828349, 0.2520102719479864 L 0.9728984544866052, 0.23123277721286614 L 0.9776263014521938, 0.21034926838214651 ",
          "type": "path"
         },
         {
          "fillcolor": "#f2e6ce",
          "layer": "below",
          "line": {
           "color": "rgb(175,175,175)",
           "width": 0.5
          },
          "path": "M 0.9999200515380625,0.012644782802340002 Q -0.13487800838240127, 0.1476750583368664 -0.10298192935021602, -0.9946832270764935L -0.10298192935021602, -0.9946832270764935 L -0.10520620332108287, -0.9944504285195733 L -0.10742995109367026, -0.994212656129468 M -0.10742995109367026,-0.994212656129468 Q -0.13500830942421257, 0.1475559432432868 0.9998217142987974, 0.018882256661055207L 0.9998217142987974, 0.018882256661055207 L 0.9998757467946281, 0.015763596413406945 L 0.9999200515380625, 0.012644782802340002 ",
          "type": "path"
         },
         {
          "fillcolor": "#f2e6ce",
          "layer": "below",
          "line": {
           "color": "rgb(175,175,175)",
           "width": 0.5
          },
          "path": "M 0.9851622613962727,0.1716255188501469 Q -0.1683303527039805, 0.10800413121058626 0.25456087290867413, -0.9670567522043233L 0.25456087290867413, -0.9670567522043233 L 0.2344014071039599, -0.9721398975187078 L 0.214140623065955, -0.9768028427236095 M 0.214140623065955,-0.9768028427236095 Q -0.16821529470527644, 0.10818324559383952 0.9776263014521938, 0.21034926838214651L 0.9776263014521938, 0.21034926838214651 L 0.9815852575332625, 0.19102455913666871 L 0.9851622613962727, 0.1716255188501469 ",
          "type": "path"
         },
         {
          "fillcolor": "#f2e6ce",
          "layer": "below",
          "line": {
           "color": "rgb(175,175,175)",
           "width": 0.5
          },
          "path": "M 0.9983380220760221,0.05762979851896141 Q -0.18528466034148672, 0.07529671069933871 0.6751288232395971, -0.737699852264535L 0.6751288232395971, -0.737699852264535 L 0.6675956157725349, -0.744524072009287 L 0.6599934328672927, -0.7512713681300829 M 0.6599934328672927,-0.7512713681300829 Q -0.18526195334703083, 0.07535256227921233 0.997007032594834, 0.07731091097926336L 0.997007032594834, 0.07731091097926336 L 0.9977210573836653, 0.06747363672739769 L 0.9983380220760221, 0.05762979851896141 ",
          "type": "path"
         },
         {
          "fillcolor": "#f2e6ce",
          "layer": "below",
          "line": {
           "color": "rgb(175,175,175)",
           "width": 0.5
          },
          "path": "M 0.9998217142987974,0.018882256661055207 Q -0.19600627204453053, 0.03976859714907594 0.9133994867457178, -0.40706434087581206L 0.9133994867457178, -0.40706434087581206 L 0.9120434170242487, -0.41009365450191054 L 0.9106773005369972, -0.4131184506732271 M 0.9106773005369972,-0.4131184506732271 Q -0.19602177673067825, 0.03969210308547691 0.9996541263052342, 0.02629881672088868L 0.9996541263052342, 0.02629881672088868 L 0.9997447977511961, 0.022590692096968748 L 0.9998217142987974, 0.018882256661055207 ",
          "type": "path"
         },
         {
          "fillcolor": "#f2e6ce",
          "layer": "below",
          "line": {
           "color": "rgb(175,175,175)",
           "width": 0.5
          },
          "path": "M 0.9999815796854725,0.0060696202308666925 Q -0.1981400336783904, 0.027212626736982316 0.9613195664891164, -0.27543545720400153L 0.9613195664891164, -0.27543545720400153 L 0.961048654548557, -0.27637923871088477 L 0.9607768160448324, -0.2773227537558974 M 0.9607768160448324,-0.2773227537558974 Q -0.1981431350610287, 0.027190035457625668 0.9999658741825531, 0.008261384286082274L 0.9999658741825531, 0.008261384286082274 L 0.9999743274283186, 0.007165506561430839 L 0.9999815796854725, 0.0060696202308666925 ",
          "type": "path"
         },
         {
          "fillcolor": "#f2e6ce",
          "layer": "below",
          "line": {
           "color": "rgb(175,175,175)",
           "width": 0.5
          },
          "path": "M 0.9999996446687888,0.0008430078861573512 Q -0.1996797375500835, 0.011313815091726185 0.9935043027203374, -0.11379455380718391L 0.9935043027203374, -0.11379455380718391 L 0.9934419901798818, -0.11433727365752454 L 0.9933793811688293, -0.11487995938645598 M 0.9933793811688293,-0.11487995938645598 Q -0.19968118544882185, 0.01128823182580982 0.9999975979618317, 0.0021918190086705697L 0.9999975979618317, 0.0021918190086705697 L 0.9999988487270285, 0.0015174137924920355 L 0.9999996446687888, 0.0008430078861573512 ",
          "type": "path"
         },
         {
          "fillcolor": "#ecd5bb",
          "layer": "below",
          "line": {
           "color": "rgb(175,175,175)",
           "width": 0.5
          },
          "path": "M 0.5718682899792731,0.8203454509633012 Q 0.040280926968508234, 0.19590162562510224 -0.20180259583306337, 0.9794262158606115L -0.20180259583306337, 0.9794262158606115 L -0.14134631604615638, 0.9899602107863629 L -0.08035773637748246, 0.99676608800876 M -0.08035773637748246,0.99676608800876 Q 0.039990984612917696, 0.19596101946481445 0.46449856495310904, 0.8855738722187452L 0.46449856495310904, 0.8855738722187452 L 0.5192087742281315, 0.8546474412086665 L 0.5718682899792731, 0.8203454509633012 ",
          "type": "path"
         },
         {
          "fillcolor": "#ecd5bb",
          "layer": "below",
          "line": {
           "color": "rgb(175,175,175)",
           "width": 0.5
          },
          "path": "M 0.8321888320457139,0.5544923334171453 Q 0.042426421487122, 0.19544819968420551 -0.5273946147404905, 0.8496204566409225L -0.5273946147404905, 0.8496204566409225 L -0.5061427142442411, 0.8624497392993243 L -0.48457891151592947, 0.8747475513049676 M -0.48457891151592947,0.8747475513049676 Q 0.042199042210383314, 0.19549741900221163 0.8022577798965546, 0.5969777672538998L 0.8022577798965546, 0.5969777672538998 L 0.8174993485284648, 0.5759295227330646 L 0.8321888320457139, 0.5544923334171453 ",
          "type": "path"
         },
         {
          "fillcolor": "#ecd5bb",
          "layer": "below",
          "line": {
           "color": "rgb(175,175,175)",
           "width": 0.5
          },
          "path": "M 0.9289869663658735,0.37011243740562333 Q 0.048675678021000444, 0.1939862839718208 -0.644195779499104, 0.7648606393818038L -0.644195779499104, 0.7648606393818038 L -0.6400231993324789, 0.768355584554585 L -0.6358316584356873, 0.7718277671416878 M -0.6358316584356873,0.7718277671416878 Q 0.04835338693102395, 0.1940668698472222 0.9236348485533202, 0.38327361836928625L 0.9236348485533202, 0.38327361836928625 L 0.9263342816984111, 0.3767025332411353 L 0.9289869663658735, 0.37011243740562333 ",
          "type": "path"
         },
         {
          "fillcolor": "#ecd5bb",
          "layer": "below",
          "line": {
           "color": "rgb(175,175,175)",
           "width": 0.5
          },
          "path": "M 0.8886390172653607,0.45860734511524565 Q 0.01890943778272862, 0.19910407620825124 -0.7864200274026745, 0.6176921081736246L -0.7864200274026745, 0.6176921081736246 L -0.7793402437466079, 0.6266009770794949 L -0.7721595423234217, 0.6354287066216666 M -0.7721595423234217,0.6354287066216666 Q 0.018507382191182264, 0.19914185096164372 0.8760320370478332, 0.4822529108940907L 0.8760320370478332, 0.4822529108940907 L 0.8824147328087628, 0.47047235765987333 L 0.8886390172653607, 0.45860734511524565 ",
          "type": "path"
         },
         {
          "fillcolor": "#ecd5bb",
          "layer": "below",
          "line": {
           "color": "rgb(175,175,175)",
           "width": 0.5
          },
          "path": "M 0.8760320370478332,0.4822529108940907 Q -0.00879972213855571, 0.19980631844434804 -0.9150360751267443, 0.40337201342760887L -0.9150360751267443, 0.40337201342760887 L -0.9083613610592396, 0.4181861280992063 L -0.9014468306892145, 0.43288983753418225 M -0.9014468306892145,0.43288983753418225 Q -0.009074740844033797, 0.19979401662365576 0.8584919098130597, 0.5128271061337587L 0.8584919098130597, 0.5128271061337587 L 0.8673966946628923, 0.497617296813414 L 0.8760320370478332, 0.4822529108940907 ",
          "type": "path"
         },
         {
          "fillcolor": "#ecd5bb",
          "layer": "below",
          "line": {
           "color": "rgb(175,175,175)",
           "width": 0.5
          },
          "path": "M 0.9379480905609314,0.34677569034334405 Q -0.004323949963608852, 0.19995325317861726 -0.9520621738390855, 0.305904588302946L -0.9520621738390855, 0.305904588302946 L -0.9507780830367102, 0.3098726138545301 L -0.9494774542900998, 0.31383524944593383 M -0.9494774542900998,0.31383524944593383 Q -0.004730665665428969, 0.1999440441782699 0.9335726844579523, 0.35838811759595585L 0.9335726844579523, 0.35838811759595585 L 0.935778400556721, 0.35258869104312596 L 0.9379480905609314, 0.34677569034334405 ",
          "type": "path"
         },
         {
          "fillcolor": "#ecd5bb",
          "layer": "below",
          "line": {
           "color": "rgb(175,175,175)",
           "width": 0.5
          },
          "path": "M 0.9421187757481848,0.33527930503200076 Q -0.015883154080443312, 0.1993683159793875 -0.9833198781559622, 0.181884626132457L -0.9833198781559622, 0.181884626132457 L -0.9824687394964199, 0.1864274011842566 L -0.9815966140841901, 0.19096619391518885 M -0.9815966140841901,0.19096619391518885 Q -0.016180788850657365, 0.19934438058839393 0.9379480905609314, 0.34677569034334405L 0.9379480905609314, 0.34677569034334405 L 0.9400510077475327, 0.3410338734390591 L 0.9421187757481848, 0.33527930503200076 ",
          "type": "path"
         },
         {
          "fillcolor": "#ecd5bb",
          "layer": "below",
          "line": {
           "color": "rgb(175,175,175)",
           "width": 0.5
          },
          "path": "M 0.9165208587612966,0.3999868941046137 Q -0.037192086663197226, 0.1965114467140203 -0.9993005506147224, 0.03739531442724588L -0.9993005506147224, 0.03739531442724588 L -0.9989085984205934, 0.04670772956808806 L -0.9984298663393738, 0.056016086988829934 M -0.9984298663393738,0.056016086988829934 Q -0.03741027864579939, 0.19647002583509693 0.9079773837762727, 0.41901917682940854L 0.9079773837762727, 0.41901917682940854 L 0.9122987538093532, 0.4095253152100626 L 0.9165208587612966, 0.3999868941046137 ",
          "type": "path"
         },
         {
          "fillcolor": "#ecd5bb",
          "layer": "below",
          "line": {
           "color": "rgb(175,175,175)",
           "width": 0.5
          },
          "path": "M 0.9079773837762727,0.41901917682940854 Q -0.06349499338602982, 0.18965333061907463 -0.9772388797625206, -0.2121418673446943L -0.9772388797625206, -0.2121418673446943 L -0.9792614154984477, -0.2026007900181453 L -0.9811908011393988, -0.19304044073567753 M -0.9811908011393988,-0.19304044073567753 Q -0.06370881078457097, 0.18958161152499928 0.89864462891165, 0.43867736541590907L 0.89864462891165, 0.43867736541590907 L 0.9033644808585103, 0.4288736582295936 L 0.9079773837762727, 0.41901917682940854 ",
          "type": "path"
         },
         {
          "fillcolor": "#ecd5bb",
          "layer": "below",
          "line": {
           "color": "rgb(175,175,175)",
           "width": 0.5
          },
          "path": "M 0.89864462891165,0.43867736541590907 Q -0.08578654580959037, 0.18066728690623285 -0.9079225760045453, -0.41913791999921773L -0.9079225760045453, -0.41913791999921773 L -0.911792977862126, -0.41065017414012694 L -0.9155840338167935, -0.4021266927471598 M -0.9155840338167935,-0.4021266927471598 Q -0.08611556873480418, 0.18051068893968916 0.8886390172653607, 0.45860734511524565L 0.8886390172653607, 0.45860734511524565 L 0.89369738110596, 0.4486702475140831 L 0.89864462891165, 0.43867736541590907 ",
          "type": "path"
         },
         {
          "fillcolor": "#ecd5bb",
          "layer": "below",
          "line": {
           "color": "rgb(175,175,175)",
           "width": 0.5
          },
          "path": "M 0.7105273270794084,0.703669608178008 Q -0.1456636145470565, 0.137047843460182 -0.6590965900286703, -0.7520582989453537L -0.6590965900286703, -0.7520582989453537 L -0.6897280164232487, -0.7240685487996636 L -0.7191719309214113, -0.6948321623059548 M -0.7191719309214113,-0.6948321623059548 Q -0.1459410491957449, 0.13675236802207544 0.6466628531124895, 0.7627759529536933L 0.6466628531124895, 0.7627759529536933 L 0.6792383133337774, 0.7339177840190857 L 0.7105273270794084, 0.703669608178008 ",
          "type": "path"
         },
         {
          "fillcolor": "#ecd5bb",
          "layer": "below",
          "line": {
           "color": "rgb(175,175,175)",
           "width": 0.5
          },
          "path": "M 0.6466628531124895,0.7627759529536933 Q -0.17767301226043564, 0.09182755966649173 -0.24822505827325753, -0.9687023900276276L -0.24822505827325753, -0.9687023900276276 L -0.2926443935094791, -0.9562213441183318 L -0.33644073160195037, -0.9417046427193319 M -0.33644073160195037,-0.9417046427193319 Q -0.1777708262873997, 0.09163805607440155 0.5718682899792731, 0.8203454509633012L 0.5718682899792731, 0.8203454509633012 L 0.6099451601958974, 0.7924436267354297 L 0.6466628531124895, 0.7627759529536933 ",
          "type": "path"
         },
         {
          "fillcolor": "#ecd5bb",
          "layer": "below",
          "line": {
           "color": "rgb(175,175,175)",
           "width": 0.5
          },
          "path": "M 0.945271777943773,0.326284026306864 Q -0.15774160106660828, 0.12295359812930651 -0.08565191408246045, -0.9963251224444813L -0.08565191408246045, -0.9963251224444813 L -0.0888432227081665, -0.9960456223380669 L -0.09203361957398683, -0.9957559002426803 M -0.09203361957398683,-0.9957559002426803 Q -0.15793351418962107, 0.12270698878106645 0.9421187757481848, 0.33527930503200076L 0.9421187757481848, 0.33527930503200076 L 0.9437059946303428, 0.33078542243991876 L 0.945271777943773, 0.326284026306864 ",
          "type": "path"
         },
         {
          "fillcolor": "#ecd5bb",
          "layer": "below",
          "line": {
           "color": "rgb(175,175,175)",
           "width": 0.5
          },
          "path": "M 0.46449856495310904,0.8855738722187452 Q -0.19953453538118282, -0.013637052108703605 0.5806645523722214, -0.8141429098250306L 0.5806645523722214, -0.8141429098250306 L 0.5256173107580189, -0.8507211309421603 L 0.4682740859670784, -0.8835832617312854 M 0.4682740859670784,-0.8835832617312854 Q -0.19952357529105857, -0.013796481546875676 0.3422044408264565, 0.9396255215130399L 0.3422044408264565, 0.9396255215130399 L 0.4042558967798798, 0.9146459259837629 L 0.46449856495310904, 0.8855738722187452 ",
          "type": "path"
         },
         {
          "fillcolor": "#ecd5bb",
          "layer": "below",
          "line": {
           "color": "rgb(175,175,175)",
           "width": 0.5
          },
          "path": "M 0.7673995835033584,0.6411691502551197 Q -0.1988482546764746, -0.02143295621513511 0.8864036346832505, -0.46291316293698387L 0.8864036346832505, -0.46291316293698387 L 0.8667682158089213, -0.4987111990555448 L 0.8456878517914489, -0.5336778591363561 M 0.8456878517914489,-0.5336778591363561 Q -0.1988173643778965, -0.021717633891074332 0.7105273270794084, 0.703669608178008L 0.7105273270794084, 0.703669608178008 L 0.7396239348928095, 0.6730203822572367 L 0.7673995835033584, 0.6411691502551197 ",
          "type": "path"
         },
         {
          "fillcolor": "#ecd5bb",
          "layer": "below",
          "line": {
           "color": "rgb(175,175,175)",
           "width": 0.5
          },
          "path": "M 0.8022577798965546,0.5969777672538998 Q -0.19738160965183432, -0.03225678488707312 0.950565083626443, -0.31052539636920745L 0.950565083626443, -0.31052539636920745 L 0.9429693119727135, -0.33287967297164206 L 0.9348479203328239, -0.3550483993054947 M 0.9348479203328239,-0.3550483993054947 Q -0.19723326216358814, -0.033151776668970796 0.7673995835033584, 0.6411691502551197L 0.7673995835033584, 0.6411691502551197 L 0.7851396558586132, 0.6193187554064694 L 0.8022577798965546, 0.5969777672538998 ",
          "type": "path"
         },
         {
          "fillcolor": "#ecd5bb",
          "layer": "below",
          "line": {
           "color": "rgb(175,175,175)",
           "width": 0.5
          },
          "path": "M 0.9236348485533202,0.38327361836928625 Q -0.19913526661477307, -0.01857809436576464 0.9785924918831904, -0.20580751888560325L 0.9785924918831904, -0.20580751888560325 L 0.9769940165570021, -0.2132667147302087 L 0.9753386853317003, -0.22071349957678282 M 0.9753386853317003,-0.22071349957678282 Q -0.19910804889034506, -0.018867561238272768 0.9165208587612966, 0.3999868941046137L 0.9165208587612966, 0.3999868941046137 L 0.9201158025961138, 0.391646409166367 L 0.9236348485533202, 0.38327361836928625 ",
          "type": "path"
         },
         {
          "fillcolor": "#ecd5bb",
          "layer": "below",
          "line": {
           "color": "rgb(175,175,175)",
           "width": 0.5
          },
          "path": "M 0.9335726844579523,0.35838811759595585 Q -0.1978327277064568, -0.02936344407972133 0.9974205419476838, -0.07177926233104387L 0.9974205419476838, -0.07177926233104387 L 0.9970660439066062, -0.07654609126813448 L 0.9966887645745403, -0.08131117125510304 M 0.9966887645745403,-0.08131117125510304 Q -0.19778802529954057, -0.029663058643846975 0.9289869663658735, 0.37011243740562333L 0.9289869663658735, 0.37011243740562333 L 0.9312982756013203, 0.3642574938995864 L 0.9335726844579523, 0.35838811759595585 ",
          "type": "path"
         },
         {
          "fillcolor": "#e6c4a9",
          "layer": "below",
          "line": {
           "color": "rgb(175,175,175)",
           "width": 0.5
          },
          "path": "M 0.03668124006655194,0.9993270168604369 Q -0.05648231276758027, 0.1918586676291307 -0.5722965411636978, 0.8200467480406638L -0.5722965411636978, 0.8200467480406638 L -0.5500443715315754, 0.8351354317393282 L -0.5273946147404905, 0.8496204566409225 M -0.5273946147404905,0.8496204566409225 Q -0.05659687903623505, 0.1918249026674008 -0.018276414154611707, 0.9998329723937139L -0.018276414154611707, 0.9998329723937139 L 0.009205889525875385, 0.9999576249011942 L 0.03668124006655194, 0.9993270168604369 ",
          "type": "path"
         },
         {
          "fillcolor": "#e6c4a9",
          "layer": "below",
          "line": {
           "color": "rgb(175,175,175)",
           "width": 0.5
          },
          "path": "M 0.2884022532244425,0.957509342165947 Q -0.03939350694072933, 0.19608200226158115 -0.6358316584356873, 0.7718277671416878L -0.6358316584356873, 0.7718277671416878 L -0.6323154174727356, 0.7747110511837818 L -0.6287861019485065, 0.7775783163105838 M -0.6287861019485065,0.7775783163105838 Q -0.039638186772455036, 0.1960326864310949 0.27728515148844907, 0.9607876689279624L 0.27728515148844907, 0.9607876689279624 L 0.28284845203622977, 0.9591646121394953 L 0.2884022532244425, 0.957509342165947 ",
          "type": "path"
         },
         {
          "fillcolor": "#e6c4a9",
          "layer": "below",
          "line": {
           "color": "rgb(175,175,175)",
           "width": 0.5
          },
          "path": "M 0.22733198128739301,0.9738173187430733 Q -0.060886087079829315, 0.19050691431049804 -0.7499707785231566, 0.6614709603311172L -0.7499707785231566, 0.6614709603311172 L -0.7453555551529509, 0.6666671556351312 L -0.7407043305635372, 0.6718311504272648 M -0.7407043305635372,0.6718311504272648 Q -0.061084278353214616, 0.19044345863816642 0.21174124283742213, 0.9773257625181401L 0.21174124283742213, 0.9773257625181401 L 0.21954362056382049, 0.9756026848413903 L 0.22733198128739301, 0.9738173187430733 ",
          "type": "path"
         },
         {
          "fillcolor": "#e6c4a9",
          "layer": "below",
          "line": {
           "color": "rgb(175,175,175)",
           "width": 0.5
          },
          "path": "M 0.14453473915912016,0.9894997267186106 Q -0.09124974216787916, 0.17797045977997467 -0.8878230355281255, 0.4601850253817749L -0.8878230355281255, 0.4601850253817749 L -0.8811320565049261, 0.47287027713676366 L -0.874259842000006, 0.48545826665752084 M -0.874259842000006,0.48545826665752084 Q -0.09140075194107128, 0.1778929524871819 0.1144106071149744, 0.9934335473395203L 0.1144106071149744, 0.9934335473395203 L 0.12948761263310887, 0.9915810396405217 L 0.14453473915912016, 0.9894997267186106 ",
          "type": "path"
         },
         {
          "fillcolor": "#e6c4a9",
          "layer": "below",
          "line": {
           "color": "rgb(175,175,175)",
           "width": 0.5
          },
          "path": "M 0.26562292320501363,0.9640770003832803 Q -0.09585359567957809, 0.1755337238119672 -0.9546526623226907, 0.29772184051593953L -0.9546526623226907, 0.29772184051593953 L -0.9533661971929747, 0.30181599369451256 L -0.9520621738390855, 0.305904588302946 M -0.9520621738390855,0.305904588302946 Q -0.09619443256877275, 0.17534717318158236 0.2535819638796472, 0.9673139033400384L 0.2535819638796472, 0.9673139033400384 L 0.2596074884866319, 0.9657142185562265 L 0.26562292320501363, 0.9640770003832803 ",
          "type": "path"
         },
         {
          "fillcolor": "#e6c4a9",
          "layer": "below",
          "line": {
           "color": "rgb(175,175,175)",
           "width": 0.5
          },
          "path": "M 0.30182544466011246,0.9533632051614565 Q -0.09882960708311099, 0.17387555539464972 -0.973556777390674, 0.22844518203867992L -0.973556777390674, 0.22844518203867992 L -0.9729478059055224, 0.2310250354044552 L -0.9723319980126743, 0.23360326547520832 M -0.9723319980126743,0.23360326547520832 Q -0.0989641053825906, 0.1737990386792272 0.29528891685348807, 0.9554080047725652L 0.29528891685348807, 0.9554080047725652 L 0.2985589313398799, 0.9543912009847895 L 0.30182544466011246, 0.9533632051614565 ",
          "type": "path"
         },
         {
          "fillcolor": "#e6c4a9",
          "layer": "below",
          "line": {
           "color": "rgb(175,175,175)",
           "width": 0.5
          },
          "path": "M 0.2535819638796472,0.9673139033400384 Q -0.11455718435337468, 0.16394100009767823 -0.9955274513376249, 0.09447271369667007L -0.9955274513376249, 0.09447271369667007 L -0.9949642456349556, 0.10023048392611796 L -0.9943677393558682, 0.10598489952960412 M -0.9943677393558682,0.10598489952960412 Q -0.11464517361960591, 0.16387948061221824 0.24133116337617389, 0.9704428213880004L 0.24133116337617389, 0.9704428213880004 L 0.2474615089555786, 0.9688977250388341 L 0.2535819638796472, 0.9673139033400384 ",
          "type": "path"
         },
         {
          "fillcolor": "#e6c4a9",
          "layer": "below",
          "line": {
           "color": "rgb(175,175,175)",
           "width": 0.5
          },
          "path": "M 0.27728515148844907,0.9607876689279624 Q -0.13191922478228874, 0.15032404376160183 -0.98866118952214, -0.1501634187565905L -0.98866118952214, -0.1501634187565905 L -0.9894810586504997, -0.1446624850190477 L -0.990270320698192, -0.13915707651535406 M -0.990270320698192,-0.13915707651535406 Q -0.13199391194763563, 0.15025846801015846 0.26562292320501363, 0.9640770003832803L 0.26562292320501363, 0.9640770003832803 L 0.2714590195907963, 0.9624499990559529 L 0.27728515148844907, 0.9607876689279624 ",
          "type": "path"
         },
         {
          "fillcolor": "#e6c4a9",
          "layer": "below",
          "line": {
           "color": "rgb(175,175,175)",
           "width": 0.5
          },
          "path": "M 0.24133116337617389,0.9704428213880004 Q -0.15111495012691348, 0.13101248737483176 -0.9264212255289087, -0.3764886623651698L -0.9264212255289087, -0.3764886623651698 L -0.9287261048871223, -0.37076653314612146 L -0.93099564135827, -0.3650302943207641 M -0.93099564135827,-0.3650302943207641 Q -0.15124997446317398, 0.13085658265784425 0.22733198128739301, 0.9738173187430733L 0.22733198128739301, 0.9738173187430733 L 0.23433764656918807, 0.9721552691830736 L 0.24133116337617389, 0.9704428213880004 ",
          "type": "path"
         },
         {
          "fillcolor": "#e6c4a9",
          "layer": "below",
          "line": {
           "color": "rgb(175,175,175)",
           "width": 0.5
          },
          "path": "M 0.21174124283742213,0.9773257625181401 Q -0.16553289704643323, 0.11224464350433364 -0.8295881498695771, -0.5583757709607142L -0.8295881498695771, -0.5583757709607142 L -0.8347228172301344, -0.5506703354961002 L -0.8397859166711956, -0.5429176863583647 M -0.8397859166711956,-0.5429176863583647 Q -0.1655579867368863, 0.11220763355328811 0.19316810061456643, 0.981165676583196L 0.19316810061456643, 0.981165676583196 L 0.20246377537398352, 0.9792897526581769 L 0.21174124283742213, 0.9773257625181401 ",
          "type": "path"
         },
         {
          "fillcolor": "#e6c4a9",
          "layer": "below",
          "line": {
           "color": "rgb(175,175,175)",
           "width": 0.5
          },
          "path": "M 0.07630379500956494,0.997084615700763 Q -0.19295637578944286, 0.052610237047587154 -0.44035028864315306, -0.8978260540282242L -0.44035028864315306, -0.8978260540282242 L -0.45809641034843057, -0.8889025136795836 L -0.47566178809574716, -0.8796282529259486 M -0.47566178809574716,-0.8796282529259486 Q -0.19295535305883693, 0.05261398793039343 0.03668124006655194, 0.9993270168604369L 0.03668124006655194, 0.9993270168604369 L 0.056503642612915385, 0.9984023930116914 L 0.07630379500956494, 0.997084615700763 ",
          "type": "path"
         },
         {
          "fillcolor": "#e6c4a9",
          "layer": "below",
          "line": {
           "color": "rgb(175,175,175)",
           "width": 0.5
          },
          "path": "M 0.29528891685348807,0.9554080047725652 Q -0.19605361689372136, 0.039534533042517805 -0.09805063770633442, -0.9951814268993273L -0.09805063770633442, -0.9951814268993273 L -0.10051659218806853, -0.9949353821705696 L -0.10298192935021602, -0.9946832270764935 M -0.10298192935021602,-0.9946832270764935 Q -0.19609784608483144, 0.03931456169016465 0.2884022532244425, 0.957509342165947L 0.2884022532244425, 0.957509342165947 L 0.29184747628075547, 0.9564648715915048 L 0.29528891685348807, 0.9554080047725652 ",
          "type": "path"
         },
         {
          "fillcolor": "#e6c4a9",
          "layer": "below",
          "line": {
           "color": "rgb(175,175,175)",
           "width": 0.5
          },
          "path": "M -0.018276414154611707,0.9998329723937139 Q -0.1971409854602681, -0.03369616968966017 0.314850494574829, -0.9491412782436478L 0.314850494574829, -0.9491412782436478 L 0.28484656818481624, -0.9585731232375195 L 0.25456087290867413, -0.9670567522043233 M 0.25456087290867413,-0.9670567522043233 Q -0.19715341438889378, -0.03362337274577223 -0.08035773637748246, 0.99676608800876L -0.08035773637748246, 0.99676608800876 L -0.049340909575671915, 0.9987819955537071 L -0.018276414154611707, 0.9998329723937139 ",
          "type": "path"
         },
         {
          "fillcolor": "#e6c4a9",
          "layer": "below",
          "line": {
           "color": "rgb(175,175,175)",
           "width": 0.5
          },
          "path": "M 0.1144106071149744,0.9934335473395203 Q -0.18389717610622341, -0.07862460569158143 0.7972422514058606, -0.6036595005243557L 0.7972422514058606, -0.6036595005243557 L 0.7856670915205625, -0.618649514104408 L 0.7738101247653549, -0.6334176274864994 M 0.7738101247653549,-0.6334176274864994 Q -0.1838812454176275, -0.07866185596375323 0.07630379500956494, 0.997084615700763L 0.07630379500956494, 0.997084615700763 L 0.09537467362709422, 0.995441445606182 L 0.1144106071149744, 0.9934335473395203 ",
          "type": "path"
         },
         {
          "fillcolor": "#e6c4a9",
          "layer": "below",
          "line": {
           "color": "rgb(175,175,175)",
           "width": 0.5
          },
          "path": "M 0.19316810061456643,0.981165676583196 Q -0.17486818464537945, -0.09706244381237002 0.9348479203328239, -0.3550483993054947L 0.9348479203328239, -0.3550483993054947 L 0.9318697703677036, -0.3627929589653627 L 0.9288274634225828, -0.37051254120740706 M 0.9288274634225828,-0.37051254120740706 Q -0.17473589614294566, -0.09730039362264528 0.1741796279759819, 0.984713896113053L 0.1741796279759819, 0.984713896113053 L 0.18368243217743171, 0.982985637794054 L 0.19316810061456643, 0.981165676583196 ",
          "type": "path"
         },
         {
          "fillcolor": "#e6c4a9",
          "layer": "below",
          "line": {
           "color": "rgb(175,175,175)",
           "width": 0.5
          },
          "path": "M 0.3125212327124233,0.9499107742856207 Q -0.1763692983016347, -0.09430732005835497 0.9635343615998452, -0.26758462963402596L 0.9635343615998452, -0.26758462963402596 L 0.9630070242444775, -0.2694762907118107 L 0.9624759730849556, -0.2713669125633555 M 0.9624759730849556,-0.2713669125633555 Q -0.17633918818359193, -0.09436360903839872 0.3081807537375134, 0.9513278210090242L 0.3081807537375134, 0.9513278210090242 L 0.31035180199425044, 0.9506217749446525 L 0.3125212327124233, 0.9499107742856207 ",
          "type": "path"
         },
         {
          "fillcolor": "#e6c4a9",
          "layer": "below",
          "line": {
           "color": "rgb(175,175,175)",
           "width": 0.5
          },
          "path": "M 0.3081807537375134,0.9513278210090242 Q -0.1671201950831368, -0.10986737639251383 0.9955499544190095, -0.09423528137756078L 0.9955499544190095, -0.09423528137756078 L 0.995302076104514, -0.09681826946420895 L 0.9950474961512992, -0.09940060564719998 M 0.9950474961512992,-0.09940060564719998 Q -0.16703865019680936, -0.10999131484089082 0.30182544466011246, 0.9533632051614565L 0.30182544466011246, 0.9533632051614565 L 0.30500479704103484, 0.9523508144491488 L 0.3081807537375134, 0.9513278210090242 ",
          "type": "path"
         },
         {
          "fillcolor": "#e1b396",
          "layer": "below",
          "line": {
           "color": "rgb(175,175,175)",
           "width": 0.5
          },
          "path": "M -0.3108106708670387,0.9504718443358443 Q -0.09853724172376283, 0.1740414088470693 -0.6550902211283739, 0.755550661558825L -0.6550902211283739, 0.755550661558825 L -0.6496596776608525, 0.7602251661327697 L -0.644195779499104, 0.7648606393818038 M -0.644195779499104,0.7648606393818038 Q -0.0988448135502073, 0.17386691126900702 -0.32774215178215793, 0.9447672104519721L -0.32774215178215793, 0.9447672104519721 L -0.319289151930114, 0.9476573417959409 L -0.3108106708670387, 0.9504718443358443 ",
          "type": "path"
         },
         {
          "fillcolor": "#e1b396",
          "layer": "below",
          "line": {
           "color": "rgb(175,175,175)",
           "width": 0.5
          },
          "path": "M -0.32774215178215793,0.9447672104519721 Q -0.11281125338326901, 0.16514727097380655 -0.7608792766973357, 0.6488934629756562L -0.7608792766973357, 0.6488934629756562 L -0.755451203387666, 0.6552049139773962 L -0.7499707785231566, 0.6614709603311172 M -0.7499707785231566,0.6614709603311172 Q -0.1129826743686762, 0.1650300436057074 -0.3453752668092093, 0.9384646637335193L -0.3453752668092093, 0.9384646637335193 L -0.336573462005787, 0.9416572118735347 L -0.32774215178215793, 0.9447672104519721 ",
          "type": "path"
         },
         {
          "fillcolor": "#e1b396",
          "layer": "below",
          "line": {
           "color": "rgb(175,175,175)",
           "width": 0.5
          },
          "path": "M -0.4514859063264989,0.8922782505410181 Q -0.1475978834769238, 0.13496245697649562 -0.9290150250215946, 0.3700420020539911L -0.9290150250215946, 0.3700420020539911 L -0.9221761422874246, 0.38677016766535094 L -0.9150360751267443, 0.40337201342760887 M -0.9150360751267443,0.40337201342760887 Q -0.1476860524404367, 0.1348659701872959 -0.48457891151592947, 0.8747475513049676L -0.48457891151592947, 0.8747475513049676 L -0.46811448082122037, 0.8836678294729753 L -0.4514859063264989, 0.8922782505410181 ",
          "type": "path"
         },
         {
          "fillcolor": "#e1b396",
          "layer": "below",
          "line": {
           "color": "rgb(175,175,175)",
           "width": 0.5
          },
          "path": "M -0.23246753933518188,0.9726041554278111 Q -0.13381087806011618, 0.1486426887296537 -0.9429083615413772, 0.3330522807838964L -0.9429083615413772, 0.3330522807838964 L -0.9426261903219558, 0.3338500641292674 L -0.9423433441078437, 0.3346476084116635 M -0.9423433441078437,0.3346476084116635 Q -0.13386384074187718, 0.1485949936634251 -0.23480613391751645, 0.9720422210350276L -0.23480613391751645, 0.9720422210350276 L -0.23363700556917952, 0.9723238913184573 L -0.23246753933518188, 0.9726041554278111 ",
          "type": "path"
         },
         {
          "fillcolor": "#e1b396",
          "layer": "below",
          "line": {
           "color": "rgb(175,175,175)",
           "width": 0.5
          },
          "path": "M -0.2479766392679813,0.968766012191467 Q -0.14498840979706093, 0.13776197234548992 -0.9801683842825721, 0.19816644128835714L -0.9801683842825721, 0.19816644128835714 L -0.9794481700522709, 0.20169601429194814 L -0.9787152459206003, 0.20522296996822456 M -0.9787152459206003,0.20522296996822456 Q -0.14511926220068275, 0.1376241248412846 -0.2567870958013924, 0.9664679960712028L -0.2567870958013924, 0.9664679960712028 L -0.25238448304089245, 0.9676270318258897 L -0.2479766392679813, 0.968766012191467 ",
          "type": "path"
         },
         {
          "fillcolor": "#e1b396",
          "layer": "below",
          "line": {
           "color": "rgb(175,175,175)",
           "width": 0.5
          },
          "path": "M -0.2657418874010362,0.9640442154178069 Q -0.1524513712968157, 0.1294549318864308 -0.9943677393558682, 0.10598489952960412L -0.9943677393558682, 0.10598489952960412 L -0.9938719015405421, 0.11053797233614854 L -0.9933552159430931, 0.11508872646202596 M -0.9933552159430931,0.11508872646202596 Q -0.1524923004059915, 0.1294067166606465 -0.27516934025148587, 0.9613957739586554L -0.27516934025148587, 0.9613957739586554 L -0.27045885567065514, 0.9627315344317541 L -0.2657418874010362, 0.9640442154178069 ",
          "type": "path"
         },
         {
          "fillcolor": "#e1b396",
          "layer": "below",
          "line": {
           "color": "rgb(175,175,175)",
           "width": 0.5
          },
          "path": "M -0.2567870958013924,0.9664679960712028 Q -0.16553766929415065, 0.11223760530526486 -0.9928732475431139, -0.11917514133908311L -0.9928732475431139, -0.11917514133908311 L -0.9933825668245608, -0.11485240933061441 L -0.9938730660578987, -0.11052750139522571 M -0.9938730660578987,-0.11052750139522571 Q -0.16556974982018496, 0.11219027562351991 -0.2657418874010362, 0.9640442154178069L -0.2657418874010362, 0.9640442154178069 L -0.26126730229748407, 0.9652664900172362 L -0.2567870958013924, 0.9664679960712028 ",
          "type": "path"
         },
         {
          "fillcolor": "#e1b396",
          "layer": "below",
          "line": {
           "color": "rgb(175,175,175)",
           "width": 0.5
          },
          "path": "M -0.2982106375127144,0.9545000867858842 Q -0.18033603363386114, 0.08648072023987145 -0.93099564135827, -0.3650302943207641L -0.93099564135827, -0.3650302943207641 L -0.9330945384014434, -0.3596311755193052 L -0.9351621246617962, -0.3542199889871197 M -0.9351621246617962,-0.3542199889871197 Q -0.18040701170236084, 0.08633255543897816 -0.3108106708670387, 0.9504718443358443L -0.3108106708670387, 0.9504718443358443 L -0.30451731510614566, 0.9525068003959575 L -0.2982106375127144, 0.9545000867858842 ",
          "type": "path"
         },
         {
          "fillcolor": "#e1b396",
          "layer": "below",
          "line": {
           "color": "rgb(175,175,175)",
           "width": 0.5
          },
          "path": "M -0.2858876916929246,0.9582631307414948 Q -0.18653177520148334, 0.0721519011543236 -0.8563176727036778, -0.5164494587230749L -0.8563176727036778, -0.5164494587230749 L -0.8596208398138281, -0.5109324923683841 L -0.8628884634670133, -0.5053944000634918 M -0.8628884634670133,-0.5053944000634918 Q -0.18653265223625423, 0.07214963374618508 -0.2982106375127144, 0.9545000867858842L -0.2982106375127144, 0.9545000867858842 L -0.29205522537725237, 0.9564014561520922 L -0.2858876916929246, 0.9582631307414948 ",
          "type": "path"
         },
         {
          "fillcolor": "#e1b396",
          "layer": "below",
          "line": {
           "color": "rgb(175,175,175)",
           "width": 0.5
          },
          "path": "M -0.3676850243978966,0.9299503872968268 Q -0.19940601489745333, 0.015402636875438955 -0.5061350005687585, -0.8624542661493784L -0.5061350005687585, -0.8624542661493784 L -0.5173859706320233, -0.8557521588597712 L -0.5285482076719088, -0.8489032878760765 M -0.5285482076719088,-0.8489032878760765 Q -0.1994014299421026, 0.015461880126451354 -0.391366635640783, 0.9202348376948215L -0.391366635640783, 0.9202348376948215 L -0.3795569175076198, 0.9251683881175977 L -0.3676850243978966, 0.9299503872968268 ",
          "type": "path"
         },
         {
          "fillcolor": "#e1b396",
          "layer": "below",
          "line": {
           "color": "rgb(175,175,175)",
           "width": 0.5
          },
          "path": "M -0.2373102633096426,0.9714339086772235 Q -0.1996060508605885, -0.012546890445052767 -0.11379767499945263, -0.9935039452184974L -0.11379767499945263, -0.9935039452184974 L -0.1152988255772985, -0.9933308516403262 L -0.11679971288014152, -0.9931554898761404 M -0.11679971288014152,-0.9931554898761404 Q -0.1995980260098667, -0.012673910721027798 -0.24148030207119775, 0.9704057211865577L -0.24148030207119775, 0.9704057211865577 L -0.23939583468975642, 0.9709220536856679 L -0.2373102633096426, 0.9714339086772235 ",
          "type": "path"
         },
         {
          "fillcolor": "#e1b396",
          "layer": "below",
          "line": {
           "color": "rgb(175,175,175)",
           "width": 0.5
          },
          "path": "M -0.41775970461076667,0.9085575541502723 Q -0.1896323958734265, -0.0635574892149152 0.214140623065955, -0.9768028427236095L 0.214140623065955, -0.9768028427236095 L 0.1951817279365694, -0.9807670942072307 L 0.17614960940714294, -0.9843634060171634 M 0.17614960940714294,-0.9843634060171634 Q -0.1896732449116295, -0.06343548032996212 -0.4514859063264989, 0.8922782505410181L -0.4514859063264989, 0.8922782505410181 L -0.4346990188221337, 0.9005757952749309 L -0.41775970461076667, 0.9085575541502723 ",
          "type": "path"
         },
         {
          "fillcolor": "#e1b396",
          "layer": "below",
          "line": {
           "color": "rgb(175,175,175)",
           "width": 0.5
          },
          "path": "M -0.3453752668092093,0.9384646637335193 Q -0.16834285819761718, -0.10798463823089358 0.708981595682733, -0.7052269825972101L 0.708981595682733, -0.7052269825972101 L 0.7004138226681206, -0.7137369802773502 L 0.6917439105506132, -0.7221428959812215 M 0.6917439105506132,-0.7221428959812215 Q -0.16835754745026968, -0.10796173496443172 -0.3676850243978966, 0.9299503872968268L -0.3676850243978966, 0.9299503872968268 L -0.3565555608175263, 0.9342741204004846 L -0.3453752668092093, 0.9384646637335193 ",
          "type": "path"
         },
         {
          "fillcolor": "#e1b396",
          "layer": "below",
          "line": {
           "color": "rgb(175,175,175)",
           "width": 0.5
          },
          "path": "M -0.24148030207119775,0.9704057211865577 Q -0.15368681650928742, -0.12798578995826304 0.9106773005369972, -0.4131184506732271L 0.9106773005369972, -0.4131184506732271 L 0.9094580375443705, -0.4157957166036496 L 0.9082309037789315, -0.41846938409028844 M 0.9082309037789315,-0.41846938409028844 Q -0.15363455791266156, -0.1280485166449852 -0.2479766392679813, 0.968766012191467L -0.2479766392679813, 0.968766012191467 L -0.24472984394567274, 0.9695913074498588 L -0.24148030207119775, 0.9704057211865577 ",
          "type": "path"
         },
         {
          "fillcolor": "#e1b396",
          "layer": "below",
          "line": {
           "color": "rgb(175,175,175)",
           "width": 0.5
          },
          "path": "M -0.27516934025148587,0.9613957739586554 Q -0.13739066367000846, -0.14534030939940448 0.9753386853317003, -0.22071349957678282L 0.9753386853317003, -0.22071349957678282 L 0.9742433485501465, -0.2254992190802393 L 0.9731245297040824, -0.23027950340446848 M 0.9731245297040824,-0.23027950340446848 Q -0.13729268242343434, -0.14543286888794435 -0.2858876916929246, 0.9582631307414948L -0.2858876916929246, 0.9582631307414948 L -0.28053288869034465, 0.9598444136228802 L -0.27516934025148587, 0.9613957739586554 ",
          "type": "path"
         },
         {
          "fillcolor": "#e1b396",
          "layer": "below",
          "line": {
           "color": "rgb(175,175,175)",
           "width": 0.5
          },
          "path": "M -0.23480613391751645,0.9720422210350276 Q -0.13215650189771042, -0.1501154855641498 0.9939621949109787, -0.10972308365950009L 0.9939621949109787, -0.10972308365950009 L 0.9938492858035343, -0.11074112654206153 L 0.9937353339893945, -0.1117590532394873 M 0.9937353339893945,-0.1117590532394873 Q -0.13211683769674343, -0.15015039526092616 -0.2373102633096426, 0.9714339086772235L -0.2373102633096426, 0.9714339086772235 L -0.23605839456301778, 0.9717388714857148 L -0.23480613391751645, 0.9720422210350276 ",
          "type": "path"
         },
         {
          "fillcolor": "#dba284",
          "layer": "below",
          "line": {
           "color": "rgb(175,175,175)",
           "width": 0.5
          },
          "path": "M -0.6550902211283739,0.755550661558825 Q -0.1432295769501234, 0.13958971411493284 -0.7721595423234217, 0.6354287066216666L -0.7721595423234217, 0.6354287066216666 L -0.7665489743467521, 0.642185853104802 L -0.7608792766973357, 0.6488934629756562 M -0.7608792766973357,0.6488934629756562 Q -0.14310953023541842, 0.1397127852266852 -0.666980239621767, 0.745075405549056L -0.666980239621767, 0.745075405549056 L -0.6610559798868323, 0.7503365854440659 L -0.6550902211283739, 0.755550661558825 ",
          "type": "path"
         },
         {
          "fillcolor": "#dba284",
          "layer": "below",
          "line": {
           "color": "rgb(175,175,175)",
           "width": 0.5
          },
          "path": "M -0.6064636189844353,0.7951112367765291 Q -0.14554242983444832, 0.1371765326791893 -0.8295801858627712, 0.5583876030356424L -0.8295801858627712, 0.5583876030356424 L -0.8273982275994508, 0.5616156808399204 L -0.8252037082493675, 0.5648352325160788 M -0.8252037082493675,0.5648352325160788 Q -0.14545211451591475, 0.13727229284472972 -0.6116002909667659, 0.791166912913683L -0.6116002909667659, 0.791166912913683 L -0.609035148085959, 0.7931432332157377 L -0.6064636189844353, 0.7951112367765291 ",
          "type": "path"
         },
         {
          "fillcolor": "#dba284",
          "layer": "below",
          "line": {
           "color": "rgb(175,175,175)",
           "width": 0.5
          },
          "path": "M -0.5979933464107375,0.8015010652821914 Q -0.160615163787969, 0.11917537145469233 -0.9404267681166264, 0.33999631440607864L -0.9404267681166264, 0.33999631440607864 L -0.9403651005565848, 0.34016683797102265 L -0.9403034020762346, 0.3403373503508821 M -0.9403034020762346,0.3403373503508821 Q -0.16061818610301035, 0.11917129810897731 -0.5983246235590575, 0.8012537955248089L -0.5983246235590575, 0.8012537955248089 L -0.5981589977620883, 0.8013774475216121 L -0.5979933464107375, 0.8015010652821914 ",
          "type": "path"
         },
         {
          "fillcolor": "#dba284",
          "layer": "below",
          "line": {
           "color": "rgb(175,175,175)",
           "width": 0.5
          },
          "path": "M -0.6229828471253632,0.7822354966297402 Q -0.17100510622984605, 0.10371718104209673 -0.9815966140841901, 0.19096619391518885L -0.9815966140841901, 0.19096619391518885 L -0.9808891059109558, 0.19456762810191638 L -0.9801683842825721, 0.19816644128835714 M -0.9801683842825721,0.19816644128835714 Q -0.17101031137565614, 0.10370859850176904 -0.6287861019485065, 0.7775783163105838L -0.6287861019485065, 0.7775783163105838 L -0.6258888062575543, 0.7799123041736767 L -0.6229828471253632, 0.7822354966297402 ",
          "type": "path"
         },
         {
          "fillcolor": "#dba284",
          "layer": "below",
          "line": {
           "color": "rgb(175,175,175)",
           "width": 0.5
          },
          "path": "M -0.5983246235590575,0.8012537955248089 Q -0.17203106551215266, 0.10200643361451983 -0.9900680053817589, 0.14058927668704155L -0.9900680053817589, 0.14058927668704155 L -0.9900227683976861, 0.14090748047630994 L -0.9899774291442254, 0.1412256697098305 M -0.9899774291442254,0.1412256697098305 Q -0.1720263920647492, 0.10201431484446287 -0.5987661673646343, 0.8009238895297522L -0.5987661673646343, 0.8009238895297522 L -0.5985454181915261, 0.8010888729485207 L -0.5983246235590575, 0.8012537955248089 ",
          "type": "path"
         },
         {
          "fillcolor": "#dba284",
          "layer": "below",
          "line": {
           "color": "rgb(175,175,175)",
           "width": 0.5
          },
          "path": "M -0.6000897068180692,0.7999327120270828 Q -0.18286157972009465, 0.08100396695391819 -0.9956616949773183, -0.09304724152221637L -0.9956616949773183, -0.09304724152221637 L -0.9957586485455654, -0.09200387951988365 L -0.9958545087665721, -0.09096041649689861 M -0.9958545087665721,-0.09096041649689861 Q -0.1828492495883478, 0.08103179576547774 -0.6015216895616831, 0.7988564683263559L -0.6015216895616831, 0.7988564683263559 L -0.6008059391788253, 0.7993949108215849 L -0.6000897068180692, 0.7999327120270828 ",
          "type": "path"
         },
         {
          "fillcolor": "#dba284",
          "layer": "below",
          "line": {
           "color": "rgb(175,175,175)",
           "width": 0.5
          },
          "path": "M -0.5977724382032409,0.8016658356974884 Q -0.19082876819098726, 0.05986970210975208 -0.9485862801460101, -0.3165186710428869L -0.9485862801460101, -0.3165186710428869 L -0.9486338931323033, -0.316375942196384 L -0.9486814846429291, -0.3162332061875979 M -0.9486814846429291,-0.3162332061875979 Q -0.19082800985790815, 0.05987211916802432 -0.5979933464107375, 0.8015010652821914L -0.5979933464107375, 0.8015010652821914 L -0.5978828979831193, 0.8015834580998455 L -0.5977724382032409, 0.8016658356974884 ",
          "type": "path"
         },
         {
          "fillcolor": "#dba284",
          "layer": "below",
          "line": {
           "color": "rgb(175,175,175)",
           "width": 0.5
          },
          "path": "M -0.6015216895616831,0.7988564683263559 Q -0.19529927044295614, 0.0431067855963429 -0.8819020580938337, -0.4714326674402828L -0.8819020580938337, -0.4714326674402828 L -0.8824672886047769, -0.4703737711039313 L -0.8830312477036374, -0.4693141970779888 M -0.8830312477036374,-0.4693141970779888 Q -0.19528910271859898, 0.04315282562433782 -0.6030616660574695, 0.7976945699526787L -0.6030616660574695, 0.7976945699526787 L -0.6022919579909997, 0.7982758904911058 L -0.6015216895616831, 0.7988564683263559 ",
          "type": "path"
         },
         {
          "fillcolor": "#dba284",
          "layer": "below",
          "line": {
           "color": "rgb(175,175,175)",
           "width": 0.5
          },
          "path": "M -0.5987661673646343,0.8009238895297522 Q -0.19994895660453627, 0.004518268778777979 -0.6343336424787896, -0.7730593961783215L -0.6343336424787896, -0.7730593961783215 L -0.6347412313050722, -0.7727247694239656 L -0.6351486436074589, -0.7723899277719805 M -0.6351486436074589,-0.7723899277719805 Q -0.19994844035551967, 0.004541057079050709 -0.5994281419601551, 0.8004285743438924L -0.5994281419601551, 0.8004285743438924 L -0.5990972058513216, 0.8006763003493603 L -0.5987661673646343, 0.8009238895297522 ",
          "type": "path"
         },
         {
          "fillcolor": "#dba284",
          "layer": "below",
          "line": {
           "color": "rgb(175,175,175)",
           "width": 0.5
          },
          "path": "M -0.6116002909667659,0.791166912913683 Q -0.18987371267555128, -0.0628328993028509 -0.018927653209830305, -0.9998208559256845L -0.018927653209830305, -0.9998208559256845 L -0.023546788245955297, -0.9997227359439717 L -0.028165420651490403, -0.9996032758447346 M -0.028165420651490403,-0.9996032758447346 Q -0.18993880048532805, -0.06263586887874034 -0.6172535175139746, 0.7867643199310868L -0.6172535175139746, 0.7867643199310868 L -0.6144308475008783, 0.788970679835032 L -0.6116002909667659, 0.791166912913683 ",
          "type": "path"
         },
         {
          "fillcolor": "#dba284",
          "layer": "below",
          "line": {
           "color": "rgb(175,175,175)",
           "width": 0.5
          },
          "path": "M -0.6030616660574695,0.7976945699526787 Q -0.15874041110657786, -0.12166134094984593 0.6135253121483034, -0.7896750542807636L 0.6135253121483034, -0.7896750542807636 L 0.6113963388168913, -0.7913245332234438 L 0.6092629308393841, -0.7929682724453758 M 0.6092629308393841,-0.7929682724453758 Q -0.15880819763971088, -0.12157284385267347 -0.6064636189844353, 0.7951112367765291L -0.6064636189844353, 0.7951112367765291 L -0.6047640219056521, 0.7964047198557401 L -0.6030616660574695, 0.7976945699526787 ",
          "type": "path"
         },
         {
          "fillcolor": "#dba284",
          "layer": "below",
          "line": {
           "color": "rgb(175,175,175)",
           "width": 0.5
          },
          "path": "M -0.6172535175139746,0.7867643199310868 Q -0.1084751443395686, -0.16802720928620388 0.971105668280815, -0.23864991312144168L 0.971105668280815, -0.23864991312144168 L 0.970142548418964, -0.24253543194172306 L 0.9691638821621152, -0.2464170641665418 M 0.9691638821621152,-0.2464170641665418 Q -0.10853420658261914, -0.16798906512473172 -0.6229828471253632, 0.7822354966297402L -0.6229828471253632, 0.7822354966297402 L -0.6201223166469447, 0.7845051385404855 L -0.6172535175139746, 0.7867643199310868 ",
          "type": "path"
         },
         {
          "fillcolor": "#dba284",
          "layer": "below",
          "line": {
           "color": "rgb(175,175,175)",
           "width": 0.5
          },
          "path": "M -0.5994281419601551,0.8004285743438924 Q -0.09964874764861077, -0.17340740206826089 0.9933793811688293, -0.11487995938645598L 0.9933793811688293, -0.11487995938645598 L 0.993332229862947, -0.11528695119355589 L 0.9932849118107772, -0.11569392364794526 M 0.9932849118107772,-0.11569392364794526 Q -0.09964811113045889, -0.17340776784253847 -0.6000897068180692, 0.7999327120270828L -0.6000897068180692, 0.7999327120270828 L -0.5997589756345826, 0.8001807115556812 L -0.5994281419601551, 0.8004285743438924 ",
          "type": "path"
         },
         {
          "fillcolor": "#d59171",
          "layer": "below",
          "line": {
           "color": "rgb(175,175,175)",
           "width": 0.5
          },
          "path": "M -0.6991744717450455,0.7149510878794691 Q -0.15269437789969695, 0.1291682118705084 -0.8209665024682455, 0.5709763583766461L -0.8209665024682455, 0.5709763583766461 L -0.8188307468530988, 0.5740350233287134 L -0.8166835956659755, 0.5770856995023299 M -0.8166835956659755,0.5770856995023299 Q -0.15265642442024863, 0.12921306467700908 -0.7040721434198874, 0.7101284509580823L -0.7040721434198874, 0.7101284509580823 L -0.701627451144608, 0.7125439774500383 L -0.6991744717450455, 0.7149510878794691 ",
          "type": "path"
         },
         {
          "fillcolor": "#d59171",
          "layer": "below",
          "line": {
           "color": "rgb(175,175,175)",
           "width": 0.5
          },
          "path": "M -0.6900545091950028,0.7237574001968089 Q -0.16747045070285493, 0.10933274048235803 -0.9402210893410164, 0.34056468278198265L -0.9402210893410164, 0.34056468278198265 L -0.9402005025693645, 0.3406215127796751 L -0.9401799123627241, 0.3406783415329192 M -0.9401799123627241,0.3406783415329192 Q -0.16747219218739076, 0.10933007291660267 -0.6901650512989617, 0.7236519895402082L -0.6901650512989617, 0.7236519895402082 L -0.6901097822595978, 0.7237046969790997 L -0.6900545091950028, 0.7237574001968089 ",
          "type": "path"
         },
         {
          "fillcolor": "#d59171",
          "layer": "below",
          "line": {
           "color": "rgb(175,175,175)",
           "width": 0.5
          },
          "path": "M -0.7249080656245837,0.688845625951435 Q -0.1786291033395221, 0.08995356268719072 -0.9850529295567517, 0.17225192588665347L -0.9850529295567517, 0.17225192588665347 L -0.9841981887629211, 0.17707039627161136 L -0.9833198781559622, 0.181884626132457 M -0.9833198781559622,0.181884626132457 Q -0.17868350269388042, 0.08984545545015639 -0.7324397399388254, 0.6808318642354703L -0.7324397399388254, 0.6808318642354703 L -0.7286849193508339, 0.6848490989339686 L -0.7249080656245837, 0.688845625951435 ",
          "type": "path"
         },
         {
          "fillcolor": "#d59171",
          "layer": "below",
          "line": {
           "color": "rgb(175,175,175)",
           "width": 0.5
          },
          "path": "M -0.6916006324105556,0.722280115501818 Q -0.1781115011528049, 0.09097413454985091 -0.9905808785838977, 0.1369288975488867L -0.9905808785838977, 0.1369288975488867 L -0.9904815984494065, 0.13764520744693046 L -0.9903818003362096, 0.13836144536252998 M -0.9903818003362096,0.13836144536252998 Q -0.17810824363452482, 0.09098051192109634 -0.692592899162032, 0.7213286879296645L -0.692592899162032, 0.7213286879296645 L -0.6920969292775789, 0.7218045722247441 L -0.6916006324105556, 0.722280115501818 ",
          "type": "path"
         },
         {
          "fillcolor": "#d59171",
          "layer": "below",
          "line": {
           "color": "rgb(175,175,175)",
           "width": 0.5
          },
          "path": "M -0.6956715725652503,0.7183599815723254 Q -0.18794499139820298, 0.0683862574522792 -0.9946487173730075, -0.10331470867321345L -0.9946487173730075, -0.10331470867321345 L -0.9949118921829572, -0.10074883023106398 L -0.9951684478508929, -0.0981822815076365 M -0.9951684478508929,-0.0981822815076365 Q -0.18793572852429408, 0.06841170911505458 -0.6991744717450455, 0.7149510878794691L -0.6991744717450455, 0.7149510878794691 L -0.6974251049188523, 0.7166576749250145 L -0.6956715725652503, 0.7183599815723254 ",
          "type": "path"
         },
         {
          "fillcolor": "#d59171",
          "layer": "below",
          "line": {
           "color": "rgb(175,175,175)",
           "width": 0.5
          },
          "path": "M -0.692592899162032,0.7213286879296645 Q -0.1942413281353419, 0.04764773283398117 -0.9477735746482631, -0.3189439624737446L -0.9477735746482631, -0.3189439624737446 L -0.9480371875890822, -0.31815953694362736 L -0.94830015129963, -0.3173748935330248 M -0.94830015129963,-0.3173748935330248 Q -0.1942419266026989, 0.0476452930484402 -0.6938038919733575, 0.7201639809672667L -0.6938038919733575, 0.7201639809672667 L -0.6931986401841851, 0.7207465887860981 L -0.692592899162032, 0.7213286879296645 ",
          "type": "path"
         },
         {
          "fillcolor": "#d59171",
          "layer": "below",
          "line": {
           "color": "rgb(175,175,175)",
           "width": 0.5
          },
          "path": "M -0.6938038919733575,0.7201639809672667 Q -0.19764127608748372, 0.030625577325350723 -0.879220299429042, -0.4764154332847601L -0.879220299429042, -0.4764154332847601 L -0.8799137507091369, -0.4751334457949459 L -0.8806053327298475, -0.4738504489475076 M -0.8806053327298475,-0.4738504489475076 Q -0.19763639828753654, 0.030657039516728185 -0.6956715725652503, 0.7183599815723254L -0.6956715725652503, 0.7183599815723254 L -0.6947383178162474, 0.7192625874865527 L -0.6938038919733575, 0.7201639809672667 ",
          "type": "path"
         },
         {
          "fillcolor": "#d59171",
          "layer": "below",
          "line": {
           "color": "rgb(175,175,175)",
           "width": 0.5
          },
          "path": "M -0.7175015405431592,0.6965569175007834 Q -0.19934197182092983, -0.016210437086754154 -0.5955309349603443, -0.8033323754867958L -0.5955309349603443, -0.8033323754867958 L -0.600462118642828, -0.7996532023789853 L -0.6053705731004261, -0.795943760088652 M -0.6053705731004261,-0.795943760088652 Q -0.19935497930940585, -0.016049679889217888 -0.7249080656245837, 0.688845625951435L -0.7249080656245837, 0.688845625951435 L -0.7212151093783224, 0.6927111706941173 L -0.7175015405431592, 0.6965569175007834 ",
          "type": "path"
         },
         {
          "fillcolor": "#d59171",
          "layer": "below",
          "line": {
           "color": "rgb(175,175,175)",
           "width": 0.5
          },
          "path": "M -0.7324397399388254,0.6808318642354703 Q -0.1815176093033867, -0.08397236160060678 0.04467268522880223, -0.9990016772730906L 0.04467268522880223, -0.9990016772730906 L 0.03757074155012322, -0.9992939704508248 L 0.030466899683392598, -0.9995357762600007 M 0.030466899683392598,-0.9995357762600007 Q -0.1816013384269858, -0.08379113247550345 -0.7407043305635372, 0.6718311504272648L -0.7407043305635372, 0.6718311504272648 L -0.7365857834131282, 0.6763441311001879 L -0.7324397399388254, 0.6808318642354703 ",
          "type": "path"
         },
         {
          "fillcolor": "#d59171",
          "layer": "below",
          "line": {
           "color": "rgb(175,175,175)",
           "width": 0.5
          },
          "path": "M -0.7102280793370314,0.7039716438332098 Q -0.14739699169516116, -0.13518182880556323 0.6400574710030379, -0.7683270357166896L 0.6400574710030379, -0.7683270357166896 L 0.6355073141941056, -0.7720948475451669 L 0.6309349779683096, -0.775835713006387 M 0.6309349779683096,-0.775835713006387 Q -0.14749351945518993, -0.1350765032073362 -0.7175015405431592, 0.6965569175007834L -0.7175015405431592, 0.6965569175007834 L -0.7138744367271144, 0.7002737240447804 L -0.7102280793370314, 0.7039716438332098 ",
          "type": "path"
         },
         {
          "fillcolor": "#d59171",
          "layer": "below",
          "line": {
           "color": "rgb(175,175,175)",
           "width": 0.5
          },
          "path": "M -0.6909383950202603,0.7229136423438326 Q -0.11737624698300937, -0.16193460607351223 0.9020101149207821, -0.4317148973345691L 0.9020101149207821, -0.4317148973345691 L 0.901814633058748, -0.4321230931125017 L 0.9016189664717532, -0.432531200375658 M 0.9016189664717532,-0.432531200375658 Q -0.11737533283959234, -0.1619352686748471 -0.6916006324105556, 0.722280115501818L -0.6916006324105556, 0.722280115501818 L -0.6912695862913406, 0.7225969547877978 L -0.6909383950202603, 0.7229136423438326 ",
          "type": "path"
         },
         {
          "fillcolor": "#d59171",
          "layer": "below",
          "line": {
           "color": "rgb(175,175,175)",
           "width": 0.5
          },
          "path": "M -0.7040721434198874,0.7101284509580823 Q -0.09781392064494593, -0.17444895221257198 0.9731245297040824, -0.23027950340446848L 0.9731245297040824, -0.23027950340446848 L 0.9721241081409336, -0.23446688118195805 L 0.971105668280815, -0.23864991312144168 M 0.971105668280815,-0.23864991312144168 Q -0.09780554769790582, -0.1744536466787458 -0.7102280793370314, 0.7039716438332098L -0.7102280793370314, 0.7039716438332098 L -0.7071568118819622, 0.7070567469510061 L -0.7040721434198874, 0.7101284509580823 ",
          "type": "path"
         },
         {
          "fillcolor": "#d59171",
          "layer": "below",
          "line": {
           "color": "rgb(175,175,175)",
           "width": 0.5
          },
          "path": "M -0.6901650512989617,0.7236519895402082 Q -0.08936250677472975, -0.17892552188812078 0.993125980793662, -0.11705035784920526L 0.993125980793662, -0.11705035784920526 L 0.9931099858076926, -0.11718598930351985 L 0.993093972298503, -0.11732161857211204 M 0.993093972298503,-0.11732161857211204 Q -0.08935961292454697, -0.17892696716251338 -0.690386087197654, 0.7234411175789728L -0.690386087197654, 0.7234411175789728 L -0.6902755773007051, 0.7235465620001095 L -0.6901650512989617, 0.7236519895402082 ",
          "type": "path"
         },
         {
          "fillcolor": "#d0805f",
          "layer": "below",
          "line": {
           "color": "rgb(175,175,175)",
           "width": 0.5
          },
          "path": "M -0.8384529248291103,0.5449740295147195 Q -0.1802808968312796, 0.0865956017226598 -0.9494774542900998, 0.31383524944593383L -0.9494774542900998, 0.31383524944593383 L -0.9484480496307449, 0.3169326381924652 L -0.9474085406886293, 0.32002665049998846 M -0.9474085406886293,0.32002665049998846 Q -0.18038577641741135, 0.08637691628142143 -0.8432985627869346, 0.537445377691064L -0.8432985627869346, 0.537445377691064 L -0.8408841695942821, 0.5412151266601245 L -0.8384529248291103, 0.5449740295147195 ",
          "type": "path"
         },
         {
          "fillcolor": "#d0805f",
          "layer": "below",
          "line": {
           "color": "rgb(175,175,175)",
           "width": 0.5
          },
          "path": "M -0.8339977822675461,0.5517677946136533 Q -0.18455410691858284, 0.07706997871729497 -0.9787152459206003, 0.20522296996822456L -0.9787152459206003, 0.20522296996822456 L -0.9780263378211561, 0.20848137213702783 L -0.9773265816696548, 0.21173746187651257 M -0.9773265816696548,0.21173746187651257 Q -0.18461045003553272, 0.07693491884494374 -0.8384529248291103, 0.5449740295147195L -0.8384529248291103, 0.5449740295147195 L -0.8362322528628522, 0.5483754364228205 L -0.8339977822675461, 0.5517677946136533 ",
          "type": "path"
         },
         {
          "fillcolor": "#d0805f",
          "layer": "below",
          "line": {
           "color": "rgb(175,175,175)",
           "width": 0.5
          },
          "path": "M -0.8295801858627712,0.5583876030356424 Q -0.18732056582666404, 0.07007856746808135 -0.9923786222741496, 0.12322609323215838L -0.9923786222741496, 0.12322609323215838 L -0.9918959793690606, 0.12705261158863343 L -0.9913985818258868, 0.13087724001376413 M -0.9913985818258868,0.13087724001376413 Q -0.18732914202005324, 0.07005563895954936 -0.8339977822675461, 0.5517677946136533L -0.8339977822675461, 0.5517677946136533 L -0.8317955695229654, 0.5550820934978588 L -0.8295801858627712, 0.5583876030356424 ",
          "type": "path"
         },
         {
          "fillcolor": "#d0805f",
          "layer": "below",
          "line": {
           "color": "rgb(175,175,175)",
           "width": 0.5
          },
          "path": "M -0.8209665024682455,0.5709763583766461 Q -0.19385794207027274, 0.04918432978377147 -0.9938730660578987, -0.11052750139522571L -0.9938730660578987, -0.11052750139522571 L -0.9942674322784192, -0.10692180839510351 L -0.9946487173730075, -0.10331470867321345 M -0.9946487173730075,-0.10331470867321345 Q -0.19386302367792826, 0.0491642965011301 -0.8252037082493675, 0.5648352325160788L -0.8252037082493675, 0.5648352325160788 L -0.8230908327883542, 0.5679097472132113 L -0.8209665024682455, 0.5709763583766461 ",
          "type": "path"
         },
         {
          "fillcolor": "#d0805f",
          "layer": "below",
          "line": {
           "color": "rgb(175,175,175)",
           "width": 0.5
          },
          "path": "M -0.8070036093064631,0.5905465049988371 Q -0.19779154922537856, 0.029639552206884953 -0.9446584074947082, -0.32805562508446917L -0.9446584074947082, -0.32805562508446917 L -0.9451263583710755, -0.3267050148256518 L -0.945592378235118, -0.3253537370672936 M -0.945592378235118,-0.3253537370672936 Q -0.19779586665975613, 0.029610726642823 -0.8088599594949344, 0.5880013315680953L -0.8088599594949344, 0.5880013315680953 L -0.8079327866362679, 0.5892746492749834 L -0.8070036093064631, 0.5905465049988371 ",
          "type": "path"
         },
         {
          "fillcolor": "#d0805f",
          "layer": "below",
          "line": {
           "color": "rgb(175,175,175)",
           "width": 0.5
          },
          "path": "M -0.8565739543347345,0.5160242831062858 Q -0.19999482627140655, -0.0014385634048983327 -0.8490621773924368, -0.5282929290853836L -0.8490621773924368, -0.5282929290853836 L -0.8527104873437511, -0.5223837906884005 L -0.8563176727036778, -0.5164494587230749 M -0.8563176727036778,-0.5164494587230749 Q -0.19999515142378319, -0.001392625928970914 -0.8634266699925228, 0.5044743655981174L -0.8634266699925228, 0.5044743655981174 L -0.8600197015593016, 0.5102608283317951 L -0.8565739543347345, 0.5160242831062858 ",
          "type": "path"
         },
         {
          "fillcolor": "#d0805f",
          "layer": "below",
          "line": {
           "color": "rgb(175,175,175)",
           "width": 0.5
          },
          "path": "M -0.8634266699925228,0.5044743655981174 Q -0.19414492352292462, -0.048039032778333005 -0.5285482076719088, -0.8489032878760765L -0.5285482076719088, -0.8489032878760765 L -0.5383612374563472, -0.8427141733734341 L -0.548101803445745, -0.8364116289600007 M -0.548101803445745,-0.8364116289600007 Q -0.1941765349205465, -0.04791109773580422 -0.874259842000006, 0.48545826665752084L -0.874259842000006, 0.48545826665752084 L -0.8688952793604762, 0.494995953018891 L -0.8634266699925228, 0.5044743655981174 ",
          "type": "path"
         },
         {
          "fillcolor": "#d0805f",
          "layer": "below",
          "line": {
           "color": "rgb(175,175,175)",
           "width": 0.5
          },
          "path": "M -0.8088599594949344,0.5880013315680953 Q -0.1832185231645854, -0.08019334616655106 -0.11679971288014152, -0.9931554898761404L -0.11679971288014152, -0.9931554898761404 L -0.11806025224834227, -0.9930064334328644 L -0.11932060140054196, -0.9928557770801422 M -0.11932060140054196,-0.9928557770801422 Q -0.18318068399839002, -0.0802797422135995 -0.8109023752309221, 0.5851814571949873L -0.8109023752309221, 0.5851814571949873 L -0.8098823946549334, 0.586592283300753 L -0.8088599594949344, 0.5880013315680953 ",
          "type": "path"
         },
         {
          "fillcolor": "#d0805f",
          "layer": "below",
          "line": {
           "color": "rgb(175,175,175)",
           "width": 0.5
          },
          "path": "M -0.8878230355281255,0.4601850253817749 Q -0.16329088104914213, -0.11548198199803693 0.13807028644478364, -0.9904224331067302L 0.13807028644478364, -0.9904224331067302 L 0.12186080112589104, -0.9925472004640162 L 0.10561874703939858, -0.9944066976211632 M 0.10561874703939858,-0.9944066976211632 Q -0.16341718814103345, -0.11530317697304825 -0.9014468306892145, 0.43288983753418225L -0.9014468306892145, 0.43288983753418225 L -0.8947390236031193, 0.44658938594836395 L -0.8878230355281255, 0.4601850253817749 ",
          "type": "path"
         },
         {
          "fillcolor": "#d0805f",
          "layer": "below",
          "line": {
           "color": "rgb(175,175,175)",
           "width": 0.5
          },
          "path": "M -0.8432985627869346,0.537445377691064 Q -0.1311685200404519, -0.1509795328857444 0.650015371371942, -0.7599210597030434L 0.650015371371942, -0.7599210597030434 L 0.6450501141512572, -0.7641402686898853 L 0.6400574710030379, -0.7683270357166896 M 0.6400574710030379,-0.7683270357166896 Q -0.13121354237083113, -0.15094040644737283 -0.8499163887420366, 0.5269175762372095L -0.8499163887420366, 0.5269175762372095 L -0.8466238401268754, 0.5321917636799942 L -0.8432985627869346, 0.537445377691064 ",
          "type": "path"
         },
         {
          "fillcolor": "#d0805f",
          "layer": "below",
          "line": {
           "color": "rgb(175,175,175)",
           "width": 0.5
          },
          "path": "M -0.8109023752309221,0.5851814571949873 Q -0.10123950701247704, -0.17248351289288671 0.9062638998282737, -0.42271236540708007L 0.9062638998282737, -0.42271236540708007 L 0.9054011031862191, -0.4245572309467563 L 0.9045345509884608, -0.4264003354455804 M 0.9045345509884608,-0.4264003354455804 Q -0.10120472013586126, -0.17250392639653744 -0.8135138897673517, 0.5815454850272617L -0.8135138897673517, 0.5815454850272617 L -0.8122101671187925, 0.5833649324641166 L -0.8109023752309221, 0.5851814571949873 ",
          "type": "path"
         },
         {
          "fillcolor": "#d0805f",
          "layer": "below",
          "line": {
           "color": "rgb(175,175,175)",
           "width": 0.5
          },
          "path": "M -0.8135138897673517,0.5815454850272617 Q -0.08535475245168521, -0.1808716844448338 0.9660762691884456, -0.2582569304218845L 0.9660762691884456, -0.2582569304218845 L 0.9654295631577463, -0.26066407228661803 L 0.9647768593373351, -0.26306959475999475 M 0.9647768593373351,-0.26306959475999475 Q -0.0853107574237767, -0.18089243949867428 -0.8166835956659755, 0.5770856995023299L -0.8166835956659755, 0.5770856995023299 L -0.8151017929068847, 0.5793177601282237 L -0.8135138897673517, 0.5815454850272617 ",
          "type": "path"
         },
         {
          "fillcolor": "#d0805f",
          "layer": "below",
          "line": {
           "color": "rgb(175,175,175)",
           "width": 0.5
          },
          "path": "M -0.805434154586274,0.592685264390717 Q -0.07252330923118104, -0.1863876863372645 0.9941995821719779, -0.1075508754453653L 0.9941995821719779, -0.1075508754453653 L 0.994081481864312, -0.10863704439303198 L 0.9939621949109787, -0.10972308365950009 M 0.9939621949109787,-0.10972308365950009 Q -0.07247972195938372, -0.18640464024452405 -0.8070036093064631, 0.5905465049988371L -0.8070036093064631, 0.5905465049988371 L -0.8062195911659471, 0.5916164051310724 L -0.805434154586274, 0.592685264390717 ",
          "type": "path"
         },
         {
          "fillcolor": "#ca6f4c",
          "layer": "below",
          "line": {
           "color": "rgb(175,175,175)",
           "width": 0.5
          },
          "path": "M -0.9407961240369138,0.33897293844364607 Q -0.19104843748360467, 0.05916497726757959 -0.967710476157769, 0.2520643456233031L -0.967710476157769, 0.2520643456233031 L -0.9675732745591815, 0.2525904953849665 L -0.9674357868899595, 0.25311657046626734 M -0.9674357868899595,0.25311657046626734 Q -0.19104487580958252, 0.05917647697270592 -0.9411235055153917, 0.3380629340321421L -0.9411235055153917, 0.3380629340321421 L -0.9409599247845676, 0.33851797581431464 L -0.9407961240369138, 0.33897293844364607 ",
          "type": "path"
         },
         {
          "fillcolor": "#ca6f4c",
          "layer": "below",
          "line": {
           "color": "rgb(175,175,175)",
           "width": 0.5
          },
          "path": "M -0.9411235055153917,0.3380629340321421 Q -0.1941801594167063, 0.04789640580359381 -0.9903818003362096, 0.13836144536252998L -0.9903818003362096, 0.13836144536252998 L -0.9902926560981206, 0.13899804055500023 L -0.9902031026709732, 0.13963457831346104 M -0.9902031026709732,0.13963457831346104 Q -0.19417252919569103, 0.047927329424332886 -0.9414500067736081, 0.33715261343488523L -0.9414500067736081, 0.33715261343488523 L -0.9412868661911376, 0.33760781320352673 L -0.9411235055153917, 0.3380629340321421 ",
          "type": "path"
         },
         {
          "fillcolor": "#ca6f4c",
          "layer": "below",
          "line": {
           "color": "rgb(175,175,175)",
           "width": 0.5
          },
          "path": "M -0.9460068301490523,0.32414669103870586 Q -0.1999829670077317, -0.002610154551841173 -0.9372245682784078, -0.3487264094033488L -0.9372245682784078, -0.3487264094033488 L -0.938165585106681, -0.346186849723439 L -0.9390997206066833, -0.3436447508059001 M -0.9390997206066833,-0.3436447508059001 Q -0.19998432810714908, -0.0025036995690662055 -0.9474085406886293, 0.32002665049998846L -0.9474085406886293, 0.32002665049998846 L -0.9467099267012092, 0.3220874332931836 L -0.9460068301490523, 0.32414669103870586 ",
          "type": "path"
         },
         {
          "fillcolor": "#ca6f4c",
          "layer": "below",
          "line": {
           "color": "rgb(175,175,175)",
           "width": 0.5
          },
          "path": "M -0.9429083615413772,0.3330522807838964 Q -0.19935662912769075, -0.01602917411610352 -0.8775812842484589, -0.4794278773046322L -0.8775812842484589, -0.4794278773046322 L -0.8784020832213953, -0.4779223579121539 L -0.879220299429042, -0.4764154332847601 M -0.879220299429042,-0.4764154332847601 Q -0.199364712020328, -0.01592832700102858 -0.9437108438663343, 0.33077158760856584L -0.9437108438663343, 0.33077158760856584 L -0.9433102919737737, 0.3319121767220265 L -0.9429083615413772, 0.3330522807838964 ",
          "type": "path"
         },
         {
          "fillcolor": "#ca6f4c",
          "layer": "below",
          "line": {
           "color": "rgb(175,175,175)",
           "width": 0.5
          },
          "path": "M -0.9447458230257972,0.32780379783539587 Q -0.1921904425563718, -0.05534287478967782 -0.6257337012867878, -0.780036752386666L -0.6257337012867878, -0.780036752386666 L -0.6279251253113008, -0.778273754538072 L -0.6301115821336905, -0.7765046001544211 M -0.6301115821336905,-0.7765046001544211 Q -0.19223897925087335, -0.05517404151031794 -0.9460068301490523, 0.32414669103870586L -0.9460068301490523, 0.32414669103870586 L -0.9453780949860557, 0.325975854198645 L -0.9447458230257972, 0.32780379783539587 ",
          "type": "path"
         },
         {
          "fillcolor": "#ca6f4c",
          "layer": "below",
          "line": {
           "color": "rgb(175,175,175)",
           "width": 0.5
          },
          "path": "M -0.9437108438663343,0.33077158760856584 Q -0.16930352887833455, -0.10647213301771948 -0.11067445340821883, -0.9938567126919212L -0.11067445340821883, -0.9938567126919212 L -0.11223620280101342, -0.9936815560232612 L -0.11379767499945263, -0.9935039452184974 M -0.11379767499945263,-0.9935039452184974 Q -0.16930352887833455, -0.10647213301771948 -0.9447458230257972, 0.32780379783539587L -0.9447458230257972, 0.32780379783539587 L -0.9442294994472314, 0.32928809935014475 L -0.9437108438663343, 0.33077158760856584 ",
          "type": "path"
         },
         {
          "fillcolor": "#ca6f4c",
          "layer": "below",
          "line": {
           "color": "rgb(175,175,175)",
           "width": 0.5
          },
          "path": "M -0.9546526623226907,0.29772184051593953 Q -0.15621035194948493, -0.12489325820002478 0.0803185032015004, -0.9967692501494368L 0.0803185032015004, -0.9967692501494368 L 0.07092744568508919, -0.9974814772458628 L 0.06153009695895197, -0.9981052285046011 M 0.06153009695895197,-0.9981052285046011 Q -0.15658569802727684, -0.12442234193789503 -0.9583892202099948, 0.2854647133802669L -0.9583892202099948, 0.2854647133802669 L -0.9565405743471918, 0.2915992620490397 L -0.9546526623226907, 0.29772184051593953 ",
          "type": "path"
         },
         {
          "fillcolor": "#ca6f4c",
          "layer": "below",
          "line": {
           "color": "rgb(175,175,175)",
           "width": 0.5
          },
          "path": "M -0.9404267681166264,0.33999631440607864 Q -0.11831756238697924, -0.16124811450309515 0.6065036186791156, -0.7950807257940152L 0.6065036186791156, -0.7950807257940152 L 0.6062272840761677, -0.795291443460593 L 0.6059508762635464, -0.7955020650855913 M 0.6059508762635464,-0.7955020650855913 Q -0.11833461110017991, -0.16123560343723461 -0.940591063762033, 0.339541530259565L -0.940591063762033, 0.339541530259565 L -0.9405089434282526, 0.33976893226348975 L -0.9404267681166264, 0.33999631440607864 ",
          "type": "path"
         },
         {
          "fillcolor": "#ca6f4c",
          "layer": "below",
          "line": {
           "color": "rgb(175,175,175)",
           "width": 0.5
          },
          "path": "M -0.9414500067736081,0.33715261343488523 Q -0.07644448028601408, -0.18481407260758367 0.9045345509884608, -0.4264003354455804L 0.9045345509884608, -0.4264003354455804 L 0.9041804353349322, -0.4271507232318968 L 0.9038256971715052, -0.4279008169336003 M 0.9038256971715052,-0.4279008169336003 Q -0.07647494843813346, -0.18480146715160253 -0.9418975082082094, 0.3359004079056264L -0.9418975082082094, 0.3359004079056264 L -0.941673965633392, 0.33652658505425886 L -0.9414500067736081, 0.33715261343488523 ",
          "type": "path"
         },
         {
          "fillcolor": "#ca6f4c",
          "layer": "below",
          "line": {
           "color": "rgb(175,175,175)",
           "width": 0.5
          },
          "path": "M -0.940591063762033,0.339541530259565 Q -0.061863116881542085, -0.1901918893373234 0.9603567943007204, -0.27877379295845545L 0.9603567943007204, -0.27877379295845545 L 0.9602514464099718, -0.2791364534910425 L 0.9601459615673554, -0.2794990742129541 M 0.9601459615673554,-0.2794990742129541 Q -0.06187746331678116, -0.1901872223191674 -0.9407961240369138, 0.33897293844364607L -0.9407961240369138, 0.33897293844364607 L -0.94069363685935, 0.33925724984490646 L -0.940591063762033, 0.339541530259565 ",
          "type": "path"
         },
         {
          "fillcolor": "#ca6f4c",
          "layer": "below",
          "line": {
           "color": "rgb(175,175,175)",
           "width": 0.5
          },
          "path": "M -0.9402210893410164,0.34056468278198265 Q -0.04603972551661323, -0.194628732910521 0.9931579151947467, -0.11677908839353136L 0.9931579151947467, -0.11677908839353136 L 0.9931419572561127, -0.11691472421169885 L 0.993125980793662, -0.11705035784920526 M 0.993125980793662,-0.11705035784920526 Q -0.04604277798253349, -0.1946280108197459 -0.9403034020762346, 0.3403373503508821L -0.9403034020762346, 0.3403373503508821 L -0.9402622525790536, 0.34045101905408354 L -0.9402210893410164, 0.34056468278198265 ",
          "type": "path"
         },
         {
          "fillcolor": "#c45e3a",
          "layer": "below",
          "line": {
           "color": "rgb(175,175,175)",
           "width": 0.5
          },
          "path": "M -0.9671599535022941,0.2541684959656492 Q -0.19929888953471786, 0.016731785028153173 -0.9959998508492165, -0.0893548941487728L -0.9959998508492165, -0.0893548941487728 L -0.9960572629426218, -0.08871261995484525 L -0.9961142608631769, -0.08807030887311972 M -0.9961142608631769,-0.08807030887311972 Q -0.1992971970867803, 0.01675193222744949 -0.9674357868899595, 0.25311657046626734L -0.9674357868899595, 0.25311657046626734 L -0.9672980131907524, 0.2536425707116671 L -0.9671599535022941, 0.2541684959656492 ",
          "type": "path"
         },
         {
          "fillcolor": "#c45e3a",
          "layer": "below",
          "line": {
           "color": "rgb(175,175,175)",
           "width": 0.5
          },
          "path": "M -0.971079890359765,0.23875478327955374 Q -0.19963410781672997, -0.012092270101938972 -0.9351621246617962, -0.3542199889871197L -0.9351621246617962, -0.3542199889871197 L -0.9361973759998738, -0.3514747119935528 L -0.9372245682784078, -0.3487264094033488 M -0.9372245682784078,-0.3487264094033488 Q -0.19963752478202976, -0.012035725940069303 -0.9723319980126743, 0.23360326547520832L -0.9723319980126743, 0.23360326547520832 L -0.9717093580390974, 0.23617985413503237 L -0.971079890359765, 0.23875478327955374 ",
          "type": "path"
         },
         {
          "fillcolor": "#c45e3a",
          "layer": "below",
          "line": {
           "color": "rgb(175,175,175)",
           "width": 0.5
          },
          "path": "M -0.9686291013278363,0.24851089324379358 Q -0.198307854845838, -0.02596140802117751 -0.8720154900423942, -0.4894782785028598L -0.8720154900423942, -0.4894782785028598 L -0.8735221158915434, -0.4867844626201221 L -0.8750204200750755, -0.4840860093533363 M -0.8750204200750755,-0.4840860093533363 Q -0.1983244208876467, -0.02583455204913684 -0.9698336354158871, 0.2437677575398443L -0.9698336354158871, 0.2437677575398443 L -0.9692342698079077, 0.2461400622205415 L -0.9686291013278363, 0.24851089324379358 ",
          "type": "path"
         },
         {
          "fillcolor": "#c45e3a",
          "layer": "below",
          "line": {
           "color": "rgb(175,175,175)",
           "width": 0.5
          },
          "path": "M -0.9760426661339376,0.21757921289993362 Q -0.18823355631062502, -0.06758792997758374 -0.6147026812340717, -0.7887589071976577L -0.6147026812340717, -0.7887589071976577 L -0.6177484229490039, -0.7863757918095002 L -0.6207849257534713, -0.7839809155567864 M -0.6207849257534713,-0.7839809155567864 Q -0.18829273691028603, -0.06742288355472362 -0.9773265816696548, 0.21173746187651257L -0.9773265816696548, 0.21173746187651257 L -0.976688991480885, 0.2146592973063404 L -0.9760426661339376, 0.21757921289993362 ",
          "type": "path"
         },
         {
          "fillcolor": "#c45e3a",
          "layer": "below",
          "line": {
           "color": "rgb(175,175,175)",
           "width": 0.5
          },
          "path": "M -0.9669176610086782,0.2550886842443368 Q -0.1657184420218834, -0.11197052278988284 -0.12412015291532055, -0.9922671956888817L -0.12412015291532055, -0.9922671956888817 L -0.12453997721553889, -0.9922145907388951 L -0.12495977922064577, -0.9921618081629263 M -0.12495977922064577,-0.9921618081629263 Q -0.1657125444132717, -0.11197925086407508 -0.9671599535022941, 0.2541684959656492L -0.9671599535022941, 0.2541684959656492 L -0.9670389167064221, 0.2546286189242475 L -0.9669176610086782, 0.2550886842443368 ",
          "type": "path"
         },
         {
          "fillcolor": "#c45e3a",
          "layer": "below",
          "line": {
           "color": "rgb(175,175,175)",
           "width": 0.5
          },
          "path": "M -0.973556777390674,0.22844518203867992 Q -0.15847871708719308, -0.12200203371418619 -0.028165420651490403, -0.9996032758447346L -0.028165420651490403, -0.9996032758447346 L -0.03171781085546839, -0.9994968636641821 L -0.035269800438131, -0.9993778270389304 M -0.035269800438131,-0.9993778270389304 Q -0.15858056570414575, -0.12186961959796674 -0.9747845369627457, 0.22314817162218803L -0.9747845369627457, 0.22314817162218803 L -0.9741742574529163, 0.22579751131502546 L -0.973556777390674, 0.22844518203867992 ",
          "type": "path"
         },
         {
          "fillcolor": "#c45e3a",
          "layer": "below",
          "line": {
           "color": "rgb(175,175,175)",
           "width": 0.5
          },
          "path": "M -0.9698336354158871,0.2437677575398443 Q -0.10827905661433763, -0.16815363778018325 0.6232202700721392, -0.7820463509097206L 0.6232202700721392, -0.7820463509097206 L 0.620635078588181, -0.7840995467578351 L 0.6180431229091267, -0.7861441968396982 M 0.6180431229091267,-0.7861441968396982 Q -0.10839985602488034, -0.16807579008823734 -0.971079890359765, 0.23875478327955374L -0.971079890359765, 0.23875478327955374 L -0.9704599997488057, 0.241262075112414 L -0.9698336354158871, 0.2437677575398443 ",
          "type": "path"
         },
         {
          "fillcolor": "#c45e3a",
          "layer": "below",
          "line": {
           "color": "rgb(175,175,175)",
           "width": 0.5
          },
          "path": "M -0.9668829763209821,0.2552201208774088 Q -0.0693105718598621, -0.1876060889962234 0.9005722931981289, -0.4347062740792491L 0.9005722931981289, -0.4347062740792491 L 0.9005395000775843, -0.4347742043866155 L 0.9005067018330457, -0.43484213222015433 M 0.9005067018330457,-0.43484213222015433 Q -0.06931197205432749, -0.18760557169215453 -0.9669176610086782, 0.2550886842443368L -0.9669176610086782, 0.2550886842443368 L -0.9669003208982025, 0.2551544031502355 L -0.9668829763209821, 0.2552201208774088 ",
          "type": "path"
         },
         {
          "fillcolor": "#c45e3a",
          "layer": "below",
          "line": {
           "color": "rgb(175,175,175)",
           "width": 0.5
          },
          "path": "M -0.9747845369627457,0.22314817162218803 Q -0.04695988739570334, -0.19440876774410887 0.9691638821621152, -0.2464170641665418L 0.9691638821621152, -0.2464170641665418 L 0.968377304359786, -0.24949027315884348 L 0.9675809814685543, -0.2525609714511512 M 0.9675809814685543,-0.2525609714511512 Q -0.04702163258002087, -0.19439384267386023 -0.9760426661339376, 0.21757921289993362L -0.9760426661339376, 0.21757921289993362 L -0.9754175759185497, 0.22036459014365348 L -0.9747845369627457, 0.22314817162218803 ",
          "type": "path"
         },
         {
          "fillcolor": "#c45e3a",
          "layer": "below",
          "line": {
           "color": "rgb(175,175,175)",
           "width": 0.5
          },
          "path": "M -0.9681203641245009,0.2504854498118481 Q -0.03631490144170695, -0.19667543805284662 0.9937353339893945, -0.1117590532394873L 0.9937353339893945, -0.1117590532394873 L 0.993620339588113, -0.11277686268380968 L 0.9935043027203374, -0.11379455380718391 M 0.9935043027203374,-0.11379455380718391 Q -0.03631583850155822, -0.19667526502824076 -0.9686291013278363, 0.24851089324379358L -0.9686291013278363, 0.24851089324379358 L -0.9683752360014627, 0.24949830119484087 L -0.9681203641245009, 0.2504854498118481 ",
          "type": "path"
         },
         {
          "fillcolor": "#bf4d28",
          "layer": "below",
          "line": {
           "color": "rgb(175,175,175)",
           "width": 0.5
          },
          "path": "M -0.999863666394273,0.016512075114956344 Q -0.19864944111413352, -0.023203438215971626 -0.9691418625404793, -0.24650365163942448L -0.9691418625404793, -0.24650365163942448 L -0.9733420167428167, -0.22935849328731284 L -0.9772388797625206, -0.2121418673446943 M -0.9772388797625206,-0.2121418673446943 Q -0.19865072938476036, -0.0231924064060353 -0.9998255184013449, -0.018679741793769786L -0.9998255184013449, -0.018679741793769786 L -0.9999994124705649, -0.0010840011646447226 L -0.999863666394273, 0.016512075114956344 ",
          "type": "path"
         },
         {
          "fillcolor": "#bf4d28",
          "layer": "below",
          "line": {
           "color": "rgb(175,175,175)",
           "width": 0.5
          },
          "path": "M -0.9911016224183922,0.13310737785573987 Q -0.19906739676228669, -0.01929174813971884 -0.9470996315407089, -0.3209396951694407L -0.9470996315407089, -0.3209396951694407 L -0.9474371285845129, -0.31994200627540803 L -0.9477735746482631, -0.3189439624737446 M -0.9477735746482631,-0.3189439624737446 Q -0.19906601333858862, -0.01930601806382841 -0.9913985818258868, 0.13087724001376413L -0.9913985818258868, 0.13087724001376413 L -0.9912507292990258, 0.13199239244800984 L -0.9911016224183922, 0.13310737785573987 ",
          "type": "path"
         },
         {
          "fillcolor": "#bf4d28",
          "layer": "below",
          "line": {
           "color": "rgb(175,175,175)",
           "width": 0.5
          },
          "path": "M -0.9908213824074914,0.1351776170973123 Q -0.19689423640064588, -0.035109253370110005 -0.8830312477036374, -0.4693141970779888L -0.8830312477036374, -0.4693141970779888 L -0.8835537848667194, -0.46832970143659997 L -0.8840752244114728, -0.46734462400010984 M -0.8840752244114728,-0.46734462400010984 Q -0.19689669406619026, -0.035095467881267474 -0.9911016224183922, 0.13310737785573987L -0.9911016224183922, 0.13310737785573987 L -0.9909620430355264, 0.13414257065844412 L -0.9908213824074914, 0.1351776170973123 ",
          "type": "path"
         },
         {
          "fillcolor": "#bf4d28",
          "layer": "below",
          "line": {
           "color": "rgb(175,175,175)",
           "width": 0.5
          },
          "path": "M -0.9976050477942636,0.06916768476250303 Q -0.18049879157027382, -0.08614050291048257 -0.573712439446541, -0.8190567970686153L -0.573712439446541, -0.8190567970686153 L -0.5796005864511617, -0.8149007057215434 L -0.5854586270478169, -0.8107022856852478 M -0.5854586270478169,-0.8107022856852478 Q -0.18055202842990015, -0.08602886160962801 -0.9984298663393738, 0.056016086988829934L -0.9984298663393738, 0.056016086988829934 L -0.9980391203460511, 0.06259324451472816 L -0.9976050477942636, 0.06916768476250303 ",
          "type": "path"
         },
         {
          "fillcolor": "#bf4d28",
          "layer": "below",
          "line": {
           "color": "rgb(175,175,175)",
           "width": 0.5
          },
          "path": "M -0.9900680053817589,0.14058927668704155 Q -0.1589469087671769, -0.12139143377256381 -0.12495977922064577, -0.9921618081629263L -0.12495977922064577, -0.9921618081629263 L -0.12531959170868073, -0.9921164245863333 L -0.12567938771409362, -0.9920709105219296 M -0.12567938771409362,-0.9920709105219296 Q -0.15893240845743606, -0.12141041776519307 -0.9902031026709732, 0.13963457831346104L -0.9902031026709732, 0.13963457831346104 L -0.9901356690925466, 0.1401119437830161 L -0.9900680053817589, 0.14058927668704155 ",
          "type": "path"
         },
         {
          "fillcolor": "#bf4d28",
          "layer": "below",
          "line": {
           "color": "rgb(175,175,175)",
           "width": 0.5
          },
          "path": "M -0.9955274513376249,0.09447271369667007 Q -0.145883393313168, -0.13681387194080702 0.030466899683392598, -0.9995357762600007L 0.030466899683392598, -0.9995357762600007 L 0.023539168944787876, -0.9997229153747496 L 0.01661030765581487, -0.9998620393232154 M 0.01661030765581487,-0.9998620393232154 Q -0.14597405636308633, -0.13671713451102793 -0.9966334026185711, 0.08198695496802604L -0.9966334026185711, 0.08198695496802604 L -0.9960999902377409, 0.08823156718755788 L -0.9955274513376249, 0.09447271369667007 ",
          "type": "path"
         },
         {
          "fillcolor": "#bf4d28",
          "layer": "below",
          "line": {
           "color": "rgb(175,175,175)",
           "width": 0.5
          },
          "path": "M -0.9998255184013449,-0.018679741793769786 Q -0.05802777962834563, -0.19139690904349568 0.8211205579082609, -0.5707547891874639L 0.8211205579082609, -0.5707547891874639 L 0.8093486428294143, -0.5873285063320058 L 0.7972422514058606, -0.6036595005243557 M 0.7972422514058606,-0.6036595005243557 Q -0.05832001473399162, -0.1913080653851975 -0.9984164171618122, -0.05625529256674648L -0.9984164171618122, -0.05625529256674648 L -0.9992975976978886, -0.037474140887134 L -0.9998255184013449, -0.018679741793769786 ",
          "type": "path"
         },
         {
          "fillcolor": "#bf4d28",
          "layer": "below",
          "line": {
           "color": "rgb(175,175,175)",
           "width": 0.5
          },
          "path": "M -0.9905808785838977,0.1369288975488867 Q -0.05714534695530901, -0.19166222716371986 0.9038256971715052, -0.4279008169336003L 0.9038256971715052, -0.4279008169336003 L 0.90347033674241, -0.4286506160342667 L 0.9031143542923049, -0.4294001200176744 M 0.9031143542923049,-0.4294001200176744 Q -0.057134975630228305, -0.19166531913659607 -0.9908213824074914, 0.1351776170973123L -0.9908213824074914, 0.1351776170973123 L -0.990701517466917, 0.1360533104659636 L -0.9905808785838977, 0.1369288975488867 ",
          "type": "path"
         },
         {
          "fillcolor": "#bf4d28",
          "layer": "below",
          "line": {
           "color": "rgb(175,175,175)",
           "width": 0.5
          },
          "path": "M -0.9993005506147224,0.03739531442724588 Q -0.020761043412246813, -0.1989195291479316 0.9854862937368831, -0.1697550142315148L 0.9854862937368831, -0.1697550142315148 L 0.983771999484936, -0.17942311174821113 L 0.9819628588749822, -0.18907391091864476 M 0.9819628588749822,-0.18907391091864476 Q -0.020636384509707825, -0.1989325001963417 -0.999863666394273, 0.016512075114956344L -0.999863666394273, 0.016512075114956344 L -0.9996366435177039, 0.026955165305725323 L -0.9993005506147224, 0.03739531442724588 ",
          "type": "path"
         },
         {
          "fillcolor": "#bf4d28",
          "layer": "below",
          "line": {
           "color": "rgb(175,175,175)",
           "width": 0.5
          },
          "path": "M -0.9966334026185711,0.08198695496802604 Q -0.014287262422270262, -0.199489032612014 0.9981452345597821, -0.06087767017222036L 0.9981452345597821, -0.06087767017222036 L 0.9977977767412897, -0.0663294559765072 L 0.9974205419476838, -0.07177926233104387 M 0.9974205419476838,-0.07177926233104387 Q -0.01409470678566901, -0.19950272990770332 -0.9976050477942636, 0.06916768476250303L -0.9976050477942636, 0.06916768476250303 L -0.997139826051691, 0.07557888132013689 L -0.9966334026185711, 0.08198695496802604 ",
          "type": "path"
         },
         {
          "fillcolor": "#af4624",
          "layer": "below",
          "line": {
           "color": "rgb(175,175,175)",
           "width": 0.5
          },
          "path": "M -0.9956616949773183,-0.09304724152221637 Q -0.19551045201309086, -0.042138618316656995 -0.945592378235118, -0.3253537370672936L -0.945592378235118, -0.3253537370672936 L -0.9459833175775271, -0.3242153032554379 L -0.9463728863177093, -0.3230763996993405 M -0.9463728863177093,-0.3230763996993405 Q -0.19550682812802164, -0.042155428539159844 -0.9954183826699514, -0.09561507957816168L -0.9954183826699514, -0.09561507957816168 L -0.9955408667398012, -0.09433123899835785 L -0.9956616949773183, -0.09304724152221637 ",
          "type": "path"
         },
         {
          "fillcolor": "#af4624",
          "layer": "below",
          "line": {
           "color": "rgb(175,175,175)",
           "width": 0.5
          },
          "path": "M -0.9954183826699514,-0.09561507957816168 Q -0.19137729686105487, -0.05809242847528141 -0.8806053327298475, -0.4738504489475076L -0.8806053327298475, -0.4738504489475076 L -0.8812545245806568, -0.47264200290084313 L -0.8819020580938337, -0.4714326674402828 M -0.8819020580938337,-0.4714326674402828 Q -0.19138206642437694, -0.0580767135015006 -0.9951684478508929, -0.0981822815076365L -0.9951684478508929, -0.0981822815076365 L -0.9952942429714902, -0.09689876112628175 L -0.9954183826699514, -0.09561507957816168 ",
          "type": "path"
         },
         {
          "fillcolor": "#af4624",
          "layer": "below",
          "line": {
           "color": "rgb(175,175,175)",
           "width": 0.5
          },
          "path": "M -0.9917155628021314,-0.12845326969778473 Q -0.17309614901130535, -0.10018843844204771 -0.6053705731004261, -0.795943760088652L -0.6053705731004261, -0.795943760088652 L -0.610047204741862, -0.7923650724171534 L -0.6147026812340717, -0.7887589071976577 M -0.6147026812340717,-0.7887589071976577 Q -0.1731450511957319, -0.10010390225374527 -0.990270320698192, -0.13915707651535406L -0.990270320698192, -0.13915707651535406 L -0.9910073932462544, -0.13380712436661865 L -0.9917155628021314, -0.12845326969778473 ",
          "type": "path"
         },
         {
          "fillcolor": "#af4624",
          "layer": "below",
          "line": {
           "color": "rgb(175,175,175)",
           "width": 0.5
          },
          "path": "M -0.9961567374883966,-0.08758855151487378 Q -0.1441042896503885, -0.13868653036382783 -0.12567938771409362, -0.9920709105219296L -0.12567938771409362, -0.9920709105219296 L -0.1258592795210285, -0.9920481045586689 L -0.12603916718956334, -0.9920252659757015 M -0.12603916718956334,-0.9920252659757015 Q -0.14409590141849443, -0.13869524575266284 -0.9961142608631769, -0.08807030887311972L -0.9961142608631769, -0.08807030887311972 L -0.9961355282996044, -0.08782943276184874 L -0.9961567374883966, -0.08758855151487378 ",
          "type": "path"
         },
         {
          "fillcolor": "#af4624",
          "layer": "below",
          "line": {
           "color": "rgb(175,175,175)",
           "width": 0.5
          },
          "path": "M -0.98866118952214,-0.1501634187565905 Q -0.12910734536539445, -0.15274584568066252 0.01661030765581487, -0.9998620393232154L 0.01661030765581487, -0.9998620393232154 L 0.010213720044629076, -0.9999478386010192 L 0.003816714450283613, -0.9999927163188765 M 0.003816714450283613,-0.9999927163188765 Q -0.12919800140888174, -0.15266917315539047 -0.986851680042655, -0.16162846778024392L -0.986851680042655, -0.16162846778024392 L -0.9877730692275991, -0.15589856865503496 L -0.98866118952214, -0.1501634187565905 ",
          "type": "path"
         },
         {
          "fillcolor": "#af4624",
          "layer": "below",
          "line": {
           "color": "rgb(175,175,175)",
           "width": 0.5
          },
          "path": "M -0.9691418625404793,-0.24650365163942448 Q -0.031258585736004235, -0.19754214947140997 0.8456878517914489, -0.5336778591363561L 0.8456878517914489, -0.5336778591363561 L 0.8336103666263527, -0.5523529276224376 L 0.8211205579082609, -0.5707547891874639 M 0.8211205579082609,-0.5707547891874639 Q -0.03157577336065393, -0.19749169738669173 -0.9581464926501723, -0.28627835863399365L -0.9581464926501723, -0.28627835863399365 L -0.9638493698926703, -0.26644772875275613 L -0.9691418625404793, -0.24650365163942448 ",
          "type": "path"
         },
         {
          "fillcolor": "#af4624",
          "layer": "below",
          "line": {
           "color": "rgb(175,175,175)",
           "width": 0.5
          },
          "path": "M -0.9959998508492165,-0.0893548941487728 Q -0.035250315049210126, -0.19686903080203202 0.9031143542923049, -0.4294001200176744L 0.9031143542923049, -0.4294001200176744 L 0.9027901943190463, -0.43008123074760957 L 0.9024655206658273, -0.43076209676497457 M 0.9024655206658273,-0.43076209676497457 Q -0.03524013124429147, -0.1968708539877986 -0.9958545087665721, -0.09096041649689861L -0.9958545087665721, -0.09096041649689861 L -0.9959275033382744, -0.09015768461086106 L -0.9959998508492165, -0.0893548941487728 ",
          "type": "path"
         },
         {
          "fillcolor": "#af4624",
          "layer": "below",
          "line": {
           "color": "rgb(175,175,175)",
           "width": 0.5
          },
          "path": "M -0.9845443487660066,-0.17513544847608636 Q -0.0014175500884275115, -0.1999949763162735 0.9819628588749822, -0.18907391091864476L 0.9819628588749822, -0.18907391091864476 L 0.9803133806367855, -0.1974479064069225 L 0.9785924918831904, -0.20580751888560325 M 0.9785924918831904,-0.20580751888560325 Q -0.0013028794858973302, -0.19999575621758886 -0.9811908011393988, -0.19304044073567753L -0.9811908011393988, -0.19304044073567753 L -0.982908346225812, -0.1840955809345768 L -0.9845443487660066, -0.17513544847608636 ",
          "type": "path"
         },
         {
          "fillcolor": "#af4624",
          "layer": "below",
          "line": {
           "color": "rgb(175,175,175)",
           "width": 0.5
          },
          "path": "M -0.986851680042655,-0.16162846778024392 Q 0.011297365821868969, -0.19968066888281116 0.9987846673635262, -0.04928679579289348L 0.9987846673635262, -0.04928679579289348 L 0.9984817701846528, -0.0550831608472345 L 0.9981452345597821, -0.06087767017222036 M 0.9981452345597821,-0.06087767017222036 Q 0.011506443411111367, -0.19966873005061883 -0.9845443487660066, -0.17513544847608636L -0.9845443487660066, -0.17513544847608636 L -0.9857211498352462, -0.16838591024037652 L -0.986851680042655, -0.16162846778024392 ",
          "type": "path"
         },
         {
          "fillcolor": "#9f4021",
          "layer": "below",
          "line": {
           "color": "rgb(175,175,175)",
           "width": 0.5
          },
          "path": "M -0.9215890240430601,-0.38816706553153124 Q -0.17681599012596227, -0.09346713666190708 -0.8397859166711956, -0.5429176863583647L -0.8397859166711956, -0.5429176863583647 L -0.8444557075933078, -0.5356253895336608 L -0.8490621773924368, -0.5282929290853836 M -0.8490621773924368,-0.5282929290853836 Q -0.17691506916955504, -0.09327946344577438 -0.9155840338167935, -0.4021266927471598L -0.9155840338167935, -0.4021266927471598 L -0.918613046352778, -0.3951582860961781 L -0.9215890240430601, -0.38816706553153124 ",
          "type": "path"
         },
         {
          "fillcolor": "#9f4021",
          "layer": "below",
          "line": {
           "color": "rgb(175,175,175)",
           "width": 0.5
          },
          "path": "M -0.9264212255289087,-0.3764886623651698 Q -0.1554809513641161, -0.12580013419273195 -0.5615561830576276, -0.8274386099704004L -0.5615561830576276, -0.8274386099704004 L -0.5676497820025195, -0.8232701409576885 L -0.573712439446541, -0.8190567970686153 M -0.573712439446541,-0.8190567970686153 Q -0.15561466600093465, -0.12563469156812365 -0.9215890240430601, -0.38816706553153124L -0.9215890240430601, -0.38816706553153124 L -0.9240235748647821, -0.38233549808265044 L -0.9264212255289087, -0.3764886623651698 ",
          "type": "path"
         },
         {
          "fillcolor": "#9f4021",
          "layer": "below",
          "line": {
           "color": "rgb(175,175,175)",
           "width": 0.5
          },
          "path": "M -0.9421637195299268,-0.3351529883523843 Q -0.12393573008231139, -0.15697112730997526 -0.10742995109367026, -0.994212656129468L -0.10742995109367026, -0.994212656129468 L -0.10905234747456609, -0.9940360081557843 L -0.11067445340821883, -0.9938567126919212 M -0.11067445340821883,-0.9938567126919212 Q -0.12387305123939099, -0.15702059475318267 -0.9407944073141385, -0.3389777030520426L -0.9407944073141385, -0.3389777030520426 L -0.9414810056356215, -0.33706604104735727 L -0.9421637195299268, -0.3351529883523843 ",
          "type": "path"
         },
         {
          "fillcolor": "#9f4021",
          "layer": "below",
          "line": {
           "color": "rgb(175,175,175)",
           "width": 0.5
          },
          "path": "M -0.9079225760045453,-0.41913791999921773 Q -0.09872312801359072, -0.17393603420571652 0.10561874703939858, -0.9944066976211632L 0.10561874703939858, -0.9944066976211632 L 0.09297612957312648, -0.9956683380170332 L 0.0803185032015004, -0.9967692501494368 M 0.0803185032015004,-0.9967692501494368 Q -0.09906168707196344, -0.1737434377306274 -0.8986949845558128, -0.4385741952443481L -0.8986949845558128, -0.4385741952443481 L -0.9033610544683205, -0.42888087538369457 L -0.9079225760045453, -0.41913791999921773 ",
          "type": "path"
         },
         {
          "fillcolor": "#9f4021",
          "layer": "below",
          "line": {
           "color": "rgb(175,175,175)",
           "width": 0.5
          },
          "path": "M -0.9407944073141385,-0.3389777030520426 Q -0.055147644079455584, -0.19224655355164547 0.6180431229091267, -0.7861441968396982L 0.6180431229091267, -0.7861441968396982 L 0.6157867482302775, -0.7879128636492622 L 0.6135253121483034, -0.7896750542807636 M 0.6135253121483034,-0.7896750542807636 Q -0.055221529049900756, -0.19222534361886565 -0.9390997206066833, -0.3436447508059001L -0.9390997206066833, -0.3436447508059001 L -0.9399499605731578, -0.3413122787397474 L -0.9407944073141385, -0.3389777030520426 ",
          "type": "path"
         },
         {
          "fillcolor": "#9f4021",
          "layer": "below",
          "line": {
           "color": "rgb(175,175,175)",
           "width": 0.5
          },
          "path": "M -0.9485862801460101,-0.3165186710428869 Q -0.01251592406335341, -0.19960799494218756 0.9016189664717532, -0.432531200375658L 0.9016189664717532, -0.432531200375658 L 0.901423115199878, -0.4329392190404418 L 0.9012270792832401, -0.43334714902327504 M 0.9012270792832401,-0.43334714902327504 Q -0.012516164808980558, -0.19960797984668457 -0.94830015129963, -0.3173748935330248L -0.94830015129963, -0.3173748935330248 L -0.948443312343907, -0.31694681457638607 L -0.9485862801460101, -0.3165186710428869 ",
          "type": "path"
         },
         {
          "fillcolor": "#9f4021",
          "layer": "below",
          "line": {
           "color": "rgb(175,175,175)",
           "width": 0.5
          },
          "path": "M -0.9470996315407089,-0.3209396951694407 Q 0.005190272299788777, -0.19993264134066266 0.9624759730849556, -0.2713669125633555L 0.9624759730849556, -0.2713669125633555 L 0.962167908874233, -0.27245718036525607 L 0.9618586096368698, -0.2735470984445418 M 0.9618586096368698,-0.2735470984445418 Q 0.005189373092682919, -0.19993266468214976 -0.9463728863177093, -0.3230763996993405L -0.9463728863177093, -0.3230763996993405 L -0.9467368617244374, -0.3220082524597212 L -0.9470996315407089, -0.3209396951694407 ",
          "type": "path"
         },
         {
          "fillcolor": "#9f4021",
          "layer": "below",
          "line": {
           "color": "rgb(175,175,175)",
           "width": 0.5
          },
          "path": "M -0.9446584074947082,-0.32805562508446917 Q 0.022925790119640306, -0.19868167541922482 0.9945467618182795, -0.10429160348165319L 0.9945467618182795, -0.10429160348165319 L 0.9943745073648494, -0.10592138170791043 L 0.9941995821719779, -0.1075508754453653 M 0.9941995821719779,-0.1075508754453653 Q 0.022958905311533304, -0.19867785147543762 -0.9434676209466256, -0.3314647013262715L -0.9434676209466256, -0.3314647013262715 L -0.9440645530204047, -0.32976070070641134 L -0.9446584074947082, -0.32805562508446917 ",
          "type": "path"
         },
         {
          "fillcolor": "#8f391e",
          "layer": "below",
          "line": {
           "color": "rgb(175,175,175)",
           "width": 0.5
          },
          "path": "M -0.807433200555445,-0.5899590042035044 Q -0.11967341253946628, -0.160244420592914 -0.33644073160195037, -0.9417046427193319L -0.33644073160195037, -0.9417046427193319 L -0.36835320081732736, -0.9296859251637779 L -0.39983732857445325, -0.9165861174371149 M -0.39983732857445325,-0.9165861174371149 Q -0.11980742256703632, -0.1601442521536243 -0.7664248999934598, -0.6423339261396795L -0.7664248999934598, -0.6423339261396795 L -0.7873646634678284, -0.616487539794758 L -0.807433200555445, -0.5899590042035044 ",
          "type": "path"
         },
         {
          "fillcolor": "#8f391e",
          "layer": "below",
          "line": {
           "color": "rgb(175,175,175)",
           "width": 0.5
          },
          "path": "M -0.8720154900423942,-0.4894782785028598 Q -0.10889020690707976, -0.16775852538614353 -0.09203361957398683, -0.9957559002426803L -0.09203361957398683, -0.9957559002426803 L -0.09504256268303374, -0.9954732097242204 L -0.09805063770633442, -0.9951814268993273 M -0.09805063770633442,-0.9951814268993273 Q -0.10867796717569195, -0.16789609718679954 -0.8677868754089249, -0.49693655416764737L -0.8677868754089249, -0.49693655416764737 L -0.8699091758203692, -0.4932119481759601 L -0.8720154900423942, -0.4894782785028598 ",
          "type": "path"
         },
         {
          "fillcolor": "#8f391e",
          "layer": "below",
          "line": {
           "color": "rgb(175,175,175)",
           "width": 0.5
          },
          "path": "M -0.7664248999934598,-0.6423339261396795 Q -0.047515802971953874, -0.19427364326621988 0.38343363782670037, -0.9235684302654475L 0.38343363782670037, -0.9235684302654475 L 0.3493761225804761, -0.9369825638562502 L 0.314850494574829, -0.9491412782436478 M 0.314850494574829,-0.9491412782436478 Q -0.04776494010656511, -0.1942125394937625 -0.7191719309214113, -0.6948321623059548L -0.7191719309214113, -0.6948321623059548 L -0.7432620683219476, -0.6690003720430808 L -0.7664248999934598, -0.6423339261396795 ",
          "type": "path"
         },
         {
          "fillcolor": "#8f391e",
          "layer": "below",
          "line": {
           "color": "rgb(175,175,175)",
           "width": 0.5
          },
          "path": "M -0.8677868754089249,-0.49693655416764737 Q -0.036590102776868035, -0.19662442467500887 0.6309349779683096, -0.775835713006387L 0.6309349779683096, -0.775835713006387 L 0.6270853128184725, -0.7789505828018608 L 0.6232202700721392, -0.7820463509097206 M 0.6232202700721392,-0.7820463509097206 Q -0.03660288852429373, -0.1966220449280246 -0.8628884634670133, -0.5053944000634918L -0.8628884634670133, -0.5053944000634918 L -0.8653480027928853, -0.501171461739757 L -0.8677868754089249, -0.49693655416764737 ",
          "type": "path"
         },
         {
          "fillcolor": "#8f391e",
          "layer": "below",
          "line": {
           "color": "rgb(175,175,175)",
           "width": 0.5
          },
          "path": "M -0.8775812842484589,-0.4794278773046322 Q 0.0068230030575442795, -0.19988358269071713 0.9082309037789315, -0.41846938409028844L 0.9082309037789315, -0.41846938409028844 L 0.9072498822276038, -0.4205920246485885 L 0.9062638998282737, -0.42271236540708007 M 0.9062638998282737,-0.42271236540708007 Q 0.0068868564660013055, -0.19988139285090223 -0.8750204200750755, -0.4840860093533363L -0.8750204200750755, -0.4840860093533363 L -0.8763039472968185, -0.48175864491674125 L -0.8775812842484589, -0.4794278773046322 ",
          "type": "path"
         },
         {
          "fillcolor": "#8f391e",
          "layer": "below",
          "line": {
           "color": "rgb(175,175,175)",
           "width": 0.5
          },
          "path": "M -0.8844755844466107,-0.4665864769984514 Q 0.0201059593022094, -0.19898680961445134 0.9599345810867158, -0.2802241960178875L 0.9599345810867158, -0.2802241960178875 L 0.9598922392715213, -0.28036920120852143 L 0.9598498755522245, -0.2805142000013176 M 0.9598498755522245,-0.2805142000013176 Q 0.02011002108453885, -0.19898639916330818 -0.8843155184347962, -0.4668897769874574L -0.8843155184347962, -0.4668897769874574 L -0.8843955644426462, -0.4667381338547058 L -0.8844755844466107, -0.4665864769984514 ",
          "type": "path"
         },
         {
          "fillcolor": "#8f391e",
          "layer": "below",
          "line": {
           "color": "rgb(175,175,175)",
           "width": 0.5
          },
          "path": "M -0.8843155184347962,-0.4668897769874574 Q 0.03670417702589816, -0.19660316220460833 0.9932056778647748, -0.11637216788035384L 0.9932056778647748, -0.11637216788035384 L 0.9931818173698908, -0.1165756305830725 L 0.9931579151947467, -0.11677908839353136 M 0.9931579151947467,-0.11677908839353136 Q 0.0367144696521203, -0.19660124037798832 -0.8840752244114728, -0.46734462400010984L -0.8840752244114728, -0.46734462400010984 L -0.8841954006708845, -0.46711721594526345 L -0.8843155184347962, -0.4668897769874574 ",
          "type": "path"
         },
         {
          "fillcolor": "#f0f3e7",
          "layer": "below",
          "line": {
           "color": "rgb(175,175,175)",
           "width": 0.5
          },
          "path": "M -0.5955309349603443,-0.8033323754867958 Q -0.06999607983838997, -0.1873514046044431 -0.0770973734266901, -0.9970235679314233L -0.0770973734266901, -0.9970235679314233 L -0.08137539310325034, -0.9966835231894282 L -0.08565191408246045, -0.9963251224444813 M -0.08565191408246045,-0.9963251224444813 Q -0.06963082621531358, -0.18748746102225824 -0.5854586270478169, -0.8107022856852478L -0.5854586270478169, -0.8107022856852478 L -0.5905062787872285, -0.8070330443748013 L -0.5955309349603443, -0.8033323754867958 ",
          "type": "path"
         },
         {
          "fillcolor": "#f0f3e7",
          "layer": "below",
          "line": {
           "color": "rgb(175,175,175)",
           "width": 0.5
          },
          "path": "M -0.24822505827325753,-0.9687023900276276 Q 0.023593821350286925, -0.19860345312730782 0.4682740859670784, -0.8835832617312854L 0.4682740859670784, -0.8835832617312854 L 0.4263229000630519, -0.9045710502121042 L 0.38343363782670037, -0.9235684302654475 M 0.38343363782670037,-0.9235684302654475 Q 0.023493457432378167, -0.19861535050915133 -0.1573760084297651, -0.9875387546677419L -0.1573760084297651, -0.9875387546677419 L -0.20301910867174822, -0.9791747757750549 L -0.24822505827325753, -0.9687023900276276 ",
          "type": "path"
         },
         {
          "fillcolor": "#f0f3e7",
          "layer": "below",
          "line": {
           "color": "rgb(175,175,175)",
           "width": 0.5
          },
          "path": "M -0.5061350005687585,-0.8624542661493784 Q 0.0315113676794711, -0.19750198405831065 0.749382942540952, -0.6621368479617067L 0.749382942540952, -0.6621368479617067 L 0.737824109418219, -0.6749930248241178 L 0.7260447495919269, -0.6876474544343172 M 0.7260447495919269,-0.6876474544343172 Q 0.031551268500185733, -0.19749561376402563 -0.47566178809574716, -0.8796282529259486L -0.47566178809574716, -0.8796282529259486 L -0.4909734921698266, -0.871174511786568 L -0.5061350005687585, -0.8624542661493784 ",
          "type": "path"
         },
         {
          "fillcolor": "#f0f3e7",
          "layer": "below",
          "line": {
           "color": "rgb(175,175,175)",
           "width": 0.5
          },
          "path": "M -0.5615561830576276,-0.8274386099704004 Q 0.057251600635320234, -0.19163051485787383 0.9234220713477334, -0.3837859796134581L 0.9234220713477334, -0.3837859796134581 L 0.9207364972839032, -0.39018495943509784 L 0.9180065812401703, -0.3965651482414138 M 0.9180065812401703,-0.3965651482414138 Q 0.05747125118140986, -0.19156475481581495 -0.548101803445745, -0.8364116289600007L -0.548101803445745, -0.8364116289600007 L -0.5548471325690768, -0.8319523180326343 L -0.5615561830576276, -0.8274386099704004 ",
          "type": "path"
         },
         {
          "fillcolor": "#f0f3e7",
          "layer": "below",
          "line": {
           "color": "rgb(175,175,175)",
           "width": 0.5
          },
          "path": "M -0.6343336424787896,-0.7730593961783215 Q 0.06076860349872524, -0.1905444221928701 0.9647768593373351, -0.26306959475999475L 0.9647768593373351, -0.26306959475999475 L 0.9641582533915468, -0.26532783950607564 L 0.9635343615998452, -0.26758462963402596 M 0.9635343615998452,-0.26758462963402596 Q 0.060841621137295146, -0.19052111992476278 -0.6301115821336905, -0.7765046001544211L -0.6301115821336905, -0.7765046001544211 L -0.6322249590683173, -0.7747848740980069 L -0.6343336424787896, -0.7730593961783215 ",
          "type": "path"
         },
         {
          "fillcolor": "#f0f3e7",
          "layer": "below",
          "line": {
           "color": "rgb(175,175,175)",
           "width": 0.5
          },
          "path": "M -0.6257337012867878,-0.780036752386666 Q 0.07743760348342242, -0.18440015609197366 0.9950474961512992, -0.09940060564719998L 0.9950474961512992, -0.09940060564719998 L 0.9948001348518877, -0.1018464123013967 L 0.9945467618182795, -0.10429160348165319 M 0.9945467618182795,-0.10429160348165319 Q 0.0775677427187168, -0.18434545095966692 -0.6207849257534713, -0.7839809155567864L -0.6207849257534713, -0.7839809155567864 L -0.6232624334863777, -0.7820127486202758 L -0.6257337012867878, -0.780036752386666 ",
          "type": "path"
         },
         {
          "fillcolor": "#e2ecde",
          "layer": "below",
          "line": {
           "color": "rgb(175,175,175)",
           "width": 0.5
          },
          "path": "M -0.0770973734266901,-0.9970235679314233 Q -0.007334078553003759, -0.1998654829923826 0.003816714450283613, -0.9999927163188765L 0.003816714450283613, -0.9999927163188765 L -0.002580447338118326, -0.9999966706402252 L -0.00897750352508151, -0.9999597014032401 M -0.00897750352508151,-0.9999597014032401 Q -0.00774283058474861, -0.1998500652352555 -0.06841654914206448, -0.9976568427086998L -0.06841654914206448, -0.9976568427086998 L -0.07275765028209927, -0.9973496499851132 L -0.0770973734266901, -0.9970235679314233 ",
          "type": "path"
         },
         {
          "fillcolor": "#e2ecde",
          "layer": "below",
          "line": {
           "color": "rgb(175,175,175)",
           "width": 0.5
          },
          "path": "M -0.12172073291959123,-0.9925643874215504 Q 0.05268168598915991, -0.19293688077021343 0.6092629308393841, -0.7929682724453758L 0.6092629308393841, -0.7929682724453758 L 0.6078841923810963, -0.7940256977284692 L 0.6065036186791156, -0.7950807257940152 M 0.6065036186791156,-0.7950807257940152 Q 0.052579678891743364, -0.1929647049790224 -0.11932060140054196, -0.9928557770801422L -0.11932060140054196, -0.9928557770801422 L -0.12052075522369927, -0.992710807617359 L -0.12172073291959123, -0.9925643874215504 ",
          "type": "path"
         },
         {
          "fillcolor": "#e2ecde",
          "layer": "below",
          "line": {
           "color": "rgb(175,175,175)",
           "width": 0.5
          },
          "path": "M -0.12412015291532055,-0.9922671956888817 Q 0.0959744490797535, -0.175467675438634 0.9024655206658273, -0.43076209676497457L 0.9024655206658273, -0.43076209676497457 L 0.9022379435679125, -0.4312385571656878 L 0.9020101149207821, -0.4317148973345691 M 0.9020101149207821,-0.4317148973345691 Q 0.09595603962926597, -0.1754777434852259 -0.12328043773017734, -0.9923718726732715L -0.12328043773017734, -0.9923718726732715 L -0.12370030639514673, -0.992319623003469 L -0.12412015291532055, -0.9922671956888817 ",
          "type": "path"
         },
         {
          "fillcolor": "#e2ecde",
          "layer": "below",
          "line": {
           "color": "rgb(175,175,175)",
           "width": 0.5
          },
          "path": "M -0.12328043773017734,-0.9923718726732715 Q 0.11045009762075148, -0.16673564686522938 0.9618586096368698, -0.2735470984445418L 0.9618586096368698, -0.2735470984445418 L 0.9615895516053197, -0.2744914101451633 L 0.9613195664891164, -0.27543545720400153 M 0.9613195664891164,-0.27543545720400153 Q 0.11041739463899117, -0.16675730557051252 -0.12172073291959123, -0.9925643874215504L -0.12172073291959123, -0.9925643874215504 L -0.12250062314299193, -0.9924684364399599 L -0.12328043773017734, -0.9923718726732715 ",
          "type": "path"
         },
         {
          "fillcolor": "#e2ecde",
          "layer": "below",
          "line": {
           "color": "rgb(175,175,175)",
           "width": 0.5
          },
          "path": "M -0.12627901096654068,-0.9919947637912774 Q 0.12314305860082086, -0.15759374073368143 0.993093972298503, -0.11732161857211204L 0.993093972298503, -0.11732161857211204 L 0.9930779402663918, -0.11745724565245295 L 0.993061889711658, -0.1175928705420138 M 0.993061889711658,-0.1175928705420138 Q 0.12314058695464801, -0.15759567203595656 -0.12603916718956334, -0.9920252659757015L -0.12603916718956334, -0.9920252659757015 L -0.12615908999988734, -0.9920100221320349 L -0.12627901096654068, -0.9919947637912774 ",
          "type": "path"
         },
         {
          "fillcolor": "#d4e5d6",
          "layer": "below",
          "line": {
           "color": "rgb(175,175,175)",
           "width": 0.5
          },
          "path": "M 0.13807028644478364,-0.9904224331067302 Q 0.09792743821752455, -0.17438525409034136 0.7738101247653549, -0.6334176274864994L 0.7738101247653549, -0.6334176274864994 L 0.7617318940931086, -0.64789236877843 L 0.749382942540952, -0.6621368479617067 M 0.749382942540952,-0.6621368479617067 Q 0.09800206423498536, -0.17434332624359847 0.17614960940714294, -0.9843634060171634L 0.17614960940714294, -0.9843634060171634 L 0.15713915390384747, -0.9875764711202788 L 0.13807028644478364, -0.9904224331067302 ",
          "type": "path"
         },
         {
          "fillcolor": "#d4e5d6",
          "layer": "below",
          "line": {
           "color": "rgb(175,175,175)",
           "width": 0.5
          },
          "path": "M 0.04467268522880223,-0.9990016772730906 Q 0.11587498149198816, -0.16301223470718817 0.9288274634225828, -0.37051254120740706L 0.9288274634225828, -0.37051254120740706 L 0.9261485468357616, -0.37715894420523427 L 0.9234220713477334, -0.3837859796134581 M 0.9234220713477334,-0.3837859796134581 Q 0.11608268231782977, -0.16286439410103676 0.06153009695895197, -0.9981052285046011L 0.06153009695895197, -0.9981052285046011 L 0.05310328277238117, -0.9985890252545321 L 0.04467268522880223, -0.9990016772730906 ",
          "type": "path"
         },
         {
          "fillcolor": "#d4e5d6",
          "layer": "below",
          "line": {
           "color": "rgb(175,175,175)",
           "width": 0.5
          },
          "path": "M -0.03704563097610899,-0.9993135750231665 Q 0.11724120641918755, -0.16203240267728383 0.9607768160448324, -0.2773227537558974L 0.9607768160448324, -0.2773227537558974 L 0.9605670791665342, -0.27804835266815237 L 0.9603567943007204, -0.27877379295845545 M 0.9603567943007204,-0.27877379295845545 Q 0.11726278694226813, -0.16201678554561016 -0.035269800438131, -0.9993778270389304L -0.035269800438131, -0.9993778270389304 L -0.036157729979042194, -0.9993460954858245 L -0.03704563097610899, -0.9993135750231665 ",
          "type": "path"
         },
         {
          "fillcolor": "#d4e5d6",
          "layer": "below",
          "line": {
           "color": "rgb(175,175,175)",
           "width": 0.5
          },
          "path": "M -0.018927653209830305,-0.9998208559256845 Q 0.1341520343390589, -0.14833486334200724 0.9966887645745403, -0.08131117125510304L 0.9966887645745403, -0.08131117125510304 L 0.9963705443546669, -0.08512190283578427 L 0.9960377542688148, -0.08893138968404912 M 0.9960377542688148,-0.08893138968404912 Q 0.13432276513503588, -0.14818027792684826 -0.00897750352508151, -0.9999597014032401L -0.00897750352508151, -0.9999597014032401 L -0.013952751076997167, -0.9999026556307286 L -0.018927653209830305, -0.9998208559256845 ",
          "type": "path"
         },
         {
          "fillcolor": "#c6decd",
          "layer": "below",
          "line": {
           "color": "rgb(175,175,175)",
           "width": 0.5
          },
          "path": "M 0.650015371371942,-0.7599210597030434 Q 0.16095714840502162, -0.11871308427180155 0.9180065812401703, -0.3965651482414138L 0.9180065812401703, -0.3965651482414138 L 0.9157180814668762, -0.4018213474600666 L 0.9133994867457178, -0.40706434087581206 M 0.9133994867457178,-0.40706434087581206 Q 0.16106035381494646, -0.11857302572256585 0.6599934328672927, -0.7512713681300829L 0.6599934328672927, -0.7512713681300829 L 0.6550186799528348, -0.755612684457352 L 0.650015371371942, -0.7599210597030434 ",
          "type": "path"
         },
         {
          "fillcolor": "#c6decd",
          "layer": "below",
          "line": {
           "color": "rgb(175,175,175)",
           "width": 0.5
          },
          "path": "M 0.708981595682733,-0.7052269825972101 Q 0.17867342669893682, -0.08986549166203711 0.9888781922900922, -0.14872767332638362L 0.9888781922900922, -0.14872767332638362 L 0.9872382276773554, -0.15925037460701402 L 0.9854862937368831, -0.1697550142315148 M 0.9854862937368831,-0.1697550142315148 Q 0.17881697603688018, -0.08957951261882274 0.7260447495919269, -0.6876474544343172L 0.7260447495919269, -0.6876474544343172 L 0.7175670093173837, -0.6964894738180224 L 0.708981595682733, -0.7052269825972101 ",
          "type": "path"
         },
         {
          "fillcolor": "#c6decd",
          "layer": "below",
          "line": {
           "color": "rgb(175,175,175)",
           "width": 0.5
          },
          "path": "M 0.6751288232395971,-0.737699852264535 Q 0.18174839617385996, -0.08347167476593274 0.9995065603657314, -0.03141075907813368L 0.9995065603657314, -0.03141075907813368 L 0.9991855913077824, -0.04035039185580859 L 0.9987846673635262, -0.04928679579289348 M 0.9987846673635262,-0.04928679579289348 Q 0.1819511529038782, -0.08302877788423443 0.6917439105506132, -0.7221428959812215L 0.6917439105506132, -0.7221428959812215 L 0.6834806305353364, -0.7299686484247244 L 0.6751288232395971, -0.737699852264535 ",
          "type": "path"
         },
         {
          "fillcolor": "#b8d7c5",
          "layer": "below",
          "line": {
           "color": "rgb(175,175,175)",
           "width": 0.5
          },
          "path": "M 0.900899942542896,-0.4340268350300552 Q 0.18674503168943182, -0.07159813642346503 0.9601459615673554, -0.2794990742129541L 0.9601459615673554, -0.2794990742129541 L 0.9600403397879155, -0.27986165507247296 L 0.9599345810867158, -0.2802241960178875 M 0.9599345810867158,-0.2802241960178875 Q 0.18674499631230126, -0.07159822869539853 0.9012270792832401, -0.43334714902327504L 0.9012270792832401, -0.43334714902327504 L 0.9010635750002611, -0.4336870228721961 L 0.900899942542896, -0.4340268350300552 ",
          "type": "path"
         },
         {
          "fillcolor": "#b8d7c5",
          "layer": "below",
          "line": {
           "color": "rgb(175,175,175)",
           "width": 0.5
          },
          "path": "M 0.9005722931981289,-0.4347062740792491 Q 0.19205374228824212, -0.05581541071318467 0.9932849118107772, -0.11569392364794526L 0.9932849118107772, -0.11569392364794526 L 0.993245352730729, -0.1160330525273285 L 0.9932056778647748, -0.11637216788035384 M 0.9932056778647748,-0.11637216788035384 Q 0.19205573641060336, -0.055808548733870894 0.900899942542896, -0.4340268350300552L 0.900899942542896, -0.4340268350300552 L 0.9007361819344205, -0.43436658544851553 L 0.9005722931981289, -0.4347062740792491 ",
          "type": "path"
         },
         {
          "fillcolor": "#aad0bc",
          "layer": "below",
          "line": {
           "color": "rgb(175,175,175)",
           "width": 0.5
          },
          "path": "M 0.9660762691884456,-0.2582569304218845 Q 0.19694066567862004, -0.03484787227453083 0.9960377542688148, -0.08893138968404912L 0.9960377542688148, -0.08893138968404912 L 0.9957973855990377, -0.09158366030095809 L 0.9955499544190095, -0.09423528137756078 M 0.9955499544190095,-0.09423528137756078 Q 0.19695050382205326, -0.034792226778971654 0.9675809814685543, -0.2525609714511512L 0.9675809814685543, -0.2525609714511512 L 0.9668328199547976, -0.25541005903889896 L 0.9660762691884456, -0.2582569304218845 ",
          "type": "path"
         },
         {
          "fillcolor": "#f2e6ce",
          "layer": "below",
          "line": {
           "color": "rgb(150,150,150)",
           "width": 0.45
          },
          "path": "M 1.1, 0.0 L 1.099745850240148, 0.0236445528520701 L 1.098983518400774, 0.047278179781541724 L 1.0977133567481583, 0.07088995991458111 L 1.0959359522118988, 0.094468982472551 L 1.0936521261136973, 0.1180043518137775 L 1.0908629337878348, 0.1414851924683222 L 1.0875696640935109, 0.16490065416343333 L 1.0837738388192744, 0.18823991683735336 L 1.0794772119798197, 0.21149219563916646 L 1.074681769005473, 0.23464674591237542 L 1.0693897258247445, 0.25769286815990483 L 1.063603527840367, 0.2806199129882371 L 1.0573258487993014, 0.30341728602839535 L 1.0505595895572215, 0.32607445283150066 L 0.9550541723247468, 0.29643132075590967 L 0.9612053170902739, 0.2758338963894503 L 0.9669122980366972, 0.25510901180748824 L 0.9721724780224948, 0.23426624378173166 L 0.9769834263686119, 0.2133152235567049 L 0.9813429199816542, 0.19226563239924221 L 0.9852489443811584, 0.17112719712486668 L 0.9886996946304643, 0.1499096856031212 L 0.9916935761707588, 0.12862290224392925 L 0.9942292055579065, 0.10727668346707045 L 0.996305411101726, 0.08588089315686455 L 0.9979212334074165, 0.06444541810416464 L 0.9990759258188854, 0.0429801634377652 L 0.9997689547637708, 0.021495048047336453 L 1.0, 0.0 L 1.1 ,0.0",
          "type": "path"
         },
         {
          "fillcolor": "#ecd5bb",
          "layer": "below",
          "line": {
           "color": "rgb(150,150,150)",
           "width": 0.45
          },
          "path": "M 1.0397989557381504, 0.35891242893755043 L 1.032155509413297, 0.38033538408591083 L 1.0240707395982713, 0.40159571748046563 L 1.0155481031353795, 0.42268433874243905 L 1.0065912440875897, 0.4435922309128039 L 0.9972039921804234, 0.46431045430770373 L 0.9873903611644604, 0.484830150340835 L 0.9771545470991625, 0.5051425453111535 L 0.9665009265587444, 0.5252389541542866 L 0.9554340547608617, 0.5451107841560454 L 0.9439586636189159, 0.5647495386264523 L 0.9320796597188074, 0.5841468205327087 L 0.919802122221005, 0.6032943360895539 L 0.9071313006888255, 0.6221838983054769 L 0.8940726128438531, 0.640807430483266 L 0.8806316422494603, 0.6591569696733993 L 0.8668141359234172, 0.6772246700788003 L 0.8526260018806123, 0.6950028064095011 L 0.8380733066069366, 0.7124837771857798 L 0.8231622724654071, 0.7296601079883613 L 0.8078992750356426, 0.7465244546542888 L 0.7922908403878282, 0.7630696064171009 L 0.7763436422923329, 0.7792884889899726 L 0.7600644993661748, 0.7951741675905011 L 0.743460372157554, 0.8107198499058423 L 0.7265383601696986, 0.8259188889969313 L 0.7093056988252975, 0.8407647861405452 L 0.6917697563728172, 0.855251193607991 L 0.673938030736026, 0.869371917379235 L 0.655818146308072, 0.8831209197913072 L 0.6374178506914865, 0.8964923221198527 L 0.6187450113855054, 0.9094804070927263 L 0.5998076124221265, 0.9220796213345507 L 0.5806137509523404, 0.9342845777412008 L 0.5611716337839936, 0.9460900577831919 L 0.541489573872767, 0.9574910137369903 L 0.5215759867677654, 0.968482570843292 L 0.5014393870132441, 0.9790600293913455 L 0.481088384508005, 0.9892188667284294 L 0.46053168082402274, 0.9989547391936237 L 0.43977806548587356, 1.0082634839750484 L 0.4188364122125569, 1.0171411208897776 L 0.39771567512332007, 1.0255838540856628 L 0.3764248849091022, 1.033588073664344 L 0.3422044408264565, 0.9396255215130399 L 0.36155970465756365, 0.9323489582596933 L 0.38076037473868807, 0.9246737462634341 L 0.3997982413507941, 0.916603167250044 L 0.4186651643854752, 0.9081406719942032 L 0.43735307682545904, 0.8992898788440267 L 0.4558539881938582, 0.8900545721739503 L 0.47415998797069575, 0.880438700766629 L 0.49226324897524265, 0.8704463761245366 L 0.5101560307127214, 0.8600818707119926 L 0.5278306826839457, 0.8493496161283642 L 0.5452796476564786, 0.8382542012132278 L 0.562495464895914, 0.8268003700842965 L 0.5794707733558968, 0.814993020108957 L 0.59619831482552, 0.8028371998102792 L 0.6126709370327509, 0.7903381067083954 L 0.628881596702561, 0.7775010850981735 L 0.6448233625684522, 0.7643316237641319 L 0.6604894183360897, 0.7508353536335739 L 0.6758730655977763, 0.7370180453689475 L 0.6909677266965225, 0.7228856069004554 L 0.7057669475384843, 0.708444080899975 L 0.720264400352571, 0.6936996421973644 L 0.7344538863960387, 0.6786585951402625 L 0.7483293386049155, 0.6633273708985102 L 0.7618848241881241, 0.6477125247143453 L 0.7751145471641929, 0.6318207330995463 L 0.78801285083947, 0.6156587909807275 L 0.800574220226782, 0.5992336087939993 L 0.8127932844035027, 0.5825522095302418 L 0.8246648188080231, 0.5656217257322517 L 0.8361837474736409, 0.5484493964450489 L 0.8473451451989157, 0.5310425641206442 L 0.8581442396535598, 0.5134086714785929 L 0.8685764134189652, 0.49555525832367764 L 0.8786372059624948, 0.47748995832207863 L 0.8883223155446931, 0.4592204957374123 L 0.8976276010586003, 0.44075468212803176 L 0.9065490838003849, 0.42210041300700335 L 0.9150829491705361, 0.40326566446618534 L 0.9232255483048903, 0.38425848976585364 L 0.930973399634792, 0.36508701589133236 L 0.9383231903757245, 0.3457594400781007 L 0.945271777943773, 0.326284026306864 L 1.0397989557381504 ,0.35891242893755043",
          "type": "path"
         },
         {
          "fillcolor": "#e6c4a9",
          "layer": "below",
          "line": {
           "color": "rgb(150,150,150)",
           "width": 0.45
          },
          "path": "M 0.3437733559836657, 1.0449018517141828 L 0.3219226739029976, 1.0518392424829681 L 0.2999321603993944, 1.0583197527959838 L 0.2778113673467796, 1.0643405677568214 L 0.25556990320774287, 1.0698990721439032 L 0.23321742885997612, 1.074992851546438 L 0.21076365339994105, 1.0796196934131528 L 0.18821832992559365, 1.0837775880133436 L 0.1655912512999955, 1.08746472930983 L 0.14289224589765262, 1.090679515743431 L 0.12013117333542926, 1.0934205509286228 L 0.09731792018989135, 1.0956866442600794 L 0.07446239570294037, 1.0974768114298266 L 0.05157452747760005, 1.0987902748547889 L 0.028664257165830206, 1.099626464014545 L 0.005741536150236725, 1.0999850156991393 L -0.017183678778444848, 1.0998657741668478 L -0.0401014297462137, 1.0992687912118262 L -0.0630017621211411, 1.098194326141613 L -0.08587472883729703, 1.0966428456644948 L -0.10871039471539176, 1.0946150236867864 L -0.13149884077825383, 1.09211174102011 L -0.1542301685592707, 1.0891340849988027 L -0.1768945044019204, 1.085683349007619 L -0.1994820037485255, 1.0817610319199307 L -0.22198285541636997, 1.0773688374466728 L -0.2018025958330636, 0.9794262158606115 L -0.1813472761350232, 0.9834191199272097 L -0.16081318581992762, 0.9869848627341989 L -0.14020924414479152, 0.9901218954534569 L -0.11954440070750347, 0.9928288554728272 L -0.09882763155944704, 0.9951045669879875 L -0.07806793530663367, 0.996948041513177 L -0.05727432920103736, 0.9983584783105571 L -0.036455845223830635, 0.9993352647380238 L -0.015621526162222586, 0.9998779765153161 L 0.005219578318397022, 0.9999863779083084 L 0.026058415605300186, 0.9996604218314045 L 0.0468859340705455, 0.9989002498679898 L 0.06769308700267306, 0.9977061922089331 L 0.08847083653626486, 0.9960787675091631 L 0.10921015757766296, 0.9940186826623844 L 0.12990204172513872, 0.9915268324940281 L 0.15053750118181408, 0.9886042993725727 L 0.17110757265963059, 0.9852523527394031 L 0.19160332127267365, 0.9814724485574114 L 0.2120158444181601, 0.9772662286785799 L 0.23233627564340256, 0.9726355201308211 L 0.25255578849707233, 0.967582334324383 L 0.2726656003630858, 0.9621088661781669 L 0.29265697627545234, 0.9562174931663346 L 0.3125212327124233, 0.9499107742856207 L 0.3437733559836657 ,1.0449018517141828",
          "type": "path"
         },
         {
          "fillcolor": "#e1b396",
          "layer": "below",
          "line": {
           "color": "rgb(150,150,150)",
           "width": 0.45
          },
          "path": "M -0.2557142932687001, 1.0698645709705923 L -0.27923069888845137, 1.0639690863922069 L -0.30261146344890627, 1.057556760741149 L -0.32584522934617444, 1.0506307089136215 L -0.3489207103834643, 1.0431942953570532 L -0.37182669725354717, 1.0352511324357578 L -0.39455206298386686, 1.0268050786761695 L -0.4170857683416572, 1.0178602368924967 L -0.4394168671964362, 1.0084209521937104 L -0.4615345118372753, 0.9984918098728343 L -0.48342795824225887, 0.98807763317956 L -0.5050865712975776, 0.9771834809772714 L -0.5264998299637128, 0.9658146452856168 L -0.5476573323862121, 0.9539766487098195 L -0.5685488009485666, 0.9416752417579786 L -0.5891640872647379, 0.9289164000476622 L -0.6094931771089102, 0.9157063214031488 L -0.6295261952800679, 0.90205142284473 L -0.5722965411636981, 0.8200467480406636 L -0.5540847064626455, 0.8324602921846807 L -0.5356037156952163, 0.8444694545887838 L -0.5168625463168787, 0.8560684015981622 L -0.49787030216928363, 0.8672514988271085 L -0.47863620905792065, 0.8780133138960152 L -0.45916961027052505, 0.8883486190702466 L -0.4394799620384171, 0.8982523937995999 L -0.4195768289429775, 0.907719827157122 L -0.3994698792694874, 0.9167463201761004 L -0.3791688803105974, 0.9253274880840879 L -0.3586836936216971, 0.9334591624328814 L -0.3380242702304974, 0.9411373931234162 L -0.31720064580314933, 0.9483584503245938 L -0.29622293576924946, 0.9551188262851105 L -0.2751013304080966, 0.9614152370374079 L -0.25384608989859214, 0.9672446239929152 L -0.23246753933518188, 0.9726041554278111 L -0.2557142932687001 ,1.0698645709705923",
          "type": "path"
         },
         {
          "fillcolor": "#dba284",
          "layer": "below",
          "line": {
           "color": "rgb(150,150,150)",
           "width": 0.45
          },
          "path": "M -0.657549682023565, 0.8818324192672373 L -0.6770990320441473, 0.866912279763575 L -0.6963099513773288, 0.8515588362602446 L -0.7151728379348954, 0.8357797627845197 L -0.7336782635839426, 0.8195829461039627 L -0.666980239621766, 0.7450754055490569 L -0.6501571253953594, 0.7597997843495633 L -0.6330090467066625, 0.7741443966002224 L -0.6155445745855884, 0.7881020725123409 L -0.5977724382032409, 0.8016658356974884 L -0.657549682023565 ,0.8818324192672373",
          "type": "path"
         },
         {
          "fillcolor": "#d59171",
          "layer": "below",
          "line": {
           "color": "rgb(150,150,150)",
           "width": 0.45
          },
          "path": "M -0.7590599601145032, 0.7961331402164898 L -0.7871127427448888, 0.7684097410943062 L -0.8141536330917339, 0.7396984937956345 L -0.840147868068639, 0.7100363087756294 L -0.8650620301429416, 0.6794613189909875 L -0.7864200274026741, 0.617692108173625 L -0.7637707891533081, 0.6454875534323903 L -0.7401396664470308, 0.6724531761778495 L -0.7155570388589898, 0.6985543100857328 L -0.6900545091950028, 0.7237574001968089 L -0.7590599601145032 ,0.7961331402164898",
          "type": "path"
         },
         {
          "fillcolor": "#d0805f",
          "layer": "below",
          "line": {
           "color": "rgb(150,150,150)",
           "width": 0.45
          },
          "path": "M -0.8859775700449014, 0.6519537908297888 L -0.9008708339612503, 0.6312144964415516 L -0.9152787238293725, 0.6101351143027873 L -0.9291934769206192, 0.588727001629933 L -0.9426075962001397, 0.5670016927539058 L -0.9555138543661584, 0.5449708929056011 L -0.9679052977439226, 0.5226464719093097 L -0.9797752500322258, 0.5000404577874572 L -0.9911173159004864, 0.4771650302801072 L -1.0019253844344445, 0.4540325142827227 L -1.0121936324286191, 0.4306553732057194 L -1.021916527523754, 0.40704620225939026 L -0.9290150250215946, 0.3700420020539911 L -0.9201760294805629, 0.39150488473247214 L -0.9108412585767677, 0.4127568311661115 L -0.9010157417277148, 0.4337863911637338 L -0.8907047727565688, 0.45458223435223377 L -0.8799139070399296, 0.4751331562811906 L -0.8686489585146894, 0.49542808445963726 L -0.8569159965455815, 0.5154560843217325 L -0.8447213426551082, 0.5352063651181208 L -0.8320715671176113, 0.5546682857298066 L -0.8189734854193185, 0.5738313604014105 L -0.805434154586274, 0.592685264390717 L -0.8859775700449014 ,0.6519537908297888",
          "type": "path"
         },
         {
          "fillcolor": "#ca6f4c",
          "layer": "below",
          "line": {
           "color": "rgb(150,150,150)",
           "width": 0.45
          },
          "path": "M -1.0341979035989965, 0.37474617568621116 L -1.0395360352530931, 0.3596732286538437 L -1.0446544988689999, 0.3445242777987623 L -1.0495522128460577, 0.3293025242993801 L -1.0542281422309945, 0.31401118471829365 L -0.9583892202099948, 0.2854647133802669 L -0.9541383753145978, 0.29936593118125465 L -0.9496859080627271, 0.31320388890796574 L -0.9450327593209936, 0.3269756624125852 L -0.9401799123627241, 0.3406783415329192 L -1.0341979035989965 ,0.37474617568621116",
          "type": "path"
         },
         {
          "fillcolor": "#c45e3a",
          "layer": "below",
          "line": {
           "color": "rgb(150,150,150)",
           "width": 0.45
          },
          "path": "M -1.0635712739530803, 0.2807421329651497 L -1.069293892005307, 0.2580902410401121 L -1.0745341289905654, 0.23532191915435147 L -1.0792896209272347, 0.21244743857892529 L -1.083558222512427, 0.18947711847531884 L -0.9850529295567517, 0.17225192588665347 L -0.9811723826611224, 0.19313403507175025 L -0.9768492081732412, 0.21392901741304676 L -0.9720853563684608, 0.23462749185464732 L -0.9668829763209821, 0.2552201208774088 L -1.0635712739530803 ,0.2807421329651497",
          "type": "path"
         },
         {
          "fillcolor": "#bf4d28",
          "layer": "below",
          "line": {
           "color": "rgb(150,150,150)",
           "width": 0.45
          },
          "path": "M -1.088975172058648, 0.15534823668081357 L -1.0953275163215221, 0.10127996834974697 L -1.09899700527028, 0.046963628553979855 L -1.0999746509923753, -0.007467742242614613 L -1.0982580588779935, -0.06188082182342065 L -0.9984164171618122, -0.05625529256674604 L -0.9999769554476139, -0.006788856584195102 L -0.9990881866093454, 0.04269420777634532 L -0.9957522875650201, 0.09207269849976996 L -0.9899774291442254, 0.1412256697098305 L -1.088975172058648 ,0.15534823668081357",
          "type": "path"
         },
         {
          "fillcolor": "#af4624",
          "layer": "below",
          "line": {
           "color": "rgb(150,150,150)",
           "width": 0.45
          },
          "path": "M -1.0957724112372365, -0.09634740666636117 L -1.0894877468035835, -0.15171173179701972 L -1.0804075959201143, -0.20668678399481458 L -1.0685552570946195, -0.26113150429515686 L -1.0539611419151897, -0.31490619449739254 L -0.9581464926501724, -0.2862783586339932 L -0.9714138700860178, -0.23739227663196077 L -0.9821887235637402, -0.18789707635892233 L -0.9904434061850759, -0.13791975617910882 L -0.9961567374883966, -0.08758855151487378 L -1.0957724112372365 ,-0.09634740666636117",
          "type": "path"
         },
         {
          "fillcolor": "#9f4021",
          "layer": "below",
          "line": {
           "color": "rgb(150,150,150)",
           "width": 0.45
          },
          "path": "M -1.043549633107222, -0.34785652680635776 L -1.0314799059918713, -0.38216384383533797 L -1.0182826517265038, -0.4160534114664128 L -1.003972296440415, -0.4494881844722502 L -0.9885644830113942, -0.48243161476878244 L -0.8986949845558129, -0.43857419524434765 L -0.9127020876731045, -0.40862562224750015 L -0.9257115015695487, -0.37823037406037524 L -0.9377090054471556, -0.3474216762139436 L -0.9486814846429291, -0.3162332061875979 L -1.043549633107222 ,-0.34785652680635776",
          "type": "path"
         },
         {
          "fillcolor": "#8f391e",
          "layer": "below",
          "line": {
           "color": "rgb(150,150,150)",
           "width": 0.45
          },
          "path": "M -0.9729231428912718, -0.5132451246982966 L -0.9616564483596428, -0.534056996329341 L -0.9499446321410576, -0.5546216691280562 L -0.9377931152810484, -0.5749296243293318 L -0.9252075223492758, -0.5949714619948712 L -0.912193678836087, -0.6147379053641363 L -0.8987576084560723, -0.6342198051482796 L -0.8849055303598685, -0.6534081437650743 L -0.8706438562555036, -0.6722940395128802 L -0.85597918744061, -0.6908687506817147 L -0.8409183117468852, -0.7091236795995242 L -0.8254682003982073, -0.7270503766117896 L -0.8096360047838681, -0.7446405439926143 L -0.7934290531484111, -0.7618860397854892 L -0.7768548471996077, -0.7787788815719608 L -0.7599210586361448, -0.7953112501664497 L -0.7426355255966263, -0.8114754932355154 L -0.725006249031537, -0.8272641288398894 L -0.6590965900286699, -0.7520582989453539 L -0.675123205087842, -0.7377049938504685 L -0.6908373260328589, -0.7230102274240451 L -0.7062316792723706, -0.7079808014290553 L -0.7212991392258282, -0.6926236725322629 L -0.7360327316216982, -0.6769459490841947 L -0.750425636725643, -0.6609548878288996 L -0.7644711924971683, -0.6446578905450219 L -0.7781628976732817, -0.6280625006197406 L -0.7914944147777304, -0.6111763995571639 L -0.8044595730544258, -0.5940074034227948 L -0.817052371323702, -0.5765634592257086 L -0.8292669807600791, -0.5588526412401239 L -0.8410977475902507, -0.5408831472680646 L -0.8525391957100439, -0.5226632948448471 L -0.8635860292191432, -0.504201517389142 L -0.8742331348724025, -0.48550636029940086 L -0.8844755844466107, -0.4665864769984514 L -0.9729231428912718 ,-0.5132451246982966",
          "type": "path"
         },
         {
          "fillcolor": "#f0f3e7",
          "layer": "below",
          "line": {
           "color": "rgb(150,150,150)",
           "width": 0.45
          },
          "path": "M -0.6986635079682049, -0.8496289205491786 L -0.6804899196603971, -0.8642531279900505 L -0.6620103095494759, -0.8784886738314884 L -0.6432329880650944, -0.8923291562337579 L -0.6241663995201107, -0.9057683510203377 L -0.6048191183131119, -0.9188002144769832 L -0.5851998450724382, -0.9314188860696322 L -0.5653174027434413, -0.9436186910799351 L -0.5451807326207311, -0.9553941431572224 L -0.5247988903272082, -0.9667399467857585 L -0.5041810417416744, -0.9776509996661795 L -0.4833364588768638, -0.9881223950100382 L -0.46227451570974365, -0.9981494237464259 L -0.4410046839659619, -1.00772757663968 L -0.419536528860335, -1.0168525463172238 L -0.3978797047952945, -1.0255202292066254 L -0.3760439510192241, -1.0337267273810093 L -0.35403908724664085, -1.0414683503119841 L -0.33187500924219077, -1.048741616529303 L -0.30956168437044457, -1.0555432551865098 L -0.28710914711348956, -1.0618702075318645 L -0.26452749455834773, -1.067719628283888 L -0.241826881856231, -1.0730888869109085 L -0.21901751765568814, -1.0779755688140342 L -0.19610965951169368, -1.0823774764130154 L -0.1731136092727426, -1.086292630134516 L -0.15737600842976598, -0.9875387546677418 L -0.17828150864699424, -0.9839795240118321 L -0.19910683423244374, -0.9799777898309401 L -0.2198426198693009, -0.9755353517371895 L -0.24047954050758885, -0.970654207530807 L -0.26100831555771775, -0.9653365523016949 L -0.2814197130640405, -0.9595847774422817 L -0.30170455385653705, -0.9534014695720937 L -0.32185371567876436, -0.9467894093745309 L -0.3418581372902037, -0.939751570346372 L -0.3617088225411768, -0.9322911174605685 L -0.3813968444184863, -0.9244114057429306 L -0.4009133490599653, -0.9161159787633455 L -0.42024955973613054, -0.9074085670422053 L -0.43939678079714883, -0.898293086372762 L -0.45834640158334033, -0.8887736360601631 L -0.4770899002974619, -0.8788544970779621 L -0.4956188478370282, -0.8685401301429294 L -0.5139249115849466, -0.8578351737090318 L -0.531999859156762, -0.8467444418814838 L -0.5498355621028289, -0.8352729222518028 L -0.5674239995637369, -0.8234257736548524 L -0.5847572618773585, -0.8112083238488708 L -0.6018275541358872, -0.7986260671195349 L -0.61862719969127, -0.7856846618091368 L -0.6351486436074589, -0.7723899277719805 L -0.6986635079682049 ,-0.8496289205491786",
          "type": "path"
         },
         {
          "fillcolor": "#e2ecde",
          "layer": "below",
          "line": {
           "color": "rgb(150,150,150)",
           "width": 0.45
          },
          "path": "M -0.13890691206319475, -1.0911942401704051 L -0.12303037041804187, -1.0930981328109566 L -0.10712783078995142, -1.0947710390169443 L -0.09120265360084516, -1.0962126052806382 L -0.07525820405627093, -1.0974225269795699 L -0.06841654914206448, -0.9976568427086998 L -0.0829115032734956, -0.9965569138914893 L -0.09738893708177401, -0.9952463991063129 L -0.11184579128912896, -0.9937255752826877 L -0.12627901096654068, -0.9919947637912774 L -0.13890691206319475 ,-1.0911942401704051",
          "type": "path"
         },
         {
          "fillcolor": "#d4e5d6",
          "layer": "below",
          "line": {
           "color": "rgb(150,150,150)",
           "width": 0.45
          },
          "path": "M -0.04075019407371989, -1.0992449325254832 L -0.01746011944986989, -1.099861420465686 L 0.0058377878071355065, -1.0999845090879776 L 0.029133076224649283, -1.099614143174636 L 0.05241529550484326, -1.09875048887231 L 0.07567400121271799, -1.0973939336174854 L 0.09889875946149822, -1.0955450859626805 L 0.12207915159328075, -1.0932047753034493 L 0.14520477885286628, -1.0903740515063123 L 0.16826526705264722, -1.0870541844377866 L 0.19125027122648997, -1.0832466633947202 L 0.21414948027049302, -1.078953196436193 L 0.23695262156856978, -1.0741757096172777 L 0.25964946560075036, -1.0689163461250113 L 0.28222983053216555, -1.0631774653169552 L 0.30468358678062435, -1.0569616416627872 L 0.32700066156076546, -1.0502716635893885 L 0.34917104340271515, -1.0431105322299548 L 0.3711847866432533, -1.0354814600776794 L 0.3930320158874443, -1.0273878695446292 L 0.4147029304387598, -1.0188333914264418 L 0.4361878086956769, -1.0098218632735498 L 0.45747701251280914, -1.0003573276696458 L 0.47856099152458437, -0.9904440304181791 L 0.49943028742955864, -0.9800864186376774 L 0.520075538233416, -0.969289138766768 L 0.5404874824487788, -0.9580570344797752 L 0.5606569632499163, -0.9463951445138452 L 0.5805749325805157, -0.9343087004085586 L 0.600232455212649, -0.9218031241590557 L 0.6196207127551271, -0.9088840257837237 L 0.6387310076094436, -0.8955572008075336 L 0.5806645523722214, -0.8141429098250306 L 0.5632915570501155, -0.8262582052579306 L 0.5456658683751354, -0.838002840144596 L 0.5277953932550142, -0.8493715458259623 L 0.5096881484090148, -0.8603592222853138 L 0.491352256771617, -0.8709609404361592 L 0.47279594384855994, -0.8811719443334254 L 0.45402753402687146, -0.8909876533069794 L 0.4350554468405312, -0.9004036640165264 L 0.4158881931934628, -0.9094157524269507 L 0.39653437154152443, -0.918019875703227 L 0.37700266403523613, -0.926212174024038 L 0.35730183262494936, -0.9339889723132991 L 0.3374407151302302, -0.9413467818887994 L 0.31742822127519554, -0.9482823020272315 L 0.29727332869160494, -0.9547924214448986 L 0.27698507889147667, -0.9608742196934428 L 0.2565725732110596, -0.9665249684699592 L 0.23604496872795486, -0.9717421328409193 L 0.21541147415324524, -0.9765233723793434 L 0.19468134570044818, -0.9808665422147208 L 0.17386388293317268, -0.9847696939952001 L 0.15296842459331564, -0.9882310767616241 L 0.13200434441169662, -0.9912491377330112 L 0.1109810469029825, -0.9938225230031356 L 0.08990796314681655, -0.9959500781478913 L 0.06879454655701635, -0.9976308487431684 L 0.047650268640766595, -0.998864080793009 L 0.026484614749681164, -0.9996492210678508 L 0.005307079824668642, -0.9999859173527068 L -0.015872835863518082, -0.999874018605169 L -0.03704563097610899, -0.9993135750231665 L -0.04075019407371989 ,-1.0992449325254832",
          "type": "path"
         },
         {
          "fillcolor": "#c6decd",
          "layer": "below",
          "line": {
           "color": "rgb(150,150,150)",
           "width": 0.45
          },
          "path": "M 0.6665459638899011, -0.8750522715941504 L 0.6855721911915886, -0.8602271622453944 L 0.7042687879090097, -0.8449884462980393 L 0.7226267645146153, -0.8293434506928592 L 0.7406372942930967, -0.8132996977143181 L 0.7582917175853705, -0.7968649013737705 L 0.7755815459522323, -0.780046963700485 L 0.7924984662556936, -0.7628539709422593 L 0.8090343446560286, -0.7452941896774659 L 0.825181230522613, -0.7273760628403895 L 0.8409313602566734, -0.7091082056617743 L 0.8562771610241122, -0.6904994015265233 L 0.8712112543966057, -0.6715585977505559 L 0.8857264598992353, -0.6522949012788376 L 0.899815798462937, -0.6327175743066628 L 0.9134724957801145, -0.6128360298262896 L 0.9266899855617997, -0.5926598271010712 L 0.9394619126947963, -0.5721986670692577 L 0.9517821362972869, -0.5514623876796795 L 0.9636447326714379, -0.5304609591615516 L 0.9750439981515752, -0.5092044792306832 L 0.8864036346832501, -0.4629131629369847 L 0.8760406660649435, -0.48223723560141046 L 0.865256487542988, -0.5013294433451632 L 0.8540562842679965, -0.5201806064265979 L 0.8424454414198178, -0.5387816610009738 L 0.8304295416182859, -0.557123663478445 L 0.8180143622390336, -0.5751977948242388 L 0.8052058726356683, -0.5929953647989432 L 0.7920102312696415, -0.610507816136869 L 0.7784337827491928, -0.6277267286604757 L 0.7644830547787939, -0.6446438233288857 L 0.7501647550205572, -0.6612509662185359 L 0.7354857678691169, -0.6775401724340598 L 0.7204531511415396, -0.6935036099475084 L 0.7050741326838474, -0.7091336033640772 L 0.6893561068957913, -0.7244226376125186 L 0.6733066311755423, -0.7393633615584709 L 0.6569334222860138, -0.7539485915389629 L 0.6402443526445543, -0.7681713148163992 L 0.6232474465378078, -0.7820246929503585 L 0.6059508762635464, -0.7955020650855913 L 0.6665459638899011 ,-0.8750522715941504",
          "type": "path"
         },
         {
          "fillcolor": "#b8d7c5",
          "layer": "below",
          "line": {
           "color": "rgb(150,150,150)",
           "width": 0.45
          },
          "path": "M 0.9905573720163504, -0.4783263454421698 L 1.0060355739703128, -0.44485101315634146 L 1.0203828816848055, -0.4108756195792255 L 1.0335831672135947, -0.37643835677666365 L 1.0456215919890886, -0.3415779360061245 L 0.9505650836264441, -0.31052539636920407 L 0.9396210611032677, -0.34221668797878513 L 0.9276208015316413, -0.37352329052656863 L 0.9145777945184661, -0.4044100119603104 L 0.9005067018330457, -0.43484213222015433 L 0.9905573720163504 ,-0.4783263454421698",
          "type": "path"
         },
         {
          "fillcolor": "#aad0bc",
          "layer": "below",
          "line": {
           "color": "rgb(150,150,150)",
           "width": 0.45
          },
          "path": "M 1.055834863107447, -0.3085656200014494 L 1.0656489930834951, -0.27274937862465065 L 1.0742485295453614, -0.2366222660056081 L 1.081623671009368, -0.20022545870148087 L 1.0877660115191012, -0.16360044065902293 L 0.988878192290092, -0.14872767332638448 L 0.9832942463721528, -0.1820231442740735 L 0.9765895723139649, -0.21511115091418917 L 0.9687718118940865, -0.24795398056786422 L 0.9598498755522245, -0.2805142000013176 L 1.055834863107447 ,-0.3085656200014494",
          "type": "path"
         },
         {
          "fillcolor": "#9cc9b4",
          "layer": "below",
          "line": {
           "color": "rgb(150,150,150)",
           "width": 0.45
          },
          "path": "M 1.0923680786828238, -0.12935215759621518 L 1.0949083628079803, -0.1057150748623317 L 1.096937239013931, -0.08202861491269163 L 1.0984537596566588, -0.05830384117836064 L 1.0994572164023046, -0.03455183498594413 L 0.9995065603657315, -0.031410759078131026 L 0.9985943269605988, -0.05300349198032785 L 0.9972156718308461, -0.07457146810244693 L 0.9953712389163456, -0.09610461351121062 L 0.993061889711658, -0.1175928705420138 L 1.0923680786828238 ,-0.12935215759621518",
          "type": "path"
         }
        ],
        "showlegend": false,
        "template": {
         "data": {
          "bar": [
           {
            "error_x": {
             "color": "#2a3f5f"
            },
            "error_y": {
             "color": "#2a3f5f"
            },
            "marker": {
             "line": {
              "color": "#E5ECF6",
              "width": 0.5
             }
            },
            "type": "bar"
           }
          ],
          "barpolar": [
           {
            "marker": {
             "line": {
              "color": "#E5ECF6",
              "width": 0.5
             }
            },
            "type": "barpolar"
           }
          ],
          "carpet": [
           {
            "aaxis": {
             "endlinecolor": "#2a3f5f",
             "gridcolor": "white",
             "linecolor": "white",
             "minorgridcolor": "white",
             "startlinecolor": "#2a3f5f"
            },
            "baxis": {
             "endlinecolor": "#2a3f5f",
             "gridcolor": "white",
             "linecolor": "white",
             "minorgridcolor": "white",
             "startlinecolor": "#2a3f5f"
            },
            "type": "carpet"
           }
          ],
          "choropleth": [
           {
            "colorbar": {
             "outlinewidth": 0,
             "ticks": ""
            },
            "type": "choropleth"
           }
          ],
          "contour": [
           {
            "colorbar": {
             "outlinewidth": 0,
             "ticks": ""
            },
            "colorscale": [
             [
              0,
              "#0d0887"
             ],
             [
              0.1111111111111111,
              "#46039f"
             ],
             [
              0.2222222222222222,
              "#7201a8"
             ],
             [
              0.3333333333333333,
              "#9c179e"
             ],
             [
              0.4444444444444444,
              "#bd3786"
             ],
             [
              0.5555555555555556,
              "#d8576b"
             ],
             [
              0.6666666666666666,
              "#ed7953"
             ],
             [
              0.7777777777777778,
              "#fb9f3a"
             ],
             [
              0.8888888888888888,
              "#fdca26"
             ],
             [
              1,
              "#f0f921"
             ]
            ],
            "type": "contour"
           }
          ],
          "contourcarpet": [
           {
            "colorbar": {
             "outlinewidth": 0,
             "ticks": ""
            },
            "type": "contourcarpet"
           }
          ],
          "heatmap": [
           {
            "colorbar": {
             "outlinewidth": 0,
             "ticks": ""
            },
            "colorscale": [
             [
              0,
              "#0d0887"
             ],
             [
              0.1111111111111111,
              "#46039f"
             ],
             [
              0.2222222222222222,
              "#7201a8"
             ],
             [
              0.3333333333333333,
              "#9c179e"
             ],
             [
              0.4444444444444444,
              "#bd3786"
             ],
             [
              0.5555555555555556,
              "#d8576b"
             ],
             [
              0.6666666666666666,
              "#ed7953"
             ],
             [
              0.7777777777777778,
              "#fb9f3a"
             ],
             [
              0.8888888888888888,
              "#fdca26"
             ],
             [
              1,
              "#f0f921"
             ]
            ],
            "type": "heatmap"
           }
          ],
          "heatmapgl": [
           {
            "colorbar": {
             "outlinewidth": 0,
             "ticks": ""
            },
            "colorscale": [
             [
              0,
              "#0d0887"
             ],
             [
              0.1111111111111111,
              "#46039f"
             ],
             [
              0.2222222222222222,
              "#7201a8"
             ],
             [
              0.3333333333333333,
              "#9c179e"
             ],
             [
              0.4444444444444444,
              "#bd3786"
             ],
             [
              0.5555555555555556,
              "#d8576b"
             ],
             [
              0.6666666666666666,
              "#ed7953"
             ],
             [
              0.7777777777777778,
              "#fb9f3a"
             ],
             [
              0.8888888888888888,
              "#fdca26"
             ],
             [
              1,
              "#f0f921"
             ]
            ],
            "type": "heatmapgl"
           }
          ],
          "histogram": [
           {
            "marker": {
             "colorbar": {
              "outlinewidth": 0,
              "ticks": ""
             }
            },
            "type": "histogram"
           }
          ],
          "histogram2d": [
           {
            "colorbar": {
             "outlinewidth": 0,
             "ticks": ""
            },
            "colorscale": [
             [
              0,
              "#0d0887"
             ],
             [
              0.1111111111111111,
              "#46039f"
             ],
             [
              0.2222222222222222,
              "#7201a8"
             ],
             [
              0.3333333333333333,
              "#9c179e"
             ],
             [
              0.4444444444444444,
              "#bd3786"
             ],
             [
              0.5555555555555556,
              "#d8576b"
             ],
             [
              0.6666666666666666,
              "#ed7953"
             ],
             [
              0.7777777777777778,
              "#fb9f3a"
             ],
             [
              0.8888888888888888,
              "#fdca26"
             ],
             [
              1,
              "#f0f921"
             ]
            ],
            "type": "histogram2d"
           }
          ],
          "histogram2dcontour": [
           {
            "colorbar": {
             "outlinewidth": 0,
             "ticks": ""
            },
            "colorscale": [
             [
              0,
              "#0d0887"
             ],
             [
              0.1111111111111111,
              "#46039f"
             ],
             [
              0.2222222222222222,
              "#7201a8"
             ],
             [
              0.3333333333333333,
              "#9c179e"
             ],
             [
              0.4444444444444444,
              "#bd3786"
             ],
             [
              0.5555555555555556,
              "#d8576b"
             ],
             [
              0.6666666666666666,
              "#ed7953"
             ],
             [
              0.7777777777777778,
              "#fb9f3a"
             ],
             [
              0.8888888888888888,
              "#fdca26"
             ],
             [
              1,
              "#f0f921"
             ]
            ],
            "type": "histogram2dcontour"
           }
          ],
          "mesh3d": [
           {
            "colorbar": {
             "outlinewidth": 0,
             "ticks": ""
            },
            "type": "mesh3d"
           }
          ],
          "parcoords": [
           {
            "line": {
             "colorbar": {
              "outlinewidth": 0,
              "ticks": ""
             }
            },
            "type": "parcoords"
           }
          ],
          "pie": [
           {
            "automargin": true,
            "type": "pie"
           }
          ],
          "scatter": [
           {
            "marker": {
             "colorbar": {
              "outlinewidth": 0,
              "ticks": ""
             }
            },
            "type": "scatter"
           }
          ],
          "scatter3d": [
           {
            "line": {
             "colorbar": {
              "outlinewidth": 0,
              "ticks": ""
             }
            },
            "marker": {
             "colorbar": {
              "outlinewidth": 0,
              "ticks": ""
             }
            },
            "type": "scatter3d"
           }
          ],
          "scattercarpet": [
           {
            "marker": {
             "colorbar": {
              "outlinewidth": 0,
              "ticks": ""
             }
            },
            "type": "scattercarpet"
           }
          ],
          "scattergeo": [
           {
            "marker": {
             "colorbar": {
              "outlinewidth": 0,
              "ticks": ""
             }
            },
            "type": "scattergeo"
           }
          ],
          "scattergl": [
           {
            "marker": {
             "colorbar": {
              "outlinewidth": 0,
              "ticks": ""
             }
            },
            "type": "scattergl"
           }
          ],
          "scattermapbox": [
           {
            "marker": {
             "colorbar": {
              "outlinewidth": 0,
              "ticks": ""
             }
            },
            "type": "scattermapbox"
           }
          ],
          "scatterpolar": [
           {
            "marker": {
             "colorbar": {
              "outlinewidth": 0,
              "ticks": ""
             }
            },
            "type": "scatterpolar"
           }
          ],
          "scatterpolargl": [
           {
            "marker": {
             "colorbar": {
              "outlinewidth": 0,
              "ticks": ""
             }
            },
            "type": "scatterpolargl"
           }
          ],
          "scatterternary": [
           {
            "marker": {
             "colorbar": {
              "outlinewidth": 0,
              "ticks": ""
             }
            },
            "type": "scatterternary"
           }
          ],
          "surface": [
           {
            "colorbar": {
             "outlinewidth": 0,
             "ticks": ""
            },
            "colorscale": [
             [
              0,
              "#0d0887"
             ],
             [
              0.1111111111111111,
              "#46039f"
             ],
             [
              0.2222222222222222,
              "#7201a8"
             ],
             [
              0.3333333333333333,
              "#9c179e"
             ],
             [
              0.4444444444444444,
              "#bd3786"
             ],
             [
              0.5555555555555556,
              "#d8576b"
             ],
             [
              0.6666666666666666,
              "#ed7953"
             ],
             [
              0.7777777777777778,
              "#fb9f3a"
             ],
             [
              0.8888888888888888,
              "#fdca26"
             ],
             [
              1,
              "#f0f921"
             ]
            ],
            "type": "surface"
           }
          ],
          "table": [
           {
            "cells": {
             "fill": {
              "color": "#EBF0F8"
             },
             "line": {
              "color": "white"
             }
            },
            "header": {
             "fill": {
              "color": "#C8D4E3"
             },
             "line": {
              "color": "white"
             }
            },
            "type": "table"
           }
          ]
         },
         "layout": {
          "annotationdefaults": {
           "arrowcolor": "#2a3f5f",
           "arrowhead": 0,
           "arrowwidth": 1
          },
          "coloraxis": {
           "colorbar": {
            "outlinewidth": 0,
            "ticks": ""
           }
          },
          "colorscale": {
           "diverging": [
            [
             0,
             "#8e0152"
            ],
            [
             0.1,
             "#c51b7d"
            ],
            [
             0.2,
             "#de77ae"
            ],
            [
             0.3,
             "#f1b6da"
            ],
            [
             0.4,
             "#fde0ef"
            ],
            [
             0.5,
             "#f7f7f7"
            ],
            [
             0.6,
             "#e6f5d0"
            ],
            [
             0.7,
             "#b8e186"
            ],
            [
             0.8,
             "#7fbc41"
            ],
            [
             0.9,
             "#4d9221"
            ],
            [
             1,
             "#276419"
            ]
           ],
           "sequential": [
            [
             0,
             "#0d0887"
            ],
            [
             0.1111111111111111,
             "#46039f"
            ],
            [
             0.2222222222222222,
             "#7201a8"
            ],
            [
             0.3333333333333333,
             "#9c179e"
            ],
            [
             0.4444444444444444,
             "#bd3786"
            ],
            [
             0.5555555555555556,
             "#d8576b"
            ],
            [
             0.6666666666666666,
             "#ed7953"
            ],
            [
             0.7777777777777778,
             "#fb9f3a"
            ],
            [
             0.8888888888888888,
             "#fdca26"
            ],
            [
             1,
             "#f0f921"
            ]
           ],
           "sequentialminus": [
            [
             0,
             "#0d0887"
            ],
            [
             0.1111111111111111,
             "#46039f"
            ],
            [
             0.2222222222222222,
             "#7201a8"
            ],
            [
             0.3333333333333333,
             "#9c179e"
            ],
            [
             0.4444444444444444,
             "#bd3786"
            ],
            [
             0.5555555555555556,
             "#d8576b"
            ],
            [
             0.6666666666666666,
             "#ed7953"
            ],
            [
             0.7777777777777778,
             "#fb9f3a"
            ],
            [
             0.8888888888888888,
             "#fdca26"
            ],
            [
             1,
             "#f0f921"
            ]
           ]
          },
          "colorway": [
           "#636efa",
           "#EF553B",
           "#00cc96",
           "#ab63fa",
           "#FFA15A",
           "#19d3f3",
           "#FF6692",
           "#B6E880",
           "#FF97FF",
           "#FECB52"
          ],
          "font": {
           "color": "#2a3f5f"
          },
          "geo": {
           "bgcolor": "white",
           "lakecolor": "white",
           "landcolor": "#E5ECF6",
           "showlakes": true,
           "showland": true,
           "subunitcolor": "white"
          },
          "hoverlabel": {
           "align": "left"
          },
          "hovermode": "closest",
          "mapbox": {
           "style": "light"
          },
          "paper_bgcolor": "white",
          "plot_bgcolor": "#E5ECF6",
          "polar": {
           "angularaxis": {
            "gridcolor": "white",
            "linecolor": "white",
            "ticks": ""
           },
           "bgcolor": "#E5ECF6",
           "radialaxis": {
            "gridcolor": "white",
            "linecolor": "white",
            "ticks": ""
           }
          },
          "scene": {
           "xaxis": {
            "backgroundcolor": "#E5ECF6",
            "gridcolor": "white",
            "gridwidth": 2,
            "linecolor": "white",
            "showbackground": true,
            "ticks": "",
            "zerolinecolor": "white"
           },
           "yaxis": {
            "backgroundcolor": "#E5ECF6",
            "gridcolor": "white",
            "gridwidth": 2,
            "linecolor": "white",
            "showbackground": true,
            "ticks": "",
            "zerolinecolor": "white"
           },
           "zaxis": {
            "backgroundcolor": "#E5ECF6",
            "gridcolor": "white",
            "gridwidth": 2,
            "linecolor": "white",
            "showbackground": true,
            "ticks": "",
            "zerolinecolor": "white"
           }
          },
          "shapedefaults": {
           "line": {
            "color": "#2a3f5f"
           }
          },
          "ternary": {
           "aaxis": {
            "gridcolor": "white",
            "linecolor": "white",
            "ticks": ""
           },
           "baxis": {
            "gridcolor": "white",
            "linecolor": "white",
            "ticks": ""
           },
           "bgcolor": "#E5ECF6",
           "caxis": {
            "gridcolor": "white",
            "linecolor": "white",
            "ticks": ""
           }
          },
          "title": {
           "x": 0.05
          },
          "xaxis": {
           "automargin": true,
           "gridcolor": "white",
           "linecolor": "white",
           "ticks": "",
           "title": {
            "standoff": 15
           },
           "zerolinecolor": "white",
           "zerolinewidth": 2
          },
          "yaxis": {
           "automargin": true,
           "gridcolor": "white",
           "linecolor": "white",
           "ticks": "",
           "title": {
            "standoff": 15
           },
           "zerolinecolor": "white",
           "zerolinewidth": 2
          }
         }
        },
        "title": {
         "font": {
          "color": "#655643",
          "family": "Merryweather",
          "size": 18
         },
         "text": "Data Jobs ‒ Technologies in Demand and Relationships Between Them"
        },
        "width": 960,
        "xaxis": {
         "showgrid": false,
         "showline": false,
         "showticklabels": false,
         "title": {
          "text": ""
         },
         "zeroline": false
        },
        "yaxis": {
         "showgrid": false,
         "showline": false,
         "showticklabels": false,
         "title": {
          "text": ""
         },
         "zeroline": false
        }
       }
      },
      "text/html": [
       "<div>\n",
       "        \n",
       "        \n",
       "            <div id=\"664b801a-4dcc-46e6-bede-76342d55638e\" class=\"plotly-graph-div\" style=\"height:525px; width:960px;\"></div>\n",
       "            <script type=\"text/javascript\">\n",
       "                require([\"plotly\"], function(Plotly) {\n",
       "                    window.PLOTLYENV=window.PLOTLYENV || {};\n",
       "                    \n",
       "                if (document.getElementById(\"664b801a-4dcc-46e6-bede-76342d55638e\")) {\n",
       "                    Plotly.newPlot(\n",
       "                        '664b801a-4dcc-46e6-bede-76342d55638e',\n",
       "                        [{\"hoverinfo\": \"text\", \"line\": {\"color\": \"#f2e6ce\", \"shape\": \"spline\", \"width\": 0.25}, \"mode\": \"lines\", \"text\": \"Power BI<br>1785\", \"type\": \"scatter\", \"x\": [1.1, 1.099745850240148, 1.098983518400774, 1.0977133567481583, 1.0959359522118988, 1.0936521261136973, 1.0908629337878348, 1.0875696640935109, 1.0837738388192744, 1.0794772119798197, 1.074681769005473, 1.0693897258247445, 1.063603527840367, 1.0573258487993014, 1.0505595895572215], \"y\": [0.0, 0.0236445528520701, 0.047278179781541724, 0.07088995991458111, 0.094468982472551, 0.1180043518137775, 0.1414851924683222, 0.16490065416343333, 0.18823991683735336, 0.21149219563916646, 0.23464674591237542, 0.25769286815990483, 0.2806199129882371, 0.30341728602839535, 0.32607445283150066]}, {\"hoverinfo\": \"text\", \"line\": {\"color\": \"#ecd5bb\", \"shape\": \"spline\", \"width\": 0.25}, \"mode\": \"lines\", \"text\": \"Excel<br>4944\", \"type\": \"scatter\", \"x\": [1.0397989557381504, 1.032155509413297, 1.0240707395982713, 1.0155481031353795, 1.0065912440875897, 0.9972039921804234, 0.9873903611644604, 0.9771545470991625, 0.9665009265587444, 0.9554340547608617, 0.9439586636189159, 0.9320796597188074, 0.919802122221005, 0.9071313006888255, 0.8940726128438531, 0.8806316422494603, 0.8668141359234172, 0.8526260018806123, 0.8380733066069366, 0.8231622724654071, 0.8078992750356426, 0.7922908403878282, 0.7763436422923329, 0.7600644993661748, 0.743460372157554, 0.7265383601696986, 0.7093056988252975, 0.6917697563728172, 0.673938030736026, 0.655818146308072, 0.6374178506914865, 0.6187450113855054, 0.5998076124221265, 0.5806137509523404, 0.5611716337839936, 0.541489573872767, 0.5215759867677654, 0.5014393870132441, 0.481088384508005, 0.46053168082402274, 0.43977806548587356, 0.4188364122125569, 0.39771567512332007, 0.3764248849091022], \"y\": [0.35891242893755043, 0.38033538408591083, 0.40159571748046563, 0.42268433874243905, 0.4435922309128039, 0.46431045430770373, 0.484830150340835, 0.5051425453111535, 0.5252389541542866, 0.5451107841560454, 0.5647495386264523, 0.5841468205327087, 0.6032943360895539, 0.6221838983054769, 0.640807430483266, 0.6591569696733993, 0.6772246700788003, 0.6950028064095011, 0.7124837771857798, 0.7296601079883613, 0.7465244546542888, 0.7630696064171009, 0.7792884889899726, 0.7951741675905011, 0.8107198499058423, 0.8259188889969313, 0.8407647861405452, 0.855251193607991, 0.869371917379235, 0.8831209197913072, 0.8964923221198527, 0.9094804070927263, 0.9220796213345507, 0.9342845777412008, 0.9460900577831919, 0.9574910137369903, 0.968482570843292, 0.9790600293913455, 0.9892188667284294, 0.9989547391936237, 1.0082634839750484, 1.0171411208897776, 1.0255838540856628, 1.033588073664344]}, {\"hoverinfo\": \"text\", \"line\": {\"color\": \"#e6c4a9\", \"shape\": \"spline\", \"width\": 0.25}, \"mode\": \"lines\", \"text\": \"SSIS/SSRS<br>2967\", \"type\": \"scatter\", \"x\": [0.3437733559836657, 0.3219226739029976, 0.2999321603993944, 0.2778113673467796, 0.25556990320774287, 0.23321742885997612, 0.21076365339994105, 0.18821832992559365, 0.1655912512999955, 0.14289224589765262, 0.12013117333542926, 0.09731792018989135, 0.07446239570294037, 0.05157452747760005, 0.028664257165830206, 0.005741536150236725, -0.017183678778444848, -0.0401014297462137, -0.0630017621211411, -0.08587472883729703, -0.10871039471539176, -0.13149884077825383, -0.1542301685592707, -0.1768945044019204, -0.1994820037485255, -0.22198285541636997], \"y\": [1.0449018517141828, 1.0518392424829681, 1.0583197527959838, 1.0643405677568214, 1.0698990721439032, 1.074992851546438, 1.0796196934131528, 1.0837775880133436, 1.08746472930983, 1.090679515743431, 1.0934205509286228, 1.0956866442600794, 1.0974768114298266, 1.0987902748547889, 1.099626464014545, 1.0999850156991393, 1.0998657741668478, 1.0992687912118262, 1.098194326141613, 1.0966428456644948, 1.0946150236867864, 1.09211174102011, 1.0891340849988027, 1.085683349007619, 1.0817610319199307, 1.0773688374466728]}, {\"hoverinfo\": \"text\", \"line\": {\"color\": \"#e1b396\", \"shape\": \"spline\", \"width\": 0.25}, \"mode\": \"lines\", \"text\": \"MS SQL Server<br>2181\", \"type\": \"scatter\", \"x\": [-0.2557142932687001, -0.27923069888845137, -0.30261146344890627, -0.32584522934617444, -0.3489207103834643, -0.37182669725354717, -0.39455206298386686, -0.4170857683416572, -0.4394168671964362, -0.4615345118372753, -0.48342795824225887, -0.5050865712975776, -0.5264998299637128, -0.5476573323862121, -0.5685488009485666, -0.5891640872647379, -0.6094931771089102, -0.6295261952800679], \"y\": [1.0698645709705923, 1.0639690863922069, 1.057556760741149, 1.0506307089136215, 1.0431942953570532, 1.0352511324357578, 1.0268050786761695, 1.0178602368924967, 1.0084209521937104, 0.9984918098728343, 0.98807763317956, 0.9771834809772714, 0.9658146452856168, 0.9539766487098195, 0.9416752417579786, 0.9289164000476622, 0.9157063214031488, 0.90205142284473]}, {\"hoverinfo\": \"text\", \"line\": {\"color\": \"#dba284\", \"shape\": \"spline\", \"width\": 0.25}, \"mode\": \"lines\", \"text\": \"PostgreSQL<br>649\", \"type\": \"scatter\", \"x\": [-0.657549682023565, -0.6770990320441473, -0.6963099513773288, -0.7151728379348954, -0.7336782635839426], \"y\": [0.8818324192672373, 0.866912279763575, 0.8515588362602446, 0.8357797627845197, 0.8195829461039627]}, {\"hoverinfo\": \"text\", \"line\": {\"color\": \"#d59171\", \"shape\": \"spline\", \"width\": 0.25}, \"mode\": \"lines\", \"text\": \"MySQL/MariaDB<br>939\", \"type\": \"scatter\", \"x\": [-0.7590599601145032, -0.7871127427448888, -0.8141536330917339, -0.840147868068639, -0.8650620301429416], \"y\": [0.7961331402164898, 0.7684097410943062, 0.7396984937956345, 0.7100363087756294, 0.6794613189909875]}, {\"hoverinfo\": \"text\", \"line\": {\"color\": \"#d0805f\", \"shape\": \"spline\", \"width\": 0.25}, \"mode\": \"lines\", \"text\": \"T-SQL<br>1540\", \"type\": \"scatter\", \"x\": [-0.8859775700449014, -0.9008708339612503, -0.9152787238293725, -0.9291934769206192, -0.9426075962001397, -0.9555138543661584, -0.9679052977439226, -0.9797752500322258, -0.9911173159004864, -1.0019253844344445, -1.0121936324286191, -1.021916527523754], \"y\": [0.6519537908297888, 0.6312144964415516, 0.6101351143027873, 0.588727001629933, 0.5670016927539058, 0.5449708929056011, 0.5226464719093097, 0.5000404577874572, 0.4771650302801072, 0.4540325142827227, 0.4306553732057194, 0.40704620225939026]}, {\"hoverinfo\": \"text\", \"line\": {\"color\": \"#ca6f4c\", \"shape\": \"spline\", \"width\": 0.25}, \"mode\": \"lines\", \"text\": \"PL/SQL<br>481\", \"type\": \"scatter\", \"x\": [-1.0341979035989965, -1.0395360352530931, -1.0446544988689999, -1.0495522128460577, -1.0542281422309945], \"y\": [0.37474617568621116, 0.3596732286538437, 0.3445242777987623, 0.3293025242993801, 0.31401118471829365]}, {\"hoverinfo\": \"text\", \"line\": {\"color\": \"#c45e3a\", \"shape\": \"spline\", \"width\": 0.25}, \"mode\": \"lines\", \"text\": \"Pentaho<br>625\", \"type\": \"scatter\", \"x\": [-1.0635712739530803, -1.069293892005307, -1.0745341289905654, -1.0792896209272347, -1.083558222512427], \"y\": [0.2807421329651497, 0.2580902410401121, 0.23532191915435147, 0.21244743857892529, 0.18947711847531884]}, {\"hoverinfo\": \"text\", \"line\": {\"color\": \"#bf4d28\", \"shape\": \"spline\", \"width\": 0.25}, \"mode\": \"lines\", \"text\": \"Hadoop<br>1232\", \"type\": \"scatter\", \"x\": [-1.088975172058648, -1.0953275163215221, -1.09899700527028, -1.0999746509923753, -1.0982580588779935], \"y\": [0.15534823668081357, 0.10127996834974697, 0.046963628553979855, -0.007467742242614613, -0.06188082182342065]}, {\"hoverinfo\": \"text\", \"line\": {\"color\": \"#af4624\", \"shape\": \"spline\", \"width\": 0.25}, \"mode\": \"lines\", \"text\": \"Spark<br>1257\", \"type\": \"scatter\", \"x\": [-1.0957724112372365, -1.0894877468035835, -1.0804075959201143, -1.0685552570946195, -1.0539611419151897], \"y\": [-0.09634740666636117, -0.15171173179701972, -0.20668678399481458, -0.26113150429515686, -0.31490619449739254]}, {\"hoverinfo\": \"text\", \"line\": {\"color\": \"#9f4021\", \"shape\": \"spline\", \"width\": 0.25}, \"mode\": \"lines\", \"text\": \"Informatica<br>879\", \"type\": \"scatter\", \"x\": [-1.043549633107222, -1.0314799059918713, -1.0182826517265038, -1.003972296440415, -0.9885644830113942], \"y\": [-0.34785652680635776, -0.38216384383533797, -0.4160534114664128, -0.4494881844722502, -0.48243161476878244]}, {\"hoverinfo\": \"text\", \"line\": {\"color\": \"#8f391e\", \"shape\": \"spline\", \"width\": 0.25}, \"mode\": \"lines\", \"text\": \"Qlik<br>2133\", \"type\": \"scatter\", \"x\": [-0.9729231428912718, -0.9616564483596428, -0.9499446321410576, -0.9377931152810484, -0.9252075223492758, -0.912193678836087, -0.8987576084560723, -0.8849055303598685, -0.8706438562555036, -0.85597918744061, -0.8409183117468852, -0.8254682003982073, -0.8096360047838681, -0.7934290531484111, -0.7768548471996077, -0.7599210586361448, -0.7426355255966263, -0.725006249031537], \"y\": [-0.5132451246982966, -0.534056996329341, -0.5546216691280562, -0.5749296243293318, -0.5949714619948712, -0.6147379053641363, -0.6342198051482796, -0.6534081437650743, -0.6722940395128802, -0.6908687506817147, -0.7091236795995242, -0.7270503766117896, -0.7446405439926143, -0.7618860397854892, -0.7787788815719608, -0.7953112501664497, -0.8114754932355154, -0.8272641288398894]}, {\"hoverinfo\": \"text\", \"line\": {\"color\": \"#f0f3e7\", \"shape\": \"spline\", \"width\": 0.25}, \"mode\": \"lines\", \"text\": \"Tableau<br>3016\", \"type\": \"scatter\", \"x\": [-0.6986635079682049, -0.6804899196603971, -0.6620103095494759, -0.6432329880650944, -0.6241663995201107, -0.6048191183131119, -0.5851998450724382, -0.5653174027434413, -0.5451807326207311, -0.5247988903272082, -0.5041810417416744, -0.4833364588768638, -0.46227451570974365, -0.4410046839659619, -0.419536528860335, -0.3978797047952945, -0.3760439510192241, -0.35403908724664085, -0.33187500924219077, -0.30956168437044457, -0.28710914711348956, -0.26452749455834773, -0.241826881856231, -0.21901751765568814, -0.19610965951169368, -0.1731136092727426], \"y\": [-0.8496289205491786, -0.8642531279900505, -0.8784886738314884, -0.8923291562337579, -0.9057683510203377, -0.9188002144769832, -0.9314188860696322, -0.9436186910799351, -0.9553941431572224, -0.9667399467857585, -0.9776509996661795, -0.9881223950100382, -0.9981494237464259, -1.00772757663968, -1.0168525463172238, -1.0255202292066254, -1.0337267273810093, -1.0414683503119841, -1.048741616529303, -1.0555432551865098, -1.0618702075318645, -1.067719628283888, -1.0730888869109085, -1.0779755688140342, -1.0823774764130154, -1.086292630134516]}, {\"hoverinfo\": \"text\", \"line\": {\"color\": \"#e2ecde\", \"shape\": \"spline\", \"width\": 0.25}, \"mode\": \"lines\", \"text\": \"Microstrategy<br>481\", \"type\": \"scatter\", \"x\": [-0.13890691206319475, -0.12303037041804187, -0.10712783078995142, -0.09120265360084516, -0.07525820405627093], \"y\": [-1.0911942401704051, -1.0930981328109566, -1.0947710390169443, -1.0962126052806382, -1.0974225269795699]}, {\"hoverinfo\": \"text\", \"line\": {\"color\": \"#d4e5d6\", \"shape\": \"spline\", \"width\": 0.25}, \"mode\": \"lines\", \"text\": \"Oracle BI<br>3695\", \"type\": \"scatter\", \"x\": [-0.04075019407371989, -0.01746011944986989, 0.0058377878071355065, 0.029133076224649283, 0.05241529550484326, 0.07567400121271799, 0.09889875946149822, 0.12207915159328075, 0.14520477885286628, 0.16826526705264722, 0.19125027122648997, 0.21414948027049302, 0.23695262156856978, 0.25964946560075036, 0.28222983053216555, 0.30468358678062435, 0.32700066156076546, 0.34917104340271515, 0.3711847866432533, 0.3930320158874443, 0.4147029304387598, 0.4361878086956769, 0.45747701251280914, 0.47856099152458437, 0.49943028742955864, 0.520075538233416, 0.5404874824487788, 0.5606569632499163, 0.5805749325805157, 0.600232455212649, 0.6196207127551271, 0.6387310076094436], \"y\": [-1.0992449325254832, -1.099861420465686, -1.0999845090879776, -1.099614143174636, -1.09875048887231, -1.0973939336174854, -1.0955450859626805, -1.0932047753034493, -1.0903740515063123, -1.0870541844377866, -1.0832466633947202, -1.078953196436193, -1.0741757096172777, -1.0689163461250113, -1.0631774653169552, -1.0569616416627872, -1.0502716635893885, -1.0431105322299548, -1.0354814600776794, -1.0273878695446292, -1.0188333914264418, -1.0098218632735498, -1.0003573276696458, -0.9904440304181791, -0.9800864186376774, -0.969289138766768, -0.9580570344797752, -0.9463951445138452, -0.9343087004085586, -0.9218031241590557, -0.9088840257837237, -0.8955572008075336]}, {\"hoverinfo\": \"text\", \"line\": {\"color\": \"#c6decd\", \"shape\": \"spline\", \"width\": 0.25}, \"mode\": \"lines\", \"text\": \"Python<br>2524\", \"type\": \"scatter\", \"x\": [0.6665459638899011, 0.6855721911915886, 0.7042687879090097, 0.7226267645146153, 0.7406372942930967, 0.7582917175853705, 0.7755815459522323, 0.7924984662556936, 0.8090343446560286, 0.825181230522613, 0.8409313602566734, 0.8562771610241122, 0.8712112543966057, 0.8857264598992353, 0.899815798462937, 0.9134724957801145, 0.9266899855617997, 0.9394619126947963, 0.9517821362972869, 0.9636447326714379, 0.9750439981515752], \"y\": [-0.8750522715941504, -0.8602271622453944, -0.8449884462980393, -0.8293434506928592, -0.8132996977143181, -0.7968649013737705, -0.780046963700485, -0.7628539709422593, -0.7452941896774659, -0.7273760628403895, -0.7091082056617743, -0.6904994015265233, -0.6715585977505559, -0.6522949012788376, -0.6327175743066628, -0.6128360298262896, -0.5926598271010712, -0.5721986670692577, -0.5514623876796795, -0.5304609591615516, -0.5092044792306832]}, {\"hoverinfo\": \"text\", \"line\": {\"color\": \"#b8d7c5\", \"shape\": \"spline\", \"width\": 0.25}, \"mode\": \"lines\", \"text\": \"VBA<br>889\", \"type\": \"scatter\", \"x\": [0.9905573720163504, 1.0060355739703128, 1.0203828816848055, 1.0335831672135947, 1.0456215919890886], \"y\": [-0.4783263454421698, -0.44485101315634146, -0.4108756195792255, -0.37643835677666365, -0.3415779360061245]}, {\"hoverinfo\": \"text\", \"line\": {\"color\": \"#aad0bc\", \"shape\": \"spline\", \"width\": 0.25}, \"mode\": \"lines\", \"text\": \"Linux<br>894\", \"type\": \"scatter\", \"x\": [1.055834863107447, 1.0656489930834951, 1.0742485295453614, 1.081623671009368, 1.0877660115191012], \"y\": [-0.3085656200014494, -0.27274937862465065, -0.2366222660056081, -0.20022545870148087, -0.16360044065902293]}, {\"hoverinfo\": \"text\", \"line\": {\"color\": \"#9cc9b4\", \"shape\": \"spline\", \"width\": 0.25}, \"mode\": \"lines\", \"text\": \"AWS<br>633\", \"type\": \"scatter\", \"x\": [1.0923680786828238, 1.0949083628079803, 1.096937239013931, 1.0984537596566588, 1.0994572164023046], \"y\": [-0.12935215759621518, -0.1057150748623317, -0.08202861491269163, -0.05830384117836064, -0.03455183498594413]}, {\"hoverinfo\": \"text\", \"marker\": {\"color\": \"green\", \"size\": 0.5}, \"mode\": \"markers\", \"text\": \"Power BI appears with Excel 274 times\", \"type\": \"scatter\", \"x\": [0.865481302131105], \"y\": [0.24686456947372398]}, {\"hoverinfo\": \"text\", \"marker\": {\"color\": \"blue\", \"size\": 0.5}, \"mode\": \"markers\", \"text\": \"Excel appears with Power BI 274 times\", \"type\": \"scatter\", \"x\": [0.761037328793065], \"y\": [0.4804395739148852]}, {\"hoverinfo\": \"text\", \"marker\": {\"color\": \"green\", \"size\": 0.5}, \"mode\": \"markers\", \"text\": \"Power BI appears with SSIS/SSRS 171 times\", \"type\": \"scatter\", \"x\": [0.8935139052899213], \"y\": [0.10785592729912347]}, {\"hoverinfo\": \"text\", \"marker\": {\"color\": \"blue\", \"size\": 0.5}, \"mode\": \"markers\", \"text\": \"SSIS/SSRS appears with Power BI 171 times\", \"type\": \"scatter\", \"x\": [0.14343763375964144], \"y\": [0.8884962831781767]}, {\"hoverinfo\": \"text\", \"marker\": {\"color\": \"green\", \"size\": 0.5}, \"mode\": \"markers\", \"text\": \"Power BI appears with MS SQL Server 168 times\", \"type\": \"scatter\", \"x\": [0.8962309475316962], \"y\": [0.08228054865178065]}, {\"hoverinfo\": \"text\", \"marker\": {\"color\": \"blue\", \"size\": 0.5}, \"mode\": \"markers\", \"text\": \"MS SQL Server appears with Power BI 168 times\", \"type\": \"scatter\", \"x\": [-0.3641447695238377], \"y\": [0.8230422752376886]}, {\"hoverinfo\": \"text\", \"marker\": {\"color\": \"green\", \"size\": 0.5}, \"mode\": \"markers\", \"text\": \"Power BI appears with MySQL/MariaDB 5 times\", \"type\": \"scatter\", \"x\": [0.8999999200504739], \"y\": [0.0003793535824698515]}, {\"hoverinfo\": \"text\", \"marker\": {\"color\": \"blue\", \"size\": 0.5}, \"mode\": \"markers\", \"text\": \"MySQL/MariaDB appears with Power BI 5 times\", \"type\": \"scatter\", \"x\": [-0.6215960623181702], \"y\": [0.6508596894189602]}, {\"hoverinfo\": \"text\", \"marker\": {\"color\": \"green\", \"size\": 0.5}, \"mode\": \"markers\", \"text\": \"Power BI appears with T-SQL 77 times\", \"type\": \"scatter\", \"x\": [0.8988219641492287], \"y\": [0.04603343092712875]}, {\"hoverinfo\": \"text\", \"marker\": {\"color\": \"blue\", \"size\": 0.5}, \"mode\": \"markers\", \"text\": \"T-SQL appears with Power BI 77 times\", \"type\": \"scatter\", \"x\": [-0.7679362999995678], \"y\": [0.4693333987081825]}, {\"hoverinfo\": \"text\", \"marker\": {\"color\": \"green\", \"size\": 0.5}, \"mode\": \"markers\", \"text\": \"Power BI appears with PL/SQL 11 times\", \"type\": \"scatter\", \"x\": [0.8999956219674371], \"y\": [0.0028072120415161585]}, {\"hoverinfo\": \"text\", \"marker\": {\"color\": \"blue\", \"size\": 0.5}, \"mode\": \"markers\", \"text\": \"PL/SQL appears with Power BI 11 times\", \"type\": \"scatter\", \"x\": [-0.8479085709593152], \"y\": [0.30174667403922145]}, {\"hoverinfo\": \"text\", \"marker\": {\"color\": \"green\", \"size\": 0.5}, \"mode\": \"markers\", \"text\": \"Power BI appears with Pentaho 12 times\", \"type\": \"scatter\", \"x\": [0.8999884872926206], \"y\": [0.004552223713809321]}, {\"hoverinfo\": \"text\", \"marker\": {\"color\": \"blue\", \"size\": 0.5}, \"mode\": \"markers\", \"text\": \"Pentaho appears with Power BI 12 times\", \"type\": \"scatter\", \"x\": [-0.8711241678760487], \"y\": [0.22614748316587913]}, {\"hoverinfo\": \"text\", \"marker\": {\"color\": \"green\", \"size\": 0.5}, \"mode\": \"markers\", \"text\": \"Power BI appears with Hadoop 51 times\", \"type\": \"scatter\", \"x\": [0.8995786381127011], \"y\": [0.027536772710286688]}, {\"hoverinfo\": \"text\", \"marker\": {\"color\": \"blue\", \"size\": 0.5}, \"mode\": \"markers\", \"text\": \"Hadoop appears with Power BI 51 times\", \"type\": \"scatter\", \"x\": [-0.8935877300680858], \"y\": [0.10724256930792861]}, {\"hoverinfo\": \"text\", \"marker\": {\"color\": \"green\", \"size\": 0.5}, \"mode\": \"markers\", \"text\": \"Power BI appears with Spark 58 times\", \"type\": \"scatter\", \"x\": [0.8992876349754613], \"y\": [0.03580153041758962]}, {\"hoverinfo\": \"text\", \"marker\": {\"color\": \"blue\", \"size\": 0.5}, \"mode\": \"markers\", \"text\": \"Spark appears with Power BI 58 times\", \"type\": \"scatter\", \"x\": [-0.8930747242180874], \"y\": [-0.11143400272263042]}, {\"hoverinfo\": \"text\", \"marker\": {\"color\": \"green\", \"size\": 0.5}, \"mode\": \"markers\", \"text\": \"Power BI appears with Informatica 26 times\", \"type\": \"scatter\", \"x\": [0.8999508282905162], \"y\": [0.00940779778767939]}, {\"hoverinfo\": \"text\", \"marker\": {\"color\": \"blue\", \"size\": 0.5}, \"mode\": \"markers\", \"text\": \"Informatica appears with Power BI 26 times\", \"type\": \"scatter\", \"x\": [-0.84853572642455], \"y\": [-0.29997853420063453]}, {\"hoverinfo\": \"text\", \"marker\": {\"color\": \"green\", \"size\": 0.5}, \"mode\": \"markers\", \"text\": \"Power BI appears with Qlik 225 times\", \"type\": \"scatter\", \"x\": [0.8894161728493116], \"y\": [0.13761857241696507]}, {\"hoverinfo\": \"text\", \"marker\": {\"color\": \"blue\", \"size\": 0.5}, \"mode\": \"markers\", \"text\": \"Qlik appears with Power BI 225 times\", \"type\": \"scatter\", \"x\": [-0.7367966961651021], \"y\": [-0.516846813398506]}, {\"hoverinfo\": \"text\", \"marker\": {\"color\": \"green\", \"size\": 0.5}, \"mode\": \"markers\", \"text\": \"Power BI appears with Tableau 254 times\", \"type\": \"scatter\", \"x\": [0.8756086090379447], \"y\": [0.20810949949157953]}, {\"hoverinfo\": \"text\", \"marker\": {\"color\": \"blue\", \"size\": 0.5}, \"mode\": \"markers\", \"text\": \"Tableau appears with Power BI 254 times\", \"type\": \"scatter\", \"x\": [-0.3781786645902214], \"y\": [-0.8166889846500667]}, {\"hoverinfo\": \"text\", \"marker\": {\"color\": \"green\", \"size\": 0.5}, \"mode\": \"markers\", \"text\": \"Power BI appears with Microstrategy 37 times\", \"type\": \"scatter\", \"x\": [0.8998881721151653], \"y\": [0.014187236772066252]}, {\"hoverinfo\": \"text\", \"marker\": {\"color\": \"blue\", \"size\": 0.5}, \"mode\": \"markers\", \"text\": \"Microstrategy appears with Power BI 37 times\", \"type\": \"scatter\", \"x\": [-0.09468558298897459], \"y\": [-0.895005385667616]}, {\"hoverinfo\": \"text\", \"marker\": {\"color\": \"green\", \"size\": 0.5}, \"mode\": \"markers\", \"text\": \"Power BI appears with Oracle BI 234 times\", \"type\": \"scatter\", \"x\": [0.8834267317799362], \"y\": [0.17192210322300186]}, {\"hoverinfo\": \"text\", \"marker\": {\"color\": \"blue\", \"size\": 0.5}, \"mode\": \"markers\", \"text\": \"Oracle BI appears with Power BI 234 times\", \"type\": \"scatter\", \"x\": [0.2109612663935639], \"y\": [-0.874925907766837]}, {\"hoverinfo\": \"text\", \"marker\": {\"color\": \"green\", \"size\": 0.5}, \"mode\": \"markers\", \"text\": \"Power BI appears with Python 117 times\", \"type\": \"scatter\", \"x\": [0.8979489516452989], \"y\": [0.06072627305465792]}, {\"hoverinfo\": \"text\", \"marker\": {\"color\": \"blue\", \"size\": 0.5}, \"mode\": \"markers\", \"text\": \"Python appears with Power BI 117 times\", \"type\": \"scatter\", \"x\": [0.6008360541952814], \"y\": [-0.6700716648083583]}, {\"hoverinfo\": \"text\", \"marker\": {\"color\": \"green\", \"size\": 0.5}, \"mode\": \"markers\", \"text\": \"Power BI appears with VBA 44 times\", \"type\": \"scatter\", \"x\": [0.8997703179760764], \"y\": [0.020331622887271875]}, {\"hoverinfo\": \"text\", \"marker\": {\"color\": \"blue\", \"size\": 0.5}, \"mode\": \"markers\", \"text\": \"VBA appears with Power BI 44 times\", \"type\": \"scatter\", \"x\": [0.8208390753218239], \"y\": [-0.36908428905171947]}, {\"hoverinfo\": \"text\", \"marker\": {\"color\": \"green\", \"size\": 0.5}, \"mode\": \"markers\", \"text\": \"Power BI appears with Linux 13 times\", \"type\": \"scatter\", \"x\": [0.8999768946854868], \"y\": [0.006448955905287755]}, {\"hoverinfo\": \"text\", \"marker\": {\"color\": \"blue\", \"size\": 0.5}, \"mode\": \"markers\", \"text\": \"Linux appears with Power BI 13 times\", \"type\": \"scatter\", \"x\": [0.8649437890937014], \"y\": [-0.2487413148397963]}, {\"hoverinfo\": \"text\", \"marker\": {\"color\": \"green\", \"size\": 0.5}, \"mode\": \"markers\", \"text\": \"Power BI appears with AWS 8 times\", \"type\": \"scatter\", \"x\": [0.8999989638543257], \"y\": [0.001365672413242832]}, {\"hoverinfo\": \"text\", \"marker\": {\"color\": \"blue\", \"size\": 0.5}, \"mode\": \"markers\", \"text\": \"AWS appears with Power BI 8 times\", \"type\": \"scatter\", \"x\": [0.8940977911618936], \"y\": [-0.10290354629177209]}, {\"hoverinfo\": \"text\", \"marker\": {\"color\": \"green\", \"size\": 0.5}, \"mode\": \"markers\", \"text\": \"Excel appears with SSIS/SSRS 699 times\", \"type\": \"scatter\", \"x\": [0.46728789680531835], \"y\": [0.7691826970877998]}, {\"hoverinfo\": \"text\", \"marker\": {\"color\": \"blue\", \"size\": 0.5}, \"mode\": \"markers\", \"text\": \"SSIS/SSRS appears with Excel 699 times\", \"type\": \"scatter\", \"x\": [-0.12721168444154074], \"y\": [0.8909641897077266]}, {\"hoverinfo\": \"text\", \"marker\": {\"color\": \"green\", \"size\": 0.5}, \"mode\": \"markers\", \"text\": \"Excel appears with MS SQL Server 289 times\", \"type\": \"scatter\", \"x\": [0.7357494136756184], \"y\": [0.5183365704597582]}, {\"hoverinfo\": \"text\", \"marker\": {\"color\": \"blue\", \"size\": 0.5}, \"mode\": \"markers\", \"text\": \"MS SQL Server appears with Excel 289 times\", \"type\": \"scatter\", \"x\": [-0.45552844281981697], \"y\": [0.7762047653693919]}, {\"hoverinfo\": \"text\", \"marker\": {\"color\": \"green\", \"size\": 0.5}, \"mode\": \"markers\", \"text\": \"Excel appears with PostgreSQL 79 times\", \"type\": \"scatter\", \"x\": [0.83370085352857], \"y\": [0.3390322799170218]}, {\"hoverinfo\": \"text\", \"marker\": {\"color\": \"blue\", \"size\": 0.5}, \"mode\": \"markers\", \"text\": \"PostgreSQL appears with Excel 79 times\", \"type\": \"scatter\", \"x\": [-0.576020879399231], \"y\": [0.6915200260991264]}, {\"hoverinfo\": \"text\", \"marker\": {\"color\": \"green\", \"size\": 0.5}, \"mode\": \"markers\", \"text\": \"Excel appears with MySQL/MariaDB 149 times\", \"type\": \"scatter\", \"x\": [0.7941732595278865], \"y\": [0.423425121893886]}, {\"hoverinfo\": \"text\", \"marker\": {\"color\": \"blue\", \"size\": 0.5}, \"mode\": \"markers\", \"text\": \"MySQL/MariaDB appears with Excel 149 times\", \"type\": \"scatter\", \"x\": [-0.7014062193719471], \"y\": [0.5639408793715455]}, {\"hoverinfo\": \"text\", \"marker\": {\"color\": \"green\", \"size\": 0.5}, \"mode\": \"markers\", \"text\": \"Excel appears with T-SQL 196 times\", \"type\": \"scatter\", \"x\": [0.7806570251966031], \"y\": [0.4478555671320726]}, {\"hoverinfo\": \"text\", \"marker\": {\"color\": \"blue\", \"size\": 0.5}, \"mode\": \"markers\", \"text\": \"T-SQL appears with Excel 196 times\", \"type\": \"scatter\", \"x\": [-0.8175252249533157], \"y\": [0.3763675152892857]}, {\"hoverinfo\": \"text\", \"marker\": {\"color\": \"green\", \"size\": 0.5}, \"mode\": \"markers\", \"text\": \"Excel appears with PL/SQL 69 times\", \"type\": \"scatter\", \"x\": [0.842200560501049], \"y\": [0.3173298219388134]}, {\"hoverinfo\": \"text\", \"marker\": {\"color\": \"blue\", \"size\": 0.5}, \"mode\": \"markers\", \"text\": \"PL/SQL appears with Excel 69 times\", \"type\": \"scatter\", \"x\": [-0.8557002747330392], \"y\": [0.2788853524690771]}, {\"hoverinfo\": \"text\", \"marker\": {\"color\": \"green\", \"size\": 0.5}, \"mode\": \"markers\", \"text\": \"Excel appears with Pentaho 68 times\", \"type\": \"scatter\", \"x\": [0.8460459069727795], \"y\": [0.3069304860951532]}, {\"hoverinfo\": \"text\", \"marker\": {\"color\": \"blue\", \"size\": 0.5}, \"mode\": \"markers\", \"text\": \"Pentaho appears with Excel 68 times\", \"type\": \"scatter\", \"x\": [-0.884221865546778], \"y\": [0.16778466106583095]}, {\"hoverinfo\": \"text\", \"marker\": {\"color\": \"green\", \"size\": 0.5}, \"mode\": \"markers\", \"text\": \"Excel appears with Hadoop 116 times\", \"type\": \"scatter\", \"x\": [0.8210688784284179], \"y\": [0.3685727836890563]}, {\"hoverinfo\": \"text\", \"marker\": {\"color\": \"blue\", \"size\": 0.5}, \"mode\": \"markers\", \"text\": \"Hadoop appears with Excel 116 times\", \"type\": \"scatter\", \"x\": [-0.8990177385785341], \"y\": [0.04203695661127926]}, {\"hoverinfo\": \"text\", \"marker\": {\"color\": \"green\", \"size\": 0.5}, \"mode\": \"markers\", \"text\": \"Excel appears with Spark 121 times\", \"type\": \"scatter\", \"x\": [0.8130280327726592], \"y\": [0.38598629240663423]}, {\"hoverinfo\": \"text\", \"marker\": {\"color\": \"blue\", \"size\": 0.5}, \"mode\": \"markers\", \"text\": \"Spark appears with Excel 121 times\", \"type\": \"scatter\", \"x\": [-0.8813352739486029], \"y\": [-0.18234071101633076]}, {\"hoverinfo\": \"text\", \"marker\": {\"color\": \"green\", \"size\": 0.5}, \"mode\": \"markers\", \"text\": \"Excel appears with Informatica 124 times\", \"type\": \"scatter\", \"x\": [0.804327642995364], \"y\": [0.4038032227626748]}, {\"hoverinfo\": \"text\", \"marker\": {\"color\": \"blue\", \"size\": 0.5}, \"mode\": \"markers\", \"text\": \"Informatica appears with Excel 124 times\", \"type\": \"scatter\", \"x\": [-0.8206136800759134], \"y\": [-0.36958515672611425]}, {\"hoverinfo\": \"text\", \"marker\": {\"color\": \"green\", \"size\": 0.5}, \"mode\": \"markers\", \"text\": \"Excel appears with Qlik 484 times\", \"type\": \"scatter\", \"x\": [0.6113144820003996], \"y\": [0.6605260056171771]}, {\"hoverinfo\": \"text\", \"marker\": {\"color\": \"blue\", \"size\": 0.5}, \"mode\": \"markers\", \"text\": \"Qlik appears with Excel 484 times\", \"type\": \"scatter\", \"x\": [-0.6207552147809238], \"y\": [-0.6516616939196973]}, {\"hoverinfo\": \"text\", \"marker\": {\"color\": \"green\", \"size\": 0.5}, \"mode\": \"markers\", \"text\": \"Excel appears with Tableau 525 times\", \"type\": \"scatter\", \"x\": [0.5489506441763077], \"y\": [0.7131992640618867]}, {\"hoverinfo\": \"text\", \"marker\": {\"color\": \"blue\", \"size\": 0.5}, \"mode\": \"markers\", \"text\": \"Tableau appears with Excel 525 times\", \"type\": \"scatter\", \"x\": [-0.26337995415853116], \"y\": [-0.8605992097064986]}, {\"hoverinfo\": \"text\", \"marker\": {\"color\": \"green\", \"size\": 0.5}, \"mode\": \"markers\", \"text\": \"Excel appears with Microstrategy 53 times\", \"type\": \"scatter\", \"x\": [0.8493353951673085], \"y\": [0.2977068801959269]}, {\"hoverinfo\": \"text\", \"marker\": {\"color\": \"blue\", \"size\": 0.5}, \"mode\": \"markers\", \"text\": \"Microstrategy appears with Excel 53 times\", \"type\": \"scatter\", \"x\": [-0.07995890043734985], \"y\": [-0.8964410601042603]}, {\"hoverinfo\": \"text\", \"marker\": {\"color\": \"green\", \"size\": 0.5}, \"mode\": \"markers\", \"text\": \"Excel appears with Oracle BI 744 times\", \"type\": \"scatter\", \"x\": [0.3638303071018918], \"y\": [0.8231813333853867]}, {\"hoverinfo\": \"text\", \"marker\": {\"color\": \"blue\", \"size\": 0.5}, \"mode\": \"markers\", \"text\": \"Oracle BI appears with Excel 744 times\", \"type\": \"scatter\", \"x\": [0.473055579682217], \"y\": [-0.7656490178479443]}, {\"hoverinfo\": \"text\", \"marker\": {\"color\": \"green\", \"size\": 0.5}, \"mode\": \"markers\", \"text\": \"Excel appears with Python 470 times\", \"type\": \"scatter\", \"x\": [0.6656615414035286], \"y\": [0.605718344031513]}, {\"hoverinfo\": \"text\", \"marker\": {\"color\": \"blue\", \"size\": 0.5}, \"mode\": \"markers\", \"text\": \"Python appears with Excel 470 times\", \"type\": \"scatter\", \"x\": [0.7800913942280292], \"y\": [-0.4488400791499903]}, {\"hoverinfo\": \"text\", \"marker\": {\"color\": \"green\", \"size\": 0.5}, \"mode\": \"markers\", \"text\": \"Excel appears with VBA 313 times\", \"type\": \"scatter\", \"x\": [0.7066256902727519], \"y\": [0.5573868798658225]}, {\"hoverinfo\": \"text\", \"marker\": {\"color\": \"blue\", \"size\": 0.5}, \"mode\": \"markers\", \"text\": \"VBA appears with Excel 313 times\", \"type\": \"scatter\", \"x\": [0.8486723807754422], \"y\": [-0.29959170567447785]}, {\"hoverinfo\": \"text\", \"marker\": {\"color\": \"green\", \"size\": 0.5}, \"mode\": \"markers\", \"text\": \"Excel appears with Linux 101 times\", \"type\": \"scatter\", \"x\": [0.8281042223365025], \"y\": [0.3524817682497303]}, {\"hoverinfo\": \"text\", \"marker\": {\"color\": \"blue\", \"size\": 0.5}, \"mode\": \"markers\", \"text\": \"Linux appears with Excel 101 times\", \"type\": \"scatter\", \"x\": [0.8792946149013019], \"y\": [-0.19194004325718783]}, {\"hoverinfo\": \"text\", \"marker\": {\"color\": \"green\", \"size\": 0.5}, \"mode\": \"markers\", \"text\": \"Excel appears with AWS 70 times\", \"type\": \"scatter\", \"x\": [0.8381684480411883], \"y\": [0.32783174450962776]}, {\"hoverinfo\": \"text\", \"marker\": {\"color\": \"blue\", \"size\": 0.5}, \"mode\": \"markers\", \"text\": \"AWS appears with Excel 70 times\", \"type\": \"scatter\", \"x\": [0.8973594395159457], \"y\": [-0.06889148214132104]}, {\"hoverinfo\": \"text\", \"marker\": {\"color\": \"green\", \"size\": 0.5}, \"mode\": \"markers\", \"text\": \"SSIS/SSRS appears with MS SQL Server 313 times\", \"type\": \"scatter\", \"x\": [0.008285300573287847], \"y\": [0.8999618624110748]}, {\"hoverinfo\": \"text\", \"marker\": {\"color\": \"blue\", \"size\": 0.5}, \"mode\": \"markers\", \"text\": \"MS SQL Server appears with SSIS/SSRS 313 times\", \"type\": \"scatter\", \"x\": [-0.49503993437841787], \"y\": [0.7516218885653955]}, {\"hoverinfo\": \"text\", \"marker\": {\"color\": \"green\", \"size\": 0.5}, \"mode\": \"markers\", \"text\": \"SSIS/SSRS appears with PostgreSQL 66 times\", \"type\": \"scatter\", \"x\": [0.2545636068326068], \"y\": [0.8632481509255459]}, {\"hoverinfo\": \"text\", \"marker\": {\"color\": \"blue\", \"size\": 0.5}, \"mode\": \"markers\", \"text\": \"PostgreSQL appears with SSIS/SSRS 66 times\", \"type\": \"scatter\", \"x\": [-0.569083875725462], \"y\": [0.6972399460654036]}, {\"hoverinfo\": \"text\", \"marker\": {\"color\": \"green\", \"size\": 0.5}, \"mode\": \"markers\", \"text\": \"SSIS/SSRS appears with MySQL/MariaDB 91 times\", \"type\": \"scatter\", \"x\": [0.19758925850743844], \"y\": [0.8780424163572513]}, {\"hoverinfo\": \"text\", \"marker\": {\"color\": \"blue\", \"size\": 0.5}, \"mode\": \"markers\", \"text\": \"MySQL/MariaDB appears with SSIS/SSRS 91 times\", \"type\": \"scatter\", \"x\": [-0.6708199996376558], \"y\": [0.6000004400716181]}, {\"hoverinfo\": \"text\", \"marker\": {\"color\": \"green\", \"size\": 0.5}, \"mode\": \"markers\", \"text\": \"SSIS/SSRS appears with T-SQL 173 times\", \"type\": \"scatter\", \"x\": [0.11653885136979798], \"y\": [0.8924229356764696]}, {\"hoverinfo\": \"text\", \"marker\": {\"color\": \"blue\", \"size\": 0.5}, \"mode\": \"markers\", \"text\": \"T-SQL appears with SSIS/SSRS 173 times\", \"type\": \"scatter\", \"x\": [-0.7930188508544335], \"y\": [0.4255832494230873]}, {\"hoverinfo\": \"text\", \"marker\": {\"color\": \"green\", \"size\": 0.5}, \"mode\": \"markers\", \"text\": \"SSIS/SSRS appears with PL/SQL 71 times\", \"type\": \"scatter\", \"x\": [0.23364673963796873], \"y\": [0.8691427967006039]}, {\"hoverinfo\": \"text\", \"marker\": {\"color\": \"blue\", \"size\": 0.5}, \"mode\": \"markers\", \"text\": \"PL/SQL appears with SSIS/SSRS 71 times\", \"type\": \"scatter\", \"x\": [-0.8580295774736773], \"y\": [0.2716343943250613]}, {\"hoverinfo\": \"text\", \"marker\": {\"color\": \"green\", \"size\": 0.5}, \"mode\": \"markers\", \"text\": \"SSIS/SSRS appears with Pentaho 39 times\", \"type\": \"scatter\", \"x\": [0.2687030382058919], \"y\": [0.8589520808863106]}, {\"hoverinfo\": \"text\", \"marker\": {\"color\": \"blue\", \"size\": 0.5}, \"mode\": \"markers\", \"text\": \"Pentaho appears with SSIS/SSRS 39 times\", \"type\": \"scatter\", \"x\": [-0.8756530253149702], \"y\": [0.2079225318640097]}, {\"hoverinfo\": \"text\", \"marker\": {\"color\": \"green\", \"size\": 0.5}, \"mode\": \"markers\", \"text\": \"SSIS/SSRS appears with Hadoop 72 times\", \"type\": \"scatter\", \"x\": [0.22271535806002077], \"y\": [0.8720079525349507]}, {\"hoverinfo\": \"text\", \"marker\": {\"color\": \"blue\", \"size\": 0.5}, \"mode\": \"markers\", \"text\": \"Hadoop appears with SSIS/SSRS 72 times\", \"type\": \"scatter\", \"x\": [-0.8954678210714601], \"y\": [0.09020743553350616]}, {\"hoverinfo\": \"text\", \"marker\": {\"color\": \"green\", \"size\": 0.5}, \"mode\": \"markers\", \"text\": \"SSIS/SSRS appears with Spark 69 times\", \"type\": \"scatter\", \"x\": [0.2443131176317167], \"y\": [0.8662049991503575]}, {\"hoverinfo\": \"text\", \"marker\": {\"color\": \"blue\", \"size\": 0.5}, \"mode\": \"markers\", \"text\": \"Spark appears with SSIS/SSRS 69 times\", \"type\": \"scatter\", \"x\": [-0.8905329527854497], \"y\": [-0.13019623651714293]}, {\"hoverinfo\": \"text\", \"marker\": {\"color\": \"green\", \"size\": 0.5}, \"mode\": \"markers\", \"text\": \"SSIS/SSRS appears with Informatica 82 times\", \"type\": \"scatter\", \"x\": [0.21090388191226928], \"y\": [0.8749397422647662]}, {\"hoverinfo\": \"text\", \"marker\": {\"color\": \"blue\", \"size\": 0.5}, \"mode\": \"markers\", \"text\": \"Informatica appears with SSIS/SSRS 82 times\", \"type\": \"scatter\", \"x\": [-0.8358534943984101], \"y\": [-0.33368987983150933]}, {\"hoverinfo\": \"text\", \"marker\": {\"color\": \"green\", \"size\": 0.5}, \"mode\": \"markers\", \"text\": \"SSIS/SSRS appears with Qlik 108 times\", \"type\": \"scatter\", \"x\": [0.18221739783658517], \"y\": [0.8813607773923592]}, {\"hoverinfo\": \"text\", \"marker\": {\"color\": \"blue\", \"size\": 0.5}, \"mode\": \"markers\", \"text\": \"Qlik appears with SSIS/SSRS 108 times\", \"type\": \"scatter\", \"x\": [-0.751250535507121], \"y\": [-0.4956033019464902]}, {\"hoverinfo\": \"text\", \"marker\": {\"color\": \"green\", \"size\": 0.5}, \"mode\": \"markers\", \"text\": \"SSIS/SSRS appears with Tableau 226 times\", \"type\": \"scatter\", \"x\": [0.05085327835162385], \"y\": [0.8985621537105223]}, {\"hoverinfo\": \"text\", \"marker\": {\"color\": \"blue\", \"size\": 0.5}, \"mode\": \"markers\", \"text\": \"Tableau appears with SSIS/SSRS 226 times\", \"type\": \"scatter\", \"x\": [-0.41228676931358754], \"y\": [-0.8000122623116253]}, {\"hoverinfo\": \"text\", \"marker\": {\"color\": \"green\", \"size\": 0.5}, \"mode\": \"markers\", \"text\": \"SSIS/SSRS appears with Microstrategy 41 times\", \"type\": \"scatter\", \"x\": [0.2626627286526799], \"y\": [0.8608183844323544]}, {\"hoverinfo\": \"text\", \"marker\": {\"color\": \"blue\", \"size\": 0.5}, \"mode\": \"markers\", \"text\": \"Microstrategy appears with SSIS/SSRS 41 times\", \"type\": \"scatter\", \"x\": [-0.09046493296926168], \"y\": [-0.8954418439535127]}, {\"hoverinfo\": \"text\", \"marker\": {\"color\": \"green\", \"size\": 0.5}, \"mode\": \"markers\", \"text\": \"SSIS/SSRS appears with Oracle BI 354 times\", \"type\": \"scatter\", \"x\": [-0.04440681861810473], \"y\": [0.8989037959983364]}, {\"hoverinfo\": \"text\", \"marker\": {\"color\": \"blue\", \"size\": 0.5}, \"mode\": \"markers\", \"text\": \"Oracle BI appears with SSIS/SSRS 354 times\", \"type\": \"scatter\", \"x\": [0.2563619113663346], \"y\": [-0.8627158109137676]}, {\"hoverinfo\": \"text\", \"marker\": {\"color\": \"green\", \"size\": 0.5}, \"mode\": \"markers\", \"text\": \"SSIS/SSRS appears with Python 218 times\", \"type\": \"scatter\", \"x\": [0.08583720626438479], \"y\": [0.8958973010455638]}, {\"hoverinfo\": \"text\", \"marker\": {\"color\": \"blue\", \"size\": 0.5}, \"mode\": \"markers\", \"text\": \"Python appears with SSIS/SSRS 218 times\", \"type\": \"scatter\", \"x\": [0.7071003823685063], \"y\": [-0.5567845626939673]}, {\"hoverinfo\": \"text\", \"marker\": {\"color\": \"green\", \"size\": 0.5}, \"mode\": \"markers\", \"text\": \"SSIS/SSRS appears with VBA 110 times\", \"type\": \"scatter\", \"x\": [0.16531418895968855], \"y\": [0.8846870740146486]}, {\"hoverinfo\": \"text\", \"marker\": {\"color\": \"blue\", \"size\": 0.5}, \"mode\": \"markers\", \"text\": \"VBA appears with SSIS/SSRS 110 times\", \"type\": \"scatter\", \"x\": [0.8386827933309332], \"y\": [-0.3265136630688264]}, {\"hoverinfo\": \"text\", \"marker\": {\"color\": \"green\", \"size\": 0.5}, \"mode\": \"markers\", \"text\": \"SSIS/SSRS appears with Linux 26 times\", \"type\": \"scatter\", \"x\": [0.2793166217948254], \"y\": [0.8555595974501873]}, {\"hoverinfo\": \"text\", \"marker\": {\"color\": \"blue\", \"size\": 0.5}, \"mode\": \"markers\", \"text\": \"Linux appears with SSIS/SSRS 26 times\", \"type\": \"scatter\", \"x\": [0.8667063218200297], \"y\": [-0.2425286616406296]}, {\"hoverinfo\": \"text\", \"marker\": {\"color\": \"green\", \"size\": 0.5}, \"mode\": \"markers\", \"text\": \"SSIS/SSRS appears with AWS 38 times\", \"type\": \"scatter\", \"x\": [0.27450431733693137], \"y\": [0.8571157330042339]}, {\"hoverinfo\": \"text\", \"marker\": {\"color\": \"blue\", \"size\": 0.5}, \"mode\": \"markers\", \"text\": \"AWS appears with SSIS/SSRS 38 times\", \"type\": \"scatter\", \"x\": [0.8957718684940627], \"y\": [-0.08713644251778806]}, {\"hoverinfo\": \"text\", \"marker\": {\"color\": \"green\", \"size\": 0.5}, \"mode\": \"markers\", \"text\": \"MS SQL Server appears with PostgreSQL 104 times\", \"type\": \"scatter\", \"x\": [-0.2873602367371026], \"y\": [0.8528916076163467]}, {\"hoverinfo\": \"text\", \"marker\": {\"color\": \"blue\", \"size\": 0.5}, \"mode\": \"markers\", \"text\": \"PostgreSQL appears with MS SQL Server 104 times\", \"type\": \"scatter\", \"x\": [-0.5846937098947673], \"y\": [0.6842026495194927]}, {\"hoverinfo\": \"text\", \"marker\": {\"color\": \"green\", \"size\": 0.5}, \"mode\": \"markers\", \"text\": \"MS SQL Server appears with MySQL/MariaDB 109 times\", \"type\": \"scatter\", \"x\": [-0.30291611580520833], \"y\": [0.8474914906861812]}, {\"hoverinfo\": \"text\", \"marker\": {\"color\": \"blue\", \"size\": 0.5}, \"mode\": \"markers\", \"text\": \"MySQL/MariaDB appears with MS SQL Server 109 times\", \"type\": \"scatter\", \"x\": [-0.6799060830488994], \"y\": [0.5896844225796566]}, {\"hoverinfo\": \"text\", \"marker\": {\"color\": \"green\", \"size\": 0.5}, \"mode\": \"markers\", \"text\": \"MS SQL Server appears with T-SQL 218 times\", \"type\": \"scatter\", \"x\": [-0.42130303273909836], \"y\": [0.7953010465256778]}, {\"hoverinfo\": \"text\", \"marker\": {\"color\": \"blue\", \"size\": 0.5}, \"mode\": \"markers\", \"text\": \"T-SQL appears with MS SQL Server 218 times\", \"type\": \"scatter\", \"x\": [-0.8299585280586822], \"y\": [0.3480931508988159]}, {\"hoverinfo\": \"text\", \"marker\": {\"color\": \"green\", \"size\": 0.5}, \"mode\": \"markers\", \"text\": \"MS SQL Server appears with PL/SQL 14 times\", \"type\": \"scatter\", \"x\": [-0.21027330501226157], \"y\": [0.8750915021866116]}, {\"hoverinfo\": \"text\", \"marker\": {\"color\": \"blue\", \"size\": 0.5}, \"mode\": \"markers\", \"text\": \"PL/SQL appears with MS SQL Server 14 times\", \"type\": \"scatter\", \"x\": [-0.8483635712897603], \"y\": [0.30046505771634063]}, {\"hoverinfo\": \"text\", \"marker\": {\"color\": \"green\", \"size\": 0.5}, \"mode\": \"markers\", \"text\": \"MS SQL Server appears with Pentaho 53 times\", \"type\": \"scatter\", \"x\": [-0.2271460347368032], \"y\": [0.8708643286433008]}, {\"hoverinfo\": \"text\", \"marker\": {\"color\": \"blue\", \"size\": 0.5}, \"mode\": \"markers\", \"text\": \"Pentaho appears with MS SQL Server 53 times\", \"type\": \"scatter\", \"x\": [-0.8815033530470439], \"y\": [0.18152641286275334]}, {\"hoverinfo\": \"text\", \"marker\": {\"color\": \"green\", \"size\": 0.5}, \"mode\": \"markers\", \"text\": \"MS SQL Server appears with Hadoop 57 times\", \"type\": \"scatter\", \"x\": [-0.24341297010358964], \"y\": [0.8664583809885786]}, {\"hoverinfo\": \"text\", \"marker\": {\"color\": \"blue\", \"size\": 0.5}, \"mode\": \"markers\", \"text\": \"Hadoop appears with MS SQL Server 57 times\", \"type\": \"scatter\", \"x\": [-0.8944847113864879], \"y\": [0.09948417510253368]}, {\"hoverinfo\": \"text\", \"marker\": {\"color\": \"green\", \"size\": 0.5}, \"mode\": \"markers\", \"text\": \"MS SQL Server appears with Spark 54 times\", \"type\": \"scatter\", \"x\": [-0.23514057206773567], \"y\": [0.8687398410155126]}, {\"hoverinfo\": \"text\", \"marker\": {\"color\": \"blue\", \"size\": 0.5}, \"mode\": \"markers\", \"text\": \"Spark appears with MS SQL Server 54 times\", \"type\": \"scatter\", \"x\": [-0.8940443101421047], \"y\": [-0.10336716839755297]}, {\"hoverinfo\": \"text\", \"marker\": {\"color\": \"green\", \"size\": 0.5}, \"mode\": \"markers\", \"text\": \"MS SQL Server appears with Informatica 77 times\", \"type\": \"scatter\", \"x\": [-0.2740655835955311], \"y\": [0.8572561203563618]}, {\"hoverinfo\": \"text\", \"marker\": {\"color\": \"blue\", \"size\": 0.5}, \"mode\": \"markers\", \"text\": \"Informatica appears with MS SQL Server 77 times\", \"type\": \"scatter\", \"x\": [-0.8397850845612991], \"y\": [-0.3236680579673747]}, {\"hoverinfo\": \"text\", \"marker\": {\"color\": \"green\", \"size\": 0.5}, \"mode\": \"markers\", \"text\": \"MS SQL Server appears with Qlik 75 times\", \"type\": \"scatter\", \"x\": [-0.26284970283952713], \"y\": [0.860761310536883]}, {\"hoverinfo\": \"text\", \"marker\": {\"color\": \"blue\", \"size\": 0.5}, \"mode\": \"markers\", \"text\": \"Qlik appears with MS SQL Server 75 times\", \"type\": \"scatter\", \"x\": [-0.7736587558324453], \"y\": [-0.4598392431315457]}, {\"hoverinfo\": \"text\", \"marker\": {\"color\": \"green\", \"size\": 0.5}, \"mode\": \"markers\", \"text\": \"MS SQL Server appears with Tableau 149 times\", \"type\": \"scatter\", \"x\": [-0.3416012257568578], \"y\": [0.832651549305838]}, {\"hoverinfo\": \"text\", \"marker\": {\"color\": \"blue\", \"size\": 0.5}, \"mode\": \"markers\", \"text\": \"Tableau appears with MS SQL Server 149 times\", \"type\": \"scatter\", \"x\": [-0.46564737356882097], \"y\": [-0.7701769429737941]}, {\"hoverinfo\": \"text\", \"marker\": {\"color\": \"green\", \"size\": 0.5}, \"mode\": \"markers\", \"text\": \"MS SQL Server appears with Microstrategy 25 times\", \"type\": \"scatter\", \"x\": [-0.21545625122078077], \"y\": [0.8738298483171011]}, {\"hoverinfo\": \"text\", \"marker\": {\"color\": \"blue\", \"size\": 0.5}, \"mode\": \"markers\", \"text\": \"Microstrategy appears with MS SQL Server 25 times\", \"type\": \"scatter\", \"x\": [-0.10376894301956864], \"y\": [-0.8939977664762936]}, {\"hoverinfo\": \"text\", \"marker\": {\"color\": \"green\", \"size\": 0.5}, \"mode\": \"markers\", \"text\": \"MS SQL Server appears with Oracle BI 218 times\", \"type\": \"scatter\", \"x\": [-0.39122911693992035], \"y\": [0.8105182157474379]}, {\"hoverinfo\": \"text\", \"marker\": {\"color\": \"blue\", \"size\": 0.5}, \"mode\": \"markers\", \"text\": \"Oracle BI appears with MS SQL Server 218 times\", \"type\": \"scatter\", \"x\": [0.17566355514291246], \"y\": [-0.8826903847865076]}, {\"hoverinfo\": \"text\", \"marker\": {\"color\": \"green\", \"size\": 0.5}, \"mode\": \"markers\", \"text\": \"MS SQL Server appears with Python 139 times\", \"type\": \"scatter\", \"x\": [-0.3209000047357737], \"y\": [0.8408467083604362]}, {\"hoverinfo\": \"text\", \"marker\": {\"color\": \"blue\", \"size\": 0.5}, \"mode\": \"markers\", \"text\": \"Python appears with MS SQL Server 139 times\", \"type\": \"scatter\", \"x\": [0.6303724404013086], \"y\": [-0.6423632822496153]}, {\"hoverinfo\": \"text\", \"marker\": {\"color\": \"green\", \"size\": 0.5}, \"mode\": \"markers\", \"text\": \"MS SQL Server appears with VBA 39 times\", \"type\": \"scatter\", \"x\": [-0.22025685955110547], \"y\": [0.8726321767048729]}, {\"hoverinfo\": \"text\", \"marker\": {\"color\": \"blue\", \"size\": 0.5}, \"mode\": \"markers\", \"text\": \"VBA appears with MS SQL Server 39 times\", \"type\": \"scatter\", \"x\": [0.8185122337899334], \"y\": [-0.37421614494328465]}, {\"hoverinfo\": \"text\", \"marker\": {\"color\": \"green\", \"size\": 0.5}, \"mode\": \"markers\", \"text\": \"MS SQL Server appears with Linux 65 times\", \"type\": \"scatter\", \"x\": [-0.2524795998213102], \"y\": [0.8638599722605922]}, {\"hoverinfo\": \"text\", \"marker\": {\"color\": \"blue\", \"size\": 0.5}, \"mode\": \"markers\", \"text\": \"Linux appears with MS SQL Server 65 times\", \"type\": \"scatter\", \"x\": [0.8768190136951318], \"y\": [-0.20294929717221535]}, {\"hoverinfo\": \"text\", \"marker\": {\"color\": \"green\", \"size\": 0.5}, \"mode\": \"markers\", \"text\": \"MS SQL Server appears with AWS 15 times\", \"type\": \"scatter\", \"x\": [-0.212452555106716], \"y\": [0.8745649843371434]}, {\"hoverinfo\": \"text\", \"marker\": {\"color\": \"blue\", \"size\": 0.5}, \"mode\": \"markers\", \"text\": \"AWS appears with MS SQL Server 15 times\", \"type\": \"scatter\", \"x\": [0.8944643572231809], \"y\": [-0.09966701388785539]}, {\"hoverinfo\": \"text\", \"marker\": {\"color\": \"green\", \"size\": 0.5}, \"mode\": \"markers\", \"text\": \"PostgreSQL appears with MySQL/MariaDB 115 times\", \"type\": \"scatter\", \"x\": [-0.5949503818981491], \"y\": [0.6753029268996593]}, {\"hoverinfo\": \"text\", \"marker\": {\"color\": \"blue\", \"size\": 0.5}, \"mode\": \"markers\", \"text\": \"MySQL/MariaDB appears with PostgreSQL 115 times\", \"type\": \"scatter\", \"x\": [-0.6898940769120768], \"y\": [0.5779672677943218]}, {\"hoverinfo\": \"text\", \"marker\": {\"color\": \"green\", \"size\": 0.5}, \"mode\": \"markers\", \"text\": \"PostgreSQL appears with T-SQL 47 times\", \"type\": \"scatter\", \"x\": [-0.5481316332773631], \"y\": [0.7138289098941639]}, {\"hoverinfo\": \"text\", \"marker\": {\"color\": \"blue\", \"size\": 0.5}, \"mode\": \"markers\", \"text\": \"T-SQL appears with PostgreSQL 47 times\", \"type\": \"scatter\", \"x\": [-0.7446584048395057], \"y\": [0.5054541127559284]}, {\"hoverinfo\": \"text\", \"marker\": {\"color\": \"green\", \"size\": 0.5}, \"mode\": \"markers\", \"text\": \"PostgreSQL appears with PL/SQL 3 times\", \"type\": \"scatter\", \"x\": [-0.5383430979858794], \"y\": [0.7212397027694509]}, {\"hoverinfo\": \"text\", \"marker\": {\"color\": \"blue\", \"size\": 0.5}, \"mode\": \"markers\", \"text\": \"PL/SQL appears with PostgreSQL 3 times\", \"type\": \"scatter\", \"x\": [-0.8463285905009263], \"y\": [0.3061501541739204]}, {\"hoverinfo\": \"text\", \"marker\": {\"color\": \"green\", \"size\": 0.5}, \"mode\": \"markers\", \"text\": \"PostgreSQL appears with Pentaho 54 times\", \"type\": \"scatter\", \"x\": [-0.5632999256317989], \"y\": [0.7019210737563091]}, {\"hoverinfo\": \"text\", \"marker\": {\"color\": \"blue\", \"size\": 0.5}, \"mode\": \"markers\", \"text\": \"Pentaho appears with PostgreSQL 54 times\", \"type\": \"scatter\", \"x\": [-0.8828001953198602], \"y\": [0.17511086529172476]}, {\"hoverinfo\": \"text\", \"marker\": {\"color\": \"green\", \"size\": 0.5}, \"mode\": \"markers\", \"text\": \"PostgreSQL appears with Hadoop 4 times\", \"type\": \"scatter\", \"x\": [-0.5386908763723735], \"y\": [0.7209799856536686]}, {\"hoverinfo\": \"text\", \"marker\": {\"color\": \"blue\", \"size\": 0.5}, \"mode\": \"markers\", \"text\": \"Hadoop appears with PostgreSQL 4 times\", \"type\": \"scatter\", \"x\": [-0.8910204915579175], \"y\": [0.12681673242867894]}, {\"hoverinfo\": \"text\", \"marker\": {\"color\": \"green\", \"size\": 0.5}, \"mode\": \"markers\", \"text\": \"PostgreSQL appears with Spark 13 times\", \"type\": \"scatter\", \"x\": [-0.5407253452609427], \"y\": [0.7194554197394264]}, {\"hoverinfo\": \"text\", \"marker\": {\"color\": \"blue\", \"size\": 0.5}, \"mode\": \"markers\", \"text\": \"Spark appears with PostgreSQL 13 times\", \"type\": \"scatter\", \"x\": [-0.8961827836910089], \"y\": [-0.08280349156789528]}, {\"hoverinfo\": \"text\", \"marker\": {\"color\": \"green\", \"size\": 0.5}, \"mode\": \"markers\", \"text\": \"PostgreSQL appears with Informatica 2 times\", \"type\": \"scatter\", \"x\": [-0.5380946081848074], \"y\": [0.7214251122898611]}, {\"hoverinfo\": \"text\", \"marker\": {\"color\": \"blue\", \"size\": 0.5}, \"mode\": \"markers\", \"text\": \"Informatica appears with PostgreSQL 2 times\", \"type\": \"scatter\", \"x\": [-0.8537705038190729], \"y\": [-0.2847383479767456]}, {\"hoverinfo\": \"text\", \"marker\": {\"color\": \"green\", \"size\": 0.5}, \"mode\": \"markers\", \"text\": \"PostgreSQL appears with Qlik 14 times\", \"type\": \"scatter\", \"x\": [-0.5420627621918997], \"y\": [0.7184483014419952]}, {\"hoverinfo\": \"text\", \"marker\": {\"color\": \"blue\", \"size\": 0.5}, \"mode\": \"markers\", \"text\": \"Qlik appears with PostgreSQL 14 times\", \"type\": \"scatter\", \"x\": [-0.7942205597442992], \"y\": [-0.4233363939935382]}, {\"hoverinfo\": \"text\", \"marker\": {\"color\": \"green\", \"size\": 0.5}, \"mode\": \"markers\", \"text\": \"PostgreSQL appears with Tableau 6 times\", \"type\": \"scatter\", \"x\": [-0.5391874852661895], \"y\": [0.7206086703144243]}, {\"hoverinfo\": \"text\", \"marker\": {\"color\": \"blue\", \"size\": 0.5}, \"mode\": \"markers\", \"text\": \"Tableau appears with PostgreSQL 6 times\", \"type\": \"scatter\", \"x\": [-0.571267108174565], \"y\": [-0.695452292481569]}, {\"hoverinfo\": \"text\", \"marker\": {\"color\": \"green\", \"size\": 0.5}, \"mode\": \"markers\", \"text\": \"PostgreSQL appears with Oracle BI 52 times\", \"type\": \"scatter\", \"x\": [-0.5529877627507904], \"y\": [0.7100736118515288]}, {\"hoverinfo\": \"text\", \"marker\": {\"color\": \"blue\", \"size\": 0.5}, \"mode\": \"markers\", \"text\": \"Oracle BI appears with PostgreSQL 52 times\", \"type\": \"scatter\", \"x\": [-0.021192109421359767], \"y\": [-0.8997504623495745]}, {\"hoverinfo\": \"text\", \"marker\": {\"color\": \"green\", \"size\": 0.5}, \"mode\": \"markers\", \"text\": \"PostgreSQL appears with Python 31 times\", \"type\": \"scatter\", \"x\": [-0.544287619715087], \"y\": [0.7167642478701661]}, {\"hoverinfo\": \"text\", \"marker\": {\"color\": \"blue\", \"size\": 0.5}, \"mode\": \"markers\", \"text\": \"Python appears with PostgreSQL 31 times\", \"type\": \"scatter\", \"x\": [0.5502567049352022], \"y\": [-0.7121920799010995]}, {\"hoverinfo\": \"text\", \"marker\": {\"color\": \"green\", \"size\": 0.5}, \"mode\": \"markers\", \"text\": \"PostgreSQL appears with Linux 53 times\", \"type\": \"scatter\", \"x\": [-0.5581100849822502], \"y\": [0.706054624686437]}, {\"hoverinfo\": \"text\", \"marker\": {\"color\": \"blue\", \"size\": 0.5}, \"mode\": \"markers\", \"text\": \"Linux appears with PostgreSQL 53 times\", \"type\": \"scatter\", \"x\": [0.8731282935770676], \"y\": [-0.21828188874755075]}, {\"hoverinfo\": \"text\", \"marker\": {\"color\": \"green\", \"size\": 0.5}, \"mode\": \"markers\", \"text\": \"PostgreSQL appears with AWS 6 times\", \"type\": \"scatter\", \"x\": [-0.5397830780711244], \"y\": [0.720162640400113]}, {\"hoverinfo\": \"text\", \"marker\": {\"color\": \"blue\", \"size\": 0.5}, \"mode\": \"markers\", \"text\": \"AWS appears with PostgreSQL 6 times\", \"type\": \"scatter\", \"x\": [0.8939990068766523], \"y\": [-0.1037582560742003]}, {\"hoverinfo\": \"text\", \"marker\": {\"color\": \"green\", \"size\": 0.5}, \"mode\": \"markers\", \"text\": \"MySQL/MariaDB appears with T-SQL 45 times\", \"type\": \"scatter\", \"x\": [-0.6314647060301473], \"y\": [0.6412895797050344]}, {\"hoverinfo\": \"text\", \"marker\": {\"color\": \"blue\", \"size\": 0.5}, \"mode\": \"markers\", \"text\": \"T-SQL appears with MySQL/MariaDB 45 times\", \"type\": \"scatter\", \"x\": [-0.7369476721677889], \"y\": [0.5166315209958421]}, {\"hoverinfo\": \"text\", \"marker\": {\"color\": \"green\", \"size\": 0.5}, \"mode\": \"markers\", \"text\": \"MySQL/MariaDB appears with PL/SQL 1 times\", \"type\": \"scatter\", \"x\": [-0.621098804033638], \"y\": [0.6513342272811897]}, {\"hoverinfo\": \"text\", \"marker\": {\"color\": \"blue\", \"size\": 0.5}, \"mode\": \"markers\", \"text\": \"PL/SQL appears with MySQL/MariaDB 1 times\", \"type\": \"scatter\", \"x\": [-0.8461804523124281], \"y\": [0.3065593615017076]}, {\"hoverinfo\": \"text\", \"marker\": {\"color\": \"green\", \"size\": 0.5}, \"mode\": \"markers\", \"text\": \"MySQL/MariaDB appears with Pentaho 72 times\", \"type\": \"scatter\", \"x\": [-0.6558164274157505], \"y\": [0.6163641890405718]}, {\"hoverinfo\": \"text\", \"marker\": {\"color\": \"blue\", \"size\": 0.5}, \"mode\": \"markers\", \"text\": \"Pentaho appears with MySQL/MariaDB 72 times\", \"type\": \"scatter\", \"x\": [-0.885778369886629], \"y\": [0.15936335664445023]}, {\"hoverinfo\": \"text\", \"marker\": {\"color\": \"green\", \"size\": 0.5}, \"mode\": \"markers\", \"text\": \"MySQL/MariaDB appears with Hadoop 9 times\", \"type\": \"scatter\", \"x\": [-0.622887236349821], \"y\": [0.6496241150022698]}, {\"hoverinfo\": \"text\", \"marker\": {\"color\": \"blue\", \"size\": 0.5}, \"mode\": \"markers\", \"text\": \"Hadoop appears with MySQL/MariaDB 9 times\", \"type\": \"scatter\", \"x\": [-0.8914334386044659], \"y\": [0.12388068670223741]}, {\"hoverinfo\": \"text\", \"marker\": {\"color\": \"green\", \"size\": 0.5}, \"mode\": \"markers\", \"text\": \"MySQL/MariaDB appears with Spark 32 times\", \"type\": \"scatter\", \"x\": [-0.6276825944269672], \"y\": [0.6449919074325131]}, {\"hoverinfo\": \"text\", \"marker\": {\"color\": \"blue\", \"size\": 0.5}, \"mode\": \"markers\", \"text\": \"Spark appears with MySQL/MariaDB 32 times\", \"type\": \"scatter\", \"x\": [-0.8954207029646615], \"y\": [-0.09067394720795759]}, {\"hoverinfo\": \"text\", \"marker\": {\"color\": \"green\", \"size\": 0.5}, \"mode\": \"markers\", \"text\": \"MySQL/MariaDB appears with Informatica 11 times\", \"type\": \"scatter\", \"x\": [-0.6238787761657666], \"y\": [0.6486719299074883]}, {\"hoverinfo\": \"text\", \"marker\": {\"color\": \"blue\", \"size\": 0.5}, \"mode\": \"markers\", \"text\": \"Informatica appears with MySQL/MariaDB 11 times\", \"type\": \"scatter\", \"x\": [-0.8532334688301739], \"y\": [-0.2863435832492646]}, {\"hoverinfo\": \"text\", \"marker\": {\"color\": \"green\", \"size\": 0.5}, \"mode\": \"markers\", \"text\": \"MySQL/MariaDB appears with Qlik 17 times\", \"type\": \"scatter\", \"x\": [-0.6252644860346227], \"y\": [0.6473363287378975]}, {\"hoverinfo\": \"text\", \"marker\": {\"color\": \"blue\", \"size\": 0.5}, \"mode\": \"markers\", \"text\": \"Qlik appears with MySQL/MariaDB 17 times\", \"type\": \"scatter\", \"x\": [-0.7919223756382232], \"y\": [-0.4276201012154513]}, {\"hoverinfo\": \"text\", \"marker\": {\"color\": \"green\", \"size\": 0.5}, \"mode\": \"markers\", \"text\": \"MySQL/MariaDB appears with Tableau 70 times\", \"type\": \"scatter\", \"x\": [-0.6490935984404902], \"y\": [0.6234400536247056]}, {\"hoverinfo\": \"text\", \"marker\": {\"color\": \"blue\", \"size\": 0.5}, \"mode\": \"markers\", \"text\": \"Tableau appears with MySQL/MariaDB 70 times\", \"type\": \"scatter\", \"x\": [-0.5404159067785451], \"y\": [-0.7196878821410868]}, {\"hoverinfo\": \"text\", \"marker\": {\"color\": \"green\", \"size\": 0.5}, \"mode\": \"markers\", \"text\": \"MySQL/MariaDB appears with Oracle BI 80 times\", \"type\": \"scatter\", \"x\": [-0.6629272050718154], \"y\": [0.6087097179901692]}, {\"hoverinfo\": \"text\", \"marker\": {\"color\": \"blue\", \"size\": 0.5}, \"mode\": \"markers\", \"text\": \"Oracle BI appears with MySQL/MariaDB 80 times\", \"type\": \"scatter\", \"x\": [0.0338136673951109], \"y\": [-0.8993645734057424]}, {\"hoverinfo\": \"text\", \"marker\": {\"color\": \"green\", \"size\": 0.5}, \"mode\": \"markers\", \"text\": \"MySQL/MariaDB appears with Python 68 times\", \"type\": \"scatter\", \"x\": [-0.6424869930544029], \"y\": [0.6302463516403024]}, {\"hoverinfo\": \"text\", \"marker\": {\"color\": \"blue\", \"size\": 0.5}, \"mode\": \"markers\", \"text\": \"Python appears with MySQL/MariaDB 68 times\", \"type\": \"scatter\", \"x\": [0.571956582774695], \"y\": [-0.6948853627906502]}, {\"hoverinfo\": \"text\", \"marker\": {\"color\": \"green\", \"size\": 0.5}, \"mode\": \"markers\", \"text\": \"MySQL/MariaDB appears with VBA 6 times\", \"type\": \"scatter\", \"x\": [-0.6221426276622065], \"y\": [0.6503372593090181]}, {\"hoverinfo\": \"text\", \"marker\": {\"color\": \"blue\", \"size\": 0.5}, \"mode\": \"markers\", \"text\": \"VBA appears with MySQL/MariaDB 6 times\", \"type\": \"scatter\", \"x\": [0.8116331697528733], \"y\": [-0.38891078380125155]}, {\"hoverinfo\": \"text\", \"marker\": {\"color\": \"green\", \"size\": 0.5}, \"mode\": \"markers\", \"text\": \"MySQL/MariaDB appears with Linux 57 times\", \"type\": \"scatter\", \"x\": [-0.6364411306937661], \"y\": [0.6363510722559055]}, {\"hoverinfo\": \"text\", \"marker\": {\"color\": \"blue\", \"size\": 0.5}, \"mode\": \"markers\", \"text\": \"Linux appears with MySQL/MariaDB 57 times\", \"type\": \"scatter\", \"x\": [0.8749116973268403], \"y\": [-0.21102019306376224]}, {\"hoverinfo\": \"text\", \"marker\": {\"color\": \"green\", \"size\": 0.5}, \"mode\": \"markers\", \"text\": \"MySQL/MariaDB appears with AWS 2 times\", \"type\": \"scatter\", \"x\": [-0.6212480195706346], \"y\": [0.6511919058000986]}, {\"hoverinfo\": \"text\", \"marker\": {\"color\": \"blue\", \"size\": 0.5}, \"mode\": \"markers\", \"text\": \"AWS appears with MySQL/MariaDB 2 times\", \"type\": \"scatter\", \"x\": [0.8937989872269234], \"y\": [-0.10546739037316787]}, {\"hoverinfo\": \"text\", \"marker\": {\"color\": \"green\", \"size\": 0.5}, \"mode\": \"markers\", \"text\": \"T-SQL appears with PL/SQL 54 times\", \"type\": \"scatter\", \"x\": [-0.756795752634854], \"y\": [0.48709361399411205]}, {\"hoverinfo\": \"text\", \"marker\": {\"color\": \"blue\", \"size\": 0.5}, \"mode\": \"markers\", \"text\": \"PL/SQL appears with T-SQL 54 times\", \"type\": \"scatter\", \"x\": [-0.8536032446676705], \"y\": [0.28523937437321867]}, {\"hoverinfo\": \"text\", \"marker\": {\"color\": \"green\", \"size\": 0.5}, \"mode\": \"markers\", \"text\": \"T-SQL appears with Pentaho 49 times\", \"type\": \"scatter\", \"x\": [-0.752609027576567], \"y\": [0.49353789278053845]}, {\"hoverinfo\": \"text\", \"marker\": {\"color\": \"blue\", \"size\": 0.5}, \"mode\": \"markers\", \"text\": \"Pentaho appears with T-SQL 49 times\", \"type\": \"scatter\", \"x\": [-0.8802237040390405], \"y\": [0.18763323492332507]}, {\"hoverinfo\": \"text\", \"marker\": {\"color\": \"green\", \"size\": 0.5}, \"mode\": \"markers\", \"text\": \"T-SQL appears with Hadoop 48 times\", \"type\": \"scatter\", \"x\": [-0.7486160125706689], \"y\": [0.4995738841480729]}, {\"hoverinfo\": \"text\", \"marker\": {\"color\": \"blue\", \"size\": 0.5}, \"mode\": \"markers\", \"text\": \"Hadoop appears with T-SQL 48 times\", \"type\": \"scatter\", \"x\": [-0.8927063814321545], \"y\": [0.1143473504297701]}, {\"hoverinfo\": \"text\", \"marker\": {\"color\": \"green\", \"size\": 0.5}, \"mode\": \"markers\", \"text\": \"T-SQL appears with Spark 45 times\", \"type\": \"scatter\", \"x\": [-0.7407817495095188], \"y\": [0.5111187724918902]}, {\"hoverinfo\": \"text\", \"marker\": {\"color\": \"blue\", \"size\": 0.5}, \"mode\": \"markers\", \"text\": \"Spark appears with T-SQL 45 times\", \"type\": \"scatter\", \"x\": [-0.8948406890505772], \"y\": [-0.09622962755559317]}, {\"hoverinfo\": \"text\", \"marker\": {\"color\": \"green\", \"size\": 0.5}, \"mode\": \"markers\", \"text\": \"T-SQL appears with Informatica 19 times\", \"type\": \"scatter\", \"x\": [-0.7271395079726412], \"y\": [0.5303471843474851]}, {\"hoverinfo\": \"text\", \"marker\": {\"color\": \"blue\", \"size\": 0.5}, \"mode\": \"markers\", \"text\": \"Informatica appears with T-SQL 19 times\", \"type\": \"scatter\", \"x\": [-0.8506137225339679], \"y\": [-0.2940345133430866]}, {\"hoverinfo\": \"text\", \"marker\": {\"color\": \"green\", \"size\": 0.5}, \"mode\": \"markers\", \"text\": \"T-SQL appears with Qlik 81 times\", \"type\": \"scatter\", \"x\": [-0.7740177314033715], \"y\": [0.4592347454986156]}, {\"hoverinfo\": \"text\", \"marker\": {\"color\": \"blue\", \"size\": 0.5}, \"mode\": \"markers\", \"text\": \"Qlik appears with T-SQL 81 times\", \"type\": \"scatter\", \"x\": [-0.767439438609376], \"y\": [-0.4701454116195604]}, {\"hoverinfo\": \"text\", \"marker\": {\"color\": \"green\", \"size\": 0.5}, \"mode\": \"markers\", \"text\": \"T-SQL appears with Tableau 132 times\", \"type\": \"scatter\", \"x\": [-0.7820057514244285], \"y\": [0.4454963577170019]}, {\"hoverinfo\": \"text\", \"marker\": {\"color\": \"blue\", \"size\": 0.5}, \"mode\": \"markers\", \"text\": \"Tableau appears with T-SQL 132 times\", \"type\": \"scatter\", \"x\": [-0.4845251137107125], \"y\": [-0.7584427560360907]}, {\"hoverinfo\": \"text\", \"marker\": {\"color\": \"green\", \"size\": 0.5}, \"mode\": \"markers\", \"text\": \"T-SQL appears with Microstrategy 21 times\", \"type\": \"scatter\", \"x\": [-0.7288941551894401], \"y\": [0.5279330549706777]}, {\"hoverinfo\": \"text\", \"marker\": {\"color\": \"blue\", \"size\": 0.5}, \"mode\": \"markers\", \"text\": \"Microstrategy appears with T-SQL 21 times\", \"type\": \"scatter\", \"x\": [-0.10625422702350805], \"y\": [-0.893705790089578]}, {\"hoverinfo\": \"text\", \"marker\": {\"color\": \"green\", \"size\": 0.5}, \"mode\": \"markers\", \"text\": \"T-SQL appears with Oracle BI 184 times\", \"type\": \"scatter\", \"x\": [-0.8052651212428074], \"y\": [0.40193044735352756]}, {\"hoverinfo\": \"text\", \"marker\": {\"color\": \"blue\", \"size\": 0.5}, \"mode\": \"markers\", \"text\": \"Oracle BI appears with T-SQL 184 times\", \"type\": \"scatter\", \"x\": [0.10967472101330193], \"y\": [-0.8932924804176147]}, {\"hoverinfo\": \"text\", \"marker\": {\"color\": \"green\", \"size\": 0.5}, \"mode\": \"markers\", \"text\": \"T-SQL appears with Python 75 times\", \"type\": \"scatter\", \"x\": [-0.7619614561141879], \"y\": [0.4789725873119948]}, {\"hoverinfo\": \"text\", \"marker\": {\"color\": \"blue\", \"size\": 0.5}, \"mode\": \"markers\", \"text\": \"Python appears with T-SQL 75 times\", \"type\": \"scatter\", \"x\": [0.5805451027361316], \"y\": [-0.6877262418208968]}, {\"hoverinfo\": \"text\", \"marker\": {\"color\": \"green\", \"size\": 0.5}, \"mode\": \"markers\", \"text\": \"T-SQL appears with VBA 27 times\", \"type\": \"scatter\", \"x\": [-0.7309891504069133], \"y\": [0.5250284392177049]}, {\"hoverinfo\": \"text\", \"marker\": {\"color\": \"blue\", \"size\": 0.5}, \"mode\": \"markers\", \"text\": \"VBA appears with T-SQL 27 times\", \"type\": \"scatter\", \"x\": [0.8148609928675973], \"y\": [-0.3821015078520807]}, {\"hoverinfo\": \"text\", \"marker\": {\"color\": \"green\", \"size\": 0.5}, \"mode\": \"markers\", \"text\": \"T-SQL appears with Linux 33 times\", \"type\": \"scatter\", \"x\": [-0.7335916136161962], \"y\": [0.5213859841154013]}, {\"hoverinfo\": \"text\", \"marker\": {\"color\": \"blue\", \"size\": 0.5}, \"mode\": \"markers\", \"text\": \"Linux appears with T-SQL 33 times\", \"type\": \"scatter\", \"x\": [0.8688866068419717], \"y\": [-0.23459766505795623]}, {\"hoverinfo\": \"text\", \"marker\": {\"color\": \"green\", \"size\": 0.5}, \"mode\": \"markers\", \"text\": \"T-SQL appears with AWS 16 times\", \"type\": \"scatter\", \"x\": [-0.7255976320493525], \"y\": [0.5324547646179651]}, {\"hoverinfo\": \"text\", \"marker\": {\"color\": \"blue\", \"size\": 0.5}, \"mode\": \"markers\", \"text\": \"AWS appears with T-SQL 16 times\", \"type\": \"scatter\", \"x\": [0.8946733336778808], \"y\": [-0.09777333995372879]}, {\"hoverinfo\": \"text\", \"marker\": {\"color\": \"green\", \"size\": 0.5}, \"mode\": \"markers\", \"text\": \"PL/SQL appears with Pentaho 8 times\", \"type\": \"scatter\", \"x\": [-0.8468639323061108], \"y\": [0.30466617823288317]}, {\"hoverinfo\": \"text\", \"marker\": {\"color\": \"blue\", \"size\": 0.5}, \"mode\": \"markers\", \"text\": \"Pentaho appears with PL/SQL 8 times\", \"type\": \"scatter\", \"x\": [-0.8708159471032634], \"y\": [0.22733144584646983]}, {\"hoverinfo\": \"text\", \"marker\": {\"color\": \"green\", \"size\": 0.5}, \"mode\": \"markers\", \"text\": \"PL/SQL appears with Hadoop 8 times\", \"type\": \"scatter\", \"x\": [-0.8471581795720238], \"y\": [0.3038470318831741]}, {\"hoverinfo\": \"text\", \"marker\": {\"color\": \"blue\", \"size\": 0.5}, \"mode\": \"markers\", \"text\": \"Hadoop appears with PL/SQL 8 times\", \"type\": \"scatter\", \"x\": [-0.8912633904883085], \"y\": [0.12509823649950022]}, {\"hoverinfo\": \"text\", \"marker\": {\"color\": \"green\", \"size\": 0.5}, \"mode\": \"markers\", \"text\": \"PL/SQL appears with Informatica 36 times\", \"type\": \"scatter\", \"x\": [-0.8520389340310883], \"y\": [0.2898786899638653]}, {\"hoverinfo\": \"text\", \"marker\": {\"color\": \"blue\", \"size\": 0.5}, \"mode\": \"markers\", \"text\": \"Informatica appears with PL/SQL 36 times\", \"type\": \"scatter\", \"x\": [-0.844349026596013], \"y\": [-0.3115681647510951]}, {\"hoverinfo\": \"text\", \"marker\": {\"color\": \"green\", \"size\": 0.5}, \"mode\": \"markers\", \"text\": \"PL/SQL appears with Qlik 20 times\", \"type\": \"scatter\", \"x\": [-0.8489792627763963], \"y\": [0.2987209590498239]}, {\"hoverinfo\": \"text\", \"marker\": {\"color\": \"blue\", \"size\": 0.5}, \"mode\": \"markers\", \"text\": \"Qlik appears with PL/SQL 20 times\", \"type\": \"scatter\", \"x\": [-0.7905618748992558], \"y\": [-0.4301301221209385]}, {\"hoverinfo\": \"text\", \"marker\": {\"color\": \"green\", \"size\": 0.5}, \"mode\": \"markers\", \"text\": \"PL/SQL appears with Tableau 32 times\", \"type\": \"scatter\", \"x\": [-0.8508402854874502], \"y\": [0.2933782687787805]}, {\"hoverinfo\": \"text\", \"marker\": {\"color\": \"blue\", \"size\": 0.5}, \"mode\": \"markers\", \"text\": \"Tableau appears with PL/SQL 32 times\", \"type\": \"scatter\", \"x\": [-0.5651326127801708], \"y\": [-0.7004463790842649]}, {\"hoverinfo\": \"text\", \"marker\": {\"color\": \"green\", \"size\": 0.5}, \"mode\": \"markers\", \"text\": \"PL/SQL appears with Microstrategy 26 times\", \"type\": \"scatter\", \"x\": [-0.8498065495025083], \"y\": [0.2963592894151303]}, {\"hoverinfo\": \"text\", \"marker\": {\"color\": \"blue\", \"size\": 0.5}, \"mode\": \"markers\", \"text\": \"Microstrategy appears with PL/SQL 26 times\", \"type\": \"scatter\", \"x\": [-0.10101258252091208], \"y\": [-0.8943134004209351]}, {\"hoverinfo\": \"text\", \"marker\": {\"color\": \"green\", \"size\": 0.5}, \"mode\": \"markers\", \"text\": \"PL/SQL appears with Oracle BI 106 times\", \"type\": \"scatter\", \"x\": [-0.8608865169124726], \"y\": [0.2624393358441357]}, {\"hoverinfo\": \"text\", \"marker\": {\"color\": \"blue\", \"size\": 0.5}, \"mode\": \"markers\", \"text\": \"Oracle BI appears with PL/SQL 106 times\", \"type\": \"scatter\", \"x\": [0.06383470111658027], \"y\": [-0.8977333295212765]}, {\"hoverinfo\": \"text\", \"marker\": {\"color\": \"green\", \"size\": 0.5}, \"mode\": \"markers\", \"text\": \"PL/SQL appears with Python 4 times\", \"type\": \"scatter\", \"x\": [-0.8464580490854274], \"y\": [0.3057920390371408]}, {\"hoverinfo\": \"text\", \"marker\": {\"color\": \"blue\", \"size\": 0.5}, \"mode\": \"markers\", \"text\": \"Python appears with PL/SQL 4 times\", \"type\": \"scatter\", \"x\": [0.5456045556685509], \"y\": [-0.7157622991145337]}, {\"hoverinfo\": \"text\", \"marker\": {\"color\": \"green\", \"size\": 0.5}, \"mode\": \"markers\", \"text\": \"PL/SQL appears with VBA 11 times\", \"type\": \"scatter\", \"x\": [-0.8475065690700528], \"y\": [0.302873926548833]}, {\"hoverinfo\": \"text\", \"marker\": {\"color\": \"blue\", \"size\": 0.5}, \"mode\": \"markers\", \"text\": \"VBA appears with PL/SQL 11 times\", \"type\": \"scatter\", \"x\": [0.813762391801439], \"y\": [-0.3844356509087071]}, {\"hoverinfo\": \"text\", \"marker\": {\"color\": \"green\", \"size\": 0.5}, \"mode\": \"markers\", \"text\": \"PL/SQL appears with Linux 5 times\", \"type\": \"scatter\", \"x\": [-0.846624273173415], \"y\": [0.3053315248604158]}, {\"hoverinfo\": \"text\", \"marker\": {\"color\": \"blue\", \"size\": 0.5}, \"mode\": \"markers\", \"text\": \"Linux appears with PL/SQL 5 times\", \"type\": \"scatter\", \"x\": [0.8642263017689746], \"y\": [-0.25122280814193826]}, {\"hoverinfo\": \"text\", \"marker\": {\"color\": \"green\", \"size\": 0.5}, \"mode\": \"markers\", \"text\": \"PL/SQL appears with AWS 2 times\", \"type\": \"scatter\", \"x\": [-0.8462360273211482], \"y\": [0.3064059171486752]}, {\"hoverinfo\": \"text\", \"marker\": {\"color\": \"blue\", \"size\": 0.5}, \"mode\": \"markers\", \"text\": \"AWS appears with PL/SQL 2 times\", \"type\": \"scatter\", \"x\": [0.8938277615305014], \"y\": [-0.10522325179052897]}, {\"hoverinfo\": \"text\", \"marker\": {\"color\": \"green\", \"size\": 0.5}, \"mode\": \"markers\", \"text\": \"Pentaho appears with Spark 8 times\", \"type\": \"scatter\", \"x\": [-0.8705682118716771], \"y\": [0.2282783136405004]}, {\"hoverinfo\": \"text\", \"marker\": {\"color\": \"blue\", \"size\": 0.5}, \"mode\": \"markers\", \"text\": \"Spark appears with Pentaho 8 times\", \"type\": \"scatter\", \"x\": [-0.8964515366483596], \"y\": [-0.07984135795936073]}, {\"hoverinfo\": \"text\", \"marker\": {\"color\": \"green\", \"size\": 0.5}, \"mode\": \"markers\", \"text\": \"Pentaho appears with Informatica 39 times\", \"type\": \"scatter\", \"x\": [-0.8745384222351877], \"y\": [0.21256186872152913]}, {\"hoverinfo\": \"text\", \"marker\": {\"color\": \"blue\", \"size\": 0.5}, \"mode\": \"markers\", \"text\": \"Informatica appears with Pentaho 39 times\", \"type\": \"scatter\", \"x\": [-0.8425776383998865], \"y\": [-0.3163272407941975]}, {\"hoverinfo\": \"text\", \"marker\": {\"color\": \"green\", \"size\": 0.5}, \"mode\": \"markers\", \"text\": \"Pentaho appears with Qlik 36 times\", \"type\": \"scatter\", \"x\": [-0.872310842827117], \"y\": [0.22152605599848735]}, {\"hoverinfo\": \"text\", \"marker\": {\"color\": \"blue\", \"size\": 0.5}, \"mode\": \"markers\", \"text\": \"Qlik appears with Pentaho 36 times\", \"type\": \"scatter\", \"x\": [-0.7861699043023891], \"y\": [-0.4381060163581099]}, {\"hoverinfo\": \"text\", \"marker\": {\"color\": \"green\", \"size\": 0.5}, \"mode\": \"markers\", \"text\": \"Pentaho appears with Tableau 44 times\", \"type\": \"scatter\", \"x\": [-0.8790200923327964], \"y\": [0.19319336757570635]}, {\"hoverinfo\": \"text\", \"marker\": {\"color\": \"blue\", \"size\": 0.5}, \"mode\": \"markers\", \"text\": \"Tableau appears with Pentaho 44 times\", \"type\": \"scatter\", \"x\": [-0.5559735806541035], \"y\": [-0.7077382126285502]}, {\"hoverinfo\": \"text\", \"marker\": {\"color\": \"green\", \"size\": 0.5}, \"mode\": \"markers\", \"text\": \"Pentaho appears with Microstrategy 7 times\", \"type\": \"scatter\", \"x\": [-0.8703350250357799], \"y\": [0.22916575703182274]}, {\"hoverinfo\": \"text\", \"marker\": {\"color\": \"blue\", \"size\": 0.5}, \"mode\": \"markers\", \"text\": \"Microstrategy appears with Pentaho 7 times\", \"type\": \"scatter\", \"x\": [-0.11208597949398501], \"y\": [-0.8929931316650056]}, {\"hoverinfo\": \"text\", \"marker\": {\"color\": \"green\", \"size\": 0.5}, \"mode\": \"markers\", \"text\": \"Pentaho appears with Oracle BI 40 times\", \"type\": \"scatter\", \"x\": [-0.8767568317076246], \"y\": [0.20321776018352292]}, {\"hoverinfo\": \"text\", \"marker\": {\"color\": \"blue\", \"size\": 0.5}, \"mode\": \"markers\", \"text\": \"Oracle BI appears with Pentaho 40 times\", \"type\": \"scatter\", \"x\": [-0.02854602976992155], \"y\": [-0.8995471772977639]}, {\"hoverinfo\": \"text\", \"marker\": {\"color\": \"green\", \"size\": 0.5}, \"mode\": \"markers\", \"text\": \"Pentaho appears with Python 38 times\", \"type\": \"scatter\", \"x\": [-0.8734139997739252], \"y\": [0.2171358676011726]}, {\"hoverinfo\": \"text\", \"marker\": {\"color\": \"blue\", \"size\": 0.5}, \"mode\": \"markers\", \"text\": \"Python appears with Pentaho 38 times\", \"type\": \"scatter\", \"x\": [0.5585715707293629], \"y\": [-0.7056895920820516]}, {\"hoverinfo\": \"text\", \"marker\": {\"color\": \"green\", \"size\": 0.5}, \"mode\": \"markers\", \"text\": \"Pentaho appears with VBA 1 times\", \"type\": \"scatter\", \"x\": [-0.8702102888083824], \"y\": [0.22963896283521198]}, {\"hoverinfo\": \"text\", \"marker\": {\"color\": \"blue\", \"size\": 0.5}, \"mode\": \"markers\", \"text\": \"VBA appears with Pentaho 1 times\", \"type\": \"scatter\", \"x\": [0.8104855500698259], \"y\": [-0.391296783947954]}, {\"hoverinfo\": \"text\", \"marker\": {\"color\": \"green\", \"size\": 0.5}, \"mode\": \"markers\", \"text\": \"Pentaho appears with Linux 42 times\", \"type\": \"scatter\", \"x\": [-0.8778758183266948], \"y\": [0.19832813112928813]}, {\"hoverinfo\": \"text\", \"marker\": {\"color\": \"blue\", \"size\": 0.5}, \"mode\": \"markers\", \"text\": \"Linux appears with Pentaho 42 times\", \"type\": \"scatter\", \"x\": [0.8715395739238074], \"y\": [-0.22454124584295915]}, {\"hoverinfo\": \"text\", \"marker\": {\"color\": \"green\", \"size\": 0.5}, \"mode\": \"markers\", \"text\": \"Pentaho appears with AWS 15 times\", \"type\": \"scatter\", \"x\": [-0.8715377124013164], \"y\": [0.22454847107535678]}, {\"hoverinfo\": \"text\", \"marker\": {\"color\": \"blue\", \"size\": 0.5}, \"mode\": \"markers\", \"text\": \"AWS appears with Pentaho 15 times\", \"type\": \"scatter\", \"x\": [0.8942583056293018], \"y\": [-0.10149917641542872]}, {\"hoverinfo\": \"text\", \"marker\": {\"color\": \"green\", \"size\": 0.5}, \"mode\": \"markers\", \"text\": \"Hadoop appears with Spark 219 times\", \"type\": \"scatter\", \"x\": [-0.8999994712235084], \"y\": [-0.0009756010481802504]}, {\"hoverinfo\": \"text\", \"marker\": {\"color\": \"blue\", \"size\": 0.5}, \"mode\": \"markers\", \"text\": \"Spark appears with Hadoop 219 times\", \"type\": \"scatter\", \"x\": [-0.8760078150685351], \"y\": [-0.20642264395858156]}, {\"hoverinfo\": \"text\", \"marker\": {\"color\": \"green\", \"size\": 0.5}, \"mode\": \"markers\", \"text\": \"Hadoop appears with Informatica 14 times\", \"type\": \"scatter\", \"x\": [-0.8921256563691232], \"y\": [0.11879315320320885]}, {\"hoverinfo\": \"text\", \"marker\": {\"color\": \"blue\", \"size\": 0.5}, \"mode\": \"markers\", \"text\": \"Informatica appears with Hadoop 14 times\", \"type\": \"scatter\", \"x\": [-0.8526934157260616], \"y\": [-0.28794780564786726]}, {\"hoverinfo\": \"text\", \"marker\": {\"color\": \"green\", \"size\": 0.5}, \"mode\": \"markers\", \"text\": \"Hadoop appears with Qlik 13 times\", \"type\": \"scatter\", \"x\": [-0.8918658387319738], \"y\": [0.12072831359259971]}, {\"hoverinfo\": \"text\", \"marker\": {\"color\": \"blue\", \"size\": 0.5}, \"mode\": \"markers\", \"text\": \"Qlik appears with Hadoop 13 times\", \"type\": \"scatter\", \"x\": [-0.7951984063800475], \"y\": [-0.42149673129293996]}, {\"hoverinfo\": \"text\", \"marker\": {\"color\": \"green\", \"size\": 0.5}, \"mode\": \"markers\", \"text\": \"Hadoop appears with Tableau 82 times\", \"type\": \"scatter\", \"x\": [-0.898235208311446], \"y\": [0.05633392006325534]}, {\"hoverinfo\": \"text\", \"marker\": {\"color\": \"blue\", \"size\": 0.5}, \"mode\": \"markers\", \"text\": \"Tableau appears with Hadoop 82 times\", \"type\": \"scatter\", \"x\": [-0.5216405278060456], \"y\": [-0.7334106351493891]}, {\"hoverinfo\": \"text\", \"marker\": {\"color\": \"green\", \"size\": 0.5}, \"mode\": \"markers\", \"text\": \"Hadoop appears with Microstrategy 6 times\", \"type\": \"scatter\", \"x\": [-0.8911221021832919], \"y\": [0.1261007494047145]}, {\"hoverinfo\": \"text\", \"marker\": {\"color\": \"blue\", \"size\": 0.5}, \"mode\": \"markers\", \"text\": \"Microstrategy appears with Hadoop 6 times\", \"type\": \"scatter\", \"x\": [-0.11278763253781267], \"y\": [-0.8929047821277]}, {\"hoverinfo\": \"text\", \"marker\": {\"color\": \"green\", \"size\": 0.5}, \"mode\": \"markers\", \"text\": \"Hadoop appears with Oracle BI 78 times\", \"type\": \"scatter\", \"x\": [-0.8964899912139668], \"y\": [0.0794084104688021]}, {\"hoverinfo\": \"text\", \"marker\": {\"color\": \"blue\", \"size\": 0.5}, \"mode\": \"markers\", \"text\": \"Oracle BI appears with Hadoop 78 times\", \"type\": \"scatter\", \"x\": [0.02118525205030909], \"y\": [-0.8997506238372747]}, {\"hoverinfo\": \"text\", \"marker\": {\"color\": \"green\", \"size\": 0.5}, \"mode\": \"markers\", \"text\": \"Hadoop appears with Python 234 times\", \"type\": \"scatter\", \"x\": [-0.8993678379280998], \"y\": [-0.0337267267984206]}, {\"hoverinfo\": \"text\", \"marker\": {\"color\": \"blue\", \"size\": 0.5}, \"mode\": \"markers\", \"text\": \"Python appears with Hadoop 234 times\", \"type\": \"scatter\", \"x\": [0.7284137785464729], \"y\": [-0.5285956556988053]}, {\"hoverinfo\": \"text\", \"marker\": {\"color\": \"green\", \"size\": 0.5}, \"mode\": \"markers\", \"text\": \"Hadoop appears with VBA 11 times\", \"type\": \"scatter\", \"x\": [-0.8916313657202254], \"y\": [0.12244797941936725]}, {\"hoverinfo\": \"text\", \"marker\": {\"color\": \"blue\", \"size\": 0.5}, \"mode\": \"markers\", \"text\": \"VBA appears with Hadoop 11 times\", \"type\": \"scatter\", \"x\": [0.8131233030681689], \"y\": [-0.38578555443084]}, {\"hoverinfo\": \"text\", \"marker\": {\"color\": \"green\", \"size\": 0.5}, \"mode\": \"markers\", \"text\": \"Hadoop appears with Linux 130 times\", \"type\": \"scatter\", \"x\": [-0.8996729791659335], \"y\": [0.02425964877515279]}, {\"hoverinfo\": \"text\", \"marker\": {\"color\": \"blue\", \"size\": 0.5}, \"mode\": \"markers\", \"text\": \"Linux appears with Hadoop 130 times\", \"type\": \"scatter\", \"x\": [0.8853947995364424], \"y\": [-0.16148080057339]}, {\"hoverinfo\": \"text\", \"marker\": {\"color\": \"green\", \"size\": 0.5}, \"mode\": \"markers\", \"text\": \"Hadoop appears with AWS 80 times\", \"type\": \"scatter\", \"x\": [-0.897425843446522], \"y\": [0.0680209931881232]}, {\"hoverinfo\": \"text\", \"marker\": {\"color\": \"blue\", \"size\": 0.5}, \"mode\": \"markers\", \"text\": \"AWS appears with Hadoop 80 times\", \"type\": \"scatter\", \"x\": [0.8980179990671607], \"y\": [-0.05969651037885648]}, {\"hoverinfo\": \"text\", \"marker\": {\"color\": \"green\", \"size\": 0.5}, \"mode\": \"markers\", \"text\": \"Spark appears with Informatica 16 times\", \"type\": \"scatter\", \"x\": [-0.8959867800658211], \"y\": [-0.08489811509852208]}, {\"hoverinfo\": \"text\", \"marker\": {\"color\": \"blue\", \"size\": 0.5}, \"mode\": \"markers\", \"text\": \"Informatica appears with Spark 16 times\", \"type\": \"scatter\", \"x\": [-0.8513849858197744], \"y\": [-0.2917937729298941]}, {\"hoverinfo\": \"text\", \"marker\": {\"color\": \"green\", \"size\": 0.5}, \"mode\": \"markers\", \"text\": \"Spark appears with Qlik 16 times\", \"type\": \"scatter\", \"x\": [-0.8957648186743412], \"y\": [-0.08720888501365358]}, {\"hoverinfo\": \"text\", \"marker\": {\"color\": \"blue\", \"size\": 0.5}, \"mode\": \"markers\", \"text\": \"Qlik appears with Spark 16 times\", \"type\": \"scatter\", \"x\": [-0.7931290721225911], \"y\": [-0.4253778026107588]}, {\"hoverinfo\": \"text\", \"marker\": {\"color\": \"green\", \"size\": 0.5}, \"mode\": \"markers\", \"text\": \"Spark appears with Tableau 67 times\", \"type\": \"scatter\", \"x\": [-0.891906653921629], \"y\": [-0.12042641192995679]}, {\"hoverinfo\": \"text\", \"marker\": {\"color\": \"blue\", \"size\": 0.5}, \"mode\": \"markers\", \"text\": \"Tableau appears with Spark 67 times\", \"type\": \"scatter\", \"x\": [-0.5490424842676759], \"y\": [-0.7131285651754381]}, {\"hoverinfo\": \"text\", \"marker\": {\"color\": \"green\", \"size\": 0.5}, \"mode\": \"markers\", \"text\": \"Spark appears with Microstrategy 3 times\", \"type\": \"scatter\", \"x\": [-0.896521975469644], \"y\": [-0.07904648948566387]}, {\"hoverinfo\": \"text\", \"marker\": {\"color\": \"blue\", \"size\": 0.5}, \"mode\": \"markers\", \"text\": \"Microstrategy appears with Spark 3 times\", \"type\": \"scatter\", \"x\": [-0.11327335156892564], \"y\": [-0.892843294102802]}, {\"hoverinfo\": \"text\", \"marker\": {\"color\": \"green\", \"size\": 0.5}, \"mode\": \"markers\", \"text\": \"Spark appears with Oracle BI 72 times\", \"type\": \"scatter\", \"x\": [-0.8889957623048392], \"y\": [-0.14030871178953147]}, {\"hoverinfo\": \"text\", \"marker\": {\"color\": \"blue\", \"size\": 0.5}, \"mode\": \"markers\", \"text\": \"Oracle BI appears with Spark 72 times\", \"type\": \"scatter\", \"x\": [0.009192348040166168], \"y\": [-0.8999530547409174]}, {\"hoverinfo\": \"text\", \"marker\": {\"color\": \"green\", \"size\": 0.5}, \"mode\": \"markers\", \"text\": \"Spark appears with Python 256 times\", \"type\": \"scatter\", \"x\": [-0.8674644329034034], \"y\": [-0.23980295587748052]}, {\"hoverinfo\": \"text\", \"marker\": {\"color\": \"blue\", \"size\": 0.5}, \"mode\": \"markers\", \"text\": \"Python appears with Spark 256 times\", \"type\": \"scatter\", \"x\": [0.7502493299637174], \"y\": [-0.49711763486019384]}, {\"hoverinfo\": \"text\", \"marker\": {\"color\": \"green\", \"size\": 0.5}, \"mode\": \"markers\", \"text\": \"Spark appears with VBA 10 times\", \"type\": \"scatter\", \"x\": [-0.896334753004447], \"y\": [-0.08114191614977495]}, {\"hoverinfo\": \"text\", \"marker\": {\"color\": \"blue\", \"size\": 0.5}, \"mode\": \"markers\", \"text\": \"VBA appears with Spark 10 times\", \"type\": \"scatter\", \"x\": [0.8125111748871416], \"y\": [-0.38707310767284864]}, {\"hoverinfo\": \"text\", \"marker\": {\"color\": \"green\", \"size\": 0.5}, \"mode\": \"markers\", \"text\": \"Spark appears with Linux 113 times\", \"type\": \"scatter\", \"x\": [-0.8846175116032309], \"y\": [-0.16568602284111913]}, {\"hoverinfo\": \"text\", \"marker\": {\"color\": \"blue\", \"size\": 0.5}, \"mode\": \"markers\", \"text\": \"Linux appears with Spark 113 times\", \"type\": \"scatter\", \"x\": [0.8822820425731069], \"y\": [-0.17770311576623027]}, {\"hoverinfo\": \"text\", \"marker\": {\"color\": \"green\", \"size\": 0.5}, \"mode\": \"markers\", \"text\": \"Spark appears with AWS 85 times\", \"type\": \"scatter\", \"x\": [-0.8871490348517216], \"y\": [-0.15154731921633888]}, {\"hoverinfo\": \"text\", \"marker\": {\"color\": \"blue\", \"size\": 0.5}, \"mode\": \"markers\", \"text\": \"AWS appears with Spark 85 times\", \"type\": \"scatter\", \"x\": [0.8986335931661875], \"y\": [-0.04957484476251105]}, {\"hoverinfo\": \"text\", \"marker\": {\"color\": \"green\", \"size\": 0.5}, \"mode\": \"markers\", \"text\": \"Informatica appears with Qlik 101 times\", \"type\": \"scatter\", \"x\": [-0.8267517417175002], \"y\": [-0.3556424574865603]}, {\"hoverinfo\": \"text\", \"marker\": {\"color\": \"blue\", \"size\": 0.5}, \"mode\": \"markers\", \"text\": \"Qlik appears with Informatica 101 times\", \"type\": \"scatter\", \"x\": [-0.760010136833977], \"y\": [-0.48206285058029474]}, {\"hoverinfo\": \"text\", \"marker\": {\"color\": \"green\", \"size\": 0.5}, \"mode\": \"markers\", \"text\": \"Informatica appears with Tableau 84 times\", \"type\": \"scatter\", \"x\": [-0.831621217378304], \"y\": [-0.3441019482743854]}, {\"hoverinfo\": \"text\", \"marker\": {\"color\": \"blue\", \"size\": 0.5}, \"mode\": \"markers\", \"text\": \"Tableau appears with Informatica 84 times\", \"type\": \"scatter\", \"x\": [-0.5108848038022675], \"y\": [-0.7409431268619197]}, {\"hoverinfo\": \"text\", \"marker\": {\"color\": \"green\", \"size\": 0.5}, \"mode\": \"markers\", \"text\": \"Informatica appears with Microstrategy 27 times\", \"type\": \"scatter\", \"x\": [-0.8473329050720594], \"y\": [-0.3033594369426216]}, {\"hoverinfo\": \"text\", \"marker\": {\"color\": \"blue\", \"size\": 0.5}, \"mode\": \"markers\", \"text\": \"Microstrategy appears with Informatica 27 times\", \"type\": \"scatter\", \"x\": [-0.09814711272710948], \"y\": [-0.8946324073402059]}, {\"hoverinfo\": \"text\", \"marker\": {\"color\": \"green\", \"size\": 0.5}, \"mode\": \"markers\", \"text\": \"Informatica appears with Oracle BI 143 times\", \"type\": \"scatter\", \"x\": [-0.8130249490214885], \"y\": [-0.38599278784532515]}, {\"hoverinfo\": \"text\", \"marker\": {\"color\": \"blue\", \"size\": 0.5}, \"mode\": \"markers\", \"text\": \"Oracle BI appears with Informatica 143 times\", \"type\": \"scatter\", \"x\": [0.08367851661581384], \"y\": [-0.89610150421533]}, {\"hoverinfo\": \"text\", \"marker\": {\"color\": \"green\", \"size\": 0.5}, \"mode\": \"markers\", \"text\": \"Informatica appears with Python 33 times\", \"type\": \"scatter\", \"x\": [-0.8459549645158421], \"y\": [-0.3071810508657727]}, {\"hoverinfo\": \"text\", \"marker\": {\"color\": \"blue\", \"size\": 0.5}, \"mode\": \"markers\", \"text\": \"Python appears with Informatica 33 times\", \"type\": \"scatter\", \"x\": [0.5542080734072498], \"y\": [-0.709121577284336]}, {\"hoverinfo\": \"text\", \"marker\": {\"color\": \"green\", \"size\": 0.5}, \"mode\": \"markers\", \"text\": \"Informatica appears with VBA 6 times\", \"type\": \"scatter\", \"x\": [-0.8535989811095163], \"y\": [-0.2852521331187475]}, {\"hoverinfo\": \"text\", \"marker\": {\"color\": \"blue\", \"size\": 0.5}, \"mode\": \"markers\", \"text\": \"VBA appears with Informatica 6 times\", \"type\": \"scatter\", \"x\": [0.8112808036798902], \"y\": [-0.3896452971363976]}, {\"hoverinfo\": \"text\", \"marker\": {\"color\": \"green\", \"size\": 0.5}, \"mode\": \"markers\", \"text\": \"Informatica appears with Linux 15 times\", \"type\": \"scatter\", \"x\": [-0.8520631755519936], \"y\": [-0.2898074272137491]}, {\"hoverinfo\": \"text\", \"marker\": {\"color\": \"blue\", \"size\": 0.5}, \"mode\": \"markers\", \"text\": \"Linux appears with Informatica 15 times\", \"type\": \"scatter\", \"x\": [0.8659511179868097], \"y\": [-0.24521146232873048]}, {\"hoverinfo\": \"text\", \"marker\": {\"color\": \"green\", \"size\": 0.5}, \"mode\": \"markers\", \"text\": \"Informatica appears with AWS 24 times\", \"type\": \"scatter\", \"x\": [-0.8496580977183642], \"y\": [-0.2967846306357702]}, {\"hoverinfo\": \"text\", \"marker\": {\"color\": \"blue\", \"size\": 0.5}, \"mode\": \"markers\", \"text\": \"AWS appears with Informatica 24 times\", \"type\": \"scatter\", \"x\": [0.8949370566283645], \"y\": [-0.0953292435371194]}, {\"hoverinfo\": \"text\", \"marker\": {\"color\": \"green\", \"size\": 0.5}, \"mode\": \"markers\", \"text\": \"Qlik appears with Tableau 388 times\", \"type\": \"scatter\", \"x\": [-0.7086281971210456], \"y\": [-0.5548387858152822]}, {\"hoverinfo\": \"text\", \"marker\": {\"color\": \"blue\", \"size\": 0.5}, \"mode\": \"markers\", \"text\": \"Tableau appears with Qlik 388 times\", \"type\": \"scatter\", \"x\": [-0.33151788073559463], \"y\": [-0.8367173326474001]}, {\"hoverinfo\": \"text\", \"marker\": {\"color\": \"green\", \"size\": 0.5}, \"mode\": \"markers\", \"text\": \"Qlik appears with Microstrategy 50 times\", \"type\": \"scatter\", \"x\": [-0.7829182582383323], \"y\": [-0.4438907533583641]}, {\"hoverinfo\": \"text\", \"marker\": {\"color\": \"blue\", \"size\": 0.5}, \"mode\": \"markers\", \"text\": \"Microstrategy appears with Qlik 50 times\", \"type\": \"scatter\", \"x\": [-0.08553830641473037], \"y\": [-0.8959258887517983]}, {\"hoverinfo\": \"text\", \"marker\": {\"color\": \"green\", \"size\": 0.5}, \"mode\": \"markers\", \"text\": \"Qlik appears with Oracle BI 412 times\", \"type\": \"scatter\", \"x\": [-0.6689358614897529], \"y\": [-0.6021003348387728]}, {\"hoverinfo\": \"text\", \"marker\": {\"color\": \"blue\", \"size\": 0.5}, \"mode\": \"markers\", \"text\": \"Oracle BI appears with Qlik 412 times\", \"type\": \"scatter\", \"x\": [0.31443851032242853], \"y\": [-0.8432843074706252]}, {\"hoverinfo\": \"text\", \"marker\": {\"color\": \"green\", \"size\": 0.5}, \"mode\": \"markers\", \"text\": \"Qlik appears with Python 57 times\", \"type\": \"scatter\", \"x\": [-0.7788132025135968], \"y\": [-0.45105431556578135]}, {\"hoverinfo\": \"text\", \"marker\": {\"color\": \"blue\", \"size\": 0.5}, \"mode\": \"markers\", \"text\": \"Python appears with Qlik 57 times\", \"type\": \"scatter\", \"x\": [0.5643767815366252], \"y\": [-0.7010555245216747]}, {\"hoverinfo\": \"text\", \"marker\": {\"color\": \"green\", \"size\": 0.5}, \"mode\": \"markers\", \"text\": \"Qlik appears with VBA 31 times\", \"type\": \"scatter\", \"x\": [-0.7886735525671367], \"y\": [-0.43358278042506715]}, {\"hoverinfo\": \"text\", \"marker\": {\"color\": \"blue\", \"size\": 0.5}, \"mode\": \"markers\", \"text\": \"VBA appears with Qlik 31 times\", \"type\": \"scatter\", \"x\": [0.8165248940048435], \"y\": [-0.3785328221837297]}, {\"hoverinfo\": \"text\", \"marker\": {\"color\": \"green\", \"size\": 0.5}, \"mode\": \"markers\", \"text\": \"Qlik appears with Linux 2 times\", \"type\": \"scatter\", \"x\": [-0.7959560079983816], \"y\": [-0.42006432046923525]}, {\"hoverinfo\": \"text\", \"marker\": {\"color\": \"blue\", \"size\": 0.5}, \"mode\": \"markers\", \"text\": \"Linux appears with Qlik 2 times\", \"type\": \"scatter\", \"x\": [0.8639030153443692], \"y\": [-0.2523322810876693]}, {\"hoverinfo\": \"text\", \"marker\": {\"color\": \"green\", \"size\": 0.5}, \"mode\": \"markers\", \"text\": \"Qlik appears with AWS 3 times\", \"type\": \"scatter\", \"x\": [-0.7957758606037961], \"y\": [-0.4204054943507371]}, {\"hoverinfo\": \"text\", \"marker\": {\"color\": \"blue\", \"size\": 0.5}, \"mode\": \"markers\", \"text\": \"AWS appears with Qlik 3 times\", \"type\": \"scatter\", \"x\": [0.8938636356329017], \"y\": [-0.10491806752476526]}, {\"hoverinfo\": \"text\", \"marker\": {\"color\": \"green\", \"size\": 0.5}, \"mode\": \"markers\", \"text\": \"Tableau appears with Microstrategy 71 times\", \"type\": \"scatter\", \"x\": [-0.5314556509085057], \"y\": [-0.7263297399373212]}, {\"hoverinfo\": \"text\", \"marker\": {\"color\": \"blue\", \"size\": 0.5}, \"mode\": \"markers\", \"text\": \"Microstrategy appears with Tableau 71 times\", \"type\": \"scatter\", \"x\": [-0.07323785379292531], \"y\": [-0.8970151708704854]}, {\"hoverinfo\": \"text\", \"marker\": {\"color\": \"green\", \"size\": 0.5}, \"mode\": \"markers\", \"text\": \"Tableau appears with Oracle BI 528 times\", \"type\": \"scatter\", \"x\": [-0.1827171978045734], \"y\": [-0.8812572981975494]}, {\"hoverinfo\": \"text\", \"marker\": {\"color\": \"blue\", \"size\": 0.5}, \"mode\": \"markers\", \"text\": \"Oracle BI appears with Tableau 528 times\", \"type\": \"scatter\", \"x\": [0.3836906100567467], \"y\": [-0.8141139451908938]}, {\"hoverinfo\": \"text\", \"marker\": {\"color\": \"green\", \"size\": 0.5}, \"mode\": \"markers\", \"text\": \"Tableau appears with Python 199 times\", \"type\": \"scatter\", \"x\": [-0.44187614295284394], \"y\": [-0.7840570606079112]}, {\"hoverinfo\": \"text\", \"marker\": {\"color\": \"blue\", \"size\": 0.5}, \"mode\": \"markers\", \"text\": \"Python appears with Tableau 199 times\", \"type\": \"scatter\", \"x\": [0.664041698476397], \"y\": [-0.6074937223417061]}, {\"hoverinfo\": \"text\", \"marker\": {\"color\": \"green\", \"size\": 0.5}, \"mode\": \"markers\", \"text\": \"Tableau appears with VBA 92 times\", \"type\": \"scatter\", \"x\": [-0.4993624193121691], \"y\": [-0.7487570862293709]}, {\"hoverinfo\": \"text\", \"marker\": {\"color\": \"blue\", \"size\": 0.5}, \"mode\": \"markers\", \"text\": \"VBA appears with Tableau 92 times\", \"type\": \"scatter\", \"x\": [0.8286628475555129], \"y\": [-0.3511664634915881]}, {\"hoverinfo\": \"text\", \"marker\": {\"color\": \"green\", \"size\": 0.5}, \"mode\": \"markers\", \"text\": \"Tableau appears with Linux 31 times\", \"type\": \"scatter\", \"x\": [-0.5690024631614856], \"y\": [-0.6973063866882062]}, {\"hoverinfo\": \"text\", \"marker\": {\"color\": \"blue\", \"size\": 0.5}, \"mode\": \"markers\", \"text\": \"Linux appears with Tableau 31 times\", \"type\": \"scatter\", \"x\": [0.8677424280523921], \"y\": [-0.23879505555546807]}, {\"hoverinfo\": \"text\", \"marker\": {\"color\": \"green\", \"size\": 0.5}, \"mode\": \"markers\", \"text\": \"Tableau appears with AWS 36 times\", \"type\": \"scatter\", \"x\": [-0.5609361901377399], \"y\": [-0.7038114737582483]}, {\"hoverinfo\": \"text\", \"marker\": {\"color\": \"blue\", \"size\": 0.5}, \"mode\": \"markers\", \"text\": \"AWS appears with Tableau 36 times\", \"type\": \"scatter\", \"x\": [0.8953201213666989], \"y\": [-0.09166177107125703]}, {\"hoverinfo\": \"text\", \"marker\": {\"color\": \"green\", \"size\": 0.5}, \"mode\": \"markers\", \"text\": \"Microstrategy appears with Oracle BI 72 times\", \"type\": \"scatter\", \"x\": [-0.06548188525388934], \"y\": [-0.8976146849866019]}, {\"hoverinfo\": \"text\", \"marker\": {\"color\": \"blue\", \"size\": 0.5}, \"mode\": \"markers\", \"text\": \"Oracle BI appears with Microstrategy 72 times\", \"type\": \"scatter\", \"x\": [-0.002322402604306493], \"y\": [-0.8999970035762027]}, {\"hoverinfo\": \"text\", \"marker\": {\"color\": \"green\", \"size\": 0.5}, \"mode\": \"markers\", \"text\": \"Microstrategy appears with Python 20 times\", \"type\": \"scatter\", \"x\": [-0.10846867970132935], \"y\": [-0.8934397268556231]}, {\"hoverinfo\": \"text\", \"marker\": {\"color\": \"blue\", \"size\": 0.5}, \"mode\": \"markers\", \"text\": \"Python appears with Microstrategy 20 times\", \"type\": \"scatter\", \"x\": [0.5470957731429866], \"y\": [-0.7146231279556223]}, {\"hoverinfo\": \"text\", \"marker\": {\"color\": \"green\", \"size\": 0.5}, \"mode\": \"markers\", \"text\": \"Microstrategy appears with VBA 7 times\", \"type\": \"scatter\", \"x\": [-0.11133027575563206], \"y\": [-0.8930876607031221]}, {\"hoverinfo\": \"text\", \"marker\": {\"color\": \"blue\", \"size\": 0.5}, \"mode\": \"markers\", \"text\": \"VBA appears with Microstrategy 7 times\", \"type\": \"scatter\", \"x\": [0.8120141492111213], \"y\": [-0.388114701449119]}, {\"hoverinfo\": \"text\", \"marker\": {\"color\": \"green\", \"size\": 0.5}, \"mode\": \"markers\", \"text\": \"Microstrategy appears with Linux 13 times\", \"type\": \"scatter\", \"x\": [-0.11025056082869274], \"y\": [-0.8932215927959639]}, {\"hoverinfo\": \"text\", \"marker\": {\"color\": \"blue\", \"size\": 0.5}, \"mode\": \"markers\", \"text\": \"Linux appears with Microstrategy 13 times\", \"type\": \"scatter\", \"x\": [0.8654305964447877], \"y\": [-0.247042269130647]}, {\"hoverinfo\": \"text\", \"marker\": {\"color\": \"green\", \"size\": 0.5}, \"mode\": \"markers\", \"text\": \"Microstrategy appears with AWS 2 times\", \"type\": \"scatter\", \"x\": [-0.11354318099989862], \"y\": [-0.8928090199188314]}, {\"hoverinfo\": \"text\", \"marker\": {\"color\": \"blue\", \"size\": 0.5}, \"mode\": \"markers\", \"text\": \"AWS appears with Microstrategy 2 times\", \"type\": \"scatter\", \"x\": [0.8937701462397527], \"y\": [-0.10571152108720766]}, {\"hoverinfo\": \"text\", \"marker\": {\"color\": \"green\", \"size\": 0.5}, \"mode\": \"markers\", \"text\": \"Oracle BI appears with Python 217 times\", \"type\": \"scatter\", \"x\": [0.14142523851346273], \"y\": [-0.888818824008251]}, {\"hoverinfo\": \"text\", \"marker\": {\"color\": \"blue\", \"size\": 0.5}, \"mode\": \"markers\", \"text\": \"Python appears with Oracle BI 217 times\", \"type\": \"scatter\", \"x\": [0.6855587046837978], \"y\": [-0.583103131900587]}, {\"hoverinfo\": \"text\", \"marker\": {\"color\": \"green\", \"size\": 0.5}, \"mode\": \"markers\", \"text\": \"Oracle BI appears with VBA 95 times\", \"type\": \"scatter\", \"x\": [0.04779295449514305], \"y\": [-0.8987301227290789]}, {\"hoverinfo\": \"text\", \"marker\": {\"color\": \"blue\", \"size\": 0.5}, \"mode\": \"markers\", \"text\": \"VBA appears with Oracle BI 95 times\", \"type\": \"scatter\", \"x\": [0.8335336921521855], \"y\": [-0.33944304978471085]}, {\"hoverinfo\": \"text\", \"marker\": {\"color\": \"green\", \"size\": 0.5}, \"mode\": \"markers\", \"text\": \"Oracle BI appears with Linux 10 times\", \"type\": \"scatter\", \"x\": [-0.03254195698113797], \"y\": [-0.8994114859372421]}, {\"hoverinfo\": \"text\", \"marker\": {\"color\": \"blue\", \"size\": 0.5}, \"mode\": \"markers\", \"text\": \"Linux appears with Oracle BI 10 times\", \"type\": \"scatter\", \"x\": [0.8645103712498807], \"y\": [-0.25024351740133716]}, {\"hoverinfo\": \"text\", \"marker\": {\"color\": \"green\", \"size\": 0.5}, \"mode\": \"markers\", \"text\": \"Oracle BI appears with AWS 56 times\", \"type\": \"scatter\", \"x\": [-0.01255747596929745], \"y\": [-0.8999123900676557]}, {\"hoverinfo\": \"text\", \"marker\": {\"color\": \"blue\", \"size\": 0.5}, \"mode\": \"markers\", \"text\": \"AWS appears with Oracle BI 56 times\", \"type\": \"scatter\", \"x\": [0.8967334899192002], \"y\": [-0.07660971255220585]}, {\"hoverinfo\": \"text\", \"marker\": {\"color\": \"green\", \"size\": 0.5}, \"mode\": \"markers\", \"text\": \"Python appears with VBA 76 times\", \"type\": \"scatter\", \"x\": [0.5895168119575513], \"y\": [-0.6800514160116168]}, {\"hoverinfo\": \"text\", \"marker\": {\"color\": \"blue\", \"size\": 0.5}, \"mode\": \"markers\", \"text\": \"VBA appears with Python 76 times\", \"type\": \"scatter\", \"x\": [0.8241462733201885], \"y\": [-0.36163921271405997]}, {\"hoverinfo\": \"text\", \"marker\": {\"color\": \"green\", \"size\": 0.5}, \"mode\": \"markers\", \"text\": \"Python appears with Linux 141 times\", \"type\": \"scatter\", \"x\": [0.6458103083856453], \"y\": [-0.6268405264362201]}, {\"hoverinfo\": \"text\", \"marker\": {\"color\": \"blue\", \"size\": 0.5}, \"mode\": \"markers\", \"text\": \"Linux appears with Python 141 times\", \"type\": \"scatter\", \"x\": [0.8885144049096199], \"y\": [-0.14332533714631263]}, {\"hoverinfo\": \"text\", \"marker\": {\"color\": \"green\", \"size\": 0.5}, \"mode\": \"markers\", \"text\": \"Python appears with AWS 131 times\", \"type\": \"scatter\", \"x\": [0.6151325674818028], \"y\": [-0.656971783582252]}, {\"hoverinfo\": \"text\", \"marker\": {\"color\": \"blue\", \"size\": 0.5}, \"mode\": \"markers\", \"text\": \"AWS appears with Python 131 times\", \"type\": \"scatter\", \"x\": [0.8992670321770042], \"y\": [-0.03631535267022773]}, {\"hoverinfo\": \"text\", \"marker\": {\"color\": \"green\", \"size\": 0.5}, \"mode\": \"markers\", \"text\": \"VBA appears with Linux 5 times\", \"type\": \"scatter\", \"x\": [0.8109572175002351], \"y\": [-0.3903183205849765]}, {\"hoverinfo\": \"text\", \"marker\": {\"color\": \"blue\", \"size\": 0.5}, \"mode\": \"markers\", \"text\": \"Linux appears with VBA 5 times\", \"type\": \"scatter\", \"x\": [0.8640363058091239], \"y\": [-0.25187548956522565]}, {\"hoverinfo\": \"text\", \"marker\": {\"color\": \"green\", \"size\": 0.5}, \"mode\": \"markers\", \"text\": \"VBA appears with AWS 5 times\", \"type\": \"scatter\", \"x\": [0.8106625637409784], \"y\": [-0.39092992690366396]}, {\"hoverinfo\": \"text\", \"marker\": {\"color\": \"blue\", \"size\": 0.5}, \"mode\": \"markers\", \"text\": \"AWS appears with VBA 5 times\", \"type\": \"scatter\", \"x\": [0.8939208174576562], \"y\": [-0.10442974727459566]}, {\"hoverinfo\": \"text\", \"marker\": {\"color\": \"green\", \"size\": 0.5}, \"mode\": \"markers\", \"text\": \"Linux appears with AWS 39 times\", \"type\": \"scatter\", \"x\": [0.8701495379593179], \"y\": [-0.22986905313500908]}, {\"hoverinfo\": \"text\", \"marker\": {\"color\": \"blue\", \"size\": 0.5}, \"mode\": \"markers\", \"text\": \"AWS appears with Linux 39 times\", \"type\": \"scatter\", \"x\": [0.896217647039134], \"y\": [-0.08242529427086229]}],\n",
       "                        {\"autosize\": false, \"font\": {\"color\": \"#655643\", \"family\": \"Fira Sans Condensed\", \"size\": 12}, \"height\": 525, \"hidesources\": true, \"hoverdistance\": 40, \"hovermode\": \"closest\", \"margin\": {\"b\": 10, \"l\": 280, \"r\": 280, \"t\": 80}, \"paper_bgcolor\": \"#fffaf0\", \"plot_bgcolor\": \"#fffaf0\", \"shapes\": [{\"fillcolor\": \"#f2e6ce\", \"layer\": \"below\", \"line\": {\"color\": \"rgb(175,175,175)\", \"width\": 0.5}, \"path\": \"M 0.9677245593828349,0.2520102719479864 Q 0.18251530385571652, 0.0817811950172867 0.8321888320457139, 0.5544923334171453L 0.8321888320457139, 0.5544923334171453 L 0.8455970319922944, 0.5338217487943169 L 0.8584919098130597, 0.5128271061337587 M 0.8584919098130597,0.5128271061337587 Q 0.182641083219704, 0.08149990625965878 0.9550541723247467, 0.2964313207559097L 0.9550541723247467, 0.2964313207559097 L 0.9616458912567832, 0.27429396608191553 L 0.9677245593828349, 0.2520102719479864 \", \"type\": \"path\"}, {\"fillcolor\": \"#f2e6ce\", \"layer\": \"below\", \"line\": {\"color\": \"rgb(175,175,175)\", \"width\": 0.5}, \"path\": \"M 0.9944175612031148,0.10551641564633245 Q 0.1441748534507573, 0.13861317265127673 0.14453473915912016, 0.9894997267186106L 0.14453473915912016, 0.9894997267186106 L 0.1593751486218238, 0.9872180924201964 L 0.1741796279759819, 0.984713896113053 M 0.1741796279759819,0.984713896113053 Q 0.14425792393738676, 0.13852671721106777 0.9909625913599597, 0.13413851991562117L 0.9909625913599597, 0.13413851991562117 L 0.9927932280999124, 0.11983991922124829 L 0.9944175612031148, 0.10551641564633245 \", \"type\": \"path\"}, {\"fillcolor\": \"#f2e6ce\", \"layer\": \"below\", \"line\": {\"color\": \"rgb(175,175,175)\", \"width\": 0.5}, \"path\": \"M 0.997007032594834,0.07731091097926336 Q 0.10131625973947873, 0.17243843977606177 -0.41775970461076667, 0.9085575541502723L -0.41775970461076667, 0.9085575541502723 L -0.4046052994709307, 0.9144914169307651 L -0.391366635640783, 0.9202348376948215 M -0.391366635640783,0.9202348376948215 Q 0.10136254367599332, 0.17241123727742447 0.9944175612031148, 0.10551641564633245L 0.9944175612031148, 0.10551641564633245 L 0.9958121639241069, 0.09142283183531183 L 0.997007032594834, 0.07731091097926336 \", \"type\": \"path\"}, {\"fillcolor\": \"#f2e6ce\", \"layer\": \"below\", \"line\": {\"color\": \"rgb(175,175,175)\", \"width\": 0.5}, \"path\": \"M 1.0,0.0 Q 0.07862081212754543, 0.18389879798521036 -0.6909383950202603, 0.7229136423438326L -0.6909383950202603, 0.7229136423438326 L -0.6906622914646335, 0.7231774326877336 L -0.690386087197654, 0.7234411175789728 M -0.690386087197654,0.7234411175789728 Q 0.07861352193494209, 0.18390191453322172 0.9999996446687888, 0.0008430078861573512L 0.9999996446687888, 0.0008430078861573512 L 0.9999999111671932, 0.0004215039805220572 L 1.0, 0.0 \", \"type\": \"path\"}, {\"fillcolor\": \"#f2e6ce\", \"layer\": \"below\", \"line\": {\"color\": \"rgb(175,175,175)\", \"width\": 0.5}, \"path\": \"M 0.999002040599999,0.04466455951913207 Q 0.049240811201415394, 0.1938436032275158 -0.8565739543347345, 0.5160242831062858L -0.8565739543347345, 0.5160242831062858 L -0.8532625555550754, 0.5214815541202028 L -0.8499163887420366, 0.5269175762372095 M -0.8499163887420366,0.5269175762372095 Q 0.049219914623784146, 0.19384891024823278 0.9983380220760221, 0.05762979851896141L 0.9983380220760221, 0.05762979851896141 L 0.9986910712769207, 0.05114825658569861 L 0.999002040599999, 0.04466455951913207 \", \"type\": \"path\"}, {\"fillcolor\": \"#f2e6ce\", \"layer\": \"below\", \"line\": {\"color\": \"rgb(175,175,175)\", \"width\": 0.5}, \"path\": \"M 0.9999975979618317,0.0021918190086705697 Q 0.03374179380160862, 0.19713318176057965 -0.9423433441078437, 0.3346476084116635L -0.9423433441078437, 0.3346476084116635 L -0.942120634399239, 0.3352740822658016 L -0.9418975082082094, 0.3359004079056264 M -0.9418975082082094,0.3359004079056264 Q 0.033690059768471725, 0.19714202969635067 0.99999181317958, 0.004046427290336558L 0.99999181317958, 0.004046427290336558 L 0.9999951355193746, 0.0031191244905735094 L 0.9999975979618317, 0.0021918190086705697 \", \"type\": \"path\"}, {\"fillcolor\": \"#f2e6ce\", \"layer\": \"below\", \"line\": {\"color\": \"rgb(175,175,175)\", \"width\": 0.5}, \"path\": \"M 0.99999181317958,0.004046427290336558 Q 0.024849141048782455, 0.1984502965206596 -0.9681203641245009, 0.2504854498118481L -0.9681203641245009, 0.2504854498118481 L -0.9679157420844986, 0.25127498129542125 L -0.967710476157769, 0.2520643456233031 M -0.967710476157769,0.2520643456233031 Q 0.02481024567467964, 0.19845516297028415 0.9999815796854725, 0.0060696202308666925L 0.9999815796854725, 0.0060696202308666925 L 0.9999872081029118, 0.005058026348677023 L 0.99999181317958, 0.004046427290336558 \", \"type\": \"path\"}, {\"fillcolor\": \"#f2e6ce\", \"layer\": \"below\", \"line\": {\"color\": \"rgb(175,175,175)\", \"width\": 0.5}, \"path\": \"M 0.9996541263052342,0.02629881672088868 Q 0.008901305715224917, 0.1998018187018429 -0.9933552159430931, 0.11508872646202596L -0.9933552159430931, 0.11508872646202596 L -0.9928752556312064, 0.11915841034214289 L -0.9923786222741496, 0.12322609323215838 M -0.9923786222741496,0.12322609323215838 Q 0.008861055552625641, 0.19980360781150397 0.9993910382969626, 0.0348934459708271L 0.9993910382969626, 0.0348934459708271 L 0.9995318201252235, 0.030596414122540765 L 0.9996541263052342, 0.02629881672088868 \", \"type\": \"path\"}, {\"fillcolor\": \"#f2e6ce\", \"layer\": \"below\", \"line\": {\"color\": \"rgb(175,175,175)\", \"width\": 0.5}, \"path\": \"M 0.9993910382969626,0.0348934459708271 Q -0.01635269471487623, 0.199330352369031 -0.9917155628021314, -0.12845326969778473L -0.9917155628021314, -0.12845326969778473 L -0.9923052491312082, -0.12381555858070047 L -0.9928732475431139, -0.11917514133908311 M -0.9928732475431139,-0.11917514133908311 Q -0.016395429144015587, 0.19932684190340139 0.999002040599999, 0.04466455951913207L 0.999002040599999, 0.04466455951913207 L 0.999208483306068, 0.039779478241766246 L 0.9993910382969626, 0.0348934459708271 \", \"type\": \"path\"}, {\"fillcolor\": \"#f2e6ce\", \"layer\": \"below\", \"line\": {\"color\": \"rgb(175,175,175)\", \"width\": 0.5}, \"path\": \"M 0.9999658741825531,0.008261384286082274 Q -0.03482449144167903, 0.19694480139325443 -0.9421637195299268, -0.3351529883523843L -0.9421637195299268, -0.3351529883523843 L -0.9428174738050555, -0.33330948244514946 L -0.9434676209466256, -0.3314647013262715 M -0.9434676209466256,-0.3314647013262715 Q -0.034870935460199544, 0.19693658334634173 0.9999200515380625, 0.012644782802340002L 0.9999200515380625, 0.012644782802340002 L 0.9999453647672402, 0.010453108652977099 L 0.9999658741825531, 0.008261384286082274 \", \"type\": \"path\"}, {\"fillcolor\": \"#f2e6ce\", \"layer\": \"below\", \"line\": {\"color\": \"rgb(175,175,175)\", \"width\": 0.5}, \"path\": \"M 0.9909625913599597,0.13413851991562117 Q -0.0746994151064467, 0.18552627140853872 -0.807433200555445, -0.5899590042035044L -0.807433200555445, -0.5899590042035044 L -0.8186629957390024, -0.5742742371094511 L -0.8295881498695771, -0.5583757709607142 M -0.8295881498695771,-0.5583757709607142 Q -0.0746394793191138, 0.1855503924193414 0.9851622613962727, 0.1716255188501469L 0.9851622613962727, 0.1716255188501469 L 0.9882401920547906, 0.15290952490773896 L 0.9909625913599597, 0.13413851991562117 \", \"type\": \"path\"}, {\"fillcolor\": \"#f2e6ce\", \"layer\": \"below\", \"line\": {\"color\": \"rgb(175,175,175)\", \"width\": 0.5}, \"path\": \"M 0.9776263014521938,0.21034926838214651 Q -0.12664215178962818, 0.15479588298818797 -0.39983732857445325, -0.9165861174371149L -0.39983732857445325, -0.9165861174371149 L -0.4201985162113571, -0.9074322051667407 L -0.44035028864315306, -0.8978260540282242 M -0.44035028864315306,-0.8978260540282242 Q -0.12650087738718188, 0.15491135536258527 0.9677245593828349, 0.2520102719479864L 0.9677245593828349, 0.2520102719479864 L 0.9728984544866052, 0.23123277721286614 L 0.9776263014521938, 0.21034926838214651 \", \"type\": \"path\"}, {\"fillcolor\": \"#f2e6ce\", \"layer\": \"below\", \"line\": {\"color\": \"rgb(175,175,175)\", \"width\": 0.5}, \"path\": \"M 0.9999200515380625,0.012644782802340002 Q -0.13487800838240127, 0.1476750583368664 -0.10298192935021602, -0.9946832270764935L -0.10298192935021602, -0.9946832270764935 L -0.10520620332108287, -0.9944504285195733 L -0.10742995109367026, -0.994212656129468 M -0.10742995109367026,-0.994212656129468 Q -0.13500830942421257, 0.1475559432432868 0.9998217142987974, 0.018882256661055207L 0.9998217142987974, 0.018882256661055207 L 0.9998757467946281, 0.015763596413406945 L 0.9999200515380625, 0.012644782802340002 \", \"type\": \"path\"}, {\"fillcolor\": \"#f2e6ce\", \"layer\": \"below\", \"line\": {\"color\": \"rgb(175,175,175)\", \"width\": 0.5}, \"path\": \"M 0.9851622613962727,0.1716255188501469 Q -0.1683303527039805, 0.10800413121058626 0.25456087290867413, -0.9670567522043233L 0.25456087290867413, -0.9670567522043233 L 0.2344014071039599, -0.9721398975187078 L 0.214140623065955, -0.9768028427236095 M 0.214140623065955,-0.9768028427236095 Q -0.16821529470527644, 0.10818324559383952 0.9776263014521938, 0.21034926838214651L 0.9776263014521938, 0.21034926838214651 L 0.9815852575332625, 0.19102455913666871 L 0.9851622613962727, 0.1716255188501469 \", \"type\": \"path\"}, {\"fillcolor\": \"#f2e6ce\", \"layer\": \"below\", \"line\": {\"color\": \"rgb(175,175,175)\", \"width\": 0.5}, \"path\": \"M 0.9983380220760221,0.05762979851896141 Q -0.18528466034148672, 0.07529671069933871 0.6751288232395971, -0.737699852264535L 0.6751288232395971, -0.737699852264535 L 0.6675956157725349, -0.744524072009287 L 0.6599934328672927, -0.7512713681300829 M 0.6599934328672927,-0.7512713681300829 Q -0.18526195334703083, 0.07535256227921233 0.997007032594834, 0.07731091097926336L 0.997007032594834, 0.07731091097926336 L 0.9977210573836653, 0.06747363672739769 L 0.9983380220760221, 0.05762979851896141 \", \"type\": \"path\"}, {\"fillcolor\": \"#f2e6ce\", \"layer\": \"below\", \"line\": {\"color\": \"rgb(175,175,175)\", \"width\": 0.5}, \"path\": \"M 0.9998217142987974,0.018882256661055207 Q -0.19600627204453053, 0.03976859714907594 0.9133994867457178, -0.40706434087581206L 0.9133994867457178, -0.40706434087581206 L 0.9120434170242487, -0.41009365450191054 L 0.9106773005369972, -0.4131184506732271 M 0.9106773005369972,-0.4131184506732271 Q -0.19602177673067825, 0.03969210308547691 0.9996541263052342, 0.02629881672088868L 0.9996541263052342, 0.02629881672088868 L 0.9997447977511961, 0.022590692096968748 L 0.9998217142987974, 0.018882256661055207 \", \"type\": \"path\"}, {\"fillcolor\": \"#f2e6ce\", \"layer\": \"below\", \"line\": {\"color\": \"rgb(175,175,175)\", \"width\": 0.5}, \"path\": \"M 0.9999815796854725,0.0060696202308666925 Q -0.1981400336783904, 0.027212626736982316 0.9613195664891164, -0.27543545720400153L 0.9613195664891164, -0.27543545720400153 L 0.961048654548557, -0.27637923871088477 L 0.9607768160448324, -0.2773227537558974 M 0.9607768160448324,-0.2773227537558974 Q -0.1981431350610287, 0.027190035457625668 0.9999658741825531, 0.008261384286082274L 0.9999658741825531, 0.008261384286082274 L 0.9999743274283186, 0.007165506561430839 L 0.9999815796854725, 0.0060696202308666925 \", \"type\": \"path\"}, {\"fillcolor\": \"#f2e6ce\", \"layer\": \"below\", \"line\": {\"color\": \"rgb(175,175,175)\", \"width\": 0.5}, \"path\": \"M 0.9999996446687888,0.0008430078861573512 Q -0.1996797375500835, 0.011313815091726185 0.9935043027203374, -0.11379455380718391L 0.9935043027203374, -0.11379455380718391 L 0.9934419901798818, -0.11433727365752454 L 0.9933793811688293, -0.11487995938645598 M 0.9933793811688293,-0.11487995938645598 Q -0.19968118544882185, 0.01128823182580982 0.9999975979618317, 0.0021918190086705697L 0.9999975979618317, 0.0021918190086705697 L 0.9999988487270285, 0.0015174137924920355 L 0.9999996446687888, 0.0008430078861573512 \", \"type\": \"path\"}, {\"fillcolor\": \"#ecd5bb\", \"layer\": \"below\", \"line\": {\"color\": \"rgb(175,175,175)\", \"width\": 0.5}, \"path\": \"M 0.5718682899792731,0.8203454509633012 Q 0.040280926968508234, 0.19590162562510224 -0.20180259583306337, 0.9794262158606115L -0.20180259583306337, 0.9794262158606115 L -0.14134631604615638, 0.9899602107863629 L -0.08035773637748246, 0.99676608800876 M -0.08035773637748246,0.99676608800876 Q 0.039990984612917696, 0.19596101946481445 0.46449856495310904, 0.8855738722187452L 0.46449856495310904, 0.8855738722187452 L 0.5192087742281315, 0.8546474412086665 L 0.5718682899792731, 0.8203454509633012 \", \"type\": \"path\"}, {\"fillcolor\": \"#ecd5bb\", \"layer\": \"below\", \"line\": {\"color\": \"rgb(175,175,175)\", \"width\": 0.5}, \"path\": \"M 0.8321888320457139,0.5544923334171453 Q 0.042426421487122, 0.19544819968420551 -0.5273946147404905, 0.8496204566409225L -0.5273946147404905, 0.8496204566409225 L -0.5061427142442411, 0.8624497392993243 L -0.48457891151592947, 0.8747475513049676 M -0.48457891151592947,0.8747475513049676 Q 0.042199042210383314, 0.19549741900221163 0.8022577798965546, 0.5969777672538998L 0.8022577798965546, 0.5969777672538998 L 0.8174993485284648, 0.5759295227330646 L 0.8321888320457139, 0.5544923334171453 \", \"type\": \"path\"}, {\"fillcolor\": \"#ecd5bb\", \"layer\": \"below\", \"line\": {\"color\": \"rgb(175,175,175)\", \"width\": 0.5}, \"path\": \"M 0.9289869663658735,0.37011243740562333 Q 0.048675678021000444, 0.1939862839718208 -0.644195779499104, 0.7648606393818038L -0.644195779499104, 0.7648606393818038 L -0.6400231993324789, 0.768355584554585 L -0.6358316584356873, 0.7718277671416878 M -0.6358316584356873,0.7718277671416878 Q 0.04835338693102395, 0.1940668698472222 0.9236348485533202, 0.38327361836928625L 0.9236348485533202, 0.38327361836928625 L 0.9263342816984111, 0.3767025332411353 L 0.9289869663658735, 0.37011243740562333 \", \"type\": \"path\"}, {\"fillcolor\": \"#ecd5bb\", \"layer\": \"below\", \"line\": {\"color\": \"rgb(175,175,175)\", \"width\": 0.5}, \"path\": \"M 0.8886390172653607,0.45860734511524565 Q 0.01890943778272862, 0.19910407620825124 -0.7864200274026745, 0.6176921081736246L -0.7864200274026745, 0.6176921081736246 L -0.7793402437466079, 0.6266009770794949 L -0.7721595423234217, 0.6354287066216666 M -0.7721595423234217,0.6354287066216666 Q 0.018507382191182264, 0.19914185096164372 0.8760320370478332, 0.4822529108940907L 0.8760320370478332, 0.4822529108940907 L 0.8824147328087628, 0.47047235765987333 L 0.8886390172653607, 0.45860734511524565 \", \"type\": \"path\"}, {\"fillcolor\": \"#ecd5bb\", \"layer\": \"below\", \"line\": {\"color\": \"rgb(175,175,175)\", \"width\": 0.5}, \"path\": \"M 0.8760320370478332,0.4822529108940907 Q -0.00879972213855571, 0.19980631844434804 -0.9150360751267443, 0.40337201342760887L -0.9150360751267443, 0.40337201342760887 L -0.9083613610592396, 0.4181861280992063 L -0.9014468306892145, 0.43288983753418225 M -0.9014468306892145,0.43288983753418225 Q -0.009074740844033797, 0.19979401662365576 0.8584919098130597, 0.5128271061337587L 0.8584919098130597, 0.5128271061337587 L 0.8673966946628923, 0.497617296813414 L 0.8760320370478332, 0.4822529108940907 \", \"type\": \"path\"}, {\"fillcolor\": \"#ecd5bb\", \"layer\": \"below\", \"line\": {\"color\": \"rgb(175,175,175)\", \"width\": 0.5}, \"path\": \"M 0.9379480905609314,0.34677569034334405 Q -0.004323949963608852, 0.19995325317861726 -0.9520621738390855, 0.305904588302946L -0.9520621738390855, 0.305904588302946 L -0.9507780830367102, 0.3098726138545301 L -0.9494774542900998, 0.31383524944593383 M -0.9494774542900998,0.31383524944593383 Q -0.004730665665428969, 0.1999440441782699 0.9335726844579523, 0.35838811759595585L 0.9335726844579523, 0.35838811759595585 L 0.935778400556721, 0.35258869104312596 L 0.9379480905609314, 0.34677569034334405 \", \"type\": \"path\"}, {\"fillcolor\": \"#ecd5bb\", \"layer\": \"below\", \"line\": {\"color\": \"rgb(175,175,175)\", \"width\": 0.5}, \"path\": \"M 0.9421187757481848,0.33527930503200076 Q -0.015883154080443312, 0.1993683159793875 -0.9833198781559622, 0.181884626132457L -0.9833198781559622, 0.181884626132457 L -0.9824687394964199, 0.1864274011842566 L -0.9815966140841901, 0.19096619391518885 M -0.9815966140841901,0.19096619391518885 Q -0.016180788850657365, 0.19934438058839393 0.9379480905609314, 0.34677569034334405L 0.9379480905609314, 0.34677569034334405 L 0.9400510077475327, 0.3410338734390591 L 0.9421187757481848, 0.33527930503200076 \", \"type\": \"path\"}, {\"fillcolor\": \"#ecd5bb\", \"layer\": \"below\", \"line\": {\"color\": \"rgb(175,175,175)\", \"width\": 0.5}, \"path\": \"M 0.9165208587612966,0.3999868941046137 Q -0.037192086663197226, 0.1965114467140203 -0.9993005506147224, 0.03739531442724588L -0.9993005506147224, 0.03739531442724588 L -0.9989085984205934, 0.04670772956808806 L -0.9984298663393738, 0.056016086988829934 M -0.9984298663393738,0.056016086988829934 Q -0.03741027864579939, 0.19647002583509693 0.9079773837762727, 0.41901917682940854L 0.9079773837762727, 0.41901917682940854 L 0.9122987538093532, 0.4095253152100626 L 0.9165208587612966, 0.3999868941046137 \", \"type\": \"path\"}, {\"fillcolor\": \"#ecd5bb\", \"layer\": \"below\", \"line\": {\"color\": \"rgb(175,175,175)\", \"width\": 0.5}, \"path\": \"M 0.9079773837762727,0.41901917682940854 Q -0.06349499338602982, 0.18965333061907463 -0.9772388797625206, -0.2121418673446943L -0.9772388797625206, -0.2121418673446943 L -0.9792614154984477, -0.2026007900181453 L -0.9811908011393988, -0.19304044073567753 M -0.9811908011393988,-0.19304044073567753 Q -0.06370881078457097, 0.18958161152499928 0.89864462891165, 0.43867736541590907L 0.89864462891165, 0.43867736541590907 L 0.9033644808585103, 0.4288736582295936 L 0.9079773837762727, 0.41901917682940854 \", \"type\": \"path\"}, {\"fillcolor\": \"#ecd5bb\", \"layer\": \"below\", \"line\": {\"color\": \"rgb(175,175,175)\", \"width\": 0.5}, \"path\": \"M 0.89864462891165,0.43867736541590907 Q -0.08578654580959037, 0.18066728690623285 -0.9079225760045453, -0.41913791999921773L -0.9079225760045453, -0.41913791999921773 L -0.911792977862126, -0.41065017414012694 L -0.9155840338167935, -0.4021266927471598 M -0.9155840338167935,-0.4021266927471598 Q -0.08611556873480418, 0.18051068893968916 0.8886390172653607, 0.45860734511524565L 0.8886390172653607, 0.45860734511524565 L 0.89369738110596, 0.4486702475140831 L 0.89864462891165, 0.43867736541590907 \", \"type\": \"path\"}, {\"fillcolor\": \"#ecd5bb\", \"layer\": \"below\", \"line\": {\"color\": \"rgb(175,175,175)\", \"width\": 0.5}, \"path\": \"M 0.7105273270794084,0.703669608178008 Q -0.1456636145470565, 0.137047843460182 -0.6590965900286703, -0.7520582989453537L -0.6590965900286703, -0.7520582989453537 L -0.6897280164232487, -0.7240685487996636 L -0.7191719309214113, -0.6948321623059548 M -0.7191719309214113,-0.6948321623059548 Q -0.1459410491957449, 0.13675236802207544 0.6466628531124895, 0.7627759529536933L 0.6466628531124895, 0.7627759529536933 L 0.6792383133337774, 0.7339177840190857 L 0.7105273270794084, 0.703669608178008 \", \"type\": \"path\"}, {\"fillcolor\": \"#ecd5bb\", \"layer\": \"below\", \"line\": {\"color\": \"rgb(175,175,175)\", \"width\": 0.5}, \"path\": \"M 0.6466628531124895,0.7627759529536933 Q -0.17767301226043564, 0.09182755966649173 -0.24822505827325753, -0.9687023900276276L -0.24822505827325753, -0.9687023900276276 L -0.2926443935094791, -0.9562213441183318 L -0.33644073160195037, -0.9417046427193319 M -0.33644073160195037,-0.9417046427193319 Q -0.1777708262873997, 0.09163805607440155 0.5718682899792731, 0.8203454509633012L 0.5718682899792731, 0.8203454509633012 L 0.6099451601958974, 0.7924436267354297 L 0.6466628531124895, 0.7627759529536933 \", \"type\": \"path\"}, {\"fillcolor\": \"#ecd5bb\", \"layer\": \"below\", \"line\": {\"color\": \"rgb(175,175,175)\", \"width\": 0.5}, \"path\": \"M 0.945271777943773,0.326284026306864 Q -0.15774160106660828, 0.12295359812930651 -0.08565191408246045, -0.9963251224444813L -0.08565191408246045, -0.9963251224444813 L -0.0888432227081665, -0.9960456223380669 L -0.09203361957398683, -0.9957559002426803 M -0.09203361957398683,-0.9957559002426803 Q -0.15793351418962107, 0.12270698878106645 0.9421187757481848, 0.33527930503200076L 0.9421187757481848, 0.33527930503200076 L 0.9437059946303428, 0.33078542243991876 L 0.945271777943773, 0.326284026306864 \", \"type\": \"path\"}, {\"fillcolor\": \"#ecd5bb\", \"layer\": \"below\", \"line\": {\"color\": \"rgb(175,175,175)\", \"width\": 0.5}, \"path\": \"M 0.46449856495310904,0.8855738722187452 Q -0.19953453538118282, -0.013637052108703605 0.5806645523722214, -0.8141429098250306L 0.5806645523722214, -0.8141429098250306 L 0.5256173107580189, -0.8507211309421603 L 0.4682740859670784, -0.8835832617312854 M 0.4682740859670784,-0.8835832617312854 Q -0.19952357529105857, -0.013796481546875676 0.3422044408264565, 0.9396255215130399L 0.3422044408264565, 0.9396255215130399 L 0.4042558967798798, 0.9146459259837629 L 0.46449856495310904, 0.8855738722187452 \", \"type\": \"path\"}, {\"fillcolor\": \"#ecd5bb\", \"layer\": \"below\", \"line\": {\"color\": \"rgb(175,175,175)\", \"width\": 0.5}, \"path\": \"M 0.7673995835033584,0.6411691502551197 Q -0.1988482546764746, -0.02143295621513511 0.8864036346832505, -0.46291316293698387L 0.8864036346832505, -0.46291316293698387 L 0.8667682158089213, -0.4987111990555448 L 0.8456878517914489, -0.5336778591363561 M 0.8456878517914489,-0.5336778591363561 Q -0.1988173643778965, -0.021717633891074332 0.7105273270794084, 0.703669608178008L 0.7105273270794084, 0.703669608178008 L 0.7396239348928095, 0.6730203822572367 L 0.7673995835033584, 0.6411691502551197 \", \"type\": \"path\"}, {\"fillcolor\": \"#ecd5bb\", \"layer\": \"below\", \"line\": {\"color\": \"rgb(175,175,175)\", \"width\": 0.5}, \"path\": \"M 0.8022577798965546,0.5969777672538998 Q -0.19738160965183432, -0.03225678488707312 0.950565083626443, -0.31052539636920745L 0.950565083626443, -0.31052539636920745 L 0.9429693119727135, -0.33287967297164206 L 0.9348479203328239, -0.3550483993054947 M 0.9348479203328239,-0.3550483993054947 Q -0.19723326216358814, -0.033151776668970796 0.7673995835033584, 0.6411691502551197L 0.7673995835033584, 0.6411691502551197 L 0.7851396558586132, 0.6193187554064694 L 0.8022577798965546, 0.5969777672538998 \", \"type\": \"path\"}, {\"fillcolor\": \"#ecd5bb\", \"layer\": \"below\", \"line\": {\"color\": \"rgb(175,175,175)\", \"width\": 0.5}, \"path\": \"M 0.9236348485533202,0.38327361836928625 Q -0.19913526661477307, -0.01857809436576464 0.9785924918831904, -0.20580751888560325L 0.9785924918831904, -0.20580751888560325 L 0.9769940165570021, -0.2132667147302087 L 0.9753386853317003, -0.22071349957678282 M 0.9753386853317003,-0.22071349957678282 Q -0.19910804889034506, -0.018867561238272768 0.9165208587612966, 0.3999868941046137L 0.9165208587612966, 0.3999868941046137 L 0.9201158025961138, 0.391646409166367 L 0.9236348485533202, 0.38327361836928625 \", \"type\": \"path\"}, {\"fillcolor\": \"#ecd5bb\", \"layer\": \"below\", \"line\": {\"color\": \"rgb(175,175,175)\", \"width\": 0.5}, \"path\": \"M 0.9335726844579523,0.35838811759595585 Q -0.1978327277064568, -0.02936344407972133 0.9974205419476838, -0.07177926233104387L 0.9974205419476838, -0.07177926233104387 L 0.9970660439066062, -0.07654609126813448 L 0.9966887645745403, -0.08131117125510304 M 0.9966887645745403,-0.08131117125510304 Q -0.19778802529954057, -0.029663058643846975 0.9289869663658735, 0.37011243740562333L 0.9289869663658735, 0.37011243740562333 L 0.9312982756013203, 0.3642574938995864 L 0.9335726844579523, 0.35838811759595585 \", \"type\": \"path\"}, {\"fillcolor\": \"#e6c4a9\", \"layer\": \"below\", \"line\": {\"color\": \"rgb(175,175,175)\", \"width\": 0.5}, \"path\": \"M 0.03668124006655194,0.9993270168604369 Q -0.05648231276758027, 0.1918586676291307 -0.5722965411636978, 0.8200467480406638L -0.5722965411636978, 0.8200467480406638 L -0.5500443715315754, 0.8351354317393282 L -0.5273946147404905, 0.8496204566409225 M -0.5273946147404905,0.8496204566409225 Q -0.05659687903623505, 0.1918249026674008 -0.018276414154611707, 0.9998329723937139L -0.018276414154611707, 0.9998329723937139 L 0.009205889525875385, 0.9999576249011942 L 0.03668124006655194, 0.9993270168604369 \", \"type\": \"path\"}, {\"fillcolor\": \"#e6c4a9\", \"layer\": \"below\", \"line\": {\"color\": \"rgb(175,175,175)\", \"width\": 0.5}, \"path\": \"M 0.2884022532244425,0.957509342165947 Q -0.03939350694072933, 0.19608200226158115 -0.6358316584356873, 0.7718277671416878L -0.6358316584356873, 0.7718277671416878 L -0.6323154174727356, 0.7747110511837818 L -0.6287861019485065, 0.7775783163105838 M -0.6287861019485065,0.7775783163105838 Q -0.039638186772455036, 0.1960326864310949 0.27728515148844907, 0.9607876689279624L 0.27728515148844907, 0.9607876689279624 L 0.28284845203622977, 0.9591646121394953 L 0.2884022532244425, 0.957509342165947 \", \"type\": \"path\"}, {\"fillcolor\": \"#e6c4a9\", \"layer\": \"below\", \"line\": {\"color\": \"rgb(175,175,175)\", \"width\": 0.5}, \"path\": \"M 0.22733198128739301,0.9738173187430733 Q -0.060886087079829315, 0.19050691431049804 -0.7499707785231566, 0.6614709603311172L -0.7499707785231566, 0.6614709603311172 L -0.7453555551529509, 0.6666671556351312 L -0.7407043305635372, 0.6718311504272648 M -0.7407043305635372,0.6718311504272648 Q -0.061084278353214616, 0.19044345863816642 0.21174124283742213, 0.9773257625181401L 0.21174124283742213, 0.9773257625181401 L 0.21954362056382049, 0.9756026848413903 L 0.22733198128739301, 0.9738173187430733 \", \"type\": \"path\"}, {\"fillcolor\": \"#e6c4a9\", \"layer\": \"below\", \"line\": {\"color\": \"rgb(175,175,175)\", \"width\": 0.5}, \"path\": \"M 0.14453473915912016,0.9894997267186106 Q -0.09124974216787916, 0.17797045977997467 -0.8878230355281255, 0.4601850253817749L -0.8878230355281255, 0.4601850253817749 L -0.8811320565049261, 0.47287027713676366 L -0.874259842000006, 0.48545826665752084 M -0.874259842000006,0.48545826665752084 Q -0.09140075194107128, 0.1778929524871819 0.1144106071149744, 0.9934335473395203L 0.1144106071149744, 0.9934335473395203 L 0.12948761263310887, 0.9915810396405217 L 0.14453473915912016, 0.9894997267186106 \", \"type\": \"path\"}, {\"fillcolor\": \"#e6c4a9\", \"layer\": \"below\", \"line\": {\"color\": \"rgb(175,175,175)\", \"width\": 0.5}, \"path\": \"M 0.26562292320501363,0.9640770003832803 Q -0.09585359567957809, 0.1755337238119672 -0.9546526623226907, 0.29772184051593953L -0.9546526623226907, 0.29772184051593953 L -0.9533661971929747, 0.30181599369451256 L -0.9520621738390855, 0.305904588302946 M -0.9520621738390855,0.305904588302946 Q -0.09619443256877275, 0.17534717318158236 0.2535819638796472, 0.9673139033400384L 0.2535819638796472, 0.9673139033400384 L 0.2596074884866319, 0.9657142185562265 L 0.26562292320501363, 0.9640770003832803 \", \"type\": \"path\"}, {\"fillcolor\": \"#e6c4a9\", \"layer\": \"below\", \"line\": {\"color\": \"rgb(175,175,175)\", \"width\": 0.5}, \"path\": \"M 0.30182544466011246,0.9533632051614565 Q -0.09882960708311099, 0.17387555539464972 -0.973556777390674, 0.22844518203867992L -0.973556777390674, 0.22844518203867992 L -0.9729478059055224, 0.2310250354044552 L -0.9723319980126743, 0.23360326547520832 M -0.9723319980126743,0.23360326547520832 Q -0.0989641053825906, 0.1737990386792272 0.29528891685348807, 0.9554080047725652L 0.29528891685348807, 0.9554080047725652 L 0.2985589313398799, 0.9543912009847895 L 0.30182544466011246, 0.9533632051614565 \", \"type\": \"path\"}, {\"fillcolor\": \"#e6c4a9\", \"layer\": \"below\", \"line\": {\"color\": \"rgb(175,175,175)\", \"width\": 0.5}, \"path\": \"M 0.2535819638796472,0.9673139033400384 Q -0.11455718435337468, 0.16394100009767823 -0.9955274513376249, 0.09447271369667007L -0.9955274513376249, 0.09447271369667007 L -0.9949642456349556, 0.10023048392611796 L -0.9943677393558682, 0.10598489952960412 M -0.9943677393558682,0.10598489952960412 Q -0.11464517361960591, 0.16387948061221824 0.24133116337617389, 0.9704428213880004L 0.24133116337617389, 0.9704428213880004 L 0.2474615089555786, 0.9688977250388341 L 0.2535819638796472, 0.9673139033400384 \", \"type\": \"path\"}, {\"fillcolor\": \"#e6c4a9\", \"layer\": \"below\", \"line\": {\"color\": \"rgb(175,175,175)\", \"width\": 0.5}, \"path\": \"M 0.27728515148844907,0.9607876689279624 Q -0.13191922478228874, 0.15032404376160183 -0.98866118952214, -0.1501634187565905L -0.98866118952214, -0.1501634187565905 L -0.9894810586504997, -0.1446624850190477 L -0.990270320698192, -0.13915707651535406 M -0.990270320698192,-0.13915707651535406 Q -0.13199391194763563, 0.15025846801015846 0.26562292320501363, 0.9640770003832803L 0.26562292320501363, 0.9640770003832803 L 0.2714590195907963, 0.9624499990559529 L 0.27728515148844907, 0.9607876689279624 \", \"type\": \"path\"}, {\"fillcolor\": \"#e6c4a9\", \"layer\": \"below\", \"line\": {\"color\": \"rgb(175,175,175)\", \"width\": 0.5}, \"path\": \"M 0.24133116337617389,0.9704428213880004 Q -0.15111495012691348, 0.13101248737483176 -0.9264212255289087, -0.3764886623651698L -0.9264212255289087, -0.3764886623651698 L -0.9287261048871223, -0.37076653314612146 L -0.93099564135827, -0.3650302943207641 M -0.93099564135827,-0.3650302943207641 Q -0.15124997446317398, 0.13085658265784425 0.22733198128739301, 0.9738173187430733L 0.22733198128739301, 0.9738173187430733 L 0.23433764656918807, 0.9721552691830736 L 0.24133116337617389, 0.9704428213880004 \", \"type\": \"path\"}, {\"fillcolor\": \"#e6c4a9\", \"layer\": \"below\", \"line\": {\"color\": \"rgb(175,175,175)\", \"width\": 0.5}, \"path\": \"M 0.21174124283742213,0.9773257625181401 Q -0.16553289704643323, 0.11224464350433364 -0.8295881498695771, -0.5583757709607142L -0.8295881498695771, -0.5583757709607142 L -0.8347228172301344, -0.5506703354961002 L -0.8397859166711956, -0.5429176863583647 M -0.8397859166711956,-0.5429176863583647 Q -0.1655579867368863, 0.11220763355328811 0.19316810061456643, 0.981165676583196L 0.19316810061456643, 0.981165676583196 L 0.20246377537398352, 0.9792897526581769 L 0.21174124283742213, 0.9773257625181401 \", \"type\": \"path\"}, {\"fillcolor\": \"#e6c4a9\", \"layer\": \"below\", \"line\": {\"color\": \"rgb(175,175,175)\", \"width\": 0.5}, \"path\": \"M 0.07630379500956494,0.997084615700763 Q -0.19295637578944286, 0.052610237047587154 -0.44035028864315306, -0.8978260540282242L -0.44035028864315306, -0.8978260540282242 L -0.45809641034843057, -0.8889025136795836 L -0.47566178809574716, -0.8796282529259486 M -0.47566178809574716,-0.8796282529259486 Q -0.19295535305883693, 0.05261398793039343 0.03668124006655194, 0.9993270168604369L 0.03668124006655194, 0.9993270168604369 L 0.056503642612915385, 0.9984023930116914 L 0.07630379500956494, 0.997084615700763 \", \"type\": \"path\"}, {\"fillcolor\": \"#e6c4a9\", \"layer\": \"below\", \"line\": {\"color\": \"rgb(175,175,175)\", \"width\": 0.5}, \"path\": \"M 0.29528891685348807,0.9554080047725652 Q -0.19605361689372136, 0.039534533042517805 -0.09805063770633442, -0.9951814268993273L -0.09805063770633442, -0.9951814268993273 L -0.10051659218806853, -0.9949353821705696 L -0.10298192935021602, -0.9946832270764935 M -0.10298192935021602,-0.9946832270764935 Q -0.19609784608483144, 0.03931456169016465 0.2884022532244425, 0.957509342165947L 0.2884022532244425, 0.957509342165947 L 0.29184747628075547, 0.9564648715915048 L 0.29528891685348807, 0.9554080047725652 \", \"type\": \"path\"}, {\"fillcolor\": \"#e6c4a9\", \"layer\": \"below\", \"line\": {\"color\": \"rgb(175,175,175)\", \"width\": 0.5}, \"path\": \"M -0.018276414154611707,0.9998329723937139 Q -0.1971409854602681, -0.03369616968966017 0.314850494574829, -0.9491412782436478L 0.314850494574829, -0.9491412782436478 L 0.28484656818481624, -0.9585731232375195 L 0.25456087290867413, -0.9670567522043233 M 0.25456087290867413,-0.9670567522043233 Q -0.19715341438889378, -0.03362337274577223 -0.08035773637748246, 0.99676608800876L -0.08035773637748246, 0.99676608800876 L -0.049340909575671915, 0.9987819955537071 L -0.018276414154611707, 0.9998329723937139 \", \"type\": \"path\"}, {\"fillcolor\": \"#e6c4a9\", \"layer\": \"below\", \"line\": {\"color\": \"rgb(175,175,175)\", \"width\": 0.5}, \"path\": \"M 0.1144106071149744,0.9934335473395203 Q -0.18389717610622341, -0.07862460569158143 0.7972422514058606, -0.6036595005243557L 0.7972422514058606, -0.6036595005243557 L 0.7856670915205625, -0.618649514104408 L 0.7738101247653549, -0.6334176274864994 M 0.7738101247653549,-0.6334176274864994 Q -0.1838812454176275, -0.07866185596375323 0.07630379500956494, 0.997084615700763L 0.07630379500956494, 0.997084615700763 L 0.09537467362709422, 0.995441445606182 L 0.1144106071149744, 0.9934335473395203 \", \"type\": \"path\"}, {\"fillcolor\": \"#e6c4a9\", \"layer\": \"below\", \"line\": {\"color\": \"rgb(175,175,175)\", \"width\": 0.5}, \"path\": \"M 0.19316810061456643,0.981165676583196 Q -0.17486818464537945, -0.09706244381237002 0.9348479203328239, -0.3550483993054947L 0.9348479203328239, -0.3550483993054947 L 0.9318697703677036, -0.3627929589653627 L 0.9288274634225828, -0.37051254120740706 M 0.9288274634225828,-0.37051254120740706 Q -0.17473589614294566, -0.09730039362264528 0.1741796279759819, 0.984713896113053L 0.1741796279759819, 0.984713896113053 L 0.18368243217743171, 0.982985637794054 L 0.19316810061456643, 0.981165676583196 \", \"type\": \"path\"}, {\"fillcolor\": \"#e6c4a9\", \"layer\": \"below\", \"line\": {\"color\": \"rgb(175,175,175)\", \"width\": 0.5}, \"path\": \"M 0.3125212327124233,0.9499107742856207 Q -0.1763692983016347, -0.09430732005835497 0.9635343615998452, -0.26758462963402596L 0.9635343615998452, -0.26758462963402596 L 0.9630070242444775, -0.2694762907118107 L 0.9624759730849556, -0.2713669125633555 M 0.9624759730849556,-0.2713669125633555 Q -0.17633918818359193, -0.09436360903839872 0.3081807537375134, 0.9513278210090242L 0.3081807537375134, 0.9513278210090242 L 0.31035180199425044, 0.9506217749446525 L 0.3125212327124233, 0.9499107742856207 \", \"type\": \"path\"}, {\"fillcolor\": \"#e6c4a9\", \"layer\": \"below\", \"line\": {\"color\": \"rgb(175,175,175)\", \"width\": 0.5}, \"path\": \"M 0.3081807537375134,0.9513278210090242 Q -0.1671201950831368, -0.10986737639251383 0.9955499544190095, -0.09423528137756078L 0.9955499544190095, -0.09423528137756078 L 0.995302076104514, -0.09681826946420895 L 0.9950474961512992, -0.09940060564719998 M 0.9950474961512992,-0.09940060564719998 Q -0.16703865019680936, -0.10999131484089082 0.30182544466011246, 0.9533632051614565L 0.30182544466011246, 0.9533632051614565 L 0.30500479704103484, 0.9523508144491488 L 0.3081807537375134, 0.9513278210090242 \", \"type\": \"path\"}, {\"fillcolor\": \"#e1b396\", \"layer\": \"below\", \"line\": {\"color\": \"rgb(175,175,175)\", \"width\": 0.5}, \"path\": \"M -0.3108106708670387,0.9504718443358443 Q -0.09853724172376283, 0.1740414088470693 -0.6550902211283739, 0.755550661558825L -0.6550902211283739, 0.755550661558825 L -0.6496596776608525, 0.7602251661327697 L -0.644195779499104, 0.7648606393818038 M -0.644195779499104,0.7648606393818038 Q -0.0988448135502073, 0.17386691126900702 -0.32774215178215793, 0.9447672104519721L -0.32774215178215793, 0.9447672104519721 L -0.319289151930114, 0.9476573417959409 L -0.3108106708670387, 0.9504718443358443 \", \"type\": \"path\"}, {\"fillcolor\": \"#e1b396\", \"layer\": \"below\", \"line\": {\"color\": \"rgb(175,175,175)\", \"width\": 0.5}, \"path\": \"M -0.32774215178215793,0.9447672104519721 Q -0.11281125338326901, 0.16514727097380655 -0.7608792766973357, 0.6488934629756562L -0.7608792766973357, 0.6488934629756562 L -0.755451203387666, 0.6552049139773962 L -0.7499707785231566, 0.6614709603311172 M -0.7499707785231566,0.6614709603311172 Q -0.1129826743686762, 0.1650300436057074 -0.3453752668092093, 0.9384646637335193L -0.3453752668092093, 0.9384646637335193 L -0.336573462005787, 0.9416572118735347 L -0.32774215178215793, 0.9447672104519721 \", \"type\": \"path\"}, {\"fillcolor\": \"#e1b396\", \"layer\": \"below\", \"line\": {\"color\": \"rgb(175,175,175)\", \"width\": 0.5}, \"path\": \"M -0.4514859063264989,0.8922782505410181 Q -0.1475978834769238, 0.13496245697649562 -0.9290150250215946, 0.3700420020539911L -0.9290150250215946, 0.3700420020539911 L -0.9221761422874246, 0.38677016766535094 L -0.9150360751267443, 0.40337201342760887 M -0.9150360751267443,0.40337201342760887 Q -0.1476860524404367, 0.1348659701872959 -0.48457891151592947, 0.8747475513049676L -0.48457891151592947, 0.8747475513049676 L -0.46811448082122037, 0.8836678294729753 L -0.4514859063264989, 0.8922782505410181 \", \"type\": \"path\"}, {\"fillcolor\": \"#e1b396\", \"layer\": \"below\", \"line\": {\"color\": \"rgb(175,175,175)\", \"width\": 0.5}, \"path\": \"M -0.23246753933518188,0.9726041554278111 Q -0.13381087806011618, 0.1486426887296537 -0.9429083615413772, 0.3330522807838964L -0.9429083615413772, 0.3330522807838964 L -0.9426261903219558, 0.3338500641292674 L -0.9423433441078437, 0.3346476084116635 M -0.9423433441078437,0.3346476084116635 Q -0.13386384074187718, 0.1485949936634251 -0.23480613391751645, 0.9720422210350276L -0.23480613391751645, 0.9720422210350276 L -0.23363700556917952, 0.9723238913184573 L -0.23246753933518188, 0.9726041554278111 \", \"type\": \"path\"}, {\"fillcolor\": \"#e1b396\", \"layer\": \"below\", \"line\": {\"color\": \"rgb(175,175,175)\", \"width\": 0.5}, \"path\": \"M -0.2479766392679813,0.968766012191467 Q -0.14498840979706093, 0.13776197234548992 -0.9801683842825721, 0.19816644128835714L -0.9801683842825721, 0.19816644128835714 L -0.9794481700522709, 0.20169601429194814 L -0.9787152459206003, 0.20522296996822456 M -0.9787152459206003,0.20522296996822456 Q -0.14511926220068275, 0.1376241248412846 -0.2567870958013924, 0.9664679960712028L -0.2567870958013924, 0.9664679960712028 L -0.25238448304089245, 0.9676270318258897 L -0.2479766392679813, 0.968766012191467 \", \"type\": \"path\"}, {\"fillcolor\": \"#e1b396\", \"layer\": \"below\", \"line\": {\"color\": \"rgb(175,175,175)\", \"width\": 0.5}, \"path\": \"M -0.2657418874010362,0.9640442154178069 Q -0.1524513712968157, 0.1294549318864308 -0.9943677393558682, 0.10598489952960412L -0.9943677393558682, 0.10598489952960412 L -0.9938719015405421, 0.11053797233614854 L -0.9933552159430931, 0.11508872646202596 M -0.9933552159430931,0.11508872646202596 Q -0.1524923004059915, 0.1294067166606465 -0.27516934025148587, 0.9613957739586554L -0.27516934025148587, 0.9613957739586554 L -0.27045885567065514, 0.9627315344317541 L -0.2657418874010362, 0.9640442154178069 \", \"type\": \"path\"}, {\"fillcolor\": \"#e1b396\", \"layer\": \"below\", \"line\": {\"color\": \"rgb(175,175,175)\", \"width\": 0.5}, \"path\": \"M -0.2567870958013924,0.9664679960712028 Q -0.16553766929415065, 0.11223760530526486 -0.9928732475431139, -0.11917514133908311L -0.9928732475431139, -0.11917514133908311 L -0.9933825668245608, -0.11485240933061441 L -0.9938730660578987, -0.11052750139522571 M -0.9938730660578987,-0.11052750139522571 Q -0.16556974982018496, 0.11219027562351991 -0.2657418874010362, 0.9640442154178069L -0.2657418874010362, 0.9640442154178069 L -0.26126730229748407, 0.9652664900172362 L -0.2567870958013924, 0.9664679960712028 \", \"type\": \"path\"}, {\"fillcolor\": \"#e1b396\", \"layer\": \"below\", \"line\": {\"color\": \"rgb(175,175,175)\", \"width\": 0.5}, \"path\": \"M -0.2982106375127144,0.9545000867858842 Q -0.18033603363386114, 0.08648072023987145 -0.93099564135827, -0.3650302943207641L -0.93099564135827, -0.3650302943207641 L -0.9330945384014434, -0.3596311755193052 L -0.9351621246617962, -0.3542199889871197 M -0.9351621246617962,-0.3542199889871197 Q -0.18040701170236084, 0.08633255543897816 -0.3108106708670387, 0.9504718443358443L -0.3108106708670387, 0.9504718443358443 L -0.30451731510614566, 0.9525068003959575 L -0.2982106375127144, 0.9545000867858842 \", \"type\": \"path\"}, {\"fillcolor\": \"#e1b396\", \"layer\": \"below\", \"line\": {\"color\": \"rgb(175,175,175)\", \"width\": 0.5}, \"path\": \"M -0.2858876916929246,0.9582631307414948 Q -0.18653177520148334, 0.0721519011543236 -0.8563176727036778, -0.5164494587230749L -0.8563176727036778, -0.5164494587230749 L -0.8596208398138281, -0.5109324923683841 L -0.8628884634670133, -0.5053944000634918 M -0.8628884634670133,-0.5053944000634918 Q -0.18653265223625423, 0.07214963374618508 -0.2982106375127144, 0.9545000867858842L -0.2982106375127144, 0.9545000867858842 L -0.29205522537725237, 0.9564014561520922 L -0.2858876916929246, 0.9582631307414948 \", \"type\": \"path\"}, {\"fillcolor\": \"#e1b396\", \"layer\": \"below\", \"line\": {\"color\": \"rgb(175,175,175)\", \"width\": 0.5}, \"path\": \"M -0.3676850243978966,0.9299503872968268 Q -0.19940601489745333, 0.015402636875438955 -0.5061350005687585, -0.8624542661493784L -0.5061350005687585, -0.8624542661493784 L -0.5173859706320233, -0.8557521588597712 L -0.5285482076719088, -0.8489032878760765 M -0.5285482076719088,-0.8489032878760765 Q -0.1994014299421026, 0.015461880126451354 -0.391366635640783, 0.9202348376948215L -0.391366635640783, 0.9202348376948215 L -0.3795569175076198, 0.9251683881175977 L -0.3676850243978966, 0.9299503872968268 \", \"type\": \"path\"}, {\"fillcolor\": \"#e1b396\", \"layer\": \"below\", \"line\": {\"color\": \"rgb(175,175,175)\", \"width\": 0.5}, \"path\": \"M -0.2373102633096426,0.9714339086772235 Q -0.1996060508605885, -0.012546890445052767 -0.11379767499945263, -0.9935039452184974L -0.11379767499945263, -0.9935039452184974 L -0.1152988255772985, -0.9933308516403262 L -0.11679971288014152, -0.9931554898761404 M -0.11679971288014152,-0.9931554898761404 Q -0.1995980260098667, -0.012673910721027798 -0.24148030207119775, 0.9704057211865577L -0.24148030207119775, 0.9704057211865577 L -0.23939583468975642, 0.9709220536856679 L -0.2373102633096426, 0.9714339086772235 \", \"type\": \"path\"}, {\"fillcolor\": \"#e1b396\", \"layer\": \"below\", \"line\": {\"color\": \"rgb(175,175,175)\", \"width\": 0.5}, \"path\": \"M -0.41775970461076667,0.9085575541502723 Q -0.1896323958734265, -0.0635574892149152 0.214140623065955, -0.9768028427236095L 0.214140623065955, -0.9768028427236095 L 0.1951817279365694, -0.9807670942072307 L 0.17614960940714294, -0.9843634060171634 M 0.17614960940714294,-0.9843634060171634 Q -0.1896732449116295, -0.06343548032996212 -0.4514859063264989, 0.8922782505410181L -0.4514859063264989, 0.8922782505410181 L -0.4346990188221337, 0.9005757952749309 L -0.41775970461076667, 0.9085575541502723 \", \"type\": \"path\"}, {\"fillcolor\": \"#e1b396\", \"layer\": \"below\", \"line\": {\"color\": \"rgb(175,175,175)\", \"width\": 0.5}, \"path\": \"M -0.3453752668092093,0.9384646637335193 Q -0.16834285819761718, -0.10798463823089358 0.708981595682733, -0.7052269825972101L 0.708981595682733, -0.7052269825972101 L 0.7004138226681206, -0.7137369802773502 L 0.6917439105506132, -0.7221428959812215 M 0.6917439105506132,-0.7221428959812215 Q -0.16835754745026968, -0.10796173496443172 -0.3676850243978966, 0.9299503872968268L -0.3676850243978966, 0.9299503872968268 L -0.3565555608175263, 0.9342741204004846 L -0.3453752668092093, 0.9384646637335193 \", \"type\": \"path\"}, {\"fillcolor\": \"#e1b396\", \"layer\": \"below\", \"line\": {\"color\": \"rgb(175,175,175)\", \"width\": 0.5}, \"path\": \"M -0.24148030207119775,0.9704057211865577 Q -0.15368681650928742, -0.12798578995826304 0.9106773005369972, -0.4131184506732271L 0.9106773005369972, -0.4131184506732271 L 0.9094580375443705, -0.4157957166036496 L 0.9082309037789315, -0.41846938409028844 M 0.9082309037789315,-0.41846938409028844 Q -0.15363455791266156, -0.1280485166449852 -0.2479766392679813, 0.968766012191467L -0.2479766392679813, 0.968766012191467 L -0.24472984394567274, 0.9695913074498588 L -0.24148030207119775, 0.9704057211865577 \", \"type\": \"path\"}, {\"fillcolor\": \"#e1b396\", \"layer\": \"below\", \"line\": {\"color\": \"rgb(175,175,175)\", \"width\": 0.5}, \"path\": \"M -0.27516934025148587,0.9613957739586554 Q -0.13739066367000846, -0.14534030939940448 0.9753386853317003, -0.22071349957678282L 0.9753386853317003, -0.22071349957678282 L 0.9742433485501465, -0.2254992190802393 L 0.9731245297040824, -0.23027950340446848 M 0.9731245297040824,-0.23027950340446848 Q -0.13729268242343434, -0.14543286888794435 -0.2858876916929246, 0.9582631307414948L -0.2858876916929246, 0.9582631307414948 L -0.28053288869034465, 0.9598444136228802 L -0.27516934025148587, 0.9613957739586554 \", \"type\": \"path\"}, {\"fillcolor\": \"#e1b396\", \"layer\": \"below\", \"line\": {\"color\": \"rgb(175,175,175)\", \"width\": 0.5}, \"path\": \"M -0.23480613391751645,0.9720422210350276 Q -0.13215650189771042, -0.1501154855641498 0.9939621949109787, -0.10972308365950009L 0.9939621949109787, -0.10972308365950009 L 0.9938492858035343, -0.11074112654206153 L 0.9937353339893945, -0.1117590532394873 M 0.9937353339893945,-0.1117590532394873 Q -0.13211683769674343, -0.15015039526092616 -0.2373102633096426, 0.9714339086772235L -0.2373102633096426, 0.9714339086772235 L -0.23605839456301778, 0.9717388714857148 L -0.23480613391751645, 0.9720422210350276 \", \"type\": \"path\"}, {\"fillcolor\": \"#dba284\", \"layer\": \"below\", \"line\": {\"color\": \"rgb(175,175,175)\", \"width\": 0.5}, \"path\": \"M -0.6550902211283739,0.755550661558825 Q -0.1432295769501234, 0.13958971411493284 -0.7721595423234217, 0.6354287066216666L -0.7721595423234217, 0.6354287066216666 L -0.7665489743467521, 0.642185853104802 L -0.7608792766973357, 0.6488934629756562 M -0.7608792766973357,0.6488934629756562 Q -0.14310953023541842, 0.1397127852266852 -0.666980239621767, 0.745075405549056L -0.666980239621767, 0.745075405549056 L -0.6610559798868323, 0.7503365854440659 L -0.6550902211283739, 0.755550661558825 \", \"type\": \"path\"}, {\"fillcolor\": \"#dba284\", \"layer\": \"below\", \"line\": {\"color\": \"rgb(175,175,175)\", \"width\": 0.5}, \"path\": \"M -0.6064636189844353,0.7951112367765291 Q -0.14554242983444832, 0.1371765326791893 -0.8295801858627712, 0.5583876030356424L -0.8295801858627712, 0.5583876030356424 L -0.8273982275994508, 0.5616156808399204 L -0.8252037082493675, 0.5648352325160788 M -0.8252037082493675,0.5648352325160788 Q -0.14545211451591475, 0.13727229284472972 -0.6116002909667659, 0.791166912913683L -0.6116002909667659, 0.791166912913683 L -0.609035148085959, 0.7931432332157377 L -0.6064636189844353, 0.7951112367765291 \", \"type\": \"path\"}, {\"fillcolor\": \"#dba284\", \"layer\": \"below\", \"line\": {\"color\": \"rgb(175,175,175)\", \"width\": 0.5}, \"path\": \"M -0.5979933464107375,0.8015010652821914 Q -0.160615163787969, 0.11917537145469233 -0.9404267681166264, 0.33999631440607864L -0.9404267681166264, 0.33999631440607864 L -0.9403651005565848, 0.34016683797102265 L -0.9403034020762346, 0.3403373503508821 M -0.9403034020762346,0.3403373503508821 Q -0.16061818610301035, 0.11917129810897731 -0.5983246235590575, 0.8012537955248089L -0.5983246235590575, 0.8012537955248089 L -0.5981589977620883, 0.8013774475216121 L -0.5979933464107375, 0.8015010652821914 \", \"type\": \"path\"}, {\"fillcolor\": \"#dba284\", \"layer\": \"below\", \"line\": {\"color\": \"rgb(175,175,175)\", \"width\": 0.5}, \"path\": \"M -0.6229828471253632,0.7822354966297402 Q -0.17100510622984605, 0.10371718104209673 -0.9815966140841901, 0.19096619391518885L -0.9815966140841901, 0.19096619391518885 L -0.9808891059109558, 0.19456762810191638 L -0.9801683842825721, 0.19816644128835714 M -0.9801683842825721,0.19816644128835714 Q -0.17101031137565614, 0.10370859850176904 -0.6287861019485065, 0.7775783163105838L -0.6287861019485065, 0.7775783163105838 L -0.6258888062575543, 0.7799123041736767 L -0.6229828471253632, 0.7822354966297402 \", \"type\": \"path\"}, {\"fillcolor\": \"#dba284\", \"layer\": \"below\", \"line\": {\"color\": \"rgb(175,175,175)\", \"width\": 0.5}, \"path\": \"M -0.5983246235590575,0.8012537955248089 Q -0.17203106551215266, 0.10200643361451983 -0.9900680053817589, 0.14058927668704155L -0.9900680053817589, 0.14058927668704155 L -0.9900227683976861, 0.14090748047630994 L -0.9899774291442254, 0.1412256697098305 M -0.9899774291442254,0.1412256697098305 Q -0.1720263920647492, 0.10201431484446287 -0.5987661673646343, 0.8009238895297522L -0.5987661673646343, 0.8009238895297522 L -0.5985454181915261, 0.8010888729485207 L -0.5983246235590575, 0.8012537955248089 \", \"type\": \"path\"}, {\"fillcolor\": \"#dba284\", \"layer\": \"below\", \"line\": {\"color\": \"rgb(175,175,175)\", \"width\": 0.5}, \"path\": \"M -0.6000897068180692,0.7999327120270828 Q -0.18286157972009465, 0.08100396695391819 -0.9956616949773183, -0.09304724152221637L -0.9956616949773183, -0.09304724152221637 L -0.9957586485455654, -0.09200387951988365 L -0.9958545087665721, -0.09096041649689861 M -0.9958545087665721,-0.09096041649689861 Q -0.1828492495883478, 0.08103179576547774 -0.6015216895616831, 0.7988564683263559L -0.6015216895616831, 0.7988564683263559 L -0.6008059391788253, 0.7993949108215849 L -0.6000897068180692, 0.7999327120270828 \", \"type\": \"path\"}, {\"fillcolor\": \"#dba284\", \"layer\": \"below\", \"line\": {\"color\": \"rgb(175,175,175)\", \"width\": 0.5}, \"path\": \"M -0.5977724382032409,0.8016658356974884 Q -0.19082876819098726, 0.05986970210975208 -0.9485862801460101, -0.3165186710428869L -0.9485862801460101, -0.3165186710428869 L -0.9486338931323033, -0.316375942196384 L -0.9486814846429291, -0.3162332061875979 M -0.9486814846429291,-0.3162332061875979 Q -0.19082800985790815, 0.05987211916802432 -0.5979933464107375, 0.8015010652821914L -0.5979933464107375, 0.8015010652821914 L -0.5978828979831193, 0.8015834580998455 L -0.5977724382032409, 0.8016658356974884 \", \"type\": \"path\"}, {\"fillcolor\": \"#dba284\", \"layer\": \"below\", \"line\": {\"color\": \"rgb(175,175,175)\", \"width\": 0.5}, \"path\": \"M -0.6015216895616831,0.7988564683263559 Q -0.19529927044295614, 0.0431067855963429 -0.8819020580938337, -0.4714326674402828L -0.8819020580938337, -0.4714326674402828 L -0.8824672886047769, -0.4703737711039313 L -0.8830312477036374, -0.4693141970779888 M -0.8830312477036374,-0.4693141970779888 Q -0.19528910271859898, 0.04315282562433782 -0.6030616660574695, 0.7976945699526787L -0.6030616660574695, 0.7976945699526787 L -0.6022919579909997, 0.7982758904911058 L -0.6015216895616831, 0.7988564683263559 \", \"type\": \"path\"}, {\"fillcolor\": \"#dba284\", \"layer\": \"below\", \"line\": {\"color\": \"rgb(175,175,175)\", \"width\": 0.5}, \"path\": \"M -0.5987661673646343,0.8009238895297522 Q -0.19994895660453627, 0.004518268778777979 -0.6343336424787896, -0.7730593961783215L -0.6343336424787896, -0.7730593961783215 L -0.6347412313050722, -0.7727247694239656 L -0.6351486436074589, -0.7723899277719805 M -0.6351486436074589,-0.7723899277719805 Q -0.19994844035551967, 0.004541057079050709 -0.5994281419601551, 0.8004285743438924L -0.5994281419601551, 0.8004285743438924 L -0.5990972058513216, 0.8006763003493603 L -0.5987661673646343, 0.8009238895297522 \", \"type\": \"path\"}, {\"fillcolor\": \"#dba284\", \"layer\": \"below\", \"line\": {\"color\": \"rgb(175,175,175)\", \"width\": 0.5}, \"path\": \"M -0.6116002909667659,0.791166912913683 Q -0.18987371267555128, -0.0628328993028509 -0.018927653209830305, -0.9998208559256845L -0.018927653209830305, -0.9998208559256845 L -0.023546788245955297, -0.9997227359439717 L -0.028165420651490403, -0.9996032758447346 M -0.028165420651490403,-0.9996032758447346 Q -0.18993880048532805, -0.06263586887874034 -0.6172535175139746, 0.7867643199310868L -0.6172535175139746, 0.7867643199310868 L -0.6144308475008783, 0.788970679835032 L -0.6116002909667659, 0.791166912913683 \", \"type\": \"path\"}, {\"fillcolor\": \"#dba284\", \"layer\": \"below\", \"line\": {\"color\": \"rgb(175,175,175)\", \"width\": 0.5}, \"path\": \"M -0.6030616660574695,0.7976945699526787 Q -0.15874041110657786, -0.12166134094984593 0.6135253121483034, -0.7896750542807636L 0.6135253121483034, -0.7896750542807636 L 0.6113963388168913, -0.7913245332234438 L 0.6092629308393841, -0.7929682724453758 M 0.6092629308393841,-0.7929682724453758 Q -0.15880819763971088, -0.12157284385267347 -0.6064636189844353, 0.7951112367765291L -0.6064636189844353, 0.7951112367765291 L -0.6047640219056521, 0.7964047198557401 L -0.6030616660574695, 0.7976945699526787 \", \"type\": \"path\"}, {\"fillcolor\": \"#dba284\", \"layer\": \"below\", \"line\": {\"color\": \"rgb(175,175,175)\", \"width\": 0.5}, \"path\": \"M -0.6172535175139746,0.7867643199310868 Q -0.1084751443395686, -0.16802720928620388 0.971105668280815, -0.23864991312144168L 0.971105668280815, -0.23864991312144168 L 0.970142548418964, -0.24253543194172306 L 0.9691638821621152, -0.2464170641665418 M 0.9691638821621152,-0.2464170641665418 Q -0.10853420658261914, -0.16798906512473172 -0.6229828471253632, 0.7822354966297402L -0.6229828471253632, 0.7822354966297402 L -0.6201223166469447, 0.7845051385404855 L -0.6172535175139746, 0.7867643199310868 \", \"type\": \"path\"}, {\"fillcolor\": \"#dba284\", \"layer\": \"below\", \"line\": {\"color\": \"rgb(175,175,175)\", \"width\": 0.5}, \"path\": \"M -0.5994281419601551,0.8004285743438924 Q -0.09964874764861077, -0.17340740206826089 0.9933793811688293, -0.11487995938645598L 0.9933793811688293, -0.11487995938645598 L 0.993332229862947, -0.11528695119355589 L 0.9932849118107772, -0.11569392364794526 M 0.9932849118107772,-0.11569392364794526 Q -0.09964811113045889, -0.17340776784253847 -0.6000897068180692, 0.7999327120270828L -0.6000897068180692, 0.7999327120270828 L -0.5997589756345826, 0.8001807115556812 L -0.5994281419601551, 0.8004285743438924 \", \"type\": \"path\"}, {\"fillcolor\": \"#d59171\", \"layer\": \"below\", \"line\": {\"color\": \"rgb(175,175,175)\", \"width\": 0.5}, \"path\": \"M -0.6991744717450455,0.7149510878794691 Q -0.15269437789969695, 0.1291682118705084 -0.8209665024682455, 0.5709763583766461L -0.8209665024682455, 0.5709763583766461 L -0.8188307468530988, 0.5740350233287134 L -0.8166835956659755, 0.5770856995023299 M -0.8166835956659755,0.5770856995023299 Q -0.15265642442024863, 0.12921306467700908 -0.7040721434198874, 0.7101284509580823L -0.7040721434198874, 0.7101284509580823 L -0.701627451144608, 0.7125439774500383 L -0.6991744717450455, 0.7149510878794691 \", \"type\": \"path\"}, {\"fillcolor\": \"#d59171\", \"layer\": \"below\", \"line\": {\"color\": \"rgb(175,175,175)\", \"width\": 0.5}, \"path\": \"M -0.6900545091950028,0.7237574001968089 Q -0.16747045070285493, 0.10933274048235803 -0.9402210893410164, 0.34056468278198265L -0.9402210893410164, 0.34056468278198265 L -0.9402005025693645, 0.3406215127796751 L -0.9401799123627241, 0.3406783415329192 M -0.9401799123627241,0.3406783415329192 Q -0.16747219218739076, 0.10933007291660267 -0.6901650512989617, 0.7236519895402082L -0.6901650512989617, 0.7236519895402082 L -0.6901097822595978, 0.7237046969790997 L -0.6900545091950028, 0.7237574001968089 \", \"type\": \"path\"}, {\"fillcolor\": \"#d59171\", \"layer\": \"below\", \"line\": {\"color\": \"rgb(175,175,175)\", \"width\": 0.5}, \"path\": \"M -0.7249080656245837,0.688845625951435 Q -0.1786291033395221, 0.08995356268719072 -0.9850529295567517, 0.17225192588665347L -0.9850529295567517, 0.17225192588665347 L -0.9841981887629211, 0.17707039627161136 L -0.9833198781559622, 0.181884626132457 M -0.9833198781559622,0.181884626132457 Q -0.17868350269388042, 0.08984545545015639 -0.7324397399388254, 0.6808318642354703L -0.7324397399388254, 0.6808318642354703 L -0.7286849193508339, 0.6848490989339686 L -0.7249080656245837, 0.688845625951435 \", \"type\": \"path\"}, {\"fillcolor\": \"#d59171\", \"layer\": \"below\", \"line\": {\"color\": \"rgb(175,175,175)\", \"width\": 0.5}, \"path\": \"M -0.6916006324105556,0.722280115501818 Q -0.1781115011528049, 0.09097413454985091 -0.9905808785838977, 0.1369288975488867L -0.9905808785838977, 0.1369288975488867 L -0.9904815984494065, 0.13764520744693046 L -0.9903818003362096, 0.13836144536252998 M -0.9903818003362096,0.13836144536252998 Q -0.17810824363452482, 0.09098051192109634 -0.692592899162032, 0.7213286879296645L -0.692592899162032, 0.7213286879296645 L -0.6920969292775789, 0.7218045722247441 L -0.6916006324105556, 0.722280115501818 \", \"type\": \"path\"}, {\"fillcolor\": \"#d59171\", \"layer\": \"below\", \"line\": {\"color\": \"rgb(175,175,175)\", \"width\": 0.5}, \"path\": \"M -0.6956715725652503,0.7183599815723254 Q -0.18794499139820298, 0.0683862574522792 -0.9946487173730075, -0.10331470867321345L -0.9946487173730075, -0.10331470867321345 L -0.9949118921829572, -0.10074883023106398 L -0.9951684478508929, -0.0981822815076365 M -0.9951684478508929,-0.0981822815076365 Q -0.18793572852429408, 0.06841170911505458 -0.6991744717450455, 0.7149510878794691L -0.6991744717450455, 0.7149510878794691 L -0.6974251049188523, 0.7166576749250145 L -0.6956715725652503, 0.7183599815723254 \", \"type\": \"path\"}, {\"fillcolor\": \"#d59171\", \"layer\": \"below\", \"line\": {\"color\": \"rgb(175,175,175)\", \"width\": 0.5}, \"path\": \"M -0.692592899162032,0.7213286879296645 Q -0.1942413281353419, 0.04764773283398117 -0.9477735746482631, -0.3189439624737446L -0.9477735746482631, -0.3189439624737446 L -0.9480371875890822, -0.31815953694362736 L -0.94830015129963, -0.3173748935330248 M -0.94830015129963,-0.3173748935330248 Q -0.1942419266026989, 0.0476452930484402 -0.6938038919733575, 0.7201639809672667L -0.6938038919733575, 0.7201639809672667 L -0.6931986401841851, 0.7207465887860981 L -0.692592899162032, 0.7213286879296645 \", \"type\": \"path\"}, {\"fillcolor\": \"#d59171\", \"layer\": \"below\", \"line\": {\"color\": \"rgb(175,175,175)\", \"width\": 0.5}, \"path\": \"M -0.6938038919733575,0.7201639809672667 Q -0.19764127608748372, 0.030625577325350723 -0.879220299429042, -0.4764154332847601L -0.879220299429042, -0.4764154332847601 L -0.8799137507091369, -0.4751334457949459 L -0.8806053327298475, -0.4738504489475076 M -0.8806053327298475,-0.4738504489475076 Q -0.19763639828753654, 0.030657039516728185 -0.6956715725652503, 0.7183599815723254L -0.6956715725652503, 0.7183599815723254 L -0.6947383178162474, 0.7192625874865527 L -0.6938038919733575, 0.7201639809672667 \", \"type\": \"path\"}, {\"fillcolor\": \"#d59171\", \"layer\": \"below\", \"line\": {\"color\": \"rgb(175,175,175)\", \"width\": 0.5}, \"path\": \"M -0.7175015405431592,0.6965569175007834 Q -0.19934197182092983, -0.016210437086754154 -0.5955309349603443, -0.8033323754867958L -0.5955309349603443, -0.8033323754867958 L -0.600462118642828, -0.7996532023789853 L -0.6053705731004261, -0.795943760088652 M -0.6053705731004261,-0.795943760088652 Q -0.19935497930940585, -0.016049679889217888 -0.7249080656245837, 0.688845625951435L -0.7249080656245837, 0.688845625951435 L -0.7212151093783224, 0.6927111706941173 L -0.7175015405431592, 0.6965569175007834 \", \"type\": \"path\"}, {\"fillcolor\": \"#d59171\", \"layer\": \"below\", \"line\": {\"color\": \"rgb(175,175,175)\", \"width\": 0.5}, \"path\": \"M -0.7324397399388254,0.6808318642354703 Q -0.1815176093033867, -0.08397236160060678 0.04467268522880223, -0.9990016772730906L 0.04467268522880223, -0.9990016772730906 L 0.03757074155012322, -0.9992939704508248 L 0.030466899683392598, -0.9995357762600007 M 0.030466899683392598,-0.9995357762600007 Q -0.1816013384269858, -0.08379113247550345 -0.7407043305635372, 0.6718311504272648L -0.7407043305635372, 0.6718311504272648 L -0.7365857834131282, 0.6763441311001879 L -0.7324397399388254, 0.6808318642354703 \", \"type\": \"path\"}, {\"fillcolor\": \"#d59171\", \"layer\": \"below\", \"line\": {\"color\": \"rgb(175,175,175)\", \"width\": 0.5}, \"path\": \"M -0.7102280793370314,0.7039716438332098 Q -0.14739699169516116, -0.13518182880556323 0.6400574710030379, -0.7683270357166896L 0.6400574710030379, -0.7683270357166896 L 0.6355073141941056, -0.7720948475451669 L 0.6309349779683096, -0.775835713006387 M 0.6309349779683096,-0.775835713006387 Q -0.14749351945518993, -0.1350765032073362 -0.7175015405431592, 0.6965569175007834L -0.7175015405431592, 0.6965569175007834 L -0.7138744367271144, 0.7002737240447804 L -0.7102280793370314, 0.7039716438332098 \", \"type\": \"path\"}, {\"fillcolor\": \"#d59171\", \"layer\": \"below\", \"line\": {\"color\": \"rgb(175,175,175)\", \"width\": 0.5}, \"path\": \"M -0.6909383950202603,0.7229136423438326 Q -0.11737624698300937, -0.16193460607351223 0.9020101149207821, -0.4317148973345691L 0.9020101149207821, -0.4317148973345691 L 0.901814633058748, -0.4321230931125017 L 0.9016189664717532, -0.432531200375658 M 0.9016189664717532,-0.432531200375658 Q -0.11737533283959234, -0.1619352686748471 -0.6916006324105556, 0.722280115501818L -0.6916006324105556, 0.722280115501818 L -0.6912695862913406, 0.7225969547877978 L -0.6909383950202603, 0.7229136423438326 \", \"type\": \"path\"}, {\"fillcolor\": \"#d59171\", \"layer\": \"below\", \"line\": {\"color\": \"rgb(175,175,175)\", \"width\": 0.5}, \"path\": \"M -0.7040721434198874,0.7101284509580823 Q -0.09781392064494593, -0.17444895221257198 0.9731245297040824, -0.23027950340446848L 0.9731245297040824, -0.23027950340446848 L 0.9721241081409336, -0.23446688118195805 L 0.971105668280815, -0.23864991312144168 M 0.971105668280815,-0.23864991312144168 Q -0.09780554769790582, -0.1744536466787458 -0.7102280793370314, 0.7039716438332098L -0.7102280793370314, 0.7039716438332098 L -0.7071568118819622, 0.7070567469510061 L -0.7040721434198874, 0.7101284509580823 \", \"type\": \"path\"}, {\"fillcolor\": \"#d59171\", \"layer\": \"below\", \"line\": {\"color\": \"rgb(175,175,175)\", \"width\": 0.5}, \"path\": \"M -0.6901650512989617,0.7236519895402082 Q -0.08936250677472975, -0.17892552188812078 0.993125980793662, -0.11705035784920526L 0.993125980793662, -0.11705035784920526 L 0.9931099858076926, -0.11718598930351985 L 0.993093972298503, -0.11732161857211204 M 0.993093972298503,-0.11732161857211204 Q -0.08935961292454697, -0.17892696716251338 -0.690386087197654, 0.7234411175789728L -0.690386087197654, 0.7234411175789728 L -0.6902755773007051, 0.7235465620001095 L -0.6901650512989617, 0.7236519895402082 \", \"type\": \"path\"}, {\"fillcolor\": \"#d0805f\", \"layer\": \"below\", \"line\": {\"color\": \"rgb(175,175,175)\", \"width\": 0.5}, \"path\": \"M -0.8384529248291103,0.5449740295147195 Q -0.1802808968312796, 0.0865956017226598 -0.9494774542900998, 0.31383524944593383L -0.9494774542900998, 0.31383524944593383 L -0.9484480496307449, 0.3169326381924652 L -0.9474085406886293, 0.32002665049998846 M -0.9474085406886293,0.32002665049998846 Q -0.18038577641741135, 0.08637691628142143 -0.8432985627869346, 0.537445377691064L -0.8432985627869346, 0.537445377691064 L -0.8408841695942821, 0.5412151266601245 L -0.8384529248291103, 0.5449740295147195 \", \"type\": \"path\"}, {\"fillcolor\": \"#d0805f\", \"layer\": \"below\", \"line\": {\"color\": \"rgb(175,175,175)\", \"width\": 0.5}, \"path\": \"M -0.8339977822675461,0.5517677946136533 Q -0.18455410691858284, 0.07706997871729497 -0.9787152459206003, 0.20522296996822456L -0.9787152459206003, 0.20522296996822456 L -0.9780263378211561, 0.20848137213702783 L -0.9773265816696548, 0.21173746187651257 M -0.9773265816696548,0.21173746187651257 Q -0.18461045003553272, 0.07693491884494374 -0.8384529248291103, 0.5449740295147195L -0.8384529248291103, 0.5449740295147195 L -0.8362322528628522, 0.5483754364228205 L -0.8339977822675461, 0.5517677946136533 \", \"type\": \"path\"}, {\"fillcolor\": \"#d0805f\", \"layer\": \"below\", \"line\": {\"color\": \"rgb(175,175,175)\", \"width\": 0.5}, \"path\": \"M -0.8295801858627712,0.5583876030356424 Q -0.18732056582666404, 0.07007856746808135 -0.9923786222741496, 0.12322609323215838L -0.9923786222741496, 0.12322609323215838 L -0.9918959793690606, 0.12705261158863343 L -0.9913985818258868, 0.13087724001376413 M -0.9913985818258868,0.13087724001376413 Q -0.18732914202005324, 0.07005563895954936 -0.8339977822675461, 0.5517677946136533L -0.8339977822675461, 0.5517677946136533 L -0.8317955695229654, 0.5550820934978588 L -0.8295801858627712, 0.5583876030356424 \", \"type\": \"path\"}, {\"fillcolor\": \"#d0805f\", \"layer\": \"below\", \"line\": {\"color\": \"rgb(175,175,175)\", \"width\": 0.5}, \"path\": \"M -0.8209665024682455,0.5709763583766461 Q -0.19385794207027274, 0.04918432978377147 -0.9938730660578987, -0.11052750139522571L -0.9938730660578987, -0.11052750139522571 L -0.9942674322784192, -0.10692180839510351 L -0.9946487173730075, -0.10331470867321345 M -0.9946487173730075,-0.10331470867321345 Q -0.19386302367792826, 0.0491642965011301 -0.8252037082493675, 0.5648352325160788L -0.8252037082493675, 0.5648352325160788 L -0.8230908327883542, 0.5679097472132113 L -0.8209665024682455, 0.5709763583766461 \", \"type\": \"path\"}, {\"fillcolor\": \"#d0805f\", \"layer\": \"below\", \"line\": {\"color\": \"rgb(175,175,175)\", \"width\": 0.5}, \"path\": \"M -0.8070036093064631,0.5905465049988371 Q -0.19779154922537856, 0.029639552206884953 -0.9446584074947082, -0.32805562508446917L -0.9446584074947082, -0.32805562508446917 L -0.9451263583710755, -0.3267050148256518 L -0.945592378235118, -0.3253537370672936 M -0.945592378235118,-0.3253537370672936 Q -0.19779586665975613, 0.029610726642823 -0.8088599594949344, 0.5880013315680953L -0.8088599594949344, 0.5880013315680953 L -0.8079327866362679, 0.5892746492749834 L -0.8070036093064631, 0.5905465049988371 \", \"type\": \"path\"}, {\"fillcolor\": \"#d0805f\", \"layer\": \"below\", \"line\": {\"color\": \"rgb(175,175,175)\", \"width\": 0.5}, \"path\": \"M -0.8565739543347345,0.5160242831062858 Q -0.19999482627140655, -0.0014385634048983327 -0.8490621773924368, -0.5282929290853836L -0.8490621773924368, -0.5282929290853836 L -0.8527104873437511, -0.5223837906884005 L -0.8563176727036778, -0.5164494587230749 M -0.8563176727036778,-0.5164494587230749 Q -0.19999515142378319, -0.001392625928970914 -0.8634266699925228, 0.5044743655981174L -0.8634266699925228, 0.5044743655981174 L -0.8600197015593016, 0.5102608283317951 L -0.8565739543347345, 0.5160242831062858 \", \"type\": \"path\"}, {\"fillcolor\": \"#d0805f\", \"layer\": \"below\", \"line\": {\"color\": \"rgb(175,175,175)\", \"width\": 0.5}, \"path\": \"M -0.8634266699925228,0.5044743655981174 Q -0.19414492352292462, -0.048039032778333005 -0.5285482076719088, -0.8489032878760765L -0.5285482076719088, -0.8489032878760765 L -0.5383612374563472, -0.8427141733734341 L -0.548101803445745, -0.8364116289600007 M -0.548101803445745,-0.8364116289600007 Q -0.1941765349205465, -0.04791109773580422 -0.874259842000006, 0.48545826665752084L -0.874259842000006, 0.48545826665752084 L -0.8688952793604762, 0.494995953018891 L -0.8634266699925228, 0.5044743655981174 \", \"type\": \"path\"}, {\"fillcolor\": \"#d0805f\", \"layer\": \"below\", \"line\": {\"color\": \"rgb(175,175,175)\", \"width\": 0.5}, \"path\": \"M -0.8088599594949344,0.5880013315680953 Q -0.1832185231645854, -0.08019334616655106 -0.11679971288014152, -0.9931554898761404L -0.11679971288014152, -0.9931554898761404 L -0.11806025224834227, -0.9930064334328644 L -0.11932060140054196, -0.9928557770801422 M -0.11932060140054196,-0.9928557770801422 Q -0.18318068399839002, -0.0802797422135995 -0.8109023752309221, 0.5851814571949873L -0.8109023752309221, 0.5851814571949873 L -0.8098823946549334, 0.586592283300753 L -0.8088599594949344, 0.5880013315680953 \", \"type\": \"path\"}, {\"fillcolor\": \"#d0805f\", \"layer\": \"below\", \"line\": {\"color\": \"rgb(175,175,175)\", \"width\": 0.5}, \"path\": \"M -0.8878230355281255,0.4601850253817749 Q -0.16329088104914213, -0.11548198199803693 0.13807028644478364, -0.9904224331067302L 0.13807028644478364, -0.9904224331067302 L 0.12186080112589104, -0.9925472004640162 L 0.10561874703939858, -0.9944066976211632 M 0.10561874703939858,-0.9944066976211632 Q -0.16341718814103345, -0.11530317697304825 -0.9014468306892145, 0.43288983753418225L -0.9014468306892145, 0.43288983753418225 L -0.8947390236031193, 0.44658938594836395 L -0.8878230355281255, 0.4601850253817749 \", \"type\": \"path\"}, {\"fillcolor\": \"#d0805f\", \"layer\": \"below\", \"line\": {\"color\": \"rgb(175,175,175)\", \"width\": 0.5}, \"path\": \"M -0.8432985627869346,0.537445377691064 Q -0.1311685200404519, -0.1509795328857444 0.650015371371942, -0.7599210597030434L 0.650015371371942, -0.7599210597030434 L 0.6450501141512572, -0.7641402686898853 L 0.6400574710030379, -0.7683270357166896 M 0.6400574710030379,-0.7683270357166896 Q -0.13121354237083113, -0.15094040644737283 -0.8499163887420366, 0.5269175762372095L -0.8499163887420366, 0.5269175762372095 L -0.8466238401268754, 0.5321917636799942 L -0.8432985627869346, 0.537445377691064 \", \"type\": \"path\"}, {\"fillcolor\": \"#d0805f\", \"layer\": \"below\", \"line\": {\"color\": \"rgb(175,175,175)\", \"width\": 0.5}, \"path\": \"M -0.8109023752309221,0.5851814571949873 Q -0.10123950701247704, -0.17248351289288671 0.9062638998282737, -0.42271236540708007L 0.9062638998282737, -0.42271236540708007 L 0.9054011031862191, -0.4245572309467563 L 0.9045345509884608, -0.4264003354455804 M 0.9045345509884608,-0.4264003354455804 Q -0.10120472013586126, -0.17250392639653744 -0.8135138897673517, 0.5815454850272617L -0.8135138897673517, 0.5815454850272617 L -0.8122101671187925, 0.5833649324641166 L -0.8109023752309221, 0.5851814571949873 \", \"type\": \"path\"}, {\"fillcolor\": \"#d0805f\", \"layer\": \"below\", \"line\": {\"color\": \"rgb(175,175,175)\", \"width\": 0.5}, \"path\": \"M -0.8135138897673517,0.5815454850272617 Q -0.08535475245168521, -0.1808716844448338 0.9660762691884456, -0.2582569304218845L 0.9660762691884456, -0.2582569304218845 L 0.9654295631577463, -0.26066407228661803 L 0.9647768593373351, -0.26306959475999475 M 0.9647768593373351,-0.26306959475999475 Q -0.0853107574237767, -0.18089243949867428 -0.8166835956659755, 0.5770856995023299L -0.8166835956659755, 0.5770856995023299 L -0.8151017929068847, 0.5793177601282237 L -0.8135138897673517, 0.5815454850272617 \", \"type\": \"path\"}, {\"fillcolor\": \"#d0805f\", \"layer\": \"below\", \"line\": {\"color\": \"rgb(175,175,175)\", \"width\": 0.5}, \"path\": \"M -0.805434154586274,0.592685264390717 Q -0.07252330923118104, -0.1863876863372645 0.9941995821719779, -0.1075508754453653L 0.9941995821719779, -0.1075508754453653 L 0.994081481864312, -0.10863704439303198 L 0.9939621949109787, -0.10972308365950009 M 0.9939621949109787,-0.10972308365950009 Q -0.07247972195938372, -0.18640464024452405 -0.8070036093064631, 0.5905465049988371L -0.8070036093064631, 0.5905465049988371 L -0.8062195911659471, 0.5916164051310724 L -0.805434154586274, 0.592685264390717 \", \"type\": \"path\"}, {\"fillcolor\": \"#ca6f4c\", \"layer\": \"below\", \"line\": {\"color\": \"rgb(175,175,175)\", \"width\": 0.5}, \"path\": \"M -0.9407961240369138,0.33897293844364607 Q -0.19104843748360467, 0.05916497726757959 -0.967710476157769, 0.2520643456233031L -0.967710476157769, 0.2520643456233031 L -0.9675732745591815, 0.2525904953849665 L -0.9674357868899595, 0.25311657046626734 M -0.9674357868899595,0.25311657046626734 Q -0.19104487580958252, 0.05917647697270592 -0.9411235055153917, 0.3380629340321421L -0.9411235055153917, 0.3380629340321421 L -0.9409599247845676, 0.33851797581431464 L -0.9407961240369138, 0.33897293844364607 \", \"type\": \"path\"}, {\"fillcolor\": \"#ca6f4c\", \"layer\": \"below\", \"line\": {\"color\": \"rgb(175,175,175)\", \"width\": 0.5}, \"path\": \"M -0.9411235055153917,0.3380629340321421 Q -0.1941801594167063, 0.04789640580359381 -0.9903818003362096, 0.13836144536252998L -0.9903818003362096, 0.13836144536252998 L -0.9902926560981206, 0.13899804055500023 L -0.9902031026709732, 0.13963457831346104 M -0.9902031026709732,0.13963457831346104 Q -0.19417252919569103, 0.047927329424332886 -0.9414500067736081, 0.33715261343488523L -0.9414500067736081, 0.33715261343488523 L -0.9412868661911376, 0.33760781320352673 L -0.9411235055153917, 0.3380629340321421 \", \"type\": \"path\"}, {\"fillcolor\": \"#ca6f4c\", \"layer\": \"below\", \"line\": {\"color\": \"rgb(175,175,175)\", \"width\": 0.5}, \"path\": \"M -0.9460068301490523,0.32414669103870586 Q -0.1999829670077317, -0.002610154551841173 -0.9372245682784078, -0.3487264094033488L -0.9372245682784078, -0.3487264094033488 L -0.938165585106681, -0.346186849723439 L -0.9390997206066833, -0.3436447508059001 M -0.9390997206066833,-0.3436447508059001 Q -0.19998432810714908, -0.0025036995690662055 -0.9474085406886293, 0.32002665049998846L -0.9474085406886293, 0.32002665049998846 L -0.9467099267012092, 0.3220874332931836 L -0.9460068301490523, 0.32414669103870586 \", \"type\": \"path\"}, {\"fillcolor\": \"#ca6f4c\", \"layer\": \"below\", \"line\": {\"color\": \"rgb(175,175,175)\", \"width\": 0.5}, \"path\": \"M -0.9429083615413772,0.3330522807838964 Q -0.19935662912769075, -0.01602917411610352 -0.8775812842484589, -0.4794278773046322L -0.8775812842484589, -0.4794278773046322 L -0.8784020832213953, -0.4779223579121539 L -0.879220299429042, -0.4764154332847601 M -0.879220299429042,-0.4764154332847601 Q -0.199364712020328, -0.01592832700102858 -0.9437108438663343, 0.33077158760856584L -0.9437108438663343, 0.33077158760856584 L -0.9433102919737737, 0.3319121767220265 L -0.9429083615413772, 0.3330522807838964 \", \"type\": \"path\"}, {\"fillcolor\": \"#ca6f4c\", \"layer\": \"below\", \"line\": {\"color\": \"rgb(175,175,175)\", \"width\": 0.5}, \"path\": \"M -0.9447458230257972,0.32780379783539587 Q -0.1921904425563718, -0.05534287478967782 -0.6257337012867878, -0.780036752386666L -0.6257337012867878, -0.780036752386666 L -0.6279251253113008, -0.778273754538072 L -0.6301115821336905, -0.7765046001544211 M -0.6301115821336905,-0.7765046001544211 Q -0.19223897925087335, -0.05517404151031794 -0.9460068301490523, 0.32414669103870586L -0.9460068301490523, 0.32414669103870586 L -0.9453780949860557, 0.325975854198645 L -0.9447458230257972, 0.32780379783539587 \", \"type\": \"path\"}, {\"fillcolor\": \"#ca6f4c\", \"layer\": \"below\", \"line\": {\"color\": \"rgb(175,175,175)\", \"width\": 0.5}, \"path\": \"M -0.9437108438663343,0.33077158760856584 Q -0.16930352887833455, -0.10647213301771948 -0.11067445340821883, -0.9938567126919212L -0.11067445340821883, -0.9938567126919212 L -0.11223620280101342, -0.9936815560232612 L -0.11379767499945263, -0.9935039452184974 M -0.11379767499945263,-0.9935039452184974 Q -0.16930352887833455, -0.10647213301771948 -0.9447458230257972, 0.32780379783539587L -0.9447458230257972, 0.32780379783539587 L -0.9442294994472314, 0.32928809935014475 L -0.9437108438663343, 0.33077158760856584 \", \"type\": \"path\"}, {\"fillcolor\": \"#ca6f4c\", \"layer\": \"below\", \"line\": {\"color\": \"rgb(175,175,175)\", \"width\": 0.5}, \"path\": \"M -0.9546526623226907,0.29772184051593953 Q -0.15621035194948493, -0.12489325820002478 0.0803185032015004, -0.9967692501494368L 0.0803185032015004, -0.9967692501494368 L 0.07092744568508919, -0.9974814772458628 L 0.06153009695895197, -0.9981052285046011 M 0.06153009695895197,-0.9981052285046011 Q -0.15658569802727684, -0.12442234193789503 -0.9583892202099948, 0.2854647133802669L -0.9583892202099948, 0.2854647133802669 L -0.9565405743471918, 0.2915992620490397 L -0.9546526623226907, 0.29772184051593953 \", \"type\": \"path\"}, {\"fillcolor\": \"#ca6f4c\", \"layer\": \"below\", \"line\": {\"color\": \"rgb(175,175,175)\", \"width\": 0.5}, \"path\": \"M -0.9404267681166264,0.33999631440607864 Q -0.11831756238697924, -0.16124811450309515 0.6065036186791156, -0.7950807257940152L 0.6065036186791156, -0.7950807257940152 L 0.6062272840761677, -0.795291443460593 L 0.6059508762635464, -0.7955020650855913 M 0.6059508762635464,-0.7955020650855913 Q -0.11833461110017991, -0.16123560343723461 -0.940591063762033, 0.339541530259565L -0.940591063762033, 0.339541530259565 L -0.9405089434282526, 0.33976893226348975 L -0.9404267681166264, 0.33999631440607864 \", \"type\": \"path\"}, {\"fillcolor\": \"#ca6f4c\", \"layer\": \"below\", \"line\": {\"color\": \"rgb(175,175,175)\", \"width\": 0.5}, \"path\": \"M -0.9414500067736081,0.33715261343488523 Q -0.07644448028601408, -0.18481407260758367 0.9045345509884608, -0.4264003354455804L 0.9045345509884608, -0.4264003354455804 L 0.9041804353349322, -0.4271507232318968 L 0.9038256971715052, -0.4279008169336003 M 0.9038256971715052,-0.4279008169336003 Q -0.07647494843813346, -0.18480146715160253 -0.9418975082082094, 0.3359004079056264L -0.9418975082082094, 0.3359004079056264 L -0.941673965633392, 0.33652658505425886 L -0.9414500067736081, 0.33715261343488523 \", \"type\": \"path\"}, {\"fillcolor\": \"#ca6f4c\", \"layer\": \"below\", \"line\": {\"color\": \"rgb(175,175,175)\", \"width\": 0.5}, \"path\": \"M -0.940591063762033,0.339541530259565 Q -0.061863116881542085, -0.1901918893373234 0.9603567943007204, -0.27877379295845545L 0.9603567943007204, -0.27877379295845545 L 0.9602514464099718, -0.2791364534910425 L 0.9601459615673554, -0.2794990742129541 M 0.9601459615673554,-0.2794990742129541 Q -0.06187746331678116, -0.1901872223191674 -0.9407961240369138, 0.33897293844364607L -0.9407961240369138, 0.33897293844364607 L -0.94069363685935, 0.33925724984490646 L -0.940591063762033, 0.339541530259565 \", \"type\": \"path\"}, {\"fillcolor\": \"#ca6f4c\", \"layer\": \"below\", \"line\": {\"color\": \"rgb(175,175,175)\", \"width\": 0.5}, \"path\": \"M -0.9402210893410164,0.34056468278198265 Q -0.04603972551661323, -0.194628732910521 0.9931579151947467, -0.11677908839353136L 0.9931579151947467, -0.11677908839353136 L 0.9931419572561127, -0.11691472421169885 L 0.993125980793662, -0.11705035784920526 M 0.993125980793662,-0.11705035784920526 Q -0.04604277798253349, -0.1946280108197459 -0.9403034020762346, 0.3403373503508821L -0.9403034020762346, 0.3403373503508821 L -0.9402622525790536, 0.34045101905408354 L -0.9402210893410164, 0.34056468278198265 \", \"type\": \"path\"}, {\"fillcolor\": \"#c45e3a\", \"layer\": \"below\", \"line\": {\"color\": \"rgb(175,175,175)\", \"width\": 0.5}, \"path\": \"M -0.9671599535022941,0.2541684959656492 Q -0.19929888953471786, 0.016731785028153173 -0.9959998508492165, -0.0893548941487728L -0.9959998508492165, -0.0893548941487728 L -0.9960572629426218, -0.08871261995484525 L -0.9961142608631769, -0.08807030887311972 M -0.9961142608631769,-0.08807030887311972 Q -0.1992971970867803, 0.01675193222744949 -0.9674357868899595, 0.25311657046626734L -0.9674357868899595, 0.25311657046626734 L -0.9672980131907524, 0.2536425707116671 L -0.9671599535022941, 0.2541684959656492 \", \"type\": \"path\"}, {\"fillcolor\": \"#c45e3a\", \"layer\": \"below\", \"line\": {\"color\": \"rgb(175,175,175)\", \"width\": 0.5}, \"path\": \"M -0.971079890359765,0.23875478327955374 Q -0.19963410781672997, -0.012092270101938972 -0.9351621246617962, -0.3542199889871197L -0.9351621246617962, -0.3542199889871197 L -0.9361973759998738, -0.3514747119935528 L -0.9372245682784078, -0.3487264094033488 M -0.9372245682784078,-0.3487264094033488 Q -0.19963752478202976, -0.012035725940069303 -0.9723319980126743, 0.23360326547520832L -0.9723319980126743, 0.23360326547520832 L -0.9717093580390974, 0.23617985413503237 L -0.971079890359765, 0.23875478327955374 \", \"type\": \"path\"}, {\"fillcolor\": \"#c45e3a\", \"layer\": \"below\", \"line\": {\"color\": \"rgb(175,175,175)\", \"width\": 0.5}, \"path\": \"M -0.9686291013278363,0.24851089324379358 Q -0.198307854845838, -0.02596140802117751 -0.8720154900423942, -0.4894782785028598L -0.8720154900423942, -0.4894782785028598 L -0.8735221158915434, -0.4867844626201221 L -0.8750204200750755, -0.4840860093533363 M -0.8750204200750755,-0.4840860093533363 Q -0.1983244208876467, -0.02583455204913684 -0.9698336354158871, 0.2437677575398443L -0.9698336354158871, 0.2437677575398443 L -0.9692342698079077, 0.2461400622205415 L -0.9686291013278363, 0.24851089324379358 \", \"type\": \"path\"}, {\"fillcolor\": \"#c45e3a\", \"layer\": \"below\", \"line\": {\"color\": \"rgb(175,175,175)\", \"width\": 0.5}, \"path\": \"M -0.9760426661339376,0.21757921289993362 Q -0.18823355631062502, -0.06758792997758374 -0.6147026812340717, -0.7887589071976577L -0.6147026812340717, -0.7887589071976577 L -0.6177484229490039, -0.7863757918095002 L -0.6207849257534713, -0.7839809155567864 M -0.6207849257534713,-0.7839809155567864 Q -0.18829273691028603, -0.06742288355472362 -0.9773265816696548, 0.21173746187651257L -0.9773265816696548, 0.21173746187651257 L -0.976688991480885, 0.2146592973063404 L -0.9760426661339376, 0.21757921289993362 \", \"type\": \"path\"}, {\"fillcolor\": \"#c45e3a\", \"layer\": \"below\", \"line\": {\"color\": \"rgb(175,175,175)\", \"width\": 0.5}, \"path\": \"M -0.9669176610086782,0.2550886842443368 Q -0.1657184420218834, -0.11197052278988284 -0.12412015291532055, -0.9922671956888817L -0.12412015291532055, -0.9922671956888817 L -0.12453997721553889, -0.9922145907388951 L -0.12495977922064577, -0.9921618081629263 M -0.12495977922064577,-0.9921618081629263 Q -0.1657125444132717, -0.11197925086407508 -0.9671599535022941, 0.2541684959656492L -0.9671599535022941, 0.2541684959656492 L -0.9670389167064221, 0.2546286189242475 L -0.9669176610086782, 0.2550886842443368 \", \"type\": \"path\"}, {\"fillcolor\": \"#c45e3a\", \"layer\": \"below\", \"line\": {\"color\": \"rgb(175,175,175)\", \"width\": 0.5}, \"path\": \"M -0.973556777390674,0.22844518203867992 Q -0.15847871708719308, -0.12200203371418619 -0.028165420651490403, -0.9996032758447346L -0.028165420651490403, -0.9996032758447346 L -0.03171781085546839, -0.9994968636641821 L -0.035269800438131, -0.9993778270389304 M -0.035269800438131,-0.9993778270389304 Q -0.15858056570414575, -0.12186961959796674 -0.9747845369627457, 0.22314817162218803L -0.9747845369627457, 0.22314817162218803 L -0.9741742574529163, 0.22579751131502546 L -0.973556777390674, 0.22844518203867992 \", \"type\": \"path\"}, {\"fillcolor\": \"#c45e3a\", \"layer\": \"below\", \"line\": {\"color\": \"rgb(175,175,175)\", \"width\": 0.5}, \"path\": \"M -0.9698336354158871,0.2437677575398443 Q -0.10827905661433763, -0.16815363778018325 0.6232202700721392, -0.7820463509097206L 0.6232202700721392, -0.7820463509097206 L 0.620635078588181, -0.7840995467578351 L 0.6180431229091267, -0.7861441968396982 M 0.6180431229091267,-0.7861441968396982 Q -0.10839985602488034, -0.16807579008823734 -0.971079890359765, 0.23875478327955374L -0.971079890359765, 0.23875478327955374 L -0.9704599997488057, 0.241262075112414 L -0.9698336354158871, 0.2437677575398443 \", \"type\": \"path\"}, {\"fillcolor\": \"#c45e3a\", \"layer\": \"below\", \"line\": {\"color\": \"rgb(175,175,175)\", \"width\": 0.5}, \"path\": \"M -0.9668829763209821,0.2552201208774088 Q -0.0693105718598621, -0.1876060889962234 0.9005722931981289, -0.4347062740792491L 0.9005722931981289, -0.4347062740792491 L 0.9005395000775843, -0.4347742043866155 L 0.9005067018330457, -0.43484213222015433 M 0.9005067018330457,-0.43484213222015433 Q -0.06931197205432749, -0.18760557169215453 -0.9669176610086782, 0.2550886842443368L -0.9669176610086782, 0.2550886842443368 L -0.9669003208982025, 0.2551544031502355 L -0.9668829763209821, 0.2552201208774088 \", \"type\": \"path\"}, {\"fillcolor\": \"#c45e3a\", \"layer\": \"below\", \"line\": {\"color\": \"rgb(175,175,175)\", \"width\": 0.5}, \"path\": \"M -0.9747845369627457,0.22314817162218803 Q -0.04695988739570334, -0.19440876774410887 0.9691638821621152, -0.2464170641665418L 0.9691638821621152, -0.2464170641665418 L 0.968377304359786, -0.24949027315884348 L 0.9675809814685543, -0.2525609714511512 M 0.9675809814685543,-0.2525609714511512 Q -0.04702163258002087, -0.19439384267386023 -0.9760426661339376, 0.21757921289993362L -0.9760426661339376, 0.21757921289993362 L -0.9754175759185497, 0.22036459014365348 L -0.9747845369627457, 0.22314817162218803 \", \"type\": \"path\"}, {\"fillcolor\": \"#c45e3a\", \"layer\": \"below\", \"line\": {\"color\": \"rgb(175,175,175)\", \"width\": 0.5}, \"path\": \"M -0.9681203641245009,0.2504854498118481 Q -0.03631490144170695, -0.19667543805284662 0.9937353339893945, -0.1117590532394873L 0.9937353339893945, -0.1117590532394873 L 0.993620339588113, -0.11277686268380968 L 0.9935043027203374, -0.11379455380718391 M 0.9935043027203374,-0.11379455380718391 Q -0.03631583850155822, -0.19667526502824076 -0.9686291013278363, 0.24851089324379358L -0.9686291013278363, 0.24851089324379358 L -0.9683752360014627, 0.24949830119484087 L -0.9681203641245009, 0.2504854498118481 \", \"type\": \"path\"}, {\"fillcolor\": \"#bf4d28\", \"layer\": \"below\", \"line\": {\"color\": \"rgb(175,175,175)\", \"width\": 0.5}, \"path\": \"M -0.999863666394273,0.016512075114956344 Q -0.19864944111413352, -0.023203438215971626 -0.9691418625404793, -0.24650365163942448L -0.9691418625404793, -0.24650365163942448 L -0.9733420167428167, -0.22935849328731284 L -0.9772388797625206, -0.2121418673446943 M -0.9772388797625206,-0.2121418673446943 Q -0.19865072938476036, -0.0231924064060353 -0.9998255184013449, -0.018679741793769786L -0.9998255184013449, -0.018679741793769786 L -0.9999994124705649, -0.0010840011646447226 L -0.999863666394273, 0.016512075114956344 \", \"type\": \"path\"}, {\"fillcolor\": \"#bf4d28\", \"layer\": \"below\", \"line\": {\"color\": \"rgb(175,175,175)\", \"width\": 0.5}, \"path\": \"M -0.9911016224183922,0.13310737785573987 Q -0.19906739676228669, -0.01929174813971884 -0.9470996315407089, -0.3209396951694407L -0.9470996315407089, -0.3209396951694407 L -0.9474371285845129, -0.31994200627540803 L -0.9477735746482631, -0.3189439624737446 M -0.9477735746482631,-0.3189439624737446 Q -0.19906601333858862, -0.01930601806382841 -0.9913985818258868, 0.13087724001376413L -0.9913985818258868, 0.13087724001376413 L -0.9912507292990258, 0.13199239244800984 L -0.9911016224183922, 0.13310737785573987 \", \"type\": \"path\"}, {\"fillcolor\": \"#bf4d28\", \"layer\": \"below\", \"line\": {\"color\": \"rgb(175,175,175)\", \"width\": 0.5}, \"path\": \"M -0.9908213824074914,0.1351776170973123 Q -0.19689423640064588, -0.035109253370110005 -0.8830312477036374, -0.4693141970779888L -0.8830312477036374, -0.4693141970779888 L -0.8835537848667194, -0.46832970143659997 L -0.8840752244114728, -0.46734462400010984 M -0.8840752244114728,-0.46734462400010984 Q -0.19689669406619026, -0.035095467881267474 -0.9911016224183922, 0.13310737785573987L -0.9911016224183922, 0.13310737785573987 L -0.9909620430355264, 0.13414257065844412 L -0.9908213824074914, 0.1351776170973123 \", \"type\": \"path\"}, {\"fillcolor\": \"#bf4d28\", \"layer\": \"below\", \"line\": {\"color\": \"rgb(175,175,175)\", \"width\": 0.5}, \"path\": \"M -0.9976050477942636,0.06916768476250303 Q -0.18049879157027382, -0.08614050291048257 -0.573712439446541, -0.8190567970686153L -0.573712439446541, -0.8190567970686153 L -0.5796005864511617, -0.8149007057215434 L -0.5854586270478169, -0.8107022856852478 M -0.5854586270478169,-0.8107022856852478 Q -0.18055202842990015, -0.08602886160962801 -0.9984298663393738, 0.056016086988829934L -0.9984298663393738, 0.056016086988829934 L -0.9980391203460511, 0.06259324451472816 L -0.9976050477942636, 0.06916768476250303 \", \"type\": \"path\"}, {\"fillcolor\": \"#bf4d28\", \"layer\": \"below\", \"line\": {\"color\": \"rgb(175,175,175)\", \"width\": 0.5}, \"path\": \"M -0.9900680053817589,0.14058927668704155 Q -0.1589469087671769, -0.12139143377256381 -0.12495977922064577, -0.9921618081629263L -0.12495977922064577, -0.9921618081629263 L -0.12531959170868073, -0.9921164245863333 L -0.12567938771409362, -0.9920709105219296 M -0.12567938771409362,-0.9920709105219296 Q -0.15893240845743606, -0.12141041776519307 -0.9902031026709732, 0.13963457831346104L -0.9902031026709732, 0.13963457831346104 L -0.9901356690925466, 0.1401119437830161 L -0.9900680053817589, 0.14058927668704155 \", \"type\": \"path\"}, {\"fillcolor\": \"#bf4d28\", \"layer\": \"below\", \"line\": {\"color\": \"rgb(175,175,175)\", \"width\": 0.5}, \"path\": \"M -0.9955274513376249,0.09447271369667007 Q -0.145883393313168, -0.13681387194080702 0.030466899683392598, -0.9995357762600007L 0.030466899683392598, -0.9995357762600007 L 0.023539168944787876, -0.9997229153747496 L 0.01661030765581487, -0.9998620393232154 M 0.01661030765581487,-0.9998620393232154 Q -0.14597405636308633, -0.13671713451102793 -0.9966334026185711, 0.08198695496802604L -0.9966334026185711, 0.08198695496802604 L -0.9960999902377409, 0.08823156718755788 L -0.9955274513376249, 0.09447271369667007 \", \"type\": \"path\"}, {\"fillcolor\": \"#bf4d28\", \"layer\": \"below\", \"line\": {\"color\": \"rgb(175,175,175)\", \"width\": 0.5}, \"path\": \"M -0.9998255184013449,-0.018679741793769786 Q -0.05802777962834563, -0.19139690904349568 0.8211205579082609, -0.5707547891874639L 0.8211205579082609, -0.5707547891874639 L 0.8093486428294143, -0.5873285063320058 L 0.7972422514058606, -0.6036595005243557 M 0.7972422514058606,-0.6036595005243557 Q -0.05832001473399162, -0.1913080653851975 -0.9984164171618122, -0.05625529256674648L -0.9984164171618122, -0.05625529256674648 L -0.9992975976978886, -0.037474140887134 L -0.9998255184013449, -0.018679741793769786 \", \"type\": \"path\"}, {\"fillcolor\": \"#bf4d28\", \"layer\": \"below\", \"line\": {\"color\": \"rgb(175,175,175)\", \"width\": 0.5}, \"path\": \"M -0.9905808785838977,0.1369288975488867 Q -0.05714534695530901, -0.19166222716371986 0.9038256971715052, -0.4279008169336003L 0.9038256971715052, -0.4279008169336003 L 0.90347033674241, -0.4286506160342667 L 0.9031143542923049, -0.4294001200176744 M 0.9031143542923049,-0.4294001200176744 Q -0.057134975630228305, -0.19166531913659607 -0.9908213824074914, 0.1351776170973123L -0.9908213824074914, 0.1351776170973123 L -0.990701517466917, 0.1360533104659636 L -0.9905808785838977, 0.1369288975488867 \", \"type\": \"path\"}, {\"fillcolor\": \"#bf4d28\", \"layer\": \"below\", \"line\": {\"color\": \"rgb(175,175,175)\", \"width\": 0.5}, \"path\": \"M -0.9993005506147224,0.03739531442724588 Q -0.020761043412246813, -0.1989195291479316 0.9854862937368831, -0.1697550142315148L 0.9854862937368831, -0.1697550142315148 L 0.983771999484936, -0.17942311174821113 L 0.9819628588749822, -0.18907391091864476 M 0.9819628588749822,-0.18907391091864476 Q -0.020636384509707825, -0.1989325001963417 -0.999863666394273, 0.016512075114956344L -0.999863666394273, 0.016512075114956344 L -0.9996366435177039, 0.026955165305725323 L -0.9993005506147224, 0.03739531442724588 \", \"type\": \"path\"}, {\"fillcolor\": \"#bf4d28\", \"layer\": \"below\", \"line\": {\"color\": \"rgb(175,175,175)\", \"width\": 0.5}, \"path\": \"M -0.9966334026185711,0.08198695496802604 Q -0.014287262422270262, -0.199489032612014 0.9981452345597821, -0.06087767017222036L 0.9981452345597821, -0.06087767017222036 L 0.9977977767412897, -0.0663294559765072 L 0.9974205419476838, -0.07177926233104387 M 0.9974205419476838,-0.07177926233104387 Q -0.01409470678566901, -0.19950272990770332 -0.9976050477942636, 0.06916768476250303L -0.9976050477942636, 0.06916768476250303 L -0.997139826051691, 0.07557888132013689 L -0.9966334026185711, 0.08198695496802604 \", \"type\": \"path\"}, {\"fillcolor\": \"#af4624\", \"layer\": \"below\", \"line\": {\"color\": \"rgb(175,175,175)\", \"width\": 0.5}, \"path\": \"M -0.9956616949773183,-0.09304724152221637 Q -0.19551045201309086, -0.042138618316656995 -0.945592378235118, -0.3253537370672936L -0.945592378235118, -0.3253537370672936 L -0.9459833175775271, -0.3242153032554379 L -0.9463728863177093, -0.3230763996993405 M -0.9463728863177093,-0.3230763996993405 Q -0.19550682812802164, -0.042155428539159844 -0.9954183826699514, -0.09561507957816168L -0.9954183826699514, -0.09561507957816168 L -0.9955408667398012, -0.09433123899835785 L -0.9956616949773183, -0.09304724152221637 \", \"type\": \"path\"}, {\"fillcolor\": \"#af4624\", \"layer\": \"below\", \"line\": {\"color\": \"rgb(175,175,175)\", \"width\": 0.5}, \"path\": \"M -0.9954183826699514,-0.09561507957816168 Q -0.19137729686105487, -0.05809242847528141 -0.8806053327298475, -0.4738504489475076L -0.8806053327298475, -0.4738504489475076 L -0.8812545245806568, -0.47264200290084313 L -0.8819020580938337, -0.4714326674402828 M -0.8819020580938337,-0.4714326674402828 Q -0.19138206642437694, -0.0580767135015006 -0.9951684478508929, -0.0981822815076365L -0.9951684478508929, -0.0981822815076365 L -0.9952942429714902, -0.09689876112628175 L -0.9954183826699514, -0.09561507957816168 \", \"type\": \"path\"}, {\"fillcolor\": \"#af4624\", \"layer\": \"below\", \"line\": {\"color\": \"rgb(175,175,175)\", \"width\": 0.5}, \"path\": \"M -0.9917155628021314,-0.12845326969778473 Q -0.17309614901130535, -0.10018843844204771 -0.6053705731004261, -0.795943760088652L -0.6053705731004261, -0.795943760088652 L -0.610047204741862, -0.7923650724171534 L -0.6147026812340717, -0.7887589071976577 M -0.6147026812340717,-0.7887589071976577 Q -0.1731450511957319, -0.10010390225374527 -0.990270320698192, -0.13915707651535406L -0.990270320698192, -0.13915707651535406 L -0.9910073932462544, -0.13380712436661865 L -0.9917155628021314, -0.12845326969778473 \", \"type\": \"path\"}, {\"fillcolor\": \"#af4624\", \"layer\": \"below\", \"line\": {\"color\": \"rgb(175,175,175)\", \"width\": 0.5}, \"path\": \"M -0.9961567374883966,-0.08758855151487378 Q -0.1441042896503885, -0.13868653036382783 -0.12567938771409362, -0.9920709105219296L -0.12567938771409362, -0.9920709105219296 L -0.1258592795210285, -0.9920481045586689 L -0.12603916718956334, -0.9920252659757015 M -0.12603916718956334,-0.9920252659757015 Q -0.14409590141849443, -0.13869524575266284 -0.9961142608631769, -0.08807030887311972L -0.9961142608631769, -0.08807030887311972 L -0.9961355282996044, -0.08782943276184874 L -0.9961567374883966, -0.08758855151487378 \", \"type\": \"path\"}, {\"fillcolor\": \"#af4624\", \"layer\": \"below\", \"line\": {\"color\": \"rgb(175,175,175)\", \"width\": 0.5}, \"path\": \"M -0.98866118952214,-0.1501634187565905 Q -0.12910734536539445, -0.15274584568066252 0.01661030765581487, -0.9998620393232154L 0.01661030765581487, -0.9998620393232154 L 0.010213720044629076, -0.9999478386010192 L 0.003816714450283613, -0.9999927163188765 M 0.003816714450283613,-0.9999927163188765 Q -0.12919800140888174, -0.15266917315539047 -0.986851680042655, -0.16162846778024392L -0.986851680042655, -0.16162846778024392 L -0.9877730692275991, -0.15589856865503496 L -0.98866118952214, -0.1501634187565905 \", \"type\": \"path\"}, {\"fillcolor\": \"#af4624\", \"layer\": \"below\", \"line\": {\"color\": \"rgb(175,175,175)\", \"width\": 0.5}, \"path\": \"M -0.9691418625404793,-0.24650365163942448 Q -0.031258585736004235, -0.19754214947140997 0.8456878517914489, -0.5336778591363561L 0.8456878517914489, -0.5336778591363561 L 0.8336103666263527, -0.5523529276224376 L 0.8211205579082609, -0.5707547891874639 M 0.8211205579082609,-0.5707547891874639 Q -0.03157577336065393, -0.19749169738669173 -0.9581464926501723, -0.28627835863399365L -0.9581464926501723, -0.28627835863399365 L -0.9638493698926703, -0.26644772875275613 L -0.9691418625404793, -0.24650365163942448 \", \"type\": \"path\"}, {\"fillcolor\": \"#af4624\", \"layer\": \"below\", \"line\": {\"color\": \"rgb(175,175,175)\", \"width\": 0.5}, \"path\": \"M -0.9959998508492165,-0.0893548941487728 Q -0.035250315049210126, -0.19686903080203202 0.9031143542923049, -0.4294001200176744L 0.9031143542923049, -0.4294001200176744 L 0.9027901943190463, -0.43008123074760957 L 0.9024655206658273, -0.43076209676497457 M 0.9024655206658273,-0.43076209676497457 Q -0.03524013124429147, -0.1968708539877986 -0.9958545087665721, -0.09096041649689861L -0.9958545087665721, -0.09096041649689861 L -0.9959275033382744, -0.09015768461086106 L -0.9959998508492165, -0.0893548941487728 \", \"type\": \"path\"}, {\"fillcolor\": \"#af4624\", \"layer\": \"below\", \"line\": {\"color\": \"rgb(175,175,175)\", \"width\": 0.5}, \"path\": \"M -0.9845443487660066,-0.17513544847608636 Q -0.0014175500884275115, -0.1999949763162735 0.9819628588749822, -0.18907391091864476L 0.9819628588749822, -0.18907391091864476 L 0.9803133806367855, -0.1974479064069225 L 0.9785924918831904, -0.20580751888560325 M 0.9785924918831904,-0.20580751888560325 Q -0.0013028794858973302, -0.19999575621758886 -0.9811908011393988, -0.19304044073567753L -0.9811908011393988, -0.19304044073567753 L -0.982908346225812, -0.1840955809345768 L -0.9845443487660066, -0.17513544847608636 \", \"type\": \"path\"}, {\"fillcolor\": \"#af4624\", \"layer\": \"below\", \"line\": {\"color\": \"rgb(175,175,175)\", \"width\": 0.5}, \"path\": \"M -0.986851680042655,-0.16162846778024392 Q 0.011297365821868969, -0.19968066888281116 0.9987846673635262, -0.04928679579289348L 0.9987846673635262, -0.04928679579289348 L 0.9984817701846528, -0.0550831608472345 L 0.9981452345597821, -0.06087767017222036 M 0.9981452345597821,-0.06087767017222036 Q 0.011506443411111367, -0.19966873005061883 -0.9845443487660066, -0.17513544847608636L -0.9845443487660066, -0.17513544847608636 L -0.9857211498352462, -0.16838591024037652 L -0.986851680042655, -0.16162846778024392 \", \"type\": \"path\"}, {\"fillcolor\": \"#9f4021\", \"layer\": \"below\", \"line\": {\"color\": \"rgb(175,175,175)\", \"width\": 0.5}, \"path\": \"M -0.9215890240430601,-0.38816706553153124 Q -0.17681599012596227, -0.09346713666190708 -0.8397859166711956, -0.5429176863583647L -0.8397859166711956, -0.5429176863583647 L -0.8444557075933078, -0.5356253895336608 L -0.8490621773924368, -0.5282929290853836 M -0.8490621773924368,-0.5282929290853836 Q -0.17691506916955504, -0.09327946344577438 -0.9155840338167935, -0.4021266927471598L -0.9155840338167935, -0.4021266927471598 L -0.918613046352778, -0.3951582860961781 L -0.9215890240430601, -0.38816706553153124 \", \"type\": \"path\"}, {\"fillcolor\": \"#9f4021\", \"layer\": \"below\", \"line\": {\"color\": \"rgb(175,175,175)\", \"width\": 0.5}, \"path\": \"M -0.9264212255289087,-0.3764886623651698 Q -0.1554809513641161, -0.12580013419273195 -0.5615561830576276, -0.8274386099704004L -0.5615561830576276, -0.8274386099704004 L -0.5676497820025195, -0.8232701409576885 L -0.573712439446541, -0.8190567970686153 M -0.573712439446541,-0.8190567970686153 Q -0.15561466600093465, -0.12563469156812365 -0.9215890240430601, -0.38816706553153124L -0.9215890240430601, -0.38816706553153124 L -0.9240235748647821, -0.38233549808265044 L -0.9264212255289087, -0.3764886623651698 \", \"type\": \"path\"}, {\"fillcolor\": \"#9f4021\", \"layer\": \"below\", \"line\": {\"color\": \"rgb(175,175,175)\", \"width\": 0.5}, \"path\": \"M -0.9421637195299268,-0.3351529883523843 Q -0.12393573008231139, -0.15697112730997526 -0.10742995109367026, -0.994212656129468L -0.10742995109367026, -0.994212656129468 L -0.10905234747456609, -0.9940360081557843 L -0.11067445340821883, -0.9938567126919212 M -0.11067445340821883,-0.9938567126919212 Q -0.12387305123939099, -0.15702059475318267 -0.9407944073141385, -0.3389777030520426L -0.9407944073141385, -0.3389777030520426 L -0.9414810056356215, -0.33706604104735727 L -0.9421637195299268, -0.3351529883523843 \", \"type\": \"path\"}, {\"fillcolor\": \"#9f4021\", \"layer\": \"below\", \"line\": {\"color\": \"rgb(175,175,175)\", \"width\": 0.5}, \"path\": \"M -0.9079225760045453,-0.41913791999921773 Q -0.09872312801359072, -0.17393603420571652 0.10561874703939858, -0.9944066976211632L 0.10561874703939858, -0.9944066976211632 L 0.09297612957312648, -0.9956683380170332 L 0.0803185032015004, -0.9967692501494368 M 0.0803185032015004,-0.9967692501494368 Q -0.09906168707196344, -0.1737434377306274 -0.8986949845558128, -0.4385741952443481L -0.8986949845558128, -0.4385741952443481 L -0.9033610544683205, -0.42888087538369457 L -0.9079225760045453, -0.41913791999921773 \", \"type\": \"path\"}, {\"fillcolor\": \"#9f4021\", \"layer\": \"below\", \"line\": {\"color\": \"rgb(175,175,175)\", \"width\": 0.5}, \"path\": \"M -0.9407944073141385,-0.3389777030520426 Q -0.055147644079455584, -0.19224655355164547 0.6180431229091267, -0.7861441968396982L 0.6180431229091267, -0.7861441968396982 L 0.6157867482302775, -0.7879128636492622 L 0.6135253121483034, -0.7896750542807636 M 0.6135253121483034,-0.7896750542807636 Q -0.055221529049900756, -0.19222534361886565 -0.9390997206066833, -0.3436447508059001L -0.9390997206066833, -0.3436447508059001 L -0.9399499605731578, -0.3413122787397474 L -0.9407944073141385, -0.3389777030520426 \", \"type\": \"path\"}, {\"fillcolor\": \"#9f4021\", \"layer\": \"below\", \"line\": {\"color\": \"rgb(175,175,175)\", \"width\": 0.5}, \"path\": \"M -0.9485862801460101,-0.3165186710428869 Q -0.01251592406335341, -0.19960799494218756 0.9016189664717532, -0.432531200375658L 0.9016189664717532, -0.432531200375658 L 0.901423115199878, -0.4329392190404418 L 0.9012270792832401, -0.43334714902327504 M 0.9012270792832401,-0.43334714902327504 Q -0.012516164808980558, -0.19960797984668457 -0.94830015129963, -0.3173748935330248L -0.94830015129963, -0.3173748935330248 L -0.948443312343907, -0.31694681457638607 L -0.9485862801460101, -0.3165186710428869 \", \"type\": \"path\"}, {\"fillcolor\": \"#9f4021\", \"layer\": \"below\", \"line\": {\"color\": \"rgb(175,175,175)\", \"width\": 0.5}, \"path\": \"M -0.9470996315407089,-0.3209396951694407 Q 0.005190272299788777, -0.19993264134066266 0.9624759730849556, -0.2713669125633555L 0.9624759730849556, -0.2713669125633555 L 0.962167908874233, -0.27245718036525607 L 0.9618586096368698, -0.2735470984445418 M 0.9618586096368698,-0.2735470984445418 Q 0.005189373092682919, -0.19993266468214976 -0.9463728863177093, -0.3230763996993405L -0.9463728863177093, -0.3230763996993405 L -0.9467368617244374, -0.3220082524597212 L -0.9470996315407089, -0.3209396951694407 \", \"type\": \"path\"}, {\"fillcolor\": \"#9f4021\", \"layer\": \"below\", \"line\": {\"color\": \"rgb(175,175,175)\", \"width\": 0.5}, \"path\": \"M -0.9446584074947082,-0.32805562508446917 Q 0.022925790119640306, -0.19868167541922482 0.9945467618182795, -0.10429160348165319L 0.9945467618182795, -0.10429160348165319 L 0.9943745073648494, -0.10592138170791043 L 0.9941995821719779, -0.1075508754453653 M 0.9941995821719779,-0.1075508754453653 Q 0.022958905311533304, -0.19867785147543762 -0.9434676209466256, -0.3314647013262715L -0.9434676209466256, -0.3314647013262715 L -0.9440645530204047, -0.32976070070641134 L -0.9446584074947082, -0.32805562508446917 \", \"type\": \"path\"}, {\"fillcolor\": \"#8f391e\", \"layer\": \"below\", \"line\": {\"color\": \"rgb(175,175,175)\", \"width\": 0.5}, \"path\": \"M -0.807433200555445,-0.5899590042035044 Q -0.11967341253946628, -0.160244420592914 -0.33644073160195037, -0.9417046427193319L -0.33644073160195037, -0.9417046427193319 L -0.36835320081732736, -0.9296859251637779 L -0.39983732857445325, -0.9165861174371149 M -0.39983732857445325,-0.9165861174371149 Q -0.11980742256703632, -0.1601442521536243 -0.7664248999934598, -0.6423339261396795L -0.7664248999934598, -0.6423339261396795 L -0.7873646634678284, -0.616487539794758 L -0.807433200555445, -0.5899590042035044 \", \"type\": \"path\"}, {\"fillcolor\": \"#8f391e\", \"layer\": \"below\", \"line\": {\"color\": \"rgb(175,175,175)\", \"width\": 0.5}, \"path\": \"M -0.8720154900423942,-0.4894782785028598 Q -0.10889020690707976, -0.16775852538614353 -0.09203361957398683, -0.9957559002426803L -0.09203361957398683, -0.9957559002426803 L -0.09504256268303374, -0.9954732097242204 L -0.09805063770633442, -0.9951814268993273 M -0.09805063770633442,-0.9951814268993273 Q -0.10867796717569195, -0.16789609718679954 -0.8677868754089249, -0.49693655416764737L -0.8677868754089249, -0.49693655416764737 L -0.8699091758203692, -0.4932119481759601 L -0.8720154900423942, -0.4894782785028598 \", \"type\": \"path\"}, {\"fillcolor\": \"#8f391e\", \"layer\": \"below\", \"line\": {\"color\": \"rgb(175,175,175)\", \"width\": 0.5}, \"path\": \"M -0.7664248999934598,-0.6423339261396795 Q -0.047515802971953874, -0.19427364326621988 0.38343363782670037, -0.9235684302654475L 0.38343363782670037, -0.9235684302654475 L 0.3493761225804761, -0.9369825638562502 L 0.314850494574829, -0.9491412782436478 M 0.314850494574829,-0.9491412782436478 Q -0.04776494010656511, -0.1942125394937625 -0.7191719309214113, -0.6948321623059548L -0.7191719309214113, -0.6948321623059548 L -0.7432620683219476, -0.6690003720430808 L -0.7664248999934598, -0.6423339261396795 \", \"type\": \"path\"}, {\"fillcolor\": \"#8f391e\", \"layer\": \"below\", \"line\": {\"color\": \"rgb(175,175,175)\", \"width\": 0.5}, \"path\": \"M -0.8677868754089249,-0.49693655416764737 Q -0.036590102776868035, -0.19662442467500887 0.6309349779683096, -0.775835713006387L 0.6309349779683096, -0.775835713006387 L 0.6270853128184725, -0.7789505828018608 L 0.6232202700721392, -0.7820463509097206 M 0.6232202700721392,-0.7820463509097206 Q -0.03660288852429373, -0.1966220449280246 -0.8628884634670133, -0.5053944000634918L -0.8628884634670133, -0.5053944000634918 L -0.8653480027928853, -0.501171461739757 L -0.8677868754089249, -0.49693655416764737 \", \"type\": \"path\"}, {\"fillcolor\": \"#8f391e\", \"layer\": \"below\", \"line\": {\"color\": \"rgb(175,175,175)\", \"width\": 0.5}, \"path\": \"M -0.8775812842484589,-0.4794278773046322 Q 0.0068230030575442795, -0.19988358269071713 0.9082309037789315, -0.41846938409028844L 0.9082309037789315, -0.41846938409028844 L 0.9072498822276038, -0.4205920246485885 L 0.9062638998282737, -0.42271236540708007 M 0.9062638998282737,-0.42271236540708007 Q 0.0068868564660013055, -0.19988139285090223 -0.8750204200750755, -0.4840860093533363L -0.8750204200750755, -0.4840860093533363 L -0.8763039472968185, -0.48175864491674125 L -0.8775812842484589, -0.4794278773046322 \", \"type\": \"path\"}, {\"fillcolor\": \"#8f391e\", \"layer\": \"below\", \"line\": {\"color\": \"rgb(175,175,175)\", \"width\": 0.5}, \"path\": \"M -0.8844755844466107,-0.4665864769984514 Q 0.0201059593022094, -0.19898680961445134 0.9599345810867158, -0.2802241960178875L 0.9599345810867158, -0.2802241960178875 L 0.9598922392715213, -0.28036920120852143 L 0.9598498755522245, -0.2805142000013176 M 0.9598498755522245,-0.2805142000013176 Q 0.02011002108453885, -0.19898639916330818 -0.8843155184347962, -0.4668897769874574L -0.8843155184347962, -0.4668897769874574 L -0.8843955644426462, -0.4667381338547058 L -0.8844755844466107, -0.4665864769984514 \", \"type\": \"path\"}, {\"fillcolor\": \"#8f391e\", \"layer\": \"below\", \"line\": {\"color\": \"rgb(175,175,175)\", \"width\": 0.5}, \"path\": \"M -0.8843155184347962,-0.4668897769874574 Q 0.03670417702589816, -0.19660316220460833 0.9932056778647748, -0.11637216788035384L 0.9932056778647748, -0.11637216788035384 L 0.9931818173698908, -0.1165756305830725 L 0.9931579151947467, -0.11677908839353136 M 0.9931579151947467,-0.11677908839353136 Q 0.0367144696521203, -0.19660124037798832 -0.8840752244114728, -0.46734462400010984L -0.8840752244114728, -0.46734462400010984 L -0.8841954006708845, -0.46711721594526345 L -0.8843155184347962, -0.4668897769874574 \", \"type\": \"path\"}, {\"fillcolor\": \"#f0f3e7\", \"layer\": \"below\", \"line\": {\"color\": \"rgb(175,175,175)\", \"width\": 0.5}, \"path\": \"M -0.5955309349603443,-0.8033323754867958 Q -0.06999607983838997, -0.1873514046044431 -0.0770973734266901, -0.9970235679314233L -0.0770973734266901, -0.9970235679314233 L -0.08137539310325034, -0.9966835231894282 L -0.08565191408246045, -0.9963251224444813 M -0.08565191408246045,-0.9963251224444813 Q -0.06963082621531358, -0.18748746102225824 -0.5854586270478169, -0.8107022856852478L -0.5854586270478169, -0.8107022856852478 L -0.5905062787872285, -0.8070330443748013 L -0.5955309349603443, -0.8033323754867958 \", \"type\": \"path\"}, {\"fillcolor\": \"#f0f3e7\", \"layer\": \"below\", \"line\": {\"color\": \"rgb(175,175,175)\", \"width\": 0.5}, \"path\": \"M -0.24822505827325753,-0.9687023900276276 Q 0.023593821350286925, -0.19860345312730782 0.4682740859670784, -0.8835832617312854L 0.4682740859670784, -0.8835832617312854 L 0.4263229000630519, -0.9045710502121042 L 0.38343363782670037, -0.9235684302654475 M 0.38343363782670037,-0.9235684302654475 Q 0.023493457432378167, -0.19861535050915133 -0.1573760084297651, -0.9875387546677419L -0.1573760084297651, -0.9875387546677419 L -0.20301910867174822, -0.9791747757750549 L -0.24822505827325753, -0.9687023900276276 \", \"type\": \"path\"}, {\"fillcolor\": \"#f0f3e7\", \"layer\": \"below\", \"line\": {\"color\": \"rgb(175,175,175)\", \"width\": 0.5}, \"path\": \"M -0.5061350005687585,-0.8624542661493784 Q 0.0315113676794711, -0.19750198405831065 0.749382942540952, -0.6621368479617067L 0.749382942540952, -0.6621368479617067 L 0.737824109418219, -0.6749930248241178 L 0.7260447495919269, -0.6876474544343172 M 0.7260447495919269,-0.6876474544343172 Q 0.031551268500185733, -0.19749561376402563 -0.47566178809574716, -0.8796282529259486L -0.47566178809574716, -0.8796282529259486 L -0.4909734921698266, -0.871174511786568 L -0.5061350005687585, -0.8624542661493784 \", \"type\": \"path\"}, {\"fillcolor\": \"#f0f3e7\", \"layer\": \"below\", \"line\": {\"color\": \"rgb(175,175,175)\", \"width\": 0.5}, \"path\": \"M -0.5615561830576276,-0.8274386099704004 Q 0.057251600635320234, -0.19163051485787383 0.9234220713477334, -0.3837859796134581L 0.9234220713477334, -0.3837859796134581 L 0.9207364972839032, -0.39018495943509784 L 0.9180065812401703, -0.3965651482414138 M 0.9180065812401703,-0.3965651482414138 Q 0.05747125118140986, -0.19156475481581495 -0.548101803445745, -0.8364116289600007L -0.548101803445745, -0.8364116289600007 L -0.5548471325690768, -0.8319523180326343 L -0.5615561830576276, -0.8274386099704004 \", \"type\": \"path\"}, {\"fillcolor\": \"#f0f3e7\", \"layer\": \"below\", \"line\": {\"color\": \"rgb(175,175,175)\", \"width\": 0.5}, \"path\": \"M -0.6343336424787896,-0.7730593961783215 Q 0.06076860349872524, -0.1905444221928701 0.9647768593373351, -0.26306959475999475L 0.9647768593373351, -0.26306959475999475 L 0.9641582533915468, -0.26532783950607564 L 0.9635343615998452, -0.26758462963402596 M 0.9635343615998452,-0.26758462963402596 Q 0.060841621137295146, -0.19052111992476278 -0.6301115821336905, -0.7765046001544211L -0.6301115821336905, -0.7765046001544211 L -0.6322249590683173, -0.7747848740980069 L -0.6343336424787896, -0.7730593961783215 \", \"type\": \"path\"}, {\"fillcolor\": \"#f0f3e7\", \"layer\": \"below\", \"line\": {\"color\": \"rgb(175,175,175)\", \"width\": 0.5}, \"path\": \"M -0.6257337012867878,-0.780036752386666 Q 0.07743760348342242, -0.18440015609197366 0.9950474961512992, -0.09940060564719998L 0.9950474961512992, -0.09940060564719998 L 0.9948001348518877, -0.1018464123013967 L 0.9945467618182795, -0.10429160348165319 M 0.9945467618182795,-0.10429160348165319 Q 0.0775677427187168, -0.18434545095966692 -0.6207849257534713, -0.7839809155567864L -0.6207849257534713, -0.7839809155567864 L -0.6232624334863777, -0.7820127486202758 L -0.6257337012867878, -0.780036752386666 \", \"type\": \"path\"}, {\"fillcolor\": \"#e2ecde\", \"layer\": \"below\", \"line\": {\"color\": \"rgb(175,175,175)\", \"width\": 0.5}, \"path\": \"M -0.0770973734266901,-0.9970235679314233 Q -0.007334078553003759, -0.1998654829923826 0.003816714450283613, -0.9999927163188765L 0.003816714450283613, -0.9999927163188765 L -0.002580447338118326, -0.9999966706402252 L -0.00897750352508151, -0.9999597014032401 M -0.00897750352508151,-0.9999597014032401 Q -0.00774283058474861, -0.1998500652352555 -0.06841654914206448, -0.9976568427086998L -0.06841654914206448, -0.9976568427086998 L -0.07275765028209927, -0.9973496499851132 L -0.0770973734266901, -0.9970235679314233 \", \"type\": \"path\"}, {\"fillcolor\": \"#e2ecde\", \"layer\": \"below\", \"line\": {\"color\": \"rgb(175,175,175)\", \"width\": 0.5}, \"path\": \"M -0.12172073291959123,-0.9925643874215504 Q 0.05268168598915991, -0.19293688077021343 0.6092629308393841, -0.7929682724453758L 0.6092629308393841, -0.7929682724453758 L 0.6078841923810963, -0.7940256977284692 L 0.6065036186791156, -0.7950807257940152 M 0.6065036186791156,-0.7950807257940152 Q 0.052579678891743364, -0.1929647049790224 -0.11932060140054196, -0.9928557770801422L -0.11932060140054196, -0.9928557770801422 L -0.12052075522369927, -0.992710807617359 L -0.12172073291959123, -0.9925643874215504 \", \"type\": \"path\"}, {\"fillcolor\": \"#e2ecde\", \"layer\": \"below\", \"line\": {\"color\": \"rgb(175,175,175)\", \"width\": 0.5}, \"path\": \"M -0.12412015291532055,-0.9922671956888817 Q 0.0959744490797535, -0.175467675438634 0.9024655206658273, -0.43076209676497457L 0.9024655206658273, -0.43076209676497457 L 0.9022379435679125, -0.4312385571656878 L 0.9020101149207821, -0.4317148973345691 M 0.9020101149207821,-0.4317148973345691 Q 0.09595603962926597, -0.1754777434852259 -0.12328043773017734, -0.9923718726732715L -0.12328043773017734, -0.9923718726732715 L -0.12370030639514673, -0.992319623003469 L -0.12412015291532055, -0.9922671956888817 \", \"type\": \"path\"}, {\"fillcolor\": \"#e2ecde\", \"layer\": \"below\", \"line\": {\"color\": \"rgb(175,175,175)\", \"width\": 0.5}, \"path\": \"M -0.12328043773017734,-0.9923718726732715 Q 0.11045009762075148, -0.16673564686522938 0.9618586096368698, -0.2735470984445418L 0.9618586096368698, -0.2735470984445418 L 0.9615895516053197, -0.2744914101451633 L 0.9613195664891164, -0.27543545720400153 M 0.9613195664891164,-0.27543545720400153 Q 0.11041739463899117, -0.16675730557051252 -0.12172073291959123, -0.9925643874215504L -0.12172073291959123, -0.9925643874215504 L -0.12250062314299193, -0.9924684364399599 L -0.12328043773017734, -0.9923718726732715 \", \"type\": \"path\"}, {\"fillcolor\": \"#e2ecde\", \"layer\": \"below\", \"line\": {\"color\": \"rgb(175,175,175)\", \"width\": 0.5}, \"path\": \"M -0.12627901096654068,-0.9919947637912774 Q 0.12314305860082086, -0.15759374073368143 0.993093972298503, -0.11732161857211204L 0.993093972298503, -0.11732161857211204 L 0.9930779402663918, -0.11745724565245295 L 0.993061889711658, -0.1175928705420138 M 0.993061889711658,-0.1175928705420138 Q 0.12314058695464801, -0.15759567203595656 -0.12603916718956334, -0.9920252659757015L -0.12603916718956334, -0.9920252659757015 L -0.12615908999988734, -0.9920100221320349 L -0.12627901096654068, -0.9919947637912774 \", \"type\": \"path\"}, {\"fillcolor\": \"#d4e5d6\", \"layer\": \"below\", \"line\": {\"color\": \"rgb(175,175,175)\", \"width\": 0.5}, \"path\": \"M 0.13807028644478364,-0.9904224331067302 Q 0.09792743821752455, -0.17438525409034136 0.7738101247653549, -0.6334176274864994L 0.7738101247653549, -0.6334176274864994 L 0.7617318940931086, -0.64789236877843 L 0.749382942540952, -0.6621368479617067 M 0.749382942540952,-0.6621368479617067 Q 0.09800206423498536, -0.17434332624359847 0.17614960940714294, -0.9843634060171634L 0.17614960940714294, -0.9843634060171634 L 0.15713915390384747, -0.9875764711202788 L 0.13807028644478364, -0.9904224331067302 \", \"type\": \"path\"}, {\"fillcolor\": \"#d4e5d6\", \"layer\": \"below\", \"line\": {\"color\": \"rgb(175,175,175)\", \"width\": 0.5}, \"path\": \"M 0.04467268522880223,-0.9990016772730906 Q 0.11587498149198816, -0.16301223470718817 0.9288274634225828, -0.37051254120740706L 0.9288274634225828, -0.37051254120740706 L 0.9261485468357616, -0.37715894420523427 L 0.9234220713477334, -0.3837859796134581 M 0.9234220713477334,-0.3837859796134581 Q 0.11608268231782977, -0.16286439410103676 0.06153009695895197, -0.9981052285046011L 0.06153009695895197, -0.9981052285046011 L 0.05310328277238117, -0.9985890252545321 L 0.04467268522880223, -0.9990016772730906 \", \"type\": \"path\"}, {\"fillcolor\": \"#d4e5d6\", \"layer\": \"below\", \"line\": {\"color\": \"rgb(175,175,175)\", \"width\": 0.5}, \"path\": \"M -0.03704563097610899,-0.9993135750231665 Q 0.11724120641918755, -0.16203240267728383 0.9607768160448324, -0.2773227537558974L 0.9607768160448324, -0.2773227537558974 L 0.9605670791665342, -0.27804835266815237 L 0.9603567943007204, -0.27877379295845545 M 0.9603567943007204,-0.27877379295845545 Q 0.11726278694226813, -0.16201678554561016 -0.035269800438131, -0.9993778270389304L -0.035269800438131, -0.9993778270389304 L -0.036157729979042194, -0.9993460954858245 L -0.03704563097610899, -0.9993135750231665 \", \"type\": \"path\"}, {\"fillcolor\": \"#d4e5d6\", \"layer\": \"below\", \"line\": {\"color\": \"rgb(175,175,175)\", \"width\": 0.5}, \"path\": \"M -0.018927653209830305,-0.9998208559256845 Q 0.1341520343390589, -0.14833486334200724 0.9966887645745403, -0.08131117125510304L 0.9966887645745403, -0.08131117125510304 L 0.9963705443546669, -0.08512190283578427 L 0.9960377542688148, -0.08893138968404912 M 0.9960377542688148,-0.08893138968404912 Q 0.13432276513503588, -0.14818027792684826 -0.00897750352508151, -0.9999597014032401L -0.00897750352508151, -0.9999597014032401 L -0.013952751076997167, -0.9999026556307286 L -0.018927653209830305, -0.9998208559256845 \", \"type\": \"path\"}, {\"fillcolor\": \"#c6decd\", \"layer\": \"below\", \"line\": {\"color\": \"rgb(175,175,175)\", \"width\": 0.5}, \"path\": \"M 0.650015371371942,-0.7599210597030434 Q 0.16095714840502162, -0.11871308427180155 0.9180065812401703, -0.3965651482414138L 0.9180065812401703, -0.3965651482414138 L 0.9157180814668762, -0.4018213474600666 L 0.9133994867457178, -0.40706434087581206 M 0.9133994867457178,-0.40706434087581206 Q 0.16106035381494646, -0.11857302572256585 0.6599934328672927, -0.7512713681300829L 0.6599934328672927, -0.7512713681300829 L 0.6550186799528348, -0.755612684457352 L 0.650015371371942, -0.7599210597030434 \", \"type\": \"path\"}, {\"fillcolor\": \"#c6decd\", \"layer\": \"below\", \"line\": {\"color\": \"rgb(175,175,175)\", \"width\": 0.5}, \"path\": \"M 0.708981595682733,-0.7052269825972101 Q 0.17867342669893682, -0.08986549166203711 0.9888781922900922, -0.14872767332638362L 0.9888781922900922, -0.14872767332638362 L 0.9872382276773554, -0.15925037460701402 L 0.9854862937368831, -0.1697550142315148 M 0.9854862937368831,-0.1697550142315148 Q 0.17881697603688018, -0.08957951261882274 0.7260447495919269, -0.6876474544343172L 0.7260447495919269, -0.6876474544343172 L 0.7175670093173837, -0.6964894738180224 L 0.708981595682733, -0.7052269825972101 \", \"type\": \"path\"}, {\"fillcolor\": \"#c6decd\", \"layer\": \"below\", \"line\": {\"color\": \"rgb(175,175,175)\", \"width\": 0.5}, \"path\": \"M 0.6751288232395971,-0.737699852264535 Q 0.18174839617385996, -0.08347167476593274 0.9995065603657314, -0.03141075907813368L 0.9995065603657314, -0.03141075907813368 L 0.9991855913077824, -0.04035039185580859 L 0.9987846673635262, -0.04928679579289348 M 0.9987846673635262,-0.04928679579289348 Q 0.1819511529038782, -0.08302877788423443 0.6917439105506132, -0.7221428959812215L 0.6917439105506132, -0.7221428959812215 L 0.6834806305353364, -0.7299686484247244 L 0.6751288232395971, -0.737699852264535 \", \"type\": \"path\"}, {\"fillcolor\": \"#b8d7c5\", \"layer\": \"below\", \"line\": {\"color\": \"rgb(175,175,175)\", \"width\": 0.5}, \"path\": \"M 0.900899942542896,-0.4340268350300552 Q 0.18674503168943182, -0.07159813642346503 0.9601459615673554, -0.2794990742129541L 0.9601459615673554, -0.2794990742129541 L 0.9600403397879155, -0.27986165507247296 L 0.9599345810867158, -0.2802241960178875 M 0.9599345810867158,-0.2802241960178875 Q 0.18674499631230126, -0.07159822869539853 0.9012270792832401, -0.43334714902327504L 0.9012270792832401, -0.43334714902327504 L 0.9010635750002611, -0.4336870228721961 L 0.900899942542896, -0.4340268350300552 \", \"type\": \"path\"}, {\"fillcolor\": \"#b8d7c5\", \"layer\": \"below\", \"line\": {\"color\": \"rgb(175,175,175)\", \"width\": 0.5}, \"path\": \"M 0.9005722931981289,-0.4347062740792491 Q 0.19205374228824212, -0.05581541071318467 0.9932849118107772, -0.11569392364794526L 0.9932849118107772, -0.11569392364794526 L 0.993245352730729, -0.1160330525273285 L 0.9932056778647748, -0.11637216788035384 M 0.9932056778647748,-0.11637216788035384 Q 0.19205573641060336, -0.055808548733870894 0.900899942542896, -0.4340268350300552L 0.900899942542896, -0.4340268350300552 L 0.9007361819344205, -0.43436658544851553 L 0.9005722931981289, -0.4347062740792491 \", \"type\": \"path\"}, {\"fillcolor\": \"#aad0bc\", \"layer\": \"below\", \"line\": {\"color\": \"rgb(175,175,175)\", \"width\": 0.5}, \"path\": \"M 0.9660762691884456,-0.2582569304218845 Q 0.19694066567862004, -0.03484787227453083 0.9960377542688148, -0.08893138968404912L 0.9960377542688148, -0.08893138968404912 L 0.9957973855990377, -0.09158366030095809 L 0.9955499544190095, -0.09423528137756078 M 0.9955499544190095,-0.09423528137756078 Q 0.19695050382205326, -0.034792226778971654 0.9675809814685543, -0.2525609714511512L 0.9675809814685543, -0.2525609714511512 L 0.9668328199547976, -0.25541005903889896 L 0.9660762691884456, -0.2582569304218845 \", \"type\": \"path\"}, {\"fillcolor\": \"#f2e6ce\", \"layer\": \"below\", \"line\": {\"color\": \"rgb(150,150,150)\", \"width\": 0.45}, \"path\": \"M 1.1, 0.0 L 1.099745850240148, 0.0236445528520701 L 1.098983518400774, 0.047278179781541724 L 1.0977133567481583, 0.07088995991458111 L 1.0959359522118988, 0.094468982472551 L 1.0936521261136973, 0.1180043518137775 L 1.0908629337878348, 0.1414851924683222 L 1.0875696640935109, 0.16490065416343333 L 1.0837738388192744, 0.18823991683735336 L 1.0794772119798197, 0.21149219563916646 L 1.074681769005473, 0.23464674591237542 L 1.0693897258247445, 0.25769286815990483 L 1.063603527840367, 0.2806199129882371 L 1.0573258487993014, 0.30341728602839535 L 1.0505595895572215, 0.32607445283150066 L 0.9550541723247468, 0.29643132075590967 L 0.9612053170902739, 0.2758338963894503 L 0.9669122980366972, 0.25510901180748824 L 0.9721724780224948, 0.23426624378173166 L 0.9769834263686119, 0.2133152235567049 L 0.9813429199816542, 0.19226563239924221 L 0.9852489443811584, 0.17112719712486668 L 0.9886996946304643, 0.1499096856031212 L 0.9916935761707588, 0.12862290224392925 L 0.9942292055579065, 0.10727668346707045 L 0.996305411101726, 0.08588089315686455 L 0.9979212334074165, 0.06444541810416464 L 0.9990759258188854, 0.0429801634377652 L 0.9997689547637708, 0.021495048047336453 L 1.0, 0.0 L 1.1 ,0.0\", \"type\": \"path\"}, {\"fillcolor\": \"#ecd5bb\", \"layer\": \"below\", \"line\": {\"color\": \"rgb(150,150,150)\", \"width\": 0.45}, \"path\": \"M 1.0397989557381504, 0.35891242893755043 L 1.032155509413297, 0.38033538408591083 L 1.0240707395982713, 0.40159571748046563 L 1.0155481031353795, 0.42268433874243905 L 1.0065912440875897, 0.4435922309128039 L 0.9972039921804234, 0.46431045430770373 L 0.9873903611644604, 0.484830150340835 L 0.9771545470991625, 0.5051425453111535 L 0.9665009265587444, 0.5252389541542866 L 0.9554340547608617, 0.5451107841560454 L 0.9439586636189159, 0.5647495386264523 L 0.9320796597188074, 0.5841468205327087 L 0.919802122221005, 0.6032943360895539 L 0.9071313006888255, 0.6221838983054769 L 0.8940726128438531, 0.640807430483266 L 0.8806316422494603, 0.6591569696733993 L 0.8668141359234172, 0.6772246700788003 L 0.8526260018806123, 0.6950028064095011 L 0.8380733066069366, 0.7124837771857798 L 0.8231622724654071, 0.7296601079883613 L 0.8078992750356426, 0.7465244546542888 L 0.7922908403878282, 0.7630696064171009 L 0.7763436422923329, 0.7792884889899726 L 0.7600644993661748, 0.7951741675905011 L 0.743460372157554, 0.8107198499058423 L 0.7265383601696986, 0.8259188889969313 L 0.7093056988252975, 0.8407647861405452 L 0.6917697563728172, 0.855251193607991 L 0.673938030736026, 0.869371917379235 L 0.655818146308072, 0.8831209197913072 L 0.6374178506914865, 0.8964923221198527 L 0.6187450113855054, 0.9094804070927263 L 0.5998076124221265, 0.9220796213345507 L 0.5806137509523404, 0.9342845777412008 L 0.5611716337839936, 0.9460900577831919 L 0.541489573872767, 0.9574910137369903 L 0.5215759867677654, 0.968482570843292 L 0.5014393870132441, 0.9790600293913455 L 0.481088384508005, 0.9892188667284294 L 0.46053168082402274, 0.9989547391936237 L 0.43977806548587356, 1.0082634839750484 L 0.4188364122125569, 1.0171411208897776 L 0.39771567512332007, 1.0255838540856628 L 0.3764248849091022, 1.033588073664344 L 0.3422044408264565, 0.9396255215130399 L 0.36155970465756365, 0.9323489582596933 L 0.38076037473868807, 0.9246737462634341 L 0.3997982413507941, 0.916603167250044 L 0.4186651643854752, 0.9081406719942032 L 0.43735307682545904, 0.8992898788440267 L 0.4558539881938582, 0.8900545721739503 L 0.47415998797069575, 0.880438700766629 L 0.49226324897524265, 0.8704463761245366 L 0.5101560307127214, 0.8600818707119926 L 0.5278306826839457, 0.8493496161283642 L 0.5452796476564786, 0.8382542012132278 L 0.562495464895914, 0.8268003700842965 L 0.5794707733558968, 0.814993020108957 L 0.59619831482552, 0.8028371998102792 L 0.6126709370327509, 0.7903381067083954 L 0.628881596702561, 0.7775010850981735 L 0.6448233625684522, 0.7643316237641319 L 0.6604894183360897, 0.7508353536335739 L 0.6758730655977763, 0.7370180453689475 L 0.6909677266965225, 0.7228856069004554 L 0.7057669475384843, 0.708444080899975 L 0.720264400352571, 0.6936996421973644 L 0.7344538863960387, 0.6786585951402625 L 0.7483293386049155, 0.6633273708985102 L 0.7618848241881241, 0.6477125247143453 L 0.7751145471641929, 0.6318207330995463 L 0.78801285083947, 0.6156587909807275 L 0.800574220226782, 0.5992336087939993 L 0.8127932844035027, 0.5825522095302418 L 0.8246648188080231, 0.5656217257322517 L 0.8361837474736409, 0.5484493964450489 L 0.8473451451989157, 0.5310425641206442 L 0.8581442396535598, 0.5134086714785929 L 0.8685764134189652, 0.49555525832367764 L 0.8786372059624948, 0.47748995832207863 L 0.8883223155446931, 0.4592204957374123 L 0.8976276010586003, 0.44075468212803176 L 0.9065490838003849, 0.42210041300700335 L 0.9150829491705361, 0.40326566446618534 L 0.9232255483048903, 0.38425848976585364 L 0.930973399634792, 0.36508701589133236 L 0.9383231903757245, 0.3457594400781007 L 0.945271777943773, 0.326284026306864 L 1.0397989557381504 ,0.35891242893755043\", \"type\": \"path\"}, {\"fillcolor\": \"#e6c4a9\", \"layer\": \"below\", \"line\": {\"color\": \"rgb(150,150,150)\", \"width\": 0.45}, \"path\": \"M 0.3437733559836657, 1.0449018517141828 L 0.3219226739029976, 1.0518392424829681 L 0.2999321603993944, 1.0583197527959838 L 0.2778113673467796, 1.0643405677568214 L 0.25556990320774287, 1.0698990721439032 L 0.23321742885997612, 1.074992851546438 L 0.21076365339994105, 1.0796196934131528 L 0.18821832992559365, 1.0837775880133436 L 0.1655912512999955, 1.08746472930983 L 0.14289224589765262, 1.090679515743431 L 0.12013117333542926, 1.0934205509286228 L 0.09731792018989135, 1.0956866442600794 L 0.07446239570294037, 1.0974768114298266 L 0.05157452747760005, 1.0987902748547889 L 0.028664257165830206, 1.099626464014545 L 0.005741536150236725, 1.0999850156991393 L -0.017183678778444848, 1.0998657741668478 L -0.0401014297462137, 1.0992687912118262 L -0.0630017621211411, 1.098194326141613 L -0.08587472883729703, 1.0966428456644948 L -0.10871039471539176, 1.0946150236867864 L -0.13149884077825383, 1.09211174102011 L -0.1542301685592707, 1.0891340849988027 L -0.1768945044019204, 1.085683349007619 L -0.1994820037485255, 1.0817610319199307 L -0.22198285541636997, 1.0773688374466728 L -0.2018025958330636, 0.9794262158606115 L -0.1813472761350232, 0.9834191199272097 L -0.16081318581992762, 0.9869848627341989 L -0.14020924414479152, 0.9901218954534569 L -0.11954440070750347, 0.9928288554728272 L -0.09882763155944704, 0.9951045669879875 L -0.07806793530663367, 0.996948041513177 L -0.05727432920103736, 0.9983584783105571 L -0.036455845223830635, 0.9993352647380238 L -0.015621526162222586, 0.9998779765153161 L 0.005219578318397022, 0.9999863779083084 L 0.026058415605300186, 0.9996604218314045 L 0.0468859340705455, 0.9989002498679898 L 0.06769308700267306, 0.9977061922089331 L 0.08847083653626486, 0.9960787675091631 L 0.10921015757766296, 0.9940186826623844 L 0.12990204172513872, 0.9915268324940281 L 0.15053750118181408, 0.9886042993725727 L 0.17110757265963059, 0.9852523527394031 L 0.19160332127267365, 0.9814724485574114 L 0.2120158444181601, 0.9772662286785799 L 0.23233627564340256, 0.9726355201308211 L 0.25255578849707233, 0.967582334324383 L 0.2726656003630858, 0.9621088661781669 L 0.29265697627545234, 0.9562174931663346 L 0.3125212327124233, 0.9499107742856207 L 0.3437733559836657 ,1.0449018517141828\", \"type\": \"path\"}, {\"fillcolor\": \"#e1b396\", \"layer\": \"below\", \"line\": {\"color\": \"rgb(150,150,150)\", \"width\": 0.45}, \"path\": \"M -0.2557142932687001, 1.0698645709705923 L -0.27923069888845137, 1.0639690863922069 L -0.30261146344890627, 1.057556760741149 L -0.32584522934617444, 1.0506307089136215 L -0.3489207103834643, 1.0431942953570532 L -0.37182669725354717, 1.0352511324357578 L -0.39455206298386686, 1.0268050786761695 L -0.4170857683416572, 1.0178602368924967 L -0.4394168671964362, 1.0084209521937104 L -0.4615345118372753, 0.9984918098728343 L -0.48342795824225887, 0.98807763317956 L -0.5050865712975776, 0.9771834809772714 L -0.5264998299637128, 0.9658146452856168 L -0.5476573323862121, 0.9539766487098195 L -0.5685488009485666, 0.9416752417579786 L -0.5891640872647379, 0.9289164000476622 L -0.6094931771089102, 0.9157063214031488 L -0.6295261952800679, 0.90205142284473 L -0.5722965411636981, 0.8200467480406636 L -0.5540847064626455, 0.8324602921846807 L -0.5356037156952163, 0.8444694545887838 L -0.5168625463168787, 0.8560684015981622 L -0.49787030216928363, 0.8672514988271085 L -0.47863620905792065, 0.8780133138960152 L -0.45916961027052505, 0.8883486190702466 L -0.4394799620384171, 0.8982523937995999 L -0.4195768289429775, 0.907719827157122 L -0.3994698792694874, 0.9167463201761004 L -0.3791688803105974, 0.9253274880840879 L -0.3586836936216971, 0.9334591624328814 L -0.3380242702304974, 0.9411373931234162 L -0.31720064580314933, 0.9483584503245938 L -0.29622293576924946, 0.9551188262851105 L -0.2751013304080966, 0.9614152370374079 L -0.25384608989859214, 0.9672446239929152 L -0.23246753933518188, 0.9726041554278111 L -0.2557142932687001 ,1.0698645709705923\", \"type\": \"path\"}, {\"fillcolor\": \"#dba284\", \"layer\": \"below\", \"line\": {\"color\": \"rgb(150,150,150)\", \"width\": 0.45}, \"path\": \"M -0.657549682023565, 0.8818324192672373 L -0.6770990320441473, 0.866912279763575 L -0.6963099513773288, 0.8515588362602446 L -0.7151728379348954, 0.8357797627845197 L -0.7336782635839426, 0.8195829461039627 L -0.666980239621766, 0.7450754055490569 L -0.6501571253953594, 0.7597997843495633 L -0.6330090467066625, 0.7741443966002224 L -0.6155445745855884, 0.7881020725123409 L -0.5977724382032409, 0.8016658356974884 L -0.657549682023565 ,0.8818324192672373\", \"type\": \"path\"}, {\"fillcolor\": \"#d59171\", \"layer\": \"below\", \"line\": {\"color\": \"rgb(150,150,150)\", \"width\": 0.45}, \"path\": \"M -0.7590599601145032, 0.7961331402164898 L -0.7871127427448888, 0.7684097410943062 L -0.8141536330917339, 0.7396984937956345 L -0.840147868068639, 0.7100363087756294 L -0.8650620301429416, 0.6794613189909875 L -0.7864200274026741, 0.617692108173625 L -0.7637707891533081, 0.6454875534323903 L -0.7401396664470308, 0.6724531761778495 L -0.7155570388589898, 0.6985543100857328 L -0.6900545091950028, 0.7237574001968089 L -0.7590599601145032 ,0.7961331402164898\", \"type\": \"path\"}, {\"fillcolor\": \"#d0805f\", \"layer\": \"below\", \"line\": {\"color\": \"rgb(150,150,150)\", \"width\": 0.45}, \"path\": \"M -0.8859775700449014, 0.6519537908297888 L -0.9008708339612503, 0.6312144964415516 L -0.9152787238293725, 0.6101351143027873 L -0.9291934769206192, 0.588727001629933 L -0.9426075962001397, 0.5670016927539058 L -0.9555138543661584, 0.5449708929056011 L -0.9679052977439226, 0.5226464719093097 L -0.9797752500322258, 0.5000404577874572 L -0.9911173159004864, 0.4771650302801072 L -1.0019253844344445, 0.4540325142827227 L -1.0121936324286191, 0.4306553732057194 L -1.021916527523754, 0.40704620225939026 L -0.9290150250215946, 0.3700420020539911 L -0.9201760294805629, 0.39150488473247214 L -0.9108412585767677, 0.4127568311661115 L -0.9010157417277148, 0.4337863911637338 L -0.8907047727565688, 0.45458223435223377 L -0.8799139070399296, 0.4751331562811906 L -0.8686489585146894, 0.49542808445963726 L -0.8569159965455815, 0.5154560843217325 L -0.8447213426551082, 0.5352063651181208 L -0.8320715671176113, 0.5546682857298066 L -0.8189734854193185, 0.5738313604014105 L -0.805434154586274, 0.592685264390717 L -0.8859775700449014 ,0.6519537908297888\", \"type\": \"path\"}, {\"fillcolor\": \"#ca6f4c\", \"layer\": \"below\", \"line\": {\"color\": \"rgb(150,150,150)\", \"width\": 0.45}, \"path\": \"M -1.0341979035989965, 0.37474617568621116 L -1.0395360352530931, 0.3596732286538437 L -1.0446544988689999, 0.3445242777987623 L -1.0495522128460577, 0.3293025242993801 L -1.0542281422309945, 0.31401118471829365 L -0.9583892202099948, 0.2854647133802669 L -0.9541383753145978, 0.29936593118125465 L -0.9496859080627271, 0.31320388890796574 L -0.9450327593209936, 0.3269756624125852 L -0.9401799123627241, 0.3406783415329192 L -1.0341979035989965 ,0.37474617568621116\", \"type\": \"path\"}, {\"fillcolor\": \"#c45e3a\", \"layer\": \"below\", \"line\": {\"color\": \"rgb(150,150,150)\", \"width\": 0.45}, \"path\": \"M -1.0635712739530803, 0.2807421329651497 L -1.069293892005307, 0.2580902410401121 L -1.0745341289905654, 0.23532191915435147 L -1.0792896209272347, 0.21244743857892529 L -1.083558222512427, 0.18947711847531884 L -0.9850529295567517, 0.17225192588665347 L -0.9811723826611224, 0.19313403507175025 L -0.9768492081732412, 0.21392901741304676 L -0.9720853563684608, 0.23462749185464732 L -0.9668829763209821, 0.2552201208774088 L -1.0635712739530803 ,0.2807421329651497\", \"type\": \"path\"}, {\"fillcolor\": \"#bf4d28\", \"layer\": \"below\", \"line\": {\"color\": \"rgb(150,150,150)\", \"width\": 0.45}, \"path\": \"M -1.088975172058648, 0.15534823668081357 L -1.0953275163215221, 0.10127996834974697 L -1.09899700527028, 0.046963628553979855 L -1.0999746509923753, -0.007467742242614613 L -1.0982580588779935, -0.06188082182342065 L -0.9984164171618122, -0.05625529256674604 L -0.9999769554476139, -0.006788856584195102 L -0.9990881866093454, 0.04269420777634532 L -0.9957522875650201, 0.09207269849976996 L -0.9899774291442254, 0.1412256697098305 L -1.088975172058648 ,0.15534823668081357\", \"type\": \"path\"}, {\"fillcolor\": \"#af4624\", \"layer\": \"below\", \"line\": {\"color\": \"rgb(150,150,150)\", \"width\": 0.45}, \"path\": \"M -1.0957724112372365, -0.09634740666636117 L -1.0894877468035835, -0.15171173179701972 L -1.0804075959201143, -0.20668678399481458 L -1.0685552570946195, -0.26113150429515686 L -1.0539611419151897, -0.31490619449739254 L -0.9581464926501724, -0.2862783586339932 L -0.9714138700860178, -0.23739227663196077 L -0.9821887235637402, -0.18789707635892233 L -0.9904434061850759, -0.13791975617910882 L -0.9961567374883966, -0.08758855151487378 L -1.0957724112372365 ,-0.09634740666636117\", \"type\": \"path\"}, {\"fillcolor\": \"#9f4021\", \"layer\": \"below\", \"line\": {\"color\": \"rgb(150,150,150)\", \"width\": 0.45}, \"path\": \"M -1.043549633107222, -0.34785652680635776 L -1.0314799059918713, -0.38216384383533797 L -1.0182826517265038, -0.4160534114664128 L -1.003972296440415, -0.4494881844722502 L -0.9885644830113942, -0.48243161476878244 L -0.8986949845558129, -0.43857419524434765 L -0.9127020876731045, -0.40862562224750015 L -0.9257115015695487, -0.37823037406037524 L -0.9377090054471556, -0.3474216762139436 L -0.9486814846429291, -0.3162332061875979 L -1.043549633107222 ,-0.34785652680635776\", \"type\": \"path\"}, {\"fillcolor\": \"#8f391e\", \"layer\": \"below\", \"line\": {\"color\": \"rgb(150,150,150)\", \"width\": 0.45}, \"path\": \"M -0.9729231428912718, -0.5132451246982966 L -0.9616564483596428, -0.534056996329341 L -0.9499446321410576, -0.5546216691280562 L -0.9377931152810484, -0.5749296243293318 L -0.9252075223492758, -0.5949714619948712 L -0.912193678836087, -0.6147379053641363 L -0.8987576084560723, -0.6342198051482796 L -0.8849055303598685, -0.6534081437650743 L -0.8706438562555036, -0.6722940395128802 L -0.85597918744061, -0.6908687506817147 L -0.8409183117468852, -0.7091236795995242 L -0.8254682003982073, -0.7270503766117896 L -0.8096360047838681, -0.7446405439926143 L -0.7934290531484111, -0.7618860397854892 L -0.7768548471996077, -0.7787788815719608 L -0.7599210586361448, -0.7953112501664497 L -0.7426355255966263, -0.8114754932355154 L -0.725006249031537, -0.8272641288398894 L -0.6590965900286699, -0.7520582989453539 L -0.675123205087842, -0.7377049938504685 L -0.6908373260328589, -0.7230102274240451 L -0.7062316792723706, -0.7079808014290553 L -0.7212991392258282, -0.6926236725322629 L -0.7360327316216982, -0.6769459490841947 L -0.750425636725643, -0.6609548878288996 L -0.7644711924971683, -0.6446578905450219 L -0.7781628976732817, -0.6280625006197406 L -0.7914944147777304, -0.6111763995571639 L -0.8044595730544258, -0.5940074034227948 L -0.817052371323702, -0.5765634592257086 L -0.8292669807600791, -0.5588526412401239 L -0.8410977475902507, -0.5408831472680646 L -0.8525391957100439, -0.5226632948448471 L -0.8635860292191432, -0.504201517389142 L -0.8742331348724025, -0.48550636029940086 L -0.8844755844466107, -0.4665864769984514 L -0.9729231428912718 ,-0.5132451246982966\", \"type\": \"path\"}, {\"fillcolor\": \"#f0f3e7\", \"layer\": \"below\", \"line\": {\"color\": \"rgb(150,150,150)\", \"width\": 0.45}, \"path\": \"M -0.6986635079682049, -0.8496289205491786 L -0.6804899196603971, -0.8642531279900505 L -0.6620103095494759, -0.8784886738314884 L -0.6432329880650944, -0.8923291562337579 L -0.6241663995201107, -0.9057683510203377 L -0.6048191183131119, -0.9188002144769832 L -0.5851998450724382, -0.9314188860696322 L -0.5653174027434413, -0.9436186910799351 L -0.5451807326207311, -0.9553941431572224 L -0.5247988903272082, -0.9667399467857585 L -0.5041810417416744, -0.9776509996661795 L -0.4833364588768638, -0.9881223950100382 L -0.46227451570974365, -0.9981494237464259 L -0.4410046839659619, -1.00772757663968 L -0.419536528860335, -1.0168525463172238 L -0.3978797047952945, -1.0255202292066254 L -0.3760439510192241, -1.0337267273810093 L -0.35403908724664085, -1.0414683503119841 L -0.33187500924219077, -1.048741616529303 L -0.30956168437044457, -1.0555432551865098 L -0.28710914711348956, -1.0618702075318645 L -0.26452749455834773, -1.067719628283888 L -0.241826881856231, -1.0730888869109085 L -0.21901751765568814, -1.0779755688140342 L -0.19610965951169368, -1.0823774764130154 L -0.1731136092727426, -1.086292630134516 L -0.15737600842976598, -0.9875387546677418 L -0.17828150864699424, -0.9839795240118321 L -0.19910683423244374, -0.9799777898309401 L -0.2198426198693009, -0.9755353517371895 L -0.24047954050758885, -0.970654207530807 L -0.26100831555771775, -0.9653365523016949 L -0.2814197130640405, -0.9595847774422817 L -0.30170455385653705, -0.9534014695720937 L -0.32185371567876436, -0.9467894093745309 L -0.3418581372902037, -0.939751570346372 L -0.3617088225411768, -0.9322911174605685 L -0.3813968444184863, -0.9244114057429306 L -0.4009133490599653, -0.9161159787633455 L -0.42024955973613054, -0.9074085670422053 L -0.43939678079714883, -0.898293086372762 L -0.45834640158334033, -0.8887736360601631 L -0.4770899002974619, -0.8788544970779621 L -0.4956188478370282, -0.8685401301429294 L -0.5139249115849466, -0.8578351737090318 L -0.531999859156762, -0.8467444418814838 L -0.5498355621028289, -0.8352729222518028 L -0.5674239995637369, -0.8234257736548524 L -0.5847572618773585, -0.8112083238488708 L -0.6018275541358872, -0.7986260671195349 L -0.61862719969127, -0.7856846618091368 L -0.6351486436074589, -0.7723899277719805 L -0.6986635079682049 ,-0.8496289205491786\", \"type\": \"path\"}, {\"fillcolor\": \"#e2ecde\", \"layer\": \"below\", \"line\": {\"color\": \"rgb(150,150,150)\", \"width\": 0.45}, \"path\": \"M -0.13890691206319475, -1.0911942401704051 L -0.12303037041804187, -1.0930981328109566 L -0.10712783078995142, -1.0947710390169443 L -0.09120265360084516, -1.0962126052806382 L -0.07525820405627093, -1.0974225269795699 L -0.06841654914206448, -0.9976568427086998 L -0.0829115032734956, -0.9965569138914893 L -0.09738893708177401, -0.9952463991063129 L -0.11184579128912896, -0.9937255752826877 L -0.12627901096654068, -0.9919947637912774 L -0.13890691206319475 ,-1.0911942401704051\", \"type\": \"path\"}, {\"fillcolor\": \"#d4e5d6\", \"layer\": \"below\", \"line\": {\"color\": \"rgb(150,150,150)\", \"width\": 0.45}, \"path\": \"M -0.04075019407371989, -1.0992449325254832 L -0.01746011944986989, -1.099861420465686 L 0.0058377878071355065, -1.0999845090879776 L 0.029133076224649283, -1.099614143174636 L 0.05241529550484326, -1.09875048887231 L 0.07567400121271799, -1.0973939336174854 L 0.09889875946149822, -1.0955450859626805 L 0.12207915159328075, -1.0932047753034493 L 0.14520477885286628, -1.0903740515063123 L 0.16826526705264722, -1.0870541844377866 L 0.19125027122648997, -1.0832466633947202 L 0.21414948027049302, -1.078953196436193 L 0.23695262156856978, -1.0741757096172777 L 0.25964946560075036, -1.0689163461250113 L 0.28222983053216555, -1.0631774653169552 L 0.30468358678062435, -1.0569616416627872 L 0.32700066156076546, -1.0502716635893885 L 0.34917104340271515, -1.0431105322299548 L 0.3711847866432533, -1.0354814600776794 L 0.3930320158874443, -1.0273878695446292 L 0.4147029304387598, -1.0188333914264418 L 0.4361878086956769, -1.0098218632735498 L 0.45747701251280914, -1.0003573276696458 L 0.47856099152458437, -0.9904440304181791 L 0.49943028742955864, -0.9800864186376774 L 0.520075538233416, -0.969289138766768 L 0.5404874824487788, -0.9580570344797752 L 0.5606569632499163, -0.9463951445138452 L 0.5805749325805157, -0.9343087004085586 L 0.600232455212649, -0.9218031241590557 L 0.6196207127551271, -0.9088840257837237 L 0.6387310076094436, -0.8955572008075336 L 0.5806645523722214, -0.8141429098250306 L 0.5632915570501155, -0.8262582052579306 L 0.5456658683751354, -0.838002840144596 L 0.5277953932550142, -0.8493715458259623 L 0.5096881484090148, -0.8603592222853138 L 0.491352256771617, -0.8709609404361592 L 0.47279594384855994, -0.8811719443334254 L 0.45402753402687146, -0.8909876533069794 L 0.4350554468405312, -0.9004036640165264 L 0.4158881931934628, -0.9094157524269507 L 0.39653437154152443, -0.918019875703227 L 0.37700266403523613, -0.926212174024038 L 0.35730183262494936, -0.9339889723132991 L 0.3374407151302302, -0.9413467818887994 L 0.31742822127519554, -0.9482823020272315 L 0.29727332869160494, -0.9547924214448986 L 0.27698507889147667, -0.9608742196934428 L 0.2565725732110596, -0.9665249684699592 L 0.23604496872795486, -0.9717421328409193 L 0.21541147415324524, -0.9765233723793434 L 0.19468134570044818, -0.9808665422147208 L 0.17386388293317268, -0.9847696939952001 L 0.15296842459331564, -0.9882310767616241 L 0.13200434441169662, -0.9912491377330112 L 0.1109810469029825, -0.9938225230031356 L 0.08990796314681655, -0.9959500781478913 L 0.06879454655701635, -0.9976308487431684 L 0.047650268640766595, -0.998864080793009 L 0.026484614749681164, -0.9996492210678508 L 0.005307079824668642, -0.9999859173527068 L -0.015872835863518082, -0.999874018605169 L -0.03704563097610899, -0.9993135750231665 L -0.04075019407371989 ,-1.0992449325254832\", \"type\": \"path\"}, {\"fillcolor\": \"#c6decd\", \"layer\": \"below\", \"line\": {\"color\": \"rgb(150,150,150)\", \"width\": 0.45}, \"path\": \"M 0.6665459638899011, -0.8750522715941504 L 0.6855721911915886, -0.8602271622453944 L 0.7042687879090097, -0.8449884462980393 L 0.7226267645146153, -0.8293434506928592 L 0.7406372942930967, -0.8132996977143181 L 0.7582917175853705, -0.7968649013737705 L 0.7755815459522323, -0.780046963700485 L 0.7924984662556936, -0.7628539709422593 L 0.8090343446560286, -0.7452941896774659 L 0.825181230522613, -0.7273760628403895 L 0.8409313602566734, -0.7091082056617743 L 0.8562771610241122, -0.6904994015265233 L 0.8712112543966057, -0.6715585977505559 L 0.8857264598992353, -0.6522949012788376 L 0.899815798462937, -0.6327175743066628 L 0.9134724957801145, -0.6128360298262896 L 0.9266899855617997, -0.5926598271010712 L 0.9394619126947963, -0.5721986670692577 L 0.9517821362972869, -0.5514623876796795 L 0.9636447326714379, -0.5304609591615516 L 0.9750439981515752, -0.5092044792306832 L 0.8864036346832501, -0.4629131629369847 L 0.8760406660649435, -0.48223723560141046 L 0.865256487542988, -0.5013294433451632 L 0.8540562842679965, -0.5201806064265979 L 0.8424454414198178, -0.5387816610009738 L 0.8304295416182859, -0.557123663478445 L 0.8180143622390336, -0.5751977948242388 L 0.8052058726356683, -0.5929953647989432 L 0.7920102312696415, -0.610507816136869 L 0.7784337827491928, -0.6277267286604757 L 0.7644830547787939, -0.6446438233288857 L 0.7501647550205572, -0.6612509662185359 L 0.7354857678691169, -0.6775401724340598 L 0.7204531511415396, -0.6935036099475084 L 0.7050741326838474, -0.7091336033640772 L 0.6893561068957913, -0.7244226376125186 L 0.6733066311755423, -0.7393633615584709 L 0.6569334222860138, -0.7539485915389629 L 0.6402443526445543, -0.7681713148163992 L 0.6232474465378078, -0.7820246929503585 L 0.6059508762635464, -0.7955020650855913 L 0.6665459638899011 ,-0.8750522715941504\", \"type\": \"path\"}, {\"fillcolor\": \"#b8d7c5\", \"layer\": \"below\", \"line\": {\"color\": \"rgb(150,150,150)\", \"width\": 0.45}, \"path\": \"M 0.9905573720163504, -0.4783263454421698 L 1.0060355739703128, -0.44485101315634146 L 1.0203828816848055, -0.4108756195792255 L 1.0335831672135947, -0.37643835677666365 L 1.0456215919890886, -0.3415779360061245 L 0.9505650836264441, -0.31052539636920407 L 0.9396210611032677, -0.34221668797878513 L 0.9276208015316413, -0.37352329052656863 L 0.9145777945184661, -0.4044100119603104 L 0.9005067018330457, -0.43484213222015433 L 0.9905573720163504 ,-0.4783263454421698\", \"type\": \"path\"}, {\"fillcolor\": \"#aad0bc\", \"layer\": \"below\", \"line\": {\"color\": \"rgb(150,150,150)\", \"width\": 0.45}, \"path\": \"M 1.055834863107447, -0.3085656200014494 L 1.0656489930834951, -0.27274937862465065 L 1.0742485295453614, -0.2366222660056081 L 1.081623671009368, -0.20022545870148087 L 1.0877660115191012, -0.16360044065902293 L 0.988878192290092, -0.14872767332638448 L 0.9832942463721528, -0.1820231442740735 L 0.9765895723139649, -0.21511115091418917 L 0.9687718118940865, -0.24795398056786422 L 0.9598498755522245, -0.2805142000013176 L 1.055834863107447 ,-0.3085656200014494\", \"type\": \"path\"}, {\"fillcolor\": \"#9cc9b4\", \"layer\": \"below\", \"line\": {\"color\": \"rgb(150,150,150)\", \"width\": 0.45}, \"path\": \"M 1.0923680786828238, -0.12935215759621518 L 1.0949083628079803, -0.1057150748623317 L 1.096937239013931, -0.08202861491269163 L 1.0984537596566588, -0.05830384117836064 L 1.0994572164023046, -0.03455183498594413 L 0.9995065603657315, -0.031410759078131026 L 0.9985943269605988, -0.05300349198032785 L 0.9972156718308461, -0.07457146810244693 L 0.9953712389163456, -0.09610461351121062 L 0.993061889711658, -0.1175928705420138 L 1.0923680786828238 ,-0.12935215759621518\", \"type\": \"path\"}], \"showlegend\": false, \"template\": {\"data\": {\"bar\": [{\"error_x\": {\"color\": \"#2a3f5f\"}, \"error_y\": {\"color\": \"#2a3f5f\"}, \"marker\": {\"line\": {\"color\": \"#E5ECF6\", \"width\": 0.5}}, \"type\": \"bar\"}], \"barpolar\": [{\"marker\": {\"line\": {\"color\": \"#E5ECF6\", \"width\": 0.5}}, \"type\": \"barpolar\"}], \"carpet\": [{\"aaxis\": {\"endlinecolor\": \"#2a3f5f\", \"gridcolor\": \"white\", \"linecolor\": \"white\", \"minorgridcolor\": \"white\", \"startlinecolor\": \"#2a3f5f\"}, \"baxis\": {\"endlinecolor\": \"#2a3f5f\", \"gridcolor\": \"white\", \"linecolor\": \"white\", \"minorgridcolor\": \"white\", \"startlinecolor\": \"#2a3f5f\"}, \"type\": \"carpet\"}], \"choropleth\": [{\"colorbar\": {\"outlinewidth\": 0, \"ticks\": \"\"}, \"type\": \"choropleth\"}], \"contour\": [{\"colorbar\": {\"outlinewidth\": 0, \"ticks\": \"\"}, \"colorscale\": [[0.0, \"#0d0887\"], [0.1111111111111111, \"#46039f\"], [0.2222222222222222, \"#7201a8\"], [0.3333333333333333, \"#9c179e\"], [0.4444444444444444, \"#bd3786\"], [0.5555555555555556, \"#d8576b\"], [0.6666666666666666, \"#ed7953\"], [0.7777777777777778, \"#fb9f3a\"], [0.8888888888888888, \"#fdca26\"], [1.0, \"#f0f921\"]], \"type\": \"contour\"}], \"contourcarpet\": [{\"colorbar\": {\"outlinewidth\": 0, \"ticks\": \"\"}, \"type\": \"contourcarpet\"}], \"heatmap\": [{\"colorbar\": {\"outlinewidth\": 0, \"ticks\": \"\"}, \"colorscale\": [[0.0, \"#0d0887\"], [0.1111111111111111, \"#46039f\"], [0.2222222222222222, \"#7201a8\"], [0.3333333333333333, \"#9c179e\"], [0.4444444444444444, \"#bd3786\"], [0.5555555555555556, \"#d8576b\"], [0.6666666666666666, \"#ed7953\"], [0.7777777777777778, \"#fb9f3a\"], [0.8888888888888888, \"#fdca26\"], [1.0, \"#f0f921\"]], \"type\": \"heatmap\"}], \"heatmapgl\": [{\"colorbar\": {\"outlinewidth\": 0, \"ticks\": \"\"}, \"colorscale\": [[0.0, \"#0d0887\"], [0.1111111111111111, \"#46039f\"], [0.2222222222222222, \"#7201a8\"], [0.3333333333333333, \"#9c179e\"], [0.4444444444444444, \"#bd3786\"], [0.5555555555555556, \"#d8576b\"], [0.6666666666666666, \"#ed7953\"], [0.7777777777777778, \"#fb9f3a\"], [0.8888888888888888, \"#fdca26\"], [1.0, \"#f0f921\"]], \"type\": \"heatmapgl\"}], \"histogram\": [{\"marker\": {\"colorbar\": {\"outlinewidth\": 0, \"ticks\": \"\"}}, \"type\": \"histogram\"}], \"histogram2d\": [{\"colorbar\": {\"outlinewidth\": 0, \"ticks\": \"\"}, \"colorscale\": [[0.0, \"#0d0887\"], [0.1111111111111111, \"#46039f\"], [0.2222222222222222, \"#7201a8\"], [0.3333333333333333, \"#9c179e\"], [0.4444444444444444, \"#bd3786\"], [0.5555555555555556, \"#d8576b\"], [0.6666666666666666, \"#ed7953\"], [0.7777777777777778, \"#fb9f3a\"], [0.8888888888888888, \"#fdca26\"], [1.0, \"#f0f921\"]], \"type\": \"histogram2d\"}], \"histogram2dcontour\": [{\"colorbar\": {\"outlinewidth\": 0, \"ticks\": \"\"}, \"colorscale\": [[0.0, \"#0d0887\"], [0.1111111111111111, \"#46039f\"], [0.2222222222222222, \"#7201a8\"], [0.3333333333333333, \"#9c179e\"], [0.4444444444444444, \"#bd3786\"], [0.5555555555555556, \"#d8576b\"], [0.6666666666666666, \"#ed7953\"], [0.7777777777777778, \"#fb9f3a\"], [0.8888888888888888, \"#fdca26\"], [1.0, \"#f0f921\"]], \"type\": \"histogram2dcontour\"}], \"mesh3d\": [{\"colorbar\": {\"outlinewidth\": 0, \"ticks\": \"\"}, \"type\": \"mesh3d\"}], \"parcoords\": [{\"line\": {\"colorbar\": {\"outlinewidth\": 0, \"ticks\": \"\"}}, \"type\": \"parcoords\"}], \"pie\": [{\"automargin\": true, \"type\": \"pie\"}], \"scatter\": [{\"marker\": {\"colorbar\": {\"outlinewidth\": 0, \"ticks\": \"\"}}, \"type\": \"scatter\"}], \"scatter3d\": [{\"line\": {\"colorbar\": {\"outlinewidth\": 0, \"ticks\": \"\"}}, \"marker\": {\"colorbar\": {\"outlinewidth\": 0, \"ticks\": \"\"}}, \"type\": \"scatter3d\"}], \"scattercarpet\": [{\"marker\": {\"colorbar\": {\"outlinewidth\": 0, \"ticks\": \"\"}}, \"type\": \"scattercarpet\"}], \"scattergeo\": [{\"marker\": {\"colorbar\": {\"outlinewidth\": 0, \"ticks\": \"\"}}, \"type\": \"scattergeo\"}], \"scattergl\": [{\"marker\": {\"colorbar\": {\"outlinewidth\": 0, \"ticks\": \"\"}}, \"type\": \"scattergl\"}], \"scattermapbox\": [{\"marker\": {\"colorbar\": {\"outlinewidth\": 0, \"ticks\": \"\"}}, \"type\": \"scattermapbox\"}], \"scatterpolar\": [{\"marker\": {\"colorbar\": {\"outlinewidth\": 0, \"ticks\": \"\"}}, \"type\": \"scatterpolar\"}], \"scatterpolargl\": [{\"marker\": {\"colorbar\": {\"outlinewidth\": 0, \"ticks\": \"\"}}, \"type\": \"scatterpolargl\"}], \"scatterternary\": [{\"marker\": {\"colorbar\": {\"outlinewidth\": 0, \"ticks\": \"\"}}, \"type\": \"scatterternary\"}], \"surface\": [{\"colorbar\": {\"outlinewidth\": 0, \"ticks\": \"\"}, \"colorscale\": [[0.0, \"#0d0887\"], [0.1111111111111111, \"#46039f\"], [0.2222222222222222, \"#7201a8\"], [0.3333333333333333, \"#9c179e\"], [0.4444444444444444, \"#bd3786\"], [0.5555555555555556, \"#d8576b\"], [0.6666666666666666, \"#ed7953\"], [0.7777777777777778, \"#fb9f3a\"], [0.8888888888888888, \"#fdca26\"], [1.0, \"#f0f921\"]], \"type\": \"surface\"}], \"table\": [{\"cells\": {\"fill\": {\"color\": \"#EBF0F8\"}, \"line\": {\"color\": \"white\"}}, \"header\": {\"fill\": {\"color\": \"#C8D4E3\"}, \"line\": {\"color\": \"white\"}}, \"type\": \"table\"}]}, \"layout\": {\"annotationdefaults\": {\"arrowcolor\": \"#2a3f5f\", \"arrowhead\": 0, \"arrowwidth\": 1}, \"coloraxis\": {\"colorbar\": {\"outlinewidth\": 0, \"ticks\": \"\"}}, \"colorscale\": {\"diverging\": [[0, \"#8e0152\"], [0.1, \"#c51b7d\"], [0.2, \"#de77ae\"], [0.3, \"#f1b6da\"], [0.4, \"#fde0ef\"], [0.5, \"#f7f7f7\"], [0.6, \"#e6f5d0\"], [0.7, \"#b8e186\"], [0.8, \"#7fbc41\"], [0.9, \"#4d9221\"], [1, \"#276419\"]], \"sequential\": [[0.0, \"#0d0887\"], [0.1111111111111111, \"#46039f\"], [0.2222222222222222, \"#7201a8\"], [0.3333333333333333, \"#9c179e\"], [0.4444444444444444, \"#bd3786\"], [0.5555555555555556, \"#d8576b\"], [0.6666666666666666, \"#ed7953\"], [0.7777777777777778, \"#fb9f3a\"], [0.8888888888888888, \"#fdca26\"], [1.0, \"#f0f921\"]], \"sequentialminus\": [[0.0, \"#0d0887\"], [0.1111111111111111, \"#46039f\"], [0.2222222222222222, \"#7201a8\"], [0.3333333333333333, \"#9c179e\"], [0.4444444444444444, \"#bd3786\"], [0.5555555555555556, \"#d8576b\"], [0.6666666666666666, \"#ed7953\"], [0.7777777777777778, \"#fb9f3a\"], [0.8888888888888888, \"#fdca26\"], [1.0, \"#f0f921\"]]}, \"colorway\": [\"#636efa\", \"#EF553B\", \"#00cc96\", \"#ab63fa\", \"#FFA15A\", \"#19d3f3\", \"#FF6692\", \"#B6E880\", \"#FF97FF\", \"#FECB52\"], \"font\": {\"color\": \"#2a3f5f\"}, \"geo\": {\"bgcolor\": \"white\", \"lakecolor\": \"white\", \"landcolor\": \"#E5ECF6\", \"showlakes\": true, \"showland\": true, \"subunitcolor\": \"white\"}, \"hoverlabel\": {\"align\": \"left\"}, \"hovermode\": \"closest\", \"mapbox\": {\"style\": \"light\"}, \"paper_bgcolor\": \"white\", \"plot_bgcolor\": \"#E5ECF6\", \"polar\": {\"angularaxis\": {\"gridcolor\": \"white\", \"linecolor\": \"white\", \"ticks\": \"\"}, \"bgcolor\": \"#E5ECF6\", \"radialaxis\": {\"gridcolor\": \"white\", \"linecolor\": \"white\", \"ticks\": \"\"}}, \"scene\": {\"xaxis\": {\"backgroundcolor\": \"#E5ECF6\", \"gridcolor\": \"white\", \"gridwidth\": 2, \"linecolor\": \"white\", \"showbackground\": true, \"ticks\": \"\", \"zerolinecolor\": \"white\"}, \"yaxis\": {\"backgroundcolor\": \"#E5ECF6\", \"gridcolor\": \"white\", \"gridwidth\": 2, \"linecolor\": \"white\", \"showbackground\": true, \"ticks\": \"\", \"zerolinecolor\": \"white\"}, \"zaxis\": {\"backgroundcolor\": \"#E5ECF6\", \"gridcolor\": \"white\", \"gridwidth\": 2, \"linecolor\": \"white\", \"showbackground\": true, \"ticks\": \"\", \"zerolinecolor\": \"white\"}}, \"shapedefaults\": {\"line\": {\"color\": \"#2a3f5f\"}}, \"ternary\": {\"aaxis\": {\"gridcolor\": \"white\", \"linecolor\": \"white\", \"ticks\": \"\"}, \"baxis\": {\"gridcolor\": \"white\", \"linecolor\": \"white\", \"ticks\": \"\"}, \"bgcolor\": \"#E5ECF6\", \"caxis\": {\"gridcolor\": \"white\", \"linecolor\": \"white\", \"ticks\": \"\"}}, \"title\": {\"x\": 0.05}, \"xaxis\": {\"automargin\": true, \"gridcolor\": \"white\", \"linecolor\": \"white\", \"ticks\": \"\", \"title\": {\"standoff\": 15}, \"zerolinecolor\": \"white\", \"zerolinewidth\": 2}, \"yaxis\": {\"automargin\": true, \"gridcolor\": \"white\", \"linecolor\": \"white\", \"ticks\": \"\", \"title\": {\"standoff\": 15}, \"zerolinecolor\": \"white\", \"zerolinewidth\": 2}}}, \"title\": {\"font\": {\"color\": \"#655643\", \"family\": \"Merryweather\", \"size\": 18}, \"text\": \"Data Jobs \\u2012 Technologies in Demand and Relationships Between Them\"}, \"width\": 960, \"xaxis\": {\"showgrid\": false, \"showline\": false, \"showticklabels\": false, \"title\": {\"text\": \"\"}, \"zeroline\": false}, \"yaxis\": {\"showgrid\": false, \"showline\": false, \"showticklabels\": false, \"title\": {\"text\": \"\"}, \"zeroline\": false}},\n",
       "                        {\"responsive\": true}\n",
       "                    ).then(function(){\n",
       "                            \n",
       "var gd = document.getElementById('664b801a-4dcc-46e6-bede-76342d55638e');\n",
       "var x = new MutationObserver(function (mutations, observer) {{\n",
       "        var display = window.getComputedStyle(gd).display;\n",
       "        if (!display || display === 'none') {{\n",
       "            console.log([gd, 'removed!']);\n",
       "            Plotly.purge(gd);\n",
       "            observer.disconnect();\n",
       "        }}\n",
       "}});\n",
       "\n",
       "// Listen for the removal of the full notebook cells\n",
       "var notebookContainer = gd.closest('#notebook-container');\n",
       "if (notebookContainer) {{\n",
       "    x.observe(notebookContainer, {childList: true});\n",
       "}}\n",
       "\n",
       "// Listen for the clearing of the current output cell\n",
       "var outputEl = gd.closest('.output');\n",
       "if (outputEl) {{\n",
       "    x.observe(outputEl, {childList: true});\n",
       "}}\n",
       "\n",
       "                        })\n",
       "                };\n",
       "                });\n",
       "            </script>\n",
       "        </div>"
      ]
     },
     "metadata": {},
     "output_type": "display_data"
    }
   ],
   "source": [
    "fig = go.Figure(data=data, layout=layout)\n",
    "\n",
    "plotly.offline.iplot(fig, filename='data_offers_tech_requirements_chord.html')"
   ]
  },
  {
   "cell_type": "code",
   "execution_count": 30,
   "metadata": {},
   "outputs": [
    {
     "data": {
      "text/plain": [
       "'data_offers_tech_requirements_chord.html'"
      ]
     },
     "execution_count": 30,
     "metadata": {},
     "output_type": "execute_result"
    }
   ],
   "source": [
    "# Uncomment the line below to export an HTML version of the chart.\n",
    "plotly.offline.plot(fig, filename='data_offers_tech_requirements_chord.html', show_link=False)"
   ]
  },
  {
   "cell_type": "markdown",
   "metadata": {},
   "source": [
    "### Resources:\n",
    "\n",
    "- https://plot.ly/python/filled-chord-diagram/\n",
    "- https://hci.stanford.edu/courses/cs448b/f11/lectures/CS448B-20111117-Text.pdf"
   ]
  },
  {
   "cell_type": "code",
   "execution_count": 31,
   "metadata": {},
   "outputs": [
    {
     "data": {
      "text/html": [
       "<style>\n",
       "@import url('https://fonts.googleapis.com/css?family=Fira+Mono|Fira+Sans|Fira+Sans+Condensed|Fira+Sans+Extra+Condensed');\n",
       "@import url('https://fonts.googleapis.com/css?family=Merriweather|Merriweather+Sans');\n",
       "\n",
       ".nbviewer {\n",
       "    background-color: #E5E1D8;\n",
       "}\n",
       "\n",
       "#notebook {\n",
       "    background-color: #E5E1D8;\n",
       "}\n",
       "\n",
       "#notebook-container {\n",
       "    background-color: #FFFAF0;\n",
       "    max-width: 1100px;\n",
       "    padding: 50px;\n",
       "    border-radius: 4px;\n",
       "    -webkit-box-shadow: 0px 0px 12px 1px rgba(101,86,67,0.75);\n",
       "    -moz-box-shadow: 0px 0px 12px 1px rgba(101,86,67,0.75);\n",
       "    box-shadow: 0px 0px 12px 1px rgba(101,86,67,0.75);\n",
       "}\n",
       "\n",
       "/* Jupyter Notebook Header Styling */\n",
       "body > #header {\n",
       "    background-color:#fafafa;\n",
       "}\n",
       "\n",
       "#header #menubar #menus {\n",
       "    background-color:#fefefe;\n",
       "}\n",
       "\n",
       "/* Headings */\n",
       ".text_cell_render h1 {\n",
       "    color: #655B4F;\n",
       "    font-family: 'Merriweather', serif;\n",
       "    font-weight: 900;\n",
       "    text-align: center;\n",
       "    font-size: 2.5em;\n",
       "    padding: 40px 0 12px 0;\n",
       "    text-shadow: 0 2px #FFFAF0, 0 3px #8c8b8b;\n",
       "}\n",
       "\n",
       ".text_cell_render h2 {\n",
       "    color: #655B4F;\n",
       "    font-family: 'Merriweather', serif;\n",
       "    font-weight: 600;\n",
       "    font-size: 2.2em;\n",
       "    text-indent: 22px;\n",
       "    padding: 40px 0 6px 0;\n",
       "    margin-bottom: 24px;\n",
       "    border-bottom: 1px solid #655B4F;\n",
       "}\n",
       "\n",
       ".text_cell_render h3 {\n",
       "    color: #655B4F;\n",
       "    font-family: 'Merriweather', serif;\n",
       "    font-weight: 300;\n",
       "    padding: 6px 0 0 0;\n",
       "    font-size: 1.6em;\n",
       "}\n",
       "\n",
       ".text_cell_render h4 {\n",
       "    color: #655B4F;\n",
       "    font-family: 'Merriweather', serif;\n",
       "    font-weight: 100;\n",
       "    font-size: 1.2em;\n",
       "}\n",
       "\n",
       "/* Use for subtitles and other non-headings */\n",
       "div.rendered_html > h5 {\n",
       "    font-family: 'Merriweather', serif;\n",
       "    line-height: 1.5em;\n",
       "    color: #655B4F;\n",
       "    font-weight: 200;\n",
       "    font-style: normal important!;\n",
       "    text-indent: 22px;\n",
       "    text-align: center;\n",
       "    margin-top: 0.5em;\n",
       "    padding: 6px 0 6px 0;\n",
       "    border-bottom: 1px solid #655B4F;\n",
       "    border-top: 1px solid #655B4F;\n",
       "}\n",
       "\n",
       "/* Use for image and chart captions */\n",
       "div.rendered_html > h6 {\n",
       "    font-family: 'Merriweather Sans', sans-serif;\n",
       "    font-size: 0.9em;\n",
       "    line-height: 1.5em;\n",
       "    color: #cac8c9;\n",
       "    font-weight: normal;\n",
       "    max-width: 525px;\n",
       "    display: block;\n",
       "    margin-left: auto;\n",
       "    margin-right: auto;\n",
       "}\n",
       "\n",
       "div#notebook-container p {\n",
       "    font-family: 'Fira Sans Condensed', sans-serif;\n",
       "    font-size: 1.2em;\n",
       "    line-height: 1.3em;\n",
       "    color: #655B4F;\n",
       "}\n",
       "\n",
       "/* Plotly Exported Charts Styling */\n",
       ".js-plotly-plot .plotly,\n",
       ".js-plotly-plot .plotly div {\n",
       "    direction: ltr;\n",
       "    font-family: \"Fira Sans Extra Condensed\", verdana, arial, sans-serif;\n",
       "}\n",
       "\n",
       "/* Lists */\n",
       "ol, ul {\n",
       "    font-family: 'Fira Sans Condensed', sans-serif;\n",
       "    line-height: 1.3em;\n",
       "    color: #655B4F;\n",
       "}\n",
       "\n",
       "div.input_prompt {\n",
       "    color: #aad0bc;\n",
       "    font-size: 0.7em;\n",
       "}\n",
       "\n",
       "div.output_prompt {\n",
       "    color: #aad0bc;\n",
       "    font-size: 0.7em;\n",
       "}\n",
       "\n",
       "div.prompt {\n",
       "    min-width: 2ex;\n",
       "}\n",
       "\n",
       "div.output_subarea {\n",
       "    min-width: 425px;\n",
       "    max-width: calc(100% - 1ex);\n",
       "    padding: 0;\n",
       "}\n",
       "\n",
       "div.text_cell code {\n",
       "    padding: 2px;\n",
       "    background-color: #E5E1D8;\n",
       "    color: #483F3A;\n",
       "    font-family: 'Fira Mono', monospace;\n",
       "    font-size: 0.9em;\n",
       "}\n",
       "\n",
       "div.input_area {\n",
       "    background-color: #FFFAF0;\n",
       "    border: 1px solid #E5E1D8;\n",
       "    background: repeating-linear-gradient(135deg, #FFFAF0, #FFFAF0 5px, #F7F7ED 5px, #F7F7ED 10px);\n",
       "}\n",
       "\n",
       "div.cell.rendered.selected {\n",
       "    background: #F7F7ED;\n",
       "    border: 1px solid #293C34;\n",
       "}\n",
       "\n",
       "div.output_area img {\n",
       "    display: block;\n",
       "    margin-left: auto;\n",
       "    margin-right: auto;\n",
       "}\n",
       "\n",
       "div.rendered_html pre, code {\n",
       "    font-family: 'Fira Sans Condensed', sans-serif;\n",
       "    font-size: 16px;\n",
       "    font-weight: 400;\n",
       "    color: #40362F;\n",
       "    background-color: #E5E1D8;\n",
       "}\n",
       "\n",
       "div.output_text pre {\n",
       "    font-family: 'Fira Sans Condensed', sans-serif;\n",
       "    font-size: 13px;\n",
       "    font-weight: 300;\n",
       "    color: #40362F;\n",
       "}\n",
       "\n",
       "\n",
       "pre, textarea {\n",
       "    overflow: hidden;\n",
       "}\n",
       "\n",
       "div.text_cell_render img {\n",
       "    max-height: 550px;\n",
       "    display: block;\n",
       "    margin-left: auto;\n",
       "    margin-right: auto;\n",
       "}\n",
       "\n",
       "div.output output_scroll {\n",
       "    overflow-x: auto;\n",
       "    overflow-y: scroll;\n",
       "    max-height: 2000px;\n",
       "}\n",
       "\n",
       "div.rendered_html hr {\n",
       "    border: 0;\n",
       "    height: 1px;\n",
       "    background-color: #655B4F;\n",
       "}\n",
       "\n",
       "div.rendered_html pre, code {\n",
       "    color: #40362F;\n",
       "    background-color: #FFFAF0;\n",
       "}\n",
       "\n",
       "/* Links */\n",
       "a.link--embedview {\n",
       "    display: none;\n",
       "}\n",
       "\n",
       "a:link {\n",
       "    color: #293C34;\n",
       "}\n",
       "\n",
       "a:visited {\n",
       "    color: #293C34;\n",
       "}\n",
       "\n",
       "a:hover {\n",
       "    color: #557C6C;\n",
       "}\n",
       "\n",
       "a:focus {\n",
       "    color:#557C6C;\n",
       "}\n",
       "\n",
       "a:active {\n",
       "    font-weight: bold;\n",
       "    color:#80BCA3;\n",
       "}\n",
       "\n",
       ".rendered_html :link {\n",
       "    text-decoration: underline;\n",
       "}\n",
       "\n",
       "/* Colors for code highlighting */\n",
       ".CodeMirror pre {\n",
       "    font-family: 'Fira Mono', monospace;\n",
       "    font-size: 0.9em;\n",
       "    font-weight: 600;\n",
       "}\n",
       "\n",
       ".CodeMirror-code span.cm-keyword,\n",
       ".highlight .k,\n",
       ".highlight .ow {\n",
       "    color: #5F362E;\n",
       "}\n",
       "\n",
       ".CodeMirror-code span.cm-variable,\n",
       ".highlight .na {\n",
       "    color: #655B4F;\n",
       "}\n",
       "\n",
       ".CodeMirror-code span.cm-property {\n",
       "    color: #655B4F;\n",
       "}\n",
       "\n",
       ".CodeMirror-code span.cm-def {\n",
       "    color: #293C34;\n",
       "}\n",
       "\n",
       ".CodeMirror-code span.cm-operator {\n",
       "    color: #655B4F;\n",
       "}\n",
       "\n",
       ".CodeMirror-code span.cm-string,\n",
       ".highlight .s {\n",
       "    color: #0B7761;\n",
       "}\n",
       "\n",
       ".CodeMirror-code span.cm-number,\n",
       ".highlight .mb, .highlight .mf, .highlight .mh, .highlight .mi, .highlight .mo {\n",
       "    color: #265BCA;\n",
       "}\n",
       "\n",
       ".CodeMirror-code span.cm-comment,\n",
       ".highlight .c1, .highlight .cs {\n",
       "    color: #75AC95;\n",
       "}\n",
       "\n",
       ".CodeMirror-code span.cm-builtin,\n",
       ".highlight .nb {\n",
       "    color: #5F362E;\n",
       "}\n",
       "\n",
       "/* Code with no class applied (brackets mostly) */\n",
       ".CodeMirror-line > span {\n",
       "    color: #72614B;\n",
       "}\n",
       "\n",
       "/* Table styles */\n",
       "table {\n",
       "    border: 1px solid #BF4D28;\n",
       "}\n",
       "\n",
       "\n",
       ".rendered_html table th {\n",
       "    color: #40362F;\n",
       "    text-align: left;\n",
       "    background-color: #f2e6ce;\n",
       "}\n",
       "\n",
       ".rendered_html td {\n",
       "    color: #40362F;\n",
       "    text-align: left;\n",
       "}\n",
       "\n",
       ".rendered_html table tr:nth-child(odd) {\n",
       "    background-color: #F7F7ED;\n",
       "}\n",
       "\n",
       ".rendered_html table tr:nth-child(even) {\n",
       "    background-color: #FFFAF0;\n",
       "}\n",
       "\n",
       "iframe {\n",
       "    border-width: 0;\n",
       "}\n",
       "\n",
       "@media only screen and (max-width: 600px) {\n",
       "    #notebook-container {\n",
       "        background-color: #FFFAF0;\n",
       "        padding: 15px;\n",
       "        border-radius: 4px;\n",
       "        -webkit-box-shadow: 0px 0px 12px 1px rgba(101,86,67,0.75);\n",
       "        -moz-box-shadow: 0px 0px 12px 1px rgba(101,86,67,0.75);\n",
       "        box-shadow: 0px 0px 12px 1px rgba(101,86,67,0.75);\n",
       "    }\n",
       "\n",
       "    .text_cell_render h1,\n",
       "    .text_cell_render h2 {\n",
       "        text-indent: 0;\n",
       "        text-align: left;\n",
       "        padding: 40px 22px 12px 22px;\n",
       "    }\n",
       "}\n",
       "\n",
       "</style>\n"
      ],
      "text/plain": [
       "<IPython.core.display.HTML object>"
      ]
     },
     "execution_count": 31,
     "metadata": {},
     "output_type": "execute_result"
    }
   ],
   "source": [
    "from IPython.core.display import HTML\n",
    "with open('../resources/styles/datum.css', 'r') as f:\n",
    "    style = f.read()\n",
    "HTML(style)"
   ]
  },
  {
   "cell_type": "code",
   "execution_count": null,
   "metadata": {},
   "outputs": [],
   "source": []
  }
 ],
 "metadata": {
  "kernelspec": {
   "display_name": "Python 3",
   "language": "python",
   "name": "python3"
  },
  "language_info": {
   "codemirror_mode": {
    "name": "ipython",
    "version": 3
   },
   "file_extension": ".py",
   "mimetype": "text/x-python",
   "name": "python",
   "nbconvert_exporter": "python",
   "pygments_lexer": "ipython3",
   "version": "3.8.1"
  }
 },
 "nbformat": 4,
 "nbformat_minor": 2
}
