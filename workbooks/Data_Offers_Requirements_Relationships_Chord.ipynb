{
 "cells": [
  {
   "cell_type": "markdown",
   "metadata": {},
   "source": [
    "## Requirements Relationships Chord Diagram\n"
   ]
  },
  {
   "cell_type": "code",
   "execution_count": 34,
   "metadata": {},
   "outputs": [
    {
     "data": {
      "text/html": [
       "<script type=\"text/javascript\">window.PlotlyConfig = {MathJaxConfig: 'local'};</script><script type=\"text/javascript\">if (window.MathJax) {MathJax.Hub.Config({SVG: {font: \"STIX-Web\"}});}</script><script>requirejs.config({paths: { 'plotly': ['https://cdn.plot.ly/plotly-latest.min']},});if(!window._Plotly) {require(['plotly'],function(plotly) {window._Plotly=plotly;});}</script>"
      ],
      "text/vnd.plotly.v1+html": [
       "<script type=\"text/javascript\">window.PlotlyConfig = {MathJaxConfig: 'local'};</script><script type=\"text/javascript\">if (window.MathJax) {MathJax.Hub.Config({SVG: {font: \"STIX-Web\"}});}</script><script>requirejs.config({paths: { 'plotly': ['https://cdn.plot.ly/plotly-latest.min']},});if(!window._Plotly) {require(['plotly'],function(plotly) {window._Plotly=plotly;});}</script>"
      ]
     },
     "metadata": {},
     "output_type": "display_data"
    }
   ],
   "source": [
    "import re\n",
    "from itertools import combinations\n",
    "import psycopg2\n",
    "import numpy as np\n",
    "import pandas as pd\n",
    "import plotly\n",
    "import plotly.plotly as py\n",
    "import plotly.graph_objs as go\n",
    "from IPython import display\n",
    "from bs4 import BeautifulSoup as bs\n",
    "\n",
    "from nbstyler import DATA_STYLE as style\n",
    "\n",
    "plotly.offline.init_notebook_mode(connected=True) # run at the start of every ipython notebook to use plotly.offline\n",
    "\n",
    "%matplotlib notebook\n",
    "%matplotlib inline"
   ]
  },
  {
   "cell_type": "markdown",
   "metadata": {},
   "source": [
    "### Data Preparation"
   ]
  },
  {
   "cell_type": "code",
   "execution_count": 2,
   "metadata": {},
   "outputs": [],
   "source": [
    "data_querystr = \"\"\"SELECT * FROM v_full_data_offers_history\"\"\"\n",
    "conn = psycopg2.connect('dbname=jobsbg')\n",
    "data_df = pd.read_sql_query(data_querystr, conn, index_col='subm_date')\n",
    "conn.close()"
   ]
  },
  {
   "cell_type": "code",
   "execution_count": 3,
   "metadata": {},
   "outputs": [
    {
     "data": {
      "text/html": [
       "<div>\n",
       "<style scoped>\n",
       "    .dataframe tbody tr th:only-of-type {\n",
       "        vertical-align: middle;\n",
       "    }\n",
       "\n",
       "    .dataframe tbody tr th {\n",
       "        vertical-align: top;\n",
       "    }\n",
       "\n",
       "    .dataframe thead th {\n",
       "        text-align: right;\n",
       "    }\n",
       "</style>\n",
       "<table border=\"1\" class=\"dataframe\">\n",
       "  <thead>\n",
       "    <tr style=\"text-align: right;\">\n",
       "      <th></th>\n",
       "      <th>subm_type</th>\n",
       "      <th>job_id</th>\n",
       "      <th>company_id</th>\n",
       "      <th>norm_salary</th>\n",
       "      <th>job_title</th>\n",
       "      <th>company_name</th>\n",
       "      <th>text_salary</th>\n",
       "      <th>job_contents</th>\n",
       "    </tr>\n",
       "    <tr>\n",
       "      <th>subm_date</th>\n",
       "      <th></th>\n",
       "      <th></th>\n",
       "      <th></th>\n",
       "      <th></th>\n",
       "      <th></th>\n",
       "      <th></th>\n",
       "      <th></th>\n",
       "      <th></th>\n",
       "    </tr>\n",
       "  </thead>\n",
       "  <tbody>\n",
       "    <tr>\n",
       "      <th>2017-09-27</th>\n",
       "      <td>submission</td>\n",
       "      <td>3994437</td>\n",
       "      <td>124912</td>\n",
       "      <td>NaN</td>\n",
       "      <td>Data Analyst</td>\n",
       "      <td>ПрайсуотърхаусКупърс Одит ООД</td>\n",
       "      <td>None</td>\n",
       "      <td>&lt;!DOCTYPE html PUBLIC \"-//W3C//DTD XHTML 1.0 ...</td>\n",
       "    </tr>\n",
       "  </tbody>\n",
       "</table>\n",
       "</div>"
      ],
      "text/plain": [
       "             subm_type   job_id  company_id  norm_salary     job_title  \\\n",
       "subm_date                                                                \n",
       "2017-09-27  submission  3994437      124912          NaN  Data Analyst   \n",
       "\n",
       "                             company_name text_salary  \\\n",
       "subm_date                                               \n",
       "2017-09-27  ПрайсуотърхаусКупърс Одит ООД        None   \n",
       "\n",
       "                                                 job_contents  \n",
       "subm_date                                                      \n",
       "2017-09-27   <!DOCTYPE html PUBLIC \"-//W3C//DTD XHTML 1.0 ...  "
      ]
     },
     "execution_count": 3,
     "metadata": {},
     "output_type": "execute_result"
    }
   ],
   "source": [
    "data_df.head(1)"
   ]
  },
  {
   "cell_type": "markdown",
   "metadata": {},
   "source": [
    "### Relationship Categories Definition"
   ]
  },
  {
   "cell_type": "markdown",
   "metadata": {},
   "source": [
    "In order to build the necessary data we first need to define the scope of the relationships we aim to observe. The search strings we will compare should be of the same semantic category to provide meaningful insight.\n",
    "\n",
    "To explore the data and prepare proper definitions we took a deep dive in the data offers' text contents. We used the `nltk` library for text processing to produce frequency distributions of most common words, bigrams and trigrams. Then those distributions were used to explore different possible relationship categories. See the details in the [Requirements Deep Dive Notebook](./Data_Offers_Requirements_Deep_Dive.ipynb).\n",
    "\n",
    "For the first chord diagram the chosen view is a breakdown by technology. Other possible relationships to explore are skill requirements breakdown, perks & benefits breakdown, job title breakdown, etc."
   ]
  },
  {
   "cell_type": "markdown",
   "metadata": {},
   "source": [
    "### Data Jobs Technology Requirement Relationships"
   ]
  },
  {
   "cell_type": "markdown",
   "metadata": {},
   "source": [
    "A preliminary list of terms that describe most often sought categories is presented below. We are going to use it to construct regex filters for selected key technologies."
   ]
  },
  {
   "cell_type": "code",
   "execution_count": 4,
   "metadata": {},
   "outputs": [],
   "source": [
    "tech_terms_candidates = [\n",
    "    'excel', 'tableau', 'access', 'qlik', 'hadoop', 'informatica', 'vmware', 'ssis', 'vba', 'python','powerpoint', 'mysql',\n",
    "    'spark', 'microstrategy', 'deluge', 'ssrs', ('sql', 'server'), ('power', 'bi'), ('ms', 'office'), ('microsoft', 'office'), ]"
   ]
  },
  {
   "cell_type": "code",
   "execution_count": 5,
   "metadata": {},
   "outputs": [],
   "source": [
    "tech_terms_filters = [\n",
    "    r'excel', r'tableau', r'qlik', r'hadoop', r'ss[ir]s', r'sql server', r'power bi', \n",
    "    r'spark', r'postgresql', r'informatica', r'microstrategy', r'(mysql)|(mariadb)']\n",
    "\n",
    "tech_terms_labels = [\n",
    "    'Excel', 'Tableau', 'Qlik', 'Hadoop', 'SSRS/SSIS', 'SQL Server', 'Power BI', \n",
    "    'Spark', 'Postgresql', 'Informatica', 'Microstrategy', 'MySQL/MariaDB']"
   ]
  },
  {
   "cell_type": "markdown",
   "metadata": {},
   "source": [
    "#### Preparing a square matrix with counts for matching filters"
   ]
  },
  {
   "cell_type": "markdown",
   "metadata": {},
   "source": [
    "First we define a helper function that returns `True` for job offers where both of the provided patterns are found in the job contents. We also prepare a list of all possible filter patterns' combinations."
   ]
  },
  {
   "cell_type": "code",
   "execution_count": 6,
   "metadata": {},
   "outputs": [
    {
     "data": {
      "text/plain": [
       "[('excel', 'tableau'),\n",
       " ('excel', 'qlik'),\n",
       " ('excel', 'hadoop'),\n",
       " ('excel', 'ss[ir]s'),\n",
       " ('excel', 'sql server')]"
      ]
     },
     "execution_count": 6,
     "metadata": {},
     "output_type": "execute_result"
    }
   ],
   "source": [
    "def match_terms(first_term, second_term, text):\n",
    "    if re.search(first_term, text, re.IGNORECASE) and re.search(second_term, text, re.IGNORECASE):\n",
    "        return True\n",
    "    else:\n",
    "        return False\n",
    "    \n",
    "def count_matches(first_term, second_term, col):\n",
    "    return sum([match_terms(first_term, second_term, t) for t in col.values])\n",
    "\n",
    "req_combinations = list(combinations(tech_terms_filters, 2))\n",
    "req_combinations[:5]"
   ]
  },
  {
   "cell_type": "markdown",
   "metadata": {},
   "source": [
    "Building the counts in a dictionary with keys composed of tuples with both search terms. "
   ]
  },
  {
   "cell_type": "code",
   "execution_count": 7,
   "metadata": {},
   "outputs": [
    {
     "name": "stdout",
     "output_type": "stream",
     "text": [
      "CPU times: user 25.8 s, sys: 33.5 ms, total: 25.8 s\n",
      "Wall time: 25.9 s\n"
     ]
    }
   ],
   "source": [
    "%%time\n",
    "match_results = [count_matches(*tup, data_df.job_contents) for tup in req_combinations]\n",
    "match_dict = dict(zip(req_combinations, match_results))"
   ]
  },
  {
   "cell_type": "markdown",
   "metadata": {},
   "source": [
    "Another helper function will unpack the combinations counts into a square matrix form. Finally, a DataFrame is created from the combinations counts matrix. This is our main data source for the chord diagram. "
   ]
  },
  {
   "cell_type": "code",
   "execution_count": 8,
   "metadata": {},
   "outputs": [],
   "source": [
    "def make_matrix(headers, counts):\n",
    "    res = []\n",
    "    for k1 in headers:\n",
    "        row = []\n",
    "        for k2 in headers:\n",
    "            if k1 == k2:\n",
    "                row.append(0)\n",
    "            else:\n",
    "                curr_key = tuple([k1, k2])\n",
    "                cell_value = counts.get(curr_key) if curr_key in counts else counts.get(tuple([k2, k1]))\n",
    "                row.append(cell_value)\n",
    "        res.append(row)\n",
    "                \n",
    "    return np.array(res, dtype=int)    "
   ]
  },
  {
   "cell_type": "code",
   "execution_count": 9,
   "metadata": {},
   "outputs": [
    {
     "data": {
      "text/plain": [
       "array([[  0, 250, 237,  50, 300, 159, 136,  55,  25,  79,  23,  64],\n",
       "       [250,   0, 195,  29,  81,  41,  89,  29,   5,  35,  23,  26],\n",
       "       [237, 195,   0,   8,  42,  24,  89,  14,   6,  64,  17,  10],\n",
       "       [ 50,  29,   8,   0,  26,  20,  14,  75,   3,   4,   3,   3],\n",
       "       [300,  81,  42,  26,   0, 141,  78,  35,  11,  42,  12,  28],\n",
       "       [159,  41,  24,  20, 141,   0,  64,  16,  26,  31,  10,  33],\n",
       "       [136,  89,  89,  14,  78,  64,   0,  19,   0,   5,   9,   5],\n",
       "       [ 55,  29,  14,  75,  35,  16,  19,   0,   5,   4,   3,  18],\n",
       "       [ 25,   5,   6,   3,  11,  26,   0,   5,   0,   0,   0,  35],\n",
       "       [ 79,  35,  64,   4,  42,  31,   5,   4,   0,   0,   6,   1],\n",
       "       [ 23,  23,  17,   3,  12,  10,   9,   3,   0,   6,   0,   0],\n",
       "       [ 64,  26,  10,   3,  28,  33,   5,  18,  35,   1,   0,   0]])"
      ]
     },
     "execution_count": 9,
     "metadata": {},
     "output_type": "execute_result"
    }
   ],
   "source": [
    "tech_terms_matrix = make_matrix(tech_terms_filters, match_dict)\n",
    "tech_terms_matrix"
   ]
  },
  {
   "cell_type": "code",
   "execution_count": 10,
   "metadata": {},
   "outputs": [
    {
     "data": {
      "text/html": [
       "<div>\n",
       "<style scoped>\n",
       "    .dataframe tbody tr th:only-of-type {\n",
       "        vertical-align: middle;\n",
       "    }\n",
       "\n",
       "    .dataframe tbody tr th {\n",
       "        vertical-align: top;\n",
       "    }\n",
       "\n",
       "    .dataframe thead th {\n",
       "        text-align: right;\n",
       "    }\n",
       "</style>\n",
       "<table border=\"1\" class=\"dataframe\">\n",
       "  <thead>\n",
       "    <tr style=\"text-align: right;\">\n",
       "      <th></th>\n",
       "      <th>Excel</th>\n",
       "      <th>Tableau</th>\n",
       "      <th>Qlik</th>\n",
       "      <th>Hadoop</th>\n",
       "      <th>SSRS/SSIS</th>\n",
       "      <th>SQL Server</th>\n",
       "      <th>Power BI</th>\n",
       "      <th>Spark</th>\n",
       "      <th>Postgresql</th>\n",
       "      <th>Informatica</th>\n",
       "      <th>Microstrategy</th>\n",
       "      <th>MySQL/MariaDB</th>\n",
       "    </tr>\n",
       "  </thead>\n",
       "  <tbody>\n",
       "    <tr>\n",
       "      <th>Excel</th>\n",
       "      <td>0</td>\n",
       "      <td>250</td>\n",
       "      <td>237</td>\n",
       "      <td>50</td>\n",
       "      <td>300</td>\n",
       "      <td>159</td>\n",
       "      <td>136</td>\n",
       "      <td>55</td>\n",
       "      <td>25</td>\n",
       "      <td>79</td>\n",
       "      <td>23</td>\n",
       "      <td>64</td>\n",
       "    </tr>\n",
       "    <tr>\n",
       "      <th>Tableau</th>\n",
       "      <td>250</td>\n",
       "      <td>0</td>\n",
       "      <td>195</td>\n",
       "      <td>29</td>\n",
       "      <td>81</td>\n",
       "      <td>41</td>\n",
       "      <td>89</td>\n",
       "      <td>29</td>\n",
       "      <td>5</td>\n",
       "      <td>35</td>\n",
       "      <td>23</td>\n",
       "      <td>26</td>\n",
       "    </tr>\n",
       "    <tr>\n",
       "      <th>Qlik</th>\n",
       "      <td>237</td>\n",
       "      <td>195</td>\n",
       "      <td>0</td>\n",
       "      <td>8</td>\n",
       "      <td>42</td>\n",
       "      <td>24</td>\n",
       "      <td>89</td>\n",
       "      <td>14</td>\n",
       "      <td>6</td>\n",
       "      <td>64</td>\n",
       "      <td>17</td>\n",
       "      <td>10</td>\n",
       "    </tr>\n",
       "    <tr>\n",
       "      <th>Hadoop</th>\n",
       "      <td>50</td>\n",
       "      <td>29</td>\n",
       "      <td>8</td>\n",
       "      <td>0</td>\n",
       "      <td>26</td>\n",
       "      <td>20</td>\n",
       "      <td>14</td>\n",
       "      <td>75</td>\n",
       "      <td>3</td>\n",
       "      <td>4</td>\n",
       "      <td>3</td>\n",
       "      <td>3</td>\n",
       "    </tr>\n",
       "    <tr>\n",
       "      <th>SSRS/SSIS</th>\n",
       "      <td>300</td>\n",
       "      <td>81</td>\n",
       "      <td>42</td>\n",
       "      <td>26</td>\n",
       "      <td>0</td>\n",
       "      <td>141</td>\n",
       "      <td>78</td>\n",
       "      <td>35</td>\n",
       "      <td>11</td>\n",
       "      <td>42</td>\n",
       "      <td>12</td>\n",
       "      <td>28</td>\n",
       "    </tr>\n",
       "    <tr>\n",
       "      <th>SQL Server</th>\n",
       "      <td>159</td>\n",
       "      <td>41</td>\n",
       "      <td>24</td>\n",
       "      <td>20</td>\n",
       "      <td>141</td>\n",
       "      <td>0</td>\n",
       "      <td>64</td>\n",
       "      <td>16</td>\n",
       "      <td>26</td>\n",
       "      <td>31</td>\n",
       "      <td>10</td>\n",
       "      <td>33</td>\n",
       "    </tr>\n",
       "    <tr>\n",
       "      <th>Power BI</th>\n",
       "      <td>136</td>\n",
       "      <td>89</td>\n",
       "      <td>89</td>\n",
       "      <td>14</td>\n",
       "      <td>78</td>\n",
       "      <td>64</td>\n",
       "      <td>0</td>\n",
       "      <td>19</td>\n",
       "      <td>0</td>\n",
       "      <td>5</td>\n",
       "      <td>9</td>\n",
       "      <td>5</td>\n",
       "    </tr>\n",
       "    <tr>\n",
       "      <th>Spark</th>\n",
       "      <td>55</td>\n",
       "      <td>29</td>\n",
       "      <td>14</td>\n",
       "      <td>75</td>\n",
       "      <td>35</td>\n",
       "      <td>16</td>\n",
       "      <td>19</td>\n",
       "      <td>0</td>\n",
       "      <td>5</td>\n",
       "      <td>4</td>\n",
       "      <td>3</td>\n",
       "      <td>18</td>\n",
       "    </tr>\n",
       "    <tr>\n",
       "      <th>Postgresql</th>\n",
       "      <td>25</td>\n",
       "      <td>5</td>\n",
       "      <td>6</td>\n",
       "      <td>3</td>\n",
       "      <td>11</td>\n",
       "      <td>26</td>\n",
       "      <td>0</td>\n",
       "      <td>5</td>\n",
       "      <td>0</td>\n",
       "      <td>0</td>\n",
       "      <td>0</td>\n",
       "      <td>35</td>\n",
       "    </tr>\n",
       "    <tr>\n",
       "      <th>Informatica</th>\n",
       "      <td>79</td>\n",
       "      <td>35</td>\n",
       "      <td>64</td>\n",
       "      <td>4</td>\n",
       "      <td>42</td>\n",
       "      <td>31</td>\n",
       "      <td>5</td>\n",
       "      <td>4</td>\n",
       "      <td>0</td>\n",
       "      <td>0</td>\n",
       "      <td>6</td>\n",
       "      <td>1</td>\n",
       "    </tr>\n",
       "    <tr>\n",
       "      <th>Microstrategy</th>\n",
       "      <td>23</td>\n",
       "      <td>23</td>\n",
       "      <td>17</td>\n",
       "      <td>3</td>\n",
       "      <td>12</td>\n",
       "      <td>10</td>\n",
       "      <td>9</td>\n",
       "      <td>3</td>\n",
       "      <td>0</td>\n",
       "      <td>6</td>\n",
       "      <td>0</td>\n",
       "      <td>0</td>\n",
       "    </tr>\n",
       "    <tr>\n",
       "      <th>MySQL/MariaDB</th>\n",
       "      <td>64</td>\n",
       "      <td>26</td>\n",
       "      <td>10</td>\n",
       "      <td>3</td>\n",
       "      <td>28</td>\n",
       "      <td>33</td>\n",
       "      <td>5</td>\n",
       "      <td>18</td>\n",
       "      <td>35</td>\n",
       "      <td>1</td>\n",
       "      <td>0</td>\n",
       "      <td>0</td>\n",
       "    </tr>\n",
       "  </tbody>\n",
       "</table>\n",
       "</div>"
      ],
      "text/plain": [
       "               Excel  Tableau  Qlik  Hadoop  SSRS/SSIS  SQL Server  Power BI  \\\n",
       "Excel              0      250   237      50        300         159       136   \n",
       "Tableau          250        0   195      29         81          41        89   \n",
       "Qlik             237      195     0       8         42          24        89   \n",
       "Hadoop            50       29     8       0         26          20        14   \n",
       "SSRS/SSIS        300       81    42      26          0         141        78   \n",
       "SQL Server       159       41    24      20        141           0        64   \n",
       "Power BI         136       89    89      14         78          64         0   \n",
       "Spark             55       29    14      75         35          16        19   \n",
       "Postgresql        25        5     6       3         11          26         0   \n",
       "Informatica       79       35    64       4         42          31         5   \n",
       "Microstrategy     23       23    17       3         12          10         9   \n",
       "MySQL/MariaDB     64       26    10       3         28          33         5   \n",
       "\n",
       "               Spark  Postgresql  Informatica  Microstrategy  MySQL/MariaDB  \n",
       "Excel             55          25           79             23             64  \n",
       "Tableau           29           5           35             23             26  \n",
       "Qlik              14           6           64             17             10  \n",
       "Hadoop            75           3            4              3              3  \n",
       "SSRS/SSIS         35          11           42             12             28  \n",
       "SQL Server        16          26           31             10             33  \n",
       "Power BI          19           0            5              9              5  \n",
       "Spark              0           5            4              3             18  \n",
       "Postgresql         5           0            0              0             35  \n",
       "Informatica        4           0            0              6              1  \n",
       "Microstrategy      3           0            6              0              0  \n",
       "MySQL/MariaDB     18          35            1              0              0  "
      ]
     },
     "execution_count": 10,
     "metadata": {},
     "output_type": "execute_result"
    }
   ],
   "source": [
    "tech_terms_df = pd.DataFrame(tech_terms_matrix, columns=tech_terms_labels, index=tech_terms_labels)\n",
    "tech_terms_df"
   ]
  },
  {
   "cell_type": "markdown",
   "metadata": {},
   "source": [
    "We can finally move to Plotly. \n",
    "\n",
    "A chord diagram encodes information in two graphical objects:\n",
    "\n",
    "- Ideograms, represented by distinctly colored arcs of circles;\n",
    "- Ribbons, that are planar shapes bounded by two quadratic Bezier curves and two arcs of circle,that can degenerate to a point;\n"
   ]
  },
  {
   "cell_type": "markdown",
   "metadata": {},
   "source": [
    "### Ideograms Preparation"
   ]
  },
  {
   "cell_type": "markdown",
   "metadata": {},
   "source": [
    "For each of our predefined tech terms we can produce a total hits count by summing up all the entries on the row (or column for that matter). That total count determines the size of each ideogram of the chart.\n",
    "\n",
    "We are going to need a couple of helper functions to process the data in order to get ideogram ends.\n"
   ]
  },
  {
   "cell_type": "code",
   "execution_count": 11,
   "metadata": {},
   "outputs": [],
   "source": [
    "PI = np.pi\n",
    "\n",
    "def moduloAB(x, a, b): #maps a real number onto the unit circle identified with \n",
    "                       #the interval [a,b), b-a=2*PI\n",
    "        if a>=b:\n",
    "            raise ValueError('Incorrect interval ends')\n",
    "        y=(x-a)%(b-a)\n",
    "        return y+b if y<0 else y+a\n",
    "\n",
    "def test_2PI(x):\n",
    "    return 0<= x <2*PI"
   ]
  },
  {
   "cell_type": "markdown",
   "metadata": {},
   "source": [
    "And now use them to compute the row sums and the lengths of corresponding ideograms."
   ]
  },
  {
   "cell_type": "code",
   "execution_count": 12,
   "metadata": {},
   "outputs": [],
   "source": [
    "row_sum=[np.sum(tech_terms_matrix[k,:]) for k in range(len(tech_terms_filters))]\n",
    "\n",
    "#set the gap between two consecutive ideograms\n",
    "gap=2*PI*0.005\n",
    "ideogram_length=2*PI*np.asarray(row_sum)/sum(row_sum)-gap*np.ones(len(tech_terms_filters))"
   ]
  },
  {
   "cell_type": "markdown",
   "metadata": {},
   "source": [
    "The next function returns the list of end angular coordinates for each ideogram arc:\n"
   ]
  },
  {
   "cell_type": "code",
   "execution_count": 13,
   "metadata": {},
   "outputs": [
    {
     "data": {
      "text/plain": [
       "[[0, 1.4164485138141805],\n",
       " [1.4478644403500784, 2.2601605207816067],\n",
       " [2.2915764473175044, 3.0019546389870895],\n",
       " [3.0333705655229872, 3.248869111760869],\n",
       " [3.2802850382967668, 4.0852262195392886],\n",
       " [4.116642146075186, 4.6788716540805035],\n",
       " [4.710287580616401, 5.212627195225525],\n",
       " [5.244043121761423, 5.499468263596767],\n",
       " [5.530884190132665, 5.621349450157441],\n",
       " [5.652765376693338, 5.906089118760395],\n",
       " [5.937505045296293, 6.017463306479631],\n",
       " [6.048879233015529, 6.251769380643686]]"
      ]
     },
     "execution_count": 13,
     "metadata": {},
     "output_type": "execute_result"
    }
   ],
   "source": [
    "def get_ideogram_ends(ideogram_len, gap):\n",
    "    ideo_ends=[]\n",
    "    left=0\n",
    "    for k in range(len(ideogram_len)):\n",
    "        right=left+ideogram_len[k]\n",
    "        ideo_ends.append([left, right])\n",
    "        left=right+gap\n",
    "    return ideo_ends\n",
    "\n",
    "ideo_ends=get_ideogram_ends(ideogram_length, gap)\n",
    "ideo_ends"
   ]
  },
  {
   "cell_type": "markdown",
   "metadata": {},
   "source": [
    "The function make_ideogram_arc returns equally spaced points on an ideogram arc, expressed as complex numbers in polar form:"
   ]
  },
  {
   "cell_type": "code",
   "execution_count": 14,
   "metadata": {},
   "outputs": [],
   "source": [
    "def make_ideogram_arc(R, phi, a=50):\n",
    "    # R is the circle radius\n",
    "    # phi is the list of ends angle coordinates of an arc\n",
    "    # a is a parameter that controls the number of points to be evaluated on an arc\n",
    "    if not test_2PI(phi[0]) or not test_2PI(phi[1]):\n",
    "        phi=[moduloAB(t, 0, 2*PI) for t in phi]\n",
    "    length=(phi[1]-phi[0])% 2*PI\n",
    "    nr=5 if length<=PI/4 else int(a*length/PI)\n",
    "\n",
    "    if phi[0] < phi[1]:\n",
    "        theta=np.linspace(phi[0], phi[1], nr)\n",
    "    else:\n",
    "        phi=[moduloAB(t, -PI, PI) for t in phi]\n",
    "        theta=np.linspace(phi[0], phi[1], nr)\n",
    "    return R*np.exp(1j*theta)"
   ]
  },
  {
   "cell_type": "code",
   "execution_count": 15,
   "metadata": {},
   "outputs": [
    {
     "data": {
      "text/plain": [
       "array([1.12583302-0.65j      , 1.14814501-0.60972373j,\n",
       "       1.16901672-0.5686826j , 1.18842197-0.5269281j ,\n",
       "       1.20633642-0.48451259j, 1.22273759-0.44148929j,\n",
       "       1.23760491-0.39791217j, 1.25091973-0.3538359j ,\n",
       "       1.26266534-0.30931575j, 1.27282702-0.26440759j,\n",
       "       1.28139202-0.21916775j, 1.28834958-0.17365297j,\n",
       "       1.29369099-0.12792036j, 1.29740954-0.08202728j,\n",
       "       1.29950058-0.0360313j , 1.29996146+0.01000988j,\n",
       "       1.29879163+0.0560385j , 1.29599253+0.10199682j,\n",
       "       1.2915677 +0.1478272j , 1.28552267+0.19347214j,\n",
       "       1.27786503+0.23887437j])"
      ]
     },
     "execution_count": 15,
     "metadata": {},
     "output_type": "execute_result"
    }
   ],
   "source": [
    "z = make_ideogram_arc(1.3, [11*PI/6, PI/17])\n",
    "z"
   ]
  },
  {
   "cell_type": "markdown",
   "metadata": {},
   "source": [
    "### Ribbons Preparation"
   ]
  },
  {
   "cell_type": "markdown",
   "metadata": {},
   "source": [
    "The function map_data maps all matrix entries to the corresponding values in the intervals associated to ideograms:"
   ]
  },
  {
   "cell_type": "code",
   "execution_count": 16,
   "metadata": {},
   "outputs": [
    {
     "data": {
      "text/plain": [
       "array([[0.        , 0.25697542, 0.2436127 , 0.05139508, 0.3083705 ,\n",
       "        0.16343637, 0.13979463, 0.05653459, 0.02569754, 0.08120423,\n",
       "        0.02364174, 0.06578571],\n",
       "       [0.25289417, 0.        , 0.19725745, 0.02933572, 0.08193771,\n",
       "        0.04147464, 0.09003033, 0.02933572, 0.00505788, 0.03540518,\n",
       "        0.02326626, 0.02630099],\n",
       "       [0.23846973, 0.19620927, 0.        , 0.00804961, 0.04226046,\n",
       "        0.02414883, 0.08955193, 0.01408682, 0.00603721, 0.06439689,\n",
       "        0.01710542, 0.01006201],\n",
       "       [0.04585075, 0.02659344, 0.00733612, 0.        , 0.02384239,\n",
       "        0.0183403 , 0.01283821, 0.06877613, 0.00275105, 0.00366806,\n",
       "        0.00275105, 0.00275105],\n",
       "       [0.30336979, 0.08190984, 0.04247177, 0.02629205, 0.        ,\n",
       "        0.1425838 , 0.07887615, 0.03539314, 0.01112356, 0.04247177,\n",
       "        0.01213479, 0.02831451],\n",
       "       [0.15822034, 0.04079896, 0.02388232, 0.01990193, 0.1403086 ,\n",
       "        0.        , 0.06368617, 0.01592154, 0.02587251, 0.03084799,\n",
       "        0.00995096, 0.03283818],\n",
       "       [0.13448462, 0.08800832, 0.08800832, 0.01384401, 0.07713089,\n",
       "        0.06328688, 0.        , 0.01878829, 0.        , 0.00494429,\n",
       "        0.00889972, 0.00494429],\n",
       "       [0.05145928, 0.02713307, 0.01309873, 0.07017174, 0.03274681,\n",
       "        0.01496997, 0.01777684, 0.        , 0.00467812, 0.00374249,\n",
       "        0.00280687, 0.01684122],\n",
       "       [0.01949682, 0.00389936, 0.00467924, 0.00233962, 0.0085786 ,\n",
       "        0.0202767 , 0.        , 0.00389936, 0.        , 0.        ,\n",
       "        0.        , 0.02729555],\n",
       "       [0.07384714, 0.03271709, 0.05982553, 0.0037391 , 0.03926051,\n",
       "        0.02897799, 0.00467387, 0.0037391 , 0.        , 0.        ,\n",
       "        0.00560864, 0.00093477],\n",
       "       [0.01734943, 0.01734943, 0.01282349, 0.00226297, 0.00905188,\n",
       "        0.00754323, 0.00678891, 0.00226297, 0.        , 0.00452594,\n",
       "        0.        , 0.        ],\n",
       "       [0.05822856, 0.02365535, 0.00909821, 0.00272946, 0.025475  ,\n",
       "        0.0300241 , 0.00454911, 0.01637678, 0.03184375, 0.00090982,\n",
       "        0.        , 0.        ]])"
      ]
     },
     "execution_count": 16,
     "metadata": {},
     "output_type": "execute_result"
    }
   ],
   "source": [
    "def map_data(data_matrix, row_value, ideogram_length):\n",
    "    mapped=np.zeros(data_matrix.shape)\n",
    "    for j  in range(len(tech_terms_filters)):\n",
    "        mapped[:, j]=ideogram_length*data_matrix[:,j]/row_value\n",
    "    return mapped\n",
    "\n",
    "mapped_data=map_data(tech_terms_matrix, row_sum, ideogram_length)\n",
    "mapped_data\n"
   ]
  },
  {
   "cell_type": "markdown",
   "metadata": {},
   "source": [
    "The array idx_sort, defined below, has on each row the indices that sort the corresponding row in mapped_data:\n"
   ]
  },
  {
   "cell_type": "code",
   "execution_count": 17,
   "metadata": {},
   "outputs": [
    {
     "data": {
      "text/plain": [
       "array([[ 0, 10,  8,  3,  7, 11,  9,  6,  5,  2,  1,  4],\n",
       "       [ 1,  8, 10, 11,  3,  7,  9,  5,  4,  6,  2,  0],\n",
       "       [ 2,  8,  3, 11,  7, 10,  5,  4,  9,  6,  1,  0],\n",
       "       [ 3,  8, 10, 11,  9,  2,  6,  5,  4,  1,  0,  7],\n",
       "       [ 4,  8, 10,  3, 11,  7,  2,  9,  6,  1,  5,  0],\n",
       "       [ 5, 10,  7,  3,  2,  8,  9, 11,  1,  6,  4,  0],\n",
       "       [ 6,  8,  9, 11, 10,  3,  7,  5,  4,  1,  2,  0],\n",
       "       [ 7, 10,  9,  8,  2,  5, 11,  6,  1,  4,  0,  3],\n",
       "       [ 6,  8,  9, 10,  3,  1,  7,  2,  4,  0,  5, 11],\n",
       "       [ 8,  9, 11,  3,  7,  6, 10,  5,  1,  4,  2,  0],\n",
       "       [ 8, 10, 11,  3,  7,  9,  6,  5,  4,  2,  0,  1],\n",
       "       [10, 11,  9,  3,  6,  2,  7,  1,  4,  5,  8,  0]])"
      ]
     },
     "execution_count": 17,
     "metadata": {},
     "output_type": "execute_result"
    }
   ],
   "source": [
    "idx_sort=np.argsort(mapped_data, axis=1)\n",
    "idx_sort"
   ]
  },
  {
   "cell_type": "code",
   "execution_count": 18,
   "metadata": {},
   "outputs": [
    {
     "name": "stdout",
     "output_type": "stream",
     "text": [
      "ribbon ends starting from the ideogram[2]\n",
      " [(2.2915764473175044, 2.2915764473175044), (2.2915764473175044, 2.297613655745291), (2.297613655745291, 2.3056632669823403), (2.3056632669823403, 2.3157252810286515), (2.3157252810286515, 2.3298121006934873), (2.3298121006934873, 2.3469175245722167), (2.3469175245722167, 2.371066358283364), (2.371066358283364, 2.413326817277872), (2.413326817277872, 2.477723707174265), (2.477723707174265, 2.5672756321864365), (2.5672756321864365, 2.763484906089509), (2.763484906089509, 3.001954638987089)]\n"
     ]
    }
   ],
   "source": [
    "def make_ribbon_ends(mapped_data, ideo_ends,  idx_sort):\n",
    "    L=mapped_data.shape[0]\n",
    "    ribbon_boundary=np.zeros((L,L+1))\n",
    "    for k in range(L):\n",
    "        start=ideo_ends[k][0]\n",
    "        ribbon_boundary[k][0]=start\n",
    "        for j in range(1,L+1):\n",
    "            J=idx_sort[k][j-1]\n",
    "            ribbon_boundary[k][j]=start+mapped_data[k][J]\n",
    "            start=ribbon_boundary[k][j]\n",
    "    return [[(ribbon_boundary[k][j],ribbon_boundary[k][j+1] ) for j in range(L)] for k in range(L)]\n",
    "\n",
    "ribbon_ends=make_ribbon_ends(mapped_data, ideo_ends,  idx_sort)\n",
    "print('ribbon ends starting from the ideogram[2]\\n', ribbon_ends[2])\n",
    "\n"
   ]
  },
  {
   "cell_type": "code",
   "execution_count": 19,
   "metadata": {},
   "outputs": [],
   "source": [
    "def control_pts(angle, radius):\n",
    "    #angle is a  3-list containing angular coordinates of the control points b0, b1, b2\n",
    "    #radius is the distance from b1 to the  origin O(0,0) \n",
    "\n",
    "    if len(angle)!=3:\n",
    "        raise InvalidInputError('angle must have len =3')\n",
    "    b_cplx=np.array([np.exp(1j*angle[k]) for k in range(3)])\n",
    "    b_cplx[1]=radius*b_cplx[1]\n",
    "    return zip(b_cplx.real, b_cplx.imag)"
   ]
  },
  {
   "cell_type": "code",
   "execution_count": 20,
   "metadata": {},
   "outputs": [],
   "source": [
    "def ctrl_rib_chords(l, r, radius):\n",
    "    # this function returns a 2-list containing control poligons of the two quadratic Bezier\n",
    "    #curves that are opposite sides in a ribbon\n",
    "    #l (r) the list of angular variables of the ribbon arc ends defining \n",
    "    #the ribbon starting (ending) arc \n",
    "    # radius is a common parameter for both control polygons\n",
    "    if len(l)!=2 or len(r)!=2:\n",
    "        raise ValueError('the arc ends must be elements in a list of len 2')\n",
    "    return [control_pts([l[j], (l[j]+r[j])/2, r[j]], radius) for j in range(2)]"
   ]
  },
  {
   "cell_type": "code",
   "execution_count": 21,
   "metadata": {},
   "outputs": [
    {
     "data": {
      "text/plain": [
       "'M 1,4 Q -0.5, 2.35 3.745, 1.47'"
      ]
     },
     "execution_count": 21,
     "metadata": {},
     "output_type": "execute_result"
    }
   ],
   "source": [
    "def make_q_bezier(b):# defines the Plotly SVG path for a quadratic Bezier curve defined by the list of its control points\n",
    "    if len(b)!=3:\n",
    "        raise valueError('control poligon must have 3 points')\n",
    "    A, B, C=b\n",
    "    return 'M '+str(A[0])+',' +str(A[1])+' '+'Q '+\\\n",
    "                str(B[0])+', '+str(B[1])+ ' '+\\\n",
    "                str(C[0])+', '+str(C[1])\n",
    "\n",
    "b=[(1,4), (-0.5, 2.35), (3.745, 1.47)]\n",
    "\n",
    "make_q_bezier(b)\n"
   ]
  },
  {
   "cell_type": "code",
   "execution_count": 22,
   "metadata": {},
   "outputs": [
    {
     "data": {
      "text/plain": [
       "'L 0.5000000000000001, 0.8660254037844386 L 0.5877852522924732, 0.8090169943749473 L 0.6691306063588582, 0.7431448254773942 L 0.7431448254773944, 0.6691306063588581 L 0.8090169943749475, 0.5877852522924731 L 0.8660254037844387, 0.49999999999999994 '"
      ]
     },
     "execution_count": 22,
     "metadata": {},
     "output_type": "execute_result"
    }
   ],
   "source": [
    "def make_ribbon_arc(theta0, theta1):\n",
    "\n",
    "    if test_2PI(theta0) and test_2PI(theta1):\n",
    "        if theta0 < theta1:\n",
    "            theta0= moduloAB(theta0, -PI, PI)\n",
    "            theta1= moduloAB(theta1, -PI, PI)\n",
    "            if theta0*theta1>0:\n",
    "                raise ValueError('incorrect angle coordinates for ribbon')\n",
    "\n",
    "        nr=int(40*(theta0-theta1)/PI)\n",
    "        if nr<=2: nr=3\n",
    "        theta=np.linspace(theta0, theta1, nr)\n",
    "        pts=np.exp(1j*theta)# points on arc in polar complex form\n",
    "\n",
    "        string_arc=''\n",
    "        for k in range(len(theta)):\n",
    "            string_arc+='L '+str(pts.real[k])+', '+str(pts.imag[k])+' '\n",
    "        return   string_arc\n",
    "    else:\n",
    "        raise ValueError('the angle coordinates for an arc side of a ribbon must be in [0, 2*pi]')\n",
    "\n",
    "make_ribbon_arc(np.pi/3, np.pi/6)"
   ]
  },
  {
   "cell_type": "code",
   "execution_count": 23,
   "metadata": {},
   "outputs": [],
   "source": [
    "def make_ideo_shape(path, line_color, fill_color):\n",
    "    #line_color is the color of the shape boundary\n",
    "    #fill_collor is the color assigned to an ideogram\n",
    "    return  dict(\n",
    "                  line=dict(\n",
    "                  color=line_color,\n",
    "                  width=0.45\n",
    "                 ),\n",
    "\n",
    "            path=  path,\n",
    "            type='path',\n",
    "            fillcolor=fill_color,\n",
    "            layer='below'\n",
    "        )"
   ]
  },
  {
   "cell_type": "code",
   "execution_count": 99,
   "metadata": {},
   "outputs": [],
   "source": [
    "temp_colors = [\n",
    "'rgba(207,86,188,0.25)',\n",
    "'rgba(95,194,80,0.25)',\n",
    "'rgba(134,93,213,0.25)',\n",
    "'rgba(157,185,53,0.25)',\n",
    "'rgba(99,108,195,0.25)',\n",
    "'rgba(196,173,64,0.25)',\n",
    "'rgba(150,81,158,0.25)',\n",
    "'rgba(67,201,134,0.25)',\n",
    "'rgba(221,77,138,0.25)',\n",
    "'rgba(78,141,43,0.25)',\n",
    "'rgba(208,144,209,0.25)',\n",
    "'rgba(80,159,95,0.25)',\n",
    "'rgba(203,63,81,0.25)',\n",
    "'rgba(72,197,187,0.25)',\n",
    "'rgba(214,84,45,0.25)',\n",
    "'rgba(77,184,223,0.25)',\n",
    "'rgba(219,148,53,0.25)',\n",
    "'rgba(104,139,204,0.25)',\n",
    "'rgba(128,136,45,0.25)',\n",
    "'rgba(156,73,105,0.25)',\n",
    "'rgba(112,193,148,0.25)',\n",
    "'rgba(165,86,46,0.25)',\n",
    "'rgba(53,148,122,0.25)',\n",
    "'rgba(220,125,130,0.25)',\n",
    "'rgba(52,117,62,0.25)',\n",
    "'rgba(220,151,105,0.25)',\n",
    "'rgba(32,110,84,0.25)',\n",
    "'rgba(143,111,47,0.25)',\n",
    "'rgba(162,181,110,0.25)',\n",
    "'rgba(95,108,43,0.25)',\n",
    "]\n",
    "\n",
    "l = len(tech_terms_filters)\n",
    "ideo_colors=temp_colors[:l]\n"
   ]
  },
  {
   "cell_type": "code",
   "execution_count": 100,
   "metadata": {},
   "outputs": [],
   "source": [
    "def make_ribbon(l, r, line_color, fill_color, radius=0.2):\n",
    "    #l=[l[0], l[1]], r=[r[0], r[1]]  represent the opposite arcs in the ribbon \n",
    "    #line_color is the color of the shape boundary\n",
    "    #fill_color is the fill color for the ribbon shape\n",
    "    poligon=ctrl_rib_chords(l,r, radius)\n",
    "    b,c =poligon\n",
    "\n",
    "    return  dict(\n",
    "                line=dict(\n",
    "                color=line_color, width=0.5\n",
    "            ),\n",
    "            path =  make_q_bezier(list(b))+make_ribbon_arc(r[0], r[1])+make_q_bezier(list(c)[::-1])+make_ribbon_arc(l[1], l[0]),\n",
    "            type='path',\n",
    "            fillcolor=fill_color,\n",
    "            layer='below'\n",
    "        )\n",
    "\n",
    "def make_self_rel(l, line_color, fill_color, radius):\n",
    "    #radius is the radius of Bezier control point b_1\n",
    "    b=control_pts([l[0], (l[0]+l[1])/2, l[1]], radius)\n",
    "    return  dict(\n",
    "                line=dict(\n",
    "                color=line_color, width=0.5\n",
    "            ),\n",
    "            path=  make_q_bezier(b)+make_ribbon_arc(l[1], l[0]),\n",
    "            type='path',\n",
    "            fillcolor=fill_color,\n",
    "            layer='below'\n",
    "        )\n",
    "\n",
    "def invPerm(perm):\n",
    "    # function that returns the inverse of a permutation, perm\n",
    "    inv = [0] * len(perm)\n",
    "    for i, s in enumerate(perm):\n",
    "        inv[s] = i\n",
    "    return inv\n",
    "\n"
   ]
  },
  {
   "cell_type": "code",
   "execution_count": 101,
   "metadata": {},
   "outputs": [],
   "source": [
    "radii_sribb=[0.4, 0.30, 0.35, 0.39, 0.12]# these value are set after a few trials "
   ]
  },
  {
   "cell_type": "code",
   "execution_count": 119,
   "metadata": {},
   "outputs": [],
   "source": [
    "shapes = []\n",
    "\n",
    "ribbon_info=[]\n",
    "for k in range(len(tech_terms_filters)):\n",
    "\n",
    "    sigma=idx_sort[k]\n",
    "    sigma_inv=invPerm(sigma)\n",
    "    for j in range(k, len(tech_terms_filters)):\n",
    "        if tech_terms_matrix[k][j]==0 and tech_terms_matrix[j][k]==0: continue\n",
    "        eta=idx_sort[j]\n",
    "        eta_inv=invPerm(eta)\n",
    "        l=ribbon_ends[k][sigma_inv[j]]\n",
    "\n",
    "        if j==k:\n",
    "            shapes.append(make_self_rel(l, 'rgb(175,175,175)', ideo_colors[k], radius=radii_sribb[k]))\n",
    "            z=0.9*np.exp(1j*(l[0]+l[1])/2)\n",
    "            #the text below will be displayed when hovering the mouse over the ribbon\n",
    "            text=tech_terms_labels[k]+' appears in '+ '{:d}'.format(tech_terms_matrix[k][k])+''+ '',\n",
    "            ribbon_info.append(\n",
    "                go.Scatter(\n",
    "                    x=[z.real],\n",
    "                    y=[z.imag],\n",
    "                    mode='markers',\n",
    "                    marker=dict(size=0.5, color=ideo_colors[k]),\n",
    "                    text=text,\n",
    "                    hoverinfo='text',),)\n",
    "        else:\n",
    "            r=ribbon_ends[j][eta_inv[k]]\n",
    "            zi=0.9*np.exp(1j*(l[0]+l[1])/2)\n",
    "            zf=0.9*np.exp(1j*(r[0]+r[1])/2)\n",
    "            texti=tech_terms_labels[k]+' appears with '+tech_terms_labels[j]+' {:d}'.format(tech_terms_matrix[k][j])+' times'\n",
    "            textf=tech_terms_labels[j]+' appears with '+tech_terms_labels[k]+' {:d}'.format(tech_terms_matrix[j][k])+' times'\n",
    "           \n",
    "            ribbon_info.append(go.Scatter(x=[zi.real],\n",
    "                                       y=[zi.imag],\n",
    "                                       mode='markers',\n",
    "                                       marker=dict(size=0.5, color='green'),\n",
    "                                       text=texti,\n",
    "                                       hoverinfo='text'\n",
    "                                       )\n",
    "                              ),\n",
    "            ribbon_info.append(go.Scatter(x=[zf.real],\n",
    "                                       y=[zf.imag],\n",
    "                                       mode='markers',\n",
    "                                       marker=dict(size=0.5, color='blue'),\n",
    "                                       text=textf,\n",
    "                                       hoverinfo='text'\n",
    "                                       )\n",
    "                              )\n",
    "            r=(r[1], r[0])#IMPORTANT!!!  Reverse these arc ends because otherwise you get\n",
    "                          # a twisted ribbon\n",
    "            shapes.append(make_ribbon(l, r, 'rgb(175,175,175)' , ideo_colors[k]))"
   ]
  },
  {
   "cell_type": "code",
   "execution_count": 120,
   "metadata": {},
   "outputs": [],
   "source": [
    "ideograms=[]\n",
    "for k in range(len(ideo_ends)):\n",
    "    z= make_ideogram_arc(1.1, ideo_ends[k])\n",
    "    zi=make_ideogram_arc(1.0, ideo_ends[k])\n",
    "    m=len(z)\n",
    "    n=len(zi)\n",
    "    ideograms.append(\n",
    "        go.Scatter(\n",
    "            x=z.real,\n",
    "            y=z.imag,\n",
    "            mode='lines',\n",
    "            line=dict(color=ideo_colors[k], shape='spline', width=0.25),\n",
    "            text=tech_terms_labels[k]+'<br>'+'{:d}'.format(row_sum[k]),\n",
    "            hoverinfo='text',),)\n",
    "\n",
    "    path='M '\n",
    "    for s in range(m):\n",
    "        path+=str(z.real[s])+', '+str(z.imag[s])+' L '\n",
    "\n",
    "    Zi=np.array(zi.tolist()[::-1])\n",
    "\n",
    "    for s in range(m):\n",
    "        path+=str(Zi.real[s])+', '+str(Zi.imag[s])+' L '\n",
    "    path+=str(z.real[0])+' ,'+str(z.imag[0])\n",
    "\n",
    "    shapes.append(make_ideo_shape(path,'rgb(150,150,150)' , ideo_colors[k]))\n",
    "\n",
    "data = go.Data(ideograms+ribbon_info)\n",
    "\n",
    "\n"
   ]
  },
  {
   "cell_type": "code",
   "execution_count": 123,
   "metadata": {},
   "outputs": [],
   "source": [
    "layout = go.Layout(\n",
    "    paper_bgcolor=style['colors']['bg1'],            \n",
    "    plot_bgcolor=style['colors']['bg1'],\n",
    "    title = 'Chord Diagam Attempt',\n",
    "    titlefont=style['chart_fonts']['title'],\n",
    "    font = style['chart_fonts']['text'],\n",
    "    height = 760,\n",
    "    width = 760,\n",
    "    showlegend=False,\n",
    "    xaxis=dict(\n",
    "        showline=False,\n",
    "        zeroline=False,\n",
    "        showgrid=False,\n",
    "        showticklabels=False,\n",
    "        title='',),\n",
    "    yaxis=dict(\n",
    "        showline=False,\n",
    "        zeroline=False,\n",
    "        showgrid=False,\n",
    "        showticklabels=False,\n",
    "        title='',),\n",
    "    shapes=shapes,\n",
    "    hovermode = 'closest',\n",
    "    hoverdistance = 10,\n",
    ")"
   ]
  },
  {
   "cell_type": "code",
   "execution_count": 124,
   "metadata": {},
   "outputs": [
    {
     "data": {
      "application/vnd.plotly.v1+json": {
       "config": {
        "linkText": "Export to plot.ly",
        "plotlyServerURL": "https://plot.ly",
        "showLink": true
       },
       "data": [
        {
         "hoverinfo": "text",
         "line": {
          "color": "rgba(207,86,188,0.25)",
          "shape": "spline",
          "width": 0.25
         },
         "mode": "lines",
         "text": "Excel<br>1378",
         "type": "scatter",
         "uid": "4415e30c-6ab6-4620-8608-fbd1c5eff51b",
         "x": [
          1.1,
          1.0997682334036993,
          1.0990730312798065,
          1.0979146865821945,
          1.0962936874301499,
          1.0942107169026845,
          1.0916666527506873,
          1.0886625670270482,
          1.0851997256349004,
          1.0812795877941763,
          1.0769038054267022,
          1.072074222460088,
          1.066792874050708,
          1.0610619857260977,
          1.054883972447131,
          1.0482614375903716,
          1.0411971718510233,
          1.033694152066952,
          1.0257555399642615,
          1.0173846808249634,
          1.0085851020772956,
          0.999360511809286,
          0.9897147972061863,
          0.9796520229124378,
          0.9691764293188537,
          0.9582924307757459,
          0.9470046137327441,
          0.9353177348060951,
          0.923236718774254,
          0.9107666565026125,
          0.8979128027982405,
          0.8846805741955422,
          0.8710755466737627,
          0.8571034533073045,
          0.8427701818498451,
          0.8280817722532746,
          0.8130444141224972,
          0.7976644441071696,
          0.7819483432314771,
          0.7659027341630686,
          0.7495343784223066,
          0.7328501735330041,
          0.7158571501158504,
          0.6985624689257514,
          0.6809734178343317,
          0.6630974087588708,
          0.6449419745389664,
          0.6265147657622431,
          0.607823547540442,
          0.5888761962372501,
          0.5696806961492502,
          0.5502451361413871,
          0.5305777062383703,
          0.5106866941734483,
          0.49058048189600867,
          0.47026754203947707,
          0.44975643435100143,
          0.4290558020844278,
          0.4081743683580866,
          0.3871209324789243,
          0.3659043662345305,
          0.3445336101546207,
          0.3230176697435532,
          0.3013656116854649,
          0.2795865600236267,
          0.2576896923156283,
          0.23568423576601216,
          0.2135794633379865,
          0.19138468984585613,
          0.16910926802981732
         ],
         "y": [
          0,
          0.022579477321374077,
          0.04514943979073902,
          0.06770037656558545,
          0.0902227848207139,
          0.1127071737526666,
          0.13514406857909322,
          0.15752401453136566,
          0.17983758083875892,
          0.2020753647025195,
          0.22422799525814674,
          0.24628613752421707,
          0.2682404963360873,
          0.2900818202628197,
          0.31180090550567746,
          0.3333885997765487,
          0.35483580615466426,
          0.37613348691998333,
          0.3972726673616329,
          0.4182444395597958,
          0.43903996613945234,
          0.4596504839943959,
          0.4800673079799515,
          0.5002818345728421,
          0.52028554549666,
          0.5400700113114155,
          0.5596268949656515,
          0.5789479553096247,
          0.5980250505680755,
          0.6168501417711214,
          0.635415296141829,
          0.6537126904390382,
          0.6717346142540261,
          0.6894734732596269,
          0.7069217924104328,
          0.7240722190927339,
          0.7409175262228621,
          0.7574506152926408,
          0.7736645193606517,
          0.7895524059880611,
          0.805107580117767,
          0.8203234868956552,
          0.8351937144327735,
          0.849711996507263,
          0.8638722152049045,
          0.87766840349717,
          0.8910947477556915,
          0.9041455902020878,
          0.916815431292118,
          0.9290989320331543,
          0.9409909162340016,
          0.9524863726861118,
          0.9635804572752759,
          0.9742684950229044,
          0.9845459820560338,
          0.9944085875052312,
          1.0038521553295952,
          1.0128727060680864,
          1.0214664385164482,
          1.0296297313290095,
          1.0373591445446977,
          1.0446514210366173,
          1.051503487884584,
          1.0579124576700314,
          1.0638756296927547,
          1.0693904911089667,
          1.0744547179901958,
          1.079066176302574,
          1.0832229228061072,
          1.0869232058735427
         ]
        },
        {
         "hoverinfo": "text",
         "line": {
          "color": "rgba(95,194,80,0.25)",
          "shape": "spline",
          "width": 0.25
         },
         "mode": "lines",
         "text": "Tableau<br>803",
         "type": "scatter",
         "uid": "63fdb909-9924-4bfd-a7b2-9bfcab8735d8",
         "x": [
          0.13488473985832855,
          0.11211911243353206,
          0.08930484838132892,
          0.06645184439851087,
          0.04357001398702819,
          0.020669283153571458,
          -0.0022404138962749624,
          -0.02514913906743347,
          -0.04804695468642114,
          -0.0709239278122571,
          -0.0937701345453135,
          -0.11657566433224767,
          -0.13933062426514278,
          -0.16202514337299362,
          -0.18464937690367897,
          -0.20719351059455654,
          -0.22964776492983577,
          -0.2520023993828736,
          -0.274247716641561,
          -0.2963740668149601,
          -0.31837185161937115,
          -0.34023152854201427,
          -0.36194361498051586,
          -0.3834986923564065,
          -0.4048874102008479,
          -0.4261004902108105,
          -0.44712873027395017,
          -0.4679630084604297,
          -0.48859428697996204,
          -0.5090136161023492,
          -0.5292121380398255,
          -0.549181090789514,
          -0.5689118119343355,
          -0.5883957424007117,
          -0.6076244301714443,
          -0.6265895339521524,
          -0.645282826789676,
          -0.663696199640882,
          -0.6818216648903207,
          -0.6996513598152083
         ],
         "y": [
          1.0916987253603219,
          1.0942711293948666,
          1.0963688448946312,
          1.0979909618826724,
          1.099136776693952,
          1.0998057922805815,
          1.09999771842744,
          1.0997124718780664,
          1.0989501763707767,
          1.0977111625849862,
          1.0959959679977633,
          1.0938053366506746,
          1.091140218827024,
          1.0880017706396259,
          1.0843913535292888,
          1.0803105336742318,
          1.0757610813106835,
          1.0707449699649654,
          1.0652643755973867,
          1.0593216756583252,
          1.052919448056903,
          1.0460604700427047,
          1.0387477170010224,
          1.03098436116215,
          1.0227737702252881,
          1.0141195058976566,
          1.0050253223494447,
          0.9954951645852751,
          0.985533166732882,
          0.9751436502497519,
          0.964331122048499,
          0.9531002725417927,
          0.9414559736076835,
          0.9294032764762106,
          0.9169474095382066,
          0.9040937760772522,
          0.8908479519257624,
          0.8772156830462224,
          0.8632028830386235,
          0.8488156305751738
         ]
        },
        {
         "hoverinfo": "text",
         "line": {
          "color": "rgba(134,93,213,0.25)",
          "shape": "spline",
          "width": 0.25
         },
         "mode": "lines",
         "text": "Qlik<br>706",
         "type": "scatter",
         "uid": "7627b62f-7a41-4b3f-bf81-293c52eb2651",
         "x": [
          -0.7259680673778519,
          -0.743075151846116,
          -0.7598578680578052,
          -0.7763088899969908,
          -0.792421036439416,
          -0.8081872740872531,
          -0.82360072063929,
          -0.8386546477952008,
          -0.8533424841925952,
          -0.8676578182755582,
          -0.8815944010934325,
          -0.8951461490286183,
          -0.9083071464522051,
          -0.9210716483062694,
          -0.9334340826117151,
          -0.9453890529005636,
          -0.9569313405716277,
          -0.9680559071685414,
          -0.9787578965791567,
          -0.9890326371553386,
          -0.9988756437522411,
          -1.0082826196861694,
          -1.017249458610173,
          -1.0257722463065562,
          -1.0338472623955173,
          -1.0414709819591736,
          -1.0486400770802653,
          -1.0553514182948611,
          -1.0616020759584381,
          -1.067389321524733,
          -1.0727106287368118,
          -1.0775636747298354,
          -1.0819463410450398,
          -1.0858567145544884,
          -1.0892930882961942
         ],
         "y": [
          0.8264202109990212,
          0.8110729429027157,
          0.7953716240542199,
          0.7793231084162975,
          0.7629344015105637,
          0.7462126573594255,
          0.7291651753631974,
          0.711799397113757,
          0.6941229031461292,
          0.6761434096294208,
          0.6578687649985462,
          0.6393069465282187,
          0.6204660568506971,
          0.6013543204188128,
          0.5819800799158216,
          0.5623517926136409,
          0.5424780266810701,
          0.5223674574436012,
          0.5020288635964518,
          0.48147112337247866,
          0.46070321066663517,
          0.4397341911186754,
          0.41857321815580867,
          0.3972295289970296,
          0.37571244062087517,
          0.3540313456983643,
          0.3321957084928935,
          0.31021506072888366,
          0.28809899743097805,
          0.26585717273560683,
          0.24349929567675166,
          0.221035125947741,
          0.1984744696409356,
          0.17582717496716044,
          0.1531031279567462
         ]
        },
        {
         "hoverinfo": "text",
         "line": {
          "color": "rgba(157,185,53,0.25)",
          "shape": "spline",
          "width": 0.25
         },
         "mode": "lines",
         "text": "Hadoop<br>235",
         "type": "scatter",
         "uid": "55b1ba7a-07df-4db4-af7b-09d1da0828d9",
         "x": [
          -1.0935646733794515,
          -1.0983758947946891,
          -1.0999998770453163,
          -1.0984319077010467,
          -1.0936765366553431
         ],
         "y": [
          0.11881205804333995,
          0.05975277176806282,
          0.0005200964232733603,
          -0.05871408812405549,
          -0.11777789762758537
         ]
        },
        {
         "hoverinfo": "text",
         "line": {
          "color": "rgba(99,108,195,0.25)",
          "shape": "spline",
          "width": 0.25
         },
         "mode": "lines",
         "text": "SSRS/SSIS<br>796",
         "type": "scatter",
         "uid": "59cf1be8-9370-47ba-88a6-81175f6c97ce",
         "x": [
          -1.0894373801379795,
          -1.0860668535071418,
          -1.0822336900270662,
          -1.0779395225278767,
          -1.0731861802156812,
          -1.067975687893376,
          -1.0623102650981315,
          -1.0561923251559258,
          -1.0496244741535297,
          -1.0426095098283785,
          -1.0351504203768094,
          -1.027250383181164,
          -1.0189127634563038,
          -1.0101411128161173,
          -1.0009391677606194,
          -0.9913108480842994,
          -0.9812602552063876,
          -0.9707916704237556,
          -0.9599095530871923,
          -0.9486185387018332,
          -0.9369234369525553,
          -0.9248292296551711,
          -0.912341068634304,
          -0.8994642735288401,
          -0.8862043295258994,
          -0.8725668850242846,
          -0.858557749228406,
          -0.8441828896737095,
          -0.8294484296846586,
          -0.8143606457663531,
          -0.7989259649308973,
          -0.783150961959657,
          -0.767042356602571,
          -0.7506070107157056,
          -0.7338519253382809,
          -0.716784237710406,
          -0.6994112182327961,
          -0.6817402673697655,
          -0.6637789124968189,
          -0.6455348046941832
         ],
         "y": [
          -0.15207299154713763,
          -0.17452446737663152,
          -0.19690160022305592,
          -0.21919485799711033,
          -0.2413947443381393,
          -0.2634918026593442,
          -0.285476620176045,
          -0.3073398319152909,
          -0.32907212470509645,
          -0.35066424114162004,
          -0.37210698353257887,
          -0.3933912178152334,
          -0.41450787744726697,
          -0.4354479672688993,
          -0.4562025673345987,
          -0.47676283671274894,
          -0.4971200172516645,
          -0.5172654373103373,
          -0.5371905154523366,
          -0.5568867641012837,
          -0.5763457931563406,
          -0.595559313566183,
          -0.6145191408599219,
          -0.6332171986334831,
          -0.6516455219899475,
          -0.6697962609323952,
          -0.6876616837078054,
          -0.7052341801005859,
          -0.7225062646743307,
          -0.7394705799604258,
          -0.7561198995921447,
          -0.7724471313828952,
          -0.7884453203473114,
          -0.8041076516639005,
          -0.8194274535779836,
          -0.8343982002436919,
          -0.849013514503813,
          -0.8632671706062967,
          -0.8771530968562675,
          -0.8906653782024104
         ]
        },
        {
         "hoverinfo": "text",
         "line": {
          "color": "rgba(196,173,64,0.25)",
          "shape": "spline",
          "width": 0.25
         },
         "mode": "lines",
         "text": "SQL Server<br>565",
         "type": "scatter",
         "uid": "5a6a41ec-c945-4ff7-8d1b-3d1d65bd0bb3",
         "x": [
          -0.6172397966223017,
          -0.59814766769232,
          -0.5787961850533955,
          -0.5591937394074699,
          -0.5393488302727337,
          -0.5192700622982815,
          -0.49896614153318364,
          -0.4784458716515833,
          -0.4577181501354724,
          -0.4367919644167922,
          -0.4156763879805243,
          -0.3943805764304777,
          -0.37291376351946937,
          -0.3512852571456118,
          -0.3295044353164597,
          -0.3075807420827572,
          -0.28552368344354195,
          -0.26334282322439545,
          -0.24104777893062154,
          -0.2186482175771404,
          -0.19615385149692416,
          -0.17357443412978288,
          -0.15091975579331812,
          -0.1281996394378952,
          -0.10542393638746608,
          -0.0826025220680808,
          -0.05974529172595726,
          -0.036862156136956856
         ],
         "y": [
          -0.9105026268307302,
          -0.9231572821758154,
          -0.9354116613382772,
          -0.9472604508832251,
          -0.9586985132373128,
          -0.9697208889163618,
          -0.9803227986757664,
          -0.9904996455827518,
          -1.0002470170095792,
          -1.0095606865468365,
          -1.0184366158359905,
          -1.026870956320396,
          -1.0348600509140091,
          -1.0424004355870835,
          -1.049488840868154,
          -1.0561221932616607,
          -1.0622976165806042,
          -1.0680124331936427,
          -1.0732641651860992,
          -1.0780505354343737,
          -1.0823694685932908,
          -1.0862190919959591,
          -1.0895977364657499,
          -1.092503937040043,
          -1.094936433605427,
          -1.096894171444079,
          -1.0983763016910828,
          -1.0993821817024936
         ]
        },
        {
         "hoverinfo": "text",
         "line": {
          "color": "rgba(150,81,158,0.25)",
          "shape": "spline",
          "width": 0.25
         },
         "mode": "lines",
         "text": "Power BI<br>508",
         "type": "scatter",
         "uid": "0a1ddf3e-4854-4ff2-8c2b-e99eb9e73081",
         "x": [
          -0.0023115380438703957,
          0.020711135362150364,
          0.04372473556941724,
          0.06671918070820033,
          0.08968439730028183,
          0.11261032467197482,
          0.13548691936153665,
          0.15830415951904167,
          0.1810520492967828,
          0.20372062322828163,
          0.2262999505939928,
          0.24878013977178687,
          0.2711513425703007,
          0.2934037585432622,
          0.31552763928290206,
          0.33751329269056873,
          0.3593510872226711,
          0.3810314561100936,
          0.40254490154923755,
          0.42388199886285116,
          0.445033400628819,
          0.4659898407751086,
          0.4867421386390813,
          0.5072812029893881,
          0.5275980360086822
         ],
         "y": [
          -1.0999975712663514,
          -1.0998050049313337,
          -1.0991306325907693,
          -1.097974749675796,
          -1.0963378625592046,
          -1.094220688333607,
          -1.091624154497289,
          -1.0885493985478887,
          -1.084997767484079,
          -1.08097081721547,
          -1.0764703118809902,
          -1.071498223076049,
          -1.0660567289888112,
          -1.0601482134459725,
          -1.053775264868444,
          -1.0469406751374075,
          -1.0396474383712415,
          -1.0318987496138474,
          -1.0236980034349559,
          -1.0150487924430205,
          -1.005954905711359,
          -0.9964203271182243,
          -0.9864492336015339,
          -0.9760459933290231,
          -0.9652151637846256
         ]
        },
        {
         "hoverinfo": "text",
         "line": {
          "color": "rgba(67,201,134,0.25)",
          "shape": "spline",
          "width": 0.25
         },
         "mode": "lines",
         "text": "Spark<br>273",
         "type": "scatter",
         "uid": "440b262e-0c8e-40c2-946c-970137aba753",
         "x": [
          0.5576558391949482,
          0.5795203986426857,
          0.6010725004639086,
          0.6223005245006443,
          0.6431930253266022,
          0.6637387384181592,
          0.6839265862278096,
          0.703745684156794,
          0.7231853464237109,
          0.7422350918259198,
          0.7608846493906499,
          0.7791239639127607
         ],
         "y": [
          -0.948166633568055,
          -0.9349631583955716,
          -0.9212555829877315,
          -0.9070512980015095,
          -0.8923579619027407,
          -0.8771834968369335,
          -0.8615360843579187,
          -0.845424161016638,
          -0.828856413812439,
          -0.8118417755093468,
          -0.7943894198198187,
          -0.776508756458591
         ]
        },
        {
         "hoverinfo": "text",
         "line": {
          "color": "rgba(221,77,138,0.25)",
          "shape": "spline",
          "width": 0.25
         },
         "mode": "lines",
         "text": "Postgresql<br>116",
         "type": "scatter",
         "uid": "5e4bcdae-5d97-44cf-b1fc-78b9e9d379c3",
         "x": [
          0.8031302427401354,
          0.819923017400297,
          0.8362964211952856,
          0.8522420795236194,
          0.8677518365653174
         ],
         "y": [
          -0.7516527211393379,
          -0.7332981968729996,
          -0.7145686082497312,
          -0.6954735350027756,
          -0.6760227438019515
         ]
        },
        {
         "hoverinfo": "text",
         "line": {
          "color": "rgba(78,141,43,0.25)",
          "shape": "spline",
          "width": 0.25
         },
         "mode": "lines",
         "text": "Informatica<br>271",
         "type": "scatter",
         "uid": "9f4744f9-1ab0-4380-976e-af607bd5b02a",
         "x": [
          0.8885580409533451,
          0.9032541357879563,
          0.9174712067209911,
          0.9312017139953463,
          0.9444383758938341,
          0.9571741726009059,
          0.96940234992548,
          0.981116422882901,
          0.9923101791341278,
          1.002977682280333,
          1.0131132750111589,
          1.0227115821049693
         ],
         "y": [
          -0.6484324235085362,
          -0.6277993040629725,
          -0.6068332430230965,
          -0.5855453593464209,
          -0.5639469426630639,
          -0.5420494472885027,
          -0.5198644861489938,
          -0.49740382462287197,
          -0.4746793743010069,
          -0.4517031866697113,
          -0.4284874467194627,
          -0.4050444664828183
         ]
        },
        {
         "hoverinfo": "text",
         "line": {
          "color": "rgba(208,144,209,0.25)",
          "shape": "spline",
          "width": 0.25
         },
         "mode": "lines",
         "text": "Microstrategy<br>106",
         "type": "scatter",
         "uid": "a8d876fd-2582-45d3-b33a-2426b9e36e36",
         "x": [
          1.034929689828554,
          1.0421729503896195,
          1.0489997905141892,
          1.0554074824057453,
          1.0613934657465858
         ],
         "y": [
          -0.3727204543775041,
          -0.35195957363906993,
          -0.3310580606195649,
          -0.31002426692432733,
          -0.288866597014005
         ]
        },
        {
         "hoverinfo": "text",
         "line": {
          "color": "rgba(80,159,95,0.25)",
          "shape": "spline",
          "width": 0.25
         },
         "mode": "lines",
         "text": "MySQL/MariaDB<br>223",
         "type": "scatter",
         "uid": "ae57ff64-3940-46c8-892c-a29bf347d401",
         "x": [
          1.0699432512275584,
          1.081515399678373,
          1.0903056480458229,
          1.096291385840336,
          1.0994572164023046
         ],
         "y": [
          -0.25538488434635664,
          -0.20080946257218346,
          -0.14571751383886009,
          -0.0902507469901251,
          -0.03455183498594413
         ]
        },
        {
         "hoverinfo": "text",
         "marker": {
          "color": "green",
          "size": 0.5
         },
         "mode": "markers",
         "text": "Excel appears with Tableau 250 times",
         "type": "scatter",
         "uid": "465e0b8d-15ed-444d-90a4-d1196c0d1ed8",
         "x": [
          0.5016264791584663
         ],
         "y": [
          0.7472421798902152
         ]
        },
        {
         "hoverinfo": "text",
         "marker": {
          "color": "blue",
          "size": 0.5
         },
         "mode": "markers",
         "text": "Tableau appears with Excel 250 times",
         "type": "scatter",
         "uid": "2aef0356-d052-4b1d-a946-848bbe3e3628",
         "x": [
          -0.4802899221027854
         ],
         "y": [
          0.7611317827593986
         ]
        },
        {
         "hoverinfo": "text",
         "marker": {
          "color": "green",
          "size": 0.5
         },
         "mode": "markers",
         "text": "Excel appears with Qlik 237 times",
         "type": "scatter",
         "uid": "895b61ac-c43e-48b7-a7b4-849e2503f562",
         "x": [
          0.6710791797546277
         ],
         "y": [
          0.5997105422617283
         ]
        },
        {
         "hoverinfo": "text",
         "marker": {
          "color": "blue",
          "size": 0.5
         },
         "mode": "markers",
         "text": "Qlik appears with Excel 237 times",
         "type": "scatter",
         "uid": "dbf0f01d-42d0-4194-8f18-edd00b82c3d7",
         "x": [
          -0.8700112121265288
         ],
         "y": [
          0.23039203713264111
         ]
        },
        {
         "hoverinfo": "text",
         "marker": {
          "color": "green",
          "size": 0.5
         },
         "mode": "markers",
         "text": "Excel appears with Hadoop 50 times",
         "type": "scatter",
         "uid": "61d6b379-8bda-4e5d-844c-d7559c92adfd",
         "x": [
          0.8974674524982533
         ],
         "y": [
          0.06746978365383699
         ]
        },
        {
         "hoverinfo": "text",
         "marker": {
          "color": "blue",
          "size": 0.5
         },
         "mode": "markers",
         "text": "Hadoop appears with Excel 50 times",
         "type": "scatter",
         "uid": "b4c2138a-9c9e-4d84-8194-f5fdebe75204",
         "x": [
          -0.8998908416384218
         ],
         "y": [
          -0.014016887503752335
         ]
        },
        {
         "hoverinfo": "text",
         "marker": {
          "color": "green",
          "size": 0.5
         },
         "mode": "markers",
         "text": "Excel appears with SSRS/SSIS 300 times",
         "type": "scatter",
         "uid": "f0e80c49-78d1-4ebc-9d8d-8370cf636127",
         "x": [
          0.2732951674135017
         ],
         "y": [
          0.8575020416701211
         ]
        },
        {
         "hoverinfo": "text",
         "marker": {
          "color": "blue",
          "size": 0.5
         },
         "mode": "markers",
         "text": "SSRS/SSIS appears with Excel 300 times",
         "type": "scatter",
         "uid": "2817475e-7269-4011-b5bb-6584fac0f151",
         "x": [
          -0.6322137624591473
         ],
         "y": [
          -0.6405511365669793
         ]
        },
        {
         "hoverinfo": "text",
         "marker": {
          "color": "green",
          "size": 0.5
         },
         "mode": "markers",
         "text": "Excel appears with SQL Server 159 times",
         "type": "scatter",
         "uid": "dfa1871a-644e-445a-98b2-727e5b89f5b9",
         "x": [
          0.7784432041295066
         ],
         "y": [
          0.45169257016757236
         ]
        },
        {
         "hoverinfo": "text",
         "marker": {
          "color": "blue",
          "size": 0.5
         },
         "mode": "markers",
         "text": "SQL Server appears with Excel 159 times",
         "type": "scatter",
         "uid": "80f01b3b-9f58-499c-b1ce-a42686f7ef89",
         "x": [
          -0.10115058112054356
         ],
         "y": [
          -0.8942978027139373
         ]
        },
        {
         "hoverinfo": "text",
         "marker": {
          "color": "green",
          "size": 0.5
         },
         "mode": "markers",
         "text": "Excel appears with Power BI 136 times",
         "type": "scatter",
         "uid": "12de7534-ec30-41d6-84d0-99b45cce5227",
         "x": [
          0.8377347125552816
         ],
         "y": [
          0.32893852218905534
         ]
        },
        {
         "hoverinfo": "text",
         "marker": {
          "color": "blue",
          "size": 0.5
         },
         "mode": "markers",
         "text": "Power BI appears with Excel 136 times",
         "type": "scatter",
         "uid": "c92a0ff5-4f9e-4d3f-85ac-6825192f96ea",
         "x": [
          0.3776328916973269
         ],
         "y": [
          -0.8169414906272755
         ]
        },
        {
         "hoverinfo": "text",
         "marker": {
          "color": "green",
          "size": 0.5
         },
         "mode": "markers",
         "text": "Excel appears with Spark 55 times",
         "type": "scatter",
         "uid": "32d16e94-64c5-40d9-84c9-b229b4571a9c",
         "x": [
          0.8925217365719288
         ],
         "y": [
          0.11577974670307623
         ]
        },
        {
         "hoverinfo": "text",
         "marker": {
          "color": "blue",
          "size": 0.5
         },
         "mode": "markers",
         "text": "Spark appears with Excel 55 times",
         "type": "scatter",
         "uid": "353d7d18-68bf-4c32-a530-fea70b6dd53c",
         "x": [
          0.5737006734707271
         ],
         "y": [
          -0.6934461314761474
         ]
        },
        {
         "hoverinfo": "text",
         "marker": {
          "color": "green",
          "size": 0.5
         },
         "mode": "markers",
         "text": "Excel appears with Postgresql 25 times",
         "type": "scatter",
         "uid": "32604700-c0fb-4962-a4d0-bb8fda62a982",
         "x": [
          0.8994008657050627
         ],
         "y": [
          0.03283417075218701
         ]
        },
        {
         "hoverinfo": "text",
         "marker": {
          "color": "blue",
          "size": 0.5
         },
         "mode": "markers",
         "text": "Postgresql appears with Excel 25 times",
         "type": "scatter",
         "uid": "d870ac8f-5215-4925-a604-f171031a665c",
         "x": [
          0.6771254769775441
         ],
         "y": [
          -0.5928752722351754
         ]
        },
        {
         "hoverinfo": "text",
         "marker": {
          "color": "green",
          "size": 0.5
         },
         "mode": "markers",
         "text": "Excel appears with Informatica 79 times",
         "type": "scatter",
         "uid": "45065766-de1b-4638-9368-d3794c197f00",
         "x": [
          0.8688990885599749
         ],
         "y": [
          0.23455143124620872
         ]
        },
        {
         "hoverinfo": "text",
         "marker": {
          "color": "blue",
          "size": 0.5
         },
         "mode": "markers",
         "text": "Informatica appears with Excel 79 times",
         "type": "scatter",
         "uid": "dbbfcabf-263e-4d1d-b898-c9007bda0894",
         "x": [
          0.8239599934230557
         ],
         "y": [
          -0.36206343261682494
         ]
        },
        {
         "hoverinfo": "text",
         "marker": {
          "color": "green",
          "size": 0.5
         },
         "mode": "markers",
         "text": "Excel appears with Microstrategy 23 times",
         "type": "scatter",
         "uid": "c2ce61d8-0eac-4ac2-b7df-488d66fc553a",
         "x": [
          0.8999371209041379
         ],
         "y": [
          0.01063853461578082
         ]
        },
        {
         "hoverinfo": "text",
         "marker": {
          "color": "blue",
          "size": 0.5
         },
         "mode": "markers",
         "text": "Microstrategy appears with Excel 23 times",
         "type": "scatter",
         "uid": "eba68dc0-6eec-4b03-9414-949eee3df144",
         "x": [
          0.8619687890325269
         ],
         "y": [
          -0.25886252477676064
         ]
        },
        {
         "hoverinfo": "text",
         "marker": {
          "color": "green",
          "size": 0.5
         },
         "mode": "markers",
         "text": "Excel appears with MySQL/MariaDB 64 times",
         "type": "scatter",
         "uid": "8f2cb022-986e-49bc-9eeb-501d9eb06120",
         "x": [
          0.8837762965954639
         ],
         "y": [
          0.1701160121094038
         ]
        },
        {
         "hoverinfo": "text",
         "marker": {
          "color": "blue",
          "size": 0.5
         },
         "mode": "markers",
         "text": "MySQL/MariaDB appears with Excel 64 times",
         "type": "scatter",
         "uid": "1fd378d1-cd35-4433-9aa3-16f519ca6dcd",
         "x": [
          0.8983517456204286
         ],
         "y": [
          -0.05444392657339157
         ]
        },
        {
         "hoverinfo": "text",
         "marker": {
          "color": "green",
          "size": 0.5
         },
         "mode": "markers",
         "text": "Tableau appears with Qlik 195 times",
         "type": "scatter",
         "uid": "582d23f7-cb35-4c17-9e15-b48bc6269a31",
         "x": [
          -0.2983060686695301
         ],
         "y": [
          0.8491251317650006
         ]
        },
        {
         "hoverinfo": "text",
         "marker": {
          "color": "blue",
          "size": 0.5
         },
         "mode": "markers",
         "text": "Qlik appears with Tableau 195 times",
         "type": "scatter",
         "uid": "19775fb2-9cdf-4ddf-bd70-2151f7659de6",
         "x": [
          -0.7998638383453157
         ],
         "y": [
          0.41257464792143805
         ]
        },
        {
         "hoverinfo": "text",
         "marker": {
          "color": "green",
          "size": 0.5
         },
         "mode": "markers",
         "text": "Tableau appears with Hadoop 29 times",
         "type": "scatter",
         "uid": "91b77167-270b-49aa-883a-5cc72b649d0d",
         "x": [
          0.04825184941304551
         ],
         "y": [
          0.8987056019788798
         ]
        },
        {
         "hoverinfo": "text",
         "marker": {
          "color": "blue",
          "size": 0.5
         },
         "mode": "markers",
         "text": "Hadoop appears with Tableau 29 times",
         "type": "scatter",
         "uid": "bb620d74-d688-4eb9-bc05-adbe55f17dbf",
         "x": [
          -0.8998081697105208
         ],
         "y": [
          0.01858111197433049
         ]
        },
        {
         "hoverinfo": "text",
         "marker": {
          "color": "green",
          "size": 0.5
         },
         "mode": "markers",
         "text": "Tableau appears with SSRS/SSIS 81 times",
         "type": "scatter",
         "uid": "a923468b-afe5-4256-95ce-2664f81eb407",
         "x": [
          -0.09720208030130344
         ],
         "y": [
          0.8947355785845889
         ]
        },
        {
         "hoverinfo": "text",
         "marker": {
          "color": "blue",
          "size": 0.5
         },
         "mode": "markers",
         "text": "SSRS/SSIS appears with Tableau 81 times",
         "type": "scatter",
         "uid": "09136daa-5ead-4308-a992-e1f7f3c64daa",
         "x": [
          -0.8077514378482288
         ],
         "y": [
          -0.39691008384030646
         ]
        },
        {
         "hoverinfo": "text",
         "marker": {
          "color": "green",
          "size": 0.5
         },
         "mode": "markers",
         "text": "Tableau appears with SQL Server 41 times",
         "type": "scatter",
         "uid": "b73c3cd0-c9e6-4488-8709-f1b69234f200",
         "x": [
          -0.04184140083218889
         ],
         "y": [
          0.8990268612096082
         ]
        },
        {
         "hoverinfo": "text",
         "marker": {
          "color": "blue",
          "size": 0.5
         },
         "mode": "markers",
         "text": "SQL Server appears with Tableau 41 times",
         "type": "scatter",
         "uid": "0c9cfab5-9059-4f23-b611-fe1c75a9cf9a",
         "x": [
          -0.36380295987214645
         ],
         "y": [
          -0.8231934197916462
         ]
        },
        {
         "hoverinfo": "text",
         "marker": {
          "color": "green",
          "size": 0.5
         },
         "mode": "markers",
         "text": "Tableau appears with Power BI 89 times",
         "type": "scatter",
         "uid": "6c909168-feb7-42ad-acb2-1d402cc0a2de",
         "x": [
          -0.17368118001952682
         ],
         "y": [
          0.8830825826087981
         ]
        },
        {
         "hoverinfo": "text",
         "marker": {
          "color": "blue",
          "size": 0.5
         },
         "mode": "markers",
         "text": "Power BI appears with Tableau 89 times",
         "type": "scatter",
         "uid": "9bbc8b65-9a0c-492b-a308-4a2032687eb7",
         "x": [
          0.20845666685693373
         ],
         "y": [
          -0.8755260236240253
         ]
        },
        {
         "hoverinfo": "text",
         "marker": {
          "color": "green",
          "size": 0.5
         },
         "mode": "markers",
         "text": "Tableau appears with Spark 29 times",
         "type": "scatter",
         "uid": "f702d60c-bb89-4973-aa03-d746fcecb858",
         "x": [
          0.021870690319803664
         ],
         "y": [
          0.8997342234820987
         ]
        },
        {
         "hoverinfo": "text",
         "marker": {
          "color": "blue",
          "size": 0.5
         },
         "mode": "markers",
         "text": "Spark appears with Tableau 29 times",
         "type": "scatter",
         "uid": "91f58bd7-28ea-46e6-9099-5680d8111119",
         "x": [
          0.5222977810739786
         ],
         "y": [
          -0.732942718010895
         ]
        },
        {
         "hoverinfo": "text",
         "marker": {
          "color": "green",
          "size": 0.5
         },
         "mode": "markers",
         "text": "Tableau appears with Postgresql 5 times",
         "type": "scatter",
         "uid": "5cbb0e5b-fc4c-4ccf-af64-78c17a273ff1",
         "x": [
          0.10810102010603578
         ],
         "y": [
          0.8934842860688903
         ]
        },
        {
         "hoverinfo": "text",
         "marker": {
          "color": "blue",
          "size": 0.5
         },
         "mode": "markers",
         "text": "Postgresql appears with Tableau 5 times",
         "type": "scatter",
         "uid": "11ae5af3-d91c-46b8-9d43-5dfa5210ed33",
         "x": [
          0.6597383806542125
         ],
         "y": [
          -0.6121644134476926
         ]
        },
        {
         "hoverinfo": "text",
         "marker": {
          "color": "green",
          "size": 0.5
         },
         "mode": "markers",
         "text": "Tableau appears with Informatica 35 times",
         "type": "scatter",
         "uid": "43b761c0-dda7-4537-9a04-78d0f431d846",
         "x": [
          -0.007260486427172571
         ],
         "y": [
          0.8999707135995265
         ]
        },
        {
         "hoverinfo": "text",
         "marker": {
          "color": "blue",
          "size": 0.5
         },
         "mode": "markers",
         "text": "Informatica appears with Tableau 35 times",
         "type": "scatter",
         "uid": "dbcebf7b-143b-4f58-bfbf-8bdf67a7f944",
         "x": [
          0.7594602082360385
         ],
         "y": [
          -0.48292876504311993
         ]
        },
        {
         "hoverinfo": "text",
         "marker": {
          "color": "green",
          "size": 0.5
         },
         "mode": "markers",
         "text": "Tableau appears with Microstrategy 23 times",
         "type": "scatter",
         "uid": "4fdf5e19-141d-4fb4-8181-3b5b4b3242f0",
         "x": [
          0.09543701240730677
         ],
         "y": [
          0.8949255704597827
         ]
        },
        {
         "hoverinfo": "text",
         "marker": {
          "color": "blue",
          "size": 0.5
         },
         "mode": "markers",
         "text": "Microstrategy appears with Tableau 23 times",
         "type": "scatter",
         "uid": "fbe450a4-92b4-4e78-bba6-b9104343abdb",
         "x": [
          0.866329957744012
         ],
         "y": [
          -0.2438696461539615
         ]
        },
        {
         "hoverinfo": "text",
         "marker": {
          "color": "green",
          "size": 0.5
         },
         "mode": "markers",
         "text": "Tableau appears with MySQL/MariaDB 26 times",
         "type": "scatter",
         "uid": "8f90429e-c9f1-4352-a227-98a3419fc0da",
         "x": [
          0.07323047113794251
         ],
         "y": [
          0.8970157736054116
         ]
        },
        {
         "hoverinfo": "text",
         "marker": {
          "color": "blue",
          "size": 0.5
         },
         "mode": "markers",
         "text": "MySQL/MariaDB appears with Tableau 26 times",
         "type": "scatter",
         "uid": "6d35f9ba-5446-4812-81e6-7144fee02edc",
         "x": [
          0.884004607406174
         ],
         "y": [
          -0.16892558741841412
         ]
        },
        {
         "hoverinfo": "text",
         "marker": {
          "color": "green",
          "size": 0.5
         },
         "mode": "markers",
         "text": "Qlik appears with Hadoop 8 times",
         "type": "scatter",
         "uid": "84d03636-5a3e-4f4d-8d98-e1623ad39f29",
         "x": [
          -0.6007472420262995
         ],
         "y": [
          0.6701512897829824
         ]
        },
        {
         "hoverinfo": "text",
         "marker": {
          "color": "blue",
          "size": 0.5
         },
         "mode": "markers",
         "text": "Hadoop appears with Qlik 8 times",
         "type": "scatter",
         "uid": "5e5ff5e2-0258-4c26-bb6b-2c74b645db70",
         "x": [
          -0.8961413817020633
         ],
         "y": [
          0.08325036937525863
         ]
        },
        {
         "hoverinfo": "text",
         "marker": {
          "color": "green",
          "size": 0.5
         },
         "mode": "markers",
         "text": "Qlik appears with SSRS/SSIS 42 times",
         "type": "scatter",
         "uid": "e074b474-a3c6-40c7-8318-0ee25f2fbe40",
         "x": [
          -0.6588903603284537
         ],
         "y": [
          0.6130770694343741
         ]
        },
        {
         "hoverinfo": "text",
         "marker": {
          "color": "blue",
          "size": 0.5
         },
         "mode": "markers",
         "text": "SSRS/SSIS appears with Qlik 42 times",
         "type": "scatter",
         "uid": "1ad28010-e1ae-4e80-92b9-7606ae1408fc",
         "x": [
          -0.8666245009137858
         ],
         "y": [
          -0.24282086898767927
         ]
        },
        {
         "hoverinfo": "text",
         "marker": {
          "color": "green",
          "size": 0.5
         },
         "mode": "markers",
         "text": "Qlik appears with SQL Server 24 times",
         "type": "scatter",
         "uid": "155b0c74-87b8-46f7-8d7f-f3ba8b33f3ca",
         "x": [
          -0.6381738976791446
         ],
         "y": [
          0.6346133281936401
         ]
        },
        {
         "hoverinfo": "text",
         "marker": {
          "color": "blue",
          "size": 0.5
         },
         "mode": "markers",
         "text": "SQL Server appears with Qlik 24 times",
         "type": "scatter",
         "uid": "b80aaa60-15c7-4d32-b0f2-06a03cbf1ac5",
         "x": [
          -0.46120173549162174
         ],
         "y": [
          -0.772847306509841
         ]
        },
        {
         "hoverinfo": "text",
         "marker": {
          "color": "green",
          "size": 0.5
         },
         "mode": "markers",
         "text": "Qlik appears with Power BI 89 times",
         "type": "scatter",
         "uid": "4cbd63fd-173d-409c-a24c-673f271d00aa",
         "x": [
          -0.7329646170450514
         ],
         "y": [
          0.5222670487020995
         ]
        },
        {
         "hoverinfo": "text",
         "marker": {
          "color": "blue",
          "size": 0.5
         },
         "mode": "markers",
         "text": "Power BI appears with Qlik 89 times",
         "type": "scatter",
         "uid": "319c4b3a-6fa2-43e4-b8d9-faf35755e42d",
         "x": [
          0.28460403319045485
         ],
         "y": [
          -0.8538152869864339
         ]
        },
        {
         "hoverinfo": "text",
         "marker": {
          "color": "green",
          "size": 0.5
         },
         "mode": "markers",
         "text": "Qlik appears with Spark 14 times",
         "type": "scatter",
         "uid": "d124cbfe-7020-43b7-805f-cfb604e5c052",
         "x": [
          -0.6147725310524506
         ],
         "y": [
          0.6573087060608309
         ]
        },
        {
         "hoverinfo": "text",
         "marker": {
          "color": "blue",
          "size": 0.5
         },
         "mode": "markers",
         "text": "Spark appears with Qlik 14 times",
         "type": "scatter",
         "uid": "21aa8b01-46bc-4ba4-8327-868558012e45",
         "x": [
          0.4699818388616788
         ],
         "y": [
          -0.7675396218699039
         ]
        },
        {
         "hoverinfo": "text",
         "marker": {
          "color": "green",
          "size": 0.5
         },
         "mode": "markers",
         "text": "Qlik appears with Postgresql 6 times",
         "type": "scatter",
         "uid": "020682b0-623c-400c-b826-6e62c48135e4",
         "x": [
          -0.5960122295098025
         ],
         "y": [
          0.6743659409213625
         ]
        },
        {
         "hoverinfo": "text",
         "marker": {
          "color": "blue",
          "size": 0.5
         },
         "mode": "markers",
         "text": "Postgresql appears with Qlik 6 times",
         "type": "scatter",
         "uid": "e7ee3dbe-1191-42bf-9f7b-bbcc7ce3c3ad",
         "x": [
          0.664729015409033
         ],
         "y": [
          -0.6067415727254377
         ]
        },
        {
         "hoverinfo": "text",
         "marker": {
          "color": "green",
          "size": 0.5
         },
         "mode": "markers",
         "text": "Qlik appears with Informatica 64 times",
         "type": "scatter",
         "uid": "3ad2cc43-bdbf-4d99-b2d6-b47b6154fab5",
         "x": [
          -0.690632750252847
         ],
         "y": [
          0.5770843996142928
         ]
        },
        {
         "hoverinfo": "text",
         "marker": {
          "color": "blue",
          "size": 0.5
         },
         "mode": "markers",
         "text": "Informatica appears with Qlik 64 times",
         "type": "scatter",
         "uid": "dfbaf968-2851-4625-b892-d78f7b19854b",
         "x": [
          0.7979393427972199
         ],
         "y": [
          -0.41628452435364544
         ]
        },
        {
         "hoverinfo": "text",
         "marker": {
          "color": "green",
          "size": 0.5
         },
         "mode": "markers",
         "text": "Qlik appears with Microstrategy 17 times",
         "type": "scatter",
         "uid": "ac8dadb6-29a0-4a74-84c2-45bf0fd87cdb",
         "x": [
          -0.624948815269403
         ],
         "y": [
          0.6476410875580467
         ]
        },
        {
         "hoverinfo": "text",
         "marker": {
          "color": "blue",
          "size": 0.5
         },
         "mode": "markers",
         "text": "Microstrategy appears with Qlik 17 times",
         "type": "scatter",
         "uid": "44bfa4f5-4ed2-401f-a709-013a1cd77c06",
         "x": [
          0.857965526121474
         ],
         "y": [
          -0.2718366347406148
         ]
        },
        {
         "hoverinfo": "text",
         "marker": {
          "color": "green",
          "size": 0.5
         },
         "mode": "markers",
         "text": "Qlik appears with MySQL/MariaDB 10 times",
         "type": "scatter",
         "uid": "500f5510-6445-4182-a743-a6ee6ab87872",
         "x": [
          -0.6067912908066259
         ],
         "y": [
          0.6646836310615968
         ]
        },
        {
         "hoverinfo": "text",
         "marker": {
          "color": "blue",
          "size": 0.5
         },
         "mode": "markers",
         "text": "MySQL/MariaDB appears with Qlik 10 times",
         "type": "scatter",
         "uid": "af34fc98-61bd-4fee-b0a6-59b8a2f663eb",
         "x": [
          0.8779985452210664
         ],
         "y": [
          -0.1977841110647949
         ]
        },
        {
         "hoverinfo": "text",
         "marker": {
          "color": "green",
          "size": 0.5
         },
         "mode": "markers",
         "text": "Hadoop appears with SSRS/SSIS 26 times",
         "type": "scatter",
         "uid": "4fe4e588-30ed-407a-9836-d8bbf0d1cdae",
         "x": [
          -0.8990535441741934
         ],
         "y": [
          0.04126408496285638
         ]
        },
        {
         "hoverinfo": "text",
         "marker": {
          "color": "blue",
          "size": 0.5
         },
         "mode": "markers",
         "text": "SSRS/SSIS appears with Hadoop 26 times",
         "type": "scatter",
         "uid": "3d322a5c-9e03-4413-a2f5-2e71cbbb5a02",
         "x": [
          -0.8862387188737052
         ],
         "y": [
          -0.1567830767943209
         ]
        },
        {
         "hoverinfo": "text",
         "marker": {
          "color": "green",
          "size": 0.5
         },
         "mode": "markers",
         "text": "Hadoop appears with SQL Server 20 times",
         "type": "scatter",
         "uid": "bea6c42a-71d5-4d77-bfd2-07c53ad0db53",
         "x": [
          -0.8979833312719712
         ],
         "y": [
          0.06021575174066493
         ]
        },
        {
         "hoverinfo": "text",
         "marker": {
          "color": "blue",
          "size": 0.5
         },
         "mode": "markers",
         "text": "SQL Server appears with Hadoop 20 times",
         "type": "scatter",
         "uid": "f9900005-8dfa-4004-8a16-b43721d6c074",
         "x": [
          -0.47800913739659406
         ],
         "y": [
          -0.7625662361823818
         ]
        },
        {
         "hoverinfo": "text",
         "marker": {
          "color": "green",
          "size": 0.5
         },
         "mode": "markers",
         "text": "Hadoop appears with Power BI 14 times",
         "type": "scatter",
         "uid": "55a288d3-394e-4053-854a-17f1d7d95ed2",
         "x": [
          -0.8969355365385826
         ],
         "y": [
          0.07420676043491638
         ]
        },
        {
         "hoverinfo": "text",
         "marker": {
          "color": "blue",
          "size": 0.5
         },
         "mode": "markers",
         "text": "Power BI appears with Hadoop 14 times",
         "type": "scatter",
         "uid": "365c4764-1f50-4d5f-8837-4599d3a412bc",
         "x": [
          0.021246032107129872
         ],
         "y": [
          -0.8997491906746584
         ]
        },
        {
         "hoverinfo": "text",
         "marker": {
          "color": "green",
          "size": 0.5
         },
         "mode": "markers",
         "text": "Hadoop appears with Spark 75 times",
         "type": "scatter",
         "uid": "deef741d-c1be-4291-93d3-e6c3d7ca3323",
         "x": [
          -0.8976103352706833
         ],
         "y": [
          -0.06554148316334775
         ]
        },
        {
         "hoverinfo": "text",
         "marker": {
          "color": "blue",
          "size": 0.5
         },
         "mode": "markers",
         "text": "Spark appears with Hadoop 75 times",
         "type": "scatter",
         "uid": "f432edd8-b348-4f33-a3ac-882ba61ea527",
         "x": [
          0.6147863659595616
         ],
         "y": [
          -0.6572957661739774
         ]
        },
        {
         "hoverinfo": "text",
         "marker": {
          "color": "green",
          "size": 0.5
         },
         "mode": "markers",
         "text": "Hadoop appears with Postgresql 3 times",
         "type": "scatter",
         "uid": "fa093e71-430e-414e-9eed-8ca40aafb8d4",
         "x": [
          -0.8948676006465776
         ],
         "y": [
          0.09597904621862781
         ]
        },
        {
         "hoverinfo": "text",
         "marker": {
          "color": "blue",
          "size": 0.5
         },
         "mode": "markers",
         "text": "Postgresql appears with Hadoop 3 times",
         "type": "scatter",
         "uid": "3aff6838-3b5b-49dc-85ce-6b18db45c01d",
         "x": [
          0.6578255318994164
         ],
         "y": [
          -0.6142194799753993
         ]
        },
        {
         "hoverinfo": "text",
         "marker": {
          "color": "green",
          "size": 0.5
         },
         "mode": "markers",
         "text": "Hadoop appears with Informatica 4 times",
         "type": "scatter",
         "uid": "7022f749-6287-46e0-a39c-c65e342c5e4e",
         "x": [
          -0.895669768533224
         ],
         "y": [
          0.0881797354024215
         ]
        },
        {
         "hoverinfo": "text",
         "marker": {
          "color": "blue",
          "size": 0.5
         },
         "mode": "markers",
         "text": "Informatica appears with Hadoop 4 times",
         "type": "scatter",
         "uid": "9589a887-7b9b-4683-8954-7a949d606273",
         "x": [
          0.7284869655454403
         ],
         "y": [
          -0.5284947880825283
         ]
        },
        {
         "hoverinfo": "text",
         "marker": {
          "color": "green",
          "size": 0.5
         },
         "mode": "markers",
         "text": "Hadoop appears with Microstrategy 3 times",
         "type": "scatter",
         "uid": "224d5d51-303f-46a3-99cd-7e5e0a8a2ba1",
         "x": [
          -0.8951282567259863
         ],
         "y": [
          0.09351686484638427
         ]
        },
        {
         "hoverinfo": "text",
         "marker": {
          "color": "blue",
          "size": 0.5
         },
         "mode": "markers",
         "text": "Microstrategy appears with Hadoop 3 times",
         "type": "scatter",
         "uid": "00801463-cbfd-4d76-8c03-c2f60efe9fe6",
         "x": [
          0.8471051630095191
         ],
         "y": [
          -0.30399480719679434
         ]
        },
        {
         "hoverinfo": "text",
         "marker": {
          "color": "green",
          "size": 0.5
         },
         "mode": "markers",
         "text": "Hadoop appears with MySQL/MariaDB 3 times",
         "type": "scatter",
         "uid": "a89479c4-a7d0-412f-a18a-7b291c226d59",
         "x": [
          -0.8953821382551637
         ],
         "y": [
          0.09105397571556693
         ]
        },
        {
         "hoverinfo": "text",
         "marker": {
          "color": "blue",
          "size": 0.5
         },
         "mode": "markers",
         "text": "MySQL/MariaDB appears with Hadoop 3 times",
         "type": "scatter",
         "uid": "84c0edc1-9587-43ce-ab93-17ca236c8465",
         "x": [
          0.8758811205122227
         ],
         "y": [
          -0.2069595678635161
         ]
        },
        {
         "hoverinfo": "text",
         "marker": {
          "color": "green",
          "size": 0.5
         },
         "mode": "markers",
         "text": "SSRS/SSIS appears with SQL Server 141 times",
         "type": "scatter",
         "uid": "48316b6a-8678-4105-8a95-07f508bc6b70",
         "x": [
          -0.7582098063803507
         ],
         "y": [
          -0.4848895642398081
         ]
        },
        {
         "hoverinfo": "text",
         "marker": {
          "color": "blue",
          "size": 0.5
         },
         "mode": "markers",
         "text": "SQL Server appears with SSRS/SSIS 141 times",
         "type": "scatter",
         "uid": "7f81e30b-93e9-4133-af75-05be0644f9a8",
         "x": [
          -0.23301762191564385
         ],
         "y": [
          -0.8693116747615771
         ]
        },
        {
         "hoverinfo": "text",
         "marker": {
          "color": "green",
          "size": 0.5
         },
         "mode": "markers",
         "text": "SSRS/SSIS appears with Power BI 78 times",
         "type": "scatter",
         "uid": "a3406a4c-105f-43ae-8c55-f19df76431fe",
         "x": [
          -0.8370170112172082
         ],
         "y": [
          -0.3307605220291747
         ]
        },
        {
         "hoverinfo": "text",
         "marker": {
          "color": "blue",
          "size": 0.5
         },
         "mode": "markers",
         "text": "Power BI appears with SSRS/SSIS 78 times",
         "type": "scatter",
         "uid": "32b9164d-0576-4e1e-9665-642b2d2629b2",
         "x": [
          0.13553675006210586
         ],
         "y": [
          -0.8897357975166573
         ]
        },
        {
         "hoverinfo": "text",
         "marker": {
          "color": "green",
          "size": 0.5
         },
         "mode": "markers",
         "text": "SSRS/SSIS appears with Spark 35 times",
         "type": "scatter",
         "uid": "872cb1d5-d440-4103-b055-943a745baf4b",
         "x": [
          -0.8754190217489316
         ],
         "y": [
          -0.20890556804485505
         ]
        },
        {
         "hoverinfo": "text",
         "marker": {
          "color": "blue",
          "size": 0.5
         },
         "mode": "markers",
         "text": "Spark appears with SSRS/SSIS 35 times",
         "type": "scatter",
         "uid": "4fab92ee-d421-4b83-b0c7-1301b5c455a7",
         "x": [
          0.5440046897807708
         ],
         "y": [
          -0.7169790077097985
         ]
        },
        {
         "hoverinfo": "text",
         "marker": {
          "color": "green",
          "size": 0.5
         },
         "mode": "markers",
         "text": "SSRS/SSIS appears with Postgresql 11 times",
         "type": "scatter",
         "uid": "2f8f70f7-ebdd-482c-b2f5-06a5df42ad21",
         "x": [
          -0.8906520584420118
         ],
         "y": [
          -0.1293789426182148
         ]
        },
        {
         "hoverinfo": "text",
         "marker": {
          "color": "blue",
          "size": 0.5
         },
         "mode": "markers",
         "text": "Postgresql appears with SSRS/SSIS 11 times",
         "type": "scatter",
         "uid": "9f14e65e-069e-45f0-9314-756dbce93cfb",
         "x": [
          0.6687364223474497
         ],
         "y": [
          -0.6023218387423235
         ]
        },
        {
         "hoverinfo": "text",
         "marker": {
          "color": "green",
          "size": 0.5
         },
         "mode": "markers",
         "text": "SSRS/SSIS appears with Informatica 42 times",
         "type": "scatter",
         "uid": "cf9cb5e3-1738-4e49-a2d2-e93d6ea9c1fd",
         "x": [
          -0.8555330554667698
         ],
         "y": [
          -0.2793979080159567
         ]
        },
        {
         "hoverinfo": "text",
         "marker": {
          "color": "blue",
          "size": 0.5
         },
         "mode": "markers",
         "text": "Informatica appears with SSRS/SSIS 42 times",
         "type": "scatter",
         "uid": "51a98763-4a98-41d9-8345-07ac5bd3a3b3",
         "x": [
          0.7763447112744299
         ],
         "y": [
          -0.45528989586440655
         ]
        },
        {
         "hoverinfo": "text",
         "marker": {
          "color": "green",
          "size": 0.5
         },
         "mode": "markers",
         "text": "SSRS/SSIS appears with Microstrategy 12 times",
         "type": "scatter",
         "uid": "7ca2319d-bde2-4166-b941-9fb3d2761c70",
         "x": [
          -0.8890872977450979
         ],
         "y": [
          -0.13972750977642096
         ]
        },
        {
         "hoverinfo": "text",
         "marker": {
          "color": "blue",
          "size": 0.5
         },
         "mode": "markers",
         "text": "Microstrategy appears with SSRS/SSIS 12 times",
         "type": "scatter",
         "uid": "2b04ad7b-83bb-4301-a23a-6d9dd110e93e",
         "x": [
          0.8549410014891035
         ],
         "y": [
          -0.281204345579525
         ]
        },
        {
         "hoverinfo": "text",
         "marker": {
          "color": "green",
          "size": 0.5
         },
         "mode": "markers",
         "text": "SSRS/SSIS appears with MySQL/MariaDB 28 times",
         "type": "scatter",
         "uid": "6c2f8556-4ff0-44ec-8956-abe24bd8fd56",
         "x": [
          -0.8816282469634854
         ],
         "y": [
          -0.18091886069752824
         ]
        },
        {
         "hoverinfo": "text",
         "marker": {
          "color": "blue",
          "size": 0.5
         },
         "mode": "markers",
         "text": "MySQL/MariaDB appears with SSRS/SSIS 28 times",
         "type": "scatter",
         "uid": "80e50b23-2be4-444a-9a03-ef37ff881881",
         "x": [
          0.887887164741487
         ],
         "y": [
          -0.147161077351736
         ]
        },
        {
         "hoverinfo": "text",
         "marker": {
          "color": "green",
          "size": 0.5
         },
         "mode": "markers",
         "text": "SQL Server appears with Power BI 64 times",
         "type": "scatter",
         "uid": "dae47c18-21f9-48ad-a902-dbcf2172ca91",
         "x": [
          -0.3203204358480227
         ],
         "y": [
          -0.8410676657547433
         ]
        },
        {
         "hoverinfo": "text",
         "marker": {
          "color": "blue",
          "size": 0.5
         },
         "mode": "markers",
         "text": "Power BI appears with SQL Server 64 times",
         "type": "scatter",
         "uid": "0c669c81-aafa-4e88-b172-10c2eb845310",
         "x": [
          0.07278678811023903
         ],
         "y": [
          -0.8970518844953146
         ]
        },
        {
         "hoverinfo": "text",
         "marker": {
          "color": "green",
          "size": 0.5
         },
         "mode": "markers",
         "text": "SQL Server appears with Spark 16 times",
         "type": "scatter",
         "uid": "d93a62e2-a154-445d-bcd9-34873c222f80",
         "x": [
          -0.4915906147008979
         ],
         "y": [
          -0.7538823963576768
         ]
        },
        {
         "hoverinfo": "text",
         "marker": {
          "color": "blue",
          "size": 0.5
         },
         "mode": "markers",
         "text": "Spark appears with SQL Server 16 times",
         "type": "scatter",
         "uid": "a34789f1-5117-476d-80a2-8b2b992ff95c",
         "x": [
          0.48070712001627824
         ],
         "y": [
          -0.7608683623108898
         ]
        },
        {
         "hoverinfo": "text",
         "marker": {
          "color": "green",
          "size": 0.5
         },
         "mode": "markers",
         "text": "SQL Server appears with Postgresql 26 times",
         "type": "scatter",
         "uid": "2b4a6156-3e42-40c2-a938-b4dbe64ed0ed",
         "x": [
          -0.4418345696426977
         ],
         "y": [
          -0.7840804888968046
         ]
        },
        {
         "hoverinfo": "text",
         "marker": {
          "color": "blue",
          "size": 0.5
         },
         "mode": "markers",
         "text": "Postgresql appears with SQL Server 26 times",
         "type": "scatter",
         "uid": "87432cbd-0d07-4b3e-a314-a5695a542769",
         "x": [
          0.6887811764759523
         ],
         "y": [
          -0.5792930958784189
         ]
        },
        {
         "hoverinfo": "text",
         "marker": {
          "color": "green",
          "size": 0.5
         },
         "mode": "markers",
         "text": "SQL Server appears with Informatica 31 times",
         "type": "scatter",
         "uid": "79a2c1f3-1763-47a3-8a04-a0bf79a997f2",
         "x": [
          -0.41942315936865804
         ],
         "y": [
          -0.7962940495729033
         ]
        },
        {
         "hoverinfo": "text",
         "marker": {
          "color": "blue",
          "size": 0.5
         },
         "mode": "markers",
         "text": "Informatica appears with SQL Server 31 times",
         "type": "scatter",
         "uid": "176d1f90-bec8-49ee-b865-ac796a2de9b2",
         "x": [
          0.7442040946699504
         ],
         "y": [
          -0.5061227770773407
         ]
        },
        {
         "hoverinfo": "text",
         "marker": {
          "color": "green",
          "size": 0.5
         },
         "mode": "markers",
         "text": "SQL Server appears with Microstrategy 10 times",
         "type": "scatter",
         "uid": "0767ff98-760a-47f1-acc8-071303959c4a",
         "x": [
          -0.501301624535399
         ],
         "y": [
          -0.7474601536123313
         ]
        },
        {
         "hoverinfo": "text",
         "marker": {
          "color": "blue",
          "size": 0.5
         },
         "mode": "markers",
         "text": "Microstrategy appears with SQL Server 10 times",
         "type": "scatter",
         "uid": "fa78036f-782a-42d9-b859-fda5a3c6dd77",
         "x": [
          0.8525782886960754
         ],
         "y": [
          -0.28828850418299984
         ]
        },
        {
         "hoverinfo": "text",
         "marker": {
          "color": "green",
          "size": 0.5
         },
         "mode": "markers",
         "text": "SQL Server appears with MySQL/MariaDB 33 times",
         "type": "scatter",
         "uid": "7c8aeb41-e496-4401-b0d1-8dd7334f3a9a",
         "x": [
          -0.3938583576356691
         ],
         "y": [
          -0.8092438409531044
         ]
        },
        {
         "hoverinfo": "text",
         "marker": {
          "color": "blue",
          "size": 0.5
         },
         "mode": "markers",
         "text": "MySQL/MariaDB appears with SQL Server 33 times",
         "type": "scatter",
         "uid": "55003fbc-70ff-4287-b88a-27daf1401f26",
         "x": [
          0.891628462978934
         ],
         "y": [
          -0.12246911449758978
         ]
        },
        {
         "hoverinfo": "text",
         "marker": {
          "color": "green",
          "size": 0.5
         },
         "mode": "markers",
         "text": "Power BI appears with Spark 19 times",
         "type": "scatter",
         "uid": "3a873739-4dfc-4f0d-866a-f3b44e4f367b",
         "x": [
          0.03592299455837602
         ],
         "y": [
          -0.899282791151904
         ]
        },
        {
         "hoverinfo": "text",
         "marker": {
          "color": "blue",
          "size": 0.5
         },
         "mode": "markers",
         "text": "Spark appears with Power BI 19 times",
         "type": "scatter",
         "uid": "755b1353-2e59-4c8b-b597-94cbf3991bcf",
         "x": [
          0.5057092942476178
         ],
         "y": [
          -0.7444851306181852
         ]
        },
        {
         "hoverinfo": "text",
         "marker": {
          "color": "green",
          "size": 0.5
         },
         "mode": "markers",
         "text": "Power BI appears with Informatica 5 times",
         "type": "scatter",
         "uid": "6f43523d-7446-4833-92f3-677e5e4b408c",
         "x": [
          0.00033366959631082513
         ],
         "y": [
          -0.8999999381469982
         ]
        },
        {
         "hoverinfo": "text",
         "marker": {
          "color": "blue",
          "size": 0.5
         },
         "mode": "markers",
         "text": "Informatica appears with Power BI 5 times",
         "type": "scatter",
         "uid": "c37368b1-0eb6-4f60-906f-34df7d9d7155",
         "x": [
          0.7326631228748715
         ],
         "y": [
          -0.522689916087197
         ]
        },
        {
         "hoverinfo": "text",
         "marker": {
          "color": "green",
          "size": 0.5
         },
         "mode": "markers",
         "text": "Power BI appears with Microstrategy 9 times",
         "type": "scatter",
         "uid": "0cf5794d-9ec4-45c7-bf4a-e69ec49abba5",
         "x": [
          0.011013055838793714
         ],
         "y": [
          -0.8999326155891293
         ]
        },
        {
         "hoverinfo": "text",
         "marker": {
          "color": "blue",
          "size": 0.5
         },
         "mode": "markers",
         "text": "Microstrategy appears with Power BI 9 times",
         "type": "scatter",
         "uid": "47c7b938-a718-4bac-a2aa-1fdef9a5e0cf",
         "x": [
          0.8504905196614179
         ],
         "y": [
          -0.2943906859363105
         ]
        },
        {
         "hoverinfo": "text",
         "marker": {
          "color": "green",
          "size": 0.5
         },
         "mode": "markers",
         "text": "Power BI appears with MySQL/MariaDB 5 times",
         "type": "scatter",
         "uid": "30c898f3-c0c9-44a7-8b09-4521a202f17e",
         "x": [
          0.004783505872719635
         ],
         "y": [
          -0.8999872877277576
         ]
        },
        {
         "hoverinfo": "text",
         "marker": {
          "color": "blue",
          "size": 0.5
         },
         "mode": "markers",
         "text": "MySQL/MariaDB appears with Power BI 5 times",
         "type": "scatter",
         "uid": "995f3a0b-c6a8-4142-8aba-ff9ffb0fdcf6",
         "x": [
          0.8766285034815255
         ],
         "y": [
          -0.20377062321085668
         ]
        },
        {
         "hoverinfo": "text",
         "marker": {
          "color": "green",
          "size": 0.5
         },
         "mode": "markers",
         "text": "Spark appears with Postgresql 5 times",
         "type": "scatter",
         "uid": "0c31b8fa-5a5d-49f0-806c-b95ce1bc54f4",
         "x": [
          0.46314114853332
         ],
         "y": [
          -0.7716866440047004
         ]
        },
        {
         "hoverinfo": "text",
         "marker": {
          "color": "blue",
          "size": 0.5
         },
         "mode": "markers",
         "text": "Postgresql appears with Spark 5 times",
         "type": "scatter",
         "uid": "94d8d47b-8146-46c0-b1bb-ee7df05d00f1",
         "x": [
          0.6621204112131807
         ],
         "y": [
          -0.6095872054553708
         ]
        },
        {
         "hoverinfo": "text",
         "marker": {
          "color": "green",
          "size": 0.5
         },
         "mode": "markers",
         "text": "Spark appears with Informatica 4 times",
         "type": "scatter",
         "uid": "38b87a4e-be85-40af-8c6e-c7cb62c5053c",
         "x": [
          0.4598880173872139
         ],
         "y": [
          -0.7736297638170714
         ]
        },
        {
         "hoverinfo": "text",
         "marker": {
          "color": "blue",
          "size": 0.5
         },
         "mode": "markers",
         "text": "Informatica appears with Spark 4 times",
         "type": "scatter",
         "uid": "1b1d871b-97af-4edd-8b93-e467bf0e5f7c",
         "x": [
          0.7304579611728886
         ],
         "y": [
          -0.5257672174633437
         ]
        },
        {
         "hoverinfo": "text",
         "marker": {
          "color": "green",
          "size": 0.5
         },
         "mode": "markers",
         "text": "Spark appears with Microstrategy 3 times",
         "type": "scatter",
         "uid": "65244e54-2bd1-4ce2-9f2a-9e0fa6d02a9b",
         "x": [
          0.457352165178985
         ],
         "y": [
          -0.7751315997984435
         ]
        },
        {
         "hoverinfo": "text",
         "marker": {
          "color": "blue",
          "size": 0.5
         },
         "mode": "markers",
         "text": "Microstrategy appears with Spark 3 times",
         "type": "scatter",
         "uid": "9f0597bd-b5a2-4723-ad4c-2ca0e5c30daa",
         "x": [
          0.8477909244214185
         ],
         "y": [
          -0.30207705717031336
         ]
        },
        {
         "hoverinfo": "text",
         "marker": {
          "color": "green",
          "size": 0.5
         },
         "mode": "markers",
         "text": "Spark appears with MySQL/MariaDB 18 times",
         "type": "scatter",
         "uid": "667220e2-3b14-4b80-8826-e55cd3e79241",
         "x": [
          0.4927478684238664
         ],
         "y": [
          -0.7531265087378987
         ]
        },
        {
         "hoverinfo": "text",
         "marker": {
          "color": "blue",
          "size": 0.5
         },
         "mode": "markers",
         "text": "MySQL/MariaDB appears with Spark 18 times",
         "type": "scatter",
         "uid": "263a68f9-d5f0-4a4f-a4d0-625dbc2bec46",
         "x": [
          0.8804465278571529
         ],
         "y": [
          -0.18658486429580454
         ]
        },
        {
         "hoverinfo": "text",
         "marker": {
          "color": "green",
          "size": 0.5
         },
         "mode": "markers",
         "text": "Postgresql appears with MySQL/MariaDB 35 times",
         "type": "scatter",
         "uid": "56e2c195-f4c3-43f2-8265-5b40f106e6b1",
         "x": [
          0.7023641748090956
         ],
         "y": [
          -0.5627473375723231
         ]
        },
        {
         "hoverinfo": "text",
         "marker": {
          "color": "blue",
          "size": 0.5
         },
         "mode": "markers",
         "text": "MySQL/MariaDB appears with Postgresql 35 times",
         "type": "scatter",
         "uid": "69fc8fb7-2e0d-4ce7-a52f-7f4d4f591f20",
         "x": [
          0.8949897400414979
         ],
         "y": [
          -0.09483335499945146
         ]
        },
        {
         "hoverinfo": "text",
         "marker": {
          "color": "green",
          "size": 0.5
         },
         "mode": "markers",
         "text": "Informatica appears with Microstrategy 6 times",
         "type": "scatter",
         "uid": "4c0c143e-faaa-4238-8818-911399dddb25",
         "x": [
          0.7353407110542232
         ],
         "y": [
          -0.518916215458979
         ]
        },
        {
         "hoverinfo": "text",
         "marker": {
          "color": "blue",
          "size": 0.5
         },
         "mode": "markers",
         "text": "Microstrategy appears with Informatica 6 times",
         "type": "scatter",
         "uid": "1b608fa4-d198-4d81-beb7-2d7843d40c43",
         "x": [
          0.8488114250185653
         ],
         "y": [
          -0.2991975346789348
         ]
        },
        {
         "hoverinfo": "text",
         "marker": {
          "color": "green",
          "size": 0.5
         },
         "mode": "markers",
         "text": "Informatica appears with MySQL/MariaDB 1 times",
         "type": "scatter",
         "uid": "5594a89e-73af-4714-924f-d188ddeb1662",
         "x": [
          0.7272499195310316
         ],
         "y": [
          -0.5301957700152917
         ]
        },
        {
         "hoverinfo": "text",
         "marker": {
          "color": "blue",
          "size": 0.5
         },
         "mode": "markers",
         "text": "MySQL/MariaDB appears with Informatica 1 times",
         "type": "scatter",
         "uid": "9a01819f-a9af-4cd6-88d0-ca439de03c3c",
         "x": [
          0.8755030782138973
         ],
         "y": [
          -0.20855301493383038
         ]
        }
       ],
       "layout": {
        "font": {
         "color": "#655643",
         "family": "Fira Sans Condensed",
         "size": 12
        },
        "height": 760,
        "hoverdistance": 10,
        "hovermode": "closest",
        "paper_bgcolor": "#fffaf0",
        "plot_bgcolor": "#fffaf0",
        "shapes": [
         {
          "fillcolor": "rgba(207,86,188,0.25)",
          "layer": "below",
          "line": {
           "color": "rgb(175,175,175)",
           "width": 0.5
          },
          "path": "M 0.6591543903904595,0.752007639342169 Q 0.003032838003584651, 0.1999770034120024 -0.6360466907410981, 0.7716505732501583L -0.6360466907410981, 0.7716505732501583 L -0.5336554690030949, 0.8457019808437762 L -0.4227430644705347, 0.9062495801058675 M -0.4227430644705347,0.9062495801058675 Q 0.0026247541208278893, 0.19998277592284092 0.4463822182264746, 0.8948423968784738L 0.4463822182264746, 0.8948423968784738 L 0.557362754620518, 0.8302690887669059 L 0.6591543903904595, 0.752007639342169 ",
          "type": "path"
         },
         {
          "fillcolor": "rgba(207,86,188,0.25)",
          "layer": "below",
          "line": {
           "color": "rgb(175,175,175)",
           "width": 0.5
          },
          "path": "M 0.8210833931747102,0.5708082527895898 Q -0.04635966231236144, 0.19455277358671558 -0.990266443905631, 0.1391846617788606L -0.990266443905631, 0.1391846617788606 L -0.9666791245850319, 0.25599115236960124 L -0.9293648477462287, 0.3691625384212611 M -0.9293648477462287,0.3691625384212611 Q -0.046859797541555184, 0.19443291741463034 0.6591543903904595, 0.752007639342169L 0.6591543903904595, 0.752007639342169 L 0.7456435330606974, 0.6663450469574759 L 0.8210833931747102, 0.5708082527895898 ",
          "type": "path"
         },
         {
          "fillcolor": "rgba(207,86,188,0.25)",
          "layer": "below",
          "line": {
           "color": "rgb(175,175,175)",
           "width": 0.5
          },
          "path": "M 0.9987830645971619,0.04931926473399139 Q -0.008781137002480385, 0.19980713609114084 -0.999258953976774, -0.03849081575185842L -0.999258953976774, -0.03849081575185842 L -0.9998787129315798, -0.015574319448613705 L -0.9999729857248141, 0.007350361936721317 M -0.9999729857248141,0.007350361936721317 Q -0.009335000845151426, 0.19978202561597233 0.9949305828637117, 0.10056408545039783L 0.9949305828637117, 0.10056408545039783 L 0.9971860583313925, 0.0749664262820411 L 0.9987830645971619, 0.04931926473399139 ",
          "type": "path"
         },
         {
          "fillcolor": "rgba(207,86,188,0.25)",
          "layer": "below",
          "line": {
           "color": "rgb(175,175,175)",
           "width": 0.5
          },
          "path": "M 0.4463822182264746,0.8948423968784738 Q -0.17103162300822586, 0.10367344853515828 -0.5868498224492574, -0.8096957983658276L -0.5868498224492574, -0.8096957983658276 L -0.7024597360657192, -0.7117234850744214 L -0.8019382053378813, -0.5974069926101118 M -0.8019382053378813,-0.5974069926101118 Q -0.17129030863150646, 0.10324548498081293 0.15373569820892483, 0.9881120053395842L 0.15373569820892483, 0.9881120053395842 L 0.30366129712611295, 0.9527800463001346 L 0.4463822182264746, 0.8948423968784738 ",
          "type": "path"
         },
         {
          "fillcolor": "rgba(207,86,188,0.25)",
          "layer": "below",
          "line": {
           "color": "rgb(175,175,175)",
           "width": 0.5
          },
          "path": "M 0.9030176785101331,0.42960338953291544 Q -0.16727827294616324, 0.10962654514372383 -0.03351105103359803, -0.9994383470022669L -0.03351105103359803, -0.9994383470022669 L -0.11238953457838173, -0.9936642252377081 L -0.19056500409111868, -0.9816745790819644 M -0.19056500409111868,-0.9816745790819644 Q -0.16756361127131653, 0.10918990877235467 0.8210833931747102, 0.5708082527895898L 0.8210833931747102, 0.5708082527895898 L 0.8649368934772296, 0.5018806335195248 L 0.9030176785101331, 0.42960338953291544 ",
          "type": "path"
         },
         {
          "fillcolor": "rgba(207,86,188,0.25)",
          "layer": "below",
          "line": {
           "color": "rgb(175,175,175)",
           "width": 0.5
          },
          "path": "M 0.9540692387729698,0.29958619398624836 Q -0.1854983554883717, 0.07476871077603038 0.47963457818971184, -0.8774683307132954L 0.47963457818971184, -0.8774683307132954 L 0.4195921018859188, -0.9077127673636395 L 0.3576531427484062, -0.9338545012378471 M 0.3576531427484062,-0.9338545012378471 Q -0.18569621265598654, 0.07427594903616264 0.9030176785101331, 0.42960338953291544L 0.9030176785101331, 0.42960338953291544 L 0.9308163472836463, 0.3654872468767281 L 0.9540692387729698, 0.29958619398624836 ",
          "type": "path"
         },
         {
          "fillcolor": "rgba(207,86,188,0.25)",
          "layer": "below",
          "line": {
           "color": "rgb(175,175,175)",
           "width": 0.5
          },
          "path": "M 0.9949305828637117,0.10056408545039783 Q -0.18598575517148963, 0.07354793588735663 0.6570565943007406, -0.7538412511171778L 0.6570565943007406, -0.7538412511171778 L 0.6374451927452522, -0.7704957016401638 L 0.617411816627788, -0.7866401011189136 M 0.617411816627788,-0.7866401011189136 Q -0.18617179558459865, 0.07307573146268476 0.987658706060367, 0.15662145556456075L 0.987658706060367, 0.15662145556456075 L 0.9916908184132542, 0.12864416300341802 L 0.9949305828637117, 0.10056408545039783 ",
          "type": "path"
         },
         {
          "fillcolor": "rgba(207,86,188,0.25)",
          "layer": "below",
          "line": {
           "color": "rgb(175,175,175)",
           "width": 0.5
          },
          "path": "M 0.9997205471141453,0.02363953632781432 Q -0.1883578487812036, 0.06724076741469602 0.7587475597362222, -0.6513847868919935L 0.7587475597362222, -0.6513847868919935 L 0.7523616410861601, -0.6587503024835283 L 0.74590422492481, -0.6660532165220122 M 0.74590422492481,-0.6660532165220122 Q -0.1885654137204884, 0.06665646816642058 0.9987830645971619, 0.04931926473399139L 0.9987830645971619, 0.04931926473399139 L 0.9993342952278474, 0.03648241194687445 L 0.9997205471141453, 0.02363953632781432 ",
          "type": "path"
         },
         {
          "fillcolor": "rgba(207,86,188,0.25)",
          "layer": "below",
          "line": {
           "color": "rgb(175,175,175)",
           "width": 0.5
          },
          "path": "M 0.975226279080348,0.22120963946243238 Q -0.1994070734217968, 0.015388926842185567 0.9297378019136083, -0.3682222422571075L 0.9297378019136083, -0.3682222422571075 L 0.9155111038033952, -0.4022927029075833 L 0.900036385325246, -0.4358147600651742 M 0.900036385325246,-0.4358147600651742 Q -0.19946233299879898, 0.014655296471795915 0.9540692387729698, 0.29958619398624836L 0.9540692387729698, 0.29958619398624836 L 0.9654434317333054, 0.26061270138467635 L 0.975226279080348, 0.22120963946243238 ",
          "type": "path"
         },
         {
          "fillcolor": "rgba(207,86,188,0.25)",
          "layer": "below",
          "line": {
           "color": "rgb(175,175,175)",
           "width": 0.5
          },
          "path": "M 1.0,0.0 Q -0.19800010596725512, 0.028212728279196016 0.9602020981522127, -0.2793061594453093L 0.9602020981522127, -0.2793061594453093 L 0.95774309892503, -0.287625027529734 L 0.9552120292965334, -0.29592225176082765 M 0.9552120292965334,-0.29592225176082765 Q -0.19808788743176864, 0.027589651190599692 0.9997205471141453, 0.02363953632781432L 0.9997205471141453, 0.02363953632781432 L 0.999930134337931, 0.011820594017534245 L 1.0, 0.0 ",
          "type": "path"
         },
         {
          "fillcolor": "rgba(207,86,188,0.25)",
          "layer": "below",
          "line": {
           "color": "rgb(175,175,175)",
           "width": 0.5
          },
          "path": "M 0.987658706060367,0.15662145556456075 Q -0.1996041560146918, -0.01257699891319794 0.9995065603657315, -0.03141075907813014L 0.9995065603657315, -0.03141075907813014 L 0.9981686062449207, -0.06049325174821285 L 0.995984622878443, -0.08952447145716941 M 0.995984622878443,-0.08952447145716941 Q -0.19955520809265256, -0.01333112610015156 0.975226279080348, 0.22120963946243238L 0.975226279080348, 0.22120963946243238 L 0.9819736628838487, 0.1890177912326709 L 0.987658706060367, 0.15662145556456075 ",
          "type": "path"
         },
         {
          "fillcolor": "rgba(95,194,80,0.25)",
          "layer": "below",
          "line": {
           "color": "rgb(175,175,175)",
           "width": 0.5
          },
          "path": "M -0.2369376900574375,0.9715248483853852 Q -0.13126697841241675, 0.15089393751398406 -0.9293648477462287, 0.3691625384212611L -0.9293648477462287, 0.3691625384212611 L -0.8887375981614619, 0.4584162754682645 L -0.8395635341892113, 0.5432615135086611 M -0.8395635341892113,0.5432615135086611 Q -0.13134604240371744, 0.15082512106701873 -0.4227430644705347, 0.9062495801058675L -0.4227430644705347, 0.9062495801058675 L -0.331451187410589, 0.9434723686277784 L -0.2369376900574375, 0.9715248483853852 ",
          "type": "path"
         },
         {
          "fillcolor": "rgba(95,194,80,0.25)",
          "layer": "below",
          "line": {
           "color": "rgb(175,175,175)",
           "width": 0.5
          },
          "path": "M 0.06825363995307487,0.9976680012073936 Q -0.13597168697695694, 0.14666867538994288 -0.9999729857248141, 0.007350361936721317L -0.9999729857248141, 0.007350361936721317 L -0.999786855233912, 0.02064567997147832 L -0.9994239623008264, 0.033937347847411224 M -0.9994239623008264,0.033937347847411224 Q -0.13617266285007387, 0.14648210092813427 0.03896115761512306, 0.9992407258500273L 0.03896115761512306, 0.9992407258500273 L 0.053613166014495006, 0.9985617799765332 L 0.06825363995307487, 0.9976680012073936 ",
          "type": "path"
         },
         {
          "fillcolor": "rgba(95,194,80,0.25)",
          "layer": "below",
          "line": {
           "color": "rgb(175,175,175)",
           "width": 0.5
          },
          "path": "M -0.06719386432637406,0.9977399383591342 Q -0.17523424610134072, 0.09639999477849964 -0.8786924798463505, -0.4773882338950878L -0.8786924798463505, -0.4773882338950878 L -0.897501597609143, -0.4410112042670072 L -0.9148055412946011, -0.4038945674513237 M -0.9148055412946011,-0.4038945674513237 Q -0.1752355893172689, 0.09639755306349573 -0.14862950774728673, 0.9888929514496497L -0.14862950774728673, 0.9888929514496497 L -0.1080023114458927, 0.9941506428717654 L -0.06719386432637406, 0.9977399383591342 ",
          "type": "path"
         },
         {
          "fillcolor": "rgba(95,194,80,0.25)",
          "layer": "below",
          "line": {
           "color": "rgb(175,175,175)",
           "width": 0.5
          },
          "path": "M -0.02576703453856298,0.9996679748451925 Q -0.19658793885582881, 0.036785626220263185 -0.3854841278694873, -0.9227144667559412L -0.3854841278694873, -0.9227144667559412 L -0.4042255109690516, -0.9146593553240513 L -0.4227986860267228, -0.9062236319441668 M -0.4227986860267228,-0.9062236319441668 Q -0.196600355453484, 0.03671920799205434 -0.06719386432637406, 0.9977399383591342L -0.06719386432637406, 0.9977399383591342 L -0.046490445369098764, 0.9989187346773424 L -0.02576703453856298, 0.9996679748451925 ",
          "type": "path"
         },
         {
          "fillcolor": "rgba(95,194,80,0.25)",
          "layer": "below",
          "line": {
           "color": "rgb(175,175,175)",
           "width": 0.5
          },
          "path": "M -0.14862950774728673,0.9888929514496497 Q -0.19546059886075395, -0.0423692611806653 0.2741880324988808, -0.9616761007919417L 0.2741880324988808, -0.9616761007919417 L 0.23161851872992636, -0.9728066929155836 L 0.18860057909776962, -0.9820538791553068 M 0.18860057909776962,-0.9820538791553068 Q -0.19541766350551418, -0.04256685083542865 -0.2369376900574375, 0.9715248483853852L -0.2369376900574375, 0.9715248483853852 L -0.19297908891058535, 0.9812028695653312 L -0.14862950774728673, 0.9888929514496497 ",
          "type": "path"
         },
         {
          "fillcolor": "rgba(95,194,80,0.25)",
          "layer": "below",
          "line": {
           "color": "rgb(175,175,175)",
           "width": 0.5
          },
          "path": "M 0.03896115761512306,0.9992407258500273 Q -0.1912516372196853, -0.05850479690409917 0.5913254516503822, -0.8064330165800948L 0.5913254516503822, -0.8064330165800948 L 0.5803308678599762, -0.8143807977898833 L 0.5692294752766176, -0.8221786937620718 M 0.5692294752766176,-0.8221786937620718 Q -0.19118708844301116, -0.05871539161654491 0.009635148305547677, 0.9999535808811978L 0.009635148305547677, 0.9999535808811978 L 0.02430076702200407, 0.9997046927578875 L 0.03896115761512306, 0.9992407258500273 ",
          "type": "path"
         },
         {
          "fillcolor": "rgba(95,194,80,0.25)",
          "layer": "below",
          "line": {
           "color": "rgb(175,175,175)",
           "width": 0.5
          },
          "path": "M 0.12262249078029867,0.9924533866912015 Q -0.18781266559010823, -0.06874883740062936 0.7343673912425713, -0.6787521894473566L 0.7343673912425713, -0.6787521894473566 L 0.7330426451713472, -0.6801826816085472 L 0.7317151126144551, -0.6816105882185335 M 0.7317151126144551,-0.6816105882185335 Q -0.18777281067313156, -0.06885761811094174 0.11760123016122291, 0.9930608997763264L 0.11760123016122291, 0.9930608997763264 L 0.12011224456226198, 0.9927603178543225 L 0.12262249078029867, 0.9924533866912015 ",
          "type": "path"
         },
         {
          "fillcolor": "rgba(95,194,80,0.25)",
          "layer": "below",
          "line": {
           "color": "rgb(175,175,175)",
           "width": 0.5
          },
          "path": "M 0.009635148305547677,0.9999535808811978 Q -0.1749801163576795, -0.09686051248807717 0.8525091702251565, -0.5227122675832423L 0.8525091702251565, -0.5227122675832423 L 0.8438446758178206, -0.5365875167145777 L 0.8349543719491034, -0.5503191771718284 M 0.8349543719491034,-0.5503191771718284 Q -0.1748497731895411, -0.09709560657190441 -0.02576703453856298, 0.9996679748451925L -0.02576703453856298, 0.9996679748451925 L -0.008067207141302856, 0.9999674595550294 L 0.009635148305547677, 0.9999535808811978 ",
          "type": "path"
         },
         {
          "fillcolor": "rgba(95,194,80,0.25)",
          "layer": "below",
          "line": {
           "color": "rgb(175,175,175)",
           "width": 0.5
          },
          "path": "M 0.11760123016122291,0.9930608997763264 Q -0.16578646177883247, -0.11186978631809273 0.9649031506787145, -0.26260599728545825L 0.9649031506787145, -0.26260599728545825 L 0.9625888419377912, -0.27096627350440167 L 0.9602020981522127, -0.2793061594453093 M 0.9602020981522127,-0.2793061594453093 Q -0.1654547795201481, -0.11235976118673084 0.09446666927485098, 0.9955280249174887L 0.09446666927485098, 0.9955280249174887 L 0.10604112489700752, 0.9943617449553142 L 0.11760123016122291, 0.9930608997763264 ",
          "type": "path"
         },
         {
          "fillcolor": "rgba(95,194,80,0.25)",
          "layer": "below",
          "line": {
           "color": "rgb(175,175,175)",
           "width": 0.5
          },
          "path": "M 0.09446666927485098,0.9955280249174887 Q -0.1592650859904011, -0.12097368467757832 0.9843785837174812, -0.17606477194023198L 0.9843785837174812, -0.17606477194023198 L 0.9822273415624155, -0.18769509713157123 L 0.9799386933586719, -0.1992991652227844 M 0.9799386933586719,-0.1992991652227844 Q -0.1591049202609842, -0.12118425784212186 0.06825363995307487, 0.9976680012073936L 0.06825363995307487, 0.9976680012073936 L 0.08136719015326946, 0.9966841928949017 L 0.09446666927485098, 0.9955280249174887 ",
          "type": "path"
         },
         {
          "fillcolor": "rgba(134,93,213,0.25)",
          "layer": "below",
          "line": {
           "color": "rgb(175,175,175)",
           "width": 0.5
          },
          "path": "M -0.6644946165202084,0.7472930513631592 Q -0.17863211421282366, 0.08994758346868875 -0.9960452441802042, 0.0888474622372378L -0.9960452441802042, 0.0888474622372378 L -0.9957126463356258, 0.09250041041695403 L -0.9953666515241679, 0.09615211403586367 M -0.9953666515241679,0.09615211403586367 Q -0.17866419121892424, 0.08988385158685445 -0.6704884418408549, 0.741919975036272L -0.6704884418408549, 0.741919975036272 L -0.6674969355847772, 0.7446125442033138 L -0.6644946165202084, 0.7472930513631592 ",
          "type": "path"
         },
         {
          "fillcolor": "rgba(134,93,213,0.25)",
          "layer": "below",
          "line": {
           "color": "rgb(175,175,175)",
           "width": 0.5
          },
          "path": "M -0.7175441974932582,0.6965129752156496 Q -0.1943598332785625, 0.04716201021934282 -0.9569699688230741, -0.29018697209000377L -0.9569699688230741, -0.29018697209000377 L -0.9629161121264287, -0.26980096554186583 L -0.968428032373187, -0.2492932933590425 M -0.968428032373187,-0.2492932933590425 Q -0.19435484924732932, 0.04718254522647012 -0.7463297423808957, 0.6655763785153932L -0.7463297423808957, 0.6655763785153932 L -0.7321004003649486, 0.6811967438159713 L -0.7175441974932582, 0.6965129752156496 ",
          "type": "path"
         },
         {
          "fillcolor": "rgba(134,93,213,0.25)",
          "layer": "below",
          "line": {
           "color": "rgb(175,175,175)",
           "width": 0.5
          },
          "path": "M -0.7005166426531806,0.7136360650681243 Q -0.1984391454755698, -0.024938034062966106 -0.50215597997585, -0.8647770647828801L -0.50215597997585, -0.8647770647828801 L -0.5124463727684686, -0.8587192294553789 L -0.5226636960620209, -0.8525389497370707 M -0.5226636960620209,-0.8525389497370707 Q -0.1984358204920813, -0.024964477675979802 -0.7175441974932582, 0.6965129752156496L -0.7175441974932582, 0.6965129752156496 L -0.7090821085323828, 0.7051259202151556 L -0.7005166426531806, 0.7136360650681243 ",
          "type": "path"
         },
         {
          "fillcolor": "rgba(134,93,213,0.25)",
          "layer": "below",
          "line": {
           "color": "rgb(175,175,175)",
           "width": 0.5
          },
          "path": "M -0.7876142085792556,0.6161686931710121 Q -0.16085516533005226, -0.11885123384568441 0.3576531427484062, -0.9338545012378471L 0.3576531427484062, -0.9338545012378471 L 0.3162267035449498, -0.9486836522071488 L 0.2741880324988808, -0.9616761007919417 M 0.2741880324988808,-0.9616761007919417 Q -0.16076338764931467, -0.1189753469905265 -0.8395635341892113, 0.5432615135086611L -0.8395635341892113, 0.5432615135086611 L -0.8144051300500571, 0.5802967207801105 L -0.7876142085792556, 0.6161686931710121 ",
          "type": "path"
         },
         {
          "fillcolor": "rgba(134,93,213,0.25)",
          "layer": "below",
          "line": {
           "color": "rgb(175,175,175)",
           "width": 0.5
          },
          "path": "M -0.6779195838614449,0.7351360675528887 Q -0.15916171368079088, -0.12110965650266683 0.527776242807284, -0.8493834455228256L 0.527776242807284, -0.8493834455228256 L 0.5222020431796431, -0.852821802077671 L 0.5166054442189796, -0.8562235776964512 M 0.5166054442189796,-0.8562235776964512 Q -0.159101860369656, -0.1211882751214592 -0.6882077090252918, 0.725513714024869L -0.6882077090252918, 0.725513714024869 L -0.6830805900582784, 0.7303430067342566 L -0.6779195838614449, 0.7351360675528887 ",
          "type": "path"
         },
         {
          "fillcolor": "rgba(134,93,213,0.25)",
          "layer": "below",
          "line": {
           "color": "rgb(175,175,175)",
           "width": 0.5
          },
          "path": "M -0.6599709703435017,0.7512911009082011 Q -0.14259751990282885, -0.1402353283504636 0.7401630431101227, -0.6724274456132517L 0.7401630431101227, -0.6724274456132517 L 0.7385877948989255, -0.6741573030282642 L 0.7370085037958094, -0.6758834702318606 M 0.7370085037958094,-0.6758834702318606 Q -0.1425022692965666, -0.1403321176542591 -0.6644946165202084, 0.7472930513631592L -0.6644946165202084, 0.7472930513631592 L -0.6622358105664472, 0.749295489912625 L -0.6599709703435017, 0.7512911009082011 ",
          "type": "path"
         },
         {
          "fillcolor": "rgba(134,93,213,0.25)",
          "layer": "below",
          "line": {
           "color": "rgb(175,175,175)",
           "width": 0.5
          },
          "path": "M -0.7463297423808957,0.6655763785153932 Q -0.11120648237531038, -0.16623212167842227 0.900036385325246, -0.4358147600651742L 0.900036385325246, -0.4358147600651742 L 0.8865992697746887, -0.4625383603929394 L 0.8723689077498616, -0.488848124463328 M 0.8723689077498616,-0.488848124463328 Q -0.1108262390540356, -0.16648586948188052 -0.7876142085792556, 0.6161686931710121L -0.7876142085792556, 0.6161686931710121 L -0.7673697225031633, 0.6412048884603253 L -0.7463297423808957, 0.6655763785153932 ",
          "type": "path"
         },
         {
          "fillcolor": "rgba(134,93,213,0.25)",
          "layer": "below",
          "line": {
           "color": "rgb(175,175,175)",
           "width": 0.5
          },
          "path": "M -0.6882077090252918,0.725513714024869 Q -0.10557569508386228, -0.16986398266718977 0.9552120292965334, -0.29592225176082765L 0.9552120292965334, -0.29592225176082765 L 0.95329502902386, -0.3020407052673498 L 0.951338838446157, -0.30814674177072976 M 0.951338838446157,-0.30814674177072976 Q -0.1052117806262159, -0.1700896270131163 -0.7005166426531806, 0.7136360650681243L -0.7005166426531806, 0.7136360650681243 L -0.6943875725215589, 0.7196012083978297 L -0.6882077090252918, 0.725513714024869 ",
          "type": "path"
         },
         {
          "fillcolor": "rgba(134,93,213,0.25)",
          "layer": "below",
          "line": {
           "color": "rgb(175,175,175)",
           "width": 0.5
          },
          "path": "M -0.6704884418408549,0.741919975036272 Q -0.10049766347436664, -0.17291679975118945 0.976543553661656, -0.2153199661012987L 0.976543553661656, -0.2153199661012987 L 0.9755539391345182, -0.21976012340532766 L 0.9745441361685271, -0.22419573292000763 M 0.9745441361685271,-0.22419573292000763 Q -0.10041432310332754, -0.1729652095529634 -0.6779195838614449, 0.7351360675528887L -0.6779195838614449, 0.7351360675528887 L -0.6742125453406954, 0.7385373678462186 L -0.6704884418408549, 0.741919975036272 ",
          "type": "path"
         },
         {
          "fillcolor": "rgba(157,185,53,0.25)",
          "layer": "below",
          "line": {
           "color": "rgb(175,175,175)",
           "width": 0.5
          },
          "path": "M -0.998330838744298,0.05775410298936766 Q -0.19957467820527552, -0.013036403616823214 -0.9823345846883064, -0.18713301078444913L -0.9823345846883064, -0.18713301078444913 L -0.9847096876374501, -0.17420341866035655 L -0.9869146175225436, -0.16124372149119934 M -0.9869146175225436,-0.16124372149119934 Q -0.1995904958539581, -0.012791949217032417 -0.9994239623008264, 0.033937347847411224L -0.9994239623008264, 0.033937347847411224 L -0.9989483824157703, 0.04584898329206264 L -0.998330838744298, 0.05775410298936766 ",
          "type": "path"
         },
         {
          "fillcolor": "rgba(157,185,53,0.25)",
          "layer": "below",
          "line": {
           "color": "rgb(175,175,175)",
           "width": 0.5
          },
          "path": "M -0.9971037725415983,0.07605305242600438 Q -0.17810042855386626, -0.0909958095130165 -0.5226636960620209, -0.8525389497370707L -0.5226636960620209, -0.8525389497370707 L -0.5311212637739934, -0.8472958179804242 L -0.5395262393898602, -0.8419687862443804 M -0.5395262393898602,-0.8419687862443804 Q -0.17817142504280686, -0.09085671850895488 -0.998330838744298, 0.05775410298936766L -0.998330838744298, 0.05775410298936766 L -0.9977592569688568, 0.06690639082296103 L -0.9971037725415983, 0.07605305242600438 ",
          "type": "path"
         },
         {
          "fillcolor": "rgba(157,185,53,0.25)",
          "layer": "below",
          "line": {
           "color": "rgb(175,175,175)",
           "width": 0.5
          },
          "path": "M -0.9960452441802042,0.0888474622372378 Q -0.14549231078655972, -0.1372296888504347 0.030526155095337203, -0.9995339683347912L 0.030526155095337203, -0.9995339683347912 L 0.023606702341255413, -0.9997213229718427 L 0.01668611849733317, -0.9998607770332293 M 0.01668611849733317,-0.9998607770332293 Q -0.14556130477511164, -0.13715650386389652 -0.9971037725415983, 0.07605305242600438L -0.9971037725415983, 0.07605305242600438 L -0.9965950405984251, 0.08245195603879597 L -0.9960452441802042, 0.0888474622372378 ",
          "type": "path"
         },
         {
          "fillcolor": "rgba(157,185,53,0.25)",
          "layer": "below",
          "line": {
           "color": "rgb(175,175,175)",
           "width": 0.5
          },
          "path": "M -0.999258953976774,-0.03849081575185842 Q -0.07280920862435246, -0.18627619047934044 0.708294512647963, -0.705917051325993L 0.708294512647963, -0.705917051325993 L 0.6830959621772906, -0.7303286290821972 L 0.6570565943007406, -0.7538412511171778 M 0.6570565943007406,-0.7538412511171778 Q -0.07293917538944623, -0.1862253384840731 -0.9942513969594028, -0.10707081602507759L -0.9942513969594028, -0.10707081602507759 L -0.9973448169674259, -0.0728238701814975 L -0.999258953976774, -0.03849081575185842 ",
          "type": "path"
         },
         {
          "fillcolor": "rgba(157,185,53,0.25)",
          "layer": "below",
          "line": {
           "color": "rgb(175,175,175)",
           "width": 0.5
          },
          "path": "M -0.9941497030722285,0.10801096185758177 Q -0.0832090203411473, -0.1818687959323054 0.7317151126144551, -0.6816105882185335L 0.7317151126144551, -0.6816105882185335 L 0.7309172576660182, -0.6824660888615547 L 0.7301184024910322, -0.6833206555812162 M 0.7301184024910322,-0.6833206555812162 Q -0.08317160576176648, -0.18188590928109108 -0.9944430837588533, 0.10527560574122723L -0.9944430837588533, 0.10527560574122723 L -0.9942973340517528, 0.10664338468736423 L -0.9941497030722285, 0.10801096185758177 ",
          "type": "path"
         },
         {
          "fillcolor": "rgba(157,185,53,0.25)",
          "layer": "below",
          "line": {
           "color": "rgb(175,175,175)",
           "width": 0.5
          },
          "path": "M -0.9950072644010701,0.09980252396156586 Q -0.07098942453095565, -0.18697727563734517 0.8105263757672496, -0.5857021377676602L 0.8105263757672496, -0.5857021377676602 L 0.8094299617171559, -0.5872164312028092 L 0.8083307185406798, -0.5887286721941681 M 0.8083307185406798,-0.5887286721941681 Q -0.0709960654947914, -0.18697475413611137 -0.9953666515241679, 0.09615211403586367L -0.9953666515241679, 0.09615211403586367 L -0.9951886317035822, 0.09797748378046832 L -0.9950072644010701, 0.09980252396156586 ",
          "type": "path"
         },
         {
          "fillcolor": "rgba(157,185,53,0.25)",
          "layer": "below",
          "line": {
           "color": "rgb(175,175,175)",
           "width": 0.5
          },
          "path": "M -0.9944430837588533,0.10527560574122723 Q -0.04451290109218702, -0.19498359324916847 0.9416095402131015, -0.3367068068508143L 0.9416095402131015, -0.3367068068508143 L 0.9412279588994656, -0.33777200799643814 L 0.9408451725714126, -0.3388367767068219 M 0.9408451725714126,-0.3388367767068219 Q -0.04446531639859455, -0.194994450273778 -0.9947289382562728, 0.10253945287326323L -0.9947289382562728, 0.10253945287326323 L -0.9945869519177625, 0.10390762760709364 L -0.9944430837588533, 0.10527560574122723 ",
          "type": "path"
         },
         {
          "fillcolor": "rgba(157,185,53,0.25)",
          "layer": "below",
          "line": {
           "color": "rgb(175,175,175)",
           "width": 0.5
          },
          "path": "M -0.9947289382562728,0.10253945287326323 Q -0.033184497777580015, -0.19722775947429355 0.9735141656608823, -0.22862670285335474L 0.9735141656608823, -0.22862670285335474 L 0.9732012450135807, -0.22995507540390678 L 0.9728865117858071, -0.2312830196647487 M 0.9728865117858071,-0.2312830196647487 Q -0.03318236954989763, -0.19722811754679917 -0.9950072644010701, 0.09980252396156586L -0.9950072644010701, 0.09980252396156586 L -0.9948690425057374, 0.1011710841284077 L -0.9947289382562728, 0.10253945287326323 ",
          "type": "path"
         },
         {
          "fillcolor": "rgba(99,108,195,0.25)",
          "layer": "below",
          "line": {
           "color": "rgb(175,175,175)",
           "width": 0.5
          },
          "path": "M -0.8786924798463505,-0.4773882338950878 Q -0.11822082240021115, -0.16131905389946266 -0.19056500409111868, -0.9816745790819644L -0.19056500409111868, -0.9816745790819644 L -0.25890846879515983, -0.9659018608461968 L -0.32597820537448285, -0.945377284273761 M -0.32597820537448285,-0.945377284273761 Q -0.11803722944201751, -0.16145343745381366 -0.8019382053378813, -0.5974069926101118L -0.8019382053378813, -0.5974069926101118 L -0.8424553404226119, -0.5387661824886757 L -0.8786924798463505, -0.4773882338950878 ",
          "type": "path"
         },
         {
          "fillcolor": "rgba(99,108,195,0.25)",
          "layer": "below",
          "line": {
           "color": "rgb(175,175,175)",
           "width": 0.5
          },
          "path": "M -0.9437859332038874,-0.3305572753494731 Q -0.09973729211417955, -0.17335648981717075 0.18860057909776962, -0.9820538791553068L 0.18860057909776962, -0.9820538791553068 L 0.1505963889578954, -0.9885953305740637 L 0.1123682455643748, -0.9936666329251397 M 0.1123682455643748,-0.9936666329251397 Q -0.09958597806880704, -0.17344345756493407 -0.9148055412946011, -0.4038945674513237L -0.9148055412946011, -0.4038945674513237 L -0.9300189013524535, -0.36751169114352744 L -0.9437859332038874, -0.3305572753494731 ",
          "type": "path"
         },
         {
          "fillcolor": "rgba(99,108,195,0.25)",
          "layer": "below",
          "line": {
           "color": "rgb(175,175,175)",
           "width": 0.5
          },
          "path": "M -0.9766429641545297,-0.21486861233659552 Q -0.06752552500630614, -0.18825595202442533 0.617411816627788, -0.7866401011189136L 0.617411816627788, -0.7866401011189136 L 0.6044496553119675, -0.7966433418997761 L 0.5913254516503822, -0.8064330165800948 M 0.5913254516503822,-0.8064330165800948 Q -0.0672763723441321, -0.1883451345912968 -0.968428032373187, -0.2492932933590425L -0.968428032373187, -0.2492932933590425 L -0.9726878019432573, -0.23211729782761673 L -0.9766429641545297, -0.21486861233659552 ",
          "type": "path"
         },
         {
          "fillcolor": "rgba(99,108,195,0.25)",
          "layer": "below",
          "line": {
           "color": "rgb(175,175,175)",
           "width": 0.5
          },
          "path": "M -0.990397618307254,-0.13824817413376148 Q -0.05816830599030074, -0.19135424787085012 0.74590422492481, -0.6660532165220122L 0.74590422492481, -0.6660532165220122 L 0.743040469274944, -0.6692464874914705 L 0.7401630431101227, -0.6724274456132517 M 0.7401630431101227,-0.6724274456132517 Q -0.057924764816374555, -0.19142811084312486 -0.988798566210864, -0.1492561404409869L -0.988798566210864, -0.1492561404409869 L -0.9896133982689019, -0.14375438068690535 L -0.990397618307254, -0.13824817413376148 ",
          "type": "path"
         },
         {
          "fillcolor": "rgba(99,108,195,0.25)",
          "layer": "below",
          "line": {
           "color": "rgb(175,175,175)",
           "width": 0.5
          },
          "path": "M -0.9569699688230741,-0.29018697209000377 Q -0.021592497075838723, -0.19883099373596136 0.8723689077498616, -0.488848124463328L 0.8723689077498616, -0.488848124463328 L 0.8626052347493666, -0.5058776620715628 L 0.8525091702251565, -0.5227122675832423 M 0.8525091702251565,-0.5227122675832423 Q -0.021273219902082453, -0.19886540703450073 -0.9437859332038874, -0.3305572753494731L -0.9437859332038874, -0.3305572753494731 L -0.9505922838519665, -0.3104421200177297 L -0.9569699688230741, -0.29018697209000377 ",
          "type": "path"
         },
         {
          "fillcolor": "rgba(99,108,195,0.25)",
          "layer": "below",
          "line": {
           "color": "rgb(175,175,175)",
           "width": 0.5
          },
          "path": "M -0.988798566210864,-0.1492561404409869 Q -0.016324660607538993, -0.19933265025090263 0.951338838446157, -0.30814674177072976L 0.951338838446157, -0.30814674177072976 L 0.9499344460990038, -0.3124492728661389 L 0.9485105952075555, -0.3167454037219936 M 0.9485105952075555,-0.3167454037219936 Q -0.016017378720182968, -0.1993575771796353 -0.9869146175225436, -0.16124372149119934L -0.9869146175225436, -0.16124372149119934 L -0.9878747752723309, -0.1552527886404677 L -0.988798566210864, -0.1492561404409869 ",
          "type": "path"
         },
         {
          "fillcolor": "rgba(99,108,195,0.25)",
          "layer": "below",
          "line": {
           "color": "rgb(175,175,175)",
           "width": 0.5
          },
          "path": "M -0.9823345846883064,-0.18713301078444913 Q 0.0036728382548820468, -0.19996627280407434 0.9885439464965703, -0.15093331588812983L 0.9885439464965703, -0.15093331588812983 L 0.9865412941572077, -0.16351230816859555 L 0.9843785837174812, -0.17606477194023198 M 0.9843785837174812,-0.17606477194023198 Q 0.003956738353150405, -0.19996085672352154 -0.9766429641545297, -0.21486861233659552L -0.9766429641545297, -0.21486861233659552 L -0.9795869410705393, -0.20102095633058692 L -0.9823345846883064, -0.18713301078444913 ",
          "type": "path"
         },
         {
          "fillcolor": "rgba(196,173,64,0.25)",
          "layer": "below",
          "line": {
           "color": "rgb(175,175,175)",
           "width": 0.5
          },
          "path": "M -0.3854841278694873,-0.9227144667559412 Q -0.028218167029664093, -0.197999330931915 0.1123682455643748, -0.9936666329251397L 0.1123682455643748, -0.9936666329251397 L 0.0808742090113767, -0.9967243161059051 L 0.049299199278353224, -0.9987840552143958 M 0.049299199278353224,-0.9987840552143958 Q -0.028178636517164398, -0.19800496065511475 -0.32597820537448285, -0.945377284273761L -0.32597820537448285, -0.945377284273761 L -0.3559115953866919, -0.9345196286163815 L -0.3854841278694873, -0.9227144667559412 ",
          "type": "path"
         },
         {
          "fillcolor": "rgba(196,173,64,0.25)",
          "layer": "below",
          "line": {
           "color": "rgb(175,175,175)",
           "width": 0.5
          },
          "path": "M -0.5528627334523385,-0.8332723432105548 Q -0.0014845416196976775, -0.1999944902645555 0.5404318777878526, -0.8413877735448119L 0.5404318777878526, -0.8413877735448119 L 0.5341190222403092, -0.8454092914565442 L 0.527776242807284, -0.8493834455228256 M 0.527776242807284,-0.8493834455228256 Q -0.001389386886025496, -0.19999517395197552 -0.5395262393898602, -0.8419687862443804L -0.5395262393898602, -0.8419687862443804 L -0.5462117941121087, -0.8376471070640854 L -0.5528627334523385, -0.8332723432105548 ",
          "type": "path"
         },
         {
          "fillcolor": "rgba(196,173,64,0.25)",
          "layer": "below",
          "line": {
           "color": "rgb(175,175,175)",
           "width": 0.5
          },
          "path": "M -0.50215597997585,-0.8647770647828801 Q 0.03537046043432009, -0.19684748037164257 0.771798614070258, -0.6358670453162588L 0.771798614070258, -0.6358670453162588 L 0.7653124183066137, -0.6436589954204655 L 0.7587475597362222, -0.6513847868919935 M 0.7587475597362222,-0.6513847868919935 Q 0.03592108202920206, -0.1967477467872284 -0.47961646532612234, -0.8774782311761794L -0.47961646532612234, -0.8774782311761794 L -0.4909272996029974, -0.8712005432186718 L -0.50215597997585, -0.8647770647828801 ",
          "type": "path"
         },
         {
          "fillcolor": "rgba(196,173,64,0.25)",
          "layer": "below",
          "line": {
           "color": "rgb(175,175,175)",
           "width": 0.5
          },
          "path": "M -0.47961646532612234,-0.8774782311761794 Q 0.04830093938012223, -0.1940799300674796 0.8349543719491034, -0.5503191771718284L 0.8349543719491034, -0.5503191771718284 L 0.8268934385221671, -0.5623586411970452 L 0.8186589175537891, -0.5742800507676183 M 0.8186589175537891,-0.5742800507676183 Q 0.04848238278808345, -0.19403468390777395 -0.4523241347848975, -0.8918536186455117L -0.4523241347848975, -0.8918536186455117 L -0.46602573263184227, -0.8847711661921147 L -0.47961646532612234, -0.8774782311761794 ",
          "type": "path"
         },
         {
          "fillcolor": "rgba(196,173,64,0.25)",
          "layer": "below",
          "line": {
           "color": "rgb(175,175,175)",
           "width": 0.5
          },
          "path": "M -0.561127087838456,-0.8277296607552093 Q 0.06412260854935431, -0.1894420520180941 0.9485105952075555, -0.3167454037219936L 0.9485105952075555, -0.3167454037219936 L 0.947309209662306, -0.32032056020333316 L 0.9460943485762003, -0.3238911601019317 M 0.9460943485762003,-0.3238911601019317 Q 0.06435062492610796, -0.18936471971203975 -0.5528627334523385, -0.8332723432105548L -0.5528627334523385, -0.8332723432105548 L -0.5570018050393322, -0.8305112817914793 L -0.561127087838456, -0.8277296607552093 ",
          "type": "path"
         },
         {
          "fillcolor": "rgba(196,173,64,0.25)",
          "layer": "below",
          "line": {
           "color": "rgb(175,175,175)",
           "width": 0.5
          },
          "path": "M -0.4523241347848975,-0.8918536186455117 Q 0.09411975216911372, -0.1764694654936786 0.9926293766588261, -0.12118960596482813L 0.9926293766588261, -0.12118960596482813 L 0.9906982921988156, -0.13607679388621086 L 0.9885439464965703, -0.15093331588812983 M 0.9885439464965703,-0.15093331588812983 Q 0.09436795861266288, -0.17633686054616815 -0.4227986860267228, -0.9062236319441668L -0.4227986860267228, -0.9062236319441668 L -0.4376203973729657, -0.8991598232812271 L -0.4523241347848975, -0.8918536186455117 ",
          "type": "path"
         },
         {
          "fillcolor": "rgba(150,81,158,0.25)",
          "layer": "below",
          "line": {
           "color": "rgb(175,175,175)",
           "width": 0.5
          },
          "path": "M 0.030526155095337203,-0.9995339683347912 Q 0.06254292202812599, -0.18996942623533863 0.5692294752766176, -0.8221786937620718L 0.5692294752766176, -0.8221786937620718 L 0.5618992158306864, -0.8272057006868725 L 0.5545245643788398, -0.8321673554643068 M 0.5545245643788398,-0.8321673554643068 Q 0.06263898643758135, -0.18993777238367437 0.049299199278353224, -0.9987840552143958L 0.049299199278353224, -0.9987840552143958 L 0.03991443839819558, -0.9992031012798933 L 0.030526155095337203, -0.9995339683347912 ",
          "type": "path"
         },
         {
          "fillcolor": "rgba(150,81,158,0.25)",
          "layer": "below",
          "line": {
           "color": "rgb(175,175,175)",
           "width": 0.5
          },
          "path": "M -0.0021013982217003594,-0.9999977920603195 Q 0.09158877494389399, -0.17779622128795858 0.8154251260354014, -0.578862560397673L 0.8154251260354014, -0.578862560397673 L 0.8140701365276349, -0.5807665734302189 L 0.8127107011694079, -0.5826674147442342 M 0.8127107011694079,-0.5826674147442342 Q 0.09161281373507342, -0.17778383604687675 0.0028428839477033317, -0.9999959589972651L 0.0028428839477033317, -0.9999959589972651 L 0.0003707439959009168, -0.9999999312744424 L -0.0021013982217003594, -0.9999977920603195 ",
          "type": "path"
         },
         {
          "fillcolor": "rgba(150,81,158,0.25)",
          "layer": "below",
          "line": {
           "color": "rgb(175,175,175)",
           "width": 0.5
          },
          "path": "M 0.007787096620166373,-0.999969680103466 Q 0.1169175768093649, -0.16226607850387664 0.9460943485762003, -0.3238911601019317L 0.9460943485762003, -0.3238911601019317 L 0.9449894662904643, -0.3271007621514561 L 0.9438736955429795, -0.33030659524453754 M 0.9438736955429795,-0.33030659524453754 Q 0.11708876797967799, -0.16214259284037968 0.01668611849733317, -0.9998607770332293L 0.01668611849733317, -0.9998607770332293 L 0.012236728709770793, -0.9999251284323659 L 0.007787096620166373, -0.999969680103466 ",
          "type": "path"
         },
         {
          "fillcolor": "rgba(150,81,158,0.25)",
          "layer": "below",
          "line": {
           "color": "rgb(175,175,175)",
           "width": 0.5
          },
          "path": "M 0.0028428839477033317,-0.9999959589972651 Q 0.12478587171123207, -0.15629614909289333 0.9745441361685271, -0.22419573292000763L 0.9745441361685271, -0.22419573292000763 L 0.9740316705350284, -0.22641180356761853 L 0.9735141656608823, -0.22862670285335474 M 0.9735141656608823,-0.22862670285335474 Q 0.12481675191685798, -0.15627148953320158 0.007787096620166373, -0.999969680103466L 0.007787096620166373, -0.999969680103466 L 0.005315006525244039, -0.999985875253064 L 0.0028428839477033317, -0.9999959589972651 ",
          "type": "path"
         },
         {
          "fillcolor": "rgba(67,201,134,0.25)",
          "layer": "below",
          "line": {
           "color": "rgb(175,175,175)",
           "width": 0.5
          },
          "path": "M 0.5125942925958363,-0.8586309400424458 Q 0.12628950021565497, -0.15508372621032837 0.7370085037958094, -0.6758834702318606L 0.7370085037958094, -0.6758834702318606 L 0.735689345792423, -0.6773191171726343 L 0.7343673912425713, -0.6787521894473566 M 0.7343673912425713,-0.6787521894473566 Q 0.12634987648232077, -0.15503454038665798 0.5166054442189796, -0.8562235776964512L 0.5166054442189796, -0.8562235776964512 L 0.5146012761481333, -0.8574296044496671 L 0.5125942925958363, -0.8586309400424458 ",
          "type": "path"
         },
         {
          "fillcolor": "rgba(67,201,134,0.25)",
          "layer": "below",
          "line": {
           "color": "rgb(175,175,175)",
           "width": 0.5
          },
          "path": "M 0.5093772901240372,-0.8605433029812575 Q 0.13509743394994042, -0.14747434807498383 0.8127107011694079, -0.5826674147442342L 0.8127107011694079, -0.5826674147442342 L 0.8116199568587651, -0.5841857971814929 L 0.8105263757672496, -0.5857021377676602 M 0.8105263757672496,-0.5857021377676602 Q 0.1350976844420632, -0.1474741186052411 0.5125942925958363, -0.8586309400424458L 0.5125942925958363, -0.8586309400424458 L 0.5109866859857932, -0.8595886264634126 L 0.5093772901240372, -0.8605433029812575 ",
          "type": "path"
         },
         {
          "fillcolor": "rgba(67,201,134,0.25)",
          "layer": "below",
          "line": {
           "color": "rgb(175,175,175)",
           "width": 0.5
          },
          "path": "M 0.5069598538135892,-0.86196966688005 Q 0.15423032746835505, -0.12733030310575708 0.942369085844577, -0.33457511270932294L 0.942369085844577, -0.33457511270932294 L 0.9419899160237982, -0.3356411746336815 L 0.9416095402131015, -0.3367068068508143 M 0.9416095402131015,-0.3367068068508143 Q 0.1542649492428541, -0.12728835545759734 0.5093772901240372, -0.8605433029812575L 0.5093772901240372, -0.8605433029812575 L 0.5081690724210944, -0.8612573331093817 L 0.5069598538135892, -0.86196966688005 ",
          "type": "path"
         },
         {
          "fillcolor": "rgba(67,201,134,0.25)",
          "layer": "below",
          "line": {
           "color": "rgb(175,175,175)",
           "width": 0.5
          },
          "path": "M 0.5404318777878526,-0.8413877735448119 Q 0.1650395241917925, -0.11296882514458025 0.9799386933586719, -0.1992991652227844L 0.9799386933586719, -0.1992991652227844 L 0.978273919841281, -0.20731651588422725 L 0.976543553661656, -0.2153199661012987 M 0.976543553661656,-0.2153199661012987 Q 0.1650657530756766, -0.11293049703937266 0.5545245643788398, -0.8321673554643068L 0.5545245643788398, -0.8321673554643068 L 0.5474976315820738, -0.8368072319309985 L 0.5404318777878526, -0.8413877735448119 ",
          "type": "path"
         },
         {
          "fillcolor": "rgba(221,77,138,0.25)",
          "layer": "below",
          "line": {
           "color": "rgb(175,175,175)",
           "width": 0.5
          },
          "path": "M 0.771798614070258,-0.6358670453162588 Q 0.18502831623424024, -0.07592445055133423 0.995984622878443, -0.08952447145716941L 0.995984622878443, -0.08952447145716941 L 0.9944330444905533, -0.10537039444383495 L 0.9926293766588261, -0.12118960596482813 M 0.9926293766588261,-0.12118960596482813 Q 0.1848551784348426, -0.07634502607126747 0.7888653059684697, -0.6145661307290474L 0.7888653059684697, -0.6145661307290474 L 0.7804046386767729, -0.6252748195248035 L 0.771798614070258, -0.6358670453162588 ",
          "type": "path"
         },
         {
          "fillcolor": "rgba(78,141,43,0.25)",
          "layer": "below",
          "line": {
           "color": "rgb(175,175,175)",
           "width": 0.5
          },
          "path": "M 0.8154251260354014,-0.578862560397673 Q 0.17767702190830095, -0.09181980116400355 0.9438736955429795, -0.33030659524453754L 0.9438736955429795, -0.33030659524453754 L 0.9431238055761837, -0.33244170519881644 L 0.942369085844577, -0.33457511270932294 M 0.942369085844577,-0.33457511270932294 Q 0.1777267027231071, -0.09172360186545407 0.8186589175537891, -0.5742800507676183L 0.8186589175537891, -0.5742800507676183 L 0.8170452345046924, -0.5765735727321989 L 0.8154251260354014, -0.578862560397673 ",
          "type": "path"
         },
         {
          "fillcolor": "rgba(78,141,43,0.25)",
          "layer": "below",
          "line": {
           "color": "rgb(175,175,175)",
           "width": 0.5
          },
          "path": "M 0.8077800372303137,-0.5894840213713965 Q 0.1816337335521303, -0.0837208864974191 0.9728865117858071, -0.2312830196647487L 0.9728865117858071, -0.2312830196647487 L 0.9727811980154414, -0.23172557214870043 L 0.972675682934144, -0.23216807667850603 M 0.972675682934144,-0.23216807667850603 Q 0.18163477806765926, -0.08371862036794542 0.8083307185406798, -0.5887286721941681L 0.8083307185406798, -0.5887286721941681 L 0.8080554661455907, -0.5891064111281019 L 0.8077800372303137, -0.5894840213713965 ",
          "type": "path"
         },
         {
          "fillcolor": "rgba(207,86,188,0.25)",
          "layer": "below",
          "line": {
           "color": "rgb(150,150,150)",
           "width": 0.45
          },
          "path": "M 1.1, 0.0 L 1.0997682334036993, 0.022579477321374077 L 1.0990730312798065, 0.04514943979073902 L 1.0979146865821945, 0.06770037656558545 L 1.0962936874301499, 0.0902227848207139 L 1.0942107169026845, 0.1127071737526666 L 1.0916666527506873, 0.13514406857909322 L 1.0886625670270482, 0.15752401453136566 L 1.0851997256349004, 0.17983758083875892 L 1.0812795877941763, 0.2020753647025195 L 1.0769038054267022, 0.22422799525814674 L 1.072074222460088, 0.24628613752421707 L 1.066792874050708, 0.2682404963360873 L 1.0610619857260977, 0.2900818202628197 L 1.054883972447131, 0.31180090550567746 L 1.0482614375903716, 0.3333885997765487 L 1.0411971718510233, 0.35483580615466426 L 1.033694152066952, 0.37613348691998333 L 1.0257555399642615, 0.3972726673616329 L 1.0173846808249634, 0.4182444395597958 L 1.0085851020772956, 0.43903996613945234 L 0.999360511809286, 0.4596504839943959 L 0.9897147972061863, 0.4800673079799515 L 0.9796520229124378, 0.5002818345728421 L 0.9691764293188537, 0.52028554549666 L 0.9582924307757459, 0.5400700113114155 L 0.9470046137327441, 0.5596268949656515 L 0.9353177348060951, 0.5789479553096247 L 0.923236718774254, 0.5980250505680755 L 0.9107666565026125, 0.6168501417711214 L 0.8979128027982405, 0.635415296141829 L 0.8846805741955422, 0.6537126904390382 L 0.8710755466737627, 0.6717346142540261 L 0.8571034533073045, 0.6894734732596269 L 0.8427701818498451, 0.7069217924104328 L 0.8280817722532746, 0.7240722190927339 L 0.8130444141224972, 0.7409175262228621 L 0.7976644441071696, 0.7574506152926408 L 0.7819483432314771, 0.7736645193606517 L 0.7659027341630686, 0.7895524059880611 L 0.7495343784223066, 0.805107580117767 L 0.7328501735330041, 0.8203234868956552 L 0.7158571501158504, 0.8351937144327735 L 0.6985624689257514, 0.849711996507263 L 0.6809734178343317, 0.8638722152049045 L 0.6630974087588708, 0.87766840349717 L 0.6449419745389664, 0.8910947477556915 L 0.6265147657622431, 0.9041455902020878 L 0.607823547540442, 0.916815431292118 L 0.5888761962372501, 0.9290989320331543 L 0.5696806961492502, 0.9409909162340016 L 0.5502451361413871, 0.9524863726861118 L 0.5305777062383703, 0.9635804572752759 L 0.5106866941734483, 0.9742684950229044 L 0.49058048189600867, 0.9845459820560338 L 0.47026754203947707, 0.9944085875052312 L 0.44975643435100143, 1.0038521553295952 L 0.4290558020844278, 1.0128727060680864 L 0.4081743683580866, 1.0214664385164482 L 0.3871209324789243, 1.0296297313290095 L 0.3659043662345305, 1.0373591445446977 L 0.3445336101546207, 1.0446514210366173 L 0.3230176697435532, 1.051503487884584 L 0.3013656116854649, 1.0579124576700314 L 0.2795865600236267, 1.0638756296927547 L 0.2576896923156283, 1.0693904911089667 L 0.23568423576601216, 1.0744547179901958 L 0.2135794633379865, 1.079066176302574 L 0.19138468984585613, 1.0832229228061072 L 0.16910926802981732, 1.0869232058735427 L 0.15373569820892483, 0.9881120053395842 L 0.17398608167805102, 0.9847481116419156 L 0.19416314848907862, 0.9809692511841581 L 0.21425839615092013, 0.9767770163547232 L 0.2342633566505712, 0.9721731737354242 L 0.2541696000214788, 0.9671596633570496 L 0.27396873789587717, 0.9617385978818466 L 0.2936524270395938, 0.9559122617132579 L 0.313212372867837, 0.9496831100332884 L 0.33264033294048223, 0.9430537677679068 L 0.35192812043538574, 0.9360270284809177 L 0.3710676075982605, 0.9286058531967711 L 0.3900507291676616, 0.9207933691528059 L 0.40886948577363763, 0.91259286848145 L 0.4275159473086155, 0.9040078068229374 L 0.44598225626909876, 0.8950418018691216 L 0.4642606310667711, 0.8856986318390039 L 0.48234336930760935, 0.8759822338866143 L 0.5002228510376246, 0.8658967024419197 L 0.5178915419538638, 0.8554462874854559 L 0.5353419965793182, 0.844635392757413 L 0.5525668614004018, 0.8334685739019253 L 0.5695588779656755, 0.8219505365473525 L 0.5863108859445149, 0.8100861343233559 L 0.602815826144428, 0.797880366815609 L 0.6190667434857561, 0.785338377459004 L 0.6350567899325011, 0.772465451370239 L 0.6507792273780457, 0.7592670131207031 L 0.6662274304845491, 0.7457486244505955 L 0.6813948894748242, 0.7319159819252427 L 0.6962752128755169, 0.717774914534601 L 0.7108621302104337, 0.703331381236956 L 0.7251494946428815, 0.6885914684478552 L 0.7391312855659065, 0.6735613874753291 L 0.7528016111393405, 0.6582474719024853 L 0.7661547107725863, 0.6426561749185753 L 0.7791849575520949, 0.6267940665996607 L 0.7918868606125116, 0.6106678311400238 L 0.8042550674504929, 0.5942842640354893 L 0.8162843661802186, 0.5776502692198445 L 0.8279696877296476, 0.5607728561555648 L 0.8393061079765944, 0.5436591368800686 L 0.8502888498237228, 0.5263163230087498 L 0.8609132852115855, 0.5087517226960468 L 0.8711749370688598, 0.4909727375558322 L 0.8810694811989579, 0.4729868595424181 L 0.8905927481022161, 0.4548016677934928 L 0.8997407247328966, 0.4364248254363195 L 0.9085095561902599, 0.41786407635854167 L 0.9168955473429959, 0.39912724194495663 L 0.9248951643863302, 0.3802222177816325 L 0.9325050363311467, 0.36115697032875715 L 0.9397219564245017, 0.34193953356362117 L 0.9465428835009303, 0.3225780055951493 L 0.9529649432639741, 0.30308054525140793 L 0.9589854294973919, 0.28345536864152493 L 0.9646018052055432, 0.2637107456934724 L 0.9698117036824617, 0.24385499666917027 L 0.974612929509171, 0.22389648865837913 L 0.9790034594788202, 0.20384363205286066 L 0.9829814434492512, 0.18370487700229043 L 0.9865452051226367, 0.16348870985341718 L 0.989693242751862, 0.14320364957396878 L 0.992424229773352, 0.12285824416281202 L 0.9947370153660766, 0.10246106704787872 L 0.9966306249364999, 0.08202071347337626 L 0.9981042605292676, 0.06154579687780495 L 0.9991573011634605, 0.0410449452643082 L 0.999789303094272, 0.020526797564885523 L 1.0, 0.0 L 1.1 ,0.0",
          "type": "path"
         },
         {
          "fillcolor": "rgba(95,194,80,0.25)",
          "layer": "below",
          "line": {
           "color": "rgb(150,150,150)",
           "width": 0.45
          },
          "path": "M 0.13488473985832855, 1.0916987253603219 L 0.11211911243353206, 1.0942711293948666 L 0.08930484838132892, 1.0963688448946312 L 0.06645184439851087, 1.0979909618826724 L 0.04357001398702819, 1.099136776693952 L 0.020669283153571458, 1.0998057922805815 L -0.0022404138962749624, 1.09999771842744 L -0.02514913906743347, 1.0997124718780664 L -0.04804695468642114, 1.0989501763707767 L -0.0709239278122571, 1.0977111625849862 L -0.0937701345453135, 1.0959959679977633 L -0.11657566433224767, 1.0938053366506746 L -0.13933062426514278, 1.091140218827024 L -0.16202514337299362, 1.0880017706396259 L -0.18464937690367897, 1.0843913535292888 L -0.20719351059455654, 1.0803105336742318 L -0.22964776492983577, 1.0757610813106835 L -0.2520023993828736, 1.0707449699649654 L -0.274247716641561, 1.0652643755973867 L -0.2963740668149601, 1.0593216756583252 L -0.31837185161937115, 1.052919448056903 L -0.34023152854201427, 1.0460604700427047 L -0.36194361498051586, 1.0387477170010224 L -0.3834986923564065, 1.03098436116215 L -0.4048874102008479, 1.0227737702252881 L -0.4261004902108105, 1.0141195058976566 L -0.44712873027395017, 1.0050253223494447 L -0.4679630084604297, 0.9954951645852751 L -0.48859428697996204, 0.985533166732882 L -0.5090136161023492, 0.9751436502497519 L -0.5292121380398255, 0.964331122048499 L -0.549181090789514, 0.9531002725417927 L -0.5689118119343355, 0.9414559736076835 L -0.5883957424007117, 0.9294032764762106 L -0.6076244301714443, 0.9169474095382066 L -0.6265895339521524, 0.9040937760772522 L -0.645282826789676, 0.8908479519257624 L -0.663696199640882, 0.8772156830462224 L -0.6818216648903207, 0.8632028830386235 L -0.6996513598152083, 0.8488156305751738 L -0.6360466907410984, 0.771650573250158 L -0.6198378771730187, 0.7847298936714758 L -0.6033601814917109, 0.7974688027692931 L -0.5866207516269781, 0.8098617744779657 L -0.5696268490474112, 0.8219034327975019 L -0.5523858456104038, 0.8335885541256424 L -0.5349052203642833, 0.8449120695238277 L -0.5171925563039413, 0.8558690669160759 L -0.4992555370813764, 0.8664547932198116 L -0.48110194367256853, 0.8766646564077263 L -0.46273965100213554, 0.8864942274997744 L -0.44417662452723816, 0.8959392424844381 L -0.4254209167822088, 0.9049956041684318 L -0.4064806638854092, 0.9136593839540406 L -0.3873640820098277, 0.9219268235433241 L -0.3680794638189526, 0.9297943365684437 L -0.34863517486946044, 0.937258510147409 L -0.32903964998228713, 0.9443161063645658 L -0.30930138958364933, 0.9509640636751862 L -0.2894289560176101, 0.9571994982335481 L -0.2694309698317819, 0.9630197051439319 L -0.2493161060377827, 0.9684221596339879 L -0.2290930903480669, 0.9734045181499685 L -0.20877069539075976, 0.9779646193733486 L -0.1883577369041423, 0.9821004851583925 L -0.1678630699124354, 0.9858103213902626 L -0.14729558488453964, 0.9890925187632962 L -0.12666420387740251, 0.9919456534791127 L -0.10597787666567969, 0.9943684878642495 L -0.0852455768593759, 0.9963599709070574 L -0.06447629801114282, 0.9979192387136238 L -0.0436790497149283, 0.9990456148825242 L -0.022862853697666788, 0.9997386107982421 L -0.002036739905704511, 0.9999979258431272 L 0.018790257412337686, 0.9998234475278013 L 0.03960910362457108, 0.9992152515399563 L 0.060410767635009875, 0.9981736017115204 L 0.0811862258012081, 0.9966989499042102 L 0.1019264658486655, 0.9947919358135151 L 0.12262249078029867, 0.9924533866912015 L 0.13488473985832855 ,1.0916987253603219",
          "type": "path"
         },
         {
          "fillcolor": "rgba(134,93,213,0.25)",
          "layer": "below",
          "line": {
           "color": "rgb(150,150,150)",
           "width": 0.45
          },
          "path": "M -0.7259680673778519, 0.8264202109990212 L -0.743075151846116, 0.8110729429027157 L -0.7598578680578052, 0.7953716240542199 L -0.7763088899969908, 0.7793231084162975 L -0.792421036439416, 0.7629344015105637 L -0.8081872740872531, 0.7462126573594255 L -0.82360072063929, 0.7291651753631974 L -0.8386546477952008, 0.711799397113757 L -0.8533424841925952, 0.6941229031461292 L -0.8676578182755582, 0.6761434096294208 L -0.8815944010934325, 0.6578687649985462 L -0.8951461490286183, 0.6393069465282187 L -0.9083071464522051, 0.6204660568506971 L -0.9210716483062694, 0.6013543204188128 L -0.9334340826117151, 0.5819800799158216 L -0.9453890529005636, 0.5623517926136409 L -0.9569313405716277, 0.5424780266810701 L -0.9680559071685414, 0.5223674574436012 L -0.9787578965791567, 0.5020288635964518 L -0.9890326371553386, 0.48147112337247866 L -0.9988756437522411, 0.46070321066663517 L -1.0082826196861694, 0.4397341911186754 L -1.017249458610173, 0.41857321815580867 L -1.0257722463065562, 0.3972295289970296 L -1.0338472623955173, 0.37571244062087517 L -1.0414709819591736, 0.3540313456983643 L -1.0486400770802653, 0.3321957084928935 L -1.0553514182948611, 0.31021506072888366 L -1.0616020759584381, 0.28809899743097805 L -1.067389321524733, 0.26585717273560683 L -1.0727106287368118, 0.24349929567675166 L -1.0775636747298354, 0.221035125947741 L -1.0819463410450398, 0.1984744696409356 L -1.0858567145544884, 0.17582717496716044 L -1.0892930882961942, 0.1531031279567462 L -0.990266443905631, 0.13918466177886016 L -0.9871424677768076, 0.1598428863337822 L -0.9835875827682179, 0.18043133603721417 L -0.9796033406634866, 0.20094102358885543 L -0.9751914806698289, 0.22136299606977422 L -0.9703539286588482, 0.24168833885055163 L -0.9650927963258528, 0.2619081794827073 L -0.9594103802680556, 0.2820136915717124 L -0.9533091609820593, 0.3019960986299031 L -0.9467918017810669, 0.3218466779076039 L -0.9398611476322883, 0.34155676420079556 L -0.932520223915051, 0.3611177536336633 L -0.9247722351001572, 0.3805211074143715 L -0.916620563351063, 0.39975835556243217 L -0.9080687670474918, 0.41882110060603195 L -0.899120579232126, 0.4377010212477078 L -0.8897799059810515, 0.4563898759967744 L -0.8800508246986739, 0.47487950676691015 L -0.8699375823378432, 0.49316184243733646 L -0.8594445935459669, 0.5112289023760371 L -0.8485764387379228, 0.5290727999234741 L -0.8373378620966085, 0.5466857458352843 L -0.8257337695020046, 0.5640600516824519 L -0.813769226389653, 0.5811881332074715 L -0.801449455539484, 0.5980625136350419 L -0.7887798347959619, 0.614675826935837 L -0.775765894720541, 0.6310208210419356 L -0.7624133161774552, 0.6470903610125063 L -0.7487279278539, 0.6628774321483611 L -0.7347157037156846, 0.6783751430540231 L -0.720382760399469, 0.693576728645967 L -0.7057353545427189, 0.708475553105725 L -0.6907798800525501, 0.7230651127765635 L -0.6755228653146509, 0.7373390390024688 L -0.6599709703435017, 0.7512911009082011 L -0.7259680673778519 ,0.8264202109990212",
          "type": "path"
         },
         {
          "fillcolor": "rgba(157,185,53,0.25)",
          "layer": "below",
          "line": {
           "color": "rgb(150,150,150)",
           "width": 0.45
          },
          "path": "M -1.0935646733794515, 0.11881205804333995 L -1.0983758947946891, 0.05975277176806282 L -1.0999998770453163, 0.0005200964232733603 L -1.0984319077010467, -0.05871408812405549 L -1.0936765366553431, -0.11777789762758537 L -0.9942513969594028, -0.10707081602507759 L -0.9985744615464061, -0.053376443749141356 L -0.9999998882230147, 0.0004728149302485093 L -0.9985235407224445, 0.05432070160732983 L -0.9941497030722285, 0.10801096185758177 L -1.0935646733794515 ,0.11881205804333995",
          "type": "path"
         },
         {
          "fillcolor": "rgba(99,108,195,0.25)",
          "layer": "below",
          "line": {
           "color": "rgb(150,150,150)",
           "width": 0.45
          },
          "path": "M -1.0894373801379795, -0.15207299154713763 L -1.0860668535071418, -0.17452446737663152 L -1.0822336900270662, -0.19690160022305592 L -1.0779395225278767, -0.21919485799711033 L -1.0731861802156812, -0.2413947443381393 L -1.067975687893376, -0.2634918026593442 L -1.0623102650981315, -0.285476620176045 L -1.0561923251559258, -0.3073398319152909 L -1.0496244741535297, -0.32907212470509645 L -1.0426095098283785, -0.35066424114162004 L -1.0351504203768094, -0.37210698353257887 L -1.027250383181164, -0.3933912178152334 L -1.0189127634563038, -0.41450787744726697 L -1.0101411128161173, -0.4354479672688993 L -1.0009391677606194, -0.4562025673345987 L -0.9913108480842994, -0.47676283671274894 L -0.9812602552063876, -0.4971200172516645 L -0.9707916704237556, -0.5172654373103373 L -0.9599095530871923, -0.5371905154523366 L -0.9486185387018332, -0.5568867641012837 L -0.9369234369525553, -0.5763457931563406 L -0.9248292296551711, -0.595559313566183 L -0.912341068634304, -0.6145191408599219 L -0.8994642735288401, -0.6332171986334831 L -0.8862043295258994, -0.6516455219899475 L -0.8725668850242846, -0.6697962609323952 L -0.858557749228406, -0.6876616837078054 L -0.8441828896737095, -0.7052341801005859 L -0.8294484296846586, -0.7225062646743307 L -0.8143606457663531, -0.7394705799604258 L -0.7989259649308973, -0.7561198995921447 L -0.783150961959657, -0.7724471313828952 L -0.767042356602571, -0.7884453203473114 L -0.7506070107157056, -0.8041076516639005 L -0.7338519253382809, -0.8194274535779836 L -0.716784237710406, -0.8343982002436919 L -0.6994112182327961, -0.849013514503813 L -0.6817402673697655, -0.8632671706062967 L -0.6637789124968189, -0.8771530968562675 L -0.6455348046941832, -0.8906653782024104 L -0.5868498224492574, -0.8096957983658276 L -0.603435374997108, -0.7974119062329704 L -0.6197638794270595, -0.7847883369148151 L -0.6358283802116327, -0.771830467730739 L -0.6516220342821872, -0.7585438184033563 L -0.6671381139438917, -0.7449340487072578 L -0.6823700097415505, -0.7310069560580913 L -0.6973112332750645, -0.7167684730430103 L -0.7119554199633246, -0.7022246648935411 L -0.7262963317553611, -0.6873817269019497 L -0.7403278597875937, -0.6722459817822052 L -0.7540440269860532, -0.6568238769766642 L -0.7674389906124631, -0.6411219819096236 L -0.7805070447530963, -0.625146985188914 L -0.7932426227493495, -0.6089056917567228 L -0.8056402995689994, -0.5924050199908614 L -0.8176947941171273, -0.5756519987577119 L -0.8294009714857308, -0.5586537644181108 L -0.8407538451410645, -0.541417557787439 L -0.8517485790477775, -0.5239507210512186 L -0.8623804897289392, -0.5062606946375305 L -0.8726450482610838, -0.4883550140475787 L -0.8825378822034141, -0.47024130664576114 L -0.8920547774603523, -0.45192728841060403 L -0.9011916800766357, -0.43342076064795354 L -0.9099446979641993, -0.41472960666781694 L -0.9183101025601066, -0.39586178842627207 L -0.9262843304148215, -0.37682534313387905 L -0.9338639847101489, -0.35762837983203033 L -0.9410458367061904, -0.33827907593870804 L -0.9478268271167077, -0.3187856737651091 L -0.9542040674122996, -0.2991564770046331 L -0.9601748410508416, -0.279399847195719 L -0.9657366046346649, -0.2595242001600409 L -0.970886988993978, -0.2395380024175856 L -0.9756238001960738, -0.2194497675801266 L -0.9799450204798879, -0.19926805272464573 L -0.9838488091155146, -0.17900145474823265 L -0.9873335031883106, -0.15865860670602863 L -0.990397618307254, -0.13824817413376148 L -1.0894373801379795 ,-0.15207299154713763",
          "type": "path"
         },
         {
          "fillcolor": "rgba(196,173,64,0.25)",
          "layer": "below",
          "line": {
           "color": "rgb(150,150,150)",
           "width": 0.45
          },
          "path": "M -0.6172397966223017, -0.9105026268307302 L -0.59814766769232, -0.9231572821758154 L -0.5787961850533955, -0.9354116613382772 L -0.5591937394074699, -0.9472604508832251 L -0.5393488302727337, -0.9586985132373128 L -0.5192700622982815, -0.9697208889163618 L -0.49896614153318364, -0.9803227986757664 L -0.4784458716515833, -0.9904996455827518 L -0.4577181501354724, -1.0002470170095792 L -0.4367919644167922, -1.0095606865468365 L -0.4156763879805243, -1.0184366158359905 L -0.3943805764304777, -1.026870956320396 L -0.37291376351946937, -1.0348600509140091 L -0.3512852571456118, -1.0424004355870835 L -0.3295044353164597, -1.049488840868154 L -0.3075807420827572, -1.0561221932616607 L -0.28552368344354195, -1.0622976165806042 L -0.26334282322439545, -1.0680124331936427 L -0.24104777893062154, -1.0732641651860992 L -0.2186482175771404, -1.0780505354343737 L -0.19615385149692416, -1.0823694685932908 L -0.17357443412978288, -1.0862190919959591 L -0.15091975579331812, -1.0895977364657499 L -0.1281996394378952, -1.092503937040043 L -0.10542393638746608, -1.094936433605427 L -0.0826025220680808, -1.096894171444079 L -0.05974529172595726, -1.0983763016910828 L -0.036862156136956856, -1.0993821817024936 L -0.03351105103359714, -0.9994383470022669 L -0.054313901569052046, -0.998523910628257 L -0.07509320188007346, -0.9971765194946172 L -0.0958399421704237, -0.9953967578231154 L -0.1165451267617229, -0.9931853973091298 L -0.13719977799392555, -0.9905433967870452 L -0.15779494011798442, -0.9874719018145082 L -0.17832168317902194, -0.9839722441757188 L -0.19877110688830943, -0.9800459413039759 L -0.2191343444823832, -0.9756946956237265 L -0.2394025665676322, -0.9709203938124024 L -0.2595669849486745, -0.9657251059823673 L -0.2796188564388702, -0.9601110847833279 L -0.29954948665132697, -0.9540807644255944 L -0.319350233768738, -0.9476367596246213 L -0.33901251229042667, -0.9407818644672808 L -0.3585277967549797, -0.9335190512003598 L -0.37788762543684024, -0.9258514689418095 L -0.3970836040152656, -0.9177824423153059 L -0.4161074092140658, -0.9093154700087083 L -0.43495079241053025, -0.900454223257047 L -0.4536055832119851, -0.8912025442506967 L -0.47206369299843776, -0.8815644444694197 L -0.4903171184297579, -0.8715441029430115 L -0.5083579449158816, -0.8611458644392954 L -0.5261783500485413, -0.850374237580252 L -0.5437706069930182, -0.8392338928871048 L -0.561127087838456, -0.8277296607552093 L -0.6172397966223017 ,-0.9105026268307302",
          "type": "path"
         },
         {
          "fillcolor": "rgba(150,81,158,0.25)",
          "layer": "below",
          "line": {
           "color": "rgb(150,150,150)",
           "width": 0.45
          },
          "path": "M -0.0023115380438703957, -1.0999975712663514 L 0.020711135362150364, -1.0998050049313337 L 0.04372473556941724, -1.0991306325907693 L 0.06671918070820033, -1.097974749675796 L 0.08968439730028183, -1.0963378625592046 L 0.11261032467197482, -1.094220688333607 L 0.13548691936153665, -1.091624154497289 L 0.15830415951904167, -1.0885493985478887 L 0.1810520492967828, -1.084997767484079 L 0.20372062322828163, -1.08097081721547 L 0.2262999505939928, -1.0764703118809902 L 0.24878013977178687, -1.071498223076049 L 0.2711513425703007, -1.0660567289888112 L 0.2934037585432622, -1.0601482134459725 L 0.31552763928290206, -1.053775264868444 L 0.33751329269056873, -1.0469406751374075 L 0.3593510872226711, -1.0396474383712415 L 0.3810314561100936, -1.0318987496138474 L 0.40254490154923755, -1.0236980034349559 L 0.42388199886285116, -1.0150487924430205 L 0.445033400628819, -1.005954905711359 L 0.4659898407751086, -0.9964203271182243 L 0.4867421386390813, -0.9864492336015339 L 0.5072812029893881, -0.9760459933290231 L 0.5275980360086822, -0.9652151637846256 L 0.47963457818971106, -0.8774683307132959 L 0.46116472999035274, -0.8873145393900209 L 0.44249285330825566, -0.896772030546849 L 0.4236271279773714, -0.9058366610165675 L 0.4045758187534718, -0.9145044597375991 L 0.385347271693501, -0.9227716294936549 L 0.36594991049930686, -0.9306345485772325 L 0.34639223282735776, -0.9380897723762249 L 0.32668280656606463, -0.9451340348829468 L 0.3068302660823352, -0.9517642501249158 L 0.28684330843900185, -0.9579775135167671 L 0.2667306895847838, -0.9637711031327022 L 0.24650122051845516, -0.9691424808989192 L 0.22616376342889713, -0.974089293705499 L 0.2057272278127207, -0.9786093744372638 L 0.1852005665711651, -0.9827007429231543 L 0.16459277208798437, -0.9863616068037081 L 0.14391287229003788, -0.9895903623162623 L 0.12316992669230603, -0.9923855949975352 L 0.10237302242906801, -0.9947460803032789 L 0.08153127027298347, -0.9966707841447314 L 0.06065380064381848, -0.9981588633416326 L 0.03974975960856113, -0.9992096659916084 L 0.018828304874682147, -0.9998227317557578 L -0.0021013982217003594, -0.9999977920603195 L -0.0023115380438703957 ,-1.0999975712663514",
          "type": "path"
         },
         {
          "fillcolor": "rgba(67,201,134,0.25)",
          "layer": "below",
          "line": {
           "color": "rgb(150,150,150)",
           "width": 0.45
          },
          "path": "M 0.5576558391949482, -0.948166633568055 L 0.5795203986426857, -0.9349631583955716 L 0.6010725004639086, -0.9212555829877315 L 0.6223005245006443, -0.9070512980015095 L 0.6431930253266022, -0.8923579619027407 L 0.6637387384181592, -0.8771834968369335 L 0.6839265862278096, -0.8615360843579187 L 0.703745684156794, -0.845424161016638 L 0.7231853464237109, -0.828856413812439 L 0.7422350918259198, -0.8118417755093468 L 0.7608846493906499, -0.7943894198198187 L 0.7791239639127607, -0.776508756458591 L 0.7082945126479643, -0.7059170513259917 L 0.6917133176278635, -0.7221721998361987 L 0.6747591743871998, -0.7380379777357697 L 0.6574412240215554, -0.7535058307385809 L 0.6397688037789035, -0.7685674191060344 L 0.6217514420252813, -0.7832146221435624 L 0.6033988531074175, -0.7974395425790304 L 0.5847209321150928, -0.8112345108206733 L 0.5657277495460402, -0.8245920890922813 L 0.5464295458762805, -0.8375050754433921 L 0.5268367260388052, -0.8499665076323378 L 0.5069598538135892, -0.86196966688005 L 0.5576558391949482 ,-0.948166633568055",
          "type": "path"
         },
         {
          "fillcolor": "rgba(221,77,138,0.25)",
          "layer": "below",
          "line": {
           "color": "rgb(150,150,150)",
           "width": 0.45
          },
          "path": "M 0.8031302427401354, -0.7516527211393379 L 0.819923017400297, -0.7332981968729996 L 0.8362964211952856, -0.7145686082497312 L 0.8522420795236194, -0.6954735350027756 L 0.8677518365653174, -0.6760227438019515 L 0.7888653059684703, -0.6145661307290468 L 0.7747655268396539, -0.6322486681843414 L 0.7602694738138959, -0.6496078256815738 L 0.7453845612729972, -0.6666347244299996 L 0.7301184024910322, -0.6833206555812162 L 0.8031302427401354 ,-0.7516527211393379",
          "type": "path"
         },
         {
          "fillcolor": "rgba(78,141,43,0.25)",
          "layer": "below",
          "line": {
           "color": "rgb(150,150,150)",
           "width": 0.45
          },
          "path": "M 0.8885580409533451, -0.6484324235085362 L 0.9032541357879563, -0.6277993040629725 L 0.9174712067209911, -0.6068332430230965 L 0.9312017139953463, -0.5855453593464209 L 0.9444383758938341, -0.5639469426630639 L 0.9571741726009059, -0.5420494472885027 L 0.96940234992548, -0.5198644861489938 L 0.981116422882901, -0.49740382462287197 L 0.9923101791341278, -0.4746793743010069 L 1.002977682280333, -0.4517031866697113 L 1.0131132750111589, -0.4284874467194627 L 1.0227115821049693, -0.4050444664828183 L 0.9297378019136083, -0.3682222422571075 L 0.9210120681919625, -0.3895340424722388 L 0.9117978929821207, -0.41063926060882844 L 0.902100162849207, -0.4315267039100062 L 0.8919240208026372, -0.45218529511170175 L 0.8812748635686182, -0.4726040783172671 L 0.8701583387280962, -0.49277222480772964 L 0.8585803417216673, -0.5126790387846035 L 0.8465470127230421, -0.5323139630422008 L 0.8340647333827191, -0.5516665845664513 L 0.8211401234435965, -0.5707266400572476 L 0.8077800372303137, -0.5894840213713965 L 0.8885580409533451 ,-0.6484324235085362",
          "type": "path"
         },
         {
          "fillcolor": "rgba(208,144,209,0.25)",
          "layer": "below",
          "line": {
           "color": "rgb(150,150,150)",
           "width": 0.45
          },
          "path": "M 1.034929689828554, -0.3727204543775041 L 1.0421729503896195, -0.35195957363906993 L 1.0489997905141892, -0.3310580606195649 L 1.0554074824057453, -0.31002426692432733 L 1.0613934657465858, -0.288866597014005 L 0.9649031506787142, -0.2626059972854591 L 0.9594613476415866, -0.28184024265847935 L 0.9536361731947174, -0.3009618732905135 L 0.947429954899654, -0.3199632487627908 L 0.9408451725714126, -0.3388367767068219 L 1.034929689828554 ,-0.3727204543775041",
          "type": "path"
         },
         {
          "fillcolor": "rgba(80,159,95,0.25)",
          "layer": "below",
          "line": {
           "color": "rgb(150,150,150)",
           "width": 0.45
          },
          "path": "M 1.0699432512275584, -0.25538488434635664 L 1.081515399678373, -0.20080946257218346 L 1.0903056480458229, -0.14571751383886009 L 1.096291385840336, -0.0902507469901251 L 1.0994572164023046, -0.03455183498594413 L 0.9995065603657315, -0.031410759078131026 L 0.9966285325821236, -0.08204613362738644 L 0.9911869527689299, -0.13247046712623642 L 0.98319581788943, -0.18255405688380313 L 0.972675682934144, -0.23216807667850603 L 1.0699432512275584 ,-0.25538488434635664",
          "type": "path"
         }
        ],
        "showlegend": false,
        "title": "Chord Diagam Attempt",
        "titlefont": {
         "color": "#655643",
         "family": "Merryweather",
         "size": 22
        },
        "width": 760,
        "xaxis": {
         "showgrid": false,
         "showline": false,
         "showticklabels": false,
         "title": "",
         "zeroline": false
        },
        "yaxis": {
         "showgrid": false,
         "showline": false,
         "showticklabels": false,
         "title": "",
         "zeroline": false
        }
       }
      },
      "text/html": [
       "<div id=\"f5a02647-0eb8-40cb-87b5-e5a690fcd0eb\" style=\"height: 760px; width: 760px;\" class=\"plotly-graph-div\"></div><script type=\"text/javascript\">require([\"plotly\"], function(Plotly) { window.PLOTLYENV=window.PLOTLYENV || {};window.PLOTLYENV.BASE_URL=\"https://plot.ly\";Plotly.newPlot(\"f5a02647-0eb8-40cb-87b5-e5a690fcd0eb\", [{\"hoverinfo\": \"text\", \"line\": {\"color\": \"rgba(207,86,188,0.25)\", \"shape\": \"spline\", \"width\": 0.25}, \"mode\": \"lines\", \"text\": \"Excel<br>1378\", \"x\": [1.1, 1.0997682334036993, 1.0990730312798065, 1.0979146865821945, 1.0962936874301499, 1.0942107169026845, 1.0916666527506873, 1.0886625670270482, 1.0851997256349004, 1.0812795877941763, 1.0769038054267022, 1.072074222460088, 1.066792874050708, 1.0610619857260977, 1.054883972447131, 1.0482614375903716, 1.0411971718510233, 1.033694152066952, 1.0257555399642615, 1.0173846808249634, 1.0085851020772956, 0.999360511809286, 0.9897147972061863, 0.9796520229124378, 0.9691764293188537, 0.9582924307757459, 0.9470046137327441, 0.9353177348060951, 0.923236718774254, 0.9107666565026125, 0.8979128027982405, 0.8846805741955422, 0.8710755466737627, 0.8571034533073045, 0.8427701818498451, 0.8280817722532746, 0.8130444141224972, 0.7976644441071696, 0.7819483432314771, 0.7659027341630686, 0.7495343784223066, 0.7328501735330041, 0.7158571501158504, 0.6985624689257514, 0.6809734178343317, 0.6630974087588708, 0.6449419745389664, 0.6265147657622431, 0.607823547540442, 0.5888761962372501, 0.5696806961492502, 0.5502451361413871, 0.5305777062383703, 0.5106866941734483, 0.49058048189600867, 0.47026754203947707, 0.44975643435100143, 0.4290558020844278, 0.4081743683580866, 0.3871209324789243, 0.3659043662345305, 0.3445336101546207, 0.3230176697435532, 0.3013656116854649, 0.2795865600236267, 0.2576896923156283, 0.23568423576601216, 0.2135794633379865, 0.19138468984585613, 0.16910926802981732], \"y\": [0.0, 0.022579477321374077, 0.04514943979073902, 0.06770037656558545, 0.0902227848207139, 0.1127071737526666, 0.13514406857909322, 0.15752401453136566, 0.17983758083875892, 0.2020753647025195, 0.22422799525814674, 0.24628613752421707, 0.2682404963360873, 0.2900818202628197, 0.31180090550567746, 0.3333885997765487, 0.35483580615466426, 0.37613348691998333, 0.3972726673616329, 0.4182444395597958, 0.43903996613945234, 0.4596504839943959, 0.4800673079799515, 0.5002818345728421, 0.52028554549666, 0.5400700113114155, 0.5596268949656515, 0.5789479553096247, 0.5980250505680755, 0.6168501417711214, 0.635415296141829, 0.6537126904390382, 0.6717346142540261, 0.6894734732596269, 0.7069217924104328, 0.7240722190927339, 0.7409175262228621, 0.7574506152926408, 0.7736645193606517, 0.7895524059880611, 0.805107580117767, 0.8203234868956552, 0.8351937144327735, 0.849711996507263, 0.8638722152049045, 0.87766840349717, 0.8910947477556915, 0.9041455902020878, 0.916815431292118, 0.9290989320331543, 0.9409909162340016, 0.9524863726861118, 0.9635804572752759, 0.9742684950229044, 0.9845459820560338, 0.9944085875052312, 1.0038521553295952, 1.0128727060680864, 1.0214664385164482, 1.0296297313290095, 1.0373591445446977, 1.0446514210366173, 1.051503487884584, 1.0579124576700314, 1.0638756296927547, 1.0693904911089667, 1.0744547179901958, 1.079066176302574, 1.0832229228061072, 1.0869232058735427], \"type\": \"scatter\", \"uid\": \"4415e30c-6ab6-4620-8608-fbd1c5eff51b\"}, {\"hoverinfo\": \"text\", \"line\": {\"color\": \"rgba(95,194,80,0.25)\", \"shape\": \"spline\", \"width\": 0.25}, \"mode\": \"lines\", \"text\": \"Tableau<br>803\", \"x\": [0.13488473985832855, 0.11211911243353206, 0.08930484838132892, 0.06645184439851087, 0.04357001398702819, 0.020669283153571458, -0.0022404138962749624, -0.02514913906743347, -0.04804695468642114, -0.0709239278122571, -0.0937701345453135, -0.11657566433224767, -0.13933062426514278, -0.16202514337299362, -0.18464937690367897, -0.20719351059455654, -0.22964776492983577, -0.2520023993828736, -0.274247716641561, -0.2963740668149601, -0.31837185161937115, -0.34023152854201427, -0.36194361498051586, -0.3834986923564065, -0.4048874102008479, -0.4261004902108105, -0.44712873027395017, -0.4679630084604297, -0.48859428697996204, -0.5090136161023492, -0.5292121380398255, -0.549181090789514, -0.5689118119343355, -0.5883957424007117, -0.6076244301714443, -0.6265895339521524, -0.645282826789676, -0.663696199640882, -0.6818216648903207, -0.6996513598152083], \"y\": [1.0916987253603219, 1.0942711293948666, 1.0963688448946312, 1.0979909618826724, 1.099136776693952, 1.0998057922805815, 1.09999771842744, 1.0997124718780664, 1.0989501763707767, 1.0977111625849862, 1.0959959679977633, 1.0938053366506746, 1.091140218827024, 1.0880017706396259, 1.0843913535292888, 1.0803105336742318, 1.0757610813106835, 1.0707449699649654, 1.0652643755973867, 1.0593216756583252, 1.052919448056903, 1.0460604700427047, 1.0387477170010224, 1.03098436116215, 1.0227737702252881, 1.0141195058976566, 1.0050253223494447, 0.9954951645852751, 0.985533166732882, 0.9751436502497519, 0.964331122048499, 0.9531002725417927, 0.9414559736076835, 0.9294032764762106, 0.9169474095382066, 0.9040937760772522, 0.8908479519257624, 0.8772156830462224, 0.8632028830386235, 0.8488156305751738], \"type\": \"scatter\", \"uid\": \"63fdb909-9924-4bfd-a7b2-9bfcab8735d8\"}, {\"hoverinfo\": \"text\", \"line\": {\"color\": \"rgba(134,93,213,0.25)\", \"shape\": \"spline\", \"width\": 0.25}, \"mode\": \"lines\", \"text\": \"Qlik<br>706\", \"x\": [-0.7259680673778519, -0.743075151846116, -0.7598578680578052, -0.7763088899969908, -0.792421036439416, -0.8081872740872531, -0.82360072063929, -0.8386546477952008, -0.8533424841925952, -0.8676578182755582, -0.8815944010934325, -0.8951461490286183, -0.9083071464522051, -0.9210716483062694, -0.9334340826117151, -0.9453890529005636, -0.9569313405716277, -0.9680559071685414, -0.9787578965791567, -0.9890326371553386, -0.9988756437522411, -1.0082826196861694, -1.017249458610173, -1.0257722463065562, -1.0338472623955173, -1.0414709819591736, -1.0486400770802653, -1.0553514182948611, -1.0616020759584381, -1.067389321524733, -1.0727106287368118, -1.0775636747298354, -1.0819463410450398, -1.0858567145544884, -1.0892930882961942], \"y\": [0.8264202109990212, 0.8110729429027157, 0.7953716240542199, 0.7793231084162975, 0.7629344015105637, 0.7462126573594255, 0.7291651753631974, 0.711799397113757, 0.6941229031461292, 0.6761434096294208, 0.6578687649985462, 0.6393069465282187, 0.6204660568506971, 0.6013543204188128, 0.5819800799158216, 0.5623517926136409, 0.5424780266810701, 0.5223674574436012, 0.5020288635964518, 0.48147112337247866, 0.46070321066663517, 0.4397341911186754, 0.41857321815580867, 0.3972295289970296, 0.37571244062087517, 0.3540313456983643, 0.3321957084928935, 0.31021506072888366, 0.28809899743097805, 0.26585717273560683, 0.24349929567675166, 0.221035125947741, 0.1984744696409356, 0.17582717496716044, 0.1531031279567462], \"type\": \"scatter\", \"uid\": \"7627b62f-7a41-4b3f-bf81-293c52eb2651\"}, {\"hoverinfo\": \"text\", \"line\": {\"color\": \"rgba(157,185,53,0.25)\", \"shape\": \"spline\", \"width\": 0.25}, \"mode\": \"lines\", \"text\": \"Hadoop<br>235\", \"x\": [-1.0935646733794515, -1.0983758947946891, -1.0999998770453163, -1.0984319077010467, -1.0936765366553431], \"y\": [0.11881205804333995, 0.05975277176806282, 0.0005200964232733603, -0.05871408812405549, -0.11777789762758537], \"type\": \"scatter\", \"uid\": \"55b1ba7a-07df-4db4-af7b-09d1da0828d9\"}, {\"hoverinfo\": \"text\", \"line\": {\"color\": \"rgba(99,108,195,0.25)\", \"shape\": \"spline\", \"width\": 0.25}, \"mode\": \"lines\", \"text\": \"SSRS/SSIS<br>796\", \"x\": [-1.0894373801379795, -1.0860668535071418, -1.0822336900270662, -1.0779395225278767, -1.0731861802156812, -1.067975687893376, -1.0623102650981315, -1.0561923251559258, -1.0496244741535297, -1.0426095098283785, -1.0351504203768094, -1.027250383181164, -1.0189127634563038, -1.0101411128161173, -1.0009391677606194, -0.9913108480842994, -0.9812602552063876, -0.9707916704237556, -0.9599095530871923, -0.9486185387018332, -0.9369234369525553, -0.9248292296551711, -0.912341068634304, -0.8994642735288401, -0.8862043295258994, -0.8725668850242846, -0.858557749228406, -0.8441828896737095, -0.8294484296846586, -0.8143606457663531, -0.7989259649308973, -0.783150961959657, -0.767042356602571, -0.7506070107157056, -0.7338519253382809, -0.716784237710406, -0.6994112182327961, -0.6817402673697655, -0.6637789124968189, -0.6455348046941832], \"y\": [-0.15207299154713763, -0.17452446737663152, -0.19690160022305592, -0.21919485799711033, -0.2413947443381393, -0.2634918026593442, -0.285476620176045, -0.3073398319152909, -0.32907212470509645, -0.35066424114162004, -0.37210698353257887, -0.3933912178152334, -0.41450787744726697, -0.4354479672688993, -0.4562025673345987, -0.47676283671274894, -0.4971200172516645, -0.5172654373103373, -0.5371905154523366, -0.5568867641012837, -0.5763457931563406, -0.595559313566183, -0.6145191408599219, -0.6332171986334831, -0.6516455219899475, -0.6697962609323952, -0.6876616837078054, -0.7052341801005859, -0.7225062646743307, -0.7394705799604258, -0.7561198995921447, -0.7724471313828952, -0.7884453203473114, -0.8041076516639005, -0.8194274535779836, -0.8343982002436919, -0.849013514503813, -0.8632671706062967, -0.8771530968562675, -0.8906653782024104], \"type\": \"scatter\", \"uid\": \"59cf1be8-9370-47ba-88a6-81175f6c97ce\"}, {\"hoverinfo\": \"text\", \"line\": {\"color\": \"rgba(196,173,64,0.25)\", \"shape\": \"spline\", \"width\": 0.25}, \"mode\": \"lines\", \"text\": \"SQL Server<br>565\", \"x\": [-0.6172397966223017, -0.59814766769232, -0.5787961850533955, -0.5591937394074699, -0.5393488302727337, -0.5192700622982815, -0.49896614153318364, -0.4784458716515833, -0.4577181501354724, -0.4367919644167922, -0.4156763879805243, -0.3943805764304777, -0.37291376351946937, -0.3512852571456118, -0.3295044353164597, -0.3075807420827572, -0.28552368344354195, -0.26334282322439545, -0.24104777893062154, -0.2186482175771404, -0.19615385149692416, -0.17357443412978288, -0.15091975579331812, -0.1281996394378952, -0.10542393638746608, -0.0826025220680808, -0.05974529172595726, -0.036862156136956856], \"y\": [-0.9105026268307302, -0.9231572821758154, -0.9354116613382772, -0.9472604508832251, -0.9586985132373128, -0.9697208889163618, -0.9803227986757664, -0.9904996455827518, -1.0002470170095792, -1.0095606865468365, -1.0184366158359905, -1.026870956320396, -1.0348600509140091, -1.0424004355870835, -1.049488840868154, -1.0561221932616607, -1.0622976165806042, -1.0680124331936427, -1.0732641651860992, -1.0780505354343737, -1.0823694685932908, -1.0862190919959591, -1.0895977364657499, -1.092503937040043, -1.094936433605427, -1.096894171444079, -1.0983763016910828, -1.0993821817024936], \"type\": \"scatter\", \"uid\": \"5a6a41ec-c945-4ff7-8d1b-3d1d65bd0bb3\"}, {\"hoverinfo\": \"text\", \"line\": {\"color\": \"rgba(150,81,158,0.25)\", \"shape\": \"spline\", \"width\": 0.25}, \"mode\": \"lines\", \"text\": \"Power BI<br>508\", \"x\": [-0.0023115380438703957, 0.020711135362150364, 0.04372473556941724, 0.06671918070820033, 0.08968439730028183, 0.11261032467197482, 0.13548691936153665, 0.15830415951904167, 0.1810520492967828, 0.20372062322828163, 0.2262999505939928, 0.24878013977178687, 0.2711513425703007, 0.2934037585432622, 0.31552763928290206, 0.33751329269056873, 0.3593510872226711, 0.3810314561100936, 0.40254490154923755, 0.42388199886285116, 0.445033400628819, 0.4659898407751086, 0.4867421386390813, 0.5072812029893881, 0.5275980360086822], \"y\": [-1.0999975712663514, -1.0998050049313337, -1.0991306325907693, -1.097974749675796, -1.0963378625592046, -1.094220688333607, -1.091624154497289, -1.0885493985478887, -1.084997767484079, -1.08097081721547, -1.0764703118809902, -1.071498223076049, -1.0660567289888112, -1.0601482134459725, -1.053775264868444, -1.0469406751374075, -1.0396474383712415, -1.0318987496138474, -1.0236980034349559, -1.0150487924430205, -1.005954905711359, -0.9964203271182243, -0.9864492336015339, -0.9760459933290231, -0.9652151637846256], \"type\": \"scatter\", \"uid\": \"0a1ddf3e-4854-4ff2-8c2b-e99eb9e73081\"}, {\"hoverinfo\": \"text\", \"line\": {\"color\": \"rgba(67,201,134,0.25)\", \"shape\": \"spline\", \"width\": 0.25}, \"mode\": \"lines\", \"text\": \"Spark<br>273\", \"x\": [0.5576558391949482, 0.5795203986426857, 0.6010725004639086, 0.6223005245006443, 0.6431930253266022, 0.6637387384181592, 0.6839265862278096, 0.703745684156794, 0.7231853464237109, 0.7422350918259198, 0.7608846493906499, 0.7791239639127607], \"y\": [-0.948166633568055, -0.9349631583955716, -0.9212555829877315, -0.9070512980015095, -0.8923579619027407, -0.8771834968369335, -0.8615360843579187, -0.845424161016638, -0.828856413812439, -0.8118417755093468, -0.7943894198198187, -0.776508756458591], \"type\": \"scatter\", \"uid\": \"440b262e-0c8e-40c2-946c-970137aba753\"}, {\"hoverinfo\": \"text\", \"line\": {\"color\": \"rgba(221,77,138,0.25)\", \"shape\": \"spline\", \"width\": 0.25}, \"mode\": \"lines\", \"text\": \"Postgresql<br>116\", \"x\": [0.8031302427401354, 0.819923017400297, 0.8362964211952856, 0.8522420795236194, 0.8677518365653174], \"y\": [-0.7516527211393379, -0.7332981968729996, -0.7145686082497312, -0.6954735350027756, -0.6760227438019515], \"type\": \"scatter\", \"uid\": \"5e4bcdae-5d97-44cf-b1fc-78b9e9d379c3\"}, {\"hoverinfo\": \"text\", \"line\": {\"color\": \"rgba(78,141,43,0.25)\", \"shape\": \"spline\", \"width\": 0.25}, \"mode\": \"lines\", \"text\": \"Informatica<br>271\", \"x\": [0.8885580409533451, 0.9032541357879563, 0.9174712067209911, 0.9312017139953463, 0.9444383758938341, 0.9571741726009059, 0.96940234992548, 0.981116422882901, 0.9923101791341278, 1.002977682280333, 1.0131132750111589, 1.0227115821049693], \"y\": [-0.6484324235085362, -0.6277993040629725, -0.6068332430230965, -0.5855453593464209, -0.5639469426630639, -0.5420494472885027, -0.5198644861489938, -0.49740382462287197, -0.4746793743010069, -0.4517031866697113, -0.4284874467194627, -0.4050444664828183], \"type\": \"scatter\", \"uid\": \"9f4744f9-1ab0-4380-976e-af607bd5b02a\"}, {\"hoverinfo\": \"text\", \"line\": {\"color\": \"rgba(208,144,209,0.25)\", \"shape\": \"spline\", \"width\": 0.25}, \"mode\": \"lines\", \"text\": \"Microstrategy<br>106\", \"x\": [1.034929689828554, 1.0421729503896195, 1.0489997905141892, 1.0554074824057453, 1.0613934657465858], \"y\": [-0.3727204543775041, -0.35195957363906993, -0.3310580606195649, -0.31002426692432733, -0.288866597014005], \"type\": \"scatter\", \"uid\": \"a8d876fd-2582-45d3-b33a-2426b9e36e36\"}, {\"hoverinfo\": \"text\", \"line\": {\"color\": \"rgba(80,159,95,0.25)\", \"shape\": \"spline\", \"width\": 0.25}, \"mode\": \"lines\", \"text\": \"MySQL/MariaDB<br>223\", \"x\": [1.0699432512275584, 1.081515399678373, 1.0903056480458229, 1.096291385840336, 1.0994572164023046], \"y\": [-0.25538488434635664, -0.20080946257218346, -0.14571751383886009, -0.0902507469901251, -0.03455183498594413], \"type\": \"scatter\", \"uid\": \"ae57ff64-3940-46c8-892c-a29bf347d401\"}, {\"hoverinfo\": \"text\", \"marker\": {\"color\": \"green\", \"size\": 0.5}, \"mode\": \"markers\", \"text\": \"Excel appears with Tableau 250 times\", \"x\": [0.5016264791584663], \"y\": [0.7472421798902152], \"type\": \"scatter\", \"uid\": \"465e0b8d-15ed-444d-90a4-d1196c0d1ed8\"}, {\"hoverinfo\": \"text\", \"marker\": {\"color\": \"blue\", \"size\": 0.5}, \"mode\": \"markers\", \"text\": \"Tableau appears with Excel 250 times\", \"x\": [-0.4802899221027854], \"y\": [0.7611317827593986], \"type\": \"scatter\", \"uid\": \"2aef0356-d052-4b1d-a946-848bbe3e3628\"}, {\"hoverinfo\": \"text\", \"marker\": {\"color\": \"green\", \"size\": 0.5}, \"mode\": \"markers\", \"text\": \"Excel appears with Qlik 237 times\", \"x\": [0.6710791797546277], \"y\": [0.5997105422617283], \"type\": \"scatter\", \"uid\": \"895b61ac-c43e-48b7-a7b4-849e2503f562\"}, {\"hoverinfo\": \"text\", \"marker\": {\"color\": \"blue\", \"size\": 0.5}, \"mode\": \"markers\", \"text\": \"Qlik appears with Excel 237 times\", \"x\": [-0.8700112121265288], \"y\": [0.23039203713264111], \"type\": \"scatter\", \"uid\": \"dbf0f01d-42d0-4194-8f18-edd00b82c3d7\"}, {\"hoverinfo\": \"text\", \"marker\": {\"color\": \"green\", \"size\": 0.5}, \"mode\": \"markers\", \"text\": \"Excel appears with Hadoop 50 times\", \"x\": [0.8974674524982533], \"y\": [0.06746978365383699], \"type\": \"scatter\", \"uid\": \"61d6b379-8bda-4e5d-844c-d7559c92adfd\"}, {\"hoverinfo\": \"text\", \"marker\": {\"color\": \"blue\", \"size\": 0.5}, \"mode\": \"markers\", \"text\": \"Hadoop appears with Excel 50 times\", \"x\": [-0.8998908416384218], \"y\": [-0.014016887503752335], \"type\": \"scatter\", \"uid\": \"b4c2138a-9c9e-4d84-8194-f5fdebe75204\"}, {\"hoverinfo\": \"text\", \"marker\": {\"color\": \"green\", \"size\": 0.5}, \"mode\": \"markers\", \"text\": \"Excel appears with SSRS/SSIS 300 times\", \"x\": [0.2732951674135017], \"y\": [0.8575020416701211], \"type\": \"scatter\", \"uid\": \"f0e80c49-78d1-4ebc-9d8d-8370cf636127\"}, {\"hoverinfo\": \"text\", \"marker\": {\"color\": \"blue\", \"size\": 0.5}, \"mode\": \"markers\", \"text\": \"SSRS/SSIS appears with Excel 300 times\", \"x\": [-0.6322137624591473], \"y\": [-0.6405511365669793], \"type\": \"scatter\", \"uid\": \"2817475e-7269-4011-b5bb-6584fac0f151\"}, {\"hoverinfo\": \"text\", \"marker\": {\"color\": \"green\", \"size\": 0.5}, \"mode\": \"markers\", \"text\": \"Excel appears with SQL Server 159 times\", \"x\": [0.7784432041295066], \"y\": [0.45169257016757236], \"type\": \"scatter\", \"uid\": \"dfa1871a-644e-445a-98b2-727e5b89f5b9\"}, {\"hoverinfo\": \"text\", \"marker\": {\"color\": \"blue\", \"size\": 0.5}, \"mode\": \"markers\", \"text\": \"SQL Server appears with Excel 159 times\", \"x\": [-0.10115058112054356], \"y\": [-0.8942978027139373], \"type\": \"scatter\", \"uid\": \"80f01b3b-9f58-499c-b1ce-a42686f7ef89\"}, {\"hoverinfo\": \"text\", \"marker\": {\"color\": \"green\", \"size\": 0.5}, \"mode\": \"markers\", \"text\": \"Excel appears with Power BI 136 times\", \"x\": [0.8377347125552816], \"y\": [0.32893852218905534], \"type\": \"scatter\", \"uid\": \"12de7534-ec30-41d6-84d0-99b45cce5227\"}, {\"hoverinfo\": \"text\", \"marker\": {\"color\": \"blue\", \"size\": 0.5}, \"mode\": \"markers\", \"text\": \"Power BI appears with Excel 136 times\", \"x\": [0.3776328916973269], \"y\": [-0.8169414906272755], \"type\": \"scatter\", \"uid\": \"c92a0ff5-4f9e-4d3f-85ac-6825192f96ea\"}, {\"hoverinfo\": \"text\", \"marker\": {\"color\": \"green\", \"size\": 0.5}, \"mode\": \"markers\", \"text\": \"Excel appears with Spark 55 times\", \"x\": [0.8925217365719288], \"y\": [0.11577974670307623], \"type\": \"scatter\", \"uid\": \"32d16e94-64c5-40d9-84c9-b229b4571a9c\"}, {\"hoverinfo\": \"text\", \"marker\": {\"color\": \"blue\", \"size\": 0.5}, \"mode\": \"markers\", \"text\": \"Spark appears with Excel 55 times\", \"x\": [0.5737006734707271], \"y\": [-0.6934461314761474], \"type\": \"scatter\", \"uid\": \"353d7d18-68bf-4c32-a530-fea70b6dd53c\"}, {\"hoverinfo\": \"text\", \"marker\": {\"color\": \"green\", \"size\": 0.5}, \"mode\": \"markers\", \"text\": \"Excel appears with Postgresql 25 times\", \"x\": [0.8994008657050627], \"y\": [0.03283417075218701], \"type\": \"scatter\", \"uid\": \"32604700-c0fb-4962-a4d0-bb8fda62a982\"}, {\"hoverinfo\": \"text\", \"marker\": {\"color\": \"blue\", \"size\": 0.5}, \"mode\": \"markers\", \"text\": \"Postgresql appears with Excel 25 times\", \"x\": [0.6771254769775441], \"y\": [-0.5928752722351754], \"type\": \"scatter\", \"uid\": \"d870ac8f-5215-4925-a604-f171031a665c\"}, {\"hoverinfo\": \"text\", \"marker\": {\"color\": \"green\", \"size\": 0.5}, \"mode\": \"markers\", \"text\": \"Excel appears with Informatica 79 times\", \"x\": [0.8688990885599749], \"y\": [0.23455143124620872], \"type\": \"scatter\", \"uid\": \"45065766-de1b-4638-9368-d3794c197f00\"}, {\"hoverinfo\": \"text\", \"marker\": {\"color\": \"blue\", \"size\": 0.5}, \"mode\": \"markers\", \"text\": \"Informatica appears with Excel 79 times\", \"x\": [0.8239599934230557], \"y\": [-0.36206343261682494], \"type\": \"scatter\", \"uid\": \"dbbfcabf-263e-4d1d-b898-c9007bda0894\"}, {\"hoverinfo\": \"text\", \"marker\": {\"color\": \"green\", \"size\": 0.5}, \"mode\": \"markers\", \"text\": \"Excel appears with Microstrategy 23 times\", \"x\": [0.8999371209041379], \"y\": [0.01063853461578082], \"type\": \"scatter\", \"uid\": \"c2ce61d8-0eac-4ac2-b7df-488d66fc553a\"}, {\"hoverinfo\": \"text\", \"marker\": {\"color\": \"blue\", \"size\": 0.5}, \"mode\": \"markers\", \"text\": \"Microstrategy appears with Excel 23 times\", \"x\": [0.8619687890325269], \"y\": [-0.25886252477676064], \"type\": \"scatter\", \"uid\": \"eba68dc0-6eec-4b03-9414-949eee3df144\"}, {\"hoverinfo\": \"text\", \"marker\": {\"color\": \"green\", \"size\": 0.5}, \"mode\": \"markers\", \"text\": \"Excel appears with MySQL/MariaDB 64 times\", \"x\": [0.8837762965954639], \"y\": [0.1701160121094038], \"type\": \"scatter\", \"uid\": \"8f2cb022-986e-49bc-9eeb-501d9eb06120\"}, {\"hoverinfo\": \"text\", \"marker\": {\"color\": \"blue\", \"size\": 0.5}, \"mode\": \"markers\", \"text\": \"MySQL/MariaDB appears with Excel 64 times\", \"x\": [0.8983517456204286], \"y\": [-0.05444392657339157], \"type\": \"scatter\", \"uid\": \"1fd378d1-cd35-4433-9aa3-16f519ca6dcd\"}, {\"hoverinfo\": \"text\", \"marker\": {\"color\": \"green\", \"size\": 0.5}, \"mode\": \"markers\", \"text\": \"Tableau appears with Qlik 195 times\", \"x\": [-0.2983060686695301], \"y\": [0.8491251317650006], \"type\": \"scatter\", \"uid\": \"582d23f7-cb35-4c17-9e15-b48bc6269a31\"}, {\"hoverinfo\": \"text\", \"marker\": {\"color\": \"blue\", \"size\": 0.5}, \"mode\": \"markers\", \"text\": \"Qlik appears with Tableau 195 times\", \"x\": [-0.7998638383453157], \"y\": [0.41257464792143805], \"type\": \"scatter\", \"uid\": \"19775fb2-9cdf-4ddf-bd70-2151f7659de6\"}, {\"hoverinfo\": \"text\", \"marker\": {\"color\": \"green\", \"size\": 0.5}, \"mode\": \"markers\", \"text\": \"Tableau appears with Hadoop 29 times\", \"x\": [0.04825184941304551], \"y\": [0.8987056019788798], \"type\": \"scatter\", \"uid\": \"91b77167-270b-49aa-883a-5cc72b649d0d\"}, {\"hoverinfo\": \"text\", \"marker\": {\"color\": \"blue\", \"size\": 0.5}, \"mode\": \"markers\", \"text\": \"Hadoop appears with Tableau 29 times\", \"x\": [-0.8998081697105208], \"y\": [0.01858111197433049], \"type\": \"scatter\", \"uid\": \"bb620d74-d688-4eb9-bc05-adbe55f17dbf\"}, {\"hoverinfo\": \"text\", \"marker\": {\"color\": \"green\", \"size\": 0.5}, \"mode\": \"markers\", \"text\": \"Tableau appears with SSRS/SSIS 81 times\", \"x\": [-0.09720208030130344], \"y\": [0.8947355785845889], \"type\": \"scatter\", \"uid\": \"a923468b-afe5-4256-95ce-2664f81eb407\"}, {\"hoverinfo\": \"text\", \"marker\": {\"color\": \"blue\", \"size\": 0.5}, \"mode\": \"markers\", \"text\": \"SSRS/SSIS appears with Tableau 81 times\", \"x\": [-0.8077514378482288], \"y\": [-0.39691008384030646], \"type\": \"scatter\", \"uid\": \"09136daa-5ead-4308-a992-e1f7f3c64daa\"}, {\"hoverinfo\": \"text\", \"marker\": {\"color\": \"green\", \"size\": 0.5}, \"mode\": \"markers\", \"text\": \"Tableau appears with SQL Server 41 times\", \"x\": [-0.04184140083218889], \"y\": [0.8990268612096082], \"type\": \"scatter\", \"uid\": \"b73c3cd0-c9e6-4488-8709-f1b69234f200\"}, {\"hoverinfo\": \"text\", \"marker\": {\"color\": \"blue\", \"size\": 0.5}, \"mode\": \"markers\", \"text\": \"SQL Server appears with Tableau 41 times\", \"x\": [-0.36380295987214645], \"y\": [-0.8231934197916462], \"type\": \"scatter\", \"uid\": \"0c9cfab5-9059-4f23-b611-fe1c75a9cf9a\"}, {\"hoverinfo\": \"text\", \"marker\": {\"color\": \"green\", \"size\": 0.5}, \"mode\": \"markers\", \"text\": \"Tableau appears with Power BI 89 times\", \"x\": [-0.17368118001952682], \"y\": [0.8830825826087981], \"type\": \"scatter\", \"uid\": \"6c909168-feb7-42ad-acb2-1d402cc0a2de\"}, {\"hoverinfo\": \"text\", \"marker\": {\"color\": \"blue\", \"size\": 0.5}, \"mode\": \"markers\", \"text\": \"Power BI appears with Tableau 89 times\", \"x\": [0.20845666685693373], \"y\": [-0.8755260236240253], \"type\": \"scatter\", \"uid\": \"9bbc8b65-9a0c-492b-a308-4a2032687eb7\"}, {\"hoverinfo\": \"text\", \"marker\": {\"color\": \"green\", \"size\": 0.5}, \"mode\": \"markers\", \"text\": \"Tableau appears with Spark 29 times\", \"x\": [0.021870690319803664], \"y\": [0.8997342234820987], \"type\": \"scatter\", \"uid\": \"f702d60c-bb89-4973-aa03-d746fcecb858\"}, {\"hoverinfo\": \"text\", \"marker\": {\"color\": \"blue\", \"size\": 0.5}, \"mode\": \"markers\", \"text\": \"Spark appears with Tableau 29 times\", \"x\": [0.5222977810739786], \"y\": [-0.732942718010895], \"type\": \"scatter\", \"uid\": \"91f58bd7-28ea-46e6-9099-5680d8111119\"}, {\"hoverinfo\": \"text\", \"marker\": {\"color\": \"green\", \"size\": 0.5}, \"mode\": \"markers\", \"text\": \"Tableau appears with Postgresql 5 times\", \"x\": [0.10810102010603578], \"y\": [0.8934842860688903], \"type\": \"scatter\", \"uid\": \"5cbb0e5b-fc4c-4ccf-af64-78c17a273ff1\"}, {\"hoverinfo\": \"text\", \"marker\": {\"color\": \"blue\", \"size\": 0.5}, \"mode\": \"markers\", \"text\": \"Postgresql appears with Tableau 5 times\", \"x\": [0.6597383806542125], \"y\": [-0.6121644134476926], \"type\": \"scatter\", \"uid\": \"11ae5af3-d91c-46b8-9d43-5dfa5210ed33\"}, {\"hoverinfo\": \"text\", \"marker\": {\"color\": \"green\", \"size\": 0.5}, \"mode\": \"markers\", \"text\": \"Tableau appears with Informatica 35 times\", \"x\": [-0.007260486427172571], \"y\": [0.8999707135995265], \"type\": \"scatter\", \"uid\": \"43b761c0-dda7-4537-9a04-78d0f431d846\"}, {\"hoverinfo\": \"text\", \"marker\": {\"color\": \"blue\", \"size\": 0.5}, \"mode\": \"markers\", \"text\": \"Informatica appears with Tableau 35 times\", \"x\": [0.7594602082360385], \"y\": [-0.48292876504311993], \"type\": \"scatter\", \"uid\": \"dbcebf7b-143b-4f58-bfbf-8bdf67a7f944\"}, {\"hoverinfo\": \"text\", \"marker\": {\"color\": \"green\", \"size\": 0.5}, \"mode\": \"markers\", \"text\": \"Tableau appears with Microstrategy 23 times\", \"x\": [0.09543701240730677], \"y\": [0.8949255704597827], \"type\": \"scatter\", \"uid\": \"4fdf5e19-141d-4fb4-8181-3b5b4b3242f0\"}, {\"hoverinfo\": \"text\", \"marker\": {\"color\": \"blue\", \"size\": 0.5}, \"mode\": \"markers\", \"text\": \"Microstrategy appears with Tableau 23 times\", \"x\": [0.866329957744012], \"y\": [-0.2438696461539615], \"type\": \"scatter\", \"uid\": \"fbe450a4-92b4-4e78-bba6-b9104343abdb\"}, {\"hoverinfo\": \"text\", \"marker\": {\"color\": \"green\", \"size\": 0.5}, \"mode\": \"markers\", \"text\": \"Tableau appears with MySQL/MariaDB 26 times\", \"x\": [0.07323047113794251], \"y\": [0.8970157736054116], \"type\": \"scatter\", \"uid\": \"8f90429e-c9f1-4352-a227-98a3419fc0da\"}, {\"hoverinfo\": \"text\", \"marker\": {\"color\": \"blue\", \"size\": 0.5}, \"mode\": \"markers\", \"text\": \"MySQL/MariaDB appears with Tableau 26 times\", \"x\": [0.884004607406174], \"y\": [-0.16892558741841412], \"type\": \"scatter\", \"uid\": \"6d35f9ba-5446-4812-81e6-7144fee02edc\"}, {\"hoverinfo\": \"text\", \"marker\": {\"color\": \"green\", \"size\": 0.5}, \"mode\": \"markers\", \"text\": \"Qlik appears with Hadoop 8 times\", \"x\": [-0.6007472420262995], \"y\": [0.6701512897829824], \"type\": \"scatter\", \"uid\": \"84d03636-5a3e-4f4d-8d98-e1623ad39f29\"}, {\"hoverinfo\": \"text\", \"marker\": {\"color\": \"blue\", \"size\": 0.5}, \"mode\": \"markers\", \"text\": \"Hadoop appears with Qlik 8 times\", \"x\": [-0.8961413817020633], \"y\": [0.08325036937525863], \"type\": \"scatter\", \"uid\": \"5e5ff5e2-0258-4c26-bb6b-2c74b645db70\"}, {\"hoverinfo\": \"text\", \"marker\": {\"color\": \"green\", \"size\": 0.5}, \"mode\": \"markers\", \"text\": \"Qlik appears with SSRS/SSIS 42 times\", \"x\": [-0.6588903603284537], \"y\": [0.6130770694343741], \"type\": \"scatter\", \"uid\": \"e074b474-a3c6-40c7-8318-0ee25f2fbe40\"}, {\"hoverinfo\": \"text\", \"marker\": {\"color\": \"blue\", \"size\": 0.5}, \"mode\": \"markers\", \"text\": \"SSRS/SSIS appears with Qlik 42 times\", \"x\": [-0.8666245009137858], \"y\": [-0.24282086898767927], \"type\": \"scatter\", \"uid\": \"1ad28010-e1ae-4e80-92b9-7606ae1408fc\"}, {\"hoverinfo\": \"text\", \"marker\": {\"color\": \"green\", \"size\": 0.5}, \"mode\": \"markers\", \"text\": \"Qlik appears with SQL Server 24 times\", \"x\": [-0.6381738976791446], \"y\": [0.6346133281936401], \"type\": \"scatter\", \"uid\": \"155b0c74-87b8-46f7-8d7f-f3ba8b33f3ca\"}, {\"hoverinfo\": \"text\", \"marker\": {\"color\": \"blue\", \"size\": 0.5}, \"mode\": \"markers\", \"text\": \"SQL Server appears with Qlik 24 times\", \"x\": [-0.46120173549162174], \"y\": [-0.772847306509841], \"type\": \"scatter\", \"uid\": \"b80aaa60-15c7-4d32-b0f2-06a03cbf1ac5\"}, {\"hoverinfo\": \"text\", \"marker\": {\"color\": \"green\", \"size\": 0.5}, \"mode\": \"markers\", \"text\": \"Qlik appears with Power BI 89 times\", \"x\": [-0.7329646170450514], \"y\": [0.5222670487020995], \"type\": \"scatter\", \"uid\": \"4cbd63fd-173d-409c-a24c-673f271d00aa\"}, {\"hoverinfo\": \"text\", \"marker\": {\"color\": \"blue\", \"size\": 0.5}, \"mode\": \"markers\", \"text\": \"Power BI appears with Qlik 89 times\", \"x\": [0.28460403319045485], \"y\": [-0.8538152869864339], \"type\": \"scatter\", \"uid\": \"319c4b3a-6fa2-43e4-b8d9-faf35755e42d\"}, {\"hoverinfo\": \"text\", \"marker\": {\"color\": \"green\", \"size\": 0.5}, \"mode\": \"markers\", \"text\": \"Qlik appears with Spark 14 times\", \"x\": [-0.6147725310524506], \"y\": [0.6573087060608309], \"type\": \"scatter\", \"uid\": \"d124cbfe-7020-43b7-805f-cfb604e5c052\"}, {\"hoverinfo\": \"text\", \"marker\": {\"color\": \"blue\", \"size\": 0.5}, \"mode\": \"markers\", \"text\": \"Spark appears with Qlik 14 times\", \"x\": [0.4699818388616788], \"y\": [-0.7675396218699039], \"type\": \"scatter\", \"uid\": \"21aa8b01-46bc-4ba4-8327-868558012e45\"}, {\"hoverinfo\": \"text\", \"marker\": {\"color\": \"green\", \"size\": 0.5}, \"mode\": \"markers\", \"text\": \"Qlik appears with Postgresql 6 times\", \"x\": [-0.5960122295098025], \"y\": [0.6743659409213625], \"type\": \"scatter\", \"uid\": \"020682b0-623c-400c-b826-6e62c48135e4\"}, {\"hoverinfo\": \"text\", \"marker\": {\"color\": \"blue\", \"size\": 0.5}, \"mode\": \"markers\", \"text\": \"Postgresql appears with Qlik 6 times\", \"x\": [0.664729015409033], \"y\": [-0.6067415727254377], \"type\": \"scatter\", \"uid\": \"e7ee3dbe-1191-42bf-9f7b-bbcc7ce3c3ad\"}, {\"hoverinfo\": \"text\", \"marker\": {\"color\": \"green\", \"size\": 0.5}, \"mode\": \"markers\", \"text\": \"Qlik appears with Informatica 64 times\", \"x\": [-0.690632750252847], \"y\": [0.5770843996142928], \"type\": \"scatter\", \"uid\": \"3ad2cc43-bdbf-4d99-b2d6-b47b6154fab5\"}, {\"hoverinfo\": \"text\", \"marker\": {\"color\": \"blue\", \"size\": 0.5}, \"mode\": \"markers\", \"text\": \"Informatica appears with Qlik 64 times\", \"x\": [0.7979393427972199], \"y\": [-0.41628452435364544], \"type\": \"scatter\", \"uid\": \"dfbaf968-2851-4625-b892-d78f7b19854b\"}, {\"hoverinfo\": \"text\", \"marker\": {\"color\": \"green\", \"size\": 0.5}, \"mode\": \"markers\", \"text\": \"Qlik appears with Microstrategy 17 times\", \"x\": [-0.624948815269403], \"y\": [0.6476410875580467], \"type\": \"scatter\", \"uid\": \"ac8dadb6-29a0-4a74-84c2-45bf0fd87cdb\"}, {\"hoverinfo\": \"text\", \"marker\": {\"color\": \"blue\", \"size\": 0.5}, \"mode\": \"markers\", \"text\": \"Microstrategy appears with Qlik 17 times\", \"x\": [0.857965526121474], \"y\": [-0.2718366347406148], \"type\": \"scatter\", \"uid\": \"44bfa4f5-4ed2-401f-a709-013a1cd77c06\"}, {\"hoverinfo\": \"text\", \"marker\": {\"color\": \"green\", \"size\": 0.5}, \"mode\": \"markers\", \"text\": \"Qlik appears with MySQL/MariaDB 10 times\", \"x\": [-0.6067912908066259], \"y\": [0.6646836310615968], \"type\": \"scatter\", \"uid\": \"500f5510-6445-4182-a743-a6ee6ab87872\"}, {\"hoverinfo\": \"text\", \"marker\": {\"color\": \"blue\", \"size\": 0.5}, \"mode\": \"markers\", \"text\": \"MySQL/MariaDB appears with Qlik 10 times\", \"x\": [0.8779985452210664], \"y\": [-0.1977841110647949], \"type\": \"scatter\", \"uid\": \"af34fc98-61bd-4fee-b0a6-59b8a2f663eb\"}, {\"hoverinfo\": \"text\", \"marker\": {\"color\": \"green\", \"size\": 0.5}, \"mode\": \"markers\", \"text\": \"Hadoop appears with SSRS/SSIS 26 times\", \"x\": [-0.8990535441741934], \"y\": [0.04126408496285638], \"type\": \"scatter\", \"uid\": \"4fe4e588-30ed-407a-9836-d8bbf0d1cdae\"}, {\"hoverinfo\": \"text\", \"marker\": {\"color\": \"blue\", \"size\": 0.5}, \"mode\": \"markers\", \"text\": \"SSRS/SSIS appears with Hadoop 26 times\", \"x\": [-0.8862387188737052], \"y\": [-0.1567830767943209], \"type\": \"scatter\", \"uid\": \"3d322a5c-9e03-4413-a2f5-2e71cbbb5a02\"}, {\"hoverinfo\": \"text\", \"marker\": {\"color\": \"green\", \"size\": 0.5}, \"mode\": \"markers\", \"text\": \"Hadoop appears with SQL Server 20 times\", \"x\": [-0.8979833312719712], \"y\": [0.06021575174066493], \"type\": \"scatter\", \"uid\": \"bea6c42a-71d5-4d77-bfd2-07c53ad0db53\"}, {\"hoverinfo\": \"text\", \"marker\": {\"color\": \"blue\", \"size\": 0.5}, \"mode\": \"markers\", \"text\": \"SQL Server appears with Hadoop 20 times\", \"x\": [-0.47800913739659406], \"y\": [-0.7625662361823818], \"type\": \"scatter\", \"uid\": \"f9900005-8dfa-4004-8a16-b43721d6c074\"}, {\"hoverinfo\": \"text\", \"marker\": {\"color\": \"green\", \"size\": 0.5}, \"mode\": \"markers\", \"text\": \"Hadoop appears with Power BI 14 times\", \"x\": [-0.8969355365385826], \"y\": [0.07420676043491638], \"type\": \"scatter\", \"uid\": \"55a288d3-394e-4053-854a-17f1d7d95ed2\"}, {\"hoverinfo\": \"text\", \"marker\": {\"color\": \"blue\", \"size\": 0.5}, \"mode\": \"markers\", \"text\": \"Power BI appears with Hadoop 14 times\", \"x\": [0.021246032107129872], \"y\": [-0.8997491906746584], \"type\": \"scatter\", \"uid\": \"365c4764-1f50-4d5f-8837-4599d3a412bc\"}, {\"hoverinfo\": \"text\", \"marker\": {\"color\": \"green\", \"size\": 0.5}, \"mode\": \"markers\", \"text\": \"Hadoop appears with Spark 75 times\", \"x\": [-0.8976103352706833], \"y\": [-0.06554148316334775], \"type\": \"scatter\", \"uid\": \"deef741d-c1be-4291-93d3-e6c3d7ca3323\"}, {\"hoverinfo\": \"text\", \"marker\": {\"color\": \"blue\", \"size\": 0.5}, \"mode\": \"markers\", \"text\": \"Spark appears with Hadoop 75 times\", \"x\": [0.6147863659595616], \"y\": [-0.6572957661739774], \"type\": \"scatter\", \"uid\": \"f432edd8-b348-4f33-a3ac-882ba61ea527\"}, {\"hoverinfo\": \"text\", \"marker\": {\"color\": \"green\", \"size\": 0.5}, \"mode\": \"markers\", \"text\": \"Hadoop appears with Postgresql 3 times\", \"x\": [-0.8948676006465776], \"y\": [0.09597904621862781], \"type\": \"scatter\", \"uid\": \"fa093e71-430e-414e-9eed-8ca40aafb8d4\"}, {\"hoverinfo\": \"text\", \"marker\": {\"color\": \"blue\", \"size\": 0.5}, \"mode\": \"markers\", \"text\": \"Postgresql appears with Hadoop 3 times\", \"x\": [0.6578255318994164], \"y\": [-0.6142194799753993], \"type\": \"scatter\", \"uid\": \"3aff6838-3b5b-49dc-85ce-6b18db45c01d\"}, {\"hoverinfo\": \"text\", \"marker\": {\"color\": \"green\", \"size\": 0.5}, \"mode\": \"markers\", \"text\": \"Hadoop appears with Informatica 4 times\", \"x\": [-0.895669768533224], \"y\": [0.0881797354024215], \"type\": \"scatter\", \"uid\": \"7022f749-6287-46e0-a39c-c65e342c5e4e\"}, {\"hoverinfo\": \"text\", \"marker\": {\"color\": \"blue\", \"size\": 0.5}, \"mode\": \"markers\", \"text\": \"Informatica appears with Hadoop 4 times\", \"x\": [0.7284869655454403], \"y\": [-0.5284947880825283], \"type\": \"scatter\", \"uid\": \"9589a887-7b9b-4683-8954-7a949d606273\"}, {\"hoverinfo\": \"text\", \"marker\": {\"color\": \"green\", \"size\": 0.5}, \"mode\": \"markers\", \"text\": \"Hadoop appears with Microstrategy 3 times\", \"x\": [-0.8951282567259863], \"y\": [0.09351686484638427], \"type\": \"scatter\", \"uid\": \"224d5d51-303f-46a3-99cd-7e5e0a8a2ba1\"}, {\"hoverinfo\": \"text\", \"marker\": {\"color\": \"blue\", \"size\": 0.5}, \"mode\": \"markers\", \"text\": \"Microstrategy appears with Hadoop 3 times\", \"x\": [0.8471051630095191], \"y\": [-0.30399480719679434], \"type\": \"scatter\", \"uid\": \"00801463-cbfd-4d76-8c03-c2f60efe9fe6\"}, {\"hoverinfo\": \"text\", \"marker\": {\"color\": \"green\", \"size\": 0.5}, \"mode\": \"markers\", \"text\": \"Hadoop appears with MySQL/MariaDB 3 times\", \"x\": [-0.8953821382551637], \"y\": [0.09105397571556693], \"type\": \"scatter\", \"uid\": \"a89479c4-a7d0-412f-a18a-7b291c226d59\"}, {\"hoverinfo\": \"text\", \"marker\": {\"color\": \"blue\", \"size\": 0.5}, \"mode\": \"markers\", \"text\": \"MySQL/MariaDB appears with Hadoop 3 times\", \"x\": [0.8758811205122227], \"y\": [-0.2069595678635161], \"type\": \"scatter\", \"uid\": \"84c0edc1-9587-43ce-ab93-17ca236c8465\"}, {\"hoverinfo\": \"text\", \"marker\": {\"color\": \"green\", \"size\": 0.5}, \"mode\": \"markers\", \"text\": \"SSRS/SSIS appears with SQL Server 141 times\", \"x\": [-0.7582098063803507], \"y\": [-0.4848895642398081], \"type\": \"scatter\", \"uid\": \"48316b6a-8678-4105-8a95-07f508bc6b70\"}, {\"hoverinfo\": \"text\", \"marker\": {\"color\": \"blue\", \"size\": 0.5}, \"mode\": \"markers\", \"text\": \"SQL Server appears with SSRS/SSIS 141 times\", \"x\": [-0.23301762191564385], \"y\": [-0.8693116747615771], \"type\": \"scatter\", \"uid\": \"7f81e30b-93e9-4133-af75-05be0644f9a8\"}, {\"hoverinfo\": \"text\", \"marker\": {\"color\": \"green\", \"size\": 0.5}, \"mode\": \"markers\", \"text\": \"SSRS/SSIS appears with Power BI 78 times\", \"x\": [-0.8370170112172082], \"y\": [-0.3307605220291747], \"type\": \"scatter\", \"uid\": \"a3406a4c-105f-43ae-8c55-f19df76431fe\"}, {\"hoverinfo\": \"text\", \"marker\": {\"color\": \"blue\", \"size\": 0.5}, \"mode\": \"markers\", \"text\": \"Power BI appears with SSRS/SSIS 78 times\", \"x\": [0.13553675006210586], \"y\": [-0.8897357975166573], \"type\": \"scatter\", \"uid\": \"32b9164d-0576-4e1e-9665-642b2d2629b2\"}, {\"hoverinfo\": \"text\", \"marker\": {\"color\": \"green\", \"size\": 0.5}, \"mode\": \"markers\", \"text\": \"SSRS/SSIS appears with Spark 35 times\", \"x\": [-0.8754190217489316], \"y\": [-0.20890556804485505], \"type\": \"scatter\", \"uid\": \"872cb1d5-d440-4103-b055-943a745baf4b\"}, {\"hoverinfo\": \"text\", \"marker\": {\"color\": \"blue\", \"size\": 0.5}, \"mode\": \"markers\", \"text\": \"Spark appears with SSRS/SSIS 35 times\", \"x\": [0.5440046897807708], \"y\": [-0.7169790077097985], \"type\": \"scatter\", \"uid\": \"4fab92ee-d421-4b83-b0c7-1301b5c455a7\"}, {\"hoverinfo\": \"text\", \"marker\": {\"color\": \"green\", \"size\": 0.5}, \"mode\": \"markers\", \"text\": \"SSRS/SSIS appears with Postgresql 11 times\", \"x\": [-0.8906520584420118], \"y\": [-0.1293789426182148], \"type\": \"scatter\", \"uid\": \"2f8f70f7-ebdd-482c-b2f5-06a5df42ad21\"}, {\"hoverinfo\": \"text\", \"marker\": {\"color\": \"blue\", \"size\": 0.5}, \"mode\": \"markers\", \"text\": \"Postgresql appears with SSRS/SSIS 11 times\", \"x\": [0.6687364223474497], \"y\": [-0.6023218387423235], \"type\": \"scatter\", \"uid\": \"9f14e65e-069e-45f0-9314-756dbce93cfb\"}, {\"hoverinfo\": \"text\", \"marker\": {\"color\": \"green\", \"size\": 0.5}, \"mode\": \"markers\", \"text\": \"SSRS/SSIS appears with Informatica 42 times\", \"x\": [-0.8555330554667698], \"y\": [-0.2793979080159567], \"type\": \"scatter\", \"uid\": \"cf9cb5e3-1738-4e49-a2d2-e93d6ea9c1fd\"}, {\"hoverinfo\": \"text\", \"marker\": {\"color\": \"blue\", \"size\": 0.5}, \"mode\": \"markers\", \"text\": \"Informatica appears with SSRS/SSIS 42 times\", \"x\": [0.7763447112744299], \"y\": [-0.45528989586440655], \"type\": \"scatter\", \"uid\": \"51a98763-4a98-41d9-8345-07ac5bd3a3b3\"}, {\"hoverinfo\": \"text\", \"marker\": {\"color\": \"green\", \"size\": 0.5}, \"mode\": \"markers\", \"text\": \"SSRS/SSIS appears with Microstrategy 12 times\", \"x\": [-0.8890872977450979], \"y\": [-0.13972750977642096], \"type\": \"scatter\", \"uid\": \"7ca2319d-bde2-4166-b941-9fb3d2761c70\"}, {\"hoverinfo\": \"text\", \"marker\": {\"color\": \"blue\", \"size\": 0.5}, \"mode\": \"markers\", \"text\": \"Microstrategy appears with SSRS/SSIS 12 times\", \"x\": [0.8549410014891035], \"y\": [-0.281204345579525], \"type\": \"scatter\", \"uid\": \"2b04ad7b-83bb-4301-a23a-6d9dd110e93e\"}, {\"hoverinfo\": \"text\", \"marker\": {\"color\": \"green\", \"size\": 0.5}, \"mode\": \"markers\", \"text\": \"SSRS/SSIS appears with MySQL/MariaDB 28 times\", \"x\": [-0.8816282469634854], \"y\": [-0.18091886069752824], \"type\": \"scatter\", \"uid\": \"6c2f8556-4ff0-44ec-8956-abe24bd8fd56\"}, {\"hoverinfo\": \"text\", \"marker\": {\"color\": \"blue\", \"size\": 0.5}, \"mode\": \"markers\", \"text\": \"MySQL/MariaDB appears with SSRS/SSIS 28 times\", \"x\": [0.887887164741487], \"y\": [-0.147161077351736], \"type\": \"scatter\", \"uid\": \"80e50b23-2be4-444a-9a03-ef37ff881881\"}, {\"hoverinfo\": \"text\", \"marker\": {\"color\": \"green\", \"size\": 0.5}, \"mode\": \"markers\", \"text\": \"SQL Server appears with Power BI 64 times\", \"x\": [-0.3203204358480227], \"y\": [-0.8410676657547433], \"type\": \"scatter\", \"uid\": \"dae47c18-21f9-48ad-a902-dbcf2172ca91\"}, {\"hoverinfo\": \"text\", \"marker\": {\"color\": \"blue\", \"size\": 0.5}, \"mode\": \"markers\", \"text\": \"Power BI appears with SQL Server 64 times\", \"x\": [0.07278678811023903], \"y\": [-0.8970518844953146], \"type\": \"scatter\", \"uid\": \"0c669c81-aafa-4e88-b172-10c2eb845310\"}, {\"hoverinfo\": \"text\", \"marker\": {\"color\": \"green\", \"size\": 0.5}, \"mode\": \"markers\", \"text\": \"SQL Server appears with Spark 16 times\", \"x\": [-0.4915906147008979], \"y\": [-0.7538823963576768], \"type\": \"scatter\", \"uid\": \"d93a62e2-a154-445d-bcd9-34873c222f80\"}, {\"hoverinfo\": \"text\", \"marker\": {\"color\": \"blue\", \"size\": 0.5}, \"mode\": \"markers\", \"text\": \"Spark appears with SQL Server 16 times\", \"x\": [0.48070712001627824], \"y\": [-0.7608683623108898], \"type\": \"scatter\", \"uid\": \"a34789f1-5117-476d-80a2-8b2b992ff95c\"}, {\"hoverinfo\": \"text\", \"marker\": {\"color\": \"green\", \"size\": 0.5}, \"mode\": \"markers\", \"text\": \"SQL Server appears with Postgresql 26 times\", \"x\": [-0.4418345696426977], \"y\": [-0.7840804888968046], \"type\": \"scatter\", \"uid\": \"2b4a6156-3e42-40c2-a938-b4dbe64ed0ed\"}, {\"hoverinfo\": \"text\", \"marker\": {\"color\": \"blue\", \"size\": 0.5}, \"mode\": \"markers\", \"text\": \"Postgresql appears with SQL Server 26 times\", \"x\": [0.6887811764759523], \"y\": [-0.5792930958784189], \"type\": \"scatter\", \"uid\": \"87432cbd-0d07-4b3e-a314-a5695a542769\"}, {\"hoverinfo\": \"text\", \"marker\": {\"color\": \"green\", \"size\": 0.5}, \"mode\": \"markers\", \"text\": \"SQL Server appears with Informatica 31 times\", \"x\": [-0.41942315936865804], \"y\": [-0.7962940495729033], \"type\": \"scatter\", \"uid\": \"79a2c1f3-1763-47a3-8a04-a0bf79a997f2\"}, {\"hoverinfo\": \"text\", \"marker\": {\"color\": \"blue\", \"size\": 0.5}, \"mode\": \"markers\", \"text\": \"Informatica appears with SQL Server 31 times\", \"x\": [0.7442040946699504], \"y\": [-0.5061227770773407], \"type\": \"scatter\", \"uid\": \"176d1f90-bec8-49ee-b865-ac796a2de9b2\"}, {\"hoverinfo\": \"text\", \"marker\": {\"color\": \"green\", \"size\": 0.5}, \"mode\": \"markers\", \"text\": \"SQL Server appears with Microstrategy 10 times\", \"x\": [-0.501301624535399], \"y\": [-0.7474601536123313], \"type\": \"scatter\", \"uid\": \"0767ff98-760a-47f1-acc8-071303959c4a\"}, {\"hoverinfo\": \"text\", \"marker\": {\"color\": \"blue\", \"size\": 0.5}, \"mode\": \"markers\", \"text\": \"Microstrategy appears with SQL Server 10 times\", \"x\": [0.8525782886960754], \"y\": [-0.28828850418299984], \"type\": \"scatter\", \"uid\": \"fa78036f-782a-42d9-b859-fda5a3c6dd77\"}, {\"hoverinfo\": \"text\", \"marker\": {\"color\": \"green\", \"size\": 0.5}, \"mode\": \"markers\", \"text\": \"SQL Server appears with MySQL/MariaDB 33 times\", \"x\": [-0.3938583576356691], \"y\": [-0.8092438409531044], \"type\": \"scatter\", \"uid\": \"7c8aeb41-e496-4401-b0d1-8dd7334f3a9a\"}, {\"hoverinfo\": \"text\", \"marker\": {\"color\": \"blue\", \"size\": 0.5}, \"mode\": \"markers\", \"text\": \"MySQL/MariaDB appears with SQL Server 33 times\", \"x\": [0.891628462978934], \"y\": [-0.12246911449758978], \"type\": \"scatter\", \"uid\": \"55003fbc-70ff-4287-b88a-27daf1401f26\"}, {\"hoverinfo\": \"text\", \"marker\": {\"color\": \"green\", \"size\": 0.5}, \"mode\": \"markers\", \"text\": \"Power BI appears with Spark 19 times\", \"x\": [0.03592299455837602], \"y\": [-0.899282791151904], \"type\": \"scatter\", \"uid\": \"3a873739-4dfc-4f0d-866a-f3b44e4f367b\"}, {\"hoverinfo\": \"text\", \"marker\": {\"color\": \"blue\", \"size\": 0.5}, \"mode\": \"markers\", \"text\": \"Spark appears with Power BI 19 times\", \"x\": [0.5057092942476178], \"y\": [-0.7444851306181852], \"type\": \"scatter\", \"uid\": \"755b1353-2e59-4c8b-b597-94cbf3991bcf\"}, {\"hoverinfo\": \"text\", \"marker\": {\"color\": \"green\", \"size\": 0.5}, \"mode\": \"markers\", \"text\": \"Power BI appears with Informatica 5 times\", \"x\": [0.00033366959631082513], \"y\": [-0.8999999381469982], \"type\": \"scatter\", \"uid\": \"6f43523d-7446-4833-92f3-677e5e4b408c\"}, {\"hoverinfo\": \"text\", \"marker\": {\"color\": \"blue\", \"size\": 0.5}, \"mode\": \"markers\", \"text\": \"Informatica appears with Power BI 5 times\", \"x\": [0.7326631228748715], \"y\": [-0.522689916087197], \"type\": \"scatter\", \"uid\": \"c37368b1-0eb6-4f60-906f-34df7d9d7155\"}, {\"hoverinfo\": \"text\", \"marker\": {\"color\": \"green\", \"size\": 0.5}, \"mode\": \"markers\", \"text\": \"Power BI appears with Microstrategy 9 times\", \"x\": [0.011013055838793714], \"y\": [-0.8999326155891293], \"type\": \"scatter\", \"uid\": \"0cf5794d-9ec4-45c7-bf4a-e69ec49abba5\"}, {\"hoverinfo\": \"text\", \"marker\": {\"color\": \"blue\", \"size\": 0.5}, \"mode\": \"markers\", \"text\": \"Microstrategy appears with Power BI 9 times\", \"x\": [0.8504905196614179], \"y\": [-0.2943906859363105], \"type\": \"scatter\", \"uid\": \"47c7b938-a718-4bac-a2aa-1fdef9a5e0cf\"}, {\"hoverinfo\": \"text\", \"marker\": {\"color\": \"green\", \"size\": 0.5}, \"mode\": \"markers\", \"text\": \"Power BI appears with MySQL/MariaDB 5 times\", \"x\": [0.004783505872719635], \"y\": [-0.8999872877277576], \"type\": \"scatter\", \"uid\": \"30c898f3-c0c9-44a7-8b09-4521a202f17e\"}, {\"hoverinfo\": \"text\", \"marker\": {\"color\": \"blue\", \"size\": 0.5}, \"mode\": \"markers\", \"text\": \"MySQL/MariaDB appears with Power BI 5 times\", \"x\": [0.8766285034815255], \"y\": [-0.20377062321085668], \"type\": \"scatter\", \"uid\": \"995f3a0b-c6a8-4142-8aba-ff9ffb0fdcf6\"}, {\"hoverinfo\": \"text\", \"marker\": {\"color\": \"green\", \"size\": 0.5}, \"mode\": \"markers\", \"text\": \"Spark appears with Postgresql 5 times\", \"x\": [0.46314114853332], \"y\": [-0.7716866440047004], \"type\": \"scatter\", \"uid\": \"0c31b8fa-5a5d-49f0-806c-b95ce1bc54f4\"}, {\"hoverinfo\": \"text\", \"marker\": {\"color\": \"blue\", \"size\": 0.5}, \"mode\": \"markers\", \"text\": \"Postgresql appears with Spark 5 times\", \"x\": [0.6621204112131807], \"y\": [-0.6095872054553708], \"type\": \"scatter\", \"uid\": \"94d8d47b-8146-46c0-b1bb-ee7df05d00f1\"}, {\"hoverinfo\": \"text\", \"marker\": {\"color\": \"green\", \"size\": 0.5}, \"mode\": \"markers\", \"text\": \"Spark appears with Informatica 4 times\", \"x\": [0.4598880173872139], \"y\": [-0.7736297638170714], \"type\": \"scatter\", \"uid\": \"38b87a4e-be85-40af-8c6e-c7cb62c5053c\"}, {\"hoverinfo\": \"text\", \"marker\": {\"color\": \"blue\", \"size\": 0.5}, \"mode\": \"markers\", \"text\": \"Informatica appears with Spark 4 times\", \"x\": [0.7304579611728886], \"y\": [-0.5257672174633437], \"type\": \"scatter\", \"uid\": \"1b1d871b-97af-4edd-8b93-e467bf0e5f7c\"}, {\"hoverinfo\": \"text\", \"marker\": {\"color\": \"green\", \"size\": 0.5}, \"mode\": \"markers\", \"text\": \"Spark appears with Microstrategy 3 times\", \"x\": [0.457352165178985], \"y\": [-0.7751315997984435], \"type\": \"scatter\", \"uid\": \"65244e54-2bd1-4ce2-9f2a-9e0fa6d02a9b\"}, {\"hoverinfo\": \"text\", \"marker\": {\"color\": \"blue\", \"size\": 0.5}, \"mode\": \"markers\", \"text\": \"Microstrategy appears with Spark 3 times\", \"x\": [0.8477909244214185], \"y\": [-0.30207705717031336], \"type\": \"scatter\", \"uid\": \"9f0597bd-b5a2-4723-ad4c-2ca0e5c30daa\"}, {\"hoverinfo\": \"text\", \"marker\": {\"color\": \"green\", \"size\": 0.5}, \"mode\": \"markers\", \"text\": \"Spark appears with MySQL/MariaDB 18 times\", \"x\": [0.4927478684238664], \"y\": [-0.7531265087378987], \"type\": \"scatter\", \"uid\": \"667220e2-3b14-4b80-8826-e55cd3e79241\"}, {\"hoverinfo\": \"text\", \"marker\": {\"color\": \"blue\", \"size\": 0.5}, \"mode\": \"markers\", \"text\": \"MySQL/MariaDB appears with Spark 18 times\", \"x\": [0.8804465278571529], \"y\": [-0.18658486429580454], \"type\": \"scatter\", \"uid\": \"263a68f9-d5f0-4a4f-a4d0-625dbc2bec46\"}, {\"hoverinfo\": \"text\", \"marker\": {\"color\": \"green\", \"size\": 0.5}, \"mode\": \"markers\", \"text\": \"Postgresql appears with MySQL/MariaDB 35 times\", \"x\": [0.7023641748090956], \"y\": [-0.5627473375723231], \"type\": \"scatter\", \"uid\": \"56e2c195-f4c3-43f2-8265-5b40f106e6b1\"}, {\"hoverinfo\": \"text\", \"marker\": {\"color\": \"blue\", \"size\": 0.5}, \"mode\": \"markers\", \"text\": \"MySQL/MariaDB appears with Postgresql 35 times\", \"x\": [0.8949897400414979], \"y\": [-0.09483335499945146], \"type\": \"scatter\", \"uid\": \"69fc8fb7-2e0d-4ce7-a52f-7f4d4f591f20\"}, {\"hoverinfo\": \"text\", \"marker\": {\"color\": \"green\", \"size\": 0.5}, \"mode\": \"markers\", \"text\": \"Informatica appears with Microstrategy 6 times\", \"x\": [0.7353407110542232], \"y\": [-0.518916215458979], \"type\": \"scatter\", \"uid\": \"4c0c143e-faaa-4238-8818-911399dddb25\"}, {\"hoverinfo\": \"text\", \"marker\": {\"color\": \"blue\", \"size\": 0.5}, \"mode\": \"markers\", \"text\": \"Microstrategy appears with Informatica 6 times\", \"x\": [0.8488114250185653], \"y\": [-0.2991975346789348], \"type\": \"scatter\", \"uid\": \"1b608fa4-d198-4d81-beb7-2d7843d40c43\"}, {\"hoverinfo\": \"text\", \"marker\": {\"color\": \"green\", \"size\": 0.5}, \"mode\": \"markers\", \"text\": \"Informatica appears with MySQL/MariaDB 1 times\", \"x\": [0.7272499195310316], \"y\": [-0.5301957700152917], \"type\": \"scatter\", \"uid\": \"5594a89e-73af-4714-924f-d188ddeb1662\"}, {\"hoverinfo\": \"text\", \"marker\": {\"color\": \"blue\", \"size\": 0.5}, \"mode\": \"markers\", \"text\": \"MySQL/MariaDB appears with Informatica 1 times\", \"x\": [0.8755030782138973], \"y\": [-0.20855301493383038], \"type\": \"scatter\", \"uid\": \"9a01819f-a9af-4cd6-88d0-ca439de03c3c\"}], {\"font\": {\"color\": \"#655643\", \"family\": \"Fira Sans Condensed\", \"size\": 12}, \"height\": 760, \"hoverdistance\": 10, \"hovermode\": \"closest\", \"paper_bgcolor\": \"#fffaf0\", \"plot_bgcolor\": \"#fffaf0\", \"shapes\": [{\"fillcolor\": \"rgba(207,86,188,0.25)\", \"layer\": \"below\", \"line\": {\"color\": \"rgb(175,175,175)\", \"width\": 0.5}, \"path\": \"M 0.6591543903904595,0.752007639342169 Q 0.003032838003584651, 0.1999770034120024 -0.6360466907410981, 0.7716505732501583L -0.6360466907410981, 0.7716505732501583 L -0.5336554690030949, 0.8457019808437762 L -0.4227430644705347, 0.9062495801058675 M -0.4227430644705347,0.9062495801058675 Q 0.0026247541208278893, 0.19998277592284092 0.4463822182264746, 0.8948423968784738L 0.4463822182264746, 0.8948423968784738 L 0.557362754620518, 0.8302690887669059 L 0.6591543903904595, 0.752007639342169 \", \"type\": \"path\"}, {\"fillcolor\": \"rgba(207,86,188,0.25)\", \"layer\": \"below\", \"line\": {\"color\": \"rgb(175,175,175)\", \"width\": 0.5}, \"path\": \"M 0.8210833931747102,0.5708082527895898 Q -0.04635966231236144, 0.19455277358671558 -0.990266443905631, 0.1391846617788606L -0.990266443905631, 0.1391846617788606 L -0.9666791245850319, 0.25599115236960124 L -0.9293648477462287, 0.3691625384212611 M -0.9293648477462287,0.3691625384212611 Q -0.046859797541555184, 0.19443291741463034 0.6591543903904595, 0.752007639342169L 0.6591543903904595, 0.752007639342169 L 0.7456435330606974, 0.6663450469574759 L 0.8210833931747102, 0.5708082527895898 \", \"type\": \"path\"}, {\"fillcolor\": \"rgba(207,86,188,0.25)\", \"layer\": \"below\", \"line\": {\"color\": \"rgb(175,175,175)\", \"width\": 0.5}, \"path\": \"M 0.9987830645971619,0.04931926473399139 Q -0.008781137002480385, 0.19980713609114084 -0.999258953976774, -0.03849081575185842L -0.999258953976774, -0.03849081575185842 L -0.9998787129315798, -0.015574319448613705 L -0.9999729857248141, 0.007350361936721317 M -0.9999729857248141,0.007350361936721317 Q -0.009335000845151426, 0.19978202561597233 0.9949305828637117, 0.10056408545039783L 0.9949305828637117, 0.10056408545039783 L 0.9971860583313925, 0.0749664262820411 L 0.9987830645971619, 0.04931926473399139 \", \"type\": \"path\"}, {\"fillcolor\": \"rgba(207,86,188,0.25)\", \"layer\": \"below\", \"line\": {\"color\": \"rgb(175,175,175)\", \"width\": 0.5}, \"path\": \"M 0.4463822182264746,0.8948423968784738 Q -0.17103162300822586, 0.10367344853515828 -0.5868498224492574, -0.8096957983658276L -0.5868498224492574, -0.8096957983658276 L -0.7024597360657192, -0.7117234850744214 L -0.8019382053378813, -0.5974069926101118 M -0.8019382053378813,-0.5974069926101118 Q -0.17129030863150646, 0.10324548498081293 0.15373569820892483, 0.9881120053395842L 0.15373569820892483, 0.9881120053395842 L 0.30366129712611295, 0.9527800463001346 L 0.4463822182264746, 0.8948423968784738 \", \"type\": \"path\"}, {\"fillcolor\": \"rgba(207,86,188,0.25)\", \"layer\": \"below\", \"line\": {\"color\": \"rgb(175,175,175)\", \"width\": 0.5}, \"path\": \"M 0.9030176785101331,0.42960338953291544 Q -0.16727827294616324, 0.10962654514372383 -0.03351105103359803, -0.9994383470022669L -0.03351105103359803, -0.9994383470022669 L -0.11238953457838173, -0.9936642252377081 L -0.19056500409111868, -0.9816745790819644 M -0.19056500409111868,-0.9816745790819644 Q -0.16756361127131653, 0.10918990877235467 0.8210833931747102, 0.5708082527895898L 0.8210833931747102, 0.5708082527895898 L 0.8649368934772296, 0.5018806335195248 L 0.9030176785101331, 0.42960338953291544 \", \"type\": \"path\"}, {\"fillcolor\": \"rgba(207,86,188,0.25)\", \"layer\": \"below\", \"line\": {\"color\": \"rgb(175,175,175)\", \"width\": 0.5}, \"path\": \"M 0.9540692387729698,0.29958619398624836 Q -0.1854983554883717, 0.07476871077603038 0.47963457818971184, -0.8774683307132954L 0.47963457818971184, -0.8774683307132954 L 0.4195921018859188, -0.9077127673636395 L 0.3576531427484062, -0.9338545012378471 M 0.3576531427484062,-0.9338545012378471 Q -0.18569621265598654, 0.07427594903616264 0.9030176785101331, 0.42960338953291544L 0.9030176785101331, 0.42960338953291544 L 0.9308163472836463, 0.3654872468767281 L 0.9540692387729698, 0.29958619398624836 \", \"type\": \"path\"}, {\"fillcolor\": \"rgba(207,86,188,0.25)\", \"layer\": \"below\", \"line\": {\"color\": \"rgb(175,175,175)\", \"width\": 0.5}, \"path\": \"M 0.9949305828637117,0.10056408545039783 Q -0.18598575517148963, 0.07354793588735663 0.6570565943007406, -0.7538412511171778L 0.6570565943007406, -0.7538412511171778 L 0.6374451927452522, -0.7704957016401638 L 0.617411816627788, -0.7866401011189136 M 0.617411816627788,-0.7866401011189136 Q -0.18617179558459865, 0.07307573146268476 0.987658706060367, 0.15662145556456075L 0.987658706060367, 0.15662145556456075 L 0.9916908184132542, 0.12864416300341802 L 0.9949305828637117, 0.10056408545039783 \", \"type\": \"path\"}, {\"fillcolor\": \"rgba(207,86,188,0.25)\", \"layer\": \"below\", \"line\": {\"color\": \"rgb(175,175,175)\", \"width\": 0.5}, \"path\": \"M 0.9997205471141453,0.02363953632781432 Q -0.1883578487812036, 0.06724076741469602 0.7587475597362222, -0.6513847868919935L 0.7587475597362222, -0.6513847868919935 L 0.7523616410861601, -0.6587503024835283 L 0.74590422492481, -0.6660532165220122 M 0.74590422492481,-0.6660532165220122 Q -0.1885654137204884, 0.06665646816642058 0.9987830645971619, 0.04931926473399139L 0.9987830645971619, 0.04931926473399139 L 0.9993342952278474, 0.03648241194687445 L 0.9997205471141453, 0.02363953632781432 \", \"type\": \"path\"}, {\"fillcolor\": \"rgba(207,86,188,0.25)\", \"layer\": \"below\", \"line\": {\"color\": \"rgb(175,175,175)\", \"width\": 0.5}, \"path\": \"M 0.975226279080348,0.22120963946243238 Q -0.1994070734217968, 0.015388926842185567 0.9297378019136083, -0.3682222422571075L 0.9297378019136083, -0.3682222422571075 L 0.9155111038033952, -0.4022927029075833 L 0.900036385325246, -0.4358147600651742 M 0.900036385325246,-0.4358147600651742 Q -0.19946233299879898, 0.014655296471795915 0.9540692387729698, 0.29958619398624836L 0.9540692387729698, 0.29958619398624836 L 0.9654434317333054, 0.26061270138467635 L 0.975226279080348, 0.22120963946243238 \", \"type\": \"path\"}, {\"fillcolor\": \"rgba(207,86,188,0.25)\", \"layer\": \"below\", \"line\": {\"color\": \"rgb(175,175,175)\", \"width\": 0.5}, \"path\": \"M 1.0,0.0 Q -0.19800010596725512, 0.028212728279196016 0.9602020981522127, -0.2793061594453093L 0.9602020981522127, -0.2793061594453093 L 0.95774309892503, -0.287625027529734 L 0.9552120292965334, -0.29592225176082765 M 0.9552120292965334,-0.29592225176082765 Q -0.19808788743176864, 0.027589651190599692 0.9997205471141453, 0.02363953632781432L 0.9997205471141453, 0.02363953632781432 L 0.999930134337931, 0.011820594017534245 L 1.0, 0.0 \", \"type\": \"path\"}, {\"fillcolor\": \"rgba(207,86,188,0.25)\", \"layer\": \"below\", \"line\": {\"color\": \"rgb(175,175,175)\", \"width\": 0.5}, \"path\": \"M 0.987658706060367,0.15662145556456075 Q -0.1996041560146918, -0.01257699891319794 0.9995065603657315, -0.03141075907813014L 0.9995065603657315, -0.03141075907813014 L 0.9981686062449207, -0.06049325174821285 L 0.995984622878443, -0.08952447145716941 M 0.995984622878443,-0.08952447145716941 Q -0.19955520809265256, -0.01333112610015156 0.975226279080348, 0.22120963946243238L 0.975226279080348, 0.22120963946243238 L 0.9819736628838487, 0.1890177912326709 L 0.987658706060367, 0.15662145556456075 \", \"type\": \"path\"}, {\"fillcolor\": \"rgba(95,194,80,0.25)\", \"layer\": \"below\", \"line\": {\"color\": \"rgb(175,175,175)\", \"width\": 0.5}, \"path\": \"M -0.2369376900574375,0.9715248483853852 Q -0.13126697841241675, 0.15089393751398406 -0.9293648477462287, 0.3691625384212611L -0.9293648477462287, 0.3691625384212611 L -0.8887375981614619, 0.4584162754682645 L -0.8395635341892113, 0.5432615135086611 M -0.8395635341892113,0.5432615135086611 Q -0.13134604240371744, 0.15082512106701873 -0.4227430644705347, 0.9062495801058675L -0.4227430644705347, 0.9062495801058675 L -0.331451187410589, 0.9434723686277784 L -0.2369376900574375, 0.9715248483853852 \", \"type\": \"path\"}, {\"fillcolor\": \"rgba(95,194,80,0.25)\", \"layer\": \"below\", \"line\": {\"color\": \"rgb(175,175,175)\", \"width\": 0.5}, \"path\": \"M 0.06825363995307487,0.9976680012073936 Q -0.13597168697695694, 0.14666867538994288 -0.9999729857248141, 0.007350361936721317L -0.9999729857248141, 0.007350361936721317 L -0.999786855233912, 0.02064567997147832 L -0.9994239623008264, 0.033937347847411224 M -0.9994239623008264,0.033937347847411224 Q -0.13617266285007387, 0.14648210092813427 0.03896115761512306, 0.9992407258500273L 0.03896115761512306, 0.9992407258500273 L 0.053613166014495006, 0.9985617799765332 L 0.06825363995307487, 0.9976680012073936 \", \"type\": \"path\"}, {\"fillcolor\": \"rgba(95,194,80,0.25)\", \"layer\": \"below\", \"line\": {\"color\": \"rgb(175,175,175)\", \"width\": 0.5}, \"path\": \"M -0.06719386432637406,0.9977399383591342 Q -0.17523424610134072, 0.09639999477849964 -0.8786924798463505, -0.4773882338950878L -0.8786924798463505, -0.4773882338950878 L -0.897501597609143, -0.4410112042670072 L -0.9148055412946011, -0.4038945674513237 M -0.9148055412946011,-0.4038945674513237 Q -0.1752355893172689, 0.09639755306349573 -0.14862950774728673, 0.9888929514496497L -0.14862950774728673, 0.9888929514496497 L -0.1080023114458927, 0.9941506428717654 L -0.06719386432637406, 0.9977399383591342 \", \"type\": \"path\"}, {\"fillcolor\": \"rgba(95,194,80,0.25)\", \"layer\": \"below\", \"line\": {\"color\": \"rgb(175,175,175)\", \"width\": 0.5}, \"path\": \"M -0.02576703453856298,0.9996679748451925 Q -0.19658793885582881, 0.036785626220263185 -0.3854841278694873, -0.9227144667559412L -0.3854841278694873, -0.9227144667559412 L -0.4042255109690516, -0.9146593553240513 L -0.4227986860267228, -0.9062236319441668 M -0.4227986860267228,-0.9062236319441668 Q -0.196600355453484, 0.03671920799205434 -0.06719386432637406, 0.9977399383591342L -0.06719386432637406, 0.9977399383591342 L -0.046490445369098764, 0.9989187346773424 L -0.02576703453856298, 0.9996679748451925 \", \"type\": \"path\"}, {\"fillcolor\": \"rgba(95,194,80,0.25)\", \"layer\": \"below\", \"line\": {\"color\": \"rgb(175,175,175)\", \"width\": 0.5}, \"path\": \"M -0.14862950774728673,0.9888929514496497 Q -0.19546059886075395, -0.0423692611806653 0.2741880324988808, -0.9616761007919417L 0.2741880324988808, -0.9616761007919417 L 0.23161851872992636, -0.9728066929155836 L 0.18860057909776962, -0.9820538791553068 M 0.18860057909776962,-0.9820538791553068 Q -0.19541766350551418, -0.04256685083542865 -0.2369376900574375, 0.9715248483853852L -0.2369376900574375, 0.9715248483853852 L -0.19297908891058535, 0.9812028695653312 L -0.14862950774728673, 0.9888929514496497 \", \"type\": \"path\"}, {\"fillcolor\": \"rgba(95,194,80,0.25)\", \"layer\": \"below\", \"line\": {\"color\": \"rgb(175,175,175)\", \"width\": 0.5}, \"path\": \"M 0.03896115761512306,0.9992407258500273 Q -0.1912516372196853, -0.05850479690409917 0.5913254516503822, -0.8064330165800948L 0.5913254516503822, -0.8064330165800948 L 0.5803308678599762, -0.8143807977898833 L 0.5692294752766176, -0.8221786937620718 M 0.5692294752766176,-0.8221786937620718 Q -0.19118708844301116, -0.05871539161654491 0.009635148305547677, 0.9999535808811978L 0.009635148305547677, 0.9999535808811978 L 0.02430076702200407, 0.9997046927578875 L 0.03896115761512306, 0.9992407258500273 \", \"type\": \"path\"}, {\"fillcolor\": \"rgba(95,194,80,0.25)\", \"layer\": \"below\", \"line\": {\"color\": \"rgb(175,175,175)\", \"width\": 0.5}, \"path\": \"M 0.12262249078029867,0.9924533866912015 Q -0.18781266559010823, -0.06874883740062936 0.7343673912425713, -0.6787521894473566L 0.7343673912425713, -0.6787521894473566 L 0.7330426451713472, -0.6801826816085472 L 0.7317151126144551, -0.6816105882185335 M 0.7317151126144551,-0.6816105882185335 Q -0.18777281067313156, -0.06885761811094174 0.11760123016122291, 0.9930608997763264L 0.11760123016122291, 0.9930608997763264 L 0.12011224456226198, 0.9927603178543225 L 0.12262249078029867, 0.9924533866912015 \", \"type\": \"path\"}, {\"fillcolor\": \"rgba(95,194,80,0.25)\", \"layer\": \"below\", \"line\": {\"color\": \"rgb(175,175,175)\", \"width\": 0.5}, \"path\": \"M 0.009635148305547677,0.9999535808811978 Q -0.1749801163576795, -0.09686051248807717 0.8525091702251565, -0.5227122675832423L 0.8525091702251565, -0.5227122675832423 L 0.8438446758178206, -0.5365875167145777 L 0.8349543719491034, -0.5503191771718284 M 0.8349543719491034,-0.5503191771718284 Q -0.1748497731895411, -0.09709560657190441 -0.02576703453856298, 0.9996679748451925L -0.02576703453856298, 0.9996679748451925 L -0.008067207141302856, 0.9999674595550294 L 0.009635148305547677, 0.9999535808811978 \", \"type\": \"path\"}, {\"fillcolor\": \"rgba(95,194,80,0.25)\", \"layer\": \"below\", \"line\": {\"color\": \"rgb(175,175,175)\", \"width\": 0.5}, \"path\": \"M 0.11760123016122291,0.9930608997763264 Q -0.16578646177883247, -0.11186978631809273 0.9649031506787145, -0.26260599728545825L 0.9649031506787145, -0.26260599728545825 L 0.9625888419377912, -0.27096627350440167 L 0.9602020981522127, -0.2793061594453093 M 0.9602020981522127,-0.2793061594453093 Q -0.1654547795201481, -0.11235976118673084 0.09446666927485098, 0.9955280249174887L 0.09446666927485098, 0.9955280249174887 L 0.10604112489700752, 0.9943617449553142 L 0.11760123016122291, 0.9930608997763264 \", \"type\": \"path\"}, {\"fillcolor\": \"rgba(95,194,80,0.25)\", \"layer\": \"below\", \"line\": {\"color\": \"rgb(175,175,175)\", \"width\": 0.5}, \"path\": \"M 0.09446666927485098,0.9955280249174887 Q -0.1592650859904011, -0.12097368467757832 0.9843785837174812, -0.17606477194023198L 0.9843785837174812, -0.17606477194023198 L 0.9822273415624155, -0.18769509713157123 L 0.9799386933586719, -0.1992991652227844 M 0.9799386933586719,-0.1992991652227844 Q -0.1591049202609842, -0.12118425784212186 0.06825363995307487, 0.9976680012073936L 0.06825363995307487, 0.9976680012073936 L 0.08136719015326946, 0.9966841928949017 L 0.09446666927485098, 0.9955280249174887 \", \"type\": \"path\"}, {\"fillcolor\": \"rgba(134,93,213,0.25)\", \"layer\": \"below\", \"line\": {\"color\": \"rgb(175,175,175)\", \"width\": 0.5}, \"path\": \"M -0.6644946165202084,0.7472930513631592 Q -0.17863211421282366, 0.08994758346868875 -0.9960452441802042, 0.0888474622372378L -0.9960452441802042, 0.0888474622372378 L -0.9957126463356258, 0.09250041041695403 L -0.9953666515241679, 0.09615211403586367 M -0.9953666515241679,0.09615211403586367 Q -0.17866419121892424, 0.08988385158685445 -0.6704884418408549, 0.741919975036272L -0.6704884418408549, 0.741919975036272 L -0.6674969355847772, 0.7446125442033138 L -0.6644946165202084, 0.7472930513631592 \", \"type\": \"path\"}, {\"fillcolor\": \"rgba(134,93,213,0.25)\", \"layer\": \"below\", \"line\": {\"color\": \"rgb(175,175,175)\", \"width\": 0.5}, \"path\": \"M -0.7175441974932582,0.6965129752156496 Q -0.1943598332785625, 0.04716201021934282 -0.9569699688230741, -0.29018697209000377L -0.9569699688230741, -0.29018697209000377 L -0.9629161121264287, -0.26980096554186583 L -0.968428032373187, -0.2492932933590425 M -0.968428032373187,-0.2492932933590425 Q -0.19435484924732932, 0.04718254522647012 -0.7463297423808957, 0.6655763785153932L -0.7463297423808957, 0.6655763785153932 L -0.7321004003649486, 0.6811967438159713 L -0.7175441974932582, 0.6965129752156496 \", \"type\": \"path\"}, {\"fillcolor\": \"rgba(134,93,213,0.25)\", \"layer\": \"below\", \"line\": {\"color\": \"rgb(175,175,175)\", \"width\": 0.5}, \"path\": \"M -0.7005166426531806,0.7136360650681243 Q -0.1984391454755698, -0.024938034062966106 -0.50215597997585, -0.8647770647828801L -0.50215597997585, -0.8647770647828801 L -0.5124463727684686, -0.8587192294553789 L -0.5226636960620209, -0.8525389497370707 M -0.5226636960620209,-0.8525389497370707 Q -0.1984358204920813, -0.024964477675979802 -0.7175441974932582, 0.6965129752156496L -0.7175441974932582, 0.6965129752156496 L -0.7090821085323828, 0.7051259202151556 L -0.7005166426531806, 0.7136360650681243 \", \"type\": \"path\"}, {\"fillcolor\": \"rgba(134,93,213,0.25)\", \"layer\": \"below\", \"line\": {\"color\": \"rgb(175,175,175)\", \"width\": 0.5}, \"path\": \"M -0.7876142085792556,0.6161686931710121 Q -0.16085516533005226, -0.11885123384568441 0.3576531427484062, -0.9338545012378471L 0.3576531427484062, -0.9338545012378471 L 0.3162267035449498, -0.9486836522071488 L 0.2741880324988808, -0.9616761007919417 M 0.2741880324988808,-0.9616761007919417 Q -0.16076338764931467, -0.1189753469905265 -0.8395635341892113, 0.5432615135086611L -0.8395635341892113, 0.5432615135086611 L -0.8144051300500571, 0.5802967207801105 L -0.7876142085792556, 0.6161686931710121 \", \"type\": \"path\"}, {\"fillcolor\": \"rgba(134,93,213,0.25)\", \"layer\": \"below\", \"line\": {\"color\": \"rgb(175,175,175)\", \"width\": 0.5}, \"path\": \"M -0.6779195838614449,0.7351360675528887 Q -0.15916171368079088, -0.12110965650266683 0.527776242807284, -0.8493834455228256L 0.527776242807284, -0.8493834455228256 L 0.5222020431796431, -0.852821802077671 L 0.5166054442189796, -0.8562235776964512 M 0.5166054442189796,-0.8562235776964512 Q -0.159101860369656, -0.1211882751214592 -0.6882077090252918, 0.725513714024869L -0.6882077090252918, 0.725513714024869 L -0.6830805900582784, 0.7303430067342566 L -0.6779195838614449, 0.7351360675528887 \", \"type\": \"path\"}, {\"fillcolor\": \"rgba(134,93,213,0.25)\", \"layer\": \"below\", \"line\": {\"color\": \"rgb(175,175,175)\", \"width\": 0.5}, \"path\": \"M -0.6599709703435017,0.7512911009082011 Q -0.14259751990282885, -0.1402353283504636 0.7401630431101227, -0.6724274456132517L 0.7401630431101227, -0.6724274456132517 L 0.7385877948989255, -0.6741573030282642 L 0.7370085037958094, -0.6758834702318606 M 0.7370085037958094,-0.6758834702318606 Q -0.1425022692965666, -0.1403321176542591 -0.6644946165202084, 0.7472930513631592L -0.6644946165202084, 0.7472930513631592 L -0.6622358105664472, 0.749295489912625 L -0.6599709703435017, 0.7512911009082011 \", \"type\": \"path\"}, {\"fillcolor\": \"rgba(134,93,213,0.25)\", \"layer\": \"below\", \"line\": {\"color\": \"rgb(175,175,175)\", \"width\": 0.5}, \"path\": \"M -0.7463297423808957,0.6655763785153932 Q -0.11120648237531038, -0.16623212167842227 0.900036385325246, -0.4358147600651742L 0.900036385325246, -0.4358147600651742 L 0.8865992697746887, -0.4625383603929394 L 0.8723689077498616, -0.488848124463328 M 0.8723689077498616,-0.488848124463328 Q -0.1108262390540356, -0.16648586948188052 -0.7876142085792556, 0.6161686931710121L -0.7876142085792556, 0.6161686931710121 L -0.7673697225031633, 0.6412048884603253 L -0.7463297423808957, 0.6655763785153932 \", \"type\": \"path\"}, {\"fillcolor\": \"rgba(134,93,213,0.25)\", \"layer\": \"below\", \"line\": {\"color\": \"rgb(175,175,175)\", \"width\": 0.5}, \"path\": \"M -0.6882077090252918,0.725513714024869 Q -0.10557569508386228, -0.16986398266718977 0.9552120292965334, -0.29592225176082765L 0.9552120292965334, -0.29592225176082765 L 0.95329502902386, -0.3020407052673498 L 0.951338838446157, -0.30814674177072976 M 0.951338838446157,-0.30814674177072976 Q -0.1052117806262159, -0.1700896270131163 -0.7005166426531806, 0.7136360650681243L -0.7005166426531806, 0.7136360650681243 L -0.6943875725215589, 0.7196012083978297 L -0.6882077090252918, 0.725513714024869 \", \"type\": \"path\"}, {\"fillcolor\": \"rgba(134,93,213,0.25)\", \"layer\": \"below\", \"line\": {\"color\": \"rgb(175,175,175)\", \"width\": 0.5}, \"path\": \"M -0.6704884418408549,0.741919975036272 Q -0.10049766347436664, -0.17291679975118945 0.976543553661656, -0.2153199661012987L 0.976543553661656, -0.2153199661012987 L 0.9755539391345182, -0.21976012340532766 L 0.9745441361685271, -0.22419573292000763 M 0.9745441361685271,-0.22419573292000763 Q -0.10041432310332754, -0.1729652095529634 -0.6779195838614449, 0.7351360675528887L -0.6779195838614449, 0.7351360675528887 L -0.6742125453406954, 0.7385373678462186 L -0.6704884418408549, 0.741919975036272 \", \"type\": \"path\"}, {\"fillcolor\": \"rgba(157,185,53,0.25)\", \"layer\": \"below\", \"line\": {\"color\": \"rgb(175,175,175)\", \"width\": 0.5}, \"path\": \"M -0.998330838744298,0.05775410298936766 Q -0.19957467820527552, -0.013036403616823214 -0.9823345846883064, -0.18713301078444913L -0.9823345846883064, -0.18713301078444913 L -0.9847096876374501, -0.17420341866035655 L -0.9869146175225436, -0.16124372149119934 M -0.9869146175225436,-0.16124372149119934 Q -0.1995904958539581, -0.012791949217032417 -0.9994239623008264, 0.033937347847411224L -0.9994239623008264, 0.033937347847411224 L -0.9989483824157703, 0.04584898329206264 L -0.998330838744298, 0.05775410298936766 \", \"type\": \"path\"}, {\"fillcolor\": \"rgba(157,185,53,0.25)\", \"layer\": \"below\", \"line\": {\"color\": \"rgb(175,175,175)\", \"width\": 0.5}, \"path\": \"M -0.9971037725415983,0.07605305242600438 Q -0.17810042855386626, -0.0909958095130165 -0.5226636960620209, -0.8525389497370707L -0.5226636960620209, -0.8525389497370707 L -0.5311212637739934, -0.8472958179804242 L -0.5395262393898602, -0.8419687862443804 M -0.5395262393898602,-0.8419687862443804 Q -0.17817142504280686, -0.09085671850895488 -0.998330838744298, 0.05775410298936766L -0.998330838744298, 0.05775410298936766 L -0.9977592569688568, 0.06690639082296103 L -0.9971037725415983, 0.07605305242600438 \", \"type\": \"path\"}, {\"fillcolor\": \"rgba(157,185,53,0.25)\", \"layer\": \"below\", \"line\": {\"color\": \"rgb(175,175,175)\", \"width\": 0.5}, \"path\": \"M -0.9960452441802042,0.0888474622372378 Q -0.14549231078655972, -0.1372296888504347 0.030526155095337203, -0.9995339683347912L 0.030526155095337203, -0.9995339683347912 L 0.023606702341255413, -0.9997213229718427 L 0.01668611849733317, -0.9998607770332293 M 0.01668611849733317,-0.9998607770332293 Q -0.14556130477511164, -0.13715650386389652 -0.9971037725415983, 0.07605305242600438L -0.9971037725415983, 0.07605305242600438 L -0.9965950405984251, 0.08245195603879597 L -0.9960452441802042, 0.0888474622372378 \", \"type\": \"path\"}, {\"fillcolor\": \"rgba(157,185,53,0.25)\", \"layer\": \"below\", \"line\": {\"color\": \"rgb(175,175,175)\", \"width\": 0.5}, \"path\": \"M -0.999258953976774,-0.03849081575185842 Q -0.07280920862435246, -0.18627619047934044 0.708294512647963, -0.705917051325993L 0.708294512647963, -0.705917051325993 L 0.6830959621772906, -0.7303286290821972 L 0.6570565943007406, -0.7538412511171778 M 0.6570565943007406,-0.7538412511171778 Q -0.07293917538944623, -0.1862253384840731 -0.9942513969594028, -0.10707081602507759L -0.9942513969594028, -0.10707081602507759 L -0.9973448169674259, -0.0728238701814975 L -0.999258953976774, -0.03849081575185842 \", \"type\": \"path\"}, {\"fillcolor\": \"rgba(157,185,53,0.25)\", \"layer\": \"below\", \"line\": {\"color\": \"rgb(175,175,175)\", \"width\": 0.5}, \"path\": \"M -0.9941497030722285,0.10801096185758177 Q -0.0832090203411473, -0.1818687959323054 0.7317151126144551, -0.6816105882185335L 0.7317151126144551, -0.6816105882185335 L 0.7309172576660182, -0.6824660888615547 L 0.7301184024910322, -0.6833206555812162 M 0.7301184024910322,-0.6833206555812162 Q -0.08317160576176648, -0.18188590928109108 -0.9944430837588533, 0.10527560574122723L -0.9944430837588533, 0.10527560574122723 L -0.9942973340517528, 0.10664338468736423 L -0.9941497030722285, 0.10801096185758177 \", \"type\": \"path\"}, {\"fillcolor\": \"rgba(157,185,53,0.25)\", \"layer\": \"below\", \"line\": {\"color\": \"rgb(175,175,175)\", \"width\": 0.5}, \"path\": \"M -0.9950072644010701,0.09980252396156586 Q -0.07098942453095565, -0.18697727563734517 0.8105263757672496, -0.5857021377676602L 0.8105263757672496, -0.5857021377676602 L 0.8094299617171559, -0.5872164312028092 L 0.8083307185406798, -0.5887286721941681 M 0.8083307185406798,-0.5887286721941681 Q -0.0709960654947914, -0.18697475413611137 -0.9953666515241679, 0.09615211403586367L -0.9953666515241679, 0.09615211403586367 L -0.9951886317035822, 0.09797748378046832 L -0.9950072644010701, 0.09980252396156586 \", \"type\": \"path\"}, {\"fillcolor\": \"rgba(157,185,53,0.25)\", \"layer\": \"below\", \"line\": {\"color\": \"rgb(175,175,175)\", \"width\": 0.5}, \"path\": \"M -0.9944430837588533,0.10527560574122723 Q -0.04451290109218702, -0.19498359324916847 0.9416095402131015, -0.3367068068508143L 0.9416095402131015, -0.3367068068508143 L 0.9412279588994656, -0.33777200799643814 L 0.9408451725714126, -0.3388367767068219 M 0.9408451725714126,-0.3388367767068219 Q -0.04446531639859455, -0.194994450273778 -0.9947289382562728, 0.10253945287326323L -0.9947289382562728, 0.10253945287326323 L -0.9945869519177625, 0.10390762760709364 L -0.9944430837588533, 0.10527560574122723 \", \"type\": \"path\"}, {\"fillcolor\": \"rgba(157,185,53,0.25)\", \"layer\": \"below\", \"line\": {\"color\": \"rgb(175,175,175)\", \"width\": 0.5}, \"path\": \"M -0.9947289382562728,0.10253945287326323 Q -0.033184497777580015, -0.19722775947429355 0.9735141656608823, -0.22862670285335474L 0.9735141656608823, -0.22862670285335474 L 0.9732012450135807, -0.22995507540390678 L 0.9728865117858071, -0.2312830196647487 M 0.9728865117858071,-0.2312830196647487 Q -0.03318236954989763, -0.19722811754679917 -0.9950072644010701, 0.09980252396156586L -0.9950072644010701, 0.09980252396156586 L -0.9948690425057374, 0.1011710841284077 L -0.9947289382562728, 0.10253945287326323 \", \"type\": \"path\"}, {\"fillcolor\": \"rgba(99,108,195,0.25)\", \"layer\": \"below\", \"line\": {\"color\": \"rgb(175,175,175)\", \"width\": 0.5}, \"path\": \"M -0.8786924798463505,-0.4773882338950878 Q -0.11822082240021115, -0.16131905389946266 -0.19056500409111868, -0.9816745790819644L -0.19056500409111868, -0.9816745790819644 L -0.25890846879515983, -0.9659018608461968 L -0.32597820537448285, -0.945377284273761 M -0.32597820537448285,-0.945377284273761 Q -0.11803722944201751, -0.16145343745381366 -0.8019382053378813, -0.5974069926101118L -0.8019382053378813, -0.5974069926101118 L -0.8424553404226119, -0.5387661824886757 L -0.8786924798463505, -0.4773882338950878 \", \"type\": \"path\"}, {\"fillcolor\": \"rgba(99,108,195,0.25)\", \"layer\": \"below\", \"line\": {\"color\": \"rgb(175,175,175)\", \"width\": 0.5}, \"path\": \"M -0.9437859332038874,-0.3305572753494731 Q -0.09973729211417955, -0.17335648981717075 0.18860057909776962, -0.9820538791553068L 0.18860057909776962, -0.9820538791553068 L 0.1505963889578954, -0.9885953305740637 L 0.1123682455643748, -0.9936666329251397 M 0.1123682455643748,-0.9936666329251397 Q -0.09958597806880704, -0.17344345756493407 -0.9148055412946011, -0.4038945674513237L -0.9148055412946011, -0.4038945674513237 L -0.9300189013524535, -0.36751169114352744 L -0.9437859332038874, -0.3305572753494731 \", \"type\": \"path\"}, {\"fillcolor\": \"rgba(99,108,195,0.25)\", \"layer\": \"below\", \"line\": {\"color\": \"rgb(175,175,175)\", \"width\": 0.5}, \"path\": \"M -0.9766429641545297,-0.21486861233659552 Q -0.06752552500630614, -0.18825595202442533 0.617411816627788, -0.7866401011189136L 0.617411816627788, -0.7866401011189136 L 0.6044496553119675, -0.7966433418997761 L 0.5913254516503822, -0.8064330165800948 M 0.5913254516503822,-0.8064330165800948 Q -0.0672763723441321, -0.1883451345912968 -0.968428032373187, -0.2492932933590425L -0.968428032373187, -0.2492932933590425 L -0.9726878019432573, -0.23211729782761673 L -0.9766429641545297, -0.21486861233659552 \", \"type\": \"path\"}, {\"fillcolor\": \"rgba(99,108,195,0.25)\", \"layer\": \"below\", \"line\": {\"color\": \"rgb(175,175,175)\", \"width\": 0.5}, \"path\": \"M -0.990397618307254,-0.13824817413376148 Q -0.05816830599030074, -0.19135424787085012 0.74590422492481, -0.6660532165220122L 0.74590422492481, -0.6660532165220122 L 0.743040469274944, -0.6692464874914705 L 0.7401630431101227, -0.6724274456132517 M 0.7401630431101227,-0.6724274456132517 Q -0.057924764816374555, -0.19142811084312486 -0.988798566210864, -0.1492561404409869L -0.988798566210864, -0.1492561404409869 L -0.9896133982689019, -0.14375438068690535 L -0.990397618307254, -0.13824817413376148 \", \"type\": \"path\"}, {\"fillcolor\": \"rgba(99,108,195,0.25)\", \"layer\": \"below\", \"line\": {\"color\": \"rgb(175,175,175)\", \"width\": 0.5}, \"path\": \"M -0.9569699688230741,-0.29018697209000377 Q -0.021592497075838723, -0.19883099373596136 0.8723689077498616, -0.488848124463328L 0.8723689077498616, -0.488848124463328 L 0.8626052347493666, -0.5058776620715628 L 0.8525091702251565, -0.5227122675832423 M 0.8525091702251565,-0.5227122675832423 Q -0.021273219902082453, -0.19886540703450073 -0.9437859332038874, -0.3305572753494731L -0.9437859332038874, -0.3305572753494731 L -0.9505922838519665, -0.3104421200177297 L -0.9569699688230741, -0.29018697209000377 \", \"type\": \"path\"}, {\"fillcolor\": \"rgba(99,108,195,0.25)\", \"layer\": \"below\", \"line\": {\"color\": \"rgb(175,175,175)\", \"width\": 0.5}, \"path\": \"M -0.988798566210864,-0.1492561404409869 Q -0.016324660607538993, -0.19933265025090263 0.951338838446157, -0.30814674177072976L 0.951338838446157, -0.30814674177072976 L 0.9499344460990038, -0.3124492728661389 L 0.9485105952075555, -0.3167454037219936 M 0.9485105952075555,-0.3167454037219936 Q -0.016017378720182968, -0.1993575771796353 -0.9869146175225436, -0.16124372149119934L -0.9869146175225436, -0.16124372149119934 L -0.9878747752723309, -0.1552527886404677 L -0.988798566210864, -0.1492561404409869 \", \"type\": \"path\"}, {\"fillcolor\": \"rgba(99,108,195,0.25)\", \"layer\": \"below\", \"line\": {\"color\": \"rgb(175,175,175)\", \"width\": 0.5}, \"path\": \"M -0.9823345846883064,-0.18713301078444913 Q 0.0036728382548820468, -0.19996627280407434 0.9885439464965703, -0.15093331588812983L 0.9885439464965703, -0.15093331588812983 L 0.9865412941572077, -0.16351230816859555 L 0.9843785837174812, -0.17606477194023198 M 0.9843785837174812,-0.17606477194023198 Q 0.003956738353150405, -0.19996085672352154 -0.9766429641545297, -0.21486861233659552L -0.9766429641545297, -0.21486861233659552 L -0.9795869410705393, -0.20102095633058692 L -0.9823345846883064, -0.18713301078444913 \", \"type\": \"path\"}, {\"fillcolor\": \"rgba(196,173,64,0.25)\", \"layer\": \"below\", \"line\": {\"color\": \"rgb(175,175,175)\", \"width\": 0.5}, \"path\": \"M -0.3854841278694873,-0.9227144667559412 Q -0.028218167029664093, -0.197999330931915 0.1123682455643748, -0.9936666329251397L 0.1123682455643748, -0.9936666329251397 L 0.0808742090113767, -0.9967243161059051 L 0.049299199278353224, -0.9987840552143958 M 0.049299199278353224,-0.9987840552143958 Q -0.028178636517164398, -0.19800496065511475 -0.32597820537448285, -0.945377284273761L -0.32597820537448285, -0.945377284273761 L -0.3559115953866919, -0.9345196286163815 L -0.3854841278694873, -0.9227144667559412 \", \"type\": \"path\"}, {\"fillcolor\": \"rgba(196,173,64,0.25)\", \"layer\": \"below\", \"line\": {\"color\": \"rgb(175,175,175)\", \"width\": 0.5}, \"path\": \"M -0.5528627334523385,-0.8332723432105548 Q -0.0014845416196976775, -0.1999944902645555 0.5404318777878526, -0.8413877735448119L 0.5404318777878526, -0.8413877735448119 L 0.5341190222403092, -0.8454092914565442 L 0.527776242807284, -0.8493834455228256 M 0.527776242807284,-0.8493834455228256 Q -0.001389386886025496, -0.19999517395197552 -0.5395262393898602, -0.8419687862443804L -0.5395262393898602, -0.8419687862443804 L -0.5462117941121087, -0.8376471070640854 L -0.5528627334523385, -0.8332723432105548 \", \"type\": \"path\"}, {\"fillcolor\": \"rgba(196,173,64,0.25)\", \"layer\": \"below\", \"line\": {\"color\": \"rgb(175,175,175)\", \"width\": 0.5}, \"path\": \"M -0.50215597997585,-0.8647770647828801 Q 0.03537046043432009, -0.19684748037164257 0.771798614070258, -0.6358670453162588L 0.771798614070258, -0.6358670453162588 L 0.7653124183066137, -0.6436589954204655 L 0.7587475597362222, -0.6513847868919935 M 0.7587475597362222,-0.6513847868919935 Q 0.03592108202920206, -0.1967477467872284 -0.47961646532612234, -0.8774782311761794L -0.47961646532612234, -0.8774782311761794 L -0.4909272996029974, -0.8712005432186718 L -0.50215597997585, -0.8647770647828801 \", \"type\": \"path\"}, {\"fillcolor\": \"rgba(196,173,64,0.25)\", \"layer\": \"below\", \"line\": {\"color\": \"rgb(175,175,175)\", \"width\": 0.5}, \"path\": \"M -0.47961646532612234,-0.8774782311761794 Q 0.04830093938012223, -0.1940799300674796 0.8349543719491034, -0.5503191771718284L 0.8349543719491034, -0.5503191771718284 L 0.8268934385221671, -0.5623586411970452 L 0.8186589175537891, -0.5742800507676183 M 0.8186589175537891,-0.5742800507676183 Q 0.04848238278808345, -0.19403468390777395 -0.4523241347848975, -0.8918536186455117L -0.4523241347848975, -0.8918536186455117 L -0.46602573263184227, -0.8847711661921147 L -0.47961646532612234, -0.8774782311761794 \", \"type\": \"path\"}, {\"fillcolor\": \"rgba(196,173,64,0.25)\", \"layer\": \"below\", \"line\": {\"color\": \"rgb(175,175,175)\", \"width\": 0.5}, \"path\": \"M -0.561127087838456,-0.8277296607552093 Q 0.06412260854935431, -0.1894420520180941 0.9485105952075555, -0.3167454037219936L 0.9485105952075555, -0.3167454037219936 L 0.947309209662306, -0.32032056020333316 L 0.9460943485762003, -0.3238911601019317 M 0.9460943485762003,-0.3238911601019317 Q 0.06435062492610796, -0.18936471971203975 -0.5528627334523385, -0.8332723432105548L -0.5528627334523385, -0.8332723432105548 L -0.5570018050393322, -0.8305112817914793 L -0.561127087838456, -0.8277296607552093 \", \"type\": \"path\"}, {\"fillcolor\": \"rgba(196,173,64,0.25)\", \"layer\": \"below\", \"line\": {\"color\": \"rgb(175,175,175)\", \"width\": 0.5}, \"path\": \"M -0.4523241347848975,-0.8918536186455117 Q 0.09411975216911372, -0.1764694654936786 0.9926293766588261, -0.12118960596482813L 0.9926293766588261, -0.12118960596482813 L 0.9906982921988156, -0.13607679388621086 L 0.9885439464965703, -0.15093331588812983 M 0.9885439464965703,-0.15093331588812983 Q 0.09436795861266288, -0.17633686054616815 -0.4227986860267228, -0.9062236319441668L -0.4227986860267228, -0.9062236319441668 L -0.4376203973729657, -0.8991598232812271 L -0.4523241347848975, -0.8918536186455117 \", \"type\": \"path\"}, {\"fillcolor\": \"rgba(150,81,158,0.25)\", \"layer\": \"below\", \"line\": {\"color\": \"rgb(175,175,175)\", \"width\": 0.5}, \"path\": \"M 0.030526155095337203,-0.9995339683347912 Q 0.06254292202812599, -0.18996942623533863 0.5692294752766176, -0.8221786937620718L 0.5692294752766176, -0.8221786937620718 L 0.5618992158306864, -0.8272057006868725 L 0.5545245643788398, -0.8321673554643068 M 0.5545245643788398,-0.8321673554643068 Q 0.06263898643758135, -0.18993777238367437 0.049299199278353224, -0.9987840552143958L 0.049299199278353224, -0.9987840552143958 L 0.03991443839819558, -0.9992031012798933 L 0.030526155095337203, -0.9995339683347912 \", \"type\": \"path\"}, {\"fillcolor\": \"rgba(150,81,158,0.25)\", \"layer\": \"below\", \"line\": {\"color\": \"rgb(175,175,175)\", \"width\": 0.5}, \"path\": \"M -0.0021013982217003594,-0.9999977920603195 Q 0.09158877494389399, -0.17779622128795858 0.8154251260354014, -0.578862560397673L 0.8154251260354014, -0.578862560397673 L 0.8140701365276349, -0.5807665734302189 L 0.8127107011694079, -0.5826674147442342 M 0.8127107011694079,-0.5826674147442342 Q 0.09161281373507342, -0.17778383604687675 0.0028428839477033317, -0.9999959589972651L 0.0028428839477033317, -0.9999959589972651 L 0.0003707439959009168, -0.9999999312744424 L -0.0021013982217003594, -0.9999977920603195 \", \"type\": \"path\"}, {\"fillcolor\": \"rgba(150,81,158,0.25)\", \"layer\": \"below\", \"line\": {\"color\": \"rgb(175,175,175)\", \"width\": 0.5}, \"path\": \"M 0.007787096620166373,-0.999969680103466 Q 0.1169175768093649, -0.16226607850387664 0.9460943485762003, -0.3238911601019317L 0.9460943485762003, -0.3238911601019317 L 0.9449894662904643, -0.3271007621514561 L 0.9438736955429795, -0.33030659524453754 M 0.9438736955429795,-0.33030659524453754 Q 0.11708876797967799, -0.16214259284037968 0.01668611849733317, -0.9998607770332293L 0.01668611849733317, -0.9998607770332293 L 0.012236728709770793, -0.9999251284323659 L 0.007787096620166373, -0.999969680103466 \", \"type\": \"path\"}, {\"fillcolor\": \"rgba(150,81,158,0.25)\", \"layer\": \"below\", \"line\": {\"color\": \"rgb(175,175,175)\", \"width\": 0.5}, \"path\": \"M 0.0028428839477033317,-0.9999959589972651 Q 0.12478587171123207, -0.15629614909289333 0.9745441361685271, -0.22419573292000763L 0.9745441361685271, -0.22419573292000763 L 0.9740316705350284, -0.22641180356761853 L 0.9735141656608823, -0.22862670285335474 M 0.9735141656608823,-0.22862670285335474 Q 0.12481675191685798, -0.15627148953320158 0.007787096620166373, -0.999969680103466L 0.007787096620166373, -0.999969680103466 L 0.005315006525244039, -0.999985875253064 L 0.0028428839477033317, -0.9999959589972651 \", \"type\": \"path\"}, {\"fillcolor\": \"rgba(67,201,134,0.25)\", \"layer\": \"below\", \"line\": {\"color\": \"rgb(175,175,175)\", \"width\": 0.5}, \"path\": \"M 0.5125942925958363,-0.8586309400424458 Q 0.12628950021565497, -0.15508372621032837 0.7370085037958094, -0.6758834702318606L 0.7370085037958094, -0.6758834702318606 L 0.735689345792423, -0.6773191171726343 L 0.7343673912425713, -0.6787521894473566 M 0.7343673912425713,-0.6787521894473566 Q 0.12634987648232077, -0.15503454038665798 0.5166054442189796, -0.8562235776964512L 0.5166054442189796, -0.8562235776964512 L 0.5146012761481333, -0.8574296044496671 L 0.5125942925958363, -0.8586309400424458 \", \"type\": \"path\"}, {\"fillcolor\": \"rgba(67,201,134,0.25)\", \"layer\": \"below\", \"line\": {\"color\": \"rgb(175,175,175)\", \"width\": 0.5}, \"path\": \"M 0.5093772901240372,-0.8605433029812575 Q 0.13509743394994042, -0.14747434807498383 0.8127107011694079, -0.5826674147442342L 0.8127107011694079, -0.5826674147442342 L 0.8116199568587651, -0.5841857971814929 L 0.8105263757672496, -0.5857021377676602 M 0.8105263757672496,-0.5857021377676602 Q 0.1350976844420632, -0.1474741186052411 0.5125942925958363, -0.8586309400424458L 0.5125942925958363, -0.8586309400424458 L 0.5109866859857932, -0.8595886264634126 L 0.5093772901240372, -0.8605433029812575 \", \"type\": \"path\"}, {\"fillcolor\": \"rgba(67,201,134,0.25)\", \"layer\": \"below\", \"line\": {\"color\": \"rgb(175,175,175)\", \"width\": 0.5}, \"path\": \"M 0.5069598538135892,-0.86196966688005 Q 0.15423032746835505, -0.12733030310575708 0.942369085844577, -0.33457511270932294L 0.942369085844577, -0.33457511270932294 L 0.9419899160237982, -0.3356411746336815 L 0.9416095402131015, -0.3367068068508143 M 0.9416095402131015,-0.3367068068508143 Q 0.1542649492428541, -0.12728835545759734 0.5093772901240372, -0.8605433029812575L 0.5093772901240372, -0.8605433029812575 L 0.5081690724210944, -0.8612573331093817 L 0.5069598538135892, -0.86196966688005 \", \"type\": \"path\"}, {\"fillcolor\": \"rgba(67,201,134,0.25)\", \"layer\": \"below\", \"line\": {\"color\": \"rgb(175,175,175)\", \"width\": 0.5}, \"path\": \"M 0.5404318777878526,-0.8413877735448119 Q 0.1650395241917925, -0.11296882514458025 0.9799386933586719, -0.1992991652227844L 0.9799386933586719, -0.1992991652227844 L 0.978273919841281, -0.20731651588422725 L 0.976543553661656, -0.2153199661012987 M 0.976543553661656,-0.2153199661012987 Q 0.1650657530756766, -0.11293049703937266 0.5545245643788398, -0.8321673554643068L 0.5545245643788398, -0.8321673554643068 L 0.5474976315820738, -0.8368072319309985 L 0.5404318777878526, -0.8413877735448119 \", \"type\": \"path\"}, {\"fillcolor\": \"rgba(221,77,138,0.25)\", \"layer\": \"below\", \"line\": {\"color\": \"rgb(175,175,175)\", \"width\": 0.5}, \"path\": \"M 0.771798614070258,-0.6358670453162588 Q 0.18502831623424024, -0.07592445055133423 0.995984622878443, -0.08952447145716941L 0.995984622878443, -0.08952447145716941 L 0.9944330444905533, -0.10537039444383495 L 0.9926293766588261, -0.12118960596482813 M 0.9926293766588261,-0.12118960596482813 Q 0.1848551784348426, -0.07634502607126747 0.7888653059684697, -0.6145661307290474L 0.7888653059684697, -0.6145661307290474 L 0.7804046386767729, -0.6252748195248035 L 0.771798614070258, -0.6358670453162588 \", \"type\": \"path\"}, {\"fillcolor\": \"rgba(78,141,43,0.25)\", \"layer\": \"below\", \"line\": {\"color\": \"rgb(175,175,175)\", \"width\": 0.5}, \"path\": \"M 0.8154251260354014,-0.578862560397673 Q 0.17767702190830095, -0.09181980116400355 0.9438736955429795, -0.33030659524453754L 0.9438736955429795, -0.33030659524453754 L 0.9431238055761837, -0.33244170519881644 L 0.942369085844577, -0.33457511270932294 M 0.942369085844577,-0.33457511270932294 Q 0.1777267027231071, -0.09172360186545407 0.8186589175537891, -0.5742800507676183L 0.8186589175537891, -0.5742800507676183 L 0.8170452345046924, -0.5765735727321989 L 0.8154251260354014, -0.578862560397673 \", \"type\": \"path\"}, {\"fillcolor\": \"rgba(78,141,43,0.25)\", \"layer\": \"below\", \"line\": {\"color\": \"rgb(175,175,175)\", \"width\": 0.5}, \"path\": \"M 0.8077800372303137,-0.5894840213713965 Q 0.1816337335521303, -0.0837208864974191 0.9728865117858071, -0.2312830196647487L 0.9728865117858071, -0.2312830196647487 L 0.9727811980154414, -0.23172557214870043 L 0.972675682934144, -0.23216807667850603 M 0.972675682934144,-0.23216807667850603 Q 0.18163477806765926, -0.08371862036794542 0.8083307185406798, -0.5887286721941681L 0.8083307185406798, -0.5887286721941681 L 0.8080554661455907, -0.5891064111281019 L 0.8077800372303137, -0.5894840213713965 \", \"type\": \"path\"}, {\"fillcolor\": \"rgba(207,86,188,0.25)\", \"layer\": \"below\", \"line\": {\"color\": \"rgb(150,150,150)\", \"width\": 0.45}, \"path\": \"M 1.1, 0.0 L 1.0997682334036993, 0.022579477321374077 L 1.0990730312798065, 0.04514943979073902 L 1.0979146865821945, 0.06770037656558545 L 1.0962936874301499, 0.0902227848207139 L 1.0942107169026845, 0.1127071737526666 L 1.0916666527506873, 0.13514406857909322 L 1.0886625670270482, 0.15752401453136566 L 1.0851997256349004, 0.17983758083875892 L 1.0812795877941763, 0.2020753647025195 L 1.0769038054267022, 0.22422799525814674 L 1.072074222460088, 0.24628613752421707 L 1.066792874050708, 0.2682404963360873 L 1.0610619857260977, 0.2900818202628197 L 1.054883972447131, 0.31180090550567746 L 1.0482614375903716, 0.3333885997765487 L 1.0411971718510233, 0.35483580615466426 L 1.033694152066952, 0.37613348691998333 L 1.0257555399642615, 0.3972726673616329 L 1.0173846808249634, 0.4182444395597958 L 1.0085851020772956, 0.43903996613945234 L 0.999360511809286, 0.4596504839943959 L 0.9897147972061863, 0.4800673079799515 L 0.9796520229124378, 0.5002818345728421 L 0.9691764293188537, 0.52028554549666 L 0.9582924307757459, 0.5400700113114155 L 0.9470046137327441, 0.5596268949656515 L 0.9353177348060951, 0.5789479553096247 L 0.923236718774254, 0.5980250505680755 L 0.9107666565026125, 0.6168501417711214 L 0.8979128027982405, 0.635415296141829 L 0.8846805741955422, 0.6537126904390382 L 0.8710755466737627, 0.6717346142540261 L 0.8571034533073045, 0.6894734732596269 L 0.8427701818498451, 0.7069217924104328 L 0.8280817722532746, 0.7240722190927339 L 0.8130444141224972, 0.7409175262228621 L 0.7976644441071696, 0.7574506152926408 L 0.7819483432314771, 0.7736645193606517 L 0.7659027341630686, 0.7895524059880611 L 0.7495343784223066, 0.805107580117767 L 0.7328501735330041, 0.8203234868956552 L 0.7158571501158504, 0.8351937144327735 L 0.6985624689257514, 0.849711996507263 L 0.6809734178343317, 0.8638722152049045 L 0.6630974087588708, 0.87766840349717 L 0.6449419745389664, 0.8910947477556915 L 0.6265147657622431, 0.9041455902020878 L 0.607823547540442, 0.916815431292118 L 0.5888761962372501, 0.9290989320331543 L 0.5696806961492502, 0.9409909162340016 L 0.5502451361413871, 0.9524863726861118 L 0.5305777062383703, 0.9635804572752759 L 0.5106866941734483, 0.9742684950229044 L 0.49058048189600867, 0.9845459820560338 L 0.47026754203947707, 0.9944085875052312 L 0.44975643435100143, 1.0038521553295952 L 0.4290558020844278, 1.0128727060680864 L 0.4081743683580866, 1.0214664385164482 L 0.3871209324789243, 1.0296297313290095 L 0.3659043662345305, 1.0373591445446977 L 0.3445336101546207, 1.0446514210366173 L 0.3230176697435532, 1.051503487884584 L 0.3013656116854649, 1.0579124576700314 L 0.2795865600236267, 1.0638756296927547 L 0.2576896923156283, 1.0693904911089667 L 0.23568423576601216, 1.0744547179901958 L 0.2135794633379865, 1.079066176302574 L 0.19138468984585613, 1.0832229228061072 L 0.16910926802981732, 1.0869232058735427 L 0.15373569820892483, 0.9881120053395842 L 0.17398608167805102, 0.9847481116419156 L 0.19416314848907862, 0.9809692511841581 L 0.21425839615092013, 0.9767770163547232 L 0.2342633566505712, 0.9721731737354242 L 0.2541696000214788, 0.9671596633570496 L 0.27396873789587717, 0.9617385978818466 L 0.2936524270395938, 0.9559122617132579 L 0.313212372867837, 0.9496831100332884 L 0.33264033294048223, 0.9430537677679068 L 0.35192812043538574, 0.9360270284809177 L 0.3710676075982605, 0.9286058531967711 L 0.3900507291676616, 0.9207933691528059 L 0.40886948577363763, 0.91259286848145 L 0.4275159473086155, 0.9040078068229374 L 0.44598225626909876, 0.8950418018691216 L 0.4642606310667711, 0.8856986318390039 L 0.48234336930760935, 0.8759822338866143 L 0.5002228510376246, 0.8658967024419197 L 0.5178915419538638, 0.8554462874854559 L 0.5353419965793182, 0.844635392757413 L 0.5525668614004018, 0.8334685739019253 L 0.5695588779656755, 0.8219505365473525 L 0.5863108859445149, 0.8100861343233559 L 0.602815826144428, 0.797880366815609 L 0.6190667434857561, 0.785338377459004 L 0.6350567899325011, 0.772465451370239 L 0.6507792273780457, 0.7592670131207031 L 0.6662274304845491, 0.7457486244505955 L 0.6813948894748242, 0.7319159819252427 L 0.6962752128755169, 0.717774914534601 L 0.7108621302104337, 0.703331381236956 L 0.7251494946428815, 0.6885914684478552 L 0.7391312855659065, 0.6735613874753291 L 0.7528016111393405, 0.6582474719024853 L 0.7661547107725863, 0.6426561749185753 L 0.7791849575520949, 0.6267940665996607 L 0.7918868606125116, 0.6106678311400238 L 0.8042550674504929, 0.5942842640354893 L 0.8162843661802186, 0.5776502692198445 L 0.8279696877296476, 0.5607728561555648 L 0.8393061079765944, 0.5436591368800686 L 0.8502888498237228, 0.5263163230087498 L 0.8609132852115855, 0.5087517226960468 L 0.8711749370688598, 0.4909727375558322 L 0.8810694811989579, 0.4729868595424181 L 0.8905927481022161, 0.4548016677934928 L 0.8997407247328966, 0.4364248254363195 L 0.9085095561902599, 0.41786407635854167 L 0.9168955473429959, 0.39912724194495663 L 0.9248951643863302, 0.3802222177816325 L 0.9325050363311467, 0.36115697032875715 L 0.9397219564245017, 0.34193953356362117 L 0.9465428835009303, 0.3225780055951493 L 0.9529649432639741, 0.30308054525140793 L 0.9589854294973919, 0.28345536864152493 L 0.9646018052055432, 0.2637107456934724 L 0.9698117036824617, 0.24385499666917027 L 0.974612929509171, 0.22389648865837913 L 0.9790034594788202, 0.20384363205286066 L 0.9829814434492512, 0.18370487700229043 L 0.9865452051226367, 0.16348870985341718 L 0.989693242751862, 0.14320364957396878 L 0.992424229773352, 0.12285824416281202 L 0.9947370153660766, 0.10246106704787872 L 0.9966306249364999, 0.08202071347337626 L 0.9981042605292676, 0.06154579687780495 L 0.9991573011634605, 0.0410449452643082 L 0.999789303094272, 0.020526797564885523 L 1.0, 0.0 L 1.1 ,0.0\", \"type\": \"path\"}, {\"fillcolor\": \"rgba(95,194,80,0.25)\", \"layer\": \"below\", \"line\": {\"color\": \"rgb(150,150,150)\", \"width\": 0.45}, \"path\": \"M 0.13488473985832855, 1.0916987253603219 L 0.11211911243353206, 1.0942711293948666 L 0.08930484838132892, 1.0963688448946312 L 0.06645184439851087, 1.0979909618826724 L 0.04357001398702819, 1.099136776693952 L 0.020669283153571458, 1.0998057922805815 L -0.0022404138962749624, 1.09999771842744 L -0.02514913906743347, 1.0997124718780664 L -0.04804695468642114, 1.0989501763707767 L -0.0709239278122571, 1.0977111625849862 L -0.0937701345453135, 1.0959959679977633 L -0.11657566433224767, 1.0938053366506746 L -0.13933062426514278, 1.091140218827024 L -0.16202514337299362, 1.0880017706396259 L -0.18464937690367897, 1.0843913535292888 L -0.20719351059455654, 1.0803105336742318 L -0.22964776492983577, 1.0757610813106835 L -0.2520023993828736, 1.0707449699649654 L -0.274247716641561, 1.0652643755973867 L -0.2963740668149601, 1.0593216756583252 L -0.31837185161937115, 1.052919448056903 L -0.34023152854201427, 1.0460604700427047 L -0.36194361498051586, 1.0387477170010224 L -0.3834986923564065, 1.03098436116215 L -0.4048874102008479, 1.0227737702252881 L -0.4261004902108105, 1.0141195058976566 L -0.44712873027395017, 1.0050253223494447 L -0.4679630084604297, 0.9954951645852751 L -0.48859428697996204, 0.985533166732882 L -0.5090136161023492, 0.9751436502497519 L -0.5292121380398255, 0.964331122048499 L -0.549181090789514, 0.9531002725417927 L -0.5689118119343355, 0.9414559736076835 L -0.5883957424007117, 0.9294032764762106 L -0.6076244301714443, 0.9169474095382066 L -0.6265895339521524, 0.9040937760772522 L -0.645282826789676, 0.8908479519257624 L -0.663696199640882, 0.8772156830462224 L -0.6818216648903207, 0.8632028830386235 L -0.6996513598152083, 0.8488156305751738 L -0.6360466907410984, 0.771650573250158 L -0.6198378771730187, 0.7847298936714758 L -0.6033601814917109, 0.7974688027692931 L -0.5866207516269781, 0.8098617744779657 L -0.5696268490474112, 0.8219034327975019 L -0.5523858456104038, 0.8335885541256424 L -0.5349052203642833, 0.8449120695238277 L -0.5171925563039413, 0.8558690669160759 L -0.4992555370813764, 0.8664547932198116 L -0.48110194367256853, 0.8766646564077263 L -0.46273965100213554, 0.8864942274997744 L -0.44417662452723816, 0.8959392424844381 L -0.4254209167822088, 0.9049956041684318 L -0.4064806638854092, 0.9136593839540406 L -0.3873640820098277, 0.9219268235433241 L -0.3680794638189526, 0.9297943365684437 L -0.34863517486946044, 0.937258510147409 L -0.32903964998228713, 0.9443161063645658 L -0.30930138958364933, 0.9509640636751862 L -0.2894289560176101, 0.9571994982335481 L -0.2694309698317819, 0.9630197051439319 L -0.2493161060377827, 0.9684221596339879 L -0.2290930903480669, 0.9734045181499685 L -0.20877069539075976, 0.9779646193733486 L -0.1883577369041423, 0.9821004851583925 L -0.1678630699124354, 0.9858103213902626 L -0.14729558488453964, 0.9890925187632962 L -0.12666420387740251, 0.9919456534791127 L -0.10597787666567969, 0.9943684878642495 L -0.0852455768593759, 0.9963599709070574 L -0.06447629801114282, 0.9979192387136238 L -0.0436790497149283, 0.9990456148825242 L -0.022862853697666788, 0.9997386107982421 L -0.002036739905704511, 0.9999979258431272 L 0.018790257412337686, 0.9998234475278013 L 0.03960910362457108, 0.9992152515399563 L 0.060410767635009875, 0.9981736017115204 L 0.0811862258012081, 0.9966989499042102 L 0.1019264658486655, 0.9947919358135151 L 0.12262249078029867, 0.9924533866912015 L 0.13488473985832855 ,1.0916987253603219\", \"type\": \"path\"}, {\"fillcolor\": \"rgba(134,93,213,0.25)\", \"layer\": \"below\", \"line\": {\"color\": \"rgb(150,150,150)\", \"width\": 0.45}, \"path\": \"M -0.7259680673778519, 0.8264202109990212 L -0.743075151846116, 0.8110729429027157 L -0.7598578680578052, 0.7953716240542199 L -0.7763088899969908, 0.7793231084162975 L -0.792421036439416, 0.7629344015105637 L -0.8081872740872531, 0.7462126573594255 L -0.82360072063929, 0.7291651753631974 L -0.8386546477952008, 0.711799397113757 L -0.8533424841925952, 0.6941229031461292 L -0.8676578182755582, 0.6761434096294208 L -0.8815944010934325, 0.6578687649985462 L -0.8951461490286183, 0.6393069465282187 L -0.9083071464522051, 0.6204660568506971 L -0.9210716483062694, 0.6013543204188128 L -0.9334340826117151, 0.5819800799158216 L -0.9453890529005636, 0.5623517926136409 L -0.9569313405716277, 0.5424780266810701 L -0.9680559071685414, 0.5223674574436012 L -0.9787578965791567, 0.5020288635964518 L -0.9890326371553386, 0.48147112337247866 L -0.9988756437522411, 0.46070321066663517 L -1.0082826196861694, 0.4397341911186754 L -1.017249458610173, 0.41857321815580867 L -1.0257722463065562, 0.3972295289970296 L -1.0338472623955173, 0.37571244062087517 L -1.0414709819591736, 0.3540313456983643 L -1.0486400770802653, 0.3321957084928935 L -1.0553514182948611, 0.31021506072888366 L -1.0616020759584381, 0.28809899743097805 L -1.067389321524733, 0.26585717273560683 L -1.0727106287368118, 0.24349929567675166 L -1.0775636747298354, 0.221035125947741 L -1.0819463410450398, 0.1984744696409356 L -1.0858567145544884, 0.17582717496716044 L -1.0892930882961942, 0.1531031279567462 L -0.990266443905631, 0.13918466177886016 L -0.9871424677768076, 0.1598428863337822 L -0.9835875827682179, 0.18043133603721417 L -0.9796033406634866, 0.20094102358885543 L -0.9751914806698289, 0.22136299606977422 L -0.9703539286588482, 0.24168833885055163 L -0.9650927963258528, 0.2619081794827073 L -0.9594103802680556, 0.2820136915717124 L -0.9533091609820593, 0.3019960986299031 L -0.9467918017810669, 0.3218466779076039 L -0.9398611476322883, 0.34155676420079556 L -0.932520223915051, 0.3611177536336633 L -0.9247722351001572, 0.3805211074143715 L -0.916620563351063, 0.39975835556243217 L -0.9080687670474918, 0.41882110060603195 L -0.899120579232126, 0.4377010212477078 L -0.8897799059810515, 0.4563898759967744 L -0.8800508246986739, 0.47487950676691015 L -0.8699375823378432, 0.49316184243733646 L -0.8594445935459669, 0.5112289023760371 L -0.8485764387379228, 0.5290727999234741 L -0.8373378620966085, 0.5466857458352843 L -0.8257337695020046, 0.5640600516824519 L -0.813769226389653, 0.5811881332074715 L -0.801449455539484, 0.5980625136350419 L -0.7887798347959619, 0.614675826935837 L -0.775765894720541, 0.6310208210419356 L -0.7624133161774552, 0.6470903610125063 L -0.7487279278539, 0.6628774321483611 L -0.7347157037156846, 0.6783751430540231 L -0.720382760399469, 0.693576728645967 L -0.7057353545427189, 0.708475553105725 L -0.6907798800525501, 0.7230651127765635 L -0.6755228653146509, 0.7373390390024688 L -0.6599709703435017, 0.7512911009082011 L -0.7259680673778519 ,0.8264202109990212\", \"type\": \"path\"}, {\"fillcolor\": \"rgba(157,185,53,0.25)\", \"layer\": \"below\", \"line\": {\"color\": \"rgb(150,150,150)\", \"width\": 0.45}, \"path\": \"M -1.0935646733794515, 0.11881205804333995 L -1.0983758947946891, 0.05975277176806282 L -1.0999998770453163, 0.0005200964232733603 L -1.0984319077010467, -0.05871408812405549 L -1.0936765366553431, -0.11777789762758537 L -0.9942513969594028, -0.10707081602507759 L -0.9985744615464061, -0.053376443749141356 L -0.9999998882230147, 0.0004728149302485093 L -0.9985235407224445, 0.05432070160732983 L -0.9941497030722285, 0.10801096185758177 L -1.0935646733794515 ,0.11881205804333995\", \"type\": \"path\"}, {\"fillcolor\": \"rgba(99,108,195,0.25)\", \"layer\": \"below\", \"line\": {\"color\": \"rgb(150,150,150)\", \"width\": 0.45}, \"path\": \"M -1.0894373801379795, -0.15207299154713763 L -1.0860668535071418, -0.17452446737663152 L -1.0822336900270662, -0.19690160022305592 L -1.0779395225278767, -0.21919485799711033 L -1.0731861802156812, -0.2413947443381393 L -1.067975687893376, -0.2634918026593442 L -1.0623102650981315, -0.285476620176045 L -1.0561923251559258, -0.3073398319152909 L -1.0496244741535297, -0.32907212470509645 L -1.0426095098283785, -0.35066424114162004 L -1.0351504203768094, -0.37210698353257887 L -1.027250383181164, -0.3933912178152334 L -1.0189127634563038, -0.41450787744726697 L -1.0101411128161173, -0.4354479672688993 L -1.0009391677606194, -0.4562025673345987 L -0.9913108480842994, -0.47676283671274894 L -0.9812602552063876, -0.4971200172516645 L -0.9707916704237556, -0.5172654373103373 L -0.9599095530871923, -0.5371905154523366 L -0.9486185387018332, -0.5568867641012837 L -0.9369234369525553, -0.5763457931563406 L -0.9248292296551711, -0.595559313566183 L -0.912341068634304, -0.6145191408599219 L -0.8994642735288401, -0.6332171986334831 L -0.8862043295258994, -0.6516455219899475 L -0.8725668850242846, -0.6697962609323952 L -0.858557749228406, -0.6876616837078054 L -0.8441828896737095, -0.7052341801005859 L -0.8294484296846586, -0.7225062646743307 L -0.8143606457663531, -0.7394705799604258 L -0.7989259649308973, -0.7561198995921447 L -0.783150961959657, -0.7724471313828952 L -0.767042356602571, -0.7884453203473114 L -0.7506070107157056, -0.8041076516639005 L -0.7338519253382809, -0.8194274535779836 L -0.716784237710406, -0.8343982002436919 L -0.6994112182327961, -0.849013514503813 L -0.6817402673697655, -0.8632671706062967 L -0.6637789124968189, -0.8771530968562675 L -0.6455348046941832, -0.8906653782024104 L -0.5868498224492574, -0.8096957983658276 L -0.603435374997108, -0.7974119062329704 L -0.6197638794270595, -0.7847883369148151 L -0.6358283802116327, -0.771830467730739 L -0.6516220342821872, -0.7585438184033563 L -0.6671381139438917, -0.7449340487072578 L -0.6823700097415505, -0.7310069560580913 L -0.6973112332750645, -0.7167684730430103 L -0.7119554199633246, -0.7022246648935411 L -0.7262963317553611, -0.6873817269019497 L -0.7403278597875937, -0.6722459817822052 L -0.7540440269860532, -0.6568238769766642 L -0.7674389906124631, -0.6411219819096236 L -0.7805070447530963, -0.625146985188914 L -0.7932426227493495, -0.6089056917567228 L -0.8056402995689994, -0.5924050199908614 L -0.8176947941171273, -0.5756519987577119 L -0.8294009714857308, -0.5586537644181108 L -0.8407538451410645, -0.541417557787439 L -0.8517485790477775, -0.5239507210512186 L -0.8623804897289392, -0.5062606946375305 L -0.8726450482610838, -0.4883550140475787 L -0.8825378822034141, -0.47024130664576114 L -0.8920547774603523, -0.45192728841060403 L -0.9011916800766357, -0.43342076064795354 L -0.9099446979641993, -0.41472960666781694 L -0.9183101025601066, -0.39586178842627207 L -0.9262843304148215, -0.37682534313387905 L -0.9338639847101489, -0.35762837983203033 L -0.9410458367061904, -0.33827907593870804 L -0.9478268271167077, -0.3187856737651091 L -0.9542040674122996, -0.2991564770046331 L -0.9601748410508416, -0.279399847195719 L -0.9657366046346649, -0.2595242001600409 L -0.970886988993978, -0.2395380024175856 L -0.9756238001960738, -0.2194497675801266 L -0.9799450204798879, -0.19926805272464573 L -0.9838488091155146, -0.17900145474823265 L -0.9873335031883106, -0.15865860670602863 L -0.990397618307254, -0.13824817413376148 L -1.0894373801379795 ,-0.15207299154713763\", \"type\": \"path\"}, {\"fillcolor\": \"rgba(196,173,64,0.25)\", \"layer\": \"below\", \"line\": {\"color\": \"rgb(150,150,150)\", \"width\": 0.45}, \"path\": \"M -0.6172397966223017, -0.9105026268307302 L -0.59814766769232, -0.9231572821758154 L -0.5787961850533955, -0.9354116613382772 L -0.5591937394074699, -0.9472604508832251 L -0.5393488302727337, -0.9586985132373128 L -0.5192700622982815, -0.9697208889163618 L -0.49896614153318364, -0.9803227986757664 L -0.4784458716515833, -0.9904996455827518 L -0.4577181501354724, -1.0002470170095792 L -0.4367919644167922, -1.0095606865468365 L -0.4156763879805243, -1.0184366158359905 L -0.3943805764304777, -1.026870956320396 L -0.37291376351946937, -1.0348600509140091 L -0.3512852571456118, -1.0424004355870835 L -0.3295044353164597, -1.049488840868154 L -0.3075807420827572, -1.0561221932616607 L -0.28552368344354195, -1.0622976165806042 L -0.26334282322439545, -1.0680124331936427 L -0.24104777893062154, -1.0732641651860992 L -0.2186482175771404, -1.0780505354343737 L -0.19615385149692416, -1.0823694685932908 L -0.17357443412978288, -1.0862190919959591 L -0.15091975579331812, -1.0895977364657499 L -0.1281996394378952, -1.092503937040043 L -0.10542393638746608, -1.094936433605427 L -0.0826025220680808, -1.096894171444079 L -0.05974529172595726, -1.0983763016910828 L -0.036862156136956856, -1.0993821817024936 L -0.03351105103359714, -0.9994383470022669 L -0.054313901569052046, -0.998523910628257 L -0.07509320188007346, -0.9971765194946172 L -0.0958399421704237, -0.9953967578231154 L -0.1165451267617229, -0.9931853973091298 L -0.13719977799392555, -0.9905433967870452 L -0.15779494011798442, -0.9874719018145082 L -0.17832168317902194, -0.9839722441757188 L -0.19877110688830943, -0.9800459413039759 L -0.2191343444823832, -0.9756946956237265 L -0.2394025665676322, -0.9709203938124024 L -0.2595669849486745, -0.9657251059823673 L -0.2796188564388702, -0.9601110847833279 L -0.29954948665132697, -0.9540807644255944 L -0.319350233768738, -0.9476367596246213 L -0.33901251229042667, -0.9407818644672808 L -0.3585277967549797, -0.9335190512003598 L -0.37788762543684024, -0.9258514689418095 L -0.3970836040152656, -0.9177824423153059 L -0.4161074092140658, -0.9093154700087083 L -0.43495079241053025, -0.900454223257047 L -0.4536055832119851, -0.8912025442506967 L -0.47206369299843776, -0.8815644444694197 L -0.4903171184297579, -0.8715441029430115 L -0.5083579449158816, -0.8611458644392954 L -0.5261783500485413, -0.850374237580252 L -0.5437706069930182, -0.8392338928871048 L -0.561127087838456, -0.8277296607552093 L -0.6172397966223017 ,-0.9105026268307302\", \"type\": \"path\"}, {\"fillcolor\": \"rgba(150,81,158,0.25)\", \"layer\": \"below\", \"line\": {\"color\": \"rgb(150,150,150)\", \"width\": 0.45}, \"path\": \"M -0.0023115380438703957, -1.0999975712663514 L 0.020711135362150364, -1.0998050049313337 L 0.04372473556941724, -1.0991306325907693 L 0.06671918070820033, -1.097974749675796 L 0.08968439730028183, -1.0963378625592046 L 0.11261032467197482, -1.094220688333607 L 0.13548691936153665, -1.091624154497289 L 0.15830415951904167, -1.0885493985478887 L 0.1810520492967828, -1.084997767484079 L 0.20372062322828163, -1.08097081721547 L 0.2262999505939928, -1.0764703118809902 L 0.24878013977178687, -1.071498223076049 L 0.2711513425703007, -1.0660567289888112 L 0.2934037585432622, -1.0601482134459725 L 0.31552763928290206, -1.053775264868444 L 0.33751329269056873, -1.0469406751374075 L 0.3593510872226711, -1.0396474383712415 L 0.3810314561100936, -1.0318987496138474 L 0.40254490154923755, -1.0236980034349559 L 0.42388199886285116, -1.0150487924430205 L 0.445033400628819, -1.005954905711359 L 0.4659898407751086, -0.9964203271182243 L 0.4867421386390813, -0.9864492336015339 L 0.5072812029893881, -0.9760459933290231 L 0.5275980360086822, -0.9652151637846256 L 0.47963457818971106, -0.8774683307132959 L 0.46116472999035274, -0.8873145393900209 L 0.44249285330825566, -0.896772030546849 L 0.4236271279773714, -0.9058366610165675 L 0.4045758187534718, -0.9145044597375991 L 0.385347271693501, -0.9227716294936549 L 0.36594991049930686, -0.9306345485772325 L 0.34639223282735776, -0.9380897723762249 L 0.32668280656606463, -0.9451340348829468 L 0.3068302660823352, -0.9517642501249158 L 0.28684330843900185, -0.9579775135167671 L 0.2667306895847838, -0.9637711031327022 L 0.24650122051845516, -0.9691424808989192 L 0.22616376342889713, -0.974089293705499 L 0.2057272278127207, -0.9786093744372638 L 0.1852005665711651, -0.9827007429231543 L 0.16459277208798437, -0.9863616068037081 L 0.14391287229003788, -0.9895903623162623 L 0.12316992669230603, -0.9923855949975352 L 0.10237302242906801, -0.9947460803032789 L 0.08153127027298347, -0.9966707841447314 L 0.06065380064381848, -0.9981588633416326 L 0.03974975960856113, -0.9992096659916084 L 0.018828304874682147, -0.9998227317557578 L -0.0021013982217003594, -0.9999977920603195 L -0.0023115380438703957 ,-1.0999975712663514\", \"type\": \"path\"}, {\"fillcolor\": \"rgba(67,201,134,0.25)\", \"layer\": \"below\", \"line\": {\"color\": \"rgb(150,150,150)\", \"width\": 0.45}, \"path\": \"M 0.5576558391949482, -0.948166633568055 L 0.5795203986426857, -0.9349631583955716 L 0.6010725004639086, -0.9212555829877315 L 0.6223005245006443, -0.9070512980015095 L 0.6431930253266022, -0.8923579619027407 L 0.6637387384181592, -0.8771834968369335 L 0.6839265862278096, -0.8615360843579187 L 0.703745684156794, -0.845424161016638 L 0.7231853464237109, -0.828856413812439 L 0.7422350918259198, -0.8118417755093468 L 0.7608846493906499, -0.7943894198198187 L 0.7791239639127607, -0.776508756458591 L 0.7082945126479643, -0.7059170513259917 L 0.6917133176278635, -0.7221721998361987 L 0.6747591743871998, -0.7380379777357697 L 0.6574412240215554, -0.7535058307385809 L 0.6397688037789035, -0.7685674191060344 L 0.6217514420252813, -0.7832146221435624 L 0.6033988531074175, -0.7974395425790304 L 0.5847209321150928, -0.8112345108206733 L 0.5657277495460402, -0.8245920890922813 L 0.5464295458762805, -0.8375050754433921 L 0.5268367260388052, -0.8499665076323378 L 0.5069598538135892, -0.86196966688005 L 0.5576558391949482 ,-0.948166633568055\", \"type\": \"path\"}, {\"fillcolor\": \"rgba(221,77,138,0.25)\", \"layer\": \"below\", \"line\": {\"color\": \"rgb(150,150,150)\", \"width\": 0.45}, \"path\": \"M 0.8031302427401354, -0.7516527211393379 L 0.819923017400297, -0.7332981968729996 L 0.8362964211952856, -0.7145686082497312 L 0.8522420795236194, -0.6954735350027756 L 0.8677518365653174, -0.6760227438019515 L 0.7888653059684703, -0.6145661307290468 L 0.7747655268396539, -0.6322486681843414 L 0.7602694738138959, -0.6496078256815738 L 0.7453845612729972, -0.6666347244299996 L 0.7301184024910322, -0.6833206555812162 L 0.8031302427401354 ,-0.7516527211393379\", \"type\": \"path\"}, {\"fillcolor\": \"rgba(78,141,43,0.25)\", \"layer\": \"below\", \"line\": {\"color\": \"rgb(150,150,150)\", \"width\": 0.45}, \"path\": \"M 0.8885580409533451, -0.6484324235085362 L 0.9032541357879563, -0.6277993040629725 L 0.9174712067209911, -0.6068332430230965 L 0.9312017139953463, -0.5855453593464209 L 0.9444383758938341, -0.5639469426630639 L 0.9571741726009059, -0.5420494472885027 L 0.96940234992548, -0.5198644861489938 L 0.981116422882901, -0.49740382462287197 L 0.9923101791341278, -0.4746793743010069 L 1.002977682280333, -0.4517031866697113 L 1.0131132750111589, -0.4284874467194627 L 1.0227115821049693, -0.4050444664828183 L 0.9297378019136083, -0.3682222422571075 L 0.9210120681919625, -0.3895340424722388 L 0.9117978929821207, -0.41063926060882844 L 0.902100162849207, -0.4315267039100062 L 0.8919240208026372, -0.45218529511170175 L 0.8812748635686182, -0.4726040783172671 L 0.8701583387280962, -0.49277222480772964 L 0.8585803417216673, -0.5126790387846035 L 0.8465470127230421, -0.5323139630422008 L 0.8340647333827191, -0.5516665845664513 L 0.8211401234435965, -0.5707266400572476 L 0.8077800372303137, -0.5894840213713965 L 0.8885580409533451 ,-0.6484324235085362\", \"type\": \"path\"}, {\"fillcolor\": \"rgba(208,144,209,0.25)\", \"layer\": \"below\", \"line\": {\"color\": \"rgb(150,150,150)\", \"width\": 0.45}, \"path\": \"M 1.034929689828554, -0.3727204543775041 L 1.0421729503896195, -0.35195957363906993 L 1.0489997905141892, -0.3310580606195649 L 1.0554074824057453, -0.31002426692432733 L 1.0613934657465858, -0.288866597014005 L 0.9649031506787142, -0.2626059972854591 L 0.9594613476415866, -0.28184024265847935 L 0.9536361731947174, -0.3009618732905135 L 0.947429954899654, -0.3199632487627908 L 0.9408451725714126, -0.3388367767068219 L 1.034929689828554 ,-0.3727204543775041\", \"type\": \"path\"}, {\"fillcolor\": \"rgba(80,159,95,0.25)\", \"layer\": \"below\", \"line\": {\"color\": \"rgb(150,150,150)\", \"width\": 0.45}, \"path\": \"M 1.0699432512275584, -0.25538488434635664 L 1.081515399678373, -0.20080946257218346 L 1.0903056480458229, -0.14571751383886009 L 1.096291385840336, -0.0902507469901251 L 1.0994572164023046, -0.03455183498594413 L 0.9995065603657315, -0.031410759078131026 L 0.9966285325821236, -0.08204613362738644 L 0.9911869527689299, -0.13247046712623642 L 0.98319581788943, -0.18255405688380313 L 0.972675682934144, -0.23216807667850603 L 1.0699432512275584 ,-0.25538488434635664\", \"type\": \"path\"}], \"showlegend\": false, \"title\": \"Chord Diagam Attempt\", \"titlefont\": {\"color\": \"#655643\", \"family\": \"Merryweather\", \"size\": 22}, \"width\": 760, \"xaxis\": {\"showgrid\": false, \"showline\": false, \"showticklabels\": false, \"title\": \"\", \"zeroline\": false}, \"yaxis\": {\"showgrid\": false, \"showline\": false, \"showticklabels\": false, \"title\": \"\", \"zeroline\": false}}, {\"showLink\": true, \"linkText\": \"Export to plot.ly\", \"plotlyServerURL\": \"https://plot.ly\"})});</script>"
      ],
      "text/vnd.plotly.v1+html": [
       "<div id=\"f5a02647-0eb8-40cb-87b5-e5a690fcd0eb\" style=\"height: 760px; width: 760px;\" class=\"plotly-graph-div\"></div><script type=\"text/javascript\">require([\"plotly\"], function(Plotly) { window.PLOTLYENV=window.PLOTLYENV || {};window.PLOTLYENV.BASE_URL=\"https://plot.ly\";Plotly.newPlot(\"f5a02647-0eb8-40cb-87b5-e5a690fcd0eb\", [{\"hoverinfo\": \"text\", \"line\": {\"color\": \"rgba(207,86,188,0.25)\", \"shape\": \"spline\", \"width\": 0.25}, \"mode\": \"lines\", \"text\": \"Excel<br>1378\", \"x\": [1.1, 1.0997682334036993, 1.0990730312798065, 1.0979146865821945, 1.0962936874301499, 1.0942107169026845, 1.0916666527506873, 1.0886625670270482, 1.0851997256349004, 1.0812795877941763, 1.0769038054267022, 1.072074222460088, 1.066792874050708, 1.0610619857260977, 1.054883972447131, 1.0482614375903716, 1.0411971718510233, 1.033694152066952, 1.0257555399642615, 1.0173846808249634, 1.0085851020772956, 0.999360511809286, 0.9897147972061863, 0.9796520229124378, 0.9691764293188537, 0.9582924307757459, 0.9470046137327441, 0.9353177348060951, 0.923236718774254, 0.9107666565026125, 0.8979128027982405, 0.8846805741955422, 0.8710755466737627, 0.8571034533073045, 0.8427701818498451, 0.8280817722532746, 0.8130444141224972, 0.7976644441071696, 0.7819483432314771, 0.7659027341630686, 0.7495343784223066, 0.7328501735330041, 0.7158571501158504, 0.6985624689257514, 0.6809734178343317, 0.6630974087588708, 0.6449419745389664, 0.6265147657622431, 0.607823547540442, 0.5888761962372501, 0.5696806961492502, 0.5502451361413871, 0.5305777062383703, 0.5106866941734483, 0.49058048189600867, 0.47026754203947707, 0.44975643435100143, 0.4290558020844278, 0.4081743683580866, 0.3871209324789243, 0.3659043662345305, 0.3445336101546207, 0.3230176697435532, 0.3013656116854649, 0.2795865600236267, 0.2576896923156283, 0.23568423576601216, 0.2135794633379865, 0.19138468984585613, 0.16910926802981732], \"y\": [0.0, 0.022579477321374077, 0.04514943979073902, 0.06770037656558545, 0.0902227848207139, 0.1127071737526666, 0.13514406857909322, 0.15752401453136566, 0.17983758083875892, 0.2020753647025195, 0.22422799525814674, 0.24628613752421707, 0.2682404963360873, 0.2900818202628197, 0.31180090550567746, 0.3333885997765487, 0.35483580615466426, 0.37613348691998333, 0.3972726673616329, 0.4182444395597958, 0.43903996613945234, 0.4596504839943959, 0.4800673079799515, 0.5002818345728421, 0.52028554549666, 0.5400700113114155, 0.5596268949656515, 0.5789479553096247, 0.5980250505680755, 0.6168501417711214, 0.635415296141829, 0.6537126904390382, 0.6717346142540261, 0.6894734732596269, 0.7069217924104328, 0.7240722190927339, 0.7409175262228621, 0.7574506152926408, 0.7736645193606517, 0.7895524059880611, 0.805107580117767, 0.8203234868956552, 0.8351937144327735, 0.849711996507263, 0.8638722152049045, 0.87766840349717, 0.8910947477556915, 0.9041455902020878, 0.916815431292118, 0.9290989320331543, 0.9409909162340016, 0.9524863726861118, 0.9635804572752759, 0.9742684950229044, 0.9845459820560338, 0.9944085875052312, 1.0038521553295952, 1.0128727060680864, 1.0214664385164482, 1.0296297313290095, 1.0373591445446977, 1.0446514210366173, 1.051503487884584, 1.0579124576700314, 1.0638756296927547, 1.0693904911089667, 1.0744547179901958, 1.079066176302574, 1.0832229228061072, 1.0869232058735427], \"type\": \"scatter\", \"uid\": \"4415e30c-6ab6-4620-8608-fbd1c5eff51b\"}, {\"hoverinfo\": \"text\", \"line\": {\"color\": \"rgba(95,194,80,0.25)\", \"shape\": \"spline\", \"width\": 0.25}, \"mode\": \"lines\", \"text\": \"Tableau<br>803\", \"x\": [0.13488473985832855, 0.11211911243353206, 0.08930484838132892, 0.06645184439851087, 0.04357001398702819, 0.020669283153571458, -0.0022404138962749624, -0.02514913906743347, -0.04804695468642114, -0.0709239278122571, -0.0937701345453135, -0.11657566433224767, -0.13933062426514278, -0.16202514337299362, -0.18464937690367897, -0.20719351059455654, -0.22964776492983577, -0.2520023993828736, -0.274247716641561, -0.2963740668149601, -0.31837185161937115, -0.34023152854201427, -0.36194361498051586, -0.3834986923564065, -0.4048874102008479, -0.4261004902108105, -0.44712873027395017, -0.4679630084604297, -0.48859428697996204, -0.5090136161023492, -0.5292121380398255, -0.549181090789514, -0.5689118119343355, -0.5883957424007117, -0.6076244301714443, -0.6265895339521524, -0.645282826789676, -0.663696199640882, -0.6818216648903207, -0.6996513598152083], \"y\": [1.0916987253603219, 1.0942711293948666, 1.0963688448946312, 1.0979909618826724, 1.099136776693952, 1.0998057922805815, 1.09999771842744, 1.0997124718780664, 1.0989501763707767, 1.0977111625849862, 1.0959959679977633, 1.0938053366506746, 1.091140218827024, 1.0880017706396259, 1.0843913535292888, 1.0803105336742318, 1.0757610813106835, 1.0707449699649654, 1.0652643755973867, 1.0593216756583252, 1.052919448056903, 1.0460604700427047, 1.0387477170010224, 1.03098436116215, 1.0227737702252881, 1.0141195058976566, 1.0050253223494447, 0.9954951645852751, 0.985533166732882, 0.9751436502497519, 0.964331122048499, 0.9531002725417927, 0.9414559736076835, 0.9294032764762106, 0.9169474095382066, 0.9040937760772522, 0.8908479519257624, 0.8772156830462224, 0.8632028830386235, 0.8488156305751738], \"type\": \"scatter\", \"uid\": \"63fdb909-9924-4bfd-a7b2-9bfcab8735d8\"}, {\"hoverinfo\": \"text\", \"line\": {\"color\": \"rgba(134,93,213,0.25)\", \"shape\": \"spline\", \"width\": 0.25}, \"mode\": \"lines\", \"text\": \"Qlik<br>706\", \"x\": [-0.7259680673778519, -0.743075151846116, -0.7598578680578052, -0.7763088899969908, -0.792421036439416, -0.8081872740872531, -0.82360072063929, -0.8386546477952008, -0.8533424841925952, -0.8676578182755582, -0.8815944010934325, -0.8951461490286183, -0.9083071464522051, -0.9210716483062694, -0.9334340826117151, -0.9453890529005636, -0.9569313405716277, -0.9680559071685414, -0.9787578965791567, -0.9890326371553386, -0.9988756437522411, -1.0082826196861694, -1.017249458610173, -1.0257722463065562, -1.0338472623955173, -1.0414709819591736, -1.0486400770802653, -1.0553514182948611, -1.0616020759584381, -1.067389321524733, -1.0727106287368118, -1.0775636747298354, -1.0819463410450398, -1.0858567145544884, -1.0892930882961942], \"y\": [0.8264202109990212, 0.8110729429027157, 0.7953716240542199, 0.7793231084162975, 0.7629344015105637, 0.7462126573594255, 0.7291651753631974, 0.711799397113757, 0.6941229031461292, 0.6761434096294208, 0.6578687649985462, 0.6393069465282187, 0.6204660568506971, 0.6013543204188128, 0.5819800799158216, 0.5623517926136409, 0.5424780266810701, 0.5223674574436012, 0.5020288635964518, 0.48147112337247866, 0.46070321066663517, 0.4397341911186754, 0.41857321815580867, 0.3972295289970296, 0.37571244062087517, 0.3540313456983643, 0.3321957084928935, 0.31021506072888366, 0.28809899743097805, 0.26585717273560683, 0.24349929567675166, 0.221035125947741, 0.1984744696409356, 0.17582717496716044, 0.1531031279567462], \"type\": \"scatter\", \"uid\": \"7627b62f-7a41-4b3f-bf81-293c52eb2651\"}, {\"hoverinfo\": \"text\", \"line\": {\"color\": \"rgba(157,185,53,0.25)\", \"shape\": \"spline\", \"width\": 0.25}, \"mode\": \"lines\", \"text\": \"Hadoop<br>235\", \"x\": [-1.0935646733794515, -1.0983758947946891, -1.0999998770453163, -1.0984319077010467, -1.0936765366553431], \"y\": [0.11881205804333995, 0.05975277176806282, 0.0005200964232733603, -0.05871408812405549, -0.11777789762758537], \"type\": \"scatter\", \"uid\": \"55b1ba7a-07df-4db4-af7b-09d1da0828d9\"}, {\"hoverinfo\": \"text\", \"line\": {\"color\": \"rgba(99,108,195,0.25)\", \"shape\": \"spline\", \"width\": 0.25}, \"mode\": \"lines\", \"text\": \"SSRS/SSIS<br>796\", \"x\": [-1.0894373801379795, -1.0860668535071418, -1.0822336900270662, -1.0779395225278767, -1.0731861802156812, -1.067975687893376, -1.0623102650981315, -1.0561923251559258, -1.0496244741535297, -1.0426095098283785, -1.0351504203768094, -1.027250383181164, -1.0189127634563038, -1.0101411128161173, -1.0009391677606194, -0.9913108480842994, -0.9812602552063876, -0.9707916704237556, -0.9599095530871923, -0.9486185387018332, -0.9369234369525553, -0.9248292296551711, -0.912341068634304, -0.8994642735288401, -0.8862043295258994, -0.8725668850242846, -0.858557749228406, -0.8441828896737095, -0.8294484296846586, -0.8143606457663531, -0.7989259649308973, -0.783150961959657, -0.767042356602571, -0.7506070107157056, -0.7338519253382809, -0.716784237710406, -0.6994112182327961, -0.6817402673697655, -0.6637789124968189, -0.6455348046941832], \"y\": [-0.15207299154713763, -0.17452446737663152, -0.19690160022305592, -0.21919485799711033, -0.2413947443381393, -0.2634918026593442, -0.285476620176045, -0.3073398319152909, -0.32907212470509645, -0.35066424114162004, -0.37210698353257887, -0.3933912178152334, -0.41450787744726697, -0.4354479672688993, -0.4562025673345987, -0.47676283671274894, -0.4971200172516645, -0.5172654373103373, -0.5371905154523366, -0.5568867641012837, -0.5763457931563406, -0.595559313566183, -0.6145191408599219, -0.6332171986334831, -0.6516455219899475, -0.6697962609323952, -0.6876616837078054, -0.7052341801005859, -0.7225062646743307, -0.7394705799604258, -0.7561198995921447, -0.7724471313828952, -0.7884453203473114, -0.8041076516639005, -0.8194274535779836, -0.8343982002436919, -0.849013514503813, -0.8632671706062967, -0.8771530968562675, -0.8906653782024104], \"type\": \"scatter\", \"uid\": \"59cf1be8-9370-47ba-88a6-81175f6c97ce\"}, {\"hoverinfo\": \"text\", \"line\": {\"color\": \"rgba(196,173,64,0.25)\", \"shape\": \"spline\", \"width\": 0.25}, \"mode\": \"lines\", \"text\": \"SQL Server<br>565\", \"x\": [-0.6172397966223017, -0.59814766769232, -0.5787961850533955, -0.5591937394074699, -0.5393488302727337, -0.5192700622982815, -0.49896614153318364, -0.4784458716515833, -0.4577181501354724, -0.4367919644167922, -0.4156763879805243, -0.3943805764304777, -0.37291376351946937, -0.3512852571456118, -0.3295044353164597, -0.3075807420827572, -0.28552368344354195, -0.26334282322439545, -0.24104777893062154, -0.2186482175771404, -0.19615385149692416, -0.17357443412978288, -0.15091975579331812, -0.1281996394378952, -0.10542393638746608, -0.0826025220680808, -0.05974529172595726, -0.036862156136956856], \"y\": [-0.9105026268307302, -0.9231572821758154, -0.9354116613382772, -0.9472604508832251, -0.9586985132373128, -0.9697208889163618, -0.9803227986757664, -0.9904996455827518, -1.0002470170095792, -1.0095606865468365, -1.0184366158359905, -1.026870956320396, -1.0348600509140091, -1.0424004355870835, -1.049488840868154, -1.0561221932616607, -1.0622976165806042, -1.0680124331936427, -1.0732641651860992, -1.0780505354343737, -1.0823694685932908, -1.0862190919959591, -1.0895977364657499, -1.092503937040043, -1.094936433605427, -1.096894171444079, -1.0983763016910828, -1.0993821817024936], \"type\": \"scatter\", \"uid\": \"5a6a41ec-c945-4ff7-8d1b-3d1d65bd0bb3\"}, {\"hoverinfo\": \"text\", \"line\": {\"color\": \"rgba(150,81,158,0.25)\", \"shape\": \"spline\", \"width\": 0.25}, \"mode\": \"lines\", \"text\": \"Power BI<br>508\", \"x\": [-0.0023115380438703957, 0.020711135362150364, 0.04372473556941724, 0.06671918070820033, 0.08968439730028183, 0.11261032467197482, 0.13548691936153665, 0.15830415951904167, 0.1810520492967828, 0.20372062322828163, 0.2262999505939928, 0.24878013977178687, 0.2711513425703007, 0.2934037585432622, 0.31552763928290206, 0.33751329269056873, 0.3593510872226711, 0.3810314561100936, 0.40254490154923755, 0.42388199886285116, 0.445033400628819, 0.4659898407751086, 0.4867421386390813, 0.5072812029893881, 0.5275980360086822], \"y\": [-1.0999975712663514, -1.0998050049313337, -1.0991306325907693, -1.097974749675796, -1.0963378625592046, -1.094220688333607, -1.091624154497289, -1.0885493985478887, -1.084997767484079, -1.08097081721547, -1.0764703118809902, -1.071498223076049, -1.0660567289888112, -1.0601482134459725, -1.053775264868444, -1.0469406751374075, -1.0396474383712415, -1.0318987496138474, -1.0236980034349559, -1.0150487924430205, -1.005954905711359, -0.9964203271182243, -0.9864492336015339, -0.9760459933290231, -0.9652151637846256], \"type\": \"scatter\", \"uid\": \"0a1ddf3e-4854-4ff2-8c2b-e99eb9e73081\"}, {\"hoverinfo\": \"text\", \"line\": {\"color\": \"rgba(67,201,134,0.25)\", \"shape\": \"spline\", \"width\": 0.25}, \"mode\": \"lines\", \"text\": \"Spark<br>273\", \"x\": [0.5576558391949482, 0.5795203986426857, 0.6010725004639086, 0.6223005245006443, 0.6431930253266022, 0.6637387384181592, 0.6839265862278096, 0.703745684156794, 0.7231853464237109, 0.7422350918259198, 0.7608846493906499, 0.7791239639127607], \"y\": [-0.948166633568055, -0.9349631583955716, -0.9212555829877315, -0.9070512980015095, -0.8923579619027407, -0.8771834968369335, -0.8615360843579187, -0.845424161016638, -0.828856413812439, -0.8118417755093468, -0.7943894198198187, -0.776508756458591], \"type\": \"scatter\", \"uid\": \"440b262e-0c8e-40c2-946c-970137aba753\"}, {\"hoverinfo\": \"text\", \"line\": {\"color\": \"rgba(221,77,138,0.25)\", \"shape\": \"spline\", \"width\": 0.25}, \"mode\": \"lines\", \"text\": \"Postgresql<br>116\", \"x\": [0.8031302427401354, 0.819923017400297, 0.8362964211952856, 0.8522420795236194, 0.8677518365653174], \"y\": [-0.7516527211393379, -0.7332981968729996, -0.7145686082497312, -0.6954735350027756, -0.6760227438019515], \"type\": \"scatter\", \"uid\": \"5e4bcdae-5d97-44cf-b1fc-78b9e9d379c3\"}, {\"hoverinfo\": \"text\", \"line\": {\"color\": \"rgba(78,141,43,0.25)\", \"shape\": \"spline\", \"width\": 0.25}, \"mode\": \"lines\", \"text\": \"Informatica<br>271\", \"x\": [0.8885580409533451, 0.9032541357879563, 0.9174712067209911, 0.9312017139953463, 0.9444383758938341, 0.9571741726009059, 0.96940234992548, 0.981116422882901, 0.9923101791341278, 1.002977682280333, 1.0131132750111589, 1.0227115821049693], \"y\": [-0.6484324235085362, -0.6277993040629725, -0.6068332430230965, -0.5855453593464209, -0.5639469426630639, -0.5420494472885027, -0.5198644861489938, -0.49740382462287197, -0.4746793743010069, -0.4517031866697113, -0.4284874467194627, -0.4050444664828183], \"type\": \"scatter\", \"uid\": \"9f4744f9-1ab0-4380-976e-af607bd5b02a\"}, {\"hoverinfo\": \"text\", \"line\": {\"color\": \"rgba(208,144,209,0.25)\", \"shape\": \"spline\", \"width\": 0.25}, \"mode\": \"lines\", \"text\": \"Microstrategy<br>106\", \"x\": [1.034929689828554, 1.0421729503896195, 1.0489997905141892, 1.0554074824057453, 1.0613934657465858], \"y\": [-0.3727204543775041, -0.35195957363906993, -0.3310580606195649, -0.31002426692432733, -0.288866597014005], \"type\": \"scatter\", \"uid\": \"a8d876fd-2582-45d3-b33a-2426b9e36e36\"}, {\"hoverinfo\": \"text\", \"line\": {\"color\": \"rgba(80,159,95,0.25)\", \"shape\": \"spline\", \"width\": 0.25}, \"mode\": \"lines\", \"text\": \"MySQL/MariaDB<br>223\", \"x\": [1.0699432512275584, 1.081515399678373, 1.0903056480458229, 1.096291385840336, 1.0994572164023046], \"y\": [-0.25538488434635664, -0.20080946257218346, -0.14571751383886009, -0.0902507469901251, -0.03455183498594413], \"type\": \"scatter\", \"uid\": \"ae57ff64-3940-46c8-892c-a29bf347d401\"}, {\"hoverinfo\": \"text\", \"marker\": {\"color\": \"green\", \"size\": 0.5}, \"mode\": \"markers\", \"text\": \"Excel appears with Tableau 250 times\", \"x\": [0.5016264791584663], \"y\": [0.7472421798902152], \"type\": \"scatter\", \"uid\": \"465e0b8d-15ed-444d-90a4-d1196c0d1ed8\"}, {\"hoverinfo\": \"text\", \"marker\": {\"color\": \"blue\", \"size\": 0.5}, \"mode\": \"markers\", \"text\": \"Tableau appears with Excel 250 times\", \"x\": [-0.4802899221027854], \"y\": [0.7611317827593986], \"type\": \"scatter\", \"uid\": \"2aef0356-d052-4b1d-a946-848bbe3e3628\"}, {\"hoverinfo\": \"text\", \"marker\": {\"color\": \"green\", \"size\": 0.5}, \"mode\": \"markers\", \"text\": \"Excel appears with Qlik 237 times\", \"x\": [0.6710791797546277], \"y\": [0.5997105422617283], \"type\": \"scatter\", \"uid\": \"895b61ac-c43e-48b7-a7b4-849e2503f562\"}, {\"hoverinfo\": \"text\", \"marker\": {\"color\": \"blue\", \"size\": 0.5}, \"mode\": \"markers\", \"text\": \"Qlik appears with Excel 237 times\", \"x\": [-0.8700112121265288], \"y\": [0.23039203713264111], \"type\": \"scatter\", \"uid\": \"dbf0f01d-42d0-4194-8f18-edd00b82c3d7\"}, {\"hoverinfo\": \"text\", \"marker\": {\"color\": \"green\", \"size\": 0.5}, \"mode\": \"markers\", \"text\": \"Excel appears with Hadoop 50 times\", \"x\": [0.8974674524982533], \"y\": [0.06746978365383699], \"type\": \"scatter\", \"uid\": \"61d6b379-8bda-4e5d-844c-d7559c92adfd\"}, {\"hoverinfo\": \"text\", \"marker\": {\"color\": \"blue\", \"size\": 0.5}, \"mode\": \"markers\", \"text\": \"Hadoop appears with Excel 50 times\", \"x\": [-0.8998908416384218], \"y\": [-0.014016887503752335], \"type\": \"scatter\", \"uid\": \"b4c2138a-9c9e-4d84-8194-f5fdebe75204\"}, {\"hoverinfo\": \"text\", \"marker\": {\"color\": \"green\", \"size\": 0.5}, \"mode\": \"markers\", \"text\": \"Excel appears with SSRS/SSIS 300 times\", \"x\": [0.2732951674135017], \"y\": [0.8575020416701211], \"type\": \"scatter\", \"uid\": \"f0e80c49-78d1-4ebc-9d8d-8370cf636127\"}, {\"hoverinfo\": \"text\", \"marker\": {\"color\": \"blue\", \"size\": 0.5}, \"mode\": \"markers\", \"text\": \"SSRS/SSIS appears with Excel 300 times\", \"x\": [-0.6322137624591473], \"y\": [-0.6405511365669793], \"type\": \"scatter\", \"uid\": \"2817475e-7269-4011-b5bb-6584fac0f151\"}, {\"hoverinfo\": \"text\", \"marker\": {\"color\": \"green\", \"size\": 0.5}, \"mode\": \"markers\", \"text\": \"Excel appears with SQL Server 159 times\", \"x\": [0.7784432041295066], \"y\": [0.45169257016757236], \"type\": \"scatter\", \"uid\": \"dfa1871a-644e-445a-98b2-727e5b89f5b9\"}, {\"hoverinfo\": \"text\", \"marker\": {\"color\": \"blue\", \"size\": 0.5}, \"mode\": \"markers\", \"text\": \"SQL Server appears with Excel 159 times\", \"x\": [-0.10115058112054356], \"y\": [-0.8942978027139373], \"type\": \"scatter\", \"uid\": \"80f01b3b-9f58-499c-b1ce-a42686f7ef89\"}, {\"hoverinfo\": \"text\", \"marker\": {\"color\": \"green\", \"size\": 0.5}, \"mode\": \"markers\", \"text\": \"Excel appears with Power BI 136 times\", \"x\": [0.8377347125552816], \"y\": [0.32893852218905534], \"type\": \"scatter\", \"uid\": \"12de7534-ec30-41d6-84d0-99b45cce5227\"}, {\"hoverinfo\": \"text\", \"marker\": {\"color\": \"blue\", \"size\": 0.5}, \"mode\": \"markers\", \"text\": \"Power BI appears with Excel 136 times\", \"x\": [0.3776328916973269], \"y\": [-0.8169414906272755], \"type\": \"scatter\", \"uid\": \"c92a0ff5-4f9e-4d3f-85ac-6825192f96ea\"}, {\"hoverinfo\": \"text\", \"marker\": {\"color\": \"green\", \"size\": 0.5}, \"mode\": \"markers\", \"text\": \"Excel appears with Spark 55 times\", \"x\": [0.8925217365719288], \"y\": [0.11577974670307623], \"type\": \"scatter\", \"uid\": \"32d16e94-64c5-40d9-84c9-b229b4571a9c\"}, {\"hoverinfo\": \"text\", \"marker\": {\"color\": \"blue\", \"size\": 0.5}, \"mode\": \"markers\", \"text\": \"Spark appears with Excel 55 times\", \"x\": [0.5737006734707271], \"y\": [-0.6934461314761474], \"type\": \"scatter\", \"uid\": \"353d7d18-68bf-4c32-a530-fea70b6dd53c\"}, {\"hoverinfo\": \"text\", \"marker\": {\"color\": \"green\", \"size\": 0.5}, \"mode\": \"markers\", \"text\": \"Excel appears with Postgresql 25 times\", \"x\": [0.8994008657050627], \"y\": [0.03283417075218701], \"type\": \"scatter\", \"uid\": \"32604700-c0fb-4962-a4d0-bb8fda62a982\"}, {\"hoverinfo\": \"text\", \"marker\": {\"color\": \"blue\", \"size\": 0.5}, \"mode\": \"markers\", \"text\": \"Postgresql appears with Excel 25 times\", \"x\": [0.6771254769775441], \"y\": [-0.5928752722351754], \"type\": \"scatter\", \"uid\": \"d870ac8f-5215-4925-a604-f171031a665c\"}, {\"hoverinfo\": \"text\", \"marker\": {\"color\": \"green\", \"size\": 0.5}, \"mode\": \"markers\", \"text\": \"Excel appears with Informatica 79 times\", \"x\": [0.8688990885599749], \"y\": [0.23455143124620872], \"type\": \"scatter\", \"uid\": \"45065766-de1b-4638-9368-d3794c197f00\"}, {\"hoverinfo\": \"text\", \"marker\": {\"color\": \"blue\", \"size\": 0.5}, \"mode\": \"markers\", \"text\": \"Informatica appears with Excel 79 times\", \"x\": [0.8239599934230557], \"y\": [-0.36206343261682494], \"type\": \"scatter\", \"uid\": \"dbbfcabf-263e-4d1d-b898-c9007bda0894\"}, {\"hoverinfo\": \"text\", \"marker\": {\"color\": \"green\", \"size\": 0.5}, \"mode\": \"markers\", \"text\": \"Excel appears with Microstrategy 23 times\", \"x\": [0.8999371209041379], \"y\": [0.01063853461578082], \"type\": \"scatter\", \"uid\": \"c2ce61d8-0eac-4ac2-b7df-488d66fc553a\"}, {\"hoverinfo\": \"text\", \"marker\": {\"color\": \"blue\", \"size\": 0.5}, \"mode\": \"markers\", \"text\": \"Microstrategy appears with Excel 23 times\", \"x\": [0.8619687890325269], \"y\": [-0.25886252477676064], \"type\": \"scatter\", \"uid\": \"eba68dc0-6eec-4b03-9414-949eee3df144\"}, {\"hoverinfo\": \"text\", \"marker\": {\"color\": \"green\", \"size\": 0.5}, \"mode\": \"markers\", \"text\": \"Excel appears with MySQL/MariaDB 64 times\", \"x\": [0.8837762965954639], \"y\": [0.1701160121094038], \"type\": \"scatter\", \"uid\": \"8f2cb022-986e-49bc-9eeb-501d9eb06120\"}, {\"hoverinfo\": \"text\", \"marker\": {\"color\": \"blue\", \"size\": 0.5}, \"mode\": \"markers\", \"text\": \"MySQL/MariaDB appears with Excel 64 times\", \"x\": [0.8983517456204286], \"y\": [-0.05444392657339157], \"type\": \"scatter\", \"uid\": \"1fd378d1-cd35-4433-9aa3-16f519ca6dcd\"}, {\"hoverinfo\": \"text\", \"marker\": {\"color\": \"green\", \"size\": 0.5}, \"mode\": \"markers\", \"text\": \"Tableau appears with Qlik 195 times\", \"x\": [-0.2983060686695301], \"y\": [0.8491251317650006], \"type\": \"scatter\", \"uid\": \"582d23f7-cb35-4c17-9e15-b48bc6269a31\"}, {\"hoverinfo\": \"text\", \"marker\": {\"color\": \"blue\", \"size\": 0.5}, \"mode\": \"markers\", \"text\": \"Qlik appears with Tableau 195 times\", \"x\": [-0.7998638383453157], \"y\": [0.41257464792143805], \"type\": \"scatter\", \"uid\": \"19775fb2-9cdf-4ddf-bd70-2151f7659de6\"}, {\"hoverinfo\": \"text\", \"marker\": {\"color\": \"green\", \"size\": 0.5}, \"mode\": \"markers\", \"text\": \"Tableau appears with Hadoop 29 times\", \"x\": [0.04825184941304551], \"y\": [0.8987056019788798], \"type\": \"scatter\", \"uid\": \"91b77167-270b-49aa-883a-5cc72b649d0d\"}, {\"hoverinfo\": \"text\", \"marker\": {\"color\": \"blue\", \"size\": 0.5}, \"mode\": \"markers\", \"text\": \"Hadoop appears with Tableau 29 times\", \"x\": [-0.8998081697105208], \"y\": [0.01858111197433049], \"type\": \"scatter\", \"uid\": \"bb620d74-d688-4eb9-bc05-adbe55f17dbf\"}, {\"hoverinfo\": \"text\", \"marker\": {\"color\": \"green\", \"size\": 0.5}, \"mode\": \"markers\", \"text\": \"Tableau appears with SSRS/SSIS 81 times\", \"x\": [-0.09720208030130344], \"y\": [0.8947355785845889], \"type\": \"scatter\", \"uid\": \"a923468b-afe5-4256-95ce-2664f81eb407\"}, {\"hoverinfo\": \"text\", \"marker\": {\"color\": \"blue\", \"size\": 0.5}, \"mode\": \"markers\", \"text\": \"SSRS/SSIS appears with Tableau 81 times\", \"x\": [-0.8077514378482288], \"y\": [-0.39691008384030646], \"type\": \"scatter\", \"uid\": \"09136daa-5ead-4308-a992-e1f7f3c64daa\"}, {\"hoverinfo\": \"text\", \"marker\": {\"color\": \"green\", \"size\": 0.5}, \"mode\": \"markers\", \"text\": \"Tableau appears with SQL Server 41 times\", \"x\": [-0.04184140083218889], \"y\": [0.8990268612096082], \"type\": \"scatter\", \"uid\": \"b73c3cd0-c9e6-4488-8709-f1b69234f200\"}, {\"hoverinfo\": \"text\", \"marker\": {\"color\": \"blue\", \"size\": 0.5}, \"mode\": \"markers\", \"text\": \"SQL Server appears with Tableau 41 times\", \"x\": [-0.36380295987214645], \"y\": [-0.8231934197916462], \"type\": \"scatter\", \"uid\": \"0c9cfab5-9059-4f23-b611-fe1c75a9cf9a\"}, {\"hoverinfo\": \"text\", \"marker\": {\"color\": \"green\", \"size\": 0.5}, \"mode\": \"markers\", \"text\": \"Tableau appears with Power BI 89 times\", \"x\": [-0.17368118001952682], \"y\": [0.8830825826087981], \"type\": \"scatter\", \"uid\": \"6c909168-feb7-42ad-acb2-1d402cc0a2de\"}, {\"hoverinfo\": \"text\", \"marker\": {\"color\": \"blue\", \"size\": 0.5}, \"mode\": \"markers\", \"text\": \"Power BI appears with Tableau 89 times\", \"x\": [0.20845666685693373], \"y\": [-0.8755260236240253], \"type\": \"scatter\", \"uid\": \"9bbc8b65-9a0c-492b-a308-4a2032687eb7\"}, {\"hoverinfo\": \"text\", \"marker\": {\"color\": \"green\", \"size\": 0.5}, \"mode\": \"markers\", \"text\": \"Tableau appears with Spark 29 times\", \"x\": [0.021870690319803664], \"y\": [0.8997342234820987], \"type\": \"scatter\", \"uid\": \"f702d60c-bb89-4973-aa03-d746fcecb858\"}, {\"hoverinfo\": \"text\", \"marker\": {\"color\": \"blue\", \"size\": 0.5}, \"mode\": \"markers\", \"text\": \"Spark appears with Tableau 29 times\", \"x\": [0.5222977810739786], \"y\": [-0.732942718010895], \"type\": \"scatter\", \"uid\": \"91f58bd7-28ea-46e6-9099-5680d8111119\"}, {\"hoverinfo\": \"text\", \"marker\": {\"color\": \"green\", \"size\": 0.5}, \"mode\": \"markers\", \"text\": \"Tableau appears with Postgresql 5 times\", \"x\": [0.10810102010603578], \"y\": [0.8934842860688903], \"type\": \"scatter\", \"uid\": \"5cbb0e5b-fc4c-4ccf-af64-78c17a273ff1\"}, {\"hoverinfo\": \"text\", \"marker\": {\"color\": \"blue\", \"size\": 0.5}, \"mode\": \"markers\", \"text\": \"Postgresql appears with Tableau 5 times\", \"x\": [0.6597383806542125], \"y\": [-0.6121644134476926], \"type\": \"scatter\", \"uid\": \"11ae5af3-d91c-46b8-9d43-5dfa5210ed33\"}, {\"hoverinfo\": \"text\", \"marker\": {\"color\": \"green\", \"size\": 0.5}, \"mode\": \"markers\", \"text\": \"Tableau appears with Informatica 35 times\", \"x\": [-0.007260486427172571], \"y\": [0.8999707135995265], \"type\": \"scatter\", \"uid\": \"43b761c0-dda7-4537-9a04-78d0f431d846\"}, {\"hoverinfo\": \"text\", \"marker\": {\"color\": \"blue\", \"size\": 0.5}, \"mode\": \"markers\", \"text\": \"Informatica appears with Tableau 35 times\", \"x\": [0.7594602082360385], \"y\": [-0.48292876504311993], \"type\": \"scatter\", \"uid\": \"dbcebf7b-143b-4f58-bfbf-8bdf67a7f944\"}, {\"hoverinfo\": \"text\", \"marker\": {\"color\": \"green\", \"size\": 0.5}, \"mode\": \"markers\", \"text\": \"Tableau appears with Microstrategy 23 times\", \"x\": [0.09543701240730677], \"y\": [0.8949255704597827], \"type\": \"scatter\", \"uid\": \"4fdf5e19-141d-4fb4-8181-3b5b4b3242f0\"}, {\"hoverinfo\": \"text\", \"marker\": {\"color\": \"blue\", \"size\": 0.5}, \"mode\": \"markers\", \"text\": \"Microstrategy appears with Tableau 23 times\", \"x\": [0.866329957744012], \"y\": [-0.2438696461539615], \"type\": \"scatter\", \"uid\": \"fbe450a4-92b4-4e78-bba6-b9104343abdb\"}, {\"hoverinfo\": \"text\", \"marker\": {\"color\": \"green\", \"size\": 0.5}, \"mode\": \"markers\", \"text\": \"Tableau appears with MySQL/MariaDB 26 times\", \"x\": [0.07323047113794251], \"y\": [0.8970157736054116], \"type\": \"scatter\", \"uid\": \"8f90429e-c9f1-4352-a227-98a3419fc0da\"}, {\"hoverinfo\": \"text\", \"marker\": {\"color\": \"blue\", \"size\": 0.5}, \"mode\": \"markers\", \"text\": \"MySQL/MariaDB appears with Tableau 26 times\", \"x\": [0.884004607406174], \"y\": [-0.16892558741841412], \"type\": \"scatter\", \"uid\": \"6d35f9ba-5446-4812-81e6-7144fee02edc\"}, {\"hoverinfo\": \"text\", \"marker\": {\"color\": \"green\", \"size\": 0.5}, \"mode\": \"markers\", \"text\": \"Qlik appears with Hadoop 8 times\", \"x\": [-0.6007472420262995], \"y\": [0.6701512897829824], \"type\": \"scatter\", \"uid\": \"84d03636-5a3e-4f4d-8d98-e1623ad39f29\"}, {\"hoverinfo\": \"text\", \"marker\": {\"color\": \"blue\", \"size\": 0.5}, \"mode\": \"markers\", \"text\": \"Hadoop appears with Qlik 8 times\", \"x\": [-0.8961413817020633], \"y\": [0.08325036937525863], \"type\": \"scatter\", \"uid\": \"5e5ff5e2-0258-4c26-bb6b-2c74b645db70\"}, {\"hoverinfo\": \"text\", \"marker\": {\"color\": \"green\", \"size\": 0.5}, \"mode\": \"markers\", \"text\": \"Qlik appears with SSRS/SSIS 42 times\", \"x\": [-0.6588903603284537], \"y\": [0.6130770694343741], \"type\": \"scatter\", \"uid\": \"e074b474-a3c6-40c7-8318-0ee25f2fbe40\"}, {\"hoverinfo\": \"text\", \"marker\": {\"color\": \"blue\", \"size\": 0.5}, \"mode\": \"markers\", \"text\": \"SSRS/SSIS appears with Qlik 42 times\", \"x\": [-0.8666245009137858], \"y\": [-0.24282086898767927], \"type\": \"scatter\", \"uid\": \"1ad28010-e1ae-4e80-92b9-7606ae1408fc\"}, {\"hoverinfo\": \"text\", \"marker\": {\"color\": \"green\", \"size\": 0.5}, \"mode\": \"markers\", \"text\": \"Qlik appears with SQL Server 24 times\", \"x\": [-0.6381738976791446], \"y\": [0.6346133281936401], \"type\": \"scatter\", \"uid\": \"155b0c74-87b8-46f7-8d7f-f3ba8b33f3ca\"}, {\"hoverinfo\": \"text\", \"marker\": {\"color\": \"blue\", \"size\": 0.5}, \"mode\": \"markers\", \"text\": \"SQL Server appears with Qlik 24 times\", \"x\": [-0.46120173549162174], \"y\": [-0.772847306509841], \"type\": \"scatter\", \"uid\": \"b80aaa60-15c7-4d32-b0f2-06a03cbf1ac5\"}, {\"hoverinfo\": \"text\", \"marker\": {\"color\": \"green\", \"size\": 0.5}, \"mode\": \"markers\", \"text\": \"Qlik appears with Power BI 89 times\", \"x\": [-0.7329646170450514], \"y\": [0.5222670487020995], \"type\": \"scatter\", \"uid\": \"4cbd63fd-173d-409c-a24c-673f271d00aa\"}, {\"hoverinfo\": \"text\", \"marker\": {\"color\": \"blue\", \"size\": 0.5}, \"mode\": \"markers\", \"text\": \"Power BI appears with Qlik 89 times\", \"x\": [0.28460403319045485], \"y\": [-0.8538152869864339], \"type\": \"scatter\", \"uid\": \"319c4b3a-6fa2-43e4-b8d9-faf35755e42d\"}, {\"hoverinfo\": \"text\", \"marker\": {\"color\": \"green\", \"size\": 0.5}, \"mode\": \"markers\", \"text\": \"Qlik appears with Spark 14 times\", \"x\": [-0.6147725310524506], \"y\": [0.6573087060608309], \"type\": \"scatter\", \"uid\": \"d124cbfe-7020-43b7-805f-cfb604e5c052\"}, {\"hoverinfo\": \"text\", \"marker\": {\"color\": \"blue\", \"size\": 0.5}, \"mode\": \"markers\", \"text\": \"Spark appears with Qlik 14 times\", \"x\": [0.4699818388616788], \"y\": [-0.7675396218699039], \"type\": \"scatter\", \"uid\": \"21aa8b01-46bc-4ba4-8327-868558012e45\"}, {\"hoverinfo\": \"text\", \"marker\": {\"color\": \"green\", \"size\": 0.5}, \"mode\": \"markers\", \"text\": \"Qlik appears with Postgresql 6 times\", \"x\": [-0.5960122295098025], \"y\": [0.6743659409213625], \"type\": \"scatter\", \"uid\": \"020682b0-623c-400c-b826-6e62c48135e4\"}, {\"hoverinfo\": \"text\", \"marker\": {\"color\": \"blue\", \"size\": 0.5}, \"mode\": \"markers\", \"text\": \"Postgresql appears with Qlik 6 times\", \"x\": [0.664729015409033], \"y\": [-0.6067415727254377], \"type\": \"scatter\", \"uid\": \"e7ee3dbe-1191-42bf-9f7b-bbcc7ce3c3ad\"}, {\"hoverinfo\": \"text\", \"marker\": {\"color\": \"green\", \"size\": 0.5}, \"mode\": \"markers\", \"text\": \"Qlik appears with Informatica 64 times\", \"x\": [-0.690632750252847], \"y\": [0.5770843996142928], \"type\": \"scatter\", \"uid\": \"3ad2cc43-bdbf-4d99-b2d6-b47b6154fab5\"}, {\"hoverinfo\": \"text\", \"marker\": {\"color\": \"blue\", \"size\": 0.5}, \"mode\": \"markers\", \"text\": \"Informatica appears with Qlik 64 times\", \"x\": [0.7979393427972199], \"y\": [-0.41628452435364544], \"type\": \"scatter\", \"uid\": \"dfbaf968-2851-4625-b892-d78f7b19854b\"}, {\"hoverinfo\": \"text\", \"marker\": {\"color\": \"green\", \"size\": 0.5}, \"mode\": \"markers\", \"text\": \"Qlik appears with Microstrategy 17 times\", \"x\": [-0.624948815269403], \"y\": [0.6476410875580467], \"type\": \"scatter\", \"uid\": \"ac8dadb6-29a0-4a74-84c2-45bf0fd87cdb\"}, {\"hoverinfo\": \"text\", \"marker\": {\"color\": \"blue\", \"size\": 0.5}, \"mode\": \"markers\", \"text\": \"Microstrategy appears with Qlik 17 times\", \"x\": [0.857965526121474], \"y\": [-0.2718366347406148], \"type\": \"scatter\", \"uid\": \"44bfa4f5-4ed2-401f-a709-013a1cd77c06\"}, {\"hoverinfo\": \"text\", \"marker\": {\"color\": \"green\", \"size\": 0.5}, \"mode\": \"markers\", \"text\": \"Qlik appears with MySQL/MariaDB 10 times\", \"x\": [-0.6067912908066259], \"y\": [0.6646836310615968], \"type\": \"scatter\", \"uid\": \"500f5510-6445-4182-a743-a6ee6ab87872\"}, {\"hoverinfo\": \"text\", \"marker\": {\"color\": \"blue\", \"size\": 0.5}, \"mode\": \"markers\", \"text\": \"MySQL/MariaDB appears with Qlik 10 times\", \"x\": [0.8779985452210664], \"y\": [-0.1977841110647949], \"type\": \"scatter\", \"uid\": \"af34fc98-61bd-4fee-b0a6-59b8a2f663eb\"}, {\"hoverinfo\": \"text\", \"marker\": {\"color\": \"green\", \"size\": 0.5}, \"mode\": \"markers\", \"text\": \"Hadoop appears with SSRS/SSIS 26 times\", \"x\": [-0.8990535441741934], \"y\": [0.04126408496285638], \"type\": \"scatter\", \"uid\": \"4fe4e588-30ed-407a-9836-d8bbf0d1cdae\"}, {\"hoverinfo\": \"text\", \"marker\": {\"color\": \"blue\", \"size\": 0.5}, \"mode\": \"markers\", \"text\": \"SSRS/SSIS appears with Hadoop 26 times\", \"x\": [-0.8862387188737052], \"y\": [-0.1567830767943209], \"type\": \"scatter\", \"uid\": \"3d322a5c-9e03-4413-a2f5-2e71cbbb5a02\"}, {\"hoverinfo\": \"text\", \"marker\": {\"color\": \"green\", \"size\": 0.5}, \"mode\": \"markers\", \"text\": \"Hadoop appears with SQL Server 20 times\", \"x\": [-0.8979833312719712], \"y\": [0.06021575174066493], \"type\": \"scatter\", \"uid\": \"bea6c42a-71d5-4d77-bfd2-07c53ad0db53\"}, {\"hoverinfo\": \"text\", \"marker\": {\"color\": \"blue\", \"size\": 0.5}, \"mode\": \"markers\", \"text\": \"SQL Server appears with Hadoop 20 times\", \"x\": [-0.47800913739659406], \"y\": [-0.7625662361823818], \"type\": \"scatter\", \"uid\": \"f9900005-8dfa-4004-8a16-b43721d6c074\"}, {\"hoverinfo\": \"text\", \"marker\": {\"color\": \"green\", \"size\": 0.5}, \"mode\": \"markers\", \"text\": \"Hadoop appears with Power BI 14 times\", \"x\": [-0.8969355365385826], \"y\": [0.07420676043491638], \"type\": \"scatter\", \"uid\": \"55a288d3-394e-4053-854a-17f1d7d95ed2\"}, {\"hoverinfo\": \"text\", \"marker\": {\"color\": \"blue\", \"size\": 0.5}, \"mode\": \"markers\", \"text\": \"Power BI appears with Hadoop 14 times\", \"x\": [0.021246032107129872], \"y\": [-0.8997491906746584], \"type\": \"scatter\", \"uid\": \"365c4764-1f50-4d5f-8837-4599d3a412bc\"}, {\"hoverinfo\": \"text\", \"marker\": {\"color\": \"green\", \"size\": 0.5}, \"mode\": \"markers\", \"text\": \"Hadoop appears with Spark 75 times\", \"x\": [-0.8976103352706833], \"y\": [-0.06554148316334775], \"type\": \"scatter\", \"uid\": \"deef741d-c1be-4291-93d3-e6c3d7ca3323\"}, {\"hoverinfo\": \"text\", \"marker\": {\"color\": \"blue\", \"size\": 0.5}, \"mode\": \"markers\", \"text\": \"Spark appears with Hadoop 75 times\", \"x\": [0.6147863659595616], \"y\": [-0.6572957661739774], \"type\": \"scatter\", \"uid\": \"f432edd8-b348-4f33-a3ac-882ba61ea527\"}, {\"hoverinfo\": \"text\", \"marker\": {\"color\": \"green\", \"size\": 0.5}, \"mode\": \"markers\", \"text\": \"Hadoop appears with Postgresql 3 times\", \"x\": [-0.8948676006465776], \"y\": [0.09597904621862781], \"type\": \"scatter\", \"uid\": \"fa093e71-430e-414e-9eed-8ca40aafb8d4\"}, {\"hoverinfo\": \"text\", \"marker\": {\"color\": \"blue\", \"size\": 0.5}, \"mode\": \"markers\", \"text\": \"Postgresql appears with Hadoop 3 times\", \"x\": [0.6578255318994164], \"y\": [-0.6142194799753993], \"type\": \"scatter\", \"uid\": \"3aff6838-3b5b-49dc-85ce-6b18db45c01d\"}, {\"hoverinfo\": \"text\", \"marker\": {\"color\": \"green\", \"size\": 0.5}, \"mode\": \"markers\", \"text\": \"Hadoop appears with Informatica 4 times\", \"x\": [-0.895669768533224], \"y\": [0.0881797354024215], \"type\": \"scatter\", \"uid\": \"7022f749-6287-46e0-a39c-c65e342c5e4e\"}, {\"hoverinfo\": \"text\", \"marker\": {\"color\": \"blue\", \"size\": 0.5}, \"mode\": \"markers\", \"text\": \"Informatica appears with Hadoop 4 times\", \"x\": [0.7284869655454403], \"y\": [-0.5284947880825283], \"type\": \"scatter\", \"uid\": \"9589a887-7b9b-4683-8954-7a949d606273\"}, {\"hoverinfo\": \"text\", \"marker\": {\"color\": \"green\", \"size\": 0.5}, \"mode\": \"markers\", \"text\": \"Hadoop appears with Microstrategy 3 times\", \"x\": [-0.8951282567259863], \"y\": [0.09351686484638427], \"type\": \"scatter\", \"uid\": \"224d5d51-303f-46a3-99cd-7e5e0a8a2ba1\"}, {\"hoverinfo\": \"text\", \"marker\": {\"color\": \"blue\", \"size\": 0.5}, \"mode\": \"markers\", \"text\": \"Microstrategy appears with Hadoop 3 times\", \"x\": [0.8471051630095191], \"y\": [-0.30399480719679434], \"type\": \"scatter\", \"uid\": \"00801463-cbfd-4d76-8c03-c2f60efe9fe6\"}, {\"hoverinfo\": \"text\", \"marker\": {\"color\": \"green\", \"size\": 0.5}, \"mode\": \"markers\", \"text\": \"Hadoop appears with MySQL/MariaDB 3 times\", \"x\": [-0.8953821382551637], \"y\": [0.09105397571556693], \"type\": \"scatter\", \"uid\": \"a89479c4-a7d0-412f-a18a-7b291c226d59\"}, {\"hoverinfo\": \"text\", \"marker\": {\"color\": \"blue\", \"size\": 0.5}, \"mode\": \"markers\", \"text\": \"MySQL/MariaDB appears with Hadoop 3 times\", \"x\": [0.8758811205122227], \"y\": [-0.2069595678635161], \"type\": \"scatter\", \"uid\": \"84c0edc1-9587-43ce-ab93-17ca236c8465\"}, {\"hoverinfo\": \"text\", \"marker\": {\"color\": \"green\", \"size\": 0.5}, \"mode\": \"markers\", \"text\": \"SSRS/SSIS appears with SQL Server 141 times\", \"x\": [-0.7582098063803507], \"y\": [-0.4848895642398081], \"type\": \"scatter\", \"uid\": \"48316b6a-8678-4105-8a95-07f508bc6b70\"}, {\"hoverinfo\": \"text\", \"marker\": {\"color\": \"blue\", \"size\": 0.5}, \"mode\": \"markers\", \"text\": \"SQL Server appears with SSRS/SSIS 141 times\", \"x\": [-0.23301762191564385], \"y\": [-0.8693116747615771], \"type\": \"scatter\", \"uid\": \"7f81e30b-93e9-4133-af75-05be0644f9a8\"}, {\"hoverinfo\": \"text\", \"marker\": {\"color\": \"green\", \"size\": 0.5}, \"mode\": \"markers\", \"text\": \"SSRS/SSIS appears with Power BI 78 times\", \"x\": [-0.8370170112172082], \"y\": [-0.3307605220291747], \"type\": \"scatter\", \"uid\": \"a3406a4c-105f-43ae-8c55-f19df76431fe\"}, {\"hoverinfo\": \"text\", \"marker\": {\"color\": \"blue\", \"size\": 0.5}, \"mode\": \"markers\", \"text\": \"Power BI appears with SSRS/SSIS 78 times\", \"x\": [0.13553675006210586], \"y\": [-0.8897357975166573], \"type\": \"scatter\", \"uid\": \"32b9164d-0576-4e1e-9665-642b2d2629b2\"}, {\"hoverinfo\": \"text\", \"marker\": {\"color\": \"green\", \"size\": 0.5}, \"mode\": \"markers\", \"text\": \"SSRS/SSIS appears with Spark 35 times\", \"x\": [-0.8754190217489316], \"y\": [-0.20890556804485505], \"type\": \"scatter\", \"uid\": \"872cb1d5-d440-4103-b055-943a745baf4b\"}, {\"hoverinfo\": \"text\", \"marker\": {\"color\": \"blue\", \"size\": 0.5}, \"mode\": \"markers\", \"text\": \"Spark appears with SSRS/SSIS 35 times\", \"x\": [0.5440046897807708], \"y\": [-0.7169790077097985], \"type\": \"scatter\", \"uid\": \"4fab92ee-d421-4b83-b0c7-1301b5c455a7\"}, {\"hoverinfo\": \"text\", \"marker\": {\"color\": \"green\", \"size\": 0.5}, \"mode\": \"markers\", \"text\": \"SSRS/SSIS appears with Postgresql 11 times\", \"x\": [-0.8906520584420118], \"y\": [-0.1293789426182148], \"type\": \"scatter\", \"uid\": \"2f8f70f7-ebdd-482c-b2f5-06a5df42ad21\"}, {\"hoverinfo\": \"text\", \"marker\": {\"color\": \"blue\", \"size\": 0.5}, \"mode\": \"markers\", \"text\": \"Postgresql appears with SSRS/SSIS 11 times\", \"x\": [0.6687364223474497], \"y\": [-0.6023218387423235], \"type\": \"scatter\", \"uid\": \"9f14e65e-069e-45f0-9314-756dbce93cfb\"}, {\"hoverinfo\": \"text\", \"marker\": {\"color\": \"green\", \"size\": 0.5}, \"mode\": \"markers\", \"text\": \"SSRS/SSIS appears with Informatica 42 times\", \"x\": [-0.8555330554667698], \"y\": [-0.2793979080159567], \"type\": \"scatter\", \"uid\": \"cf9cb5e3-1738-4e49-a2d2-e93d6ea9c1fd\"}, {\"hoverinfo\": \"text\", \"marker\": {\"color\": \"blue\", \"size\": 0.5}, \"mode\": \"markers\", \"text\": \"Informatica appears with SSRS/SSIS 42 times\", \"x\": [0.7763447112744299], \"y\": [-0.45528989586440655], \"type\": \"scatter\", \"uid\": \"51a98763-4a98-41d9-8345-07ac5bd3a3b3\"}, {\"hoverinfo\": \"text\", \"marker\": {\"color\": \"green\", \"size\": 0.5}, \"mode\": \"markers\", \"text\": \"SSRS/SSIS appears with Microstrategy 12 times\", \"x\": [-0.8890872977450979], \"y\": [-0.13972750977642096], \"type\": \"scatter\", \"uid\": \"7ca2319d-bde2-4166-b941-9fb3d2761c70\"}, {\"hoverinfo\": \"text\", \"marker\": {\"color\": \"blue\", \"size\": 0.5}, \"mode\": \"markers\", \"text\": \"Microstrategy appears with SSRS/SSIS 12 times\", \"x\": [0.8549410014891035], \"y\": [-0.281204345579525], \"type\": \"scatter\", \"uid\": \"2b04ad7b-83bb-4301-a23a-6d9dd110e93e\"}, {\"hoverinfo\": \"text\", \"marker\": {\"color\": \"green\", \"size\": 0.5}, \"mode\": \"markers\", \"text\": \"SSRS/SSIS appears with MySQL/MariaDB 28 times\", \"x\": [-0.8816282469634854], \"y\": [-0.18091886069752824], \"type\": \"scatter\", \"uid\": \"6c2f8556-4ff0-44ec-8956-abe24bd8fd56\"}, {\"hoverinfo\": \"text\", \"marker\": {\"color\": \"blue\", \"size\": 0.5}, \"mode\": \"markers\", \"text\": \"MySQL/MariaDB appears with SSRS/SSIS 28 times\", \"x\": [0.887887164741487], \"y\": [-0.147161077351736], \"type\": \"scatter\", \"uid\": \"80e50b23-2be4-444a-9a03-ef37ff881881\"}, {\"hoverinfo\": \"text\", \"marker\": {\"color\": \"green\", \"size\": 0.5}, \"mode\": \"markers\", \"text\": \"SQL Server appears with Power BI 64 times\", \"x\": [-0.3203204358480227], \"y\": [-0.8410676657547433], \"type\": \"scatter\", \"uid\": \"dae47c18-21f9-48ad-a902-dbcf2172ca91\"}, {\"hoverinfo\": \"text\", \"marker\": {\"color\": \"blue\", \"size\": 0.5}, \"mode\": \"markers\", \"text\": \"Power BI appears with SQL Server 64 times\", \"x\": [0.07278678811023903], \"y\": [-0.8970518844953146], \"type\": \"scatter\", \"uid\": \"0c669c81-aafa-4e88-b172-10c2eb845310\"}, {\"hoverinfo\": \"text\", \"marker\": {\"color\": \"green\", \"size\": 0.5}, \"mode\": \"markers\", \"text\": \"SQL Server appears with Spark 16 times\", \"x\": [-0.4915906147008979], \"y\": [-0.7538823963576768], \"type\": \"scatter\", \"uid\": \"d93a62e2-a154-445d-bcd9-34873c222f80\"}, {\"hoverinfo\": \"text\", \"marker\": {\"color\": \"blue\", \"size\": 0.5}, \"mode\": \"markers\", \"text\": \"Spark appears with SQL Server 16 times\", \"x\": [0.48070712001627824], \"y\": [-0.7608683623108898], \"type\": \"scatter\", \"uid\": \"a34789f1-5117-476d-80a2-8b2b992ff95c\"}, {\"hoverinfo\": \"text\", \"marker\": {\"color\": \"green\", \"size\": 0.5}, \"mode\": \"markers\", \"text\": \"SQL Server appears with Postgresql 26 times\", \"x\": [-0.4418345696426977], \"y\": [-0.7840804888968046], \"type\": \"scatter\", \"uid\": \"2b4a6156-3e42-40c2-a938-b4dbe64ed0ed\"}, {\"hoverinfo\": \"text\", \"marker\": {\"color\": \"blue\", \"size\": 0.5}, \"mode\": \"markers\", \"text\": \"Postgresql appears with SQL Server 26 times\", \"x\": [0.6887811764759523], \"y\": [-0.5792930958784189], \"type\": \"scatter\", \"uid\": \"87432cbd-0d07-4b3e-a314-a5695a542769\"}, {\"hoverinfo\": \"text\", \"marker\": {\"color\": \"green\", \"size\": 0.5}, \"mode\": \"markers\", \"text\": \"SQL Server appears with Informatica 31 times\", \"x\": [-0.41942315936865804], \"y\": [-0.7962940495729033], \"type\": \"scatter\", \"uid\": \"79a2c1f3-1763-47a3-8a04-a0bf79a997f2\"}, {\"hoverinfo\": \"text\", \"marker\": {\"color\": \"blue\", \"size\": 0.5}, \"mode\": \"markers\", \"text\": \"Informatica appears with SQL Server 31 times\", \"x\": [0.7442040946699504], \"y\": [-0.5061227770773407], \"type\": \"scatter\", \"uid\": \"176d1f90-bec8-49ee-b865-ac796a2de9b2\"}, {\"hoverinfo\": \"text\", \"marker\": {\"color\": \"green\", \"size\": 0.5}, \"mode\": \"markers\", \"text\": \"SQL Server appears with Microstrategy 10 times\", \"x\": [-0.501301624535399], \"y\": [-0.7474601536123313], \"type\": \"scatter\", \"uid\": \"0767ff98-760a-47f1-acc8-071303959c4a\"}, {\"hoverinfo\": \"text\", \"marker\": {\"color\": \"blue\", \"size\": 0.5}, \"mode\": \"markers\", \"text\": \"Microstrategy appears with SQL Server 10 times\", \"x\": [0.8525782886960754], \"y\": [-0.28828850418299984], \"type\": \"scatter\", \"uid\": \"fa78036f-782a-42d9-b859-fda5a3c6dd77\"}, {\"hoverinfo\": \"text\", \"marker\": {\"color\": \"green\", \"size\": 0.5}, \"mode\": \"markers\", \"text\": \"SQL Server appears with MySQL/MariaDB 33 times\", \"x\": [-0.3938583576356691], \"y\": [-0.8092438409531044], \"type\": \"scatter\", \"uid\": \"7c8aeb41-e496-4401-b0d1-8dd7334f3a9a\"}, {\"hoverinfo\": \"text\", \"marker\": {\"color\": \"blue\", \"size\": 0.5}, \"mode\": \"markers\", \"text\": \"MySQL/MariaDB appears with SQL Server 33 times\", \"x\": [0.891628462978934], \"y\": [-0.12246911449758978], \"type\": \"scatter\", \"uid\": \"55003fbc-70ff-4287-b88a-27daf1401f26\"}, {\"hoverinfo\": \"text\", \"marker\": {\"color\": \"green\", \"size\": 0.5}, \"mode\": \"markers\", \"text\": \"Power BI appears with Spark 19 times\", \"x\": [0.03592299455837602], \"y\": [-0.899282791151904], \"type\": \"scatter\", \"uid\": \"3a873739-4dfc-4f0d-866a-f3b44e4f367b\"}, {\"hoverinfo\": \"text\", \"marker\": {\"color\": \"blue\", \"size\": 0.5}, \"mode\": \"markers\", \"text\": \"Spark appears with Power BI 19 times\", \"x\": [0.5057092942476178], \"y\": [-0.7444851306181852], \"type\": \"scatter\", \"uid\": \"755b1353-2e59-4c8b-b597-94cbf3991bcf\"}, {\"hoverinfo\": \"text\", \"marker\": {\"color\": \"green\", \"size\": 0.5}, \"mode\": \"markers\", \"text\": \"Power BI appears with Informatica 5 times\", \"x\": [0.00033366959631082513], \"y\": [-0.8999999381469982], \"type\": \"scatter\", \"uid\": \"6f43523d-7446-4833-92f3-677e5e4b408c\"}, {\"hoverinfo\": \"text\", \"marker\": {\"color\": \"blue\", \"size\": 0.5}, \"mode\": \"markers\", \"text\": \"Informatica appears with Power BI 5 times\", \"x\": [0.7326631228748715], \"y\": [-0.522689916087197], \"type\": \"scatter\", \"uid\": \"c37368b1-0eb6-4f60-906f-34df7d9d7155\"}, {\"hoverinfo\": \"text\", \"marker\": {\"color\": \"green\", \"size\": 0.5}, \"mode\": \"markers\", \"text\": \"Power BI appears with Microstrategy 9 times\", \"x\": [0.011013055838793714], \"y\": [-0.8999326155891293], \"type\": \"scatter\", \"uid\": \"0cf5794d-9ec4-45c7-bf4a-e69ec49abba5\"}, {\"hoverinfo\": \"text\", \"marker\": {\"color\": \"blue\", \"size\": 0.5}, \"mode\": \"markers\", \"text\": \"Microstrategy appears with Power BI 9 times\", \"x\": [0.8504905196614179], \"y\": [-0.2943906859363105], \"type\": \"scatter\", \"uid\": \"47c7b938-a718-4bac-a2aa-1fdef9a5e0cf\"}, {\"hoverinfo\": \"text\", \"marker\": {\"color\": \"green\", \"size\": 0.5}, \"mode\": \"markers\", \"text\": \"Power BI appears with MySQL/MariaDB 5 times\", \"x\": [0.004783505872719635], \"y\": [-0.8999872877277576], \"type\": \"scatter\", \"uid\": \"30c898f3-c0c9-44a7-8b09-4521a202f17e\"}, {\"hoverinfo\": \"text\", \"marker\": {\"color\": \"blue\", \"size\": 0.5}, \"mode\": \"markers\", \"text\": \"MySQL/MariaDB appears with Power BI 5 times\", \"x\": [0.8766285034815255], \"y\": [-0.20377062321085668], \"type\": \"scatter\", \"uid\": \"995f3a0b-c6a8-4142-8aba-ff9ffb0fdcf6\"}, {\"hoverinfo\": \"text\", \"marker\": {\"color\": \"green\", \"size\": 0.5}, \"mode\": \"markers\", \"text\": \"Spark appears with Postgresql 5 times\", \"x\": [0.46314114853332], \"y\": [-0.7716866440047004], \"type\": \"scatter\", \"uid\": \"0c31b8fa-5a5d-49f0-806c-b95ce1bc54f4\"}, {\"hoverinfo\": \"text\", \"marker\": {\"color\": \"blue\", \"size\": 0.5}, \"mode\": \"markers\", \"text\": \"Postgresql appears with Spark 5 times\", \"x\": [0.6621204112131807], \"y\": [-0.6095872054553708], \"type\": \"scatter\", \"uid\": \"94d8d47b-8146-46c0-b1bb-ee7df05d00f1\"}, {\"hoverinfo\": \"text\", \"marker\": {\"color\": \"green\", \"size\": 0.5}, \"mode\": \"markers\", \"text\": \"Spark appears with Informatica 4 times\", \"x\": [0.4598880173872139], \"y\": [-0.7736297638170714], \"type\": \"scatter\", \"uid\": \"38b87a4e-be85-40af-8c6e-c7cb62c5053c\"}, {\"hoverinfo\": \"text\", \"marker\": {\"color\": \"blue\", \"size\": 0.5}, \"mode\": \"markers\", \"text\": \"Informatica appears with Spark 4 times\", \"x\": [0.7304579611728886], \"y\": [-0.5257672174633437], \"type\": \"scatter\", \"uid\": \"1b1d871b-97af-4edd-8b93-e467bf0e5f7c\"}, {\"hoverinfo\": \"text\", \"marker\": {\"color\": \"green\", \"size\": 0.5}, \"mode\": \"markers\", \"text\": \"Spark appears with Microstrategy 3 times\", \"x\": [0.457352165178985], \"y\": [-0.7751315997984435], \"type\": \"scatter\", \"uid\": \"65244e54-2bd1-4ce2-9f2a-9e0fa6d02a9b\"}, {\"hoverinfo\": \"text\", \"marker\": {\"color\": \"blue\", \"size\": 0.5}, \"mode\": \"markers\", \"text\": \"Microstrategy appears with Spark 3 times\", \"x\": [0.8477909244214185], \"y\": [-0.30207705717031336], \"type\": \"scatter\", \"uid\": \"9f0597bd-b5a2-4723-ad4c-2ca0e5c30daa\"}, {\"hoverinfo\": \"text\", \"marker\": {\"color\": \"green\", \"size\": 0.5}, \"mode\": \"markers\", \"text\": \"Spark appears with MySQL/MariaDB 18 times\", \"x\": [0.4927478684238664], \"y\": [-0.7531265087378987], \"type\": \"scatter\", \"uid\": \"667220e2-3b14-4b80-8826-e55cd3e79241\"}, {\"hoverinfo\": \"text\", \"marker\": {\"color\": \"blue\", \"size\": 0.5}, \"mode\": \"markers\", \"text\": \"MySQL/MariaDB appears with Spark 18 times\", \"x\": [0.8804465278571529], \"y\": [-0.18658486429580454], \"type\": \"scatter\", \"uid\": \"263a68f9-d5f0-4a4f-a4d0-625dbc2bec46\"}, {\"hoverinfo\": \"text\", \"marker\": {\"color\": \"green\", \"size\": 0.5}, \"mode\": \"markers\", \"text\": \"Postgresql appears with MySQL/MariaDB 35 times\", \"x\": [0.7023641748090956], \"y\": [-0.5627473375723231], \"type\": \"scatter\", \"uid\": \"56e2c195-f4c3-43f2-8265-5b40f106e6b1\"}, {\"hoverinfo\": \"text\", \"marker\": {\"color\": \"blue\", \"size\": 0.5}, \"mode\": \"markers\", \"text\": \"MySQL/MariaDB appears with Postgresql 35 times\", \"x\": [0.8949897400414979], \"y\": [-0.09483335499945146], \"type\": \"scatter\", \"uid\": \"69fc8fb7-2e0d-4ce7-a52f-7f4d4f591f20\"}, {\"hoverinfo\": \"text\", \"marker\": {\"color\": \"green\", \"size\": 0.5}, \"mode\": \"markers\", \"text\": \"Informatica appears with Microstrategy 6 times\", \"x\": [0.7353407110542232], \"y\": [-0.518916215458979], \"type\": \"scatter\", \"uid\": \"4c0c143e-faaa-4238-8818-911399dddb25\"}, {\"hoverinfo\": \"text\", \"marker\": {\"color\": \"blue\", \"size\": 0.5}, \"mode\": \"markers\", \"text\": \"Microstrategy appears with Informatica 6 times\", \"x\": [0.8488114250185653], \"y\": [-0.2991975346789348], \"type\": \"scatter\", \"uid\": \"1b608fa4-d198-4d81-beb7-2d7843d40c43\"}, {\"hoverinfo\": \"text\", \"marker\": {\"color\": \"green\", \"size\": 0.5}, \"mode\": \"markers\", \"text\": \"Informatica appears with MySQL/MariaDB 1 times\", \"x\": [0.7272499195310316], \"y\": [-0.5301957700152917], \"type\": \"scatter\", \"uid\": \"5594a89e-73af-4714-924f-d188ddeb1662\"}, {\"hoverinfo\": \"text\", \"marker\": {\"color\": \"blue\", \"size\": 0.5}, \"mode\": \"markers\", \"text\": \"MySQL/MariaDB appears with Informatica 1 times\", \"x\": [0.8755030782138973], \"y\": [-0.20855301493383038], \"type\": \"scatter\", \"uid\": \"9a01819f-a9af-4cd6-88d0-ca439de03c3c\"}], {\"font\": {\"color\": \"#655643\", \"family\": \"Fira Sans Condensed\", \"size\": 12}, \"height\": 760, \"hoverdistance\": 10, \"hovermode\": \"closest\", \"paper_bgcolor\": \"#fffaf0\", \"plot_bgcolor\": \"#fffaf0\", \"shapes\": [{\"fillcolor\": \"rgba(207,86,188,0.25)\", \"layer\": \"below\", \"line\": {\"color\": \"rgb(175,175,175)\", \"width\": 0.5}, \"path\": \"M 0.6591543903904595,0.752007639342169 Q 0.003032838003584651, 0.1999770034120024 -0.6360466907410981, 0.7716505732501583L -0.6360466907410981, 0.7716505732501583 L -0.5336554690030949, 0.8457019808437762 L -0.4227430644705347, 0.9062495801058675 M -0.4227430644705347,0.9062495801058675 Q 0.0026247541208278893, 0.19998277592284092 0.4463822182264746, 0.8948423968784738L 0.4463822182264746, 0.8948423968784738 L 0.557362754620518, 0.8302690887669059 L 0.6591543903904595, 0.752007639342169 \", \"type\": \"path\"}, {\"fillcolor\": \"rgba(207,86,188,0.25)\", \"layer\": \"below\", \"line\": {\"color\": \"rgb(175,175,175)\", \"width\": 0.5}, \"path\": \"M 0.8210833931747102,0.5708082527895898 Q -0.04635966231236144, 0.19455277358671558 -0.990266443905631, 0.1391846617788606L -0.990266443905631, 0.1391846617788606 L -0.9666791245850319, 0.25599115236960124 L -0.9293648477462287, 0.3691625384212611 M -0.9293648477462287,0.3691625384212611 Q -0.046859797541555184, 0.19443291741463034 0.6591543903904595, 0.752007639342169L 0.6591543903904595, 0.752007639342169 L 0.7456435330606974, 0.6663450469574759 L 0.8210833931747102, 0.5708082527895898 \", \"type\": \"path\"}, {\"fillcolor\": \"rgba(207,86,188,0.25)\", \"layer\": \"below\", \"line\": {\"color\": \"rgb(175,175,175)\", \"width\": 0.5}, \"path\": \"M 0.9987830645971619,0.04931926473399139 Q -0.008781137002480385, 0.19980713609114084 -0.999258953976774, -0.03849081575185842L -0.999258953976774, -0.03849081575185842 L -0.9998787129315798, -0.015574319448613705 L -0.9999729857248141, 0.007350361936721317 M -0.9999729857248141,0.007350361936721317 Q -0.009335000845151426, 0.19978202561597233 0.9949305828637117, 0.10056408545039783L 0.9949305828637117, 0.10056408545039783 L 0.9971860583313925, 0.0749664262820411 L 0.9987830645971619, 0.04931926473399139 \", \"type\": \"path\"}, {\"fillcolor\": \"rgba(207,86,188,0.25)\", \"layer\": \"below\", \"line\": {\"color\": \"rgb(175,175,175)\", \"width\": 0.5}, \"path\": \"M 0.4463822182264746,0.8948423968784738 Q -0.17103162300822586, 0.10367344853515828 -0.5868498224492574, -0.8096957983658276L -0.5868498224492574, -0.8096957983658276 L -0.7024597360657192, -0.7117234850744214 L -0.8019382053378813, -0.5974069926101118 M -0.8019382053378813,-0.5974069926101118 Q -0.17129030863150646, 0.10324548498081293 0.15373569820892483, 0.9881120053395842L 0.15373569820892483, 0.9881120053395842 L 0.30366129712611295, 0.9527800463001346 L 0.4463822182264746, 0.8948423968784738 \", \"type\": \"path\"}, {\"fillcolor\": \"rgba(207,86,188,0.25)\", \"layer\": \"below\", \"line\": {\"color\": \"rgb(175,175,175)\", \"width\": 0.5}, \"path\": \"M 0.9030176785101331,0.42960338953291544 Q -0.16727827294616324, 0.10962654514372383 -0.03351105103359803, -0.9994383470022669L -0.03351105103359803, -0.9994383470022669 L -0.11238953457838173, -0.9936642252377081 L -0.19056500409111868, -0.9816745790819644 M -0.19056500409111868,-0.9816745790819644 Q -0.16756361127131653, 0.10918990877235467 0.8210833931747102, 0.5708082527895898L 0.8210833931747102, 0.5708082527895898 L 0.8649368934772296, 0.5018806335195248 L 0.9030176785101331, 0.42960338953291544 \", \"type\": \"path\"}, {\"fillcolor\": \"rgba(207,86,188,0.25)\", \"layer\": \"below\", \"line\": {\"color\": \"rgb(175,175,175)\", \"width\": 0.5}, \"path\": \"M 0.9540692387729698,0.29958619398624836 Q -0.1854983554883717, 0.07476871077603038 0.47963457818971184, -0.8774683307132954L 0.47963457818971184, -0.8774683307132954 L 0.4195921018859188, -0.9077127673636395 L 0.3576531427484062, -0.9338545012378471 M 0.3576531427484062,-0.9338545012378471 Q -0.18569621265598654, 0.07427594903616264 0.9030176785101331, 0.42960338953291544L 0.9030176785101331, 0.42960338953291544 L 0.9308163472836463, 0.3654872468767281 L 0.9540692387729698, 0.29958619398624836 \", \"type\": \"path\"}, {\"fillcolor\": \"rgba(207,86,188,0.25)\", \"layer\": \"below\", \"line\": {\"color\": \"rgb(175,175,175)\", \"width\": 0.5}, \"path\": \"M 0.9949305828637117,0.10056408545039783 Q -0.18598575517148963, 0.07354793588735663 0.6570565943007406, -0.7538412511171778L 0.6570565943007406, -0.7538412511171778 L 0.6374451927452522, -0.7704957016401638 L 0.617411816627788, -0.7866401011189136 M 0.617411816627788,-0.7866401011189136 Q -0.18617179558459865, 0.07307573146268476 0.987658706060367, 0.15662145556456075L 0.987658706060367, 0.15662145556456075 L 0.9916908184132542, 0.12864416300341802 L 0.9949305828637117, 0.10056408545039783 \", \"type\": \"path\"}, {\"fillcolor\": \"rgba(207,86,188,0.25)\", \"layer\": \"below\", \"line\": {\"color\": \"rgb(175,175,175)\", \"width\": 0.5}, \"path\": \"M 0.9997205471141453,0.02363953632781432 Q -0.1883578487812036, 0.06724076741469602 0.7587475597362222, -0.6513847868919935L 0.7587475597362222, -0.6513847868919935 L 0.7523616410861601, -0.6587503024835283 L 0.74590422492481, -0.6660532165220122 M 0.74590422492481,-0.6660532165220122 Q -0.1885654137204884, 0.06665646816642058 0.9987830645971619, 0.04931926473399139L 0.9987830645971619, 0.04931926473399139 L 0.9993342952278474, 0.03648241194687445 L 0.9997205471141453, 0.02363953632781432 \", \"type\": \"path\"}, {\"fillcolor\": \"rgba(207,86,188,0.25)\", \"layer\": \"below\", \"line\": {\"color\": \"rgb(175,175,175)\", \"width\": 0.5}, \"path\": \"M 0.975226279080348,0.22120963946243238 Q -0.1994070734217968, 0.015388926842185567 0.9297378019136083, -0.3682222422571075L 0.9297378019136083, -0.3682222422571075 L 0.9155111038033952, -0.4022927029075833 L 0.900036385325246, -0.4358147600651742 M 0.900036385325246,-0.4358147600651742 Q -0.19946233299879898, 0.014655296471795915 0.9540692387729698, 0.29958619398624836L 0.9540692387729698, 0.29958619398624836 L 0.9654434317333054, 0.26061270138467635 L 0.975226279080348, 0.22120963946243238 \", \"type\": \"path\"}, {\"fillcolor\": \"rgba(207,86,188,0.25)\", \"layer\": \"below\", \"line\": {\"color\": \"rgb(175,175,175)\", \"width\": 0.5}, \"path\": \"M 1.0,0.0 Q -0.19800010596725512, 0.028212728279196016 0.9602020981522127, -0.2793061594453093L 0.9602020981522127, -0.2793061594453093 L 0.95774309892503, -0.287625027529734 L 0.9552120292965334, -0.29592225176082765 M 0.9552120292965334,-0.29592225176082765 Q -0.19808788743176864, 0.027589651190599692 0.9997205471141453, 0.02363953632781432L 0.9997205471141453, 0.02363953632781432 L 0.999930134337931, 0.011820594017534245 L 1.0, 0.0 \", \"type\": \"path\"}, {\"fillcolor\": \"rgba(207,86,188,0.25)\", \"layer\": \"below\", \"line\": {\"color\": \"rgb(175,175,175)\", \"width\": 0.5}, \"path\": \"M 0.987658706060367,0.15662145556456075 Q -0.1996041560146918, -0.01257699891319794 0.9995065603657315, -0.03141075907813014L 0.9995065603657315, -0.03141075907813014 L 0.9981686062449207, -0.06049325174821285 L 0.995984622878443, -0.08952447145716941 M 0.995984622878443,-0.08952447145716941 Q -0.19955520809265256, -0.01333112610015156 0.975226279080348, 0.22120963946243238L 0.975226279080348, 0.22120963946243238 L 0.9819736628838487, 0.1890177912326709 L 0.987658706060367, 0.15662145556456075 \", \"type\": \"path\"}, {\"fillcolor\": \"rgba(95,194,80,0.25)\", \"layer\": \"below\", \"line\": {\"color\": \"rgb(175,175,175)\", \"width\": 0.5}, \"path\": \"M -0.2369376900574375,0.9715248483853852 Q -0.13126697841241675, 0.15089393751398406 -0.9293648477462287, 0.3691625384212611L -0.9293648477462287, 0.3691625384212611 L -0.8887375981614619, 0.4584162754682645 L -0.8395635341892113, 0.5432615135086611 M -0.8395635341892113,0.5432615135086611 Q -0.13134604240371744, 0.15082512106701873 -0.4227430644705347, 0.9062495801058675L -0.4227430644705347, 0.9062495801058675 L -0.331451187410589, 0.9434723686277784 L -0.2369376900574375, 0.9715248483853852 \", \"type\": \"path\"}, {\"fillcolor\": \"rgba(95,194,80,0.25)\", \"layer\": \"below\", \"line\": {\"color\": \"rgb(175,175,175)\", \"width\": 0.5}, \"path\": \"M 0.06825363995307487,0.9976680012073936 Q -0.13597168697695694, 0.14666867538994288 -0.9999729857248141, 0.007350361936721317L -0.9999729857248141, 0.007350361936721317 L -0.999786855233912, 0.02064567997147832 L -0.9994239623008264, 0.033937347847411224 M -0.9994239623008264,0.033937347847411224 Q -0.13617266285007387, 0.14648210092813427 0.03896115761512306, 0.9992407258500273L 0.03896115761512306, 0.9992407258500273 L 0.053613166014495006, 0.9985617799765332 L 0.06825363995307487, 0.9976680012073936 \", \"type\": \"path\"}, {\"fillcolor\": \"rgba(95,194,80,0.25)\", \"layer\": \"below\", \"line\": {\"color\": \"rgb(175,175,175)\", \"width\": 0.5}, \"path\": \"M -0.06719386432637406,0.9977399383591342 Q -0.17523424610134072, 0.09639999477849964 -0.8786924798463505, -0.4773882338950878L -0.8786924798463505, -0.4773882338950878 L -0.897501597609143, -0.4410112042670072 L -0.9148055412946011, -0.4038945674513237 M -0.9148055412946011,-0.4038945674513237 Q -0.1752355893172689, 0.09639755306349573 -0.14862950774728673, 0.9888929514496497L -0.14862950774728673, 0.9888929514496497 L -0.1080023114458927, 0.9941506428717654 L -0.06719386432637406, 0.9977399383591342 \", \"type\": \"path\"}, {\"fillcolor\": \"rgba(95,194,80,0.25)\", \"layer\": \"below\", \"line\": {\"color\": \"rgb(175,175,175)\", \"width\": 0.5}, \"path\": \"M -0.02576703453856298,0.9996679748451925 Q -0.19658793885582881, 0.036785626220263185 -0.3854841278694873, -0.9227144667559412L -0.3854841278694873, -0.9227144667559412 L -0.4042255109690516, -0.9146593553240513 L -0.4227986860267228, -0.9062236319441668 M -0.4227986860267228,-0.9062236319441668 Q -0.196600355453484, 0.03671920799205434 -0.06719386432637406, 0.9977399383591342L -0.06719386432637406, 0.9977399383591342 L -0.046490445369098764, 0.9989187346773424 L -0.02576703453856298, 0.9996679748451925 \", \"type\": \"path\"}, {\"fillcolor\": \"rgba(95,194,80,0.25)\", \"layer\": \"below\", \"line\": {\"color\": \"rgb(175,175,175)\", \"width\": 0.5}, \"path\": \"M -0.14862950774728673,0.9888929514496497 Q -0.19546059886075395, -0.0423692611806653 0.2741880324988808, -0.9616761007919417L 0.2741880324988808, -0.9616761007919417 L 0.23161851872992636, -0.9728066929155836 L 0.18860057909776962, -0.9820538791553068 M 0.18860057909776962,-0.9820538791553068 Q -0.19541766350551418, -0.04256685083542865 -0.2369376900574375, 0.9715248483853852L -0.2369376900574375, 0.9715248483853852 L -0.19297908891058535, 0.9812028695653312 L -0.14862950774728673, 0.9888929514496497 \", \"type\": \"path\"}, {\"fillcolor\": \"rgba(95,194,80,0.25)\", \"layer\": \"below\", \"line\": {\"color\": \"rgb(175,175,175)\", \"width\": 0.5}, \"path\": \"M 0.03896115761512306,0.9992407258500273 Q -0.1912516372196853, -0.05850479690409917 0.5913254516503822, -0.8064330165800948L 0.5913254516503822, -0.8064330165800948 L 0.5803308678599762, -0.8143807977898833 L 0.5692294752766176, -0.8221786937620718 M 0.5692294752766176,-0.8221786937620718 Q -0.19118708844301116, -0.05871539161654491 0.009635148305547677, 0.9999535808811978L 0.009635148305547677, 0.9999535808811978 L 0.02430076702200407, 0.9997046927578875 L 0.03896115761512306, 0.9992407258500273 \", \"type\": \"path\"}, {\"fillcolor\": \"rgba(95,194,80,0.25)\", \"layer\": \"below\", \"line\": {\"color\": \"rgb(175,175,175)\", \"width\": 0.5}, \"path\": \"M 0.12262249078029867,0.9924533866912015 Q -0.18781266559010823, -0.06874883740062936 0.7343673912425713, -0.6787521894473566L 0.7343673912425713, -0.6787521894473566 L 0.7330426451713472, -0.6801826816085472 L 0.7317151126144551, -0.6816105882185335 M 0.7317151126144551,-0.6816105882185335 Q -0.18777281067313156, -0.06885761811094174 0.11760123016122291, 0.9930608997763264L 0.11760123016122291, 0.9930608997763264 L 0.12011224456226198, 0.9927603178543225 L 0.12262249078029867, 0.9924533866912015 \", \"type\": \"path\"}, {\"fillcolor\": \"rgba(95,194,80,0.25)\", \"layer\": \"below\", \"line\": {\"color\": \"rgb(175,175,175)\", \"width\": 0.5}, \"path\": \"M 0.009635148305547677,0.9999535808811978 Q -0.1749801163576795, -0.09686051248807717 0.8525091702251565, -0.5227122675832423L 0.8525091702251565, -0.5227122675832423 L 0.8438446758178206, -0.5365875167145777 L 0.8349543719491034, -0.5503191771718284 M 0.8349543719491034,-0.5503191771718284 Q -0.1748497731895411, -0.09709560657190441 -0.02576703453856298, 0.9996679748451925L -0.02576703453856298, 0.9996679748451925 L -0.008067207141302856, 0.9999674595550294 L 0.009635148305547677, 0.9999535808811978 \", \"type\": \"path\"}, {\"fillcolor\": \"rgba(95,194,80,0.25)\", \"layer\": \"below\", \"line\": {\"color\": \"rgb(175,175,175)\", \"width\": 0.5}, \"path\": \"M 0.11760123016122291,0.9930608997763264 Q -0.16578646177883247, -0.11186978631809273 0.9649031506787145, -0.26260599728545825L 0.9649031506787145, -0.26260599728545825 L 0.9625888419377912, -0.27096627350440167 L 0.9602020981522127, -0.2793061594453093 M 0.9602020981522127,-0.2793061594453093 Q -0.1654547795201481, -0.11235976118673084 0.09446666927485098, 0.9955280249174887L 0.09446666927485098, 0.9955280249174887 L 0.10604112489700752, 0.9943617449553142 L 0.11760123016122291, 0.9930608997763264 \", \"type\": \"path\"}, {\"fillcolor\": \"rgba(95,194,80,0.25)\", \"layer\": \"below\", \"line\": {\"color\": \"rgb(175,175,175)\", \"width\": 0.5}, \"path\": \"M 0.09446666927485098,0.9955280249174887 Q -0.1592650859904011, -0.12097368467757832 0.9843785837174812, -0.17606477194023198L 0.9843785837174812, -0.17606477194023198 L 0.9822273415624155, -0.18769509713157123 L 0.9799386933586719, -0.1992991652227844 M 0.9799386933586719,-0.1992991652227844 Q -0.1591049202609842, -0.12118425784212186 0.06825363995307487, 0.9976680012073936L 0.06825363995307487, 0.9976680012073936 L 0.08136719015326946, 0.9966841928949017 L 0.09446666927485098, 0.9955280249174887 \", \"type\": \"path\"}, {\"fillcolor\": \"rgba(134,93,213,0.25)\", \"layer\": \"below\", \"line\": {\"color\": \"rgb(175,175,175)\", \"width\": 0.5}, \"path\": \"M -0.6644946165202084,0.7472930513631592 Q -0.17863211421282366, 0.08994758346868875 -0.9960452441802042, 0.0888474622372378L -0.9960452441802042, 0.0888474622372378 L -0.9957126463356258, 0.09250041041695403 L -0.9953666515241679, 0.09615211403586367 M -0.9953666515241679,0.09615211403586367 Q -0.17866419121892424, 0.08988385158685445 -0.6704884418408549, 0.741919975036272L -0.6704884418408549, 0.741919975036272 L -0.6674969355847772, 0.7446125442033138 L -0.6644946165202084, 0.7472930513631592 \", \"type\": \"path\"}, {\"fillcolor\": \"rgba(134,93,213,0.25)\", \"layer\": \"below\", \"line\": {\"color\": \"rgb(175,175,175)\", \"width\": 0.5}, \"path\": \"M -0.7175441974932582,0.6965129752156496 Q -0.1943598332785625, 0.04716201021934282 -0.9569699688230741, -0.29018697209000377L -0.9569699688230741, -0.29018697209000377 L -0.9629161121264287, -0.26980096554186583 L -0.968428032373187, -0.2492932933590425 M -0.968428032373187,-0.2492932933590425 Q -0.19435484924732932, 0.04718254522647012 -0.7463297423808957, 0.6655763785153932L -0.7463297423808957, 0.6655763785153932 L -0.7321004003649486, 0.6811967438159713 L -0.7175441974932582, 0.6965129752156496 \", \"type\": \"path\"}, {\"fillcolor\": \"rgba(134,93,213,0.25)\", \"layer\": \"below\", \"line\": {\"color\": \"rgb(175,175,175)\", \"width\": 0.5}, \"path\": \"M -0.7005166426531806,0.7136360650681243 Q -0.1984391454755698, -0.024938034062966106 -0.50215597997585, -0.8647770647828801L -0.50215597997585, -0.8647770647828801 L -0.5124463727684686, -0.8587192294553789 L -0.5226636960620209, -0.8525389497370707 M -0.5226636960620209,-0.8525389497370707 Q -0.1984358204920813, -0.024964477675979802 -0.7175441974932582, 0.6965129752156496L -0.7175441974932582, 0.6965129752156496 L -0.7090821085323828, 0.7051259202151556 L -0.7005166426531806, 0.7136360650681243 \", \"type\": \"path\"}, {\"fillcolor\": \"rgba(134,93,213,0.25)\", \"layer\": \"below\", \"line\": {\"color\": \"rgb(175,175,175)\", \"width\": 0.5}, \"path\": \"M -0.7876142085792556,0.6161686931710121 Q -0.16085516533005226, -0.11885123384568441 0.3576531427484062, -0.9338545012378471L 0.3576531427484062, -0.9338545012378471 L 0.3162267035449498, -0.9486836522071488 L 0.2741880324988808, -0.9616761007919417 M 0.2741880324988808,-0.9616761007919417 Q -0.16076338764931467, -0.1189753469905265 -0.8395635341892113, 0.5432615135086611L -0.8395635341892113, 0.5432615135086611 L -0.8144051300500571, 0.5802967207801105 L -0.7876142085792556, 0.6161686931710121 \", \"type\": \"path\"}, {\"fillcolor\": \"rgba(134,93,213,0.25)\", \"layer\": \"below\", \"line\": {\"color\": \"rgb(175,175,175)\", \"width\": 0.5}, \"path\": \"M -0.6779195838614449,0.7351360675528887 Q -0.15916171368079088, -0.12110965650266683 0.527776242807284, -0.8493834455228256L 0.527776242807284, -0.8493834455228256 L 0.5222020431796431, -0.852821802077671 L 0.5166054442189796, -0.8562235776964512 M 0.5166054442189796,-0.8562235776964512 Q -0.159101860369656, -0.1211882751214592 -0.6882077090252918, 0.725513714024869L -0.6882077090252918, 0.725513714024869 L -0.6830805900582784, 0.7303430067342566 L -0.6779195838614449, 0.7351360675528887 \", \"type\": \"path\"}, {\"fillcolor\": \"rgba(134,93,213,0.25)\", \"layer\": \"below\", \"line\": {\"color\": \"rgb(175,175,175)\", \"width\": 0.5}, \"path\": \"M -0.6599709703435017,0.7512911009082011 Q -0.14259751990282885, -0.1402353283504636 0.7401630431101227, -0.6724274456132517L 0.7401630431101227, -0.6724274456132517 L 0.7385877948989255, -0.6741573030282642 L 0.7370085037958094, -0.6758834702318606 M 0.7370085037958094,-0.6758834702318606 Q -0.1425022692965666, -0.1403321176542591 -0.6644946165202084, 0.7472930513631592L -0.6644946165202084, 0.7472930513631592 L -0.6622358105664472, 0.749295489912625 L -0.6599709703435017, 0.7512911009082011 \", \"type\": \"path\"}, {\"fillcolor\": \"rgba(134,93,213,0.25)\", \"layer\": \"below\", \"line\": {\"color\": \"rgb(175,175,175)\", \"width\": 0.5}, \"path\": \"M -0.7463297423808957,0.6655763785153932 Q -0.11120648237531038, -0.16623212167842227 0.900036385325246, -0.4358147600651742L 0.900036385325246, -0.4358147600651742 L 0.8865992697746887, -0.4625383603929394 L 0.8723689077498616, -0.488848124463328 M 0.8723689077498616,-0.488848124463328 Q -0.1108262390540356, -0.16648586948188052 -0.7876142085792556, 0.6161686931710121L -0.7876142085792556, 0.6161686931710121 L -0.7673697225031633, 0.6412048884603253 L -0.7463297423808957, 0.6655763785153932 \", \"type\": \"path\"}, {\"fillcolor\": \"rgba(134,93,213,0.25)\", \"layer\": \"below\", \"line\": {\"color\": \"rgb(175,175,175)\", \"width\": 0.5}, \"path\": \"M -0.6882077090252918,0.725513714024869 Q -0.10557569508386228, -0.16986398266718977 0.9552120292965334, -0.29592225176082765L 0.9552120292965334, -0.29592225176082765 L 0.95329502902386, -0.3020407052673498 L 0.951338838446157, -0.30814674177072976 M 0.951338838446157,-0.30814674177072976 Q -0.1052117806262159, -0.1700896270131163 -0.7005166426531806, 0.7136360650681243L -0.7005166426531806, 0.7136360650681243 L -0.6943875725215589, 0.7196012083978297 L -0.6882077090252918, 0.725513714024869 \", \"type\": \"path\"}, {\"fillcolor\": \"rgba(134,93,213,0.25)\", \"layer\": \"below\", \"line\": {\"color\": \"rgb(175,175,175)\", \"width\": 0.5}, \"path\": \"M -0.6704884418408549,0.741919975036272 Q -0.10049766347436664, -0.17291679975118945 0.976543553661656, -0.2153199661012987L 0.976543553661656, -0.2153199661012987 L 0.9755539391345182, -0.21976012340532766 L 0.9745441361685271, -0.22419573292000763 M 0.9745441361685271,-0.22419573292000763 Q -0.10041432310332754, -0.1729652095529634 -0.6779195838614449, 0.7351360675528887L -0.6779195838614449, 0.7351360675528887 L -0.6742125453406954, 0.7385373678462186 L -0.6704884418408549, 0.741919975036272 \", \"type\": \"path\"}, {\"fillcolor\": \"rgba(157,185,53,0.25)\", \"layer\": \"below\", \"line\": {\"color\": \"rgb(175,175,175)\", \"width\": 0.5}, \"path\": \"M -0.998330838744298,0.05775410298936766 Q -0.19957467820527552, -0.013036403616823214 -0.9823345846883064, -0.18713301078444913L -0.9823345846883064, -0.18713301078444913 L -0.9847096876374501, -0.17420341866035655 L -0.9869146175225436, -0.16124372149119934 M -0.9869146175225436,-0.16124372149119934 Q -0.1995904958539581, -0.012791949217032417 -0.9994239623008264, 0.033937347847411224L -0.9994239623008264, 0.033937347847411224 L -0.9989483824157703, 0.04584898329206264 L -0.998330838744298, 0.05775410298936766 \", \"type\": \"path\"}, {\"fillcolor\": \"rgba(157,185,53,0.25)\", \"layer\": \"below\", \"line\": {\"color\": \"rgb(175,175,175)\", \"width\": 0.5}, \"path\": \"M -0.9971037725415983,0.07605305242600438 Q -0.17810042855386626, -0.0909958095130165 -0.5226636960620209, -0.8525389497370707L -0.5226636960620209, -0.8525389497370707 L -0.5311212637739934, -0.8472958179804242 L -0.5395262393898602, -0.8419687862443804 M -0.5395262393898602,-0.8419687862443804 Q -0.17817142504280686, -0.09085671850895488 -0.998330838744298, 0.05775410298936766L -0.998330838744298, 0.05775410298936766 L -0.9977592569688568, 0.06690639082296103 L -0.9971037725415983, 0.07605305242600438 \", \"type\": \"path\"}, {\"fillcolor\": \"rgba(157,185,53,0.25)\", \"layer\": \"below\", \"line\": {\"color\": \"rgb(175,175,175)\", \"width\": 0.5}, \"path\": \"M -0.9960452441802042,0.0888474622372378 Q -0.14549231078655972, -0.1372296888504347 0.030526155095337203, -0.9995339683347912L 0.030526155095337203, -0.9995339683347912 L 0.023606702341255413, -0.9997213229718427 L 0.01668611849733317, -0.9998607770332293 M 0.01668611849733317,-0.9998607770332293 Q -0.14556130477511164, -0.13715650386389652 -0.9971037725415983, 0.07605305242600438L -0.9971037725415983, 0.07605305242600438 L -0.9965950405984251, 0.08245195603879597 L -0.9960452441802042, 0.0888474622372378 \", \"type\": \"path\"}, {\"fillcolor\": \"rgba(157,185,53,0.25)\", \"layer\": \"below\", \"line\": {\"color\": \"rgb(175,175,175)\", \"width\": 0.5}, \"path\": \"M -0.999258953976774,-0.03849081575185842 Q -0.07280920862435246, -0.18627619047934044 0.708294512647963, -0.705917051325993L 0.708294512647963, -0.705917051325993 L 0.6830959621772906, -0.7303286290821972 L 0.6570565943007406, -0.7538412511171778 M 0.6570565943007406,-0.7538412511171778 Q -0.07293917538944623, -0.1862253384840731 -0.9942513969594028, -0.10707081602507759L -0.9942513969594028, -0.10707081602507759 L -0.9973448169674259, -0.0728238701814975 L -0.999258953976774, -0.03849081575185842 \", \"type\": \"path\"}, {\"fillcolor\": \"rgba(157,185,53,0.25)\", \"layer\": \"below\", \"line\": {\"color\": \"rgb(175,175,175)\", \"width\": 0.5}, \"path\": \"M -0.9941497030722285,0.10801096185758177 Q -0.0832090203411473, -0.1818687959323054 0.7317151126144551, -0.6816105882185335L 0.7317151126144551, -0.6816105882185335 L 0.7309172576660182, -0.6824660888615547 L 0.7301184024910322, -0.6833206555812162 M 0.7301184024910322,-0.6833206555812162 Q -0.08317160576176648, -0.18188590928109108 -0.9944430837588533, 0.10527560574122723L -0.9944430837588533, 0.10527560574122723 L -0.9942973340517528, 0.10664338468736423 L -0.9941497030722285, 0.10801096185758177 \", \"type\": \"path\"}, {\"fillcolor\": \"rgba(157,185,53,0.25)\", \"layer\": \"below\", \"line\": {\"color\": \"rgb(175,175,175)\", \"width\": 0.5}, \"path\": \"M -0.9950072644010701,0.09980252396156586 Q -0.07098942453095565, -0.18697727563734517 0.8105263757672496, -0.5857021377676602L 0.8105263757672496, -0.5857021377676602 L 0.8094299617171559, -0.5872164312028092 L 0.8083307185406798, -0.5887286721941681 M 0.8083307185406798,-0.5887286721941681 Q -0.0709960654947914, -0.18697475413611137 -0.9953666515241679, 0.09615211403586367L -0.9953666515241679, 0.09615211403586367 L -0.9951886317035822, 0.09797748378046832 L -0.9950072644010701, 0.09980252396156586 \", \"type\": \"path\"}, {\"fillcolor\": \"rgba(157,185,53,0.25)\", \"layer\": \"below\", \"line\": {\"color\": \"rgb(175,175,175)\", \"width\": 0.5}, \"path\": \"M -0.9944430837588533,0.10527560574122723 Q -0.04451290109218702, -0.19498359324916847 0.9416095402131015, -0.3367068068508143L 0.9416095402131015, -0.3367068068508143 L 0.9412279588994656, -0.33777200799643814 L 0.9408451725714126, -0.3388367767068219 M 0.9408451725714126,-0.3388367767068219 Q -0.04446531639859455, -0.194994450273778 -0.9947289382562728, 0.10253945287326323L -0.9947289382562728, 0.10253945287326323 L -0.9945869519177625, 0.10390762760709364 L -0.9944430837588533, 0.10527560574122723 \", \"type\": \"path\"}, {\"fillcolor\": \"rgba(157,185,53,0.25)\", \"layer\": \"below\", \"line\": {\"color\": \"rgb(175,175,175)\", \"width\": 0.5}, \"path\": \"M -0.9947289382562728,0.10253945287326323 Q -0.033184497777580015, -0.19722775947429355 0.9735141656608823, -0.22862670285335474L 0.9735141656608823, -0.22862670285335474 L 0.9732012450135807, -0.22995507540390678 L 0.9728865117858071, -0.2312830196647487 M 0.9728865117858071,-0.2312830196647487 Q -0.03318236954989763, -0.19722811754679917 -0.9950072644010701, 0.09980252396156586L -0.9950072644010701, 0.09980252396156586 L -0.9948690425057374, 0.1011710841284077 L -0.9947289382562728, 0.10253945287326323 \", \"type\": \"path\"}, {\"fillcolor\": \"rgba(99,108,195,0.25)\", \"layer\": \"below\", \"line\": {\"color\": \"rgb(175,175,175)\", \"width\": 0.5}, \"path\": \"M -0.8786924798463505,-0.4773882338950878 Q -0.11822082240021115, -0.16131905389946266 -0.19056500409111868, -0.9816745790819644L -0.19056500409111868, -0.9816745790819644 L -0.25890846879515983, -0.9659018608461968 L -0.32597820537448285, -0.945377284273761 M -0.32597820537448285,-0.945377284273761 Q -0.11803722944201751, -0.16145343745381366 -0.8019382053378813, -0.5974069926101118L -0.8019382053378813, -0.5974069926101118 L -0.8424553404226119, -0.5387661824886757 L -0.8786924798463505, -0.4773882338950878 \", \"type\": \"path\"}, {\"fillcolor\": \"rgba(99,108,195,0.25)\", \"layer\": \"below\", \"line\": {\"color\": \"rgb(175,175,175)\", \"width\": 0.5}, \"path\": \"M -0.9437859332038874,-0.3305572753494731 Q -0.09973729211417955, -0.17335648981717075 0.18860057909776962, -0.9820538791553068L 0.18860057909776962, -0.9820538791553068 L 0.1505963889578954, -0.9885953305740637 L 0.1123682455643748, -0.9936666329251397 M 0.1123682455643748,-0.9936666329251397 Q -0.09958597806880704, -0.17344345756493407 -0.9148055412946011, -0.4038945674513237L -0.9148055412946011, -0.4038945674513237 L -0.9300189013524535, -0.36751169114352744 L -0.9437859332038874, -0.3305572753494731 \", \"type\": \"path\"}, {\"fillcolor\": \"rgba(99,108,195,0.25)\", \"layer\": \"below\", \"line\": {\"color\": \"rgb(175,175,175)\", \"width\": 0.5}, \"path\": \"M -0.9766429641545297,-0.21486861233659552 Q -0.06752552500630614, -0.18825595202442533 0.617411816627788, -0.7866401011189136L 0.617411816627788, -0.7866401011189136 L 0.6044496553119675, -0.7966433418997761 L 0.5913254516503822, -0.8064330165800948 M 0.5913254516503822,-0.8064330165800948 Q -0.0672763723441321, -0.1883451345912968 -0.968428032373187, -0.2492932933590425L -0.968428032373187, -0.2492932933590425 L -0.9726878019432573, -0.23211729782761673 L -0.9766429641545297, -0.21486861233659552 \", \"type\": \"path\"}, {\"fillcolor\": \"rgba(99,108,195,0.25)\", \"layer\": \"below\", \"line\": {\"color\": \"rgb(175,175,175)\", \"width\": 0.5}, \"path\": \"M -0.990397618307254,-0.13824817413376148 Q -0.05816830599030074, -0.19135424787085012 0.74590422492481, -0.6660532165220122L 0.74590422492481, -0.6660532165220122 L 0.743040469274944, -0.6692464874914705 L 0.7401630431101227, -0.6724274456132517 M 0.7401630431101227,-0.6724274456132517 Q -0.057924764816374555, -0.19142811084312486 -0.988798566210864, -0.1492561404409869L -0.988798566210864, -0.1492561404409869 L -0.9896133982689019, -0.14375438068690535 L -0.990397618307254, -0.13824817413376148 \", \"type\": \"path\"}, {\"fillcolor\": \"rgba(99,108,195,0.25)\", \"layer\": \"below\", \"line\": {\"color\": \"rgb(175,175,175)\", \"width\": 0.5}, \"path\": \"M -0.9569699688230741,-0.29018697209000377 Q -0.021592497075838723, -0.19883099373596136 0.8723689077498616, -0.488848124463328L 0.8723689077498616, -0.488848124463328 L 0.8626052347493666, -0.5058776620715628 L 0.8525091702251565, -0.5227122675832423 M 0.8525091702251565,-0.5227122675832423 Q -0.021273219902082453, -0.19886540703450073 -0.9437859332038874, -0.3305572753494731L -0.9437859332038874, -0.3305572753494731 L -0.9505922838519665, -0.3104421200177297 L -0.9569699688230741, -0.29018697209000377 \", \"type\": \"path\"}, {\"fillcolor\": \"rgba(99,108,195,0.25)\", \"layer\": \"below\", \"line\": {\"color\": \"rgb(175,175,175)\", \"width\": 0.5}, \"path\": \"M -0.988798566210864,-0.1492561404409869 Q -0.016324660607538993, -0.19933265025090263 0.951338838446157, -0.30814674177072976L 0.951338838446157, -0.30814674177072976 L 0.9499344460990038, -0.3124492728661389 L 0.9485105952075555, -0.3167454037219936 M 0.9485105952075555,-0.3167454037219936 Q -0.016017378720182968, -0.1993575771796353 -0.9869146175225436, -0.16124372149119934L -0.9869146175225436, -0.16124372149119934 L -0.9878747752723309, -0.1552527886404677 L -0.988798566210864, -0.1492561404409869 \", \"type\": \"path\"}, {\"fillcolor\": \"rgba(99,108,195,0.25)\", \"layer\": \"below\", \"line\": {\"color\": \"rgb(175,175,175)\", \"width\": 0.5}, \"path\": \"M -0.9823345846883064,-0.18713301078444913 Q 0.0036728382548820468, -0.19996627280407434 0.9885439464965703, -0.15093331588812983L 0.9885439464965703, -0.15093331588812983 L 0.9865412941572077, -0.16351230816859555 L 0.9843785837174812, -0.17606477194023198 M 0.9843785837174812,-0.17606477194023198 Q 0.003956738353150405, -0.19996085672352154 -0.9766429641545297, -0.21486861233659552L -0.9766429641545297, -0.21486861233659552 L -0.9795869410705393, -0.20102095633058692 L -0.9823345846883064, -0.18713301078444913 \", \"type\": \"path\"}, {\"fillcolor\": \"rgba(196,173,64,0.25)\", \"layer\": \"below\", \"line\": {\"color\": \"rgb(175,175,175)\", \"width\": 0.5}, \"path\": \"M -0.3854841278694873,-0.9227144667559412 Q -0.028218167029664093, -0.197999330931915 0.1123682455643748, -0.9936666329251397L 0.1123682455643748, -0.9936666329251397 L 0.0808742090113767, -0.9967243161059051 L 0.049299199278353224, -0.9987840552143958 M 0.049299199278353224,-0.9987840552143958 Q -0.028178636517164398, -0.19800496065511475 -0.32597820537448285, -0.945377284273761L -0.32597820537448285, -0.945377284273761 L -0.3559115953866919, -0.9345196286163815 L -0.3854841278694873, -0.9227144667559412 \", \"type\": \"path\"}, {\"fillcolor\": \"rgba(196,173,64,0.25)\", \"layer\": \"below\", \"line\": {\"color\": \"rgb(175,175,175)\", \"width\": 0.5}, \"path\": \"M -0.5528627334523385,-0.8332723432105548 Q -0.0014845416196976775, -0.1999944902645555 0.5404318777878526, -0.8413877735448119L 0.5404318777878526, -0.8413877735448119 L 0.5341190222403092, -0.8454092914565442 L 0.527776242807284, -0.8493834455228256 M 0.527776242807284,-0.8493834455228256 Q -0.001389386886025496, -0.19999517395197552 -0.5395262393898602, -0.8419687862443804L -0.5395262393898602, -0.8419687862443804 L -0.5462117941121087, -0.8376471070640854 L -0.5528627334523385, -0.8332723432105548 \", \"type\": \"path\"}, {\"fillcolor\": \"rgba(196,173,64,0.25)\", \"layer\": \"below\", \"line\": {\"color\": \"rgb(175,175,175)\", \"width\": 0.5}, \"path\": \"M -0.50215597997585,-0.8647770647828801 Q 0.03537046043432009, -0.19684748037164257 0.771798614070258, -0.6358670453162588L 0.771798614070258, -0.6358670453162588 L 0.7653124183066137, -0.6436589954204655 L 0.7587475597362222, -0.6513847868919935 M 0.7587475597362222,-0.6513847868919935 Q 0.03592108202920206, -0.1967477467872284 -0.47961646532612234, -0.8774782311761794L -0.47961646532612234, -0.8774782311761794 L -0.4909272996029974, -0.8712005432186718 L -0.50215597997585, -0.8647770647828801 \", \"type\": \"path\"}, {\"fillcolor\": \"rgba(196,173,64,0.25)\", \"layer\": \"below\", \"line\": {\"color\": \"rgb(175,175,175)\", \"width\": 0.5}, \"path\": \"M -0.47961646532612234,-0.8774782311761794 Q 0.04830093938012223, -0.1940799300674796 0.8349543719491034, -0.5503191771718284L 0.8349543719491034, -0.5503191771718284 L 0.8268934385221671, -0.5623586411970452 L 0.8186589175537891, -0.5742800507676183 M 0.8186589175537891,-0.5742800507676183 Q 0.04848238278808345, -0.19403468390777395 -0.4523241347848975, -0.8918536186455117L -0.4523241347848975, -0.8918536186455117 L -0.46602573263184227, -0.8847711661921147 L -0.47961646532612234, -0.8774782311761794 \", \"type\": \"path\"}, {\"fillcolor\": \"rgba(196,173,64,0.25)\", \"layer\": \"below\", \"line\": {\"color\": \"rgb(175,175,175)\", \"width\": 0.5}, \"path\": \"M -0.561127087838456,-0.8277296607552093 Q 0.06412260854935431, -0.1894420520180941 0.9485105952075555, -0.3167454037219936L 0.9485105952075555, -0.3167454037219936 L 0.947309209662306, -0.32032056020333316 L 0.9460943485762003, -0.3238911601019317 M 0.9460943485762003,-0.3238911601019317 Q 0.06435062492610796, -0.18936471971203975 -0.5528627334523385, -0.8332723432105548L -0.5528627334523385, -0.8332723432105548 L -0.5570018050393322, -0.8305112817914793 L -0.561127087838456, -0.8277296607552093 \", \"type\": \"path\"}, {\"fillcolor\": \"rgba(196,173,64,0.25)\", \"layer\": \"below\", \"line\": {\"color\": \"rgb(175,175,175)\", \"width\": 0.5}, \"path\": \"M -0.4523241347848975,-0.8918536186455117 Q 0.09411975216911372, -0.1764694654936786 0.9926293766588261, -0.12118960596482813L 0.9926293766588261, -0.12118960596482813 L 0.9906982921988156, -0.13607679388621086 L 0.9885439464965703, -0.15093331588812983 M 0.9885439464965703,-0.15093331588812983 Q 0.09436795861266288, -0.17633686054616815 -0.4227986860267228, -0.9062236319441668L -0.4227986860267228, -0.9062236319441668 L -0.4376203973729657, -0.8991598232812271 L -0.4523241347848975, -0.8918536186455117 \", \"type\": \"path\"}, {\"fillcolor\": \"rgba(150,81,158,0.25)\", \"layer\": \"below\", \"line\": {\"color\": \"rgb(175,175,175)\", \"width\": 0.5}, \"path\": \"M 0.030526155095337203,-0.9995339683347912 Q 0.06254292202812599, -0.18996942623533863 0.5692294752766176, -0.8221786937620718L 0.5692294752766176, -0.8221786937620718 L 0.5618992158306864, -0.8272057006868725 L 0.5545245643788398, -0.8321673554643068 M 0.5545245643788398,-0.8321673554643068 Q 0.06263898643758135, -0.18993777238367437 0.049299199278353224, -0.9987840552143958L 0.049299199278353224, -0.9987840552143958 L 0.03991443839819558, -0.9992031012798933 L 0.030526155095337203, -0.9995339683347912 \", \"type\": \"path\"}, {\"fillcolor\": \"rgba(150,81,158,0.25)\", \"layer\": \"below\", \"line\": {\"color\": \"rgb(175,175,175)\", \"width\": 0.5}, \"path\": \"M -0.0021013982217003594,-0.9999977920603195 Q 0.09158877494389399, -0.17779622128795858 0.8154251260354014, -0.578862560397673L 0.8154251260354014, -0.578862560397673 L 0.8140701365276349, -0.5807665734302189 L 0.8127107011694079, -0.5826674147442342 M 0.8127107011694079,-0.5826674147442342 Q 0.09161281373507342, -0.17778383604687675 0.0028428839477033317, -0.9999959589972651L 0.0028428839477033317, -0.9999959589972651 L 0.0003707439959009168, -0.9999999312744424 L -0.0021013982217003594, -0.9999977920603195 \", \"type\": \"path\"}, {\"fillcolor\": \"rgba(150,81,158,0.25)\", \"layer\": \"below\", \"line\": {\"color\": \"rgb(175,175,175)\", \"width\": 0.5}, \"path\": \"M 0.007787096620166373,-0.999969680103466 Q 0.1169175768093649, -0.16226607850387664 0.9460943485762003, -0.3238911601019317L 0.9460943485762003, -0.3238911601019317 L 0.9449894662904643, -0.3271007621514561 L 0.9438736955429795, -0.33030659524453754 M 0.9438736955429795,-0.33030659524453754 Q 0.11708876797967799, -0.16214259284037968 0.01668611849733317, -0.9998607770332293L 0.01668611849733317, -0.9998607770332293 L 0.012236728709770793, -0.9999251284323659 L 0.007787096620166373, -0.999969680103466 \", \"type\": \"path\"}, {\"fillcolor\": \"rgba(150,81,158,0.25)\", \"layer\": \"below\", \"line\": {\"color\": \"rgb(175,175,175)\", \"width\": 0.5}, \"path\": \"M 0.0028428839477033317,-0.9999959589972651 Q 0.12478587171123207, -0.15629614909289333 0.9745441361685271, -0.22419573292000763L 0.9745441361685271, -0.22419573292000763 L 0.9740316705350284, -0.22641180356761853 L 0.9735141656608823, -0.22862670285335474 M 0.9735141656608823,-0.22862670285335474 Q 0.12481675191685798, -0.15627148953320158 0.007787096620166373, -0.999969680103466L 0.007787096620166373, -0.999969680103466 L 0.005315006525244039, -0.999985875253064 L 0.0028428839477033317, -0.9999959589972651 \", \"type\": \"path\"}, {\"fillcolor\": \"rgba(67,201,134,0.25)\", \"layer\": \"below\", \"line\": {\"color\": \"rgb(175,175,175)\", \"width\": 0.5}, \"path\": \"M 0.5125942925958363,-0.8586309400424458 Q 0.12628950021565497, -0.15508372621032837 0.7370085037958094, -0.6758834702318606L 0.7370085037958094, -0.6758834702318606 L 0.735689345792423, -0.6773191171726343 L 0.7343673912425713, -0.6787521894473566 M 0.7343673912425713,-0.6787521894473566 Q 0.12634987648232077, -0.15503454038665798 0.5166054442189796, -0.8562235776964512L 0.5166054442189796, -0.8562235776964512 L 0.5146012761481333, -0.8574296044496671 L 0.5125942925958363, -0.8586309400424458 \", \"type\": \"path\"}, {\"fillcolor\": \"rgba(67,201,134,0.25)\", \"layer\": \"below\", \"line\": {\"color\": \"rgb(175,175,175)\", \"width\": 0.5}, \"path\": \"M 0.5093772901240372,-0.8605433029812575 Q 0.13509743394994042, -0.14747434807498383 0.8127107011694079, -0.5826674147442342L 0.8127107011694079, -0.5826674147442342 L 0.8116199568587651, -0.5841857971814929 L 0.8105263757672496, -0.5857021377676602 M 0.8105263757672496,-0.5857021377676602 Q 0.1350976844420632, -0.1474741186052411 0.5125942925958363, -0.8586309400424458L 0.5125942925958363, -0.8586309400424458 L 0.5109866859857932, -0.8595886264634126 L 0.5093772901240372, -0.8605433029812575 \", \"type\": \"path\"}, {\"fillcolor\": \"rgba(67,201,134,0.25)\", \"layer\": \"below\", \"line\": {\"color\": \"rgb(175,175,175)\", \"width\": 0.5}, \"path\": \"M 0.5069598538135892,-0.86196966688005 Q 0.15423032746835505, -0.12733030310575708 0.942369085844577, -0.33457511270932294L 0.942369085844577, -0.33457511270932294 L 0.9419899160237982, -0.3356411746336815 L 0.9416095402131015, -0.3367068068508143 M 0.9416095402131015,-0.3367068068508143 Q 0.1542649492428541, -0.12728835545759734 0.5093772901240372, -0.8605433029812575L 0.5093772901240372, -0.8605433029812575 L 0.5081690724210944, -0.8612573331093817 L 0.5069598538135892, -0.86196966688005 \", \"type\": \"path\"}, {\"fillcolor\": \"rgba(67,201,134,0.25)\", \"layer\": \"below\", \"line\": {\"color\": \"rgb(175,175,175)\", \"width\": 0.5}, \"path\": \"M 0.5404318777878526,-0.8413877735448119 Q 0.1650395241917925, -0.11296882514458025 0.9799386933586719, -0.1992991652227844L 0.9799386933586719, -0.1992991652227844 L 0.978273919841281, -0.20731651588422725 L 0.976543553661656, -0.2153199661012987 M 0.976543553661656,-0.2153199661012987 Q 0.1650657530756766, -0.11293049703937266 0.5545245643788398, -0.8321673554643068L 0.5545245643788398, -0.8321673554643068 L 0.5474976315820738, -0.8368072319309985 L 0.5404318777878526, -0.8413877735448119 \", \"type\": \"path\"}, {\"fillcolor\": \"rgba(221,77,138,0.25)\", \"layer\": \"below\", \"line\": {\"color\": \"rgb(175,175,175)\", \"width\": 0.5}, \"path\": \"M 0.771798614070258,-0.6358670453162588 Q 0.18502831623424024, -0.07592445055133423 0.995984622878443, -0.08952447145716941L 0.995984622878443, -0.08952447145716941 L 0.9944330444905533, -0.10537039444383495 L 0.9926293766588261, -0.12118960596482813 M 0.9926293766588261,-0.12118960596482813 Q 0.1848551784348426, -0.07634502607126747 0.7888653059684697, -0.6145661307290474L 0.7888653059684697, -0.6145661307290474 L 0.7804046386767729, -0.6252748195248035 L 0.771798614070258, -0.6358670453162588 \", \"type\": \"path\"}, {\"fillcolor\": \"rgba(78,141,43,0.25)\", \"layer\": \"below\", \"line\": {\"color\": \"rgb(175,175,175)\", \"width\": 0.5}, \"path\": \"M 0.8154251260354014,-0.578862560397673 Q 0.17767702190830095, -0.09181980116400355 0.9438736955429795, -0.33030659524453754L 0.9438736955429795, -0.33030659524453754 L 0.9431238055761837, -0.33244170519881644 L 0.942369085844577, -0.33457511270932294 M 0.942369085844577,-0.33457511270932294 Q 0.1777267027231071, -0.09172360186545407 0.8186589175537891, -0.5742800507676183L 0.8186589175537891, -0.5742800507676183 L 0.8170452345046924, -0.5765735727321989 L 0.8154251260354014, -0.578862560397673 \", \"type\": \"path\"}, {\"fillcolor\": \"rgba(78,141,43,0.25)\", \"layer\": \"below\", \"line\": {\"color\": \"rgb(175,175,175)\", \"width\": 0.5}, \"path\": \"M 0.8077800372303137,-0.5894840213713965 Q 0.1816337335521303, -0.0837208864974191 0.9728865117858071, -0.2312830196647487L 0.9728865117858071, -0.2312830196647487 L 0.9727811980154414, -0.23172557214870043 L 0.972675682934144, -0.23216807667850603 M 0.972675682934144,-0.23216807667850603 Q 0.18163477806765926, -0.08371862036794542 0.8083307185406798, -0.5887286721941681L 0.8083307185406798, -0.5887286721941681 L 0.8080554661455907, -0.5891064111281019 L 0.8077800372303137, -0.5894840213713965 \", \"type\": \"path\"}, {\"fillcolor\": \"rgba(207,86,188,0.25)\", \"layer\": \"below\", \"line\": {\"color\": \"rgb(150,150,150)\", \"width\": 0.45}, \"path\": \"M 1.1, 0.0 L 1.0997682334036993, 0.022579477321374077 L 1.0990730312798065, 0.04514943979073902 L 1.0979146865821945, 0.06770037656558545 L 1.0962936874301499, 0.0902227848207139 L 1.0942107169026845, 0.1127071737526666 L 1.0916666527506873, 0.13514406857909322 L 1.0886625670270482, 0.15752401453136566 L 1.0851997256349004, 0.17983758083875892 L 1.0812795877941763, 0.2020753647025195 L 1.0769038054267022, 0.22422799525814674 L 1.072074222460088, 0.24628613752421707 L 1.066792874050708, 0.2682404963360873 L 1.0610619857260977, 0.2900818202628197 L 1.054883972447131, 0.31180090550567746 L 1.0482614375903716, 0.3333885997765487 L 1.0411971718510233, 0.35483580615466426 L 1.033694152066952, 0.37613348691998333 L 1.0257555399642615, 0.3972726673616329 L 1.0173846808249634, 0.4182444395597958 L 1.0085851020772956, 0.43903996613945234 L 0.999360511809286, 0.4596504839943959 L 0.9897147972061863, 0.4800673079799515 L 0.9796520229124378, 0.5002818345728421 L 0.9691764293188537, 0.52028554549666 L 0.9582924307757459, 0.5400700113114155 L 0.9470046137327441, 0.5596268949656515 L 0.9353177348060951, 0.5789479553096247 L 0.923236718774254, 0.5980250505680755 L 0.9107666565026125, 0.6168501417711214 L 0.8979128027982405, 0.635415296141829 L 0.8846805741955422, 0.6537126904390382 L 0.8710755466737627, 0.6717346142540261 L 0.8571034533073045, 0.6894734732596269 L 0.8427701818498451, 0.7069217924104328 L 0.8280817722532746, 0.7240722190927339 L 0.8130444141224972, 0.7409175262228621 L 0.7976644441071696, 0.7574506152926408 L 0.7819483432314771, 0.7736645193606517 L 0.7659027341630686, 0.7895524059880611 L 0.7495343784223066, 0.805107580117767 L 0.7328501735330041, 0.8203234868956552 L 0.7158571501158504, 0.8351937144327735 L 0.6985624689257514, 0.849711996507263 L 0.6809734178343317, 0.8638722152049045 L 0.6630974087588708, 0.87766840349717 L 0.6449419745389664, 0.8910947477556915 L 0.6265147657622431, 0.9041455902020878 L 0.607823547540442, 0.916815431292118 L 0.5888761962372501, 0.9290989320331543 L 0.5696806961492502, 0.9409909162340016 L 0.5502451361413871, 0.9524863726861118 L 0.5305777062383703, 0.9635804572752759 L 0.5106866941734483, 0.9742684950229044 L 0.49058048189600867, 0.9845459820560338 L 0.47026754203947707, 0.9944085875052312 L 0.44975643435100143, 1.0038521553295952 L 0.4290558020844278, 1.0128727060680864 L 0.4081743683580866, 1.0214664385164482 L 0.3871209324789243, 1.0296297313290095 L 0.3659043662345305, 1.0373591445446977 L 0.3445336101546207, 1.0446514210366173 L 0.3230176697435532, 1.051503487884584 L 0.3013656116854649, 1.0579124576700314 L 0.2795865600236267, 1.0638756296927547 L 0.2576896923156283, 1.0693904911089667 L 0.23568423576601216, 1.0744547179901958 L 0.2135794633379865, 1.079066176302574 L 0.19138468984585613, 1.0832229228061072 L 0.16910926802981732, 1.0869232058735427 L 0.15373569820892483, 0.9881120053395842 L 0.17398608167805102, 0.9847481116419156 L 0.19416314848907862, 0.9809692511841581 L 0.21425839615092013, 0.9767770163547232 L 0.2342633566505712, 0.9721731737354242 L 0.2541696000214788, 0.9671596633570496 L 0.27396873789587717, 0.9617385978818466 L 0.2936524270395938, 0.9559122617132579 L 0.313212372867837, 0.9496831100332884 L 0.33264033294048223, 0.9430537677679068 L 0.35192812043538574, 0.9360270284809177 L 0.3710676075982605, 0.9286058531967711 L 0.3900507291676616, 0.9207933691528059 L 0.40886948577363763, 0.91259286848145 L 0.4275159473086155, 0.9040078068229374 L 0.44598225626909876, 0.8950418018691216 L 0.4642606310667711, 0.8856986318390039 L 0.48234336930760935, 0.8759822338866143 L 0.5002228510376246, 0.8658967024419197 L 0.5178915419538638, 0.8554462874854559 L 0.5353419965793182, 0.844635392757413 L 0.5525668614004018, 0.8334685739019253 L 0.5695588779656755, 0.8219505365473525 L 0.5863108859445149, 0.8100861343233559 L 0.602815826144428, 0.797880366815609 L 0.6190667434857561, 0.785338377459004 L 0.6350567899325011, 0.772465451370239 L 0.6507792273780457, 0.7592670131207031 L 0.6662274304845491, 0.7457486244505955 L 0.6813948894748242, 0.7319159819252427 L 0.6962752128755169, 0.717774914534601 L 0.7108621302104337, 0.703331381236956 L 0.7251494946428815, 0.6885914684478552 L 0.7391312855659065, 0.6735613874753291 L 0.7528016111393405, 0.6582474719024853 L 0.7661547107725863, 0.6426561749185753 L 0.7791849575520949, 0.6267940665996607 L 0.7918868606125116, 0.6106678311400238 L 0.8042550674504929, 0.5942842640354893 L 0.8162843661802186, 0.5776502692198445 L 0.8279696877296476, 0.5607728561555648 L 0.8393061079765944, 0.5436591368800686 L 0.8502888498237228, 0.5263163230087498 L 0.8609132852115855, 0.5087517226960468 L 0.8711749370688598, 0.4909727375558322 L 0.8810694811989579, 0.4729868595424181 L 0.8905927481022161, 0.4548016677934928 L 0.8997407247328966, 0.4364248254363195 L 0.9085095561902599, 0.41786407635854167 L 0.9168955473429959, 0.39912724194495663 L 0.9248951643863302, 0.3802222177816325 L 0.9325050363311467, 0.36115697032875715 L 0.9397219564245017, 0.34193953356362117 L 0.9465428835009303, 0.3225780055951493 L 0.9529649432639741, 0.30308054525140793 L 0.9589854294973919, 0.28345536864152493 L 0.9646018052055432, 0.2637107456934724 L 0.9698117036824617, 0.24385499666917027 L 0.974612929509171, 0.22389648865837913 L 0.9790034594788202, 0.20384363205286066 L 0.9829814434492512, 0.18370487700229043 L 0.9865452051226367, 0.16348870985341718 L 0.989693242751862, 0.14320364957396878 L 0.992424229773352, 0.12285824416281202 L 0.9947370153660766, 0.10246106704787872 L 0.9966306249364999, 0.08202071347337626 L 0.9981042605292676, 0.06154579687780495 L 0.9991573011634605, 0.0410449452643082 L 0.999789303094272, 0.020526797564885523 L 1.0, 0.0 L 1.1 ,0.0\", \"type\": \"path\"}, {\"fillcolor\": \"rgba(95,194,80,0.25)\", \"layer\": \"below\", \"line\": {\"color\": \"rgb(150,150,150)\", \"width\": 0.45}, \"path\": \"M 0.13488473985832855, 1.0916987253603219 L 0.11211911243353206, 1.0942711293948666 L 0.08930484838132892, 1.0963688448946312 L 0.06645184439851087, 1.0979909618826724 L 0.04357001398702819, 1.099136776693952 L 0.020669283153571458, 1.0998057922805815 L -0.0022404138962749624, 1.09999771842744 L -0.02514913906743347, 1.0997124718780664 L -0.04804695468642114, 1.0989501763707767 L -0.0709239278122571, 1.0977111625849862 L -0.0937701345453135, 1.0959959679977633 L -0.11657566433224767, 1.0938053366506746 L -0.13933062426514278, 1.091140218827024 L -0.16202514337299362, 1.0880017706396259 L -0.18464937690367897, 1.0843913535292888 L -0.20719351059455654, 1.0803105336742318 L -0.22964776492983577, 1.0757610813106835 L -0.2520023993828736, 1.0707449699649654 L -0.274247716641561, 1.0652643755973867 L -0.2963740668149601, 1.0593216756583252 L -0.31837185161937115, 1.052919448056903 L -0.34023152854201427, 1.0460604700427047 L -0.36194361498051586, 1.0387477170010224 L -0.3834986923564065, 1.03098436116215 L -0.4048874102008479, 1.0227737702252881 L -0.4261004902108105, 1.0141195058976566 L -0.44712873027395017, 1.0050253223494447 L -0.4679630084604297, 0.9954951645852751 L -0.48859428697996204, 0.985533166732882 L -0.5090136161023492, 0.9751436502497519 L -0.5292121380398255, 0.964331122048499 L -0.549181090789514, 0.9531002725417927 L -0.5689118119343355, 0.9414559736076835 L -0.5883957424007117, 0.9294032764762106 L -0.6076244301714443, 0.9169474095382066 L -0.6265895339521524, 0.9040937760772522 L -0.645282826789676, 0.8908479519257624 L -0.663696199640882, 0.8772156830462224 L -0.6818216648903207, 0.8632028830386235 L -0.6996513598152083, 0.8488156305751738 L -0.6360466907410984, 0.771650573250158 L -0.6198378771730187, 0.7847298936714758 L -0.6033601814917109, 0.7974688027692931 L -0.5866207516269781, 0.8098617744779657 L -0.5696268490474112, 0.8219034327975019 L -0.5523858456104038, 0.8335885541256424 L -0.5349052203642833, 0.8449120695238277 L -0.5171925563039413, 0.8558690669160759 L -0.4992555370813764, 0.8664547932198116 L -0.48110194367256853, 0.8766646564077263 L -0.46273965100213554, 0.8864942274997744 L -0.44417662452723816, 0.8959392424844381 L -0.4254209167822088, 0.9049956041684318 L -0.4064806638854092, 0.9136593839540406 L -0.3873640820098277, 0.9219268235433241 L -0.3680794638189526, 0.9297943365684437 L -0.34863517486946044, 0.937258510147409 L -0.32903964998228713, 0.9443161063645658 L -0.30930138958364933, 0.9509640636751862 L -0.2894289560176101, 0.9571994982335481 L -0.2694309698317819, 0.9630197051439319 L -0.2493161060377827, 0.9684221596339879 L -0.2290930903480669, 0.9734045181499685 L -0.20877069539075976, 0.9779646193733486 L -0.1883577369041423, 0.9821004851583925 L -0.1678630699124354, 0.9858103213902626 L -0.14729558488453964, 0.9890925187632962 L -0.12666420387740251, 0.9919456534791127 L -0.10597787666567969, 0.9943684878642495 L -0.0852455768593759, 0.9963599709070574 L -0.06447629801114282, 0.9979192387136238 L -0.0436790497149283, 0.9990456148825242 L -0.022862853697666788, 0.9997386107982421 L -0.002036739905704511, 0.9999979258431272 L 0.018790257412337686, 0.9998234475278013 L 0.03960910362457108, 0.9992152515399563 L 0.060410767635009875, 0.9981736017115204 L 0.0811862258012081, 0.9966989499042102 L 0.1019264658486655, 0.9947919358135151 L 0.12262249078029867, 0.9924533866912015 L 0.13488473985832855 ,1.0916987253603219\", \"type\": \"path\"}, {\"fillcolor\": \"rgba(134,93,213,0.25)\", \"layer\": \"below\", \"line\": {\"color\": \"rgb(150,150,150)\", \"width\": 0.45}, \"path\": \"M -0.7259680673778519, 0.8264202109990212 L -0.743075151846116, 0.8110729429027157 L -0.7598578680578052, 0.7953716240542199 L -0.7763088899969908, 0.7793231084162975 L -0.792421036439416, 0.7629344015105637 L -0.8081872740872531, 0.7462126573594255 L -0.82360072063929, 0.7291651753631974 L -0.8386546477952008, 0.711799397113757 L -0.8533424841925952, 0.6941229031461292 L -0.8676578182755582, 0.6761434096294208 L -0.8815944010934325, 0.6578687649985462 L -0.8951461490286183, 0.6393069465282187 L -0.9083071464522051, 0.6204660568506971 L -0.9210716483062694, 0.6013543204188128 L -0.9334340826117151, 0.5819800799158216 L -0.9453890529005636, 0.5623517926136409 L -0.9569313405716277, 0.5424780266810701 L -0.9680559071685414, 0.5223674574436012 L -0.9787578965791567, 0.5020288635964518 L -0.9890326371553386, 0.48147112337247866 L -0.9988756437522411, 0.46070321066663517 L -1.0082826196861694, 0.4397341911186754 L -1.017249458610173, 0.41857321815580867 L -1.0257722463065562, 0.3972295289970296 L -1.0338472623955173, 0.37571244062087517 L -1.0414709819591736, 0.3540313456983643 L -1.0486400770802653, 0.3321957084928935 L -1.0553514182948611, 0.31021506072888366 L -1.0616020759584381, 0.28809899743097805 L -1.067389321524733, 0.26585717273560683 L -1.0727106287368118, 0.24349929567675166 L -1.0775636747298354, 0.221035125947741 L -1.0819463410450398, 0.1984744696409356 L -1.0858567145544884, 0.17582717496716044 L -1.0892930882961942, 0.1531031279567462 L -0.990266443905631, 0.13918466177886016 L -0.9871424677768076, 0.1598428863337822 L -0.9835875827682179, 0.18043133603721417 L -0.9796033406634866, 0.20094102358885543 L -0.9751914806698289, 0.22136299606977422 L -0.9703539286588482, 0.24168833885055163 L -0.9650927963258528, 0.2619081794827073 L -0.9594103802680556, 0.2820136915717124 L -0.9533091609820593, 0.3019960986299031 L -0.9467918017810669, 0.3218466779076039 L -0.9398611476322883, 0.34155676420079556 L -0.932520223915051, 0.3611177536336633 L -0.9247722351001572, 0.3805211074143715 L -0.916620563351063, 0.39975835556243217 L -0.9080687670474918, 0.41882110060603195 L -0.899120579232126, 0.4377010212477078 L -0.8897799059810515, 0.4563898759967744 L -0.8800508246986739, 0.47487950676691015 L -0.8699375823378432, 0.49316184243733646 L -0.8594445935459669, 0.5112289023760371 L -0.8485764387379228, 0.5290727999234741 L -0.8373378620966085, 0.5466857458352843 L -0.8257337695020046, 0.5640600516824519 L -0.813769226389653, 0.5811881332074715 L -0.801449455539484, 0.5980625136350419 L -0.7887798347959619, 0.614675826935837 L -0.775765894720541, 0.6310208210419356 L -0.7624133161774552, 0.6470903610125063 L -0.7487279278539, 0.6628774321483611 L -0.7347157037156846, 0.6783751430540231 L -0.720382760399469, 0.693576728645967 L -0.7057353545427189, 0.708475553105725 L -0.6907798800525501, 0.7230651127765635 L -0.6755228653146509, 0.7373390390024688 L -0.6599709703435017, 0.7512911009082011 L -0.7259680673778519 ,0.8264202109990212\", \"type\": \"path\"}, {\"fillcolor\": \"rgba(157,185,53,0.25)\", \"layer\": \"below\", \"line\": {\"color\": \"rgb(150,150,150)\", \"width\": 0.45}, \"path\": \"M -1.0935646733794515, 0.11881205804333995 L -1.0983758947946891, 0.05975277176806282 L -1.0999998770453163, 0.0005200964232733603 L -1.0984319077010467, -0.05871408812405549 L -1.0936765366553431, -0.11777789762758537 L -0.9942513969594028, -0.10707081602507759 L -0.9985744615464061, -0.053376443749141356 L -0.9999998882230147, 0.0004728149302485093 L -0.9985235407224445, 0.05432070160732983 L -0.9941497030722285, 0.10801096185758177 L -1.0935646733794515 ,0.11881205804333995\", \"type\": \"path\"}, {\"fillcolor\": \"rgba(99,108,195,0.25)\", \"layer\": \"below\", \"line\": {\"color\": \"rgb(150,150,150)\", \"width\": 0.45}, \"path\": \"M -1.0894373801379795, -0.15207299154713763 L -1.0860668535071418, -0.17452446737663152 L -1.0822336900270662, -0.19690160022305592 L -1.0779395225278767, -0.21919485799711033 L -1.0731861802156812, -0.2413947443381393 L -1.067975687893376, -0.2634918026593442 L -1.0623102650981315, -0.285476620176045 L -1.0561923251559258, -0.3073398319152909 L -1.0496244741535297, -0.32907212470509645 L -1.0426095098283785, -0.35066424114162004 L -1.0351504203768094, -0.37210698353257887 L -1.027250383181164, -0.3933912178152334 L -1.0189127634563038, -0.41450787744726697 L -1.0101411128161173, -0.4354479672688993 L -1.0009391677606194, -0.4562025673345987 L -0.9913108480842994, -0.47676283671274894 L -0.9812602552063876, -0.4971200172516645 L -0.9707916704237556, -0.5172654373103373 L -0.9599095530871923, -0.5371905154523366 L -0.9486185387018332, -0.5568867641012837 L -0.9369234369525553, -0.5763457931563406 L -0.9248292296551711, -0.595559313566183 L -0.912341068634304, -0.6145191408599219 L -0.8994642735288401, -0.6332171986334831 L -0.8862043295258994, -0.6516455219899475 L -0.8725668850242846, -0.6697962609323952 L -0.858557749228406, -0.6876616837078054 L -0.8441828896737095, -0.7052341801005859 L -0.8294484296846586, -0.7225062646743307 L -0.8143606457663531, -0.7394705799604258 L -0.7989259649308973, -0.7561198995921447 L -0.783150961959657, -0.7724471313828952 L -0.767042356602571, -0.7884453203473114 L -0.7506070107157056, -0.8041076516639005 L -0.7338519253382809, -0.8194274535779836 L -0.716784237710406, -0.8343982002436919 L -0.6994112182327961, -0.849013514503813 L -0.6817402673697655, -0.8632671706062967 L -0.6637789124968189, -0.8771530968562675 L -0.6455348046941832, -0.8906653782024104 L -0.5868498224492574, -0.8096957983658276 L -0.603435374997108, -0.7974119062329704 L -0.6197638794270595, -0.7847883369148151 L -0.6358283802116327, -0.771830467730739 L -0.6516220342821872, -0.7585438184033563 L -0.6671381139438917, -0.7449340487072578 L -0.6823700097415505, -0.7310069560580913 L -0.6973112332750645, -0.7167684730430103 L -0.7119554199633246, -0.7022246648935411 L -0.7262963317553611, -0.6873817269019497 L -0.7403278597875937, -0.6722459817822052 L -0.7540440269860532, -0.6568238769766642 L -0.7674389906124631, -0.6411219819096236 L -0.7805070447530963, -0.625146985188914 L -0.7932426227493495, -0.6089056917567228 L -0.8056402995689994, -0.5924050199908614 L -0.8176947941171273, -0.5756519987577119 L -0.8294009714857308, -0.5586537644181108 L -0.8407538451410645, -0.541417557787439 L -0.8517485790477775, -0.5239507210512186 L -0.8623804897289392, -0.5062606946375305 L -0.8726450482610838, -0.4883550140475787 L -0.8825378822034141, -0.47024130664576114 L -0.8920547774603523, -0.45192728841060403 L -0.9011916800766357, -0.43342076064795354 L -0.9099446979641993, -0.41472960666781694 L -0.9183101025601066, -0.39586178842627207 L -0.9262843304148215, -0.37682534313387905 L -0.9338639847101489, -0.35762837983203033 L -0.9410458367061904, -0.33827907593870804 L -0.9478268271167077, -0.3187856737651091 L -0.9542040674122996, -0.2991564770046331 L -0.9601748410508416, -0.279399847195719 L -0.9657366046346649, -0.2595242001600409 L -0.970886988993978, -0.2395380024175856 L -0.9756238001960738, -0.2194497675801266 L -0.9799450204798879, -0.19926805272464573 L -0.9838488091155146, -0.17900145474823265 L -0.9873335031883106, -0.15865860670602863 L -0.990397618307254, -0.13824817413376148 L -1.0894373801379795 ,-0.15207299154713763\", \"type\": \"path\"}, {\"fillcolor\": \"rgba(196,173,64,0.25)\", \"layer\": \"below\", \"line\": {\"color\": \"rgb(150,150,150)\", \"width\": 0.45}, \"path\": \"M -0.6172397966223017, -0.9105026268307302 L -0.59814766769232, -0.9231572821758154 L -0.5787961850533955, -0.9354116613382772 L -0.5591937394074699, -0.9472604508832251 L -0.5393488302727337, -0.9586985132373128 L -0.5192700622982815, -0.9697208889163618 L -0.49896614153318364, -0.9803227986757664 L -0.4784458716515833, -0.9904996455827518 L -0.4577181501354724, -1.0002470170095792 L -0.4367919644167922, -1.0095606865468365 L -0.4156763879805243, -1.0184366158359905 L -0.3943805764304777, -1.026870956320396 L -0.37291376351946937, -1.0348600509140091 L -0.3512852571456118, -1.0424004355870835 L -0.3295044353164597, -1.049488840868154 L -0.3075807420827572, -1.0561221932616607 L -0.28552368344354195, -1.0622976165806042 L -0.26334282322439545, -1.0680124331936427 L -0.24104777893062154, -1.0732641651860992 L -0.2186482175771404, -1.0780505354343737 L -0.19615385149692416, -1.0823694685932908 L -0.17357443412978288, -1.0862190919959591 L -0.15091975579331812, -1.0895977364657499 L -0.1281996394378952, -1.092503937040043 L -0.10542393638746608, -1.094936433605427 L -0.0826025220680808, -1.096894171444079 L -0.05974529172595726, -1.0983763016910828 L -0.036862156136956856, -1.0993821817024936 L -0.03351105103359714, -0.9994383470022669 L -0.054313901569052046, -0.998523910628257 L -0.07509320188007346, -0.9971765194946172 L -0.0958399421704237, -0.9953967578231154 L -0.1165451267617229, -0.9931853973091298 L -0.13719977799392555, -0.9905433967870452 L -0.15779494011798442, -0.9874719018145082 L -0.17832168317902194, -0.9839722441757188 L -0.19877110688830943, -0.9800459413039759 L -0.2191343444823832, -0.9756946956237265 L -0.2394025665676322, -0.9709203938124024 L -0.2595669849486745, -0.9657251059823673 L -0.2796188564388702, -0.9601110847833279 L -0.29954948665132697, -0.9540807644255944 L -0.319350233768738, -0.9476367596246213 L -0.33901251229042667, -0.9407818644672808 L -0.3585277967549797, -0.9335190512003598 L -0.37788762543684024, -0.9258514689418095 L -0.3970836040152656, -0.9177824423153059 L -0.4161074092140658, -0.9093154700087083 L -0.43495079241053025, -0.900454223257047 L -0.4536055832119851, -0.8912025442506967 L -0.47206369299843776, -0.8815644444694197 L -0.4903171184297579, -0.8715441029430115 L -0.5083579449158816, -0.8611458644392954 L -0.5261783500485413, -0.850374237580252 L -0.5437706069930182, -0.8392338928871048 L -0.561127087838456, -0.8277296607552093 L -0.6172397966223017 ,-0.9105026268307302\", \"type\": \"path\"}, {\"fillcolor\": \"rgba(150,81,158,0.25)\", \"layer\": \"below\", \"line\": {\"color\": \"rgb(150,150,150)\", \"width\": 0.45}, \"path\": \"M -0.0023115380438703957, -1.0999975712663514 L 0.020711135362150364, -1.0998050049313337 L 0.04372473556941724, -1.0991306325907693 L 0.06671918070820033, -1.097974749675796 L 0.08968439730028183, -1.0963378625592046 L 0.11261032467197482, -1.094220688333607 L 0.13548691936153665, -1.091624154497289 L 0.15830415951904167, -1.0885493985478887 L 0.1810520492967828, -1.084997767484079 L 0.20372062322828163, -1.08097081721547 L 0.2262999505939928, -1.0764703118809902 L 0.24878013977178687, -1.071498223076049 L 0.2711513425703007, -1.0660567289888112 L 0.2934037585432622, -1.0601482134459725 L 0.31552763928290206, -1.053775264868444 L 0.33751329269056873, -1.0469406751374075 L 0.3593510872226711, -1.0396474383712415 L 0.3810314561100936, -1.0318987496138474 L 0.40254490154923755, -1.0236980034349559 L 0.42388199886285116, -1.0150487924430205 L 0.445033400628819, -1.005954905711359 L 0.4659898407751086, -0.9964203271182243 L 0.4867421386390813, -0.9864492336015339 L 0.5072812029893881, -0.9760459933290231 L 0.5275980360086822, -0.9652151637846256 L 0.47963457818971106, -0.8774683307132959 L 0.46116472999035274, -0.8873145393900209 L 0.44249285330825566, -0.896772030546849 L 0.4236271279773714, -0.9058366610165675 L 0.4045758187534718, -0.9145044597375991 L 0.385347271693501, -0.9227716294936549 L 0.36594991049930686, -0.9306345485772325 L 0.34639223282735776, -0.9380897723762249 L 0.32668280656606463, -0.9451340348829468 L 0.3068302660823352, -0.9517642501249158 L 0.28684330843900185, -0.9579775135167671 L 0.2667306895847838, -0.9637711031327022 L 0.24650122051845516, -0.9691424808989192 L 0.22616376342889713, -0.974089293705499 L 0.2057272278127207, -0.9786093744372638 L 0.1852005665711651, -0.9827007429231543 L 0.16459277208798437, -0.9863616068037081 L 0.14391287229003788, -0.9895903623162623 L 0.12316992669230603, -0.9923855949975352 L 0.10237302242906801, -0.9947460803032789 L 0.08153127027298347, -0.9966707841447314 L 0.06065380064381848, -0.9981588633416326 L 0.03974975960856113, -0.9992096659916084 L 0.018828304874682147, -0.9998227317557578 L -0.0021013982217003594, -0.9999977920603195 L -0.0023115380438703957 ,-1.0999975712663514\", \"type\": \"path\"}, {\"fillcolor\": \"rgba(67,201,134,0.25)\", \"layer\": \"below\", \"line\": {\"color\": \"rgb(150,150,150)\", \"width\": 0.45}, \"path\": \"M 0.5576558391949482, -0.948166633568055 L 0.5795203986426857, -0.9349631583955716 L 0.6010725004639086, -0.9212555829877315 L 0.6223005245006443, -0.9070512980015095 L 0.6431930253266022, -0.8923579619027407 L 0.6637387384181592, -0.8771834968369335 L 0.6839265862278096, -0.8615360843579187 L 0.703745684156794, -0.845424161016638 L 0.7231853464237109, -0.828856413812439 L 0.7422350918259198, -0.8118417755093468 L 0.7608846493906499, -0.7943894198198187 L 0.7791239639127607, -0.776508756458591 L 0.7082945126479643, -0.7059170513259917 L 0.6917133176278635, -0.7221721998361987 L 0.6747591743871998, -0.7380379777357697 L 0.6574412240215554, -0.7535058307385809 L 0.6397688037789035, -0.7685674191060344 L 0.6217514420252813, -0.7832146221435624 L 0.6033988531074175, -0.7974395425790304 L 0.5847209321150928, -0.8112345108206733 L 0.5657277495460402, -0.8245920890922813 L 0.5464295458762805, -0.8375050754433921 L 0.5268367260388052, -0.8499665076323378 L 0.5069598538135892, -0.86196966688005 L 0.5576558391949482 ,-0.948166633568055\", \"type\": \"path\"}, {\"fillcolor\": \"rgba(221,77,138,0.25)\", \"layer\": \"below\", \"line\": {\"color\": \"rgb(150,150,150)\", \"width\": 0.45}, \"path\": \"M 0.8031302427401354, -0.7516527211393379 L 0.819923017400297, -0.7332981968729996 L 0.8362964211952856, -0.7145686082497312 L 0.8522420795236194, -0.6954735350027756 L 0.8677518365653174, -0.6760227438019515 L 0.7888653059684703, -0.6145661307290468 L 0.7747655268396539, -0.6322486681843414 L 0.7602694738138959, -0.6496078256815738 L 0.7453845612729972, -0.6666347244299996 L 0.7301184024910322, -0.6833206555812162 L 0.8031302427401354 ,-0.7516527211393379\", \"type\": \"path\"}, {\"fillcolor\": \"rgba(78,141,43,0.25)\", \"layer\": \"below\", \"line\": {\"color\": \"rgb(150,150,150)\", \"width\": 0.45}, \"path\": \"M 0.8885580409533451, -0.6484324235085362 L 0.9032541357879563, -0.6277993040629725 L 0.9174712067209911, -0.6068332430230965 L 0.9312017139953463, -0.5855453593464209 L 0.9444383758938341, -0.5639469426630639 L 0.9571741726009059, -0.5420494472885027 L 0.96940234992548, -0.5198644861489938 L 0.981116422882901, -0.49740382462287197 L 0.9923101791341278, -0.4746793743010069 L 1.002977682280333, -0.4517031866697113 L 1.0131132750111589, -0.4284874467194627 L 1.0227115821049693, -0.4050444664828183 L 0.9297378019136083, -0.3682222422571075 L 0.9210120681919625, -0.3895340424722388 L 0.9117978929821207, -0.41063926060882844 L 0.902100162849207, -0.4315267039100062 L 0.8919240208026372, -0.45218529511170175 L 0.8812748635686182, -0.4726040783172671 L 0.8701583387280962, -0.49277222480772964 L 0.8585803417216673, -0.5126790387846035 L 0.8465470127230421, -0.5323139630422008 L 0.8340647333827191, -0.5516665845664513 L 0.8211401234435965, -0.5707266400572476 L 0.8077800372303137, -0.5894840213713965 L 0.8885580409533451 ,-0.6484324235085362\", \"type\": \"path\"}, {\"fillcolor\": \"rgba(208,144,209,0.25)\", \"layer\": \"below\", \"line\": {\"color\": \"rgb(150,150,150)\", \"width\": 0.45}, \"path\": \"M 1.034929689828554, -0.3727204543775041 L 1.0421729503896195, -0.35195957363906993 L 1.0489997905141892, -0.3310580606195649 L 1.0554074824057453, -0.31002426692432733 L 1.0613934657465858, -0.288866597014005 L 0.9649031506787142, -0.2626059972854591 L 0.9594613476415866, -0.28184024265847935 L 0.9536361731947174, -0.3009618732905135 L 0.947429954899654, -0.3199632487627908 L 0.9408451725714126, -0.3388367767068219 L 1.034929689828554 ,-0.3727204543775041\", \"type\": \"path\"}, {\"fillcolor\": \"rgba(80,159,95,0.25)\", \"layer\": \"below\", \"line\": {\"color\": \"rgb(150,150,150)\", \"width\": 0.45}, \"path\": \"M 1.0699432512275584, -0.25538488434635664 L 1.081515399678373, -0.20080946257218346 L 1.0903056480458229, -0.14571751383886009 L 1.096291385840336, -0.0902507469901251 L 1.0994572164023046, -0.03455183498594413 L 0.9995065603657315, -0.031410759078131026 L 0.9966285325821236, -0.08204613362738644 L 0.9911869527689299, -0.13247046712623642 L 0.98319581788943, -0.18255405688380313 L 0.972675682934144, -0.23216807667850603 L 1.0699432512275584 ,-0.25538488434635664\", \"type\": \"path\"}], \"showlegend\": false, \"title\": \"Chord Diagam Attempt\", \"titlefont\": {\"color\": \"#655643\", \"family\": \"Merryweather\", \"size\": 22}, \"width\": 760, \"xaxis\": {\"showgrid\": false, \"showline\": false, \"showticklabels\": false, \"title\": \"\", \"zeroline\": false}, \"yaxis\": {\"showgrid\": false, \"showline\": false, \"showticklabels\": false, \"title\": \"\", \"zeroline\": false}}, {\"showLink\": true, \"linkText\": \"Export to plot.ly\", \"plotlyServerURL\": \"https://plot.ly\"})});</script>"
      ]
     },
     "metadata": {},
     "output_type": "display_data"
    }
   ],
   "source": [
    "fig = go.Figure(data=data, layout=layout)\n",
    "\n",
    "plotly.offline.iplot(fig, filename = 'data_offers_tech_requirements_chord.html')"
   ]
  },
  {
   "cell_type": "code",
   "execution_count": null,
   "metadata": {},
   "outputs": [],
   "source": []
  },
  {
   "cell_type": "code",
   "execution_count": null,
   "metadata": {},
   "outputs": [],
   "source": []
  },
  {
   "cell_type": "code",
   "execution_count": null,
   "metadata": {},
   "outputs": [],
   "source": []
  },
  {
   "cell_type": "code",
   "execution_count": 31,
   "metadata": {},
   "outputs": [
    {
     "data": {
      "text/html": [
       "<style>\n",
       "@import url('https://fonts.googleapis.com/css?family=Fira+Mono|Fira+Sans|Fira+Sans+Condensed|Fira+Sans+Extra+Condensed');\n",
       "@import url('https://fonts.googleapis.com/css?family=Merriweather|Merriweather+Sans');\n",
       "\n",
       ".nbviewer {\n",
       "    background-color: #FFFAF0;\n",
       "}\n",
       "\n",
       "#notebook-container {\n",
       "    background-color: #FFFAF0\n",
       "}\n",
       "\n",
       "/* Headings */\n",
       ".text_cell_render h1 {\n",
       "    color: #655643;\n",
       "    font-family: 'Merriweather', serif;\n",
       "    font-weight: 900;\n",
       "    font-size: 3.4em;\n",
       "    text-shadow: 0 2px #FFFAF0, 0 3px #8c8b8b;\n",
       "    padding: 30px 0 25px 0;\n",
       "}\n",
       "\n",
       ".text_cell_render h2 {\n",
       "    color: #655643;\n",
       "    font-family: 'Merriweather', serif;\n",
       "    font-weight: 400;\n",
       "    font-size: 2.6em;\n",
       "    padding-bottom: 8px;\n",
       "    margin-bottom: 30px;\n",
       "    border-bottom: 4px inset #655643;\n",
       "}\n",
       "\n",
       ".text_cell_render h3 {\n",
       "    color: #655643;\n",
       "    font-family: 'Merriweather', serif;\n",
       "    font-weight: 100;\n",
       "    font-size: 1.8em;\n",
       "}\n",
       "\n",
       ".text_cell_render h4 {\n",
       "    color: #655643;\n",
       "    font-family: 'Merriweather', serif;\n",
       "    font-weight: 100;\n",
       "    font-size: 1.4em;\n",
       "}\n",
       "\n",
       "/* Use for subtitles and other non-headings */\n",
       "div.rendered_html > h5 {\n",
       "    color: #655643;\n",
       "    font-family: 'Merriweather Sans', sans-serif;\n",
       "    font-size: 1.0em;\n",
       "    font-weight: normal;\n",
       "    font-style: normal;\n",
       "    margin-top: 0.5em;\n",
       "}\n",
       "\n",
       "/* Use for image and chart captions */\n",
       "div.rendered_html > h6 {\n",
       "    font-family: 'Merriweather Sans', sans-serif;\n",
       "    font-size: 0.9em;\n",
       "    line-height: 1.5em;\n",
       "    color: #cac8c9;\n",
       "    font-weight: normal;\n",
       "    max-width: 520px;\n",
       "    display: block;\n",
       "    margin-left: auto;\n",
       "    margin-right: auto;\n",
       "}\n",
       "\n",
       "div#notebook-container p {\n",
       "    font-family: 'Fira Sans Condensed', sans-serif;\n",
       "    font-size: 1.2em;\n",
       "    line-height: 1.3em;\n",
       "    text-indent: 1em;\n",
       "    color: #40362F;\n",
       "}\n",
       "\n",
       "/* Lists */\n",
       "ol, ul {\n",
       "    font-family: 'Fira Sans Condensed', sans-serif;\n",
       "    line-height: 1.4em;\n",
       "    color: #40362F;\n",
       "}\n",
       "\n",
       "\n",
       "div.input_prompt {\n",
       "    color: #40362F;\n",
       "}\n",
       "\n",
       "div.output_prompt {\n",
       "    color: #40362F;\n",
       "}\n",
       "\n",
       "div.text_cell code {\n",
       "    background: transparent;\n",
       "    color: #40362F;\n",
       "    font-family: 'Fira Mono', monospace;\n",
       "}\n",
       "\n",
       "div.input_area {\n",
       "    background-color: #FFFAF0;\n",
       "    border: 1px solid #E5E1D8;\n",
       "    background: repeating-linear-gradient(135deg, #FFFAF0, #FFFAF0 5px, #F7F7ED 5px, #F7F7ED 10px);\n",
       "}\n",
       "\n",
       "div.cell.rendered.selected {\n",
       "    background: #E5E1D8;\n",
       "    border: 1px solid #38614F;\n",
       "}\n",
       "\n",
       "div.output_area img {\n",
       "    display: block;\n",
       "    margin-left: auto;\n",
       "    margin-right: auto;\n",
       "}\n",
       "\n",
       "div.rendered_html pre, code {\n",
       "    font-family: 'Fira Sans Condensed', sans-serif;\n",
       "    font-size: 16px;\n",
       "    font-weight: 400;\n",
       "    color: #40362F;\n",
       "    background-color: #E5E1D8;\n",
       "}\n",
       "\n",
       "div.output_text pre {\n",
       "    font-family: 'Fira Sans Condensed', sans-serif;\n",
       "    font-size: 13px;\n",
       "    font-weight: 300;\n",
       "    color: #40362F;\n",
       "}\n",
       "\n",
       "pre, textarea {\n",
       "    overflow: hidden;\n",
       "}\n",
       "\n",
       "div.text_cell_render img {\n",
       "    max-height: 520px;\n",
       "    display: block;\n",
       "    margin-left: auto;\n",
       "    margin-right: auto;\n",
       "}\n",
       "\n",
       "div.output output_scroll {\n",
       "    overflow-x: auto;\n",
       "    overflow-y: scroll;\n",
       "    max-height: 2000px;\n",
       "}\n",
       "\n",
       "div.rendered_html hr {\n",
       "    border: 0;\n",
       "    height: 2px;\n",
       "    background-color: #655643;\n",
       "}\n",
       "\n",
       "div.rendered_html pre, code {\n",
       "    font-family: 'Fira Sans Condensed', sans-serif;\n",
       "    font-size: 16px;\n",
       "    color: #40362F;\n",
       "    background-color: #FFFAF0;\n",
       "}\n",
       "\n",
       "/* Links */\n",
       "a.link--embedview {\n",
       "    display: none;\n",
       "}\n",
       "\n",
       "a:link {\n",
       "    color: #293C34;\n",
       "}\n",
       "\n",
       "a:visited {\n",
       "    color: #293C34;\n",
       "}\n",
       "\n",
       "a:hover {\n",
       "    color: #557C6C;\n",
       "}\n",
       "\n",
       "a:focus {\n",
       "    color:#557C6C;\n",
       "}\n",
       "\n",
       "a:active {\n",
       "    font-weight: bold;\n",
       "    color:#80BCA3;\n",
       "}\n",
       "\n",
       ".rendered_html :link {\n",
       "    text-decoration: underline;\n",
       "}\n",
       "\n",
       "/* Colors for code highlighting */\n",
       ".CodeMirror-code span.cm-keyword {\n",
       "    color: #557C6C;\n",
       "}\n",
       "\n",
       ".CodeMirror-code span.cm-variable {\n",
       "    color: #4C4138;\n",
       "}\n",
       "\n",
       ".CodeMirror-code span.cm-property {\n",
       "    color: #40362F;\n",
       "}\n",
       "\n",
       ".CodeMirror-code span.cm-operator {\n",
       "    color: #4C4138;\n",
       "}\n",
       "\n",
       ".CodeMirror-code span.cm-string {\n",
       "    color: #7F331B;\n",
       "}\n",
       "\n",
       ".CodeMirror-code span.cm-number {\n",
       "    color: #458C7A;\n",
       "}\n",
       "\n",
       ".CodeMirror-code span.cm-comment {\n",
       "    color: #557C6C;\n",
       "}\n",
       "\n",
       ".CodeMirror-code span.cm-builtin {\n",
       "    color: #557C6C;\n",
       "}\n",
       "\n",
       "/* Code with no class applied (brackets mostly) */\n",
       ".CodeMirror-line > span {\n",
       "    color: #557C6C;\n",
       "}\n",
       "\n",
       "/* Table styles */\n",
       "table {\n",
       "    border: 1px solid #BF4D28;\n",
       "}\n",
       "\n",
       ".rendered_html table {\n",
       "    float:left;\n",
       "    width:100%;\n",
       "    border-collapse: collapse;\n",
       "}\n",
       "\n",
       ".rendered_html table th {\n",
       "    text-align: left;\n",
       "    background-color: #E5E1D8;\n",
       "}\n",
       "\n",
       ".rendered_html td {\n",
       "    text-align: left;\n",
       "}\n",
       "\n",
       ".rendered_html table tr:nth-child(odd) {\n",
       "    background-color: #F0E4D5;\n",
       "}\n",
       "\n",
       ".rendered_html table tr:nth-child(even) {\n",
       "    background-color: #F5EDE1;\n",
       "}\n",
       "\n",
       ".rendered_html table tr:hover {\n",
       "    background-color: #BF4D28;\n",
       "}\n",
       "\n",
       "iframe {\n",
       "    border-width: 0;\n",
       "}\n",
       "</style>\n"
      ],
      "text/plain": [
       "<IPython.core.display.HTML object>"
      ]
     },
     "execution_count": 31,
     "metadata": {},
     "output_type": "execute_result"
    }
   ],
   "source": [
    "from IPython.core.display import HTML\n",
    "with open('../resources/styles/datum.css', 'r') as f:\n",
    "    style = f.read()\n",
    "HTML(style)"
   ]
  },
  {
   "cell_type": "markdown",
   "metadata": {},
   "source": [
    "### Resources:\n",
    "\n",
    "https://plot.ly/python/filled-chord-diagram/"
   ]
  }
 ],
 "metadata": {
  "kernelspec": {
   "display_name": "Python 3",
   "language": "python",
   "name": "python3"
  },
  "language_info": {
   "codemirror_mode": {
    "name": "ipython",
    "version": 3
   },
   "file_extension": ".py",
   "mimetype": "text/x-python",
   "name": "python",
   "nbconvert_exporter": "python",
   "pygments_lexer": "ipython3",
   "version": "3.7.1"
  }
 },
 "nbformat": 4,
 "nbformat_minor": 2
}
