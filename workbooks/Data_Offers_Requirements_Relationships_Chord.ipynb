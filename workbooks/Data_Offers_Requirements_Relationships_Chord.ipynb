{
 "cells": [
  {
   "cell_type": "markdown",
   "metadata": {},
   "source": [
    "## Requirements Relationships Chord Diagram\n"
   ]
  },
  {
   "cell_type": "code",
   "execution_count": 2,
   "metadata": {},
   "outputs": [
    {
     "data": {
      "text/html": [
       "        <script type=\"text/javascript\">\n",
       "        window.PlotlyConfig = {MathJaxConfig: 'local'};\n",
       "        if (window.MathJax) {MathJax.Hub.Config({SVG: {font: \"STIX-Web\"}});}\n",
       "        if (typeof require !== 'undefined') {\n",
       "        require.undef(\"plotly\");\n",
       "        requirejs.config({\n",
       "            paths: {\n",
       "                'plotly': ['https://cdn.plot.ly/plotly-latest.min']\n",
       "            }\n",
       "        });\n",
       "        require(['plotly'], function(Plotly) {\n",
       "            window._Plotly = Plotly;\n",
       "        });\n",
       "        }\n",
       "        </script>\n",
       "        "
      ]
     },
     "metadata": {},
     "output_type": "display_data"
    }
   ],
   "source": [
    "import re\n",
    "from itertools import combinations\n",
    "import psycopg2\n",
    "import numpy as np\n",
    "import pandas as pd\n",
    "import plotly\n",
    "import chart_studio.plotly as py\n",
    "import plotly.graph_objs as go\n",
    "from IPython import display\n",
    "from bs4 import BeautifulSoup as bs\n",
    "\n",
    "from nbstyler import DATA_STYLE as DS\n",
    "\n",
    "plotly.offline.init_notebook_mode(connected=True)\n",
    "\n",
    "%matplotlib notebook\n",
    "%matplotlib inline"
   ]
  },
  {
   "cell_type": "markdown",
   "metadata": {},
   "source": [
    "### Objectives\n",
    "\n",
    "The main objective for this recipe is to try the plotly implementation of the chord diagram and to provide a clean recipe for preparing such charts in the future. \n",
    "\n",
    "\n",
    "### Data Preparation"
   ]
  },
  {
   "cell_type": "code",
   "execution_count": 3,
   "metadata": {},
   "outputs": [],
   "source": [
    "data_querystr = \"\"\"SELECT * FROM data_offers.do_full_offer_history\"\"\"\n",
    "conn = psycopg2.connect('dbname=jobsbg')\n",
    "data_df = pd.read_sql_query(data_querystr, conn, index_col='subm_date')\n",
    "conn.close()"
   ]
  },
  {
   "cell_type": "code",
   "execution_count": 4,
   "metadata": {},
   "outputs": [
    {
     "data": {
      "text/html": [
       "<div>\n",
       "<style scoped>\n",
       "    .dataframe tbody tr th:only-of-type {\n",
       "        vertical-align: middle;\n",
       "    }\n",
       "\n",
       "    .dataframe tbody tr th {\n",
       "        vertical-align: top;\n",
       "    }\n",
       "\n",
       "    .dataframe thead th {\n",
       "        text-align: right;\n",
       "    }\n",
       "</style>\n",
       "<table border=\"1\" class=\"dataframe\">\n",
       "  <thead>\n",
       "    <tr style=\"text-align: right;\">\n",
       "      <th></th>\n",
       "      <th>subm_type</th>\n",
       "      <th>job_id</th>\n",
       "      <th>company_id</th>\n",
       "      <th>norm_salary</th>\n",
       "      <th>job_title</th>\n",
       "      <th>company_name</th>\n",
       "      <th>text_salary</th>\n",
       "      <th>job_location</th>\n",
       "      <th>job_contents</th>\n",
       "    </tr>\n",
       "    <tr>\n",
       "      <th>subm_date</th>\n",
       "      <th></th>\n",
       "      <th></th>\n",
       "      <th></th>\n",
       "      <th></th>\n",
       "      <th></th>\n",
       "      <th></th>\n",
       "      <th></th>\n",
       "      <th></th>\n",
       "      <th></th>\n",
       "    </tr>\n",
       "  </thead>\n",
       "  <tbody>\n",
       "    <tr>\n",
       "      <th>2017-09-27</th>\n",
       "      <td>submission</td>\n",
       "      <td>3994555</td>\n",
       "      <td>67058</td>\n",
       "      <td>NaN</td>\n",
       "      <td>ETL Developer</td>\n",
       "      <td>Adastra Bulgaria Ltd.</td>\n",
       "      <td>None</td>\n",
       "      <td>София</td>\n",
       "      <td>&lt;!DOCTYPE html PUBLIC \"-//W3C//DTD XHTML 1.0 ...</td>\n",
       "    </tr>\n",
       "  </tbody>\n",
       "</table>\n",
       "</div>"
      ],
      "text/plain": [
       "             subm_type   job_id  company_id  norm_salary      job_title  \\\n",
       "subm_date                                                                 \n",
       "2017-09-27  submission  3994555       67058          NaN  ETL Developer   \n",
       "\n",
       "                     company_name text_salary job_location  \\\n",
       "subm_date                                                    \n",
       "2017-09-27  Adastra Bulgaria Ltd.        None        София   \n",
       "\n",
       "                                                 job_contents  \n",
       "subm_date                                                      \n",
       "2017-09-27   <!DOCTYPE html PUBLIC \"-//W3C//DTD XHTML 1.0 ...  "
      ]
     },
     "execution_count": 4,
     "metadata": {},
     "output_type": "execute_result"
    }
   ],
   "source": [
    "data_df.head(1)"
   ]
  },
  {
   "cell_type": "markdown",
   "metadata": {},
   "source": [
    "### Relationship Categories Definition"
   ]
  },
  {
   "cell_type": "markdown",
   "metadata": {},
   "source": [
    "In order to build the necessary data we first need to define the scope of the relationships we aim to observe. The search strings we will compare should be of the same semantic category to provide meaningful insight.\n",
    "\n",
    "To explore the data and prepare proper definitions we took a deep dive in the data offers' text contents. We used the `nltk` library for text processing to produce frequency distributions of most common words, bigrams and trigrams. Then those distributions were used to explore different possible relationship categories. See the details in the [Requirements Deep Dive Notebook](./Data_Offers_Requirements_Deep_Dive.ipynb).\n",
    "\n",
    "For the first chord diagram the chosen view is a breakdown by technology. Other possible relationships to explore are skill requirements breakdown, perks & benefits breakdown, job title breakdown, etc."
   ]
  },
  {
   "cell_type": "markdown",
   "metadata": {},
   "source": [
    "### Data Jobs Technology Requirement Relationships"
   ]
  },
  {
   "cell_type": "markdown",
   "metadata": {},
   "source": [
    "A preliminary list of terms that describe most often sought categories is presented below. We are going to use it to construct regex filters for selected key technologies."
   ]
  },
  {
   "cell_type": "code",
   "execution_count": 5,
   "metadata": {},
   "outputs": [],
   "source": [
    "tech_terms_filters = [\n",
    "    r'power bi', r'excel', r'ss[ir]s',\n",
    "    r'sql server', r'postgresql', r'(mysql)|(mariadb)', r't.?sql', r'pl.?sql',\n",
    "    r'pentaho', r'hadoop', r'spark', r'informatica',\n",
    "    r'qlik', r'tableau', r'microstrategy', r'oracle (bi)|(business intelligence)',\n",
    "    r'python', r'vba', r'linux', r'aws']\n",
    "\n",
    "tech_terms_labels = [\n",
    "    'Power BI', 'Excel', 'SSIS/SSRS',\n",
    "    'MS SQL Server', 'PostgreSQL', 'MySQL/MariaDB', 'T-SQL', 'PL/SQL',\n",
    "    'Pentaho', 'Hadoop', 'Spark', 'Informatica',\n",
    "    'Qlik', 'Tableau', 'Microstrategy', 'Oracle BI',\n",
    "    'Python', 'VBA', 'Linux', 'AWS']"
   ]
  },
  {
   "cell_type": "markdown",
   "metadata": {},
   "source": [
    "#### Preparing a square matrix with counts for matching filters"
   ]
  },
  {
   "cell_type": "markdown",
   "metadata": {},
   "source": [
    "First we define a helper function that returns `True` for job offers where both of the provided patterns are found in the job contents. We also prepare a list of all possible filter patterns' combinations."
   ]
  },
  {
   "cell_type": "code",
   "execution_count": 6,
   "metadata": {},
   "outputs": [],
   "source": [
    "def match_terms(first_term, second_term, text):\n",
    "    match_found = re.search(first_term, text, re.IGNORECASE) and re.search(second_term, text, re.IGNORECASE)\n",
    "    return True if match_found else False\n",
    "\n",
    "    \n",
    "def count_matches(first_term, second_term, col):\n",
    "    return sum([match_terms(first_term, second_term, t) for t in col.values])\n",
    "\n",
    "req_combinations = list(combinations(tech_terms_filters, 2))"
   ]
  },
  {
   "cell_type": "markdown",
   "metadata": {},
   "source": [
    "Building the counts in a dictionary with keys composed of tuples with both search terms. "
   ]
  },
  {
   "cell_type": "code",
   "execution_count": 7,
   "metadata": {},
   "outputs": [
    {
     "name": "stdout",
     "output_type": "stream",
     "text": [
      "CPU times: user 3min 58s, sys: 103 ms, total: 3min 58s\n",
      "Wall time: 3min 59s\n"
     ]
    }
   ],
   "source": [
    "%%time\n",
    "match_results = [count_matches(*tup, data_df.job_contents) for tup in req_combinations]\n",
    "match_dict = dict(zip(req_combinations, match_results))"
   ]
  },
  {
   "cell_type": "markdown",
   "metadata": {},
   "source": [
    "Another helper function will unpack the combinations counts into a square matrix form. Finally, a DataFrame is created from the combinations counts matrix. This is our main data source for the chord diagram. "
   ]
  },
  {
   "cell_type": "code",
   "execution_count": 8,
   "metadata": {},
   "outputs": [],
   "source": [
    "def make_matrix(headers, counts):\n",
    "    res = []\n",
    "    for k1 in headers:\n",
    "        row = []\n",
    "        for k2 in headers:\n",
    "            if k1 == k2:\n",
    "                row.append(0)\n",
    "            else:\n",
    "                curr_key = tuple([k1, k2])\n",
    "                cell_value = counts.get(curr_key) if curr_key in counts else counts.get(tuple([k2, k1]))\n",
    "                row.append(cell_value)\n",
    "        res.append(row)\n",
    "    return np.array(res, dtype=int)  "
   ]
  },
  {
   "cell_type": "code",
   "execution_count": 9,
   "metadata": {},
   "outputs": [],
   "source": [
    "tech_terms_matrix = make_matrix(tech_terms_filters, match_dict)"
   ]
  },
  {
   "cell_type": "code",
   "execution_count": 10,
   "metadata": {},
   "outputs": [
    {
     "data": {
      "text/html": [
       "<div>\n",
       "<style scoped>\n",
       "    .dataframe tbody tr th:only-of-type {\n",
       "        vertical-align: middle;\n",
       "    }\n",
       "\n",
       "    .dataframe tbody tr th {\n",
       "        vertical-align: top;\n",
       "    }\n",
       "\n",
       "    .dataframe thead th {\n",
       "        text-align: right;\n",
       "    }\n",
       "</style>\n",
       "<table border=\"1\" class=\"dataframe\">\n",
       "  <thead>\n",
       "    <tr style=\"text-align: right;\">\n",
       "      <th></th>\n",
       "      <th>Power BI</th>\n",
       "      <th>Excel</th>\n",
       "      <th>SSIS/SSRS</th>\n",
       "      <th>MS SQL Server</th>\n",
       "      <th>PostgreSQL</th>\n",
       "      <th>MySQL/MariaDB</th>\n",
       "      <th>T-SQL</th>\n",
       "      <th>PL/SQL</th>\n",
       "      <th>Pentaho</th>\n",
       "      <th>Hadoop</th>\n",
       "      <th>Spark</th>\n",
       "      <th>Informatica</th>\n",
       "      <th>Qlik</th>\n",
       "      <th>Tableau</th>\n",
       "      <th>Microstrategy</th>\n",
       "      <th>Oracle BI</th>\n",
       "      <th>Python</th>\n",
       "      <th>VBA</th>\n",
       "      <th>Linux</th>\n",
       "      <th>AWS</th>\n",
       "    </tr>\n",
       "  </thead>\n",
       "  <tbody>\n",
       "    <tr>\n",
       "      <th>Power BI</th>\n",
       "      <td>0</td>\n",
       "      <td>262</td>\n",
       "      <td>156</td>\n",
       "      <td>157</td>\n",
       "      <td>0</td>\n",
       "      <td>5</td>\n",
       "      <td>68</td>\n",
       "      <td>11</td>\n",
       "      <td>10</td>\n",
       "      <td>41</td>\n",
       "      <td>48</td>\n",
       "      <td>23</td>\n",
       "      <td>215</td>\n",
       "      <td>234</td>\n",
       "      <td>34</td>\n",
       "      <td>217</td>\n",
       "      <td>106</td>\n",
       "      <td>44</td>\n",
       "      <td>12</td>\n",
       "      <td>8</td>\n",
       "    </tr>\n",
       "    <tr>\n",
       "      <th>Excel</th>\n",
       "      <td>262</td>\n",
       "      <td>0</td>\n",
       "      <td>669</td>\n",
       "      <td>283</td>\n",
       "      <td>78</td>\n",
       "      <td>142</td>\n",
       "      <td>193</td>\n",
       "      <td>67</td>\n",
       "      <td>68</td>\n",
       "      <td>102</td>\n",
       "      <td>111</td>\n",
       "      <td>121</td>\n",
       "      <td>472</td>\n",
       "      <td>489</td>\n",
       "      <td>49</td>\n",
       "      <td>712</td>\n",
       "      <td>425</td>\n",
       "      <td>297</td>\n",
       "      <td>92</td>\n",
       "      <td>65</td>\n",
       "    </tr>\n",
       "    <tr>\n",
       "      <th>SSIS/SSRS</th>\n",
       "      <td>156</td>\n",
       "      <td>669</td>\n",
       "      <td>0</td>\n",
       "      <td>300</td>\n",
       "      <td>66</td>\n",
       "      <td>91</td>\n",
       "      <td>158</td>\n",
       "      <td>66</td>\n",
       "      <td>37</td>\n",
       "      <td>63</td>\n",
       "      <td>63</td>\n",
       "      <td>77</td>\n",
       "      <td>102</td>\n",
       "      <td>212</td>\n",
       "      <td>38</td>\n",
       "      <td>336</td>\n",
       "      <td>200</td>\n",
       "      <td>104</td>\n",
       "      <td>25</td>\n",
       "      <td>33</td>\n",
       "    </tr>\n",
       "    <tr>\n",
       "      <th>MS SQL Server</th>\n",
       "      <td>157</td>\n",
       "      <td>283</td>\n",
       "      <td>300</td>\n",
       "      <td>0</td>\n",
       "      <td>102</td>\n",
       "      <td>107</td>\n",
       "      <td>204</td>\n",
       "      <td>14</td>\n",
       "      <td>51</td>\n",
       "      <td>49</td>\n",
       "      <td>48</td>\n",
       "      <td>72</td>\n",
       "      <td>73</td>\n",
       "      <td>139</td>\n",
       "      <td>24</td>\n",
       "      <td>208</td>\n",
       "      <td>133</td>\n",
       "      <td>39</td>\n",
       "      <td>62</td>\n",
       "      <td>13</td>\n",
       "    </tr>\n",
       "    <tr>\n",
       "      <th>PostgreSQL</th>\n",
       "      <td>0</td>\n",
       "      <td>78</td>\n",
       "      <td>66</td>\n",
       "      <td>102</td>\n",
       "      <td>0</td>\n",
       "      <td>112</td>\n",
       "      <td>45</td>\n",
       "      <td>3</td>\n",
       "      <td>52</td>\n",
       "      <td>4</td>\n",
       "      <td>13</td>\n",
       "      <td>2</td>\n",
       "      <td>14</td>\n",
       "      <td>6</td>\n",
       "      <td>0</td>\n",
       "      <td>52</td>\n",
       "      <td>30</td>\n",
       "      <td>0</td>\n",
       "      <td>50</td>\n",
       "      <td>6</td>\n",
       "    </tr>\n",
       "    <tr>\n",
       "      <th>MySQL/MariaDB</th>\n",
       "      <td>5</td>\n",
       "      <td>142</td>\n",
       "      <td>91</td>\n",
       "      <td>107</td>\n",
       "      <td>112</td>\n",
       "      <td>0</td>\n",
       "      <td>43</td>\n",
       "      <td>1</td>\n",
       "      <td>70</td>\n",
       "      <td>9</td>\n",
       "      <td>32</td>\n",
       "      <td>11</td>\n",
       "      <td>17</td>\n",
       "      <td>64</td>\n",
       "      <td>0</td>\n",
       "      <td>79</td>\n",
       "      <td>67</td>\n",
       "      <td>6</td>\n",
       "      <td>54</td>\n",
       "      <td>2</td>\n",
       "    </tr>\n",
       "    <tr>\n",
       "      <th>T-SQL</th>\n",
       "      <td>68</td>\n",
       "      <td>193</td>\n",
       "      <td>158</td>\n",
       "      <td>204</td>\n",
       "      <td>45</td>\n",
       "      <td>43</td>\n",
       "      <td>0</td>\n",
       "      <td>52</td>\n",
       "      <td>45</td>\n",
       "      <td>39</td>\n",
       "      <td>39</td>\n",
       "      <td>15</td>\n",
       "      <td>78</td>\n",
       "      <td>123</td>\n",
       "      <td>19</td>\n",
       "      <td>173</td>\n",
       "      <td>68</td>\n",
       "      <td>27</td>\n",
       "      <td>31</td>\n",
       "      <td>13</td>\n",
       "    </tr>\n",
       "    <tr>\n",
       "      <th>PL/SQL</th>\n",
       "      <td>11</td>\n",
       "      <td>67</td>\n",
       "      <td>66</td>\n",
       "      <td>14</td>\n",
       "      <td>3</td>\n",
       "      <td>1</td>\n",
       "      <td>52</td>\n",
       "      <td>0</td>\n",
       "      <td>8</td>\n",
       "      <td>7</td>\n",
       "      <td>0</td>\n",
       "      <td>35</td>\n",
       "      <td>20</td>\n",
       "      <td>31</td>\n",
       "      <td>26</td>\n",
       "      <td>102</td>\n",
       "      <td>3</td>\n",
       "      <td>11</td>\n",
       "      <td>5</td>\n",
       "      <td>2</td>\n",
       "    </tr>\n",
       "    <tr>\n",
       "      <th>Pentaho</th>\n",
       "      <td>10</td>\n",
       "      <td>68</td>\n",
       "      <td>37</td>\n",
       "      <td>51</td>\n",
       "      <td>52</td>\n",
       "      <td>70</td>\n",
       "      <td>45</td>\n",
       "      <td>8</td>\n",
       "      <td>0</td>\n",
       "      <td>0</td>\n",
       "      <td>8</td>\n",
       "      <td>37</td>\n",
       "      <td>34</td>\n",
       "      <td>42</td>\n",
       "      <td>5</td>\n",
       "      <td>40</td>\n",
       "      <td>38</td>\n",
       "      <td>1</td>\n",
       "      <td>40</td>\n",
       "      <td>15</td>\n",
       "    </tr>\n",
       "    <tr>\n",
       "      <th>Hadoop</th>\n",
       "      <td>41</td>\n",
       "      <td>102</td>\n",
       "      <td>63</td>\n",
       "      <td>49</td>\n",
       "      <td>4</td>\n",
       "      <td>9</td>\n",
       "      <td>39</td>\n",
       "      <td>7</td>\n",
       "      <td>0</td>\n",
       "      <td>0</td>\n",
       "      <td>192</td>\n",
       "      <td>9</td>\n",
       "      <td>11</td>\n",
       "      <td>70</td>\n",
       "      <td>5</td>\n",
       "      <td>65</td>\n",
       "      <td>205</td>\n",
       "      <td>11</td>\n",
       "      <td>123</td>\n",
       "      <td>70</td>\n",
       "    </tr>\n",
       "    <tr>\n",
       "      <th>Spark</th>\n",
       "      <td>48</td>\n",
       "      <td>111</td>\n",
       "      <td>63</td>\n",
       "      <td>48</td>\n",
       "      <td>13</td>\n",
       "      <td>32</td>\n",
       "      <td>39</td>\n",
       "      <td>0</td>\n",
       "      <td>8</td>\n",
       "      <td>192</td>\n",
       "      <td>0</td>\n",
       "      <td>16</td>\n",
       "      <td>16</td>\n",
       "      <td>59</td>\n",
       "      <td>3</td>\n",
       "      <td>63</td>\n",
       "      <td>228</td>\n",
       "      <td>10</td>\n",
       "      <td>104</td>\n",
       "      <td>76</td>\n",
       "    </tr>\n",
       "    <tr>\n",
       "      <th>Informatica</th>\n",
       "      <td>23</td>\n",
       "      <td>121</td>\n",
       "      <td>77</td>\n",
       "      <td>72</td>\n",
       "      <td>2</td>\n",
       "      <td>11</td>\n",
       "      <td>15</td>\n",
       "      <td>35</td>\n",
       "      <td>37</td>\n",
       "      <td>9</td>\n",
       "      <td>16</td>\n",
       "      <td>0</td>\n",
       "      <td>97</td>\n",
       "      <td>79</td>\n",
       "      <td>23</td>\n",
       "      <td>140</td>\n",
       "      <td>32</td>\n",
       "      <td>6</td>\n",
       "      <td>14</td>\n",
       "      <td>22</td>\n",
       "    </tr>\n",
       "    <tr>\n",
       "      <th>Qlik</th>\n",
       "      <td>215</td>\n",
       "      <td>472</td>\n",
       "      <td>102</td>\n",
       "      <td>73</td>\n",
       "      <td>14</td>\n",
       "      <td>17</td>\n",
       "      <td>78</td>\n",
       "      <td>20</td>\n",
       "      <td>34</td>\n",
       "      <td>11</td>\n",
       "      <td>16</td>\n",
       "      <td>97</td>\n",
       "      <td>0</td>\n",
       "      <td>375</td>\n",
       "      <td>46</td>\n",
       "      <td>403</td>\n",
       "      <td>55</td>\n",
       "      <td>31</td>\n",
       "      <td>2</td>\n",
       "      <td>3</td>\n",
       "    </tr>\n",
       "    <tr>\n",
       "      <th>Tableau</th>\n",
       "      <td>234</td>\n",
       "      <td>489</td>\n",
       "      <td>212</td>\n",
       "      <td>139</td>\n",
       "      <td>6</td>\n",
       "      <td>64</td>\n",
       "      <td>123</td>\n",
       "      <td>31</td>\n",
       "      <td>42</td>\n",
       "      <td>70</td>\n",
       "      <td>59</td>\n",
       "      <td>79</td>\n",
       "      <td>375</td>\n",
       "      <td>0</td>\n",
       "      <td>66</td>\n",
       "      <td>497</td>\n",
       "      <td>176</td>\n",
       "      <td>88</td>\n",
       "      <td>30</td>\n",
       "      <td>36</td>\n",
       "    </tr>\n",
       "    <tr>\n",
       "      <th>Microstrategy</th>\n",
       "      <td>34</td>\n",
       "      <td>49</td>\n",
       "      <td>38</td>\n",
       "      <td>24</td>\n",
       "      <td>0</td>\n",
       "      <td>0</td>\n",
       "      <td>19</td>\n",
       "      <td>26</td>\n",
       "      <td>5</td>\n",
       "      <td>5</td>\n",
       "      <td>3</td>\n",
       "      <td>23</td>\n",
       "      <td>46</td>\n",
       "      <td>66</td>\n",
       "      <td>0</td>\n",
       "      <td>70</td>\n",
       "      <td>20</td>\n",
       "      <td>7</td>\n",
       "      <td>12</td>\n",
       "      <td>2</td>\n",
       "    </tr>\n",
       "    <tr>\n",
       "      <th>Oracle BI</th>\n",
       "      <td>217</td>\n",
       "      <td>712</td>\n",
       "      <td>336</td>\n",
       "      <td>208</td>\n",
       "      <td>52</td>\n",
       "      <td>79</td>\n",
       "      <td>173</td>\n",
       "      <td>102</td>\n",
       "      <td>40</td>\n",
       "      <td>65</td>\n",
       "      <td>63</td>\n",
       "      <td>140</td>\n",
       "      <td>403</td>\n",
       "      <td>497</td>\n",
       "      <td>70</td>\n",
       "      <td>0</td>\n",
       "      <td>199</td>\n",
       "      <td>91</td>\n",
       "      <td>9</td>\n",
       "      <td>53</td>\n",
       "    </tr>\n",
       "    <tr>\n",
       "      <th>Python</th>\n",
       "      <td>106</td>\n",
       "      <td>425</td>\n",
       "      <td>200</td>\n",
       "      <td>133</td>\n",
       "      <td>30</td>\n",
       "      <td>67</td>\n",
       "      <td>68</td>\n",
       "      <td>3</td>\n",
       "      <td>38</td>\n",
       "      <td>205</td>\n",
       "      <td>228</td>\n",
       "      <td>32</td>\n",
       "      <td>55</td>\n",
       "      <td>176</td>\n",
       "      <td>20</td>\n",
       "      <td>199</td>\n",
       "      <td>0</td>\n",
       "      <td>73</td>\n",
       "      <td>130</td>\n",
       "      <td>120</td>\n",
       "    </tr>\n",
       "    <tr>\n",
       "      <th>VBA</th>\n",
       "      <td>44</td>\n",
       "      <td>297</td>\n",
       "      <td>104</td>\n",
       "      <td>39</td>\n",
       "      <td>0</td>\n",
       "      <td>6</td>\n",
       "      <td>27</td>\n",
       "      <td>11</td>\n",
       "      <td>1</td>\n",
       "      <td>11</td>\n",
       "      <td>10</td>\n",
       "      <td>6</td>\n",
       "      <td>31</td>\n",
       "      <td>88</td>\n",
       "      <td>7</td>\n",
       "      <td>91</td>\n",
       "      <td>73</td>\n",
       "      <td>0</td>\n",
       "      <td>5</td>\n",
       "      <td>5</td>\n",
       "    </tr>\n",
       "    <tr>\n",
       "      <th>Linux</th>\n",
       "      <td>12</td>\n",
       "      <td>92</td>\n",
       "      <td>25</td>\n",
       "      <td>62</td>\n",
       "      <td>50</td>\n",
       "      <td>54</td>\n",
       "      <td>31</td>\n",
       "      <td>5</td>\n",
       "      <td>40</td>\n",
       "      <td>123</td>\n",
       "      <td>104</td>\n",
       "      <td>14</td>\n",
       "      <td>2</td>\n",
       "      <td>30</td>\n",
       "      <td>12</td>\n",
       "      <td>9</td>\n",
       "      <td>130</td>\n",
       "      <td>5</td>\n",
       "      <td>0</td>\n",
       "      <td>34</td>\n",
       "    </tr>\n",
       "    <tr>\n",
       "      <th>AWS</th>\n",
       "      <td>8</td>\n",
       "      <td>65</td>\n",
       "      <td>33</td>\n",
       "      <td>13</td>\n",
       "      <td>6</td>\n",
       "      <td>2</td>\n",
       "      <td>13</td>\n",
       "      <td>2</td>\n",
       "      <td>15</td>\n",
       "      <td>70</td>\n",
       "      <td>76</td>\n",
       "      <td>22</td>\n",
       "      <td>3</td>\n",
       "      <td>36</td>\n",
       "      <td>2</td>\n",
       "      <td>53</td>\n",
       "      <td>120</td>\n",
       "      <td>5</td>\n",
       "      <td>34</td>\n",
       "      <td>0</td>\n",
       "    </tr>\n",
       "  </tbody>\n",
       "</table>\n",
       "</div>"
      ],
      "text/plain": [
       "               Power BI  Excel  SSIS/SSRS  MS SQL Server  PostgreSQL  \\\n",
       "Power BI              0    262        156            157           0   \n",
       "Excel               262      0        669            283          78   \n",
       "SSIS/SSRS           156    669          0            300          66   \n",
       "MS SQL Server       157    283        300              0         102   \n",
       "PostgreSQL            0     78         66            102           0   \n",
       "MySQL/MariaDB         5    142         91            107         112   \n",
       "T-SQL                68    193        158            204          45   \n",
       "PL/SQL               11     67         66             14           3   \n",
       "Pentaho              10     68         37             51          52   \n",
       "Hadoop               41    102         63             49           4   \n",
       "Spark                48    111         63             48          13   \n",
       "Informatica          23    121         77             72           2   \n",
       "Qlik                215    472        102             73          14   \n",
       "Tableau             234    489        212            139           6   \n",
       "Microstrategy        34     49         38             24           0   \n",
       "Oracle BI           217    712        336            208          52   \n",
       "Python              106    425        200            133          30   \n",
       "VBA                  44    297        104             39           0   \n",
       "Linux                12     92         25             62          50   \n",
       "AWS                   8     65         33             13           6   \n",
       "\n",
       "               MySQL/MariaDB  T-SQL  PL/SQL  Pentaho  Hadoop  Spark  \\\n",
       "Power BI                   5     68      11       10      41     48   \n",
       "Excel                    142    193      67       68     102    111   \n",
       "SSIS/SSRS                 91    158      66       37      63     63   \n",
       "MS SQL Server            107    204      14       51      49     48   \n",
       "PostgreSQL               112     45       3       52       4     13   \n",
       "MySQL/MariaDB              0     43       1       70       9     32   \n",
       "T-SQL                     43      0      52       45      39     39   \n",
       "PL/SQL                     1     52       0        8       7      0   \n",
       "Pentaho                   70     45       8        0       0      8   \n",
       "Hadoop                     9     39       7        0       0    192   \n",
       "Spark                     32     39       0        8     192      0   \n",
       "Informatica               11     15      35       37       9     16   \n",
       "Qlik                      17     78      20       34      11     16   \n",
       "Tableau                   64    123      31       42      70     59   \n",
       "Microstrategy              0     19      26        5       5      3   \n",
       "Oracle BI                 79    173     102       40      65     63   \n",
       "Python                    67     68       3       38     205    228   \n",
       "VBA                        6     27      11        1      11     10   \n",
       "Linux                     54     31       5       40     123    104   \n",
       "AWS                        2     13       2       15      70     76   \n",
       "\n",
       "               Informatica  Qlik  Tableau  Microstrategy  Oracle BI  Python  \\\n",
       "Power BI                23   215      234             34        217     106   \n",
       "Excel                  121   472      489             49        712     425   \n",
       "SSIS/SSRS               77   102      212             38        336     200   \n",
       "MS SQL Server           72    73      139             24        208     133   \n",
       "PostgreSQL               2    14        6              0         52      30   \n",
       "MySQL/MariaDB           11    17       64              0         79      67   \n",
       "T-SQL                   15    78      123             19        173      68   \n",
       "PL/SQL                  35    20       31             26        102       3   \n",
       "Pentaho                 37    34       42              5         40      38   \n",
       "Hadoop                   9    11       70              5         65     205   \n",
       "Spark                   16    16       59              3         63     228   \n",
       "Informatica              0    97       79             23        140      32   \n",
       "Qlik                    97     0      375             46        403      55   \n",
       "Tableau                 79   375        0             66        497     176   \n",
       "Microstrategy           23    46       66              0         70      20   \n",
       "Oracle BI              140   403      497             70          0     199   \n",
       "Python                  32    55      176             20        199       0   \n",
       "VBA                      6    31       88              7         91      73   \n",
       "Linux                   14     2       30             12          9     130   \n",
       "AWS                     22     3       36              2         53     120   \n",
       "\n",
       "               VBA  Linux  AWS  \n",
       "Power BI        44     12    8  \n",
       "Excel          297     92   65  \n",
       "SSIS/SSRS      104     25   33  \n",
       "MS SQL Server   39     62   13  \n",
       "PostgreSQL       0     50    6  \n",
       "MySQL/MariaDB    6     54    2  \n",
       "T-SQL           27     31   13  \n",
       "PL/SQL          11      5    2  \n",
       "Pentaho          1     40   15  \n",
       "Hadoop          11    123   70  \n",
       "Spark           10    104   76  \n",
       "Informatica      6     14   22  \n",
       "Qlik            31      2    3  \n",
       "Tableau         88     30   36  \n",
       "Microstrategy    7     12    2  \n",
       "Oracle BI       91      9   53  \n",
       "Python          73    130  120  \n",
       "VBA              0      5    5  \n",
       "Linux            5      0   34  \n",
       "AWS              5     34    0  "
      ]
     },
     "execution_count": 10,
     "metadata": {},
     "output_type": "execute_result"
    }
   ],
   "source": [
    "tech_terms_df = pd.DataFrame(tech_terms_matrix, columns=tech_terms_labels, index=tech_terms_labels)\n",
    "tech_terms_df"
   ]
  },
  {
   "cell_type": "markdown",
   "metadata": {},
   "source": [
    "We can finally move to Plotly. \n",
    "\n",
    "A chord diagram encodes information in two graphical objects:\n",
    "\n",
    "- Ideograms, represented by distinctly colored arcs of circles;\n",
    "- Ribbons, that are planar shapes bounded by two quadratic Bezier curves and two arcs of circle,that can degenerate to a point;\n"
   ]
  },
  {
   "cell_type": "markdown",
   "metadata": {},
   "source": [
    "### Ideograms Preparation"
   ]
  },
  {
   "cell_type": "markdown",
   "metadata": {},
   "source": [
    "For each of our predefined tech terms we can produce a total hits count by summing up all the entries on the row (or column for that matter). That total count determines the size of each ideogram of the chart.\n",
    "\n",
    "We are going to need a couple of helper functions to process the data in order to get ideogram ends.\n"
   ]
  },
  {
   "cell_type": "code",
   "execution_count": 11,
   "metadata": {},
   "outputs": [],
   "source": [
    "PI = np.pi\n",
    "\n",
    "def moduloAB(x, a, b):\n",
    "    if a >= b:\n",
    "        raise ValueError('Incorrect interval ends')\n",
    "    y = (x-a) % (b-a)\n",
    "    return y+b if y < 0 else y+a\n",
    "\n",
    "\n",
    "def test_2PI(x):\n",
    "    return 0 <= x < 2*PI"
   ]
  },
  {
   "cell_type": "markdown",
   "metadata": {},
   "source": [
    "And now use them to compute the row sums and the lengths of corresponding ideograms."
   ]
  },
  {
   "cell_type": "code",
   "execution_count": 12,
   "metadata": {},
   "outputs": [],
   "source": [
    "row_sum = [np.sum(tech_terms_matrix[k, :]) for k in range(len(tech_terms_filters))]\n",
    "\n",
    "#set the gap between two consecutive ideograms\n",
    "gap = 2*PI*0.005\n",
    "ideogram_length = 2*PI*np.asarray(row_sum)/sum(row_sum)-gap*np.ones(len(tech_terms_filters))"
   ]
  },
  {
   "cell_type": "markdown",
   "metadata": {},
   "source": [
    "The next function returns the list of end angular coordinates for each ideogram arc:\n"
   ]
  },
  {
   "cell_type": "code",
   "execution_count": 13,
   "metadata": {},
   "outputs": [],
   "source": [
    "def get_ideogram_ends(ideogram_len, gap):\n",
    "    ideo_ends = []\n",
    "    left = 0\n",
    "    for k in range(len(ideogram_len)):\n",
    "        right = left+ideogram_len[k]\n",
    "        ideo_ends.append([left, right])\n",
    "        left = right+gap\n",
    "    return ideo_ends\n",
    "\n",
    "ideo_ends = get_ideogram_ends(ideogram_length, gap)"
   ]
  },
  {
   "cell_type": "markdown",
   "metadata": {},
   "source": [
    "The function make_ideogram_arc returns equally spaced points on an ideogram arc, expressed as complex numbers in polar form:"
   ]
  },
  {
   "cell_type": "code",
   "execution_count": 14,
   "metadata": {},
   "outputs": [],
   "source": [
    "def make_ideogram_arc(R, phi, a=50):\n",
    "    if not test_2PI(phi[0]) or not test_2PI(phi[1]):\n",
    "        phi = [moduloAB(t, 0, 2*PI) for t in phi]\n",
    "    length = (phi[1]-phi[0]) % 2*PI\n",
    "    nr = 5 if length <= PI/4 else int(a*length/PI)\n",
    "    if phi[0] < phi[1]:\n",
    "        theta = np.linspace(phi[0], phi[1], nr)\n",
    "    else:\n",
    "        phi = [moduloAB(t, -PI, PI) for t in phi]\n",
    "        theta = np.linspace(phi[0], phi[1], nr)\n",
    "    return R*np.exp(1j*theta)"
   ]
  },
  {
   "cell_type": "code",
   "execution_count": 15,
   "metadata": {},
   "outputs": [],
   "source": [
    "z = make_ideogram_arc(1.3, [11*PI/6, PI/17])"
   ]
  },
  {
   "cell_type": "markdown",
   "metadata": {},
   "source": [
    "### Ribbons Preparation"
   ]
  },
  {
   "cell_type": "markdown",
   "metadata": {},
   "source": [
    "The function map_data maps all matrix entries to the corresponding values in the intervals associated to ideograms:"
   ]
  },
  {
   "cell_type": "code",
   "execution_count": 16,
   "metadata": {},
   "outputs": [],
   "source": [
    "def map_data(data_matrix, row_value, ideogram_length):\n",
    "    mapped = np.zeros(data_matrix.shape)\n",
    "    for j in range(len(tech_terms_filters)):\n",
    "        mapped[:, j] = ideogram_length*data_matrix[:, j]/row_value\n",
    "    return mapped\n",
    "\n",
    "mapped_data = map_data(tech_terms_matrix, row_sum, ideogram_length)"
   ]
  },
  {
   "cell_type": "markdown",
   "metadata": {},
   "source": [
    "The array idx_sort, defined below, has on each row the indices that sort the corresponding row in mapped_data:\n"
   ]
  },
  {
   "cell_type": "code",
   "execution_count": 17,
   "metadata": {},
   "outputs": [],
   "source": [
    "idx_sort = np.argsort(mapped_data, axis=1)"
   ]
  },
  {
   "cell_type": "code",
   "execution_count": 18,
   "metadata": {},
   "outputs": [
    {
     "name": "stdout",
     "output_type": "stream",
     "text": [
      "ribbon ends starting from the ideogram[2]\n",
      " [(1.2575879786220208, 1.2575879786220208), (1.2575879786220208, 1.2622597716689579), (1.2622597716689579, 1.268426538490915), (1.268426538490915, 1.275340792200382), (1.275340792200382, 1.2824419176317265), (1.2824419176317265, 1.2942148361100083), (1.2942148361100083, 1.30598775458829), (1.30598775458829, 1.3183212882322042), (1.3183212882322042, 1.3306548218761183), (1.3306548218761183, 1.3450439444606848), (1.3450439444606848, 1.3620492711515362), (1.3620492711515362, 1.3811101867830398), (1.3811101867830398, 1.4005448458582983), (1.4005448458582983, 1.4296968344711862), (1.4296968344711862, 1.4592225665278291), (1.4592225665278291, 1.4965969109033266), (1.4965969109033266, 1.5362137159413538), (1.5362137159413538, 1.5922752325046), (1.5922752325046, 1.6550641310554355), (1.6550641310554355, 1.780081312991474)]\n"
     ]
    }
   ],
   "source": [
    "def make_ribbon_ends(mapped_data, ideo_ends,  idx_sort):\n",
    "    L = mapped_data.shape[0]\n",
    "    ribbon_boundary = np.zeros((L, L+1))\n",
    "    for k in range(L):\n",
    "        start = ideo_ends[k][0]\n",
    "        ribbon_boundary[k][0] = start\n",
    "        for j in range(1, L+1):\n",
    "            J = idx_sort[k][j-1]\n",
    "            ribbon_boundary[k][j] = start+mapped_data[k][J]\n",
    "            start = ribbon_boundary[k][j]\n",
    "    return [[(ribbon_boundary[k][j], ribbon_boundary[k][j+1]) for j in range(L)] for k in range(L)]\n",
    "\n",
    "\n",
    "ribbon_ends = make_ribbon_ends(mapped_data, ideo_ends, idx_sort)\n",
    "print('ribbon ends starting from the ideogram[2]\\n', ribbon_ends[2])"
   ]
  },
  {
   "cell_type": "code",
   "execution_count": 19,
   "metadata": {},
   "outputs": [],
   "source": [
    "def control_pts(angle, radius):\n",
    "    if len(angle) != 3:\n",
    "        raise InvalidInputError('angle must have len =3')\n",
    "    b_cplx = np.array([np.exp(1j*angle[k]) for k in range(3)])\n",
    "    b_cplx[1] = radius*b_cplx[1]\n",
    "    return zip(b_cplx.real, b_cplx.imag)"
   ]
  },
  {
   "cell_type": "code",
   "execution_count": 20,
   "metadata": {},
   "outputs": [],
   "source": [
    "def ctrl_rib_chords(l, r, radius):\n",
    "    if len(l) != 2 or len(r) != 2:\n",
    "        raise ValueError('the arc ends must be elements in a list of len 2')\n",
    "    return [control_pts([l[j], (l[j]+r[j])/2, r[j]], radius) for j in range(2)]"
   ]
  },
  {
   "cell_type": "code",
   "execution_count": 21,
   "metadata": {},
   "outputs": [
    {
     "data": {
      "text/plain": [
       "'M 1,4 Q -0.5, 2.35 3.745, 1.47'"
      ]
     },
     "execution_count": 21,
     "metadata": {},
     "output_type": "execute_result"
    }
   ],
   "source": [
    "def make_q_bezier(b):\n",
    "    if len(b) != 3:\n",
    "        raise ValueError('control poligon must have 3 points')\n",
    "    A, B, C = b\n",
    "    return 'M ' + str(A[0]) + ',' + str(A[1]) + ' ' + 'Q ' + \\\n",
    "        str(B[0]) + ', ' + str(B[1]) + ' ' + \\\n",
    "        str(C[0]) + ', ' + str(C[1])\n",
    "\n",
    "\n",
    "b = [(1,4), (-0.5, 2.35), (3.745, 1.47)]\n",
    "make_q_bezier(b)"
   ]
  },
  {
   "cell_type": "code",
   "execution_count": 22,
   "metadata": {},
   "outputs": [],
   "source": [
    "def make_ribbon_arc(theta0, theta1):\n",
    "    if test_2PI(theta0) and test_2PI(theta1):\n",
    "        if theta0 < theta1:\n",
    "            theta0 = moduloAB(theta0, -PI, PI)\n",
    "            theta1 = moduloAB(theta1, -PI, PI)\n",
    "            if theta0*theta1 > 0:\n",
    "                raise ValueError('incorrect angle coordinates for ribbon')\n",
    "\n",
    "        nr = int(40*(theta0-theta1)/PI)\n",
    "        if nr <= 2: \n",
    "            nr = 3\n",
    "        theta = np.linspace(theta0, theta1, nr)\n",
    "        pts = np.exp(1j*theta)\n",
    "\n",
    "        string_arc = ''\n",
    "        for k in range(len(theta)):\n",
    "            string_arc += 'L ' + str(pts.real[k]) + ', ' + str(pts.imag[k]) + ' '\n",
    "        return string_arc\n",
    "    else:\n",
    "        raise ValueError('the angle coordinates for an arc side of a ribbon must be in [0, 2*pi]')"
   ]
  },
  {
   "cell_type": "code",
   "execution_count": 23,
   "metadata": {},
   "outputs": [],
   "source": [
    "def make_ideo_shape(path, line_color, fill_color):\n",
    "    return dict(\n",
    "        line=dict(color=line_color, width=0.45),\n",
    "        path=path,\n",
    "        type='path',\n",
    "        fillcolor=fill_color,\n",
    "        layer='below',\n",
    "    )"
   ]
  },
  {
   "cell_type": "code",
   "execution_count": 24,
   "metadata": {},
   "outputs": [],
   "source": [
    "temp_colors = [*DS['colorramp']['acc1'], *DS['colorramp']['acc2']]\n",
    "len_datalist = len(tech_terms_filters)\n",
    "ideo_colors = temp_colors[:len_datalist]"
   ]
  },
  {
   "cell_type": "code",
   "execution_count": 25,
   "metadata": {},
   "outputs": [],
   "source": [
    "def make_ribbon(l, r, line_color, fill_color, radius=0.2):\n",
    "    poligon = ctrl_rib_chords(l, r, radius)\n",
    "    b, c = poligon\n",
    "\n",
    "    return dict(\n",
    "        line=dict(\n",
    "            color=line_color,\n",
    "            width=0.5\n",
    "            ),\n",
    "        path=make_q_bezier(list(b))+make_ribbon_arc(r[0], r[1])+make_q_bezier(list(c)[::-1])+make_ribbon_arc(l[1], l[0]),\n",
    "        type='path',\n",
    "        fillcolor=fill_color,\n",
    "        layer='below'\n",
    "    )\n",
    "\n",
    "\n",
    "def make_self_rel(l, line_color, fill_color, radius):\n",
    "    b = control_pts([l[0], (l[0]+l[1])/2, l[1]], radius)\n",
    "    return dict(\n",
    "        line=dict(\n",
    "            color=line_color,\n",
    "            width=0.5\n",
    "            ),\n",
    "        path=make_q_bezier(b)+make_ribbon_arc(l[1], l[0]),\n",
    "        type='path',\n",
    "        fillcolor=fill_color,\n",
    "        layer='below'\n",
    "    )\n",
    "\n",
    "\n",
    "def invPerm(perm):\n",
    "    inv = [0] * len(perm)\n",
    "    for i, s in enumerate(perm):\n",
    "        inv[s] = i\n",
    "    return inv"
   ]
  },
  {
   "cell_type": "code",
   "execution_count": 26,
   "metadata": {},
   "outputs": [],
   "source": [
    "radii_sribb = [0.4, 0.30, 0.35, 0.39, 0.12]"
   ]
  },
  {
   "cell_type": "code",
   "execution_count": 27,
   "metadata": {},
   "outputs": [],
   "source": [
    "shapes = []\n",
    "ribbon_info = []\n",
    "\n",
    "for k in range(len(tech_terms_filters)):\n",
    "    sigma = idx_sort[k]\n",
    "    sigma_inv = invPerm(sigma)\n",
    "    for j in range(k, len(tech_terms_filters)):\n",
    "        if tech_terms_matrix[k][j] == 0 and tech_terms_matrix[j][k] == 0:\n",
    "            continue\n",
    "        eta = idx_sort[j]\n",
    "        eta_inv = invPerm(eta)\n",
    "        l = ribbon_ends[k][sigma_inv[j]]\n",
    "\n",
    "        if j == k:\n",
    "            shapes.append(make_self_rel(l, DS['colors']['acc1'], ideo_colors[k], radius=radii_sribb[k]))\n",
    "            z = 0.9*np.exp(1j*(l[0]+l[1])/2)\n",
    "            text = tech_terms_labels[k]+' appears in ' + '{:d}'.format(tech_terms_matrix[k][k]),\n",
    "            ribbon_info.append(\n",
    "                go.Scatter(\n",
    "                    x=[z.real],\n",
    "                    y=[z.imag],\n",
    "                    mode='markers',\n",
    "                    marker=dict(size=0.5, color=ideo_colors[k]),\n",
    "                    text=text,\n",
    "                    hoverinfo='text',\n",
    "                ),\n",
    "            )\n",
    "        else:\n",
    "            r = ribbon_ends[j][eta_inv[k]]\n",
    "            zi = 0.9*np.exp(1j*(l[0]+l[1])/2)\n",
    "            zf = 0.9*np.exp(1j*(r[0]+r[1])/2)\n",
    "            texti = tech_terms_labels[k]+' appears with '+tech_terms_labels[j]+' {:d}'.format(tech_terms_matrix[k][j])+' times'\n",
    "            textf = tech_terms_labels[j]+' appears with '+tech_terms_labels[k]+' {:d}'.format(tech_terms_matrix[j][k])+' times'\n",
    "\n",
    "            ribbon_info.append(go.Scatter(\n",
    "                x=[zi.real],\n",
    "                y=[zi.imag],\n",
    "                mode='markers',\n",
    "                marker=dict(size=0.5, color='green'),\n",
    "                text=texti,\n",
    "                hoverinfo='text'\n",
    "            )),\n",
    "            ribbon_info.append(go.Scatter(\n",
    "                x=[zf.real],\n",
    "                y=[zf.imag],\n",
    "                mode='markers',\n",
    "                marker=dict(size=0.5, color='blue'),\n",
    "                text=textf,\n",
    "                hoverinfo='text'\n",
    "            ))\n",
    "            r = (r[1], r[0])\n",
    "            shapes.append(make_ribbon(l, r, 'rgb(175,175,175)', ideo_colors[k]))"
   ]
  },
  {
   "cell_type": "code",
   "execution_count": 28,
   "metadata": {},
   "outputs": [
    {
     "name": "stderr",
     "output_type": "stream",
     "text": [
      "/games/WORKSPACE/jpynb_Job_Market_Trends_Bulgaria/ve-jobmarkettrends/lib/python3.8/site-packages/plotly/graph_objs/_deprecations.py:31: DeprecationWarning:\n",
      "\n",
      "plotly.graph_objs.Data is deprecated.\n",
      "Please replace it with a list or tuple of instances of the following types\n",
      "  - plotly.graph_objs.Scatter\n",
      "  - plotly.graph_objs.Bar\n",
      "  - plotly.graph_objs.Area\n",
      "  - plotly.graph_objs.Histogram\n",
      "  - etc.\n",
      "\n",
      "\n"
     ]
    }
   ],
   "source": [
    "ideograms = []\n",
    "for k in range(len(ideo_ends)):\n",
    "    z = make_ideogram_arc(1.1, ideo_ends[k])\n",
    "    zi = make_ideogram_arc(1.0, ideo_ends[k])\n",
    "    m = len(z)\n",
    "    n = len(zi)\n",
    "    ideograms.append(go.Scatter(\n",
    "        x=z.real,\n",
    "        y=z.imag,\n",
    "        mode='lines',\n",
    "        line=dict(color=ideo_colors[k], shape='spline', width=0.25),\n",
    "        text=tech_terms_labels[k]+'<br>'+'{:d}'.format(row_sum[k]),\n",
    "        hoverinfo='text',))\n",
    "\n",
    "    path = 'M '\n",
    "    for s in range(m):\n",
    "        path += str(z.real[s])+', '+str(z.imag[s])+' L '\n",
    "\n",
    "    Zi = np.array(zi.tolist()[::-1])\n",
    "\n",
    "    for s in range(m):\n",
    "        path += str(Zi.real[s])+', '+str(Zi.imag[s])+' L '\n",
    "    path += str(z.real[0])+' ,'+str(z.imag[0])\n",
    "\n",
    "    shapes.append(make_ideo_shape(path, 'rgb(150,150,150)', ideo_colors[k]))\n",
    "\n",
    "data = go.Data(ideograms+ribbon_info)\n"
   ]
  },
  {
   "cell_type": "code",
   "execution_count": 29,
   "metadata": {},
   "outputs": [],
   "source": [
    "layout = go.Layout(\n",
    "    paper_bgcolor=DS['colors']['bg1'],\n",
    "    plot_bgcolor=DS['colors']['bg1'],\n",
    "    title='Data Jobs ‒ Technologies in Demand and Relationships Between Them',\n",
    "    titlefont=DS['chart_fonts']['title'],\n",
    "    font=DS['chart_fonts']['text'],\n",
    "    autosize=False,\n",
    "    width=960,\n",
    "    height=525,\n",
    "    margin=dict(\n",
    "        l=280,\n",
    "        r=280,\n",
    "        t=80,\n",
    "        b=10,\n",
    "    ),\n",
    "    showlegend=False,\n",
    "    hidesources=True,\n",
    "    xaxis=dict(\n",
    "        showline=False,\n",
    "        zeroline=False,\n",
    "        showgrid=False,\n",
    "        showticklabels=False,\n",
    "        title='',\n",
    "    ),\n",
    "    yaxis=dict(\n",
    "        showline=False,\n",
    "        zeroline=False,\n",
    "        showgrid=False,\n",
    "        showticklabels=False,\n",
    "        title='',\n",
    "    ),\n",
    "    shapes=shapes,\n",
    "    hovermode='closest',\n",
    "    hoverdistance=40,\n",
    ")"
   ]
  },
  {
   "cell_type": "code",
   "execution_count": 30,
   "metadata": {},
   "outputs": [
    {
     "data": {
      "application/vnd.plotly.v1+json": {
       "config": {
        "linkText": "Export to plot.ly",
        "plotlyServerURL": "https://plot.ly",
        "showLink": false
       },
       "data": [
        {
         "hoverinfo": "text",
         "line": {
          "color": "#f2e6ce",
          "shape": "spline",
          "width": 0.25
         },
         "mode": "lines",
         "text": "Power BI<br>1651",
         "type": "scatter",
         "x": [
          1.1,
          1.0997155261803073,
          1.0988622518582367,
          1.0974406183687073,
          1.0954513610162813,
          1.0928955086948444,
          1.0897743833554379,
          1.0860895993225104,
          1.0818430624589508,
          1.077036969180326,
          1.0716738053188415,
          1.0657563448376046,
          1.0592876483958629,
          1.052271061765953
         ],
         "y": [
          0,
          0.02501522492343125,
          0.050017511343981705,
          0.07499392745088934,
          0.09993155481416842,
          0.12481749506634601,
          0.14963887657382177,
          0.1743828610944003,
          0.19903665041755256,
          0.22358749298397182,
          0.2480226904810008,
          0.2723296044105178,
          0.2964956626258856,
          0.3205083658345816
         ]
        },
        {
         "hoverinfo": "text",
         "line": {
          "color": "#ecd5bb",
          "shape": "spline",
          "width": 0.25
         },
         "mode": "lines",
         "text": "Excel<br>4697",
         "type": "scatter",
         "x": [
          1.0416844184563294,
          1.034067880038228,
          1.0259992685866952,
          1.0174821115313368,
          1.0085201323965955,
          0.9991172491739017,
          0.9892775726088106,
          0.9790054044038687,
          0.9683052353379987,
          0.9571817433032243,
          0.9456397912595923,
          0.9336844251091878,
          0.9213208714901705,
          0.9085545354917965,
          0.8953909982914258,
          0.8818360147145466,
          0.8678955107188858,
          0.8535755808037028,
          0.8388824853454002,
          0.8238226478606182,
          0.8084026521980058,
          0.7926292396598981,
          0.7765093060551597,
          0.7600498986844796,
          0.7432582132594373,
          0.7261415907566877,
          0.7087075142086369,
          0.6909636054320171,
          0.6729176216957857,
          0.654577452329808,
          0.6359511152758065,
          0.6170467535820818,
          0.5978726318435424,
          0.5784371325885935,
          0.558748752614471,
          0.5388160992726163,
          0.5186478867057224,
          0.4982529320380905,
          0.4776401515209657,
          0.4568185566345381,
          0.43579725014830906,
          0.41458542214155075,
          0.3931923459855925,
          0.3716273742896962
         ],
         "y": [
          0.35340284710978076,
          0.37510481131711093,
          0.39664278747957454,
          0.4180073596406317,
          0.4391891876523759,
          0.4601790112588534,
          0.48096765414445464,
          0.501546027945609,
          0.5219051362240297,
          0.5420360783997691,
          0.5619300536423684,
          0.5815783647183977,
          0.6009724217937067,
          0.6201037461887212,
          0.6389639740851468,
          0.6575448601824564,
          0.6758382813025646,
          0.6938362399411131,
          0.7115308677638129,
          0.7289144290463181,
          0.7459793240561231,
          0.7627180923750085,
          0.7791234161605815,
          0.7951881233454838,
          0.8109051907728727,
          0.8262677472667969,
          0.8412690766361349,
          0.8559026206107724,
          0.8701619817087435,
          0.8840409260330757,
          0.8975333859971215,
          0.9106334629771815,
          0.923335429891259,
          0.9356337337028235,
          0.9475229978484812,
          0.9589980245884984,
          0.9700537972791449,
          0.9806854825658664,
          0.9908884324963275,
          1.0006581865524,
          1.009990473600208,
          1.0188812137573802,
          1.0273265201766897,
          1.035322700745302
         ]
        },
        {
         "hoverinfo": "text",
         "line": {
          "color": "#e6c4a9",
          "shape": "spline",
          "width": 0.25
         },
         "mode": "lines",
         "text": "SSIS/SSRS<br>2796",
         "type": "scatter",
         "x": [
          0.33892372669281473,
          0.31698004482229825,
          0.2948979114708331,
          0.27268697173789747,
          0.2503569269834023,
          0.22791753059030115,
          0.20537858370448034,
          0.1827499309537838,
          0.1600414561480492,
          0.13726307796202644,
          0.11442474560307136,
          0.09153643446549982,
          0.06860814177350723,
          0.04564988221454957,
          0.022671683565100565,
          -0.0003164176893121998,
          -0.023304380737871073,
          -0.04628216483012535,
          -0.06923973366161797,
          -0.09216705975757417,
          -0.11505412885272968,
          -0.13789094426539306,
          -0.1606675312638237,
          -0.1833739414230269,
          -0.2060002569700543,
          -0.2285365951159199
         ],
         "y": [
          1.0464849294111476,
          1.0533392858829742,
          1.059733561707914,
          1.0656649639752709,
          1.0711309019496298,
          1.0761289882024456,
          1.0806570396548305,
          1.0847130785310866,
          1.0882953332225642,
          1.0914022390614704,
          1.0940324390042886,
          1.0961847842245136,
          1.0978583346144377,
          1.0990523591957746,
          1.0997663364389383,
          1.099999954490838,
          1.0997531113110908,
          1.09902591471659,
          1.0978186823344138,
          1.0961319414630906,
          1.093966428842284,
          1.0913230903309974,
          1.08820308049444,
          1.0846077620997299,
          1.080538705520664,
          1.0759976880518016
         ]
        },
        {
         "hoverinfo": "text",
         "line": {
          "color": "#e1b396",
          "shape": "spline",
          "width": 0.25
         },
         "mode": "lines",
         "text": "MS SQL Server<br>2078",
         "type": "scatter",
         "x": [
          -0.26222173025002715,
          -0.28472924914347314,
          -0.30710970656811126,
          -0.32935311516296084,
          -0.35144954872558254,
          -0.373389146641683,
          -0.3951621182854495,
          -0.416758747388653,
          -0.4381693963765681,
          -0.45938451066877534,
          -0.48039462294292984,
          -0.5011903573595855,
          -0.5217624337462007,
          -0.5421016717384459,
          -0.562198994876979,
          -0.5820454346578441,
          -0.6016321345347017,
          -0.620950353871095,
          -0.6399914718409907
         ],
         "y": [
          1.0682882402164138,
          1.0625108256776465,
          1.0562592617968605,
          1.0495363383573022,
          1.0423450554881453,
          1.0346886223256715,
          1.0265704555811825,
          1.0179941780162798,
          1.0089636168261937,
          0.9994828019318842,
          0.989555964181673,
          0.9791875334632132,
          0.9683821367266343,
          0.9571445959197505,
          0.9454799258362467,
          0.933393331877811,
          0.9208902077312033,
          0.9079761329613032,
          0.8946568705212086
         ]
        },
        {
         "hoverinfo": "text",
         "line": {
          "color": "#dba284",
          "shape": "spline",
          "width": 0.25
         },
         "mode": "lines",
         "text": "PostgreSQL<br>635",
         "type": "scatter",
         "x": [
          -0.6677775261007243,
          -0.688214963325557,
          -0.7082692522825652,
          -0.7279292281955015,
          -0.7471839458130735
         ],
         "y": [
          0.8741127934281689,
          0.8581143072195,
          0.8416380850882974,
          0.8246932998022366,
          0.8072893849910366
         ]
        },
        {
         "hoverinfo": "text",
         "line": {
          "color": "#d59171",
          "shape": "spline",
          "width": 0.25
         },
         "mode": "lines",
         "text": "MySQL/MariaDB<br>912",
         "type": "scatter",
         "x": [
          -0.7721728280184039,
          -0.8008615736292437,
          -0.8284353463992947,
          -0.8548557576621899,
          -0.8800860244806897
         ],
         "y": [
          0.7834214215031783,
          0.7540694529578106,
          0.7236676563425235,
          0.6922583575456517,
          0.6598852851168716
         ]
        },
        {
         "hoverinfo": "text",
         "line": {
          "color": "#d0805f",
          "shape": "spline",
          "width": 0.25
         },
         "mode": "lines",
         "text": "T-SQL<br>1433",
         "type": "scatter",
         "x": [
          -0.9003792528646531,
          -0.9146445835463155,
          -0.9284281040097813,
          -0.9417225534664102,
          -0.954520928757042,
          -0.9668164880410731,
          -0.9786027543478771,
          -0.9898735189886982,
          -1.000622844827223,
          -1.0108450694071043,
          -1.0205348079347907,
          -1.0296869561160913
         ],
         "y": [
          0.631915501480134,
          0.6110853342941451,
          0.5899332637551497,
          0.5684704322062005,
          0.5467081456909108,
          0.5246578679977321,
          0.5023312146211388,
          0.47973994664289904,
          0.4568959645366496,
          0.43381130189904776,
          0.4104981191107948,
          0.3869686969308743
         ]
        },
        {
         "hoverinfo": "text",
         "line": {
          "color": "#ca6f4c",
          "shape": "spline",
          "width": 0.25
         },
         "mode": "lines",
         "text": "PL/SQL<br>464",
         "type": "scatter",
         "x": [
          -1.0413338482711272,
          -1.0465758710349022,
          -1.051578429751547,
          -1.0563403797998354,
          -1.060860631611527
         ],
         "y": [
          0.3544345023341338,
          0.33864280025941207,
          0.32277361428913487,
          0.3068305754065909,
          0.2908173314931422
         ]
        },
        {
         "hoverinfo": "text",
         "line": {
          "color": "#c45e3a",
          "shape": "spline",
          "width": 0.25
         },
         "mode": "lines",
         "text": "Pentaho<br>601",
         "type": "scatter",
         "x": [
          -1.06947195406473,
          -1.0748537825266462,
          -1.079719569699566,
          -1.0840669795010145,
          -1.0878939247234154
         ],
         "y": [
          0.2573513929804308,
          0.23385753395638367,
          0.2102513990626079,
          0.18654432169205118,
          0.16274768370051898
         ]
        },
        {
         "hoverinfo": "text",
         "line": {
          "color": "#bf4d28",
          "shape": "spline",
          "width": 0.25
         },
         "mode": "lines",
         "text": "Hadoop<br>1075",
         "type": "scatter",
         "x": [
          -1.0924691430263174,
          -1.0971741783985476,
          -1.099619397791857,
          -1.099799764862914,
          -1.097714908115199
         ],
         "y": [
          0.12849580357094934,
          0.07879608020372963,
          0.028934062968656964,
          -0.020987548867819495,
          -0.07086593329407778
         ]
        },
        {
         "hoverinfo": "text",
         "line": {
          "color": "#af4624",
          "shape": "spline",
          "width": 0.25
         },
         "mode": "lines",
         "text": "Spark<br>1129",
         "type": "scatter",
         "x": [
          -1.0949472993148606,
          -1.088623403801717,
          -1.0797853276464788,
          -1.0684534824257341,
          -1.054654039086933
         ],
         "y": [
          -0.10531102374914712,
          -0.1577944380995847,
          -0.20991342548628603,
          -0.2615476168737185,
          -0.3125777628648882
         ]
        },
        {
         "hoverinfo": "text",
         "line": {
          "color": "#9f4021",
          "shape": "spline",
          "width": 0.25
         },
         "mode": "lines",
         "text": "Informatica<br>831",
         "type": "scatter",
         "x": [
          -1.044315326181077,
          -1.032230538757097,
          -1.0190010274483214,
          -1.0046414635292489,
          -0.9891677714810644
         ],
         "y": [
          -0.345551008540434,
          -0.38013170725057066,
          -0.41429084718258663,
          -0.44799054650495584,
          -0.48119343289698474
         ]
        },
        {
         "hoverinfo": "text",
         "line": {
          "color": "#8f391e",
          "shape": "spline",
          "width": 0.25
         },
         "mode": "lines",
         "text": "Qlik<br>2064",
         "type": "scatter",
         "x": [
          -0.97356502590697,
          -0.9619566127156586,
          -0.9498739311616178,
          -0.937322938305199,
          -0.9243098220957903,
          -0.9108409983210036,
          -0.8969231074435318,
          -0.8825630113272385,
          -0.8677677898540895,
          -0.8525447374335945,
          -0.8369013594064855,
          -0.8208453683443958,
          -0.8043846802473745,
          -0.7875274106411014,
          -0.7702818705757322,
          -0.7526565625283466,
          -0.7346601762110169,
          -0.7163015842865643
         ],
         "y": [
          -0.5120265035432843,
          -0.5335161433851994,
          -0.5547427465948288,
          -0.5756958479326634,
          -0.5963651170023684,
          -0.6167403633439259,
          -0.6368115414577841,
          -0.6565687557575345,
          -0.676002265448681,
          -0.695102489331094,
          -0.7138600105227754,
          -0.732265581102617,
          -0.750310126669852,
          -0.7679847508179587,
          -0.7852807395208106,
          -0.8021895654289037,
          -0.8187028920735518,
          -0.8348125779769722
         ]
        },
        {
         "hoverinfo": "text",
         "line": {
          "color": "#f0f3e7",
          "shape": "spline",
          "width": 0.25
         },
         "mode": "lines",
         "text": "Tableau<br>2816",
         "type": "scatter",
         "x": [
          -0.6897260359325623,
          -0.6715296530974746,
          -0.6530354923744423,
          -0.6342517546702946,
          -0.6151867692996295,
          -0.5958489902913198,
          -0.5762469926397313,
          -0.5563894685022873,
          -0.5362852233450923,
          -0.5159431720382984,
          -0.4953723349029697,
          -0.4745818337111798,
          -0.45358088764112026,
          -0.43237880918902727,
          -0.41098500003971267,
          -0.3894089468975617,
          -0.367660217279815,
          -0.34574845527403075,
          -0.3236833772615777,
          -0.30147476760908537,
          -0.27913247432973787,
          -0.25666640471634444,
          -0.2340865209481332,
          -0.21140283567319237,
          -0.18862540756854712,
          -0.16576433687981013
         ],
         "y": [
          -0.8569002248551193,
          -0.8712335651309502,
          -0.8851805723688643,
          -0.898735062016417,
          -0.9118910235761095,
          -0.9246426232706424,
          -0.9369842066297945,
          -0.9489103009978036,
          -0.9604156179601123,
          -0.9714950556884265,
          -0.9821437012030266,
          -0.992356832551343,
          -1.0021299209018228,
          -1.0114586325521568,
          -1.0203388308509862,
          -1.0287665780322242,
          -1.03673813696119,
          -1.0442499727917745,
          -1.0512987545339048,
          -1.0578813565306122,
          -1.0639948598440494,
          -1.0696365535498429,
          -1.0748039359392016,
          -1.079494715628258,
          -1.0837068125741387,
          -1.087438358997326
         ]
        },
        {
         "hoverinfo": "text",
         "line": {
          "color": "#e2ecde",
          "shape": "spline",
          "width": 0.25
         },
         "mode": "lines",
         "text": "Microstrategy<br>449",
         "type": "scatter",
         "x": [
          -0.13152527787926538,
          -0.11580374741483287,
          -0.100058258920438,
          -0.08429206989761534,
          -0.06850844213052609
         ],
         "y": [
          -1.0921085574606502,
          -1.0938873306171353,
          -1.095439795160743,
          -1.0967656299102264,
          -1.0978645605705872
         ]
        },
        {
         "hoverinfo": "text",
         "line": {
          "color": "#d4e5d6",
          "shape": "spline",
          "width": 0.25
         },
         "mode": "lines",
         "text": "Oracle BI<br>3509",
         "type": "scatter",
         "x": [
          -0.033989878137399204,
          -0.011178891536949767,
          0.011636904394170502,
          0.03444769395045992,
          0.05724366358023901,
          0.08001500610758516,
          0.10275192495153403,
          0.1254446383407172,
          0.14808338352163403,
          0.1706584209587323,
          0.19316003852450966,
          0.21557855567781908,
          0.23790432762858496,
          0.26012774948714396,
          0.28223926039641,
          0.3042293476451054,
          0.3260885507602736,
          0.34780746557732345,
          0.36937674828583933,
          0.3907871194494357,
          0.41202936799791207,
          0.4330943551899958,
          0.45397301854497213,
          0.4746563757414977,
          0.49513552848193615,
          0.5154016663205413,
          0.5354460704538456,
          0.5552601174716264,
          0.5748352830668243,
          0.594163145702834,
          0.6132353902365782,
          0.6320438114958085,
          0.6505803178090994
         ],
         "y": [
          -1.0994747328539227,
          -1.0999431950714569,
          -1.0999384448486749,
          -1.0994604842291948,
          -1.0985095188390097,
          -1.097085957798022,
          -1.0951904135440351,
          -1.0928237015692728,
          -1.0899868400695418,
          -1.086681049506189,
          -1.0829077520810395,
          -1.078668571124544,
          -1.0739653303973975,
          -1.0688000533059276,
          -1.0631749620315971,
          -1.0570924765749843,
          -1.0505552137146645,
          -1.043565985881429,
          -1.0361277999483365,
          -1.0282438559371083,
          -1.0199175456414313,
          -1.0111524511677563,
          -1.0019523433942188,
          -0.9923211803483519,
          -0.9822631055042809,
          -0.9717824460001372,
          -0.9608837107764578,
          -0.9495715886363679,
          -0.9378509462283888,
          -0.9257268259527283,
          -0.9132044437919647,
          -0.9002891870670509,
          -0.8869866121196032
         ]
        },
        {
         "hoverinfo": "text",
         "line": {
          "color": "#c6decd",
          "shape": "spline",
          "width": 0.25
         },
         "mode": "lines",
         "text": "Python<br>2308",
         "type": "scatter",
         "x": [
          0.6781202184738314,
          0.6964054218296601,
          0.7143749566929342,
          0.7320206777853353,
          0.7493345866077111,
          0.7663088350656498,
          0.7829357290268913,
          0.7992077318089403,
          0.8151174675953127,
          0.8306577247788695,
          0.8458214592307078,
          0.8606017974931471,
          0.8749920398953462,
          0.8889856635901459,
          0.9025763255107664,
          0.9157578652460056,
          0.928524307832649,
          0.9408698664638174,
          0.9527889451120222,
          0.9642761410657522,
          0.9753262473784254
         ],
         "y": [
          -0.8661137161464443,
          -0.8514807622291025,
          -0.8364618468585214,
          -0.8210637778484071,
          -0.8052935348762282,
          -0.7891582663194543,
          -0.7726652860153161,
          -0.755822069945572,
          -0.7386362528477767,
          -0.7211156247545827,
          -0.7032681274626601,
          -0.6851018509328115,
          -0.6666250296229366,
          -0.6478460387554965,
          -0.6287733905211663,
          -0.609415730220413,
          -0.5897818323447238,
          -0.5698805965992862,
          -0.5497210438689064,
          -0.5293123121289941,
          -0.508663652303483
         ]
        },
        {
         "hoverinfo": "text",
         "line": {
          "color": "#b8d7c5",
          "shape": "spline",
          "width": 0.25
         },
         "mode": "lines",
         "text": "VBA<br>856",
         "type": "scatter",
         "x": [
          0.990822494185932,
          1.006731132392093,
          1.0214387732453958,
          1.0349278710107734,
          1.0471823336352561
         ],
         "y": [
          -0.47777691971794617,
          -0.4432746632422543,
          -0.4082435945742948,
          -0.37272550463458787,
          -0.33676276534412075
         ]
        },
        {
         "hoverinfo": "text",
         "line": {
          "color": "#aad0bc",
          "shape": "spline",
          "width": 0.25
         },
         "mode": "lines",
         "text": "Linux<br>834",
         "type": "scatter",
         "x": [
          1.057243586456243,
          1.0668095610225576,
          1.0751818851294326,
          1.0823511910050716,
          1.088309456931668
         ],
         "y": [
          -0.3037038012556651,
          -0.2681741234922897,
          -0.2323443863955402,
          -0.19625467976561317,
          -0.15994538428194086
         ]
        },
        {
         "hoverinfo": "text",
         "line": {
          "color": "#9cc9b4",
          "shape": "spline",
          "width": 0.25
         },
         "mode": "lines",
         "text": "AWS<br>578",
         "type": "scatter",
         "x": [
          1.0927964478426075,
          1.095171234463739,
          1.097073471246305,
          1.0985023374038787,
          1.0994572164023046
         ],
         "y": [
          -0.1256818347358888,
          -0.10295614213426206,
          -0.08018602551307116,
          -0.05738130983356045,
          -0.03455183498594511
         ]
        },
        {
         "hoverinfo": "text",
         "marker": {
          "color": "green",
          "size": 0.5
         },
         "mode": "markers",
         "text": "Power BI appears with Excel 262 times",
         "type": "scatter",
         "x": [
          0.8668634412953914
         ],
         "y": [
          0.24196647318484354
         ]
        },
        {
         "hoverinfo": "text",
         "marker": {
          "color": "blue",
          "size": 0.5
         },
         "mode": "markers",
         "text": "Excel appears with Power BI 262 times",
         "type": "scatter",
         "x": [
          0.7623306856759183
         ],
         "y": [
          0.4783847046853445
         ]
        },
        {
         "hoverinfo": "text",
         "marker": {
          "color": "green",
          "size": 0.5
         },
         "mode": "markers",
         "text": "Power BI appears with SSIS/SSRS 156 times",
         "type": "scatter",
         "x": [
          0.8965654753661454
         ],
         "y": [
          0.07855156511157242
         ]
        },
        {
         "hoverinfo": "text",
         "marker": {
          "color": "blue",
          "size": 0.5
         },
         "mode": "markers",
         "text": "SSIS/SSRS appears with Power BI 156 times",
         "type": "scatter",
         "x": [
          0.1395427073394812
         ],
         "y": [
          0.8891163213148029
         ]
        },
        {
         "hoverinfo": "text",
         "marker": {
          "color": "green",
          "size": 0.5
         },
         "mode": "markers",
         "text": "Power BI appears with MS SQL Server 157 times",
         "type": "scatter",
         "x": [
          0.8940122026557147
         ],
         "y": [
          0.10364449576642899
         ]
        },
        {
         "hoverinfo": "text",
         "marker": {
          "color": "blue",
          "size": 0.5
         },
         "mode": "markers",
         "text": "MS SQL Server appears with Power BI 157 times",
         "type": "scatter",
         "x": [
          -0.3706899782214178
         ],
         "y": [
          0.8201151992532542
         ]
        },
        {
         "hoverinfo": "text",
         "marker": {
          "color": "green",
          "size": 0.5
         },
         "mode": "markers",
         "text": "Power BI appears with MySQL/MariaDB 5 times",
         "type": "scatter",
         "x": [
          0.899999909804802
         ],
         "y": [
          0.00040292846555398766
         ]
        },
        {
         "hoverinfo": "text",
         "marker": {
          "color": "blue",
          "size": 0.5
         },
         "mode": "markers",
         "text": "MySQL/MariaDB appears with Power BI 5 times",
         "type": "scatter",
         "x": [
          -0.6323544803487275
         ],
         "y": [
          0.6404122197326428
         ]
        },
        {
         "hoverinfo": "text",
         "marker": {
          "color": "green",
          "size": 0.5
         },
         "mode": "markers",
         "text": "Power BI appears with T-SQL 68 times",
         "type": "scatter",
         "x": [
          0.8989481681359354
         ],
         "y": [
          0.0434993218917952
         ]
        },
        {
         "hoverinfo": "text",
         "marker": {
          "color": "blue",
          "size": 0.5
         },
         "mode": "markers",
         "text": "T-SQL appears with Power BI 68 times",
         "type": "scatter",
         "x": [
          -0.7769136848263762
         ],
         "y": [
          0.4543183094808112
         ]
        },
        {
         "hoverinfo": "text",
         "marker": {
          "color": "green",
          "size": 0.5
         },
         "mode": "markers",
         "text": "Power BI appears with PL/SQL 11 times",
         "type": "scatter",
         "x": [
          0.8999882782573101
         ],
         "y": [
          0.004593364719086356
         ]
        },
        {
         "hoverinfo": "text",
         "marker": {
          "color": "blue",
          "size": 0.5
         },
         "mode": "markers",
         "text": "PL/SQL appears with Power BI 11 times",
         "type": "scatter",
         "x": [
          -0.8537060076513193
         ],
         "y": [
          0.28493166285979105
         ]
        },
        {
         "hoverinfo": "text",
         "marker": {
          "color": "green",
          "size": 0.5
         },
         "mode": "markers",
         "text": "Power BI appears with Pentaho 10 times",
         "type": "scatter",
         "x": [
          0.8999953242849036
         ],
         "y": [
          0.00290108002495615
         ]
        },
        {
         "hoverinfo": "text",
         "marker": {
          "color": "blue",
          "size": 0.5
         },
         "mode": "markers",
         "text": "Pentaho appears with Power BI 10 times",
         "type": "scatter",
         "x": [
          -0.8758448127808569
         ],
         "y": [
          0.2071131669519484
         ]
        },
        {
         "hoverinfo": "text",
         "marker": {
          "color": "green",
          "size": 0.5
         },
         "mode": "markers",
         "text": "Power BI appears with Hadoop 41 times",
         "type": "scatter",
         "x": [
          0.8997799002144924
         ],
         "y": [
          0.019903044239466004
         ]
        },
        {
         "hoverinfo": "text",
         "marker": {
          "color": "blue",
          "size": 0.5
         },
         "mode": "markers",
         "text": "Hadoop appears with Power BI 41 times",
         "type": "scatter",
         "x": [
          -0.8957189476058101
         ],
         "y": [
          0.08767877109049942
         ]
        },
        {
         "hoverinfo": "text",
         "marker": {
          "color": "green",
          "size": 0.5
         },
         "mode": "markers",
         "text": "Power BI appears with Spark 48 times",
         "type": "scatter",
         "x": [
          0.8993514806118581
         ],
         "y": [
          0.03416012765284467
         ]
        },
        {
         "hoverinfo": "text",
         "marker": {
          "color": "blue",
          "size": 0.5
         },
         "mode": "markers",
         "text": "Spark appears with Power BI 48 times",
         "type": "scatter",
         "x": [
          -0.8931674224240058
         ],
         "y": [
          -0.11068855189430231
         ]
        },
        {
         "hoverinfo": "text",
         "marker": {
          "color": "green",
          "size": 0.5
         },
         "mode": "markers",
         "text": "Power BI appears with Informatica 23 times",
         "type": "scatter",
         "x": [
          0.8999522871610177
         ],
         "y": [
          0.009267191249404833
         ]
        },
        {
         "hoverinfo": "text",
         "marker": {
          "color": "blue",
          "size": 0.5
         },
         "mode": "markers",
         "text": "Informatica appears with Power BI 23 times",
         "type": "scatter",
         "x": [
          -0.8483870146269257
         ],
         "y": [
          -0.3003988572088993
         ]
        },
        {
         "hoverinfo": "text",
         "marker": {
          "color": "green",
          "size": 0.5
         },
         "mode": "markers",
         "text": "Power BI appears with Qlik 215 times",
         "type": "scatter",
         "x": [
          0.8900646765478479
         ],
         "y": [
          0.13335993237016472
         ]
        },
        {
         "hoverinfo": "text",
         "marker": {
          "color": "blue",
          "size": 0.5
         },
         "mode": "markers",
         "text": "Qlik appears with Power BI 215 times",
         "type": "scatter",
         "x": [
          -0.7359338067092998
         ],
         "y": [
          -0.518074736058765
         ]
        },
        {
         "hoverinfo": "text",
         "marker": {
          "color": "green",
          "size": 0.5
         },
         "mode": "markers",
         "text": "Power BI appears with Tableau 234 times",
         "type": "scatter",
         "x": [
          0.8767512860018409
         ],
         "y": [
          0.20324168493229508
         ]
        },
        {
         "hoverinfo": "text",
         "marker": {
          "color": "blue",
          "size": 0.5
         },
         "mode": "markers",
         "text": "Tableau appears with Power BI 234 times",
         "type": "scatter",
         "x": [
          -0.37320737364208695
         ],
         "y": [
          -0.8189726834633594
         ]
        },
        {
         "hoverinfo": "text",
         "marker": {
          "color": "green",
          "size": 0.5
         },
         "mode": "markers",
         "text": "Power BI appears with Microstrategy 34 times",
         "type": "scatter",
         "x": [
          0.8998932687182697
         ],
         "y": [
          0.013860191757266174
         ]
        },
        {
         "hoverinfo": "text",
         "marker": {
          "color": "blue",
          "size": 0.5
         },
         "mode": "markers",
         "text": "Microstrategy appears with Power BI 34 times",
         "type": "scatter",
         "x": [
          -0.08892632879341532
         ],
         "y": [
          -0.8955959513348224
         ]
        },
        {
         "hoverinfo": "text",
         "marker": {
          "color": "green",
          "size": 0.5
         },
         "mode": "markers",
         "text": "Power BI appears with Oracle BI 217 times",
         "type": "scatter",
         "x": [
          0.8842416616552995
         ],
         "y": [
          0.16768030234071904
         ]
        },
        {
         "hoverinfo": "text",
         "marker": {
          "color": "blue",
          "size": 0.5
         },
         "mode": "markers",
         "text": "Oracle BI appears with Power BI 217 times",
         "type": "scatter",
         "x": [
          0.21728992661394958
         ],
         "y": [
          -0.8733756853680462
         ]
        },
        {
         "hoverinfo": "text",
         "marker": {
          "color": "green",
          "size": 0.5
         },
         "mode": "markers",
         "text": "Power BI appears with Python 106 times",
         "type": "scatter",
         "x": [
          0.8981613802858313
         ],
         "y": [
          0.057498999669997525
         ]
        },
        {
         "hoverinfo": "text",
         "marker": {
          "color": "blue",
          "size": 0.5
         },
         "mode": "markers",
         "text": "Python appears with Power BI 106 times",
         "type": "scatter",
         "x": [
          0.6103393551597737
         ],
         "y": [
          -0.6614271475704272
         ]
        },
        {
         "hoverinfo": "text",
         "marker": {
          "color": "green",
          "size": 0.5
         },
         "mode": "markers",
         "text": "Power BI appears with VBA 44 times",
         "type": "scatter",
         "x": [
          0.8996023622571154
         ],
         "y": [
          0.02675051067583074
         ]
        },
        {
         "hoverinfo": "text",
         "marker": {
          "color": "blue",
          "size": 0.5
         },
         "mode": "markers",
         "text": "VBA appears with Power BI 44 times",
         "type": "scatter",
         "x": [
          0.8217456482205959
         ],
         "y": [
          -0.3670614248739748
         ]
        },
        {
         "hoverinfo": "text",
         "marker": {
          "color": "green",
          "size": 0.5
         },
         "mode": "markers",
         "text": "Power BI appears with Linux 12 times",
         "type": "scatter",
         "x": [
          0.8999769101276444
         ],
         "y": [
          0.0064468005318810044
         ]
        },
        {
         "hoverinfo": "text",
         "marker": {
          "color": "blue",
          "size": 0.5
         },
         "mode": "markers",
         "text": "Linux appears with Power BI 12 times",
         "type": "scatter",
         "x": [
          0.8660857591342721
         ],
         "y": [
          -0.24473548542214252
         ]
        },
        {
         "hoverinfo": "text",
         "marker": {
          "color": "green",
          "size": 0.5
         },
         "mode": "markers",
         "text": "Power BI appears with AWS 8 times",
         "type": "scatter",
         "x": [
          0.8999988310704669
         ],
         "y": [
          0.0014505418964572549
         ]
        },
        {
         "hoverinfo": "text",
         "marker": {
          "color": "blue",
          "size": 0.5
         },
         "mode": "markers",
         "text": "AWS appears with Power BI 8 times",
         "type": "scatter",
         "x": [
          0.8944556402022843
         ],
         "y": [
          -0.09974521397200783
         ]
        },
        {
         "hoverinfo": "text",
         "marker": {
          "color": "green",
          "size": 0.5
         },
         "mode": "markers",
         "text": "Excel appears with SSIS/SSRS 669 times",
         "type": "scatter",
         "x": [
          0.4665335728522186
         ],
         "y": [
          0.7696404520305203
         ]
        },
        {
         "hoverinfo": "text",
         "marker": {
          "color": "blue",
          "size": 0.5
         },
         "mode": "markers",
         "text": "SSIS/SSRS appears with Excel 669 times",
         "type": "scatter",
         "x": [
          -0.1316249589395177
         ],
         "y": [
          0.8903229022013139
         ]
        },
        {
         "hoverinfo": "text",
         "marker": {
          "color": "green",
          "size": 0.5
         },
         "mode": "markers",
         "text": "Excel appears with MS SQL Server 283 times",
         "type": "scatter",
         "x": [
          0.7363517625325988
         ],
         "y": [
          0.5174805134641643
         ]
        },
        {
         "hoverinfo": "text",
         "marker": {
          "color": "blue",
          "size": 0.5
         },
         "mode": "markers",
         "text": "MS SQL Server appears with Excel 283 times",
         "type": "scatter",
         "x": [
          -0.462848262256397
         ],
         "y": [
          0.7718623492088688
         ]
        },
        {
         "hoverinfo": "text",
         "marker": {
          "color": "green",
          "size": 0.5
         },
         "mode": "markers",
         "text": "Excel appears with PostgreSQL 78 times",
         "type": "scatter",
         "x": [
          0.8350601729513893
         ],
         "y": [
          0.33567023631891424
         ]
        },
        {
         "hoverinfo": "text",
         "marker": {
          "color": "blue",
          "size": 0.5
         },
         "mode": "markers",
         "text": "PostgreSQL appears with Excel 78 times",
         "type": "scatter",
         "x": [
          -0.5860679457090872
         ],
         "y": [
          0.6830258875125675
         ]
        },
        {
         "hoverinfo": "text",
         "marker": {
          "color": "green",
          "size": 0.5
         },
         "mode": "markers",
         "text": "Excel appears with MySQL/MariaDB 142 times",
         "type": "scatter",
         "x": [
          0.7962891148825588
         ],
         "y": [
          0.41943252797029346
         ]
        },
        {
         "hoverinfo": "text",
         "marker": {
          "color": "blue",
          "size": 0.5
         },
         "mode": "markers",
         "text": "MySQL/MariaDB appears with Excel 142 times",
         "type": "scatter",
         "x": [
          -0.7137482613634023
         ],
         "y": [
          0.5482366454376434
         ]
        },
        {
         "hoverinfo": "text",
         "marker": {
          "color": "green",
          "size": 0.5
         },
         "mode": "markers",
         "text": "Excel appears with T-SQL 193 times",
         "type": "scatter",
         "x": [
          0.7824340054394906
         ],
         "y": [
          0.44474377694568734
         ]
        },
        {
         "hoverinfo": "text",
         "marker": {
          "color": "blue",
          "size": 0.5
         },
         "mode": "markers",
         "text": "T-SQL appears with Excel 193 times",
         "type": "scatter",
         "x": [
          -0.8245360551473082
         ],
         "y": [
          0.3607496275287267
         ]
        },
        {
         "hoverinfo": "text",
         "marker": {
          "color": "green",
          "size": 0.5
         },
         "mode": "markers",
         "text": "Excel appears with PL/SQL 67 times",
         "type": "scatter",
         "x": [
          0.8437847502626105
         ],
         "y": [
          0.3130931095125924
         ]
        },
        {
         "hoverinfo": "text",
         "marker": {
          "color": "blue",
          "size": 0.5
         },
         "mode": "markers",
         "text": "PL/SQL appears with Excel 67 times",
         "type": "scatter",
         "x": [
          -0.8636373414871582
         ],
         "y": [
          0.25324008843189433
         ]
        },
        {
         "hoverinfo": "text",
         "marker": {
          "color": "green",
          "size": 0.5
         },
         "mode": "markers",
         "text": "Excel appears with Pentaho 68 times",
         "type": "scatter",
         "x": [
          0.8396690171183222
         ],
         "y": [
          0.3239690443415091
         ]
        },
        {
         "hoverinfo": "text",
         "marker": {
          "color": "blue",
          "size": 0.5
         },
         "mode": "markers",
         "text": "Pentaho appears with Excel 68 times",
         "type": "scatter",
         "x": [
          -0.887973159335432
         ],
         "y": [
          0.1466412912513098
         ]
        },
        {
         "hoverinfo": "text",
         "marker": {
          "color": "green",
          "size": 0.5
         },
         "mode": "markers",
         "text": "Excel appears with Hadoop 102 times",
         "type": "scatter",
         "x": [
          0.8228616494782546
         ],
         "y": [
          0.36455274764830153
         ]
        },
        {
         "hoverinfo": "text",
         "marker": {
          "color": "blue",
          "size": 0.5
         },
         "mode": "markers",
         "text": "Hadoop appears with Excel 102 times",
         "type": "scatter",
         "x": [
          -0.899540265888154
         ],
         "y": [
          0.028762997859564644
         ]
        },
        {
         "hoverinfo": "text",
         "marker": {
          "color": "green",
          "size": 0.5
         },
         "mode": "markers",
         "text": "Excel appears with Spark 111 times",
         "type": "scatter",
         "x": [
          0.8152593549583288
         ],
         "y": [
          0.3812508152816592
         ]
        },
        {
         "hoverinfo": "text",
         "marker": {
          "color": "blue",
          "size": 0.5
         },
         "mode": "markers",
         "text": "Spark appears with Excel 111 times",
         "type": "scatter",
         "x": [
          -0.8807565306048842
         ],
         "y": [
          -0.18511600092063224
         ]
        },
        {
         "hoverinfo": "text",
         "marker": {
          "color": "green",
          "size": 0.5
         },
         "mode": "markers",
         "text": "Excel appears with Informatica 121 times",
         "type": "scatter",
         "x": [
          0.8065935448917507
         ],
         "y": [
          0.39925787824282105
         ]
        },
        {
         "hoverinfo": "text",
         "marker": {
          "color": "blue",
          "size": 0.5
         },
         "mode": "markers",
         "text": "Informatica appears with Excel 121 times",
         "type": "scatter",
         "x": [
          -0.821552835858612
         ],
         "y": [
          -0.36749277257202284
         ]
        },
        {
         "hoverinfo": "text",
         "marker": {
          "color": "green",
          "size": 0.5
         },
         "mode": "markers",
         "text": "Excel appears with Qlik 472 times",
         "type": "scatter",
         "x": [
          0.6119937677018085
         ],
         "y": [
          0.659896680014489
         ]
        },
        {
         "hoverinfo": "text",
         "marker": {
          "color": "blue",
          "size": 0.5
         },
         "mode": "markers",
         "text": "Qlik appears with Excel 472 times",
         "type": "scatter",
         "x": [
          -0.6149903704620708
         ],
         "y": [
          -0.6571048959176342
         ]
        },
        {
         "hoverinfo": "text",
         "marker": {
          "color": "green",
          "size": 0.5
         },
         "mode": "markers",
         "text": "Excel appears with Tableau 489 times",
         "type": "scatter",
         "x": [
          0.548797194256141
         ],
         "y": [
          0.713317348433772
         ]
        },
        {
         "hoverinfo": "text",
         "marker": {
          "color": "blue",
          "size": 0.5
         },
         "mode": "markers",
         "text": "Tableau appears with Excel 489 times",
         "type": "scatter",
         "x": [
          -0.257267023228288
         ],
         "y": [
          -0.8624463338430141
         ]
        },
        {
         "hoverinfo": "text",
         "marker": {
          "color": "green",
          "size": 0.5
         },
         "mode": "markers",
         "text": "Excel appears with Microstrategy 49 times",
         "type": "scatter",
         "x": [
          0.850921846879489
         ],
         "y": [
          0.2931416219222363
         ]
        },
        {
         "hoverinfo": "text",
         "marker": {
          "color": "blue",
          "size": 0.5
         },
         "mode": "markers",
         "text": "Microstrategy appears with Excel 49 times",
         "type": "scatter",
         "x": [
          -0.0745129642219962
         ],
         "y": [
          -0.8969101505517995
         ]
        },
        {
         "hoverinfo": "text",
         "marker": {
          "color": "green",
          "size": 0.5
         },
         "mode": "markers",
         "text": "Excel appears with Oracle BI 712 times",
         "type": "scatter",
         "x": [
          0.3610330053151986
         ],
         "y": [
          0.824412014148918
         ]
        },
        {
         "hoverinfo": "text",
         "marker": {
          "color": "blue",
          "size": 0.5
         },
         "mode": "markers",
         "text": "Oracle BI appears with Excel 712 times",
         "type": "scatter",
         "x": [
          0.48225442464999896
         ],
         "y": [
          -0.7598885904561922
         ]
        },
        {
         "hoverinfo": "text",
         "marker": {
          "color": "green",
          "size": 0.5
         },
         "mode": "markers",
         "text": "Excel appears with Python 425 times",
         "type": "scatter",
         "x": [
          0.666323377827598
         ],
         "y": [
          0.6049902116236429
         ]
        },
        {
         "hoverinfo": "text",
         "marker": {
          "color": "blue",
          "size": 0.5
         },
         "mode": "markers",
         "text": "Python appears with Excel 425 times",
         "type": "scatter",
         "x": [
          0.7810686993264145
         ],
         "y": [
          -0.4471372126456744
         ]
        },
        {
         "hoverinfo": "text",
         "marker": {
          "color": "green",
          "size": 0.5
         },
         "mode": "markers",
         "text": "Excel appears with VBA 297 times",
         "type": "scatter",
         "x": [
          0.7065060975688736
         ],
         "y": [
          0.5575384597478468
         ]
        },
        {
         "hoverinfo": "text",
         "marker": {
          "color": "blue",
          "size": 0.5
         },
         "mode": "markers",
         "text": "VBA appears with Excel 297 times",
         "type": "scatter",
         "x": [
          0.8499358404217194
         ],
         "y": [
          -0.29598828890114126
         ]
        },
        {
         "hoverinfo": "text",
         "marker": {
          "color": "green",
          "size": 0.5
         },
         "mode": "markers",
         "text": "Excel appears with Linux 92 times",
         "type": "scatter",
         "x": [
          0.8294883141553905
         ],
         "y": [
          0.34921216570968455
         ]
        },
        {
         "hoverinfo": "text",
         "marker": {
          "color": "blue",
          "size": 0.5
         },
         "mode": "markers",
         "text": "Linux appears with Excel 92 times",
         "type": "scatter",
         "x": [
          0.8801190418321906
         ],
         "y": [
          -0.188123555687178
         ]
        },
        {
         "hoverinfo": "text",
         "marker": {
          "color": "green",
          "size": 0.5
         },
         "mode": "markers",
         "text": "Excel appears with AWS 65 times",
         "type": "scatter",
         "x": [
          0.8476728227950179
         ],
         "y": [
          0.30240830923558676
         ]
        },
        {
         "hoverinfo": "text",
         "marker": {
          "color": "blue",
          "size": 0.5
         },
         "mode": "markers",
         "text": "AWS appears with Excel 65 times",
         "type": "scatter",
         "x": [
          0.897515133077345
         ],
         "y": [
          -0.0668325212539204
         ]
        },
        {
         "hoverinfo": "text",
         "marker": {
          "color": "green",
          "size": 0.5
         },
         "mode": "markers",
         "text": "SSIS/SSRS appears with MS SQL Server 300 times",
         "type": "scatter",
         "x": [
          0.005896625127335985
         ],
         "y": [
          0.8999806830216456
         ]
        },
        {
         "hoverinfo": "text",
         "marker": {
          "color": "blue",
          "size": 0.5
         },
         "mode": "markers",
         "text": "MS SQL Server appears with SSIS/SSRS 300 times",
         "type": "scatter",
         "x": [
          -0.5033426500542574
         ],
         "y": [
          0.7460872446546433
         ]
        },
        {
         "hoverinfo": "text",
         "marker": {
          "color": "green",
          "size": 0.5
         },
         "mode": "markers",
         "text": "SSIS/SSRS appears with PostgreSQL 66 times",
         "type": "scatter",
         "x": [
          0.21944278808709786
         ],
         "y": [
          0.8728372487219831
         ]
        },
        {
         "hoverinfo": "text",
         "marker": {
          "color": "blue",
          "size": 0.5
         },
         "mode": "markers",
         "text": "PostgreSQL appears with SSIS/SSRS 66 times",
         "type": "scatter",
         "x": [
          -0.5787250307216223
         ],
         "y": [
          0.6892585427952688
         ]
        },
        {
         "hoverinfo": "text",
         "marker": {
          "color": "green",
          "size": 0.5
         },
         "mode": "markers",
         "text": "SSIS/SSRS appears with MySQL/MariaDB 91 times",
         "type": "scatter",
         "x": [
          0.1939903280026449
         ],
         "y": [
          0.8788445554484742
         ]
        },
        {
         "hoverinfo": "text",
         "marker": {
          "color": "blue",
          "size": 0.5
         },
         "mode": "markers",
         "text": "MySQL/MariaDB appears with SSIS/SSRS 91 times",
         "type": "scatter",
         "x": [
          -0.6825850926172639
         ],
         "y": [
          0.5865812742806246
         ]
        },
        {
         "hoverinfo": "text",
         "marker": {
          "color": "green",
          "size": 0.5
         },
         "mode": "markers",
         "text": "SSIS/SSRS appears with T-SQL 158 times",
         "type": "scatter",
         "x": [
          0.1134007372012822
         ],
         "y": [
          0.8928271236931625
         ]
        },
        {
         "hoverinfo": "text",
         "marker": {
          "color": "blue",
          "size": 0.5
         },
         "mode": "markers",
         "text": "T-SQL appears with SSIS/SSRS 158 times",
         "type": "scatter",
         "x": [
          -0.8008460659691123
         ],
         "y": [
          0.410664800806931
         ]
        },
        {
         "hoverinfo": "text",
         "marker": {
          "color": "green",
          "size": 0.5
         },
         "mode": "markers",
         "text": "SSIS/SSRS appears with PL/SQL 66 times",
         "type": "scatter",
         "x": [
          0.23019099256242329
         ],
         "y": [
          0.8700644268921276
         ]
        },
        {
         "hoverinfo": "text",
         "marker": {
          "color": "blue",
          "size": 0.5
         },
         "mode": "markers",
         "text": "PL/SQL appears with SSIS/SSRS 66 times",
         "type": "scatter",
         "x": [
          -0.8614088836538238
         ],
         "y": [
          0.2607196485926465
         ]
        },
        {
         "hoverinfo": "text",
         "marker": {
          "color": "green",
          "size": 0.5
         },
         "mode": "markers",
         "text": "SSIS/SSRS appears with Pentaho 37 times",
         "type": "scatter",
         "x": [
          0.265033132177459
         ],
         "y": [
          0.8600915293433633
         ]
        },
        {
         "hoverinfo": "text",
         "marker": {
          "color": "blue",
          "size": 0.5
         },
         "mode": "markers",
         "text": "Pentaho appears with SSIS/SSRS 37 times",
         "type": "scatter",
         "x": [
          -0.8790403773832393
         ],
         "y": [
          0.19310104849516566
         ]
        },
        {
         "hoverinfo": "text",
         "marker": {
          "color": "green",
          "size": 0.5
         },
         "mode": "markers",
         "text": "SSIS/SSRS appears with Hadoop 63 times",
         "type": "scatter",
         "x": [
          0.24066110096061105
         ],
         "y": [
          0.8672267491748779
         ]
        },
        {
         "hoverinfo": "text",
         "marker": {
          "color": "blue",
          "size": 0.5
         },
         "mode": "markers",
         "text": "Hadoop appears with SSIS/SSRS 63 times",
         "type": "scatter",
         "x": [
          -0.8970841320996414
         ],
         "y": [
          0.07238825826771261
         ]
        },
        {
         "hoverinfo": "text",
         "marker": {
          "color": "green",
          "size": 0.5
         },
         "mode": "markers",
         "text": "SSIS/SSRS appears with Spark 63 times",
         "type": "scatter",
         "x": [
          0.2508539771182474
         ],
         "y": [
          0.8643334322840682
         ]
        },
        {
         "hoverinfo": "text",
         "marker": {
          "color": "blue",
          "size": 0.5
         },
         "mode": "markers",
         "text": "Spark appears with SSIS/SSRS 63 times",
         "type": "scatter",
         "x": [
          -0.8897630665697606
         ],
         "y": [
          -0.13535762028188783
         ]
        },
        {
         "hoverinfo": "text",
         "marker": {
          "color": "green",
          "size": 0.5
         },
         "mode": "markers",
         "text": "SSIS/SSRS appears with Informatica 77 times",
         "type": "scatter",
         "x": [
          0.20776128248441778
         ],
         "y": [
          0.875691298061383
         ]
        },
        {
         "hoverinfo": "text",
         "marker": {
          "color": "blue",
          "size": 0.5
         },
         "mode": "markers",
         "text": "Informatica appears with SSIS/SSRS 77 times",
         "type": "scatter",
         "x": [
          -0.8369497238965404
         ],
         "y": [
          -0.33093074754320545
         ]
        },
        {
         "hoverinfo": "text",
         "marker": {
          "color": "green",
          "size": 0.5
         },
         "mode": "markers",
         "text": "SSIS/SSRS appears with Qlik 102 times",
         "type": "scatter",
         "x": [
          0.17811133526147546
         ],
         "y": [
          0.8821997235611527
         ]
        },
        {
         "hoverinfo": "text",
         "marker": {
          "color": "blue",
          "size": 0.5
         },
         "mode": "markers",
         "text": "Qlik appears with SSIS/SSRS 102 times",
         "type": "scatter",
         "x": [
          -0.7506402560747539
         ],
         "y": [
          -0.4965271452398427
         ]
        },
        {
         "hoverinfo": "text",
         "marker": {
          "color": "green",
          "size": 0.5
         },
         "mode": "markers",
         "text": "SSIS/SSRS appears with Tableau 212 times",
         "type": "scatter",
         "x": [
          0.04892777919330868
         ],
         "y": [
          0.8986690561175515
         ]
        },
        {
         "hoverinfo": "text",
         "marker": {
          "color": "blue",
          "size": 0.5
         },
         "mode": "markers",
         "text": "Tableau appears with SSIS/SSRS 212 times",
         "type": "scatter",
         "x": [
          -0.40701632682233463
         ],
         "y": [
          -0.8027064903811695
         ]
        },
        {
         "hoverinfo": "text",
         "marker": {
          "color": "green",
          "size": 0.5
         },
         "mode": "markers",
         "text": "SSIS/SSRS appears with Microstrategy 38 times",
         "type": "scatter",
         "x": [
          0.258999419509465
         ],
         "y": [
          0.8619276655809118
         ]
        },
        {
         "hoverinfo": "text",
         "marker": {
          "color": "blue",
          "size": 0.5
         },
         "mode": "markers",
         "text": "Microstrategy appears with SSIS/SSRS 38 times",
         "type": "scatter",
         "x": [
          -0.08479400663494795
         ],
         "y": [
          -0.8959966386314138
         ]
        },
        {
         "hoverinfo": "text",
         "marker": {
          "color": "green",
          "size": 0.5
         },
         "mode": "markers",
         "text": "SSIS/SSRS appears with Oracle BI 336 times",
         "type": "scatter",
         "x": [
          -0.047563850738980826
         ],
         "y": [
          0.8987422767973475
         ]
        },
        {
         "hoverinfo": "text",
         "marker": {
          "color": "blue",
          "size": 0.5
         },
         "mode": "markers",
         "text": "Oracle BI appears with SSIS/SSRS 336 times",
         "type": "scatter",
         "x": [
          0.26265066507896373
         ],
         "y": [
          -0.86082206531523
         ]
        },
        {
         "hoverinfo": "text",
         "marker": {
          "color": "green",
          "size": 0.5
         },
         "mode": "markers",
         "text": "SSIS/SSRS appears with Python 200 times",
         "type": "scatter",
         "x": [
          0.0834777684367939
         ],
         "y": [
          0.8961202275235244
         ]
        },
        {
         "hoverinfo": "text",
         "marker": {
          "color": "blue",
          "size": 0.5
         },
         "mode": "markers",
         "text": "Python appears with SSIS/SSRS 200 times",
         "type": "scatter",
         "x": [
          0.7123859959387997
         ],
         "y": [
          -0.5500056297805365
         ]
        },
        {
         "hoverinfo": "text",
         "marker": {
          "color": "green",
          "size": 0.5
         },
         "mode": "markers",
         "text": "SSIS/SSRS appears with VBA 104 times",
         "type": "scatter",
         "x": [
          0.16109899894848423
         ],
         "y": [
          0.885464348541372
         ]
        },
        {
         "hoverinfo": "text",
         "marker": {
          "color": "blue",
          "size": 0.5
         },
         "mode": "markers",
         "text": "VBA appears with SSIS/SSRS 104 times",
         "type": "scatter",
         "x": [
          0.8399136827723046
         ],
         "y": [
          -0.3233342009312726
         ]
        },
        {
         "hoverinfo": "text",
         "marker": {
          "color": "green",
          "size": 0.5
         },
         "mode": "markers",
         "text": "SSIS/SSRS appears with Linux 25 times",
         "type": "scatter",
         "x": [
          0.27530044670776543
         ],
         "y": [
          0.8568603527077822
         ]
        },
        {
         "hoverinfo": "text",
         "marker": {
          "color": "blue",
          "size": 0.5
         },
         "mode": "markers",
         "text": "Linux appears with SSIS/SSRS 25 times",
         "type": "scatter",
         "x": [
          0.8678109661529059
         ],
         "y": [
          -0.23854585937458692
         ]
        },
        {
         "hoverinfo": "text",
         "marker": {
          "color": "green",
          "size": 0.5
         },
         "mode": "markers",
         "text": "SSIS/SSRS appears with AWS 33 times",
         "type": "scatter",
         "x": [
          0.2706528607370795
         ],
         "y": [
          0.8583396932303872
         ]
        },
        {
         "hoverinfo": "text",
         "marker": {
          "color": "blue",
          "size": 0.5
         },
         "mode": "markers",
         "text": "AWS appears with SSIS/SSRS 33 times",
         "type": "scatter",
         "x": [
          0.8955884688065041
         ],
         "y": [
          -0.08900165470833354
         ]
        },
        {
         "hoverinfo": "text",
         "marker": {
          "color": "green",
          "size": 0.5
         },
         "mode": "markers",
         "text": "MS SQL Server appears with PostgreSQL 102 times",
         "type": "scatter",
         "x": [
          -0.29288462422783823
         ],
         "y": [
          0.8510103388860315
         ]
        },
        {
         "hoverinfo": "text",
         "marker": {
          "color": "blue",
          "size": 0.5
         },
         "mode": "markers",
         "text": "PostgreSQL appears with MS SQL Server 102 times",
         "type": "scatter",
         "x": [
          -0.5951521057984173
         ],
         "y": [
          0.6751251520745688
         ]
        },
        {
         "hoverinfo": "text",
         "marker": {
          "color": "green",
          "size": 0.5
         },
         "mode": "markers",
         "text": "MS SQL Server appears with MySQL/MariaDB 107 times",
         "type": "scatter",
         "x": [
          -0.30910343864965334
         ],
         "y": [
          0.845254437560052
         ]
        },
        {
         "hoverinfo": "text",
         "marker": {
          "color": "blue",
          "size": 0.5
         },
         "mode": "markers",
         "text": "MySQL/MariaDB appears with MS SQL Server 107 times",
         "type": "scatter",
         "x": [
          -0.6919990994707744
         ],
         "y": [
          0.575445259196422
         ]
        },
        {
         "hoverinfo": "text",
         "marker": {
          "color": "green",
          "size": 0.5
         },
         "mode": "markers",
         "text": "MS SQL Server appears with T-SQL 204 times",
         "type": "scatter",
         "x": [
          -0.39757093477563116
         ],
         "y": [
          0.8074263754805331
         ]
        },
        {
         "hoverinfo": "text",
         "marker": {
          "color": "blue",
          "size": 0.5
         },
         "mode": "markers",
         "text": "T-SQL appears with MS SQL Server 204 times",
         "type": "scatter",
         "x": [
          -0.8366456610889615
         ],
         "y": [
          0.33169871537438106
         ]
        },
        {
         "hoverinfo": "text",
         "marker": {
          "color": "green",
          "size": 0.5
         },
         "mode": "markers",
         "text": "MS SQL Server appears with PL/SQL 14 times",
         "type": "scatter",
         "x": [
          -0.21774246045395454
         ],
         "y": [
          0.8732629735168314
         ]
        },
        {
         "hoverinfo": "text",
         "marker": {
          "color": "blue",
          "size": 0.5
         },
         "mode": "markers",
         "text": "PL/SQL appears with MS SQL Server 14 times",
         "type": "scatter",
         "x": [
          -0.8541693155263481
         ],
         "y": [
          0.28353973339419297
         ]
        },
        {
         "hoverinfo": "text",
         "marker": {
          "color": "green",
          "size": 0.5
         },
         "mode": "markers",
         "text": "MS SQL Server appears with Pentaho 51 times",
         "type": "scatter",
         "x": [
          -0.24836211164560715
         ],
         "y": [
          0.8650527507030626
         ]
        },
        {
         "hoverinfo": "text",
         "marker": {
          "color": "blue",
          "size": 0.5
         },
         "mode": "markers",
         "text": "Pentaho appears with MS SQL Server 51 times",
         "type": "scatter",
         "x": [
          -0.8854713981718487
         ],
         "y": [
          0.16106024655262172
         ]
        },
        {
         "hoverinfo": "text",
         "marker": {
          "color": "green",
          "size": 0.5
         },
         "mode": "markers",
         "text": "MS SQL Server appears with Hadoop 49 times",
         "type": "scatter",
         "x": [
          -0.24043705243675162
         ],
         "y": [
          0.8672888929390983
         ]
        },
        {
         "hoverinfo": "text",
         "marker": {
          "color": "blue",
          "size": 0.5
         },
         "mode": "markers",
         "text": "Hadoop appears with MS SQL Server 49 times",
         "type": "scatter",
         "x": [
          -0.8963594124727795
         ],
         "y": [
          0.08086905261874712
         ]
        },
        {
         "hoverinfo": "text",
         "marker": {
          "color": "green",
          "size": 0.5
         },
         "mode": "markers",
         "text": "MS SQL Server appears with Spark 48 times",
         "type": "scatter",
         "x": [
          -0.23273050781574875
         ],
         "y": [
          0.8693885844269085
         ]
        },
        {
         "hoverinfo": "text",
         "marker": {
          "color": "blue",
          "size": 0.5
         },
         "mode": "markers",
         "text": "Spark appears with MS SQL Server 48 times",
         "type": "scatter",
         "x": [
          -0.8922328843209396
         ],
         "y": [
          -0.11798508438076674
         ]
        },
        {
         "hoverinfo": "text",
         "marker": {
          "color": "green",
          "size": 0.5
         },
         "mode": "markers",
         "text": "MS SQL Server appears with Informatica 72 times",
         "type": "scatter",
         "x": [
          -0.26784652033645906
         ],
         "y": [
          0.8592195537484298
         ]
        },
        {
         "hoverinfo": "text",
         "marker": {
          "color": "blue",
          "size": 0.5
         },
         "mode": "markers",
         "text": "Informatica appears with MS SQL Server 72 times",
         "type": "scatter",
         "x": [
          -0.8408421052059062
         ],
         "y": [
          -0.32091206601326133
         ]
        },
        {
         "hoverinfo": "text",
         "marker": {
          "color": "green",
          "size": 0.5
         },
         "mode": "markers",
         "text": "MS SQL Server appears with Qlik 73 times",
         "type": "scatter",
         "x": [
          -0.2792216500640908
         ],
         "y": [
          0.8555905972692117
         ]
        },
        {
         "hoverinfo": "text",
         "marker": {
          "color": "blue",
          "size": 0.5
         },
         "mode": "markers",
         "text": "Qlik appears with MS SQL Server 73 times",
         "type": "scatter",
         "x": [
          -0.7736034234849837
         ],
         "y": [
          -0.45993232455689936
         ]
        },
        {
         "hoverinfo": "text",
         "marker": {
          "color": "green",
          "size": 0.5
         },
         "mode": "markers",
         "text": "MS SQL Server appears with Tableau 139 times",
         "type": "scatter",
         "x": [
          -0.34834604536955865
         ],
         "y": [
          0.8298524162014529
         ]
        },
        {
         "hoverinfo": "text",
         "marker": {
          "color": "blue",
          "size": 0.5
         },
         "mode": "markers",
         "text": "Tableau appears with MS SQL Server 139 times",
         "type": "scatter",
         "x": [
          -0.45884850775034197
         ],
         "y": [
          -0.774246761010522
         ]
        },
        {
         "hoverinfo": "text",
         "marker": {
          "color": "green",
          "size": 0.5
         },
         "mode": "markers",
         "text": "MS SQL Server appears with Microstrategy 24 times",
         "type": "scatter",
         "x": [
          -0.22077729776271626
         ],
         "y": [
          0.8725006503106992
         ]
        },
        {
         "hoverinfo": "text",
         "marker": {
          "color": "blue",
          "size": 0.5
         },
         "mode": "markers",
         "text": "Microstrategy appears with MS SQL Server 24 times",
         "type": "scatter",
         "x": [
          -0.0952359149113413
         ],
         "y": [
          -0.894946993129202
         ]
        },
        {
         "hoverinfo": "text",
         "marker": {
          "color": "green",
          "size": 0.5
         },
         "mode": "markers",
         "text": "MS SQL Server appears with Oracle BI 208 times",
         "type": "scatter",
         "x": [
          -0.42771788767652275
         ],
         "y": [
          0.7918695653714275
         ]
        },
        {
         "hoverinfo": "text",
         "marker": {
          "color": "blue",
          "size": 0.5
         },
         "mode": "markers",
         "text": "Oracle BI appears with MS SQL Server 208 times",
         "type": "scatter",
         "x": [
          0.18201818951598897
         ],
         "y": [
          -0.8814019393473794
         ]
        },
        {
         "hoverinfo": "text",
         "marker": {
          "color": "green",
          "size": 0.5
         },
         "mode": "markers",
         "text": "MS SQL Server appears with Python 133 times",
         "type": "scatter",
         "x": [
          -0.32758813965173245
         ],
         "y": [
          0.8382636880835989
         ]
        },
        {
         "hoverinfo": "text",
         "marker": {
          "color": "blue",
          "size": 0.5
         },
         "mode": "markers",
         "text": "Python appears with MS SQL Server 133 times",
         "type": "scatter",
         "x": [
          0.6539770942727307
         ],
         "y": [
          -0.6183154212589203
         ]
        },
        {
         "hoverinfo": "text",
         "marker": {
          "color": "green",
          "size": 0.5
         },
         "mode": "markers",
         "text": "MS SQL Server appears with VBA 39 times",
         "type": "scatter",
         "x": [
          -0.2258028408469249
         ],
         "y": [
          0.8712135657033001
         ]
        },
        {
         "hoverinfo": "text",
         "marker": {
          "color": "blue",
          "size": 0.5
         },
         "mode": "markers",
         "text": "VBA appears with MS SQL Server 39 times",
         "type": "scatter",
         "x": [
          0.8192685122656185
         ],
         "y": [
          -0.3725575187941857
         ]
        },
        {
         "hoverinfo": "text",
         "marker": {
          "color": "green",
          "size": 0.5
         },
         "mode": "markers",
         "text": "MS SQL Server appears with Linux 62 times",
         "type": "scatter",
         "x": [
          -0.2572923731647398
         ],
         "y": [
          0.8624387715723686
         ]
        },
        {
         "hoverinfo": "text",
         "marker": {
          "color": "blue",
          "size": 0.5
         },
         "mode": "markers",
         "text": "Linux appears with MS SQL Server 62 times",
         "type": "scatter",
         "x": [
          0.8777279036496911
         ],
         "y": [
          -0.1989817256803211
         ]
        },
        {
         "hoverinfo": "text",
         "marker": {
          "color": "green",
          "size": 0.5
         },
         "mode": "markers",
         "text": "MS SQL Server appears with AWS 13 times",
         "type": "scatter",
         "x": [
          -0.21558452703898798
         ],
         "y": [
          0.8737982099440212
         ]
        },
        {
         "hoverinfo": "text",
         "marker": {
          "color": "blue",
          "size": 0.5
         },
         "mode": "markers",
         "text": "AWS appears with MS SQL Server 13 times",
         "type": "scatter",
         "x": [
          0.8946051792940137
         ],
         "y": [
          -0.09839498554461831
         ]
        },
        {
         "hoverinfo": "text",
         "marker": {
          "color": "green",
          "size": 0.5
         },
         "mode": "markers",
         "text": "PostgreSQL appears with MySQL/MariaDB 112 times",
         "type": "scatter",
         "x": [
          -0.6058134583958669
         ],
         "y": [
          0.6655749797178673
         ]
        },
        {
         "hoverinfo": "text",
         "marker": {
          "color": "blue",
          "size": 0.5
         },
         "mode": "markers",
         "text": "MySQL/MariaDB appears with PostgreSQL 112 times",
         "type": "scatter",
         "x": [
          -0.7021998817822113
         ],
         "y": [
          0.5629523301533164
         ]
        },
        {
         "hoverinfo": "text",
         "marker": {
          "color": "green",
          "size": 0.5
         },
         "mode": "markers",
         "text": "PostgreSQL appears with T-SQL 45 times",
         "type": "scatter",
         "x": [
          -0.5569852710730145
         ],
         "y": [
          0.7069422945387556
         ]
        },
        {
         "hoverinfo": "text",
         "marker": {
          "color": "blue",
          "size": 0.5
         },
         "mode": "markers",
         "text": "T-SQL appears with PostgreSQL 45 times",
         "type": "scatter",
         "x": [
          -0.7624126119646459
         ],
         "y": [
          0.4782541260849157
         ]
        },
        {
         "hoverinfo": "text",
         "marker": {
          "color": "green",
          "size": 0.5
         },
         "mode": "markers",
         "text": "PostgreSQL appears with PL/SQL 3 times",
         "type": "scatter",
         "x": [
          -0.5467354080023153
         ],
         "y": [
          0.7148988695169001
         ]
        },
        {
         "hoverinfo": "text",
         "marker": {
          "color": "blue",
          "size": 0.5
         },
         "mode": "markers",
         "text": "PL/SQL appears with PostgreSQL 3 times",
         "type": "scatter",
         "x": [
          -0.8522836280376285
         ],
         "y": [
          0.28915846413172375
         ]
        },
        {
         "hoverinfo": "text",
         "marker": {
          "color": "green",
          "size": 0.5
         },
         "mode": "markers",
         "text": "PostgreSQL appears with Pentaho 52 times",
         "type": "scatter",
         "x": [
          -0.5672751516096772
         ],
         "y": [
          0.6987123173139413
         ]
        },
        {
         "hoverinfo": "text",
         "marker": {
          "color": "blue",
          "size": 0.5
         },
         "mode": "markers",
         "text": "Pentaho appears with PostgreSQL 52 times",
         "type": "scatter",
         "x": [
          -0.8866560565489707
         ],
         "y": [
          0.1544054318507886
         ]
        },
        {
         "hoverinfo": "text",
         "marker": {
          "color": "green",
          "size": 0.5
         },
         "mode": "markers",
         "text": "PostgreSQL appears with Hadoop 4 times",
         "type": "scatter",
         "x": [
          -0.5471072375970862
         ],
         "y": [
          0.7146143509396418
         ]
        },
        {
         "hoverinfo": "text",
         "marker": {
          "color": "blue",
          "size": 0.5
         },
         "mode": "markers",
         "text": "Hadoop appears with PostgreSQL 4 times",
         "type": "scatter",
         "x": [
          -0.8938738492222256
         ],
         "y": [
          0.10483101486030756
         ]
        },
        {
         "hoverinfo": "text",
         "marker": {
          "color": "green",
          "size": 0.5
         },
         "mode": "markers",
         "text": "PostgreSQL appears with Spark 13 times",
         "type": "scatter",
         "x": [
          -0.5492821200538365
         ],
         "y": [
          0.7129440038243978
         ]
        },
        {
         "hoverinfo": "text",
         "marker": {
          "color": "blue",
          "size": 0.5
         },
         "mode": "markers",
         "text": "Spark appears with PostgreSQL 13 times",
         "type": "scatter",
         "x": [
          -0.8954526698817054
         ],
         "y": [
          -0.09035771135728031
         ]
        },
        {
         "hoverinfo": "text",
         "marker": {
          "color": "green",
          "size": 0.5
         },
         "mode": "markers",
         "text": "PostgreSQL appears with Informatica 2 times",
         "type": "scatter",
         "x": [
          -0.5464697248400809
         ],
         "y": [
          0.7151019786248716
         ]
        },
        {
         "hoverinfo": "text",
         "marker": {
          "color": "blue",
          "size": 0.5
         },
         "mode": "markers",
         "text": "Informatica appears with PostgreSQL 2 times",
         "type": "scatter",
         "x": [
          -0.8543944799800921
         ],
         "y": [
          -0.28286051788743516
         ]
        },
        {
         "hoverinfo": "text",
         "marker": {
          "color": "green",
          "size": 0.5
         },
         "mode": "markers",
         "text": "PostgreSQL appears with Qlik 14 times",
         "type": "scatter",
         "x": [
          -0.5507115760502229
         ],
         "y": [
          0.7118404034643437
         ]
        },
        {
         "hoverinfo": "text",
         "marker": {
          "color": "blue",
          "size": 0.5
         },
         "mode": "markers",
         "text": "Qlik appears with PostgreSQL 14 times",
         "type": "scatter",
         "x": [
          -0.7947839717909473
         ],
         "y": [
          -0.42227767900305446
         ]
        },
        {
         "hoverinfo": "text",
         "marker": {
          "color": "green",
          "size": 0.5
         },
         "mode": "markers",
         "text": "PostgreSQL appears with Tableau 6 times",
         "type": "scatter",
         "x": [
          -0.5476381658650841
         ],
         "y": [
          0.7142075603687815
         ]
        },
        {
         "hoverinfo": "text",
         "marker": {
          "color": "blue",
          "size": 0.5
         },
         "mode": "markers",
         "text": "Tableau appears with PostgreSQL 6 times",
         "type": "scatter",
         "x": [
          -0.5639279981494983
         ],
         "y": [
          -0.7014165758685059
         ]
        },
        {
         "hoverinfo": "text",
         "marker": {
          "color": "green",
          "size": 0.5
         },
         "mode": "markers",
         "text": "PostgreSQL appears with Oracle BI 52 times",
         "type": "scatter",
         "x": [
          -0.5726584739046138
         ],
         "y": [
          0.6943070446605297
         ]
        },
        {
         "hoverinfo": "text",
         "marker": {
          "color": "blue",
          "size": 0.5
         },
         "mode": "markers",
         "text": "Oracle BI appears with PostgreSQL 52 times",
         "type": "scatter",
         "x": [
          -0.01504567847341962
         ],
         "y": [
          -0.8998742287449255
         ]
        },
        {
         "hoverinfo": "text",
         "marker": {
          "color": "green",
          "size": 0.5
         },
         "mode": "markers",
         "text": "PostgreSQL appears with Python 30 times",
         "type": "scatter",
         "x": [
          -0.5530363063608428
         ],
         "y": [
          0.7100358046230881
         ]
        },
        {
         "hoverinfo": "text",
         "marker": {
          "color": "blue",
          "size": 0.5
         },
         "mode": "markers",
         "text": "Python appears with PostgreSQL 30 times",
         "type": "scatter",
         "x": [
          0.5597801138723163
         ],
         "y": [
          -0.7047313134188778
         ]
        },
        {
         "hoverinfo": "text",
         "marker": {
          "color": "green",
          "size": 0.5
         },
         "mode": "markers",
         "text": "PostgreSQL appears with Linux 50 times",
         "type": "scatter",
         "x": [
          -0.5619624369297572
         ],
         "y": [
          0.7029923324474945
         ]
        },
        {
         "hoverinfo": "text",
         "marker": {
          "color": "blue",
          "size": 0.5
         },
         "mode": "markers",
         "text": "Linux appears with PostgreSQL 50 times",
         "type": "scatter",
         "x": [
          0.8740797181973596
         ],
         "y": [
          -0.21444030926116547
         ]
        },
        {
         "hoverinfo": "text",
         "marker": {
          "color": "green",
          "size": 0.5
         },
         "mode": "markers",
         "text": "PostgreSQL appears with AWS 6 times",
         "type": "scatter",
         "x": [
          -0.5482748805125994
         ],
         "y": [
          0.7137188910200534
         ]
        },
        {
         "hoverinfo": "text",
         "marker": {
          "color": "blue",
          "size": 0.5
         },
         "mode": "markers",
         "text": "AWS appears with PostgreSQL 6 times",
         "type": "scatter",
         "x": [
          0.8943548152866627
         ],
         "y": [
          -0.10064524019326235
         ]
        },
        {
         "hoverinfo": "text",
         "marker": {
          "color": "green",
          "size": 0.5
         },
         "mode": "markers",
         "text": "MySQL/MariaDB appears with T-SQL 43 times",
         "type": "scatter",
         "x": [
          -0.6426472318280405
         ],
         "y": [
          0.6300829591599482
         ]
        },
        {
         "hoverinfo": "text",
         "marker": {
          "color": "blue",
          "size": 0.5
         },
         "mode": "markers",
         "text": "T-SQL appears with MySQL/MariaDB 43 times",
         "type": "scatter",
         "x": [
          -0.7548199634317226
         ],
         "y": [
          0.4901497962918407
         ]
        },
        {
         "hoverinfo": "text",
         "marker": {
          "color": "green",
          "size": 0.5
         },
         "mode": "markers",
         "text": "MySQL/MariaDB appears with PL/SQL 1 times",
         "type": "scatter",
         "x": [
          -0.6318302178991378
         ],
         "y": [
          0.6409294623821938
         ]
        },
        {
         "hoverinfo": "text",
         "marker": {
          "color": "blue",
          "size": 0.5
         },
         "mode": "markers",
         "text": "PL/SQL appears with MySQL/MariaDB 1 times",
         "type": "scatter",
         "x": [
          -0.8520193271176723
         ],
         "y": [
          0.28993631407250275
         ]
        },
        {
         "hoverinfo": "text",
         "marker": {
          "color": "green",
          "size": 0.5
         },
         "mode": "markers",
         "text": "MySQL/MariaDB appears with Pentaho 70 times",
         "type": "scatter",
         "x": [
          -0.6670422587203586
         ],
         "y": [
          0.6041975050273232
         ]
        },
        {
         "hoverinfo": "text",
         "marker": {
          "color": "blue",
          "size": 0.5
         },
         "mode": "markers",
         "text": "Pentaho appears with MySQL/MariaDB 70 times",
         "type": "scatter",
         "x": [
          -0.8894037731792422
         ],
         "y": [
          0.13769868646623712
         ]
        },
        {
         "hoverinfo": "text",
         "marker": {
          "color": "green",
          "size": 0.5
         },
         "mode": "markers",
         "text": "MySQL/MariaDB appears with Hadoop 9 times",
         "type": "scatter",
         "x": [
          -0.633715580160221
         ],
         "y": [
          0.639065382775655
         ]
        },
        {
         "hoverinfo": "text",
         "marker": {
          "color": "blue",
          "size": 0.5
         },
         "mode": "markers",
         "text": "Hadoop appears with MySQL/MariaDB 9 times",
         "type": "scatter",
         "x": [
          -0.8941970143798407
         ],
         "y": [
          0.10203773554023546
         ]
        },
        {
         "hoverinfo": "text",
         "marker": {
          "color": "green",
          "size": 0.5
         },
         "mode": "markers",
         "text": "MySQL/MariaDB appears with Spark 32 times",
         "type": "scatter",
         "x": [
          -0.6387681656586316
         ],
         "y": [
          0.6340151658604919
         ]
        },
        {
         "hoverinfo": "text",
         "marker": {
          "color": "blue",
          "size": 0.5
         },
         "mode": "markers",
         "text": "Spark appears with MySQL/MariaDB 32 times",
         "type": "scatter",
         "x": [
          -0.8945755718839654
         ],
         "y": [
          -0.09866380384151126
         ]
        },
        {
         "hoverinfo": "text",
         "marker": {
          "color": "green",
          "size": 0.5
         },
         "mode": "markers",
         "text": "MySQL/MariaDB appears with Informatica 11 times",
         "type": "scatter",
         "x": [
          -0.6347606283382418
         ],
         "y": [
          0.6380273855498999
         ]
        },
        {
         "hoverinfo": "text",
         "marker": {
          "color": "blue",
          "size": 0.5
         },
         "mode": "markers",
         "text": "Informatica appears with MySQL/MariaDB 11 times",
         "type": "scatter",
         "x": [
          -0.8534145259359966
         ],
         "y": [
          -0.2858035110376326
         ]
        },
        {
         "hoverinfo": "text",
         "marker": {
          "color": "green",
          "size": 0.5
         },
         "mode": "markers",
         "text": "MySQL/MariaDB appears with Qlik 17 times",
         "type": "scatter",
         "x": [
          -0.6362208388424085
         ],
         "y": [
          0.6365713190386935
         ]
        },
        {
         "hoverinfo": "text",
         "marker": {
          "color": "blue",
          "size": 0.5
         },
         "mode": "markers",
         "text": "Qlik appears with MySQL/MariaDB 17 times",
         "type": "scatter",
         "x": [
          -0.7923380818659731
         ],
         "y": [
          -0.4268493458176438
         ]
        },
        {
         "hoverinfo": "text",
         "marker": {
          "color": "green",
          "size": 0.5
         },
         "mode": "markers",
         "text": "MySQL/MariaDB appears with Tableau 64 times",
         "type": "scatter",
         "x": [
          -0.6536325669775155
         ],
         "y": [
          0.6186796161070638
         ]
        },
        {
         "hoverinfo": "text",
         "marker": {
          "color": "blue",
          "size": 0.5
         },
         "mode": "markers",
         "text": "Tableau appears with MySQL/MariaDB 64 times",
         "type": "scatter",
         "x": [
          -0.5328492330476197
         ],
         "y": [
          -0.7253079999838438
         ]
        },
        {
         "hoverinfo": "text",
         "marker": {
          "color": "green",
          "size": 0.5
         },
         "mode": "markers",
         "text": "MySQL/MariaDB appears with Oracle BI 79 times",
         "type": "scatter",
         "x": [
          -0.6743592963436326
         ],
         "y": [
          0.5960197475209364
         ]
        },
        {
         "hoverinfo": "text",
         "marker": {
          "color": "blue",
          "size": 0.5
         },
         "mode": "markers",
         "text": "Oracle BI appears with MySQL/MariaDB 79 times",
         "type": "scatter",
         "x": [
          0.038822312979300715
         ],
         "y": [
          -0.899162292367144
         ]
        },
        {
         "hoverinfo": "text",
         "marker": {
          "color": "green",
          "size": 0.5
         },
         "mode": "markers",
         "text": "MySQL/MariaDB appears with Python 67 times",
         "type": "scatter",
         "x": [
          -0.6602269818463153
         ],
         "y": [
          0.6116374190990159
         ]
        },
        {
         "hoverinfo": "text",
         "marker": {
          "color": "blue",
          "size": 0.5
         },
         "mode": "markers",
         "text": "Python appears with MySQL/MariaDB 67 times",
         "type": "scatter",
         "x": [
          0.5820479866490259
         ],
         "y": [
          -0.6864547627031335
         ]
        },
        {
         "hoverinfo": "text",
         "marker": {
          "color": "green",
          "size": 0.5
         },
         "mode": "markers",
         "text": "MySQL/MariaDB appears with VBA 6 times",
         "type": "scatter",
         "x": [
          -0.6329306799608091
         ],
         "y": [
          0.6398427575305887
         ]
        },
        {
         "hoverinfo": "text",
         "marker": {
          "color": "blue",
          "size": 0.5
         },
         "mode": "markers",
         "text": "VBA appears with MySQL/MariaDB 6 times",
         "type": "scatter",
         "x": [
          0.811930629851518
         ],
         "y": [
          -0.3882893924754029
         ]
        },
        {
         "hoverinfo": "text",
         "marker": {
          "color": "green",
          "size": 0.5
         },
         "mode": "markers",
         "text": "MySQL/MariaDB appears with Linux 54 times",
         "type": "scatter",
         "x": [
          -0.6476282384325109
         ],
         "y": [
          0.6249621306805739
         ]
        },
        {
         "hoverinfo": "text",
         "marker": {
          "color": "blue",
          "size": 0.5
         },
         "mode": "markers",
         "text": "Linux appears with MySQL/MariaDB 54 times",
         "type": "scatter",
         "x": [
          0.8758383145752542
         ],
         "y": [
          -0.20714064478507893
         ]
        },
        {
         "hoverinfo": "text",
         "marker": {
          "color": "green",
          "size": 0.5
         },
         "mode": "markers",
         "text": "MySQL/MariaDB appears with AWS 2 times",
         "type": "scatter",
         "x": [
          -0.6319875410739472
         ],
         "y": [
          0.6407743346352958
         ]
        },
        {
         "hoverinfo": "text",
         "marker": {
          "color": "blue",
          "size": 0.5
         },
         "mode": "markers",
         "text": "AWS appears with MySQL/MariaDB 2 times",
         "type": "scatter",
         "x": [
          0.8941504486646432
         ],
         "y": [
          -0.10244498598183005
         ]
        },
        {
         "hoverinfo": "text",
         "marker": {
          "color": "green",
          "size": 0.5
         },
         "mode": "markers",
         "text": "T-SQL appears with PL/SQL 52 times",
         "type": "scatter",
         "x": [
          -0.7664713863287743
         ],
         "y": [
          0.471721966776243
         ]
        },
        {
         "hoverinfo": "text",
         "marker": {
          "color": "blue",
          "size": 0.5
         },
         "mode": "markers",
         "text": "PL/SQL appears with T-SQL 52 times",
         "type": "scatter",
         "x": [
          -0.8593775209326717
         ],
         "y": [
          0.267339253600393
         ]
        },
        {
         "hoverinfo": "text",
         "marker": {
          "color": "green",
          "size": 0.5
         },
         "mode": "markers",
         "text": "T-SQL appears with Pentaho 45 times",
         "type": "scatter",
         "x": [
          -0.7585969452550887
         ],
         "y": [
          0.4842836716735842
         ]
        },
        {
         "hoverinfo": "text",
         "marker": {
          "color": "blue",
          "size": 0.5
         },
         "mode": "markers",
         "text": "Pentaho appears with T-SQL 45 times",
         "type": "scatter",
         "x": [
          -0.8843222783860119
         ],
         "y": [
          0.16725462011607622
         ]
        },
        {
         "hoverinfo": "text",
         "marker": {
          "color": "green",
          "size": 0.5
         },
         "mode": "markers",
         "text": "T-SQL appears with Hadoop 39 times",
         "type": "scatter",
         "x": [
          -0.7512596712041476
         ],
         "y": [
          0.4955894535018236
         ]
        },
        {
         "hoverinfo": "text",
         "marker": {
          "color": "blue",
          "size": 0.5
         },
         "mode": "markers",
         "text": "Hadoop appears with T-SQL 39 times",
         "type": "scatter",
         "x": [
          -0.895106213897562
         ],
         "y": [
          0.09372761515141684
         ]
        },
        {
         "hoverinfo": "text",
         "marker": {
          "color": "green",
          "size": 0.5
         },
         "mode": "markers",
         "text": "T-SQL appears with Spark 39 times",
         "type": "scatter",
         "x": [
          -0.7478366701327787
         ],
         "y": [
          0.5007397675486916
         ]
        },
        {
         "hoverinfo": "text",
         "marker": {
          "color": "blue",
          "size": 0.5
         },
         "mode": "markers",
         "text": "Spark appears with T-SQL 39 times",
         "type": "scatter",
         "x": [
          -0.8939628090790812
         ],
         "y": [
          -0.1040696688927091
         ]
        },
        {
         "hoverinfo": "text",
         "marker": {
          "color": "green",
          "size": 0.5
         },
         "mode": "markers",
         "text": "T-SQL appears with Informatica 15 times",
         "type": "scatter",
         "x": [
          -0.7385364958651299
         ],
         "y": [
          0.5143577007057004
         ]
        },
        {
         "hoverinfo": "text",
         "marker": {
          "color": "blue",
          "size": 0.5
         },
         "mode": "markers",
         "text": "Informatica appears with T-SQL 15 times",
         "type": "scatter",
         "x": [
          -0.8521695286219394
         ],
         "y": [
          -0.2894945500147827
         ]
        },
        {
         "hoverinfo": "text",
         "marker": {
          "color": "green",
          "size": 0.5
         },
         "mode": "markers",
         "text": "T-SQL appears with Qlik 78 times",
         "type": "scatter",
         "x": [
          -0.7826924696945953
         ],
         "y": [
          0.44428875507194093
         ]
        },
        {
         "hoverinfo": "text",
         "marker": {
          "color": "blue",
          "size": 0.5
         },
         "mode": "markers",
         "text": "Qlik appears with T-SQL 78 times",
         "type": "scatter",
         "x": [
          -0.7671791530397589
         ],
         "y": [
          -0.4705700236321883
         ]
        },
        {
         "hoverinfo": "text",
         "marker": {
          "color": "green",
          "size": 0.5
         },
         "mode": "markers",
         "text": "T-SQL appears with Tableau 123 times",
         "type": "scatter",
         "x": [
          -0.7904361865499336
         ],
         "y": [
          0.4303610518999117
         ]
        },
        {
         "hoverinfo": "text",
         "marker": {
          "color": "blue",
          "size": 0.5
         },
         "mode": "markers",
         "text": "Tableau appears with T-SQL 123 times",
         "type": "scatter",
         "x": [
          -0.47767081842953435
         ],
         "y": [
          -0.7627782044741832
         ]
        },
        {
         "hoverinfo": "text",
         "marker": {
          "color": "green",
          "size": 0.5
         },
         "mode": "markers",
         "text": "T-SQL appears with Microstrategy 19 times",
         "type": "scatter",
         "x": [
          -0.7400737529662706
         ],
         "y": [
          0.512143378528337
         ]
        },
        {
         "hoverinfo": "text",
         "marker": {
          "color": "blue",
          "size": 0.5
         },
         "mode": "markers",
         "text": "Microstrategy appears with T-SQL 19 times",
         "type": "scatter",
         "x": [
          -0.10262928923056679
         ],
         "y": [
          -0.89412931335016
         ]
        },
        {
         "hoverinfo": "text",
         "marker": {
          "color": "green",
          "size": 0.5
         },
         "mode": "markers",
         "text": "T-SQL appears with Oracle BI 173 times",
         "type": "scatter",
         "x": [
          -0.8124783333562025
         ],
         "y": [
          0.38714203830987887
         ]
        },
        {
         "hoverinfo": "text",
         "marker": {
          "color": "blue",
          "size": 0.5
         },
         "mode": "markers",
         "text": "Oracle BI appears with T-SQL 173 times",
         "type": "scatter",
         "x": [
          0.11664515225982168
         ],
         "y": [
          -0.8924090477209893
         ]
        },
        {
         "hoverinfo": "text",
         "marker": {
          "color": "green",
          "size": 0.5
         },
         "mode": "markers",
         "text": "T-SQL appears with Python 68 times",
         "type": "scatter",
         "x": [
          -0.7714150758276022
         ],
         "y": [
          0.463593335571053
         ]
        },
        {
         "hoverinfo": "text",
         "marker": {
          "color": "blue",
          "size": 0.5
         },
         "mode": "markers",
         "text": "Python appears with T-SQL 68 times",
         "type": "scatter",
         "x": [
          0.5905513819722612
         ],
         "y": [
          -0.6791531971879778
         ]
        },
        {
         "hoverinfo": "text",
         "marker": {
          "color": "green",
          "size": 0.5
         },
         "mode": "markers",
         "text": "T-SQL appears with VBA 27 times",
         "type": "scatter",
         "x": [
          -0.7421430014228086
         ],
         "y": [
          0.5091402217848685
         ]
        },
        {
         "hoverinfo": "text",
         "marker": {
          "color": "blue",
          "size": 0.5
         },
         "mode": "markers",
         "text": "VBA appears with T-SQL 27 times",
         "type": "scatter",
         "x": [
          0.8153763344998018
         ],
         "y": [
          -0.38100056842171154
         ]
        },
        {
         "hoverinfo": "text",
         "marker": {
          "color": "green",
          "size": 0.5
         },
         "mode": "markers",
         "text": "T-SQL appears with Linux 31 times",
         "type": "scatter",
         "x": [
          -0.7447346798644139
         ],
         "y": [
          0.5053417226068406
         ]
        },
        {
         "hoverinfo": "text",
         "marker": {
          "color": "blue",
          "size": 0.5
         },
         "mode": "markers",
         "text": "Linux appears with T-SQL 31 times",
         "type": "scatter",
         "x": [
          0.8699931381696774
         ],
         "y": [
          -0.23046027757007628
         ]
        },
        {
         "hoverinfo": "text",
         "marker": {
          "color": "green",
          "size": 0.5
         },
         "mode": "markers",
         "text": "T-SQL appears with AWS 13 times",
         "type": "scatter",
         "x": [
          -0.7372655441159971
         ],
         "y": [
          0.5161777963641431
         ]
        },
        {
         "hoverinfo": "text",
         "marker": {
          "color": "blue",
          "size": 0.5
         },
         "mode": "markers",
         "text": "AWS appears with T-SQL 13 times",
         "type": "scatter",
         "x": [
          0.8947874989374824
         ],
         "y": [
          -0.09672296389795342
         ]
        },
        {
         "hoverinfo": "text",
         "marker": {
          "color": "green",
          "size": 0.5
         },
         "mode": "markers",
         "text": "PL/SQL appears with Pentaho 8 times",
         "type": "scatter",
         "x": [
          -0.8529412730081722
         ],
         "y": [
          0.28721278662204197
         ]
        },
        {
         "hoverinfo": "text",
         "marker": {
          "color": "blue",
          "size": 0.5
         },
         "mode": "markers",
         "text": "Pentaho appears with PL/SQL 8 times",
         "type": "scatter",
         "x": [
          -0.8755722193309127
         ],
         "y": [
          0.20826254760743748
         ]
        },
        {
         "hoverinfo": "text",
         "marker": {
          "color": "green",
          "size": 0.5
         },
         "mode": "markers",
         "text": "PL/SQL appears with Hadoop 7 times",
         "type": "scatter",
         "x": [
          -0.8526599688557893
         ],
         "y": [
          0.2880468321486011
         ]
        },
        {
         "hoverinfo": "text",
         "marker": {
          "color": "blue",
          "size": 0.5
         },
         "mode": "markers",
         "text": "Hadoop appears with PL/SQL 7 times",
         "type": "scatter",
         "x": [
          -0.894058338268955
         ],
         "y": [
          0.10324576394097193
         ]
        },
        {
         "hoverinfo": "text",
         "marker": {
          "color": "green",
          "size": 0.5
         },
         "mode": "markers",
         "text": "PL/SQL appears with Informatica 35 times",
         "type": "scatter",
         "x": [
          -0.8578472362557242
         ],
         "y": [
          0.2722096971976121
         ]
        },
        {
         "hoverinfo": "text",
         "marker": {
          "color": "blue",
          "size": 0.5
         },
         "mode": "markers",
         "text": "Informatica appears with PL/SQL 35 times",
         "type": "scatter",
         "x": [
          -0.8454090599164973
         ],
         "y": [
          -0.30868028996212965
         ]
        },
        {
         "hoverinfo": "text",
         "marker": {
          "color": "green",
          "size": 0.5
         },
         "mode": "markers",
         "text": "PL/SQL appears with Qlik 20 times",
         "type": "scatter",
         "x": [
          -0.8547957719435053
         ],
         "y": [
          0.2816455010602989
         ]
        },
        {
         "hoverinfo": "text",
         "marker": {
          "color": "blue",
          "size": 0.5
         },
         "mode": "markers",
         "text": "Qlik appears with PL/SQL 20 times",
         "type": "scatter",
         "x": [
          -0.7908893445371656
         ],
         "y": [
          -0.42952769956962333
         ]
        },
        {
         "hoverinfo": "text",
         "marker": {
          "color": "green",
          "size": 0.5
         },
         "mode": "markers",
         "text": "PL/SQL appears with Tableau 31 times",
         "type": "scatter",
         "x": [
          -0.8566679153225678
         ],
         "y": [
          0.2758986822311512
         ]
        },
        {
         "hoverinfo": "text",
         "marker": {
          "color": "blue",
          "size": 0.5
         },
         "mode": "markers",
         "text": "Tableau appears with PL/SQL 31 times",
         "type": "scatter",
         "x": [
          -0.5575450557756972
         ],
         "y": [
          -0.7065008922712517
         ]
        },
        {
         "hoverinfo": "text",
         "marker": {
          "color": "green",
          "size": 0.5
         },
         "mode": "markers",
         "text": "PL/SQL appears with Microstrategy 26 times",
         "type": "scatter",
         "x": [
          -0.8556366438128973
         ],
         "y": [
          0.2790805148422249
         ]
        },
        {
         "hoverinfo": "text",
         "marker": {
          "color": "blue",
          "size": 0.5
         },
         "mode": "markers",
         "text": "Microstrategy appears with PL/SQL 26 times",
         "type": "scatter",
         "x": [
          -0.09236848878956339
         ],
         "y": [
          -0.8952474866084419
         ]
        },
        {
         "hoverinfo": "text",
         "marker": {
          "color": "green",
          "size": 0.5
         },
         "mode": "markers",
         "text": "PL/SQL appears with Oracle BI 102 times",
         "type": "scatter",
         "x": [
          -0.8663752794030416
         ],
         "y": [
          0.24370858671639323
         ]
        },
        {
         "hoverinfo": "text",
         "marker": {
          "color": "blue",
          "size": 0.5
         },
         "mode": "markers",
         "text": "Oracle BI appears with PL/SQL 102 times",
         "type": "scatter",
         "x": [
          0.06966304743346452
         ],
         "y": [
          -0.8972998717386974
         ]
        },
        {
         "hoverinfo": "text",
         "marker": {
          "color": "green",
          "size": 0.5
         },
         "mode": "markers",
         "text": "PL/SQL appears with Python 3 times",
         "type": "scatter",
         "x": [
          -0.8521704431575055
         ],
         "y": [
          0.28949185793168847
         ]
        },
        {
         "hoverinfo": "text",
         "marker": {
          "color": "blue",
          "size": 0.5
         },
         "mode": "markers",
         "text": "Python appears with PL/SQL 3 times",
         "type": "scatter",
         "x": [
          0.5550217234931069
         ],
         "y": [
          -0.708484923234603
         ]
        },
        {
         "hoverinfo": "text",
         "marker": {
          "color": "green",
          "size": 0.5
         },
         "mode": "markers",
         "text": "PL/SQL appears with VBA 11 times",
         "type": "scatter",
         "x": [
          -0.8532964203872565
         ],
         "y": [
          0.286155934682988
         ]
        },
        {
         "hoverinfo": "text",
         "marker": {
          "color": "blue",
          "size": 0.5
         },
         "mode": "markers",
         "text": "VBA appears with PL/SQL 11 times",
         "type": "scatter",
         "x": [
          0.8142040758121877
         ],
         "y": [
          -0.38349931281662225
         ]
        },
        {
         "hoverinfo": "text",
         "marker": {
          "color": "green",
          "size": 0.5
         },
         "mode": "markers",
         "text": "PL/SQL appears with Linux 5 times",
         "type": "scatter",
         "x": [
          -0.8524343383118576
         ],
         "y": [
          0.28871387023630435
         ]
        },
        {
         "hoverinfo": "text",
         "marker": {
          "color": "blue",
          "size": 0.5
         },
         "mode": "markers",
         "text": "Linux appears with PL/SQL 5 times",
         "type": "scatter",
         "x": [
          0.8653952077805834
         ],
         "y": [
          -0.24716620794599087
         ]
        },
        {
         "hoverinfo": "text",
         "marker": {
          "color": "green",
          "size": 0.5
         },
         "mode": "markers",
         "text": "PL/SQL appears with AWS 2 times",
         "type": "scatter",
         "x": [
          -0.8520760228000009
         ],
         "y": [
          0.28976965225732737
         ]
        },
        {
         "hoverinfo": "text",
         "marker": {
          "color": "blue",
          "size": 0.5
         },
         "mode": "markers",
         "text": "AWS appears with PL/SQL 2 times",
         "type": "scatter",
         "x": [
          0.8941798656523379
         ],
         "y": [
          -0.10218790467549002
         ]
        },
        {
         "hoverinfo": "text",
         "marker": {
          "color": "green",
          "size": 0.5
         },
         "mode": "markers",
         "text": "Pentaho appears with Spark 8 times",
         "type": "scatter",
         "x": [
          -0.8753286477632941
         ],
         "y": [
          0.20928391817070655
         ]
        },
        {
         "hoverinfo": "text",
         "marker": {
          "color": "blue",
          "size": 0.5
         },
         "mode": "markers",
         "text": "Spark appears with Pentaho 8 times",
         "type": "scatter",
         "x": [
          -0.8957626313938275
         ],
         "y": [
          -0.08723134871367032
         ]
        },
        {
         "hoverinfo": "text",
         "marker": {
          "color": "green",
          "size": 0.5
         },
         "mode": "markers",
         "text": "Pentaho appears with Informatica 37 times",
         "type": "scatter",
         "x": [
          -0.8779856326252905
         ],
         "y": [
          0.19784142362904797
         ]
        },
        {
         "hoverinfo": "text",
         "marker": {
          "color": "blue",
          "size": 0.5
         },
         "mode": "markers",
         "text": "Informatica appears with Pentaho 37 times",
         "type": "scatter",
         "x": [
          -0.8436136292671405
         ],
         "y": [
          -0.3135538941150689
         ]
        },
        {
         "hoverinfo": "text",
         "marker": {
          "color": "green",
          "size": 0.5
         },
         "mode": "markers",
         "text": "Pentaho appears with Qlik 34 times",
         "type": "scatter",
         "x": [
          -0.8769496178119524
         ],
         "y": [
          0.20238420842415222
         ]
        },
        {
         "hoverinfo": "text",
         "marker": {
          "color": "blue",
          "size": 0.5
         },
         "mode": "markers",
         "text": "Qlik appears with Pentaho 34 times",
         "type": "scatter",
         "x": [
          -0.7862887476561475
         ],
         "y": [
          -0.4378926869785874
         ]
        },
        {
         "hoverinfo": "text",
         "marker": {
          "color": "green",
          "size": 0.5
         },
         "mode": "markers",
         "text": "Pentaho appears with Tableau 42 times",
         "type": "scatter",
         "x": [
          -0.8832434576392226
         ],
         "y": [
          0.1728612002084642
         ]
        },
        {
         "hoverinfo": "text",
         "marker": {
          "color": "blue",
          "size": 0.5
         },
         "mode": "markers",
         "text": "Tableau appears with Pentaho 42 times",
         "type": "scatter",
         "x": [
          -0.54791823350851
         ],
         "y": [
          -0.7139927236246276
         ]
        },
        {
         "hoverinfo": "text",
         "marker": {
          "color": "green",
          "size": 0.5
         },
         "mode": "markers",
         "text": "Pentaho appears with Microstrategy 5 times",
         "type": "scatter",
         "x": [
          -0.87512986855373
         ],
         "y": [
          0.21011357206313752
         ]
        },
        {
         "hoverinfo": "text",
         "marker": {
          "color": "blue",
          "size": 0.5
         },
         "mode": "markers",
         "text": "Microstrategy appears with Pentaho 5 times",
         "type": "scatter",
         "x": [
          -0.10675280766885738
         ],
         "y": [
          -0.8936463719250562
         ]
        },
        {
         "hoverinfo": "text",
         "marker": {
          "color": "green",
          "size": 0.5
         },
         "mode": "markers",
         "text": "Pentaho appears with Oracle BI 40 times",
         "type": "scatter",
         "x": [
          -0.8821940976442351
         ],
         "y": [
          0.17813919861073205
         ]
        },
        {
         "hoverinfo": "text",
         "marker": {
          "color": "blue",
          "size": 0.5
         },
         "mode": "markers",
         "text": "Oracle BI appears with Pentaho 40 times",
         "type": "scatter",
         "x": [
          -0.02287492408174889
         ],
         "y": [
          -0.899709251840979
         ]
        },
        {
         "hoverinfo": "text",
         "marker": {
          "color": "green",
          "size": 0.5
         },
         "mode": "markers",
         "text": "Pentaho appears with Python 38 times",
         "type": "scatter",
         "x": [
          -0.8800832603845858
         ],
         "y": [
          0.18829087814027892
         ]
        },
        {
         "hoverinfo": "text",
         "marker": {
          "color": "blue",
          "size": 0.5
         },
         "mode": "markers",
         "text": "Python appears with Pentaho 38 times",
         "type": "scatter",
         "x": [
          0.5683197290840083
         ],
         "y": [
          -0.6978629417972267
         ]
        },
        {
         "hoverinfo": "text",
         "marker": {
          "color": "green",
          "size": 0.5
         },
         "mode": "markers",
         "text": "Pentaho appears with VBA 1 times",
         "type": "scatter",
         "x": [
          -0.875037859069547
         ],
         "y": [
          0.2104964256109438
         ]
        },
        {
         "hoverinfo": "text",
         "marker": {
          "color": "blue",
          "size": 0.5
         },
         "mode": "markers",
         "text": "VBA appears with Pentaho 1 times",
         "type": "scatter",
         "x": [
          0.8107044948037723
         ],
         "y": [
          -0.39084296348400643
         ]
        },
        {
         "hoverinfo": "text",
         "marker": {
          "color": "green",
          "size": 0.5
         },
         "mode": "markers",
         "text": "Pentaho appears with Linux 40 times",
         "type": "scatter",
         "x": [
          -0.8811399365510898
         ],
         "y": [
          0.1832823292484616
         ]
        },
        {
         "hoverinfo": "text",
         "marker": {
          "color": "blue",
          "size": 0.5
         },
         "mode": "markers",
         "text": "Linux appears with Pentaho 40 times",
         "type": "scatter",
         "x": [
          0.8725087468891501
         ],
         "y": [
          -0.22074529802902934
         ]
        },
        {
         "hoverinfo": "text",
         "marker": {
          "color": "green",
          "size": 0.5
         },
         "mode": "markers",
         "text": "Pentaho appears with AWS 15 times",
         "type": "scatter",
         "x": [
          -0.8762209116468688
         ],
         "y": [
          0.2055162134546326
         ]
        },
        {
         "hoverinfo": "text",
         "marker": {
          "color": "blue",
          "size": 0.5
         },
         "mode": "markers",
         "text": "AWS appears with Pentaho 15 times",
         "type": "scatter",
         "x": [
          0.8949803483124911
         ],
         "y": [
          -0.09492194759091407
         ]
        },
        {
         "hoverinfo": "text",
         "marker": {
          "color": "green",
          "size": 0.5
         },
         "mode": "markers",
         "text": "Hadoop appears with Spark 192 times",
         "type": "scatter",
         "x": [
          -0.8999163495404301
         ],
         "y": [
          -0.012270445380117791
         ]
        },
        {
         "hoverinfo": "text",
         "marker": {
          "color": "blue",
          "size": 0.5
         },
         "mode": "markers",
         "text": "Spark appears with Hadoop 192 times",
         "type": "scatter",
         "x": [
          -0.8756884419328955
         ],
         "y": [
          -0.20777332038820093
         ]
        },
        {
         "hoverinfo": "text",
         "marker": {
          "color": "green",
          "size": 0.5
         },
         "mode": "markers",
         "text": "Hadoop appears with Informatica 9 times",
         "type": "scatter",
         "x": [
          -0.8943510739362891
         ],
         "y": [
          0.10067848106227259
         ]
        },
        {
         "hoverinfo": "text",
         "marker": {
          "color": "blue",
          "size": 0.5
         },
         "mode": "markers",
         "text": "Informatica appears with Hadoop 9 times",
         "type": "scatter",
         "x": [
          -0.8538715802085514
         ],
         "y": [
          -0.2844350971876563
         ]
        },
        {
         "hoverinfo": "text",
         "marker": {
          "color": "green",
          "size": 0.5
         },
         "mode": "markers",
         "text": "Hadoop appears with Qlik 11 times",
         "type": "scatter",
         "x": [
          -0.8947025104854415
         ],
         "y": [
          0.09750598818046241
         ]
        },
        {
         "hoverinfo": "text",
         "marker": {
          "color": "blue",
          "size": 0.5
         },
         "mode": "markers",
         "text": "Qlik appears with Hadoop 11 times",
         "type": "scatter",
         "x": [
          -0.7957472570506525
         ],
         "y": [
          -0.4204596328975741
         ]
        },
        {
         "hoverinfo": "text",
         "marker": {
          "color": "green",
          "size": 0.5
         },
         "mode": "markers",
         "text": "Hadoop appears with Tableau 70 times",
         "type": "scatter",
         "x": [
          -0.8984703990148537
         ],
         "y": [
          0.0524494241540316
         ]
        },
        {
         "hoverinfo": "text",
         "marker": {
          "color": "blue",
          "size": 0.5
         },
         "mode": "markers",
         "text": "Tableau appears with Hadoop 70 times",
         "type": "scatter",
         "x": [
          -0.5146519249123043
         ],
         "y": [
          -0.7383314947799938
         ]
        },
        {
         "hoverinfo": "text",
         "marker": {
          "color": "green",
          "size": 0.5
         },
         "mode": "markers",
         "text": "Hadoop appears with Microstrategy 5 times",
         "type": "scatter",
         "x": [
          -0.893953260170063
         ],
         "y": [
          0.10415166168293047
         ]
        },
        {
         "hoverinfo": "text",
         "marker": {
          "color": "blue",
          "size": 0.5
         },
         "mode": "markers",
         "text": "Microstrategy appears with Hadoop 5 times",
         "type": "scatter",
         "x": [
          -0.10618023062809587
         ],
         "y": [
          -0.8937145845423831
         ]
        },
        {
         "hoverinfo": "text",
         "marker": {
          "color": "green",
          "size": 0.5
         },
         "mode": "markers",
         "text": "Hadoop appears with Oracle BI 65 times",
         "type": "scatter",
         "x": [
          -0.8978141288114821
         ],
         "y": [
          0.06268803798556309
         ]
        },
        {
         "hoverinfo": "text",
         "marker": {
          "color": "blue",
          "size": 0.5
         },
         "mode": "markers",
         "text": "Oracle BI appears with Hadoop 65 times",
         "type": "scatter",
         "x": [
          0.01465973207109365
         ],
         "y": [
          -0.8998805988883213
         ]
        },
        {
         "hoverinfo": "text",
         "marker": {
          "color": "green",
          "size": 0.5
         },
         "mode": "markers",
         "text": "Hadoop appears with Python 205 times",
         "type": "scatter",
         "x": [
          -0.8989994556182065
         ],
         "y": [
          -0.042426157004474455
         ]
        },
        {
         "hoverinfo": "text",
         "marker": {
          "color": "blue",
          "size": 0.5
         },
         "mode": "markers",
         "text": "Python appears with Hadoop 205 times",
         "type": "scatter",
         "x": [
          0.7324325504459153
         ],
         "y": [
          -0.5230129625996778
         ]
        },
        {
         "hoverinfo": "text",
         "marker": {
          "color": "green",
          "size": 0.5
         },
         "mode": "markers",
         "text": "Hadoop appears with VBA 11 times",
         "type": "scatter",
         "x": [
          -0.8945198279088372
         ],
         "y": [
          0.09916792565111032
         ]
        },
        {
         "hoverinfo": "text",
         "marker": {
          "color": "blue",
          "size": 0.5
         },
         "mode": "markers",
         "text": "VBA appears with Hadoop 11 times",
         "type": "scatter",
         "x": [
          0.8135218990759522
         ],
         "y": [
          -0.38494430730153184
         ]
        },
        {
         "hoverinfo": "text",
         "marker": {
          "color": "green",
          "size": 0.5
         },
         "mode": "markers",
         "text": "Hadoop appears with Linux 123 times",
         "type": "scatter",
         "x": [
          -0.8999243609298936
         ],
         "y": [
          0.011668102027434749
         ]
        },
        {
         "hoverinfo": "text",
         "marker": {
          "color": "blue",
          "size": 0.5
         },
         "mode": "markers",
         "text": "Linux appears with Hadoop 123 times",
         "type": "scatter",
         "x": [
          0.8859947245629445
         ],
         "y": [
          -0.15815608760535343
         ]
        },
        {
         "hoverinfo": "text",
         "marker": {
          "color": "green",
          "size": 0.5
         },
         "mode": "markers",
         "text": "Hadoop appears with AWS 70 times",
         "type": "scatter",
         "x": [
          -0.899027651321907
         ],
         "y": [
          0.04182442060107557
         ]
        },
        {
         "hoverinfo": "text",
         "marker": {
          "color": "blue",
          "size": 0.5
         },
         "mode": "markers",
         "text": "AWS appears with Hadoop 70 times",
         "type": "scatter",
         "x": [
          0.8981213760840511
         ],
         "y": [
          -0.05812051118917024
         ]
        },
        {
         "hoverinfo": "text",
         "marker": {
          "color": "green",
          "size": 0.5
         },
         "mode": "markers",
         "text": "Spark appears with Informatica 16 times",
         "type": "scatter",
         "x": [
          -0.895226840141898
         ],
         "y": [
          -0.09256837845372755
         ]
        },
        {
         "hoverinfo": "text",
         "marker": {
          "color": "blue",
          "size": 0.5
         },
         "mode": "markers",
         "text": "Informatica appears with Spark 16 times",
         "type": "scatter",
         "x": [
          -0.8514475937298667
         ],
         "y": [
          -0.29161103396754373
         ]
        },
        {
         "hoverinfo": "text",
         "marker": {
          "color": "green",
          "size": 0.5
         },
         "mode": "markers",
         "text": "Spark appears with Qlik 16 times",
         "type": "scatter",
         "x": [
          -0.8949713150650364
         ],
         "y": [
          -0.09500707979282065
         ]
        },
        {
         "hoverinfo": "text",
         "marker": {
          "color": "blue",
          "size": 0.5
         },
         "mode": "markers",
         "text": "Qlik appears with Spark 16 times",
         "type": "scatter",
         "x": [
          -0.7936225470552274
         ],
         "y": [
          -0.4244564203844411
         ]
        },
        {
         "hoverinfo": "text",
         "marker": {
          "color": "green",
          "size": 0.5
         },
         "mode": "markers",
         "text": "Spark appears with Tableau 59 times",
         "type": "scatter",
         "x": [
          -0.891121024146155
         ],
         "y": [
          -0.12610836738578415
         ]
        },
        {
         "hoverinfo": "text",
         "marker": {
          "color": "blue",
          "size": 0.5
         },
         "mode": "markers",
         "text": "Tableau appears with Spark 59 times",
         "type": "scatter",
         "x": [
          -0.5411530725290575
         ],
         "y": [
          -0.7191337511842708
         ]
        },
        {
         "hoverinfo": "text",
         "marker": {
          "color": "green",
          "size": 0.5
         },
         "mode": "markers",
         "text": "Spark appears with Microstrategy 3 times",
         "type": "scatter",
         "x": [
          -0.8958439348626871
         ],
         "y": [
          -0.0863923860634581
         ]
        },
        {
         "hoverinfo": "text",
         "marker": {
          "color": "blue",
          "size": 0.5
         },
         "mode": "markers",
         "text": "Microstrategy appears with Spark 3 times",
         "type": "scatter",
         "x": [
          -0.10721083776160797
         ],
         "y": [
          -0.893591537709738
         ]
        },
        {
         "hoverinfo": "text",
         "marker": {
          "color": "green",
          "size": 0.5
         },
         "mode": "markers",
         "text": "Spark appears with Oracle BI 63 times",
         "type": "scatter",
         "x": [
          -0.8882598161817622
         ],
         "y": [
          -0.1448947858162676
         ]
        },
        {
         "hoverinfo": "text",
         "marker": {
          "color": "blue",
          "size": 0.5
         },
         "mode": "markers",
         "text": "Oracle BI appears with Spark 63 times",
         "type": "scatter",
         "x": [
          0.0037650535123829303
         ],
         "y": [
          -0.8999921246166819
         ]
        },
        {
         "hoverinfo": "text",
         "marker": {
          "color": "green",
          "size": 0.5
         },
         "mode": "markers",
         "text": "Spark appears with Python 228 times",
         "type": "scatter",
         "x": [
          -0.8677004213506394
         ],
         "y": [
          -0.23894764863442952
         ]
        },
        {
         "hoverinfo": "text",
         "marker": {
          "color": "blue",
          "size": 0.5
         },
         "mode": "markers",
         "text": "Python appears with Spark 228 times",
         "type": "scatter",
         "x": [
          0.7527336918459157
         ],
         "y": [
          -0.4933477365510235
         ]
        },
        {
         "hoverinfo": "text",
         "marker": {
          "color": "green",
          "size": 0.5
         },
         "mode": "markers",
         "text": "Spark appears with VBA 10 times",
         "type": "scatter",
         "x": [
          -0.895627894627838
         ],
         "y": [
          -0.08860403131069385
         ]
        },
        {
         "hoverinfo": "text",
         "marker": {
          "color": "blue",
          "size": 0.5
         },
         "mode": "markers",
         "text": "VBA appears with Spark 10 times",
         "type": "scatter",
         "x": [
          0.8128683380678153
         ],
         "y": [
          -0.3863224883007304
         ]
        },
        {
         "hoverinfo": "text",
         "marker": {
          "color": "green",
          "size": 0.5
         },
         "mode": "markers",
         "text": "Spark appears with Linux 104 times",
         "type": "scatter",
         "x": [
          -0.8839973776490172
         ],
         "y": [
          -0.16896341707500162
         ]
        },
        {
         "hoverinfo": "text",
         "marker": {
          "color": "blue",
          "size": 0.5
         },
         "mode": "markers",
         "text": "Linux appears with Spark 104 times",
         "type": "scatter",
         "x": [
          0.8829680004688992
         ],
         "y": [
          -0.17426276179366013
         ]
        },
        {
         "hoverinfo": "text",
         "marker": {
          "color": "green",
          "size": 0.5
         },
         "mode": "markers",
         "text": "Spark appears with AWS 76 times",
         "type": "scatter",
         "x": [
          -0.8864828877146761
         ],
         "y": [
          -0.15539655655467097
         ]
        },
        {
         "hoverinfo": "text",
         "marker": {
          "color": "blue",
          "size": 0.5
         },
         "mode": "markers",
         "text": "AWS appears with Spark 76 times",
         "type": "scatter",
         "x": [
          0.8986818349741558
         ],
         "y": [
          -0.04869249929387787
         ]
        },
        {
         "hoverinfo": "text",
         "marker": {
          "color": "green",
          "size": 0.5
         },
         "mode": "markers",
         "text": "Informatica appears with Qlik 97 times",
         "type": "scatter",
         "x": [
          -0.8278483022560567
         ],
         "y": [
          -0.3530824102837249
         ]
        },
        {
         "hoverinfo": "text",
         "marker": {
          "color": "blue",
          "size": 0.5
         },
         "mode": "markers",
         "text": "Qlik appears with Informatica 97 times",
         "type": "scatter",
         "x": [
          -0.7595509020195799
         ],
         "y": [
          -0.48278610920493814
         ]
        },
        {
         "hoverinfo": "text",
         "marker": {
          "color": "green",
          "size": 0.5
         },
         "mode": "markers",
         "text": "Informatica appears with Tableau 79 times",
         "type": "scatter",
         "x": [
          -0.8327465767208808
         ],
         "y": [
          -0.34136950502300906
         ]
        },
        {
         "hoverinfo": "text",
         "marker": {
          "color": "blue",
          "size": 0.5
         },
         "mode": "markers",
         "text": "Tableau appears with Informatica 79 times",
         "type": "scatter",
         "x": [
          -0.5043189418156292
         ],
         "y": [
          -0.7454276657905609
         ]
        },
        {
         "hoverinfo": "text",
         "marker": {
          "color": "green",
          "size": 0.5
         },
         "mode": "markers",
         "text": "Informatica appears with Microstrategy 23 times",
         "type": "scatter",
         "x": [
          -0.8494888055269896
         ],
         "y": [
          -0.29726885017493604
         ]
        },
        {
         "hoverinfo": "text",
         "marker": {
          "color": "blue",
          "size": 0.5
         },
         "mode": "markers",
         "text": "Microstrategy appears with Informatica 23 times",
         "type": "scatter",
         "x": [
          -0.09793040486776981
         ],
         "y": [
          -0.8946561550687698
         ]
        },
        {
         "hoverinfo": "text",
         "marker": {
          "color": "green",
          "size": 0.5
         },
         "mode": "markers",
         "text": "Informatica appears with Oracle BI 140 times",
         "type": "scatter",
         "x": [
          -0.8136858668589423
         ],
         "y": [
          -0.3845975949924955
         ]
        },
        {
         "hoverinfo": "text",
         "marker": {
          "color": "blue",
          "size": 0.5
         },
         "mode": "markers",
         "text": "Oracle BI appears with Informatica 140 times",
         "type": "scatter",
         "x": [
          0.09018016561228512
         ],
         "y": [
          -0.8954705677631962
         ]
        },
        {
         "hoverinfo": "text",
         "marker": {
          "color": "green",
          "size": 0.5
         },
         "mode": "markers",
         "text": "Informatica appears with Python 32 times",
         "type": "scatter",
         "x": [
          -0.8470545191927125
         ],
         "y": [
          -0.30413589317146145
         ]
        },
        {
         "hoverinfo": "text",
         "marker": {
          "color": "blue",
          "size": 0.5
         },
         "mode": "markers",
         "text": "Python appears with Informatica 32 times",
         "type": "scatter",
         "x": [
          0.5638015595923612
         ],
         "y": [
          -0.7015182117388123
         ]
        },
        {
         "hoverinfo": "text",
         "marker": {
          "color": "green",
          "size": 0.5
         },
         "mode": "markers",
         "text": "Informatica appears with VBA 6 times",
         "type": "scatter",
         "x": [
          -0.8542129310386376
         ],
         "y": [
          -0.28340830694667324
         ]
        },
        {
         "hoverinfo": "text",
         "marker": {
          "color": "blue",
          "size": 0.5
         },
         "mode": "markers",
         "text": "VBA appears with Informatica 6 times",
         "type": "scatter",
         "x": [
          0.8115542136450887
         ],
         "y": [
          -0.38907551749615604
         ]
        },
        {
         "hoverinfo": "text",
         "marker": {
          "color": "green",
          "size": 0.5
         },
         "mode": "markers",
         "text": "Informatica appears with Linux 14 times",
         "type": "scatter",
         "x": [
          -0.85284012430293
         ],
         "y": [
          -0.287512995147981
         ]
        },
        {
         "hoverinfo": "text",
         "marker": {
          "color": "blue",
          "size": 0.5
         },
         "mode": "markers",
         "text": "Linux appears with Informatica 14 times",
         "type": "scatter",
         "x": [
          0.8670604162812283
         ],
         "y": [
          -0.24125968274501033
         ]
        },
        {
         "hoverinfo": "text",
         "marker": {
          "color": "green",
          "size": 0.5
         },
         "mode": "markers",
         "text": "Informatica appears with AWS 22 times",
         "type": "scatter",
         "x": [
          -0.850555470695755
         ],
         "y": [
          -0.29420297630976244
         ]
        },
        {
         "hoverinfo": "text",
         "marker": {
          "color": "blue",
          "size": 0.5
         },
         "mode": "markers",
         "text": "AWS appears with Informatica 22 times",
         "type": "scatter",
         "x": [
          0.8952296247428706
         ],
         "y": [
          -0.09254144467609744
         ]
        },
        {
         "hoverinfo": "text",
         "marker": {
          "color": "green",
          "size": 0.5
         },
         "mode": "markers",
         "text": "Qlik appears with Tableau 375 times",
         "type": "scatter",
         "x": [
          -0.706925582532681
         ],
         "y": [
          -0.5570064817942694
         ]
        },
        {
         "hoverinfo": "text",
         "marker": {
          "color": "blue",
          "size": 0.5
         },
         "mode": "markers",
         "text": "Tableau appears with Qlik 375 times",
         "type": "scatter",
         "x": [
          -0.32600655155594793
         ],
         "y": [
          -0.8388800440722136
         ]
        },
        {
         "hoverinfo": "text",
         "marker": {
          "color": "green",
          "size": 0.5
         },
         "mode": "markers",
         "text": "Qlik appears with Microstrategy 46 times",
         "type": "scatter",
         "x": [
          -0.7830643441348284
         ],
         "y": [
          -0.4436329935258322
         ]
        },
        {
         "hoverinfo": "text",
         "marker": {
          "color": "blue",
          "size": 0.5
         },
         "mode": "markers",
         "text": "Microstrategy appears with Qlik 46 times",
         "type": "scatter",
         "x": [
          -0.07997068973302095
         ],
         "y": [
          -0.8964400084688461
         ]
        },
        {
         "hoverinfo": "text",
         "marker": {
          "color": "green",
          "size": 0.5
         },
         "mode": "markers",
         "text": "Qlik appears with Oracle BI 403 times",
         "type": "scatter",
         "x": [
          -0.6655436621378313
         ],
         "y": [
          -0.6058478635665593
         ]
        },
        {
         "hoverinfo": "text",
         "marker": {
          "color": "blue",
          "size": 0.5
         },
         "mode": "markers",
         "text": "Oracle BI appears with Qlik 403 times",
         "type": "scatter",
         "x": [
          0.3221256049802099
         ],
         "y": [
          -0.8403779474832344
         ]
        },
        {
         "hoverinfo": "text",
         "marker": {
          "color": "green",
          "size": 0.5
         },
         "mode": "markers",
         "text": "Qlik appears with Python 55 times",
         "type": "scatter",
         "x": [
          -0.7789337056150125
         ],
         "y": [
          -0.45084618469813514
         ]
        },
        {
         "hoverinfo": "text",
         "marker": {
          "color": "blue",
          "size": 0.5
         },
         "mode": "markers",
         "text": "Python appears with Qlik 55 times",
         "type": "scatter",
         "x": [
          0.5742857521515627
         ],
         "y": [
          -0.6929616691244285
         ]
        },
        {
         "hoverinfo": "text",
         "marker": {
          "color": "green",
          "size": 0.5
         },
         "mode": "markers",
         "text": "Qlik appears with VBA 31 times",
         "type": "scatter",
         "x": [
          -0.7888775994581335
         ],
         "y": [
          -0.43321141844735905
         ]
        },
        {
         "hoverinfo": "text",
         "marker": {
          "color": "blue",
          "size": 0.5
         },
         "mode": "markers",
         "text": "VBA appears with Qlik 31 times",
         "type": "scatter",
         "x": [
          0.8171507830817871
         ],
         "y": [
          -0.37717979493713877
         ]
        },
        {
         "hoverinfo": "text",
         "marker": {
          "color": "green",
          "size": 0.5
         },
         "mode": "markers",
         "text": "Qlik appears with Linux 2 times",
         "type": "scatter",
         "x": [
          -0.7964765727628688
         ],
         "y": [
          -0.41907644772751734
         ]
        },
        {
         "hoverinfo": "text",
         "marker": {
          "color": "blue",
          "size": 0.5
         },
         "mode": "markers",
         "text": "Linux appears with Qlik 2 times",
         "type": "scatter",
         "x": [
          0.8650573353110003
         ],
         "y": [
          -0.24834614276173406
         ]
        },
        {
         "hoverinfo": "text",
         "marker": {
          "color": "green",
          "size": 0.5
         },
         "mode": "markers",
         "text": "Qlik appears with AWS 3 times",
         "type": "scatter",
         "x": [
          -0.796284880587658
         ],
         "y": [
          -0.4194405666450246
         ]
        },
        {
         "hoverinfo": "text",
         "marker": {
          "color": "blue",
          "size": 0.5
         },
         "mode": "markers",
         "text": "AWS appears with Qlik 3 times",
         "type": "scatter",
         "x": [
          0.8942165329442278
         ],
         "y": [
          -0.10186654116639479
         ]
        },
        {
         "hoverinfo": "text",
         "marker": {
          "color": "green",
          "size": 0.5
         },
         "mode": "markers",
         "text": "Tableau appears with Microstrategy 66 times",
         "type": "scatter",
         "x": [
          -0.5239962749101786
         ],
         "y": [
          -0.731729392521755
         ]
        },
        {
         "hoverinfo": "text",
         "marker": {
          "color": "blue",
          "size": 0.5
         },
         "mode": "markers",
         "text": "Microstrategy appears with Tableau 66 times",
         "type": "scatter",
         "x": [
          -0.06790256950434159
         ],
         "y": [
          -0.8974348115906292
         ]
        },
        {
         "hoverinfo": "text",
         "marker": {
          "color": "green",
          "size": 0.5
         },
         "mode": "markers",
         "text": "Tableau appears with Oracle BI 497 times",
         "type": "scatter",
         "x": [
          -0.1767983982131736
         ],
         "y": [
          -0.8824637819136013
         ]
        },
        {
         "hoverinfo": "text",
         "marker": {
          "color": "blue",
          "size": 0.5
         },
         "mode": "markers",
         "text": "Oracle BI appears with Tableau 497 times",
         "type": "scatter",
         "x": [
          0.392405684799682
         ],
         "y": [
          -0.8099492444202245
         ]
        },
        {
         "hoverinfo": "text",
         "marker": {
          "color": "green",
          "size": 0.5
         },
         "mode": "markers",
         "text": "Tableau appears with Python 176 times",
         "type": "scatter",
         "x": [
          -0.4358553141071987
         ],
         "y": [
          -0.7874199293671168
         ]
        },
        {
         "hoverinfo": "text",
         "marker": {
          "color": "blue",
          "size": 0.5
         },
         "mode": "markers",
         "text": "Python appears with Tableau 176 times",
         "type": "scatter",
         "x": [
          0.6713338958034343
         ],
         "y": [
          -0.5994253918090088
         ]
        },
        {
         "hoverinfo": "text",
         "marker": {
          "color": "green",
          "size": 0.5
         },
         "mode": "markers",
         "text": "Tableau appears with VBA 88 times",
         "type": "scatter",
         "x": [
          -0.49262150494222806
         ],
         "y": [
          -0.7532091694001437
         ]
        },
        {
         "hoverinfo": "text",
         "marker": {
          "color": "blue",
          "size": 0.5
         },
         "mode": "markers",
         "text": "VBA appears with Tableau 88 times",
         "type": "scatter",
         "x": [
          0.8297733796432841
         ],
         "y": [
          -0.34853427153633315
         ]
        },
        {
         "hoverinfo": "text",
         "marker": {
          "color": "green",
          "size": 0.5
         },
         "mode": "markers",
         "text": "Tableau appears with Linux 30 times",
         "type": "scatter",
         "x": [
          -0.5615644534731965
         ],
         "y": [
          -0.7033102904091125
         ]
        },
        {
         "hoverinfo": "text",
         "marker": {
          "color": "blue",
          "size": 0.5
         },
         "mode": "markers",
         "text": "Linux appears with Tableau 30 times",
         "type": "scatter",
         "x": [
          0.8688549963257254
         ],
         "y": [
          -0.23471471057397245
         ]
        },
        {
         "hoverinfo": "text",
         "marker": {
          "color": "green",
          "size": 0.5
         },
         "mode": "markers",
         "text": "Tableau appears with AWS 36 times",
         "type": "scatter",
         "x": [
          -0.5531094227691596
         ],
         "y": [
          -0.7099788492933906
         ]
        },
        {
         "hoverinfo": "text",
         "marker": {
          "color": "blue",
          "size": 0.5
         },
         "mode": "markers",
         "text": "AWS appears with Tableau 36 times",
         "type": "scatter",
         "x": [
          0.8964214517037283
         ],
         "y": [
          -0.08017843179671305
         ]
        },
        {
         "hoverinfo": "text",
         "marker": {
          "color": "green",
          "size": 0.5
         },
         "mode": "markers",
         "text": "Microstrategy appears with Oracle BI 70 times",
         "type": "scatter",
         "x": [
          -0.06008033002788005
         ],
         "y": [
          -0.8979924019409858
         ]
        },
        {
         "hoverinfo": "text",
         "marker": {
          "color": "blue",
          "size": 0.5
         },
         "mode": "markers",
         "text": "Oracle BI appears with Microstrategy 70 times",
         "type": "scatter",
         "x": [
          0.026147853981556456
         ],
         "y": [
          -0.8996200807741894
         ]
        },
        {
         "hoverinfo": "text",
         "marker": {
          "color": "green",
          "size": 0.5
         },
         "mode": "markers",
         "text": "Microstrategy appears with Python 20 times",
         "type": "scatter",
         "x": [
          -0.10039479927697716
         ],
         "y": [
          -0.894382962873363
         ]
        },
        {
         "hoverinfo": "text",
         "marker": {
          "color": "blue",
          "size": 0.5
         },
         "mode": "markers",
         "text": "Python appears with Microstrategy 20 times",
         "type": "scatter",
         "x": [
          0.556523668360603
         ],
         "y": [
          -0.707305737679582
         ]
        },
        {
         "hoverinfo": "text",
         "marker": {
          "color": "green",
          "size": 0.5
         },
         "mode": "markers",
         "text": "Microstrategy appears with VBA 7 times",
         "type": "scatter",
         "x": [
          -0.10549308066635533
         ],
         "y": [
          -0.8937959554235642
         ]
        },
        {
         "hoverinfo": "text",
         "marker": {
          "color": "blue",
          "size": 0.5
         },
         "mode": "markers",
         "text": "VBA appears with Microstrategy 7 times",
         "type": "scatter",
         "x": [
          0.8123375547410733
         ],
         "y": [
          -0.3874373461055269
         ]
        },
        {
         "hoverinfo": "text",
         "marker": {
          "color": "green",
          "size": 0.5
         },
         "mode": "markers",
         "text": "Microstrategy appears with Linux 12 times",
         "type": "scatter",
         "x": [
          -0.10440496585841663
         ],
         "y": [
          -0.8939237121276641
         ]
        },
        {
         "hoverinfo": "text",
         "marker": {
          "color": "blue",
          "size": 0.5
         },
         "mode": "markers",
         "text": "Linux appears with Microstrategy 12 times",
         "type": "scatter",
         "x": [
          0.8665553344312916
         ],
         "y": [
          -0.24306758806692527
         ]
        },
        {
         "hoverinfo": "text",
         "marker": {
          "color": "green",
          "size": 0.5
         },
         "mode": "markers",
         "text": "Microstrategy appears with AWS 2 times",
         "type": "scatter",
         "x": [
          -0.10749709227427362
         ],
         "y": [
          -0.8935571471106795
         ]
        },
        {
         "hoverinfo": "text",
         "marker": {
          "color": "blue",
          "size": 0.5
         },
         "mode": "markers",
         "text": "AWS appears with Microstrategy 2 times",
         "type": "scatter",
         "x": [
          0.8941209577647535
         ],
         "y": [
          -0.10270205881986902
         ]
        },
        {
         "hoverinfo": "text",
         "marker": {
          "color": "green",
          "size": 0.5
         },
         "mode": "markers",
         "text": "Oracle BI appears with Python 199 times",
         "type": "scatter",
         "x": [
          0.1479639302578519
         ],
         "y": [
          -0.887753724488188
         ]
        },
        {
         "hoverinfo": "text",
         "marker": {
          "color": "blue",
          "size": 0.5
         },
         "mode": "markers",
         "text": "Python appears with Oracle BI 199 times",
         "type": "scatter",
         "x": [
          0.6916640378618448
         ],
         "y": [
          -0.5758479475770045
         ]
        },
        {
         "hoverinfo": "text",
         "marker": {
          "color": "green",
          "size": 0.5
         },
         "mode": "markers",
         "text": "Oracle BI appears with VBA 91 times",
         "type": "scatter",
         "x": [
          0.05327354494433291
         ],
         "y": [
          -0.898421910579358
         ]
        },
        {
         "hoverinfo": "text",
         "marker": {
          "color": "blue",
          "size": 0.5
         },
         "mode": "markers",
         "text": "VBA appears with Oracle BI 91 times",
         "type": "scatter",
         "x": [
          0.8347215228979715
         ],
         "y": [
          -0.3365114845155976
         ]
        },
        {
         "hoverinfo": "text",
         "marker": {
          "color": "green",
          "size": 0.5
         },
         "mode": "markers",
         "text": "Oracle BI appears with Linux 9 times",
         "type": "scatter",
         "x": [
          -0.02704417922629336
         ],
         "y": [
          -0.8995935817745567
         ]
        },
        {
         "hoverinfo": "text",
         "marker": {
          "color": "blue",
          "size": 0.5
         },
         "mode": "markers",
         "text": "Linux appears with Oracle BI 9 times",
         "type": "scatter",
         "x": [
          0.8656722472628926
         ],
         "y": [
          -0.24619415167467604
         ]
        },
        {
         "hoverinfo": "text",
         "marker": {
          "color": "green",
          "size": 0.5
         },
         "mode": "markers",
         "text": "Oracle BI appears with AWS 53 times",
         "type": "scatter",
         "x": [
          -0.0061087686362435055
         ],
         "y": [
          -0.8999792680644088
         ]
        },
        {
         "hoverinfo": "text",
         "marker": {
          "color": "blue",
          "size": 0.5
         },
         "mode": "markers",
         "text": "AWS appears with Oracle BI 53 times",
         "type": "scatter",
         "x": [
          0.8969160152285659
         ],
         "y": [
          -0.0744423375943488
         ]
        },
        {
         "hoverinfo": "text",
         "marker": {
          "color": "green",
          "size": 0.5
         },
         "mode": "markers",
         "text": "Python appears with VBA 73 times",
         "type": "scatter",
         "x": [
          0.5993349021060042
         ],
         "y": [
          -0.6714146819347836
         ]
        },
        {
         "hoverinfo": "text",
         "marker": {
          "color": "blue",
          "size": 0.5
         },
         "mode": "markers",
         "text": "VBA appears with Python 73 times",
         "type": "scatter",
         "x": [
          0.8251748701597206
         ],
         "y": [
          -0.3592860053730013
         ]
        },
        {
         "hoverinfo": "text",
         "marker": {
          "color": "green",
          "size": 0.5
         },
         "mode": "markers",
         "text": "Python appears with Linux 130 times",
         "type": "scatter",
         "x": [
          0.6387850191254681
         ],
         "y": [
          -0.6339981855974631
         ]
        },
        {
         "hoverinfo": "text",
         "marker": {
          "color": "blue",
          "size": 0.5
         },
         "mode": "markers",
         "text": "Linux appears with Python 130 times",
         "type": "scatter",
         "x": [
          0.8890218941151385
         ],
         "y": [
          -0.14014304044058504
         ]
        },
        {
         "hoverinfo": "text",
         "marker": {
          "color": "green",
          "size": 0.5
         },
         "mode": "markers",
         "text": "Python appears with AWS 120 times",
         "type": "scatter",
         "x": [
          0.6239951862578257
         ],
         "y": [
          -0.648559949061813
         ]
        },
        {
         "hoverinfo": "text",
         "marker": {
          "color": "blue",
          "size": 0.5
         },
         "mode": "markers",
         "text": "AWS appears with Python 120 times",
         "type": "scatter",
         "x": [
          0.8992786116158785
         ],
         "y": [
          -0.03602747132700202
         ]
        },
        {
         "hoverinfo": "text",
         "marker": {
          "color": "green",
          "size": 0.5
         },
         "mode": "markers",
         "text": "VBA appears with Linux 5 times",
         "type": "scatter",
         "x": [
          0.811208496807439
         ],
         "y": [
          -0.38979581155704485
         ]
        },
        {
         "hoverinfo": "text",
         "marker": {
          "color": "blue",
          "size": 0.5
         },
         "mode": "markers",
         "text": "Linux appears with VBA 5 times",
         "type": "scatter",
         "x": [
          0.8651966541419857
         ],
         "y": [
          -0.24786034305937965
         ]
        },
        {
         "hoverinfo": "text",
         "marker": {
          "color": "green",
          "size": 0.5
         },
         "mode": "markers",
         "text": "VBA appears with AWS 5 times",
         "type": "scatter",
         "x": [
          0.8108936540049976
         ],
         "y": [
          -0.3904503577849856
         ]
        },
        {
         "hoverinfo": "text",
         "marker": {
          "color": "blue",
          "size": 0.5
         },
         "mode": "markers",
         "text": "AWS appears with VBA 5 times",
         "type": "scatter",
         "x": [
          0.8942749603769004
         ],
         "y": [
          -0.1013523322025365
         ]
        },
        {
         "hoverinfo": "text",
         "marker": {
          "color": "green",
          "size": 0.5
         },
         "mode": "markers",
         "text": "Linux appears with AWS 34 times",
         "type": "scatter",
         "x": [
          0.8711829856595777
         ],
         "y": [
          -0.22592079474290114
         ]
        },
        {
         "hoverinfo": "text",
         "marker": {
          "color": "blue",
          "size": 0.5
         },
         "mode": "markers",
         "text": "AWS appears with Linux 34 times",
         "type": "scatter",
         "x": [
          0.8960066953010557
         ],
         "y": [
          -0.08468767310347627
         ]
        }
       ],
       "layout": {
        "autosize": false,
        "font": {
         "color": "#655643",
         "family": "Fira Sans Condensed",
         "size": 12
        },
        "height": 525,
        "hidesources": true,
        "hoverdistance": 40,
        "hovermode": "closest",
        "margin": {
         "b": 10,
         "l": 280,
         "r": 280,
         "t": 80
        },
        "paper_bgcolor": "#fffaf0",
        "plot_bgcolor": "#fffaf0",
        "shapes": [
         {
          "fillcolor": "#f2e6ce",
          "layer": "below",
          "line": {
           "color": "rgb(175,175,175)",
           "width": 0.5
          },
          "path": "M 0.9692230907405225,0.24618407823291277 Q 0.18285218225295974, 0.08102517784818745 0.8334403791672044, 0.552609386794711L 0.8334403791672044, 0.552609386794711 L 0.8470340951954648, 0.5315385607614939 L 0.8600952225908025, 0.5101335198518892 M 0.8600952225908025,0.5101335198518892 Q 0.182982922814238, 0.08072948630059917 0.9566100561508664, 0.29137124166780143L 0.9566100561508664, 0.29137124166780143 L 0.9631816014393237, 0.2688516368720484 L 0.9692230907405225, 0.24618407823291277 ",
          "type": "path"
         },
         {
          "fillcolor": "#f2e6ce",
          "layer": "below",
          "line": {
           "color": "rgb(175,175,175)",
           "width": 0.5
          },
          "path": "M 0.9973057772457082,0.07335657211411803 Q 0.14612496838541278, 0.13655582599934032 0.14063176496586177, 0.9900619711324068L 0.14063176496586177, 0.9900619711324068 L 0.15504745259942357, 0.9879070236831143 L 0.16943019949489196, 0.9855421896089082 M 0.16943019949489196,0.9855421896089082 Q 0.14620794098044432, 0.13646698499732055 0.994867583262454, 0.10118543261519541L 0.994867583262454, 0.10118543261519541 L 0.9961838615179394, 0.08727951679063602 L 0.9973057772457082, 0.07335657211411803 ",
          "type": "path"
         },
         {
          "fillcolor": "#f2e6ce",
          "layer": "below",
          "line": {
           "color": "rgb(175,175,175)",
           "width": 0.5
          },
          "path": "M 0.994867583262454,0.10118543261519541 Q 0.09855561507210334, 0.17403100510472091 -0.4249244571210725, 0.9052288140245878L -0.4249244571210725, 0.9052288140245878 L -0.41187775357935313, 0.9112391102813935 L -0.39874606312660377, 0.9170613813377132 M -0.39874606312660377,0.9170613813377132 Q 0.09860902766517311, 0.17400074615624248 0.9916298987482848, 0.12911291147079937L 0.9916298987482848, 0.12911291147079937 L 0.9933468918396829, 0.11516055085158777 L 0.994867583262454, 0.10118543261519541 ",
          "type": "path"
         },
         {
          "fillcolor": "#f2e6ce",
          "layer": "below",
          "line": {
           "color": "rgb(175,175,175)",
           "width": 0.5
          },
          "path": "M 1.0,0.0 Q 0.07708343923497896, 0.18454848521650702 -0.7029071697853654, 0.7112815973047015L -0.7029071697853654, 0.7112815973047015 L -0.7026160892763639, 0.7115691330362698 L -0.7023248911461548, 0.7118565496478498 M -0.7023248911461548,0.7118565496478498 Q 0.0770763253573697, 0.18455145642721138 0.9999995991324732, 0.000895396500386114L 0.9999995991324732, 0.000895396500386114 L 0.9999998997831133, 0.00044769829505998627 L 1.0, 0.0 ",
          "type": "path"
         },
         {
          "fillcolor": "#f2e6ce",
          "layer": "below",
          "line": {
           "color": "rgb(175,175,175)",
           "width": 0.5
          },
          "path": "M 0.9991070641501527,0.042250140417077156 Q 0.047627464196331855, 0.19424629894602144 -0.8662458011971481, 0.49961806603475717L -0.8662458011971481, 0.49961806603475717 L -0.8632374275848624, 0.5047981216453458 L -0.8601980781754194, 0.5099600634395943 M -0.8601980781754194,0.5099600634395943 Q 0.04760834586376586, 0.19425098559367993 0.9985185029169151, 0.05441322755141991L 0.9985185029169151, 0.05441322755141991 L 0.9988312979288171, 0.04833257987977244 L 0.9991070641501527, 0.042250140417077156 ",
          "type": "path"
         },
         {
          "fillcolor": "#f2e6ce",
          "layer": "below",
          "line": {
           "color": "rgb(175,175,175)",
           "width": 0.5
          },
          "path": "M 0.999991517654558,0.004118812806373271 Q 0.03159677990663684, 0.19748833762916623 -0.9487890473746492, 0.31591034104933263L -0.9487890473746492, 0.31591034104933263 L -0.9485622307236881, 0.31659073651087893 L -0.9483349261477039, 0.3172709691232859 M -0.9483349261477039,0.3172709691232859 Q 0.03154390507741427, 0.19749678998015913 0.9999814639415869, 0.0060886593960182275L 0.9999814639415869, 0.0060886593960182275 L 0.9999869758414557, 0.005103738576762618 L 0.999991517654558, 0.004118812806373271 ",
          "type": "path"
         },
         {
          "fillcolor": "#f2e6ce",
          "layer": "below",
          "line": {
           "color": "rgb(175,175,175)",
           "width": 0.5
          },
          "path": "M 0.9999972901365617,0.002328029109198674 Q 0.022864865622544524, 0.1986886960047375 -0.973328446288704, 0.2294160753853521L -0.973328446288704, 0.2294160753853521 L -0.973160903089841, 0.23012574105772043 L -0.9729928424651311, 0.23083528437313205 M -0.9729928424651311,0.23083528437313205 Q 0.022831838940756622, 0.1986924938959279 0.999991517654558, 0.004118812806373271L 0.999991517654558, 0.004118812806373271 L 0.999994804761004, 0.0032234222499512777 L 0.9999972901365617, 0.002328029109198674 ",
          "type": "path"
         },
         {
          "fillcolor": "#f2e6ce",
          "layer": "below",
          "line": {
           "color": "rgb(175,175,175)",
           "width": 0.5
          },
          "path": "M 0.9998298926679315,0.018444124474542068 Q 0.007565028361261116, 0.19985687465257063 -0.995574591990611, 0.09397463371957548L -0.995574591990611, 0.09397463371957548 L -0.9952432751175667, 0.09742085676722156 L -0.9949000290355285, 0.10086591210663969 M -0.9949000290355285,0.10086591210663969 Q 0.007523255763303026, 0.19985845146683173 0.999667522841501, 0.025784564683879296L 0.999667522841501, 0.025784564683879296 L 0.9997554446827693, 0.022114493599406673 L 0.9998298926679315, 0.018444124474542068 ",
          "type": "path"
         },
         {
          "fillcolor": "#f2e6ce",
          "layer": "below",
          "line": {
           "color": "rgb(175,175,175)",
           "width": 0.5
          },
          "path": "M 0.9994333230160048,0.03366055325133708 Q -0.01608791222119752, 0.199351897609135 -0.991897342406889, -0.1270419699396653L -0.991897342406889, -0.1270419699396653 L -0.9924082471377842, -0.12298727988255811 L -0.992902577127503, -0.11893053574907918 M -0.992902577127503,-0.11893053574907918 Q -0.016130004968565117, 0.19934849620630216 0.9991070641501527, 0.042250140417077156L 0.9991070641501527, 0.042250140417077156 L 0.9992794229020645, 0.03795569739204963 L 0.9994333230160048, 0.03366055325133708 ",
          "type": "path"
         },
         {
          "fillcolor": "#f2e6ce",
          "layer": "below",
          "line": {
           "color": "rgb(175,175,175)",
           "width": 0.5
          },
          "path": "M 0.9999660707621321,0.008237555738360472 Q -0.03485984775856355, 0.19693854628855614 -0.9420353260767341, -0.3355137022887457L -0.9420353260767341, -0.3355137022887457 L -0.9426522384743619, -0.3337765080098881 L -0.9432659473391796, -0.332038179416645 M -0.9432659473391796,-0.332038179416645 Q -0.03490237193320326, 0.19693101440209043 0.9999236597544212, 0.012356158922760931L 0.9999236597544212, 0.012356158922760931 L 0.9999469857344642, 0.01029687916600537 L 0.9999660707621321, 0.008237555738360472 ",
          "type": "path"
         },
         {
          "fillcolor": "#f2e6ce",
          "layer": "below",
          "line": {
           "color": "rgb(175,175,175)",
           "width": 0.5
          },
          "path": "M 0.9916298987482848,0.12911291147079937 Q -0.07441801972386558, 0.1856393232598588 -0.8062296821217547, -0.5916026535317894L -0.8062296821217547, -0.5916026535317894 L -0.8177042296769997, -0.57563859562085 L -0.8288627211480977, -0.5594520439599544 M -0.8288627211480977,-0.5594520439599544 Q -0.07434202958901506, 0.1856697676968063 0.9859251051251711, 0.1671875805313316L 0.9859251051251711, 0.1671875805313316 L 0.988960751719831, 0.14817770263351634 L 0.9916298987482848, 0.12911291147079937 ",
          "type": "path"
         },
         {
          "fillcolor": "#f2e6ce",
          "layer": "below",
          "line": {
           "color": "rgb(175,175,175)",
           "width": 0.5
          },
          "path": "M 0.9786854581005866,0.20536497778940999 Q -0.12668329506432366, 0.15476221357826825 -0.39467318686065556, -0.9188215689530008L -0.39467318686065556, -0.9188215689530008 L -0.4146748596023188, -0.9099696482926215 L -0.4344781421828459, -0.900682376848433 M -0.4344781421828459,-0.900682376848433 Q -0.1265406980302703, 0.1548788292246941 0.9692230907405225, 0.24618407823291277L 0.9692230907405225, 0.24618407823291277 L 0.974168095557601, 0.22582409436921674 L 0.9786854581005866, 0.20536497778940999 ",
          "type": "path"
         },
         {
          "fillcolor": "#f2e6ce",
          "layer": "below",
          "line": {
           "color": "rgb(175,175,175)",
           "width": 0.5
          },
          "path": "M 0.9999236597544212,0.012356158922760931 Q -0.13532676076314412, 0.14726393931086715 -0.0966390943066005, -0.9953194891348205L -0.0966390943066005, -0.9953194891348205 L -0.09880703199268369, -0.995106612594247 L -0.10097450081269922, -0.9948890140038869 M -0.10097450081269922,-0.9948890140038869 Q -0.1354542382137143, 0.14714669330277982 0.9998298926679315, 0.018444124474542068L 0.9998298926679315, 0.018444124474542068 L 0.9998814096869663, 0.015400213063629082 L 0.9999236597544212, 0.012356158922760931 ",
          "type": "path"
         },
         {
          "fillcolor": "#f2e6ce",
          "layer": "below",
          "line": {
           "color": "rgb(175,175,175)",
           "width": 0.5
          },
          "path": "M 0.9859251051251711,0.1671875805313316 Q -0.16846356632124979, 0.10779622823793922 0.2612971718257659, -0.9652584047786666L 0.2612971718257659, -0.9652584047786666 L 0.2414332517932773, -0.970417428186718 L 0.22146764228628088, -0.9751677206615055 M 0.22146764228628088,-0.9751677206615055 Q -0.16834562413321025, 0.1079803261487939 0.9786854581005866, 0.20536497778940999L 0.9786854581005866, 0.20536497778940999 L 0.9824907351725549, 0.18631144704524338 L 0.9859251051251711, 0.1671875805313316 ",
          "type": "path"
         },
         {
          "fillcolor": "#f2e6ce",
          "layer": "below",
          "line": {
           "color": "rgb(175,175,175)",
           "width": 0.5
          },
          "path": "M 0.9985185029169151,0.05441322755141991 Q -0.18568359422711606, 0.07430748841738438 0.6853085538651915, -0.7282528310959043L 0.6853085538651915, -0.7282528310959043 L 0.6781548390664152, -0.7349190528560302 L 0.670936283070504, -0.7415150059570855 M 0.670936283070504,-0.7415150059570855 Q -0.185662254121734, 0.07436079205089645 0.9973057772457082, 0.07335657211411803L 0.9973057772457082, 0.07335657211411803 L 0.9979570892064792, 0.06388777741110836 L 0.9985185029169151, 0.05441322755141991 ",
          "type": "path"
         },
         {
          "fillcolor": "#f2e6ce",
          "layer": "below",
          "line": {
           "color": "rgb(175,175,175)",
           "width": 0.5
          },
          "path": "M 0.999667522841501,0.025784564683879296 Q -0.1961948838117724, 0.03882740740875088 0.9144932023325113, -0.4046012640707251L 0.9144932023325113, -0.4046012640707251 L 0.9130507202451066, -0.4078460276377498 L 0.9115967252773104, -0.41108564857421614 M 0.9115967252773104,-0.41108564857421614 Q -0.19620996482131603, 0.03875112520712057 0.9994333230160048, 0.03366055325133708L 0.9994333230160048, 0.03366055325133708 L 0.9995581802856838, 0.029722789639811932 L 0.999667522841501, 0.025784564683879296 ",
          "type": "path"
         },
         {
          "fillcolor": "#f2e6ce",
          "layer": "below",
          "line": {
           "color": "rgb(175,175,175)",
           "width": 0.5
          },
          "path": "M 0.9999814639415869,0.0060886593960182275 Q -0.19820247358427745, 0.026754055114576493 0.9625788313065713, -0.2710018330574084L 0.9625788313065713, -0.2710018330574084 L 0.9623175101491912, -0.2719283171357139 L 0.9620552972492286, -0.2728545492285195 M 0.9620552972492286,-0.2728545492285195 Q -0.1982054646070053, 0.02673188732433933 0.9999660707621321, 0.008237555738360472L 0.9999660707621321, 0.008237555738360472 L 0.9999743445862715, 0.007163111702090005 L 0.9999814639415869, 0.0060886593960182275 ",
          "type": "path"
         },
         {
          "fillcolor": "#f2e6ce",
          "layer": "below",
          "line": {
           "color": "rgb(175,175,175)",
           "width": 0.5
          },
          "path": "M 0.9999995991324732,0.000895396500386114 Q -0.19969984922829478, 0.010953091718612447 0.9939031642116656, -0.11025651985274537L 0.9939031642116656, -0.11025651985274537 L 0.9938396002247604, -0.11082801552445315 L 0.9937757076270939, -0.11139947455113437 M 0.9937757076270939,-0.11139947455113437 Q -0.19970139487996286, 0.010924874507158093 0.9999972901365617, 0.002328029109198674L 0.9999972901365617, 0.002328029109198674 L 0.9999987011894076, 0.0016117132182858387 L 0.9999995991324732, 0.000895396500386114 ",
          "type": "path"
         },
         {
          "fillcolor": "#ecd5bb",
          "layer": "below",
          "line": {
           "color": "rgb(175,175,175)",
           "width": 0.5
          },
          "path": "M 0.5720263988500368,0.8202352095701931 Q 0.03970341073834584, 0.19601948672451475 -0.2077605410144726, 0.9781797164107288L -0.2077605410144726, 0.9781797164107288 L -0.1462499543772419, 0.989247669112571 L -0.08416810783581631, 0.9964515691308526 M -0.08416810783581631,0.9964515691308526 Q 0.03940519101455682, 0.19607965453128046 0.46259038058179913, 0.8865721289287106L 0.46259038058179913, 0.8865721289287106 L 0.5183706365024651, 0.8551560578116892 L 0.5720263988500368, 0.8202352095701931 ",
          "type": "path"
         },
         {
          "fillcolor": "#ecd5bb",
          "layer": "below",
          "line": {
           "color": "rgb(175,175,175)",
           "width": 0.5
          },
          "path": "M 0.8334403791672044,0.552609386794711 Q 0.04161846821886878, 0.1956218369791957 -0.5363074576212064, 0.8440226957255818L -0.5363074576212064, 0.8440226957255818 L -0.5142758469515523, 0.8576248324542985 L -0.49189946061531015, 0.8706520089257056 M -0.49189946061531015,0.8706520089257056 Q 0.04138509659944334, 0.19567134123180827 0.8022966649277837, 0.5969255074511018L 0.8022966649277837, 0.5969255074511018 L 0.8181686250362209, 0.5749783482935159 L 0.8334403791672044, 0.552609386794711 ",
          "type": "path"
         },
         {
          "fillcolor": "#ecd5bb",
          "layer": "below",
          "line": {
           "color": "rgb(175,175,175)",
           "width": 0.5
          },
          "path": "M 0.9306030845772485,0.36602991541035346 Q 0.04764866524582987, 0.19424109941073453 -0.6555748743255498, 0.7551301769582776L -0.6555748743255498, 0.7551301769582776 L -0.6511866063434302, 0.7589176527917417 L -0.6467764572742227, 0.7626796275736003 M -0.6467764572742227,0.7626796275736003 Q 0.047324482486635816, 0.19432033696289255 0.9250344787566761, 0.37988315718305354L 0.9250344787566761, 0.37988315718305354 L 0.9278446366126548, 0.37296692924323804 L 0.9306030845772485, 0.36602991541035346 ",
          "type": "path"
         },
         {
          "fillcolor": "#ecd5bb",
          "layer": "below",
          "line": {
           "color": "rgb(175,175,175)",
           "width": 0.5
          },
          "path": "M 0.8910175655354879,0.4539688292242238 Q 0.01719436625420755, 0.19925951362260264 -0.8000782040733543, 0.5998957137426105L -0.8000782040733543, 0.5998957137426105 L -0.7930536237371136, 0.6091518282640482 L -0.7859219649953229, 0.6183256948711501 M -0.7859219649953229,0.6183256948711501 Q 0.016801617858248297, 0.19929301452219894 0.878350379273651, 0.4780173754476226L 0.878350379273651, 0.4780173754476226 L 0.8847656832028431, 0.46603614218921496 L 0.8910175655354879, 0.4539688292242238 ",
          "type": "path"
         },
         {
          "fillcolor": "#ecd5bb",
          "layer": "below",
          "line": {
           "color": "rgb(175,175,175)",
           "width": 0.5
          },
          "path": "M 0.878350379273651,0.4780173754476226 Q -0.010292661527746078, 0.19973497720398214 -0.922833320393407, 0.3851995103471437L -0.922833320393407, 0.3851995103471437 L -0.916151172385898, 0.40083291947636296 L -0.9092042066832939, 0.416350466013192 M -0.9092042066832939,0.416350466013192 Q -0.010586289957255341, 0.1997196296435103 0.8600952225908025, 0.5101335198518892L 0.8600952225908025, 0.5101335198518892 L 0.8693711171549895, 0.4941597521618748 L 0.878350379273651, 0.4780173754476226 ",
          "type": "path"
         },
         {
          "fillcolor": "#ecd5bb",
          "layer": "below",
          "line": {
           "color": "rgb(175,175,175)",
           "width": 0.5
          },
          "path": "M 0.9397501239241853,0.34186211340901507 Q -0.006802329799322289, 0.1998842872996806 -0.9608170667276827, 0.2771832684070443L -0.9608170667276827, 0.2771832684070443 L -0.9595970460968425, 0.2813778760354381 L -0.9583587132994893, 0.28556711407819235 M -0.9583587132994893,0.28556711407819235 Q -0.007210900909972654, 0.19986996499741166 0.9352885467447274, 0.3538860470944508L 0.9352885467447274, 0.3538860470944508 L 0.9375386114029005, 0.3478812327917693 L 0.9397501239241853, 0.34186211340901507 ",
          "type": "path"
         },
         {
          "fillcolor": "#ecd5bb",
          "layer": "below",
          "line": {
           "color": "rgb(175,175,175)",
           "width": 0.5
          },
          "path": "M 0.9352885467447274,0.3538860470944508 Q -0.020266825213958735, 0.19897048976103682 -0.9874326059507599, 0.15804065522925223L -0.9874326059507599, 0.15804065522925223 L -0.9866368437060355, 0.1629347680570109 L -0.9858168244243105, 0.1678248750393339 M -0.9858168244243105,0.1678248750393339 Q -0.020575178029940966, 0.19893883997107312 0.9306030845772485, 0.36602991541035346L 0.9306030845772485, 0.36602991541035346 L 0.9329655745759136, 0.359965604823899 L 0.9352885467447274, 0.3538860470944508 ",
          "type": "path"
         },
         {
          "fillcolor": "#ecd5bb",
          "layer": "below",
          "line": {
           "color": "rgb(175,175,175)",
           "width": 0.5
          },
          "path": "M 0.9182014278800612,0.3961137940529422 Q -0.03815756350169766, 0.19632625995422495 -0.9997273716181859, 0.02334914211258294L -0.9997273716181859, 0.02334914211258294 L -0.9994891843201711, 0.03195888651062738 L -0.9991768504849385, 0.040566260056835876 M -0.9991768504849385,0.040566260056835876 Q -0.03838317917128813, 0.19628227519749408 0.9102928804557447, 0.41396481950956077L 0.9102928804557447, 0.41396481950956077 L 0.914290721642505, 0.4050586084981128 L 0.9182014278800612, 0.3961137940529422 ",
          "type": "path"
         },
         {
          "fillcolor": "#ecd5bb",
          "layer": "below",
          "line": {
           "color": "rgb(175,175,175)",
           "width": 0.5
          },
          "path": "M 0.9102928804557447,0.41396481950956077 Q -0.06323776247776003, 0.1897392563409228 -0.9766308490880287, -0.21492367158969736L -0.9766308490880287, -0.21492367158969736 L -0.9786183673387603, -0.20568444546736916 L -0.9805184817304058, -0.19642684894153306 M -0.9805184817304058,-0.19642684894153306 Q -0.06346031134179157, 0.18966493846887697 0.9012923384232591, 0.43321140416606474L 0.9012923384232591, 0.43321140416606474 L 0.9058437277314764, 0.42361201697962136 L 0.9102928804557447, 0.41396481950956077 ",
          "type": "path"
         },
         {
          "fillcolor": "#ecd5bb",
          "layer": "below",
          "line": {
           "color": "rgb(175,175,175)",
           "width": 0.5
          },
          "path": "M 0.9012923384232591,0.43321140416606474 Q -0.08504037817709757, 0.1810197063291625 -0.9088335484539909, -0.4171589399791491L -0.9088335484539909, -0.4171589399791491 L -0.9128364842873467, -0.40832530285780316 L -0.9167535617880503, -0.3994532600304113 M -0.9167535617880503,-0.3994532600304113 Q -0.08538100514346607, 0.1808592932660399 0.8910175655354879, 0.4539688292242238L 0.8910175655354879, 0.4539688292242238 L 0.896215049879723, 0.4436198647142456 L 0.9012923384232591, 0.43321140416606474 ",
          "type": "path"
         },
         {
          "fillcolor": "#ecd5bb",
          "layer": "below",
          "line": {
           "color": "rgb(175,175,175)",
           "width": 0.5
          },
          "path": "M 0.712411175122703,0.7017622941996023 Q -0.14619655116837244, 0.13647918678858495 -0.6511832584423312, -0.758920525433611L -0.6511832584423312, -0.758920525433611 L -0.6833226338467454, -0.7301165510195935 L -0.7141892467779365, -0.6999526553894654 M -0.7141892467779365,-0.6999526553894654 Q -0.14647107494915546, 0.13618452262734881 0.6461874982911824, 0.7631786927399002L 0.6461874982911824, 0.7631786927399002 L 0.6799930752242316, 0.7332185333494322 L 0.712411175122703, 0.7017622941996023 ",
          "type": "path"
         },
         {
          "fillcolor": "#ecd5bb",
          "layer": "below",
          "line": {
           "color": "rgb(175,175,175)",
           "width": 0.5
          },
          "path": "M 0.6461874982911824,0.7631786927399002 Q -0.17800629383397212, 0.09117981879502496 -0.2417665726861761, -0.970334439423635L -0.2417665726861761, -0.970334439423635 L -0.28585224803143106, -0.9582737042700156 L -0.3293407757142602, -0.9442111275831955 M -0.3293407757142602,-0.9442111275831955 Q -0.178105788462105, 0.09098531813590537 0.5720263988500368, 0.8202352095701931L 0.5720263988500368, 0.8202352095701931 L 0.6097746602846011, 0.7925748315930801 L 0.6461874982911824, 0.7631786927399002 ",
          "type": "path"
         },
         {
          "fillcolor": "#ecd5bb",
          "layer": "below",
          "line": {
           "color": "rgb(175,175,175)",
           "width": 0.5
          },
          "path": "M 0.9469858349602993,0.32127531555434613 Q -0.15778557455514614, 0.12289716214096412 -0.07966314998904823, -0.9968218409193402L -0.07966314998904823, -0.9968218409193402 L -0.08279218246888466, -0.9965668339464439 L -0.08592039895950052, -0.9963020049375793 M -0.08592039895950052,-0.9963020049375793 Q -0.15797592013700623, 0.12265238952774721 0.9439308079911718, 0.330143347237429L 0.9439308079911718, 0.330143347237429 L 0.9454687187549878, 0.3257129132469292 L 0.9469858349602993, 0.32127531555434613 ",
          "type": "path"
         },
         {
          "fillcolor": "#ecd5bb",
          "layer": "below",
          "line": {
           "color": "rgb(175,175,175)",
           "width": 0.5
          },
          "path": "M 0.46259038058179913,0.8865721289287106 Q -0.19942325048419368, -0.015177851175925567 0.5914366525537267, -0.8063514655632755L 0.5914366525537267, -0.8063514655632755 L 0.5358382496111099, -0.8443206560624357 L 0.4778109766328281, -0.8784626745680109 M 0.4778109766328281,-0.8784626745680109 Q -0.1994109501593744, -0.015338609993591299 0.3378430675360872, 0.9412024552230018L 0.3378430675360872, 0.9412024552230018 L 0.401147783683554, 0.9160133490543533 L 0.46259038058179913, 0.8865721289287106 ",
          "type": "path"
         },
         {
          "fillcolor": "#ecd5bb",
          "layer": "below",
          "line": {
           "color": "rgb(175,175,175)",
           "width": 0.5
          },
          "path": "M 0.7670826238928254,0.6415483209561834 Q -0.19883698801038574, -0.02153722820972386 0.8866602248894772, -0.4624215020940762L 0.8866602248894772, -0.4624215020940762 L 0.8678541103626828, -0.49681912516186044 L 0.8477142199994164, -0.5304532036012046 M 0.8477142199994164,-0.5304532036012046 Q -0.19880508749841994, -0.02182973166911588 0.712411175122703, 0.7017622941996023L 0.712411175122703, 0.7017622941996023 L 0.7403593086973311, 0.672211346248492 L 0.7670826238928254, 0.6415483209561834 ",
          "type": "path"
         },
         {
          "fillcolor": "#ecd5bb",
          "layer": "below",
          "line": {
           "color": "rgb(175,175,175)",
           "width": 0.5
          },
          "path": "M 0.8022966649277837,0.5969255074511018 Q -0.19730793553780734, -0.03270441214589343 0.9519839396684151, -0.3061479684946535L 0.9519839396684151, -0.3061479684946535 L 0.9443731560241327, -0.3288758765568236 L 0.9362198471585544, -0.3514148514027446 M 0.9362198471585544,-0.3514148514027446 Q -0.19716021833906663, -0.03358345283754443 0.7670826238928254, 0.6415483209561834L 0.7670826238928254, 0.6415483209561834 L 0.7850067750765262, 0.6194871774976075 L 0.8022966649277837, 0.5969255074511018 ",
          "type": "path"
         },
         {
          "fillcolor": "#ecd5bb",
          "layer": "below",
          "line": {
           "color": "rgb(175,175,175)",
           "width": 0.5
          },
          "path": "M 0.9250344787566761,0.37988315718305354 Q -0.19913134242086394, -0.018620109174348073 0.9794260521317769, -0.20180339047092796L 0.9794260521317769, -0.20180339047092796 L 0.9779100464802117, -0.20902617298575335 L 0.976340777138669, -0.2162375705011964 M 0.976340777138669,-0.2162375705011964 Q -0.19910460467474247, -0.01890387254809235 0.9182014278800612, 0.3961137940529422L 0.9182014278800612, 0.3961137940529422 L 0.9216536823948783, 0.38801351745520507 L 0.9250344787566761, 0.37988315718305354 ",
          "type": "path"
         },
         {
          "fillcolor": "#ecd5bb",
          "layer": "below",
          "line": {
           "color": "rgb(175,175,175)",
           "width": 0.5
          },
          "path": "M 0.9439308079911718,0.330143347237429 Q -0.1982230722152687, -0.02660100828052164 0.9975750893529782, -0.06959842744198648L 0.9975750893529782, -0.06959842744198648 L 0.9972390367526055, -0.07425835694880045 L 0.9968812165438329, -0.07891666555352973 M 0.9968812165438329,-0.07891666555352973 Q -0.19818162704216968, -0.0269080416031781 0.9397501239241853, 0.34186211340901507L 0.9397501239241853, 0.34186211340901507 L 0.9418586919944643, 0.3360092324839853 L 0.9439308079911718, 0.330143347237429 ",
          "type": "path"
         },
         {
          "fillcolor": "#e6c4a9",
          "layer": "below",
          "line": {
           "color": "rgb(175,175,175)",
           "width": 0.5
          },
          "path": "M 0.034575718046629025,0.9994020811072789 Q -0.057800581475772474, 0.19146564386610615 -0.5818104289463552, 0.8133244277465532L -0.5818104289463552, 0.8133244277465532 L -0.5592696111713971, 0.828985827394048 L -0.5363074576212064, 0.8440226957255818 M -0.5363074576212064,0.8440226957255818 Q -0.05791207137452317, 0.191431951327651 -0.021477254222601536, 0.999769337172859L -0.021477254222601536, 0.999769337172859 L 0.006551805697039983, 0.9999785366907173 L 0.034575718046629025, 0.9994020811072789 ",
          "type": "path"
         },
         {
          "fillcolor": "#e6c4a9",
          "layer": "below",
          "line": {
           "color": "rgb(175,175,175)",
           "width": 0.5
          },
          "path": "M 0.24980129463858203,0.9682971203080635 Q -0.04470658039573153, 0.19493927687698032 -0.6467764572742227, 0.7626796275736003L -0.6467764572742227, 0.7626796275736003 L -0.6430278119129137, 0.7658428253280763 L -0.6392636964842845, 0.7689875983117339 M -0.6392636964842845,0.7689875983117339 Q -0.04495252883915429, 0.19488270870183688 0.23784007314807748, 0.9713043290364339L 0.23784007314807748, 0.9713043290364339 L 0.24382532009677538, 0.9698191652466479 L 0.24980129463858203, 0.9682971203080635 ",
          "type": "path"
         },
         {
          "fillcolor": "#e6c4a9",
          "layer": "below",
          "line": {
           "color": "rgb(175,175,175)",
           "width": 0.5
          },
          "path": "M 0.2238397167802726,0.9746259698939523 Q -0.06315927839427703, 0.1897653960887343 -0.7632601495505148, 0.6460912815602188L -0.7632601495505148, 0.6460912815602188 L -0.7584278806858487, 0.6517569714229162 L -0.7535535563399164, 0.65738652079843 M -0.7535535563399164,0.65738652079843 Q -0.06335965673135023, 0.18969858697124098 0.20723431822409707, 0.9782913356205265L 0.20723431822409707, 0.9782913356205265 L 0.21554480889182767, 0.9764939504983047 L 0.2238397167802726, 0.9746259698939523 ",
          "type": "path"
         },
         {
          "fillcolor": "#e6c4a9",
          "layer": "below",
          "line": {
           "color": "rgb(175,175,175)",
           "width": 0.5
          },
          "path": "M 0.14063176496586177,0.9900619711324068 Q -0.0932230294394908, 0.17694481281496735 -0.8960935344018863, 0.44386526965187917L -0.8960935344018863, 0.44386526965187917 L -0.8898289621879025, 0.45629422311881224 L -0.8833920089711216, 0.468634781558055 M -0.8833920089711216,0.468634781558055 Q -0.0933723881812634, 0.17686604288366795 0.11134241286054306, 0.9937821024240637L 0.11134241286054306, 0.9937821024240637 L 0.12600081911253577, 0.9920301374368472 L 0.14063176496586177, 0.9900619711324068 ",
          "type": "path"
         },
         {
          "fillcolor": "#e6c4a9",
          "layer": "below",
          "line": {
           "color": "rgb(175,175,175)",
           "width": 0.5
          },
          "path": "M 0.2617245178240083,0.9651426199115809 Q -0.09732019679565368, 0.17472486742205656 -0.9583587132994893, 0.28556711407819235L -0.9583587132994893, 0.28556711407819235 L -0.957120981837582, 0.2896884984362739 L -0.9558655266120524, 0.2938045184040979 M -0.9558655266120524,0.2938045184040979 Q -0.09764563327130754, 0.17454320468882575 0.24980129463858203, 0.9682971203080635L 0.24980129463858203, 0.9682971203080635 L 0.25576776951380364, 0.966738252102364 L 0.2617245178240083, 0.9651426199115809 ",
          "type": "path"
         },
         {
          "fillcolor": "#e6c4a9",
          "layer": "below",
          "line": {
           "color": "rgb(175,175,175)",
           "width": 0.5
          },
          "path": "M 0.29778331997554874,0.9546334869175395 Q -0.1006651442383765, 0.17281935289621606 -0.9772868377546035, 0.2119208266112782L -0.9772868377546035, 0.2119208266112782 L -0.9767115304258214, 0.21455672055018407 L -0.976129113696459, 0.2171910527488769 M -0.976129113696459,0.2171910527488769 Q -0.10079631613063139, 0.17274288018466585 0.29117567641853187, 0.9566696009920094L 0.29117567641853187, 0.9566696009920094 L 0.29448125797495445, 0.9556572548259592 L 0.29778331997554874, 0.9546334869175395 ",
          "type": "path"
         },
         {
          "fillcolor": "#e6c4a9",
          "layer": "below",
          "line": {
           "color": "rgb(175,175,175)",
           "width": 0.5
          },
          "path": "M 0.2730686632218998,0.9619945452892156 Q -0.11449284919748536, 0.16398593684411442 -0.997173922031122, 0.07512768611550505L -0.997173922031122, 0.07512768611550505 L -0.9967601467773793, 0.08043139807523624 L -0.9963181626428189, 0.08573283378051477 M -0.9963181626428189,0.08573283378051477 Q -0.11458574932997873, 0.16392103602188246 0.2617245178240083, 0.9651426199115809L 0.2617245178240083, 0.9651426199115809 L 0.26740122328956784, 0.9635852768609754 L 0.2730686632218998, 0.9619945452892156 ",
          "type": "path"
         },
         {
          "fillcolor": "#e6c4a9",
          "layer": "below",
          "line": {
           "color": "rgb(175,175,175)",
           "width": 0.5
          },
          "path": "M 0.2843749613007105,0.9587131382145649 Q -0.13178488644888806, 0.15044182830467623 -0.9878047004696306, -0.1556980209575678L -0.9878047004696306, -0.1556980209575678 L -0.9886256295219562, -0.15039735586876424 L -0.9894181148511167, -0.1450923637014106 M -0.9894181148511167,-0.1450923637014106 Q -0.13186348853674013, 0.1503729376946564 0.2730686632218998, 0.9619945452892156L 0.2730686632218998, 0.9619945452892156 L 0.27872664124249713, 0.9603704803156313 L 0.2843749613007105, 0.9587131382145649 ",
          "type": "path"
         },
         {
          "fillcolor": "#e6c4a9",
          "layer": "below",
          "line": {
           "color": "rgb(175,175,175)",
           "width": 0.5
          },
          "path": "M 0.23784007314807748,0.9713043290364339 Q -0.15113458491740994, 0.13098983640665487 -0.9276571182054335, -0.3734330877718127L -0.9276571182054335, -0.3734330877718127 L -0.9299441376628227, -0.3677008306035616 L -0.9321957362638406, -0.36195456799371417 M -0.9321957362638406,-0.36195456799371417 Q -0.1512684958806258, 0.13083517170093484 0.2238397167802726, 0.9746259698939523L 0.2238397167802726, 0.9746259698939523 L 0.23084586942713087, 0.9729903311793144 L 0.23784007314807748, 0.9713043290364339 ",
          "type": "path"
         },
         {
          "fillcolor": "#e6c4a9",
          "layer": "below",
          "line": {
           "color": "rgb(175,175,175)",
           "width": 0.5
          },
          "path": "M 0.20723431822409707,0.9782913356205265 Q -0.1658636962317385, 0.11175524270630699 -0.8288627211480977, -0.5594520439599544L -0.8288627211480977, -0.5594520439599544 L -0.8340447289719488, -0.5516968280442697 L -0.8391541777576588, -0.5438936163919077 M -0.8391541777576588,-0.5438936163919077 Q -0.1658864046388142, 0.1117215321950411 0.18855067384190574, 0.9820634619991537L 0.18855067384190574, 0.9820634619991537 L 0.19790148362386162, 0.9802219150679474 L 0.20723431822409707, 0.9782913356205265 ",
          "type": "path"
         },
         {
          "fillcolor": "#e6c4a9",
          "layer": "below",
          "line": {
           "color": "rgb(175,175,175)",
           "width": 0.5
          },
          "path": "M 0.07413134982460613,0.9972484860721433 Q -0.19318362692498856, 0.051769549815570574 -0.4344781421828459, -0.900682376848433L -0.4344781421828459, -0.900682376848433 L -0.45224036313592736, -0.8918961004235216 L -0.469824991493309, -0.8827595807287011 M -0.469824991493309,-0.8827595807287011 Q -0.19318318900259002, 0.05177118394232055 0.034575718046629025, 0.9994020811072789L 0.034575718046629025, 0.9994020811072789 L 0.054364199103676306, 0.9985211734639461 L 0.07413134982460613, 0.9972484860721433 ",
          "type": "path"
         },
         {
          "fillcolor": "#e6c4a9",
          "layer": "below",
          "line": {
           "color": "rgb(175,175,175)",
           "width": 0.5
          },
          "path": "M 0.29117567641853187,0.9566696009920094 Q -0.19626020166813365, 0.038495886029334514 -0.09179147308775848, -0.995778251152524L -0.09179147308775848, -0.995778251152524 L -0.09421556292771993, -0.9955518207015709 L -0.0966390943066005, -0.9953194891348205 M -0.0966390943066005,-0.9953194891348205 Q -0.1963030377885674, 0.03827685142459186 0.2843749613007105, 0.9587131382145649L 0.2843749613007105, 0.9587131382145649 L 0.2877771327882944, 0.9576974062010132 L 0.29117567641853187, 0.9566696009920094 ",
          "type": "path"
         },
         {
          "fillcolor": "#e6c4a9",
          "layer": "below",
          "line": {
           "color": "rgb(175,175,175)",
           "width": 0.5
          },
          "path": "M -0.021477254222601536,0.999769337172859 Q -0.1969557326528218, -0.03476261461959083 0.3220762914120725, -0.9467137172927441L 0.3220762914120725, -0.9467137172927441 L 0.29183407230995967, -0.9564689614613666 L 0.2612971718257659, -0.9652584047786666 M 0.2612971718257659,-0.9652584047786666 Q -0.19696905155495983, -0.03468706862131154 -0.08416810783581631, 0.9964515691308526L -0.08416810783581631, 0.9964515691308526 L -0.05284872304331203, 0.9986025297748305 L -0.021477254222601536, 0.999769337172859 ",
          "type": "path"
         },
         {
          "fillcolor": "#e6c4a9",
          "layer": "below",
          "line": {
           "color": "rgb(175,175,175)",
           "width": 0.5
          },
          "path": "M 0.11134241286054306,0.9937821024240637 Q -0.1834161632777215, -0.07974027243796078 0.8026795150227064, -0.5964105936038635L 0.8026795150227064, -0.5964105936038635 L 0.7915399954875552, -0.6111173664228183 L 0.7801310531025678, -0.6256161282968004 M 0.7801310531025678,-0.6256161282968004 Q -0.18339721398172248, -0.07978384487941342 0.07413134982460613, 0.9972484860721433L 0.07413134982460613, 0.9972484860721433 L 0.09275307604088211, 0.9956891416928049 L 0.11134241286054306, 0.9937821024240637 ",
          "type": "path"
         },
         {
          "fillcolor": "#e6c4a9",
          "layer": "below",
          "line": {
           "color": "rgb(175,175,175)",
           "width": 0.5
          },
          "path": "M 0.18855067384190574,0.9820634619991537 Q -0.17444979613702097, -0.09781241550923803 0.9362198471585544, -0.3514148514027446L 0.9362198471585544, -0.3514148514027446 L 0.9332374253025606, -0.35926022325696955 L 0.9301892618164319, -0.3670802871326672 M 0.9301892618164319,-0.3670802871326672 Q -0.17432012288548676, -0.09804333101842673 0.16943019949489196, 0.9855421896089082L 0.16943019949489196, 0.9855421896089082 L 0.178998887720538, 0.98384927615708 L 0.18855067384190574, 0.9820634619991537 ",
          "type": "path"
         },
         {
          "fillcolor": "#e6c4a9",
          "layer": "below",
          "line": {
           "color": "rgb(175,175,175)",
           "width": 0.5
          },
          "path": "M 0.3081124788116497,0.9513499358283158 Q -0.17593020535360446, -0.09512393412931663 0.964764023036923, -0.26311666586062465L 0.964764023036923, -0.26311666586062465 L 0.964234406836562, -0.2650509548606521 L 0.9637009125169903, -0.2669841778344181 M 0.9637009125169903,-0.2669841778344181 Q -0.1758987656717101, -0.09518205836799723 0.30366462259212396, 0.9527789864317867L 0.30366462259212396, 0.9527789864317867 L 0.30588938523085046, 0.9520670585642024 L 0.3081124788116497, 0.9513499358283158 ",
          "type": "path"
         },
         {
          "fillcolor": "#e6c4a9",
          "layer": "below",
          "line": {
           "color": "rgb(175,175,175)",
           "width": 0.5
          },
          "path": "M 0.30366462259212396,0.9527789864317867 Q -0.16698613113976424, -0.11007103164308706 0.9953300636489938, -0.0965301217055592L 0.9953300636489938, -0.0965301217055592 L 0.9950982986738934, -0.09889072745370393 L 0.9948609351021184, -0.10125077682535852 M 0.9948609351021184,-0.10125077682535852 Q -0.16690778138257004, -0.11018980222301976 0.29778331997554874, 0.9546334869175395L 0.29778331997554874, 0.9546334869175395 L 0.3007254008189772, 0.9537107702559857 L 0.30366462259212396, 0.9527789864317867 ",
          "type": "path"
         },
         {
          "fillcolor": "#e1b396",
          "layer": "below",
          "line": {
           "color": "rgb(175,175,175)",
           "width": 0.5
          },
          "path": "M -0.3165888509228963,0.94856286005268 Q -0.10043598219307011, 0.17295263363393257 -0.6669473629188271, 0.7451048349699674L -0.6669473629188271, 0.7451048349699674 L -0.6612801175537969, 0.750139057860632 L -0.6555748743255498, 0.7551301769582776 M -0.6555748743255498,0.7551301769582776 Q -0.10073886391649474, 0.1727763910284445 -0.3342375267589555, 0.9424888729879289L -0.3342375267589555, 0.9424888729879289 L -0.32542736025315355, 0.9455670432067016 L -0.3165888509228963, 0.94856286005268 ",
          "type": "path"
         },
         {
          "fillcolor": "#e1b396",
          "layer": "below",
          "line": {
           "color": "rgb(175,175,175)",
           "width": 0.5
          },
          "path": "M -0.3342375267589555,0.9424888729879289 Q -0.11511808118633585, 0.16354763032210584 -0.774456680915408, 0.6326269432971456L -0.774456680915408, 0.6326269432971456 L -0.7688878883008604, 0.6393836213293578 L -0.7632601495505148, 0.6460912815602188 M -0.7632601495505148,0.6460912815602188 Q -0.11528714393116196, 0.16342849948584717 -0.3526260867980839, 0.9357643094868869L -0.3526260867980839, 0.9357643094868869 L -0.34344826516628146, 0.9391715972889467 L -0.3342375267589555, 0.9424888729879289 ",
          "type": "path"
         },
         {
          "fillcolor": "#e1b396",
          "layer": "below",
          "line": {
           "color": "rgb(175,175,175)",
           "width": 0.5
          },
          "path": "M -0.4249244571210725,0.9052288140245878 Q -0.14692261143168994, 0.13569725955262565 -0.9360790510146284, 0.351789724482613L -0.9360790510146284, 0.351789724482613 L -0.9296062900988461, 0.3685541281937567 L -0.922833320393407, 0.3851995103471437 M -0.922833320393407,0.3851995103471437 Q -0.1470167626292327, 0.13559524883276647 -0.4584126185805079, 0.8887394843969529L -0.4584126185805079, 0.8887394843969529 L -0.4417454830840346, 0.8971404172005923 L -0.4249244571210725, 0.9052288140245878 ",
          "type": "path"
         },
         {
          "fillcolor": "#e1b396",
          "layer": "below",
          "line": {
           "color": "rgb(175,175,175)",
           "width": 0.5
          },
          "path": "M -0.24069299673093744,0.9706012988476169 Q -0.1359090899554643, 0.1467266821933813 -0.94936419634155, 0.3141776928821696L -0.94936419634155, 0.3141776928821696 L -0.9490770172514978, 0.31504414821577 L -0.9487890473746492, 0.31591034104933263 M -0.9487890473746492,0.31591034104933263 Q -0.1359630935860655, 0.14667664157086088 -0.24317874064958073, 0.9699814947183704L -0.24317874064958073, 0.9699814947183704 L -0.2419360671710606, 0.9702921927964793 L -0.24069299673093744, 0.9706012988476169 ",
          "type": "path"
         },
         {
          "fillcolor": "#e1b396",
          "layer": "below",
          "line": {
           "color": "rgb(175,175,175)",
           "width": 0.5
          },
          "path": "M -0.2714698751042027,0.9624469371923361 Q -0.1482264104506874, 0.1342718557438764 -0.9845158040238098, 0.17529584030247636L -0.9845158040238098, 0.17529584030247636 L -0.9838571090798319, 0.178955829502913 L -0.9831848079823727, 0.18261334385160577 M -0.9831848079823727,0.18261334385160577 Q -0.1483535580853191, 0.13413136025339434 -0.28043991993918355, 0.9598715806317553L -0.28043991993918355, 0.9598715806317553 L -0.27595790182845237, 0.9611697230034029 L -0.2714698751042027, 0.9624469371923361 ",
          "type": "path"
         },
         {
          "fillcolor": "#e1b396",
          "layer": "below",
          "line": {
           "color": "rgb(175,175,175)",
           "width": 0.5
          },
          "path": "M -0.2628293162631947,0.9648423449002544 Q -0.15356711582160287, 0.12812939139102478 -0.9963181626428189, 0.08573283378051477L -0.9963181626428189, 0.08573283378051477 L -0.9959549027475327, 0.08985450290971903 L -0.995574591990611, 0.09397463371957548 M -0.995574591990611,0.09397463371957548 Q -0.1536113870614696, 0.12807631227143987 -0.2714698751042027, 0.9624469371923361L -0.2714698751042027, 0.9624469371923361 L -0.26715228048527956, 0.963654325487887 L -0.2628293162631947, 0.9648423449002544 ",
          "type": "path"
         },
         {
          "fillcolor": "#e1b396",
          "layer": "below",
          "line": {
           "color": "rgb(175,175,175)",
           "width": 0.5
          },
          "path": "M -0.2543446024762492,0.9671136557774369 Q -0.16629562230655717, 0.11111150256240299 -0.990825843129824, -0.1351449169820065L -0.990825843129824, -0.1351449169820065 L -0.9913698714677107, -0.13109453820085193 L -0.991897342406889, -0.1270419699396653 M -0.991897342406889,-0.1270419699396653 Q -0.16632950264372326, 0.11106077863175488 -0.2628293162631947, 0.9648423449002544L -0.2628293162631947, 0.9648423449002544 L -0.2585894531286097, 0.9659873160298983 L -0.2543446024762492, 0.9671136557774369 ",
          "type": "path"
         },
         {
          "fillcolor": "#e1b396",
          "layer": "below",
          "line": {
           "color": "rgb(175,175,175)",
           "width": 0.5
          },
          "path": "M -0.29131170993725275,0.9566281867337142 Q -0.17987859661377437, 0.08742820185877696 -0.9321957362638406, -0.36195456799371417L -0.9321957362638406, -0.36195456799371417 L -0.9342690057843401, -0.35656896223695705 L -0.9363111611611432, -0.3511714815942088 M -0.9363111611611432,-0.3511714815942088 Q -0.17994994082171958, 0.0872812625840141 -0.30388986456897654, 0.952707169182771L -0.30388986456897654, 0.952707169182771 L -0.2976072448182878, 0.9546883930538109 L -0.29131170993725275, 0.9566281867337142 ",
          "type": "path"
         },
         {
          "fillcolor": "#e1b396",
          "layer": "below",
          "line": {
           "color": "rgb(175,175,175)",
           "width": 0.5
          },
          "path": "M -0.30388986456897654,0.952707169182771 Q -0.1872160302259048, 0.07035735943348863 -0.8561288797257558, -0.5167623644379711L -0.8561288797257558, -0.5167623644379711 L -0.8595593594277596, -0.5110359161743326 L -0.86295153682028, -0.5052866959454967 M -0.86295153682028,-0.5052866959454967 Q -0.1872162935695881, 0.07035665869031739 -0.3165888509228963, 0.94856286005268L -0.3165888509228963, 0.94856286005268 L -0.3102462778489897, 0.950656219188013 L -0.30388986456897654, 0.952707169182771 ",
          "type": "path"
         },
         {
          "fillcolor": "#e1b396",
          "layer": "below",
          "line": {
           "color": "rgb(175,175,175)",
           "width": 0.5
          },
          "path": "M -0.37529365852430935,0.9269059660350877 Q -0.19952902343565032, 0.013717463570781211 -0.4986113001407756, -0.8668256868436268L -0.4986113001407756, -0.8668256868436268 L -0.5098316752781578, -0.86027417890058 L -0.5209659811039425, -0.8535774402667907 M -0.5209659811039425,-0.8535774402667907 Q -0.19952523852574933, 0.013772406879076644 -0.39874606312660377, 0.9170613813377132L -0.39874606312660377, 0.9170613813377132 L -0.3870511615217318, 0.9220582402238365 L -0.37529365852430935, 0.9269059660350877 ",
          "type": "path"
         },
         {
          "fillcolor": "#e1b396",
          "layer": "below",
          "line": {
           "color": "rgb(175,175,175)",
           "width": 0.5
          },
          "path": "M -0.24317874064958073,0.9699814947183704 Q -0.1995020310465666, -0.014104595290002839 -0.10428852281430605, -0.9945470848628586L -0.10428852281430605, -0.9945470848628586 L -0.10581768323482367, -0.9943855479213355 L -0.10734659345728359, -0.9942216598289924 M -0.10734659345728359,-0.9942216598289924 Q -0.19949270413509868, -0.014235905200091431 -0.24743629376067539, 0.968904164781007L -0.24743629376067539, 0.968904164781007 L -0.24530810862524027, 0.969445167011888 L -0.24317874064958073, 0.9699814947183704 ",
          "type": "path"
         },
         {
          "fillcolor": "#e1b396",
          "layer": "below",
          "line": {
           "color": "rgb(175,175,175)",
           "width": 0.5
          },
          "path": "M -0.4584126185805079,0.8887394843969529 Q -0.18789073928376318, -0.06853517411811934 0.22146764228628088, -0.9751677206615055L 0.22146764228628088, -0.9751677206615055 L 0.2022424327955433, -0.9793354881637549 L 0.18293895973729737, -0.9831242734315105 M 0.18293895973729737,-0.9831242734315105 Q -0.18793464545242675, -0.06841468437894503 -0.49189946061531015, 0.8706520089257056L -0.49189946061531015, 0.8706520089257056 L -0.4752420974183586, 0.8798550726349195 L -0.4584126185805079, 0.8887394843969529 ",
          "type": "path"
         },
         {
          "fillcolor": "#e1b396",
          "layer": "below",
          "line": {
           "color": "rgb(175,175,175)",
           "width": 0.5
          },
          "path": "M -0.3526260867980839,0.9357643094868869 Q -0.16584992523468117, -0.11177567847993886 0.7350153171224464, -0.6780505022455109L 0.7350153171224464, -0.6780505022455109 L 0.7266412158585897, -0.6870171347321335 L 0.7181577361481171, -0.6958803532293547 M 0.7181577361481171,-0.6958803532293547 Q -0.16586112304324543, -0.1117590616587013 -0.37529365852430935, 0.9269059660350877L -0.37529365852430935, 0.9269059660350877 L -0.36398682183525827, 0.9314040978706654 L -0.3526260867980839, 0.9357643094868869 ",
          "type": "path"
         },
         {
          "fillcolor": "#e1b396",
          "layer": "below",
          "line": {
           "color": "rgb(175,175,175)",
           "width": 0.5
          },
          "path": "M -0.24743629376067539,0.968904164781007 Q -0.15314963152931663, -0.1286281087571241 0.9115967252773104, -0.41108564857421614L 0.9115967252773104, -0.41108564857421614 L 0.9102983469617983, -0.4139527986602063 L 0.9089909509251234, -0.4168158479907404 M 0.9089909509251234,-0.4168158479907404 Q -0.15309548370012355, -0.12869255172940355 -0.2543446024762492, 0.9671136557774369L -0.2543446024762492, 0.9671136557774369 L -0.2508920453854721, 0.9680150730036667 L -0.24743629376067539, 0.968904164781007 ",
          "type": "path"
         },
         {
          "fillcolor": "#e1b396",
          "layer": "below",
          "line": {
           "color": "rgb(175,175,175)",
           "width": 0.5
          },
          "path": "M -0.28043991993918355,0.9598715806317553 Q -0.1366568965851944, -0.14603045098781106 0.976340777138669, -0.2162375705011964L 0.976340777138669, -0.2162375705011964 L 0.9752532262774346, -0.22109080631146788 L 0.9741415509041385, -0.22593857307259407 M 0.9741415509041385,-0.22593857307259407 Q -0.1365547777675191, -0.1461259479656624 -0.29131170993725275, 0.9566281867337142L -0.29131170993725275, 0.9566281867337142 L -0.28588041462748864, 0.9582653017470762 L -0.28043991993918355, 0.9598715806317553 ",
          "type": "path"
         },
         {
          "fillcolor": "#e1b396",
          "layer": "below",
          "line": {
           "color": "rgb(175,175,175)",
           "width": 0.5
          },
          "path": "M -0.23838339113638832,0.971171127469467 Q -0.1317797539981826, -0.1504463241032445 0.9941074774477625, -0.10839890812386631L 0.9941074774477625, -0.10839890812386631 L 0.9940057547711263, -0.10932776171624256 L 0.9939031642116656, -0.11025651985274537 M 0.9939031642116656,-0.11025651985274537 Q -0.13174138228522012, -0.15047992621469314 -0.24069299673093744, 0.9706012988476169L -0.24069299673093744, 0.9706012988476169 L -0.2395383633766533, 0.9708868999378014 L -0.23838339113638832, 0.971171127469467 ",
          "type": "path"
         },
         {
          "fillcolor": "#dba284",
          "layer": "below",
          "line": {
           "color": "rgb(175,175,175)",
           "width": 0.5
          },
          "path": "M -0.6669473629188271,0.7451048349699674 Q -0.14583902887628913, 0.13686116197234666 -0.7859219649953229, 0.6183256948711501L -0.7859219649953229, 0.6183256948711501 L -0.7802220908691236, 0.6255025890592404 L -0.774456680915408, 0.6326269432971456 M -0.774456680915408,0.6326269432971456 Q -0.14572380991728892, 0.1369838356273829 -0.6792581325573391, 0.7338994409009426L -0.6792581325573391, 0.7338994409009426 L -0.6731260648842965, 0.7395277552420747 L -0.6669473629188271, 0.7451048349699674 ",
          "type": "path"
         },
         {
          "fillcolor": "#dba284",
          "layer": "below",
          "line": {
           "color": "rgb(175,175,175)",
           "width": 0.5
          },
          "path": "M -0.6162421787307104,0.7875567136106626 Q -0.14882699760489956, 0.13360585609886724 -0.8492249876445261, 0.528031173663217L -0.8492249876445261, 0.528031173663217 L -0.8471251244051621, 0.5313934734276841 L -0.8450119490304576, 0.5347474226172084 M -0.8450119490304576,0.5347474226172084 Q -0.14874414794120402, 0.1336980869468416 -0.6214959465815248, 0.7834173781470094L -0.6214959465815248, 0.7834173781470094 L -0.6188725234144605, 0.785491438376395 L -0.6162421787307104, 0.7875567136106626 ",
          "type": "path"
         },
         {
          "fillcolor": "#dba284",
          "layer": "below",
          "line": {
           "color": "rgb(175,175,175)",
           "width": 0.5
          },
          "path": "M -0.6073066746238827,0.794467496476276 Q -0.16248332034834004, 0.11661548185630717 -0.9470446350736405, 0.3211019451486322L -0.9470446350736405, 0.3211019451486322 L -0.9469818089306983, 0.32128718236858195 L -0.9469189465562777, 0.32147240729609955 M -0.9469189465562777,0.32147240729609955 Q -0.16248650963438516, 0.11661103801456735 -0.6076608685183712, 0.7941966185218234L -0.6076608685183712, 0.7941966185218234 L -0.6074837866692393, 0.7943320772410001 L -0.6073066746238827, 0.794467496476276 ",
          "type": "path"
         },
         {
          "fillcolor": "#dba284",
          "layer": "below",
          "line": {
           "color": "rgb(175,175,175)",
           "width": 0.5
          },
          "path": "M -0.6273008473794736,0.7787770199980187 Q -0.17249380123689312, 0.10122197654090348 -0.9858168244243105, 0.1678248750393339L -0.9858168244243105, 0.1678248750393339 L -0.985173396165523, 0.17156159094532064 L -0.9845158040238098, 0.17529584030247636 M -0.9845158040238098,0.17529584030247636 Q -0.17250116672994992, 0.10120942385374015 -0.6333011875383152, 0.7739054243656389L -0.6333011875383152, 0.7739054243656389 L -0.6303057240107525, 0.7763470192377125 L -0.6273008473794736, 0.7787770199980187 ",
          "type": "path"
         },
         {
          "fillcolor": "#dba284",
          "layer": "below",
          "line": {
           "color": "rgb(175,175,175)",
           "width": 0.5
          },
          "path": "M -0.6076608685183712,0.7941966185218234 Q -0.1738567096489096, 0.09886275592989888 -0.9932324519072339, 0.11614343062930599L -0.9932324519072339, 0.11614343062930599 L -0.9931931658024729, 0.11647890540034173 L -0.9931537663875611, 0.1168143668826812 M -0.9931537663875611,0.1168143668826812 Q -0.17385270560774957, 0.09886979696987938 -0.6081329390898016, 0.7938352022894927L -0.6081329390898016, 0.7938352022894927 L -0.6078969306634291, 0.7940159454884909 L -0.6076608685183712, 0.7941966185218234 ",
          "type": "path"
         },
         {
          "fillcolor": "#dba284",
          "layer": "below",
          "line": {
           "color": "rgb(175,175,175)",
           "width": 0.5
          },
          "path": "M -0.6095478603880609,0.7927492705113875 Q -0.18367704952106545, 0.0791374846658401 -0.9948356787236359, -0.10149863220005802L -0.9948356787236359, -0.10149863220005802 L -0.9949474109796727, -0.1003974570636448 L -0.9950579243547104, -0.09929615893324074 M -0.9950579243547104,-0.09929615893324074 Q -0.18366591233018617, 0.07916332893404857 -0.6110785034057695, 0.7915699985947957L -0.6110785034057695, 0.7915699985947957 L -0.6103134667264849, 0.7921600042493309 L -0.6095478603880609, 0.7927492705113875 ",
          "type": "path"
         },
         {
          "fillcolor": "#dba284",
          "layer": "below",
          "line": {
           "color": "rgb(175,175,175)",
           "width": 0.5
          },
          "path": "M -0.6070704782733857,0.794647994025608 Q -0.19110982933058718, 0.05896637290213669 -0.9492768063053924, -0.31444164007115005L -0.9492768063053924, -0.31444164007115005 L -0.9493271999778801, -0.3142894643193724 L -0.9493775692555244, -0.3141372804913036 M -0.9493775692555244,-0.3141372804913036 Q -0.19110914124284423, 0.05896860294616636 -0.6073066746238827, 0.794467496476276L -0.6073066746238827, 0.794467496476276 L -0.6071885831556455, 0.7945577540276351 L -0.6070704782733857, 0.794647994025608 ",
          "type": "path"
         },
         {
          "fillcolor": "#dba284",
          "layer": "below",
          "line": {
           "color": "rgb(175,175,175)",
           "width": 0.5
          },
          "path": "M -0.6110785034057695,0.7915699985947957 Q -0.19552846523711664, 0.04205495549893812 -0.882491908212259, -0.4703275793953463L -0.882491908212259, -0.4703275793953463 L -0.8830933019899414, -0.46919742111450496 L -0.8836932484375618, -0.4680664938508947 M -0.8836932484375618,-0.4680664938508947 Q -0.1955183760564032, 0.04210183635266874 -0.6127243365389637, 0.7902967084664384L -0.6127243365389637, 0.7902967084664384 L -0.6119017511669144, 0.7909337816270485 L -0.6110785034057695, 0.7915699985947957 ",
          "type": "path"
         },
         {
          "fillcolor": "#dba284",
          "layer": "below",
          "line": {
           "color": "rgb(175,175,175)",
           "width": 0.5
          },
          "path": "M -0.6081329390898016,0.7938352022894927 Q -0.1999868917504677, 0.0022897877601899767 -0.6261494630937569, -0.7797030523650654L -0.6261494630937569, -0.7797030523650654 L -0.6265866646105537, -0.7793517509650065 L -0.627023669029602, -0.7790002044137447 M -0.627023669029602,-0.7790002044137447 Q -0.1999866272110975, 0.0023127768438643776 -0.608840641848274, 0.7932925518582548L -0.608840641848274, 0.7932925518582548 L -0.6084868509612045, 0.7935639559653128 L -0.6081329390898016, 0.7938352022894927 ",
          "type": "path"
         },
         {
          "fillcolor": "#dba284",
          "layer": "below",
          "line": {
           "color": "rgb(175,175,175)",
           "width": 0.5
          },
          "path": "M -0.6333011875383152,0.7739054243656389 Q -0.1887498045222329, -0.06613252825061867 -0.011799900911018363, -0.9999303787456856L -0.011799900911018363, -0.9999303787456856 L -0.0167174205260218, -0.9998602541610283 L -0.021634535798168847, -0.9997659460397708 M -0.021634535798168847,-0.9997659460397708 Q -0.18881937331984983, -0.06593363526379524 -0.6392636964842845, 0.7689875983117339L -0.6392636964842845, 0.7689875983117339 L -0.6362871932273486, 0.771452271845033 L -0.6333011875383152, 0.7739054243656389 ",
          "type": "path"
         },
         {
          "fillcolor": "#dba284",
          "layer": "below",
          "line": {
           "color": "rgb(175,175,175)",
           "width": 0.5
          },
          "path": "M -0.6127243365389637,0.7902967084664384 Q -0.15716486960307152, -0.12368995012792888 0.6241425214938973, -0.7813105098891476L 0.6241425214938973, -0.7813105098891476 L 0.6219779043025736, -0.7830347926876421 L 0.6198085235574096, -0.7847530784428846 M 0.6198085235574096,-0.7847530784428846 Q -0.15723138366760284, -0.12360538819149867 -0.6162421787307104, 0.7875567136106626L -0.6162421787307104, 0.7875567136106626 L -0.6144847848453808, 0.7889286718034312 L -0.6127243365389637, 0.7902967084664384 ",
          "type": "path"
         },
         {
          "fillcolor": "#dba284",
          "layer": "below",
          "line": {
           "color": "rgb(175,175,175)",
           "width": 0.5
          },
          "path": "M -0.6214959465815248,0.7834173781470094 Q -0.1076497556155902, -0.1685572013172493 0.9721475537188565, -0.23436965204233018L 0.9721475537188565, -0.23436965204233018 L 0.9711996868859551, -0.23826701029018385 L 0.9702361955354081, -0.24216053533343812 M 0.9702361955354081,-0.24216053533343812 Q -0.10769949604807832, -0.16852542404928095 -0.6273008473794736, 0.7787770199980187L -0.6273008473794736, 0.7787770199980187 L -0.6244027076997303, 0.7811025916083272 L -0.6214959465815248, 0.7834173781470094 ",
          "type": "path"
         },
         {
          "fillcolor": "#dba284",
          "layer": "below",
          "line": {
           "color": "rgb(175,175,175)",
           "width": 0.5
          },
          "path": "M -0.608840641848274,0.7932925518582548 Q -0.09831798754627111, -0.17416536201223043 0.9937757076270939, -0.11139947455113437L 0.9937757076270939, -0.11139947455113437 L 0.9937275725407363, -0.11182804465918038 L 0.9936792526316593, -0.11225659396840308 M 0.9936792526316593,-0.11225659396840308 Q -0.09831543832226038, -0.17416680104859772 -0.6095478603880609, 0.7927492705113875L -0.6095478603880609, 0.7927492705113875 L -0.6091943116806661, 0.7930209900222815 L -0.608840641848274, 0.7932925518582548 ",
          "type": "path"
         },
         {
          "fillcolor": "#d59171",
          "layer": "below",
          "line": {
           "color": "rgb(175,175,175)",
           "width": 0.5
          },
          "path": "M -0.711584650211983,0.7026003740268645 Q -0.15606747519725303, 0.12507175214873587 -0.8407457949135532, 0.5414300585811409L -0.8407457949135532, 0.5414300585811409 L -0.8386888482574696, 0.5446108847687119 L -0.8366198675194726, 0.5477838965063688 M -0.8366198675194726,0.5477838965063688 Q -0.1560337916973268, 0.12511377161829637 -0.7165114685535976, 0.6975753116554276L -0.7165114685535976, 0.6975753116554276 L -0.7140524798089338, 0.7000921768443868 L -0.711584650211983, 0.7026003740268645 ",
          "type": "path"
         },
         {
          "fillcolor": "#d59171",
          "layer": "below",
          "line": {
           "color": "rgb(175,175,175)",
           "width": 0.5
          },
          "path": "M -0.701975298198549,0.7122012922756166 Q -0.16942099681227285, 0.1062851157930208 -0.9467091436673111, 0.3220897348514953L -0.9467091436673111, 0.3220897348514953 L -0.9466881412418581, 0.3221514600805586 L -0.9466671347919338, 0.3222131839401216 M -0.9466671347919338,0.3222131839401216 Q -0.1694227642811124, 0.10628229835370816 -0.7020918479874765, 0.7120863971383881L -0.7020918479874765, 0.7120863971383881 L -0.7020335754434864, 0.7121438470913265 L -0.701975298198549, 0.7122012922756166 ",
          "type": "path"
         },
         {
          "fillcolor": "#d59171",
          "layer": "below",
          "line": {
           "color": "rgb(175,175,175)",
           "width": 0.5
          },
          "path": "M -0.7373004677444831,0.6755649637627505 Q -0.1805123046177861, 0.08611218195804586 -0.9889944770212864, 0.14795243972774538L -0.9889944770212864, 0.14795243972774538 L -0.9882264146436025, 0.15299854051804124 L -0.9874326059507599, 0.15804065522925223 M -0.9874326059507599,0.15804065522925223 Q -0.18056599413229024, 0.08599954513262109 -0.7449913444418796, 0.6670741313427471L -0.7449913444418796, 0.6670741313427471 L -0.7411580652448428, 0.6713305611414702 L -0.7373004677444831, 0.6755649637627505 ",
          "type": "path"
         },
         {
          "fillcolor": "#d59171",
          "layer": "below",
          "line": {
           "color": "rgb(175,175,175)",
           "width": 0.5
          },
          "path": "M -0.7036052828208951,0.7105910258274645 Q -0.17995011287159585, 0.0872809078636326 -0.993638113787095, 0.11262015285739954L -0.993638113787095, 0.11262015285739954 L -0.993552238199823, 0.11337526171137273 L -0.9934657887725482, 0.11413030508387649 M -0.9934657887725482,0.11413030508387649 Q -0.17994806134823838, 0.08728513743479269 -0.7046511800666204, 0.7095538840924763L -0.7046511800666204, 0.7095538840924763 L -0.7041284224002455, 0.7100726475285056 L -0.7036052828208951, 0.7105910258274645 ",
          "type": "path"
         },
         {
          "fillcolor": "#d59171",
          "layer": "below",
          "line": {
           "color": "rgb(175,175,175)",
           "width": 0.5
          },
          "path": "M -0.7078952957364097,0.7063173863598864 Q -0.18882575081471187, 0.06591536868788908 -0.9936704913800365, -0.1123341201975465L -0.9936704913800365, -0.1123341201975465 L -0.9939728576488505, -0.10962644871279029 L -0.9942678457463712, -0.10691796348074645 M -0.9942678457463712,-0.10691796348074645 Q -0.1888187669891008, 0.06593537163553159 -0.711584650211983, 0.7026003740268645L -0.711584650211983, 0.7026003740268645 L -0.7097424062873684, 0.7044612954005465 L -0.7078952957364097, 0.7063173863598864 ",
          "type": "path"
         },
         {
          "fillcolor": "#d59171",
          "layer": "below",
          "line": {
           "color": "rgb(175,175,175)",
           "width": 0.5
          },
          "path": "M -0.7046511800666204,0.7095538840924763 Q -0.19462262961738064, 0.046065519000830606 -0.9479580124857261, -0.3183953620329792L -0.9479580124857261, -0.3183953620329792 L -0.9482383621511074, -0.3175594567084806 L -0.948517974718905, -0.3167233045343312 M -0.948517974718905,-0.3167233045343312 Q -0.19462348028665133, 0.04606192485243579 -0.7059274225655779, 0.7082841760691255L -0.7059274225655779, 0.7082841760691255 L -0.7052895870424908, 0.7089193172776665 L -0.7046511800666204, 0.7095538840924763 ",
          "type": "path"
         },
         {
          "fillcolor": "#d59171",
          "layer": "below",
          "line": {
           "color": "rgb(175,175,175)",
           "width": 0.5
          },
          "path": "M -0.7059274225655779,0.7082841760691255 Q -0.197881376520181, 0.02903378767020188 -0.8796373012469755, -0.47564505490432435L -0.8796373012469755, -0.47564505490432435 L -0.8803756465177479, -0.4742770509084931 L -0.8811118642827062, -0.47290790078011385 M -0.8811118642827062,-0.47290790078011385 Q -0.19787662905008344, 0.029066125916187742 -0.7078952957364097, 0.7063173863598864L -0.7078952957364097, 0.7063173863598864 L -0.7069120431582318, 0.7073014655985482 L -0.7059274225655779, 0.7082841760691255 ",
          "type": "path"
         },
         {
          "fillcolor": "#d59171",
          "layer": "below",
          "line": {
           "color": "rgb(175,175,175)",
           "width": 0.5
          },
          "path": "M -0.7226483439407925,0.6912158642563335 Q -0.19919052396488565, -0.017975960686269877 -0.5872228953013492, -0.8094252721739671L -0.5872228953013492, -0.8094252721739671 L -0.5920547033862441, -0.8058977777598264 L -0.5968653220782912, -0.8023414405976907 M -0.5968653220782912,-0.8023414405976907 Q -0.19920386637517484, -0.017827496211792675 -0.729848552099878, 0.6836088728196201L -0.729848552099878, 0.6836088728196201 L -0.7262584077527949, 0.6874217956745153 L -0.7226483439407925, 0.6912158642563335 ",
          "type": "path"
         },
         {
          "fillcolor": "#d59171",
          "layer": "below",
          "line": {
           "color": "rgb(175,175,175)",
           "width": 0.5
          },
          "path": "M -0.7449913444418796,0.6670741313427471 Q -0.1804729121121773, -0.08619470977821281 0.05059928956091261, -0.9987190355129569L 0.05059928956091261, -0.9987190355129569 L 0.04313590331033412, -0.999069213741271 L 0.035670109008344046, -0.9993636191713869 M 0.035670109008344046,-0.9993636191713869 Q -0.18055962090796135, -0.08601292517740165 -0.7535535563399164, 0.65738652079843L -0.7535535563399164, 0.65738652079843 L -0.7492881070484806, 0.6622441639121516 L -0.7449913444418796, 0.6670741313427471 ",
          "type": "path"
         },
         {
          "fillcolor": "#d59171",
          "layer": "below",
          "line": {
           "color": "rgb(175,175,175)",
           "width": 0.5
          },
          "path": "M -0.729848552099878,0.6836088728196201 Q -0.14444553834207538, -0.13833107551475204 0.651421728556198, -0.7587158437549958L 0.651421728556198, -0.7587158437549958 L 0.6467199851655843, -0.7627275141145928 L 0.6419935371426854, -0.7667100483670626 M 0.6419935371426854,-0.7667100483670626 Q -0.1445420569119863, -0.13823022022572384 -0.7373004677444831, 0.6755649637627505L -0.7373004677444831, 0.6755649637627505 L -0.7335855353847948, 0.67959713233224 L -0.729848552099878, 0.6836088728196201 ",
          "type": "path"
         },
         {
          "fillcolor": "#d59171",
          "layer": "below",
          "line": {
           "color": "rgb(175,175,175)",
           "width": 0.5
          },
          "path": "M -0.7029071697853654,0.7112815973047015 Q -0.11595587961603995, -0.16295469917271627 0.9023539471301297, -0.4309957703953427L 0.9023539471301297, -0.4309957703953427 L 0.9021451442794644, -0.4314326583060032 L 0.901936129903118, -0.4318694450587885 M 0.901936129903118,-0.4318694450587885 Q -0.11595477792837992, -0.16295548310989755 -0.7036052828208951, 0.7105910258274645L -0.7036052828208951, 0.7105910258274645 L -0.7032563110675657, 0.7109363972562097 L -0.7029071697853654, 0.7112815973047015 ",
          "type": "path"
         },
         {
          "fillcolor": "#d59171",
          "layer": "below",
          "line": {
           "color": "rgb(175,175,175)",
           "width": 0.5
          },
          "path": "M -0.7165114685535976,0.6975753116554276 Q -0.0958775862554637, -0.17552062116408465 0.9741415509041385, -0.22593857307259407L 0.9741415509041385, -0.22593857307259407 L 0.9731536828613935, -0.23015627198342103 L 0.9721475537188565, -0.23436965204233018 M 0.9721475537188565,-0.23436965204233018 Q -0.09586231812666238, -0.17552896046915614 -0.7226483439407925, 0.6912158642563335L -0.7226483439407925, 0.6912158642563335 L -0.7195869315916789, 0.6944023674228599 L -0.7165114685535976, 0.6975753116554276 ",
          "type": "path"
         },
         {
          "fillcolor": "#d59171",
          "layer": "below",
          "line": {
           "color": "rgb(175,175,175)",
           "width": 0.5
          },
          "path": "M -0.7020918479874765,0.7120863971383881 Q -0.08756864933585268, -0.17981026570664554 0.9935168515529633, -0.11368494042874368L 0.9935168515529633, -0.11368494042874368 L 0.9935004985162702, -0.11382776220203339 L 0.9934841249484117, -0.11397058162301679 M 0.9934841249484117,-0.11397058162301679 Q -0.08756507010054781, -0.17981200877106665 -0.7023248911461548, 0.7118565496478498L -0.7023248911461548, 0.7118565496478498 L -0.7022083789710524, 0.7119714829281064 L -0.7020918479874765, 0.7120863971383881 ",
          "type": "path"
         },
         {
          "fillcolor": "#d0805f",
          "layer": "below",
          "line": {
           "color": "rgb(175,175,175)",
           "width": 0.5
          },
          "path": "M -0.8492249876445261,0.528031173663217 Q -0.1820223582610926, 0.0828725593491022 -0.9558655266120524, 0.2938045184040979L -0.9558655266120524, 0.2938045184040979 L -0.9548639121474131, 0.2970436151115478 L -0.9538513215421408, 0.30027929730887476 M -0.9538513215421408,0.30027929730887476 Q -0.18212087847858646, 0.082655826305155 -0.8540268893200614, 0.5202288653259252L -0.8540268893200614, 0.5202288653259252 L -0.8516348736986381, 0.52413551864027 L -0.8492249876445261, 0.528031173663217 ",
          "type": "path"
         },
         {
          "fillcolor": "#d0805f",
          "layer": "below",
          "line": {
           "color": "rgb(175,175,175)",
           "width": 0.5
          },
          "path": "M -0.8407457949135532,0.5414300585811409 Q -0.18588900663970404, 0.07379212160186256 -0.9831848079823727, 0.18261334385160577L -0.9831848079823727, 0.18261334385160577 L -0.982580309317791, 0.18583846679564026 L -0.9819652313715335, 0.189061588847261 M -0.9819652313715335,0.189061588847261 Q -0.18593935337574008, 0.07366516725163712 -0.8450119490304576, 0.5347474226172084L -0.8450119490304576, 0.5347474226172084 L -0.8428854947278763, 0.5380929685262047 L -0.8407457949135532, 0.5414300585811409 ",
          "type": "path"
         },
         {
          "fillcolor": "#d0805f",
          "layer": "below",
          "line": {
           "color": "rgb(175,175,175)",
           "width": 0.5
          },
          "path": "M -0.8328362158624096,0.5535195006031691 Q -0.18829538103980145, 0.06741549880462196 -0.9949000290355285, 0.10086591210663969L -0.9949000290355285, 0.10086591210663969 L -0.99456245988618, 0.10414179461268537 L -0.9942141043497826, 0.10741654766356823 M -0.9942141043497826,0.10741654766356823 Q -0.18830497695168308, 0.06738869085555904 -0.8366198675194726, 0.5477838965063688L -0.8366198675194726, 0.5477838965063688 L -0.8347329680046084, 0.5506549483353596 L -0.8328362158624096, 0.5535195006031691 ",
          "type": "path"
         },
         {
          "fillcolor": "#d0805f",
          "layer": "below",
          "line": {
           "color": "rgb(175,175,175)",
           "width": 0.5
          },
          "path": "M -0.8290132433639928,0.5592289712873549 Q -0.19440364127096746, 0.04698110535724978 -0.992902577127503, -0.11893053574907918L -0.992902577127503, -0.11893053574907918 L -0.993292010087868, -0.11563296543634345 L -0.9936704913800365, -0.1123341201975465 M -0.9936704913800365,-0.1123341201975465 Q -0.1944090480387954, 0.046958726991362776 -0.8328362158624096, 0.5535195006031691L -0.8328362158624096, 0.5535195006031691 L -0.8309296334808651, 0.5563775194985463 L -0.8290132433639928, 0.5592289712873549 ",
          "type": "path"
         },
         {
          "fillcolor": "#d0805f",
          "layer": "below",
          "line": {
           "color": "rgb(175,175,175)",
           "width": 0.5
          },
          "path": "M -0.8198402079549526,0.5725923798134062 Q -0.19802950896784968, 0.0280055990464825 -0.9464676243975005, -0.32279875459386737L -0.9464676243975005, -0.32279875459386737 L -0.9468550318021549, -0.3216606111275363 L -0.9472410705704248, -0.320522002715251 M -0.9472410705704248,-0.320522002715251 Q -0.19803284340354343, 0.027982010891064377 -0.8213505722719489, 0.5704237349800078L -0.8213505722719489, 0.5704237349800078 L -0.820596106516811, 0.5715085563396671 L -0.8198402079549526, 0.5725923798134062 ",
          "type": "path"
         },
         {
          "fillcolor": "#d0805f",
          "layer": "below",
          "line": {
           "color": "rgb(175,175,175)",
           "width": 0.5
          },
          "path": "M -0.8662458011971481,0.49961806603475717 Q -0.19997080712202078, -0.0034170599888741354 -0.8486703168581929, -0.5289221996511533L -0.8486703168581929, -0.5289221996511533 L -0.8524212811552877, -0.5228555818135425 L -0.8561288797257558, -0.5167623644379711 M -0.8561288797257558,-0.5167623644379711 Q -0.19997169347379345, -0.0033647896253999514 -0.8730297387953632, 0.48766697158911637L -0.8730297387953632, 0.48766697158911637 L -0.8696582996606614, 0.4936541723021566 L -0.8662458011971481, 0.49961806603475717 ",
          "type": "path"
         },
         {
          "fillcolor": "#d0805f",
          "layer": "below",
          "line": {
           "color": "rgb(175,175,175)",
           "width": 0.5
          },
          "path": "M -0.8730297387953632,0.48766697158911637 Q -0.1934466499950899, -0.05077788500594713 -0.5209659811039425, -0.8535774402667907L -0.5209659811039425, -0.8535774402667907 L -0.5307453538105937, -0.847531338304648 L -0.5404545665037024, -0.8413731999209952 M -0.5404545665037024,-0.8413731999209952 Q -0.19348023108395854, -0.05064977966090284 -0.8833920089711216, 0.468634781558055L -0.8833920089711216, 0.468634781558055 L -0.8782624294999263, 0.47817894655545745 L -0.8730297387953632, 0.48766697158911637 ",
          "type": "path"
         },
         {
          "fillcolor": "#d0805f",
          "layer": "below",
          "line": {
           "color": "rgb(175,175,175)",
           "width": 0.5
          },
          "path": "M -0.8213505722719489,0.5704237349800078 Q -0.18217842532125347, -0.08252891219123439 -0.1128230786009853, -0.9936150929484696L -0.1128230786009853, -0.9936150929484696 L -0.11403254358951864, -0.9934770148335111 L -0.11524183959651754, -0.9933374645136518 M -0.11524183959651754,-0.9933374645136518 Q -0.18214073751293336, -0.08261205564713128 -0.8232554640094623, 0.5676710675898191L -0.8232554640094623, 0.5676710675898191 L -0.8223041699625229, 0.5690481983648189 L -0.8213505722719489, 0.5704237349800078 ",
          "type": "path"
         },
         {
          "fillcolor": "#d0805f",
          "layer": "below",
          "line": {
           "color": "rgb(175,175,175)",
           "width": 0.5
          },
          "path": "M -0.8960935344018863,0.44386526965187917 Q -0.16176901005343935, -0.11760436805803703 0.1458115395313708, -0.9893123849116069L 0.1458115395313708, -0.9893123849116069 L 0.1296057247331352, -0.991565608578877 L 0.11336521377601626, -0.9935533847285299 M 0.11336521377601626,-0.9935533847285299 Q -0.1619008514791694, -0.11742280140722217 -0.9092042066832939, 0.416350466013192L -0.9092042066832939, 0.416350466013192 L -0.9027537037291138, 0.4301578203443098 L -0.8960935344018863, 0.44386526965187917 ",
          "type": "path"
         },
         {
          "fillcolor": "#d0805f",
          "layer": "below",
          "line": {
           "color": "rgb(175,175,175)",
           "width": 0.5
          },
          "path": "M -0.8540268893200614,0.5202288653259252 Q -0.12853065598232621, -0.15323142782325339 0.6608888564667023, -0.7504837902300986L 0.6608888564667023, -0.7504837902300986 L 0.6561682021914014, -0.7546146635421976 L 0.651421728556198, -0.7587158437549958 M 0.651421728556198,-0.7587158437549958 Q -0.12857395232535798, -0.1531951003897859 -0.8601980781754194, 0.5099600634395943L -0.8601980781754194, 0.5099600634395943 L -0.857127862030669, 0.5151037061900589 L -0.8540268893200614, 0.5202288653259252 ",
          "type": "path"
         },
         {
          "fillcolor": "#d0805f",
          "layer": "below",
          "line": {
           "color": "rgb(175,175,175)",
           "width": 0.5
          },
          "path": "M -0.8232554640094623,0.5676710675898191 Q -0.09925601159538291, -0.17363249742538756 0.9068939952843559, -0.42135885100135095L 0.9068939952843559, -0.42135885100135095 L 0.9059737049997798, -0.42333396491301284 L 0.9050491131437431, -0.42530706883112573 M 0.9050491131437431,-0.42530706883112573 Q -0.09922137020844586, -0.1736522953892592 -0.8259465408569683, 0.5637484471343653L -0.8259465408569683, 0.5637484471343653 L -0.8246033349142318, 0.5657113575387428 L -0.8232554640094623, 0.5676710675898191 ",
          "type": "path"
         },
         {
          "fillcolor": "#d0805f",
          "layer": "below",
          "line": {
           "color": "rgb(175,175,175)",
           "width": 0.5
          },
          "path": "M -0.8259465408569683,0.5637484471343653 Q -0.0829541500628102, -0.18198518892304608 0.9672928403545252, -0.25366229715682037L 0.9672928403545252, -0.25366229715682037 L 0.9666590424107526, -0.2560669750778625 L 0.9660192664775838, -0.25847006943572937 M 0.9660192664775838,-0.25847006943572937 Q -0.08290973233395797, -0.18200542927152324 -0.8290132433639928, 0.5592289712873549L -0.8290132433639928, 0.5592289712873549 L -0.8274829776271265, 0.5614908028964896 L -0.8259465408569683, 0.5637484471343653 ",
          "type": "path"
         },
         {
          "fillcolor": "#d0805f",
          "layer": "below",
          "line": {
           "color": "rgb(175,175,175)",
           "width": 0.5
          },
          "path": "M -0.818526593513321,0.5744686377092126 Q -0.07033301000669158, -0.18722517913838038 0.9943083187980558, -0.10654091781556926L 0.9943083187980558, -0.10654091781556926 L 0.9942083321527583, -0.10746995988661491 L 0.9941074774477625, -0.10839890812386631 M 0.9941074774477625,-0.10839890812386631 Q -0.07029354276624168, -0.18724000065523005 -0.8198402079549526, 0.5725923798134062L -0.8198402079549526, 0.5725923798134062 L -0.8191839379066634, 0.5735308848490478 L -0.818526593513321, 0.5744686377092126 ",
          "type": "path"
         },
         {
          "fillcolor": "#ca6f4c",
          "layer": "below",
          "line": {
           "color": "rgb(175,175,175)",
           "width": 0.5
          },
          "path": "M -0.9475459395957974,0.3196196057120364 Q -0.1922589885835168, 0.05510427668378524 -0.9729928424651311, 0.23083528437313205L -0.9729928424651311, 0.23083528437313205 L -0.9728580214787919, 0.23140283067493053 L -0.9727228694429715, 0.23197029823370038 M -0.9727228694429715,0.23197029823370038 Q -0.19225558630349704, 0.055116145865786115 -0.9478788536886039, 0.318630944401165L -0.9478788536886039, 0.318630944401165 L -0.9477125255646358, 0.3191253184689355 L -0.9475459395957974, 0.3196196057120364 ",
          "type": "path"
         },
         {
          "fillcolor": "#ca6f4c",
          "layer": "below",
          "line": {
           "color": "rgb(175,175,175)",
           "width": 0.5
          },
          "path": "M -0.9472537938474731,0.3204843990611226 Q -0.1951659424814176, 0.043706462855509165 -0.9934657887725482, 0.11413030508387649L -0.9934657887725482, 0.11413030508387649 L -0.9933981536321722, 0.11471751548996881 L -0.9933301714078459, 0.11530468581484261 M -0.9933301714078459,0.11530468581484261 Q -0.19516005392388125, 0.04373274919814407 -0.9475459395957974, 0.3196196057120364L -0.9475459395957974, 0.3196196057120364 L -0.9473999653953215, 0.32005203572066787 L -0.9472537938474731, 0.3204843990611226 ",
          "type": "path"
         },
         {
          "fillcolor": "#ca6f4c",
          "layer": "below",
          "line": {
           "color": "rgb(175,175,175)",
           "width": 0.5
          },
          "path": "M -0.9524709064402935,0.30462956584154083 Q -0.19995304015524085, -0.004333789643791942 -0.9383775489869997, -0.34561188572899376L -0.9383775489869997, -0.34561188572899376 L -0.9393433999072192, -0.34297809995792183 L -0.9403018584809225, -0.3403416150536446 M -0.9403018584809225,-0.3403416150536446 Q -0.199955280569123, -0.004229157424748122 -0.9538513215421408, 0.30027929730887476L -0.9538513215421408, 0.30027929730887476 L -0.9531635958396936, 0.3024552191084579 L -0.9524709064402935, 0.30462956584154083 ",
          "type": "path"
         },
         {
          "fillcolor": "#ca6f4c",
          "layer": "below",
          "line": {
           "color": "rgb(175,175,175)",
           "width": 0.5
          },
          "path": "M -0.94936419634155,0.3141776928821696 Q -0.19919266115176476, -0.017952262901323297 -0.8778916362418697, -0.4788593478429473L -0.8778916362418697, -0.4788593478429473 L -0.8787659383746285, -0.4772529995218037 L -0.8796373012469755, -0.47564505490432435 M -0.8796373012469755,-0.47564505490432435 Q -0.19920205611152264, -0.017847712484847508 -0.9501803484988035, 0.31170066622754006L -0.9501803484988035, 0.31170066622754006 L -0.9497730799372281, 0.3129394456225543 L -0.94936419634155, 0.3141776928821696 ",
          "type": "path"
         },
         {
          "fillcolor": "#ca6f4c",
          "layer": "below",
          "line": {
           "color": "rgb(175,175,175)",
           "width": 0.5
          },
          "path": "M -0.9512316834375424,0.308477364525469 Q -0.1913020810149049, -0.058339641748700925 -0.6172171731401472, -0.786792832441225L -0.6172171731401472, -0.786792832441225 L -0.6194945064174413, -0.7850009914125019 L -0.6217666378358356, -0.7832025587766684 M -0.6217666378358356,-0.7832025587766684 Q -0.19135314413826351, -0.05817193677711746 -0.9524709064402935, 0.30462956584154083L -0.9524709064402935, 0.30462956584154083 L -0.9518532392472976, 0.3065540913679458 L -0.9512316834375424, 0.308477364525469 ",
          "type": "path"
         },
         {
          "fillcolor": "#ca6f4c",
          "layer": "below",
          "line": {
           "color": "rgb(175,175,175)",
           "width": 0.5
          },
          "path": "M -0.9501803484988035,0.31170066622754006 Q -0.16769326491300574, -0.10899068264221712 -0.10097450081269922, -0.9948890140038869L -0.10097450081269922, -0.9948890140038869 L -0.10263165421062598, -0.9947194295649354 L -0.10428852281430605, -0.9945470848628586 M -0.10428852281430605,-0.9945470848628586 Q -0.1676900599770213, -0.10899561360395658 -0.9512316834375424, 0.308477364525469L -0.9512316834375424, 0.308477364525469 L -0.9507073820143302, 0.3100894609358054 L -0.9501803484988035, 0.31170066622754006 ",
          "type": "path"
         },
         {
          "fillcolor": "#ca6f4c",
          "layer": "below",
          "line": {
           "color": "rgb(175,175,175)",
           "width": 0.5
          },
          "path": "M -0.9608170667276827,0.2771832684070443 Q -0.15443599754682508, -0.12708077219515565 0.08701758743979059, -0.9962067754618809L 0.08701758743979059, -0.9962067754618809 L 0.0774033860371828, -0.9969998574874416 L 0.06778198133245145, -0.9977001568640987 M 0.06778198133245145,-0.9977001568640987 Q -0.15481609393208096, -0.12661744374142564 -0.9644187560104791, 0.26437939226649243L -0.9644187560104791, 0.26437939226649243 L -0.9626391993367128, 0.27078731857377025 L -0.9608170667276827, 0.2771832684070443 ",
          "type": "path"
         },
         {
          "fillcolor": "#ca6f4c",
          "layer": "below",
          "line": {
           "color": "rgb(175,175,175)",
           "width": 0.5
          },
          "path": "M -0.9467931131226229,0.321842820245492 Q -0.11569067765325143, -0.16314308782210626 0.616908634646515, -0.7870347746437718L 0.616908634646515, -0.7870347746437718 L 0.6166908038812298, -0.78720547026067 L 0.6164729258853012, -0.7873761055876766 M 0.6164729258853012,-0.7873761055876766 Q -0.11570391510670003, -0.16313369985684 -0.9469189465562777, 0.32147240729609955L -0.9469189465562777, 0.32147240729609955 L -0.9468560479527838, 0.3216576199240983 L -0.9467931131226229, 0.321842820245492 ",
          "type": "path"
         },
         {
          "fillcolor": "#ca6f4c",
          "layer": "below",
          "line": {
           "color": "rgb(175,175,175)",
           "width": 0.5
          },
          "path": "M -0.9478788536886039,0.318630944401165 Q -0.07451698827832139, -0.1855996186901485 0.9050491131437431, -0.42530706883112573L 0.9050491131437431, -0.42530706883112573 L 0.9046711953468751, -0.4261103475740247 L 0.9042925645979979, -0.42691329050847754 M 0.9042925645979979,-0.42691329050847754 Q -0.07454863794158496, -0.18558690843121042 -0.9483349261477039, 0.3172709691232859L -0.9483349261477039, 0.3172709691232859 L -0.9481071337636183, 0.3179510385366533 L -0.9478788536886039, 0.318630944401165 ",
          "type": "path"
         },
         {
          "fillcolor": "#ca6f4c",
          "layer": "below",
          "line": {
           "color": "rgb(175,175,175)",
           "width": 0.5
          },
          "path": "M -0.9470446350736405,0.3211019451486322 Q -0.0595524747802737, -0.19092800409459287 0.9616603064136934, -0.2742434230174379L 0.9616603064136934, -0.2742434230174379 L 0.961550230867315, -0.27462911993998984 L 0.961440000627945, -0.27501477268055446 M 0.961440000627945,-0.27501477268055446 Q -0.0595668122370034, -0.19092353149866464 -0.9472537938474731, 0.3204843990611226L -0.9472537938474731, 0.3204843990611226 L -0.9471492647909528, 0.3207931891514493 L -0.9470446350736405, 0.3211019451486322 ",
          "type": "path"
         },
         {
          "fillcolor": "#ca6f4c",
          "layer": "below",
          "line": {
           "color": "rgb(175,175,175)",
           "width": 0.5
          },
          "path": "M -0.9467091436673111,0.3220897348514953 Q -0.04380008096268607, -0.19514495357979963 0.993549496031502, -0.11339928983705483L 0.993549496031502, -0.11339928983705483 L 0.9935331840581532, -0.11354211630610002 L 0.9935168515529633, -0.11368494042874368 M 0.9935168515529633,-0.11368494042874368 Q -0.04380268690968872, -0.19514436865944093 -0.9467931131226229, 0.321842820245492L -0.9467931131226229, 0.321842820245492 L -0.9467511364444454, 0.3219662802859193 L -0.9467091436673111, 0.3220897348514953 ",
          "type": "path"
         },
         {
          "fillcolor": "#c45e3a",
          "layer": "below",
          "line": {
           "color": "rgb(175,175,175)",
           "width": 0.5
          },
          "path": "M -0.9724515724069608,0.23310499634977708 Q -0.19952744621936824, 0.013740385918056 -0.995225564556851, -0.09760161705882395L -0.995225564556851, -0.09760161705882395 L -0.9952918126598083, -0.09692372079296702 L -0.9953575990148869, -0.09624577956107867 M -0.9953575990148869,-0.09624577956107867 Q -0.19952610165209694, 0.013759896784390754 -0.9727228694429715, 0.23197029823370038L -0.9727228694429715, 0.23197029823370038 L -0.9725873864036602, 0.2325376868563406 L -0.9724515724069608, 0.23310499634977708 ",
          "type": "path"
         },
         {
          "fillcolor": "#c45e3a",
          "layer": "below",
          "line": {
           "color": "rgb(175,175,175)",
           "width": 0.5
          },
          "path": "M -0.9749429690451593,0.22245495523680617 Q -0.1995479801767509, -0.013438884156768128 -0.9363111611611432, -0.3511714815942088L -0.9363111611611432, -0.3511714815942088 L -0.9373484769634893, -0.34839321568340986 L -0.9383775489869997, -0.34561188572899376 M -0.9383775489869997,-0.34561188572899376 Q -0.19955157000180881, -0.013385473835961012 -0.976129113696459, 0.2171910527488769L -0.976129113696459, 0.2171910527488769 L -0.9755395918058783, 0.21982380403227553 L -0.9749429690451593, 0.22245495523680617 ",
          "type": "path"
         },
         {
          "fillcolor": "#c45e3a",
          "layer": "below",
          "line": {
           "color": "rgb(175,175,175)",
           "width": 0.5
          },
          "path": "M -0.9738279704407651,0.22728634800009542 Q -0.19801586051148073, -0.028101939183939113 -0.872137230799756, -0.48926133165511165L -0.872137230799756, -0.48926133165511165 L -0.8736541640623862, -0.4865474299762082 L -0.8751626522790955, -0.4838288251601169 M -0.8751626522790955,-0.4838288251601169 Q -0.19803352212459832, -0.02797720706086006 -0.9749429690451593, 0.22245495523680617L -0.9749429690451593, 0.22245495523680617 L -0.9743884642355026, 0.22487134269350245 L -0.9738279704407651, 0.22728634800009542 ",
          "type": "path"
         },
         {
          "fillcolor": "#c45e3a",
          "layer": "below",
          "line": {
           "color": "rgb(175,175,175)",
           "width": 0.5
          },
          "path": "M -0.9807888033385033,0.19507261018868532 Q -0.18704352652806708, -0.07081468198011114 -0.6056787727994203, -0.7957092585738765L -0.6056787727994203, -0.7957092585738765 L -0.6087980372316778, -0.7933252484718084 L -0.6119079180681585, -0.7909290105979752 M -0.6119079180681585,-0.7909290105979752 Q -0.18710460153362973, -0.07065315339701154 -0.9819652313715335, 0.189061588847261L -0.9819652313715335, 0.189061588847261 L -0.9813816195991363, 0.1920680002316269 L -0.9807888033385033, 0.19507261018868532 ",
          "type": "path"
         },
         {
          "fillcolor": "#c45e3a",
          "layer": "below",
          "line": {
           "color": "rgb(175,175,175)",
           "width": 0.5
          },
          "path": "M -0.9722813395726768,0.23381402164703724 Q -0.16414562996002938, -0.11426378326059883 -0.11829613845712877, -0.9929783600996206L -0.11829613845712877, -0.9929783600996206 L -0.11861423074317486, -0.9929404132500624 L -0.11893231085671326, -0.9929023645023121 M -0.11893231085671326,-0.9929023645023121 Q -0.1641405747982869, -0.11427104491028335 -0.9724515724069608, 0.23310499634977708L -0.9724515724069608, 0.23310499634977708 L -0.9723665206152555, 0.23345952451459723 L -0.9722813395726768, 0.23381402164703724 ",
          "type": "path"
         },
         {
          "fillcolor": "#c45e3a",
          "layer": "below",
          "line": {
           "color": "rgb(175,175,175)",
           "width": 0.5
          },
          "path": "M -0.9796341859359637,0.20079059177556488 Q -0.15632898175368026, -0.12474473721908075 -0.021634535798168847, -0.9997659460397708L -0.021634535798168847, -0.9997659460397708 L -0.025416582313054322, -0.9996769464899767 L -0.02919826507098027, -0.9995736397668982 M -0.02919826507098027,-0.9995736397668982 Q -0.15643700140591169, -0.124609247614801 -0.9807888033385033, 0.19507261018868532L -0.9807888033385033, 0.19507261018868532 L -0.9802156640491501, 0.19793244290081338 L -0.9796341859359637, 0.20079059177556488 ",
          "type": "path"
         },
         {
          "fillcolor": "#c45e3a",
          "layer": "below",
          "line": {
           "color": "rgb(175,175,175)",
           "width": 0.5
          },
          "path": "M -0.9772868377546035,0.2119208266112782 Q -0.10431468194147973, -0.1706412820259152 0.6341805974947907, -0.7731849518460316L 0.6341805974947907, -0.7731849518460316 L 0.6314663656488981, -0.7754032686635852 L 0.6287443743543977, -0.7776120573381672 M 0.6287443743543977,-0.7776120573381672 Q -0.1044399998866277, -0.1705646107012859 -0.978446233095833, 0.2065017407688731L -0.978446233095833, 0.2065017407688731 L -0.9778702893162065, 0.20921208682253215 L -0.9772868377546035, 0.2119208266112782 ",
          "type": "path"
         },
         {
          "fillcolor": "#c45e3a",
          "layer": "below",
          "line": {
           "color": "rgb(175,175,175)",
           "width": 0.5
          },
          "path": "M -0.9722472309679363,0.2339558118003916 Q -0.06719603343774, -0.18837381211366439 0.9008178161543317, -0.4341972617358851L 0.9008178161543317, -0.4341972617358851 L 0.9007827720041914, -0.4342699594266738 L 0.9007477219872109, -0.43434265428904195 M 0.9007477219872109,-0.43434265428904195 Q -0.06719750010549612, -0.1883732889227447 -0.9722813395726768, 0.23381402164703724L -0.9722813395726768, 0.23381402164703724 L -0.9722642878550523, 0.23388491734549313 L -0.9722472309679363, 0.2339558118003916 ",
          "type": "path"
         },
         {
          "fillcolor": "#c45e3a",
          "layer": "below",
          "line": {
           "color": "rgb(175,175,175)",
           "width": 0.5
          },
          "path": "M -0.978446233095833,0.2065017407688731 Q -0.044873738724787504, -0.19490086601362117 0.9702361955354081, -0.24216053533343812L 0.9702361955354081, -0.24216053533343812 L 0.9694541632101668, -0.24527255336558815 L 0.9686621491611206, -0.2483820460149222 M 0.9686621491611206,-0.2483820460149222 Q -0.04493066259589901, -0.19488775117665422 -0.9796341859359637, 0.20079059177556488L -0.9796341859359637, 0.20079059177556488 L -0.9790443739456554, 0.20364703249829066 L -0.978446233095833, 0.2065017407688731 ",
          "type": "path"
         },
         {
          "fillcolor": "#c45e3a",
          "layer": "below",
          "line": {
           "color": "rgb(175,175,175)",
           "width": 0.5
          },
          "path": "M -0.973328446288704,0.2294160753853521 Q -0.033448567333128995, -0.19718314670214881 0.9945357437243099, -0.10439662089710482L 0.9945357437243099, -0.10439662089710482 L 0.9944226092361012, -0.10546883065657119 L 0.9943083187980558, -0.10654091781556926 M 0.9943083187980558,-0.10654091781556926 Q -0.03344549118652598, -0.1971836684902987 -0.9738279704407651, 0.22728634800009542L -0.9738279704407651, 0.22728634800009542 L -0.9735787907187431, 0.2283513482829251 L -0.973328446288704, 0.2294160753853521 ",
          "type": "path"
         },
         {
          "fillcolor": "#bf4d28",
          "layer": "below",
          "line": {
           "color": "rgb(175,175,175)",
           "width": 0.5
          },
          "path": "M -0.9999966754700867,0.0025785749502496257 Q -0.19848004755121157, -0.024610378381260147 -0.9690834656797848, -0.24673312818925938L -0.9690834656797848, -0.24673312818925938 L -0.9729871577032172, -0.2308592448757788 L -0.9766308490880287, -0.21492367158969736 M -0.9766308490880287,-0.21492367158969736 Q -0.19848334817242663, -0.024583744594004916 -0.9995546090026127, -0.029842647698118663L -0.9995546090026127, -0.029842647698118663 L -0.9999070550449223, -0.013633828200130878 L -0.9999966754700867, 0.0025785749502496257 ",
          "type": "path"
         },
         {
          "fillcolor": "#bf4d28",
          "layer": "below",
          "line": {
           "color": "rgb(175,175,175)",
           "width": 0.5
          },
          "path": "M -0.993638113787095,0.11262015285739954 Q -0.19890465244749833, -0.020903091511541915 -0.948517974718905, -0.3167233045343312L -0.948517974718905, -0.3167233045343312 L -0.9487462002317237, -0.31603899687517367 L -0.9489739320513104, -0.3153545247607443 M -0.9489739320513104,-0.3153545247607443 Q -0.19890384515107928, -0.020910771963642827 -0.9938081432435677, 0.11110974044957728L -0.9938081432435677, 0.11110974044957728 L -0.9937234154847656, 0.11186497895808065 L -0.993638113787095, 0.11262015285739954 ",
          "type": "path"
         },
         {
          "fillcolor": "#bf4d28",
          "layer": "below",
          "line": {
           "color": "rgb(175,175,175)",
           "width": 0.5
          },
          "path": "M -0.9940128390266233,0.10926333259713576 Q -0.19644566371917124, -0.03753799682900369 -0.8836932484375618, -0.4680664938508947L -0.8836932484375618, -0.4680664938508947 L -0.8841636189451695, -0.4671773698861934 L -0.8846330948650113, -0.46628777323617654 M -0.8846330948650113,-0.46628777323617654 Q -0.1964485542277243, -0.037522866919211695 -0.9942141043497826, 0.10741654766356823L -0.9942141043497826, 0.10741654766356823 L -0.9941139005393794, 0.10833998686718045 L -0.9940128390266233, 0.10926333259713576 ",
          "type": "path"
         },
         {
          "fillcolor": "#bf4d28",
          "layer": "below",
          "line": {
           "color": "rgb(175,175,175)",
           "width": 0.5
          },
          "path": "M -0.997938533657947,0.06417696658947354 Q -0.1798986033292573, -0.08738702718471741 -0.5664553501624816, -0.8240924318741802L -0.5664553501624816, -0.8240924318741802 L -0.5718354721247825, -0.8203683275333264 L -0.57719111114264, -0.8166090993969665 M -0.57719111114264,-0.8166090993969665 Q -0.17995382883829192, -0.08727324610921001 -0.998627473465851, 0.05237527316598013L -0.998627473465851, 0.05237527316598013 L -0.9983004433498375, 0.058277137948924 L -0.997938533657947, 0.06417696658947354 ",
          "type": "path"
         },
         {
          "fillcolor": "#bf4d28",
          "layer": "below",
          "line": {
           "color": "rgb(175,175,175)",
           "width": 0.5
          },
          "path": "M -0.9932324519072339,0.11614343062930599 Q -0.1569840973270103, -0.12391930110529092 -0.11765991749808521, -0.9930539480885939L -0.11765991749808521, -0.9930539480885939 L -0.11797803403121762, -0.9930162050470923 L -0.11829613845712877, -0.9929783600996206 M -0.11829613845712877,-0.9929783600996206 Q -0.15697147392585256, -0.12393529107379138 -0.9933301714078459, 0.11530468581484261L -0.9933301714078459, 0.11530468581484261 L -0.9932814001889589, 0.11572406853658941 L -0.9932324519072339, 0.11614343062930599 ",
          "type": "path"
         },
         {
          "fillcolor": "#bf4d28",
          "layer": "below",
          "line": {
           "color": "rgb(175,175,175)",
           "width": 0.5
          },
          "path": "M -0.997173922031122,0.07512768611550505 Q -0.14510253064575163, -0.1376417654645519 0.022434959779091795, -0.9997483046145718L 0.022434959779091795, -0.9997483046145718 L 0.016288591190104056, -0.9998673320981347 L 0.010141607022443936, -0.9999485725811115 M 0.010141607022443936,-0.9999485725811115 Q -0.1451931792952284, -0.1375461402080904 -0.997938533657947, 0.06417696658947354L -0.997938533657947, 0.06417696658947354 L -0.9975712542349802, 0.06965337553951455 L -0.997173922031122, 0.07512768611550505 ",
          "type": "path"
         },
         {
          "fillcolor": "#bf4d28",
          "layer": "below",
          "line": {
           "color": "rgb(175,175,175)",
           "width": 0.5
          },
          "path": "M -0.9995546090026127,-0.029842647698118663 Q -0.05636132938157119, -0.19189424314017878 0.8246573475130001, -0.5656326185721815L 0.8246573475130001, -0.5656326185721815 L 0.8138139449399058, -0.581125513999642 L 0.8026795150227064, -0.5964105936038635 M 0.8026795150227064,-0.5964105936038635 Q -0.056668339176889515, -0.19180380427648722 -0.9979226437410899, -0.06442357572188889L -0.9979226437410899, -0.06442357572188889 L -0.9988882840202294, -0.04714017444941606 L -0.9995546090026127, -0.029842647698118663 ",
          "type": "path"
         },
         {
          "fillcolor": "#bf4d28",
          "layer": "below",
          "line": {
           "color": "rgb(175,175,175)",
           "width": 0.5
          },
          "path": "M -0.9938081432435677,0.11110974044957728 Q -0.05454189405049509, -0.19241928643819614 0.9042925645979979, -0.42691329050847754L 0.9042925645979979, -0.42691329050847754 L 0.9039132211955024, -0.42771589700170204 L 0.9035331654383412, -0.4285181664211813 M 0.9035331654383412,-0.4285181664211813 Q -0.05453398133448815, -0.192421529148403 -0.9940128390266233, 0.10926333259713576L -0.9940128390266233, 0.10926333259713576 L -0.9939109198987081, 0.11018658405678924 L -0.9938081432435677, 0.11110974044957728 ",
          "type": "path"
         },
         {
          "fillcolor": "#bf4d28",
          "layer": "below",
          "line": {
           "color": "rgb(175,175,175)",
           "width": 0.5
          },
          "path": "M -0.9997273716181859,0.02334914211258294 Q -0.01898442571309551, -0.19909694015816506 0.9861245490833661, -0.16600714953015658L 0.9861245490833661, -0.16600714953015658 L 0.984438582847716, -0.1757289862281705 L 0.9826567750276595, -0.18543371455115668 M 0.9826567750276595,-0.18543371455115668 Q -0.018881020404340903, -0.19910677303520055 -0.9999966754700867, 0.0025785749502496257L -0.9999966754700867, 0.0025785749502496257 L -0.9999159565887706, 0.012964557808260831 L -0.9997273716181859, 0.02334914211258294 ",
          "type": "path"
         },
         {
          "fillcolor": "#bf4d28",
          "layer": "below",
          "line": {
           "color": "rgb(175,175,175)",
           "width": 0.5
          },
          "path": "M -0.998627473465851,0.05237527316598013 Q -0.011193262628579845, -0.1996865315231041 0.9982249285151146, -0.05955662927831256L 0.9982249285151146, -0.05955662927831256 L 0.9979126400933901, -0.06457834576574471 L 0.9975750893529782, -0.06959842744198648 M 0.9975750893529782,-0.06959842744198648 Q -0.011017633144390427, -0.1996962988137127 -0.9991768504849385, 0.040566260056835876L -0.9991768504849385, 0.040566260056835876 L -0.9989196125798966, 0.046471578445639525 L -0.998627473465851, 0.05237527316598013 ",
          "type": "path"
         },
         {
          "fillcolor": "#af4624",
          "layer": "below",
          "line": {
           "color": "rgb(175,175,175)",
           "width": 0.5
          },
          "path": "M -0.9948356787236359,-0.10149863220005802 Q -0.1953326954803965, -0.04295507043833932 -0.9456365835618301, -0.32522523246130497L -0.9456365835618301, -0.32522523246130497 L -0.946052881922074, -0.32401225996393745 L -0.9464676243975005, -0.32279875459386737 M -0.9464676243975005,-0.32279875459386737 Q -0.1953292657939819, -0.042970663532042166 -0.9945554534829285, -0.10420868460625773L -0.9945554534829285, -0.10420868460625773 L -0.9946964890465534, -0.10285375383747505 L -0.9948356787236359, -0.10149863220005802 ",
          "type": "path"
         },
         {
          "fillcolor": "#af4624",
          "layer": "below",
          "line": {
           "color": "rgb(175,175,175)",
           "width": 0.5
          },
          "path": "M -0.9945554534829285,-0.10420868460625773 Q -0.1911561403392877, -0.058816069322818104 -0.8811118642827062, -0.47290790078011385L -0.8811118642827062, -0.47290790078011385 L -0.8818028300613637, -0.4716182448716012 L -0.882491908212259, -0.4703275793953463 M -0.882491908212259,-0.4703275793953463 Q -0.19116207058457113, -0.058796792172868144 -0.9942678457463712, -0.10691796348074645L -0.9942678457463712, -0.10691796348074645 L -0.9944125722944849, -0.10556342199202294 L -0.9945554534829285, -0.10420868460625773 ",
          "type": "path"
         },
         {
          "fillcolor": "#af4624",
          "layer": "below",
          "line": {
           "color": "rgb(175,175,175)",
           "width": 0.5
          },
          "path": "M -0.990825843129824,-0.1351449169820065 Q -0.17221830440475128, -0.10168999767898726 -0.5968653220782912, -0.8023414405976907L -0.5968653220782912, -0.8023414405976907 L -0.6012811916989528, -0.7990375013158564 L -0.6056787727994203, -0.7957092585738765 M -0.6056787727994203,-0.7957092585738765 Q -0.17226829147831935, -0.10160529391296902 -0.9894181148511167, -0.1450923637014106L -0.9894181148511167, -0.1450923637014106 L -0.9901344712735055, -0.14012040820642682 L -0.990825843129824, -0.1351449169820065 ",
          "type": "path"
         },
         {
          "fillcolor": "#af4624",
          "layer": "below",
          "line": {
           "color": "rgb(175,175,175)",
           "width": 0.5
          },
          "path": "M -0.9954066357407823,-0.09573729431740646 Q -0.14306140119067412, -0.13976206741945751 -0.11893231085671326, -0.9929023645023121L -0.11893231085671326, -0.9929023645023121 L -0.11912315306845331, -0.9928794863441534 L -0.11931399087928768, -0.9928565715048963 M -0.11931399087928768,-0.9928565715048963 Q -0.1430525660569333, -0.13977111055052377 -0.9953575990148869, -0.09624577956107867L -0.9953575990148869, -0.09624577956107867 L -0.9953821498474301, -0.095991540070509 L -0.9954066357407823, -0.09573729431740646 ",
          "type": "path"
         },
         {
          "fillcolor": "#af4624",
          "layer": "below",
          "line": {
           "color": "rgb(175,175,175)",
           "width": 0.5
          },
          "path": "M -0.9878047004696306,-0.1556980209575678 Q -0.1291736861053899, -0.15268974693130577 0.010141607022443936, -0.9999485725811115L 0.010141607022443936, -0.9999485725811115 L 0.004183392791536589, -0.9999912495740909 L -0.0017749699587586772, -0.999998424739582 M -0.0017749699587586772,-0.999998424739582 Q -0.1292644390437446, -0.1526129247433062 -0.9860776064888747, -0.16628576000719977L -0.9860776064888747, -0.16628576000719977 L -0.9869553513130691, -0.16099420646251955 L -0.9878047004696306, -0.1556980209575678 ",
          "type": "path"
         },
         {
          "fillcolor": "#af4624",
          "layer": "below",
          "line": {
           "color": "rgb(175,175,175)",
           "width": 0.5
          },
          "path": "M -0.9690834656797848,-0.24673312818925938 Q -0.030858965470148415, -0.19760497020599505 0.8477142199994164, -0.5304532036012046L 0.8477142199994164, -0.5304532036012046 L 0.836370768717684, -0.5481641517233594 L 0.8246573475130001, -0.5656326185721815 M 0.8246573475130001,-0.5656326185721815 Q -0.031179136108504896, -0.19755470500984615 -0.958776399169939, -0.2841616026044438L -0.958776399169939, -0.2841616026044438 L -0.9641115792784882, -0.26549738737158834 L -0.9690834656797848, -0.24673312818925938 ",
          "type": "path"
         },
         {
          "fillcolor": "#af4624",
          "layer": "below",
          "line": {
           "color": "rgb(175,175,175)",
           "width": 0.5
          },
          "path": "M -0.995225564556851,-0.09760161705882395 Q -0.034338500068872735, -0.19703011803534004 0.9035331654383412, -0.4285181664211813L 0.9035331654383412, -0.4285181664211813 L 0.9031870422975725, -0.4292472092230338 L 0.9028403309068965, -0.42997597245418906 M 0.9028403309068965,-0.42997597245418906 Q -0.03432975729765002, -0.19703164152969047 -0.9950579243547104, -0.09929615893324074L -0.9950579243547104, -0.09929615893324074 L -0.9951421051420422, -0.09844892367854871 L -0.995225564556851, -0.09760161705882395 ",
          "type": "path"
         },
         {
          "fillcolor": "#af4624",
          "layer": "below",
          "line": {
           "color": "rgb(175,175,175)",
           "width": 0.5
          },
          "path": "M -0.9838431253196694,-0.17903269187839743 Q -0.000651003212530708, -0.19999894048423675 0.9826567750276595, -0.18543371455115668L 0.9826567750276595, -0.18543371455115668 L 0.9810755560765547, -0.19362529088184458 L 0.9794260521317769, -0.20180339047092796 M 0.9794260521317769,-0.20180339047092796 Q -0.0005486401484148208, -0.19999924748355316 -0.9805184817304058, -0.19642684894153306L -0.9805184817304058, -0.19642684894153306 L -0.9822193084989079, -0.18773713008333512 L -0.9838431253196694, -0.17903269187839743 ",
          "type": "path"
         },
         {
          "fillcolor": "#af4624",
          "layer": "below",
          "line": {
           "color": "rgb(175,175,175)",
           "width": 0.5
          },
          "path": "M -0.9860776064888747,-0.16628576000719977 Q 0.011832612564744787, -0.19964966636559311 0.9988160186976556, -0.04864731023360452L 0.9988160186976556, -0.04864731023360452 L 0.9985353721935064, -0.05410277699319763 L 0.9982249285151146, -0.05955662927831256 M 0.9982249285151146,-0.05955662927831256 Q 0.012033854659905079, -0.19963763758876804 -0.9838431253196694, -0.17903269187839743L -0.9838431253196694, -0.17903269187839743 L -0.98498098634964, -0.17266284061630108 L -0.9860776064888747, -0.16628576000719977 ",
          "type": "path"
         },
         {
          "fillcolor": "#9f4021",
          "layer": "below",
          "line": {
           "color": "rgb(175,175,175)",
           "width": 0.5
          },
          "path": "M -0.9228537325154619,-0.3851506048058088 Q -0.1769144205426023, -0.09328069362989998 -0.8391541777576588, -0.5438936163919077L -0.8391541777576588, -0.5438936163919077 L -0.8439454466884221, -0.5364290102277091 L -0.8486703168581929, -0.5289221996511533 M -0.8486703168581929,-0.5289221996511533 Q -0.17701648730050162, -0.09308685849136468 -0.9167535617880503, -0.3994532600304113L -0.9167535617880503, -0.3994532600304113 L -0.919831446951174, -0.3923137892041388 L -0.9228537325154619, -0.3851506048058088 ",
          "type": "path"
         },
         {
          "fillcolor": "#9f4021",
          "layer": "below",
          "line": {
           "color": "rgb(175,175,175)",
           "width": 0.5
          },
          "path": "M -0.9276571182054335,-0.3734330877718127 Q -0.15513187292485625, -0.12623035293789786 -0.5542228522666719, -0.8323683259383401L -0.5542228522666719, -0.8323683259383401 L -0.5603543797951436, -0.828252961989512 L -0.5664553501624816, -0.8240924318741802 M -0.5664553501624816,-0.8240924318741802 Q -0.15526466021916058, -0.12606698730051663 -0.9228537325154619, -0.3851506048058088L -0.9228537325154619, -0.3851506048058088 L -0.925273974134312, -0.3792994500255656 L -0.9276571182054335, -0.3734330877718127 ",
          "type": "path"
         },
         {
          "fillcolor": "#9f4021",
          "layer": "below",
          "line": {
           "color": "rgb(175,175,175)",
           "width": 0.5
          },
          "path": "M -0.9444837461387056,-0.3285581429211537 Q -0.12447710556711736, -0.1565421674490063 -0.10734659345728359, -0.9942216598289924L -0.10734659345728359, -0.9942216598289924 L -0.10881156096418867, -0.9940623945208553 L -0.11027629218730765, -0.9939009706109656 M -0.11027629218730765,-0.9939009706109656 Q -0.12441919485489453, -0.1565881986346985 -0.9432659473391796, -0.332038179416645L -0.9432659473391796, -0.332038179416645 L -0.9438764505855439, -0.3302987224165956 L -0.9444837461387056, -0.3285581429211537 ",
          "type": "path"
         },
         {
          "fillcolor": "#9f4021",
          "layer": "below",
          "line": {
           "color": "rgb(175,175,175)",
           "width": 0.5
          },
          "path": "M -0.9088335484539909,-0.4171589399791491 Q -0.09823443527670417, -0.17421250163483396 0.11336521377601626, -0.9935533847285299L 0.11336521377601626, -0.9935533847285299 L 0.10020018401365013, -0.9949672975146624 L 0.08701758743979059, -0.9962067754618809 M 0.08701758743979059,-0.9962067754618809 Q -0.09858608133299593, -0.17401374821376592 -0.8992434286191494, -0.4374485753608952L -0.8992434286191494, -0.4374485753608952 L -0.904095407621047, -0.4273306611027728 L -0.9088335484539909, -0.4171589399791491 ",
          "type": "path"
         },
         {
          "fillcolor": "#9f4021",
          "layer": "below",
          "line": {
           "color": "rgb(175,175,175)",
           "width": 0.5
          },
          "path": "M -0.9420353260767341,-0.3355137022887457 Q -0.054185069527360644, -0.19252007230498097 0.6287443743543977, -0.7776120573381672L 0.6287443743543977, -0.7776120573381672 L 0.6264461773248458, -0.7794646797097915 L 0.6241425214938973, -0.7813105098891476 M 0.6241425214938973,-0.7813105098891476 Q -0.05425958833022241, -0.1924990833075181 -0.9403018584809225, -0.3403416150536446L -0.9403018584809225, -0.3403416150536446 L -0.9411716879919028, -0.3379287701905127 L -0.9420353260767341, -0.3355137022887457 ",
          "type": "path"
         },
         {
          "fillcolor": "#9f4021",
          "layer": "below",
          "line": {
           "color": "rgb(175,175,175)",
           "width": 0.5
          },
          "path": "M -0.9492768063053924,-0.31444164007115005 Q -0.012661133056105174, -0.19959883694484695 0.901936129903118, -0.4318694450587885L 0.901936129903118, -0.4318694450587885 L 0.9017269040500986, -0.4323061305512845 L 0.9015174667694638, -0.4327427146811009 M 0.9015174667694638,-0.4327427146811009 Q -0.01266179419743696, -0.19959879500563563 -0.9489739320513104, -0.3153545247607443L -0.9489739320513104, -0.3153545247607443 L -0.9491254789318195, -0.3148981188296369 L -0.9492768063053924, -0.31444164007115005 ",
          "type": "path"
         },
         {
          "fillcolor": "#9f4021",
          "layer": "below",
          "line": {
           "color": "rgb(175,175,175)",
           "width": 0.5
          },
          "path": "M -0.9479580124857261,-0.3183953620329792 Q 0.005376754376101587, -0.19992771321750039 0.9637009125169903, -0.2669841778344181L 0.9637009125169903, -0.2669841778344181 L 0.9634004625346981, -0.2680663141611226 L 0.9630987974257864, -0.26914811237867525 M 0.9630987974257864,-0.26914811237867525 Q 0.0053765640601911, -0.19992771833566916 -0.9472410705704248, -0.320522002715251L -0.9472410705704248, -0.320522002715251 L -0.9476001381143666, -0.31945888349775664 L -0.9479580124857261, -0.3183953620329792 ",
          "type": "path"
         },
         {
          "fillcolor": "#9f4021",
          "layer": "below",
          "line": {
           "color": "rgb(175,175,175)",
           "width": 0.5
          },
          "path": "M -0.9456365835618301,-0.32522523246130497 Q 0.02293198499083336, -0.19868096049793044 0.9948609351021184, -0.10125077682535852L 0.9948609351021184, -0.10125077682535852 L 0.994699583047634, -0.10282382741788604 L 0.9945357437243099, -0.10439662089710482 M 0.9945357437243099,-0.10439662089710482 Q 0.022968149777125697, -0.19867678298134264 -0.9444837461387056, -0.3285581429211537L -0.9444837461387056, -0.3285581429211537 L -0.9450616341063944, -0.32689219589973606 L -0.9456365835618301, -0.32522523246130497 ",
          "type": "path"
         },
         {
          "fillcolor": "#8f391e",
          "layer": "below",
          "line": {
           "color": "rgb(175,175,175)",
           "width": 0.5
          },
          "path": "M -0.8062296821217547,-0.5916026535317894 Q -0.11890555078223881, -0.16081501793418557 -0.3293407757142602, -0.9442111275831955L -0.3293407757142602, -0.9442111275831955 L -0.362229501728831, -0.9320889378580152 L -0.39467318686065556, -0.9188215689530008 M -0.39467318686065556,-0.9188215689530008 Q -0.11902807750607425, -0.16072435025598325 -0.7637925159108585, -0.6454618444482686L -0.7637925159108585, -0.6454618444482686 L -0.7854728694807567, -0.6188960908825215 L -0.8062296821217547, -0.5916026535317894 ",
          "type": "path"
         },
         {
          "fillcolor": "#8f391e",
          "layer": "below",
          "line": {
           "color": "rgb(175,175,175)",
           "width": 0.5
          },
          "path": "M -0.872137230799756,-0.48926133165511165 Q -0.1083957871092167, -0.16807841425053183 -0.08592039895950052, -0.9963020049375793L -0.08592039895950052, -0.9963020049375793 L -0.08885632192557882, -0.9960444538542734 L -0.09179147308775848, -0.995778251152524 M -0.09179147308775848,-0.995778251152524 Q -0.10818405714107869, -0.1682147727772321 -0.8679903613349201, -0.49658104336520414L -0.8679903613349201, -0.49658104336520414 L -0.8700714934831426, -0.4929255483620358 L -0.872137230799756, -0.48926133165511165 ",
          "type": "path"
         },
         {
          "fillcolor": "#8f391e",
          "layer": "below",
          "line": {
           "color": "rgb(175,175,175)",
           "width": 0.5
          },
          "path": "M -0.7637925159108585,-0.6454618444482686 Q -0.04608388000334733, -0.19461828280980462 0.3932384921498375, -0.919436505851123L 0.3932384921498375, -0.919436505851123 L 0.3579173388668999, -0.9337532749813715 L 0.3220762914120725, -0.9467137172927441 M 0.3220762914120725,-0.9467137172927441 Q -0.04632964401302746, -0.19455992415095702 -0.7141892467779365, -0.6999526553894654L -0.7141892467779365, -0.6999526553894654 L -0.7394929579309237, -0.6731642928517325 L -0.7637925159108585, -0.6454618444482686 ",
          "type": "path"
         },
         {
          "fillcolor": "#8f391e",
          "layer": "below",
          "line": {
           "color": "rgb(175,175,175)",
           "width": 0.5
          },
          "path": "M -0.8679903613349201,-0.49658104336520414 Q -0.03521991537302008, -0.19687447158308086 0.6419935371426854, -0.7667100483670626L 0.6419935371426854, -0.7667100483670626 L 0.638095280168403, -0.7699574101382538 L 0.6341805974947907, -0.7731849518460316 M 0.6341805974947907,-0.7731849518460316 Q -0.035228627307122624, -0.1968729128601897 -0.86295153682028, -0.5052866959454967L -0.86295153682028, -0.5052866959454967 L -0.8654818951277917, -0.5009402052201501 L -0.8679903613349201, -0.49658104336520414 ",
          "type": "path"
         },
         {
          "fillcolor": "#8f391e",
          "layer": "below",
          "line": {
           "color": "rgb(175,175,175)",
           "width": 0.5
          },
          "path": "M -0.8778916362418697,-0.4788593478429473 Q 0.006940146430500467, -0.19987954964808985 0.9089909509251234, -0.4168158479907404L 0.9089909509251234, -0.4168158479907404 L 0.907945314535319, -0.4190886610412653 L 0.9068939952843559, -0.42135885100135095 M 0.9068939952843559,-0.42135885100135095 Q 0.0070066937997277385, -0.19987722792253465 -0.8751626522790955, -0.4838288251601169L -0.8751626522790955, -0.4838288251601169 L -0.8765306660645927, -0.4813460204970656 L -0.8778916362418697, -0.4788593478429473 ",
          "type": "path"
         },
         {
          "fillcolor": "#8f391e",
          "layer": "below",
          "line": {
           "color": "rgb(175,175,175)",
           "width": 0.5
          },
          "path": "M -0.8850591144608818,-0.46547863958480384 Q 0.02044105134344722, -0.19895266628013447 0.9612190761411904, -0.2757859453675556L 0.9612190761411904, -0.2757859453675556 L 0.9611748170122225, -0.27594015862414895 L 0.9611305331420391, -0.27609436477787735 M 0.9611305331420391,-0.27609436477787735 Q 0.02044551744406782, -0.19895220736760957 -0.884888795411904, -0.46580233979067714L -0.884888795411904, -0.46580233979067714 L -0.8849739697365209, -0.46564049747501923 L -0.8850591144608818, -0.46547863958480384 ",
          "type": "path"
         },
         {
          "fillcolor": "#8f391e",
          "layer": "below",
          "line": {
           "color": "rgb(175,175,175)",
           "width": 0.5
          },
          "path": "M -0.884888795411904,-0.46580233979067714 Q 0.0369198938672091, -0.19656276716823565 0.9935983087571346, -0.11297079638101988L 0.9935983087571346, -0.11297079638101988 L 0.9935739254935864, -0.11318504574043865 L 0.993549496031502, -0.11339928983705483 M 0.993549496031502,-0.11339928983705483 Q 0.036931431621153345, -0.19656059971014558 -0.8846330948650113, -0.46628777323617654L -0.8846330948650113, -0.46628777323617654 L -0.8847609784307311, -0.4660450740500273 L -0.884888795411904, -0.46580233979067714 ",
          "type": "path"
         },
         {
          "fillcolor": "#f0f3e7",
          "layer": "below",
          "line": {
           "color": "rgb(175,175,175)",
           "width": 0.5
          },
          "path": "M -0.5872228953013492,-0.8094252721739671 Q -0.06847754171901337, -0.18791175130928026 -0.0712300998403407, -0.997459910410807L -0.0712300998403407, -0.997459910410807 L -0.07544729944926844, -0.9971497906562546 L -0.07966314998904823, -0.9968218409193402 M -0.07966314998904823,-0.9968218409193402 Q -0.06811271192471102, -0.188044299233615 -0.57719111114264, -0.8166090993969665L -0.57719111114264, -0.8166090993969665 L -0.5822180832335317, -0.8130326583575055 L -0.5872228953013492, -0.8094252721739671 ",
          "type": "path"
         },
         {
          "fillcolor": "#f0f3e7",
          "layer": "below",
          "line": {
           "color": "rgb(175,175,175)",
           "width": 0.5
          },
          "path": "M -0.2417665726861761,-0.970334439423635 Q 0.025329307493932265, -0.19838958183805377 0.4778109766328281, -0.8784626745680109L 0.4778109766328281, -0.8784626745680109 L 0.4360063164440911, -0.8999436049113606 L 0.3932384921498375, -0.919436505851123 M 0.3932384921498375,-0.919436505851123 Q 0.025220683066297957, -0.19840342019650103 -0.15069485170891828, -0.9885803263612053L -0.15069485170891828, -0.9885803263612053 L -0.196442664681304, -0.9805153132373348 L -0.2417665726861761, -0.970334439423635 ",
          "type": "path"
         },
         {
          "fillcolor": "#f0f3e7",
          "layer": "below",
          "line": {
           "color": "rgb(175,175,175)",
           "width": 0.5
          },
          "path": "M -0.4986113001407756,-0.8668256868436268 Q 0.03345839482580236, -0.19718147939317407 0.756641165541645, -0.6538303653148735L 0.756641165541645, -0.6538303653148735 L 0.7459265508927048, -0.6660282131211208 L 0.7350153171224464, -0.6780505022455109 M 0.7350153171224464,-0.6780505022455109 Q 0.03350100231645696, -0.197174244879479 -0.469824991493309, -0.8827595807287011L -0.469824991493309, -0.8827595807287011 L -0.48428368234133184, -0.8749110326301298 L -0.4986113001407756, -0.8668256868436268 ",
          "type": "path"
         },
         {
          "fillcolor": "#f0f3e7",
          "layer": "below",
          "line": {
           "color": "rgb(175,175,175)",
           "width": 0.5
          },
          "path": "M -0.5542228522666719,-0.8323683259383401 Q 0.058416874387377984, -0.19127851104295357 0.9246974333803403, -0.3807028456681288L 0.9246974333803403, -0.3807028456681288 L 0.9219704218258712, -0.38726030170703685 L 0.9191969090136045, -0.3937982255671491 M 0.9191969090136045,-0.3937982255671491 Q 0.05863182750671636, -0.1912127318021022 -0.5404545665037024, -0.8413731999209952L -0.5404545665037024, -0.8413731999209952 L -0.5473572277135867, -0.8368990771112708 L -0.5542228522666719, -0.8323683259383401 ",
          "type": "path"
         },
         {
          "fillcolor": "#f0f3e7",
          "layer": "below",
          "line": {
           "color": "rgb(175,175,175)",
           "width": 0.5
          },
          "path": "M -0.6261494630937569,-0.7797030523650654 Q 0.06222501954564377, -0.19007379341335895 0.9660192664775838, -0.25847006943572937L 0.9660192664775838, -0.25847006943572937 L 0.9653944403619171, -0.2607941228599694 L 0.964764023036923, -0.26311666586062465 M 0.964764023036923,-0.26311666586062465 Q 0.06230060531528259, -0.19004903203476042 -0.6217666378358356, -0.7832025587766684L -0.6217666378358356, -0.7832025587766684 L -0.6239605038591072, -0.7814558782323472 L -0.6261494630937569, -0.7797030523650654 ",
          "type": "path"
         },
         {
          "fillcolor": "#f0f3e7",
          "layer": "below",
          "line": {
           "color": "rgb(175,175,175)",
           "width": 0.5
          },
          "path": "M -0.6172171731401472,-0.786792832441225 Q 0.07962809381352004, -0.1834648922154461 0.996251021376396, -0.08650955095530095L 0.996251021376396, -0.08650955095530095 L 0.9960238352263648, -0.08908714644079228 L 0.9957899800871568, -0.09166414543331476 M 0.9957899800871568,-0.09166414543331476 Q 0.07977072076856952, -0.18340292284492882 -0.6119079180681585, -0.7909290105979752L -0.6119079180681585, -0.7909290105979752 L -0.6145660252990662, -0.7888653881037673 L -0.6172171731401472, -0.786792832441225 ",
          "type": "path"
         },
         {
          "fillcolor": "#e2ecde",
          "layer": "below",
          "line": {
           "color": "rgb(175,175,175)",
           "width": 0.5
          },
          "path": "M -0.0712300998403407,-0.997459910410807 Q -0.0035610912021693513, -0.1999682940604581 0.035670109008344046, -0.9993636191713869L 0.035670109008344046, -0.9993636191713869 L 0.029053171090618283, -0.9995778675268772 L 0.022434959779091795, -0.9997483046145718 M 0.022434959779091795,-0.9997483046145718 Q -0.003988124939702241, -0.19996023319516643 -0.0622804019368419, -0.9980586914278065L -0.0622804019368419, -0.9980586914278065 L -0.06675592225320005, -0.9977693354899843 L -0.0712300998403407, -0.997459910410807 ",
          "type": "path"
         },
         {
          "fillcolor": "#e2ecde",
          "layer": "below",
          "line": {
           "color": "rgb(175,175,175)",
           "width": 0.5
          },
          "path": "M -0.1128230786009853,-0.9936150929484696 Q 0.054832251686484104, -0.19233674681399304 0.6198085235574096, -0.7847530784428846L 0.6198085235574096, -0.7847530784428846 L 0.6183596315117811, -0.7858952640884245 L 0.616908634646515, -0.7870347746437718 M 0.616908634646515,-0.7870347746437718 Q 0.054723847951294514, -0.19236761802705674 -0.11027629218730765, -0.9939009706109656L -0.11027629218730765, -0.9939009706109656 L -0.11154977697441906, -0.99375884763707 L -0.1128230786009853, -0.9936150929484696 ",
          "type": "path"
         },
         {
          "fillcolor": "#e2ecde",
          "layer": "below",
          "line": {
           "color": "rgb(175,175,175)",
           "width": 0.5
          },
          "path": "M -0.11765991749808521,-0.9930539480885939 Q 0.0966211720196651, -0.1751123899601233 0.9028403309068965, -0.42997597245418906L 0.9028403309068965, -0.42997597245418906 L 0.9025972830456369, -0.43048594011725205 L 0.9023539471301297, -0.4309957703953427 M 0.9023539471301297,-0.4309957703953427 Q 0.09660078174642149, -0.17512363908387765 -0.11676912707279005, -0.9931590864321076L -0.11676912707279005, -0.9931590864321076 L -0.11721453407372814, -0.9931066171372935 L -0.11765991749808521, -0.9930539480885939 ",
          "type": "path"
         },
         {
          "fillcolor": "#e2ecde",
          "layer": "below",
          "line": {
           "color": "rgb(175,175,175)",
           "width": 0.5
          },
          "path": "M -0.11676912707279005,-0.9931590864321076 Q 0.11137620039620724, -0.1661184576899987 0.9630987974257864, -0.26914811237867525L 0.9630987974257864, -0.26914811237867525 L 0.9628392604792129, -0.2700750978521392 L 0.9625788313065713, -0.2710018330574084 M 0.9625788313065713,-0.2710018330574084 Q 0.1113440048674168, -0.16614003906369068 -0.11524183959651754, -0.9933374645136518L -0.11524183959651754, -0.9933374645136518 L -0.11600551762046292, -0.9932485690307379 L -0.11676912707279005, -0.9931590864321076 ",
          "type": "path"
         },
         {
          "fillcolor": "#e2ecde",
          "layer": "below",
          "line": {
           "color": "rgb(175,175,175)",
           "width": 0.5
          },
          "path": "M -0.1195684344356958,-0.9928259613278637 Q 0.12394012314664156, -0.15696765868928328 0.9934841249484117, -0.11397058162301679L 0.9934841249484117, -0.11397058162301679 L 0.9934677308497262, -0.11411339868874334 L 0.9934513162205523, -0.11425621339626252 M 0.9934513162205523,-0.11425621339626252 Q 0.12393767194938757, -0.1569695940995134 -0.11931399087928768, -0.9928565715048963L -0.11931399087928768, -0.9928565715048963 L -0.1194412136380818, -0.9928412745674216 L -0.1195684344356958, -0.9928259613278637 ",
          "type": "path"
         },
         {
          "fillcolor": "#d4e5d6",
          "layer": "below",
          "line": {
           "color": "rgb(175,175,175)",
           "width": 0.5
          },
          "path": "M 0.1458115395313708,-0.9893123849116069 Q 0.09948088519556324, -0.17350375638788681 0.7801310531025678, -0.6256161282968004L 0.7801310531025678, -0.6256161282968004 L 0.768515597624272, -0.6398310528633383 L 0.756641165541645, -0.6538303653148735 M 0.756641165541645,-0.6538303653148735 Q 0.09956130220833401, -0.17345762336254003 0.18293895973729737, -0.9831242734315105L 0.18293895973729737, -0.9831242734315105 L 0.16440436695316876, -0.9863930272090977 L 0.1458115395313708, -0.9893123849116069 ",
          "type": "path"
         },
         {
          "fillcolor": "#d4e5d6",
          "layer": "below",
          "line": {
           "color": "rgb(175,175,175)",
           "width": 0.5
          },
          "path": "M 0.05059928956091261,-0.9987190355129569 Q 0.11665820549658257, -0.16245264876362317 0.9301892618164319, -0.3670802871326672L 0.9301892618164319, -0.3670802871326672 L 0.9274683587755239, -0.37390164946177507 L 0.9246974333803403, -0.3807028456681288 M 0.9246974333803403,-0.3807028456681288 Q 0.1168632136581782, -0.16230523495403038 0.06778198133245145, -0.9977001568640987L 0.06778198133245145, -0.9977001568640987 L 0.059192827715925454, -0.9982465673103978 L 0.05059928956091261, -0.9987190355129569 ",
          "type": "path"
         },
         {
          "fillcolor": "#d4e5d6",
          "layer": "below",
          "line": {
           "color": "rgb(175,175,175)",
           "width": 0.5
          },
          "path": "M -0.030899889215817454,-0.999522484412657 Q 0.11811421091192398, -0.1613971287868949 0.9620552972492286, -0.2728545492285195L 0.9620552972492286, -0.2728545492285195 L 0.9618580525143251, -0.2735490574163067 L 0.9616603064136934, -0.2742434230174379 M 0.9616603064136934,-0.2742434230174379 Q 0.1181350659996784, -0.16138186447445585 -0.02919826507098027, -0.9995736397668982L -0.02919826507098027, -0.9995736397668982 L -0.030049088029214844, -0.999548424193952 L -0.030899889215817454, -0.999522484412657 ",
          "type": "path"
         },
         {
          "fillcolor": "#d4e5d6",
          "layer": "below",
          "line": {
           "color": "rgb(175,175,175)",
           "width": 0.5
          },
          "path": "M -0.011799900911018363,-0.9999303787456856 Q 0.134857386089783, -0.1476938909265756 0.9968812165438329, -0.07891666555352973L 0.9968812165438329, -0.07891666555352973 L 0.9965733502539621, -0.08271370843816533 L 0.996251021376396, -0.08650955095530095 M 0.996251021376396,-0.08650955095530095 Q 0.13503497840822173, -0.14753153766666668 -0.0017749699587586772, -0.999998424739582L -0.0017749699587586772, -0.999998424739582 L -0.006787520706937228, -0.9999769645160097 L -0.011799900911018363, -0.9999303787456856 ",
          "type": "path"
         },
         {
          "fillcolor": "#c6decd",
          "layer": "below",
          "line": {
           "color": "rgb(175,175,175)",
           "width": 0.5
          },
          "path": "M 0.6608888564667023,-0.7504837902300986 Q 0.1619844319159226, -0.1173074755370511 0.9191969090136045, -0.3937982255671491L 0.9191969090136045, -0.3937982255671491 L 0.916860966844134, -0.39920667263666815 L 0.9144932023325113, -0.4046012640707251 M 0.9144932023325113,-0.4046012640707251 Q 0.16208323548896528, -0.11717092119390643 0.670936283070504, -0.7415150059570855L 0.670936283070504, -0.7415150059570855 L 0.6659276690066712, -0.7460163132608706 L 0.6608888564667023, -0.7504837902300986 ",
          "type": "path"
         },
         {
          "fillcolor": "#c6decd",
          "layer": "below",
          "line": {
           "color": "rgb(175,175,175)",
           "width": 0.5
          },
          "path": "M 0.7012624563453662,-0.7129031963180299 Q 0.1783339557398821, -0.09053728640822954 0.9893722335742439, -0.14540489480176352L 0.9893722335742439, -0.14540489480176352 L 0.9878021045723762, -0.15571448937842783 L 0.9861245490833661, -0.16600714953015658 M 0.9861245490833661,-0.16600714953015658 Q 0.17847531257157945, -0.09025831154235611 0.7181577361481171, -0.6958803532293547L 0.7181577361481171, -0.6958803532293547 L 0.7097611323616313, -0.7044424284416256 L 0.7012624563453662, -0.7129031963180299 ",
          "type": "path"
         },
         {
          "fillcolor": "#c6decd",
          "layer": "below",
          "line": {
           "color": "rgb(175,175,175)",
           "width": 0.5
          },
          "path": "M 0.6853085538651915,-0.7282528310959043 Q 0.1823236364949696, -0.08220761263563245 0.9995065603657314, -0.031410759078132795L 0.9995065603657314, -0.031410759078132795 L 0.9991984573509761, -0.04003052369666891 L 0.9988160186976556, -0.04864731023360452 M 0.9988160186976556,-0.04864731023360452 Q 0.18252404508728187, -0.08176168396612132 0.7012624563453662, -0.7129031963180299L 0.7012624563453662, -0.7129031963180299 L 0.6933279847309174, -0.7206221656242366 L 0.6853085538651915, -0.7282528310959043 ",
          "type": "path"
         },
         {
          "fillcolor": "#b8d7c5",
          "layer": "below",
          "line": {
           "color": "rgb(175,175,175)",
           "width": 0.5
          },
          "path": "M 0.9011679349293245,-0.43347012936904533 Q 0.18693358236721913, -0.07110440059066746 0.961440000627945, -0.27501477268055446L 0.961440000627945, -0.27501477268055446 L 0.9613296157133173, -0.2754003811770885 L 0.9612190761411904, -0.2757859453675556 M 0.9612190761411904,-0.2757859453675556 Q 0.18693375446205754, -0.07110394815141555 0.9015174667694638, -0.4327427146811009L 0.9015174667694638, -0.4327427146811009 L 0.9013427742304878, -0.4331064572856054 L 0.9011679349293245, -0.43347012936904533 ",
          "type": "path"
         },
         {
          "fillcolor": "#b8d7c5",
          "layer": "below",
          "line": {
           "color": "rgb(175,175,175)",
           "width": 0.5
          },
          "path": "M 0.9008178161543317,-0.4341972617358851 Q 0.19216568208713244, -0.05542878880137242 0.9936792526316593, -0.11225659396840308L 0.9936792526316593, -0.11225659396840308 L 0.9936388448632226, -0.11261370244726278 L 0.9935983087571346, -0.11297079638101988 M 0.9935983087571346,-0.11297079638101988 Q 0.19216812796765914, -0.05542030849251364 0.9011679349293245, -0.43347012936904533L 0.9011679349293245, -0.43347012936904533 L 0.9009929488944417, -0.4338337308722062 L 0.9008178161543317, -0.4341972617358851 ",
          "type": "path"
         },
         {
          "fillcolor": "#aad0bc",
          "layer": "below",
          "line": {
           "color": "rgb(175,175,175)",
           "width": 0.5
          },
          "path": "M 0.9672928403545252,-0.25366229715682037 Q 0.1969755711014719, -0.03465002726187947 0.9957899800871568, -0.09166414543331476L 0.9957899800871568, -0.09166414543331476 L 0.9955629947789507, -0.09409741455941809 L 0.9953300636489938, -0.0965301217055592 M 0.9953300636489938,-0.0965301217055592 Q 0.19698539080082123, -0.03459415862609967 0.9686621491611206, -0.2483820460149222L 0.9686621491611206, -0.2483820460149222 L 0.9679810951773086, -0.25102310526989013 L 0.9672928403545252, -0.25366229715682037 ",
          "type": "path"
         },
         {
          "fillcolor": "#f2e6ce",
          "layer": "below",
          "line": {
           "color": "rgb(150,150,150)",
           "width": 0.45
          },
          "path": "M 1.1, 0.0 L 1.0997155261803073, 0.02501522492343125 L 1.0988622518582367, 0.050017511343981705 L 1.0974406183687073, 0.07499392745088934 L 1.0954513610162813, 0.09993155481416842 L 1.0928955086948444, 0.12481749506634601 L 1.0897743833554379, 0.14963887657382177 L 1.0860895993225104, 0.1743828610944003 L 1.0818430624589508, 0.19903665041755256 L 1.077036969180326, 0.22358749298397182 L 1.0716738053188415, 0.2480226904810008 L 1.0657563448376046, 0.2723296044105178 L 1.0592876483958629, 0.2964956626258856 L 1.052271061765953, 0.3205083658345816 L 0.9566100561508664, 0.29137124166780143 L 0.9629887712689662, 0.2695415114780778 L 0.9688694043978222, 0.24757236764592525 L 0.9742489139262194, 0.22547517316454618 L 0.97912451743666, 0.2032613572581562 L 0.9834936931445006, 0.1809424094705023 L 0.9873541812022821, 0.15852987372218208 L 0.9907039848685798, 0.13603534233983797 L 0.9935413715407676, 0.11347045006031455 L 0.9958648736511647, 0.09084686801288037 L 0.9976732894260976, 0.06817629768262667 L 0.9989656835074878, 0.04547046485816518 L 0.999741387436643, 0.02274111356675568 L 1.0, 0.0 L 1.1 ,0.0",
          "type": "path"
         },
         {
          "fillcolor": "#ecd5bb",
          "layer": "below",
          "line": {
           "color": "rgb(150,150,150)",
           "width": 0.45
          },
          "path": "M 1.0416844184563294, 0.35340284710978076 L 1.034067880038228, 0.37510481131711093 L 1.0259992685866952, 0.39664278747957454 L 1.0174821115313368, 0.4180073596406317 L 1.0085201323965955, 0.4391891876523759 L 0.9991172491739017, 0.4601790112588534 L 0.9892775726088106, 0.48096765414445464 L 0.9790054044038687, 0.501546027945609 L 0.9683052353379987, 0.5219051362240297 L 0.9571817433032243, 0.5420360783997691 L 0.9456397912595923, 0.5619300536423684 L 0.9336844251091878, 0.5815783647183977 L 0.9213208714901705, 0.6009724217937067 L 0.9085545354917965, 0.6201037461887212 L 0.8953909982914258, 0.6389639740851468 L 0.8818360147145466, 0.6575448601824564 L 0.8678955107188858, 0.6758382813025646 L 0.8535755808037028, 0.6938362399411131 L 0.8388824853454002, 0.7115308677638129 L 0.8238226478606182, 0.7289144290463181 L 0.8084026521980058, 0.7459793240561231 L 0.7926292396598981, 0.7627180923750085 L 0.7765093060551597, 0.7791234161605815 L 0.7600498986844796, 0.7951881233454838 L 0.7432582132594373, 0.8109051907728727 L 0.7261415907566877, 0.8262677472667969 L 0.7087075142086369, 0.8412690766361349 L 0.6909636054320171, 0.8559026206107724 L 0.6729176216957857, 0.8701619817087435 L 0.654577452329808, 0.8840409260330757 L 0.6359511152758065, 0.8975333859971215 L 0.6170467535820818, 0.9106334629771815 L 0.5978726318435424, 0.923335429891259 L 0.5784371325885935, 0.9356337337028235 L 0.558748752614471, 0.9475229978484812 L 0.5388160992726163, 0.9589980245884984 L 0.5186478867057224, 0.9700537972791449 L 0.4982529320380905, 0.9806854825658664 L 0.4776401515209657, 0.9908884324963275 L 0.4568185566345381, 1.0006581865524 L 0.43579725014830906, 1.009990473600208 L 0.41458542214155075, 1.0188812137573802 L 0.3931923459855925, 1.0273265201766897 L 0.3716273742896962, 1.035322700745302 L 0.33784306753608745, 0.9412024552230017 L 0.3574475872596295, 0.9339332001606269 L 0.37689583831050066, 0.9262556488703456 L 0.39617931831664455, 0.9181731578183708 L 0.4152895969404891, 0.9096892605021817 L 0.43421831956451423, 0.9008076659057522 L 0.4529572109437186, 0.8915322568780603 L 0.47149807882338396, 0.8818670884355861 L 0.48983281752056024, 0.8718163859895439 L 0.5079534114677009, 0.8613845434986191 L 0.5258519387169032, 0.8505761215480213 L 0.5435205744032203, 0.83939584535569 L 0.5609515941655289, 0.8278486027065286 L 0.5781373775234604, 0.815939441815565 L 0.5950704112089163, 0.8036735691209779 L 0.6117432924507142, 0.7910563470079486 L 0.6281487322109246, 0.7780932914643385 L 0.644279558371488, 0.7647900696692135 L 0.660128718869716, 0.7511524975152698 L 0.6756892847813066, 0.7371865370662478 L 0.6909544533495269, 0.7228982939504398 L 0.705917550959236, 0.7082940146914376 L 0.7205720360544527, 0.6933800839772805 L 0.734911501998187, 0.6781630218692027 L 0.7489296798732892, 0.6626494809511982 L 0.762620441223091, 0.6468462434216481 L 0.7759778007306388, 0.6307602181282845 L 0.7889959188353507, 0.614398437547786 L 0.8016691042859514, 0.597768054711324 L 0.8139918166285688, 0.5808763400774062 L 0.8259586686289059, 0.5637306783533829 L 0.8375644286274276, 0.5463385652670061 L 0.8488040228265343, 0.5287076042894524 L 0.8596725375087202, 0.5108455033112439 L 0.8701652211847493, 0.4927600712725173 L 0.8802774866709079, 0.47445921474911784 L 0.8900049130944261, 0.45595093449600815 L 0.8993432478261913, 0.43724332194950416 L 0.9082884083399105, 0.4183445556898667 L 0.9168364839969049, 0.3992628978657963 L 0.9249837377557607, 0.3800066905823924 L 0.9327266078060864, 0.36058435225415864 L 0.9400617091256617, 0.3410043739246463 L 0.9469858349602993, 0.32127531555434613 L 1.0416844184563294 ,0.35340284710978076",
          "type": "path"
         },
         {
          "fillcolor": "#e6c4a9",
          "layer": "below",
          "line": {
           "color": "rgb(150,150,150)",
           "width": 0.45
          },
          "path": "M 0.33892372669281473, 1.0464849294111476 L 0.31698004482229825, 1.0533392858829742 L 0.2948979114708331, 1.059733561707914 L 0.27268697173789747, 1.0656649639752709 L 0.2503569269834023, 1.0711309019496298 L 0.22791753059030115, 1.0761289882024456 L 0.20537858370448034, 1.0806570396548305 L 0.1827499309537838, 1.0847130785310866 L 0.1600414561480492, 1.0882953332225642 L 0.13726307796202644, 1.0914022390614704 L 0.11442474560307136, 1.0940324390042886 L 0.09153643446549982, 1.0961847842245136 L 0.06860814177350723, 1.0978583346144377 L 0.04564988221454957, 1.0990523591957746 L 0.022671683565100565, 1.0997663364389383 L -0.0003164176893121998, 1.099999954490838 L -0.023304380737871073, 1.0997531113110908 L -0.04628216483012535, 1.09902591471659 L -0.06923973366161797, 1.0978186823344138 L -0.09216705975757417, 1.0961319414630906 L -0.11505412885272968, 1.093966428842284 L -0.13789094426539306, 1.0913230903309974 L -0.1606675312638237, 1.08820308049444 L -0.1833739414230269, 1.0846077620997299 L -0.2060002569700543, 1.080538705520664 L -0.2285365951159199, 1.0759976880518016 L -0.2077605410144726, 0.9781797164107288 L -0.18727296088186754, 0.9823079141096943 L -0.16670358311184263, 0.9860070564542999 L -0.14606139205802152, 0.989275527722218 L -0.12535540387763003, 0.9921119003009067 L -0.10459466259339062, 0.9945149353111671 L -0.08378823614324923, 0.996483583148264 L -0.06294521241965269, 0.9980169839403761 L -0.04207469530011395, 0.9991144679241726 L -0.02118580067079188, 0.9997755557373552 L -0.00028765244482927254, 0.9999999586280346 L 0.020610621422818692, 0.999787578580853 L 0.04149989292231779, 0.999138508359795 L 0.06237103797591565, 0.9980530314676705 L 0.08321494042318164, 0.9965316220222851 L 0.10402249600279215, 0.9945749445493532 L 0.12478461632911494, 0.9921838536922457 L 0.1454922328618629, 0.9893593938386948 L 0.16613630086707618, 0.9861027986646241 L 0.1867078033677094, 0.9824154905953004 L 0.20719775508209193, 0.9782990801840414 L 0.22759720634854752, 0.9737553654087543 L 0.2478972470344522, 0.9687863308866098 L 0.2680890104280301, 0.9633941470071944 L 0.2881636771111802, 0.957581168984522 L 0.3081124788116497, 0.9513499358283158 L 0.33892372669281473 ,1.0464849294111476",
          "type": "path"
         },
         {
          "fillcolor": "#e1b396",
          "layer": "below",
          "line": {
           "color": "rgb(150,150,150)",
           "width": 0.45
          },
          "path": "M -0.26222173025002715, 1.0682882402164138 L -0.28472924914347314, 1.0625108256776465 L -0.30710970656811126, 1.0562592617968605 L -0.32935311516296084, 1.0495363383573022 L -0.35144954872558254, 1.0423450554881453 L -0.373389146641683, 1.0346886223256715 L -0.3951621182854495, 1.0265704555811825 L -0.416758747388653, 1.0179941780162798 L -0.4381693963765681, 1.0089636168261937 L -0.45938451066877534, 0.9994828019318842 L -0.48039462294292984, 0.989555964181673 L -0.5011903573595855, 0.9791875334632132 L -0.5217624337462007, 0.9683821367266343 L -0.5421016717384459, 0.9571445959197505 L -0.562198994876979, 0.9454799258362467 L -0.5820454346578441, 0.933393331877811 L -0.6016321345347017, 0.9208902077312033 L -0.620950353871095, 0.9079761329613032 L -0.6399914718409907, 0.8946568705212086 L -0.5818104289463552, 0.8133244277465532 L -0.5645003217009954, 0.8254328481466392 L -0.546938304122456, 0.8371729161192757 L -0.5291322133253128, 0.8485393926161918 L -0.5110899953427082, 0.8595272053056788 L -0.4928197015804054, 0.8701314508361367 L -0.47432948522381874, 0.8803473970242129 L -0.4556275975996231, 0.8901704849665574 L -0.43672238449357254, 0.8995963310742481 L -0.41762228242615934, 0.9086207290289856 L -0.39833581488778913, 0.917239651660176 L -0.378871588535139, 0.9254492527420725 L -0.35923828935040863, 0.9332458687101658 L -0.3394446787651663, 0.9406260202960649 L -0.31949958975052956, 0.947586414080132 L -0.2994119228754189, 0.9541239439611838 L -0.2791906423346466, 0.9602356925426004 L -0.25884477194861194, 0.965918932434224 L -0.23838339113638832, 0.971171127469467 L -0.26222173025002715 ,1.0682882402164138",
          "type": "path"
         },
         {
          "fillcolor": "#dba284",
          "layer": "below",
          "line": {
           "color": "rgb(150,150,150)",
           "width": 0.45
          },
          "path": "M -0.6677775261007243, 0.8741127934281689 L -0.688214963325557, 0.8581143072195 L -0.7082692522825652, 0.8416380850882974 L -0.7279292281955015, 0.8246932998022366 L -0.7471839458130735, 0.8072893849910366 L -0.6792581325573395, 0.7338994409009424 L -0.6617538438140923, 0.7497211816383968 L -0.6438811384386955, 0.7651255318984521 L -0.6256499666595972, 0.7801039156540909 L -0.6070704782733857, 0.794647994025608 L -0.6677775261007243 ,0.8741127934281689",
          "type": "path"
         },
         {
          "fillcolor": "#d59171",
          "layer": "below",
          "line": {
           "color": "rgb(150,150,150)",
           "width": 0.45
          },
          "path": "M -0.7721728280184039, 0.7834214215031783 L -0.8008615736292437, 0.7540694529578106 L -0.8284353463992947, 0.7236676563425235 L -0.8548557576621899, 0.6922583575456517 L -0.8800860244806897, 0.6598852851168716 L -0.8000782040733543, 0.5998957137426105 L -0.777141597874718, 0.629325779586956 L -0.753123042181177, 0.6578796875841122 L -0.7280559760265851, 0.6855176845071005 L -0.701975298198549, 0.7122012922756166 L -0.7721728280184039 ,0.7834214215031783",
          "type": "path"
         },
         {
          "fillcolor": "#d0805f",
          "layer": "below",
          "line": {
           "color": "rgb(150,150,150)",
           "width": 0.45
          },
          "path": "M -0.9003792528646531, 0.631915501480134 L -0.9146445835463155, 0.6110853342941451 L -0.9284281040097813, 0.5899332637551497 L -0.9417225534664102, 0.5684704322062005 L -0.954520928757042, 0.5467081456909108 L -0.9668164880410731, 0.5246578679977321 L -0.9786027543478771, 0.5023312146211388 L -0.9898735189886982, 0.47973994664289904 L -1.000622844827223, 0.4568959645366496 L -1.0108450694071043, 0.43381130189904776 L -1.0205348079347907, 0.4104981191107948 L -1.0296869561160913, 0.3869686969308743 L -0.9360790510146284, 0.351789724482613 L -0.927758916304355, 0.3731801082825407 L -0.9189500630973675, 0.3943739108173161 L -0.9096571316611117, 0.41535996776059053 L -0.8998850172624528, 0.4361272242208173 L -0.8896388675889791, 0.4566647405646716 L -0.8789240800373391, 0.47696169817975637 L -0.8677462988700381, 0.49700740517355524 L -0.856111412242191, 0.5167913020056368 L -0.8440255490998011, 0.536302967050136 L -0.8314950759511959, 0.5555321220855864 L -0.818526593513321, 0.5744686377092126 L -0.9003792528646531 ,0.631915501480134",
          "type": "path"
         },
         {
          "fillcolor": "#ca6f4c",
          "layer": "below",
          "line": {
           "color": "rgb(150,150,150)",
           "width": 0.45
          },
          "path": "M -1.0413338482711272, 0.3544345023341338 L -1.0465758710349022, 0.33864280025941207 L -1.051578429751547, 0.32277361428913487 L -1.0563403797998354, 0.3068305754065909 L -1.060860631611527, 0.2908173314931422 L -0.964418756010479, 0.2643793922664929 L -0.9603094361816685, 0.27893688673326444 L -0.9559803906832244, 0.29343055844466803 L -0.9514326100317292, 0.30785709114492005 L -0.9466671347919338, 0.3222131839401216 L -1.0413338482711272 ,0.3544345023341338",
          "type": "path"
         },
         {
          "fillcolor": "#c45e3a",
          "layer": "below",
          "line": {
           "color": "rgb(150,150,150)",
           "width": 0.45
          },
          "path": "M -1.06947195406473, 0.2573513929804308 L -1.0748537825266462, 0.23385753395638367 L -1.079719569699566, 0.2102513990626079 L -1.0840669795010145, 0.18654432169205118 L -1.0878939247234154, 0.16274768370051898 L -0.9889944770212866, 0.14795243972774452 L -0.985515435910013, 0.1695857469927738 L -0.9815632451814237, 0.1911376355114617 L -0.9771398022969511, 0.21259775814216697 L -0.9722472309679363, 0.2339558118003916 L -1.06947195406473 ,0.2573513929804308",
          "type": "path"
         },
         {
          "fillcolor": "#bf4d28",
          "layer": "below",
          "line": {
           "color": "rgb(150,150,150)",
           "width": 0.45
          },
          "path": "M -1.0924691430263174, 0.12849580357094934 L -1.0971741783985476, 0.07879608020372963 L -1.099619397791857, 0.028934062968656964 L -1.099799764862914, -0.020987548867819495 L -1.097714908115199, -0.07086593329407778 L -0.9979226437410899, -0.06442357572188889 L -0.9998179680571946, -0.019079589879835903 L -0.9996539979925971, 0.026303693607869966 L -0.9974310712714067, 0.07163280018520875 L -0.9931537663875611, 0.1168143668826812 L -1.0924691430263174 ,0.12849580357094934",
          "type": "path"
         },
         {
          "fillcolor": "#af4624",
          "layer": "below",
          "line": {
           "color": "rgb(150,150,150)",
           "width": 0.45
          },
          "path": "M -1.0949472993148606, -0.10531102374914712 L -1.088623403801717, -0.1577944380995847 L -1.0797853276464788, -0.20991342548628603 L -1.0684534824257341, -0.2615476168737185 L -1.054654039086933, -0.3125777628648882 L -0.958776399169939, -0.2841616026044438 L -0.9713213476597583, -0.23777056079428957 L -0.9816230251331625, -0.19083038680571454 L -0.9896576398197428, -0.14344948918144063 L -0.9954066357407823, -0.09573729431740646 L -1.0949472993148606 ,-0.10531102374914712",
          "type": "path"
         },
         {
          "fillcolor": "#9f4021",
          "layer": "below",
          "line": {
           "color": "rgb(150,150,150)",
           "width": 0.45
          },
          "path": "M -1.044315326181077, -0.345551008540434 L -1.032230538757097, -0.38013170725057066 L -1.0190010274483214, -0.41429084718258663 L -1.0046414635292489, -0.44799054650495584 L -0.9891677714810644, -0.48119343289698474 L -0.8992434286191494, -0.4374485753608952 L -0.9133104213902262, -0.4072641331863235 L -0.9263645704075649, -0.3766280428932605 L -0.938391398870088, -0.34557427931870055 L -0.9493775692555244, -0.3141372804913036 L -1.044315326181077 ,-0.345551008540434",
          "type": "path"
         },
         {
          "fillcolor": "#8f391e",
          "layer": "below",
          "line": {
           "color": "rgb(150,150,150)",
           "width": 0.45
          },
          "path": "M -0.97356502590697, -0.5120265035432843 L -0.9619566127156586, -0.5335161433851994 L -0.9498739311616178, -0.5547427465948288 L -0.937322938305199, -0.5756958479326634 L -0.9243098220957903, -0.5963651170023684 L -0.9108409983210036, -0.6167403633439259 L -0.8969231074435318, -0.6368115414577841 L -0.8825630113272385, -0.6565687557575345 L -0.8677677898540895, -0.676002265448681 L -0.8525447374335945, -0.695102489331094 L -0.8369013594064855, -0.7138600105227754 L -0.8208453683443958, -0.732265581102617 L -0.8043846802473745, -0.750310126669852 L -0.7875274106411014, -0.7679847508179587 L -0.7702818705757322, -0.7852807395208106 L -0.7526565625283466, -0.8021895654289037 L -0.7346601762110169, -0.8187028920735518 L -0.7163015842865643, -0.8348125779769722 L -0.6511832584423312, -0.758920525433611 L -0.6678728874645607, -0.7442753564305016 L -0.6842332386621331, -0.7292632412990033 L -0.7002562459779382, -0.713891581382555 L -0.7159340096737286, -0.6981679552890533 L -0.7312588002248859, -0.6821001151544108 L -0.7462230621312689, -0.6656959828205609 L -0.7608194176422595, -0.6489636459297957 L -0.7750406703941768, -0.6319113539373581 L -0.7888798089582632, -0.6145475140442554 L -0.8023300102974894, -0.596880687052304 L -0.8153846431304833, -0.57891958314344 L -0.8280372712009123, -0.5606730575853871 L -0.8402816564507184, -0.5421501063657894 L -0.8521117620956353, -0.5233598617569667 L -0.8635217556014706, -0.5043115878134807 L -0.8745060115596895, -0.4850146758047267 L -0.8850591144608818, -0.46547863958480384 L -0.97356502590697 ,-0.5120265035432843",
          "type": "path"
         },
         {
          "fillcolor": "#f0f3e7",
          "layer": "below",
          "line": {
           "color": "rgb(150,150,150)",
           "width": 0.45
          },
          "path": "M -0.6897260359325623, -0.8569002248551193 L -0.6715296530974746, -0.8712335651309502 L -0.6530354923744423, -0.8851805723688643 L -0.6342517546702946, -0.898735062016417 L -0.6151867692996295, -0.9118910235761095 L -0.5958489902913198, -0.9246426232706424 L -0.5762469926397313, -0.9369842066297945 L -0.5563894685022873, -0.9489103009978036 L -0.5362852233450923, -0.9604156179601123 L -0.5159431720382984, -0.9714950556884265 L -0.4953723349029697, -0.9821437012030266 L -0.4745818337111798, -0.992356832551343 L -0.45358088764112026, -1.0021299209018228 L -0.43237880918902727, -1.0114586325521568 L -0.41098500003971267, -1.0203388308509862 L -0.3894089468975617, -1.0287665780322242 L -0.367660217279815, -1.03673813696119 L -0.34574845527403075, -1.0442499727917745 L -0.3236833772615777, -1.0512987545339048 L -0.30147476760908537, -1.0578813565306122 L -0.27913247432973787, -1.0639948598440494 L -0.25666640471634444, -1.0696365535498429 L -0.2340865209481332, -1.0748039359392016 L -0.21140283567319237, -1.079494715628258 L -0.18862540756854712, -1.0837068125741387 L -0.16576433687981013, -1.087438358997326 L -0.15069485170891828, -0.9885803263612053 L -0.17147764324413373, -0.9851880114310352 L -0.1921843960665385, -0.9813588323893253 L -0.21280592813466653, -0.977094487217456 L -0.23333309519667675, -0.9723968668634935 L -0.25375679484521624, -0.9672680544036812 L -0.27406797055371396, -0.9617103241187382 L -0.2942576156923433, -0.9557261404853679 L -0.3143167775218461, -0.9493181570834313 L -0.33423656116346817, -0.9424892154192637 L -0.3540081335432379, -0.9352423436656582 L -0.37362272730882967, -0.9275807553190784 L -0.3930716447172975, -0.919507847774688 L -0.4123462614919275, -0.9110272008198388 L -0.431438030646527, -0.9021425750466754 L -0.450338486275427, -0.8928579101845696 L -0.469039247307544, -0.8831773233531149 L -0.4875320212228112, -0.8731051072364657 L -0.5058086077293521, -0.8626457281798214 L -0.5238609023997557, -0.8518038242089041 L -0.5416809002648361, -0.8405842029733112 L -0.5592606993632995, -0.828991839614645 L -0.5765925042457223, -0.817031874560379 L -0.593668629431311, -0.804709611244422 L -0.610481502815886, -0.7920305137554092 L -0.627023669029602, -0.7790002044137447 L -0.6897260359325623 ,-0.8569002248551193",
          "type": "path"
         },
         {
          "fillcolor": "#e2ecde",
          "layer": "below",
          "line": {
           "color": "rgb(150,150,150)",
           "width": 0.45
          },
          "path": "M -0.13152527787926538, -1.0921085574606502 L -0.11580374741483287, -1.0938873306171353 L -0.100058258920438, -1.095439795160743 L -0.08429206989761534, -1.0967656299102264 L -0.06850844213052609, -1.0978645605705872 L -0.0622804019368419, -0.9980586914278065 L -0.07662915445237757, -0.9970596635547512 L -0.09096205356403454, -0.9958543592370391 L -0.10527613401348443, -0.9944430278337593 L -0.1195684344356958, -0.9928259613278637 L -0.13152527787926538 ,-1.0921085574606502",
          "type": "path"
         },
         {
          "fillcolor": "#d4e5d6",
          "layer": "below",
          "line": {
           "color": "rgb(150,150,150)",
           "width": 0.45
          },
          "path": "M -0.033989878137399204, -1.0994747328539227 L -0.011178891536949767, -1.0999431950714569 L 0.011636904394170502, -1.0999384448486749 L 0.03444769395045992, -1.0994604842291948 L 0.05724366358023901, -1.0985095188390097 L 0.08001500610758516, -1.097085957798022 L 0.10275192495153403, -1.0951904135440351 L 0.1254446383407172, -1.0928237015692728 L 0.14808338352163403, -1.0899868400695418 L 0.1706584209587323, -1.086681049506189 L 0.19316003852450966, -1.0829077520810395 L 0.21557855567781908, -1.078668571124544 L 0.23790432762858496, -1.0739653303973975 L 0.26012774948714396, -1.0688000533059276 L 0.28223926039641, -1.0631749620315971 L 0.3042293476451054, -1.0570924765749843 L 0.3260885507602736, -1.0505552137146645 L 0.34780746557732345, -1.043565985881429 L 0.36937674828583933, -1.0361277999483365 L 0.3907871194494357, -1.0282438559371083 L 0.41202936799791207, -1.0199175456414313 L 0.4330943551899958, -1.0111524511677563 L 0.45397301854497213, -1.0019523433942188 L 0.4746563757414977, -0.9923211803483519 L 0.49513552848193615, -0.9822631055042809 L 0.5154016663205413, -0.9717824460001372 L 0.5354460704538456, -0.9608837107764578 L 0.5552601174716264, -0.9495715886363679 L 0.5748352830668243, -0.9378509462283888 L 0.594163145702834, -0.9257268259527283 L 0.6132353902365782, -0.9132044437919647 L 0.6320438114958085, -0.9002891870670509 L 0.6505803178090994, -0.8869866121196032 L 0.5914366525537267, -0.8063514655632755 L 0.5745852831780076, -0.8184447155155007 L 0.5574867183968892, -0.8301858579926952 L 0.5401483142753036, -0.8415698417752074 L 0.5225775300607494, -0.8525917692985352 L 0.5047819249742058, -0.8632468987603344 L 0.48676915495804146, -0.8735306461604162 L 0.4685469693823103, -0.883438587272852 L 0.450123207710851, -0.8929664595493462 L 0.43150579612863427, -0.9021101639530471 L 0.4127027441317928, -0.910865766722017 L 0.3937221410818143, -0.9192295010615966 L 0.3745721527253746, -0.9271977687649375 L 0.3552610176813052, -0.9347671417610074 L 0.33579704389621756, -0.9419343635893966 L 0.316188605070294, -0.9486963508012991 L 0.29644413705479417, -0.9550501942860586 L 0.27657213422282306, -0.960993160522713 L 0.25658114581491814, -0.9665226927559972 L 0.23647977226103994, -0.9716364120962978 L 0.21627666148053176, -0.9763321185430885 L 0.1959805051616537, -0.9806077919314037 L 0.1756000350222815, -0.9844615928009449 L 0.15514401905339298, -0.9878918631874445 L 0.13462125774694, -0.990897127335947 L 0.1140405803097429, -0.9934760923357024 L 0.09341084086503093, -0.9956276486763954 L 0.07274091464325923, -0.9973508707254745 L 0.05203969416385364, -0.9986450171263723 L 0.03131608540950902, -0.9995095311174498 L 0.010579003994700456, -0.9999440407715224 L -0.010162628669954333, -0.9999483591558699 L -0.030899889215817454, -0.999522484412657 L -0.033989878137399204 ,-1.0994747328539227",
          "type": "path"
         },
         {
          "fillcolor": "#c6decd",
          "layer": "below",
          "line": {
           "color": "rgb(150,150,150)",
           "width": 0.45
          },
          "path": "M 0.6781202184738314, -0.8661137161464443 L 0.6964054218296601, -0.8514807622291025 L 0.7143749566929342, -0.8364618468585214 L 0.7320206777853353, -0.8210637778484071 L 0.7493345866077111, -0.8052935348762282 L 0.7663088350656498, -0.7891582663194543 L 0.7829357290268913, -0.7726652860153161 L 0.7992077318089403, -0.755822069945572 L 0.8151174675953127, -0.7386362528477767 L 0.8306577247788695, -0.7211156247545827 L 0.8458214592307078, -0.7032681274626601 L 0.8606017974931471, -0.6851018509328115 L 0.8749920398953462, -0.6666250296229366 L 0.8889856635901459, -0.6478460387554965 L 0.9025763255107664, -0.6287733905211663 L 0.9157578652460056, -0.609415730220413 L 0.928524307832649, -0.5897818323447238 L 0.9408698664638174, -0.5698805965992862 L 0.9527889451120222, -0.5497210438689064 L 0.9642761410657522, -0.5293123121289941 L 0.9753262473784254, -0.508663652303483 L 0.8866602248894776, -0.4624215020940754 L 0.8766146736961383, -0.4811930110263582 L 0.8661717682836565, -0.49974640351718763 L 0.855336242239834, -0.5180732696357148 L 0.84411300712059, -0.5361653021315671 L 0.8325071502236413, -0.5540143002003753 L 0.8205239322825149, -0.5716121732010603 L 0.8081687850819507, -0.5889509443231786 L 0.7954473089957692, -0.6060227542026696 L 0.7823652704483155, -0.6228198644843741 L 0.7689285993006434, -0.639334661329691 L 0.7551433861626086, -0.6555596588678024 L 0.7410158796321024, -0.6714875025888878 L 0.726552483462673, -0.6871109726777926 L 0.7117597536608102, -0.702422987286651 L 0.6966443955142271, -0.7174166057449584 L 0.6812132605524646, -0.732085031705662 L 0.6654733434412139, -0.7464216162258246 L 0.6494317788117583, -0.760419860780474 L 0.6330958380269637, -0.774073420208275 L 0.6164729258853012, -0.7873761055876766 L 0.6781202184738314 ,-0.8661137161464443",
          "type": "path"
         },
         {
          "fillcolor": "#b8d7c5",
          "layer": "below",
          "line": {
           "color": "rgb(150,150,150)",
           "width": 0.45
          },
          "path": "M 0.990822494185932, -0.47777691971794617 L 1.006731132392093, -0.4432746632422543 L 1.0214387732453958, -0.4082435945742948 L 1.0349278710107734, -0.37272550463458787 L 1.0471823336352561, -0.33676276534412075 L 0.9519839396684145, -0.3061479684946552 L 0.940843519100703, -0.3388413678496253 L 0.9285807029503597, -0.37113054052208616 L 0.9152101203564482, -0.4029769665838675 L 0.9007477219872109, -0.43434265428904195 L 0.990822494185932 ,-0.47777691971794617",
          "type": "path"
         },
         {
          "fillcolor": "#aad0bc",
          "layer": "below",
          "line": {
           "color": "rgb(150,150,150)",
           "width": 0.45
          },
          "path": "M 1.057243586456243, -0.3037038012556651 L 1.0668095610225576, -0.2681741234922897 L 1.0751818851294326, -0.2323443863955402 L 1.0823511910050716, -0.19625467976561317 L 1.088309456931668, -0.15994538428194086 L 0.9893722335742436, -0.1454048948017644 L 0.9839556281864286, -0.17841334524146651 L 0.9774380773903931, -0.21122216945049108 L 0.9698268736568706, -0.24379465772026335 L 0.9611305331420391, -0.27609436477787735 L 1.057243586456243 ,-0.3037038012556651",
          "type": "path"
         },
         {
          "fillcolor": "#9cc9b4",
          "layer": "below",
          "line": {
           "color": "rgb(150,150,150)",
           "width": 0.45
          },
          "path": "M 1.0927964478426075, -0.1256818347358888 L 1.095171234463739, -0.10295614213426206 L 1.097073471246305, -0.08018602551307116 L 1.0985023374038787, -0.05738130983356045 L 1.0994572164023046, -0.03455183498594511 L 0.9995065603657315, -0.031410759078131914 L 0.9986384885489806, -0.05216482712141859 L 0.9973395193148227, -0.07289638683006469 L 0.9956102131488535, -0.09359649284932914 L 0.9934513162205523, -0.11425621339626252 L 1.0927964478426075 ,-0.1256818347358888",
          "type": "path"
         }
        ],
        "showlegend": false,
        "template": {
         "data": {
          "bar": [
           {
            "error_x": {
             "color": "#2a3f5f"
            },
            "error_y": {
             "color": "#2a3f5f"
            },
            "marker": {
             "line": {
              "color": "#E5ECF6",
              "width": 0.5
             }
            },
            "type": "bar"
           }
          ],
          "barpolar": [
           {
            "marker": {
             "line": {
              "color": "#E5ECF6",
              "width": 0.5
             }
            },
            "type": "barpolar"
           }
          ],
          "carpet": [
           {
            "aaxis": {
             "endlinecolor": "#2a3f5f",
             "gridcolor": "white",
             "linecolor": "white",
             "minorgridcolor": "white",
             "startlinecolor": "#2a3f5f"
            },
            "baxis": {
             "endlinecolor": "#2a3f5f",
             "gridcolor": "white",
             "linecolor": "white",
             "minorgridcolor": "white",
             "startlinecolor": "#2a3f5f"
            },
            "type": "carpet"
           }
          ],
          "choropleth": [
           {
            "colorbar": {
             "outlinewidth": 0,
             "ticks": ""
            },
            "type": "choropleth"
           }
          ],
          "contour": [
           {
            "colorbar": {
             "outlinewidth": 0,
             "ticks": ""
            },
            "colorscale": [
             [
              0,
              "#0d0887"
             ],
             [
              0.1111111111111111,
              "#46039f"
             ],
             [
              0.2222222222222222,
              "#7201a8"
             ],
             [
              0.3333333333333333,
              "#9c179e"
             ],
             [
              0.4444444444444444,
              "#bd3786"
             ],
             [
              0.5555555555555556,
              "#d8576b"
             ],
             [
              0.6666666666666666,
              "#ed7953"
             ],
             [
              0.7777777777777778,
              "#fb9f3a"
             ],
             [
              0.8888888888888888,
              "#fdca26"
             ],
             [
              1,
              "#f0f921"
             ]
            ],
            "type": "contour"
           }
          ],
          "contourcarpet": [
           {
            "colorbar": {
             "outlinewidth": 0,
             "ticks": ""
            },
            "type": "contourcarpet"
           }
          ],
          "heatmap": [
           {
            "colorbar": {
             "outlinewidth": 0,
             "ticks": ""
            },
            "colorscale": [
             [
              0,
              "#0d0887"
             ],
             [
              0.1111111111111111,
              "#46039f"
             ],
             [
              0.2222222222222222,
              "#7201a8"
             ],
             [
              0.3333333333333333,
              "#9c179e"
             ],
             [
              0.4444444444444444,
              "#bd3786"
             ],
             [
              0.5555555555555556,
              "#d8576b"
             ],
             [
              0.6666666666666666,
              "#ed7953"
             ],
             [
              0.7777777777777778,
              "#fb9f3a"
             ],
             [
              0.8888888888888888,
              "#fdca26"
             ],
             [
              1,
              "#f0f921"
             ]
            ],
            "type": "heatmap"
           }
          ],
          "heatmapgl": [
           {
            "colorbar": {
             "outlinewidth": 0,
             "ticks": ""
            },
            "colorscale": [
             [
              0,
              "#0d0887"
             ],
             [
              0.1111111111111111,
              "#46039f"
             ],
             [
              0.2222222222222222,
              "#7201a8"
             ],
             [
              0.3333333333333333,
              "#9c179e"
             ],
             [
              0.4444444444444444,
              "#bd3786"
             ],
             [
              0.5555555555555556,
              "#d8576b"
             ],
             [
              0.6666666666666666,
              "#ed7953"
             ],
             [
              0.7777777777777778,
              "#fb9f3a"
             ],
             [
              0.8888888888888888,
              "#fdca26"
             ],
             [
              1,
              "#f0f921"
             ]
            ],
            "type": "heatmapgl"
           }
          ],
          "histogram": [
           {
            "marker": {
             "colorbar": {
              "outlinewidth": 0,
              "ticks": ""
             }
            },
            "type": "histogram"
           }
          ],
          "histogram2d": [
           {
            "colorbar": {
             "outlinewidth": 0,
             "ticks": ""
            },
            "colorscale": [
             [
              0,
              "#0d0887"
             ],
             [
              0.1111111111111111,
              "#46039f"
             ],
             [
              0.2222222222222222,
              "#7201a8"
             ],
             [
              0.3333333333333333,
              "#9c179e"
             ],
             [
              0.4444444444444444,
              "#bd3786"
             ],
             [
              0.5555555555555556,
              "#d8576b"
             ],
             [
              0.6666666666666666,
              "#ed7953"
             ],
             [
              0.7777777777777778,
              "#fb9f3a"
             ],
             [
              0.8888888888888888,
              "#fdca26"
             ],
             [
              1,
              "#f0f921"
             ]
            ],
            "type": "histogram2d"
           }
          ],
          "histogram2dcontour": [
           {
            "colorbar": {
             "outlinewidth": 0,
             "ticks": ""
            },
            "colorscale": [
             [
              0,
              "#0d0887"
             ],
             [
              0.1111111111111111,
              "#46039f"
             ],
             [
              0.2222222222222222,
              "#7201a8"
             ],
             [
              0.3333333333333333,
              "#9c179e"
             ],
             [
              0.4444444444444444,
              "#bd3786"
             ],
             [
              0.5555555555555556,
              "#d8576b"
             ],
             [
              0.6666666666666666,
              "#ed7953"
             ],
             [
              0.7777777777777778,
              "#fb9f3a"
             ],
             [
              0.8888888888888888,
              "#fdca26"
             ],
             [
              1,
              "#f0f921"
             ]
            ],
            "type": "histogram2dcontour"
           }
          ],
          "mesh3d": [
           {
            "colorbar": {
             "outlinewidth": 0,
             "ticks": ""
            },
            "type": "mesh3d"
           }
          ],
          "parcoords": [
           {
            "line": {
             "colorbar": {
              "outlinewidth": 0,
              "ticks": ""
             }
            },
            "type": "parcoords"
           }
          ],
          "pie": [
           {
            "automargin": true,
            "type": "pie"
           }
          ],
          "scatter": [
           {
            "marker": {
             "colorbar": {
              "outlinewidth": 0,
              "ticks": ""
             }
            },
            "type": "scatter"
           }
          ],
          "scatter3d": [
           {
            "line": {
             "colorbar": {
              "outlinewidth": 0,
              "ticks": ""
             }
            },
            "marker": {
             "colorbar": {
              "outlinewidth": 0,
              "ticks": ""
             }
            },
            "type": "scatter3d"
           }
          ],
          "scattercarpet": [
           {
            "marker": {
             "colorbar": {
              "outlinewidth": 0,
              "ticks": ""
             }
            },
            "type": "scattercarpet"
           }
          ],
          "scattergeo": [
           {
            "marker": {
             "colorbar": {
              "outlinewidth": 0,
              "ticks": ""
             }
            },
            "type": "scattergeo"
           }
          ],
          "scattergl": [
           {
            "marker": {
             "colorbar": {
              "outlinewidth": 0,
              "ticks": ""
             }
            },
            "type": "scattergl"
           }
          ],
          "scattermapbox": [
           {
            "marker": {
             "colorbar": {
              "outlinewidth": 0,
              "ticks": ""
             }
            },
            "type": "scattermapbox"
           }
          ],
          "scatterpolar": [
           {
            "marker": {
             "colorbar": {
              "outlinewidth": 0,
              "ticks": ""
             }
            },
            "type": "scatterpolar"
           }
          ],
          "scatterpolargl": [
           {
            "marker": {
             "colorbar": {
              "outlinewidth": 0,
              "ticks": ""
             }
            },
            "type": "scatterpolargl"
           }
          ],
          "scatterternary": [
           {
            "marker": {
             "colorbar": {
              "outlinewidth": 0,
              "ticks": ""
             }
            },
            "type": "scatterternary"
           }
          ],
          "surface": [
           {
            "colorbar": {
             "outlinewidth": 0,
             "ticks": ""
            },
            "colorscale": [
             [
              0,
              "#0d0887"
             ],
             [
              0.1111111111111111,
              "#46039f"
             ],
             [
              0.2222222222222222,
              "#7201a8"
             ],
             [
              0.3333333333333333,
              "#9c179e"
             ],
             [
              0.4444444444444444,
              "#bd3786"
             ],
             [
              0.5555555555555556,
              "#d8576b"
             ],
             [
              0.6666666666666666,
              "#ed7953"
             ],
             [
              0.7777777777777778,
              "#fb9f3a"
             ],
             [
              0.8888888888888888,
              "#fdca26"
             ],
             [
              1,
              "#f0f921"
             ]
            ],
            "type": "surface"
           }
          ],
          "table": [
           {
            "cells": {
             "fill": {
              "color": "#EBF0F8"
             },
             "line": {
              "color": "white"
             }
            },
            "header": {
             "fill": {
              "color": "#C8D4E3"
             },
             "line": {
              "color": "white"
             }
            },
            "type": "table"
           }
          ]
         },
         "layout": {
          "annotationdefaults": {
           "arrowcolor": "#2a3f5f",
           "arrowhead": 0,
           "arrowwidth": 1
          },
          "coloraxis": {
           "colorbar": {
            "outlinewidth": 0,
            "ticks": ""
           }
          },
          "colorscale": {
           "diverging": [
            [
             0,
             "#8e0152"
            ],
            [
             0.1,
             "#c51b7d"
            ],
            [
             0.2,
             "#de77ae"
            ],
            [
             0.3,
             "#f1b6da"
            ],
            [
             0.4,
             "#fde0ef"
            ],
            [
             0.5,
             "#f7f7f7"
            ],
            [
             0.6,
             "#e6f5d0"
            ],
            [
             0.7,
             "#b8e186"
            ],
            [
             0.8,
             "#7fbc41"
            ],
            [
             0.9,
             "#4d9221"
            ],
            [
             1,
             "#276419"
            ]
           ],
           "sequential": [
            [
             0,
             "#0d0887"
            ],
            [
             0.1111111111111111,
             "#46039f"
            ],
            [
             0.2222222222222222,
             "#7201a8"
            ],
            [
             0.3333333333333333,
             "#9c179e"
            ],
            [
             0.4444444444444444,
             "#bd3786"
            ],
            [
             0.5555555555555556,
             "#d8576b"
            ],
            [
             0.6666666666666666,
             "#ed7953"
            ],
            [
             0.7777777777777778,
             "#fb9f3a"
            ],
            [
             0.8888888888888888,
             "#fdca26"
            ],
            [
             1,
             "#f0f921"
            ]
           ],
           "sequentialminus": [
            [
             0,
             "#0d0887"
            ],
            [
             0.1111111111111111,
             "#46039f"
            ],
            [
             0.2222222222222222,
             "#7201a8"
            ],
            [
             0.3333333333333333,
             "#9c179e"
            ],
            [
             0.4444444444444444,
             "#bd3786"
            ],
            [
             0.5555555555555556,
             "#d8576b"
            ],
            [
             0.6666666666666666,
             "#ed7953"
            ],
            [
             0.7777777777777778,
             "#fb9f3a"
            ],
            [
             0.8888888888888888,
             "#fdca26"
            ],
            [
             1,
             "#f0f921"
            ]
           ]
          },
          "colorway": [
           "#636efa",
           "#EF553B",
           "#00cc96",
           "#ab63fa",
           "#FFA15A",
           "#19d3f3",
           "#FF6692",
           "#B6E880",
           "#FF97FF",
           "#FECB52"
          ],
          "font": {
           "color": "#2a3f5f"
          },
          "geo": {
           "bgcolor": "white",
           "lakecolor": "white",
           "landcolor": "#E5ECF6",
           "showlakes": true,
           "showland": true,
           "subunitcolor": "white"
          },
          "hoverlabel": {
           "align": "left"
          },
          "hovermode": "closest",
          "mapbox": {
           "style": "light"
          },
          "paper_bgcolor": "white",
          "plot_bgcolor": "#E5ECF6",
          "polar": {
           "angularaxis": {
            "gridcolor": "white",
            "linecolor": "white",
            "ticks": ""
           },
           "bgcolor": "#E5ECF6",
           "radialaxis": {
            "gridcolor": "white",
            "linecolor": "white",
            "ticks": ""
           }
          },
          "scene": {
           "xaxis": {
            "backgroundcolor": "#E5ECF6",
            "gridcolor": "white",
            "gridwidth": 2,
            "linecolor": "white",
            "showbackground": true,
            "ticks": "",
            "zerolinecolor": "white"
           },
           "yaxis": {
            "backgroundcolor": "#E5ECF6",
            "gridcolor": "white",
            "gridwidth": 2,
            "linecolor": "white",
            "showbackground": true,
            "ticks": "",
            "zerolinecolor": "white"
           },
           "zaxis": {
            "backgroundcolor": "#E5ECF6",
            "gridcolor": "white",
            "gridwidth": 2,
            "linecolor": "white",
            "showbackground": true,
            "ticks": "",
            "zerolinecolor": "white"
           }
          },
          "shapedefaults": {
           "line": {
            "color": "#2a3f5f"
           }
          },
          "ternary": {
           "aaxis": {
            "gridcolor": "white",
            "linecolor": "white",
            "ticks": ""
           },
           "baxis": {
            "gridcolor": "white",
            "linecolor": "white",
            "ticks": ""
           },
           "bgcolor": "#E5ECF6",
           "caxis": {
            "gridcolor": "white",
            "linecolor": "white",
            "ticks": ""
           }
          },
          "title": {
           "x": 0.05
          },
          "xaxis": {
           "automargin": true,
           "gridcolor": "white",
           "linecolor": "white",
           "ticks": "",
           "title": {
            "standoff": 15
           },
           "zerolinecolor": "white",
           "zerolinewidth": 2
          },
          "yaxis": {
           "automargin": true,
           "gridcolor": "white",
           "linecolor": "white",
           "ticks": "",
           "title": {
            "standoff": 15
           },
           "zerolinecolor": "white",
           "zerolinewidth": 2
          }
         }
        },
        "title": {
         "font": {
          "color": "#655643",
          "family": "Merryweather",
          "size": 18
         },
         "text": "Data Jobs ‒ Technologies in Demand and Relationships Between Them"
        },
        "width": 960,
        "xaxis": {
         "showgrid": false,
         "showline": false,
         "showticklabels": false,
         "title": {
          "text": ""
         },
         "zeroline": false
        },
        "yaxis": {
         "showgrid": false,
         "showline": false,
         "showticklabels": false,
         "title": {
          "text": ""
         },
         "zeroline": false
        }
       }
      },
      "text/html": [
       "<div>\n",
       "        \n",
       "        \n",
       "            <div id=\"cc0320ea-f2d7-4c78-ab36-01ad88746c77\" class=\"plotly-graph-div\" style=\"height:525px; width:960px;\"></div>\n",
       "            <script type=\"text/javascript\">\n",
       "                require([\"plotly\"], function(Plotly) {\n",
       "                    window.PLOTLYENV=window.PLOTLYENV || {};\n",
       "                    \n",
       "                if (document.getElementById(\"cc0320ea-f2d7-4c78-ab36-01ad88746c77\")) {\n",
       "                    Plotly.newPlot(\n",
       "                        'cc0320ea-f2d7-4c78-ab36-01ad88746c77',\n",
       "                        [{\"hoverinfo\": \"text\", \"line\": {\"color\": \"#f2e6ce\", \"shape\": \"spline\", \"width\": 0.25}, \"mode\": \"lines\", \"text\": \"Power BI<br>1651\", \"type\": \"scatter\", \"x\": [1.1, 1.0997155261803073, 1.0988622518582367, 1.0974406183687073, 1.0954513610162813, 1.0928955086948444, 1.0897743833554379, 1.0860895993225104, 1.0818430624589508, 1.077036969180326, 1.0716738053188415, 1.0657563448376046, 1.0592876483958629, 1.052271061765953], \"y\": [0.0, 0.02501522492343125, 0.050017511343981705, 0.07499392745088934, 0.09993155481416842, 0.12481749506634601, 0.14963887657382177, 0.1743828610944003, 0.19903665041755256, 0.22358749298397182, 0.2480226904810008, 0.2723296044105178, 0.2964956626258856, 0.3205083658345816]}, {\"hoverinfo\": \"text\", \"line\": {\"color\": \"#ecd5bb\", \"shape\": \"spline\", \"width\": 0.25}, \"mode\": \"lines\", \"text\": \"Excel<br>4697\", \"type\": \"scatter\", \"x\": [1.0416844184563294, 1.034067880038228, 1.0259992685866952, 1.0174821115313368, 1.0085201323965955, 0.9991172491739017, 0.9892775726088106, 0.9790054044038687, 0.9683052353379987, 0.9571817433032243, 0.9456397912595923, 0.9336844251091878, 0.9213208714901705, 0.9085545354917965, 0.8953909982914258, 0.8818360147145466, 0.8678955107188858, 0.8535755808037028, 0.8388824853454002, 0.8238226478606182, 0.8084026521980058, 0.7926292396598981, 0.7765093060551597, 0.7600498986844796, 0.7432582132594373, 0.7261415907566877, 0.7087075142086369, 0.6909636054320171, 0.6729176216957857, 0.654577452329808, 0.6359511152758065, 0.6170467535820818, 0.5978726318435424, 0.5784371325885935, 0.558748752614471, 0.5388160992726163, 0.5186478867057224, 0.4982529320380905, 0.4776401515209657, 0.4568185566345381, 0.43579725014830906, 0.41458542214155075, 0.3931923459855925, 0.3716273742896962], \"y\": [0.35340284710978076, 0.37510481131711093, 0.39664278747957454, 0.4180073596406317, 0.4391891876523759, 0.4601790112588534, 0.48096765414445464, 0.501546027945609, 0.5219051362240297, 0.5420360783997691, 0.5619300536423684, 0.5815783647183977, 0.6009724217937067, 0.6201037461887212, 0.6389639740851468, 0.6575448601824564, 0.6758382813025646, 0.6938362399411131, 0.7115308677638129, 0.7289144290463181, 0.7459793240561231, 0.7627180923750085, 0.7791234161605815, 0.7951881233454838, 0.8109051907728727, 0.8262677472667969, 0.8412690766361349, 0.8559026206107724, 0.8701619817087435, 0.8840409260330757, 0.8975333859971215, 0.9106334629771815, 0.923335429891259, 0.9356337337028235, 0.9475229978484812, 0.9589980245884984, 0.9700537972791449, 0.9806854825658664, 0.9908884324963275, 1.0006581865524, 1.009990473600208, 1.0188812137573802, 1.0273265201766897, 1.035322700745302]}, {\"hoverinfo\": \"text\", \"line\": {\"color\": \"#e6c4a9\", \"shape\": \"spline\", \"width\": 0.25}, \"mode\": \"lines\", \"text\": \"SSIS/SSRS<br>2796\", \"type\": \"scatter\", \"x\": [0.33892372669281473, 0.31698004482229825, 0.2948979114708331, 0.27268697173789747, 0.2503569269834023, 0.22791753059030115, 0.20537858370448034, 0.1827499309537838, 0.1600414561480492, 0.13726307796202644, 0.11442474560307136, 0.09153643446549982, 0.06860814177350723, 0.04564988221454957, 0.022671683565100565, -0.0003164176893121998, -0.023304380737871073, -0.04628216483012535, -0.06923973366161797, -0.09216705975757417, -0.11505412885272968, -0.13789094426539306, -0.1606675312638237, -0.1833739414230269, -0.2060002569700543, -0.2285365951159199], \"y\": [1.0464849294111476, 1.0533392858829742, 1.059733561707914, 1.0656649639752709, 1.0711309019496298, 1.0761289882024456, 1.0806570396548305, 1.0847130785310866, 1.0882953332225642, 1.0914022390614704, 1.0940324390042886, 1.0961847842245136, 1.0978583346144377, 1.0990523591957746, 1.0997663364389383, 1.099999954490838, 1.0997531113110908, 1.09902591471659, 1.0978186823344138, 1.0961319414630906, 1.093966428842284, 1.0913230903309974, 1.08820308049444, 1.0846077620997299, 1.080538705520664, 1.0759976880518016]}, {\"hoverinfo\": \"text\", \"line\": {\"color\": \"#e1b396\", \"shape\": \"spline\", \"width\": 0.25}, \"mode\": \"lines\", \"text\": \"MS SQL Server<br>2078\", \"type\": \"scatter\", \"x\": [-0.26222173025002715, -0.28472924914347314, -0.30710970656811126, -0.32935311516296084, -0.35144954872558254, -0.373389146641683, -0.3951621182854495, -0.416758747388653, -0.4381693963765681, -0.45938451066877534, -0.48039462294292984, -0.5011903573595855, -0.5217624337462007, -0.5421016717384459, -0.562198994876979, -0.5820454346578441, -0.6016321345347017, -0.620950353871095, -0.6399914718409907], \"y\": [1.0682882402164138, 1.0625108256776465, 1.0562592617968605, 1.0495363383573022, 1.0423450554881453, 1.0346886223256715, 1.0265704555811825, 1.0179941780162798, 1.0089636168261937, 0.9994828019318842, 0.989555964181673, 0.9791875334632132, 0.9683821367266343, 0.9571445959197505, 0.9454799258362467, 0.933393331877811, 0.9208902077312033, 0.9079761329613032, 0.8946568705212086]}, {\"hoverinfo\": \"text\", \"line\": {\"color\": \"#dba284\", \"shape\": \"spline\", \"width\": 0.25}, \"mode\": \"lines\", \"text\": \"PostgreSQL<br>635\", \"type\": \"scatter\", \"x\": [-0.6677775261007243, -0.688214963325557, -0.7082692522825652, -0.7279292281955015, -0.7471839458130735], \"y\": [0.8741127934281689, 0.8581143072195, 0.8416380850882974, 0.8246932998022366, 0.8072893849910366]}, {\"hoverinfo\": \"text\", \"line\": {\"color\": \"#d59171\", \"shape\": \"spline\", \"width\": 0.25}, \"mode\": \"lines\", \"text\": \"MySQL/MariaDB<br>912\", \"type\": \"scatter\", \"x\": [-0.7721728280184039, -0.8008615736292437, -0.8284353463992947, -0.8548557576621899, -0.8800860244806897], \"y\": [0.7834214215031783, 0.7540694529578106, 0.7236676563425235, 0.6922583575456517, 0.6598852851168716]}, {\"hoverinfo\": \"text\", \"line\": {\"color\": \"#d0805f\", \"shape\": \"spline\", \"width\": 0.25}, \"mode\": \"lines\", \"text\": \"T-SQL<br>1433\", \"type\": \"scatter\", \"x\": [-0.9003792528646531, -0.9146445835463155, -0.9284281040097813, -0.9417225534664102, -0.954520928757042, -0.9668164880410731, -0.9786027543478771, -0.9898735189886982, -1.000622844827223, -1.0108450694071043, -1.0205348079347907, -1.0296869561160913], \"y\": [0.631915501480134, 0.6110853342941451, 0.5899332637551497, 0.5684704322062005, 0.5467081456909108, 0.5246578679977321, 0.5023312146211388, 0.47973994664289904, 0.4568959645366496, 0.43381130189904776, 0.4104981191107948, 0.3869686969308743]}, {\"hoverinfo\": \"text\", \"line\": {\"color\": \"#ca6f4c\", \"shape\": \"spline\", \"width\": 0.25}, \"mode\": \"lines\", \"text\": \"PL/SQL<br>464\", \"type\": \"scatter\", \"x\": [-1.0413338482711272, -1.0465758710349022, -1.051578429751547, -1.0563403797998354, -1.060860631611527], \"y\": [0.3544345023341338, 0.33864280025941207, 0.32277361428913487, 0.3068305754065909, 0.2908173314931422]}, {\"hoverinfo\": \"text\", \"line\": {\"color\": \"#c45e3a\", \"shape\": \"spline\", \"width\": 0.25}, \"mode\": \"lines\", \"text\": \"Pentaho<br>601\", \"type\": \"scatter\", \"x\": [-1.06947195406473, -1.0748537825266462, -1.079719569699566, -1.0840669795010145, -1.0878939247234154], \"y\": [0.2573513929804308, 0.23385753395638367, 0.2102513990626079, 0.18654432169205118, 0.16274768370051898]}, {\"hoverinfo\": \"text\", \"line\": {\"color\": \"#bf4d28\", \"shape\": \"spline\", \"width\": 0.25}, \"mode\": \"lines\", \"text\": \"Hadoop<br>1075\", \"type\": \"scatter\", \"x\": [-1.0924691430263174, -1.0971741783985476, -1.099619397791857, -1.099799764862914, -1.097714908115199], \"y\": [0.12849580357094934, 0.07879608020372963, 0.028934062968656964, -0.020987548867819495, -0.07086593329407778]}, {\"hoverinfo\": \"text\", \"line\": {\"color\": \"#af4624\", \"shape\": \"spline\", \"width\": 0.25}, \"mode\": \"lines\", \"text\": \"Spark<br>1129\", \"type\": \"scatter\", \"x\": [-1.0949472993148606, -1.088623403801717, -1.0797853276464788, -1.0684534824257341, -1.054654039086933], \"y\": [-0.10531102374914712, -0.1577944380995847, -0.20991342548628603, -0.2615476168737185, -0.3125777628648882]}, {\"hoverinfo\": \"text\", \"line\": {\"color\": \"#9f4021\", \"shape\": \"spline\", \"width\": 0.25}, \"mode\": \"lines\", \"text\": \"Informatica<br>831\", \"type\": \"scatter\", \"x\": [-1.044315326181077, -1.032230538757097, -1.0190010274483214, -1.0046414635292489, -0.9891677714810644], \"y\": [-0.345551008540434, -0.38013170725057066, -0.41429084718258663, -0.44799054650495584, -0.48119343289698474]}, {\"hoverinfo\": \"text\", \"line\": {\"color\": \"#8f391e\", \"shape\": \"spline\", \"width\": 0.25}, \"mode\": \"lines\", \"text\": \"Qlik<br>2064\", \"type\": \"scatter\", \"x\": [-0.97356502590697, -0.9619566127156586, -0.9498739311616178, -0.937322938305199, -0.9243098220957903, -0.9108409983210036, -0.8969231074435318, -0.8825630113272385, -0.8677677898540895, -0.8525447374335945, -0.8369013594064855, -0.8208453683443958, -0.8043846802473745, -0.7875274106411014, -0.7702818705757322, -0.7526565625283466, -0.7346601762110169, -0.7163015842865643], \"y\": [-0.5120265035432843, -0.5335161433851994, -0.5547427465948288, -0.5756958479326634, -0.5963651170023684, -0.6167403633439259, -0.6368115414577841, -0.6565687557575345, -0.676002265448681, -0.695102489331094, -0.7138600105227754, -0.732265581102617, -0.750310126669852, -0.7679847508179587, -0.7852807395208106, -0.8021895654289037, -0.8187028920735518, -0.8348125779769722]}, {\"hoverinfo\": \"text\", \"line\": {\"color\": \"#f0f3e7\", \"shape\": \"spline\", \"width\": 0.25}, \"mode\": \"lines\", \"text\": \"Tableau<br>2816\", \"type\": \"scatter\", \"x\": [-0.6897260359325623, -0.6715296530974746, -0.6530354923744423, -0.6342517546702946, -0.6151867692996295, -0.5958489902913198, -0.5762469926397313, -0.5563894685022873, -0.5362852233450923, -0.5159431720382984, -0.4953723349029697, -0.4745818337111798, -0.45358088764112026, -0.43237880918902727, -0.41098500003971267, -0.3894089468975617, -0.367660217279815, -0.34574845527403075, -0.3236833772615777, -0.30147476760908537, -0.27913247432973787, -0.25666640471634444, -0.2340865209481332, -0.21140283567319237, -0.18862540756854712, -0.16576433687981013], \"y\": [-0.8569002248551193, -0.8712335651309502, -0.8851805723688643, -0.898735062016417, -0.9118910235761095, -0.9246426232706424, -0.9369842066297945, -0.9489103009978036, -0.9604156179601123, -0.9714950556884265, -0.9821437012030266, -0.992356832551343, -1.0021299209018228, -1.0114586325521568, -1.0203388308509862, -1.0287665780322242, -1.03673813696119, -1.0442499727917745, -1.0512987545339048, -1.0578813565306122, -1.0639948598440494, -1.0696365535498429, -1.0748039359392016, -1.079494715628258, -1.0837068125741387, -1.087438358997326]}, {\"hoverinfo\": \"text\", \"line\": {\"color\": \"#e2ecde\", \"shape\": \"spline\", \"width\": 0.25}, \"mode\": \"lines\", \"text\": \"Microstrategy<br>449\", \"type\": \"scatter\", \"x\": [-0.13152527787926538, -0.11580374741483287, -0.100058258920438, -0.08429206989761534, -0.06850844213052609], \"y\": [-1.0921085574606502, -1.0938873306171353, -1.095439795160743, -1.0967656299102264, -1.0978645605705872]}, {\"hoverinfo\": \"text\", \"line\": {\"color\": \"#d4e5d6\", \"shape\": \"spline\", \"width\": 0.25}, \"mode\": \"lines\", \"text\": \"Oracle BI<br>3509\", \"type\": \"scatter\", \"x\": [-0.033989878137399204, -0.011178891536949767, 0.011636904394170502, 0.03444769395045992, 0.05724366358023901, 0.08001500610758516, 0.10275192495153403, 0.1254446383407172, 0.14808338352163403, 0.1706584209587323, 0.19316003852450966, 0.21557855567781908, 0.23790432762858496, 0.26012774948714396, 0.28223926039641, 0.3042293476451054, 0.3260885507602736, 0.34780746557732345, 0.36937674828583933, 0.3907871194494357, 0.41202936799791207, 0.4330943551899958, 0.45397301854497213, 0.4746563757414977, 0.49513552848193615, 0.5154016663205413, 0.5354460704538456, 0.5552601174716264, 0.5748352830668243, 0.594163145702834, 0.6132353902365782, 0.6320438114958085, 0.6505803178090994], \"y\": [-1.0994747328539227, -1.0999431950714569, -1.0999384448486749, -1.0994604842291948, -1.0985095188390097, -1.097085957798022, -1.0951904135440351, -1.0928237015692728, -1.0899868400695418, -1.086681049506189, -1.0829077520810395, -1.078668571124544, -1.0739653303973975, -1.0688000533059276, -1.0631749620315971, -1.0570924765749843, -1.0505552137146645, -1.043565985881429, -1.0361277999483365, -1.0282438559371083, -1.0199175456414313, -1.0111524511677563, -1.0019523433942188, -0.9923211803483519, -0.9822631055042809, -0.9717824460001372, -0.9608837107764578, -0.9495715886363679, -0.9378509462283888, -0.9257268259527283, -0.9132044437919647, -0.9002891870670509, -0.8869866121196032]}, {\"hoverinfo\": \"text\", \"line\": {\"color\": \"#c6decd\", \"shape\": \"spline\", \"width\": 0.25}, \"mode\": \"lines\", \"text\": \"Python<br>2308\", \"type\": \"scatter\", \"x\": [0.6781202184738314, 0.6964054218296601, 0.7143749566929342, 0.7320206777853353, 0.7493345866077111, 0.7663088350656498, 0.7829357290268913, 0.7992077318089403, 0.8151174675953127, 0.8306577247788695, 0.8458214592307078, 0.8606017974931471, 0.8749920398953462, 0.8889856635901459, 0.9025763255107664, 0.9157578652460056, 0.928524307832649, 0.9408698664638174, 0.9527889451120222, 0.9642761410657522, 0.9753262473784254], \"y\": [-0.8661137161464443, -0.8514807622291025, -0.8364618468585214, -0.8210637778484071, -0.8052935348762282, -0.7891582663194543, -0.7726652860153161, -0.755822069945572, -0.7386362528477767, -0.7211156247545827, -0.7032681274626601, -0.6851018509328115, -0.6666250296229366, -0.6478460387554965, -0.6287733905211663, -0.609415730220413, -0.5897818323447238, -0.5698805965992862, -0.5497210438689064, -0.5293123121289941, -0.508663652303483]}, {\"hoverinfo\": \"text\", \"line\": {\"color\": \"#b8d7c5\", \"shape\": \"spline\", \"width\": 0.25}, \"mode\": \"lines\", \"text\": \"VBA<br>856\", \"type\": \"scatter\", \"x\": [0.990822494185932, 1.006731132392093, 1.0214387732453958, 1.0349278710107734, 1.0471823336352561], \"y\": [-0.47777691971794617, -0.4432746632422543, -0.4082435945742948, -0.37272550463458787, -0.33676276534412075]}, {\"hoverinfo\": \"text\", \"line\": {\"color\": \"#aad0bc\", \"shape\": \"spline\", \"width\": 0.25}, \"mode\": \"lines\", \"text\": \"Linux<br>834\", \"type\": \"scatter\", \"x\": [1.057243586456243, 1.0668095610225576, 1.0751818851294326, 1.0823511910050716, 1.088309456931668], \"y\": [-0.3037038012556651, -0.2681741234922897, -0.2323443863955402, -0.19625467976561317, -0.15994538428194086]}, {\"hoverinfo\": \"text\", \"line\": {\"color\": \"#9cc9b4\", \"shape\": \"spline\", \"width\": 0.25}, \"mode\": \"lines\", \"text\": \"AWS<br>578\", \"type\": \"scatter\", \"x\": [1.0927964478426075, 1.095171234463739, 1.097073471246305, 1.0985023374038787, 1.0994572164023046], \"y\": [-0.1256818347358888, -0.10295614213426206, -0.08018602551307116, -0.05738130983356045, -0.03455183498594511]}, {\"hoverinfo\": \"text\", \"marker\": {\"color\": \"green\", \"size\": 0.5}, \"mode\": \"markers\", \"text\": \"Power BI appears with Excel 262 times\", \"type\": \"scatter\", \"x\": [0.8668634412953914], \"y\": [0.24196647318484354]}, {\"hoverinfo\": \"text\", \"marker\": {\"color\": \"blue\", \"size\": 0.5}, \"mode\": \"markers\", \"text\": \"Excel appears with Power BI 262 times\", \"type\": \"scatter\", \"x\": [0.7623306856759183], \"y\": [0.4783847046853445]}, {\"hoverinfo\": \"text\", \"marker\": {\"color\": \"green\", \"size\": 0.5}, \"mode\": \"markers\", \"text\": \"Power BI appears with SSIS/SSRS 156 times\", \"type\": \"scatter\", \"x\": [0.8965654753661454], \"y\": [0.07855156511157242]}, {\"hoverinfo\": \"text\", \"marker\": {\"color\": \"blue\", \"size\": 0.5}, \"mode\": \"markers\", \"text\": \"SSIS/SSRS appears with Power BI 156 times\", \"type\": \"scatter\", \"x\": [0.1395427073394812], \"y\": [0.8891163213148029]}, {\"hoverinfo\": \"text\", \"marker\": {\"color\": \"green\", \"size\": 0.5}, \"mode\": \"markers\", \"text\": \"Power BI appears with MS SQL Server 157 times\", \"type\": \"scatter\", \"x\": [0.8940122026557147], \"y\": [0.10364449576642899]}, {\"hoverinfo\": \"text\", \"marker\": {\"color\": \"blue\", \"size\": 0.5}, \"mode\": \"markers\", \"text\": \"MS SQL Server appears with Power BI 157 times\", \"type\": \"scatter\", \"x\": [-0.3706899782214178], \"y\": [0.8201151992532542]}, {\"hoverinfo\": \"text\", \"marker\": {\"color\": \"green\", \"size\": 0.5}, \"mode\": \"markers\", \"text\": \"Power BI appears with MySQL/MariaDB 5 times\", \"type\": \"scatter\", \"x\": [0.899999909804802], \"y\": [0.00040292846555398766]}, {\"hoverinfo\": \"text\", \"marker\": {\"color\": \"blue\", \"size\": 0.5}, \"mode\": \"markers\", \"text\": \"MySQL/MariaDB appears with Power BI 5 times\", \"type\": \"scatter\", \"x\": [-0.6323544803487275], \"y\": [0.6404122197326428]}, {\"hoverinfo\": \"text\", \"marker\": {\"color\": \"green\", \"size\": 0.5}, \"mode\": \"markers\", \"text\": \"Power BI appears with T-SQL 68 times\", \"type\": \"scatter\", \"x\": [0.8989481681359354], \"y\": [0.0434993218917952]}, {\"hoverinfo\": \"text\", \"marker\": {\"color\": \"blue\", \"size\": 0.5}, \"mode\": \"markers\", \"text\": \"T-SQL appears with Power BI 68 times\", \"type\": \"scatter\", \"x\": [-0.7769136848263762], \"y\": [0.4543183094808112]}, {\"hoverinfo\": \"text\", \"marker\": {\"color\": \"green\", \"size\": 0.5}, \"mode\": \"markers\", \"text\": \"Power BI appears with PL/SQL 11 times\", \"type\": \"scatter\", \"x\": [0.8999882782573101], \"y\": [0.004593364719086356]}, {\"hoverinfo\": \"text\", \"marker\": {\"color\": \"blue\", \"size\": 0.5}, \"mode\": \"markers\", \"text\": \"PL/SQL appears with Power BI 11 times\", \"type\": \"scatter\", \"x\": [-0.8537060076513193], \"y\": [0.28493166285979105]}, {\"hoverinfo\": \"text\", \"marker\": {\"color\": \"green\", \"size\": 0.5}, \"mode\": \"markers\", \"text\": \"Power BI appears with Pentaho 10 times\", \"type\": \"scatter\", \"x\": [0.8999953242849036], \"y\": [0.00290108002495615]}, {\"hoverinfo\": \"text\", \"marker\": {\"color\": \"blue\", \"size\": 0.5}, \"mode\": \"markers\", \"text\": \"Pentaho appears with Power BI 10 times\", \"type\": \"scatter\", \"x\": [-0.8758448127808569], \"y\": [0.2071131669519484]}, {\"hoverinfo\": \"text\", \"marker\": {\"color\": \"green\", \"size\": 0.5}, \"mode\": \"markers\", \"text\": \"Power BI appears with Hadoop 41 times\", \"type\": \"scatter\", \"x\": [0.8997799002144924], \"y\": [0.019903044239466004]}, {\"hoverinfo\": \"text\", \"marker\": {\"color\": \"blue\", \"size\": 0.5}, \"mode\": \"markers\", \"text\": \"Hadoop appears with Power BI 41 times\", \"type\": \"scatter\", \"x\": [-0.8957189476058101], \"y\": [0.08767877109049942]}, {\"hoverinfo\": \"text\", \"marker\": {\"color\": \"green\", \"size\": 0.5}, \"mode\": \"markers\", \"text\": \"Power BI appears with Spark 48 times\", \"type\": \"scatter\", \"x\": [0.8993514806118581], \"y\": [0.03416012765284467]}, {\"hoverinfo\": \"text\", \"marker\": {\"color\": \"blue\", \"size\": 0.5}, \"mode\": \"markers\", \"text\": \"Spark appears with Power BI 48 times\", \"type\": \"scatter\", \"x\": [-0.8931674224240058], \"y\": [-0.11068855189430231]}, {\"hoverinfo\": \"text\", \"marker\": {\"color\": \"green\", \"size\": 0.5}, \"mode\": \"markers\", \"text\": \"Power BI appears with Informatica 23 times\", \"type\": \"scatter\", \"x\": [0.8999522871610177], \"y\": [0.009267191249404833]}, {\"hoverinfo\": \"text\", \"marker\": {\"color\": \"blue\", \"size\": 0.5}, \"mode\": \"markers\", \"text\": \"Informatica appears with Power BI 23 times\", \"type\": \"scatter\", \"x\": [-0.8483870146269257], \"y\": [-0.3003988572088993]}, {\"hoverinfo\": \"text\", \"marker\": {\"color\": \"green\", \"size\": 0.5}, \"mode\": \"markers\", \"text\": \"Power BI appears with Qlik 215 times\", \"type\": \"scatter\", \"x\": [0.8900646765478479], \"y\": [0.13335993237016472]}, {\"hoverinfo\": \"text\", \"marker\": {\"color\": \"blue\", \"size\": 0.5}, \"mode\": \"markers\", \"text\": \"Qlik appears with Power BI 215 times\", \"type\": \"scatter\", \"x\": [-0.7359338067092998], \"y\": [-0.518074736058765]}, {\"hoverinfo\": \"text\", \"marker\": {\"color\": \"green\", \"size\": 0.5}, \"mode\": \"markers\", \"text\": \"Power BI appears with Tableau 234 times\", \"type\": \"scatter\", \"x\": [0.8767512860018409], \"y\": [0.20324168493229508]}, {\"hoverinfo\": \"text\", \"marker\": {\"color\": \"blue\", \"size\": 0.5}, \"mode\": \"markers\", \"text\": \"Tableau appears with Power BI 234 times\", \"type\": \"scatter\", \"x\": [-0.37320737364208695], \"y\": [-0.8189726834633594]}, {\"hoverinfo\": \"text\", \"marker\": {\"color\": \"green\", \"size\": 0.5}, \"mode\": \"markers\", \"text\": \"Power BI appears with Microstrategy 34 times\", \"type\": \"scatter\", \"x\": [0.8998932687182697], \"y\": [0.013860191757266174]}, {\"hoverinfo\": \"text\", \"marker\": {\"color\": \"blue\", \"size\": 0.5}, \"mode\": \"markers\", \"text\": \"Microstrategy appears with Power BI 34 times\", \"type\": \"scatter\", \"x\": [-0.08892632879341532], \"y\": [-0.8955959513348224]}, {\"hoverinfo\": \"text\", \"marker\": {\"color\": \"green\", \"size\": 0.5}, \"mode\": \"markers\", \"text\": \"Power BI appears with Oracle BI 217 times\", \"type\": \"scatter\", \"x\": [0.8842416616552995], \"y\": [0.16768030234071904]}, {\"hoverinfo\": \"text\", \"marker\": {\"color\": \"blue\", \"size\": 0.5}, \"mode\": \"markers\", \"text\": \"Oracle BI appears with Power BI 217 times\", \"type\": \"scatter\", \"x\": [0.21728992661394958], \"y\": [-0.8733756853680462]}, {\"hoverinfo\": \"text\", \"marker\": {\"color\": \"green\", \"size\": 0.5}, \"mode\": \"markers\", \"text\": \"Power BI appears with Python 106 times\", \"type\": \"scatter\", \"x\": [0.8981613802858313], \"y\": [0.057498999669997525]}, {\"hoverinfo\": \"text\", \"marker\": {\"color\": \"blue\", \"size\": 0.5}, \"mode\": \"markers\", \"text\": \"Python appears with Power BI 106 times\", \"type\": \"scatter\", \"x\": [0.6103393551597737], \"y\": [-0.6614271475704272]}, {\"hoverinfo\": \"text\", \"marker\": {\"color\": \"green\", \"size\": 0.5}, \"mode\": \"markers\", \"text\": \"Power BI appears with VBA 44 times\", \"type\": \"scatter\", \"x\": [0.8996023622571154], \"y\": [0.02675051067583074]}, {\"hoverinfo\": \"text\", \"marker\": {\"color\": \"blue\", \"size\": 0.5}, \"mode\": \"markers\", \"text\": \"VBA appears with Power BI 44 times\", \"type\": \"scatter\", \"x\": [0.8217456482205959], \"y\": [-0.3670614248739748]}, {\"hoverinfo\": \"text\", \"marker\": {\"color\": \"green\", \"size\": 0.5}, \"mode\": \"markers\", \"text\": \"Power BI appears with Linux 12 times\", \"type\": \"scatter\", \"x\": [0.8999769101276444], \"y\": [0.0064468005318810044]}, {\"hoverinfo\": \"text\", \"marker\": {\"color\": \"blue\", \"size\": 0.5}, \"mode\": \"markers\", \"text\": \"Linux appears with Power BI 12 times\", \"type\": \"scatter\", \"x\": [0.8660857591342721], \"y\": [-0.24473548542214252]}, {\"hoverinfo\": \"text\", \"marker\": {\"color\": \"green\", \"size\": 0.5}, \"mode\": \"markers\", \"text\": \"Power BI appears with AWS 8 times\", \"type\": \"scatter\", \"x\": [0.8999988310704669], \"y\": [0.0014505418964572549]}, {\"hoverinfo\": \"text\", \"marker\": {\"color\": \"blue\", \"size\": 0.5}, \"mode\": \"markers\", \"text\": \"AWS appears with Power BI 8 times\", \"type\": \"scatter\", \"x\": [0.8944556402022843], \"y\": [-0.09974521397200783]}, {\"hoverinfo\": \"text\", \"marker\": {\"color\": \"green\", \"size\": 0.5}, \"mode\": \"markers\", \"text\": \"Excel appears with SSIS/SSRS 669 times\", \"type\": \"scatter\", \"x\": [0.4665335728522186], \"y\": [0.7696404520305203]}, {\"hoverinfo\": \"text\", \"marker\": {\"color\": \"blue\", \"size\": 0.5}, \"mode\": \"markers\", \"text\": \"SSIS/SSRS appears with Excel 669 times\", \"type\": \"scatter\", \"x\": [-0.1316249589395177], \"y\": [0.8903229022013139]}, {\"hoverinfo\": \"text\", \"marker\": {\"color\": \"green\", \"size\": 0.5}, \"mode\": \"markers\", \"text\": \"Excel appears with MS SQL Server 283 times\", \"type\": \"scatter\", \"x\": [0.7363517625325988], \"y\": [0.5174805134641643]}, {\"hoverinfo\": \"text\", \"marker\": {\"color\": \"blue\", \"size\": 0.5}, \"mode\": \"markers\", \"text\": \"MS SQL Server appears with Excel 283 times\", \"type\": \"scatter\", \"x\": [-0.462848262256397], \"y\": [0.7718623492088688]}, {\"hoverinfo\": \"text\", \"marker\": {\"color\": \"green\", \"size\": 0.5}, \"mode\": \"markers\", \"text\": \"Excel appears with PostgreSQL 78 times\", \"type\": \"scatter\", \"x\": [0.8350601729513893], \"y\": [0.33567023631891424]}, {\"hoverinfo\": \"text\", \"marker\": {\"color\": \"blue\", \"size\": 0.5}, \"mode\": \"markers\", \"text\": \"PostgreSQL appears with Excel 78 times\", \"type\": \"scatter\", \"x\": [-0.5860679457090872], \"y\": [0.6830258875125675]}, {\"hoverinfo\": \"text\", \"marker\": {\"color\": \"green\", \"size\": 0.5}, \"mode\": \"markers\", \"text\": \"Excel appears with MySQL/MariaDB 142 times\", \"type\": \"scatter\", \"x\": [0.7962891148825588], \"y\": [0.41943252797029346]}, {\"hoverinfo\": \"text\", \"marker\": {\"color\": \"blue\", \"size\": 0.5}, \"mode\": \"markers\", \"text\": \"MySQL/MariaDB appears with Excel 142 times\", \"type\": \"scatter\", \"x\": [-0.7137482613634023], \"y\": [0.5482366454376434]}, {\"hoverinfo\": \"text\", \"marker\": {\"color\": \"green\", \"size\": 0.5}, \"mode\": \"markers\", \"text\": \"Excel appears with T-SQL 193 times\", \"type\": \"scatter\", \"x\": [0.7824340054394906], \"y\": [0.44474377694568734]}, {\"hoverinfo\": \"text\", \"marker\": {\"color\": \"blue\", \"size\": 0.5}, \"mode\": \"markers\", \"text\": \"T-SQL appears with Excel 193 times\", \"type\": \"scatter\", \"x\": [-0.8245360551473082], \"y\": [0.3607496275287267]}, {\"hoverinfo\": \"text\", \"marker\": {\"color\": \"green\", \"size\": 0.5}, \"mode\": \"markers\", \"text\": \"Excel appears with PL/SQL 67 times\", \"type\": \"scatter\", \"x\": [0.8437847502626105], \"y\": [0.3130931095125924]}, {\"hoverinfo\": \"text\", \"marker\": {\"color\": \"blue\", \"size\": 0.5}, \"mode\": \"markers\", \"text\": \"PL/SQL appears with Excel 67 times\", \"type\": \"scatter\", \"x\": [-0.8636373414871582], \"y\": [0.25324008843189433]}, {\"hoverinfo\": \"text\", \"marker\": {\"color\": \"green\", \"size\": 0.5}, \"mode\": \"markers\", \"text\": \"Excel appears with Pentaho 68 times\", \"type\": \"scatter\", \"x\": [0.8396690171183222], \"y\": [0.3239690443415091]}, {\"hoverinfo\": \"text\", \"marker\": {\"color\": \"blue\", \"size\": 0.5}, \"mode\": \"markers\", \"text\": \"Pentaho appears with Excel 68 times\", \"type\": \"scatter\", \"x\": [-0.887973159335432], \"y\": [0.1466412912513098]}, {\"hoverinfo\": \"text\", \"marker\": {\"color\": \"green\", \"size\": 0.5}, \"mode\": \"markers\", \"text\": \"Excel appears with Hadoop 102 times\", \"type\": \"scatter\", \"x\": [0.8228616494782546], \"y\": [0.36455274764830153]}, {\"hoverinfo\": \"text\", \"marker\": {\"color\": \"blue\", \"size\": 0.5}, \"mode\": \"markers\", \"text\": \"Hadoop appears with Excel 102 times\", \"type\": \"scatter\", \"x\": [-0.899540265888154], \"y\": [0.028762997859564644]}, {\"hoverinfo\": \"text\", \"marker\": {\"color\": \"green\", \"size\": 0.5}, \"mode\": \"markers\", \"text\": \"Excel appears with Spark 111 times\", \"type\": \"scatter\", \"x\": [0.8152593549583288], \"y\": [0.3812508152816592]}, {\"hoverinfo\": \"text\", \"marker\": {\"color\": \"blue\", \"size\": 0.5}, \"mode\": \"markers\", \"text\": \"Spark appears with Excel 111 times\", \"type\": \"scatter\", \"x\": [-0.8807565306048842], \"y\": [-0.18511600092063224]}, {\"hoverinfo\": \"text\", \"marker\": {\"color\": \"green\", \"size\": 0.5}, \"mode\": \"markers\", \"text\": \"Excel appears with Informatica 121 times\", \"type\": \"scatter\", \"x\": [0.8065935448917507], \"y\": [0.39925787824282105]}, {\"hoverinfo\": \"text\", \"marker\": {\"color\": \"blue\", \"size\": 0.5}, \"mode\": \"markers\", \"text\": \"Informatica appears with Excel 121 times\", \"type\": \"scatter\", \"x\": [-0.821552835858612], \"y\": [-0.36749277257202284]}, {\"hoverinfo\": \"text\", \"marker\": {\"color\": \"green\", \"size\": 0.5}, \"mode\": \"markers\", \"text\": \"Excel appears with Qlik 472 times\", \"type\": \"scatter\", \"x\": [0.6119937677018085], \"y\": [0.659896680014489]}, {\"hoverinfo\": \"text\", \"marker\": {\"color\": \"blue\", \"size\": 0.5}, \"mode\": \"markers\", \"text\": \"Qlik appears with Excel 472 times\", \"type\": \"scatter\", \"x\": [-0.6149903704620708], \"y\": [-0.6571048959176342]}, {\"hoverinfo\": \"text\", \"marker\": {\"color\": \"green\", \"size\": 0.5}, \"mode\": \"markers\", \"text\": \"Excel appears with Tableau 489 times\", \"type\": \"scatter\", \"x\": [0.548797194256141], \"y\": [0.713317348433772]}, {\"hoverinfo\": \"text\", \"marker\": {\"color\": \"blue\", \"size\": 0.5}, \"mode\": \"markers\", \"text\": \"Tableau appears with Excel 489 times\", \"type\": \"scatter\", \"x\": [-0.257267023228288], \"y\": [-0.8624463338430141]}, {\"hoverinfo\": \"text\", \"marker\": {\"color\": \"green\", \"size\": 0.5}, \"mode\": \"markers\", \"text\": \"Excel appears with Microstrategy 49 times\", \"type\": \"scatter\", \"x\": [0.850921846879489], \"y\": [0.2931416219222363]}, {\"hoverinfo\": \"text\", \"marker\": {\"color\": \"blue\", \"size\": 0.5}, \"mode\": \"markers\", \"text\": \"Microstrategy appears with Excel 49 times\", \"type\": \"scatter\", \"x\": [-0.0745129642219962], \"y\": [-0.8969101505517995]}, {\"hoverinfo\": \"text\", \"marker\": {\"color\": \"green\", \"size\": 0.5}, \"mode\": \"markers\", \"text\": \"Excel appears with Oracle BI 712 times\", \"type\": \"scatter\", \"x\": [0.3610330053151986], \"y\": [0.824412014148918]}, {\"hoverinfo\": \"text\", \"marker\": {\"color\": \"blue\", \"size\": 0.5}, \"mode\": \"markers\", \"text\": \"Oracle BI appears with Excel 712 times\", \"type\": \"scatter\", \"x\": [0.48225442464999896], \"y\": [-0.7598885904561922]}, {\"hoverinfo\": \"text\", \"marker\": {\"color\": \"green\", \"size\": 0.5}, \"mode\": \"markers\", \"text\": \"Excel appears with Python 425 times\", \"type\": \"scatter\", \"x\": [0.666323377827598], \"y\": [0.6049902116236429]}, {\"hoverinfo\": \"text\", \"marker\": {\"color\": \"blue\", \"size\": 0.5}, \"mode\": \"markers\", \"text\": \"Python appears with Excel 425 times\", \"type\": \"scatter\", \"x\": [0.7810686993264145], \"y\": [-0.4471372126456744]}, {\"hoverinfo\": \"text\", \"marker\": {\"color\": \"green\", \"size\": 0.5}, \"mode\": \"markers\", \"text\": \"Excel appears with VBA 297 times\", \"type\": \"scatter\", \"x\": [0.7065060975688736], \"y\": [0.5575384597478468]}, {\"hoverinfo\": \"text\", \"marker\": {\"color\": \"blue\", \"size\": 0.5}, \"mode\": \"markers\", \"text\": \"VBA appears with Excel 297 times\", \"type\": \"scatter\", \"x\": [0.8499358404217194], \"y\": [-0.29598828890114126]}, {\"hoverinfo\": \"text\", \"marker\": {\"color\": \"green\", \"size\": 0.5}, \"mode\": \"markers\", \"text\": \"Excel appears with Linux 92 times\", \"type\": \"scatter\", \"x\": [0.8294883141553905], \"y\": [0.34921216570968455]}, {\"hoverinfo\": \"text\", \"marker\": {\"color\": \"blue\", \"size\": 0.5}, \"mode\": \"markers\", \"text\": \"Linux appears with Excel 92 times\", \"type\": \"scatter\", \"x\": [0.8801190418321906], \"y\": [-0.188123555687178]}, {\"hoverinfo\": \"text\", \"marker\": {\"color\": \"green\", \"size\": 0.5}, \"mode\": \"markers\", \"text\": \"Excel appears with AWS 65 times\", \"type\": \"scatter\", \"x\": [0.8476728227950179], \"y\": [0.30240830923558676]}, {\"hoverinfo\": \"text\", \"marker\": {\"color\": \"blue\", \"size\": 0.5}, \"mode\": \"markers\", \"text\": \"AWS appears with Excel 65 times\", \"type\": \"scatter\", \"x\": [0.897515133077345], \"y\": [-0.0668325212539204]}, {\"hoverinfo\": \"text\", \"marker\": {\"color\": \"green\", \"size\": 0.5}, \"mode\": \"markers\", \"text\": \"SSIS/SSRS appears with MS SQL Server 300 times\", \"type\": \"scatter\", \"x\": [0.005896625127335985], \"y\": [0.8999806830216456]}, {\"hoverinfo\": \"text\", \"marker\": {\"color\": \"blue\", \"size\": 0.5}, \"mode\": \"markers\", \"text\": \"MS SQL Server appears with SSIS/SSRS 300 times\", \"type\": \"scatter\", \"x\": [-0.5033426500542574], \"y\": [0.7460872446546433]}, {\"hoverinfo\": \"text\", \"marker\": {\"color\": \"green\", \"size\": 0.5}, \"mode\": \"markers\", \"text\": \"SSIS/SSRS appears with PostgreSQL 66 times\", \"type\": \"scatter\", \"x\": [0.21944278808709786], \"y\": [0.8728372487219831]}, {\"hoverinfo\": \"text\", \"marker\": {\"color\": \"blue\", \"size\": 0.5}, \"mode\": \"markers\", \"text\": \"PostgreSQL appears with SSIS/SSRS 66 times\", \"type\": \"scatter\", \"x\": [-0.5787250307216223], \"y\": [0.6892585427952688]}, {\"hoverinfo\": \"text\", \"marker\": {\"color\": \"green\", \"size\": 0.5}, \"mode\": \"markers\", \"text\": \"SSIS/SSRS appears with MySQL/MariaDB 91 times\", \"type\": \"scatter\", \"x\": [0.1939903280026449], \"y\": [0.8788445554484742]}, {\"hoverinfo\": \"text\", \"marker\": {\"color\": \"blue\", \"size\": 0.5}, \"mode\": \"markers\", \"text\": \"MySQL/MariaDB appears with SSIS/SSRS 91 times\", \"type\": \"scatter\", \"x\": [-0.6825850926172639], \"y\": [0.5865812742806246]}, {\"hoverinfo\": \"text\", \"marker\": {\"color\": \"green\", \"size\": 0.5}, \"mode\": \"markers\", \"text\": \"SSIS/SSRS appears with T-SQL 158 times\", \"type\": \"scatter\", \"x\": [0.1134007372012822], \"y\": [0.8928271236931625]}, {\"hoverinfo\": \"text\", \"marker\": {\"color\": \"blue\", \"size\": 0.5}, \"mode\": \"markers\", \"text\": \"T-SQL appears with SSIS/SSRS 158 times\", \"type\": \"scatter\", \"x\": [-0.8008460659691123], \"y\": [0.410664800806931]}, {\"hoverinfo\": \"text\", \"marker\": {\"color\": \"green\", \"size\": 0.5}, \"mode\": \"markers\", \"text\": \"SSIS/SSRS appears with PL/SQL 66 times\", \"type\": \"scatter\", \"x\": [0.23019099256242329], \"y\": [0.8700644268921276]}, {\"hoverinfo\": \"text\", \"marker\": {\"color\": \"blue\", \"size\": 0.5}, \"mode\": \"markers\", \"text\": \"PL/SQL appears with SSIS/SSRS 66 times\", \"type\": \"scatter\", \"x\": [-0.8614088836538238], \"y\": [0.2607196485926465]}, {\"hoverinfo\": \"text\", \"marker\": {\"color\": \"green\", \"size\": 0.5}, \"mode\": \"markers\", \"text\": \"SSIS/SSRS appears with Pentaho 37 times\", \"type\": \"scatter\", \"x\": [0.265033132177459], \"y\": [0.8600915293433633]}, {\"hoverinfo\": \"text\", \"marker\": {\"color\": \"blue\", \"size\": 0.5}, \"mode\": \"markers\", \"text\": \"Pentaho appears with SSIS/SSRS 37 times\", \"type\": \"scatter\", \"x\": [-0.8790403773832393], \"y\": [0.19310104849516566]}, {\"hoverinfo\": \"text\", \"marker\": {\"color\": \"green\", \"size\": 0.5}, \"mode\": \"markers\", \"text\": \"SSIS/SSRS appears with Hadoop 63 times\", \"type\": \"scatter\", \"x\": [0.24066110096061105], \"y\": [0.8672267491748779]}, {\"hoverinfo\": \"text\", \"marker\": {\"color\": \"blue\", \"size\": 0.5}, \"mode\": \"markers\", \"text\": \"Hadoop appears with SSIS/SSRS 63 times\", \"type\": \"scatter\", \"x\": [-0.8970841320996414], \"y\": [0.07238825826771261]}, {\"hoverinfo\": \"text\", \"marker\": {\"color\": \"green\", \"size\": 0.5}, \"mode\": \"markers\", \"text\": \"SSIS/SSRS appears with Spark 63 times\", \"type\": \"scatter\", \"x\": [0.2508539771182474], \"y\": [0.8643334322840682]}, {\"hoverinfo\": \"text\", \"marker\": {\"color\": \"blue\", \"size\": 0.5}, \"mode\": \"markers\", \"text\": \"Spark appears with SSIS/SSRS 63 times\", \"type\": \"scatter\", \"x\": [-0.8897630665697606], \"y\": [-0.13535762028188783]}, {\"hoverinfo\": \"text\", \"marker\": {\"color\": \"green\", \"size\": 0.5}, \"mode\": \"markers\", \"text\": \"SSIS/SSRS appears with Informatica 77 times\", \"type\": \"scatter\", \"x\": [0.20776128248441778], \"y\": [0.875691298061383]}, {\"hoverinfo\": \"text\", \"marker\": {\"color\": \"blue\", \"size\": 0.5}, \"mode\": \"markers\", \"text\": \"Informatica appears with SSIS/SSRS 77 times\", \"type\": \"scatter\", \"x\": [-0.8369497238965404], \"y\": [-0.33093074754320545]}, {\"hoverinfo\": \"text\", \"marker\": {\"color\": \"green\", \"size\": 0.5}, \"mode\": \"markers\", \"text\": \"SSIS/SSRS appears with Qlik 102 times\", \"type\": \"scatter\", \"x\": [0.17811133526147546], \"y\": [0.8821997235611527]}, {\"hoverinfo\": \"text\", \"marker\": {\"color\": \"blue\", \"size\": 0.5}, \"mode\": \"markers\", \"text\": \"Qlik appears with SSIS/SSRS 102 times\", \"type\": \"scatter\", \"x\": [-0.7506402560747539], \"y\": [-0.4965271452398427]}, {\"hoverinfo\": \"text\", \"marker\": {\"color\": \"green\", \"size\": 0.5}, \"mode\": \"markers\", \"text\": \"SSIS/SSRS appears with Tableau 212 times\", \"type\": \"scatter\", \"x\": [0.04892777919330868], \"y\": [0.8986690561175515]}, {\"hoverinfo\": \"text\", \"marker\": {\"color\": \"blue\", \"size\": 0.5}, \"mode\": \"markers\", \"text\": \"Tableau appears with SSIS/SSRS 212 times\", \"type\": \"scatter\", \"x\": [-0.40701632682233463], \"y\": [-0.8027064903811695]}, {\"hoverinfo\": \"text\", \"marker\": {\"color\": \"green\", \"size\": 0.5}, \"mode\": \"markers\", \"text\": \"SSIS/SSRS appears with Microstrategy 38 times\", \"type\": \"scatter\", \"x\": [0.258999419509465], \"y\": [0.8619276655809118]}, {\"hoverinfo\": \"text\", \"marker\": {\"color\": \"blue\", \"size\": 0.5}, \"mode\": \"markers\", \"text\": \"Microstrategy appears with SSIS/SSRS 38 times\", \"type\": \"scatter\", \"x\": [-0.08479400663494795], \"y\": [-0.8959966386314138]}, {\"hoverinfo\": \"text\", \"marker\": {\"color\": \"green\", \"size\": 0.5}, \"mode\": \"markers\", \"text\": \"SSIS/SSRS appears with Oracle BI 336 times\", \"type\": \"scatter\", \"x\": [-0.047563850738980826], \"y\": [0.8987422767973475]}, {\"hoverinfo\": \"text\", \"marker\": {\"color\": \"blue\", \"size\": 0.5}, \"mode\": \"markers\", \"text\": \"Oracle BI appears with SSIS/SSRS 336 times\", \"type\": \"scatter\", \"x\": [0.26265066507896373], \"y\": [-0.86082206531523]}, {\"hoverinfo\": \"text\", \"marker\": {\"color\": \"green\", \"size\": 0.5}, \"mode\": \"markers\", \"text\": \"SSIS/SSRS appears with Python 200 times\", \"type\": \"scatter\", \"x\": [0.0834777684367939], \"y\": [0.8961202275235244]}, {\"hoverinfo\": \"text\", \"marker\": {\"color\": \"blue\", \"size\": 0.5}, \"mode\": \"markers\", \"text\": \"Python appears with SSIS/SSRS 200 times\", \"type\": \"scatter\", \"x\": [0.7123859959387997], \"y\": [-0.5500056297805365]}, {\"hoverinfo\": \"text\", \"marker\": {\"color\": \"green\", \"size\": 0.5}, \"mode\": \"markers\", \"text\": \"SSIS/SSRS appears with VBA 104 times\", \"type\": \"scatter\", \"x\": [0.16109899894848423], \"y\": [0.885464348541372]}, {\"hoverinfo\": \"text\", \"marker\": {\"color\": \"blue\", \"size\": 0.5}, \"mode\": \"markers\", \"text\": \"VBA appears with SSIS/SSRS 104 times\", \"type\": \"scatter\", \"x\": [0.8399136827723046], \"y\": [-0.3233342009312726]}, {\"hoverinfo\": \"text\", \"marker\": {\"color\": \"green\", \"size\": 0.5}, \"mode\": \"markers\", \"text\": \"SSIS/SSRS appears with Linux 25 times\", \"type\": \"scatter\", \"x\": [0.27530044670776543], \"y\": [0.8568603527077822]}, {\"hoverinfo\": \"text\", \"marker\": {\"color\": \"blue\", \"size\": 0.5}, \"mode\": \"markers\", \"text\": \"Linux appears with SSIS/SSRS 25 times\", \"type\": \"scatter\", \"x\": [0.8678109661529059], \"y\": [-0.23854585937458692]}, {\"hoverinfo\": \"text\", \"marker\": {\"color\": \"green\", \"size\": 0.5}, \"mode\": \"markers\", \"text\": \"SSIS/SSRS appears with AWS 33 times\", \"type\": \"scatter\", \"x\": [0.2706528607370795], \"y\": [0.8583396932303872]}, {\"hoverinfo\": \"text\", \"marker\": {\"color\": \"blue\", \"size\": 0.5}, \"mode\": \"markers\", \"text\": \"AWS appears with SSIS/SSRS 33 times\", \"type\": \"scatter\", \"x\": [0.8955884688065041], \"y\": [-0.08900165470833354]}, {\"hoverinfo\": \"text\", \"marker\": {\"color\": \"green\", \"size\": 0.5}, \"mode\": \"markers\", \"text\": \"MS SQL Server appears with PostgreSQL 102 times\", \"type\": \"scatter\", \"x\": [-0.29288462422783823], \"y\": [0.8510103388860315]}, {\"hoverinfo\": \"text\", \"marker\": {\"color\": \"blue\", \"size\": 0.5}, \"mode\": \"markers\", \"text\": \"PostgreSQL appears with MS SQL Server 102 times\", \"type\": \"scatter\", \"x\": [-0.5951521057984173], \"y\": [0.6751251520745688]}, {\"hoverinfo\": \"text\", \"marker\": {\"color\": \"green\", \"size\": 0.5}, \"mode\": \"markers\", \"text\": \"MS SQL Server appears with MySQL/MariaDB 107 times\", \"type\": \"scatter\", \"x\": [-0.30910343864965334], \"y\": [0.845254437560052]}, {\"hoverinfo\": \"text\", \"marker\": {\"color\": \"blue\", \"size\": 0.5}, \"mode\": \"markers\", \"text\": \"MySQL/MariaDB appears with MS SQL Server 107 times\", \"type\": \"scatter\", \"x\": [-0.6919990994707744], \"y\": [0.575445259196422]}, {\"hoverinfo\": \"text\", \"marker\": {\"color\": \"green\", \"size\": 0.5}, \"mode\": \"markers\", \"text\": \"MS SQL Server appears with T-SQL 204 times\", \"type\": \"scatter\", \"x\": [-0.39757093477563116], \"y\": [0.8074263754805331]}, {\"hoverinfo\": \"text\", \"marker\": {\"color\": \"blue\", \"size\": 0.5}, \"mode\": \"markers\", \"text\": \"T-SQL appears with MS SQL Server 204 times\", \"type\": \"scatter\", \"x\": [-0.8366456610889615], \"y\": [0.33169871537438106]}, {\"hoverinfo\": \"text\", \"marker\": {\"color\": \"green\", \"size\": 0.5}, \"mode\": \"markers\", \"text\": \"MS SQL Server appears with PL/SQL 14 times\", \"type\": \"scatter\", \"x\": [-0.21774246045395454], \"y\": [0.8732629735168314]}, {\"hoverinfo\": \"text\", \"marker\": {\"color\": \"blue\", \"size\": 0.5}, \"mode\": \"markers\", \"text\": \"PL/SQL appears with MS SQL Server 14 times\", \"type\": \"scatter\", \"x\": [-0.8541693155263481], \"y\": [0.28353973339419297]}, {\"hoverinfo\": \"text\", \"marker\": {\"color\": \"green\", \"size\": 0.5}, \"mode\": \"markers\", \"text\": \"MS SQL Server appears with Pentaho 51 times\", \"type\": \"scatter\", \"x\": [-0.24836211164560715], \"y\": [0.8650527507030626]}, {\"hoverinfo\": \"text\", \"marker\": {\"color\": \"blue\", \"size\": 0.5}, \"mode\": \"markers\", \"text\": \"Pentaho appears with MS SQL Server 51 times\", \"type\": \"scatter\", \"x\": [-0.8854713981718487], \"y\": [0.16106024655262172]}, {\"hoverinfo\": \"text\", \"marker\": {\"color\": \"green\", \"size\": 0.5}, \"mode\": \"markers\", \"text\": \"MS SQL Server appears with Hadoop 49 times\", \"type\": \"scatter\", \"x\": [-0.24043705243675162], \"y\": [0.8672888929390983]}, {\"hoverinfo\": \"text\", \"marker\": {\"color\": \"blue\", \"size\": 0.5}, \"mode\": \"markers\", \"text\": \"Hadoop appears with MS SQL Server 49 times\", \"type\": \"scatter\", \"x\": [-0.8963594124727795], \"y\": [0.08086905261874712]}, {\"hoverinfo\": \"text\", \"marker\": {\"color\": \"green\", \"size\": 0.5}, \"mode\": \"markers\", \"text\": \"MS SQL Server appears with Spark 48 times\", \"type\": \"scatter\", \"x\": [-0.23273050781574875], \"y\": [0.8693885844269085]}, {\"hoverinfo\": \"text\", \"marker\": {\"color\": \"blue\", \"size\": 0.5}, \"mode\": \"markers\", \"text\": \"Spark appears with MS SQL Server 48 times\", \"type\": \"scatter\", \"x\": [-0.8922328843209396], \"y\": [-0.11798508438076674]}, {\"hoverinfo\": \"text\", \"marker\": {\"color\": \"green\", \"size\": 0.5}, \"mode\": \"markers\", \"text\": \"MS SQL Server appears with Informatica 72 times\", \"type\": \"scatter\", \"x\": [-0.26784652033645906], \"y\": [0.8592195537484298]}, {\"hoverinfo\": \"text\", \"marker\": {\"color\": \"blue\", \"size\": 0.5}, \"mode\": \"markers\", \"text\": \"Informatica appears with MS SQL Server 72 times\", \"type\": \"scatter\", \"x\": [-0.8408421052059062], \"y\": [-0.32091206601326133]}, {\"hoverinfo\": \"text\", \"marker\": {\"color\": \"green\", \"size\": 0.5}, \"mode\": \"markers\", \"text\": \"MS SQL Server appears with Qlik 73 times\", \"type\": \"scatter\", \"x\": [-0.2792216500640908], \"y\": [0.8555905972692117]}, {\"hoverinfo\": \"text\", \"marker\": {\"color\": \"blue\", \"size\": 0.5}, \"mode\": \"markers\", \"text\": \"Qlik appears with MS SQL Server 73 times\", \"type\": \"scatter\", \"x\": [-0.7736034234849837], \"y\": [-0.45993232455689936]}, {\"hoverinfo\": \"text\", \"marker\": {\"color\": \"green\", \"size\": 0.5}, \"mode\": \"markers\", \"text\": \"MS SQL Server appears with Tableau 139 times\", \"type\": \"scatter\", \"x\": [-0.34834604536955865], \"y\": [0.8298524162014529]}, {\"hoverinfo\": \"text\", \"marker\": {\"color\": \"blue\", \"size\": 0.5}, \"mode\": \"markers\", \"text\": \"Tableau appears with MS SQL Server 139 times\", \"type\": \"scatter\", \"x\": [-0.45884850775034197], \"y\": [-0.774246761010522]}, {\"hoverinfo\": \"text\", \"marker\": {\"color\": \"green\", \"size\": 0.5}, \"mode\": \"markers\", \"text\": \"MS SQL Server appears with Microstrategy 24 times\", \"type\": \"scatter\", \"x\": [-0.22077729776271626], \"y\": [0.8725006503106992]}, {\"hoverinfo\": \"text\", \"marker\": {\"color\": \"blue\", \"size\": 0.5}, \"mode\": \"markers\", \"text\": \"Microstrategy appears with MS SQL Server 24 times\", \"type\": \"scatter\", \"x\": [-0.0952359149113413], \"y\": [-0.894946993129202]}, {\"hoverinfo\": \"text\", \"marker\": {\"color\": \"green\", \"size\": 0.5}, \"mode\": \"markers\", \"text\": \"MS SQL Server appears with Oracle BI 208 times\", \"type\": \"scatter\", \"x\": [-0.42771788767652275], \"y\": [0.7918695653714275]}, {\"hoverinfo\": \"text\", \"marker\": {\"color\": \"blue\", \"size\": 0.5}, \"mode\": \"markers\", \"text\": \"Oracle BI appears with MS SQL Server 208 times\", \"type\": \"scatter\", \"x\": [0.18201818951598897], \"y\": [-0.8814019393473794]}, {\"hoverinfo\": \"text\", \"marker\": {\"color\": \"green\", \"size\": 0.5}, \"mode\": \"markers\", \"text\": \"MS SQL Server appears with Python 133 times\", \"type\": \"scatter\", \"x\": [-0.32758813965173245], \"y\": [0.8382636880835989]}, {\"hoverinfo\": \"text\", \"marker\": {\"color\": \"blue\", \"size\": 0.5}, \"mode\": \"markers\", \"text\": \"Python appears with MS SQL Server 133 times\", \"type\": \"scatter\", \"x\": [0.6539770942727307], \"y\": [-0.6183154212589203]}, {\"hoverinfo\": \"text\", \"marker\": {\"color\": \"green\", \"size\": 0.5}, \"mode\": \"markers\", \"text\": \"MS SQL Server appears with VBA 39 times\", \"type\": \"scatter\", \"x\": [-0.2258028408469249], \"y\": [0.8712135657033001]}, {\"hoverinfo\": \"text\", \"marker\": {\"color\": \"blue\", \"size\": 0.5}, \"mode\": \"markers\", \"text\": \"VBA appears with MS SQL Server 39 times\", \"type\": \"scatter\", \"x\": [0.8192685122656185], \"y\": [-0.3725575187941857]}, {\"hoverinfo\": \"text\", \"marker\": {\"color\": \"green\", \"size\": 0.5}, \"mode\": \"markers\", \"text\": \"MS SQL Server appears with Linux 62 times\", \"type\": \"scatter\", \"x\": [-0.2572923731647398], \"y\": [0.8624387715723686]}, {\"hoverinfo\": \"text\", \"marker\": {\"color\": \"blue\", \"size\": 0.5}, \"mode\": \"markers\", \"text\": \"Linux appears with MS SQL Server 62 times\", \"type\": \"scatter\", \"x\": [0.8777279036496911], \"y\": [-0.1989817256803211]}, {\"hoverinfo\": \"text\", \"marker\": {\"color\": \"green\", \"size\": 0.5}, \"mode\": \"markers\", \"text\": \"MS SQL Server appears with AWS 13 times\", \"type\": \"scatter\", \"x\": [-0.21558452703898798], \"y\": [0.8737982099440212]}, {\"hoverinfo\": \"text\", \"marker\": {\"color\": \"blue\", \"size\": 0.5}, \"mode\": \"markers\", \"text\": \"AWS appears with MS SQL Server 13 times\", \"type\": \"scatter\", \"x\": [0.8946051792940137], \"y\": [-0.09839498554461831]}, {\"hoverinfo\": \"text\", \"marker\": {\"color\": \"green\", \"size\": 0.5}, \"mode\": \"markers\", \"text\": \"PostgreSQL appears with MySQL/MariaDB 112 times\", \"type\": \"scatter\", \"x\": [-0.6058134583958669], \"y\": [0.6655749797178673]}, {\"hoverinfo\": \"text\", \"marker\": {\"color\": \"blue\", \"size\": 0.5}, \"mode\": \"markers\", \"text\": \"MySQL/MariaDB appears with PostgreSQL 112 times\", \"type\": \"scatter\", \"x\": [-0.7021998817822113], \"y\": [0.5629523301533164]}, {\"hoverinfo\": \"text\", \"marker\": {\"color\": \"green\", \"size\": 0.5}, \"mode\": \"markers\", \"text\": \"PostgreSQL appears with T-SQL 45 times\", \"type\": \"scatter\", \"x\": [-0.5569852710730145], \"y\": [0.7069422945387556]}, {\"hoverinfo\": \"text\", \"marker\": {\"color\": \"blue\", \"size\": 0.5}, \"mode\": \"markers\", \"text\": \"T-SQL appears with PostgreSQL 45 times\", \"type\": \"scatter\", \"x\": [-0.7624126119646459], \"y\": [0.4782541260849157]}, {\"hoverinfo\": \"text\", \"marker\": {\"color\": \"green\", \"size\": 0.5}, \"mode\": \"markers\", \"text\": \"PostgreSQL appears with PL/SQL 3 times\", \"type\": \"scatter\", \"x\": [-0.5467354080023153], \"y\": [0.7148988695169001]}, {\"hoverinfo\": \"text\", \"marker\": {\"color\": \"blue\", \"size\": 0.5}, \"mode\": \"markers\", \"text\": \"PL/SQL appears with PostgreSQL 3 times\", \"type\": \"scatter\", \"x\": [-0.8522836280376285], \"y\": [0.28915846413172375]}, {\"hoverinfo\": \"text\", \"marker\": {\"color\": \"green\", \"size\": 0.5}, \"mode\": \"markers\", \"text\": \"PostgreSQL appears with Pentaho 52 times\", \"type\": \"scatter\", \"x\": [-0.5672751516096772], \"y\": [0.6987123173139413]}, {\"hoverinfo\": \"text\", \"marker\": {\"color\": \"blue\", \"size\": 0.5}, \"mode\": \"markers\", \"text\": \"Pentaho appears with PostgreSQL 52 times\", \"type\": \"scatter\", \"x\": [-0.8866560565489707], \"y\": [0.1544054318507886]}, {\"hoverinfo\": \"text\", \"marker\": {\"color\": \"green\", \"size\": 0.5}, \"mode\": \"markers\", \"text\": \"PostgreSQL appears with Hadoop 4 times\", \"type\": \"scatter\", \"x\": [-0.5471072375970862], \"y\": [0.7146143509396418]}, {\"hoverinfo\": \"text\", \"marker\": {\"color\": \"blue\", \"size\": 0.5}, \"mode\": \"markers\", \"text\": \"Hadoop appears with PostgreSQL 4 times\", \"type\": \"scatter\", \"x\": [-0.8938738492222256], \"y\": [0.10483101486030756]}, {\"hoverinfo\": \"text\", \"marker\": {\"color\": \"green\", \"size\": 0.5}, \"mode\": \"markers\", \"text\": \"PostgreSQL appears with Spark 13 times\", \"type\": \"scatter\", \"x\": [-0.5492821200538365], \"y\": [0.7129440038243978]}, {\"hoverinfo\": \"text\", \"marker\": {\"color\": \"blue\", \"size\": 0.5}, \"mode\": \"markers\", \"text\": \"Spark appears with PostgreSQL 13 times\", \"type\": \"scatter\", \"x\": [-0.8954526698817054], \"y\": [-0.09035771135728031]}, {\"hoverinfo\": \"text\", \"marker\": {\"color\": \"green\", \"size\": 0.5}, \"mode\": \"markers\", \"text\": \"PostgreSQL appears with Informatica 2 times\", \"type\": \"scatter\", \"x\": [-0.5464697248400809], \"y\": [0.7151019786248716]}, {\"hoverinfo\": \"text\", \"marker\": {\"color\": \"blue\", \"size\": 0.5}, \"mode\": \"markers\", \"text\": \"Informatica appears with PostgreSQL 2 times\", \"type\": \"scatter\", \"x\": [-0.8543944799800921], \"y\": [-0.28286051788743516]}, {\"hoverinfo\": \"text\", \"marker\": {\"color\": \"green\", \"size\": 0.5}, \"mode\": \"markers\", \"text\": \"PostgreSQL appears with Qlik 14 times\", \"type\": \"scatter\", \"x\": [-0.5507115760502229], \"y\": [0.7118404034643437]}, {\"hoverinfo\": \"text\", \"marker\": {\"color\": \"blue\", \"size\": 0.5}, \"mode\": \"markers\", \"text\": \"Qlik appears with PostgreSQL 14 times\", \"type\": \"scatter\", \"x\": [-0.7947839717909473], \"y\": [-0.42227767900305446]}, {\"hoverinfo\": \"text\", \"marker\": {\"color\": \"green\", \"size\": 0.5}, \"mode\": \"markers\", \"text\": \"PostgreSQL appears with Tableau 6 times\", \"type\": \"scatter\", \"x\": [-0.5476381658650841], \"y\": [0.7142075603687815]}, {\"hoverinfo\": \"text\", \"marker\": {\"color\": \"blue\", \"size\": 0.5}, \"mode\": \"markers\", \"text\": \"Tableau appears with PostgreSQL 6 times\", \"type\": \"scatter\", \"x\": [-0.5639279981494983], \"y\": [-0.7014165758685059]}, {\"hoverinfo\": \"text\", \"marker\": {\"color\": \"green\", \"size\": 0.5}, \"mode\": \"markers\", \"text\": \"PostgreSQL appears with Oracle BI 52 times\", \"type\": \"scatter\", \"x\": [-0.5726584739046138], \"y\": [0.6943070446605297]}, {\"hoverinfo\": \"text\", \"marker\": {\"color\": \"blue\", \"size\": 0.5}, \"mode\": \"markers\", \"text\": \"Oracle BI appears with PostgreSQL 52 times\", \"type\": \"scatter\", \"x\": [-0.01504567847341962], \"y\": [-0.8998742287449255]}, {\"hoverinfo\": \"text\", \"marker\": {\"color\": \"green\", \"size\": 0.5}, \"mode\": \"markers\", \"text\": \"PostgreSQL appears with Python 30 times\", \"type\": \"scatter\", \"x\": [-0.5530363063608428], \"y\": [0.7100358046230881]}, {\"hoverinfo\": \"text\", \"marker\": {\"color\": \"blue\", \"size\": 0.5}, \"mode\": \"markers\", \"text\": \"Python appears with PostgreSQL 30 times\", \"type\": \"scatter\", \"x\": [0.5597801138723163], \"y\": [-0.7047313134188778]}, {\"hoverinfo\": \"text\", \"marker\": {\"color\": \"green\", \"size\": 0.5}, \"mode\": \"markers\", \"text\": \"PostgreSQL appears with Linux 50 times\", \"type\": \"scatter\", \"x\": [-0.5619624369297572], \"y\": [0.7029923324474945]}, {\"hoverinfo\": \"text\", \"marker\": {\"color\": \"blue\", \"size\": 0.5}, \"mode\": \"markers\", \"text\": \"Linux appears with PostgreSQL 50 times\", \"type\": \"scatter\", \"x\": [0.8740797181973596], \"y\": [-0.21444030926116547]}, {\"hoverinfo\": \"text\", \"marker\": {\"color\": \"green\", \"size\": 0.5}, \"mode\": \"markers\", \"text\": \"PostgreSQL appears with AWS 6 times\", \"type\": \"scatter\", \"x\": [-0.5482748805125994], \"y\": [0.7137188910200534]}, {\"hoverinfo\": \"text\", \"marker\": {\"color\": \"blue\", \"size\": 0.5}, \"mode\": \"markers\", \"text\": \"AWS appears with PostgreSQL 6 times\", \"type\": \"scatter\", \"x\": [0.8943548152866627], \"y\": [-0.10064524019326235]}, {\"hoverinfo\": \"text\", \"marker\": {\"color\": \"green\", \"size\": 0.5}, \"mode\": \"markers\", \"text\": \"MySQL/MariaDB appears with T-SQL 43 times\", \"type\": \"scatter\", \"x\": [-0.6426472318280405], \"y\": [0.6300829591599482]}, {\"hoverinfo\": \"text\", \"marker\": {\"color\": \"blue\", \"size\": 0.5}, \"mode\": \"markers\", \"text\": \"T-SQL appears with MySQL/MariaDB 43 times\", \"type\": \"scatter\", \"x\": [-0.7548199634317226], \"y\": [0.4901497962918407]}, {\"hoverinfo\": \"text\", \"marker\": {\"color\": \"green\", \"size\": 0.5}, \"mode\": \"markers\", \"text\": \"MySQL/MariaDB appears with PL/SQL 1 times\", \"type\": \"scatter\", \"x\": [-0.6318302178991378], \"y\": [0.6409294623821938]}, {\"hoverinfo\": \"text\", \"marker\": {\"color\": \"blue\", \"size\": 0.5}, \"mode\": \"markers\", \"text\": \"PL/SQL appears with MySQL/MariaDB 1 times\", \"type\": \"scatter\", \"x\": [-0.8520193271176723], \"y\": [0.28993631407250275]}, {\"hoverinfo\": \"text\", \"marker\": {\"color\": \"green\", \"size\": 0.5}, \"mode\": \"markers\", \"text\": \"MySQL/MariaDB appears with Pentaho 70 times\", \"type\": \"scatter\", \"x\": [-0.6670422587203586], \"y\": [0.6041975050273232]}, {\"hoverinfo\": \"text\", \"marker\": {\"color\": \"blue\", \"size\": 0.5}, \"mode\": \"markers\", \"text\": \"Pentaho appears with MySQL/MariaDB 70 times\", \"type\": \"scatter\", \"x\": [-0.8894037731792422], \"y\": [0.13769868646623712]}, {\"hoverinfo\": \"text\", \"marker\": {\"color\": \"green\", \"size\": 0.5}, \"mode\": \"markers\", \"text\": \"MySQL/MariaDB appears with Hadoop 9 times\", \"type\": \"scatter\", \"x\": [-0.633715580160221], \"y\": [0.639065382775655]}, {\"hoverinfo\": \"text\", \"marker\": {\"color\": \"blue\", \"size\": 0.5}, \"mode\": \"markers\", \"text\": \"Hadoop appears with MySQL/MariaDB 9 times\", \"type\": \"scatter\", \"x\": [-0.8941970143798407], \"y\": [0.10203773554023546]}, {\"hoverinfo\": \"text\", \"marker\": {\"color\": \"green\", \"size\": 0.5}, \"mode\": \"markers\", \"text\": \"MySQL/MariaDB appears with Spark 32 times\", \"type\": \"scatter\", \"x\": [-0.6387681656586316], \"y\": [0.6340151658604919]}, {\"hoverinfo\": \"text\", \"marker\": {\"color\": \"blue\", \"size\": 0.5}, \"mode\": \"markers\", \"text\": \"Spark appears with MySQL/MariaDB 32 times\", \"type\": \"scatter\", \"x\": [-0.8945755718839654], \"y\": [-0.09866380384151126]}, {\"hoverinfo\": \"text\", \"marker\": {\"color\": \"green\", \"size\": 0.5}, \"mode\": \"markers\", \"text\": \"MySQL/MariaDB appears with Informatica 11 times\", \"type\": \"scatter\", \"x\": [-0.6347606283382418], \"y\": [0.6380273855498999]}, {\"hoverinfo\": \"text\", \"marker\": {\"color\": \"blue\", \"size\": 0.5}, \"mode\": \"markers\", \"text\": \"Informatica appears with MySQL/MariaDB 11 times\", \"type\": \"scatter\", \"x\": [-0.8534145259359966], \"y\": [-0.2858035110376326]}, {\"hoverinfo\": \"text\", \"marker\": {\"color\": \"green\", \"size\": 0.5}, \"mode\": \"markers\", \"text\": \"MySQL/MariaDB appears with Qlik 17 times\", \"type\": \"scatter\", \"x\": [-0.6362208388424085], \"y\": [0.6365713190386935]}, {\"hoverinfo\": \"text\", \"marker\": {\"color\": \"blue\", \"size\": 0.5}, \"mode\": \"markers\", \"text\": \"Qlik appears with MySQL/MariaDB 17 times\", \"type\": \"scatter\", \"x\": [-0.7923380818659731], \"y\": [-0.4268493458176438]}, {\"hoverinfo\": \"text\", \"marker\": {\"color\": \"green\", \"size\": 0.5}, \"mode\": \"markers\", \"text\": \"MySQL/MariaDB appears with Tableau 64 times\", \"type\": \"scatter\", \"x\": [-0.6536325669775155], \"y\": [0.6186796161070638]}, {\"hoverinfo\": \"text\", \"marker\": {\"color\": \"blue\", \"size\": 0.5}, \"mode\": \"markers\", \"text\": \"Tableau appears with MySQL/MariaDB 64 times\", \"type\": \"scatter\", \"x\": [-0.5328492330476197], \"y\": [-0.7253079999838438]}, {\"hoverinfo\": \"text\", \"marker\": {\"color\": \"green\", \"size\": 0.5}, \"mode\": \"markers\", \"text\": \"MySQL/MariaDB appears with Oracle BI 79 times\", \"type\": \"scatter\", \"x\": [-0.6743592963436326], \"y\": [0.5960197475209364]}, {\"hoverinfo\": \"text\", \"marker\": {\"color\": \"blue\", \"size\": 0.5}, \"mode\": \"markers\", \"text\": \"Oracle BI appears with MySQL/MariaDB 79 times\", \"type\": \"scatter\", \"x\": [0.038822312979300715], \"y\": [-0.899162292367144]}, {\"hoverinfo\": \"text\", \"marker\": {\"color\": \"green\", \"size\": 0.5}, \"mode\": \"markers\", \"text\": \"MySQL/MariaDB appears with Python 67 times\", \"type\": \"scatter\", \"x\": [-0.6602269818463153], \"y\": [0.6116374190990159]}, {\"hoverinfo\": \"text\", \"marker\": {\"color\": \"blue\", \"size\": 0.5}, \"mode\": \"markers\", \"text\": \"Python appears with MySQL/MariaDB 67 times\", \"type\": \"scatter\", \"x\": [0.5820479866490259], \"y\": [-0.6864547627031335]}, {\"hoverinfo\": \"text\", \"marker\": {\"color\": \"green\", \"size\": 0.5}, \"mode\": \"markers\", \"text\": \"MySQL/MariaDB appears with VBA 6 times\", \"type\": \"scatter\", \"x\": [-0.6329306799608091], \"y\": [0.6398427575305887]}, {\"hoverinfo\": \"text\", \"marker\": {\"color\": \"blue\", \"size\": 0.5}, \"mode\": \"markers\", \"text\": \"VBA appears with MySQL/MariaDB 6 times\", \"type\": \"scatter\", \"x\": [0.811930629851518], \"y\": [-0.3882893924754029]}, {\"hoverinfo\": \"text\", \"marker\": {\"color\": \"green\", \"size\": 0.5}, \"mode\": \"markers\", \"text\": \"MySQL/MariaDB appears with Linux 54 times\", \"type\": \"scatter\", \"x\": [-0.6476282384325109], \"y\": [0.6249621306805739]}, {\"hoverinfo\": \"text\", \"marker\": {\"color\": \"blue\", \"size\": 0.5}, \"mode\": \"markers\", \"text\": \"Linux appears with MySQL/MariaDB 54 times\", \"type\": \"scatter\", \"x\": [0.8758383145752542], \"y\": [-0.20714064478507893]}, {\"hoverinfo\": \"text\", \"marker\": {\"color\": \"green\", \"size\": 0.5}, \"mode\": \"markers\", \"text\": \"MySQL/MariaDB appears with AWS 2 times\", \"type\": \"scatter\", \"x\": [-0.6319875410739472], \"y\": [0.6407743346352958]}, {\"hoverinfo\": \"text\", \"marker\": {\"color\": \"blue\", \"size\": 0.5}, \"mode\": \"markers\", \"text\": \"AWS appears with MySQL/MariaDB 2 times\", \"type\": \"scatter\", \"x\": [0.8941504486646432], \"y\": [-0.10244498598183005]}, {\"hoverinfo\": \"text\", \"marker\": {\"color\": \"green\", \"size\": 0.5}, \"mode\": \"markers\", \"text\": \"T-SQL appears with PL/SQL 52 times\", \"type\": \"scatter\", \"x\": [-0.7664713863287743], \"y\": [0.471721966776243]}, {\"hoverinfo\": \"text\", \"marker\": {\"color\": \"blue\", \"size\": 0.5}, \"mode\": \"markers\", \"text\": \"PL/SQL appears with T-SQL 52 times\", \"type\": \"scatter\", \"x\": [-0.8593775209326717], \"y\": [0.267339253600393]}, {\"hoverinfo\": \"text\", \"marker\": {\"color\": \"green\", \"size\": 0.5}, \"mode\": \"markers\", \"text\": \"T-SQL appears with Pentaho 45 times\", \"type\": \"scatter\", \"x\": [-0.7585969452550887], \"y\": [0.4842836716735842]}, {\"hoverinfo\": \"text\", \"marker\": {\"color\": \"blue\", \"size\": 0.5}, \"mode\": \"markers\", \"text\": \"Pentaho appears with T-SQL 45 times\", \"type\": \"scatter\", \"x\": [-0.8843222783860119], \"y\": [0.16725462011607622]}, {\"hoverinfo\": \"text\", \"marker\": {\"color\": \"green\", \"size\": 0.5}, \"mode\": \"markers\", \"text\": \"T-SQL appears with Hadoop 39 times\", \"type\": \"scatter\", \"x\": [-0.7512596712041476], \"y\": [0.4955894535018236]}, {\"hoverinfo\": \"text\", \"marker\": {\"color\": \"blue\", \"size\": 0.5}, \"mode\": \"markers\", \"text\": \"Hadoop appears with T-SQL 39 times\", \"type\": \"scatter\", \"x\": [-0.895106213897562], \"y\": [0.09372761515141684]}, {\"hoverinfo\": \"text\", \"marker\": {\"color\": \"green\", \"size\": 0.5}, \"mode\": \"markers\", \"text\": \"T-SQL appears with Spark 39 times\", \"type\": \"scatter\", \"x\": [-0.7478366701327787], \"y\": [0.5007397675486916]}, {\"hoverinfo\": \"text\", \"marker\": {\"color\": \"blue\", \"size\": 0.5}, \"mode\": \"markers\", \"text\": \"Spark appears with T-SQL 39 times\", \"type\": \"scatter\", \"x\": [-0.8939628090790812], \"y\": [-0.1040696688927091]}, {\"hoverinfo\": \"text\", \"marker\": {\"color\": \"green\", \"size\": 0.5}, \"mode\": \"markers\", \"text\": \"T-SQL appears with Informatica 15 times\", \"type\": \"scatter\", \"x\": [-0.7385364958651299], \"y\": [0.5143577007057004]}, {\"hoverinfo\": \"text\", \"marker\": {\"color\": \"blue\", \"size\": 0.5}, \"mode\": \"markers\", \"text\": \"Informatica appears with T-SQL 15 times\", \"type\": \"scatter\", \"x\": [-0.8521695286219394], \"y\": [-0.2894945500147827]}, {\"hoverinfo\": \"text\", \"marker\": {\"color\": \"green\", \"size\": 0.5}, \"mode\": \"markers\", \"text\": \"T-SQL appears with Qlik 78 times\", \"type\": \"scatter\", \"x\": [-0.7826924696945953], \"y\": [0.44428875507194093]}, {\"hoverinfo\": \"text\", \"marker\": {\"color\": \"blue\", \"size\": 0.5}, \"mode\": \"markers\", \"text\": \"Qlik appears with T-SQL 78 times\", \"type\": \"scatter\", \"x\": [-0.7671791530397589], \"y\": [-0.4705700236321883]}, {\"hoverinfo\": \"text\", \"marker\": {\"color\": \"green\", \"size\": 0.5}, \"mode\": \"markers\", \"text\": \"T-SQL appears with Tableau 123 times\", \"type\": \"scatter\", \"x\": [-0.7904361865499336], \"y\": [0.4303610518999117]}, {\"hoverinfo\": \"text\", \"marker\": {\"color\": \"blue\", \"size\": 0.5}, \"mode\": \"markers\", \"text\": \"Tableau appears with T-SQL 123 times\", \"type\": \"scatter\", \"x\": [-0.47767081842953435], \"y\": [-0.7627782044741832]}, {\"hoverinfo\": \"text\", \"marker\": {\"color\": \"green\", \"size\": 0.5}, \"mode\": \"markers\", \"text\": \"T-SQL appears with Microstrategy 19 times\", \"type\": \"scatter\", \"x\": [-0.7400737529662706], \"y\": [0.512143378528337]}, {\"hoverinfo\": \"text\", \"marker\": {\"color\": \"blue\", \"size\": 0.5}, \"mode\": \"markers\", \"text\": \"Microstrategy appears with T-SQL 19 times\", \"type\": \"scatter\", \"x\": [-0.10262928923056679], \"y\": [-0.89412931335016]}, {\"hoverinfo\": \"text\", \"marker\": {\"color\": \"green\", \"size\": 0.5}, \"mode\": \"markers\", \"text\": \"T-SQL appears with Oracle BI 173 times\", \"type\": \"scatter\", \"x\": [-0.8124783333562025], \"y\": [0.38714203830987887]}, {\"hoverinfo\": \"text\", \"marker\": {\"color\": \"blue\", \"size\": 0.5}, \"mode\": \"markers\", \"text\": \"Oracle BI appears with T-SQL 173 times\", \"type\": \"scatter\", \"x\": [0.11664515225982168], \"y\": [-0.8924090477209893]}, {\"hoverinfo\": \"text\", \"marker\": {\"color\": \"green\", \"size\": 0.5}, \"mode\": \"markers\", \"text\": \"T-SQL appears with Python 68 times\", \"type\": \"scatter\", \"x\": [-0.7714150758276022], \"y\": [0.463593335571053]}, {\"hoverinfo\": \"text\", \"marker\": {\"color\": \"blue\", \"size\": 0.5}, \"mode\": \"markers\", \"text\": \"Python appears with T-SQL 68 times\", \"type\": \"scatter\", \"x\": [0.5905513819722612], \"y\": [-0.6791531971879778]}, {\"hoverinfo\": \"text\", \"marker\": {\"color\": \"green\", \"size\": 0.5}, \"mode\": \"markers\", \"text\": \"T-SQL appears with VBA 27 times\", \"type\": \"scatter\", \"x\": [-0.7421430014228086], \"y\": [0.5091402217848685]}, {\"hoverinfo\": \"text\", \"marker\": {\"color\": \"blue\", \"size\": 0.5}, \"mode\": \"markers\", \"text\": \"VBA appears with T-SQL 27 times\", \"type\": \"scatter\", \"x\": [0.8153763344998018], \"y\": [-0.38100056842171154]}, {\"hoverinfo\": \"text\", \"marker\": {\"color\": \"green\", \"size\": 0.5}, \"mode\": \"markers\", \"text\": \"T-SQL appears with Linux 31 times\", \"type\": \"scatter\", \"x\": [-0.7447346798644139], \"y\": [0.5053417226068406]}, {\"hoverinfo\": \"text\", \"marker\": {\"color\": \"blue\", \"size\": 0.5}, \"mode\": \"markers\", \"text\": \"Linux appears with T-SQL 31 times\", \"type\": \"scatter\", \"x\": [0.8699931381696774], \"y\": [-0.23046027757007628]}, {\"hoverinfo\": \"text\", \"marker\": {\"color\": \"green\", \"size\": 0.5}, \"mode\": \"markers\", \"text\": \"T-SQL appears with AWS 13 times\", \"type\": \"scatter\", \"x\": [-0.7372655441159971], \"y\": [0.5161777963641431]}, {\"hoverinfo\": \"text\", \"marker\": {\"color\": \"blue\", \"size\": 0.5}, \"mode\": \"markers\", \"text\": \"AWS appears with T-SQL 13 times\", \"type\": \"scatter\", \"x\": [0.8947874989374824], \"y\": [-0.09672296389795342]}, {\"hoverinfo\": \"text\", \"marker\": {\"color\": \"green\", \"size\": 0.5}, \"mode\": \"markers\", \"text\": \"PL/SQL appears with Pentaho 8 times\", \"type\": \"scatter\", \"x\": [-0.8529412730081722], \"y\": [0.28721278662204197]}, {\"hoverinfo\": \"text\", \"marker\": {\"color\": \"blue\", \"size\": 0.5}, \"mode\": \"markers\", \"text\": \"Pentaho appears with PL/SQL 8 times\", \"type\": \"scatter\", \"x\": [-0.8755722193309127], \"y\": [0.20826254760743748]}, {\"hoverinfo\": \"text\", \"marker\": {\"color\": \"green\", \"size\": 0.5}, \"mode\": \"markers\", \"text\": \"PL/SQL appears with Hadoop 7 times\", \"type\": \"scatter\", \"x\": [-0.8526599688557893], \"y\": [0.2880468321486011]}, {\"hoverinfo\": \"text\", \"marker\": {\"color\": \"blue\", \"size\": 0.5}, \"mode\": \"markers\", \"text\": \"Hadoop appears with PL/SQL 7 times\", \"type\": \"scatter\", \"x\": [-0.894058338268955], \"y\": [0.10324576394097193]}, {\"hoverinfo\": \"text\", \"marker\": {\"color\": \"green\", \"size\": 0.5}, \"mode\": \"markers\", \"text\": \"PL/SQL appears with Informatica 35 times\", \"type\": \"scatter\", \"x\": [-0.8578472362557242], \"y\": [0.2722096971976121]}, {\"hoverinfo\": \"text\", \"marker\": {\"color\": \"blue\", \"size\": 0.5}, \"mode\": \"markers\", \"text\": \"Informatica appears with PL/SQL 35 times\", \"type\": \"scatter\", \"x\": [-0.8454090599164973], \"y\": [-0.30868028996212965]}, {\"hoverinfo\": \"text\", \"marker\": {\"color\": \"green\", \"size\": 0.5}, \"mode\": \"markers\", \"text\": \"PL/SQL appears with Qlik 20 times\", \"type\": \"scatter\", \"x\": [-0.8547957719435053], \"y\": [0.2816455010602989]}, {\"hoverinfo\": \"text\", \"marker\": {\"color\": \"blue\", \"size\": 0.5}, \"mode\": \"markers\", \"text\": \"Qlik appears with PL/SQL 20 times\", \"type\": \"scatter\", \"x\": [-0.7908893445371656], \"y\": [-0.42952769956962333]}, {\"hoverinfo\": \"text\", \"marker\": {\"color\": \"green\", \"size\": 0.5}, \"mode\": \"markers\", \"text\": \"PL/SQL appears with Tableau 31 times\", \"type\": \"scatter\", \"x\": [-0.8566679153225678], \"y\": [0.2758986822311512]}, {\"hoverinfo\": \"text\", \"marker\": {\"color\": \"blue\", \"size\": 0.5}, \"mode\": \"markers\", \"text\": \"Tableau appears with PL/SQL 31 times\", \"type\": \"scatter\", \"x\": [-0.5575450557756972], \"y\": [-0.7065008922712517]}, {\"hoverinfo\": \"text\", \"marker\": {\"color\": \"green\", \"size\": 0.5}, \"mode\": \"markers\", \"text\": \"PL/SQL appears with Microstrategy 26 times\", \"type\": \"scatter\", \"x\": [-0.8556366438128973], \"y\": [0.2790805148422249]}, {\"hoverinfo\": \"text\", \"marker\": {\"color\": \"blue\", \"size\": 0.5}, \"mode\": \"markers\", \"text\": \"Microstrategy appears with PL/SQL 26 times\", \"type\": \"scatter\", \"x\": [-0.09236848878956339], \"y\": [-0.8952474866084419]}, {\"hoverinfo\": \"text\", \"marker\": {\"color\": \"green\", \"size\": 0.5}, \"mode\": \"markers\", \"text\": \"PL/SQL appears with Oracle BI 102 times\", \"type\": \"scatter\", \"x\": [-0.8663752794030416], \"y\": [0.24370858671639323]}, {\"hoverinfo\": \"text\", \"marker\": {\"color\": \"blue\", \"size\": 0.5}, \"mode\": \"markers\", \"text\": \"Oracle BI appears with PL/SQL 102 times\", \"type\": \"scatter\", \"x\": [0.06966304743346452], \"y\": [-0.8972998717386974]}, {\"hoverinfo\": \"text\", \"marker\": {\"color\": \"green\", \"size\": 0.5}, \"mode\": \"markers\", \"text\": \"PL/SQL appears with Python 3 times\", \"type\": \"scatter\", \"x\": [-0.8521704431575055], \"y\": [0.28949185793168847]}, {\"hoverinfo\": \"text\", \"marker\": {\"color\": \"blue\", \"size\": 0.5}, \"mode\": \"markers\", \"text\": \"Python appears with PL/SQL 3 times\", \"type\": \"scatter\", \"x\": [0.5550217234931069], \"y\": [-0.708484923234603]}, {\"hoverinfo\": \"text\", \"marker\": {\"color\": \"green\", \"size\": 0.5}, \"mode\": \"markers\", \"text\": \"PL/SQL appears with VBA 11 times\", \"type\": \"scatter\", \"x\": [-0.8532964203872565], \"y\": [0.286155934682988]}, {\"hoverinfo\": \"text\", \"marker\": {\"color\": \"blue\", \"size\": 0.5}, \"mode\": \"markers\", \"text\": \"VBA appears with PL/SQL 11 times\", \"type\": \"scatter\", \"x\": [0.8142040758121877], \"y\": [-0.38349931281662225]}, {\"hoverinfo\": \"text\", \"marker\": {\"color\": \"green\", \"size\": 0.5}, \"mode\": \"markers\", \"text\": \"PL/SQL appears with Linux 5 times\", \"type\": \"scatter\", \"x\": [-0.8524343383118576], \"y\": [0.28871387023630435]}, {\"hoverinfo\": \"text\", \"marker\": {\"color\": \"blue\", \"size\": 0.5}, \"mode\": \"markers\", \"text\": \"Linux appears with PL/SQL 5 times\", \"type\": \"scatter\", \"x\": [0.8653952077805834], \"y\": [-0.24716620794599087]}, {\"hoverinfo\": \"text\", \"marker\": {\"color\": \"green\", \"size\": 0.5}, \"mode\": \"markers\", \"text\": \"PL/SQL appears with AWS 2 times\", \"type\": \"scatter\", \"x\": [-0.8520760228000009], \"y\": [0.28976965225732737]}, {\"hoverinfo\": \"text\", \"marker\": {\"color\": \"blue\", \"size\": 0.5}, \"mode\": \"markers\", \"text\": \"AWS appears with PL/SQL 2 times\", \"type\": \"scatter\", \"x\": [0.8941798656523379], \"y\": [-0.10218790467549002]}, {\"hoverinfo\": \"text\", \"marker\": {\"color\": \"green\", \"size\": 0.5}, \"mode\": \"markers\", \"text\": \"Pentaho appears with Spark 8 times\", \"type\": \"scatter\", \"x\": [-0.8753286477632941], \"y\": [0.20928391817070655]}, {\"hoverinfo\": \"text\", \"marker\": {\"color\": \"blue\", \"size\": 0.5}, \"mode\": \"markers\", \"text\": \"Spark appears with Pentaho 8 times\", \"type\": \"scatter\", \"x\": [-0.8957626313938275], \"y\": [-0.08723134871367032]}, {\"hoverinfo\": \"text\", \"marker\": {\"color\": \"green\", \"size\": 0.5}, \"mode\": \"markers\", \"text\": \"Pentaho appears with Informatica 37 times\", \"type\": \"scatter\", \"x\": [-0.8779856326252905], \"y\": [0.19784142362904797]}, {\"hoverinfo\": \"text\", \"marker\": {\"color\": \"blue\", \"size\": 0.5}, \"mode\": \"markers\", \"text\": \"Informatica appears with Pentaho 37 times\", \"type\": \"scatter\", \"x\": [-0.8436136292671405], \"y\": [-0.3135538941150689]}, {\"hoverinfo\": \"text\", \"marker\": {\"color\": \"green\", \"size\": 0.5}, \"mode\": \"markers\", \"text\": \"Pentaho appears with Qlik 34 times\", \"type\": \"scatter\", \"x\": [-0.8769496178119524], \"y\": [0.20238420842415222]}, {\"hoverinfo\": \"text\", \"marker\": {\"color\": \"blue\", \"size\": 0.5}, \"mode\": \"markers\", \"text\": \"Qlik appears with Pentaho 34 times\", \"type\": \"scatter\", \"x\": [-0.7862887476561475], \"y\": [-0.4378926869785874]}, {\"hoverinfo\": \"text\", \"marker\": {\"color\": \"green\", \"size\": 0.5}, \"mode\": \"markers\", \"text\": \"Pentaho appears with Tableau 42 times\", \"type\": \"scatter\", \"x\": [-0.8832434576392226], \"y\": [0.1728612002084642]}, {\"hoverinfo\": \"text\", \"marker\": {\"color\": \"blue\", \"size\": 0.5}, \"mode\": \"markers\", \"text\": \"Tableau appears with Pentaho 42 times\", \"type\": \"scatter\", \"x\": [-0.54791823350851], \"y\": [-0.7139927236246276]}, {\"hoverinfo\": \"text\", \"marker\": {\"color\": \"green\", \"size\": 0.5}, \"mode\": \"markers\", \"text\": \"Pentaho appears with Microstrategy 5 times\", \"type\": \"scatter\", \"x\": [-0.87512986855373], \"y\": [0.21011357206313752]}, {\"hoverinfo\": \"text\", \"marker\": {\"color\": \"blue\", \"size\": 0.5}, \"mode\": \"markers\", \"text\": \"Microstrategy appears with Pentaho 5 times\", \"type\": \"scatter\", \"x\": [-0.10675280766885738], \"y\": [-0.8936463719250562]}, {\"hoverinfo\": \"text\", \"marker\": {\"color\": \"green\", \"size\": 0.5}, \"mode\": \"markers\", \"text\": \"Pentaho appears with Oracle BI 40 times\", \"type\": \"scatter\", \"x\": [-0.8821940976442351], \"y\": [0.17813919861073205]}, {\"hoverinfo\": \"text\", \"marker\": {\"color\": \"blue\", \"size\": 0.5}, \"mode\": \"markers\", \"text\": \"Oracle BI appears with Pentaho 40 times\", \"type\": \"scatter\", \"x\": [-0.02287492408174889], \"y\": [-0.899709251840979]}, {\"hoverinfo\": \"text\", \"marker\": {\"color\": \"green\", \"size\": 0.5}, \"mode\": \"markers\", \"text\": \"Pentaho appears with Python 38 times\", \"type\": \"scatter\", \"x\": [-0.8800832603845858], \"y\": [0.18829087814027892]}, {\"hoverinfo\": \"text\", \"marker\": {\"color\": \"blue\", \"size\": 0.5}, \"mode\": \"markers\", \"text\": \"Python appears with Pentaho 38 times\", \"type\": \"scatter\", \"x\": [0.5683197290840083], \"y\": [-0.6978629417972267]}, {\"hoverinfo\": \"text\", \"marker\": {\"color\": \"green\", \"size\": 0.5}, \"mode\": \"markers\", \"text\": \"Pentaho appears with VBA 1 times\", \"type\": \"scatter\", \"x\": [-0.875037859069547], \"y\": [0.2104964256109438]}, {\"hoverinfo\": \"text\", \"marker\": {\"color\": \"blue\", \"size\": 0.5}, \"mode\": \"markers\", \"text\": \"VBA appears with Pentaho 1 times\", \"type\": \"scatter\", \"x\": [0.8107044948037723], \"y\": [-0.39084296348400643]}, {\"hoverinfo\": \"text\", \"marker\": {\"color\": \"green\", \"size\": 0.5}, \"mode\": \"markers\", \"text\": \"Pentaho appears with Linux 40 times\", \"type\": \"scatter\", \"x\": [-0.8811399365510898], \"y\": [0.1832823292484616]}, {\"hoverinfo\": \"text\", \"marker\": {\"color\": \"blue\", \"size\": 0.5}, \"mode\": \"markers\", \"text\": \"Linux appears with Pentaho 40 times\", \"type\": \"scatter\", \"x\": [0.8725087468891501], \"y\": [-0.22074529802902934]}, {\"hoverinfo\": \"text\", \"marker\": {\"color\": \"green\", \"size\": 0.5}, \"mode\": \"markers\", \"text\": \"Pentaho appears with AWS 15 times\", \"type\": \"scatter\", \"x\": [-0.8762209116468688], \"y\": [0.2055162134546326]}, {\"hoverinfo\": \"text\", \"marker\": {\"color\": \"blue\", \"size\": 0.5}, \"mode\": \"markers\", \"text\": \"AWS appears with Pentaho 15 times\", \"type\": \"scatter\", \"x\": [0.8949803483124911], \"y\": [-0.09492194759091407]}, {\"hoverinfo\": \"text\", \"marker\": {\"color\": \"green\", \"size\": 0.5}, \"mode\": \"markers\", \"text\": \"Hadoop appears with Spark 192 times\", \"type\": \"scatter\", \"x\": [-0.8999163495404301], \"y\": [-0.012270445380117791]}, {\"hoverinfo\": \"text\", \"marker\": {\"color\": \"blue\", \"size\": 0.5}, \"mode\": \"markers\", \"text\": \"Spark appears with Hadoop 192 times\", \"type\": \"scatter\", \"x\": [-0.8756884419328955], \"y\": [-0.20777332038820093]}, {\"hoverinfo\": \"text\", \"marker\": {\"color\": \"green\", \"size\": 0.5}, \"mode\": \"markers\", \"text\": \"Hadoop appears with Informatica 9 times\", \"type\": \"scatter\", \"x\": [-0.8943510739362891], \"y\": [0.10067848106227259]}, {\"hoverinfo\": \"text\", \"marker\": {\"color\": \"blue\", \"size\": 0.5}, \"mode\": \"markers\", \"text\": \"Informatica appears with Hadoop 9 times\", \"type\": \"scatter\", \"x\": [-0.8538715802085514], \"y\": [-0.2844350971876563]}, {\"hoverinfo\": \"text\", \"marker\": {\"color\": \"green\", \"size\": 0.5}, \"mode\": \"markers\", \"text\": \"Hadoop appears with Qlik 11 times\", \"type\": \"scatter\", \"x\": [-0.8947025104854415], \"y\": [0.09750598818046241]}, {\"hoverinfo\": \"text\", \"marker\": {\"color\": \"blue\", \"size\": 0.5}, \"mode\": \"markers\", \"text\": \"Qlik appears with Hadoop 11 times\", \"type\": \"scatter\", \"x\": [-0.7957472570506525], \"y\": [-0.4204596328975741]}, {\"hoverinfo\": \"text\", \"marker\": {\"color\": \"green\", \"size\": 0.5}, \"mode\": \"markers\", \"text\": \"Hadoop appears with Tableau 70 times\", \"type\": \"scatter\", \"x\": [-0.8984703990148537], \"y\": [0.0524494241540316]}, {\"hoverinfo\": \"text\", \"marker\": {\"color\": \"blue\", \"size\": 0.5}, \"mode\": \"markers\", \"text\": \"Tableau appears with Hadoop 70 times\", \"type\": \"scatter\", \"x\": [-0.5146519249123043], \"y\": [-0.7383314947799938]}, {\"hoverinfo\": \"text\", \"marker\": {\"color\": \"green\", \"size\": 0.5}, \"mode\": \"markers\", \"text\": \"Hadoop appears with Microstrategy 5 times\", \"type\": \"scatter\", \"x\": [-0.893953260170063], \"y\": [0.10415166168293047]}, {\"hoverinfo\": \"text\", \"marker\": {\"color\": \"blue\", \"size\": 0.5}, \"mode\": \"markers\", \"text\": \"Microstrategy appears with Hadoop 5 times\", \"type\": \"scatter\", \"x\": [-0.10618023062809587], \"y\": [-0.8937145845423831]}, {\"hoverinfo\": \"text\", \"marker\": {\"color\": \"green\", \"size\": 0.5}, \"mode\": \"markers\", \"text\": \"Hadoop appears with Oracle BI 65 times\", \"type\": \"scatter\", \"x\": [-0.8978141288114821], \"y\": [0.06268803798556309]}, {\"hoverinfo\": \"text\", \"marker\": {\"color\": \"blue\", \"size\": 0.5}, \"mode\": \"markers\", \"text\": \"Oracle BI appears with Hadoop 65 times\", \"type\": \"scatter\", \"x\": [0.01465973207109365], \"y\": [-0.8998805988883213]}, {\"hoverinfo\": \"text\", \"marker\": {\"color\": \"green\", \"size\": 0.5}, \"mode\": \"markers\", \"text\": \"Hadoop appears with Python 205 times\", \"type\": \"scatter\", \"x\": [-0.8989994556182065], \"y\": [-0.042426157004474455]}, {\"hoverinfo\": \"text\", \"marker\": {\"color\": \"blue\", \"size\": 0.5}, \"mode\": \"markers\", \"text\": \"Python appears with Hadoop 205 times\", \"type\": \"scatter\", \"x\": [0.7324325504459153], \"y\": [-0.5230129625996778]}, {\"hoverinfo\": \"text\", \"marker\": {\"color\": \"green\", \"size\": 0.5}, \"mode\": \"markers\", \"text\": \"Hadoop appears with VBA 11 times\", \"type\": \"scatter\", \"x\": [-0.8945198279088372], \"y\": [0.09916792565111032]}, {\"hoverinfo\": \"text\", \"marker\": {\"color\": \"blue\", \"size\": 0.5}, \"mode\": \"markers\", \"text\": \"VBA appears with Hadoop 11 times\", \"type\": \"scatter\", \"x\": [0.8135218990759522], \"y\": [-0.38494430730153184]}, {\"hoverinfo\": \"text\", \"marker\": {\"color\": \"green\", \"size\": 0.5}, \"mode\": \"markers\", \"text\": \"Hadoop appears with Linux 123 times\", \"type\": \"scatter\", \"x\": [-0.8999243609298936], \"y\": [0.011668102027434749]}, {\"hoverinfo\": \"text\", \"marker\": {\"color\": \"blue\", \"size\": 0.5}, \"mode\": \"markers\", \"text\": \"Linux appears with Hadoop 123 times\", \"type\": \"scatter\", \"x\": [0.8859947245629445], \"y\": [-0.15815608760535343]}, {\"hoverinfo\": \"text\", \"marker\": {\"color\": \"green\", \"size\": 0.5}, \"mode\": \"markers\", \"text\": \"Hadoop appears with AWS 70 times\", \"type\": \"scatter\", \"x\": [-0.899027651321907], \"y\": [0.04182442060107557]}, {\"hoverinfo\": \"text\", \"marker\": {\"color\": \"blue\", \"size\": 0.5}, \"mode\": \"markers\", \"text\": \"AWS appears with Hadoop 70 times\", \"type\": \"scatter\", \"x\": [0.8981213760840511], \"y\": [-0.05812051118917024]}, {\"hoverinfo\": \"text\", \"marker\": {\"color\": \"green\", \"size\": 0.5}, \"mode\": \"markers\", \"text\": \"Spark appears with Informatica 16 times\", \"type\": \"scatter\", \"x\": [-0.895226840141898], \"y\": [-0.09256837845372755]}, {\"hoverinfo\": \"text\", \"marker\": {\"color\": \"blue\", \"size\": 0.5}, \"mode\": \"markers\", \"text\": \"Informatica appears with Spark 16 times\", \"type\": \"scatter\", \"x\": [-0.8514475937298667], \"y\": [-0.29161103396754373]}, {\"hoverinfo\": \"text\", \"marker\": {\"color\": \"green\", \"size\": 0.5}, \"mode\": \"markers\", \"text\": \"Spark appears with Qlik 16 times\", \"type\": \"scatter\", \"x\": [-0.8949713150650364], \"y\": [-0.09500707979282065]}, {\"hoverinfo\": \"text\", \"marker\": {\"color\": \"blue\", \"size\": 0.5}, \"mode\": \"markers\", \"text\": \"Qlik appears with Spark 16 times\", \"type\": \"scatter\", \"x\": [-0.7936225470552274], \"y\": [-0.4244564203844411]}, {\"hoverinfo\": \"text\", \"marker\": {\"color\": \"green\", \"size\": 0.5}, \"mode\": \"markers\", \"text\": \"Spark appears with Tableau 59 times\", \"type\": \"scatter\", \"x\": [-0.891121024146155], \"y\": [-0.12610836738578415]}, {\"hoverinfo\": \"text\", \"marker\": {\"color\": \"blue\", \"size\": 0.5}, \"mode\": \"markers\", \"text\": \"Tableau appears with Spark 59 times\", \"type\": \"scatter\", \"x\": [-0.5411530725290575], \"y\": [-0.7191337511842708]}, {\"hoverinfo\": \"text\", \"marker\": {\"color\": \"green\", \"size\": 0.5}, \"mode\": \"markers\", \"text\": \"Spark appears with Microstrategy 3 times\", \"type\": \"scatter\", \"x\": [-0.8958439348626871], \"y\": [-0.0863923860634581]}, {\"hoverinfo\": \"text\", \"marker\": {\"color\": \"blue\", \"size\": 0.5}, \"mode\": \"markers\", \"text\": \"Microstrategy appears with Spark 3 times\", \"type\": \"scatter\", \"x\": [-0.10721083776160797], \"y\": [-0.893591537709738]}, {\"hoverinfo\": \"text\", \"marker\": {\"color\": \"green\", \"size\": 0.5}, \"mode\": \"markers\", \"text\": \"Spark appears with Oracle BI 63 times\", \"type\": \"scatter\", \"x\": [-0.8882598161817622], \"y\": [-0.1448947858162676]}, {\"hoverinfo\": \"text\", \"marker\": {\"color\": \"blue\", \"size\": 0.5}, \"mode\": \"markers\", \"text\": \"Oracle BI appears with Spark 63 times\", \"type\": \"scatter\", \"x\": [0.0037650535123829303], \"y\": [-0.8999921246166819]}, {\"hoverinfo\": \"text\", \"marker\": {\"color\": \"green\", \"size\": 0.5}, \"mode\": \"markers\", \"text\": \"Spark appears with Python 228 times\", \"type\": \"scatter\", \"x\": [-0.8677004213506394], \"y\": [-0.23894764863442952]}, {\"hoverinfo\": \"text\", \"marker\": {\"color\": \"blue\", \"size\": 0.5}, \"mode\": \"markers\", \"text\": \"Python appears with Spark 228 times\", \"type\": \"scatter\", \"x\": [0.7527336918459157], \"y\": [-0.4933477365510235]}, {\"hoverinfo\": \"text\", \"marker\": {\"color\": \"green\", \"size\": 0.5}, \"mode\": \"markers\", \"text\": \"Spark appears with VBA 10 times\", \"type\": \"scatter\", \"x\": [-0.895627894627838], \"y\": [-0.08860403131069385]}, {\"hoverinfo\": \"text\", \"marker\": {\"color\": \"blue\", \"size\": 0.5}, \"mode\": \"markers\", \"text\": \"VBA appears with Spark 10 times\", \"type\": \"scatter\", \"x\": [0.8128683380678153], \"y\": [-0.3863224883007304]}, {\"hoverinfo\": \"text\", \"marker\": {\"color\": \"green\", \"size\": 0.5}, \"mode\": \"markers\", \"text\": \"Spark appears with Linux 104 times\", \"type\": \"scatter\", \"x\": [-0.8839973776490172], \"y\": [-0.16896341707500162]}, {\"hoverinfo\": \"text\", \"marker\": {\"color\": \"blue\", \"size\": 0.5}, \"mode\": \"markers\", \"text\": \"Linux appears with Spark 104 times\", \"type\": \"scatter\", \"x\": [0.8829680004688992], \"y\": [-0.17426276179366013]}, {\"hoverinfo\": \"text\", \"marker\": {\"color\": \"green\", \"size\": 0.5}, \"mode\": \"markers\", \"text\": \"Spark appears with AWS 76 times\", \"type\": \"scatter\", \"x\": [-0.8864828877146761], \"y\": [-0.15539655655467097]}, {\"hoverinfo\": \"text\", \"marker\": {\"color\": \"blue\", \"size\": 0.5}, \"mode\": \"markers\", \"text\": \"AWS appears with Spark 76 times\", \"type\": \"scatter\", \"x\": [0.8986818349741558], \"y\": [-0.04869249929387787]}, {\"hoverinfo\": \"text\", \"marker\": {\"color\": \"green\", \"size\": 0.5}, \"mode\": \"markers\", \"text\": \"Informatica appears with Qlik 97 times\", \"type\": \"scatter\", \"x\": [-0.8278483022560567], \"y\": [-0.3530824102837249]}, {\"hoverinfo\": \"text\", \"marker\": {\"color\": \"blue\", \"size\": 0.5}, \"mode\": \"markers\", \"text\": \"Qlik appears with Informatica 97 times\", \"type\": \"scatter\", \"x\": [-0.7595509020195799], \"y\": [-0.48278610920493814]}, {\"hoverinfo\": \"text\", \"marker\": {\"color\": \"green\", \"size\": 0.5}, \"mode\": \"markers\", \"text\": \"Informatica appears with Tableau 79 times\", \"type\": \"scatter\", \"x\": [-0.8327465767208808], \"y\": [-0.34136950502300906]}, {\"hoverinfo\": \"text\", \"marker\": {\"color\": \"blue\", \"size\": 0.5}, \"mode\": \"markers\", \"text\": \"Tableau appears with Informatica 79 times\", \"type\": \"scatter\", \"x\": [-0.5043189418156292], \"y\": [-0.7454276657905609]}, {\"hoverinfo\": \"text\", \"marker\": {\"color\": \"green\", \"size\": 0.5}, \"mode\": \"markers\", \"text\": \"Informatica appears with Microstrategy 23 times\", \"type\": \"scatter\", \"x\": [-0.8494888055269896], \"y\": [-0.29726885017493604]}, {\"hoverinfo\": \"text\", \"marker\": {\"color\": \"blue\", \"size\": 0.5}, \"mode\": \"markers\", \"text\": \"Microstrategy appears with Informatica 23 times\", \"type\": \"scatter\", \"x\": [-0.09793040486776981], \"y\": [-0.8946561550687698]}, {\"hoverinfo\": \"text\", \"marker\": {\"color\": \"green\", \"size\": 0.5}, \"mode\": \"markers\", \"text\": \"Informatica appears with Oracle BI 140 times\", \"type\": \"scatter\", \"x\": [-0.8136858668589423], \"y\": [-0.3845975949924955]}, {\"hoverinfo\": \"text\", \"marker\": {\"color\": \"blue\", \"size\": 0.5}, \"mode\": \"markers\", \"text\": \"Oracle BI appears with Informatica 140 times\", \"type\": \"scatter\", \"x\": [0.09018016561228512], \"y\": [-0.8954705677631962]}, {\"hoverinfo\": \"text\", \"marker\": {\"color\": \"green\", \"size\": 0.5}, \"mode\": \"markers\", \"text\": \"Informatica appears with Python 32 times\", \"type\": \"scatter\", \"x\": [-0.8470545191927125], \"y\": [-0.30413589317146145]}, {\"hoverinfo\": \"text\", \"marker\": {\"color\": \"blue\", \"size\": 0.5}, \"mode\": \"markers\", \"text\": \"Python appears with Informatica 32 times\", \"type\": \"scatter\", \"x\": [0.5638015595923612], \"y\": [-0.7015182117388123]}, {\"hoverinfo\": \"text\", \"marker\": {\"color\": \"green\", \"size\": 0.5}, \"mode\": \"markers\", \"text\": \"Informatica appears with VBA 6 times\", \"type\": \"scatter\", \"x\": [-0.8542129310386376], \"y\": [-0.28340830694667324]}, {\"hoverinfo\": \"text\", \"marker\": {\"color\": \"blue\", \"size\": 0.5}, \"mode\": \"markers\", \"text\": \"VBA appears with Informatica 6 times\", \"type\": \"scatter\", \"x\": [0.8115542136450887], \"y\": [-0.38907551749615604]}, {\"hoverinfo\": \"text\", \"marker\": {\"color\": \"green\", \"size\": 0.5}, \"mode\": \"markers\", \"text\": \"Informatica appears with Linux 14 times\", \"type\": \"scatter\", \"x\": [-0.85284012430293], \"y\": [-0.287512995147981]}, {\"hoverinfo\": \"text\", \"marker\": {\"color\": \"blue\", \"size\": 0.5}, \"mode\": \"markers\", \"text\": \"Linux appears with Informatica 14 times\", \"type\": \"scatter\", \"x\": [0.8670604162812283], \"y\": [-0.24125968274501033]}, {\"hoverinfo\": \"text\", \"marker\": {\"color\": \"green\", \"size\": 0.5}, \"mode\": \"markers\", \"text\": \"Informatica appears with AWS 22 times\", \"type\": \"scatter\", \"x\": [-0.850555470695755], \"y\": [-0.29420297630976244]}, {\"hoverinfo\": \"text\", \"marker\": {\"color\": \"blue\", \"size\": 0.5}, \"mode\": \"markers\", \"text\": \"AWS appears with Informatica 22 times\", \"type\": \"scatter\", \"x\": [0.8952296247428706], \"y\": [-0.09254144467609744]}, {\"hoverinfo\": \"text\", \"marker\": {\"color\": \"green\", \"size\": 0.5}, \"mode\": \"markers\", \"text\": \"Qlik appears with Tableau 375 times\", \"type\": \"scatter\", \"x\": [-0.706925582532681], \"y\": [-0.5570064817942694]}, {\"hoverinfo\": \"text\", \"marker\": {\"color\": \"blue\", \"size\": 0.5}, \"mode\": \"markers\", \"text\": \"Tableau appears with Qlik 375 times\", \"type\": \"scatter\", \"x\": [-0.32600655155594793], \"y\": [-0.8388800440722136]}, {\"hoverinfo\": \"text\", \"marker\": {\"color\": \"green\", \"size\": 0.5}, \"mode\": \"markers\", \"text\": \"Qlik appears with Microstrategy 46 times\", \"type\": \"scatter\", \"x\": [-0.7830643441348284], \"y\": [-0.4436329935258322]}, {\"hoverinfo\": \"text\", \"marker\": {\"color\": \"blue\", \"size\": 0.5}, \"mode\": \"markers\", \"text\": \"Microstrategy appears with Qlik 46 times\", \"type\": \"scatter\", \"x\": [-0.07997068973302095], \"y\": [-0.8964400084688461]}, {\"hoverinfo\": \"text\", \"marker\": {\"color\": \"green\", \"size\": 0.5}, \"mode\": \"markers\", \"text\": \"Qlik appears with Oracle BI 403 times\", \"type\": \"scatter\", \"x\": [-0.6655436621378313], \"y\": [-0.6058478635665593]}, {\"hoverinfo\": \"text\", \"marker\": {\"color\": \"blue\", \"size\": 0.5}, \"mode\": \"markers\", \"text\": \"Oracle BI appears with Qlik 403 times\", \"type\": \"scatter\", \"x\": [0.3221256049802099], \"y\": [-0.8403779474832344]}, {\"hoverinfo\": \"text\", \"marker\": {\"color\": \"green\", \"size\": 0.5}, \"mode\": \"markers\", \"text\": \"Qlik appears with Python 55 times\", \"type\": \"scatter\", \"x\": [-0.7789337056150125], \"y\": [-0.45084618469813514]}, {\"hoverinfo\": \"text\", \"marker\": {\"color\": \"blue\", \"size\": 0.5}, \"mode\": \"markers\", \"text\": \"Python appears with Qlik 55 times\", \"type\": \"scatter\", \"x\": [0.5742857521515627], \"y\": [-0.6929616691244285]}, {\"hoverinfo\": \"text\", \"marker\": {\"color\": \"green\", \"size\": 0.5}, \"mode\": \"markers\", \"text\": \"Qlik appears with VBA 31 times\", \"type\": \"scatter\", \"x\": [-0.7888775994581335], \"y\": [-0.43321141844735905]}, {\"hoverinfo\": \"text\", \"marker\": {\"color\": \"blue\", \"size\": 0.5}, \"mode\": \"markers\", \"text\": \"VBA appears with Qlik 31 times\", \"type\": \"scatter\", \"x\": [0.8171507830817871], \"y\": [-0.37717979493713877]}, {\"hoverinfo\": \"text\", \"marker\": {\"color\": \"green\", \"size\": 0.5}, \"mode\": \"markers\", \"text\": \"Qlik appears with Linux 2 times\", \"type\": \"scatter\", \"x\": [-0.7964765727628688], \"y\": [-0.41907644772751734]}, {\"hoverinfo\": \"text\", \"marker\": {\"color\": \"blue\", \"size\": 0.5}, \"mode\": \"markers\", \"text\": \"Linux appears with Qlik 2 times\", \"type\": \"scatter\", \"x\": [0.8650573353110003], \"y\": [-0.24834614276173406]}, {\"hoverinfo\": \"text\", \"marker\": {\"color\": \"green\", \"size\": 0.5}, \"mode\": \"markers\", \"text\": \"Qlik appears with AWS 3 times\", \"type\": \"scatter\", \"x\": [-0.796284880587658], \"y\": [-0.4194405666450246]}, {\"hoverinfo\": \"text\", \"marker\": {\"color\": \"blue\", \"size\": 0.5}, \"mode\": \"markers\", \"text\": \"AWS appears with Qlik 3 times\", \"type\": \"scatter\", \"x\": [0.8942165329442278], \"y\": [-0.10186654116639479]}, {\"hoverinfo\": \"text\", \"marker\": {\"color\": \"green\", \"size\": 0.5}, \"mode\": \"markers\", \"text\": \"Tableau appears with Microstrategy 66 times\", \"type\": \"scatter\", \"x\": [-0.5239962749101786], \"y\": [-0.731729392521755]}, {\"hoverinfo\": \"text\", \"marker\": {\"color\": \"blue\", \"size\": 0.5}, \"mode\": \"markers\", \"text\": \"Microstrategy appears with Tableau 66 times\", \"type\": \"scatter\", \"x\": [-0.06790256950434159], \"y\": [-0.8974348115906292]}, {\"hoverinfo\": \"text\", \"marker\": {\"color\": \"green\", \"size\": 0.5}, \"mode\": \"markers\", \"text\": \"Tableau appears with Oracle BI 497 times\", \"type\": \"scatter\", \"x\": [-0.1767983982131736], \"y\": [-0.8824637819136013]}, {\"hoverinfo\": \"text\", \"marker\": {\"color\": \"blue\", \"size\": 0.5}, \"mode\": \"markers\", \"text\": \"Oracle BI appears with Tableau 497 times\", \"type\": \"scatter\", \"x\": [0.392405684799682], \"y\": [-0.8099492444202245]}, {\"hoverinfo\": \"text\", \"marker\": {\"color\": \"green\", \"size\": 0.5}, \"mode\": \"markers\", \"text\": \"Tableau appears with Python 176 times\", \"type\": \"scatter\", \"x\": [-0.4358553141071987], \"y\": [-0.7874199293671168]}, {\"hoverinfo\": \"text\", \"marker\": {\"color\": \"blue\", \"size\": 0.5}, \"mode\": \"markers\", \"text\": \"Python appears with Tableau 176 times\", \"type\": \"scatter\", \"x\": [0.6713338958034343], \"y\": [-0.5994253918090088]}, {\"hoverinfo\": \"text\", \"marker\": {\"color\": \"green\", \"size\": 0.5}, \"mode\": \"markers\", \"text\": \"Tableau appears with VBA 88 times\", \"type\": \"scatter\", \"x\": [-0.49262150494222806], \"y\": [-0.7532091694001437]}, {\"hoverinfo\": \"text\", \"marker\": {\"color\": \"blue\", \"size\": 0.5}, \"mode\": \"markers\", \"text\": \"VBA appears with Tableau 88 times\", \"type\": \"scatter\", \"x\": [0.8297733796432841], \"y\": [-0.34853427153633315]}, {\"hoverinfo\": \"text\", \"marker\": {\"color\": \"green\", \"size\": 0.5}, \"mode\": \"markers\", \"text\": \"Tableau appears with Linux 30 times\", \"type\": \"scatter\", \"x\": [-0.5615644534731965], \"y\": [-0.7033102904091125]}, {\"hoverinfo\": \"text\", \"marker\": {\"color\": \"blue\", \"size\": 0.5}, \"mode\": \"markers\", \"text\": \"Linux appears with Tableau 30 times\", \"type\": \"scatter\", \"x\": [0.8688549963257254], \"y\": [-0.23471471057397245]}, {\"hoverinfo\": \"text\", \"marker\": {\"color\": \"green\", \"size\": 0.5}, \"mode\": \"markers\", \"text\": \"Tableau appears with AWS 36 times\", \"type\": \"scatter\", \"x\": [-0.5531094227691596], \"y\": [-0.7099788492933906]}, {\"hoverinfo\": \"text\", \"marker\": {\"color\": \"blue\", \"size\": 0.5}, \"mode\": \"markers\", \"text\": \"AWS appears with Tableau 36 times\", \"type\": \"scatter\", \"x\": [0.8964214517037283], \"y\": [-0.08017843179671305]}, {\"hoverinfo\": \"text\", \"marker\": {\"color\": \"green\", \"size\": 0.5}, \"mode\": \"markers\", \"text\": \"Microstrategy appears with Oracle BI 70 times\", \"type\": \"scatter\", \"x\": [-0.06008033002788005], \"y\": [-0.8979924019409858]}, {\"hoverinfo\": \"text\", \"marker\": {\"color\": \"blue\", \"size\": 0.5}, \"mode\": \"markers\", \"text\": \"Oracle BI appears with Microstrategy 70 times\", \"type\": \"scatter\", \"x\": [0.026147853981556456], \"y\": [-0.8996200807741894]}, {\"hoverinfo\": \"text\", \"marker\": {\"color\": \"green\", \"size\": 0.5}, \"mode\": \"markers\", \"text\": \"Microstrategy appears with Python 20 times\", \"type\": \"scatter\", \"x\": [-0.10039479927697716], \"y\": [-0.894382962873363]}, {\"hoverinfo\": \"text\", \"marker\": {\"color\": \"blue\", \"size\": 0.5}, \"mode\": \"markers\", \"text\": \"Python appears with Microstrategy 20 times\", \"type\": \"scatter\", \"x\": [0.556523668360603], \"y\": [-0.707305737679582]}, {\"hoverinfo\": \"text\", \"marker\": {\"color\": \"green\", \"size\": 0.5}, \"mode\": \"markers\", \"text\": \"Microstrategy appears with VBA 7 times\", \"type\": \"scatter\", \"x\": [-0.10549308066635533], \"y\": [-0.8937959554235642]}, {\"hoverinfo\": \"text\", \"marker\": {\"color\": \"blue\", \"size\": 0.5}, \"mode\": \"markers\", \"text\": \"VBA appears with Microstrategy 7 times\", \"type\": \"scatter\", \"x\": [0.8123375547410733], \"y\": [-0.3874373461055269]}, {\"hoverinfo\": \"text\", \"marker\": {\"color\": \"green\", \"size\": 0.5}, \"mode\": \"markers\", \"text\": \"Microstrategy appears with Linux 12 times\", \"type\": \"scatter\", \"x\": [-0.10440496585841663], \"y\": [-0.8939237121276641]}, {\"hoverinfo\": \"text\", \"marker\": {\"color\": \"blue\", \"size\": 0.5}, \"mode\": \"markers\", \"text\": \"Linux appears with Microstrategy 12 times\", \"type\": \"scatter\", \"x\": [0.8665553344312916], \"y\": [-0.24306758806692527]}, {\"hoverinfo\": \"text\", \"marker\": {\"color\": \"green\", \"size\": 0.5}, \"mode\": \"markers\", \"text\": \"Microstrategy appears with AWS 2 times\", \"type\": \"scatter\", \"x\": [-0.10749709227427362], \"y\": [-0.8935571471106795]}, {\"hoverinfo\": \"text\", \"marker\": {\"color\": \"blue\", \"size\": 0.5}, \"mode\": \"markers\", \"text\": \"AWS appears with Microstrategy 2 times\", \"type\": \"scatter\", \"x\": [0.8941209577647535], \"y\": [-0.10270205881986902]}, {\"hoverinfo\": \"text\", \"marker\": {\"color\": \"green\", \"size\": 0.5}, \"mode\": \"markers\", \"text\": \"Oracle BI appears with Python 199 times\", \"type\": \"scatter\", \"x\": [0.1479639302578519], \"y\": [-0.887753724488188]}, {\"hoverinfo\": \"text\", \"marker\": {\"color\": \"blue\", \"size\": 0.5}, \"mode\": \"markers\", \"text\": \"Python appears with Oracle BI 199 times\", \"type\": \"scatter\", \"x\": [0.6916640378618448], \"y\": [-0.5758479475770045]}, {\"hoverinfo\": \"text\", \"marker\": {\"color\": \"green\", \"size\": 0.5}, \"mode\": \"markers\", \"text\": \"Oracle BI appears with VBA 91 times\", \"type\": \"scatter\", \"x\": [0.05327354494433291], \"y\": [-0.898421910579358]}, {\"hoverinfo\": \"text\", \"marker\": {\"color\": \"blue\", \"size\": 0.5}, \"mode\": \"markers\", \"text\": \"VBA appears with Oracle BI 91 times\", \"type\": \"scatter\", \"x\": [0.8347215228979715], \"y\": [-0.3365114845155976]}, {\"hoverinfo\": \"text\", \"marker\": {\"color\": \"green\", \"size\": 0.5}, \"mode\": \"markers\", \"text\": \"Oracle BI appears with Linux 9 times\", \"type\": \"scatter\", \"x\": [-0.02704417922629336], \"y\": [-0.8995935817745567]}, {\"hoverinfo\": \"text\", \"marker\": {\"color\": \"blue\", \"size\": 0.5}, \"mode\": \"markers\", \"text\": \"Linux appears with Oracle BI 9 times\", \"type\": \"scatter\", \"x\": [0.8656722472628926], \"y\": [-0.24619415167467604]}, {\"hoverinfo\": \"text\", \"marker\": {\"color\": \"green\", \"size\": 0.5}, \"mode\": \"markers\", \"text\": \"Oracle BI appears with AWS 53 times\", \"type\": \"scatter\", \"x\": [-0.0061087686362435055], \"y\": [-0.8999792680644088]}, {\"hoverinfo\": \"text\", \"marker\": {\"color\": \"blue\", \"size\": 0.5}, \"mode\": \"markers\", \"text\": \"AWS appears with Oracle BI 53 times\", \"type\": \"scatter\", \"x\": [0.8969160152285659], \"y\": [-0.0744423375943488]}, {\"hoverinfo\": \"text\", \"marker\": {\"color\": \"green\", \"size\": 0.5}, \"mode\": \"markers\", \"text\": \"Python appears with VBA 73 times\", \"type\": \"scatter\", \"x\": [0.5993349021060042], \"y\": [-0.6714146819347836]}, {\"hoverinfo\": \"text\", \"marker\": {\"color\": \"blue\", \"size\": 0.5}, \"mode\": \"markers\", \"text\": \"VBA appears with Python 73 times\", \"type\": \"scatter\", \"x\": [0.8251748701597206], \"y\": [-0.3592860053730013]}, {\"hoverinfo\": \"text\", \"marker\": {\"color\": \"green\", \"size\": 0.5}, \"mode\": \"markers\", \"text\": \"Python appears with Linux 130 times\", \"type\": \"scatter\", \"x\": [0.6387850191254681], \"y\": [-0.6339981855974631]}, {\"hoverinfo\": \"text\", \"marker\": {\"color\": \"blue\", \"size\": 0.5}, \"mode\": \"markers\", \"text\": \"Linux appears with Python 130 times\", \"type\": \"scatter\", \"x\": [0.8890218941151385], \"y\": [-0.14014304044058504]}, {\"hoverinfo\": \"text\", \"marker\": {\"color\": \"green\", \"size\": 0.5}, \"mode\": \"markers\", \"text\": \"Python appears with AWS 120 times\", \"type\": \"scatter\", \"x\": [0.6239951862578257], \"y\": [-0.648559949061813]}, {\"hoverinfo\": \"text\", \"marker\": {\"color\": \"blue\", \"size\": 0.5}, \"mode\": \"markers\", \"text\": \"AWS appears with Python 120 times\", \"type\": \"scatter\", \"x\": [0.8992786116158785], \"y\": [-0.03602747132700202]}, {\"hoverinfo\": \"text\", \"marker\": {\"color\": \"green\", \"size\": 0.5}, \"mode\": \"markers\", \"text\": \"VBA appears with Linux 5 times\", \"type\": \"scatter\", \"x\": [0.811208496807439], \"y\": [-0.38979581155704485]}, {\"hoverinfo\": \"text\", \"marker\": {\"color\": \"blue\", \"size\": 0.5}, \"mode\": \"markers\", \"text\": \"Linux appears with VBA 5 times\", \"type\": \"scatter\", \"x\": [0.8651966541419857], \"y\": [-0.24786034305937965]}, {\"hoverinfo\": \"text\", \"marker\": {\"color\": \"green\", \"size\": 0.5}, \"mode\": \"markers\", \"text\": \"VBA appears with AWS 5 times\", \"type\": \"scatter\", \"x\": [0.8108936540049976], \"y\": [-0.3904503577849856]}, {\"hoverinfo\": \"text\", \"marker\": {\"color\": \"blue\", \"size\": 0.5}, \"mode\": \"markers\", \"text\": \"AWS appears with VBA 5 times\", \"type\": \"scatter\", \"x\": [0.8942749603769004], \"y\": [-0.1013523322025365]}, {\"hoverinfo\": \"text\", \"marker\": {\"color\": \"green\", \"size\": 0.5}, \"mode\": \"markers\", \"text\": \"Linux appears with AWS 34 times\", \"type\": \"scatter\", \"x\": [0.8711829856595777], \"y\": [-0.22592079474290114]}, {\"hoverinfo\": \"text\", \"marker\": {\"color\": \"blue\", \"size\": 0.5}, \"mode\": \"markers\", \"text\": \"AWS appears with Linux 34 times\", \"type\": \"scatter\", \"x\": [0.8960066953010557], \"y\": [-0.08468767310347627]}],\n",
       "                        {\"autosize\": false, \"font\": {\"color\": \"#655643\", \"family\": \"Fira Sans Condensed\", \"size\": 12}, \"height\": 525, \"hidesources\": true, \"hoverdistance\": 40, \"hovermode\": \"closest\", \"margin\": {\"b\": 10, \"l\": 280, \"r\": 280, \"t\": 80}, \"paper_bgcolor\": \"#fffaf0\", \"plot_bgcolor\": \"#fffaf0\", \"shapes\": [{\"fillcolor\": \"#f2e6ce\", \"layer\": \"below\", \"line\": {\"color\": \"rgb(175,175,175)\", \"width\": 0.5}, \"path\": \"M 0.9692230907405225,0.24618407823291277 Q 0.18285218225295974, 0.08102517784818745 0.8334403791672044, 0.552609386794711L 0.8334403791672044, 0.552609386794711 L 0.8470340951954648, 0.5315385607614939 L 0.8600952225908025, 0.5101335198518892 M 0.8600952225908025,0.5101335198518892 Q 0.182982922814238, 0.08072948630059917 0.9566100561508664, 0.29137124166780143L 0.9566100561508664, 0.29137124166780143 L 0.9631816014393237, 0.2688516368720484 L 0.9692230907405225, 0.24618407823291277 \", \"type\": \"path\"}, {\"fillcolor\": \"#f2e6ce\", \"layer\": \"below\", \"line\": {\"color\": \"rgb(175,175,175)\", \"width\": 0.5}, \"path\": \"M 0.9973057772457082,0.07335657211411803 Q 0.14612496838541278, 0.13655582599934032 0.14063176496586177, 0.9900619711324068L 0.14063176496586177, 0.9900619711324068 L 0.15504745259942357, 0.9879070236831143 L 0.16943019949489196, 0.9855421896089082 M 0.16943019949489196,0.9855421896089082 Q 0.14620794098044432, 0.13646698499732055 0.994867583262454, 0.10118543261519541L 0.994867583262454, 0.10118543261519541 L 0.9961838615179394, 0.08727951679063602 L 0.9973057772457082, 0.07335657211411803 \", \"type\": \"path\"}, {\"fillcolor\": \"#f2e6ce\", \"layer\": \"below\", \"line\": {\"color\": \"rgb(175,175,175)\", \"width\": 0.5}, \"path\": \"M 0.994867583262454,0.10118543261519541 Q 0.09855561507210334, 0.17403100510472091 -0.4249244571210725, 0.9052288140245878L -0.4249244571210725, 0.9052288140245878 L -0.41187775357935313, 0.9112391102813935 L -0.39874606312660377, 0.9170613813377132 M -0.39874606312660377,0.9170613813377132 Q 0.09860902766517311, 0.17400074615624248 0.9916298987482848, 0.12911291147079937L 0.9916298987482848, 0.12911291147079937 L 0.9933468918396829, 0.11516055085158777 L 0.994867583262454, 0.10118543261519541 \", \"type\": \"path\"}, {\"fillcolor\": \"#f2e6ce\", \"layer\": \"below\", \"line\": {\"color\": \"rgb(175,175,175)\", \"width\": 0.5}, \"path\": \"M 1.0,0.0 Q 0.07708343923497896, 0.18454848521650702 -0.7029071697853654, 0.7112815973047015L -0.7029071697853654, 0.7112815973047015 L -0.7026160892763639, 0.7115691330362698 L -0.7023248911461548, 0.7118565496478498 M -0.7023248911461548,0.7118565496478498 Q 0.0770763253573697, 0.18455145642721138 0.9999995991324732, 0.000895396500386114L 0.9999995991324732, 0.000895396500386114 L 0.9999998997831133, 0.00044769829505998627 L 1.0, 0.0 \", \"type\": \"path\"}, {\"fillcolor\": \"#f2e6ce\", \"layer\": \"below\", \"line\": {\"color\": \"rgb(175,175,175)\", \"width\": 0.5}, \"path\": \"M 0.9991070641501527,0.042250140417077156 Q 0.047627464196331855, 0.19424629894602144 -0.8662458011971481, 0.49961806603475717L -0.8662458011971481, 0.49961806603475717 L -0.8632374275848624, 0.5047981216453458 L -0.8601980781754194, 0.5099600634395943 M -0.8601980781754194,0.5099600634395943 Q 0.04760834586376586, 0.19425098559367993 0.9985185029169151, 0.05441322755141991L 0.9985185029169151, 0.05441322755141991 L 0.9988312979288171, 0.04833257987977244 L 0.9991070641501527, 0.042250140417077156 \", \"type\": \"path\"}, {\"fillcolor\": \"#f2e6ce\", \"layer\": \"below\", \"line\": {\"color\": \"rgb(175,175,175)\", \"width\": 0.5}, \"path\": \"M 0.999991517654558,0.004118812806373271 Q 0.03159677990663684, 0.19748833762916623 -0.9487890473746492, 0.31591034104933263L -0.9487890473746492, 0.31591034104933263 L -0.9485622307236881, 0.31659073651087893 L -0.9483349261477039, 0.3172709691232859 M -0.9483349261477039,0.3172709691232859 Q 0.03154390507741427, 0.19749678998015913 0.9999814639415869, 0.0060886593960182275L 0.9999814639415869, 0.0060886593960182275 L 0.9999869758414557, 0.005103738576762618 L 0.999991517654558, 0.004118812806373271 \", \"type\": \"path\"}, {\"fillcolor\": \"#f2e6ce\", \"layer\": \"below\", \"line\": {\"color\": \"rgb(175,175,175)\", \"width\": 0.5}, \"path\": \"M 0.9999972901365617,0.002328029109198674 Q 0.022864865622544524, 0.1986886960047375 -0.973328446288704, 0.2294160753853521L -0.973328446288704, 0.2294160753853521 L -0.973160903089841, 0.23012574105772043 L -0.9729928424651311, 0.23083528437313205 M -0.9729928424651311,0.23083528437313205 Q 0.022831838940756622, 0.1986924938959279 0.999991517654558, 0.004118812806373271L 0.999991517654558, 0.004118812806373271 L 0.999994804761004, 0.0032234222499512777 L 0.9999972901365617, 0.002328029109198674 \", \"type\": \"path\"}, {\"fillcolor\": \"#f2e6ce\", \"layer\": \"below\", \"line\": {\"color\": \"rgb(175,175,175)\", \"width\": 0.5}, \"path\": \"M 0.9998298926679315,0.018444124474542068 Q 0.007565028361261116, 0.19985687465257063 -0.995574591990611, 0.09397463371957548L -0.995574591990611, 0.09397463371957548 L -0.9952432751175667, 0.09742085676722156 L -0.9949000290355285, 0.10086591210663969 M -0.9949000290355285,0.10086591210663969 Q 0.007523255763303026, 0.19985845146683173 0.999667522841501, 0.025784564683879296L 0.999667522841501, 0.025784564683879296 L 0.9997554446827693, 0.022114493599406673 L 0.9998298926679315, 0.018444124474542068 \", \"type\": \"path\"}, {\"fillcolor\": \"#f2e6ce\", \"layer\": \"below\", \"line\": {\"color\": \"rgb(175,175,175)\", \"width\": 0.5}, \"path\": \"M 0.9994333230160048,0.03366055325133708 Q -0.01608791222119752, 0.199351897609135 -0.991897342406889, -0.1270419699396653L -0.991897342406889, -0.1270419699396653 L -0.9924082471377842, -0.12298727988255811 L -0.992902577127503, -0.11893053574907918 M -0.992902577127503,-0.11893053574907918 Q -0.016130004968565117, 0.19934849620630216 0.9991070641501527, 0.042250140417077156L 0.9991070641501527, 0.042250140417077156 L 0.9992794229020645, 0.03795569739204963 L 0.9994333230160048, 0.03366055325133708 \", \"type\": \"path\"}, {\"fillcolor\": \"#f2e6ce\", \"layer\": \"below\", \"line\": {\"color\": \"rgb(175,175,175)\", \"width\": 0.5}, \"path\": \"M 0.9999660707621321,0.008237555738360472 Q -0.03485984775856355, 0.19693854628855614 -0.9420353260767341, -0.3355137022887457L -0.9420353260767341, -0.3355137022887457 L -0.9426522384743619, -0.3337765080098881 L -0.9432659473391796, -0.332038179416645 M -0.9432659473391796,-0.332038179416645 Q -0.03490237193320326, 0.19693101440209043 0.9999236597544212, 0.012356158922760931L 0.9999236597544212, 0.012356158922760931 L 0.9999469857344642, 0.01029687916600537 L 0.9999660707621321, 0.008237555738360472 \", \"type\": \"path\"}, {\"fillcolor\": \"#f2e6ce\", \"layer\": \"below\", \"line\": {\"color\": \"rgb(175,175,175)\", \"width\": 0.5}, \"path\": \"M 0.9916298987482848,0.12911291147079937 Q -0.07441801972386558, 0.1856393232598588 -0.8062296821217547, -0.5916026535317894L -0.8062296821217547, -0.5916026535317894 L -0.8177042296769997, -0.57563859562085 L -0.8288627211480977, -0.5594520439599544 M -0.8288627211480977,-0.5594520439599544 Q -0.07434202958901506, 0.1856697676968063 0.9859251051251711, 0.1671875805313316L 0.9859251051251711, 0.1671875805313316 L 0.988960751719831, 0.14817770263351634 L 0.9916298987482848, 0.12911291147079937 \", \"type\": \"path\"}, {\"fillcolor\": \"#f2e6ce\", \"layer\": \"below\", \"line\": {\"color\": \"rgb(175,175,175)\", \"width\": 0.5}, \"path\": \"M 0.9786854581005866,0.20536497778940999 Q -0.12668329506432366, 0.15476221357826825 -0.39467318686065556, -0.9188215689530008L -0.39467318686065556, -0.9188215689530008 L -0.4146748596023188, -0.9099696482926215 L -0.4344781421828459, -0.900682376848433 M -0.4344781421828459,-0.900682376848433 Q -0.1265406980302703, 0.1548788292246941 0.9692230907405225, 0.24618407823291277L 0.9692230907405225, 0.24618407823291277 L 0.974168095557601, 0.22582409436921674 L 0.9786854581005866, 0.20536497778940999 \", \"type\": \"path\"}, {\"fillcolor\": \"#f2e6ce\", \"layer\": \"below\", \"line\": {\"color\": \"rgb(175,175,175)\", \"width\": 0.5}, \"path\": \"M 0.9999236597544212,0.012356158922760931 Q -0.13532676076314412, 0.14726393931086715 -0.0966390943066005, -0.9953194891348205L -0.0966390943066005, -0.9953194891348205 L -0.09880703199268369, -0.995106612594247 L -0.10097450081269922, -0.9948890140038869 M -0.10097450081269922,-0.9948890140038869 Q -0.1354542382137143, 0.14714669330277982 0.9998298926679315, 0.018444124474542068L 0.9998298926679315, 0.018444124474542068 L 0.9998814096869663, 0.015400213063629082 L 0.9999236597544212, 0.012356158922760931 \", \"type\": \"path\"}, {\"fillcolor\": \"#f2e6ce\", \"layer\": \"below\", \"line\": {\"color\": \"rgb(175,175,175)\", \"width\": 0.5}, \"path\": \"M 0.9859251051251711,0.1671875805313316 Q -0.16846356632124979, 0.10779622823793922 0.2612971718257659, -0.9652584047786666L 0.2612971718257659, -0.9652584047786666 L 0.2414332517932773, -0.970417428186718 L 0.22146764228628088, -0.9751677206615055 M 0.22146764228628088,-0.9751677206615055 Q -0.16834562413321025, 0.1079803261487939 0.9786854581005866, 0.20536497778940999L 0.9786854581005866, 0.20536497778940999 L 0.9824907351725549, 0.18631144704524338 L 0.9859251051251711, 0.1671875805313316 \", \"type\": \"path\"}, {\"fillcolor\": \"#f2e6ce\", \"layer\": \"below\", \"line\": {\"color\": \"rgb(175,175,175)\", \"width\": 0.5}, \"path\": \"M 0.9985185029169151,0.05441322755141991 Q -0.18568359422711606, 0.07430748841738438 0.6853085538651915, -0.7282528310959043L 0.6853085538651915, -0.7282528310959043 L 0.6781548390664152, -0.7349190528560302 L 0.670936283070504, -0.7415150059570855 M 0.670936283070504,-0.7415150059570855 Q -0.185662254121734, 0.07436079205089645 0.9973057772457082, 0.07335657211411803L 0.9973057772457082, 0.07335657211411803 L 0.9979570892064792, 0.06388777741110836 L 0.9985185029169151, 0.05441322755141991 \", \"type\": \"path\"}, {\"fillcolor\": \"#f2e6ce\", \"layer\": \"below\", \"line\": {\"color\": \"rgb(175,175,175)\", \"width\": 0.5}, \"path\": \"M 0.999667522841501,0.025784564683879296 Q -0.1961948838117724, 0.03882740740875088 0.9144932023325113, -0.4046012640707251L 0.9144932023325113, -0.4046012640707251 L 0.9130507202451066, -0.4078460276377498 L 0.9115967252773104, -0.41108564857421614 M 0.9115967252773104,-0.41108564857421614 Q -0.19620996482131603, 0.03875112520712057 0.9994333230160048, 0.03366055325133708L 0.9994333230160048, 0.03366055325133708 L 0.9995581802856838, 0.029722789639811932 L 0.999667522841501, 0.025784564683879296 \", \"type\": \"path\"}, {\"fillcolor\": \"#f2e6ce\", \"layer\": \"below\", \"line\": {\"color\": \"rgb(175,175,175)\", \"width\": 0.5}, \"path\": \"M 0.9999814639415869,0.0060886593960182275 Q -0.19820247358427745, 0.026754055114576493 0.9625788313065713, -0.2710018330574084L 0.9625788313065713, -0.2710018330574084 L 0.9623175101491912, -0.2719283171357139 L 0.9620552972492286, -0.2728545492285195 M 0.9620552972492286,-0.2728545492285195 Q -0.1982054646070053, 0.02673188732433933 0.9999660707621321, 0.008237555738360472L 0.9999660707621321, 0.008237555738360472 L 0.9999743445862715, 0.007163111702090005 L 0.9999814639415869, 0.0060886593960182275 \", \"type\": \"path\"}, {\"fillcolor\": \"#f2e6ce\", \"layer\": \"below\", \"line\": {\"color\": \"rgb(175,175,175)\", \"width\": 0.5}, \"path\": \"M 0.9999995991324732,0.000895396500386114 Q -0.19969984922829478, 0.010953091718612447 0.9939031642116656, -0.11025651985274537L 0.9939031642116656, -0.11025651985274537 L 0.9938396002247604, -0.11082801552445315 L 0.9937757076270939, -0.11139947455113437 M 0.9937757076270939,-0.11139947455113437 Q -0.19970139487996286, 0.010924874507158093 0.9999972901365617, 0.002328029109198674L 0.9999972901365617, 0.002328029109198674 L 0.9999987011894076, 0.0016117132182858387 L 0.9999995991324732, 0.000895396500386114 \", \"type\": \"path\"}, {\"fillcolor\": \"#ecd5bb\", \"layer\": \"below\", \"line\": {\"color\": \"rgb(175,175,175)\", \"width\": 0.5}, \"path\": \"M 0.5720263988500368,0.8202352095701931 Q 0.03970341073834584, 0.19601948672451475 -0.2077605410144726, 0.9781797164107288L -0.2077605410144726, 0.9781797164107288 L -0.1462499543772419, 0.989247669112571 L -0.08416810783581631, 0.9964515691308526 M -0.08416810783581631,0.9964515691308526 Q 0.03940519101455682, 0.19607965453128046 0.46259038058179913, 0.8865721289287106L 0.46259038058179913, 0.8865721289287106 L 0.5183706365024651, 0.8551560578116892 L 0.5720263988500368, 0.8202352095701931 \", \"type\": \"path\"}, {\"fillcolor\": \"#ecd5bb\", \"layer\": \"below\", \"line\": {\"color\": \"rgb(175,175,175)\", \"width\": 0.5}, \"path\": \"M 0.8334403791672044,0.552609386794711 Q 0.04161846821886878, 0.1956218369791957 -0.5363074576212064, 0.8440226957255818L -0.5363074576212064, 0.8440226957255818 L -0.5142758469515523, 0.8576248324542985 L -0.49189946061531015, 0.8706520089257056 M -0.49189946061531015,0.8706520089257056 Q 0.04138509659944334, 0.19567134123180827 0.8022966649277837, 0.5969255074511018L 0.8022966649277837, 0.5969255074511018 L 0.8181686250362209, 0.5749783482935159 L 0.8334403791672044, 0.552609386794711 \", \"type\": \"path\"}, {\"fillcolor\": \"#ecd5bb\", \"layer\": \"below\", \"line\": {\"color\": \"rgb(175,175,175)\", \"width\": 0.5}, \"path\": \"M 0.9306030845772485,0.36602991541035346 Q 0.04764866524582987, 0.19424109941073453 -0.6555748743255498, 0.7551301769582776L -0.6555748743255498, 0.7551301769582776 L -0.6511866063434302, 0.7589176527917417 L -0.6467764572742227, 0.7626796275736003 M -0.6467764572742227,0.7626796275736003 Q 0.047324482486635816, 0.19432033696289255 0.9250344787566761, 0.37988315718305354L 0.9250344787566761, 0.37988315718305354 L 0.9278446366126548, 0.37296692924323804 L 0.9306030845772485, 0.36602991541035346 \", \"type\": \"path\"}, {\"fillcolor\": \"#ecd5bb\", \"layer\": \"below\", \"line\": {\"color\": \"rgb(175,175,175)\", \"width\": 0.5}, \"path\": \"M 0.8910175655354879,0.4539688292242238 Q 0.01719436625420755, 0.19925951362260264 -0.8000782040733543, 0.5998957137426105L -0.8000782040733543, 0.5998957137426105 L -0.7930536237371136, 0.6091518282640482 L -0.7859219649953229, 0.6183256948711501 M -0.7859219649953229,0.6183256948711501 Q 0.016801617858248297, 0.19929301452219894 0.878350379273651, 0.4780173754476226L 0.878350379273651, 0.4780173754476226 L 0.8847656832028431, 0.46603614218921496 L 0.8910175655354879, 0.4539688292242238 \", \"type\": \"path\"}, {\"fillcolor\": \"#ecd5bb\", \"layer\": \"below\", \"line\": {\"color\": \"rgb(175,175,175)\", \"width\": 0.5}, \"path\": \"M 0.878350379273651,0.4780173754476226 Q -0.010292661527746078, 0.19973497720398214 -0.922833320393407, 0.3851995103471437L -0.922833320393407, 0.3851995103471437 L -0.916151172385898, 0.40083291947636296 L -0.9092042066832939, 0.416350466013192 M -0.9092042066832939,0.416350466013192 Q -0.010586289957255341, 0.1997196296435103 0.8600952225908025, 0.5101335198518892L 0.8600952225908025, 0.5101335198518892 L 0.8693711171549895, 0.4941597521618748 L 0.878350379273651, 0.4780173754476226 \", \"type\": \"path\"}, {\"fillcolor\": \"#ecd5bb\", \"layer\": \"below\", \"line\": {\"color\": \"rgb(175,175,175)\", \"width\": 0.5}, \"path\": \"M 0.9397501239241853,0.34186211340901507 Q -0.006802329799322289, 0.1998842872996806 -0.9608170667276827, 0.2771832684070443L -0.9608170667276827, 0.2771832684070443 L -0.9595970460968425, 0.2813778760354381 L -0.9583587132994893, 0.28556711407819235 M -0.9583587132994893,0.28556711407819235 Q -0.007210900909972654, 0.19986996499741166 0.9352885467447274, 0.3538860470944508L 0.9352885467447274, 0.3538860470944508 L 0.9375386114029005, 0.3478812327917693 L 0.9397501239241853, 0.34186211340901507 \", \"type\": \"path\"}, {\"fillcolor\": \"#ecd5bb\", \"layer\": \"below\", \"line\": {\"color\": \"rgb(175,175,175)\", \"width\": 0.5}, \"path\": \"M 0.9352885467447274,0.3538860470944508 Q -0.020266825213958735, 0.19897048976103682 -0.9874326059507599, 0.15804065522925223L -0.9874326059507599, 0.15804065522925223 L -0.9866368437060355, 0.1629347680570109 L -0.9858168244243105, 0.1678248750393339 M -0.9858168244243105,0.1678248750393339 Q -0.020575178029940966, 0.19893883997107312 0.9306030845772485, 0.36602991541035346L 0.9306030845772485, 0.36602991541035346 L 0.9329655745759136, 0.359965604823899 L 0.9352885467447274, 0.3538860470944508 \", \"type\": \"path\"}, {\"fillcolor\": \"#ecd5bb\", \"layer\": \"below\", \"line\": {\"color\": \"rgb(175,175,175)\", \"width\": 0.5}, \"path\": \"M 0.9182014278800612,0.3961137940529422 Q -0.03815756350169766, 0.19632625995422495 -0.9997273716181859, 0.02334914211258294L -0.9997273716181859, 0.02334914211258294 L -0.9994891843201711, 0.03195888651062738 L -0.9991768504849385, 0.040566260056835876 M -0.9991768504849385,0.040566260056835876 Q -0.03838317917128813, 0.19628227519749408 0.9102928804557447, 0.41396481950956077L 0.9102928804557447, 0.41396481950956077 L 0.914290721642505, 0.4050586084981128 L 0.9182014278800612, 0.3961137940529422 \", \"type\": \"path\"}, {\"fillcolor\": \"#ecd5bb\", \"layer\": \"below\", \"line\": {\"color\": \"rgb(175,175,175)\", \"width\": 0.5}, \"path\": \"M 0.9102928804557447,0.41396481950956077 Q -0.06323776247776003, 0.1897392563409228 -0.9766308490880287, -0.21492367158969736L -0.9766308490880287, -0.21492367158969736 L -0.9786183673387603, -0.20568444546736916 L -0.9805184817304058, -0.19642684894153306 M -0.9805184817304058,-0.19642684894153306 Q -0.06346031134179157, 0.18966493846887697 0.9012923384232591, 0.43321140416606474L 0.9012923384232591, 0.43321140416606474 L 0.9058437277314764, 0.42361201697962136 L 0.9102928804557447, 0.41396481950956077 \", \"type\": \"path\"}, {\"fillcolor\": \"#ecd5bb\", \"layer\": \"below\", \"line\": {\"color\": \"rgb(175,175,175)\", \"width\": 0.5}, \"path\": \"M 0.9012923384232591,0.43321140416606474 Q -0.08504037817709757, 0.1810197063291625 -0.9088335484539909, -0.4171589399791491L -0.9088335484539909, -0.4171589399791491 L -0.9128364842873467, -0.40832530285780316 L -0.9167535617880503, -0.3994532600304113 M -0.9167535617880503,-0.3994532600304113 Q -0.08538100514346607, 0.1808592932660399 0.8910175655354879, 0.4539688292242238L 0.8910175655354879, 0.4539688292242238 L 0.896215049879723, 0.4436198647142456 L 0.9012923384232591, 0.43321140416606474 \", \"type\": \"path\"}, {\"fillcolor\": \"#ecd5bb\", \"layer\": \"below\", \"line\": {\"color\": \"rgb(175,175,175)\", \"width\": 0.5}, \"path\": \"M 0.712411175122703,0.7017622941996023 Q -0.14619655116837244, 0.13647918678858495 -0.6511832584423312, -0.758920525433611L -0.6511832584423312, -0.758920525433611 L -0.6833226338467454, -0.7301165510195935 L -0.7141892467779365, -0.6999526553894654 M -0.7141892467779365,-0.6999526553894654 Q -0.14647107494915546, 0.13618452262734881 0.6461874982911824, 0.7631786927399002L 0.6461874982911824, 0.7631786927399002 L 0.6799930752242316, 0.7332185333494322 L 0.712411175122703, 0.7017622941996023 \", \"type\": \"path\"}, {\"fillcolor\": \"#ecd5bb\", \"layer\": \"below\", \"line\": {\"color\": \"rgb(175,175,175)\", \"width\": 0.5}, \"path\": \"M 0.6461874982911824,0.7631786927399002 Q -0.17800629383397212, 0.09117981879502496 -0.2417665726861761, -0.970334439423635L -0.2417665726861761, -0.970334439423635 L -0.28585224803143106, -0.9582737042700156 L -0.3293407757142602, -0.9442111275831955 M -0.3293407757142602,-0.9442111275831955 Q -0.178105788462105, 0.09098531813590537 0.5720263988500368, 0.8202352095701931L 0.5720263988500368, 0.8202352095701931 L 0.6097746602846011, 0.7925748315930801 L 0.6461874982911824, 0.7631786927399002 \", \"type\": \"path\"}, {\"fillcolor\": \"#ecd5bb\", \"layer\": \"below\", \"line\": {\"color\": \"rgb(175,175,175)\", \"width\": 0.5}, \"path\": \"M 0.9469858349602993,0.32127531555434613 Q -0.15778557455514614, 0.12289716214096412 -0.07966314998904823, -0.9968218409193402L -0.07966314998904823, -0.9968218409193402 L -0.08279218246888466, -0.9965668339464439 L -0.08592039895950052, -0.9963020049375793 M -0.08592039895950052,-0.9963020049375793 Q -0.15797592013700623, 0.12265238952774721 0.9439308079911718, 0.330143347237429L 0.9439308079911718, 0.330143347237429 L 0.9454687187549878, 0.3257129132469292 L 0.9469858349602993, 0.32127531555434613 \", \"type\": \"path\"}, {\"fillcolor\": \"#ecd5bb\", \"layer\": \"below\", \"line\": {\"color\": \"rgb(175,175,175)\", \"width\": 0.5}, \"path\": \"M 0.46259038058179913,0.8865721289287106 Q -0.19942325048419368, -0.015177851175925567 0.5914366525537267, -0.8063514655632755L 0.5914366525537267, -0.8063514655632755 L 0.5358382496111099, -0.8443206560624357 L 0.4778109766328281, -0.8784626745680109 M 0.4778109766328281,-0.8784626745680109 Q -0.1994109501593744, -0.015338609993591299 0.3378430675360872, 0.9412024552230018L 0.3378430675360872, 0.9412024552230018 L 0.401147783683554, 0.9160133490543533 L 0.46259038058179913, 0.8865721289287106 \", \"type\": \"path\"}, {\"fillcolor\": \"#ecd5bb\", \"layer\": \"below\", \"line\": {\"color\": \"rgb(175,175,175)\", \"width\": 0.5}, \"path\": \"M 0.7670826238928254,0.6415483209561834 Q -0.19883698801038574, -0.02153722820972386 0.8866602248894772, -0.4624215020940762L 0.8866602248894772, -0.4624215020940762 L 0.8678541103626828, -0.49681912516186044 L 0.8477142199994164, -0.5304532036012046 M 0.8477142199994164,-0.5304532036012046 Q -0.19880508749841994, -0.02182973166911588 0.712411175122703, 0.7017622941996023L 0.712411175122703, 0.7017622941996023 L 0.7403593086973311, 0.672211346248492 L 0.7670826238928254, 0.6415483209561834 \", \"type\": \"path\"}, {\"fillcolor\": \"#ecd5bb\", \"layer\": \"below\", \"line\": {\"color\": \"rgb(175,175,175)\", \"width\": 0.5}, \"path\": \"M 0.8022966649277837,0.5969255074511018 Q -0.19730793553780734, -0.03270441214589343 0.9519839396684151, -0.3061479684946535L 0.9519839396684151, -0.3061479684946535 L 0.9443731560241327, -0.3288758765568236 L 0.9362198471585544, -0.3514148514027446 M 0.9362198471585544,-0.3514148514027446 Q -0.19716021833906663, -0.03358345283754443 0.7670826238928254, 0.6415483209561834L 0.7670826238928254, 0.6415483209561834 L 0.7850067750765262, 0.6194871774976075 L 0.8022966649277837, 0.5969255074511018 \", \"type\": \"path\"}, {\"fillcolor\": \"#ecd5bb\", \"layer\": \"below\", \"line\": {\"color\": \"rgb(175,175,175)\", \"width\": 0.5}, \"path\": \"M 0.9250344787566761,0.37988315718305354 Q -0.19913134242086394, -0.018620109174348073 0.9794260521317769, -0.20180339047092796L 0.9794260521317769, -0.20180339047092796 L 0.9779100464802117, -0.20902617298575335 L 0.976340777138669, -0.2162375705011964 M 0.976340777138669,-0.2162375705011964 Q -0.19910460467474247, -0.01890387254809235 0.9182014278800612, 0.3961137940529422L 0.9182014278800612, 0.3961137940529422 L 0.9216536823948783, 0.38801351745520507 L 0.9250344787566761, 0.37988315718305354 \", \"type\": \"path\"}, {\"fillcolor\": \"#ecd5bb\", \"layer\": \"below\", \"line\": {\"color\": \"rgb(175,175,175)\", \"width\": 0.5}, \"path\": \"M 0.9439308079911718,0.330143347237429 Q -0.1982230722152687, -0.02660100828052164 0.9975750893529782, -0.06959842744198648L 0.9975750893529782, -0.06959842744198648 L 0.9972390367526055, -0.07425835694880045 L 0.9968812165438329, -0.07891666555352973 M 0.9968812165438329,-0.07891666555352973 Q -0.19818162704216968, -0.0269080416031781 0.9397501239241853, 0.34186211340901507L 0.9397501239241853, 0.34186211340901507 L 0.9418586919944643, 0.3360092324839853 L 0.9439308079911718, 0.330143347237429 \", \"type\": \"path\"}, {\"fillcolor\": \"#e6c4a9\", \"layer\": \"below\", \"line\": {\"color\": \"rgb(175,175,175)\", \"width\": 0.5}, \"path\": \"M 0.034575718046629025,0.9994020811072789 Q -0.057800581475772474, 0.19146564386610615 -0.5818104289463552, 0.8133244277465532L -0.5818104289463552, 0.8133244277465532 L -0.5592696111713971, 0.828985827394048 L -0.5363074576212064, 0.8440226957255818 M -0.5363074576212064,0.8440226957255818 Q -0.05791207137452317, 0.191431951327651 -0.021477254222601536, 0.999769337172859L -0.021477254222601536, 0.999769337172859 L 0.006551805697039983, 0.9999785366907173 L 0.034575718046629025, 0.9994020811072789 \", \"type\": \"path\"}, {\"fillcolor\": \"#e6c4a9\", \"layer\": \"below\", \"line\": {\"color\": \"rgb(175,175,175)\", \"width\": 0.5}, \"path\": \"M 0.24980129463858203,0.9682971203080635 Q -0.04470658039573153, 0.19493927687698032 -0.6467764572742227, 0.7626796275736003L -0.6467764572742227, 0.7626796275736003 L -0.6430278119129137, 0.7658428253280763 L -0.6392636964842845, 0.7689875983117339 M -0.6392636964842845,0.7689875983117339 Q -0.04495252883915429, 0.19488270870183688 0.23784007314807748, 0.9713043290364339L 0.23784007314807748, 0.9713043290364339 L 0.24382532009677538, 0.9698191652466479 L 0.24980129463858203, 0.9682971203080635 \", \"type\": \"path\"}, {\"fillcolor\": \"#e6c4a9\", \"layer\": \"below\", \"line\": {\"color\": \"rgb(175,175,175)\", \"width\": 0.5}, \"path\": \"M 0.2238397167802726,0.9746259698939523 Q -0.06315927839427703, 0.1897653960887343 -0.7632601495505148, 0.6460912815602188L -0.7632601495505148, 0.6460912815602188 L -0.7584278806858487, 0.6517569714229162 L -0.7535535563399164, 0.65738652079843 M -0.7535535563399164,0.65738652079843 Q -0.06335965673135023, 0.18969858697124098 0.20723431822409707, 0.9782913356205265L 0.20723431822409707, 0.9782913356205265 L 0.21554480889182767, 0.9764939504983047 L 0.2238397167802726, 0.9746259698939523 \", \"type\": \"path\"}, {\"fillcolor\": \"#e6c4a9\", \"layer\": \"below\", \"line\": {\"color\": \"rgb(175,175,175)\", \"width\": 0.5}, \"path\": \"M 0.14063176496586177,0.9900619711324068 Q -0.0932230294394908, 0.17694481281496735 -0.8960935344018863, 0.44386526965187917L -0.8960935344018863, 0.44386526965187917 L -0.8898289621879025, 0.45629422311881224 L -0.8833920089711216, 0.468634781558055 M -0.8833920089711216,0.468634781558055 Q -0.0933723881812634, 0.17686604288366795 0.11134241286054306, 0.9937821024240637L 0.11134241286054306, 0.9937821024240637 L 0.12600081911253577, 0.9920301374368472 L 0.14063176496586177, 0.9900619711324068 \", \"type\": \"path\"}, {\"fillcolor\": \"#e6c4a9\", \"layer\": \"below\", \"line\": {\"color\": \"rgb(175,175,175)\", \"width\": 0.5}, \"path\": \"M 0.2617245178240083,0.9651426199115809 Q -0.09732019679565368, 0.17472486742205656 -0.9583587132994893, 0.28556711407819235L -0.9583587132994893, 0.28556711407819235 L -0.957120981837582, 0.2896884984362739 L -0.9558655266120524, 0.2938045184040979 M -0.9558655266120524,0.2938045184040979 Q -0.09764563327130754, 0.17454320468882575 0.24980129463858203, 0.9682971203080635L 0.24980129463858203, 0.9682971203080635 L 0.25576776951380364, 0.966738252102364 L 0.2617245178240083, 0.9651426199115809 \", \"type\": \"path\"}, {\"fillcolor\": \"#e6c4a9\", \"layer\": \"below\", \"line\": {\"color\": \"rgb(175,175,175)\", \"width\": 0.5}, \"path\": \"M 0.29778331997554874,0.9546334869175395 Q -0.1006651442383765, 0.17281935289621606 -0.9772868377546035, 0.2119208266112782L -0.9772868377546035, 0.2119208266112782 L -0.9767115304258214, 0.21455672055018407 L -0.976129113696459, 0.2171910527488769 M -0.976129113696459,0.2171910527488769 Q -0.10079631613063139, 0.17274288018466585 0.29117567641853187, 0.9566696009920094L 0.29117567641853187, 0.9566696009920094 L 0.29448125797495445, 0.9556572548259592 L 0.29778331997554874, 0.9546334869175395 \", \"type\": \"path\"}, {\"fillcolor\": \"#e6c4a9\", \"layer\": \"below\", \"line\": {\"color\": \"rgb(175,175,175)\", \"width\": 0.5}, \"path\": \"M 0.2730686632218998,0.9619945452892156 Q -0.11449284919748536, 0.16398593684411442 -0.997173922031122, 0.07512768611550505L -0.997173922031122, 0.07512768611550505 L -0.9967601467773793, 0.08043139807523624 L -0.9963181626428189, 0.08573283378051477 M -0.9963181626428189,0.08573283378051477 Q -0.11458574932997873, 0.16392103602188246 0.2617245178240083, 0.9651426199115809L 0.2617245178240083, 0.9651426199115809 L 0.26740122328956784, 0.9635852768609754 L 0.2730686632218998, 0.9619945452892156 \", \"type\": \"path\"}, {\"fillcolor\": \"#e6c4a9\", \"layer\": \"below\", \"line\": {\"color\": \"rgb(175,175,175)\", \"width\": 0.5}, \"path\": \"M 0.2843749613007105,0.9587131382145649 Q -0.13178488644888806, 0.15044182830467623 -0.9878047004696306, -0.1556980209575678L -0.9878047004696306, -0.1556980209575678 L -0.9886256295219562, -0.15039735586876424 L -0.9894181148511167, -0.1450923637014106 M -0.9894181148511167,-0.1450923637014106 Q -0.13186348853674013, 0.1503729376946564 0.2730686632218998, 0.9619945452892156L 0.2730686632218998, 0.9619945452892156 L 0.27872664124249713, 0.9603704803156313 L 0.2843749613007105, 0.9587131382145649 \", \"type\": \"path\"}, {\"fillcolor\": \"#e6c4a9\", \"layer\": \"below\", \"line\": {\"color\": \"rgb(175,175,175)\", \"width\": 0.5}, \"path\": \"M 0.23784007314807748,0.9713043290364339 Q -0.15113458491740994, 0.13098983640665487 -0.9276571182054335, -0.3734330877718127L -0.9276571182054335, -0.3734330877718127 L -0.9299441376628227, -0.3677008306035616 L -0.9321957362638406, -0.36195456799371417 M -0.9321957362638406,-0.36195456799371417 Q -0.1512684958806258, 0.13083517170093484 0.2238397167802726, 0.9746259698939523L 0.2238397167802726, 0.9746259698939523 L 0.23084586942713087, 0.9729903311793144 L 0.23784007314807748, 0.9713043290364339 \", \"type\": \"path\"}, {\"fillcolor\": \"#e6c4a9\", \"layer\": \"below\", \"line\": {\"color\": \"rgb(175,175,175)\", \"width\": 0.5}, \"path\": \"M 0.20723431822409707,0.9782913356205265 Q -0.1658636962317385, 0.11175524270630699 -0.8288627211480977, -0.5594520439599544L -0.8288627211480977, -0.5594520439599544 L -0.8340447289719488, -0.5516968280442697 L -0.8391541777576588, -0.5438936163919077 M -0.8391541777576588,-0.5438936163919077 Q -0.1658864046388142, 0.1117215321950411 0.18855067384190574, 0.9820634619991537L 0.18855067384190574, 0.9820634619991537 L 0.19790148362386162, 0.9802219150679474 L 0.20723431822409707, 0.9782913356205265 \", \"type\": \"path\"}, {\"fillcolor\": \"#e6c4a9\", \"layer\": \"below\", \"line\": {\"color\": \"rgb(175,175,175)\", \"width\": 0.5}, \"path\": \"M 0.07413134982460613,0.9972484860721433 Q -0.19318362692498856, 0.051769549815570574 -0.4344781421828459, -0.900682376848433L -0.4344781421828459, -0.900682376848433 L -0.45224036313592736, -0.8918961004235216 L -0.469824991493309, -0.8827595807287011 M -0.469824991493309,-0.8827595807287011 Q -0.19318318900259002, 0.05177118394232055 0.034575718046629025, 0.9994020811072789L 0.034575718046629025, 0.9994020811072789 L 0.054364199103676306, 0.9985211734639461 L 0.07413134982460613, 0.9972484860721433 \", \"type\": \"path\"}, {\"fillcolor\": \"#e6c4a9\", \"layer\": \"below\", \"line\": {\"color\": \"rgb(175,175,175)\", \"width\": 0.5}, \"path\": \"M 0.29117567641853187,0.9566696009920094 Q -0.19626020166813365, 0.038495886029334514 -0.09179147308775848, -0.995778251152524L -0.09179147308775848, -0.995778251152524 L -0.09421556292771993, -0.9955518207015709 L -0.0966390943066005, -0.9953194891348205 M -0.0966390943066005,-0.9953194891348205 Q -0.1963030377885674, 0.03827685142459186 0.2843749613007105, 0.9587131382145649L 0.2843749613007105, 0.9587131382145649 L 0.2877771327882944, 0.9576974062010132 L 0.29117567641853187, 0.9566696009920094 \", \"type\": \"path\"}, {\"fillcolor\": \"#e6c4a9\", \"layer\": \"below\", \"line\": {\"color\": \"rgb(175,175,175)\", \"width\": 0.5}, \"path\": \"M -0.021477254222601536,0.999769337172859 Q -0.1969557326528218, -0.03476261461959083 0.3220762914120725, -0.9467137172927441L 0.3220762914120725, -0.9467137172927441 L 0.29183407230995967, -0.9564689614613666 L 0.2612971718257659, -0.9652584047786666 M 0.2612971718257659,-0.9652584047786666 Q -0.19696905155495983, -0.03468706862131154 -0.08416810783581631, 0.9964515691308526L -0.08416810783581631, 0.9964515691308526 L -0.05284872304331203, 0.9986025297748305 L -0.021477254222601536, 0.999769337172859 \", \"type\": \"path\"}, {\"fillcolor\": \"#e6c4a9\", \"layer\": \"below\", \"line\": {\"color\": \"rgb(175,175,175)\", \"width\": 0.5}, \"path\": \"M 0.11134241286054306,0.9937821024240637 Q -0.1834161632777215, -0.07974027243796078 0.8026795150227064, -0.5964105936038635L 0.8026795150227064, -0.5964105936038635 L 0.7915399954875552, -0.6111173664228183 L 0.7801310531025678, -0.6256161282968004 M 0.7801310531025678,-0.6256161282968004 Q -0.18339721398172248, -0.07978384487941342 0.07413134982460613, 0.9972484860721433L 0.07413134982460613, 0.9972484860721433 L 0.09275307604088211, 0.9956891416928049 L 0.11134241286054306, 0.9937821024240637 \", \"type\": \"path\"}, {\"fillcolor\": \"#e6c4a9\", \"layer\": \"below\", \"line\": {\"color\": \"rgb(175,175,175)\", \"width\": 0.5}, \"path\": \"M 0.18855067384190574,0.9820634619991537 Q -0.17444979613702097, -0.09781241550923803 0.9362198471585544, -0.3514148514027446L 0.9362198471585544, -0.3514148514027446 L 0.9332374253025606, -0.35926022325696955 L 0.9301892618164319, -0.3670802871326672 M 0.9301892618164319,-0.3670802871326672 Q -0.17432012288548676, -0.09804333101842673 0.16943019949489196, 0.9855421896089082L 0.16943019949489196, 0.9855421896089082 L 0.178998887720538, 0.98384927615708 L 0.18855067384190574, 0.9820634619991537 \", \"type\": \"path\"}, {\"fillcolor\": \"#e6c4a9\", \"layer\": \"below\", \"line\": {\"color\": \"rgb(175,175,175)\", \"width\": 0.5}, \"path\": \"M 0.3081124788116497,0.9513499358283158 Q -0.17593020535360446, -0.09512393412931663 0.964764023036923, -0.26311666586062465L 0.964764023036923, -0.26311666586062465 L 0.964234406836562, -0.2650509548606521 L 0.9637009125169903, -0.2669841778344181 M 0.9637009125169903,-0.2669841778344181 Q -0.1758987656717101, -0.09518205836799723 0.30366462259212396, 0.9527789864317867L 0.30366462259212396, 0.9527789864317867 L 0.30588938523085046, 0.9520670585642024 L 0.3081124788116497, 0.9513499358283158 \", \"type\": \"path\"}, {\"fillcolor\": \"#e6c4a9\", \"layer\": \"below\", \"line\": {\"color\": \"rgb(175,175,175)\", \"width\": 0.5}, \"path\": \"M 0.30366462259212396,0.9527789864317867 Q -0.16698613113976424, -0.11007103164308706 0.9953300636489938, -0.0965301217055592L 0.9953300636489938, -0.0965301217055592 L 0.9950982986738934, -0.09889072745370393 L 0.9948609351021184, -0.10125077682535852 M 0.9948609351021184,-0.10125077682535852 Q -0.16690778138257004, -0.11018980222301976 0.29778331997554874, 0.9546334869175395L 0.29778331997554874, 0.9546334869175395 L 0.3007254008189772, 0.9537107702559857 L 0.30366462259212396, 0.9527789864317867 \", \"type\": \"path\"}, {\"fillcolor\": \"#e1b396\", \"layer\": \"below\", \"line\": {\"color\": \"rgb(175,175,175)\", \"width\": 0.5}, \"path\": \"M -0.3165888509228963,0.94856286005268 Q -0.10043598219307011, 0.17295263363393257 -0.6669473629188271, 0.7451048349699674L -0.6669473629188271, 0.7451048349699674 L -0.6612801175537969, 0.750139057860632 L -0.6555748743255498, 0.7551301769582776 M -0.6555748743255498,0.7551301769582776 Q -0.10073886391649474, 0.1727763910284445 -0.3342375267589555, 0.9424888729879289L -0.3342375267589555, 0.9424888729879289 L -0.32542736025315355, 0.9455670432067016 L -0.3165888509228963, 0.94856286005268 \", \"type\": \"path\"}, {\"fillcolor\": \"#e1b396\", \"layer\": \"below\", \"line\": {\"color\": \"rgb(175,175,175)\", \"width\": 0.5}, \"path\": \"M -0.3342375267589555,0.9424888729879289 Q -0.11511808118633585, 0.16354763032210584 -0.774456680915408, 0.6326269432971456L -0.774456680915408, 0.6326269432971456 L -0.7688878883008604, 0.6393836213293578 L -0.7632601495505148, 0.6460912815602188 M -0.7632601495505148,0.6460912815602188 Q -0.11528714393116196, 0.16342849948584717 -0.3526260867980839, 0.9357643094868869L -0.3526260867980839, 0.9357643094868869 L -0.34344826516628146, 0.9391715972889467 L -0.3342375267589555, 0.9424888729879289 \", \"type\": \"path\"}, {\"fillcolor\": \"#e1b396\", \"layer\": \"below\", \"line\": {\"color\": \"rgb(175,175,175)\", \"width\": 0.5}, \"path\": \"M -0.4249244571210725,0.9052288140245878 Q -0.14692261143168994, 0.13569725955262565 -0.9360790510146284, 0.351789724482613L -0.9360790510146284, 0.351789724482613 L -0.9296062900988461, 0.3685541281937567 L -0.922833320393407, 0.3851995103471437 M -0.922833320393407,0.3851995103471437 Q -0.1470167626292327, 0.13559524883276647 -0.4584126185805079, 0.8887394843969529L -0.4584126185805079, 0.8887394843969529 L -0.4417454830840346, 0.8971404172005923 L -0.4249244571210725, 0.9052288140245878 \", \"type\": \"path\"}, {\"fillcolor\": \"#e1b396\", \"layer\": \"below\", \"line\": {\"color\": \"rgb(175,175,175)\", \"width\": 0.5}, \"path\": \"M -0.24069299673093744,0.9706012988476169 Q -0.1359090899554643, 0.1467266821933813 -0.94936419634155, 0.3141776928821696L -0.94936419634155, 0.3141776928821696 L -0.9490770172514978, 0.31504414821577 L -0.9487890473746492, 0.31591034104933263 M -0.9487890473746492,0.31591034104933263 Q -0.1359630935860655, 0.14667664157086088 -0.24317874064958073, 0.9699814947183704L -0.24317874064958073, 0.9699814947183704 L -0.2419360671710606, 0.9702921927964793 L -0.24069299673093744, 0.9706012988476169 \", \"type\": \"path\"}, {\"fillcolor\": \"#e1b396\", \"layer\": \"below\", \"line\": {\"color\": \"rgb(175,175,175)\", \"width\": 0.5}, \"path\": \"M -0.2714698751042027,0.9624469371923361 Q -0.1482264104506874, 0.1342718557438764 -0.9845158040238098, 0.17529584030247636L -0.9845158040238098, 0.17529584030247636 L -0.9838571090798319, 0.178955829502913 L -0.9831848079823727, 0.18261334385160577 M -0.9831848079823727,0.18261334385160577 Q -0.1483535580853191, 0.13413136025339434 -0.28043991993918355, 0.9598715806317553L -0.28043991993918355, 0.9598715806317553 L -0.27595790182845237, 0.9611697230034029 L -0.2714698751042027, 0.9624469371923361 \", \"type\": \"path\"}, {\"fillcolor\": \"#e1b396\", \"layer\": \"below\", \"line\": {\"color\": \"rgb(175,175,175)\", \"width\": 0.5}, \"path\": \"M -0.2628293162631947,0.9648423449002544 Q -0.15356711582160287, 0.12812939139102478 -0.9963181626428189, 0.08573283378051477L -0.9963181626428189, 0.08573283378051477 L -0.9959549027475327, 0.08985450290971903 L -0.995574591990611, 0.09397463371957548 M -0.995574591990611,0.09397463371957548 Q -0.1536113870614696, 0.12807631227143987 -0.2714698751042027, 0.9624469371923361L -0.2714698751042027, 0.9624469371923361 L -0.26715228048527956, 0.963654325487887 L -0.2628293162631947, 0.9648423449002544 \", \"type\": \"path\"}, {\"fillcolor\": \"#e1b396\", \"layer\": \"below\", \"line\": {\"color\": \"rgb(175,175,175)\", \"width\": 0.5}, \"path\": \"M -0.2543446024762492,0.9671136557774369 Q -0.16629562230655717, 0.11111150256240299 -0.990825843129824, -0.1351449169820065L -0.990825843129824, -0.1351449169820065 L -0.9913698714677107, -0.13109453820085193 L -0.991897342406889, -0.1270419699396653 M -0.991897342406889,-0.1270419699396653 Q -0.16632950264372326, 0.11106077863175488 -0.2628293162631947, 0.9648423449002544L -0.2628293162631947, 0.9648423449002544 L -0.2585894531286097, 0.9659873160298983 L -0.2543446024762492, 0.9671136557774369 \", \"type\": \"path\"}, {\"fillcolor\": \"#e1b396\", \"layer\": \"below\", \"line\": {\"color\": \"rgb(175,175,175)\", \"width\": 0.5}, \"path\": \"M -0.29131170993725275,0.9566281867337142 Q -0.17987859661377437, 0.08742820185877696 -0.9321957362638406, -0.36195456799371417L -0.9321957362638406, -0.36195456799371417 L -0.9342690057843401, -0.35656896223695705 L -0.9363111611611432, -0.3511714815942088 M -0.9363111611611432,-0.3511714815942088 Q -0.17994994082171958, 0.0872812625840141 -0.30388986456897654, 0.952707169182771L -0.30388986456897654, 0.952707169182771 L -0.2976072448182878, 0.9546883930538109 L -0.29131170993725275, 0.9566281867337142 \", \"type\": \"path\"}, {\"fillcolor\": \"#e1b396\", \"layer\": \"below\", \"line\": {\"color\": \"rgb(175,175,175)\", \"width\": 0.5}, \"path\": \"M -0.30388986456897654,0.952707169182771 Q -0.1872160302259048, 0.07035735943348863 -0.8561288797257558, -0.5167623644379711L -0.8561288797257558, -0.5167623644379711 L -0.8595593594277596, -0.5110359161743326 L -0.86295153682028, -0.5052866959454967 M -0.86295153682028,-0.5052866959454967 Q -0.1872162935695881, 0.07035665869031739 -0.3165888509228963, 0.94856286005268L -0.3165888509228963, 0.94856286005268 L -0.3102462778489897, 0.950656219188013 L -0.30388986456897654, 0.952707169182771 \", \"type\": \"path\"}, {\"fillcolor\": \"#e1b396\", \"layer\": \"below\", \"line\": {\"color\": \"rgb(175,175,175)\", \"width\": 0.5}, \"path\": \"M -0.37529365852430935,0.9269059660350877 Q -0.19952902343565032, 0.013717463570781211 -0.4986113001407756, -0.8668256868436268L -0.4986113001407756, -0.8668256868436268 L -0.5098316752781578, -0.86027417890058 L -0.5209659811039425, -0.8535774402667907 M -0.5209659811039425,-0.8535774402667907 Q -0.19952523852574933, 0.013772406879076644 -0.39874606312660377, 0.9170613813377132L -0.39874606312660377, 0.9170613813377132 L -0.3870511615217318, 0.9220582402238365 L -0.37529365852430935, 0.9269059660350877 \", \"type\": \"path\"}, {\"fillcolor\": \"#e1b396\", \"layer\": \"below\", \"line\": {\"color\": \"rgb(175,175,175)\", \"width\": 0.5}, \"path\": \"M -0.24317874064958073,0.9699814947183704 Q -0.1995020310465666, -0.014104595290002839 -0.10428852281430605, -0.9945470848628586L -0.10428852281430605, -0.9945470848628586 L -0.10581768323482367, -0.9943855479213355 L -0.10734659345728359, -0.9942216598289924 M -0.10734659345728359,-0.9942216598289924 Q -0.19949270413509868, -0.014235905200091431 -0.24743629376067539, 0.968904164781007L -0.24743629376067539, 0.968904164781007 L -0.24530810862524027, 0.969445167011888 L -0.24317874064958073, 0.9699814947183704 \", \"type\": \"path\"}, {\"fillcolor\": \"#e1b396\", \"layer\": \"below\", \"line\": {\"color\": \"rgb(175,175,175)\", \"width\": 0.5}, \"path\": \"M -0.4584126185805079,0.8887394843969529 Q -0.18789073928376318, -0.06853517411811934 0.22146764228628088, -0.9751677206615055L 0.22146764228628088, -0.9751677206615055 L 0.2022424327955433, -0.9793354881637549 L 0.18293895973729737, -0.9831242734315105 M 0.18293895973729737,-0.9831242734315105 Q -0.18793464545242675, -0.06841468437894503 -0.49189946061531015, 0.8706520089257056L -0.49189946061531015, 0.8706520089257056 L -0.4752420974183586, 0.8798550726349195 L -0.4584126185805079, 0.8887394843969529 \", \"type\": \"path\"}, {\"fillcolor\": \"#e1b396\", \"layer\": \"below\", \"line\": {\"color\": \"rgb(175,175,175)\", \"width\": 0.5}, \"path\": \"M -0.3526260867980839,0.9357643094868869 Q -0.16584992523468117, -0.11177567847993886 0.7350153171224464, -0.6780505022455109L 0.7350153171224464, -0.6780505022455109 L 0.7266412158585897, -0.6870171347321335 L 0.7181577361481171, -0.6958803532293547 M 0.7181577361481171,-0.6958803532293547 Q -0.16586112304324543, -0.1117590616587013 -0.37529365852430935, 0.9269059660350877L -0.37529365852430935, 0.9269059660350877 L -0.36398682183525827, 0.9314040978706654 L -0.3526260867980839, 0.9357643094868869 \", \"type\": \"path\"}, {\"fillcolor\": \"#e1b396\", \"layer\": \"below\", \"line\": {\"color\": \"rgb(175,175,175)\", \"width\": 0.5}, \"path\": \"M -0.24743629376067539,0.968904164781007 Q -0.15314963152931663, -0.1286281087571241 0.9115967252773104, -0.41108564857421614L 0.9115967252773104, -0.41108564857421614 L 0.9102983469617983, -0.4139527986602063 L 0.9089909509251234, -0.4168158479907404 M 0.9089909509251234,-0.4168158479907404 Q -0.15309548370012355, -0.12869255172940355 -0.2543446024762492, 0.9671136557774369L -0.2543446024762492, 0.9671136557774369 L -0.2508920453854721, 0.9680150730036667 L -0.24743629376067539, 0.968904164781007 \", \"type\": \"path\"}, {\"fillcolor\": \"#e1b396\", \"layer\": \"below\", \"line\": {\"color\": \"rgb(175,175,175)\", \"width\": 0.5}, \"path\": \"M -0.28043991993918355,0.9598715806317553 Q -0.1366568965851944, -0.14603045098781106 0.976340777138669, -0.2162375705011964L 0.976340777138669, -0.2162375705011964 L 0.9752532262774346, -0.22109080631146788 L 0.9741415509041385, -0.22593857307259407 M 0.9741415509041385,-0.22593857307259407 Q -0.1365547777675191, -0.1461259479656624 -0.29131170993725275, 0.9566281867337142L -0.29131170993725275, 0.9566281867337142 L -0.28588041462748864, 0.9582653017470762 L -0.28043991993918355, 0.9598715806317553 \", \"type\": \"path\"}, {\"fillcolor\": \"#e1b396\", \"layer\": \"below\", \"line\": {\"color\": \"rgb(175,175,175)\", \"width\": 0.5}, \"path\": \"M -0.23838339113638832,0.971171127469467 Q -0.1317797539981826, -0.1504463241032445 0.9941074774477625, -0.10839890812386631L 0.9941074774477625, -0.10839890812386631 L 0.9940057547711263, -0.10932776171624256 L 0.9939031642116656, -0.11025651985274537 M 0.9939031642116656,-0.11025651985274537 Q -0.13174138228522012, -0.15047992621469314 -0.24069299673093744, 0.9706012988476169L -0.24069299673093744, 0.9706012988476169 L -0.2395383633766533, 0.9708868999378014 L -0.23838339113638832, 0.971171127469467 \", \"type\": \"path\"}, {\"fillcolor\": \"#dba284\", \"layer\": \"below\", \"line\": {\"color\": \"rgb(175,175,175)\", \"width\": 0.5}, \"path\": \"M -0.6669473629188271,0.7451048349699674 Q -0.14583902887628913, 0.13686116197234666 -0.7859219649953229, 0.6183256948711501L -0.7859219649953229, 0.6183256948711501 L -0.7802220908691236, 0.6255025890592404 L -0.774456680915408, 0.6326269432971456 M -0.774456680915408,0.6326269432971456 Q -0.14572380991728892, 0.1369838356273829 -0.6792581325573391, 0.7338994409009426L -0.6792581325573391, 0.7338994409009426 L -0.6731260648842965, 0.7395277552420747 L -0.6669473629188271, 0.7451048349699674 \", \"type\": \"path\"}, {\"fillcolor\": \"#dba284\", \"layer\": \"below\", \"line\": {\"color\": \"rgb(175,175,175)\", \"width\": 0.5}, \"path\": \"M -0.6162421787307104,0.7875567136106626 Q -0.14882699760489956, 0.13360585609886724 -0.8492249876445261, 0.528031173663217L -0.8492249876445261, 0.528031173663217 L -0.8471251244051621, 0.5313934734276841 L -0.8450119490304576, 0.5347474226172084 M -0.8450119490304576,0.5347474226172084 Q -0.14874414794120402, 0.1336980869468416 -0.6214959465815248, 0.7834173781470094L -0.6214959465815248, 0.7834173781470094 L -0.6188725234144605, 0.785491438376395 L -0.6162421787307104, 0.7875567136106626 \", \"type\": \"path\"}, {\"fillcolor\": \"#dba284\", \"layer\": \"below\", \"line\": {\"color\": \"rgb(175,175,175)\", \"width\": 0.5}, \"path\": \"M -0.6073066746238827,0.794467496476276 Q -0.16248332034834004, 0.11661548185630717 -0.9470446350736405, 0.3211019451486322L -0.9470446350736405, 0.3211019451486322 L -0.9469818089306983, 0.32128718236858195 L -0.9469189465562777, 0.32147240729609955 M -0.9469189465562777,0.32147240729609955 Q -0.16248650963438516, 0.11661103801456735 -0.6076608685183712, 0.7941966185218234L -0.6076608685183712, 0.7941966185218234 L -0.6074837866692393, 0.7943320772410001 L -0.6073066746238827, 0.794467496476276 \", \"type\": \"path\"}, {\"fillcolor\": \"#dba284\", \"layer\": \"below\", \"line\": {\"color\": \"rgb(175,175,175)\", \"width\": 0.5}, \"path\": \"M -0.6273008473794736,0.7787770199980187 Q -0.17249380123689312, 0.10122197654090348 -0.9858168244243105, 0.1678248750393339L -0.9858168244243105, 0.1678248750393339 L -0.985173396165523, 0.17156159094532064 L -0.9845158040238098, 0.17529584030247636 M -0.9845158040238098,0.17529584030247636 Q -0.17250116672994992, 0.10120942385374015 -0.6333011875383152, 0.7739054243656389L -0.6333011875383152, 0.7739054243656389 L -0.6303057240107525, 0.7763470192377125 L -0.6273008473794736, 0.7787770199980187 \", \"type\": \"path\"}, {\"fillcolor\": \"#dba284\", \"layer\": \"below\", \"line\": {\"color\": \"rgb(175,175,175)\", \"width\": 0.5}, \"path\": \"M -0.6076608685183712,0.7941966185218234 Q -0.1738567096489096, 0.09886275592989888 -0.9932324519072339, 0.11614343062930599L -0.9932324519072339, 0.11614343062930599 L -0.9931931658024729, 0.11647890540034173 L -0.9931537663875611, 0.1168143668826812 M -0.9931537663875611,0.1168143668826812 Q -0.17385270560774957, 0.09886979696987938 -0.6081329390898016, 0.7938352022894927L -0.6081329390898016, 0.7938352022894927 L -0.6078969306634291, 0.7940159454884909 L -0.6076608685183712, 0.7941966185218234 \", \"type\": \"path\"}, {\"fillcolor\": \"#dba284\", \"layer\": \"below\", \"line\": {\"color\": \"rgb(175,175,175)\", \"width\": 0.5}, \"path\": \"M -0.6095478603880609,0.7927492705113875 Q -0.18367704952106545, 0.0791374846658401 -0.9948356787236359, -0.10149863220005802L -0.9948356787236359, -0.10149863220005802 L -0.9949474109796727, -0.1003974570636448 L -0.9950579243547104, -0.09929615893324074 M -0.9950579243547104,-0.09929615893324074 Q -0.18366591233018617, 0.07916332893404857 -0.6110785034057695, 0.7915699985947957L -0.6110785034057695, 0.7915699985947957 L -0.6103134667264849, 0.7921600042493309 L -0.6095478603880609, 0.7927492705113875 \", \"type\": \"path\"}, {\"fillcolor\": \"#dba284\", \"layer\": \"below\", \"line\": {\"color\": \"rgb(175,175,175)\", \"width\": 0.5}, \"path\": \"M -0.6070704782733857,0.794647994025608 Q -0.19110982933058718, 0.05896637290213669 -0.9492768063053924, -0.31444164007115005L -0.9492768063053924, -0.31444164007115005 L -0.9493271999778801, -0.3142894643193724 L -0.9493775692555244, -0.3141372804913036 M -0.9493775692555244,-0.3141372804913036 Q -0.19110914124284423, 0.05896860294616636 -0.6073066746238827, 0.794467496476276L -0.6073066746238827, 0.794467496476276 L -0.6071885831556455, 0.7945577540276351 L -0.6070704782733857, 0.794647994025608 \", \"type\": \"path\"}, {\"fillcolor\": \"#dba284\", \"layer\": \"below\", \"line\": {\"color\": \"rgb(175,175,175)\", \"width\": 0.5}, \"path\": \"M -0.6110785034057695,0.7915699985947957 Q -0.19552846523711664, 0.04205495549893812 -0.882491908212259, -0.4703275793953463L -0.882491908212259, -0.4703275793953463 L -0.8830933019899414, -0.46919742111450496 L -0.8836932484375618, -0.4680664938508947 M -0.8836932484375618,-0.4680664938508947 Q -0.1955183760564032, 0.04210183635266874 -0.6127243365389637, 0.7902967084664384L -0.6127243365389637, 0.7902967084664384 L -0.6119017511669144, 0.7909337816270485 L -0.6110785034057695, 0.7915699985947957 \", \"type\": \"path\"}, {\"fillcolor\": \"#dba284\", \"layer\": \"below\", \"line\": {\"color\": \"rgb(175,175,175)\", \"width\": 0.5}, \"path\": \"M -0.6081329390898016,0.7938352022894927 Q -0.1999868917504677, 0.0022897877601899767 -0.6261494630937569, -0.7797030523650654L -0.6261494630937569, -0.7797030523650654 L -0.6265866646105537, -0.7793517509650065 L -0.627023669029602, -0.7790002044137447 M -0.627023669029602,-0.7790002044137447 Q -0.1999866272110975, 0.0023127768438643776 -0.608840641848274, 0.7932925518582548L -0.608840641848274, 0.7932925518582548 L -0.6084868509612045, 0.7935639559653128 L -0.6081329390898016, 0.7938352022894927 \", \"type\": \"path\"}, {\"fillcolor\": \"#dba284\", \"layer\": \"below\", \"line\": {\"color\": \"rgb(175,175,175)\", \"width\": 0.5}, \"path\": \"M -0.6333011875383152,0.7739054243656389 Q -0.1887498045222329, -0.06613252825061867 -0.011799900911018363, -0.9999303787456856L -0.011799900911018363, -0.9999303787456856 L -0.0167174205260218, -0.9998602541610283 L -0.021634535798168847, -0.9997659460397708 M -0.021634535798168847,-0.9997659460397708 Q -0.18881937331984983, -0.06593363526379524 -0.6392636964842845, 0.7689875983117339L -0.6392636964842845, 0.7689875983117339 L -0.6362871932273486, 0.771452271845033 L -0.6333011875383152, 0.7739054243656389 \", \"type\": \"path\"}, {\"fillcolor\": \"#dba284\", \"layer\": \"below\", \"line\": {\"color\": \"rgb(175,175,175)\", \"width\": 0.5}, \"path\": \"M -0.6127243365389637,0.7902967084664384 Q -0.15716486960307152, -0.12368995012792888 0.6241425214938973, -0.7813105098891476L 0.6241425214938973, -0.7813105098891476 L 0.6219779043025736, -0.7830347926876421 L 0.6198085235574096, -0.7847530784428846 M 0.6198085235574096,-0.7847530784428846 Q -0.15723138366760284, -0.12360538819149867 -0.6162421787307104, 0.7875567136106626L -0.6162421787307104, 0.7875567136106626 L -0.6144847848453808, 0.7889286718034312 L -0.6127243365389637, 0.7902967084664384 \", \"type\": \"path\"}, {\"fillcolor\": \"#dba284\", \"layer\": \"below\", \"line\": {\"color\": \"rgb(175,175,175)\", \"width\": 0.5}, \"path\": \"M -0.6214959465815248,0.7834173781470094 Q -0.1076497556155902, -0.1685572013172493 0.9721475537188565, -0.23436965204233018L 0.9721475537188565, -0.23436965204233018 L 0.9711996868859551, -0.23826701029018385 L 0.9702361955354081, -0.24216053533343812 M 0.9702361955354081,-0.24216053533343812 Q -0.10769949604807832, -0.16852542404928095 -0.6273008473794736, 0.7787770199980187L -0.6273008473794736, 0.7787770199980187 L -0.6244027076997303, 0.7811025916083272 L -0.6214959465815248, 0.7834173781470094 \", \"type\": \"path\"}, {\"fillcolor\": \"#dba284\", \"layer\": \"below\", \"line\": {\"color\": \"rgb(175,175,175)\", \"width\": 0.5}, \"path\": \"M -0.608840641848274,0.7932925518582548 Q -0.09831798754627111, -0.17416536201223043 0.9937757076270939, -0.11139947455113437L 0.9937757076270939, -0.11139947455113437 L 0.9937275725407363, -0.11182804465918038 L 0.9936792526316593, -0.11225659396840308 M 0.9936792526316593,-0.11225659396840308 Q -0.09831543832226038, -0.17416680104859772 -0.6095478603880609, 0.7927492705113875L -0.6095478603880609, 0.7927492705113875 L -0.6091943116806661, 0.7930209900222815 L -0.608840641848274, 0.7932925518582548 \", \"type\": \"path\"}, {\"fillcolor\": \"#d59171\", \"layer\": \"below\", \"line\": {\"color\": \"rgb(175,175,175)\", \"width\": 0.5}, \"path\": \"M -0.711584650211983,0.7026003740268645 Q -0.15606747519725303, 0.12507175214873587 -0.8407457949135532, 0.5414300585811409L -0.8407457949135532, 0.5414300585811409 L -0.8386888482574696, 0.5446108847687119 L -0.8366198675194726, 0.5477838965063688 M -0.8366198675194726,0.5477838965063688 Q -0.1560337916973268, 0.12511377161829637 -0.7165114685535976, 0.6975753116554276L -0.7165114685535976, 0.6975753116554276 L -0.7140524798089338, 0.7000921768443868 L -0.711584650211983, 0.7026003740268645 \", \"type\": \"path\"}, {\"fillcolor\": \"#d59171\", \"layer\": \"below\", \"line\": {\"color\": \"rgb(175,175,175)\", \"width\": 0.5}, \"path\": \"M -0.701975298198549,0.7122012922756166 Q -0.16942099681227285, 0.1062851157930208 -0.9467091436673111, 0.3220897348514953L -0.9467091436673111, 0.3220897348514953 L -0.9466881412418581, 0.3221514600805586 L -0.9466671347919338, 0.3222131839401216 M -0.9466671347919338,0.3222131839401216 Q -0.1694227642811124, 0.10628229835370816 -0.7020918479874765, 0.7120863971383881L -0.7020918479874765, 0.7120863971383881 L -0.7020335754434864, 0.7121438470913265 L -0.701975298198549, 0.7122012922756166 \", \"type\": \"path\"}, {\"fillcolor\": \"#d59171\", \"layer\": \"below\", \"line\": {\"color\": \"rgb(175,175,175)\", \"width\": 0.5}, \"path\": \"M -0.7373004677444831,0.6755649637627505 Q -0.1805123046177861, 0.08611218195804586 -0.9889944770212864, 0.14795243972774538L -0.9889944770212864, 0.14795243972774538 L -0.9882264146436025, 0.15299854051804124 L -0.9874326059507599, 0.15804065522925223 M -0.9874326059507599,0.15804065522925223 Q -0.18056599413229024, 0.08599954513262109 -0.7449913444418796, 0.6670741313427471L -0.7449913444418796, 0.6670741313427471 L -0.7411580652448428, 0.6713305611414702 L -0.7373004677444831, 0.6755649637627505 \", \"type\": \"path\"}, {\"fillcolor\": \"#d59171\", \"layer\": \"below\", \"line\": {\"color\": \"rgb(175,175,175)\", \"width\": 0.5}, \"path\": \"M -0.7036052828208951,0.7105910258274645 Q -0.17995011287159585, 0.0872809078636326 -0.993638113787095, 0.11262015285739954L -0.993638113787095, 0.11262015285739954 L -0.993552238199823, 0.11337526171137273 L -0.9934657887725482, 0.11413030508387649 M -0.9934657887725482,0.11413030508387649 Q -0.17994806134823838, 0.08728513743479269 -0.7046511800666204, 0.7095538840924763L -0.7046511800666204, 0.7095538840924763 L -0.7041284224002455, 0.7100726475285056 L -0.7036052828208951, 0.7105910258274645 \", \"type\": \"path\"}, {\"fillcolor\": \"#d59171\", \"layer\": \"below\", \"line\": {\"color\": \"rgb(175,175,175)\", \"width\": 0.5}, \"path\": \"M -0.7078952957364097,0.7063173863598864 Q -0.18882575081471187, 0.06591536868788908 -0.9936704913800365, -0.1123341201975465L -0.9936704913800365, -0.1123341201975465 L -0.9939728576488505, -0.10962644871279029 L -0.9942678457463712, -0.10691796348074645 M -0.9942678457463712,-0.10691796348074645 Q -0.1888187669891008, 0.06593537163553159 -0.711584650211983, 0.7026003740268645L -0.711584650211983, 0.7026003740268645 L -0.7097424062873684, 0.7044612954005465 L -0.7078952957364097, 0.7063173863598864 \", \"type\": \"path\"}, {\"fillcolor\": \"#d59171\", \"layer\": \"below\", \"line\": {\"color\": \"rgb(175,175,175)\", \"width\": 0.5}, \"path\": \"M -0.7046511800666204,0.7095538840924763 Q -0.19462262961738064, 0.046065519000830606 -0.9479580124857261, -0.3183953620329792L -0.9479580124857261, -0.3183953620329792 L -0.9482383621511074, -0.3175594567084806 L -0.948517974718905, -0.3167233045343312 M -0.948517974718905,-0.3167233045343312 Q -0.19462348028665133, 0.04606192485243579 -0.7059274225655779, 0.7082841760691255L -0.7059274225655779, 0.7082841760691255 L -0.7052895870424908, 0.7089193172776665 L -0.7046511800666204, 0.7095538840924763 \", \"type\": \"path\"}, {\"fillcolor\": \"#d59171\", \"layer\": \"below\", \"line\": {\"color\": \"rgb(175,175,175)\", \"width\": 0.5}, \"path\": \"M -0.7059274225655779,0.7082841760691255 Q -0.197881376520181, 0.02903378767020188 -0.8796373012469755, -0.47564505490432435L -0.8796373012469755, -0.47564505490432435 L -0.8803756465177479, -0.4742770509084931 L -0.8811118642827062, -0.47290790078011385 M -0.8811118642827062,-0.47290790078011385 Q -0.19787662905008344, 0.029066125916187742 -0.7078952957364097, 0.7063173863598864L -0.7078952957364097, 0.7063173863598864 L -0.7069120431582318, 0.7073014655985482 L -0.7059274225655779, 0.7082841760691255 \", \"type\": \"path\"}, {\"fillcolor\": \"#d59171\", \"layer\": \"below\", \"line\": {\"color\": \"rgb(175,175,175)\", \"width\": 0.5}, \"path\": \"M -0.7226483439407925,0.6912158642563335 Q -0.19919052396488565, -0.017975960686269877 -0.5872228953013492, -0.8094252721739671L -0.5872228953013492, -0.8094252721739671 L -0.5920547033862441, -0.8058977777598264 L -0.5968653220782912, -0.8023414405976907 M -0.5968653220782912,-0.8023414405976907 Q -0.19920386637517484, -0.017827496211792675 -0.729848552099878, 0.6836088728196201L -0.729848552099878, 0.6836088728196201 L -0.7262584077527949, 0.6874217956745153 L -0.7226483439407925, 0.6912158642563335 \", \"type\": \"path\"}, {\"fillcolor\": \"#d59171\", \"layer\": \"below\", \"line\": {\"color\": \"rgb(175,175,175)\", \"width\": 0.5}, \"path\": \"M -0.7449913444418796,0.6670741313427471 Q -0.1804729121121773, -0.08619470977821281 0.05059928956091261, -0.9987190355129569L 0.05059928956091261, -0.9987190355129569 L 0.04313590331033412, -0.999069213741271 L 0.035670109008344046, -0.9993636191713869 M 0.035670109008344046,-0.9993636191713869 Q -0.18055962090796135, -0.08601292517740165 -0.7535535563399164, 0.65738652079843L -0.7535535563399164, 0.65738652079843 L -0.7492881070484806, 0.6622441639121516 L -0.7449913444418796, 0.6670741313427471 \", \"type\": \"path\"}, {\"fillcolor\": \"#d59171\", \"layer\": \"below\", \"line\": {\"color\": \"rgb(175,175,175)\", \"width\": 0.5}, \"path\": \"M -0.729848552099878,0.6836088728196201 Q -0.14444553834207538, -0.13833107551475204 0.651421728556198, -0.7587158437549958L 0.651421728556198, -0.7587158437549958 L 0.6467199851655843, -0.7627275141145928 L 0.6419935371426854, -0.7667100483670626 M 0.6419935371426854,-0.7667100483670626 Q -0.1445420569119863, -0.13823022022572384 -0.7373004677444831, 0.6755649637627505L -0.7373004677444831, 0.6755649637627505 L -0.7335855353847948, 0.67959713233224 L -0.729848552099878, 0.6836088728196201 \", \"type\": \"path\"}, {\"fillcolor\": \"#d59171\", \"layer\": \"below\", \"line\": {\"color\": \"rgb(175,175,175)\", \"width\": 0.5}, \"path\": \"M -0.7029071697853654,0.7112815973047015 Q -0.11595587961603995, -0.16295469917271627 0.9023539471301297, -0.4309957703953427L 0.9023539471301297, -0.4309957703953427 L 0.9021451442794644, -0.4314326583060032 L 0.901936129903118, -0.4318694450587885 M 0.901936129903118,-0.4318694450587885 Q -0.11595477792837992, -0.16295548310989755 -0.7036052828208951, 0.7105910258274645L -0.7036052828208951, 0.7105910258274645 L -0.7032563110675657, 0.7109363972562097 L -0.7029071697853654, 0.7112815973047015 \", \"type\": \"path\"}, {\"fillcolor\": \"#d59171\", \"layer\": \"below\", \"line\": {\"color\": \"rgb(175,175,175)\", \"width\": 0.5}, \"path\": \"M -0.7165114685535976,0.6975753116554276 Q -0.0958775862554637, -0.17552062116408465 0.9741415509041385, -0.22593857307259407L 0.9741415509041385, -0.22593857307259407 L 0.9731536828613935, -0.23015627198342103 L 0.9721475537188565, -0.23436965204233018 M 0.9721475537188565,-0.23436965204233018 Q -0.09586231812666238, -0.17552896046915614 -0.7226483439407925, 0.6912158642563335L -0.7226483439407925, 0.6912158642563335 L -0.7195869315916789, 0.6944023674228599 L -0.7165114685535976, 0.6975753116554276 \", \"type\": \"path\"}, {\"fillcolor\": \"#d59171\", \"layer\": \"below\", \"line\": {\"color\": \"rgb(175,175,175)\", \"width\": 0.5}, \"path\": \"M -0.7020918479874765,0.7120863971383881 Q -0.08756864933585268, -0.17981026570664554 0.9935168515529633, -0.11368494042874368L 0.9935168515529633, -0.11368494042874368 L 0.9935004985162702, -0.11382776220203339 L 0.9934841249484117, -0.11397058162301679 M 0.9934841249484117,-0.11397058162301679 Q -0.08756507010054781, -0.17981200877106665 -0.7023248911461548, 0.7118565496478498L -0.7023248911461548, 0.7118565496478498 L -0.7022083789710524, 0.7119714829281064 L -0.7020918479874765, 0.7120863971383881 \", \"type\": \"path\"}, {\"fillcolor\": \"#d0805f\", \"layer\": \"below\", \"line\": {\"color\": \"rgb(175,175,175)\", \"width\": 0.5}, \"path\": \"M -0.8492249876445261,0.528031173663217 Q -0.1820223582610926, 0.0828725593491022 -0.9558655266120524, 0.2938045184040979L -0.9558655266120524, 0.2938045184040979 L -0.9548639121474131, 0.2970436151115478 L -0.9538513215421408, 0.30027929730887476 M -0.9538513215421408,0.30027929730887476 Q -0.18212087847858646, 0.082655826305155 -0.8540268893200614, 0.5202288653259252L -0.8540268893200614, 0.5202288653259252 L -0.8516348736986381, 0.52413551864027 L -0.8492249876445261, 0.528031173663217 \", \"type\": \"path\"}, {\"fillcolor\": \"#d0805f\", \"layer\": \"below\", \"line\": {\"color\": \"rgb(175,175,175)\", \"width\": 0.5}, \"path\": \"M -0.8407457949135532,0.5414300585811409 Q -0.18588900663970404, 0.07379212160186256 -0.9831848079823727, 0.18261334385160577L -0.9831848079823727, 0.18261334385160577 L -0.982580309317791, 0.18583846679564026 L -0.9819652313715335, 0.189061588847261 M -0.9819652313715335,0.189061588847261 Q -0.18593935337574008, 0.07366516725163712 -0.8450119490304576, 0.5347474226172084L -0.8450119490304576, 0.5347474226172084 L -0.8428854947278763, 0.5380929685262047 L -0.8407457949135532, 0.5414300585811409 \", \"type\": \"path\"}, {\"fillcolor\": \"#d0805f\", \"layer\": \"below\", \"line\": {\"color\": \"rgb(175,175,175)\", \"width\": 0.5}, \"path\": \"M -0.8328362158624096,0.5535195006031691 Q -0.18829538103980145, 0.06741549880462196 -0.9949000290355285, 0.10086591210663969L -0.9949000290355285, 0.10086591210663969 L -0.99456245988618, 0.10414179461268537 L -0.9942141043497826, 0.10741654766356823 M -0.9942141043497826,0.10741654766356823 Q -0.18830497695168308, 0.06738869085555904 -0.8366198675194726, 0.5477838965063688L -0.8366198675194726, 0.5477838965063688 L -0.8347329680046084, 0.5506549483353596 L -0.8328362158624096, 0.5535195006031691 \", \"type\": \"path\"}, {\"fillcolor\": \"#d0805f\", \"layer\": \"below\", \"line\": {\"color\": \"rgb(175,175,175)\", \"width\": 0.5}, \"path\": \"M -0.8290132433639928,0.5592289712873549 Q -0.19440364127096746, 0.04698110535724978 -0.992902577127503, -0.11893053574907918L -0.992902577127503, -0.11893053574907918 L -0.993292010087868, -0.11563296543634345 L -0.9936704913800365, -0.1123341201975465 M -0.9936704913800365,-0.1123341201975465 Q -0.1944090480387954, 0.046958726991362776 -0.8328362158624096, 0.5535195006031691L -0.8328362158624096, 0.5535195006031691 L -0.8309296334808651, 0.5563775194985463 L -0.8290132433639928, 0.5592289712873549 \", \"type\": \"path\"}, {\"fillcolor\": \"#d0805f\", \"layer\": \"below\", \"line\": {\"color\": \"rgb(175,175,175)\", \"width\": 0.5}, \"path\": \"M -0.8198402079549526,0.5725923798134062 Q -0.19802950896784968, 0.0280055990464825 -0.9464676243975005, -0.32279875459386737L -0.9464676243975005, -0.32279875459386737 L -0.9468550318021549, -0.3216606111275363 L -0.9472410705704248, -0.320522002715251 M -0.9472410705704248,-0.320522002715251 Q -0.19803284340354343, 0.027982010891064377 -0.8213505722719489, 0.5704237349800078L -0.8213505722719489, 0.5704237349800078 L -0.820596106516811, 0.5715085563396671 L -0.8198402079549526, 0.5725923798134062 \", \"type\": \"path\"}, {\"fillcolor\": \"#d0805f\", \"layer\": \"below\", \"line\": {\"color\": \"rgb(175,175,175)\", \"width\": 0.5}, \"path\": \"M -0.8662458011971481,0.49961806603475717 Q -0.19997080712202078, -0.0034170599888741354 -0.8486703168581929, -0.5289221996511533L -0.8486703168581929, -0.5289221996511533 L -0.8524212811552877, -0.5228555818135425 L -0.8561288797257558, -0.5167623644379711 M -0.8561288797257558,-0.5167623644379711 Q -0.19997169347379345, -0.0033647896253999514 -0.8730297387953632, 0.48766697158911637L -0.8730297387953632, 0.48766697158911637 L -0.8696582996606614, 0.4936541723021566 L -0.8662458011971481, 0.49961806603475717 \", \"type\": \"path\"}, {\"fillcolor\": \"#d0805f\", \"layer\": \"below\", \"line\": {\"color\": \"rgb(175,175,175)\", \"width\": 0.5}, \"path\": \"M -0.8730297387953632,0.48766697158911637 Q -0.1934466499950899, -0.05077788500594713 -0.5209659811039425, -0.8535774402667907L -0.5209659811039425, -0.8535774402667907 L -0.5307453538105937, -0.847531338304648 L -0.5404545665037024, -0.8413731999209952 M -0.5404545665037024,-0.8413731999209952 Q -0.19348023108395854, -0.05064977966090284 -0.8833920089711216, 0.468634781558055L -0.8833920089711216, 0.468634781558055 L -0.8782624294999263, 0.47817894655545745 L -0.8730297387953632, 0.48766697158911637 \", \"type\": \"path\"}, {\"fillcolor\": \"#d0805f\", \"layer\": \"below\", \"line\": {\"color\": \"rgb(175,175,175)\", \"width\": 0.5}, \"path\": \"M -0.8213505722719489,0.5704237349800078 Q -0.18217842532125347, -0.08252891219123439 -0.1128230786009853, -0.9936150929484696L -0.1128230786009853, -0.9936150929484696 L -0.11403254358951864, -0.9934770148335111 L -0.11524183959651754, -0.9933374645136518 M -0.11524183959651754,-0.9933374645136518 Q -0.18214073751293336, -0.08261205564713128 -0.8232554640094623, 0.5676710675898191L -0.8232554640094623, 0.5676710675898191 L -0.8223041699625229, 0.5690481983648189 L -0.8213505722719489, 0.5704237349800078 \", \"type\": \"path\"}, {\"fillcolor\": \"#d0805f\", \"layer\": \"below\", \"line\": {\"color\": \"rgb(175,175,175)\", \"width\": 0.5}, \"path\": \"M -0.8960935344018863,0.44386526965187917 Q -0.16176901005343935, -0.11760436805803703 0.1458115395313708, -0.9893123849116069L 0.1458115395313708, -0.9893123849116069 L 0.1296057247331352, -0.991565608578877 L 0.11336521377601626, -0.9935533847285299 M 0.11336521377601626,-0.9935533847285299 Q -0.1619008514791694, -0.11742280140722217 -0.9092042066832939, 0.416350466013192L -0.9092042066832939, 0.416350466013192 L -0.9027537037291138, 0.4301578203443098 L -0.8960935344018863, 0.44386526965187917 \", \"type\": \"path\"}, {\"fillcolor\": \"#d0805f\", \"layer\": \"below\", \"line\": {\"color\": \"rgb(175,175,175)\", \"width\": 0.5}, \"path\": \"M -0.8540268893200614,0.5202288653259252 Q -0.12853065598232621, -0.15323142782325339 0.6608888564667023, -0.7504837902300986L 0.6608888564667023, -0.7504837902300986 L 0.6561682021914014, -0.7546146635421976 L 0.651421728556198, -0.7587158437549958 M 0.651421728556198,-0.7587158437549958 Q -0.12857395232535798, -0.1531951003897859 -0.8601980781754194, 0.5099600634395943L -0.8601980781754194, 0.5099600634395943 L -0.857127862030669, 0.5151037061900589 L -0.8540268893200614, 0.5202288653259252 \", \"type\": \"path\"}, {\"fillcolor\": \"#d0805f\", \"layer\": \"below\", \"line\": {\"color\": \"rgb(175,175,175)\", \"width\": 0.5}, \"path\": \"M -0.8232554640094623,0.5676710675898191 Q -0.09925601159538291, -0.17363249742538756 0.9068939952843559, -0.42135885100135095L 0.9068939952843559, -0.42135885100135095 L 0.9059737049997798, -0.42333396491301284 L 0.9050491131437431, -0.42530706883112573 M 0.9050491131437431,-0.42530706883112573 Q -0.09922137020844586, -0.1736522953892592 -0.8259465408569683, 0.5637484471343653L -0.8259465408569683, 0.5637484471343653 L -0.8246033349142318, 0.5657113575387428 L -0.8232554640094623, 0.5676710675898191 \", \"type\": \"path\"}, {\"fillcolor\": \"#d0805f\", \"layer\": \"below\", \"line\": {\"color\": \"rgb(175,175,175)\", \"width\": 0.5}, \"path\": \"M -0.8259465408569683,0.5637484471343653 Q -0.0829541500628102, -0.18198518892304608 0.9672928403545252, -0.25366229715682037L 0.9672928403545252, -0.25366229715682037 L 0.9666590424107526, -0.2560669750778625 L 0.9660192664775838, -0.25847006943572937 M 0.9660192664775838,-0.25847006943572937 Q -0.08290973233395797, -0.18200542927152324 -0.8290132433639928, 0.5592289712873549L -0.8290132433639928, 0.5592289712873549 L -0.8274829776271265, 0.5614908028964896 L -0.8259465408569683, 0.5637484471343653 \", \"type\": \"path\"}, {\"fillcolor\": \"#d0805f\", \"layer\": \"below\", \"line\": {\"color\": \"rgb(175,175,175)\", \"width\": 0.5}, \"path\": \"M -0.818526593513321,0.5744686377092126 Q -0.07033301000669158, -0.18722517913838038 0.9943083187980558, -0.10654091781556926L 0.9943083187980558, -0.10654091781556926 L 0.9942083321527583, -0.10746995988661491 L 0.9941074774477625, -0.10839890812386631 M 0.9941074774477625,-0.10839890812386631 Q -0.07029354276624168, -0.18724000065523005 -0.8198402079549526, 0.5725923798134062L -0.8198402079549526, 0.5725923798134062 L -0.8191839379066634, 0.5735308848490478 L -0.818526593513321, 0.5744686377092126 \", \"type\": \"path\"}, {\"fillcolor\": \"#ca6f4c\", \"layer\": \"below\", \"line\": {\"color\": \"rgb(175,175,175)\", \"width\": 0.5}, \"path\": \"M -0.9475459395957974,0.3196196057120364 Q -0.1922589885835168, 0.05510427668378524 -0.9729928424651311, 0.23083528437313205L -0.9729928424651311, 0.23083528437313205 L -0.9728580214787919, 0.23140283067493053 L -0.9727228694429715, 0.23197029823370038 M -0.9727228694429715,0.23197029823370038 Q -0.19225558630349704, 0.055116145865786115 -0.9478788536886039, 0.318630944401165L -0.9478788536886039, 0.318630944401165 L -0.9477125255646358, 0.3191253184689355 L -0.9475459395957974, 0.3196196057120364 \", \"type\": \"path\"}, {\"fillcolor\": \"#ca6f4c\", \"layer\": \"below\", \"line\": {\"color\": \"rgb(175,175,175)\", \"width\": 0.5}, \"path\": \"M -0.9472537938474731,0.3204843990611226 Q -0.1951659424814176, 0.043706462855509165 -0.9934657887725482, 0.11413030508387649L -0.9934657887725482, 0.11413030508387649 L -0.9933981536321722, 0.11471751548996881 L -0.9933301714078459, 0.11530468581484261 M -0.9933301714078459,0.11530468581484261 Q -0.19516005392388125, 0.04373274919814407 -0.9475459395957974, 0.3196196057120364L -0.9475459395957974, 0.3196196057120364 L -0.9473999653953215, 0.32005203572066787 L -0.9472537938474731, 0.3204843990611226 \", \"type\": \"path\"}, {\"fillcolor\": \"#ca6f4c\", \"layer\": \"below\", \"line\": {\"color\": \"rgb(175,175,175)\", \"width\": 0.5}, \"path\": \"M -0.9524709064402935,0.30462956584154083 Q -0.19995304015524085, -0.004333789643791942 -0.9383775489869997, -0.34561188572899376L -0.9383775489869997, -0.34561188572899376 L -0.9393433999072192, -0.34297809995792183 L -0.9403018584809225, -0.3403416150536446 M -0.9403018584809225,-0.3403416150536446 Q -0.199955280569123, -0.004229157424748122 -0.9538513215421408, 0.30027929730887476L -0.9538513215421408, 0.30027929730887476 L -0.9531635958396936, 0.3024552191084579 L -0.9524709064402935, 0.30462956584154083 \", \"type\": \"path\"}, {\"fillcolor\": \"#ca6f4c\", \"layer\": \"below\", \"line\": {\"color\": \"rgb(175,175,175)\", \"width\": 0.5}, \"path\": \"M -0.94936419634155,0.3141776928821696 Q -0.19919266115176476, -0.017952262901323297 -0.8778916362418697, -0.4788593478429473L -0.8778916362418697, -0.4788593478429473 L -0.8787659383746285, -0.4772529995218037 L -0.8796373012469755, -0.47564505490432435 M -0.8796373012469755,-0.47564505490432435 Q -0.19920205611152264, -0.017847712484847508 -0.9501803484988035, 0.31170066622754006L -0.9501803484988035, 0.31170066622754006 L -0.9497730799372281, 0.3129394456225543 L -0.94936419634155, 0.3141776928821696 \", \"type\": \"path\"}, {\"fillcolor\": \"#ca6f4c\", \"layer\": \"below\", \"line\": {\"color\": \"rgb(175,175,175)\", \"width\": 0.5}, \"path\": \"M -0.9512316834375424,0.308477364525469 Q -0.1913020810149049, -0.058339641748700925 -0.6172171731401472, -0.786792832441225L -0.6172171731401472, -0.786792832441225 L -0.6194945064174413, -0.7850009914125019 L -0.6217666378358356, -0.7832025587766684 M -0.6217666378358356,-0.7832025587766684 Q -0.19135314413826351, -0.05817193677711746 -0.9524709064402935, 0.30462956584154083L -0.9524709064402935, 0.30462956584154083 L -0.9518532392472976, 0.3065540913679458 L -0.9512316834375424, 0.308477364525469 \", \"type\": \"path\"}, {\"fillcolor\": \"#ca6f4c\", \"layer\": \"below\", \"line\": {\"color\": \"rgb(175,175,175)\", \"width\": 0.5}, \"path\": \"M -0.9501803484988035,0.31170066622754006 Q -0.16769326491300574, -0.10899068264221712 -0.10097450081269922, -0.9948890140038869L -0.10097450081269922, -0.9948890140038869 L -0.10263165421062598, -0.9947194295649354 L -0.10428852281430605, -0.9945470848628586 M -0.10428852281430605,-0.9945470848628586 Q -0.1676900599770213, -0.10899561360395658 -0.9512316834375424, 0.308477364525469L -0.9512316834375424, 0.308477364525469 L -0.9507073820143302, 0.3100894609358054 L -0.9501803484988035, 0.31170066622754006 \", \"type\": \"path\"}, {\"fillcolor\": \"#ca6f4c\", \"layer\": \"below\", \"line\": {\"color\": \"rgb(175,175,175)\", \"width\": 0.5}, \"path\": \"M -0.9608170667276827,0.2771832684070443 Q -0.15443599754682508, -0.12708077219515565 0.08701758743979059, -0.9962067754618809L 0.08701758743979059, -0.9962067754618809 L 0.0774033860371828, -0.9969998574874416 L 0.06778198133245145, -0.9977001568640987 M 0.06778198133245145,-0.9977001568640987 Q -0.15481609393208096, -0.12661744374142564 -0.9644187560104791, 0.26437939226649243L -0.9644187560104791, 0.26437939226649243 L -0.9626391993367128, 0.27078731857377025 L -0.9608170667276827, 0.2771832684070443 \", \"type\": \"path\"}, {\"fillcolor\": \"#ca6f4c\", \"layer\": \"below\", \"line\": {\"color\": \"rgb(175,175,175)\", \"width\": 0.5}, \"path\": \"M -0.9467931131226229,0.321842820245492 Q -0.11569067765325143, -0.16314308782210626 0.616908634646515, -0.7870347746437718L 0.616908634646515, -0.7870347746437718 L 0.6166908038812298, -0.78720547026067 L 0.6164729258853012, -0.7873761055876766 M 0.6164729258853012,-0.7873761055876766 Q -0.11570391510670003, -0.16313369985684 -0.9469189465562777, 0.32147240729609955L -0.9469189465562777, 0.32147240729609955 L -0.9468560479527838, 0.3216576199240983 L -0.9467931131226229, 0.321842820245492 \", \"type\": \"path\"}, {\"fillcolor\": \"#ca6f4c\", \"layer\": \"below\", \"line\": {\"color\": \"rgb(175,175,175)\", \"width\": 0.5}, \"path\": \"M -0.9478788536886039,0.318630944401165 Q -0.07451698827832139, -0.1855996186901485 0.9050491131437431, -0.42530706883112573L 0.9050491131437431, -0.42530706883112573 L 0.9046711953468751, -0.4261103475740247 L 0.9042925645979979, -0.42691329050847754 M 0.9042925645979979,-0.42691329050847754 Q -0.07454863794158496, -0.18558690843121042 -0.9483349261477039, 0.3172709691232859L -0.9483349261477039, 0.3172709691232859 L -0.9481071337636183, 0.3179510385366533 L -0.9478788536886039, 0.318630944401165 \", \"type\": \"path\"}, {\"fillcolor\": \"#ca6f4c\", \"layer\": \"below\", \"line\": {\"color\": \"rgb(175,175,175)\", \"width\": 0.5}, \"path\": \"M -0.9470446350736405,0.3211019451486322 Q -0.0595524747802737, -0.19092800409459287 0.9616603064136934, -0.2742434230174379L 0.9616603064136934, -0.2742434230174379 L 0.961550230867315, -0.27462911993998984 L 0.961440000627945, -0.27501477268055446 M 0.961440000627945,-0.27501477268055446 Q -0.0595668122370034, -0.19092353149866464 -0.9472537938474731, 0.3204843990611226L -0.9472537938474731, 0.3204843990611226 L -0.9471492647909528, 0.3207931891514493 L -0.9470446350736405, 0.3211019451486322 \", \"type\": \"path\"}, {\"fillcolor\": \"#ca6f4c\", \"layer\": \"below\", \"line\": {\"color\": \"rgb(175,175,175)\", \"width\": 0.5}, \"path\": \"M -0.9467091436673111,0.3220897348514953 Q -0.04380008096268607, -0.19514495357979963 0.993549496031502, -0.11339928983705483L 0.993549496031502, -0.11339928983705483 L 0.9935331840581532, -0.11354211630610002 L 0.9935168515529633, -0.11368494042874368 M 0.9935168515529633,-0.11368494042874368 Q -0.04380268690968872, -0.19514436865944093 -0.9467931131226229, 0.321842820245492L -0.9467931131226229, 0.321842820245492 L -0.9467511364444454, 0.3219662802859193 L -0.9467091436673111, 0.3220897348514953 \", \"type\": \"path\"}, {\"fillcolor\": \"#c45e3a\", \"layer\": \"below\", \"line\": {\"color\": \"rgb(175,175,175)\", \"width\": 0.5}, \"path\": \"M -0.9724515724069608,0.23310499634977708 Q -0.19952744621936824, 0.013740385918056 -0.995225564556851, -0.09760161705882395L -0.995225564556851, -0.09760161705882395 L -0.9952918126598083, -0.09692372079296702 L -0.9953575990148869, -0.09624577956107867 M -0.9953575990148869,-0.09624577956107867 Q -0.19952610165209694, 0.013759896784390754 -0.9727228694429715, 0.23197029823370038L -0.9727228694429715, 0.23197029823370038 L -0.9725873864036602, 0.2325376868563406 L -0.9724515724069608, 0.23310499634977708 \", \"type\": \"path\"}, {\"fillcolor\": \"#c45e3a\", \"layer\": \"below\", \"line\": {\"color\": \"rgb(175,175,175)\", \"width\": 0.5}, \"path\": \"M -0.9749429690451593,0.22245495523680617 Q -0.1995479801767509, -0.013438884156768128 -0.9363111611611432, -0.3511714815942088L -0.9363111611611432, -0.3511714815942088 L -0.9373484769634893, -0.34839321568340986 L -0.9383775489869997, -0.34561188572899376 M -0.9383775489869997,-0.34561188572899376 Q -0.19955157000180881, -0.013385473835961012 -0.976129113696459, 0.2171910527488769L -0.976129113696459, 0.2171910527488769 L -0.9755395918058783, 0.21982380403227553 L -0.9749429690451593, 0.22245495523680617 \", \"type\": \"path\"}, {\"fillcolor\": \"#c45e3a\", \"layer\": \"below\", \"line\": {\"color\": \"rgb(175,175,175)\", \"width\": 0.5}, \"path\": \"M -0.9738279704407651,0.22728634800009542 Q -0.19801586051148073, -0.028101939183939113 -0.872137230799756, -0.48926133165511165L -0.872137230799756, -0.48926133165511165 L -0.8736541640623862, -0.4865474299762082 L -0.8751626522790955, -0.4838288251601169 M -0.8751626522790955,-0.4838288251601169 Q -0.19803352212459832, -0.02797720706086006 -0.9749429690451593, 0.22245495523680617L -0.9749429690451593, 0.22245495523680617 L -0.9743884642355026, 0.22487134269350245 L -0.9738279704407651, 0.22728634800009542 \", \"type\": \"path\"}, {\"fillcolor\": \"#c45e3a\", \"layer\": \"below\", \"line\": {\"color\": \"rgb(175,175,175)\", \"width\": 0.5}, \"path\": \"M -0.9807888033385033,0.19507261018868532 Q -0.18704352652806708, -0.07081468198011114 -0.6056787727994203, -0.7957092585738765L -0.6056787727994203, -0.7957092585738765 L -0.6087980372316778, -0.7933252484718084 L -0.6119079180681585, -0.7909290105979752 M -0.6119079180681585,-0.7909290105979752 Q -0.18710460153362973, -0.07065315339701154 -0.9819652313715335, 0.189061588847261L -0.9819652313715335, 0.189061588847261 L -0.9813816195991363, 0.1920680002316269 L -0.9807888033385033, 0.19507261018868532 \", \"type\": \"path\"}, {\"fillcolor\": \"#c45e3a\", \"layer\": \"below\", \"line\": {\"color\": \"rgb(175,175,175)\", \"width\": 0.5}, \"path\": \"M -0.9722813395726768,0.23381402164703724 Q -0.16414562996002938, -0.11426378326059883 -0.11829613845712877, -0.9929783600996206L -0.11829613845712877, -0.9929783600996206 L -0.11861423074317486, -0.9929404132500624 L -0.11893231085671326, -0.9929023645023121 M -0.11893231085671326,-0.9929023645023121 Q -0.1641405747982869, -0.11427104491028335 -0.9724515724069608, 0.23310499634977708L -0.9724515724069608, 0.23310499634977708 L -0.9723665206152555, 0.23345952451459723 L -0.9722813395726768, 0.23381402164703724 \", \"type\": \"path\"}, {\"fillcolor\": \"#c45e3a\", \"layer\": \"below\", \"line\": {\"color\": \"rgb(175,175,175)\", \"width\": 0.5}, \"path\": \"M -0.9796341859359637,0.20079059177556488 Q -0.15632898175368026, -0.12474473721908075 -0.021634535798168847, -0.9997659460397708L -0.021634535798168847, -0.9997659460397708 L -0.025416582313054322, -0.9996769464899767 L -0.02919826507098027, -0.9995736397668982 M -0.02919826507098027,-0.9995736397668982 Q -0.15643700140591169, -0.124609247614801 -0.9807888033385033, 0.19507261018868532L -0.9807888033385033, 0.19507261018868532 L -0.9802156640491501, 0.19793244290081338 L -0.9796341859359637, 0.20079059177556488 \", \"type\": \"path\"}, {\"fillcolor\": \"#c45e3a\", \"layer\": \"below\", \"line\": {\"color\": \"rgb(175,175,175)\", \"width\": 0.5}, \"path\": \"M -0.9772868377546035,0.2119208266112782 Q -0.10431468194147973, -0.1706412820259152 0.6341805974947907, -0.7731849518460316L 0.6341805974947907, -0.7731849518460316 L 0.6314663656488981, -0.7754032686635852 L 0.6287443743543977, -0.7776120573381672 M 0.6287443743543977,-0.7776120573381672 Q -0.1044399998866277, -0.1705646107012859 -0.978446233095833, 0.2065017407688731L -0.978446233095833, 0.2065017407688731 L -0.9778702893162065, 0.20921208682253215 L -0.9772868377546035, 0.2119208266112782 \", \"type\": \"path\"}, {\"fillcolor\": \"#c45e3a\", \"layer\": \"below\", \"line\": {\"color\": \"rgb(175,175,175)\", \"width\": 0.5}, \"path\": \"M -0.9722472309679363,0.2339558118003916 Q -0.06719603343774, -0.18837381211366439 0.9008178161543317, -0.4341972617358851L 0.9008178161543317, -0.4341972617358851 L 0.9007827720041914, -0.4342699594266738 L 0.9007477219872109, -0.43434265428904195 M 0.9007477219872109,-0.43434265428904195 Q -0.06719750010549612, -0.1883732889227447 -0.9722813395726768, 0.23381402164703724L -0.9722813395726768, 0.23381402164703724 L -0.9722642878550523, 0.23388491734549313 L -0.9722472309679363, 0.2339558118003916 \", \"type\": \"path\"}, {\"fillcolor\": \"#c45e3a\", \"layer\": \"below\", \"line\": {\"color\": \"rgb(175,175,175)\", \"width\": 0.5}, \"path\": \"M -0.978446233095833,0.2065017407688731 Q -0.044873738724787504, -0.19490086601362117 0.9702361955354081, -0.24216053533343812L 0.9702361955354081, -0.24216053533343812 L 0.9694541632101668, -0.24527255336558815 L 0.9686621491611206, -0.2483820460149222 M 0.9686621491611206,-0.2483820460149222 Q -0.04493066259589901, -0.19488775117665422 -0.9796341859359637, 0.20079059177556488L -0.9796341859359637, 0.20079059177556488 L -0.9790443739456554, 0.20364703249829066 L -0.978446233095833, 0.2065017407688731 \", \"type\": \"path\"}, {\"fillcolor\": \"#c45e3a\", \"layer\": \"below\", \"line\": {\"color\": \"rgb(175,175,175)\", \"width\": 0.5}, \"path\": \"M -0.973328446288704,0.2294160753853521 Q -0.033448567333128995, -0.19718314670214881 0.9945357437243099, -0.10439662089710482L 0.9945357437243099, -0.10439662089710482 L 0.9944226092361012, -0.10546883065657119 L 0.9943083187980558, -0.10654091781556926 M 0.9943083187980558,-0.10654091781556926 Q -0.03344549118652598, -0.1971836684902987 -0.9738279704407651, 0.22728634800009542L -0.9738279704407651, 0.22728634800009542 L -0.9735787907187431, 0.2283513482829251 L -0.973328446288704, 0.2294160753853521 \", \"type\": \"path\"}, {\"fillcolor\": \"#bf4d28\", \"layer\": \"below\", \"line\": {\"color\": \"rgb(175,175,175)\", \"width\": 0.5}, \"path\": \"M -0.9999966754700867,0.0025785749502496257 Q -0.19848004755121157, -0.024610378381260147 -0.9690834656797848, -0.24673312818925938L -0.9690834656797848, -0.24673312818925938 L -0.9729871577032172, -0.2308592448757788 L -0.9766308490880287, -0.21492367158969736 M -0.9766308490880287,-0.21492367158969736 Q -0.19848334817242663, -0.024583744594004916 -0.9995546090026127, -0.029842647698118663L -0.9995546090026127, -0.029842647698118663 L -0.9999070550449223, -0.013633828200130878 L -0.9999966754700867, 0.0025785749502496257 \", \"type\": \"path\"}, {\"fillcolor\": \"#bf4d28\", \"layer\": \"below\", \"line\": {\"color\": \"rgb(175,175,175)\", \"width\": 0.5}, \"path\": \"M -0.993638113787095,0.11262015285739954 Q -0.19890465244749833, -0.020903091511541915 -0.948517974718905, -0.3167233045343312L -0.948517974718905, -0.3167233045343312 L -0.9487462002317237, -0.31603899687517367 L -0.9489739320513104, -0.3153545247607443 M -0.9489739320513104,-0.3153545247607443 Q -0.19890384515107928, -0.020910771963642827 -0.9938081432435677, 0.11110974044957728L -0.9938081432435677, 0.11110974044957728 L -0.9937234154847656, 0.11186497895808065 L -0.993638113787095, 0.11262015285739954 \", \"type\": \"path\"}, {\"fillcolor\": \"#bf4d28\", \"layer\": \"below\", \"line\": {\"color\": \"rgb(175,175,175)\", \"width\": 0.5}, \"path\": \"M -0.9940128390266233,0.10926333259713576 Q -0.19644566371917124, -0.03753799682900369 -0.8836932484375618, -0.4680664938508947L -0.8836932484375618, -0.4680664938508947 L -0.8841636189451695, -0.4671773698861934 L -0.8846330948650113, -0.46628777323617654 M -0.8846330948650113,-0.46628777323617654 Q -0.1964485542277243, -0.037522866919211695 -0.9942141043497826, 0.10741654766356823L -0.9942141043497826, 0.10741654766356823 L -0.9941139005393794, 0.10833998686718045 L -0.9940128390266233, 0.10926333259713576 \", \"type\": \"path\"}, {\"fillcolor\": \"#bf4d28\", \"layer\": \"below\", \"line\": {\"color\": \"rgb(175,175,175)\", \"width\": 0.5}, \"path\": \"M -0.997938533657947,0.06417696658947354 Q -0.1798986033292573, -0.08738702718471741 -0.5664553501624816, -0.8240924318741802L -0.5664553501624816, -0.8240924318741802 L -0.5718354721247825, -0.8203683275333264 L -0.57719111114264, -0.8166090993969665 M -0.57719111114264,-0.8166090993969665 Q -0.17995382883829192, -0.08727324610921001 -0.998627473465851, 0.05237527316598013L -0.998627473465851, 0.05237527316598013 L -0.9983004433498375, 0.058277137948924 L -0.997938533657947, 0.06417696658947354 \", \"type\": \"path\"}, {\"fillcolor\": \"#bf4d28\", \"layer\": \"below\", \"line\": {\"color\": \"rgb(175,175,175)\", \"width\": 0.5}, \"path\": \"M -0.9932324519072339,0.11614343062930599 Q -0.1569840973270103, -0.12391930110529092 -0.11765991749808521, -0.9930539480885939L -0.11765991749808521, -0.9930539480885939 L -0.11797803403121762, -0.9930162050470923 L -0.11829613845712877, -0.9929783600996206 M -0.11829613845712877,-0.9929783600996206 Q -0.15697147392585256, -0.12393529107379138 -0.9933301714078459, 0.11530468581484261L -0.9933301714078459, 0.11530468581484261 L -0.9932814001889589, 0.11572406853658941 L -0.9932324519072339, 0.11614343062930599 \", \"type\": \"path\"}, {\"fillcolor\": \"#bf4d28\", \"layer\": \"below\", \"line\": {\"color\": \"rgb(175,175,175)\", \"width\": 0.5}, \"path\": \"M -0.997173922031122,0.07512768611550505 Q -0.14510253064575163, -0.1376417654645519 0.022434959779091795, -0.9997483046145718L 0.022434959779091795, -0.9997483046145718 L 0.016288591190104056, -0.9998673320981347 L 0.010141607022443936, -0.9999485725811115 M 0.010141607022443936,-0.9999485725811115 Q -0.1451931792952284, -0.1375461402080904 -0.997938533657947, 0.06417696658947354L -0.997938533657947, 0.06417696658947354 L -0.9975712542349802, 0.06965337553951455 L -0.997173922031122, 0.07512768611550505 \", \"type\": \"path\"}, {\"fillcolor\": \"#bf4d28\", \"layer\": \"below\", \"line\": {\"color\": \"rgb(175,175,175)\", \"width\": 0.5}, \"path\": \"M -0.9995546090026127,-0.029842647698118663 Q -0.05636132938157119, -0.19189424314017878 0.8246573475130001, -0.5656326185721815L 0.8246573475130001, -0.5656326185721815 L 0.8138139449399058, -0.581125513999642 L 0.8026795150227064, -0.5964105936038635 M 0.8026795150227064,-0.5964105936038635 Q -0.056668339176889515, -0.19180380427648722 -0.9979226437410899, -0.06442357572188889L -0.9979226437410899, -0.06442357572188889 L -0.9988882840202294, -0.04714017444941606 L -0.9995546090026127, -0.029842647698118663 \", \"type\": \"path\"}, {\"fillcolor\": \"#bf4d28\", \"layer\": \"below\", \"line\": {\"color\": \"rgb(175,175,175)\", \"width\": 0.5}, \"path\": \"M -0.9938081432435677,0.11110974044957728 Q -0.05454189405049509, -0.19241928643819614 0.9042925645979979, -0.42691329050847754L 0.9042925645979979, -0.42691329050847754 L 0.9039132211955024, -0.42771589700170204 L 0.9035331654383412, -0.4285181664211813 M 0.9035331654383412,-0.4285181664211813 Q -0.05453398133448815, -0.192421529148403 -0.9940128390266233, 0.10926333259713576L -0.9940128390266233, 0.10926333259713576 L -0.9939109198987081, 0.11018658405678924 L -0.9938081432435677, 0.11110974044957728 \", \"type\": \"path\"}, {\"fillcolor\": \"#bf4d28\", \"layer\": \"below\", \"line\": {\"color\": \"rgb(175,175,175)\", \"width\": 0.5}, \"path\": \"M -0.9997273716181859,0.02334914211258294 Q -0.01898442571309551, -0.19909694015816506 0.9861245490833661, -0.16600714953015658L 0.9861245490833661, -0.16600714953015658 L 0.984438582847716, -0.1757289862281705 L 0.9826567750276595, -0.18543371455115668 M 0.9826567750276595,-0.18543371455115668 Q -0.018881020404340903, -0.19910677303520055 -0.9999966754700867, 0.0025785749502496257L -0.9999966754700867, 0.0025785749502496257 L -0.9999159565887706, 0.012964557808260831 L -0.9997273716181859, 0.02334914211258294 \", \"type\": \"path\"}, {\"fillcolor\": \"#bf4d28\", \"layer\": \"below\", \"line\": {\"color\": \"rgb(175,175,175)\", \"width\": 0.5}, \"path\": \"M -0.998627473465851,0.05237527316598013 Q -0.011193262628579845, -0.1996865315231041 0.9982249285151146, -0.05955662927831256L 0.9982249285151146, -0.05955662927831256 L 0.9979126400933901, -0.06457834576574471 L 0.9975750893529782, -0.06959842744198648 M 0.9975750893529782,-0.06959842744198648 Q -0.011017633144390427, -0.1996962988137127 -0.9991768504849385, 0.040566260056835876L -0.9991768504849385, 0.040566260056835876 L -0.9989196125798966, 0.046471578445639525 L -0.998627473465851, 0.05237527316598013 \", \"type\": \"path\"}, {\"fillcolor\": \"#af4624\", \"layer\": \"below\", \"line\": {\"color\": \"rgb(175,175,175)\", \"width\": 0.5}, \"path\": \"M -0.9948356787236359,-0.10149863220005802 Q -0.1953326954803965, -0.04295507043833932 -0.9456365835618301, -0.32522523246130497L -0.9456365835618301, -0.32522523246130497 L -0.946052881922074, -0.32401225996393745 L -0.9464676243975005, -0.32279875459386737 M -0.9464676243975005,-0.32279875459386737 Q -0.1953292657939819, -0.042970663532042166 -0.9945554534829285, -0.10420868460625773L -0.9945554534829285, -0.10420868460625773 L -0.9946964890465534, -0.10285375383747505 L -0.9948356787236359, -0.10149863220005802 \", \"type\": \"path\"}, {\"fillcolor\": \"#af4624\", \"layer\": \"below\", \"line\": {\"color\": \"rgb(175,175,175)\", \"width\": 0.5}, \"path\": \"M -0.9945554534829285,-0.10420868460625773 Q -0.1911561403392877, -0.058816069322818104 -0.8811118642827062, -0.47290790078011385L -0.8811118642827062, -0.47290790078011385 L -0.8818028300613637, -0.4716182448716012 L -0.882491908212259, -0.4703275793953463 M -0.882491908212259,-0.4703275793953463 Q -0.19116207058457113, -0.058796792172868144 -0.9942678457463712, -0.10691796348074645L -0.9942678457463712, -0.10691796348074645 L -0.9944125722944849, -0.10556342199202294 L -0.9945554534829285, -0.10420868460625773 \", \"type\": \"path\"}, {\"fillcolor\": \"#af4624\", \"layer\": \"below\", \"line\": {\"color\": \"rgb(175,175,175)\", \"width\": 0.5}, \"path\": \"M -0.990825843129824,-0.1351449169820065 Q -0.17221830440475128, -0.10168999767898726 -0.5968653220782912, -0.8023414405976907L -0.5968653220782912, -0.8023414405976907 L -0.6012811916989528, -0.7990375013158564 L -0.6056787727994203, -0.7957092585738765 M -0.6056787727994203,-0.7957092585738765 Q -0.17226829147831935, -0.10160529391296902 -0.9894181148511167, -0.1450923637014106L -0.9894181148511167, -0.1450923637014106 L -0.9901344712735055, -0.14012040820642682 L -0.990825843129824, -0.1351449169820065 \", \"type\": \"path\"}, {\"fillcolor\": \"#af4624\", \"layer\": \"below\", \"line\": {\"color\": \"rgb(175,175,175)\", \"width\": 0.5}, \"path\": \"M -0.9954066357407823,-0.09573729431740646 Q -0.14306140119067412, -0.13976206741945751 -0.11893231085671326, -0.9929023645023121L -0.11893231085671326, -0.9929023645023121 L -0.11912315306845331, -0.9928794863441534 L -0.11931399087928768, -0.9928565715048963 M -0.11931399087928768,-0.9928565715048963 Q -0.1430525660569333, -0.13977111055052377 -0.9953575990148869, -0.09624577956107867L -0.9953575990148869, -0.09624577956107867 L -0.9953821498474301, -0.095991540070509 L -0.9954066357407823, -0.09573729431740646 \", \"type\": \"path\"}, {\"fillcolor\": \"#af4624\", \"layer\": \"below\", \"line\": {\"color\": \"rgb(175,175,175)\", \"width\": 0.5}, \"path\": \"M -0.9878047004696306,-0.1556980209575678 Q -0.1291736861053899, -0.15268974693130577 0.010141607022443936, -0.9999485725811115L 0.010141607022443936, -0.9999485725811115 L 0.004183392791536589, -0.9999912495740909 L -0.0017749699587586772, -0.999998424739582 M -0.0017749699587586772,-0.999998424739582 Q -0.1292644390437446, -0.1526129247433062 -0.9860776064888747, -0.16628576000719977L -0.9860776064888747, -0.16628576000719977 L -0.9869553513130691, -0.16099420646251955 L -0.9878047004696306, -0.1556980209575678 \", \"type\": \"path\"}, {\"fillcolor\": \"#af4624\", \"layer\": \"below\", \"line\": {\"color\": \"rgb(175,175,175)\", \"width\": 0.5}, \"path\": \"M -0.9690834656797848,-0.24673312818925938 Q -0.030858965470148415, -0.19760497020599505 0.8477142199994164, -0.5304532036012046L 0.8477142199994164, -0.5304532036012046 L 0.836370768717684, -0.5481641517233594 L 0.8246573475130001, -0.5656326185721815 M 0.8246573475130001,-0.5656326185721815 Q -0.031179136108504896, -0.19755470500984615 -0.958776399169939, -0.2841616026044438L -0.958776399169939, -0.2841616026044438 L -0.9641115792784882, -0.26549738737158834 L -0.9690834656797848, -0.24673312818925938 \", \"type\": \"path\"}, {\"fillcolor\": \"#af4624\", \"layer\": \"below\", \"line\": {\"color\": \"rgb(175,175,175)\", \"width\": 0.5}, \"path\": \"M -0.995225564556851,-0.09760161705882395 Q -0.034338500068872735, -0.19703011803534004 0.9035331654383412, -0.4285181664211813L 0.9035331654383412, -0.4285181664211813 L 0.9031870422975725, -0.4292472092230338 L 0.9028403309068965, -0.42997597245418906 M 0.9028403309068965,-0.42997597245418906 Q -0.03432975729765002, -0.19703164152969047 -0.9950579243547104, -0.09929615893324074L -0.9950579243547104, -0.09929615893324074 L -0.9951421051420422, -0.09844892367854871 L -0.995225564556851, -0.09760161705882395 \", \"type\": \"path\"}, {\"fillcolor\": \"#af4624\", \"layer\": \"below\", \"line\": {\"color\": \"rgb(175,175,175)\", \"width\": 0.5}, \"path\": \"M -0.9838431253196694,-0.17903269187839743 Q -0.000651003212530708, -0.19999894048423675 0.9826567750276595, -0.18543371455115668L 0.9826567750276595, -0.18543371455115668 L 0.9810755560765547, -0.19362529088184458 L 0.9794260521317769, -0.20180339047092796 M 0.9794260521317769,-0.20180339047092796 Q -0.0005486401484148208, -0.19999924748355316 -0.9805184817304058, -0.19642684894153306L -0.9805184817304058, -0.19642684894153306 L -0.9822193084989079, -0.18773713008333512 L -0.9838431253196694, -0.17903269187839743 \", \"type\": \"path\"}, {\"fillcolor\": \"#af4624\", \"layer\": \"below\", \"line\": {\"color\": \"rgb(175,175,175)\", \"width\": 0.5}, \"path\": \"M -0.9860776064888747,-0.16628576000719977 Q 0.011832612564744787, -0.19964966636559311 0.9988160186976556, -0.04864731023360452L 0.9988160186976556, -0.04864731023360452 L 0.9985353721935064, -0.05410277699319763 L 0.9982249285151146, -0.05955662927831256 M 0.9982249285151146,-0.05955662927831256 Q 0.012033854659905079, -0.19963763758876804 -0.9838431253196694, -0.17903269187839743L -0.9838431253196694, -0.17903269187839743 L -0.98498098634964, -0.17266284061630108 L -0.9860776064888747, -0.16628576000719977 \", \"type\": \"path\"}, {\"fillcolor\": \"#9f4021\", \"layer\": \"below\", \"line\": {\"color\": \"rgb(175,175,175)\", \"width\": 0.5}, \"path\": \"M -0.9228537325154619,-0.3851506048058088 Q -0.1769144205426023, -0.09328069362989998 -0.8391541777576588, -0.5438936163919077L -0.8391541777576588, -0.5438936163919077 L -0.8439454466884221, -0.5364290102277091 L -0.8486703168581929, -0.5289221996511533 M -0.8486703168581929,-0.5289221996511533 Q -0.17701648730050162, -0.09308685849136468 -0.9167535617880503, -0.3994532600304113L -0.9167535617880503, -0.3994532600304113 L -0.919831446951174, -0.3923137892041388 L -0.9228537325154619, -0.3851506048058088 \", \"type\": \"path\"}, {\"fillcolor\": \"#9f4021\", \"layer\": \"below\", \"line\": {\"color\": \"rgb(175,175,175)\", \"width\": 0.5}, \"path\": \"M -0.9276571182054335,-0.3734330877718127 Q -0.15513187292485625, -0.12623035293789786 -0.5542228522666719, -0.8323683259383401L -0.5542228522666719, -0.8323683259383401 L -0.5603543797951436, -0.828252961989512 L -0.5664553501624816, -0.8240924318741802 M -0.5664553501624816,-0.8240924318741802 Q -0.15526466021916058, -0.12606698730051663 -0.9228537325154619, -0.3851506048058088L -0.9228537325154619, -0.3851506048058088 L -0.925273974134312, -0.3792994500255656 L -0.9276571182054335, -0.3734330877718127 \", \"type\": \"path\"}, {\"fillcolor\": \"#9f4021\", \"layer\": \"below\", \"line\": {\"color\": \"rgb(175,175,175)\", \"width\": 0.5}, \"path\": \"M -0.9444837461387056,-0.3285581429211537 Q -0.12447710556711736, -0.1565421674490063 -0.10734659345728359, -0.9942216598289924L -0.10734659345728359, -0.9942216598289924 L -0.10881156096418867, -0.9940623945208553 L -0.11027629218730765, -0.9939009706109656 M -0.11027629218730765,-0.9939009706109656 Q -0.12441919485489453, -0.1565881986346985 -0.9432659473391796, -0.332038179416645L -0.9432659473391796, -0.332038179416645 L -0.9438764505855439, -0.3302987224165956 L -0.9444837461387056, -0.3285581429211537 \", \"type\": \"path\"}, {\"fillcolor\": \"#9f4021\", \"layer\": \"below\", \"line\": {\"color\": \"rgb(175,175,175)\", \"width\": 0.5}, \"path\": \"M -0.9088335484539909,-0.4171589399791491 Q -0.09823443527670417, -0.17421250163483396 0.11336521377601626, -0.9935533847285299L 0.11336521377601626, -0.9935533847285299 L 0.10020018401365013, -0.9949672975146624 L 0.08701758743979059, -0.9962067754618809 M 0.08701758743979059,-0.9962067754618809 Q -0.09858608133299593, -0.17401374821376592 -0.8992434286191494, -0.4374485753608952L -0.8992434286191494, -0.4374485753608952 L -0.904095407621047, -0.4273306611027728 L -0.9088335484539909, -0.4171589399791491 \", \"type\": \"path\"}, {\"fillcolor\": \"#9f4021\", \"layer\": \"below\", \"line\": {\"color\": \"rgb(175,175,175)\", \"width\": 0.5}, \"path\": \"M -0.9420353260767341,-0.3355137022887457 Q -0.054185069527360644, -0.19252007230498097 0.6287443743543977, -0.7776120573381672L 0.6287443743543977, -0.7776120573381672 L 0.6264461773248458, -0.7794646797097915 L 0.6241425214938973, -0.7813105098891476 M 0.6241425214938973,-0.7813105098891476 Q -0.05425958833022241, -0.1924990833075181 -0.9403018584809225, -0.3403416150536446L -0.9403018584809225, -0.3403416150536446 L -0.9411716879919028, -0.3379287701905127 L -0.9420353260767341, -0.3355137022887457 \", \"type\": \"path\"}, {\"fillcolor\": \"#9f4021\", \"layer\": \"below\", \"line\": {\"color\": \"rgb(175,175,175)\", \"width\": 0.5}, \"path\": \"M -0.9492768063053924,-0.31444164007115005 Q -0.012661133056105174, -0.19959883694484695 0.901936129903118, -0.4318694450587885L 0.901936129903118, -0.4318694450587885 L 0.9017269040500986, -0.4323061305512845 L 0.9015174667694638, -0.4327427146811009 M 0.9015174667694638,-0.4327427146811009 Q -0.01266179419743696, -0.19959879500563563 -0.9489739320513104, -0.3153545247607443L -0.9489739320513104, -0.3153545247607443 L -0.9491254789318195, -0.3148981188296369 L -0.9492768063053924, -0.31444164007115005 \", \"type\": \"path\"}, {\"fillcolor\": \"#9f4021\", \"layer\": \"below\", \"line\": {\"color\": \"rgb(175,175,175)\", \"width\": 0.5}, \"path\": \"M -0.9479580124857261,-0.3183953620329792 Q 0.005376754376101587, -0.19992771321750039 0.9637009125169903, -0.2669841778344181L 0.9637009125169903, -0.2669841778344181 L 0.9634004625346981, -0.2680663141611226 L 0.9630987974257864, -0.26914811237867525 M 0.9630987974257864,-0.26914811237867525 Q 0.0053765640601911, -0.19992771833566916 -0.9472410705704248, -0.320522002715251L -0.9472410705704248, -0.320522002715251 L -0.9476001381143666, -0.31945888349775664 L -0.9479580124857261, -0.3183953620329792 \", \"type\": \"path\"}, {\"fillcolor\": \"#9f4021\", \"layer\": \"below\", \"line\": {\"color\": \"rgb(175,175,175)\", \"width\": 0.5}, \"path\": \"M -0.9456365835618301,-0.32522523246130497 Q 0.02293198499083336, -0.19868096049793044 0.9948609351021184, -0.10125077682535852L 0.9948609351021184, -0.10125077682535852 L 0.994699583047634, -0.10282382741788604 L 0.9945357437243099, -0.10439662089710482 M 0.9945357437243099,-0.10439662089710482 Q 0.022968149777125697, -0.19867678298134264 -0.9444837461387056, -0.3285581429211537L -0.9444837461387056, -0.3285581429211537 L -0.9450616341063944, -0.32689219589973606 L -0.9456365835618301, -0.32522523246130497 \", \"type\": \"path\"}, {\"fillcolor\": \"#8f391e\", \"layer\": \"below\", \"line\": {\"color\": \"rgb(175,175,175)\", \"width\": 0.5}, \"path\": \"M -0.8062296821217547,-0.5916026535317894 Q -0.11890555078223881, -0.16081501793418557 -0.3293407757142602, -0.9442111275831955L -0.3293407757142602, -0.9442111275831955 L -0.362229501728831, -0.9320889378580152 L -0.39467318686065556, -0.9188215689530008 M -0.39467318686065556,-0.9188215689530008 Q -0.11902807750607425, -0.16072435025598325 -0.7637925159108585, -0.6454618444482686L -0.7637925159108585, -0.6454618444482686 L -0.7854728694807567, -0.6188960908825215 L -0.8062296821217547, -0.5916026535317894 \", \"type\": \"path\"}, {\"fillcolor\": \"#8f391e\", \"layer\": \"below\", \"line\": {\"color\": \"rgb(175,175,175)\", \"width\": 0.5}, \"path\": \"M -0.872137230799756,-0.48926133165511165 Q -0.1083957871092167, -0.16807841425053183 -0.08592039895950052, -0.9963020049375793L -0.08592039895950052, -0.9963020049375793 L -0.08885632192557882, -0.9960444538542734 L -0.09179147308775848, -0.995778251152524 M -0.09179147308775848,-0.995778251152524 Q -0.10818405714107869, -0.1682147727772321 -0.8679903613349201, -0.49658104336520414L -0.8679903613349201, -0.49658104336520414 L -0.8700714934831426, -0.4929255483620358 L -0.872137230799756, -0.48926133165511165 \", \"type\": \"path\"}, {\"fillcolor\": \"#8f391e\", \"layer\": \"below\", \"line\": {\"color\": \"rgb(175,175,175)\", \"width\": 0.5}, \"path\": \"M -0.7637925159108585,-0.6454618444482686 Q -0.04608388000334733, -0.19461828280980462 0.3932384921498375, -0.919436505851123L 0.3932384921498375, -0.919436505851123 L 0.3579173388668999, -0.9337532749813715 L 0.3220762914120725, -0.9467137172927441 M 0.3220762914120725,-0.9467137172927441 Q -0.04632964401302746, -0.19455992415095702 -0.7141892467779365, -0.6999526553894654L -0.7141892467779365, -0.6999526553894654 L -0.7394929579309237, -0.6731642928517325 L -0.7637925159108585, -0.6454618444482686 \", \"type\": \"path\"}, {\"fillcolor\": \"#8f391e\", \"layer\": \"below\", \"line\": {\"color\": \"rgb(175,175,175)\", \"width\": 0.5}, \"path\": \"M -0.8679903613349201,-0.49658104336520414 Q -0.03521991537302008, -0.19687447158308086 0.6419935371426854, -0.7667100483670626L 0.6419935371426854, -0.7667100483670626 L 0.638095280168403, -0.7699574101382538 L 0.6341805974947907, -0.7731849518460316 M 0.6341805974947907,-0.7731849518460316 Q -0.035228627307122624, -0.1968729128601897 -0.86295153682028, -0.5052866959454967L -0.86295153682028, -0.5052866959454967 L -0.8654818951277917, -0.5009402052201501 L -0.8679903613349201, -0.49658104336520414 \", \"type\": \"path\"}, {\"fillcolor\": \"#8f391e\", \"layer\": \"below\", \"line\": {\"color\": \"rgb(175,175,175)\", \"width\": 0.5}, \"path\": \"M -0.8778916362418697,-0.4788593478429473 Q 0.006940146430500467, -0.19987954964808985 0.9089909509251234, -0.4168158479907404L 0.9089909509251234, -0.4168158479907404 L 0.907945314535319, -0.4190886610412653 L 0.9068939952843559, -0.42135885100135095 M 0.9068939952843559,-0.42135885100135095 Q 0.0070066937997277385, -0.19987722792253465 -0.8751626522790955, -0.4838288251601169L -0.8751626522790955, -0.4838288251601169 L -0.8765306660645927, -0.4813460204970656 L -0.8778916362418697, -0.4788593478429473 \", \"type\": \"path\"}, {\"fillcolor\": \"#8f391e\", \"layer\": \"below\", \"line\": {\"color\": \"rgb(175,175,175)\", \"width\": 0.5}, \"path\": \"M -0.8850591144608818,-0.46547863958480384 Q 0.02044105134344722, -0.19895266628013447 0.9612190761411904, -0.2757859453675556L 0.9612190761411904, -0.2757859453675556 L 0.9611748170122225, -0.27594015862414895 L 0.9611305331420391, -0.27609436477787735 M 0.9611305331420391,-0.27609436477787735 Q 0.02044551744406782, -0.19895220736760957 -0.884888795411904, -0.46580233979067714L -0.884888795411904, -0.46580233979067714 L -0.8849739697365209, -0.46564049747501923 L -0.8850591144608818, -0.46547863958480384 \", \"type\": \"path\"}, {\"fillcolor\": \"#8f391e\", \"layer\": \"below\", \"line\": {\"color\": \"rgb(175,175,175)\", \"width\": 0.5}, \"path\": \"M -0.884888795411904,-0.46580233979067714 Q 0.0369198938672091, -0.19656276716823565 0.9935983087571346, -0.11297079638101988L 0.9935983087571346, -0.11297079638101988 L 0.9935739254935864, -0.11318504574043865 L 0.993549496031502, -0.11339928983705483 M 0.993549496031502,-0.11339928983705483 Q 0.036931431621153345, -0.19656059971014558 -0.8846330948650113, -0.46628777323617654L -0.8846330948650113, -0.46628777323617654 L -0.8847609784307311, -0.4660450740500273 L -0.884888795411904, -0.46580233979067714 \", \"type\": \"path\"}, {\"fillcolor\": \"#f0f3e7\", \"layer\": \"below\", \"line\": {\"color\": \"rgb(175,175,175)\", \"width\": 0.5}, \"path\": \"M -0.5872228953013492,-0.8094252721739671 Q -0.06847754171901337, -0.18791175130928026 -0.0712300998403407, -0.997459910410807L -0.0712300998403407, -0.997459910410807 L -0.07544729944926844, -0.9971497906562546 L -0.07966314998904823, -0.9968218409193402 M -0.07966314998904823,-0.9968218409193402 Q -0.06811271192471102, -0.188044299233615 -0.57719111114264, -0.8166090993969665L -0.57719111114264, -0.8166090993969665 L -0.5822180832335317, -0.8130326583575055 L -0.5872228953013492, -0.8094252721739671 \", \"type\": \"path\"}, {\"fillcolor\": \"#f0f3e7\", \"layer\": \"below\", \"line\": {\"color\": \"rgb(175,175,175)\", \"width\": 0.5}, \"path\": \"M -0.2417665726861761,-0.970334439423635 Q 0.025329307493932265, -0.19838958183805377 0.4778109766328281, -0.8784626745680109L 0.4778109766328281, -0.8784626745680109 L 0.4360063164440911, -0.8999436049113606 L 0.3932384921498375, -0.919436505851123 M 0.3932384921498375,-0.919436505851123 Q 0.025220683066297957, -0.19840342019650103 -0.15069485170891828, -0.9885803263612053L -0.15069485170891828, -0.9885803263612053 L -0.196442664681304, -0.9805153132373348 L -0.2417665726861761, -0.970334439423635 \", \"type\": \"path\"}, {\"fillcolor\": \"#f0f3e7\", \"layer\": \"below\", \"line\": {\"color\": \"rgb(175,175,175)\", \"width\": 0.5}, \"path\": \"M -0.4986113001407756,-0.8668256868436268 Q 0.03345839482580236, -0.19718147939317407 0.756641165541645, -0.6538303653148735L 0.756641165541645, -0.6538303653148735 L 0.7459265508927048, -0.6660282131211208 L 0.7350153171224464, -0.6780505022455109 M 0.7350153171224464,-0.6780505022455109 Q 0.03350100231645696, -0.197174244879479 -0.469824991493309, -0.8827595807287011L -0.469824991493309, -0.8827595807287011 L -0.48428368234133184, -0.8749110326301298 L -0.4986113001407756, -0.8668256868436268 \", \"type\": \"path\"}, {\"fillcolor\": \"#f0f3e7\", \"layer\": \"below\", \"line\": {\"color\": \"rgb(175,175,175)\", \"width\": 0.5}, \"path\": \"M -0.5542228522666719,-0.8323683259383401 Q 0.058416874387377984, -0.19127851104295357 0.9246974333803403, -0.3807028456681288L 0.9246974333803403, -0.3807028456681288 L 0.9219704218258712, -0.38726030170703685 L 0.9191969090136045, -0.3937982255671491 M 0.9191969090136045,-0.3937982255671491 Q 0.05863182750671636, -0.1912127318021022 -0.5404545665037024, -0.8413731999209952L -0.5404545665037024, -0.8413731999209952 L -0.5473572277135867, -0.8368990771112708 L -0.5542228522666719, -0.8323683259383401 \", \"type\": \"path\"}, {\"fillcolor\": \"#f0f3e7\", \"layer\": \"below\", \"line\": {\"color\": \"rgb(175,175,175)\", \"width\": 0.5}, \"path\": \"M -0.6261494630937569,-0.7797030523650654 Q 0.06222501954564377, -0.19007379341335895 0.9660192664775838, -0.25847006943572937L 0.9660192664775838, -0.25847006943572937 L 0.9653944403619171, -0.2607941228599694 L 0.964764023036923, -0.26311666586062465 M 0.964764023036923,-0.26311666586062465 Q 0.06230060531528259, -0.19004903203476042 -0.6217666378358356, -0.7832025587766684L -0.6217666378358356, -0.7832025587766684 L -0.6239605038591072, -0.7814558782323472 L -0.6261494630937569, -0.7797030523650654 \", \"type\": \"path\"}, {\"fillcolor\": \"#f0f3e7\", \"layer\": \"below\", \"line\": {\"color\": \"rgb(175,175,175)\", \"width\": 0.5}, \"path\": \"M -0.6172171731401472,-0.786792832441225 Q 0.07962809381352004, -0.1834648922154461 0.996251021376396, -0.08650955095530095L 0.996251021376396, -0.08650955095530095 L 0.9960238352263648, -0.08908714644079228 L 0.9957899800871568, -0.09166414543331476 M 0.9957899800871568,-0.09166414543331476 Q 0.07977072076856952, -0.18340292284492882 -0.6119079180681585, -0.7909290105979752L -0.6119079180681585, -0.7909290105979752 L -0.6145660252990662, -0.7888653881037673 L -0.6172171731401472, -0.786792832441225 \", \"type\": \"path\"}, {\"fillcolor\": \"#e2ecde\", \"layer\": \"below\", \"line\": {\"color\": \"rgb(175,175,175)\", \"width\": 0.5}, \"path\": \"M -0.0712300998403407,-0.997459910410807 Q -0.0035610912021693513, -0.1999682940604581 0.035670109008344046, -0.9993636191713869L 0.035670109008344046, -0.9993636191713869 L 0.029053171090618283, -0.9995778675268772 L 0.022434959779091795, -0.9997483046145718 M 0.022434959779091795,-0.9997483046145718 Q -0.003988124939702241, -0.19996023319516643 -0.0622804019368419, -0.9980586914278065L -0.0622804019368419, -0.9980586914278065 L -0.06675592225320005, -0.9977693354899843 L -0.0712300998403407, -0.997459910410807 \", \"type\": \"path\"}, {\"fillcolor\": \"#e2ecde\", \"layer\": \"below\", \"line\": {\"color\": \"rgb(175,175,175)\", \"width\": 0.5}, \"path\": \"M -0.1128230786009853,-0.9936150929484696 Q 0.054832251686484104, -0.19233674681399304 0.6198085235574096, -0.7847530784428846L 0.6198085235574096, -0.7847530784428846 L 0.6183596315117811, -0.7858952640884245 L 0.616908634646515, -0.7870347746437718 M 0.616908634646515,-0.7870347746437718 Q 0.054723847951294514, -0.19236761802705674 -0.11027629218730765, -0.9939009706109656L -0.11027629218730765, -0.9939009706109656 L -0.11154977697441906, -0.99375884763707 L -0.1128230786009853, -0.9936150929484696 \", \"type\": \"path\"}, {\"fillcolor\": \"#e2ecde\", \"layer\": \"below\", \"line\": {\"color\": \"rgb(175,175,175)\", \"width\": 0.5}, \"path\": \"M -0.11765991749808521,-0.9930539480885939 Q 0.0966211720196651, -0.1751123899601233 0.9028403309068965, -0.42997597245418906L 0.9028403309068965, -0.42997597245418906 L 0.9025972830456369, -0.43048594011725205 L 0.9023539471301297, -0.4309957703953427 M 0.9023539471301297,-0.4309957703953427 Q 0.09660078174642149, -0.17512363908387765 -0.11676912707279005, -0.9931590864321076L -0.11676912707279005, -0.9931590864321076 L -0.11721453407372814, -0.9931066171372935 L -0.11765991749808521, -0.9930539480885939 \", \"type\": \"path\"}, {\"fillcolor\": \"#e2ecde\", \"layer\": \"below\", \"line\": {\"color\": \"rgb(175,175,175)\", \"width\": 0.5}, \"path\": \"M -0.11676912707279005,-0.9931590864321076 Q 0.11137620039620724, -0.1661184576899987 0.9630987974257864, -0.26914811237867525L 0.9630987974257864, -0.26914811237867525 L 0.9628392604792129, -0.2700750978521392 L 0.9625788313065713, -0.2710018330574084 M 0.9625788313065713,-0.2710018330574084 Q 0.1113440048674168, -0.16614003906369068 -0.11524183959651754, -0.9933374645136518L -0.11524183959651754, -0.9933374645136518 L -0.11600551762046292, -0.9932485690307379 L -0.11676912707279005, -0.9931590864321076 \", \"type\": \"path\"}, {\"fillcolor\": \"#e2ecde\", \"layer\": \"below\", \"line\": {\"color\": \"rgb(175,175,175)\", \"width\": 0.5}, \"path\": \"M -0.1195684344356958,-0.9928259613278637 Q 0.12394012314664156, -0.15696765868928328 0.9934841249484117, -0.11397058162301679L 0.9934841249484117, -0.11397058162301679 L 0.9934677308497262, -0.11411339868874334 L 0.9934513162205523, -0.11425621339626252 M 0.9934513162205523,-0.11425621339626252 Q 0.12393767194938757, -0.1569695940995134 -0.11931399087928768, -0.9928565715048963L -0.11931399087928768, -0.9928565715048963 L -0.1194412136380818, -0.9928412745674216 L -0.1195684344356958, -0.9928259613278637 \", \"type\": \"path\"}, {\"fillcolor\": \"#d4e5d6\", \"layer\": \"below\", \"line\": {\"color\": \"rgb(175,175,175)\", \"width\": 0.5}, \"path\": \"M 0.1458115395313708,-0.9893123849116069 Q 0.09948088519556324, -0.17350375638788681 0.7801310531025678, -0.6256161282968004L 0.7801310531025678, -0.6256161282968004 L 0.768515597624272, -0.6398310528633383 L 0.756641165541645, -0.6538303653148735 M 0.756641165541645,-0.6538303653148735 Q 0.09956130220833401, -0.17345762336254003 0.18293895973729737, -0.9831242734315105L 0.18293895973729737, -0.9831242734315105 L 0.16440436695316876, -0.9863930272090977 L 0.1458115395313708, -0.9893123849116069 \", \"type\": \"path\"}, {\"fillcolor\": \"#d4e5d6\", \"layer\": \"below\", \"line\": {\"color\": \"rgb(175,175,175)\", \"width\": 0.5}, \"path\": \"M 0.05059928956091261,-0.9987190355129569 Q 0.11665820549658257, -0.16245264876362317 0.9301892618164319, -0.3670802871326672L 0.9301892618164319, -0.3670802871326672 L 0.9274683587755239, -0.37390164946177507 L 0.9246974333803403, -0.3807028456681288 M 0.9246974333803403,-0.3807028456681288 Q 0.1168632136581782, -0.16230523495403038 0.06778198133245145, -0.9977001568640987L 0.06778198133245145, -0.9977001568640987 L 0.059192827715925454, -0.9982465673103978 L 0.05059928956091261, -0.9987190355129569 \", \"type\": \"path\"}, {\"fillcolor\": \"#d4e5d6\", \"layer\": \"below\", \"line\": {\"color\": \"rgb(175,175,175)\", \"width\": 0.5}, \"path\": \"M -0.030899889215817454,-0.999522484412657 Q 0.11811421091192398, -0.1613971287868949 0.9620552972492286, -0.2728545492285195L 0.9620552972492286, -0.2728545492285195 L 0.9618580525143251, -0.2735490574163067 L 0.9616603064136934, -0.2742434230174379 M 0.9616603064136934,-0.2742434230174379 Q 0.1181350659996784, -0.16138186447445585 -0.02919826507098027, -0.9995736397668982L -0.02919826507098027, -0.9995736397668982 L -0.030049088029214844, -0.999548424193952 L -0.030899889215817454, -0.999522484412657 \", \"type\": \"path\"}, {\"fillcolor\": \"#d4e5d6\", \"layer\": \"below\", \"line\": {\"color\": \"rgb(175,175,175)\", \"width\": 0.5}, \"path\": \"M -0.011799900911018363,-0.9999303787456856 Q 0.134857386089783, -0.1476938909265756 0.9968812165438329, -0.07891666555352973L 0.9968812165438329, -0.07891666555352973 L 0.9965733502539621, -0.08271370843816533 L 0.996251021376396, -0.08650955095530095 M 0.996251021376396,-0.08650955095530095 Q 0.13503497840822173, -0.14753153766666668 -0.0017749699587586772, -0.999998424739582L -0.0017749699587586772, -0.999998424739582 L -0.006787520706937228, -0.9999769645160097 L -0.011799900911018363, -0.9999303787456856 \", \"type\": \"path\"}, {\"fillcolor\": \"#c6decd\", \"layer\": \"below\", \"line\": {\"color\": \"rgb(175,175,175)\", \"width\": 0.5}, \"path\": \"M 0.6608888564667023,-0.7504837902300986 Q 0.1619844319159226, -0.1173074755370511 0.9191969090136045, -0.3937982255671491L 0.9191969090136045, -0.3937982255671491 L 0.916860966844134, -0.39920667263666815 L 0.9144932023325113, -0.4046012640707251 M 0.9144932023325113,-0.4046012640707251 Q 0.16208323548896528, -0.11717092119390643 0.670936283070504, -0.7415150059570855L 0.670936283070504, -0.7415150059570855 L 0.6659276690066712, -0.7460163132608706 L 0.6608888564667023, -0.7504837902300986 \", \"type\": \"path\"}, {\"fillcolor\": \"#c6decd\", \"layer\": \"below\", \"line\": {\"color\": \"rgb(175,175,175)\", \"width\": 0.5}, \"path\": \"M 0.7012624563453662,-0.7129031963180299 Q 0.1783339557398821, -0.09053728640822954 0.9893722335742439, -0.14540489480176352L 0.9893722335742439, -0.14540489480176352 L 0.9878021045723762, -0.15571448937842783 L 0.9861245490833661, -0.16600714953015658 M 0.9861245490833661,-0.16600714953015658 Q 0.17847531257157945, -0.09025831154235611 0.7181577361481171, -0.6958803532293547L 0.7181577361481171, -0.6958803532293547 L 0.7097611323616313, -0.7044424284416256 L 0.7012624563453662, -0.7129031963180299 \", \"type\": \"path\"}, {\"fillcolor\": \"#c6decd\", \"layer\": \"below\", \"line\": {\"color\": \"rgb(175,175,175)\", \"width\": 0.5}, \"path\": \"M 0.6853085538651915,-0.7282528310959043 Q 0.1823236364949696, -0.08220761263563245 0.9995065603657314, -0.031410759078132795L 0.9995065603657314, -0.031410759078132795 L 0.9991984573509761, -0.04003052369666891 L 0.9988160186976556, -0.04864731023360452 M 0.9988160186976556,-0.04864731023360452 Q 0.18252404508728187, -0.08176168396612132 0.7012624563453662, -0.7129031963180299L 0.7012624563453662, -0.7129031963180299 L 0.6933279847309174, -0.7206221656242366 L 0.6853085538651915, -0.7282528310959043 \", \"type\": \"path\"}, {\"fillcolor\": \"#b8d7c5\", \"layer\": \"below\", \"line\": {\"color\": \"rgb(175,175,175)\", \"width\": 0.5}, \"path\": \"M 0.9011679349293245,-0.43347012936904533 Q 0.18693358236721913, -0.07110440059066746 0.961440000627945, -0.27501477268055446L 0.961440000627945, -0.27501477268055446 L 0.9613296157133173, -0.2754003811770885 L 0.9612190761411904, -0.2757859453675556 M 0.9612190761411904,-0.2757859453675556 Q 0.18693375446205754, -0.07110394815141555 0.9015174667694638, -0.4327427146811009L 0.9015174667694638, -0.4327427146811009 L 0.9013427742304878, -0.4331064572856054 L 0.9011679349293245, -0.43347012936904533 \", \"type\": \"path\"}, {\"fillcolor\": \"#b8d7c5\", \"layer\": \"below\", \"line\": {\"color\": \"rgb(175,175,175)\", \"width\": 0.5}, \"path\": \"M 0.9008178161543317,-0.4341972617358851 Q 0.19216568208713244, -0.05542878880137242 0.9936792526316593, -0.11225659396840308L 0.9936792526316593, -0.11225659396840308 L 0.9936388448632226, -0.11261370244726278 L 0.9935983087571346, -0.11297079638101988 M 0.9935983087571346,-0.11297079638101988 Q 0.19216812796765914, -0.05542030849251364 0.9011679349293245, -0.43347012936904533L 0.9011679349293245, -0.43347012936904533 L 0.9009929488944417, -0.4338337308722062 L 0.9008178161543317, -0.4341972617358851 \", \"type\": \"path\"}, {\"fillcolor\": \"#aad0bc\", \"layer\": \"below\", \"line\": {\"color\": \"rgb(175,175,175)\", \"width\": 0.5}, \"path\": \"M 0.9672928403545252,-0.25366229715682037 Q 0.1969755711014719, -0.03465002726187947 0.9957899800871568, -0.09166414543331476L 0.9957899800871568, -0.09166414543331476 L 0.9955629947789507, -0.09409741455941809 L 0.9953300636489938, -0.0965301217055592 M 0.9953300636489938,-0.0965301217055592 Q 0.19698539080082123, -0.03459415862609967 0.9686621491611206, -0.2483820460149222L 0.9686621491611206, -0.2483820460149222 L 0.9679810951773086, -0.25102310526989013 L 0.9672928403545252, -0.25366229715682037 \", \"type\": \"path\"}, {\"fillcolor\": \"#f2e6ce\", \"layer\": \"below\", \"line\": {\"color\": \"rgb(150,150,150)\", \"width\": 0.45}, \"path\": \"M 1.1, 0.0 L 1.0997155261803073, 0.02501522492343125 L 1.0988622518582367, 0.050017511343981705 L 1.0974406183687073, 0.07499392745088934 L 1.0954513610162813, 0.09993155481416842 L 1.0928955086948444, 0.12481749506634601 L 1.0897743833554379, 0.14963887657382177 L 1.0860895993225104, 0.1743828610944003 L 1.0818430624589508, 0.19903665041755256 L 1.077036969180326, 0.22358749298397182 L 1.0716738053188415, 0.2480226904810008 L 1.0657563448376046, 0.2723296044105178 L 1.0592876483958629, 0.2964956626258856 L 1.052271061765953, 0.3205083658345816 L 0.9566100561508664, 0.29137124166780143 L 0.9629887712689662, 0.2695415114780778 L 0.9688694043978222, 0.24757236764592525 L 0.9742489139262194, 0.22547517316454618 L 0.97912451743666, 0.2032613572581562 L 0.9834936931445006, 0.1809424094705023 L 0.9873541812022821, 0.15852987372218208 L 0.9907039848685798, 0.13603534233983797 L 0.9935413715407676, 0.11347045006031455 L 0.9958648736511647, 0.09084686801288037 L 0.9976732894260976, 0.06817629768262667 L 0.9989656835074878, 0.04547046485816518 L 0.999741387436643, 0.02274111356675568 L 1.0, 0.0 L 1.1 ,0.0\", \"type\": \"path\"}, {\"fillcolor\": \"#ecd5bb\", \"layer\": \"below\", \"line\": {\"color\": \"rgb(150,150,150)\", \"width\": 0.45}, \"path\": \"M 1.0416844184563294, 0.35340284710978076 L 1.034067880038228, 0.37510481131711093 L 1.0259992685866952, 0.39664278747957454 L 1.0174821115313368, 0.4180073596406317 L 1.0085201323965955, 0.4391891876523759 L 0.9991172491739017, 0.4601790112588534 L 0.9892775726088106, 0.48096765414445464 L 0.9790054044038687, 0.501546027945609 L 0.9683052353379987, 0.5219051362240297 L 0.9571817433032243, 0.5420360783997691 L 0.9456397912595923, 0.5619300536423684 L 0.9336844251091878, 0.5815783647183977 L 0.9213208714901705, 0.6009724217937067 L 0.9085545354917965, 0.6201037461887212 L 0.8953909982914258, 0.6389639740851468 L 0.8818360147145466, 0.6575448601824564 L 0.8678955107188858, 0.6758382813025646 L 0.8535755808037028, 0.6938362399411131 L 0.8388824853454002, 0.7115308677638129 L 0.8238226478606182, 0.7289144290463181 L 0.8084026521980058, 0.7459793240561231 L 0.7926292396598981, 0.7627180923750085 L 0.7765093060551597, 0.7791234161605815 L 0.7600498986844796, 0.7951881233454838 L 0.7432582132594373, 0.8109051907728727 L 0.7261415907566877, 0.8262677472667969 L 0.7087075142086369, 0.8412690766361349 L 0.6909636054320171, 0.8559026206107724 L 0.6729176216957857, 0.8701619817087435 L 0.654577452329808, 0.8840409260330757 L 0.6359511152758065, 0.8975333859971215 L 0.6170467535820818, 0.9106334629771815 L 0.5978726318435424, 0.923335429891259 L 0.5784371325885935, 0.9356337337028235 L 0.558748752614471, 0.9475229978484812 L 0.5388160992726163, 0.9589980245884984 L 0.5186478867057224, 0.9700537972791449 L 0.4982529320380905, 0.9806854825658664 L 0.4776401515209657, 0.9908884324963275 L 0.4568185566345381, 1.0006581865524 L 0.43579725014830906, 1.009990473600208 L 0.41458542214155075, 1.0188812137573802 L 0.3931923459855925, 1.0273265201766897 L 0.3716273742896962, 1.035322700745302 L 0.33784306753608745, 0.9412024552230017 L 0.3574475872596295, 0.9339332001606269 L 0.37689583831050066, 0.9262556488703456 L 0.39617931831664455, 0.9181731578183708 L 0.4152895969404891, 0.9096892605021817 L 0.43421831956451423, 0.9008076659057522 L 0.4529572109437186, 0.8915322568780603 L 0.47149807882338396, 0.8818670884355861 L 0.48983281752056024, 0.8718163859895439 L 0.5079534114677009, 0.8613845434986191 L 0.5258519387169032, 0.8505761215480213 L 0.5435205744032203, 0.83939584535569 L 0.5609515941655289, 0.8278486027065286 L 0.5781373775234604, 0.815939441815565 L 0.5950704112089163, 0.8036735691209779 L 0.6117432924507142, 0.7910563470079486 L 0.6281487322109246, 0.7780932914643385 L 0.644279558371488, 0.7647900696692135 L 0.660128718869716, 0.7511524975152698 L 0.6756892847813066, 0.7371865370662478 L 0.6909544533495269, 0.7228982939504398 L 0.705917550959236, 0.7082940146914376 L 0.7205720360544527, 0.6933800839772805 L 0.734911501998187, 0.6781630218692027 L 0.7489296798732892, 0.6626494809511982 L 0.762620441223091, 0.6468462434216481 L 0.7759778007306388, 0.6307602181282845 L 0.7889959188353507, 0.614398437547786 L 0.8016691042859514, 0.597768054711324 L 0.8139918166285688, 0.5808763400774062 L 0.8259586686289059, 0.5637306783533829 L 0.8375644286274276, 0.5463385652670061 L 0.8488040228265343, 0.5287076042894524 L 0.8596725375087202, 0.5108455033112439 L 0.8701652211847493, 0.4927600712725173 L 0.8802774866709079, 0.47445921474911784 L 0.8900049130944261, 0.45595093449600815 L 0.8993432478261913, 0.43724332194950416 L 0.9082884083399105, 0.4183445556898667 L 0.9168364839969049, 0.3992628978657963 L 0.9249837377557607, 0.3800066905823924 L 0.9327266078060864, 0.36058435225415864 L 0.9400617091256617, 0.3410043739246463 L 0.9469858349602993, 0.32127531555434613 L 1.0416844184563294 ,0.35340284710978076\", \"type\": \"path\"}, {\"fillcolor\": \"#e6c4a9\", \"layer\": \"below\", \"line\": {\"color\": \"rgb(150,150,150)\", \"width\": 0.45}, \"path\": \"M 0.33892372669281473, 1.0464849294111476 L 0.31698004482229825, 1.0533392858829742 L 0.2948979114708331, 1.059733561707914 L 0.27268697173789747, 1.0656649639752709 L 0.2503569269834023, 1.0711309019496298 L 0.22791753059030115, 1.0761289882024456 L 0.20537858370448034, 1.0806570396548305 L 0.1827499309537838, 1.0847130785310866 L 0.1600414561480492, 1.0882953332225642 L 0.13726307796202644, 1.0914022390614704 L 0.11442474560307136, 1.0940324390042886 L 0.09153643446549982, 1.0961847842245136 L 0.06860814177350723, 1.0978583346144377 L 0.04564988221454957, 1.0990523591957746 L 0.022671683565100565, 1.0997663364389383 L -0.0003164176893121998, 1.099999954490838 L -0.023304380737871073, 1.0997531113110908 L -0.04628216483012535, 1.09902591471659 L -0.06923973366161797, 1.0978186823344138 L -0.09216705975757417, 1.0961319414630906 L -0.11505412885272968, 1.093966428842284 L -0.13789094426539306, 1.0913230903309974 L -0.1606675312638237, 1.08820308049444 L -0.1833739414230269, 1.0846077620997299 L -0.2060002569700543, 1.080538705520664 L -0.2285365951159199, 1.0759976880518016 L -0.2077605410144726, 0.9781797164107288 L -0.18727296088186754, 0.9823079141096943 L -0.16670358311184263, 0.9860070564542999 L -0.14606139205802152, 0.989275527722218 L -0.12535540387763003, 0.9921119003009067 L -0.10459466259339062, 0.9945149353111671 L -0.08378823614324923, 0.996483583148264 L -0.06294521241965269, 0.9980169839403761 L -0.04207469530011395, 0.9991144679241726 L -0.02118580067079188, 0.9997755557373552 L -0.00028765244482927254, 0.9999999586280346 L 0.020610621422818692, 0.999787578580853 L 0.04149989292231779, 0.999138508359795 L 0.06237103797591565, 0.9980530314676705 L 0.08321494042318164, 0.9965316220222851 L 0.10402249600279215, 0.9945749445493532 L 0.12478461632911494, 0.9921838536922457 L 0.1454922328618629, 0.9893593938386948 L 0.16613630086707618, 0.9861027986646241 L 0.1867078033677094, 0.9824154905953004 L 0.20719775508209193, 0.9782990801840414 L 0.22759720634854752, 0.9737553654087543 L 0.2478972470344522, 0.9687863308866098 L 0.2680890104280301, 0.9633941470071944 L 0.2881636771111802, 0.957581168984522 L 0.3081124788116497, 0.9513499358283158 L 0.33892372669281473 ,1.0464849294111476\", \"type\": \"path\"}, {\"fillcolor\": \"#e1b396\", \"layer\": \"below\", \"line\": {\"color\": \"rgb(150,150,150)\", \"width\": 0.45}, \"path\": \"M -0.26222173025002715, 1.0682882402164138 L -0.28472924914347314, 1.0625108256776465 L -0.30710970656811126, 1.0562592617968605 L -0.32935311516296084, 1.0495363383573022 L -0.35144954872558254, 1.0423450554881453 L -0.373389146641683, 1.0346886223256715 L -0.3951621182854495, 1.0265704555811825 L -0.416758747388653, 1.0179941780162798 L -0.4381693963765681, 1.0089636168261937 L -0.45938451066877534, 0.9994828019318842 L -0.48039462294292984, 0.989555964181673 L -0.5011903573595855, 0.9791875334632132 L -0.5217624337462007, 0.9683821367266343 L -0.5421016717384459, 0.9571445959197505 L -0.562198994876979, 0.9454799258362467 L -0.5820454346578441, 0.933393331877811 L -0.6016321345347017, 0.9208902077312033 L -0.620950353871095, 0.9079761329613032 L -0.6399914718409907, 0.8946568705212086 L -0.5818104289463552, 0.8133244277465532 L -0.5645003217009954, 0.8254328481466392 L -0.546938304122456, 0.8371729161192757 L -0.5291322133253128, 0.8485393926161918 L -0.5110899953427082, 0.8595272053056788 L -0.4928197015804054, 0.8701314508361367 L -0.47432948522381874, 0.8803473970242129 L -0.4556275975996231, 0.8901704849665574 L -0.43672238449357254, 0.8995963310742481 L -0.41762228242615934, 0.9086207290289856 L -0.39833581488778913, 0.917239651660176 L -0.378871588535139, 0.9254492527420725 L -0.35923828935040863, 0.9332458687101658 L -0.3394446787651663, 0.9406260202960649 L -0.31949958975052956, 0.947586414080132 L -0.2994119228754189, 0.9541239439611838 L -0.2791906423346466, 0.9602356925426004 L -0.25884477194861194, 0.965918932434224 L -0.23838339113638832, 0.971171127469467 L -0.26222173025002715 ,1.0682882402164138\", \"type\": \"path\"}, {\"fillcolor\": \"#dba284\", \"layer\": \"below\", \"line\": {\"color\": \"rgb(150,150,150)\", \"width\": 0.45}, \"path\": \"M -0.6677775261007243, 0.8741127934281689 L -0.688214963325557, 0.8581143072195 L -0.7082692522825652, 0.8416380850882974 L -0.7279292281955015, 0.8246932998022366 L -0.7471839458130735, 0.8072893849910366 L -0.6792581325573395, 0.7338994409009424 L -0.6617538438140923, 0.7497211816383968 L -0.6438811384386955, 0.7651255318984521 L -0.6256499666595972, 0.7801039156540909 L -0.6070704782733857, 0.794647994025608 L -0.6677775261007243 ,0.8741127934281689\", \"type\": \"path\"}, {\"fillcolor\": \"#d59171\", \"layer\": \"below\", \"line\": {\"color\": \"rgb(150,150,150)\", \"width\": 0.45}, \"path\": \"M -0.7721728280184039, 0.7834214215031783 L -0.8008615736292437, 0.7540694529578106 L -0.8284353463992947, 0.7236676563425235 L -0.8548557576621899, 0.6922583575456517 L -0.8800860244806897, 0.6598852851168716 L -0.8000782040733543, 0.5998957137426105 L -0.777141597874718, 0.629325779586956 L -0.753123042181177, 0.6578796875841122 L -0.7280559760265851, 0.6855176845071005 L -0.701975298198549, 0.7122012922756166 L -0.7721728280184039 ,0.7834214215031783\", \"type\": \"path\"}, {\"fillcolor\": \"#d0805f\", \"layer\": \"below\", \"line\": {\"color\": \"rgb(150,150,150)\", \"width\": 0.45}, \"path\": \"M -0.9003792528646531, 0.631915501480134 L -0.9146445835463155, 0.6110853342941451 L -0.9284281040097813, 0.5899332637551497 L -0.9417225534664102, 0.5684704322062005 L -0.954520928757042, 0.5467081456909108 L -0.9668164880410731, 0.5246578679977321 L -0.9786027543478771, 0.5023312146211388 L -0.9898735189886982, 0.47973994664289904 L -1.000622844827223, 0.4568959645366496 L -1.0108450694071043, 0.43381130189904776 L -1.0205348079347907, 0.4104981191107948 L -1.0296869561160913, 0.3869686969308743 L -0.9360790510146284, 0.351789724482613 L -0.927758916304355, 0.3731801082825407 L -0.9189500630973675, 0.3943739108173161 L -0.9096571316611117, 0.41535996776059053 L -0.8998850172624528, 0.4361272242208173 L -0.8896388675889791, 0.4566647405646716 L -0.8789240800373391, 0.47696169817975637 L -0.8677462988700381, 0.49700740517355524 L -0.856111412242191, 0.5167913020056368 L -0.8440255490998011, 0.536302967050136 L -0.8314950759511959, 0.5555321220855864 L -0.818526593513321, 0.5744686377092126 L -0.9003792528646531 ,0.631915501480134\", \"type\": \"path\"}, {\"fillcolor\": \"#ca6f4c\", \"layer\": \"below\", \"line\": {\"color\": \"rgb(150,150,150)\", \"width\": 0.45}, \"path\": \"M -1.0413338482711272, 0.3544345023341338 L -1.0465758710349022, 0.33864280025941207 L -1.051578429751547, 0.32277361428913487 L -1.0563403797998354, 0.3068305754065909 L -1.060860631611527, 0.2908173314931422 L -0.964418756010479, 0.2643793922664929 L -0.9603094361816685, 0.27893688673326444 L -0.9559803906832244, 0.29343055844466803 L -0.9514326100317292, 0.30785709114492005 L -0.9466671347919338, 0.3222131839401216 L -1.0413338482711272 ,0.3544345023341338\", \"type\": \"path\"}, {\"fillcolor\": \"#c45e3a\", \"layer\": \"below\", \"line\": {\"color\": \"rgb(150,150,150)\", \"width\": 0.45}, \"path\": \"M -1.06947195406473, 0.2573513929804308 L -1.0748537825266462, 0.23385753395638367 L -1.079719569699566, 0.2102513990626079 L -1.0840669795010145, 0.18654432169205118 L -1.0878939247234154, 0.16274768370051898 L -0.9889944770212866, 0.14795243972774452 L -0.985515435910013, 0.1695857469927738 L -0.9815632451814237, 0.1911376355114617 L -0.9771398022969511, 0.21259775814216697 L -0.9722472309679363, 0.2339558118003916 L -1.06947195406473 ,0.2573513929804308\", \"type\": \"path\"}, {\"fillcolor\": \"#bf4d28\", \"layer\": \"below\", \"line\": {\"color\": \"rgb(150,150,150)\", \"width\": 0.45}, \"path\": \"M -1.0924691430263174, 0.12849580357094934 L -1.0971741783985476, 0.07879608020372963 L -1.099619397791857, 0.028934062968656964 L -1.099799764862914, -0.020987548867819495 L -1.097714908115199, -0.07086593329407778 L -0.9979226437410899, -0.06442357572188889 L -0.9998179680571946, -0.019079589879835903 L -0.9996539979925971, 0.026303693607869966 L -0.9974310712714067, 0.07163280018520875 L -0.9931537663875611, 0.1168143668826812 L -1.0924691430263174 ,0.12849580357094934\", \"type\": \"path\"}, {\"fillcolor\": \"#af4624\", \"layer\": \"below\", \"line\": {\"color\": \"rgb(150,150,150)\", \"width\": 0.45}, \"path\": \"M -1.0949472993148606, -0.10531102374914712 L -1.088623403801717, -0.1577944380995847 L -1.0797853276464788, -0.20991342548628603 L -1.0684534824257341, -0.2615476168737185 L -1.054654039086933, -0.3125777628648882 L -0.958776399169939, -0.2841616026044438 L -0.9713213476597583, -0.23777056079428957 L -0.9816230251331625, -0.19083038680571454 L -0.9896576398197428, -0.14344948918144063 L -0.9954066357407823, -0.09573729431740646 L -1.0949472993148606 ,-0.10531102374914712\", \"type\": \"path\"}, {\"fillcolor\": \"#9f4021\", \"layer\": \"below\", \"line\": {\"color\": \"rgb(150,150,150)\", \"width\": 0.45}, \"path\": \"M -1.044315326181077, -0.345551008540434 L -1.032230538757097, -0.38013170725057066 L -1.0190010274483214, -0.41429084718258663 L -1.0046414635292489, -0.44799054650495584 L -0.9891677714810644, -0.48119343289698474 L -0.8992434286191494, -0.4374485753608952 L -0.9133104213902262, -0.4072641331863235 L -0.9263645704075649, -0.3766280428932605 L -0.938391398870088, -0.34557427931870055 L -0.9493775692555244, -0.3141372804913036 L -1.044315326181077 ,-0.345551008540434\", \"type\": \"path\"}, {\"fillcolor\": \"#8f391e\", \"layer\": \"below\", \"line\": {\"color\": \"rgb(150,150,150)\", \"width\": 0.45}, \"path\": \"M -0.97356502590697, -0.5120265035432843 L -0.9619566127156586, -0.5335161433851994 L -0.9498739311616178, -0.5547427465948288 L -0.937322938305199, -0.5756958479326634 L -0.9243098220957903, -0.5963651170023684 L -0.9108409983210036, -0.6167403633439259 L -0.8969231074435318, -0.6368115414577841 L -0.8825630113272385, -0.6565687557575345 L -0.8677677898540895, -0.676002265448681 L -0.8525447374335945, -0.695102489331094 L -0.8369013594064855, -0.7138600105227754 L -0.8208453683443958, -0.732265581102617 L -0.8043846802473745, -0.750310126669852 L -0.7875274106411014, -0.7679847508179587 L -0.7702818705757322, -0.7852807395208106 L -0.7526565625283466, -0.8021895654289037 L -0.7346601762110169, -0.8187028920735518 L -0.7163015842865643, -0.8348125779769722 L -0.6511832584423312, -0.758920525433611 L -0.6678728874645607, -0.7442753564305016 L -0.6842332386621331, -0.7292632412990033 L -0.7002562459779382, -0.713891581382555 L -0.7159340096737286, -0.6981679552890533 L -0.7312588002248859, -0.6821001151544108 L -0.7462230621312689, -0.6656959828205609 L -0.7608194176422595, -0.6489636459297957 L -0.7750406703941768, -0.6319113539373581 L -0.7888798089582632, -0.6145475140442554 L -0.8023300102974894, -0.596880687052304 L -0.8153846431304833, -0.57891958314344 L -0.8280372712009123, -0.5606730575853871 L -0.8402816564507184, -0.5421501063657894 L -0.8521117620956353, -0.5233598617569667 L -0.8635217556014706, -0.5043115878134807 L -0.8745060115596895, -0.4850146758047267 L -0.8850591144608818, -0.46547863958480384 L -0.97356502590697 ,-0.5120265035432843\", \"type\": \"path\"}, {\"fillcolor\": \"#f0f3e7\", \"layer\": \"below\", \"line\": {\"color\": \"rgb(150,150,150)\", \"width\": 0.45}, \"path\": \"M -0.6897260359325623, -0.8569002248551193 L -0.6715296530974746, -0.8712335651309502 L -0.6530354923744423, -0.8851805723688643 L -0.6342517546702946, -0.898735062016417 L -0.6151867692996295, -0.9118910235761095 L -0.5958489902913198, -0.9246426232706424 L -0.5762469926397313, -0.9369842066297945 L -0.5563894685022873, -0.9489103009978036 L -0.5362852233450923, -0.9604156179601123 L -0.5159431720382984, -0.9714950556884265 L -0.4953723349029697, -0.9821437012030266 L -0.4745818337111798, -0.992356832551343 L -0.45358088764112026, -1.0021299209018228 L -0.43237880918902727, -1.0114586325521568 L -0.41098500003971267, -1.0203388308509862 L -0.3894089468975617, -1.0287665780322242 L -0.367660217279815, -1.03673813696119 L -0.34574845527403075, -1.0442499727917745 L -0.3236833772615777, -1.0512987545339048 L -0.30147476760908537, -1.0578813565306122 L -0.27913247432973787, -1.0639948598440494 L -0.25666640471634444, -1.0696365535498429 L -0.2340865209481332, -1.0748039359392016 L -0.21140283567319237, -1.079494715628258 L -0.18862540756854712, -1.0837068125741387 L -0.16576433687981013, -1.087438358997326 L -0.15069485170891828, -0.9885803263612053 L -0.17147764324413373, -0.9851880114310352 L -0.1921843960665385, -0.9813588323893253 L -0.21280592813466653, -0.977094487217456 L -0.23333309519667675, -0.9723968668634935 L -0.25375679484521624, -0.9672680544036812 L -0.27406797055371396, -0.9617103241187382 L -0.2942576156923433, -0.9557261404853679 L -0.3143167775218461, -0.9493181570834313 L -0.33423656116346817, -0.9424892154192637 L -0.3540081335432379, -0.9352423436656582 L -0.37362272730882967, -0.9275807553190784 L -0.3930716447172975, -0.919507847774688 L -0.4123462614919275, -0.9110272008198388 L -0.431438030646527, -0.9021425750466754 L -0.450338486275427, -0.8928579101845696 L -0.469039247307544, -0.8831773233531149 L -0.4875320212228112, -0.8731051072364657 L -0.5058086077293521, -0.8626457281798214 L -0.5238609023997557, -0.8518038242089041 L -0.5416809002648361, -0.8405842029733112 L -0.5592606993632995, -0.828991839614645 L -0.5765925042457223, -0.817031874560379 L -0.593668629431311, -0.804709611244422 L -0.610481502815886, -0.7920305137554092 L -0.627023669029602, -0.7790002044137447 L -0.6897260359325623 ,-0.8569002248551193\", \"type\": \"path\"}, {\"fillcolor\": \"#e2ecde\", \"layer\": \"below\", \"line\": {\"color\": \"rgb(150,150,150)\", \"width\": 0.45}, \"path\": \"M -0.13152527787926538, -1.0921085574606502 L -0.11580374741483287, -1.0938873306171353 L -0.100058258920438, -1.095439795160743 L -0.08429206989761534, -1.0967656299102264 L -0.06850844213052609, -1.0978645605705872 L -0.0622804019368419, -0.9980586914278065 L -0.07662915445237757, -0.9970596635547512 L -0.09096205356403454, -0.9958543592370391 L -0.10527613401348443, -0.9944430278337593 L -0.1195684344356958, -0.9928259613278637 L -0.13152527787926538 ,-1.0921085574606502\", \"type\": \"path\"}, {\"fillcolor\": \"#d4e5d6\", \"layer\": \"below\", \"line\": {\"color\": \"rgb(150,150,150)\", \"width\": 0.45}, \"path\": \"M -0.033989878137399204, -1.0994747328539227 L -0.011178891536949767, -1.0999431950714569 L 0.011636904394170502, -1.0999384448486749 L 0.03444769395045992, -1.0994604842291948 L 0.05724366358023901, -1.0985095188390097 L 0.08001500610758516, -1.097085957798022 L 0.10275192495153403, -1.0951904135440351 L 0.1254446383407172, -1.0928237015692728 L 0.14808338352163403, -1.0899868400695418 L 0.1706584209587323, -1.086681049506189 L 0.19316003852450966, -1.0829077520810395 L 0.21557855567781908, -1.078668571124544 L 0.23790432762858496, -1.0739653303973975 L 0.26012774948714396, -1.0688000533059276 L 0.28223926039641, -1.0631749620315971 L 0.3042293476451054, -1.0570924765749843 L 0.3260885507602736, -1.0505552137146645 L 0.34780746557732345, -1.043565985881429 L 0.36937674828583933, -1.0361277999483365 L 0.3907871194494357, -1.0282438559371083 L 0.41202936799791207, -1.0199175456414313 L 0.4330943551899958, -1.0111524511677563 L 0.45397301854497213, -1.0019523433942188 L 0.4746563757414977, -0.9923211803483519 L 0.49513552848193615, -0.9822631055042809 L 0.5154016663205413, -0.9717824460001372 L 0.5354460704538456, -0.9608837107764578 L 0.5552601174716264, -0.9495715886363679 L 0.5748352830668243, -0.9378509462283888 L 0.594163145702834, -0.9257268259527283 L 0.6132353902365782, -0.9132044437919647 L 0.6320438114958085, -0.9002891870670509 L 0.6505803178090994, -0.8869866121196032 L 0.5914366525537267, -0.8063514655632755 L 0.5745852831780076, -0.8184447155155007 L 0.5574867183968892, -0.8301858579926952 L 0.5401483142753036, -0.8415698417752074 L 0.5225775300607494, -0.8525917692985352 L 0.5047819249742058, -0.8632468987603344 L 0.48676915495804146, -0.8735306461604162 L 0.4685469693823103, -0.883438587272852 L 0.450123207710851, -0.8929664595493462 L 0.43150579612863427, -0.9021101639530471 L 0.4127027441317928, -0.910865766722017 L 0.3937221410818143, -0.9192295010615966 L 0.3745721527253746, -0.9271977687649375 L 0.3552610176813052, -0.9347671417610074 L 0.33579704389621756, -0.9419343635893966 L 0.316188605070294, -0.9486963508012991 L 0.29644413705479417, -0.9550501942860586 L 0.27657213422282306, -0.960993160522713 L 0.25658114581491814, -0.9665226927559972 L 0.23647977226103994, -0.9716364120962978 L 0.21627666148053176, -0.9763321185430885 L 0.1959805051616537, -0.9806077919314037 L 0.1756000350222815, -0.9844615928009449 L 0.15514401905339298, -0.9878918631874445 L 0.13462125774694, -0.990897127335947 L 0.1140405803097429, -0.9934760923357024 L 0.09341084086503093, -0.9956276486763954 L 0.07274091464325923, -0.9973508707254745 L 0.05203969416385364, -0.9986450171263723 L 0.03131608540950902, -0.9995095311174498 L 0.010579003994700456, -0.9999440407715224 L -0.010162628669954333, -0.9999483591558699 L -0.030899889215817454, -0.999522484412657 L -0.033989878137399204 ,-1.0994747328539227\", \"type\": \"path\"}, {\"fillcolor\": \"#c6decd\", \"layer\": \"below\", \"line\": {\"color\": \"rgb(150,150,150)\", \"width\": 0.45}, \"path\": \"M 0.6781202184738314, -0.8661137161464443 L 0.6964054218296601, -0.8514807622291025 L 0.7143749566929342, -0.8364618468585214 L 0.7320206777853353, -0.8210637778484071 L 0.7493345866077111, -0.8052935348762282 L 0.7663088350656498, -0.7891582663194543 L 0.7829357290268913, -0.7726652860153161 L 0.7992077318089403, -0.755822069945572 L 0.8151174675953127, -0.7386362528477767 L 0.8306577247788695, -0.7211156247545827 L 0.8458214592307078, -0.7032681274626601 L 0.8606017974931471, -0.6851018509328115 L 0.8749920398953462, -0.6666250296229366 L 0.8889856635901459, -0.6478460387554965 L 0.9025763255107664, -0.6287733905211663 L 0.9157578652460056, -0.609415730220413 L 0.928524307832649, -0.5897818323447238 L 0.9408698664638174, -0.5698805965992862 L 0.9527889451120222, -0.5497210438689064 L 0.9642761410657522, -0.5293123121289941 L 0.9753262473784254, -0.508663652303483 L 0.8866602248894776, -0.4624215020940754 L 0.8766146736961383, -0.4811930110263582 L 0.8661717682836565, -0.49974640351718763 L 0.855336242239834, -0.5180732696357148 L 0.84411300712059, -0.5361653021315671 L 0.8325071502236413, -0.5540143002003753 L 0.8205239322825149, -0.5716121732010603 L 0.8081687850819507, -0.5889509443231786 L 0.7954473089957692, -0.6060227542026696 L 0.7823652704483155, -0.6228198644843741 L 0.7689285993006434, -0.639334661329691 L 0.7551433861626086, -0.6555596588678024 L 0.7410158796321024, -0.6714875025888878 L 0.726552483462673, -0.6871109726777926 L 0.7117597536608102, -0.702422987286651 L 0.6966443955142271, -0.7174166057449584 L 0.6812132605524646, -0.732085031705662 L 0.6654733434412139, -0.7464216162258246 L 0.6494317788117583, -0.760419860780474 L 0.6330958380269637, -0.774073420208275 L 0.6164729258853012, -0.7873761055876766 L 0.6781202184738314 ,-0.8661137161464443\", \"type\": \"path\"}, {\"fillcolor\": \"#b8d7c5\", \"layer\": \"below\", \"line\": {\"color\": \"rgb(150,150,150)\", \"width\": 0.45}, \"path\": \"M 0.990822494185932, -0.47777691971794617 L 1.006731132392093, -0.4432746632422543 L 1.0214387732453958, -0.4082435945742948 L 1.0349278710107734, -0.37272550463458787 L 1.0471823336352561, -0.33676276534412075 L 0.9519839396684145, -0.3061479684946552 L 0.940843519100703, -0.3388413678496253 L 0.9285807029503597, -0.37113054052208616 L 0.9152101203564482, -0.4029769665838675 L 0.9007477219872109, -0.43434265428904195 L 0.990822494185932 ,-0.47777691971794617\", \"type\": \"path\"}, {\"fillcolor\": \"#aad0bc\", \"layer\": \"below\", \"line\": {\"color\": \"rgb(150,150,150)\", \"width\": 0.45}, \"path\": \"M 1.057243586456243, -0.3037038012556651 L 1.0668095610225576, -0.2681741234922897 L 1.0751818851294326, -0.2323443863955402 L 1.0823511910050716, -0.19625467976561317 L 1.088309456931668, -0.15994538428194086 L 0.9893722335742436, -0.1454048948017644 L 0.9839556281864286, -0.17841334524146651 L 0.9774380773903931, -0.21122216945049108 L 0.9698268736568706, -0.24379465772026335 L 0.9611305331420391, -0.27609436477787735 L 1.057243586456243 ,-0.3037038012556651\", \"type\": \"path\"}, {\"fillcolor\": \"#9cc9b4\", \"layer\": \"below\", \"line\": {\"color\": \"rgb(150,150,150)\", \"width\": 0.45}, \"path\": \"M 1.0927964478426075, -0.1256818347358888 L 1.095171234463739, -0.10295614213426206 L 1.097073471246305, -0.08018602551307116 L 1.0985023374038787, -0.05738130983356045 L 1.0994572164023046, -0.03455183498594511 L 0.9995065603657315, -0.031410759078131914 L 0.9986384885489806, -0.05216482712141859 L 0.9973395193148227, -0.07289638683006469 L 0.9956102131488535, -0.09359649284932914 L 0.9934513162205523, -0.11425621339626252 L 1.0927964478426075 ,-0.1256818347358888\", \"type\": \"path\"}], \"showlegend\": false, \"template\": {\"data\": {\"bar\": [{\"error_x\": {\"color\": \"#2a3f5f\"}, \"error_y\": {\"color\": \"#2a3f5f\"}, \"marker\": {\"line\": {\"color\": \"#E5ECF6\", \"width\": 0.5}}, \"type\": \"bar\"}], \"barpolar\": [{\"marker\": {\"line\": {\"color\": \"#E5ECF6\", \"width\": 0.5}}, \"type\": \"barpolar\"}], \"carpet\": [{\"aaxis\": {\"endlinecolor\": \"#2a3f5f\", \"gridcolor\": \"white\", \"linecolor\": \"white\", \"minorgridcolor\": \"white\", \"startlinecolor\": \"#2a3f5f\"}, \"baxis\": {\"endlinecolor\": \"#2a3f5f\", \"gridcolor\": \"white\", \"linecolor\": \"white\", \"minorgridcolor\": \"white\", \"startlinecolor\": \"#2a3f5f\"}, \"type\": \"carpet\"}], \"choropleth\": [{\"colorbar\": {\"outlinewidth\": 0, \"ticks\": \"\"}, \"type\": \"choropleth\"}], \"contour\": [{\"colorbar\": {\"outlinewidth\": 0, \"ticks\": \"\"}, \"colorscale\": [[0.0, \"#0d0887\"], [0.1111111111111111, \"#46039f\"], [0.2222222222222222, \"#7201a8\"], [0.3333333333333333, \"#9c179e\"], [0.4444444444444444, \"#bd3786\"], [0.5555555555555556, \"#d8576b\"], [0.6666666666666666, \"#ed7953\"], [0.7777777777777778, \"#fb9f3a\"], [0.8888888888888888, \"#fdca26\"], [1.0, \"#f0f921\"]], \"type\": \"contour\"}], \"contourcarpet\": [{\"colorbar\": {\"outlinewidth\": 0, \"ticks\": \"\"}, \"type\": \"contourcarpet\"}], \"heatmap\": [{\"colorbar\": {\"outlinewidth\": 0, \"ticks\": \"\"}, \"colorscale\": [[0.0, \"#0d0887\"], [0.1111111111111111, \"#46039f\"], [0.2222222222222222, \"#7201a8\"], [0.3333333333333333, \"#9c179e\"], [0.4444444444444444, \"#bd3786\"], [0.5555555555555556, \"#d8576b\"], [0.6666666666666666, \"#ed7953\"], [0.7777777777777778, \"#fb9f3a\"], [0.8888888888888888, \"#fdca26\"], [1.0, \"#f0f921\"]], \"type\": \"heatmap\"}], \"heatmapgl\": [{\"colorbar\": {\"outlinewidth\": 0, \"ticks\": \"\"}, \"colorscale\": [[0.0, \"#0d0887\"], [0.1111111111111111, \"#46039f\"], [0.2222222222222222, \"#7201a8\"], [0.3333333333333333, \"#9c179e\"], [0.4444444444444444, \"#bd3786\"], [0.5555555555555556, \"#d8576b\"], [0.6666666666666666, \"#ed7953\"], [0.7777777777777778, \"#fb9f3a\"], [0.8888888888888888, \"#fdca26\"], [1.0, \"#f0f921\"]], \"type\": \"heatmapgl\"}], \"histogram\": [{\"marker\": {\"colorbar\": {\"outlinewidth\": 0, \"ticks\": \"\"}}, \"type\": \"histogram\"}], \"histogram2d\": [{\"colorbar\": {\"outlinewidth\": 0, \"ticks\": \"\"}, \"colorscale\": [[0.0, \"#0d0887\"], [0.1111111111111111, \"#46039f\"], [0.2222222222222222, \"#7201a8\"], [0.3333333333333333, \"#9c179e\"], [0.4444444444444444, \"#bd3786\"], [0.5555555555555556, \"#d8576b\"], [0.6666666666666666, \"#ed7953\"], [0.7777777777777778, \"#fb9f3a\"], [0.8888888888888888, \"#fdca26\"], [1.0, \"#f0f921\"]], \"type\": \"histogram2d\"}], \"histogram2dcontour\": [{\"colorbar\": {\"outlinewidth\": 0, \"ticks\": \"\"}, \"colorscale\": [[0.0, \"#0d0887\"], [0.1111111111111111, \"#46039f\"], [0.2222222222222222, \"#7201a8\"], [0.3333333333333333, \"#9c179e\"], [0.4444444444444444, \"#bd3786\"], [0.5555555555555556, \"#d8576b\"], [0.6666666666666666, \"#ed7953\"], [0.7777777777777778, \"#fb9f3a\"], [0.8888888888888888, \"#fdca26\"], [1.0, \"#f0f921\"]], \"type\": \"histogram2dcontour\"}], \"mesh3d\": [{\"colorbar\": {\"outlinewidth\": 0, \"ticks\": \"\"}, \"type\": \"mesh3d\"}], \"parcoords\": [{\"line\": {\"colorbar\": {\"outlinewidth\": 0, \"ticks\": \"\"}}, \"type\": \"parcoords\"}], \"pie\": [{\"automargin\": true, \"type\": \"pie\"}], \"scatter\": [{\"marker\": {\"colorbar\": {\"outlinewidth\": 0, \"ticks\": \"\"}}, \"type\": \"scatter\"}], \"scatter3d\": [{\"line\": {\"colorbar\": {\"outlinewidth\": 0, \"ticks\": \"\"}}, \"marker\": {\"colorbar\": {\"outlinewidth\": 0, \"ticks\": \"\"}}, \"type\": \"scatter3d\"}], \"scattercarpet\": [{\"marker\": {\"colorbar\": {\"outlinewidth\": 0, \"ticks\": \"\"}}, \"type\": \"scattercarpet\"}], \"scattergeo\": [{\"marker\": {\"colorbar\": {\"outlinewidth\": 0, \"ticks\": \"\"}}, \"type\": \"scattergeo\"}], \"scattergl\": [{\"marker\": {\"colorbar\": {\"outlinewidth\": 0, \"ticks\": \"\"}}, \"type\": \"scattergl\"}], \"scattermapbox\": [{\"marker\": {\"colorbar\": {\"outlinewidth\": 0, \"ticks\": \"\"}}, \"type\": \"scattermapbox\"}], \"scatterpolar\": [{\"marker\": {\"colorbar\": {\"outlinewidth\": 0, \"ticks\": \"\"}}, \"type\": \"scatterpolar\"}], \"scatterpolargl\": [{\"marker\": {\"colorbar\": {\"outlinewidth\": 0, \"ticks\": \"\"}}, \"type\": \"scatterpolargl\"}], \"scatterternary\": [{\"marker\": {\"colorbar\": {\"outlinewidth\": 0, \"ticks\": \"\"}}, \"type\": \"scatterternary\"}], \"surface\": [{\"colorbar\": {\"outlinewidth\": 0, \"ticks\": \"\"}, \"colorscale\": [[0.0, \"#0d0887\"], [0.1111111111111111, \"#46039f\"], [0.2222222222222222, \"#7201a8\"], [0.3333333333333333, \"#9c179e\"], [0.4444444444444444, \"#bd3786\"], [0.5555555555555556, \"#d8576b\"], [0.6666666666666666, \"#ed7953\"], [0.7777777777777778, \"#fb9f3a\"], [0.8888888888888888, \"#fdca26\"], [1.0, \"#f0f921\"]], \"type\": \"surface\"}], \"table\": [{\"cells\": {\"fill\": {\"color\": \"#EBF0F8\"}, \"line\": {\"color\": \"white\"}}, \"header\": {\"fill\": {\"color\": \"#C8D4E3\"}, \"line\": {\"color\": \"white\"}}, \"type\": \"table\"}]}, \"layout\": {\"annotationdefaults\": {\"arrowcolor\": \"#2a3f5f\", \"arrowhead\": 0, \"arrowwidth\": 1}, \"coloraxis\": {\"colorbar\": {\"outlinewidth\": 0, \"ticks\": \"\"}}, \"colorscale\": {\"diverging\": [[0, \"#8e0152\"], [0.1, \"#c51b7d\"], [0.2, \"#de77ae\"], [0.3, \"#f1b6da\"], [0.4, \"#fde0ef\"], [0.5, \"#f7f7f7\"], [0.6, \"#e6f5d0\"], [0.7, \"#b8e186\"], [0.8, \"#7fbc41\"], [0.9, \"#4d9221\"], [1, \"#276419\"]], \"sequential\": [[0.0, \"#0d0887\"], [0.1111111111111111, \"#46039f\"], [0.2222222222222222, \"#7201a8\"], [0.3333333333333333, \"#9c179e\"], [0.4444444444444444, \"#bd3786\"], [0.5555555555555556, \"#d8576b\"], [0.6666666666666666, \"#ed7953\"], [0.7777777777777778, \"#fb9f3a\"], [0.8888888888888888, \"#fdca26\"], [1.0, \"#f0f921\"]], \"sequentialminus\": [[0.0, \"#0d0887\"], [0.1111111111111111, \"#46039f\"], [0.2222222222222222, \"#7201a8\"], [0.3333333333333333, \"#9c179e\"], [0.4444444444444444, \"#bd3786\"], [0.5555555555555556, \"#d8576b\"], [0.6666666666666666, \"#ed7953\"], [0.7777777777777778, \"#fb9f3a\"], [0.8888888888888888, \"#fdca26\"], [1.0, \"#f0f921\"]]}, \"colorway\": [\"#636efa\", \"#EF553B\", \"#00cc96\", \"#ab63fa\", \"#FFA15A\", \"#19d3f3\", \"#FF6692\", \"#B6E880\", \"#FF97FF\", \"#FECB52\"], \"font\": {\"color\": \"#2a3f5f\"}, \"geo\": {\"bgcolor\": \"white\", \"lakecolor\": \"white\", \"landcolor\": \"#E5ECF6\", \"showlakes\": true, \"showland\": true, \"subunitcolor\": \"white\"}, \"hoverlabel\": {\"align\": \"left\"}, \"hovermode\": \"closest\", \"mapbox\": {\"style\": \"light\"}, \"paper_bgcolor\": \"white\", \"plot_bgcolor\": \"#E5ECF6\", \"polar\": {\"angularaxis\": {\"gridcolor\": \"white\", \"linecolor\": \"white\", \"ticks\": \"\"}, \"bgcolor\": \"#E5ECF6\", \"radialaxis\": {\"gridcolor\": \"white\", \"linecolor\": \"white\", \"ticks\": \"\"}}, \"scene\": {\"xaxis\": {\"backgroundcolor\": \"#E5ECF6\", \"gridcolor\": \"white\", \"gridwidth\": 2, \"linecolor\": \"white\", \"showbackground\": true, \"ticks\": \"\", \"zerolinecolor\": \"white\"}, \"yaxis\": {\"backgroundcolor\": \"#E5ECF6\", \"gridcolor\": \"white\", \"gridwidth\": 2, \"linecolor\": \"white\", \"showbackground\": true, \"ticks\": \"\", \"zerolinecolor\": \"white\"}, \"zaxis\": {\"backgroundcolor\": \"#E5ECF6\", \"gridcolor\": \"white\", \"gridwidth\": 2, \"linecolor\": \"white\", \"showbackground\": true, \"ticks\": \"\", \"zerolinecolor\": \"white\"}}, \"shapedefaults\": {\"line\": {\"color\": \"#2a3f5f\"}}, \"ternary\": {\"aaxis\": {\"gridcolor\": \"white\", \"linecolor\": \"white\", \"ticks\": \"\"}, \"baxis\": {\"gridcolor\": \"white\", \"linecolor\": \"white\", \"ticks\": \"\"}, \"bgcolor\": \"#E5ECF6\", \"caxis\": {\"gridcolor\": \"white\", \"linecolor\": \"white\", \"ticks\": \"\"}}, \"title\": {\"x\": 0.05}, \"xaxis\": {\"automargin\": true, \"gridcolor\": \"white\", \"linecolor\": \"white\", \"ticks\": \"\", \"title\": {\"standoff\": 15}, \"zerolinecolor\": \"white\", \"zerolinewidth\": 2}, \"yaxis\": {\"automargin\": true, \"gridcolor\": \"white\", \"linecolor\": \"white\", \"ticks\": \"\", \"title\": {\"standoff\": 15}, \"zerolinecolor\": \"white\", \"zerolinewidth\": 2}}}, \"title\": {\"font\": {\"color\": \"#655643\", \"family\": \"Merryweather\", \"size\": 18}, \"text\": \"Data Jobs \\u2012 Technologies in Demand and Relationships Between Them\"}, \"width\": 960, \"xaxis\": {\"showgrid\": false, \"showline\": false, \"showticklabels\": false, \"title\": {\"text\": \"\"}, \"zeroline\": false}, \"yaxis\": {\"showgrid\": false, \"showline\": false, \"showticklabels\": false, \"title\": {\"text\": \"\"}, \"zeroline\": false}},\n",
       "                        {\"responsive\": true}\n",
       "                    ).then(function(){\n",
       "                            \n",
       "var gd = document.getElementById('cc0320ea-f2d7-4c78-ab36-01ad88746c77');\n",
       "var x = new MutationObserver(function (mutations, observer) {{\n",
       "        var display = window.getComputedStyle(gd).display;\n",
       "        if (!display || display === 'none') {{\n",
       "            console.log([gd, 'removed!']);\n",
       "            Plotly.purge(gd);\n",
       "            observer.disconnect();\n",
       "        }}\n",
       "}});\n",
       "\n",
       "// Listen for the removal of the full notebook cells\n",
       "var notebookContainer = gd.closest('#notebook-container');\n",
       "if (notebookContainer) {{\n",
       "    x.observe(notebookContainer, {childList: true});\n",
       "}}\n",
       "\n",
       "// Listen for the clearing of the current output cell\n",
       "var outputEl = gd.closest('.output');\n",
       "if (outputEl) {{\n",
       "    x.observe(outputEl, {childList: true});\n",
       "}}\n",
       "\n",
       "                        })\n",
       "                };\n",
       "                });\n",
       "            </script>\n",
       "        </div>"
      ]
     },
     "metadata": {},
     "output_type": "display_data"
    }
   ],
   "source": [
    "fig = go.Figure(data=data, layout=layout)\n",
    "\n",
    "plotly.offline.iplot(fig, filename='data_offers_tech_requirements_chord.html')"
   ]
  },
  {
   "cell_type": "code",
   "execution_count": 30,
   "metadata": {},
   "outputs": [
    {
     "data": {
      "text/plain": [
       "'file:///games/WORKSPACE/jpynb_Job_Market_Trends_Bulgaria/workbooks/data_offers_tech_requirements_chord.html'"
      ]
     },
     "execution_count": 30,
     "metadata": {},
     "output_type": "execute_result"
    }
   ],
   "source": [
    "# Uncomment the line below to export an HTML version of the chart.\n",
    "plotly.offline.plot(fig, filename='data_offers_tech_requirements_chord.html', show_link=False)"
   ]
  },
  {
   "cell_type": "markdown",
   "metadata": {},
   "source": [
    "### Resources:\n",
    "\n",
    "- https://plot.ly/python/filled-chord-diagram/\n",
    "- https://hci.stanford.edu/courses/cs448b/f11/lectures/CS448B-20111117-Text.pdf"
   ]
  },
  {
   "cell_type": "code",
   "execution_count": 31,
   "metadata": {},
   "outputs": [
    {
     "data": {
      "text/html": [
       "<style>\n",
       "@import url('https://fonts.googleapis.com/css?family=Fira+Mono|Fira+Sans|Fira+Sans+Condensed|Fira+Sans+Extra+Condensed');\n",
       "@import url('https://fonts.googleapis.com/css?family=Merriweather|Merriweather+Sans');\n",
       "\n",
       ".nbviewer {\n",
       "    background-color: #E5E1D8;\n",
       "}\n",
       "\n",
       "#notebook {\n",
       "    background-color: #E5E1D8;\n",
       "}\n",
       "\n",
       "#notebook-container {\n",
       "    background-color: #FFFAF0;\n",
       "    max-width: 1100px;\n",
       "    padding: 50px;\n",
       "    border-radius: 4px;\n",
       "    -webkit-box-shadow: 0px 0px 12px 1px rgba(101,86,67,0.75);\n",
       "    -moz-box-shadow: 0px 0px 12px 1px rgba(101,86,67,0.75);\n",
       "    box-shadow: 0px 0px 12px 1px rgba(101,86,67,0.75);\n",
       "}\n",
       "\n",
       "/* Jupyter Notebook Header Styling */\n",
       "body > #header {\n",
       "    background-color:#fafafa;\n",
       "}\n",
       "\n",
       "#header #menubar #menus {\n",
       "    background-color:#fefefe;\n",
       "}\n",
       "\n",
       "/* Headings */\n",
       ".text_cell_render h1 {\n",
       "    color: #655B4F;\n",
       "    font-family: 'Merriweather', serif;\n",
       "    font-weight: 900;\n",
       "    text-align: center;\n",
       "    font-size: 2.5em;\n",
       "    padding: 40px 0 12px 0;\n",
       "    text-shadow: 0 2px #FFFAF0, 0 3px #8c8b8b;\n",
       "}\n",
       "\n",
       ".text_cell_render h2 {\n",
       "    color: #655B4F;\n",
       "    font-family: 'Merriweather', serif;\n",
       "    font-weight: 600;\n",
       "    font-size: 2.2em;\n",
       "    text-indent: 22px;\n",
       "    padding: 40px 0 6px 0;\n",
       "    margin-bottom: 24px;\n",
       "    border-bottom: 1px solid #655B4F;\n",
       "}\n",
       "\n",
       ".text_cell_render h3 {\n",
       "    color: #655B4F;\n",
       "    font-family: 'Merriweather', serif;\n",
       "    font-weight: 300;\n",
       "    padding: 6px 0 0 0;\n",
       "    font-size: 1.6em;\n",
       "}\n",
       "\n",
       ".text_cell_render h4 {\n",
       "    color: #655B4F;\n",
       "    font-family: 'Merriweather', serif;\n",
       "    font-weight: 100;\n",
       "    font-size: 1.2em;\n",
       "}\n",
       "\n",
       "/* Use for subtitles and other non-headings */\n",
       "div.rendered_html > h5 {\n",
       "    font-family: 'Merriweather', serif;\n",
       "    line-height: 1.5em;\n",
       "    color: #655B4F;\n",
       "    font-weight: 200;\n",
       "    font-style: normal important!;\n",
       "    text-indent: 22px;\n",
       "    text-align: center;\n",
       "    margin-top: 0.5em;\n",
       "    padding: 6px 0 6px 0;\n",
       "    border-bottom: 1px solid #655B4F;\n",
       "    border-top: 1px solid #655B4F;\n",
       "}\n",
       "\n",
       "/* Use for image and chart captions */\n",
       "div.rendered_html > h6 {\n",
       "    font-family: 'Merriweather Sans', sans-serif;\n",
       "    font-size: 0.9em;\n",
       "    line-height: 1.5em;\n",
       "    color: #cac8c9;\n",
       "    font-weight: normal;\n",
       "    max-width: 525px;\n",
       "    display: block;\n",
       "    margin-left: auto;\n",
       "    margin-right: auto;\n",
       "}\n",
       "\n",
       "div#notebook-container p {\n",
       "    font-family: 'Fira Sans Condensed', sans-serif;\n",
       "    font-size: 1.2em;\n",
       "    line-height: 1.3em;\n",
       "    color: #655B4F;\n",
       "}\n",
       "\n",
       "/* Plotly Exported Charts Styling */\n",
       ".js-plotly-plot .plotly,\n",
       ".js-plotly-plot .plotly div {\n",
       "    direction: ltr;\n",
       "    font-family: \"Fira Sans Extra Condensed\", verdana, arial, sans-serif;\n",
       "}\n",
       "\n",
       "/* Lists */\n",
       "ol, ul {\n",
       "    font-family: 'Fira Sans Condensed', sans-serif;\n",
       "    line-height: 1.3em;\n",
       "    color: #655B4F;\n",
       "}\n",
       "\n",
       "div.input_prompt {\n",
       "    color: #aad0bc;\n",
       "    font-size: 0.7em;\n",
       "}\n",
       "\n",
       "div.output_prompt {\n",
       "    color: #aad0bc;\n",
       "    font-size: 0.7em;\n",
       "}\n",
       "\n",
       "div.prompt {\n",
       "    min-width: 2ex;\n",
       "}\n",
       "\n",
       "div.output_subarea {\n",
       "    min-width: 425px;\n",
       "    max-width: calc(100% - 1ex);\n",
       "    padding: 0;\n",
       "}\n",
       "\n",
       "div.text_cell code {\n",
       "    padding: 2px;\n",
       "    background-color: #E5E1D8;\n",
       "    color: #483F3A;\n",
       "    font-family: 'Fira Mono', monospace;\n",
       "    font-size: 0.9em;\n",
       "}\n",
       "\n",
       "div.input_area {\n",
       "    background-color: #FFFAF0;\n",
       "    border: 1px solid #E5E1D8;\n",
       "    background: repeating-linear-gradient(135deg, #FFFAF0, #FFFAF0 5px, #F7F7ED 5px, #F7F7ED 10px);\n",
       "}\n",
       "\n",
       "div.cell.rendered.selected {\n",
       "    background: #F7F7ED;\n",
       "    border: 1px solid #293C34;\n",
       "}\n",
       "\n",
       "div.output_area img {\n",
       "    display: block;\n",
       "    margin-left: auto;\n",
       "    margin-right: auto;\n",
       "}\n",
       "\n",
       "div.rendered_html pre, code {\n",
       "    font-family: 'Fira Sans Condensed', sans-serif;\n",
       "    font-size: 16px;\n",
       "    font-weight: 400;\n",
       "    color: #40362F;\n",
       "    background-color: #E5E1D8;\n",
       "}\n",
       "\n",
       "div.output_text pre {\n",
       "    font-family: 'Fira Sans Condensed', sans-serif;\n",
       "    font-size: 13px;\n",
       "    font-weight: 300;\n",
       "    color: #40362F;\n",
       "}\n",
       "\n",
       "\n",
       "pre, textarea {\n",
       "    overflow: hidden;\n",
       "}\n",
       "\n",
       "div.text_cell_render img {\n",
       "    max-height: 550px;\n",
       "    display: block;\n",
       "    margin-left: auto;\n",
       "    margin-right: auto;\n",
       "}\n",
       "\n",
       "div.output output_scroll {\n",
       "    overflow-x: auto;\n",
       "    overflow-y: scroll;\n",
       "    max-height: 2000px;\n",
       "}\n",
       "\n",
       "div.rendered_html hr {\n",
       "    border: 0;\n",
       "    height: 1px;\n",
       "    background-color: #655B4F;\n",
       "}\n",
       "\n",
       "div.rendered_html pre, code {\n",
       "    color: #40362F;\n",
       "    background-color: #FFFAF0;\n",
       "}\n",
       "\n",
       "/* Links */\n",
       "a.link--embedview {\n",
       "    display: none;\n",
       "}\n",
       "\n",
       "a:link {\n",
       "    color: #293C34;\n",
       "}\n",
       "\n",
       "a:visited {\n",
       "    color: #293C34;\n",
       "}\n",
       "\n",
       "a:hover {\n",
       "    color: #557C6C;\n",
       "}\n",
       "\n",
       "a:focus {\n",
       "    color:#557C6C;\n",
       "}\n",
       "\n",
       "a:active {\n",
       "    font-weight: bold;\n",
       "    color:#80BCA3;\n",
       "}\n",
       "\n",
       ".rendered_html :link {\n",
       "    text-decoration: underline;\n",
       "}\n",
       "\n",
       "/* Colors for code highlighting */\n",
       ".CodeMirror pre {\n",
       "    font-family: 'Fira Mono', monospace;\n",
       "    font-size: 0.9em;\n",
       "    font-weight: 600;\n",
       "}\n",
       "\n",
       ".CodeMirror-code span.cm-keyword,\n",
       ".highlight .k,\n",
       ".highlight .ow {\n",
       "    color: #5F362E;\n",
       "}\n",
       "\n",
       ".CodeMirror-code span.cm-variable,\n",
       ".highlight .na {\n",
       "    color: #655B4F;\n",
       "}\n",
       "\n",
       ".CodeMirror-code span.cm-property {\n",
       "    color: #655B4F;\n",
       "}\n",
       "\n",
       ".CodeMirror-code span.cm-def {\n",
       "    color: #293C34;\n",
       "}\n",
       "\n",
       ".CodeMirror-code span.cm-operator {\n",
       "    color: #655B4F;\n",
       "}\n",
       "\n",
       ".CodeMirror-code span.cm-string,\n",
       ".highlight .s {\n",
       "    color: #0B7761;\n",
       "}\n",
       "\n",
       ".CodeMirror-code span.cm-number,\n",
       ".highlight .mb, .highlight .mf, .highlight .mh, .highlight .mi, .highlight .mo {\n",
       "    color: #265BCA;\n",
       "}\n",
       "\n",
       ".CodeMirror-code span.cm-comment,\n",
       ".highlight .c1, .highlight .cs {\n",
       "    color: #75AC95;\n",
       "}\n",
       "\n",
       ".CodeMirror-code span.cm-builtin,\n",
       ".highlight .nb {\n",
       "    color: #5F362E;\n",
       "}\n",
       "\n",
       "/* Code with no class applied (brackets mostly) */\n",
       ".CodeMirror-line > span {\n",
       "    color: #72614B;\n",
       "}\n",
       "\n",
       "/* Table styles */\n",
       "table {\n",
       "    border: 1px solid #BF4D28;\n",
       "}\n",
       "\n",
       "\n",
       ".rendered_html table th {\n",
       "    color: #40362F;\n",
       "    text-align: left;\n",
       "    background-color: #f2e6ce;\n",
       "}\n",
       "\n",
       ".rendered_html td {\n",
       "    color: #40362F;\n",
       "    text-align: left;\n",
       "}\n",
       "\n",
       ".rendered_html table tr:nth-child(odd) {\n",
       "    background-color: #F7F7ED;\n",
       "}\n",
       "\n",
       ".rendered_html table tr:nth-child(even) {\n",
       "    background-color: #FFFAF0;\n",
       "}\n",
       "\n",
       "iframe {\n",
       "    border-width: 0;\n",
       "}\n",
       "\n",
       "@media only screen and (max-width: 600px) {\n",
       "    #notebook-container {\n",
       "        background-color: #FFFAF0;\n",
       "        padding: 15px;\n",
       "        border-radius: 4px;\n",
       "        -webkit-box-shadow: 0px 0px 12px 1px rgba(101,86,67,0.75);\n",
       "        -moz-box-shadow: 0px 0px 12px 1px rgba(101,86,67,0.75);\n",
       "        box-shadow: 0px 0px 12px 1px rgba(101,86,67,0.75);\n",
       "    }\n",
       "\n",
       "    .text_cell_render h1,\n",
       "    .text_cell_render h2 {\n",
       "        text-indent: 0;\n",
       "        text-align: left;\n",
       "        padding: 40px 22px 12px 22px;\n",
       "    }\n",
       "}\n",
       "\n",
       "</style>\n"
      ],
      "text/plain": [
       "<IPython.core.display.HTML object>"
      ]
     },
     "execution_count": 31,
     "metadata": {},
     "output_type": "execute_result"
    }
   ],
   "source": [
    "from IPython.core.display import HTML\n",
    "with open('../resources/styles/datum.css', 'r') as f:\n",
    "    style = f.read()\n",
    "HTML(style)"
   ]
  },
  {
   "cell_type": "code",
   "execution_count": null,
   "metadata": {},
   "outputs": [],
   "source": []
  }
 ],
 "metadata": {
  "kernelspec": {
   "display_name": "Python 3",
   "language": "python",
   "name": "python3"
  },
  "language_info": {
   "codemirror_mode": {
    "name": "ipython",
    "version": 3
   },
   "file_extension": ".py",
   "mimetype": "text/x-python",
   "name": "python",
   "nbconvert_exporter": "python",
   "pygments_lexer": "ipython3",
   "version": "3.8.1"
  }
 },
 "nbformat": 4,
 "nbformat_minor": 2
}
