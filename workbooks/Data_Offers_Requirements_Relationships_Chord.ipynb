{
 "cells": [
  {
   "cell_type": "markdown",
   "metadata": {},
   "source": [
    "## Requirements Relationships Chord Diagram\n"
   ]
  },
  {
   "cell_type": "code",
   "execution_count": 1,
   "metadata": {},
   "outputs": [
    {
     "data": {
      "text/html": [
       "<script type=\"text/javascript\">window.PlotlyConfig = {MathJaxConfig: 'local'};</script><script type=\"text/javascript\">if (window.MathJax) {MathJax.Hub.Config({SVG: {font: \"STIX-Web\"}});}</script><script>requirejs.config({paths: { 'plotly': ['https://cdn.plot.ly/plotly-latest.min']},});if(!window._Plotly) {require(['plotly'],function(plotly) {window._Plotly=plotly;});}</script>"
      ],
      "text/vnd.plotly.v1+html": [
       "<script type=\"text/javascript\">window.PlotlyConfig = {MathJaxConfig: 'local'};</script><script type=\"text/javascript\">if (window.MathJax) {MathJax.Hub.Config({SVG: {font: \"STIX-Web\"}});}</script><script>requirejs.config({paths: { 'plotly': ['https://cdn.plot.ly/plotly-latest.min']},});if(!window._Plotly) {require(['plotly'],function(plotly) {window._Plotly=plotly;});}</script>"
      ]
     },
     "metadata": {},
     "output_type": "display_data"
    }
   ],
   "source": [
    "import re\n",
    "from itertools import combinations\n",
    "import psycopg2\n",
    "import numpy as np\n",
    "import pandas as pd\n",
    "import plotly\n",
    "import plotly.plotly as py\n",
    "import plotly.graph_objs as go\n",
    "from IPython import display\n",
    "from bs4 import BeautifulSoup as bs\n",
    "\n",
    "from nbstyler import DATA_STYLE as DS\n",
    "\n",
    "plotly.offline.init_notebook_mode(connected=True)\n",
    "\n",
    "%matplotlib notebook\n",
    "%matplotlib inline"
   ]
  },
  {
   "cell_type": "markdown",
   "metadata": {},
   "source": [
    "### Objectives\n",
    "\n",
    "The main objective for this recipe is to try the plotly implementation of the chord diagram and to provide a clean recipe for preparing such charts in the future. \n",
    "\n",
    "\n",
    "### Data Preparation"
   ]
  },
  {
   "cell_type": "code",
   "execution_count": 2,
   "metadata": {},
   "outputs": [],
   "source": [
    "data_querystr = \"\"\"SELECT * FROM v_full_data_offers_history_tsv\"\"\"\n",
    "conn = psycopg2.connect('dbname=jobsbg')\n",
    "data_df = pd.read_sql_query(data_querystr, conn, index_col='subm_date')\n",
    "conn.close()"
   ]
  },
  {
   "cell_type": "code",
   "execution_count": 3,
   "metadata": {},
   "outputs": [
    {
     "data": {
      "text/html": [
       "<div>\n",
       "<style scoped>\n",
       "    .dataframe tbody tr th:only-of-type {\n",
       "        vertical-align: middle;\n",
       "    }\n",
       "\n",
       "    .dataframe tbody tr th {\n",
       "        vertical-align: top;\n",
       "    }\n",
       "\n",
       "    .dataframe thead th {\n",
       "        text-align: right;\n",
       "    }\n",
       "</style>\n",
       "<table border=\"1\" class=\"dataframe\">\n",
       "  <thead>\n",
       "    <tr style=\"text-align: right;\">\n",
       "      <th></th>\n",
       "      <th>subm_type</th>\n",
       "      <th>job_id</th>\n",
       "      <th>company_id</th>\n",
       "      <th>norm_salary</th>\n",
       "      <th>job_title</th>\n",
       "      <th>company_name</th>\n",
       "      <th>text_salary</th>\n",
       "      <th>job_location</th>\n",
       "      <th>job_contents</th>\n",
       "    </tr>\n",
       "    <tr>\n",
       "      <th>subm_date</th>\n",
       "      <th></th>\n",
       "      <th></th>\n",
       "      <th></th>\n",
       "      <th></th>\n",
       "      <th></th>\n",
       "      <th></th>\n",
       "      <th></th>\n",
       "      <th></th>\n",
       "      <th></th>\n",
       "    </tr>\n",
       "  </thead>\n",
       "  <tbody>\n",
       "    <tr>\n",
       "      <th>2018-05-17</th>\n",
       "      <td>submission</td>\n",
       "      <td>4331729</td>\n",
       "      <td>179347</td>\n",
       "      <td>NaN</td>\n",
       "      <td>Data Entry Operator - Temporary position</td>\n",
       "      <td>Технементалс Технолоджис (България) ЕАД</td>\n",
       "      <td>None</td>\n",
       "      <td>София</td>\n",
       "      <td>&lt;!DOCTYPE html PUBLIC \"-//W3C//DTD XHTML 1.0 ...</td>\n",
       "    </tr>\n",
       "  </tbody>\n",
       "</table>\n",
       "</div>"
      ],
      "text/plain": [
       "             subm_type   job_id  company_id  norm_salary  \\\n",
       "subm_date                                                  \n",
       "2018-05-17  submission  4331729      179347          NaN   \n",
       "\n",
       "                                           job_title  \\\n",
       "subm_date                                              \n",
       "2018-05-17  Data Entry Operator - Temporary position   \n",
       "\n",
       "                                       company_name text_salary job_location  \\\n",
       "subm_date                                                                      \n",
       "2018-05-17  Технементалс Технолоджис (България) ЕАД        None        София   \n",
       "\n",
       "                                                 job_contents  \n",
       "subm_date                                                      \n",
       "2018-05-17   <!DOCTYPE html PUBLIC \"-//W3C//DTD XHTML 1.0 ...  "
      ]
     },
     "execution_count": 3,
     "metadata": {},
     "output_type": "execute_result"
    }
   ],
   "source": [
    "data_df.head(1)"
   ]
  },
  {
   "cell_type": "markdown",
   "metadata": {},
   "source": [
    "### Relationship Categories Definition"
   ]
  },
  {
   "cell_type": "markdown",
   "metadata": {},
   "source": [
    "In order to build the necessary data we first need to define the scope of the relationships we aim to observe. The search strings we will compare should be of the same semantic category to provide meaningful insight.\n",
    "\n",
    "To explore the data and prepare proper definitions we took a deep dive in the data offers' text contents. We used the `nltk` library for text processing to produce frequency distributions of most common words, bigrams and trigrams. Then those distributions were used to explore different possible relationship categories. See the details in the [Requirements Deep Dive Notebook](./Data_Offers_Requirements_Deep_Dive.ipynb).\n",
    "\n",
    "For the first chord diagram the chosen view is a breakdown by technology. Other possible relationships to explore are skill requirements breakdown, perks & benefits breakdown, job title breakdown, etc."
   ]
  },
  {
   "cell_type": "markdown",
   "metadata": {},
   "source": [
    "### Data Jobs Technology Requirement Relationships"
   ]
  },
  {
   "cell_type": "markdown",
   "metadata": {},
   "source": [
    "A preliminary list of terms that describe most often sought categories is presented below. We are going to use it to construct regex filters for selected key technologies."
   ]
  },
  {
   "cell_type": "code",
   "execution_count": 4,
   "metadata": {},
   "outputs": [],
   "source": [
    "tech_terms_filters = [\n",
    "    r'power bi', r'excel', r'ss[ir]s',\n",
    "    r'sql server', r'postgresql', r'(mysql)|(mariadb)', r't.?sql', r'pl.?sql',\n",
    "    r'pentaho', r'hadoop', r'spark', r'informatica',\n",
    "    r'qlik', r'tableau', r'microstrategy', r'oracle (bi)|(business intelligence)',\n",
    "    r'python', r'vba', r'linux', r'aws']\n",
    "\n",
    "tech_terms_labels = [\n",
    "    'Power BI', 'Excel', 'SSIS/SSRS',\n",
    "    'MS SQL Server', 'PostgreSQL', 'MySQL/MariaDB', 'T-SQL', 'PL/SQL',\n",
    "    'Pentaho', 'Hadoop', 'Spark', 'Informatica',\n",
    "    'Qlik', 'Tableau', 'Microstrategy', 'Oracle BI',\n",
    "    'Python', 'VBA', 'Linux', 'AWS']"
   ]
  },
  {
   "cell_type": "markdown",
   "metadata": {},
   "source": [
    "#### Preparing a square matrix with counts for matching filters"
   ]
  },
  {
   "cell_type": "markdown",
   "metadata": {},
   "source": [
    "First we define a helper function that returns `True` for job offers where both of the provided patterns are found in the job contents. We also prepare a list of all possible filter patterns' combinations."
   ]
  },
  {
   "cell_type": "code",
   "execution_count": 5,
   "metadata": {},
   "outputs": [],
   "source": [
    "def match_terms(first_term, second_term, text):\n",
    "    match_found = re.search(first_term, text, re.IGNORECASE) and re.search(second_term, text, re.IGNORECASE)\n",
    "    return True if match_found else False\n",
    "\n",
    "    \n",
    "def count_matches(first_term, second_term, col):\n",
    "    return sum([match_terms(first_term, second_term, t) for t in col.values])\n",
    "\n",
    "req_combinations = list(combinations(tech_terms_filters, 2))"
   ]
  },
  {
   "cell_type": "markdown",
   "metadata": {},
   "source": [
    "Building the counts in a dictionary with keys composed of tuples with both search terms. "
   ]
  },
  {
   "cell_type": "code",
   "execution_count": 6,
   "metadata": {},
   "outputs": [
    {
     "name": "stdout",
     "output_type": "stream",
     "text": [
      "CPU times: user 2min 38s, sys: 4.03 ms, total: 2min 38s\n",
      "Wall time: 2min 38s\n"
     ]
    }
   ],
   "source": [
    "%%time\n",
    "match_results = [count_matches(*tup, data_df.job_contents) for tup in req_combinations]\n",
    "match_dict = dict(zip(req_combinations, match_results))"
   ]
  },
  {
   "cell_type": "markdown",
   "metadata": {},
   "source": [
    "Another helper function will unpack the combinations counts into a square matrix form. Finally, a DataFrame is created from the combinations counts matrix. This is our main data source for the chord diagram. "
   ]
  },
  {
   "cell_type": "code",
   "execution_count": 7,
   "metadata": {},
   "outputs": [],
   "source": [
    "def make_matrix(headers, counts):\n",
    "    res = []\n",
    "    for k1 in headers:\n",
    "        row = []\n",
    "        for k2 in headers:\n",
    "            if k1 == k2:\n",
    "                row.append(0)\n",
    "            else:\n",
    "                curr_key = tuple([k1, k2])\n",
    "                cell_value = counts.get(curr_key) if curr_key in counts else counts.get(tuple([k2, k1]))\n",
    "                row.append(cell_value)\n",
    "        res.append(row)\n",
    "    return np.array(res, dtype=int)  "
   ]
  },
  {
   "cell_type": "code",
   "execution_count": 8,
   "metadata": {},
   "outputs": [],
   "source": [
    "tech_terms_matrix = make_matrix(tech_terms_filters, match_dict)"
   ]
  },
  {
   "cell_type": "code",
   "execution_count": 9,
   "metadata": {},
   "outputs": [
    {
     "data": {
      "text/html": [
       "<div>\n",
       "<style scoped>\n",
       "    .dataframe tbody tr th:only-of-type {\n",
       "        vertical-align: middle;\n",
       "    }\n",
       "\n",
       "    .dataframe tbody tr th {\n",
       "        vertical-align: top;\n",
       "    }\n",
       "\n",
       "    .dataframe thead th {\n",
       "        text-align: right;\n",
       "    }\n",
       "</style>\n",
       "<table border=\"1\" class=\"dataframe\">\n",
       "  <thead>\n",
       "    <tr style=\"text-align: right;\">\n",
       "      <th></th>\n",
       "      <th>Power BI</th>\n",
       "      <th>Excel</th>\n",
       "      <th>SSIS/SSRS</th>\n",
       "      <th>MS SQL Server</th>\n",
       "      <th>PostgreSQL</th>\n",
       "      <th>MySQL/MariaDB</th>\n",
       "      <th>T-SQL</th>\n",
       "      <th>PL/SQL</th>\n",
       "      <th>Pentaho</th>\n",
       "      <th>Hadoop</th>\n",
       "      <th>Spark</th>\n",
       "      <th>Informatica</th>\n",
       "      <th>Qlik</th>\n",
       "      <th>Tableau</th>\n",
       "      <th>Microstrategy</th>\n",
       "      <th>Oracle BI</th>\n",
       "      <th>Python</th>\n",
       "      <th>VBA</th>\n",
       "      <th>Linux</th>\n",
       "      <th>AWS</th>\n",
       "    </tr>\n",
       "  </thead>\n",
       "  <tbody>\n",
       "    <tr>\n",
       "      <th>Power BI</th>\n",
       "      <td>0</td>\n",
       "      <td>192</td>\n",
       "      <td>116</td>\n",
       "      <td>122</td>\n",
       "      <td>0</td>\n",
       "      <td>5</td>\n",
       "      <td>42</td>\n",
       "      <td>7</td>\n",
       "      <td>8</td>\n",
       "      <td>21</td>\n",
       "      <td>26</td>\n",
       "      <td>12</td>\n",
       "      <td>157</td>\n",
       "      <td>170</td>\n",
       "      <td>22</td>\n",
       "      <td>145</td>\n",
       "      <td>73</td>\n",
       "      <td>32</td>\n",
       "      <td>6</td>\n",
       "      <td>5</td>\n",
       "    </tr>\n",
       "    <tr>\n",
       "      <th>Excel</th>\n",
       "      <td>192</td>\n",
       "      <td>0</td>\n",
       "      <td>543</td>\n",
       "      <td>250</td>\n",
       "      <td>63</td>\n",
       "      <td>109</td>\n",
       "      <td>172</td>\n",
       "      <td>54</td>\n",
       "      <td>62</td>\n",
       "      <td>74</td>\n",
       "      <td>77</td>\n",
       "      <td>114</td>\n",
       "      <td>377</td>\n",
       "      <td>407</td>\n",
       "      <td>36</td>\n",
       "      <td>561</td>\n",
       "      <td>318</td>\n",
       "      <td>228</td>\n",
       "      <td>68</td>\n",
       "      <td>48</td>\n",
       "    </tr>\n",
       "    <tr>\n",
       "      <th>SSIS/SSRS</th>\n",
       "      <td>116</td>\n",
       "      <td>543</td>\n",
       "      <td>0</td>\n",
       "      <td>250</td>\n",
       "      <td>44</td>\n",
       "      <td>70</td>\n",
       "      <td>117</td>\n",
       "      <td>33</td>\n",
       "      <td>32</td>\n",
       "      <td>32</td>\n",
       "      <td>39</td>\n",
       "      <td>65</td>\n",
       "      <td>75</td>\n",
       "      <td>142</td>\n",
       "      <td>26</td>\n",
       "      <td>244</td>\n",
       "      <td>151</td>\n",
       "      <td>72</td>\n",
       "      <td>17</td>\n",
       "      <td>27</td>\n",
       "    </tr>\n",
       "    <tr>\n",
       "      <th>MS SQL Server</th>\n",
       "      <td>122</td>\n",
       "      <td>250</td>\n",
       "      <td>250</td>\n",
       "      <td>0</td>\n",
       "      <td>71</td>\n",
       "      <td>81</td>\n",
       "      <td>160</td>\n",
       "      <td>10</td>\n",
       "      <td>44</td>\n",
       "      <td>28</td>\n",
       "      <td>25</td>\n",
       "      <td>59</td>\n",
       "      <td>62</td>\n",
       "      <td>98</td>\n",
       "      <td>18</td>\n",
       "      <td>163</td>\n",
       "      <td>109</td>\n",
       "      <td>35</td>\n",
       "      <td>45</td>\n",
       "      <td>9</td>\n",
       "    </tr>\n",
       "    <tr>\n",
       "      <th>PostgreSQL</th>\n",
       "      <td>0</td>\n",
       "      <td>63</td>\n",
       "      <td>44</td>\n",
       "      <td>71</td>\n",
       "      <td>0</td>\n",
       "      <td>85</td>\n",
       "      <td>31</td>\n",
       "      <td>0</td>\n",
       "      <td>43</td>\n",
       "      <td>3</td>\n",
       "      <td>6</td>\n",
       "      <td>0</td>\n",
       "      <td>14</td>\n",
       "      <td>6</td>\n",
       "      <td>0</td>\n",
       "      <td>42</td>\n",
       "      <td>23</td>\n",
       "      <td>0</td>\n",
       "      <td>36</td>\n",
       "      <td>0</td>\n",
       "    </tr>\n",
       "    <tr>\n",
       "      <th>MySQL/MariaDB</th>\n",
       "      <td>5</td>\n",
       "      <td>109</td>\n",
       "      <td>70</td>\n",
       "      <td>81</td>\n",
       "      <td>85</td>\n",
       "      <td>0</td>\n",
       "      <td>37</td>\n",
       "      <td>0</td>\n",
       "      <td>61</td>\n",
       "      <td>5</td>\n",
       "      <td>22</td>\n",
       "      <td>8</td>\n",
       "      <td>17</td>\n",
       "      <td>45</td>\n",
       "      <td>0</td>\n",
       "      <td>66</td>\n",
       "      <td>52</td>\n",
       "      <td>5</td>\n",
       "      <td>39</td>\n",
       "      <td>0</td>\n",
       "    </tr>\n",
       "    <tr>\n",
       "      <th>T-SQL</th>\n",
       "      <td>42</td>\n",
       "      <td>172</td>\n",
       "      <td>117</td>\n",
       "      <td>160</td>\n",
       "      <td>31</td>\n",
       "      <td>37</td>\n",
       "      <td>0</td>\n",
       "      <td>33</td>\n",
       "      <td>37</td>\n",
       "      <td>16</td>\n",
       "      <td>17</td>\n",
       "      <td>12</td>\n",
       "      <td>69</td>\n",
       "      <td>93</td>\n",
       "      <td>11</td>\n",
       "      <td>131</td>\n",
       "      <td>47</td>\n",
       "      <td>26</td>\n",
       "      <td>24</td>\n",
       "      <td>8</td>\n",
       "    </tr>\n",
       "    <tr>\n",
       "      <th>PL/SQL</th>\n",
       "      <td>7</td>\n",
       "      <td>54</td>\n",
       "      <td>33</td>\n",
       "      <td>10</td>\n",
       "      <td>0</td>\n",
       "      <td>0</td>\n",
       "      <td>33</td>\n",
       "      <td>0</td>\n",
       "      <td>8</td>\n",
       "      <td>3</td>\n",
       "      <td>0</td>\n",
       "      <td>27</td>\n",
       "      <td>15</td>\n",
       "      <td>18</td>\n",
       "      <td>22</td>\n",
       "      <td>78</td>\n",
       "      <td>3</td>\n",
       "      <td>6</td>\n",
       "      <td>1</td>\n",
       "      <td>2</td>\n",
       "    </tr>\n",
       "    <tr>\n",
       "      <th>Pentaho</th>\n",
       "      <td>8</td>\n",
       "      <td>62</td>\n",
       "      <td>32</td>\n",
       "      <td>44</td>\n",
       "      <td>43</td>\n",
       "      <td>61</td>\n",
       "      <td>37</td>\n",
       "      <td>8</td>\n",
       "      <td>0</td>\n",
       "      <td>0</td>\n",
       "      <td>6</td>\n",
       "      <td>32</td>\n",
       "      <td>30</td>\n",
       "      <td>37</td>\n",
       "      <td>3</td>\n",
       "      <td>38</td>\n",
       "      <td>34</td>\n",
       "      <td>1</td>\n",
       "      <td>33</td>\n",
       "      <td>13</td>\n",
       "    </tr>\n",
       "    <tr>\n",
       "      <th>Hadoop</th>\n",
       "      <td>21</td>\n",
       "      <td>74</td>\n",
       "      <td>32</td>\n",
       "      <td>28</td>\n",
       "      <td>3</td>\n",
       "      <td>5</td>\n",
       "      <td>16</td>\n",
       "      <td>3</td>\n",
       "      <td>0</td>\n",
       "      <td>0</td>\n",
       "      <td>120</td>\n",
       "      <td>5</td>\n",
       "      <td>9</td>\n",
       "      <td>36</td>\n",
       "      <td>3</td>\n",
       "      <td>34</td>\n",
       "      <td>130</td>\n",
       "      <td>7</td>\n",
       "      <td>81</td>\n",
       "      <td>44</td>\n",
       "    </tr>\n",
       "    <tr>\n",
       "      <th>Spark</th>\n",
       "      <td>26</td>\n",
       "      <td>77</td>\n",
       "      <td>39</td>\n",
       "      <td>25</td>\n",
       "      <td>6</td>\n",
       "      <td>22</td>\n",
       "      <td>17</td>\n",
       "      <td>0</td>\n",
       "      <td>6</td>\n",
       "      <td>120</td>\n",
       "      <td>0</td>\n",
       "      <td>10</td>\n",
       "      <td>15</td>\n",
       "      <td>34</td>\n",
       "      <td>3</td>\n",
       "      <td>30</td>\n",
       "      <td>138</td>\n",
       "      <td>7</td>\n",
       "      <td>62</td>\n",
       "      <td>45</td>\n",
       "    </tr>\n",
       "    <tr>\n",
       "      <th>Informatica</th>\n",
       "      <td>12</td>\n",
       "      <td>114</td>\n",
       "      <td>65</td>\n",
       "      <td>59</td>\n",
       "      <td>0</td>\n",
       "      <td>8</td>\n",
       "      <td>12</td>\n",
       "      <td>27</td>\n",
       "      <td>32</td>\n",
       "      <td>5</td>\n",
       "      <td>10</td>\n",
       "      <td>0</td>\n",
       "      <td>92</td>\n",
       "      <td>67</td>\n",
       "      <td>13</td>\n",
       "      <td>124</td>\n",
       "      <td>25</td>\n",
       "      <td>3</td>\n",
       "      <td>8</td>\n",
       "      <td>19</td>\n",
       "    </tr>\n",
       "    <tr>\n",
       "      <th>Qlik</th>\n",
       "      <td>157</td>\n",
       "      <td>377</td>\n",
       "      <td>75</td>\n",
       "      <td>62</td>\n",
       "      <td>14</td>\n",
       "      <td>17</td>\n",
       "      <td>69</td>\n",
       "      <td>15</td>\n",
       "      <td>30</td>\n",
       "      <td>9</td>\n",
       "      <td>15</td>\n",
       "      <td>92</td>\n",
       "      <td>0</td>\n",
       "      <td>326</td>\n",
       "      <td>32</td>\n",
       "      <td>316</td>\n",
       "      <td>48</td>\n",
       "      <td>29</td>\n",
       "      <td>2</td>\n",
       "      <td>3</td>\n",
       "    </tr>\n",
       "    <tr>\n",
       "      <th>Tableau</th>\n",
       "      <td>170</td>\n",
       "      <td>407</td>\n",
       "      <td>142</td>\n",
       "      <td>98</td>\n",
       "      <td>6</td>\n",
       "      <td>45</td>\n",
       "      <td>93</td>\n",
       "      <td>18</td>\n",
       "      <td>37</td>\n",
       "      <td>36</td>\n",
       "      <td>34</td>\n",
       "      <td>67</td>\n",
       "      <td>326</td>\n",
       "      <td>0</td>\n",
       "      <td>46</td>\n",
       "      <td>384</td>\n",
       "      <td>122</td>\n",
       "      <td>62</td>\n",
       "      <td>16</td>\n",
       "      <td>32</td>\n",
       "    </tr>\n",
       "    <tr>\n",
       "      <th>Microstrategy</th>\n",
       "      <td>22</td>\n",
       "      <td>36</td>\n",
       "      <td>26</td>\n",
       "      <td>18</td>\n",
       "      <td>0</td>\n",
       "      <td>0</td>\n",
       "      <td>11</td>\n",
       "      <td>22</td>\n",
       "      <td>3</td>\n",
       "      <td>3</td>\n",
       "      <td>3</td>\n",
       "      <td>13</td>\n",
       "      <td>32</td>\n",
       "      <td>46</td>\n",
       "      <td>0</td>\n",
       "      <td>57</td>\n",
       "      <td>17</td>\n",
       "      <td>7</td>\n",
       "      <td>6</td>\n",
       "      <td>2</td>\n",
       "    </tr>\n",
       "    <tr>\n",
       "      <th>Oracle BI</th>\n",
       "      <td>145</td>\n",
       "      <td>561</td>\n",
       "      <td>244</td>\n",
       "      <td>163</td>\n",
       "      <td>42</td>\n",
       "      <td>66</td>\n",
       "      <td>131</td>\n",
       "      <td>78</td>\n",
       "      <td>38</td>\n",
       "      <td>34</td>\n",
       "      <td>30</td>\n",
       "      <td>124</td>\n",
       "      <td>316</td>\n",
       "      <td>384</td>\n",
       "      <td>57</td>\n",
       "      <td>0</td>\n",
       "      <td>145</td>\n",
       "      <td>67</td>\n",
       "      <td>3</td>\n",
       "      <td>44</td>\n",
       "    </tr>\n",
       "    <tr>\n",
       "      <th>Python</th>\n",
       "      <td>73</td>\n",
       "      <td>318</td>\n",
       "      <td>151</td>\n",
       "      <td>109</td>\n",
       "      <td>23</td>\n",
       "      <td>52</td>\n",
       "      <td>47</td>\n",
       "      <td>3</td>\n",
       "      <td>34</td>\n",
       "      <td>130</td>\n",
       "      <td>138</td>\n",
       "      <td>25</td>\n",
       "      <td>48</td>\n",
       "      <td>122</td>\n",
       "      <td>17</td>\n",
       "      <td>145</td>\n",
       "      <td>0</td>\n",
       "      <td>60</td>\n",
       "      <td>87</td>\n",
       "      <td>82</td>\n",
       "    </tr>\n",
       "    <tr>\n",
       "      <th>VBA</th>\n",
       "      <td>32</td>\n",
       "      <td>228</td>\n",
       "      <td>72</td>\n",
       "      <td>35</td>\n",
       "      <td>0</td>\n",
       "      <td>5</td>\n",
       "      <td>26</td>\n",
       "      <td>6</td>\n",
       "      <td>1</td>\n",
       "      <td>7</td>\n",
       "      <td>7</td>\n",
       "      <td>3</td>\n",
       "      <td>29</td>\n",
       "      <td>62</td>\n",
       "      <td>7</td>\n",
       "      <td>67</td>\n",
       "      <td>60</td>\n",
       "      <td>0</td>\n",
       "      <td>1</td>\n",
       "      <td>5</td>\n",
       "    </tr>\n",
       "    <tr>\n",
       "      <th>Linux</th>\n",
       "      <td>6</td>\n",
       "      <td>68</td>\n",
       "      <td>17</td>\n",
       "      <td>45</td>\n",
       "      <td>36</td>\n",
       "      <td>39</td>\n",
       "      <td>24</td>\n",
       "      <td>1</td>\n",
       "      <td>33</td>\n",
       "      <td>81</td>\n",
       "      <td>62</td>\n",
       "      <td>8</td>\n",
       "      <td>2</td>\n",
       "      <td>16</td>\n",
       "      <td>6</td>\n",
       "      <td>3</td>\n",
       "      <td>87</td>\n",
       "      <td>1</td>\n",
       "      <td>0</td>\n",
       "      <td>23</td>\n",
       "    </tr>\n",
       "    <tr>\n",
       "      <th>AWS</th>\n",
       "      <td>5</td>\n",
       "      <td>48</td>\n",
       "      <td>27</td>\n",
       "      <td>9</td>\n",
       "      <td>0</td>\n",
       "      <td>0</td>\n",
       "      <td>8</td>\n",
       "      <td>2</td>\n",
       "      <td>13</td>\n",
       "      <td>44</td>\n",
       "      <td>45</td>\n",
       "      <td>19</td>\n",
       "      <td>3</td>\n",
       "      <td>32</td>\n",
       "      <td>2</td>\n",
       "      <td>44</td>\n",
       "      <td>82</td>\n",
       "      <td>5</td>\n",
       "      <td>23</td>\n",
       "      <td>0</td>\n",
       "    </tr>\n",
       "  </tbody>\n",
       "</table>\n",
       "</div>"
      ],
      "text/plain": [
       "               Power BI  Excel  SSIS/SSRS  MS SQL Server  PostgreSQL  \\\n",
       "Power BI              0    192        116            122           0   \n",
       "Excel               192      0        543            250          63   \n",
       "SSIS/SSRS           116    543          0            250          44   \n",
       "MS SQL Server       122    250        250              0          71   \n",
       "PostgreSQL            0     63         44             71           0   \n",
       "MySQL/MariaDB         5    109         70             81          85   \n",
       "T-SQL                42    172        117            160          31   \n",
       "PL/SQL                7     54         33             10           0   \n",
       "Pentaho               8     62         32             44          43   \n",
       "Hadoop               21     74         32             28           3   \n",
       "Spark                26     77         39             25           6   \n",
       "Informatica          12    114         65             59           0   \n",
       "Qlik                157    377         75             62          14   \n",
       "Tableau             170    407        142             98           6   \n",
       "Microstrategy        22     36         26             18           0   \n",
       "Oracle BI           145    561        244            163          42   \n",
       "Python               73    318        151            109          23   \n",
       "VBA                  32    228         72             35           0   \n",
       "Linux                 6     68         17             45          36   \n",
       "AWS                   5     48         27              9           0   \n",
       "\n",
       "               MySQL/MariaDB  T-SQL  PL/SQL  Pentaho  Hadoop  Spark  \\\n",
       "Power BI                   5     42       7        8      21     26   \n",
       "Excel                    109    172      54       62      74     77   \n",
       "SSIS/SSRS                 70    117      33       32      32     39   \n",
       "MS SQL Server             81    160      10       44      28     25   \n",
       "PostgreSQL                85     31       0       43       3      6   \n",
       "MySQL/MariaDB              0     37       0       61       5     22   \n",
       "T-SQL                     37      0      33       37      16     17   \n",
       "PL/SQL                     0     33       0        8       3      0   \n",
       "Pentaho                   61     37       8        0       0      6   \n",
       "Hadoop                     5     16       3        0       0    120   \n",
       "Spark                     22     17       0        6     120      0   \n",
       "Informatica                8     12      27       32       5     10   \n",
       "Qlik                      17     69      15       30       9     15   \n",
       "Tableau                   45     93      18       37      36     34   \n",
       "Microstrategy              0     11      22        3       3      3   \n",
       "Oracle BI                 66    131      78       38      34     30   \n",
       "Python                    52     47       3       34     130    138   \n",
       "VBA                        5     26       6        1       7      7   \n",
       "Linux                     39     24       1       33      81     62   \n",
       "AWS                        0      8       2       13      44     45   \n",
       "\n",
       "               Informatica  Qlik  Tableau  Microstrategy  Oracle BI  Python  \\\n",
       "Power BI                12   157      170             22        145      73   \n",
       "Excel                  114   377      407             36        561     318   \n",
       "SSIS/SSRS               65    75      142             26        244     151   \n",
       "MS SQL Server           59    62       98             18        163     109   \n",
       "PostgreSQL               0    14        6              0         42      23   \n",
       "MySQL/MariaDB            8    17       45              0         66      52   \n",
       "T-SQL                   12    69       93             11        131      47   \n",
       "PL/SQL                  27    15       18             22         78       3   \n",
       "Pentaho                 32    30       37              3         38      34   \n",
       "Hadoop                   5     9       36              3         34     130   \n",
       "Spark                   10    15       34              3         30     138   \n",
       "Informatica              0    92       67             13        124      25   \n",
       "Qlik                    92     0      326             32        316      48   \n",
       "Tableau                 67   326        0             46        384     122   \n",
       "Microstrategy           13    32       46              0         57      17   \n",
       "Oracle BI              124   316      384             57          0     145   \n",
       "Python                  25    48      122             17        145       0   \n",
       "VBA                      3    29       62              7         67      60   \n",
       "Linux                    8     2       16              6          3      87   \n",
       "AWS                     19     3       32              2         44      82   \n",
       "\n",
       "               VBA  Linux  AWS  \n",
       "Power BI        32      6    5  \n",
       "Excel          228     68   48  \n",
       "SSIS/SSRS       72     17   27  \n",
       "MS SQL Server   35     45    9  \n",
       "PostgreSQL       0     36    0  \n",
       "MySQL/MariaDB    5     39    0  \n",
       "T-SQL           26     24    8  \n",
       "PL/SQL           6      1    2  \n",
       "Pentaho          1     33   13  \n",
       "Hadoop           7     81   44  \n",
       "Spark            7     62   45  \n",
       "Informatica      3      8   19  \n",
       "Qlik            29      2    3  \n",
       "Tableau         62     16   32  \n",
       "Microstrategy    7      6    2  \n",
       "Oracle BI       67      3   44  \n",
       "Python          60     87   82  \n",
       "VBA              0      1    5  \n",
       "Linux            1      0   23  \n",
       "AWS              5     23    0  "
      ]
     },
     "execution_count": 9,
     "metadata": {},
     "output_type": "execute_result"
    }
   ],
   "source": [
    "tech_terms_df = pd.DataFrame(tech_terms_matrix, columns=tech_terms_labels, index=tech_terms_labels)\n",
    "tech_terms_df"
   ]
  },
  {
   "cell_type": "markdown",
   "metadata": {},
   "source": [
    "We can finally move to Plotly. \n",
    "\n",
    "A chord diagram encodes information in two graphical objects:\n",
    "\n",
    "- Ideograms, represented by distinctly colored arcs of circles;\n",
    "- Ribbons, that are planar shapes bounded by two quadratic Bezier curves and two arcs of circle,that can degenerate to a point;\n"
   ]
  },
  {
   "cell_type": "markdown",
   "metadata": {},
   "source": [
    "### Ideograms Preparation"
   ]
  },
  {
   "cell_type": "markdown",
   "metadata": {},
   "source": [
    "For each of our predefined tech terms we can produce a total hits count by summing up all the entries on the row (or column for that matter). That total count determines the size of each ideogram of the chart.\n",
    "\n",
    "We are going to need a couple of helper functions to process the data in order to get ideogram ends.\n"
   ]
  },
  {
   "cell_type": "code",
   "execution_count": 10,
   "metadata": {},
   "outputs": [],
   "source": [
    "PI = np.pi\n",
    "\n",
    "def moduloAB(x, a, b):\n",
    "    if a >= b:\n",
    "        raise ValueError('Incorrect interval ends')\n",
    "    y = (x-a) % (b-a)\n",
    "    return y+b if y < 0 else y+a\n",
    "\n",
    "\n",
    "def test_2PI(x):\n",
    "    return 0 <= x < 2*PI"
   ]
  },
  {
   "cell_type": "markdown",
   "metadata": {},
   "source": [
    "And now use them to compute the row sums and the lengths of corresponding ideograms."
   ]
  },
  {
   "cell_type": "code",
   "execution_count": 11,
   "metadata": {},
   "outputs": [],
   "source": [
    "row_sum = [np.sum(tech_terms_matrix[k, :]) for k in range(len(tech_terms_filters))]\n",
    "\n",
    "#set the gap between two consecutive ideograms\n",
    "gap = 2*PI*0.005\n",
    "ideogram_length = 2*PI*np.asarray(row_sum)/sum(row_sum)-gap*np.ones(len(tech_terms_filters))"
   ]
  },
  {
   "cell_type": "markdown",
   "metadata": {},
   "source": [
    "The next function returns the list of end angular coordinates for each ideogram arc:\n"
   ]
  },
  {
   "cell_type": "code",
   "execution_count": 12,
   "metadata": {},
   "outputs": [],
   "source": [
    "def get_ideogram_ends(ideogram_len, gap):\n",
    "    ideo_ends = []\n",
    "    left = 0\n",
    "    for k in range(len(ideogram_len)):\n",
    "        right = left+ideogram_len[k]\n",
    "        ideo_ends.append([left, right])\n",
    "        left = right+gap\n",
    "    return ideo_ends\n",
    "\n",
    "ideo_ends = get_ideogram_ends(ideogram_length, gap)"
   ]
  },
  {
   "cell_type": "markdown",
   "metadata": {},
   "source": [
    "The function make_ideogram_arc returns equally spaced points on an ideogram arc, expressed as complex numbers in polar form:"
   ]
  },
  {
   "cell_type": "code",
   "execution_count": 13,
   "metadata": {},
   "outputs": [],
   "source": [
    "def make_ideogram_arc(R, phi, a=50):\n",
    "    if not test_2PI(phi[0]) or not test_2PI(phi[1]):\n",
    "        phi = [moduloAB(t, 0, 2*PI) for t in phi]\n",
    "    length = (phi[1]-phi[0]) % 2*PI\n",
    "    nr = 5 if length <= PI/4 else int(a*length/PI)\n",
    "    if phi[0] < phi[1]:\n",
    "        theta = np.linspace(phi[0], phi[1], nr)\n",
    "    else:\n",
    "        phi = [moduloAB(t, -PI, PI) for t in phi]\n",
    "        theta = np.linspace(phi[0], phi[1], nr)\n",
    "    return R*np.exp(1j*theta)"
   ]
  },
  {
   "cell_type": "code",
   "execution_count": 14,
   "metadata": {},
   "outputs": [],
   "source": [
    "z = make_ideogram_arc(1.3, [11*PI/6, PI/17])"
   ]
  },
  {
   "cell_type": "markdown",
   "metadata": {},
   "source": [
    "### Ribbons Preparation"
   ]
  },
  {
   "cell_type": "markdown",
   "metadata": {},
   "source": [
    "The function map_data maps all matrix entries to the corresponding values in the intervals associated to ideograms:"
   ]
  },
  {
   "cell_type": "code",
   "execution_count": 15,
   "metadata": {},
   "outputs": [],
   "source": [
    "def map_data(data_matrix, row_value, ideogram_length):\n",
    "    mapped = np.zeros(data_matrix.shape)\n",
    "    for j in range(len(tech_terms_filters)):\n",
    "        mapped[:, j] = ideogram_length*data_matrix[:, j]/row_value\n",
    "    return mapped\n",
    "\n",
    "mapped_data = map_data(tech_terms_matrix, row_sum, ideogram_length)"
   ]
  },
  {
   "cell_type": "markdown",
   "metadata": {},
   "source": [
    "The array idx_sort, defined below, has on each row the indices that sort the corresponding row in mapped_data:\n"
   ]
  },
  {
   "cell_type": "code",
   "execution_count": 16,
   "metadata": {},
   "outputs": [],
   "source": [
    "idx_sort = np.argsort(mapped_data, axis=1)"
   ]
  },
  {
   "cell_type": "code",
   "execution_count": 17,
   "metadata": {},
   "outputs": [
    {
     "name": "stdout",
     "output_type": "stream",
     "text": [
      "ribbon ends starting from the ideogram[2]\n",
      " [(1.292622146842522, 1.292622146842522), (1.292622146842522, 1.2968390512585095), (1.2968390512585095, 1.303288434482961), (1.303288434482961, 1.309985870908353), (1.309985870908353, 1.3179235733384471), (1.3179235733384471, 1.3258612757685413), (1.3258612757685413, 1.3340470313995758), (1.3340470313995758, 1.343721106236253), (1.343721106236253, 1.3546354470776325), (1.3546354470776325, 1.3707589051387612), (1.3707589051387612, 1.388122629204592), (1.388122629204592, 1.4059824596723038), (1.4059824596723038, 1.4245864497428369), (1.4245864497428369, 1.453360621051928), (1.453360621051928, 1.4823828455619597), (1.4823828455619597, 1.5176064000955023), (1.5176064000955023, 1.555062433437509), (1.555062433437509, 1.6155874144669766), (1.6155874144669766, 1.6776007147020868), (1.6776007147020868, 1.8122936028127463)]\n"
     ]
    }
   ],
   "source": [
    "def make_ribbon_ends(mapped_data, ideo_ends,  idx_sort):\n",
    "    L = mapped_data.shape[0]\n",
    "    ribbon_boundary = np.zeros((L, L+1))\n",
    "    for k in range(L):\n",
    "        start = ideo_ends[k][0]\n",
    "        ribbon_boundary[k][0] = start\n",
    "        for j in range(1, L+1):\n",
    "            J = idx_sort[k][j-1]\n",
    "            ribbon_boundary[k][j] = start+mapped_data[k][J]\n",
    "            start = ribbon_boundary[k][j]\n",
    "    return [[(ribbon_boundary[k][j], ribbon_boundary[k][j+1]) for j in range(L)] for k in range(L)]\n",
    "\n",
    "\n",
    "ribbon_ends = make_ribbon_ends(mapped_data, ideo_ends, idx_sort)\n",
    "print('ribbon ends starting from the ideogram[2]\\n', ribbon_ends[2])"
   ]
  },
  {
   "cell_type": "code",
   "execution_count": 18,
   "metadata": {},
   "outputs": [],
   "source": [
    "def control_pts(angle, radius):\n",
    "    if len(angle) != 3:\n",
    "        raise InvalidInputError('angle must have len =3')\n",
    "    b_cplx = np.array([np.exp(1j*angle[k]) for k in range(3)])\n",
    "    b_cplx[1] = radius*b_cplx[1]\n",
    "    return zip(b_cplx.real, b_cplx.imag)"
   ]
  },
  {
   "cell_type": "code",
   "execution_count": 19,
   "metadata": {},
   "outputs": [],
   "source": [
    "def ctrl_rib_chords(l, r, radius):\n",
    "    if len(l) != 2 or len(r) != 2:\n",
    "        raise ValueError('the arc ends must be elements in a list of len 2')\n",
    "    return [control_pts([l[j], (l[j]+r[j])/2, r[j]], radius) for j in range(2)]"
   ]
  },
  {
   "cell_type": "code",
   "execution_count": 20,
   "metadata": {},
   "outputs": [
    {
     "data": {
      "text/plain": [
       "'M 1,4 Q -0.5, 2.35 3.745, 1.47'"
      ]
     },
     "execution_count": 20,
     "metadata": {},
     "output_type": "execute_result"
    }
   ],
   "source": [
    "def make_q_bezier(b):\n",
    "    if len(b) != 3:\n",
    "        raise ValueError('control poligon must have 3 points')\n",
    "    A, B, C = b\n",
    "    return 'M ' + str(A[0]) + ',' + str(A[1]) + ' ' + 'Q ' + \\\n",
    "        str(B[0]) + ', ' + str(B[1]) + ' ' + \\\n",
    "        str(C[0]) + ', ' + str(C[1])\n",
    "\n",
    "\n",
    "b = [(1,4), (-0.5, 2.35), (3.745, 1.47)]\n",
    "make_q_bezier(b)"
   ]
  },
  {
   "cell_type": "code",
   "execution_count": 21,
   "metadata": {},
   "outputs": [],
   "source": [
    "def make_ribbon_arc(theta0, theta1):\n",
    "    if test_2PI(theta0) and test_2PI(theta1):\n",
    "        if theta0 < theta1:\n",
    "            theta0 = moduloAB(theta0, -PI, PI)\n",
    "            theta1 = moduloAB(theta1, -PI, PI)\n",
    "            if theta0*theta1 > 0:\n",
    "                raise ValueError('incorrect angle coordinates for ribbon')\n",
    "\n",
    "        nr = int(40*(theta0-theta1)/PI)\n",
    "        if nr <= 2: \n",
    "            nr = 3\n",
    "        theta = np.linspace(theta0, theta1, nr)\n",
    "        pts = np.exp(1j*theta)\n",
    "\n",
    "        string_arc = ''\n",
    "        for k in range(len(theta)):\n",
    "            string_arc += 'L ' + str(pts.real[k]) + ', ' + str(pts.imag[k]) + ' '\n",
    "        return string_arc\n",
    "    else:\n",
    "        raise ValueError('the angle coordinates for an arc side of a ribbon must be in [0, 2*pi]')"
   ]
  },
  {
   "cell_type": "code",
   "execution_count": 22,
   "metadata": {},
   "outputs": [],
   "source": [
    "def make_ideo_shape(path, line_color, fill_color):\n",
    "    return dict(\n",
    "        line=dict(color=line_color, width=0.45),\n",
    "        path=path,\n",
    "        type='path',\n",
    "        fillcolor=fill_color,\n",
    "        layer='below',\n",
    "    )"
   ]
  },
  {
   "cell_type": "code",
   "execution_count": 23,
   "metadata": {},
   "outputs": [],
   "source": [
    "temp_colors = [*DS['colorramp']['acc1'], *DS['colorramp']['acc2']]\n",
    "len_datalist = len(tech_terms_filters)\n",
    "ideo_colors = temp_colors[:len_datalist]"
   ]
  },
  {
   "cell_type": "code",
   "execution_count": 24,
   "metadata": {},
   "outputs": [],
   "source": [
    "def make_ribbon(l, r, line_color, fill_color, radius=0.2):\n",
    "    poligon = ctrl_rib_chords(l, r, radius)\n",
    "    b, c = poligon\n",
    "\n",
    "    return dict(\n",
    "        line=dict(\n",
    "            color=line_color,\n",
    "            width=0.5\n",
    "            ),\n",
    "        path=make_q_bezier(list(b))+make_ribbon_arc(r[0], r[1])+make_q_bezier(list(c)[::-1])+make_ribbon_arc(l[1], l[0]),\n",
    "        type='path',\n",
    "        fillcolor=fill_color,\n",
    "        layer='below'\n",
    "    )\n",
    "\n",
    "\n",
    "def make_self_rel(l, line_color, fill_color, radius):\n",
    "    b = control_pts([l[0], (l[0]+l[1])/2, l[1]], radius)\n",
    "    return dict(\n",
    "        line=dict(\n",
    "            color=line_color,\n",
    "            width=0.5\n",
    "            ),\n",
    "        path=make_q_bezier(b)+make_ribbon_arc(l[1], l[0]),\n",
    "        type='path',\n",
    "        fillcolor=fill_color,\n",
    "        layer='below'\n",
    "    )\n",
    "\n",
    "\n",
    "def invPerm(perm):\n",
    "    inv = [0] * len(perm)\n",
    "    for i, s in enumerate(perm):\n",
    "        inv[s] = i\n",
    "    return inv"
   ]
  },
  {
   "cell_type": "code",
   "execution_count": 25,
   "metadata": {},
   "outputs": [],
   "source": [
    "radii_sribb = [0.4, 0.30, 0.35, 0.39, 0.12]"
   ]
  },
  {
   "cell_type": "code",
   "execution_count": 26,
   "metadata": {},
   "outputs": [],
   "source": [
    "shapes = []\n",
    "ribbon_info = []\n",
    "\n",
    "for k in range(len(tech_terms_filters)):\n",
    "    sigma = idx_sort[k]\n",
    "    sigma_inv = invPerm(sigma)\n",
    "    for j in range(k, len(tech_terms_filters)):\n",
    "        if tech_terms_matrix[k][j] == 0 and tech_terms_matrix[j][k] == 0:\n",
    "            continue\n",
    "        eta = idx_sort[j]\n",
    "        eta_inv = invPerm(eta)\n",
    "        l = ribbon_ends[k][sigma_inv[j]]\n",
    "\n",
    "        if j == k:\n",
    "            shapes.append(make_self_rel(l, DS['colors']['acc1'], ideo_colors[k], radius=radii_sribb[k]))\n",
    "            z = 0.9*np.exp(1j*(l[0]+l[1])/2)\n",
    "            text = tech_terms_labels[k]+' appears in ' + '{:d}'.format(tech_terms_matrix[k][k]),\n",
    "            ribbon_info.append(\n",
    "                go.Scatter(\n",
    "                    x=[z.real],\n",
    "                    y=[z.imag],\n",
    "                    mode='markers',\n",
    "                    marker=dict(size=0.5, color=ideo_colors[k]),\n",
    "                    text=text,\n",
    "                    hoverinfo='text',\n",
    "                ),\n",
    "            )\n",
    "        else:\n",
    "            r = ribbon_ends[j][eta_inv[k]]\n",
    "            zi = 0.9*np.exp(1j*(l[0]+l[1])/2)\n",
    "            zf = 0.9*np.exp(1j*(r[0]+r[1])/2)\n",
    "            texti = tech_terms_labels[k]+' appears with '+tech_terms_labels[j]+' {:d}'.format(tech_terms_matrix[k][j])+' times'\n",
    "            textf = tech_terms_labels[j]+' appears with '+tech_terms_labels[k]+' {:d}'.format(tech_terms_matrix[j][k])+' times'\n",
    "\n",
    "            ribbon_info.append(go.Scatter(\n",
    "                x=[zi.real],\n",
    "                y=[zi.imag],\n",
    "                mode='markers',\n",
    "                marker=dict(size=0.5, color='green'),\n",
    "                text=texti,\n",
    "                hoverinfo='text'\n",
    "            )),\n",
    "            ribbon_info.append(go.Scatter(\n",
    "                x=[zf.real],\n",
    "                y=[zf.imag],\n",
    "                mode='markers',\n",
    "                marker=dict(size=0.5, color='blue'),\n",
    "                text=textf,\n",
    "                hoverinfo='text'\n",
    "            ))\n",
    "            r = (r[1], r[0])\n",
    "            shapes.append(make_ribbon(l, r, 'rgb(175,175,175)', ideo_colors[k]))"
   ]
  },
  {
   "cell_type": "code",
   "execution_count": 27,
   "metadata": {},
   "outputs": [
    {
     "name": "stderr",
     "output_type": "stream",
     "text": [
      "/home/deo/WORKSPACE/Job_Market_Trends_Bulgaria/ve-jobmarkettrends/lib/python3.7/site-packages/plotly/graph_objs/_deprecations.py:39: DeprecationWarning:\n",
      "\n",
      "plotly.graph_objs.Data is deprecated.\n",
      "Please replace it with a list or tuple of instances of the following types\n",
      "  - plotly.graph_objs.Scatter\n",
      "  - plotly.graph_objs.Bar\n",
      "  - plotly.graph_objs.Area\n",
      "  - plotly.graph_objs.Histogram\n",
      "  - etc.\n",
      "\n",
      "\n"
     ]
    }
   ],
   "source": [
    "ideograms = []\n",
    "for k in range(len(ideo_ends)):\n",
    "    z = make_ideogram_arc(1.1, ideo_ends[k])\n",
    "    zi = make_ideogram_arc(1.0, ideo_ends[k])\n",
    "    m = len(z)\n",
    "    n = len(zi)\n",
    "    ideograms.append(go.Scatter(\n",
    "        x=z.real,\n",
    "        y=z.imag,\n",
    "        mode='lines',\n",
    "        line=dict(color=ideo_colors[k], shape='spline', width=0.25),\n",
    "        text=tech_terms_labels[k]+'<br>'+'{:d}'.format(row_sum[k]),\n",
    "        hoverinfo='text',))\n",
    "\n",
    "    path = 'M '\n",
    "    for s in range(m):\n",
    "        path += str(z.real[s])+', '+str(z.imag[s])+' L '\n",
    "\n",
    "    Zi = np.array(zi.tolist()[::-1])\n",
    "\n",
    "    for s in range(m):\n",
    "        path += str(Zi.real[s])+', '+str(Zi.imag[s])+' L '\n",
    "    path += str(z.real[0])+' ,'+str(z.imag[0])\n",
    "\n",
    "    shapes.append(make_ideo_shape(path, 'rgb(150,150,150)', ideo_colors[k]))\n",
    "\n",
    "data = go.Data(ideograms+ribbon_info)\n"
   ]
  },
  {
   "cell_type": "code",
   "execution_count": 47,
   "metadata": {},
   "outputs": [],
   "source": [
    "layout = go.Layout(\n",
    "    paper_bgcolor=DS['colors']['bg1'],\n",
    "    plot_bgcolor=DS['colors']['bg1'],\n",
    "    title='Data Jobs ‒ Technologies in Demand and Relationships Between Them',\n",
    "    titlefont=DS['chart_fonts']['title'],\n",
    "    font=DS['chart_fonts']['text'],\n",
    "    autosize=False,\n",
    "    width=960,\n",
    "    height=525,\n",
    "    margin=dict(\n",
    "        l=280,\n",
    "        r=280,\n",
    "        t=80,\n",
    "        b=10,\n",
    "    ),\n",
    "    showlegend=False,\n",
    "    hidesources=True,\n",
    "    xaxis=dict(\n",
    "        showline=False,\n",
    "        zeroline=False,\n",
    "        showgrid=False,\n",
    "        showticklabels=False,\n",
    "        title='',\n",
    "    ),\n",
    "    yaxis=dict(\n",
    "        showline=False,\n",
    "        zeroline=False,\n",
    "        showgrid=False,\n",
    "        showticklabels=False,\n",
    "        title='',\n",
    "    ),\n",
    "    shapes=shapes,\n",
    "    hovermode='closest',\n",
    "    hoverdistance=40,\n",
    ")"
   ]
  },
  {
   "cell_type": "code",
   "execution_count": 48,
   "metadata": {},
   "outputs": [
    {
     "data": {
      "application/vnd.plotly.v1+json": {
       "config": {
        "linkText": "Export to plot.ly",
        "plotlyServerURL": "https://plot.ly",
        "showLink": true
       },
       "data": [
        {
         "hoverinfo": "text",
         "line": {
          "color": "#f2e6ce",
          "shape": "spline",
          "width": 0.25
         },
         "mode": "lines",
         "text": "Power BI<br>1161",
         "type": "scatter",
         "uid": "4a6608a4-fa17-44f3-b064-46c1defb7826",
         "x": [
          1.1,
          1.099713297726551,
          1.098853340357464,
          1.097420576168618,
          1.0954157520268306,
          1.0928399130005375,
          1.0896944018150203,
          1.085980858152475,
          1.0817012177972851,
          1.07685771162694,
          1.0714528644491317,
          1.06548949368563,
          1.0589707079036266
         ],
         "y": [
          0,
          0.025113000684799748,
          0.05021291054343683,
          0.07528664557369336,
          0.1003211354176838,
          0.12530333017513012,
          0.1502202072059729,
          0.17505877791877203,
          0.19980609454135928,
          0.22444925687021197,
          0.24897541899503062,
          0.273371795995015,
          0.29762567060334727
         ]
        },
        {
         "hoverinfo": "text",
         "line": {
          "color": "#ecd5bb",
          "shape": "spline",
          "width": 0.25
         },
         "mode": "lines",
         "text": "Excel<br>3753",
         "type": "scatter",
         "uid": "bb762964-159f-4517-b3e3-ca4e9558b988",
         "x": [
          1.0490995215500296,
          1.0420012662876854,
          1.0344531515201263,
          1.026458435968128,
          1.0180205711618362,
          1.0091431999506502,
          0.999830154930508,
          0.9900854567892536,
          0.9799133125707996,
          0.9693181138588353,
          0.9583044348808634,
          0.9468770305333853,
          0.9350408343290867,
          0.9228009562669095,
          0.91016268062593,
          0.8971314636839959,
          0.8837129313621069,
          0.8699128767955563,
          0.8557372578328802,
          0.8411921944636976,
          0.8262839661765489,
          0.8110190092478741,
          0.7954039139633029,
          0.7794454217724531,
          0.7631504223784693,
          0.7465259507635557,
          0.7295791841517875,
          0.7123174389105145,
          0.6947481673916911,
          0.6768789547144993,
          0.6587175154906518,
          0.64027169049379,
          0.6215494432744152,
          0.6025588567218128,
          0.5833081295744554,
          0.5638055728803901,
          0.5440596064091399,
          0.5240787550166663,
          0.5038716449649636,
          0.48344700019787307,
          0.46281363857472596,
          0.4419804680634402,
          0.4209564828947154,
          0.3997507596789857,
          0.37837245348780596,
          0.35683079390136657,
          0.3351350810238387
         ],
         "y": [
          0.3307418840780516,
          0.35246753191586383,
          0.3740410101981852,
          0.3954530050838718,
          0.41669427244843305,
          0.4377556418749647,
          0.4586280206132598,
          0.47930239750539044,
          0.49976984687606213,
          0.5200215323860641,
          0.5400487108471507,
          0.5598427359967071,
          0.5793950622305696,
          0.5986972482923881,
          0.6177409609179414,
          0.636517978432826,
          0.6550201943019712,
          0.6732396206294453,
          0.6911683916070404,
          0.7087987669101499,
          0.7261231350394725,
          0.7431340166070969,
          0.7598240675655509,
          0.7761860823784222,
          0.7922129971311781,
          0.8078978925808443,
          0.8232339971432255,
          0.8382146898163774,
          0.8528335030390674,
          0.8670841254829932,
          0.8809604047775491,
          0.8944563501659678,
          0.9075661350916884,
          0.9202840997138341,
          0.9326047533507164,
          0.9445227768503073,
          0.9560330248866573,
          0.9671305281812694,
          0.9778104956484676,
          0.9880683164638354,
          0.9978995620548309,
          1.0072999880127183,
          1.0162655359249921,
          1.0247923351275,
          1.0328767043755118,
          1.0405151534330102,
          1.0477043845795173
         ]
        },
        {
         "hoverinfo": "text",
         "line": {
          "color": "#e6c4a9",
          "shape": "spline",
          "width": 0.25
         },
         "mode": "lines",
         "text": "SSIS/SSRS<br>2095",
         "type": "scatter",
         "uid": "710a2d72-a80e-4388-9b4a-8ef58a71c56f",
         "x": [
          0.3020605220829019,
          0.27908884096773656,
          0.25598631376352865,
          0.23276377169993712,
          0.20943210227356002,
          0.18600224414351615,
          0.16248518200304024,
          0.13889194142949335,
          0.11523358371520927,
          0.09152120068159247,
          0.06776590947890594,
          0.0439788473741837,
          0.02017116652970957,
          -0.0036459712254838053,
          -0.027461399628651628,
          -0.05126395321844971,
          -0.07504247256967286,
          -0.09878580952516222,
          -0.12248283242243088,
          -0.1461224313125564,
          -0.1696935231688918,
          -0.19318505708315614,
          -0.21658601944646488,
          -0.23988543911287652,
          -0.2630723925430267
         ],
         "y": [
          1.0577142529998378,
          1.0640063058306026,
          1.0697995172768402,
          1.0750911712892166,
          1.0798787869651285,
          1.084160119711833,
          1.0879331622987871,
          1.091196145798704,
          1.0939475404168841,
          1.096186056208434,
          1.0979106436830353,
          1.0991204942969803,
          1.0998150408322442,
          1.0999939576624151,
          1.0996571609053594,
          1.098804808462548,
          1.0974372999450266,
          1.0955552764860652,
          1.0931596204405736,
          1.0902514549714242,
          1.0868321435228758,
          1.082903289181346,
          1.0784667339238312,
          1.0735245577543266,
          1.068079077728652
         ]
        },
        {
         "hoverinfo": "text",
         "line": {
          "color": "#e1b396",
          "shape": "spline",
          "width": 0.25
         },
         "mode": "lines",
         "text": "MS SQL Server<br>1639",
         "type": "scatter",
         "uid": "6248abd3-a4c2-4746-90f1-6b267965bd8b",
         "x": [
          -0.29649175678478834,
          -0.3199400615614322,
          -0.3432305979206599,
          -0.36635188086417464,
          -0.3892925088556984,
          -0.41204116944328295,
          -0.4345866448376908,
          -0.4569178174440967,
          -0.4790236753443804,
          -0.5008933177273104,
          -0.5225159602639364,
          -0.543880940425544,
          -0.564977722741546,
          -0.5857959039947199,
          -0.6063252183512289,
          -0.6265555424228955,
          -0.6464769002592338,
          -0.6660794682667768,
          -0.6853535800532734
         ],
         "y": [
          1.0592887416368921,
          1.0524439923378663,
          1.0450802632578162,
          1.0372011855890264,
          1.0288106446517922,
          1.0199127779784956,
          1.01051197327331,
          1.0006128662485425,
          0.990220338338676,
          0.9793395142932444,
          0.967975759649722,
          0.9561346780876772,
          0.9438221086654927,
          0.9310441229410178,
          0.9178070219775695,
          0.9041173332367605,
          0.8899818073596858,
          0.875407414838056,
          0.8604013425769171
         ]
        },
        {
         "hoverinfo": "text",
         "line": {
          "color": "#dba284",
          "shape": "spline",
          "width": 0.25
         },
         "mode": "lines",
         "text": "PostgreSQL<br>467",
         "type": "scatter",
         "uid": "39bdbfca-ea85-4894-b019-5c84b81a1b6a",
         "x": [
          -0.7120412587155689,
          -0.731018012305031,
          -0.7496128685520765,
          -0.7678161131595695,
          -0.7856182364155435
         ],
         "y": [
          0.838449310266726,
          0.8219566081525239,
          0.8050345006899564,
          0.7876918283012281,
          0.7699376511194469
         ]
        },
        {
         "hoverinfo": "text",
         "line": {
          "color": "#d59171",
          "shape": "spline",
          "width": 0.25
         },
         "mode": "lines",
         "text": "MySQL/MariaDB<br>707",
         "type": "scatter",
         "uid": "634a51e5-7419-44bb-a302-b2938079be20",
         "x": [
          -0.8094149073047849,
          -0.8375857023176769,
          -0.864506101995107,
          -0.890135918041009,
          -0.914436888815596
         ],
         "y": [
          0.7448808682150366,
          0.7130569341034446,
          0.6801685082486735,
          0.646264688353998,
          0.6113960879603775
         ]
        },
        {
         "hoverinfo": "text",
         "line": {
          "color": "#d0805f",
          "shape": "spline",
          "width": 0.25
         },
         "mode": "lines",
         "text": "T-SQL<br>1083",
         "type": "scatter",
         "uid": "0da26845-d4cc-41ce-833a-06fcf926a43e",
         "x": [
          -0.9331900846318506,
          -0.9463603792112409,
          -0.9590282254867787,
          -0.9711868977564857,
          -0.9828299406526255,
          -0.9939511725690326,
          -1.0045446889430947,
          -1.0146048653906434,
          -1.0241263606920934,
          -1.033104119628239,
          -1.0415333756642073,
          -1.0494096534801403
         ],
         "y": [
          0.5823712440916015,
          0.5607156433158937,
          0.5387623434499487,
          0.5165230000940264,
          0.494009420716606,
          0.47123355838548386,
          0.44820750542156396,
          0.4249434869787212,
          0.40145385455313326,
          0.37775107942554115,
          0.3538477460399052,
          0.3297565453219878
         ]
        },
        {
         "hoverinfo": "text",
         "line": {
          "color": "#ca6f4c",
          "shape": "spline",
          "width": 0.25
         },
         "mode": "lines",
         "text": "PL/SQL<br>320",
         "type": "scatter",
         "uid": "cccce8b5-45e8-48e5-8137-1cc670438ae3",
         "x": [
          -1.059249736564074,
          -1.063070025922296,
          -1.06670537120495,
          -1.0701551399649192,
          -1.0734187320401463
         ],
         "y": [
          0.2966310765731399,
          0.28263425126047415,
          0.26858825559303584,
          0.254495533176251,
          0.2403585357446766
         ]
        },
        {
         "hoverinfo": "text",
         "line": {
          "color": "#c45e3a",
          "shape": "spline",
          "width": 0.25
         },
         "mode": "lines",
         "text": "Pentaho<br>522",
         "type": "scatter",
         "uid": "708d65ba-e1f4-4713-8ccb-37d202aa07f9",
         "x": [
          -1.0804389087522392,
          -1.085527139507303,
          -1.08985460436952,
          -1.093418270538005,
          -1.096215640502032
         ],
         "y": [
          0.20652303613464265,
          0.17785058164957626,
          0.14905348481185268,
          0.12015192738228589,
          0.09116616433041264
         ]
        },
        {
         "hoverinfo": "text",
         "line": {
          "color": "#bf4d28",
          "shape": "spline",
          "width": 0.25
         },
         "mode": "lines",
         "text": "Hadoop<br>651",
         "type": "scatter",
         "uid": "e0de1720-ad7f-4e7d-9137-433ec747b76f",
         "x": [
          -1.098538322681163,
          -1.0998484389697032,
          -1.0998146692256165,
          -1.098437054711577,
          -1.0957172787112424
         ],
         "y": [
          0.05668821395014255,
          0.018259553551693505,
          -0.020191417883540855,
          -0.05861771776994069,
          -0.09697239366763051
         ]
        },
        {
         "hoverinfo": "text",
         "line": {
          "color": "#af4624",
          "shape": "spline",
          "width": 0.25
         },
         "mode": "lines",
         "text": "Spark<br>682",
         "type": "scatter",
         "uid": "8213a3c5-d570-4eb6-958a-acc83d604c1c",
         "x": [
          -1.09213063188325,
          -1.0865253260677943,
          -1.0794330702885202,
          -1.07086357055892,
          -1.0608285545552907
         ],
         "y": [
          -0.131341855104506,
          -0.17164706759299264,
          -0.21171737474165617,
          -0.25149793885795824,
          -0.29093431877338344
         ]
        },
        {
         "hoverinfo": "text",
         "line": {
          "color": "#9f4021",
          "shape": "spline",
          "width": 0.25
         },
         "mode": "lines",
         "text": "Informatica<br>695",
         "type": "scatter",
         "uid": "0b43a858-3672-43ff-a58f-4ca44af04948",
         "x": [
          -1.0511666319067594,
          -1.038148765641603,
          -1.0236437419714992,
          -1.0076723394727694,
          -0.9902574373225405
         ],
         "y": [
          -0.3241121903998669,
          -0.36365799922016834,
          -0.40268286469948883,
          -0.4411308833685034,
          -0.4789469780961096
         ]
        },
        {
         "hoverinfo": "text",
         "line": {
          "color": "#8f391e",
          "shape": "spline",
          "width": 0.25
         },
         "mode": "lines",
         "text": "Qlik<br>1688",
         "type": "scatter",
         "uid": "80caa8cc-66e4-4e43-a805-b29285a31638",
         "x": [
          -0.974724716914662,
          -0.9634244291393563,
          -0.9516698085816113,
          -0.9394663984986907,
          -0.9268199537885295,
          -0.9137364382758346,
          -0.9002220218996552,
          -0.8862830778037586,
          -0.8719261793311733,
          -0.8571580969243269,
          -0.8419857949322308,
          -0.826416428326227,
          -0.810457339325836,
          -0.7941160539363077,
          -0.777400278399496,
          -0.7603178955597438,
          -0.7428769611464789,
          -0.725085699975288,
          -0.706952502069245,
          -0.6884859187023364
         ],
         "y": [
          -0.5098153844634667,
          -0.5308609698758289,
          -0.5516562112713311,
          -0.572191302006505,
          -0.5924565581200264,
          -0.6124424228994854,
          -0.6321394713881556,
          -0.6515384148296223,
          -0.6706301050481873,
          -0.689405538762974,
          -0.7078558618337066,
          -0.7259723734361538,
          -0.7437465301652754,
          -0.7611699500641281,
          -0.7782344165766419,
          -0.794931882422389,
          -0.8112544733915327,
          -0.8271944920581537,
          -0.8427444214102128,
          -0.8578969283944313
         ]
        },
        {
         "hoverinfo": "text",
         "line": {
          "color": "#f0f3e7",
          "shape": "spline",
          "width": 0.25
         },
         "mode": "lines",
         "text": "Tableau<br>2141",
         "type": "scatter",
         "uid": "65e671ef-4a33-48ca-8d87-53cd672c7396",
         "x": [
          -0.6611989987307494,
          -0.6423516257290705,
          -0.6232136317999435,
          -0.6037936755990359,
          -0.5841005433509903,
          -0.5641431448742432,
          -0.543930509549935,
          -0.5234717822367209,
          -0.5027762191333357,
          -0.4818531835907909,
          -0.4607121418760812,
          -0.4393626588893399,
          -0.4178143938363625,
          -0.39607709585846546,
          -0.3741605996216582,
          -0.35207482086711284,
          -0.32982975192496133,
          -0.3074354571934369,
          -0.28490206858540956,
          -0.26223978094438044,
          -0.23945884743199486,
          -0.21656957488917977,
          -0.19358231917298996,
          -0.1705074804712782,
          -0.14735549859731317,
          -0.12413684826646003
         ],
         "y": [
          -0.879099473368887,
          -0.8929638228524269,
          -0.9064241662371566,
          -0.9194744136225904,
          -0.9321086606491102,
          -0.9443211911692965,
          -0.9561064798340968,
          -0.967459194592677,
          -0.978374199104815,
          -0.9888465550647481,
          -0.9988715244354269,
          -1.0084445715921573,
          -1.0175613653746653,
          -1.0262177810466568,
          -1.0344099021619821,
          -1.0421340223365663,
          -1.0493866469252975,
          -1.0561644946031195,
          -1.0624644988496108,
          -1.0682838093363785,
          -1.07361979321664,
          -1.0784700363164106,
          -1.0828323442267536,
          -1.0867047432966035,
          -1.0900854815257093,
          -1.0929730293572986
         ]
        },
        {
         "hoverinfo": "text",
         "line": {
          "color": "#e2ecde",
          "shape": "spline",
          "width": 0.25
         },
         "mode": "lines",
         "text": "Microstrategy<br>324",
         "type": "scatter",
         "uid": "f47875c8-f072-45b5-a059-249d504329fd",
         "x": [
          -0.08974448172141823,
          -0.07498786391126314,
          -0.060217674808291155,
          -0.04543658751920015,
          -0.030647277123040086
         ],
         "y": [
          -1.0963329457790432,
          -1.097441032705642,
          -1.0983505049121083,
          -1.0990611978022926,
          -1.0995729827550984
         ]
        },
        {
         "hoverinfo": "text",
         "line": {
          "color": "#d4e5d6",
          "shape": "spline",
          "width": 0.25
         },
         "mode": "lines",
         "text": "Oracle BI<br>2672",
         "type": "scatter",
         "uid": "f2f49867-2123-403a-8700-21b8af43bd02",
         "x": [
          0.003906267508313948,
          0.026984684667724548,
          0.050051221465552506,
          0.07309572255623821,
          0.09610804229573135,
          0.11907804920824282,
          0.14199563044676392,
          0.16485069624537396,
          0.18763318436139617,
          0.21033306450543116,
          0.2329403427573232,
          0.25544506596611516,
          0.27783732613205236,
          0.3001072647687139,
          0.32224507724333445,
          0.3442410170934268,
          0.3660854003177883,
          0.38776860964001025,
          0.40928109874260954,
          0.43061339646992025,
          0.4517561109978944,
          0.472699933968975,
          0.49343564459022543,
          0.5139541136929004,
          0.534246307751685,
          0.5543032928618219,
          0.5741162386723805,
          0.5936764222739349,
          0.6129752320389381,
          0.6320041714131074,
          0.6507548626561392,
          0.6692190505301223,
          0.687388605934014
         ],
         "y": [
          -1.0999930641027487,
          -1.0996689623670315,
          -1.0988607169381415,
          -1.0975686836567367,
          -1.095793431357426,
          -1.093535741618334,
          -1.0907966084169982,
          -1.0875772376927606,
          -1.0838790468158348,
          -1.0797036639632906,
          -1.0750529274022285,
          -1.0699288846804573,
          -1.0643337917250357,
          -1.0582701118490692,
          -1.0517405146672052,
          -1.0447478749203003,
          -1.0372952712097772,
          -1.02938598464223,
          -1.0210234973848753,
          -1.0122114911324804,
          -1.0029538454864502,
          -0.9932546362467819,
          -0.9831181336176386,
          -0.9725488003273385,
          -0.9615512896635791,
          -0.9501304434247655,
          -0.9382912897883462,
          -0.9260390410970916,
          -0.9133790915642914,
          -0.9003170148988809,
          -0.8868585618515443,
          -0.8730096576828699,
          -0.8587763995546763
         ]
        },
        {
         "hoverinfo": "text",
         "line": {
          "color": "#c6decd",
          "shape": "spline",
          "width": 0.25
         },
         "mode": "lines",
         "text": "Python<br>1664",
         "type": "scatter",
         "uid": "580e7533-904b-483d-93b4-073cd07e2bd3",
         "x": [
          0.7140242397400958,
          0.7317529921465664,
          0.7491471423261855,
          0.7661987366095513,
          0.7828999779647678,
          0.7992432295627308,
          0.8152210182691473,
          0.830826038061715,
          0.8460511533708774,
          0.860889402342648,
          0.8753340000219905,
          0.88937834145532,
          0.9030160047106877,
          0.9162407538142846,
          0.9290465416019066,
          0.9414275124840921,
          0.9533780051236503,
          0.964892555024377,
          0.9759658970297507,
          0.9865929677304878
         ],
         "y": [
          -0.8367612473481182,
          -0.8213023550949718,
          -0.8054679131688054,
          -0.7892651620450047,
          -0.7727015106124526,
          -0.7557845327857247,
          -0.7385219640418387,
          -0.7209216978831156,
          -0.7029917822277927,
          -0.6847404157300184,
          -0.666175944030931,
          -0.6473068559425155,
          -0.6281417795660049,
          -0.6086894783465802,
          -0.588958847066191,
          -0.568958907776313,
          -0.5486988056725193,
          -0.5281878049127318,
          -0.5074352843810866,
          -0.48645073339933304
         ]
        },
        {
         "hoverinfo": "text",
         "line": {
          "color": "#b8d7c5",
          "shape": "spline",
          "width": 0.25
         },
         "mode": "lines",
         "text": "VBA<br>653",
         "type": "scatter",
         "uid": "af8cec23-c8c1-4081-ab69-77cc0f45249b",
         "x": [
          1.0013859304475041,
          1.0167393894101384,
          1.030841146811593,
          1.0436738420657243,
          1.0552216769209346
         ],
         "y": [
          -0.45522106530979706,
          -0.41981068831307616,
          -0.38388348497970054,
          -0.34748368506704,
          -0.3106561001431819
         ]
        },
        {
         "hoverinfo": "text",
         "line": {
          "color": "#aad0bc",
          "shape": "spline",
          "width": 0.25
         },
         "mode": "lines",
         "text": "Linux<br>558",
         "type": "scatter",
         "uid": "352ba9c3-3c2c-45d8-86d7-cde823d73031",
         "x": [
          1.064458932640351,
          1.0720144945070889,
          1.0786783922516823,
          1.0844450830773105,
          1.089309770452453
         ],
         "y": [
          -0.27735749624296213,
          -0.24654598671791614,
          -0.2155294088734198,
          -0.18433356121294225,
          -0.15298439135030903
         ]
        },
        {
         "hoverinfo": "text",
         "line": {
          "color": "#9cc9b4",
          "shape": "spline",
          "width": 0.25
         },
         "mode": "lines",
         "text": "AWS<br>411",
         "type": "scatter",
         "uid": "95914097-f01a-49c0-b02b-d4a7415b2329",
         "x": [
          1.0935776176971344,
          1.0956523068597166,
          1.0973241880815572,
          1.0985926467086944,
          1.0994572164023046
         ],
         "y": [
          -0.11869285602705931,
          -0.09770374851039196,
          -0.07667872098014666,
          -0.055625503122090914,
          -0.03455183498594413
         ]
        },
        {
         "hoverinfo": "text",
         "marker": {
          "color": "green",
          "size": 0.5
         },
         "mode": "markers",
         "text": "Power BI appears with Excel 192 times",
         "type": "scatter",
         "uid": "9da23b10-6ec2-464f-9a34-e867997e1c34",
         "x": [
          0.8717245300976514
         ],
         "y": [
          0.22382212496987183
         ]
        },
        {
         "hoverinfo": "text",
         "marker": {
          "color": "blue",
          "size": 0.5
         },
         "mode": "markers",
         "text": "Excel appears with Power BI 192 times",
         "type": "scatter",
         "uid": "8f70fcf5-df27-4c84-a9bf-d8ff5c1ad18a",
         "x": [
          0.7657621339619618
         ],
         "y": [
          0.4728724502336994
         ]
        },
        {
         "hoverinfo": "text",
         "marker": {
          "color": "green",
          "size": 0.5
         },
         "mode": "markers",
         "text": "Power BI appears with SSIS/SSRS 116 times",
         "type": "scatter",
         "uid": "74730592-d9c3-4333-95c4-15034ac47fbe",
         "x": [
          0.8974828224080029
         ],
         "y": [
          0.0672650242144098
         ]
        },
        {
         "hoverinfo": "text",
         "marker": {
          "color": "blue",
          "size": 0.5
         },
         "mode": "markers",
         "text": "SSIS/SSRS appears with Power BI 116 times",
         "type": "scatter",
         "uid": "c22856b1-6ffd-4825-89b0-163dedb307bc",
         "x": [
          0.11829720307471972
         ],
         "y": [
          0.8921915555219622
         ]
        },
        {
         "hoverinfo": "text",
         "marker": {
          "color": "green",
          "size": 0.5
         },
         "mode": "markers",
         "text": "Power BI appears with MS SQL Server 122 times",
         "type": "scatter",
         "uid": "e0f00035-20c7-4b52-973a-7ae3cd5af3f9",
         "x": [
          0.8952402112139959
         ],
         "y": [
          0.09243897568406995
         ]
        },
        {
         "hoverinfo": "text",
         "marker": {
          "color": "blue",
          "size": 0.5
         },
         "mode": "markers",
         "text": "MS SQL Server appears with Power BI 122 times",
         "type": "scatter",
         "uid": "74e65673-19c9-4f7d-a0fd-d0e0a0efe144",
         "x": [
          -0.39716725616137905
         ],
         "y": [
          0.8076250185780784
         ]
        },
        {
         "hoverinfo": "text",
         "marker": {
          "color": "green",
          "size": 0.5
         },
         "mode": "markers",
         "text": "Power BI appears with MySQL/MariaDB 5 times",
         "type": "scatter",
         "uid": "45f97bac-04e4-4bcf-9822-da4d2c60ba3a",
         "x": [
          0.8999998433689408
         ],
         "y": [
          0.0005309763479847971
         ]
        },
        {
         "hoverinfo": "text",
         "marker": {
          "color": "blue",
          "size": 0.5
         },
         "mode": "markers",
         "text": "MySQL/MariaDB appears with Power BI 5 times",
         "type": "scatter",
         "uid": "73eafcca-ffb0-4355-949b-b205b94702ed",
         "x": [
          -0.6632469208162209
         ],
         "y": [
          0.6083613416611886
         ]
        },
        {
         "hoverinfo": "text",
         "marker": {
          "color": "green",
          "size": 0.5
         },
         "mode": "markers",
         "text": "Power BI appears with T-SQL 42 times",
         "type": "scatter",
         "uid": "7dcbd952-92ee-4368-b6cb-a8c9fd061a36",
         "x": [
          0.8993178012878101
         ],
         "y": [
          0.03503558600707009
         ]
        },
        {
         "hoverinfo": "text",
         "marker": {
          "color": "blue",
          "size": 0.5
         },
         "mode": "markers",
         "text": "T-SQL appears with Power BI 42 times",
         "type": "scatter",
         "uid": "9a3f2bb1-6267-4018-951c-4adeb17c7988",
         "x": [
          -0.7923846487916035
         ],
         "y": [
          0.42676289477812757
         ]
        },
        {
         "hoverinfo": "text",
         "marker": {
          "color": "green",
          "size": 0.5
         },
         "mode": "markers",
         "text": "Power BI appears with PL/SQL 7 times",
         "type": "scatter",
         "uid": "4d5454c9-2463-4ac9-94db-d4f8bb5df7e6",
         "x": [
          0.8999904705828954
         ],
         "y": [
          0.004141601137056899
         ]
        },
        {
         "hoverinfo": "text",
         "marker": {
          "color": "blue",
          "size": 0.5
         },
         "mode": "markers",
         "text": "PL/SQL appears with Power BI 7 times",
         "type": "scatter",
         "uid": "02c1d7f9-42b5-4679-b5c7-1de38d068b7d",
         "x": [
          -0.8673951135583052
         ],
         "y": [
          0.24005357105274408
         ]
        },
        {
         "hoverinfo": "text",
         "marker": {
          "color": "green",
          "size": 0.5
         },
         "mode": "markers",
         "text": "Power BI appears with Pentaho 8 times",
         "type": "scatter",
         "uid": "4291deb8-b28b-487f-b21f-f7f22afba614",
         "x": [
          0.8999817306145287
         ],
         "y": [
          0.005734506088404311
         ]
        },
        {
         "hoverinfo": "text",
         "marker": {
          "color": "blue",
          "size": 0.5
         },
         "mode": "markers",
         "text": "Pentaho appears with Power BI 8 times",
         "type": "scatter",
         "uid": "a7c9f43f-c916-4020-967f-7715de7c788f",
         "x": [
          -0.8847407980116347
         ],
         "y": [
          0.16502642313804095
         ]
        },
        {
         "hoverinfo": "text",
         "marker": {
          "color": "green",
          "size": 0.5
         },
         "mode": "markers",
         "text": "Power BI appears with Hadoop 21 times",
         "type": "scatter",
         "uid": "9d99a144-ca78-47b9-b4ad-069c5bacb96d",
         "x": [
          0.8999282701908533
         ],
         "y": [
          0.011362592631021769
         ]
        },
        {
         "hoverinfo": "text",
         "marker": {
          "color": "blue",
          "size": 0.5
         },
         "mode": "markers",
         "text": "Hadoop appears with Power BI 21 times",
         "type": "scatter",
         "uid": "5bbcc54b-fb62-489d-9750-70b4e3c8b12c",
         "x": [
          -0.8993383271683769
         ],
         "y": [
          0.0345046849860332
         ]
        },
        {
         "hoverinfo": "text",
         "marker": {
          "color": "green",
          "size": 0.5
         },
         "mode": "markers",
         "text": "Power BI appears with Spark 26 times",
         "type": "scatter",
         "uid": "e74ec467-0414-4c33-9b27-4362405d7490",
         "x": [
          0.8997543886031015
         ],
         "y": [
          0.021024751828716555
         ]
        },
        {
         "hoverinfo": "text",
         "marker": {
          "color": "blue",
          "size": 0.5
         },
         "mode": "markers",
         "text": "Spark appears with Power BI 26 times",
         "type": "scatter",
         "uid": "1182c228-8a90-4a4c-95f2-e64e945f8965",
         "x": [
          -0.8903469859902075
         ],
         "y": [
          -0.13146195091414645
         ]
        },
        {
         "hoverinfo": "text",
         "marker": {
          "color": "green",
          "size": 0.5
         },
         "mode": "markers",
         "text": "Power BI appears with Informatica 12 times",
         "type": "scatter",
         "uid": "8ad59916-532f-4b5c-988f-be9a0fa1ba87",
         "x": [
          0.8999656917497619
         ],
         "y": [
          0.007858350550363602
         ]
        },
        {
         "hoverinfo": "text",
         "marker": {
          "color": "blue",
          "size": 0.5
         },
         "mode": "markers",
         "text": "Informatica appears with Power BI 12 times",
         "type": "scatter",
         "uid": "d81e45fe-765e-4a87-b743-e99329ec8cc9",
         "x": [
          -0.8577020427996992
         ],
         "y": [
          -0.2726668402597262
         ]
        },
        {
         "hoverinfo": "text",
         "marker": {
          "color": "green",
          "size": 0.5
         },
         "mode": "markers",
         "text": "Power BI appears with Qlik 157 times",
         "type": "scatter",
         "uid": "c86d3d29-849d-4065-882a-0418db2b2c06",
         "x": [
          0.8870216555028355
         ],
         "y": [
          0.15229111158898623
         ]
        },
        {
         "hoverinfo": "text",
         "marker": {
          "color": "blue",
          "size": 0.5
         },
         "mode": "markers",
         "text": "Qlik appears with Power BI 157 times",
         "type": "scatter",
         "uid": "53faa5ab-4365-4cce-b90a-fb72e7d34c75",
         "x": [
          -0.7292101676628867
         ],
         "y": [
          -0.5274964752271476
         ]
        },
        {
         "hoverinfo": "text",
         "marker": {
          "color": "green",
          "size": 0.5
         },
         "mode": "markers",
         "text": "Power BI appears with Tableau 170 times",
         "type": "scatter",
         "uid": "600b508f-1012-4e38-9669-16494175362f",
         "x": [
          0.8804868764823213
         ],
         "y": [
          0.18639436778616847
         ]
        },
        {
         "hoverinfo": "text",
         "marker": {
          "color": "blue",
          "size": 0.5
         },
         "mode": "markers",
         "text": "Tableau appears with Power BI 170 times",
         "type": "scatter",
         "uid": "d780831a-9f9e-486b-ac9e-707524657f96",
         "x": [
          -0.36010143075116696
         ],
         "y": [
          -0.8248193496584343
         ]
        },
        {
         "hoverinfo": "text",
         "marker": {
          "color": "green",
          "size": 0.5
         },
         "mode": "markers",
         "text": "Power BI appears with Microstrategy 22 times",
         "type": "scatter",
         "uid": "1b0b2aa7-9c69-4820-9b29-5cf66028fb3a",
         "x": [
          0.8998590357225399
         ],
         "y": [
          0.015928459702701972
         ]
        },
        {
         "hoverinfo": "text",
         "marker": {
          "color": "blue",
          "size": 0.5
         },
         "mode": "markers",
         "text": "Microstrategy appears with Power BI 22 times",
         "type": "scatter",
         "uid": "ebb35bd3-5625-4d33-8ac4-6db56ac8e7d7",
         "x": [
          -0.056133157129206905
         ],
         "y": [
          -0.8982477768804706
         ]
        },
        {
         "hoverinfo": "text",
         "marker": {
          "color": "green",
          "size": 0.5
         },
         "mode": "markers",
         "text": "Power BI appears with Oracle BI 145 times",
         "type": "scatter",
         "uid": "f8730411-0576-45c8-a556-dc85c48b0638",
         "x": [
          0.8918841961416075
         ],
         "y": [
          0.12059262279608367
         ]
        },
        {
         "hoverinfo": "text",
         "marker": {
          "color": "blue",
          "size": 0.5
         },
         "mode": "markers",
         "text": "Oracle BI appears with Power BI 145 times",
         "type": "scatter",
         "uid": "43d9c658-f7c3-4419-a4b2-d90910b699c4",
         "x": [
          0.21185912285620795
         ],
         "y": [
          -0.8747089299090288
         ]
        },
        {
         "hoverinfo": "text",
         "marker": {
          "color": "green",
          "size": 0.5
         },
         "mode": "markers",
         "text": "Power BI appears with Python 73 times",
         "type": "scatter",
         "uid": "494ef89e-567b-459a-a14c-d4cc09597167",
         "x": [
          0.8987596103681545
         ],
         "y": [
          0.04723518572931585
         ]
        },
        {
         "hoverinfo": "text",
         "marker": {
          "color": "blue",
          "size": 0.5
         },
         "mode": "markers",
         "text": "Python appears with Power BI 73 times",
         "type": "scatter",
         "uid": "8196c780-b6ff-402c-987e-ca32d05949e1",
         "x": [
          0.6398106894932633
         ],
         "y": [
          -0.6329630965626315
         ]
        },
        {
         "hoverinfo": "text",
         "marker": {
          "color": "green",
          "size": 0.5
         },
         "mode": "markers",
         "text": "Power BI appears with VBA 32 times",
         "type": "scatter",
         "uid": "a1fe4c9c-7499-4c46-8e1f-5687307c6801",
         "x": [
          0.8995894322838223
         ],
         "y": [
          0.027181856508899187
         ]
        },
        {
         "hoverinfo": "text",
         "marker": {
          "color": "blue",
          "size": 0.5
         },
         "mode": "markers",
         "text": "VBA appears with Power BI 32 times",
         "type": "scatter",
         "uid": "13f83be4-516d-4197-b91f-21bedaacbf62",
         "x": [
          0.8281194034081293
         ],
         "y": [
          -0.352446100416736
         ]
        },
        {
         "hoverinfo": "text",
         "marker": {
          "color": "green",
          "size": 0.5
         },
         "mode": "markers",
         "text": "Power BI appears with Linux 6 times",
         "type": "scatter",
         "uid": "94c95ee9-1476-418e-8e92-e9ae5cee837c",
         "x": [
          0.8999957646993568
         ],
         "y": [
          0.0027610728385857094
         ]
        },
        {
         "hoverinfo": "text",
         "marker": {
          "color": "blue",
          "size": 0.5
         },
         "mode": "markers",
         "text": "Linux appears with Power BI 6 times",
         "type": "scatter",
         "uid": "1c473ca2-d6ad-4167-b3a8-b5149d0344f6",
         "x": [
          0.8713882539044665
         ],
         "y": [
          -0.22512776585158278
         ]
        },
        {
         "hoverinfo": "text",
         "marker": {
          "color": "green",
          "size": 0.5
         },
         "mode": "markers",
         "text": "Power BI appears with AWS 5 times",
         "type": "scatter",
         "uid": "56172bfb-a956-43ad-9dd5-ecf6ca34ea85",
         "x": [
          0.8999985903207939
         ],
         "y": [
          0.001592928304688786
         ]
        },
        {
         "hoverinfo": "text",
         "marker": {
          "color": "blue",
          "size": 0.5
         },
         "mode": "markers",
         "text": "AWS appears with Power BI 5 times",
         "type": "scatter",
         "uid": "eacf415c-88f7-4ab3-bde5-4ad9704544b3",
         "x": [
          0.8950048202001347
         ],
         "y": [
          -0.09469092785755466
         ]
        },
        {
         "hoverinfo": "text",
         "marker": {
          "color": "green",
          "size": 0.5
         },
         "mode": "markers",
         "text": "Excel appears with SSIS/SSRS 543 times",
         "type": "scatter",
         "uid": "0b385167-bfd5-4a09-8ef1-0284c6a42b54",
         "x": [
          0.44844864719401856
         ],
         "y": [
          0.7803164811984011
         ]
        },
        {
         "hoverinfo": "text",
         "marker": {
          "color": "blue",
          "size": 0.5
         },
         "mode": "markers",
         "text": "SSIS/SSRS appears with Excel 543 times",
         "type": "scatter",
         "uid": "a0c792ca-4df5-4a5c-a9c2-20ada2e89dd8",
         "x": [
          -0.15594468895628755
         ],
         "y": [
          0.8863866278246343
         ]
        },
        {
         "hoverinfo": "text",
         "marker": {
          "color": "green",
          "size": 0.5
         },
         "mode": "markers",
         "text": "Excel appears with MS SQL Server 250 times",
         "type": "scatter",
         "uid": "0190cd32-97c6-4bab-8b94-81c57d70500e",
         "x": [
          0.7068056327702233
         ],
         "y": [
          0.5571586824992357
         ]
        },
        {
         "hoverinfo": "text",
         "marker": {
          "color": "blue",
          "size": 0.5
         },
         "mode": "markers",
         "text": "MS SQL Server appears with Excel 250 times",
         "type": "scatter",
         "uid": "39677d21-48db-4008-8087-369592a80d04",
         "x": [
          -0.5390261560264293
         ],
         "y": [
          0.7207293549727052
         ]
        },
        {
         "hoverinfo": "text",
         "marker": {
          "color": "green",
          "size": 0.5
         },
         "mode": "markers",
         "text": "Excel appears with PostgreSQL 63 times",
         "type": "scatter",
         "uid": "0512c957-b6b7-45b0-b99e-404594942016",
         "x": [
          0.8409175559243873
         ],
         "y": [
          0.3207143029834417
         ]
        },
        {
         "hoverinfo": "text",
         "marker": {
          "color": "blue",
          "size": 0.5
         },
         "mode": "markers",
         "text": "PostgreSQL appears with Excel 63 times",
         "type": "scatter",
         "uid": "973a2e1b-d801-4a19-b1d2-c03c0a6fbee2",
         "x": [
          -0.6192264342997518
         ],
         "y": [
          0.6531145558509742
         ]
        },
        {
         "hoverinfo": "text",
         "marker": {
          "color": "green",
          "size": 0.5
         },
         "mode": "markers",
         "text": "Excel appears with MySQL/MariaDB 109 times",
         "type": "scatter",
         "uid": "33599d6a-c9bf-4027-a322-9108bd316645",
         "x": [
          0.8134949043796796
         ],
         "y": [
          0.3850013513590514
         ]
        },
        {
         "hoverinfo": "text",
         "marker": {
          "color": "blue",
          "size": 0.5
         },
         "mode": "markers",
         "text": "MySQL/MariaDB appears with Excel 109 times",
         "type": "scatter",
         "uid": "f59d9f4f-fa46-4a98-bbc5-ca3718cb3bda",
         "x": [
          -0.7421626835887479
         ],
         "y": [
          0.5091115310895522
         ]
        },
        {
         "hoverinfo": "text",
         "marker": {
          "color": "green",
          "size": 0.5
         },
         "mode": "markers",
         "text": "Excel appears with T-SQL 172 times",
         "type": "scatter",
         "uid": "61b85db4-6904-4193-8db0-cd4b2f66209d",
         "x": [
          0.7868501292126984
         ],
         "y": [
          0.43688313558428865
         ]
        },
        {
         "hoverinfo": "text",
         "marker": {
          "color": "blue",
          "size": 0.5
         },
         "mode": "markers",
         "text": "T-SQL appears with Excel 172 times",
         "type": "scatter",
         "uid": "cf271d39-3f93-4ba0-8969-9599a9d8b1b2",
         "x": [
          -0.8530039387478416
         ],
         "y": [
          0.2870266198119409
         ]
        },
        {
         "hoverinfo": "text",
         "marker": {
          "color": "green",
          "size": 0.5
         },
         "mode": "markers",
         "text": "Excel appears with PL/SQL 54 times",
         "type": "scatter",
         "uid": "8c347f8e-453c-4b8c-b4a7-8a1b10b24b8f",
         "x": [
          0.850362359888073
         ],
         "y": [
          0.2947606773054838
         ]
        },
        {
         "hoverinfo": "text",
         "marker": {
          "color": "blue",
          "size": 0.5
         },
         "mode": "markers",
         "text": "PL/SQL appears with Excel 54 times",
         "type": "scatter",
         "uid": "04dc4bf6-eda8-4c5e-9d81-3b15e192bb04",
         "x": [
          -0.8747157756365794
         ],
         "y": [
          0.21183085670529048
         ]
        },
        {
         "hoverinfo": "text",
         "marker": {
          "color": "green",
          "size": 0.5
         },
         "mode": "markers",
         "text": "Excel appears with Pentaho 62 times",
         "type": "scatter",
         "uid": "37b6278b-6931-4503-b47e-0db1f7edc562",
         "x": [
          0.8459157435491135
         ],
         "y": [
          0.3072890411579146
         ]
        },
        {
         "hoverinfo": "text",
         "marker": {
          "color": "blue",
          "size": 0.5
         },
         "mode": "markers",
         "text": "Pentaho appears with Excel 62 times",
         "type": "scatter",
         "uid": "8b7f9f21-eab1-41b5-86b4-5f1464c6dc28",
         "x": [
          -0.8964168870078957
         ],
         "y": [
          0.08022945024785927
         ]
        },
        {
         "hoverinfo": "text",
         "marker": {
          "color": "green",
          "size": 0.5
         },
         "mode": "markers",
         "text": "Excel appears with Hadoop 74 times",
         "type": "scatter",
         "uid": "2af109ac-713e-4d0c-a2cc-c0cd1a3cd5ce",
         "x": [
          0.829262560308173
         ],
         "y": [
          0.34974791789392234
         ]
        },
        {
         "hoverinfo": "text",
         "marker": {
          "color": "blue",
          "size": 0.5
         },
         "mode": "markers",
         "text": "Hadoop appears with Excel 74 times",
         "type": "scatter",
         "uid": "4413ef0c-bc91-4ae3-8be4-1c8843449628",
         "x": [
          -0.8999616779915219
         ],
         "y": [
          -0.00830530834372661
         ]
        },
        {
         "hoverinfo": "text",
         "marker": {
          "color": "green",
          "size": 0.5
         },
         "mode": "markers",
         "text": "Excel appears with Spark 77 times",
         "type": "scatter",
         "uid": "26e3e335-45a0-43fa-ac92-ef6ea5f232db",
         "x": [
          0.8223846619101159
         ],
         "y": [
          0.3656274987675084
         ]
        },
        {
         "hoverinfo": "text",
         "marker": {
          "color": "blue",
          "size": 0.5
         },
         "mode": "markers",
         "text": "Spark appears with Excel 77 times",
         "type": "scatter",
         "uid": "1cea5967-11eb-4738-82d6-f88803dd8a81",
         "x": [
          -0.8814587561470707
         ],
         "y": [
          -0.18174284363258703
         ]
        },
        {
         "hoverinfo": "text",
         "marker": {
          "color": "green",
          "size": 0.5
         },
         "mode": "markers",
         "text": "Excel appears with Informatica 114 times",
         "type": "scatter",
         "uid": "07022544-d918-4f49-9bc8-cb923a24aea8",
         "x": [
          0.8022356804557687
         ],
         "y": [
          0.40794351692810354
         ]
        },
        {
         "hoverinfo": "text",
         "marker": {
          "color": "blue",
          "size": 0.5
         },
         "mode": "markers",
         "text": "Informatica appears with Excel 114 times",
         "type": "scatter",
         "uid": "e2c054af-9215-41bc-b2ab-7d50806dcb81",
         "x": [
          -0.8250281979862414
         ],
         "y": [
          -0.35962268077469095
         ]
        },
        {
         "hoverinfo": "text",
         "marker": {
          "color": "green",
          "size": 0.5
         },
         "mode": "markers",
         "text": "Excel appears with Qlik 377 times",
         "type": "scatter",
         "uid": "031ca2a4-565e-4342-9bae-4954c4888ece",
         "x": [
          0.6084626388296368
         ],
         "y": [
          0.6631539920323747
         ]
        },
        {
         "hoverinfo": "text",
         "marker": {
          "color": "blue",
          "size": 0.5
         },
         "mode": "markers",
         "text": "Qlik appears with Excel 377 times",
         "type": "scatter",
         "uid": "da9b7b08-0bcb-4a8f-ab3d-50e5b833724a",
         "x": [
          -0.5950391627115814
         ],
         "y": [
          -0.675224699518242
         ]
        },
        {
         "hoverinfo": "text",
         "marker": {
          "color": "green",
          "size": 0.5
         },
         "mode": "markers",
         "text": "Excel appears with Tableau 407 times",
         "type": "scatter",
         "uid": "084e617c-9fde-47a7-95f6-0945c1e4e3e5",
         "x": [
          0.5393377063722176
         ],
         "y": [
          0.720496244601702
         ]
        },
        {
         "hoverinfo": "text",
         "marker": {
          "color": "blue",
          "size": 0.5
         },
         "mode": "markers",
         "text": "Tableau appears with Excel 407 times",
         "type": "scatter",
         "uid": "6e924105-aecf-4e22-a79b-2ab78afd2934",
         "x": [
          -0.14661691440177235
         ],
         "y": [
          -0.8879771846231768
         ]
        },
        {
         "hoverinfo": "text",
         "marker": {
          "color": "green",
          "size": 0.5
         },
         "mode": "markers",
         "text": "Excel appears with Microstrategy 36 times",
         "type": "scatter",
         "uid": "d40cacc5-52c9-4a74-b95a-695a25da435b",
         "x": [
          0.8571046216257877
         ],
         "y": [
          0.2745390092276783
         ]
        },
        {
         "hoverinfo": "text",
         "marker": {
          "color": "blue",
          "size": 0.5
         },
         "mode": "markers",
         "text": "Microstrategy appears with Excel 36 times",
         "type": "scatter",
         "uid": "4659254d-6813-4aad-af80-077e689bb4f2",
         "x": [
          -0.04314852338356015
         ],
         "y": [
          -0.8989650743659724
         ]
        },
        {
         "hoverinfo": "text",
         "marker": {
          "color": "green",
          "size": 0.5
         },
         "mode": "markers",
         "text": "Excel appears with Oracle BI 561 times",
         "type": "scatter",
         "uid": "d35c3a9d-9876-4ac6-8ad3-d4bc12f9261d",
         "x": [
          0.3346868462795398
         ],
         "y": [
          0.8354547952627094
         ]
        },
        {
         "hoverinfo": "text",
         "marker": {
          "color": "blue",
          "size": 0.5
         },
         "mode": "markers",
         "text": "Oracle BI appears with Excel 561 times",
         "type": "scatter",
         "uid": "e0bba4c9-3335-4a7e-9241-4d18ad65ed3c",
         "x": [
          0.5115264697043969
         ],
         "y": [
          -0.7405002841267225
         ]
        },
        {
         "hoverinfo": "text",
         "marker": {
          "color": "green",
          "size": 0.5
         },
         "mode": "markers",
         "text": "Excel appears with Python 318 times",
         "type": "scatter",
         "uid": "4364567f-00a1-4800-9d53-410912d81280",
         "x": [
          0.6646942890746337
         ],
         "y": [
          0.6067796157350437
         ]
        },
        {
         "hoverinfo": "text",
         "marker": {
          "color": "blue",
          "size": 0.5
         },
         "mode": "markers",
         "text": "Python appears with Excel 318 times",
         "type": "scatter",
         "uid": "599c2401-db27-4cbe-aa7d-3d4f0f30e3f8",
         "x": [
          0.7911563546148208
         ],
         "y": [
          -0.4290356891362162
         ]
        },
        {
         "hoverinfo": "text",
         "marker": {
          "color": "green",
          "size": 0.5
         },
         "mode": "markers",
         "text": "Excel appears with VBA 228 times",
         "type": "scatter",
         "uid": "6bc10c9f-c759-4538-9d58-9e8eb4c2a192",
         "x": [
          0.7393889276835537
         ],
         "y": [
          0.5131315753478485
         ]
        },
        {
         "hoverinfo": "text",
         "marker": {
          "color": "blue",
          "size": 0.5
         },
         "mode": "markers",
         "text": "VBA appears with Excel 228 times",
         "type": "scatter",
         "uid": "234aa724-4b64-4595-b52e-3071bcd62725",
         "x": [
          0.8568766368352213
         ],
         "y": [
          -0.275249757939876
         ]
        },
        {
         "hoverinfo": "text",
         "marker": {
          "color": "green",
          "size": 0.5
         },
         "mode": "markers",
         "text": "Excel appears with Linux 68 times",
         "type": "scatter",
         "uid": "44a6b52f-dc29-4fd9-bc6a-fa019610c951",
         "x": [
          0.8354508397832544
         ],
         "y": [
          0.3346967198904928
         ]
        },
        {
         "hoverinfo": "text",
         "marker": {
          "color": "blue",
          "size": 0.5
         },
         "mode": "markers",
         "text": "Linux appears with Excel 68 times",
         "type": "scatter",
         "uid": "e9e61f81-da4f-4b37-91a2-e497e0623912",
         "x": [
          0.8852503938240172
         ],
         "y": [
          -0.1622705772295848
         ]
        },
        {
         "hoverinfo": "text",
         "marker": {
          "color": "green",
          "size": 0.5
         },
         "mode": "markers",
         "text": "Excel appears with AWS 48 times",
         "type": "scatter",
         "uid": "f4002481-be53-4d72-92bf-c03ec5b5d226",
         "x": [
          0.85411904569139
         ],
         "y": [
          0.2836911274383274
         ]
        },
        {
         "hoverinfo": "text",
         "marker": {
          "color": "blue",
          "size": 0.5
         },
         "mode": "markers",
         "text": "AWS appears with Excel 48 times",
         "type": "scatter",
         "uid": "51e0d0ff-7173-4e8c-a520-2e7456d57202",
         "x": [
          0.8988207615605212
         ],
         "y": [
          -0.046056905972556836
         ]
        },
        {
         "hoverinfo": "text",
         "marker": {
          "color": "green",
          "size": 0.5
         },
         "mode": "markers",
         "text": "SSIS/SSRS appears with MS SQL Server 250 times",
         "type": "scatter",
         "uid": "d81e2c1b-d995-4f45-82a8-8223137cb958",
         "x": [
          -0.06815266069489843
         ],
         "y": [
          0.8974158539050924
         ]
        },
        {
         "hoverinfo": "text",
         "marker": {
          "color": "blue",
          "size": 0.5
         },
         "mode": "markers",
         "text": "MS SQL Server appears with SSIS/SSRS 250 times",
         "type": "scatter",
         "uid": "2f1c9657-e727-4674-8383-4693320e0ebf",
         "x": [
          -0.494108733213981
         ],
         "y": [
          0.7522343782104584
         ]
        },
        {
         "hoverinfo": "text",
         "marker": {
          "color": "green",
          "size": 0.5
         },
         "mode": "markers",
         "text": "SSIS/SSRS appears with PostgreSQL 44 times",
         "type": "scatter",
         "uid": "e237ddbe-4f44-4775-bbf7-3156d2b9b657",
         "x": [
          0.1978275489502022
         ],
         "y": [
          0.8779887589692452
         ]
        },
        {
         "hoverinfo": "text",
         "marker": {
          "color": "blue",
          "size": 0.5
         },
         "mode": "markers",
         "text": "PostgreSQL appears with SSIS/SSRS 44 times",
         "type": "scatter",
         "uid": "89653f66-097d-4300-a656-2e62b0f6f49c",
         "x": [
          -0.6123518231959998
         ],
         "y": [
          0.6595644355394967
         ]
        },
        {
         "hoverinfo": "text",
         "marker": {
          "color": "green",
          "size": 0.5
         },
         "mode": "markers",
         "text": "SSIS/SSRS appears with MySQL/MariaDB 70 times",
         "type": "scatter",
         "uid": "a6eb58b7-3822-4d5e-ac93-5f5873fb790a",
         "x": [
          0.17117089770756502
         ],
         "y": [
          0.8835725911197033
         ]
        },
        {
         "hoverinfo": "text",
         "marker": {
          "color": "blue",
          "size": 0.5
         },
         "mode": "markers",
         "text": "MySQL/MariaDB appears with SSIS/SSRS 70 times",
         "type": "scatter",
         "uid": "8fece829-eee4-436c-a312-16be20251486",
         "x": [
          -0.7125832629747223
         ],
         "y": [
          0.5497500280384693
         ]
        },
        {
         "hoverinfo": "text",
         "marker": {
          "color": "green",
          "size": 0.5
         },
         "mode": "markers",
         "text": "SSIS/SSRS appears with T-SQL 117 times",
         "type": "scatter",
         "uid": "df56dbde-88d7-48fa-ac76-79648754be40",
         "x": [
          0.09246867142603767
         ],
         "y": [
          0.8952371444509569
         ]
        },
        {
         "hoverinfo": "text",
         "marker": {
          "color": "blue",
          "size": 0.5
         },
         "mode": "markers",
         "text": "T-SQL appears with SSIS/SSRS 117 times",
         "type": "scatter",
         "uid": "7f65ccfa-46fa-43ef-8a29-fb442b47bfcd",
         "x": [
          -0.8193725234641525
         ],
         "y": [
          0.37232870933086404
         ]
        },
        {
         "hoverinfo": "text",
         "marker": {
          "color": "green",
          "size": 0.5
         },
         "mode": "markers",
         "text": "SSIS/SSRS appears with PL/SQL 33 times",
         "type": "scatter",
         "uid": "b14679bb-034b-4d7c-ae29-1d70f7dc18c1",
         "x": [
          0.21466851917000118
         ],
         "y": [
          0.8740236992652767
         ]
        },
        {
         "hoverinfo": "text",
         "marker": {
          "color": "blue",
          "size": 0.5
         },
         "mode": "markers",
         "text": "PL/SQL appears with SSIS/SSRS 33 times",
         "type": "scatter",
         "uid": "221540f9-8033-40cd-b68d-8a2b2fd1fe94",
         "x": [
          -0.8719744757938552
         ],
         "y": [
          0.22284639006282228
         ]
        },
        {
         "hoverinfo": "text",
         "marker": {
          "color": "green",
          "size": 0.5
         },
         "mode": "markers",
         "text": "SSIS/SSRS appears with Pentaho 32 times",
         "type": "scatter",
         "uid": "69d2e6ba-245d-435c-9ab7-d3c6a75e6537",
         "x": [
          0.22862432981415232
         ],
         "y": [
          0.870477406838931
         ]
        },
        {
         "hoverinfo": "text",
         "marker": {
          "color": "blue",
          "size": 0.5
         },
         "mode": "markers",
         "text": "Pentaho appears with SSIS/SSRS 32 times",
         "type": "scatter",
         "uid": "4ce693ce-9041-42da-8c58-b90944f924cd",
         "x": [
          -0.8877567220058701
         ],
         "y": [
          0.14794594463314067
         ]
        },
        {
         "hoverinfo": "text",
         "marker": {
          "color": "green",
          "size": 0.5
         },
         "mode": "markers",
         "text": "SSIS/SSRS appears with Hadoop 32 times",
         "type": "scatter",
         "uid": "66badfae-b1fc-461e-b9f2-1bedddfe7860",
         "x": [
          0.22170760930275757
         ],
         "y": [
          0.8722647166871166
         ]
        },
        {
         "hoverinfo": "text",
         "marker": {
          "color": "blue",
          "size": 0.5
         },
         "mode": "markers",
         "text": "Hadoop appears with SSIS/SSRS 32 times",
         "type": "scatter",
         "uid": "d300a39c-fede-4688-b726-b78fac81e03a",
         "x": [
          -0.8996806146467191
         ],
         "y": [
          0.02397481238511801
         ]
        },
        {
         "hoverinfo": "text",
         "marker": {
          "color": "green",
          "size": 0.5
         },
         "mode": "markers",
         "text": "SSIS/SSRS appears with Spark 39 times",
         "type": "scatter",
         "uid": "d220f3b3-90f7-44f3-96b1-69f69f426ccc",
         "x": [
          0.20685510621463413
         ],
         "y": [
          0.8759057968942393
         ]
        },
        {
         "hoverinfo": "text",
         "marker": {
          "color": "blue",
          "size": 0.5
         },
         "mode": "markers",
         "text": "Spark appears with SSIS/SSRS 39 times",
         "type": "scatter",
         "uid": "fe1fc61c-a84f-49ba-95d6-414be048429c",
         "x": [
          -0.887399329762309
         ],
         "y": [
          -0.15007474650121808
         ]
        },
        {
         "hoverinfo": "text",
         "marker": {
          "color": "green",
          "size": 0.5
         },
         "mode": "markers",
         "text": "SSIS/SSRS appears with Informatica 65 times",
         "type": "scatter",
         "uid": "bddefa65-6e78-4319-943b-83fa9194e435",
         "x": [
          0.18594039146988625
         ],
         "y": [
          0.8805828585772184
         ]
        },
        {
         "hoverinfo": "text",
         "marker": {
          "color": "blue",
          "size": 0.5
         },
         "mode": "markers",
         "text": "Informatica appears with SSIS/SSRS 65 times",
         "type": "scatter",
         "uid": "2daa1658-01cc-44d1-8fc0-701d7112856e",
         "x": [
          -0.843278169490009
         ],
         "y": [
          -0.31445497111920423
         ]
        },
        {
         "hoverinfo": "text",
         "marker": {
          "color": "green",
          "size": 0.5
         },
         "mode": "markers",
         "text": "SSIS/SSRS appears with Qlik 75 times",
         "type": "scatter",
         "uid": "71ebf42e-e567-4cd2-9af0-7626683fbab2",
         "x": [
          0.13939723311193766
         ],
         "y": [
          0.8891391406302707
         ]
        },
        {
         "hoverinfo": "text",
         "marker": {
          "color": "blue",
          "size": 0.5
         },
         "mode": "markers",
         "text": "Qlik appears with SSIS/SSRS 75 times",
         "type": "scatter",
         "uid": "df9056a6-5e36-470f-b55d-c03ae54aded1",
         "x": [
          -0.7550758166310193
         ],
         "y": [
          -0.48975556264222186
         ]
        },
        {
         "hoverinfo": "text",
         "marker": {
          "color": "green",
          "size": 0.5
         },
         "mode": "markers",
         "text": "SSIS/SSRS appears with Tableau 142 times",
         "type": "scatter",
         "uid": "8c6bbfdd-badb-4e30-b57a-7a0d3b75ef18",
         "x": [
          0.06366830883125699
         ],
         "y": [
          0.8977451456012268
         ]
        },
        {
         "hoverinfo": "text",
         "marker": {
          "color": "blue",
          "size": 0.5
         },
         "mode": "markers",
         "text": "Tableau appears with SSIS/SSRS 142 times",
         "type": "scatter",
         "uid": "bbaeb7d2-59d1-45bf-8720-442d77ac0352",
         "x": [
          -0.3917820718808235
         ],
         "y": [
          -0.810251077230243
         ]
        },
        {
         "hoverinfo": "text",
         "marker": {
          "color": "green",
          "size": 0.5
         },
         "mode": "markers",
         "text": "SSIS/SSRS appears with Microstrategy 26 times",
         "type": "scatter",
         "uid": "935c0d04-3e6c-461d-a072-3f91af159dc8",
         "x": [
          0.240693667304693
         ],
         "y": [
          0.8672177111426045
         ]
        },
        {
         "hoverinfo": "text",
         "marker": {
          "color": "blue",
          "size": 0.5
         },
         "mode": "markers",
         "text": "Microstrategy appears with SSIS/SSRS 26 times",
         "type": "scatter",
         "uid": "696f192b-45f4-4aca-a105-42eb6fb3c2c7",
         "x": [
          -0.05255224465998468
         ],
         "y": [
          -0.8984643908253667
         ]
        },
        {
         "hoverinfo": "text",
         "marker": {
          "color": "green",
          "size": 0.5
         },
         "mode": "markers",
         "text": "SSIS/SSRS appears with Oracle BI 244 times",
         "type": "scatter",
         "uid": "e54299bd-591f-4ee8-959f-51065dbd337f",
         "x": [
          -0.01307527744172813
         ],
         "y": [
          0.899905015609882
         ]
        },
        {
         "hoverinfo": "text",
         "marker": {
          "color": "blue",
          "size": 0.5
         },
         "mode": "markers",
         "text": "Oracle BI appears with SSIS/SSRS 244 times",
         "type": "scatter",
         "uid": "b5105007-99a7-4abb-8059-af1cb794018d",
         "x": [
          0.28948006868493104
         ],
         "y": [
          -0.8521744480059043
         ]
        },
        {
         "hoverinfo": "text",
         "marker": {
          "color": "green",
          "size": 0.5
         },
         "mode": "markers",
         "text": "SSIS/SSRS appears with Python 151 times",
         "type": "scatter",
         "uid": "627b4fa7-bed9-4c4e-a7e4-158df54122aa",
         "x": [
          0.03100958022529116
         ],
         "y": [
          0.8994656224304802
         ]
        },
        {
         "hoverinfo": "text",
         "marker": {
          "color": "blue",
          "size": 0.5
         },
         "mode": "markers",
         "text": "Python appears with SSIS/SSRS 151 times",
         "type": "scatter",
         "uid": "c5a0273c-4cb0-41dc-a029-d34e5300b432",
         "x": [
          0.7653076728493141
         ],
         "y": [
          -0.4736076074958756
         ]
        },
        {
         "hoverinfo": "text",
         "marker": {
          "color": "green",
          "size": 0.5
         },
         "mode": "markers",
         "text": "SSIS/SSRS appears with VBA 72 times",
         "type": "scatter",
         "uid": "460d6438-2a31-4cd0-8438-52e473b4cb4a",
         "x": [
          0.15558387271937874
         ],
         "y": [
          0.8864500316146647
         ]
        },
        {
         "hoverinfo": "text",
         "marker": {
          "color": "blue",
          "size": 0.5
         },
         "mode": "markers",
         "text": "VBA appears with SSIS/SSRS 72 times",
         "type": "scatter",
         "uid": "5ebd3107-f789-4d61-9f01-4c76082fa02d",
         "x": [
          0.8475585894109151
         ],
         "y": [
          -0.3027283229494389
         ]
        },
        {
         "hoverinfo": "text",
         "marker": {
          "color": "green",
          "size": 0.5
         },
         "mode": "markers",
         "text": "SSIS/SSRS appears with Linux 17 times",
         "type": "scatter",
         "uid": "a61934be-8b69-48af-a989-b6c367285c9f",
         "x": [
          0.24531521920989963
         ],
         "y": [
          0.8659217304260235
         ]
        },
        {
         "hoverinfo": "text",
         "marker": {
          "color": "blue",
          "size": 0.5
         },
         "mode": "markers",
         "text": "Linux appears with SSIS/SSRS 17 times",
         "type": "scatter",
         "uid": "6ac8b532-a85d-47ac-af65-272303d4ecd7",
         "x": [
          0.8732877608751749
         ],
         "y": [
          -0.21764302586029086
         ]
        },
        {
         "hoverinfo": "text",
         "marker": {
          "color": "green",
          "size": 0.5
         },
         "mode": "markers",
         "text": "SSIS/SSRS appears with AWS 27 times",
         "type": "scatter",
         "uid": "e4afce36-06a6-464e-9e2e-9945eb543639",
         "x": [
          0.23498793080135658
         ],
         "y": [
          0.8687811418174873
         ]
        },
        {
         "hoverinfo": "text",
         "marker": {
          "color": "blue",
          "size": 0.5
         },
         "mode": "markers",
         "text": "AWS appears with SSIS/SSRS 27 times",
         "type": "scatter",
         "uid": "289aa81e-3561-4b3d-9ab9-ce3645c60ba9",
         "x": [
          0.896439066149923
         ],
         "y": [
          -0.07998125205480366
         ]
        },
        {
         "hoverinfo": "text",
         "marker": {
          "color": "green",
          "size": 0.5
         },
         "mode": "markers",
         "text": "MS SQL Server appears with PostgreSQL 71 times",
         "type": "scatter",
         "uid": "d110dbc2-ea08-403f-97c6-a12b2b537b6e",
         "x": [
          -0.31980043106118067
         ],
         "y": [
          0.8412655254395506
         ]
        },
        {
         "hoverinfo": "text",
         "marker": {
          "color": "blue",
          "size": 0.5
         },
         "mode": "markers",
         "text": "PostgreSQL appears with MS SQL Server 71 times",
         "type": "scatter",
         "uid": "a23fdb17-4be2-4da5-81f1-6f0f45f9ba8a",
         "x": [
          -0.6277398637643302
         ],
         "y": [
          0.6449361700518433
         ]
        },
        {
         "hoverinfo": "text",
         "marker": {
          "color": "green",
          "size": 0.5
         },
         "mode": "markers",
         "text": "MS SQL Server appears with MySQL/MariaDB 81 times",
         "type": "scatter",
         "uid": "3a292839-aac7-40a7-a8bc-8a3411af69c1",
         "x": [
          -0.3353374347092551
         ],
         "y": [
          0.8351938726323463
         ]
        },
        {
         "hoverinfo": "text",
         "marker": {
          "color": "blue",
          "size": 0.5
         },
         "mode": "markers",
         "text": "MySQL/MariaDB appears with MS SQL Server 81 times",
         "type": "scatter",
         "uid": "70bfdda4-bddc-4afd-b151-61702ffccdec",
         "x": [
          -0.7215595830737633
         ],
         "y": [
          0.5379142757674469
         ]
        },
        {
         "hoverinfo": "text",
         "marker": {
          "color": "green",
          "size": 0.5
         },
         "mode": "markers",
         "text": "MS SQL Server appears with T-SQL 160 times",
         "type": "scatter",
         "uid": "8f58164a-9176-4a10-8845-0fc231a4239a",
         "x": [
          -0.42469897944616997
         ],
         "y": [
          0.7934927705136208
         ]
        },
        {
         "hoverinfo": "text",
         "marker": {
          "color": "blue",
          "size": 0.5
         },
         "mode": "markers",
         "text": "T-SQL appears with MS SQL Server 160 times",
         "type": "scatter",
         "uid": "b2c66242-f725-4d59-a541-f7802a839ee1",
         "x": [
          -0.8412118732819324
         ],
         "y": [
          0.3199415325485303
         ]
        },
        {
         "hoverinfo": "text",
         "marker": {
          "color": "green",
          "size": 0.5
         },
         "mode": "markers",
         "text": "MS SQL Server appears with PL/SQL 10 times",
         "type": "scatter",
         "uid": "736bac96-0e64-4d7f-8ee3-f0b7f9afff15",
         "x": [
          -0.24554191830716166
         ],
         "y": [
          0.8658574746192581
         ]
        },
        {
         "hoverinfo": "text",
         "marker": {
          "color": "blue",
          "size": 0.5
         },
         "mode": "markers",
         "text": "PL/SQL appears with MS SQL Server 10 times",
         "type": "scatter",
         "uid": "cf0480ab-b145-4906-851c-01e56a48a820",
         "x": [
          -0.8680449502595085
         ],
         "y": [
          0.23769300437532329
         ]
        },
        {
         "hoverinfo": "text",
         "marker": {
          "color": "green",
          "size": 0.5
         },
         "mode": "markers",
         "text": "MS SQL Server appears with Pentaho 44 times",
         "type": "scatter",
         "uid": "c71ebc8c-0fa4-4fce-99b9-41944f09aa75",
         "x": [
          -0.27349295477422875
         ],
         "y": [
          0.8574389795716437
         ]
        },
        {
         "hoverinfo": "text",
         "marker": {
          "color": "blue",
          "size": 0.5
         },
         "mode": "markers",
         "text": "Pentaho appears with MS SQL Server 44 times",
         "type": "scatter",
         "uid": "f7386686-fc0f-4c50-84fb-8dc5e27b3872",
         "x": [
          -0.8943219068495735
         ],
         "y": [
          0.1009372425269431
         ]
        },
        {
         "hoverinfo": "text",
         "marker": {
          "color": "green",
          "size": 0.5
         },
         "mode": "markers",
         "text": "MS SQL Server appears with Hadoop 28 times",
         "type": "scatter",
         "uid": "4beb0722-9c8c-4f09-92cc-f51db642874a",
         "x": [
          -0.258605660941957
         ],
         "y": [
          0.8620458874844039
         ]
        },
        {
         "hoverinfo": "text",
         "marker": {
          "color": "blue",
          "size": 0.5
         },
         "mode": "markers",
         "text": "Hadoop appears with MS SQL Server 28 times",
         "type": "scatter",
         "uid": "de2ce35a-a0eb-48ed-9434-781462063597",
         "x": [
          -0.8995074505209961
         ],
         "y": [
          0.029771571292388114
         ]
        },
        {
         "hoverinfo": "text",
         "marker": {
          "color": "green",
          "size": 0.5
         },
         "mode": "markers",
         "text": "MS SQL Server appears with Spark 25 times",
         "type": "scatter",
         "uid": "5edb36a4-1e2f-4692-b5c3-31a545c8b311",
         "x": [
          -0.2530290257629103
         ],
         "y": [
          0.8636992023392591
         ]
        },
        {
         "hoverinfo": "text",
         "marker": {
          "color": "blue",
          "size": 0.5
         },
         "mode": "markers",
         "text": "Spark appears with MS SQL Server 25 times",
         "type": "scatter",
         "uid": "7e1011de-3a65-47c2-bbc1-0c4ffdf212f4",
         "x": [
          -0.8910607458373547
         ],
         "y": [
          -0.12653358142318227
         ]
        },
        {
         "hoverinfo": "text",
         "marker": {
          "color": "green",
          "size": 0.5
         },
         "mode": "markers",
         "text": "MS SQL Server appears with Informatica 59 times",
         "type": "scatter",
         "uid": "45688e34-c6d1-4068-9e7c-19f734a15947",
         "x": [
          -0.2935947777151477
         ],
         "y": [
          0.8507656002086551
         ]
        },
        {
         "hoverinfo": "text",
         "marker": {
          "color": "blue",
          "size": 0.5
         },
         "mode": "markers",
         "text": "Informatica appears with MS SQL Server 59 times",
         "type": "scatter",
         "uid": "d7880613-7a6e-420d-97ee-ad71f90e1139",
         "x": [
          -0.8474482971510102
         ],
         "y": [
          -0.3030369344747486
         ]
        },
        {
         "hoverinfo": "text",
         "marker": {
          "color": "green",
          "size": 0.5
         },
         "mode": "markers",
         "text": "MS SQL Server appears with Qlik 62 times",
         "type": "scatter",
         "uid": "6ad004e7-10be-4952-814f-3f2b5830281b",
         "x": [
          -0.3061152477672356
         ],
         "y": [
          0.8463412166995082
         ]
        },
        {
         "hoverinfo": "text",
         "marker": {
          "color": "blue",
          "size": 0.5
         },
         "mode": "markers",
         "text": "Qlik appears with MS SQL Server 62 times",
         "type": "scatter",
         "uid": "459f7fd2-2353-46d9-b552-a686b3e4e70f",
         "x": [
          -0.7711070383936588
         ],
         "y": [
          -0.4641055217725388
         ]
        },
        {
         "hoverinfo": "text",
         "marker": {
          "color": "green",
          "size": 0.5
         },
         "mode": "markers",
         "text": "MS SQL Server appears with Tableau 98 times",
         "type": "scatter",
         "uid": "14b80e5d-3c22-4020-946e-f123c112d8d2",
         "x": [
          -0.3534861855583313
         ],
         "y": [
          0.8276759732041405
         ]
        },
        {
         "hoverinfo": "text",
         "marker": {
          "color": "blue",
          "size": 0.5
         },
         "mode": "markers",
         "text": "Tableau appears with MS SQL Server 98 times",
         "type": "scatter",
         "uid": "2f733b24-a8c1-45f2-80ff-83cbf499574a",
         "x": [
          -0.4397468784081428
         ],
         "y": [
          -0.7852532603754627
         ]
        },
        {
         "hoverinfo": "text",
         "marker": {
          "color": "green",
          "size": 0.5
         },
         "mode": "markers",
         "text": "MS SQL Server appears with Microstrategy 18 times",
         "type": "scatter",
         "uid": "6ebf69bd-9db1-49b6-b704-032872bc5b6f",
         "x": [
          -0.248496809523673
         ],
         "y": [
          0.8650140667391226
         ]
        },
        {
         "hoverinfo": "text",
         "marker": {
          "color": "blue",
          "size": 0.5
         },
         "mode": "markers",
         "text": "Microstrategy appears with MS SQL Server 18 times",
         "type": "scatter",
         "uid": "f04f366f-718a-45f8-8dcb-c557ad06c925",
         "x": [
          -0.06239757363709788
         ],
         "y": [
          -0.8978343626773276
         ]
        },
        {
         "hoverinfo": "text",
         "marker": {
          "color": "green",
          "size": 0.5
         },
         "mode": "markers",
         "text": "MS SQL Server appears with Oracle BI 163 times",
         "type": "scatter",
         "uid": "68611219-cbf4-42ce-901a-3503e18142aa",
         "x": [
          -0.4556146629698835
         ],
         "y": [
          0.7761541592279458
         ]
        },
        {
         "hoverinfo": "text",
         "marker": {
          "color": "blue",
          "size": 0.5
         },
         "mode": "markers",
         "text": "Oracle BI appears with MS SQL Server 163 times",
         "type": "scatter",
         "uid": "187e44e4-b081-47ee-9eab-f988c7333590",
         "x": [
          0.24554230753803938
         ],
         "y": [
          -0.8658573642401473
         ]
        },
        {
         "hoverinfo": "text",
         "marker": {
          "color": "green",
          "size": 0.5
         },
         "mode": "markers",
         "text": "MS SQL Server appears with Python 109 times",
         "type": "scatter",
         "uid": "41038921-3d27-4ea7-b330-315b157aee4f",
         "x": [
          -0.37426330846142053
         ],
         "y": [
          0.8184906694272767
         ]
        },
        {
         "hoverinfo": "text",
         "marker": {
          "color": "blue",
          "size": 0.5
         },
         "mode": "markers",
         "text": "Python appears with MS SQL Server 109 times",
         "type": "scatter",
         "uid": "ed0902f0-80c9-40d8-98cb-c873b810c81c",
         "x": [
          0.6786778585660688
         ],
         "y": [
          -0.5910975928661656
         ]
        },
        {
         "hoverinfo": "text",
         "marker": {
          "color": "green",
          "size": 0.5
         },
         "mode": "markers",
         "text": "MS SQL Server appears with VBA 35 times",
         "type": "scatter",
         "uid": "b990be76-3bdc-455a-978a-8b3479b71e00",
         "x": [
          -0.26522042159753145
         ],
         "y": [
          0.8600337946660165
         ]
        },
        {
         "hoverinfo": "text",
         "marker": {
          "color": "blue",
          "size": 0.5
         },
         "mode": "markers",
         "text": "VBA appears with MS SQL Server 35 times",
         "type": "scatter",
         "uid": "2c9eeef0-a92a-4a47-8695-4644fb397455",
         "x": [
          0.8306356835839702
         ],
         "y": [
          -0.3464741854121177
         ]
        },
        {
         "hoverinfo": "text",
         "marker": {
          "color": "green",
          "size": 0.5
         },
         "mode": "markers",
         "text": "MS SQL Server appears with Linux 45 times",
         "type": "scatter",
         "uid": "71f320ed-ee3a-4f78-8c50-9e429619fd1f",
         "x": [
          -0.2827822028970337
         ],
         "y": [
          0.854420403387408
         ]
        },
        {
         "hoverinfo": "text",
         "marker": {
          "color": "blue",
          "size": 0.5
         },
         "mode": "markers",
         "text": "Linux appears with MS SQL Server 45 times",
         "type": "scatter",
         "uid": "965e3327-9737-4639-9126-a5ea3689d01e",
         "x": [
          0.8810095580941414
         ],
         "y": [
          -0.18390801653752284
         ]
        },
        {
         "hoverinfo": "text",
         "marker": {
          "color": "green",
          "size": 0.5
         },
         "mode": "markers",
         "text": "MS SQL Server appears with AWS 9 times",
         "type": "scatter",
         "uid": "1b0443d1-1bf1-420a-a146-ac2f270b2199",
         "x": [
          -0.24353518124152093
         ],
         "y": [
          0.8664240390811301
         ]
        },
        {
         "hoverinfo": "text",
         "marker": {
          "color": "blue",
          "size": 0.5
         },
         "mode": "markers",
         "text": "AWS appears with MS SQL Server 9 times",
         "type": "scatter",
         "uid": "d7fb4bbf-8df6-418a-a8b0-076471fad692",
         "x": [
          0.89526636918855
         ],
         "y": [
          -0.09218529275297031
         ]
        },
        {
         "hoverinfo": "text",
         "marker": {
          "color": "green",
          "size": 0.5
         },
         "mode": "markers",
         "text": "PostgreSQL appears with MySQL/MariaDB 85 times",
         "type": "scatter",
         "uid": "670265ec-0886-46e1-84f4-5fcdc37e2f57",
         "x": [
          -0.6375148606974714
         ],
         "y": [
          0.6352753752428026
         ]
        },
        {
         "hoverinfo": "text",
         "marker": {
          "color": "blue",
          "size": 0.5
         },
         "mode": "markers",
         "text": "MySQL/MariaDB appears with PostgreSQL 85 times",
         "type": "scatter",
         "uid": "036dee43-db53-45fb-af3e-6d82f7326f6d",
         "x": [
          -0.7312006726683878
         ],
         "y": [
          0.5247338146996982
         ]
        },
        {
         "hoverinfo": "text",
         "marker": {
          "color": "green",
          "size": 0.5
         },
         "mode": "markers",
         "text": "PostgreSQL appears with T-SQL 31 times",
         "type": "scatter",
         "uid": "b6d50259-dc1d-44ee-80a4-bb4ebf926559",
         "x": [
          -0.591593589442504
         ],
         "y": [
          0.6782455491417058
         ]
        },
        {
         "hoverinfo": "text",
         "marker": {
          "color": "blue",
          "size": 0.5
         },
         "mode": "markers",
         "text": "T-SQL appears with PostgreSQL 31 times",
         "type": "scatter",
         "uid": "255900aa-a9c5-4ec6-ac48-7b87ae51c745",
         "x": [
          -0.7776077442768843
         ],
         "y": [
          0.45312933698957936
         ]
        },
        {
         "hoverinfo": "text",
         "marker": {
          "color": "green",
          "size": 0.5
         },
         "mode": "markers",
         "text": "PostgreSQL appears with Pentaho 43 times",
         "type": "scatter",
         "uid": "feafef73-a6e9-48a6-9343-ea6f98fa01b0",
         "x": [
          -0.6067126345520971
         ],
         "y": [
          0.6647554280145844
         ]
        },
        {
         "hoverinfo": "text",
         "marker": {
          "color": "blue",
          "size": 0.5
         },
         "mode": "markers",
         "text": "Pentaho appears with PostgreSQL 43 times",
         "type": "scatter",
         "uid": "812c4607-0c4d-41a0-83e6-6a1611a18cd0",
         "x": [
          -0.8933963623496949
         ],
         "y": [
          0.10882527160697918
         ]
        },
        {
         "hoverinfo": "text",
         "marker": {
          "color": "green",
          "size": 0.5
         },
         "mode": "markers",
         "text": "PostgreSQL appears with Hadoop 3 times",
         "type": "scatter",
         "uid": "ba75cd0d-483e-42ca-b3bf-9f0fc4ba1b6b",
         "x": [
          -0.5827806423358451
         ],
         "y": [
          0.6858328680652596
         ]
        },
        {
         "hoverinfo": "text",
         "marker": {
          "color": "blue",
          "size": 0.5
         },
         "mode": "markers",
         "text": "Hadoop appears with PostgreSQL 3 times",
         "type": "scatter",
         "uid": "28d5b81f-d566-478c-965d-fbc250dda9b8",
         "x": [
          -0.8988484925750911
         ],
         "y": [
          0.045512497135251906
         ]
        },
        {
         "hoverinfo": "text",
         "marker": {
          "color": "green",
          "size": 0.5
         },
         "mode": "markers",
         "text": "PostgreSQL appears with Spark 6 times",
         "type": "scatter",
         "uid": "ba09c022-56b6-47d2-abc0-983f8fcb101d",
         "x": [
          -0.5833846326925451
         ],
         "y": [
          0.6853191740628481
         ]
        },
        {
         "hoverinfo": "text",
         "marker": {
          "color": "blue",
          "size": 0.5
         },
         "mode": "markers",
         "text": "Spark appears with PostgreSQL 6 times",
         "type": "scatter",
         "uid": "b487b2bf-c569-4515-9625-f7ebff573716",
         "x": [
          -0.8934207639724744
         ],
         "y": [
          -0.10862476008185382
         ]
        },
        {
         "hoverinfo": "text",
         "marker": {
          "color": "green",
          "size": 0.5
         },
         "mode": "markers",
         "text": "PostgreSQL appears with Qlik 14 times",
         "type": "scatter",
         "uid": "7e348485-16da-40c5-be57-af84285b1d52",
         "x": [
          -0.585528483632222
         ],
         "y": [
          0.6834884014051378
         ]
        },
        {
         "hoverinfo": "text",
         "marker": {
          "color": "blue",
          "size": 0.5
         },
         "mode": "markers",
         "text": "Qlik appears with PostgreSQL 14 times",
         "type": "scatter",
         "uid": "44fd21a6-4634-4887-91ed-8eced67449bc",
         "x": [
          -0.7953503794728851
         ],
         "y": [
          -0.42120989289466804
         ]
        },
        {
         "hoverinfo": "text",
         "marker": {
          "color": "green",
          "size": 0.5
         },
         "mode": "markers",
         "text": "PostgreSQL appears with Tableau 6 times",
         "type": "scatter",
         "uid": "f409ad63-a991-4e41-a257-c607cb3fc543",
         "x": [
          -0.5841892487360688
         ],
         "y": [
          0.6846334213732101
         ]
        },
        {
         "hoverinfo": "text",
         "marker": {
          "color": "blue",
          "size": 0.5
         },
         "mode": "markers",
         "text": "Tableau appears with PostgreSQL 6 times",
         "type": "scatter",
         "uid": "5fe26f17-5f23-4902-b5c0-d5d22c964b7e",
         "x": [
          -0.5404449069998085
         ],
         "y": [
          -0.7196661048694515
         ]
        },
        {
         "hoverinfo": "text",
         "marker": {
          "color": "green",
          "size": 0.5
         },
         "mode": "markers",
         "text": "PostgreSQL appears with Oracle BI 42 times",
         "type": "scatter",
         "uid": "7399ad3e-9c2c-43c3-bb93-cf299dfbae08",
         "x": [
          -0.6011605820697885
         ],
         "y": [
          0.6697805271620795
         ]
        },
        {
         "hoverinfo": "text",
         "marker": {
          "color": "blue",
          "size": 0.5
         },
         "mode": "markers",
         "text": "Oracle BI appears with PostgreSQL 42 times",
         "type": "scatter",
         "uid": "77b049e3-8c44-48f6-a590-638c2cb3ff6e",
         "x": [
          0.03168594046937549
         ],
         "y": [
          -0.8994420499268261
         ]
        },
        {
         "hoverinfo": "text",
         "marker": {
          "color": "green",
          "size": 0.5
         },
         "mode": "markers",
         "text": "PostgreSQL appears with Python 23 times",
         "type": "scatter",
         "uid": "97bde8c3-da9e-472f-b5e2-1186bfd9185e",
         "x": [
          -0.5880001479534646
         ],
         "y": [
          0.6813632115154911
         ]
        },
        {
         "hoverinfo": "text",
         "marker": {
          "color": "blue",
          "size": 0.5
         },
         "mode": "markers",
         "text": "Python appears with PostgreSQL 23 times",
         "type": "scatter",
         "uid": "5722adf5-8bd6-42b2-b386-323ec8e9216f",
         "x": [
          0.5894499772229884
         ],
         "y": [
          -0.6801093473492468
         ]
        },
        {
         "hoverinfo": "text",
         "marker": {
          "color": "green",
          "size": 0.5
         },
         "mode": "markers",
         "text": "PostgreSQL appears with Linux 36 times",
         "type": "scatter",
         "uid": "d3088dea-f72f-4dc0-b5cb-342a811f171d",
         "x": [
          -0.5960291293220349
         ],
         "y": [
          0.6743510042994056
         ]
        },
        {
         "hoverinfo": "text",
         "marker": {
          "color": "blue",
          "size": 0.5
         },
         "mode": "markers",
         "text": "Linux appears with PostgreSQL 36 times",
         "type": "scatter",
         "uid": "44d0d338-7c9e-4679-b95a-2591bb17dc2c",
         "x": [
          0.8778678945454627
         ],
         "y": [
          -0.1983632015428172
         ]
        },
        {
         "hoverinfo": "text",
         "marker": {
          "color": "green",
          "size": 0.5
         },
         "mode": "markers",
         "text": "MySQL/MariaDB appears with T-SQL 37 times",
         "type": "scatter",
         "uid": "98e4789c-566e-4716-a90f-6080f402f2f5",
         "x": [
          -0.672870752456835
         ],
         "y": [
          0.5976997159846847
         ]
        },
        {
         "hoverinfo": "text",
         "marker": {
          "color": "blue",
          "size": 0.5
         },
         "mode": "markers",
         "text": "T-SQL appears with MySQL/MariaDB 37 times",
         "type": "scatter",
         "uid": "6c5d40cb-50a5-4468-b585-1a8260e98c75",
         "x": [
          -0.7846172491802718
         ],
         "y": [
          0.44088067806242476
         ]
        },
        {
         "hoverinfo": "text",
         "marker": {
          "color": "green",
          "size": 0.5
         },
         "mode": "markers",
         "text": "MySQL/MariaDB appears with Pentaho 61 times",
         "type": "scatter",
         "uid": "f8f2e086-0cb7-45ab-8f8d-00aaf3cb22ad",
         "x": [
          -0.6964869877511386
         ],
         "y": [
          0.5700051542691044
         ]
        },
        {
         "hoverinfo": "text",
         "marker": {
          "color": "blue",
          "size": 0.5
         },
         "mode": "markers",
         "text": "Pentaho appears with MySQL/MariaDB 61 times",
         "type": "scatter",
         "uid": "84703569-b155-4373-b9d5-14e36c5682e3",
         "x": [
          -0.8953461887254021
         ],
         "y": [
          0.0914067958901137
         ]
        },
        {
         "hoverinfo": "text",
         "marker": {
          "color": "green",
          "size": 0.5
         },
         "mode": "markers",
         "text": "MySQL/MariaDB appears with Hadoop 5 times",
         "type": "scatter",
         "uid": "4ba311c4-0b01-4b62-bd52-600e4e8a3016",
         "x": [
          -0.6639115039564476
         ],
         "y": [
          0.6076360052813591
         ]
        },
        {
         "hoverinfo": "text",
         "marker": {
          "color": "blue",
          "size": 0.5
         },
         "mode": "markers",
         "text": "Hadoop appears with MySQL/MariaDB 5 times",
         "type": "scatter",
         "uid": "204d2996-16f4-4170-8d4e-5b7cc7fd3f70",
         "x": [
          -0.8989159062686213
         ],
         "y": [
          0.04416099474947806
         ]
        },
        {
         "hoverinfo": "text",
         "marker": {
          "color": "green",
          "size": 0.5
         },
         "mode": "markers",
         "text": "MySQL/MariaDB appears with Spark 22 times",
         "type": "scatter",
         "uid": "72f7de09-4329-4f5d-8eec-318b7eb7c7c9",
         "x": [
          -0.66900216540727
         ],
         "y": [
          0.6020266627653496
         ]
        },
        {
         "hoverinfo": "text",
         "marker": {
          "color": "blue",
          "size": 0.5
         },
         "mode": "markers",
         "text": "Spark appears with MySQL/MariaDB 22 times",
         "type": "scatter",
         "uid": "22d7b6e8-99ad-4e4c-bf9e-87bf7c30c66f",
         "x": [
          -0.8916943705468884
         ],
         "y": [
          -0.12198831720697086
         ]
        },
        {
         "hoverinfo": "text",
         "marker": {
          "color": "green",
          "size": 0.5
         },
         "mode": "markers",
         "text": "MySQL/MariaDB appears with Informatica 8 times",
         "type": "scatter",
         "uid": "113cb960-1eb4-4e25-b212-7d9a95ee994a",
         "x": [
          -0.664774276029534
         ],
         "y": [
          0.6066919827469364
         ]
        },
        {
         "hoverinfo": "text",
         "marker": {
          "color": "blue",
          "size": 0.5
         },
         "mode": "markers",
         "text": "Informatica appears with MySQL/MariaDB 8 times",
         "type": "scatter",
         "uid": "84b8ab37-0265-4ca4-9e53-b6c593281d2c",
         "x": [
          -0.8593492600084591
         ],
         "y": [
          -0.2674300830552046
         ]
        },
        {
         "hoverinfo": "text",
         "marker": {
          "color": "green",
          "size": 0.5
         },
         "mode": "markers",
         "text": "MySQL/MariaDB appears with Qlik 17 times",
         "type": "scatter",
         "uid": "c08acc54-3d74-4117-bb0c-37e9db6a4a9c",
         "x": [
          -0.6664296788127633
         ],
         "y": [
          0.60487311330354
         ]
        },
        {
         "hoverinfo": "text",
         "marker": {
          "color": "blue",
          "size": 0.5
         },
         "mode": "markers",
         "text": "Qlik appears with MySQL/MariaDB 17 times",
         "type": "scatter",
         "uid": "f831915e-b8b9-403b-85dd-aa245e436251",
         "x": [
          -0.7906166277066787
         ],
         "y": [
          -0.43002947340120645
         ]
        },
        {
         "hoverinfo": "text",
         "marker": {
          "color": "green",
          "size": 0.5
         },
         "mode": "markers",
         "text": "MySQL/MariaDB appears with Tableau 45 times",
         "type": "scatter",
         "uid": "70c5c1af-a5a0-4528-8d05-bde8cca4100b",
         "x": [
          -0.6832205276097535
         ],
         "y": [
          0.5858410284818314
         ]
        },
        {
         "hoverinfo": "text",
         "marker": {
          "color": "blue",
          "size": 0.5
         },
         "mode": "markers",
         "text": "Tableau appears with MySQL/MariaDB 45 times",
         "type": "scatter",
         "uid": "8fd2d1ec-3874-48d1-afd9-dbcaebc90c47",
         "x": [
          -0.5043212241687521
         ],
         "y": [
          -0.7454261216599076
         ]
        },
        {
         "hoverinfo": "text",
         "marker": {
          "color": "green",
          "size": 0.5
         },
         "mode": "markers",
         "text": "MySQL/MariaDB appears with Oracle BI 66 times",
         "type": "scatter",
         "uid": "7fb18299-8d90-49dc-b50a-602fdb700f72",
         "x": [
          -0.7043324062689617
         ],
         "y": [
          0.5602819482005239
         ]
        },
        {
         "hoverinfo": "text",
         "marker": {
          "color": "blue",
          "size": 0.5
         },
         "mode": "markers",
         "text": "Oracle BI appears with MySQL/MariaDB 66 times",
         "type": "scatter",
         "uid": "0e5a7888-c660-4b5d-9f95-1fee3e42c85c",
         "x": [
          0.06668647004959682
         ],
         "y": [
          -0.8975259966777143
         ]
        },
        {
         "hoverinfo": "text",
         "marker": {
          "color": "green",
          "size": 0.5
         },
         "mode": "markers",
         "text": "MySQL/MariaDB appears with Python 52 times",
         "type": "scatter",
         "uid": "3af27c5a-f697-4645-97c4-89c321c2f270",
         "x": [
          -0.6893935322913478
         ],
         "y": [
          0.5785642208388438
         ]
        },
        {
         "hoverinfo": "text",
         "marker": {
          "color": "blue",
          "size": 0.5
         },
         "mode": "markers",
         "text": "Python appears with MySQL/MariaDB 52 times",
         "type": "scatter",
         "uid": "ab9a8441-e302-4320-aed0-c89754250002",
         "x": [
          0.6205949509527428
         ],
         "y": [
          -0.6518143193057075
         ]
        },
        {
         "hoverinfo": "text",
         "marker": {
          "color": "green",
          "size": 0.5
         },
         "mode": "markers",
         "text": "MySQL/MariaDB appears with VBA 5 times",
         "type": "scatter",
         "uid": "db3601ba-e280-4f97-8a86-5c846c79c891",
         "x": [
          -0.6625815452321645
         ],
         "y": [
          0.6090859511741813
         ]
        },
        {
         "hoverinfo": "text",
         "marker": {
          "color": "blue",
          "size": 0.5
         },
         "mode": "markers",
         "text": "VBA appears with MySQL/MariaDB 5 times",
         "type": "scatter",
         "uid": "dac79ded-f57f-45a2-ad83-bd04b5852e30",
         "x": [
          0.8203134866987334
         ],
         "y": [
          -0.3702509737194044
         ]
        },
        {
         "hoverinfo": "text",
         "marker": {
          "color": "green",
          "size": 0.5
         },
         "mode": "markers",
         "text": "MySQL/MariaDB appears with Linux 39 times",
         "type": "scatter",
         "uid": "0abf4969-2b2d-41ff-a405-e68c49060159",
         "x": [
          -0.6778127523894961
         ],
         "y": [
          0.5920894127563636
         ]
        },
        {
         "hoverinfo": "text",
         "marker": {
          "color": "blue",
          "size": 0.5
         },
         "mode": "markers",
         "text": "Linux appears with MySQL/MariaDB 39 times",
         "type": "scatter",
         "uid": "c8fff780-ba0f-4612-bdae-a1dcab78f810",
         "x": [
          0.8793794143358953
         ],
         "y": [
          -0.19155115672388365
         ]
        },
        {
         "hoverinfo": "text",
         "marker": {
          "color": "green",
          "size": 0.5
         },
         "mode": "markers",
         "text": "T-SQL appears with PL/SQL 33 times",
         "type": "scatter",
         "uid": "100bc342-a4e6-4c7d-830f-af2304262995",
         "x": [
          -0.7809795263746452
         ],
         "y": [
          0.4472929458236904
         ]
        },
        {
         "hoverinfo": "text",
         "marker": {
          "color": "blue",
          "size": 0.5
         },
         "mode": "markers",
         "text": "PL/SQL appears with T-SQL 33 times",
         "type": "scatter",
         "uid": "fd3217c6-2603-4f17-bd3d-e6026699d76f",
         "x": [
          -0.8731740361320994
         ],
         "y": [
          0.21809883682582792
         ]
        },
        {
         "hoverinfo": "text",
         "marker": {
          "color": "green",
          "size": 0.5
         },
         "mode": "markers",
         "text": "T-SQL appears with Pentaho 37 times",
         "type": "scatter",
         "uid": "5069346a-0fc7-48ba-bba4-76a03cd73d99",
         "x": [
          -0.7884055912551777
         ],
         "y": [
          0.43406983732755916
         ]
        },
        {
         "hoverinfo": "text",
         "marker": {
          "color": "blue",
          "size": 0.5
         },
         "mode": "markers",
         "text": "Pentaho appears with T-SQL 37 times",
         "type": "scatter",
         "uid": "4d1c1da5-f8b2-40f0-90b2-f960ffc3a7a2",
         "x": [
          -0.8915625968626142
         ],
         "y": [
          0.12294769569045082
         ]
        },
        {
         "hoverinfo": "text",
         "marker": {
          "color": "green",
          "size": 0.5
         },
         "mode": "markers",
         "text": "T-SQL appears with Hadoop 16 times",
         "type": "scatter",
         "uid": "75a23342-91b3-45fc-b102-1df78efa2c4c",
         "x": [
          -0.7678364567550331
         ],
         "y": [
          0.46949672595011377
         ]
        },
        {
         "hoverinfo": "text",
         "marker": {
          "color": "blue",
          "size": 0.5
         },
         "mode": "markers",
         "text": "Hadoop appears with T-SQL 16 times",
         "type": "scatter",
         "uid": "6db76724-8131-41b0-a4a3-87af6c7c29c2",
         "x": [
          -0.8991941184543425
         ],
         "y": [
          0.038078042716478036
         ]
        },
        {
         "hoverinfo": "text",
         "marker": {
          "color": "green",
          "size": 0.5
         },
         "mode": "markers",
         "text": "T-SQL appears with Spark 17 times",
         "type": "scatter",
         "uid": "1743a7f7-0a70-429b-82ad-3235441ac944",
         "x": [
          -0.7696437686641119
         ],
         "y": [
          0.46652810135778844
         ]
        },
        {
         "hoverinfo": "text",
         "marker": {
          "color": "blue",
          "size": 0.5
         },
         "mode": "markers",
         "text": "Spark appears with T-SQL 17 times",
         "type": "scatter",
         "uid": "99e55953-9005-4c42-a021-78afd815afef",
         "x": [
          -0.8922025436057662
         ],
         "y": [
          -0.11821430194101293
         ]
        },
        {
         "hoverinfo": "text",
         "marker": {
          "color": "green",
          "size": 0.5
         },
         "mode": "markers",
         "text": "T-SQL appears with Informatica 12 times",
         "type": "scatter",
         "uid": "e1da983e-5b5a-466a-912a-7e23f1e854b4",
         "x": [
          -0.7662939994854203
         ],
         "y": [
          0.4720100701813878
         ]
        },
        {
         "hoverinfo": "text",
         "marker": {
          "color": "blue",
          "size": 0.5
         },
         "mode": "markers",
         "text": "Informatica appears with T-SQL 12 times",
         "type": "scatter",
         "uid": "b388485c-a6af-4512-a368-654d56e79cd7",
         "x": [
          -0.8569863200462174
         ],
         "y": [
          -0.2749080705502155
         ]
        },
        {
         "hoverinfo": "text",
         "marker": {
          "color": "green",
          "size": 0.5
         },
         "mode": "markers",
         "text": "T-SQL appears with Qlik 69 times",
         "type": "scatter",
         "uid": "b5a40e89-b62e-4485-9121-80e2ae028f21",
         "x": [
          -0.8023933622712142
         ],
         "y": [
          0.40763328149587597
         ]
        },
        {
         "hoverinfo": "text",
         "marker": {
          "color": "blue",
          "size": 0.5
         },
         "mode": "markers",
         "text": "Qlik appears with T-SQL 69 times",
         "type": "scatter",
         "uid": "cb36ab65-0022-46b1-bba8-c0f9620ddd0c",
         "x": [
          -0.763577889554031
         ],
         "y": [
          -0.47639144260178734
         ]
        },
        {
         "hoverinfo": "text",
         "marker": {
          "color": "green",
          "size": 0.5
         },
         "mode": "markers",
         "text": "T-SQL appears with Tableau 93 times",
         "type": "scatter",
         "uid": "4048ade7-58fc-428a-8799-eb8d66103377",
         "x": [
          -0.8099763447967369
         ],
         "y": [
          0.39234974304785475
         ]
        },
        {
         "hoverinfo": "text",
         "marker": {
          "color": "blue",
          "size": 0.5
         },
         "mode": "markers",
         "text": "Tableau appears with T-SQL 93 times",
         "type": "scatter",
         "uid": "32ef3ab9-3d68-4e8f-aeab-93fbacebf6d8",
         "x": [
          -0.45824751912163436
         ],
         "y": [
          -0.7746026150348754
         ]
        },
        {
         "hoverinfo": "text",
         "marker": {
          "color": "green",
          "size": 0.5
         },
         "mode": "markers",
         "text": "T-SQL appears with Microstrategy 11 times",
         "type": "scatter",
         "uid": "5ce74155-4d32-4c9a-82a4-4404d7f41aae",
         "x": [
          -0.7650208258759228
         ],
         "y": [
          0.4740708132506379
         ]
        },
        {
         "hoverinfo": "text",
         "marker": {
          "color": "blue",
          "size": 0.5
         },
         "mode": "markers",
         "text": "Microstrategy appears with T-SQL 11 times",
         "type": "scatter",
         "uid": "bac85135-05d8-48e4-be36-993f071c5989",
         "x": [
          -0.06903155280875786
         ],
         "y": [
          -0.8973486751072917
         ]
        },
        {
         "hoverinfo": "text",
         "marker": {
          "color": "green",
          "size": 0.5
         },
         "mode": "markers",
         "text": "T-SQL appears with Oracle BI 131 times",
         "type": "scatter",
         "uid": "573bd52d-91c5-4943-96b5-00e8e9925aec",
         "x": [
          -0.8298313503223103
         ],
         "y": [
          0.348396225614244
         ]
        },
        {
         "hoverinfo": "text",
         "marker": {
          "color": "blue",
          "size": 0.5
         },
         "mode": "markers",
         "text": "Oracle BI appears with T-SQL 131 times",
         "type": "scatter",
         "uid": "18039a02-812d-49e5-be1f-5ba5ddc26438",
         "x": [
          0.1491707026917743
         ],
         "y": [
          -0.8875517457920087
         ]
        },
        {
         "hoverinfo": "text",
         "marker": {
          "color": "green",
          "size": 0.5
         },
         "mode": "markers",
         "text": "T-SQL appears with Python 47 times",
         "type": "scatter",
         "uid": "cc428a9d-1857-4745-b930-3d72e19d5969",
         "x": [
          -0.796786248130439
         ],
         "y": [
          0.41848736515003476
         ]
        },
        {
         "hoverinfo": "text",
         "marker": {
          "color": "blue",
          "size": 0.5
         },
         "mode": "markers",
         "text": "Python appears with T-SQL 47 times",
         "type": "scatter",
         "uid": "339a27ce-4f67-425b-abea-99847f064938",
         "x": [
          0.6049031545326271
         ],
         "y": [
          -0.6664024111874721
         ]
        },
        {
         "hoverinfo": "text",
         "marker": {
          "color": "green",
          "size": 0.5
         },
         "mode": "markers",
         "text": "T-SQL appears with VBA 26 times",
         "type": "scatter",
         "uid": "0004721f-74f1-4ccc-848e-0a66b2cafeef",
         "x": [
          -0.7745680242577291
         ],
         "y": [
          0.45830598490253
         ]
        },
        {
         "hoverinfo": "text",
         "marker": {
          "color": "blue",
          "size": 0.5
         },
         "mode": "markers",
         "text": "VBA appears with T-SQL 26 times",
         "type": "scatter",
         "uid": "9e244488-cffa-4d7b-9bf0-b86267b7317b",
         "x": [
          0.8236614178513584
         ],
         "y": [
          -0.3627421518697407
         ]
        },
        {
         "hoverinfo": "text",
         "marker": {
          "color": "green",
          "size": 0.5
         },
         "mode": "markers",
         "text": "T-SQL appears with Linux 24 times",
         "type": "scatter",
         "uid": "85f76146-f981-4b7f-959d-42d16c52d143",
         "x": [
          -0.7718732256584262
         ],
         "y": [
          0.46283012381613226
         ]
        },
        {
         "hoverinfo": "text",
         "marker": {
          "color": "blue",
          "size": 0.5
         },
         "mode": "markers",
         "text": "Linux appears with T-SQL 24 times",
         "type": "scatter",
         "uid": "e36c9e90-cde8-4fb5-a591-2992ad2118a4",
         "x": [
          0.875209797493877
         ],
         "y": [
          -0.2097803860486651
         ]
        },
        {
         "hoverinfo": "text",
         "marker": {
          "color": "green",
          "size": 0.5
         },
         "mode": "markers",
         "text": "T-SQL appears with AWS 8 times",
         "type": "scatter",
         "uid": "5f80d08d-976b-4887-ac3f-3f19a9eeba1f",
         "x": [
          -0.7639648934350043
         ],
         "y": [
          0.475770576642611
         ]
        },
        {
         "hoverinfo": "text",
         "marker": {
          "color": "blue",
          "size": 0.5
         },
         "mode": "markers",
         "text": "AWS appears with T-SQL 8 times",
         "type": "scatter",
         "uid": "06ec2b6f-bf93-4894-be09-3124fa8bdd2f",
         "x": [
          0.8951190192148799
         ],
         "y": [
          -0.09360524258710862
         ]
        },
        {
         "hoverinfo": "text",
         "marker": {
          "color": "green",
          "size": 0.5
         },
         "mode": "markers",
         "text": "PL/SQL appears with Pentaho 8 times",
         "type": "scatter",
         "uid": "18651a22-ca22-4936-a292-d575985a4220",
         "x": [
          -0.8676912899514743
         ],
         "y": [
          0.2389808053847564
         ]
        },
        {
         "hoverinfo": "text",
         "marker": {
          "color": "blue",
          "size": 0.5
         },
         "mode": "markers",
         "text": "Pentaho appears with PL/SQL 8 times",
         "type": "scatter",
         "uid": "6783efe2-ba43-48f9-8dff-9ddb92783c5c",
         "x": [
          -0.8844718081643352
         ],
         "y": [
          0.16646206944079275
         ]
        },
        {
         "hoverinfo": "text",
         "marker": {
          "color": "green",
          "size": 0.5
         },
         "mode": "markers",
         "text": "PL/SQL appears with Hadoop 3 times",
         "type": "scatter",
         "uid": "f26169e0-34a6-4a59-a5a8-a636f85b01c5",
         "x": [
          -0.8669583224995172
         ],
         "y": [
          0.2416262962693075
         ]
        },
        {
         "hoverinfo": "text",
         "marker": {
          "color": "blue",
          "size": 0.5
         },
         "mode": "markers",
         "text": "Hadoop appears with PL/SQL 3 times",
         "type": "scatter",
         "uid": "1a0e9308-c935-4367-8009-d284e247ca06",
         "x": [
          -0.8988776329779756
         ],
         "y": [
          0.0449332942472704
         ]
        },
        {
         "hoverinfo": "text",
         "marker": {
          "color": "green",
          "size": 0.5
         },
         "mode": "markers",
         "text": "PL/SQL appears with Informatica 27 times",
         "type": "scatter",
         "uid": "f0b59e42-7793-4091-847d-73d61275431d",
         "x": [
          -0.8708615658924501
         ],
         "y": [
          0.22715662669477601
         ]
        },
        {
         "hoverinfo": "text",
         "marker": {
          "color": "blue",
          "size": 0.5
         },
         "mode": "markers",
         "text": "Informatica appears with PL/SQL 27 times",
         "type": "scatter",
         "uid": "a68e4a42-a6c2-4594-8987-6ec318e5b44e",
         "x": [
          -0.8522861242942031
         ],
         "y": [
          -0.28915110640557146
         ]
        },
        {
         "hoverinfo": "text",
         "marker": {
          "color": "green",
          "size": 0.5
         },
         "mode": "markers",
         "text": "PL/SQL appears with Qlik 15 times",
         "type": "scatter",
         "uid": "22ab549b-ab3c-47ab-b852-3dabd9b7f99f",
         "x": [
          -0.8685329741896433
         ],
         "y": [
          0.23590352423245514
         ]
        },
        {
         "hoverinfo": "text",
         "marker": {
          "color": "blue",
          "size": 0.5
         },
         "mode": "markers",
         "text": "Qlik appears with PL/SQL 15 times",
         "type": "scatter",
         "uid": "9760b749-d3dc-4d22-af81-c8518a091400",
         "x": [
          -0.793852473968569
         ],
         "y": [
          -0.42402623689340563
         ]
        },
        {
         "hoverinfo": "text",
         "marker": {
          "color": "green",
          "size": 0.5
         },
         "mode": "markers",
         "text": "PL/SQL appears with Tableau 18 times",
         "type": "scatter",
         "uid": "1394c2c2-b7c5-44cc-8aa6-ba712355ee99",
         "x": [
          -0.8691715168129577
         ],
         "y": [
          0.23353987745364255
         ]
        },
        {
         "hoverinfo": "text",
         "marker": {
          "color": "blue",
          "size": 0.5
         },
         "mode": "markers",
         "text": "Tableau appears with PL/SQL 18 times",
         "type": "scatter",
         "uid": "93be8d3a-1d21-45f8-bee4-1090c4ec9890",
         "x": [
          -0.5354269522991776
         ],
         "y": [
          -0.7234072012024861
         ]
        },
        {
         "hoverinfo": "text",
         "marker": {
          "color": "green",
          "size": 0.5
         },
         "mode": "markers",
         "text": "PL/SQL appears with Microstrategy 22 times",
         "type": "scatter",
         "uid": "bace1bf6-2ba9-4871-afc0-51c90143bb8d",
         "x": [
          -0.8699368835421915
         ],
         "y": [
          0.23067253554096911
         ]
        },
        {
         "hoverinfo": "text",
         "marker": {
          "color": "blue",
          "size": 0.5
         },
         "mode": "markers",
         "text": "Microstrategy appears with PL/SQL 22 times",
         "type": "scatter",
         "uid": "2d29a7d5-4af2-41b7-8d70-16b3e35c6936",
         "x": [
          -0.059414878119246214
         ],
         "y": [
          -0.8980366764548513
         ]
        },
        {
         "hoverinfo": "text",
         "marker": {
          "color": "green",
          "size": 0.5
         },
         "mode": "markers",
         "text": "PL/SQL appears with Oracle BI 78 times",
         "type": "scatter",
         "uid": "53c3c681-fb28-49fb-85dd-ac4157816fcc",
         "x": [
          -0.876969020424225
         ],
         "y": [
          0.20230011669837308
         ]
        },
        {
         "hoverinfo": "text",
         "marker": {
          "color": "blue",
          "size": 0.5
         },
         "mode": "markers",
         "text": "Oracle BI appears with PL/SQL 78 times",
         "type": "scatter",
         "uid": "63de3723-9e0e-451b-87c7-4afdb62142e0",
         "x": [
          0.09798955855957985
         ],
         "y": [
          -0.8946496780378892
         ]
        },
        {
         "hoverinfo": "text",
         "marker": {
          "color": "green",
          "size": 0.5
         },
         "mode": "markers",
         "text": "PL/SQL appears with Python 3 times",
         "type": "scatter",
         "uid": "44e21c30-a2a8-4cef-a3ad-dbaf229a1ac9",
         "x": [
          -0.8668387026991441
         ],
         "y": [
          0.2420550836129349
         ]
        },
        {
         "hoverinfo": "text",
         "marker": {
          "color": "blue",
          "size": 0.5
         },
         "mode": "markers",
         "text": "Python appears with PL/SQL 3 times",
         "type": "scatter",
         "uid": "113c2932-4bac-4ba7-90e9-d9691a827caa",
         "x": [
          0.5844523571280442
         ],
         "y": [
          -0.6844088268334017
         ]
        },
        {
         "hoverinfo": "text",
         "marker": {
          "color": "green",
          "size": 0.5
         },
         "mode": "markers",
         "text": "PL/SQL appears with VBA 6 times",
         "type": "scatter",
         "uid": "a0a307aa-8598-4c03-9eaa-b8c65ced8180",
         "x": [
          -0.8671373544989355
         ],
         "y": [
          0.24098300444759074
         ]
        },
        {
         "hoverinfo": "text",
         "marker": {
          "color": "blue",
          "size": 0.5
         },
         "mode": "markers",
         "text": "VBA appears with PL/SQL 6 times",
         "type": "scatter",
         "uid": "66b505b6-4a95-425e-b274-af5ff540d16d",
         "x": [
          0.8207506103902981
         ],
         "y": [
          -0.3692809710016931
         ]
        },
        {
         "hoverinfo": "text",
         "marker": {
          "color": "green",
          "size": 0.5
         },
         "mode": "markers",
         "text": "PL/SQL appears with Linux 1 times",
         "type": "scatter",
         "uid": "7b44d561-7bd0-48ea-be8e-54cf6e930f44",
         "x": [
          -0.866678879745494
         ],
         "y": [
          0.24262670793442245
         ]
        },
        {
         "hoverinfo": "text",
         "marker": {
          "color": "blue",
          "size": 0.5
         },
         "mode": "markers",
         "text": "Linux appears with PL/SQL 1 times",
         "type": "scatter",
         "uid": "19928857-fc28-43c2-9d8c-dd1d28491a22",
         "x": [
          0.8709912786127806
         ],
         "y": [
          -0.2266587580052305
         ]
        },
        {
         "hoverinfo": "text",
         "marker": {
          "color": "green",
          "size": 0.5
         },
         "mode": "markers",
         "text": "PL/SQL appears with AWS 2 times",
         "type": "scatter",
         "uid": "3e5cedc0-afa3-457d-87a7-098fe19a74b1",
         "x": [
          -0.8667388575306074
         ],
         "y": [
          0.24241236116695325
         ]
        },
        {
         "hoverinfo": "text",
         "marker": {
          "color": "blue",
          "size": 0.5
         },
         "mode": "markers",
         "text": "AWS appears with PL/SQL 2 times",
         "type": "scatter",
         "uid": "113ad71a-7b22-42f1-8a6d-185f8ff35290",
         "x": [
          0.8947995500727648
         ],
         "y": [
          -0.09661141335048268
         ]
        },
        {
         "hoverinfo": "text",
         "marker": {
          "color": "green",
          "size": 0.5
         },
         "mode": "markers",
         "text": "Pentaho appears with Spark 6 times",
         "type": "scatter",
         "uid": "9ea8b477-b83f-43b3-b62e-6e0d3606aab2",
         "x": [
          -0.8842345310358773
         ],
         "y": [
          0.1677179004273607
         ]
        },
        {
         "hoverinfo": "text",
         "marker": {
          "color": "blue",
          "size": 0.5
         },
         "mode": "markers",
         "text": "Spark appears with Pentaho 6 times",
         "type": "scatter",
         "uid": "bd5783e5-ec3d-4f6b-8aa3-d3eb6a4d6027",
         "x": [
          -0.8932785875453052
         ],
         "y": [
          -0.10978781823619845
         ]
        },
        {
         "hoverinfo": "text",
         "marker": {
          "color": "green",
          "size": 0.5
         },
         "mode": "markers",
         "text": "Pentaho appears with Informatica 32 times",
         "type": "scatter",
         "uid": "ce494d91-b9aa-4cd6-bfe7-edd8c9cb8cd9",
         "x": [
          -0.8867776047009847
         ],
         "y": [
          0.15370582227353732
         ]
        },
        {
         "hoverinfo": "text",
         "marker": {
          "color": "blue",
          "size": 0.5
         },
         "mode": "markers",
         "text": "Informatica appears with Pentaho 32 times",
         "type": "scatter",
         "uid": "5af8aa38-2faf-4303-86f3-249bcab60786",
         "x": [
          -0.8504103197109569
         ],
         "y": [
          -0.2946222804356591
         ]
        },
        {
         "hoverinfo": "text",
         "marker": {
          "color": "green",
          "size": 0.5
         },
         "mode": "markers",
         "text": "Pentaho appears with Qlik 30 times",
         "type": "scatter",
         "uid": "9a80a616-a76b-49b4-a95b-097b42469c6d",
         "x": [
          -0.8857934474731038
         ],
         "y": [
          0.15927952917344307
         ]
        },
        {
         "hoverinfo": "text",
         "marker": {
          "color": "blue",
          "size": 0.5
         },
         "mode": "markers",
         "text": "Qlik appears with Pentaho 30 times",
         "type": "scatter",
         "uid": "6c4f7de0-fbf5-4cbd-8fff-ebb48a33c6bc",
         "x": [
          -0.7850331229894748
         ],
         "y": [
          -0.4401397457733079
         ]
        },
        {
         "hoverinfo": "text",
         "marker": {
          "color": "green",
          "size": 0.5
         },
         "mode": "markers",
         "text": "Pentaho appears with Tableau 37 times",
         "type": "scatter",
         "uid": "29e7dbf8-cefa-4366-b312-362cee9a52f1",
         "x": [
          -0.8906146437673679
         ],
         "y": [
          0.12963624611629393
         ]
        },
        {
         "hoverinfo": "text",
         "marker": {
          "color": "blue",
          "size": 0.5
         },
         "mode": "markers",
         "text": "Tableau appears with Pentaho 37 times",
         "type": "scatter",
         "uid": "a4624131-6720-4d51-a6bd-0dd015b67c73",
         "x": [
          -0.511885909340684
         ],
         "y": [
          -0.740251859719691
         ]
        },
        {
         "hoverinfo": "text",
         "marker": {
          "color": "green",
          "size": 0.5
         },
         "mode": "markers",
         "text": "Pentaho appears with Microstrategy 3 times",
         "type": "scatter",
         "uid": "a65add67-3d48-46d7-ae3f-a2a678641542",
         "x": [
          -0.8840810541174624
         ],
         "y": [
          0.16852504190937453
         ]
        },
        {
         "hoverinfo": "text",
         "marker": {
          "color": "blue",
          "size": 0.5
         },
         "mode": "markers",
         "text": "Microstrategy appears with Pentaho 3 times",
         "type": "scatter",
         "uid": "cb9def1f-db6d-45db-96ab-f4012bb7cf4d",
         "x": [
          -0.0724588957665327
         ],
         "y": [
          -0.8970784293607191
         ]
        },
        {
         "hoverinfo": "text",
         "marker": {
          "color": "green",
          "size": 0.5
         },
         "mode": "markers",
         "text": "Pentaho appears with Oracle BI 38 times",
         "type": "scatter",
         "uid": "1f02a888-80d6-4420-831b-0759f7711fb3",
         "x": [
          -0.8924721065751718
         ],
         "y": [
          0.1161616932782714
         ]
        },
        {
         "hoverinfo": "text",
         "marker": {
          "color": "blue",
          "size": 0.5
         },
         "mode": "markers",
         "text": "Oracle BI appears with Pentaho 38 times",
         "type": "scatter",
         "uid": "438728c0-ccaa-4c54-8dee-cef88e8bb954",
         "x": [
          0.022643609493310613
         ],
         "y": [
          -0.8997151032127417
         ]
        },
        {
         "hoverinfo": "text",
         "marker": {
          "color": "green",
          "size": 0.5
         },
         "mode": "markers",
         "text": "Pentaho appears with Python 34 times",
         "type": "scatter",
         "uid": "b4735c7b-b1e5-4312-b3fc-1a08385d0f93",
         "x": [
          -0.8896579534336837
         ],
         "y": [
          0.13604677832344808
         ]
        },
        {
         "hoverinfo": "text",
         "marker": {
          "color": "blue",
          "size": 0.5
         },
         "mode": "markers",
         "text": "Python appears with Pentaho 34 times",
         "type": "scatter",
         "uid": "1870a00a-5b92-41f5-a0ec-41892bfe9f42",
         "x": [
          0.5982837329503065
         ],
         "y": [
          -0.672351526277026
         ]
        },
        {
         "hoverinfo": "text",
         "marker": {
          "color": "green",
          "size": 0.5
         },
         "mode": "markers",
         "text": "Pentaho appears with VBA 1 times",
         "type": "scatter",
         "uid": "a197962a-8b48-47e7-af5c-c5f46dc64972",
         "x": [
          -0.8840126056521118
         ],
         "y": [
          0.1688837264160283
         ]
        },
        {
         "hoverinfo": "text",
         "marker": {
          "color": "blue",
          "size": 0.5
         },
         "mode": "markers",
         "text": "VBA appears with Pentaho 1 times",
         "type": "scatter",
         "uid": "5afb3b2a-8c69-436a-b745-85cd8acbe0e9",
         "x": [
          0.8193557838940358
         ],
         "y": [
          -0.37236554539778527
         ]
        },
        {
         "hoverinfo": "text",
         "marker": {
          "color": "green",
          "size": 0.5
         },
         "mode": "markers",
         "text": "Pentaho appears with Linux 33 times",
         "type": "scatter",
         "uid": "39430ded-4407-40e6-90d9-c827d3bad7d6",
         "x": [
          -0.8887128447324927
         ],
         "y": [
          0.1420896886036435
         ]
        },
        {
         "hoverinfo": "text",
         "marker": {
          "color": "blue",
          "size": 0.5
         },
         "mode": "markers",
         "text": "Linux appears with Pentaho 33 times",
         "type": "scatter",
         "uid": "3654efc3-77d9-45f8-b815-58008d7fbee9",
         "x": [
          0.8764306893156729
         ],
         "y": [
          -0.20461976157168785
         ]
        },
        {
         "hoverinfo": "text",
         "marker": {
          "color": "green",
          "size": 0.5
         },
         "mode": "markers",
         "text": "Pentaho appears with AWS 13 times",
         "type": "scatter",
         "uid": "791992ed-27ae-4106-8d57-73612f5daee9",
         "x": [
          -0.8850903106725865
         ],
         "y": [
          0.16314147833553655
         ]
        },
        {
         "hoverinfo": "text",
         "marker": {
          "color": "blue",
          "size": 0.5
         },
         "mode": "markers",
         "text": "AWS appears with Pentaho 13 times",
         "type": "scatter",
         "uid": "f003d094-35f3-419f-a9af-76325da22729",
         "x": [
          0.8954537136589323
         ],
         "y": [
          -0.0903473668372618
         ]
        },
        {
         "hoverinfo": "text",
         "marker": {
          "color": "green",
          "size": 0.5
         },
         "mode": "markers",
         "text": "Hadoop appears with Spark 120 times",
         "type": "scatter",
         "uid": "849de8a3-a3d2-43f7-bdb9-4adbd13bf3ec",
         "x": [
          -0.8989865428385136
         ],
         "y": [
          -0.04269889688572049
         ]
        },
        {
         "hoverinfo": "text",
         "marker": {
          "color": "blue",
          "size": 0.5
         },
         "mode": "markers",
         "text": "Spark appears with Hadoop 120 times",
         "type": "scatter",
         "uid": "bf6abb06-3ddf-4750-ab9d-469cef425fec",
         "x": [
          -0.877373348426158
         ],
         "y": [
          -0.20053929159013087
         ]
        },
        {
         "hoverinfo": "text",
         "marker": {
          "color": "green",
          "size": 0.5
         },
         "mode": "markers",
         "text": "Hadoop appears with Informatica 5 times",
         "type": "scatter",
         "uid": "e1ff9d37-e2f8-473b-bdf2-035297074d68",
         "x": [
          -0.8989628147674987
         ],
         "y": [
          0.043195574603143695
         ]
        },
        {
         "hoverinfo": "text",
         "marker": {
          "color": "blue",
          "size": 0.5
         },
         "mode": "markers",
         "text": "Informatica appears with Hadoop 5 times",
         "type": "scatter",
         "uid": "4db5d64d-0e36-466a-b637-be7b2c4bf910",
         "x": [
          -0.8597270792612245
         ],
         "y": [
          -0.2662129771160008
         ]
        },
        {
         "hoverinfo": "text",
         "marker": {
          "color": "green",
          "size": 0.5
         },
         "mode": "markers",
         "text": "Hadoop appears with Qlik 9 times",
         "type": "scatter",
         "uid": "d6b50756-dbc9-44bd-8f8a-a5a64b9782ec",
         "x": [
          -0.8990886423848237
         ],
         "y": [
          0.040492136701028365
         ]
        },
        {
         "hoverinfo": "text",
         "marker": {
          "color": "blue",
          "size": 0.5
         },
         "mode": "markers",
         "text": "Qlik appears with Hadoop 9 times",
         "type": "scatter",
         "uid": "35a6bb38-7008-4fc3-b5cc-142386d66219",
         "x": [
          -0.7965312698872001
         ],
         "y": [
          -0.41897247653262915
         ]
        },
        {
         "hoverinfo": "text",
         "marker": {
          "color": "green",
          "size": 0.5
         },
         "mode": "markers",
         "text": "Hadoop appears with Tableau 36 times",
         "type": "scatter",
         "uid": "2e673a3d-17d5-4491-8893-b4ca1f620809",
         "x": [
          -0.8999348108670782
         ],
         "y": [
          0.010832183050346698
         ]
        },
        {
         "hoverinfo": "text",
         "marker": {
          "color": "blue",
          "size": 0.5
         },
         "mode": "markers",
         "text": "Tableau appears with Hadoop 36 times",
         "type": "scatter",
         "uid": "f1a65450-9bce-479c-96df-b3d75a026e54",
         "x": [
          -0.5185756848837887
         ],
         "y": [
          -0.7355808990500702
         ]
        },
        {
         "hoverinfo": "text",
         "marker": {
          "color": "green",
          "size": 0.5
         },
         "mode": "markers",
         "text": "Hadoop appears with Microstrategy 3 times",
         "type": "scatter",
         "uid": "83a556c1-eb7e-4a9a-81e5-0490be899f9d",
         "x": [
          -0.8988189789557218
         ],
         "y": [
          0.04609168112570581
         ]
        },
        {
         "hoverinfo": "text",
         "marker": {
          "color": "blue",
          "size": 0.5
         },
         "mode": "markers",
         "text": "Microstrategy appears with Hadoop 3 times",
         "type": "scatter",
         "uid": "6754ecf7-d84a-4a83-b681-14c815026737",
         "x": [
          -0.07201190992675267
         ],
         "y": [
          -0.8971144212577911
         ]
        },
        {
         "hoverinfo": "text",
         "marker": {
          "color": "green",
          "size": 0.5
         },
         "mode": "markers",
         "text": "Hadoop appears with Oracle BI 34 times",
         "type": "scatter",
         "uid": "91149f86-6a9e-4a4b-b749-c36919f90e7e",
         "x": [
          -0.8998279486917975
         ],
         "y": [
          0.017597237087449084
         ]
        },
        {
         "hoverinfo": "text",
         "marker": {
          "color": "blue",
          "size": 0.5
         },
         "mode": "markers",
         "text": "Oracle BI appears with Hadoop 34 times",
         "type": "scatter",
         "uid": "50f98a38-ac03-489b-8373-07a88c0fbd9f",
         "x": [
          0.01450352950680628
         ],
         "y": [
          -0.899883129985136
         ]
        },
        {
         "hoverinfo": "text",
         "marker": {
          "color": "green",
          "size": 0.5
         },
         "mode": "markers",
         "text": "Hadoop appears with Python 130 times",
         "type": "scatter",
         "uid": "d5de0074-a9a0-4abb-a4a0-1a41a0eb24b6",
         "x": [
          -0.8975162607115547
         ],
         "y": [
          -0.06681737617078845
         ]
        },
        {
         "hoverinfo": "text",
         "marker": {
          "color": "blue",
          "size": 0.5
         },
         "mode": "markers",
         "text": "Python appears with Hadoop 130 times",
         "type": "scatter",
         "uid": "84fcce38-b464-47f0-a369-7730bbb5a152",
         "x": [
          0.7123332501951906
         ],
         "y": [
          -0.5500739410900648
         ]
        },
        {
         "hoverinfo": "text",
         "marker": {
          "color": "green",
          "size": 0.5
         },
         "mode": "markers",
         "text": "Hadoop appears with VBA 7 times",
         "type": "scatter",
         "uid": "7b57de07-93be-41cc-b32a-5bd34e02e52f",
         "x": [
          -0.8990177363270636
         ],
         "y": [
          0.04203700476202369
         ]
        },
        {
         "hoverinfo": "text",
         "marker": {
          "color": "blue",
          "size": 0.5
         },
         "mode": "markers",
         "text": "VBA appears with Hadoop 7 times",
         "type": "scatter",
         "uid": "8ccbae7a-e228-4b9e-88df-4e7fb9cab6c1",
         "x": [
          0.8223697796979047
         ],
         "y": [
          -0.36566097062664454
         ]
        },
        {
         "hoverinfo": "text",
         "marker": {
          "color": "green",
          "size": 0.5
         },
         "mode": "markers",
         "text": "Hadoop appears with Linux 81 times",
         "type": "scatter",
         "uid": "bb99c5cc-e427-4036-b213-2d290f5c98a7",
         "x": [
          -0.8996987453134824
         ],
         "y": [
          -0.023284494440413455
         ]
        },
        {
         "hoverinfo": "text",
         "marker": {
          "color": "blue",
          "size": 0.5
         },
         "mode": "markers",
         "text": "Linux appears with Hadoop 81 times",
         "type": "scatter",
         "uid": "1d27e7c1-4520-483a-99be-444983a1c061",
         "x": [
          0.8876446953379431
         ],
         "y": [
          -0.14861660350852487
         ]
        },
        {
         "hoverinfo": "text",
         "marker": {
          "color": "green",
          "size": 0.5
         },
         "mode": "markers",
         "text": "Hadoop appears with AWS 44 times",
         "type": "scatter",
         "uid": "9f4ac415-750b-4c3a-ba35-888fb828718d",
         "x": [
          -0.8999946612144385
         ],
         "y": [
          0.0030999654043463772
         ]
        },
        {
         "hoverinfo": "text",
         "marker": {
          "color": "blue",
          "size": 0.5
         },
         "mode": "markers",
         "text": "AWS appears with Hadoop 44 times",
         "type": "scatter",
         "uid": "30ad95c9-a399-4bff-b820-6fa4e41c8c58",
         "x": [
          0.8979090831321849
         ],
         "y": [
          -0.06131295481967302
         ]
        },
        {
         "hoverinfo": "text",
         "marker": {
          "color": "green",
          "size": 0.5
         },
         "mode": "markers",
         "text": "Spark appears with Informatica 10 times",
         "type": "scatter",
         "uid": "b2dbff2e-7c3d-40ed-ba6e-1131d9ed3f31",
         "x": [
          -0.8929165229442543
         ],
         "y": [
          -0.11269464518397994
         ]
        },
        {
         "hoverinfo": "text",
         "marker": {
          "color": "blue",
          "size": 0.5
         },
         "mode": "markers",
         "text": "Informatica appears with Spark 10 times",
         "type": "scatter",
         "uid": "b675a8bb-89bd-4c47-8175-d7b1ec6da735",
         "x": [
          -0.8583529730687046
         ],
         "y": [
          -0.2706107418860449
         ]
        },
        {
         "hoverinfo": "text",
         "marker": {
          "color": "green",
          "size": 0.5
         },
         "mode": "markers",
         "text": "Spark appears with Qlik 15 times",
         "type": "scatter",
         "uid": "a427d74a-1cdb-471a-8ea7-4fe5dc16710c",
         "x": [
          -0.8926075765687709
         ],
         "y": [
          -0.11511609032635692
         ]
        },
        {
         "hoverinfo": "text",
         "marker": {
          "color": "blue",
          "size": 0.5
         },
         "mode": "markers",
         "text": "Qlik appears with Spark 15 times",
         "type": "scatter",
         "uid": "b19f358c-1a1a-47c7-946e-9c7e8f2b9e03",
         "x": [
          -0.7922924223592751
         ],
         "y": [
          -0.4269340903138002
         ]
        },
        {
         "hoverinfo": "text",
         "marker": {
          "color": "green",
          "size": 0.5
         },
         "mode": "markers",
         "text": "Spark appears with Tableau 34 times",
         "type": "scatter",
         "uid": "35ce640d-72f7-488a-911a-0a04200ac8af",
         "x": [
          -0.8885600681855357
         ],
         "y": [
          -0.14304197015602216
         ]
        },
        {
         "hoverinfo": "text",
         "marker": {
          "color": "blue",
          "size": 0.5
         },
         "mode": "markers",
         "text": "Tableau appears with Spark 34 times",
         "type": "scatter",
         "uid": "29068188-f7c0-48f0-9c40-1935204cb4c4",
         "x": [
          -0.5249505165866921
         ],
         "y": [
          -0.7310451115597212
         ]
        },
        {
         "hoverinfo": "text",
         "marker": {
          "color": "green",
          "size": 0.5
         },
         "mode": "markers",
         "text": "Spark appears with Microstrategy 3 times",
         "type": "scatter",
         "uid": "6c699c32-0020-4886-9d18-4836c6cd9385",
         "x": [
          -0.8935264025377989
         ],
         "y": [
          -0.10775234553298343
         ]
        },
        {
         "hoverinfo": "text",
         "marker": {
          "color": "blue",
          "size": 0.5
         },
         "mode": "markers",
         "text": "Microstrategy appears with Spark 3 times",
         "type": "scatter",
         "uid": "7bda0681-a577-47c3-a2a3-a25a65c304aa",
         "x": [
          -0.0729058636175637
         ],
         "y": [
          -0.8970422147536744
         ]
        },
        {
         "hoverinfo": "text",
         "marker": {
          "color": "green",
          "size": 0.5
         },
         "mode": "markers",
         "text": "Spark appears with Oracle BI 30 times",
         "type": "scatter",
         "uid": "1082b770-d2c1-45e9-8777-c6dfeab5625b",
         "x": [
          -0.8895318528750982
         ],
         "y": [
          -0.13686885226593687
         ]
        },
        {
         "hoverinfo": "text",
         "marker": {
          "color": "blue",
          "size": 0.5
         },
         "mode": "markers",
         "text": "Oracle BI appears with Spark 30 times",
         "type": "scatter",
         "uid": "62a4cb0b-8d89-48d7-9359-f2c32ebd582f",
         "x": [
          0.007266885687865314
         ],
         "y": [
          -0.8999706619509324
         ]
        },
        {
         "hoverinfo": "text",
         "marker": {
          "color": "green",
          "size": 0.5
         },
         "mode": "markers",
         "text": "Spark appears with Python 138 times",
         "type": "scatter",
         "uid": "ea63c4e9-a77a-4525-8753-d8a7a3883d26",
         "x": [
          -0.8714171002407387
         ],
         "y": [
          -0.22501608255416392
         ]
        },
        {
         "hoverinfo": "text",
         "marker": {
          "color": "blue",
          "size": 0.5
         },
         "mode": "markers",
         "text": "Python appears with Spark 138 times",
         "type": "scatter",
         "uid": "a21e3006-9da2-42de-b74b-b41918948fb8",
         "x": [
          0.7299464754616263
         ],
         "y": [
          -0.5264771058281164
         ]
        },
        {
         "hoverinfo": "text",
         "marker": {
          "color": "green",
          "size": 0.5
         },
         "mode": "markers",
         "text": "Spark appears with VBA 7 times",
         "type": "scatter",
         "uid": "e1982046-b855-4bdf-af8a-82de8d2f7ddc",
         "x": [
          -0.8931228545015487
         ],
         "y": [
          -0.11104758784865776
         ]
        },
        {
         "hoverinfo": "text",
         "marker": {
          "color": "blue",
          "size": 0.5
         },
         "mode": "markers",
         "text": "VBA appears with Spark 7 times",
         "type": "scatter",
         "uid": "19ff4eab-9c55-444d-90e5-34eb68b9e639",
         "x": [
          0.8218186861801808
         ],
         "y": [
          -0.3668978700470766
         ]
        },
        {
         "hoverinfo": "text",
         "marker": {
          "color": "green",
          "size": 0.5
         },
         "mode": "markers",
         "text": "Spark appears with Linux 62 times",
         "type": "scatter",
         "uid": "db9ed089-ff33-47bc-933b-f6998048c36c",
         "x": [
          -0.8840991823269042
         ],
         "y": [
          -0.16842991364036075
         ]
        },
        {
         "hoverinfo": "text",
         "marker": {
          "color": "blue",
          "size": 0.5
         },
         "mode": "markers",
         "text": "Linux appears with Spark 62 times",
         "type": "scatter",
         "uid": "9c187a52-e08e-49ae-a429-fbc73f241d57",
         "x": [
          0.8829898323088183
         ],
         "y": [
          -0.17415210604309342
         ]
        },
        {
         "hoverinfo": "text",
         "marker": {
          "color": "green",
          "size": 0.5
         },
         "mode": "markers",
         "text": "Spark appears with AWS 45 times",
         "type": "scatter",
         "uid": "78a46261-4c21-46a7-a7db-ddb7b831b01d",
         "x": [
          -0.8859948150177097
         ],
         "y": [
          -0.15815558087444928
         ]
        },
        {
         "hoverinfo": "text",
         "marker": {
          "color": "blue",
          "size": 0.5
         },
         "mode": "markers",
         "text": "AWS appears with Spark 45 times",
         "type": "scatter",
         "uid": "ce115422-7fa2-4d32-86f9-0fd4ebd3103d",
         "x": [
          0.8983872723664065
         ],
         "y": [
          -0.05385451559570673
         ]
        },
        {
         "hoverinfo": "text",
         "marker": {
          "color": "green",
          "size": 0.5
         },
         "mode": "markers",
         "text": "Informatica appears with Qlik 92 times",
         "type": "scatter",
         "uid": "8e063d48-feee-42d8-9006-f14957ffc80d",
         "x": [
          -0.8328891079020739
         ],
         "y": [
          -0.34102160333047454
         ]
        },
        {
         "hoverinfo": "text",
         "marker": {
          "color": "blue",
          "size": 0.5
         },
         "mode": "markers",
         "text": "Qlik appears with Informatica 92 times",
         "type": "scatter",
         "uid": "986ea9c8-d847-4439-9bcc-f1d173191338",
         "x": [
          -0.7449230648277959
         ],
         "y": [
          -0.5050639835580869
         ]
        },
        {
         "hoverinfo": "text",
         "marker": {
          "color": "green",
          "size": 0.5
         },
         "mode": "markers",
         "text": "Informatica appears with Tableau 67 times",
         "type": "scatter",
         "uid": "a4f98a16-ef12-4b42-8a1f-f3b3498dafa1",
         "x": [
          -0.8386699805007249
         ],
         "y": [
          -0.32654657218674604
         ]
        },
        {
         "hoverinfo": "text",
         "marker": {
          "color": "blue",
          "size": 0.5
         },
         "mode": "markers",
         "text": "Tableau appears with Informatica 67 times",
         "type": "scatter",
         "uid": "c2e38a67-c659-40dc-8b8e-27150cdd725a",
         "x": [
          -0.47354742505883873
         ],
         "y": [
          -0.765344913238563
         ]
        },
        {
         "hoverinfo": "text",
         "marker": {
          "color": "green",
          "size": 0.5
         },
         "mode": "markers",
         "text": "Informatica appears with Microstrategy 13 times",
         "type": "scatter",
         "uid": "d13d5ab8-c376-48ab-9c13-3a4c5abacca4",
         "x": [
          -0.8562345480040405
         ],
         "y": [
          -0.27724068749791486
         ]
        },
        {
         "hoverinfo": "text",
         "marker": {
          "color": "blue",
          "size": 0.5
         },
         "mode": "markers",
         "text": "Microstrategy appears with Informatica 13 times",
         "type": "scatter",
         "uid": "0c2d55fe-6e09-4d38-8c1d-b5a83d86f049",
         "x": [
          -0.06724297082537581
         ],
         "y": [
          -0.8974844750047645
         ]
        },
        {
         "hoverinfo": "text",
         "marker": {
          "color": "green",
          "size": 0.5
         },
         "mode": "markers",
         "text": "Informatica appears with Oracle BI 124 times",
         "type": "scatter",
         "uid": "3b11ee26-64fb-40d2-b81d-4af205e27064",
         "x": [
          -0.8154292874166449
         ],
         "y": [
          -0.38088722375945183
         ]
        },
        {
         "hoverinfo": "text",
         "marker": {
          "color": "blue",
          "size": 0.5
         },
         "mode": "markers",
         "text": "Oracle BI appears with Informatica 124 times",
         "type": "scatter",
         "uid": "897194ee-4598-4e45-a73d-22489e188e58",
         "x": [
          0.12066215763986181
         ],
         "y": [
          -0.8918747915002941
         ]
        },
        {
         "hoverinfo": "text",
         "marker": {
          "color": "green",
          "size": 0.5
         },
         "mode": "markers",
         "text": "Informatica appears with Python 25 times",
         "type": "scatter",
         "uid": "82c85979-7f5d-45e8-ac76-7ef8ecc9db55",
         "x": [
          -0.8539101959761355
         ],
         "y": [
          -0.2843191467488568
         ]
        },
        {
         "hoverinfo": "text",
         "marker": {
          "color": "blue",
          "size": 0.5
         },
         "mode": "markers",
         "text": "Python appears with Informatica 25 times",
         "type": "scatter",
         "uid": "756e5b50-2ff6-4275-aea4-a3678c74e038",
         "x": [
          0.5934253140992161
         ],
         "y": [
          -0.6766434781967877
         ]
        },
        {
         "hoverinfo": "text",
         "marker": {
          "color": "green",
          "size": 0.5
         },
         "mode": "markers",
         "text": "Informatica appears with VBA 3 times",
         "type": "scatter",
         "uid": "fe8d9da0-7ccc-436c-82b6-f9f1876dccdb",
         "x": [
          -0.8599587266650182
         ],
         "y": [
          -0.2654637233835927
         ]
        },
        {
         "hoverinfo": "text",
         "marker": {
          "color": "blue",
          "size": 0.5
         },
         "mode": "markers",
         "text": "VBA appears with Informatica 3 times",
         "type": "scatter",
         "uid": "ae2d6a8a-7d00-48da-a505-2e4ac6159159",
         "x": [
          0.8195957208617393
         ],
         "y": [
          -0.37183713416646014
         ]
        },
        {
         "hoverinfo": "text",
         "marker": {
          "color": "green",
          "size": 0.5
         },
         "mode": "markers",
         "text": "Informatica appears with Linux 8 times",
         "type": "scatter",
         "uid": "c2eeb076-8be3-4247-a229-edfa8d9776b5",
         "x": [
          -0.8588818864179237
         ],
         "y": [
          -0.268927323236574
         ]
        },
        {
         "hoverinfo": "text",
         "marker": {
          "color": "blue",
          "size": 0.5
         },
         "mode": "markers",
         "text": "Linux appears with Informatica 8 times",
         "type": "scatter",
         "uid": "0bbb6117-b2fa-4f33-9b0d-f206354cf48e",
         "x": [
          0.8719901868703002
         ],
         "y": [
          -0.22278490523798716
         ]
        },
        {
         "hoverinfo": "text",
         "marker": {
          "color": "green",
          "size": 0.5
         },
         "mode": "markers",
         "text": "Informatica appears with AWS 19 times",
         "type": "scatter",
         "uid": "41a51a79-6c4c-438f-98af-7a4741437275",
         "x": [
          -0.8552630159497592
         ],
         "y": [
          -0.2802234350451832
         ]
        },
        {
         "hoverinfo": "text",
         "marker": {
          "color": "blue",
          "size": 0.5
         },
         "mode": "markers",
         "text": "AWS appears with Informatica 19 times",
         "type": "scatter",
         "uid": "fb0b5f8b-e98a-4397-afd8-8b73e2d164e1",
         "x": [
          0.8957194789688773
         ],
         "y": [
          -0.08767334256045552
         ]
        },
        {
         "hoverinfo": "text",
         "marker": {
          "color": "green",
          "size": 0.5
         },
         "mode": "markers",
         "text": "Qlik appears with Tableau 326 times",
         "type": "scatter",
         "uid": "f23ba8eb-1ed2-45ca-bd4a-15dd93822e64",
         "x": [
          -0.6507879752144309
         ],
         "y": [
          -0.6216711440273718
         ]
        },
        {
         "hoverinfo": "text",
         "marker": {
          "color": "blue",
          "size": 0.5
         },
         "mode": "markers",
         "text": "Tableau appears with Qlik 326 times",
         "type": "scatter",
         "uid": "390f7548-37ee-4ba4-97e2-56bf7b80c39d",
         "x": [
          -0.3086441434597345
         ],
         "y": [
          -0.8454222570455588
         ]
        },
        {
         "hoverinfo": "text",
         "marker": {
          "color": "green",
          "size": 0.5
         },
         "mode": "markers",
         "text": "Qlik appears with Microstrategy 32 times",
         "type": "scatter",
         "uid": "058b5123-3273-4494-a6cb-ee54c9bc0349",
         "x": [
          -0.7816754299559685
         ],
         "y": [
          -0.44607569111435763
         ]
        },
        {
         "hoverinfo": "text",
         "marker": {
          "color": "blue",
          "size": 0.5
         },
         "mode": "markers",
         "text": "Microstrategy appears with Qlik 32 times",
         "type": "scatter",
         "uid": "1aa6154d-a657-4de4-8e3b-599449b3f01f",
         "x": [
          -0.04822419999088639
         ],
         "y": [
          -0.8987070860604355
         ]
        },
        {
         "hoverinfo": "text",
         "marker": {
          "color": "green",
          "size": 0.5
         },
         "mode": "markers",
         "text": "Qlik appears with Oracle BI 316 times",
         "type": "scatter",
         "uid": "b9021f07-0deb-450e-8e9c-dbd152f1b010",
         "x": [
          -0.6975147064916786
         ],
         "y": [
          -0.5687470740389154
         ]
        },
        {
         "hoverinfo": "text",
         "marker": {
          "color": "blue",
          "size": 0.5
         },
         "mode": "markers",
         "text": "Oracle BI appears with Qlik 316 times",
         "type": "scatter",
         "uid": "f0395efb-046c-40ec-84d4-12021ab19292",
         "x": [
          0.34867468314478023
         ],
         "y": [
          -0.8297143878069653
         ]
        },
        {
         "hoverinfo": "text",
         "marker": {
          "color": "green",
          "size": 0.5
         },
         "mode": "markers",
         "text": "Qlik appears with Python 48 times",
         "type": "scatter",
         "uid": "abb43519-8b7e-4922-892a-2eb4f5b82c10",
         "x": [
          -0.7772766300752219
         ],
         "y": [
          -0.4536970799320916
         ]
        },
        {
         "hoverinfo": "text",
         "marker": {
          "color": "blue",
          "size": 0.5
         },
         "mode": "markers",
         "text": "Python appears with Qlik 48 times",
         "type": "scatter",
         "uid": "d453a47f-7b39-4b5a-a663-7f184793ab96",
         "x": [
          0.6125912544924552
         ],
         "y": [
          -0.659342062149352
         ]
        },
        {
         "hoverinfo": "text",
         "marker": {
          "color": "green",
          "size": 0.5
         },
         "mode": "markers",
         "text": "Qlik appears with VBA 29 times",
         "type": "scatter",
         "uid": "38c56806-e5ea-4361-9d58-f60f9ed7afaa",
         "x": [
          -0.7881864927673
         ],
         "y": [
          -0.4344675507091214
         ]
        },
        {
         "hoverinfo": "text",
         "marker": {
          "color": "blue",
          "size": 0.5
         },
         "mode": "markers",
         "text": "VBA appears with Qlik 29 times",
         "type": "scatter",
         "uid": "8d621d9b-e148-4e8c-bf83-79e687e26038",
         "x": [
          0.8257911186779818
         ],
         "y": [
          -0.35786733339684323
         ]
        },
        {
         "hoverinfo": "text",
         "marker": {
          "color": "green",
          "size": 0.5
         },
         "mode": "markers",
         "text": "Qlik appears with Linux 2 times",
         "type": "scatter",
         "uid": "b18fd67e-966a-484d-ac59-809c153c6d49",
         "x": [
          -0.7974000570912525
         ],
         "y": [
          -0.41731660517030394
         ]
        },
        {
         "hoverinfo": "text",
         "marker": {
          "color": "blue",
          "size": 0.5
         },
         "mode": "markers",
         "text": "Linux appears with Qlik 2 times",
         "type": "scatter",
         "uid": "ca5a6344-1d38-4fb1-ba13-650719583376",
         "x": [
          0.871061528569905
         ],
         "y": [
          -0.22638863364899872
         ]
        },
        {
         "hoverinfo": "text",
         "marker": {
          "color": "green",
          "size": 0.5
         },
         "mode": "markers",
         "text": "Qlik appears with AWS 3 times",
         "type": "scatter",
         "uid": "7f5105d8-c8d8-4994-80f1-43e17b1d30f8",
         "x": [
          -0.7971448886083827
         ],
         "y": [
          -0.417803813488495
         ]
        },
        {
         "hoverinfo": "text",
         "marker": {
          "color": "blue",
          "size": 0.5
         },
         "mode": "markers",
         "text": "AWS appears with Qlik 3 times",
         "type": "scatter",
         "uid": "6654b176-5f33-4847-8c8a-e02e421e1f27",
         "x": [
          0.8948445245988862
         ],
         "y": [
          -0.09619395404802378
         ]
        },
        {
         "hoverinfo": "text",
         "marker": {
          "color": "green",
          "size": 0.5
         },
         "mode": "markers",
         "text": "Tableau appears with Microstrategy 46 times",
         "type": "scatter",
         "uid": "965bcfcf-0090-4e4d-a1e9-d48df21c0419",
         "x": [
          -0.4958650789571916
         ],
         "y": [
          -0.7510777745818193
         ]
        },
        {
         "hoverinfo": "text",
         "marker": {
          "color": "blue",
          "size": 0.5
         },
         "mode": "markers",
         "text": "Microstrategy appears with Tableau 46 times",
         "type": "scatter",
         "uid": "21672c68-df96-401c-8265-92be2b4a1ec4",
         "x": [
          -0.037026039328617685
         ],
         "y": [
          -0.8992380510252198
         ]
        },
        {
         "hoverinfo": "text",
         "marker": {
          "color": "green",
          "size": 0.5
         },
         "mode": "markers",
         "text": "Tableau appears with Oracle BI 384 times",
         "type": "scatter",
         "uid": "3a7135e3-cd72-49ec-bf63-666b5047e38e",
         "x": [
          -0.23299805401034165
         ],
         "y": [
          -0.869316919671643
         ]
        },
        {
         "hoverinfo": "text",
         "marker": {
          "color": "blue",
          "size": 0.5
         },
         "mode": "markers",
         "text": "Oracle BI appears with Tableau 384 times",
         "type": "scatter",
         "uid": "7b1f2fb8-e5d7-42dd-896a-24bca79a8153",
         "x": [
          0.4202079442751344
         ],
         "y": [
          -0.7958801942303035
         ]
        },
        {
         "hoverinfo": "text",
         "marker": {
          "color": "green",
          "size": 0.5
         },
         "mode": "markers",
         "text": "Tableau appears with Python 122 times",
         "type": "scatter",
         "uid": "84b735a3-f4ac-4fcb-a01e-693882b786e5",
         "x": [
          -0.41813129832160534
         ],
         "y": [
          -0.7969731597512483
         ]
        },
        {
         "hoverinfo": "text",
         "marker": {
          "color": "blue",
          "size": 0.5
         },
         "mode": "markers",
         "text": "Python appears with Tableau 122 times",
         "type": "scatter",
         "uid": "87c99d85-fb0c-48cc-99ce-8fec7ea9fea1",
         "x": [
          0.6950756392252985
         ],
         "y": [
          -0.5717253324416742
         ]
        },
        {
         "hoverinfo": "text",
         "marker": {
          "color": "green",
          "size": 0.5
         },
         "mode": "markers",
         "text": "Tableau appears with VBA 62 times",
         "type": "scatter",
         "uid": "acd8fb66-a033-412c-986f-aa23cb2589a6",
         "x": [
          -0.4857471227210572
         ],
         "y": [
          -0.7576606976531212
         ]
        },
        {
         "hoverinfo": "text",
         "marker": {
          "color": "blue",
          "size": 0.5
         },
         "mode": "markers",
         "text": "VBA appears with Tableau 62 times",
         "type": "scatter",
         "uid": "07e88395-76c8-455a-a45c-ef724cc1b98d",
         "x": [
          0.838489158770211
         ],
         "y": [
          -0.32701059711395275
         ]
        },
        {
         "hoverinfo": "text",
         "marker": {
          "color": "green",
          "size": 0.5
         },
         "mode": "markers",
         "text": "Tableau appears with Linux 16 times",
         "type": "scatter",
         "uid": "cf113803-931b-4076-ab51-9feb345aac5d",
         "x": [
          -0.5384766715415878
         ],
         "y": [
          -0.7211399823928035
         ]
        },
        {
         "hoverinfo": "text",
         "marker": {
          "color": "blue",
          "size": 0.5
         },
         "mode": "markers",
         "text": "Linux appears with Tableau 16 times",
         "type": "scatter",
         "uid": "d6a12f16-25fe-428d-bd9c-cd01693538d9",
         "x": [
          0.8725402264573691
         ],
         "y": [
          -0.2206208358558258
         ]
        },
        {
         "hoverinfo": "text",
         "marker": {
          "color": "green",
          "size": 0.5
         },
         "mode": "markers",
         "text": "Tableau appears with AWS 32 times",
         "type": "scatter",
         "uid": "52831d81-06bd-4840-bc74-c7ff42f6614f",
         "x": [
          -0.5309247455217604
         ],
         "y": [
          -0.7267179057878331
         ]
        },
        {
         "hoverinfo": "text",
         "marker": {
          "color": "blue",
          "size": 0.5
         },
         "mode": "markers",
         "text": "AWS appears with Tableau 32 times",
         "type": "scatter",
         "uid": "3fa7f529-fa1d-4196-8ecd-74818e5d27fc",
         "x": [
          0.8968657794920918
         ],
         "y": [
          -0.07504514358732647
         ]
        },
        {
         "hoverinfo": "text",
         "marker": {
          "color": "green",
          "size": 0.5
         },
         "mode": "markers",
         "text": "Microstrategy appears with Oracle BI 57 times",
         "type": "scatter",
         "uid": "c27c99c1-7081-4abd-9f99-535161324f40",
         "x": [
          -0.0293332036724201
         ],
         "y": [
          -0.8995218525207225
         ]
        },
        {
         "hoverinfo": "text",
         "marker": {
          "color": "blue",
          "size": 0.5
         },
         "mode": "markers",
         "text": "Oracle BI appears with Microstrategy 57 times",
         "type": "scatter",
         "uid": "d5c22eac-7bde-4365-9057-155122f36eb6",
         "x": [
          0.052808313292552006
         ],
         "y": [
          -0.8984493764521159
         ]
        },
        {
         "hoverinfo": "text",
         "marker": {
          "color": "green",
          "size": 0.5
         },
         "mode": "markers",
         "text": "Microstrategy appears with Python 17 times",
         "type": "scatter",
         "uid": "af38227e-7493-4b53-972c-ade8b87b5324",
         "x": [
          -0.06500686856762328
         ],
         "y": [
          -0.8976492115737816
         ]
        },
        {
         "hoverinfo": "text",
         "marker": {
          "color": "blue",
          "size": 0.5
         },
         "mode": "markers",
         "text": "Python appears with Microstrategy 17 times",
         "type": "scatter",
         "uid": "e9a144b0-65d4-4db4-b163-2d5c35224338",
         "x": [
          0.586121728174763
         ],
         "y": [
          -0.682979735981551
         ]
        },
        {
         "hoverinfo": "text",
         "marker": {
          "color": "green",
          "size": 0.5
         },
         "mode": "markers",
         "text": "Microstrategy appears with VBA 7 times",
         "type": "scatter",
         "uid": "d69959d3-ba3e-4f9f-b1e3-c826878c4c72",
         "x": [
          -0.0703728097371853
         ],
         "y": [
          -0.8972444859957033
         ]
        },
        {
         "hoverinfo": "text",
         "marker": {
          "color": "blue",
          "size": 0.5
         },
         "mode": "markers",
         "text": "VBA appears with Microstrategy 7 times",
         "type": "scatter",
         "uid": "59c5e3ac-4185-4ef9-b194-b6ebcce63eb7",
         "x": [
          0.821265732283858
         ],
         "y": [
          -0.36813393890846086
         ]
        },
        {
         "hoverinfo": "text",
         "marker": {
          "color": "green",
          "size": 0.5
         },
         "mode": "markers",
         "text": "Microstrategy appears with Linux 6 times",
         "type": "scatter",
         "uid": "e2940b93-f19e-4973-a996-c4ab70d507c9",
         "x": [
          -0.07134139768092489
         ],
         "y": [
          -0.8971679915026685
         ]
        },
        {
         "hoverinfo": "text",
         "marker": {
          "color": "blue",
          "size": 0.5
         },
         "mode": "markers",
         "text": "Linux appears with Microstrategy 6 times",
         "type": "scatter",
         "uid": "e9df3dbb-d592-4c51-84a0-da914c7bf03c",
         "x": [
          0.8716668515751984
         ],
         "y": [
          -0.22404664662739557
         ]
        },
        {
         "hoverinfo": "text",
         "marker": {
          "color": "green",
          "size": 0.5
         },
         "mode": "markers",
         "text": "Microstrategy appears with AWS 2 times",
         "type": "scatter",
         "uid": "f130a3fd-3750-478b-b5da-f5a3742c876c",
         "x": [
          -0.07327832300529462
         ],
         "y": [
          -0.8970118657952812
         ]
        },
        {
         "hoverinfo": "text",
         "marker": {
          "color": "blue",
          "size": 0.5
         },
         "mode": "markers",
         "text": "AWS appears with Microstrategy 2 times",
         "type": "scatter",
         "uid": "48a0185a-12d4-48bc-9321-e27a994cd42b",
         "x": [
          0.8947634302303595
         ],
         "y": [
          -0.09694536565716094
         ]
        },
        {
         "hoverinfo": "text",
         "marker": {
          "color": "green",
          "size": 0.5
         },
         "mode": "markers",
         "text": "Oracle BI appears with Python 145 times",
         "type": "scatter",
         "uid": "66c156bc-66ab-4813-ad53-b2fdf5ab6a37",
         "x": [
          0.17985355851965565
         ],
         "y": [
          -0.8818461869781016
         ]
        },
        {
         "hoverinfo": "text",
         "marker": {
          "color": "blue",
          "size": 0.5
         },
         "mode": "markers",
         "text": "Python appears with Oracle BI 145 times",
         "type": "scatter",
         "uid": "30e7e986-1398-4db5-a2be-36ba44c25c8a",
         "x": [
          0.7476969788983476
         ],
         "y": [
          -0.5009483284194927
         ]
        },
        {
         "hoverinfo": "text",
         "marker": {
          "color": "green",
          "size": 0.5
         },
         "mode": "markers",
         "text": "Oracle BI appears with VBA 67 times",
         "type": "scatter",
         "uid": "9c8e8c68-faa7-41a0-9904-226f1d73f0b8",
         "x": [
          0.0816749092622201
         ],
         "y": [
          -0.8962863433060934
         ]
        },
        {
         "hoverinfo": "text",
         "marker": {
          "color": "blue",
          "size": 0.5
         },
         "mode": "markers",
         "text": "VBA appears with Oracle BI 67 times",
         "type": "scatter",
         "uid": "74026399-8f5d-4a3a-b547-1ca9454d2cf3",
         "x": [
          0.8429419638611602
         ],
         "y": [
          -0.31535511025174534
         ]
        },
        {
         "hoverinfo": "text",
         "marker": {
          "color": "green",
          "size": 0.5
         },
         "mode": "markers",
         "text": "Oracle BI appears with Linux 3 times",
         "type": "scatter",
         "uid": "623f3279-5b71-4cf5-b882-92e4574a50d2",
         "x": [
          0.0035352780848565287
         ],
         "y": [
          -0.899993056533695
         ]
        },
        {
         "hoverinfo": "text",
         "marker": {
          "color": "blue",
          "size": 0.5
         },
         "mode": "markers",
         "text": "Linux appears with Oracle BI 3 times",
         "type": "scatter",
         "uid": "c90e0498-6906-44c6-9140-a3e75a59f9a8",
         "x": [
          0.8711784256621072
         ],
         "y": [
          -0.22593837801686617
         ]
        },
        {
         "hoverinfo": "text",
         "marker": {
          "color": "green",
          "size": 0.5
         },
         "mode": "markers",
         "text": "Oracle BI appears with AWS 44 times",
         "type": "scatter",
         "uid": "04c2e015-911d-4f99-b8be-218b20386e5a",
         "x": [
          0.04140285025440064
         ],
         "y": [
          -0.8990471644973982
         ]
        },
        {
         "hoverinfo": "text",
         "marker": {
          "color": "blue",
          "size": 0.5
         },
         "mode": "markers",
         "text": "AWS appears with Oracle BI 44 times",
         "type": "scatter",
         "uid": "73573655-2ea9-49b6-b584-ba33cd09d9da",
         "x": [
          0.8973753872259713
         ],
         "y": [
          -0.06868343614757516
         ]
        },
        {
         "hoverinfo": "text",
         "marker": {
          "color": "green",
          "size": 0.5
         },
         "mode": "markers",
         "text": "Python appears with VBA 60 times",
         "type": "scatter",
         "uid": "0f782d6c-6532-4096-8ff1-5227fb75b2b8",
         "x": [
          0.6294492232620166
         ],
         "y": [
          -0.6432679654194231
         ]
        },
        {
         "hoverinfo": "text",
         "marker": {
          "color": "blue",
          "size": 0.5
         },
         "mode": "markers",
         "text": "VBA appears with Python 60 times",
         "type": "scatter",
         "uid": "b86a0738-052d-48ae-bba1-54ad788d0364",
         "x": [
          0.8341296906914696
         ],
         "y": [
          -0.33797582621683653
         ]
        },
        {
         "hoverinfo": "text",
         "marker": {
          "color": "green",
          "size": 0.5
         },
         "mode": "markers",
         "text": "Python appears with Linux 87 times",
         "type": "scatter",
         "uid": "b5fd6b33-3228-4ff1-a15c-1757b2df3db0",
         "x": [
          0.6643407984787728
         ],
         "y": [
          -0.6071666192047999
         ]
        },
        {
         "hoverinfo": "text",
         "marker": {
          "color": "blue",
          "size": 0.5
         },
         "mode": "markers",
         "text": "Linux appears with Python 87 times",
         "type": "scatter",
         "uid": "b0ae88d0-960a-4bfd-aaa0-d7aea6ae5b83",
         "x": [
          0.8900917078624677
         ],
         "y": [
          -0.13317939628364245
         ]
        },
        {
         "hoverinfo": "text",
         "marker": {
          "color": "green",
          "size": 0.5
         },
         "mode": "markers",
         "text": "Python appears with AWS 82 times",
         "type": "scatter",
         "uid": "3e2d34b7-ff86-4f60-9878-2eac7490801b",
         "x": [
          0.6516730527372359
         ],
         "y": [
          -0.6207432902062913
         ]
        },
        {
         "hoverinfo": "text",
         "marker": {
          "color": "blue",
          "size": 0.5
         },
         "mode": "markers",
         "text": "AWS appears with Python 82 times",
         "type": "scatter",
         "uid": "78568999-f7b2-41e5-917f-c978db5aab86",
         "x": [
          0.8993132842836102
         ],
         "y": [
          -0.03515134010285281
         ]
        },
        {
         "hoverinfo": "text",
         "marker": {
          "color": "green",
          "size": 0.5
         },
         "mode": "markers",
         "text": "VBA appears with Linux 1 times",
         "type": "scatter",
         "uid": "76187707-caec-4e39-925c-05fb429c4fdd",
         "x": [
          0.8194358007413332
         ],
         "y": [
          -0.37218942551261475
         ]
        },
        {
         "hoverinfo": "text",
         "marker": {
          "color": "blue",
          "size": 0.5
         },
         "mode": "markers",
         "text": "Linux appears with VBA 1 times",
         "type": "scatter",
         "uid": "8fb4e47c-9e53-4c31-ad9b-ed7d995ed738",
         "x": [
          0.8709443987697824
         ],
         "y": [
          -0.22683882880041156
         ]
        },
        {
         "hoverinfo": "text",
         "marker": {
          "color": "green",
          "size": 0.5
         },
         "mode": "markers",
         "text": "VBA appears with AWS 5 times",
         "type": "scatter",
         "uid": "573531d1-b20d-494a-a909-a8f87690a773",
         "x": [
          0.8199151067024026
         ],
         "y": [
          -0.3711323453987644
         ]
        },
        {
         "hoverinfo": "text",
         "marker": {
          "color": "blue",
          "size": 0.5
         },
         "mode": "markers",
         "text": "AWS appears with VBA 5 times",
         "type": "scatter",
         "uid": "77e3c2e0-bac0-4dd8-a3cb-79dea090af6e",
         "x": [
          0.8949160787332692
         ],
         "y": [
          -0.09552597565410782
         ]
        },
        {
         "hoverinfo": "text",
         "marker": {
          "color": "green",
          "size": 0.5
         },
         "mode": "markers",
         "text": "Linux appears with AWS 23 times",
         "type": "scatter",
         "uid": "867a4b2a-9179-4e67-ad08-8aa4d0b92ce1",
         "x": [
          0.8741802375212253
         ],
         "y": [
          -0.21403016686283752
         ]
        },
        {
         "hoverinfo": "text",
         "marker": {
          "color": "blue",
          "size": 0.5
         },
         "mode": "markers",
         "text": "AWS appears with Linux 23 times",
         "type": "scatter",
         "uid": "7d5ab59f-fb82-4d0e-b74e-c1ef9879503d",
         "x": [
          0.8960561773865201
         ],
         "y": [
          -0.08416250333406947
         ]
        }
       ],
       "layout": {
        "autosize": false,
        "font": {
         "color": "#655643",
         "family": "Fira Sans Condensed",
         "size": 12
        },
        "height": 525,
        "hidesources": true,
        "hoverdistance": 40,
        "hovermode": "closest",
        "margin": {
         "b": 10,
         "l": 280,
         "r": 280,
         "t": 80
        },
        "paper_bgcolor": "#fffaf0",
        "plot_bgcolor": "#fffaf0",
        "shapes": [
         {
          "fillcolor": "#f2e6ce",
          "layer": "below",
          "line": {
           "color": "rgb(175,175,175)",
           "width": 0.5
          },
          "path": "M 0.9739678763129654,0.22668607348139436 Q 0.18396499711177883, 0.07846578768905088 0.8377479193943368, 0.5460571614313466L 0.8377479193943368, 0.5460571614313466 L 0.8508468155132909, 0.5254138335929993 L 0.8634371366126378, 0.5044564511612168 M 0.8634371366126378,0.5044564511612168 Q 0.18410547600477306, 0.07813561099176186 0.9627006435487514, 0.2705687914575884L 0.9627006435487514, 0.2705687914575884 L 0.9685828112196126, 0.24869124996652425 L 0.9739678763129654, 0.22668607348139436 ",
          "type": "path"
         },
         {
          "fillcolor": "#f2e6ce",
          "layer": "below",
          "line": {
           "color": "rgb(175,175,175)",
           "width": 0.5
          },
          "path": "M 0.9981326759477839,0.06108323178513274 Q 0.14534680350125206, 0.13738379348368723 0.11716596300587404, 0.9931123486861424L 0.11716596300587404, 0.9931123486861424 L 0.13144133674968858, 0.9913239505799579 L 0.14568950415267073, 0.9893303636196298 M 0.14568950415267073,0.9893303636196298 Q 0.1454428946070214, 0.13728206149505068 0.9960867782891534, 0.08838059808314858L 0.9960867782891534, 0.08838059808314858 L 0.9972031360088921, 0.07473891579378866 L 0.9981326759477839, 0.06108323178513274 ",
          "type": "path"
         },
         {
          "fillcolor": "#f2e6ce",
          "layer": "below",
          "line": {
           "color": "rgb(175,175,175)",
           "width": 0.5
          },
          "path": "M 0.9960867782891534,0.08838059808314858 Q 0.09679474814802908, 0.17501650416734882 -0.4545974425979596, 0.890697010875974L -0.4545974425979596, 0.890697010875974 L -0.4412969512904212, 0.8973611317534205 L -0.4278987949764746, 0.9038266544297534 M -0.4278987949764746,0.9038266544297534 Q 0.09687898800145255, 0.17496988793450838 0.9931297864276837, 0.1170180640333081L 0.9931297864276837, 0.1170180640333081 L 0.9947113457933288, 0.10270997298229993 L 0.9960867782891534, 0.08838059808314858 ",
          "type": "path"
         },
         {
          "fillcolor": "#f2e6ce",
          "layer": "below",
          "line": {
           "color": "rgb(175,175,175)",
           "width": 0.5
          },
          "path": "M 1.0,0.0 Q 0.07248305372959596, 0.18640334471793285 -0.7373103461016253, 0.6755541825283162L -0.7373103461016253, 0.6755541825283162 L -0.7369410231291343, 0.6759570462902096 L -0.736571480033341, 0.6763597081446332 M -0.736571480033341,0.6763597081446332 Q 0.07247495622003668, 0.18640649323696792 0.9999993038620194, 0.0011799472346146406L 0.9999993038620194, 0.0011799472346146406 L 0.9999998259654898, 0.0005899737199831078 L 1.0, 0.0 ",
          "type": "path"
         },
         {
          "fillcolor": "#f2e6ce",
          "layer": "below",
          "line": {
           "color": "rgb(175,175,175)",
           "width": 0.5
          },
          "path": "M 0.9994226508103302,0.03397594806996323 Q 0.04512180047030203, 0.19484358630018658 -0.8827472744453018, 0.46984811318062264L -0.8827472744453018, 0.46984811318062264 L -0.8804273875462261, 0.47418099419791954 L -0.8780862332781325, 0.4785024210256632 M -0.8780862332781325,0.4785024210256632 Q 0.04511382619424281, 0.19484543280794564 0.9990368109671501, 0.04387995365296975L 0.9990368109671501, 0.04387995365296975 L 0.9992420014309001, 0.03892842889674454 L 0.9994226508103302, 0.03397594806996323 ",
          "type": "path"
         },
         {
          "fillcolor": "#f2e6ce",
          "layer": "below",
          "line": {
           "color": "rgb(175,175,175)",
           "width": 0.5
          },
          "path": "M 0.9999928715547213,0.0037758230549919934 Q 0.026486130611575627, 0.19823845460764308 -0.9639261047640945, 0.26616999183664564L -0.9639261047640945, 0.26616999183664564 L -0.9637723483981169, 0.26672619005860454 L -0.9636182710983738, 0.26728229946141374 M -0.9636182710983738,0.26728229946141374 Q 0.026436787465643333, 0.19824504096823306 0.9999852697547862, 0.005427731887952778L 0.9999852697547862, 0.005427731887952778 L 0.9999894117587727, 0.004601779041174332 L 0.9999928715547213, 0.0037758230549919934 ",
          "type": "path"
         },
         {
          "fillcolor": "#f2e6ce",
          "layer": "below",
          "line": {
           "color": "rgb(175,175,175)",
           "width": 0.5
          },
          "path": "M 0.9999852697547862,0.005427731887952778 Q 0.017793127984506895, 0.19920693912744847 -0.9831937990214045, 0.18256492972599667L -0.9831937990214045, 0.18256492972599667 L -0.9830453311240386, 0.18336269237560104 L -0.9828962159228173, 0.18416033428674755 M -0.9828962159228173,0.18416033428674755 Q 0.017766733387809094, 0.1992092949255293 0.9999732405722687, 0.007315609297645914L 0.9999732405722687, 0.007315609297645914 L 0.9999797006828096, 0.006371673431560345 L 0.9999852697547862, 0.005427731887952778 ",
          "type": "path"
         },
         {
          "fillcolor": "#f2e6ce",
          "layer": "below",
          "line": {
           "color": "rgb(175,175,175)",
           "width": 0.5
          },
          "path": "M 0.9999485140707918,0.0101473744197971 Q 0.002594435612261291, 0.1999831715516429 -0.9993487316475472, 0.036084796721593426L -0.9993487316475472, 0.036084796721593426 L -0.9992648079648633, 0.03833853887337022 L -0.9991758016247866, 0.040592086020122396 M -0.9991758016247866,0.040592086020122396 Q 0.0025499222689394554, 0.19998374408041864 0.9998859469081189, 0.015102753909612191L 0.9998859469081189, 0.015102753909612191 L 0.9999203002120592, 0.012625102923357522 L 0.9999485140707918, 0.0101473744197971 ",
          "type": "path"
         },
         {
          "fillcolor": "#f2e6ce",
          "layer": "below",
          "line": {
           "color": "rgb(175,175,175)",
           "width": 0.5
          },
          "path": "M 0.9997940615847689,0.020293703945592146 Q -0.016950561787047413, 0.19928040158305454 -0.9888584629717494, -0.14885879285131026L -0.9888584629717494, -0.14885879285131026 L -0.9892744288780082, -0.1460688343490516 L -0.9896825232304424, -0.14327771359225758 M -0.9896825232304424,-0.14327771359225758 Q -0.016999796585667474, 0.19927620760152462 0.9996507261002942, 0.02642774691786453L 0.9996507261002942, 0.02642774691786453 L 0.9997270984478905, 0.023360835365240615 L 0.9997940615847689, 0.020293703945592146 ",
          "type": "path"
         },
         {
          "fillcolor": "#f2e6ce",
          "layer": "below",
          "line": {
           "color": "rgb(175,175,175)",
           "width": 0.5
          },
          "path": "M 0.9999732405722687,0.007315609297645914 Q -0.03151047516711252, 0.19750212645625564 -0.952605459764414, -0.30420854364568634L -0.952605459764414, -0.30420854364568634 L -0.9530022697774435, -0.30296315584414024 L -0.9533974516347337, -0.30171725044550524 M -0.9533974516347337,-0.30171725044550524 Q -0.03153197514528727, 0.19749869504236475 0.9999485140707918, 0.0101473744197971L 0.9999485140707918, 0.0101473744197971 L 0.9999618797219577, 0.008731500611515113 L 0.9999732405722687, 0.007315609297645914 ",
          "type": "path"
         },
         {
          "fillcolor": "#f2e6ce",
          "layer": "below",
          "line": {
           "color": "rgb(175,175,175)",
           "width": 0.5
          },
          "path": "M 0.9885450145831867,0.1509263202451023 Q -0.07760168698066129, 0.184331164423587 -0.7988386251939646, -0.6015453855680521L -0.7988386251939646, -0.6015453855680521 L -0.8102335196254297, -0.5861071946968306 L -0.8213301011805728, -0.5704532100836229 M -0.8213301011805728,-0.5704532100836229 Q -0.07747942685490543, 0.18438258706894034 0.9822759962167948, 0.18744030318024782L 0.9822759962167948, 0.18744030318024782 L 0.9855796172253728, 0.16921234620998468 L 0.9885450145831867, 0.1509263202451023 ",
          "type": "path"
         },
         {
          "fillcolor": "#f2e6ce",
          "layer": "below",
          "line": {
           "color": "rgb(175,175,175)",
           "width": 0.5
          },
          "path": "M 0.9822759962167948,0.18744030318024782 Q -0.1264435111168029, 0.15495818305741374 -0.3806766291523075, -0.9247082264245499L -0.3806766291523075, -0.9247082264245499 L -0.40011270083462996, -0.916465944064927 L -0.41937044384625544, -0.9078151964073936 M -0.41937044384625544,-0.9078151964073936 Q -0.12628030105594218, 0.15509121691836908 0.9739678763129654, 0.22668607348139436L 0.9739678763129654, 0.22668607348139436 L 0.9783187516470236, 0.20710485309574275 L 0.9822759962167948, 0.18744030318024782 ",
          "type": "path"
         },
         {
          "fillcolor": "#f2e6ce",
          "layer": "below",
          "line": {
           "color": "rgb(175,175,175)",
           "width": 0.5
          },
          "path": "M 0.9998859469081189,0.015102753909612191 Q -0.1381691188708267, 0.14460046538811475 -0.0605466809546072, -0.9981653667731519L -0.0605466809546072, -0.9981653667731519 L -0.06237017458800767, -0.9980530854227452 L -0.06419346004622282, -0.9979374728344927 M -0.06419346004622282,-0.9979374728344927 Q -0.1382802666675996, 0.1444941792956988 0.9997940615847689, 0.020293703945592146L 0.9997940615847689, 0.020293703945592146 L 0.9998433730250443, 0.017698288558557745 L 0.9998859469081189, 0.015102753909612191 ",
          "type": "path"
         },
         {
          "fillcolor": "#f2e6ce",
          "layer": "below",
          "line": {
           "color": "rgb(175,175,175)",
           "width": 0.5
          },
          "path": "M 0.9931297864276837,0.1170180640333081 Q -0.16519903447263234, 0.1127354381253297 0.25306564263973247, -0.9674491100390444L 0.25306564263973247, -0.9674491100390444 L 0.2353990253957866, -0.971898811010032 L 0.21765427704879925, -0.9760259298207014 M 0.21765427704879925,-0.9760259298207014 Q -0.165073865437927, 0.11291863862702729 0.9885450145831867, 0.1509263202451023L 0.9885450145831867, 0.1509263202451023 L 0.9909824401573417, 0.13399180310675962 L 0.9931297864276837, 0.1170180640333081 ",
          "type": "path"
         },
         {
          "fillcolor": "#f2e6ce",
          "layer": "below",
          "line": {
           "color": "rgb(175,175,175)",
           "width": 0.5
          },
          "path": "M 0.9990368109671501,0.04387995365296975 Q -0.18692409025282591, 0.07112935036363963 0.7171403135021013, -0.6969288132586483L 0.7171403135021013, -0.6969288132586483 L 0.7109007661036258, -0.703292329514035 L 0.7046047544941217, -0.7095999858682908 M 0.7046047544941217,-0.7095999858682908 Q -0.18690284585849778, 0.07118515442137234 0.9981326759477839, 0.06108323178513274L 0.9981326759477839, 0.06108323178513274 L 0.9986217892979495, 0.052483539699239835 L 0.9990368109671501, 0.04387995365296975 ",
          "type": "path"
         },
         {
          "fillcolor": "#f2e6ce",
          "layer": "below",
          "line": {
           "color": "rgb(175,175,175)",
           "width": 0.5
          },
          "path": "M 0.9996507261002942,0.02642774691786453 Q -0.19654097385865874, 0.037035734023913046 0.9214739700338286, -0.3884401144965525L 0.9214739700338286, -0.3884401144965525 L 0.920132670453477, -0.3916067782408178 L 0.918780488607726, -0.39476881051287266 M 0.918780488607726,-0.39476881051287266 Q -0.19655343680753945, 0.03696953447292236 0.9994226508103302, 0.03397594806996323L 0.9994226508103302, 0.03397594806996323 L 0.9995438136486914, 0.030202062787665764 L 0.9996507261002942, 0.02642774691786453 ",
          "type": "path"
         },
         {
          "fillcolor": "#f2e6ce",
          "layer": "below",
          "line": {
           "color": "rgb(175,175,175)",
           "width": 0.5
          },
          "path": "M 0.9999972154490471,0.0023598928264171115 Q -0.19844144366676353, 0.024919739875261835 0.9683641337546735, -0.2495413882656762L 0.9683641337546735, -0.2495413882656762 L 0.9682091710049627, -0.2501419620573142 L 0.9680538357829251, -0.2507424396187558 M 0.9680538357829251,-0.2507424396187558 Q -0.1984436289805499, 0.024902331558106196 0.9999928715547213, 0.0037758230549919934L 0.9999928715547213, 0.0037758230549919934 L 0.9999952941103964, 0.003067858709539677 L 0.9999972154490471, 0.0023598928264171115 ",
          "type": "path"
         },
         {
          "fillcolor": "#f2e6ce",
          "layer": "below",
          "line": {
           "color": "rgb(175,175,175)",
           "width": 0.5
          },
          "path": "M 0.9999993038620194,0.0011799472346146406 Q -0.19973090303775376, 0.010371420911495474 0.9944987763824562, -0.10474819222209716L 0.9944987763824562, -0.10474819222209716 L 0.9944498002223718, -0.10521214206394962 L 0.994400607622158, -0.10567606900657803 M 0.994400607622158,-0.10567606900657803 Q -0.1997321818265735, 0.010346764846877542 0.9999972154490471, 0.0023598928264171115L 0.9999972154490471, 0.0023598928264171115 L 0.9999984336897709, 0.0017699203385430956 L 0.9999993038620194, 0.0011799472346146406 ",
          "type": "path"
         },
         {
          "fillcolor": "#ecd5bb",
          "layer": "below",
          "line": {
           "color": "rgb(175,175,175)",
           "width": 0.5
          },
          "path": "M 0.5569878950159335,0.8305206107049478 Q 0.0347484921646123, 0.1969582247388666 -0.23915672049366066, 0.9709809797533199L -0.23915672049366066, 0.9709809797533199 L -0.17327187661809726, 0.9848740309162604 L -0.10660144759279575, 0.994301831121275 M -0.10660144759279575,0.994301831121275 Q 0.034394181333452185, 0.19702040577158908 0.4371833239244869, 0.8993724152331654L 0.4371833239244869, 0.8993724152331654 L 0.4982762746600206, 0.8670183124426679 L 0.5569878950159335, 0.8305206107049478 ",
          "type": "path"
         },
         {
          "fillcolor": "#ecd5bb",
          "layer": "below",
          "line": {
           "color": "rgb(175,175,175)",
           "width": 0.5
          },
          "path": "M 0.8046461301534307,0.5937546675430083 Q 0.026169232770223844, 0.1982805367559253 -0.6230487091393397, 0.782183038706288L -0.6230487091393397, 0.782183038706288 L -0.598917951140477, 0.8008103944141168 L -0.5742306355418135, 0.8186935795554067 M -0.5742306355418135,0.8186935795554067 Q 0.02590160820066815, 0.19831567434930375 0.765237217645277, 0.643748398623651L 0.765237217645277, 0.643748398623651 L 0.7853395919669148, 0.6190652027769286 L 0.8046461301534307, 0.5937546675430083 ",
          "type": "path"
         },
         {
          "fillcolor": "#ecd5bb",
          "layer": "below",
          "line": {
           "color": "rgb(175,175,175)",
           "width": 0.5
          },
          "path": "M 0.9371815033268223,0.3488421273614719 Q 0.04457487288715003, 0.19496943531511401 -0.6924915297753537, 0.7214260053459332L -0.6924915297753537, 0.7214260053459332 L -0.6880293714441686, 0.7256828398344157 L -0.6835410463261212, 0.7299120755182719 M -0.6835410463261212,0.7299120755182719 Q 0.04421305425594474, 0.19505180294824473 0.9314640435561575, 0.3638333898393778L 0.9314640435561575, 0.3638333898393778 L 0.9343528399159859, 0.3563492255371575 L 0.9371815033268223, 0.3488421273614719 ",
          "type": "path"
         },
         {
          "fillcolor": "#ecd5bb",
          "layer": "below",
          "line": {
           "color": "rgb(175,175,175)",
           "width": 0.5
          },
          "path": "M 0.9097335250382377,0.41519262207016905 Q 0.01610136122369564, 0.19935081180357425 -0.8313062625596327, 0.5558146254185249L -0.8313062625596327, 0.5558146254185249 L -0.8246252039874977, 0.5656794789883913 L -0.8178270883176916, 0.5754640332929649 M -0.8178270883176916,0.5754640332929649 Q 0.015709501618873883, 0.19938207431684174 0.8978587961020033, 0.44028352485899513L 0.8978587961020033, 0.44028352485899513 L 0.903883227088533, 0.4277792792878349 L 0.9097335250382377, 0.41519262207016905 ",
          "type": "path"
         },
         {
          "fillcolor": "#ecd5bb",
          "layer": "below",
          "line": {
           "color": "rgb(175,175,175)",
           "width": 0.5
          },
          "path": "M 0.8846993220736487,0.46616210648488626 Q -0.018024218653649195, 0.19918616302827225 -0.9540087758910363, 0.2997786775654443L -0.9540087758910363, 0.2997786775654443 L -0.9477821541642685, 0.3189184664577121 L -0.9411715836719114, 0.3379290607339154 M -0.9411715836719114,0.3379290607339154 Q -0.01837770824181782, 0.19915385971599603 0.8634371366126378, 0.5044564511612168L 0.8634371366126378, 0.5044564511612168 L 0.8742779213474426, 0.48542570620476516 L 0.8846993220736487, 0.46616210648488626 ",
          "type": "path"
         },
         {
          "fillcolor": "#ecd5bb",
          "layer": "below",
          "line": {
           "color": "rgb(175,175,175)",
           "width": 0.5
          },
          "path": "M 0.9470767826786616,0.3210071147358501 Q -0.009361327789451254, 0.19978079372657034 -0.9729445465691484, 0.23103876146948615L -0.9729445465691484, 0.23103876146948615 L -0.9719064173739771, 0.23536761856143384 L -0.9708490281854044, 0.23969181144014062 M -0.9708490281854044,0.23969181144014062 Q -0.009845709274042137, 0.19975750801632225 0.9425726748309797, 0.3340011267375789L 0.9425726748309797, 0.3340011267375789 L 0.9448470665423032, 0.32751186367275975 L 0.9470767826786616, 0.3210071147358501 ",
          "type": "path"
         },
         {
          "fillcolor": "#ecd5bb",
          "layer": "below",
          "line": {
           "color": "rgb(175,175,175)",
           "width": 0.5
          },
          "path": "M 0.9425726748309797,0.3340011267375789 Q -0.025686037924325264, 0.19834371040128831 -0.9965596731836655, 0.08287833120946558L -0.9965596731836655, 0.08287833120946558 L -0.9960187633421063, 0.08914383360873251 L -0.9954384618511168, 0.095405810449273 M -0.9954384618511168,0.095405810449273 Q -0.026004584200967712, 0.19830219766945292 0.9371815033268223, 0.3488421273614719L 0.9371815033268223, 0.3488421273614719 L 0.9399063817212372, 0.34143226795323844 L 0.9425726748309797, 0.3340011267375789 ",
          "type": "path"
         },
         {
          "fillcolor": "#ecd5bb",
          "layer": "below",
          "line": {
           "color": "rgb(175,175,175)",
           "width": 0.5
          },
          "path": "M 0.925023777048842,0.3799092153321557 Q -0.040407295275148455, 0.1958755995231335 -0.9998525044624069, -0.01717467089211526L -0.9998525044624069, -0.01717467089211526 L -0.9999574199905799, -0.009228120381918456 L -0.9999991795357703, -0.0012809870358911444 M -0.9999991795357703,-0.0012809870358911444 Q -0.04069632858966668, 0.1958157522757602 0.9177000975883661, 0.3972738739035116L 0.9177000975883661, 0.3972738739035116 L 0.9214028447868589, 0.3886087976599137 L 0.925023777048842, 0.3799092153321557 ",
          "type": "path"
         },
         {
          "fillcolor": "#ecd5bb",
          "layer": "below",
          "line": {
           "color": "rgb(175,175,175)",
           "width": 0.5
          },
          "path": "M 0.9177000975883661,0.3972738739035116 Q -0.06103391338193914, 0.19045960573645518 -0.9776775051598583, -0.21011115130900399L -0.9776775051598583, -0.21011115130900399 L -0.9793986179411897, -0.2019364929250967 L -0.9810513811678109, -0.19374774194485653 M -0.9810513811678109,-0.19374774194485653 Q -0.06131024413013461, 0.19037083275728794 0.9097335250382377, 0.41519262207016905L 0.9097335250382377, 0.41519262207016905 L 0.9137607354556844, 0.4062527764083426 L 0.9177000975883661, 0.3972738739035116 ",
          "type": "path"
         },
         {
          "fillcolor": "#ecd5bb",
          "layer": "below",
          "line": {
           "color": "rgb(175,175,175)",
           "width": 0.5
          },
          "path": "M 0.8978587961020033,0.44028352485899513 Q -0.08513280008421445, 0.18097625907787238 -0.9116657692796083, -0.4109325067743121L -0.9116657692796083, -0.4109325067743121 L -0.9166979977624904, -0.3995807564163233 L -0.9215888846515172, -0.3881673964757634 M -0.9215888846515172,-0.3881673964757634 Q -0.08551255694084804, 0.1807971310763482 0.8846993220736487, 0.46616210648488626L 0.8846993220736487, 0.46616210648488626 L 0.8913729782841874, 0.4532705743645595 L 0.8978587961020033, 0.44028352485899513 ",
          "type": "path"
         },
         {
          "fillcolor": "#ecd5bb",
          "layer": "below",
          "line": {
           "color": "rgb(175,175,175)",
           "width": 0.5
          },
          "path": "M 0.7106503335346519,0.7035453812278836 Q -0.1485870833601851, 0.13387262101906203 -0.6258962897293974, -0.7799062985403915L -0.6258962897293974, -0.7799062985403915 L -0.6611546252350904, -0.75024966613138 L -0.6950095502517812, -0.7190005042131867 M -0.6950095502517812,-0.7190005042131867 Q -0.14884522394343588, 0.13358555052560295 0.639931057331499, 0.7684323274450325L 0.639931057331499, 0.7684323274450325 L 0.6760695986995965, 0.7368377689248607 L 0.7106503335346519, 0.7035453812278836 ",
          "type": "path"
         },
         {
          "fillcolor": "#ecd5bb",
          "layer": "below",
          "line": {
           "color": "rgb(175,175,175)",
           "width": 0.5
          },
          "path": "M 0.639931057331499,0.7684323274450325 Q -0.1839187955306126, 0.07857402020113723 -0.11285168024223727, -0.9936118448702712L -0.11285168024223727, -0.9936118448702712 L -0.16290768266863595, -0.9866413162479741 L -0.21254758765253712, -0.9771507166159614 M -0.21254758765253712,-0.9771507166159614 Q -0.1840194216096423, 0.0783380652713144 0.5569878950159335, 0.8305206107049478L 0.5569878950159335, 0.8305206107049478 L 0.5992641181913528, 0.80055138289078 L 0.639931057331499, 0.7684323274450325 ",
          "type": "path"
         },
         {
          "fillcolor": "#ecd5bb",
          "layer": "below",
          "line": {
           "color": "rgb(175,175,175)",
           "width": 0.5
          },
          "path": "M 0.953726837772754,0.300674440070956 Q -0.15858715202167817, 0.12186104879596736 -0.04495648129457773, -0.9989889462799928L -0.04495648129457773, -0.9989889462799928 L -0.04794280375951128, -0.9988500826288582 L -0.05092869774019184, -0.9987022918500228 M -0.05092869774019184,-0.9987022918500228 Q -0.15878127643132753, 0.12160800242927419 0.9509300858879128, 0.30940583665019417L 0.9509300858879128, 0.30940583665019417 L 0.9523384684730974, 0.30504334358630925 L 0.953726837772754, 0.300674440070956 ",
          "type": "path"
         },
         {
          "fillcolor": "#ecd5bb",
          "layer": "below",
          "line": {
           "color": "rgb(175,175,175)",
           "width": 0.5
          },
          "path": "M 0.4371833239244869,0.8993724152331654 Q -0.1987632049441922, -0.022207844567022864 0.6248987326672854, -0.7807058177769785L 0.6248987326672854, -0.7807058177769785 L 0.5683627441159965, -0.8227780934741361 L 0.509004042024363, -0.8607641286687431 M 0.509004042024363,-0.8607641286687431 Q -0.19874201928220717, -0.022396646437152064 0.3046682554762168, 0.9524585314359248L 0.3046682554762168, 0.9524585314359248 L 0.3718742736439331, 0.9282831058474549 L 0.4371833239244869, 0.8993724152331654 ",
          "type": "path"
         },
         {
          "fillcolor": "#ecd5bb",
          "layer": "below",
          "line": {
           "color": "rgb(175,175,175)",
           "width": 0.5
          },
          "path": "M 0.765237217645277,0.643748398623651 Q -0.19854605777591325, -0.0240720365080257 0.8969026979368081, -0.4422279394539367L 0.8969026979368081, -0.4422279394539367 L 0.8790626162386898, -0.47670632126246243 L 0.8598977631556413, -0.51046629361783 M 0.8598977631556413,-0.51046629361783 Q -0.19850555837757283, -0.024403755719315603 0.7106503335346519, 0.7035453812278836L 0.7106503335346519, 0.7035453812278836 L 0.7385492100829263, 0.6741995730389374 L 0.765237217645277, 0.643748398623651 ",
          "type": "path"
         },
         {
          "fillcolor": "#ecd5bb",
          "layer": "below",
          "line": {
           "color": "rgb(175,175,175)",
           "width": 0.5
          },
          "path": "M 0.8377479193943368,0.5460571614313466 Q -0.19788177152329367, -0.029031095377250474 0.9592924335644858, -0.28241463649380255L 0.9592924335644858, -0.28241463649380255 L 0.9520851520391348, -0.30583306437763996 L 0.9443062693679498, -0.32906787997673825 M 0.9443062693679498,-0.32906787997673825 Q -0.1977482224952333, -0.029927253465289894 0.8046461301534307, 0.5937546675430083L 0.8046461301534307, 0.5937546675430083 L 0.8215432529817263, 0.5701461948309428 L 0.8377479193943368, 0.5460571614313466 ",
          "type": "path"
         },
         {
          "fillcolor": "#ecd5bb",
          "layer": "below",
          "line": {
           "color": "rgb(175,175,175)",
           "width": 0.5
          },
          "path": "M 0.9314640435561575,0.3638333898393778 Q -0.19901953968155542, -0.019779353501613597 0.9848546474628369, -0.17338201570766004L 0.9848546474628369, -0.17338201570766004 L 0.9836115486933523, -0.18030064136620533 L 0.9823198470455414, -0.1872103578876558 M 0.9823198470455414,-0.1872103578876558 Q -0.19898704256062802, -0.0201036537220184 0.925023777048842, 0.3799092153321557L 0.925023777048842, 0.3799092153321557 L 0.9282787108702827, 0.3718852443227698 L 0.9314640435561575, 0.3638333898393778 ",
          "type": "path"
         },
         {
          "fillcolor": "#ecd5bb",
          "layer": "below",
          "line": {
           "color": "rgb(175,175,175)",
           "width": 0.5
          },
          "path": "M 0.9509300858879128,0.30940583665019417 Q -0.19820908718073638, -0.02670501374235287 0.998908911020888, -0.04670104370422384L 0.998908911020888, -0.04670104370422384 L 0.9986897350672457, -0.05117433996950759 L 0.9984505269778688, -0.05564660975851109 M 0.9984505269778688,-0.05564660975851109 Q -0.19816519726720058, -0.02702877341004377 0.9470767826786616, 0.3210071147358501L 0.9470767826786616, 0.3210071147358501 L 0.9490211618793222, 0.3152123638203638 L 0.9509300858879128, 0.30940583665019417 ",
          "type": "path"
         },
         {
          "fillcolor": "#e6c4a9",
          "layer": "below",
          "line": {
           "color": "rgb(175,175,175)",
           "width": 0.5
          },
          "path": "M -0.04477611221763142,0.9989970469299067 Q -0.06447314899390227, 0.18932303890126548 -0.5742306355418135, 0.8186935795554067L -0.5742306355418135, 0.8186935795554067 L -0.54900970357109, 0.8358159757893981 L -0.5232785923307273, 0.8521616717550564 M -0.5232785923307273,0.8521616717550564 Q -0.06457187387699949, 0.1892893898347524 -0.10660144759279575, 0.994301831121275L -0.10660144759279575, 0.994301831121275 L -0.07572517854988714, 0.9971287265612138 L -0.04477611221763142, 0.9989970469299067 ",
          "type": "path"
         },
         {
          "fillcolor": "#e6c4a9",
          "layer": "below",
          "line": {
           "color": "rgb(175,175,175)",
           "width": 0.5
          },
          "path": "M 0.22512879304311564,0.9743290134974685 Q -0.05195011391047462, 0.19313514870341109 -0.6835410463261212, 0.7299120755182719L -0.6835410463261212, 0.7299120755182719 L -0.680390914662222, 0.7328493728216631 L -0.6772281610358828, 0.7357730750033983 M -0.6772281610358828,0.7357730750033983 Q -0.05217219935145482, 0.19307527447819947 0.21448143636839317, 0.9767280652532468L 0.21448143636839317, 0.9767280652532468 L 0.21980838772244687, 0.9755430655213836 L 0.22512879304311564, 0.9743290134974685 ",
          "type": "path"
         },
         {
          "fillcolor": "#e6c4a9",
          "layer": "below",
          "line": {
           "color": "rgb(175,175,175)",
           "width": 0.5
          },
          "path": "M 0.19870600637041214,0.9800591426196287 Q -0.07057627937114727, 0.18713361213348545 -0.7964097299067887, 0.604757424187414L -0.7964097299067887, 0.604757424187414 L -0.7917591810830248, 0.6108333644871881 L -0.7870622789912497, 0.6168735437584435 M -0.7870622789912497,0.6168735437584435 Q -0.07076906349792149, 0.18706079132631498 0.18165943089209052, 0.9833615058400251L 0.18165943089209052, 0.9833615058400251 L 0.19018988634173892, 0.981747323466337 L 0.19870600637041214, 0.9800591426196287 ",
          "type": "path"
         },
         {
          "fillcolor": "#e6c4a9",
          "layer": "below",
          "line": {
           "color": "rgb(175,175,175)",
           "width": 0.5
          },
          "path": "M 0.11716596300587404,0.9931123486861424 Q -0.09942281303468202, 0.17353703998936557 -0.9159925119732474, 0.4011953614000793L -0.9159925119732474, 0.4011953614000793 L -0.9104139149601693, 0.41369856592318227 L -0.9046646600685101, 0.4261242222910206 M -0.9046646600685101,0.4261242222910206 Q -0.09956503409447064, 0.1734554812791078 0.08829833904483289, 0.996094073530168L 0.08829833904483289, 0.996094073530168 L 0.10274296825115296, 0.994707938278841 L 0.11716596300587404, 0.9931123486861424 ",
          "type": "path"
         },
         {
          "fillcolor": "#e6c4a9",
          "layer": "below",
          "line": {
           "color": "rgb(175,175,175)",
           "width": 0.5
          },
          "path": "M 0.24249331485346892,0.9701530767107717 Q -0.10268753224135561, 0.1716253790154025 -0.969530538669776, 0.24497047696956037L -0.969530538669776, 0.24497047696956037 L -0.9688605286598391, 0.24760710006980252 L -0.968183348408839, 0.2502418907054706 M -0.968183348408839,0.2502418907054706 Q -0.10292298359396107, 0.17148428338514649 0.23454384325028466, 0.972105542414704L 0.23454384325028466, 0.972105542414704 L 0.23852057685555686, 0.9711374436280852 L 0.24249331485346892, 0.9701530767107717 ",
          "type": "path"
         },
         {
          "fillcolor": "#e6c4a9",
          "layer": "below",
          "line": {
           "color": "rgb(175,175,175)",
           "width": 0.5
          },
          "path": "M 0.2578636838226611,0.966181308329553 Q -0.10860728124451198, 0.16794183058629403 -0.9869247264438735, 0.1611818362399605L -0.9869247264438735, 0.1611818362399605 L -0.9863963577843001, 0.16438438292571186 L -0.9858575969668948, 0.1675851977432963 M -0.9858575969668948,0.1675851977432963 Q -0.10872867639833408, 0.16786326259389323 0.2501863810583316, 0.9681976940340931L 0.2501863810583316, 0.9681976940340931 L 0.2540270331268359, 0.9671971187099233 L 0.2578636838226611, 0.966181308329553 ",
          "type": "path"
         },
         {
          "fillcolor": "#e6c4a9",
          "layer": "below",
          "line": {
           "color": "rgb(175,175,175)",
           "width": 0.5
          },
          "path": "M 0.2501863810583316,0.9681976940340931 Q -0.12061639965505766, 0.15953583965445323 -0.9997307719548263, 0.02320309476356688L -0.9997307719548263, 0.02320309476356688 L -0.9996451273852435, 0.026638680427908897 L -0.9995476764230642, 0.030073951473881644 M -0.9995476764230642,0.030073951473881644 Q -0.12070128698890098, 0.1594716254360724 0.24249331485346892, 0.9701530767107717L 0.24249331485346892, 0.9701530767107717 L 0.24634178811417506, 0.9691830185412407 L 0.2501863810583316, 0.9681976940340931 ",
          "type": "path"
         },
         {
          "fillcolor": "#e6c4a9",
          "layer": "below",
          "line": {
           "color": "rgb(175,175,175)",
           "width": 0.5
          },
          "path": "M 0.23454384325028466,0.972105542414704 Q -0.13675232666025527, 0.14594108795334793 -0.9852848803157962, -0.17092017031669235L -0.9852848803157962, -0.17092017031669235 L -0.9859992552914544, -0.16674971833468674 L -0.9866959779211237, -0.1625762810322503 M -0.9866959779211237,-0.1625762810322503 Q -0.13684071856771002, 0.14585821108827843 0.22512879304311564, 0.9743290134974685L 0.22512879304311564, 0.9743290134974685 L 0.22983900690514902, 0.9732286632158215 L 0.23454384325028466, 0.972105542414704 ",
          "type": "path"
         },
         {
          "fillcolor": "#e6c4a9",
          "layer": "below",
          "line": {
           "color": "rgb(175,175,175)",
           "width": 0.5
          },
          "path": "M 0.21448143636839317,0.9767280652532468 Q -0.1514797558010538, 0.13059051873108213 -0.9344785692391813, -0.35601938659670296L -0.9344785692391813, -0.35601938659670296 L -0.9369757438777878, -0.34939441235467134 L -0.9394259515157651, -0.3427519243107167 M -0.9394259515157651,-0.3427519243107167 Q -0.15160788752335855, 0.13044174347464338 0.19870600637041214, 0.9800591426196287L 0.19870600637041214, 0.9800591426196287 L 0.20660043496654026, 0.9784253984191316 L 0.21448143636839317, 0.9767280652532468 ",
          "type": "path"
         },
         {
          "fillcolor": "#e6c4a9",
          "layer": "below",
          "line": {
           "color": "rgb(175,175,175)",
           "width": 0.5
          },
          "path": "M 0.16406872325943544,0.9864489110177064 Q -0.16778183011177625, 0.10885429474459452 -0.8339498429707505, -0.551840248087307L -0.8339498429707505, -0.551840248087307 L -0.8389731295900215, -0.5441728473802465 L -0.8439259236381199, -0.5364597239416452 M -0.8439259236381199,-0.5364597239416452 Q -0.1677965878316989, 0.10883154465520994 0.14568950415267073, 0.9893303636196298L 0.14568950415267073, 0.9893303636196298 L 0.1548858145688196, 0.9879323784780785 L 0.16406872325943544, 0.9864489110177064 ",
          "type": "path"
         },
         {
          "fillcolor": "#e6c4a9",
          "layer": "below",
          "line": {
           "color": "rgb(175,175,175)",
           "width": 0.5
          },
          "path": "M 0.08829833904483289,0.996094073530168 Q -0.193248007667138, 0.05152870590924801 -0.41937044384625544, -0.9078151964073936L -0.41937044384625544, -0.9078151964073936 L -0.435313413200915, -0.9002789747002701 L -0.4511210118769426, -0.8924627906210564 M -0.4511210118769426,-0.8924627906210564 Q -0.19324682888587882, 0.05153312648725941 0.05316484970457265, 0.9985857493254598L 0.05316484970457265, 0.9985857493254598 L 0.07074256536806331, 0.9974946062235852 L 0.08829833904483289, 0.996094073530168 ",
          "type": "path"
         },
         {
          "fillcolor": "#e6c4a9",
          "layer": "below",
          "line": {
           "color": "rgb(175,175,175)",
           "width": 0.5
          },
          "path": "M 0.27054324521701256,0.9627078230010637 Q -0.19728001077668744, 0.03287244055360182 -0.056235812747739894, -0.9984175145522043L -0.056235812747739894, -0.9984175145522043 L -0.058391382955538536, -0.9982937675837407 L -0.0605466809546072, -0.9981653667731519 M -0.0605466809546072,-0.9981653667731519 Q -0.19731492671800818, 0.03266220590020012 0.26432879003379045, 0.9644326263452893L 0.26432879003379045, 0.9644326263452893 L 0.26743740811632555, 0.9635752346028938 L 0.27054324521701256, 0.9627078230010637 ",
          "type": "path"
         },
         {
          "fillcolor": "#e6c4a9",
          "layer": "below",
          "line": {
           "color": "rgb(175,175,175)",
           "width": 0.5
          },
          "path": "M 0.015733244197045138,0.9998762248533746 Q -0.1970763874482726, -0.034071946089684155 0.3505172563110134, -0.9365562732843122L 0.3505172563110134, -0.9365562732843122 L 0.3216445207610345, -0.946860497784338 L 0.2924694998626539, -0.9562748515202567 M 0.2924694998626539,-0.9562748515202567 Q -0.1970898325929568, -0.03399408608096808 -0.04477611221763142, 0.9989970469299067L -0.04477611221763142, 0.9989970469299067 L -0.014528086046364588, 0.9998944617887577 L 0.015733244197045138, 0.9998762248533746 ",
          "type": "path"
         },
         {
          "fillcolor": "#e6c4a9",
          "layer": "below",
          "line": {
           "color": "rgb(175,175,175)",
           "width": 0.5
          },
          "path": "M 0.05316484970457265,0.9985857493254598 Q -0.1763780429451024, -0.09429096439667813 0.8598977631556413, -0.51046629361783L 0.8598977631556413, -0.51046629361783 L 0.8503418587214601, -0.5262306749954173 L 0.8404969817377702, -0.5418162268608225 M 0.8404969817377702,-0.5418162268608225 Q -0.17635038461758223, -0.0943426830508377 0.015733244197045138, 0.9998762248533746L 0.015733244197045138, 0.9998762248533746 L 0.0344550891392124, 0.999406247144978 L 0.05316484970457265, 0.9985857493254598 ",
          "type": "path"
         },
         {
          "fillcolor": "#e6c4a9",
          "layer": "below",
          "line": {
           "color": "rgb(175,175,175)",
           "width": 0.5
          },
          "path": "M 0.18165943089209052,0.9833615058400251 Q -0.17292396163971757, -0.10048533968109724 0.9443062693679498, -0.32906787997673825L 0.9443062693679498, -0.32906787997673825 L 0.9417317660121279, -0.33636480327715435 L 0.9391008782022566, -0.34364158735483447 M 0.9391008782022566,-0.34364158735483447 Q -0.17280404808481956, -0.10069141455704836 0.16406872325943544, 0.9864489110177064L 0.16406872325943544, 0.9864489110177064 L 0.1728709696881986, 0.9849444795718497 L 0.18165943089209052, 0.9833615058400251 ",
          "type": "path"
         },
         {
          "fillcolor": "#e6c4a9",
          "layer": "below",
          "line": {
           "color": "rgb(175,175,175)",
           "width": 0.5
          },
          "path": "M 0.2746004746208199,0.9615584118180344 Q -0.1730581384783027, -0.1002540807469931 0.970743209739482, -0.2401200132114938L 0.970743209739482, -0.2401200132114938 L 0.9703197343057499, -0.24182558428921205 L 0.9698932622295613, -0.24353040853597618 M 0.9698932622295613,-0.24353040853597618 Q -0.17302292912293038, -0.10031483438515665 0.27054324521701256, 0.9627078230010637L 0.27054324521701256, 0.9627078230010637 L 0.27257246578877736, 0.962135256028915 L 0.2746004746208199, 0.9615584118180344 ",
          "type": "path"
         },
         {
          "fillcolor": "#e6c4a9",
          "layer": "below",
          "line": {
           "color": "rgb(175,175,175)",
           "width": 0.5
          },
          "path": "M 0.26432879003379045,0.9644326263452893 Q -0.16411144034675926, -0.1143128826830646 0.996264126676301, -0.08635849638516838L 0.996264126676301, -0.08635849638516838 L 0.9960434068332478, -0.08886805783867073 L 0.9958163654852337, -0.09137705528074082 M 0.9958163654852337,-0.09137705528074082 Q -0.16401656497057632, -0.1144489686072038 0.2578636838226611, 0.966181308329553L 0.2578636838226611, 0.966181308329553 L 0.2610977008903962, 0.9653123797972081 L 0.26432879003379045, 0.9644326263452893 ",
          "type": "path"
         },
         {
          "fillcolor": "#e1b396",
          "layer": "below",
          "line": {
           "color": "rgb(175,175,175)",
           "width": 0.5
          },
          "path": "M -0.34722782726521423,0.9377808037983495 Q -0.1073744311272798, 0.16873272219724617 -0.702452254105756, 0.7117308695720191L -0.702452254105756, 0.7117308695720191 L -0.6974887375159224, 0.7165957445020481 L -0.6924915297753537, 0.7214260053459332 M -0.6924915297753537,0.7214260053459332 Q -0.10766241824827426, 0.1685491136047107 -0.36341316266947954, 0.9316280766478469L -0.36341316266947954, 0.9316280766478469 L -0.3553338122902007, 0.9347394727106118 L -0.34722782726521423, 0.9377808037983495 ",
          "type": "path"
         },
         {
          "fillcolor": "#e1b396",
          "layer": "below",
          "line": {
           "color": "rgb(175,175,175)",
           "width": 0.5
          },
          "path": "M -0.36341316266947954,0.9316280766478469 Q -0.12190889492516872, 0.15855037476500702 -0.8069931624427259, 0.5905607807590072L -0.8069931624427259, 0.5905607807590072 L -0.8017328700819593, 0.5976825286304965 L -0.7964097299067887, 0.604757424187414 M -0.7964097299067887,0.604757424187414 Q -0.12207108293421057, 0.15842553680284344 -0.38174478684978796, 0.92426777381504L -0.38174478684978796, 0.92426777381504 L -0.37259714967695007, 0.9279931918137182 L -0.36341316266947954, 0.9316280766478469 ",
          "type": "path"
         },
         {
          "fillcolor": "#e1b396",
          "layer": "below",
          "line": {
           "color": "rgb(175,175,175)",
           "width": 0.5
          },
          "path": "M -0.4545974425979596,0.890697010875974 Q -0.150124068070333, 0.13214675246109542 -0.9411715836719114, 0.3379290607339154L -0.9411715836719114, 0.3379290607339154 L -0.934679859202147, 0.3554905917205892 L -0.9278604828412234, 0.3729275055311044 M -0.9278604828412234,0.3729275055311044 Q -0.15022805277069726, 0.13202852782911959 -0.48899844454904917, 0.872284656077711L -0.48899844454904917, 0.872284656077711 L -0.47188775494018886, 0.8816586339040231 L -0.4545974425979596, 0.890697010875974 ",
          "type": "path"
         },
         {
          "fillcolor": "#e1b396",
          "layer": "below",
          "line": {
           "color": "rgb(175,175,175)",
           "width": 0.5
          },
          "path": "M -0.2716510050222098,0.9623958288928851 Q -0.14203226827230822, 0.14080779370980523 -0.9647117804241103, 0.263308147824831L -0.9647117804241103, 0.263308147824831 L -0.9644943891772316, 0.26410333819480364 L -0.9642763424728144, 0.26489834908366583 M -0.9642763424728144,0.26489834908366583 Q -0.14208788121651517, 0.1407516749861311 -0.27399729665087946, 0.9617304619424353L -0.27399729665087946, 0.9617304619424353 L -0.27282435367462404, 0.9620638606880645 L -0.2716510050222098, 0.9623958288928851 ",
          "type": "path"
         },
         {
          "fillcolor": "#e1b396",
          "layer": "below",
          "line": {
           "color": "rgb(175,175,175)",
           "width": 0.5
          },
          "path": "M -0.2987650557518577,0.954326695352063 Q -0.1545464325521977, 0.1269464461313865 -0.994181649658465, 0.10771651443661336L -0.994181649658465, 0.10771651443661336 L -0.9936910076106371, 0.11215249169660343 L -0.9931805726053854, 0.11658623503329531 M -0.9931805726053854,0.11658623503329531 Q -0.15466092007237786, 0.1268069390939059 -0.30898831805778665, 0.9510658333174523L -0.30898831805778665, 0.9510658333174523 L -0.3038810608602542, 0.9527099773018264 L -0.2987650557518577, 0.954326695352063 ",
          "type": "path"
         },
         {
          "fillcolor": "#e1b396",
          "layer": "below",
          "line": {
           "color": "rgb(175,175,175)",
           "width": 0.5
          },
          "path": "M -0.28406760571513173,0.9588042529021616 Q -0.15843636468089595, 0.12205702907535541 -0.9995476764230642, 0.030073951473881644L -0.9995476764230642, 0.030073951473881644 L -0.9994527228011068, 0.033079523658209015 L -0.9993487316475472, 0.036084796721593426 M -0.9993487316475472,0.036084796721593426 Q -0.15848606084680192, 0.12199249369229159 -0.29060829110982594, 0.9568421087819174L -0.29060829110982594, 0.9568421087819174 L -0.28733962326884116, 0.9578287638715599 L -0.28406760571513173, 0.9588042529021616 ",
          "type": "path"
         },
         {
          "fillcolor": "#e1b396",
          "layer": "below",
          "line": {
           "color": "rgb(175,175,175)",
           "width": 0.5
          },
          "path": "M -0.27821650541597304,0.9605183892639036 Q -0.16810513922908402, 0.10835433616044299 -0.9896825232304424, -0.14327771359225758L -0.9896825232304424, -0.14327771359225758 L -0.9900674953748386, -0.14059286824798028 L -0.9904451839906045, -0.13790698861847955 M -0.9904451839906045,-0.13790698861847955 Q -0.16814155936000014, 0.10829781168605189 -0.28406760571513173, 0.9588042529021616L -0.28406760571513173, 0.9588042529021616 L -0.2811433619587892, 0.9596657803769546 L -0.27821650541597304, 0.9605183892639036 ",
          "type": "path"
         },
         {
          "fillcolor": "#e1b396",
          "layer": "below",
          "line": {
           "color": "rgb(175,175,175)",
           "width": 0.5
          },
          "path": "M -0.31940711642442204,0.9476175884698614 Q -0.1802696361690812, 0.08661904106757987 -0.9394259515157651, -0.3427519243107167L -0.9394259515157651, -0.3427519243107167 L -0.941609219056678, -0.3367077049719429 L -0.9437535988481635, -0.3306495798593123 M -0.9437535988481635,-0.3306495798593123 Q -0.18033610931359417, 0.086480562426683 -0.33300883781403257, 0.9429237052581441L -0.33300883781403257, 0.9429237052581441 L -0.3262164196834974, 0.9452951113429501 L -0.31940711642442204, 0.9476175884698614 ",
          "type": "path"
         },
         {
          "fillcolor": "#e1b396",
          "layer": "below",
          "line": {
           "color": "rgb(175,175,175)",
           "width": 0.5
          },
          "path": "M -0.33300883781403257,0.9429237052581441 Q -0.18848637245253927, 0.06687964862110637 -0.8528534941287318, -0.522150282535989L -0.8528534941287318, -0.522150282535989 L -0.8567855982151764, -0.5156728019694875 L -0.8606685063605393, -0.5091657118847639 M -0.8606685063605393,-0.5091657118847639 Q -0.1884852188378187, 0.0668828997551661 -0.34722782726521423, 0.9377808037983495L -0.34722782726521423, 0.9377808037983495 L -0.34012805307470617, 0.9403791296661203 L -0.33300883781403257, 0.9429237052581441 ",
          "type": "path"
         },
         {
          "fillcolor": "#e1b396",
          "layer": "below",
          "line": {
           "color": "rgb(175,175,175)",
           "width": 0.5
          },
          "path": "M -0.38174478684978796,0.92426777381504 Q -0.19971576770254268, 0.010658899145034203 -0.4779530065153341, -0.8783854071892093L -0.4779530065153341, -0.8783854071892093 L -0.4886076426757142, -0.872503622639403 L -0.49918990790342416, -0.866492605766126 M -0.49918990790342416,-0.866492605766126 Q -0.19971341557170308, 0.010702880018211512 -0.40372398151131816, 0.9148808374606219L -0.40372398151131816, 0.9148808374606219 L -0.39276242839814585, 0.9196399702268228 L -0.38174478684978796, 0.92426777381504 ",
          "type": "path"
         },
         {
          "fillcolor": "#e1b396",
          "layer": "below",
          "line": {
           "color": "rgb(175,175,175)",
           "width": 0.5
          },
          "path": "M -0.27399729665087946,0.9617304619424353 Q -0.19890212105354493, -0.020927165130541672 -0.06783938209522929, -0.997696255499106L -0.06783938209522929, -0.997696255499106 L -0.0693306373745532, -0.9975937363081417 L -0.07082173774479378, -0.9974889881411261 M -0.07082173774479378,-0.9974889881411261 Q -0.19888742004363366, -0.02106642229680282 -0.27821650541597304, 0.9605183892639036L -0.27821650541597304, 0.9605183892639036 L -0.27610756613741444, 0.9611267408212474 L -0.27399729665087946, 0.9617304619424353 ",
          "type": "path"
         },
         {
          "fillcolor": "#e1b396",
          "layer": "below",
          "line": {
           "color": "rgb(175,175,175)",
           "width": 0.5
          },
          "path": "M -0.48899844454904917,0.872284656077711 Q -0.18390903998788288, -0.07859685115025472 0.2924694998626539, -0.9562748515202567L 0.2924694998626539, -0.9562748515202567 L 0.2728247861533771, -0.962063738044608 L 0.25306564263973247, -0.9674491100390444 M 0.25306564263973247,-0.9674491100390444 Q -0.18395647407476715, -0.07848576715545005 -0.5232785923307273, 0.8521616717550564L -0.5232785923307273, 0.8521616717550564 L -0.5062385144109817, 0.8623935102532732 L -0.48899844454904917, 0.872284656077711 ",
          "type": "path"
         },
         {
          "fillcolor": "#e1b396",
          "layer": "below",
          "line": {
           "color": "rgb(175,175,175)",
           "width": 0.5
          },
          "path": "M -0.40372398151131816,0.9148808374606219 Q -0.1602306557609593, -0.11969184163681734 0.7627593333419971, -0.646682456387733L 0.7627593333419971, -0.646682456387733 L 0.7540865095178542, -0.6567751031846284 L 0.7452801525127494, -0.6667514486452751 M 0.7452801525127494,-0.6667514486452751 Q -0.16023253427348408, -0.1196893268436946 -0.4278987949764746, 0.9038266544297534L -0.4278987949764746, 0.9038266544297534 L -0.4158481205126895, 0.9094340771414186 L -0.40372398151131816, 0.9148808374606219 ",
          "type": "path"
         },
         {
          "fillcolor": "#e1b396",
          "layer": "below",
          "line": {
           "color": "rgb(175,175,175)",
           "width": 0.5
          },
          "path": "M -0.29060829110982594,0.9568421087819174 Q -0.14808125230757377, -0.13443192595146689 0.9243700467078402, -0.3814970730547555L 0.9243700467078402, -0.3814970730547555 L 0.9229285373155225, -0.3849713171245752 L 0.9214739700338286, -0.3884401144965525 M 0.9214739700338286,-0.3884401144965525 Q -0.14801314460402692, -0.1345069106939395 -0.2987650557518577, 0.954326695352063L -0.2987650557518577, 0.954326695352063 L -0.2946893573305905, 0.9555931051844627 L -0.29060829110982594, 0.9568421087819174 ",
          "type": "path"
         },
         {
          "fillcolor": "#e1b396",
          "layer": "below",
          "line": {
           "color": "rgb(175,175,175)",
           "width": 0.5
          },
          "path": "M -0.30898831805778665,0.9510658333174523 Q -0.13321043812497815, -0.14918102819913587 0.9798394791592611, -0.19978637361168566L 0.9798394791592611, -0.19978637361168566 L 0.9788995089934904, -0.2043422405972476 L 0.9779383559632148, -0.2088936857254538 M 0.9779383559632148,-0.2088936857254538 Q -0.1330857513330924, -0.14929227304889658 -0.31940711642442204, 0.9476175884698614L -0.31940711642442204, 0.9476175884698614 L -0.3142024476633708, 0.9493560037637866 L -0.30898831805778665, 0.9510658333174523 ",
          "type": "path"
         },
         {
          "fillcolor": "#e1b396",
          "layer": "below",
          "line": {
           "color": "rgb(175,175,175)",
           "width": 0.5
          },
          "path": "M -0.26953796071344394,0.9629897651244472 Q -0.12881687558858582, -0.15299089045951333 0.9948260734548814, -0.10159273386587717L 0.9948260734548814, -0.10159273386587717 L 0.9947404102095, -0.1024281030588559 L 0.9946540454931952, -0.10326340002159809 M 0.9946540454931952,-0.10326340002159809 Q -0.12877744323835985, -0.15302408344110743 -0.2716510050222098, 0.9623958288928851L -0.2716510050222098, 0.9623958288928851 L -0.2705946458239121, 0.9626933767568112 L -0.26953796071344394, 0.9629897651244472 ",
          "type": "path"
         },
         {
          "fillcolor": "#dba284",
          "layer": "below",
          "line": {
           "color": "rgb(175,175,175)",
           "width": 0.5
          },
          "path": "M -0.702452254105756,0.7117308695720191 Q -0.15263741119623894, 0.12923552415381104 -0.8178270883176916, 0.5754640332929649L -0.8178270883176916, 0.5754640332929649 L -0.8124451918537643, 0.5830375718885534 L -0.8069931624427259, 0.5905607807590072 M -0.8069931624427259,0.5905607807590072 Q -0.1525119109921821, 0.12938360408302413 -0.714198396741403, 0.6999433191994975L -0.714198396741403, 0.6999433191994975 L -0.7083498452194127, 0.7058615280475584 L -0.702452254105756, 0.7117308695720191 ",
          "type": "path"
         },
         {
          "fillcolor": "#dba284",
          "layer": "below",
          "line": {
           "color": "rgb(175,175,175)",
           "width": 0.5
          },
          "path": "M -0.6550363359118837,0.7555973786581938 Q -0.1542137813456043, 0.12735034213966664 -0.8658293439874492, 0.5003394318762648L -0.8658293439874492, 0.5003394318762648 L -0.8640086047520936, 0.5034770410995326 L -0.8621764954373893, 0.5066080247245413 M -0.8621764954373893,0.5066080247245413 Q -0.1541382246490528, 0.1274417816182673 -0.6596100321129024, 0.7516080132196675L -0.6596100321129024, 0.7516080132196675 L -0.6573262104916711, 0.7536061657130064 L -0.6550363359118837, 0.7555973786581938 ",
          "type": "path"
         },
         {
          "fillcolor": "#dba284",
          "layer": "below",
          "line": {
           "color": "rgb(175,175,175)",
           "width": 0.5
          },
          "path": "M -0.6710101942245177,0.7414481230988281 Q -0.1777634182715534, 0.0916524256330009 -0.9931805726053854, 0.11658623503329531L -0.9931805726053854, 0.11658623503329531 L -0.9926626248329943, 0.12091696845219908 L -0.9921257931214792, 0.12524540160451306 M -0.9921257931214792,0.12524540160451306 Q -0.17774944906375034, 0.09167951438316652 -0.6772281610358828, 0.7357730750033983L -0.6772281610358828, 0.7357730750033983 L -0.6741251495023302, 0.7386171422384271 L -0.6710101942245177, 0.7414481230988281 ",
          "type": "path"
         },
         {
          "fillcolor": "#dba284",
          "layer": "below",
          "line": {
           "color": "rgb(175,175,175)",
           "width": 0.5
          },
          "path": "M -0.6473102351959716,0.7622266456970236 Q -0.17934282458732326, 0.08852203832402758 -0.9987367882548376, 0.050247664487134865L -0.9987367882548376, 0.050247664487134865 L -0.9987205473056568, 0.050569441261391006 L -0.9987042026852275, 0.05089121278633378 M -0.9987042026852275,0.05089121278633378 Q -0.17934029979862132, 0.08852715328158153 -0.6477578030406751, 0.7618463287303536L -0.6477578030406751, 0.7618463287303536 L -0.647534047039828, 0.7620365200725105 L -0.6473102351959716, 0.7622266456970236 ",
          "type": "path"
         },
         {
          "fillcolor": "#dba284",
          "layer": "below",
          "line": {
           "color": "rgb(175,175,175)",
           "width": 0.5
          },
          "path": "M -0.6477578030406751,0.7618463287303536 Q -0.1863015938392983, 0.07274418281166632 -0.9926109611478411, -0.12134034699620397L -0.9926109611478411, -0.12134034699620397 L -0.9926897377471937, -0.12069417786872647 L -0.9927680937039052, -0.12004795759826255 M -0.9927680937039052,-0.12004795759826255 Q -0.18629696532103465, 0.07275603557213119 -0.6486522682281151, 0.761084906513407L -0.6486522682281151, 0.761084906513407 L -0.6482051474361612, 0.7614657489587201 L -0.6477578030406751, 0.7618463287303536 ",
          "type": "path"
         },
         {
          "fillcolor": "#dba284",
          "layer": "below",
          "line": {
           "color": "rgb(175,175,175)",
           "width": 0.5
          },
          "path": "M -0.6495458383845516,0.7603224341273312 Q -0.19649355176628824, 0.037286513839041246 -0.882920554410519, -0.46952241117908505L -0.882920554410519, -0.46952241117908505 L -0.8837226438587612, -0.4680109921051867 L -0.8845221460012002, -0.46649820281908 M -0.8845221460012002,-0.46649820281908 Q -0.19648083971501856, 0.037353441941555925 -0.6516273478164488, 0.7585392538146598L -0.6516273478164488, 0.7585392538146598 L -0.6505872040358022, 0.7594315571168198 L -0.6495458383845516, 0.7603224341273312 ",
          "type": "path"
         },
         {
          "fillcolor": "#dba284",
          "layer": "below",
          "line": {
           "color": "rgb(175,175,175)",
           "width": 0.5
          },
          "path": "M -0.6486522682281151,0.761084906513407 Q -0.19990254456479453, -0.0062428099859230535 -0.5998983499734128, -0.8000762274303472L -0.5998983499734128, -0.8000762274303472 L -0.6004943411108983, -0.7996290054105016 L -0.6010899988461358, -0.7991813394262609 M -0.6010899988461358,-0.7991813394262609 Q -0.19990352715981768, -0.006211266301169145 -0.6495458383845516, 0.7603224341273312L -0.6495458383845516, 0.7603224341273312 L -0.6490991652622987, 0.760703801525789 L -0.6486522682281151, 0.761084906513407 ",
          "type": "path"
         },
         {
          "fillcolor": "#dba284",
          "layer": "below",
          "line": {
           "color": "rgb(175,175,175)",
           "width": 0.5
          },
          "path": "M -0.6648909199666029,0.746940469211546 Q -0.18544074525769028, -0.07491148108449351 0.04047993396731593, -0.9991803515612193L 0.04047993396731593, -0.9991803515612193 L 0.035206600521528325, -0.9993800554742512 L 0.029932286644889502, -0.99955192872417 M 0.029932286644889502,-0.99955192872417 Q -0.18552795110263998, -0.07469524321974211 -0.6710101942245177, 0.7414481230988281L -0.6710101942245177, 0.7414481230988281 L -0.667956202299765, 0.7442005857356438 L -0.6648909199666029, 0.746940469211546 ",
          "type": "path"
         },
         {
          "fillcolor": "#dba284",
          "layer": "below",
          "line": {
           "color": "rgb(175,175,175)",
           "width": 0.5
          },
          "path": "M -0.6516273478164488,0.7585392538146598 Q -0.15123840528241367, -0.1308699536472463 0.6570637337703197, -0.7538350282149314L 0.6570637337703197, -0.7538350282149314 L 0.6549444191366538, -0.7556770526102742 L 0.6528199405620221, -0.7575131188333295 M 0.6528199405620221,-0.7575131188333295 Q -0.15131121207720835, -0.1307857679555619 -0.6550363359118837, 0.7555973786581938L -0.6550363359118837, 0.7555973786581938 L -0.6533334977260717, 0.7570702350172123 L -0.6516273478164488, 0.7585392538146598 ",
          "type": "path"
         },
         {
          "fillcolor": "#dba284",
          "layer": "below",
          "line": {
           "color": "rgb(175,175,175)",
           "width": 0.5
          },
          "path": "M -0.6596100321129024,0.7516080132196675 Q -0.10188244784954273, -0.17210452295098236 0.9762222390865053, -0.2167720920988912L 0.9762222390865053, -0.2167720920988912 L 0.9754087717171808, -0.22040355726979688 L 0.9745817956499301, -0.22403197001267006 M 0.9745817956499301,-0.22403197001267006 Q -0.1019164322479222, -0.17208440033267014 -0.6648909199666029, 0.746940469211546L -0.6648909199666029, 0.746940469211546 L -0.6622545881355943, 0.7492788936660062 L -0.6596100321129024, 0.7516080132196675 ",
          "type": "path"
         },
         {
          "fillcolor": "#d59171",
          "layer": "below",
          "line": {
           "color": "rgb(175,175,175)",
           "width": 0.5
          },
          "path": "M -0.7449421680535359,0.6671290476779568 Q -0.16289436432637433, 0.11604062250223597 -0.8739097694904441, 0.48608817594049636L -0.8739097694904441, 0.48608817594049636 L -0.8717969435336352, 0.48986742006936085 L -0.8696677742438825, 0.4936374807910066 M -0.8696677742438825,0.4936374807910066 Q -0.16286123911872047, 0.11608710864137739 -0.7503139418987469, 0.6610816807266436L -0.7503139418987469, 0.6610816807266436 L -0.7476341693964833, 0.6641107955385386 L -0.7449421680535359, 0.6671290476779568 ",
          "type": "path"
         },
         {
          "fillcolor": "#d59171",
          "layer": "below",
          "line": {
           "color": "rgb(175,175,175)",
           "width": 0.5
          },
          "path": "M -0.7696343405982926,0.6384849111543917 Q -0.18467314118651074, 0.07678431431162928 -0.9954384618511168, 0.095405810449273L -0.9954384618511168, 0.095405810449273 L -0.99482909858378, 0.10156310654457078 L -0.994181649658465, 0.10771651443661336 M -0.994181649658465,0.10771651443661336 Q -0.18471000099658363, 0.07669560308024231 -0.7780801160482883, 0.628165052363057L -0.7780801160482883, 0.628165052363057 L -0.7738744308345984, 0.6333390602990048 L -0.7696343405982926, 0.6384849111543917 ",
          "type": "path"
         },
         {
          "fillcolor": "#d59171",
          "layer": "below",
          "line": {
           "color": "rgb(175,175,175)",
           "width": 0.5
          },
          "path": "M -0.7373103461016253,0.6755541825283162 Q -0.18458905315033222, 0.07698624199857944 -0.9988216556891533, 0.04853143441501194L -0.9988216556891533, 0.04853143441501194 L -0.9987954514095791, 0.04906777194386451 L -0.9987689591327209, 0.04960409532429 M -0.9987689591327209,0.04960409532429 Q -0.18458978882474475, 0.07698447805652868 -0.7380483312355002, 0.6747478497635198L -0.7380483312355002, 0.6747478497635198 L -0.7376794488404973, 0.6751511169792879 L -0.7373103461016253, 0.6755541825283162 ",
          "type": "path"
         },
         {
          "fillcolor": "#d59171",
          "layer": "below",
          "line": {
           "color": "rgb(175,175,175)",
           "width": 0.5
          },
          "path": "M -0.7417250120647101,0.6707041124651061 Q -0.19116133241055622, 0.05879919209496709 -0.9904451839906045, -0.13790698861847955L -0.9904451839906045, -0.13790698861847955 L -0.990771522829876, -0.13554257467441205 L -0.9910922172929866, -0.13317738855102765 M -0.9910922172929866,-0.13317738855102765 Q -0.1911623859177065, 0.058795766941590645 -0.7449421680535359, 0.6671290476779568L -0.7449421680535359, 0.6671290476779568 L -0.7433357393414111, 0.6689185141837217 L -0.7417250120647101, 0.6707041124651061 ",
          "type": "path"
         },
         {
          "fillcolor": "#d59171",
          "layer": "below",
          "line": {
           "color": "rgb(175,175,175)",
           "width": 0.5
          },
          "path": "M -0.7380483312355002,0.6747478497635198 Q -0.19522193227629137, 0.04345569189773784 -0.9545732215346037, -0.2979764499571208L -0.9545732215346037, -0.2979764499571208 L -0.9548325111205102, -0.2971445367280051 L -0.9550910756918648, -0.2963123978738599 M -0.9550910756918648,-0.2963123978738599 Q -0.1952220656378206, 0.04345509277521413 -0.7392272729056982, 0.6734560408760206L -0.7392272729056982, 0.6734560408760206 L -0.73863808447726, 0.6741022030521515 L -0.7380483312355002, 0.6747478497635198 ",
          "type": "path"
         },
         {
          "fillcolor": "#d59171",
          "layer": "below",
          "line": {
           "color": "rgb(175,175,175)",
           "width": 0.5
          },
          "path": "M -0.7392272729056982,0.6734560408760206 Q -0.19857801268365852, 0.023806992220958015 -0.8774682682160729, -0.47963469252534885L -0.8774682682160729, -0.47963469252534885 L -0.8784629196740875, -0.4778105260013405 L -0.8794537788823205, -0.4759842968098913 M -0.8794537788823205,-0.4759842968098913 Q -0.19857278212741292, 0.023850580667543624 -0.7417250120647101, 0.6707041124651061L -0.7417250120647101, 0.6707041124651061 L -0.7404774209030703, 0.6720812370039333 L -0.7392272729056982, 0.6734560408760206 ",
          "type": "path"
         },
         {
          "fillcolor": "#d59171",
          "layer": "below",
          "line": {
           "color": "rgb(175,175,175)",
           "width": 0.5
          },
          "path": "M -0.7559229325717551,0.6546606143736751 Q -0.19820929500748238, -0.026703471172056032 -0.5557195521405116, -0.8313698210596469L -0.5557195521405116, -0.8313698210596469 L -0.5603569157430579, -0.8282512462887862 L -0.5649767790350141, -0.8251068046933202 M -0.5649767790350141,-0.8251068046933202 Q -0.19822713244518486, -0.026570735077508695 -0.762326539662025, 0.6471925887453618L -0.762326539662025, 0.6471925887453618 L -0.7591339195663928, 0.6509344760909238 L -0.7559229325717551, 0.6546606143736751 ",
          "type": "path"
         },
         {
          "fillcolor": "#d59171",
          "layer": "below",
          "line": {
           "color": "rgb(175,175,175)",
           "width": 0.5
          },
          "path": "M -0.7780801160482883,0.628165052363057 Q -0.17674532927193065, -0.09360068685942867 0.08236325646146463, -0.9966023750649318L 0.08236325646146463, -0.9966023750649318 L 0.07409607783288535, -0.9972511074196825 L 0.0658238038321978, -0.9978312617116485 M 0.0658238038321978,-0.9978312617116485 Q -0.17684616328487204, -0.09341003442575307 -0.7870622789912497, 0.6168735437584435L -0.7870622789912497, 0.6168735437584435 L -0.7825915625210684, 0.622535498000582 L -0.7780801160482883, 0.628165052363057 ",
          "type": "path"
         },
         {
          "fillcolor": "#d59171",
          "layer": "below",
          "line": {
           "color": "rgb(175,175,175)",
           "width": 0.5
          },
          "path": "M -0.762326539662025,0.6471925887453618 Q -0.13687384126185695, -0.14582712908860268 0.6941337705154731, -0.7198460311969307L 0.6941337705154731, -0.7198460311969307 L 0.6895499455030475, -0.7242381325618973 L 0.684938330244481, -0.7286010456771951 M 0.684938330244481,-0.7286010456771951 Q -0.1369707059022471, -0.14573615105607848 -0.7696343405982926, 0.6384849111543917L -0.7696343405982926, 0.6384849111543917 L -0.7659928136570531, 0.642849134265382 L -0.762326539662025, 0.6471925887453618 ",
          "type": "path"
         },
         {
          "fillcolor": "#d59171",
          "layer": "below",
          "line": {
           "color": "rgb(175,175,175)",
           "width": 0.5
          },
          "path": "M -0.7358317339134408,0.6771644256500332 Q -0.11021829434528999, -0.16688896785472376 0.9116803571530201, -0.41090014161757316L 0.9116803571530201, -0.41090014161757316 L 0.9114594296652593, -0.4113899707993382 L 0.911238239001261, -0.4118796811957114 M 0.911238239001261,-0.4118796811957114 Q -0.11021676121172329, -0.16688998037029656 -0.736571480033341, 0.6763597081446332L -0.736571480033341, 0.6763597081446332 L -0.7362017169246272, 0.6767621679713125 L -0.7358317339134408, 0.6771644256500332 ",
          "type": "path"
         },
         {
          "fillcolor": "#d59171",
          "layer": "below",
          "line": {
           "color": "rgb(175,175,175)",
           "width": 0.5
          },
          "path": "M -0.7503139418987469,0.6610816807266436 Q -0.0899260814286742, -0.17864293962786063 0.9779383559632148, -0.2088936857254538L 0.9779383559632148, -0.2088936857254538 L 0.9770882381509948, -0.21283461858209293 L 0.9762222390865053, -0.2167720920988912 M 0.9762222390865053,-0.2167720920988912 Q -0.08988474544442918, -0.17866374152689787 -0.7559229325717551, 0.6546606143736751L -0.7559229325717551, 0.6546606143736751 L -0.7531252804327735, 0.6578771252848484 L -0.7503139418987469, 0.6610816807266436 ",
          "type": "path"
         },
         {
          "fillcolor": "#d0805f",
          "layer": "below",
          "line": {
           "color": "rgb(175,175,175)",
           "width": 0.5
          },
          "path": "M -0.8658293439874492,0.5003394318762648 Q -0.18550807596561766, 0.07474459011550355 -0.9708490281854044, 0.23969181144014062L -0.9708490281854044, 0.23969181144014062 L -0.9701933734801105, 0.2423320409175866 L -0.969530538669776, 0.24497047696956037 M -0.969530538669776,0.24497047696956037 Q -0.18559325723242168, 0.0745328308187752 -0.8696677742438825, 0.4936374807910066L -0.8696677742438825, 0.4936374807910066 L -0.8677550293051614, 0.4969921620263226 L -0.8658293439874492, 0.5003394318762648 ",
          "type": "path"
         },
         {
          "fillcolor": "#d0805f",
          "layer": "below",
          "line": {
           "color": "rgb(175,175,175)",
           "width": 0.5
          },
          "path": "M -0.8739097694904441,0.48608817594049636 Q -0.18981900638429028, 0.06299797469189607 -0.9911308224235369, 0.13288977704113783L -0.9911308224235369, 0.13288977704113783 L -0.9906251076251269, 0.13660855076716757 L -0.9901054398468322, 0.14032540035827815 M -0.9901054398468322,0.14032540035827815 Q -0.18985530871800568, 0.06288848663778421 -0.8780862332781325, 0.4785024210256632L -0.8780862332781325, 0.4785024210256632 L -0.8760062125057531, 0.4822998192528435 L -0.8739097694904441, 0.48608817594049636 ",
          "type": "path"
         },
         {
          "fillcolor": "#d0805f",
          "layer": "below",
          "line": {
           "color": "rgb(175,175,175)",
           "width": 0.5
          },
          "path": "M -0.852173401042271,0.523259490650718 Q -0.1913233308749559, 0.05826991559039832 -0.9991758016247866, 0.040592086020122396L -0.9991758016247866, 0.040592086020122396 L -0.9991045760603805, 0.04230893635164226 L -0.9990304004917043, 0.04402566175975983 M -0.9990304004917043,0.04402566175975983 Q -0.19133230203774323, 0.05824045155163034 -0.8541268453828581, 0.5200647382743105L -0.8541268453828581, 0.5200647382743105 L -0.8531516186167034, 0.5216630288334597 L -0.852173401042271, 0.523259490650718 ",
          "type": "path"
         },
         {
          "fillcolor": "#d0805f",
          "layer": "below",
          "line": {
           "color": "rgb(175,175,175)",
           "width": 0.5
          },
          "path": "M -0.8541268453828581,0.5200647382743105 Q -0.19574367590095, 0.041041605046389894 -0.9910922172929866, -0.13317738855102765L -0.9910922172929866, -0.13317738855102765 L -0.9913361595619624, -0.13134922437890326 L -0.9915767296105846, -0.12952061339716375 M -0.9915767296105846,-0.12952061339716375 Q -0.19574962394945603, 0.0410132262038304 -0.8561892562482218, 0.5166623244297156L -0.8561892562482218, 0.5166623244297156 L -0.8551597429601243, 0.5183645570642094 L -0.8541268453828581, 0.5200647382743105 ",
          "type": "path"
         },
         {
          "fillcolor": "#d0805f",
          "layer": "below",
          "line": {
           "color": "rgb(175,175,175)",
           "width": 0.5
          },
          "path": "M -0.8507004744194275,0.5256507422448492 Q -0.1985406021358915, 0.02411699200807679 -0.9518069579856364, -0.30669775794767207L -0.9518069579856364, -0.30669775794767207 L -0.9522070222735749, -0.30545341172246165 L -0.952605459764414, -0.30420854364568634 M -0.952605459764414,-0.30420854364568634 Q -0.19854294457867375, 0.02409770026433418 -0.852173401042271, 0.523259490650718L -0.852173401042271, 0.523259490650718 L -0.8514377772060225, 0.5244556335348753 L -0.8507004744194275, 0.5256507422448492 ",
          "type": "path"
         },
         {
          "fillcolor": "#d0805f",
          "layer": "below",
          "line": {
           "color": "rgb(175,175,175)",
           "width": 0.5
          },
          "path": "M -0.8878620521483174,0.4601097438166013 Q -0.1998059132544991, -0.008808917557543141 -0.8439259236381199, -0.5364597239416452L -0.8439259236381199, -0.5364597239416452 L -0.8484198772822567, -0.5293238251130971 L -0.8528534941287318, -0.522150282535989 M -0.8528534941287318,-0.522150282535989 Q -0.19980906010182795, -0.00873724792049023 -0.895176183428896, 0.445712464063633L -0.895176183428896, 0.445712464063633 L -0.8915481803013491, 0.4529258683287511 L -0.8878620521483174, 0.4601097438166013 ",
          "type": "path"
         },
         {
          "fillcolor": "#d0805f",
          "layer": "below",
          "line": {
           "color": "rgb(175,175,175)",
           "width": 0.5
          },
          "path": "M -0.895176183428896,0.445712464063633 Q -0.19147164129302008, -0.05778071114616932 -0.49918990790342416, -0.866492605766126L -0.49918990790342416, -0.866492605766126 L -0.5091639101351493, -0.8606695722609726 L -0.5190699957873386, -0.854731735384461 M -0.5190699957873386,-0.854731735384461 Q -0.1915101134300157, -0.05765306977102369 -0.9046646600685101, 0.4261242222910206L -0.9046646600685101, 0.4261242222910206 L -0.8999737164408187, 0.43594415894206084 L -0.895176183428896, 0.445712464063633 ",
          "type": "path"
         },
         {
          "fillcolor": "#d0805f",
          "layer": "below",
          "line": {
           "color": "rgb(175,175,175)",
           "width": 0.5
          },
          "path": "M -0.8493443968641166,0.5278390810801433 Q -0.17836442807058592, -0.09047723912152045 -0.07579091075044835, -0.9971237324663462L -0.07579091075044835, -0.9971237324663462 L -0.07670172534306428, -0.9970540834525463 L -0.07761247593313683, -0.9969836024627127 M -0.07761247593313683,-0.9969836024627127 Q -0.1783305997711921, -0.09054389645496218 -0.8507004744194275, 0.5256507422448492L -0.8507004744194275, 0.5256507422448492 L -0.8500231398621364, 0.5267453480562643 L -0.8493443968641166, 0.5278390810801433 ",
          "type": "path"
         },
         {
          "fillcolor": "#d0805f",
          "layer": "below",
          "line": {
           "color": "rgb(175,175,175)",
           "width": 0.5
          },
          "path": "M -0.9159925119732474,0.4011953614000793 Q -0.15670544044652976, -0.12427149687059831 0.1819539696044706, -0.9833070491688624L 0.1819539696044706, -0.9833070491688624 L 0.16574522521308255, -0.9861686064355651 L 0.14949157846703115, -0.9887629988867077 M 0.14949157846703115,-0.9887629988867077 Q -0.1568457580273791, -0.12409435196179093 -0.9278604828412234, 0.3729275055311044L -0.9278604828412234, 0.3729275055311044 L -0.9220348336914558, 0.38710691734916 L -0.9159925119732474, 0.4011953614000793 ",
          "type": "path"
         },
         {
          "fillcolor": "#d0805f",
          "layer": "below",
          "line": {
           "color": "rgb(175,175,175)",
           "width": 0.5
          },
          "path": "M -0.8827472744453018,0.46984811318062264 Q -0.12239541700520114, -0.15817509884973335 0.6763521947400508, -0.7365783791765249L 0.6763521947400508, -0.7365783791765249 L 0.6721146161473635, -0.7404471235416357 L 0.667854908681468, -0.7442914892366216 M 0.667854908681468,-0.7442914892366216 Q -0.12243306225675182, -0.15814596190366145 -0.8878620521483174, 0.4601097438166013L -0.8878620521483174, 0.4601097438166013 L -0.8853180534782655, 0.4649859612778164 L -0.8827472744453018, 0.46984811318062264 ",
          "type": "path"
         },
         {
          "fillcolor": "#d0805f",
          "layer": "below",
          "line": {
           "color": "rgb(175,175,175)",
           "width": 0.5
          },
          "path": "M -0.8590778138538845,0.511845005586682 Q -0.09141259441673925, -0.17788686736800088 0.9163019738731483, -0.40048806808214926L 0.9163019738731483, -0.40048806808214926 L 0.915179353168176, -0.403046835410823 L 0.9140495871386384, -0.4056024559241286 M 0.9140495871386384,-0.4056024559241286 Q -0.09136841788320099, -0.17790956189457824 -0.8621764954373893, 0.5066080247245413L -0.8621764954373893, 0.5066080247245413 L -0.8606311380641434, 0.5092288721139222 L -0.8590778138538845, 0.511845005586682 ",
          "type": "path"
         },
         {
          "fillcolor": "#d0805f",
          "layer": "below",
          "line": {
           "color": "rgb(175,175,175)",
           "width": 0.5
          },
          "path": "M -0.8561892562482218,0.5166623244297156 Q -0.07564168329799487, -0.18514409455298825 0.9730306259075705, -0.23067596547087796L 0.9730306259075705, -0.23067596547087796 L 0.9724553305487521, -0.23308931783185013 L 0.9718740494994618, -0.23550123547344234 M 0.9718740494994618,-0.23550123547344234 Q -0.07558104225283685, -0.18516885821318577 -0.8590778138538845, 0.511845005586682L -0.8590778138538845, 0.511845005586682 L -0.8576369173982513, 0.5142556931290359 L -0.8561892562482218, 0.5166623244297156 ",
          "type": "path"
         },
         {
          "fillcolor": "#d0805f",
          "layer": "below",
          "line": {
           "color": "rgb(175,175,175)",
           "width": 0.5
          },
          "path": "M -0.8483546223925914,0.5294284037196376 Q -0.06493862022871345, -0.18916388556696262 0.9946540454931952, -0.10326340002159809L 0.9946540454931952, -0.10326340002159809 L 0.9945766880165332, -0.10400582509678735 L 0.9944987763824562, -0.10474819222209716 M 0.9944987763824562,-0.10474819222209716 Q -0.06490273123970344, -0.18917620219685885 -0.8493443968641166, 0.5278390810801433L -0.8493443968641166, 0.5278390810801433 L -0.8488498815944492, 0.5286339740473456 L -0.8483546223925914, 0.5294284037196376 ",
          "type": "path"
         },
         {
          "fillcolor": "#ca6f4c",
          "layer": "below",
          "line": {
           "color": "rgb(175,175,175)",
           "width": 0.5
          },
          "path": "M -0.9639261047640945,0.26616999183664564 Q -0.1948548878590482, 0.04507297058590387 -0.9828962159228173, 0.18416033428674755L -0.9828962159228173, 0.18416033428674755 L -0.982746453515928, 0.18495785493421416 L -0.982596044001985, 0.18575525379285857 M -0.982596044001985,0.18575525379285857 Q -0.19484803613971302, 0.04510258099595961 -0.9642763424728144, 0.26489834908366583L -0.9642763424728144, 0.26489834908366583 L -0.9641014332794158, 0.2655342282052849 L -0.9639261047640945, 0.26616999183664564 ",
          "type": "path"
         },
         {
          "fillcolor": "#ca6f4c",
          "layer": "below",
          "line": {
           "color": "rgb(175,175,175)",
           "width": 0.5
          },
          "path": "M -0.9632205990114483,0.2687118859299431 Q -0.19741862247951292, 0.03202947858288626 -0.9987689591327209, 0.04960409532429L -0.9987689591327209, 0.04960409532429 L -0.998752925531084, 0.049925882496967104 L -0.9987367882548376, 0.050247664487134865 M -0.9987367882548376,0.050247664487134865 Q -0.1974162237116052, 0.03204426025748527 -0.963353392070143, 0.26823542269236034L -0.963353392070143, 0.26823542269236034 L -0.9632870249994635, 0.26847366252145277 L -0.9632205990114483, 0.2687118859299431 ",
          "type": "path"
         },
         {
          "fillcolor": "#ca6f4c",
          "layer": "below",
          "line": {
           "color": "rgb(175,175,175)",
           "width": 0.5
          },
          "path": "M -0.9670597820083678,0.25454936264294215 Q -0.19986810380640602, -0.007262305476342528 -0.9460356320641692, -0.32406262182631895L -0.9460356320641692, -0.32406262182631895 L -0.9469845825491146, -0.3212790071173016 L -0.9479253425474818, -0.3184926136604101 M -0.9479253425474818,-0.3184926136604101 Q -0.1998732461340099, -0.0071193735576598974 -0.968183348408839, 0.2502418907054706L -0.968183348408839, 0.2502418907054706 L -0.9676239621027223, 0.25239625188308445 L -0.9670597820083678, 0.25454936264294215 ",
          "type": "path"
         },
         {
          "fillcolor": "#ca6f4c",
          "layer": "below",
          "line": {
           "color": "rgb(175,175,175)",
           "width": 0.5
          },
          "path": "M -0.9647117804241103,0.263308147824831 Q -0.1987248349549212, -0.022548613530311453 -0.881193089880885, -0.47275653178584276L -0.881193089880885, -0.47275653178584276 L -0.882058304409521, -0.47114026321489516 L -0.882920554410519, -0.46952241117908505 M -0.882920554410519,-0.46952241117908505 Q -0.19873825491235722, -0.022430025287344724 -0.9653600199443809, 0.2609215052328659L -0.9653600199443809, 0.2609215052328659 L -0.9650366379884925, 0.26211502692495015 L -0.9647117804241103, 0.263308147824831 ",
          "type": "path"
         },
         {
          "fillcolor": "#ca6f4c",
          "layer": "below",
          "line": {
           "color": "rgb(175,175,175)",
           "width": 0.5
          },
          "path": "M -0.9653600199443809,0.2609215052328659 Q -0.1888198274952444, -0.06593233459135327 -0.5931205855679695, -0.8051136385476954L -0.5931205855679695, -0.8051136385476954 L -0.5949188358879751, -0.8037857791138735 L -0.5967141134491917, -0.802453903230924 M -0.5967141134491917,-0.802453903230924 Q -0.18886932308427606, -0.06579041569778497 -0.9661301132016556, 0.2580554288616228L -0.9661301132016556, 0.2580554288616228 L -0.9657461297921752, 0.2594887527262695 L -0.9653600199443809, 0.2609215052328659 ",
          "type": "path"
         },
         {
          "fillcolor": "#ca6f4c",
          "layer": "below",
          "line": {
           "color": "rgb(175,175,175)",
           "width": 0.5
          },
          "path": "M -0.9661301132016556,0.2580554288616228 Q -0.16245260338638176, -0.11665826868673715 -0.06419346004622282, -0.9979374728344927L -0.06419346004622282, -0.9979374728344927 L -0.0660165312436069, -0.9978185293942792 L -0.06783938209522929, -0.997696255499106 M -0.06783938209522929,-0.997696255499106 Q -0.16245415870387203, -0.11665610279714117 -0.9670597820083678, 0.25454936264294215L -0.9670597820083678, 0.25454936264294215 L -0.9665965372691016, 0.25630281726774345 L -0.9661301132016556, 0.2580554288616228 ",
          "type": "path"
         },
         {
          "fillcolor": "#ca6f4c",
          "layer": "below",
          "line": {
           "color": "rgb(175,175,175)",
           "width": 0.5
          },
          "path": "M -0.9729445465691484,0.23103876146948615 Q -0.1492650581115829, -0.13311627408752766 0.1186140065556148, -0.9929404400309338L 0.1186140065556148, -0.9929404400309338 L 0.10887728728842205, -0.9940551978198768 L 0.09913011075115624, -0.9950744801985746 M 0.09913011075115624,-0.9950744801985746 Q -0.1497128480080766, -0.1326124546990612 -0.9758352109455873, 0.2185077597678878L -0.9758352109455873, 0.2185077597678878 L -0.9744100226935832, 0.22477790744263676 L -0.9729445465691484, 0.23103876146948615 ",
          "type": "path"
         },
         {
          "fillcolor": "#ca6f4c",
          "layer": "below",
          "line": {
           "color": "rgb(175,175,175)",
           "width": 0.5
          },
          "path": "M -0.9630875702996654,0.26918828342683704 Q -0.10760597109840526, -0.16858515647579764 0.6496699835113222, -0.7602163590218237L 0.6496699835113222, -0.7602163590218237 L 0.6493915079200491, -0.7604542520371129 L 0.6491129452182688, -0.7606920430437437 M 0.6491129452182688,-0.7606920430437437 Q -0.10762602227890428, -0.16857235635898551 -0.9632205990114483, 0.2687118859299431L -0.9632205990114483, 0.2687118859299431 L -0.96315411411016, 0.268950092903261 L -0.9630875702996654, 0.26918828342683704 ",
          "type": "path"
         },
         {
          "fillcolor": "#ca6f4c",
          "layer": "below",
          "line": {
           "color": "rgb(175,175,175)",
           "width": 0.5
          },
          "path": "M -0.963353392070143,0.26823542269236034 Q -0.06798858488770898, -0.18808921373903076 0.9122095089830294, -0.40972406778335624L 0.9122095089830294, -0.40972406778335624 L 0.9119451226558867, -0.41031219000188124 L 0.9116803571530201, -0.41090014161757316 M 0.9116803571530201,-0.41090014161757316 Q -0.06801683396725015, -0.18807900014906376 -0.9636182710983738, 0.26728229946141374L -0.9636182710983738, 0.26728229946141374 L -0.9634859494432616, 0.2677588938306564 L -0.963353392070143, 0.26823542269236034 ",
          "type": "path"
         },
         {
          "fillcolor": "#ca6f4c",
          "layer": "below",
          "line": {
           "color": "rgb(175,175,175)",
           "width": 0.5
          },
          "path": "M -0.9629543059673399,0.2696646150664908 Q -0.05214300977093529, -0.1930831596282497 0.9677941161922838, -0.2517430210822064L 0.9677941161922838, -0.2517430210822064 L 0.967768087347534, -0.2518430644502561 L 0.9677420481610438, -0.25194310512706647 M 0.9677420481610438,-0.25194310512706647 Q -0.052147052324899835, -0.19308206787225002 -0.9629987535894974, 0.26950584517793774L -0.9629987535894974, 0.26950584517793774 L -0.9629765330505489, 0.26958523103824716 L -0.9629543059673399, 0.2696646150664908 ",
          "type": "path"
         },
         {
          "fillcolor": "#ca6f4c",
          "layer": "below",
          "line": {
           "color": "rgb(175,175,175)",
           "width": 0.5
          },
          "path": "M -0.9629987535894974,0.26950584517793774 Q -0.03779598452955831, -0.19639619027221833 0.9942417369488169, -0.10716048016409631L 0.9942417369488169, -0.10716048016409631 L 0.9942217223030719, -0.10734601483386964 L 0.9942016730348482, -0.10753154576545848 M 0.9942016730348482,-0.10753154576545848 Q -0.03780025358323515, -0.19639536865477028 -0.9630875702996654, 0.26918828342683704L -0.9630875702996654, 0.26918828342683704 L -0.9630431750340083, 0.2693470679632814 L -0.9629987535894974, 0.26950584517793774 ",
          "type": "path"
         },
         {
          "fillcolor": "#c45e3a",
          "layer": "below",
          "line": {
           "color": "rgb(175,175,175)",
           "width": 0.5
          },
          "path": "M -0.9823692166221099,0.18695112257823465 Q -0.19989400824622808, 0.00651041221866206 -0.9924521461549135, -0.12263253072698996L -0.9924521461549135, -0.12263253072698996 L -0.9925317639392279, -0.12198646470688716 L -0.9926109611478411, -0.12134034699620397 M -0.9926109611478411,-0.12134034699620397 Q -0.1998937322983625, 0.00651887933855208 -0.982596044001985, 0.18575525379285857L -0.982596044001985, 0.18575525379285857 L -0.9824828122620859, 0.18635322269706744 L -0.9823692166221099, 0.18695112257823465 ",
          "type": "path"
         },
         {
          "fillcolor": "#c45e3a",
          "layer": "below",
          "line": {
           "color": "rgb(175,175,175)",
           "width": 0.5
          },
          "path": "M -0.9847489216724277,0.1739814969040985 Q -0.1993432841931143, -0.016194290571163422 -0.9437535988481635, -0.3306495798593123L -0.9437535988481635, -0.3306495798593123 L -0.9449003552343965, -0.3273580893729545 L -0.9460356320641692, -0.32406262182631895 M -0.9460356320641692,-0.32406262182631895 Q -0.1993471601719881, -0.016146508333497952 -0.9858575969668948, 0.1675851977432963L -0.9858575969668948, 0.1675851977432963 L -0.9853084496677607, 0.17078424697059702 L -0.9847489216724277, 0.1739814969040985 ",
          "type": "path"
         },
         {
          "fillcolor": "#c45e3a",
          "layer": "below",
          "line": {
           "color": "rgb(175,175,175)",
           "width": 0.5
          },
          "path": "M -0.983671848066953,0.1799713736140986 Q -0.19722251346646388, -0.03321566169701392 -0.8704600551088227, -0.49223906027452285L -0.8704600551088227, -0.49223906027452285 L -0.8722590255438609, -0.4890441619703421 L -0.8740462696165797, -0.4858426891179297 M -0.8740462696165797,-0.4858426891179297 Q -0.19724318795889428, -0.033092669940823806 -0.9847489216724277, 0.1739814969040985L -0.9847489216724277, 0.1739814969040985 L -0.984214941636782, 0.17697725463715896 L -0.983671848066953, 0.1799713736140986 ",
          "type": "path"
         },
         {
          "fillcolor": "#c45e3a",
          "layer": "below",
          "line": {
           "color": "rgb(175,175,175)",
           "width": 0.5
          },
          "path": "M -0.989024274825149,0.14775311775589764 Q -0.18334054936391994, -0.07991397223850186 -0.5649767790350141, -0.8251068046933202L -0.5649767790350141, -0.8251068046933202 L -0.5687621214896489, -0.8225020663552122 L -0.5725354553969992, -0.8198799621367452 M -0.5725354553969992,-0.8198799621367452 Q -0.18340776716520601, -0.07975958214204476 -0.9901054398468322, 0.14032540035827815L -0.9901054398468322, 0.14032540035827815 L -0.9895718264081865, 0.1440402734625488 L -0.989024274825149, 0.14775311775589764 ",
          "type": "path"
         },
         {
          "fillcolor": "#c45e3a",
          "layer": "below",
          "line": {
           "color": "rgb(175,175,175)",
           "width": 0.5
          },
          "path": "M -0.9822552571241313,0.18754895321490508 Q -0.15910884514272272, -0.12117910462348319 -0.08026156120922315, -0.9967738368317349L -0.08026156120922315, -0.9967738368317349 L -0.08050988418503632, -0.996753810400799 L -0.08075820216397471, -0.9967337221059808 M -0.08075820216397471,-0.9967337221059808 Q -0.15910215963681507, -0.1211878822279745 -0.9823692166221099, 0.18695112257823465L -0.9823692166221099, 0.18695112257823465 L -0.982312282352736, 0.1872500465659717 L -0.9822552571241313, 0.18754895321490508 ",
          "type": "path"
         },
         {
          "fillcolor": "#c45e3a",
          "layer": "below",
          "line": {
           "color": "rgb(175,175,175)",
           "width": 0.5
          },
          "path": "M -0.9911308224235369,0.13288977704113783 Q -0.14853709442895588, -0.13392808360685016 0.029932286644889502, -0.99955192872417L 0.029932286644889502, -0.99955192872417 L 0.02515956610367846, -0.9996834480141574 L 0.020386272021005993, -0.999792178361626 M 0.020386272021005993,-0.999792178361626 Q -0.14866025875144456, -0.1337913579718569 -0.9921257931214792, 0.12524540160451306L -0.9921257931214792, 0.12524540160451306 L -0.9916356739724131, 0.12906854808696822 L -0.9911308224235369, 0.13288977704113783 ",
          "type": "path"
         },
         {
          "fillcolor": "#c45e3a",
          "layer": "below",
          "line": {
           "color": "rgb(175,175,175)",
           "width": 0.5
          },
          "path": "M -0.9879816425764127,0.1545712584279931 Q -0.09541673673383655, -0.17577157435451765 0.667854908681468, -0.7442914892366216L 0.667854908681468, -0.7442914892366216 L 0.6647597032781183, -0.7470572514189178 L 0.6616530442399542, -0.7498101420012944 M 0.6616530442399542,-0.7498101420012944 Q -0.09554013438763949, -0.17570453244350812 -0.989024274825149, 0.14775311775589764L -0.989024274825149, 0.14775311775589764 L -0.9885088371485374, 0.1511630870260534 L -0.9879816425764127, 0.1545712584279931 ",
          "type": "path"
         },
         {
          "fillcolor": "#c45e3a",
          "layer": "below",
          "line": {
           "color": "rgb(175,175,175)",
           "width": 0.5
          },
          "path": "M -0.9822171897747628,0.18774821466785693 Q -0.06056581297648465, -0.19060897748662703 0.9104397744995082, -0.41364165289448873L 0.9104397744995082, -0.41364165289448873 L 0.9103953154378176, -0.4137394948864281 L 0.9103508458613674, -0.4138373320998155 M 0.9103508458613674,-0.4138373320998155 Q -0.06056696364551254, -0.19060861185886424 -0.9822552571241313, 0.18754895321490508L -0.9822552571241313, 0.18754895321490508 L -0.9822362285023465, 0.1876485849066981 L -0.9822171897747628, 0.18774821466785693 ",
          "type": "path"
         },
         {
          "fillcolor": "#c45e3a",
          "layer": "below",
          "line": {
           "color": "rgb(175,175,175)",
           "width": 0.5
          },
          "path": "M -0.9869247264438735,0.1611818362399605 Q -0.03854115001764006, -0.19625131784351862 0.9745817956499301, -0.22403197001267006L 0.9745817956499301, -0.22403197001267006 L 0.9738118770174143, -0.2273552906352087 L 0.9730306259075705, -0.23067596547087796 M 0.9730306259075705,-0.23067596547087796 Q -0.03855372309144979, -0.19624884824066566 -0.9879816425764127, 0.1545712584279931L -0.9879816425764127, 0.1545712584279931 L -0.9874587163694363, 0.1578774317818261 L -0.9869247264438735, 0.1611818362399605 ",
          "type": "path"
         },
         {
          "fillcolor": "#c45e3a",
          "layer": "below",
          "line": {
           "color": "rgb(175,175,175)",
           "width": 0.5
          },
          "path": "M -0.9831937990214045,0.18256492972599667 Q -0.02819941522368495, -0.19800200246725339 0.9950696041404489, -0.09917904474116726L 0.9950696041404489, -0.09917904474116726 L 0.994948570732147, -0.10038596315251311 L 0.9948260734548814, -0.10159273386587717 M 0.9948260734548814,-0.10159273386587717 Q -0.028178495943715715, -0.19800498066046218 -0.983671848066953, 0.1799713736140986L -0.983671848066953, 0.1799713736140986 L -0.9834336785250961, 0.18126830926170728 L -0.9831937990214045, 0.18256492972599667 ",
          "type": "path"
         },
         {
          "fillcolor": "#bf4d28",
          "layer": "below",
          "line": {
           "color": "rgb(175,175,175)",
           "width": 0.5
          },
          "path": "M -0.9994023933245522,-0.034566692308597234 Q -0.19814917450790726, -0.02714598758260461 -0.9718758143638533, -0.2354939520552429L -0.9718758143638533, -0.2354939520552429 L -0.9748592760290644, -0.2228214351001454 L -0.9776775051598583, -0.21011115130900399 M -0.9776775051598583,-0.21011115130900399 Q -0.19815274554562134, -0.027119908420425255 -0.9981795824711485, -0.060311865646186326L -0.9981795824711485, -0.060311865646186326 L -0.9988739364872373, -0.047443218761911654 L -0.9994023933245522, -0.034566692308597234 ",
          "type": "path"
         },
         {
          "fillcolor": "#bf4d28",
          "layer": "below",
          "line": {
           "color": "rgb(175,175,175)",
           "width": 0.5
          },
          "path": "M -0.9988216556891533,0.04853143441501194 Q -0.19841099340814022, -0.025161035248871214 -0.9550910756918648, -0.2963123978738599L -0.9550910756918648, -0.2963123978738599 L -0.9552523102902494, -0.2957921967955564 L -0.9554132615552988, -0.29527190798358427 M -0.9554132615552988,-0.29527190798358427 Q -0.1984111855810614, -0.025159519795051967 -0.998873200226309, 0.04745871753062797L -0.998873200226309, 0.04745871753062797 L -0.9988475719638875, 0.047995082892381885 L -0.9988216556891533, 0.04853143441501194 ",
          "type": "path"
         },
         {
          "fillcolor": "#bf4d28",
          "layer": "below",
          "line": {
           "color": "rgb(175,175,175)",
           "width": 0.5
          },
          "path": "M -0.9989434270730021,0.04595682221004564 Q -0.19519356335784577, -0.043582941888618006 -0.8845221460012002, -0.46649820281908L -0.8845221460012002, -0.46649820281908 L -0.8850347443191112, -0.46552497392514347 L -0.8855462718055924, -0.46455118177787014 M -0.8855462718055924,-0.46455118177787014 Q -0.1951993760120624, -0.043556900767863234 -0.9990304004917043, 0.04402566175975983L -0.9990304004917043, 0.04402566175975983 L -0.9989873804275818, 0.044991263001142624 L -0.9989434270730021, 0.04595682221004564 ",
          "type": "path"
         },
         {
          "fillcolor": "#bf4d28",
          "layer": "below",
          "line": {
           "color": "rgb(175,175,175)",
           "width": 0.5
          },
          "path": "M -0.9998735613133438,0.015901615847797684 Q -0.17807304574051402, -0.09104938429608848 -0.5725354553969992, -0.8198799621367452L -0.5725354553969992, -0.8198799621367452 L -0.5761952054264319, -0.8173121100556335 L -0.5798434386766461, -0.8147279218387219 M -0.5798434386766461,-0.8147279218387219 Q -0.17812805441314233, -0.0909417188697718 -0.9999666272632556, 0.008169722134149534L -0.9999666272632556, 0.008169722134149534 L -0.9999275676300868, 0.012035758944829665 L -0.9998735613133438, 0.015901615847797684 ",
          "type": "path"
         },
         {
          "fillcolor": "#bf4d28",
          "layer": "below",
          "line": {
           "color": "rgb(175,175,175)",
           "width": 0.5
          },
          "path": "M -0.9986712024374208,0.05153473995467504 Q -0.15040142578761548, -0.13183099453866073 -0.0797649003286217, -0.9968137040969918L -0.0797649003286217, -0.9968137040969918 L -0.08001323325194741, -0.9967938013975456 L -0.08026156120922315, -0.9967738368317349 M -0.08026156120922315,-0.9967738368317349 Q -0.15039179418597165, -0.1318419820903962 -0.9987042026852275, 0.05089121278633378L -0.9987042026852275, 0.05089121278633378 L -0.9986877543952465, 0.051212979028562006 L -0.9986712024374208, 0.05153473995467504 ",
          "type": "path"
         },
         {
          "fillcolor": "#bf4d28",
          "layer": "below",
          "line": {
           "color": "rgb(175,175,175)",
           "width": 0.5
          },
          "path": "M -0.9997307719548263,0.02320309476356688 Q -0.14162044267644103, -0.14122198913812564 0.020386272021005993, -0.999792178361626L 0.020386272021005993, -0.999792178361626 L 0.01611503278534031, -0.9998701444279289 L 0.011843499457364366, -0.9999298633007234 M 0.011843499457364366,-0.9999298633007234 Q -0.14170804483727104, -0.14113408528203944 -0.9998735613133438, 0.015901615847797684L -0.9998735613133438, 0.015901615847797684 L -0.999808831879775, 0.019552485652721205 L -0.9997307719548263, 0.02320309476356688 ",
          "type": "path"
         },
         {
          "fillcolor": "#bf4d28",
          "layer": "below",
          "line": {
           "color": "rgb(175,175,175)",
           "width": 0.5
          },
          "path": "M -0.9981795824711485,-0.060311865646186326 Q -0.05731959099983285, -0.19161018889300196 0.8010815449024593, -0.5985552258703362L 0.8010815449024593, -0.5985552258703362 L 0.7914813891057673, -0.6111932678778498 L 0.7816818725254874, -0.6236773606321202 M 0.7816818725254874,-0.6236773606321202 Q -0.05768538168086016, -0.19150038313364673 -0.9961066170102202, -0.08815672151602817L -0.9961066170102202, -0.08815672151602817 L -0.9972402896795052, -0.07424152907865383 L -0.9981795824711485, -0.060311865646186326 ",
          "type": "path"
         },
         {
          "fillcolor": "#bf4d28",
          "layer": "below",
          "line": {
           "color": "rgb(175,175,175)",
           "width": 0.5
          },
          "path": "M -0.998873200226309,0.04745871753062797 Q -0.04609332622294124, -0.1946160457868403 0.9140495871386384, -0.4056024559241286L 0.9140495871386384, -0.4056024559241286 L 0.9137441996643385, -0.4062899673629384 L 0.9134382950715966, -0.40697724886864983 M 0.9134382950715966,-0.40697724886864983 Q -0.046093426900426726, -0.19461602194211816 -0.9989434270730021, 0.04595682221004564L -0.9989434270730021, 0.04595682221004564 L -0.9989085959189595, 0.04670778306891521 L -0.998873200226309, 0.04745871753062797 ",
          "type": "path"
         },
         {
          "fillcolor": "#bf4d28",
          "layer": "below",
          "line": {
           "color": "rgb(175,175,175)",
           "width": 0.5
          },
          "path": "M -0.9998525044624069,-0.01717467089211526 Q -0.014022542492816849, -0.19950781514025245 0.987619970862117, -0.15686552570374185L 0.987619970862117, -0.15686552570374185 L 0.9862718837088257, -0.16512955945391652 L 0.9848546474628369, -0.17338201570766004 M 0.9848546474628369,-0.17338201570766004 Q -0.013957553840140944, -0.19951237227500346 -0.9994023933245522, -0.034566692308597234L -0.9994023933245522, -0.034566692308597234 L -0.999665272570536, -0.025871660489348282 L -0.9998525044624069, -0.01717467089211526 ",
          "type": "path"
         },
         {
          "fillcolor": "#bf4d28",
          "layer": "below",
          "line": {
           "color": "rgb(175,175,175)",
           "width": 0.5
          },
          "path": "M -0.9999666272632556,0.008169722134149534 Q -0.007222697197288908, -0.1998695390628504 0.9979480359548234, -0.0640290366467466L 0.9979480359548234, -0.0640290366467466 L 0.9976767590357609, -0.06812550535519224 L 0.9973886666270586, -0.07222082583229116 M 0.9973886666270586,-0.07222082583229116 Q -0.007098785463800012, -0.1998739784087437 -0.9999991795357703, -0.0012809870358911444L -0.9999991795357703, -0.0012809870358911444 L -0.9999940680160427, 0.003444406004829308 L -0.9999666272632556, 0.008169722134149534 ",
          "type": "path"
         },
         {
          "fillcolor": "#af4624",
          "layer": "below",
          "line": {
           "color": "rgb(175,175,175)",
           "width": 0.5
          },
          "path": "M -0.99226473594252,-0.12413981555053627 Q -0.1953748984274024, -0.04276270646816213 -0.9533974516347337, -0.30171725044550524L -0.9533974516347337, -0.30171725044550524 L -0.953725525631894, -0.30067860209560543 L -0.95405246810721, -0.29963959701371423 M -0.95405246810721,-0.29963959701371423 Q -0.19537508265511505, -0.042761864757128655 -0.9919930361413595, -0.12629258191615042L -0.9919930361413595, -0.12629258191615042 L -0.9921294699380603, -0.12521627242664438 L -0.99226473594252, -0.12413981555053627 ",
          "type": "path"
         },
         {
          "fillcolor": "#af4624",
          "layer": "below",
          "line": {
           "color": "rgb(175,175,175)",
           "width": 0.5
          },
          "path": "M -0.9919930361413595,-0.12629258191615042 Q -0.19038375657937842, -0.061270100626031235 -0.8794537788823205, -0.4759842968098913L -0.8794537788823205, -0.4759842968098913 L -0.8803249137325279, -0.474371211459778 L -0.881193089880885, -0.47275653178584276 M -0.881193089880885,-0.47275653178584276 Q -0.19039636793989093, -0.06123089967734983 -0.9915767296105846, -0.12952061339716375L -0.9915767296105846, -0.12952061339716375 L -0.9917861961875232, -0.12790676702928547 L -0.9919930361413595, -0.12629258191615042 ",
          "type": "path"
         },
         {
          "fillcolor": "#af4624",
          "layer": "below",
          "line": {
           "color": "rgb(175,175,175)",
           "width": 0.5
          },
          "path": "M -0.9878685175793203,-0.1552926011619235 Q -0.17007573959692257, -0.10523422827464357 -0.5798434386766461, -0.8147279218387219L -0.5798434386766461, -0.8147279218387219 L -0.5832783517629913, -0.8122723461774679 L -0.5867028658830606, -0.809802288935147 M -0.5867028658830606,-0.809802288935147 Q -0.17013187317461317, -0.10514345310145252 -0.9866959779211237, -0.1625762810322503L -0.9866959779211237, -0.1625762810322503 L -0.9872889646505951, -0.15893552239558018 L -0.9878685175793203, -0.1552926011619235 ",
          "type": "path"
         },
         {
          "fillcolor": "#af4624",
          "layer": "below",
          "line": {
           "color": "rgb(175,175,175)",
           "width": 0.5
          },
          "path": "M -0.9928460289847727,-0.11940168645864181 Q -0.13864838787067077, -0.1441409884136502 -0.08075820216397471, -0.9967337221059808L -0.08075820216397471, -0.9967337221059808 L -0.08100651513062633, -0.996713571948527 L -0.08125482306957958, -0.9966933599296883 M -0.08125482306957958,-0.9966933599296883 Q -0.1386373826636759, -0.14415157345018992 -0.9927680937039052, -0.12004795759826255L -0.9927680937039052, -0.12004795759826255 L -0.9928071139308876, -0.11972482836998159 L -0.9928460289847727, -0.11940168645864181 ",
          "type": "path"
         },
         {
          "fillcolor": "#af4624",
          "layer": "below",
          "line": {
           "color": "rgb(175,175,175)",
           "width": 0.5
          },
          "path": "M -0.9888584629717494,-0.14885879285131026 Q -0.1295716097718526, -0.15235221672535898 0.011843499457364366, -0.9999298633007234L 0.011843499457364366, -0.9999298633007234 L 0.00807431743096146, -0.9999674021677027 L 0.00430502068350829, -0.9999907333555219 M 0.00430502068350829,-0.9999907333555219 Q -0.129649993712197, -0.15228551845276453 -0.9878685175793203, -0.1552926011619235L -0.9878685175793203, -0.1552926011619235 L -0.9883687254167757, -0.15207650251770763 L -0.9888584629717494, -0.14885879285131026 ",
          "type": "path"
         },
         {
          "fillcolor": "#af4624",
          "layer": "below",
          "line": {
           "color": "rgb(175,175,175)",
           "width": 0.5
          },
          "path": "M -0.9718758143638533,-0.2354939520552429 Q -0.03681626260005574, -0.1965822036913915 0.8207915272629008, -0.5712278606418236L 0.8207915272629008, -0.5712278606418236 L 0.8110516394018069, -0.5849745620312403 L 0.8010815449024593, -0.5985552258703362 M 0.8010815449024593,-0.5985552258703362 Q -0.037184934816858306, -0.19651280014967473 -0.9643895950502642, -0.26448574433943944L -0.9643895950502642, -0.26448574433943944 L -0.9682412224897097, -0.25001786950462657 L -0.9718758143638533, -0.2354939520552429 ",
          "type": "path"
         },
         {
          "fillcolor": "#af4624",
          "layer": "below",
          "line": {
           "color": "rgb(175,175,175)",
           "width": 0.5
          },
          "path": "M -0.9924521461549135,-0.12263253072698996 Q -0.029511880217647325, -0.1978106390617533 0.9134382950715966, -0.40697724886864983L 0.9134382950715966, -0.40697724886864983 L 0.9131318735335342, -0.4076643000523073 L 0.9128249352235658, -0.40835112052508554 M 0.9128249352235658,-0.40835112052508554 Q -0.029510463875311022, -0.19781085036434165 -0.99226473594252, -0.12413981555053627L -0.99226473594252, -0.12413981555053627 L -0.992358727223943, -0.12338620872073085 L -0.9924521461549135, -0.12263253072698996 ",
          "type": "path"
         },
         {
          "fillcolor": "#af4624",
          "layer": "below",
          "line": {
           "color": "rgb(175,175,175)",
           "width": 0.5
          },
          "path": "M -0.9835690219545462,-0.18053248752337467 Q -0.00067937022716221, -0.19999884613690763 0.9823198470455414, -0.1872103578876558L 0.9823198470455414, -0.1872103578876558 L 0.9810998136764648, -0.19350234004788158 L 0.9798394791592611, -0.19978637361168566 M 0.9798394791592611,-0.19978637361168566 Q -0.0006159040419249377, -0.19999905165327947 -0.9810513811678109, -0.19374774194485653L -0.9810513811678109, -0.19374774194485653 L -0.9823324248076714, -0.1871443484892897 L -0.9835690219545462, -0.18053248752337467 ",
          "type": "path"
         },
         {
          "fillcolor": "#af4624",
          "layer": "below",
          "line": {
           "color": "rgb(175,175,175)",
           "width": 0.5
          },
          "path": "M -0.9852848803157962,-0.17092017031669235 Q 0.011602296331240353, -0.1996631831856892 0.9984505269778688, -0.05564660975851109L 0.9984505269778688, -0.05564660975851109 L 0.9982080804071183, -0.05983835066189637 L 0.9979480359548234, -0.0640290366467466 M 0.9979480359548234,-0.0640290366467466 Q 0.011738743591110193, -0.19965520754265884 -0.9835690219545462, -0.18053248752337467L -0.9835690219545462, -0.18053248752337467 L -0.9844386833530108, -0.17572842319383253 L -0.9852848803157962, -0.17092017031669235 ",
          "type": "path"
         },
         {
          "fillcolor": "#9f4021",
          "layer": "below",
          "line": {
           "color": "rgb(175,175,175)",
           "width": 0.5
          },
          "path": "M -0.9291828695034947,-0.36962033902539976 Q -0.1761995886099241, -0.09462401901046856 -0.8213301011805728, -0.5704532100836229L -0.8213301011805728, -0.5704532100836229 L -0.8276922942531065, -0.5611822039534299 L -0.8339498429707505, -0.551840248087307 M -0.8339498429707505,-0.551840248087307 Q -0.1763152014585318, -0.09440841982915164 -0.9215888846515172, -0.3881673964757634L -0.9215888846515172, -0.3881673964757634 L -0.9254323421134154, -0.37891289258941613 L -0.9291828695034947, -0.36962033902539976 ",
          "type": "path"
         },
         {
          "fillcolor": "#9f4021",
          "layer": "below",
          "line": {
           "color": "rgb(175,175,175)",
           "width": 0.5
          },
          "path": "M -0.9344785692391813,-0.35601938659670296 Q -0.1536722954121548, -0.12800322504827538 -0.5190699957873386, -0.854731735384461L -0.5190699957873386, -0.854731735384461 L -0.5261638056209319, -0.8503832369317367 L -0.533221188304634, -0.845975865106679 M -0.533221188304634,-0.845975865106679 Q -0.1538031279110361, -0.12784599268174765 -0.9291828695034947, -0.36962033902539976L -0.9291828695034947, -0.36962033902539976 L -0.9318555338896943, -0.36282952465194 L -0.9344785692391813, -0.35601938659670296 ",
          "type": "path"
         },
         {
          "fillcolor": "#9f4021",
          "layer": "below",
          "line": {
           "color": "rgb(175,175,175)",
           "width": 0.5
          },
          "path": "M -0.9518069579856364,-0.30669775794767207 Q -0.12363040941203163, -0.15721171034186177 -0.07363782623007671, -0.9972850497967515L -0.07363782623007671, -0.9972850497967515 L -0.07471441202819534, -0.997204972227516 L -0.07579091075044835, -0.9971237324663462 M -0.07579091075044835,-0.9971237324663462 Q -0.1235775101447878, -0.15725329562974147 -0.9509345744710649, -0.3093920410668879L -0.9509345744710649, -0.3093920410668879 L -0.9513717200044894, -0.3080452083310165 L -0.9518069579856364, -0.30669775794767207 ",
          "type": "path"
         },
         {
          "fillcolor": "#9f4021",
          "layer": "below",
          "line": {
           "color": "rgb(175,175,175)",
           "width": 0.5
          },
          "path": "M -0.9116657692796083,-0.4109325067743121 Q -0.0956450508262535, -0.17564744305694685 0.14949157846703115, -0.9887629988867077L 0.14949157846703115, -0.9887629988867077 L 0.1340690640442909, -0.9909719905558824 L 0.1186140065556148, -0.9929404400309338 M 0.1186140065556148,-0.9929404400309338 Q -0.09600906914126206, -0.17544873508415035 -0.9002340339295819, -0.4354063437237363L -0.9002340339295819, -0.4354063437237363 L -0.9060325415740499, -0.4232080263993909 L -0.9116657692796083, -0.4109325067743121 ",
          "type": "path"
         },
         {
          "fillcolor": "#9f4021",
          "layer": "below",
          "line": {
           "color": "rgb(175,175,175)",
           "width": 0.5
          },
          "path": "M -0.9496458353291986,-0.31332536993021903 Q -0.05229328866779295, -0.19304251334953884 0.6616530442399542, -0.7498101420012944L 0.6616530442399542, -0.7498101420012944 L 0.65936146011024, -0.7518260868853197 L 0.6570637337703197, -0.7538350282149314 M 0.6570637337703197,-0.7538350282149314 Q -0.05235680408223932, -0.1930252964414095 -0.9479253425474818, -0.3184926136604101L -0.9479253425474818, -0.3184926136604101 L -0.9487891066401505, -0.3159101630542853 L -0.9496458353291986, -0.31332536993021903 ",
          "type": "path"
         },
         {
          "fillcolor": "#9f4021",
          "layer": "below",
          "line": {
           "color": "rgb(175,175,175)",
           "width": 0.5
          },
          "path": "M -0.9556060290061449,-0.2946474458180608 Q -0.012641967196798626, -0.199600051767015 0.9107950684000943, -0.4128587450667207L 0.9107950684000943, -0.4128587450667207 L 0.9106619120685991, -0.4131523712960668 L 0.9105286610765567, -0.4134459545794744 M 0.9105286610765567,-0.4134459545794744 Q -0.012641096728125998, -0.19960010689754193 -0.9554132615552988, -0.29527190798358427L -0.9554132615552988, -0.29527190798358427 L -0.9555096962944646, -0.2949596926484363 L -0.9556060290061449, -0.2946474458180608 ",
          "type": "path"
         },
         {
          "fillcolor": "#9f4021",
          "layer": "below",
          "line": {
           "color": "rgb(175,175,175)",
           "width": 0.5
          },
          "path": "M -0.9545732215346037,-0.2979764499571208 Q 0.005325364702050118, -0.19992908865592862 0.9690823665936686, -0.2467374449839635L 0.9690823665936686, -0.2467374449839635 L 0.9688779854114447, -0.24753878359776352 L 0.9686729415987992, -0.24833995291601654 M 0.9686729415987992,-0.24833995291601654 Q 0.005334240086149815, -0.19992885205168193 -0.95405246810721, -0.29963959701371423L -0.95405246810721, -0.29963959701371423 L -0.9543132071310264, -0.2988081369295266 L -0.9545732215346037, -0.2979764499571208 ",
          "type": "path"
         },
         {
          "fillcolor": "#9f4021",
          "layer": "below",
          "line": {
           "color": "rgb(175,175,175)",
           "width": 0.5
          },
          "path": "M -0.9509345744710649,-0.3093920410668879 Q 0.02183209572371802, -0.19880482789990395 0.9954149990111745, -0.09565029923415587L 0.9954149990111745, -0.09565029923415587 L 0.9952438655209748, -0.09741482506717279 L 0.9950696041404489, -0.09917904474116726 M 0.9950696041404489,-0.09917904474116726 Q 0.021891086625609343, -0.19879834085411796 -0.9496458353291986, -0.31332536993021903L -0.9496458353291986, -0.31332536993021903 L -0.9502922399441769, -0.31135937227242577 L -0.9509345744710649, -0.3093920410668879 ",
          "type": "path"
         },
         {
          "fillcolor": "#8f391e",
          "layer": "below",
          "line": {
           "color": "rgb(175,175,175)",
           "width": 0.5
          },
          "path": "M -0.7500381915851804,-0.6613945200586654 Q -0.10941043274874325, -0.167419703755958 -0.30463722939080873, -0.9524684553669438L -0.30463722939080873, -0.9524684553669438 L -0.3429379371774828, -0.9393580633839542 L -0.3806766291523075, -0.9247082264245499 M -0.3806766291523075,-0.9247082264245499 Q -0.10951787176248236, -0.16734944208038602 -0.6950095502517812, -0.7190005042131867L -0.6950095502517812, -0.7190005042131867 L -0.7230977502382565, -0.6907457155859686 L -0.7500381915851804, -0.6613945200586654 ",
          "type": "path"
         },
         {
          "fillcolor": "#8f391e",
          "layer": "below",
          "line": {
           "color": "rgb(175,175,175)",
           "width": 0.5
          },
          "path": "M -0.8704600551088227,-0.49223906027452285 Q -0.1051409643675842, -0.17013341121559397 -0.05092869774019184, -0.9987022918500228L -0.05092869774019184, -0.9987022918500228 L -0.053582444434318206, -0.9985634289560394 L -0.056235812747739894, -0.9984175145522043 M -0.056235812747739894,-0.9984175145522043 Q -0.10492759873548921, -0.17026508456992634 -0.8665831709775478, -0.4990326720551453L -0.8665831709775478, -0.4990326720551453 L -0.8685282555066317, -0.4956396567937307 L -0.8704600551088227, -0.49223906027452285 ",
          "type": "path"
         },
         {
          "fillcolor": "#8f391e",
          "layer": "below",
          "line": {
           "color": "rgb(175,175,175)",
           "width": 0.5
          },
          "path": "M -0.7988386251939646,-0.6015453855680521 Q -0.048300780158667705, -0.1940799696930728 0.4237047257685409, -0.9058003672782461L 0.4237047257685409, -0.9058003672782461 L 0.38741631460531134, -0.9219048753410725 L 0.3505172563110134, -0.9365562732843122 M 0.3505172563110134,-0.9365562732843122 Q -0.048510923322542254, -0.1940275504107456 -0.7500381915851804, -0.6613945200586654L -0.7500381915851804, -0.6613945200586654 L -0.7750163405463095, -0.6319411933765727 L -0.7988386251939646, -0.6015453855680521 ",
          "type": "path"
         },
         {
          "fillcolor": "#8f391e",
          "layer": "below",
          "line": {
           "color": "rgb(175,175,175)",
           "width": 0.5
          },
          "path": "M -0.8665831709775478,-0.4990326720551453 Q -0.02927396220746591, -0.19784598842704862 0.684938330244481, -0.7286010456771951L 0.684938330244481, -0.7286010456771951 L 0.6806569494360614, -0.7326022912770578 L 0.6763521947400508, -0.7365783791765249 M 0.6763521947400508,-0.7365783791765249 Q -0.029272687607073883, -0.19784617701704188 -0.8606685063605393, -0.5091657118847639L -0.8606685063605393, -0.5091657118847639 L -0.8636407000835798, -0.5041078665912129 L -0.8665831709775478, -0.4990326720551453 ",
          "type": "path"
         },
         {
          "fillcolor": "#8f391e",
          "layer": "below",
          "line": {
           "color": "rgb(175,175,175)",
           "width": 0.5
          },
          "path": "M -0.8774682682160729,-0.47963469252534885 Q 0.009438706205536794, -0.19977715291085107 0.918780488607726, -0.39476881051287266L 0.918780488607726, -0.39476881051287266 L 0.9175456874199798, -0.3976303704409369 L 0.9163019738731483, -0.40048806808214926 M 0.9163019738731483,-0.40048806808214926 Q 0.009524156589630592, -0.19977309739115576 -0.8740462696165797, -0.4858426891179297L -0.8740462696165797, -0.4858426891179297 L -0.8757627697414444, -0.4827417230101349 L -0.8774682682160729, -0.47963469252534885 ",
          "type": "path"
         },
         {
          "fillcolor": "#8f391e",
          "layer": "below",
          "line": {
           "color": "rgb(175,175,175)",
           "width": 0.5
          },
          "path": "M -0.886113379013329,-0.46346853133042426 Q 0.022734568897051166, -0.19870364711566124 0.9678981281483184, -0.2513428207189959L 0.9678981281483184, -0.2513428207189959 L 0.96784614285545, -0.25154292627666525 L 0.9677941161922838, -0.2517430210822064 M 0.9677941161922838,-0.2517430210822064 Q 0.02274205794440927, -0.19870279011743427 -0.8858866949178741, -0.4639016746763105L -0.8858866949178741, -0.4639016746763105 L -0.8860000634347249, -0.46368511685589325 L -0.886113379013329, -0.46346853133042426 ",
          "type": "path"
         },
         {
          "fillcolor": "#8f391e",
          "layer": "below",
          "line": {
           "color": "rgb(175,175,175)",
           "width": 0.5
          },
          "path": "M -0.8858866949178741,-0.4639016746763105 Q 0.03733838756973085, -0.1964837011400502 0.9943015731442157, -0.1066038537902729L 0.9943015731442157, -0.1066038537902729 L 0.9942716939987625, -0.10688217116447087 L 0.9942417369488169, -0.10716048016409631 M 0.9942417369488169,-0.10716048016409631 Q 0.037355430360616525, -0.19648046168149425 -0.8855462718055924, -0.46455118177787014L -0.8855462718055924, -0.46455118177787014 L -0.885716542898203, -0.4642264594316611 L -0.8858866949178741, -0.4639016746763105 ",
          "type": "path"
         },
         {
          "fillcolor": "#f0f3e7",
          "layer": "below",
          "line": {
           "color": "rgb(175,175,175)",
           "width": 0.5
          },
          "path": "M -0.5557195521405116,-0.8313698210596469 Q -0.06163611874253392, -0.1902655745697478 -0.03732300577705589, -0.9993032538923137L -0.03732300577705589, -0.9993032538923137 L -0.04114004369846409, -0.999153390028022 L -0.04495648129457773, -0.9989889462799928 M -0.04495648129457773,-0.9989889462799928 Q -0.06127590188491954, -0.1903818894963219 -0.5461848654207149, -0.8376646660719047L -0.5461848654207149, -0.8376646660719047 L -0.550961198841324, -0.8345308606464659 L -0.5557195521405116, -0.8313698210596469 ",
          "type": "path"
         },
         {
          "fillcolor": "#f0f3e7",
          "layer": "below",
          "line": {
           "color": "rgb(175,175,175)",
           "width": 0.5
          },
          "path": "M -0.30463722939080873,-0.9524684553669438 Q 0.0223998834017431, -0.1987416544753221 0.509004042024363, -0.8607641286687431L 0.509004042024363, -0.8607641286687431 L 0.46689771586126044, -0.8843113269225594 L 0.4237047257685409, -0.9058003672782461 M 0.4237047257685409,-0.9058003672782461 Q 0.022288609047662694, -0.19875416450157832 -0.21254758765253712, -0.9771507166159614L -0.21254758765253712, -0.9771507166159614 L -0.2588867266781574, -0.9659076885240478 L -0.30463722939080873, -0.9524684553669438 ",
          "type": "path"
         },
         {
          "fillcolor": "#f0f3e7",
          "layer": "below",
          "line": {
           "color": "rgb(175,175,175)",
           "width": 0.5
          },
          "path": "M -0.4779530065153341,-0.8783854071892093 Q 0.039639300325401965, -0.19603246126525217 0.7816818725254874, -0.6236773606321202L 0.7816818725254874, -0.6236773606321202 L 0.7723062658058871, -0.635250369379638 L 0.7627593333419971, -0.646682456387733 M 0.7627593333419971,-0.646682456387733 Q 0.03968959764237989, -0.19602228403675434 -0.4511210118769426, -0.8924627906210564L -0.4511210118769426, -0.8924627906210564 L -0.46459033146845036, -0.8855257330569425 L -0.4779530065153341, -0.8783854071892093 ",
          "type": "path"
         },
         {
          "fillcolor": "#f0f3e7",
          "layer": "below",
          "line": {
           "color": "rgb(175,175,175)",
           "width": 0.5
          },
          "path": "M -0.5461848654207149,-0.8376646660719047 Q 0.06175413716122137, -0.19022730230824667 0.9340549266548652, -0.3571293799056225L 0.9340549266548652, -0.3571293799056225 L 0.93165462085579, -0.36334510790439195 L 0.9292129526264289, -0.36954470456397304 M 0.9292129526264289,-0.36954470456397304 Q 0.061951281515942716, -0.1901631897043495 -0.533221188304634, -0.845975865106679L -0.533221188304634, -0.845975865106679 L -0.5397190252456191, -0.841845219614579 L -0.5461848654207149, -0.8376646660719047 ",
          "type": "path"
         },
         {
          "fillcolor": "#f0f3e7",
          "layer": "below",
          "line": {
           "color": "rgb(175,175,175)",
           "width": 0.5
          },
          "path": "M -0.5998983499734128,-0.8000762274303472 Q 0.06683109183787446, -0.18850359456455357 0.9698932622295613, -0.24353040853597618L 0.9698932622295613, -0.24353040853597618 L 0.9694891405081878, -0.24513426206202865 L 0.9690823665936686, -0.2467374449839635 M 0.9690823665936686,-0.2467374449839635 Q 0.06689386353892383, -0.18848132804295453 -0.5967141134491917, -0.802453903230924L -0.5967141134491917, -0.802453903230924 L -0.5983074128239865, -0.801266647103115 L -0.5998983499734128, -0.8000762274303472 ",
          "type": "path"
         },
         {
          "fillcolor": "#f0f3e7",
          "layer": "below",
          "line": {
           "color": "rgb(175,175,175)",
           "width": 0.5
          },
          "path": "M -0.5931205855679695,-0.8051136385476954 Q 0.08295330412700216, -0.18198557452285358 0.996762055046856, -0.08040774601223702L 0.996762055046856, -0.08040774601223702 L 0.9965175327689909, -0.08338349287480719 L 0.996264126676301, -0.08635849638516838 M 0.996264126676301,-0.08635849638516838 Q 0.08313310696236761, -0.18190350883582085 -0.5867028658830606, -0.809802288935147L -0.5867028658830606, -0.809802288935147 L -0.5899163839130671, -0.807464339764259 L -0.5931205855679695, -0.8051136385476954 ",
          "type": "path"
         },
         {
          "fillcolor": "#e2ecde",
          "layer": "below",
          "line": {
           "color": "rgb(175,175,175)",
           "width": 0.5
          },
          "path": "M -0.03732300577705589,-0.9993032538923137 Q 0.002853878502599525, -0.19997963740714306 0.0658238038321978, -0.9978312617116485L 0.0658238038321978, -0.9978312617116485 L 0.058675903658391114, -0.9982770849467953 L 0.05152499392500717, -0.9986717053171317 M 0.05152499392500717,-0.9986717053171317 Q 0.0023682499243815967, -0.1999859779891972 -0.02786116102094553, -0.9996118025046348L -0.02786116102094553, -0.9996118025046348 L -0.03259244852491122, -0.999468725023025 L -0.03732300577705589, -0.9993032538923137 ",
          "type": "path"
         },
         {
          "fillcolor": "#e2ecde",
          "layer": "below",
          "line": {
           "color": "rgb(175,175,175)",
           "width": 0.5
          },
          "path": "M -0.07363782623007671,-0.9972850497967515 Q 0.06268512586251627, -0.18992254999236002 0.6528199405620221, -0.7575131188333295L 0.6528199405620221, -0.7575131188333295 L 0.6512463646386256, -0.7588663733128345 L 0.6496699835113222, -0.7602163590218237 M 0.6496699835113222,-0.7602163590218237 Q 0.06255905946832747, -0.1899641126066665 -0.07082173774479378, -0.9974889881411261L -0.07082173774479378, -0.9974889881411261 L -0.07222985396402586, -0.9973880128597573 L -0.07363782623007671, -0.9972850497967515 ",
          "type": "path"
         },
         {
          "fillcolor": "#e2ecde",
          "layer": "below",
          "line": {
           "color": "rgb(175,175,175)",
           "width": 0.5
          },
          "path": "M -0.078771519283081,-0.996892696206485 Q 0.10207968881944812, -0.1719876074911348 0.9128249352235658, -0.40835112052508554L 0.9128249352235658, -0.40835112052508554 L 0.9125174803153978, -0.40903770989828986 L 0.9122095089830294, -0.40972406778335624 M 0.9122095089830294,-0.40972406778335624 Q 0.10205028018812586, -0.17200505897654583 -0.07761247593313683, -0.9969836024627127L -0.07761247593313683, -0.9969836024627127 L -0.07819201081909477, -0.9969383177730037 L -0.078771519283081, -0.996892696206485 ",
          "type": "path"
         },
         {
          "fillcolor": "#e2ecde",
          "layer": "below",
          "line": {
           "color": "rgb(175,175,175)",
           "width": 0.5
          },
          "path": "M -0.0797649003286217,-0.9968137040969918 Q 0.11620544144065303, -0.1627768269121344 0.9686729415987992, -0.24833995291601654L 0.9686729415987992, -0.24833995291601654 L 0.9685187239724427, -0.24894071847488397 L 0.9683641337546735, -0.2495413882656762 M 0.9683641337546735,-0.2495413882656762 Q 0.11618558418337627, -0.1627910010656842 -0.078771519283081, -0.996892696206485L -0.078771519283081, -0.996892696206485 L -0.0792682196454721, -0.9968533238918538 L -0.0797649003286217, -0.9968137040969918 ",
          "type": "path"
         },
         {
          "fillcolor": "#e2ecde",
          "layer": "below",
          "line": {
           "color": "rgb(175,175,175)",
           "width": 0.5
          },
          "path": "M -0.08158589247401657,-0.9966663143445845 Q 0.1274138218414671, -0.15416133757771722 0.9942016730348482, -0.10753154576545848L 0.9942016730348482, -0.10753154576545848 L 0.9941815891448439, -0.10771707295240104 L 0.9941614706337585, -0.10790259638823572 M 0.9941614706337585,-0.10790259638823572 Q 0.1274106576595328, -0.15416395270868394 -0.08125482306957958, -0.9966933599296883L -0.08125482306957958, -0.9966933599296883 L -0.0814203588947718, -0.9966798508836459 L -0.08158589247401657, -0.9966663143445845 ",
          "type": "path"
         },
         {
          "fillcolor": "#d4e5d6",
          "layer": "below",
          "line": {
           "color": "rgb(175,175,175)",
           "width": 0.5
          },
          "path": "M 0.1819539696044706,-0.9833070491688624 Q 0.11136965897778822, -0.16612284327921661 0.8404969817377702, -0.5418162268608225L 0.8404969817377702, -0.5418162268608225 L 0.830774420998164, -0.5566092537994363 L 0.8207915272629008, -0.5712278606418236 M 0.8207915272629008,-0.5712278606418236 Q 0.11145542451148448, -0.1660653134973249 0.21765427704879925, -0.9760259298207014L 0.21765427704879925, -0.9760259298207014 L 0.19983728724406183, -0.9798290966423351 L 0.1819539696044706, -0.9833070491688624 ",
          "type": "path"
         },
         {
          "fillcolor": "#d4e5d6",
          "layer": "below",
          "line": {
           "color": "rgb(175,175,175)",
           "width": 0.5
          },
          "path": "M 0.08236325646146463,-0.9966023750649318 Q 0.1212331129968745, -0.1590676972646774 0.9391008782022566, -0.34364158735483447L 0.9391008782022566, -0.34364158735483447 L 0.9366021820679558, -0.3503945669463837 L 0.9340549266548652, -0.3571293799056225 M 0.9340549266548652,-0.3571293799056225 Q 0.12142673809781215, -0.15891993982796915 0.09913011075115624, -0.9950744801985746L 0.09913011075115624, -0.9950744801985746 L 0.09074989918024455, -0.9958737147845481 L 0.08236325646146463, -0.9966023750649318 ",
          "type": "path"
         },
         {
          "fillcolor": "#d4e5d6",
          "layer": "below",
          "line": {
           "color": "rgb(175,175,175)",
           "width": 0.5
          },
          "path": "M 0.0035511522802854066,-0.9999936946388623 Q 0.12269448626480808, -0.15794322726921475 0.9680538357829251, -0.2507424396187558L 0.9680538357829251, -0.2507424396187558 L 0.9679760285134524, -0.2510426422409624 L 0.9678981281483184, -0.2513428207189959 M 0.9678981281483184,-0.2513428207189959 Q 0.1227050390038464, -0.15793502905645895 0.00430502068350829, -0.9999907333555219L 0.00430502068350829, -0.9999907333555219 L 0.003928086760951698, -0.9999922850374389 L 0.0035511522802854066, -0.9999936946388623 ",
          "type": "path"
         },
         {
          "fillcolor": "#d4e5d6",
          "layer": "below",
          "line": {
           "color": "rgb(175,175,175)",
           "width": 0.5
          },
          "path": "M 0.04047993396731593,-0.9991803515612193 Q 0.1391554955594398, -0.1436514812161947 0.9973886666270586, -0.07222082583229116L 0.9973886666270586, -0.07222082583229116 L 0.9970837635844125, -0.07631492905286129 L 0.996762055046856, -0.08040774601223702 M 0.996762055046856,-0.08040774601223702 Q 0.13935976592978472, -0.1434533221643738 0.05152499392500717, -0.9986717053171317L 0.05152499392500717, -0.9986717053171317 L 0.04600316694933404, -0.998941293885998 L 0.04047993396731593, -0.9991803515612193 ",
          "type": "path"
         },
         {
          "fillcolor": "#c6decd",
          "layer": "below",
          "line": {
           "color": "rgb(175,175,175)",
           "width": 0.5
          },
          "path": "M 0.6941337705154731,-0.7198460311969307 Q 0.16607123781607577, -0.11144659694327326 0.9292129526264289, -0.36954470456397304L 0.9292129526264289, -0.36954470456397304 L 0.9268107674349662, -0.375528695796485 L 0.9243700467078402, -0.3814970730547555 M 0.9243700467078402,-0.3814970730547555 Q 0.1661689027570351, -0.11130092432914925 0.7046047544941217, -0.7095999858682908L 0.7046047544941217, -0.7095999858682908 L 0.699388025846685, -0.7147421837993589 L 0.6941337705154731, -0.7198460311969307 ",
          "type": "path"
         },
         {
          "fillcolor": "#c6decd",
          "layer": "below",
          "line": {
           "color": "rgb(175,175,175)",
           "width": 0.5
          },
          "path": "M 0.7309494599836639,-0.6824315987332285 Q 0.18049573179021697, -0.08614691408004158 0.9902816095022297, -0.13907671940937358L 0.9902816095022297, -0.13907671940937358 L 0.988990786513853, -0.14797710698182492 L 0.987619970862117, -0.15686552570374185 M 0.987619970862117,-0.15686552570374185 Q 0.18063572437385045, -0.08585298527095221 0.7452801525127494, -0.6667514486452751L 0.7452801525127494, -0.6667514486452751 L 0.738156442754192, -0.6746295768942221 L 0.7309494599836639, -0.6824315987332285 ",
          "type": "path"
         },
         {
          "fillcolor": "#c6decd",
          "layer": "below",
          "line": {
           "color": "rgb(175,175,175)",
           "width": 0.5
          },
          "path": "M 0.7171403135021013,-0.6969288132586483 Q 0.18411384440069747, -0.07811589018884547 0.9995065603657315, -0.031410759078131914L 0.9995065603657315, -0.031410759078131914 L 0.9992369825373447, -0.03905704455872535 L 0.998908911020888, -0.04670104370422384 M 0.998908911020888,-0.04670104370422384 Q 0.18429767557763735, -0.07768118676153149 0.7309494599836639, -0.6824315987332285L 0.7309494599836639, -0.6824315987332285 L 0.7240811697080398, -0.6897147668958792 L 0.7171403135021013, -0.6969288132586483 ",
          "type": "path"
         },
         {
          "fillcolor": "#b8d7c5",
          "layer": "below",
          "line": {
           "color": "rgb(175,175,175)",
           "width": 0.5
          },
          "path": "M 0.9104397744995082,-0.41364165289448873 Q 0.1885129539135867, -0.06680468701201996 0.9677420481610438, -0.25194310512706647L 0.9677420481610438, -0.25194310512706647 L 0.9677159986330914, -0.2520431431115684 L 0.9676899387639555, -0.25214317840269285 M 0.9676899387639555,-0.25214317840269285 Q 0.18851322750377997, -0.06680391497590618 0.9105286610765567, -0.4134459545794744L 0.9105286610765567, -0.4134459545794744 L 0.9104842230459257, -0.4135438061251275 L 0.9104397744995082, -0.41364165289448873 ",
          "type": "path"
         },
         {
          "fillcolor": "#b8d7c5",
          "layer": "below",
          "line": {
           "color": "rgb(175,175,175)",
           "width": 0.5
          },
          "path": "M 0.9107950684000943,-0.4128587450667207 Q 0.1929800963935234, -0.05252316056699583 0.994400607622158, -0.10567606900657803L 0.994400607622158, -0.10567606900657803 L 0.9943511985925213, -0.10613997294900869 L 0.9943015731442157, -0.1066038537902729 M 0.9943015731442157,-0.1066038537902729 Q 0.19298381555118796, -0.052509493763557326 0.911238239001261, -0.4118796811957114L 0.911238239001261, -0.4118796811957114 L 0.9110167852248918, -0.4123692726652938 L 0.9107950684000943, -0.4128587450667207 ",
          "type": "path"
         },
         {
          "fillcolor": "#aad0bc",
          "layer": "below",
          "line": {
           "color": "rgb(175,175,175)",
           "width": 0.5
          },
          "path": "M 0.970743209739482,-0.2401200132114938 Q 0.1972176723937793, -0.0332443934458121 0.9958163654852337, -0.09137705528074082L 0.9958163654852337, -0.09137705528074082 L 0.9956179748739112, -0.09351389259341052 L 0.9954149990111745, -0.09565029923415587 M 0.9954149990111745,-0.09565029923415587 Q 0.1972253656291931, -0.03319872215057541 0.9718740494994618, -0.23550123547344234L 0.9718740494994618, -0.23550123547344234 L 0.9713113750235837, -0.23781129651426391 L 0.970743209739482, -0.2401200132114938 ",
          "type": "path"
         },
         {
          "fillcolor": "#f2e6ce",
          "layer": "below",
          "line": {
           "color": "rgb(150,150,150)",
           "width": 0.45
          },
          "path": "M 1.1, 0.0 L 1.099713297726551, 0.025113000684799748 L 1.098853340357464, 0.05021291054343683 L 1.097420576168618, 0.07528664557369336 L 1.0954157520268306, 0.1003211354176838 L 1.0928399130005375, 0.12530333017513012 L 1.0896944018150203, 0.1502202072059729 L 1.085980858152475, 0.17505877791877203 L 1.0817012177972851, 0.19980609454135928 L 1.07685771162694, 0.22444925687021197 L 1.0714528644491317, 0.24897541899503062 L 1.06548949368563, 0.273371795995015 L 1.0589707079036266, 0.29762567060334727 L 0.9627006435487514, 0.2705687914575884 L 0.9686268124414817, 0.2485198145409227 L 0.9740480585901196, 0.22634128999548236 L 0.9789615560244908, 0.20404477897291995 L 0.9833647434520773, 0.18164190412850842 L 0.9872553255931591, 0.15914434356252002 L 0.990631274377291, 0.13656382473270262 L 0.9934908300004887, 0.11391211834102738 L 0.9958325018425732, 0.09120103219789436 L 0.997655069244198, 0.06844240506699395 L 0.9989575821431491, 0.04564810049403348 L 0.9997393615695916, 0.022830000622545223 L 1.0, 0.0 L 1.1 ,0.0",
          "type": "path"
         },
         {
          "fillcolor": "#ecd5bb",
          "layer": "below",
          "line": {
           "color": "rgb(150,150,150)",
           "width": 0.45
          },
          "path": "M 1.0490995215500296, 0.3307418840780516 L 1.0420012662876854, 0.35246753191586383 L 1.0344531515201263, 0.3740410101981852 L 1.026458435968128, 0.3954530050838718 L 1.0180205711618362, 0.41669427244843305 L 1.0091431999506502, 0.4377556418749647 L 0.999830154930508, 0.4586280206132598 L 0.9900854567892536, 0.47930239750539044 L 0.9799133125707996, 0.49976984687606213 L 0.9693181138588353, 0.5200215323860641 L 0.9583044348808634, 0.5400487108471507 L 0.9468770305333853, 0.5598427359967071 L 0.9350408343290867, 0.5793950622305696 L 0.9228009562669095, 0.5986972482923881 L 0.91016268062593, 0.6177409609179414 L 0.8971314636839959, 0.636517978432826 L 0.8837129313621069, 0.6550201943019712 L 0.8699128767955563, 0.6732396206294453 L 0.8557372578328802, 0.6911683916070404 L 0.8411921944636976, 0.7087987669101499 L 0.8262839661765489, 0.7261231350394725 L 0.8110190092478741, 0.7431340166070969 L 0.7954039139633029, 0.7598240675655509 L 0.7794454217724531, 0.7761860823784222 L 0.7631504223784693, 0.7922129971311781 L 0.7465259507635557, 0.8078978925808443 L 0.7295791841517875, 0.8232339971432255 L 0.7123174389105145, 0.8382146898163774 L 0.6947481673916911, 0.8528335030390674 L 0.6768789547144993, 0.8670841254829932 L 0.6587175154906518, 0.8809604047775491 L 0.64027169049379, 0.8944563501659678 L 0.6215494432744152, 0.9075661350916884 L 0.6025588567218128, 0.9202840997138341 L 0.5833081295744554, 0.9326047533507164 L 0.5638055728803901, 0.9445227768503073 L 0.5440596064091399, 0.9560330248866573 L 0.5240787550166663, 0.9671305281812694 L 0.5038716449649636, 0.9778104956484676 L 0.48344700019787307, 0.9880683164638354 L 0.46281363857472596, 0.9978995620548309 L 0.4419804680634402, 1.0072999880127183 L 0.4209564828947154, 1.0162655359249921 L 0.3997507596789857, 1.0247923351275 L 0.37837245348780596, 1.0328767043755118 L 0.35683079390136657, 1.0405151534330102 L 0.3351350810238387, 1.0477043845795173 L 0.304668255476217, 0.9524585314359248 L 0.3243916308194241, 0.9459228667572819 L 0.3439749577161872, 0.9389788221595561 L 0.3634097815263506, 0.9316293955704543 L 0.3826877117224685, 0.9238777599318109 L 0.40180042551221834, 0.9157272618297438 L 0.42073967143156904, 0.9071814200498461 L 0.4394972729071573, 0.8982439240580321 L 0.45806513178633057, 0.8889186324076978 L 0.47643523183333303, 0.8792095710738812 L 0.49459964219012714, 0.8691209317151429 L 0.5125505208003546, 0.8586570698639157 L 0.5302801177949594, 0.8478225030461057 L 0.5477807788380116, 0.8366219088307582 L 0.5650449484312865, 0.8250601228106257 L 0.5820651731761727, 0.8131421365145162 L 0.5988341049915016, 0.8008730952523173 L 0.6153445042859085, 0.7882582958936301 L 0.6315892430833555, 0.7753031845809703 L 0.6475613081004676, 0.7620133543785248 L 0.6632538037743522, 0.7483945428574778 L 0.678659955239596, 0.7344526296189493 L 0.6937731112531539, 0.7201936337556164 L 0.7085867470658664, 0.7056237112531111 L 0.7230944672393662, 0.6907491523323189 L 0.7372900084071582, 0.6755763787337243 L 0.7511672419786807, 0.6601119409449749 L 0.7647201767851796, 0.6443625153728635 L 0.7779429616662547, 0.6283349014609457 L 0.7908298879959602, 0.6120360187540411 L 0.8033753921473699, 0.5954729039108829 L 0.8155740578945416, 0.5786527076662054 L 0.8274206187508454, 0.561582691743583 L 0.838909960242645, 0.5442702257203528 L 0.8500371221173515, 0.5267227838459723 L 0.8607973004848957, 0.5089479418151882 L 0.8711858498916939, 0.4909533734974097 L 0.8811982853262138, 0.47274684762369457 L 0.8908302841552723, 0.4543362244327837 L 0.9000776879902305, 0.43572945227762766 L 0.9089365044822799, 0.41693456419387254 L 0.9174029090460455, 0.39795967443178604 L 0.9254732465107601, 0.37881297495312094 L 0.933144032698298, 0.3595027318944289 L 0.9404119559273875, 0.34003728199835015 L 0.9472738784433502, 0.32042502901442166 L 0.953726837772754, 0.300674440070956 L 1.0490995215500296 ,0.3307418840780516",
          "type": "path"
         },
         {
          "fillcolor": "#e6c4a9",
          "layer": "below",
          "line": {
           "color": "rgb(150,150,150)",
           "width": 0.45
          },
          "path": "M 0.3020605220829019, 1.0577142529998378 L 0.27908884096773656, 1.0640063058306026 L 0.25598631376352865, 1.0697995172768402 L 0.23276377169993712, 1.0750911712892166 L 0.20943210227356002, 1.0798787869651285 L 0.18600224414351615, 1.084160119711833 L 0.16248518200304024, 1.0879331622987871 L 0.13889194142949335, 1.091196145798704 L 0.11523358371520927, 1.0939475404168841 L 0.09152120068159247, 1.096186056208434 L 0.06776590947890594, 1.0979106436830353 L 0.0439788473741837, 1.0991204942969803 L 0.02017116652970957, 1.0998150408322442 L -0.0036459712254838053, 1.0999939576624151 L -0.027461399628651628, 1.0996571609053594 L -0.05126395321844971, 1.098804808462548 L -0.07504247256967286, 1.0974372999450266 L -0.09878580952516222, 1.0955552764860652 L -0.12248283242243088, 1.0931596204405736 L -0.1461224313125564, 1.0902514549714242 L -0.1696935231688918, 1.0868321435228758 L -0.19318505708315614, 1.082903289181346 L -0.21658601944646488, 1.0784667339238312 L -0.23988543911287652, 1.0735245577543266 L -0.2630723925430267, 1.068079077728652 L -0.23915672049366066, 0.9709809797533199 L -0.21807767192079683, 0.9759314161402969 L -0.19689638131496806, 0.9804243035671192 L -0.17562277916650557, 0.9844575356194054 L -0.1542668392444471, 0.9880292213844325 L -0.1328385739205058, 0.9911376863376583 L -0.11134802947493716, 0.9937814731277941 L -0.0898052813865111, 0.9959593422600591 L -0.0682204296087935, 0.9976702726772968 L -0.04660359383495428, 0.9989134622386799 L -0.02496490875331966, 0.9996883280957812 L -0.003314519295894368, 0.9999945069658318 L 0.018337424117917788, 0.9998318553020401 L 0.039980770340167, 0.9992004493608911 L 0.06160537225355085, 0.9981005851663957 L 0.08320109152872042, 0.9965327783713035 L 0.10475780337746296, 0.9944977640153491 L 0.1262654012995394, 0.9919964961806399 L 0.14771380182094565, 0.9890301475443518 L 0.1690929492213783, 0.985600108828939 L 0.19039282024869092, 0.9817079881501167 L 0.21160342881812463, 0.9773556102629242 L 0.23271483069411691, 0.9725450157062183 L 0.25371712815248776, 0.9672784598460022 L 0.2746004746208199, 0.9615584118180344 L 0.3020605220829019 ,1.0577142529998378",
          "type": "path"
         },
         {
          "fillcolor": "#e1b396",
          "layer": "below",
          "line": {
           "color": "rgb(150,150,150)",
           "width": 0.45
          },
          "path": "M -0.29649175678478834, 1.0592887416368921 L -0.3199400615614322, 1.0524439923378663 L -0.3432305979206599, 1.0450802632578162 L -0.36635188086417464, 1.0372011855890264 L -0.3892925088556984, 1.0288106446517922 L -0.41204116944328295, 1.0199127779784956 L -0.4345866448376908, 1.01051197327331 L -0.4569178174440967, 1.0006128662485425 L -0.4790236753443804, 0.990220338338676 L -0.5008933177273104, 0.9793395142932444 L -0.5225159602639364, 0.967975759649722 L -0.543880940425544, 0.9561346780876772 L -0.564977722741546, 0.9438221086654927 L -0.5857959039947199, 0.9310441229410178 L -0.6063252183512289, 0.9178070219775695 L -0.6265555424228955, 0.9041173332367605 L -0.6464769002592338, 0.8899818073596858 L -0.6660794682667768, 0.875407414838056 L -0.6853535800532734, 0.8604013425769171 L -0.6230487091393394, 0.7821830387062882 L -0.6055267893334334, 0.7958249225800508 L -0.5877062729629398, 0.809074370326987 L -0.5695959476571777, 0.8219248483970549 L -0.5512047439556625, 0.8343700199796086 L -0.5325417309042908, 0.846403748128198 L -0.5136161115832236, 0.8580200987868114 L -0.49443721856867634, 0.8692133437160701 L -0.47501450933085126, 0.8799779633179291 L -0.4553575615702821, 0.8903086493574949 L -0.43547606849489123, 0.9002003075806144 L -0.4153798340400879, 0.9096480602259476 L -0.39507876803426434, 0.9186472484302818 L -0.3745828813120754, 0.927193434525905 L -0.3539022807779076, 0.9352824042289019 L -0.3330471644219769, 0.9429101687172966 L -0.312027816291509, 0.9500729665980147 L -0.29085460141948377, 0.9567672657616967 L -0.26953796071344394, 0.9629897651244472 L -0.29649175678478834 ,1.0592887416368921",
          "type": "path"
         },
         {
          "fillcolor": "#dba284",
          "layer": "below",
          "line": {
           "color": "rgb(150,150,150)",
           "width": 0.45
          },
          "path": "M -0.7120412587155689, 0.838449310266726 L -0.731018012305031, 0.8219566081525239 L -0.7496128685520765, 0.8050345006899564 L -0.7678161131595695, 0.7876918283012281 L -0.7856182364155435, 0.7699376511194469 L -0.7141983967414032, 0.6999433191994971 L -0.6980146483268813, 0.7160834802738436 L -0.6814662441382513, 0.7318495460817785 L -0.66456182936821, 0.7472332801386581 L -0.6473102351959716, 0.7622266456970236 L -0.7120412587155689 ,0.838449310266726",
          "type": "path"
         },
         {
          "fillcolor": "#d59171",
          "layer": "below",
          "line": {
           "color": "rgb(150,150,150)",
           "width": 0.45
          },
          "path": "M -0.8094149073047849, 0.7448808682150366 L -0.8375857023176769, 0.7130569341034446 L -0.864506101995107, 0.6801685082486735 L -0.890135918041009, 0.646264688353998 L -0.914436888815596, 0.6113960879603775 L -0.8313062625596327, 0.5558146254185249 L -0.8092144709463718, 0.587513353049089 L -0.78591463817737, 0.618335007498794 L -0.7614415475615244, 0.6482335764576769 L -0.7358317339134408, 0.6771644256500332 L -0.8094149073047849 ,0.7448808682150366",
          "type": "path"
         },
         {
          "fillcolor": "#d0805f",
          "layer": "below",
          "line": {
           "color": "rgb(150,150,150)",
           "width": 0.45
          },
          "path": "M -0.9331900846318506, 0.5823712440916015 L -0.9463603792112409, 0.5607156433158937 L -0.9590282254867787, 0.5387623434499487 L -0.9711868977564857, 0.5165230000940264 L -0.9828299406526255, 0.494009420716606 L -0.9939511725690326, 0.47123355838548386 L -1.0045446889430947, 0.44820750542156396 L -1.0146048653906434, 0.4249434869787212 L -1.0241263606920934, 0.40145385455313326 L -1.033104119628239, 0.37775107942554115 L -1.0415333756642073, 0.3538477460399052 L -1.0494096534801403, 0.3297565453219878 L -0.9540087758910365, 0.2997786775654434 L -0.9468485233310976, 0.32167976912718654 L -0.939185563298399, 0.3434100722050374 L -0.9310239642655395, 0.3649580495937575 L -0.9223680594460394, 0.3863122608897465 L -0.9132224444937224, 0.4074613685650581 L -0.9035919750627569, 0.4283941439868035 L -0.8934817642296595, 0.4490994733787327 L -0.8828971797786233, 0.4695663637218422 L -0.871843841351617, 0.4897839485908624 L -0.8603276174647644, 0.5097414939235397 L -0.8483546223925914, 0.5294284037196376 L -0.9331900846318506 ,0.5823712440916015",
          "type": "path"
         },
         {
          "fillcolor": "#ca6f4c",
          "layer": "below",
          "line": {
           "color": "rgb(150,150,150)",
           "width": 0.45
          },
          "path": "M -1.059249736564074, 0.2966310765731399 L -1.063070025922296, 0.28263425126047415 L -1.06670537120495, 0.26858825559303584 L -1.0701551399649192, 0.254495533176251 L -1.0734187320401463, 0.2403585357446766 L -0.9758352109455873, 0.2185077597678878 L -0.9728683090590174, 0.2313595756147736 L -0.9697321556408636, 0.2441711414482144 L -0.9664272962929964, 0.25694022841861286 L -0.9629543059673399, 0.2696646150664908 L -1.059249736564074 ,0.2966310765731399",
          "type": "path"
         },
         {
          "fillcolor": "#c45e3a",
          "layer": "below",
          "line": {
           "color": "rgb(150,150,150)",
           "width": 0.45
          },
          "path": "M -1.0804389087522392, 0.20652303613464265 L -1.085527139507303, 0.17785058164957626 L -1.08985460436952, 0.14905348481185268 L -1.093418270538005, 0.12015192738228589 L -1.096215640502032, 0.09116616433041264 L -0.9965596731836655, 0.08287833120946603 L -0.9940166095800046, 0.10922902489298716 L -0.9907769130631999, 0.13550316801077517 L -0.9868428540975481, 0.16168234695416023 L -0.9822171897747628, 0.18774821466785693 L -1.0804389087522392 ,0.20652303613464265",
          "type": "path"
         },
         {
          "fillcolor": "#bf4d28",
          "layer": "below",
          "line": {
           "color": "rgb(150,150,150)",
           "width": 0.45
          },
          "path": "M -1.098538322681163, 0.05668821395014255 L -1.0998484389697032, 0.018259553551693505 L -1.0998146692256165, -0.020191417883540855 L -1.098437054711577, -0.05861771776994069 L -1.0957172787112424, -0.09697239366763051 L -0.9961066170102202, -0.08815672151602773 L -0.998579140646888, -0.05328883433630971 L -0.9998315174778332, -0.018355834439582594 L -0.9998622172451846, 0.016599594137903184 L -0.9986712024374208, 0.05153473995467504 L -1.098538322681163 ,0.05668821395014255",
          "type": "path"
         },
         {
          "fillcolor": "#af4624",
          "layer": "below",
          "line": {
           "color": "rgb(150,150,150)",
           "width": 0.45
          },
          "path": "M -1.09213063188325, -0.131341855104506 L -1.0865253260677943, -0.17164706759299264 L -1.0794330702885202, -0.21171737474165617 L -1.07086357055892, -0.25149793885795824 L -1.0608285545552907, -0.29093431877338344 L -0.9643895950502642, -0.26448574433943944 L -0.9735123368717453, -0.22863448987087112 L -0.9813027911713819, -0.19247034067423285 L -0.9877502964252675, -0.15604278872090238 L -0.9928460289847727, -0.11940168645864181 L -1.09213063188325 ,-0.131341855104506",
          "type": "path"
         },
         {
          "fillcolor": "#9f4021",
          "layer": "below",
          "line": {
           "color": "rgb(150,150,150)",
           "width": 0.45
          },
          "path": "M -1.0511666319067594, -0.3241121903998669 L -1.038148765641603, -0.36365799922016834 L -1.0236437419714992, -0.40268286469948883 L -1.0076723394727694, -0.4411308833685034 L -0.9902574373225405, -0.4789469780961096 L -0.9002340339295821, -0.43540634372373593 L -0.9160657631570629, -0.4010280757895485 L -0.9305852199740902, -0.36607533154498983 L -0.94377160512873, -0.33059818110924394 L -0.9556060290061449, -0.2946474458180608 L -1.0511666319067594 ,-0.3241121903998669",
          "type": "path"
         },
         {
          "fillcolor": "#8f391e",
          "layer": "below",
          "line": {
           "color": "rgb(150,150,150)",
           "width": 0.45
          },
          "path": "M -0.974724716914662, -0.5098153844634667 L -0.9634244291393563, -0.5308609698758289 L -0.9516698085816113, -0.5516562112713311 L -0.9394663984986907, -0.572191302006505 L -0.9268199537885295, -0.5924565581200264 L -0.9137364382758346, -0.6124424228994854 L -0.9002220218996552, -0.6321394713881556 L -0.8862830778037586, -0.6515384148296223 L -0.8719261793311733, -0.6706301050481873 L -0.8571580969243269, -0.689405538762974 L -0.8419857949322308, -0.7078558618337066 L -0.826416428326227, -0.7259723734361538 L -0.810457339325836, -0.7437465301652754 L -0.7941160539363077, -0.7611699500641281 L -0.777400278399496, -0.7782344165766419 L -0.7603178955597438, -0.794931882422389 L -0.7428769611464789, -0.8112544733915327 L -0.725085699975288, -0.8271944920581537 L -0.706952502069245, -0.8427444214102128 L -0.6884859187023364, -0.8578969283944313 L -0.6258962897293967, -0.7799062985403921 L -0.6426840927902226, -0.7661312921911024 L -0.6591688181593527, -0.7519949927801396 L -0.6753426919513444, -0.7375040667195751 L -0.6911980868724943, -0.7226653476567172 L -0.7067275258177236, -0.7074858332514926 L -0.7219236853966433, -0.6919726818764801 L -0.7367793993871236, -0.6761332092411594 L -0.7512876621147517, -0.659974884941958 L -0.7654416317565734, -0.6435053289397332 L -0.7792346335675698, -0.6267323079663399 L -0.7926601630283393, -0.6096637318619884 L -0.8057118889125078, -0.5923076498451111 L -0.8183836562724137, -0.5746722467165051 L -0.8306694893416677, -0.5567658389995321 L -0.8425635943532086, -0.5385968710182057 L -0.8540603622715369, -0.5201739109150045 L -0.8651543714378284, -0.501505646610301 L -0.8758403901266875, -0.4826008817052989 L -0.886113379013329, -0.46346853133042426 L -0.974724716914662 ,-0.5098153844634667",
          "type": "path"
         },
         {
          "fillcolor": "#f0f3e7",
          "layer": "below",
          "line": {
           "color": "rgb(150,150,150)",
           "width": 0.45
          },
          "path": "M -0.6611989987307494, -0.879099473368887 L -0.6423516257290705, -0.8929638228524269 L -0.6232136317999435, -0.9064241662371566 L -0.6037936755990359, -0.9194744136225904 L -0.5841005433509903, -0.9321086606491102 L -0.5641431448742432, -0.9443211911692965 L -0.543930509549935, -0.9561064798340968 L -0.5234717822367209, -0.967459194592677 L -0.5027762191333357, -0.978374199104815 L -0.4818531835907909, -0.9888465550647481 L -0.4607121418760812, -0.9988715244354269 L -0.4393626588893399, -1.0084445715921573 L -0.4178143938363625, -1.0175613653746653 L -0.39607709585846546, -1.0262177810466568 L -0.3741605996216582, -1.0344099021619821 L -0.35207482086711284, -1.0421340223365663 L -0.32982975192496133, -1.0493866469252975 L -0.3074354571934369, -1.0561644946031195 L -0.28490206858540956, -1.0624644988496108 L -0.26223978094438044, -1.0682838093363785 L -0.23945884743199486, -1.07361979321664 L -0.21656957488917977, -1.0784700363164106 L -0.19358231917298996, -1.0828323442267536 L -0.1705074804712782, -1.0867047432966035 L -0.14735549859731317, -1.0900854815257093 L -0.12413684826646003, -1.0929730293572986 L -0.11285168024223638, -0.9936118448702713 L -0.1339595441793756, -0.9909868013870083 L -0.1550068004284347, -0.9879134029969122 L -0.17598392652089995, -0.9843930402061396 L -0.19688143171743613, -0.9804273057421914 L -0.2176898613018135, -0.976017993833309 L -0.23839980085852763, -0.9711670993967075 L -0.2590018805321905, -0.9658768171360098 L -0.2794867792667608, -0.9601495405482903 L -0.2998452290226921, -0.9539878608411794 L -0.32006801897010256, -0.9473945657605146 L -0.3401459996560529, -0.9403726383290746 L -0.36007008714405947, -0.9329252554969607 L -0.37983126712396587, -0.9250557867042412 L -0.39942059899030896, -0.9167677923565066 L -0.41882921988734656, -0.9080650222140244 L -0.43804834871890075, -0.8989514136952255 L -0.4570692901212143, -0.8894310900952863 L -0.4758834383970189, -0.8795083587206154 L -0.49448228140903183, -0.8691877089400879 L -0.5128574044311301, -0.8584738101539058 L -0.5310004939554457, -0.8473715096810093 L -0.5489033414536689, -0.8358858305659912 L -0.5665578470908577, -0.824021969306506 L -0.583956023390064, -0.8117852935022062 L -0.6010899988461358, -0.7991813394262609 L -0.6611989987307494 ,-0.879099473368887",
          "type": "path"
         },
         {
          "fillcolor": "#e2ecde",
          "layer": "below",
          "line": {
           "color": "rgb(150,150,150)",
           "width": 0.45
          },
          "path": "M -0.08974448172141823, -1.0963329457790432 L -0.07498786391126314, -1.097441032705642 L -0.060217674808291155, -1.0983505049121083 L -0.04543658751920015, -1.0990611978022926 L -0.030647277123040086, -1.0995729827550984 L -0.02786116102094553, -0.9996118025046348 L -0.041305988653818314, -0.9991465434566296 L -0.05474334073481014, -0.9985004590110074 L -0.06817078537387557, -0.9976736660960381 L -0.08158589247401657, -0.9966663143445845 L -0.08974448172141823 ,-1.0963329457790432",
          "type": "path"
         },
         {
          "fillcolor": "#d4e5d6",
          "layer": "below",
          "line": {
           "color": "rgb(150,150,150)",
           "width": 0.45
          },
          "path": "M 0.003906267508313948, -1.0999930641027487 L 0.026984684667724548, -1.0996689623670315 L 0.050051221465552506, -1.0988607169381415 L 0.07309572255623821, -1.0975686836567367 L 0.09610804229573135, -1.095793431357426 L 0.11907804920824282, -1.093535741618334 L 0.14199563044676392, -1.0907966084169982 L 0.16485069624537396, -1.0875772376927606 L 0.18763318436139617, -1.0838790468158348 L 0.21033306450543116, -1.0797036639632906 L 0.2329403427573232, -1.0750529274022285 L 0.25544506596611516, -1.0699288846804573 L 0.27783732613205236, -1.0643337917250357 L 0.3001072647687139, -1.0582701118490692 L 0.32224507724333445, -1.0517405146672052 L 0.3442410170934268, -1.0447478749203003 L 0.3660854003177883, -1.0372952712097772 L 0.38776860964001025, -1.02938598464223 L 0.40928109874260954, -1.0210234973848753 L 0.43061339646992025, -1.0122114911324804 L 0.4517561109978944, -1.0029538454864502 L 0.472699933968975, -0.9932546362467819 L 0.49343564459022543, -0.9831181336176386 L 0.5139541136929004, -0.9725488003273385 L 0.534246307751685, -0.9615512896635791 L 0.5543032928618219, -0.9501304434247655 L 0.5741162386723805, -0.9382912897883462 L 0.5936764222739349, -0.9260390410970916 L 0.6129752320389381, -0.9133790915642914 L 0.6320041714131074, -0.9003170148988809 L 0.6507548626561392, -0.8868585618515443 L 0.6692190505301223, -0.8730096576828699 L 0.687388605934014, -0.8587763995546763 L 0.6248987326672854, -0.7807058177769785 L 0.6083809550273839, -0.7936451433480635 L 0.5915953296873993, -0.8062350562286766 L 0.5745492467391885, -0.8184700135444372 L 0.5572502109444891, -0.8303446286948103 L 0.5397058384308498, -0.8418536737246286 L 0.5219238533385276, -0.8529920816257692 L 0.503912084419838, -0.8637549485679685 L 0.4856784615924409, -0.8741375360577991 L 0.4672310124480913, -0.8841352730248531 L 0.44857785871838673, -0.8937437578342168 L 0.4297272126990681, -0.9029587602243471 L 0.41068737363444946, -0.9117762231695001 L 0.3914667240635638, -0.9201922646658912 L 0.372073726129645, -0.9282031794407957 L 0.35251691785455475, -0.9358054405838454 L 0.3328049093798075, -0.9429957010997972 L 0.3129463791758425, -0.9497707953820911 L 0.2929500702212131, -0.95612774060655 L 0.27282478615337624, -0.9620637380446082 L 0.25257938739277486, -0.9675761742954869 L 0.23222278724192283, -0.9726626224367793 L 0.2117639479612029, -0.9773208430929349 L 0.19121187682311921, -0.9815487854211732 L 0.17057562214672378, -0.9853445880143952 L 0.1498642693139763, -0.9887065797206914 L 0.12908693676978536, -0.9916332803790893 L 0.10825277200749346, -0.9941234014712126 L 0.08737094754157394, -0.9961758466885691 L 0.06645065686930746, -0.9977897124152151 L 0.045501110423229546, -0.9989642881255831 L 0.024531531516113224, -0.9996990566973013 L 0.0035511522802854066, -0.9999936946388623 L 0.003906267508313948 ,-1.0999930641027487",
          "type": "path"
         },
         {
          "fillcolor": "#c6decd",
          "layer": "below",
          "line": {
           "color": "rgb(150,150,150)",
           "width": 0.45
          },
          "path": "M 0.7140242397400958, -0.8367612473481182 L 0.7317529921465664, -0.8213023550949718 L 0.7491471423261855, -0.8054679131688054 L 0.7661987366095513, -0.7892651620450047 L 0.7828999779647678, -0.7727015106124526 L 0.7992432295627308, -0.7557845327857247 L 0.8152210182691473, -0.7385219640418387 L 0.830826038061715, -0.7209216978831156 L 0.8460511533708774, -0.7029917822277927 L 0.860889402342648, -0.6847404157300184 L 0.8753340000219905, -0.666175944030931 L 0.88937834145532, -0.6473068559425155 L 0.9030160047106877, -0.6281417795660049 L 0.9162407538142846, -0.6086894783465802 L 0.9290465416019066, -0.588958847066191 L 0.9414275124840921, -0.568958907776313 L 0.9533780051236503, -0.5486988056725193 L 0.964892555024377, -0.5281878049127318 L 0.9759658970297507, -0.5074352843810866 L 0.9865929677304878, -0.48645073339933304 L 0.896902697936807, -0.44222793945393907 L 0.8872417245725005, -0.461304803982806 L 0.8771750500221608, -0.480170731738847 L 0.8667072773851366, -0.4988170960659266 L 0.8558431931673564, -0.517235370705739 L 0.8445877650926423, -0.5354171336965372 L 0.8329461398311677, -0.5533540712241637 L 0.8209236406460796, -0.5710379814236408 L 0.8085257649593818, -0.5884607781295594 L 0.795758181838173, -0.6056144945735736 L 0.7826267294024072, -0.6224912870272894 L 0.769137412155343, -0.6390834383889024 L 0.7552963982379226, -0.6553833617119231 L 0.7411100166083157, -0.6713836036743988 L 0.726584754147937, -0.6870768479870224 L 0.7117272526952434, -0.7024559187385933 L 0.6965443060086829, -0.717513783677277 L 0.6810428566601686, -0.7322435574261866 L 0.6652299928605149, -0.7466385046317925 L 0.6491129452182688, -0.7606920430437437 L 0.7140242397400958 ,-0.8367612473481182",
          "type": "path"
         },
         {
          "fillcolor": "#b8d7c5",
          "layer": "below",
          "line": {
           "color": "rgb(150,150,150)",
           "width": 0.45
          },
          "path": "M 1.0013859304475041, -0.45522106530979706 L 1.0167393894101384, -0.41981068831307616 L 1.030841146811593, -0.38388348497970054 L 1.0436738420657243, -0.34748368506704 L 1.0552216769209346, -0.3106561001431819 L 0.959292433564486, -0.2824146364938017 L 0.9487944018779311, -0.31589425915185454 L 0.9371283152832663, -0.34898498634518227 L 0.9243085358273986, -0.38164608028461466 L 0.9103508458613674, -0.4138373320998155 L 1.0013859304475041 ,-0.45522106530979706",
          "type": "path"
         },
         {
          "fillcolor": "#aad0bc",
          "layer": "below",
          "line": {
           "color": "rgb(150,150,150)",
           "width": 0.45
          },
          "path": "M 1.064458932640351, -0.27735749624296213 L 1.0720144945070889, -0.24654598671791614 L 1.0786783922516823, -0.2155294088734198 L 1.0844450830773105, -0.18433356121294225 L 1.089309770452453, -0.15298439135030903 L 0.9902816095022299, -0.13907671940937183 L 0.9858591664339185, -0.1675759647390384 L 0.9806167202288021, -0.19593582624856343 L 0.9745586313700807, -0.22413271519810557 L 0.9676899387639555, -0.25214317840269285 L 1.064458932640351 ,-0.27735749624296213",
          "type": "path"
         },
         {
          "fillcolor": "#9cc9b4",
          "layer": "below",
          "line": {
           "color": "rgb(150,150,150)",
           "width": 0.45
          },
          "path": "M 1.0935776176971344, -0.11869285602705931 L 1.0956523068597166, -0.09770374851039196 L 1.0973241880815572, -0.07667872098014666 L 1.0985926467086944, -0.055625503122090914 L 1.0994572164023046, -0.03455183498594413 L 0.9995065603657315, -0.031410759078131026 L 0.9987205879169949, -0.05056863920190083 L 0.9975674437105065, -0.0697079281637697 L 0.9960475516906513, -0.08882158955490177 L 0.9941614706337585, -0.10790259638823572 L 1.0935776176971344 ,-0.11869285602705931",
          "type": "path"
         }
        ],
        "showlegend": false,
        "title": "Data Jobs ‒ Technologies in Demand and Relationships Between Them",
        "titlefont": {
         "color": "#655643",
         "family": "Merryweather",
         "size": 18
        },
        "width": 960,
        "xaxis": {
         "showgrid": false,
         "showline": false,
         "showticklabels": false,
         "title": "",
         "zeroline": false
        },
        "yaxis": {
         "showgrid": false,
         "showline": false,
         "showticklabels": false,
         "title": "",
         "zeroline": false
        }
       }
      },
      "text/html": [
       "<div id=\"0a753bd3-673b-4e9b-bb35-e8037d5d0977\" style=\"height: 525px; width: 960px;\" class=\"plotly-graph-div\"></div><script type=\"text/javascript\">require([\"plotly\"], function(Plotly) { window.PLOTLYENV=window.PLOTLYENV || {};window.PLOTLYENV.BASE_URL=\"https://plot.ly\";Plotly.newPlot(\"0a753bd3-673b-4e9b-bb35-e8037d5d0977\", [{\"hoverinfo\": \"text\", \"line\": {\"color\": \"#f2e6ce\", \"shape\": \"spline\", \"width\": 0.25}, \"mode\": \"lines\", \"text\": \"Power BI<br>1161\", \"x\": [1.1, 1.099713297726551, 1.098853340357464, 1.097420576168618, 1.0954157520268306, 1.0928399130005375, 1.0896944018150203, 1.085980858152475, 1.0817012177972851, 1.07685771162694, 1.0714528644491317, 1.06548949368563, 1.0589707079036266], \"y\": [0.0, 0.025113000684799748, 0.05021291054343683, 0.07528664557369336, 0.1003211354176838, 0.12530333017513012, 0.1502202072059729, 0.17505877791877203, 0.19980609454135928, 0.22444925687021197, 0.24897541899503062, 0.273371795995015, 0.29762567060334727], \"type\": \"scatter\", \"uid\": \"4a6608a4-fa17-44f3-b064-46c1defb7826\"}, {\"hoverinfo\": \"text\", \"line\": {\"color\": \"#ecd5bb\", \"shape\": \"spline\", \"width\": 0.25}, \"mode\": \"lines\", \"text\": \"Excel<br>3753\", \"x\": [1.0490995215500296, 1.0420012662876854, 1.0344531515201263, 1.026458435968128, 1.0180205711618362, 1.0091431999506502, 0.999830154930508, 0.9900854567892536, 0.9799133125707996, 0.9693181138588353, 0.9583044348808634, 0.9468770305333853, 0.9350408343290867, 0.9228009562669095, 0.91016268062593, 0.8971314636839959, 0.8837129313621069, 0.8699128767955563, 0.8557372578328802, 0.8411921944636976, 0.8262839661765489, 0.8110190092478741, 0.7954039139633029, 0.7794454217724531, 0.7631504223784693, 0.7465259507635557, 0.7295791841517875, 0.7123174389105145, 0.6947481673916911, 0.6768789547144993, 0.6587175154906518, 0.64027169049379, 0.6215494432744152, 0.6025588567218128, 0.5833081295744554, 0.5638055728803901, 0.5440596064091399, 0.5240787550166663, 0.5038716449649636, 0.48344700019787307, 0.46281363857472596, 0.4419804680634402, 0.4209564828947154, 0.3997507596789857, 0.37837245348780596, 0.35683079390136657, 0.3351350810238387], \"y\": [0.3307418840780516, 0.35246753191586383, 0.3740410101981852, 0.3954530050838718, 0.41669427244843305, 0.4377556418749647, 0.4586280206132598, 0.47930239750539044, 0.49976984687606213, 0.5200215323860641, 0.5400487108471507, 0.5598427359967071, 0.5793950622305696, 0.5986972482923881, 0.6177409609179414, 0.636517978432826, 0.6550201943019712, 0.6732396206294453, 0.6911683916070404, 0.7087987669101499, 0.7261231350394725, 0.7431340166070969, 0.7598240675655509, 0.7761860823784222, 0.7922129971311781, 0.8078978925808443, 0.8232339971432255, 0.8382146898163774, 0.8528335030390674, 0.8670841254829932, 0.8809604047775491, 0.8944563501659678, 0.9075661350916884, 0.9202840997138341, 0.9326047533507164, 0.9445227768503073, 0.9560330248866573, 0.9671305281812694, 0.9778104956484676, 0.9880683164638354, 0.9978995620548309, 1.0072999880127183, 1.0162655359249921, 1.0247923351275, 1.0328767043755118, 1.0405151534330102, 1.0477043845795173], \"type\": \"scatter\", \"uid\": \"bb762964-159f-4517-b3e3-ca4e9558b988\"}, {\"hoverinfo\": \"text\", \"line\": {\"color\": \"#e6c4a9\", \"shape\": \"spline\", \"width\": 0.25}, \"mode\": \"lines\", \"text\": \"SSIS/SSRS<br>2095\", \"x\": [0.3020605220829019, 0.27908884096773656, 0.25598631376352865, 0.23276377169993712, 0.20943210227356002, 0.18600224414351615, 0.16248518200304024, 0.13889194142949335, 0.11523358371520927, 0.09152120068159247, 0.06776590947890594, 0.0439788473741837, 0.02017116652970957, -0.0036459712254838053, -0.027461399628651628, -0.05126395321844971, -0.07504247256967286, -0.09878580952516222, -0.12248283242243088, -0.1461224313125564, -0.1696935231688918, -0.19318505708315614, -0.21658601944646488, -0.23988543911287652, -0.2630723925430267], \"y\": [1.0577142529998378, 1.0640063058306026, 1.0697995172768402, 1.0750911712892166, 1.0798787869651285, 1.084160119711833, 1.0879331622987871, 1.091196145798704, 1.0939475404168841, 1.096186056208434, 1.0979106436830353, 1.0991204942969803, 1.0998150408322442, 1.0999939576624151, 1.0996571609053594, 1.098804808462548, 1.0974372999450266, 1.0955552764860652, 1.0931596204405736, 1.0902514549714242, 1.0868321435228758, 1.082903289181346, 1.0784667339238312, 1.0735245577543266, 1.068079077728652], \"type\": \"scatter\", \"uid\": \"710a2d72-a80e-4388-9b4a-8ef58a71c56f\"}, {\"hoverinfo\": \"text\", \"line\": {\"color\": \"#e1b396\", \"shape\": \"spline\", \"width\": 0.25}, \"mode\": \"lines\", \"text\": \"MS SQL Server<br>1639\", \"x\": [-0.29649175678478834, -0.3199400615614322, -0.3432305979206599, -0.36635188086417464, -0.3892925088556984, -0.41204116944328295, -0.4345866448376908, -0.4569178174440967, -0.4790236753443804, -0.5008933177273104, -0.5225159602639364, -0.543880940425544, -0.564977722741546, -0.5857959039947199, -0.6063252183512289, -0.6265555424228955, -0.6464769002592338, -0.6660794682667768, -0.6853535800532734], \"y\": [1.0592887416368921, 1.0524439923378663, 1.0450802632578162, 1.0372011855890264, 1.0288106446517922, 1.0199127779784956, 1.01051197327331, 1.0006128662485425, 0.990220338338676, 0.9793395142932444, 0.967975759649722, 0.9561346780876772, 0.9438221086654927, 0.9310441229410178, 0.9178070219775695, 0.9041173332367605, 0.8899818073596858, 0.875407414838056, 0.8604013425769171], \"type\": \"scatter\", \"uid\": \"6248abd3-a4c2-4746-90f1-6b267965bd8b\"}, {\"hoverinfo\": \"text\", \"line\": {\"color\": \"#dba284\", \"shape\": \"spline\", \"width\": 0.25}, \"mode\": \"lines\", \"text\": \"PostgreSQL<br>467\", \"x\": [-0.7120412587155689, -0.731018012305031, -0.7496128685520765, -0.7678161131595695, -0.7856182364155435], \"y\": [0.838449310266726, 0.8219566081525239, 0.8050345006899564, 0.7876918283012281, 0.7699376511194469], \"type\": \"scatter\", \"uid\": \"39bdbfca-ea85-4894-b019-5c84b81a1b6a\"}, {\"hoverinfo\": \"text\", \"line\": {\"color\": \"#d59171\", \"shape\": \"spline\", \"width\": 0.25}, \"mode\": \"lines\", \"text\": \"MySQL/MariaDB<br>707\", \"x\": [-0.8094149073047849, -0.8375857023176769, -0.864506101995107, -0.890135918041009, -0.914436888815596], \"y\": [0.7448808682150366, 0.7130569341034446, 0.6801685082486735, 0.646264688353998, 0.6113960879603775], \"type\": \"scatter\", \"uid\": \"634a51e5-7419-44bb-a302-b2938079be20\"}, {\"hoverinfo\": \"text\", \"line\": {\"color\": \"#d0805f\", \"shape\": \"spline\", \"width\": 0.25}, \"mode\": \"lines\", \"text\": \"T-SQL<br>1083\", \"x\": [-0.9331900846318506, -0.9463603792112409, -0.9590282254867787, -0.9711868977564857, -0.9828299406526255, -0.9939511725690326, -1.0045446889430947, -1.0146048653906434, -1.0241263606920934, -1.033104119628239, -1.0415333756642073, -1.0494096534801403], \"y\": [0.5823712440916015, 0.5607156433158937, 0.5387623434499487, 0.5165230000940264, 0.494009420716606, 0.47123355838548386, 0.44820750542156396, 0.4249434869787212, 0.40145385455313326, 0.37775107942554115, 0.3538477460399052, 0.3297565453219878], \"type\": \"scatter\", \"uid\": \"0da26845-d4cc-41ce-833a-06fcf926a43e\"}, {\"hoverinfo\": \"text\", \"line\": {\"color\": \"#ca6f4c\", \"shape\": \"spline\", \"width\": 0.25}, \"mode\": \"lines\", \"text\": \"PL/SQL<br>320\", \"x\": [-1.059249736564074, -1.063070025922296, -1.06670537120495, -1.0701551399649192, -1.0734187320401463], \"y\": [0.2966310765731399, 0.28263425126047415, 0.26858825559303584, 0.254495533176251, 0.2403585357446766], \"type\": \"scatter\", \"uid\": \"cccce8b5-45e8-48e5-8137-1cc670438ae3\"}, {\"hoverinfo\": \"text\", \"line\": {\"color\": \"#c45e3a\", \"shape\": \"spline\", \"width\": 0.25}, \"mode\": \"lines\", \"text\": \"Pentaho<br>522\", \"x\": [-1.0804389087522392, -1.085527139507303, -1.08985460436952, -1.093418270538005, -1.096215640502032], \"y\": [0.20652303613464265, 0.17785058164957626, 0.14905348481185268, 0.12015192738228589, 0.09116616433041264], \"type\": \"scatter\", \"uid\": \"708d65ba-e1f4-4713-8ccb-37d202aa07f9\"}, {\"hoverinfo\": \"text\", \"line\": {\"color\": \"#bf4d28\", \"shape\": \"spline\", \"width\": 0.25}, \"mode\": \"lines\", \"text\": \"Hadoop<br>651\", \"x\": [-1.098538322681163, -1.0998484389697032, -1.0998146692256165, -1.098437054711577, -1.0957172787112424], \"y\": [0.05668821395014255, 0.018259553551693505, -0.020191417883540855, -0.05861771776994069, -0.09697239366763051], \"type\": \"scatter\", \"uid\": \"e0de1720-ad7f-4e7d-9137-433ec747b76f\"}, {\"hoverinfo\": \"text\", \"line\": {\"color\": \"#af4624\", \"shape\": \"spline\", \"width\": 0.25}, \"mode\": \"lines\", \"text\": \"Spark<br>682\", \"x\": [-1.09213063188325, -1.0865253260677943, -1.0794330702885202, -1.07086357055892, -1.0608285545552907], \"y\": [-0.131341855104506, -0.17164706759299264, -0.21171737474165617, -0.25149793885795824, -0.29093431877338344], \"type\": \"scatter\", \"uid\": \"8213a3c5-d570-4eb6-958a-acc83d604c1c\"}, {\"hoverinfo\": \"text\", \"line\": {\"color\": \"#9f4021\", \"shape\": \"spline\", \"width\": 0.25}, \"mode\": \"lines\", \"text\": \"Informatica<br>695\", \"x\": [-1.0511666319067594, -1.038148765641603, -1.0236437419714992, -1.0076723394727694, -0.9902574373225405], \"y\": [-0.3241121903998669, -0.36365799922016834, -0.40268286469948883, -0.4411308833685034, -0.4789469780961096], \"type\": \"scatter\", \"uid\": \"0b43a858-3672-43ff-a58f-4ca44af04948\"}, {\"hoverinfo\": \"text\", \"line\": {\"color\": \"#8f391e\", \"shape\": \"spline\", \"width\": 0.25}, \"mode\": \"lines\", \"text\": \"Qlik<br>1688\", \"x\": [-0.974724716914662, -0.9634244291393563, -0.9516698085816113, -0.9394663984986907, -0.9268199537885295, -0.9137364382758346, -0.9002220218996552, -0.8862830778037586, -0.8719261793311733, -0.8571580969243269, -0.8419857949322308, -0.826416428326227, -0.810457339325836, -0.7941160539363077, -0.777400278399496, -0.7603178955597438, -0.7428769611464789, -0.725085699975288, -0.706952502069245, -0.6884859187023364], \"y\": [-0.5098153844634667, -0.5308609698758289, -0.5516562112713311, -0.572191302006505, -0.5924565581200264, -0.6124424228994854, -0.6321394713881556, -0.6515384148296223, -0.6706301050481873, -0.689405538762974, -0.7078558618337066, -0.7259723734361538, -0.7437465301652754, -0.7611699500641281, -0.7782344165766419, -0.794931882422389, -0.8112544733915327, -0.8271944920581537, -0.8427444214102128, -0.8578969283944313], \"type\": \"scatter\", \"uid\": \"80caa8cc-66e4-4e43-a805-b29285a31638\"}, {\"hoverinfo\": \"text\", \"line\": {\"color\": \"#f0f3e7\", \"shape\": \"spline\", \"width\": 0.25}, \"mode\": \"lines\", \"text\": \"Tableau<br>2141\", \"x\": [-0.6611989987307494, -0.6423516257290705, -0.6232136317999435, -0.6037936755990359, -0.5841005433509903, -0.5641431448742432, -0.543930509549935, -0.5234717822367209, -0.5027762191333357, -0.4818531835907909, -0.4607121418760812, -0.4393626588893399, -0.4178143938363625, -0.39607709585846546, -0.3741605996216582, -0.35207482086711284, -0.32982975192496133, -0.3074354571934369, -0.28490206858540956, -0.26223978094438044, -0.23945884743199486, -0.21656957488917977, -0.19358231917298996, -0.1705074804712782, -0.14735549859731317, -0.12413684826646003], \"y\": [-0.879099473368887, -0.8929638228524269, -0.9064241662371566, -0.9194744136225904, -0.9321086606491102, -0.9443211911692965, -0.9561064798340968, -0.967459194592677, -0.978374199104815, -0.9888465550647481, -0.9988715244354269, -1.0084445715921573, -1.0175613653746653, -1.0262177810466568, -1.0344099021619821, -1.0421340223365663, -1.0493866469252975, -1.0561644946031195, -1.0624644988496108, -1.0682838093363785, -1.07361979321664, -1.0784700363164106, -1.0828323442267536, -1.0867047432966035, -1.0900854815257093, -1.0929730293572986], \"type\": \"scatter\", \"uid\": \"65e671ef-4a33-48ca-8d87-53cd672c7396\"}, {\"hoverinfo\": \"text\", \"line\": {\"color\": \"#e2ecde\", \"shape\": \"spline\", \"width\": 0.25}, \"mode\": \"lines\", \"text\": \"Microstrategy<br>324\", \"x\": [-0.08974448172141823, -0.07498786391126314, -0.060217674808291155, -0.04543658751920015, -0.030647277123040086], \"y\": [-1.0963329457790432, -1.097441032705642, -1.0983505049121083, -1.0990611978022926, -1.0995729827550984], \"type\": \"scatter\", \"uid\": \"f47875c8-f072-45b5-a059-249d504329fd\"}, {\"hoverinfo\": \"text\", \"line\": {\"color\": \"#d4e5d6\", \"shape\": \"spline\", \"width\": 0.25}, \"mode\": \"lines\", \"text\": \"Oracle BI<br>2672\", \"x\": [0.003906267508313948, 0.026984684667724548, 0.050051221465552506, 0.07309572255623821, 0.09610804229573135, 0.11907804920824282, 0.14199563044676392, 0.16485069624537396, 0.18763318436139617, 0.21033306450543116, 0.2329403427573232, 0.25544506596611516, 0.27783732613205236, 0.3001072647687139, 0.32224507724333445, 0.3442410170934268, 0.3660854003177883, 0.38776860964001025, 0.40928109874260954, 0.43061339646992025, 0.4517561109978944, 0.472699933968975, 0.49343564459022543, 0.5139541136929004, 0.534246307751685, 0.5543032928618219, 0.5741162386723805, 0.5936764222739349, 0.6129752320389381, 0.6320041714131074, 0.6507548626561392, 0.6692190505301223, 0.687388605934014], \"y\": [-1.0999930641027487, -1.0996689623670315, -1.0988607169381415, -1.0975686836567367, -1.095793431357426, -1.093535741618334, -1.0907966084169982, -1.0875772376927606, -1.0838790468158348, -1.0797036639632906, -1.0750529274022285, -1.0699288846804573, -1.0643337917250357, -1.0582701118490692, -1.0517405146672052, -1.0447478749203003, -1.0372952712097772, -1.02938598464223, -1.0210234973848753, -1.0122114911324804, -1.0029538454864502, -0.9932546362467819, -0.9831181336176386, -0.9725488003273385, -0.9615512896635791, -0.9501304434247655, -0.9382912897883462, -0.9260390410970916, -0.9133790915642914, -0.9003170148988809, -0.8868585618515443, -0.8730096576828699, -0.8587763995546763], \"type\": \"scatter\", \"uid\": \"f2f49867-2123-403a-8700-21b8af43bd02\"}, {\"hoverinfo\": \"text\", \"line\": {\"color\": \"#c6decd\", \"shape\": \"spline\", \"width\": 0.25}, \"mode\": \"lines\", \"text\": \"Python<br>1664\", \"x\": [0.7140242397400958, 0.7317529921465664, 0.7491471423261855, 0.7661987366095513, 0.7828999779647678, 0.7992432295627308, 0.8152210182691473, 0.830826038061715, 0.8460511533708774, 0.860889402342648, 0.8753340000219905, 0.88937834145532, 0.9030160047106877, 0.9162407538142846, 0.9290465416019066, 0.9414275124840921, 0.9533780051236503, 0.964892555024377, 0.9759658970297507, 0.9865929677304878], \"y\": [-0.8367612473481182, -0.8213023550949718, -0.8054679131688054, -0.7892651620450047, -0.7727015106124526, -0.7557845327857247, -0.7385219640418387, -0.7209216978831156, -0.7029917822277927, -0.6847404157300184, -0.666175944030931, -0.6473068559425155, -0.6281417795660049, -0.6086894783465802, -0.588958847066191, -0.568958907776313, -0.5486988056725193, -0.5281878049127318, -0.5074352843810866, -0.48645073339933304], \"type\": \"scatter\", \"uid\": \"580e7533-904b-483d-93b4-073cd07e2bd3\"}, {\"hoverinfo\": \"text\", \"line\": {\"color\": \"#b8d7c5\", \"shape\": \"spline\", \"width\": 0.25}, \"mode\": \"lines\", \"text\": \"VBA<br>653\", \"x\": [1.0013859304475041, 1.0167393894101384, 1.030841146811593, 1.0436738420657243, 1.0552216769209346], \"y\": [-0.45522106530979706, -0.41981068831307616, -0.38388348497970054, -0.34748368506704, -0.3106561001431819], \"type\": \"scatter\", \"uid\": \"af8cec23-c8c1-4081-ab69-77cc0f45249b\"}, {\"hoverinfo\": \"text\", \"line\": {\"color\": \"#aad0bc\", \"shape\": \"spline\", \"width\": 0.25}, \"mode\": \"lines\", \"text\": \"Linux<br>558\", \"x\": [1.064458932640351, 1.0720144945070889, 1.0786783922516823, 1.0844450830773105, 1.089309770452453], \"y\": [-0.27735749624296213, -0.24654598671791614, -0.2155294088734198, -0.18433356121294225, -0.15298439135030903], \"type\": \"scatter\", \"uid\": \"352ba9c3-3c2c-45d8-86d7-cde823d73031\"}, {\"hoverinfo\": \"text\", \"line\": {\"color\": \"#9cc9b4\", \"shape\": \"spline\", \"width\": 0.25}, \"mode\": \"lines\", \"text\": \"AWS<br>411\", \"x\": [1.0935776176971344, 1.0956523068597166, 1.0973241880815572, 1.0985926467086944, 1.0994572164023046], \"y\": [-0.11869285602705931, -0.09770374851039196, -0.07667872098014666, -0.055625503122090914, -0.03455183498594413], \"type\": \"scatter\", \"uid\": \"95914097-f01a-49c0-b02b-d4a7415b2329\"}, {\"hoverinfo\": \"text\", \"marker\": {\"color\": \"green\", \"size\": 0.5}, \"mode\": \"markers\", \"text\": \"Power BI appears with Excel 192 times\", \"x\": [0.8717245300976514], \"y\": [0.22382212496987183], \"type\": \"scatter\", \"uid\": \"9da23b10-6ec2-464f-9a34-e867997e1c34\"}, {\"hoverinfo\": \"text\", \"marker\": {\"color\": \"blue\", \"size\": 0.5}, \"mode\": \"markers\", \"text\": \"Excel appears with Power BI 192 times\", \"x\": [0.7657621339619618], \"y\": [0.4728724502336994], \"type\": \"scatter\", \"uid\": \"8f70fcf5-df27-4c84-a9bf-d8ff5c1ad18a\"}, {\"hoverinfo\": \"text\", \"marker\": {\"color\": \"green\", \"size\": 0.5}, \"mode\": \"markers\", \"text\": \"Power BI appears with SSIS/SSRS 116 times\", \"x\": [0.8974828224080029], \"y\": [0.0672650242144098], \"type\": \"scatter\", \"uid\": \"74730592-d9c3-4333-95c4-15034ac47fbe\"}, {\"hoverinfo\": \"text\", \"marker\": {\"color\": \"blue\", \"size\": 0.5}, \"mode\": \"markers\", \"text\": \"SSIS/SSRS appears with Power BI 116 times\", \"x\": [0.11829720307471972], \"y\": [0.8921915555219622], \"type\": \"scatter\", \"uid\": \"c22856b1-6ffd-4825-89b0-163dedb307bc\"}, {\"hoverinfo\": \"text\", \"marker\": {\"color\": \"green\", \"size\": 0.5}, \"mode\": \"markers\", \"text\": \"Power BI appears with MS SQL Server 122 times\", \"x\": [0.8952402112139959], \"y\": [0.09243897568406995], \"type\": \"scatter\", \"uid\": \"e0f00035-20c7-4b52-973a-7ae3cd5af3f9\"}, {\"hoverinfo\": \"text\", \"marker\": {\"color\": \"blue\", \"size\": 0.5}, \"mode\": \"markers\", \"text\": \"MS SQL Server appears with Power BI 122 times\", \"x\": [-0.39716725616137905], \"y\": [0.8076250185780784], \"type\": \"scatter\", \"uid\": \"74e65673-19c9-4f7d-a0fd-d0e0a0efe144\"}, {\"hoverinfo\": \"text\", \"marker\": {\"color\": \"green\", \"size\": 0.5}, \"mode\": \"markers\", \"text\": \"Power BI appears with MySQL/MariaDB 5 times\", \"x\": [0.8999998433689408], \"y\": [0.0005309763479847971], \"type\": \"scatter\", \"uid\": \"45f97bac-04e4-4bcf-9822-da4d2c60ba3a\"}, {\"hoverinfo\": \"text\", \"marker\": {\"color\": \"blue\", \"size\": 0.5}, \"mode\": \"markers\", \"text\": \"MySQL/MariaDB appears with Power BI 5 times\", \"x\": [-0.6632469208162209], \"y\": [0.6083613416611886], \"type\": \"scatter\", \"uid\": \"73eafcca-ffb0-4355-949b-b205b94702ed\"}, {\"hoverinfo\": \"text\", \"marker\": {\"color\": \"green\", \"size\": 0.5}, \"mode\": \"markers\", \"text\": \"Power BI appears with T-SQL 42 times\", \"x\": [0.8993178012878101], \"y\": [0.03503558600707009], \"type\": \"scatter\", \"uid\": \"7dcbd952-92ee-4368-b6cb-a8c9fd061a36\"}, {\"hoverinfo\": \"text\", \"marker\": {\"color\": \"blue\", \"size\": 0.5}, \"mode\": \"markers\", \"text\": \"T-SQL appears with Power BI 42 times\", \"x\": [-0.7923846487916035], \"y\": [0.42676289477812757], \"type\": \"scatter\", \"uid\": \"9a3f2bb1-6267-4018-951c-4adeb17c7988\"}, {\"hoverinfo\": \"text\", \"marker\": {\"color\": \"green\", \"size\": 0.5}, \"mode\": \"markers\", \"text\": \"Power BI appears with PL/SQL 7 times\", \"x\": [0.8999904705828954], \"y\": [0.004141601137056899], \"type\": \"scatter\", \"uid\": \"4d5454c9-2463-4ac9-94db-d4f8bb5df7e6\"}, {\"hoverinfo\": \"text\", \"marker\": {\"color\": \"blue\", \"size\": 0.5}, \"mode\": \"markers\", \"text\": \"PL/SQL appears with Power BI 7 times\", \"x\": [-0.8673951135583052], \"y\": [0.24005357105274408], \"type\": \"scatter\", \"uid\": \"02c1d7f9-42b5-4679-b5c7-1de38d068b7d\"}, {\"hoverinfo\": \"text\", \"marker\": {\"color\": \"green\", \"size\": 0.5}, \"mode\": \"markers\", \"text\": \"Power BI appears with Pentaho 8 times\", \"x\": [0.8999817306145287], \"y\": [0.005734506088404311], \"type\": \"scatter\", \"uid\": \"4291deb8-b28b-487f-b21f-f7f22afba614\"}, {\"hoverinfo\": \"text\", \"marker\": {\"color\": \"blue\", \"size\": 0.5}, \"mode\": \"markers\", \"text\": \"Pentaho appears with Power BI 8 times\", \"x\": [-0.8847407980116347], \"y\": [0.16502642313804095], \"type\": \"scatter\", \"uid\": \"a7c9f43f-c916-4020-967f-7715de7c788f\"}, {\"hoverinfo\": \"text\", \"marker\": {\"color\": \"green\", \"size\": 0.5}, \"mode\": \"markers\", \"text\": \"Power BI appears with Hadoop 21 times\", \"x\": [0.8999282701908533], \"y\": [0.011362592631021769], \"type\": \"scatter\", \"uid\": \"9d99a144-ca78-47b9-b4ad-069c5bacb96d\"}, {\"hoverinfo\": \"text\", \"marker\": {\"color\": \"blue\", \"size\": 0.5}, \"mode\": \"markers\", \"text\": \"Hadoop appears with Power BI 21 times\", \"x\": [-0.8993383271683769], \"y\": [0.0345046849860332], \"type\": \"scatter\", \"uid\": \"5bbcc54b-fb62-489d-9750-70b4e3c8b12c\"}, {\"hoverinfo\": \"text\", \"marker\": {\"color\": \"green\", \"size\": 0.5}, \"mode\": \"markers\", \"text\": \"Power BI appears with Spark 26 times\", \"x\": [0.8997543886031015], \"y\": [0.021024751828716555], \"type\": \"scatter\", \"uid\": \"e74ec467-0414-4c33-9b27-4362405d7490\"}, {\"hoverinfo\": \"text\", \"marker\": {\"color\": \"blue\", \"size\": 0.5}, \"mode\": \"markers\", \"text\": \"Spark appears with Power BI 26 times\", \"x\": [-0.8903469859902075], \"y\": [-0.13146195091414645], \"type\": \"scatter\", \"uid\": \"1182c228-8a90-4a4c-95f2-e64e945f8965\"}, {\"hoverinfo\": \"text\", \"marker\": {\"color\": \"green\", \"size\": 0.5}, \"mode\": \"markers\", \"text\": \"Power BI appears with Informatica 12 times\", \"x\": [0.8999656917497619], \"y\": [0.007858350550363602], \"type\": \"scatter\", \"uid\": \"8ad59916-532f-4b5c-988f-be9a0fa1ba87\"}, {\"hoverinfo\": \"text\", \"marker\": {\"color\": \"blue\", \"size\": 0.5}, \"mode\": \"markers\", \"text\": \"Informatica appears with Power BI 12 times\", \"x\": [-0.8577020427996992], \"y\": [-0.2726668402597262], \"type\": \"scatter\", \"uid\": \"d81e45fe-765e-4a87-b743-e99329ec8cc9\"}, {\"hoverinfo\": \"text\", \"marker\": {\"color\": \"green\", \"size\": 0.5}, \"mode\": \"markers\", \"text\": \"Power BI appears with Qlik 157 times\", \"x\": [0.8870216555028355], \"y\": [0.15229111158898623], \"type\": \"scatter\", \"uid\": \"c86d3d29-849d-4065-882a-0418db2b2c06\"}, {\"hoverinfo\": \"text\", \"marker\": {\"color\": \"blue\", \"size\": 0.5}, \"mode\": \"markers\", \"text\": \"Qlik appears with Power BI 157 times\", \"x\": [-0.7292101676628867], \"y\": [-0.5274964752271476], \"type\": \"scatter\", \"uid\": \"53faa5ab-4365-4cce-b90a-fb72e7d34c75\"}, {\"hoverinfo\": \"text\", \"marker\": {\"color\": \"green\", \"size\": 0.5}, \"mode\": \"markers\", \"text\": \"Power BI appears with Tableau 170 times\", \"x\": [0.8804868764823213], \"y\": [0.18639436778616847], \"type\": \"scatter\", \"uid\": \"600b508f-1012-4e38-9669-16494175362f\"}, {\"hoverinfo\": \"text\", \"marker\": {\"color\": \"blue\", \"size\": 0.5}, \"mode\": \"markers\", \"text\": \"Tableau appears with Power BI 170 times\", \"x\": [-0.36010143075116696], \"y\": [-0.8248193496584343], \"type\": \"scatter\", \"uid\": \"d780831a-9f9e-486b-ac9e-707524657f96\"}, {\"hoverinfo\": \"text\", \"marker\": {\"color\": \"green\", \"size\": 0.5}, \"mode\": \"markers\", \"text\": \"Power BI appears with Microstrategy 22 times\", \"x\": [0.8998590357225399], \"y\": [0.015928459702701972], \"type\": \"scatter\", \"uid\": \"1b0b2aa7-9c69-4820-9b29-5cf66028fb3a\"}, {\"hoverinfo\": \"text\", \"marker\": {\"color\": \"blue\", \"size\": 0.5}, \"mode\": \"markers\", \"text\": \"Microstrategy appears with Power BI 22 times\", \"x\": [-0.056133157129206905], \"y\": [-0.8982477768804706], \"type\": \"scatter\", \"uid\": \"ebb35bd3-5625-4d33-8ac4-6db56ac8e7d7\"}, {\"hoverinfo\": \"text\", \"marker\": {\"color\": \"green\", \"size\": 0.5}, \"mode\": \"markers\", \"text\": \"Power BI appears with Oracle BI 145 times\", \"x\": [0.8918841961416075], \"y\": [0.12059262279608367], \"type\": \"scatter\", \"uid\": \"f8730411-0576-45c8-a556-dc85c48b0638\"}, {\"hoverinfo\": \"text\", \"marker\": {\"color\": \"blue\", \"size\": 0.5}, \"mode\": \"markers\", \"text\": \"Oracle BI appears with Power BI 145 times\", \"x\": [0.21185912285620795], \"y\": [-0.8747089299090288], \"type\": \"scatter\", \"uid\": \"43d9c658-f7c3-4419-a4b2-d90910b699c4\"}, {\"hoverinfo\": \"text\", \"marker\": {\"color\": \"green\", \"size\": 0.5}, \"mode\": \"markers\", \"text\": \"Power BI appears with Python 73 times\", \"x\": [0.8987596103681545], \"y\": [0.04723518572931585], \"type\": \"scatter\", \"uid\": \"494ef89e-567b-459a-a14c-d4cc09597167\"}, {\"hoverinfo\": \"text\", \"marker\": {\"color\": \"blue\", \"size\": 0.5}, \"mode\": \"markers\", \"text\": \"Python appears with Power BI 73 times\", \"x\": [0.6398106894932633], \"y\": [-0.6329630965626315], \"type\": \"scatter\", \"uid\": \"8196c780-b6ff-402c-987e-ca32d05949e1\"}, {\"hoverinfo\": \"text\", \"marker\": {\"color\": \"green\", \"size\": 0.5}, \"mode\": \"markers\", \"text\": \"Power BI appears with VBA 32 times\", \"x\": [0.8995894322838223], \"y\": [0.027181856508899187], \"type\": \"scatter\", \"uid\": \"a1fe4c9c-7499-4c46-8e1f-5687307c6801\"}, {\"hoverinfo\": \"text\", \"marker\": {\"color\": \"blue\", \"size\": 0.5}, \"mode\": \"markers\", \"text\": \"VBA appears with Power BI 32 times\", \"x\": [0.8281194034081293], \"y\": [-0.352446100416736], \"type\": \"scatter\", \"uid\": \"13f83be4-516d-4197-b91f-21bedaacbf62\"}, {\"hoverinfo\": \"text\", \"marker\": {\"color\": \"green\", \"size\": 0.5}, \"mode\": \"markers\", \"text\": \"Power BI appears with Linux 6 times\", \"x\": [0.8999957646993568], \"y\": [0.0027610728385857094], \"type\": \"scatter\", \"uid\": \"94c95ee9-1476-418e-8e92-e9ae5cee837c\"}, {\"hoverinfo\": \"text\", \"marker\": {\"color\": \"blue\", \"size\": 0.5}, \"mode\": \"markers\", \"text\": \"Linux appears with Power BI 6 times\", \"x\": [0.8713882539044665], \"y\": [-0.22512776585158278], \"type\": \"scatter\", \"uid\": \"1c473ca2-d6ad-4167-b3a8-b5149d0344f6\"}, {\"hoverinfo\": \"text\", \"marker\": {\"color\": \"green\", \"size\": 0.5}, \"mode\": \"markers\", \"text\": \"Power BI appears with AWS 5 times\", \"x\": [0.8999985903207939], \"y\": [0.001592928304688786], \"type\": \"scatter\", \"uid\": \"56172bfb-a956-43ad-9dd5-ecf6ca34ea85\"}, {\"hoverinfo\": \"text\", \"marker\": {\"color\": \"blue\", \"size\": 0.5}, \"mode\": \"markers\", \"text\": \"AWS appears with Power BI 5 times\", \"x\": [0.8950048202001347], \"y\": [-0.09469092785755466], \"type\": \"scatter\", \"uid\": \"eacf415c-88f7-4ab3-bde5-4ad9704544b3\"}, {\"hoverinfo\": \"text\", \"marker\": {\"color\": \"green\", \"size\": 0.5}, \"mode\": \"markers\", \"text\": \"Excel appears with SSIS/SSRS 543 times\", \"x\": [0.44844864719401856], \"y\": [0.7803164811984011], \"type\": \"scatter\", \"uid\": \"0b385167-bfd5-4a09-8ef1-0284c6a42b54\"}, {\"hoverinfo\": \"text\", \"marker\": {\"color\": \"blue\", \"size\": 0.5}, \"mode\": \"markers\", \"text\": \"SSIS/SSRS appears with Excel 543 times\", \"x\": [-0.15594468895628755], \"y\": [0.8863866278246343], \"type\": \"scatter\", \"uid\": \"a0c792ca-4df5-4a5c-a9c2-20ada2e89dd8\"}, {\"hoverinfo\": \"text\", \"marker\": {\"color\": \"green\", \"size\": 0.5}, \"mode\": \"markers\", \"text\": \"Excel appears with MS SQL Server 250 times\", \"x\": [0.7068056327702233], \"y\": [0.5571586824992357], \"type\": \"scatter\", \"uid\": \"0190cd32-97c6-4bab-8b94-81c57d70500e\"}, {\"hoverinfo\": \"text\", \"marker\": {\"color\": \"blue\", \"size\": 0.5}, \"mode\": \"markers\", \"text\": \"MS SQL Server appears with Excel 250 times\", \"x\": [-0.5390261560264293], \"y\": [0.7207293549727052], \"type\": \"scatter\", \"uid\": \"39677d21-48db-4008-8087-369592a80d04\"}, {\"hoverinfo\": \"text\", \"marker\": {\"color\": \"green\", \"size\": 0.5}, \"mode\": \"markers\", \"text\": \"Excel appears with PostgreSQL 63 times\", \"x\": [0.8409175559243873], \"y\": [0.3207143029834417], \"type\": \"scatter\", \"uid\": \"0512c957-b6b7-45b0-b99e-404594942016\"}, {\"hoverinfo\": \"text\", \"marker\": {\"color\": \"blue\", \"size\": 0.5}, \"mode\": \"markers\", \"text\": \"PostgreSQL appears with Excel 63 times\", \"x\": [-0.6192264342997518], \"y\": [0.6531145558509742], \"type\": \"scatter\", \"uid\": \"973a2e1b-d801-4a19-b1d2-c03c0a6fbee2\"}, {\"hoverinfo\": \"text\", \"marker\": {\"color\": \"green\", \"size\": 0.5}, \"mode\": \"markers\", \"text\": \"Excel appears with MySQL/MariaDB 109 times\", \"x\": [0.8134949043796796], \"y\": [0.3850013513590514], \"type\": \"scatter\", \"uid\": \"33599d6a-c9bf-4027-a322-9108bd316645\"}, {\"hoverinfo\": \"text\", \"marker\": {\"color\": \"blue\", \"size\": 0.5}, \"mode\": \"markers\", \"text\": \"MySQL/MariaDB appears with Excel 109 times\", \"x\": [-0.7421626835887479], \"y\": [0.5091115310895522], \"type\": \"scatter\", \"uid\": \"f59d9f4f-fa46-4a98-bbc5-ca3718cb3bda\"}, {\"hoverinfo\": \"text\", \"marker\": {\"color\": \"green\", \"size\": 0.5}, \"mode\": \"markers\", \"text\": \"Excel appears with T-SQL 172 times\", \"x\": [0.7868501292126984], \"y\": [0.43688313558428865], \"type\": \"scatter\", \"uid\": \"61b85db4-6904-4193-8db0-cd4b2f66209d\"}, {\"hoverinfo\": \"text\", \"marker\": {\"color\": \"blue\", \"size\": 0.5}, \"mode\": \"markers\", \"text\": \"T-SQL appears with Excel 172 times\", \"x\": [-0.8530039387478416], \"y\": [0.2870266198119409], \"type\": \"scatter\", \"uid\": \"cf271d39-3f93-4ba0-8969-9599a9d8b1b2\"}, {\"hoverinfo\": \"text\", \"marker\": {\"color\": \"green\", \"size\": 0.5}, \"mode\": \"markers\", \"text\": \"Excel appears with PL/SQL 54 times\", \"x\": [0.850362359888073], \"y\": [0.2947606773054838], \"type\": \"scatter\", \"uid\": \"8c347f8e-453c-4b8c-b4a7-8a1b10b24b8f\"}, {\"hoverinfo\": \"text\", \"marker\": {\"color\": \"blue\", \"size\": 0.5}, \"mode\": \"markers\", \"text\": \"PL/SQL appears with Excel 54 times\", \"x\": [-0.8747157756365794], \"y\": [0.21183085670529048], \"type\": \"scatter\", \"uid\": \"04dc4bf6-eda8-4c5e-9d81-3b15e192bb04\"}, {\"hoverinfo\": \"text\", \"marker\": {\"color\": \"green\", \"size\": 0.5}, \"mode\": \"markers\", \"text\": \"Excel appears with Pentaho 62 times\", \"x\": [0.8459157435491135], \"y\": [0.3072890411579146], \"type\": \"scatter\", \"uid\": \"37b6278b-6931-4503-b47e-0db1f7edc562\"}, {\"hoverinfo\": \"text\", \"marker\": {\"color\": \"blue\", \"size\": 0.5}, \"mode\": \"markers\", \"text\": \"Pentaho appears with Excel 62 times\", \"x\": [-0.8964168870078957], \"y\": [0.08022945024785927], \"type\": \"scatter\", \"uid\": \"8b7f9f21-eab1-41b5-86b4-5f1464c6dc28\"}, {\"hoverinfo\": \"text\", \"marker\": {\"color\": \"green\", \"size\": 0.5}, \"mode\": \"markers\", \"text\": \"Excel appears with Hadoop 74 times\", \"x\": [0.829262560308173], \"y\": [0.34974791789392234], \"type\": \"scatter\", \"uid\": \"2af109ac-713e-4d0c-a2cc-c0cd1a3cd5ce\"}, {\"hoverinfo\": \"text\", \"marker\": {\"color\": \"blue\", \"size\": 0.5}, \"mode\": \"markers\", \"text\": \"Hadoop appears with Excel 74 times\", \"x\": [-0.8999616779915219], \"y\": [-0.00830530834372661], \"type\": \"scatter\", \"uid\": \"4413ef0c-bc91-4ae3-8be4-1c8843449628\"}, {\"hoverinfo\": \"text\", \"marker\": {\"color\": \"green\", \"size\": 0.5}, \"mode\": \"markers\", \"text\": \"Excel appears with Spark 77 times\", \"x\": [0.8223846619101159], \"y\": [0.3656274987675084], \"type\": \"scatter\", \"uid\": \"26e3e335-45a0-43fa-ac92-ef6ea5f232db\"}, {\"hoverinfo\": \"text\", \"marker\": {\"color\": \"blue\", \"size\": 0.5}, \"mode\": \"markers\", \"text\": \"Spark appears with Excel 77 times\", \"x\": [-0.8814587561470707], \"y\": [-0.18174284363258703], \"type\": \"scatter\", \"uid\": \"1cea5967-11eb-4738-82d6-f88803dd8a81\"}, {\"hoverinfo\": \"text\", \"marker\": {\"color\": \"green\", \"size\": 0.5}, \"mode\": \"markers\", \"text\": \"Excel appears with Informatica 114 times\", \"x\": [0.8022356804557687], \"y\": [0.40794351692810354], \"type\": \"scatter\", \"uid\": \"07022544-d918-4f49-9bc8-cb923a24aea8\"}, {\"hoverinfo\": \"text\", \"marker\": {\"color\": \"blue\", \"size\": 0.5}, \"mode\": \"markers\", \"text\": \"Informatica appears with Excel 114 times\", \"x\": [-0.8250281979862414], \"y\": [-0.35962268077469095], \"type\": \"scatter\", \"uid\": \"e2c054af-9215-41bc-b2ab-7d50806dcb81\"}, {\"hoverinfo\": \"text\", \"marker\": {\"color\": \"green\", \"size\": 0.5}, \"mode\": \"markers\", \"text\": \"Excel appears with Qlik 377 times\", \"x\": [0.6084626388296368], \"y\": [0.6631539920323747], \"type\": \"scatter\", \"uid\": \"031ca2a4-565e-4342-9bae-4954c4888ece\"}, {\"hoverinfo\": \"text\", \"marker\": {\"color\": \"blue\", \"size\": 0.5}, \"mode\": \"markers\", \"text\": \"Qlik appears with Excel 377 times\", \"x\": [-0.5950391627115814], \"y\": [-0.675224699518242], \"type\": \"scatter\", \"uid\": \"da9b7b08-0bcb-4a8f-ab3d-50e5b833724a\"}, {\"hoverinfo\": \"text\", \"marker\": {\"color\": \"green\", \"size\": 0.5}, \"mode\": \"markers\", \"text\": \"Excel appears with Tableau 407 times\", \"x\": [0.5393377063722176], \"y\": [0.720496244601702], \"type\": \"scatter\", \"uid\": \"084e617c-9fde-47a7-95f6-0945c1e4e3e5\"}, {\"hoverinfo\": \"text\", \"marker\": {\"color\": \"blue\", \"size\": 0.5}, \"mode\": \"markers\", \"text\": \"Tableau appears with Excel 407 times\", \"x\": [-0.14661691440177235], \"y\": [-0.8879771846231768], \"type\": \"scatter\", \"uid\": \"6e924105-aecf-4e22-a79b-2ab78afd2934\"}, {\"hoverinfo\": \"text\", \"marker\": {\"color\": \"green\", \"size\": 0.5}, \"mode\": \"markers\", \"text\": \"Excel appears with Microstrategy 36 times\", \"x\": [0.8571046216257877], \"y\": [0.2745390092276783], \"type\": \"scatter\", \"uid\": \"d40cacc5-52c9-4a74-b95a-695a25da435b\"}, {\"hoverinfo\": \"text\", \"marker\": {\"color\": \"blue\", \"size\": 0.5}, \"mode\": \"markers\", \"text\": \"Microstrategy appears with Excel 36 times\", \"x\": [-0.04314852338356015], \"y\": [-0.8989650743659724], \"type\": \"scatter\", \"uid\": \"4659254d-6813-4aad-af80-077e689bb4f2\"}, {\"hoverinfo\": \"text\", \"marker\": {\"color\": \"green\", \"size\": 0.5}, \"mode\": \"markers\", \"text\": \"Excel appears with Oracle BI 561 times\", \"x\": [0.3346868462795398], \"y\": [0.8354547952627094], \"type\": \"scatter\", \"uid\": \"d35c3a9d-9876-4ac6-8ad3-d4bc12f9261d\"}, {\"hoverinfo\": \"text\", \"marker\": {\"color\": \"blue\", \"size\": 0.5}, \"mode\": \"markers\", \"text\": \"Oracle BI appears with Excel 561 times\", \"x\": [0.5115264697043969], \"y\": [-0.7405002841267225], \"type\": \"scatter\", \"uid\": \"e0bba4c9-3335-4a7e-9241-4d18ad65ed3c\"}, {\"hoverinfo\": \"text\", \"marker\": {\"color\": \"green\", \"size\": 0.5}, \"mode\": \"markers\", \"text\": \"Excel appears with Python 318 times\", \"x\": [0.6646942890746337], \"y\": [0.6067796157350437], \"type\": \"scatter\", \"uid\": \"4364567f-00a1-4800-9d53-410912d81280\"}, {\"hoverinfo\": \"text\", \"marker\": {\"color\": \"blue\", \"size\": 0.5}, \"mode\": \"markers\", \"text\": \"Python appears with Excel 318 times\", \"x\": [0.7911563546148208], \"y\": [-0.4290356891362162], \"type\": \"scatter\", \"uid\": \"599c2401-db27-4cbe-aa7d-3d4f0f30e3f8\"}, {\"hoverinfo\": \"text\", \"marker\": {\"color\": \"green\", \"size\": 0.5}, \"mode\": \"markers\", \"text\": \"Excel appears with VBA 228 times\", \"x\": [0.7393889276835537], \"y\": [0.5131315753478485], \"type\": \"scatter\", \"uid\": \"6bc10c9f-c759-4538-9d58-9e8eb4c2a192\"}, {\"hoverinfo\": \"text\", \"marker\": {\"color\": \"blue\", \"size\": 0.5}, \"mode\": \"markers\", \"text\": \"VBA appears with Excel 228 times\", \"x\": [0.8568766368352213], \"y\": [-0.275249757939876], \"type\": \"scatter\", \"uid\": \"234aa724-4b64-4595-b52e-3071bcd62725\"}, {\"hoverinfo\": \"text\", \"marker\": {\"color\": \"green\", \"size\": 0.5}, \"mode\": \"markers\", \"text\": \"Excel appears with Linux 68 times\", \"x\": [0.8354508397832544], \"y\": [0.3346967198904928], \"type\": \"scatter\", \"uid\": \"44a6b52f-dc29-4fd9-bc6a-fa019610c951\"}, {\"hoverinfo\": \"text\", \"marker\": {\"color\": \"blue\", \"size\": 0.5}, \"mode\": \"markers\", \"text\": \"Linux appears with Excel 68 times\", \"x\": [0.8852503938240172], \"y\": [-0.1622705772295848], \"type\": \"scatter\", \"uid\": \"e9e61f81-da4f-4b37-91a2-e497e0623912\"}, {\"hoverinfo\": \"text\", \"marker\": {\"color\": \"green\", \"size\": 0.5}, \"mode\": \"markers\", \"text\": \"Excel appears with AWS 48 times\", \"x\": [0.85411904569139], \"y\": [0.2836911274383274], \"type\": \"scatter\", \"uid\": \"f4002481-be53-4d72-92bf-c03ec5b5d226\"}, {\"hoverinfo\": \"text\", \"marker\": {\"color\": \"blue\", \"size\": 0.5}, \"mode\": \"markers\", \"text\": \"AWS appears with Excel 48 times\", \"x\": [0.8988207615605212], \"y\": [-0.046056905972556836], \"type\": \"scatter\", \"uid\": \"51e0d0ff-7173-4e8c-a520-2e7456d57202\"}, {\"hoverinfo\": \"text\", \"marker\": {\"color\": \"green\", \"size\": 0.5}, \"mode\": \"markers\", \"text\": \"SSIS/SSRS appears with MS SQL Server 250 times\", \"x\": [-0.06815266069489843], \"y\": [0.8974158539050924], \"type\": \"scatter\", \"uid\": \"d81e2c1b-d995-4f45-82a8-8223137cb958\"}, {\"hoverinfo\": \"text\", \"marker\": {\"color\": \"blue\", \"size\": 0.5}, \"mode\": \"markers\", \"text\": \"MS SQL Server appears with SSIS/SSRS 250 times\", \"x\": [-0.494108733213981], \"y\": [0.7522343782104584], \"type\": \"scatter\", \"uid\": \"2f1c9657-e727-4674-8383-4693320e0ebf\"}, {\"hoverinfo\": \"text\", \"marker\": {\"color\": \"green\", \"size\": 0.5}, \"mode\": \"markers\", \"text\": \"SSIS/SSRS appears with PostgreSQL 44 times\", \"x\": [0.1978275489502022], \"y\": [0.8779887589692452], \"type\": \"scatter\", \"uid\": \"e237ddbe-4f44-4775-bbf7-3156d2b9b657\"}, {\"hoverinfo\": \"text\", \"marker\": {\"color\": \"blue\", \"size\": 0.5}, \"mode\": \"markers\", \"text\": \"PostgreSQL appears with SSIS/SSRS 44 times\", \"x\": [-0.6123518231959998], \"y\": [0.6595644355394967], \"type\": \"scatter\", \"uid\": \"89653f66-097d-4300-a656-2e62b0f6f49c\"}, {\"hoverinfo\": \"text\", \"marker\": {\"color\": \"green\", \"size\": 0.5}, \"mode\": \"markers\", \"text\": \"SSIS/SSRS appears with MySQL/MariaDB 70 times\", \"x\": [0.17117089770756502], \"y\": [0.8835725911197033], \"type\": \"scatter\", \"uid\": \"a6eb58b7-3822-4d5e-ac93-5f5873fb790a\"}, {\"hoverinfo\": \"text\", \"marker\": {\"color\": \"blue\", \"size\": 0.5}, \"mode\": \"markers\", \"text\": \"MySQL/MariaDB appears with SSIS/SSRS 70 times\", \"x\": [-0.7125832629747223], \"y\": [0.5497500280384693], \"type\": \"scatter\", \"uid\": \"8fece829-eee4-436c-a312-16be20251486\"}, {\"hoverinfo\": \"text\", \"marker\": {\"color\": \"green\", \"size\": 0.5}, \"mode\": \"markers\", \"text\": \"SSIS/SSRS appears with T-SQL 117 times\", \"x\": [0.09246867142603767], \"y\": [0.8952371444509569], \"type\": \"scatter\", \"uid\": \"df56dbde-88d7-48fa-ac76-79648754be40\"}, {\"hoverinfo\": \"text\", \"marker\": {\"color\": \"blue\", \"size\": 0.5}, \"mode\": \"markers\", \"text\": \"T-SQL appears with SSIS/SSRS 117 times\", \"x\": [-0.8193725234641525], \"y\": [0.37232870933086404], \"type\": \"scatter\", \"uid\": \"7f65ccfa-46fa-43ef-8a29-fb442b47bfcd\"}, {\"hoverinfo\": \"text\", \"marker\": {\"color\": \"green\", \"size\": 0.5}, \"mode\": \"markers\", \"text\": \"SSIS/SSRS appears with PL/SQL 33 times\", \"x\": [0.21466851917000118], \"y\": [0.8740236992652767], \"type\": \"scatter\", \"uid\": \"b14679bb-034b-4d7c-ae29-1d70f7dc18c1\"}, {\"hoverinfo\": \"text\", \"marker\": {\"color\": \"blue\", \"size\": 0.5}, \"mode\": \"markers\", \"text\": \"PL/SQL appears with SSIS/SSRS 33 times\", \"x\": [-0.8719744757938552], \"y\": [0.22284639006282228], \"type\": \"scatter\", \"uid\": \"221540f9-8033-40cd-b68d-8a2b2fd1fe94\"}, {\"hoverinfo\": \"text\", \"marker\": {\"color\": \"green\", \"size\": 0.5}, \"mode\": \"markers\", \"text\": \"SSIS/SSRS appears with Pentaho 32 times\", \"x\": [0.22862432981415232], \"y\": [0.870477406838931], \"type\": \"scatter\", \"uid\": \"69d2e6ba-245d-435c-9ab7-d3c6a75e6537\"}, {\"hoverinfo\": \"text\", \"marker\": {\"color\": \"blue\", \"size\": 0.5}, \"mode\": \"markers\", \"text\": \"Pentaho appears with SSIS/SSRS 32 times\", \"x\": [-0.8877567220058701], \"y\": [0.14794594463314067], \"type\": \"scatter\", \"uid\": \"4ce693ce-9041-42da-8c58-b90944f924cd\"}, {\"hoverinfo\": \"text\", \"marker\": {\"color\": \"green\", \"size\": 0.5}, \"mode\": \"markers\", \"text\": \"SSIS/SSRS appears with Hadoop 32 times\", \"x\": [0.22170760930275757], \"y\": [0.8722647166871166], \"type\": \"scatter\", \"uid\": \"66badfae-b1fc-461e-b9f2-1bedddfe7860\"}, {\"hoverinfo\": \"text\", \"marker\": {\"color\": \"blue\", \"size\": 0.5}, \"mode\": \"markers\", \"text\": \"Hadoop appears with SSIS/SSRS 32 times\", \"x\": [-0.8996806146467191], \"y\": [0.02397481238511801], \"type\": \"scatter\", \"uid\": \"d300a39c-fede-4688-b726-b78fac81e03a\"}, {\"hoverinfo\": \"text\", \"marker\": {\"color\": \"green\", \"size\": 0.5}, \"mode\": \"markers\", \"text\": \"SSIS/SSRS appears with Spark 39 times\", \"x\": [0.20685510621463413], \"y\": [0.8759057968942393], \"type\": \"scatter\", \"uid\": \"d220f3b3-90f7-44f3-96b1-69f69f426ccc\"}, {\"hoverinfo\": \"text\", \"marker\": {\"color\": \"blue\", \"size\": 0.5}, \"mode\": \"markers\", \"text\": \"Spark appears with SSIS/SSRS 39 times\", \"x\": [-0.887399329762309], \"y\": [-0.15007474650121808], \"type\": \"scatter\", \"uid\": \"fe1fc61c-a84f-49ba-95d6-414be048429c\"}, {\"hoverinfo\": \"text\", \"marker\": {\"color\": \"green\", \"size\": 0.5}, \"mode\": \"markers\", \"text\": \"SSIS/SSRS appears with Informatica 65 times\", \"x\": [0.18594039146988625], \"y\": [0.8805828585772184], \"type\": \"scatter\", \"uid\": \"bddefa65-6e78-4319-943b-83fa9194e435\"}, {\"hoverinfo\": \"text\", \"marker\": {\"color\": \"blue\", \"size\": 0.5}, \"mode\": \"markers\", \"text\": \"Informatica appears with SSIS/SSRS 65 times\", \"x\": [-0.843278169490009], \"y\": [-0.31445497111920423], \"type\": \"scatter\", \"uid\": \"2daa1658-01cc-44d1-8fc0-701d7112856e\"}, {\"hoverinfo\": \"text\", \"marker\": {\"color\": \"green\", \"size\": 0.5}, \"mode\": \"markers\", \"text\": \"SSIS/SSRS appears with Qlik 75 times\", \"x\": [0.13939723311193766], \"y\": [0.8891391406302707], \"type\": \"scatter\", \"uid\": \"71ebf42e-e567-4cd2-9af0-7626683fbab2\"}, {\"hoverinfo\": \"text\", \"marker\": {\"color\": \"blue\", \"size\": 0.5}, \"mode\": \"markers\", \"text\": \"Qlik appears with SSIS/SSRS 75 times\", \"x\": [-0.7550758166310193], \"y\": [-0.48975556264222186], \"type\": \"scatter\", \"uid\": \"df9056a6-5e36-470f-b55d-c03ae54aded1\"}, {\"hoverinfo\": \"text\", \"marker\": {\"color\": \"green\", \"size\": 0.5}, \"mode\": \"markers\", \"text\": \"SSIS/SSRS appears with Tableau 142 times\", \"x\": [0.06366830883125699], \"y\": [0.8977451456012268], \"type\": \"scatter\", \"uid\": \"8c6bbfdd-badb-4e30-b57a-7a0d3b75ef18\"}, {\"hoverinfo\": \"text\", \"marker\": {\"color\": \"blue\", \"size\": 0.5}, \"mode\": \"markers\", \"text\": \"Tableau appears with SSIS/SSRS 142 times\", \"x\": [-0.3917820718808235], \"y\": [-0.810251077230243], \"type\": \"scatter\", \"uid\": \"bbaeb7d2-59d1-45bf-8720-442d77ac0352\"}, {\"hoverinfo\": \"text\", \"marker\": {\"color\": \"green\", \"size\": 0.5}, \"mode\": \"markers\", \"text\": \"SSIS/SSRS appears with Microstrategy 26 times\", \"x\": [0.240693667304693], \"y\": [0.8672177111426045], \"type\": \"scatter\", \"uid\": \"935c0d04-3e6c-461d-a072-3f91af159dc8\"}, {\"hoverinfo\": \"text\", \"marker\": {\"color\": \"blue\", \"size\": 0.5}, \"mode\": \"markers\", \"text\": \"Microstrategy appears with SSIS/SSRS 26 times\", \"x\": [-0.05255224465998468], \"y\": [-0.8984643908253667], \"type\": \"scatter\", \"uid\": \"696f192b-45f4-4aca-a105-42eb6fb3c2c7\"}, {\"hoverinfo\": \"text\", \"marker\": {\"color\": \"green\", \"size\": 0.5}, \"mode\": \"markers\", \"text\": \"SSIS/SSRS appears with Oracle BI 244 times\", \"x\": [-0.01307527744172813], \"y\": [0.899905015609882], \"type\": \"scatter\", \"uid\": \"e54299bd-591f-4ee8-959f-51065dbd337f\"}, {\"hoverinfo\": \"text\", \"marker\": {\"color\": \"blue\", \"size\": 0.5}, \"mode\": \"markers\", \"text\": \"Oracle BI appears with SSIS/SSRS 244 times\", \"x\": [0.28948006868493104], \"y\": [-0.8521744480059043], \"type\": \"scatter\", \"uid\": \"b5105007-99a7-4abb-8059-af1cb794018d\"}, {\"hoverinfo\": \"text\", \"marker\": {\"color\": \"green\", \"size\": 0.5}, \"mode\": \"markers\", \"text\": \"SSIS/SSRS appears with Python 151 times\", \"x\": [0.03100958022529116], \"y\": [0.8994656224304802], \"type\": \"scatter\", \"uid\": \"627b4fa7-bed9-4c4e-a7e4-158df54122aa\"}, {\"hoverinfo\": \"text\", \"marker\": {\"color\": \"blue\", \"size\": 0.5}, \"mode\": \"markers\", \"text\": \"Python appears with SSIS/SSRS 151 times\", \"x\": [0.7653076728493141], \"y\": [-0.4736076074958756], \"type\": \"scatter\", \"uid\": \"c5a0273c-4cb0-41dc-a029-d34e5300b432\"}, {\"hoverinfo\": \"text\", \"marker\": {\"color\": \"green\", \"size\": 0.5}, \"mode\": \"markers\", \"text\": \"SSIS/SSRS appears with VBA 72 times\", \"x\": [0.15558387271937874], \"y\": [0.8864500316146647], \"type\": \"scatter\", \"uid\": \"460d6438-2a31-4cd0-8438-52e473b4cb4a\"}, {\"hoverinfo\": \"text\", \"marker\": {\"color\": \"blue\", \"size\": 0.5}, \"mode\": \"markers\", \"text\": \"VBA appears with SSIS/SSRS 72 times\", \"x\": [0.8475585894109151], \"y\": [-0.3027283229494389], \"type\": \"scatter\", \"uid\": \"5ebd3107-f789-4d61-9f01-4c76082fa02d\"}, {\"hoverinfo\": \"text\", \"marker\": {\"color\": \"green\", \"size\": 0.5}, \"mode\": \"markers\", \"text\": \"SSIS/SSRS appears with Linux 17 times\", \"x\": [0.24531521920989963], \"y\": [0.8659217304260235], \"type\": \"scatter\", \"uid\": \"a61934be-8b69-48af-a989-b6c367285c9f\"}, {\"hoverinfo\": \"text\", \"marker\": {\"color\": \"blue\", \"size\": 0.5}, \"mode\": \"markers\", \"text\": \"Linux appears with SSIS/SSRS 17 times\", \"x\": [0.8732877608751749], \"y\": [-0.21764302586029086], \"type\": \"scatter\", \"uid\": \"6ac8b532-a85d-47ac-af65-272303d4ecd7\"}, {\"hoverinfo\": \"text\", \"marker\": {\"color\": \"green\", \"size\": 0.5}, \"mode\": \"markers\", \"text\": \"SSIS/SSRS appears with AWS 27 times\", \"x\": [0.23498793080135658], \"y\": [0.8687811418174873], \"type\": \"scatter\", \"uid\": \"e4afce36-06a6-464e-9e2e-9945eb543639\"}, {\"hoverinfo\": \"text\", \"marker\": {\"color\": \"blue\", \"size\": 0.5}, \"mode\": \"markers\", \"text\": \"AWS appears with SSIS/SSRS 27 times\", \"x\": [0.896439066149923], \"y\": [-0.07998125205480366], \"type\": \"scatter\", \"uid\": \"289aa81e-3561-4b3d-9ab9-ce3645c60ba9\"}, {\"hoverinfo\": \"text\", \"marker\": {\"color\": \"green\", \"size\": 0.5}, \"mode\": \"markers\", \"text\": \"MS SQL Server appears with PostgreSQL 71 times\", \"x\": [-0.31980043106118067], \"y\": [0.8412655254395506], \"type\": \"scatter\", \"uid\": \"d110dbc2-ea08-403f-97c6-a12b2b537b6e\"}, {\"hoverinfo\": \"text\", \"marker\": {\"color\": \"blue\", \"size\": 0.5}, \"mode\": \"markers\", \"text\": \"PostgreSQL appears with MS SQL Server 71 times\", \"x\": [-0.6277398637643302], \"y\": [0.6449361700518433], \"type\": \"scatter\", \"uid\": \"a23fdb17-4be2-4da5-81f1-6f0f45f9ba8a\"}, {\"hoverinfo\": \"text\", \"marker\": {\"color\": \"green\", \"size\": 0.5}, \"mode\": \"markers\", \"text\": \"MS SQL Server appears with MySQL/MariaDB 81 times\", \"x\": [-0.3353374347092551], \"y\": [0.8351938726323463], \"type\": \"scatter\", \"uid\": \"3a292839-aac7-40a7-a8bc-8a3411af69c1\"}, {\"hoverinfo\": \"text\", \"marker\": {\"color\": \"blue\", \"size\": 0.5}, \"mode\": \"markers\", \"text\": \"MySQL/MariaDB appears with MS SQL Server 81 times\", \"x\": [-0.7215595830737633], \"y\": [0.5379142757674469], \"type\": \"scatter\", \"uid\": \"70bfdda4-bddc-4afd-b151-61702ffccdec\"}, {\"hoverinfo\": \"text\", \"marker\": {\"color\": \"green\", \"size\": 0.5}, \"mode\": \"markers\", \"text\": \"MS SQL Server appears with T-SQL 160 times\", \"x\": [-0.42469897944616997], \"y\": [0.7934927705136208], \"type\": \"scatter\", \"uid\": \"8f58164a-9176-4a10-8845-0fc231a4239a\"}, {\"hoverinfo\": \"text\", \"marker\": {\"color\": \"blue\", \"size\": 0.5}, \"mode\": \"markers\", \"text\": \"T-SQL appears with MS SQL Server 160 times\", \"x\": [-0.8412118732819324], \"y\": [0.3199415325485303], \"type\": \"scatter\", \"uid\": \"b2c66242-f725-4d59-a541-f7802a839ee1\"}, {\"hoverinfo\": \"text\", \"marker\": {\"color\": \"green\", \"size\": 0.5}, \"mode\": \"markers\", \"text\": \"MS SQL Server appears with PL/SQL 10 times\", \"x\": [-0.24554191830716166], \"y\": [0.8658574746192581], \"type\": \"scatter\", \"uid\": \"736bac96-0e64-4d7f-8ee3-f0b7f9afff15\"}, {\"hoverinfo\": \"text\", \"marker\": {\"color\": \"blue\", \"size\": 0.5}, \"mode\": \"markers\", \"text\": \"PL/SQL appears with MS SQL Server 10 times\", \"x\": [-0.8680449502595085], \"y\": [0.23769300437532329], \"type\": \"scatter\", \"uid\": \"cf0480ab-b145-4906-851c-01e56a48a820\"}, {\"hoverinfo\": \"text\", \"marker\": {\"color\": \"green\", \"size\": 0.5}, \"mode\": \"markers\", \"text\": \"MS SQL Server appears with Pentaho 44 times\", \"x\": [-0.27349295477422875], \"y\": [0.8574389795716437], \"type\": \"scatter\", \"uid\": \"c71ebc8c-0fa4-4fce-99b9-41944f09aa75\"}, {\"hoverinfo\": \"text\", \"marker\": {\"color\": \"blue\", \"size\": 0.5}, \"mode\": \"markers\", \"text\": \"Pentaho appears with MS SQL Server 44 times\", \"x\": [-0.8943219068495735], \"y\": [0.1009372425269431], \"type\": \"scatter\", \"uid\": \"f7386686-fc0f-4c50-84fb-8dc5e27b3872\"}, {\"hoverinfo\": \"text\", \"marker\": {\"color\": \"green\", \"size\": 0.5}, \"mode\": \"markers\", \"text\": \"MS SQL Server appears with Hadoop 28 times\", \"x\": [-0.258605660941957], \"y\": [0.8620458874844039], \"type\": \"scatter\", \"uid\": \"4beb0722-9c8c-4f09-92cc-f51db642874a\"}, {\"hoverinfo\": \"text\", \"marker\": {\"color\": \"blue\", \"size\": 0.5}, \"mode\": \"markers\", \"text\": \"Hadoop appears with MS SQL Server 28 times\", \"x\": [-0.8995074505209961], \"y\": [0.029771571292388114], \"type\": \"scatter\", \"uid\": \"de2ce35a-a0eb-48ed-9434-781462063597\"}, {\"hoverinfo\": \"text\", \"marker\": {\"color\": \"green\", \"size\": 0.5}, \"mode\": \"markers\", \"text\": \"MS SQL Server appears with Spark 25 times\", \"x\": [-0.2530290257629103], \"y\": [0.8636992023392591], \"type\": \"scatter\", \"uid\": \"5edb36a4-1e2f-4692-b5c3-31a545c8b311\"}, {\"hoverinfo\": \"text\", \"marker\": {\"color\": \"blue\", \"size\": 0.5}, \"mode\": \"markers\", \"text\": \"Spark appears with MS SQL Server 25 times\", \"x\": [-0.8910607458373547], \"y\": [-0.12653358142318227], \"type\": \"scatter\", \"uid\": \"7e1011de-3a65-47c2-bbc1-0c4ffdf212f4\"}, {\"hoverinfo\": \"text\", \"marker\": {\"color\": \"green\", \"size\": 0.5}, \"mode\": \"markers\", \"text\": \"MS SQL Server appears with Informatica 59 times\", \"x\": [-0.2935947777151477], \"y\": [0.8507656002086551], \"type\": \"scatter\", \"uid\": \"45688e34-c6d1-4068-9e7c-19f734a15947\"}, {\"hoverinfo\": \"text\", \"marker\": {\"color\": \"blue\", \"size\": 0.5}, \"mode\": \"markers\", \"text\": \"Informatica appears with MS SQL Server 59 times\", \"x\": [-0.8474482971510102], \"y\": [-0.3030369344747486], \"type\": \"scatter\", \"uid\": \"d7880613-7a6e-420d-97ee-ad71f90e1139\"}, {\"hoverinfo\": \"text\", \"marker\": {\"color\": \"green\", \"size\": 0.5}, \"mode\": \"markers\", \"text\": \"MS SQL Server appears with Qlik 62 times\", \"x\": [-0.3061152477672356], \"y\": [0.8463412166995082], \"type\": \"scatter\", \"uid\": \"6ad004e7-10be-4952-814f-3f2b5830281b\"}, {\"hoverinfo\": \"text\", \"marker\": {\"color\": \"blue\", \"size\": 0.5}, \"mode\": \"markers\", \"text\": \"Qlik appears with MS SQL Server 62 times\", \"x\": [-0.7711070383936588], \"y\": [-0.4641055217725388], \"type\": \"scatter\", \"uid\": \"459f7fd2-2353-46d9-b552-a686b3e4e70f\"}, {\"hoverinfo\": \"text\", \"marker\": {\"color\": \"green\", \"size\": 0.5}, \"mode\": \"markers\", \"text\": \"MS SQL Server appears with Tableau 98 times\", \"x\": [-0.3534861855583313], \"y\": [0.8276759732041405], \"type\": \"scatter\", \"uid\": \"14b80e5d-3c22-4020-946e-f123c112d8d2\"}, {\"hoverinfo\": \"text\", \"marker\": {\"color\": \"blue\", \"size\": 0.5}, \"mode\": \"markers\", \"text\": \"Tableau appears with MS SQL Server 98 times\", \"x\": [-0.4397468784081428], \"y\": [-0.7852532603754627], \"type\": \"scatter\", \"uid\": \"2f733b24-a8c1-45f2-80ff-83cbf499574a\"}, {\"hoverinfo\": \"text\", \"marker\": {\"color\": \"green\", \"size\": 0.5}, \"mode\": \"markers\", \"text\": \"MS SQL Server appears with Microstrategy 18 times\", \"x\": [-0.248496809523673], \"y\": [0.8650140667391226], \"type\": \"scatter\", \"uid\": \"6ebf69bd-9db1-49b6-b704-032872bc5b6f\"}, {\"hoverinfo\": \"text\", \"marker\": {\"color\": \"blue\", \"size\": 0.5}, \"mode\": \"markers\", \"text\": \"Microstrategy appears with MS SQL Server 18 times\", \"x\": [-0.06239757363709788], \"y\": [-0.8978343626773276], \"type\": \"scatter\", \"uid\": \"f04f366f-718a-45f8-8dcb-c557ad06c925\"}, {\"hoverinfo\": \"text\", \"marker\": {\"color\": \"green\", \"size\": 0.5}, \"mode\": \"markers\", \"text\": \"MS SQL Server appears with Oracle BI 163 times\", \"x\": [-0.4556146629698835], \"y\": [0.7761541592279458], \"type\": \"scatter\", \"uid\": \"68611219-cbf4-42ce-901a-3503e18142aa\"}, {\"hoverinfo\": \"text\", \"marker\": {\"color\": \"blue\", \"size\": 0.5}, \"mode\": \"markers\", \"text\": \"Oracle BI appears with MS SQL Server 163 times\", \"x\": [0.24554230753803938], \"y\": [-0.8658573642401473], \"type\": \"scatter\", \"uid\": \"187e44e4-b081-47ee-9eab-f988c7333590\"}, {\"hoverinfo\": \"text\", \"marker\": {\"color\": \"green\", \"size\": 0.5}, \"mode\": \"markers\", \"text\": \"MS SQL Server appears with Python 109 times\", \"x\": [-0.37426330846142053], \"y\": [0.8184906694272767], \"type\": \"scatter\", \"uid\": \"41038921-3d27-4ea7-b330-315b157aee4f\"}, {\"hoverinfo\": \"text\", \"marker\": {\"color\": \"blue\", \"size\": 0.5}, \"mode\": \"markers\", \"text\": \"Python appears with MS SQL Server 109 times\", \"x\": [0.6786778585660688], \"y\": [-0.5910975928661656], \"type\": \"scatter\", \"uid\": \"ed0902f0-80c9-40d8-98cb-c873b810c81c\"}, {\"hoverinfo\": \"text\", \"marker\": {\"color\": \"green\", \"size\": 0.5}, \"mode\": \"markers\", \"text\": \"MS SQL Server appears with VBA 35 times\", \"x\": [-0.26522042159753145], \"y\": [0.8600337946660165], \"type\": \"scatter\", \"uid\": \"b990be76-3bdc-455a-978a-8b3479b71e00\"}, {\"hoverinfo\": \"text\", \"marker\": {\"color\": \"blue\", \"size\": 0.5}, \"mode\": \"markers\", \"text\": \"VBA appears with MS SQL Server 35 times\", \"x\": [0.8306356835839702], \"y\": [-0.3464741854121177], \"type\": \"scatter\", \"uid\": \"2c9eeef0-a92a-4a47-8695-4644fb397455\"}, {\"hoverinfo\": \"text\", \"marker\": {\"color\": \"green\", \"size\": 0.5}, \"mode\": \"markers\", \"text\": \"MS SQL Server appears with Linux 45 times\", \"x\": [-0.2827822028970337], \"y\": [0.854420403387408], \"type\": \"scatter\", \"uid\": \"71f320ed-ee3a-4f78-8c50-9e429619fd1f\"}, {\"hoverinfo\": \"text\", \"marker\": {\"color\": \"blue\", \"size\": 0.5}, \"mode\": \"markers\", \"text\": \"Linux appears with MS SQL Server 45 times\", \"x\": [0.8810095580941414], \"y\": [-0.18390801653752284], \"type\": \"scatter\", \"uid\": \"965e3327-9737-4639-9126-a5ea3689d01e\"}, {\"hoverinfo\": \"text\", \"marker\": {\"color\": \"green\", \"size\": 0.5}, \"mode\": \"markers\", \"text\": \"MS SQL Server appears with AWS 9 times\", \"x\": [-0.24353518124152093], \"y\": [0.8664240390811301], \"type\": \"scatter\", \"uid\": \"1b0443d1-1bf1-420a-a146-ac2f270b2199\"}, {\"hoverinfo\": \"text\", \"marker\": {\"color\": \"blue\", \"size\": 0.5}, \"mode\": \"markers\", \"text\": \"AWS appears with MS SQL Server 9 times\", \"x\": [0.89526636918855], \"y\": [-0.09218529275297031], \"type\": \"scatter\", \"uid\": \"d7fb4bbf-8df6-418a-a8b0-076471fad692\"}, {\"hoverinfo\": \"text\", \"marker\": {\"color\": \"green\", \"size\": 0.5}, \"mode\": \"markers\", \"text\": \"PostgreSQL appears with MySQL/MariaDB 85 times\", \"x\": [-0.6375148606974714], \"y\": [0.6352753752428026], \"type\": \"scatter\", \"uid\": \"670265ec-0886-46e1-84f4-5fcdc37e2f57\"}, {\"hoverinfo\": \"text\", \"marker\": {\"color\": \"blue\", \"size\": 0.5}, \"mode\": \"markers\", \"text\": \"MySQL/MariaDB appears with PostgreSQL 85 times\", \"x\": [-0.7312006726683878], \"y\": [0.5247338146996982], \"type\": \"scatter\", \"uid\": \"036dee43-db53-45fb-af3e-6d82f7326f6d\"}, {\"hoverinfo\": \"text\", \"marker\": {\"color\": \"green\", \"size\": 0.5}, \"mode\": \"markers\", \"text\": \"PostgreSQL appears with T-SQL 31 times\", \"x\": [-0.591593589442504], \"y\": [0.6782455491417058], \"type\": \"scatter\", \"uid\": \"b6d50259-dc1d-44ee-80a4-bb4ebf926559\"}, {\"hoverinfo\": \"text\", \"marker\": {\"color\": \"blue\", \"size\": 0.5}, \"mode\": \"markers\", \"text\": \"T-SQL appears with PostgreSQL 31 times\", \"x\": [-0.7776077442768843], \"y\": [0.45312933698957936], \"type\": \"scatter\", \"uid\": \"255900aa-a9c5-4ec6-ac48-7b87ae51c745\"}, {\"hoverinfo\": \"text\", \"marker\": {\"color\": \"green\", \"size\": 0.5}, \"mode\": \"markers\", \"text\": \"PostgreSQL appears with Pentaho 43 times\", \"x\": [-0.6067126345520971], \"y\": [0.6647554280145844], \"type\": \"scatter\", \"uid\": \"feafef73-a6e9-48a6-9343-ea6f98fa01b0\"}, {\"hoverinfo\": \"text\", \"marker\": {\"color\": \"blue\", \"size\": 0.5}, \"mode\": \"markers\", \"text\": \"Pentaho appears with PostgreSQL 43 times\", \"x\": [-0.8933963623496949], \"y\": [0.10882527160697918], \"type\": \"scatter\", \"uid\": \"812c4607-0c4d-41a0-83e6-6a1611a18cd0\"}, {\"hoverinfo\": \"text\", \"marker\": {\"color\": \"green\", \"size\": 0.5}, \"mode\": \"markers\", \"text\": \"PostgreSQL appears with Hadoop 3 times\", \"x\": [-0.5827806423358451], \"y\": [0.6858328680652596], \"type\": \"scatter\", \"uid\": \"ba75cd0d-483e-42ca-b3bf-9f0fc4ba1b6b\"}, {\"hoverinfo\": \"text\", \"marker\": {\"color\": \"blue\", \"size\": 0.5}, \"mode\": \"markers\", \"text\": \"Hadoop appears with PostgreSQL 3 times\", \"x\": [-0.8988484925750911], \"y\": [0.045512497135251906], \"type\": \"scatter\", \"uid\": \"28d5b81f-d566-478c-965d-fbc250dda9b8\"}, {\"hoverinfo\": \"text\", \"marker\": {\"color\": \"green\", \"size\": 0.5}, \"mode\": \"markers\", \"text\": \"PostgreSQL appears with Spark 6 times\", \"x\": [-0.5833846326925451], \"y\": [0.6853191740628481], \"type\": \"scatter\", \"uid\": \"ba09c022-56b6-47d2-abc0-983f8fcb101d\"}, {\"hoverinfo\": \"text\", \"marker\": {\"color\": \"blue\", \"size\": 0.5}, \"mode\": \"markers\", \"text\": \"Spark appears with PostgreSQL 6 times\", \"x\": [-0.8934207639724744], \"y\": [-0.10862476008185382], \"type\": \"scatter\", \"uid\": \"b487b2bf-c569-4515-9625-f7ebff573716\"}, {\"hoverinfo\": \"text\", \"marker\": {\"color\": \"green\", \"size\": 0.5}, \"mode\": \"markers\", \"text\": \"PostgreSQL appears with Qlik 14 times\", \"x\": [-0.585528483632222], \"y\": [0.6834884014051378], \"type\": \"scatter\", \"uid\": \"7e348485-16da-40c5-be57-af84285b1d52\"}, {\"hoverinfo\": \"text\", \"marker\": {\"color\": \"blue\", \"size\": 0.5}, \"mode\": \"markers\", \"text\": \"Qlik appears with PostgreSQL 14 times\", \"x\": [-0.7953503794728851], \"y\": [-0.42120989289466804], \"type\": \"scatter\", \"uid\": \"44fd21a6-4634-4887-91ed-8eced67449bc\"}, {\"hoverinfo\": \"text\", \"marker\": {\"color\": \"green\", \"size\": 0.5}, \"mode\": \"markers\", \"text\": \"PostgreSQL appears with Tableau 6 times\", \"x\": [-0.5841892487360688], \"y\": [0.6846334213732101], \"type\": \"scatter\", \"uid\": \"f409ad63-a991-4e41-a257-c607cb3fc543\"}, {\"hoverinfo\": \"text\", \"marker\": {\"color\": \"blue\", \"size\": 0.5}, \"mode\": \"markers\", \"text\": \"Tableau appears with PostgreSQL 6 times\", \"x\": [-0.5404449069998085], \"y\": [-0.7196661048694515], \"type\": \"scatter\", \"uid\": \"5fe26f17-5f23-4902-b5c0-d5d22c964b7e\"}, {\"hoverinfo\": \"text\", \"marker\": {\"color\": \"green\", \"size\": 0.5}, \"mode\": \"markers\", \"text\": \"PostgreSQL appears with Oracle BI 42 times\", \"x\": [-0.6011605820697885], \"y\": [0.6697805271620795], \"type\": \"scatter\", \"uid\": \"7399ad3e-9c2c-43c3-bb93-cf299dfbae08\"}, {\"hoverinfo\": \"text\", \"marker\": {\"color\": \"blue\", \"size\": 0.5}, \"mode\": \"markers\", \"text\": \"Oracle BI appears with PostgreSQL 42 times\", \"x\": [0.03168594046937549], \"y\": [-0.8994420499268261], \"type\": \"scatter\", \"uid\": \"77b049e3-8c44-48f6-a590-638c2cb3ff6e\"}, {\"hoverinfo\": \"text\", \"marker\": {\"color\": \"green\", \"size\": 0.5}, \"mode\": \"markers\", \"text\": \"PostgreSQL appears with Python 23 times\", \"x\": [-0.5880001479534646], \"y\": [0.6813632115154911], \"type\": \"scatter\", \"uid\": \"97bde8c3-da9e-472f-b5e2-1186bfd9185e\"}, {\"hoverinfo\": \"text\", \"marker\": {\"color\": \"blue\", \"size\": 0.5}, \"mode\": \"markers\", \"text\": \"Python appears with PostgreSQL 23 times\", \"x\": [0.5894499772229884], \"y\": [-0.6801093473492468], \"type\": \"scatter\", \"uid\": \"5722adf5-8bd6-42b2-b386-323ec8e9216f\"}, {\"hoverinfo\": \"text\", \"marker\": {\"color\": \"green\", \"size\": 0.5}, \"mode\": \"markers\", \"text\": \"PostgreSQL appears with Linux 36 times\", \"x\": [-0.5960291293220349], \"y\": [0.6743510042994056], \"type\": \"scatter\", \"uid\": \"d3088dea-f72f-4dc0-b5cb-342a811f171d\"}, {\"hoverinfo\": \"text\", \"marker\": {\"color\": \"blue\", \"size\": 0.5}, \"mode\": \"markers\", \"text\": \"Linux appears with PostgreSQL 36 times\", \"x\": [0.8778678945454627], \"y\": [-0.1983632015428172], \"type\": \"scatter\", \"uid\": \"44d0d338-7c9e-4679-b95a-2591bb17dc2c\"}, {\"hoverinfo\": \"text\", \"marker\": {\"color\": \"green\", \"size\": 0.5}, \"mode\": \"markers\", \"text\": \"MySQL/MariaDB appears with T-SQL 37 times\", \"x\": [-0.672870752456835], \"y\": [0.5976997159846847], \"type\": \"scatter\", \"uid\": \"98e4789c-566e-4716-a90f-6080f402f2f5\"}, {\"hoverinfo\": \"text\", \"marker\": {\"color\": \"blue\", \"size\": 0.5}, \"mode\": \"markers\", \"text\": \"T-SQL appears with MySQL/MariaDB 37 times\", \"x\": [-0.7846172491802718], \"y\": [0.44088067806242476], \"type\": \"scatter\", \"uid\": \"6c5d40cb-50a5-4468-b585-1a8260e98c75\"}, {\"hoverinfo\": \"text\", \"marker\": {\"color\": \"green\", \"size\": 0.5}, \"mode\": \"markers\", \"text\": \"MySQL/MariaDB appears with Pentaho 61 times\", \"x\": [-0.6964869877511386], \"y\": [0.5700051542691044], \"type\": \"scatter\", \"uid\": \"f8f2e086-0cb7-45ab-8f8d-00aaf3cb22ad\"}, {\"hoverinfo\": \"text\", \"marker\": {\"color\": \"blue\", \"size\": 0.5}, \"mode\": \"markers\", \"text\": \"Pentaho appears with MySQL/MariaDB 61 times\", \"x\": [-0.8953461887254021], \"y\": [0.0914067958901137], \"type\": \"scatter\", \"uid\": \"84703569-b155-4373-b9d5-14e36c5682e3\"}, {\"hoverinfo\": \"text\", \"marker\": {\"color\": \"green\", \"size\": 0.5}, \"mode\": \"markers\", \"text\": \"MySQL/MariaDB appears with Hadoop 5 times\", \"x\": [-0.6639115039564476], \"y\": [0.6076360052813591], \"type\": \"scatter\", \"uid\": \"4ba311c4-0b01-4b62-bd52-600e4e8a3016\"}, {\"hoverinfo\": \"text\", \"marker\": {\"color\": \"blue\", \"size\": 0.5}, \"mode\": \"markers\", \"text\": \"Hadoop appears with MySQL/MariaDB 5 times\", \"x\": [-0.8989159062686213], \"y\": [0.04416099474947806], \"type\": \"scatter\", \"uid\": \"204d2996-16f4-4170-8d4e-5b7cc7fd3f70\"}, {\"hoverinfo\": \"text\", \"marker\": {\"color\": \"green\", \"size\": 0.5}, \"mode\": \"markers\", \"text\": \"MySQL/MariaDB appears with Spark 22 times\", \"x\": [-0.66900216540727], \"y\": [0.6020266627653496], \"type\": \"scatter\", \"uid\": \"72f7de09-4329-4f5d-8eec-318b7eb7c7c9\"}, {\"hoverinfo\": \"text\", \"marker\": {\"color\": \"blue\", \"size\": 0.5}, \"mode\": \"markers\", \"text\": \"Spark appears with MySQL/MariaDB 22 times\", \"x\": [-0.8916943705468884], \"y\": [-0.12198831720697086], \"type\": \"scatter\", \"uid\": \"22d7b6e8-99ad-4e4c-bf9e-87bf7c30c66f\"}, {\"hoverinfo\": \"text\", \"marker\": {\"color\": \"green\", \"size\": 0.5}, \"mode\": \"markers\", \"text\": \"MySQL/MariaDB appears with Informatica 8 times\", \"x\": [-0.664774276029534], \"y\": [0.6066919827469364], \"type\": \"scatter\", \"uid\": \"113cb960-1eb4-4e25-b212-7d9a95ee994a\"}, {\"hoverinfo\": \"text\", \"marker\": {\"color\": \"blue\", \"size\": 0.5}, \"mode\": \"markers\", \"text\": \"Informatica appears with MySQL/MariaDB 8 times\", \"x\": [-0.8593492600084591], \"y\": [-0.2674300830552046], \"type\": \"scatter\", \"uid\": \"84b8ab37-0265-4ca4-9e53-b6c593281d2c\"}, {\"hoverinfo\": \"text\", \"marker\": {\"color\": \"green\", \"size\": 0.5}, \"mode\": \"markers\", \"text\": \"MySQL/MariaDB appears with Qlik 17 times\", \"x\": [-0.6664296788127633], \"y\": [0.60487311330354], \"type\": \"scatter\", \"uid\": \"c08acc54-3d74-4117-bb0c-37e9db6a4a9c\"}, {\"hoverinfo\": \"text\", \"marker\": {\"color\": \"blue\", \"size\": 0.5}, \"mode\": \"markers\", \"text\": \"Qlik appears with MySQL/MariaDB 17 times\", \"x\": [-0.7906166277066787], \"y\": [-0.43002947340120645], \"type\": \"scatter\", \"uid\": \"f831915e-b8b9-403b-85dd-aa245e436251\"}, {\"hoverinfo\": \"text\", \"marker\": {\"color\": \"green\", \"size\": 0.5}, \"mode\": \"markers\", \"text\": \"MySQL/MariaDB appears with Tableau 45 times\", \"x\": [-0.6832205276097535], \"y\": [0.5858410284818314], \"type\": \"scatter\", \"uid\": \"70c5c1af-a5a0-4528-8d05-bde8cca4100b\"}, {\"hoverinfo\": \"text\", \"marker\": {\"color\": \"blue\", \"size\": 0.5}, \"mode\": \"markers\", \"text\": \"Tableau appears with MySQL/MariaDB 45 times\", \"x\": [-0.5043212241687521], \"y\": [-0.7454261216599076], \"type\": \"scatter\", \"uid\": \"8fd2d1ec-3874-48d1-afd9-dbcaebc90c47\"}, {\"hoverinfo\": \"text\", \"marker\": {\"color\": \"green\", \"size\": 0.5}, \"mode\": \"markers\", \"text\": \"MySQL/MariaDB appears with Oracle BI 66 times\", \"x\": [-0.7043324062689617], \"y\": [0.5602819482005239], \"type\": \"scatter\", \"uid\": \"7fb18299-8d90-49dc-b50a-602fdb700f72\"}, {\"hoverinfo\": \"text\", \"marker\": {\"color\": \"blue\", \"size\": 0.5}, \"mode\": \"markers\", \"text\": \"Oracle BI appears with MySQL/MariaDB 66 times\", \"x\": [0.06668647004959682], \"y\": [-0.8975259966777143], \"type\": \"scatter\", \"uid\": \"0e5a7888-c660-4b5d-9f95-1fee3e42c85c\"}, {\"hoverinfo\": \"text\", \"marker\": {\"color\": \"green\", \"size\": 0.5}, \"mode\": \"markers\", \"text\": \"MySQL/MariaDB appears with Python 52 times\", \"x\": [-0.6893935322913478], \"y\": [0.5785642208388438], \"type\": \"scatter\", \"uid\": \"3af27c5a-f697-4645-97c4-89c321c2f270\"}, {\"hoverinfo\": \"text\", \"marker\": {\"color\": \"blue\", \"size\": 0.5}, \"mode\": \"markers\", \"text\": \"Python appears with MySQL/MariaDB 52 times\", \"x\": [0.6205949509527428], \"y\": [-0.6518143193057075], \"type\": \"scatter\", \"uid\": \"ab9a8441-e302-4320-aed0-c89754250002\"}, {\"hoverinfo\": \"text\", \"marker\": {\"color\": \"green\", \"size\": 0.5}, \"mode\": \"markers\", \"text\": \"MySQL/MariaDB appears with VBA 5 times\", \"x\": [-0.6625815452321645], \"y\": [0.6090859511741813], \"type\": \"scatter\", \"uid\": \"db3601ba-e280-4f97-8a86-5c846c79c891\"}, {\"hoverinfo\": \"text\", \"marker\": {\"color\": \"blue\", \"size\": 0.5}, \"mode\": \"markers\", \"text\": \"VBA appears with MySQL/MariaDB 5 times\", \"x\": [0.8203134866987334], \"y\": [-0.3702509737194044], \"type\": \"scatter\", \"uid\": \"dac79ded-f57f-45a2-ad83-bd04b5852e30\"}, {\"hoverinfo\": \"text\", \"marker\": {\"color\": \"green\", \"size\": 0.5}, \"mode\": \"markers\", \"text\": \"MySQL/MariaDB appears with Linux 39 times\", \"x\": [-0.6778127523894961], \"y\": [0.5920894127563636], \"type\": \"scatter\", \"uid\": \"0abf4969-2b2d-41ff-a405-e68c49060159\"}, {\"hoverinfo\": \"text\", \"marker\": {\"color\": \"blue\", \"size\": 0.5}, \"mode\": \"markers\", \"text\": \"Linux appears with MySQL/MariaDB 39 times\", \"x\": [0.8793794143358953], \"y\": [-0.19155115672388365], \"type\": \"scatter\", \"uid\": \"c8fff780-ba0f-4612-bdae-a1dcab78f810\"}, {\"hoverinfo\": \"text\", \"marker\": {\"color\": \"green\", \"size\": 0.5}, \"mode\": \"markers\", \"text\": \"T-SQL appears with PL/SQL 33 times\", \"x\": [-0.7809795263746452], \"y\": [0.4472929458236904], \"type\": \"scatter\", \"uid\": \"100bc342-a4e6-4c7d-830f-af2304262995\"}, {\"hoverinfo\": \"text\", \"marker\": {\"color\": \"blue\", \"size\": 0.5}, \"mode\": \"markers\", \"text\": \"PL/SQL appears with T-SQL 33 times\", \"x\": [-0.8731740361320994], \"y\": [0.21809883682582792], \"type\": \"scatter\", \"uid\": \"fd3217c6-2603-4f17-bd3d-e6026699d76f\"}, {\"hoverinfo\": \"text\", \"marker\": {\"color\": \"green\", \"size\": 0.5}, \"mode\": \"markers\", \"text\": \"T-SQL appears with Pentaho 37 times\", \"x\": [-0.7884055912551777], \"y\": [0.43406983732755916], \"type\": \"scatter\", \"uid\": \"5069346a-0fc7-48ba-bba4-76a03cd73d99\"}, {\"hoverinfo\": \"text\", \"marker\": {\"color\": \"blue\", \"size\": 0.5}, \"mode\": \"markers\", \"text\": \"Pentaho appears with T-SQL 37 times\", \"x\": [-0.8915625968626142], \"y\": [0.12294769569045082], \"type\": \"scatter\", \"uid\": \"4d1c1da5-f8b2-40f0-90b2-f960ffc3a7a2\"}, {\"hoverinfo\": \"text\", \"marker\": {\"color\": \"green\", \"size\": 0.5}, \"mode\": \"markers\", \"text\": \"T-SQL appears with Hadoop 16 times\", \"x\": [-0.7678364567550331], \"y\": [0.46949672595011377], \"type\": \"scatter\", \"uid\": \"75a23342-91b3-45fc-b102-1df78efa2c4c\"}, {\"hoverinfo\": \"text\", \"marker\": {\"color\": \"blue\", \"size\": 0.5}, \"mode\": \"markers\", \"text\": \"Hadoop appears with T-SQL 16 times\", \"x\": [-0.8991941184543425], \"y\": [0.038078042716478036], \"type\": \"scatter\", \"uid\": \"6db76724-8131-41b0-a4a3-87af6c7c29c2\"}, {\"hoverinfo\": \"text\", \"marker\": {\"color\": \"green\", \"size\": 0.5}, \"mode\": \"markers\", \"text\": \"T-SQL appears with Spark 17 times\", \"x\": [-0.7696437686641119], \"y\": [0.46652810135778844], \"type\": \"scatter\", \"uid\": \"1743a7f7-0a70-429b-82ad-3235441ac944\"}, {\"hoverinfo\": \"text\", \"marker\": {\"color\": \"blue\", \"size\": 0.5}, \"mode\": \"markers\", \"text\": \"Spark appears with T-SQL 17 times\", \"x\": [-0.8922025436057662], \"y\": [-0.11821430194101293], \"type\": \"scatter\", \"uid\": \"99e55953-9005-4c42-a021-78afd815afef\"}, {\"hoverinfo\": \"text\", \"marker\": {\"color\": \"green\", \"size\": 0.5}, \"mode\": \"markers\", \"text\": \"T-SQL appears with Informatica 12 times\", \"x\": [-0.7662939994854203], \"y\": [0.4720100701813878], \"type\": \"scatter\", \"uid\": \"e1da983e-5b5a-466a-912a-7e23f1e854b4\"}, {\"hoverinfo\": \"text\", \"marker\": {\"color\": \"blue\", \"size\": 0.5}, \"mode\": \"markers\", \"text\": \"Informatica appears with T-SQL 12 times\", \"x\": [-0.8569863200462174], \"y\": [-0.2749080705502155], \"type\": \"scatter\", \"uid\": \"b388485c-a6af-4512-a368-654d56e79cd7\"}, {\"hoverinfo\": \"text\", \"marker\": {\"color\": \"green\", \"size\": 0.5}, \"mode\": \"markers\", \"text\": \"T-SQL appears with Qlik 69 times\", \"x\": [-0.8023933622712142], \"y\": [0.40763328149587597], \"type\": \"scatter\", \"uid\": \"b5a40e89-b62e-4485-9121-80e2ae028f21\"}, {\"hoverinfo\": \"text\", \"marker\": {\"color\": \"blue\", \"size\": 0.5}, \"mode\": \"markers\", \"text\": \"Qlik appears with T-SQL 69 times\", \"x\": [-0.763577889554031], \"y\": [-0.47639144260178734], \"type\": \"scatter\", \"uid\": \"cb36ab65-0022-46b1-bba8-c0f9620ddd0c\"}, {\"hoverinfo\": \"text\", \"marker\": {\"color\": \"green\", \"size\": 0.5}, \"mode\": \"markers\", \"text\": \"T-SQL appears with Tableau 93 times\", \"x\": [-0.8099763447967369], \"y\": [0.39234974304785475], \"type\": \"scatter\", \"uid\": \"4048ade7-58fc-428a-8799-eb8d66103377\"}, {\"hoverinfo\": \"text\", \"marker\": {\"color\": \"blue\", \"size\": 0.5}, \"mode\": \"markers\", \"text\": \"Tableau appears with T-SQL 93 times\", \"x\": [-0.45824751912163436], \"y\": [-0.7746026150348754], \"type\": \"scatter\", \"uid\": \"32ef3ab9-3d68-4e8f-aeab-93fbacebf6d8\"}, {\"hoverinfo\": \"text\", \"marker\": {\"color\": \"green\", \"size\": 0.5}, \"mode\": \"markers\", \"text\": \"T-SQL appears with Microstrategy 11 times\", \"x\": [-0.7650208258759228], \"y\": [0.4740708132506379], \"type\": \"scatter\", \"uid\": \"5ce74155-4d32-4c9a-82a4-4404d7f41aae\"}, {\"hoverinfo\": \"text\", \"marker\": {\"color\": \"blue\", \"size\": 0.5}, \"mode\": \"markers\", \"text\": \"Microstrategy appears with T-SQL 11 times\", \"x\": [-0.06903155280875786], \"y\": [-0.8973486751072917], \"type\": \"scatter\", \"uid\": \"bac85135-05d8-48e4-be36-993f071c5989\"}, {\"hoverinfo\": \"text\", \"marker\": {\"color\": \"green\", \"size\": 0.5}, \"mode\": \"markers\", \"text\": \"T-SQL appears with Oracle BI 131 times\", \"x\": [-0.8298313503223103], \"y\": [0.348396225614244], \"type\": \"scatter\", \"uid\": \"573bd52d-91c5-4943-96b5-00e8e9925aec\"}, {\"hoverinfo\": \"text\", \"marker\": {\"color\": \"blue\", \"size\": 0.5}, \"mode\": \"markers\", \"text\": \"Oracle BI appears with T-SQL 131 times\", \"x\": [0.1491707026917743], \"y\": [-0.8875517457920087], \"type\": \"scatter\", \"uid\": \"18039a02-812d-49e5-be1f-5ba5ddc26438\"}, {\"hoverinfo\": \"text\", \"marker\": {\"color\": \"green\", \"size\": 0.5}, \"mode\": \"markers\", \"text\": \"T-SQL appears with Python 47 times\", \"x\": [-0.796786248130439], \"y\": [0.41848736515003476], \"type\": \"scatter\", \"uid\": \"cc428a9d-1857-4745-b930-3d72e19d5969\"}, {\"hoverinfo\": \"text\", \"marker\": {\"color\": \"blue\", \"size\": 0.5}, \"mode\": \"markers\", \"text\": \"Python appears with T-SQL 47 times\", \"x\": [0.6049031545326271], \"y\": [-0.6664024111874721], \"type\": \"scatter\", \"uid\": \"339a27ce-4f67-425b-abea-99847f064938\"}, {\"hoverinfo\": \"text\", \"marker\": {\"color\": \"green\", \"size\": 0.5}, \"mode\": \"markers\", \"text\": \"T-SQL appears with VBA 26 times\", \"x\": [-0.7745680242577291], \"y\": [0.45830598490253], \"type\": \"scatter\", \"uid\": \"0004721f-74f1-4ccc-848e-0a66b2cafeef\"}, {\"hoverinfo\": \"text\", \"marker\": {\"color\": \"blue\", \"size\": 0.5}, \"mode\": \"markers\", \"text\": \"VBA appears with T-SQL 26 times\", \"x\": [0.8236614178513584], \"y\": [-0.3627421518697407], \"type\": \"scatter\", \"uid\": \"9e244488-cffa-4d7b-9bf0-b86267b7317b\"}, {\"hoverinfo\": \"text\", \"marker\": {\"color\": \"green\", \"size\": 0.5}, \"mode\": \"markers\", \"text\": \"T-SQL appears with Linux 24 times\", \"x\": [-0.7718732256584262], \"y\": [0.46283012381613226], \"type\": \"scatter\", \"uid\": \"85f76146-f981-4b7f-959d-42d16c52d143\"}, {\"hoverinfo\": \"text\", \"marker\": {\"color\": \"blue\", \"size\": 0.5}, \"mode\": \"markers\", \"text\": \"Linux appears with T-SQL 24 times\", \"x\": [0.875209797493877], \"y\": [-0.2097803860486651], \"type\": \"scatter\", \"uid\": \"e36c9e90-cde8-4fb5-a591-2992ad2118a4\"}, {\"hoverinfo\": \"text\", \"marker\": {\"color\": \"green\", \"size\": 0.5}, \"mode\": \"markers\", \"text\": \"T-SQL appears with AWS 8 times\", \"x\": [-0.7639648934350043], \"y\": [0.475770576642611], \"type\": \"scatter\", \"uid\": \"5f80d08d-976b-4887-ac3f-3f19a9eeba1f\"}, {\"hoverinfo\": \"text\", \"marker\": {\"color\": \"blue\", \"size\": 0.5}, \"mode\": \"markers\", \"text\": \"AWS appears with T-SQL 8 times\", \"x\": [0.8951190192148799], \"y\": [-0.09360524258710862], \"type\": \"scatter\", \"uid\": \"06ec2b6f-bf93-4894-be09-3124fa8bdd2f\"}, {\"hoverinfo\": \"text\", \"marker\": {\"color\": \"green\", \"size\": 0.5}, \"mode\": \"markers\", \"text\": \"PL/SQL appears with Pentaho 8 times\", \"x\": [-0.8676912899514743], \"y\": [0.2389808053847564], \"type\": \"scatter\", \"uid\": \"18651a22-ca22-4936-a292-d575985a4220\"}, {\"hoverinfo\": \"text\", \"marker\": {\"color\": \"blue\", \"size\": 0.5}, \"mode\": \"markers\", \"text\": \"Pentaho appears with PL/SQL 8 times\", \"x\": [-0.8844718081643352], \"y\": [0.16646206944079275], \"type\": \"scatter\", \"uid\": \"6783efe2-ba43-48f9-8dff-9ddb92783c5c\"}, {\"hoverinfo\": \"text\", \"marker\": {\"color\": \"green\", \"size\": 0.5}, \"mode\": \"markers\", \"text\": \"PL/SQL appears with Hadoop 3 times\", \"x\": [-0.8669583224995172], \"y\": [0.2416262962693075], \"type\": \"scatter\", \"uid\": \"f26169e0-34a6-4a59-a5a8-a636f85b01c5\"}, {\"hoverinfo\": \"text\", \"marker\": {\"color\": \"blue\", \"size\": 0.5}, \"mode\": \"markers\", \"text\": \"Hadoop appears with PL/SQL 3 times\", \"x\": [-0.8988776329779756], \"y\": [0.0449332942472704], \"type\": \"scatter\", \"uid\": \"1a0e9308-c935-4367-8009-d284e247ca06\"}, {\"hoverinfo\": \"text\", \"marker\": {\"color\": \"green\", \"size\": 0.5}, \"mode\": \"markers\", \"text\": \"PL/SQL appears with Informatica 27 times\", \"x\": [-0.8708615658924501], \"y\": [0.22715662669477601], \"type\": \"scatter\", \"uid\": \"f0b59e42-7793-4091-847d-73d61275431d\"}, {\"hoverinfo\": \"text\", \"marker\": {\"color\": \"blue\", \"size\": 0.5}, \"mode\": \"markers\", \"text\": \"Informatica appears with PL/SQL 27 times\", \"x\": [-0.8522861242942031], \"y\": [-0.28915110640557146], \"type\": \"scatter\", \"uid\": \"a68e4a42-a6c2-4594-8987-6ec318e5b44e\"}, {\"hoverinfo\": \"text\", \"marker\": {\"color\": \"green\", \"size\": 0.5}, \"mode\": \"markers\", \"text\": \"PL/SQL appears with Qlik 15 times\", \"x\": [-0.8685329741896433], \"y\": [0.23590352423245514], \"type\": \"scatter\", \"uid\": \"22ab549b-ab3c-47ab-b852-3dabd9b7f99f\"}, {\"hoverinfo\": \"text\", \"marker\": {\"color\": \"blue\", \"size\": 0.5}, \"mode\": \"markers\", \"text\": \"Qlik appears with PL/SQL 15 times\", \"x\": [-0.793852473968569], \"y\": [-0.42402623689340563], \"type\": \"scatter\", \"uid\": \"9760b749-d3dc-4d22-af81-c8518a091400\"}, {\"hoverinfo\": \"text\", \"marker\": {\"color\": \"green\", \"size\": 0.5}, \"mode\": \"markers\", \"text\": \"PL/SQL appears with Tableau 18 times\", \"x\": [-0.8691715168129577], \"y\": [0.23353987745364255], \"type\": \"scatter\", \"uid\": \"1394c2c2-b7c5-44cc-8aa6-ba712355ee99\"}, {\"hoverinfo\": \"text\", \"marker\": {\"color\": \"blue\", \"size\": 0.5}, \"mode\": \"markers\", \"text\": \"Tableau appears with PL/SQL 18 times\", \"x\": [-0.5354269522991776], \"y\": [-0.7234072012024861], \"type\": \"scatter\", \"uid\": \"93be8d3a-1d21-45f8-bee4-1090c4ec9890\"}, {\"hoverinfo\": \"text\", \"marker\": {\"color\": \"green\", \"size\": 0.5}, \"mode\": \"markers\", \"text\": \"PL/SQL appears with Microstrategy 22 times\", \"x\": [-0.8699368835421915], \"y\": [0.23067253554096911], \"type\": \"scatter\", \"uid\": \"bace1bf6-2ba9-4871-afc0-51c90143bb8d\"}, {\"hoverinfo\": \"text\", \"marker\": {\"color\": \"blue\", \"size\": 0.5}, \"mode\": \"markers\", \"text\": \"Microstrategy appears with PL/SQL 22 times\", \"x\": [-0.059414878119246214], \"y\": [-0.8980366764548513], \"type\": \"scatter\", \"uid\": \"2d29a7d5-4af2-41b7-8d70-16b3e35c6936\"}, {\"hoverinfo\": \"text\", \"marker\": {\"color\": \"green\", \"size\": 0.5}, \"mode\": \"markers\", \"text\": \"PL/SQL appears with Oracle BI 78 times\", \"x\": [-0.876969020424225], \"y\": [0.20230011669837308], \"type\": \"scatter\", \"uid\": \"53c3c681-fb28-49fb-85dd-ac4157816fcc\"}, {\"hoverinfo\": \"text\", \"marker\": {\"color\": \"blue\", \"size\": 0.5}, \"mode\": \"markers\", \"text\": \"Oracle BI appears with PL/SQL 78 times\", \"x\": [0.09798955855957985], \"y\": [-0.8946496780378892], \"type\": \"scatter\", \"uid\": \"63de3723-9e0e-451b-87c7-4afdb62142e0\"}, {\"hoverinfo\": \"text\", \"marker\": {\"color\": \"green\", \"size\": 0.5}, \"mode\": \"markers\", \"text\": \"PL/SQL appears with Python 3 times\", \"x\": [-0.8668387026991441], \"y\": [0.2420550836129349], \"type\": \"scatter\", \"uid\": \"44e21c30-a2a8-4cef-a3ad-dbaf229a1ac9\"}, {\"hoverinfo\": \"text\", \"marker\": {\"color\": \"blue\", \"size\": 0.5}, \"mode\": \"markers\", \"text\": \"Python appears with PL/SQL 3 times\", \"x\": [0.5844523571280442], \"y\": [-0.6844088268334017], \"type\": \"scatter\", \"uid\": \"113c2932-4bac-4ba7-90e9-d9691a827caa\"}, {\"hoverinfo\": \"text\", \"marker\": {\"color\": \"green\", \"size\": 0.5}, \"mode\": \"markers\", \"text\": \"PL/SQL appears with VBA 6 times\", \"x\": [-0.8671373544989355], \"y\": [0.24098300444759074], \"type\": \"scatter\", \"uid\": \"a0a307aa-8598-4c03-9eaa-b8c65ced8180\"}, {\"hoverinfo\": \"text\", \"marker\": {\"color\": \"blue\", \"size\": 0.5}, \"mode\": \"markers\", \"text\": \"VBA appears with PL/SQL 6 times\", \"x\": [0.8207506103902981], \"y\": [-0.3692809710016931], \"type\": \"scatter\", \"uid\": \"66b505b6-4a95-425e-b274-af5ff540d16d\"}, {\"hoverinfo\": \"text\", \"marker\": {\"color\": \"green\", \"size\": 0.5}, \"mode\": \"markers\", \"text\": \"PL/SQL appears with Linux 1 times\", \"x\": [-0.866678879745494], \"y\": [0.24262670793442245], \"type\": \"scatter\", \"uid\": \"7b44d561-7bd0-48ea-be8e-54cf6e930f44\"}, {\"hoverinfo\": \"text\", \"marker\": {\"color\": \"blue\", \"size\": 0.5}, \"mode\": \"markers\", \"text\": \"Linux appears with PL/SQL 1 times\", \"x\": [0.8709912786127806], \"y\": [-0.2266587580052305], \"type\": \"scatter\", \"uid\": \"19928857-fc28-43c2-9d8c-dd1d28491a22\"}, {\"hoverinfo\": \"text\", \"marker\": {\"color\": \"green\", \"size\": 0.5}, \"mode\": \"markers\", \"text\": \"PL/SQL appears with AWS 2 times\", \"x\": [-0.8667388575306074], \"y\": [0.24241236116695325], \"type\": \"scatter\", \"uid\": \"3e5cedc0-afa3-457d-87a7-098fe19a74b1\"}, {\"hoverinfo\": \"text\", \"marker\": {\"color\": \"blue\", \"size\": 0.5}, \"mode\": \"markers\", \"text\": \"AWS appears with PL/SQL 2 times\", \"x\": [0.8947995500727648], \"y\": [-0.09661141335048268], \"type\": \"scatter\", \"uid\": \"113ad71a-7b22-42f1-8a6d-185f8ff35290\"}, {\"hoverinfo\": \"text\", \"marker\": {\"color\": \"green\", \"size\": 0.5}, \"mode\": \"markers\", \"text\": \"Pentaho appears with Spark 6 times\", \"x\": [-0.8842345310358773], \"y\": [0.1677179004273607], \"type\": \"scatter\", \"uid\": \"9ea8b477-b83f-43b3-b62e-6e0d3606aab2\"}, {\"hoverinfo\": \"text\", \"marker\": {\"color\": \"blue\", \"size\": 0.5}, \"mode\": \"markers\", \"text\": \"Spark appears with Pentaho 6 times\", \"x\": [-0.8932785875453052], \"y\": [-0.10978781823619845], \"type\": \"scatter\", \"uid\": \"bd5783e5-ec3d-4f6b-8aa3-d3eb6a4d6027\"}, {\"hoverinfo\": \"text\", \"marker\": {\"color\": \"green\", \"size\": 0.5}, \"mode\": \"markers\", \"text\": \"Pentaho appears with Informatica 32 times\", \"x\": [-0.8867776047009847], \"y\": [0.15370582227353732], \"type\": \"scatter\", \"uid\": \"ce494d91-b9aa-4cd6-bfe7-edd8c9cb8cd9\"}, {\"hoverinfo\": \"text\", \"marker\": {\"color\": \"blue\", \"size\": 0.5}, \"mode\": \"markers\", \"text\": \"Informatica appears with Pentaho 32 times\", \"x\": [-0.8504103197109569], \"y\": [-0.2946222804356591], \"type\": \"scatter\", \"uid\": \"5af8aa38-2faf-4303-86f3-249bcab60786\"}, {\"hoverinfo\": \"text\", \"marker\": {\"color\": \"green\", \"size\": 0.5}, \"mode\": \"markers\", \"text\": \"Pentaho appears with Qlik 30 times\", \"x\": [-0.8857934474731038], \"y\": [0.15927952917344307], \"type\": \"scatter\", \"uid\": \"9a80a616-a76b-49b4-a95b-097b42469c6d\"}, {\"hoverinfo\": \"text\", \"marker\": {\"color\": \"blue\", \"size\": 0.5}, \"mode\": \"markers\", \"text\": \"Qlik appears with Pentaho 30 times\", \"x\": [-0.7850331229894748], \"y\": [-0.4401397457733079], \"type\": \"scatter\", \"uid\": \"6c4f7de0-fbf5-4cbd-8fff-ebb48a33c6bc\"}, {\"hoverinfo\": \"text\", \"marker\": {\"color\": \"green\", \"size\": 0.5}, \"mode\": \"markers\", \"text\": \"Pentaho appears with Tableau 37 times\", \"x\": [-0.8906146437673679], \"y\": [0.12963624611629393], \"type\": \"scatter\", \"uid\": \"29e7dbf8-cefa-4366-b312-362cee9a52f1\"}, {\"hoverinfo\": \"text\", \"marker\": {\"color\": \"blue\", \"size\": 0.5}, \"mode\": \"markers\", \"text\": \"Tableau appears with Pentaho 37 times\", \"x\": [-0.511885909340684], \"y\": [-0.740251859719691], \"type\": \"scatter\", \"uid\": \"a4624131-6720-4d51-a6bd-0dd015b67c73\"}, {\"hoverinfo\": \"text\", \"marker\": {\"color\": \"green\", \"size\": 0.5}, \"mode\": \"markers\", \"text\": \"Pentaho appears with Microstrategy 3 times\", \"x\": [-0.8840810541174624], \"y\": [0.16852504190937453], \"type\": \"scatter\", \"uid\": \"a65add67-3d48-46d7-ae3f-a2a678641542\"}, {\"hoverinfo\": \"text\", \"marker\": {\"color\": \"blue\", \"size\": 0.5}, \"mode\": \"markers\", \"text\": \"Microstrategy appears with Pentaho 3 times\", \"x\": [-0.0724588957665327], \"y\": [-0.8970784293607191], \"type\": \"scatter\", \"uid\": \"cb9def1f-db6d-45db-96ab-f4012bb7cf4d\"}, {\"hoverinfo\": \"text\", \"marker\": {\"color\": \"green\", \"size\": 0.5}, \"mode\": \"markers\", \"text\": \"Pentaho appears with Oracle BI 38 times\", \"x\": [-0.8924721065751718], \"y\": [0.1161616932782714], \"type\": \"scatter\", \"uid\": \"1f02a888-80d6-4420-831b-0759f7711fb3\"}, {\"hoverinfo\": \"text\", \"marker\": {\"color\": \"blue\", \"size\": 0.5}, \"mode\": \"markers\", \"text\": \"Oracle BI appears with Pentaho 38 times\", \"x\": [0.022643609493310613], \"y\": [-0.8997151032127417], \"type\": \"scatter\", \"uid\": \"438728c0-ccaa-4c54-8dee-cef88e8bb954\"}, {\"hoverinfo\": \"text\", \"marker\": {\"color\": \"green\", \"size\": 0.5}, \"mode\": \"markers\", \"text\": \"Pentaho appears with Python 34 times\", \"x\": [-0.8896579534336837], \"y\": [0.13604677832344808], \"type\": \"scatter\", \"uid\": \"b4735c7b-b1e5-4312-b3fc-1a08385d0f93\"}, {\"hoverinfo\": \"text\", \"marker\": {\"color\": \"blue\", \"size\": 0.5}, \"mode\": \"markers\", \"text\": \"Python appears with Pentaho 34 times\", \"x\": [0.5982837329503065], \"y\": [-0.672351526277026], \"type\": \"scatter\", \"uid\": \"1870a00a-5b92-41f5-a0ec-41892bfe9f42\"}, {\"hoverinfo\": \"text\", \"marker\": {\"color\": \"green\", \"size\": 0.5}, \"mode\": \"markers\", \"text\": \"Pentaho appears with VBA 1 times\", \"x\": [-0.8840126056521118], \"y\": [0.1688837264160283], \"type\": \"scatter\", \"uid\": \"a197962a-8b48-47e7-af5c-c5f46dc64972\"}, {\"hoverinfo\": \"text\", \"marker\": {\"color\": \"blue\", \"size\": 0.5}, \"mode\": \"markers\", \"text\": \"VBA appears with Pentaho 1 times\", \"x\": [0.8193557838940358], \"y\": [-0.37236554539778527], \"type\": \"scatter\", \"uid\": \"5afb3b2a-8c69-436a-b745-85cd8acbe0e9\"}, {\"hoverinfo\": \"text\", \"marker\": {\"color\": \"green\", \"size\": 0.5}, \"mode\": \"markers\", \"text\": \"Pentaho appears with Linux 33 times\", \"x\": [-0.8887128447324927], \"y\": [0.1420896886036435], \"type\": \"scatter\", \"uid\": \"39430ded-4407-40e6-90d9-c827d3bad7d6\"}, {\"hoverinfo\": \"text\", \"marker\": {\"color\": \"blue\", \"size\": 0.5}, \"mode\": \"markers\", \"text\": \"Linux appears with Pentaho 33 times\", \"x\": [0.8764306893156729], \"y\": [-0.20461976157168785], \"type\": \"scatter\", \"uid\": \"3654efc3-77d9-45f8-b815-58008d7fbee9\"}, {\"hoverinfo\": \"text\", \"marker\": {\"color\": \"green\", \"size\": 0.5}, \"mode\": \"markers\", \"text\": \"Pentaho appears with AWS 13 times\", \"x\": [-0.8850903106725865], \"y\": [0.16314147833553655], \"type\": \"scatter\", \"uid\": \"791992ed-27ae-4106-8d57-73612f5daee9\"}, {\"hoverinfo\": \"text\", \"marker\": {\"color\": \"blue\", \"size\": 0.5}, \"mode\": \"markers\", \"text\": \"AWS appears with Pentaho 13 times\", \"x\": [0.8954537136589323], \"y\": [-0.0903473668372618], \"type\": \"scatter\", \"uid\": \"f003d094-35f3-419f-a9af-76325da22729\"}, {\"hoverinfo\": \"text\", \"marker\": {\"color\": \"green\", \"size\": 0.5}, \"mode\": \"markers\", \"text\": \"Hadoop appears with Spark 120 times\", \"x\": [-0.8989865428385136], \"y\": [-0.04269889688572049], \"type\": \"scatter\", \"uid\": \"849de8a3-a3d2-43f7-bdb9-4adbd13bf3ec\"}, {\"hoverinfo\": \"text\", \"marker\": {\"color\": \"blue\", \"size\": 0.5}, \"mode\": \"markers\", \"text\": \"Spark appears with Hadoop 120 times\", \"x\": [-0.877373348426158], \"y\": [-0.20053929159013087], \"type\": \"scatter\", \"uid\": \"bf6abb06-3ddf-4750-ab9d-469cef425fec\"}, {\"hoverinfo\": \"text\", \"marker\": {\"color\": \"green\", \"size\": 0.5}, \"mode\": \"markers\", \"text\": \"Hadoop appears with Informatica 5 times\", \"x\": [-0.8989628147674987], \"y\": [0.043195574603143695], \"type\": \"scatter\", \"uid\": \"e1ff9d37-e2f8-473b-bdf2-035297074d68\"}, {\"hoverinfo\": \"text\", \"marker\": {\"color\": \"blue\", \"size\": 0.5}, \"mode\": \"markers\", \"text\": \"Informatica appears with Hadoop 5 times\", \"x\": [-0.8597270792612245], \"y\": [-0.2662129771160008], \"type\": \"scatter\", \"uid\": \"4db5d64d-0e36-466a-b637-be7b2c4bf910\"}, {\"hoverinfo\": \"text\", \"marker\": {\"color\": \"green\", \"size\": 0.5}, \"mode\": \"markers\", \"text\": \"Hadoop appears with Qlik 9 times\", \"x\": [-0.8990886423848237], \"y\": [0.040492136701028365], \"type\": \"scatter\", \"uid\": \"d6b50756-dbc9-44bd-8f8a-a5a64b9782ec\"}, {\"hoverinfo\": \"text\", \"marker\": {\"color\": \"blue\", \"size\": 0.5}, \"mode\": \"markers\", \"text\": \"Qlik appears with Hadoop 9 times\", \"x\": [-0.7965312698872001], \"y\": [-0.41897247653262915], \"type\": \"scatter\", \"uid\": \"35a6bb38-7008-4fc3-b5cc-142386d66219\"}, {\"hoverinfo\": \"text\", \"marker\": {\"color\": \"green\", \"size\": 0.5}, \"mode\": \"markers\", \"text\": \"Hadoop appears with Tableau 36 times\", \"x\": [-0.8999348108670782], \"y\": [0.010832183050346698], \"type\": \"scatter\", \"uid\": \"2e673a3d-17d5-4491-8893-b4ca1f620809\"}, {\"hoverinfo\": \"text\", \"marker\": {\"color\": \"blue\", \"size\": 0.5}, \"mode\": \"markers\", \"text\": \"Tableau appears with Hadoop 36 times\", \"x\": [-0.5185756848837887], \"y\": [-0.7355808990500702], \"type\": \"scatter\", \"uid\": \"f1a65450-9bce-479c-96df-b3d75a026e54\"}, {\"hoverinfo\": \"text\", \"marker\": {\"color\": \"green\", \"size\": 0.5}, \"mode\": \"markers\", \"text\": \"Hadoop appears with Microstrategy 3 times\", \"x\": [-0.8988189789557218], \"y\": [0.04609168112570581], \"type\": \"scatter\", \"uid\": \"83a556c1-eb7e-4a9a-81e5-0490be899f9d\"}, {\"hoverinfo\": \"text\", \"marker\": {\"color\": \"blue\", \"size\": 0.5}, \"mode\": \"markers\", \"text\": \"Microstrategy appears with Hadoop 3 times\", \"x\": [-0.07201190992675267], \"y\": [-0.8971144212577911], \"type\": \"scatter\", \"uid\": \"6754ecf7-d84a-4a83-b681-14c815026737\"}, {\"hoverinfo\": \"text\", \"marker\": {\"color\": \"green\", \"size\": 0.5}, \"mode\": \"markers\", \"text\": \"Hadoop appears with Oracle BI 34 times\", \"x\": [-0.8998279486917975], \"y\": [0.017597237087449084], \"type\": \"scatter\", \"uid\": \"91149f86-6a9e-4a4b-b749-c36919f90e7e\"}, {\"hoverinfo\": \"text\", \"marker\": {\"color\": \"blue\", \"size\": 0.5}, \"mode\": \"markers\", \"text\": \"Oracle BI appears with Hadoop 34 times\", \"x\": [0.01450352950680628], \"y\": [-0.899883129985136], \"type\": \"scatter\", \"uid\": \"50f98a38-ac03-489b-8373-07a88c0fbd9f\"}, {\"hoverinfo\": \"text\", \"marker\": {\"color\": \"green\", \"size\": 0.5}, \"mode\": \"markers\", \"text\": \"Hadoop appears with Python 130 times\", \"x\": [-0.8975162607115547], \"y\": [-0.06681737617078845], \"type\": \"scatter\", \"uid\": \"d5de0074-a9a0-4abb-a4a0-1a41a0eb24b6\"}, {\"hoverinfo\": \"text\", \"marker\": {\"color\": \"blue\", \"size\": 0.5}, \"mode\": \"markers\", \"text\": \"Python appears with Hadoop 130 times\", \"x\": [0.7123332501951906], \"y\": [-0.5500739410900648], \"type\": \"scatter\", \"uid\": \"84fcce38-b464-47f0-a369-7730bbb5a152\"}, {\"hoverinfo\": \"text\", \"marker\": {\"color\": \"green\", \"size\": 0.5}, \"mode\": \"markers\", \"text\": \"Hadoop appears with VBA 7 times\", \"x\": [-0.8990177363270636], \"y\": [0.04203700476202369], \"type\": \"scatter\", \"uid\": \"7b57de07-93be-41cc-b32a-5bd34e02e52f\"}, {\"hoverinfo\": \"text\", \"marker\": {\"color\": \"blue\", \"size\": 0.5}, \"mode\": \"markers\", \"text\": \"VBA appears with Hadoop 7 times\", \"x\": [0.8223697796979047], \"y\": [-0.36566097062664454], \"type\": \"scatter\", \"uid\": \"8ccbae7a-e228-4b9e-88df-4e7fb9cab6c1\"}, {\"hoverinfo\": \"text\", \"marker\": {\"color\": \"green\", \"size\": 0.5}, \"mode\": \"markers\", \"text\": \"Hadoop appears with Linux 81 times\", \"x\": [-0.8996987453134824], \"y\": [-0.023284494440413455], \"type\": \"scatter\", \"uid\": \"bb99c5cc-e427-4036-b213-2d290f5c98a7\"}, {\"hoverinfo\": \"text\", \"marker\": {\"color\": \"blue\", \"size\": 0.5}, \"mode\": \"markers\", \"text\": \"Linux appears with Hadoop 81 times\", \"x\": [0.8876446953379431], \"y\": [-0.14861660350852487], \"type\": \"scatter\", \"uid\": \"1d27e7c1-4520-483a-99be-444983a1c061\"}, {\"hoverinfo\": \"text\", \"marker\": {\"color\": \"green\", \"size\": 0.5}, \"mode\": \"markers\", \"text\": \"Hadoop appears with AWS 44 times\", \"x\": [-0.8999946612144385], \"y\": [0.0030999654043463772], \"type\": \"scatter\", \"uid\": \"9f4ac415-750b-4c3a-ba35-888fb828718d\"}, {\"hoverinfo\": \"text\", \"marker\": {\"color\": \"blue\", \"size\": 0.5}, \"mode\": \"markers\", \"text\": \"AWS appears with Hadoop 44 times\", \"x\": [0.8979090831321849], \"y\": [-0.06131295481967302], \"type\": \"scatter\", \"uid\": \"30ad95c9-a399-4bff-b820-6fa4e41c8c58\"}, {\"hoverinfo\": \"text\", \"marker\": {\"color\": \"green\", \"size\": 0.5}, \"mode\": \"markers\", \"text\": \"Spark appears with Informatica 10 times\", \"x\": [-0.8929165229442543], \"y\": [-0.11269464518397994], \"type\": \"scatter\", \"uid\": \"b2dbff2e-7c3d-40ed-ba6e-1131d9ed3f31\"}, {\"hoverinfo\": \"text\", \"marker\": {\"color\": \"blue\", \"size\": 0.5}, \"mode\": \"markers\", \"text\": \"Informatica appears with Spark 10 times\", \"x\": [-0.8583529730687046], \"y\": [-0.2706107418860449], \"type\": \"scatter\", \"uid\": \"b675a8bb-89bd-4c47-8175-d7b1ec6da735\"}, {\"hoverinfo\": \"text\", \"marker\": {\"color\": \"green\", \"size\": 0.5}, \"mode\": \"markers\", \"text\": \"Spark appears with Qlik 15 times\", \"x\": [-0.8926075765687709], \"y\": [-0.11511609032635692], \"type\": \"scatter\", \"uid\": \"a427d74a-1cdb-471a-8ea7-4fe5dc16710c\"}, {\"hoverinfo\": \"text\", \"marker\": {\"color\": \"blue\", \"size\": 0.5}, \"mode\": \"markers\", \"text\": \"Qlik appears with Spark 15 times\", \"x\": [-0.7922924223592751], \"y\": [-0.4269340903138002], \"type\": \"scatter\", \"uid\": \"b19f358c-1a1a-47c7-946e-9c7e8f2b9e03\"}, {\"hoverinfo\": \"text\", \"marker\": {\"color\": \"green\", \"size\": 0.5}, \"mode\": \"markers\", \"text\": \"Spark appears with Tableau 34 times\", \"x\": [-0.8885600681855357], \"y\": [-0.14304197015602216], \"type\": \"scatter\", \"uid\": \"35ce640d-72f7-488a-911a-0a04200ac8af\"}, {\"hoverinfo\": \"text\", \"marker\": {\"color\": \"blue\", \"size\": 0.5}, \"mode\": \"markers\", \"text\": \"Tableau appears with Spark 34 times\", \"x\": [-0.5249505165866921], \"y\": [-0.7310451115597212], \"type\": \"scatter\", \"uid\": \"29068188-f7c0-48f0-9c40-1935204cb4c4\"}, {\"hoverinfo\": \"text\", \"marker\": {\"color\": \"green\", \"size\": 0.5}, \"mode\": \"markers\", \"text\": \"Spark appears with Microstrategy 3 times\", \"x\": [-0.8935264025377989], \"y\": [-0.10775234553298343], \"type\": \"scatter\", \"uid\": \"6c699c32-0020-4886-9d18-4836c6cd9385\"}, {\"hoverinfo\": \"text\", \"marker\": {\"color\": \"blue\", \"size\": 0.5}, \"mode\": \"markers\", \"text\": \"Microstrategy appears with Spark 3 times\", \"x\": [-0.0729058636175637], \"y\": [-0.8970422147536744], \"type\": \"scatter\", \"uid\": \"7bda0681-a577-47c3-a2a3-a25a65c304aa\"}, {\"hoverinfo\": \"text\", \"marker\": {\"color\": \"green\", \"size\": 0.5}, \"mode\": \"markers\", \"text\": \"Spark appears with Oracle BI 30 times\", \"x\": [-0.8895318528750982], \"y\": [-0.13686885226593687], \"type\": \"scatter\", \"uid\": \"1082b770-d2c1-45e9-8777-c6dfeab5625b\"}, {\"hoverinfo\": \"text\", \"marker\": {\"color\": \"blue\", \"size\": 0.5}, \"mode\": \"markers\", \"text\": \"Oracle BI appears with Spark 30 times\", \"x\": [0.007266885687865314], \"y\": [-0.8999706619509324], \"type\": \"scatter\", \"uid\": \"62a4cb0b-8d89-48d7-9359-f2c32ebd582f\"}, {\"hoverinfo\": \"text\", \"marker\": {\"color\": \"green\", \"size\": 0.5}, \"mode\": \"markers\", \"text\": \"Spark appears with Python 138 times\", \"x\": [-0.8714171002407387], \"y\": [-0.22501608255416392], \"type\": \"scatter\", \"uid\": \"ea63c4e9-a77a-4525-8753-d8a7a3883d26\"}, {\"hoverinfo\": \"text\", \"marker\": {\"color\": \"blue\", \"size\": 0.5}, \"mode\": \"markers\", \"text\": \"Python appears with Spark 138 times\", \"x\": [0.7299464754616263], \"y\": [-0.5264771058281164], \"type\": \"scatter\", \"uid\": \"a21e3006-9da2-42de-b74b-b41918948fb8\"}, {\"hoverinfo\": \"text\", \"marker\": {\"color\": \"green\", \"size\": 0.5}, \"mode\": \"markers\", \"text\": \"Spark appears with VBA 7 times\", \"x\": [-0.8931228545015487], \"y\": [-0.11104758784865776], \"type\": \"scatter\", \"uid\": \"e1982046-b855-4bdf-af8a-82de8d2f7ddc\"}, {\"hoverinfo\": \"text\", \"marker\": {\"color\": \"blue\", \"size\": 0.5}, \"mode\": \"markers\", \"text\": \"VBA appears with Spark 7 times\", \"x\": [0.8218186861801808], \"y\": [-0.3668978700470766], \"type\": \"scatter\", \"uid\": \"19ff4eab-9c55-444d-90e5-34eb68b9e639\"}, {\"hoverinfo\": \"text\", \"marker\": {\"color\": \"green\", \"size\": 0.5}, \"mode\": \"markers\", \"text\": \"Spark appears with Linux 62 times\", \"x\": [-0.8840991823269042], \"y\": [-0.16842991364036075], \"type\": \"scatter\", \"uid\": \"db9ed089-ff33-47bc-933b-f6998048c36c\"}, {\"hoverinfo\": \"text\", \"marker\": {\"color\": \"blue\", \"size\": 0.5}, \"mode\": \"markers\", \"text\": \"Linux appears with Spark 62 times\", \"x\": [0.8829898323088183], \"y\": [-0.17415210604309342], \"type\": \"scatter\", \"uid\": \"9c187a52-e08e-49ae-a429-fbc73f241d57\"}, {\"hoverinfo\": \"text\", \"marker\": {\"color\": \"green\", \"size\": 0.5}, \"mode\": \"markers\", \"text\": \"Spark appears with AWS 45 times\", \"x\": [-0.8859948150177097], \"y\": [-0.15815558087444928], \"type\": \"scatter\", \"uid\": \"78a46261-4c21-46a7-a7db-ddb7b831b01d\"}, {\"hoverinfo\": \"text\", \"marker\": {\"color\": \"blue\", \"size\": 0.5}, \"mode\": \"markers\", \"text\": \"AWS appears with Spark 45 times\", \"x\": [0.8983872723664065], \"y\": [-0.05385451559570673], \"type\": \"scatter\", \"uid\": \"ce115422-7fa2-4d32-86f9-0fd4ebd3103d\"}, {\"hoverinfo\": \"text\", \"marker\": {\"color\": \"green\", \"size\": 0.5}, \"mode\": \"markers\", \"text\": \"Informatica appears with Qlik 92 times\", \"x\": [-0.8328891079020739], \"y\": [-0.34102160333047454], \"type\": \"scatter\", \"uid\": \"8e063d48-feee-42d8-9006-f14957ffc80d\"}, {\"hoverinfo\": \"text\", \"marker\": {\"color\": \"blue\", \"size\": 0.5}, \"mode\": \"markers\", \"text\": \"Qlik appears with Informatica 92 times\", \"x\": [-0.7449230648277959], \"y\": [-0.5050639835580869], \"type\": \"scatter\", \"uid\": \"986ea9c8-d847-4439-9bcc-f1d173191338\"}, {\"hoverinfo\": \"text\", \"marker\": {\"color\": \"green\", \"size\": 0.5}, \"mode\": \"markers\", \"text\": \"Informatica appears with Tableau 67 times\", \"x\": [-0.8386699805007249], \"y\": [-0.32654657218674604], \"type\": \"scatter\", \"uid\": \"a4f98a16-ef12-4b42-8a1f-f3b3498dafa1\"}, {\"hoverinfo\": \"text\", \"marker\": {\"color\": \"blue\", \"size\": 0.5}, \"mode\": \"markers\", \"text\": \"Tableau appears with Informatica 67 times\", \"x\": [-0.47354742505883873], \"y\": [-0.765344913238563], \"type\": \"scatter\", \"uid\": \"c2e38a67-c659-40dc-8b8e-27150cdd725a\"}, {\"hoverinfo\": \"text\", \"marker\": {\"color\": \"green\", \"size\": 0.5}, \"mode\": \"markers\", \"text\": \"Informatica appears with Microstrategy 13 times\", \"x\": [-0.8562345480040405], \"y\": [-0.27724068749791486], \"type\": \"scatter\", \"uid\": \"d13d5ab8-c376-48ab-9c13-3a4c5abacca4\"}, {\"hoverinfo\": \"text\", \"marker\": {\"color\": \"blue\", \"size\": 0.5}, \"mode\": \"markers\", \"text\": \"Microstrategy appears with Informatica 13 times\", \"x\": [-0.06724297082537581], \"y\": [-0.8974844750047645], \"type\": \"scatter\", \"uid\": \"0c2d55fe-6e09-4d38-8c1d-b5a83d86f049\"}, {\"hoverinfo\": \"text\", \"marker\": {\"color\": \"green\", \"size\": 0.5}, \"mode\": \"markers\", \"text\": \"Informatica appears with Oracle BI 124 times\", \"x\": [-0.8154292874166449], \"y\": [-0.38088722375945183], \"type\": \"scatter\", \"uid\": \"3b11ee26-64fb-40d2-b81d-4af205e27064\"}, {\"hoverinfo\": \"text\", \"marker\": {\"color\": \"blue\", \"size\": 0.5}, \"mode\": \"markers\", \"text\": \"Oracle BI appears with Informatica 124 times\", \"x\": [0.12066215763986181], \"y\": [-0.8918747915002941], \"type\": \"scatter\", \"uid\": \"897194ee-4598-4e45-a73d-22489e188e58\"}, {\"hoverinfo\": \"text\", \"marker\": {\"color\": \"green\", \"size\": 0.5}, \"mode\": \"markers\", \"text\": \"Informatica appears with Python 25 times\", \"x\": [-0.8539101959761355], \"y\": [-0.2843191467488568], \"type\": \"scatter\", \"uid\": \"82c85979-7f5d-45e8-ac76-7ef8ecc9db55\"}, {\"hoverinfo\": \"text\", \"marker\": {\"color\": \"blue\", \"size\": 0.5}, \"mode\": \"markers\", \"text\": \"Python appears with Informatica 25 times\", \"x\": [0.5934253140992161], \"y\": [-0.6766434781967877], \"type\": \"scatter\", \"uid\": \"756e5b50-2ff6-4275-aea4-a3678c74e038\"}, {\"hoverinfo\": \"text\", \"marker\": {\"color\": \"green\", \"size\": 0.5}, \"mode\": \"markers\", \"text\": \"Informatica appears with VBA 3 times\", \"x\": [-0.8599587266650182], \"y\": [-0.2654637233835927], \"type\": \"scatter\", \"uid\": \"fe8d9da0-7ccc-436c-82b6-f9f1876dccdb\"}, {\"hoverinfo\": \"text\", \"marker\": {\"color\": \"blue\", \"size\": 0.5}, \"mode\": \"markers\", \"text\": \"VBA appears with Informatica 3 times\", \"x\": [0.8195957208617393], \"y\": [-0.37183713416646014], \"type\": \"scatter\", \"uid\": \"ae2d6a8a-7d00-48da-a505-2e4ac6159159\"}, {\"hoverinfo\": \"text\", \"marker\": {\"color\": \"green\", \"size\": 0.5}, \"mode\": \"markers\", \"text\": \"Informatica appears with Linux 8 times\", \"x\": [-0.8588818864179237], \"y\": [-0.268927323236574], \"type\": \"scatter\", \"uid\": \"c2eeb076-8be3-4247-a229-edfa8d9776b5\"}, {\"hoverinfo\": \"text\", \"marker\": {\"color\": \"blue\", \"size\": 0.5}, \"mode\": \"markers\", \"text\": \"Linux appears with Informatica 8 times\", \"x\": [0.8719901868703002], \"y\": [-0.22278490523798716], \"type\": \"scatter\", \"uid\": \"0bbb6117-b2fa-4f33-9b0d-f206354cf48e\"}, {\"hoverinfo\": \"text\", \"marker\": {\"color\": \"green\", \"size\": 0.5}, \"mode\": \"markers\", \"text\": \"Informatica appears with AWS 19 times\", \"x\": [-0.8552630159497592], \"y\": [-0.2802234350451832], \"type\": \"scatter\", \"uid\": \"41a51a79-6c4c-438f-98af-7a4741437275\"}, {\"hoverinfo\": \"text\", \"marker\": {\"color\": \"blue\", \"size\": 0.5}, \"mode\": \"markers\", \"text\": \"AWS appears with Informatica 19 times\", \"x\": [0.8957194789688773], \"y\": [-0.08767334256045552], \"type\": \"scatter\", \"uid\": \"fb0b5f8b-e98a-4397-afd8-8b73e2d164e1\"}, {\"hoverinfo\": \"text\", \"marker\": {\"color\": \"green\", \"size\": 0.5}, \"mode\": \"markers\", \"text\": \"Qlik appears with Tableau 326 times\", \"x\": [-0.6507879752144309], \"y\": [-0.6216711440273718], \"type\": \"scatter\", \"uid\": \"f23ba8eb-1ed2-45ca-bd4a-15dd93822e64\"}, {\"hoverinfo\": \"text\", \"marker\": {\"color\": \"blue\", \"size\": 0.5}, \"mode\": \"markers\", \"text\": \"Tableau appears with Qlik 326 times\", \"x\": [-0.3086441434597345], \"y\": [-0.8454222570455588], \"type\": \"scatter\", \"uid\": \"390f7548-37ee-4ba4-97e2-56bf7b80c39d\"}, {\"hoverinfo\": \"text\", \"marker\": {\"color\": \"green\", \"size\": 0.5}, \"mode\": \"markers\", \"text\": \"Qlik appears with Microstrategy 32 times\", \"x\": [-0.7816754299559685], \"y\": [-0.44607569111435763], \"type\": \"scatter\", \"uid\": \"058b5123-3273-4494-a6cb-ee54c9bc0349\"}, {\"hoverinfo\": \"text\", \"marker\": {\"color\": \"blue\", \"size\": 0.5}, \"mode\": \"markers\", \"text\": \"Microstrategy appears with Qlik 32 times\", \"x\": [-0.04822419999088639], \"y\": [-0.8987070860604355], \"type\": \"scatter\", \"uid\": \"1aa6154d-a657-4de4-8e3b-599449b3f01f\"}, {\"hoverinfo\": \"text\", \"marker\": {\"color\": \"green\", \"size\": 0.5}, \"mode\": \"markers\", \"text\": \"Qlik appears with Oracle BI 316 times\", \"x\": [-0.6975147064916786], \"y\": [-0.5687470740389154], \"type\": \"scatter\", \"uid\": \"b9021f07-0deb-450e-8e9c-dbd152f1b010\"}, {\"hoverinfo\": \"text\", \"marker\": {\"color\": \"blue\", \"size\": 0.5}, \"mode\": \"markers\", \"text\": \"Oracle BI appears with Qlik 316 times\", \"x\": [0.34867468314478023], \"y\": [-0.8297143878069653], \"type\": \"scatter\", \"uid\": \"f0395efb-046c-40ec-84d4-12021ab19292\"}, {\"hoverinfo\": \"text\", \"marker\": {\"color\": \"green\", \"size\": 0.5}, \"mode\": \"markers\", \"text\": \"Qlik appears with Python 48 times\", \"x\": [-0.7772766300752219], \"y\": [-0.4536970799320916], \"type\": \"scatter\", \"uid\": \"abb43519-8b7e-4922-892a-2eb4f5b82c10\"}, {\"hoverinfo\": \"text\", \"marker\": {\"color\": \"blue\", \"size\": 0.5}, \"mode\": \"markers\", \"text\": \"Python appears with Qlik 48 times\", \"x\": [0.6125912544924552], \"y\": [-0.659342062149352], \"type\": \"scatter\", \"uid\": \"d453a47f-7b39-4b5a-a663-7f184793ab96\"}, {\"hoverinfo\": \"text\", \"marker\": {\"color\": \"green\", \"size\": 0.5}, \"mode\": \"markers\", \"text\": \"Qlik appears with VBA 29 times\", \"x\": [-0.7881864927673], \"y\": [-0.4344675507091214], \"type\": \"scatter\", \"uid\": \"38c56806-e5ea-4361-9d58-f60f9ed7afaa\"}, {\"hoverinfo\": \"text\", \"marker\": {\"color\": \"blue\", \"size\": 0.5}, \"mode\": \"markers\", \"text\": \"VBA appears with Qlik 29 times\", \"x\": [0.8257911186779818], \"y\": [-0.35786733339684323], \"type\": \"scatter\", \"uid\": \"8d621d9b-e148-4e8c-bf83-79e687e26038\"}, {\"hoverinfo\": \"text\", \"marker\": {\"color\": \"green\", \"size\": 0.5}, \"mode\": \"markers\", \"text\": \"Qlik appears with Linux 2 times\", \"x\": [-0.7974000570912525], \"y\": [-0.41731660517030394], \"type\": \"scatter\", \"uid\": \"b18fd67e-966a-484d-ac59-809c153c6d49\"}, {\"hoverinfo\": \"text\", \"marker\": {\"color\": \"blue\", \"size\": 0.5}, \"mode\": \"markers\", \"text\": \"Linux appears with Qlik 2 times\", \"x\": [0.871061528569905], \"y\": [-0.22638863364899872], \"type\": \"scatter\", \"uid\": \"ca5a6344-1d38-4fb1-ba13-650719583376\"}, {\"hoverinfo\": \"text\", \"marker\": {\"color\": \"green\", \"size\": 0.5}, \"mode\": \"markers\", \"text\": \"Qlik appears with AWS 3 times\", \"x\": [-0.7971448886083827], \"y\": [-0.417803813488495], \"type\": \"scatter\", \"uid\": \"7f5105d8-c8d8-4994-80f1-43e17b1d30f8\"}, {\"hoverinfo\": \"text\", \"marker\": {\"color\": \"blue\", \"size\": 0.5}, \"mode\": \"markers\", \"text\": \"AWS appears with Qlik 3 times\", \"x\": [0.8948445245988862], \"y\": [-0.09619395404802378], \"type\": \"scatter\", \"uid\": \"6654b176-5f33-4847-8c8a-e02e421e1f27\"}, {\"hoverinfo\": \"text\", \"marker\": {\"color\": \"green\", \"size\": 0.5}, \"mode\": \"markers\", \"text\": \"Tableau appears with Microstrategy 46 times\", \"x\": [-0.4958650789571916], \"y\": [-0.7510777745818193], \"type\": \"scatter\", \"uid\": \"965bcfcf-0090-4e4d-a1e9-d48df21c0419\"}, {\"hoverinfo\": \"text\", \"marker\": {\"color\": \"blue\", \"size\": 0.5}, \"mode\": \"markers\", \"text\": \"Microstrategy appears with Tableau 46 times\", \"x\": [-0.037026039328617685], \"y\": [-0.8992380510252198], \"type\": \"scatter\", \"uid\": \"21672c68-df96-401c-8265-92be2b4a1ec4\"}, {\"hoverinfo\": \"text\", \"marker\": {\"color\": \"green\", \"size\": 0.5}, \"mode\": \"markers\", \"text\": \"Tableau appears with Oracle BI 384 times\", \"x\": [-0.23299805401034165], \"y\": [-0.869316919671643], \"type\": \"scatter\", \"uid\": \"3a7135e3-cd72-49ec-bf63-666b5047e38e\"}, {\"hoverinfo\": \"text\", \"marker\": {\"color\": \"blue\", \"size\": 0.5}, \"mode\": \"markers\", \"text\": \"Oracle BI appears with Tableau 384 times\", \"x\": [0.4202079442751344], \"y\": [-0.7958801942303035], \"type\": \"scatter\", \"uid\": \"7b1f2fb8-e5d7-42dd-896a-24bca79a8153\"}, {\"hoverinfo\": \"text\", \"marker\": {\"color\": \"green\", \"size\": 0.5}, \"mode\": \"markers\", \"text\": \"Tableau appears with Python 122 times\", \"x\": [-0.41813129832160534], \"y\": [-0.7969731597512483], \"type\": \"scatter\", \"uid\": \"84b735a3-f4ac-4fcb-a01e-693882b786e5\"}, {\"hoverinfo\": \"text\", \"marker\": {\"color\": \"blue\", \"size\": 0.5}, \"mode\": \"markers\", \"text\": \"Python appears with Tableau 122 times\", \"x\": [0.6950756392252985], \"y\": [-0.5717253324416742], \"type\": \"scatter\", \"uid\": \"87c99d85-fb0c-48cc-99ce-8fec7ea9fea1\"}, {\"hoverinfo\": \"text\", \"marker\": {\"color\": \"green\", \"size\": 0.5}, \"mode\": \"markers\", \"text\": \"Tableau appears with VBA 62 times\", \"x\": [-0.4857471227210572], \"y\": [-0.7576606976531212], \"type\": \"scatter\", \"uid\": \"acd8fb66-a033-412c-986f-aa23cb2589a6\"}, {\"hoverinfo\": \"text\", \"marker\": {\"color\": \"blue\", \"size\": 0.5}, \"mode\": \"markers\", \"text\": \"VBA appears with Tableau 62 times\", \"x\": [0.838489158770211], \"y\": [-0.32701059711395275], \"type\": \"scatter\", \"uid\": \"07e88395-76c8-455a-a45c-ef724cc1b98d\"}, {\"hoverinfo\": \"text\", \"marker\": {\"color\": \"green\", \"size\": 0.5}, \"mode\": \"markers\", \"text\": \"Tableau appears with Linux 16 times\", \"x\": [-0.5384766715415878], \"y\": [-0.7211399823928035], \"type\": \"scatter\", \"uid\": \"cf113803-931b-4076-ab51-9feb345aac5d\"}, {\"hoverinfo\": \"text\", \"marker\": {\"color\": \"blue\", \"size\": 0.5}, \"mode\": \"markers\", \"text\": \"Linux appears with Tableau 16 times\", \"x\": [0.8725402264573691], \"y\": [-0.2206208358558258], \"type\": \"scatter\", \"uid\": \"d6a12f16-25fe-428d-bd9c-cd01693538d9\"}, {\"hoverinfo\": \"text\", \"marker\": {\"color\": \"green\", \"size\": 0.5}, \"mode\": \"markers\", \"text\": \"Tableau appears with AWS 32 times\", \"x\": [-0.5309247455217604], \"y\": [-0.7267179057878331], \"type\": \"scatter\", \"uid\": \"52831d81-06bd-4840-bc74-c7ff42f6614f\"}, {\"hoverinfo\": \"text\", \"marker\": {\"color\": \"blue\", \"size\": 0.5}, \"mode\": \"markers\", \"text\": \"AWS appears with Tableau 32 times\", \"x\": [0.8968657794920918], \"y\": [-0.07504514358732647], \"type\": \"scatter\", \"uid\": \"3fa7f529-fa1d-4196-8ecd-74818e5d27fc\"}, {\"hoverinfo\": \"text\", \"marker\": {\"color\": \"green\", \"size\": 0.5}, \"mode\": \"markers\", \"text\": \"Microstrategy appears with Oracle BI 57 times\", \"x\": [-0.0293332036724201], \"y\": [-0.8995218525207225], \"type\": \"scatter\", \"uid\": \"c27c99c1-7081-4abd-9f99-535161324f40\"}, {\"hoverinfo\": \"text\", \"marker\": {\"color\": \"blue\", \"size\": 0.5}, \"mode\": \"markers\", \"text\": \"Oracle BI appears with Microstrategy 57 times\", \"x\": [0.052808313292552006], \"y\": [-0.8984493764521159], \"type\": \"scatter\", \"uid\": \"d5c22eac-7bde-4365-9057-155122f36eb6\"}, {\"hoverinfo\": \"text\", \"marker\": {\"color\": \"green\", \"size\": 0.5}, \"mode\": \"markers\", \"text\": \"Microstrategy appears with Python 17 times\", \"x\": [-0.06500686856762328], \"y\": [-0.8976492115737816], \"type\": \"scatter\", \"uid\": \"af38227e-7493-4b53-972c-ade8b87b5324\"}, {\"hoverinfo\": \"text\", \"marker\": {\"color\": \"blue\", \"size\": 0.5}, \"mode\": \"markers\", \"text\": \"Python appears with Microstrategy 17 times\", \"x\": [0.586121728174763], \"y\": [-0.682979735981551], \"type\": \"scatter\", \"uid\": \"e9a144b0-65d4-4db4-b163-2d5c35224338\"}, {\"hoverinfo\": \"text\", \"marker\": {\"color\": \"green\", \"size\": 0.5}, \"mode\": \"markers\", \"text\": \"Microstrategy appears with VBA 7 times\", \"x\": [-0.0703728097371853], \"y\": [-0.8972444859957033], \"type\": \"scatter\", \"uid\": \"d69959d3-ba3e-4f9f-b1e3-c826878c4c72\"}, {\"hoverinfo\": \"text\", \"marker\": {\"color\": \"blue\", \"size\": 0.5}, \"mode\": \"markers\", \"text\": \"VBA appears with Microstrategy 7 times\", \"x\": [0.821265732283858], \"y\": [-0.36813393890846086], \"type\": \"scatter\", \"uid\": \"59c5e3ac-4185-4ef9-b194-b6ebcce63eb7\"}, {\"hoverinfo\": \"text\", \"marker\": {\"color\": \"green\", \"size\": 0.5}, \"mode\": \"markers\", \"text\": \"Microstrategy appears with Linux 6 times\", \"x\": [-0.07134139768092489], \"y\": [-0.8971679915026685], \"type\": \"scatter\", \"uid\": \"e2940b93-f19e-4973-a996-c4ab70d507c9\"}, {\"hoverinfo\": \"text\", \"marker\": {\"color\": \"blue\", \"size\": 0.5}, \"mode\": \"markers\", \"text\": \"Linux appears with Microstrategy 6 times\", \"x\": [0.8716668515751984], \"y\": [-0.22404664662739557], \"type\": \"scatter\", \"uid\": \"e9df3dbb-d592-4c51-84a0-da914c7bf03c\"}, {\"hoverinfo\": \"text\", \"marker\": {\"color\": \"green\", \"size\": 0.5}, \"mode\": \"markers\", \"text\": \"Microstrategy appears with AWS 2 times\", \"x\": [-0.07327832300529462], \"y\": [-0.8970118657952812], \"type\": \"scatter\", \"uid\": \"f130a3fd-3750-478b-b5da-f5a3742c876c\"}, {\"hoverinfo\": \"text\", \"marker\": {\"color\": \"blue\", \"size\": 0.5}, \"mode\": \"markers\", \"text\": \"AWS appears with Microstrategy 2 times\", \"x\": [0.8947634302303595], \"y\": [-0.09694536565716094], \"type\": \"scatter\", \"uid\": \"48a0185a-12d4-48bc-9321-e27a994cd42b\"}, {\"hoverinfo\": \"text\", \"marker\": {\"color\": \"green\", \"size\": 0.5}, \"mode\": \"markers\", \"text\": \"Oracle BI appears with Python 145 times\", \"x\": [0.17985355851965565], \"y\": [-0.8818461869781016], \"type\": \"scatter\", \"uid\": \"66c156bc-66ab-4813-ad53-b2fdf5ab6a37\"}, {\"hoverinfo\": \"text\", \"marker\": {\"color\": \"blue\", \"size\": 0.5}, \"mode\": \"markers\", \"text\": \"Python appears with Oracle BI 145 times\", \"x\": [0.7476969788983476], \"y\": [-0.5009483284194927], \"type\": \"scatter\", \"uid\": \"30e7e986-1398-4db5-a2be-36ba44c25c8a\"}, {\"hoverinfo\": \"text\", \"marker\": {\"color\": \"green\", \"size\": 0.5}, \"mode\": \"markers\", \"text\": \"Oracle BI appears with VBA 67 times\", \"x\": [0.0816749092622201], \"y\": [-0.8962863433060934], \"type\": \"scatter\", \"uid\": \"9c8e8c68-faa7-41a0-9904-226f1d73f0b8\"}, {\"hoverinfo\": \"text\", \"marker\": {\"color\": \"blue\", \"size\": 0.5}, \"mode\": \"markers\", \"text\": \"VBA appears with Oracle BI 67 times\", \"x\": [0.8429419638611602], \"y\": [-0.31535511025174534], \"type\": \"scatter\", \"uid\": \"74026399-8f5d-4a3a-b547-1ca9454d2cf3\"}, {\"hoverinfo\": \"text\", \"marker\": {\"color\": \"green\", \"size\": 0.5}, \"mode\": \"markers\", \"text\": \"Oracle BI appears with Linux 3 times\", \"x\": [0.0035352780848565287], \"y\": [-0.899993056533695], \"type\": \"scatter\", \"uid\": \"623f3279-5b71-4cf5-b882-92e4574a50d2\"}, {\"hoverinfo\": \"text\", \"marker\": {\"color\": \"blue\", \"size\": 0.5}, \"mode\": \"markers\", \"text\": \"Linux appears with Oracle BI 3 times\", \"x\": [0.8711784256621072], \"y\": [-0.22593837801686617], \"type\": \"scatter\", \"uid\": \"c90e0498-6906-44c6-9140-a3e75a59f9a8\"}, {\"hoverinfo\": \"text\", \"marker\": {\"color\": \"green\", \"size\": 0.5}, \"mode\": \"markers\", \"text\": \"Oracle BI appears with AWS 44 times\", \"x\": [0.04140285025440064], \"y\": [-0.8990471644973982], \"type\": \"scatter\", \"uid\": \"04c2e015-911d-4f99-b8be-218b20386e5a\"}, {\"hoverinfo\": \"text\", \"marker\": {\"color\": \"blue\", \"size\": 0.5}, \"mode\": \"markers\", \"text\": \"AWS appears with Oracle BI 44 times\", \"x\": [0.8973753872259713], \"y\": [-0.06868343614757516], \"type\": \"scatter\", \"uid\": \"73573655-2ea9-49b6-b584-ba33cd09d9da\"}, {\"hoverinfo\": \"text\", \"marker\": {\"color\": \"green\", \"size\": 0.5}, \"mode\": \"markers\", \"text\": \"Python appears with VBA 60 times\", \"x\": [0.6294492232620166], \"y\": [-0.6432679654194231], \"type\": \"scatter\", \"uid\": \"0f782d6c-6532-4096-8ff1-5227fb75b2b8\"}, {\"hoverinfo\": \"text\", \"marker\": {\"color\": \"blue\", \"size\": 0.5}, \"mode\": \"markers\", \"text\": \"VBA appears with Python 60 times\", \"x\": [0.8341296906914696], \"y\": [-0.33797582621683653], \"type\": \"scatter\", \"uid\": \"b86a0738-052d-48ae-bba1-54ad788d0364\"}, {\"hoverinfo\": \"text\", \"marker\": {\"color\": \"green\", \"size\": 0.5}, \"mode\": \"markers\", \"text\": \"Python appears with Linux 87 times\", \"x\": [0.6643407984787728], \"y\": [-0.6071666192047999], \"type\": \"scatter\", \"uid\": \"b5fd6b33-3228-4ff1-a15c-1757b2df3db0\"}, {\"hoverinfo\": \"text\", \"marker\": {\"color\": \"blue\", \"size\": 0.5}, \"mode\": \"markers\", \"text\": \"Linux appears with Python 87 times\", \"x\": [0.8900917078624677], \"y\": [-0.13317939628364245], \"type\": \"scatter\", \"uid\": \"b0ae88d0-960a-4bfd-aaa0-d7aea6ae5b83\"}, {\"hoverinfo\": \"text\", \"marker\": {\"color\": \"green\", \"size\": 0.5}, \"mode\": \"markers\", \"text\": \"Python appears with AWS 82 times\", \"x\": [0.6516730527372359], \"y\": [-0.6207432902062913], \"type\": \"scatter\", \"uid\": \"3e2d34b7-ff86-4f60-9878-2eac7490801b\"}, {\"hoverinfo\": \"text\", \"marker\": {\"color\": \"blue\", \"size\": 0.5}, \"mode\": \"markers\", \"text\": \"AWS appears with Python 82 times\", \"x\": [0.8993132842836102], \"y\": [-0.03515134010285281], \"type\": \"scatter\", \"uid\": \"78568999-f7b2-41e5-917f-c978db5aab86\"}, {\"hoverinfo\": \"text\", \"marker\": {\"color\": \"green\", \"size\": 0.5}, \"mode\": \"markers\", \"text\": \"VBA appears with Linux 1 times\", \"x\": [0.8194358007413332], \"y\": [-0.37218942551261475], \"type\": \"scatter\", \"uid\": \"76187707-caec-4e39-925c-05fb429c4fdd\"}, {\"hoverinfo\": \"text\", \"marker\": {\"color\": \"blue\", \"size\": 0.5}, \"mode\": \"markers\", \"text\": \"Linux appears with VBA 1 times\", \"x\": [0.8709443987697824], \"y\": [-0.22683882880041156], \"type\": \"scatter\", \"uid\": \"8fb4e47c-9e53-4c31-ad9b-ed7d995ed738\"}, {\"hoverinfo\": \"text\", \"marker\": {\"color\": \"green\", \"size\": 0.5}, \"mode\": \"markers\", \"text\": \"VBA appears with AWS 5 times\", \"x\": [0.8199151067024026], \"y\": [-0.3711323453987644], \"type\": \"scatter\", \"uid\": \"573531d1-b20d-494a-a909-a8f87690a773\"}, {\"hoverinfo\": \"text\", \"marker\": {\"color\": \"blue\", \"size\": 0.5}, \"mode\": \"markers\", \"text\": \"AWS appears with VBA 5 times\", \"x\": [0.8949160787332692], \"y\": [-0.09552597565410782], \"type\": \"scatter\", \"uid\": \"77e3c2e0-bac0-4dd8-a3cb-79dea090af6e\"}, {\"hoverinfo\": \"text\", \"marker\": {\"color\": \"green\", \"size\": 0.5}, \"mode\": \"markers\", \"text\": \"Linux appears with AWS 23 times\", \"x\": [0.8741802375212253], \"y\": [-0.21403016686283752], \"type\": \"scatter\", \"uid\": \"867a4b2a-9179-4e67-ad08-8aa4d0b92ce1\"}, {\"hoverinfo\": \"text\", \"marker\": {\"color\": \"blue\", \"size\": 0.5}, \"mode\": \"markers\", \"text\": \"AWS appears with Linux 23 times\", \"x\": [0.8960561773865201], \"y\": [-0.08416250333406947], \"type\": \"scatter\", \"uid\": \"7d5ab59f-fb82-4d0e-b74e-c1ef9879503d\"}], {\"autosize\": false, \"font\": {\"color\": \"#655643\", \"family\": \"Fira Sans Condensed\", \"size\": 12}, \"height\": 525, \"hidesources\": true, \"hoverdistance\": 40, \"hovermode\": \"closest\", \"margin\": {\"b\": 10, \"l\": 280, \"r\": 280, \"t\": 80}, \"paper_bgcolor\": \"#fffaf0\", \"plot_bgcolor\": \"#fffaf0\", \"shapes\": [{\"fillcolor\": \"#f2e6ce\", \"layer\": \"below\", \"line\": {\"color\": \"rgb(175,175,175)\", \"width\": 0.5}, \"path\": \"M 0.9739678763129654,0.22668607348139436 Q 0.18396499711177883, 0.07846578768905088 0.8377479193943368, 0.5460571614313466L 0.8377479193943368, 0.5460571614313466 L 0.8508468155132909, 0.5254138335929993 L 0.8634371366126378, 0.5044564511612168 M 0.8634371366126378,0.5044564511612168 Q 0.18410547600477306, 0.07813561099176186 0.9627006435487514, 0.2705687914575884L 0.9627006435487514, 0.2705687914575884 L 0.9685828112196126, 0.24869124996652425 L 0.9739678763129654, 0.22668607348139436 \", \"type\": \"path\"}, {\"fillcolor\": \"#f2e6ce\", \"layer\": \"below\", \"line\": {\"color\": \"rgb(175,175,175)\", \"width\": 0.5}, \"path\": \"M 0.9981326759477839,0.06108323178513274 Q 0.14534680350125206, 0.13738379348368723 0.11716596300587404, 0.9931123486861424L 0.11716596300587404, 0.9931123486861424 L 0.13144133674968858, 0.9913239505799579 L 0.14568950415267073, 0.9893303636196298 M 0.14568950415267073,0.9893303636196298 Q 0.1454428946070214, 0.13728206149505068 0.9960867782891534, 0.08838059808314858L 0.9960867782891534, 0.08838059808314858 L 0.9972031360088921, 0.07473891579378866 L 0.9981326759477839, 0.06108323178513274 \", \"type\": \"path\"}, {\"fillcolor\": \"#f2e6ce\", \"layer\": \"below\", \"line\": {\"color\": \"rgb(175,175,175)\", \"width\": 0.5}, \"path\": \"M 0.9960867782891534,0.08838059808314858 Q 0.09679474814802908, 0.17501650416734882 -0.4545974425979596, 0.890697010875974L -0.4545974425979596, 0.890697010875974 L -0.4412969512904212, 0.8973611317534205 L -0.4278987949764746, 0.9038266544297534 M -0.4278987949764746,0.9038266544297534 Q 0.09687898800145255, 0.17496988793450838 0.9931297864276837, 0.1170180640333081L 0.9931297864276837, 0.1170180640333081 L 0.9947113457933288, 0.10270997298229993 L 0.9960867782891534, 0.08838059808314858 \", \"type\": \"path\"}, {\"fillcolor\": \"#f2e6ce\", \"layer\": \"below\", \"line\": {\"color\": \"rgb(175,175,175)\", \"width\": 0.5}, \"path\": \"M 1.0,0.0 Q 0.07248305372959596, 0.18640334471793285 -0.7373103461016253, 0.6755541825283162L -0.7373103461016253, 0.6755541825283162 L -0.7369410231291343, 0.6759570462902096 L -0.736571480033341, 0.6763597081446332 M -0.736571480033341,0.6763597081446332 Q 0.07247495622003668, 0.18640649323696792 0.9999993038620194, 0.0011799472346146406L 0.9999993038620194, 0.0011799472346146406 L 0.9999998259654898, 0.0005899737199831078 L 1.0, 0.0 \", \"type\": \"path\"}, {\"fillcolor\": \"#f2e6ce\", \"layer\": \"below\", \"line\": {\"color\": \"rgb(175,175,175)\", \"width\": 0.5}, \"path\": \"M 0.9994226508103302,0.03397594806996323 Q 0.04512180047030203, 0.19484358630018658 -0.8827472744453018, 0.46984811318062264L -0.8827472744453018, 0.46984811318062264 L -0.8804273875462261, 0.47418099419791954 L -0.8780862332781325, 0.4785024210256632 M -0.8780862332781325,0.4785024210256632 Q 0.04511382619424281, 0.19484543280794564 0.9990368109671501, 0.04387995365296975L 0.9990368109671501, 0.04387995365296975 L 0.9992420014309001, 0.03892842889674454 L 0.9994226508103302, 0.03397594806996323 \", \"type\": \"path\"}, {\"fillcolor\": \"#f2e6ce\", \"layer\": \"below\", \"line\": {\"color\": \"rgb(175,175,175)\", \"width\": 0.5}, \"path\": \"M 0.9999928715547213,0.0037758230549919934 Q 0.026486130611575627, 0.19823845460764308 -0.9639261047640945, 0.26616999183664564L -0.9639261047640945, 0.26616999183664564 L -0.9637723483981169, 0.26672619005860454 L -0.9636182710983738, 0.26728229946141374 M -0.9636182710983738,0.26728229946141374 Q 0.026436787465643333, 0.19824504096823306 0.9999852697547862, 0.005427731887952778L 0.9999852697547862, 0.005427731887952778 L 0.9999894117587727, 0.004601779041174332 L 0.9999928715547213, 0.0037758230549919934 \", \"type\": \"path\"}, {\"fillcolor\": \"#f2e6ce\", \"layer\": \"below\", \"line\": {\"color\": \"rgb(175,175,175)\", \"width\": 0.5}, \"path\": \"M 0.9999852697547862,0.005427731887952778 Q 0.017793127984506895, 0.19920693912744847 -0.9831937990214045, 0.18256492972599667L -0.9831937990214045, 0.18256492972599667 L -0.9830453311240386, 0.18336269237560104 L -0.9828962159228173, 0.18416033428674755 M -0.9828962159228173,0.18416033428674755 Q 0.017766733387809094, 0.1992092949255293 0.9999732405722687, 0.007315609297645914L 0.9999732405722687, 0.007315609297645914 L 0.9999797006828096, 0.006371673431560345 L 0.9999852697547862, 0.005427731887952778 \", \"type\": \"path\"}, {\"fillcolor\": \"#f2e6ce\", \"layer\": \"below\", \"line\": {\"color\": \"rgb(175,175,175)\", \"width\": 0.5}, \"path\": \"M 0.9999485140707918,0.0101473744197971 Q 0.002594435612261291, 0.1999831715516429 -0.9993487316475472, 0.036084796721593426L -0.9993487316475472, 0.036084796721593426 L -0.9992648079648633, 0.03833853887337022 L -0.9991758016247866, 0.040592086020122396 M -0.9991758016247866,0.040592086020122396 Q 0.0025499222689394554, 0.19998374408041864 0.9998859469081189, 0.015102753909612191L 0.9998859469081189, 0.015102753909612191 L 0.9999203002120592, 0.012625102923357522 L 0.9999485140707918, 0.0101473744197971 \", \"type\": \"path\"}, {\"fillcolor\": \"#f2e6ce\", \"layer\": \"below\", \"line\": {\"color\": \"rgb(175,175,175)\", \"width\": 0.5}, \"path\": \"M 0.9997940615847689,0.020293703945592146 Q -0.016950561787047413, 0.19928040158305454 -0.9888584629717494, -0.14885879285131026L -0.9888584629717494, -0.14885879285131026 L -0.9892744288780082, -0.1460688343490516 L -0.9896825232304424, -0.14327771359225758 M -0.9896825232304424,-0.14327771359225758 Q -0.016999796585667474, 0.19927620760152462 0.9996507261002942, 0.02642774691786453L 0.9996507261002942, 0.02642774691786453 L 0.9997270984478905, 0.023360835365240615 L 0.9997940615847689, 0.020293703945592146 \", \"type\": \"path\"}, {\"fillcolor\": \"#f2e6ce\", \"layer\": \"below\", \"line\": {\"color\": \"rgb(175,175,175)\", \"width\": 0.5}, \"path\": \"M 0.9999732405722687,0.007315609297645914 Q -0.03151047516711252, 0.19750212645625564 -0.952605459764414, -0.30420854364568634L -0.952605459764414, -0.30420854364568634 L -0.9530022697774435, -0.30296315584414024 L -0.9533974516347337, -0.30171725044550524 M -0.9533974516347337,-0.30171725044550524 Q -0.03153197514528727, 0.19749869504236475 0.9999485140707918, 0.0101473744197971L 0.9999485140707918, 0.0101473744197971 L 0.9999618797219577, 0.008731500611515113 L 0.9999732405722687, 0.007315609297645914 \", \"type\": \"path\"}, {\"fillcolor\": \"#f2e6ce\", \"layer\": \"below\", \"line\": {\"color\": \"rgb(175,175,175)\", \"width\": 0.5}, \"path\": \"M 0.9885450145831867,0.1509263202451023 Q -0.07760168698066129, 0.184331164423587 -0.7988386251939646, -0.6015453855680521L -0.7988386251939646, -0.6015453855680521 L -0.8102335196254297, -0.5861071946968306 L -0.8213301011805728, -0.5704532100836229 M -0.8213301011805728,-0.5704532100836229 Q -0.07747942685490543, 0.18438258706894034 0.9822759962167948, 0.18744030318024782L 0.9822759962167948, 0.18744030318024782 L 0.9855796172253728, 0.16921234620998468 L 0.9885450145831867, 0.1509263202451023 \", \"type\": \"path\"}, {\"fillcolor\": \"#f2e6ce\", \"layer\": \"below\", \"line\": {\"color\": \"rgb(175,175,175)\", \"width\": 0.5}, \"path\": \"M 0.9822759962167948,0.18744030318024782 Q -0.1264435111168029, 0.15495818305741374 -0.3806766291523075, -0.9247082264245499L -0.3806766291523075, -0.9247082264245499 L -0.40011270083462996, -0.916465944064927 L -0.41937044384625544, -0.9078151964073936 M -0.41937044384625544,-0.9078151964073936 Q -0.12628030105594218, 0.15509121691836908 0.9739678763129654, 0.22668607348139436L 0.9739678763129654, 0.22668607348139436 L 0.9783187516470236, 0.20710485309574275 L 0.9822759962167948, 0.18744030318024782 \", \"type\": \"path\"}, {\"fillcolor\": \"#f2e6ce\", \"layer\": \"below\", \"line\": {\"color\": \"rgb(175,175,175)\", \"width\": 0.5}, \"path\": \"M 0.9998859469081189,0.015102753909612191 Q -0.1381691188708267, 0.14460046538811475 -0.0605466809546072, -0.9981653667731519L -0.0605466809546072, -0.9981653667731519 L -0.06237017458800767, -0.9980530854227452 L -0.06419346004622282, -0.9979374728344927 M -0.06419346004622282,-0.9979374728344927 Q -0.1382802666675996, 0.1444941792956988 0.9997940615847689, 0.020293703945592146L 0.9997940615847689, 0.020293703945592146 L 0.9998433730250443, 0.017698288558557745 L 0.9998859469081189, 0.015102753909612191 \", \"type\": \"path\"}, {\"fillcolor\": \"#f2e6ce\", \"layer\": \"below\", \"line\": {\"color\": \"rgb(175,175,175)\", \"width\": 0.5}, \"path\": \"M 0.9931297864276837,0.1170180640333081 Q -0.16519903447263234, 0.1127354381253297 0.25306564263973247, -0.9674491100390444L 0.25306564263973247, -0.9674491100390444 L 0.2353990253957866, -0.971898811010032 L 0.21765427704879925, -0.9760259298207014 M 0.21765427704879925,-0.9760259298207014 Q -0.165073865437927, 0.11291863862702729 0.9885450145831867, 0.1509263202451023L 0.9885450145831867, 0.1509263202451023 L 0.9909824401573417, 0.13399180310675962 L 0.9931297864276837, 0.1170180640333081 \", \"type\": \"path\"}, {\"fillcolor\": \"#f2e6ce\", \"layer\": \"below\", \"line\": {\"color\": \"rgb(175,175,175)\", \"width\": 0.5}, \"path\": \"M 0.9990368109671501,0.04387995365296975 Q -0.18692409025282591, 0.07112935036363963 0.7171403135021013, -0.6969288132586483L 0.7171403135021013, -0.6969288132586483 L 0.7109007661036258, -0.703292329514035 L 0.7046047544941217, -0.7095999858682908 M 0.7046047544941217,-0.7095999858682908 Q -0.18690284585849778, 0.07118515442137234 0.9981326759477839, 0.06108323178513274L 0.9981326759477839, 0.06108323178513274 L 0.9986217892979495, 0.052483539699239835 L 0.9990368109671501, 0.04387995365296975 \", \"type\": \"path\"}, {\"fillcolor\": \"#f2e6ce\", \"layer\": \"below\", \"line\": {\"color\": \"rgb(175,175,175)\", \"width\": 0.5}, \"path\": \"M 0.9996507261002942,0.02642774691786453 Q -0.19654097385865874, 0.037035734023913046 0.9214739700338286, -0.3884401144965525L 0.9214739700338286, -0.3884401144965525 L 0.920132670453477, -0.3916067782408178 L 0.918780488607726, -0.39476881051287266 M 0.918780488607726,-0.39476881051287266 Q -0.19655343680753945, 0.03696953447292236 0.9994226508103302, 0.03397594806996323L 0.9994226508103302, 0.03397594806996323 L 0.9995438136486914, 0.030202062787665764 L 0.9996507261002942, 0.02642774691786453 \", \"type\": \"path\"}, {\"fillcolor\": \"#f2e6ce\", \"layer\": \"below\", \"line\": {\"color\": \"rgb(175,175,175)\", \"width\": 0.5}, \"path\": \"M 0.9999972154490471,0.0023598928264171115 Q -0.19844144366676353, 0.024919739875261835 0.9683641337546735, -0.2495413882656762L 0.9683641337546735, -0.2495413882656762 L 0.9682091710049627, -0.2501419620573142 L 0.9680538357829251, -0.2507424396187558 M 0.9680538357829251,-0.2507424396187558 Q -0.1984436289805499, 0.024902331558106196 0.9999928715547213, 0.0037758230549919934L 0.9999928715547213, 0.0037758230549919934 L 0.9999952941103964, 0.003067858709539677 L 0.9999972154490471, 0.0023598928264171115 \", \"type\": \"path\"}, {\"fillcolor\": \"#f2e6ce\", \"layer\": \"below\", \"line\": {\"color\": \"rgb(175,175,175)\", \"width\": 0.5}, \"path\": \"M 0.9999993038620194,0.0011799472346146406 Q -0.19973090303775376, 0.010371420911495474 0.9944987763824562, -0.10474819222209716L 0.9944987763824562, -0.10474819222209716 L 0.9944498002223718, -0.10521214206394962 L 0.994400607622158, -0.10567606900657803 M 0.994400607622158,-0.10567606900657803 Q -0.1997321818265735, 0.010346764846877542 0.9999972154490471, 0.0023598928264171115L 0.9999972154490471, 0.0023598928264171115 L 0.9999984336897709, 0.0017699203385430956 L 0.9999993038620194, 0.0011799472346146406 \", \"type\": \"path\"}, {\"fillcolor\": \"#ecd5bb\", \"layer\": \"below\", \"line\": {\"color\": \"rgb(175,175,175)\", \"width\": 0.5}, \"path\": \"M 0.5569878950159335,0.8305206107049478 Q 0.0347484921646123, 0.1969582247388666 -0.23915672049366066, 0.9709809797533199L -0.23915672049366066, 0.9709809797533199 L -0.17327187661809726, 0.9848740309162604 L -0.10660144759279575, 0.994301831121275 M -0.10660144759279575,0.994301831121275 Q 0.034394181333452185, 0.19702040577158908 0.4371833239244869, 0.8993724152331654L 0.4371833239244869, 0.8993724152331654 L 0.4982762746600206, 0.8670183124426679 L 0.5569878950159335, 0.8305206107049478 \", \"type\": \"path\"}, {\"fillcolor\": \"#ecd5bb\", \"layer\": \"below\", \"line\": {\"color\": \"rgb(175,175,175)\", \"width\": 0.5}, \"path\": \"M 0.8046461301534307,0.5937546675430083 Q 0.026169232770223844, 0.1982805367559253 -0.6230487091393397, 0.782183038706288L -0.6230487091393397, 0.782183038706288 L -0.598917951140477, 0.8008103944141168 L -0.5742306355418135, 0.8186935795554067 M -0.5742306355418135,0.8186935795554067 Q 0.02590160820066815, 0.19831567434930375 0.765237217645277, 0.643748398623651L 0.765237217645277, 0.643748398623651 L 0.7853395919669148, 0.6190652027769286 L 0.8046461301534307, 0.5937546675430083 \", \"type\": \"path\"}, {\"fillcolor\": \"#ecd5bb\", \"layer\": \"below\", \"line\": {\"color\": \"rgb(175,175,175)\", \"width\": 0.5}, \"path\": \"M 0.9371815033268223,0.3488421273614719 Q 0.04457487288715003, 0.19496943531511401 -0.6924915297753537, 0.7214260053459332L -0.6924915297753537, 0.7214260053459332 L -0.6880293714441686, 0.7256828398344157 L -0.6835410463261212, 0.7299120755182719 M -0.6835410463261212,0.7299120755182719 Q 0.04421305425594474, 0.19505180294824473 0.9314640435561575, 0.3638333898393778L 0.9314640435561575, 0.3638333898393778 L 0.9343528399159859, 0.3563492255371575 L 0.9371815033268223, 0.3488421273614719 \", \"type\": \"path\"}, {\"fillcolor\": \"#ecd5bb\", \"layer\": \"below\", \"line\": {\"color\": \"rgb(175,175,175)\", \"width\": 0.5}, \"path\": \"M 0.9097335250382377,0.41519262207016905 Q 0.01610136122369564, 0.19935081180357425 -0.8313062625596327, 0.5558146254185249L -0.8313062625596327, 0.5558146254185249 L -0.8246252039874977, 0.5656794789883913 L -0.8178270883176916, 0.5754640332929649 M -0.8178270883176916,0.5754640332929649 Q 0.015709501618873883, 0.19938207431684174 0.8978587961020033, 0.44028352485899513L 0.8978587961020033, 0.44028352485899513 L 0.903883227088533, 0.4277792792878349 L 0.9097335250382377, 0.41519262207016905 \", \"type\": \"path\"}, {\"fillcolor\": \"#ecd5bb\", \"layer\": \"below\", \"line\": {\"color\": \"rgb(175,175,175)\", \"width\": 0.5}, \"path\": \"M 0.8846993220736487,0.46616210648488626 Q -0.018024218653649195, 0.19918616302827225 -0.9540087758910363, 0.2997786775654443L -0.9540087758910363, 0.2997786775654443 L -0.9477821541642685, 0.3189184664577121 L -0.9411715836719114, 0.3379290607339154 M -0.9411715836719114,0.3379290607339154 Q -0.01837770824181782, 0.19915385971599603 0.8634371366126378, 0.5044564511612168L 0.8634371366126378, 0.5044564511612168 L 0.8742779213474426, 0.48542570620476516 L 0.8846993220736487, 0.46616210648488626 \", \"type\": \"path\"}, {\"fillcolor\": \"#ecd5bb\", \"layer\": \"below\", \"line\": {\"color\": \"rgb(175,175,175)\", \"width\": 0.5}, \"path\": \"M 0.9470767826786616,0.3210071147358501 Q -0.009361327789451254, 0.19978079372657034 -0.9729445465691484, 0.23103876146948615L -0.9729445465691484, 0.23103876146948615 L -0.9719064173739771, 0.23536761856143384 L -0.9708490281854044, 0.23969181144014062 M -0.9708490281854044,0.23969181144014062 Q -0.009845709274042137, 0.19975750801632225 0.9425726748309797, 0.3340011267375789L 0.9425726748309797, 0.3340011267375789 L 0.9448470665423032, 0.32751186367275975 L 0.9470767826786616, 0.3210071147358501 \", \"type\": \"path\"}, {\"fillcolor\": \"#ecd5bb\", \"layer\": \"below\", \"line\": {\"color\": \"rgb(175,175,175)\", \"width\": 0.5}, \"path\": \"M 0.9425726748309797,0.3340011267375789 Q -0.025686037924325264, 0.19834371040128831 -0.9965596731836655, 0.08287833120946558L -0.9965596731836655, 0.08287833120946558 L -0.9960187633421063, 0.08914383360873251 L -0.9954384618511168, 0.095405810449273 M -0.9954384618511168,0.095405810449273 Q -0.026004584200967712, 0.19830219766945292 0.9371815033268223, 0.3488421273614719L 0.9371815033268223, 0.3488421273614719 L 0.9399063817212372, 0.34143226795323844 L 0.9425726748309797, 0.3340011267375789 \", \"type\": \"path\"}, {\"fillcolor\": \"#ecd5bb\", \"layer\": \"below\", \"line\": {\"color\": \"rgb(175,175,175)\", \"width\": 0.5}, \"path\": \"M 0.925023777048842,0.3799092153321557 Q -0.040407295275148455, 0.1958755995231335 -0.9998525044624069, -0.01717467089211526L -0.9998525044624069, -0.01717467089211526 L -0.9999574199905799, -0.009228120381918456 L -0.9999991795357703, -0.0012809870358911444 M -0.9999991795357703,-0.0012809870358911444 Q -0.04069632858966668, 0.1958157522757602 0.9177000975883661, 0.3972738739035116L 0.9177000975883661, 0.3972738739035116 L 0.9214028447868589, 0.3886087976599137 L 0.925023777048842, 0.3799092153321557 \", \"type\": \"path\"}, {\"fillcolor\": \"#ecd5bb\", \"layer\": \"below\", \"line\": {\"color\": \"rgb(175,175,175)\", \"width\": 0.5}, \"path\": \"M 0.9177000975883661,0.3972738739035116 Q -0.06103391338193914, 0.19045960573645518 -0.9776775051598583, -0.21011115130900399L -0.9776775051598583, -0.21011115130900399 L -0.9793986179411897, -0.2019364929250967 L -0.9810513811678109, -0.19374774194485653 M -0.9810513811678109,-0.19374774194485653 Q -0.06131024413013461, 0.19037083275728794 0.9097335250382377, 0.41519262207016905L 0.9097335250382377, 0.41519262207016905 L 0.9137607354556844, 0.4062527764083426 L 0.9177000975883661, 0.3972738739035116 \", \"type\": \"path\"}, {\"fillcolor\": \"#ecd5bb\", \"layer\": \"below\", \"line\": {\"color\": \"rgb(175,175,175)\", \"width\": 0.5}, \"path\": \"M 0.8978587961020033,0.44028352485899513 Q -0.08513280008421445, 0.18097625907787238 -0.9116657692796083, -0.4109325067743121L -0.9116657692796083, -0.4109325067743121 L -0.9166979977624904, -0.3995807564163233 L -0.9215888846515172, -0.3881673964757634 M -0.9215888846515172,-0.3881673964757634 Q -0.08551255694084804, 0.1807971310763482 0.8846993220736487, 0.46616210648488626L 0.8846993220736487, 0.46616210648488626 L 0.8913729782841874, 0.4532705743645595 L 0.8978587961020033, 0.44028352485899513 \", \"type\": \"path\"}, {\"fillcolor\": \"#ecd5bb\", \"layer\": \"below\", \"line\": {\"color\": \"rgb(175,175,175)\", \"width\": 0.5}, \"path\": \"M 0.7106503335346519,0.7035453812278836 Q -0.1485870833601851, 0.13387262101906203 -0.6258962897293974, -0.7799062985403915L -0.6258962897293974, -0.7799062985403915 L -0.6611546252350904, -0.75024966613138 L -0.6950095502517812, -0.7190005042131867 M -0.6950095502517812,-0.7190005042131867 Q -0.14884522394343588, 0.13358555052560295 0.639931057331499, 0.7684323274450325L 0.639931057331499, 0.7684323274450325 L 0.6760695986995965, 0.7368377689248607 L 0.7106503335346519, 0.7035453812278836 \", \"type\": \"path\"}, {\"fillcolor\": \"#ecd5bb\", \"layer\": \"below\", \"line\": {\"color\": \"rgb(175,175,175)\", \"width\": 0.5}, \"path\": \"M 0.639931057331499,0.7684323274450325 Q -0.1839187955306126, 0.07857402020113723 -0.11285168024223727, -0.9936118448702712L -0.11285168024223727, -0.9936118448702712 L -0.16290768266863595, -0.9866413162479741 L -0.21254758765253712, -0.9771507166159614 M -0.21254758765253712,-0.9771507166159614 Q -0.1840194216096423, 0.0783380652713144 0.5569878950159335, 0.8305206107049478L 0.5569878950159335, 0.8305206107049478 L 0.5992641181913528, 0.80055138289078 L 0.639931057331499, 0.7684323274450325 \", \"type\": \"path\"}, {\"fillcolor\": \"#ecd5bb\", \"layer\": \"below\", \"line\": {\"color\": \"rgb(175,175,175)\", \"width\": 0.5}, \"path\": \"M 0.953726837772754,0.300674440070956 Q -0.15858715202167817, 0.12186104879596736 -0.04495648129457773, -0.9989889462799928L -0.04495648129457773, -0.9989889462799928 L -0.04794280375951128, -0.9988500826288582 L -0.05092869774019184, -0.9987022918500228 M -0.05092869774019184,-0.9987022918500228 Q -0.15878127643132753, 0.12160800242927419 0.9509300858879128, 0.30940583665019417L 0.9509300858879128, 0.30940583665019417 L 0.9523384684730974, 0.30504334358630925 L 0.953726837772754, 0.300674440070956 \", \"type\": \"path\"}, {\"fillcolor\": \"#ecd5bb\", \"layer\": \"below\", \"line\": {\"color\": \"rgb(175,175,175)\", \"width\": 0.5}, \"path\": \"M 0.4371833239244869,0.8993724152331654 Q -0.1987632049441922, -0.022207844567022864 0.6248987326672854, -0.7807058177769785L 0.6248987326672854, -0.7807058177769785 L 0.5683627441159965, -0.8227780934741361 L 0.509004042024363, -0.8607641286687431 M 0.509004042024363,-0.8607641286687431 Q -0.19874201928220717, -0.022396646437152064 0.3046682554762168, 0.9524585314359248L 0.3046682554762168, 0.9524585314359248 L 0.3718742736439331, 0.9282831058474549 L 0.4371833239244869, 0.8993724152331654 \", \"type\": \"path\"}, {\"fillcolor\": \"#ecd5bb\", \"layer\": \"below\", \"line\": {\"color\": \"rgb(175,175,175)\", \"width\": 0.5}, \"path\": \"M 0.765237217645277,0.643748398623651 Q -0.19854605777591325, -0.0240720365080257 0.8969026979368081, -0.4422279394539367L 0.8969026979368081, -0.4422279394539367 L 0.8790626162386898, -0.47670632126246243 L 0.8598977631556413, -0.51046629361783 M 0.8598977631556413,-0.51046629361783 Q -0.19850555837757283, -0.024403755719315603 0.7106503335346519, 0.7035453812278836L 0.7106503335346519, 0.7035453812278836 L 0.7385492100829263, 0.6741995730389374 L 0.765237217645277, 0.643748398623651 \", \"type\": \"path\"}, {\"fillcolor\": \"#ecd5bb\", \"layer\": \"below\", \"line\": {\"color\": \"rgb(175,175,175)\", \"width\": 0.5}, \"path\": \"M 0.8377479193943368,0.5460571614313466 Q -0.19788177152329367, -0.029031095377250474 0.9592924335644858, -0.28241463649380255L 0.9592924335644858, -0.28241463649380255 L 0.9520851520391348, -0.30583306437763996 L 0.9443062693679498, -0.32906787997673825 M 0.9443062693679498,-0.32906787997673825 Q -0.1977482224952333, -0.029927253465289894 0.8046461301534307, 0.5937546675430083L 0.8046461301534307, 0.5937546675430083 L 0.8215432529817263, 0.5701461948309428 L 0.8377479193943368, 0.5460571614313466 \", \"type\": \"path\"}, {\"fillcolor\": \"#ecd5bb\", \"layer\": \"below\", \"line\": {\"color\": \"rgb(175,175,175)\", \"width\": 0.5}, \"path\": \"M 0.9314640435561575,0.3638333898393778 Q -0.19901953968155542, -0.019779353501613597 0.9848546474628369, -0.17338201570766004L 0.9848546474628369, -0.17338201570766004 L 0.9836115486933523, -0.18030064136620533 L 0.9823198470455414, -0.1872103578876558 M 0.9823198470455414,-0.1872103578876558 Q -0.19898704256062802, -0.0201036537220184 0.925023777048842, 0.3799092153321557L 0.925023777048842, 0.3799092153321557 L 0.9282787108702827, 0.3718852443227698 L 0.9314640435561575, 0.3638333898393778 \", \"type\": \"path\"}, {\"fillcolor\": \"#ecd5bb\", \"layer\": \"below\", \"line\": {\"color\": \"rgb(175,175,175)\", \"width\": 0.5}, \"path\": \"M 0.9509300858879128,0.30940583665019417 Q -0.19820908718073638, -0.02670501374235287 0.998908911020888, -0.04670104370422384L 0.998908911020888, -0.04670104370422384 L 0.9986897350672457, -0.05117433996950759 L 0.9984505269778688, -0.05564660975851109 M 0.9984505269778688,-0.05564660975851109 Q -0.19816519726720058, -0.02702877341004377 0.9470767826786616, 0.3210071147358501L 0.9470767826786616, 0.3210071147358501 L 0.9490211618793222, 0.3152123638203638 L 0.9509300858879128, 0.30940583665019417 \", \"type\": \"path\"}, {\"fillcolor\": \"#e6c4a9\", \"layer\": \"below\", \"line\": {\"color\": \"rgb(175,175,175)\", \"width\": 0.5}, \"path\": \"M -0.04477611221763142,0.9989970469299067 Q -0.06447314899390227, 0.18932303890126548 -0.5742306355418135, 0.8186935795554067L -0.5742306355418135, 0.8186935795554067 L -0.54900970357109, 0.8358159757893981 L -0.5232785923307273, 0.8521616717550564 M -0.5232785923307273,0.8521616717550564 Q -0.06457187387699949, 0.1892893898347524 -0.10660144759279575, 0.994301831121275L -0.10660144759279575, 0.994301831121275 L -0.07572517854988714, 0.9971287265612138 L -0.04477611221763142, 0.9989970469299067 \", \"type\": \"path\"}, {\"fillcolor\": \"#e6c4a9\", \"layer\": \"below\", \"line\": {\"color\": \"rgb(175,175,175)\", \"width\": 0.5}, \"path\": \"M 0.22512879304311564,0.9743290134974685 Q -0.05195011391047462, 0.19313514870341109 -0.6835410463261212, 0.7299120755182719L -0.6835410463261212, 0.7299120755182719 L -0.680390914662222, 0.7328493728216631 L -0.6772281610358828, 0.7357730750033983 M -0.6772281610358828,0.7357730750033983 Q -0.05217219935145482, 0.19307527447819947 0.21448143636839317, 0.9767280652532468L 0.21448143636839317, 0.9767280652532468 L 0.21980838772244687, 0.9755430655213836 L 0.22512879304311564, 0.9743290134974685 \", \"type\": \"path\"}, {\"fillcolor\": \"#e6c4a9\", \"layer\": \"below\", \"line\": {\"color\": \"rgb(175,175,175)\", \"width\": 0.5}, \"path\": \"M 0.19870600637041214,0.9800591426196287 Q -0.07057627937114727, 0.18713361213348545 -0.7964097299067887, 0.604757424187414L -0.7964097299067887, 0.604757424187414 L -0.7917591810830248, 0.6108333644871881 L -0.7870622789912497, 0.6168735437584435 M -0.7870622789912497,0.6168735437584435 Q -0.07076906349792149, 0.18706079132631498 0.18165943089209052, 0.9833615058400251L 0.18165943089209052, 0.9833615058400251 L 0.19018988634173892, 0.981747323466337 L 0.19870600637041214, 0.9800591426196287 \", \"type\": \"path\"}, {\"fillcolor\": \"#e6c4a9\", \"layer\": \"below\", \"line\": {\"color\": \"rgb(175,175,175)\", \"width\": 0.5}, \"path\": \"M 0.11716596300587404,0.9931123486861424 Q -0.09942281303468202, 0.17353703998936557 -0.9159925119732474, 0.4011953614000793L -0.9159925119732474, 0.4011953614000793 L -0.9104139149601693, 0.41369856592318227 L -0.9046646600685101, 0.4261242222910206 M -0.9046646600685101,0.4261242222910206 Q -0.09956503409447064, 0.1734554812791078 0.08829833904483289, 0.996094073530168L 0.08829833904483289, 0.996094073530168 L 0.10274296825115296, 0.994707938278841 L 0.11716596300587404, 0.9931123486861424 \", \"type\": \"path\"}, {\"fillcolor\": \"#e6c4a9\", \"layer\": \"below\", \"line\": {\"color\": \"rgb(175,175,175)\", \"width\": 0.5}, \"path\": \"M 0.24249331485346892,0.9701530767107717 Q -0.10268753224135561, 0.1716253790154025 -0.969530538669776, 0.24497047696956037L -0.969530538669776, 0.24497047696956037 L -0.9688605286598391, 0.24760710006980252 L -0.968183348408839, 0.2502418907054706 M -0.968183348408839,0.2502418907054706 Q -0.10292298359396107, 0.17148428338514649 0.23454384325028466, 0.972105542414704L 0.23454384325028466, 0.972105542414704 L 0.23852057685555686, 0.9711374436280852 L 0.24249331485346892, 0.9701530767107717 \", \"type\": \"path\"}, {\"fillcolor\": \"#e6c4a9\", \"layer\": \"below\", \"line\": {\"color\": \"rgb(175,175,175)\", \"width\": 0.5}, \"path\": \"M 0.2578636838226611,0.966181308329553 Q -0.10860728124451198, 0.16794183058629403 -0.9869247264438735, 0.1611818362399605L -0.9869247264438735, 0.1611818362399605 L -0.9863963577843001, 0.16438438292571186 L -0.9858575969668948, 0.1675851977432963 M -0.9858575969668948,0.1675851977432963 Q -0.10872867639833408, 0.16786326259389323 0.2501863810583316, 0.9681976940340931L 0.2501863810583316, 0.9681976940340931 L 0.2540270331268359, 0.9671971187099233 L 0.2578636838226611, 0.966181308329553 \", \"type\": \"path\"}, {\"fillcolor\": \"#e6c4a9\", \"layer\": \"below\", \"line\": {\"color\": \"rgb(175,175,175)\", \"width\": 0.5}, \"path\": \"M 0.2501863810583316,0.9681976940340931 Q -0.12061639965505766, 0.15953583965445323 -0.9997307719548263, 0.02320309476356688L -0.9997307719548263, 0.02320309476356688 L -0.9996451273852435, 0.026638680427908897 L -0.9995476764230642, 0.030073951473881644 M -0.9995476764230642,0.030073951473881644 Q -0.12070128698890098, 0.1594716254360724 0.24249331485346892, 0.9701530767107717L 0.24249331485346892, 0.9701530767107717 L 0.24634178811417506, 0.9691830185412407 L 0.2501863810583316, 0.9681976940340931 \", \"type\": \"path\"}, {\"fillcolor\": \"#e6c4a9\", \"layer\": \"below\", \"line\": {\"color\": \"rgb(175,175,175)\", \"width\": 0.5}, \"path\": \"M 0.23454384325028466,0.972105542414704 Q -0.13675232666025527, 0.14594108795334793 -0.9852848803157962, -0.17092017031669235L -0.9852848803157962, -0.17092017031669235 L -0.9859992552914544, -0.16674971833468674 L -0.9866959779211237, -0.1625762810322503 M -0.9866959779211237,-0.1625762810322503 Q -0.13684071856771002, 0.14585821108827843 0.22512879304311564, 0.9743290134974685L 0.22512879304311564, 0.9743290134974685 L 0.22983900690514902, 0.9732286632158215 L 0.23454384325028466, 0.972105542414704 \", \"type\": \"path\"}, {\"fillcolor\": \"#e6c4a9\", \"layer\": \"below\", \"line\": {\"color\": \"rgb(175,175,175)\", \"width\": 0.5}, \"path\": \"M 0.21448143636839317,0.9767280652532468 Q -0.1514797558010538, 0.13059051873108213 -0.9344785692391813, -0.35601938659670296L -0.9344785692391813, -0.35601938659670296 L -0.9369757438777878, -0.34939441235467134 L -0.9394259515157651, -0.3427519243107167 M -0.9394259515157651,-0.3427519243107167 Q -0.15160788752335855, 0.13044174347464338 0.19870600637041214, 0.9800591426196287L 0.19870600637041214, 0.9800591426196287 L 0.20660043496654026, 0.9784253984191316 L 0.21448143636839317, 0.9767280652532468 \", \"type\": \"path\"}, {\"fillcolor\": \"#e6c4a9\", \"layer\": \"below\", \"line\": {\"color\": \"rgb(175,175,175)\", \"width\": 0.5}, \"path\": \"M 0.16406872325943544,0.9864489110177064 Q -0.16778183011177625, 0.10885429474459452 -0.8339498429707505, -0.551840248087307L -0.8339498429707505, -0.551840248087307 L -0.8389731295900215, -0.5441728473802465 L -0.8439259236381199, -0.5364597239416452 M -0.8439259236381199,-0.5364597239416452 Q -0.1677965878316989, 0.10883154465520994 0.14568950415267073, 0.9893303636196298L 0.14568950415267073, 0.9893303636196298 L 0.1548858145688196, 0.9879323784780785 L 0.16406872325943544, 0.9864489110177064 \", \"type\": \"path\"}, {\"fillcolor\": \"#e6c4a9\", \"layer\": \"below\", \"line\": {\"color\": \"rgb(175,175,175)\", \"width\": 0.5}, \"path\": \"M 0.08829833904483289,0.996094073530168 Q -0.193248007667138, 0.05152870590924801 -0.41937044384625544, -0.9078151964073936L -0.41937044384625544, -0.9078151964073936 L -0.435313413200915, -0.9002789747002701 L -0.4511210118769426, -0.8924627906210564 M -0.4511210118769426,-0.8924627906210564 Q -0.19324682888587882, 0.05153312648725941 0.05316484970457265, 0.9985857493254598L 0.05316484970457265, 0.9985857493254598 L 0.07074256536806331, 0.9974946062235852 L 0.08829833904483289, 0.996094073530168 \", \"type\": \"path\"}, {\"fillcolor\": \"#e6c4a9\", \"layer\": \"below\", \"line\": {\"color\": \"rgb(175,175,175)\", \"width\": 0.5}, \"path\": \"M 0.27054324521701256,0.9627078230010637 Q -0.19728001077668744, 0.03287244055360182 -0.056235812747739894, -0.9984175145522043L -0.056235812747739894, -0.9984175145522043 L -0.058391382955538536, -0.9982937675837407 L -0.0605466809546072, -0.9981653667731519 M -0.0605466809546072,-0.9981653667731519 Q -0.19731492671800818, 0.03266220590020012 0.26432879003379045, 0.9644326263452893L 0.26432879003379045, 0.9644326263452893 L 0.26743740811632555, 0.9635752346028938 L 0.27054324521701256, 0.9627078230010637 \", \"type\": \"path\"}, {\"fillcolor\": \"#e6c4a9\", \"layer\": \"below\", \"line\": {\"color\": \"rgb(175,175,175)\", \"width\": 0.5}, \"path\": \"M 0.015733244197045138,0.9998762248533746 Q -0.1970763874482726, -0.034071946089684155 0.3505172563110134, -0.9365562732843122L 0.3505172563110134, -0.9365562732843122 L 0.3216445207610345, -0.946860497784338 L 0.2924694998626539, -0.9562748515202567 M 0.2924694998626539,-0.9562748515202567 Q -0.1970898325929568, -0.03399408608096808 -0.04477611221763142, 0.9989970469299067L -0.04477611221763142, 0.9989970469299067 L -0.014528086046364588, 0.9998944617887577 L 0.015733244197045138, 0.9998762248533746 \", \"type\": \"path\"}, {\"fillcolor\": \"#e6c4a9\", \"layer\": \"below\", \"line\": {\"color\": \"rgb(175,175,175)\", \"width\": 0.5}, \"path\": \"M 0.05316484970457265,0.9985857493254598 Q -0.1763780429451024, -0.09429096439667813 0.8598977631556413, -0.51046629361783L 0.8598977631556413, -0.51046629361783 L 0.8503418587214601, -0.5262306749954173 L 0.8404969817377702, -0.5418162268608225 M 0.8404969817377702,-0.5418162268608225 Q -0.17635038461758223, -0.0943426830508377 0.015733244197045138, 0.9998762248533746L 0.015733244197045138, 0.9998762248533746 L 0.0344550891392124, 0.999406247144978 L 0.05316484970457265, 0.9985857493254598 \", \"type\": \"path\"}, {\"fillcolor\": \"#e6c4a9\", \"layer\": \"below\", \"line\": {\"color\": \"rgb(175,175,175)\", \"width\": 0.5}, \"path\": \"M 0.18165943089209052,0.9833615058400251 Q -0.17292396163971757, -0.10048533968109724 0.9443062693679498, -0.32906787997673825L 0.9443062693679498, -0.32906787997673825 L 0.9417317660121279, -0.33636480327715435 L 0.9391008782022566, -0.34364158735483447 M 0.9391008782022566,-0.34364158735483447 Q -0.17280404808481956, -0.10069141455704836 0.16406872325943544, 0.9864489110177064L 0.16406872325943544, 0.9864489110177064 L 0.1728709696881986, 0.9849444795718497 L 0.18165943089209052, 0.9833615058400251 \", \"type\": \"path\"}, {\"fillcolor\": \"#e6c4a9\", \"layer\": \"below\", \"line\": {\"color\": \"rgb(175,175,175)\", \"width\": 0.5}, \"path\": \"M 0.2746004746208199,0.9615584118180344 Q -0.1730581384783027, -0.1002540807469931 0.970743209739482, -0.2401200132114938L 0.970743209739482, -0.2401200132114938 L 0.9703197343057499, -0.24182558428921205 L 0.9698932622295613, -0.24353040853597618 M 0.9698932622295613,-0.24353040853597618 Q -0.17302292912293038, -0.10031483438515665 0.27054324521701256, 0.9627078230010637L 0.27054324521701256, 0.9627078230010637 L 0.27257246578877736, 0.962135256028915 L 0.2746004746208199, 0.9615584118180344 \", \"type\": \"path\"}, {\"fillcolor\": \"#e6c4a9\", \"layer\": \"below\", \"line\": {\"color\": \"rgb(175,175,175)\", \"width\": 0.5}, \"path\": \"M 0.26432879003379045,0.9644326263452893 Q -0.16411144034675926, -0.1143128826830646 0.996264126676301, -0.08635849638516838L 0.996264126676301, -0.08635849638516838 L 0.9960434068332478, -0.08886805783867073 L 0.9958163654852337, -0.09137705528074082 M 0.9958163654852337,-0.09137705528074082 Q -0.16401656497057632, -0.1144489686072038 0.2578636838226611, 0.966181308329553L 0.2578636838226611, 0.966181308329553 L 0.2610977008903962, 0.9653123797972081 L 0.26432879003379045, 0.9644326263452893 \", \"type\": \"path\"}, {\"fillcolor\": \"#e1b396\", \"layer\": \"below\", \"line\": {\"color\": \"rgb(175,175,175)\", \"width\": 0.5}, \"path\": \"M -0.34722782726521423,0.9377808037983495 Q -0.1073744311272798, 0.16873272219724617 -0.702452254105756, 0.7117308695720191L -0.702452254105756, 0.7117308695720191 L -0.6974887375159224, 0.7165957445020481 L -0.6924915297753537, 0.7214260053459332 M -0.6924915297753537,0.7214260053459332 Q -0.10766241824827426, 0.1685491136047107 -0.36341316266947954, 0.9316280766478469L -0.36341316266947954, 0.9316280766478469 L -0.3553338122902007, 0.9347394727106118 L -0.34722782726521423, 0.9377808037983495 \", \"type\": \"path\"}, {\"fillcolor\": \"#e1b396\", \"layer\": \"below\", \"line\": {\"color\": \"rgb(175,175,175)\", \"width\": 0.5}, \"path\": \"M -0.36341316266947954,0.9316280766478469 Q -0.12190889492516872, 0.15855037476500702 -0.8069931624427259, 0.5905607807590072L -0.8069931624427259, 0.5905607807590072 L -0.8017328700819593, 0.5976825286304965 L -0.7964097299067887, 0.604757424187414 M -0.7964097299067887,0.604757424187414 Q -0.12207108293421057, 0.15842553680284344 -0.38174478684978796, 0.92426777381504L -0.38174478684978796, 0.92426777381504 L -0.37259714967695007, 0.9279931918137182 L -0.36341316266947954, 0.9316280766478469 \", \"type\": \"path\"}, {\"fillcolor\": \"#e1b396\", \"layer\": \"below\", \"line\": {\"color\": \"rgb(175,175,175)\", \"width\": 0.5}, \"path\": \"M -0.4545974425979596,0.890697010875974 Q -0.150124068070333, 0.13214675246109542 -0.9411715836719114, 0.3379290607339154L -0.9411715836719114, 0.3379290607339154 L -0.934679859202147, 0.3554905917205892 L -0.9278604828412234, 0.3729275055311044 M -0.9278604828412234,0.3729275055311044 Q -0.15022805277069726, 0.13202852782911959 -0.48899844454904917, 0.872284656077711L -0.48899844454904917, 0.872284656077711 L -0.47188775494018886, 0.8816586339040231 L -0.4545974425979596, 0.890697010875974 \", \"type\": \"path\"}, {\"fillcolor\": \"#e1b396\", \"layer\": \"below\", \"line\": {\"color\": \"rgb(175,175,175)\", \"width\": 0.5}, \"path\": \"M -0.2716510050222098,0.9623958288928851 Q -0.14203226827230822, 0.14080779370980523 -0.9647117804241103, 0.263308147824831L -0.9647117804241103, 0.263308147824831 L -0.9644943891772316, 0.26410333819480364 L -0.9642763424728144, 0.26489834908366583 M -0.9642763424728144,0.26489834908366583 Q -0.14208788121651517, 0.1407516749861311 -0.27399729665087946, 0.9617304619424353L -0.27399729665087946, 0.9617304619424353 L -0.27282435367462404, 0.9620638606880645 L -0.2716510050222098, 0.9623958288928851 \", \"type\": \"path\"}, {\"fillcolor\": \"#e1b396\", \"layer\": \"below\", \"line\": {\"color\": \"rgb(175,175,175)\", \"width\": 0.5}, \"path\": \"M -0.2987650557518577,0.954326695352063 Q -0.1545464325521977, 0.1269464461313865 -0.994181649658465, 0.10771651443661336L -0.994181649658465, 0.10771651443661336 L -0.9936910076106371, 0.11215249169660343 L -0.9931805726053854, 0.11658623503329531 M -0.9931805726053854,0.11658623503329531 Q -0.15466092007237786, 0.1268069390939059 -0.30898831805778665, 0.9510658333174523L -0.30898831805778665, 0.9510658333174523 L -0.3038810608602542, 0.9527099773018264 L -0.2987650557518577, 0.954326695352063 \", \"type\": \"path\"}, {\"fillcolor\": \"#e1b396\", \"layer\": \"below\", \"line\": {\"color\": \"rgb(175,175,175)\", \"width\": 0.5}, \"path\": \"M -0.28406760571513173,0.9588042529021616 Q -0.15843636468089595, 0.12205702907535541 -0.9995476764230642, 0.030073951473881644L -0.9995476764230642, 0.030073951473881644 L -0.9994527228011068, 0.033079523658209015 L -0.9993487316475472, 0.036084796721593426 M -0.9993487316475472,0.036084796721593426 Q -0.15848606084680192, 0.12199249369229159 -0.29060829110982594, 0.9568421087819174L -0.29060829110982594, 0.9568421087819174 L -0.28733962326884116, 0.9578287638715599 L -0.28406760571513173, 0.9588042529021616 \", \"type\": \"path\"}, {\"fillcolor\": \"#e1b396\", \"layer\": \"below\", \"line\": {\"color\": \"rgb(175,175,175)\", \"width\": 0.5}, \"path\": \"M -0.27821650541597304,0.9605183892639036 Q -0.16810513922908402, 0.10835433616044299 -0.9896825232304424, -0.14327771359225758L -0.9896825232304424, -0.14327771359225758 L -0.9900674953748386, -0.14059286824798028 L -0.9904451839906045, -0.13790698861847955 M -0.9904451839906045,-0.13790698861847955 Q -0.16814155936000014, 0.10829781168605189 -0.28406760571513173, 0.9588042529021616L -0.28406760571513173, 0.9588042529021616 L -0.2811433619587892, 0.9596657803769546 L -0.27821650541597304, 0.9605183892639036 \", \"type\": \"path\"}, {\"fillcolor\": \"#e1b396\", \"layer\": \"below\", \"line\": {\"color\": \"rgb(175,175,175)\", \"width\": 0.5}, \"path\": \"M -0.31940711642442204,0.9476175884698614 Q -0.1802696361690812, 0.08661904106757987 -0.9394259515157651, -0.3427519243107167L -0.9394259515157651, -0.3427519243107167 L -0.941609219056678, -0.3367077049719429 L -0.9437535988481635, -0.3306495798593123 M -0.9437535988481635,-0.3306495798593123 Q -0.18033610931359417, 0.086480562426683 -0.33300883781403257, 0.9429237052581441L -0.33300883781403257, 0.9429237052581441 L -0.3262164196834974, 0.9452951113429501 L -0.31940711642442204, 0.9476175884698614 \", \"type\": \"path\"}, {\"fillcolor\": \"#e1b396\", \"layer\": \"below\", \"line\": {\"color\": \"rgb(175,175,175)\", \"width\": 0.5}, \"path\": \"M -0.33300883781403257,0.9429237052581441 Q -0.18848637245253927, 0.06687964862110637 -0.8528534941287318, -0.522150282535989L -0.8528534941287318, -0.522150282535989 L -0.8567855982151764, -0.5156728019694875 L -0.8606685063605393, -0.5091657118847639 M -0.8606685063605393,-0.5091657118847639 Q -0.1884852188378187, 0.0668828997551661 -0.34722782726521423, 0.9377808037983495L -0.34722782726521423, 0.9377808037983495 L -0.34012805307470617, 0.9403791296661203 L -0.33300883781403257, 0.9429237052581441 \", \"type\": \"path\"}, {\"fillcolor\": \"#e1b396\", \"layer\": \"below\", \"line\": {\"color\": \"rgb(175,175,175)\", \"width\": 0.5}, \"path\": \"M -0.38174478684978796,0.92426777381504 Q -0.19971576770254268, 0.010658899145034203 -0.4779530065153341, -0.8783854071892093L -0.4779530065153341, -0.8783854071892093 L -0.4886076426757142, -0.872503622639403 L -0.49918990790342416, -0.866492605766126 M -0.49918990790342416,-0.866492605766126 Q -0.19971341557170308, 0.010702880018211512 -0.40372398151131816, 0.9148808374606219L -0.40372398151131816, 0.9148808374606219 L -0.39276242839814585, 0.9196399702268228 L -0.38174478684978796, 0.92426777381504 \", \"type\": \"path\"}, {\"fillcolor\": \"#e1b396\", \"layer\": \"below\", \"line\": {\"color\": \"rgb(175,175,175)\", \"width\": 0.5}, \"path\": \"M -0.27399729665087946,0.9617304619424353 Q -0.19890212105354493, -0.020927165130541672 -0.06783938209522929, -0.997696255499106L -0.06783938209522929, -0.997696255499106 L -0.0693306373745532, -0.9975937363081417 L -0.07082173774479378, -0.9974889881411261 M -0.07082173774479378,-0.9974889881411261 Q -0.19888742004363366, -0.02106642229680282 -0.27821650541597304, 0.9605183892639036L -0.27821650541597304, 0.9605183892639036 L -0.27610756613741444, 0.9611267408212474 L -0.27399729665087946, 0.9617304619424353 \", \"type\": \"path\"}, {\"fillcolor\": \"#e1b396\", \"layer\": \"below\", \"line\": {\"color\": \"rgb(175,175,175)\", \"width\": 0.5}, \"path\": \"M -0.48899844454904917,0.872284656077711 Q -0.18390903998788288, -0.07859685115025472 0.2924694998626539, -0.9562748515202567L 0.2924694998626539, -0.9562748515202567 L 0.2728247861533771, -0.962063738044608 L 0.25306564263973247, -0.9674491100390444 M 0.25306564263973247,-0.9674491100390444 Q -0.18395647407476715, -0.07848576715545005 -0.5232785923307273, 0.8521616717550564L -0.5232785923307273, 0.8521616717550564 L -0.5062385144109817, 0.8623935102532732 L -0.48899844454904917, 0.872284656077711 \", \"type\": \"path\"}, {\"fillcolor\": \"#e1b396\", \"layer\": \"below\", \"line\": {\"color\": \"rgb(175,175,175)\", \"width\": 0.5}, \"path\": \"M -0.40372398151131816,0.9148808374606219 Q -0.1602306557609593, -0.11969184163681734 0.7627593333419971, -0.646682456387733L 0.7627593333419971, -0.646682456387733 L 0.7540865095178542, -0.6567751031846284 L 0.7452801525127494, -0.6667514486452751 M 0.7452801525127494,-0.6667514486452751 Q -0.16023253427348408, -0.1196893268436946 -0.4278987949764746, 0.9038266544297534L -0.4278987949764746, 0.9038266544297534 L -0.4158481205126895, 0.9094340771414186 L -0.40372398151131816, 0.9148808374606219 \", \"type\": \"path\"}, {\"fillcolor\": \"#e1b396\", \"layer\": \"below\", \"line\": {\"color\": \"rgb(175,175,175)\", \"width\": 0.5}, \"path\": \"M -0.29060829110982594,0.9568421087819174 Q -0.14808125230757377, -0.13443192595146689 0.9243700467078402, -0.3814970730547555L 0.9243700467078402, -0.3814970730547555 L 0.9229285373155225, -0.3849713171245752 L 0.9214739700338286, -0.3884401144965525 M 0.9214739700338286,-0.3884401144965525 Q -0.14801314460402692, -0.1345069106939395 -0.2987650557518577, 0.954326695352063L -0.2987650557518577, 0.954326695352063 L -0.2946893573305905, 0.9555931051844627 L -0.29060829110982594, 0.9568421087819174 \", \"type\": \"path\"}, {\"fillcolor\": \"#e1b396\", \"layer\": \"below\", \"line\": {\"color\": \"rgb(175,175,175)\", \"width\": 0.5}, \"path\": \"M -0.30898831805778665,0.9510658333174523 Q -0.13321043812497815, -0.14918102819913587 0.9798394791592611, -0.19978637361168566L 0.9798394791592611, -0.19978637361168566 L 0.9788995089934904, -0.2043422405972476 L 0.9779383559632148, -0.2088936857254538 M 0.9779383559632148,-0.2088936857254538 Q -0.1330857513330924, -0.14929227304889658 -0.31940711642442204, 0.9476175884698614L -0.31940711642442204, 0.9476175884698614 L -0.3142024476633708, 0.9493560037637866 L -0.30898831805778665, 0.9510658333174523 \", \"type\": \"path\"}, {\"fillcolor\": \"#e1b396\", \"layer\": \"below\", \"line\": {\"color\": \"rgb(175,175,175)\", \"width\": 0.5}, \"path\": \"M -0.26953796071344394,0.9629897651244472 Q -0.12881687558858582, -0.15299089045951333 0.9948260734548814, -0.10159273386587717L 0.9948260734548814, -0.10159273386587717 L 0.9947404102095, -0.1024281030588559 L 0.9946540454931952, -0.10326340002159809 M 0.9946540454931952,-0.10326340002159809 Q -0.12877744323835985, -0.15302408344110743 -0.2716510050222098, 0.9623958288928851L -0.2716510050222098, 0.9623958288928851 L -0.2705946458239121, 0.9626933767568112 L -0.26953796071344394, 0.9629897651244472 \", \"type\": \"path\"}, {\"fillcolor\": \"#dba284\", \"layer\": \"below\", \"line\": {\"color\": \"rgb(175,175,175)\", \"width\": 0.5}, \"path\": \"M -0.702452254105756,0.7117308695720191 Q -0.15263741119623894, 0.12923552415381104 -0.8178270883176916, 0.5754640332929649L -0.8178270883176916, 0.5754640332929649 L -0.8124451918537643, 0.5830375718885534 L -0.8069931624427259, 0.5905607807590072 M -0.8069931624427259,0.5905607807590072 Q -0.1525119109921821, 0.12938360408302413 -0.714198396741403, 0.6999433191994975L -0.714198396741403, 0.6999433191994975 L -0.7083498452194127, 0.7058615280475584 L -0.702452254105756, 0.7117308695720191 \", \"type\": \"path\"}, {\"fillcolor\": \"#dba284\", \"layer\": \"below\", \"line\": {\"color\": \"rgb(175,175,175)\", \"width\": 0.5}, \"path\": \"M -0.6550363359118837,0.7555973786581938 Q -0.1542137813456043, 0.12735034213966664 -0.8658293439874492, 0.5003394318762648L -0.8658293439874492, 0.5003394318762648 L -0.8640086047520936, 0.5034770410995326 L -0.8621764954373893, 0.5066080247245413 M -0.8621764954373893,0.5066080247245413 Q -0.1541382246490528, 0.1274417816182673 -0.6596100321129024, 0.7516080132196675L -0.6596100321129024, 0.7516080132196675 L -0.6573262104916711, 0.7536061657130064 L -0.6550363359118837, 0.7555973786581938 \", \"type\": \"path\"}, {\"fillcolor\": \"#dba284\", \"layer\": \"below\", \"line\": {\"color\": \"rgb(175,175,175)\", \"width\": 0.5}, \"path\": \"M -0.6710101942245177,0.7414481230988281 Q -0.1777634182715534, 0.0916524256330009 -0.9931805726053854, 0.11658623503329531L -0.9931805726053854, 0.11658623503329531 L -0.9926626248329943, 0.12091696845219908 L -0.9921257931214792, 0.12524540160451306 M -0.9921257931214792,0.12524540160451306 Q -0.17774944906375034, 0.09167951438316652 -0.6772281610358828, 0.7357730750033983L -0.6772281610358828, 0.7357730750033983 L -0.6741251495023302, 0.7386171422384271 L -0.6710101942245177, 0.7414481230988281 \", \"type\": \"path\"}, {\"fillcolor\": \"#dba284\", \"layer\": \"below\", \"line\": {\"color\": \"rgb(175,175,175)\", \"width\": 0.5}, \"path\": \"M -0.6473102351959716,0.7622266456970236 Q -0.17934282458732326, 0.08852203832402758 -0.9987367882548376, 0.050247664487134865L -0.9987367882548376, 0.050247664487134865 L -0.9987205473056568, 0.050569441261391006 L -0.9987042026852275, 0.05089121278633378 M -0.9987042026852275,0.05089121278633378 Q -0.17934029979862132, 0.08852715328158153 -0.6477578030406751, 0.7618463287303536L -0.6477578030406751, 0.7618463287303536 L -0.647534047039828, 0.7620365200725105 L -0.6473102351959716, 0.7622266456970236 \", \"type\": \"path\"}, {\"fillcolor\": \"#dba284\", \"layer\": \"below\", \"line\": {\"color\": \"rgb(175,175,175)\", \"width\": 0.5}, \"path\": \"M -0.6477578030406751,0.7618463287303536 Q -0.1863015938392983, 0.07274418281166632 -0.9926109611478411, -0.12134034699620397L -0.9926109611478411, -0.12134034699620397 L -0.9926897377471937, -0.12069417786872647 L -0.9927680937039052, -0.12004795759826255 M -0.9927680937039052,-0.12004795759826255 Q -0.18629696532103465, 0.07275603557213119 -0.6486522682281151, 0.761084906513407L -0.6486522682281151, 0.761084906513407 L -0.6482051474361612, 0.7614657489587201 L -0.6477578030406751, 0.7618463287303536 \", \"type\": \"path\"}, {\"fillcolor\": \"#dba284\", \"layer\": \"below\", \"line\": {\"color\": \"rgb(175,175,175)\", \"width\": 0.5}, \"path\": \"M -0.6495458383845516,0.7603224341273312 Q -0.19649355176628824, 0.037286513839041246 -0.882920554410519, -0.46952241117908505L -0.882920554410519, -0.46952241117908505 L -0.8837226438587612, -0.4680109921051867 L -0.8845221460012002, -0.46649820281908 M -0.8845221460012002,-0.46649820281908 Q -0.19648083971501856, 0.037353441941555925 -0.6516273478164488, 0.7585392538146598L -0.6516273478164488, 0.7585392538146598 L -0.6505872040358022, 0.7594315571168198 L -0.6495458383845516, 0.7603224341273312 \", \"type\": \"path\"}, {\"fillcolor\": \"#dba284\", \"layer\": \"below\", \"line\": {\"color\": \"rgb(175,175,175)\", \"width\": 0.5}, \"path\": \"M -0.6486522682281151,0.761084906513407 Q -0.19990254456479453, -0.0062428099859230535 -0.5998983499734128, -0.8000762274303472L -0.5998983499734128, -0.8000762274303472 L -0.6004943411108983, -0.7996290054105016 L -0.6010899988461358, -0.7991813394262609 M -0.6010899988461358,-0.7991813394262609 Q -0.19990352715981768, -0.006211266301169145 -0.6495458383845516, 0.7603224341273312L -0.6495458383845516, 0.7603224341273312 L -0.6490991652622987, 0.760703801525789 L -0.6486522682281151, 0.761084906513407 \", \"type\": \"path\"}, {\"fillcolor\": \"#dba284\", \"layer\": \"below\", \"line\": {\"color\": \"rgb(175,175,175)\", \"width\": 0.5}, \"path\": \"M -0.6648909199666029,0.746940469211546 Q -0.18544074525769028, -0.07491148108449351 0.04047993396731593, -0.9991803515612193L 0.04047993396731593, -0.9991803515612193 L 0.035206600521528325, -0.9993800554742512 L 0.029932286644889502, -0.99955192872417 M 0.029932286644889502,-0.99955192872417 Q -0.18552795110263998, -0.07469524321974211 -0.6710101942245177, 0.7414481230988281L -0.6710101942245177, 0.7414481230988281 L -0.667956202299765, 0.7442005857356438 L -0.6648909199666029, 0.746940469211546 \", \"type\": \"path\"}, {\"fillcolor\": \"#dba284\", \"layer\": \"below\", \"line\": {\"color\": \"rgb(175,175,175)\", \"width\": 0.5}, \"path\": \"M -0.6516273478164488,0.7585392538146598 Q -0.15123840528241367, -0.1308699536472463 0.6570637337703197, -0.7538350282149314L 0.6570637337703197, -0.7538350282149314 L 0.6549444191366538, -0.7556770526102742 L 0.6528199405620221, -0.7575131188333295 M 0.6528199405620221,-0.7575131188333295 Q -0.15131121207720835, -0.1307857679555619 -0.6550363359118837, 0.7555973786581938L -0.6550363359118837, 0.7555973786581938 L -0.6533334977260717, 0.7570702350172123 L -0.6516273478164488, 0.7585392538146598 \", \"type\": \"path\"}, {\"fillcolor\": \"#dba284\", \"layer\": \"below\", \"line\": {\"color\": \"rgb(175,175,175)\", \"width\": 0.5}, \"path\": \"M -0.6596100321129024,0.7516080132196675 Q -0.10188244784954273, -0.17210452295098236 0.9762222390865053, -0.2167720920988912L 0.9762222390865053, -0.2167720920988912 L 0.9754087717171808, -0.22040355726979688 L 0.9745817956499301, -0.22403197001267006 M 0.9745817956499301,-0.22403197001267006 Q -0.1019164322479222, -0.17208440033267014 -0.6648909199666029, 0.746940469211546L -0.6648909199666029, 0.746940469211546 L -0.6622545881355943, 0.7492788936660062 L -0.6596100321129024, 0.7516080132196675 \", \"type\": \"path\"}, {\"fillcolor\": \"#d59171\", \"layer\": \"below\", \"line\": {\"color\": \"rgb(175,175,175)\", \"width\": 0.5}, \"path\": \"M -0.7449421680535359,0.6671290476779568 Q -0.16289436432637433, 0.11604062250223597 -0.8739097694904441, 0.48608817594049636L -0.8739097694904441, 0.48608817594049636 L -0.8717969435336352, 0.48986742006936085 L -0.8696677742438825, 0.4936374807910066 M -0.8696677742438825,0.4936374807910066 Q -0.16286123911872047, 0.11608710864137739 -0.7503139418987469, 0.6610816807266436L -0.7503139418987469, 0.6610816807266436 L -0.7476341693964833, 0.6641107955385386 L -0.7449421680535359, 0.6671290476779568 \", \"type\": \"path\"}, {\"fillcolor\": \"#d59171\", \"layer\": \"below\", \"line\": {\"color\": \"rgb(175,175,175)\", \"width\": 0.5}, \"path\": \"M -0.7696343405982926,0.6384849111543917 Q -0.18467314118651074, 0.07678431431162928 -0.9954384618511168, 0.095405810449273L -0.9954384618511168, 0.095405810449273 L -0.99482909858378, 0.10156310654457078 L -0.994181649658465, 0.10771651443661336 M -0.994181649658465,0.10771651443661336 Q -0.18471000099658363, 0.07669560308024231 -0.7780801160482883, 0.628165052363057L -0.7780801160482883, 0.628165052363057 L -0.7738744308345984, 0.6333390602990048 L -0.7696343405982926, 0.6384849111543917 \", \"type\": \"path\"}, {\"fillcolor\": \"#d59171\", \"layer\": \"below\", \"line\": {\"color\": \"rgb(175,175,175)\", \"width\": 0.5}, \"path\": \"M -0.7373103461016253,0.6755541825283162 Q -0.18458905315033222, 0.07698624199857944 -0.9988216556891533, 0.04853143441501194L -0.9988216556891533, 0.04853143441501194 L -0.9987954514095791, 0.04906777194386451 L -0.9987689591327209, 0.04960409532429 M -0.9987689591327209,0.04960409532429 Q -0.18458978882474475, 0.07698447805652868 -0.7380483312355002, 0.6747478497635198L -0.7380483312355002, 0.6747478497635198 L -0.7376794488404973, 0.6751511169792879 L -0.7373103461016253, 0.6755541825283162 \", \"type\": \"path\"}, {\"fillcolor\": \"#d59171\", \"layer\": \"below\", \"line\": {\"color\": \"rgb(175,175,175)\", \"width\": 0.5}, \"path\": \"M -0.7417250120647101,0.6707041124651061 Q -0.19116133241055622, 0.05879919209496709 -0.9904451839906045, -0.13790698861847955L -0.9904451839906045, -0.13790698861847955 L -0.990771522829876, -0.13554257467441205 L -0.9910922172929866, -0.13317738855102765 M -0.9910922172929866,-0.13317738855102765 Q -0.1911623859177065, 0.058795766941590645 -0.7449421680535359, 0.6671290476779568L -0.7449421680535359, 0.6671290476779568 L -0.7433357393414111, 0.6689185141837217 L -0.7417250120647101, 0.6707041124651061 \", \"type\": \"path\"}, {\"fillcolor\": \"#d59171\", \"layer\": \"below\", \"line\": {\"color\": \"rgb(175,175,175)\", \"width\": 0.5}, \"path\": \"M -0.7380483312355002,0.6747478497635198 Q -0.19522193227629137, 0.04345569189773784 -0.9545732215346037, -0.2979764499571208L -0.9545732215346037, -0.2979764499571208 L -0.9548325111205102, -0.2971445367280051 L -0.9550910756918648, -0.2963123978738599 M -0.9550910756918648,-0.2963123978738599 Q -0.1952220656378206, 0.04345509277521413 -0.7392272729056982, 0.6734560408760206L -0.7392272729056982, 0.6734560408760206 L -0.73863808447726, 0.6741022030521515 L -0.7380483312355002, 0.6747478497635198 \", \"type\": \"path\"}, {\"fillcolor\": \"#d59171\", \"layer\": \"below\", \"line\": {\"color\": \"rgb(175,175,175)\", \"width\": 0.5}, \"path\": \"M -0.7392272729056982,0.6734560408760206 Q -0.19857801268365852, 0.023806992220958015 -0.8774682682160729, -0.47963469252534885L -0.8774682682160729, -0.47963469252534885 L -0.8784629196740875, -0.4778105260013405 L -0.8794537788823205, -0.4759842968098913 M -0.8794537788823205,-0.4759842968098913 Q -0.19857278212741292, 0.023850580667543624 -0.7417250120647101, 0.6707041124651061L -0.7417250120647101, 0.6707041124651061 L -0.7404774209030703, 0.6720812370039333 L -0.7392272729056982, 0.6734560408760206 \", \"type\": \"path\"}, {\"fillcolor\": \"#d59171\", \"layer\": \"below\", \"line\": {\"color\": \"rgb(175,175,175)\", \"width\": 0.5}, \"path\": \"M -0.7559229325717551,0.6546606143736751 Q -0.19820929500748238, -0.026703471172056032 -0.5557195521405116, -0.8313698210596469L -0.5557195521405116, -0.8313698210596469 L -0.5603569157430579, -0.8282512462887862 L -0.5649767790350141, -0.8251068046933202 M -0.5649767790350141,-0.8251068046933202 Q -0.19822713244518486, -0.026570735077508695 -0.762326539662025, 0.6471925887453618L -0.762326539662025, 0.6471925887453618 L -0.7591339195663928, 0.6509344760909238 L -0.7559229325717551, 0.6546606143736751 \", \"type\": \"path\"}, {\"fillcolor\": \"#d59171\", \"layer\": \"below\", \"line\": {\"color\": \"rgb(175,175,175)\", \"width\": 0.5}, \"path\": \"M -0.7780801160482883,0.628165052363057 Q -0.17674532927193065, -0.09360068685942867 0.08236325646146463, -0.9966023750649318L 0.08236325646146463, -0.9966023750649318 L 0.07409607783288535, -0.9972511074196825 L 0.0658238038321978, -0.9978312617116485 M 0.0658238038321978,-0.9978312617116485 Q -0.17684616328487204, -0.09341003442575307 -0.7870622789912497, 0.6168735437584435L -0.7870622789912497, 0.6168735437584435 L -0.7825915625210684, 0.622535498000582 L -0.7780801160482883, 0.628165052363057 \", \"type\": \"path\"}, {\"fillcolor\": \"#d59171\", \"layer\": \"below\", \"line\": {\"color\": \"rgb(175,175,175)\", \"width\": 0.5}, \"path\": \"M -0.762326539662025,0.6471925887453618 Q -0.13687384126185695, -0.14582712908860268 0.6941337705154731, -0.7198460311969307L 0.6941337705154731, -0.7198460311969307 L 0.6895499455030475, -0.7242381325618973 L 0.684938330244481, -0.7286010456771951 M 0.684938330244481,-0.7286010456771951 Q -0.1369707059022471, -0.14573615105607848 -0.7696343405982926, 0.6384849111543917L -0.7696343405982926, 0.6384849111543917 L -0.7659928136570531, 0.642849134265382 L -0.762326539662025, 0.6471925887453618 \", \"type\": \"path\"}, {\"fillcolor\": \"#d59171\", \"layer\": \"below\", \"line\": {\"color\": \"rgb(175,175,175)\", \"width\": 0.5}, \"path\": \"M -0.7358317339134408,0.6771644256500332 Q -0.11021829434528999, -0.16688896785472376 0.9116803571530201, -0.41090014161757316L 0.9116803571530201, -0.41090014161757316 L 0.9114594296652593, -0.4113899707993382 L 0.911238239001261, -0.4118796811957114 M 0.911238239001261,-0.4118796811957114 Q -0.11021676121172329, -0.16688998037029656 -0.736571480033341, 0.6763597081446332L -0.736571480033341, 0.6763597081446332 L -0.7362017169246272, 0.6767621679713125 L -0.7358317339134408, 0.6771644256500332 \", \"type\": \"path\"}, {\"fillcolor\": \"#d59171\", \"layer\": \"below\", \"line\": {\"color\": \"rgb(175,175,175)\", \"width\": 0.5}, \"path\": \"M -0.7503139418987469,0.6610816807266436 Q -0.0899260814286742, -0.17864293962786063 0.9779383559632148, -0.2088936857254538L 0.9779383559632148, -0.2088936857254538 L 0.9770882381509948, -0.21283461858209293 L 0.9762222390865053, -0.2167720920988912 M 0.9762222390865053,-0.2167720920988912 Q -0.08988474544442918, -0.17866374152689787 -0.7559229325717551, 0.6546606143736751L -0.7559229325717551, 0.6546606143736751 L -0.7531252804327735, 0.6578771252848484 L -0.7503139418987469, 0.6610816807266436 \", \"type\": \"path\"}, {\"fillcolor\": \"#d0805f\", \"layer\": \"below\", \"line\": {\"color\": \"rgb(175,175,175)\", \"width\": 0.5}, \"path\": \"M -0.8658293439874492,0.5003394318762648 Q -0.18550807596561766, 0.07474459011550355 -0.9708490281854044, 0.23969181144014062L -0.9708490281854044, 0.23969181144014062 L -0.9701933734801105, 0.2423320409175866 L -0.969530538669776, 0.24497047696956037 M -0.969530538669776,0.24497047696956037 Q -0.18559325723242168, 0.0745328308187752 -0.8696677742438825, 0.4936374807910066L -0.8696677742438825, 0.4936374807910066 L -0.8677550293051614, 0.4969921620263226 L -0.8658293439874492, 0.5003394318762648 \", \"type\": \"path\"}, {\"fillcolor\": \"#d0805f\", \"layer\": \"below\", \"line\": {\"color\": \"rgb(175,175,175)\", \"width\": 0.5}, \"path\": \"M -0.8739097694904441,0.48608817594049636 Q -0.18981900638429028, 0.06299797469189607 -0.9911308224235369, 0.13288977704113783L -0.9911308224235369, 0.13288977704113783 L -0.9906251076251269, 0.13660855076716757 L -0.9901054398468322, 0.14032540035827815 M -0.9901054398468322,0.14032540035827815 Q -0.18985530871800568, 0.06288848663778421 -0.8780862332781325, 0.4785024210256632L -0.8780862332781325, 0.4785024210256632 L -0.8760062125057531, 0.4822998192528435 L -0.8739097694904441, 0.48608817594049636 \", \"type\": \"path\"}, {\"fillcolor\": \"#d0805f\", \"layer\": \"below\", \"line\": {\"color\": \"rgb(175,175,175)\", \"width\": 0.5}, \"path\": \"M -0.852173401042271,0.523259490650718 Q -0.1913233308749559, 0.05826991559039832 -0.9991758016247866, 0.040592086020122396L -0.9991758016247866, 0.040592086020122396 L -0.9991045760603805, 0.04230893635164226 L -0.9990304004917043, 0.04402566175975983 M -0.9990304004917043,0.04402566175975983 Q -0.19133230203774323, 0.05824045155163034 -0.8541268453828581, 0.5200647382743105L -0.8541268453828581, 0.5200647382743105 L -0.8531516186167034, 0.5216630288334597 L -0.852173401042271, 0.523259490650718 \", \"type\": \"path\"}, {\"fillcolor\": \"#d0805f\", \"layer\": \"below\", \"line\": {\"color\": \"rgb(175,175,175)\", \"width\": 0.5}, \"path\": \"M -0.8541268453828581,0.5200647382743105 Q -0.19574367590095, 0.041041605046389894 -0.9910922172929866, -0.13317738855102765L -0.9910922172929866, -0.13317738855102765 L -0.9913361595619624, -0.13134922437890326 L -0.9915767296105846, -0.12952061339716375 M -0.9915767296105846,-0.12952061339716375 Q -0.19574962394945603, 0.0410132262038304 -0.8561892562482218, 0.5166623244297156L -0.8561892562482218, 0.5166623244297156 L -0.8551597429601243, 0.5183645570642094 L -0.8541268453828581, 0.5200647382743105 \", \"type\": \"path\"}, {\"fillcolor\": \"#d0805f\", \"layer\": \"below\", \"line\": {\"color\": \"rgb(175,175,175)\", \"width\": 0.5}, \"path\": \"M -0.8507004744194275,0.5256507422448492 Q -0.1985406021358915, 0.02411699200807679 -0.9518069579856364, -0.30669775794767207L -0.9518069579856364, -0.30669775794767207 L -0.9522070222735749, -0.30545341172246165 L -0.952605459764414, -0.30420854364568634 M -0.952605459764414,-0.30420854364568634 Q -0.19854294457867375, 0.02409770026433418 -0.852173401042271, 0.523259490650718L -0.852173401042271, 0.523259490650718 L -0.8514377772060225, 0.5244556335348753 L -0.8507004744194275, 0.5256507422448492 \", \"type\": \"path\"}, {\"fillcolor\": \"#d0805f\", \"layer\": \"below\", \"line\": {\"color\": \"rgb(175,175,175)\", \"width\": 0.5}, \"path\": \"M -0.8878620521483174,0.4601097438166013 Q -0.1998059132544991, -0.008808917557543141 -0.8439259236381199, -0.5364597239416452L -0.8439259236381199, -0.5364597239416452 L -0.8484198772822567, -0.5293238251130971 L -0.8528534941287318, -0.522150282535989 M -0.8528534941287318,-0.522150282535989 Q -0.19980906010182795, -0.00873724792049023 -0.895176183428896, 0.445712464063633L -0.895176183428896, 0.445712464063633 L -0.8915481803013491, 0.4529258683287511 L -0.8878620521483174, 0.4601097438166013 \", \"type\": \"path\"}, {\"fillcolor\": \"#d0805f\", \"layer\": \"below\", \"line\": {\"color\": \"rgb(175,175,175)\", \"width\": 0.5}, \"path\": \"M -0.895176183428896,0.445712464063633 Q -0.19147164129302008, -0.05778071114616932 -0.49918990790342416, -0.866492605766126L -0.49918990790342416, -0.866492605766126 L -0.5091639101351493, -0.8606695722609726 L -0.5190699957873386, -0.854731735384461 M -0.5190699957873386,-0.854731735384461 Q -0.1915101134300157, -0.05765306977102369 -0.9046646600685101, 0.4261242222910206L -0.9046646600685101, 0.4261242222910206 L -0.8999737164408187, 0.43594415894206084 L -0.895176183428896, 0.445712464063633 \", \"type\": \"path\"}, {\"fillcolor\": \"#d0805f\", \"layer\": \"below\", \"line\": {\"color\": \"rgb(175,175,175)\", \"width\": 0.5}, \"path\": \"M -0.8493443968641166,0.5278390810801433 Q -0.17836442807058592, -0.09047723912152045 -0.07579091075044835, -0.9971237324663462L -0.07579091075044835, -0.9971237324663462 L -0.07670172534306428, -0.9970540834525463 L -0.07761247593313683, -0.9969836024627127 M -0.07761247593313683,-0.9969836024627127 Q -0.1783305997711921, -0.09054389645496218 -0.8507004744194275, 0.5256507422448492L -0.8507004744194275, 0.5256507422448492 L -0.8500231398621364, 0.5267453480562643 L -0.8493443968641166, 0.5278390810801433 \", \"type\": \"path\"}, {\"fillcolor\": \"#d0805f\", \"layer\": \"below\", \"line\": {\"color\": \"rgb(175,175,175)\", \"width\": 0.5}, \"path\": \"M -0.9159925119732474,0.4011953614000793 Q -0.15670544044652976, -0.12427149687059831 0.1819539696044706, -0.9833070491688624L 0.1819539696044706, -0.9833070491688624 L 0.16574522521308255, -0.9861686064355651 L 0.14949157846703115, -0.9887629988867077 M 0.14949157846703115,-0.9887629988867077 Q -0.1568457580273791, -0.12409435196179093 -0.9278604828412234, 0.3729275055311044L -0.9278604828412234, 0.3729275055311044 L -0.9220348336914558, 0.38710691734916 L -0.9159925119732474, 0.4011953614000793 \", \"type\": \"path\"}, {\"fillcolor\": \"#d0805f\", \"layer\": \"below\", \"line\": {\"color\": \"rgb(175,175,175)\", \"width\": 0.5}, \"path\": \"M -0.8827472744453018,0.46984811318062264 Q -0.12239541700520114, -0.15817509884973335 0.6763521947400508, -0.7365783791765249L 0.6763521947400508, -0.7365783791765249 L 0.6721146161473635, -0.7404471235416357 L 0.667854908681468, -0.7442914892366216 M 0.667854908681468,-0.7442914892366216 Q -0.12243306225675182, -0.15814596190366145 -0.8878620521483174, 0.4601097438166013L -0.8878620521483174, 0.4601097438166013 L -0.8853180534782655, 0.4649859612778164 L -0.8827472744453018, 0.46984811318062264 \", \"type\": \"path\"}, {\"fillcolor\": \"#d0805f\", \"layer\": \"below\", \"line\": {\"color\": \"rgb(175,175,175)\", \"width\": 0.5}, \"path\": \"M -0.8590778138538845,0.511845005586682 Q -0.09141259441673925, -0.17788686736800088 0.9163019738731483, -0.40048806808214926L 0.9163019738731483, -0.40048806808214926 L 0.915179353168176, -0.403046835410823 L 0.9140495871386384, -0.4056024559241286 M 0.9140495871386384,-0.4056024559241286 Q -0.09136841788320099, -0.17790956189457824 -0.8621764954373893, 0.5066080247245413L -0.8621764954373893, 0.5066080247245413 L -0.8606311380641434, 0.5092288721139222 L -0.8590778138538845, 0.511845005586682 \", \"type\": \"path\"}, {\"fillcolor\": \"#d0805f\", \"layer\": \"below\", \"line\": {\"color\": \"rgb(175,175,175)\", \"width\": 0.5}, \"path\": \"M -0.8561892562482218,0.5166623244297156 Q -0.07564168329799487, -0.18514409455298825 0.9730306259075705, -0.23067596547087796L 0.9730306259075705, -0.23067596547087796 L 0.9724553305487521, -0.23308931783185013 L 0.9718740494994618, -0.23550123547344234 M 0.9718740494994618,-0.23550123547344234 Q -0.07558104225283685, -0.18516885821318577 -0.8590778138538845, 0.511845005586682L -0.8590778138538845, 0.511845005586682 L -0.8576369173982513, 0.5142556931290359 L -0.8561892562482218, 0.5166623244297156 \", \"type\": \"path\"}, {\"fillcolor\": \"#d0805f\", \"layer\": \"below\", \"line\": {\"color\": \"rgb(175,175,175)\", \"width\": 0.5}, \"path\": \"M -0.8483546223925914,0.5294284037196376 Q -0.06493862022871345, -0.18916388556696262 0.9946540454931952, -0.10326340002159809L 0.9946540454931952, -0.10326340002159809 L 0.9945766880165332, -0.10400582509678735 L 0.9944987763824562, -0.10474819222209716 M 0.9944987763824562,-0.10474819222209716 Q -0.06490273123970344, -0.18917620219685885 -0.8493443968641166, 0.5278390810801433L -0.8493443968641166, 0.5278390810801433 L -0.8488498815944492, 0.5286339740473456 L -0.8483546223925914, 0.5294284037196376 \", \"type\": \"path\"}, {\"fillcolor\": \"#ca6f4c\", \"layer\": \"below\", \"line\": {\"color\": \"rgb(175,175,175)\", \"width\": 0.5}, \"path\": \"M -0.9639261047640945,0.26616999183664564 Q -0.1948548878590482, 0.04507297058590387 -0.9828962159228173, 0.18416033428674755L -0.9828962159228173, 0.18416033428674755 L -0.982746453515928, 0.18495785493421416 L -0.982596044001985, 0.18575525379285857 M -0.982596044001985,0.18575525379285857 Q -0.19484803613971302, 0.04510258099595961 -0.9642763424728144, 0.26489834908366583L -0.9642763424728144, 0.26489834908366583 L -0.9641014332794158, 0.2655342282052849 L -0.9639261047640945, 0.26616999183664564 \", \"type\": \"path\"}, {\"fillcolor\": \"#ca6f4c\", \"layer\": \"below\", \"line\": {\"color\": \"rgb(175,175,175)\", \"width\": 0.5}, \"path\": \"M -0.9632205990114483,0.2687118859299431 Q -0.19741862247951292, 0.03202947858288626 -0.9987689591327209, 0.04960409532429L -0.9987689591327209, 0.04960409532429 L -0.998752925531084, 0.049925882496967104 L -0.9987367882548376, 0.050247664487134865 M -0.9987367882548376,0.050247664487134865 Q -0.1974162237116052, 0.03204426025748527 -0.963353392070143, 0.26823542269236034L -0.963353392070143, 0.26823542269236034 L -0.9632870249994635, 0.26847366252145277 L -0.9632205990114483, 0.2687118859299431 \", \"type\": \"path\"}, {\"fillcolor\": \"#ca6f4c\", \"layer\": \"below\", \"line\": {\"color\": \"rgb(175,175,175)\", \"width\": 0.5}, \"path\": \"M -0.9670597820083678,0.25454936264294215 Q -0.19986810380640602, -0.007262305476342528 -0.9460356320641692, -0.32406262182631895L -0.9460356320641692, -0.32406262182631895 L -0.9469845825491146, -0.3212790071173016 L -0.9479253425474818, -0.3184926136604101 M -0.9479253425474818,-0.3184926136604101 Q -0.1998732461340099, -0.0071193735576598974 -0.968183348408839, 0.2502418907054706L -0.968183348408839, 0.2502418907054706 L -0.9676239621027223, 0.25239625188308445 L -0.9670597820083678, 0.25454936264294215 \", \"type\": \"path\"}, {\"fillcolor\": \"#ca6f4c\", \"layer\": \"below\", \"line\": {\"color\": \"rgb(175,175,175)\", \"width\": 0.5}, \"path\": \"M -0.9647117804241103,0.263308147824831 Q -0.1987248349549212, -0.022548613530311453 -0.881193089880885, -0.47275653178584276L -0.881193089880885, -0.47275653178584276 L -0.882058304409521, -0.47114026321489516 L -0.882920554410519, -0.46952241117908505 M -0.882920554410519,-0.46952241117908505 Q -0.19873825491235722, -0.022430025287344724 -0.9653600199443809, 0.2609215052328659L -0.9653600199443809, 0.2609215052328659 L -0.9650366379884925, 0.26211502692495015 L -0.9647117804241103, 0.263308147824831 \", \"type\": \"path\"}, {\"fillcolor\": \"#ca6f4c\", \"layer\": \"below\", \"line\": {\"color\": \"rgb(175,175,175)\", \"width\": 0.5}, \"path\": \"M -0.9653600199443809,0.2609215052328659 Q -0.1888198274952444, -0.06593233459135327 -0.5931205855679695, -0.8051136385476954L -0.5931205855679695, -0.8051136385476954 L -0.5949188358879751, -0.8037857791138735 L -0.5967141134491917, -0.802453903230924 M -0.5967141134491917,-0.802453903230924 Q -0.18886932308427606, -0.06579041569778497 -0.9661301132016556, 0.2580554288616228L -0.9661301132016556, 0.2580554288616228 L -0.9657461297921752, 0.2594887527262695 L -0.9653600199443809, 0.2609215052328659 \", \"type\": \"path\"}, {\"fillcolor\": \"#ca6f4c\", \"layer\": \"below\", \"line\": {\"color\": \"rgb(175,175,175)\", \"width\": 0.5}, \"path\": \"M -0.9661301132016556,0.2580554288616228 Q -0.16245260338638176, -0.11665826868673715 -0.06419346004622282, -0.9979374728344927L -0.06419346004622282, -0.9979374728344927 L -0.0660165312436069, -0.9978185293942792 L -0.06783938209522929, -0.997696255499106 M -0.06783938209522929,-0.997696255499106 Q -0.16245415870387203, -0.11665610279714117 -0.9670597820083678, 0.25454936264294215L -0.9670597820083678, 0.25454936264294215 L -0.9665965372691016, 0.25630281726774345 L -0.9661301132016556, 0.2580554288616228 \", \"type\": \"path\"}, {\"fillcolor\": \"#ca6f4c\", \"layer\": \"below\", \"line\": {\"color\": \"rgb(175,175,175)\", \"width\": 0.5}, \"path\": \"M -0.9729445465691484,0.23103876146948615 Q -0.1492650581115829, -0.13311627408752766 0.1186140065556148, -0.9929404400309338L 0.1186140065556148, -0.9929404400309338 L 0.10887728728842205, -0.9940551978198768 L 0.09913011075115624, -0.9950744801985746 M 0.09913011075115624,-0.9950744801985746 Q -0.1497128480080766, -0.1326124546990612 -0.9758352109455873, 0.2185077597678878L -0.9758352109455873, 0.2185077597678878 L -0.9744100226935832, 0.22477790744263676 L -0.9729445465691484, 0.23103876146948615 \", \"type\": \"path\"}, {\"fillcolor\": \"#ca6f4c\", \"layer\": \"below\", \"line\": {\"color\": \"rgb(175,175,175)\", \"width\": 0.5}, \"path\": \"M -0.9630875702996654,0.26918828342683704 Q -0.10760597109840526, -0.16858515647579764 0.6496699835113222, -0.7602163590218237L 0.6496699835113222, -0.7602163590218237 L 0.6493915079200491, -0.7604542520371129 L 0.6491129452182688, -0.7606920430437437 M 0.6491129452182688,-0.7606920430437437 Q -0.10762602227890428, -0.16857235635898551 -0.9632205990114483, 0.2687118859299431L -0.9632205990114483, 0.2687118859299431 L -0.96315411411016, 0.268950092903261 L -0.9630875702996654, 0.26918828342683704 \", \"type\": \"path\"}, {\"fillcolor\": \"#ca6f4c\", \"layer\": \"below\", \"line\": {\"color\": \"rgb(175,175,175)\", \"width\": 0.5}, \"path\": \"M -0.963353392070143,0.26823542269236034 Q -0.06798858488770898, -0.18808921373903076 0.9122095089830294, -0.40972406778335624L 0.9122095089830294, -0.40972406778335624 L 0.9119451226558867, -0.41031219000188124 L 0.9116803571530201, -0.41090014161757316 M 0.9116803571530201,-0.41090014161757316 Q -0.06801683396725015, -0.18807900014906376 -0.9636182710983738, 0.26728229946141374L -0.9636182710983738, 0.26728229946141374 L -0.9634859494432616, 0.2677588938306564 L -0.963353392070143, 0.26823542269236034 \", \"type\": \"path\"}, {\"fillcolor\": \"#ca6f4c\", \"layer\": \"below\", \"line\": {\"color\": \"rgb(175,175,175)\", \"width\": 0.5}, \"path\": \"M -0.9629543059673399,0.2696646150664908 Q -0.05214300977093529, -0.1930831596282497 0.9677941161922838, -0.2517430210822064L 0.9677941161922838, -0.2517430210822064 L 0.967768087347534, -0.2518430644502561 L 0.9677420481610438, -0.25194310512706647 M 0.9677420481610438,-0.25194310512706647 Q -0.052147052324899835, -0.19308206787225002 -0.9629987535894974, 0.26950584517793774L -0.9629987535894974, 0.26950584517793774 L -0.9629765330505489, 0.26958523103824716 L -0.9629543059673399, 0.2696646150664908 \", \"type\": \"path\"}, {\"fillcolor\": \"#ca6f4c\", \"layer\": \"below\", \"line\": {\"color\": \"rgb(175,175,175)\", \"width\": 0.5}, \"path\": \"M -0.9629987535894974,0.26950584517793774 Q -0.03779598452955831, -0.19639619027221833 0.9942417369488169, -0.10716048016409631L 0.9942417369488169, -0.10716048016409631 L 0.9942217223030719, -0.10734601483386964 L 0.9942016730348482, -0.10753154576545848 M 0.9942016730348482,-0.10753154576545848 Q -0.03780025358323515, -0.19639536865477028 -0.9630875702996654, 0.26918828342683704L -0.9630875702996654, 0.26918828342683704 L -0.9630431750340083, 0.2693470679632814 L -0.9629987535894974, 0.26950584517793774 \", \"type\": \"path\"}, {\"fillcolor\": \"#c45e3a\", \"layer\": \"below\", \"line\": {\"color\": \"rgb(175,175,175)\", \"width\": 0.5}, \"path\": \"M -0.9823692166221099,0.18695112257823465 Q -0.19989400824622808, 0.00651041221866206 -0.9924521461549135, -0.12263253072698996L -0.9924521461549135, -0.12263253072698996 L -0.9925317639392279, -0.12198646470688716 L -0.9926109611478411, -0.12134034699620397 M -0.9926109611478411,-0.12134034699620397 Q -0.1998937322983625, 0.00651887933855208 -0.982596044001985, 0.18575525379285857L -0.982596044001985, 0.18575525379285857 L -0.9824828122620859, 0.18635322269706744 L -0.9823692166221099, 0.18695112257823465 \", \"type\": \"path\"}, {\"fillcolor\": \"#c45e3a\", \"layer\": \"below\", \"line\": {\"color\": \"rgb(175,175,175)\", \"width\": 0.5}, \"path\": \"M -0.9847489216724277,0.1739814969040985 Q -0.1993432841931143, -0.016194290571163422 -0.9437535988481635, -0.3306495798593123L -0.9437535988481635, -0.3306495798593123 L -0.9449003552343965, -0.3273580893729545 L -0.9460356320641692, -0.32406262182631895 M -0.9460356320641692,-0.32406262182631895 Q -0.1993471601719881, -0.016146508333497952 -0.9858575969668948, 0.1675851977432963L -0.9858575969668948, 0.1675851977432963 L -0.9853084496677607, 0.17078424697059702 L -0.9847489216724277, 0.1739814969040985 \", \"type\": \"path\"}, {\"fillcolor\": \"#c45e3a\", \"layer\": \"below\", \"line\": {\"color\": \"rgb(175,175,175)\", \"width\": 0.5}, \"path\": \"M -0.983671848066953,0.1799713736140986 Q -0.19722251346646388, -0.03321566169701392 -0.8704600551088227, -0.49223906027452285L -0.8704600551088227, -0.49223906027452285 L -0.8722590255438609, -0.4890441619703421 L -0.8740462696165797, -0.4858426891179297 M -0.8740462696165797,-0.4858426891179297 Q -0.19724318795889428, -0.033092669940823806 -0.9847489216724277, 0.1739814969040985L -0.9847489216724277, 0.1739814969040985 L -0.984214941636782, 0.17697725463715896 L -0.983671848066953, 0.1799713736140986 \", \"type\": \"path\"}, {\"fillcolor\": \"#c45e3a\", \"layer\": \"below\", \"line\": {\"color\": \"rgb(175,175,175)\", \"width\": 0.5}, \"path\": \"M -0.989024274825149,0.14775311775589764 Q -0.18334054936391994, -0.07991397223850186 -0.5649767790350141, -0.8251068046933202L -0.5649767790350141, -0.8251068046933202 L -0.5687621214896489, -0.8225020663552122 L -0.5725354553969992, -0.8198799621367452 M -0.5725354553969992,-0.8198799621367452 Q -0.18340776716520601, -0.07975958214204476 -0.9901054398468322, 0.14032540035827815L -0.9901054398468322, 0.14032540035827815 L -0.9895718264081865, 0.1440402734625488 L -0.989024274825149, 0.14775311775589764 \", \"type\": \"path\"}, {\"fillcolor\": \"#c45e3a\", \"layer\": \"below\", \"line\": {\"color\": \"rgb(175,175,175)\", \"width\": 0.5}, \"path\": \"M -0.9822552571241313,0.18754895321490508 Q -0.15910884514272272, -0.12117910462348319 -0.08026156120922315, -0.9967738368317349L -0.08026156120922315, -0.9967738368317349 L -0.08050988418503632, -0.996753810400799 L -0.08075820216397471, -0.9967337221059808 M -0.08075820216397471,-0.9967337221059808 Q -0.15910215963681507, -0.1211878822279745 -0.9823692166221099, 0.18695112257823465L -0.9823692166221099, 0.18695112257823465 L -0.982312282352736, 0.1872500465659717 L -0.9822552571241313, 0.18754895321490508 \", \"type\": \"path\"}, {\"fillcolor\": \"#c45e3a\", \"layer\": \"below\", \"line\": {\"color\": \"rgb(175,175,175)\", \"width\": 0.5}, \"path\": \"M -0.9911308224235369,0.13288977704113783 Q -0.14853709442895588, -0.13392808360685016 0.029932286644889502, -0.99955192872417L 0.029932286644889502, -0.99955192872417 L 0.02515956610367846, -0.9996834480141574 L 0.020386272021005993, -0.999792178361626 M 0.020386272021005993,-0.999792178361626 Q -0.14866025875144456, -0.1337913579718569 -0.9921257931214792, 0.12524540160451306L -0.9921257931214792, 0.12524540160451306 L -0.9916356739724131, 0.12906854808696822 L -0.9911308224235369, 0.13288977704113783 \", \"type\": \"path\"}, {\"fillcolor\": \"#c45e3a\", \"layer\": \"below\", \"line\": {\"color\": \"rgb(175,175,175)\", \"width\": 0.5}, \"path\": \"M -0.9879816425764127,0.1545712584279931 Q -0.09541673673383655, -0.17577157435451765 0.667854908681468, -0.7442914892366216L 0.667854908681468, -0.7442914892366216 L 0.6647597032781183, -0.7470572514189178 L 0.6616530442399542, -0.7498101420012944 M 0.6616530442399542,-0.7498101420012944 Q -0.09554013438763949, -0.17570453244350812 -0.989024274825149, 0.14775311775589764L -0.989024274825149, 0.14775311775589764 L -0.9885088371485374, 0.1511630870260534 L -0.9879816425764127, 0.1545712584279931 \", \"type\": \"path\"}, {\"fillcolor\": \"#c45e3a\", \"layer\": \"below\", \"line\": {\"color\": \"rgb(175,175,175)\", \"width\": 0.5}, \"path\": \"M -0.9822171897747628,0.18774821466785693 Q -0.06056581297648465, -0.19060897748662703 0.9104397744995082, -0.41364165289448873L 0.9104397744995082, -0.41364165289448873 L 0.9103953154378176, -0.4137394948864281 L 0.9103508458613674, -0.4138373320998155 M 0.9103508458613674,-0.4138373320998155 Q -0.06056696364551254, -0.19060861185886424 -0.9822552571241313, 0.18754895321490508L -0.9822552571241313, 0.18754895321490508 L -0.9822362285023465, 0.1876485849066981 L -0.9822171897747628, 0.18774821466785693 \", \"type\": \"path\"}, {\"fillcolor\": \"#c45e3a\", \"layer\": \"below\", \"line\": {\"color\": \"rgb(175,175,175)\", \"width\": 0.5}, \"path\": \"M -0.9869247264438735,0.1611818362399605 Q -0.03854115001764006, -0.19625131784351862 0.9745817956499301, -0.22403197001267006L 0.9745817956499301, -0.22403197001267006 L 0.9738118770174143, -0.2273552906352087 L 0.9730306259075705, -0.23067596547087796 M 0.9730306259075705,-0.23067596547087796 Q -0.03855372309144979, -0.19624884824066566 -0.9879816425764127, 0.1545712584279931L -0.9879816425764127, 0.1545712584279931 L -0.9874587163694363, 0.1578774317818261 L -0.9869247264438735, 0.1611818362399605 \", \"type\": \"path\"}, {\"fillcolor\": \"#c45e3a\", \"layer\": \"below\", \"line\": {\"color\": \"rgb(175,175,175)\", \"width\": 0.5}, \"path\": \"M -0.9831937990214045,0.18256492972599667 Q -0.02819941522368495, -0.19800200246725339 0.9950696041404489, -0.09917904474116726L 0.9950696041404489, -0.09917904474116726 L 0.994948570732147, -0.10038596315251311 L 0.9948260734548814, -0.10159273386587717 M 0.9948260734548814,-0.10159273386587717 Q -0.028178495943715715, -0.19800498066046218 -0.983671848066953, 0.1799713736140986L -0.983671848066953, 0.1799713736140986 L -0.9834336785250961, 0.18126830926170728 L -0.9831937990214045, 0.18256492972599667 \", \"type\": \"path\"}, {\"fillcolor\": \"#bf4d28\", \"layer\": \"below\", \"line\": {\"color\": \"rgb(175,175,175)\", \"width\": 0.5}, \"path\": \"M -0.9994023933245522,-0.034566692308597234 Q -0.19814917450790726, -0.02714598758260461 -0.9718758143638533, -0.2354939520552429L -0.9718758143638533, -0.2354939520552429 L -0.9748592760290644, -0.2228214351001454 L -0.9776775051598583, -0.21011115130900399 M -0.9776775051598583,-0.21011115130900399 Q -0.19815274554562134, -0.027119908420425255 -0.9981795824711485, -0.060311865646186326L -0.9981795824711485, -0.060311865646186326 L -0.9988739364872373, -0.047443218761911654 L -0.9994023933245522, -0.034566692308597234 \", \"type\": \"path\"}, {\"fillcolor\": \"#bf4d28\", \"layer\": \"below\", \"line\": {\"color\": \"rgb(175,175,175)\", \"width\": 0.5}, \"path\": \"M -0.9988216556891533,0.04853143441501194 Q -0.19841099340814022, -0.025161035248871214 -0.9550910756918648, -0.2963123978738599L -0.9550910756918648, -0.2963123978738599 L -0.9552523102902494, -0.2957921967955564 L -0.9554132615552988, -0.29527190798358427 M -0.9554132615552988,-0.29527190798358427 Q -0.1984111855810614, -0.025159519795051967 -0.998873200226309, 0.04745871753062797L -0.998873200226309, 0.04745871753062797 L -0.9988475719638875, 0.047995082892381885 L -0.9988216556891533, 0.04853143441501194 \", \"type\": \"path\"}, {\"fillcolor\": \"#bf4d28\", \"layer\": \"below\", \"line\": {\"color\": \"rgb(175,175,175)\", \"width\": 0.5}, \"path\": \"M -0.9989434270730021,0.04595682221004564 Q -0.19519356335784577, -0.043582941888618006 -0.8845221460012002, -0.46649820281908L -0.8845221460012002, -0.46649820281908 L -0.8850347443191112, -0.46552497392514347 L -0.8855462718055924, -0.46455118177787014 M -0.8855462718055924,-0.46455118177787014 Q -0.1951993760120624, -0.043556900767863234 -0.9990304004917043, 0.04402566175975983L -0.9990304004917043, 0.04402566175975983 L -0.9989873804275818, 0.044991263001142624 L -0.9989434270730021, 0.04595682221004564 \", \"type\": \"path\"}, {\"fillcolor\": \"#bf4d28\", \"layer\": \"below\", \"line\": {\"color\": \"rgb(175,175,175)\", \"width\": 0.5}, \"path\": \"M -0.9998735613133438,0.015901615847797684 Q -0.17807304574051402, -0.09104938429608848 -0.5725354553969992, -0.8198799621367452L -0.5725354553969992, -0.8198799621367452 L -0.5761952054264319, -0.8173121100556335 L -0.5798434386766461, -0.8147279218387219 M -0.5798434386766461,-0.8147279218387219 Q -0.17812805441314233, -0.0909417188697718 -0.9999666272632556, 0.008169722134149534L -0.9999666272632556, 0.008169722134149534 L -0.9999275676300868, 0.012035758944829665 L -0.9998735613133438, 0.015901615847797684 \", \"type\": \"path\"}, {\"fillcolor\": \"#bf4d28\", \"layer\": \"below\", \"line\": {\"color\": \"rgb(175,175,175)\", \"width\": 0.5}, \"path\": \"M -0.9986712024374208,0.05153473995467504 Q -0.15040142578761548, -0.13183099453866073 -0.0797649003286217, -0.9968137040969918L -0.0797649003286217, -0.9968137040969918 L -0.08001323325194741, -0.9967938013975456 L -0.08026156120922315, -0.9967738368317349 M -0.08026156120922315,-0.9967738368317349 Q -0.15039179418597165, -0.1318419820903962 -0.9987042026852275, 0.05089121278633378L -0.9987042026852275, 0.05089121278633378 L -0.9986877543952465, 0.051212979028562006 L -0.9986712024374208, 0.05153473995467504 \", \"type\": \"path\"}, {\"fillcolor\": \"#bf4d28\", \"layer\": \"below\", \"line\": {\"color\": \"rgb(175,175,175)\", \"width\": 0.5}, \"path\": \"M -0.9997307719548263,0.02320309476356688 Q -0.14162044267644103, -0.14122198913812564 0.020386272021005993, -0.999792178361626L 0.020386272021005993, -0.999792178361626 L 0.01611503278534031, -0.9998701444279289 L 0.011843499457364366, -0.9999298633007234 M 0.011843499457364366,-0.9999298633007234 Q -0.14170804483727104, -0.14113408528203944 -0.9998735613133438, 0.015901615847797684L -0.9998735613133438, 0.015901615847797684 L -0.999808831879775, 0.019552485652721205 L -0.9997307719548263, 0.02320309476356688 \", \"type\": \"path\"}, {\"fillcolor\": \"#bf4d28\", \"layer\": \"below\", \"line\": {\"color\": \"rgb(175,175,175)\", \"width\": 0.5}, \"path\": \"M -0.9981795824711485,-0.060311865646186326 Q -0.05731959099983285, -0.19161018889300196 0.8010815449024593, -0.5985552258703362L 0.8010815449024593, -0.5985552258703362 L 0.7914813891057673, -0.6111932678778498 L 0.7816818725254874, -0.6236773606321202 M 0.7816818725254874,-0.6236773606321202 Q -0.05768538168086016, -0.19150038313364673 -0.9961066170102202, -0.08815672151602817L -0.9961066170102202, -0.08815672151602817 L -0.9972402896795052, -0.07424152907865383 L -0.9981795824711485, -0.060311865646186326 \", \"type\": \"path\"}, {\"fillcolor\": \"#bf4d28\", \"layer\": \"below\", \"line\": {\"color\": \"rgb(175,175,175)\", \"width\": 0.5}, \"path\": \"M -0.998873200226309,0.04745871753062797 Q -0.04609332622294124, -0.1946160457868403 0.9140495871386384, -0.4056024559241286L 0.9140495871386384, -0.4056024559241286 L 0.9137441996643385, -0.4062899673629384 L 0.9134382950715966, -0.40697724886864983 M 0.9134382950715966,-0.40697724886864983 Q -0.046093426900426726, -0.19461602194211816 -0.9989434270730021, 0.04595682221004564L -0.9989434270730021, 0.04595682221004564 L -0.9989085959189595, 0.04670778306891521 L -0.998873200226309, 0.04745871753062797 \", \"type\": \"path\"}, {\"fillcolor\": \"#bf4d28\", \"layer\": \"below\", \"line\": {\"color\": \"rgb(175,175,175)\", \"width\": 0.5}, \"path\": \"M -0.9998525044624069,-0.01717467089211526 Q -0.014022542492816849, -0.19950781514025245 0.987619970862117, -0.15686552570374185L 0.987619970862117, -0.15686552570374185 L 0.9862718837088257, -0.16512955945391652 L 0.9848546474628369, -0.17338201570766004 M 0.9848546474628369,-0.17338201570766004 Q -0.013957553840140944, -0.19951237227500346 -0.9994023933245522, -0.034566692308597234L -0.9994023933245522, -0.034566692308597234 L -0.999665272570536, -0.025871660489348282 L -0.9998525044624069, -0.01717467089211526 \", \"type\": \"path\"}, {\"fillcolor\": \"#bf4d28\", \"layer\": \"below\", \"line\": {\"color\": \"rgb(175,175,175)\", \"width\": 0.5}, \"path\": \"M -0.9999666272632556,0.008169722134149534 Q -0.007222697197288908, -0.1998695390628504 0.9979480359548234, -0.0640290366467466L 0.9979480359548234, -0.0640290366467466 L 0.9976767590357609, -0.06812550535519224 L 0.9973886666270586, -0.07222082583229116 M 0.9973886666270586,-0.07222082583229116 Q -0.007098785463800012, -0.1998739784087437 -0.9999991795357703, -0.0012809870358911444L -0.9999991795357703, -0.0012809870358911444 L -0.9999940680160427, 0.003444406004829308 L -0.9999666272632556, 0.008169722134149534 \", \"type\": \"path\"}, {\"fillcolor\": \"#af4624\", \"layer\": \"below\", \"line\": {\"color\": \"rgb(175,175,175)\", \"width\": 0.5}, \"path\": \"M -0.99226473594252,-0.12413981555053627 Q -0.1953748984274024, -0.04276270646816213 -0.9533974516347337, -0.30171725044550524L -0.9533974516347337, -0.30171725044550524 L -0.953725525631894, -0.30067860209560543 L -0.95405246810721, -0.29963959701371423 M -0.95405246810721,-0.29963959701371423 Q -0.19537508265511505, -0.042761864757128655 -0.9919930361413595, -0.12629258191615042L -0.9919930361413595, -0.12629258191615042 L -0.9921294699380603, -0.12521627242664438 L -0.99226473594252, -0.12413981555053627 \", \"type\": \"path\"}, {\"fillcolor\": \"#af4624\", \"layer\": \"below\", \"line\": {\"color\": \"rgb(175,175,175)\", \"width\": 0.5}, \"path\": \"M -0.9919930361413595,-0.12629258191615042 Q -0.19038375657937842, -0.061270100626031235 -0.8794537788823205, -0.4759842968098913L -0.8794537788823205, -0.4759842968098913 L -0.8803249137325279, -0.474371211459778 L -0.881193089880885, -0.47275653178584276 M -0.881193089880885,-0.47275653178584276 Q -0.19039636793989093, -0.06123089967734983 -0.9915767296105846, -0.12952061339716375L -0.9915767296105846, -0.12952061339716375 L -0.9917861961875232, -0.12790676702928547 L -0.9919930361413595, -0.12629258191615042 \", \"type\": \"path\"}, {\"fillcolor\": \"#af4624\", \"layer\": \"below\", \"line\": {\"color\": \"rgb(175,175,175)\", \"width\": 0.5}, \"path\": \"M -0.9878685175793203,-0.1552926011619235 Q -0.17007573959692257, -0.10523422827464357 -0.5798434386766461, -0.8147279218387219L -0.5798434386766461, -0.8147279218387219 L -0.5832783517629913, -0.8122723461774679 L -0.5867028658830606, -0.809802288935147 M -0.5867028658830606,-0.809802288935147 Q -0.17013187317461317, -0.10514345310145252 -0.9866959779211237, -0.1625762810322503L -0.9866959779211237, -0.1625762810322503 L -0.9872889646505951, -0.15893552239558018 L -0.9878685175793203, -0.1552926011619235 \", \"type\": \"path\"}, {\"fillcolor\": \"#af4624\", \"layer\": \"below\", \"line\": {\"color\": \"rgb(175,175,175)\", \"width\": 0.5}, \"path\": \"M -0.9928460289847727,-0.11940168645864181 Q -0.13864838787067077, -0.1441409884136502 -0.08075820216397471, -0.9967337221059808L -0.08075820216397471, -0.9967337221059808 L -0.08100651513062633, -0.996713571948527 L -0.08125482306957958, -0.9966933599296883 M -0.08125482306957958,-0.9966933599296883 Q -0.1386373826636759, -0.14415157345018992 -0.9927680937039052, -0.12004795759826255L -0.9927680937039052, -0.12004795759826255 L -0.9928071139308876, -0.11972482836998159 L -0.9928460289847727, -0.11940168645864181 \", \"type\": \"path\"}, {\"fillcolor\": \"#af4624\", \"layer\": \"below\", \"line\": {\"color\": \"rgb(175,175,175)\", \"width\": 0.5}, \"path\": \"M -0.9888584629717494,-0.14885879285131026 Q -0.1295716097718526, -0.15235221672535898 0.011843499457364366, -0.9999298633007234L 0.011843499457364366, -0.9999298633007234 L 0.00807431743096146, -0.9999674021677027 L 0.00430502068350829, -0.9999907333555219 M 0.00430502068350829,-0.9999907333555219 Q -0.129649993712197, -0.15228551845276453 -0.9878685175793203, -0.1552926011619235L -0.9878685175793203, -0.1552926011619235 L -0.9883687254167757, -0.15207650251770763 L -0.9888584629717494, -0.14885879285131026 \", \"type\": \"path\"}, {\"fillcolor\": \"#af4624\", \"layer\": \"below\", \"line\": {\"color\": \"rgb(175,175,175)\", \"width\": 0.5}, \"path\": \"M -0.9718758143638533,-0.2354939520552429 Q -0.03681626260005574, -0.1965822036913915 0.8207915272629008, -0.5712278606418236L 0.8207915272629008, -0.5712278606418236 L 0.8110516394018069, -0.5849745620312403 L 0.8010815449024593, -0.5985552258703362 M 0.8010815449024593,-0.5985552258703362 Q -0.037184934816858306, -0.19651280014967473 -0.9643895950502642, -0.26448574433943944L -0.9643895950502642, -0.26448574433943944 L -0.9682412224897097, -0.25001786950462657 L -0.9718758143638533, -0.2354939520552429 \", \"type\": \"path\"}, {\"fillcolor\": \"#af4624\", \"layer\": \"below\", \"line\": {\"color\": \"rgb(175,175,175)\", \"width\": 0.5}, \"path\": \"M -0.9924521461549135,-0.12263253072698996 Q -0.029511880217647325, -0.1978106390617533 0.9134382950715966, -0.40697724886864983L 0.9134382950715966, -0.40697724886864983 L 0.9131318735335342, -0.4076643000523073 L 0.9128249352235658, -0.40835112052508554 M 0.9128249352235658,-0.40835112052508554 Q -0.029510463875311022, -0.19781085036434165 -0.99226473594252, -0.12413981555053627L -0.99226473594252, -0.12413981555053627 L -0.992358727223943, -0.12338620872073085 L -0.9924521461549135, -0.12263253072698996 \", \"type\": \"path\"}, {\"fillcolor\": \"#af4624\", \"layer\": \"below\", \"line\": {\"color\": \"rgb(175,175,175)\", \"width\": 0.5}, \"path\": \"M -0.9835690219545462,-0.18053248752337467 Q -0.00067937022716221, -0.19999884613690763 0.9823198470455414, -0.1872103578876558L 0.9823198470455414, -0.1872103578876558 L 0.9810998136764648, -0.19350234004788158 L 0.9798394791592611, -0.19978637361168566 M 0.9798394791592611,-0.19978637361168566 Q -0.0006159040419249377, -0.19999905165327947 -0.9810513811678109, -0.19374774194485653L -0.9810513811678109, -0.19374774194485653 L -0.9823324248076714, -0.1871443484892897 L -0.9835690219545462, -0.18053248752337467 \", \"type\": \"path\"}, {\"fillcolor\": \"#af4624\", \"layer\": \"below\", \"line\": {\"color\": \"rgb(175,175,175)\", \"width\": 0.5}, \"path\": \"M -0.9852848803157962,-0.17092017031669235 Q 0.011602296331240353, -0.1996631831856892 0.9984505269778688, -0.05564660975851109L 0.9984505269778688, -0.05564660975851109 L 0.9982080804071183, -0.05983835066189637 L 0.9979480359548234, -0.0640290366467466 M 0.9979480359548234,-0.0640290366467466 Q 0.011738743591110193, -0.19965520754265884 -0.9835690219545462, -0.18053248752337467L -0.9835690219545462, -0.18053248752337467 L -0.9844386833530108, -0.17572842319383253 L -0.9852848803157962, -0.17092017031669235 \", \"type\": \"path\"}, {\"fillcolor\": \"#9f4021\", \"layer\": \"below\", \"line\": {\"color\": \"rgb(175,175,175)\", \"width\": 0.5}, \"path\": \"M -0.9291828695034947,-0.36962033902539976 Q -0.1761995886099241, -0.09462401901046856 -0.8213301011805728, -0.5704532100836229L -0.8213301011805728, -0.5704532100836229 L -0.8276922942531065, -0.5611822039534299 L -0.8339498429707505, -0.551840248087307 M -0.8339498429707505,-0.551840248087307 Q -0.1763152014585318, -0.09440841982915164 -0.9215888846515172, -0.3881673964757634L -0.9215888846515172, -0.3881673964757634 L -0.9254323421134154, -0.37891289258941613 L -0.9291828695034947, -0.36962033902539976 \", \"type\": \"path\"}, {\"fillcolor\": \"#9f4021\", \"layer\": \"below\", \"line\": {\"color\": \"rgb(175,175,175)\", \"width\": 0.5}, \"path\": \"M -0.9344785692391813,-0.35601938659670296 Q -0.1536722954121548, -0.12800322504827538 -0.5190699957873386, -0.854731735384461L -0.5190699957873386, -0.854731735384461 L -0.5261638056209319, -0.8503832369317367 L -0.533221188304634, -0.845975865106679 M -0.533221188304634,-0.845975865106679 Q -0.1538031279110361, -0.12784599268174765 -0.9291828695034947, -0.36962033902539976L -0.9291828695034947, -0.36962033902539976 L -0.9318555338896943, -0.36282952465194 L -0.9344785692391813, -0.35601938659670296 \", \"type\": \"path\"}, {\"fillcolor\": \"#9f4021\", \"layer\": \"below\", \"line\": {\"color\": \"rgb(175,175,175)\", \"width\": 0.5}, \"path\": \"M -0.9518069579856364,-0.30669775794767207 Q -0.12363040941203163, -0.15721171034186177 -0.07363782623007671, -0.9972850497967515L -0.07363782623007671, -0.9972850497967515 L -0.07471441202819534, -0.997204972227516 L -0.07579091075044835, -0.9971237324663462 M -0.07579091075044835,-0.9971237324663462 Q -0.1235775101447878, -0.15725329562974147 -0.9509345744710649, -0.3093920410668879L -0.9509345744710649, -0.3093920410668879 L -0.9513717200044894, -0.3080452083310165 L -0.9518069579856364, -0.30669775794767207 \", \"type\": \"path\"}, {\"fillcolor\": \"#9f4021\", \"layer\": \"below\", \"line\": {\"color\": \"rgb(175,175,175)\", \"width\": 0.5}, \"path\": \"M -0.9116657692796083,-0.4109325067743121 Q -0.0956450508262535, -0.17564744305694685 0.14949157846703115, -0.9887629988867077L 0.14949157846703115, -0.9887629988867077 L 0.1340690640442909, -0.9909719905558824 L 0.1186140065556148, -0.9929404400309338 M 0.1186140065556148,-0.9929404400309338 Q -0.09600906914126206, -0.17544873508415035 -0.9002340339295819, -0.4354063437237363L -0.9002340339295819, -0.4354063437237363 L -0.9060325415740499, -0.4232080263993909 L -0.9116657692796083, -0.4109325067743121 \", \"type\": \"path\"}, {\"fillcolor\": \"#9f4021\", \"layer\": \"below\", \"line\": {\"color\": \"rgb(175,175,175)\", \"width\": 0.5}, \"path\": \"M -0.9496458353291986,-0.31332536993021903 Q -0.05229328866779295, -0.19304251334953884 0.6616530442399542, -0.7498101420012944L 0.6616530442399542, -0.7498101420012944 L 0.65936146011024, -0.7518260868853197 L 0.6570637337703197, -0.7538350282149314 M 0.6570637337703197,-0.7538350282149314 Q -0.05235680408223932, -0.1930252964414095 -0.9479253425474818, -0.3184926136604101L -0.9479253425474818, -0.3184926136604101 L -0.9487891066401505, -0.3159101630542853 L -0.9496458353291986, -0.31332536993021903 \", \"type\": \"path\"}, {\"fillcolor\": \"#9f4021\", \"layer\": \"below\", \"line\": {\"color\": \"rgb(175,175,175)\", \"width\": 0.5}, \"path\": \"M -0.9556060290061449,-0.2946474458180608 Q -0.012641967196798626, -0.199600051767015 0.9107950684000943, -0.4128587450667207L 0.9107950684000943, -0.4128587450667207 L 0.9106619120685991, -0.4131523712960668 L 0.9105286610765567, -0.4134459545794744 M 0.9105286610765567,-0.4134459545794744 Q -0.012641096728125998, -0.19960010689754193 -0.9554132615552988, -0.29527190798358427L -0.9554132615552988, -0.29527190798358427 L -0.9555096962944646, -0.2949596926484363 L -0.9556060290061449, -0.2946474458180608 \", \"type\": \"path\"}, {\"fillcolor\": \"#9f4021\", \"layer\": \"below\", \"line\": {\"color\": \"rgb(175,175,175)\", \"width\": 0.5}, \"path\": \"M -0.9545732215346037,-0.2979764499571208 Q 0.005325364702050118, -0.19992908865592862 0.9690823665936686, -0.2467374449839635L 0.9690823665936686, -0.2467374449839635 L 0.9688779854114447, -0.24753878359776352 L 0.9686729415987992, -0.24833995291601654 M 0.9686729415987992,-0.24833995291601654 Q 0.005334240086149815, -0.19992885205168193 -0.95405246810721, -0.29963959701371423L -0.95405246810721, -0.29963959701371423 L -0.9543132071310264, -0.2988081369295266 L -0.9545732215346037, -0.2979764499571208 \", \"type\": \"path\"}, {\"fillcolor\": \"#9f4021\", \"layer\": \"below\", \"line\": {\"color\": \"rgb(175,175,175)\", \"width\": 0.5}, \"path\": \"M -0.9509345744710649,-0.3093920410668879 Q 0.02183209572371802, -0.19880482789990395 0.9954149990111745, -0.09565029923415587L 0.9954149990111745, -0.09565029923415587 L 0.9952438655209748, -0.09741482506717279 L 0.9950696041404489, -0.09917904474116726 M 0.9950696041404489,-0.09917904474116726 Q 0.021891086625609343, -0.19879834085411796 -0.9496458353291986, -0.31332536993021903L -0.9496458353291986, -0.31332536993021903 L -0.9502922399441769, -0.31135937227242577 L -0.9509345744710649, -0.3093920410668879 \", \"type\": \"path\"}, {\"fillcolor\": \"#8f391e\", \"layer\": \"below\", \"line\": {\"color\": \"rgb(175,175,175)\", \"width\": 0.5}, \"path\": \"M -0.7500381915851804,-0.6613945200586654 Q -0.10941043274874325, -0.167419703755958 -0.30463722939080873, -0.9524684553669438L -0.30463722939080873, -0.9524684553669438 L -0.3429379371774828, -0.9393580633839542 L -0.3806766291523075, -0.9247082264245499 M -0.3806766291523075,-0.9247082264245499 Q -0.10951787176248236, -0.16734944208038602 -0.6950095502517812, -0.7190005042131867L -0.6950095502517812, -0.7190005042131867 L -0.7230977502382565, -0.6907457155859686 L -0.7500381915851804, -0.6613945200586654 \", \"type\": \"path\"}, {\"fillcolor\": \"#8f391e\", \"layer\": \"below\", \"line\": {\"color\": \"rgb(175,175,175)\", \"width\": 0.5}, \"path\": \"M -0.8704600551088227,-0.49223906027452285 Q -0.1051409643675842, -0.17013341121559397 -0.05092869774019184, -0.9987022918500228L -0.05092869774019184, -0.9987022918500228 L -0.053582444434318206, -0.9985634289560394 L -0.056235812747739894, -0.9984175145522043 M -0.056235812747739894,-0.9984175145522043 Q -0.10492759873548921, -0.17026508456992634 -0.8665831709775478, -0.4990326720551453L -0.8665831709775478, -0.4990326720551453 L -0.8685282555066317, -0.4956396567937307 L -0.8704600551088227, -0.49223906027452285 \", \"type\": \"path\"}, {\"fillcolor\": \"#8f391e\", \"layer\": \"below\", \"line\": {\"color\": \"rgb(175,175,175)\", \"width\": 0.5}, \"path\": \"M -0.7988386251939646,-0.6015453855680521 Q -0.048300780158667705, -0.1940799696930728 0.4237047257685409, -0.9058003672782461L 0.4237047257685409, -0.9058003672782461 L 0.38741631460531134, -0.9219048753410725 L 0.3505172563110134, -0.9365562732843122 M 0.3505172563110134,-0.9365562732843122 Q -0.048510923322542254, -0.1940275504107456 -0.7500381915851804, -0.6613945200586654L -0.7500381915851804, -0.6613945200586654 L -0.7750163405463095, -0.6319411933765727 L -0.7988386251939646, -0.6015453855680521 \", \"type\": \"path\"}, {\"fillcolor\": \"#8f391e\", \"layer\": \"below\", \"line\": {\"color\": \"rgb(175,175,175)\", \"width\": 0.5}, \"path\": \"M -0.8665831709775478,-0.4990326720551453 Q -0.02927396220746591, -0.19784598842704862 0.684938330244481, -0.7286010456771951L 0.684938330244481, -0.7286010456771951 L 0.6806569494360614, -0.7326022912770578 L 0.6763521947400508, -0.7365783791765249 M 0.6763521947400508,-0.7365783791765249 Q -0.029272687607073883, -0.19784617701704188 -0.8606685063605393, -0.5091657118847639L -0.8606685063605393, -0.5091657118847639 L -0.8636407000835798, -0.5041078665912129 L -0.8665831709775478, -0.4990326720551453 \", \"type\": \"path\"}, {\"fillcolor\": \"#8f391e\", \"layer\": \"below\", \"line\": {\"color\": \"rgb(175,175,175)\", \"width\": 0.5}, \"path\": \"M -0.8774682682160729,-0.47963469252534885 Q 0.009438706205536794, -0.19977715291085107 0.918780488607726, -0.39476881051287266L 0.918780488607726, -0.39476881051287266 L 0.9175456874199798, -0.3976303704409369 L 0.9163019738731483, -0.40048806808214926 M 0.9163019738731483,-0.40048806808214926 Q 0.009524156589630592, -0.19977309739115576 -0.8740462696165797, -0.4858426891179297L -0.8740462696165797, -0.4858426891179297 L -0.8757627697414444, -0.4827417230101349 L -0.8774682682160729, -0.47963469252534885 \", \"type\": \"path\"}, {\"fillcolor\": \"#8f391e\", \"layer\": \"below\", \"line\": {\"color\": \"rgb(175,175,175)\", \"width\": 0.5}, \"path\": \"M -0.886113379013329,-0.46346853133042426 Q 0.022734568897051166, -0.19870364711566124 0.9678981281483184, -0.2513428207189959L 0.9678981281483184, -0.2513428207189959 L 0.96784614285545, -0.25154292627666525 L 0.9677941161922838, -0.2517430210822064 M 0.9677941161922838,-0.2517430210822064 Q 0.02274205794440927, -0.19870279011743427 -0.8858866949178741, -0.4639016746763105L -0.8858866949178741, -0.4639016746763105 L -0.8860000634347249, -0.46368511685589325 L -0.886113379013329, -0.46346853133042426 \", \"type\": \"path\"}, {\"fillcolor\": \"#8f391e\", \"layer\": \"below\", \"line\": {\"color\": \"rgb(175,175,175)\", \"width\": 0.5}, \"path\": \"M -0.8858866949178741,-0.4639016746763105 Q 0.03733838756973085, -0.1964837011400502 0.9943015731442157, -0.1066038537902729L 0.9943015731442157, -0.1066038537902729 L 0.9942716939987625, -0.10688217116447087 L 0.9942417369488169, -0.10716048016409631 M 0.9942417369488169,-0.10716048016409631 Q 0.037355430360616525, -0.19648046168149425 -0.8855462718055924, -0.46455118177787014L -0.8855462718055924, -0.46455118177787014 L -0.885716542898203, -0.4642264594316611 L -0.8858866949178741, -0.4639016746763105 \", \"type\": \"path\"}, {\"fillcolor\": \"#f0f3e7\", \"layer\": \"below\", \"line\": {\"color\": \"rgb(175,175,175)\", \"width\": 0.5}, \"path\": \"M -0.5557195521405116,-0.8313698210596469 Q -0.06163611874253392, -0.1902655745697478 -0.03732300577705589, -0.9993032538923137L -0.03732300577705589, -0.9993032538923137 L -0.04114004369846409, -0.999153390028022 L -0.04495648129457773, -0.9989889462799928 M -0.04495648129457773,-0.9989889462799928 Q -0.06127590188491954, -0.1903818894963219 -0.5461848654207149, -0.8376646660719047L -0.5461848654207149, -0.8376646660719047 L -0.550961198841324, -0.8345308606464659 L -0.5557195521405116, -0.8313698210596469 \", \"type\": \"path\"}, {\"fillcolor\": \"#f0f3e7\", \"layer\": \"below\", \"line\": {\"color\": \"rgb(175,175,175)\", \"width\": 0.5}, \"path\": \"M -0.30463722939080873,-0.9524684553669438 Q 0.0223998834017431, -0.1987416544753221 0.509004042024363, -0.8607641286687431L 0.509004042024363, -0.8607641286687431 L 0.46689771586126044, -0.8843113269225594 L 0.4237047257685409, -0.9058003672782461 M 0.4237047257685409,-0.9058003672782461 Q 0.022288609047662694, -0.19875416450157832 -0.21254758765253712, -0.9771507166159614L -0.21254758765253712, -0.9771507166159614 L -0.2588867266781574, -0.9659076885240478 L -0.30463722939080873, -0.9524684553669438 \", \"type\": \"path\"}, {\"fillcolor\": \"#f0f3e7\", \"layer\": \"below\", \"line\": {\"color\": \"rgb(175,175,175)\", \"width\": 0.5}, \"path\": \"M -0.4779530065153341,-0.8783854071892093 Q 0.039639300325401965, -0.19603246126525217 0.7816818725254874, -0.6236773606321202L 0.7816818725254874, -0.6236773606321202 L 0.7723062658058871, -0.635250369379638 L 0.7627593333419971, -0.646682456387733 M 0.7627593333419971,-0.646682456387733 Q 0.03968959764237989, -0.19602228403675434 -0.4511210118769426, -0.8924627906210564L -0.4511210118769426, -0.8924627906210564 L -0.46459033146845036, -0.8855257330569425 L -0.4779530065153341, -0.8783854071892093 \", \"type\": \"path\"}, {\"fillcolor\": \"#f0f3e7\", \"layer\": \"below\", \"line\": {\"color\": \"rgb(175,175,175)\", \"width\": 0.5}, \"path\": \"M -0.5461848654207149,-0.8376646660719047 Q 0.06175413716122137, -0.19022730230824667 0.9340549266548652, -0.3571293799056225L 0.9340549266548652, -0.3571293799056225 L 0.93165462085579, -0.36334510790439195 L 0.9292129526264289, -0.36954470456397304 M 0.9292129526264289,-0.36954470456397304 Q 0.061951281515942716, -0.1901631897043495 -0.533221188304634, -0.845975865106679L -0.533221188304634, -0.845975865106679 L -0.5397190252456191, -0.841845219614579 L -0.5461848654207149, -0.8376646660719047 \", \"type\": \"path\"}, {\"fillcolor\": \"#f0f3e7\", \"layer\": \"below\", \"line\": {\"color\": \"rgb(175,175,175)\", \"width\": 0.5}, \"path\": \"M -0.5998983499734128,-0.8000762274303472 Q 0.06683109183787446, -0.18850359456455357 0.9698932622295613, -0.24353040853597618L 0.9698932622295613, -0.24353040853597618 L 0.9694891405081878, -0.24513426206202865 L 0.9690823665936686, -0.2467374449839635 M 0.9690823665936686,-0.2467374449839635 Q 0.06689386353892383, -0.18848132804295453 -0.5967141134491917, -0.802453903230924L -0.5967141134491917, -0.802453903230924 L -0.5983074128239865, -0.801266647103115 L -0.5998983499734128, -0.8000762274303472 \", \"type\": \"path\"}, {\"fillcolor\": \"#f0f3e7\", \"layer\": \"below\", \"line\": {\"color\": \"rgb(175,175,175)\", \"width\": 0.5}, \"path\": \"M -0.5931205855679695,-0.8051136385476954 Q 0.08295330412700216, -0.18198557452285358 0.996762055046856, -0.08040774601223702L 0.996762055046856, -0.08040774601223702 L 0.9965175327689909, -0.08338349287480719 L 0.996264126676301, -0.08635849638516838 M 0.996264126676301,-0.08635849638516838 Q 0.08313310696236761, -0.18190350883582085 -0.5867028658830606, -0.809802288935147L -0.5867028658830606, -0.809802288935147 L -0.5899163839130671, -0.807464339764259 L -0.5931205855679695, -0.8051136385476954 \", \"type\": \"path\"}, {\"fillcolor\": \"#e2ecde\", \"layer\": \"below\", \"line\": {\"color\": \"rgb(175,175,175)\", \"width\": 0.5}, \"path\": \"M -0.03732300577705589,-0.9993032538923137 Q 0.002853878502599525, -0.19997963740714306 0.0658238038321978, -0.9978312617116485L 0.0658238038321978, -0.9978312617116485 L 0.058675903658391114, -0.9982770849467953 L 0.05152499392500717, -0.9986717053171317 M 0.05152499392500717,-0.9986717053171317 Q 0.0023682499243815967, -0.1999859779891972 -0.02786116102094553, -0.9996118025046348L -0.02786116102094553, -0.9996118025046348 L -0.03259244852491122, -0.999468725023025 L -0.03732300577705589, -0.9993032538923137 \", \"type\": \"path\"}, {\"fillcolor\": \"#e2ecde\", \"layer\": \"below\", \"line\": {\"color\": \"rgb(175,175,175)\", \"width\": 0.5}, \"path\": \"M -0.07363782623007671,-0.9972850497967515 Q 0.06268512586251627, -0.18992254999236002 0.6528199405620221, -0.7575131188333295L 0.6528199405620221, -0.7575131188333295 L 0.6512463646386256, -0.7588663733128345 L 0.6496699835113222, -0.7602163590218237 M 0.6496699835113222,-0.7602163590218237 Q 0.06255905946832747, -0.1899641126066665 -0.07082173774479378, -0.9974889881411261L -0.07082173774479378, -0.9974889881411261 L -0.07222985396402586, -0.9973880128597573 L -0.07363782623007671, -0.9972850497967515 \", \"type\": \"path\"}, {\"fillcolor\": \"#e2ecde\", \"layer\": \"below\", \"line\": {\"color\": \"rgb(175,175,175)\", \"width\": 0.5}, \"path\": \"M -0.078771519283081,-0.996892696206485 Q 0.10207968881944812, -0.1719876074911348 0.9128249352235658, -0.40835112052508554L 0.9128249352235658, -0.40835112052508554 L 0.9125174803153978, -0.40903770989828986 L 0.9122095089830294, -0.40972406778335624 M 0.9122095089830294,-0.40972406778335624 Q 0.10205028018812586, -0.17200505897654583 -0.07761247593313683, -0.9969836024627127L -0.07761247593313683, -0.9969836024627127 L -0.07819201081909477, -0.9969383177730037 L -0.078771519283081, -0.996892696206485 \", \"type\": \"path\"}, {\"fillcolor\": \"#e2ecde\", \"layer\": \"below\", \"line\": {\"color\": \"rgb(175,175,175)\", \"width\": 0.5}, \"path\": \"M -0.0797649003286217,-0.9968137040969918 Q 0.11620544144065303, -0.1627768269121344 0.9686729415987992, -0.24833995291601654L 0.9686729415987992, -0.24833995291601654 L 0.9685187239724427, -0.24894071847488397 L 0.9683641337546735, -0.2495413882656762 M 0.9683641337546735,-0.2495413882656762 Q 0.11618558418337627, -0.1627910010656842 -0.078771519283081, -0.996892696206485L -0.078771519283081, -0.996892696206485 L -0.0792682196454721, -0.9968533238918538 L -0.0797649003286217, -0.9968137040969918 \", \"type\": \"path\"}, {\"fillcolor\": \"#e2ecde\", \"layer\": \"below\", \"line\": {\"color\": \"rgb(175,175,175)\", \"width\": 0.5}, \"path\": \"M -0.08158589247401657,-0.9966663143445845 Q 0.1274138218414671, -0.15416133757771722 0.9942016730348482, -0.10753154576545848L 0.9942016730348482, -0.10753154576545848 L 0.9941815891448439, -0.10771707295240104 L 0.9941614706337585, -0.10790259638823572 M 0.9941614706337585,-0.10790259638823572 Q 0.1274106576595328, -0.15416395270868394 -0.08125482306957958, -0.9966933599296883L -0.08125482306957958, -0.9966933599296883 L -0.0814203588947718, -0.9966798508836459 L -0.08158589247401657, -0.9966663143445845 \", \"type\": \"path\"}, {\"fillcolor\": \"#d4e5d6\", \"layer\": \"below\", \"line\": {\"color\": \"rgb(175,175,175)\", \"width\": 0.5}, \"path\": \"M 0.1819539696044706,-0.9833070491688624 Q 0.11136965897778822, -0.16612284327921661 0.8404969817377702, -0.5418162268608225L 0.8404969817377702, -0.5418162268608225 L 0.830774420998164, -0.5566092537994363 L 0.8207915272629008, -0.5712278606418236 M 0.8207915272629008,-0.5712278606418236 Q 0.11145542451148448, -0.1660653134973249 0.21765427704879925, -0.9760259298207014L 0.21765427704879925, -0.9760259298207014 L 0.19983728724406183, -0.9798290966423351 L 0.1819539696044706, -0.9833070491688624 \", \"type\": \"path\"}, {\"fillcolor\": \"#d4e5d6\", \"layer\": \"below\", \"line\": {\"color\": \"rgb(175,175,175)\", \"width\": 0.5}, \"path\": \"M 0.08236325646146463,-0.9966023750649318 Q 0.1212331129968745, -0.1590676972646774 0.9391008782022566, -0.34364158735483447L 0.9391008782022566, -0.34364158735483447 L 0.9366021820679558, -0.3503945669463837 L 0.9340549266548652, -0.3571293799056225 M 0.9340549266548652,-0.3571293799056225 Q 0.12142673809781215, -0.15891993982796915 0.09913011075115624, -0.9950744801985746L 0.09913011075115624, -0.9950744801985746 L 0.09074989918024455, -0.9958737147845481 L 0.08236325646146463, -0.9966023750649318 \", \"type\": \"path\"}, {\"fillcolor\": \"#d4e5d6\", \"layer\": \"below\", \"line\": {\"color\": \"rgb(175,175,175)\", \"width\": 0.5}, \"path\": \"M 0.0035511522802854066,-0.9999936946388623 Q 0.12269448626480808, -0.15794322726921475 0.9680538357829251, -0.2507424396187558L 0.9680538357829251, -0.2507424396187558 L 0.9679760285134524, -0.2510426422409624 L 0.9678981281483184, -0.2513428207189959 M 0.9678981281483184,-0.2513428207189959 Q 0.1227050390038464, -0.15793502905645895 0.00430502068350829, -0.9999907333555219L 0.00430502068350829, -0.9999907333555219 L 0.003928086760951698, -0.9999922850374389 L 0.0035511522802854066, -0.9999936946388623 \", \"type\": \"path\"}, {\"fillcolor\": \"#d4e5d6\", \"layer\": \"below\", \"line\": {\"color\": \"rgb(175,175,175)\", \"width\": 0.5}, \"path\": \"M 0.04047993396731593,-0.9991803515612193 Q 0.1391554955594398, -0.1436514812161947 0.9973886666270586, -0.07222082583229116L 0.9973886666270586, -0.07222082583229116 L 0.9970837635844125, -0.07631492905286129 L 0.996762055046856, -0.08040774601223702 M 0.996762055046856,-0.08040774601223702 Q 0.13935976592978472, -0.1434533221643738 0.05152499392500717, -0.9986717053171317L 0.05152499392500717, -0.9986717053171317 L 0.04600316694933404, -0.998941293885998 L 0.04047993396731593, -0.9991803515612193 \", \"type\": \"path\"}, {\"fillcolor\": \"#c6decd\", \"layer\": \"below\", \"line\": {\"color\": \"rgb(175,175,175)\", \"width\": 0.5}, \"path\": \"M 0.6941337705154731,-0.7198460311969307 Q 0.16607123781607577, -0.11144659694327326 0.9292129526264289, -0.36954470456397304L 0.9292129526264289, -0.36954470456397304 L 0.9268107674349662, -0.375528695796485 L 0.9243700467078402, -0.3814970730547555 M 0.9243700467078402,-0.3814970730547555 Q 0.1661689027570351, -0.11130092432914925 0.7046047544941217, -0.7095999858682908L 0.7046047544941217, -0.7095999858682908 L 0.699388025846685, -0.7147421837993589 L 0.6941337705154731, -0.7198460311969307 \", \"type\": \"path\"}, {\"fillcolor\": \"#c6decd\", \"layer\": \"below\", \"line\": {\"color\": \"rgb(175,175,175)\", \"width\": 0.5}, \"path\": \"M 0.7309494599836639,-0.6824315987332285 Q 0.18049573179021697, -0.08614691408004158 0.9902816095022297, -0.13907671940937358L 0.9902816095022297, -0.13907671940937358 L 0.988990786513853, -0.14797710698182492 L 0.987619970862117, -0.15686552570374185 M 0.987619970862117,-0.15686552570374185 Q 0.18063572437385045, -0.08585298527095221 0.7452801525127494, -0.6667514486452751L 0.7452801525127494, -0.6667514486452751 L 0.738156442754192, -0.6746295768942221 L 0.7309494599836639, -0.6824315987332285 \", \"type\": \"path\"}, {\"fillcolor\": \"#c6decd\", \"layer\": \"below\", \"line\": {\"color\": \"rgb(175,175,175)\", \"width\": 0.5}, \"path\": \"M 0.7171403135021013,-0.6969288132586483 Q 0.18411384440069747, -0.07811589018884547 0.9995065603657315, -0.031410759078131914L 0.9995065603657315, -0.031410759078131914 L 0.9992369825373447, -0.03905704455872535 L 0.998908911020888, -0.04670104370422384 M 0.998908911020888,-0.04670104370422384 Q 0.18429767557763735, -0.07768118676153149 0.7309494599836639, -0.6824315987332285L 0.7309494599836639, -0.6824315987332285 L 0.7240811697080398, -0.6897147668958792 L 0.7171403135021013, -0.6969288132586483 \", \"type\": \"path\"}, {\"fillcolor\": \"#b8d7c5\", \"layer\": \"below\", \"line\": {\"color\": \"rgb(175,175,175)\", \"width\": 0.5}, \"path\": \"M 0.9104397744995082,-0.41364165289448873 Q 0.1885129539135867, -0.06680468701201996 0.9677420481610438, -0.25194310512706647L 0.9677420481610438, -0.25194310512706647 L 0.9677159986330914, -0.2520431431115684 L 0.9676899387639555, -0.25214317840269285 M 0.9676899387639555,-0.25214317840269285 Q 0.18851322750377997, -0.06680391497590618 0.9105286610765567, -0.4134459545794744L 0.9105286610765567, -0.4134459545794744 L 0.9104842230459257, -0.4135438061251275 L 0.9104397744995082, -0.41364165289448873 \", \"type\": \"path\"}, {\"fillcolor\": \"#b8d7c5\", \"layer\": \"below\", \"line\": {\"color\": \"rgb(175,175,175)\", \"width\": 0.5}, \"path\": \"M 0.9107950684000943,-0.4128587450667207 Q 0.1929800963935234, -0.05252316056699583 0.994400607622158, -0.10567606900657803L 0.994400607622158, -0.10567606900657803 L 0.9943511985925213, -0.10613997294900869 L 0.9943015731442157, -0.1066038537902729 M 0.9943015731442157,-0.1066038537902729 Q 0.19298381555118796, -0.052509493763557326 0.911238239001261, -0.4118796811957114L 0.911238239001261, -0.4118796811957114 L 0.9110167852248918, -0.4123692726652938 L 0.9107950684000943, -0.4128587450667207 \", \"type\": \"path\"}, {\"fillcolor\": \"#aad0bc\", \"layer\": \"below\", \"line\": {\"color\": \"rgb(175,175,175)\", \"width\": 0.5}, \"path\": \"M 0.970743209739482,-0.2401200132114938 Q 0.1972176723937793, -0.0332443934458121 0.9958163654852337, -0.09137705528074082L 0.9958163654852337, -0.09137705528074082 L 0.9956179748739112, -0.09351389259341052 L 0.9954149990111745, -0.09565029923415587 M 0.9954149990111745,-0.09565029923415587 Q 0.1972253656291931, -0.03319872215057541 0.9718740494994618, -0.23550123547344234L 0.9718740494994618, -0.23550123547344234 L 0.9713113750235837, -0.23781129651426391 L 0.970743209739482, -0.2401200132114938 \", \"type\": \"path\"}, {\"fillcolor\": \"#f2e6ce\", \"layer\": \"below\", \"line\": {\"color\": \"rgb(150,150,150)\", \"width\": 0.45}, \"path\": \"M 1.1, 0.0 L 1.099713297726551, 0.025113000684799748 L 1.098853340357464, 0.05021291054343683 L 1.097420576168618, 0.07528664557369336 L 1.0954157520268306, 0.1003211354176838 L 1.0928399130005375, 0.12530333017513012 L 1.0896944018150203, 0.1502202072059729 L 1.085980858152475, 0.17505877791877203 L 1.0817012177972851, 0.19980609454135928 L 1.07685771162694, 0.22444925687021197 L 1.0714528644491317, 0.24897541899503062 L 1.06548949368563, 0.273371795995015 L 1.0589707079036266, 0.29762567060334727 L 0.9627006435487514, 0.2705687914575884 L 0.9686268124414817, 0.2485198145409227 L 0.9740480585901196, 0.22634128999548236 L 0.9789615560244908, 0.20404477897291995 L 0.9833647434520773, 0.18164190412850842 L 0.9872553255931591, 0.15914434356252002 L 0.990631274377291, 0.13656382473270262 L 0.9934908300004887, 0.11391211834102738 L 0.9958325018425732, 0.09120103219789436 L 0.997655069244198, 0.06844240506699395 L 0.9989575821431491, 0.04564810049403348 L 0.9997393615695916, 0.022830000622545223 L 1.0, 0.0 L 1.1 ,0.0\", \"type\": \"path\"}, {\"fillcolor\": \"#ecd5bb\", \"layer\": \"below\", \"line\": {\"color\": \"rgb(150,150,150)\", \"width\": 0.45}, \"path\": \"M 1.0490995215500296, 0.3307418840780516 L 1.0420012662876854, 0.35246753191586383 L 1.0344531515201263, 0.3740410101981852 L 1.026458435968128, 0.3954530050838718 L 1.0180205711618362, 0.41669427244843305 L 1.0091431999506502, 0.4377556418749647 L 0.999830154930508, 0.4586280206132598 L 0.9900854567892536, 0.47930239750539044 L 0.9799133125707996, 0.49976984687606213 L 0.9693181138588353, 0.5200215323860641 L 0.9583044348808634, 0.5400487108471507 L 0.9468770305333853, 0.5598427359967071 L 0.9350408343290867, 0.5793950622305696 L 0.9228009562669095, 0.5986972482923881 L 0.91016268062593, 0.6177409609179414 L 0.8971314636839959, 0.636517978432826 L 0.8837129313621069, 0.6550201943019712 L 0.8699128767955563, 0.6732396206294453 L 0.8557372578328802, 0.6911683916070404 L 0.8411921944636976, 0.7087987669101499 L 0.8262839661765489, 0.7261231350394725 L 0.8110190092478741, 0.7431340166070969 L 0.7954039139633029, 0.7598240675655509 L 0.7794454217724531, 0.7761860823784222 L 0.7631504223784693, 0.7922129971311781 L 0.7465259507635557, 0.8078978925808443 L 0.7295791841517875, 0.8232339971432255 L 0.7123174389105145, 0.8382146898163774 L 0.6947481673916911, 0.8528335030390674 L 0.6768789547144993, 0.8670841254829932 L 0.6587175154906518, 0.8809604047775491 L 0.64027169049379, 0.8944563501659678 L 0.6215494432744152, 0.9075661350916884 L 0.6025588567218128, 0.9202840997138341 L 0.5833081295744554, 0.9326047533507164 L 0.5638055728803901, 0.9445227768503073 L 0.5440596064091399, 0.9560330248866573 L 0.5240787550166663, 0.9671305281812694 L 0.5038716449649636, 0.9778104956484676 L 0.48344700019787307, 0.9880683164638354 L 0.46281363857472596, 0.9978995620548309 L 0.4419804680634402, 1.0072999880127183 L 0.4209564828947154, 1.0162655359249921 L 0.3997507596789857, 1.0247923351275 L 0.37837245348780596, 1.0328767043755118 L 0.35683079390136657, 1.0405151534330102 L 0.3351350810238387, 1.0477043845795173 L 0.304668255476217, 0.9524585314359248 L 0.3243916308194241, 0.9459228667572819 L 0.3439749577161872, 0.9389788221595561 L 0.3634097815263506, 0.9316293955704543 L 0.3826877117224685, 0.9238777599318109 L 0.40180042551221834, 0.9157272618297438 L 0.42073967143156904, 0.9071814200498461 L 0.4394972729071573, 0.8982439240580321 L 0.45806513178633057, 0.8889186324076978 L 0.47643523183333303, 0.8792095710738812 L 0.49459964219012714, 0.8691209317151429 L 0.5125505208003546, 0.8586570698639157 L 0.5302801177949594, 0.8478225030461057 L 0.5477807788380116, 0.8366219088307582 L 0.5650449484312865, 0.8250601228106257 L 0.5820651731761727, 0.8131421365145162 L 0.5988341049915016, 0.8008730952523173 L 0.6153445042859085, 0.7882582958936301 L 0.6315892430833555, 0.7753031845809703 L 0.6475613081004676, 0.7620133543785248 L 0.6632538037743522, 0.7483945428574778 L 0.678659955239596, 0.7344526296189493 L 0.6937731112531539, 0.7201936337556164 L 0.7085867470658664, 0.7056237112531111 L 0.7230944672393662, 0.6907491523323189 L 0.7372900084071582, 0.6755763787337243 L 0.7511672419786807, 0.6601119409449749 L 0.7647201767851796, 0.6443625153728635 L 0.7779429616662547, 0.6283349014609457 L 0.7908298879959602, 0.6120360187540411 L 0.8033753921473699, 0.5954729039108829 L 0.8155740578945416, 0.5786527076662054 L 0.8274206187508454, 0.561582691743583 L 0.838909960242645, 0.5442702257203528 L 0.8500371221173515, 0.5267227838459723 L 0.8607973004848957, 0.5089479418151882 L 0.8711858498916939, 0.4909533734974097 L 0.8811982853262138, 0.47274684762369457 L 0.8908302841552723, 0.4543362244327837 L 0.9000776879902305, 0.43572945227762766 L 0.9089365044822799, 0.41693456419387254 L 0.9174029090460455, 0.39795967443178604 L 0.9254732465107601, 0.37881297495312094 L 0.933144032698298, 0.3595027318944289 L 0.9404119559273875, 0.34003728199835015 L 0.9472738784433502, 0.32042502901442166 L 0.953726837772754, 0.300674440070956 L 1.0490995215500296 ,0.3307418840780516\", \"type\": \"path\"}, {\"fillcolor\": \"#e6c4a9\", \"layer\": \"below\", \"line\": {\"color\": \"rgb(150,150,150)\", \"width\": 0.45}, \"path\": \"M 0.3020605220829019, 1.0577142529998378 L 0.27908884096773656, 1.0640063058306026 L 0.25598631376352865, 1.0697995172768402 L 0.23276377169993712, 1.0750911712892166 L 0.20943210227356002, 1.0798787869651285 L 0.18600224414351615, 1.084160119711833 L 0.16248518200304024, 1.0879331622987871 L 0.13889194142949335, 1.091196145798704 L 0.11523358371520927, 1.0939475404168841 L 0.09152120068159247, 1.096186056208434 L 0.06776590947890594, 1.0979106436830353 L 0.0439788473741837, 1.0991204942969803 L 0.02017116652970957, 1.0998150408322442 L -0.0036459712254838053, 1.0999939576624151 L -0.027461399628651628, 1.0996571609053594 L -0.05126395321844971, 1.098804808462548 L -0.07504247256967286, 1.0974372999450266 L -0.09878580952516222, 1.0955552764860652 L -0.12248283242243088, 1.0931596204405736 L -0.1461224313125564, 1.0902514549714242 L -0.1696935231688918, 1.0868321435228758 L -0.19318505708315614, 1.082903289181346 L -0.21658601944646488, 1.0784667339238312 L -0.23988543911287652, 1.0735245577543266 L -0.2630723925430267, 1.068079077728652 L -0.23915672049366066, 0.9709809797533199 L -0.21807767192079683, 0.9759314161402969 L -0.19689638131496806, 0.9804243035671192 L -0.17562277916650557, 0.9844575356194054 L -0.1542668392444471, 0.9880292213844325 L -0.1328385739205058, 0.9911376863376583 L -0.11134802947493716, 0.9937814731277941 L -0.0898052813865111, 0.9959593422600591 L -0.0682204296087935, 0.9976702726772968 L -0.04660359383495428, 0.9989134622386799 L -0.02496490875331966, 0.9996883280957812 L -0.003314519295894368, 0.9999945069658318 L 0.018337424117917788, 0.9998318553020401 L 0.039980770340167, 0.9992004493608911 L 0.06160537225355085, 0.9981005851663957 L 0.08320109152872042, 0.9965327783713035 L 0.10475780337746296, 0.9944977640153491 L 0.1262654012995394, 0.9919964961806399 L 0.14771380182094565, 0.9890301475443518 L 0.1690929492213783, 0.985600108828939 L 0.19039282024869092, 0.9817079881501167 L 0.21160342881812463, 0.9773556102629242 L 0.23271483069411691, 0.9725450157062183 L 0.25371712815248776, 0.9672784598460022 L 0.2746004746208199, 0.9615584118180344 L 0.3020605220829019 ,1.0577142529998378\", \"type\": \"path\"}, {\"fillcolor\": \"#e1b396\", \"layer\": \"below\", \"line\": {\"color\": \"rgb(150,150,150)\", \"width\": 0.45}, \"path\": \"M -0.29649175678478834, 1.0592887416368921 L -0.3199400615614322, 1.0524439923378663 L -0.3432305979206599, 1.0450802632578162 L -0.36635188086417464, 1.0372011855890264 L -0.3892925088556984, 1.0288106446517922 L -0.41204116944328295, 1.0199127779784956 L -0.4345866448376908, 1.01051197327331 L -0.4569178174440967, 1.0006128662485425 L -0.4790236753443804, 0.990220338338676 L -0.5008933177273104, 0.9793395142932444 L -0.5225159602639364, 0.967975759649722 L -0.543880940425544, 0.9561346780876772 L -0.564977722741546, 0.9438221086654927 L -0.5857959039947199, 0.9310441229410178 L -0.6063252183512289, 0.9178070219775695 L -0.6265555424228955, 0.9041173332367605 L -0.6464769002592338, 0.8899818073596858 L -0.6660794682667768, 0.875407414838056 L -0.6853535800532734, 0.8604013425769171 L -0.6230487091393394, 0.7821830387062882 L -0.6055267893334334, 0.7958249225800508 L -0.5877062729629398, 0.809074370326987 L -0.5695959476571777, 0.8219248483970549 L -0.5512047439556625, 0.8343700199796086 L -0.5325417309042908, 0.846403748128198 L -0.5136161115832236, 0.8580200987868114 L -0.49443721856867634, 0.8692133437160701 L -0.47501450933085126, 0.8799779633179291 L -0.4553575615702821, 0.8903086493574949 L -0.43547606849489123, 0.9002003075806144 L -0.4153798340400879, 0.9096480602259476 L -0.39507876803426434, 0.9186472484302818 L -0.3745828813120754, 0.927193434525905 L -0.3539022807779076, 0.9352824042289019 L -0.3330471644219769, 0.9429101687172966 L -0.312027816291509, 0.9500729665980147 L -0.29085460141948377, 0.9567672657616967 L -0.26953796071344394, 0.9629897651244472 L -0.29649175678478834 ,1.0592887416368921\", \"type\": \"path\"}, {\"fillcolor\": \"#dba284\", \"layer\": \"below\", \"line\": {\"color\": \"rgb(150,150,150)\", \"width\": 0.45}, \"path\": \"M -0.7120412587155689, 0.838449310266726 L -0.731018012305031, 0.8219566081525239 L -0.7496128685520765, 0.8050345006899564 L -0.7678161131595695, 0.7876918283012281 L -0.7856182364155435, 0.7699376511194469 L -0.7141983967414032, 0.6999433191994971 L -0.6980146483268813, 0.7160834802738436 L -0.6814662441382513, 0.7318495460817785 L -0.66456182936821, 0.7472332801386581 L -0.6473102351959716, 0.7622266456970236 L -0.7120412587155689 ,0.838449310266726\", \"type\": \"path\"}, {\"fillcolor\": \"#d59171\", \"layer\": \"below\", \"line\": {\"color\": \"rgb(150,150,150)\", \"width\": 0.45}, \"path\": \"M -0.8094149073047849, 0.7448808682150366 L -0.8375857023176769, 0.7130569341034446 L -0.864506101995107, 0.6801685082486735 L -0.890135918041009, 0.646264688353998 L -0.914436888815596, 0.6113960879603775 L -0.8313062625596327, 0.5558146254185249 L -0.8092144709463718, 0.587513353049089 L -0.78591463817737, 0.618335007498794 L -0.7614415475615244, 0.6482335764576769 L -0.7358317339134408, 0.6771644256500332 L -0.8094149073047849 ,0.7448808682150366\", \"type\": \"path\"}, {\"fillcolor\": \"#d0805f\", \"layer\": \"below\", \"line\": {\"color\": \"rgb(150,150,150)\", \"width\": 0.45}, \"path\": \"M -0.9331900846318506, 0.5823712440916015 L -0.9463603792112409, 0.5607156433158937 L -0.9590282254867787, 0.5387623434499487 L -0.9711868977564857, 0.5165230000940264 L -0.9828299406526255, 0.494009420716606 L -0.9939511725690326, 0.47123355838548386 L -1.0045446889430947, 0.44820750542156396 L -1.0146048653906434, 0.4249434869787212 L -1.0241263606920934, 0.40145385455313326 L -1.033104119628239, 0.37775107942554115 L -1.0415333756642073, 0.3538477460399052 L -1.0494096534801403, 0.3297565453219878 L -0.9540087758910365, 0.2997786775654434 L -0.9468485233310976, 0.32167976912718654 L -0.939185563298399, 0.3434100722050374 L -0.9310239642655395, 0.3649580495937575 L -0.9223680594460394, 0.3863122608897465 L -0.9132224444937224, 0.4074613685650581 L -0.9035919750627569, 0.4283941439868035 L -0.8934817642296595, 0.4490994733787327 L -0.8828971797786233, 0.4695663637218422 L -0.871843841351617, 0.4897839485908624 L -0.8603276174647644, 0.5097414939235397 L -0.8483546223925914, 0.5294284037196376 L -0.9331900846318506 ,0.5823712440916015\", \"type\": \"path\"}, {\"fillcolor\": \"#ca6f4c\", \"layer\": \"below\", \"line\": {\"color\": \"rgb(150,150,150)\", \"width\": 0.45}, \"path\": \"M -1.059249736564074, 0.2966310765731399 L -1.063070025922296, 0.28263425126047415 L -1.06670537120495, 0.26858825559303584 L -1.0701551399649192, 0.254495533176251 L -1.0734187320401463, 0.2403585357446766 L -0.9758352109455873, 0.2185077597678878 L -0.9728683090590174, 0.2313595756147736 L -0.9697321556408636, 0.2441711414482144 L -0.9664272962929964, 0.25694022841861286 L -0.9629543059673399, 0.2696646150664908 L -1.059249736564074 ,0.2966310765731399\", \"type\": \"path\"}, {\"fillcolor\": \"#c45e3a\", \"layer\": \"below\", \"line\": {\"color\": \"rgb(150,150,150)\", \"width\": 0.45}, \"path\": \"M -1.0804389087522392, 0.20652303613464265 L -1.085527139507303, 0.17785058164957626 L -1.08985460436952, 0.14905348481185268 L -1.093418270538005, 0.12015192738228589 L -1.096215640502032, 0.09116616433041264 L -0.9965596731836655, 0.08287833120946603 L -0.9940166095800046, 0.10922902489298716 L -0.9907769130631999, 0.13550316801077517 L -0.9868428540975481, 0.16168234695416023 L -0.9822171897747628, 0.18774821466785693 L -1.0804389087522392 ,0.20652303613464265\", \"type\": \"path\"}, {\"fillcolor\": \"#bf4d28\", \"layer\": \"below\", \"line\": {\"color\": \"rgb(150,150,150)\", \"width\": 0.45}, \"path\": \"M -1.098538322681163, 0.05668821395014255 L -1.0998484389697032, 0.018259553551693505 L -1.0998146692256165, -0.020191417883540855 L -1.098437054711577, -0.05861771776994069 L -1.0957172787112424, -0.09697239366763051 L -0.9961066170102202, -0.08815672151602773 L -0.998579140646888, -0.05328883433630971 L -0.9998315174778332, -0.018355834439582594 L -0.9998622172451846, 0.016599594137903184 L -0.9986712024374208, 0.05153473995467504 L -1.098538322681163 ,0.05668821395014255\", \"type\": \"path\"}, {\"fillcolor\": \"#af4624\", \"layer\": \"below\", \"line\": {\"color\": \"rgb(150,150,150)\", \"width\": 0.45}, \"path\": \"M -1.09213063188325, -0.131341855104506 L -1.0865253260677943, -0.17164706759299264 L -1.0794330702885202, -0.21171737474165617 L -1.07086357055892, -0.25149793885795824 L -1.0608285545552907, -0.29093431877338344 L -0.9643895950502642, -0.26448574433943944 L -0.9735123368717453, -0.22863448987087112 L -0.9813027911713819, -0.19247034067423285 L -0.9877502964252675, -0.15604278872090238 L -0.9928460289847727, -0.11940168645864181 L -1.09213063188325 ,-0.131341855104506\", \"type\": \"path\"}, {\"fillcolor\": \"#9f4021\", \"layer\": \"below\", \"line\": {\"color\": \"rgb(150,150,150)\", \"width\": 0.45}, \"path\": \"M -1.0511666319067594, -0.3241121903998669 L -1.038148765641603, -0.36365799922016834 L -1.0236437419714992, -0.40268286469948883 L -1.0076723394727694, -0.4411308833685034 L -0.9902574373225405, -0.4789469780961096 L -0.9002340339295821, -0.43540634372373593 L -0.9160657631570629, -0.4010280757895485 L -0.9305852199740902, -0.36607533154498983 L -0.94377160512873, -0.33059818110924394 L -0.9556060290061449, -0.2946474458180608 L -1.0511666319067594 ,-0.3241121903998669\", \"type\": \"path\"}, {\"fillcolor\": \"#8f391e\", \"layer\": \"below\", \"line\": {\"color\": \"rgb(150,150,150)\", \"width\": 0.45}, \"path\": \"M -0.974724716914662, -0.5098153844634667 L -0.9634244291393563, -0.5308609698758289 L -0.9516698085816113, -0.5516562112713311 L -0.9394663984986907, -0.572191302006505 L -0.9268199537885295, -0.5924565581200264 L -0.9137364382758346, -0.6124424228994854 L -0.9002220218996552, -0.6321394713881556 L -0.8862830778037586, -0.6515384148296223 L -0.8719261793311733, -0.6706301050481873 L -0.8571580969243269, -0.689405538762974 L -0.8419857949322308, -0.7078558618337066 L -0.826416428326227, -0.7259723734361538 L -0.810457339325836, -0.7437465301652754 L -0.7941160539363077, -0.7611699500641281 L -0.777400278399496, -0.7782344165766419 L -0.7603178955597438, -0.794931882422389 L -0.7428769611464789, -0.8112544733915327 L -0.725085699975288, -0.8271944920581537 L -0.706952502069245, -0.8427444214102128 L -0.6884859187023364, -0.8578969283944313 L -0.6258962897293967, -0.7799062985403921 L -0.6426840927902226, -0.7661312921911024 L -0.6591688181593527, -0.7519949927801396 L -0.6753426919513444, -0.7375040667195751 L -0.6911980868724943, -0.7226653476567172 L -0.7067275258177236, -0.7074858332514926 L -0.7219236853966433, -0.6919726818764801 L -0.7367793993871236, -0.6761332092411594 L -0.7512876621147517, -0.659974884941958 L -0.7654416317565734, -0.6435053289397332 L -0.7792346335675698, -0.6267323079663399 L -0.7926601630283393, -0.6096637318619884 L -0.8057118889125078, -0.5923076498451111 L -0.8183836562724137, -0.5746722467165051 L -0.8306694893416677, -0.5567658389995321 L -0.8425635943532086, -0.5385968710182057 L -0.8540603622715369, -0.5201739109150045 L -0.8651543714378284, -0.501505646610301 L -0.8758403901266875, -0.4826008817052989 L -0.886113379013329, -0.46346853133042426 L -0.974724716914662 ,-0.5098153844634667\", \"type\": \"path\"}, {\"fillcolor\": \"#f0f3e7\", \"layer\": \"below\", \"line\": {\"color\": \"rgb(150,150,150)\", \"width\": 0.45}, \"path\": \"M -0.6611989987307494, -0.879099473368887 L -0.6423516257290705, -0.8929638228524269 L -0.6232136317999435, -0.9064241662371566 L -0.6037936755990359, -0.9194744136225904 L -0.5841005433509903, -0.9321086606491102 L -0.5641431448742432, -0.9443211911692965 L -0.543930509549935, -0.9561064798340968 L -0.5234717822367209, -0.967459194592677 L -0.5027762191333357, -0.978374199104815 L -0.4818531835907909, -0.9888465550647481 L -0.4607121418760812, -0.9988715244354269 L -0.4393626588893399, -1.0084445715921573 L -0.4178143938363625, -1.0175613653746653 L -0.39607709585846546, -1.0262177810466568 L -0.3741605996216582, -1.0344099021619821 L -0.35207482086711284, -1.0421340223365663 L -0.32982975192496133, -1.0493866469252975 L -0.3074354571934369, -1.0561644946031195 L -0.28490206858540956, -1.0624644988496108 L -0.26223978094438044, -1.0682838093363785 L -0.23945884743199486, -1.07361979321664 L -0.21656957488917977, -1.0784700363164106 L -0.19358231917298996, -1.0828323442267536 L -0.1705074804712782, -1.0867047432966035 L -0.14735549859731317, -1.0900854815257093 L -0.12413684826646003, -1.0929730293572986 L -0.11285168024223638, -0.9936118448702713 L -0.1339595441793756, -0.9909868013870083 L -0.1550068004284347, -0.9879134029969122 L -0.17598392652089995, -0.9843930402061396 L -0.19688143171743613, -0.9804273057421914 L -0.2176898613018135, -0.976017993833309 L -0.23839980085852763, -0.9711670993967075 L -0.2590018805321905, -0.9658768171360098 L -0.2794867792667608, -0.9601495405482903 L -0.2998452290226921, -0.9539878608411794 L -0.32006801897010256, -0.9473945657605146 L -0.3401459996560529, -0.9403726383290746 L -0.36007008714405947, -0.9329252554969607 L -0.37983126712396587, -0.9250557867042412 L -0.39942059899030896, -0.9167677923565066 L -0.41882921988734656, -0.9080650222140244 L -0.43804834871890075, -0.8989514136952255 L -0.4570692901212143, -0.8894310900952863 L -0.4758834383970189, -0.8795083587206154 L -0.49448228140903183, -0.8691877089400879 L -0.5128574044311301, -0.8584738101539058 L -0.5310004939554457, -0.8473715096810093 L -0.5489033414536689, -0.8358858305659912 L -0.5665578470908577, -0.824021969306506 L -0.583956023390064, -0.8117852935022062 L -0.6010899988461358, -0.7991813394262609 L -0.6611989987307494 ,-0.879099473368887\", \"type\": \"path\"}, {\"fillcolor\": \"#e2ecde\", \"layer\": \"below\", \"line\": {\"color\": \"rgb(150,150,150)\", \"width\": 0.45}, \"path\": \"M -0.08974448172141823, -1.0963329457790432 L -0.07498786391126314, -1.097441032705642 L -0.060217674808291155, -1.0983505049121083 L -0.04543658751920015, -1.0990611978022926 L -0.030647277123040086, -1.0995729827550984 L -0.02786116102094553, -0.9996118025046348 L -0.041305988653818314, -0.9991465434566296 L -0.05474334073481014, -0.9985004590110074 L -0.06817078537387557, -0.9976736660960381 L -0.08158589247401657, -0.9966663143445845 L -0.08974448172141823 ,-1.0963329457790432\", \"type\": \"path\"}, {\"fillcolor\": \"#d4e5d6\", \"layer\": \"below\", \"line\": {\"color\": \"rgb(150,150,150)\", \"width\": 0.45}, \"path\": \"M 0.003906267508313948, -1.0999930641027487 L 0.026984684667724548, -1.0996689623670315 L 0.050051221465552506, -1.0988607169381415 L 0.07309572255623821, -1.0975686836567367 L 0.09610804229573135, -1.095793431357426 L 0.11907804920824282, -1.093535741618334 L 0.14199563044676392, -1.0907966084169982 L 0.16485069624537396, -1.0875772376927606 L 0.18763318436139617, -1.0838790468158348 L 0.21033306450543116, -1.0797036639632906 L 0.2329403427573232, -1.0750529274022285 L 0.25544506596611516, -1.0699288846804573 L 0.27783732613205236, -1.0643337917250357 L 0.3001072647687139, -1.0582701118490692 L 0.32224507724333445, -1.0517405146672052 L 0.3442410170934268, -1.0447478749203003 L 0.3660854003177883, -1.0372952712097772 L 0.38776860964001025, -1.02938598464223 L 0.40928109874260954, -1.0210234973848753 L 0.43061339646992025, -1.0122114911324804 L 0.4517561109978944, -1.0029538454864502 L 0.472699933968975, -0.9932546362467819 L 0.49343564459022543, -0.9831181336176386 L 0.5139541136929004, -0.9725488003273385 L 0.534246307751685, -0.9615512896635791 L 0.5543032928618219, -0.9501304434247655 L 0.5741162386723805, -0.9382912897883462 L 0.5936764222739349, -0.9260390410970916 L 0.6129752320389381, -0.9133790915642914 L 0.6320041714131074, -0.9003170148988809 L 0.6507548626561392, -0.8868585618515443 L 0.6692190505301223, -0.8730096576828699 L 0.687388605934014, -0.8587763995546763 L 0.6248987326672854, -0.7807058177769785 L 0.6083809550273839, -0.7936451433480635 L 0.5915953296873993, -0.8062350562286766 L 0.5745492467391885, -0.8184700135444372 L 0.5572502109444891, -0.8303446286948103 L 0.5397058384308498, -0.8418536737246286 L 0.5219238533385276, -0.8529920816257692 L 0.503912084419838, -0.8637549485679685 L 0.4856784615924409, -0.8741375360577991 L 0.4672310124480913, -0.8841352730248531 L 0.44857785871838673, -0.8937437578342168 L 0.4297272126990681, -0.9029587602243471 L 0.41068737363444946, -0.9117762231695001 L 0.3914667240635638, -0.9201922646658912 L 0.372073726129645, -0.9282031794407957 L 0.35251691785455475, -0.9358054405838454 L 0.3328049093798075, -0.9429957010997972 L 0.3129463791758425, -0.9497707953820911 L 0.2929500702212131, -0.95612774060655 L 0.27282478615337624, -0.9620637380446082 L 0.25257938739277486, -0.9675761742954869 L 0.23222278724192283, -0.9726626224367793 L 0.2117639479612029, -0.9773208430929349 L 0.19121187682311921, -0.9815487854211732 L 0.17057562214672378, -0.9853445880143952 L 0.1498642693139763, -0.9887065797206914 L 0.12908693676978536, -0.9916332803790893 L 0.10825277200749346, -0.9941234014712126 L 0.08737094754157394, -0.9961758466885691 L 0.06645065686930746, -0.9977897124152151 L 0.045501110423229546, -0.9989642881255831 L 0.024531531516113224, -0.9996990566973013 L 0.0035511522802854066, -0.9999936946388623 L 0.003906267508313948 ,-1.0999930641027487\", \"type\": \"path\"}, {\"fillcolor\": \"#c6decd\", \"layer\": \"below\", \"line\": {\"color\": \"rgb(150,150,150)\", \"width\": 0.45}, \"path\": \"M 0.7140242397400958, -0.8367612473481182 L 0.7317529921465664, -0.8213023550949718 L 0.7491471423261855, -0.8054679131688054 L 0.7661987366095513, -0.7892651620450047 L 0.7828999779647678, -0.7727015106124526 L 0.7992432295627308, -0.7557845327857247 L 0.8152210182691473, -0.7385219640418387 L 0.830826038061715, -0.7209216978831156 L 0.8460511533708774, -0.7029917822277927 L 0.860889402342648, -0.6847404157300184 L 0.8753340000219905, -0.666175944030931 L 0.88937834145532, -0.6473068559425155 L 0.9030160047106877, -0.6281417795660049 L 0.9162407538142846, -0.6086894783465802 L 0.9290465416019066, -0.588958847066191 L 0.9414275124840921, -0.568958907776313 L 0.9533780051236503, -0.5486988056725193 L 0.964892555024377, -0.5281878049127318 L 0.9759658970297507, -0.5074352843810866 L 0.9865929677304878, -0.48645073339933304 L 0.896902697936807, -0.44222793945393907 L 0.8872417245725005, -0.461304803982806 L 0.8771750500221608, -0.480170731738847 L 0.8667072773851366, -0.4988170960659266 L 0.8558431931673564, -0.517235370705739 L 0.8445877650926423, -0.5354171336965372 L 0.8329461398311677, -0.5533540712241637 L 0.8209236406460796, -0.5710379814236408 L 0.8085257649593818, -0.5884607781295594 L 0.795758181838173, -0.6056144945735736 L 0.7826267294024072, -0.6224912870272894 L 0.769137412155343, -0.6390834383889024 L 0.7552963982379226, -0.6553833617119231 L 0.7411100166083157, -0.6713836036743988 L 0.726584754147937, -0.6870768479870224 L 0.7117272526952434, -0.7024559187385933 L 0.6965443060086829, -0.717513783677277 L 0.6810428566601686, -0.7322435574261866 L 0.6652299928605149, -0.7466385046317925 L 0.6491129452182688, -0.7606920430437437 L 0.7140242397400958 ,-0.8367612473481182\", \"type\": \"path\"}, {\"fillcolor\": \"#b8d7c5\", \"layer\": \"below\", \"line\": {\"color\": \"rgb(150,150,150)\", \"width\": 0.45}, \"path\": \"M 1.0013859304475041, -0.45522106530979706 L 1.0167393894101384, -0.41981068831307616 L 1.030841146811593, -0.38388348497970054 L 1.0436738420657243, -0.34748368506704 L 1.0552216769209346, -0.3106561001431819 L 0.959292433564486, -0.2824146364938017 L 0.9487944018779311, -0.31589425915185454 L 0.9371283152832663, -0.34898498634518227 L 0.9243085358273986, -0.38164608028461466 L 0.9103508458613674, -0.4138373320998155 L 1.0013859304475041 ,-0.45522106530979706\", \"type\": \"path\"}, {\"fillcolor\": \"#aad0bc\", \"layer\": \"below\", \"line\": {\"color\": \"rgb(150,150,150)\", \"width\": 0.45}, \"path\": \"M 1.064458932640351, -0.27735749624296213 L 1.0720144945070889, -0.24654598671791614 L 1.0786783922516823, -0.2155294088734198 L 1.0844450830773105, -0.18433356121294225 L 1.089309770452453, -0.15298439135030903 L 0.9902816095022299, -0.13907671940937183 L 0.9858591664339185, -0.1675759647390384 L 0.9806167202288021, -0.19593582624856343 L 0.9745586313700807, -0.22413271519810557 L 0.9676899387639555, -0.25214317840269285 L 1.064458932640351 ,-0.27735749624296213\", \"type\": \"path\"}, {\"fillcolor\": \"#9cc9b4\", \"layer\": \"below\", \"line\": {\"color\": \"rgb(150,150,150)\", \"width\": 0.45}, \"path\": \"M 1.0935776176971344, -0.11869285602705931 L 1.0956523068597166, -0.09770374851039196 L 1.0973241880815572, -0.07667872098014666 L 1.0985926467086944, -0.055625503122090914 L 1.0994572164023046, -0.03455183498594413 L 0.9995065603657315, -0.031410759078131026 L 0.9987205879169949, -0.05056863920190083 L 0.9975674437105065, -0.0697079281637697 L 0.9960475516906513, -0.08882158955490177 L 0.9941614706337585, -0.10790259638823572 L 1.0935776176971344 ,-0.11869285602705931\", \"type\": \"path\"}], \"showlegend\": false, \"title\": \"Data Jobs \\u2012 Technologies in Demand and Relationships Between Them\", \"titlefont\": {\"color\": \"#655643\", \"family\": \"Merryweather\", \"size\": 18}, \"width\": 960, \"xaxis\": {\"showgrid\": false, \"showline\": false, \"showticklabels\": false, \"title\": \"\", \"zeroline\": false}, \"yaxis\": {\"showgrid\": false, \"showline\": false, \"showticklabels\": false, \"title\": \"\", \"zeroline\": false}}, {\"showLink\": true, \"linkText\": \"Export to plot.ly\", \"plotlyServerURL\": \"https://plot.ly\"})});</script>"
      ],
      "text/vnd.plotly.v1+html": [
       "<div id=\"0a753bd3-673b-4e9b-bb35-e8037d5d0977\" style=\"height: 525px; width: 960px;\" class=\"plotly-graph-div\"></div><script type=\"text/javascript\">require([\"plotly\"], function(Plotly) { window.PLOTLYENV=window.PLOTLYENV || {};window.PLOTLYENV.BASE_URL=\"https://plot.ly\";Plotly.newPlot(\"0a753bd3-673b-4e9b-bb35-e8037d5d0977\", [{\"hoverinfo\": \"text\", \"line\": {\"color\": \"#f2e6ce\", \"shape\": \"spline\", \"width\": 0.25}, \"mode\": \"lines\", \"text\": \"Power BI<br>1161\", \"x\": [1.1, 1.099713297726551, 1.098853340357464, 1.097420576168618, 1.0954157520268306, 1.0928399130005375, 1.0896944018150203, 1.085980858152475, 1.0817012177972851, 1.07685771162694, 1.0714528644491317, 1.06548949368563, 1.0589707079036266], \"y\": [0.0, 0.025113000684799748, 0.05021291054343683, 0.07528664557369336, 0.1003211354176838, 0.12530333017513012, 0.1502202072059729, 0.17505877791877203, 0.19980609454135928, 0.22444925687021197, 0.24897541899503062, 0.273371795995015, 0.29762567060334727], \"type\": \"scatter\", \"uid\": \"4a6608a4-fa17-44f3-b064-46c1defb7826\"}, {\"hoverinfo\": \"text\", \"line\": {\"color\": \"#ecd5bb\", \"shape\": \"spline\", \"width\": 0.25}, \"mode\": \"lines\", \"text\": \"Excel<br>3753\", \"x\": [1.0490995215500296, 1.0420012662876854, 1.0344531515201263, 1.026458435968128, 1.0180205711618362, 1.0091431999506502, 0.999830154930508, 0.9900854567892536, 0.9799133125707996, 0.9693181138588353, 0.9583044348808634, 0.9468770305333853, 0.9350408343290867, 0.9228009562669095, 0.91016268062593, 0.8971314636839959, 0.8837129313621069, 0.8699128767955563, 0.8557372578328802, 0.8411921944636976, 0.8262839661765489, 0.8110190092478741, 0.7954039139633029, 0.7794454217724531, 0.7631504223784693, 0.7465259507635557, 0.7295791841517875, 0.7123174389105145, 0.6947481673916911, 0.6768789547144993, 0.6587175154906518, 0.64027169049379, 0.6215494432744152, 0.6025588567218128, 0.5833081295744554, 0.5638055728803901, 0.5440596064091399, 0.5240787550166663, 0.5038716449649636, 0.48344700019787307, 0.46281363857472596, 0.4419804680634402, 0.4209564828947154, 0.3997507596789857, 0.37837245348780596, 0.35683079390136657, 0.3351350810238387], \"y\": [0.3307418840780516, 0.35246753191586383, 0.3740410101981852, 0.3954530050838718, 0.41669427244843305, 0.4377556418749647, 0.4586280206132598, 0.47930239750539044, 0.49976984687606213, 0.5200215323860641, 0.5400487108471507, 0.5598427359967071, 0.5793950622305696, 0.5986972482923881, 0.6177409609179414, 0.636517978432826, 0.6550201943019712, 0.6732396206294453, 0.6911683916070404, 0.7087987669101499, 0.7261231350394725, 0.7431340166070969, 0.7598240675655509, 0.7761860823784222, 0.7922129971311781, 0.8078978925808443, 0.8232339971432255, 0.8382146898163774, 0.8528335030390674, 0.8670841254829932, 0.8809604047775491, 0.8944563501659678, 0.9075661350916884, 0.9202840997138341, 0.9326047533507164, 0.9445227768503073, 0.9560330248866573, 0.9671305281812694, 0.9778104956484676, 0.9880683164638354, 0.9978995620548309, 1.0072999880127183, 1.0162655359249921, 1.0247923351275, 1.0328767043755118, 1.0405151534330102, 1.0477043845795173], \"type\": \"scatter\", \"uid\": \"bb762964-159f-4517-b3e3-ca4e9558b988\"}, {\"hoverinfo\": \"text\", \"line\": {\"color\": \"#e6c4a9\", \"shape\": \"spline\", \"width\": 0.25}, \"mode\": \"lines\", \"text\": \"SSIS/SSRS<br>2095\", \"x\": [0.3020605220829019, 0.27908884096773656, 0.25598631376352865, 0.23276377169993712, 0.20943210227356002, 0.18600224414351615, 0.16248518200304024, 0.13889194142949335, 0.11523358371520927, 0.09152120068159247, 0.06776590947890594, 0.0439788473741837, 0.02017116652970957, -0.0036459712254838053, -0.027461399628651628, -0.05126395321844971, -0.07504247256967286, -0.09878580952516222, -0.12248283242243088, -0.1461224313125564, -0.1696935231688918, -0.19318505708315614, -0.21658601944646488, -0.23988543911287652, -0.2630723925430267], \"y\": [1.0577142529998378, 1.0640063058306026, 1.0697995172768402, 1.0750911712892166, 1.0798787869651285, 1.084160119711833, 1.0879331622987871, 1.091196145798704, 1.0939475404168841, 1.096186056208434, 1.0979106436830353, 1.0991204942969803, 1.0998150408322442, 1.0999939576624151, 1.0996571609053594, 1.098804808462548, 1.0974372999450266, 1.0955552764860652, 1.0931596204405736, 1.0902514549714242, 1.0868321435228758, 1.082903289181346, 1.0784667339238312, 1.0735245577543266, 1.068079077728652], \"type\": \"scatter\", \"uid\": \"710a2d72-a80e-4388-9b4a-8ef58a71c56f\"}, {\"hoverinfo\": \"text\", \"line\": {\"color\": \"#e1b396\", \"shape\": \"spline\", \"width\": 0.25}, \"mode\": \"lines\", \"text\": \"MS SQL Server<br>1639\", \"x\": [-0.29649175678478834, -0.3199400615614322, -0.3432305979206599, -0.36635188086417464, -0.3892925088556984, -0.41204116944328295, -0.4345866448376908, -0.4569178174440967, -0.4790236753443804, -0.5008933177273104, -0.5225159602639364, -0.543880940425544, -0.564977722741546, -0.5857959039947199, -0.6063252183512289, -0.6265555424228955, -0.6464769002592338, -0.6660794682667768, -0.6853535800532734], \"y\": [1.0592887416368921, 1.0524439923378663, 1.0450802632578162, 1.0372011855890264, 1.0288106446517922, 1.0199127779784956, 1.01051197327331, 1.0006128662485425, 0.990220338338676, 0.9793395142932444, 0.967975759649722, 0.9561346780876772, 0.9438221086654927, 0.9310441229410178, 0.9178070219775695, 0.9041173332367605, 0.8899818073596858, 0.875407414838056, 0.8604013425769171], \"type\": \"scatter\", \"uid\": \"6248abd3-a4c2-4746-90f1-6b267965bd8b\"}, {\"hoverinfo\": \"text\", \"line\": {\"color\": \"#dba284\", \"shape\": \"spline\", \"width\": 0.25}, \"mode\": \"lines\", \"text\": \"PostgreSQL<br>467\", \"x\": [-0.7120412587155689, -0.731018012305031, -0.7496128685520765, -0.7678161131595695, -0.7856182364155435], \"y\": [0.838449310266726, 0.8219566081525239, 0.8050345006899564, 0.7876918283012281, 0.7699376511194469], \"type\": \"scatter\", \"uid\": \"39bdbfca-ea85-4894-b019-5c84b81a1b6a\"}, {\"hoverinfo\": \"text\", \"line\": {\"color\": \"#d59171\", \"shape\": \"spline\", \"width\": 0.25}, \"mode\": \"lines\", \"text\": \"MySQL/MariaDB<br>707\", \"x\": [-0.8094149073047849, -0.8375857023176769, -0.864506101995107, -0.890135918041009, -0.914436888815596], \"y\": [0.7448808682150366, 0.7130569341034446, 0.6801685082486735, 0.646264688353998, 0.6113960879603775], \"type\": \"scatter\", \"uid\": \"634a51e5-7419-44bb-a302-b2938079be20\"}, {\"hoverinfo\": \"text\", \"line\": {\"color\": \"#d0805f\", \"shape\": \"spline\", \"width\": 0.25}, \"mode\": \"lines\", \"text\": \"T-SQL<br>1083\", \"x\": [-0.9331900846318506, -0.9463603792112409, -0.9590282254867787, -0.9711868977564857, -0.9828299406526255, -0.9939511725690326, -1.0045446889430947, -1.0146048653906434, -1.0241263606920934, -1.033104119628239, -1.0415333756642073, -1.0494096534801403], \"y\": [0.5823712440916015, 0.5607156433158937, 0.5387623434499487, 0.5165230000940264, 0.494009420716606, 0.47123355838548386, 0.44820750542156396, 0.4249434869787212, 0.40145385455313326, 0.37775107942554115, 0.3538477460399052, 0.3297565453219878], \"type\": \"scatter\", \"uid\": \"0da26845-d4cc-41ce-833a-06fcf926a43e\"}, {\"hoverinfo\": \"text\", \"line\": {\"color\": \"#ca6f4c\", \"shape\": \"spline\", \"width\": 0.25}, \"mode\": \"lines\", \"text\": \"PL/SQL<br>320\", \"x\": [-1.059249736564074, -1.063070025922296, -1.06670537120495, -1.0701551399649192, -1.0734187320401463], \"y\": [0.2966310765731399, 0.28263425126047415, 0.26858825559303584, 0.254495533176251, 0.2403585357446766], \"type\": \"scatter\", \"uid\": \"cccce8b5-45e8-48e5-8137-1cc670438ae3\"}, {\"hoverinfo\": \"text\", \"line\": {\"color\": \"#c45e3a\", \"shape\": \"spline\", \"width\": 0.25}, \"mode\": \"lines\", \"text\": \"Pentaho<br>522\", \"x\": [-1.0804389087522392, -1.085527139507303, -1.08985460436952, -1.093418270538005, -1.096215640502032], \"y\": [0.20652303613464265, 0.17785058164957626, 0.14905348481185268, 0.12015192738228589, 0.09116616433041264], \"type\": \"scatter\", \"uid\": \"708d65ba-e1f4-4713-8ccb-37d202aa07f9\"}, {\"hoverinfo\": \"text\", \"line\": {\"color\": \"#bf4d28\", \"shape\": \"spline\", \"width\": 0.25}, \"mode\": \"lines\", \"text\": \"Hadoop<br>651\", \"x\": [-1.098538322681163, -1.0998484389697032, -1.0998146692256165, -1.098437054711577, -1.0957172787112424], \"y\": [0.05668821395014255, 0.018259553551693505, -0.020191417883540855, -0.05861771776994069, -0.09697239366763051], \"type\": \"scatter\", \"uid\": \"e0de1720-ad7f-4e7d-9137-433ec747b76f\"}, {\"hoverinfo\": \"text\", \"line\": {\"color\": \"#af4624\", \"shape\": \"spline\", \"width\": 0.25}, \"mode\": \"lines\", \"text\": \"Spark<br>682\", \"x\": [-1.09213063188325, -1.0865253260677943, -1.0794330702885202, -1.07086357055892, -1.0608285545552907], \"y\": [-0.131341855104506, -0.17164706759299264, -0.21171737474165617, -0.25149793885795824, -0.29093431877338344], \"type\": \"scatter\", \"uid\": \"8213a3c5-d570-4eb6-958a-acc83d604c1c\"}, {\"hoverinfo\": \"text\", \"line\": {\"color\": \"#9f4021\", \"shape\": \"spline\", \"width\": 0.25}, \"mode\": \"lines\", \"text\": \"Informatica<br>695\", \"x\": [-1.0511666319067594, -1.038148765641603, -1.0236437419714992, -1.0076723394727694, -0.9902574373225405], \"y\": [-0.3241121903998669, -0.36365799922016834, -0.40268286469948883, -0.4411308833685034, -0.4789469780961096], \"type\": \"scatter\", \"uid\": \"0b43a858-3672-43ff-a58f-4ca44af04948\"}, {\"hoverinfo\": \"text\", \"line\": {\"color\": \"#8f391e\", \"shape\": \"spline\", \"width\": 0.25}, \"mode\": \"lines\", \"text\": \"Qlik<br>1688\", \"x\": [-0.974724716914662, -0.9634244291393563, -0.9516698085816113, -0.9394663984986907, -0.9268199537885295, -0.9137364382758346, -0.9002220218996552, -0.8862830778037586, -0.8719261793311733, -0.8571580969243269, -0.8419857949322308, -0.826416428326227, -0.810457339325836, -0.7941160539363077, -0.777400278399496, -0.7603178955597438, -0.7428769611464789, -0.725085699975288, -0.706952502069245, -0.6884859187023364], \"y\": [-0.5098153844634667, -0.5308609698758289, -0.5516562112713311, -0.572191302006505, -0.5924565581200264, -0.6124424228994854, -0.6321394713881556, -0.6515384148296223, -0.6706301050481873, -0.689405538762974, -0.7078558618337066, -0.7259723734361538, -0.7437465301652754, -0.7611699500641281, -0.7782344165766419, -0.794931882422389, -0.8112544733915327, -0.8271944920581537, -0.8427444214102128, -0.8578969283944313], \"type\": \"scatter\", \"uid\": \"80caa8cc-66e4-4e43-a805-b29285a31638\"}, {\"hoverinfo\": \"text\", \"line\": {\"color\": \"#f0f3e7\", \"shape\": \"spline\", \"width\": 0.25}, \"mode\": \"lines\", \"text\": \"Tableau<br>2141\", \"x\": [-0.6611989987307494, -0.6423516257290705, -0.6232136317999435, -0.6037936755990359, -0.5841005433509903, -0.5641431448742432, -0.543930509549935, -0.5234717822367209, -0.5027762191333357, -0.4818531835907909, -0.4607121418760812, -0.4393626588893399, -0.4178143938363625, -0.39607709585846546, -0.3741605996216582, -0.35207482086711284, -0.32982975192496133, -0.3074354571934369, -0.28490206858540956, -0.26223978094438044, -0.23945884743199486, -0.21656957488917977, -0.19358231917298996, -0.1705074804712782, -0.14735549859731317, -0.12413684826646003], \"y\": [-0.879099473368887, -0.8929638228524269, -0.9064241662371566, -0.9194744136225904, -0.9321086606491102, -0.9443211911692965, -0.9561064798340968, -0.967459194592677, -0.978374199104815, -0.9888465550647481, -0.9988715244354269, -1.0084445715921573, -1.0175613653746653, -1.0262177810466568, -1.0344099021619821, -1.0421340223365663, -1.0493866469252975, -1.0561644946031195, -1.0624644988496108, -1.0682838093363785, -1.07361979321664, -1.0784700363164106, -1.0828323442267536, -1.0867047432966035, -1.0900854815257093, -1.0929730293572986], \"type\": \"scatter\", \"uid\": \"65e671ef-4a33-48ca-8d87-53cd672c7396\"}, {\"hoverinfo\": \"text\", \"line\": {\"color\": \"#e2ecde\", \"shape\": \"spline\", \"width\": 0.25}, \"mode\": \"lines\", \"text\": \"Microstrategy<br>324\", \"x\": [-0.08974448172141823, -0.07498786391126314, -0.060217674808291155, -0.04543658751920015, -0.030647277123040086], \"y\": [-1.0963329457790432, -1.097441032705642, -1.0983505049121083, -1.0990611978022926, -1.0995729827550984], \"type\": \"scatter\", \"uid\": \"f47875c8-f072-45b5-a059-249d504329fd\"}, {\"hoverinfo\": \"text\", \"line\": {\"color\": \"#d4e5d6\", \"shape\": \"spline\", \"width\": 0.25}, \"mode\": \"lines\", \"text\": \"Oracle BI<br>2672\", \"x\": [0.003906267508313948, 0.026984684667724548, 0.050051221465552506, 0.07309572255623821, 0.09610804229573135, 0.11907804920824282, 0.14199563044676392, 0.16485069624537396, 0.18763318436139617, 0.21033306450543116, 0.2329403427573232, 0.25544506596611516, 0.27783732613205236, 0.3001072647687139, 0.32224507724333445, 0.3442410170934268, 0.3660854003177883, 0.38776860964001025, 0.40928109874260954, 0.43061339646992025, 0.4517561109978944, 0.472699933968975, 0.49343564459022543, 0.5139541136929004, 0.534246307751685, 0.5543032928618219, 0.5741162386723805, 0.5936764222739349, 0.6129752320389381, 0.6320041714131074, 0.6507548626561392, 0.6692190505301223, 0.687388605934014], \"y\": [-1.0999930641027487, -1.0996689623670315, -1.0988607169381415, -1.0975686836567367, -1.095793431357426, -1.093535741618334, -1.0907966084169982, -1.0875772376927606, -1.0838790468158348, -1.0797036639632906, -1.0750529274022285, -1.0699288846804573, -1.0643337917250357, -1.0582701118490692, -1.0517405146672052, -1.0447478749203003, -1.0372952712097772, -1.02938598464223, -1.0210234973848753, -1.0122114911324804, -1.0029538454864502, -0.9932546362467819, -0.9831181336176386, -0.9725488003273385, -0.9615512896635791, -0.9501304434247655, -0.9382912897883462, -0.9260390410970916, -0.9133790915642914, -0.9003170148988809, -0.8868585618515443, -0.8730096576828699, -0.8587763995546763], \"type\": \"scatter\", \"uid\": \"f2f49867-2123-403a-8700-21b8af43bd02\"}, {\"hoverinfo\": \"text\", \"line\": {\"color\": \"#c6decd\", \"shape\": \"spline\", \"width\": 0.25}, \"mode\": \"lines\", \"text\": \"Python<br>1664\", \"x\": [0.7140242397400958, 0.7317529921465664, 0.7491471423261855, 0.7661987366095513, 0.7828999779647678, 0.7992432295627308, 0.8152210182691473, 0.830826038061715, 0.8460511533708774, 0.860889402342648, 0.8753340000219905, 0.88937834145532, 0.9030160047106877, 0.9162407538142846, 0.9290465416019066, 0.9414275124840921, 0.9533780051236503, 0.964892555024377, 0.9759658970297507, 0.9865929677304878], \"y\": [-0.8367612473481182, -0.8213023550949718, -0.8054679131688054, -0.7892651620450047, -0.7727015106124526, -0.7557845327857247, -0.7385219640418387, -0.7209216978831156, -0.7029917822277927, -0.6847404157300184, -0.666175944030931, -0.6473068559425155, -0.6281417795660049, -0.6086894783465802, -0.588958847066191, -0.568958907776313, -0.5486988056725193, -0.5281878049127318, -0.5074352843810866, -0.48645073339933304], \"type\": \"scatter\", \"uid\": \"580e7533-904b-483d-93b4-073cd07e2bd3\"}, {\"hoverinfo\": \"text\", \"line\": {\"color\": \"#b8d7c5\", \"shape\": \"spline\", \"width\": 0.25}, \"mode\": \"lines\", \"text\": \"VBA<br>653\", \"x\": [1.0013859304475041, 1.0167393894101384, 1.030841146811593, 1.0436738420657243, 1.0552216769209346], \"y\": [-0.45522106530979706, -0.41981068831307616, -0.38388348497970054, -0.34748368506704, -0.3106561001431819], \"type\": \"scatter\", \"uid\": \"af8cec23-c8c1-4081-ab69-77cc0f45249b\"}, {\"hoverinfo\": \"text\", \"line\": {\"color\": \"#aad0bc\", \"shape\": \"spline\", \"width\": 0.25}, \"mode\": \"lines\", \"text\": \"Linux<br>558\", \"x\": [1.064458932640351, 1.0720144945070889, 1.0786783922516823, 1.0844450830773105, 1.089309770452453], \"y\": [-0.27735749624296213, -0.24654598671791614, -0.2155294088734198, -0.18433356121294225, -0.15298439135030903], \"type\": \"scatter\", \"uid\": \"352ba9c3-3c2c-45d8-86d7-cde823d73031\"}, {\"hoverinfo\": \"text\", \"line\": {\"color\": \"#9cc9b4\", \"shape\": \"spline\", \"width\": 0.25}, \"mode\": \"lines\", \"text\": \"AWS<br>411\", \"x\": [1.0935776176971344, 1.0956523068597166, 1.0973241880815572, 1.0985926467086944, 1.0994572164023046], \"y\": [-0.11869285602705931, -0.09770374851039196, -0.07667872098014666, -0.055625503122090914, -0.03455183498594413], \"type\": \"scatter\", \"uid\": \"95914097-f01a-49c0-b02b-d4a7415b2329\"}, {\"hoverinfo\": \"text\", \"marker\": {\"color\": \"green\", \"size\": 0.5}, \"mode\": \"markers\", \"text\": \"Power BI appears with Excel 192 times\", \"x\": [0.8717245300976514], \"y\": [0.22382212496987183], \"type\": \"scatter\", \"uid\": \"9da23b10-6ec2-464f-9a34-e867997e1c34\"}, {\"hoverinfo\": \"text\", \"marker\": {\"color\": \"blue\", \"size\": 0.5}, \"mode\": \"markers\", \"text\": \"Excel appears with Power BI 192 times\", \"x\": [0.7657621339619618], \"y\": [0.4728724502336994], \"type\": \"scatter\", \"uid\": \"8f70fcf5-df27-4c84-a9bf-d8ff5c1ad18a\"}, {\"hoverinfo\": \"text\", \"marker\": {\"color\": \"green\", \"size\": 0.5}, \"mode\": \"markers\", \"text\": \"Power BI appears with SSIS/SSRS 116 times\", \"x\": [0.8974828224080029], \"y\": [0.0672650242144098], \"type\": \"scatter\", \"uid\": \"74730592-d9c3-4333-95c4-15034ac47fbe\"}, {\"hoverinfo\": \"text\", \"marker\": {\"color\": \"blue\", \"size\": 0.5}, \"mode\": \"markers\", \"text\": \"SSIS/SSRS appears with Power BI 116 times\", \"x\": [0.11829720307471972], \"y\": [0.8921915555219622], \"type\": \"scatter\", \"uid\": \"c22856b1-6ffd-4825-89b0-163dedb307bc\"}, {\"hoverinfo\": \"text\", \"marker\": {\"color\": \"green\", \"size\": 0.5}, \"mode\": \"markers\", \"text\": \"Power BI appears with MS SQL Server 122 times\", \"x\": [0.8952402112139959], \"y\": [0.09243897568406995], \"type\": \"scatter\", \"uid\": \"e0f00035-20c7-4b52-973a-7ae3cd5af3f9\"}, {\"hoverinfo\": \"text\", \"marker\": {\"color\": \"blue\", \"size\": 0.5}, \"mode\": \"markers\", \"text\": \"MS SQL Server appears with Power BI 122 times\", \"x\": [-0.39716725616137905], \"y\": [0.8076250185780784], \"type\": \"scatter\", \"uid\": \"74e65673-19c9-4f7d-a0fd-d0e0a0efe144\"}, {\"hoverinfo\": \"text\", \"marker\": {\"color\": \"green\", \"size\": 0.5}, \"mode\": \"markers\", \"text\": \"Power BI appears with MySQL/MariaDB 5 times\", \"x\": [0.8999998433689408], \"y\": [0.0005309763479847971], \"type\": \"scatter\", \"uid\": \"45f97bac-04e4-4bcf-9822-da4d2c60ba3a\"}, {\"hoverinfo\": \"text\", \"marker\": {\"color\": \"blue\", \"size\": 0.5}, \"mode\": \"markers\", \"text\": \"MySQL/MariaDB appears with Power BI 5 times\", \"x\": [-0.6632469208162209], \"y\": [0.6083613416611886], \"type\": \"scatter\", \"uid\": \"73eafcca-ffb0-4355-949b-b205b94702ed\"}, {\"hoverinfo\": \"text\", \"marker\": {\"color\": \"green\", \"size\": 0.5}, \"mode\": \"markers\", \"text\": \"Power BI appears with T-SQL 42 times\", \"x\": [0.8993178012878101], \"y\": [0.03503558600707009], \"type\": \"scatter\", \"uid\": \"7dcbd952-92ee-4368-b6cb-a8c9fd061a36\"}, {\"hoverinfo\": \"text\", \"marker\": {\"color\": \"blue\", \"size\": 0.5}, \"mode\": \"markers\", \"text\": \"T-SQL appears with Power BI 42 times\", \"x\": [-0.7923846487916035], \"y\": [0.42676289477812757], \"type\": \"scatter\", \"uid\": \"9a3f2bb1-6267-4018-951c-4adeb17c7988\"}, {\"hoverinfo\": \"text\", \"marker\": {\"color\": \"green\", \"size\": 0.5}, \"mode\": \"markers\", \"text\": \"Power BI appears with PL/SQL 7 times\", \"x\": [0.8999904705828954], \"y\": [0.004141601137056899], \"type\": \"scatter\", \"uid\": \"4d5454c9-2463-4ac9-94db-d4f8bb5df7e6\"}, {\"hoverinfo\": \"text\", \"marker\": {\"color\": \"blue\", \"size\": 0.5}, \"mode\": \"markers\", \"text\": \"PL/SQL appears with Power BI 7 times\", \"x\": [-0.8673951135583052], \"y\": [0.24005357105274408], \"type\": \"scatter\", \"uid\": \"02c1d7f9-42b5-4679-b5c7-1de38d068b7d\"}, {\"hoverinfo\": \"text\", \"marker\": {\"color\": \"green\", \"size\": 0.5}, \"mode\": \"markers\", \"text\": \"Power BI appears with Pentaho 8 times\", \"x\": [0.8999817306145287], \"y\": [0.005734506088404311], \"type\": \"scatter\", \"uid\": \"4291deb8-b28b-487f-b21f-f7f22afba614\"}, {\"hoverinfo\": \"text\", \"marker\": {\"color\": \"blue\", \"size\": 0.5}, \"mode\": \"markers\", \"text\": \"Pentaho appears with Power BI 8 times\", \"x\": [-0.8847407980116347], \"y\": [0.16502642313804095], \"type\": \"scatter\", \"uid\": \"a7c9f43f-c916-4020-967f-7715de7c788f\"}, {\"hoverinfo\": \"text\", \"marker\": {\"color\": \"green\", \"size\": 0.5}, \"mode\": \"markers\", \"text\": \"Power BI appears with Hadoop 21 times\", \"x\": [0.8999282701908533], \"y\": [0.011362592631021769], \"type\": \"scatter\", \"uid\": \"9d99a144-ca78-47b9-b4ad-069c5bacb96d\"}, {\"hoverinfo\": \"text\", \"marker\": {\"color\": \"blue\", \"size\": 0.5}, \"mode\": \"markers\", \"text\": \"Hadoop appears with Power BI 21 times\", \"x\": [-0.8993383271683769], \"y\": [0.0345046849860332], \"type\": \"scatter\", \"uid\": \"5bbcc54b-fb62-489d-9750-70b4e3c8b12c\"}, {\"hoverinfo\": \"text\", \"marker\": {\"color\": \"green\", \"size\": 0.5}, \"mode\": \"markers\", \"text\": \"Power BI appears with Spark 26 times\", \"x\": [0.8997543886031015], \"y\": [0.021024751828716555], \"type\": \"scatter\", \"uid\": \"e74ec467-0414-4c33-9b27-4362405d7490\"}, {\"hoverinfo\": \"text\", \"marker\": {\"color\": \"blue\", \"size\": 0.5}, \"mode\": \"markers\", \"text\": \"Spark appears with Power BI 26 times\", \"x\": [-0.8903469859902075], \"y\": [-0.13146195091414645], \"type\": \"scatter\", \"uid\": \"1182c228-8a90-4a4c-95f2-e64e945f8965\"}, {\"hoverinfo\": \"text\", \"marker\": {\"color\": \"green\", \"size\": 0.5}, \"mode\": \"markers\", \"text\": \"Power BI appears with Informatica 12 times\", \"x\": [0.8999656917497619], \"y\": [0.007858350550363602], \"type\": \"scatter\", \"uid\": \"8ad59916-532f-4b5c-988f-be9a0fa1ba87\"}, {\"hoverinfo\": \"text\", \"marker\": {\"color\": \"blue\", \"size\": 0.5}, \"mode\": \"markers\", \"text\": \"Informatica appears with Power BI 12 times\", \"x\": [-0.8577020427996992], \"y\": [-0.2726668402597262], \"type\": \"scatter\", \"uid\": \"d81e45fe-765e-4a87-b743-e99329ec8cc9\"}, {\"hoverinfo\": \"text\", \"marker\": {\"color\": \"green\", \"size\": 0.5}, \"mode\": \"markers\", \"text\": \"Power BI appears with Qlik 157 times\", \"x\": [0.8870216555028355], \"y\": [0.15229111158898623], \"type\": \"scatter\", \"uid\": \"c86d3d29-849d-4065-882a-0418db2b2c06\"}, {\"hoverinfo\": \"text\", \"marker\": {\"color\": \"blue\", \"size\": 0.5}, \"mode\": \"markers\", \"text\": \"Qlik appears with Power BI 157 times\", \"x\": [-0.7292101676628867], \"y\": [-0.5274964752271476], \"type\": \"scatter\", \"uid\": \"53faa5ab-4365-4cce-b90a-fb72e7d34c75\"}, {\"hoverinfo\": \"text\", \"marker\": {\"color\": \"green\", \"size\": 0.5}, \"mode\": \"markers\", \"text\": \"Power BI appears with Tableau 170 times\", \"x\": [0.8804868764823213], \"y\": [0.18639436778616847], \"type\": \"scatter\", \"uid\": \"600b508f-1012-4e38-9669-16494175362f\"}, {\"hoverinfo\": \"text\", \"marker\": {\"color\": \"blue\", \"size\": 0.5}, \"mode\": \"markers\", \"text\": \"Tableau appears with Power BI 170 times\", \"x\": [-0.36010143075116696], \"y\": [-0.8248193496584343], \"type\": \"scatter\", \"uid\": \"d780831a-9f9e-486b-ac9e-707524657f96\"}, {\"hoverinfo\": \"text\", \"marker\": {\"color\": \"green\", \"size\": 0.5}, \"mode\": \"markers\", \"text\": \"Power BI appears with Microstrategy 22 times\", \"x\": [0.8998590357225399], \"y\": [0.015928459702701972], \"type\": \"scatter\", \"uid\": \"1b0b2aa7-9c69-4820-9b29-5cf66028fb3a\"}, {\"hoverinfo\": \"text\", \"marker\": {\"color\": \"blue\", \"size\": 0.5}, \"mode\": \"markers\", \"text\": \"Microstrategy appears with Power BI 22 times\", \"x\": [-0.056133157129206905], \"y\": [-0.8982477768804706], \"type\": \"scatter\", \"uid\": \"ebb35bd3-5625-4d33-8ac4-6db56ac8e7d7\"}, {\"hoverinfo\": \"text\", \"marker\": {\"color\": \"green\", \"size\": 0.5}, \"mode\": \"markers\", \"text\": \"Power BI appears with Oracle BI 145 times\", \"x\": [0.8918841961416075], \"y\": [0.12059262279608367], \"type\": \"scatter\", \"uid\": \"f8730411-0576-45c8-a556-dc85c48b0638\"}, {\"hoverinfo\": \"text\", \"marker\": {\"color\": \"blue\", \"size\": 0.5}, \"mode\": \"markers\", \"text\": \"Oracle BI appears with Power BI 145 times\", \"x\": [0.21185912285620795], \"y\": [-0.8747089299090288], \"type\": \"scatter\", \"uid\": \"43d9c658-f7c3-4419-a4b2-d90910b699c4\"}, {\"hoverinfo\": \"text\", \"marker\": {\"color\": \"green\", \"size\": 0.5}, \"mode\": \"markers\", \"text\": \"Power BI appears with Python 73 times\", \"x\": [0.8987596103681545], \"y\": [0.04723518572931585], \"type\": \"scatter\", \"uid\": \"494ef89e-567b-459a-a14c-d4cc09597167\"}, {\"hoverinfo\": \"text\", \"marker\": {\"color\": \"blue\", \"size\": 0.5}, \"mode\": \"markers\", \"text\": \"Python appears with Power BI 73 times\", \"x\": [0.6398106894932633], \"y\": [-0.6329630965626315], \"type\": \"scatter\", \"uid\": \"8196c780-b6ff-402c-987e-ca32d05949e1\"}, {\"hoverinfo\": \"text\", \"marker\": {\"color\": \"green\", \"size\": 0.5}, \"mode\": \"markers\", \"text\": \"Power BI appears with VBA 32 times\", \"x\": [0.8995894322838223], \"y\": [0.027181856508899187], \"type\": \"scatter\", \"uid\": \"a1fe4c9c-7499-4c46-8e1f-5687307c6801\"}, {\"hoverinfo\": \"text\", \"marker\": {\"color\": \"blue\", \"size\": 0.5}, \"mode\": \"markers\", \"text\": \"VBA appears with Power BI 32 times\", \"x\": [0.8281194034081293], \"y\": [-0.352446100416736], \"type\": \"scatter\", \"uid\": \"13f83be4-516d-4197-b91f-21bedaacbf62\"}, {\"hoverinfo\": \"text\", \"marker\": {\"color\": \"green\", \"size\": 0.5}, \"mode\": \"markers\", \"text\": \"Power BI appears with Linux 6 times\", \"x\": [0.8999957646993568], \"y\": [0.0027610728385857094], \"type\": \"scatter\", \"uid\": \"94c95ee9-1476-418e-8e92-e9ae5cee837c\"}, {\"hoverinfo\": \"text\", \"marker\": {\"color\": \"blue\", \"size\": 0.5}, \"mode\": \"markers\", \"text\": \"Linux appears with Power BI 6 times\", \"x\": [0.8713882539044665], \"y\": [-0.22512776585158278], \"type\": \"scatter\", \"uid\": \"1c473ca2-d6ad-4167-b3a8-b5149d0344f6\"}, {\"hoverinfo\": \"text\", \"marker\": {\"color\": \"green\", \"size\": 0.5}, \"mode\": \"markers\", \"text\": \"Power BI appears with AWS 5 times\", \"x\": [0.8999985903207939], \"y\": [0.001592928304688786], \"type\": \"scatter\", \"uid\": \"56172bfb-a956-43ad-9dd5-ecf6ca34ea85\"}, {\"hoverinfo\": \"text\", \"marker\": {\"color\": \"blue\", \"size\": 0.5}, \"mode\": \"markers\", \"text\": \"AWS appears with Power BI 5 times\", \"x\": [0.8950048202001347], \"y\": [-0.09469092785755466], \"type\": \"scatter\", \"uid\": \"eacf415c-88f7-4ab3-bde5-4ad9704544b3\"}, {\"hoverinfo\": \"text\", \"marker\": {\"color\": \"green\", \"size\": 0.5}, \"mode\": \"markers\", \"text\": \"Excel appears with SSIS/SSRS 543 times\", \"x\": [0.44844864719401856], \"y\": [0.7803164811984011], \"type\": \"scatter\", \"uid\": \"0b385167-bfd5-4a09-8ef1-0284c6a42b54\"}, {\"hoverinfo\": \"text\", \"marker\": {\"color\": \"blue\", \"size\": 0.5}, \"mode\": \"markers\", \"text\": \"SSIS/SSRS appears with Excel 543 times\", \"x\": [-0.15594468895628755], \"y\": [0.8863866278246343], \"type\": \"scatter\", \"uid\": \"a0c792ca-4df5-4a5c-a9c2-20ada2e89dd8\"}, {\"hoverinfo\": \"text\", \"marker\": {\"color\": \"green\", \"size\": 0.5}, \"mode\": \"markers\", \"text\": \"Excel appears with MS SQL Server 250 times\", \"x\": [0.7068056327702233], \"y\": [0.5571586824992357], \"type\": \"scatter\", \"uid\": \"0190cd32-97c6-4bab-8b94-81c57d70500e\"}, {\"hoverinfo\": \"text\", \"marker\": {\"color\": \"blue\", \"size\": 0.5}, \"mode\": \"markers\", \"text\": \"MS SQL Server appears with Excel 250 times\", \"x\": [-0.5390261560264293], \"y\": [0.7207293549727052], \"type\": \"scatter\", \"uid\": \"39677d21-48db-4008-8087-369592a80d04\"}, {\"hoverinfo\": \"text\", \"marker\": {\"color\": \"green\", \"size\": 0.5}, \"mode\": \"markers\", \"text\": \"Excel appears with PostgreSQL 63 times\", \"x\": [0.8409175559243873], \"y\": [0.3207143029834417], \"type\": \"scatter\", \"uid\": \"0512c957-b6b7-45b0-b99e-404594942016\"}, {\"hoverinfo\": \"text\", \"marker\": {\"color\": \"blue\", \"size\": 0.5}, \"mode\": \"markers\", \"text\": \"PostgreSQL appears with Excel 63 times\", \"x\": [-0.6192264342997518], \"y\": [0.6531145558509742], \"type\": \"scatter\", \"uid\": \"973a2e1b-d801-4a19-b1d2-c03c0a6fbee2\"}, {\"hoverinfo\": \"text\", \"marker\": {\"color\": \"green\", \"size\": 0.5}, \"mode\": \"markers\", \"text\": \"Excel appears with MySQL/MariaDB 109 times\", \"x\": [0.8134949043796796], \"y\": [0.3850013513590514], \"type\": \"scatter\", \"uid\": \"33599d6a-c9bf-4027-a322-9108bd316645\"}, {\"hoverinfo\": \"text\", \"marker\": {\"color\": \"blue\", \"size\": 0.5}, \"mode\": \"markers\", \"text\": \"MySQL/MariaDB appears with Excel 109 times\", \"x\": [-0.7421626835887479], \"y\": [0.5091115310895522], \"type\": \"scatter\", \"uid\": \"f59d9f4f-fa46-4a98-bbc5-ca3718cb3bda\"}, {\"hoverinfo\": \"text\", \"marker\": {\"color\": \"green\", \"size\": 0.5}, \"mode\": \"markers\", \"text\": \"Excel appears with T-SQL 172 times\", \"x\": [0.7868501292126984], \"y\": [0.43688313558428865], \"type\": \"scatter\", \"uid\": \"61b85db4-6904-4193-8db0-cd4b2f66209d\"}, {\"hoverinfo\": \"text\", \"marker\": {\"color\": \"blue\", \"size\": 0.5}, \"mode\": \"markers\", \"text\": \"T-SQL appears with Excel 172 times\", \"x\": [-0.8530039387478416], \"y\": [0.2870266198119409], \"type\": \"scatter\", \"uid\": \"cf271d39-3f93-4ba0-8969-9599a9d8b1b2\"}, {\"hoverinfo\": \"text\", \"marker\": {\"color\": \"green\", \"size\": 0.5}, \"mode\": \"markers\", \"text\": \"Excel appears with PL/SQL 54 times\", \"x\": [0.850362359888073], \"y\": [0.2947606773054838], \"type\": \"scatter\", \"uid\": \"8c347f8e-453c-4b8c-b4a7-8a1b10b24b8f\"}, {\"hoverinfo\": \"text\", \"marker\": {\"color\": \"blue\", \"size\": 0.5}, \"mode\": \"markers\", \"text\": \"PL/SQL appears with Excel 54 times\", \"x\": [-0.8747157756365794], \"y\": [0.21183085670529048], \"type\": \"scatter\", \"uid\": \"04dc4bf6-eda8-4c5e-9d81-3b15e192bb04\"}, {\"hoverinfo\": \"text\", \"marker\": {\"color\": \"green\", \"size\": 0.5}, \"mode\": \"markers\", \"text\": \"Excel appears with Pentaho 62 times\", \"x\": [0.8459157435491135], \"y\": [0.3072890411579146], \"type\": \"scatter\", \"uid\": \"37b6278b-6931-4503-b47e-0db1f7edc562\"}, {\"hoverinfo\": \"text\", \"marker\": {\"color\": \"blue\", \"size\": 0.5}, \"mode\": \"markers\", \"text\": \"Pentaho appears with Excel 62 times\", \"x\": [-0.8964168870078957], \"y\": [0.08022945024785927], \"type\": \"scatter\", \"uid\": \"8b7f9f21-eab1-41b5-86b4-5f1464c6dc28\"}, {\"hoverinfo\": \"text\", \"marker\": {\"color\": \"green\", \"size\": 0.5}, \"mode\": \"markers\", \"text\": \"Excel appears with Hadoop 74 times\", \"x\": [0.829262560308173], \"y\": [0.34974791789392234], \"type\": \"scatter\", \"uid\": \"2af109ac-713e-4d0c-a2cc-c0cd1a3cd5ce\"}, {\"hoverinfo\": \"text\", \"marker\": {\"color\": \"blue\", \"size\": 0.5}, \"mode\": \"markers\", \"text\": \"Hadoop appears with Excel 74 times\", \"x\": [-0.8999616779915219], \"y\": [-0.00830530834372661], \"type\": \"scatter\", \"uid\": \"4413ef0c-bc91-4ae3-8be4-1c8843449628\"}, {\"hoverinfo\": \"text\", \"marker\": {\"color\": \"green\", \"size\": 0.5}, \"mode\": \"markers\", \"text\": \"Excel appears with Spark 77 times\", \"x\": [0.8223846619101159], \"y\": [0.3656274987675084], \"type\": \"scatter\", \"uid\": \"26e3e335-45a0-43fa-ac92-ef6ea5f232db\"}, {\"hoverinfo\": \"text\", \"marker\": {\"color\": \"blue\", \"size\": 0.5}, \"mode\": \"markers\", \"text\": \"Spark appears with Excel 77 times\", \"x\": [-0.8814587561470707], \"y\": [-0.18174284363258703], \"type\": \"scatter\", \"uid\": \"1cea5967-11eb-4738-82d6-f88803dd8a81\"}, {\"hoverinfo\": \"text\", \"marker\": {\"color\": \"green\", \"size\": 0.5}, \"mode\": \"markers\", \"text\": \"Excel appears with Informatica 114 times\", \"x\": [0.8022356804557687], \"y\": [0.40794351692810354], \"type\": \"scatter\", \"uid\": \"07022544-d918-4f49-9bc8-cb923a24aea8\"}, {\"hoverinfo\": \"text\", \"marker\": {\"color\": \"blue\", \"size\": 0.5}, \"mode\": \"markers\", \"text\": \"Informatica appears with Excel 114 times\", \"x\": [-0.8250281979862414], \"y\": [-0.35962268077469095], \"type\": \"scatter\", \"uid\": \"e2c054af-9215-41bc-b2ab-7d50806dcb81\"}, {\"hoverinfo\": \"text\", \"marker\": {\"color\": \"green\", \"size\": 0.5}, \"mode\": \"markers\", \"text\": \"Excel appears with Qlik 377 times\", \"x\": [0.6084626388296368], \"y\": [0.6631539920323747], \"type\": \"scatter\", \"uid\": \"031ca2a4-565e-4342-9bae-4954c4888ece\"}, {\"hoverinfo\": \"text\", \"marker\": {\"color\": \"blue\", \"size\": 0.5}, \"mode\": \"markers\", \"text\": \"Qlik appears with Excel 377 times\", \"x\": [-0.5950391627115814], \"y\": [-0.675224699518242], \"type\": \"scatter\", \"uid\": \"da9b7b08-0bcb-4a8f-ab3d-50e5b833724a\"}, {\"hoverinfo\": \"text\", \"marker\": {\"color\": \"green\", \"size\": 0.5}, \"mode\": \"markers\", \"text\": \"Excel appears with Tableau 407 times\", \"x\": [0.5393377063722176], \"y\": [0.720496244601702], \"type\": \"scatter\", \"uid\": \"084e617c-9fde-47a7-95f6-0945c1e4e3e5\"}, {\"hoverinfo\": \"text\", \"marker\": {\"color\": \"blue\", \"size\": 0.5}, \"mode\": \"markers\", \"text\": \"Tableau appears with Excel 407 times\", \"x\": [-0.14661691440177235], \"y\": [-0.8879771846231768], \"type\": \"scatter\", \"uid\": \"6e924105-aecf-4e22-a79b-2ab78afd2934\"}, {\"hoverinfo\": \"text\", \"marker\": {\"color\": \"green\", \"size\": 0.5}, \"mode\": \"markers\", \"text\": \"Excel appears with Microstrategy 36 times\", \"x\": [0.8571046216257877], \"y\": [0.2745390092276783], \"type\": \"scatter\", \"uid\": \"d40cacc5-52c9-4a74-b95a-695a25da435b\"}, {\"hoverinfo\": \"text\", \"marker\": {\"color\": \"blue\", \"size\": 0.5}, \"mode\": \"markers\", \"text\": \"Microstrategy appears with Excel 36 times\", \"x\": [-0.04314852338356015], \"y\": [-0.8989650743659724], \"type\": \"scatter\", \"uid\": \"4659254d-6813-4aad-af80-077e689bb4f2\"}, {\"hoverinfo\": \"text\", \"marker\": {\"color\": \"green\", \"size\": 0.5}, \"mode\": \"markers\", \"text\": \"Excel appears with Oracle BI 561 times\", \"x\": [0.3346868462795398], \"y\": [0.8354547952627094], \"type\": \"scatter\", \"uid\": \"d35c3a9d-9876-4ac6-8ad3-d4bc12f9261d\"}, {\"hoverinfo\": \"text\", \"marker\": {\"color\": \"blue\", \"size\": 0.5}, \"mode\": \"markers\", \"text\": \"Oracle BI appears with Excel 561 times\", \"x\": [0.5115264697043969], \"y\": [-0.7405002841267225], \"type\": \"scatter\", \"uid\": \"e0bba4c9-3335-4a7e-9241-4d18ad65ed3c\"}, {\"hoverinfo\": \"text\", \"marker\": {\"color\": \"green\", \"size\": 0.5}, \"mode\": \"markers\", \"text\": \"Excel appears with Python 318 times\", \"x\": [0.6646942890746337], \"y\": [0.6067796157350437], \"type\": \"scatter\", \"uid\": \"4364567f-00a1-4800-9d53-410912d81280\"}, {\"hoverinfo\": \"text\", \"marker\": {\"color\": \"blue\", \"size\": 0.5}, \"mode\": \"markers\", \"text\": \"Python appears with Excel 318 times\", \"x\": [0.7911563546148208], \"y\": [-0.4290356891362162], \"type\": \"scatter\", \"uid\": \"599c2401-db27-4cbe-aa7d-3d4f0f30e3f8\"}, {\"hoverinfo\": \"text\", \"marker\": {\"color\": \"green\", \"size\": 0.5}, \"mode\": \"markers\", \"text\": \"Excel appears with VBA 228 times\", \"x\": [0.7393889276835537], \"y\": [0.5131315753478485], \"type\": \"scatter\", \"uid\": \"6bc10c9f-c759-4538-9d58-9e8eb4c2a192\"}, {\"hoverinfo\": \"text\", \"marker\": {\"color\": \"blue\", \"size\": 0.5}, \"mode\": \"markers\", \"text\": \"VBA appears with Excel 228 times\", \"x\": [0.8568766368352213], \"y\": [-0.275249757939876], \"type\": \"scatter\", \"uid\": \"234aa724-4b64-4595-b52e-3071bcd62725\"}, {\"hoverinfo\": \"text\", \"marker\": {\"color\": \"green\", \"size\": 0.5}, \"mode\": \"markers\", \"text\": \"Excel appears with Linux 68 times\", \"x\": [0.8354508397832544], \"y\": [0.3346967198904928], \"type\": \"scatter\", \"uid\": \"44a6b52f-dc29-4fd9-bc6a-fa019610c951\"}, {\"hoverinfo\": \"text\", \"marker\": {\"color\": \"blue\", \"size\": 0.5}, \"mode\": \"markers\", \"text\": \"Linux appears with Excel 68 times\", \"x\": [0.8852503938240172], \"y\": [-0.1622705772295848], \"type\": \"scatter\", \"uid\": \"e9e61f81-da4f-4b37-91a2-e497e0623912\"}, {\"hoverinfo\": \"text\", \"marker\": {\"color\": \"green\", \"size\": 0.5}, \"mode\": \"markers\", \"text\": \"Excel appears with AWS 48 times\", \"x\": [0.85411904569139], \"y\": [0.2836911274383274], \"type\": \"scatter\", \"uid\": \"f4002481-be53-4d72-92bf-c03ec5b5d226\"}, {\"hoverinfo\": \"text\", \"marker\": {\"color\": \"blue\", \"size\": 0.5}, \"mode\": \"markers\", \"text\": \"AWS appears with Excel 48 times\", \"x\": [0.8988207615605212], \"y\": [-0.046056905972556836], \"type\": \"scatter\", \"uid\": \"51e0d0ff-7173-4e8c-a520-2e7456d57202\"}, {\"hoverinfo\": \"text\", \"marker\": {\"color\": \"green\", \"size\": 0.5}, \"mode\": \"markers\", \"text\": \"SSIS/SSRS appears with MS SQL Server 250 times\", \"x\": [-0.06815266069489843], \"y\": [0.8974158539050924], \"type\": \"scatter\", \"uid\": \"d81e2c1b-d995-4f45-82a8-8223137cb958\"}, {\"hoverinfo\": \"text\", \"marker\": {\"color\": \"blue\", \"size\": 0.5}, \"mode\": \"markers\", \"text\": \"MS SQL Server appears with SSIS/SSRS 250 times\", \"x\": [-0.494108733213981], \"y\": [0.7522343782104584], \"type\": \"scatter\", \"uid\": \"2f1c9657-e727-4674-8383-4693320e0ebf\"}, {\"hoverinfo\": \"text\", \"marker\": {\"color\": \"green\", \"size\": 0.5}, \"mode\": \"markers\", \"text\": \"SSIS/SSRS appears with PostgreSQL 44 times\", \"x\": [0.1978275489502022], \"y\": [0.8779887589692452], \"type\": \"scatter\", \"uid\": \"e237ddbe-4f44-4775-bbf7-3156d2b9b657\"}, {\"hoverinfo\": \"text\", \"marker\": {\"color\": \"blue\", \"size\": 0.5}, \"mode\": \"markers\", \"text\": \"PostgreSQL appears with SSIS/SSRS 44 times\", \"x\": [-0.6123518231959998], \"y\": [0.6595644355394967], \"type\": \"scatter\", \"uid\": \"89653f66-097d-4300-a656-2e62b0f6f49c\"}, {\"hoverinfo\": \"text\", \"marker\": {\"color\": \"green\", \"size\": 0.5}, \"mode\": \"markers\", \"text\": \"SSIS/SSRS appears with MySQL/MariaDB 70 times\", \"x\": [0.17117089770756502], \"y\": [0.8835725911197033], \"type\": \"scatter\", \"uid\": \"a6eb58b7-3822-4d5e-ac93-5f5873fb790a\"}, {\"hoverinfo\": \"text\", \"marker\": {\"color\": \"blue\", \"size\": 0.5}, \"mode\": \"markers\", \"text\": \"MySQL/MariaDB appears with SSIS/SSRS 70 times\", \"x\": [-0.7125832629747223], \"y\": [0.5497500280384693], \"type\": \"scatter\", \"uid\": \"8fece829-eee4-436c-a312-16be20251486\"}, {\"hoverinfo\": \"text\", \"marker\": {\"color\": \"green\", \"size\": 0.5}, \"mode\": \"markers\", \"text\": \"SSIS/SSRS appears with T-SQL 117 times\", \"x\": [0.09246867142603767], \"y\": [0.8952371444509569], \"type\": \"scatter\", \"uid\": \"df56dbde-88d7-48fa-ac76-79648754be40\"}, {\"hoverinfo\": \"text\", \"marker\": {\"color\": \"blue\", \"size\": 0.5}, \"mode\": \"markers\", \"text\": \"T-SQL appears with SSIS/SSRS 117 times\", \"x\": [-0.8193725234641525], \"y\": [0.37232870933086404], \"type\": \"scatter\", \"uid\": \"7f65ccfa-46fa-43ef-8a29-fb442b47bfcd\"}, {\"hoverinfo\": \"text\", \"marker\": {\"color\": \"green\", \"size\": 0.5}, \"mode\": \"markers\", \"text\": \"SSIS/SSRS appears with PL/SQL 33 times\", \"x\": [0.21466851917000118], \"y\": [0.8740236992652767], \"type\": \"scatter\", \"uid\": \"b14679bb-034b-4d7c-ae29-1d70f7dc18c1\"}, {\"hoverinfo\": \"text\", \"marker\": {\"color\": \"blue\", \"size\": 0.5}, \"mode\": \"markers\", \"text\": \"PL/SQL appears with SSIS/SSRS 33 times\", \"x\": [-0.8719744757938552], \"y\": [0.22284639006282228], \"type\": \"scatter\", \"uid\": \"221540f9-8033-40cd-b68d-8a2b2fd1fe94\"}, {\"hoverinfo\": \"text\", \"marker\": {\"color\": \"green\", \"size\": 0.5}, \"mode\": \"markers\", \"text\": \"SSIS/SSRS appears with Pentaho 32 times\", \"x\": [0.22862432981415232], \"y\": [0.870477406838931], \"type\": \"scatter\", \"uid\": \"69d2e6ba-245d-435c-9ab7-d3c6a75e6537\"}, {\"hoverinfo\": \"text\", \"marker\": {\"color\": \"blue\", \"size\": 0.5}, \"mode\": \"markers\", \"text\": \"Pentaho appears with SSIS/SSRS 32 times\", \"x\": [-0.8877567220058701], \"y\": [0.14794594463314067], \"type\": \"scatter\", \"uid\": \"4ce693ce-9041-42da-8c58-b90944f924cd\"}, {\"hoverinfo\": \"text\", \"marker\": {\"color\": \"green\", \"size\": 0.5}, \"mode\": \"markers\", \"text\": \"SSIS/SSRS appears with Hadoop 32 times\", \"x\": [0.22170760930275757], \"y\": [0.8722647166871166], \"type\": \"scatter\", \"uid\": \"66badfae-b1fc-461e-b9f2-1bedddfe7860\"}, {\"hoverinfo\": \"text\", \"marker\": {\"color\": \"blue\", \"size\": 0.5}, \"mode\": \"markers\", \"text\": \"Hadoop appears with SSIS/SSRS 32 times\", \"x\": [-0.8996806146467191], \"y\": [0.02397481238511801], \"type\": \"scatter\", \"uid\": \"d300a39c-fede-4688-b726-b78fac81e03a\"}, {\"hoverinfo\": \"text\", \"marker\": {\"color\": \"green\", \"size\": 0.5}, \"mode\": \"markers\", \"text\": \"SSIS/SSRS appears with Spark 39 times\", \"x\": [0.20685510621463413], \"y\": [0.8759057968942393], \"type\": \"scatter\", \"uid\": \"d220f3b3-90f7-44f3-96b1-69f69f426ccc\"}, {\"hoverinfo\": \"text\", \"marker\": {\"color\": \"blue\", \"size\": 0.5}, \"mode\": \"markers\", \"text\": \"Spark appears with SSIS/SSRS 39 times\", \"x\": [-0.887399329762309], \"y\": [-0.15007474650121808], \"type\": \"scatter\", \"uid\": \"fe1fc61c-a84f-49ba-95d6-414be048429c\"}, {\"hoverinfo\": \"text\", \"marker\": {\"color\": \"green\", \"size\": 0.5}, \"mode\": \"markers\", \"text\": \"SSIS/SSRS appears with Informatica 65 times\", \"x\": [0.18594039146988625], \"y\": [0.8805828585772184], \"type\": \"scatter\", \"uid\": \"bddefa65-6e78-4319-943b-83fa9194e435\"}, {\"hoverinfo\": \"text\", \"marker\": {\"color\": \"blue\", \"size\": 0.5}, \"mode\": \"markers\", \"text\": \"Informatica appears with SSIS/SSRS 65 times\", \"x\": [-0.843278169490009], \"y\": [-0.31445497111920423], \"type\": \"scatter\", \"uid\": \"2daa1658-01cc-44d1-8fc0-701d7112856e\"}, {\"hoverinfo\": \"text\", \"marker\": {\"color\": \"green\", \"size\": 0.5}, \"mode\": \"markers\", \"text\": \"SSIS/SSRS appears with Qlik 75 times\", \"x\": [0.13939723311193766], \"y\": [0.8891391406302707], \"type\": \"scatter\", \"uid\": \"71ebf42e-e567-4cd2-9af0-7626683fbab2\"}, {\"hoverinfo\": \"text\", \"marker\": {\"color\": \"blue\", \"size\": 0.5}, \"mode\": \"markers\", \"text\": \"Qlik appears with SSIS/SSRS 75 times\", \"x\": [-0.7550758166310193], \"y\": [-0.48975556264222186], \"type\": \"scatter\", \"uid\": \"df9056a6-5e36-470f-b55d-c03ae54aded1\"}, {\"hoverinfo\": \"text\", \"marker\": {\"color\": \"green\", \"size\": 0.5}, \"mode\": \"markers\", \"text\": \"SSIS/SSRS appears with Tableau 142 times\", \"x\": [0.06366830883125699], \"y\": [0.8977451456012268], \"type\": \"scatter\", \"uid\": \"8c6bbfdd-badb-4e30-b57a-7a0d3b75ef18\"}, {\"hoverinfo\": \"text\", \"marker\": {\"color\": \"blue\", \"size\": 0.5}, \"mode\": \"markers\", \"text\": \"Tableau appears with SSIS/SSRS 142 times\", \"x\": [-0.3917820718808235], \"y\": [-0.810251077230243], \"type\": \"scatter\", \"uid\": \"bbaeb7d2-59d1-45bf-8720-442d77ac0352\"}, {\"hoverinfo\": \"text\", \"marker\": {\"color\": \"green\", \"size\": 0.5}, \"mode\": \"markers\", \"text\": \"SSIS/SSRS appears with Microstrategy 26 times\", \"x\": [0.240693667304693], \"y\": [0.8672177111426045], \"type\": \"scatter\", \"uid\": \"935c0d04-3e6c-461d-a072-3f91af159dc8\"}, {\"hoverinfo\": \"text\", \"marker\": {\"color\": \"blue\", \"size\": 0.5}, \"mode\": \"markers\", \"text\": \"Microstrategy appears with SSIS/SSRS 26 times\", \"x\": [-0.05255224465998468], \"y\": [-0.8984643908253667], \"type\": \"scatter\", \"uid\": \"696f192b-45f4-4aca-a105-42eb6fb3c2c7\"}, {\"hoverinfo\": \"text\", \"marker\": {\"color\": \"green\", \"size\": 0.5}, \"mode\": \"markers\", \"text\": \"SSIS/SSRS appears with Oracle BI 244 times\", \"x\": [-0.01307527744172813], \"y\": [0.899905015609882], \"type\": \"scatter\", \"uid\": \"e54299bd-591f-4ee8-959f-51065dbd337f\"}, {\"hoverinfo\": \"text\", \"marker\": {\"color\": \"blue\", \"size\": 0.5}, \"mode\": \"markers\", \"text\": \"Oracle BI appears with SSIS/SSRS 244 times\", \"x\": [0.28948006868493104], \"y\": [-0.8521744480059043], \"type\": \"scatter\", \"uid\": \"b5105007-99a7-4abb-8059-af1cb794018d\"}, {\"hoverinfo\": \"text\", \"marker\": {\"color\": \"green\", \"size\": 0.5}, \"mode\": \"markers\", \"text\": \"SSIS/SSRS appears with Python 151 times\", \"x\": [0.03100958022529116], \"y\": [0.8994656224304802], \"type\": \"scatter\", \"uid\": \"627b4fa7-bed9-4c4e-a7e4-158df54122aa\"}, {\"hoverinfo\": \"text\", \"marker\": {\"color\": \"blue\", \"size\": 0.5}, \"mode\": \"markers\", \"text\": \"Python appears with SSIS/SSRS 151 times\", \"x\": [0.7653076728493141], \"y\": [-0.4736076074958756], \"type\": \"scatter\", \"uid\": \"c5a0273c-4cb0-41dc-a029-d34e5300b432\"}, {\"hoverinfo\": \"text\", \"marker\": {\"color\": \"green\", \"size\": 0.5}, \"mode\": \"markers\", \"text\": \"SSIS/SSRS appears with VBA 72 times\", \"x\": [0.15558387271937874], \"y\": [0.8864500316146647], \"type\": \"scatter\", \"uid\": \"460d6438-2a31-4cd0-8438-52e473b4cb4a\"}, {\"hoverinfo\": \"text\", \"marker\": {\"color\": \"blue\", \"size\": 0.5}, \"mode\": \"markers\", \"text\": \"VBA appears with SSIS/SSRS 72 times\", \"x\": [0.8475585894109151], \"y\": [-0.3027283229494389], \"type\": \"scatter\", \"uid\": \"5ebd3107-f789-4d61-9f01-4c76082fa02d\"}, {\"hoverinfo\": \"text\", \"marker\": {\"color\": \"green\", \"size\": 0.5}, \"mode\": \"markers\", \"text\": \"SSIS/SSRS appears with Linux 17 times\", \"x\": [0.24531521920989963], \"y\": [0.8659217304260235], \"type\": \"scatter\", \"uid\": \"a61934be-8b69-48af-a989-b6c367285c9f\"}, {\"hoverinfo\": \"text\", \"marker\": {\"color\": \"blue\", \"size\": 0.5}, \"mode\": \"markers\", \"text\": \"Linux appears with SSIS/SSRS 17 times\", \"x\": [0.8732877608751749], \"y\": [-0.21764302586029086], \"type\": \"scatter\", \"uid\": \"6ac8b532-a85d-47ac-af65-272303d4ecd7\"}, {\"hoverinfo\": \"text\", \"marker\": {\"color\": \"green\", \"size\": 0.5}, \"mode\": \"markers\", \"text\": \"SSIS/SSRS appears with AWS 27 times\", \"x\": [0.23498793080135658], \"y\": [0.8687811418174873], \"type\": \"scatter\", \"uid\": \"e4afce36-06a6-464e-9e2e-9945eb543639\"}, {\"hoverinfo\": \"text\", \"marker\": {\"color\": \"blue\", \"size\": 0.5}, \"mode\": \"markers\", \"text\": \"AWS appears with SSIS/SSRS 27 times\", \"x\": [0.896439066149923], \"y\": [-0.07998125205480366], \"type\": \"scatter\", \"uid\": \"289aa81e-3561-4b3d-9ab9-ce3645c60ba9\"}, {\"hoverinfo\": \"text\", \"marker\": {\"color\": \"green\", \"size\": 0.5}, \"mode\": \"markers\", \"text\": \"MS SQL Server appears with PostgreSQL 71 times\", \"x\": [-0.31980043106118067], \"y\": [0.8412655254395506], \"type\": \"scatter\", \"uid\": \"d110dbc2-ea08-403f-97c6-a12b2b537b6e\"}, {\"hoverinfo\": \"text\", \"marker\": {\"color\": \"blue\", \"size\": 0.5}, \"mode\": \"markers\", \"text\": \"PostgreSQL appears with MS SQL Server 71 times\", \"x\": [-0.6277398637643302], \"y\": [0.6449361700518433], \"type\": \"scatter\", \"uid\": \"a23fdb17-4be2-4da5-81f1-6f0f45f9ba8a\"}, {\"hoverinfo\": \"text\", \"marker\": {\"color\": \"green\", \"size\": 0.5}, \"mode\": \"markers\", \"text\": \"MS SQL Server appears with MySQL/MariaDB 81 times\", \"x\": [-0.3353374347092551], \"y\": [0.8351938726323463], \"type\": \"scatter\", \"uid\": \"3a292839-aac7-40a7-a8bc-8a3411af69c1\"}, {\"hoverinfo\": \"text\", \"marker\": {\"color\": \"blue\", \"size\": 0.5}, \"mode\": \"markers\", \"text\": \"MySQL/MariaDB appears with MS SQL Server 81 times\", \"x\": [-0.7215595830737633], \"y\": [0.5379142757674469], \"type\": \"scatter\", \"uid\": \"70bfdda4-bddc-4afd-b151-61702ffccdec\"}, {\"hoverinfo\": \"text\", \"marker\": {\"color\": \"green\", \"size\": 0.5}, \"mode\": \"markers\", \"text\": \"MS SQL Server appears with T-SQL 160 times\", \"x\": [-0.42469897944616997], \"y\": [0.7934927705136208], \"type\": \"scatter\", \"uid\": \"8f58164a-9176-4a10-8845-0fc231a4239a\"}, {\"hoverinfo\": \"text\", \"marker\": {\"color\": \"blue\", \"size\": 0.5}, \"mode\": \"markers\", \"text\": \"T-SQL appears with MS SQL Server 160 times\", \"x\": [-0.8412118732819324], \"y\": [0.3199415325485303], \"type\": \"scatter\", \"uid\": \"b2c66242-f725-4d59-a541-f7802a839ee1\"}, {\"hoverinfo\": \"text\", \"marker\": {\"color\": \"green\", \"size\": 0.5}, \"mode\": \"markers\", \"text\": \"MS SQL Server appears with PL/SQL 10 times\", \"x\": [-0.24554191830716166], \"y\": [0.8658574746192581], \"type\": \"scatter\", \"uid\": \"736bac96-0e64-4d7f-8ee3-f0b7f9afff15\"}, {\"hoverinfo\": \"text\", \"marker\": {\"color\": \"blue\", \"size\": 0.5}, \"mode\": \"markers\", \"text\": \"PL/SQL appears with MS SQL Server 10 times\", \"x\": [-0.8680449502595085], \"y\": [0.23769300437532329], \"type\": \"scatter\", \"uid\": \"cf0480ab-b145-4906-851c-01e56a48a820\"}, {\"hoverinfo\": \"text\", \"marker\": {\"color\": \"green\", \"size\": 0.5}, \"mode\": \"markers\", \"text\": \"MS SQL Server appears with Pentaho 44 times\", \"x\": [-0.27349295477422875], \"y\": [0.8574389795716437], \"type\": \"scatter\", \"uid\": \"c71ebc8c-0fa4-4fce-99b9-41944f09aa75\"}, {\"hoverinfo\": \"text\", \"marker\": {\"color\": \"blue\", \"size\": 0.5}, \"mode\": \"markers\", \"text\": \"Pentaho appears with MS SQL Server 44 times\", \"x\": [-0.8943219068495735], \"y\": [0.1009372425269431], \"type\": \"scatter\", \"uid\": \"f7386686-fc0f-4c50-84fb-8dc5e27b3872\"}, {\"hoverinfo\": \"text\", \"marker\": {\"color\": \"green\", \"size\": 0.5}, \"mode\": \"markers\", \"text\": \"MS SQL Server appears with Hadoop 28 times\", \"x\": [-0.258605660941957], \"y\": [0.8620458874844039], \"type\": \"scatter\", \"uid\": \"4beb0722-9c8c-4f09-92cc-f51db642874a\"}, {\"hoverinfo\": \"text\", \"marker\": {\"color\": \"blue\", \"size\": 0.5}, \"mode\": \"markers\", \"text\": \"Hadoop appears with MS SQL Server 28 times\", \"x\": [-0.8995074505209961], \"y\": [0.029771571292388114], \"type\": \"scatter\", \"uid\": \"de2ce35a-a0eb-48ed-9434-781462063597\"}, {\"hoverinfo\": \"text\", \"marker\": {\"color\": \"green\", \"size\": 0.5}, \"mode\": \"markers\", \"text\": \"MS SQL Server appears with Spark 25 times\", \"x\": [-0.2530290257629103], \"y\": [0.8636992023392591], \"type\": \"scatter\", \"uid\": \"5edb36a4-1e2f-4692-b5c3-31a545c8b311\"}, {\"hoverinfo\": \"text\", \"marker\": {\"color\": \"blue\", \"size\": 0.5}, \"mode\": \"markers\", \"text\": \"Spark appears with MS SQL Server 25 times\", \"x\": [-0.8910607458373547], \"y\": [-0.12653358142318227], \"type\": \"scatter\", \"uid\": \"7e1011de-3a65-47c2-bbc1-0c4ffdf212f4\"}, {\"hoverinfo\": \"text\", \"marker\": {\"color\": \"green\", \"size\": 0.5}, \"mode\": \"markers\", \"text\": \"MS SQL Server appears with Informatica 59 times\", \"x\": [-0.2935947777151477], \"y\": [0.8507656002086551], \"type\": \"scatter\", \"uid\": \"45688e34-c6d1-4068-9e7c-19f734a15947\"}, {\"hoverinfo\": \"text\", \"marker\": {\"color\": \"blue\", \"size\": 0.5}, \"mode\": \"markers\", \"text\": \"Informatica appears with MS SQL Server 59 times\", \"x\": [-0.8474482971510102], \"y\": [-0.3030369344747486], \"type\": \"scatter\", \"uid\": \"d7880613-7a6e-420d-97ee-ad71f90e1139\"}, {\"hoverinfo\": \"text\", \"marker\": {\"color\": \"green\", \"size\": 0.5}, \"mode\": \"markers\", \"text\": \"MS SQL Server appears with Qlik 62 times\", \"x\": [-0.3061152477672356], \"y\": [0.8463412166995082], \"type\": \"scatter\", \"uid\": \"6ad004e7-10be-4952-814f-3f2b5830281b\"}, {\"hoverinfo\": \"text\", \"marker\": {\"color\": \"blue\", \"size\": 0.5}, \"mode\": \"markers\", \"text\": \"Qlik appears with MS SQL Server 62 times\", \"x\": [-0.7711070383936588], \"y\": [-0.4641055217725388], \"type\": \"scatter\", \"uid\": \"459f7fd2-2353-46d9-b552-a686b3e4e70f\"}, {\"hoverinfo\": \"text\", \"marker\": {\"color\": \"green\", \"size\": 0.5}, \"mode\": \"markers\", \"text\": \"MS SQL Server appears with Tableau 98 times\", \"x\": [-0.3534861855583313], \"y\": [0.8276759732041405], \"type\": \"scatter\", \"uid\": \"14b80e5d-3c22-4020-946e-f123c112d8d2\"}, {\"hoverinfo\": \"text\", \"marker\": {\"color\": \"blue\", \"size\": 0.5}, \"mode\": \"markers\", \"text\": \"Tableau appears with MS SQL Server 98 times\", \"x\": [-0.4397468784081428], \"y\": [-0.7852532603754627], \"type\": \"scatter\", \"uid\": \"2f733b24-a8c1-45f2-80ff-83cbf499574a\"}, {\"hoverinfo\": \"text\", \"marker\": {\"color\": \"green\", \"size\": 0.5}, \"mode\": \"markers\", \"text\": \"MS SQL Server appears with Microstrategy 18 times\", \"x\": [-0.248496809523673], \"y\": [0.8650140667391226], \"type\": \"scatter\", \"uid\": \"6ebf69bd-9db1-49b6-b704-032872bc5b6f\"}, {\"hoverinfo\": \"text\", \"marker\": {\"color\": \"blue\", \"size\": 0.5}, \"mode\": \"markers\", \"text\": \"Microstrategy appears with MS SQL Server 18 times\", \"x\": [-0.06239757363709788], \"y\": [-0.8978343626773276], \"type\": \"scatter\", \"uid\": \"f04f366f-718a-45f8-8dcb-c557ad06c925\"}, {\"hoverinfo\": \"text\", \"marker\": {\"color\": \"green\", \"size\": 0.5}, \"mode\": \"markers\", \"text\": \"MS SQL Server appears with Oracle BI 163 times\", \"x\": [-0.4556146629698835], \"y\": [0.7761541592279458], \"type\": \"scatter\", \"uid\": \"68611219-cbf4-42ce-901a-3503e18142aa\"}, {\"hoverinfo\": \"text\", \"marker\": {\"color\": \"blue\", \"size\": 0.5}, \"mode\": \"markers\", \"text\": \"Oracle BI appears with MS SQL Server 163 times\", \"x\": [0.24554230753803938], \"y\": [-0.8658573642401473], \"type\": \"scatter\", \"uid\": \"187e44e4-b081-47ee-9eab-f988c7333590\"}, {\"hoverinfo\": \"text\", \"marker\": {\"color\": \"green\", \"size\": 0.5}, \"mode\": \"markers\", \"text\": \"MS SQL Server appears with Python 109 times\", \"x\": [-0.37426330846142053], \"y\": [0.8184906694272767], \"type\": \"scatter\", \"uid\": \"41038921-3d27-4ea7-b330-315b157aee4f\"}, {\"hoverinfo\": \"text\", \"marker\": {\"color\": \"blue\", \"size\": 0.5}, \"mode\": \"markers\", \"text\": \"Python appears with MS SQL Server 109 times\", \"x\": [0.6786778585660688], \"y\": [-0.5910975928661656], \"type\": \"scatter\", \"uid\": \"ed0902f0-80c9-40d8-98cb-c873b810c81c\"}, {\"hoverinfo\": \"text\", \"marker\": {\"color\": \"green\", \"size\": 0.5}, \"mode\": \"markers\", \"text\": \"MS SQL Server appears with VBA 35 times\", \"x\": [-0.26522042159753145], \"y\": [0.8600337946660165], \"type\": \"scatter\", \"uid\": \"b990be76-3bdc-455a-978a-8b3479b71e00\"}, {\"hoverinfo\": \"text\", \"marker\": {\"color\": \"blue\", \"size\": 0.5}, \"mode\": \"markers\", \"text\": \"VBA appears with MS SQL Server 35 times\", \"x\": [0.8306356835839702], \"y\": [-0.3464741854121177], \"type\": \"scatter\", \"uid\": \"2c9eeef0-a92a-4a47-8695-4644fb397455\"}, {\"hoverinfo\": \"text\", \"marker\": {\"color\": \"green\", \"size\": 0.5}, \"mode\": \"markers\", \"text\": \"MS SQL Server appears with Linux 45 times\", \"x\": [-0.2827822028970337], \"y\": [0.854420403387408], \"type\": \"scatter\", \"uid\": \"71f320ed-ee3a-4f78-8c50-9e429619fd1f\"}, {\"hoverinfo\": \"text\", \"marker\": {\"color\": \"blue\", \"size\": 0.5}, \"mode\": \"markers\", \"text\": \"Linux appears with MS SQL Server 45 times\", \"x\": [0.8810095580941414], \"y\": [-0.18390801653752284], \"type\": \"scatter\", \"uid\": \"965e3327-9737-4639-9126-a5ea3689d01e\"}, {\"hoverinfo\": \"text\", \"marker\": {\"color\": \"green\", \"size\": 0.5}, \"mode\": \"markers\", \"text\": \"MS SQL Server appears with AWS 9 times\", \"x\": [-0.24353518124152093], \"y\": [0.8664240390811301], \"type\": \"scatter\", \"uid\": \"1b0443d1-1bf1-420a-a146-ac2f270b2199\"}, {\"hoverinfo\": \"text\", \"marker\": {\"color\": \"blue\", \"size\": 0.5}, \"mode\": \"markers\", \"text\": \"AWS appears with MS SQL Server 9 times\", \"x\": [0.89526636918855], \"y\": [-0.09218529275297031], \"type\": \"scatter\", \"uid\": \"d7fb4bbf-8df6-418a-a8b0-076471fad692\"}, {\"hoverinfo\": \"text\", \"marker\": {\"color\": \"green\", \"size\": 0.5}, \"mode\": \"markers\", \"text\": \"PostgreSQL appears with MySQL/MariaDB 85 times\", \"x\": [-0.6375148606974714], \"y\": [0.6352753752428026], \"type\": \"scatter\", \"uid\": \"670265ec-0886-46e1-84f4-5fcdc37e2f57\"}, {\"hoverinfo\": \"text\", \"marker\": {\"color\": \"blue\", \"size\": 0.5}, \"mode\": \"markers\", \"text\": \"MySQL/MariaDB appears with PostgreSQL 85 times\", \"x\": [-0.7312006726683878], \"y\": [0.5247338146996982], \"type\": \"scatter\", \"uid\": \"036dee43-db53-45fb-af3e-6d82f7326f6d\"}, {\"hoverinfo\": \"text\", \"marker\": {\"color\": \"green\", \"size\": 0.5}, \"mode\": \"markers\", \"text\": \"PostgreSQL appears with T-SQL 31 times\", \"x\": [-0.591593589442504], \"y\": [0.6782455491417058], \"type\": \"scatter\", \"uid\": \"b6d50259-dc1d-44ee-80a4-bb4ebf926559\"}, {\"hoverinfo\": \"text\", \"marker\": {\"color\": \"blue\", \"size\": 0.5}, \"mode\": \"markers\", \"text\": \"T-SQL appears with PostgreSQL 31 times\", \"x\": [-0.7776077442768843], \"y\": [0.45312933698957936], \"type\": \"scatter\", \"uid\": \"255900aa-a9c5-4ec6-ac48-7b87ae51c745\"}, {\"hoverinfo\": \"text\", \"marker\": {\"color\": \"green\", \"size\": 0.5}, \"mode\": \"markers\", \"text\": \"PostgreSQL appears with Pentaho 43 times\", \"x\": [-0.6067126345520971], \"y\": [0.6647554280145844], \"type\": \"scatter\", \"uid\": \"feafef73-a6e9-48a6-9343-ea6f98fa01b0\"}, {\"hoverinfo\": \"text\", \"marker\": {\"color\": \"blue\", \"size\": 0.5}, \"mode\": \"markers\", \"text\": \"Pentaho appears with PostgreSQL 43 times\", \"x\": [-0.8933963623496949], \"y\": [0.10882527160697918], \"type\": \"scatter\", \"uid\": \"812c4607-0c4d-41a0-83e6-6a1611a18cd0\"}, {\"hoverinfo\": \"text\", \"marker\": {\"color\": \"green\", \"size\": 0.5}, \"mode\": \"markers\", \"text\": \"PostgreSQL appears with Hadoop 3 times\", \"x\": [-0.5827806423358451], \"y\": [0.6858328680652596], \"type\": \"scatter\", \"uid\": \"ba75cd0d-483e-42ca-b3bf-9f0fc4ba1b6b\"}, {\"hoverinfo\": \"text\", \"marker\": {\"color\": \"blue\", \"size\": 0.5}, \"mode\": \"markers\", \"text\": \"Hadoop appears with PostgreSQL 3 times\", \"x\": [-0.8988484925750911], \"y\": [0.045512497135251906], \"type\": \"scatter\", \"uid\": \"28d5b81f-d566-478c-965d-fbc250dda9b8\"}, {\"hoverinfo\": \"text\", \"marker\": {\"color\": \"green\", \"size\": 0.5}, \"mode\": \"markers\", \"text\": \"PostgreSQL appears with Spark 6 times\", \"x\": [-0.5833846326925451], \"y\": [0.6853191740628481], \"type\": \"scatter\", \"uid\": \"ba09c022-56b6-47d2-abc0-983f8fcb101d\"}, {\"hoverinfo\": \"text\", \"marker\": {\"color\": \"blue\", \"size\": 0.5}, \"mode\": \"markers\", \"text\": \"Spark appears with PostgreSQL 6 times\", \"x\": [-0.8934207639724744], \"y\": [-0.10862476008185382], \"type\": \"scatter\", \"uid\": \"b487b2bf-c569-4515-9625-f7ebff573716\"}, {\"hoverinfo\": \"text\", \"marker\": {\"color\": \"green\", \"size\": 0.5}, \"mode\": \"markers\", \"text\": \"PostgreSQL appears with Qlik 14 times\", \"x\": [-0.585528483632222], \"y\": [0.6834884014051378], \"type\": \"scatter\", \"uid\": \"7e348485-16da-40c5-be57-af84285b1d52\"}, {\"hoverinfo\": \"text\", \"marker\": {\"color\": \"blue\", \"size\": 0.5}, \"mode\": \"markers\", \"text\": \"Qlik appears with PostgreSQL 14 times\", \"x\": [-0.7953503794728851], \"y\": [-0.42120989289466804], \"type\": \"scatter\", \"uid\": \"44fd21a6-4634-4887-91ed-8eced67449bc\"}, {\"hoverinfo\": \"text\", \"marker\": {\"color\": \"green\", \"size\": 0.5}, \"mode\": \"markers\", \"text\": \"PostgreSQL appears with Tableau 6 times\", \"x\": [-0.5841892487360688], \"y\": [0.6846334213732101], \"type\": \"scatter\", \"uid\": \"f409ad63-a991-4e41-a257-c607cb3fc543\"}, {\"hoverinfo\": \"text\", \"marker\": {\"color\": \"blue\", \"size\": 0.5}, \"mode\": \"markers\", \"text\": \"Tableau appears with PostgreSQL 6 times\", \"x\": [-0.5404449069998085], \"y\": [-0.7196661048694515], \"type\": \"scatter\", \"uid\": \"5fe26f17-5f23-4902-b5c0-d5d22c964b7e\"}, {\"hoverinfo\": \"text\", \"marker\": {\"color\": \"green\", \"size\": 0.5}, \"mode\": \"markers\", \"text\": \"PostgreSQL appears with Oracle BI 42 times\", \"x\": [-0.6011605820697885], \"y\": [0.6697805271620795], \"type\": \"scatter\", \"uid\": \"7399ad3e-9c2c-43c3-bb93-cf299dfbae08\"}, {\"hoverinfo\": \"text\", \"marker\": {\"color\": \"blue\", \"size\": 0.5}, \"mode\": \"markers\", \"text\": \"Oracle BI appears with PostgreSQL 42 times\", \"x\": [0.03168594046937549], \"y\": [-0.8994420499268261], \"type\": \"scatter\", \"uid\": \"77b049e3-8c44-48f6-a590-638c2cb3ff6e\"}, {\"hoverinfo\": \"text\", \"marker\": {\"color\": \"green\", \"size\": 0.5}, \"mode\": \"markers\", \"text\": \"PostgreSQL appears with Python 23 times\", \"x\": [-0.5880001479534646], \"y\": [0.6813632115154911], \"type\": \"scatter\", \"uid\": \"97bde8c3-da9e-472f-b5e2-1186bfd9185e\"}, {\"hoverinfo\": \"text\", \"marker\": {\"color\": \"blue\", \"size\": 0.5}, \"mode\": \"markers\", \"text\": \"Python appears with PostgreSQL 23 times\", \"x\": [0.5894499772229884], \"y\": [-0.6801093473492468], \"type\": \"scatter\", \"uid\": \"5722adf5-8bd6-42b2-b386-323ec8e9216f\"}, {\"hoverinfo\": \"text\", \"marker\": {\"color\": \"green\", \"size\": 0.5}, \"mode\": \"markers\", \"text\": \"PostgreSQL appears with Linux 36 times\", \"x\": [-0.5960291293220349], \"y\": [0.6743510042994056], \"type\": \"scatter\", \"uid\": \"d3088dea-f72f-4dc0-b5cb-342a811f171d\"}, {\"hoverinfo\": \"text\", \"marker\": {\"color\": \"blue\", \"size\": 0.5}, \"mode\": \"markers\", \"text\": \"Linux appears with PostgreSQL 36 times\", \"x\": [0.8778678945454627], \"y\": [-0.1983632015428172], \"type\": \"scatter\", \"uid\": \"44d0d338-7c9e-4679-b95a-2591bb17dc2c\"}, {\"hoverinfo\": \"text\", \"marker\": {\"color\": \"green\", \"size\": 0.5}, \"mode\": \"markers\", \"text\": \"MySQL/MariaDB appears with T-SQL 37 times\", \"x\": [-0.672870752456835], \"y\": [0.5976997159846847], \"type\": \"scatter\", \"uid\": \"98e4789c-566e-4716-a90f-6080f402f2f5\"}, {\"hoverinfo\": \"text\", \"marker\": {\"color\": \"blue\", \"size\": 0.5}, \"mode\": \"markers\", \"text\": \"T-SQL appears with MySQL/MariaDB 37 times\", \"x\": [-0.7846172491802718], \"y\": [0.44088067806242476], \"type\": \"scatter\", \"uid\": \"6c5d40cb-50a5-4468-b585-1a8260e98c75\"}, {\"hoverinfo\": \"text\", \"marker\": {\"color\": \"green\", \"size\": 0.5}, \"mode\": \"markers\", \"text\": \"MySQL/MariaDB appears with Pentaho 61 times\", \"x\": [-0.6964869877511386], \"y\": [0.5700051542691044], \"type\": \"scatter\", \"uid\": \"f8f2e086-0cb7-45ab-8f8d-00aaf3cb22ad\"}, {\"hoverinfo\": \"text\", \"marker\": {\"color\": \"blue\", \"size\": 0.5}, \"mode\": \"markers\", \"text\": \"Pentaho appears with MySQL/MariaDB 61 times\", \"x\": [-0.8953461887254021], \"y\": [0.0914067958901137], \"type\": \"scatter\", \"uid\": \"84703569-b155-4373-b9d5-14e36c5682e3\"}, {\"hoverinfo\": \"text\", \"marker\": {\"color\": \"green\", \"size\": 0.5}, \"mode\": \"markers\", \"text\": \"MySQL/MariaDB appears with Hadoop 5 times\", \"x\": [-0.6639115039564476], \"y\": [0.6076360052813591], \"type\": \"scatter\", \"uid\": \"4ba311c4-0b01-4b62-bd52-600e4e8a3016\"}, {\"hoverinfo\": \"text\", \"marker\": {\"color\": \"blue\", \"size\": 0.5}, \"mode\": \"markers\", \"text\": \"Hadoop appears with MySQL/MariaDB 5 times\", \"x\": [-0.8989159062686213], \"y\": [0.04416099474947806], \"type\": \"scatter\", \"uid\": \"204d2996-16f4-4170-8d4e-5b7cc7fd3f70\"}, {\"hoverinfo\": \"text\", \"marker\": {\"color\": \"green\", \"size\": 0.5}, \"mode\": \"markers\", \"text\": \"MySQL/MariaDB appears with Spark 22 times\", \"x\": [-0.66900216540727], \"y\": [0.6020266627653496], \"type\": \"scatter\", \"uid\": \"72f7de09-4329-4f5d-8eec-318b7eb7c7c9\"}, {\"hoverinfo\": \"text\", \"marker\": {\"color\": \"blue\", \"size\": 0.5}, \"mode\": \"markers\", \"text\": \"Spark appears with MySQL/MariaDB 22 times\", \"x\": [-0.8916943705468884], \"y\": [-0.12198831720697086], \"type\": \"scatter\", \"uid\": \"22d7b6e8-99ad-4e4c-bf9e-87bf7c30c66f\"}, {\"hoverinfo\": \"text\", \"marker\": {\"color\": \"green\", \"size\": 0.5}, \"mode\": \"markers\", \"text\": \"MySQL/MariaDB appears with Informatica 8 times\", \"x\": [-0.664774276029534], \"y\": [0.6066919827469364], \"type\": \"scatter\", \"uid\": \"113cb960-1eb4-4e25-b212-7d9a95ee994a\"}, {\"hoverinfo\": \"text\", \"marker\": {\"color\": \"blue\", \"size\": 0.5}, \"mode\": \"markers\", \"text\": \"Informatica appears with MySQL/MariaDB 8 times\", \"x\": [-0.8593492600084591], \"y\": [-0.2674300830552046], \"type\": \"scatter\", \"uid\": \"84b8ab37-0265-4ca4-9e53-b6c593281d2c\"}, {\"hoverinfo\": \"text\", \"marker\": {\"color\": \"green\", \"size\": 0.5}, \"mode\": \"markers\", \"text\": \"MySQL/MariaDB appears with Qlik 17 times\", \"x\": [-0.6664296788127633], \"y\": [0.60487311330354], \"type\": \"scatter\", \"uid\": \"c08acc54-3d74-4117-bb0c-37e9db6a4a9c\"}, {\"hoverinfo\": \"text\", \"marker\": {\"color\": \"blue\", \"size\": 0.5}, \"mode\": \"markers\", \"text\": \"Qlik appears with MySQL/MariaDB 17 times\", \"x\": [-0.7906166277066787], \"y\": [-0.43002947340120645], \"type\": \"scatter\", \"uid\": \"f831915e-b8b9-403b-85dd-aa245e436251\"}, {\"hoverinfo\": \"text\", \"marker\": {\"color\": \"green\", \"size\": 0.5}, \"mode\": \"markers\", \"text\": \"MySQL/MariaDB appears with Tableau 45 times\", \"x\": [-0.6832205276097535], \"y\": [0.5858410284818314], \"type\": \"scatter\", \"uid\": \"70c5c1af-a5a0-4528-8d05-bde8cca4100b\"}, {\"hoverinfo\": \"text\", \"marker\": {\"color\": \"blue\", \"size\": 0.5}, \"mode\": \"markers\", \"text\": \"Tableau appears with MySQL/MariaDB 45 times\", \"x\": [-0.5043212241687521], \"y\": [-0.7454261216599076], \"type\": \"scatter\", \"uid\": \"8fd2d1ec-3874-48d1-afd9-dbcaebc90c47\"}, {\"hoverinfo\": \"text\", \"marker\": {\"color\": \"green\", \"size\": 0.5}, \"mode\": \"markers\", \"text\": \"MySQL/MariaDB appears with Oracle BI 66 times\", \"x\": [-0.7043324062689617], \"y\": [0.5602819482005239], \"type\": \"scatter\", \"uid\": \"7fb18299-8d90-49dc-b50a-602fdb700f72\"}, {\"hoverinfo\": \"text\", \"marker\": {\"color\": \"blue\", \"size\": 0.5}, \"mode\": \"markers\", \"text\": \"Oracle BI appears with MySQL/MariaDB 66 times\", \"x\": [0.06668647004959682], \"y\": [-0.8975259966777143], \"type\": \"scatter\", \"uid\": \"0e5a7888-c660-4b5d-9f95-1fee3e42c85c\"}, {\"hoverinfo\": \"text\", \"marker\": {\"color\": \"green\", \"size\": 0.5}, \"mode\": \"markers\", \"text\": \"MySQL/MariaDB appears with Python 52 times\", \"x\": [-0.6893935322913478], \"y\": [0.5785642208388438], \"type\": \"scatter\", \"uid\": \"3af27c5a-f697-4645-97c4-89c321c2f270\"}, {\"hoverinfo\": \"text\", \"marker\": {\"color\": \"blue\", \"size\": 0.5}, \"mode\": \"markers\", \"text\": \"Python appears with MySQL/MariaDB 52 times\", \"x\": [0.6205949509527428], \"y\": [-0.6518143193057075], \"type\": \"scatter\", \"uid\": \"ab9a8441-e302-4320-aed0-c89754250002\"}, {\"hoverinfo\": \"text\", \"marker\": {\"color\": \"green\", \"size\": 0.5}, \"mode\": \"markers\", \"text\": \"MySQL/MariaDB appears with VBA 5 times\", \"x\": [-0.6625815452321645], \"y\": [0.6090859511741813], \"type\": \"scatter\", \"uid\": \"db3601ba-e280-4f97-8a86-5c846c79c891\"}, {\"hoverinfo\": \"text\", \"marker\": {\"color\": \"blue\", \"size\": 0.5}, \"mode\": \"markers\", \"text\": \"VBA appears with MySQL/MariaDB 5 times\", \"x\": [0.8203134866987334], \"y\": [-0.3702509737194044], \"type\": \"scatter\", \"uid\": \"dac79ded-f57f-45a2-ad83-bd04b5852e30\"}, {\"hoverinfo\": \"text\", \"marker\": {\"color\": \"green\", \"size\": 0.5}, \"mode\": \"markers\", \"text\": \"MySQL/MariaDB appears with Linux 39 times\", \"x\": [-0.6778127523894961], \"y\": [0.5920894127563636], \"type\": \"scatter\", \"uid\": \"0abf4969-2b2d-41ff-a405-e68c49060159\"}, {\"hoverinfo\": \"text\", \"marker\": {\"color\": \"blue\", \"size\": 0.5}, \"mode\": \"markers\", \"text\": \"Linux appears with MySQL/MariaDB 39 times\", \"x\": [0.8793794143358953], \"y\": [-0.19155115672388365], \"type\": \"scatter\", \"uid\": \"c8fff780-ba0f-4612-bdae-a1dcab78f810\"}, {\"hoverinfo\": \"text\", \"marker\": {\"color\": \"green\", \"size\": 0.5}, \"mode\": \"markers\", \"text\": \"T-SQL appears with PL/SQL 33 times\", \"x\": [-0.7809795263746452], \"y\": [0.4472929458236904], \"type\": \"scatter\", \"uid\": \"100bc342-a4e6-4c7d-830f-af2304262995\"}, {\"hoverinfo\": \"text\", \"marker\": {\"color\": \"blue\", \"size\": 0.5}, \"mode\": \"markers\", \"text\": \"PL/SQL appears with T-SQL 33 times\", \"x\": [-0.8731740361320994], \"y\": [0.21809883682582792], \"type\": \"scatter\", \"uid\": \"fd3217c6-2603-4f17-bd3d-e6026699d76f\"}, {\"hoverinfo\": \"text\", \"marker\": {\"color\": \"green\", \"size\": 0.5}, \"mode\": \"markers\", \"text\": \"T-SQL appears with Pentaho 37 times\", \"x\": [-0.7884055912551777], \"y\": [0.43406983732755916], \"type\": \"scatter\", \"uid\": \"5069346a-0fc7-48ba-bba4-76a03cd73d99\"}, {\"hoverinfo\": \"text\", \"marker\": {\"color\": \"blue\", \"size\": 0.5}, \"mode\": \"markers\", \"text\": \"Pentaho appears with T-SQL 37 times\", \"x\": [-0.8915625968626142], \"y\": [0.12294769569045082], \"type\": \"scatter\", \"uid\": \"4d1c1da5-f8b2-40f0-90b2-f960ffc3a7a2\"}, {\"hoverinfo\": \"text\", \"marker\": {\"color\": \"green\", \"size\": 0.5}, \"mode\": \"markers\", \"text\": \"T-SQL appears with Hadoop 16 times\", \"x\": [-0.7678364567550331], \"y\": [0.46949672595011377], \"type\": \"scatter\", \"uid\": \"75a23342-91b3-45fc-b102-1df78efa2c4c\"}, {\"hoverinfo\": \"text\", \"marker\": {\"color\": \"blue\", \"size\": 0.5}, \"mode\": \"markers\", \"text\": \"Hadoop appears with T-SQL 16 times\", \"x\": [-0.8991941184543425], \"y\": [0.038078042716478036], \"type\": \"scatter\", \"uid\": \"6db76724-8131-41b0-a4a3-87af6c7c29c2\"}, {\"hoverinfo\": \"text\", \"marker\": {\"color\": \"green\", \"size\": 0.5}, \"mode\": \"markers\", \"text\": \"T-SQL appears with Spark 17 times\", \"x\": [-0.7696437686641119], \"y\": [0.46652810135778844], \"type\": \"scatter\", \"uid\": \"1743a7f7-0a70-429b-82ad-3235441ac944\"}, {\"hoverinfo\": \"text\", \"marker\": {\"color\": \"blue\", \"size\": 0.5}, \"mode\": \"markers\", \"text\": \"Spark appears with T-SQL 17 times\", \"x\": [-0.8922025436057662], \"y\": [-0.11821430194101293], \"type\": \"scatter\", \"uid\": \"99e55953-9005-4c42-a021-78afd815afef\"}, {\"hoverinfo\": \"text\", \"marker\": {\"color\": \"green\", \"size\": 0.5}, \"mode\": \"markers\", \"text\": \"T-SQL appears with Informatica 12 times\", \"x\": [-0.7662939994854203], \"y\": [0.4720100701813878], \"type\": \"scatter\", \"uid\": \"e1da983e-5b5a-466a-912a-7e23f1e854b4\"}, {\"hoverinfo\": \"text\", \"marker\": {\"color\": \"blue\", \"size\": 0.5}, \"mode\": \"markers\", \"text\": \"Informatica appears with T-SQL 12 times\", \"x\": [-0.8569863200462174], \"y\": [-0.2749080705502155], \"type\": \"scatter\", \"uid\": \"b388485c-a6af-4512-a368-654d56e79cd7\"}, {\"hoverinfo\": \"text\", \"marker\": {\"color\": \"green\", \"size\": 0.5}, \"mode\": \"markers\", \"text\": \"T-SQL appears with Qlik 69 times\", \"x\": [-0.8023933622712142], \"y\": [0.40763328149587597], \"type\": \"scatter\", \"uid\": \"b5a40e89-b62e-4485-9121-80e2ae028f21\"}, {\"hoverinfo\": \"text\", \"marker\": {\"color\": \"blue\", \"size\": 0.5}, \"mode\": \"markers\", \"text\": \"Qlik appears with T-SQL 69 times\", \"x\": [-0.763577889554031], \"y\": [-0.47639144260178734], \"type\": \"scatter\", \"uid\": \"cb36ab65-0022-46b1-bba8-c0f9620ddd0c\"}, {\"hoverinfo\": \"text\", \"marker\": {\"color\": \"green\", \"size\": 0.5}, \"mode\": \"markers\", \"text\": \"T-SQL appears with Tableau 93 times\", \"x\": [-0.8099763447967369], \"y\": [0.39234974304785475], \"type\": \"scatter\", \"uid\": \"4048ade7-58fc-428a-8799-eb8d66103377\"}, {\"hoverinfo\": \"text\", \"marker\": {\"color\": \"blue\", \"size\": 0.5}, \"mode\": \"markers\", \"text\": \"Tableau appears with T-SQL 93 times\", \"x\": [-0.45824751912163436], \"y\": [-0.7746026150348754], \"type\": \"scatter\", \"uid\": \"32ef3ab9-3d68-4e8f-aeab-93fbacebf6d8\"}, {\"hoverinfo\": \"text\", \"marker\": {\"color\": \"green\", \"size\": 0.5}, \"mode\": \"markers\", \"text\": \"T-SQL appears with Microstrategy 11 times\", \"x\": [-0.7650208258759228], \"y\": [0.4740708132506379], \"type\": \"scatter\", \"uid\": \"5ce74155-4d32-4c9a-82a4-4404d7f41aae\"}, {\"hoverinfo\": \"text\", \"marker\": {\"color\": \"blue\", \"size\": 0.5}, \"mode\": \"markers\", \"text\": \"Microstrategy appears with T-SQL 11 times\", \"x\": [-0.06903155280875786], \"y\": [-0.8973486751072917], \"type\": \"scatter\", \"uid\": \"bac85135-05d8-48e4-be36-993f071c5989\"}, {\"hoverinfo\": \"text\", \"marker\": {\"color\": \"green\", \"size\": 0.5}, \"mode\": \"markers\", \"text\": \"T-SQL appears with Oracle BI 131 times\", \"x\": [-0.8298313503223103], \"y\": [0.348396225614244], \"type\": \"scatter\", \"uid\": \"573bd52d-91c5-4943-96b5-00e8e9925aec\"}, {\"hoverinfo\": \"text\", \"marker\": {\"color\": \"blue\", \"size\": 0.5}, \"mode\": \"markers\", \"text\": \"Oracle BI appears with T-SQL 131 times\", \"x\": [0.1491707026917743], \"y\": [-0.8875517457920087], \"type\": \"scatter\", \"uid\": \"18039a02-812d-49e5-be1f-5ba5ddc26438\"}, {\"hoverinfo\": \"text\", \"marker\": {\"color\": \"green\", \"size\": 0.5}, \"mode\": \"markers\", \"text\": \"T-SQL appears with Python 47 times\", \"x\": [-0.796786248130439], \"y\": [0.41848736515003476], \"type\": \"scatter\", \"uid\": \"cc428a9d-1857-4745-b930-3d72e19d5969\"}, {\"hoverinfo\": \"text\", \"marker\": {\"color\": \"blue\", \"size\": 0.5}, \"mode\": \"markers\", \"text\": \"Python appears with T-SQL 47 times\", \"x\": [0.6049031545326271], \"y\": [-0.6664024111874721], \"type\": \"scatter\", \"uid\": \"339a27ce-4f67-425b-abea-99847f064938\"}, {\"hoverinfo\": \"text\", \"marker\": {\"color\": \"green\", \"size\": 0.5}, \"mode\": \"markers\", \"text\": \"T-SQL appears with VBA 26 times\", \"x\": [-0.7745680242577291], \"y\": [0.45830598490253], \"type\": \"scatter\", \"uid\": \"0004721f-74f1-4ccc-848e-0a66b2cafeef\"}, {\"hoverinfo\": \"text\", \"marker\": {\"color\": \"blue\", \"size\": 0.5}, \"mode\": \"markers\", \"text\": \"VBA appears with T-SQL 26 times\", \"x\": [0.8236614178513584], \"y\": [-0.3627421518697407], \"type\": \"scatter\", \"uid\": \"9e244488-cffa-4d7b-9bf0-b86267b7317b\"}, {\"hoverinfo\": \"text\", \"marker\": {\"color\": \"green\", \"size\": 0.5}, \"mode\": \"markers\", \"text\": \"T-SQL appears with Linux 24 times\", \"x\": [-0.7718732256584262], \"y\": [0.46283012381613226], \"type\": \"scatter\", \"uid\": \"85f76146-f981-4b7f-959d-42d16c52d143\"}, {\"hoverinfo\": \"text\", \"marker\": {\"color\": \"blue\", \"size\": 0.5}, \"mode\": \"markers\", \"text\": \"Linux appears with T-SQL 24 times\", \"x\": [0.875209797493877], \"y\": [-0.2097803860486651], \"type\": \"scatter\", \"uid\": \"e36c9e90-cde8-4fb5-a591-2992ad2118a4\"}, {\"hoverinfo\": \"text\", \"marker\": {\"color\": \"green\", \"size\": 0.5}, \"mode\": \"markers\", \"text\": \"T-SQL appears with AWS 8 times\", \"x\": [-0.7639648934350043], \"y\": [0.475770576642611], \"type\": \"scatter\", \"uid\": \"5f80d08d-976b-4887-ac3f-3f19a9eeba1f\"}, {\"hoverinfo\": \"text\", \"marker\": {\"color\": \"blue\", \"size\": 0.5}, \"mode\": \"markers\", \"text\": \"AWS appears with T-SQL 8 times\", \"x\": [0.8951190192148799], \"y\": [-0.09360524258710862], \"type\": \"scatter\", \"uid\": \"06ec2b6f-bf93-4894-be09-3124fa8bdd2f\"}, {\"hoverinfo\": \"text\", \"marker\": {\"color\": \"green\", \"size\": 0.5}, \"mode\": \"markers\", \"text\": \"PL/SQL appears with Pentaho 8 times\", \"x\": [-0.8676912899514743], \"y\": [0.2389808053847564], \"type\": \"scatter\", \"uid\": \"18651a22-ca22-4936-a292-d575985a4220\"}, {\"hoverinfo\": \"text\", \"marker\": {\"color\": \"blue\", \"size\": 0.5}, \"mode\": \"markers\", \"text\": \"Pentaho appears with PL/SQL 8 times\", \"x\": [-0.8844718081643352], \"y\": [0.16646206944079275], \"type\": \"scatter\", \"uid\": \"6783efe2-ba43-48f9-8dff-9ddb92783c5c\"}, {\"hoverinfo\": \"text\", \"marker\": {\"color\": \"green\", \"size\": 0.5}, \"mode\": \"markers\", \"text\": \"PL/SQL appears with Hadoop 3 times\", \"x\": [-0.8669583224995172], \"y\": [0.2416262962693075], \"type\": \"scatter\", \"uid\": \"f26169e0-34a6-4a59-a5a8-a636f85b01c5\"}, {\"hoverinfo\": \"text\", \"marker\": {\"color\": \"blue\", \"size\": 0.5}, \"mode\": \"markers\", \"text\": \"Hadoop appears with PL/SQL 3 times\", \"x\": [-0.8988776329779756], \"y\": [0.0449332942472704], \"type\": \"scatter\", \"uid\": \"1a0e9308-c935-4367-8009-d284e247ca06\"}, {\"hoverinfo\": \"text\", \"marker\": {\"color\": \"green\", \"size\": 0.5}, \"mode\": \"markers\", \"text\": \"PL/SQL appears with Informatica 27 times\", \"x\": [-0.8708615658924501], \"y\": [0.22715662669477601], \"type\": \"scatter\", \"uid\": \"f0b59e42-7793-4091-847d-73d61275431d\"}, {\"hoverinfo\": \"text\", \"marker\": {\"color\": \"blue\", \"size\": 0.5}, \"mode\": \"markers\", \"text\": \"Informatica appears with PL/SQL 27 times\", \"x\": [-0.8522861242942031], \"y\": [-0.28915110640557146], \"type\": \"scatter\", \"uid\": \"a68e4a42-a6c2-4594-8987-6ec318e5b44e\"}, {\"hoverinfo\": \"text\", \"marker\": {\"color\": \"green\", \"size\": 0.5}, \"mode\": \"markers\", \"text\": \"PL/SQL appears with Qlik 15 times\", \"x\": [-0.8685329741896433], \"y\": [0.23590352423245514], \"type\": \"scatter\", \"uid\": \"22ab549b-ab3c-47ab-b852-3dabd9b7f99f\"}, {\"hoverinfo\": \"text\", \"marker\": {\"color\": \"blue\", \"size\": 0.5}, \"mode\": \"markers\", \"text\": \"Qlik appears with PL/SQL 15 times\", \"x\": [-0.793852473968569], \"y\": [-0.42402623689340563], \"type\": \"scatter\", \"uid\": \"9760b749-d3dc-4d22-af81-c8518a091400\"}, {\"hoverinfo\": \"text\", \"marker\": {\"color\": \"green\", \"size\": 0.5}, \"mode\": \"markers\", \"text\": \"PL/SQL appears with Tableau 18 times\", \"x\": [-0.8691715168129577], \"y\": [0.23353987745364255], \"type\": \"scatter\", \"uid\": \"1394c2c2-b7c5-44cc-8aa6-ba712355ee99\"}, {\"hoverinfo\": \"text\", \"marker\": {\"color\": \"blue\", \"size\": 0.5}, \"mode\": \"markers\", \"text\": \"Tableau appears with PL/SQL 18 times\", \"x\": [-0.5354269522991776], \"y\": [-0.7234072012024861], \"type\": \"scatter\", \"uid\": \"93be8d3a-1d21-45f8-bee4-1090c4ec9890\"}, {\"hoverinfo\": \"text\", \"marker\": {\"color\": \"green\", \"size\": 0.5}, \"mode\": \"markers\", \"text\": \"PL/SQL appears with Microstrategy 22 times\", \"x\": [-0.8699368835421915], \"y\": [0.23067253554096911], \"type\": \"scatter\", \"uid\": \"bace1bf6-2ba9-4871-afc0-51c90143bb8d\"}, {\"hoverinfo\": \"text\", \"marker\": {\"color\": \"blue\", \"size\": 0.5}, \"mode\": \"markers\", \"text\": \"Microstrategy appears with PL/SQL 22 times\", \"x\": [-0.059414878119246214], \"y\": [-0.8980366764548513], \"type\": \"scatter\", \"uid\": \"2d29a7d5-4af2-41b7-8d70-16b3e35c6936\"}, {\"hoverinfo\": \"text\", \"marker\": {\"color\": \"green\", \"size\": 0.5}, \"mode\": \"markers\", \"text\": \"PL/SQL appears with Oracle BI 78 times\", \"x\": [-0.876969020424225], \"y\": [0.20230011669837308], \"type\": \"scatter\", \"uid\": \"53c3c681-fb28-49fb-85dd-ac4157816fcc\"}, {\"hoverinfo\": \"text\", \"marker\": {\"color\": \"blue\", \"size\": 0.5}, \"mode\": \"markers\", \"text\": \"Oracle BI appears with PL/SQL 78 times\", \"x\": [0.09798955855957985], \"y\": [-0.8946496780378892], \"type\": \"scatter\", \"uid\": \"63de3723-9e0e-451b-87c7-4afdb62142e0\"}, {\"hoverinfo\": \"text\", \"marker\": {\"color\": \"green\", \"size\": 0.5}, \"mode\": \"markers\", \"text\": \"PL/SQL appears with Python 3 times\", \"x\": [-0.8668387026991441], \"y\": [0.2420550836129349], \"type\": \"scatter\", \"uid\": \"44e21c30-a2a8-4cef-a3ad-dbaf229a1ac9\"}, {\"hoverinfo\": \"text\", \"marker\": {\"color\": \"blue\", \"size\": 0.5}, \"mode\": \"markers\", \"text\": \"Python appears with PL/SQL 3 times\", \"x\": [0.5844523571280442], \"y\": [-0.6844088268334017], \"type\": \"scatter\", \"uid\": \"113c2932-4bac-4ba7-90e9-d9691a827caa\"}, {\"hoverinfo\": \"text\", \"marker\": {\"color\": \"green\", \"size\": 0.5}, \"mode\": \"markers\", \"text\": \"PL/SQL appears with VBA 6 times\", \"x\": [-0.8671373544989355], \"y\": [0.24098300444759074], \"type\": \"scatter\", \"uid\": \"a0a307aa-8598-4c03-9eaa-b8c65ced8180\"}, {\"hoverinfo\": \"text\", \"marker\": {\"color\": \"blue\", \"size\": 0.5}, \"mode\": \"markers\", \"text\": \"VBA appears with PL/SQL 6 times\", \"x\": [0.8207506103902981], \"y\": [-0.3692809710016931], \"type\": \"scatter\", \"uid\": \"66b505b6-4a95-425e-b274-af5ff540d16d\"}, {\"hoverinfo\": \"text\", \"marker\": {\"color\": \"green\", \"size\": 0.5}, \"mode\": \"markers\", \"text\": \"PL/SQL appears with Linux 1 times\", \"x\": [-0.866678879745494], \"y\": [0.24262670793442245], \"type\": \"scatter\", \"uid\": \"7b44d561-7bd0-48ea-be8e-54cf6e930f44\"}, {\"hoverinfo\": \"text\", \"marker\": {\"color\": \"blue\", \"size\": 0.5}, \"mode\": \"markers\", \"text\": \"Linux appears with PL/SQL 1 times\", \"x\": [0.8709912786127806], \"y\": [-0.2266587580052305], \"type\": \"scatter\", \"uid\": \"19928857-fc28-43c2-9d8c-dd1d28491a22\"}, {\"hoverinfo\": \"text\", \"marker\": {\"color\": \"green\", \"size\": 0.5}, \"mode\": \"markers\", \"text\": \"PL/SQL appears with AWS 2 times\", \"x\": [-0.8667388575306074], \"y\": [0.24241236116695325], \"type\": \"scatter\", \"uid\": \"3e5cedc0-afa3-457d-87a7-098fe19a74b1\"}, {\"hoverinfo\": \"text\", \"marker\": {\"color\": \"blue\", \"size\": 0.5}, \"mode\": \"markers\", \"text\": \"AWS appears with PL/SQL 2 times\", \"x\": [0.8947995500727648], \"y\": [-0.09661141335048268], \"type\": \"scatter\", \"uid\": \"113ad71a-7b22-42f1-8a6d-185f8ff35290\"}, {\"hoverinfo\": \"text\", \"marker\": {\"color\": \"green\", \"size\": 0.5}, \"mode\": \"markers\", \"text\": \"Pentaho appears with Spark 6 times\", \"x\": [-0.8842345310358773], \"y\": [0.1677179004273607], \"type\": \"scatter\", \"uid\": \"9ea8b477-b83f-43b3-b62e-6e0d3606aab2\"}, {\"hoverinfo\": \"text\", \"marker\": {\"color\": \"blue\", \"size\": 0.5}, \"mode\": \"markers\", \"text\": \"Spark appears with Pentaho 6 times\", \"x\": [-0.8932785875453052], \"y\": [-0.10978781823619845], \"type\": \"scatter\", \"uid\": \"bd5783e5-ec3d-4f6b-8aa3-d3eb6a4d6027\"}, {\"hoverinfo\": \"text\", \"marker\": {\"color\": \"green\", \"size\": 0.5}, \"mode\": \"markers\", \"text\": \"Pentaho appears with Informatica 32 times\", \"x\": [-0.8867776047009847], \"y\": [0.15370582227353732], \"type\": \"scatter\", \"uid\": \"ce494d91-b9aa-4cd6-bfe7-edd8c9cb8cd9\"}, {\"hoverinfo\": \"text\", \"marker\": {\"color\": \"blue\", \"size\": 0.5}, \"mode\": \"markers\", \"text\": \"Informatica appears with Pentaho 32 times\", \"x\": [-0.8504103197109569], \"y\": [-0.2946222804356591], \"type\": \"scatter\", \"uid\": \"5af8aa38-2faf-4303-86f3-249bcab60786\"}, {\"hoverinfo\": \"text\", \"marker\": {\"color\": \"green\", \"size\": 0.5}, \"mode\": \"markers\", \"text\": \"Pentaho appears with Qlik 30 times\", \"x\": [-0.8857934474731038], \"y\": [0.15927952917344307], \"type\": \"scatter\", \"uid\": \"9a80a616-a76b-49b4-a95b-097b42469c6d\"}, {\"hoverinfo\": \"text\", \"marker\": {\"color\": \"blue\", \"size\": 0.5}, \"mode\": \"markers\", \"text\": \"Qlik appears with Pentaho 30 times\", \"x\": [-0.7850331229894748], \"y\": [-0.4401397457733079], \"type\": \"scatter\", \"uid\": \"6c4f7de0-fbf5-4cbd-8fff-ebb48a33c6bc\"}, {\"hoverinfo\": \"text\", \"marker\": {\"color\": \"green\", \"size\": 0.5}, \"mode\": \"markers\", \"text\": \"Pentaho appears with Tableau 37 times\", \"x\": [-0.8906146437673679], \"y\": [0.12963624611629393], \"type\": \"scatter\", \"uid\": \"29e7dbf8-cefa-4366-b312-362cee9a52f1\"}, {\"hoverinfo\": \"text\", \"marker\": {\"color\": \"blue\", \"size\": 0.5}, \"mode\": \"markers\", \"text\": \"Tableau appears with Pentaho 37 times\", \"x\": [-0.511885909340684], \"y\": [-0.740251859719691], \"type\": \"scatter\", \"uid\": \"a4624131-6720-4d51-a6bd-0dd015b67c73\"}, {\"hoverinfo\": \"text\", \"marker\": {\"color\": \"green\", \"size\": 0.5}, \"mode\": \"markers\", \"text\": \"Pentaho appears with Microstrategy 3 times\", \"x\": [-0.8840810541174624], \"y\": [0.16852504190937453], \"type\": \"scatter\", \"uid\": \"a65add67-3d48-46d7-ae3f-a2a678641542\"}, {\"hoverinfo\": \"text\", \"marker\": {\"color\": \"blue\", \"size\": 0.5}, \"mode\": \"markers\", \"text\": \"Microstrategy appears with Pentaho 3 times\", \"x\": [-0.0724588957665327], \"y\": [-0.8970784293607191], \"type\": \"scatter\", \"uid\": \"cb9def1f-db6d-45db-96ab-f4012bb7cf4d\"}, {\"hoverinfo\": \"text\", \"marker\": {\"color\": \"green\", \"size\": 0.5}, \"mode\": \"markers\", \"text\": \"Pentaho appears with Oracle BI 38 times\", \"x\": [-0.8924721065751718], \"y\": [0.1161616932782714], \"type\": \"scatter\", \"uid\": \"1f02a888-80d6-4420-831b-0759f7711fb3\"}, {\"hoverinfo\": \"text\", \"marker\": {\"color\": \"blue\", \"size\": 0.5}, \"mode\": \"markers\", \"text\": \"Oracle BI appears with Pentaho 38 times\", \"x\": [0.022643609493310613], \"y\": [-0.8997151032127417], \"type\": \"scatter\", \"uid\": \"438728c0-ccaa-4c54-8dee-cef88e8bb954\"}, {\"hoverinfo\": \"text\", \"marker\": {\"color\": \"green\", \"size\": 0.5}, \"mode\": \"markers\", \"text\": \"Pentaho appears with Python 34 times\", \"x\": [-0.8896579534336837], \"y\": [0.13604677832344808], \"type\": \"scatter\", \"uid\": \"b4735c7b-b1e5-4312-b3fc-1a08385d0f93\"}, {\"hoverinfo\": \"text\", \"marker\": {\"color\": \"blue\", \"size\": 0.5}, \"mode\": \"markers\", \"text\": \"Python appears with Pentaho 34 times\", \"x\": [0.5982837329503065], \"y\": [-0.672351526277026], \"type\": \"scatter\", \"uid\": \"1870a00a-5b92-41f5-a0ec-41892bfe9f42\"}, {\"hoverinfo\": \"text\", \"marker\": {\"color\": \"green\", \"size\": 0.5}, \"mode\": \"markers\", \"text\": \"Pentaho appears with VBA 1 times\", \"x\": [-0.8840126056521118], \"y\": [0.1688837264160283], \"type\": \"scatter\", \"uid\": \"a197962a-8b48-47e7-af5c-c5f46dc64972\"}, {\"hoverinfo\": \"text\", \"marker\": {\"color\": \"blue\", \"size\": 0.5}, \"mode\": \"markers\", \"text\": \"VBA appears with Pentaho 1 times\", \"x\": [0.8193557838940358], \"y\": [-0.37236554539778527], \"type\": \"scatter\", \"uid\": \"5afb3b2a-8c69-436a-b745-85cd8acbe0e9\"}, {\"hoverinfo\": \"text\", \"marker\": {\"color\": \"green\", \"size\": 0.5}, \"mode\": \"markers\", \"text\": \"Pentaho appears with Linux 33 times\", \"x\": [-0.8887128447324927], \"y\": [0.1420896886036435], \"type\": \"scatter\", \"uid\": \"39430ded-4407-40e6-90d9-c827d3bad7d6\"}, {\"hoverinfo\": \"text\", \"marker\": {\"color\": \"blue\", \"size\": 0.5}, \"mode\": \"markers\", \"text\": \"Linux appears with Pentaho 33 times\", \"x\": [0.8764306893156729], \"y\": [-0.20461976157168785], \"type\": \"scatter\", \"uid\": \"3654efc3-77d9-45f8-b815-58008d7fbee9\"}, {\"hoverinfo\": \"text\", \"marker\": {\"color\": \"green\", \"size\": 0.5}, \"mode\": \"markers\", \"text\": \"Pentaho appears with AWS 13 times\", \"x\": [-0.8850903106725865], \"y\": [0.16314147833553655], \"type\": \"scatter\", \"uid\": \"791992ed-27ae-4106-8d57-73612f5daee9\"}, {\"hoverinfo\": \"text\", \"marker\": {\"color\": \"blue\", \"size\": 0.5}, \"mode\": \"markers\", \"text\": \"AWS appears with Pentaho 13 times\", \"x\": [0.8954537136589323], \"y\": [-0.0903473668372618], \"type\": \"scatter\", \"uid\": \"f003d094-35f3-419f-a9af-76325da22729\"}, {\"hoverinfo\": \"text\", \"marker\": {\"color\": \"green\", \"size\": 0.5}, \"mode\": \"markers\", \"text\": \"Hadoop appears with Spark 120 times\", \"x\": [-0.8989865428385136], \"y\": [-0.04269889688572049], \"type\": \"scatter\", \"uid\": \"849de8a3-a3d2-43f7-bdb9-4adbd13bf3ec\"}, {\"hoverinfo\": \"text\", \"marker\": {\"color\": \"blue\", \"size\": 0.5}, \"mode\": \"markers\", \"text\": \"Spark appears with Hadoop 120 times\", \"x\": [-0.877373348426158], \"y\": [-0.20053929159013087], \"type\": \"scatter\", \"uid\": \"bf6abb06-3ddf-4750-ab9d-469cef425fec\"}, {\"hoverinfo\": \"text\", \"marker\": {\"color\": \"green\", \"size\": 0.5}, \"mode\": \"markers\", \"text\": \"Hadoop appears with Informatica 5 times\", \"x\": [-0.8989628147674987], \"y\": [0.043195574603143695], \"type\": \"scatter\", \"uid\": \"e1ff9d37-e2f8-473b-bdf2-035297074d68\"}, {\"hoverinfo\": \"text\", \"marker\": {\"color\": \"blue\", \"size\": 0.5}, \"mode\": \"markers\", \"text\": \"Informatica appears with Hadoop 5 times\", \"x\": [-0.8597270792612245], \"y\": [-0.2662129771160008], \"type\": \"scatter\", \"uid\": \"4db5d64d-0e36-466a-b637-be7b2c4bf910\"}, {\"hoverinfo\": \"text\", \"marker\": {\"color\": \"green\", \"size\": 0.5}, \"mode\": \"markers\", \"text\": \"Hadoop appears with Qlik 9 times\", \"x\": [-0.8990886423848237], \"y\": [0.040492136701028365], \"type\": \"scatter\", \"uid\": \"d6b50756-dbc9-44bd-8f8a-a5a64b9782ec\"}, {\"hoverinfo\": \"text\", \"marker\": {\"color\": \"blue\", \"size\": 0.5}, \"mode\": \"markers\", \"text\": \"Qlik appears with Hadoop 9 times\", \"x\": [-0.7965312698872001], \"y\": [-0.41897247653262915], \"type\": \"scatter\", \"uid\": \"35a6bb38-7008-4fc3-b5cc-142386d66219\"}, {\"hoverinfo\": \"text\", \"marker\": {\"color\": \"green\", \"size\": 0.5}, \"mode\": \"markers\", \"text\": \"Hadoop appears with Tableau 36 times\", \"x\": [-0.8999348108670782], \"y\": [0.010832183050346698], \"type\": \"scatter\", \"uid\": \"2e673a3d-17d5-4491-8893-b4ca1f620809\"}, {\"hoverinfo\": \"text\", \"marker\": {\"color\": \"blue\", \"size\": 0.5}, \"mode\": \"markers\", \"text\": \"Tableau appears with Hadoop 36 times\", \"x\": [-0.5185756848837887], \"y\": [-0.7355808990500702], \"type\": \"scatter\", \"uid\": \"f1a65450-9bce-479c-96df-b3d75a026e54\"}, {\"hoverinfo\": \"text\", \"marker\": {\"color\": \"green\", \"size\": 0.5}, \"mode\": \"markers\", \"text\": \"Hadoop appears with Microstrategy 3 times\", \"x\": [-0.8988189789557218], \"y\": [0.04609168112570581], \"type\": \"scatter\", \"uid\": \"83a556c1-eb7e-4a9a-81e5-0490be899f9d\"}, {\"hoverinfo\": \"text\", \"marker\": {\"color\": \"blue\", \"size\": 0.5}, \"mode\": \"markers\", \"text\": \"Microstrategy appears with Hadoop 3 times\", \"x\": [-0.07201190992675267], \"y\": [-0.8971144212577911], \"type\": \"scatter\", \"uid\": \"6754ecf7-d84a-4a83-b681-14c815026737\"}, {\"hoverinfo\": \"text\", \"marker\": {\"color\": \"green\", \"size\": 0.5}, \"mode\": \"markers\", \"text\": \"Hadoop appears with Oracle BI 34 times\", \"x\": [-0.8998279486917975], \"y\": [0.017597237087449084], \"type\": \"scatter\", \"uid\": \"91149f86-6a9e-4a4b-b749-c36919f90e7e\"}, {\"hoverinfo\": \"text\", \"marker\": {\"color\": \"blue\", \"size\": 0.5}, \"mode\": \"markers\", \"text\": \"Oracle BI appears with Hadoop 34 times\", \"x\": [0.01450352950680628], \"y\": [-0.899883129985136], \"type\": \"scatter\", \"uid\": \"50f98a38-ac03-489b-8373-07a88c0fbd9f\"}, {\"hoverinfo\": \"text\", \"marker\": {\"color\": \"green\", \"size\": 0.5}, \"mode\": \"markers\", \"text\": \"Hadoop appears with Python 130 times\", \"x\": [-0.8975162607115547], \"y\": [-0.06681737617078845], \"type\": \"scatter\", \"uid\": \"d5de0074-a9a0-4abb-a4a0-1a41a0eb24b6\"}, {\"hoverinfo\": \"text\", \"marker\": {\"color\": \"blue\", \"size\": 0.5}, \"mode\": \"markers\", \"text\": \"Python appears with Hadoop 130 times\", \"x\": [0.7123332501951906], \"y\": [-0.5500739410900648], \"type\": \"scatter\", \"uid\": \"84fcce38-b464-47f0-a369-7730bbb5a152\"}, {\"hoverinfo\": \"text\", \"marker\": {\"color\": \"green\", \"size\": 0.5}, \"mode\": \"markers\", \"text\": \"Hadoop appears with VBA 7 times\", \"x\": [-0.8990177363270636], \"y\": [0.04203700476202369], \"type\": \"scatter\", \"uid\": \"7b57de07-93be-41cc-b32a-5bd34e02e52f\"}, {\"hoverinfo\": \"text\", \"marker\": {\"color\": \"blue\", \"size\": 0.5}, \"mode\": \"markers\", \"text\": \"VBA appears with Hadoop 7 times\", \"x\": [0.8223697796979047], \"y\": [-0.36566097062664454], \"type\": \"scatter\", \"uid\": \"8ccbae7a-e228-4b9e-88df-4e7fb9cab6c1\"}, {\"hoverinfo\": \"text\", \"marker\": {\"color\": \"green\", \"size\": 0.5}, \"mode\": \"markers\", \"text\": \"Hadoop appears with Linux 81 times\", \"x\": [-0.8996987453134824], \"y\": [-0.023284494440413455], \"type\": \"scatter\", \"uid\": \"bb99c5cc-e427-4036-b213-2d290f5c98a7\"}, {\"hoverinfo\": \"text\", \"marker\": {\"color\": \"blue\", \"size\": 0.5}, \"mode\": \"markers\", \"text\": \"Linux appears with Hadoop 81 times\", \"x\": [0.8876446953379431], \"y\": [-0.14861660350852487], \"type\": \"scatter\", \"uid\": \"1d27e7c1-4520-483a-99be-444983a1c061\"}, {\"hoverinfo\": \"text\", \"marker\": {\"color\": \"green\", \"size\": 0.5}, \"mode\": \"markers\", \"text\": \"Hadoop appears with AWS 44 times\", \"x\": [-0.8999946612144385], \"y\": [0.0030999654043463772], \"type\": \"scatter\", \"uid\": \"9f4ac415-750b-4c3a-ba35-888fb828718d\"}, {\"hoverinfo\": \"text\", \"marker\": {\"color\": \"blue\", \"size\": 0.5}, \"mode\": \"markers\", \"text\": \"AWS appears with Hadoop 44 times\", \"x\": [0.8979090831321849], \"y\": [-0.06131295481967302], \"type\": \"scatter\", \"uid\": \"30ad95c9-a399-4bff-b820-6fa4e41c8c58\"}, {\"hoverinfo\": \"text\", \"marker\": {\"color\": \"green\", \"size\": 0.5}, \"mode\": \"markers\", \"text\": \"Spark appears with Informatica 10 times\", \"x\": [-0.8929165229442543], \"y\": [-0.11269464518397994], \"type\": \"scatter\", \"uid\": \"b2dbff2e-7c3d-40ed-ba6e-1131d9ed3f31\"}, {\"hoverinfo\": \"text\", \"marker\": {\"color\": \"blue\", \"size\": 0.5}, \"mode\": \"markers\", \"text\": \"Informatica appears with Spark 10 times\", \"x\": [-0.8583529730687046], \"y\": [-0.2706107418860449], \"type\": \"scatter\", \"uid\": \"b675a8bb-89bd-4c47-8175-d7b1ec6da735\"}, {\"hoverinfo\": \"text\", \"marker\": {\"color\": \"green\", \"size\": 0.5}, \"mode\": \"markers\", \"text\": \"Spark appears with Qlik 15 times\", \"x\": [-0.8926075765687709], \"y\": [-0.11511609032635692], \"type\": \"scatter\", \"uid\": \"a427d74a-1cdb-471a-8ea7-4fe5dc16710c\"}, {\"hoverinfo\": \"text\", \"marker\": {\"color\": \"blue\", \"size\": 0.5}, \"mode\": \"markers\", \"text\": \"Qlik appears with Spark 15 times\", \"x\": [-0.7922924223592751], \"y\": [-0.4269340903138002], \"type\": \"scatter\", \"uid\": \"b19f358c-1a1a-47c7-946e-9c7e8f2b9e03\"}, {\"hoverinfo\": \"text\", \"marker\": {\"color\": \"green\", \"size\": 0.5}, \"mode\": \"markers\", \"text\": \"Spark appears with Tableau 34 times\", \"x\": [-0.8885600681855357], \"y\": [-0.14304197015602216], \"type\": \"scatter\", \"uid\": \"35ce640d-72f7-488a-911a-0a04200ac8af\"}, {\"hoverinfo\": \"text\", \"marker\": {\"color\": \"blue\", \"size\": 0.5}, \"mode\": \"markers\", \"text\": \"Tableau appears with Spark 34 times\", \"x\": [-0.5249505165866921], \"y\": [-0.7310451115597212], \"type\": \"scatter\", \"uid\": \"29068188-f7c0-48f0-9c40-1935204cb4c4\"}, {\"hoverinfo\": \"text\", \"marker\": {\"color\": \"green\", \"size\": 0.5}, \"mode\": \"markers\", \"text\": \"Spark appears with Microstrategy 3 times\", \"x\": [-0.8935264025377989], \"y\": [-0.10775234553298343], \"type\": \"scatter\", \"uid\": \"6c699c32-0020-4886-9d18-4836c6cd9385\"}, {\"hoverinfo\": \"text\", \"marker\": {\"color\": \"blue\", \"size\": 0.5}, \"mode\": \"markers\", \"text\": \"Microstrategy appears with Spark 3 times\", \"x\": [-0.0729058636175637], \"y\": [-0.8970422147536744], \"type\": \"scatter\", \"uid\": \"7bda0681-a577-47c3-a2a3-a25a65c304aa\"}, {\"hoverinfo\": \"text\", \"marker\": {\"color\": \"green\", \"size\": 0.5}, \"mode\": \"markers\", \"text\": \"Spark appears with Oracle BI 30 times\", \"x\": [-0.8895318528750982], \"y\": [-0.13686885226593687], \"type\": \"scatter\", \"uid\": \"1082b770-d2c1-45e9-8777-c6dfeab5625b\"}, {\"hoverinfo\": \"text\", \"marker\": {\"color\": \"blue\", \"size\": 0.5}, \"mode\": \"markers\", \"text\": \"Oracle BI appears with Spark 30 times\", \"x\": [0.007266885687865314], \"y\": [-0.8999706619509324], \"type\": \"scatter\", \"uid\": \"62a4cb0b-8d89-48d7-9359-f2c32ebd582f\"}, {\"hoverinfo\": \"text\", \"marker\": {\"color\": \"green\", \"size\": 0.5}, \"mode\": \"markers\", \"text\": \"Spark appears with Python 138 times\", \"x\": [-0.8714171002407387], \"y\": [-0.22501608255416392], \"type\": \"scatter\", \"uid\": \"ea63c4e9-a77a-4525-8753-d8a7a3883d26\"}, {\"hoverinfo\": \"text\", \"marker\": {\"color\": \"blue\", \"size\": 0.5}, \"mode\": \"markers\", \"text\": \"Python appears with Spark 138 times\", \"x\": [0.7299464754616263], \"y\": [-0.5264771058281164], \"type\": \"scatter\", \"uid\": \"a21e3006-9da2-42de-b74b-b41918948fb8\"}, {\"hoverinfo\": \"text\", \"marker\": {\"color\": \"green\", \"size\": 0.5}, \"mode\": \"markers\", \"text\": \"Spark appears with VBA 7 times\", \"x\": [-0.8931228545015487], \"y\": [-0.11104758784865776], \"type\": \"scatter\", \"uid\": \"e1982046-b855-4bdf-af8a-82de8d2f7ddc\"}, {\"hoverinfo\": \"text\", \"marker\": {\"color\": \"blue\", \"size\": 0.5}, \"mode\": \"markers\", \"text\": \"VBA appears with Spark 7 times\", \"x\": [0.8218186861801808], \"y\": [-0.3668978700470766], \"type\": \"scatter\", \"uid\": \"19ff4eab-9c55-444d-90e5-34eb68b9e639\"}, {\"hoverinfo\": \"text\", \"marker\": {\"color\": \"green\", \"size\": 0.5}, \"mode\": \"markers\", \"text\": \"Spark appears with Linux 62 times\", \"x\": [-0.8840991823269042], \"y\": [-0.16842991364036075], \"type\": \"scatter\", \"uid\": \"db9ed089-ff33-47bc-933b-f6998048c36c\"}, {\"hoverinfo\": \"text\", \"marker\": {\"color\": \"blue\", \"size\": 0.5}, \"mode\": \"markers\", \"text\": \"Linux appears with Spark 62 times\", \"x\": [0.8829898323088183], \"y\": [-0.17415210604309342], \"type\": \"scatter\", \"uid\": \"9c187a52-e08e-49ae-a429-fbc73f241d57\"}, {\"hoverinfo\": \"text\", \"marker\": {\"color\": \"green\", \"size\": 0.5}, \"mode\": \"markers\", \"text\": \"Spark appears with AWS 45 times\", \"x\": [-0.8859948150177097], \"y\": [-0.15815558087444928], \"type\": \"scatter\", \"uid\": \"78a46261-4c21-46a7-a7db-ddb7b831b01d\"}, {\"hoverinfo\": \"text\", \"marker\": {\"color\": \"blue\", \"size\": 0.5}, \"mode\": \"markers\", \"text\": \"AWS appears with Spark 45 times\", \"x\": [0.8983872723664065], \"y\": [-0.05385451559570673], \"type\": \"scatter\", \"uid\": \"ce115422-7fa2-4d32-86f9-0fd4ebd3103d\"}, {\"hoverinfo\": \"text\", \"marker\": {\"color\": \"green\", \"size\": 0.5}, \"mode\": \"markers\", \"text\": \"Informatica appears with Qlik 92 times\", \"x\": [-0.8328891079020739], \"y\": [-0.34102160333047454], \"type\": \"scatter\", \"uid\": \"8e063d48-feee-42d8-9006-f14957ffc80d\"}, {\"hoverinfo\": \"text\", \"marker\": {\"color\": \"blue\", \"size\": 0.5}, \"mode\": \"markers\", \"text\": \"Qlik appears with Informatica 92 times\", \"x\": [-0.7449230648277959], \"y\": [-0.5050639835580869], \"type\": \"scatter\", \"uid\": \"986ea9c8-d847-4439-9bcc-f1d173191338\"}, {\"hoverinfo\": \"text\", \"marker\": {\"color\": \"green\", \"size\": 0.5}, \"mode\": \"markers\", \"text\": \"Informatica appears with Tableau 67 times\", \"x\": [-0.8386699805007249], \"y\": [-0.32654657218674604], \"type\": \"scatter\", \"uid\": \"a4f98a16-ef12-4b42-8a1f-f3b3498dafa1\"}, {\"hoverinfo\": \"text\", \"marker\": {\"color\": \"blue\", \"size\": 0.5}, \"mode\": \"markers\", \"text\": \"Tableau appears with Informatica 67 times\", \"x\": [-0.47354742505883873], \"y\": [-0.765344913238563], \"type\": \"scatter\", \"uid\": \"c2e38a67-c659-40dc-8b8e-27150cdd725a\"}, {\"hoverinfo\": \"text\", \"marker\": {\"color\": \"green\", \"size\": 0.5}, \"mode\": \"markers\", \"text\": \"Informatica appears with Microstrategy 13 times\", \"x\": [-0.8562345480040405], \"y\": [-0.27724068749791486], \"type\": \"scatter\", \"uid\": \"d13d5ab8-c376-48ab-9c13-3a4c5abacca4\"}, {\"hoverinfo\": \"text\", \"marker\": {\"color\": \"blue\", \"size\": 0.5}, \"mode\": \"markers\", \"text\": \"Microstrategy appears with Informatica 13 times\", \"x\": [-0.06724297082537581], \"y\": [-0.8974844750047645], \"type\": \"scatter\", \"uid\": \"0c2d55fe-6e09-4d38-8c1d-b5a83d86f049\"}, {\"hoverinfo\": \"text\", \"marker\": {\"color\": \"green\", \"size\": 0.5}, \"mode\": \"markers\", \"text\": \"Informatica appears with Oracle BI 124 times\", \"x\": [-0.8154292874166449], \"y\": [-0.38088722375945183], \"type\": \"scatter\", \"uid\": \"3b11ee26-64fb-40d2-b81d-4af205e27064\"}, {\"hoverinfo\": \"text\", \"marker\": {\"color\": \"blue\", \"size\": 0.5}, \"mode\": \"markers\", \"text\": \"Oracle BI appears with Informatica 124 times\", \"x\": [0.12066215763986181], \"y\": [-0.8918747915002941], \"type\": \"scatter\", \"uid\": \"897194ee-4598-4e45-a73d-22489e188e58\"}, {\"hoverinfo\": \"text\", \"marker\": {\"color\": \"green\", \"size\": 0.5}, \"mode\": \"markers\", \"text\": \"Informatica appears with Python 25 times\", \"x\": [-0.8539101959761355], \"y\": [-0.2843191467488568], \"type\": \"scatter\", \"uid\": \"82c85979-7f5d-45e8-ac76-7ef8ecc9db55\"}, {\"hoverinfo\": \"text\", \"marker\": {\"color\": \"blue\", \"size\": 0.5}, \"mode\": \"markers\", \"text\": \"Python appears with Informatica 25 times\", \"x\": [0.5934253140992161], \"y\": [-0.6766434781967877], \"type\": \"scatter\", \"uid\": \"756e5b50-2ff6-4275-aea4-a3678c74e038\"}, {\"hoverinfo\": \"text\", \"marker\": {\"color\": \"green\", \"size\": 0.5}, \"mode\": \"markers\", \"text\": \"Informatica appears with VBA 3 times\", \"x\": [-0.8599587266650182], \"y\": [-0.2654637233835927], \"type\": \"scatter\", \"uid\": \"fe8d9da0-7ccc-436c-82b6-f9f1876dccdb\"}, {\"hoverinfo\": \"text\", \"marker\": {\"color\": \"blue\", \"size\": 0.5}, \"mode\": \"markers\", \"text\": \"VBA appears with Informatica 3 times\", \"x\": [0.8195957208617393], \"y\": [-0.37183713416646014], \"type\": \"scatter\", \"uid\": \"ae2d6a8a-7d00-48da-a505-2e4ac6159159\"}, {\"hoverinfo\": \"text\", \"marker\": {\"color\": \"green\", \"size\": 0.5}, \"mode\": \"markers\", \"text\": \"Informatica appears with Linux 8 times\", \"x\": [-0.8588818864179237], \"y\": [-0.268927323236574], \"type\": \"scatter\", \"uid\": \"c2eeb076-8be3-4247-a229-edfa8d9776b5\"}, {\"hoverinfo\": \"text\", \"marker\": {\"color\": \"blue\", \"size\": 0.5}, \"mode\": \"markers\", \"text\": \"Linux appears with Informatica 8 times\", \"x\": [0.8719901868703002], \"y\": [-0.22278490523798716], \"type\": \"scatter\", \"uid\": \"0bbb6117-b2fa-4f33-9b0d-f206354cf48e\"}, {\"hoverinfo\": \"text\", \"marker\": {\"color\": \"green\", \"size\": 0.5}, \"mode\": \"markers\", \"text\": \"Informatica appears with AWS 19 times\", \"x\": [-0.8552630159497592], \"y\": [-0.2802234350451832], \"type\": \"scatter\", \"uid\": \"41a51a79-6c4c-438f-98af-7a4741437275\"}, {\"hoverinfo\": \"text\", \"marker\": {\"color\": \"blue\", \"size\": 0.5}, \"mode\": \"markers\", \"text\": \"AWS appears with Informatica 19 times\", \"x\": [0.8957194789688773], \"y\": [-0.08767334256045552], \"type\": \"scatter\", \"uid\": \"fb0b5f8b-e98a-4397-afd8-8b73e2d164e1\"}, {\"hoverinfo\": \"text\", \"marker\": {\"color\": \"green\", \"size\": 0.5}, \"mode\": \"markers\", \"text\": \"Qlik appears with Tableau 326 times\", \"x\": [-0.6507879752144309], \"y\": [-0.6216711440273718], \"type\": \"scatter\", \"uid\": \"f23ba8eb-1ed2-45ca-bd4a-15dd93822e64\"}, {\"hoverinfo\": \"text\", \"marker\": {\"color\": \"blue\", \"size\": 0.5}, \"mode\": \"markers\", \"text\": \"Tableau appears with Qlik 326 times\", \"x\": [-0.3086441434597345], \"y\": [-0.8454222570455588], \"type\": \"scatter\", \"uid\": \"390f7548-37ee-4ba4-97e2-56bf7b80c39d\"}, {\"hoverinfo\": \"text\", \"marker\": {\"color\": \"green\", \"size\": 0.5}, \"mode\": \"markers\", \"text\": \"Qlik appears with Microstrategy 32 times\", \"x\": [-0.7816754299559685], \"y\": [-0.44607569111435763], \"type\": \"scatter\", \"uid\": \"058b5123-3273-4494-a6cb-ee54c9bc0349\"}, {\"hoverinfo\": \"text\", \"marker\": {\"color\": \"blue\", \"size\": 0.5}, \"mode\": \"markers\", \"text\": \"Microstrategy appears with Qlik 32 times\", \"x\": [-0.04822419999088639], \"y\": [-0.8987070860604355], \"type\": \"scatter\", \"uid\": \"1aa6154d-a657-4de4-8e3b-599449b3f01f\"}, {\"hoverinfo\": \"text\", \"marker\": {\"color\": \"green\", \"size\": 0.5}, \"mode\": \"markers\", \"text\": \"Qlik appears with Oracle BI 316 times\", \"x\": [-0.6975147064916786], \"y\": [-0.5687470740389154], \"type\": \"scatter\", \"uid\": \"b9021f07-0deb-450e-8e9c-dbd152f1b010\"}, {\"hoverinfo\": \"text\", \"marker\": {\"color\": \"blue\", \"size\": 0.5}, \"mode\": \"markers\", \"text\": \"Oracle BI appears with Qlik 316 times\", \"x\": [0.34867468314478023], \"y\": [-0.8297143878069653], \"type\": \"scatter\", \"uid\": \"f0395efb-046c-40ec-84d4-12021ab19292\"}, {\"hoverinfo\": \"text\", \"marker\": {\"color\": \"green\", \"size\": 0.5}, \"mode\": \"markers\", \"text\": \"Qlik appears with Python 48 times\", \"x\": [-0.7772766300752219], \"y\": [-0.4536970799320916], \"type\": \"scatter\", \"uid\": \"abb43519-8b7e-4922-892a-2eb4f5b82c10\"}, {\"hoverinfo\": \"text\", \"marker\": {\"color\": \"blue\", \"size\": 0.5}, \"mode\": \"markers\", \"text\": \"Python appears with Qlik 48 times\", \"x\": [0.6125912544924552], \"y\": [-0.659342062149352], \"type\": \"scatter\", \"uid\": \"d453a47f-7b39-4b5a-a663-7f184793ab96\"}, {\"hoverinfo\": \"text\", \"marker\": {\"color\": \"green\", \"size\": 0.5}, \"mode\": \"markers\", \"text\": \"Qlik appears with VBA 29 times\", \"x\": [-0.7881864927673], \"y\": [-0.4344675507091214], \"type\": \"scatter\", \"uid\": \"38c56806-e5ea-4361-9d58-f60f9ed7afaa\"}, {\"hoverinfo\": \"text\", \"marker\": {\"color\": \"blue\", \"size\": 0.5}, \"mode\": \"markers\", \"text\": \"VBA appears with Qlik 29 times\", \"x\": [0.8257911186779818], \"y\": [-0.35786733339684323], \"type\": \"scatter\", \"uid\": \"8d621d9b-e148-4e8c-bf83-79e687e26038\"}, {\"hoverinfo\": \"text\", \"marker\": {\"color\": \"green\", \"size\": 0.5}, \"mode\": \"markers\", \"text\": \"Qlik appears with Linux 2 times\", \"x\": [-0.7974000570912525], \"y\": [-0.41731660517030394], \"type\": \"scatter\", \"uid\": \"b18fd67e-966a-484d-ac59-809c153c6d49\"}, {\"hoverinfo\": \"text\", \"marker\": {\"color\": \"blue\", \"size\": 0.5}, \"mode\": \"markers\", \"text\": \"Linux appears with Qlik 2 times\", \"x\": [0.871061528569905], \"y\": [-0.22638863364899872], \"type\": \"scatter\", \"uid\": \"ca5a6344-1d38-4fb1-ba13-650719583376\"}, {\"hoverinfo\": \"text\", \"marker\": {\"color\": \"green\", \"size\": 0.5}, \"mode\": \"markers\", \"text\": \"Qlik appears with AWS 3 times\", \"x\": [-0.7971448886083827], \"y\": [-0.417803813488495], \"type\": \"scatter\", \"uid\": \"7f5105d8-c8d8-4994-80f1-43e17b1d30f8\"}, {\"hoverinfo\": \"text\", \"marker\": {\"color\": \"blue\", \"size\": 0.5}, \"mode\": \"markers\", \"text\": \"AWS appears with Qlik 3 times\", \"x\": [0.8948445245988862], \"y\": [-0.09619395404802378], \"type\": \"scatter\", \"uid\": \"6654b176-5f33-4847-8c8a-e02e421e1f27\"}, {\"hoverinfo\": \"text\", \"marker\": {\"color\": \"green\", \"size\": 0.5}, \"mode\": \"markers\", \"text\": \"Tableau appears with Microstrategy 46 times\", \"x\": [-0.4958650789571916], \"y\": [-0.7510777745818193], \"type\": \"scatter\", \"uid\": \"965bcfcf-0090-4e4d-a1e9-d48df21c0419\"}, {\"hoverinfo\": \"text\", \"marker\": {\"color\": \"blue\", \"size\": 0.5}, \"mode\": \"markers\", \"text\": \"Microstrategy appears with Tableau 46 times\", \"x\": [-0.037026039328617685], \"y\": [-0.8992380510252198], \"type\": \"scatter\", \"uid\": \"21672c68-df96-401c-8265-92be2b4a1ec4\"}, {\"hoverinfo\": \"text\", \"marker\": {\"color\": \"green\", \"size\": 0.5}, \"mode\": \"markers\", \"text\": \"Tableau appears with Oracle BI 384 times\", \"x\": [-0.23299805401034165], \"y\": [-0.869316919671643], \"type\": \"scatter\", \"uid\": \"3a7135e3-cd72-49ec-bf63-666b5047e38e\"}, {\"hoverinfo\": \"text\", \"marker\": {\"color\": \"blue\", \"size\": 0.5}, \"mode\": \"markers\", \"text\": \"Oracle BI appears with Tableau 384 times\", \"x\": [0.4202079442751344], \"y\": [-0.7958801942303035], \"type\": \"scatter\", \"uid\": \"7b1f2fb8-e5d7-42dd-896a-24bca79a8153\"}, {\"hoverinfo\": \"text\", \"marker\": {\"color\": \"green\", \"size\": 0.5}, \"mode\": \"markers\", \"text\": \"Tableau appears with Python 122 times\", \"x\": [-0.41813129832160534], \"y\": [-0.7969731597512483], \"type\": \"scatter\", \"uid\": \"84b735a3-f4ac-4fcb-a01e-693882b786e5\"}, {\"hoverinfo\": \"text\", \"marker\": {\"color\": \"blue\", \"size\": 0.5}, \"mode\": \"markers\", \"text\": \"Python appears with Tableau 122 times\", \"x\": [0.6950756392252985], \"y\": [-0.5717253324416742], \"type\": \"scatter\", \"uid\": \"87c99d85-fb0c-48cc-99ce-8fec7ea9fea1\"}, {\"hoverinfo\": \"text\", \"marker\": {\"color\": \"green\", \"size\": 0.5}, \"mode\": \"markers\", \"text\": \"Tableau appears with VBA 62 times\", \"x\": [-0.4857471227210572], \"y\": [-0.7576606976531212], \"type\": \"scatter\", \"uid\": \"acd8fb66-a033-412c-986f-aa23cb2589a6\"}, {\"hoverinfo\": \"text\", \"marker\": {\"color\": \"blue\", \"size\": 0.5}, \"mode\": \"markers\", \"text\": \"VBA appears with Tableau 62 times\", \"x\": [0.838489158770211], \"y\": [-0.32701059711395275], \"type\": \"scatter\", \"uid\": \"07e88395-76c8-455a-a45c-ef724cc1b98d\"}, {\"hoverinfo\": \"text\", \"marker\": {\"color\": \"green\", \"size\": 0.5}, \"mode\": \"markers\", \"text\": \"Tableau appears with Linux 16 times\", \"x\": [-0.5384766715415878], \"y\": [-0.7211399823928035], \"type\": \"scatter\", \"uid\": \"cf113803-931b-4076-ab51-9feb345aac5d\"}, {\"hoverinfo\": \"text\", \"marker\": {\"color\": \"blue\", \"size\": 0.5}, \"mode\": \"markers\", \"text\": \"Linux appears with Tableau 16 times\", \"x\": [0.8725402264573691], \"y\": [-0.2206208358558258], \"type\": \"scatter\", \"uid\": \"d6a12f16-25fe-428d-bd9c-cd01693538d9\"}, {\"hoverinfo\": \"text\", \"marker\": {\"color\": \"green\", \"size\": 0.5}, \"mode\": \"markers\", \"text\": \"Tableau appears with AWS 32 times\", \"x\": [-0.5309247455217604], \"y\": [-0.7267179057878331], \"type\": \"scatter\", \"uid\": \"52831d81-06bd-4840-bc74-c7ff42f6614f\"}, {\"hoverinfo\": \"text\", \"marker\": {\"color\": \"blue\", \"size\": 0.5}, \"mode\": \"markers\", \"text\": \"AWS appears with Tableau 32 times\", \"x\": [0.8968657794920918], \"y\": [-0.07504514358732647], \"type\": \"scatter\", \"uid\": \"3fa7f529-fa1d-4196-8ecd-74818e5d27fc\"}, {\"hoverinfo\": \"text\", \"marker\": {\"color\": \"green\", \"size\": 0.5}, \"mode\": \"markers\", \"text\": \"Microstrategy appears with Oracle BI 57 times\", \"x\": [-0.0293332036724201], \"y\": [-0.8995218525207225], \"type\": \"scatter\", \"uid\": \"c27c99c1-7081-4abd-9f99-535161324f40\"}, {\"hoverinfo\": \"text\", \"marker\": {\"color\": \"blue\", \"size\": 0.5}, \"mode\": \"markers\", \"text\": \"Oracle BI appears with Microstrategy 57 times\", \"x\": [0.052808313292552006], \"y\": [-0.8984493764521159], \"type\": \"scatter\", \"uid\": \"d5c22eac-7bde-4365-9057-155122f36eb6\"}, {\"hoverinfo\": \"text\", \"marker\": {\"color\": \"green\", \"size\": 0.5}, \"mode\": \"markers\", \"text\": \"Microstrategy appears with Python 17 times\", \"x\": [-0.06500686856762328], \"y\": [-0.8976492115737816], \"type\": \"scatter\", \"uid\": \"af38227e-7493-4b53-972c-ade8b87b5324\"}, {\"hoverinfo\": \"text\", \"marker\": {\"color\": \"blue\", \"size\": 0.5}, \"mode\": \"markers\", \"text\": \"Python appears with Microstrategy 17 times\", \"x\": [0.586121728174763], \"y\": [-0.682979735981551], \"type\": \"scatter\", \"uid\": \"e9a144b0-65d4-4db4-b163-2d5c35224338\"}, {\"hoverinfo\": \"text\", \"marker\": {\"color\": \"green\", \"size\": 0.5}, \"mode\": \"markers\", \"text\": \"Microstrategy appears with VBA 7 times\", \"x\": [-0.0703728097371853], \"y\": [-0.8972444859957033], \"type\": \"scatter\", \"uid\": \"d69959d3-ba3e-4f9f-b1e3-c826878c4c72\"}, {\"hoverinfo\": \"text\", \"marker\": {\"color\": \"blue\", \"size\": 0.5}, \"mode\": \"markers\", \"text\": \"VBA appears with Microstrategy 7 times\", \"x\": [0.821265732283858], \"y\": [-0.36813393890846086], \"type\": \"scatter\", \"uid\": \"59c5e3ac-4185-4ef9-b194-b6ebcce63eb7\"}, {\"hoverinfo\": \"text\", \"marker\": {\"color\": \"green\", \"size\": 0.5}, \"mode\": \"markers\", \"text\": \"Microstrategy appears with Linux 6 times\", \"x\": [-0.07134139768092489], \"y\": [-0.8971679915026685], \"type\": \"scatter\", \"uid\": \"e2940b93-f19e-4973-a996-c4ab70d507c9\"}, {\"hoverinfo\": \"text\", \"marker\": {\"color\": \"blue\", \"size\": 0.5}, \"mode\": \"markers\", \"text\": \"Linux appears with Microstrategy 6 times\", \"x\": [0.8716668515751984], \"y\": [-0.22404664662739557], \"type\": \"scatter\", \"uid\": \"e9df3dbb-d592-4c51-84a0-da914c7bf03c\"}, {\"hoverinfo\": \"text\", \"marker\": {\"color\": \"green\", \"size\": 0.5}, \"mode\": \"markers\", \"text\": \"Microstrategy appears with AWS 2 times\", \"x\": [-0.07327832300529462], \"y\": [-0.8970118657952812], \"type\": \"scatter\", \"uid\": \"f130a3fd-3750-478b-b5da-f5a3742c876c\"}, {\"hoverinfo\": \"text\", \"marker\": {\"color\": \"blue\", \"size\": 0.5}, \"mode\": \"markers\", \"text\": \"AWS appears with Microstrategy 2 times\", \"x\": [0.8947634302303595], \"y\": [-0.09694536565716094], \"type\": \"scatter\", \"uid\": \"48a0185a-12d4-48bc-9321-e27a994cd42b\"}, {\"hoverinfo\": \"text\", \"marker\": {\"color\": \"green\", \"size\": 0.5}, \"mode\": \"markers\", \"text\": \"Oracle BI appears with Python 145 times\", \"x\": [0.17985355851965565], \"y\": [-0.8818461869781016], \"type\": \"scatter\", \"uid\": \"66c156bc-66ab-4813-ad53-b2fdf5ab6a37\"}, {\"hoverinfo\": \"text\", \"marker\": {\"color\": \"blue\", \"size\": 0.5}, \"mode\": \"markers\", \"text\": \"Python appears with Oracle BI 145 times\", \"x\": [0.7476969788983476], \"y\": [-0.5009483284194927], \"type\": \"scatter\", \"uid\": \"30e7e986-1398-4db5-a2be-36ba44c25c8a\"}, {\"hoverinfo\": \"text\", \"marker\": {\"color\": \"green\", \"size\": 0.5}, \"mode\": \"markers\", \"text\": \"Oracle BI appears with VBA 67 times\", \"x\": [0.0816749092622201], \"y\": [-0.8962863433060934], \"type\": \"scatter\", \"uid\": \"9c8e8c68-faa7-41a0-9904-226f1d73f0b8\"}, {\"hoverinfo\": \"text\", \"marker\": {\"color\": \"blue\", \"size\": 0.5}, \"mode\": \"markers\", \"text\": \"VBA appears with Oracle BI 67 times\", \"x\": [0.8429419638611602], \"y\": [-0.31535511025174534], \"type\": \"scatter\", \"uid\": \"74026399-8f5d-4a3a-b547-1ca9454d2cf3\"}, {\"hoverinfo\": \"text\", \"marker\": {\"color\": \"green\", \"size\": 0.5}, \"mode\": \"markers\", \"text\": \"Oracle BI appears with Linux 3 times\", \"x\": [0.0035352780848565287], \"y\": [-0.899993056533695], \"type\": \"scatter\", \"uid\": \"623f3279-5b71-4cf5-b882-92e4574a50d2\"}, {\"hoverinfo\": \"text\", \"marker\": {\"color\": \"blue\", \"size\": 0.5}, \"mode\": \"markers\", \"text\": \"Linux appears with Oracle BI 3 times\", \"x\": [0.8711784256621072], \"y\": [-0.22593837801686617], \"type\": \"scatter\", \"uid\": \"c90e0498-6906-44c6-9140-a3e75a59f9a8\"}, {\"hoverinfo\": \"text\", \"marker\": {\"color\": \"green\", \"size\": 0.5}, \"mode\": \"markers\", \"text\": \"Oracle BI appears with AWS 44 times\", \"x\": [0.04140285025440064], \"y\": [-0.8990471644973982], \"type\": \"scatter\", \"uid\": \"04c2e015-911d-4f99-b8be-218b20386e5a\"}, {\"hoverinfo\": \"text\", \"marker\": {\"color\": \"blue\", \"size\": 0.5}, \"mode\": \"markers\", \"text\": \"AWS appears with Oracle BI 44 times\", \"x\": [0.8973753872259713], \"y\": [-0.06868343614757516], \"type\": \"scatter\", \"uid\": \"73573655-2ea9-49b6-b584-ba33cd09d9da\"}, {\"hoverinfo\": \"text\", \"marker\": {\"color\": \"green\", \"size\": 0.5}, \"mode\": \"markers\", \"text\": \"Python appears with VBA 60 times\", \"x\": [0.6294492232620166], \"y\": [-0.6432679654194231], \"type\": \"scatter\", \"uid\": \"0f782d6c-6532-4096-8ff1-5227fb75b2b8\"}, {\"hoverinfo\": \"text\", \"marker\": {\"color\": \"blue\", \"size\": 0.5}, \"mode\": \"markers\", \"text\": \"VBA appears with Python 60 times\", \"x\": [0.8341296906914696], \"y\": [-0.33797582621683653], \"type\": \"scatter\", \"uid\": \"b86a0738-052d-48ae-bba1-54ad788d0364\"}, {\"hoverinfo\": \"text\", \"marker\": {\"color\": \"green\", \"size\": 0.5}, \"mode\": \"markers\", \"text\": \"Python appears with Linux 87 times\", \"x\": [0.6643407984787728], \"y\": [-0.6071666192047999], \"type\": \"scatter\", \"uid\": \"b5fd6b33-3228-4ff1-a15c-1757b2df3db0\"}, {\"hoverinfo\": \"text\", \"marker\": {\"color\": \"blue\", \"size\": 0.5}, \"mode\": \"markers\", \"text\": \"Linux appears with Python 87 times\", \"x\": [0.8900917078624677], \"y\": [-0.13317939628364245], \"type\": \"scatter\", \"uid\": \"b0ae88d0-960a-4bfd-aaa0-d7aea6ae5b83\"}, {\"hoverinfo\": \"text\", \"marker\": {\"color\": \"green\", \"size\": 0.5}, \"mode\": \"markers\", \"text\": \"Python appears with AWS 82 times\", \"x\": [0.6516730527372359], \"y\": [-0.6207432902062913], \"type\": \"scatter\", \"uid\": \"3e2d34b7-ff86-4f60-9878-2eac7490801b\"}, {\"hoverinfo\": \"text\", \"marker\": {\"color\": \"blue\", \"size\": 0.5}, \"mode\": \"markers\", \"text\": \"AWS appears with Python 82 times\", \"x\": [0.8993132842836102], \"y\": [-0.03515134010285281], \"type\": \"scatter\", \"uid\": \"78568999-f7b2-41e5-917f-c978db5aab86\"}, {\"hoverinfo\": \"text\", \"marker\": {\"color\": \"green\", \"size\": 0.5}, \"mode\": \"markers\", \"text\": \"VBA appears with Linux 1 times\", \"x\": [0.8194358007413332], \"y\": [-0.37218942551261475], \"type\": \"scatter\", \"uid\": \"76187707-caec-4e39-925c-05fb429c4fdd\"}, {\"hoverinfo\": \"text\", \"marker\": {\"color\": \"blue\", \"size\": 0.5}, \"mode\": \"markers\", \"text\": \"Linux appears with VBA 1 times\", \"x\": [0.8709443987697824], \"y\": [-0.22683882880041156], \"type\": \"scatter\", \"uid\": \"8fb4e47c-9e53-4c31-ad9b-ed7d995ed738\"}, {\"hoverinfo\": \"text\", \"marker\": {\"color\": \"green\", \"size\": 0.5}, \"mode\": \"markers\", \"text\": \"VBA appears with AWS 5 times\", \"x\": [0.8199151067024026], \"y\": [-0.3711323453987644], \"type\": \"scatter\", \"uid\": \"573531d1-b20d-494a-a909-a8f87690a773\"}, {\"hoverinfo\": \"text\", \"marker\": {\"color\": \"blue\", \"size\": 0.5}, \"mode\": \"markers\", \"text\": \"AWS appears with VBA 5 times\", \"x\": [0.8949160787332692], \"y\": [-0.09552597565410782], \"type\": \"scatter\", \"uid\": \"77e3c2e0-bac0-4dd8-a3cb-79dea090af6e\"}, {\"hoverinfo\": \"text\", \"marker\": {\"color\": \"green\", \"size\": 0.5}, \"mode\": \"markers\", \"text\": \"Linux appears with AWS 23 times\", \"x\": [0.8741802375212253], \"y\": [-0.21403016686283752], \"type\": \"scatter\", \"uid\": \"867a4b2a-9179-4e67-ad08-8aa4d0b92ce1\"}, {\"hoverinfo\": \"text\", \"marker\": {\"color\": \"blue\", \"size\": 0.5}, \"mode\": \"markers\", \"text\": \"AWS appears with Linux 23 times\", \"x\": [0.8960561773865201], \"y\": [-0.08416250333406947], \"type\": \"scatter\", \"uid\": \"7d5ab59f-fb82-4d0e-b74e-c1ef9879503d\"}], {\"autosize\": false, \"font\": {\"color\": \"#655643\", \"family\": \"Fira Sans Condensed\", \"size\": 12}, \"height\": 525, \"hidesources\": true, \"hoverdistance\": 40, \"hovermode\": \"closest\", \"margin\": {\"b\": 10, \"l\": 280, \"r\": 280, \"t\": 80}, \"paper_bgcolor\": \"#fffaf0\", \"plot_bgcolor\": \"#fffaf0\", \"shapes\": [{\"fillcolor\": \"#f2e6ce\", \"layer\": \"below\", \"line\": {\"color\": \"rgb(175,175,175)\", \"width\": 0.5}, \"path\": \"M 0.9739678763129654,0.22668607348139436 Q 0.18396499711177883, 0.07846578768905088 0.8377479193943368, 0.5460571614313466L 0.8377479193943368, 0.5460571614313466 L 0.8508468155132909, 0.5254138335929993 L 0.8634371366126378, 0.5044564511612168 M 0.8634371366126378,0.5044564511612168 Q 0.18410547600477306, 0.07813561099176186 0.9627006435487514, 0.2705687914575884L 0.9627006435487514, 0.2705687914575884 L 0.9685828112196126, 0.24869124996652425 L 0.9739678763129654, 0.22668607348139436 \", \"type\": \"path\"}, {\"fillcolor\": \"#f2e6ce\", \"layer\": \"below\", \"line\": {\"color\": \"rgb(175,175,175)\", \"width\": 0.5}, \"path\": \"M 0.9981326759477839,0.06108323178513274 Q 0.14534680350125206, 0.13738379348368723 0.11716596300587404, 0.9931123486861424L 0.11716596300587404, 0.9931123486861424 L 0.13144133674968858, 0.9913239505799579 L 0.14568950415267073, 0.9893303636196298 M 0.14568950415267073,0.9893303636196298 Q 0.1454428946070214, 0.13728206149505068 0.9960867782891534, 0.08838059808314858L 0.9960867782891534, 0.08838059808314858 L 0.9972031360088921, 0.07473891579378866 L 0.9981326759477839, 0.06108323178513274 \", \"type\": \"path\"}, {\"fillcolor\": \"#f2e6ce\", \"layer\": \"below\", \"line\": {\"color\": \"rgb(175,175,175)\", \"width\": 0.5}, \"path\": \"M 0.9960867782891534,0.08838059808314858 Q 0.09679474814802908, 0.17501650416734882 -0.4545974425979596, 0.890697010875974L -0.4545974425979596, 0.890697010875974 L -0.4412969512904212, 0.8973611317534205 L -0.4278987949764746, 0.9038266544297534 M -0.4278987949764746,0.9038266544297534 Q 0.09687898800145255, 0.17496988793450838 0.9931297864276837, 0.1170180640333081L 0.9931297864276837, 0.1170180640333081 L 0.9947113457933288, 0.10270997298229993 L 0.9960867782891534, 0.08838059808314858 \", \"type\": \"path\"}, {\"fillcolor\": \"#f2e6ce\", \"layer\": \"below\", \"line\": {\"color\": \"rgb(175,175,175)\", \"width\": 0.5}, \"path\": \"M 1.0,0.0 Q 0.07248305372959596, 0.18640334471793285 -0.7373103461016253, 0.6755541825283162L -0.7373103461016253, 0.6755541825283162 L -0.7369410231291343, 0.6759570462902096 L -0.736571480033341, 0.6763597081446332 M -0.736571480033341,0.6763597081446332 Q 0.07247495622003668, 0.18640649323696792 0.9999993038620194, 0.0011799472346146406L 0.9999993038620194, 0.0011799472346146406 L 0.9999998259654898, 0.0005899737199831078 L 1.0, 0.0 \", \"type\": \"path\"}, {\"fillcolor\": \"#f2e6ce\", \"layer\": \"below\", \"line\": {\"color\": \"rgb(175,175,175)\", \"width\": 0.5}, \"path\": \"M 0.9994226508103302,0.03397594806996323 Q 0.04512180047030203, 0.19484358630018658 -0.8827472744453018, 0.46984811318062264L -0.8827472744453018, 0.46984811318062264 L -0.8804273875462261, 0.47418099419791954 L -0.8780862332781325, 0.4785024210256632 M -0.8780862332781325,0.4785024210256632 Q 0.04511382619424281, 0.19484543280794564 0.9990368109671501, 0.04387995365296975L 0.9990368109671501, 0.04387995365296975 L 0.9992420014309001, 0.03892842889674454 L 0.9994226508103302, 0.03397594806996323 \", \"type\": \"path\"}, {\"fillcolor\": \"#f2e6ce\", \"layer\": \"below\", \"line\": {\"color\": \"rgb(175,175,175)\", \"width\": 0.5}, \"path\": \"M 0.9999928715547213,0.0037758230549919934 Q 0.026486130611575627, 0.19823845460764308 -0.9639261047640945, 0.26616999183664564L -0.9639261047640945, 0.26616999183664564 L -0.9637723483981169, 0.26672619005860454 L -0.9636182710983738, 0.26728229946141374 M -0.9636182710983738,0.26728229946141374 Q 0.026436787465643333, 0.19824504096823306 0.9999852697547862, 0.005427731887952778L 0.9999852697547862, 0.005427731887952778 L 0.9999894117587727, 0.004601779041174332 L 0.9999928715547213, 0.0037758230549919934 \", \"type\": \"path\"}, {\"fillcolor\": \"#f2e6ce\", \"layer\": \"below\", \"line\": {\"color\": \"rgb(175,175,175)\", \"width\": 0.5}, \"path\": \"M 0.9999852697547862,0.005427731887952778 Q 0.017793127984506895, 0.19920693912744847 -0.9831937990214045, 0.18256492972599667L -0.9831937990214045, 0.18256492972599667 L -0.9830453311240386, 0.18336269237560104 L -0.9828962159228173, 0.18416033428674755 M -0.9828962159228173,0.18416033428674755 Q 0.017766733387809094, 0.1992092949255293 0.9999732405722687, 0.007315609297645914L 0.9999732405722687, 0.007315609297645914 L 0.9999797006828096, 0.006371673431560345 L 0.9999852697547862, 0.005427731887952778 \", \"type\": \"path\"}, {\"fillcolor\": \"#f2e6ce\", \"layer\": \"below\", \"line\": {\"color\": \"rgb(175,175,175)\", \"width\": 0.5}, \"path\": \"M 0.9999485140707918,0.0101473744197971 Q 0.002594435612261291, 0.1999831715516429 -0.9993487316475472, 0.036084796721593426L -0.9993487316475472, 0.036084796721593426 L -0.9992648079648633, 0.03833853887337022 L -0.9991758016247866, 0.040592086020122396 M -0.9991758016247866,0.040592086020122396 Q 0.0025499222689394554, 0.19998374408041864 0.9998859469081189, 0.015102753909612191L 0.9998859469081189, 0.015102753909612191 L 0.9999203002120592, 0.012625102923357522 L 0.9999485140707918, 0.0101473744197971 \", \"type\": \"path\"}, {\"fillcolor\": \"#f2e6ce\", \"layer\": \"below\", \"line\": {\"color\": \"rgb(175,175,175)\", \"width\": 0.5}, \"path\": \"M 0.9997940615847689,0.020293703945592146 Q -0.016950561787047413, 0.19928040158305454 -0.9888584629717494, -0.14885879285131026L -0.9888584629717494, -0.14885879285131026 L -0.9892744288780082, -0.1460688343490516 L -0.9896825232304424, -0.14327771359225758 M -0.9896825232304424,-0.14327771359225758 Q -0.016999796585667474, 0.19927620760152462 0.9996507261002942, 0.02642774691786453L 0.9996507261002942, 0.02642774691786453 L 0.9997270984478905, 0.023360835365240615 L 0.9997940615847689, 0.020293703945592146 \", \"type\": \"path\"}, {\"fillcolor\": \"#f2e6ce\", \"layer\": \"below\", \"line\": {\"color\": \"rgb(175,175,175)\", \"width\": 0.5}, \"path\": \"M 0.9999732405722687,0.007315609297645914 Q -0.03151047516711252, 0.19750212645625564 -0.952605459764414, -0.30420854364568634L -0.952605459764414, -0.30420854364568634 L -0.9530022697774435, -0.30296315584414024 L -0.9533974516347337, -0.30171725044550524 M -0.9533974516347337,-0.30171725044550524 Q -0.03153197514528727, 0.19749869504236475 0.9999485140707918, 0.0101473744197971L 0.9999485140707918, 0.0101473744197971 L 0.9999618797219577, 0.008731500611515113 L 0.9999732405722687, 0.007315609297645914 \", \"type\": \"path\"}, {\"fillcolor\": \"#f2e6ce\", \"layer\": \"below\", \"line\": {\"color\": \"rgb(175,175,175)\", \"width\": 0.5}, \"path\": \"M 0.9885450145831867,0.1509263202451023 Q -0.07760168698066129, 0.184331164423587 -0.7988386251939646, -0.6015453855680521L -0.7988386251939646, -0.6015453855680521 L -0.8102335196254297, -0.5861071946968306 L -0.8213301011805728, -0.5704532100836229 M -0.8213301011805728,-0.5704532100836229 Q -0.07747942685490543, 0.18438258706894034 0.9822759962167948, 0.18744030318024782L 0.9822759962167948, 0.18744030318024782 L 0.9855796172253728, 0.16921234620998468 L 0.9885450145831867, 0.1509263202451023 \", \"type\": \"path\"}, {\"fillcolor\": \"#f2e6ce\", \"layer\": \"below\", \"line\": {\"color\": \"rgb(175,175,175)\", \"width\": 0.5}, \"path\": \"M 0.9822759962167948,0.18744030318024782 Q -0.1264435111168029, 0.15495818305741374 -0.3806766291523075, -0.9247082264245499L -0.3806766291523075, -0.9247082264245499 L -0.40011270083462996, -0.916465944064927 L -0.41937044384625544, -0.9078151964073936 M -0.41937044384625544,-0.9078151964073936 Q -0.12628030105594218, 0.15509121691836908 0.9739678763129654, 0.22668607348139436L 0.9739678763129654, 0.22668607348139436 L 0.9783187516470236, 0.20710485309574275 L 0.9822759962167948, 0.18744030318024782 \", \"type\": \"path\"}, {\"fillcolor\": \"#f2e6ce\", \"layer\": \"below\", \"line\": {\"color\": \"rgb(175,175,175)\", \"width\": 0.5}, \"path\": \"M 0.9998859469081189,0.015102753909612191 Q -0.1381691188708267, 0.14460046538811475 -0.0605466809546072, -0.9981653667731519L -0.0605466809546072, -0.9981653667731519 L -0.06237017458800767, -0.9980530854227452 L -0.06419346004622282, -0.9979374728344927 M -0.06419346004622282,-0.9979374728344927 Q -0.1382802666675996, 0.1444941792956988 0.9997940615847689, 0.020293703945592146L 0.9997940615847689, 0.020293703945592146 L 0.9998433730250443, 0.017698288558557745 L 0.9998859469081189, 0.015102753909612191 \", \"type\": \"path\"}, {\"fillcolor\": \"#f2e6ce\", \"layer\": \"below\", \"line\": {\"color\": \"rgb(175,175,175)\", \"width\": 0.5}, \"path\": \"M 0.9931297864276837,0.1170180640333081 Q -0.16519903447263234, 0.1127354381253297 0.25306564263973247, -0.9674491100390444L 0.25306564263973247, -0.9674491100390444 L 0.2353990253957866, -0.971898811010032 L 0.21765427704879925, -0.9760259298207014 M 0.21765427704879925,-0.9760259298207014 Q -0.165073865437927, 0.11291863862702729 0.9885450145831867, 0.1509263202451023L 0.9885450145831867, 0.1509263202451023 L 0.9909824401573417, 0.13399180310675962 L 0.9931297864276837, 0.1170180640333081 \", \"type\": \"path\"}, {\"fillcolor\": \"#f2e6ce\", \"layer\": \"below\", \"line\": {\"color\": \"rgb(175,175,175)\", \"width\": 0.5}, \"path\": \"M 0.9990368109671501,0.04387995365296975 Q -0.18692409025282591, 0.07112935036363963 0.7171403135021013, -0.6969288132586483L 0.7171403135021013, -0.6969288132586483 L 0.7109007661036258, -0.703292329514035 L 0.7046047544941217, -0.7095999858682908 M 0.7046047544941217,-0.7095999858682908 Q -0.18690284585849778, 0.07118515442137234 0.9981326759477839, 0.06108323178513274L 0.9981326759477839, 0.06108323178513274 L 0.9986217892979495, 0.052483539699239835 L 0.9990368109671501, 0.04387995365296975 \", \"type\": \"path\"}, {\"fillcolor\": \"#f2e6ce\", \"layer\": \"below\", \"line\": {\"color\": \"rgb(175,175,175)\", \"width\": 0.5}, \"path\": \"M 0.9996507261002942,0.02642774691786453 Q -0.19654097385865874, 0.037035734023913046 0.9214739700338286, -0.3884401144965525L 0.9214739700338286, -0.3884401144965525 L 0.920132670453477, -0.3916067782408178 L 0.918780488607726, -0.39476881051287266 M 0.918780488607726,-0.39476881051287266 Q -0.19655343680753945, 0.03696953447292236 0.9994226508103302, 0.03397594806996323L 0.9994226508103302, 0.03397594806996323 L 0.9995438136486914, 0.030202062787665764 L 0.9996507261002942, 0.02642774691786453 \", \"type\": \"path\"}, {\"fillcolor\": \"#f2e6ce\", \"layer\": \"below\", \"line\": {\"color\": \"rgb(175,175,175)\", \"width\": 0.5}, \"path\": \"M 0.9999972154490471,0.0023598928264171115 Q -0.19844144366676353, 0.024919739875261835 0.9683641337546735, -0.2495413882656762L 0.9683641337546735, -0.2495413882656762 L 0.9682091710049627, -0.2501419620573142 L 0.9680538357829251, -0.2507424396187558 M 0.9680538357829251,-0.2507424396187558 Q -0.1984436289805499, 0.024902331558106196 0.9999928715547213, 0.0037758230549919934L 0.9999928715547213, 0.0037758230549919934 L 0.9999952941103964, 0.003067858709539677 L 0.9999972154490471, 0.0023598928264171115 \", \"type\": \"path\"}, {\"fillcolor\": \"#f2e6ce\", \"layer\": \"below\", \"line\": {\"color\": \"rgb(175,175,175)\", \"width\": 0.5}, \"path\": \"M 0.9999993038620194,0.0011799472346146406 Q -0.19973090303775376, 0.010371420911495474 0.9944987763824562, -0.10474819222209716L 0.9944987763824562, -0.10474819222209716 L 0.9944498002223718, -0.10521214206394962 L 0.994400607622158, -0.10567606900657803 M 0.994400607622158,-0.10567606900657803 Q -0.1997321818265735, 0.010346764846877542 0.9999972154490471, 0.0023598928264171115L 0.9999972154490471, 0.0023598928264171115 L 0.9999984336897709, 0.0017699203385430956 L 0.9999993038620194, 0.0011799472346146406 \", \"type\": \"path\"}, {\"fillcolor\": \"#ecd5bb\", \"layer\": \"below\", \"line\": {\"color\": \"rgb(175,175,175)\", \"width\": 0.5}, \"path\": \"M 0.5569878950159335,0.8305206107049478 Q 0.0347484921646123, 0.1969582247388666 -0.23915672049366066, 0.9709809797533199L -0.23915672049366066, 0.9709809797533199 L -0.17327187661809726, 0.9848740309162604 L -0.10660144759279575, 0.994301831121275 M -0.10660144759279575,0.994301831121275 Q 0.034394181333452185, 0.19702040577158908 0.4371833239244869, 0.8993724152331654L 0.4371833239244869, 0.8993724152331654 L 0.4982762746600206, 0.8670183124426679 L 0.5569878950159335, 0.8305206107049478 \", \"type\": \"path\"}, {\"fillcolor\": \"#ecd5bb\", \"layer\": \"below\", \"line\": {\"color\": \"rgb(175,175,175)\", \"width\": 0.5}, \"path\": \"M 0.8046461301534307,0.5937546675430083 Q 0.026169232770223844, 0.1982805367559253 -0.6230487091393397, 0.782183038706288L -0.6230487091393397, 0.782183038706288 L -0.598917951140477, 0.8008103944141168 L -0.5742306355418135, 0.8186935795554067 M -0.5742306355418135,0.8186935795554067 Q 0.02590160820066815, 0.19831567434930375 0.765237217645277, 0.643748398623651L 0.765237217645277, 0.643748398623651 L 0.7853395919669148, 0.6190652027769286 L 0.8046461301534307, 0.5937546675430083 \", \"type\": \"path\"}, {\"fillcolor\": \"#ecd5bb\", \"layer\": \"below\", \"line\": {\"color\": \"rgb(175,175,175)\", \"width\": 0.5}, \"path\": \"M 0.9371815033268223,0.3488421273614719 Q 0.04457487288715003, 0.19496943531511401 -0.6924915297753537, 0.7214260053459332L -0.6924915297753537, 0.7214260053459332 L -0.6880293714441686, 0.7256828398344157 L -0.6835410463261212, 0.7299120755182719 M -0.6835410463261212,0.7299120755182719 Q 0.04421305425594474, 0.19505180294824473 0.9314640435561575, 0.3638333898393778L 0.9314640435561575, 0.3638333898393778 L 0.9343528399159859, 0.3563492255371575 L 0.9371815033268223, 0.3488421273614719 \", \"type\": \"path\"}, {\"fillcolor\": \"#ecd5bb\", \"layer\": \"below\", \"line\": {\"color\": \"rgb(175,175,175)\", \"width\": 0.5}, \"path\": \"M 0.9097335250382377,0.41519262207016905 Q 0.01610136122369564, 0.19935081180357425 -0.8313062625596327, 0.5558146254185249L -0.8313062625596327, 0.5558146254185249 L -0.8246252039874977, 0.5656794789883913 L -0.8178270883176916, 0.5754640332929649 M -0.8178270883176916,0.5754640332929649 Q 0.015709501618873883, 0.19938207431684174 0.8978587961020033, 0.44028352485899513L 0.8978587961020033, 0.44028352485899513 L 0.903883227088533, 0.4277792792878349 L 0.9097335250382377, 0.41519262207016905 \", \"type\": \"path\"}, {\"fillcolor\": \"#ecd5bb\", \"layer\": \"below\", \"line\": {\"color\": \"rgb(175,175,175)\", \"width\": 0.5}, \"path\": \"M 0.8846993220736487,0.46616210648488626 Q -0.018024218653649195, 0.19918616302827225 -0.9540087758910363, 0.2997786775654443L -0.9540087758910363, 0.2997786775654443 L -0.9477821541642685, 0.3189184664577121 L -0.9411715836719114, 0.3379290607339154 M -0.9411715836719114,0.3379290607339154 Q -0.01837770824181782, 0.19915385971599603 0.8634371366126378, 0.5044564511612168L 0.8634371366126378, 0.5044564511612168 L 0.8742779213474426, 0.48542570620476516 L 0.8846993220736487, 0.46616210648488626 \", \"type\": \"path\"}, {\"fillcolor\": \"#ecd5bb\", \"layer\": \"below\", \"line\": {\"color\": \"rgb(175,175,175)\", \"width\": 0.5}, \"path\": \"M 0.9470767826786616,0.3210071147358501 Q -0.009361327789451254, 0.19978079372657034 -0.9729445465691484, 0.23103876146948615L -0.9729445465691484, 0.23103876146948615 L -0.9719064173739771, 0.23536761856143384 L -0.9708490281854044, 0.23969181144014062 M -0.9708490281854044,0.23969181144014062 Q -0.009845709274042137, 0.19975750801632225 0.9425726748309797, 0.3340011267375789L 0.9425726748309797, 0.3340011267375789 L 0.9448470665423032, 0.32751186367275975 L 0.9470767826786616, 0.3210071147358501 \", \"type\": \"path\"}, {\"fillcolor\": \"#ecd5bb\", \"layer\": \"below\", \"line\": {\"color\": \"rgb(175,175,175)\", \"width\": 0.5}, \"path\": \"M 0.9425726748309797,0.3340011267375789 Q -0.025686037924325264, 0.19834371040128831 -0.9965596731836655, 0.08287833120946558L -0.9965596731836655, 0.08287833120946558 L -0.9960187633421063, 0.08914383360873251 L -0.9954384618511168, 0.095405810449273 M -0.9954384618511168,0.095405810449273 Q -0.026004584200967712, 0.19830219766945292 0.9371815033268223, 0.3488421273614719L 0.9371815033268223, 0.3488421273614719 L 0.9399063817212372, 0.34143226795323844 L 0.9425726748309797, 0.3340011267375789 \", \"type\": \"path\"}, {\"fillcolor\": \"#ecd5bb\", \"layer\": \"below\", \"line\": {\"color\": \"rgb(175,175,175)\", \"width\": 0.5}, \"path\": \"M 0.925023777048842,0.3799092153321557 Q -0.040407295275148455, 0.1958755995231335 -0.9998525044624069, -0.01717467089211526L -0.9998525044624069, -0.01717467089211526 L -0.9999574199905799, -0.009228120381918456 L -0.9999991795357703, -0.0012809870358911444 M -0.9999991795357703,-0.0012809870358911444 Q -0.04069632858966668, 0.1958157522757602 0.9177000975883661, 0.3972738739035116L 0.9177000975883661, 0.3972738739035116 L 0.9214028447868589, 0.3886087976599137 L 0.925023777048842, 0.3799092153321557 \", \"type\": \"path\"}, {\"fillcolor\": \"#ecd5bb\", \"layer\": \"below\", \"line\": {\"color\": \"rgb(175,175,175)\", \"width\": 0.5}, \"path\": \"M 0.9177000975883661,0.3972738739035116 Q -0.06103391338193914, 0.19045960573645518 -0.9776775051598583, -0.21011115130900399L -0.9776775051598583, -0.21011115130900399 L -0.9793986179411897, -0.2019364929250967 L -0.9810513811678109, -0.19374774194485653 M -0.9810513811678109,-0.19374774194485653 Q -0.06131024413013461, 0.19037083275728794 0.9097335250382377, 0.41519262207016905L 0.9097335250382377, 0.41519262207016905 L 0.9137607354556844, 0.4062527764083426 L 0.9177000975883661, 0.3972738739035116 \", \"type\": \"path\"}, {\"fillcolor\": \"#ecd5bb\", \"layer\": \"below\", \"line\": {\"color\": \"rgb(175,175,175)\", \"width\": 0.5}, \"path\": \"M 0.8978587961020033,0.44028352485899513 Q -0.08513280008421445, 0.18097625907787238 -0.9116657692796083, -0.4109325067743121L -0.9116657692796083, -0.4109325067743121 L -0.9166979977624904, -0.3995807564163233 L -0.9215888846515172, -0.3881673964757634 M -0.9215888846515172,-0.3881673964757634 Q -0.08551255694084804, 0.1807971310763482 0.8846993220736487, 0.46616210648488626L 0.8846993220736487, 0.46616210648488626 L 0.8913729782841874, 0.4532705743645595 L 0.8978587961020033, 0.44028352485899513 \", \"type\": \"path\"}, {\"fillcolor\": \"#ecd5bb\", \"layer\": \"below\", \"line\": {\"color\": \"rgb(175,175,175)\", \"width\": 0.5}, \"path\": \"M 0.7106503335346519,0.7035453812278836 Q -0.1485870833601851, 0.13387262101906203 -0.6258962897293974, -0.7799062985403915L -0.6258962897293974, -0.7799062985403915 L -0.6611546252350904, -0.75024966613138 L -0.6950095502517812, -0.7190005042131867 M -0.6950095502517812,-0.7190005042131867 Q -0.14884522394343588, 0.13358555052560295 0.639931057331499, 0.7684323274450325L 0.639931057331499, 0.7684323274450325 L 0.6760695986995965, 0.7368377689248607 L 0.7106503335346519, 0.7035453812278836 \", \"type\": \"path\"}, {\"fillcolor\": \"#ecd5bb\", \"layer\": \"below\", \"line\": {\"color\": \"rgb(175,175,175)\", \"width\": 0.5}, \"path\": \"M 0.639931057331499,0.7684323274450325 Q -0.1839187955306126, 0.07857402020113723 -0.11285168024223727, -0.9936118448702712L -0.11285168024223727, -0.9936118448702712 L -0.16290768266863595, -0.9866413162479741 L -0.21254758765253712, -0.9771507166159614 M -0.21254758765253712,-0.9771507166159614 Q -0.1840194216096423, 0.0783380652713144 0.5569878950159335, 0.8305206107049478L 0.5569878950159335, 0.8305206107049478 L 0.5992641181913528, 0.80055138289078 L 0.639931057331499, 0.7684323274450325 \", \"type\": \"path\"}, {\"fillcolor\": \"#ecd5bb\", \"layer\": \"below\", \"line\": {\"color\": \"rgb(175,175,175)\", \"width\": 0.5}, \"path\": \"M 0.953726837772754,0.300674440070956 Q -0.15858715202167817, 0.12186104879596736 -0.04495648129457773, -0.9989889462799928L -0.04495648129457773, -0.9989889462799928 L -0.04794280375951128, -0.9988500826288582 L -0.05092869774019184, -0.9987022918500228 M -0.05092869774019184,-0.9987022918500228 Q -0.15878127643132753, 0.12160800242927419 0.9509300858879128, 0.30940583665019417L 0.9509300858879128, 0.30940583665019417 L 0.9523384684730974, 0.30504334358630925 L 0.953726837772754, 0.300674440070956 \", \"type\": \"path\"}, {\"fillcolor\": \"#ecd5bb\", \"layer\": \"below\", \"line\": {\"color\": \"rgb(175,175,175)\", \"width\": 0.5}, \"path\": \"M 0.4371833239244869,0.8993724152331654 Q -0.1987632049441922, -0.022207844567022864 0.6248987326672854, -0.7807058177769785L 0.6248987326672854, -0.7807058177769785 L 0.5683627441159965, -0.8227780934741361 L 0.509004042024363, -0.8607641286687431 M 0.509004042024363,-0.8607641286687431 Q -0.19874201928220717, -0.022396646437152064 0.3046682554762168, 0.9524585314359248L 0.3046682554762168, 0.9524585314359248 L 0.3718742736439331, 0.9282831058474549 L 0.4371833239244869, 0.8993724152331654 \", \"type\": \"path\"}, {\"fillcolor\": \"#ecd5bb\", \"layer\": \"below\", \"line\": {\"color\": \"rgb(175,175,175)\", \"width\": 0.5}, \"path\": \"M 0.765237217645277,0.643748398623651 Q -0.19854605777591325, -0.0240720365080257 0.8969026979368081, -0.4422279394539367L 0.8969026979368081, -0.4422279394539367 L 0.8790626162386898, -0.47670632126246243 L 0.8598977631556413, -0.51046629361783 M 0.8598977631556413,-0.51046629361783 Q -0.19850555837757283, -0.024403755719315603 0.7106503335346519, 0.7035453812278836L 0.7106503335346519, 0.7035453812278836 L 0.7385492100829263, 0.6741995730389374 L 0.765237217645277, 0.643748398623651 \", \"type\": \"path\"}, {\"fillcolor\": \"#ecd5bb\", \"layer\": \"below\", \"line\": {\"color\": \"rgb(175,175,175)\", \"width\": 0.5}, \"path\": \"M 0.8377479193943368,0.5460571614313466 Q -0.19788177152329367, -0.029031095377250474 0.9592924335644858, -0.28241463649380255L 0.9592924335644858, -0.28241463649380255 L 0.9520851520391348, -0.30583306437763996 L 0.9443062693679498, -0.32906787997673825 M 0.9443062693679498,-0.32906787997673825 Q -0.1977482224952333, -0.029927253465289894 0.8046461301534307, 0.5937546675430083L 0.8046461301534307, 0.5937546675430083 L 0.8215432529817263, 0.5701461948309428 L 0.8377479193943368, 0.5460571614313466 \", \"type\": \"path\"}, {\"fillcolor\": \"#ecd5bb\", \"layer\": \"below\", \"line\": {\"color\": \"rgb(175,175,175)\", \"width\": 0.5}, \"path\": \"M 0.9314640435561575,0.3638333898393778 Q -0.19901953968155542, -0.019779353501613597 0.9848546474628369, -0.17338201570766004L 0.9848546474628369, -0.17338201570766004 L 0.9836115486933523, -0.18030064136620533 L 0.9823198470455414, -0.1872103578876558 M 0.9823198470455414,-0.1872103578876558 Q -0.19898704256062802, -0.0201036537220184 0.925023777048842, 0.3799092153321557L 0.925023777048842, 0.3799092153321557 L 0.9282787108702827, 0.3718852443227698 L 0.9314640435561575, 0.3638333898393778 \", \"type\": \"path\"}, {\"fillcolor\": \"#ecd5bb\", \"layer\": \"below\", \"line\": {\"color\": \"rgb(175,175,175)\", \"width\": 0.5}, \"path\": \"M 0.9509300858879128,0.30940583665019417 Q -0.19820908718073638, -0.02670501374235287 0.998908911020888, -0.04670104370422384L 0.998908911020888, -0.04670104370422384 L 0.9986897350672457, -0.05117433996950759 L 0.9984505269778688, -0.05564660975851109 M 0.9984505269778688,-0.05564660975851109 Q -0.19816519726720058, -0.02702877341004377 0.9470767826786616, 0.3210071147358501L 0.9470767826786616, 0.3210071147358501 L 0.9490211618793222, 0.3152123638203638 L 0.9509300858879128, 0.30940583665019417 \", \"type\": \"path\"}, {\"fillcolor\": \"#e6c4a9\", \"layer\": \"below\", \"line\": {\"color\": \"rgb(175,175,175)\", \"width\": 0.5}, \"path\": \"M -0.04477611221763142,0.9989970469299067 Q -0.06447314899390227, 0.18932303890126548 -0.5742306355418135, 0.8186935795554067L -0.5742306355418135, 0.8186935795554067 L -0.54900970357109, 0.8358159757893981 L -0.5232785923307273, 0.8521616717550564 M -0.5232785923307273,0.8521616717550564 Q -0.06457187387699949, 0.1892893898347524 -0.10660144759279575, 0.994301831121275L -0.10660144759279575, 0.994301831121275 L -0.07572517854988714, 0.9971287265612138 L -0.04477611221763142, 0.9989970469299067 \", \"type\": \"path\"}, {\"fillcolor\": \"#e6c4a9\", \"layer\": \"below\", \"line\": {\"color\": \"rgb(175,175,175)\", \"width\": 0.5}, \"path\": \"M 0.22512879304311564,0.9743290134974685 Q -0.05195011391047462, 0.19313514870341109 -0.6835410463261212, 0.7299120755182719L -0.6835410463261212, 0.7299120755182719 L -0.680390914662222, 0.7328493728216631 L -0.6772281610358828, 0.7357730750033983 M -0.6772281610358828,0.7357730750033983 Q -0.05217219935145482, 0.19307527447819947 0.21448143636839317, 0.9767280652532468L 0.21448143636839317, 0.9767280652532468 L 0.21980838772244687, 0.9755430655213836 L 0.22512879304311564, 0.9743290134974685 \", \"type\": \"path\"}, {\"fillcolor\": \"#e6c4a9\", \"layer\": \"below\", \"line\": {\"color\": \"rgb(175,175,175)\", \"width\": 0.5}, \"path\": \"M 0.19870600637041214,0.9800591426196287 Q -0.07057627937114727, 0.18713361213348545 -0.7964097299067887, 0.604757424187414L -0.7964097299067887, 0.604757424187414 L -0.7917591810830248, 0.6108333644871881 L -0.7870622789912497, 0.6168735437584435 M -0.7870622789912497,0.6168735437584435 Q -0.07076906349792149, 0.18706079132631498 0.18165943089209052, 0.9833615058400251L 0.18165943089209052, 0.9833615058400251 L 0.19018988634173892, 0.981747323466337 L 0.19870600637041214, 0.9800591426196287 \", \"type\": \"path\"}, {\"fillcolor\": \"#e6c4a9\", \"layer\": \"below\", \"line\": {\"color\": \"rgb(175,175,175)\", \"width\": 0.5}, \"path\": \"M 0.11716596300587404,0.9931123486861424 Q -0.09942281303468202, 0.17353703998936557 -0.9159925119732474, 0.4011953614000793L -0.9159925119732474, 0.4011953614000793 L -0.9104139149601693, 0.41369856592318227 L -0.9046646600685101, 0.4261242222910206 M -0.9046646600685101,0.4261242222910206 Q -0.09956503409447064, 0.1734554812791078 0.08829833904483289, 0.996094073530168L 0.08829833904483289, 0.996094073530168 L 0.10274296825115296, 0.994707938278841 L 0.11716596300587404, 0.9931123486861424 \", \"type\": \"path\"}, {\"fillcolor\": \"#e6c4a9\", \"layer\": \"below\", \"line\": {\"color\": \"rgb(175,175,175)\", \"width\": 0.5}, \"path\": \"M 0.24249331485346892,0.9701530767107717 Q -0.10268753224135561, 0.1716253790154025 -0.969530538669776, 0.24497047696956037L -0.969530538669776, 0.24497047696956037 L -0.9688605286598391, 0.24760710006980252 L -0.968183348408839, 0.2502418907054706 M -0.968183348408839,0.2502418907054706 Q -0.10292298359396107, 0.17148428338514649 0.23454384325028466, 0.972105542414704L 0.23454384325028466, 0.972105542414704 L 0.23852057685555686, 0.9711374436280852 L 0.24249331485346892, 0.9701530767107717 \", \"type\": \"path\"}, {\"fillcolor\": \"#e6c4a9\", \"layer\": \"below\", \"line\": {\"color\": \"rgb(175,175,175)\", \"width\": 0.5}, \"path\": \"M 0.2578636838226611,0.966181308329553 Q -0.10860728124451198, 0.16794183058629403 -0.9869247264438735, 0.1611818362399605L -0.9869247264438735, 0.1611818362399605 L -0.9863963577843001, 0.16438438292571186 L -0.9858575969668948, 0.1675851977432963 M -0.9858575969668948,0.1675851977432963 Q -0.10872867639833408, 0.16786326259389323 0.2501863810583316, 0.9681976940340931L 0.2501863810583316, 0.9681976940340931 L 0.2540270331268359, 0.9671971187099233 L 0.2578636838226611, 0.966181308329553 \", \"type\": \"path\"}, {\"fillcolor\": \"#e6c4a9\", \"layer\": \"below\", \"line\": {\"color\": \"rgb(175,175,175)\", \"width\": 0.5}, \"path\": \"M 0.2501863810583316,0.9681976940340931 Q -0.12061639965505766, 0.15953583965445323 -0.9997307719548263, 0.02320309476356688L -0.9997307719548263, 0.02320309476356688 L -0.9996451273852435, 0.026638680427908897 L -0.9995476764230642, 0.030073951473881644 M -0.9995476764230642,0.030073951473881644 Q -0.12070128698890098, 0.1594716254360724 0.24249331485346892, 0.9701530767107717L 0.24249331485346892, 0.9701530767107717 L 0.24634178811417506, 0.9691830185412407 L 0.2501863810583316, 0.9681976940340931 \", \"type\": \"path\"}, {\"fillcolor\": \"#e6c4a9\", \"layer\": \"below\", \"line\": {\"color\": \"rgb(175,175,175)\", \"width\": 0.5}, \"path\": \"M 0.23454384325028466,0.972105542414704 Q -0.13675232666025527, 0.14594108795334793 -0.9852848803157962, -0.17092017031669235L -0.9852848803157962, -0.17092017031669235 L -0.9859992552914544, -0.16674971833468674 L -0.9866959779211237, -0.1625762810322503 M -0.9866959779211237,-0.1625762810322503 Q -0.13684071856771002, 0.14585821108827843 0.22512879304311564, 0.9743290134974685L 0.22512879304311564, 0.9743290134974685 L 0.22983900690514902, 0.9732286632158215 L 0.23454384325028466, 0.972105542414704 \", \"type\": \"path\"}, {\"fillcolor\": \"#e6c4a9\", \"layer\": \"below\", \"line\": {\"color\": \"rgb(175,175,175)\", \"width\": 0.5}, \"path\": \"M 0.21448143636839317,0.9767280652532468 Q -0.1514797558010538, 0.13059051873108213 -0.9344785692391813, -0.35601938659670296L -0.9344785692391813, -0.35601938659670296 L -0.9369757438777878, -0.34939441235467134 L -0.9394259515157651, -0.3427519243107167 M -0.9394259515157651,-0.3427519243107167 Q -0.15160788752335855, 0.13044174347464338 0.19870600637041214, 0.9800591426196287L 0.19870600637041214, 0.9800591426196287 L 0.20660043496654026, 0.9784253984191316 L 0.21448143636839317, 0.9767280652532468 \", \"type\": \"path\"}, {\"fillcolor\": \"#e6c4a9\", \"layer\": \"below\", \"line\": {\"color\": \"rgb(175,175,175)\", \"width\": 0.5}, \"path\": \"M 0.16406872325943544,0.9864489110177064 Q -0.16778183011177625, 0.10885429474459452 -0.8339498429707505, -0.551840248087307L -0.8339498429707505, -0.551840248087307 L -0.8389731295900215, -0.5441728473802465 L -0.8439259236381199, -0.5364597239416452 M -0.8439259236381199,-0.5364597239416452 Q -0.1677965878316989, 0.10883154465520994 0.14568950415267073, 0.9893303636196298L 0.14568950415267073, 0.9893303636196298 L 0.1548858145688196, 0.9879323784780785 L 0.16406872325943544, 0.9864489110177064 \", \"type\": \"path\"}, {\"fillcolor\": \"#e6c4a9\", \"layer\": \"below\", \"line\": {\"color\": \"rgb(175,175,175)\", \"width\": 0.5}, \"path\": \"M 0.08829833904483289,0.996094073530168 Q -0.193248007667138, 0.05152870590924801 -0.41937044384625544, -0.9078151964073936L -0.41937044384625544, -0.9078151964073936 L -0.435313413200915, -0.9002789747002701 L -0.4511210118769426, -0.8924627906210564 M -0.4511210118769426,-0.8924627906210564 Q -0.19324682888587882, 0.05153312648725941 0.05316484970457265, 0.9985857493254598L 0.05316484970457265, 0.9985857493254598 L 0.07074256536806331, 0.9974946062235852 L 0.08829833904483289, 0.996094073530168 \", \"type\": \"path\"}, {\"fillcolor\": \"#e6c4a9\", \"layer\": \"below\", \"line\": {\"color\": \"rgb(175,175,175)\", \"width\": 0.5}, \"path\": \"M 0.27054324521701256,0.9627078230010637 Q -0.19728001077668744, 0.03287244055360182 -0.056235812747739894, -0.9984175145522043L -0.056235812747739894, -0.9984175145522043 L -0.058391382955538536, -0.9982937675837407 L -0.0605466809546072, -0.9981653667731519 M -0.0605466809546072,-0.9981653667731519 Q -0.19731492671800818, 0.03266220590020012 0.26432879003379045, 0.9644326263452893L 0.26432879003379045, 0.9644326263452893 L 0.26743740811632555, 0.9635752346028938 L 0.27054324521701256, 0.9627078230010637 \", \"type\": \"path\"}, {\"fillcolor\": \"#e6c4a9\", \"layer\": \"below\", \"line\": {\"color\": \"rgb(175,175,175)\", \"width\": 0.5}, \"path\": \"M 0.015733244197045138,0.9998762248533746 Q -0.1970763874482726, -0.034071946089684155 0.3505172563110134, -0.9365562732843122L 0.3505172563110134, -0.9365562732843122 L 0.3216445207610345, -0.946860497784338 L 0.2924694998626539, -0.9562748515202567 M 0.2924694998626539,-0.9562748515202567 Q -0.1970898325929568, -0.03399408608096808 -0.04477611221763142, 0.9989970469299067L -0.04477611221763142, 0.9989970469299067 L -0.014528086046364588, 0.9998944617887577 L 0.015733244197045138, 0.9998762248533746 \", \"type\": \"path\"}, {\"fillcolor\": \"#e6c4a9\", \"layer\": \"below\", \"line\": {\"color\": \"rgb(175,175,175)\", \"width\": 0.5}, \"path\": \"M 0.05316484970457265,0.9985857493254598 Q -0.1763780429451024, -0.09429096439667813 0.8598977631556413, -0.51046629361783L 0.8598977631556413, -0.51046629361783 L 0.8503418587214601, -0.5262306749954173 L 0.8404969817377702, -0.5418162268608225 M 0.8404969817377702,-0.5418162268608225 Q -0.17635038461758223, -0.0943426830508377 0.015733244197045138, 0.9998762248533746L 0.015733244197045138, 0.9998762248533746 L 0.0344550891392124, 0.999406247144978 L 0.05316484970457265, 0.9985857493254598 \", \"type\": \"path\"}, {\"fillcolor\": \"#e6c4a9\", \"layer\": \"below\", \"line\": {\"color\": \"rgb(175,175,175)\", \"width\": 0.5}, \"path\": \"M 0.18165943089209052,0.9833615058400251 Q -0.17292396163971757, -0.10048533968109724 0.9443062693679498, -0.32906787997673825L 0.9443062693679498, -0.32906787997673825 L 0.9417317660121279, -0.33636480327715435 L 0.9391008782022566, -0.34364158735483447 M 0.9391008782022566,-0.34364158735483447 Q -0.17280404808481956, -0.10069141455704836 0.16406872325943544, 0.9864489110177064L 0.16406872325943544, 0.9864489110177064 L 0.1728709696881986, 0.9849444795718497 L 0.18165943089209052, 0.9833615058400251 \", \"type\": \"path\"}, {\"fillcolor\": \"#e6c4a9\", \"layer\": \"below\", \"line\": {\"color\": \"rgb(175,175,175)\", \"width\": 0.5}, \"path\": \"M 0.2746004746208199,0.9615584118180344 Q -0.1730581384783027, -0.1002540807469931 0.970743209739482, -0.2401200132114938L 0.970743209739482, -0.2401200132114938 L 0.9703197343057499, -0.24182558428921205 L 0.9698932622295613, -0.24353040853597618 M 0.9698932622295613,-0.24353040853597618 Q -0.17302292912293038, -0.10031483438515665 0.27054324521701256, 0.9627078230010637L 0.27054324521701256, 0.9627078230010637 L 0.27257246578877736, 0.962135256028915 L 0.2746004746208199, 0.9615584118180344 \", \"type\": \"path\"}, {\"fillcolor\": \"#e6c4a9\", \"layer\": \"below\", \"line\": {\"color\": \"rgb(175,175,175)\", \"width\": 0.5}, \"path\": \"M 0.26432879003379045,0.9644326263452893 Q -0.16411144034675926, -0.1143128826830646 0.996264126676301, -0.08635849638516838L 0.996264126676301, -0.08635849638516838 L 0.9960434068332478, -0.08886805783867073 L 0.9958163654852337, -0.09137705528074082 M 0.9958163654852337,-0.09137705528074082 Q -0.16401656497057632, -0.1144489686072038 0.2578636838226611, 0.966181308329553L 0.2578636838226611, 0.966181308329553 L 0.2610977008903962, 0.9653123797972081 L 0.26432879003379045, 0.9644326263452893 \", \"type\": \"path\"}, {\"fillcolor\": \"#e1b396\", \"layer\": \"below\", \"line\": {\"color\": \"rgb(175,175,175)\", \"width\": 0.5}, \"path\": \"M -0.34722782726521423,0.9377808037983495 Q -0.1073744311272798, 0.16873272219724617 -0.702452254105756, 0.7117308695720191L -0.702452254105756, 0.7117308695720191 L -0.6974887375159224, 0.7165957445020481 L -0.6924915297753537, 0.7214260053459332 M -0.6924915297753537,0.7214260053459332 Q -0.10766241824827426, 0.1685491136047107 -0.36341316266947954, 0.9316280766478469L -0.36341316266947954, 0.9316280766478469 L -0.3553338122902007, 0.9347394727106118 L -0.34722782726521423, 0.9377808037983495 \", \"type\": \"path\"}, {\"fillcolor\": \"#e1b396\", \"layer\": \"below\", \"line\": {\"color\": \"rgb(175,175,175)\", \"width\": 0.5}, \"path\": \"M -0.36341316266947954,0.9316280766478469 Q -0.12190889492516872, 0.15855037476500702 -0.8069931624427259, 0.5905607807590072L -0.8069931624427259, 0.5905607807590072 L -0.8017328700819593, 0.5976825286304965 L -0.7964097299067887, 0.604757424187414 M -0.7964097299067887,0.604757424187414 Q -0.12207108293421057, 0.15842553680284344 -0.38174478684978796, 0.92426777381504L -0.38174478684978796, 0.92426777381504 L -0.37259714967695007, 0.9279931918137182 L -0.36341316266947954, 0.9316280766478469 \", \"type\": \"path\"}, {\"fillcolor\": \"#e1b396\", \"layer\": \"below\", \"line\": {\"color\": \"rgb(175,175,175)\", \"width\": 0.5}, \"path\": \"M -0.4545974425979596,0.890697010875974 Q -0.150124068070333, 0.13214675246109542 -0.9411715836719114, 0.3379290607339154L -0.9411715836719114, 0.3379290607339154 L -0.934679859202147, 0.3554905917205892 L -0.9278604828412234, 0.3729275055311044 M -0.9278604828412234,0.3729275055311044 Q -0.15022805277069726, 0.13202852782911959 -0.48899844454904917, 0.872284656077711L -0.48899844454904917, 0.872284656077711 L -0.47188775494018886, 0.8816586339040231 L -0.4545974425979596, 0.890697010875974 \", \"type\": \"path\"}, {\"fillcolor\": \"#e1b396\", \"layer\": \"below\", \"line\": {\"color\": \"rgb(175,175,175)\", \"width\": 0.5}, \"path\": \"M -0.2716510050222098,0.9623958288928851 Q -0.14203226827230822, 0.14080779370980523 -0.9647117804241103, 0.263308147824831L -0.9647117804241103, 0.263308147824831 L -0.9644943891772316, 0.26410333819480364 L -0.9642763424728144, 0.26489834908366583 M -0.9642763424728144,0.26489834908366583 Q -0.14208788121651517, 0.1407516749861311 -0.27399729665087946, 0.9617304619424353L -0.27399729665087946, 0.9617304619424353 L -0.27282435367462404, 0.9620638606880645 L -0.2716510050222098, 0.9623958288928851 \", \"type\": \"path\"}, {\"fillcolor\": \"#e1b396\", \"layer\": \"below\", \"line\": {\"color\": \"rgb(175,175,175)\", \"width\": 0.5}, \"path\": \"M -0.2987650557518577,0.954326695352063 Q -0.1545464325521977, 0.1269464461313865 -0.994181649658465, 0.10771651443661336L -0.994181649658465, 0.10771651443661336 L -0.9936910076106371, 0.11215249169660343 L -0.9931805726053854, 0.11658623503329531 M -0.9931805726053854,0.11658623503329531 Q -0.15466092007237786, 0.1268069390939059 -0.30898831805778665, 0.9510658333174523L -0.30898831805778665, 0.9510658333174523 L -0.3038810608602542, 0.9527099773018264 L -0.2987650557518577, 0.954326695352063 \", \"type\": \"path\"}, {\"fillcolor\": \"#e1b396\", \"layer\": \"below\", \"line\": {\"color\": \"rgb(175,175,175)\", \"width\": 0.5}, \"path\": \"M -0.28406760571513173,0.9588042529021616 Q -0.15843636468089595, 0.12205702907535541 -0.9995476764230642, 0.030073951473881644L -0.9995476764230642, 0.030073951473881644 L -0.9994527228011068, 0.033079523658209015 L -0.9993487316475472, 0.036084796721593426 M -0.9993487316475472,0.036084796721593426 Q -0.15848606084680192, 0.12199249369229159 -0.29060829110982594, 0.9568421087819174L -0.29060829110982594, 0.9568421087819174 L -0.28733962326884116, 0.9578287638715599 L -0.28406760571513173, 0.9588042529021616 \", \"type\": \"path\"}, {\"fillcolor\": \"#e1b396\", \"layer\": \"below\", \"line\": {\"color\": \"rgb(175,175,175)\", \"width\": 0.5}, \"path\": \"M -0.27821650541597304,0.9605183892639036 Q -0.16810513922908402, 0.10835433616044299 -0.9896825232304424, -0.14327771359225758L -0.9896825232304424, -0.14327771359225758 L -0.9900674953748386, -0.14059286824798028 L -0.9904451839906045, -0.13790698861847955 M -0.9904451839906045,-0.13790698861847955 Q -0.16814155936000014, 0.10829781168605189 -0.28406760571513173, 0.9588042529021616L -0.28406760571513173, 0.9588042529021616 L -0.2811433619587892, 0.9596657803769546 L -0.27821650541597304, 0.9605183892639036 \", \"type\": \"path\"}, {\"fillcolor\": \"#e1b396\", \"layer\": \"below\", \"line\": {\"color\": \"rgb(175,175,175)\", \"width\": 0.5}, \"path\": \"M -0.31940711642442204,0.9476175884698614 Q -0.1802696361690812, 0.08661904106757987 -0.9394259515157651, -0.3427519243107167L -0.9394259515157651, -0.3427519243107167 L -0.941609219056678, -0.3367077049719429 L -0.9437535988481635, -0.3306495798593123 M -0.9437535988481635,-0.3306495798593123 Q -0.18033610931359417, 0.086480562426683 -0.33300883781403257, 0.9429237052581441L -0.33300883781403257, 0.9429237052581441 L -0.3262164196834974, 0.9452951113429501 L -0.31940711642442204, 0.9476175884698614 \", \"type\": \"path\"}, {\"fillcolor\": \"#e1b396\", \"layer\": \"below\", \"line\": {\"color\": \"rgb(175,175,175)\", \"width\": 0.5}, \"path\": \"M -0.33300883781403257,0.9429237052581441 Q -0.18848637245253927, 0.06687964862110637 -0.8528534941287318, -0.522150282535989L -0.8528534941287318, -0.522150282535989 L -0.8567855982151764, -0.5156728019694875 L -0.8606685063605393, -0.5091657118847639 M -0.8606685063605393,-0.5091657118847639 Q -0.1884852188378187, 0.0668828997551661 -0.34722782726521423, 0.9377808037983495L -0.34722782726521423, 0.9377808037983495 L -0.34012805307470617, 0.9403791296661203 L -0.33300883781403257, 0.9429237052581441 \", \"type\": \"path\"}, {\"fillcolor\": \"#e1b396\", \"layer\": \"below\", \"line\": {\"color\": \"rgb(175,175,175)\", \"width\": 0.5}, \"path\": \"M -0.38174478684978796,0.92426777381504 Q -0.19971576770254268, 0.010658899145034203 -0.4779530065153341, -0.8783854071892093L -0.4779530065153341, -0.8783854071892093 L -0.4886076426757142, -0.872503622639403 L -0.49918990790342416, -0.866492605766126 M -0.49918990790342416,-0.866492605766126 Q -0.19971341557170308, 0.010702880018211512 -0.40372398151131816, 0.9148808374606219L -0.40372398151131816, 0.9148808374606219 L -0.39276242839814585, 0.9196399702268228 L -0.38174478684978796, 0.92426777381504 \", \"type\": \"path\"}, {\"fillcolor\": \"#e1b396\", \"layer\": \"below\", \"line\": {\"color\": \"rgb(175,175,175)\", \"width\": 0.5}, \"path\": \"M -0.27399729665087946,0.9617304619424353 Q -0.19890212105354493, -0.020927165130541672 -0.06783938209522929, -0.997696255499106L -0.06783938209522929, -0.997696255499106 L -0.0693306373745532, -0.9975937363081417 L -0.07082173774479378, -0.9974889881411261 M -0.07082173774479378,-0.9974889881411261 Q -0.19888742004363366, -0.02106642229680282 -0.27821650541597304, 0.9605183892639036L -0.27821650541597304, 0.9605183892639036 L -0.27610756613741444, 0.9611267408212474 L -0.27399729665087946, 0.9617304619424353 \", \"type\": \"path\"}, {\"fillcolor\": \"#e1b396\", \"layer\": \"below\", \"line\": {\"color\": \"rgb(175,175,175)\", \"width\": 0.5}, \"path\": \"M -0.48899844454904917,0.872284656077711 Q -0.18390903998788288, -0.07859685115025472 0.2924694998626539, -0.9562748515202567L 0.2924694998626539, -0.9562748515202567 L 0.2728247861533771, -0.962063738044608 L 0.25306564263973247, -0.9674491100390444 M 0.25306564263973247,-0.9674491100390444 Q -0.18395647407476715, -0.07848576715545005 -0.5232785923307273, 0.8521616717550564L -0.5232785923307273, 0.8521616717550564 L -0.5062385144109817, 0.8623935102532732 L -0.48899844454904917, 0.872284656077711 \", \"type\": \"path\"}, {\"fillcolor\": \"#e1b396\", \"layer\": \"below\", \"line\": {\"color\": \"rgb(175,175,175)\", \"width\": 0.5}, \"path\": \"M -0.40372398151131816,0.9148808374606219 Q -0.1602306557609593, -0.11969184163681734 0.7627593333419971, -0.646682456387733L 0.7627593333419971, -0.646682456387733 L 0.7540865095178542, -0.6567751031846284 L 0.7452801525127494, -0.6667514486452751 M 0.7452801525127494,-0.6667514486452751 Q -0.16023253427348408, -0.1196893268436946 -0.4278987949764746, 0.9038266544297534L -0.4278987949764746, 0.9038266544297534 L -0.4158481205126895, 0.9094340771414186 L -0.40372398151131816, 0.9148808374606219 \", \"type\": \"path\"}, {\"fillcolor\": \"#e1b396\", \"layer\": \"below\", \"line\": {\"color\": \"rgb(175,175,175)\", \"width\": 0.5}, \"path\": \"M -0.29060829110982594,0.9568421087819174 Q -0.14808125230757377, -0.13443192595146689 0.9243700467078402, -0.3814970730547555L 0.9243700467078402, -0.3814970730547555 L 0.9229285373155225, -0.3849713171245752 L 0.9214739700338286, -0.3884401144965525 M 0.9214739700338286,-0.3884401144965525 Q -0.14801314460402692, -0.1345069106939395 -0.2987650557518577, 0.954326695352063L -0.2987650557518577, 0.954326695352063 L -0.2946893573305905, 0.9555931051844627 L -0.29060829110982594, 0.9568421087819174 \", \"type\": \"path\"}, {\"fillcolor\": \"#e1b396\", \"layer\": \"below\", \"line\": {\"color\": \"rgb(175,175,175)\", \"width\": 0.5}, \"path\": \"M -0.30898831805778665,0.9510658333174523 Q -0.13321043812497815, -0.14918102819913587 0.9798394791592611, -0.19978637361168566L 0.9798394791592611, -0.19978637361168566 L 0.9788995089934904, -0.2043422405972476 L 0.9779383559632148, -0.2088936857254538 M 0.9779383559632148,-0.2088936857254538 Q -0.1330857513330924, -0.14929227304889658 -0.31940711642442204, 0.9476175884698614L -0.31940711642442204, 0.9476175884698614 L -0.3142024476633708, 0.9493560037637866 L -0.30898831805778665, 0.9510658333174523 \", \"type\": \"path\"}, {\"fillcolor\": \"#e1b396\", \"layer\": \"below\", \"line\": {\"color\": \"rgb(175,175,175)\", \"width\": 0.5}, \"path\": \"M -0.26953796071344394,0.9629897651244472 Q -0.12881687558858582, -0.15299089045951333 0.9948260734548814, -0.10159273386587717L 0.9948260734548814, -0.10159273386587717 L 0.9947404102095, -0.1024281030588559 L 0.9946540454931952, -0.10326340002159809 M 0.9946540454931952,-0.10326340002159809 Q -0.12877744323835985, -0.15302408344110743 -0.2716510050222098, 0.9623958288928851L -0.2716510050222098, 0.9623958288928851 L -0.2705946458239121, 0.9626933767568112 L -0.26953796071344394, 0.9629897651244472 \", \"type\": \"path\"}, {\"fillcolor\": \"#dba284\", \"layer\": \"below\", \"line\": {\"color\": \"rgb(175,175,175)\", \"width\": 0.5}, \"path\": \"M -0.702452254105756,0.7117308695720191 Q -0.15263741119623894, 0.12923552415381104 -0.8178270883176916, 0.5754640332929649L -0.8178270883176916, 0.5754640332929649 L -0.8124451918537643, 0.5830375718885534 L -0.8069931624427259, 0.5905607807590072 M -0.8069931624427259,0.5905607807590072 Q -0.1525119109921821, 0.12938360408302413 -0.714198396741403, 0.6999433191994975L -0.714198396741403, 0.6999433191994975 L -0.7083498452194127, 0.7058615280475584 L -0.702452254105756, 0.7117308695720191 \", \"type\": \"path\"}, {\"fillcolor\": \"#dba284\", \"layer\": \"below\", \"line\": {\"color\": \"rgb(175,175,175)\", \"width\": 0.5}, \"path\": \"M -0.6550363359118837,0.7555973786581938 Q -0.1542137813456043, 0.12735034213966664 -0.8658293439874492, 0.5003394318762648L -0.8658293439874492, 0.5003394318762648 L -0.8640086047520936, 0.5034770410995326 L -0.8621764954373893, 0.5066080247245413 M -0.8621764954373893,0.5066080247245413 Q -0.1541382246490528, 0.1274417816182673 -0.6596100321129024, 0.7516080132196675L -0.6596100321129024, 0.7516080132196675 L -0.6573262104916711, 0.7536061657130064 L -0.6550363359118837, 0.7555973786581938 \", \"type\": \"path\"}, {\"fillcolor\": \"#dba284\", \"layer\": \"below\", \"line\": {\"color\": \"rgb(175,175,175)\", \"width\": 0.5}, \"path\": \"M -0.6710101942245177,0.7414481230988281 Q -0.1777634182715534, 0.0916524256330009 -0.9931805726053854, 0.11658623503329531L -0.9931805726053854, 0.11658623503329531 L -0.9926626248329943, 0.12091696845219908 L -0.9921257931214792, 0.12524540160451306 M -0.9921257931214792,0.12524540160451306 Q -0.17774944906375034, 0.09167951438316652 -0.6772281610358828, 0.7357730750033983L -0.6772281610358828, 0.7357730750033983 L -0.6741251495023302, 0.7386171422384271 L -0.6710101942245177, 0.7414481230988281 \", \"type\": \"path\"}, {\"fillcolor\": \"#dba284\", \"layer\": \"below\", \"line\": {\"color\": \"rgb(175,175,175)\", \"width\": 0.5}, \"path\": \"M -0.6473102351959716,0.7622266456970236 Q -0.17934282458732326, 0.08852203832402758 -0.9987367882548376, 0.050247664487134865L -0.9987367882548376, 0.050247664487134865 L -0.9987205473056568, 0.050569441261391006 L -0.9987042026852275, 0.05089121278633378 M -0.9987042026852275,0.05089121278633378 Q -0.17934029979862132, 0.08852715328158153 -0.6477578030406751, 0.7618463287303536L -0.6477578030406751, 0.7618463287303536 L -0.647534047039828, 0.7620365200725105 L -0.6473102351959716, 0.7622266456970236 \", \"type\": \"path\"}, {\"fillcolor\": \"#dba284\", \"layer\": \"below\", \"line\": {\"color\": \"rgb(175,175,175)\", \"width\": 0.5}, \"path\": \"M -0.6477578030406751,0.7618463287303536 Q -0.1863015938392983, 0.07274418281166632 -0.9926109611478411, -0.12134034699620397L -0.9926109611478411, -0.12134034699620397 L -0.9926897377471937, -0.12069417786872647 L -0.9927680937039052, -0.12004795759826255 M -0.9927680937039052,-0.12004795759826255 Q -0.18629696532103465, 0.07275603557213119 -0.6486522682281151, 0.761084906513407L -0.6486522682281151, 0.761084906513407 L -0.6482051474361612, 0.7614657489587201 L -0.6477578030406751, 0.7618463287303536 \", \"type\": \"path\"}, {\"fillcolor\": \"#dba284\", \"layer\": \"below\", \"line\": {\"color\": \"rgb(175,175,175)\", \"width\": 0.5}, \"path\": \"M -0.6495458383845516,0.7603224341273312 Q -0.19649355176628824, 0.037286513839041246 -0.882920554410519, -0.46952241117908505L -0.882920554410519, -0.46952241117908505 L -0.8837226438587612, -0.4680109921051867 L -0.8845221460012002, -0.46649820281908 M -0.8845221460012002,-0.46649820281908 Q -0.19648083971501856, 0.037353441941555925 -0.6516273478164488, 0.7585392538146598L -0.6516273478164488, 0.7585392538146598 L -0.6505872040358022, 0.7594315571168198 L -0.6495458383845516, 0.7603224341273312 \", \"type\": \"path\"}, {\"fillcolor\": \"#dba284\", \"layer\": \"below\", \"line\": {\"color\": \"rgb(175,175,175)\", \"width\": 0.5}, \"path\": \"M -0.6486522682281151,0.761084906513407 Q -0.19990254456479453, -0.0062428099859230535 -0.5998983499734128, -0.8000762274303472L -0.5998983499734128, -0.8000762274303472 L -0.6004943411108983, -0.7996290054105016 L -0.6010899988461358, -0.7991813394262609 M -0.6010899988461358,-0.7991813394262609 Q -0.19990352715981768, -0.006211266301169145 -0.6495458383845516, 0.7603224341273312L -0.6495458383845516, 0.7603224341273312 L -0.6490991652622987, 0.760703801525789 L -0.6486522682281151, 0.761084906513407 \", \"type\": \"path\"}, {\"fillcolor\": \"#dba284\", \"layer\": \"below\", \"line\": {\"color\": \"rgb(175,175,175)\", \"width\": 0.5}, \"path\": \"M -0.6648909199666029,0.746940469211546 Q -0.18544074525769028, -0.07491148108449351 0.04047993396731593, -0.9991803515612193L 0.04047993396731593, -0.9991803515612193 L 0.035206600521528325, -0.9993800554742512 L 0.029932286644889502, -0.99955192872417 M 0.029932286644889502,-0.99955192872417 Q -0.18552795110263998, -0.07469524321974211 -0.6710101942245177, 0.7414481230988281L -0.6710101942245177, 0.7414481230988281 L -0.667956202299765, 0.7442005857356438 L -0.6648909199666029, 0.746940469211546 \", \"type\": \"path\"}, {\"fillcolor\": \"#dba284\", \"layer\": \"below\", \"line\": {\"color\": \"rgb(175,175,175)\", \"width\": 0.5}, \"path\": \"M -0.6516273478164488,0.7585392538146598 Q -0.15123840528241367, -0.1308699536472463 0.6570637337703197, -0.7538350282149314L 0.6570637337703197, -0.7538350282149314 L 0.6549444191366538, -0.7556770526102742 L 0.6528199405620221, -0.7575131188333295 M 0.6528199405620221,-0.7575131188333295 Q -0.15131121207720835, -0.1307857679555619 -0.6550363359118837, 0.7555973786581938L -0.6550363359118837, 0.7555973786581938 L -0.6533334977260717, 0.7570702350172123 L -0.6516273478164488, 0.7585392538146598 \", \"type\": \"path\"}, {\"fillcolor\": \"#dba284\", \"layer\": \"below\", \"line\": {\"color\": \"rgb(175,175,175)\", \"width\": 0.5}, \"path\": \"M -0.6596100321129024,0.7516080132196675 Q -0.10188244784954273, -0.17210452295098236 0.9762222390865053, -0.2167720920988912L 0.9762222390865053, -0.2167720920988912 L 0.9754087717171808, -0.22040355726979688 L 0.9745817956499301, -0.22403197001267006 M 0.9745817956499301,-0.22403197001267006 Q -0.1019164322479222, -0.17208440033267014 -0.6648909199666029, 0.746940469211546L -0.6648909199666029, 0.746940469211546 L -0.6622545881355943, 0.7492788936660062 L -0.6596100321129024, 0.7516080132196675 \", \"type\": \"path\"}, {\"fillcolor\": \"#d59171\", \"layer\": \"below\", \"line\": {\"color\": \"rgb(175,175,175)\", \"width\": 0.5}, \"path\": \"M -0.7449421680535359,0.6671290476779568 Q -0.16289436432637433, 0.11604062250223597 -0.8739097694904441, 0.48608817594049636L -0.8739097694904441, 0.48608817594049636 L -0.8717969435336352, 0.48986742006936085 L -0.8696677742438825, 0.4936374807910066 M -0.8696677742438825,0.4936374807910066 Q -0.16286123911872047, 0.11608710864137739 -0.7503139418987469, 0.6610816807266436L -0.7503139418987469, 0.6610816807266436 L -0.7476341693964833, 0.6641107955385386 L -0.7449421680535359, 0.6671290476779568 \", \"type\": \"path\"}, {\"fillcolor\": \"#d59171\", \"layer\": \"below\", \"line\": {\"color\": \"rgb(175,175,175)\", \"width\": 0.5}, \"path\": \"M -0.7696343405982926,0.6384849111543917 Q -0.18467314118651074, 0.07678431431162928 -0.9954384618511168, 0.095405810449273L -0.9954384618511168, 0.095405810449273 L -0.99482909858378, 0.10156310654457078 L -0.994181649658465, 0.10771651443661336 M -0.994181649658465,0.10771651443661336 Q -0.18471000099658363, 0.07669560308024231 -0.7780801160482883, 0.628165052363057L -0.7780801160482883, 0.628165052363057 L -0.7738744308345984, 0.6333390602990048 L -0.7696343405982926, 0.6384849111543917 \", \"type\": \"path\"}, {\"fillcolor\": \"#d59171\", \"layer\": \"below\", \"line\": {\"color\": \"rgb(175,175,175)\", \"width\": 0.5}, \"path\": \"M -0.7373103461016253,0.6755541825283162 Q -0.18458905315033222, 0.07698624199857944 -0.9988216556891533, 0.04853143441501194L -0.9988216556891533, 0.04853143441501194 L -0.9987954514095791, 0.04906777194386451 L -0.9987689591327209, 0.04960409532429 M -0.9987689591327209,0.04960409532429 Q -0.18458978882474475, 0.07698447805652868 -0.7380483312355002, 0.6747478497635198L -0.7380483312355002, 0.6747478497635198 L -0.7376794488404973, 0.6751511169792879 L -0.7373103461016253, 0.6755541825283162 \", \"type\": \"path\"}, {\"fillcolor\": \"#d59171\", \"layer\": \"below\", \"line\": {\"color\": \"rgb(175,175,175)\", \"width\": 0.5}, \"path\": \"M -0.7417250120647101,0.6707041124651061 Q -0.19116133241055622, 0.05879919209496709 -0.9904451839906045, -0.13790698861847955L -0.9904451839906045, -0.13790698861847955 L -0.990771522829876, -0.13554257467441205 L -0.9910922172929866, -0.13317738855102765 M -0.9910922172929866,-0.13317738855102765 Q -0.1911623859177065, 0.058795766941590645 -0.7449421680535359, 0.6671290476779568L -0.7449421680535359, 0.6671290476779568 L -0.7433357393414111, 0.6689185141837217 L -0.7417250120647101, 0.6707041124651061 \", \"type\": \"path\"}, {\"fillcolor\": \"#d59171\", \"layer\": \"below\", \"line\": {\"color\": \"rgb(175,175,175)\", \"width\": 0.5}, \"path\": \"M -0.7380483312355002,0.6747478497635198 Q -0.19522193227629137, 0.04345569189773784 -0.9545732215346037, -0.2979764499571208L -0.9545732215346037, -0.2979764499571208 L -0.9548325111205102, -0.2971445367280051 L -0.9550910756918648, -0.2963123978738599 M -0.9550910756918648,-0.2963123978738599 Q -0.1952220656378206, 0.04345509277521413 -0.7392272729056982, 0.6734560408760206L -0.7392272729056982, 0.6734560408760206 L -0.73863808447726, 0.6741022030521515 L -0.7380483312355002, 0.6747478497635198 \", \"type\": \"path\"}, {\"fillcolor\": \"#d59171\", \"layer\": \"below\", \"line\": {\"color\": \"rgb(175,175,175)\", \"width\": 0.5}, \"path\": \"M -0.7392272729056982,0.6734560408760206 Q -0.19857801268365852, 0.023806992220958015 -0.8774682682160729, -0.47963469252534885L -0.8774682682160729, -0.47963469252534885 L -0.8784629196740875, -0.4778105260013405 L -0.8794537788823205, -0.4759842968098913 M -0.8794537788823205,-0.4759842968098913 Q -0.19857278212741292, 0.023850580667543624 -0.7417250120647101, 0.6707041124651061L -0.7417250120647101, 0.6707041124651061 L -0.7404774209030703, 0.6720812370039333 L -0.7392272729056982, 0.6734560408760206 \", \"type\": \"path\"}, {\"fillcolor\": \"#d59171\", \"layer\": \"below\", \"line\": {\"color\": \"rgb(175,175,175)\", \"width\": 0.5}, \"path\": \"M -0.7559229325717551,0.6546606143736751 Q -0.19820929500748238, -0.026703471172056032 -0.5557195521405116, -0.8313698210596469L -0.5557195521405116, -0.8313698210596469 L -0.5603569157430579, -0.8282512462887862 L -0.5649767790350141, -0.8251068046933202 M -0.5649767790350141,-0.8251068046933202 Q -0.19822713244518486, -0.026570735077508695 -0.762326539662025, 0.6471925887453618L -0.762326539662025, 0.6471925887453618 L -0.7591339195663928, 0.6509344760909238 L -0.7559229325717551, 0.6546606143736751 \", \"type\": \"path\"}, {\"fillcolor\": \"#d59171\", \"layer\": \"below\", \"line\": {\"color\": \"rgb(175,175,175)\", \"width\": 0.5}, \"path\": \"M -0.7780801160482883,0.628165052363057 Q -0.17674532927193065, -0.09360068685942867 0.08236325646146463, -0.9966023750649318L 0.08236325646146463, -0.9966023750649318 L 0.07409607783288535, -0.9972511074196825 L 0.0658238038321978, -0.9978312617116485 M 0.0658238038321978,-0.9978312617116485 Q -0.17684616328487204, -0.09341003442575307 -0.7870622789912497, 0.6168735437584435L -0.7870622789912497, 0.6168735437584435 L -0.7825915625210684, 0.622535498000582 L -0.7780801160482883, 0.628165052363057 \", \"type\": \"path\"}, {\"fillcolor\": \"#d59171\", \"layer\": \"below\", \"line\": {\"color\": \"rgb(175,175,175)\", \"width\": 0.5}, \"path\": \"M -0.762326539662025,0.6471925887453618 Q -0.13687384126185695, -0.14582712908860268 0.6941337705154731, -0.7198460311969307L 0.6941337705154731, -0.7198460311969307 L 0.6895499455030475, -0.7242381325618973 L 0.684938330244481, -0.7286010456771951 M 0.684938330244481,-0.7286010456771951 Q -0.1369707059022471, -0.14573615105607848 -0.7696343405982926, 0.6384849111543917L -0.7696343405982926, 0.6384849111543917 L -0.7659928136570531, 0.642849134265382 L -0.762326539662025, 0.6471925887453618 \", \"type\": \"path\"}, {\"fillcolor\": \"#d59171\", \"layer\": \"below\", \"line\": {\"color\": \"rgb(175,175,175)\", \"width\": 0.5}, \"path\": \"M -0.7358317339134408,0.6771644256500332 Q -0.11021829434528999, -0.16688896785472376 0.9116803571530201, -0.41090014161757316L 0.9116803571530201, -0.41090014161757316 L 0.9114594296652593, -0.4113899707993382 L 0.911238239001261, -0.4118796811957114 M 0.911238239001261,-0.4118796811957114 Q -0.11021676121172329, -0.16688998037029656 -0.736571480033341, 0.6763597081446332L -0.736571480033341, 0.6763597081446332 L -0.7362017169246272, 0.6767621679713125 L -0.7358317339134408, 0.6771644256500332 \", \"type\": \"path\"}, {\"fillcolor\": \"#d59171\", \"layer\": \"below\", \"line\": {\"color\": \"rgb(175,175,175)\", \"width\": 0.5}, \"path\": \"M -0.7503139418987469,0.6610816807266436 Q -0.0899260814286742, -0.17864293962786063 0.9779383559632148, -0.2088936857254538L 0.9779383559632148, -0.2088936857254538 L 0.9770882381509948, -0.21283461858209293 L 0.9762222390865053, -0.2167720920988912 M 0.9762222390865053,-0.2167720920988912 Q -0.08988474544442918, -0.17866374152689787 -0.7559229325717551, 0.6546606143736751L -0.7559229325717551, 0.6546606143736751 L -0.7531252804327735, 0.6578771252848484 L -0.7503139418987469, 0.6610816807266436 \", \"type\": \"path\"}, {\"fillcolor\": \"#d0805f\", \"layer\": \"below\", \"line\": {\"color\": \"rgb(175,175,175)\", \"width\": 0.5}, \"path\": \"M -0.8658293439874492,0.5003394318762648 Q -0.18550807596561766, 0.07474459011550355 -0.9708490281854044, 0.23969181144014062L -0.9708490281854044, 0.23969181144014062 L -0.9701933734801105, 0.2423320409175866 L -0.969530538669776, 0.24497047696956037 M -0.969530538669776,0.24497047696956037 Q -0.18559325723242168, 0.0745328308187752 -0.8696677742438825, 0.4936374807910066L -0.8696677742438825, 0.4936374807910066 L -0.8677550293051614, 0.4969921620263226 L -0.8658293439874492, 0.5003394318762648 \", \"type\": \"path\"}, {\"fillcolor\": \"#d0805f\", \"layer\": \"below\", \"line\": {\"color\": \"rgb(175,175,175)\", \"width\": 0.5}, \"path\": \"M -0.8739097694904441,0.48608817594049636 Q -0.18981900638429028, 0.06299797469189607 -0.9911308224235369, 0.13288977704113783L -0.9911308224235369, 0.13288977704113783 L -0.9906251076251269, 0.13660855076716757 L -0.9901054398468322, 0.14032540035827815 M -0.9901054398468322,0.14032540035827815 Q -0.18985530871800568, 0.06288848663778421 -0.8780862332781325, 0.4785024210256632L -0.8780862332781325, 0.4785024210256632 L -0.8760062125057531, 0.4822998192528435 L -0.8739097694904441, 0.48608817594049636 \", \"type\": \"path\"}, {\"fillcolor\": \"#d0805f\", \"layer\": \"below\", \"line\": {\"color\": \"rgb(175,175,175)\", \"width\": 0.5}, \"path\": \"M -0.852173401042271,0.523259490650718 Q -0.1913233308749559, 0.05826991559039832 -0.9991758016247866, 0.040592086020122396L -0.9991758016247866, 0.040592086020122396 L -0.9991045760603805, 0.04230893635164226 L -0.9990304004917043, 0.04402566175975983 M -0.9990304004917043,0.04402566175975983 Q -0.19133230203774323, 0.05824045155163034 -0.8541268453828581, 0.5200647382743105L -0.8541268453828581, 0.5200647382743105 L -0.8531516186167034, 0.5216630288334597 L -0.852173401042271, 0.523259490650718 \", \"type\": \"path\"}, {\"fillcolor\": \"#d0805f\", \"layer\": \"below\", \"line\": {\"color\": \"rgb(175,175,175)\", \"width\": 0.5}, \"path\": \"M -0.8541268453828581,0.5200647382743105 Q -0.19574367590095, 0.041041605046389894 -0.9910922172929866, -0.13317738855102765L -0.9910922172929866, -0.13317738855102765 L -0.9913361595619624, -0.13134922437890326 L -0.9915767296105846, -0.12952061339716375 M -0.9915767296105846,-0.12952061339716375 Q -0.19574962394945603, 0.0410132262038304 -0.8561892562482218, 0.5166623244297156L -0.8561892562482218, 0.5166623244297156 L -0.8551597429601243, 0.5183645570642094 L -0.8541268453828581, 0.5200647382743105 \", \"type\": \"path\"}, {\"fillcolor\": \"#d0805f\", \"layer\": \"below\", \"line\": {\"color\": \"rgb(175,175,175)\", \"width\": 0.5}, \"path\": \"M -0.8507004744194275,0.5256507422448492 Q -0.1985406021358915, 0.02411699200807679 -0.9518069579856364, -0.30669775794767207L -0.9518069579856364, -0.30669775794767207 L -0.9522070222735749, -0.30545341172246165 L -0.952605459764414, -0.30420854364568634 M -0.952605459764414,-0.30420854364568634 Q -0.19854294457867375, 0.02409770026433418 -0.852173401042271, 0.523259490650718L -0.852173401042271, 0.523259490650718 L -0.8514377772060225, 0.5244556335348753 L -0.8507004744194275, 0.5256507422448492 \", \"type\": \"path\"}, {\"fillcolor\": \"#d0805f\", \"layer\": \"below\", \"line\": {\"color\": \"rgb(175,175,175)\", \"width\": 0.5}, \"path\": \"M -0.8878620521483174,0.4601097438166013 Q -0.1998059132544991, -0.008808917557543141 -0.8439259236381199, -0.5364597239416452L -0.8439259236381199, -0.5364597239416452 L -0.8484198772822567, -0.5293238251130971 L -0.8528534941287318, -0.522150282535989 M -0.8528534941287318,-0.522150282535989 Q -0.19980906010182795, -0.00873724792049023 -0.895176183428896, 0.445712464063633L -0.895176183428896, 0.445712464063633 L -0.8915481803013491, 0.4529258683287511 L -0.8878620521483174, 0.4601097438166013 \", \"type\": \"path\"}, {\"fillcolor\": \"#d0805f\", \"layer\": \"below\", \"line\": {\"color\": \"rgb(175,175,175)\", \"width\": 0.5}, \"path\": \"M -0.895176183428896,0.445712464063633 Q -0.19147164129302008, -0.05778071114616932 -0.49918990790342416, -0.866492605766126L -0.49918990790342416, -0.866492605766126 L -0.5091639101351493, -0.8606695722609726 L -0.5190699957873386, -0.854731735384461 M -0.5190699957873386,-0.854731735384461 Q -0.1915101134300157, -0.05765306977102369 -0.9046646600685101, 0.4261242222910206L -0.9046646600685101, 0.4261242222910206 L -0.8999737164408187, 0.43594415894206084 L -0.895176183428896, 0.445712464063633 \", \"type\": \"path\"}, {\"fillcolor\": \"#d0805f\", \"layer\": \"below\", \"line\": {\"color\": \"rgb(175,175,175)\", \"width\": 0.5}, \"path\": \"M -0.8493443968641166,0.5278390810801433 Q -0.17836442807058592, -0.09047723912152045 -0.07579091075044835, -0.9971237324663462L -0.07579091075044835, -0.9971237324663462 L -0.07670172534306428, -0.9970540834525463 L -0.07761247593313683, -0.9969836024627127 M -0.07761247593313683,-0.9969836024627127 Q -0.1783305997711921, -0.09054389645496218 -0.8507004744194275, 0.5256507422448492L -0.8507004744194275, 0.5256507422448492 L -0.8500231398621364, 0.5267453480562643 L -0.8493443968641166, 0.5278390810801433 \", \"type\": \"path\"}, {\"fillcolor\": \"#d0805f\", \"layer\": \"below\", \"line\": {\"color\": \"rgb(175,175,175)\", \"width\": 0.5}, \"path\": \"M -0.9159925119732474,0.4011953614000793 Q -0.15670544044652976, -0.12427149687059831 0.1819539696044706, -0.9833070491688624L 0.1819539696044706, -0.9833070491688624 L 0.16574522521308255, -0.9861686064355651 L 0.14949157846703115, -0.9887629988867077 M 0.14949157846703115,-0.9887629988867077 Q -0.1568457580273791, -0.12409435196179093 -0.9278604828412234, 0.3729275055311044L -0.9278604828412234, 0.3729275055311044 L -0.9220348336914558, 0.38710691734916 L -0.9159925119732474, 0.4011953614000793 \", \"type\": \"path\"}, {\"fillcolor\": \"#d0805f\", \"layer\": \"below\", \"line\": {\"color\": \"rgb(175,175,175)\", \"width\": 0.5}, \"path\": \"M -0.8827472744453018,0.46984811318062264 Q -0.12239541700520114, -0.15817509884973335 0.6763521947400508, -0.7365783791765249L 0.6763521947400508, -0.7365783791765249 L 0.6721146161473635, -0.7404471235416357 L 0.667854908681468, -0.7442914892366216 M 0.667854908681468,-0.7442914892366216 Q -0.12243306225675182, -0.15814596190366145 -0.8878620521483174, 0.4601097438166013L -0.8878620521483174, 0.4601097438166013 L -0.8853180534782655, 0.4649859612778164 L -0.8827472744453018, 0.46984811318062264 \", \"type\": \"path\"}, {\"fillcolor\": \"#d0805f\", \"layer\": \"below\", \"line\": {\"color\": \"rgb(175,175,175)\", \"width\": 0.5}, \"path\": \"M -0.8590778138538845,0.511845005586682 Q -0.09141259441673925, -0.17788686736800088 0.9163019738731483, -0.40048806808214926L 0.9163019738731483, -0.40048806808214926 L 0.915179353168176, -0.403046835410823 L 0.9140495871386384, -0.4056024559241286 M 0.9140495871386384,-0.4056024559241286 Q -0.09136841788320099, -0.17790956189457824 -0.8621764954373893, 0.5066080247245413L -0.8621764954373893, 0.5066080247245413 L -0.8606311380641434, 0.5092288721139222 L -0.8590778138538845, 0.511845005586682 \", \"type\": \"path\"}, {\"fillcolor\": \"#d0805f\", \"layer\": \"below\", \"line\": {\"color\": \"rgb(175,175,175)\", \"width\": 0.5}, \"path\": \"M -0.8561892562482218,0.5166623244297156 Q -0.07564168329799487, -0.18514409455298825 0.9730306259075705, -0.23067596547087796L 0.9730306259075705, -0.23067596547087796 L 0.9724553305487521, -0.23308931783185013 L 0.9718740494994618, -0.23550123547344234 M 0.9718740494994618,-0.23550123547344234 Q -0.07558104225283685, -0.18516885821318577 -0.8590778138538845, 0.511845005586682L -0.8590778138538845, 0.511845005586682 L -0.8576369173982513, 0.5142556931290359 L -0.8561892562482218, 0.5166623244297156 \", \"type\": \"path\"}, {\"fillcolor\": \"#d0805f\", \"layer\": \"below\", \"line\": {\"color\": \"rgb(175,175,175)\", \"width\": 0.5}, \"path\": \"M -0.8483546223925914,0.5294284037196376 Q -0.06493862022871345, -0.18916388556696262 0.9946540454931952, -0.10326340002159809L 0.9946540454931952, -0.10326340002159809 L 0.9945766880165332, -0.10400582509678735 L 0.9944987763824562, -0.10474819222209716 M 0.9944987763824562,-0.10474819222209716 Q -0.06490273123970344, -0.18917620219685885 -0.8493443968641166, 0.5278390810801433L -0.8493443968641166, 0.5278390810801433 L -0.8488498815944492, 0.5286339740473456 L -0.8483546223925914, 0.5294284037196376 \", \"type\": \"path\"}, {\"fillcolor\": \"#ca6f4c\", \"layer\": \"below\", \"line\": {\"color\": \"rgb(175,175,175)\", \"width\": 0.5}, \"path\": \"M -0.9639261047640945,0.26616999183664564 Q -0.1948548878590482, 0.04507297058590387 -0.9828962159228173, 0.18416033428674755L -0.9828962159228173, 0.18416033428674755 L -0.982746453515928, 0.18495785493421416 L -0.982596044001985, 0.18575525379285857 M -0.982596044001985,0.18575525379285857 Q -0.19484803613971302, 0.04510258099595961 -0.9642763424728144, 0.26489834908366583L -0.9642763424728144, 0.26489834908366583 L -0.9641014332794158, 0.2655342282052849 L -0.9639261047640945, 0.26616999183664564 \", \"type\": \"path\"}, {\"fillcolor\": \"#ca6f4c\", \"layer\": \"below\", \"line\": {\"color\": \"rgb(175,175,175)\", \"width\": 0.5}, \"path\": \"M -0.9632205990114483,0.2687118859299431 Q -0.19741862247951292, 0.03202947858288626 -0.9987689591327209, 0.04960409532429L -0.9987689591327209, 0.04960409532429 L -0.998752925531084, 0.049925882496967104 L -0.9987367882548376, 0.050247664487134865 M -0.9987367882548376,0.050247664487134865 Q -0.1974162237116052, 0.03204426025748527 -0.963353392070143, 0.26823542269236034L -0.963353392070143, 0.26823542269236034 L -0.9632870249994635, 0.26847366252145277 L -0.9632205990114483, 0.2687118859299431 \", \"type\": \"path\"}, {\"fillcolor\": \"#ca6f4c\", \"layer\": \"below\", \"line\": {\"color\": \"rgb(175,175,175)\", \"width\": 0.5}, \"path\": \"M -0.9670597820083678,0.25454936264294215 Q -0.19986810380640602, -0.007262305476342528 -0.9460356320641692, -0.32406262182631895L -0.9460356320641692, -0.32406262182631895 L -0.9469845825491146, -0.3212790071173016 L -0.9479253425474818, -0.3184926136604101 M -0.9479253425474818,-0.3184926136604101 Q -0.1998732461340099, -0.0071193735576598974 -0.968183348408839, 0.2502418907054706L -0.968183348408839, 0.2502418907054706 L -0.9676239621027223, 0.25239625188308445 L -0.9670597820083678, 0.25454936264294215 \", \"type\": \"path\"}, {\"fillcolor\": \"#ca6f4c\", \"layer\": \"below\", \"line\": {\"color\": \"rgb(175,175,175)\", \"width\": 0.5}, \"path\": \"M -0.9647117804241103,0.263308147824831 Q -0.1987248349549212, -0.022548613530311453 -0.881193089880885, -0.47275653178584276L -0.881193089880885, -0.47275653178584276 L -0.882058304409521, -0.47114026321489516 L -0.882920554410519, -0.46952241117908505 M -0.882920554410519,-0.46952241117908505 Q -0.19873825491235722, -0.022430025287344724 -0.9653600199443809, 0.2609215052328659L -0.9653600199443809, 0.2609215052328659 L -0.9650366379884925, 0.26211502692495015 L -0.9647117804241103, 0.263308147824831 \", \"type\": \"path\"}, {\"fillcolor\": \"#ca6f4c\", \"layer\": \"below\", \"line\": {\"color\": \"rgb(175,175,175)\", \"width\": 0.5}, \"path\": \"M -0.9653600199443809,0.2609215052328659 Q -0.1888198274952444, -0.06593233459135327 -0.5931205855679695, -0.8051136385476954L -0.5931205855679695, -0.8051136385476954 L -0.5949188358879751, -0.8037857791138735 L -0.5967141134491917, -0.802453903230924 M -0.5967141134491917,-0.802453903230924 Q -0.18886932308427606, -0.06579041569778497 -0.9661301132016556, 0.2580554288616228L -0.9661301132016556, 0.2580554288616228 L -0.9657461297921752, 0.2594887527262695 L -0.9653600199443809, 0.2609215052328659 \", \"type\": \"path\"}, {\"fillcolor\": \"#ca6f4c\", \"layer\": \"below\", \"line\": {\"color\": \"rgb(175,175,175)\", \"width\": 0.5}, \"path\": \"M -0.9661301132016556,0.2580554288616228 Q -0.16245260338638176, -0.11665826868673715 -0.06419346004622282, -0.9979374728344927L -0.06419346004622282, -0.9979374728344927 L -0.0660165312436069, -0.9978185293942792 L -0.06783938209522929, -0.997696255499106 M -0.06783938209522929,-0.997696255499106 Q -0.16245415870387203, -0.11665610279714117 -0.9670597820083678, 0.25454936264294215L -0.9670597820083678, 0.25454936264294215 L -0.9665965372691016, 0.25630281726774345 L -0.9661301132016556, 0.2580554288616228 \", \"type\": \"path\"}, {\"fillcolor\": \"#ca6f4c\", \"layer\": \"below\", \"line\": {\"color\": \"rgb(175,175,175)\", \"width\": 0.5}, \"path\": \"M -0.9729445465691484,0.23103876146948615 Q -0.1492650581115829, -0.13311627408752766 0.1186140065556148, -0.9929404400309338L 0.1186140065556148, -0.9929404400309338 L 0.10887728728842205, -0.9940551978198768 L 0.09913011075115624, -0.9950744801985746 M 0.09913011075115624,-0.9950744801985746 Q -0.1497128480080766, -0.1326124546990612 -0.9758352109455873, 0.2185077597678878L -0.9758352109455873, 0.2185077597678878 L -0.9744100226935832, 0.22477790744263676 L -0.9729445465691484, 0.23103876146948615 \", \"type\": \"path\"}, {\"fillcolor\": \"#ca6f4c\", \"layer\": \"below\", \"line\": {\"color\": \"rgb(175,175,175)\", \"width\": 0.5}, \"path\": \"M -0.9630875702996654,0.26918828342683704 Q -0.10760597109840526, -0.16858515647579764 0.6496699835113222, -0.7602163590218237L 0.6496699835113222, -0.7602163590218237 L 0.6493915079200491, -0.7604542520371129 L 0.6491129452182688, -0.7606920430437437 M 0.6491129452182688,-0.7606920430437437 Q -0.10762602227890428, -0.16857235635898551 -0.9632205990114483, 0.2687118859299431L -0.9632205990114483, 0.2687118859299431 L -0.96315411411016, 0.268950092903261 L -0.9630875702996654, 0.26918828342683704 \", \"type\": \"path\"}, {\"fillcolor\": \"#ca6f4c\", \"layer\": \"below\", \"line\": {\"color\": \"rgb(175,175,175)\", \"width\": 0.5}, \"path\": \"M -0.963353392070143,0.26823542269236034 Q -0.06798858488770898, -0.18808921373903076 0.9122095089830294, -0.40972406778335624L 0.9122095089830294, -0.40972406778335624 L 0.9119451226558867, -0.41031219000188124 L 0.9116803571530201, -0.41090014161757316 M 0.9116803571530201,-0.41090014161757316 Q -0.06801683396725015, -0.18807900014906376 -0.9636182710983738, 0.26728229946141374L -0.9636182710983738, 0.26728229946141374 L -0.9634859494432616, 0.2677588938306564 L -0.963353392070143, 0.26823542269236034 \", \"type\": \"path\"}, {\"fillcolor\": \"#ca6f4c\", \"layer\": \"below\", \"line\": {\"color\": \"rgb(175,175,175)\", \"width\": 0.5}, \"path\": \"M -0.9629543059673399,0.2696646150664908 Q -0.05214300977093529, -0.1930831596282497 0.9677941161922838, -0.2517430210822064L 0.9677941161922838, -0.2517430210822064 L 0.967768087347534, -0.2518430644502561 L 0.9677420481610438, -0.25194310512706647 M 0.9677420481610438,-0.25194310512706647 Q -0.052147052324899835, -0.19308206787225002 -0.9629987535894974, 0.26950584517793774L -0.9629987535894974, 0.26950584517793774 L -0.9629765330505489, 0.26958523103824716 L -0.9629543059673399, 0.2696646150664908 \", \"type\": \"path\"}, {\"fillcolor\": \"#ca6f4c\", \"layer\": \"below\", \"line\": {\"color\": \"rgb(175,175,175)\", \"width\": 0.5}, \"path\": \"M -0.9629987535894974,0.26950584517793774 Q -0.03779598452955831, -0.19639619027221833 0.9942417369488169, -0.10716048016409631L 0.9942417369488169, -0.10716048016409631 L 0.9942217223030719, -0.10734601483386964 L 0.9942016730348482, -0.10753154576545848 M 0.9942016730348482,-0.10753154576545848 Q -0.03780025358323515, -0.19639536865477028 -0.9630875702996654, 0.26918828342683704L -0.9630875702996654, 0.26918828342683704 L -0.9630431750340083, 0.2693470679632814 L -0.9629987535894974, 0.26950584517793774 \", \"type\": \"path\"}, {\"fillcolor\": \"#c45e3a\", \"layer\": \"below\", \"line\": {\"color\": \"rgb(175,175,175)\", \"width\": 0.5}, \"path\": \"M -0.9823692166221099,0.18695112257823465 Q -0.19989400824622808, 0.00651041221866206 -0.9924521461549135, -0.12263253072698996L -0.9924521461549135, -0.12263253072698996 L -0.9925317639392279, -0.12198646470688716 L -0.9926109611478411, -0.12134034699620397 M -0.9926109611478411,-0.12134034699620397 Q -0.1998937322983625, 0.00651887933855208 -0.982596044001985, 0.18575525379285857L -0.982596044001985, 0.18575525379285857 L -0.9824828122620859, 0.18635322269706744 L -0.9823692166221099, 0.18695112257823465 \", \"type\": \"path\"}, {\"fillcolor\": \"#c45e3a\", \"layer\": \"below\", \"line\": {\"color\": \"rgb(175,175,175)\", \"width\": 0.5}, \"path\": \"M -0.9847489216724277,0.1739814969040985 Q -0.1993432841931143, -0.016194290571163422 -0.9437535988481635, -0.3306495798593123L -0.9437535988481635, -0.3306495798593123 L -0.9449003552343965, -0.3273580893729545 L -0.9460356320641692, -0.32406262182631895 M -0.9460356320641692,-0.32406262182631895 Q -0.1993471601719881, -0.016146508333497952 -0.9858575969668948, 0.1675851977432963L -0.9858575969668948, 0.1675851977432963 L -0.9853084496677607, 0.17078424697059702 L -0.9847489216724277, 0.1739814969040985 \", \"type\": \"path\"}, {\"fillcolor\": \"#c45e3a\", \"layer\": \"below\", \"line\": {\"color\": \"rgb(175,175,175)\", \"width\": 0.5}, \"path\": \"M -0.983671848066953,0.1799713736140986 Q -0.19722251346646388, -0.03321566169701392 -0.8704600551088227, -0.49223906027452285L -0.8704600551088227, -0.49223906027452285 L -0.8722590255438609, -0.4890441619703421 L -0.8740462696165797, -0.4858426891179297 M -0.8740462696165797,-0.4858426891179297 Q -0.19724318795889428, -0.033092669940823806 -0.9847489216724277, 0.1739814969040985L -0.9847489216724277, 0.1739814969040985 L -0.984214941636782, 0.17697725463715896 L -0.983671848066953, 0.1799713736140986 \", \"type\": \"path\"}, {\"fillcolor\": \"#c45e3a\", \"layer\": \"below\", \"line\": {\"color\": \"rgb(175,175,175)\", \"width\": 0.5}, \"path\": \"M -0.989024274825149,0.14775311775589764 Q -0.18334054936391994, -0.07991397223850186 -0.5649767790350141, -0.8251068046933202L -0.5649767790350141, -0.8251068046933202 L -0.5687621214896489, -0.8225020663552122 L -0.5725354553969992, -0.8198799621367452 M -0.5725354553969992,-0.8198799621367452 Q -0.18340776716520601, -0.07975958214204476 -0.9901054398468322, 0.14032540035827815L -0.9901054398468322, 0.14032540035827815 L -0.9895718264081865, 0.1440402734625488 L -0.989024274825149, 0.14775311775589764 \", \"type\": \"path\"}, {\"fillcolor\": \"#c45e3a\", \"layer\": \"below\", \"line\": {\"color\": \"rgb(175,175,175)\", \"width\": 0.5}, \"path\": \"M -0.9822552571241313,0.18754895321490508 Q -0.15910884514272272, -0.12117910462348319 -0.08026156120922315, -0.9967738368317349L -0.08026156120922315, -0.9967738368317349 L -0.08050988418503632, -0.996753810400799 L -0.08075820216397471, -0.9967337221059808 M -0.08075820216397471,-0.9967337221059808 Q -0.15910215963681507, -0.1211878822279745 -0.9823692166221099, 0.18695112257823465L -0.9823692166221099, 0.18695112257823465 L -0.982312282352736, 0.1872500465659717 L -0.9822552571241313, 0.18754895321490508 \", \"type\": \"path\"}, {\"fillcolor\": \"#c45e3a\", \"layer\": \"below\", \"line\": {\"color\": \"rgb(175,175,175)\", \"width\": 0.5}, \"path\": \"M -0.9911308224235369,0.13288977704113783 Q -0.14853709442895588, -0.13392808360685016 0.029932286644889502, -0.99955192872417L 0.029932286644889502, -0.99955192872417 L 0.02515956610367846, -0.9996834480141574 L 0.020386272021005993, -0.999792178361626 M 0.020386272021005993,-0.999792178361626 Q -0.14866025875144456, -0.1337913579718569 -0.9921257931214792, 0.12524540160451306L -0.9921257931214792, 0.12524540160451306 L -0.9916356739724131, 0.12906854808696822 L -0.9911308224235369, 0.13288977704113783 \", \"type\": \"path\"}, {\"fillcolor\": \"#c45e3a\", \"layer\": \"below\", \"line\": {\"color\": \"rgb(175,175,175)\", \"width\": 0.5}, \"path\": \"M -0.9879816425764127,0.1545712584279931 Q -0.09541673673383655, -0.17577157435451765 0.667854908681468, -0.7442914892366216L 0.667854908681468, -0.7442914892366216 L 0.6647597032781183, -0.7470572514189178 L 0.6616530442399542, -0.7498101420012944 M 0.6616530442399542,-0.7498101420012944 Q -0.09554013438763949, -0.17570453244350812 -0.989024274825149, 0.14775311775589764L -0.989024274825149, 0.14775311775589764 L -0.9885088371485374, 0.1511630870260534 L -0.9879816425764127, 0.1545712584279931 \", \"type\": \"path\"}, {\"fillcolor\": \"#c45e3a\", \"layer\": \"below\", \"line\": {\"color\": \"rgb(175,175,175)\", \"width\": 0.5}, \"path\": \"M -0.9822171897747628,0.18774821466785693 Q -0.06056581297648465, -0.19060897748662703 0.9104397744995082, -0.41364165289448873L 0.9104397744995082, -0.41364165289448873 L 0.9103953154378176, -0.4137394948864281 L 0.9103508458613674, -0.4138373320998155 M 0.9103508458613674,-0.4138373320998155 Q -0.06056696364551254, -0.19060861185886424 -0.9822552571241313, 0.18754895321490508L -0.9822552571241313, 0.18754895321490508 L -0.9822362285023465, 0.1876485849066981 L -0.9822171897747628, 0.18774821466785693 \", \"type\": \"path\"}, {\"fillcolor\": \"#c45e3a\", \"layer\": \"below\", \"line\": {\"color\": \"rgb(175,175,175)\", \"width\": 0.5}, \"path\": \"M -0.9869247264438735,0.1611818362399605 Q -0.03854115001764006, -0.19625131784351862 0.9745817956499301, -0.22403197001267006L 0.9745817956499301, -0.22403197001267006 L 0.9738118770174143, -0.2273552906352087 L 0.9730306259075705, -0.23067596547087796 M 0.9730306259075705,-0.23067596547087796 Q -0.03855372309144979, -0.19624884824066566 -0.9879816425764127, 0.1545712584279931L -0.9879816425764127, 0.1545712584279931 L -0.9874587163694363, 0.1578774317818261 L -0.9869247264438735, 0.1611818362399605 \", \"type\": \"path\"}, {\"fillcolor\": \"#c45e3a\", \"layer\": \"below\", \"line\": {\"color\": \"rgb(175,175,175)\", \"width\": 0.5}, \"path\": \"M -0.9831937990214045,0.18256492972599667 Q -0.02819941522368495, -0.19800200246725339 0.9950696041404489, -0.09917904474116726L 0.9950696041404489, -0.09917904474116726 L 0.994948570732147, -0.10038596315251311 L 0.9948260734548814, -0.10159273386587717 M 0.9948260734548814,-0.10159273386587717 Q -0.028178495943715715, -0.19800498066046218 -0.983671848066953, 0.1799713736140986L -0.983671848066953, 0.1799713736140986 L -0.9834336785250961, 0.18126830926170728 L -0.9831937990214045, 0.18256492972599667 \", \"type\": \"path\"}, {\"fillcolor\": \"#bf4d28\", \"layer\": \"below\", \"line\": {\"color\": \"rgb(175,175,175)\", \"width\": 0.5}, \"path\": \"M -0.9994023933245522,-0.034566692308597234 Q -0.19814917450790726, -0.02714598758260461 -0.9718758143638533, -0.2354939520552429L -0.9718758143638533, -0.2354939520552429 L -0.9748592760290644, -0.2228214351001454 L -0.9776775051598583, -0.21011115130900399 M -0.9776775051598583,-0.21011115130900399 Q -0.19815274554562134, -0.027119908420425255 -0.9981795824711485, -0.060311865646186326L -0.9981795824711485, -0.060311865646186326 L -0.9988739364872373, -0.047443218761911654 L -0.9994023933245522, -0.034566692308597234 \", \"type\": \"path\"}, {\"fillcolor\": \"#bf4d28\", \"layer\": \"below\", \"line\": {\"color\": \"rgb(175,175,175)\", \"width\": 0.5}, \"path\": \"M -0.9988216556891533,0.04853143441501194 Q -0.19841099340814022, -0.025161035248871214 -0.9550910756918648, -0.2963123978738599L -0.9550910756918648, -0.2963123978738599 L -0.9552523102902494, -0.2957921967955564 L -0.9554132615552988, -0.29527190798358427 M -0.9554132615552988,-0.29527190798358427 Q -0.1984111855810614, -0.025159519795051967 -0.998873200226309, 0.04745871753062797L -0.998873200226309, 0.04745871753062797 L -0.9988475719638875, 0.047995082892381885 L -0.9988216556891533, 0.04853143441501194 \", \"type\": \"path\"}, {\"fillcolor\": \"#bf4d28\", \"layer\": \"below\", \"line\": {\"color\": \"rgb(175,175,175)\", \"width\": 0.5}, \"path\": \"M -0.9989434270730021,0.04595682221004564 Q -0.19519356335784577, -0.043582941888618006 -0.8845221460012002, -0.46649820281908L -0.8845221460012002, -0.46649820281908 L -0.8850347443191112, -0.46552497392514347 L -0.8855462718055924, -0.46455118177787014 M -0.8855462718055924,-0.46455118177787014 Q -0.1951993760120624, -0.043556900767863234 -0.9990304004917043, 0.04402566175975983L -0.9990304004917043, 0.04402566175975983 L -0.9989873804275818, 0.044991263001142624 L -0.9989434270730021, 0.04595682221004564 \", \"type\": \"path\"}, {\"fillcolor\": \"#bf4d28\", \"layer\": \"below\", \"line\": {\"color\": \"rgb(175,175,175)\", \"width\": 0.5}, \"path\": \"M -0.9998735613133438,0.015901615847797684 Q -0.17807304574051402, -0.09104938429608848 -0.5725354553969992, -0.8198799621367452L -0.5725354553969992, -0.8198799621367452 L -0.5761952054264319, -0.8173121100556335 L -0.5798434386766461, -0.8147279218387219 M -0.5798434386766461,-0.8147279218387219 Q -0.17812805441314233, -0.0909417188697718 -0.9999666272632556, 0.008169722134149534L -0.9999666272632556, 0.008169722134149534 L -0.9999275676300868, 0.012035758944829665 L -0.9998735613133438, 0.015901615847797684 \", \"type\": \"path\"}, {\"fillcolor\": \"#bf4d28\", \"layer\": \"below\", \"line\": {\"color\": \"rgb(175,175,175)\", \"width\": 0.5}, \"path\": \"M -0.9986712024374208,0.05153473995467504 Q -0.15040142578761548, -0.13183099453866073 -0.0797649003286217, -0.9968137040969918L -0.0797649003286217, -0.9968137040969918 L -0.08001323325194741, -0.9967938013975456 L -0.08026156120922315, -0.9967738368317349 M -0.08026156120922315,-0.9967738368317349 Q -0.15039179418597165, -0.1318419820903962 -0.9987042026852275, 0.05089121278633378L -0.9987042026852275, 0.05089121278633378 L -0.9986877543952465, 0.051212979028562006 L -0.9986712024374208, 0.05153473995467504 \", \"type\": \"path\"}, {\"fillcolor\": \"#bf4d28\", \"layer\": \"below\", \"line\": {\"color\": \"rgb(175,175,175)\", \"width\": 0.5}, \"path\": \"M -0.9997307719548263,0.02320309476356688 Q -0.14162044267644103, -0.14122198913812564 0.020386272021005993, -0.999792178361626L 0.020386272021005993, -0.999792178361626 L 0.01611503278534031, -0.9998701444279289 L 0.011843499457364366, -0.9999298633007234 M 0.011843499457364366,-0.9999298633007234 Q -0.14170804483727104, -0.14113408528203944 -0.9998735613133438, 0.015901615847797684L -0.9998735613133438, 0.015901615847797684 L -0.999808831879775, 0.019552485652721205 L -0.9997307719548263, 0.02320309476356688 \", \"type\": \"path\"}, {\"fillcolor\": \"#bf4d28\", \"layer\": \"below\", \"line\": {\"color\": \"rgb(175,175,175)\", \"width\": 0.5}, \"path\": \"M -0.9981795824711485,-0.060311865646186326 Q -0.05731959099983285, -0.19161018889300196 0.8010815449024593, -0.5985552258703362L 0.8010815449024593, -0.5985552258703362 L 0.7914813891057673, -0.6111932678778498 L 0.7816818725254874, -0.6236773606321202 M 0.7816818725254874,-0.6236773606321202 Q -0.05768538168086016, -0.19150038313364673 -0.9961066170102202, -0.08815672151602817L -0.9961066170102202, -0.08815672151602817 L -0.9972402896795052, -0.07424152907865383 L -0.9981795824711485, -0.060311865646186326 \", \"type\": \"path\"}, {\"fillcolor\": \"#bf4d28\", \"layer\": \"below\", \"line\": {\"color\": \"rgb(175,175,175)\", \"width\": 0.5}, \"path\": \"M -0.998873200226309,0.04745871753062797 Q -0.04609332622294124, -0.1946160457868403 0.9140495871386384, -0.4056024559241286L 0.9140495871386384, -0.4056024559241286 L 0.9137441996643385, -0.4062899673629384 L 0.9134382950715966, -0.40697724886864983 M 0.9134382950715966,-0.40697724886864983 Q -0.046093426900426726, -0.19461602194211816 -0.9989434270730021, 0.04595682221004564L -0.9989434270730021, 0.04595682221004564 L -0.9989085959189595, 0.04670778306891521 L -0.998873200226309, 0.04745871753062797 \", \"type\": \"path\"}, {\"fillcolor\": \"#bf4d28\", \"layer\": \"below\", \"line\": {\"color\": \"rgb(175,175,175)\", \"width\": 0.5}, \"path\": \"M -0.9998525044624069,-0.01717467089211526 Q -0.014022542492816849, -0.19950781514025245 0.987619970862117, -0.15686552570374185L 0.987619970862117, -0.15686552570374185 L 0.9862718837088257, -0.16512955945391652 L 0.9848546474628369, -0.17338201570766004 M 0.9848546474628369,-0.17338201570766004 Q -0.013957553840140944, -0.19951237227500346 -0.9994023933245522, -0.034566692308597234L -0.9994023933245522, -0.034566692308597234 L -0.999665272570536, -0.025871660489348282 L -0.9998525044624069, -0.01717467089211526 \", \"type\": \"path\"}, {\"fillcolor\": \"#bf4d28\", \"layer\": \"below\", \"line\": {\"color\": \"rgb(175,175,175)\", \"width\": 0.5}, \"path\": \"M -0.9999666272632556,0.008169722134149534 Q -0.007222697197288908, -0.1998695390628504 0.9979480359548234, -0.0640290366467466L 0.9979480359548234, -0.0640290366467466 L 0.9976767590357609, -0.06812550535519224 L 0.9973886666270586, -0.07222082583229116 M 0.9973886666270586,-0.07222082583229116 Q -0.007098785463800012, -0.1998739784087437 -0.9999991795357703, -0.0012809870358911444L -0.9999991795357703, -0.0012809870358911444 L -0.9999940680160427, 0.003444406004829308 L -0.9999666272632556, 0.008169722134149534 \", \"type\": \"path\"}, {\"fillcolor\": \"#af4624\", \"layer\": \"below\", \"line\": {\"color\": \"rgb(175,175,175)\", \"width\": 0.5}, \"path\": \"M -0.99226473594252,-0.12413981555053627 Q -0.1953748984274024, -0.04276270646816213 -0.9533974516347337, -0.30171725044550524L -0.9533974516347337, -0.30171725044550524 L -0.953725525631894, -0.30067860209560543 L -0.95405246810721, -0.29963959701371423 M -0.95405246810721,-0.29963959701371423 Q -0.19537508265511505, -0.042761864757128655 -0.9919930361413595, -0.12629258191615042L -0.9919930361413595, -0.12629258191615042 L -0.9921294699380603, -0.12521627242664438 L -0.99226473594252, -0.12413981555053627 \", \"type\": \"path\"}, {\"fillcolor\": \"#af4624\", \"layer\": \"below\", \"line\": {\"color\": \"rgb(175,175,175)\", \"width\": 0.5}, \"path\": \"M -0.9919930361413595,-0.12629258191615042 Q -0.19038375657937842, -0.061270100626031235 -0.8794537788823205, -0.4759842968098913L -0.8794537788823205, -0.4759842968098913 L -0.8803249137325279, -0.474371211459778 L -0.881193089880885, -0.47275653178584276 M -0.881193089880885,-0.47275653178584276 Q -0.19039636793989093, -0.06123089967734983 -0.9915767296105846, -0.12952061339716375L -0.9915767296105846, -0.12952061339716375 L -0.9917861961875232, -0.12790676702928547 L -0.9919930361413595, -0.12629258191615042 \", \"type\": \"path\"}, {\"fillcolor\": \"#af4624\", \"layer\": \"below\", \"line\": {\"color\": \"rgb(175,175,175)\", \"width\": 0.5}, \"path\": \"M -0.9878685175793203,-0.1552926011619235 Q -0.17007573959692257, -0.10523422827464357 -0.5798434386766461, -0.8147279218387219L -0.5798434386766461, -0.8147279218387219 L -0.5832783517629913, -0.8122723461774679 L -0.5867028658830606, -0.809802288935147 M -0.5867028658830606,-0.809802288935147 Q -0.17013187317461317, -0.10514345310145252 -0.9866959779211237, -0.1625762810322503L -0.9866959779211237, -0.1625762810322503 L -0.9872889646505951, -0.15893552239558018 L -0.9878685175793203, -0.1552926011619235 \", \"type\": \"path\"}, {\"fillcolor\": \"#af4624\", \"layer\": \"below\", \"line\": {\"color\": \"rgb(175,175,175)\", \"width\": 0.5}, \"path\": \"M -0.9928460289847727,-0.11940168645864181 Q -0.13864838787067077, -0.1441409884136502 -0.08075820216397471, -0.9967337221059808L -0.08075820216397471, -0.9967337221059808 L -0.08100651513062633, -0.996713571948527 L -0.08125482306957958, -0.9966933599296883 M -0.08125482306957958,-0.9966933599296883 Q -0.1386373826636759, -0.14415157345018992 -0.9927680937039052, -0.12004795759826255L -0.9927680937039052, -0.12004795759826255 L -0.9928071139308876, -0.11972482836998159 L -0.9928460289847727, -0.11940168645864181 \", \"type\": \"path\"}, {\"fillcolor\": \"#af4624\", \"layer\": \"below\", \"line\": {\"color\": \"rgb(175,175,175)\", \"width\": 0.5}, \"path\": \"M -0.9888584629717494,-0.14885879285131026 Q -0.1295716097718526, -0.15235221672535898 0.011843499457364366, -0.9999298633007234L 0.011843499457364366, -0.9999298633007234 L 0.00807431743096146, -0.9999674021677027 L 0.00430502068350829, -0.9999907333555219 M 0.00430502068350829,-0.9999907333555219 Q -0.129649993712197, -0.15228551845276453 -0.9878685175793203, -0.1552926011619235L -0.9878685175793203, -0.1552926011619235 L -0.9883687254167757, -0.15207650251770763 L -0.9888584629717494, -0.14885879285131026 \", \"type\": \"path\"}, {\"fillcolor\": \"#af4624\", \"layer\": \"below\", \"line\": {\"color\": \"rgb(175,175,175)\", \"width\": 0.5}, \"path\": \"M -0.9718758143638533,-0.2354939520552429 Q -0.03681626260005574, -0.1965822036913915 0.8207915272629008, -0.5712278606418236L 0.8207915272629008, -0.5712278606418236 L 0.8110516394018069, -0.5849745620312403 L 0.8010815449024593, -0.5985552258703362 M 0.8010815449024593,-0.5985552258703362 Q -0.037184934816858306, -0.19651280014967473 -0.9643895950502642, -0.26448574433943944L -0.9643895950502642, -0.26448574433943944 L -0.9682412224897097, -0.25001786950462657 L -0.9718758143638533, -0.2354939520552429 \", \"type\": \"path\"}, {\"fillcolor\": \"#af4624\", \"layer\": \"below\", \"line\": {\"color\": \"rgb(175,175,175)\", \"width\": 0.5}, \"path\": \"M -0.9924521461549135,-0.12263253072698996 Q -0.029511880217647325, -0.1978106390617533 0.9134382950715966, -0.40697724886864983L 0.9134382950715966, -0.40697724886864983 L 0.9131318735335342, -0.4076643000523073 L 0.9128249352235658, -0.40835112052508554 M 0.9128249352235658,-0.40835112052508554 Q -0.029510463875311022, -0.19781085036434165 -0.99226473594252, -0.12413981555053627L -0.99226473594252, -0.12413981555053627 L -0.992358727223943, -0.12338620872073085 L -0.9924521461549135, -0.12263253072698996 \", \"type\": \"path\"}, {\"fillcolor\": \"#af4624\", \"layer\": \"below\", \"line\": {\"color\": \"rgb(175,175,175)\", \"width\": 0.5}, \"path\": \"M -0.9835690219545462,-0.18053248752337467 Q -0.00067937022716221, -0.19999884613690763 0.9823198470455414, -0.1872103578876558L 0.9823198470455414, -0.1872103578876558 L 0.9810998136764648, -0.19350234004788158 L 0.9798394791592611, -0.19978637361168566 M 0.9798394791592611,-0.19978637361168566 Q -0.0006159040419249377, -0.19999905165327947 -0.9810513811678109, -0.19374774194485653L -0.9810513811678109, -0.19374774194485653 L -0.9823324248076714, -0.1871443484892897 L -0.9835690219545462, -0.18053248752337467 \", \"type\": \"path\"}, {\"fillcolor\": \"#af4624\", \"layer\": \"below\", \"line\": {\"color\": \"rgb(175,175,175)\", \"width\": 0.5}, \"path\": \"M -0.9852848803157962,-0.17092017031669235 Q 0.011602296331240353, -0.1996631831856892 0.9984505269778688, -0.05564660975851109L 0.9984505269778688, -0.05564660975851109 L 0.9982080804071183, -0.05983835066189637 L 0.9979480359548234, -0.0640290366467466 M 0.9979480359548234,-0.0640290366467466 Q 0.011738743591110193, -0.19965520754265884 -0.9835690219545462, -0.18053248752337467L -0.9835690219545462, -0.18053248752337467 L -0.9844386833530108, -0.17572842319383253 L -0.9852848803157962, -0.17092017031669235 \", \"type\": \"path\"}, {\"fillcolor\": \"#9f4021\", \"layer\": \"below\", \"line\": {\"color\": \"rgb(175,175,175)\", \"width\": 0.5}, \"path\": \"M -0.9291828695034947,-0.36962033902539976 Q -0.1761995886099241, -0.09462401901046856 -0.8213301011805728, -0.5704532100836229L -0.8213301011805728, -0.5704532100836229 L -0.8276922942531065, -0.5611822039534299 L -0.8339498429707505, -0.551840248087307 M -0.8339498429707505,-0.551840248087307 Q -0.1763152014585318, -0.09440841982915164 -0.9215888846515172, -0.3881673964757634L -0.9215888846515172, -0.3881673964757634 L -0.9254323421134154, -0.37891289258941613 L -0.9291828695034947, -0.36962033902539976 \", \"type\": \"path\"}, {\"fillcolor\": \"#9f4021\", \"layer\": \"below\", \"line\": {\"color\": \"rgb(175,175,175)\", \"width\": 0.5}, \"path\": \"M -0.9344785692391813,-0.35601938659670296 Q -0.1536722954121548, -0.12800322504827538 -0.5190699957873386, -0.854731735384461L -0.5190699957873386, -0.854731735384461 L -0.5261638056209319, -0.8503832369317367 L -0.533221188304634, -0.845975865106679 M -0.533221188304634,-0.845975865106679 Q -0.1538031279110361, -0.12784599268174765 -0.9291828695034947, -0.36962033902539976L -0.9291828695034947, -0.36962033902539976 L -0.9318555338896943, -0.36282952465194 L -0.9344785692391813, -0.35601938659670296 \", \"type\": \"path\"}, {\"fillcolor\": \"#9f4021\", \"layer\": \"below\", \"line\": {\"color\": \"rgb(175,175,175)\", \"width\": 0.5}, \"path\": \"M -0.9518069579856364,-0.30669775794767207 Q -0.12363040941203163, -0.15721171034186177 -0.07363782623007671, -0.9972850497967515L -0.07363782623007671, -0.9972850497967515 L -0.07471441202819534, -0.997204972227516 L -0.07579091075044835, -0.9971237324663462 M -0.07579091075044835,-0.9971237324663462 Q -0.1235775101447878, -0.15725329562974147 -0.9509345744710649, -0.3093920410668879L -0.9509345744710649, -0.3093920410668879 L -0.9513717200044894, -0.3080452083310165 L -0.9518069579856364, -0.30669775794767207 \", \"type\": \"path\"}, {\"fillcolor\": \"#9f4021\", \"layer\": \"below\", \"line\": {\"color\": \"rgb(175,175,175)\", \"width\": 0.5}, \"path\": \"M -0.9116657692796083,-0.4109325067743121 Q -0.0956450508262535, -0.17564744305694685 0.14949157846703115, -0.9887629988867077L 0.14949157846703115, -0.9887629988867077 L 0.1340690640442909, -0.9909719905558824 L 0.1186140065556148, -0.9929404400309338 M 0.1186140065556148,-0.9929404400309338 Q -0.09600906914126206, -0.17544873508415035 -0.9002340339295819, -0.4354063437237363L -0.9002340339295819, -0.4354063437237363 L -0.9060325415740499, -0.4232080263993909 L -0.9116657692796083, -0.4109325067743121 \", \"type\": \"path\"}, {\"fillcolor\": \"#9f4021\", \"layer\": \"below\", \"line\": {\"color\": \"rgb(175,175,175)\", \"width\": 0.5}, \"path\": \"M -0.9496458353291986,-0.31332536993021903 Q -0.05229328866779295, -0.19304251334953884 0.6616530442399542, -0.7498101420012944L 0.6616530442399542, -0.7498101420012944 L 0.65936146011024, -0.7518260868853197 L 0.6570637337703197, -0.7538350282149314 M 0.6570637337703197,-0.7538350282149314 Q -0.05235680408223932, -0.1930252964414095 -0.9479253425474818, -0.3184926136604101L -0.9479253425474818, -0.3184926136604101 L -0.9487891066401505, -0.3159101630542853 L -0.9496458353291986, -0.31332536993021903 \", \"type\": \"path\"}, {\"fillcolor\": \"#9f4021\", \"layer\": \"below\", \"line\": {\"color\": \"rgb(175,175,175)\", \"width\": 0.5}, \"path\": \"M -0.9556060290061449,-0.2946474458180608 Q -0.012641967196798626, -0.199600051767015 0.9107950684000943, -0.4128587450667207L 0.9107950684000943, -0.4128587450667207 L 0.9106619120685991, -0.4131523712960668 L 0.9105286610765567, -0.4134459545794744 M 0.9105286610765567,-0.4134459545794744 Q -0.012641096728125998, -0.19960010689754193 -0.9554132615552988, -0.29527190798358427L -0.9554132615552988, -0.29527190798358427 L -0.9555096962944646, -0.2949596926484363 L -0.9556060290061449, -0.2946474458180608 \", \"type\": \"path\"}, {\"fillcolor\": \"#9f4021\", \"layer\": \"below\", \"line\": {\"color\": \"rgb(175,175,175)\", \"width\": 0.5}, \"path\": \"M -0.9545732215346037,-0.2979764499571208 Q 0.005325364702050118, -0.19992908865592862 0.9690823665936686, -0.2467374449839635L 0.9690823665936686, -0.2467374449839635 L 0.9688779854114447, -0.24753878359776352 L 0.9686729415987992, -0.24833995291601654 M 0.9686729415987992,-0.24833995291601654 Q 0.005334240086149815, -0.19992885205168193 -0.95405246810721, -0.29963959701371423L -0.95405246810721, -0.29963959701371423 L -0.9543132071310264, -0.2988081369295266 L -0.9545732215346037, -0.2979764499571208 \", \"type\": \"path\"}, {\"fillcolor\": \"#9f4021\", \"layer\": \"below\", \"line\": {\"color\": \"rgb(175,175,175)\", \"width\": 0.5}, \"path\": \"M -0.9509345744710649,-0.3093920410668879 Q 0.02183209572371802, -0.19880482789990395 0.9954149990111745, -0.09565029923415587L 0.9954149990111745, -0.09565029923415587 L 0.9952438655209748, -0.09741482506717279 L 0.9950696041404489, -0.09917904474116726 M 0.9950696041404489,-0.09917904474116726 Q 0.021891086625609343, -0.19879834085411796 -0.9496458353291986, -0.31332536993021903L -0.9496458353291986, -0.31332536993021903 L -0.9502922399441769, -0.31135937227242577 L -0.9509345744710649, -0.3093920410668879 \", \"type\": \"path\"}, {\"fillcolor\": \"#8f391e\", \"layer\": \"below\", \"line\": {\"color\": \"rgb(175,175,175)\", \"width\": 0.5}, \"path\": \"M -0.7500381915851804,-0.6613945200586654 Q -0.10941043274874325, -0.167419703755958 -0.30463722939080873, -0.9524684553669438L -0.30463722939080873, -0.9524684553669438 L -0.3429379371774828, -0.9393580633839542 L -0.3806766291523075, -0.9247082264245499 M -0.3806766291523075,-0.9247082264245499 Q -0.10951787176248236, -0.16734944208038602 -0.6950095502517812, -0.7190005042131867L -0.6950095502517812, -0.7190005042131867 L -0.7230977502382565, -0.6907457155859686 L -0.7500381915851804, -0.6613945200586654 \", \"type\": \"path\"}, {\"fillcolor\": \"#8f391e\", \"layer\": \"below\", \"line\": {\"color\": \"rgb(175,175,175)\", \"width\": 0.5}, \"path\": \"M -0.8704600551088227,-0.49223906027452285 Q -0.1051409643675842, -0.17013341121559397 -0.05092869774019184, -0.9987022918500228L -0.05092869774019184, -0.9987022918500228 L -0.053582444434318206, -0.9985634289560394 L -0.056235812747739894, -0.9984175145522043 M -0.056235812747739894,-0.9984175145522043 Q -0.10492759873548921, -0.17026508456992634 -0.8665831709775478, -0.4990326720551453L -0.8665831709775478, -0.4990326720551453 L -0.8685282555066317, -0.4956396567937307 L -0.8704600551088227, -0.49223906027452285 \", \"type\": \"path\"}, {\"fillcolor\": \"#8f391e\", \"layer\": \"below\", \"line\": {\"color\": \"rgb(175,175,175)\", \"width\": 0.5}, \"path\": \"M -0.7988386251939646,-0.6015453855680521 Q -0.048300780158667705, -0.1940799696930728 0.4237047257685409, -0.9058003672782461L 0.4237047257685409, -0.9058003672782461 L 0.38741631460531134, -0.9219048753410725 L 0.3505172563110134, -0.9365562732843122 M 0.3505172563110134,-0.9365562732843122 Q -0.048510923322542254, -0.1940275504107456 -0.7500381915851804, -0.6613945200586654L -0.7500381915851804, -0.6613945200586654 L -0.7750163405463095, -0.6319411933765727 L -0.7988386251939646, -0.6015453855680521 \", \"type\": \"path\"}, {\"fillcolor\": \"#8f391e\", \"layer\": \"below\", \"line\": {\"color\": \"rgb(175,175,175)\", \"width\": 0.5}, \"path\": \"M -0.8665831709775478,-0.4990326720551453 Q -0.02927396220746591, -0.19784598842704862 0.684938330244481, -0.7286010456771951L 0.684938330244481, -0.7286010456771951 L 0.6806569494360614, -0.7326022912770578 L 0.6763521947400508, -0.7365783791765249 M 0.6763521947400508,-0.7365783791765249 Q -0.029272687607073883, -0.19784617701704188 -0.8606685063605393, -0.5091657118847639L -0.8606685063605393, -0.5091657118847639 L -0.8636407000835798, -0.5041078665912129 L -0.8665831709775478, -0.4990326720551453 \", \"type\": \"path\"}, {\"fillcolor\": \"#8f391e\", \"layer\": \"below\", \"line\": {\"color\": \"rgb(175,175,175)\", \"width\": 0.5}, \"path\": \"M -0.8774682682160729,-0.47963469252534885 Q 0.009438706205536794, -0.19977715291085107 0.918780488607726, -0.39476881051287266L 0.918780488607726, -0.39476881051287266 L 0.9175456874199798, -0.3976303704409369 L 0.9163019738731483, -0.40048806808214926 M 0.9163019738731483,-0.40048806808214926 Q 0.009524156589630592, -0.19977309739115576 -0.8740462696165797, -0.4858426891179297L -0.8740462696165797, -0.4858426891179297 L -0.8757627697414444, -0.4827417230101349 L -0.8774682682160729, -0.47963469252534885 \", \"type\": \"path\"}, {\"fillcolor\": \"#8f391e\", \"layer\": \"below\", \"line\": {\"color\": \"rgb(175,175,175)\", \"width\": 0.5}, \"path\": \"M -0.886113379013329,-0.46346853133042426 Q 0.022734568897051166, -0.19870364711566124 0.9678981281483184, -0.2513428207189959L 0.9678981281483184, -0.2513428207189959 L 0.96784614285545, -0.25154292627666525 L 0.9677941161922838, -0.2517430210822064 M 0.9677941161922838,-0.2517430210822064 Q 0.02274205794440927, -0.19870279011743427 -0.8858866949178741, -0.4639016746763105L -0.8858866949178741, -0.4639016746763105 L -0.8860000634347249, -0.46368511685589325 L -0.886113379013329, -0.46346853133042426 \", \"type\": \"path\"}, {\"fillcolor\": \"#8f391e\", \"layer\": \"below\", \"line\": {\"color\": \"rgb(175,175,175)\", \"width\": 0.5}, \"path\": \"M -0.8858866949178741,-0.4639016746763105 Q 0.03733838756973085, -0.1964837011400502 0.9943015731442157, -0.1066038537902729L 0.9943015731442157, -0.1066038537902729 L 0.9942716939987625, -0.10688217116447087 L 0.9942417369488169, -0.10716048016409631 M 0.9942417369488169,-0.10716048016409631 Q 0.037355430360616525, -0.19648046168149425 -0.8855462718055924, -0.46455118177787014L -0.8855462718055924, -0.46455118177787014 L -0.885716542898203, -0.4642264594316611 L -0.8858866949178741, -0.4639016746763105 \", \"type\": \"path\"}, {\"fillcolor\": \"#f0f3e7\", \"layer\": \"below\", \"line\": {\"color\": \"rgb(175,175,175)\", \"width\": 0.5}, \"path\": \"M -0.5557195521405116,-0.8313698210596469 Q -0.06163611874253392, -0.1902655745697478 -0.03732300577705589, -0.9993032538923137L -0.03732300577705589, -0.9993032538923137 L -0.04114004369846409, -0.999153390028022 L -0.04495648129457773, -0.9989889462799928 M -0.04495648129457773,-0.9989889462799928 Q -0.06127590188491954, -0.1903818894963219 -0.5461848654207149, -0.8376646660719047L -0.5461848654207149, -0.8376646660719047 L -0.550961198841324, -0.8345308606464659 L -0.5557195521405116, -0.8313698210596469 \", \"type\": \"path\"}, {\"fillcolor\": \"#f0f3e7\", \"layer\": \"below\", \"line\": {\"color\": \"rgb(175,175,175)\", \"width\": 0.5}, \"path\": \"M -0.30463722939080873,-0.9524684553669438 Q 0.0223998834017431, -0.1987416544753221 0.509004042024363, -0.8607641286687431L 0.509004042024363, -0.8607641286687431 L 0.46689771586126044, -0.8843113269225594 L 0.4237047257685409, -0.9058003672782461 M 0.4237047257685409,-0.9058003672782461 Q 0.022288609047662694, -0.19875416450157832 -0.21254758765253712, -0.9771507166159614L -0.21254758765253712, -0.9771507166159614 L -0.2588867266781574, -0.9659076885240478 L -0.30463722939080873, -0.9524684553669438 \", \"type\": \"path\"}, {\"fillcolor\": \"#f0f3e7\", \"layer\": \"below\", \"line\": {\"color\": \"rgb(175,175,175)\", \"width\": 0.5}, \"path\": \"M -0.4779530065153341,-0.8783854071892093 Q 0.039639300325401965, -0.19603246126525217 0.7816818725254874, -0.6236773606321202L 0.7816818725254874, -0.6236773606321202 L 0.7723062658058871, -0.635250369379638 L 0.7627593333419971, -0.646682456387733 M 0.7627593333419971,-0.646682456387733 Q 0.03968959764237989, -0.19602228403675434 -0.4511210118769426, -0.8924627906210564L -0.4511210118769426, -0.8924627906210564 L -0.46459033146845036, -0.8855257330569425 L -0.4779530065153341, -0.8783854071892093 \", \"type\": \"path\"}, {\"fillcolor\": \"#f0f3e7\", \"layer\": \"below\", \"line\": {\"color\": \"rgb(175,175,175)\", \"width\": 0.5}, \"path\": \"M -0.5461848654207149,-0.8376646660719047 Q 0.06175413716122137, -0.19022730230824667 0.9340549266548652, -0.3571293799056225L 0.9340549266548652, -0.3571293799056225 L 0.93165462085579, -0.36334510790439195 L 0.9292129526264289, -0.36954470456397304 M 0.9292129526264289,-0.36954470456397304 Q 0.061951281515942716, -0.1901631897043495 -0.533221188304634, -0.845975865106679L -0.533221188304634, -0.845975865106679 L -0.5397190252456191, -0.841845219614579 L -0.5461848654207149, -0.8376646660719047 \", \"type\": \"path\"}, {\"fillcolor\": \"#f0f3e7\", \"layer\": \"below\", \"line\": {\"color\": \"rgb(175,175,175)\", \"width\": 0.5}, \"path\": \"M -0.5998983499734128,-0.8000762274303472 Q 0.06683109183787446, -0.18850359456455357 0.9698932622295613, -0.24353040853597618L 0.9698932622295613, -0.24353040853597618 L 0.9694891405081878, -0.24513426206202865 L 0.9690823665936686, -0.2467374449839635 M 0.9690823665936686,-0.2467374449839635 Q 0.06689386353892383, -0.18848132804295453 -0.5967141134491917, -0.802453903230924L -0.5967141134491917, -0.802453903230924 L -0.5983074128239865, -0.801266647103115 L -0.5998983499734128, -0.8000762274303472 \", \"type\": \"path\"}, {\"fillcolor\": \"#f0f3e7\", \"layer\": \"below\", \"line\": {\"color\": \"rgb(175,175,175)\", \"width\": 0.5}, \"path\": \"M -0.5931205855679695,-0.8051136385476954 Q 0.08295330412700216, -0.18198557452285358 0.996762055046856, -0.08040774601223702L 0.996762055046856, -0.08040774601223702 L 0.9965175327689909, -0.08338349287480719 L 0.996264126676301, -0.08635849638516838 M 0.996264126676301,-0.08635849638516838 Q 0.08313310696236761, -0.18190350883582085 -0.5867028658830606, -0.809802288935147L -0.5867028658830606, -0.809802288935147 L -0.5899163839130671, -0.807464339764259 L -0.5931205855679695, -0.8051136385476954 \", \"type\": \"path\"}, {\"fillcolor\": \"#e2ecde\", \"layer\": \"below\", \"line\": {\"color\": \"rgb(175,175,175)\", \"width\": 0.5}, \"path\": \"M -0.03732300577705589,-0.9993032538923137 Q 0.002853878502599525, -0.19997963740714306 0.0658238038321978, -0.9978312617116485L 0.0658238038321978, -0.9978312617116485 L 0.058675903658391114, -0.9982770849467953 L 0.05152499392500717, -0.9986717053171317 M 0.05152499392500717,-0.9986717053171317 Q 0.0023682499243815967, -0.1999859779891972 -0.02786116102094553, -0.9996118025046348L -0.02786116102094553, -0.9996118025046348 L -0.03259244852491122, -0.999468725023025 L -0.03732300577705589, -0.9993032538923137 \", \"type\": \"path\"}, {\"fillcolor\": \"#e2ecde\", \"layer\": \"below\", \"line\": {\"color\": \"rgb(175,175,175)\", \"width\": 0.5}, \"path\": \"M -0.07363782623007671,-0.9972850497967515 Q 0.06268512586251627, -0.18992254999236002 0.6528199405620221, -0.7575131188333295L 0.6528199405620221, -0.7575131188333295 L 0.6512463646386256, -0.7588663733128345 L 0.6496699835113222, -0.7602163590218237 M 0.6496699835113222,-0.7602163590218237 Q 0.06255905946832747, -0.1899641126066665 -0.07082173774479378, -0.9974889881411261L -0.07082173774479378, -0.9974889881411261 L -0.07222985396402586, -0.9973880128597573 L -0.07363782623007671, -0.9972850497967515 \", \"type\": \"path\"}, {\"fillcolor\": \"#e2ecde\", \"layer\": \"below\", \"line\": {\"color\": \"rgb(175,175,175)\", \"width\": 0.5}, \"path\": \"M -0.078771519283081,-0.996892696206485 Q 0.10207968881944812, -0.1719876074911348 0.9128249352235658, -0.40835112052508554L 0.9128249352235658, -0.40835112052508554 L 0.9125174803153978, -0.40903770989828986 L 0.9122095089830294, -0.40972406778335624 M 0.9122095089830294,-0.40972406778335624 Q 0.10205028018812586, -0.17200505897654583 -0.07761247593313683, -0.9969836024627127L -0.07761247593313683, -0.9969836024627127 L -0.07819201081909477, -0.9969383177730037 L -0.078771519283081, -0.996892696206485 \", \"type\": \"path\"}, {\"fillcolor\": \"#e2ecde\", \"layer\": \"below\", \"line\": {\"color\": \"rgb(175,175,175)\", \"width\": 0.5}, \"path\": \"M -0.0797649003286217,-0.9968137040969918 Q 0.11620544144065303, -0.1627768269121344 0.9686729415987992, -0.24833995291601654L 0.9686729415987992, -0.24833995291601654 L 0.9685187239724427, -0.24894071847488397 L 0.9683641337546735, -0.2495413882656762 M 0.9683641337546735,-0.2495413882656762 Q 0.11618558418337627, -0.1627910010656842 -0.078771519283081, -0.996892696206485L -0.078771519283081, -0.996892696206485 L -0.0792682196454721, -0.9968533238918538 L -0.0797649003286217, -0.9968137040969918 \", \"type\": \"path\"}, {\"fillcolor\": \"#e2ecde\", \"layer\": \"below\", \"line\": {\"color\": \"rgb(175,175,175)\", \"width\": 0.5}, \"path\": \"M -0.08158589247401657,-0.9966663143445845 Q 0.1274138218414671, -0.15416133757771722 0.9942016730348482, -0.10753154576545848L 0.9942016730348482, -0.10753154576545848 L 0.9941815891448439, -0.10771707295240104 L 0.9941614706337585, -0.10790259638823572 M 0.9941614706337585,-0.10790259638823572 Q 0.1274106576595328, -0.15416395270868394 -0.08125482306957958, -0.9966933599296883L -0.08125482306957958, -0.9966933599296883 L -0.0814203588947718, -0.9966798508836459 L -0.08158589247401657, -0.9966663143445845 \", \"type\": \"path\"}, {\"fillcolor\": \"#d4e5d6\", \"layer\": \"below\", \"line\": {\"color\": \"rgb(175,175,175)\", \"width\": 0.5}, \"path\": \"M 0.1819539696044706,-0.9833070491688624 Q 0.11136965897778822, -0.16612284327921661 0.8404969817377702, -0.5418162268608225L 0.8404969817377702, -0.5418162268608225 L 0.830774420998164, -0.5566092537994363 L 0.8207915272629008, -0.5712278606418236 M 0.8207915272629008,-0.5712278606418236 Q 0.11145542451148448, -0.1660653134973249 0.21765427704879925, -0.9760259298207014L 0.21765427704879925, -0.9760259298207014 L 0.19983728724406183, -0.9798290966423351 L 0.1819539696044706, -0.9833070491688624 \", \"type\": \"path\"}, {\"fillcolor\": \"#d4e5d6\", \"layer\": \"below\", \"line\": {\"color\": \"rgb(175,175,175)\", \"width\": 0.5}, \"path\": \"M 0.08236325646146463,-0.9966023750649318 Q 0.1212331129968745, -0.1590676972646774 0.9391008782022566, -0.34364158735483447L 0.9391008782022566, -0.34364158735483447 L 0.9366021820679558, -0.3503945669463837 L 0.9340549266548652, -0.3571293799056225 M 0.9340549266548652,-0.3571293799056225 Q 0.12142673809781215, -0.15891993982796915 0.09913011075115624, -0.9950744801985746L 0.09913011075115624, -0.9950744801985746 L 0.09074989918024455, -0.9958737147845481 L 0.08236325646146463, -0.9966023750649318 \", \"type\": \"path\"}, {\"fillcolor\": \"#d4e5d6\", \"layer\": \"below\", \"line\": {\"color\": \"rgb(175,175,175)\", \"width\": 0.5}, \"path\": \"M 0.0035511522802854066,-0.9999936946388623 Q 0.12269448626480808, -0.15794322726921475 0.9680538357829251, -0.2507424396187558L 0.9680538357829251, -0.2507424396187558 L 0.9679760285134524, -0.2510426422409624 L 0.9678981281483184, -0.2513428207189959 M 0.9678981281483184,-0.2513428207189959 Q 0.1227050390038464, -0.15793502905645895 0.00430502068350829, -0.9999907333555219L 0.00430502068350829, -0.9999907333555219 L 0.003928086760951698, -0.9999922850374389 L 0.0035511522802854066, -0.9999936946388623 \", \"type\": \"path\"}, {\"fillcolor\": \"#d4e5d6\", \"layer\": \"below\", \"line\": {\"color\": \"rgb(175,175,175)\", \"width\": 0.5}, \"path\": \"M 0.04047993396731593,-0.9991803515612193 Q 0.1391554955594398, -0.1436514812161947 0.9973886666270586, -0.07222082583229116L 0.9973886666270586, -0.07222082583229116 L 0.9970837635844125, -0.07631492905286129 L 0.996762055046856, -0.08040774601223702 M 0.996762055046856,-0.08040774601223702 Q 0.13935976592978472, -0.1434533221643738 0.05152499392500717, -0.9986717053171317L 0.05152499392500717, -0.9986717053171317 L 0.04600316694933404, -0.998941293885998 L 0.04047993396731593, -0.9991803515612193 \", \"type\": \"path\"}, {\"fillcolor\": \"#c6decd\", \"layer\": \"below\", \"line\": {\"color\": \"rgb(175,175,175)\", \"width\": 0.5}, \"path\": \"M 0.6941337705154731,-0.7198460311969307 Q 0.16607123781607577, -0.11144659694327326 0.9292129526264289, -0.36954470456397304L 0.9292129526264289, -0.36954470456397304 L 0.9268107674349662, -0.375528695796485 L 0.9243700467078402, -0.3814970730547555 M 0.9243700467078402,-0.3814970730547555 Q 0.1661689027570351, -0.11130092432914925 0.7046047544941217, -0.7095999858682908L 0.7046047544941217, -0.7095999858682908 L 0.699388025846685, -0.7147421837993589 L 0.6941337705154731, -0.7198460311969307 \", \"type\": \"path\"}, {\"fillcolor\": \"#c6decd\", \"layer\": \"below\", \"line\": {\"color\": \"rgb(175,175,175)\", \"width\": 0.5}, \"path\": \"M 0.7309494599836639,-0.6824315987332285 Q 0.18049573179021697, -0.08614691408004158 0.9902816095022297, -0.13907671940937358L 0.9902816095022297, -0.13907671940937358 L 0.988990786513853, -0.14797710698182492 L 0.987619970862117, -0.15686552570374185 M 0.987619970862117,-0.15686552570374185 Q 0.18063572437385045, -0.08585298527095221 0.7452801525127494, -0.6667514486452751L 0.7452801525127494, -0.6667514486452751 L 0.738156442754192, -0.6746295768942221 L 0.7309494599836639, -0.6824315987332285 \", \"type\": \"path\"}, {\"fillcolor\": \"#c6decd\", \"layer\": \"below\", \"line\": {\"color\": \"rgb(175,175,175)\", \"width\": 0.5}, \"path\": \"M 0.7171403135021013,-0.6969288132586483 Q 0.18411384440069747, -0.07811589018884547 0.9995065603657315, -0.031410759078131914L 0.9995065603657315, -0.031410759078131914 L 0.9992369825373447, -0.03905704455872535 L 0.998908911020888, -0.04670104370422384 M 0.998908911020888,-0.04670104370422384 Q 0.18429767557763735, -0.07768118676153149 0.7309494599836639, -0.6824315987332285L 0.7309494599836639, -0.6824315987332285 L 0.7240811697080398, -0.6897147668958792 L 0.7171403135021013, -0.6969288132586483 \", \"type\": \"path\"}, {\"fillcolor\": \"#b8d7c5\", \"layer\": \"below\", \"line\": {\"color\": \"rgb(175,175,175)\", \"width\": 0.5}, \"path\": \"M 0.9104397744995082,-0.41364165289448873 Q 0.1885129539135867, -0.06680468701201996 0.9677420481610438, -0.25194310512706647L 0.9677420481610438, -0.25194310512706647 L 0.9677159986330914, -0.2520431431115684 L 0.9676899387639555, -0.25214317840269285 M 0.9676899387639555,-0.25214317840269285 Q 0.18851322750377997, -0.06680391497590618 0.9105286610765567, -0.4134459545794744L 0.9105286610765567, -0.4134459545794744 L 0.9104842230459257, -0.4135438061251275 L 0.9104397744995082, -0.41364165289448873 \", \"type\": \"path\"}, {\"fillcolor\": \"#b8d7c5\", \"layer\": \"below\", \"line\": {\"color\": \"rgb(175,175,175)\", \"width\": 0.5}, \"path\": \"M 0.9107950684000943,-0.4128587450667207 Q 0.1929800963935234, -0.05252316056699583 0.994400607622158, -0.10567606900657803L 0.994400607622158, -0.10567606900657803 L 0.9943511985925213, -0.10613997294900869 L 0.9943015731442157, -0.1066038537902729 M 0.9943015731442157,-0.1066038537902729 Q 0.19298381555118796, -0.052509493763557326 0.911238239001261, -0.4118796811957114L 0.911238239001261, -0.4118796811957114 L 0.9110167852248918, -0.4123692726652938 L 0.9107950684000943, -0.4128587450667207 \", \"type\": \"path\"}, {\"fillcolor\": \"#aad0bc\", \"layer\": \"below\", \"line\": {\"color\": \"rgb(175,175,175)\", \"width\": 0.5}, \"path\": \"M 0.970743209739482,-0.2401200132114938 Q 0.1972176723937793, -0.0332443934458121 0.9958163654852337, -0.09137705528074082L 0.9958163654852337, -0.09137705528074082 L 0.9956179748739112, -0.09351389259341052 L 0.9954149990111745, -0.09565029923415587 M 0.9954149990111745,-0.09565029923415587 Q 0.1972253656291931, -0.03319872215057541 0.9718740494994618, -0.23550123547344234L 0.9718740494994618, -0.23550123547344234 L 0.9713113750235837, -0.23781129651426391 L 0.970743209739482, -0.2401200132114938 \", \"type\": \"path\"}, {\"fillcolor\": \"#f2e6ce\", \"layer\": \"below\", \"line\": {\"color\": \"rgb(150,150,150)\", \"width\": 0.45}, \"path\": \"M 1.1, 0.0 L 1.099713297726551, 0.025113000684799748 L 1.098853340357464, 0.05021291054343683 L 1.097420576168618, 0.07528664557369336 L 1.0954157520268306, 0.1003211354176838 L 1.0928399130005375, 0.12530333017513012 L 1.0896944018150203, 0.1502202072059729 L 1.085980858152475, 0.17505877791877203 L 1.0817012177972851, 0.19980609454135928 L 1.07685771162694, 0.22444925687021197 L 1.0714528644491317, 0.24897541899503062 L 1.06548949368563, 0.273371795995015 L 1.0589707079036266, 0.29762567060334727 L 0.9627006435487514, 0.2705687914575884 L 0.9686268124414817, 0.2485198145409227 L 0.9740480585901196, 0.22634128999548236 L 0.9789615560244908, 0.20404477897291995 L 0.9833647434520773, 0.18164190412850842 L 0.9872553255931591, 0.15914434356252002 L 0.990631274377291, 0.13656382473270262 L 0.9934908300004887, 0.11391211834102738 L 0.9958325018425732, 0.09120103219789436 L 0.997655069244198, 0.06844240506699395 L 0.9989575821431491, 0.04564810049403348 L 0.9997393615695916, 0.022830000622545223 L 1.0, 0.0 L 1.1 ,0.0\", \"type\": \"path\"}, {\"fillcolor\": \"#ecd5bb\", \"layer\": \"below\", \"line\": {\"color\": \"rgb(150,150,150)\", \"width\": 0.45}, \"path\": \"M 1.0490995215500296, 0.3307418840780516 L 1.0420012662876854, 0.35246753191586383 L 1.0344531515201263, 0.3740410101981852 L 1.026458435968128, 0.3954530050838718 L 1.0180205711618362, 0.41669427244843305 L 1.0091431999506502, 0.4377556418749647 L 0.999830154930508, 0.4586280206132598 L 0.9900854567892536, 0.47930239750539044 L 0.9799133125707996, 0.49976984687606213 L 0.9693181138588353, 0.5200215323860641 L 0.9583044348808634, 0.5400487108471507 L 0.9468770305333853, 0.5598427359967071 L 0.9350408343290867, 0.5793950622305696 L 0.9228009562669095, 0.5986972482923881 L 0.91016268062593, 0.6177409609179414 L 0.8971314636839959, 0.636517978432826 L 0.8837129313621069, 0.6550201943019712 L 0.8699128767955563, 0.6732396206294453 L 0.8557372578328802, 0.6911683916070404 L 0.8411921944636976, 0.7087987669101499 L 0.8262839661765489, 0.7261231350394725 L 0.8110190092478741, 0.7431340166070969 L 0.7954039139633029, 0.7598240675655509 L 0.7794454217724531, 0.7761860823784222 L 0.7631504223784693, 0.7922129971311781 L 0.7465259507635557, 0.8078978925808443 L 0.7295791841517875, 0.8232339971432255 L 0.7123174389105145, 0.8382146898163774 L 0.6947481673916911, 0.8528335030390674 L 0.6768789547144993, 0.8670841254829932 L 0.6587175154906518, 0.8809604047775491 L 0.64027169049379, 0.8944563501659678 L 0.6215494432744152, 0.9075661350916884 L 0.6025588567218128, 0.9202840997138341 L 0.5833081295744554, 0.9326047533507164 L 0.5638055728803901, 0.9445227768503073 L 0.5440596064091399, 0.9560330248866573 L 0.5240787550166663, 0.9671305281812694 L 0.5038716449649636, 0.9778104956484676 L 0.48344700019787307, 0.9880683164638354 L 0.46281363857472596, 0.9978995620548309 L 0.4419804680634402, 1.0072999880127183 L 0.4209564828947154, 1.0162655359249921 L 0.3997507596789857, 1.0247923351275 L 0.37837245348780596, 1.0328767043755118 L 0.35683079390136657, 1.0405151534330102 L 0.3351350810238387, 1.0477043845795173 L 0.304668255476217, 0.9524585314359248 L 0.3243916308194241, 0.9459228667572819 L 0.3439749577161872, 0.9389788221595561 L 0.3634097815263506, 0.9316293955704543 L 0.3826877117224685, 0.9238777599318109 L 0.40180042551221834, 0.9157272618297438 L 0.42073967143156904, 0.9071814200498461 L 0.4394972729071573, 0.8982439240580321 L 0.45806513178633057, 0.8889186324076978 L 0.47643523183333303, 0.8792095710738812 L 0.49459964219012714, 0.8691209317151429 L 0.5125505208003546, 0.8586570698639157 L 0.5302801177949594, 0.8478225030461057 L 0.5477807788380116, 0.8366219088307582 L 0.5650449484312865, 0.8250601228106257 L 0.5820651731761727, 0.8131421365145162 L 0.5988341049915016, 0.8008730952523173 L 0.6153445042859085, 0.7882582958936301 L 0.6315892430833555, 0.7753031845809703 L 0.6475613081004676, 0.7620133543785248 L 0.6632538037743522, 0.7483945428574778 L 0.678659955239596, 0.7344526296189493 L 0.6937731112531539, 0.7201936337556164 L 0.7085867470658664, 0.7056237112531111 L 0.7230944672393662, 0.6907491523323189 L 0.7372900084071582, 0.6755763787337243 L 0.7511672419786807, 0.6601119409449749 L 0.7647201767851796, 0.6443625153728635 L 0.7779429616662547, 0.6283349014609457 L 0.7908298879959602, 0.6120360187540411 L 0.8033753921473699, 0.5954729039108829 L 0.8155740578945416, 0.5786527076662054 L 0.8274206187508454, 0.561582691743583 L 0.838909960242645, 0.5442702257203528 L 0.8500371221173515, 0.5267227838459723 L 0.8607973004848957, 0.5089479418151882 L 0.8711858498916939, 0.4909533734974097 L 0.8811982853262138, 0.47274684762369457 L 0.8908302841552723, 0.4543362244327837 L 0.9000776879902305, 0.43572945227762766 L 0.9089365044822799, 0.41693456419387254 L 0.9174029090460455, 0.39795967443178604 L 0.9254732465107601, 0.37881297495312094 L 0.933144032698298, 0.3595027318944289 L 0.9404119559273875, 0.34003728199835015 L 0.9472738784433502, 0.32042502901442166 L 0.953726837772754, 0.300674440070956 L 1.0490995215500296 ,0.3307418840780516\", \"type\": \"path\"}, {\"fillcolor\": \"#e6c4a9\", \"layer\": \"below\", \"line\": {\"color\": \"rgb(150,150,150)\", \"width\": 0.45}, \"path\": \"M 0.3020605220829019, 1.0577142529998378 L 0.27908884096773656, 1.0640063058306026 L 0.25598631376352865, 1.0697995172768402 L 0.23276377169993712, 1.0750911712892166 L 0.20943210227356002, 1.0798787869651285 L 0.18600224414351615, 1.084160119711833 L 0.16248518200304024, 1.0879331622987871 L 0.13889194142949335, 1.091196145798704 L 0.11523358371520927, 1.0939475404168841 L 0.09152120068159247, 1.096186056208434 L 0.06776590947890594, 1.0979106436830353 L 0.0439788473741837, 1.0991204942969803 L 0.02017116652970957, 1.0998150408322442 L -0.0036459712254838053, 1.0999939576624151 L -0.027461399628651628, 1.0996571609053594 L -0.05126395321844971, 1.098804808462548 L -0.07504247256967286, 1.0974372999450266 L -0.09878580952516222, 1.0955552764860652 L -0.12248283242243088, 1.0931596204405736 L -0.1461224313125564, 1.0902514549714242 L -0.1696935231688918, 1.0868321435228758 L -0.19318505708315614, 1.082903289181346 L -0.21658601944646488, 1.0784667339238312 L -0.23988543911287652, 1.0735245577543266 L -0.2630723925430267, 1.068079077728652 L -0.23915672049366066, 0.9709809797533199 L -0.21807767192079683, 0.9759314161402969 L -0.19689638131496806, 0.9804243035671192 L -0.17562277916650557, 0.9844575356194054 L -0.1542668392444471, 0.9880292213844325 L -0.1328385739205058, 0.9911376863376583 L -0.11134802947493716, 0.9937814731277941 L -0.0898052813865111, 0.9959593422600591 L -0.0682204296087935, 0.9976702726772968 L -0.04660359383495428, 0.9989134622386799 L -0.02496490875331966, 0.9996883280957812 L -0.003314519295894368, 0.9999945069658318 L 0.018337424117917788, 0.9998318553020401 L 0.039980770340167, 0.9992004493608911 L 0.06160537225355085, 0.9981005851663957 L 0.08320109152872042, 0.9965327783713035 L 0.10475780337746296, 0.9944977640153491 L 0.1262654012995394, 0.9919964961806399 L 0.14771380182094565, 0.9890301475443518 L 0.1690929492213783, 0.985600108828939 L 0.19039282024869092, 0.9817079881501167 L 0.21160342881812463, 0.9773556102629242 L 0.23271483069411691, 0.9725450157062183 L 0.25371712815248776, 0.9672784598460022 L 0.2746004746208199, 0.9615584118180344 L 0.3020605220829019 ,1.0577142529998378\", \"type\": \"path\"}, {\"fillcolor\": \"#e1b396\", \"layer\": \"below\", \"line\": {\"color\": \"rgb(150,150,150)\", \"width\": 0.45}, \"path\": \"M -0.29649175678478834, 1.0592887416368921 L -0.3199400615614322, 1.0524439923378663 L -0.3432305979206599, 1.0450802632578162 L -0.36635188086417464, 1.0372011855890264 L -0.3892925088556984, 1.0288106446517922 L -0.41204116944328295, 1.0199127779784956 L -0.4345866448376908, 1.01051197327331 L -0.4569178174440967, 1.0006128662485425 L -0.4790236753443804, 0.990220338338676 L -0.5008933177273104, 0.9793395142932444 L -0.5225159602639364, 0.967975759649722 L -0.543880940425544, 0.9561346780876772 L -0.564977722741546, 0.9438221086654927 L -0.5857959039947199, 0.9310441229410178 L -0.6063252183512289, 0.9178070219775695 L -0.6265555424228955, 0.9041173332367605 L -0.6464769002592338, 0.8899818073596858 L -0.6660794682667768, 0.875407414838056 L -0.6853535800532734, 0.8604013425769171 L -0.6230487091393394, 0.7821830387062882 L -0.6055267893334334, 0.7958249225800508 L -0.5877062729629398, 0.809074370326987 L -0.5695959476571777, 0.8219248483970549 L -0.5512047439556625, 0.8343700199796086 L -0.5325417309042908, 0.846403748128198 L -0.5136161115832236, 0.8580200987868114 L -0.49443721856867634, 0.8692133437160701 L -0.47501450933085126, 0.8799779633179291 L -0.4553575615702821, 0.8903086493574949 L -0.43547606849489123, 0.9002003075806144 L -0.4153798340400879, 0.9096480602259476 L -0.39507876803426434, 0.9186472484302818 L -0.3745828813120754, 0.927193434525905 L -0.3539022807779076, 0.9352824042289019 L -0.3330471644219769, 0.9429101687172966 L -0.312027816291509, 0.9500729665980147 L -0.29085460141948377, 0.9567672657616967 L -0.26953796071344394, 0.9629897651244472 L -0.29649175678478834 ,1.0592887416368921\", \"type\": \"path\"}, {\"fillcolor\": \"#dba284\", \"layer\": \"below\", \"line\": {\"color\": \"rgb(150,150,150)\", \"width\": 0.45}, \"path\": \"M -0.7120412587155689, 0.838449310266726 L -0.731018012305031, 0.8219566081525239 L -0.7496128685520765, 0.8050345006899564 L -0.7678161131595695, 0.7876918283012281 L -0.7856182364155435, 0.7699376511194469 L -0.7141983967414032, 0.6999433191994971 L -0.6980146483268813, 0.7160834802738436 L -0.6814662441382513, 0.7318495460817785 L -0.66456182936821, 0.7472332801386581 L -0.6473102351959716, 0.7622266456970236 L -0.7120412587155689 ,0.838449310266726\", \"type\": \"path\"}, {\"fillcolor\": \"#d59171\", \"layer\": \"below\", \"line\": {\"color\": \"rgb(150,150,150)\", \"width\": 0.45}, \"path\": \"M -0.8094149073047849, 0.7448808682150366 L -0.8375857023176769, 0.7130569341034446 L -0.864506101995107, 0.6801685082486735 L -0.890135918041009, 0.646264688353998 L -0.914436888815596, 0.6113960879603775 L -0.8313062625596327, 0.5558146254185249 L -0.8092144709463718, 0.587513353049089 L -0.78591463817737, 0.618335007498794 L -0.7614415475615244, 0.6482335764576769 L -0.7358317339134408, 0.6771644256500332 L -0.8094149073047849 ,0.7448808682150366\", \"type\": \"path\"}, {\"fillcolor\": \"#d0805f\", \"layer\": \"below\", \"line\": {\"color\": \"rgb(150,150,150)\", \"width\": 0.45}, \"path\": \"M -0.9331900846318506, 0.5823712440916015 L -0.9463603792112409, 0.5607156433158937 L -0.9590282254867787, 0.5387623434499487 L -0.9711868977564857, 0.5165230000940264 L -0.9828299406526255, 0.494009420716606 L -0.9939511725690326, 0.47123355838548386 L -1.0045446889430947, 0.44820750542156396 L -1.0146048653906434, 0.4249434869787212 L -1.0241263606920934, 0.40145385455313326 L -1.033104119628239, 0.37775107942554115 L -1.0415333756642073, 0.3538477460399052 L -1.0494096534801403, 0.3297565453219878 L -0.9540087758910365, 0.2997786775654434 L -0.9468485233310976, 0.32167976912718654 L -0.939185563298399, 0.3434100722050374 L -0.9310239642655395, 0.3649580495937575 L -0.9223680594460394, 0.3863122608897465 L -0.9132224444937224, 0.4074613685650581 L -0.9035919750627569, 0.4283941439868035 L -0.8934817642296595, 0.4490994733787327 L -0.8828971797786233, 0.4695663637218422 L -0.871843841351617, 0.4897839485908624 L -0.8603276174647644, 0.5097414939235397 L -0.8483546223925914, 0.5294284037196376 L -0.9331900846318506 ,0.5823712440916015\", \"type\": \"path\"}, {\"fillcolor\": \"#ca6f4c\", \"layer\": \"below\", \"line\": {\"color\": \"rgb(150,150,150)\", \"width\": 0.45}, \"path\": \"M -1.059249736564074, 0.2966310765731399 L -1.063070025922296, 0.28263425126047415 L -1.06670537120495, 0.26858825559303584 L -1.0701551399649192, 0.254495533176251 L -1.0734187320401463, 0.2403585357446766 L -0.9758352109455873, 0.2185077597678878 L -0.9728683090590174, 0.2313595756147736 L -0.9697321556408636, 0.2441711414482144 L -0.9664272962929964, 0.25694022841861286 L -0.9629543059673399, 0.2696646150664908 L -1.059249736564074 ,0.2966310765731399\", \"type\": \"path\"}, {\"fillcolor\": \"#c45e3a\", \"layer\": \"below\", \"line\": {\"color\": \"rgb(150,150,150)\", \"width\": 0.45}, \"path\": \"M -1.0804389087522392, 0.20652303613464265 L -1.085527139507303, 0.17785058164957626 L -1.08985460436952, 0.14905348481185268 L -1.093418270538005, 0.12015192738228589 L -1.096215640502032, 0.09116616433041264 L -0.9965596731836655, 0.08287833120946603 L -0.9940166095800046, 0.10922902489298716 L -0.9907769130631999, 0.13550316801077517 L -0.9868428540975481, 0.16168234695416023 L -0.9822171897747628, 0.18774821466785693 L -1.0804389087522392 ,0.20652303613464265\", \"type\": \"path\"}, {\"fillcolor\": \"#bf4d28\", \"layer\": \"below\", \"line\": {\"color\": \"rgb(150,150,150)\", \"width\": 0.45}, \"path\": \"M -1.098538322681163, 0.05668821395014255 L -1.0998484389697032, 0.018259553551693505 L -1.0998146692256165, -0.020191417883540855 L -1.098437054711577, -0.05861771776994069 L -1.0957172787112424, -0.09697239366763051 L -0.9961066170102202, -0.08815672151602773 L -0.998579140646888, -0.05328883433630971 L -0.9998315174778332, -0.018355834439582594 L -0.9998622172451846, 0.016599594137903184 L -0.9986712024374208, 0.05153473995467504 L -1.098538322681163 ,0.05668821395014255\", \"type\": \"path\"}, {\"fillcolor\": \"#af4624\", \"layer\": \"below\", \"line\": {\"color\": \"rgb(150,150,150)\", \"width\": 0.45}, \"path\": \"M -1.09213063188325, -0.131341855104506 L -1.0865253260677943, -0.17164706759299264 L -1.0794330702885202, -0.21171737474165617 L -1.07086357055892, -0.25149793885795824 L -1.0608285545552907, -0.29093431877338344 L -0.9643895950502642, -0.26448574433943944 L -0.9735123368717453, -0.22863448987087112 L -0.9813027911713819, -0.19247034067423285 L -0.9877502964252675, -0.15604278872090238 L -0.9928460289847727, -0.11940168645864181 L -1.09213063188325 ,-0.131341855104506\", \"type\": \"path\"}, {\"fillcolor\": \"#9f4021\", \"layer\": \"below\", \"line\": {\"color\": \"rgb(150,150,150)\", \"width\": 0.45}, \"path\": \"M -1.0511666319067594, -0.3241121903998669 L -1.038148765641603, -0.36365799922016834 L -1.0236437419714992, -0.40268286469948883 L -1.0076723394727694, -0.4411308833685034 L -0.9902574373225405, -0.4789469780961096 L -0.9002340339295821, -0.43540634372373593 L -0.9160657631570629, -0.4010280757895485 L -0.9305852199740902, -0.36607533154498983 L -0.94377160512873, -0.33059818110924394 L -0.9556060290061449, -0.2946474458180608 L -1.0511666319067594 ,-0.3241121903998669\", \"type\": \"path\"}, {\"fillcolor\": \"#8f391e\", \"layer\": \"below\", \"line\": {\"color\": \"rgb(150,150,150)\", \"width\": 0.45}, \"path\": \"M -0.974724716914662, -0.5098153844634667 L -0.9634244291393563, -0.5308609698758289 L -0.9516698085816113, -0.5516562112713311 L -0.9394663984986907, -0.572191302006505 L -0.9268199537885295, -0.5924565581200264 L -0.9137364382758346, -0.6124424228994854 L -0.9002220218996552, -0.6321394713881556 L -0.8862830778037586, -0.6515384148296223 L -0.8719261793311733, -0.6706301050481873 L -0.8571580969243269, -0.689405538762974 L -0.8419857949322308, -0.7078558618337066 L -0.826416428326227, -0.7259723734361538 L -0.810457339325836, -0.7437465301652754 L -0.7941160539363077, -0.7611699500641281 L -0.777400278399496, -0.7782344165766419 L -0.7603178955597438, -0.794931882422389 L -0.7428769611464789, -0.8112544733915327 L -0.725085699975288, -0.8271944920581537 L -0.706952502069245, -0.8427444214102128 L -0.6884859187023364, -0.8578969283944313 L -0.6258962897293967, -0.7799062985403921 L -0.6426840927902226, -0.7661312921911024 L -0.6591688181593527, -0.7519949927801396 L -0.6753426919513444, -0.7375040667195751 L -0.6911980868724943, -0.7226653476567172 L -0.7067275258177236, -0.7074858332514926 L -0.7219236853966433, -0.6919726818764801 L -0.7367793993871236, -0.6761332092411594 L -0.7512876621147517, -0.659974884941958 L -0.7654416317565734, -0.6435053289397332 L -0.7792346335675698, -0.6267323079663399 L -0.7926601630283393, -0.6096637318619884 L -0.8057118889125078, -0.5923076498451111 L -0.8183836562724137, -0.5746722467165051 L -0.8306694893416677, -0.5567658389995321 L -0.8425635943532086, -0.5385968710182057 L -0.8540603622715369, -0.5201739109150045 L -0.8651543714378284, -0.501505646610301 L -0.8758403901266875, -0.4826008817052989 L -0.886113379013329, -0.46346853133042426 L -0.974724716914662 ,-0.5098153844634667\", \"type\": \"path\"}, {\"fillcolor\": \"#f0f3e7\", \"layer\": \"below\", \"line\": {\"color\": \"rgb(150,150,150)\", \"width\": 0.45}, \"path\": \"M -0.6611989987307494, -0.879099473368887 L -0.6423516257290705, -0.8929638228524269 L -0.6232136317999435, -0.9064241662371566 L -0.6037936755990359, -0.9194744136225904 L -0.5841005433509903, -0.9321086606491102 L -0.5641431448742432, -0.9443211911692965 L -0.543930509549935, -0.9561064798340968 L -0.5234717822367209, -0.967459194592677 L -0.5027762191333357, -0.978374199104815 L -0.4818531835907909, -0.9888465550647481 L -0.4607121418760812, -0.9988715244354269 L -0.4393626588893399, -1.0084445715921573 L -0.4178143938363625, -1.0175613653746653 L -0.39607709585846546, -1.0262177810466568 L -0.3741605996216582, -1.0344099021619821 L -0.35207482086711284, -1.0421340223365663 L -0.32982975192496133, -1.0493866469252975 L -0.3074354571934369, -1.0561644946031195 L -0.28490206858540956, -1.0624644988496108 L -0.26223978094438044, -1.0682838093363785 L -0.23945884743199486, -1.07361979321664 L -0.21656957488917977, -1.0784700363164106 L -0.19358231917298996, -1.0828323442267536 L -0.1705074804712782, -1.0867047432966035 L -0.14735549859731317, -1.0900854815257093 L -0.12413684826646003, -1.0929730293572986 L -0.11285168024223638, -0.9936118448702713 L -0.1339595441793756, -0.9909868013870083 L -0.1550068004284347, -0.9879134029969122 L -0.17598392652089995, -0.9843930402061396 L -0.19688143171743613, -0.9804273057421914 L -0.2176898613018135, -0.976017993833309 L -0.23839980085852763, -0.9711670993967075 L -0.2590018805321905, -0.9658768171360098 L -0.2794867792667608, -0.9601495405482903 L -0.2998452290226921, -0.9539878608411794 L -0.32006801897010256, -0.9473945657605146 L -0.3401459996560529, -0.9403726383290746 L -0.36007008714405947, -0.9329252554969607 L -0.37983126712396587, -0.9250557867042412 L -0.39942059899030896, -0.9167677923565066 L -0.41882921988734656, -0.9080650222140244 L -0.43804834871890075, -0.8989514136952255 L -0.4570692901212143, -0.8894310900952863 L -0.4758834383970189, -0.8795083587206154 L -0.49448228140903183, -0.8691877089400879 L -0.5128574044311301, -0.8584738101539058 L -0.5310004939554457, -0.8473715096810093 L -0.5489033414536689, -0.8358858305659912 L -0.5665578470908577, -0.824021969306506 L -0.583956023390064, -0.8117852935022062 L -0.6010899988461358, -0.7991813394262609 L -0.6611989987307494 ,-0.879099473368887\", \"type\": \"path\"}, {\"fillcolor\": \"#e2ecde\", \"layer\": \"below\", \"line\": {\"color\": \"rgb(150,150,150)\", \"width\": 0.45}, \"path\": \"M -0.08974448172141823, -1.0963329457790432 L -0.07498786391126314, -1.097441032705642 L -0.060217674808291155, -1.0983505049121083 L -0.04543658751920015, -1.0990611978022926 L -0.030647277123040086, -1.0995729827550984 L -0.02786116102094553, -0.9996118025046348 L -0.041305988653818314, -0.9991465434566296 L -0.05474334073481014, -0.9985004590110074 L -0.06817078537387557, -0.9976736660960381 L -0.08158589247401657, -0.9966663143445845 L -0.08974448172141823 ,-1.0963329457790432\", \"type\": \"path\"}, {\"fillcolor\": \"#d4e5d6\", \"layer\": \"below\", \"line\": {\"color\": \"rgb(150,150,150)\", \"width\": 0.45}, \"path\": \"M 0.003906267508313948, -1.0999930641027487 L 0.026984684667724548, -1.0996689623670315 L 0.050051221465552506, -1.0988607169381415 L 0.07309572255623821, -1.0975686836567367 L 0.09610804229573135, -1.095793431357426 L 0.11907804920824282, -1.093535741618334 L 0.14199563044676392, -1.0907966084169982 L 0.16485069624537396, -1.0875772376927606 L 0.18763318436139617, -1.0838790468158348 L 0.21033306450543116, -1.0797036639632906 L 0.2329403427573232, -1.0750529274022285 L 0.25544506596611516, -1.0699288846804573 L 0.27783732613205236, -1.0643337917250357 L 0.3001072647687139, -1.0582701118490692 L 0.32224507724333445, -1.0517405146672052 L 0.3442410170934268, -1.0447478749203003 L 0.3660854003177883, -1.0372952712097772 L 0.38776860964001025, -1.02938598464223 L 0.40928109874260954, -1.0210234973848753 L 0.43061339646992025, -1.0122114911324804 L 0.4517561109978944, -1.0029538454864502 L 0.472699933968975, -0.9932546362467819 L 0.49343564459022543, -0.9831181336176386 L 0.5139541136929004, -0.9725488003273385 L 0.534246307751685, -0.9615512896635791 L 0.5543032928618219, -0.9501304434247655 L 0.5741162386723805, -0.9382912897883462 L 0.5936764222739349, -0.9260390410970916 L 0.6129752320389381, -0.9133790915642914 L 0.6320041714131074, -0.9003170148988809 L 0.6507548626561392, -0.8868585618515443 L 0.6692190505301223, -0.8730096576828699 L 0.687388605934014, -0.8587763995546763 L 0.6248987326672854, -0.7807058177769785 L 0.6083809550273839, -0.7936451433480635 L 0.5915953296873993, -0.8062350562286766 L 0.5745492467391885, -0.8184700135444372 L 0.5572502109444891, -0.8303446286948103 L 0.5397058384308498, -0.8418536737246286 L 0.5219238533385276, -0.8529920816257692 L 0.503912084419838, -0.8637549485679685 L 0.4856784615924409, -0.8741375360577991 L 0.4672310124480913, -0.8841352730248531 L 0.44857785871838673, -0.8937437578342168 L 0.4297272126990681, -0.9029587602243471 L 0.41068737363444946, -0.9117762231695001 L 0.3914667240635638, -0.9201922646658912 L 0.372073726129645, -0.9282031794407957 L 0.35251691785455475, -0.9358054405838454 L 0.3328049093798075, -0.9429957010997972 L 0.3129463791758425, -0.9497707953820911 L 0.2929500702212131, -0.95612774060655 L 0.27282478615337624, -0.9620637380446082 L 0.25257938739277486, -0.9675761742954869 L 0.23222278724192283, -0.9726626224367793 L 0.2117639479612029, -0.9773208430929349 L 0.19121187682311921, -0.9815487854211732 L 0.17057562214672378, -0.9853445880143952 L 0.1498642693139763, -0.9887065797206914 L 0.12908693676978536, -0.9916332803790893 L 0.10825277200749346, -0.9941234014712126 L 0.08737094754157394, -0.9961758466885691 L 0.06645065686930746, -0.9977897124152151 L 0.045501110423229546, -0.9989642881255831 L 0.024531531516113224, -0.9996990566973013 L 0.0035511522802854066, -0.9999936946388623 L 0.003906267508313948 ,-1.0999930641027487\", \"type\": \"path\"}, {\"fillcolor\": \"#c6decd\", \"layer\": \"below\", \"line\": {\"color\": \"rgb(150,150,150)\", \"width\": 0.45}, \"path\": \"M 0.7140242397400958, -0.8367612473481182 L 0.7317529921465664, -0.8213023550949718 L 0.7491471423261855, -0.8054679131688054 L 0.7661987366095513, -0.7892651620450047 L 0.7828999779647678, -0.7727015106124526 L 0.7992432295627308, -0.7557845327857247 L 0.8152210182691473, -0.7385219640418387 L 0.830826038061715, -0.7209216978831156 L 0.8460511533708774, -0.7029917822277927 L 0.860889402342648, -0.6847404157300184 L 0.8753340000219905, -0.666175944030931 L 0.88937834145532, -0.6473068559425155 L 0.9030160047106877, -0.6281417795660049 L 0.9162407538142846, -0.6086894783465802 L 0.9290465416019066, -0.588958847066191 L 0.9414275124840921, -0.568958907776313 L 0.9533780051236503, -0.5486988056725193 L 0.964892555024377, -0.5281878049127318 L 0.9759658970297507, -0.5074352843810866 L 0.9865929677304878, -0.48645073339933304 L 0.896902697936807, -0.44222793945393907 L 0.8872417245725005, -0.461304803982806 L 0.8771750500221608, -0.480170731738847 L 0.8667072773851366, -0.4988170960659266 L 0.8558431931673564, -0.517235370705739 L 0.8445877650926423, -0.5354171336965372 L 0.8329461398311677, -0.5533540712241637 L 0.8209236406460796, -0.5710379814236408 L 0.8085257649593818, -0.5884607781295594 L 0.795758181838173, -0.6056144945735736 L 0.7826267294024072, -0.6224912870272894 L 0.769137412155343, -0.6390834383889024 L 0.7552963982379226, -0.6553833617119231 L 0.7411100166083157, -0.6713836036743988 L 0.726584754147937, -0.6870768479870224 L 0.7117272526952434, -0.7024559187385933 L 0.6965443060086829, -0.717513783677277 L 0.6810428566601686, -0.7322435574261866 L 0.6652299928605149, -0.7466385046317925 L 0.6491129452182688, -0.7606920430437437 L 0.7140242397400958 ,-0.8367612473481182\", \"type\": \"path\"}, {\"fillcolor\": \"#b8d7c5\", \"layer\": \"below\", \"line\": {\"color\": \"rgb(150,150,150)\", \"width\": 0.45}, \"path\": \"M 1.0013859304475041, -0.45522106530979706 L 1.0167393894101384, -0.41981068831307616 L 1.030841146811593, -0.38388348497970054 L 1.0436738420657243, -0.34748368506704 L 1.0552216769209346, -0.3106561001431819 L 0.959292433564486, -0.2824146364938017 L 0.9487944018779311, -0.31589425915185454 L 0.9371283152832663, -0.34898498634518227 L 0.9243085358273986, -0.38164608028461466 L 0.9103508458613674, -0.4138373320998155 L 1.0013859304475041 ,-0.45522106530979706\", \"type\": \"path\"}, {\"fillcolor\": \"#aad0bc\", \"layer\": \"below\", \"line\": {\"color\": \"rgb(150,150,150)\", \"width\": 0.45}, \"path\": \"M 1.064458932640351, -0.27735749624296213 L 1.0720144945070889, -0.24654598671791614 L 1.0786783922516823, -0.2155294088734198 L 1.0844450830773105, -0.18433356121294225 L 1.089309770452453, -0.15298439135030903 L 0.9902816095022299, -0.13907671940937183 L 0.9858591664339185, -0.1675759647390384 L 0.9806167202288021, -0.19593582624856343 L 0.9745586313700807, -0.22413271519810557 L 0.9676899387639555, -0.25214317840269285 L 1.064458932640351 ,-0.27735749624296213\", \"type\": \"path\"}, {\"fillcolor\": \"#9cc9b4\", \"layer\": \"below\", \"line\": {\"color\": \"rgb(150,150,150)\", \"width\": 0.45}, \"path\": \"M 1.0935776176971344, -0.11869285602705931 L 1.0956523068597166, -0.09770374851039196 L 1.0973241880815572, -0.07667872098014666 L 1.0985926467086944, -0.055625503122090914 L 1.0994572164023046, -0.03455183498594413 L 0.9995065603657315, -0.031410759078131026 L 0.9987205879169949, -0.05056863920190083 L 0.9975674437105065, -0.0697079281637697 L 0.9960475516906513, -0.08882158955490177 L 0.9941614706337585, -0.10790259638823572 L 1.0935776176971344 ,-0.11869285602705931\", \"type\": \"path\"}], \"showlegend\": false, \"title\": \"Data Jobs \\u2012 Technologies in Demand and Relationships Between Them\", \"titlefont\": {\"color\": \"#655643\", \"family\": \"Merryweather\", \"size\": 18}, \"width\": 960, \"xaxis\": {\"showgrid\": false, \"showline\": false, \"showticklabels\": false, \"title\": \"\", \"zeroline\": false}, \"yaxis\": {\"showgrid\": false, \"showline\": false, \"showticklabels\": false, \"title\": \"\", \"zeroline\": false}}, {\"showLink\": true, \"linkText\": \"Export to plot.ly\", \"plotlyServerURL\": \"https://plot.ly\"})});</script>"
      ]
     },
     "metadata": {},
     "output_type": "display_data"
    }
   ],
   "source": [
    "fig = go.Figure(data=data, layout=layout)\n",
    "\n",
    "plotly.offline.iplot(fig, filename='data_offers_tech_requirements_chord.html')"
   ]
  },
  {
   "cell_type": "code",
   "execution_count": 49,
   "metadata": {},
   "outputs": [
    {
     "data": {
      "text/plain": [
       "'file:///home/deo/WORKSPACE/Job_Market_Trends_Bulgaria/workbooks/data_offers_tech_requirements_chord.html'"
      ]
     },
     "execution_count": 49,
     "metadata": {},
     "output_type": "execute_result"
    }
   ],
   "source": [
    "# Uncomment the line below to export an HTML version of the chart.\n",
    "plotly.offline.plot(fig, filename='data_offers_tech_requirements_chord.html', show_link=False)"
   ]
  },
  {
   "cell_type": "markdown",
   "metadata": {},
   "source": [
    "### Resources:\n",
    "\n",
    "- https://plot.ly/python/filled-chord-diagram/\n",
    "- https://hci.stanford.edu/courses/cs448b/f11/lectures/CS448B-20111117-Text.pdf"
   ]
  },
  {
   "cell_type": "code",
   "execution_count": 31,
   "metadata": {},
   "outputs": [
    {
     "data": {
      "text/html": [
       "<style>\n",
       "@import url('https://fonts.googleapis.com/css?family=Fira+Mono|Fira+Sans|Fira+Sans+Condensed|Fira+Sans+Extra+Condensed');\n",
       "@import url('https://fonts.googleapis.com/css?family=Merriweather|Merriweather+Sans');\n",
       "\n",
       ".nbviewer {\n",
       "    background-color: #E5E1D8;\n",
       "}\n",
       "\n",
       "#notebook {\n",
       "    background-color: #E5E1D8;\n",
       "}\n",
       "\n",
       "#notebook-container {\n",
       "    background-color: #FFFAF0;\n",
       "    max-width: 1100px;\n",
       "    padding: 50px;\n",
       "    border-radius: 4px;\n",
       "    -webkit-box-shadow: 0px 0px 12px 1px rgba(101,86,67,0.75);\n",
       "    -moz-box-shadow: 0px 0px 12px 1px rgba(101,86,67,0.75);\n",
       "    box-shadow: 0px 0px 12px 1px rgba(101,86,67,0.75);\n",
       "}\n",
       "\n",
       "/* Jupyter Notebook Header Styling */\n",
       "body > #header {\n",
       "    background-color:#fafafa;\n",
       "}\n",
       "\n",
       "#header #menubar #menus {\n",
       "    background-color:#fefefe;\n",
       "}\n",
       "\n",
       "/* Headings */\n",
       ".text_cell_render h1 {\n",
       "    color: #655B4F;\n",
       "    font-family: 'Merriweather', serif;\n",
       "    font-weight: 900;\n",
       "    text-align: center;\n",
       "    font-size: 2.5em;\n",
       "    padding: 40px 0 12px 0;\n",
       "    text-shadow: 0 2px #FFFAF0, 0 3px #8c8b8b;\n",
       "}\n",
       "\n",
       ".text_cell_render h2 {\n",
       "    color: #655B4F;\n",
       "    font-family: 'Merriweather', serif;\n",
       "    font-weight: 600;\n",
       "    font-size: 2.2em;\n",
       "    text-indent: 22px;\n",
       "    padding: 40px 0 6px 0;\n",
       "    margin-bottom: 24px;\n",
       "    border-bottom: 1px solid #655B4F;\n",
       "}\n",
       "\n",
       ".text_cell_render h3 {\n",
       "    color: #655B4F;\n",
       "    font-family: 'Merriweather', serif;\n",
       "    font-weight: 300;\n",
       "    padding: 6px 0 0 0;\n",
       "    font-size: 1.6em;\n",
       "}\n",
       "\n",
       ".text_cell_render h4 {\n",
       "    color: #655B4F;\n",
       "    font-family: 'Merriweather', serif;\n",
       "    font-weight: 100;\n",
       "    font-size: 1.2em;\n",
       "}\n",
       "\n",
       "/* Use for subtitles and other non-headings */\n",
       "div.rendered_html > h5 {\n",
       "    font-family: 'Merriweather', serif;\n",
       "    line-height: 1.5em;\n",
       "    color: #655B4F;\n",
       "    font-weight: 200;\n",
       "    font-style: normal important!;\n",
       "    text-indent: 22px;\n",
       "    text-align: center;\n",
       "    margin-top: 0.5em;\n",
       "    padding: 6px 0 6px 0;\n",
       "    border-bottom: 1px solid #655B4F;\n",
       "    border-top: 1px solid #655B4F;\n",
       "}\n",
       "\n",
       "/* Use for image and chart captions */\n",
       "div.rendered_html > h6 {\n",
       "    font-family: 'Merriweather Sans', sans-serif;\n",
       "    font-size: 0.9em;\n",
       "    line-height: 1.5em;\n",
       "    color: #cac8c9;\n",
       "    font-weight: normal;\n",
       "    max-width: 525px;\n",
       "    display: block;\n",
       "    margin-left: auto;\n",
       "    margin-right: auto;\n",
       "}\n",
       "\n",
       "div#notebook-container p {\n",
       "    font-family: 'Fira Sans Condensed', sans-serif;\n",
       "    font-size: 1.2em;\n",
       "    line-height: 1.3em;\n",
       "    color: #655B4F;\n",
       "}\n",
       "\n",
       "/* Plotly Exported Charts Styling */\n",
       ".js-plotly-plot .plotly,\n",
       ".js-plotly-plot .plotly div {\n",
       "    direction: ltr;\n",
       "    font-family: \"Fira Sans Extra Condensed\", verdana, arial, sans-serif;\n",
       "}\n",
       "\n",
       "/* Lists */\n",
       "ol, ul {\n",
       "    font-family: 'Fira Sans Condensed', sans-serif;\n",
       "    line-height: 1.3em;\n",
       "    color: #655B4F;\n",
       "}\n",
       "\n",
       "div.input_prompt {\n",
       "    color: #aad0bc;\n",
       "    font-size: 0.7em;\n",
       "}\n",
       "\n",
       "div.output_prompt {\n",
       "    color: #aad0bc;\n",
       "    font-size: 0.7em;\n",
       "}\n",
       "\n",
       "div.prompt {\n",
       "    min-width: 2ex;\n",
       "}\n",
       "\n",
       "div.output_subarea {\n",
       "    min-width: 425px;\n",
       "    max-width: calc(100% - 1ex);\n",
       "    padding: 0;\n",
       "}\n",
       "\n",
       "div.text_cell code {\n",
       "    padding: 2px;\n",
       "    background-color: #E5E1D8;\n",
       "    color: #483F3A;\n",
       "    font-family: 'Fira Mono', monospace;\n",
       "    font-size: 0.9em;\n",
       "}\n",
       "\n",
       "div.input_area {\n",
       "    background-color: #FFFAF0;\n",
       "    border: 1px solid #E5E1D8;\n",
       "    background: repeating-linear-gradient(135deg, #FFFAF0, #FFFAF0 5px, #F7F7ED 5px, #F7F7ED 10px);\n",
       "}\n",
       "\n",
       "div.cell.rendered.selected {\n",
       "    background: #F7F7ED;\n",
       "    border: 1px solid #293C34;\n",
       "}\n",
       "\n",
       "div.output_area img {\n",
       "    display: block;\n",
       "    margin-left: auto;\n",
       "    margin-right: auto;\n",
       "}\n",
       "\n",
       "div.rendered_html pre, code {\n",
       "    font-family: 'Fira Sans Condensed', sans-serif;\n",
       "    font-size: 16px;\n",
       "    font-weight: 400;\n",
       "    color: #40362F;\n",
       "    background-color: #E5E1D8;\n",
       "}\n",
       "\n",
       "div.output_text pre {\n",
       "    font-family: 'Fira Sans Condensed', sans-serif;\n",
       "    font-size: 13px;\n",
       "    font-weight: 300;\n",
       "    color: #40362F;\n",
       "}\n",
       "\n",
       "\n",
       "pre, textarea {\n",
       "    overflow: hidden;\n",
       "}\n",
       "\n",
       "div.text_cell_render img {\n",
       "    max-height: 550px;\n",
       "    display: block;\n",
       "    margin-left: auto;\n",
       "    margin-right: auto;\n",
       "}\n",
       "\n",
       "div.output output_scroll {\n",
       "    overflow-x: auto;\n",
       "    overflow-y: scroll;\n",
       "    max-height: 2000px;\n",
       "}\n",
       "\n",
       "div.rendered_html hr {\n",
       "    border: 0;\n",
       "    height: 1px;\n",
       "    background-color: #655B4F;\n",
       "}\n",
       "\n",
       "div.rendered_html pre, code {\n",
       "    color: #40362F;\n",
       "    background-color: #FFFAF0;\n",
       "}\n",
       "\n",
       "/* Links */\n",
       "a.link--embedview {\n",
       "    display: none;\n",
       "}\n",
       "\n",
       "a:link {\n",
       "    color: #293C34;\n",
       "}\n",
       "\n",
       "a:visited {\n",
       "    color: #293C34;\n",
       "}\n",
       "\n",
       "a:hover {\n",
       "    color: #557C6C;\n",
       "}\n",
       "\n",
       "a:focus {\n",
       "    color:#557C6C;\n",
       "}\n",
       "\n",
       "a:active {\n",
       "    font-weight: bold;\n",
       "    color:#80BCA3;\n",
       "}\n",
       "\n",
       ".rendered_html :link {\n",
       "    text-decoration: underline;\n",
       "}\n",
       "\n",
       "/* Colors for code highlighting */\n",
       ".CodeMirror pre {\n",
       "    font-family: 'Fira Mono', monospace;\n",
       "    font-size: 0.9em;\n",
       "    font-weight: 600;\n",
       "    letter-spacing: -2px;\n",
       "}\n",
       "\n",
       ".CodeMirror-code span.cm-keyword,\n",
       ".highlight .k,\n",
       ".highlight .ow {\n",
       "    color: #5F362E;\n",
       "}\n",
       "\n",
       ".CodeMirror-code span.cm-variable,\n",
       ".highlight .na {\n",
       "    color: #655B4F;\n",
       "}\n",
       "\n",
       ".CodeMirror-code span.cm-property {\n",
       "    color: #655B4F;\n",
       "}\n",
       "\n",
       ".CodeMirror-code span.cm-def {\n",
       "    color: #293C34;\n",
       "}\n",
       "\n",
       ".CodeMirror-code span.cm-operator {\n",
       "    color: #655B4F;\n",
       "}\n",
       "\n",
       ".CodeMirror-code span.cm-string,\n",
       ".highlight .s {\n",
       "    color: #0B7761;\n",
       "}\n",
       "\n",
       ".CodeMirror-code span.cm-number,\n",
       ".highlight .mb, .highlight .mf, .highlight .mh, .highlight .mi, .highlight .mo {\n",
       "    color: #265BCA;\n",
       "}\n",
       "\n",
       ".CodeMirror-code span.cm-comment,\n",
       ".highlight .c1, .highlight .cs {\n",
       "    color: #75AC95;\n",
       "}\n",
       "\n",
       ".CodeMirror-code span.cm-builtin,\n",
       ".highlight .nb {\n",
       "    color: #5F362E;\n",
       "}\n",
       "\n",
       "/* Code with no class applied (brackets mostly) */\n",
       ".CodeMirror-line > span {\n",
       "    color: #72614B;\n",
       "}\n",
       "\n",
       "/* Table styles */\n",
       "table {\n",
       "    border: 1px solid #BF4D28;\n",
       "}\n",
       "\n",
       "\n",
       ".rendered_html table th {\n",
       "    color: #40362F;\n",
       "    text-align: left;\n",
       "    background-color: #f2e6ce;\n",
       "}\n",
       "\n",
       ".rendered_html td {\n",
       "    color: #40362F;\n",
       "    text-align: left;\n",
       "}\n",
       "\n",
       ".rendered_html table tr:nth-child(odd) {\n",
       "    background-color: #F7F7ED;\n",
       "}\n",
       "\n",
       ".rendered_html table tr:nth-child(even) {\n",
       "    background-color: #FFFAF0;\n",
       "}\n",
       "\n",
       "iframe {\n",
       "    border-width: 0;\n",
       "}\n",
       "\n",
       "@media only screen and (max-width: 600px) {\n",
       "    #notebook-container {\n",
       "        background-color: #FFFAF0;\n",
       "        padding: 15px;\n",
       "        border-radius: 4px;\n",
       "        -webkit-box-shadow: 0px 0px 12px 1px rgba(101,86,67,0.75);\n",
       "        -moz-box-shadow: 0px 0px 12px 1px rgba(101,86,67,0.75);\n",
       "        box-shadow: 0px 0px 12px 1px rgba(101,86,67,0.75);\n",
       "    }\n",
       "\n",
       "    .text_cell_render h1,\n",
       "    .text_cell_render h2 {\n",
       "        text-indent: 0;\n",
       "        text-align: left;\n",
       "        padding: 40px 22px 12px 22px;\n",
       "    }\n",
       "}\n",
       "\n",
       "</style>\n"
      ],
      "text/plain": [
       "<IPython.core.display.HTML object>"
      ]
     },
     "execution_count": 31,
     "metadata": {},
     "output_type": "execute_result"
    }
   ],
   "source": [
    "from IPython.core.display import HTML\n",
    "with open('../resources/styles/datum.css', 'r') as f:\n",
    "    style = f.read()\n",
    "HTML(style)"
   ]
  }
 ],
 "metadata": {
  "kernelspec": {
   "display_name": "Python 3",
   "language": "python",
   "name": "python3"
  },
  "language_info": {
   "codemirror_mode": {
    "name": "ipython",
    "version": 3
   },
   "file_extension": ".py",
   "mimetype": "text/x-python",
   "name": "python",
   "nbconvert_exporter": "python",
   "pygments_lexer": "ipython3",
   "version": "3.7.3"
  }
 },
 "nbformat": 4,
 "nbformat_minor": 2
}
