{
 "cells": [
  {
   "cell_type": "markdown",
   "metadata": {},
   "source": [
    "## Requirements Relationships Chord Diagram\n"
   ]
  },
  {
   "cell_type": "code",
   "execution_count": 1,
   "metadata": {},
   "outputs": [
    {
     "data": {
      "text/html": [
       "<script type=\"text/javascript\">window.PlotlyConfig = {MathJaxConfig: 'local'};</script><script type=\"text/javascript\">if (window.MathJax) {MathJax.Hub.Config({SVG: {font: \"STIX-Web\"}});}</script><script>requirejs.config({paths: { 'plotly': ['https://cdn.plot.ly/plotly-latest.min']},});if(!window._Plotly) {require(['plotly'],function(plotly) {window._Plotly=plotly;});}</script>"
      ],
      "text/vnd.plotly.v1+html": [
       "<script type=\"text/javascript\">window.PlotlyConfig = {MathJaxConfig: 'local'};</script><script type=\"text/javascript\">if (window.MathJax) {MathJax.Hub.Config({SVG: {font: \"STIX-Web\"}});}</script><script>requirejs.config({paths: { 'plotly': ['https://cdn.plot.ly/plotly-latest.min']},});if(!window._Plotly) {require(['plotly'],function(plotly) {window._Plotly=plotly;});}</script>"
      ]
     },
     "metadata": {},
     "output_type": "display_data"
    }
   ],
   "source": [
    "import re\n",
    "from itertools import combinations\n",
    "import psycopg2\n",
    "import numpy as np\n",
    "import pandas as pd\n",
    "import plotly\n",
    "import plotly.plotly as py\n",
    "import plotly.graph_objs as go\n",
    "from IPython import display\n",
    "from bs4 import BeautifulSoup as bs\n",
    "\n",
    "from nbstyler import DATA_STYLE as DS\n",
    "\n",
    "plotly.offline.init_notebook_mode(connected=True)\n",
    "\n",
    "%matplotlib notebook\n",
    "%matplotlib inline"
   ]
  },
  {
   "cell_type": "markdown",
   "metadata": {},
   "source": [
    "### Objectives\n",
    "\n",
    "The main objective for this recipe is to try the plotly implementation of the chord diagram and to provide a clean recipe for preparing such charts in the future. \n",
    "\n",
    "\n",
    "### Data Preparation"
   ]
  },
  {
   "cell_type": "code",
   "execution_count": 2,
   "metadata": {},
   "outputs": [],
   "source": [
    "data_querystr = \"\"\"SELECT * FROM data_offers.do_full_offer_history\"\"\"\n",
    "conn = psycopg2.connect('dbname=jobsbg')\n",
    "data_df = pd.read_sql_query(data_querystr, conn, index_col='subm_date')\n",
    "conn.close()"
   ]
  },
  {
   "cell_type": "code",
   "execution_count": 3,
   "metadata": {},
   "outputs": [
    {
     "data": {
      "text/html": [
       "<div>\n",
       "<style scoped>\n",
       "    .dataframe tbody tr th:only-of-type {\n",
       "        vertical-align: middle;\n",
       "    }\n",
       "\n",
       "    .dataframe tbody tr th {\n",
       "        vertical-align: top;\n",
       "    }\n",
       "\n",
       "    .dataframe thead th {\n",
       "        text-align: right;\n",
       "    }\n",
       "</style>\n",
       "<table border=\"1\" class=\"dataframe\">\n",
       "  <thead>\n",
       "    <tr style=\"text-align: right;\">\n",
       "      <th></th>\n",
       "      <th>subm_type</th>\n",
       "      <th>job_id</th>\n",
       "      <th>company_id</th>\n",
       "      <th>norm_salary</th>\n",
       "      <th>job_title</th>\n",
       "      <th>company_name</th>\n",
       "      <th>text_salary</th>\n",
       "      <th>job_location</th>\n",
       "      <th>job_contents</th>\n",
       "    </tr>\n",
       "    <tr>\n",
       "      <th>subm_date</th>\n",
       "      <th></th>\n",
       "      <th></th>\n",
       "      <th></th>\n",
       "      <th></th>\n",
       "      <th></th>\n",
       "      <th></th>\n",
       "      <th></th>\n",
       "      <th></th>\n",
       "      <th></th>\n",
       "    </tr>\n",
       "  </thead>\n",
       "  <tbody>\n",
       "    <tr>\n",
       "      <th>2019-09-12</th>\n",
       "      <td>submission</td>\n",
       "      <td>5045017</td>\n",
       "      <td>67058</td>\n",
       "      <td>NaN</td>\n",
       "      <td>Experienced ETL Developer</td>\n",
       "      <td>Adastra Bulgaria Ltd.</td>\n",
       "      <td>None</td>\n",
       "      <td>София</td>\n",
       "      <td>&lt;!DOCTYPE html PUBLIC \"-//W3C//DTD XHTML 1.0 ...</td>\n",
       "    </tr>\n",
       "  </tbody>\n",
       "</table>\n",
       "</div>"
      ],
      "text/plain": [
       "             subm_type   job_id  company_id  norm_salary  \\\n",
       "subm_date                                                  \n",
       "2019-09-12  submission  5045017       67058          NaN   \n",
       "\n",
       "                            job_title           company_name text_salary  \\\n",
       "subm_date                                                                  \n",
       "2019-09-12  Experienced ETL Developer  Adastra Bulgaria Ltd.        None   \n",
       "\n",
       "           job_location                                       job_contents  \n",
       "subm_date                                                                   \n",
       "2019-09-12        София   <!DOCTYPE html PUBLIC \"-//W3C//DTD XHTML 1.0 ...  "
      ]
     },
     "execution_count": 3,
     "metadata": {},
     "output_type": "execute_result"
    }
   ],
   "source": [
    "data_df.head(1)"
   ]
  },
  {
   "cell_type": "markdown",
   "metadata": {},
   "source": [
    "### Relationship Categories Definition"
   ]
  },
  {
   "cell_type": "markdown",
   "metadata": {},
   "source": [
    "In order to build the necessary data we first need to define the scope of the relationships we aim to observe. The search strings we will compare should be of the same semantic category to provide meaningful insight.\n",
    "\n",
    "To explore the data and prepare proper definitions we took a deep dive in the data offers' text contents. We used the `nltk` library for text processing to produce frequency distributions of most common words, bigrams and trigrams. Then those distributions were used to explore different possible relationship categories. See the details in the [Requirements Deep Dive Notebook](./Data_Offers_Requirements_Deep_Dive.ipynb).\n",
    "\n",
    "For the first chord diagram the chosen view is a breakdown by technology. Other possible relationships to explore are skill requirements breakdown, perks & benefits breakdown, job title breakdown, etc."
   ]
  },
  {
   "cell_type": "markdown",
   "metadata": {},
   "source": [
    "### Data Jobs Technology Requirement Relationships"
   ]
  },
  {
   "cell_type": "markdown",
   "metadata": {},
   "source": [
    "A preliminary list of terms that describe most often sought categories is presented below. We are going to use it to construct regex filters for selected key technologies."
   ]
  },
  {
   "cell_type": "code",
   "execution_count": 4,
   "metadata": {},
   "outputs": [],
   "source": [
    "tech_terms_filters = [\n",
    "    r'power bi', r'excel', r'ss[ir]s',\n",
    "    r'sql server', r'postgresql', r'(mysql)|(mariadb)', r't.?sql', r'pl.?sql',\n",
    "    r'pentaho', r'hadoop', r'spark', r'informatica',\n",
    "    r'qlik', r'tableau', r'microstrategy', r'oracle (bi)|(business intelligence)',\n",
    "    r'python', r'vba', r'linux', r'aws']\n",
    "\n",
    "tech_terms_labels = [\n",
    "    'Power BI', 'Excel', 'SSIS/SSRS',\n",
    "    'MS SQL Server', 'PostgreSQL', 'MySQL/MariaDB', 'T-SQL', 'PL/SQL',\n",
    "    'Pentaho', 'Hadoop', 'Spark', 'Informatica',\n",
    "    'Qlik', 'Tableau', 'Microstrategy', 'Oracle BI',\n",
    "    'Python', 'VBA', 'Linux', 'AWS']"
   ]
  },
  {
   "cell_type": "markdown",
   "metadata": {},
   "source": [
    "#### Preparing a square matrix with counts for matching filters"
   ]
  },
  {
   "cell_type": "markdown",
   "metadata": {},
   "source": [
    "First we define a helper function that returns `True` for job offers where both of the provided patterns are found in the job contents. We also prepare a list of all possible filter patterns' combinations."
   ]
  },
  {
   "cell_type": "code",
   "execution_count": 5,
   "metadata": {},
   "outputs": [],
   "source": [
    "def match_terms(first_term, second_term, text):\n",
    "    match_found = re.search(first_term, text, re.IGNORECASE) and re.search(second_term, text, re.IGNORECASE)\n",
    "    return True if match_found else False\n",
    "\n",
    "    \n",
    "def count_matches(first_term, second_term, col):\n",
    "    return sum([match_terms(first_term, second_term, t) for t in col.values])\n",
    "\n",
    "req_combinations = list(combinations(tech_terms_filters, 2))"
   ]
  },
  {
   "cell_type": "markdown",
   "metadata": {},
   "source": [
    "Building the counts in a dictionary with keys composed of tuples with both search terms. "
   ]
  },
  {
   "cell_type": "code",
   "execution_count": 6,
   "metadata": {},
   "outputs": [
    {
     "name": "stdout",
     "output_type": "stream",
     "text": [
      "CPU times: user 3min 24s, sys: 2.3 ms, total: 3min 24s\n",
      "Wall time: 3min 24s\n"
     ]
    }
   ],
   "source": [
    "%%time\n",
    "match_results = [count_matches(*tup, data_df.job_contents) for tup in req_combinations]\n",
    "match_dict = dict(zip(req_combinations, match_results))"
   ]
  },
  {
   "cell_type": "markdown",
   "metadata": {},
   "source": [
    "Another helper function will unpack the combinations counts into a square matrix form. Finally, a DataFrame is created from the combinations counts matrix. This is our main data source for the chord diagram. "
   ]
  },
  {
   "cell_type": "code",
   "execution_count": 7,
   "metadata": {},
   "outputs": [],
   "source": [
    "def make_matrix(headers, counts):\n",
    "    res = []\n",
    "    for k1 in headers:\n",
    "        row = []\n",
    "        for k2 in headers:\n",
    "            if k1 == k2:\n",
    "                row.append(0)\n",
    "            else:\n",
    "                curr_key = tuple([k1, k2])\n",
    "                cell_value = counts.get(curr_key) if curr_key in counts else counts.get(tuple([k2, k1]))\n",
    "                row.append(cell_value)\n",
    "        res.append(row)\n",
    "    return np.array(res, dtype=int)  "
   ]
  },
  {
   "cell_type": "code",
   "execution_count": 8,
   "metadata": {},
   "outputs": [],
   "source": [
    "tech_terms_matrix = make_matrix(tech_terms_filters, match_dict)"
   ]
  },
  {
   "cell_type": "code",
   "execution_count": 9,
   "metadata": {},
   "outputs": [
    {
     "data": {
      "text/html": [
       "<div>\n",
       "<style scoped>\n",
       "    .dataframe tbody tr th:only-of-type {\n",
       "        vertical-align: middle;\n",
       "    }\n",
       "\n",
       "    .dataframe tbody tr th {\n",
       "        vertical-align: top;\n",
       "    }\n",
       "\n",
       "    .dataframe thead th {\n",
       "        text-align: right;\n",
       "    }\n",
       "</style>\n",
       "<table border=\"1\" class=\"dataframe\">\n",
       "  <thead>\n",
       "    <tr style=\"text-align: right;\">\n",
       "      <th></th>\n",
       "      <th>Power BI</th>\n",
       "      <th>Excel</th>\n",
       "      <th>SSIS/SSRS</th>\n",
       "      <th>MS SQL Server</th>\n",
       "      <th>PostgreSQL</th>\n",
       "      <th>MySQL/MariaDB</th>\n",
       "      <th>T-SQL</th>\n",
       "      <th>PL/SQL</th>\n",
       "      <th>Pentaho</th>\n",
       "      <th>Hadoop</th>\n",
       "      <th>Spark</th>\n",
       "      <th>Informatica</th>\n",
       "      <th>Qlik</th>\n",
       "      <th>Tableau</th>\n",
       "      <th>Microstrategy</th>\n",
       "      <th>Oracle BI</th>\n",
       "      <th>Python</th>\n",
       "      <th>VBA</th>\n",
       "      <th>Linux</th>\n",
       "      <th>AWS</th>\n",
       "    </tr>\n",
       "  </thead>\n",
       "  <tbody>\n",
       "    <tr>\n",
       "      <th>Power BI</th>\n",
       "      <td>0</td>\n",
       "      <td>241</td>\n",
       "      <td>137</td>\n",
       "      <td>137</td>\n",
       "      <td>0</td>\n",
       "      <td>5</td>\n",
       "      <td>52</td>\n",
       "      <td>11</td>\n",
       "      <td>9</td>\n",
       "      <td>27</td>\n",
       "      <td>34</td>\n",
       "      <td>20</td>\n",
       "      <td>199</td>\n",
       "      <td>202</td>\n",
       "      <td>31</td>\n",
       "      <td>192</td>\n",
       "      <td>87</td>\n",
       "      <td>40</td>\n",
       "      <td>10</td>\n",
       "      <td>6</td>\n",
       "    </tr>\n",
       "    <tr>\n",
       "      <th>Excel</th>\n",
       "      <td>241</td>\n",
       "      <td>0</td>\n",
       "      <td>639</td>\n",
       "      <td>278</td>\n",
       "      <td>78</td>\n",
       "      <td>133</td>\n",
       "      <td>189</td>\n",
       "      <td>65</td>\n",
       "      <td>68</td>\n",
       "      <td>93</td>\n",
       "      <td>100</td>\n",
       "      <td>120</td>\n",
       "      <td>444</td>\n",
       "      <td>458</td>\n",
       "      <td>43</td>\n",
       "      <td>673</td>\n",
       "      <td>388</td>\n",
       "      <td>275</td>\n",
       "      <td>84</td>\n",
       "      <td>60</td>\n",
       "    </tr>\n",
       "    <tr>\n",
       "      <th>SSIS/SSRS</th>\n",
       "      <td>137</td>\n",
       "      <td>639</td>\n",
       "      <td>0</td>\n",
       "      <td>286</td>\n",
       "      <td>63</td>\n",
       "      <td>89</td>\n",
       "      <td>141</td>\n",
       "      <td>57</td>\n",
       "      <td>36</td>\n",
       "      <td>46</td>\n",
       "      <td>48</td>\n",
       "      <td>74</td>\n",
       "      <td>94</td>\n",
       "      <td>181</td>\n",
       "      <td>35</td>\n",
       "      <td>299</td>\n",
       "      <td>175</td>\n",
       "      <td>95</td>\n",
       "      <td>22</td>\n",
       "      <td>31</td>\n",
       "    </tr>\n",
       "    <tr>\n",
       "      <th>MS SQL Server</th>\n",
       "      <td>137</td>\n",
       "      <td>278</td>\n",
       "      <td>286</td>\n",
       "      <td>0</td>\n",
       "      <td>99</td>\n",
       "      <td>105</td>\n",
       "      <td>185</td>\n",
       "      <td>14</td>\n",
       "      <td>49</td>\n",
       "      <td>34</td>\n",
       "      <td>34</td>\n",
       "      <td>66</td>\n",
       "      <td>69</td>\n",
       "      <td>119</td>\n",
       "      <td>22</td>\n",
       "      <td>190</td>\n",
       "      <td>121</td>\n",
       "      <td>39</td>\n",
       "      <td>58</td>\n",
       "      <td>10</td>\n",
       "    </tr>\n",
       "    <tr>\n",
       "      <th>PostgreSQL</th>\n",
       "      <td>0</td>\n",
       "      <td>78</td>\n",
       "      <td>63</td>\n",
       "      <td>99</td>\n",
       "      <td>0</td>\n",
       "      <td>110</td>\n",
       "      <td>42</td>\n",
       "      <td>3</td>\n",
       "      <td>50</td>\n",
       "      <td>4</td>\n",
       "      <td>13</td>\n",
       "      <td>2</td>\n",
       "      <td>14</td>\n",
       "      <td>6</td>\n",
       "      <td>0</td>\n",
       "      <td>50</td>\n",
       "      <td>30</td>\n",
       "      <td>0</td>\n",
       "      <td>48</td>\n",
       "      <td>6</td>\n",
       "    </tr>\n",
       "    <tr>\n",
       "      <th>MySQL/MariaDB</th>\n",
       "      <td>5</td>\n",
       "      <td>133</td>\n",
       "      <td>89</td>\n",
       "      <td>105</td>\n",
       "      <td>110</td>\n",
       "      <td>0</td>\n",
       "      <td>41</td>\n",
       "      <td>1</td>\n",
       "      <td>68</td>\n",
       "      <td>7</td>\n",
       "      <td>30</td>\n",
       "      <td>11</td>\n",
       "      <td>17</td>\n",
       "      <td>55</td>\n",
       "      <td>0</td>\n",
       "      <td>78</td>\n",
       "      <td>63</td>\n",
       "      <td>5</td>\n",
       "      <td>50</td>\n",
       "      <td>2</td>\n",
       "    </tr>\n",
       "    <tr>\n",
       "      <th>T-SQL</th>\n",
       "      <td>52</td>\n",
       "      <td>189</td>\n",
       "      <td>141</td>\n",
       "      <td>185</td>\n",
       "      <td>42</td>\n",
       "      <td>41</td>\n",
       "      <td>0</td>\n",
       "      <td>48</td>\n",
       "      <td>42</td>\n",
       "      <td>24</td>\n",
       "      <td>25</td>\n",
       "      <td>13</td>\n",
       "      <td>77</td>\n",
       "      <td>106</td>\n",
       "      <td>17</td>\n",
       "      <td>153</td>\n",
       "      <td>56</td>\n",
       "      <td>27</td>\n",
       "      <td>29</td>\n",
       "      <td>10</td>\n",
       "    </tr>\n",
       "    <tr>\n",
       "      <th>PL/SQL</th>\n",
       "      <td>11</td>\n",
       "      <td>65</td>\n",
       "      <td>57</td>\n",
       "      <td>14</td>\n",
       "      <td>3</td>\n",
       "      <td>1</td>\n",
       "      <td>48</td>\n",
       "      <td>0</td>\n",
       "      <td>8</td>\n",
       "      <td>6</td>\n",
       "      <td>0</td>\n",
       "      <td>33</td>\n",
       "      <td>20</td>\n",
       "      <td>26</td>\n",
       "      <td>26</td>\n",
       "      <td>93</td>\n",
       "      <td>3</td>\n",
       "      <td>10</td>\n",
       "      <td>4</td>\n",
       "      <td>2</td>\n",
       "    </tr>\n",
       "    <tr>\n",
       "      <th>Pentaho</th>\n",
       "      <td>9</td>\n",
       "      <td>68</td>\n",
       "      <td>36</td>\n",
       "      <td>49</td>\n",
       "      <td>50</td>\n",
       "      <td>68</td>\n",
       "      <td>42</td>\n",
       "      <td>8</td>\n",
       "      <td>0</td>\n",
       "      <td>0</td>\n",
       "      <td>8</td>\n",
       "      <td>36</td>\n",
       "      <td>33</td>\n",
       "      <td>41</td>\n",
       "      <td>4</td>\n",
       "      <td>40</td>\n",
       "      <td>38</td>\n",
       "      <td>1</td>\n",
       "      <td>38</td>\n",
       "      <td>15</td>\n",
       "    </tr>\n",
       "    <tr>\n",
       "      <th>Hadoop</th>\n",
       "      <td>27</td>\n",
       "      <td>93</td>\n",
       "      <td>46</td>\n",
       "      <td>34</td>\n",
       "      <td>4</td>\n",
       "      <td>7</td>\n",
       "      <td>24</td>\n",
       "      <td>6</td>\n",
       "      <td>0</td>\n",
       "      <td>0</td>\n",
       "      <td>161</td>\n",
       "      <td>5</td>\n",
       "      <td>9</td>\n",
       "      <td>50</td>\n",
       "      <td>3</td>\n",
       "      <td>48</td>\n",
       "      <td>176</td>\n",
       "      <td>10</td>\n",
       "      <td>112</td>\n",
       "      <td>60</td>\n",
       "    </tr>\n",
       "    <tr>\n",
       "      <th>Spark</th>\n",
       "      <td>34</td>\n",
       "      <td>100</td>\n",
       "      <td>48</td>\n",
       "      <td>34</td>\n",
       "      <td>13</td>\n",
       "      <td>30</td>\n",
       "      <td>25</td>\n",
       "      <td>0</td>\n",
       "      <td>8</td>\n",
       "      <td>161</td>\n",
       "      <td>0</td>\n",
       "      <td>15</td>\n",
       "      <td>16</td>\n",
       "      <td>43</td>\n",
       "      <td>3</td>\n",
       "      <td>44</td>\n",
       "      <td>193</td>\n",
       "      <td>10</td>\n",
       "      <td>92</td>\n",
       "      <td>64</td>\n",
       "    </tr>\n",
       "    <tr>\n",
       "      <th>Informatica</th>\n",
       "      <td>20</td>\n",
       "      <td>120</td>\n",
       "      <td>74</td>\n",
       "      <td>66</td>\n",
       "      <td>2</td>\n",
       "      <td>11</td>\n",
       "      <td>13</td>\n",
       "      <td>33</td>\n",
       "      <td>36</td>\n",
       "      <td>5</td>\n",
       "      <td>15</td>\n",
       "      <td>0</td>\n",
       "      <td>94</td>\n",
       "      <td>74</td>\n",
       "      <td>18</td>\n",
       "      <td>136</td>\n",
       "      <td>31</td>\n",
       "      <td>6</td>\n",
       "      <td>12</td>\n",
       "      <td>21</td>\n",
       "    </tr>\n",
       "    <tr>\n",
       "      <th>Qlik</th>\n",
       "      <td>199</td>\n",
       "      <td>444</td>\n",
       "      <td>94</td>\n",
       "      <td>69</td>\n",
       "      <td>14</td>\n",
       "      <td>17</td>\n",
       "      <td>77</td>\n",
       "      <td>20</td>\n",
       "      <td>33</td>\n",
       "      <td>9</td>\n",
       "      <td>16</td>\n",
       "      <td>94</td>\n",
       "      <td>0</td>\n",
       "      <td>358</td>\n",
       "      <td>41</td>\n",
       "      <td>379</td>\n",
       "      <td>54</td>\n",
       "      <td>31</td>\n",
       "      <td>2</td>\n",
       "      <td>3</td>\n",
       "    </tr>\n",
       "    <tr>\n",
       "      <th>Tableau</th>\n",
       "      <td>202</td>\n",
       "      <td>458</td>\n",
       "      <td>181</td>\n",
       "      <td>119</td>\n",
       "      <td>6</td>\n",
       "      <td>55</td>\n",
       "      <td>106</td>\n",
       "      <td>26</td>\n",
       "      <td>41</td>\n",
       "      <td>50</td>\n",
       "      <td>43</td>\n",
       "      <td>74</td>\n",
       "      <td>358</td>\n",
       "      <td>0</td>\n",
       "      <td>59</td>\n",
       "      <td>454</td>\n",
       "      <td>152</td>\n",
       "      <td>81</td>\n",
       "      <td>25</td>\n",
       "      <td>33</td>\n",
       "    </tr>\n",
       "    <tr>\n",
       "      <th>Microstrategy</th>\n",
       "      <td>31</td>\n",
       "      <td>43</td>\n",
       "      <td>35</td>\n",
       "      <td>22</td>\n",
       "      <td>0</td>\n",
       "      <td>0</td>\n",
       "      <td>17</td>\n",
       "      <td>26</td>\n",
       "      <td>4</td>\n",
       "      <td>3</td>\n",
       "      <td>3</td>\n",
       "      <td>18</td>\n",
       "      <td>41</td>\n",
       "      <td>59</td>\n",
       "      <td>0</td>\n",
       "      <td>67</td>\n",
       "      <td>20</td>\n",
       "      <td>7</td>\n",
       "      <td>10</td>\n",
       "      <td>2</td>\n",
       "    </tr>\n",
       "    <tr>\n",
       "      <th>Oracle BI</th>\n",
       "      <td>192</td>\n",
       "      <td>673</td>\n",
       "      <td>299</td>\n",
       "      <td>190</td>\n",
       "      <td>50</td>\n",
       "      <td>78</td>\n",
       "      <td>153</td>\n",
       "      <td>93</td>\n",
       "      <td>40</td>\n",
       "      <td>48</td>\n",
       "      <td>44</td>\n",
       "      <td>136</td>\n",
       "      <td>379</td>\n",
       "      <td>454</td>\n",
       "      <td>67</td>\n",
       "      <td>0</td>\n",
       "      <td>172</td>\n",
       "      <td>88</td>\n",
       "      <td>6</td>\n",
       "      <td>47</td>\n",
       "    </tr>\n",
       "    <tr>\n",
       "      <th>Python</th>\n",
       "      <td>87</td>\n",
       "      <td>388</td>\n",
       "      <td>175</td>\n",
       "      <td>121</td>\n",
       "      <td>30</td>\n",
       "      <td>63</td>\n",
       "      <td>56</td>\n",
       "      <td>3</td>\n",
       "      <td>38</td>\n",
       "      <td>176</td>\n",
       "      <td>193</td>\n",
       "      <td>31</td>\n",
       "      <td>54</td>\n",
       "      <td>152</td>\n",
       "      <td>20</td>\n",
       "      <td>172</td>\n",
       "      <td>0</td>\n",
       "      <td>69</td>\n",
       "      <td>118</td>\n",
       "      <td>109</td>\n",
       "    </tr>\n",
       "    <tr>\n",
       "      <th>VBA</th>\n",
       "      <td>40</td>\n",
       "      <td>275</td>\n",
       "      <td>95</td>\n",
       "      <td>39</td>\n",
       "      <td>0</td>\n",
       "      <td>5</td>\n",
       "      <td>27</td>\n",
       "      <td>10</td>\n",
       "      <td>1</td>\n",
       "      <td>10</td>\n",
       "      <td>10</td>\n",
       "      <td>6</td>\n",
       "      <td>31</td>\n",
       "      <td>81</td>\n",
       "      <td>7</td>\n",
       "      <td>88</td>\n",
       "      <td>69</td>\n",
       "      <td>0</td>\n",
       "      <td>4</td>\n",
       "      <td>5</td>\n",
       "    </tr>\n",
       "    <tr>\n",
       "      <th>Linux</th>\n",
       "      <td>10</td>\n",
       "      <td>84</td>\n",
       "      <td>22</td>\n",
       "      <td>58</td>\n",
       "      <td>48</td>\n",
       "      <td>50</td>\n",
       "      <td>29</td>\n",
       "      <td>4</td>\n",
       "      <td>38</td>\n",
       "      <td>112</td>\n",
       "      <td>92</td>\n",
       "      <td>12</td>\n",
       "      <td>2</td>\n",
       "      <td>25</td>\n",
       "      <td>10</td>\n",
       "      <td>6</td>\n",
       "      <td>118</td>\n",
       "      <td>4</td>\n",
       "      <td>0</td>\n",
       "      <td>29</td>\n",
       "    </tr>\n",
       "    <tr>\n",
       "      <th>AWS</th>\n",
       "      <td>6</td>\n",
       "      <td>60</td>\n",
       "      <td>31</td>\n",
       "      <td>10</td>\n",
       "      <td>6</td>\n",
       "      <td>2</td>\n",
       "      <td>10</td>\n",
       "      <td>2</td>\n",
       "      <td>15</td>\n",
       "      <td>60</td>\n",
       "      <td>64</td>\n",
       "      <td>21</td>\n",
       "      <td>3</td>\n",
       "      <td>33</td>\n",
       "      <td>2</td>\n",
       "      <td>47</td>\n",
       "      <td>109</td>\n",
       "      <td>5</td>\n",
       "      <td>29</td>\n",
       "      <td>0</td>\n",
       "    </tr>\n",
       "  </tbody>\n",
       "</table>\n",
       "</div>"
      ],
      "text/plain": [
       "               Power BI  Excel  SSIS/SSRS  MS SQL Server  PostgreSQL  \\\n",
       "Power BI              0    241        137            137           0   \n",
       "Excel               241      0        639            278          78   \n",
       "SSIS/SSRS           137    639          0            286          63   \n",
       "MS SQL Server       137    278        286              0          99   \n",
       "PostgreSQL            0     78         63             99           0   \n",
       "MySQL/MariaDB         5    133         89            105         110   \n",
       "T-SQL                52    189        141            185          42   \n",
       "PL/SQL               11     65         57             14           3   \n",
       "Pentaho               9     68         36             49          50   \n",
       "Hadoop               27     93         46             34           4   \n",
       "Spark                34    100         48             34          13   \n",
       "Informatica          20    120         74             66           2   \n",
       "Qlik                199    444         94             69          14   \n",
       "Tableau             202    458        181            119           6   \n",
       "Microstrategy        31     43         35             22           0   \n",
       "Oracle BI           192    673        299            190          50   \n",
       "Python               87    388        175            121          30   \n",
       "VBA                  40    275         95             39           0   \n",
       "Linux                10     84         22             58          48   \n",
       "AWS                   6     60         31             10           6   \n",
       "\n",
       "               MySQL/MariaDB  T-SQL  PL/SQL  Pentaho  Hadoop  Spark  \\\n",
       "Power BI                   5     52      11        9      27     34   \n",
       "Excel                    133    189      65       68      93    100   \n",
       "SSIS/SSRS                 89    141      57       36      46     48   \n",
       "MS SQL Server            105    185      14       49      34     34   \n",
       "PostgreSQL               110     42       3       50       4     13   \n",
       "MySQL/MariaDB              0     41       1       68       7     30   \n",
       "T-SQL                     41      0      48       42      24     25   \n",
       "PL/SQL                     1     48       0        8       6      0   \n",
       "Pentaho                   68     42       8        0       0      8   \n",
       "Hadoop                     7     24       6        0       0    161   \n",
       "Spark                     30     25       0        8     161      0   \n",
       "Informatica               11     13      33       36       5     15   \n",
       "Qlik                      17     77      20       33       9     16   \n",
       "Tableau                   55    106      26       41      50     43   \n",
       "Microstrategy              0     17      26        4       3      3   \n",
       "Oracle BI                 78    153      93       40      48     44   \n",
       "Python                    63     56       3       38     176    193   \n",
       "VBA                        5     27      10        1      10     10   \n",
       "Linux                     50     29       4       38     112     92   \n",
       "AWS                        2     10       2       15      60     64   \n",
       "\n",
       "               Informatica  Qlik  Tableau  Microstrategy  Oracle BI  Python  \\\n",
       "Power BI                20   199      202             31        192      87   \n",
       "Excel                  120   444      458             43        673     388   \n",
       "SSIS/SSRS               74    94      181             35        299     175   \n",
       "MS SQL Server           66    69      119             22        190     121   \n",
       "PostgreSQL               2    14        6              0         50      30   \n",
       "MySQL/MariaDB           11    17       55              0         78      63   \n",
       "T-SQL                   13    77      106             17        153      56   \n",
       "PL/SQL                  33    20       26             26         93       3   \n",
       "Pentaho                 36    33       41              4         40      38   \n",
       "Hadoop                   5     9       50              3         48     176   \n",
       "Spark                   15    16       43              3         44     193   \n",
       "Informatica              0    94       74             18        136      31   \n",
       "Qlik                    94     0      358             41        379      54   \n",
       "Tableau                 74   358        0             59        454     152   \n",
       "Microstrategy           18    41       59              0         67      20   \n",
       "Oracle BI              136   379      454             67          0     172   \n",
       "Python                  31    54      152             20        172       0   \n",
       "VBA                      6    31       81              7         88      69   \n",
       "Linux                   12     2       25             10          6     118   \n",
       "AWS                     21     3       33              2         47     109   \n",
       "\n",
       "               VBA  Linux  AWS  \n",
       "Power BI        40     10    6  \n",
       "Excel          275     84   60  \n",
       "SSIS/SSRS       95     22   31  \n",
       "MS SQL Server   39     58   10  \n",
       "PostgreSQL       0     48    6  \n",
       "MySQL/MariaDB    5     50    2  \n",
       "T-SQL           27     29   10  \n",
       "PL/SQL          10      4    2  \n",
       "Pentaho          1     38   15  \n",
       "Hadoop          10    112   60  \n",
       "Spark           10     92   64  \n",
       "Informatica      6     12   21  \n",
       "Qlik            31      2    3  \n",
       "Tableau         81     25   33  \n",
       "Microstrategy    7     10    2  \n",
       "Oracle BI       88      6   47  \n",
       "Python          69    118  109  \n",
       "VBA              0      4    5  \n",
       "Linux            4      0   29  \n",
       "AWS              5     29    0  "
      ]
     },
     "execution_count": 9,
     "metadata": {},
     "output_type": "execute_result"
    }
   ],
   "source": [
    "tech_terms_df = pd.DataFrame(tech_terms_matrix, columns=tech_terms_labels, index=tech_terms_labels)\n",
    "tech_terms_df"
   ]
  },
  {
   "cell_type": "markdown",
   "metadata": {},
   "source": [
    "We can finally move to Plotly. \n",
    "\n",
    "A chord diagram encodes information in two graphical objects:\n",
    "\n",
    "- Ideograms, represented by distinctly colored arcs of circles;\n",
    "- Ribbons, that are planar shapes bounded by two quadratic Bezier curves and two arcs of circle,that can degenerate to a point;\n"
   ]
  },
  {
   "cell_type": "markdown",
   "metadata": {},
   "source": [
    "### Ideograms Preparation"
   ]
  },
  {
   "cell_type": "markdown",
   "metadata": {},
   "source": [
    "For each of our predefined tech terms we can produce a total hits count by summing up all the entries on the row (or column for that matter). That total count determines the size of each ideogram of the chart.\n",
    "\n",
    "We are going to need a couple of helper functions to process the data in order to get ideogram ends.\n"
   ]
  },
  {
   "cell_type": "code",
   "execution_count": 10,
   "metadata": {},
   "outputs": [],
   "source": [
    "PI = np.pi\n",
    "\n",
    "def moduloAB(x, a, b):\n",
    "    if a >= b:\n",
    "        raise ValueError('Incorrect interval ends')\n",
    "    y = (x-a) % (b-a)\n",
    "    return y+b if y < 0 else y+a\n",
    "\n",
    "\n",
    "def test_2PI(x):\n",
    "    return 0 <= x < 2*PI"
   ]
  },
  {
   "cell_type": "markdown",
   "metadata": {},
   "source": [
    "And now use them to compute the row sums and the lengths of corresponding ideograms."
   ]
  },
  {
   "cell_type": "code",
   "execution_count": 11,
   "metadata": {},
   "outputs": [],
   "source": [
    "row_sum = [np.sum(tech_terms_matrix[k, :]) for k in range(len(tech_terms_filters))]\n",
    "\n",
    "#set the gap between two consecutive ideograms\n",
    "gap = 2*PI*0.005\n",
    "ideogram_length = 2*PI*np.asarray(row_sum)/sum(row_sum)-gap*np.ones(len(tech_terms_filters))"
   ]
  },
  {
   "cell_type": "markdown",
   "metadata": {},
   "source": [
    "The next function returns the list of end angular coordinates for each ideogram arc:\n"
   ]
  },
  {
   "cell_type": "code",
   "execution_count": 12,
   "metadata": {},
   "outputs": [],
   "source": [
    "def get_ideogram_ends(ideogram_len, gap):\n",
    "    ideo_ends = []\n",
    "    left = 0\n",
    "    for k in range(len(ideogram_len)):\n",
    "        right = left+ideogram_len[k]\n",
    "        ideo_ends.append([left, right])\n",
    "        left = right+gap\n",
    "    return ideo_ends\n",
    "\n",
    "ideo_ends = get_ideogram_ends(ideogram_length, gap)"
   ]
  },
  {
   "cell_type": "markdown",
   "metadata": {},
   "source": [
    "The function make_ideogram_arc returns equally spaced points on an ideogram arc, expressed as complex numbers in polar form:"
   ]
  },
  {
   "cell_type": "code",
   "execution_count": 13,
   "metadata": {},
   "outputs": [],
   "source": [
    "def make_ideogram_arc(R, phi, a=50):\n",
    "    if not test_2PI(phi[0]) or not test_2PI(phi[1]):\n",
    "        phi = [moduloAB(t, 0, 2*PI) for t in phi]\n",
    "    length = (phi[1]-phi[0]) % 2*PI\n",
    "    nr = 5 if length <= PI/4 else int(a*length/PI)\n",
    "    if phi[0] < phi[1]:\n",
    "        theta = np.linspace(phi[0], phi[1], nr)\n",
    "    else:\n",
    "        phi = [moduloAB(t, -PI, PI) for t in phi]\n",
    "        theta = np.linspace(phi[0], phi[1], nr)\n",
    "    return R*np.exp(1j*theta)"
   ]
  },
  {
   "cell_type": "code",
   "execution_count": 14,
   "metadata": {},
   "outputs": [],
   "source": [
    "z = make_ideogram_arc(1.3, [11*PI/6, PI/17])"
   ]
  },
  {
   "cell_type": "markdown",
   "metadata": {},
   "source": [
    "### Ribbons Preparation"
   ]
  },
  {
   "cell_type": "markdown",
   "metadata": {},
   "source": [
    "The function map_data maps all matrix entries to the corresponding values in the intervals associated to ideograms:"
   ]
  },
  {
   "cell_type": "code",
   "execution_count": 15,
   "metadata": {},
   "outputs": [],
   "source": [
    "def map_data(data_matrix, row_value, ideogram_length):\n",
    "    mapped = np.zeros(data_matrix.shape)\n",
    "    for j in range(len(tech_terms_filters)):\n",
    "        mapped[:, j] = ideogram_length*data_matrix[:, j]/row_value\n",
    "    return mapped\n",
    "\n",
    "mapped_data = map_data(tech_terms_matrix, row_sum, ideogram_length)"
   ]
  },
  {
   "cell_type": "markdown",
   "metadata": {},
   "source": [
    "The array idx_sort, defined below, has on each row the indices that sort the corresponding row in mapped_data:\n"
   ]
  },
  {
   "cell_type": "code",
   "execution_count": 16,
   "metadata": {},
   "outputs": [],
   "source": [
    "idx_sort = np.argsort(mapped_data, axis=1)"
   ]
  },
  {
   "cell_type": "code",
   "execution_count": 17,
   "metadata": {},
   "outputs": [
    {
     "name": "stdout",
     "output_type": "stream",
     "text": [
      "ribbon ends starting from the ideogram[2]\n",
      " [(1.2748397485942402, 1.2748397485942402), (1.2748397485942402, 1.2793472448999457), (1.2793472448999457, 1.2856987169670762), (1.2856987169670762, 1.292869733817062), (1.292869733817062, 1.300245636862762), (1.300245636862762, 1.3096704018656007), (1.3096704018656007, 1.3195049392598672), (1.3195049392598672, 1.3311834524155588), (1.3311834524155588, 1.3440912827455336), (1.3440912827455336, 1.3592528612283612), (1.3592528612283612, 1.377487732646897), (1.377487732646897, 1.3967470350440023), (1.3967470350440023, 1.4162112236368214), (1.4162112236368214, 1.4442806324496238), (1.4442806324496238, 1.4731695860452816), (1.4731695860452816, 1.5090246702952115), (1.5090246702952115, 1.5461090717194248), (1.5461090717194248, 1.604706523693596), (1.604706523693596, 1.6659674962120479), (1.6659674962120479, 1.796889775273221)]\n"
     ]
    }
   ],
   "source": [
    "def make_ribbon_ends(mapped_data, ideo_ends,  idx_sort):\n",
    "    L = mapped_data.shape[0]\n",
    "    ribbon_boundary = np.zeros((L, L+1))\n",
    "    for k in range(L):\n",
    "        start = ideo_ends[k][0]\n",
    "        ribbon_boundary[k][0] = start\n",
    "        for j in range(1, L+1):\n",
    "            J = idx_sort[k][j-1]\n",
    "            ribbon_boundary[k][j] = start+mapped_data[k][J]\n",
    "            start = ribbon_boundary[k][j]\n",
    "    return [[(ribbon_boundary[k][j], ribbon_boundary[k][j+1]) for j in range(L)] for k in range(L)]\n",
    "\n",
    "\n",
    "ribbon_ends = make_ribbon_ends(mapped_data, ideo_ends, idx_sort)\n",
    "print('ribbon ends starting from the ideogram[2]\\n', ribbon_ends[2])"
   ]
  },
  {
   "cell_type": "code",
   "execution_count": 18,
   "metadata": {},
   "outputs": [],
   "source": [
    "def control_pts(angle, radius):\n",
    "    if len(angle) != 3:\n",
    "        raise InvalidInputError('angle must have len =3')\n",
    "    b_cplx = np.array([np.exp(1j*angle[k]) for k in range(3)])\n",
    "    b_cplx[1] = radius*b_cplx[1]\n",
    "    return zip(b_cplx.real, b_cplx.imag)"
   ]
  },
  {
   "cell_type": "code",
   "execution_count": 19,
   "metadata": {},
   "outputs": [],
   "source": [
    "def ctrl_rib_chords(l, r, radius):\n",
    "    if len(l) != 2 or len(r) != 2:\n",
    "        raise ValueError('the arc ends must be elements in a list of len 2')\n",
    "    return [control_pts([l[j], (l[j]+r[j])/2, r[j]], radius) for j in range(2)]"
   ]
  },
  {
   "cell_type": "code",
   "execution_count": 20,
   "metadata": {},
   "outputs": [
    {
     "data": {
      "text/plain": [
       "'M 1,4 Q -0.5, 2.35 3.745, 1.47'"
      ]
     },
     "execution_count": 20,
     "metadata": {},
     "output_type": "execute_result"
    }
   ],
   "source": [
    "def make_q_bezier(b):\n",
    "    if len(b) != 3:\n",
    "        raise ValueError('control poligon must have 3 points')\n",
    "    A, B, C = b\n",
    "    return 'M ' + str(A[0]) + ',' + str(A[1]) + ' ' + 'Q ' + \\\n",
    "        str(B[0]) + ', ' + str(B[1]) + ' ' + \\\n",
    "        str(C[0]) + ', ' + str(C[1])\n",
    "\n",
    "\n",
    "b = [(1,4), (-0.5, 2.35), (3.745, 1.47)]\n",
    "make_q_bezier(b)"
   ]
  },
  {
   "cell_type": "code",
   "execution_count": 21,
   "metadata": {},
   "outputs": [],
   "source": [
    "def make_ribbon_arc(theta0, theta1):\n",
    "    if test_2PI(theta0) and test_2PI(theta1):\n",
    "        if theta0 < theta1:\n",
    "            theta0 = moduloAB(theta0, -PI, PI)\n",
    "            theta1 = moduloAB(theta1, -PI, PI)\n",
    "            if theta0*theta1 > 0:\n",
    "                raise ValueError('incorrect angle coordinates for ribbon')\n",
    "\n",
    "        nr = int(40*(theta0-theta1)/PI)\n",
    "        if nr <= 2: \n",
    "            nr = 3\n",
    "        theta = np.linspace(theta0, theta1, nr)\n",
    "        pts = np.exp(1j*theta)\n",
    "\n",
    "        string_arc = ''\n",
    "        for k in range(len(theta)):\n",
    "            string_arc += 'L ' + str(pts.real[k]) + ', ' + str(pts.imag[k]) + ' '\n",
    "        return string_arc\n",
    "    else:\n",
    "        raise ValueError('the angle coordinates for an arc side of a ribbon must be in [0, 2*pi]')"
   ]
  },
  {
   "cell_type": "code",
   "execution_count": 22,
   "metadata": {},
   "outputs": [],
   "source": [
    "def make_ideo_shape(path, line_color, fill_color):\n",
    "    return dict(\n",
    "        line=dict(color=line_color, width=0.45),\n",
    "        path=path,\n",
    "        type='path',\n",
    "        fillcolor=fill_color,\n",
    "        layer='below',\n",
    "    )"
   ]
  },
  {
   "cell_type": "code",
   "execution_count": 23,
   "metadata": {},
   "outputs": [],
   "source": [
    "temp_colors = [*DS['colorramp']['acc1'], *DS['colorramp']['acc2']]\n",
    "len_datalist = len(tech_terms_filters)\n",
    "ideo_colors = temp_colors[:len_datalist]"
   ]
  },
  {
   "cell_type": "code",
   "execution_count": 24,
   "metadata": {},
   "outputs": [],
   "source": [
    "def make_ribbon(l, r, line_color, fill_color, radius=0.2):\n",
    "    poligon = ctrl_rib_chords(l, r, radius)\n",
    "    b, c = poligon\n",
    "\n",
    "    return dict(\n",
    "        line=dict(\n",
    "            color=line_color,\n",
    "            width=0.5\n",
    "            ),\n",
    "        path=make_q_bezier(list(b))+make_ribbon_arc(r[0], r[1])+make_q_bezier(list(c)[::-1])+make_ribbon_arc(l[1], l[0]),\n",
    "        type='path',\n",
    "        fillcolor=fill_color,\n",
    "        layer='below'\n",
    "    )\n",
    "\n",
    "\n",
    "def make_self_rel(l, line_color, fill_color, radius):\n",
    "    b = control_pts([l[0], (l[0]+l[1])/2, l[1]], radius)\n",
    "    return dict(\n",
    "        line=dict(\n",
    "            color=line_color,\n",
    "            width=0.5\n",
    "            ),\n",
    "        path=make_q_bezier(b)+make_ribbon_arc(l[1], l[0]),\n",
    "        type='path',\n",
    "        fillcolor=fill_color,\n",
    "        layer='below'\n",
    "    )\n",
    "\n",
    "\n",
    "def invPerm(perm):\n",
    "    inv = [0] * len(perm)\n",
    "    for i, s in enumerate(perm):\n",
    "        inv[s] = i\n",
    "    return inv"
   ]
  },
  {
   "cell_type": "code",
   "execution_count": 25,
   "metadata": {},
   "outputs": [],
   "source": [
    "radii_sribb = [0.4, 0.30, 0.35, 0.39, 0.12]"
   ]
  },
  {
   "cell_type": "code",
   "execution_count": 26,
   "metadata": {},
   "outputs": [],
   "source": [
    "shapes = []\n",
    "ribbon_info = []\n",
    "\n",
    "for k in range(len(tech_terms_filters)):\n",
    "    sigma = idx_sort[k]\n",
    "    sigma_inv = invPerm(sigma)\n",
    "    for j in range(k, len(tech_terms_filters)):\n",
    "        if tech_terms_matrix[k][j] == 0 and tech_terms_matrix[j][k] == 0:\n",
    "            continue\n",
    "        eta = idx_sort[j]\n",
    "        eta_inv = invPerm(eta)\n",
    "        l = ribbon_ends[k][sigma_inv[j]]\n",
    "\n",
    "        if j == k:\n",
    "            shapes.append(make_self_rel(l, DS['colors']['acc1'], ideo_colors[k], radius=radii_sribb[k]))\n",
    "            z = 0.9*np.exp(1j*(l[0]+l[1])/2)\n",
    "            text = tech_terms_labels[k]+' appears in ' + '{:d}'.format(tech_terms_matrix[k][k]),\n",
    "            ribbon_info.append(\n",
    "                go.Scatter(\n",
    "                    x=[z.real],\n",
    "                    y=[z.imag],\n",
    "                    mode='markers',\n",
    "                    marker=dict(size=0.5, color=ideo_colors[k]),\n",
    "                    text=text,\n",
    "                    hoverinfo='text',\n",
    "                ),\n",
    "            )\n",
    "        else:\n",
    "            r = ribbon_ends[j][eta_inv[k]]\n",
    "            zi = 0.9*np.exp(1j*(l[0]+l[1])/2)\n",
    "            zf = 0.9*np.exp(1j*(r[0]+r[1])/2)\n",
    "            texti = tech_terms_labels[k]+' appears with '+tech_terms_labels[j]+' {:d}'.format(tech_terms_matrix[k][j])+' times'\n",
    "            textf = tech_terms_labels[j]+' appears with '+tech_terms_labels[k]+' {:d}'.format(tech_terms_matrix[j][k])+' times'\n",
    "\n",
    "            ribbon_info.append(go.Scatter(\n",
    "                x=[zi.real],\n",
    "                y=[zi.imag],\n",
    "                mode='markers',\n",
    "                marker=dict(size=0.5, color='green'),\n",
    "                text=texti,\n",
    "                hoverinfo='text'\n",
    "            )),\n",
    "            ribbon_info.append(go.Scatter(\n",
    "                x=[zf.real],\n",
    "                y=[zf.imag],\n",
    "                mode='markers',\n",
    "                marker=dict(size=0.5, color='blue'),\n",
    "                text=textf,\n",
    "                hoverinfo='text'\n",
    "            ))\n",
    "            r = (r[1], r[0])\n",
    "            shapes.append(make_ribbon(l, r, 'rgb(175,175,175)', ideo_colors[k]))"
   ]
  },
  {
   "cell_type": "code",
   "execution_count": 27,
   "metadata": {},
   "outputs": [
    {
     "name": "stderr",
     "output_type": "stream",
     "text": [
      "/games/WORKSPACE/jpynb_Job_Market_Trends_Bulgaria/ve-job_market_trends/lib/python3.7/site-packages/plotly/graph_objs/_deprecations.py:39: DeprecationWarning:\n",
      "\n",
      "plotly.graph_objs.Data is deprecated.\n",
      "Please replace it with a list or tuple of instances of the following types\n",
      "  - plotly.graph_objs.Scatter\n",
      "  - plotly.graph_objs.Bar\n",
      "  - plotly.graph_objs.Area\n",
      "  - plotly.graph_objs.Histogram\n",
      "  - etc.\n",
      "\n",
      "\n"
     ]
    }
   ],
   "source": [
    "ideograms = []\n",
    "for k in range(len(ideo_ends)):\n",
    "    z = make_ideogram_arc(1.1, ideo_ends[k])\n",
    "    zi = make_ideogram_arc(1.0, ideo_ends[k])\n",
    "    m = len(z)\n",
    "    n = len(zi)\n",
    "    ideograms.append(go.Scatter(\n",
    "        x=z.real,\n",
    "        y=z.imag,\n",
    "        mode='lines',\n",
    "        line=dict(color=ideo_colors[k], shape='spline', width=0.25),\n",
    "        text=tech_terms_labels[k]+'<br>'+'{:d}'.format(row_sum[k]),\n",
    "        hoverinfo='text',))\n",
    "\n",
    "    path = 'M '\n",
    "    for s in range(m):\n",
    "        path += str(z.real[s])+', '+str(z.imag[s])+' L '\n",
    "\n",
    "    Zi = np.array(zi.tolist()[::-1])\n",
    "\n",
    "    for s in range(m):\n",
    "        path += str(Zi.real[s])+', '+str(Zi.imag[s])+' L '\n",
    "    path += str(z.real[0])+' ,'+str(z.imag[0])\n",
    "\n",
    "    shapes.append(make_ideo_shape(path, 'rgb(150,150,150)', ideo_colors[k]))\n",
    "\n",
    "data = go.Data(ideograms+ribbon_info)\n"
   ]
  },
  {
   "cell_type": "code",
   "execution_count": 28,
   "metadata": {},
   "outputs": [],
   "source": [
    "layout = go.Layout(\n",
    "    paper_bgcolor=DS['colors']['bg1'],\n",
    "    plot_bgcolor=DS['colors']['bg1'],\n",
    "    title='Data Jobs ‒ Technologies in Demand and Relationships Between Them',\n",
    "    titlefont=DS['chart_fonts']['title'],\n",
    "    font=DS['chart_fonts']['text'],\n",
    "    autosize=False,\n",
    "    width=960,\n",
    "    height=525,\n",
    "    margin=dict(\n",
    "        l=280,\n",
    "        r=280,\n",
    "        t=80,\n",
    "        b=10,\n",
    "    ),\n",
    "    showlegend=False,\n",
    "    hidesources=True,\n",
    "    xaxis=dict(\n",
    "        showline=False,\n",
    "        zeroline=False,\n",
    "        showgrid=False,\n",
    "        showticklabels=False,\n",
    "        title='',\n",
    "    ),\n",
    "    yaxis=dict(\n",
    "        showline=False,\n",
    "        zeroline=False,\n",
    "        showgrid=False,\n",
    "        showticklabels=False,\n",
    "        title='',\n",
    "    ),\n",
    "    shapes=shapes,\n",
    "    hovermode='closest',\n",
    "    hoverdistance=40,\n",
    ")"
   ]
  },
  {
   "cell_type": "code",
   "execution_count": 29,
   "metadata": {},
   "outputs": [
    {
     "data": {
      "application/vnd.plotly.v1+json": {
       "config": {
        "linkText": "Export to plot.ly",
        "plotlyServerURL": "https://plot.ly",
        "showLink": true
       },
       "data": [
        {
         "hoverinfo": "text",
         "line": {
          "color": "#f2e6ce",
          "shape": "spline",
          "width": 0.25
         },
         "mode": "lines",
         "text": "Power BI<br>1440",
         "type": "scatter",
         "uid": "fe7ef702-b249-470a-a692-e6d280f8d387",
         "x": [
          1.1,
          1.099742350281155,
          1.0989695218216695,
          1.097681876656154,
          1.0958800179871802,
          1.093564789902711,
          1.0907372769806831,
          1.0873988037809315,
          1.083550934224695,
          1.0791954708619902,
          1.0743344540272008,
          1.0689701608832738,
          1.0631051043549733,
          1.056742031951691
         ],
         "y": [
          0,
          0.02380678470692216,
          0.04760241702950552,
          0.07137574980779067,
          0.09511564632812977,
          0.11881098554022483,
          0.14245066726682867,
          0.1660236174036678,
          0.1895187931071511,
          0.2129251879674345,
          0.2362318371644182,
          0.2594278226042606,
          0.2825022780340037,
          0.3054443941319131
         ]
        },
        {
         "hoverinfo": "text",
         "line": {
          "color": "#ecd5bb",
          "shape": "spline",
          "width": 0.25
         },
         "mode": "lines",
         "text": "Excel<br>4429",
         "type": "scatter",
         "uid": "04c929f9-eb39-48a2-a65d-2e14dc1fc3f8",
         "x": [
          1.0466263532740863,
          1.0394028887396138,
          1.031734894972929,
          1.02362565140246,
          1.0150786261692493,
          1.0060974746437081,
          0.9966860378622959,
          0.9868483408847966,
          0.97658859107289,
          0.9659111762907586,
          0.9548206630284963,
          0.9433217944491238,
          0.9314194883600438,
          0.9191188351098065,
          0.9064250954110806,
          0.8933436980907661,
          0.8798802377682063,
          0.8660404724624959,
          0.8518303211299048,
          0.8372558611324741,
          0.822323325638865,
          0.8070391009585732,
          0.7914097238106473,
          0.7754418785280814,
          0.7591423941990768,
          0.7425182417463934,
          0.7255765309460441,
          0.7083245073866031,
          0.6907695493704303,
          0.6729191647581376,
          0.6547809877576467,
          0.6363627756592078,
          0.617672405517784,
          0.59871787078421,
          0.5795072778865739,
          0.5600488427632797,
          0.5403508873492765,
          0.5204218360169521,
          0.5002702119732207,
          0.4799046336143377,
          0.459333810840005,
          0.4385665413283446,
          0.4176117067733282,
          0.3964782690862771,
          0.37517526656305394,
          0.35371181001858737
         ],
         "y": [
          0.3384867451351496,
          0.36005782157834887,
          0.3814749093914294,
          0.4027288489677511,
          0.42381055047550376,
          0.4447109977452249,
          0.4654212521258115,
          0.48593245630738074,
          0.5062358381093419,
          0.5263227142320606,
          0.5461844939705106,
          0.5658126828883258,
          0.5851988864506786,
          0.6043348136144338,
          0.6232122803740421,
          0.6418232132616538,
          0.6601596527999608,
          0.6782137569062847,
          0.6959778042464597,
          0.713444197537074,
          0.7306054667946561,
          0.7474542725304191,
          0.7639834088891951,
          0.7801858067312173,
          0.7960545366554316,
          0.8115828119630459,
          0.8267639915600489,
          0.8415915827974555,
          0.8560592442480677,
          0.8701607884185604,
          0.8838901843957319,
          0.8972415604257913,
          0.9102092064255746,
          0.9227875764246192,
          0.9349712909370498,
          0.9467551392622653,
          0.9581340817134363,
          0.969103251772867,
          0.9796579581732947,
          0.9897936869042399,
          0.9995061031425465,
          1.008791053106288,
          1.0176445658312474,
          1.0260628548692081,
          1.034042319907334,
          1.0415795483079413
         ]
        },
        {
         "hoverinfo": "text",
         "line": {
          "color": "#e6c4a9",
          "shape": "spline",
          "width": 0.25
         },
         "mode": "lines",
         "text": "SSIS/SSRS<br>2548",
         "type": "scatter",
         "uid": "cda4a64c-e635-44ba-9fcf-4aa0350ad788",
         "x": [
          0.32082047033980887,
          0.29878058222468823,
          0.27661041319010765,
          0.2543196303636456,
          0.23191795346557498,
          0.2094151505706545,
          0.18682103384883805,
          0.16414545528675356,
          0.14139830239182347,
          0.11858949388089429,
          0.09572897535525755,
          0.07282671496395005,
          0.049892699057220345,
          0.02693692783205866,
          0.003969410971691418,
          -0.01899983671906423,
          -0.0419607996806752,
          -0.06490346596610025,
          -0.08781783160641893,
          -0.11069390497298424,
          -0.13352171113419417,
          -0.15629129620498078,
          -0.1789927316871239,
          -0.20161611879849556,
          -0.224151592789344,
          -0.24658932724374225
         ],
         "y": [
          1.0521759481241453,
          1.0586454381356756,
          1.064653314142589,
          1.070196956457875,
          1.0752739478199682,
          1.0798820744467752,
          1.084019327000977,
          1.0876839014661863,
          1.0908741999335718,
          1.0935888312986164,
          1.0958266118676954,
          1.0975865658742183,
          1.0988679259041032,
          1.0996701332304022,
          1.0999928380569293,
          1.0998358996707869,
          1.0991993865037217,
          1.0980835761022871,
          1.0964889550068193,
          1.094416218539287,
          1.0918662705000997,
          1.0888402227740153,
          1.085339394845309,
          1.081365313222424,
          1.0769197107723492,
          1.072004525965016
         ]
        },
        {
         "hoverinfo": "text",
         "line": {
          "color": "#e1b396",
          "shape": "spline",
          "width": 0.25
         },
         "mode": "lines",
         "text": "MS SQL Server<br>1915",
         "type": "scatter",
         "uid": "cbcd15dd-d3fa-4e59-9c36-18c8e32719ff",
         "x": [
          -0.28014012619204287,
          -0.30280002037181664,
          -0.3253217153838939,
          -0.34769493223456177,
          -0.36990945969614664,
          -0.39195515896746214,
          -0.4138219683011974,
          -0.4354999075961411,
          -0.45697908295214035,
          -0.47824969118571636,
          -0.4993020243042788,
          -0.5201264739368913,
          -0.5407135357195735,
          -0.5610538136331309,
          -0.5811380242915346,
          -0.6009570011788999,
          -0.620501698833119,
          -0.639763196974249,
          -0.6587327045757607
         ],
         "y": [
          1.0637299984944988,
          1.0575027884893862,
          1.0507929298866077,
          1.043603485093071,
          1.0359377354007842,
          1.0277991794892578,
          1.0191915318286957,
          1.0101187209846934,
          1.0005848878252264,
          0.9905943836307408,
          0.9801517681082096,
          0.9692618073100665,
          0.9579294714589575,
          0.946159932679312,
          0.9339585626367649,
          0.9213309300865048,
          0.9082827983316722,
          0.8948201225929648,
          0.8809490472906499
         ]
        },
        {
         "hoverinfo": "text",
         "line": {
          "color": "#dba284",
          "shape": "spline",
          "width": 0.25
         },
         "mode": "lines",
         "text": "PostgreSQL<br>618",
         "type": "scatter",
         "uid": "23079529-a02b-4e40-9803-4e9fa6fcd726",
         "x": [
          -0.6860789380354873,
          -0.7079523344737332,
          -0.7293579477821562,
          -0.7502816340921633,
          -0.7707095679708931
         ],
         "y": [
          0.8598230578346328,
          0.8419046811327228,
          0.8234300116020801,
          0.8044112564751897,
          0.7848609824918803
         ]
        },
        {
         "hoverinfo": "text",
         "line": {
          "color": "#d59171",
          "shape": "spline",
          "width": 0.25
         },
         "mode": "lines",
         "text": "MySQL/MariaDB<br>870",
         "type": "scatter",
         "uid": "7787e921-de09-4ee0-bcd8-548fd234cef4",
         "x": [
          -0.7949823485544216,
          -0.8243051291768441,
          -0.8523490762616743,
          -0.8790706822062189,
          -0.9044284908983533
         ],
         "y": [
          0.760265128416986,
          0.7283687623812175,
          0.6953423992508085,
          0.6612372763883575,
          0.6261063047528967
         ]
        },
        {
         "hoverinfo": "text",
         "line": {
          "color": "#d0805f",
          "shape": "spline",
          "width": 0.25
         },
         "mode": "lines",
         "text": "T-SQL<br>1277",
         "type": "scatter",
         "uid": "44354c88-6ae2-4204-9553-fcc7d142481e",
         "x": [
          -0.9236486843304729,
          -0.9586145198843733,
          -0.9899567003815352,
          -1.0175567493661026,
          -1.0413103359991474
         ],
         "y": [
          0.5973885736558632,
          0.5394981021902234,
          0.47956827602511776,
          0.4178256356657529,
          0.35450357422929213
         ]
        },
        {
         "hoverinfo": "text",
         "line": {
          "color": "#ca6f4c",
          "shape": "spline",
          "width": 0.25
         },
         "mode": "lines",
         "text": "PL/SQL<br>430",
         "type": "scatter",
         "uid": "51c961b4-715b-4e1f-a9c8-6ed60354f955",
         "x": [
          -1.0519317385702436,
          -1.0567892917894934,
          -1.061393063874805,
          -1.0657419492599982,
          -1.0698349035882908
         ],
         "y": [
          0.32162030002564373,
          0.3052808424370271,
          0.28886807362263844,
          0.27238593500307506,
          0.25583838465764447
         ]
        },
        {
         "hoverinfo": "text",
         "line": {
          "color": "#c45e3a",
          "shape": "spline",
          "width": 0.25
         },
         "mode": "lines",
         "text": "Pentaho<br>584",
         "type": "scatter",
         "uid": "09e9a344-a2fe-4aeb-8cd4-5ba51936c868",
         "x": [
          -1.0773430825081554,
          -1.0823353291060045,
          -1.086711456107208,
          -1.0904689724006191,
          -1.093605739019357
         ],
         "y": [
          0.22210781744870295,
          0.19634213854646004,
          0.17046469184365412,
          0.14449020808185536,
          0.11843347324099715
         ]
        },
        {
         "hoverinfo": "text",
         "line": {
          "color": "#bf4d28",
          "shape": "spline",
          "width": 0.25
         },
         "mode": "lines",
         "text": "Hadoop<br>875",
         "type": "scatter",
         "uid": "457cabdc-217f-439f-8f27-be6fc750e2b0",
         "x": [
          -1.0967861958982204,
          -1.0992553333185893,
          -1.0999954886592245,
          -1.0990054977544572,
          -1.0962869177279893
         ],
         "y": [
          0.08402404707648069,
          0.0404686566448336,
          -0.003150385588181628,
          -0.046764472684695704,
          -0.09030500550060838
         ]
        },
        {
         "hoverinfo": "text",
         "line": {
          "color": "#af4624",
          "shape": "spline",
          "width": 0.25
         },
         "mode": "lines",
         "text": "Spark<br>933",
         "type": "scatter",
         "uid": "d7507439-c51f-40d0-bc3a-0bf69cceb7a9",
         "x": [
          -1.0929094175409237,
          -1.0865712184204037,
          -1.0782418186141907,
          -1.0679364821991575,
          -1.055674094263173
         ],
         "y": [
          -0.12469564968497909,
          -0.1713563167799765,
          -0.2177029641313205,
          -0.26365065899422446,
          -0.3091151997259745
         ]
        },
        {
         "hoverinfo": "text",
         "line": {
          "color": "#9f4021",
          "shape": "spline",
          "width": 0.25
         },
         "mode": "lines",
         "text": "Informatica<br>787",
         "type": "scatter",
         "uid": "eaf58477-533d-4f28-aa97-fad3b1ef5159",
         "x": [
          -1.0454436397582132,
          -1.032875726941398,
          -1.0190510970289908,
          -1.0039865706784028,
          -0.9877004771496871
         ],
         "y": [
          -0.3421221946747966,
          -0.37837512166536386,
          -0.4141676733449998,
          -0.4494563003200873,
          -0.4841980663305882
         ]
        },
        {
         "hoverinfo": "text",
         "line": {
          "color": "#8f391e",
          "shape": "spline",
          "width": 0.25
         },
         "mode": "lines",
         "text": "Qlik<br>1954",
         "type": "scatter",
         "uid": "96d08f93-2cf8-417b-89fb-0f1279b5a9ae",
         "x": [
          -0.97200407777987,
          -0.9605287885557044,
          -0.948595583282531,
          -0.9362101509165539,
          -0.9233783960056865,
          -0.9101064358746568,
          -0.8964005977086763,
          -0.8822674155370591,
          -0.8677136271182322,
          -0.8527461707276233,
          -0.8373721818499524,
          -0.8215989897775097,
          -0.8054341141160375,
          -0.788885261199884,
          -0.7719603204181364,
          -0.7546673604534887,
          -0.7370146254356293,
          -0.7190105310109914,
          -0.7006636603307346
         ],
         "y": [
          -0.5149835655429256,
          -0.5360824995797856,
          -0.5569258652431891,
          -0.5775037258068587,
          -0.5978062711196378,
          -0.617823822282315,
          -0.6375468362618765,
          -0.6569659104409897,
          -0.6760717871005429,
          -0.6948553578331071,
          -0.7133076678852193,
          -0.7314199204264099,
          -0.7491834807429447,
          -0.7665898803542811,
          -0.7836308210502752,
          -0.8002981788472121,
          -0.8165840078607828,
          -0.8324805440941502,
          -0.8479802091393037
         ]
        },
        {
         "hoverinfo": "text",
         "line": {
          "color": "#f0f3e7",
          "shape": "spline",
          "width": 0.25
         },
         "mode": "lines",
         "text": "Tableau<br>2523",
         "type": "scatter",
         "uid": "bf4eafc5-ec41-4c7c-8ba9-a6e416ac1e23",
         "x": [
          -0.6736822230581404,
          -0.6548093866721585,
          -0.6356331489754531,
          -0.6161623951425063,
          -0.5964061468097709,
          -0.5763735578955661,
          -0.556073910358668,
          -0.5355166098975817,
          -0.5147111815924799,
          -0.493667265491819,
          -0.47239461214569384,
          -0.4509030780879907,
          -0.4292026212694273,
          -0.40730329644360896,
          -0.38521525050823224,
          -0.36294871780358495,
          -0.3405140153705443,
          -0.31792153817024216,
          -0.29518175426763604,
          -0.27230519998120756,
          -0.2493024750010275,
          -0.22618423747747124,
          -0.20296119908283372,
          -0.17964412004815417,
          -0.15624380417754194
         ],
         "y": [
          -0.8695701595244872,
          -0.8838691459294368,
          -0.8977585977998482,
          -0.9112320795561636,
          -0.9242833483556447,
          -0.936906356984948,
          -0.9490952566620593,
          -0.9608443997462864,
          -0.972148342355051,
          -0.9830018468862761,
          -0.9933998844451913,
          -1.0033376371744338,
          -1.0128105004863708,
          -1.0218140851966027,
          -1.0303442195576584,
          -1.0383969511919484,
          -1.0459685489230683,
          -1.0530555045046142,
          -1.0596545342457047,
          -1.0657625805324535,
          -1.071376813244697,
          -1.0764946310673058,
          -1.0811136626954905,
          -1.085231767933525,
          -1.0888470386863942
         ]
        },
        {
         "hoverinfo": "text",
         "line": {
          "color": "#e2ecde",
          "shape": "spline",
          "width": 0.25
         },
         "mode": "lines",
         "text": "Microstrategy<br>408",
         "type": "scatter",
         "uid": "32449b0f-2111-4712-b030-9252582034ad",
         "x": [
          -0.12196519528684029,
          -0.10631802112096117,
          -0.09064910016914728,
          -0.07496163742586692,
          -0.059258841678216226
         ],
         "y": [
          -1.0932174948923215,
          -1.0948499798533693,
          -1.096258519072269,
          -1.0974428244398124,
          -1.098402653712634
         ]
        },
        {
         "hoverinfo": "text",
         "line": {
          "color": "#d4e5d6",
          "shape": "spline",
          "width": 0.25
         },
         "mode": "lines",
         "text": "Oracle BI<br>3209",
         "type": "scatter",
         "uid": "82294762-39ad-4d60-b82c-7ad1c6850998",
         "x": [
          -0.024727939890507224,
          -0.0018490014275861209,
          0.021030737029846647,
          0.04390137626542424,
          0.06675302099967645,
          0.08957578417135112,
          0.11235979121517867,
          0.13509518433423517,
          0.15777212676504052,
          0.18038080703356588,
          0.2029114432002946,
          0.2253542870925056,
          0.2476996285219469,
          0.2699377994860751,
          0.292059178351042,
          0.3140541940146201,
          0.33591333004726304,
          0.3576271288095167,
          0.379186195543984,
          0.4005812024400927,
          0.4218028926698932,
          0.44284208439314515,
          0.4636896747299604,
          0.4843366436992822,
          0.504774058121497,
          0.5249930754834913,
          0.5449849477644797,
          0.5647410252209497,
          0.5842527601290852,
          0.6035117104830534,
          0.6225095436475435,
          0.6412380399629932,
          0.6596890963019301
         ],
         "y": [
          -1.0997220235081098,
          -1.0999984459960481,
          -1.0997989398521812,
          -1.0991235913954363,
          -1.0979726928241054,
          -1.096346742089421,
          -1.0942464426801128,
          -1.0916727033180316,
          -1.0886266375649807,
          -1.085109563340919,
          -1.0811230023537441,
          -1.076668679440908,
          -1.071748521823142,
          -1.0663646582706197,
          -1.0605194181819182,
          -1.054215330576172,
          -1.047455122998861,
          -1.040241720341701,
          -1.0325782435771536,
          -1.0244680084080955,
          -1.015914523833236,
          -1.0069214906289043,
          -0.9974927997478598,
          -0.9876325306358205,
          -0.9773449494664388,
          -0.9666345072954852,
          -0.9555058381350412,
          -0.943963756948534,
          -0.93201325756748,
          -0.9196595105308374,
          -0.9069078608479073,
          -0.8937638256857451,
          -0.8802330919820858
         ]
        },
        {
         "hoverinfo": "text",
         "line": {
          "color": "#c6decd",
          "shape": "spline",
          "width": 0.25
         },
         "mode": "lines",
         "text": "Python<br>2055",
         "type": "scatter",
         "uid": "202cbc62-bc7b-4b05-a498-0fe25d571bb5",
         "x": [
          0.687012369140365,
          0.7056094036884986,
          0.723869881841708,
          0.7417850938511386,
          0.7593464946504437,
          0.7765457079315545,
          0.793374530139943,
          0.8098249343875,
          0.8258890742811352,
          0.8415592876652979,
          0.8568281002766098,
          0.8716882293088903,
          0.8861325868868506,
          0.900154283446821,
          0.91374663102288,
          0.9269031464368358,
          0.9396175543905204,
          0.9518837904589399,
          0.9636960039828347,
          0.975048560859289
         ],
         "y": [
          -0.8590774148166991,
          -0.8438692845615142,
          -0.8282586517281132,
          -0.812252962161578,
          -0.7958598501382538,
          -0.7790871347244037,
          -0.7619428160467325,
          -0.7444350714765401,
          -0.7265722517293443,
          -0.7083628768818117,
          -0.6898156323079205,
          -0.6709393645362685,
          -0.6517430770305261,
          -0.6322359258950256,
          -0.6124272155075549,
          -0.5923263940814169,
          -0.5719430491588979,
          -0.5512869030382649,
          -0.530367808136501,
          -0.5091957422899659
         ]
        },
        {
         "hoverinfo": "text",
         "line": {
          "color": "#b8d7c5",
          "shape": "spline",
          "width": 0.25
         },
         "mode": "lines",
         "text": "VBA<br>803",
         "type": "scatter",
         "uid": "26ef417c-1a88-41fd-8379-bfd4bb9ee03c",
         "x": [
          0.9905616580387034,
          1.0070258613681717,
          1.022203008767937,
          1.0360737026849602,
          1.0486202153134927
         ],
         "y": [
          -0.47831746949449266,
          -0.44260469330508934,
          -0.4063262345280911,
          -0.3695284598034051,
          -0.3322583994963629
         ]
        },
        {
         "hoverinfo": "text",
         "line": {
          "color": "#aad0bc",
          "shape": "spline",
          "width": 0.25
         },
         "mode": "lines",
         "text": "Linux<br>753",
         "type": "scatter",
         "uid": "64522332-3e8d-45b1-85f3-cb48b3625fde",
         "x": [
          1.0585392730762266,
          1.067843066632214,
          1.0759814830297332,
          1.0829456405099636,
          1.0887279388268496
         ],
         "y": [
          -0.2991564930855658,
          -0.26402875798955905,
          -0.22861287841487887,
          -0.19294750503819685,
          -0.15707156081811818
         ]
        },
        {
         "hoverinfo": "text",
         "line": {
          "color": "#9cc9b4",
          "shape": "spline",
          "width": 0.25
         },
         "mode": "lines",
         "text": "AWS<br>515",
         "type": "scatter",
         "uid": "b7d2e3e9-80be-4ad2-87c7-53c9e73b0df7",
         "x": [
          1.0931244542657805,
          1.095372949934572,
          1.097178365788702,
          1.0985399715350581,
          1.0994572164023046
         ],
         "y": [
          -0.12279628449647693,
          -0.10078740274277417,
          -0.07873775235065557,
          -0.05665625243302011,
          -0.03455183498594511
         ]
        },
        {
         "hoverinfo": "text",
         "marker": {
          "color": "green",
          "size": 0.5
         },
         "mode": "markers",
         "text": "Power BI appears with Excel 241 times",
         "type": "scatter",
         "uid": "cb5b844f-72f1-4871-8917-813295845e5c",
         "x": [
          0.8702511773298579
         ],
         "y": [
          0.22948396099944826
         ]
        },
        {
         "hoverinfo": "text",
         "marker": {
          "color": "blue",
          "size": 0.5
         },
         "mode": "markers",
         "text": "Excel appears with Power BI 241 times",
         "type": "scatter",
         "uid": "249a061b-8f8e-4839-8b2a-452bb1312625",
         "x": [
          0.7648310768101453
         ],
         "y": [
          0.47437687964890707
         ]
        },
        {
         "hoverinfo": "text",
         "marker": {
          "color": "green",
          "size": 0.5
         },
         "mode": "markers",
         "text": "Power BI appears with SSIS/SSRS 137 times",
         "type": "scatter",
         "uid": "5016f87f-812c-4431-89c4-cd2e45e011d9",
         "x": [
          0.8972455077239729
         ],
         "y": [
          0.07035978161670214
         ]
        },
        {
         "hoverinfo": "text",
         "marker": {
          "color": "blue",
          "size": 0.5
         },
         "mode": "markers",
         "text": "SSIS/SSRS appears with Power BI 137 times",
         "type": "scatter",
         "uid": "b9927b5c-20f9-4463-9bdc-9fbd266efab2",
         "x": [
          0.12607929641557056
         ],
         "y": [
          0.8911251376856982
         ]
        },
        {
         "hoverinfo": "text",
         "marker": {
          "color": "green",
          "size": 0.5
         },
         "mode": "markers",
         "text": "Power BI appears with MS SQL Server 137 times",
         "type": "scatter",
         "uid": "91c631b9-e631-41f2-86e9-ca69c129520f",
         "x": [
          0.8950407516351946
         ],
         "y": [
          0.09435069110666816
         ]
        },
        {
         "hoverinfo": "text",
         "marker": {
          "color": "blue",
          "size": 0.5
         },
         "mode": "markers",
         "text": "MS SQL Server appears with Power BI 137 times",
         "type": "scatter",
         "uid": "785bea59-b8ba-494f-ba20-a857372bb12f",
         "x": [
          -0.3831379007676499
         ],
         "y": [
          0.8143742069806474
         ]
        },
        {
         "hoverinfo": "text",
         "marker": {
          "color": "green",
          "size": 0.5
         },
         "mode": "markers",
         "text": "Power BI appears with MySQL/MariaDB 5 times",
         "type": "scatter",
         "uid": "7f42d90d-ea02-419b-ad85-64b5f0d50a82",
         "x": [
          0.8999998926163453
         ],
         "y": [
          0.00043964823102794515
         ]
        },
        {
         "hoverinfo": "text",
         "marker": {
          "color": "blue",
          "size": 0.5
         },
         "mode": "markers",
         "text": "MySQL/MariaDB appears with Power BI 5 times",
         "type": "scatter",
         "uid": "0a51a537-d37e-4439-a3f9-c84ab269b4b1",
         "x": [
          -0.6516217938953706
         ],
         "y": [
          0.6207970986728105
         ]
        },
        {
         "hoverinfo": "text",
         "marker": {
          "color": "green",
          "size": 0.5
         },
         "mode": "markers",
         "text": "Power BI appears with T-SQL 52 times",
         "type": "scatter",
         "uid": "de2b6f8c-425b-4444-ba4b-08c52384e9cd",
         "x": [
          0.8991760893287561
         ],
         "y": [
          0.038501433472597574
         ]
        },
        {
         "hoverinfo": "text",
         "marker": {
          "color": "blue",
          "size": 0.5
         },
         "mode": "markers",
         "text": "T-SQL appears with Power BI 52 times",
         "type": "scatter",
         "uid": "75b28315-9c33-496e-9968-01545acb36a9",
         "x": [
          -0.7864163322847076
         ],
         "y": [
          0.4376635149471205
         ]
        },
        {
         "hoverinfo": "text",
         "marker": {
          "color": "green",
          "size": 0.5
         },
         "mode": "markers",
         "text": "Power BI appears with PL/SQL 11 times",
         "type": "scatter",
         "uid": "8ba4fbb3-3a73-411a-ba54-659f12073f78",
         "x": [
          0.8999783472462457
         ],
         "y": [
          0.006242955062792063
         ]
        },
        {
         "hoverinfo": "text",
         "marker": {
          "color": "blue",
          "size": 0.5
         },
         "mode": "markers",
         "text": "PL/SQL appears with Power BI 11 times",
         "type": "scatter",
         "uid": "b8ae8607-63f1-40b8-87fe-b12b11b4fb84",
         "x": [
          -0.8622674397161014
         ],
         "y": [
          0.25786597760355934
         ]
        },
        {
         "hoverinfo": "text",
         "marker": {
          "color": "green",
          "size": 0.5
         },
         "mode": "markers",
         "text": "Power BI appears with Pentaho 9 times",
         "type": "scatter",
         "uid": "3628793e-2260-4ff7-89d6-897c1cfd6073",
         "x": [
          0.8999958721753841
         ],
         "y": [
          0.002725814973484977
         ]
        },
        {
         "hoverinfo": "text",
         "marker": {
          "color": "blue",
          "size": 0.5
         },
         "mode": "markers",
         "text": "Pentaho appears with Power BI 9 times",
         "type": "scatter",
         "uid": "d9026c70-57a4-4d91-9bc6-a99127ba4120",
         "x": [
          -0.8822121573188315
         ],
         "y": [
          0.17804973877782912
         ]
        },
        {
         "hoverinfo": "text",
         "marker": {
          "color": "green",
          "size": 0.5
         },
         "mode": "markers",
         "text": "Power BI appears with Hadoop 27 times",
         "type": "scatter",
         "uid": "52ba18d1-3fc7-45b3-966c-be1f2f39610e",
         "x": [
          0.8999046407013358
         ],
         "y": [
          0.013101055079638055
         ]
        },
        {
         "hoverinfo": "text",
         "marker": {
          "color": "blue",
          "size": 0.5
         },
         "mode": "markers",
         "text": "Hadoop appears with Power BI 27 times",
         "type": "scatter",
         "uid": "25e09cc8-4362-4053-aed6-4fe6934105f6",
         "x": [
          -0.8982883832305837
         ],
         "y": [
          0.055479550764079656
         ]
        },
        {
         "hoverinfo": "text",
         "marker": {
          "color": "green",
          "size": 0.5
         },
         "mode": "markers",
         "text": "Power BI appears with Spark 34 times",
         "type": "scatter",
         "uid": "e7b065cb-5543-417a-a675-57500cc8af85",
         "x": [
          0.899682231802251
         ],
         "y": [
          0.023914049831022268
         ]
        },
        {
         "hoverinfo": "text",
         "marker": {
          "color": "blue",
          "size": 0.5
         },
         "mode": "markers",
         "text": "Spark appears with Power BI 34 times",
         "type": "scatter",
         "uid": "53d73ea7-b6ac-4b89-a482-f7fbadb2a905",
         "x": [
          -0.8913507615135553
         ],
         "y": [
          -0.12447417382415163
         ]
        },
        {
         "hoverinfo": "text",
         "marker": {
          "color": "green",
          "size": 0.5
         },
         "mode": "markers",
         "text": "Power BI appears with Informatica 20 times",
         "type": "scatter",
         "uid": "bd653d4d-5009-4b51-a740-b1414c5dcb79",
         "x": [
          0.8999553115871741
         ],
         "y": [
          0.008968675823805948
         ]
        },
        {
         "hoverinfo": "text",
         "marker": {
          "color": "blue",
          "size": 0.5
         },
         "mode": "markers",
         "text": "Informatica appears with Power BI 20 times",
         "type": "scatter",
         "uid": "c3180226-c599-4860-b43b-18a714044617",
         "x": [
          -0.8506835517318364
         ],
         "y": [
          -0.29383242641496876
         ]
        },
        {
         "hoverinfo": "text",
         "marker": {
          "color": "green",
          "size": 0.5
         },
         "mode": "markers",
         "text": "Power BI appears with Qlik 199 times",
         "type": "scatter",
         "uid": "aba80d31-1ce6-4c25-bcb6-ecc164d7d6a6",
         "x": [
          0.8861957205091805
         ],
         "y": [
          0.15702593719259997
         ]
        },
        {
         "hoverinfo": "text",
         "marker": {
          "color": "blue",
          "size": 0.5
         },
         "mode": "markers",
         "text": "Qlik appears with Power BI 199 times",
         "type": "scatter",
         "uid": "7b0b1fc4-a427-488b-bc40-c6adb5677863",
         "x": [
          -0.7310856731541608
         ],
         "y": [
          -0.5248940259792709
         ]
        },
        {
         "hoverinfo": "text",
         "marker": {
          "color": "green",
          "size": 0.5
         },
         "mode": "markers",
         "text": "Power BI appears with Tableau 202 times",
         "type": "scatter",
         "uid": "ace2870d-b862-46dc-8bbf-e58bd3e9e4df",
         "x": [
          0.8793653885370478
         ],
         "y": [
          0.1916155354951338
         ]
        },
        {
         "hoverinfo": "text",
         "marker": {
          "color": "blue",
          "size": 0.5
         },
         "mode": "markers",
         "text": "Tableau appears with Power BI 202 times",
         "type": "scatter",
         "uid": "d8834305-4288-442b-8875-94b466aa5025",
         "x": [
          -0.3696559606102129
         ],
         "y": [
          -0.820581787992727
         ]
        },
        {
         "hoverinfo": "text",
         "marker": {
          "color": "green",
          "size": 0.5
         },
         "mode": "markers",
         "text": "Power BI appears with Microstrategy 31 times",
         "type": "scatter",
         "uid": "5157c7cc-272f-43b3-a769-33c43bdc835c",
         "x": [
          0.8998159549804589
         ],
         "y": [
          0.01820019677379677
         ]
        },
        {
         "hoverinfo": "text",
         "marker": {
          "color": "blue",
          "size": 0.5
         },
         "mode": "markers",
         "text": "Microstrategy appears with Power BI 31 times",
         "type": "scatter",
         "uid": "d0c6fde9-4c44-436a-8cbf-dec9061c9b73",
         "x": [
          -0.08127077678587391
         ],
         "y": [
          -0.8963230783822431
         ]
        },
        {
         "hoverinfo": "text",
         "marker": {
          "color": "green",
          "size": 0.5
         },
         "mode": "markers",
         "text": "Power BI appears with Oracle BI 192 times",
         "type": "scatter",
         "uid": "98178c97-8ea3-41b1-aa16-25a12312083b",
         "x": [
          0.8915462124871639
         ],
         "y": [
          0.12306644952948269
         ]
        },
        {
         "hoverinfo": "text",
         "marker": {
          "color": "blue",
          "size": 0.5
         },
         "mode": "markers",
         "text": "Oracle BI appears with Power BI 192 times",
         "type": "scatter",
         "uid": "ec245672-caf1-46fc-af1c-861d2dd14ec2",
         "x": [
          0.22164421989753594
         ],
         "y": [
          -0.872280826217115
         ]
        },
        {
         "hoverinfo": "text",
         "marker": {
          "color": "green",
          "size": 0.5
         },
         "mode": "markers",
         "text": "Power BI appears with Python 87 times",
         "type": "scatter",
         "uid": "d3a6c1fa-4ddc-46b3-934f-182a7ab54e70",
         "x": [
          0.8985703333287552
         ],
         "y": [
          0.05070854032063762
         ]
        },
        {
         "hoverinfo": "text",
         "marker": {
          "color": "blue",
          "size": 0.5
         },
         "mode": "markers",
         "text": "Python appears with Power BI 87 times",
         "type": "scatter",
         "uid": "04a2b376-e7a8-4f7e-855b-c016d03f7fd0",
         "x": [
          0.6179710281043428
         ],
         "y": [
          -0.6543025358529964
         ]
        },
        {
         "hoverinfo": "text",
         "marker": {
          "color": "green",
          "size": 0.5
         },
         "mode": "markers",
         "text": "Power BI appears with VBA 40 times",
         "type": "scatter",
         "uid": "eb49461f-e7fe-4957-8841-cc57c509d680",
         "x": [
          0.8994858272907491
         ],
         "y": [
          0.030417864867156082
         ]
        },
        {
         "hoverinfo": "text",
         "marker": {
          "color": "blue",
          "size": 0.5
         },
         "mode": "markers",
         "text": "VBA appears with Power BI 40 times",
         "type": "scatter",
         "uid": "081e72f9-cae7-4672-a4a3-3a65693a78e0",
         "x": [
          0.8222609004560635
         ],
         "y": [
          -0.3659057413886584
         ]
        },
        {
         "hoverinfo": "text",
         "marker": {
          "color": "green",
          "size": 0.5
         },
         "mode": "markers",
         "text": "Power BI appears with Linux 10 times",
         "type": "scatter",
         "uid": "c497b482-1971-4c47-92b3-d95d765e80b2",
         "x": [
          0.8999892616556641
         ],
         "y": [
          0.004396464999586865
         ]
        },
        {
         "hoverinfo": "text",
         "marker": {
          "color": "blue",
          "size": 0.5
         },
         "mode": "markers",
         "text": "Linux appears with Power BI 10 times",
         "type": "scatter",
         "uid": "65bd322d-76c6-478a-9d18-f0a11e201bec",
         "x": [
          0.8669737560267132
         ],
         "y": [
          -0.2415709137312129
         ]
        },
        {
         "hoverinfo": "text",
         "marker": {
          "color": "green",
          "size": 0.5
         },
         "mode": "markers",
         "text": "Power BI appears with AWS 6 times",
         "type": "scatter",
         "uid": "45c4bc13-c28e-4672-85ad-af22cab3a9a1",
         "x": [
          0.8999989003915773
         ],
         "y": [
          0.0014068738222761856
         ]
        },
        {
         "hoverinfo": "text",
         "marker": {
          "color": "blue",
          "size": 0.5
         },
         "mode": "markers",
         "text": "AWS appears with Power BI 6 times",
         "type": "scatter",
         "uid": "aa36738f-3e95-4322-a3bd-92c086609048",
         "x": [
          0.8946382106120189
         ],
         "y": [
          -0.09809420020024069
         ]
        },
        {
         "hoverinfo": "text",
         "marker": {
          "color": "green",
          "size": 0.5
         },
         "mode": "markers",
         "text": "Excel appears with SSIS/SSRS 639 times",
         "type": "scatter",
         "uid": "9e5e331d-95d1-440b-910e-599cd49c06d6",
         "x": [
          0.45956841679664473
         ],
         "y": [
          0.7738196626366026
         ]
        },
        {
         "hoverinfo": "text",
         "marker": {
          "color": "blue",
          "size": 0.5
         },
         "mode": "markers",
         "text": "SSIS/SSRS appears with Excel 639 times",
         "type": "scatter",
         "uid": "e37ec382-c88f-4899-8e5d-116ba62fce01",
         "x": [
          -0.14394816663165633
         ],
         "y": [
          0.8884137129307409
         ]
        },
        {
         "hoverinfo": "text",
         "marker": {
          "color": "green",
          "size": 0.5
         },
         "mode": "markers",
         "text": "Excel appears with MS SQL Server 278 times",
         "type": "scatter",
         "uid": "dcd1bb2e-7eab-40f7-9bfc-813d519b57e9",
         "x": [
          0.7068469006842176
         ],
         "y": [
          0.5571063264701953
         ]
        },
        {
         "hoverinfo": "text",
         "marker": {
          "color": "blue",
          "size": 0.5
         },
         "mode": "markers",
         "text": "MS SQL Server appears with Excel 278 times",
         "type": "scatter",
         "uid": "f0e1debe-8e9a-4b86-b0b8-dda86c1eb637",
         "x": [
          -0.4755618118383045
         ],
         "y": [
          0.7640948652628606
         ]
        },
        {
         "hoverinfo": "text",
         "marker": {
          "color": "green",
          "size": 0.5
         },
         "mode": "markers",
         "text": "Excel appears with PostgreSQL 78 times",
         "type": "scatter",
         "uid": "6f649dca-88f8-4d75-83d5-5c6e9c6f922d",
         "x": [
          0.8389074921892031
         ],
         "y": [
          0.32593591325415805
         ]
        },
        {
         "hoverinfo": "text",
         "marker": {
          "color": "blue",
          "size": 0.5
         },
         "mode": "markers",
         "text": "PostgreSQL appears with Excel 78 times",
         "type": "scatter",
         "uid": "b31c0094-f663-421c-9806-7db569b08098",
         "x": [
          -0.6035542608880153
         ],
         "y": [
          0.667624336108205
         ]
        },
        {
         "hoverinfo": "text",
         "marker": {
          "color": "green",
          "size": 0.5
         },
         "mode": "markers",
         "text": "Excel appears with MySQL/MariaDB 133 times",
         "type": "scatter",
         "uid": "72ddbd9d-3927-4e82-b612-272579f8271c",
         "x": [
          0.7998849832586659
         ],
         "y": [
          0.41253365142407944
         ]
        },
        {
         "hoverinfo": "text",
         "marker": {
          "color": "blue",
          "size": 0.5
         },
         "mode": "markers",
         "text": "MySQL/MariaDB appears with Excel 133 times",
         "type": "scatter",
         "uid": "96362f27-2c1a-40fe-9827-5592a28ee23e",
         "x": [
          -0.733763910755781
         ],
         "y": [
          0.5211434766668219
         ]
        },
        {
         "hoverinfo": "text",
         "marker": {
          "color": "green",
          "size": 0.5
         },
         "mode": "markers",
         "text": "Excel appears with T-SQL 189 times",
         "type": "scatter",
         "uid": "af75404a-c604-4a0f-9ef9-b65786f79eec",
         "x": [
          0.7854740681349475
         ],
         "y": [
          0.4393523509525539
         ]
        },
        {
         "hoverinfo": "text",
         "marker": {
          "color": "blue",
          "size": 0.5
         },
         "mode": "markers",
         "text": "T-SQL appears with Excel 189 times",
         "type": "scatter",
         "uid": "446f2102-9cc8-4a6a-988e-808f36f1eaef",
         "x": [
          -0.8465608616518612
         ],
         "y": [
          0.30550729536176113
         ]
        },
        {
         "hoverinfo": "text",
         "marker": {
          "color": "green",
          "size": 0.5
         },
         "mode": "markers",
         "text": "Excel appears with PL/SQL 65 times",
         "type": "scatter",
         "uid": "18dcf8bb-030c-407f-ac48-1ea92356a9d6",
         "x": [
          0.8480996227094104
         ],
         "y": [
          0.301209279339392
         ]
        },
        {
         "hoverinfo": "text",
         "marker": {
          "color": "blue",
          "size": 0.5
         },
         "mode": "markers",
         "text": "PL/SQL appears with Excel 65 times",
         "type": "scatter",
         "uid": "3578a1ee-6dc6-403c-94d3-f40cddd66f6f",
         "x": [
          -0.8713894706837192
         ],
         "y": [
          0.22512305608610517
         ]
        },
        {
         "hoverinfo": "text",
         "marker": {
          "color": "green",
          "size": 0.5
         },
         "mode": "markers",
         "text": "Excel appears with Pentaho 68 times",
         "type": "scatter",
         "uid": "29220a1f-44d7-4e83-9a92-e3af727c0a32",
         "x": [
          0.8438081223006751
         ],
         "y": [
          0.31303011474841985
         ]
        },
        {
         "hoverinfo": "text",
         "marker": {
          "color": "blue",
          "size": 0.5
         },
         "mode": "markers",
         "text": "Pentaho appears with Excel 68 times",
         "type": "scatter",
         "uid": "55161ad5-6cf2-4574-9658-54d05dd0ef03",
         "x": [
          -0.894216113811971
         ],
         "y": [
          0.10187022037384798
         ]
        },
        {
         "hoverinfo": "text",
         "marker": {
          "color": "green",
          "size": 0.5
         },
         "mode": "markers",
         "text": "Excel appears with Hadoop 93 times",
         "type": "scatter",
         "uid": "955f195d-c990-4b1b-bfab-a29221fbb430",
         "x": [
          0.8267694698738847
         ],
         "y": [
          0.3556012425237794
         ]
        },
        {
         "hoverinfo": "text",
         "marker": {
          "color": "blue",
          "size": 0.5
         },
         "mode": "markers",
         "text": "Hadoop appears with Excel 93 times",
         "type": "scatter",
         "uid": "71acbfec-f0df-42f1-a241-b148138f545b",
         "x": [
          -0.8999736505388592
         ],
         "y": [
          0.00688682334312243
         ]
        },
        {
         "hoverinfo": "text",
         "marker": {
          "color": "green",
          "size": 0.5
         },
         "mode": "markers",
         "text": "Excel appears with Spark 100 times",
         "type": "scatter",
         "uid": "70c10ff1-b5fb-456d-8c28-67a4d0eca14e",
         "x": [
          0.8193895402700396
         ],
         "y": [
          0.3722912586887492
         ]
        },
        {
         "hoverinfo": "text",
         "marker": {
          "color": "blue",
          "size": 0.5
         },
         "mode": "markers",
         "text": "Spark appears with Excel 100 times",
         "type": "scatter",
         "uid": "d048b845-8443-4bca-9b4d-7c4594982371",
         "x": [
          -0.8800965412418316
         ],
         "y": [
          -0.18822879188414593
         ]
        },
        {
         "hoverinfo": "text",
         "marker": {
          "color": "green",
          "size": 0.5
         },
         "mode": "markers",
         "text": "Excel appears with Informatica 120 times",
         "type": "scatter",
         "uid": "d920bb2e-5d5e-42fe-93f1-3c757da5626d",
         "x": [
          0.8105664946056412
         ],
         "y": [
          0.39112908076838665
         ]
        },
        {
         "hoverinfo": "text",
         "marker": {
          "color": "blue",
          "size": 0.5
         },
         "mode": "markers",
         "text": "Informatica appears with Excel 120 times",
         "type": "scatter",
         "uid": "7d2a89ad-572c-4788-b3a7-5ac4e2270ce3",
         "x": [
          -0.8213946514995403
         ],
         "y": [
          -0.36784619950184183
         ]
        },
        {
         "hoverinfo": "text",
         "marker": {
          "color": "green",
          "size": 0.5
         },
         "mode": "markers",
         "text": "Excel appears with Qlik 444 times",
         "type": "scatter",
         "uid": "5a966b01-09ae-49ce-b1a2-c5df13f5610b",
         "x": [
          0.6107940848755768
         ],
         "y": [
          0.6610072510048636
         ]
        },
        {
         "hoverinfo": "text",
         "marker": {
          "color": "blue",
          "size": 0.5
         },
         "mode": "markers",
         "text": "Qlik appears with Excel 444 times",
         "type": "scatter",
         "uid": "c319a36f-adb9-439c-aff5-f1277749366d",
         "x": [
          -0.6036686591916107
         ],
         "y": [
          -0.6675208984816903
         ]
        },
        {
         "hoverinfo": "text",
         "marker": {
          "color": "green",
          "size": 0.5
         },
         "mode": "markers",
         "text": "Excel appears with Tableau 458 times",
         "type": "scatter",
         "uid": "a6ae5a0a-b318-4f8d-9ee2-70cc8b907b81",
         "x": [
          0.5455066982660314
         ],
         "y": [
          0.715836882360006
         ]
        },
        {
         "hoverinfo": "text",
         "marker": {
          "color": "blue",
          "size": 0.5
         },
         "mode": "markers",
         "text": "Tableau appears with Excel 458 times",
         "type": "scatter",
         "uid": "f85fbd8b-e8ed-4e7a-b840-b056368049a0",
         "x": [
          -0.16945399653200882
         ],
         "y": [
          -0.8839034693106086
         ]
        },
        {
         "hoverinfo": "text",
         "marker": {
          "color": "green",
          "size": 0.5
         },
         "mode": "markers",
         "text": "Excel appears with Microstrategy 43 times",
         "type": "scatter",
         "uid": "ae9a9bce-dfda-4429-9159-98a453895115",
         "x": [
          0.8550707876759489
         ],
         "y": [
          0.28080945152047915
         ]
        },
        {
         "hoverinfo": "text",
         "marker": {
          "color": "blue",
          "size": 0.5
         },
         "mode": "markers",
         "text": "Microstrategy appears with Excel 43 times",
         "type": "scatter",
         "uid": "ded385d8-dabf-4670-aed0-0379cd0a83ae",
         "x": [
          -0.06705945957669696
         ],
         "y": [
          -0.8974982055030981
         ]
        },
        {
         "hoverinfo": "text",
         "marker": {
          "color": "green",
          "size": 0.5
         },
         "mode": "markers",
         "text": "Excel appears with Oracle BI 673 times",
         "type": "scatter",
         "uid": "48400475-8343-47c0-a477-d7dd54257ca1",
         "x": [
          0.3488832419498674
         ],
         "y": [
          0.8296267133395298
         ]
        },
        {
         "hoverinfo": "text",
         "marker": {
          "color": "blue",
          "size": 0.5
         },
         "mode": "markers",
         "text": "Oracle BI appears with Excel 673 times",
         "type": "scatter",
         "uid": "b49c8ccd-af14-4eb1-9ba3-8bfdcd82dadb",
         "x": [
          0.48820372137282797
         ],
         "y": [
          -0.7560801058338475
         ]
        },
        {
         "hoverinfo": "text",
         "marker": {
          "color": "green",
          "size": 0.5
         },
         "mode": "markers",
         "text": "Excel appears with Python 388 times",
         "type": "scatter",
         "uid": "35c3bfd3-5c97-41fd-bd3b-ca410c2e6915",
         "x": [
          0.666167884485435
         ],
         "y": [
          0.6051614244812703
         ]
        },
        {
         "hoverinfo": "text",
         "marker": {
          "color": "blue",
          "size": 0.5
         },
         "mode": "markers",
         "text": "Python appears with Excel 388 times",
         "type": "scatter",
         "uid": "11997e86-dadc-420d-81ae-c71346cac127",
         "x": [
          0.7808386260331921
         ],
         "y": [
          -0.44753886992595043
         ]
        },
        {
         "hoverinfo": "text",
         "marker": {
          "color": "green",
          "size": 0.5
         },
         "mode": "markers",
         "text": "Excel appears with VBA 275 times",
         "type": "scatter",
         "uid": "6486a96e-d0fc-48d5-8646-b6913c7b4e0b",
         "x": [
          0.7380033204068966
         ],
         "y": [
          0.5151224117318093
         ]
        },
        {
         "hoverinfo": "text",
         "marker": {
          "color": "blue",
          "size": 0.5
         },
         "mode": "markers",
         "text": "VBA appears with Excel 275 times",
         "type": "scatter",
         "uid": "658b5a18-2f50-4953-9c15-9885c0694ce8",
         "x": [
          0.8510484970379498
         ],
         "y": [
          -0.2927737277992113
         ]
        },
        {
         "hoverinfo": "text",
         "marker": {
          "color": "green",
          "size": 0.5
         },
         "mode": "markers",
         "text": "Excel appears with Linux 84 times",
         "type": "scatter",
         "uid": "cfc7f523-7712-418d-b671-d70f7c397dfe",
         "x": [
          0.8332388496526397
         ],
         "y": [
          0.340166164439595
         ]
        },
        {
         "hoverinfo": "text",
         "marker": {
          "color": "blue",
          "size": 0.5
         },
         "mode": "markers",
         "text": "Linux appears with Excel 84 times",
         "type": "scatter",
         "uid": "8d6f1267-309a-4881-92b9-d5f9be8ae51f",
         "x": [
          0.8807566895812613
         ],
         "y": [
          -0.18511524453123185
         ]
        },
        {
         "hoverinfo": "text",
         "marker": {
          "color": "green",
          "size": 0.5
         },
         "mode": "markers",
         "text": "Excel appears with AWS 60 times",
         "type": "scatter",
         "uid": "d9f8befe-2604-4097-a7dc-d10a5f65eef1",
         "x": [
          0.8519820554269304
         ],
         "y": [
          0.2900458191915596
         ]
        },
        {
         "hoverinfo": "text",
         "marker": {
          "color": "blue",
          "size": 0.5
         },
         "mode": "markers",
         "text": "AWS appears with Excel 60 times",
         "type": "scatter",
         "uid": "278bab35-24fe-4d59-b05c-ce00c5a53228",
         "x": [
          0.8976357091261028
         ],
         "y": [
          -0.06519304948902577
         ]
        },
        {
         "hoverinfo": "text",
         "marker": {
          "color": "green",
          "size": 0.5
         },
         "mode": "markers",
         "text": "SSIS/SSRS appears with MS SQL Server 286 times",
         "type": "scatter",
         "uid": "3b1ef237-8ead-450b-a77d-cbcf86f20c2a",
         "x": [
          -0.0041503091105694265
         ],
         "y": [
          0.8999904304681726
         ]
        },
        {
         "hoverinfo": "text",
         "marker": {
          "color": "blue",
          "size": 0.5
         },
         "mode": "markers",
         "text": "MS SQL Server appears with SSIS/SSRS 286 times",
         "type": "scatter",
         "uid": "4bd8a4d5-03c3-4989-a73e-62824635d5a2",
         "x": [
          -0.5180460033923997
         ],
         "y": [
          0.7359540327827288
         ]
        },
        {
         "hoverinfo": "text",
         "marker": {
          "color": "green",
          "size": 0.5
         },
         "mode": "markers",
         "text": "SSIS/SSRS appears with PostgreSQL 63 times",
         "type": "scatter",
         "uid": "7e94e9b9-73b8-461f-8d77-b875aacd6ef0",
         "x": [
          0.20794693801886702
         ],
         "y": [
          0.8756472297498448
         ]
        },
        {
         "hoverinfo": "text",
         "marker": {
          "color": "blue",
          "size": 0.5
         },
         "mode": "markers",
         "text": "PostgreSQL appears with SSIS/SSRS 63 times",
         "type": "scatter",
         "uid": "6ce22d71-1fb2-46d8-abb2-f055b5868cc3",
         "x": [
          -0.5956817789914153
         ],
         "y": [
          0.6746578526761715
         ]
        },
        {
         "hoverinfo": "text",
         "marker": {
          "color": "green",
          "size": 0.5
         },
         "mode": "markers",
         "text": "SSIS/SSRS appears with MySQL/MariaDB 89 times",
         "type": "scatter",
         "uid": "b287fdbe-bfee-44c3-80e5-6ce14a050017",
         "x": [
          0.18094177313709928
         ],
         "y": [
          0.8816235447933559
         ]
        },
        {
         "hoverinfo": "text",
         "marker": {
          "color": "blue",
          "size": 0.5
         },
         "mode": "markers",
         "text": "MySQL/MariaDB appears with SSIS/SSRS 89 times",
         "type": "scatter",
         "uid": "ae62e06b-15fc-4a73-ace6-1c55c186c481",
         "x": [
          -0.7017347592336187
         ],
         "y": [
          0.563532011232135
         ]
        },
        {
         "hoverinfo": "text",
         "marker": {
          "color": "green",
          "size": 0.5
         },
         "mode": "markers",
         "text": "SSIS/SSRS appears with T-SQL 141 times",
         "type": "scatter",
         "uid": "e4780bd2-dc6d-4389-bcba-1f2d0ea74748",
         "x": [
          0.10065308688495644
         ],
         "y": [
          0.894353932232944
         ]
        },
        {
         "hoverinfo": "text",
         "marker": {
          "color": "blue",
          "size": 0.5
         },
         "mode": "markers",
         "text": "T-SQL appears with SSIS/SSRS 141 times",
         "type": "scatter",
         "uid": "0feecc4a-2d90-4f85-8e0a-a512af86e859",
         "x": [
          -0.8130379378744078
         ],
         "y": [
          0.38596542795557576
         ]
        },
        {
         "hoverinfo": "text",
         "marker": {
          "color": "green",
          "size": 0.5
         },
         "mode": "markers",
         "text": "SSIS/SSRS appears with PL/SQL 57 times",
         "type": "scatter",
         "uid": "5e2c9c37-ab81-4aea-ad90-0c3c8e01b4e8",
         "x": [
          0.21869543618909487
         ],
         "y": [
          0.8730248027347571
         ]
        },
        {
         "hoverinfo": "text",
         "marker": {
          "color": "blue",
          "size": 0.5
         },
         "mode": "markers",
         "text": "PL/SQL appears with SSIS/SSRS 57 times",
         "type": "scatter",
         "uid": "3af98ed2-9a75-4457-bc58-ecb7f1847c83",
         "x": [
          -0.8693761892098595
         ],
         "y": [
          0.23277680647981772
         ]
        },
        {
         "hoverinfo": "text",
         "marker": {
          "color": "green",
          "size": 0.5
         },
         "mode": "markers",
         "text": "SSIS/SSRS appears with Pentaho 36 times",
         "type": "scatter",
         "uid": "df2a5e41-2a3b-4025-9700-d5c3be8c5bcd",
         "x": [
          0.24373269690784166
         ],
         "y": [
          0.8663684969215063
         ]
        },
        {
         "hoverinfo": "text",
         "marker": {
          "color": "blue",
          "size": 0.5
         },
         "mode": "markers",
         "text": "Pentaho appears with SSIS/SSRS 36 times",
         "type": "scatter",
         "uid": "14d6402c-0f82-4b9a-8f9b-fb464228d3cc",
         "x": [
          -0.8851772336292973
         ],
         "y": [
          0.16266918904446656
         ]
        },
        {
         "hoverinfo": "text",
         "marker": {
          "color": "green",
          "size": 0.5
         },
         "mode": "markers",
         "text": "SSIS/SSRS appears with Hadoop 46 times",
         "type": "scatter",
         "uid": "3704b53e-5f26-4b1d-bbc8-6f639dc6d288",
         "x": [
          0.23644639821599303
         ],
         "y": [
          0.8683853411767636
         ]
        },
        {
         "hoverinfo": "text",
         "marker": {
          "color": "blue",
          "size": 0.5
         },
         "mode": "markers",
         "text": "Hadoop appears with SSIS/SSRS 46 times",
         "type": "scatter",
         "uid": "09dcb5c8-dab8-46d7-9706-3edfae7e55a9",
         "x": [
          -0.8989241451497627
         ],
         "y": [
          0.043992968378691225
         ]
        },
        {
         "hoverinfo": "text",
         "marker": {
          "color": "green",
          "size": 0.5
         },
         "mode": "markers",
         "text": "SSIS/SSRS appears with Spark 48 times",
         "type": "scatter",
         "uid": "3d28272c-2827-4718-90a3-eaa21aa2009a",
         "x": [
          0.22807331673864262
         ],
         "y": [
          0.8706219398750727
         ]
        },
        {
         "hoverinfo": "text",
         "marker": {
          "color": "blue",
          "size": 0.5
         },
         "mode": "markers",
         "text": "Spark appears with SSIS/SSRS 48 times",
         "type": "scatter",
         "uid": "f9253378-087b-437c-a431-ae6a565ccaba",
         "x": [
          -0.8872561777686929
         ],
         "y": [
          -0.1509187695791668
         ]
        },
        {
         "hoverinfo": "text",
         "marker": {
          "color": "green",
          "size": 0.5
         },
         "mode": "markers",
         "text": "SSIS/SSRS appears with Informatica 74 times",
         "type": "scatter",
         "uid": "1376e69e-ce90-4b80-8879-53ec2ffe5a14",
         "x": [
          0.1956374118067921
         ],
         "y": [
          0.8784793697643329
         ]
        },
        {
         "hoverinfo": "text",
         "marker": {
          "color": "blue",
          "size": 0.5
         },
         "mode": "markers",
         "text": "Informatica appears with SSIS/SSRS 74 times",
         "type": "scatter",
         "uid": "f6ebd97a-d9a1-4a72-a275-936c73673ae8",
         "x": [
          -0.8333780075153583
         ],
         "y": [
          -0.3398250970569001
         ]
        },
        {
         "hoverinfo": "text",
         "marker": {
          "color": "green",
          "size": 0.5
         },
         "mode": "markers",
         "text": "SSIS/SSRS appears with Qlik 94 times",
         "type": "scatter",
         "uid": "a8e10dda-2594-40f2-b62b-7d7f5dbfd0ef",
         "x": [
          0.1643830726775703
         ],
         "y": [
          0.8848605570467477
         ]
        },
        {
         "hoverinfo": "text",
         "marker": {
          "color": "blue",
          "size": 0.5
         },
         "mode": "markers",
         "text": "Qlik appears with SSIS/SSRS 94 times",
         "type": "scatter",
         "uid": "f592389a-3c7f-4395-9970-394c02c512c5",
         "x": [
          -0.7556116336924138
         ],
         "y": [
          -0.4889284804842949
         ]
        },
        {
         "hoverinfo": "text",
         "marker": {
          "color": "green",
          "size": 0.5
         },
         "mode": "markers",
         "text": "SSIS/SSRS appears with Tableau 181 times",
         "type": "scatter",
         "uid": "0f94a5ed-4c8f-4017-96f7-baaa8e011f20",
         "x": [
          0.038894393351789826
         ],
         "y": [
          0.899159177323902
         ]
        },
        {
         "hoverinfo": "text",
         "marker": {
          "color": "blue",
          "size": 0.5
         },
         "mode": "markers",
         "text": "Tableau appears with SSIS/SSRS 181 times",
         "type": "scatter",
         "uid": "3d1eb557-bd85-4a09-85b7-6b67e1b21196",
         "x": [
          -0.4015404671069682
         ],
         "y": [
          -0.8054596534125827
         ]
        },
        {
         "hoverinfo": "text",
         "marker": {
          "color": "green",
          "size": 0.5
         },
         "mode": "markers",
         "text": "SSIS/SSRS appears with Microstrategy 35 times",
         "type": "scatter",
         "uid": "e06917a4-99d0-42fb-b4be-8dc301ece9ee",
         "x": [
          0.2500276908150709
         ],
         "y": [
          0.8645728158030898
         ]
        },
        {
         "hoverinfo": "text",
         "marker": {
          "color": "blue",
          "size": 0.5
         },
         "mode": "markers",
         "text": "Microstrategy appears with SSIS/SSRS 35 times",
         "type": "scatter",
         "uid": "36ceb70f-e75b-4bf6-ab28-887df4b6a2ad",
         "x": [
          -0.07712251944645532
         ],
         "y": [
          -0.8966895321092084
         ]
        },
        {
         "hoverinfo": "text",
         "marker": {
          "color": "green",
          "size": 0.5
         },
         "mode": "markers",
         "text": "SSIS/SSRS appears with Oracle BI 299 times",
         "type": "scatter",
         "uid": "b4e38520-eaf7-4e3c-859b-14324c73f4a6",
         "x": [
          -0.05804629661007989
         ],
         "y": [
          0.8981261756846054
         ]
        },
        {
         "hoverinfo": "text",
         "marker": {
          "color": "blue",
          "size": 0.5
         },
         "mode": "markers",
         "text": "Oracle BI appears with SSIS/SSRS 299 times",
         "type": "scatter",
         "uid": "113ddac3-1fd0-4e75-ba0c-eea6bee2381e",
         "x": [
          0.26575691389779266
         ],
         "y": [
          -0.8598681658926102
         ]
        },
        {
         "hoverinfo": "text",
         "marker": {
          "color": "green",
          "size": 0.5
         },
         "mode": "markers",
         "text": "SSIS/SSRS appears with Python 175 times",
         "type": "scatter",
         "uid": "1c3019df-b946-4da4-abdb-e5440f1bf043",
         "x": [
          0.07165336593067921
         ],
         "y": [
          0.897143129690466
         ]
        },
        {
         "hoverinfo": "text",
         "marker": {
          "color": "blue",
          "size": 0.5
         },
         "mode": "markers",
         "text": "Python appears with SSIS/SSRS 175 times",
         "type": "scatter",
         "uid": "213039f5-7e0c-4c14-9979-11d9928fc49d",
         "x": [
          0.7154947522992012
         ],
         "y": [
          -0.5459553639559783
         ]
        },
        {
         "hoverinfo": "text",
         "marker": {
          "color": "green",
          "size": 0.5
         },
         "mode": "markers",
         "text": "SSIS/SSRS appears with VBA 95 times",
         "type": "scatter",
         "uid": "bbb23778-b14b-4950-a9d9-3df0d96647a1",
         "x": [
          0.1472208874110358
         ],
         "y": [
          0.8878772495733332
         ]
        },
        {
         "hoverinfo": "text",
         "marker": {
          "color": "blue",
          "size": 0.5
         },
         "mode": "markers",
         "text": "VBA appears with SSIS/SSRS 95 times",
         "type": "scatter",
         "uid": "0743c9bd-3757-47dc-a82c-e92fec0b997a",
         "x": [
          0.8409423147914665
         ],
         "y": [
          -0.3206493773472359
         ]
        },
        {
         "hoverinfo": "text",
         "marker": {
          "color": "green",
          "size": 0.5
         },
         "mode": "markers",
         "text": "SSIS/SSRS appears with Linux 22 times",
         "type": "scatter",
         "uid": "54a4b1ac-ba59-4565-8635-6b831372e9d1",
         "x": [
          0.2605486237882554
         ],
         "y": [
          0.8614606286082064
         ]
        },
        {
         "hoverinfo": "text",
         "marker": {
          "color": "blue",
          "size": 0.5
         },
         "mode": "markers",
         "text": "Linux appears with SSIS/SSRS 22 times",
         "type": "scatter",
         "uid": "93f97fa4-ac5b-4206-9855-f9a56f9c1229",
         "x": [
          0.8685654545892879
         ],
         "y": [
          -0.23578390762328044
         ]
        },
        {
         "hoverinfo": "text",
         "marker": {
          "color": "green",
          "size": 0.5
         },
         "mode": "markers",
         "text": "SSIS/SSRS appears with AWS 31 times",
         "type": "scatter",
         "uid": "13d118fb-f7f5-41ed-b0b5-698feafe6c72",
         "x": [
          0.25586751952259734
         ],
         "y": [
          0.8628625686940843
         ]
        },
        {
         "hoverinfo": "text",
         "marker": {
          "color": "blue",
          "size": 0.5
         },
         "mode": "markers",
         "text": "AWS appears with SSIS/SSRS 31 times",
         "type": "scatter",
         "uid": "d368d4e9-ccc8-4702-8ac4-5ad8cfd196f2",
         "x": [
          0.8961851923841089
         ],
         "y": [
          -0.08277741812510095
         ]
        },
        {
         "hoverinfo": "text",
         "marker": {
          "color": "green",
          "size": 0.5
         },
         "mode": "markers",
         "text": "MS SQL Server appears with PostgreSQL 99 times",
         "type": "scatter",
         "uid": "8d08e29d-41b8-4dea-a3e8-2b5c77f68c42",
         "x": [
          -0.30587542015323604
         ],
         "y": [
          0.8464279221210045
         ]
        },
        {
         "hoverinfo": "text",
         "marker": {
          "color": "blue",
          "size": 0.5
         },
         "mode": "markers",
         "text": "PostgreSQL appears with MS SQL Server 99 times",
         "type": "scatter",
         "uid": "c5d7e659-13ba-4de3-9126-43669b47a675",
         "x": [
          -0.6133190570036483
         ],
         "y": [
          0.6586651154540945
         ]
        },
        {
         "hoverinfo": "text",
         "marker": {
          "color": "green",
          "size": 0.5
         },
         "mode": "markers",
         "text": "MS SQL Server appears with MySQL/MariaDB 105 times",
         "type": "scatter",
         "uid": "5b03e3e5-2fb3-4df1-9a5c-998c8883c31d",
         "x": [
          -0.3231471645140923
         ],
         "y": [
          0.839985660631479
         ]
        },
        {
         "hoverinfo": "text",
         "marker": {
          "color": "blue",
          "size": 0.5
         },
         "mode": "markers",
         "text": "MySQL/MariaDB appears with MS SQL Server 105 times",
         "type": "scatter",
         "uid": "6560a33f-3f52-4a6a-a79b-64d9342a5222",
         "x": [
          -0.7115256749994346
         ],
         "y": [
          0.5511181486910034
         ]
        },
        {
         "hoverinfo": "text",
         "marker": {
          "color": "green",
          "size": 0.5
         },
         "mode": "markers",
         "text": "MS SQL Server appears with T-SQL 185 times",
         "type": "scatter",
         "uid": "55478dd5-d6e7-42d2-9986-c76624ee3514",
         "x": [
          -0.4092622295612555
         ],
         "y": [
          0.8015637388595809
         ]
        },
        {
         "hoverinfo": "text",
         "marker": {
          "color": "blue",
          "size": 0.5
         },
         "mode": "markers",
         "text": "T-SQL appears with MS SQL Server 185 times",
         "type": "scatter",
         "uid": "08763d23-be25-482b-ad2f-baae35b414f4",
         "x": [
          -0.8350101129915719
         ],
         "y": [
          0.33579474564352907
         ]
        },
        {
         "hoverinfo": "text",
         "marker": {
          "color": "green",
          "size": 0.5
         },
         "mode": "markers",
         "text": "MS SQL Server appears with PL/SQL 14 times",
         "type": "scatter",
         "uid": "9f464803-60fe-44aa-8f72-827e907805cd",
         "x": [
          -0.23217531394478283
         ],
         "y": [
          0.869537016805289
         ]
        },
        {
         "hoverinfo": "text",
         "marker": {
          "color": "blue",
          "size": 0.5
         },
         "mode": "markers",
         "text": "PL/SQL appears with MS SQL Server 14 times",
         "type": "scatter",
         "uid": "6b82afe9-1542-4912-b5e3-52e0b9c578b7",
         "x": [
          -0.8627306996975442
         ],
         "y": [
          0.25631180191201836
         ]
        },
        {
         "hoverinfo": "text",
         "marker": {
          "color": "green",
          "size": 0.5
         },
         "mode": "markers",
         "text": "MS SQL Server appears with Pentaho 49 times",
         "type": "scatter",
         "uid": "b1c81c2e-cae8-4f04-aa88-eb26dfbcdd2c",
         "x": [
          -0.26007515670718845
         ],
         "y": [
          0.8616036866586234
         ]
        },
        {
         "hoverinfo": "text",
         "marker": {
          "color": "blue",
          "size": 0.5
         },
         "mode": "markers",
         "text": "Pentaho appears with MS SQL Server 49 times",
         "type": "scatter",
         "uid": "f93101a7-886a-49d9-8ca1-9102bf2c3a73",
         "x": [
          -0.8909062337916221
         ],
         "y": [
          0.12761693692934142
         ]
        },
        {
         "hoverinfo": "text",
         "marker": {
          "color": "green",
          "size": 0.5
         },
         "mode": "markers",
         "text": "MS SQL Server appears with Hadoop 34 times",
         "type": "scatter",
         "uid": "5a7c7bae-30f8-4f4c-a674-4877746e8443",
         "x": [
          -0.24611373764031316
         ],
         "y": [
          0.865695112695408
         ]
        },
        {
         "hoverinfo": "text",
         "marker": {
          "color": "blue",
          "size": 0.5
         },
         "mode": "markers",
         "text": "Hadoop appears with MS SQL Server 34 times",
         "type": "scatter",
         "uid": "65810052-ab38-48e4-a960-606078840ae9",
         "x": [
          -0.8985814490707268
         ],
         "y": [
          0.05051118080141167
         ]
        },
        {
         "hoverinfo": "text",
         "marker": {
          "color": "green",
          "size": 0.5
         },
         "mode": "markers",
         "text": "MS SQL Server appears with Spark 34 times",
         "type": "scatter",
         "uid": "3df37230-eb26-4ab3-a37a-a34d9a30c30a",
         "x": [
          -0.24019745996413483
         ],
         "y": [
          0.8673552791254445
         ]
        },
        {
         "hoverinfo": "text",
         "marker": {
          "color": "blue",
          "size": 0.5
         },
         "mode": "markers",
         "text": "Spark appears with MS SQL Server 34 times",
         "type": "scatter",
         "uid": "10d98e89-7895-4c1a-9d7d-9471679aafdc",
         "x": [
          -0.8905566302245554
         ],
         "y": [
          -0.13003418151810847
         ]
        },
        {
         "hoverinfo": "text",
         "marker": {
          "color": "green",
          "size": 0.5
         },
         "mode": "markers",
         "text": "MS SQL Server appears with Informatica 66 times",
         "type": "scatter",
         "uid": "7a8e35e5-f9e0-4caa-9149-1fe9430be57a",
         "x": [
          -0.279987132745292
         ],
         "y": [
          0.8553404032881121
         ]
        },
        {
         "hoverinfo": "text",
         "marker": {
          "color": "blue",
          "size": 0.5
         },
         "mode": "markers",
         "text": "Informatica appears with MS SQL Server 66 times",
         "type": "scatter",
         "uid": "9fd7b0a4-4403-46f4-92b2-b7f695e41f8a",
         "x": [
          -0.8417814807638982
         ],
         "y": [
          -0.31843985090270815
         ]
        },
        {
         "hoverinfo": "text",
         "marker": {
          "color": "green",
          "size": 0.5
         },
         "mode": "markers",
         "text": "MS SQL Server appears with Qlik 69 times",
         "type": "scatter",
         "uid": "09dfd18a-bdce-4ab9-91ab-1f7e35005271",
         "x": [
          -0.2915549559609148
         ],
         "y": [
          0.8514667977405984
         ]
        },
        {
         "hoverinfo": "text",
         "marker": {
          "color": "blue",
          "size": 0.5
         },
         "mode": "markers",
         "text": "Qlik appears with MS SQL Server 69 times",
         "type": "scatter",
         "uid": "20518f42-e22b-41c3-86b4-349283002401",
         "x": [
          -0.7708122685834043
         ],
         "y": [
          -0.4645949274381994
         ]
        },
        {
         "hoverinfo": "text",
         "marker": {
          "color": "green",
          "size": 0.5
         },
         "mode": "markers",
         "text": "MS SQL Server appears with Tableau 119 times",
         "type": "scatter",
         "uid": "8a317a7e-78f4-47eb-a16c-5a46803484d4",
         "x": [
          -0.3419557893879341
         ],
         "y": [
          0.8325059988396929
         ]
        },
        {
         "hoverinfo": "text",
         "marker": {
          "color": "blue",
          "size": 0.5
         },
         "mode": "markers",
         "text": "Tableau appears with MS SQL Server 119 times",
         "type": "scatter",
         "uid": "02472344-ef5a-4623-81ae-7d50ce6250b9",
         "x": [
          -0.45054982773739055
         ],
         "y": [
          -0.7791051615320026
         ]
        },
        {
         "hoverinfo": "text",
         "marker": {
          "color": "green",
          "size": 0.5
         },
         "mode": "markers",
         "text": "MS SQL Server appears with Microstrategy 22 times",
         "type": "scatter",
         "uid": "86d6704a-756f-4256-863f-35ddff583015",
         "x": [
          -0.23531681172615068
         ],
         "y": [
          0.8686921192914319
         ]
        },
        {
         "hoverinfo": "text",
         "marker": {
          "color": "blue",
          "size": 0.5
         },
         "mode": "markers",
         "text": "Microstrategy appears with MS SQL Server 22 times",
         "type": "scatter",
         "uid": "f14ff76c-a1b0-4b4b-a64a-8e65bdf94dbe",
         "x": [
          -0.08786665494214899
         ],
         "y": [
          -0.8957005364234619
         ]
        },
        {
         "hoverinfo": "text",
         "marker": {
          "color": "green",
          "size": 0.5
         },
         "mode": "markers",
         "text": "MS SQL Server appears with Oracle BI 190 times",
         "type": "scatter",
         "uid": "cfe941ac-5080-49cf-9012-95f03211f087",
         "x": [
          -0.4391455092780538
         ],
         "y": [
          0.7855897285994253
         ]
        },
        {
         "hoverinfo": "text",
         "marker": {
          "color": "blue",
          "size": 0.5
         },
         "mode": "markers",
         "text": "Oracle BI appears with MS SQL Server 190 times",
         "type": "scatter",
         "uid": "b3080f18-383b-402d-b1ea-34c93b2efc64",
         "x": [
          0.18692101118150017
         ],
         "y": [
          -0.8803752243100015
         ]
        },
        {
         "hoverinfo": "text",
         "marker": {
          "color": "green",
          "size": 0.5
         },
         "mode": "markers",
         "text": "MS SQL Server appears with Python 121 times",
         "type": "scatter",
         "uid": "e0d974ae-0771-42d5-a6e4-9f8ca209b4a0",
         "x": [
          -0.3619156983473966
         ],
         "y": [
          0.8240248948240073
         ]
        },
        {
         "hoverinfo": "text",
         "marker": {
          "color": "blue",
          "size": 0.5
         },
         "mode": "markers",
         "text": "Python appears with MS SQL Server 121 times",
         "type": "scatter",
         "uid": "f11301df-343d-4803-93fe-5845e3d31e9e",
         "x": [
          0.6602910842092331
         ],
         "y": [
          -0.6115682170566057
         ]
        },
        {
         "hoverinfo": "text",
         "marker": {
          "color": "green",
          "size": 0.5
         },
         "mode": "markers",
         "text": "MS SQL Server appears with VBA 39 times",
         "type": "scatter",
         "uid": "eea5906f-19ee-4698-b7b3-814d5ef5f89d",
         "x": [
          -0.25245225914028996
         ],
         "y": [
          0.8638679626279493
         ]
        },
        {
         "hoverinfo": "text",
         "marker": {
          "color": "blue",
          "size": 0.5
         },
         "mode": "markers",
         "text": "VBA appears with MS SQL Server 39 times",
         "type": "scatter",
         "uid": "920281a7-619b-4223-935c-16ee4caefa6d",
         "x": [
          0.8196665541566939
         ],
         "y": [
          -0.3716809653410996
         ]
        },
        {
         "hoverinfo": "text",
         "marker": {
          "color": "green",
          "size": 0.5
         },
         "mode": "markers",
         "text": "MS SQL Server appears with Linux 58 times",
         "type": "scatter",
         "uid": "1b813ee4-8eea-4a66-ad11-fd29b7164f61",
         "x": [
          -0.2693164970239277
         ],
         "y": [
          0.8587599341089225
         ]
        },
        {
         "hoverinfo": "text",
         "marker": {
          "color": "blue",
          "size": 0.5
         },
         "mode": "markers",
         "text": "Linux appears with MS SQL Server 58 times",
         "type": "scatter",
         "uid": "12ad5d21-ccbd-4e69-8bc3-4a5c8d015ac4",
         "x": [
          0.8783818188436938
         ],
         "y": [
          -0.19607493548346344
         ]
        },
        {
         "hoverinfo": "text",
         "marker": {
          "color": "green",
          "size": 0.5
         },
         "mode": "markers",
         "text": "MS SQL Server appears with AWS 10 times",
         "type": "scatter",
         "uid": "7632f66b-2db5-4cfc-a4b1-9f3d7d081eb4",
         "x": [
          -0.2300792943160105
         ],
         "y": [
          0.8700939709750014
         ]
        },
        {
         "hoverinfo": "text",
         "marker": {
          "color": "blue",
          "size": 0.5
         },
         "mode": "markers",
         "text": "AWS appears with MS SQL Server 10 times",
         "type": "scatter",
         "uid": "b928be65-a80a-4f0f-baf8-60033aa3f7ec",
         "x": [
          0.8948506026110263
         ],
         "y": [
          -0.0961373965046016
         ]
        },
        {
         "hoverinfo": "text",
         "marker": {
          "color": "green",
          "size": 0.5
         },
         "mode": "markers",
         "text": "PostgreSQL appears with MySQL/MariaDB 110 times",
         "type": "scatter",
         "uid": "308b4bbe-40c5-4962-a125-1a49cb260ac3",
         "x": [
          -0.6246778672644782
         ],
         "y": [
          0.6479024325852645
         ]
        },
        {
         "hoverinfo": "text",
         "marker": {
          "color": "blue",
          "size": 0.5
         },
         "mode": "markers",
         "text": "MySQL/MariaDB appears with PostgreSQL 110 times",
         "type": "scatter",
         "uid": "1594564a-e518-438f-97b3-7a911c020112",
         "x": [
          -0.7221197907911504
         ],
         "y": [
          0.5371619939531698
         ]
        },
        {
         "hoverinfo": "text",
         "marker": {
          "color": "green",
          "size": 0.5
         },
         "mode": "markers",
         "text": "PostgreSQL appears with T-SQL 42 times",
         "type": "scatter",
         "uid": "f955f0a6-abe3-4d64-8d9e-8ce7c336430b",
         "x": [
          -0.5728483565026511
         ],
         "y": [
          0.69415038748978
         ]
        },
        {
         "hoverinfo": "text",
         "marker": {
          "color": "blue",
          "size": 0.5
         },
         "mode": "markers",
         "text": "T-SQL appears with PostgreSQL 42 times",
         "type": "scatter",
         "uid": "356e2999-2b57-434d-9ca7-87dcea7bbb9c",
         "x": [
          -0.7782765931556147
         ],
         "y": [
          0.4519795842138114
         ]
        },
        {
         "hoverinfo": "text",
         "marker": {
          "color": "green",
          "size": 0.5
         },
         "mode": "markers",
         "text": "PostgreSQL appears with PL/SQL 3 times",
         "type": "scatter",
         "uid": "9c9be3da-0ee5-41ec-aef0-1f7f746bf1ae",
         "x": [
          -0.5617468844696129
         ],
         "y": [
          0.7031645879797158
         ]
        },
        {
         "hoverinfo": "text",
         "marker": {
          "color": "blue",
          "size": 0.5
         },
         "mode": "markers",
         "text": "PL/SQL appears with PostgreSQL 3 times",
         "type": "scatter",
         "uid": "3b08959a-04b3-40ab-a24d-6735d3a0621d",
         "x": [
          -0.8609554217513554
         ],
         "y": [
          0.2622131990517367
         ]
        },
        {
         "hoverinfo": "text",
         "marker": {
          "color": "green",
          "size": 0.5
         },
         "mode": "markers",
         "text": "PostgreSQL appears with Pentaho 50 times",
         "type": "scatter",
         "uid": "4890c411-9168-4761-b607-8afd091cf230",
         "x": [
          -0.5836342381599923
         ],
         "y": [
          0.685106616554975
         ]
        },
        {
         "hoverinfo": "text",
         "marker": {
          "color": "blue",
          "size": 0.5
         },
         "mode": "markers",
         "text": "Pentaho appears with PostgreSQL 50 times",
         "type": "scatter",
         "uid": "8e3edf4f-9b60-46af-9b3a-158fb669a706",
         "x": [
          -0.8919094127577452
         ],
         "y": [
          0.12040597756811847
         ]
        },
        {
         "hoverinfo": "text",
         "marker": {
          "color": "green",
          "size": 0.5
         },
         "mode": "markers",
         "text": "PostgreSQL appears with Hadoop 4 times",
         "type": "scatter",
         "uid": "519a32a5-a5ba-455c-aa86-13ef25d5f2cf",
         "x": [
          -0.5621562655058135
         ],
         "y": [
          0.7028373447338704
         ]
        },
        {
         "hoverinfo": "text",
         "marker": {
          "color": "blue",
          "size": 0.5
         },
         "mode": "markers",
         "text": "Hadoop appears with PostgreSQL 4 times",
         "type": "scatter",
         "uid": "1d6fb5ca-109f-439c-877e-5c7b25b2a1d5",
         "x": [
          -0.8974324783618157
         ],
         "y": [
          0.06793339960114758
         ]
        },
        {
         "hoverinfo": "text",
         "marker": {
          "color": "green",
          "size": 0.5
         },
         "mode": "markers",
         "text": "PostgreSQL appears with Spark 13 times",
         "type": "scatter",
         "uid": "40f64ae9-8d5d-4bcf-a772-b8efdba4559d",
         "x": [
          -0.564550235964092
         ],
         "y": [
          0.7009158516347651
         ]
        },
        {
         "hoverinfo": "text",
         "marker": {
          "color": "blue",
          "size": 0.5
         },
         "mode": "markers",
         "text": "Spark appears with PostgreSQL 13 times",
         "type": "scatter",
         "uid": "cf9f6f22-635a-4bcb-9b29-57da29a9a84c",
         "x": [
          -0.8936722655886349
         ],
         "y": [
          -0.10653582363541608
         ]
        },
        {
         "hoverinfo": "text",
         "marker": {
          "color": "green",
          "size": 0.5
         },
         "mode": "markers",
         "text": "PostgreSQL appears with Informatica 2 times",
         "type": "scatter",
         "uid": "46cb577d-ad8a-46d5-b5ff-de911fe31a4b",
         "x": [
          -0.5614543528058905
         ],
         "y": [
          0.7033981871709072
         ]
        },
        {
         "hoverinfo": "text",
         "marker": {
          "color": "blue",
          "size": 0.5
         },
         "mode": "markers",
         "text": "Informatica appears with PostgreSQL 2 times",
         "type": "scatter",
         "uid": "d0520b6a-7ee0-4328-9c76-e66a7bcdee64",
         "x": [
          -0.8553133358199435
         ],
         "y": [
          -0.28006980838455364
         ]
        },
        {
         "hoverinfo": "text",
         "marker": {
          "color": "green",
          "size": 0.5
         },
         "mode": "markers",
         "text": "PostgreSQL appears with Qlik 14 times",
         "type": "scatter",
         "uid": "1cc81269-d788-405c-a0ec-a226fa2d9010",
         "x": [
          -0.566123168145486
         ],
         "y": [
          0.6996460237069299
         ]
        },
        {
         "hoverinfo": "text",
         "marker": {
          "color": "blue",
          "size": 0.5
         },
         "mode": "markers",
         "text": "Qlik appears with PostgreSQL 14 times",
         "type": "scatter",
         "uid": "09376169-b33e-4b5f-811c-ffa6876dfbba",
         "x": [
          -0.7934892335668967
         ],
         "y": [
          -0.42470558768801103
         ]
        },
        {
         "hoverinfo": "text",
         "marker": {
          "color": "green",
          "size": 0.5
         },
         "mode": "markers",
         "text": "PostgreSQL appears with Tableau 6 times",
         "type": "scatter",
         "uid": "2af39a53-db73-4756-9010-3d985f29dc80",
         "x": [
          -0.5627407648313124
         ],
         "y": [
          0.7023694409618556
         ]
        },
        {
         "hoverinfo": "text",
         "marker": {
          "color": "blue",
          "size": 0.5
         },
         "mode": "markers",
         "text": "Tableau appears with PostgreSQL 6 times",
         "type": "scatter",
         "uid": "9143988f-a467-4ea5-b737-bd578704238c",
         "x": [
          -0.5507573939427011
         ],
         "y": [
          -0.711804954336119
         ]
        },
        {
         "hoverinfo": "text",
         "marker": {
          "color": "green",
          "size": 0.5
         },
         "mode": "markers",
         "text": "PostgreSQL appears with Oracle BI 50 times",
         "type": "scatter",
         "uid": "4061a1e0-d100-457e-ab1c-0518cf80f7d4",
         "x": [
          -0.5893134132242648
         ],
         "y": [
          0.6802276832017107
         ]
        },
        {
         "hoverinfo": "text",
         "marker": {
          "color": "blue",
          "size": 0.5
         },
         "mode": "markers",
         "text": "Oracle BI appears with PostgreSQL 50 times",
         "type": "scatter",
         "uid": "db0d0678-3f61-488e-bdeb-1595c94cdf47",
         "x": [
          0.018968434226949625
         ],
         "y": [
          -0.8998000880767782
         ]
        },
        {
         "hoverinfo": "text",
         "marker": {
          "color": "green",
          "size": 0.5
         },
         "mode": "markers",
         "text": "PostgreSQL appears with Python 30 times",
         "type": "scatter",
         "uid": "0c4a3b26-3c74-4e31-957c-7fac0bace36d",
         "x": [
          -0.5686803416421897
         ],
         "y": [
          0.6975691141598246
         ]
        },
        {
         "hoverinfo": "text",
         "marker": {
          "color": "blue",
          "size": 0.5
         },
         "mode": "markers",
         "text": "Python appears with PostgreSQL 30 times",
         "type": "scatter",
         "uid": "4638fa56-86b7-46ad-854c-6269a9ef40ed",
         "x": [
          0.5674778314351815
         ],
         "y": [
          -0.6985477154995382
         ]
        },
        {
         "hoverinfo": "text",
         "marker": {
          "color": "green",
          "size": 0.5
         },
         "mode": "markers",
         "text": "PostgreSQL appears with Linux 48 times",
         "type": "scatter",
         "uid": "4425e635-85f2-47dc-9d8e-6aa60f3afee6",
         "x": [
          -0.5780294565899086
         ],
         "y": [
          0.6898419727114138
         ]
        },
        {
         "hoverinfo": "text",
         "marker": {
          "color": "blue",
          "size": 0.5
         },
         "mode": "markers",
         "text": "Linux appears with PostgreSQL 48 times",
         "type": "scatter",
         "uid": "c80c5587-723c-4f62-910d-303935dc454a",
         "x": [
          0.8746942703298843
         ],
         "y": [
          -0.21191963913727113
         ]
        },
        {
         "hoverinfo": "text",
         "marker": {
          "color": "green",
          "size": 0.5
         },
         "mode": "markers",
         "text": "PostgreSQL appears with AWS 6 times",
         "type": "scatter",
         "uid": "2bb0d272-de65-4635-b895-6b4d384ef120",
         "x": [
          -0.5634416499074364
         ],
         "y": [
          0.7018073148304924
         ]
        },
        {
         "hoverinfo": "text",
         "marker": {
          "color": "blue",
          "size": 0.5
         },
         "mode": "markers",
         "text": "AWS appears with PostgreSQL 6 times",
         "type": "scatter",
         "uid": "ac66b888-bf28-43ab-8cf5-e4a2f96ee447",
         "x": [
          0.8947297597747523
         ],
         "y": [
          -0.09725562694987876
         ]
        },
        {
         "hoverinfo": "text",
         "marker": {
          "color": "green",
          "size": 0.5
         },
         "mode": "markers",
         "text": "MySQL/MariaDB appears with T-SQL 41 times",
         "type": "scatter",
         "uid": "cff2c220-b1e7-409a-bdc5-685a398a534d",
         "x": [
          -0.6614324456156846
         ],
         "y": [
          0.6103336135973951
         ]
        },
        {
         "hoverinfo": "text",
         "marker": {
          "color": "blue",
          "size": 0.5
         },
         "mode": "markers",
         "text": "T-SQL appears with MySQL/MariaDB 41 times",
         "type": "scatter",
         "uid": "dc387dc7-ad10-4ae1-9891-f9f0521e7fb1",
         "x": [
          -0.7709069216609051
         ],
         "y": [
          0.46443785174693414
         ]
        },
        {
         "hoverinfo": "text",
         "marker": {
          "color": "green",
          "size": 0.5
         },
         "mode": "markers",
         "text": "MySQL/MariaDB appears with PL/SQL 1 times",
         "type": "scatter",
         "uid": "b3321c70-36ef-4320-adce-5ba3f548a5a8",
         "x": [
          -0.6504964277091443
         ],
         "y": [
          0.6219762033531847
         ]
        },
        {
         "hoverinfo": "text",
         "marker": {
          "color": "blue",
          "size": 0.5
         },
         "mode": "markers",
         "text": "PL/SQL appears with MySQL/MariaDB 1 times",
         "type": "scatter",
         "uid": "2a833d91-5879-4277-9a16-fe798e96d901",
         "x": [
          -0.8606903870554433
         ],
         "y": [
          0.2630818458775735
         ]
        },
        {
         "hoverinfo": "text",
         "marker": {
          "color": "green",
          "size": 0.5
         },
         "mode": "markers",
         "text": "MySQL/MariaDB appears with Pentaho 68 times",
         "type": "scatter",
         "uid": "5bca2557-dbbd-4604-b1c6-ad3d57097a87",
         "x": [
          -0.6854828546531373
         ],
         "y": [
          0.5831922975971012
         ]
        },
        {
         "hoverinfo": "text",
         "marker": {
          "color": "blue",
          "size": 0.5
         },
         "mode": "markers",
         "text": "Pentaho appears with MySQL/MariaDB 68 times",
         "type": "scatter",
         "uid": "d2aafb06-00f0-43b7-8cb4-6c62653ae504",
         "x": [
          -0.8930288748544658
         ],
         "y": [
          0.11180084380793763
         ]
        },
        {
         "hoverinfo": "text",
         "marker": {
          "color": "green",
          "size": 0.5
         },
         "mode": "markers",
         "text": "MySQL/MariaDB appears with Hadoop 7 times",
         "type": "scatter",
         "uid": "eef6d2cd-d2dd-4bcb-9037-2040ae24f974",
         "x": [
          -0.6522959879540593
         ],
         "y": [
          0.6200886582570574
         ]
        },
        {
         "hoverinfo": "text",
         "marker": {
          "color": "blue",
          "size": 0.5
         },
         "mode": "markers",
         "text": "Hadoop appears with MySQL/MariaDB 7 times",
         "type": "scatter",
         "uid": "74bd81a3-de38-4419-92f9-0e29f912b246",
         "x": [
          -0.8976316948044541
         ],
         "y": [
          0.06524829869416722
         ]
        },
        {
         "hoverinfo": "text",
         "marker": {
          "color": "green",
          "size": 0.5
         },
         "mode": "markers",
         "text": "MySQL/MariaDB appears with Spark 30 times",
         "type": "scatter",
         "uid": "426ba9bf-25af-4bfe-95ce-25b7f9590b79",
         "x": [
          -0.657494816314175
         ],
         "y": [
          0.6145734834175565
         ]
        },
        {
         "hoverinfo": "text",
         "marker": {
          "color": "blue",
          "size": 0.5
         },
         "mode": "markers",
         "text": "Spark appears with MySQL/MariaDB 30 times",
         "type": "scatter",
         "uid": "1119d538-f8b1-472f-a834-601ec4c9d13c",
         "x": [
          -0.892066470115229
         ],
         "y": [
          -0.11923679338256024
         ]
        },
        {
         "hoverinfo": "text",
         "marker": {
          "color": "green",
          "size": 0.5
         },
         "mode": "markers",
         "text": "MySQL/MariaDB appears with Informatica 11 times",
         "type": "scatter",
         "uid": "7e240298-5a2d-44cc-9a15-99f78f831706",
         "x": [
          -0.6533058346442994
         ],
         "y": [
          0.6190246250511489
         ]
        },
        {
         "hoverinfo": "text",
         "marker": {
          "color": "blue",
          "size": 0.5
         },
         "mode": "markers",
         "text": "Informatica appears with MySQL/MariaDB 11 times",
         "type": "scatter",
         "uid": "cc737254-729f-425a-9dad-0b889fe1c67f",
         "x": [
          -0.8544402471401719
         ],
         "y": [
          -0.2827222383666381
         ]
        },
        {
         "hoverinfo": "text",
         "marker": {
          "color": "green",
          "size": 0.5
         },
         "mode": "markers",
         "text": "MySQL/MariaDB appears with Qlik 17 times",
         "type": "scatter",
         "uid": "f5ab961d-9b14-4184-8589-0f4535d2327d",
         "x": [
          -0.6548732563918449
         ],
         "y": [
          0.6173661944605818
         ]
        },
        {
         "hoverinfo": "text",
         "marker": {
          "color": "blue",
          "size": 0.5
         },
         "mode": "markers",
         "text": "Qlik appears with MySQL/MariaDB 17 times",
         "type": "scatter",
         "uid": "1744acac-0dbc-4412-aa66-54e5407ba0b7",
         "x": [
          -0.7907824543380811
         ],
         "y": [
          -0.4297244581252511
         ]
        },
        {
         "hoverinfo": "text",
         "marker": {
          "color": "green",
          "size": 0.5
         },
         "mode": "markers",
         "text": "MySQL/MariaDB appears with Tableau 55 times",
         "type": "scatter",
         "uid": "3dd6f3bf-dacf-4fc0-8d69-3e58d47fe9e7",
         "x": [
          -0.6721601152547241
         ],
         "y": [
          0.5984987714780675
         ]
        },
        {
         "hoverinfo": "text",
         "marker": {
          "color": "blue",
          "size": 0.5
         },
         "mode": "markers",
         "text": "Tableau appears with MySQL/MariaDB 55 times",
         "type": "scatter",
         "uid": "40ff2e91-0c17-4495-81f2-5391d1bf93bc",
         "x": [
          -0.5138407904415482
         ],
         "y": [
          -0.7388962322805585
         ]
        },
        {
         "hoverinfo": "text",
         "marker": {
          "color": "green",
          "size": 0.5
         },
         "mode": "markers",
         "text": "MySQL/MariaDB appears with Oracle BI 78 times",
         "type": "scatter",
         "uid": "b4f504a5-871f-401b-9721-ccea393633e6",
         "x": [
          -0.6931329386954118
         ],
         "y": [
          0.5740790270472023
         ]
        },
        {
         "hoverinfo": "text",
         "marker": {
          "color": "blue",
          "size": 0.5
         },
         "mode": "markers",
         "text": "Oracle BI appears with MySQL/MariaDB 78 times",
         "type": "scatter",
         "uid": "e3e5906b-a0b4-4dc7-93cd-5fcc4e08dd34",
         "x": [
          0.043408503949453475
         ],
         "y": [
          -0.8989525581391213
         ]
        },
        {
         "hoverinfo": "text",
         "marker": {
          "color": "green",
          "size": 0.5
         },
         "mode": "markers",
         "text": "MySQL/MariaDB appears with Python 63 times",
         "type": "scatter",
         "uid": "006cfad8-7020-4c83-85f9-9bcbc4f6b697",
         "x": [
          -0.6785167187324642
         ],
         "y": [
          0.5912825571590372
         ]
        },
        {
         "hoverinfo": "text",
         "marker": {
          "color": "blue",
          "size": 0.5
         },
         "mode": "markers",
         "text": "Python appears with MySQL/MariaDB 63 times",
         "type": "scatter",
         "uid": "6998d115-ec2b-4f31-97d6-1b4a0f603660",
         "x": [
          0.5986868818948086
         ],
         "y": [
          -0.6719925724642138
         ]
        },
        {
         "hoverinfo": "text",
         "marker": {
          "color": "green",
          "size": 0.5
         },
         "mode": "markers",
         "text": "MySQL/MariaDB appears with VBA 5 times",
         "type": "scatter",
         "uid": "d2d31676-3d38-4ce3-bcbe-f06568f718b5",
         "x": [
          -0.6510593777303174
         ],
         "y": [
          0.6213869057756302
         ]
        },
        {
         "hoverinfo": "text",
         "marker": {
          "color": "blue",
          "size": 0.5
         },
         "mode": "markers",
         "text": "VBA appears with MySQL/MariaDB 5 times",
         "type": "scatter",
         "uid": "6a348c29-749c-4692-8135-678d7f642b39",
         "x": [
          0.8113287378477616
         ],
         "y": [
          -0.38954547763047914
         ]
        },
        {
         "hoverinfo": "text",
         "marker": {
          "color": "green",
          "size": 0.5
         },
         "mode": "markers",
         "text": "MySQL/MariaDB appears with Linux 50 times",
         "type": "scatter",
         "uid": "15a5b8a7-f21b-48c4-a2b4-4a31573bb2b2",
         "x": [
          -0.6664392666943141
         ],
         "y": [
          0.6048625495167848
         ]
        },
        {
         "hoverinfo": "text",
         "marker": {
          "color": "blue",
          "size": 0.5
         },
         "mode": "markers",
         "text": "Linux appears with MySQL/MariaDB 50 times",
         "type": "scatter",
         "uid": "f73519c8-59d8-419b-b578-abc39693ea62",
         "x": [
          0.8764842566855147
         ],
         "y": [
          -0.20439018514214624
         ]
        },
        {
         "hoverinfo": "text",
         "marker": {
          "color": "green",
          "size": 0.5
         },
         "mode": "markers",
         "text": "MySQL/MariaDB appears with AWS 2 times",
         "type": "scatter",
         "uid": "333056e6-8f78-477e-882d-4319cb7d2f1d",
         "x": [
          -0.6506653687429317
         ],
         "y": [
          0.6217994676088303
         ]
        },
        {
         "hoverinfo": "text",
         "marker": {
          "color": "blue",
          "size": 0.5
         },
         "mode": "markers",
         "text": "AWS appears with MySQL/MariaDB 2 times",
         "type": "scatter",
         "uid": "3d2b9c33-2d49-4bd3-acf0-67255cffe098",
         "x": [
          0.8944527545442068
         ],
         "y": [
          -0.09977108743659723
         ]
        },
        {
         "hoverinfo": "text",
         "marker": {
          "color": "green",
          "size": 0.5
         },
         "mode": "markers",
         "text": "T-SQL appears with PL/SQL 48 times",
         "type": "scatter",
         "uid": "612e5aa1-8741-4788-ab26-b7f5f3f2e81f",
         "x": [
          -0.7821649107016572
         ],
         "y": [
          0.4452168600435846
         ]
        },
        {
         "hoverinfo": "text",
         "marker": {
          "color": "blue",
          "size": 0.5
         },
         "mode": "markers",
         "text": "PL/SQL appears with T-SQL 48 times",
         "type": "scatter",
         "uid": "982907d2-860b-4597-a9ee-fa10b82361ae",
         "x": [
          -0.8675896149432806
         ],
         "y": [
          0.23934966062764756
         ]
        },
        {
         "hoverinfo": "text",
         "marker": {
          "color": "green",
          "size": 0.5
         },
         "mode": "markers",
         "text": "T-SQL appears with Pentaho 42 times",
         "type": "scatter",
         "uid": "41b9006d-dc61-4faf-8467-e7aa5f97ee5c",
         "x": [
          -0.7745947377942236
         ],
         "y": [
          0.4582608342216232
         ]
        },
        {
         "hoverinfo": "text",
         "marker": {
          "color": "blue",
          "size": 0.5
         },
         "mode": "markers",
         "text": "Pentaho appears with T-SQL 42 times",
         "type": "scatter",
         "uid": "d7c594d3-b805-4841-bd50-5956d45c92b6",
         "x": [
          -0.8899326957225134
         ],
         "y": [
          0.1342378377509876
         ]
        },
        {
         "hoverinfo": "text",
         "marker": {
          "color": "green",
          "size": 0.5
         },
         "mode": "markers",
         "text": "T-SQL appears with Hadoop 24 times",
         "type": "scatter",
         "uid": "2e5cfc29-ba93-42f8-9408-e98c67c23f4b",
         "x": [
          -0.7605700942797785
         ],
         "y": [
          0.4811788977991957
         ]
        },
        {
         "hoverinfo": "text",
         "marker": {
          "color": "blue",
          "size": 0.5
         },
         "mode": "markers",
         "text": "Hadoop appears with T-SQL 24 times",
         "type": "scatter",
         "uid": "ecd56ada-6a59-4138-83e4-ced05e968eb2",
         "x": [
          -0.8980222759581954
         ],
         "y": [
          0.05963213800345266
         ]
        },
        {
         "hoverinfo": "text",
         "marker": {
          "color": "green",
          "size": 0.5
         },
         "mode": "markers",
         "text": "T-SQL appears with Spark 25 times",
         "type": "scatter",
         "uid": "ffa48b0d-5e69-41cb-b6d8-d2dac54693bd",
         "x": [
          -0.7628323267469165
         ],
         "y": [
          0.4775843813085659
         ]
        },
        {
         "hoverinfo": "text",
         "marker": {
          "color": "blue",
          "size": 0.5
         },
         "mode": "markers",
         "text": "Spark appears with T-SQL 25 times",
         "type": "scatter",
         "uid": "6ee00ee0-9605-4d2f-ab74-079d72bbca27",
         "x": [
          -0.8926569466597079
         ],
         "y": [
          -0.11473262648509094
         ]
        },
        {
         "hoverinfo": "text",
         "marker": {
          "color": "green",
          "size": 0.5
         },
         "mode": "markers",
         "text": "T-SQL appears with Informatica 13 times",
         "type": "scatter",
         "uid": "35bc103e-1959-415b-94b8-fc2323739114",
         "x": [
          -0.7572621275817829
         ],
         "y": [
          0.4863682453967484
         ]
        },
        {
         "hoverinfo": "text",
         "marker": {
          "color": "blue",
          "size": 0.5
         },
         "mode": "markers",
         "text": "Informatica appears with T-SQL 13 times",
         "type": "scatter",
         "uid": "1c1d1664-07f4-4e29-a666-a1c659f6e1be",
         "x": [
          -0.8532294944409898
         ],
         "y": [
          -0.28635542567929984
         ]
        },
        {
         "hoverinfo": "text",
         "marker": {
          "color": "green",
          "size": 0.5
         },
         "mode": "markers",
         "text": "T-SQL appears with Qlik 77 times",
         "type": "scatter",
         "uid": "a7bae992-b131-496e-ba79-8e0a4d9a436e",
         "x": [
          -0.7963617961708186
         ],
         "y": [
          0.4192945141539388
         ]
        },
        {
         "hoverinfo": "text",
         "marker": {
          "color": "blue",
          "size": 0.5
         },
         "mode": "markers",
         "text": "Qlik appears with T-SQL 77 times",
         "type": "scatter",
         "uid": "b9b91ec5-c487-4724-b6c9-36f2f6de0edd",
         "x": [
          -0.7639077397813296
         ],
         "y": [
          -0.47586233839439357
         ]
        },
        {
         "hoverinfo": "text",
         "marker": {
          "color": "green",
          "size": 0.5
         },
         "mode": "markers",
         "text": "T-SQL appears with Tableau 106 times",
         "type": "scatter",
         "uid": "769a222a-28e5-4ae8-9877-f71813229381",
         "x": [
          -0.8036274775525928
         ],
         "y": [
          0.40519486339594296
         ]
        },
        {
         "hoverinfo": "text",
         "marker": {
          "color": "blue",
          "size": 0.5
         },
         "mode": "markers",
         "text": "Tableau appears with T-SQL 106 times",
         "type": "scatter",
         "uid": "89f3ae2b-8590-4a89-afdd-84bd2e6b0dc6",
         "x": [
          -0.46837613205172124
         ],
         "y": [
          -0.7685205260266433
         ]
        },
        {
         "hoverinfo": "text",
         "marker": {
          "color": "green",
          "size": 0.5
         },
         "mode": "markers",
         "text": "T-SQL appears with Microstrategy 17 times",
         "type": "scatter",
         "uid": "71cb1e92-8e0c-4441-9a9a-a21774c89ac4",
         "x": [
          -0.7586641885151574
         ],
         "y": [
          0.48417832362120244
         ]
        },
        {
         "hoverinfo": "text",
         "marker": {
          "color": "blue",
          "size": 0.5
         },
         "mode": "markers",
         "text": "Microstrategy appears with T-SQL 17 times",
         "type": "scatter",
         "uid": "800a0e7a-54d5-4b20-96fb-bd0c7430c3d7",
         "x": [
          -0.09508523574805126
         ],
         "y": [
          -0.894963014846277
         ]
        },
        {
         "hoverinfo": "text",
         "marker": {
          "color": "green",
          "size": 0.5
         },
         "mode": "markers",
         "text": "T-SQL appears with Oracle BI 153 times",
         "type": "scatter",
         "uid": "e594d918-3763-4b0d-b550-796e74e6271c",
         "x": [
          -0.8236389449641113
         ],
         "y": [
          0.36279317570539504
         ]
        },
        {
         "hoverinfo": "text",
         "marker": {
          "color": "blue",
          "size": 0.5
         },
         "mode": "markers",
         "text": "Oracle BI appears with T-SQL 153 times",
         "type": "scatter",
         "uid": "726bb530-c321-4065-97aa-1534429c2f68",
         "x": [
          0.12377236981158256
         ],
         "y": [
          -0.8914484844741309
         ]
        },
        {
         "hoverinfo": "text",
         "marker": {
          "color": "green",
          "size": 0.5
         },
         "mode": "markers",
         "text": "T-SQL appears with Python 56 times",
         "type": "scatter",
         "uid": "6d79ff08-b497-494a-a83c-618ed386b9a5",
         "x": [
          -0.7909259294852773
         ],
         "y": [
          0.42946032886385466
         ]
        },
        {
         "hoverinfo": "text",
         "marker": {
          "color": "blue",
          "size": 0.5
         },
         "mode": "markers",
         "text": "Python appears with T-SQL 56 times",
         "type": "scatter",
         "uid": "cf171d37-d878-49f0-afbd-0a8be863145b",
         "x": [
          0.5905700541201464
         ],
         "y": [
          -0.6791369605436942
         ]
        },
        {
         "hoverinfo": "text",
         "marker": {
          "color": "green",
          "size": 0.5
         },
         "mode": "markers",
         "text": "T-SQL appears with VBA 27 times",
         "type": "scatter",
         "uid": "958b139e-7f18-4904-9fb2-c680f2c43036",
         "x": [
          -0.7652144823303119
         ],
         "y": [
          0.4737581619686914
         ]
        },
        {
         "hoverinfo": "text",
         "marker": {
          "color": "blue",
          "size": 0.5
         },
         "mode": "markers",
         "text": "VBA appears with T-SQL 27 times",
         "type": "scatter",
         "uid": "fb947523-17e7-4905-b40f-defc696ba1a2",
         "x": [
          0.8153770106134142
         ],
         "y": [
          -0.3809991214729142
         ]
        },
        {
         "hoverinfo": "text",
         "marker": {
          "color": "green",
          "size": 0.5
         },
         "mode": "markers",
         "text": "T-SQL appears with Linux 29 times",
         "type": "scatter",
         "uid": "39bc10ae-b442-492f-8c2a-87900ccc3007",
         "x": [
          -0.7677584163668242
         ],
         "y": [
          0.4696243329491204
         ]
        },
        {
         "hoverinfo": "text",
         "marker": {
          "color": "blue",
          "size": 0.5
         },
         "mode": "markers",
         "text": "Linux appears with T-SQL 29 times",
         "type": "scatter",
         "uid": "2469d31a-48bd-40b7-8782-77d956f7bfae",
         "x": [
          0.871770433373832
         ],
         "y": [
          -0.22364326838785298
         ]
        },
        {
         "hoverinfo": "text",
         "marker": {
          "color": "green",
          "size": 0.5
         },
         "mode": "markers",
         "text": "T-SQL appears with AWS 10 times",
         "type": "scatter",
         "uid": "9d8bf38d-a1c4-4007-989a-cddf10bddbd0",
         "x": [
          -0.7561829326568908
         ],
         "y": [
          0.488044436868636
         ]
        },
        {
         "hoverinfo": "text",
         "marker": {
          "color": "blue",
          "size": 0.5
         },
         "mode": "markers",
         "text": "AWS appears with T-SQL 10 times",
         "type": "scatter",
         "uid": "eed633e6-7fce-44b2-a014-cd16b84a4ba5",
         "x": [
          0.89499969081522
         ],
         "y": [
          -0.09473939751054229
         ]
        },
        {
         "hoverinfo": "text",
         "marker": {
          "color": "green",
          "size": 0.5
         },
         "mode": "markers",
         "text": "PL/SQL appears with Pentaho 8 times",
         "type": "scatter",
         "uid": "7d99973c-b3b1-4f2e-94a4-9a345d7e50cc",
         "x": [
          -0.8615391640992699
         ],
         "y": [
          0.2602888178987552
         ]
        },
        {
         "hoverinfo": "text",
         "marker": {
          "color": "blue",
          "size": 0.5
         },
         "mode": "markers",
         "text": "Pentaho appears with PL/SQL 8 times",
         "type": "scatter",
         "uid": "736682ea-31f9-41d2-9afe-b6f7f00c0090",
         "x": [
          -0.8819639805287873
         ],
         "y": [
          0.17927503186394075
         ]
        },
        {
         "hoverinfo": "text",
         "marker": {
          "color": "green",
          "size": 0.5
         },
         "mode": "markers",
         "text": "PL/SQL appears with Hadoop 6 times",
         "type": "scatter",
         "uid": "99105a19-0bd9-40ff-8564-ec27644da1dc",
         "x": [
          -0.8612760709772967
         ],
         "y": [
          0.2611580547521184
         ]
        },
        {
         "hoverinfo": "text",
         "marker": {
          "color": "blue",
          "size": 0.5
         },
         "mode": "markers",
         "text": "Hadoop appears with PL/SQL 6 times",
         "type": "scatter",
         "uid": "8070773e-1013-41ac-aa0d-c7805d08f054",
         "x": [
          -0.8975541745363302
         ],
         "y": [
          0.06630613676279708
         ]
        },
        {
         "hoverinfo": "text",
         "marker": {
          "color": "green",
          "size": 0.5
         },
         "mode": "markers",
         "text": "PL/SQL appears with Informatica 33 times",
         "type": "scatter",
         "uid": "7831fe20-175f-4ec5-a6a6-cf498e7afb48",
         "x": [
          -0.866177441705015
         ],
         "y": [
          0.24441080066428195
         ]
        },
        {
         "hoverinfo": "text",
         "marker": {
          "color": "blue",
          "size": 0.5
         },
         "mode": "markers",
         "text": "Informatica appears with PL/SQL 33 times",
         "type": "scatter",
         "uid": "54c8ca16-6048-45e0-8f64-b6b5e2ea2ee5",
         "x": [
          -0.8465117827681443
         ],
         "y": [
          -0.30564325877515774
         ]
        },
        {
         "hoverinfo": "text",
         "marker": {
          "color": "green",
          "size": 0.5
         },
         "mode": "markers",
         "text": "PL/SQL appears with Qlik 20 times",
         "type": "scatter",
         "uid": "68589e28-7a4e-41eb-af7e-2c998bb0dcc6",
         "x": [
          -0.8633562374761656
         ],
         "y": [
          0.25419678835697124
         ]
        },
        {
         "hoverinfo": "text",
         "marker": {
          "color": "blue",
          "size": 0.5
         },
         "mode": "markers",
         "text": "Qlik appears with PL/SQL 20 times",
         "type": "scatter",
         "uid": "9eb8d176-f780-475a-a061-d0725016c506",
         "x": [
          -0.7891779551847529
         ],
         "y": [
          -0.4326640209798039
         ]
        },
        {
         "hoverinfo": "text",
         "marker": {
          "color": "green",
          "size": 0.5
         },
         "mode": "markers",
         "text": "PL/SQL appears with Tableau 26 times",
         "type": "scatter",
         "uid": "e57fac67-37a8-425f-86d7-edca4c3386ac",
         "x": [
          -0.8641942996243493
         ],
         "y": [
          0.2513328718985647
         ]
        },
        {
         "hoverinfo": "text",
         "marker": {
          "color": "blue",
          "size": 0.5
         },
         "mode": "markers",
         "text": "Tableau appears with PL/SQL 26 times",
         "type": "scatter",
         "uid": "6152243b-db6e-4e7c-a4f8-84cf91920329",
         "x": [
          -0.5447622212596176
         ],
         "y": [
          -0.7164036029280475
         ]
        },
        {
         "hoverinfo": "text",
         "marker": {
          "color": "green",
          "size": 0.5
         },
         "mode": "markers",
         "text": "PL/SQL appears with Microstrategy 26 times",
         "type": "scatter",
         "uid": "6e053126-12e3-4820-8f50-bcb7ace54b00",
         "x": [
          -0.8651302340883966
         ],
         "y": [
          0.2480920757826739
         ]
        },
        {
         "hoverinfo": "text",
         "marker": {
          "color": "blue",
          "size": 0.5
         },
         "mode": "markers",
         "text": "Microstrategy appears with PL/SQL 26 times",
         "type": "scatter",
         "uid": "184c0801-57dc-48b7-a86f-75870cd7ea4c",
         "x": [
          -0.08485196562494
         ],
         "y": [
          -0.8959911517027297
         ]
        },
        {
         "hoverinfo": "text",
         "marker": {
          "color": "green",
          "size": 0.5
         },
         "mode": "markers",
         "text": "PL/SQL appears with Oracle BI 93 times",
         "type": "scatter",
         "uid": "e6008e4f-b78f-479c-a65f-095958bd2eef",
         "x": [
          -0.8738966754502152
         ],
         "y": [
          0.21518503813476741
         ]
        },
        {
         "hoverinfo": "text",
         "marker": {
          "color": "blue",
          "size": 0.5
         },
         "mode": "markers",
         "text": "Oracle BI appears with PL/SQL 93 times",
         "type": "scatter",
         "uid": "968465a1-f5b8-4400-978d-5c16bf59dfa9",
         "x": [
          0.07572527102407332
         ],
         "y": [
          -0.8968086101997074
         ]
        },
        {
         "hoverinfo": "text",
         "marker": {
          "color": "green",
          "size": 0.5
         },
         "mode": "markers",
         "text": "PL/SQL appears with Python 3 times",
         "type": "scatter",
         "uid": "78c9fba2-d850-492d-acc9-20d9c4f6590e",
         "x": [
          -0.8608419427855435
         ],
         "y": [
          0.2625855090084202
         ]
        },
        {
         "hoverinfo": "text",
         "marker": {
          "color": "blue",
          "size": 0.5
         },
         "mode": "markers",
         "text": "Python appears with PL/SQL 3 times",
         "type": "scatter",
         "uid": "6789347b-2860-4d35-b8e2-79ae001a2ace",
         "x": [
          0.5623139009955058
         ],
         "y": [
          -0.7027112328312509
         ]
        },
        {
         "hoverinfo": "text",
         "marker": {
          "color": "green",
          "size": 0.5
         },
         "mode": "markers",
         "text": "PL/SQL appears with VBA 10 times",
         "type": "scatter",
         "uid": "83daa8b6-e486-4e91-9f70-bbc89cb640cc",
         "x": [
          -0.86187613759605
         ],
         "y": [
          0.25917083833354915
         ]
        },
        {
         "hoverinfo": "text",
         "marker": {
          "color": "blue",
          "size": 0.5
         },
         "mode": "markers",
         "text": "VBA appears with PL/SQL 10 times",
         "type": "scatter",
         "uid": "c293ac77-97b6-4379-961d-8a4278c66e38",
         "x": [
          0.8141173042871139
         ],
         "y": [
          -0.38368348265241065
         ]
        },
        {
         "hoverinfo": "text",
         "marker": {
          "color": "green",
          "size": 0.5
         },
         "mode": "markers",
         "text": "PL/SQL appears with Linux 4 times",
         "type": "scatter",
         "uid": "fcf13f9f-eb8a-4a5b-8940-95a9400bff4f",
         "x": [
          -0.8610876103624295
         ],
         "y": [
          0.2617787754580591
         ]
        },
        {
         "hoverinfo": "text",
         "marker": {
          "color": "blue",
          "size": 0.5
         },
         "mode": "markers",
         "text": "Linux appears with PL/SQL 4 times",
         "type": "scatter",
         "uid": "8ba801ca-f738-42c4-8018-b0b61357121f",
         "x": [
          0.8664203724649016
         ],
         "y": [
          -0.24354822556894415
         ]
        },
        {
         "hoverinfo": "text",
         "marker": {
          "color": "green",
          "size": 0.5
         },
         "mode": "markers",
         "text": "PL/SQL appears with AWS 2 times",
         "type": "scatter",
         "uid": "28344d6f-bcc7-410e-a631-b4cb8cc566cf",
         "x": [
          -0.860747253992912
         ],
         "y": [
          0.2628957297935086
         ]
        },
        {
         "hoverinfo": "text",
         "marker": {
          "color": "blue",
          "size": 0.5
         },
         "mode": "markers",
         "text": "AWS appears with PL/SQL 2 times",
         "type": "scatter",
         "uid": "b25a2ce5-ca80-4dee-9774-2d1f5e27edb6",
         "x": [
          0.8944215396014541
         ],
         "y": [
          -0.10005053471603546
         ]
        },
        {
         "hoverinfo": "text",
         "marker": {
          "color": "green",
          "size": 0.5
         },
         "mode": "markers",
         "text": "Pentaho appears with Spark 8 times",
         "type": "scatter",
         "uid": "627e211c-e2a6-4740-ad88-f3cb59ab9ee5",
         "x": [
          -0.8817288477858422
         ],
         "y": [
          0.18042793293237955
         ]
        },
        {
         "hoverinfo": "text",
         "marker": {
          "color": "blue",
          "size": 0.5
         },
         "mode": "markers",
         "text": "Spark appears with Pentaho 8 times",
         "type": "scatter",
         "uid": "8fa29490-4705-41c8-aa16-4458e9c1aa74",
         "x": [
          -0.8940667955430162
         ],
         "y": [
          -0.10317250170196822
         ]
        },
        {
         "hoverinfo": "text",
         "marker": {
          "color": "green",
          "size": 0.5
         },
         "mode": "markers",
         "text": "Pentaho appears with Informatica 36 times",
         "type": "scatter",
         "uid": "29990518-e4b4-4f34-9a3a-359def083b47",
         "x": [
          -0.8842049096377712
         ],
         "y": [
          0.16787399373476836
         ]
        },
        {
         "hoverinfo": "text",
         "marker": {
          "color": "blue",
          "size": 0.5
         },
         "mode": "markers",
         "text": "Informatica appears with Pentaho 36 times",
         "type": "scatter",
         "uid": "363e85c7-764d-49a9-a9ad-addab58dd35b",
         "x": [
          -0.8446264134948973
         ],
         "y": [
          -0.3108154140752143
         ]
        },
        {
         "hoverinfo": "text",
         "marker": {
          "color": "green",
          "size": 0.5
         },
         "mode": "markers",
         "text": "Pentaho appears with Qlik 33 times",
         "type": "scatter",
         "uid": "2536e57c-315c-4c5f-8a0a-6012725da6ea",
         "x": [
          -0.8832443811087902
         ],
         "y": [
          0.1728564816249313
         ]
        },
        {
         "hoverinfo": "text",
         "marker": {
          "color": "blue",
          "size": 0.5
         },
         "mode": "markers",
         "text": "Qlik appears with Pentaho 33 times",
         "type": "scatter",
         "uid": "74ecef95-3511-4d59-ac53-47e93acf1358",
         "x": [
          -0.784121337598899
         ],
         "y": [
          -0.4417620716201352
         ]
        },
        {
         "hoverinfo": "text",
         "marker": {
          "color": "green",
          "size": 0.5
         },
         "mode": "markers",
         "text": "Pentaho appears with Tableau 41 times",
         "type": "scatter",
         "uid": "529e2088-e407-4032-9588-920b30dc8856",
         "x": [
          -0.889001836726104
         ],
         "y": [
          0.14027021885494248
         ]
        },
        {
         "hoverinfo": "text",
         "marker": {
          "color": "blue",
          "size": 0.5
         },
         "mode": "markers",
         "text": "Tableau appears with Pentaho 41 times",
         "type": "scatter",
         "uid": "2f439f7d-d2c8-4732-8710-3f90e398965b",
         "x": [
          -0.5349568893005989
         ],
         "y": [
          -0.7237548801837724
         ]
        },
        {
         "hoverinfo": "text",
         "marker": {
          "color": "green",
          "size": 0.5
         },
         "mode": "markers",
         "text": "Pentaho appears with Microstrategy 4 times",
         "type": "scatter",
         "uid": "00841b14-c658-4edd-afe1-777fc75f1120",
         "x": [
          -0.8815515091927439
         ],
         "y": [
          0.18129240645982814
         ]
        },
        {
         "hoverinfo": "text",
         "marker": {
          "color": "blue",
          "size": 0.5
         },
         "mode": "markers",
         "text": "Microstrategy appears with Pentaho 4 times",
         "type": "scatter",
         "uid": "507cb5cb-7b07-41bf-ac33-2a55d1a6eb59",
         "x": [
          -0.0985354444330953
         ],
         "y": [
          -0.8945897194750074
         ]
        },
        {
         "hoverinfo": "text",
         "marker": {
          "color": "green",
          "size": 0.5
         },
         "mode": "markers",
         "text": "Pentaho appears with Oracle BI 40 times",
         "type": "scatter",
         "uid": "1ecaee88-42eb-40c1-9d30-94e4168af863",
         "x": [
          -0.8880539839726952
         ],
         "y": [
          0.14615102308989872
         ]
        },
        {
         "hoverinfo": "text",
         "marker": {
          "color": "blue",
          "size": 0.5
         },
         "mode": "markers",
         "text": "Oracle BI appears with Pentaho 40 times",
         "type": "scatter",
         "uid": "5f6301b0-e595-4d18-b35a-fd7eb8e0cad8",
         "x": [
          -0.015379140764226713
         ],
         "y": [
          -0.8998685915339828
         ]
        },
        {
         "hoverinfo": "text",
         "marker": {
          "color": "green",
          "size": 0.5
         },
         "mode": "markers",
         "text": "Pentaho appears with Python 38 times",
         "type": "scatter",
         "uid": "7fc9979e-8caa-4e8c-902e-b1a1d1642c6d",
         "x": [
          -0.8871044694279356
         ],
         "y": [
          0.1518079718624185
         ]
        },
        {
         "hoverinfo": "text",
         "marker": {
          "color": "blue",
          "size": 0.5
         },
         "mode": "markers",
         "text": "Python appears with Pentaho 38 times",
         "type": "scatter",
         "uid": "53f418f3-26da-403b-a9ee-20c5d779e89a",
         "x": [
          0.5765973629957281
         ],
         "y": [
          -0.691039420718075
         ]
        },
        {
         "hoverinfo": "text",
         "marker": {
          "color": "green",
          "size": 0.5
         },
         "mode": "markers",
         "text": "Pentaho appears with VBA 1 times",
         "type": "scatter",
         "uid": "d79f54a3-5768-4ff7-93c4-27087964893b",
         "x": [
          -0.881477367955832
         ],
         "y": [
          0.18165255236758693
         ]
        },
        {
         "hoverinfo": "text",
         "marker": {
          "color": "blue",
          "size": 0.5
         },
         "mode": "markers",
         "text": "VBA appears with Pentaho 1 times",
         "type": "scatter",
         "uid": "c1df3a87-ca1b-44e1-a015-0dc07f5e0ff2",
         "x": [
          0.8104943835181136
         ],
         "y": [
          -0.3912784868678484
         ]
        },
        {
         "hoverinfo": "text",
         "marker": {
          "color": "green",
          "size": 0.5
         },
         "mode": "markers",
         "text": "Pentaho appears with Linux 38 times",
         "type": "scatter",
         "uid": "f3e90069-fa56-4091-b8b5-e65281d44a71",
         "x": [
          -0.8861446405137774
         ],
         "y": [
          0.15731394117721495
         ]
        },
        {
         "hoverinfo": "text",
         "marker": {
          "color": "blue",
          "size": 0.5
         },
         "mode": "markers",
         "text": "Linux appears with Pentaho 38 times",
         "type": "scatter",
         "uid": "34ac8a98-8dbf-4a2c-8518-311c6f944ebc",
         "x": [
          0.8730701759781969
         ],
         "y": [
          -0.2185142279518662
         ]
        },
        {
         "hoverinfo": "text",
         "marker": {
          "color": "green",
          "size": 0.5
         },
         "mode": "markers",
         "text": "Pentaho appears with AWS 15 times",
         "type": "scatter",
         "uid": "4a88ffe8-5869-4879-aed1-4a92efd92c15",
         "x": [
          -0.8825596264554229
         ],
         "y": [
          0.17631932892018531
         ]
        },
        {
         "hoverinfo": "text",
         "marker": {
          "color": "blue",
          "size": 0.5
         },
         "mode": "markers",
         "text": "AWS appears with Pentaho 15 times",
         "type": "scatter",
         "uid": "9a738fd2-a54c-4bac-aae5-a3668d395d15",
         "x": [
          0.8951829797056291
         ],
         "y": [
          -0.09299157405567125
         ]
        },
        {
         "hoverinfo": "text",
         "marker": {
          "color": "green",
          "size": 0.5
         },
         "mode": "markers",
         "text": "Hadoop appears with Spark 161 times",
         "type": "scatter",
         "uid": "15b7c508-6745-4e5c-988f-776ebe0da69c",
         "x": [
          -0.899427136186449
         ],
         "y": [
          -0.03210648986487016
         ]
        },
        {
         "hoverinfo": "text",
         "marker": {
          "color": "blue",
          "size": 0.5
         },
         "mode": "markers",
         "text": "Spark appears with Hadoop 161 times",
         "type": "scatter",
         "uid": "2deec2c9-23a8-4fe5-80f7-c325b441b6e6",
         "x": [
          -0.8753359734562713
         ],
         "y": [
          -0.20925327613531405
         ]
        },
        {
         "hoverinfo": "text",
         "marker": {
          "color": "green",
          "size": 0.5
         },
         "mode": "markers",
         "text": "Hadoop appears with Informatica 5 times",
         "type": "scatter",
         "uid": "df70af3d-670a-4b8b-a871-83b53fcc189e",
         "x": [
          -0.8974876067542094
         ],
         "y": [
          0.06720115864032178
         ]
        },
        {
         "hoverinfo": "text",
         "marker": {
          "color": "blue",
          "size": 0.5
         },
         "mode": "markers",
         "text": "Informatica appears with Hadoop 5 times",
         "type": "scatter",
         "uid": "a86ccc2f-0d14-4f80-9100-be395855b02a",
         "x": [
          -0.8551393765272798
         ],
         "y": [
          -0.28060051089143684
         ]
        },
        {
         "hoverinfo": "text",
         "marker": {
          "color": "green",
          "size": 0.5
         },
         "mode": "markers",
         "text": "Hadoop appears with Qlik 9 times",
         "type": "scatter",
         "uid": "a832239e-fcc9-4b5f-83ad-cec8c0f1cab2",
         "x": [
          -0.8977253928463623
         ],
         "y": [
          0.06394621989488054
         ]
        },
        {
         "hoverinfo": "text",
         "marker": {
          "color": "blue",
          "size": 0.5
         },
         "mode": "markers",
         "text": "Qlik appears with Hadoop 9 times",
         "type": "scatter",
         "uid": "370bfd36-abf3-4431-8ad6-335be3168bd4",
         "x": [
          -0.7944694913510099
         ],
         "y": [
          -0.42286904274546705
         ]
        },
        {
         "hoverinfo": "text",
         "marker": {
          "color": "green",
          "size": 0.5
         },
         "mode": "markers",
         "text": "Hadoop appears with Tableau 50 times",
         "type": "scatter",
         "uid": "0a7a18fd-de9e-47ea-a802-638836be3d5f",
         "x": [
          -0.8995536769541881
         ],
         "y": [
          0.028340470677110954
         ]
        },
        {
         "hoverinfo": "text",
         "marker": {
          "color": "blue",
          "size": 0.5
         },
         "mode": "markers",
         "text": "Tableau appears with Hadoop 50 times",
         "type": "scatter",
         "uid": "a0aa0375-a1be-43d8-b2e8-125e70829ebf",
         "x": [
          -0.5217541634368768
         ],
         "y": [
          -0.7333297982056128
         ]
        },
        {
         "hoverinfo": "text",
         "marker": {
          "color": "green",
          "size": 0.5
         },
         "mode": "markers",
         "text": "Hadoop appears with Microstrategy 3 times",
         "type": "scatter",
         "uid": "f4d4fb08-1bcc-443b-8059-cbc7c733e43c",
         "x": [
          -0.8973891876905223
         ],
         "y": [
          0.0685028891080121
         ]
        },
        {
         "hoverinfo": "text",
         "marker": {
          "color": "blue",
          "size": 0.5
         },
         "mode": "markers",
         "text": "Microstrategy appears with Hadoop 3 times",
         "type": "scatter",
         "uid": "d6852cdb-d7b1-4278-afdf-23ebb1280cdf",
         "x": [
          -0.09897445787620565
         ],
         "y": [
          -0.8945412548832564
         ]
        },
        {
         "hoverinfo": "text",
         "marker": {
          "color": "green",
          "size": 0.5
         },
         "mode": "markers",
         "text": "Hadoop appears with Oracle BI 48 times",
         "type": "scatter",
         "uid": "4b9feb10-60d8-46e5-8daa-bd6af86b9df8",
         "x": [
          -0.8992663945930196
         ],
         "y": [
          0.036331137549926486
         ]
        },
        {
         "hoverinfo": "text",
         "marker": {
          "color": "blue",
          "size": 0.5
         },
         "mode": "markers",
         "text": "Oracle BI appears with Hadoop 48 times",
         "type": "scatter",
         "uid": "7da51ded-5098-4a61-9378-10174b105770",
         "x": [
          0.009822161871704847
         ],
         "y": [
          -0.8999464012574115
         ]
        },
        {
         "hoverinfo": "text",
         "marker": {
          "color": "green",
          "size": 0.5
         },
         "mode": "markers",
         "text": "Hadoop appears with Python 176 times",
         "type": "scatter",
         "uid": "eae5f734-1262-428d-a869-4b6357be4b34",
         "x": [
          -0.8980266862686952
         ],
         "y": [
          -0.0595656843263526
         ]
        },
        {
         "hoverinfo": "text",
         "marker": {
          "color": "blue",
          "size": 0.5
         },
         "mode": "markers",
         "text": "Python appears with Hadoop 176 times",
         "type": "scatter",
         "uid": "2e2f9301-45de-42e4-9348-c0f03e774700",
         "x": [
          0.7343892535414956
         ],
         "y": [
          -0.5202618804820941
         ]
        },
        {
         "hoverinfo": "text",
         "marker": {
          "color": "green",
          "size": 0.5
         },
         "mode": "markers",
         "text": "Hadoop appears with VBA 10 times",
         "type": "scatter",
         "uid": "3335af42-ce6b-4339-b1d3-b7e64dec56a5",
         "x": [
          -0.8978342060844438
         ],
         "y": [
          0.062399826800373585
         ]
        },
        {
         "hoverinfo": "text",
         "marker": {
          "color": "blue",
          "size": 0.5
         },
         "mode": "markers",
         "text": "VBA appears with Hadoop 10 times",
         "type": "scatter",
         "uid": "a8b3efb3-9076-41f1-9cdf-ad32982778e9",
         "x": [
          0.8134327015337534
         ],
         "y": [
          -0.3851327564301689
         ]
        },
        {
         "hoverinfo": "text",
         "marker": {
          "color": "green",
          "size": 0.5
         },
         "mode": "markers",
         "text": "Hadoop appears with Linux 112 times",
         "type": "scatter",
         "uid": "50c60e4e-eb2f-4bd8-a693-9cce68583822",
         "x": [
          -0.8999462180015926
         ],
         "y": [
          -0.009838938186106675
         ]
        },
        {
         "hoverinfo": "text",
         "marker": {
          "color": "blue",
          "size": 0.5
         },
         "mode": "markers",
         "text": "Linux appears with Hadoop 112 times",
         "type": "scatter",
         "uid": "363ca3f5-f3a5-4410-8fc0-745786c5af2e",
         "x": [
          0.8864384538938517
         ],
         "y": [
          -0.15564982318742834
         ]
        },
        {
         "hoverinfo": "text",
         "marker": {
          "color": "green",
          "size": 0.5
         },
         "mode": "markers",
         "text": "Hadoop appears with AWS 60 times",
         "type": "scatter",
         "uid": "d21bb5b3-85a7-4ebf-b666-a339295133b0",
         "x": [
          -0.8997915606681774
         ],
         "y": [
          0.019368720926419374
         ]
        },
        {
         "hoverinfo": "text",
         "marker": {
          "color": "blue",
          "size": 0.5
         },
         "mode": "markers",
         "text": "AWS appears with Hadoop 60 times",
         "type": "scatter",
         "uid": "3c77b525-23a1-4fef-ab5e-1d8bf2512bee",
         "x": [
          0.8982073159131649
         ],
         "y": [
          -0.056776911152932714
         ]
        },
        {
         "hoverinfo": "text",
         "marker": {
          "color": "green",
          "size": 0.5
         },
         "mode": "markers",
         "text": "Spark appears with Informatica 15 times",
         "type": "scatter",
         "uid": "1feba2f3-a8c4-46a9-a3e7-17feddc63c88",
         "x": [
          -0.8933955594756988
         ],
         "y": [
          -0.10883186256378741
         ]
        },
        {
         "hoverinfo": "text",
         "marker": {
          "color": "blue",
          "size": 0.5
         },
         "mode": "markers",
         "text": "Informatica appears with Spark 15 times",
         "type": "scatter",
         "uid": "7dfd17fd-194c-4581-b9f6-d484eed894b2",
         "x": [
          -0.852516086323973
         ],
         "y": [
          -0.28847239479516257
         ]
        },
        {
         "hoverinfo": "text",
         "marker": {
          "color": "green",
          "size": 0.5
         },
         "mode": "markers",
         "text": "Spark appears with Qlik 16 times",
         "type": "scatter",
         "uid": "6f5767f6-9397-419c-9a01-af857f466d0c",
         "x": [
          -0.8930823254267032
         ],
         "y": [
          -0.11137306680895659
         ]
        },
        {
         "hoverinfo": "text",
         "marker": {
          "color": "blue",
          "size": 0.5
         },
         "mode": "markers",
         "text": "Qlik appears with Spark 16 times",
         "type": "scatter",
         "uid": "bee7abbe-8ea2-4d80-a0fb-8346e7ee08fe",
         "x": [
          -0.7922042570256705
         ],
         "y": [
          -0.42709766465107885
         ]
        },
        {
         "hoverinfo": "text",
         "marker": {
          "color": "green",
          "size": 0.5
         },
         "mode": "markers",
         "text": "Spark appears with Tableau 43 times",
         "type": "scatter",
         "uid": "fce7c232-f3a0-4b80-9cf1-4bed67d9dc9a",
         "x": [
          -0.889615524470459
         ],
         "y": [
          -0.13632394735023715
         ]
        },
        {
         "hoverinfo": "text",
         "marker": {
          "color": "blue",
          "size": 0.5
         },
         "mode": "markers",
         "text": "Tableau appears with Spark 43 times",
         "type": "scatter",
         "uid": "a57b2ce8-0bc9-41f5-9f64-e95e8960e1d0",
         "x": [
          -0.5287128266664503
         ],
         "y": [
          -0.728328735474835
         ]
        },
        {
         "hoverinfo": "text",
         "marker": {
          "color": "green",
          "size": 0.5
         },
         "mode": "markers",
         "text": "Spark appears with Microstrategy 3 times",
         "type": "scatter",
         "uid": "50ffcd6d-efed-4f57-ac13-7217c7eef6ec",
         "x": [
          -0.8941704917185512
         ],
         "y": [
          -0.10226989654734277
         ]
        },
        {
         "hoverinfo": "text",
         "marker": {
          "color": "blue",
          "size": 0.5
         },
         "mode": "markers",
         "text": "Microstrategy appears with Spark 3 times",
         "type": "scatter",
         "uid": "d009390f-907d-4715-bba9-5c0b2ab1063d",
         "x": [
          -0.09935073614473335
         ],
         "y": [
          -0.8944995423293964
         ]
        },
        {
         "hoverinfo": "text",
         "marker": {
          "color": "green",
          "size": 0.5
         },
         "mode": "markers",
         "text": "Spark appears with Oracle BI 44 times",
         "type": "scatter",
         "uid": "0ad2c50b-80b0-42f9-8bc8-fac6fb635a59",
         "x": [
          -0.888498749012446
         ],
         "y": [
          -0.14342235879847517
         ]
        },
        {
         "hoverinfo": "text",
         "marker": {
          "color": "blue",
          "size": 0.5
         },
         "mode": "markers",
         "text": "Oracle BI appears with Spark 44 times",
         "type": "scatter",
         "uid": "5a73a220-539a-4182-ac68-3730019c11a4",
         "x": [
          -0.0075391023268481195
         ],
         "y": [
          -0.899968422743879
         ]
        },
        {
         "hoverinfo": "text",
         "marker": {
          "color": "green",
          "size": 0.5
         },
         "mode": "markers",
         "text": "Spark appears with Python 193 times",
         "type": "scatter",
         "uid": "21d1cf8b-06d8-4968-9aa2-886c45868474",
         "x": [
          -0.8680772177506696
         ],
         "y": [
          -0.23757513342573652
         ]
        },
        {
         "hoverinfo": "text",
         "marker": {
          "color": "blue",
          "size": 0.5
         },
         "mode": "markers",
         "text": "Python appears with Spark 193 times",
         "type": "scatter",
         "uid": "b3655826-fc37-4761-9419-eb757bb92e45",
         "x": [
          0.7532579215595167
         ],
         "y": [
          -0.49254695573908186
         ]
        },
        {
         "hoverinfo": "text",
         "marker": {
          "color": "green",
          "size": 0.5
         },
         "mode": "markers",
         "text": "Spark appears with VBA 10 times",
         "type": "scatter",
         "uid": "7243cad2-5170-424a-aba2-d473dc7e8196",
         "x": [
          -0.89389514563429
         ],
         "y": [
          -0.10464926474396079
         ]
        },
        {
         "hoverinfo": "text",
         "marker": {
          "color": "blue",
          "size": 0.5
         },
         "mode": "markers",
         "text": "VBA appears with Spark 10 times",
         "type": "scatter",
         "uid": "5bf86b77-155b-40b7-b5e7-8e5c101c20b2",
         "x": [
          0.8127455188174872
         ],
         "y": [
          -0.3865808086831182
         ]
        },
        {
         "hoverinfo": "text",
         "marker": {
          "color": "green",
          "size": 0.5
         },
         "mode": "markers",
         "text": "Spark appears with Linux 92 times",
         "type": "scatter",
         "uid": "7053a272-81dc-43d6-b07b-860a5132e70e",
         "x": [
          -0.8832763820192102
         ],
         "y": [
          -0.17269288626649978
         ]
        },
        {
         "hoverinfo": "text",
         "marker": {
          "color": "blue",
          "size": 0.5
         },
         "mode": "markers",
         "text": "Linux appears with Spark 92 times",
         "type": "scatter",
         "uid": "d9bc7cba-0e7c-4601-8c35-29905eaa31f9",
         "x": [
          0.8835103818909078
         ],
         "y": [
          -0.1714917056040388
         ]
        },
        {
         "hoverinfo": "text",
         "marker": {
          "color": "green",
          "size": 0.5
         },
         "mode": "markers",
         "text": "Spark appears with AWS 64 times",
         "type": "scatter",
         "uid": "79cb9af8-0d84-404d-912a-26c165cd8e7b",
         "x": [
          -0.8856581254404974
         ],
         "y": [
          -0.16003026226693604
         ]
        },
        {
         "hoverinfo": "text",
         "marker": {
          "color": "blue",
          "size": 0.5
         },
         "mode": "markers",
         "text": "AWS appears with Spark 64 times",
         "type": "scatter",
         "uid": "2940d4e9-d96d-4705-a8fd-b2da00a8128a",
         "x": [
          0.8987150794532176
         ],
         "y": [
          -0.0480750035194667
         ]
        },
        {
         "hoverinfo": "text",
         "marker": {
          "color": "green",
          "size": 0.5
         },
         "mode": "markers",
         "text": "Informatica appears with Qlik 94 times",
         "type": "scatter",
         "uid": "8c33e60e-5f18-4ced-879b-0a632a4d4e77",
         "x": [
          -0.8282247697743734
         ],
         "y": [
          -0.35219842522672656
         ]
        },
        {
         "hoverinfo": "text",
         "marker": {
          "color": "blue",
          "size": 0.5
         },
         "mode": "markers",
         "text": "Qlik appears with Informatica 94 times",
         "type": "scatter",
         "uid": "fc6b5639-68f2-4a81-8569-f4a7cb728778",
         "x": [
          -0.7462329717193996
         ],
         "y": [
          -0.5031265764386073
         ]
        },
        {
         "hoverinfo": "text",
         "marker": {
          "color": "green",
          "size": 0.5
         },
         "mode": "markers",
         "text": "Informatica appears with Tableau 74 times",
         "type": "scatter",
         "uid": "8b8b7c3f-1fab-448b-a370-88c354b35050",
         "x": [
          -0.8377646582951632
         ],
         "y": [
          -0.3288622467106682
         ]
        },
        {
         "hoverinfo": "text",
         "marker": {
          "color": "blue",
          "size": 0.5
         },
         "mode": "markers",
         "text": "Tableau appears with Informatica 74 times",
         "type": "scatter",
         "uid": "792ff8d3-5531-4f64-b8f4-33a6a016ba5a",
         "x": [
          -0.49499301823247593
         ],
         "y": [
          -0.7516527867979362
         ]
        },
        {
         "hoverinfo": "text",
         "marker": {
          "color": "green",
          "size": 0.5
         },
         "mode": "markers",
         "text": "Informatica appears with Microstrategy 18 times",
         "type": "scatter",
         "uid": "87e17d42-7add-46d4-b895-2b8bf5a695e3",
         "x": [
          -0.8516685411295601
         ],
         "y": [
          -0.2909651113969625
         ]
        },
        {
         "hoverinfo": "text",
         "marker": {
          "color": "blue",
          "size": 0.5
         },
         "mode": "markers",
         "text": "Microstrategy appears with Informatica 18 times",
         "type": "scatter",
         "uid": "dec4ed4c-5564-4615-a640-ffaa7bfe317d",
         "x": [
          -0.09288890907897993
         ],
         "y": [
          -0.8951936385889463
         ]
        },
        {
         "hoverinfo": "text",
         "marker": {
          "color": "green",
          "size": 0.5
         },
         "mode": "markers",
         "text": "Informatica appears with Oracle BI 136 times",
         "type": "scatter",
         "uid": "98feb347-8913-4994-bfc4-d66ccf85a8f8",
         "x": [
          -0.8128359404469979
         ],
         "y": [
          -0.386390649366214
         ]
        },
        {
         "hoverinfo": "text",
         "marker": {
          "color": "blue",
          "size": 0.5
         },
         "mode": "markers",
         "text": "Oracle BI appears with Informatica 136 times",
         "type": "scatter",
         "uid": "167c39ee-350d-4fab-847b-f4b1cd5a0df2",
         "x": [
          0.0970013543641066
         ],
         "y": [
          -0.8947573622225911
         ]
        },
        {
         "hoverinfo": "text",
         "marker": {
          "color": "green",
          "size": 0.5
         },
         "mode": "markers",
         "text": "Informatica appears with Python 31 times",
         "type": "scatter",
         "uid": "e5ffe286-c477-4f75-9a5d-642aebb785f7",
         "x": [
          -0.8482322201445557
         ],
         "y": [
          -0.3008356706054622
         ]
        },
        {
         "hoverinfo": "text",
         "marker": {
          "color": "blue",
          "size": 0.5
         },
         "mode": "markers",
         "text": "Python appears with Informatica 31 times",
         "type": "scatter",
         "uid": "9e8ba626-25e7-4322-8d4e-abd8bd34cd12",
         "x": [
          0.5717692662449463
         ],
         "y": [
          -0.6950394997248112
         ]
        },
        {
         "hoverinfo": "text",
         "marker": {
          "color": "green",
          "size": 0.5
         },
         "mode": "markers",
         "text": "Informatica appears with VBA 6 times",
         "type": "scatter",
         "uid": "1f75218e-01e8-4bd8-bff3-8bc5ae068547",
         "x": [
          -0.8548653466525209
         ],
         "y": [
          -0.2814342535880546
         ]
        },
        {
         "hoverinfo": "text",
         "marker": {
          "color": "blue",
          "size": 0.5
         },
         "mode": "markers",
         "text": "VBA appears with Informatica 6 times",
         "type": "scatter",
         "uid": "5e20e11a-d9b8-4feb-a08f-6c4dc3eb3d07",
         "x": [
          0.811709912082611
         ],
         "y": [
          -0.38875058665787243
         ]
        },
        {
         "hoverinfo": "text",
         "marker": {
          "color": "green",
          "size": 0.5
         },
         "mode": "markers",
         "text": "Informatica appears with Linux 12 times",
         "type": "scatter",
         "uid": "5d95b615-ec1c-4b55-b297-eb6c510d5892",
         "x": [
          -0.8538620239322807
         ],
         "y": [
          -0.28446378343520184
         ]
        },
        {
         "hoverinfo": "text",
         "marker": {
          "color": "blue",
          "size": 0.5
         },
         "mode": "markers",
         "text": "Linux appears with Informatica 12 times",
         "type": "scatter",
         "uid": "062d6a57-7ae1-4d05-b36b-cd687ee6fc26",
         "x": [
          0.8678581496729167
         ],
         "y": [
          -0.23837414299017673
         ]
        },
        {
         "hoverinfo": "text",
         "marker": {
          "color": "green",
          "size": 0.5
         },
         "mode": "markers",
         "text": "Informatica appears with AWS 21 times",
         "type": "scatter",
         "uid": "571879c5-8536-4711-a9d3-084197c2302a",
         "x": [
          -0.8496099737330765
         ],
         "y": [
          -0.2969223678561134
         ]
        },
        {
         "hoverinfo": "text",
         "marker": {
          "color": "blue",
          "size": 0.5
         },
         "mode": "markers",
         "text": "AWS appears with Informatica 21 times",
         "type": "scatter",
         "uid": "e60cbc9c-f176-4e93-8a45-83da07e4129b",
         "x": [
          0.8954409190816184
         ],
         "y": [
          -0.09047408708722321
         ]
        },
        {
         "hoverinfo": "text",
         "marker": {
          "color": "green",
          "size": 0.5
         },
         "mode": "markers",
         "text": "Qlik appears with Tableau 358 times",
         "type": "scatter",
         "uid": "0834ffdd-9ea8-4e66-9a22-5597d6e01670",
         "x": [
          -0.700551345234431
         ],
         "y": [
          -0.5650024891009147
         ]
        },
        {
         "hoverinfo": "text",
         "marker": {
          "color": "blue",
          "size": 0.5
         },
         "mode": "markers",
         "text": "Tableau appears with Qlik 358 times",
         "type": "scatter",
         "uid": "c9769684-175d-4774-b6e4-49ee8140f084",
         "x": [
          -0.32202715958646194
         ],
         "y": [
          -0.8404156760131711
         ]
        },
        {
         "hoverinfo": "text",
         "marker": {
          "color": "green",
          "size": 0.5
         },
         "mode": "markers",
         "text": "Qlik appears with Microstrategy 41 times",
         "type": "scatter",
         "uid": "d88f5e91-eb91-46c2-867c-b666270a32f2",
         "x": [
          -0.780812012207045
         ],
         "y": [
          -0.44758530091278187
         ]
        },
        {
         "hoverinfo": "text",
         "marker": {
          "color": "blue",
          "size": 0.5
         },
         "mode": "markers",
         "text": "Microstrategy appears with Qlik 41 times",
         "type": "scatter",
         "uid": "d359b75f-3316-4c59-8af4-ea312ccb6b21",
         "x": [
          -0.07234369838185356
         ],
         "y": [
          -0.8970877266490918
         ]
        },
        {
         "hoverinfo": "text",
         "marker": {
          "color": "green",
          "size": 0.5
         },
         "mode": "markers",
         "text": "Qlik appears with Oracle BI 379 times",
         "type": "scatter",
         "uid": "f80ecaf9-0477-4438-b61a-ba355a8f7e00",
         "x": [
          -0.6567886189095865
         ],
         "y": [
          -0.6153281320326887
         ]
        },
        {
         "hoverinfo": "text",
         "marker": {
          "color": "blue",
          "size": 0.5
         },
         "mode": "markers",
         "text": "Oracle BI appears with Qlik 379 times",
         "type": "scatter",
         "uid": "ddde4ed8-f9f8-4690-abc0-5df3c39b49ef",
         "x": [
          0.32551402246091765
         ],
         "y": [
          -0.8390712849223916
         ]
        },
        {
         "hoverinfo": "text",
         "marker": {
          "color": "green",
          "size": 0.5
         },
         "mode": "markers",
         "text": "Qlik appears with Python 54 times",
         "type": "scatter",
         "uid": "7a9baa65-a79e-4506-97ca-717e40f259a0",
         "x": [
          -0.7765001848530595
         ],
         "y": [
          -0.4550246838613974
         ]
        },
        {
         "hoverinfo": "text",
         "marker": {
          "color": "blue",
          "size": 0.5
         },
         "mode": "markers",
         "text": "Python appears with Qlik 54 times",
         "type": "scatter",
         "uid": "783e0e7a-eefc-4061-b1d3-a5ad6ccaee33",
         "x": [
          0.5829912550015285
         ],
         "y": [
          -0.6856538460416763
         ]
        },
        {
         "hoverinfo": "text",
         "marker": {
          "color": "green",
          "size": 0.5
         },
         "mode": "markers",
         "text": "Qlik appears with VBA 31 times",
         "type": "scatter",
         "uid": "33684d49-79e0-43da-9b8c-f3d00641aa4b",
         "x": [
          -0.7869484416116739
         ],
         "y": [
          -0.4367060226799695
         ]
        },
        {
         "hoverinfo": "text",
         "marker": {
          "color": "blue",
          "size": 0.5
         },
         "mode": "markers",
         "text": "VBA appears with Qlik 31 times",
         "type": "scatter",
         "uid": "6bbb5f61-fcbe-426d-bda9-64f755d3afed",
         "x": [
          0.8173338682649519
         ],
         "y": [
          -0.37678289211036403
         ]
        },
        {
         "hoverinfo": "text",
         "marker": {
          "color": "green",
          "size": 0.5
         },
         "mode": "markers",
         "text": "Qlik appears with Linux 2 times",
         "type": "scatter",
         "uid": "be644668-bc08-4acc-b9bd-2f23696b3ffd",
         "x": [
          -0.795191297980986
         ],
         "y": [
          -0.42151014177041446
         ]
        },
        {
         "hoverinfo": "text",
         "marker": {
          "color": "blue",
          "size": 0.5
         },
         "mode": "markers",
         "text": "Linux appears with Qlik 2 times",
         "type": "scatter",
         "uid": "979ef738-6a64-4f86-b955-8ae9ecf1eb1c",
         "x": [
          0.8661205286099667
         ],
         "y": [
          -0.2446124075356601
         ]
        },
        {
         "hoverinfo": "text",
         "marker": {
          "color": "green",
          "size": 0.5
         },
         "mode": "markers",
         "text": "Qlik appears with AWS 3 times",
         "type": "scatter",
         "uid": "eb3b70d9-ef0d-47d6-8c0a-a4e266a79644",
         "x": [
          -0.794979243099042
         ],
         "y": [
          -0.42190994660196657
         ]
        },
        {
         "hoverinfo": "text",
         "marker": {
          "color": "blue",
          "size": 0.5
         },
         "mode": "markers",
         "text": "AWS appears with Qlik 3 times",
         "type": "scatter",
         "uid": "a9e0feef-3811-4ff0-b1b7-3d40426cbce1",
         "x": [
          0.8944916504444346
         ],
         "y": [
          -0.0994217646453298
         ]
        },
        {
         "hoverinfo": "text",
         "marker": {
          "color": "green",
          "size": 0.5
         },
         "mode": "markers",
         "text": "Tableau appears with Microstrategy 59 times",
         "type": "scatter",
         "uid": "65256769-91b0-4395-8441-34ce9d1872ee",
         "x": [
          -0.505181923819805
         ],
         "y": [
          -0.7448430867274803
         ]
        },
        {
         "hoverinfo": "text",
         "marker": {
          "color": "blue",
          "size": 0.5
         },
         "mode": "markers",
         "text": "Microstrategy appears with Tableau 59 times",
         "type": "scatter",
         "uid": "f7358d4b-1c6a-4820-8d4b-57e128ccdb83",
         "x": [
          -0.0606397748544104
         ],
         "y": [
          -0.8979547971393697
         ]
        },
        {
         "hoverinfo": "text",
         "marker": {
          "color": "green",
          "size": 0.5
         },
         "mode": "markers",
         "text": "Tableau appears with Oracle BI 454 times",
         "type": "scatter",
         "uid": "fa5b3d02-9522-4382-9616-9e0653d2929f",
         "x": [
          -0.2511281598345782
         ],
         "y": [
          -0.8642538095594943
         ]
        },
        {
         "hoverinfo": "text",
         "marker": {
          "color": "blue",
          "size": 0.5
         },
         "mode": "markers",
         "text": "Oracle BI appears with Tableau 454 times",
         "type": "scatter",
         "uid": "97fad25a-2b87-4359-ba13-78b56a963fdd",
         "x": [
          0.3966996519907512
         ],
         "y": [
          -0.8078548050921136
         ]
        },
        {
         "hoverinfo": "text",
         "marker": {
          "color": "green",
          "size": 0.5
         },
         "mode": "markers",
         "text": "Tableau appears with Python 152 times",
         "type": "scatter",
         "uid": "ac4e9eed-90a7-42f9-ad25-508e40378c7e",
         "x": [
          -0.42876251054899367
         ],
         "y": [
          -0.7913044354404467
         ]
        },
        {
         "hoverinfo": "text",
         "marker": {
          "color": "blue",
          "size": 0.5
         },
         "mode": "markers",
         "text": "Python appears with Tableau 152 times",
         "type": "scatter",
         "uid": "4ad57cf8-defb-4e28-b6d7-43a48f4d0800",
         "x": [
          0.676894927547104
         ],
         "y": [
          -0.5931384805094009
         ]
        },
        {
         "hoverinfo": "text",
         "marker": {
          "color": "green",
          "size": 0.5
         },
         "mode": "markers",
         "text": "Tableau appears with VBA 81 times",
         "type": "scatter",
         "uid": "72567ac4-86d8-4491-830d-aaf2a97e0e21",
         "x": [
          -0.4830030553924903
         ],
         "y": [
          -0.7594129630718185
         ]
        },
        {
         "hoverinfo": "text",
         "marker": {
          "color": "blue",
          "size": 0.5
         },
         "mode": "markers",
         "text": "VBA appears with Tableau 81 times",
         "type": "scatter",
         "uid": "7b508f40-13ef-4b79-b6d9-3d33376000e3",
         "x": [
          0.8304803640406538
         ],
         "y": [
          -0.34684631314589903
         ]
        },
        {
         "hoverinfo": "text",
         "marker": {
          "color": "green",
          "size": 0.5
         },
         "mode": "markers",
         "text": "Tableau appears with Linux 25 times",
         "type": "scatter",
         "uid": "c78f3950-c3d9-43de-8b12-1029406bf942",
         "x": [
          -0.5484954670556579
         ],
         "y": [
          -0.7135493834482627
         ]
        },
        {
         "hoverinfo": "text",
         "marker": {
          "color": "blue",
          "size": 0.5
         },
         "mode": "markers",
         "text": "Linux appears with Tableau 25 times",
         "type": "scatter",
         "uid": "c464c5c2-9861-4858-bd74-aa8f66bd4f61",
         "x": [
          0.8695304684490203
         ],
         "y": [
          -0.2321998372928527
         ]
        },
        {
         "hoverinfo": "text",
         "marker": {
          "color": "green",
          "size": 0.5
         },
         "mode": "markers",
         "text": "Tableau appears with AWS 33 times",
         "type": "scatter",
         "uid": "bf00ca31-ac96-4f7b-8ea4-979eec04ad0c",
         "x": [
          -0.5404248452564038
         ],
         "y": [
          -0.7196811701229873
         ]
        },
        {
         "hoverinfo": "text",
         "marker": {
          "color": "blue",
          "size": 0.5
         },
         "mode": "markers",
         "text": "AWS appears with Tableau 33 times",
         "type": "scatter",
         "uid": "3a116cdd-6b73-409c-8d19-995e9e49523c",
         "x": [
          0.8965877853571478
         ],
         "y": [
          -0.07829650789380829
         ]
        },
        {
         "hoverinfo": "text",
         "marker": {
          "color": "green",
          "size": 0.5
         },
         "mode": "markers",
         "text": "Microstrategy appears with Oracle BI 67 times",
         "type": "scatter",
         "uid": "1569bcda-426b-4a04-9202-3e7803a9bb01",
         "x": [
          -0.05270533043310429
         ],
         "y": [
          -0.8984554235708845
         ]
        },
        {
         "hoverinfo": "text",
         "marker": {
          "color": "blue",
          "size": 0.5
         },
         "mode": "markers",
         "text": "Oracle BI appears with Microstrategy 67 times",
         "type": "scatter",
         "uid": "e0504440-a1f0-40cc-a482-af5431213e59",
         "x": [
          0.029885317328368927
         ],
         "y": [
          -0.8995036785962482
         ]
        },
        {
         "hoverinfo": "text",
         "marker": {
          "color": "green",
          "size": 0.5
         },
         "mode": "markers",
         "text": "Microstrategy appears with Python 20 times",
         "type": "scatter",
         "uid": "6b1a3dc7-3d08-4773-a108-9c8ff0612c80",
         "x": [
          -0.0905036930159101
         ],
         "y": [
          -0.895437927245927
         ]
        },
        {
         "hoverinfo": "text",
         "marker": {
          "color": "blue",
          "size": 0.5
         },
         "mode": "markers",
         "text": "Python appears with Microstrategy 20 times",
         "type": "scatter",
         "uid": "03a3f77d-2faf-4428-be48-80dc4bfa830f",
         "x": [
          0.5639442020169348
         ],
         "y": [
          -0.7014035479034039
         ]
        },
        {
         "hoverinfo": "text",
         "marker": {
          "color": "green",
          "size": 0.5
         },
         "mode": "markers",
         "text": "Microstrategy appears with VBA 7 times",
         "type": "scatter",
         "uid": "934f7bea-18af-4a80-a13c-1a670b789861",
         "x": [
          -0.0978455182588766
         ],
         "y": [
          -0.8946654428090156
         ]
        },
        {
         "hoverinfo": "text",
         "marker": {
          "color": "blue",
          "size": 0.5
         },
         "mode": "markers",
         "text": "VBA appears with Microstrategy 7 times",
         "type": "scatter",
         "uid": "cc290ac4-4d3b-45af-b989-bb1764f92aa7",
         "x": [
          0.8121593866405746
         ],
         "y": [
          -0.38781068924361234
         ]
        },
        {
         "hoverinfo": "text",
         "marker": {
          "color": "green",
          "size": 0.5
         },
         "mode": "markers",
         "text": "Microstrategy appears with Linux 10 times",
         "type": "scatter",
         "uid": "7244f0d2-024d-4148-a8ea-95a41f02b35c",
         "x": [
          -0.09677915440381529
         ],
         "y": [
          -0.8947814231827137
         ]
        },
        {
         "hoverinfo": "text",
         "marker": {
          "color": "blue",
          "size": 0.5
         },
         "mode": "markers",
         "text": "Linux appears with Microstrategy 10 times",
         "type": "scatter",
         "uid": "bee89c38-5456-4dd0-b7b9-658821e6bace",
         "x": [
          0.867396365176225
         ],
         "y": [
          -0.24004904848608097
         ]
        },
        {
         "hoverinfo": "text",
         "marker": {
          "color": "green",
          "size": 0.5
         },
         "mode": "markers",
         "text": "Microstrategy appears with AWS 2 times",
         "type": "scatter",
         "uid": "7ebd4cbc-a6e3-4fbc-89de-2a0fc4ebbb3e",
         "x": [
          -0.09966428794247544
         ],
         "y": [
          -0.894464660961471
         ]
        },
        {
         "hoverinfo": "text",
         "marker": {
          "color": "blue",
          "size": 0.5
         },
         "mode": "markers",
         "text": "AWS appears with Microstrategy 2 times",
         "type": "scatter",
         "uid": "d9165830-996b-4488-84db-ee1ddd618024",
         "x": [
          0.8943902373530506
         ],
         "y": [
          -0.10032997222940915
         ]
        },
        {
         "hoverinfo": "text",
         "marker": {
          "color": "green",
          "size": 0.5
         },
         "mode": "markers",
         "text": "Oracle BI appears with Python 172 times",
         "type": "scatter",
         "uid": "40a48fcc-4123-4567-bcd6-126e7eeed172",
         "x": [
          0.1537441691454825
         ],
         "y": [
          -0.8867709571550961
         ]
        },
        {
         "hoverinfo": "text",
         "marker": {
          "color": "blue",
          "size": 0.5
         },
         "mode": "markers",
         "text": "Python appears with Oracle BI 172 times",
         "type": "scatter",
         "uid": "908776c6-c73e-47e9-9d2a-4765753e3468",
         "x": [
          0.6959322992455937
         ],
         "y": [
          -0.5706822538565057
         ]
        },
        {
         "hoverinfo": "text",
         "marker": {
          "color": "green",
          "size": 0.5
         },
         "mode": "markers",
         "text": "Oracle BI appears with VBA 88 times",
         "type": "scatter",
         "uid": "eb955aa3-9640-420d-8c26-5ff70e0b475a",
         "x": [
          0.058877987551792854
         ],
         "y": [
          -0.8980720364101373
         ]
        },
        {
         "hoverinfo": "text",
         "marker": {
          "color": "blue",
          "size": 0.5
         },
         "mode": "markers",
         "text": "VBA appears with Oracle BI 88 times",
         "type": "scatter",
         "uid": "a651a3f9-d02c-4c65-b3f4-90cf0c7527b3",
         "x": [
          0.835605761078393
         ],
         "y": [
          -0.3343097546476913
         ]
        },
        {
         "hoverinfo": "text",
         "marker": {
          "color": "green",
          "size": 0.5
         },
         "mode": "markers",
         "text": "Oracle BI appears with Linux 6 times",
         "type": "scatter",
         "uid": "bc2c5088-4425-4646-b97b-59886982ddd7",
         "x": [
          -0.019672038551521692
         ],
         "y": [
          -0.8997849803698812
         ]
        },
        {
         "hoverinfo": "text",
         "marker": {
          "color": "blue",
          "size": 0.5
         },
         "mode": "markers",
         "text": "Linux appears with Oracle BI 6 times",
         "type": "scatter",
         "uid": "f7b45ad3-3016-4b19-9181-e36e47e78656",
         "x": [
          0.8666337461417484
         ],
         "y": [
          -0.24278787047198166
         ]
        },
        {
         "hoverinfo": "text",
         "marker": {
          "color": "green",
          "size": 0.5
         },
         "mode": "markers",
         "text": "Oracle BI appears with AWS 47 times",
         "type": "scatter",
         "uid": "31069473-bc5b-433e-8395-a429175ef072",
         "x": [
          0.0009548996958357928
         ],
         "y": [
          -0.8999994934257302
         ]
        },
        {
         "hoverinfo": "text",
         "marker": {
          "color": "blue",
          "size": 0.5
         },
         "mode": "markers",
         "text": "AWS appears with Oracle BI 47 times",
         "type": "scatter",
         "uid": "e5cb4cca-9987-45e5-bfc6-bcb200e4fadf",
         "x": [
          0.8970595193567764
         ],
         "y": [
          -0.07269263189202363
         ]
        },
        {
         "hoverinfo": "text",
         "marker": {
          "color": "green",
          "size": 0.5
         },
         "mode": "markers",
         "text": "Python appears with VBA 69 times",
         "type": "scatter",
         "uid": "9bd20298-c50b-406e-a932-5cded9836b8b",
         "x": [
          0.6075892735348254
         ],
         "y": [
          -0.6639542715318753
         ]
        },
        {
         "hoverinfo": "text",
         "marker": {
          "color": "blue",
          "size": 0.5
         },
         "mode": "markers",
         "text": "VBA appears with Python 69 times",
         "type": "scatter",
         "uid": "c738381c-f67e-4fdc-868b-c929e882bbb8",
         "x": [
          0.8257736125043625
         ],
         "y": [
          -0.3579077267837268
         ]
        },
        {
         "hoverinfo": "text",
         "marker": {
          "color": "green",
          "size": 0.5
         },
         "mode": "markers",
         "text": "Python appears with Linux 118 times",
         "type": "scatter",
         "uid": "2f79d3d9-87c6-49af-b73f-be660fa2cd30",
         "x": [
          0.6453428854332324
         ],
         "y": [
          -0.6273217358108277
         ]
        },
        {
         "hoverinfo": "text",
         "marker": {
          "color": "blue",
          "size": 0.5
         },
         "mode": "markers",
         "text": "Linux appears with Python 118 times",
         "type": "scatter",
         "uid": "f66d8255-e5dc-4557-80ad-03f006baa0d3",
         "x": [
          0.8893990293061228
         ],
         "y": [
          -0.13772932392677503
         ]
        },
        {
         "hoverinfo": "text",
         "marker": {
          "color": "green",
          "size": 0.5
         },
         "mode": "markers",
         "text": "Python appears with AWS 109 times",
         "type": "scatter",
         "uid": "cff912c4-02f6-4cbc-be54-f539d362b44b",
         "x": [
          0.6307971615193939
         ],
         "y": [
          -0.6419462134938376
         ]
        },
        {
         "hoverinfo": "text",
         "marker": {
          "color": "blue",
          "size": 0.5
         },
         "mode": "markers",
         "text": "AWS appears with Python 109 times",
         "type": "scatter",
         "uid": "1aeebee1-1393-49a6-8e03-264b35bcac8e",
         "x": [
          0.899282627791923
         ],
         "y": [
          -0.035927083817832495
         ]
        },
        {
         "hoverinfo": "text",
         "marker": {
          "color": "green",
          "size": 0.5
         },
         "mode": "markers",
         "text": "VBA appears with Linux 4 times",
         "type": "scatter",
         "uid": "ea129d97-b7e6-4f2d-9041-67f632977505",
         "x": [
          0.810668512727489
         ],
         "y": [
          -0.39091759038472684
         ]
        },
        {
         "hoverinfo": "text",
         "marker": {
          "color": "blue",
          "size": 0.5
         },
         "mode": "markers",
         "text": "Linux appears with VBA 4 times",
         "type": "scatter",
         "uid": "5f2df082-42a7-4950-95fa-140e48be90ce",
         "x": [
          0.8662491931965574
         ],
         "y": [
          -0.24415637465835993
         ]
        },
        {
         "hoverinfo": "text",
         "marker": {
          "color": "green",
          "size": 0.5
         },
         "mode": "markers",
         "text": "VBA appears with AWS 5 times",
         "type": "scatter",
         "uid": "95c991e6-118a-4d25-a6e8-5885765ed7a8",
         "x": [
          0.8109815403177607
         ],
         "y": [
          -0.39026778148321745
         ]
        },
        {
         "hoverinfo": "text",
         "marker": {
          "color": "blue",
          "size": 0.5
         },
         "mode": "markers",
         "text": "AWS appears with VBA 5 times",
         "type": "scatter",
         "uid": "e648b70c-50f3-46e5-98f4-1eb1c65a3c8d",
         "x": [
          0.894553600116733
         ],
         "y": [
          -0.09886281666123055
         ]
        },
        {
         "hoverinfo": "text",
         "marker": {
          "color": "green",
          "size": 0.5
         },
         "mode": "markers",
         "text": "Linux appears with AWS 29 times",
         "type": "scatter",
         "uid": "4a376b7b-8665-4a6b-abcc-fed8db9db9a7",
         "x": [
          0.8706209494252505
         ],
         "y": [
          -0.22807709753913366
         ]
        },
        {
         "hoverinfo": "text",
         "marker": {
          "color": "blue",
          "size": 0.5
         },
         "mode": "markers",
         "text": "AWS appears with Linux 29 times",
         "type": "scatter",
         "uid": "f8bec9fa-7172-4b6c-8573-850ce8c89251",
         "x": [
          0.8957874227266391
         ],
         "y": [
          -0.08697639498602709
         ]
        }
       ],
       "layout": {
        "autosize": false,
        "font": {
         "color": "#655643",
         "family": "Fira Sans Condensed",
         "size": 12
        },
        "height": 525,
        "hidesources": true,
        "hoverdistance": 40,
        "hovermode": "closest",
        "margin": {
         "b": 10,
         "l": 280,
         "r": 280,
         "t": 80
        },
        "paper_bgcolor": "#fffaf0",
        "plot_bgcolor": "#fffaf0",
        "shapes": [
         {
          "fillcolor": "#f2e6ce",
          "layer": "below",
          "line": {
           "color": "rgb(175,175,175)",
           "width": 0.5
          },
          "path": "M 0.9726808849988599,0.23214628137843318 Q 0.183631983283019, 0.0792420009562166 0.836195660857835, 0.5484312324827321L 0.836195660857835, 0.5484312324827321 L 0.8498123075668281, 0.5270854218321189 L 0.862884176402373, 0.5054017195404052 M 0.862884176402373,0.5054017195404052 Q 0.1837722827994254, 0.07891608248442154 0.9606745745015371, 0.27767672193810283L 0.9606745745015371, 0.27767672193810283 L 0.966945752588731, 0.25498217888827585 L 0.9726808849988599, 0.23214628137843318 ",
          "type": "path"
         },
         {
          "fillcolor": "#f2e6ce",
          "layer": "below",
          "line": {
           "color": "rgb(175,175,175)",
           "width": 0.5
          },
          "path": "M 0.9978965145316596,0.06482704902712406 Q 0.14571232760411593, 0.13699604952038144 0.12617845799359206, 0.9920075588111007L 0.12617845799359206, 0.9920075588111007 L 0.14008810712841172, 0.9901390418729981 L 0.15397016315155274, 0.9880754975502045 M 0.15397016315155274,0.9880754975502045 Q 0.14580132477127766, 0.13690132831693202 0.9958037883771304, 0.09151401561375877L 0.9958037883771304, 0.09151401561375877 L 0.9969394530266366, 0.07817753512966905 L 0.9978965145316596, 0.06482704902712406 ",
          "type": "path"
         },
         {
          "fillcolor": "#f2e6ce",
          "layer": "below",
          "line": {
           "color": "rgb(175,175,175)",
           "width": 0.5
          },
          "path": "M 0.9958037883771304,0.09151401561375877 Q 0.09812846639643669, 0.1742722125947892 -0.4381149434263015, 0.8989189598326252L -0.4381149434263015, 0.8989189598326252 L -0.42570877863072215, 0.9048602299784971 L -0.4132220647892432, 0.9106302900581084 M -0.4132220647892432,0.9106302900581084 Q 0.09819305941681189, 0.1742358260587255 0.9929974954290869, 0.11813540566468904L 0.9929974954290869, 0.11813540566468904 L 0.9944897240391051, 0.10483410122963129 L 0.9958037883771304, 0.09151401561375877 ",
          "type": "path"
         },
         {
          "fillcolor": "#f2e6ce",
          "layer": "below",
          "line": {
           "color": "rgb(175,175,175)",
           "width": 0.5
          },
          "path": "M 1.0,0.0 Q 0.07425140453026695, 0.18570602824163426 -0.7243364462641326, 0.6894466713339381L -0.7243364462641326, 0.6894466713339381 L -0.7240242154393006, 0.6897745540809006 L -0.7237118361929914, 0.6901022954274016 M -0.7237118361929914,0.6901022954274016 Q 0.07424476844287893, 0.18570868143106098 0.9999995227393407, 0.0009769959523805351L 0.9999995227393407, 0.0009769959523805351 L 0.999999880684828, 0.0004884980344754946 L 1.0, 0.0 ",
          "type": "path"
         },
         {
          "fillcolor": "#f2e6ce",
          "layer": "below",
          "line": {
           "color": "rgb(175,175,175)",
           "width": 0.5
          },
          "path": "M 0.9992889849244496,0.03770311139233868 Q 0.04609407128186686, 0.19461586932380973 -0.876220300219763, 0.4819107650621517L -0.876220300219763, 0.4819107650621517 L -0.8737959247607863, 0.48629279438568945 L -0.8713496346945597, 0.49066262759421303 M -0.8713496346945597,0.49066262759421303 Q 0.04607998035990948, 0.19461920616945894 0.9988543158979013, 0.047854525513640764L 0.9988543158979013, 0.047854525513640764 L 0.9990845436986179, 0.04277937052510841 L 0.9992889849244496, 0.03770311139233868 ",
          "type": "path"
         },
         {
          "fillcolor": "#f2e6ce",
          "layer": "below",
          "line": {
           "color": "rgb(175,175,175)",
           "width": 0.5
          },
          "path": "M 0.9999828186640959,0.0058619430746117895 Q 0.028298257353053354, 0.1979879002130695 -0.9583017990339283, 0.2857580479502484L -0.9583017990339283, 0.2857580479502484 L -0.9580749330178905, 0.2865177528928437 L -0.9578474647369905, 0.2872772777247096 M -0.9578474647369905,0.2872772777247096 Q 0.02824245527406141, 0.19799586793691593 0.9999679091623496, 0.008011282386669845L 0.9999679091623496, 0.008011282386669845 L 0.9999759413847175, 0.006936616736435626 L 0.9999828186640959, 0.0058619430746117895 ",
          "type": "path"
         },
         {
          "fillcolor": "#f2e6ce",
          "layer": "below",
          "line": {
           "color": "rgb(175,175,175)",
           "width": 0.5
          },
          "path": "M 0.9999976900591142,0.0021493897821878716 Q 0.01959471501274601, 0.19903780330271248 -0.9803809510071958, 0.19711212774009174L -0.9803809510071958, 0.19711212774009174 L -0.9802357303542573, 0.19783304308647678 L -0.9800899795820186, 0.19855385144317494 M -0.9800899795820186,0.19855385144317494 Q 0.01956607326888641, 0.19904062092155103 0.9999923638385612, 0.003907974483892833L 0.9999923638385612, 0.003907974483892833 L 0.9999954135282045, 0.003028683303872197 L 0.9999976900591142, 0.0021493897821878716 ",
          "type": "path"
         },
         {
          "fillcolor": "#f2e6ce",
          "layer": "below",
          "line": {
           "color": "rgb(175,175,175)",
           "width": 0.5
          },
          "path": "M 0.9999289653588112,0.011919070284942337 Q 0.0047311575996603124, 0.1999440325385261 -0.9982461000520766, 0.05920070718175205L -0.9982461000520766, 0.05920070718175205 L -0.9980982035895374, 0.06164394529342184 L -0.9979443272353702, 0.064086814078595 M -0.9979443272353702,0.064086814078595 Q 0.0046931324470865544, 0.1999449286874616 0.9998521673689513, 0.01719428415522274L 0.9998521673689513, 0.01719428415522274 L 0.9998940452237064, 0.014556727866264505 L 0.9999289653588112, 0.011919070284942337 ",
          "type": "path"
         },
         {
          "fillcolor": "#f2e6ce",
          "layer": "below",
          "line": {
           "color": "rgb(175,175,175)",
           "width": 0.5
          },
          "path": "M 0.9997296726309602,0.023250412065016365 Q -0.01649346253729497, 0.19931875399352378 -0.9899533700230023, -0.14139421904767077L -0.9899533700230023, -0.14139421904767077 L -0.9903897350150614, -0.1383046375823907 L -0.990816457643932, -0.1352137095931115 M -0.990816457643932,-0.1352137095931115 Q -0.01653363302983619, 0.1993154258426445 0.9995531454572393, 0.029891627699726496L 0.9995531454572393, 0.029891627699726496 L 0.9996469242247233, 0.02657116647891363 L 0.9997296726309602, 0.023250412065016365 ",
          "type": "path"
         },
         {
          "fillcolor": "#f2e6ce",
          "layer": "below",
          "line": {
           "color": "rgb(175,175,175)",
           "width": 0.5
          },
          "path": "M 0.9999679091623496,0.008011282386669845 Q -0.03406923603926028, 0.19707685596157953 -0.9446236201719371, -0.328155780405075L -0.9446236201719371, -0.328155780405075 L -0.9452039463687071, -0.32648047379440975 L -0.9457813013823417, -0.324804140914989 M -0.9457813013823417,-0.324804140914989 Q -0.03410491027328797, 0.1970706855299666 0.9999289653588112, 0.011919070284942337L 0.9999289653588112, 0.011919070284942337 L 0.9999503462079712, 0.009965195359784386 L 0.9999679091623496, 0.008011282386669845 ",
          "type": "path"
         },
         {
          "fillcolor": "#f2e6ce",
          "layer": "below",
          "line": {
           "color": "rgb(175,175,175)",
           "width": 0.5
          },
          "path": "M 0.9878677507458632,0.1552974791692035 Q -0.07775686062532994, 0.18426576086102653 -0.8004834873634005, -0.599354808488702L -0.8004834873634005, -0.599354808488702 L -0.8123174146157343, -0.5832155844214121 L -0.8238259954314942, -0.5668427729549947 M -0.8238259954314942,-0.5668427729549947 Q -0.07765162907649448, 0.18431013130527177 0.9810838821122448, 0.19358309910621546L 0.9810838821122448, 0.19358309910621546 L 0.9846619116768672, 0.1744732635473333 L 0.9878677507458632, 0.1552974791692035 ",
          "type": "path"
         },
         {
          "fillcolor": "#f2e6ce",
          "layer": "below",
          "line": {
           "color": "rgb(175,175,175)",
           "width": 0.5
          },
          "path": "M 0.9810838821122448,0.19358309910621546 Q -0.12599462516584845, 0.15532338661424222 -0.39178614643929305, -0.9200563110257158L -0.39178614643929305, -0.9200563110257158 L -0.4107288451224588, -0.9117575422141411 L -0.4294958769690736, -0.9030688188984084 M -0.4294958769690736,-0.9030688188984084 Q -0.12584765698434272, 0.15544248850153944 0.9726808849988599, 0.23214628137843318L 0.9726808849988599, 0.23214628137843318 L 0.9770726539300532, 0.21290615055014867 L 0.9810838821122448, 0.19358309910621546 ",
          "type": "path"
         },
         {
          "fillcolor": "#f2e6ce",
          "layer": "below",
          "line": {
           "color": "rgb(175,175,175)",
           "width": 0.5
          },
          "path": "M 0.9998521673689513,0.01719428415522274 Q -0.13630878317000947, 0.146355442777887 -0.08813618241209623, -0.9961084345340229L -0.08813618241209623, -0.9961084345340229 L -0.09030086309541545, -0.9959145315358257 L -0.09246511724795063, -0.9957159243942635 M -0.09246511724795063,-0.9957159243942635 Q -0.1364339169082079, 0.1462387989457115 0.9997296726309602, 0.023250412065016365L 0.9997296726309602, 0.023250412065016365 L 0.9997955055338431, 0.02022244085977419 L 0.9998521673689513, 0.01719428415522274 ",
          "type": "path"
         },
         {
          "fillcolor": "#f2e6ce",
          "layer": "below",
          "line": {
           "color": "rgb(175,175,175)",
           "width": 0.5
          },
          "path": "M 0.9929974954290869,0.11813540566468904 Q -0.16598532954867684, 0.11157450593490054 0.265520842750727, -0.9641051198209372L 0.265520842750727, -0.9641051198209372 L 0.24627135544170659, -0.9692009180190166 L 0.22692421909701127, -0.9739124184377216 M 0.22692421909701127,-0.9739124184377216 Q -0.16585639941974423, 0.11176607164751867 0.9878677507458632, 0.1552974791692035L 0.9878677507458632, 0.1552974791692035 L 0.9906069027635155, 0.136740499477203 L 0.9929974954290869, 0.11813540566468904 ",
          "type": "path"
         },
         {
          "fillcolor": "#f2e6ce",
          "layer": "below",
          "line": {
           "color": "rgb(175,175,175)",
           "width": 0.5
          },
          "path": "M 0.9988543158979013,0.047854525513640764 Q -0.18583327306946568, 0.07393236517445796 0.6929938102434499, -0.7209435338251293L 0.6929938102434499, -0.7209435338251293 L 0.6866344756714919, -0.7270028176144404 L 0.6802221630913152, -0.7330060087334702 M 0.6802221630913152,-0.7330060087334702 Q -0.18581226773931536, 0.07398514146484406 0.9978965145316596, 0.06482704902712406L 0.9978965145316596, 0.06482704902712406 L 0.9984114814763947, 0.05634282257848624 L 0.9988543158979013, 0.047854525513640764 ",
          "type": "path"
         },
         {
          "fillcolor": "#f2e6ce",
          "layer": "below",
          "line": {
           "color": "rgb(175,175,175)",
           "width": 0.5
          },
          "path": "M 0.9995531454572393,0.029891627699726496 Q -0.19630140523236508, 0.03828522304752573 0.9150655379720647, -0.4033051713230267L 0.9150655379720647, -0.4033051713230267 L 0.9136232227289593, -0.4065619348762871 L 0.9121693165471036, -0.4098135404668687 M 0.9121693165471036,-0.4098135404668687 Q -0.19631464519886924, 0.03821727463388898 0.9992889849244496, 0.03770311139233868L 0.9992889849244496, 0.03770311139233868 L 0.9994286969897213, 0.033797627630173424 L 0.9995531454572393, 0.029891627699726496 ",
          "type": "path"
         },
         {
          "fillcolor": "#f2e6ce",
          "layer": "below",
          "line": {
           "color": "rgb(175,175,175)",
           "width": 0.5
          },
          "path": "M 0.9999923638385612,0.003907974483892833 Q -0.1982209682880357, 0.026616681441410935 0.9635393271675813, -0.2675667486842203L 0.9635393271675813, -0.2675667486842203 L 0.9633041733630147, -0.2684121263680143 L 0.9630682778520538, -0.2692572973850089 M 0.9630682778520538,-0.2692572973850089 Q -0.19822361625205853, 0.026596953960117936 0.9999828186640959, 0.0058619430746117895L 0.9999828186640959, 0.0058619430746117895 L 0.9999880685062934, 0.004884961110652072 L 0.9999923638385612, 0.003907974483892833 ",
          "type": "path"
         },
         {
          "fillcolor": "#f2e6ce",
          "layer": "below",
          "line": {
           "color": "rgb(175,175,175)",
           "width": 0.5
          },
          "path": "M 0.9999995227393407,0.0009769959523805351 Q -0.19970973850673318, 0.010771274092337538 0.9940934260456363, -0.1085276936677869L 0.9940934260456363, -0.1085276936677869 L 0.9940424562355765, -0.1089935557780452 L 0.9939912681085177, -0.10945939395054635 M 0.9939912681085177,-0.10945939395054635 Q -0.199711003349859, 0.010747797029746025 0.9999976900591142, 0.0021493897821878716L 0.9999976900591142, 0.0021493897821878716 L 0.9999987782128636, 0.0015631931358624283 L 0.9999995227393407, 0.0009769959523805351 ",
          "type": "path"
         },
         {
          "fillcolor": "#ecd5bb",
          "layer": "below",
          "line": {
           "color": "rgb(175,175,175)",
           "width": 0.5
          },
          "path": "M 0.5671598859463715,0.8236077123080496 Q 0.03747319771175239, 0.19645803484015592 -0.2241721156761293, 0.9745495690591054L -0.2241721156761293, 0.9745495690591054 L -0.159942407368507, 0.9871263477008232 L -0.09502756484000888, 0.9954746415256281 M -0.09502756484000888,0.9954746415256281 Q 0.037144464706207206, 0.19652045374894017 0.45180271171952935, 0.8921178788046341L 0.45180271171952935, 0.8921178788046341 L 0.5106315742184941, 0.8597996251517807 L 0.5671598859463715, 0.8236077123080496 ",
          "type": "path"
         },
         {
          "fillcolor": "#ecd5bb",
          "layer": "below",
          "line": {
           "color": "rgb(175,175,175)",
           "width": 0.5
          },
          "path": "M 0.8031272759939538,0.5958075012573537 Q 0.0346143899768288, 0.19698183674271091 -0.5518908125238144, 0.8339163813307686L -0.5518908125238144, 0.8339163813307686 L -0.5284020131536716, 0.8489942947365118 L -0.5045015531233004, 0.8634107845609631 M -0.5045015531233004,0.8634107845609631 Q 0.034359395404452896, 0.1970264752449286 0.7669736879611938, 0.6416785503468269L 0.7669736879611938, 0.6416785503468269 L 0.7853854452046862, 0.6190070294113281 L 0.8031272759939538, 0.5958075012573537 ",
          "type": "path"
         },
         {
          "fillcolor": "#ecd5bb",
          "layer": "below",
          "line": {
           "color": "rgb(175,175,175)",
           "width": 0.5
          },
          "path": "M 0.9350558532096692,0.3545004250749744 Q 0.046265996764757046, 0.1945750691721925 -0.6754151604662932, 0.7374376997498103L -0.6754151604662932, 0.7374376997498103 L -0.6706158454311282, 0.7418048178980056 L -0.6657882940180645, 0.7461407022462421 M -0.6657882940180645,0.7461407022462421 Q 0.04593399963482063, 0.19465371221106548 0.9291204227085906, 0.36977728446432445L 0.9291204227085906, 0.36977728446432445 L 0.9321194357657813, 0.36215101472684225 L 0.9350558532096692, 0.3545004250749744 ",
          "type": "path"
         },
         {
          "fillcolor": "#ecd5bb",
          "layer": "below",
          "line": {
           "color": "rgb(175,175,175)",
           "width": 0.5
          },
          "path": "M 0.8950790049903891,0.4459075855212771 Q 0.014320675231496298, 0.1994866367978417 -0.8222077189985035, 0.56918754977536L -0.8222077189985035, 0.56918754977536 L -0.81529323417309, 0.5790483074075798 L -0.8082604954328229, 0.5888250771856509 M -0.8082604954328229,0.5888250771856509 Q 0.013935712939747408, 0.19951389902676195 0.8822696531281504, 0.4707443671135461L 0.8822696531281504, 0.4707443671135461 L 0.8887610925096288, 0.4583707238045327 L 0.8950790049903891, 0.4459075855212771 ",
          "type": "path"
         },
         {
          "fillcolor": "#ecd5bb",
          "layer": "below",
          "line": {
           "color": "rgb(175,175,175)",
           "width": 0.5
          },
          "path": "M 0.8822696531281504,0.4707443671135461 Q -0.016182442994136726, 0.19934424631461406 -0.946645759999225, 0.3222759765720829L -0.946645759999225, 0.3222759765720829 L -0.9406231796131791, 0.3394525504019568 L -0.9342889649706297, 0.35651666150982264 M -0.9342889649706297,0.35651666150982264 Q -0.016512239198620927, 0.19931719934979905 0.862884176402373, 0.5054017195404052L 0.862884176402373, 0.5054017195404052 L 0.872748964594386, 0.488169278836171 L 0.8822696531281504, 0.4707443671135461 ",
          "type": "path"
         },
         {
          "fillcolor": "#ecd5bb",
          "layer": "below",
          "line": {
           "color": "rgb(175,175,175)",
           "width": 0.5
          },
          "path": "M 0.9445964275208761,0.32823404624566016 Q -0.008627024283168295, 0.19981384950002246 -0.9693717970979674, 0.24559788067297578L -0.9693717970979674, 0.24559788067297578 L -0.9682105229819102, 0.2501367289845613 L -0.9670279969338185, 0.2546700868695944 M -0.9670279969338185,0.2546700868695944 Q -0.009055390936483085, 0.1997948945668719 0.94002545516799, 0.3411043002311952L 0.94002545516799, 0.3411043002311952 L 0.9423329141215671, 0.3346769770437689 L 0.9445964275208761, 0.32823404624566016 ",
          "type": "path"
         },
         {
          "fillcolor": "#ecd5bb",
          "layer": "below",
          "line": {
           "color": "rgb(175,175,175)",
           "width": 0.5
          },
          "path": "M 0.94002545516799,0.3411043002311952 Q -0.023963836538411054, 0.19855914619669457 -0.9941870354721427, 0.10766679385545194L -0.9941870354721427, 0.10766679385545194 L -0.9935734597910788, 0.11318913374871997 L -0.9929292098017332, 0.11870797918634556 M -0.9929292098017332,0.11870797918634556 Q -0.024279086255741614, 0.19852084517900448 0.9350558532096692, 0.3545004250749744L 0.9350558532096692, 0.3545004250749744 L 0.9375645803340835, 0.34781123860935537 L 0.94002545516799, 0.3411043002311952 ",
          "type": "path"
         },
         {
          "fillcolor": "#ecd5bb",
          "layer": "below",
          "line": {
           "color": "rgb(175,175,175)",
           "width": 0.5
          },
          "path": "M 0.9224493599212867,0.38611808864751257 Q -0.03945926220415857, 0.19606878034583544 -0.9999996966545127, -0.0007789036414128748L -0.9999996966545127, -0.0007789036414128748 L -0.9999707228209547, 0.0076520259368026994 L -0.999870669655424, 0.016082411598201656 M -0.999870669655424,0.016082411598201656 Q -0.03972189943012169, 0.19601574096399324 0.9147284306399196, 0.4040691749923888L 0.9147284306399196, 0.4040691749923888 L 0.9186327443043163, 0.3951124916930882 L 0.9224493599212867, 0.38611808864751257 ",
          "type": "path"
         },
         {
          "fillcolor": "#ecd5bb",
          "layer": "below",
          "line": {
           "color": "rgb(175,175,175)",
           "width": 0.5
          },
          "path": "M 0.9147284306399196,0.4040691749923888 Q -0.062517990399181, 0.1899776325688051 -0.9759245469471619, -0.21810841035131306L -0.9759245469471619, -0.21810841035131306 L -0.9778850458242573, -0.2091431020934955 L -0.9797631869215999, -0.20016017973920297 M -0.9797631869215999,-0.20016017973920297 Q -0.06277040318245858, 0.1898943824453783 0.9060367228714995, 0.42319907467795065L 0.9060367228714995, 0.42319907467795065 L 0.9104328225222662, 0.4136569540986102 L 0.9147284306399196, 0.4040691749923888 ",
          "type": "path"
         },
         {
          "fillcolor": "#ecd5bb",
          "layer": "below",
          "line": {
           "color": "rgb(175,175,175)",
           "width": 0.5
          },
          "path": "M 0.9060367228714995,0.42319907467795065 Q -0.08416054395917934, 0.18143043526513142 -0.9082612917315082, -0.41840342486912335L -0.9082612917315082, -0.41840342486912335 L -0.912660723888378, -0.4087179994464909 L -0.9169568771044462, -0.3989863224859489 M -0.9169568771044462,-0.3989863224859489 Q -0.084517711580234, 0.18126432751437993 0.8950790049903891, 0.4459075855212771L 0.8950790049903891, 0.4459075855212771 L 0.9006294384507124, 0.4345878675204296 L 0.9060367228714995, 0.42319907467795065 ",
          "type": "path"
         },
         {
          "fillcolor": "#ecd5bb",
          "layer": "below",
          "line": {
           "color": "rgb(175,175,175)",
           "width": 0.5
          },
          "path": "M 0.71216960122905,0.702007449451397 Q -0.1474817131486735, 0.13508939368704115 -0.6369669639370313, -0.7708910992175487L -0.6369669639370313, -0.7708910992175487 L -0.6707429546573452, -0.741689887201878 L -0.7031818002938438, -0.7110100953822729 M -0.7031818002938438,-0.7110100953822729 Q -0.14775086394695489, 0.1347949635666275 0.6436741159062714, 0.7652997011055733L 0.6436741159062714, 0.7652997011055733 L 0.6786600943061964, 0.734452501116515 L 0.71216960122905, 0.702007449451397 ",
          "type": "path"
         },
         {
          "fillcolor": "#ecd5bb",
          "layer": "below",
          "line": {
           "color": "rgb(175,175,175)",
           "width": 0.5
          },
          "path": "M 0.6436741159062714,0.7652997011055733 Q -0.1825438537964146, 0.08171744881696451 -0.14203982197958445, -0.9898609442603582L -0.14203982197958445, -0.9898609442603582 L -0.1882822183688987, -0.9821149659006762 L -0.23411070277274654, -0.9722099458693326 M -0.23411070277274654,-0.9722099458693326 Q -0.18264399305299686, 0.08149338501778434 0.5671598859463715, 0.8236077123080496L 0.5671598859463715, 0.8236077123080496 L 0.6061185536289238, 0.79537431373334 L 0.6436741159062714, 0.7652997011055733 ",
          "type": "path"
         },
         {
          "fillcolor": "#ecd5bb",
          "layer": "below",
          "line": {
           "color": "rgb(175,175,175)",
           "width": 0.5
          },
          "path": "M 0.951478502976442,0.30771522285013597 Q -0.1574098557731709, 0.1233780260235571 -0.07150391226747185, -0.9974403192825352L -0.07150391226747185, -0.9974403192825352 L -0.0745105106407744, -0.9972202283367757 L -0.07751643185705626, -0.9969910745799836 M -0.07751643185705626,-0.9969910745799836 Q -0.15759511405078835, 0.1231413010623122 0.9486594128145609, 0.316299412706272L 0.9486594128145609, 0.316299412706272 L 0.9500786529732765, 0.3120105016894213 L 0.951478502976442, 0.30771522285013597 ",
          "type": "path"
         },
         {
          "fillcolor": "#ecd5bb",
          "layer": "below",
          "line": {
           "color": "rgb(175,175,175)",
           "width": 0.5
          },
          "path": "M 0.45180271171952935,0.8921178788046341 Q -0.19924042130386188, -0.017414204508378373 0.5997173602744812, -0.8002119018018966L 0.5997173602744812, -0.8002119018018966 L 0.5424485793031422, -0.8400890064820529 L 0.4825381297575364, -0.8758749644384745 M 0.4825381297575364,-0.8758749644384745 Q -0.19922453687478917, -0.01759499664750674 0.32155619092598825, 0.9468904984617648L 0.32155619092598825, 0.9468904984617648 L 0.3876480466109638, 0.9218074592661442 L 0.45180271171952935, 0.8921178788046341 ",
          "type": "path"
         },
         {
          "fillcolor": "#ecd5bb",
          "layer": "below",
          "line": {
           "color": "rgb(175,175,175)",
           "width": 0.5
          },
          "path": "M 0.7669736879611938,0.6416785503468269 Q -0.1988410318191122, -0.021499861978878234 0.8864077825993536, -0.46290522026360537L 0.8864077825993536, -0.46290522026360537 L 0.8675984733702135, -0.4972654110288338 L 0.8474579099182318, -0.5308625913708953 M 0.8474579099182318,-0.5308625913708953 Q -0.19880660228183133, -0.021815932002867675 0.71216960122905, 0.702007449451397L 0.71216960122905, 0.702007449451397 L 0.74018653831715, 0.6724015827569669 L 0.7669736879611938, 0.6416785503468269 ",
          "type": "path"
         },
         {
          "fillcolor": "#ecd5bb",
          "layer": "below",
          "line": {
           "color": "rgb(175,175,175)",
           "width": 0.5
          },
          "path": "M 0.836195660857835,0.5484312324827321 Q -0.19813092812910274, -0.027278843793319546 0.9532911048304472, -0.3020530904512406L 0.9532911048304472, -0.3020530904512406 L 0.9456094411532776, -0.32530414199912366 L 0.9373607717529869, -0.3483601348872238 M 0.9373607717529869,-0.3483601348872238 Q -0.19800886771790793, -0.02815116880472352 0.8031272759939538, 0.5958075012573537L 0.8031272759939538, 0.5958075012573537 L 0.8200036893409962, 0.5723582352575658 L 0.836195660857835, 0.5484312324827321 ",
          "type": "path"
         },
         {
          "fillcolor": "#ecd5bb",
          "layer": "below",
          "line": {
           "color": "rgb(175,175,175)",
           "width": 0.5
          },
          "path": "M 0.9291204227085906,0.36977728446432445 Q -0.19919970717544722, -0.017873910070717126 0.9801079960635735, -0.19846489879131313L 0.9801079960635735, -0.19846489879131313 L 0.9786185439791792, -0.20568360503470204 L 0.9770759253231931, -0.21289113686066385 M 0.9770759253231931,-0.21289113686066385 Q -0.19917350128787284, -0.01816360054421255 0.9224493599212867, 0.38611808864751257L 0.9224493599212867, 0.38611808864751257 L 0.9258209440584886, 0.37796240493288336 L 0.9291204227085906, 0.36977728446432445 ",
          "type": "path"
         },
         {
          "fillcolor": "#ecd5bb",
          "layer": "below",
          "line": {
           "color": "rgb(175,175,175)",
           "width": 0.5
          },
          "path": "M 0.9486594128145609,0.316299412706272 Q -0.19838911116379063, -0.025332993736254885 0.9977015254776016, -0.06776183335526453L 0.9977015254776016, -0.06776183335526453 L 0.9973730101401143, -0.07243672165447307 L 0.9970225899949624, -0.07711001906196864 M 0.9970225899949624,-0.07711001906196864 Q -0.19834788177490792, -0.025653806645547728 0.9445964275208761, 0.32823404624566016L 0.9445964275208761, 0.32823404624566016 L 0.9466467282521449, 0.32227313243506617 L 0.9486594128145609, 0.316299412706272 ",
          "type": "path"
         },
         {
          "fillcolor": "#e6c4a9",
          "layer": "below",
          "line": {
           "color": "rgb(175,175,175)",
           "width": 0.5
          },
          "path": "M 0.024684747500489577,0.9996952851948623 Q -0.060761641674491884, 0.1905466423241844 -0.5988479132506912, 0.8008627702642274L -0.5988479132506912, 0.8008627702642274 L -0.5756066704359997, 0.8177267030919209 L -0.5518908125238144, 0.8339163813307686 M -0.5518908125238144,0.8339163813307686 Q -0.060872682411713036, 0.19051119792810797 -0.03390369837489218, 0.999425104365757L -0.03390369837489218, 0.999425104365757 L -0.004611454567299363, 0.9999893671868585 L 0.024684747500489577, 0.9996952851948623 ",
          "type": "path"
         },
         {
          "fillcolor": "#e6c4a9",
          "layer": "below",
          "line": {
           "color": "rgb(175,175,175)",
           "width": 0.5
          },
          "path": "M 0.23732657880833968,0.9714299228411326 Q -0.04840812682977031, 0.19405322274271272 -0.6657882940180645, 0.7461407022462421L -0.6657882940180645, 0.7461407022462421 L -0.6618686433237947, 0.7496198363068572 L -0.6579308123982155, 0.7530783797832893 M -0.6579308123982155,0.7530783797832893 Q -0.04864346094133595, 0.19399436514406476 0.22476810391347363, 0.974412284129845L 0.22476810391347363, 0.974412284129845 L 0.23105215335429669, 0.9729413663887164 L 0.23732657880833968, 0.9714299228411326 ",
          "type": "path"
         },
         {
          "fillcolor": "#e6c4a9",
          "layer": "below",
          "line": {
           "color": "rgb(175,175,175)",
           "width": 0.5
          },
          "path": "M 0.2099692079811209,0.9777079992000581 Q -0.0677062168169759, 0.18819104177492788 -0.7847261525259753, 0.6198426135252236L -0.7847261525259753, 0.6198426135252236 L -0.7797052880373542, 0.6261466791468167 L -0.7746337814379826, 0.6324100763389937 M -0.7746337814379826,0.6324100763389937 Q -0.06790532969403959, 0.18811928715350745 0.1921069088154535, 0.9813740039278456L 0.1921069088154535, 0.9813740039278456 L 0.20104641459677697, 0.9795817164370622 L 0.2099692079811209, 0.9777079992000581 ",
          "type": "path"
         },
         {
          "fillcolor": "#e6c4a9",
          "layer": "below",
          "line": {
           "color": "rgb(175,175,175)",
           "width": 0.5
          },
          "path": "M 0.12617845799359206,0.9920075588111007 Q -0.09716731162516164, 0.1748099355057908 -0.9091155168907906, 0.41654408764066087L -0.9091155168907906, 0.41654408764066087 L -0.9033754865271197, 0.42885047550619526 L -0.8974688781223833, 0.44107778543217385 M -0.8974688781223833,0.44107778543217385 Q -0.09731851303498401, 0.174725805251141 0.09747173487540864, 0.9952382935259163L 0.09747173487540864, 0.9952382935259163 L 0.11183676320550716, 0.9937265913699378 L 0.12617845799359206, 0.9920075588111007 ",
          "type": "path"
         },
         {
          "fillcolor": "#e6c4a9",
          "layer": "below",
          "line": {
           "color": "rgb(175,175,175)",
           "width": 0.5
          },
          "path": "M 0.24865499403516936,0.9685921194916722 Q -0.10127904225242566, 0.17246030152017996 -0.9670279969338185, 0.2546700868695944L -0.9670279969338185, 0.2546700868695944 L -0.9659735435665106, 0.25864089608868635 L -0.9649027853407315, 0.26260733965694527 M -0.9649027853407315,0.26260733965694527 Q -0.10157738876068681, 0.17228474712684316 0.23732657880833968, 0.9714299228411326L 0.23732657880833968, 0.9714299228411326 L 0.2429949290989943, 0.9700275585941746 L 0.24865499403516936, 0.9685921194916722 ",
          "type": "path"
         },
         {
          "fillcolor": "#e6c4a9",
          "layer": "below",
          "line": {
           "color": "rgb(175,175,175)",
           "width": 0.5
          },
          "path": "M 0.27436239686881686,0.9616263698466249 Q -0.1057342599453164, 0.16976532706597147 -0.9840576762865121, 0.17784962676820631L -0.9840576762865121, 0.17784962676820631 L -0.9835302595881081, 0.18074354338274062 L -0.9829943324793334, 0.18363589603753844 M -0.9829943324793334,0.18363589603753844 Q -0.1058609374764754, 0.16968636337844525 0.26726213514711206, 0.9636238639202575L 0.26726213514711206, 0.9636238639202575 L 0.2708141076753796, 0.9626316632461182 L 0.27436239686881686, 0.9616263698466249 ",
          "type": "path"
         },
         {
          "fillcolor": "#e6c4a9",
          "layer": "below",
          "line": {
           "color": "rgb(175,175,175)",
           "width": 0.5
          },
          "path": "M 0.26726213514711206,0.9636238639202575 Q -0.11746627538702847, 0.1618693119361999 -0.9989997629627839, 0.044715473835144376L -0.9989997629627839, 0.044715473835144376 L -0.9988046057219585, 0.04888107597632358 L -0.9985920789418837, 0.05304582805958069 M -0.9985920789418837,0.05304582805958069 Q -0.11755402500257578, 0.16180559695416533 0.25816847127868003, 0.9660999122438783L 0.25816847127868003, 0.9660999122438783 L 0.26271822023999225, 0.9648726013075151 L 0.26726213514711206, 0.9636238639202575 ",
          "type": "path"
         },
         {
          "fillcolor": "#e6c4a9",
          "layer": "below",
          "line": {
           "color": "rgb(175,175,175)",
           "width": 0.5
          },
          "path": "M 0.25816847127868003,0.9660999122438783 Q -0.13504644313253153, 0.14752104323537008 -0.9850919625774435, -0.1720285594467403L -0.9850919625774435, -0.1720285594467403 L -0.9858401975207699, -0.16768752175462978 L -0.9865693027636958, -0.16334323017607788 M -0.9865693027636958,-0.16334323017607788 Q -0.13512198795361738, 0.14745185102758965 0.24865499403516936, 0.9685921194916722L 0.24865499403516936, 0.9685921194916722 L 0.25341479637626957, 0.967357710972303 L 0.25816847127868003, 0.9660999122438783 ",
          "type": "path"
         },
         {
          "fillcolor": "#e6c4a9",
          "layer": "below",
          "line": {
           "color": "rgb(175,175,175)",
           "width": 0.5
          },
          "path": "M 0.22476810391347363,0.974412284129845 Q -0.15272618595018883, 0.12913060104060672 -0.9234787109801116, -0.38364967140154255L -0.9234787109801116, -0.38364967140154255 L -0.9259755639059536, -0.37758344117433346 L -0.9284325689330155, -0.3715009622389172 M -0.9284325689330155,-0.3715009622389172 Q -0.1528579217004317, 0.12897463228644887 0.2099692079811209, 0.9777079992000581L 0.2099692079811209, 0.9777079992000581 L 0.21737490200754675, 0.9760881886270366 L 0.22476810391347363, 0.974412284129845 ",
          "type": "path"
         },
         {
          "fillcolor": "#e6c4a9",
          "layer": "below",
          "line": {
           "color": "rgb(175,175,175)",
           "width": 0.5
          },
          "path": "M 0.1921069088154535,0.9813740039278456 Q -0.16616902142394646, 0.11130074716284713 -0.8343953981615903, -0.5511663265537557L -0.8343953981615903, -0.5511663265537557 L -0.8395684818804597, -0.5432538672047721 L -0.8446665352043439, -0.535292858448428 M -0.8446665352043439,-0.535292858448428 Q -0.16618862571563894, 0.11127147290634412 0.17317187140749282, 0.9848916199020209L 0.17317187140749282, 0.9848916199020209 L 0.18264785853063364, 0.9831783967186085 L 0.1921069088154535, 0.9813740039278456 ",
          "type": "path"
         },
         {
          "fillcolor": "#e6c4a9",
          "layer": "below",
          "line": {
           "color": "rgb(175,175,175)",
           "width": 0.5
          },
          "path": "M 0.06173237992238482,0.9980927378100285 Q -0.19364052402495863, 0.05003346335543272 -0.4294958769690736, -0.9030688188984084L -0.4294958769690736, -0.9030688188984084 L -0.44615607456329803, -0.8949551704584252 L -0.4626630650727373, -0.8865342002525904 M -0.4626630650727373,-0.8865342002525904 Q -0.19364107721335314, 0.050031322345628786 0.024684747500489577, 0.9996952851948623L 0.024684747500489577, 0.9996952851948623 L 0.0432159926130998, 0.9990657525821134 L 0.06173237992238482, 0.9980927378100285 ",
          "type": "path"
         },
         {
          "fillcolor": "#e6c4a9",
          "layer": "below",
          "line": {
           "color": "rgb(175,175,175)",
           "width": 0.5
          },
          "path": "M 0.28125112236443817,0.9596342043553595 Q -0.19661587244092893, 0.036636030138271984 -0.08324667818294845, -0.9965289712655145L -0.08324667818294845, -0.9965289712655145 L -0.08569168827383924, -0.9963217023435649 L -0.08813618241209623, -0.9961084345340229 M -0.08813618241209623,-0.9961084345340229 Q -0.1966572085440606, 0.036413491011682265 0.27436239686881686, 0.9616263698466249L 0.27436239686881686, 0.9616263698466249 L 0.2778085453500788, 0.960636462003433 L 0.28125112236443817, 0.9596342043553595 ",
          "type": "path"
         },
         {
          "fillcolor": "#e6c4a9",
          "layer": "below",
          "line": {
           "color": "rgb(175,175,175)",
           "width": 0.5
          },
          "path": "M -0.03390369837489218,0.999425104365757 Q -0.1966845109853895, -0.036265729531311026 0.32476614420749855, -0.9457943495161061L 0.32476614420749855, -0.9457943495161061 L 0.2952854598864363, -0.9554090732140113 L 0.265520842750727, -0.9641051198209372 M 0.265520842750727,-0.9641051198209372 Q -0.19669826635971666, -0.036191048770130484 -0.09502756484000888, 0.9954746415256281L -0.09502756484000888, 0.9954746415256281 L -0.06449588512231098, 0.9979179729828949 L -0.03390369837489218, 0.999425104365757 ",
          "type": "path"
         },
         {
          "fillcolor": "#e6c4a9",
          "layer": "below",
          "line": {
           "color": "rgb(175,175,175)",
           "width": 0.5
          },
          "path": "M 0.09747173487540864,0.9952382935259163 Q -0.1826569140071748, -0.08146442024206368 0.805587672620388, -0.5924765832689647L 0.805587672620388, -0.5924765832689647 L 0.7949941692213347, -0.6066170710621981 L 0.7841524879536177, -0.620568187741002 M 0.7841524879536177,-0.620568187741002 Q -0.18263582347412902, -0.08151169231421214 0.06173237992238482, 0.9980927378100285L 0.06173237992238482, 0.9980927378100285 L 0.07961485103408801, 0.9968256996560733 L 0.09747173487540864, 0.9952382935259163 ",
          "type": "path"
         },
         {
          "fillcolor": "#e6c4a9",
          "layer": "below",
          "line": {
           "color": "rgb(175,175,175)",
           "width": 0.5
          },
          "path": "M 0.17317187140749282,0.9848916199020209 Q -0.17351780868756966, -0.09945637268804838 0.9373607717529869, -0.3483601348872238L 0.9373607717529869, -0.3483601348872238 L 0.9343803497682961, -0.35627708594137325 L 0.931333062564111, -0.36416854144057215 M 0.931333062564111,-0.36416854144057215 Q -0.17339109068043013, -0.09967712712879953 0.15397016315155274, 0.9880754975502045L 0.15397016315155274, 0.9880754975502045 L 0.16357876379003977, 0.9865302773037036 L 0.17317187140749282, 0.9848916199020209 ",
          "type": "path"
         },
         {
          "fillcolor": "#e6c4a9",
          "layer": "below",
          "line": {
           "color": "rgb(175,175,175)",
           "width": 0.5
          },
          "path": "M 0.29165497303618987,0.9565235892037683 Q -0.17495284099934338, -0.09690976950885027 0.9655766703348354, -0.26011861468394093L 0.9655766703348354, -0.26011861468394093 L 0.965072727321431, -0.2619821195814227 L 0.9645651878592538, -0.26384464817396314 M 0.9645651878592538,-0.26384464817396314 Q -0.17492150042958943, -0.0969663275960328 0.28734049824315516, 0.9578285013870569L 0.28734049824315516, 0.9578285013870569 L 0.2894984708758393, 0.9571784762313404 L 0.29165497303618987, 0.9565235892037683 ",
          "type": "path"
         },
         {
          "fillcolor": "#e6c4a9",
          "layer": "below",
          "line": {
           "color": "rgb(175,175,175)",
           "width": 0.5
          },
          "path": "M 0.28734049824315516,0.9578285013870569 Q -0.1656485595434602, -0.1120738806376255 0.9959811061559574, -0.08956358735756141L 0.9959811061559574, -0.08956358735756141 L 0.995761324871232, -0.09197490902788993 L 0.9955357056608988, -0.09438569146992731 M 0.9955357056608988,-0.09438569146992731 Q -0.16556396180976554, -0.11219881706085184 0.28125112236443817, 0.9596342043553595L 0.28125112236443817, 0.9596342043553595 L 0.284297243913997, 0.9587361874378714 L 0.28734049824315516, 0.9578285013870569 ",
          "type": "path"
         },
         {
          "fillcolor": "#e1b396",
          "layer": "below",
          "line": {
           "color": "rgb(175,175,175)",
           "width": 0.5
          },
          "path": "M -0.33049649589228525,0.9438072187702956 Q -0.10409624250786127, 0.1707746242734691 -0.6874698541867127, 0.7262129161509728L -0.6874698541867127, 0.7262129161509728 L -0.6814656188929425, 0.7318501282823272 L -0.6754151604662932, 0.7374376997498103 M -0.6754151604662932,0.7374376997498103 Q -0.1043871368552868, 0.17059696849345132 -0.3491930798724121, 0.9370507952983228L -0.3491930798724121, 0.9370507952983228 L -0.33986157794804006, 0.9404754690233383 L -0.33049649589228525, 0.9438072187702956 ",
          "type": "path"
         },
         {
          "fillcolor": "#e1b396",
          "layer": "below",
          "line": {
           "color": "rgb(175,175,175)",
           "width": 0.5
          },
          "path": "M -0.3491930798724121,0.9370507952983228 Q -0.11927701409112977, 0.16053969574377683 -0.7963705436017718, 0.6048090254645829L -0.7963705436017718, 0.6048090254645829 L -0.7905840833327051, 0.6123534985455593 L -0.7847261525259753, 0.6198426135252236 M -0.7847261525259753,0.6198426135252236 Q -0.11944303120435039, 0.16041621581597224 -0.36887182344900293, 0.9294802729834601L -0.36887182344900293, 0.9294802729834601 L -0.3590524050156581, 0.9333174007016433 L -0.3491930798724121, 0.9370507952983228 ",
          "type": "path"
         },
         {
          "fillcolor": "#e1b396",
          "layer": "below",
          "line": {
           "color": "rgb(175,175,175)",
           "width": 0.5
          },
          "path": "M -0.4381149434263015,0.8989189598326252 Q -0.1475700762691756, 0.13499286125536308 -0.9342889649706297, 0.35651666150982264L -0.9342889649706297, 0.35651666150982264 L -0.9277890144350799, 0.3731052729372545 L -0.9209945545467112, 0.3895754490407538 M -0.9209945545467112,0.3895754490407538 Q -0.14767237809023867, 0.1348809428687893 -0.4711997847967285, 0.8820265091296955L -0.4711997847967285, 0.8820265091296955 L -0.45473581062361723, 0.8906263765106454 L -0.4381149434263015, 0.8989189598326252 ",
          "type": "path"
         },
         {
          "fillcolor": "#e1b396",
          "layer": "below",
          "line": {
           "color": "rgb(175,175,175)",
           "width": 0.5
          },
          "path": "M -0.25661422098925596,0.9665139117395452 Q -0.13940889883003382, 0.1434055749508972 -0.9588765575336514, 0.28382344408525184L -0.9588765575336514, 0.28382344408525184 L -0.9585896663306047, 0.2847908910133537 L -0.9583017990339283, 0.2857580479502484 M -0.9583017990339283,0.2857580479502484 Q -0.13946576047647483, 0.143350276088742 -0.2593304113769218, 0.9657886610097866L -0.2593304113769218, 0.9657886610097866 L -0.2579725710497587, 0.9661522408947656 L -0.25661422098925596, 0.9665139117395452 ",
          "type": "path"
         },
         {
          "fillcolor": "#e1b396",
          "layer": "below",
          "line": {
           "color": "rgb(175,175,175)",
           "width": 0.5
          },
          "path": "M -0.2842589509586124,0.9587475417438677 Q -0.15161792008081457, 0.13043008207605994 -0.9904556083038438, 0.13783210068580823L -0.9904556083038438, 0.13783210068580823 L -0.9898958153240246, 0.14179659658815713 L -0.9893201537243673, 0.14575881940656046 M -0.9893201537243673,0.14575881940656046 Q -0.15173733505933634, 0.13029113994854255 -0.2936788471519213, 0.9559041451607575L -0.2936788471519213, 0.9559041451607575 L -0.2889723963413205, 0.9573374296206927 L -0.2842589509586124, 0.9587475417438677 ",
          "type": "path"
         },
         {
          "fillcolor": "#e1b396",
          "layer": "below",
          "line": {
           "color": "rgb(175,175,175)",
           "width": 0.5
          },
          "path": "M -0.27017446184977817,0.962811383482862 Q -0.15612308928749366, 0.12500232394371427 -0.9985920789418837, 0.05304582805958069L -0.9985920789418837, 0.05304582805958069 L -0.9984238323008076, 0.056123534223790746 L -0.9982461000520766, 0.05920070718175205 M -0.9982461000520766,0.05920070718175205 Q -0.15616451628633024, 0.12495056563720108 -0.27674176825928914, 0.9609443239338697L -0.27674176825928914, 0.9609443239338697 L -0.27345970848923684, 0.9618834585504533 L -0.27017446184977817, 0.962811383482862 ",
          "type": "path"
         },
         {
          "fillcolor": "#e1b396",
          "layer": "below",
          "line": {
           "color": "rgb(175,175,175)",
           "width": 0.5
          },
          "path": "M -0.26359456114294827,0.9646335611701764 Q -0.1675147086652416, 0.10926491834435809 -0.9890517300368269, -0.14756922209986667L -0.9890517300368269, -0.14756922209986667 L -0.9895073669161727, -0.1444824239090094 L -0.9899533700230023, -0.14139421904767077 M -0.9899533700230023,-0.14139421904767077 Q -0.16754677452342112, 0.10921574221144995 -0.27017446184977817, 0.962811383482862L -0.27017446184977817, 0.962811383482862 L -0.26688606662681646, 0.9637280879171606 L -0.26359456114294827, 0.9646335611701764 ",
          "type": "path"
         },
         {
          "fillcolor": "#e1b396",
          "layer": "below",
          "line": {
           "color": "rgb(175,175,175)",
           "width": 0.5
          },
          "path": "M -0.3047921091527553,0.9524189047883368 Q -0.18036812816348777, 0.08641376246177257 -0.9332266140767876, -0.3592883059310093L -0.9332266140767876, -0.3592883059310093 L -0.9353127564043313, -0.3538220565585646 L -0.9373668812253062, -0.3483436951947641 M -0.9373668812253062,-0.3483436951947641 Q -0.1804351259477095, 0.08627378120978707 -0.3173878577655163, 0.9482958123618476L -0.3173878577655163, 0.9482958123618476 L -0.3110968141614356, 0.9503782258756801 L -0.3047921091527553, 0.9524189047883368 ",
          "type": "path"
         },
         {
          "fillcolor": "#e1b396",
          "layer": "below",
          "line": {
           "color": "rgb(175,175,175)",
           "width": 0.5
          },
          "path": "M -0.3173878577655163,0.9482958123618476 Q -0.18792743385481778, 0.06843449133838213 -0.8528553212093269, -0.5221472982645183L -0.8528553212093269, -0.5221472982645183 L -0.8564580762037826, -0.5162165860424438 L -0.8600195900089015, -0.5102610163444989 M -0.8600195900089015,-0.5102610163444989 Q -0.18792666077912776, 0.06843661423833479 -0.33049649589228525, 0.9438072187702956L -0.33049649589228525, 0.9438072187702956 L -0.3239499510676831, 0.946074219711776 L -0.3173878577655163, 0.9482958123618476 ",
          "type": "path"
         },
         {
          "fillcolor": "#e1b396",
          "layer": "below",
          "line": {
           "color": "rgb(175,175,175)",
           "width": 0.5
          },
          "path": "M -0.36887182344900293,0.9294802729834601 Q -0.19954908313503897, 0.013422496785818569 -0.4900271420305955, -0.8717071756463444L -0.4900271420305955, -0.8717071756463444 L -0.5006109197082117, -0.865672401702225 L -0.511120389280811, -0.8595091318080524 M -0.511120389280811,-0.8595091318080524 Q -0.1995459203010054, 0.013469435445659912 -0.3909756894931125, 0.920401005119717L -0.3909756894931125, 0.920401005119717 L -0.37995087709770453, 0.9250066653774366 L -0.36887182344900293, 0.9294802729834601 ",
          "type": "path"
         },
         {
          "fillcolor": "#e1b396",
          "layer": "below",
          "line": {
           "color": "rgb(175,175,175)",
           "width": 0.5
          },
          "path": "M -0.2593304113769218,0.9657886610097866 Q -0.1993107836585867, -0.01658950021549933 -0.09609449310570103, -0.9953722160050271L -0.09609449310570103, -0.9953722160050271 L -0.09762961660238775, -0.995222818248291 L -0.09916450784565296, -0.9950710529322665 M -0.09916450784565296,-0.9950710529322665 Q -0.19929968180275356, -0.016722345329563876 -0.26359456114294827, 0.9646335611701764L -0.26359456114294827, 0.9646335611701764 L -0.2614631241401674, 0.9652134658793687 L -0.2593304113769218, 0.9657886610097866 ",
          "type": "path"
         },
         {
          "fillcolor": "#e1b396",
          "layer": "below",
          "line": {
           "color": "rgb(175,175,175)",
           "width": 0.5
          },
          "path": "M -0.4711997847967285,0.8820265091296955 Q -0.18719454732598415, -0.07041449745201547 0.22692421909701127, -0.9739124184377216L 0.22692421909701127, -0.9739124184377216 L 0.20769001242388907, -0.9781946936777794 L 0.1883751612584291, -0.9820971431690761 M 0.1883751612584291,-0.9820971431690761 Q -0.187238762198107, -0.07029684154014842 -0.5045015531233004, 0.8634107845609631L -0.5045015531233004, 0.8634107845609631 L -0.48793945475339306, 0.8728774762215837 L -0.4711997847967285, 0.8820265091296955 ",
          "type": "path"
         },
         {
          "fillcolor": "#e1b396",
          "layer": "below",
          "line": {
           "color": "rgb(175,175,175)",
           "width": 0.5
          },
          "path": "M -0.3909756894931125,0.920401005119717 Q -0.16291526013730628, -0.11601128399597099 0.7419032749148318, -0.6705069206731931L 0.7419032749148318, -0.6705069206731931 L 0.7336567602324812, -0.6795202411740063 L 0.725300750983004, -0.6884321467098194 M 0.725300750983004,-0.6884321467098194 Q -0.16292310404171062, -0.1160002679713023 -0.4132220647892432, 0.9106302900581084L -0.4132220647892432, 0.9106302900581084 L -0.4021285537193296, 0.9155832164711192 L -0.3909756894931125, 0.920401005119717 ",
          "type": "path"
         },
         {
          "fillcolor": "#e1b396",
          "layer": "below",
          "line": {
           "color": "rgb(175,175,175)",
           "width": 0.5
          },
          "path": "M -0.27674176825928914,0.9609443239338697 Q -0.151087567057635, -0.13104406541543442 0.9121693165471036, -0.4098135404668687L 0.9121693165471036, -0.4098135404668687 L 0.9107406157296598, -0.41297885037899956 L 0.9093009310408064, -0.41613917961220925 M 0.9093009310408064,-0.41613917961220925 Q -0.15102949954980094, -0.13111098453499873 -0.2842589509586124, 0.9587475417438677L -0.2842589509586124, 0.9587475417438677 L -0.28050251015587774, 0.9598532918088325 L -0.27674176825928914, 0.9609443239338697 ",
          "type": "path"
         },
         {
          "fillcolor": "#e1b396",
          "layer": "below",
          "line": {
           "color": "rgb(175,175,175)",
           "width": 0.5
          },
          "path": "M -0.2936788471519213,0.9559041451607575 Q -0.13539253959242234, -0.1472034653896244 0.9770759253231931, -0.21289113686066385L 0.9770759253231931, -0.21289113686066385 L 0.9759797987152153, -0.2178610394260705 L 0.9748583928396304, -0.22282529908009302 M 0.9748583928396304,-0.22282529908009302 Q -0.13528443233647688, -0.147302825388372 -0.3047921091527553, 0.9524189047883368L -0.3047921091527553, 0.9524189047883368 L -0.2992405522488085, 0.9541777045654694 L -0.2936788471519213, 0.9559041451607575 ",
          "type": "path"
         },
         {
          "fillcolor": "#e1b396",
          "layer": "below",
          "line": {
           "color": "rgb(175,175,175)",
           "width": 0.5
          },
          "path": "M -0.25467284199276624,0.9670272713586352 Q -0.1303310622809349, -0.15170304612868876 0.9943615774410802, -0.1060426956885127L 0.9943615774410802, -0.1060426956885127 L 0.9942784473455848, -0.10681932944955733 L 0.994194710670029, -0.1075958980432683 M 0.994194710670029,-0.1075958980432683 Q -0.13029723182897632, -0.15173210397838027 -0.25661422098925596, 0.9665139117395452L -0.25661422098925596, 0.9665139117395452 L -0.2556436603511228, 0.9667710788611127 L -0.25467284199276624, 0.9670272713586352 ",
          "type": "path"
         },
         {
          "fillcolor": "#dba284",
          "layer": "below",
          "line": {
           "color": "rgb(175,175,175)",
           "width": 0.5
          },
          "path": "M -0.6874698541867127,0.7262129161509728 Q -0.15020268629650205, 0.13205738536452477 -0.8082604954328229, 0.5888250771856509L -0.8082604954328229, 0.5888250771856509 L -0.8023553231012782, 0.5968466599479664 L -0.7963705436017718, 0.6048090254645829 M -0.7963705436017718,0.6048090254645829 Q -0.15009569018450608, 0.132178983912106 -0.7006450617917209, 0.7135099840835275L -0.7006450617917209, 0.7135099840835275 L -0.6940865191827534, 0.7198915917614049 L -0.6874698541867127, 0.7262129161509728 ",
          "type": "path"
         },
         {
          "fillcolor": "#dba284",
          "layer": "below",
          "line": {
           "color": "rgb(175,175,175)",
           "width": 0.5
          },
          "path": "M -0.6337994472740353,0.7734974212207352 Q -0.15255299841164038, 0.12933515637914558 -0.8667760394484051, 0.49869760119549095L -0.8667760394484051, 0.49869760119549095 L -0.8647517701729052, 0.502199538015346 L -0.862713352496885, 0.5056932582342636 M -0.862713352496885,0.5056932582342636 Q -0.15248172412825323, 0.12941917866713293 -0.6391891301200374, 0.7690495796347527L -0.6391891301200374, 0.7690495796347527 L -0.6364981738918345, 0.7712782083219777 L -0.6337994472740353, 0.7734974212207352 ",
          "type": "path"
         },
         {
          "fillcolor": "#dba284",
          "layer": "below",
          "line": {
           "color": "rgb(175,175,175)",
           "width": 0.5
          },
          "path": "M -0.6239681968123528,0.7814497356623399 Q -0.16549476111543182, 0.11230086394746108 -0.9566801120580526, 0.29114113964294347L -0.9566801120580526, 0.29114113964294347 L -0.9566171352792838, 0.2913479989463741 L -0.956554113772115, 0.29155484462729075 M -0.956554113772115,0.29155484462729075 Q -0.16549850493128646, 0.11229534658884562 -0.6243581742435301, 0.7811381889622896L -0.6243581742435301, 0.7811381889622896 L -0.6241632049662365, 0.7812939866441286 L -0.6239681968123528, 0.7814497356623399 ",
          "type": "path"
         },
         {
          "fillcolor": "#dba284",
          "layer": "below",
          "line": {
           "color": "rgb(175,175,175)",
           "width": 0.5
          },
          "path": "M -0.6453105325431132,0.763920360108908 Q -0.17554201965016436, 0.09583840220465552 -0.9915487674035621, 0.12973450528088748L -0.9915487674035621, 0.12973450528088748 L -0.9910104586197168, 0.13378441952013162 L -0.9904556083038438, 0.13783210068580823 M -0.9904556083038438,0.13783210068580823 Q -0.17554911016240804, 0.09582541375432058 -0.6516432213454431, 0.7585256172829853L -0.6516432213454431, 0.7585256172829853 L -0.6484824868444359, 0.7612295739499721 L -0.6453105325431132, 0.763920360108908 ",
          "type": "path"
         },
         {
          "fillcolor": "#dba284",
          "layer": "below",
          "line": {
           "color": "rgb(175,175,175)",
           "width": 0.5
          },
          "path": "M -0.6243581742435301,0.7811381889622896 Q -0.17685672068638802, 0.09339004415919794 -0.9971745040302774, 0.07511996080916425L -0.9971745040302774, 0.07511996080916425 L -0.9971471981797952, 0.0754815551123862 L -0.9971197612083956, 0.07584313949008184 M -0.9971197612083956,0.07584313949008184 Q -0.176853931809624, 0.09339532538343055 -0.6248779021606395, 0.7807224906401238L -0.6248779021606395, 0.7807224906401238 L -0.6246180727842372, 0.7809303830376337 L -0.6243581742435301, 0.7811381889622896 ",
          "type": "path"
         },
         {
          "fillcolor": "#dba284",
          "layer": "below",
          "line": {
           "color": "rgb(175,175,175)",
           "width": 0.5
          },
          "path": "M -0.6264354243580025,0.7794733216149282 Q -0.18520983774259125, 0.0754805670577734 -0.9928272540280997, -0.1195577001243464L -0.9928272540280997, -0.1195577001243464 L -0.9929691839873721, -0.11837313737268454 L -0.993109700620811, -0.11718840613662732 M -0.993109700620811,-0.11718840613662732 Q -0.18520141607191493, 0.0755012283672091 -0.6281199219032191, 0.7781165489232921L -0.6281199219032191, 0.7781165489232921 L -0.6272780399601022, 0.7787953907052946 L -0.6264354243580025, 0.7794733216149282 ",
          "type": "path"
         },
         {
          "fillcolor": "#dba284",
          "layer": "below",
          "line": {
           "color": "rgb(175,175,175)",
           "width": 0.5
          },
          "path": "M -0.6237081254868065,0.7816573253042115 Q -0.19162881054966757, 0.05725730492539464 -0.9502929630774503, -0.3113571652065835L -0.9502929630774503, -0.3113571652065835 L -0.9503481509110483, -0.3111886759828374 L -0.9504033088711029, -0.3110201769770878 M -0.9504033088711029,-0.3110201769770878 Q -0.1916281855033437, 0.05725939678948856 -0.6239681968123528, 0.7814497356623399L -0.6239681968123528, 0.7814497356623399 L -0.6238381697843228, 0.781553541301008 L -0.6237081254868065, 0.7816573253042115 ",
          "type": "path"
         },
         {
          "fillcolor": "#dba284",
          "layer": "below",
          "line": {
           "color": "rgb(175,175,175)",
           "width": 0.5
          },
          "path": "M -0.6281199219032191,0.7781165489232921 Q -0.19603682981358353, 0.03961768994578169 -0.8809894177642875, -0.4731359696613033L -0.8809894177642875, -0.4731359696613033 L -0.8816547039632185, -0.47189509743112334 L -0.8823182423966509, -0.4706532897304393 M -0.8823182423966509,-0.4706532897304393 Q -0.19602718504469271, 0.03966538444858202 -0.6299307096230986, 0.7766513381651636L -0.6299307096230986, 0.7766513381651636 L -0.6290257423838733, 0.7773844707854776 L -0.6281199219032191, 0.7781165489232921 ",
          "type": "path"
         },
         {
          "fillcolor": "#dba284",
          "layer": "below",
          "line": {
           "color": "rgb(175,175,175)",
           "width": 0.5
          },
          "path": "M -0.6248779021606395,0.7807224906401238 Q -0.19999272202756663, -0.001706205147241795 -0.6114667043511255, -0.7912701621254103L -0.6114667043511255, -0.7912701621254103 L -0.6119526599363345, -0.7908943937067989 L -0.6124383845983095, -0.7905183268404429 M -0.6124383845983095,-0.7905183268404429 Q -0.1999929171695959, -0.0016831761628390855 -0.625656975016343, 0.7800982948407202L -0.625656975016343, 0.7800982948407202 L -0.625267516479236, 0.7804104899576173 L -0.6248779021606395, 0.7807224906401238 ",
          "type": "path"
         },
         {
          "fillcolor": "#dba284",
          "layer": "below",
          "line": {
           "color": "rgb(175,175,175)",
           "width": 0.5
          },
          "path": "M -0.6516432213454431,0.7585256172829853 Q -0.18660931026429234, -0.07195113148995703 0.026260226918380716, -0.9996551407771558L 0.026260226918380716, -0.9996551407771558 L 0.021076038029944028, -0.9997778756408647 L 0.015891282388333212, -0.999873725599415 M 0.015891282388333212,-0.999873725599415 Q -0.18668304266485927, -0.07175960967975187 -0.6579308123982155, 0.7530783797832893L -0.6579308123982155, 0.7530783797832893 L -0.6547926813602942, 0.7558085368907896 L -0.6516432213454431, 0.7585256172829853 ",
          "type": "path"
         },
         {
          "fillcolor": "#dba284",
          "layer": "below",
          "line": {
           "color": "rgb(175,175,175)",
           "width": 0.5
          },
          "path": "M -0.6299307096230986,0.7766513381651636 Q -0.15509048809326706, -0.12628119615759187 0.6328789701900717, -0.7742507404524418L 0.6328789701900717, -0.7742507404524418 L 0.6305309238168683, -0.7761641283328202 L 0.6281770927165506, -0.778070395392462 M 0.6281770927165506,-0.778070395392462 Q -0.15515780033310003, -0.1261984825415657 -0.6337994472740353, 0.7734974212207352L -0.6337994472740353, 0.7734974212207352 L -0.6318670462690996, 0.7750767935109162 L -0.6299307096230986, 0.7766513381651636 ",
          "type": "path"
         },
         {
          "fillcolor": "#dba284",
          "layer": "below",
          "line": {
           "color": "rgb(175,175,175)",
           "width": 0.5
          },
          "path": "M -0.6391891301200374,0.7690495796347527 Q -0.10545998483591933, -0.16993584553709576 0.9728656537551884, -0.23137074089756882L 0.9728656537551884, -0.23137074089756882 L 0.9718825225887604, -0.23546626570807902 L 0.9708821503523725, -0.23955761337756135 M 0.9708821503523725,-0.23955761337756135 Q -0.10549715264382485, -0.1699127740461132 -0.6453105325431132, 0.763920360108908L -0.6453105325431132, 0.763920360108908 L -0.6422549517665651, 0.7664910807904598 L -0.6391891301200374, 0.7690495796347527 ",
          "type": "path"
         },
         {
          "fillcolor": "#dba284",
          "layer": "below",
          "line": {
           "color": "rgb(175,175,175)",
           "width": 0.5
          },
          "path": "M -0.625656975016343,0.7800982948407202 Q -0.0961156096937799, -0.1753903919067204 0.994194710670029, -0.1075958980432683L 0.994194710670029, -0.1075958980432683 L 0.9941441775275026, -0.10806180772208751 L 0.9940934260456363, -0.1085276936677869 M 0.9940934260456363,-0.1085276936677869 Q -0.09611026008434673, -0.17539332343769312 -0.6264354243580025, 0.7794733216149282L -0.6264354243580025, 0.7794733216149282 L -0.6260462776749293, 0.7797859053672138 L -0.625656975016343, 0.7800982948407202 ",
          "type": "path"
         },
         {
          "fillcolor": "#d59171",
          "layer": "below",
          "line": {
           "color": "rgb(175,175,175)",
           "width": 0.5
          },
          "path": "M -0.7324021427127853,0.6808723091371252 Q -0.1599864421559697, 0.12001807499820422 -0.8585942055782838, 0.5126558203584503L -0.8585942055782838, 0.5126558203584503 L -0.8565632462898946, 0.5160420574965935 L -0.8545189319833743, 0.5194202488178464 M -0.8545189319833743,0.5194202488178464 Q -0.15995812152442357, 0.12005581767818563 -0.7374376063302943, 0.6754152624643938L -0.7374376063302943, 0.6754152624643938 L -0.7349249395729829, 0.6781484595526612 L -0.7324021427127853, 0.6808723091371252 ",
          "type": "path"
         },
         {
          "fillcolor": "#d59171",
          "layer": "below",
          "line": {
           "color": "rgb(175,175,175)",
           "width": 0.5
          },
          "path": "M -0.7227112259585651,0.6911501167427145 Q -0.17257900838648788, 0.10107663362190372 -0.9563437190809562, 0.2922442317213552L -0.9563437190809562, 0.2922442317213552 L -0.9563226522838258, 0.29231316208619273 L -0.9563015805184031, 0.29238209093240336 M -0.9563015805184031,0.29238209093240336 Q -0.17258087574955344, 0.10107344520455014 -0.7228363852462607, 0.6910192183753787L -0.7228363852462607, 0.6910192183753787 L -0.7227738085657158, 0.6910846703924274 L -0.7227112259585651, 0.6911501167427145 ",
          "type": "path"
         },
         {
          "fillcolor": "#d59171",
          "layer": "below",
          "line": {
           "color": "rgb(175,175,175)",
           "width": 0.5
          },
          "path": "M -0.7576431368895842,0.6526690410339001 Q -0.18301961524846766, 0.08064626733025443 -0.9929292098017332, 0.11870797918634556L -0.9929292098017332, 0.11870797918634556 L -0.9922543053938508, 0.12422315978659737 L -0.9915487674035621, 0.12973450528088748 M -0.9915487674035621,0.12973450528088748 Q -0.1830680715839867, 0.08053621028158903 -0.7656232172018478, 0.6432892734077665L -0.7656232172018478, 0.6432892734077665 L -0.7616476162812637, 0.6479914417745569 L -0.7576431368895842, 0.6526690410339001 ",
          "type": "path"
         },
         {
          "fillcolor": "#d59171",
          "layer": "below",
          "line": {
           "color": "rgb(175,175,175)",
           "width": 0.5
          },
          "path": "M -0.7243364462641326,0.6894466713339381 Q -0.18291617562852092, 0.08088060764754489 -0.9974143556565719, 0.07186517327736454L -0.9974143556565719, 0.07186517327736454 L -0.9973685497827268, 0.0724981096601858 L -0.9973223422619416, 0.0731310168475367 M -0.9973223422619416,0.0731310168475367 Q -0.18291611721607717, 0.08088073975053839 -0.7252099024267036, 0.688527847964228L -0.7252099024267036, 0.688527847964228 L -0.7247733199489548, 0.688987398063397 L -0.7243364462641326, 0.6894466713339381 ",
          "type": "path"
         },
         {
          "fillcolor": "#d59171",
          "layer": "below",
          "line": {
           "color": "rgb(175,175,175)",
           "width": 0.5
          },
          "path": "M -0.7286920577688888,0.6848415035207361 Q -0.19050459540736547, 0.06089334223604409 -0.990816457643932, -0.1352137095931115L -0.990816457643932, -0.1352137095931115 L -0.9911849667946988, -0.1324853259806225 L -0.9915459628861943, -0.12975593814577338 M -0.9915459628861943,-0.12975593814577338 Q -0.19050236812415888, 0.060900309843936386 -0.7324021427127853, 0.6808723091371252L -0.7324021427127853, 0.6808723091371252 L -0.7305497959046388, 0.6828594260195071 L -0.7286920577688888, 0.6848415035207361 ",
          "type": "path"
         },
         {
          "fillcolor": "#d59171",
          "layer": "below",
          "line": {
           "color": "rgb(175,175,175)",
           "width": 0.5
          },
          "path": "M -0.7252099024267036,0.688527847964228 Q -0.19520268772092614, 0.043542056755814844 -0.949071276252953, -0.31506144256571783L -0.949071276252953, -0.31506144256571783 L -0.9493780523779687, -0.3141358204073757 L -0.9496839257508145, -0.31320989954106077 M -0.9496839257508145,-0.31320989954106077 Q -0.19520359970072435, 0.04353796807246946 -0.7265801210108751, 0.6870817475030333L -0.7265801210108751, 0.6870817475030333 L -0.7258953718269993, 0.6878051389457209 L -0.7252099024267036, 0.688527847964228 ",
          "type": "path"
         },
         {
          "fillcolor": "#d59171",
          "layer": "below",
          "line": {
           "color": "rgb(175,175,175)",
           "width": 0.5
          },
          "path": "M -0.7265801210108751,0.6870817475030333 Q -0.19833845832015717, 0.02572656120011545 -0.8778295670639658, -0.4789731215718587L -0.8778295670639658, -0.4789731215718587 L -0.8786471714867568, -0.4774716201391679 L -0.879462207638324, -0.4759687230647889 M -0.879462207638324,-0.4759687230647889 Q -0.1983340748205651, 0.025760333170797758 -0.7286920577688888, 0.6848415035207361L -0.7286920577688888, 0.6848415035207361 L -0.7276369515464943, 0.6859624382895354 L -0.7265801210108751, 0.6870817475030333 ",
          "type": "path"
         },
         {
          "fillcolor": "#d59171",
          "layer": "below",
          "line": {
           "color": "rgb(175,175,175)",
           "width": 0.5
          },
          "path": "M -0.7435233622560844,0.6687099593840422 Q -0.1986055436912297, -0.023576217150150607 -0.5663021482235479, -0.8241977171270222L -0.5663021482235479, -0.8241977171270222 L -0.5709342116017202, -0.8209958136450649 L -0.5755481716854094, -0.8177678778660743 M -0.5755481716854094,-0.8177678778660743 Q -0.1986208405147529, -0.023446997957373934 -0.7501472577480053, 0.6612708156974325L -0.7501472577480053, 0.6612708156974325 L -0.7468445725052489, 0.6649986349756306 L -0.7435233622560844, 0.6687099593840422 ",
          "type": "path"
         },
         {
          "fillcolor": "#d59171",
          "layer": "below",
          "line": {
           "color": "rgb(175,175,175)",
           "width": 0.5
          },
          "path": "M -0.7656232172018478,0.6432892734077665 Q -0.17883826123807392, -0.08953701088009598 0.05631019974651602, -0.9984133219286027L 0.05631019974651602, -0.9984133219286027 L 0.04823167105494831, -0.9988361757101348 L 0.04014998601380044, -0.999193664222853 M 0.04014998601380044,-0.999193664222853 Q -0.1789300760620227, -0.08935338762709993 -0.7746337814379826, 0.6324100763389937L -0.7746337814379826, 0.6324100763389937 L -0.7701477096615686, 0.6378655856080025 L -0.7656232172018478, 0.6432892734077665 ",
          "type": "path"
         },
         {
          "fillcolor": "#d59171",
          "layer": "below",
          "line": {
           "color": "rgb(175,175,175)",
           "width": 0.5
          },
          "path": "M -0.7501472577480053,0.6612708156974325 Q -0.140597242000911, -0.142240695800243 0.6699434584356636, -0.7424121244290548L 0.6699434584356636, -0.7424121244290548 L 0.6652076465497873, -0.7466584138491265 L 0.6604449211022042, -0.750874494300015 M 0.6604449211022042,-0.750874494300015 Q -0.1406905095850419, -0.1421484453404301 -0.7576431368895842, 0.6526690410339001L -0.7576431368895842, 0.6526690410339001 L -0.7539074652582936, 0.6569806190655969 L -0.7501472577480053, 0.6612708156974325 ",
          "type": "path"
         },
         {
          "fillcolor": "#d59171",
          "layer": "below",
          "line": {
           "color": "rgb(175,175,175)",
           "width": 0.5
          },
          "path": "M -0.7230866326921174,0.6907573536503068 Q -0.11372926304718722, -0.16451642692066862 0.9016689948710944, -0.4324268998202475L 0.9016689948710944, -0.4324268998202475 L 0.9014763753864018, -0.43282830847831016 L 0.9012835772009866, -0.4332296313363079 M 0.9012835772009866,-0.4332296313363079 Q -0.11372802385038083, -0.16451728356342143 -0.7237118361929914, 0.6901022954274016L -0.7237118361929914, 0.6901022954274016 L -0.7233993085892415, 0.6904298953062558 L -0.7230866326921174, 0.6907573536503068 ",
          "type": "path"
         },
         {
          "fillcolor": "#d59171",
          "layer": "below",
          "line": {
           "color": "rgb(175,175,175)",
           "width": 0.5
          },
          "path": "M -0.7374376063302943,0.6754152624643938 Q -0.09290881208316389, -0.17711000151684078 0.9748583928396304, -0.22282529908009302L 0.9748583928396304, -0.22282529908009302 L 0.9738713963172385, -0.22710020571349582 L 0.9728656537551884, -0.23137074089756882 M 0.9728656537551884,-0.23137074089756882 Q -0.09288396813710614, -0.17712303199500923 -0.7435233622560844, 0.6687099593840422L -0.7435233622560844, 0.6687099593840422 L -0.7404880741047934, 0.6720694994630941 L -0.7374376063302943, 0.6754152624643938 ",
          "type": "path"
         },
         {
          "fillcolor": "#d59171",
          "layer": "below",
          "line": {
           "color": "rgb(175,175,175)",
           "width": 0.5
          },
          "path": "M -0.7228363852462607,0.6910192183753787 Q -0.08462898515302218, -0.18121240264388516 0.993853699194457, -0.11070151127014376L 0.993853699194457, -0.11070151127014376 L 0.9938363939380075, -0.11085676381844135 L 0.9938190644291415, -0.11101201366152157 M 0.9938190644291415,-0.11101201366152157 Q -0.0846244744712694, -0.18121450913340653 -0.7230866326921174, 0.6907573536503068L -0.7230866326921174, 0.6907573536503068 L -0.7229615208254796, 0.6908882973431448 L -0.7228363852462607, 0.6910192183753787 ",
          "type": "path"
         },
         {
          "fillcolor": "#d0805f",
          "layer": "below",
          "line": {
           "color": "rgb(175,175,175)",
           "width": 0.5
          },
          "path": "M -0.8667760394484051,0.49869760119549095 Q -0.18468313211482665, 0.07676028082450906 -0.9649027853407315, 0.26260733965694527L -0.9649027853407315, 0.26260733965694527 L -0.9639884610480896, 0.26594406736405285 L -0.9630625980635277, 0.2692776117896329 M -0.9630625980635277,0.2692776117896329 Q -0.18477228052160055, 0.07654543977825821 -0.8713496346945597, 0.49066262759421303L -0.8713496346945597, 0.49066262759421303 L -0.8690721230018412, 0.4946854000484273 L -0.8667760394484051, 0.49869760119549095 ",
          "type": "path"
         },
         {
          "fillcolor": "#d0805f",
          "layer": "below",
          "line": {
           "color": "rgb(175,175,175)",
           "width": 0.5
          },
          "path": "M -0.8585942055782838,0.5126558203584503 Q -0.18839853737819778, 0.0671266795972795 -0.9893201537243673, 0.14575881940656046L -0.9893201537243673, 0.14575881940656046 L -0.9888141063583482, 0.1491531530566529 L -0.9882964131502759, 0.1525457300428269 M -0.9882964131502759,0.1525457300428269 Q -0.18843965424477088, 0.06701116853264986 -0.862713352496885, 0.5056932582342636L -0.862713352496885, 0.5056932582342636 L -0.8606608197713596, 0.5091787046906925 L -0.8585942055782838, 0.5126558203584503 ",
          "type": "path"
         },
         {
          "fillcolor": "#d0805f",
          "layer": "below",
          "line": {
           "color": "rgb(175,175,175)",
           "width": 0.5
          },
          "path": "M -0.8438398658992721,0.5365950807816807 Q -0.19014292193461685, 0.06201346013702355 -0.9979443272353702, 0.064086814078595L -0.9979443272353702, 0.064086814078595 L -0.9978025288424393, 0.0662579311149474 L -0.9976560069960506, 0.06842873449579705 M -0.9976560069960506,0.06842873449579705 Q -0.19015133111892113, 0.06198767033614358 -0.8463113843834694, 0.5326885024692531L -0.8463113843834694, 0.5326885024692531 L -0.8450778825330872, 0.5346432197768841 L -0.8438398658992721, 0.5365950807816807 ",
          "type": "path"
         },
         {
          "fillcolor": "#d0805f",
          "layer": "below",
          "line": {
           "color": "rgb(175,175,175)",
           "width": 0.5
          },
          "path": "M -0.8463113843834694,0.5326885024692531 Q -0.19535998223318002, 0.04283079898684578 -0.9915459628861943, -0.12975593814577338L -0.9915459628861943, -0.12975593814577338 L -0.9918410518441199, -0.1274806960945455 L -0.9921309199452637, -0.12520478300993426 M -0.9921309199452637,-0.12520478300993426 Q -0.19536483723780412, 0.04280864832071098 -0.8488666505185429, 0.5286070465264627L -0.8488666505185429, 0.5286070465264627 L -0.8475914741632405, 0.5306493125650732 L -0.8463113843834694, 0.5326885024692531 ",
          "type": "path"
         },
         {
          "fillcolor": "#d0805f",
          "layer": "below",
          "line": {
           "color": "rgb(175,175,175)",
           "width": 0.5
          },
          "path": "M -0.8407251156011,0.5414621685746079 Q -0.19847398295467591, 0.024659239447051447 -0.9476654697018005, -0.31926502710892984L -0.9476654697018005, -0.31926502710892984 L -0.9480327716010998, -0.31817269519922203 L -0.9483988144183724, -0.31707994072445794 M -0.9483988144183724,-0.31707994072445794 Q -0.19847643709455584, 0.024639478855098026 -0.8420782934693358, 0.539355307443777L -0.8420782934693358, 0.539355307443777 L -0.8414023639797588, 0.5404091615519426 L -0.8407251156011, 0.5414621685746079 ",
          "type": "path"
         },
         {
          "fillcolor": "#d0805f",
          "layer": "below",
          "line": {
           "color": "rgb(175,175,175)",
           "width": 0.5
          },
          "path": "M -0.881367314922006,0.4724316418141077 Q -0.19986749411075752, -0.007279065728945796 -0.8446665352043439, -0.535292858448428L -0.8446665352043439, -0.535292858448428 L -0.8487863775348107, -0.5287359315493262 L -0.8528553212093269, -0.5221472982645183 M -0.8528553212093269,-0.5221472982645183 Q -0.19986987203719253, -0.007213477097509197 -0.8882769062238803, 0.4593083254953384L -0.8882769062238803, 0.4593083254953384 L -0.8848464401897984, 0.46588279350437645 L -0.881367314922006, 0.4724316418141077 ",
          "type": "path"
         },
         {
          "fillcolor": "#d0805f",
          "layer": "below",
          "line": {
           "color": "rgb(175,175,175)",
           "width": 0.5
          },
          "path": "M -0.8882769062238803,0.4593083254953384 Q -0.19229124463568348, -0.05499161060070656 -0.511120389280811, -0.8595091318080524L -0.511120389280811, -0.8595091318080524 L -0.5204179245019125, -0.8539116955851592 L -0.5296541672659686, -0.8482136895251063 M -0.5296541672659686,-0.8482136895251063 Q -0.1923266152688193, -0.054867777968855 -0.8974688781223833, 0.44107778543217385L -0.8974688781223833, 0.44107778543217385 L -0.8929194195028809, 0.4502165148843811 L -0.8882769062238803, 0.4593083254953384 ",
          "type": "path"
         },
         {
          "fillcolor": "#d0805f",
          "layer": "below",
          "line": {
           "color": "rgb(175,175,175)",
           "width": 0.5
          },
          "path": "M -0.8420782934693358,0.539355307443777 Q -0.18024272439412214, -0.08667502698577333 -0.10446502132935175, -0.9945285613388175L -0.10446502132935175, -0.9945285613388175 L -0.10565026194227918, -0.9944033498291968 L -0.10683535248183663, -0.9942767257962352 M -0.10683535248183663,-0.9942767257962352 Q -0.18020410258978847, -0.08675529614847155 -0.8438398658992721, 0.5365950807816807L -0.8438398658992721, 0.5365950807816807 L -0.8429602094612859, 0.5379759151346694 L -0.8420782934693358, 0.539355307443777 ",
          "type": "path"
         },
         {
          "fillcolor": "#d0805f",
          "layer": "below",
          "line": {
           "color": "rgb(175,175,175)",
           "width": 0.5
          },
          "path": "M -0.9091155168907906,0.41654408764066087 Q -0.1595197053035437, -0.1206377371300978 0.15322418945264066, -0.9881914529920715L 0.15322418945264066, -0.9881914529920715 L 0.13752485534620285, -0.9904983160823677 L 0.12179089375897313, -0.9925557808996885 M 0.12179089375897313,-0.9925557808996885 Q -0.15965629421332572, -0.12045691228845264 -0.9209945545467112, 0.3895754490407538L -0.9209945545467112, 0.3895754490407538 L -0.915154383293457, 0.40310352856155 L -0.9091155168907906, 0.41654408764066087 ",
          "type": "path"
         },
         {
          "fillcolor": "#d0805f",
          "layer": "below",
          "line": {
           "color": "rgb(175,175,175)",
           "width": 0.5
          },
          "path": "M -0.876220300219763,0.4819107650621517 Q -0.12515264719269706, -0.15600261183922629 0.6604449211022042, -0.750874494300015L 0.6604449211022042, -0.750874494300015 L 0.6561889490223849, -0.7545966228263269 L 0.6519120001966745, -0.7582946287555854 M 0.6519120001966745,-0.7582946287555854 Q -0.12519332628084004, -0.155969968438604 -0.881367314922006, 0.4724316418141077L -0.881367314922006, 0.4724316418141077 L -0.8788065883169748, 0.4771781431820607 L -0.876220300219763, 0.4819107650621517 ",
          "type": "path"
         },
         {
          "fillcolor": "#d0805f",
          "layer": "below",
          "line": {
           "color": "rgb(175,175,175)",
           "width": 0.5
          },
          "path": "M -0.8488666505185429,0.5286070465264627 Q -0.0951536822606917, -0.1759141175466919 0.9069896338974422, -0.4211529460927274L 0.9069896338974422, -0.4211529460927274 L 0.9059744562371268, -0.42333235719212686 L 0.9049540416653744, -0.4255093212533701 M 0.9049540416653744,-0.4255093212533701 Q -0.09511919336745771, -0.17593276855982287 -0.8516042279676173, 0.5241853097022833L -0.8516042279676173, 0.5241853097022833 L -0.8502383137003465, 0.5263979577429905 L -0.8488666505185429, 0.5286070465264627 ",
          "type": "path"
         },
         {
          "fillcolor": "#d0805f",
          "layer": "below",
          "line": {
           "color": "rgb(175,175,175)",
           "width": 0.5
          },
          "path": "M -0.8516042279676173,0.5241853097022833 Q -0.0779147210838067, -0.18419906687720383 0.9692630107221245, -0.24602686041544886L 0.9692630107221245, -0.24602686041544886 L 0.9686338148598133, -0.24849252043094774 L 0.9679983467383089, -0.2509565713662442 M 0.9679983467383089,-0.2509565713662442 Q -0.0778689939995422, -0.18421840237473364 -0.8545189319833743, 0.5194202488178464L -0.8545189319833743, 0.5194202488178464 L -0.8530649070742491, 0.5218048143879116 L -0.8516042279676173, 0.5241853097022833 ",
          "type": "path"
         },
         {
          "fillcolor": "#d0805f",
          "layer": "below",
          "line": {
           "color": "rgb(175,175,175)",
           "width": 0.5
          },
          "path": "M -0.8396806221186116,0.5430805215053301 Q -0.066582556687135, -0.18859152458423062 0.994526017689399, -0.10448923455966773L 0.994526017689399, -0.10448923455966773 L 0.9944441009058, -0.10526599723393587 L 0.9943615774410802, -0.1060426956885127 M 0.9943615774410802,-0.1060426956885127 Q -0.06654823150551115, -0.1886036396347878 -0.8407251156011, 0.5414621685746079L -0.8407251156011, 0.5414621685746079 L -0.8402032585076565, 0.5422715965207067 L -0.8396806221186116, 0.5430805215053301 ",
          "type": "path"
         },
         {
          "fillcolor": "#ca6f4c",
          "layer": "below",
          "line": {
           "color": "rgb(175,175,175)",
           "width": 0.5
          },
          "path": "M -0.9570988139735568,0.2897617302033015 Q -0.1939334756823903, 0.04888565239155275 -0.9800899795820186, 0.19855385144317494L -0.9800899795820186, 0.19855385144317494 L -0.9799599783653192, 0.19919447984882305 L -0.9798295584067522, 0.19983502313765947 M -0.9798295584067522,0.19983502313765947 Q -0.19392970780226115, 0.04890059745779823 -0.9574323435183266, 0.2886577689669982L -0.9574323435183266, 0.2886577689669982 L -0.9572657378880777, 0.28920979766528354 L -0.9570988139735568, 0.2897617302033015 ",
          "type": "path"
         },
         {
          "fillcolor": "#ca6f4c",
          "layer": "below",
          "line": {
           "color": "rgb(175,175,175)",
           "width": 0.5
          },
          "path": "M -0.9568478314402039,0.29058944830839795 Q -0.19662322439631827, 0.03659655213261328 -0.9973223422619416, 0.0731310168475367L -0.9973223422619416, 0.0731310168475367 L -0.9972824161514781, 0.07367348529199676 L -0.9972421949789481, 0.07421593193896993 M -0.9972421949789481,0.07421593193896993 Q -0.19661914378877005, 0.03661846932588765 -0.9570988139735568, 0.2897617302033015L -0.9570988139735568, 0.2897617302033015 L -0.9569734121969964, 0.2901756163912427 L -0.9568478314402039, 0.29058944830839795 ",
          "type": "path"
         },
         {
          "fillcolor": "#ca6f4c",
          "layer": "below",
          "line": {
           "color": "rgb(175,175,175)",
           "width": 0.5
          },
          "path": "M -0.9617707163204254,0.2738559643836442 Q -0.19987033892630515, -0.0072005289725066 -0.9395711462358601, -0.3423537076782314L -0.9395711462358601, -0.3423537076782314 L -0.9405686475201603, -0.33960362086128637 L -0.9415580994308486, -0.3368506277212026 M -0.9415580994308486,-0.3368506277212026 Q -0.1998742465665967, -0.007091231164988958 -0.9630625980635277, 0.2692776117896329L -0.9630625980635277, 0.2692776117896329 L -0.9624193796722389, 0.2715675562936466 L -0.9617707163204254, 0.2738559643836442 ",
          "type": "path"
         },
         {
          "fillcolor": "#ca6f4c",
          "layer": "below",
          "line": {
           "color": "rgb(175,175,175)",
           "width": 0.5
          },
          "path": "M -0.9588765575336514,0.28382344408525184 Q -0.1988376620853416, -0.021531004074021105 -0.8758956747476562, -0.48250053570783535L -0.8758956747476562, -0.48250053570783535 L -0.8768643946497254, -0.480737801088671 L -0.8778295670639658, -0.4789731215718587 M -0.8778295670639658,-0.4789731215718587 Q -0.19884989871687653, -0.0214176978288504 -0.959690865608056, 0.2810577208839141L -0.959690865608056, 0.2810577208839141 L -0.9592847083068506, 0.28244087595219025 L -0.9588765575336514, 0.28382344408525184 ",
          "type": "path"
         },
         {
          "fillcolor": "#ca6f4c",
          "layer": "below",
          "line": {
           "color": "rgb(175,175,175)",
           "width": 0.5
          },
          "path": "M -0.959690865608056,0.2810577208839141 Q -0.18989640142881195, -0.06276429498040675 -0.6031703061773956, -0.7976124257719828L -0.6031703061773956, -0.7976124257719828 L -0.6052913569551306, -0.796004003253386 L -0.6074081187113075, -0.7943899403464209 M -0.6074081187113075,-0.7943899403464209 Q -0.18994579511061438, -0.06261465419369898 -0.9607375390974102, 0.277458791479117L -0.9607375390974102, 0.277458791479117 L -0.9602158884714993, 0.27925874655396077 L -0.959690865608056, 0.2810577208839141 ",
          "type": "path"
         },
         {
          "fillcolor": "#ca6f4c",
          "layer": "below",
          "line": {
           "color": "rgb(175,175,175)",
           "width": 0.5
          },
          "path": "M -0.9607375390974102,0.277458791479117 Q -0.16523346187961407, -0.11268497271277184 -0.09246511724795063, -0.9957159243942635L -0.09246511724795063, -0.9957159243942635 L -0.0942799618054889, -0.9955457241141441 L -0.09609449310570103, -0.9953722160050271 M -0.09609449310570103,-0.9953722160050271 Q -0.16522769063346862, -0.11269343480403281 -0.9617707163204254, 0.2738559643836442L -0.9617707163204254, 0.2738559643836442 L -0.961255815653774, 0.27565786198074876 L -0.9607375390974102, 0.277458791479117 ",
          "type": "path"
         },
         {
          "fillcolor": "#ca6f4c",
          "layer": "below",
          "line": {
           "color": "rgb(175,175,175)",
           "width": 0.5
          },
          "path": "M -0.9693717970979674,0.24559788067297578 Q -0.15189742247408833, -0.13010446973770093 0.0937462291704747, -0.9955961252015382L 0.0937462291704747, -0.9955961252015382 L 0.08413919002674813, -0.9964540113330081 L 0.07452432331575466, -0.997219196182228 M 0.07452432331575466,-0.997219196182228 Q -0.15227954115861841, -0.12965701425114123 -0.9725771850802639, 0.23258034968876898L -0.9725771850802639, 0.23258034968876898 L -0.9709963060557947, 0.23909448681640824 L -0.9693717970979674, 0.24559788067297578 ",
          "type": "path"
         },
         {
          "fillcolor": "#ca6f4c",
          "layer": "below",
          "line": {
           "color": "rgb(175,175,175)",
           "width": 0.5
          },
          "path": "M -0.9564279365843656,0.29196849508289874 Q -0.11225996934905476, -0.1655225038529483 0.6250296901172503, -0.7806009777549181L 0.6250296901172503, -0.7806009777549181 L 0.6247932233283398, -0.7807902587013898 L 0.6245566992185136, -0.7809794680151809 M 0.6245566992185136,-0.7809794680151809 Q -0.1122743129600772, -0.16551277488261334 -0.956554113772115, 0.29155484462729075L -0.956554113772115, 0.29155484462729075 L -0.9564910475394928, 0.29176167667602243 L -0.9564279365843656, 0.29196849508289874 ",
          "type": "path"
         },
         {
          "fillcolor": "#ca6f4c",
          "layer": "below",
          "line": {
           "color": "rgb(175,175,175)",
           "width": 0.5
          },
          "path": "M -0.9574323435183266,0.2886577689669982 Q -0.07160925952132145, -0.18674076670831152 0.9049540416653744, -0.4255093212533701L 0.9049540416653744, -0.4255093212533701 L 0.9045747825412377, -0.4263149807249007 L 0.9041948061574425, -0.427120302160767 M 0.9041948061574425,-0.427120302160767 Q -0.07164094568882233, -0.18672861296761997 -0.9578474647369905, 0.2872772777247096L -0.9578474647369905, 0.2872772777247096 L -0.9576401528845, 0.28796759814838796 L -0.9574323435183266, 0.2886577689669982 ",
          "type": "path"
         },
         {
          "fillcolor": "#ca6f4c",
          "layer": "below",
          "line": {
           "color": "rgb(175,175,175)",
           "width": 0.5
          },
          "path": "M -0.9566801120580526,0.29114113964294347 Q -0.05614455518824853, -0.19195777901068173 0.9627842244422361, -0.2702712288889848L 0.9627842244422361, -0.2702712288889848 L 0.9626893027387795, -0.27060913952104904 L 0.9625942624380414, -0.27094701681576616 M 0.9625942624380414,-0.27094701681576616 Q -0.05615658671370212, -0.19195425957416642 -0.9568478314402039, 0.29058944830839795L -0.9568478314402039, 0.29058944830839795 L -0.9567640115138105, 0.2908653060645101 L -0.9566801120580526, 0.29114113964294347 ",
          "type": "path"
         },
         {
          "fillcolor": "#ca6f4c",
          "layer": "below",
          "line": {
           "color": "rgb(175,175,175)",
           "width": 0.5
          },
          "path": "M -0.9563437190809562,0.2922442317213552 Q -0.04049938282853963, -0.19585658015626484 0.9938190644291415, -0.11101201366152157L 0.9938190644291415, -0.11101201366152157 L 0.9938017106682823, -0.11116726079559495 L 0.9937843326558532, -0.11132250521687218 M 0.9937843326558532,-0.11132250521687218 Q -0.04050174456122102, -0.1958560917804131 -0.9564279365843656, 0.29196849508289874L -0.9564279365843656, 0.29196849508289874 L -0.9563858377699022, 0.29210636643723176 L -0.9563437190809562, 0.2922442317213552 ",
          "type": "path"
         },
         {
          "fillcolor": "#c45e3a",
          "layer": "below",
          "line": {
           "color": "rgb(175,175,175)",
           "width": 0.5
          },
          "path": "M -0.9795674624871108,0.20111585327010592 Q -0.19981135214673726, 0.008684673470693412 -0.9933231198481934, -0.1153654175871243L -0.9933231198481934, -0.1153654175871243 L -0.9934075506033513, -0.1146361130021869 L -0.9934914458981997, -0.11390674662681063 M -0.9934914458981997,-0.11390674662681063 Q -0.1998106524719352, 0.008700756216533058 -0.9798295584067522, 0.19983502313765947L -0.9798295584067522, 0.19983502313765947 L -0.9796987197620468, 0.20047548103597726 L -0.9795674624871108, 0.20111585327010592 ",
          "type": "path"
         },
         {
          "fillcolor": "#c45e3a",
          "layer": "below",
          "line": {
           "color": "rgb(175,175,175)",
           "width": 0.5
          },
          "path": "M -0.9818969656536133,0.18941580937246755 Q -0.19931781151439687, -0.01650484816989756 -0.9373668812253062, -0.3483436951947641L -0.9373668812253062, -0.3483436951947641 L -0.9384737927721081, -0.3453504600835714 L -0.9395711462358601, -0.3423537076782314 M -0.9395711462358601,-0.3423537076782314 Q -0.19932192762374276, -0.01645506512765781 -0.9829943324793334, 0.18363589603753844L -0.9829943324793334, 0.18363589603753844 L -0.9824498995975235, 0.18652665970529816 L -0.9818969656536133, 0.18941580937246755 ",
          "type": "path"
         },
         {
          "fillcolor": "#c45e3a",
          "layer": "below",
          "line": {
           "color": "rgb(175,175,175)",
           "width": 0.5
          },
          "path": "M -0.9808611902047132,0.19470830888843307 Q -0.19743875957586898, -0.03190511271163624 -0.8696121239968059, -0.49373550996233184L -0.8696121239968059, -0.49373550996233184 L -0.8712459306654433, -0.4908467462445947 L -0.8728701411874102, -0.48795257620333404 M -0.8728701411874102,-0.48795257620333404 Q -0.19745857667867936, -0.03178223554173171 -0.9818969656536133, 0.18941580937246755L -0.9818969656536133, 0.18941580937246755 L -0.9813826456764335, 0.19206275736103479 L -0.9808611902047132, 0.19470830888843307 ",
          "type": "path"
         },
         {
          "fillcolor": "#c45e3a",
          "layer": "below",
          "line": {
           "color": "rgb(175,175,175)",
           "width": 0.5
          },
          "path": "M -0.9872521377464853,0.1591641181767889 Q -0.18503366324099194, -0.07591141855886498 -0.591015673841049, -0.8066600729391599L -0.591015673841049, -0.8066600729391599 L -0.5943965436673321, -0.8041720890930805 L -0.5977669400218059, -0.8016699354578334 M -0.5977669400218059,-0.8016699354578334 Q -0.18509793344503706, -0.07575457104608697 -0.9882964131502759, 0.1525457300428269L -0.9882964131502759, 0.1525457300428269 L -0.98777981858456, 0.15585579872771385 L -0.9872521377464853, 0.1591641181767889 ",
          "type": "path"
         },
         {
          "fillcolor": "#c45e3a",
          "layer": "below",
          "line": {
           "color": "rgb(175,175,175)",
           "width": 0.5
          },
          "path": "M -0.9794357866380312,0.20175613956641072 Q -0.161710163243191, -0.11768527139731853 -0.10920507660750306, -0.9940192408817595L -0.10920507660750306, -0.9940192408817595 L -0.10948382714788366, -0.9939885771944527 L -0.10976256907822249, -0.9939578353377715 M -0.10976256907822249,-0.9939578353377715 Q -0.16170470119551156, -0.11769277637676123 -0.9795674624871108, 0.20111585327010592L -0.9795674624871108, 0.20111585327010592 L -0.9795016768808266, 0.2014360071775868 L -0.9794357866380312, 0.20175613956641072 ",
          "type": "path"
         },
         {
          "fillcolor": "#c45e3a",
          "layer": "below",
          "line": {
           "color": "rgb(175,175,175)",
           "width": 0.5
          },
          "path": "M -0.9861906191471178,0.1656141983835458 Q -0.15351622243741678, -0.12819036410177473 -0.012939886871991392, -0.9999162761590292L -0.012939886871991392, -0.9999162761590292 L -0.017087934182474125, -0.9998539905933143 L -0.021235687406603303, -0.9997744973644652 M -0.021235687406603303,-0.9997744973644652 Q -0.15362898190363322, -0.12805520652926666 -0.9872521377464853, 0.1591641181767889L -0.9872521377464853, 0.1591641181767889 L -0.9867266488585502, 0.16239002565544303 L -0.9861906191471178, 0.1656141983835458 ",
          "type": "path"
         },
         {
          "fillcolor": "#c45e3a",
          "layer": "below",
          "line": {
           "color": "rgb(175,175,175)",
           "width": 0.5
          },
          "path": "M -0.9851431433257403,0.17173522398820804 Q -0.09973925959192481, -0.17335535785217207 0.6436048671725985, -0.7653579391054501L 0.6436048671725985, -0.7653579391054501 L 0.64066373666192, -0.7678215785756388 L 0.6377131757295951, -0.7702739158902335 M 0.6377131757295951,-0.7702739158902335 Q -0.09986606485737506, -0.1732823392325443 -0.9861906191471178, 0.1656141983835458L -0.9861906191471178, 0.1656141983835458 L -0.9856716326977062, 0.16867552429157612 L -0.9851431433257403, 0.17173522398820804 ",
          "type": "path"
         },
         {
          "fillcolor": "#c45e3a",
          "layer": "below",
          "line": {
           "color": "rgb(175,175,175)",
           "width": 0.5
          },
          "path": "M -0.9794028022801411,0.20191619768063904 Q -0.06414502662270989, -0.18943446243905 0.9005880246825713, -0.4346736819711362L 0.9005880246825713, -0.4346736819711362 L 0.9005493150201263, -0.4347538742976093 L 0.9005105982170031, -0.4348340631768115 M 0.9005105982170031,-0.4348340631768115 Q -0.06414641623629114, -0.1894339918917418 -0.9794357866380312, 0.20175613956641072L -0.9794357866380312, 0.20175613956641072 L -0.9794192977287022, 0.2018361692973188 L -0.9794028022801411, 0.20191619768063904 ",
          "type": "path"
         },
         {
          "fillcolor": "#c45e3a",
          "layer": "below",
          "line": {
           "color": "rgb(175,175,175)",
           "width": 0.5
          },
          "path": "M -0.9840576762865121,0.17784962676820631 Q -0.04176151321608786, -0.19559134953750518 0.9708821503523725, -0.23955761337756135L 0.9708821503523725, -0.23955761337756135 L 0.9700779733091077, -0.24279358661318468 L 0.9692630107221245, -0.24602686041544886 M 0.9692630107221245,-0.24602686041544886 Q -0.04180637963000348, -0.19558176454422338 -0.9851431433257403, 0.17173522398820804L -0.9851431433257403, 0.17173522398820804 L -0.9846051561264193, 0.17479326797468328 L -0.9840576762865121, 0.17784962676820631 ",
          "type": "path"
         },
         {
          "fillcolor": "#c45e3a",
          "layer": "below",
          "line": {
           "color": "rgb(175,175,175)",
           "width": 0.5
          },
          "path": "M -0.9803809510071958,0.19711212774009174 Q -0.02996163195697464, -0.19774301659091478 0.9947681274555714, -0.10215856595771128L 0.9947681274555714, -0.10215856595771128 L 0.9946477552284767, -0.10332397117296806 L 0.994526017689399, -0.10448923455966773 M 0.994526017689399,-0.10448923455966773 Q -0.029950942809127835, -0.19774463589398414 -0.9808611902047132, 0.19470830888843307L -0.9808611902047132, 0.19470830888843307 L -0.9806218071726921, 0.19591036546687257 L -0.9803809510071958, 0.19711212774009174 ",
          "type": "path"
         },
         {
          "fillcolor": "#bf4d28",
          "layer": "below",
          "line": {
           "color": "rgb(175,175,175)",
           "width": 0.5
          },
          "path": "M -0.9997777019356857,-0.02108427642105054 Q -0.1981733660191797, -0.02696881533601793 -0.9690541826911268, -0.2468481132373352L -0.9690541826911268, -0.2468481132373352 L -0.9725955260625236, -0.23250364015034894 L -0.9759245469471619, -0.21810841035131306 M -0.9759245469471619,-0.21810841035131306 Q -0.1981782084020687, -0.02693320839681426 -0.9987363749238254, -0.05025587929800988L -0.9987363749238254, -0.05025587929800988 L -0.99936348465161, -0.03567387762763351 L -0.9997777019356857, -0.02108427642105054 ",
          "type": "path"
         },
         {
          "fillcolor": "#bf4d28",
          "layer": "below",
          "line": {
           "color": "rgb(175,175,175)",
           "width": 0.5
          },
          "path": "M -0.9971745040302774,0.07511996080916425 Q -0.19853386206850904, -0.02417241428079187 -0.9500165758670561, -0.312199464409909L -0.9500165758670561, -0.312199464409909 L -0.9501548628080886, -0.3117783454349298 L -0.9502929630774503, -0.3113571652065835 M -0.9502929630774503,-0.3113571652065835 Q -0.19853361944789538, -0.024174406898996623 -0.9972421949789481, 0.07421593193896993L -0.9972421949789481, 0.07421593193896993 L -0.9972084519491214, 0.07466795404480198 L -0.9971745040302774, 0.07511996080916425 ",
          "type": "path"
         },
         {
          "fillcolor": "#bf4d28",
          "layer": "below",
          "line": {
           "color": "rgb(175,175,175)",
           "width": 0.5
          },
          "path": "M -0.9974143556565719,0.07186517327736454 Q -0.19564562154283618, -0.04150651480330905 -0.8823182423966509, -0.4706532897304393L -0.8823182423966509, -0.4706532897304393 L -0.8827438792788999, -0.4698544919394078 L -0.8831687929779337, -0.4690553092225902 M -0.8831687929779337,-0.4690553092225902 Q -0.1956493238816348, -0.04148905957790761 -0.9975302977635154, 0.07023749030135085L -0.9975302977635154, 0.07023749030135085 L -0.9974726587181804, 0.07105135543875615 L -0.9974143556565719, 0.07186517327736454 ",
          "type": "path"
         },
         {
          "fillcolor": "#bf4d28",
          "layer": "below",
          "line": {
           "color": "rgb(175,175,175)",
           "width": 0.5
          },
          "path": "M -0.9993510828325819,0.0360196230039423 Q -0.17914409726594938, -0.08892352003136222 -0.5755481716854094, -0.8177678778660743L -0.5755481716854094, -0.8177678778660743 L -0.5797268482631964, -0.8148108868951254 L -0.5838903330215064, -0.8118325436960718 M -0.5838903330215064,-0.8118325436960718 Q -0.1791962025593149, -0.08881847211206115 -0.9996365521430998, 0.026958553734499093L -0.9996365521430998, 0.026958553734499093 L -0.9995040855046534, 0.031489411863456614 L -0.9993510828325819, 0.0360196230039423 ",
          "type": "path"
         },
         {
          "fillcolor": "#bf4d28",
          "layer": "below",
          "line": {
           "color": "rgb(175,175,175)",
           "width": 0.5
          },
          "path": "M -0.9970783599074731,0.07638549734225517 Q -0.15397180559733992, -0.1276427948655739 -0.10976256907822249, -0.9939578353377715L -0.10976256907822249, -0.9939578353377715 L -0.10997161986245071, -0.9939347276480627 L -0.11018066578195285, -0.9939115759904629 M -0.11018066578195285,-0.9939115759904629 Q -0.15396393691075416, -0.12765228603883802 -0.9971197612083956, 0.07584313949008184L -0.9971197612083956, 0.07584313949008184 L -0.9970990974339137, 0.07611432123112455 L -0.9970783599074731, 0.07638549734225517 ",
          "type": "path"
         },
         {
          "fillcolor": "#bf4d28",
          "layer": "below",
          "line": {
           "color": "rgb(175,175,175)",
           "width": 0.5
          },
          "path": "M -0.9989997629627839,0.044715473835144376 Q -0.1434457695490787, -0.13936753997424442 0.015891282388333212, -0.999873725599415L 0.015891282388333212, -0.999873725599415 L 0.010913513190783163, -0.9999404458415684 L 0.005935473527588857, -0.9999823849218562 M 0.005935473527588857,-0.9999823849218562 Q -0.14353308793574726, -0.13927761007293687 -0.9993510828325819, 0.0360196230039423L -0.9993510828325819, 0.0360196230039423 L -0.9991848828811328, 0.040367930611029425 L -0.9989997629627839, 0.044715473835144376 ",
          "type": "path"
         },
         {
          "fillcolor": "#bf4d28",
          "layer": "below",
          "line": {
           "color": "rgb(175,175,175)",
           "width": 0.5
          },
          "path": "M -0.9987363749238254,-0.05025587929800988 Q -0.054147026104568334, -0.19253077562829066 0.8261307952496486, -0.5634784016625509L 0.8261307952496486, -0.5634784016625509 L 0.8159880594905508, -0.5780687560912157 L 0.805587672620388, -0.5924765832689647 M 0.805587672620388,-0.5924765832689647 Q -0.05449623378350356, -0.19243222314210717 -0.9966244706618085, -0.08209545954600717L -0.9966244706618085, -0.08209545954600717 L -0.997807429187439, -0.06618409369594733 L -0.9987363749238254, -0.05025587929800988 ",
          "type": "path"
         },
         {
          "fillcolor": "#bf4d28",
          "layer": "below",
          "line": {
           "color": "rgb(175,175,175)",
           "width": 0.5
          },
          "path": "M -0.9975302977635154,0.07023749030135085 Q -0.0506039808430265, -0.19349221463107658 0.9041948061574425, -0.427120302160767L 0.9041948061574425, -0.427120302160767 L 0.9038141128152815, -0.4279252849224099 L 0.9034327028166157, -0.4287299283715385 M 0.9034327028166157,-0.4287299283715385 Q -0.05060086630824885, -0.1934930291479637 -0.9976560069960506, 0.06842873449579705L -0.9976560069960506, 0.06842873449579705 L -0.9975935623160486, 0.06933314088930398 L -0.9975302977635154, 0.07023749030135085 ",
          "type": "path"
         },
         {
          "fillcolor": "#bf4d28",
          "layer": "below",
          "line": {
           "color": "rgb(175,175,175)",
           "width": 0.5
          },
          "path": "M -0.9999996966545127,-0.0007789036414128748 Q -0.01630304766121061, -0.19933441909754646 0.9865836700957937, -0.16325642988964975L 0.9865836700957937, -0.16325642988964975 L 0.984931615437613, -0.1729442479860315 L 0.9831844330267242, -0.18261536259011393 M 0.9831844330267242,-0.18261536259011393 Q -0.01623811207377334, -0.1993397193644046 -0.9997777019356857, -0.02108427642105054L -0.9997777019356857, -0.02108427642105054 L -0.9999402422239917, -0.010932153540118528 L -0.9999996966545127, -0.0007789036414128748 ",
          "type": "path"
         },
         {
          "fillcolor": "#bf4d28",
          "layer": "below",
          "line": {
           "color": "rgb(175,175,175)",
           "width": 0.5
          },
          "path": "M -0.9996365521430998,0.026958553734499093 Q -0.008537682368989045, -0.19981768685420784 0.9982928133507494, -0.0584076948033891L 0.9982928133507494, -0.0584076948033891 L 0.9980081287924054, -0.0630854568365919 L 0.9977015254776016, -0.06776183335526453 M 0.9977015254776016,-0.06776183335526453 Q -0.008387229935014954, -0.19982405854655538 -0.999870669655424, 0.016082411598201656L -0.999870669655424, 0.016082411598201656 L -0.9997684007424193, 0.021520801029354858 L -0.9996365521430998, 0.026958553734499093 ",
          "type": "path"
         },
         {
          "fillcolor": "#af4624",
          "layer": "below",
          "line": {
           "color": "rgb(175,175,175)",
           "width": 0.5
          },
          "path": "M -0.9928272540280997,-0.1195577001243464 Q -0.19501538514610295, -0.04437341046524512 -0.9468130472382666, -0.3217841723568577L -0.9468130472382666, -0.3217841723568577 L -0.9472400959155256, -0.3205248831057362 L -0.9476654697018005, -0.31926502710892984 M -0.9476654697018005,-0.31926502710892984 Q -0.19501330604727884, -0.044382546845695516 -0.9924943304093184, -0.12229065420284002L -0.9924943304093184, -0.12229065420284002 L -0.9926617327507764, -0.12092429173754156 L -0.9928272540280997, -0.1195577001243464 ",
          "type": "path"
         },
         {
          "fillcolor": "#af4624",
          "layer": "below",
          "line": {
           "color": "rgb(175,175,175)",
           "width": 0.5
          },
          "path": "M -0.9924943304093184,-0.12229065420284002 Q -0.19050746590969164, -0.06088436115019753 -0.879462207638324, -0.4759687230647889L -0.879462207638324, -0.4759687230647889 L -0.880226952250745, -0.4745529607234209 L -0.8809894177642875, -0.4731359696613033 M -0.8809894177642875,-0.4731359696613033 Q -0.19051603371332748, -0.06085754594248991 -0.9921309199452637, -0.12520478300993426L -0.9921309199452637, -0.12520478300993426 L -0.992313694918559, -0.12374785200995177 L -0.9924943304093184, -0.12229065420284002 ",
          "type": "path"
         },
         {
          "fillcolor": "#af4624",
          "layer": "below",
          "line": {
           "color": "rgb(175,175,175)",
           "width": 0.5
          },
          "path": "M -0.9890517300368269,-0.14756922209986667 Q -0.17074520473958352, -0.10414449125343937 -0.5838903330215064, -0.8118325436960718L -0.5838903330215064, -0.8118325436960718 L -0.5874586962960558, -0.8092541505275944 L -0.591015673841049, -0.8066600729391599 M -0.591015673841049,-0.8066600729391599 Q -0.1707927011069376, -0.10406658084417053 -0.987856264930665, -0.1553705243514218L -0.987856264930665, -0.1553705243514218 L -0.9884616938560655, -0.1514710526113746 L -0.9890517300368269, -0.14756922209986667 ",
          "type": "path"
         },
         {
          "fillcolor": "#af4624",
          "layer": "below",
          "line": {
           "color": "rgb(175,175,175)",
           "width": 0.5
          },
          "path": "M -0.9935540159462942,-0.11335968153179916 Q -0.14119496756203806, -0.14164738308615174 -0.11018066578195285, -0.9939115759904629L -0.11018066578195285, -0.9939115759904629 L -0.11038970682748149, -0.993888380365996 L -0.11059874298978944, -0.9938651407756882 M -0.11059874298978944,-0.9938651407756882 Q -0.14118576134411667, -0.1416565593034157 -0.9934914458981997, -0.11390674662681063L -0.9934914458981997, -0.11390674662681063 L -0.9935227685761681, -0.1136332183859364 L -0.9935540159462942, -0.11335968153179916 ",
          "type": "path"
         },
         {
          "fillcolor": "#af4624",
          "layer": "below",
          "line": {
           "color": "rgb(175,175,175)",
           "width": 0.5
          },
          "path": "M -0.987856264930665,-0.1553705243514218 Q -0.13026110660510437, -0.1517631183984226 -0.0038134994136946048, -0.9999927285846741L -0.0038134994136946048, -0.9999927285846741 L -0.008376780363164577, -0.9999649141598655 L -0.012939886871991392, -0.9999162761590292 M -0.012939886871991392,-0.9999162761590292 Q -0.1303408255855156, -0.1516946577361451 -0.9865693027636958, -0.16334323017607788L -0.9865693027636958, -0.16334323017607788 L -0.9872208322360511, -0.1593581764427502 L -0.987856264930665, -0.1553705243514218 ",
          "type": "path"
         },
         {
          "fillcolor": "#af4624",
          "layer": "below",
          "line": {
           "color": "rgb(175,175,175)",
           "width": 0.5
          },
          "path": "M -0.9690541826911268,-0.2468481132373352 Q -0.030894963560706503, -0.19759934520787922 0.8474579099182318, -0.5308625913708953L 0.8474579099182318, -0.5308625913708953 L 0.8369532461772408, -0.5472743952656465 L 0.8261307952496486, -0.5634784016625509 M 0.8261307952496486,-0.5634784016625509 Q -0.031245474526349116, -0.19754422371110544 -0.9597037220574304, -0.28101381793270325L -0.9597037220574304, -0.28101381793270325 L -0.9645302419451884, -0.26397237047304056 L -0.9690541826911268, -0.2468481132373352 ",
          "type": "path"
         },
         {
          "fillcolor": "#af4624",
          "layer": "below",
          "line": {
           "color": "rgb(175,175,175)",
           "width": 0.5
          },
          "path": "M -0.9933231198481934,-0.1153654175871243 Q -0.03260024596429699, -0.1973251731611234 0.9034327028166157, -0.4287299283715385L 0.9034327028166157, -0.4287299283715385 L 0.9030505764638747, -0.42953423187013134 L 0.9026677340600556, -0.4303381947804363 M 0.9026677340600556,-0.4303381947804363 Q -0.03259486760872627, -0.19732606164815028 -0.993109700620811, -0.11718840613662732L -0.993109700620811, -0.11718840613662732 L -0.9932168284825443, -0.11627696082662309 L -0.9933231198481934, -0.1153654175871243 ",
          "type": "path"
         },
         {
          "fillcolor": "#af4624",
          "layer": "below",
          "line": {
           "color": "rgb(175,175,175)",
           "width": 0.5
          },
          "path": "M -0.9830032580075679,-0.18358811166986522 Q 9.894772153633604e-05, -0.1999999755233695 0.9831844330267242, -0.18261536259011393L 0.9831844330267242, -0.18261536259011393 L 0.9816782021010086, -0.19054633956004313 L 0.9801079960635735, -0.19846489879131313 M 0.9801079960635735,-0.19846489879131313 Q 0.00017299915712700077, -0.19999992517821508 -0.9797631869215999, -0.20016017973920297L -0.9797631869215999, -0.20016017973920297 L -0.9814182022435669, -0.19188098474055532 L -0.9830032580075679, -0.18358811166986522 ",
          "type": "path"
         },
         {
          "fillcolor": "#af4624",
          "layer": "below",
          "line": {
           "color": "rgb(175,175,175)",
           "width": 0.5
          },
          "path": "M -0.9850919625774435,-0.1720285594467403 Q 0.012436501664282451, -0.19961295906417076 0.9988268548906513, -0.04842431155163518L 0.9988268548906513, -0.04842431155163518 L 0.9985723105035751, -0.053416670577185216 L 0.9982928133507494, -0.0584076948033891 M 0.9982928133507494,-0.0584076948033891 Q 0.01261106945086624, -0.19960200632084196 -0.9830032580075679, -0.18358811166986522L -0.9830032580075679, -0.18358811166986522 L -0.9840645838227748, -0.1778114025188178 L -0.9850919625774435, -0.1720285594467403 ",
          "type": "path"
         },
         {
          "fillcolor": "#9f4021",
          "layer": "below",
          "line": {
           "color": "rgb(175,175,175)",
           "width": 0.5
          },
          "path": "M -0.9234787109801116,-0.38364967140154255 Q -0.17568817403299863, -0.09557021243541725 -0.8238259954314942, -0.5668427729549947L -0.8238259954314942, -0.5668427729549947 L -0.8291477463548884, -0.5590295293762303 L -0.8343953981615903, -0.5511663265537557 M -0.8343953981615903,-0.5511663265537557 Q -0.17579515197290285, -0.09537329051062457 -0.9169568771044462, -0.3989863224859489L -0.9169568771044462, -0.3989863224859489 L -0.9202497441937483, -0.3913315835852517 L -0.9234787109801116, -0.38364967140154255 ",
          "type": "path"
         },
         {
          "fillcolor": "#9f4021",
          "layer": "below",
          "line": {
           "color": "rgb(175,175,175)",
           "width": 0.5
          },
          "path": "M -0.9332266140767876,-0.3592883059310093 Q -0.1552927907090311, -0.12603233376320963 -0.5436490476820774, -0.839312643151746L -0.5436490476820774, -0.839312643151746 L -0.5499922424805288, -0.8351697631088181 L -0.5563038679578419, -0.8309789446761837 M -0.5563038679578419,-0.8309789446761837 Q -0.1554207934407742, -0.12587444921921287 -0.9284325689330155, -0.3715009622389172L -0.9284325689330155, -0.3715009622389172 L -0.9308496203279591, -0.3654024963451869 L -0.9332266140767876, -0.3592883059310093 ",
          "type": "path"
         },
         {
          "fillcolor": "#9f4021",
          "layer": "below",
          "line": {
           "color": "rgb(175,175,175)",
           "width": 0.5
          },
          "path": "M -0.9468130472382666,-0.3217841723568577 Q -0.12461336890561135, -0.15643371851999818 -0.10195461226187973, -0.9947890515272722L -0.10195461226187973, -0.9947890515272722 L -0.10320989897664436, -0.9946595984321626 L -0.10446502132935175, -0.9945285613388175 M -0.10446502132935175,-0.9945285613388175 Q -0.12456115516811282, -0.15647529716599143 -0.9457813013823417, -0.324804140914989L -0.9457813013823417, -0.324804140914989 L -0.9462983790328445, -0.3232945682188472 L -0.9468130472382666, -0.3217841723568577 ",
          "type": "path"
         },
         {
          "fillcolor": "#9f4021",
          "layer": "below",
          "line": {
           "color": "rgb(175,175,175)",
           "width": 0.5
          },
          "path": "M -0.9082612917315082,-0.41840342486912335 Q -0.09737487431686498, -0.17469440131777192 0.12179089375897313, -0.9925557808996885L 0.12179089375897313, -0.9925557808996885 L 0.10777928262678511, -0.99417484691399 L 0.0937462291704747, -0.9955961252015382 M 0.0937462291704747,-0.9955961252015382 Q -0.09773257445689851, -0.1744945382813651 -0.8979095246815334, -0.4401800603005351L -0.8979095246815334, -0.4401800603005351 L -0.9031510449411088, -0.4293229437402377 L -0.9082612917315082, -0.41840342486912335 ",
          "type": "path"
         },
         {
          "fillcolor": "#9f4021",
          "layer": "below",
          "line": {
           "color": "rgb(175,175,175)",
           "width": 0.5
          },
          "path": "M -0.9433952720840547,-0.3316705603599036 Q -0.053461616839946303, -0.19272222374406844 0.6377131757295951, -0.7702739158902335L 0.6377131757295951, -0.7702739158902335 L 0.635299184716607, -0.7722661108053457 L 0.6328789701900717, -0.7742507404524418 M 0.6328789701900717,-0.7742507404524418 Q -0.053535190617587707, -0.1927017990718783 -0.9415580994308486, -0.3368506277212026L -0.9415580994308486, -0.3368506277212026 L -0.9424802446050619, -0.3342618562282913 L -0.9433952720840547, -0.3316705603599036 ",
          "type": "path"
         },
         {
          "fillcolor": "#9f4021",
          "layer": "below",
          "line": {
           "color": "rgb(175,175,175)",
           "width": 0.5
          },
          "path": "M -0.9500165758670561,-0.312199464409909 Q -0.012851810219949035, -0.1995866502902196 0.9021305523069943, -0.43146316945282526L 0.9021305523069943, -0.43146316945282526 L 0.9018999023140122, -0.4319450962865249 L 0.9016689948710944, -0.4324268998202475 M 0.9016689948710944,-0.4324268998202475 Q -0.012852286466987814, -0.1995866196230862 -0.9496839257508145, -0.31320989954106077L -0.9496839257508145, -0.31320989954106077 L -0.9498503851694676, -0.3127047262089495 L -0.9500165758670561, -0.312199464409909 ",
          "type": "path"
         },
         {
          "fillcolor": "#9f4021",
          "layer": "below",
          "line": {
           "color": "rgb(175,175,175)",
           "width": 0.5
          },
          "path": "M -0.949071276252953,-0.31506144256571783 Q 0.0053509077030267456, -0.19992840665286585 0.9645651878592538, -0.26384464817396314L 0.9645651878592538, -0.26384464817396314 L 0.9642868329699075, -0.26486015887797415 L 0.9640074089338663, -0.26587537592002297 M 0.9640074089338663,-0.26587537592002297 Q 0.005353069847816943, -0.19992834877326526 -0.9483988144183724, -0.31707994072445794L -0.9483988144183724, -0.31707994072445794 L -0.9487355821469785, -0.3160708704835576 L -0.949071276252953, -0.31506144256571783 ",
          "type": "path"
         },
         {
          "fillcolor": "#9f4021",
          "layer": "below",
          "line": {
           "color": "rgb(175,175,175)",
           "width": 0.5
          },
          "path": "M -0.9446236201719371,-0.328155780405075 Q 0.023475157248016056, -0.19861751431377073 0.9950979048324291, -0.0988946904444816L 0.9950979048324291, -0.0988946904444816 L 0.9949343545351316, -0.10052676343024801 L 0.9947681274555714, -0.10215856595771128 M 0.9947681274555714,-0.10215856595771128 Q 0.023519125375637325, -0.1986123126635533 -0.9433952720840547, -0.3316705603599036L -0.9433952720840547, -0.3316705603599036 L -0.9440110819256405, -0.32991374206234825 L -0.9446236201719371, -0.328155780405075 ",
          "type": "path"
         },
         {
          "fillcolor": "#8f391e",
          "layer": "below",
          "line": {
           "color": "rgb(175,175,175)",
           "width": 0.5
          },
          "path": "M -0.8004834873634005,-0.599354808488702 Q -0.11761618326663237, -0.16176041986156547 -0.32334912947395156, -0.946279736900478L -0.32334912947395156, -0.946279736900478 L -0.35780795509606883, -0.9337951955701901 L -0.39178614643929305, -0.9200563110257158 M -0.39178614643929305,-0.9200563110257158 Q -0.11772114792751354, -0.16168404785453783 -0.7552883865317765, -0.6553925946867464L -0.7552883865317765, -0.6553925946867464 L -0.7783903835938122, -0.6277805434454607 L -0.8004834873634005, -0.599354808488702 ",
          "type": "path"
         },
         {
          "fillcolor": "#8f391e",
          "layer": "below",
          "line": {
           "color": "rgb(175,175,175)",
           "width": 0.5
          },
          "path": "M -0.8696121239968059,-0.49373550996233184 Q -0.10725290973360364, -0.16880999186563417 -0.07751643185705626, -0.9969910745799836L -0.07751643185705626, -0.9969910745799836 L -0.0803818870909484, -0.996764140721213 L -0.08324667818294845, -0.9965289712655145 M -0.08324667818294845,-0.9965289712655145 Q -0.10704199893985927, -0.16894380859611036 -0.8655109306466334, -0.500890036765754L -0.8655109306466334, -0.500890036765754 L -0.8675689024522721, -0.49731700101420206 L -0.8696121239968059, -0.49373550996233184 ",
          "type": "path"
         },
         {
          "fillcolor": "#8f391e",
          "layer": "below",
          "line": {
           "color": "rgb(175,175,175)",
           "width": 0.5
          },
          "path": "M -0.7552883865317765,-0.6553925946867464 Q -0.044301007738249625, -0.195031845382685 0.398039602582498, -0.9173682329228362L 0.398039602582498, -0.9173682329228362 L 0.3616822471787974, -0.9323014276915462 L 0.32476614420749855, -0.9457943495161061 M 0.32476614420749855,-0.9457943495161061 Q -0.044533364431675125, -0.1949789205334659 -0.7031818002938438, -0.7110100953822729L -0.7031818002938438, -0.7110100953822729 L -0.7297651321217627, -0.6836979244807652 L -0.7552883865317765, -0.6553925946867464 ",
          "type": "path"
         },
         {
          "fillcolor": "#8f391e",
          "layer": "below",
          "line": {
           "color": "rgb(175,175,175)",
           "width": 0.5
          },
          "path": "M -0.8655109306466334,-0.500890036765754 Q -0.03344871104643917, -0.19718312232372176 0.6519120001966745, -0.7582946287555854L 0.6519120001966745, -0.7582946287555854 L 0.6477680611128094, -0.7618376067129737 L 0.6436048671725985, -0.7653579391054501 M 0.6436048671725985,-0.7653579391054501 Q -0.03345291799864712, -0.19718240864077047 -0.8600195900089015, -0.5102610163444989L -0.8600195900089015, -0.5102610163444989 L -0.862777983170066, -0.5055829820682193 L -0.8655109306466334, -0.500890036765754 ",
          "type": "path"
         },
         {
          "fillcolor": "#8f391e",
          "layer": "below",
          "line": {
           "color": "rgb(175,175,175)",
           "width": 0.5
          },
          "path": "M -0.8758956747476562,-0.48250053570783535 Q 0.007429495764089024, -0.19986195884332614 0.9093009310408064, -0.41613917961220925L 0.9093009310408064, -0.41613917961220925 L 0.9081487425166133, -0.4186476579004045 L 0.9069896338974422, -0.4211529460927274 M 0.9069896338974422,-0.4211529460927274 Q 0.007500886858034669, -0.19985929224417603 -0.8728701411874102, -0.48795257620333404L -0.8728701411874102, -0.48795257620333404 L -0.8743871573463042, -0.485228914088855 L -0.8758956747476562, -0.48250053570783535 ",
          "type": "path"
         },
         {
          "fillcolor": "#8f391e",
          "layer": "below",
          "line": {
           "color": "rgb(175,175,175)",
           "width": 0.5
          },
          "path": "M -0.8836400707089727,-0.4681668777662959 Q 0.021173888232033266, -0.19887600774637793 0.9624038260915697, -0.2716226712266625L 0.9624038260915697, -0.2716226712266625 L 0.962356142899963, -0.2717915639285112 L 0.9623084300692968, -0.27196044825960525 M 0.9623084300692968,-0.27196044825960525 Q 0.021178988055522617, -0.1988754647133327 -0.8834516668369072, -0.4685223072203609L -0.8834516668369072, -0.4685223072203609 L -0.8835458866455399, -0.4683446019671272 L -0.8836400707089727, -0.4681668777662959 ",
          "type": "path"
         },
         {
          "fillcolor": "#8f391e",
          "layer": "below",
          "line": {
           "color": "rgb(175,175,175)",
           "width": 0.5
          },
          "path": "M -0.8834516668369072,-0.4685223072203609 Q 0.037492573744868675, -0.19645433798719128 0.9939054694450884, -0.11023573743182584L 0.9939054694450884, -0.11023573743182584 L 0.9938796116049273, -0.11046862738369978 L 0.993853699194457, -0.11070151127014376 M 0.993853699194457,-0.11070151127014376 Q 0.03750581194576423, -0.1964518110639069 -0.8831687929779337, -0.4690553092225902L -0.8831687929779337, -0.4690553092225902 L -0.8833102701100467, -0.46878882955774065 L -0.8834516668369072, -0.4685223072203609 ",
          "type": "path"
         },
         {
          "fillcolor": "#f0f3e7",
          "layer": "below",
          "line": {
           "color": "rgb(175,175,175)",
           "width": 0.5
          },
          "path": "M -0.5663021482235479,-0.8241977171270222 Q -0.06531020855429806, -0.18903591367407968 -0.0632499901651619, -0.9979977147990404L -0.0632499901651619, -0.9979977147990404 L -0.06737752761601155, -0.9977275523770773 L -0.07150391226747185, -0.9974403192825352 M -0.07150391226747185,-0.9974403192825352 Q -0.06495013457624796, -0.18915993238137743 -0.5563038679578419, -0.8309789446761837L -0.5563038679578419, -0.8309789446761837 L -0.5613132486886722, -0.8276034296972004 L -0.5663021482235479, -0.8241977171270222 ",
          "type": "path"
         },
         {
          "fillcolor": "#f0f3e7",
          "layer": "below",
          "line": {
           "color": "rgb(175,175,175)",
           "width": 0.5
          },
          "path": "M -0.32334912947395156,-0.946279736900478 Q 0.017406312015103505, -0.19924111097369657 0.4825381297575364, -0.8758749644384745L 0.4825381297575364, -0.8758749644384745 L 0.44077739110083464, -0.8976164501023485 L 0.398039602582498, -0.9173682329228362 M 0.398039602582498,-0.9173682329228362 Q 0.017285918451659357, -0.19925159227289146 -0.23411070277274654, -0.9722099458693326L -0.23411070277274654, -0.9722099458693326 L -0.27903128870508687, -0.9602820106216603 L -0.32334912947395156, -0.946279736900478 ",
          "type": "path"
         },
         {
          "fillcolor": "#f0f3e7",
          "layer": "below",
          "line": {
           "color": "rgb(175,175,175)",
           "width": 0.5
          },
          "path": "M -0.4900271420305955,-0.8717071756463444 Q 0.035262371373197404, -0.19686687168017558 0.7621305453579096, -0.647423379121001L 0.7621305453579096, -0.647423379121001 L 0.7521054750523377, -0.6590427561215565 L 0.7419032749148318, -0.6705069206731931 M 0.7419032749148318,-0.6705069206731931 Q 0.0353047985853386, -0.19685926749037921 -0.4626630650727373, -0.8865342002525904L -0.4626630650727373, -0.8865342002525904 L -0.4764027894988819, -0.8792271504893852 L -0.4900271420305955, -0.8717071756463444 ",
          "type": "path"
         },
         {
          "fillcolor": "#f0f3e7",
          "layer": "below",
          "line": {
           "color": "rgb(175,175,175)",
           "width": 0.5
          },
          "path": "M -0.5436490476820774,-0.839312643151746 Q 0.05983020376773804, -0.19084115572148203 0.9255116183333711, -0.37871921568616534L 0.9255116183333711, -0.37871921568616534 L 0.9227559600451709, -0.38538479238433226 L 0.9199522967020084, -0.39203031999157906 M 0.9199522967020084,-0.39203031999157906 Q 0.06003631371763538, -0.19077641634960457 -0.5296541672659686, -0.8482136895251063L -0.5296541672659686, -0.8482136895251063 L -0.5366700615472114, -0.8437921811909094 L -0.5436490476820774, -0.839312643151746 ",
          "type": "path"
         },
         {
          "fillcolor": "#f0f3e7",
          "layer": "below",
          "line": {
           "color": "rgb(175,175,175)",
           "width": 0.5
          },
          "path": "M -0.6114667043511255,-0.7912701621254103 Q 0.0642526007736193, -0.18939800234909 0.9667086102178662, -0.2558797821842155L 0.9667086102178662, -0.2558797821842155 L 0.9661449649433559, -0.2579998192142808 L 0.9655766703348354, -0.26011861468394093 M 0.9655766703348354,-0.26011861468394093 Q 0.06432189058145278, -0.1893744818924335 -0.6074081187113075, -0.7943899403464209L -0.6074081187113075, -0.7943899403464209 L -0.6094394078396198, -0.7928326482758474 L -0.6114667043511255, -0.7912701621254103 ",
          "type": "path"
         },
         {
          "fillcolor": "#f0f3e7",
          "layer": "below",
          "line": {
           "color": "rgb(175,175,175)",
           "width": 0.5
          },
          "path": "M -0.6031703061773956,-0.7976124257719828 Q 0.08144229689921678, -0.18266677934364484 0.9964295761605437, -0.08442807443332634L 0.9964295761605437, -0.08442807443332634 L 0.9962086503968308, -0.08699611988200921 L 0.9959811061559574, -0.08956358735756141 M 0.9959811061559574,-0.08956358735756141 Q 0.0815886004975341, -0.1826014793720297 -0.5977669400218059, -0.8016699354578334L -0.5977669400218059, -0.8016699354578334 L -0.600472050284893, -0.7996457445810969 L -0.6031703061773956, -0.7976124257719828 ",
          "type": "path"
         },
         {
          "fillcolor": "#e2ecde",
          "layer": "below",
          "line": {
           "color": "rgb(175,175,175)",
           "width": 0.5
          },
          "path": "M -0.0632499901651619,-0.9979977147990404 Q -0.0023130942194758857, -0.19998662354050542 0.04014998601380044, -0.999193664222853L 0.04014998601380044, -0.999193664222853 L 0.03320590814263214, -0.9994485317736092 L 0.026260226918380716, -0.9996551407771558 M 0.026260226918380716,-0.9996551407771558 Q -0.0027633640351940434, -0.19998090863682214 -0.053871674252923836, -0.9985478670114852L -0.053871674252923836, -0.9985478670114852 L -0.05856147825900476, -0.9982838039676494 L -0.0632499901651619, -0.9979977147990404 ",
          "type": "path"
         },
         {
          "fillcolor": "#e2ecde",
          "layer": "below",
          "line": {
           "color": "rgb(175,175,175)",
           "width": 0.5
          },
          "path": "M -0.10195461226187973,-0.9947890515272722 Q 0.05691019898513303, -0.19173218105334475 0.6281770927165506, -0.778070395392462L 0.6281770927165506, -0.778070395392462 L 0.6266046689077054, -0.7793372754482265 L 0.6250296901172503, -0.7806009777549181 M 0.6250296901172503,-0.7806009777549181 Q 0.05679186588518789, -0.19176726511393657 -0.09916450784565296, -0.9950710529322665L -0.09916450784565296, -0.9950710529322665 L -0.10055965890656678, -0.9949310302732521 L -0.10195461226187973, -0.9947890515272722 ",
          "type": "path"
         },
         {
          "fillcolor": "#e2ecde",
          "layer": "below",
          "line": {
           "color": "rgb(175,175,175)",
           "width": 0.5
          },
          "path": "M -0.10920507660750306,-0.9940192408817595 Q 0.09733032983122736, -0.1747192230263874 0.9026677340600556, -0.4303381947804363L 0.9026677340600556, -0.4303381947804363 L 0.9023993184895274, -0.43090076582623593 L 0.9021305523069943, -0.43146316945282526 M 0.9021305523069943,-0.43146316945282526 Q 0.09730716676608, -0.1747321243960546 -0.10822938222859915, -0.9941259481687498L -0.10822938222859915, -0.9941259481687498 L -0.10871724250986288, -0.9940727142322395 L -0.10920507660750306, -0.9940192408817595 ",
          "type": "path"
         },
         {
          "fillcolor": "#e2ecde",
          "layer": "below",
          "line": {
           "color": "rgb(175,175,175)",
           "width": 0.5
          },
          "path": "M -0.10822938222859915,-0.9941259481687498 Q 0.11237014403177381, -0.16544772809041053 0.9640074089338663, -0.26587537592002297L 0.9640074089338663, -0.26587537592002297 L 0.9637737390846944, -0.2667211649845344 L 0.9635393271675813, -0.2675667486842203 M 0.9635393271675813,-0.2675667486842203 Q 0.11234095829556104, -0.16546754693665772 -0.10683535248183663, -0.9942767257962352L -0.10683535248183663, -0.9942767257962352 L -0.107532393782017, -0.9942015813141263 L -0.10822938222859915, -0.9941259481687498 ",
          "type": "path"
         },
         {
          "fillcolor": "#e2ecde",
          "layer": "below",
          "line": {
           "color": "rgb(175,175,175)",
           "width": 0.5
          },
          "path": "M -0.11087745026076389,-0.9938340862657468 Q 0.12483393984273677, -0.15625775969000702 0.9937843326558532, -0.11132250521687218L 0.9937843326558532, -0.11132250521687218 L 0.9937669303922784, -0.11147774692156572 L 0.9937495038779822, -0.11163298590588812 M 0.9937495038779822,-0.11163298590588812 Q 0.1248314400118658, -0.1562597567659823 -0.11059874298978944, -0.9938651407756882L -0.11059874298978944, -0.9938651407756882 L -0.11073809771386159, -0.9938496232905234 L -0.11087745026076389, -0.9938340862657468 ",
          "type": "path"
         },
         {
          "fillcolor": "#d4e5d6",
          "layer": "below",
          "line": {
           "color": "rgb(175,175,175)",
           "width": 0.5
          },
          "path": "M 0.15322418945264066,-0.9881914529920715 Q 0.10068872332585486, -0.17280561621373727 0.7841524879536177, -0.620568187741002L 0.7841524879536177, -0.620568187741002 L 0.7732581102728819, -0.6340913931738953 L 0.7621305453579096, -0.647423379121001 M 0.7621305453579096,-0.647423379121001 Q 0.10077041364668163, -0.17275799180783702 0.1883751612584291, -0.9820971431690761L 0.1883751612584291, -0.9820971431690761 L 0.17082685460609165, -0.9853010635056624 L 0.15322418945264066, -0.9881914529920715 ",
          "type": "path"
         },
         {
          "fillcolor": "#d4e5d6",
          "layer": "below",
          "line": {
           "color": "rgb(175,175,175)",
           "width": 0.5
          },
          "path": "M 0.05631019974651602,-0.9984133219286027 Q 0.11737570682061463, -0.16193499760200425 0.931333062564111, -0.36416854144057215L 0.931333062564111, -0.36416854144057215 L 0.9284508456426589, -0.37145528294187924 L 0.9255116183333711, -0.37871921568616534 M 0.9255116183333711,-0.37871921568616534 Q 0.11758461253342989, -0.16178337026827933 0.07452432331575466, -0.997219196182228L 0.07452432331575466, -0.997219196182228 L 0.06541998616865873, -0.9978578182334858 L 0.05631019974651602, -0.9984133219286027 ",
          "type": "path"
         },
         {
          "fillcolor": "#d4e5d6",
          "layer": "below",
          "line": {
           "color": "rgb(175,175,175)",
           "width": 0.5
          },
          "path": "M -0.022479945355006567,-0.9997472940982816 Q 0.11909332670337712, -0.1606760079623672 0.9630682778520538, -0.2692572973850089L 0.9630682778520538, -0.2692572973850089 L 0.9629263846019426, -0.26976430052442407 L 0.9627842244422361, -0.2702712288889848 M 0.9627842244422361,-0.2702712288889848 Q 0.11910871782998711, -0.16066459889128193 -0.021235687406603303, -0.9997744973644652L -0.021235687406603303, -0.9997744973644652 L -0.02185782061280188, -0.999761089299868 L -0.022479945355006567, -0.9997472940982816 ",
          "type": "path"
         },
         {
          "fillcolor": "#d4e5d6",
          "layer": "below",
          "line": {
           "color": "rgb(175,175,175)",
           "width": 0.5
          },
          "path": "M -0.0038134994136946048,-0.9999927285846741 Q 0.1355793787103791, -0.1470313982403337 0.9970225899949624, -0.07711001906196864L 0.9970225899949624, -0.07711001906196864 L 0.9967327992853071, -0.08076959099113737 L 0.9964295761605437, -0.08442807443332634 M 0.9964295761605437,-0.08442807443332634 Q 0.13575622962834588, -0.14686812491856707 0.005935473527588857, -0.9999823849218562L 0.005935473527588857, -0.9999823849218562 L 0.0010609996620397698, -0.9999994371397002 L -0.0038134994136946048, -0.9999927285846741 ",
          "type": "path"
         },
         {
          "fillcolor": "#c6decd",
          "layer": "below",
          "line": {
           "color": "rgb(175,175,175)",
           "width": 0.5
          },
          "path": "M 0.6699434584356636,-0.7424121244290548 Q 0.1628046658141483, -0.11616643572540007 0.9199522967020084, -0.39203031999157906L 0.9199522967020084, -0.39203031999157906 L 0.9175262361159584, -0.39767525198191866 L 0.9150655379720647, -0.4033051713230267 M 0.9150655379720647,-0.4033051713230267 Q 0.1629001378560875, -0.11603251736676097 0.6802221630913152, -0.7330060087334702L 0.6802221630913152, -0.7330060087334702 L 0.6750991928164727, -0.7377269683687503 L 0.6699434584356636, -0.7424121244290548 ",
          "type": "path"
         },
         {
          "fillcolor": "#c6decd",
          "layer": "below",
          "line": {
           "color": "rgb(175,175,175)",
           "width": 0.5
          },
          "path": "M 0.7086927749582033,-0.7055172221300069 Q 0.1789239011869522, -0.08936575173992423 0.9897526716607724, -0.14279232801647018L 0.9897526716607724, -0.14279232801647018 L 0.9882211436734698, -0.15303258214086116 L 0.9865836700957937, -0.16325642988964975 M 0.9865836700957937,-0.16325642988964975 Q 0.1790630560632167, -0.08908659805661748 0.725300750983004, -0.6884321467098194L 0.725300750983004, -0.6884321467098194 L 0.7170476504813693, -0.6970241509009197 L 0.7086927749582033, -0.7055172221300069 ",
          "type": "path"
         },
         {
          "fillcolor": "#c6decd",
          "layer": "below",
          "line": {
           "color": "rgb(175,175,175)",
           "width": 0.5
          },
          "path": "M 0.6929938102434499,-0.7209435338251293 Q 0.18275702317455572, -0.08123958690426057 0.9995065603657314, -0.031410759078132795L 0.9995065603657314, -0.031410759078132795 L 0.9992029197688034, -0.03991898201981388 L 0.9988268548906513, -0.04842431155163518 M 0.9988268548906513,-0.04842431155163518 Q 0.18295885820182428, -0.0807840095902943 0.7086927749582033, -0.7055172221300069L 0.7086927749582033, -0.7055172221300069 L 0.7008857350215487, -0.7132735705487084 L 0.6929938102434499, -0.7209435338251293 ",
          "type": "path"
         },
         {
          "fillcolor": "#b8d7c5",
          "layer": "below",
          "line": {
           "color": "rgb(175,175,175)",
           "width": 0.5
          },
          "path": "M 0.9005880246825713,-0.4346736819711362 Q 0.18703621723941322, -0.07083398506911094 0.9625942624380414, -0.27094701681576616L 0.9625942624380414, -0.27094701681576616 L 0.9624991035517304, -0.27128486073151103 L 0.9624038260915697, -0.2716226712266625 M 0.9624038260915697,-0.2716226712266625 Q 0.1870365852650287, -0.070833013294633 0.9008974448808982, -0.43403201933390695L 0.9008974448808982, -0.43403201933390695 L 0.9007427919194322, -0.43435287820525204 L 0.9005880246825713, -0.4346736819711362 ",
          "type": "path"
         },
         {
          "fillcolor": "#b8d7c5",
          "layer": "below",
          "line": {
           "color": "rgb(175,175,175)",
           "width": 0.5
          },
          "path": "M 0.9008974448808982,-0.43403201933390695 Q 0.19224855327837798, -0.05514067248747223 0.9939912681085177, -0.10945939395054635L 0.9939912681085177, -0.10945939395054635 L 0.9939484445741478, -0.10984757406803394 L 0.9939054694450884, -0.11023573743182584 M 0.9939054694450884,-0.11023573743182584 Q 0.19225156899299517, -0.055130157080599956 0.9012835772009866, -0.4332296313363079L 0.9012835772009866, -0.4332296313363079 L 0.9010906003530674, -0.43363086831468606 L 0.9008974448808982, -0.43403201933390695 ",
          "type": "path"
         },
         {
          "fillcolor": "#aad0bc",
          "layer": "below",
          "line": {
           "color": "rgb(175,175,175)",
           "width": 0.5
          },
          "path": "M 0.9667086102178662,-0.2558797821842155 Q 0.1968878639361542, -0.035144971683847274 0.9955357056608988, -0.09438569146992731L 0.9955357056608988, -0.09438569146992731 L 0.9953193585851546, -0.09664043887336343 L 0.9950979048324291, -0.0988946904444816 M 0.9950979048324291,-0.0988946904444816 Q 0.19689768176798192, -0.03508992610984712 0.9679983467383089, -0.2509565713662442L 0.9679983467383089, -0.2509565713662442 L 0.9673566104725005, -0.25341899726570405 L 0.9667086102178662, -0.2558797821842155 ",
          "type": "path"
         },
         {
          "fillcolor": "#f2e6ce",
          "layer": "below",
          "line": {
           "color": "rgb(150,150,150)",
           "width": 0.45
          },
          "path": "M 1.1, 0.0 L 1.099742350281155, 0.02380678470692216 L 1.0989695218216695, 0.04760241702950552 L 1.097681876656154, 0.07137574980779067 L 1.0958800179871802, 0.09511564632812977 L 1.093564789902711, 0.11881098554022483 L 1.0907372769806831, 0.14245066726682867 L 1.0873988037809315, 0.1660236174036678 L 1.083550934224695, 0.1895187931071511 L 1.0791954708619902, 0.2129251879674345 L 1.0743344540272008, 0.2362318371644182 L 1.0689701608832738, 0.2594278226042606 L 1.0631051043549733, 0.2825022780340037 L 1.056742031951691, 0.3054443941319131 L 0.9606745745015371, 0.2776767219381028 L 0.9664591857772483, 0.25682025275818515 L 0.9717910553484307, 0.23584347509478235 L 0.9766676854792735, 0.21475621560401653 L 0.9810867916927183, 0.19356835269766773 L 0.9850463038406316, 0.1722898119155919 L 0.988544367073574, 0.15093056127606164 L 0.9915793427097118, 0.12950060660620788 L 0.9941498090024645, 0.10800998685474984 L 0.9962545618065274, 0.08646876938920887 L 0.997892615141958, 0.0648870452798097 L 0.9990632016560632, 0.04327492457227774 L 0.9997657729828681, 0.021642531551747418 L 1.0, 0.0 L 1.1 ,0.0",
          "type": "path"
         },
         {
          "fillcolor": "#ecd5bb",
          "layer": "below",
          "line": {
           "color": "rgb(150,150,150)",
           "width": 0.45
          },
          "path": "M 1.0466263532740863, 0.3384867451351496 L 1.0394028887396138, 0.36005782157834887 L 1.031734894972929, 0.3814749093914294 L 1.02362565140246, 0.4027288489677511 L 1.0150786261692493, 0.42381055047550376 L 1.0060974746437081, 0.4447109977452249 L 0.9966860378622959, 0.4654212521258115 L 0.9868483408847966, 0.48593245630738074 L 0.97658859107289, 0.5062358381093419 L 0.9659111762907586, 0.5263227142320606 L 0.9548206630284963, 0.5461844939705106 L 0.9433217944491238, 0.5658126828883258 L 0.9314194883600438, 0.5851988864506786 L 0.9191188351098065, 0.6043348136144338 L 0.9064250954110806, 0.6232122803740421 L 0.8933436980907661, 0.6418232132616538 L 0.8798802377682063, 0.6601596527999608 L 0.8660404724624959, 0.6782137569062847 L 0.8518303211299048, 0.6959778042464597 L 0.8372558611324741, 0.713444197537074 L 0.822323325638865, 0.7306054667946561 L 0.8070391009585732, 0.7474542725304191 L 0.7914097238106473, 0.7639834088891951 L 0.7754418785280814, 0.7801858067312173 L 0.7591423941990768, 0.7960545366554316 L 0.7425182417463934, 0.8115828119630459 L 0.7255765309460441, 0.8267639915600489 L 0.7083245073866031, 0.8415915827974555 L 0.6907695493704303, 0.8560592442480677 L 0.6729191647581376, 0.8701607884185604 L 0.6547809877576467, 0.8838901843957319 L 0.6363627756592078, 0.8972415604257913 L 0.617672405517784, 0.9102092064255746 L 0.59871787078421, 0.9227875764246192 L 0.5795072778865739, 0.9349712909370498 L 0.5600488427632797, 0.9467551392622653 L 0.5403508873492765, 0.9581340817134363 L 0.5204218360169521, 0.969103251772867 L 0.5002702119732207, 0.9796579581732947 L 0.4799046336143377, 0.9897936869042399 L 0.459333810840005, 0.9995061031425465 L 0.4385665413283446, 1.008791053106288 L 0.4176117067733282, 1.0176445658312474 L 0.3964782690862771, 1.0260628548692081 L 0.37517526656305394, 1.034042319907334 L 0.35371181001858737, 1.0415795483079413 L 0.32155619092598847, 0.9468904984617648 L 0.34106842414823085, 0.940038472643031 L 0.3604347900784337, 0.9327844135174619 L 0.3796470061575711, 0.9251314234829521 L 0.39869685575304054, 0.9170827755511708 L 0.4175761916727318, 0.9086419119477694 L 0.4362769396493979, 0.899812442640218 L 0.454791101793837, 0.8905981437939042 L 0.473110760015411, 0.8810029561571517 L 0.4912280794084331, 0.871030983375851 L 0.5091353116029815, 0.8606864902384229 L 0.5268247980787034, 0.8499739008518634 L 0.5442889734401909, 0.8388977967496537 L 0.5615203686525309, 0.8274629149323405 L 0.5785116142356435, 0.8156741458416283 L 0.5952554434160424, 0.803536531268847 L 0.6117446952346706, 0.7910552621986912 L 0.627972317609482, 0.7782356765891524 L 0.6439313703514573, 0.7650832570885958 L 0.6596150281327673, 0.7516036286909534 L 0.675016583405812, 0.7378025563300417 L 0.6901294492718879, 0.7236859424140286 L 0.7049471622982558, 0.7092598243011066 L 0.7194633852824066, 0.69453037171745 L 0.7336719099623392, 0.6795038841185628 L 0.7475666596716954, 0.6641867879951419 L 0.7611416919386127, 0.6485856341246127 L 0.7743912010271861, 0.6327070947695088 L 0.7873095204204508, 0.6165579608238951 L 0.7998911252438239, 0.6001451389090552 L 0.8121306346279691, 0.5834756484196852 L 0.8240228140100733, 0.5665566185218563 L 0.8355625773725514, 0.5493952851040307 L 0.8467449894182216, 0.531998987682435 L 0.8575652676810216, 0.5143751662621143 L 0.8680187845713603, 0.49653135815500965 L 0.878101069355235, 0.47847519475641864 L 0.8878078100662635, 0.46021439828121985 L 0.897134855349815, 0.44175677846125516 L 0.9060782162384508, 0.42311022920528313 L 0.9146340678579163, 0.4042827252229317 L 0.9227987510629538, 0.3852823186140943 L 0.9305687740022363, 0.3661171354252282 L 0.9379408136117536, 0.34679537217402673 L 0.9449117170360125, 0.32732529234395347 L 0.951478502976442, 0.30771522285013597 L 1.0466263532740863 ,0.3384867451351496",
          "type": "path"
         },
         {
          "fillcolor": "#e6c4a9",
          "layer": "below",
          "line": {
           "color": "rgb(150,150,150)",
           "width": 0.45
          },
          "path": "M 0.32082047033980887, 1.0521759481241453 L 0.29878058222468823, 1.0586454381356756 L 0.27661041319010765, 1.064653314142589 L 0.2543196303636456, 1.070196956457875 L 0.23191795346557498, 1.0752739478199682 L 0.2094151505706545, 1.0798820744467752 L 0.18682103384883805, 1.084019327000977 L 0.16414545528675356, 1.0876839014661863 L 0.14139830239182347, 1.0908741999335718 L 0.11858949388089429, 1.0935888312986164 L 0.09572897535525755, 1.0958266118676954 L 0.07282671496395005, 1.0975865658742183 L 0.049892699057220345, 1.0988679259041032 L 0.02693692783205866, 1.0996701332304022 L 0.003969410971691418, 1.0999928380569293 L -0.01899983671906423, 1.0998358996707869 L -0.0419607996806752, 1.0991993865037217 L -0.06490346596610025, 1.0980835761022871 L -0.08781783160641893, 1.0964889550068193 L -0.11069390497298424, 1.094416218539287 L -0.13352171113419417, 1.0918662705000997 L -0.15629129620498078, 1.0888402227740153 L -0.1789927316871239, 1.085339394845309 L -0.20161611879849556, 1.081365313222424 L -0.224151592789344, 1.0769197107723492 L -0.24658932724374225, 1.072004525965016 L -0.2241721156761293, 0.9745495690591054 L -0.20377417526303998, 0.9790179188839537 L -0.18328738072590503, 0.983059375656749 L -0.16272066517011263, 0.986672177132099 L -0.14208299654998252, 0.9898547479763774 L -0.12138337375835834, 0.992605700454636 L -0.10063082270271294, 0.9949238350357152 L -0.07983439236947175, 0.9968081409152902 L -0.059003150878272945, 0.9982577964566246 L -0.03814618152788654, 0.9992721695488379 L -0.017272578835512937, 0.9998508178825334 L 0.0036085554288103794, 0.999993489142663 L 0.02448811621096242, 0.9997001211185474 L 0.04535699914292758, 0.9989708417310029 L 0.06620610451268186, 0.997805968976562 L 0.08702634123205231, 0.9962060107888139 L 0.10780863080081299, 0.9941716648169239 L 0.12854391126529405, 0.9917038181214289 L 0.14922314116977595, 0.9888035467874421 L 0.16983730349894366, 0.9854721154554337 L 0.19037740960968588, 0.9817109767697955 L 0.21083450315052268, 0.9775217707454256 L 0.2311996639669505, 0.9729063240526136 L 0.25146401199100693, 0.9678666492205353 L 0.2716187111133529, 0.962404943759705 L 0.29165497303618987, 0.9565235892037683 L 0.32082047033980887 ,1.0521759481241453",
          "type": "path"
         },
         {
          "fillcolor": "#e1b396",
          "layer": "below",
          "line": {
           "color": "rgb(150,150,150)",
           "width": 0.45
          },
          "path": "M -0.28014012619204287, 1.0637299984944988 L -0.30280002037181664, 1.0575027884893862 L -0.3253217153838939, 1.0507929298866077 L -0.34769493223456177, 1.043603485093071 L -0.36990945969614664, 1.0359377354007842 L -0.39195515896746214, 1.0277991794892578 L -0.4138219683011974, 1.0191915318286957 L -0.4354999075961411, 1.0101187209846934 L -0.45697908295214035, 1.0005848878252264 L -0.47824969118571636, 0.9905943836307408 L -0.4993020243042788, 0.9801517681082096 L -0.5201264739368913, 0.9692618073100665 L -0.5407135357195735, 0.9579294714589575 L -0.5610538136331309, 0.946159932679312 L -0.5811380242915346, 0.9339585626367649 L -0.6009570011788999, 0.9213309300865048 L -0.620501698833119, 0.9082827983316722 L -0.639763196974249, 0.8948201225929648 L -0.6587327045757607, 0.8809490472906499 L -0.5988479132506915, 0.8008627702642271 L -0.5816029063402263, 0.8134728387208771 L -0.5640924534846536, 0.8257116348469747 L -0.5463245465262726, 0.8375735728059134 L -0.528307294810486, 0.8490532387606953 L -0.5100489214846644, 0.860145393344829 L -0.49155775974506677, 0.8708449740535976 L -0.4728422490335375, 0.8811470975546059 L -0.45391093118570797, 0.8910470619165541 L -0.4347724465324694, 0.9005403487552188 L -0.4154355299564912, 0.9096226252956603 L -0.3959090069055828, 0.9182897463497212 L -0.37620178936472487, 0.926537756207905 L -0.3563228717886019, 0.9343628904447798 L -0.33628132699649693, 0.9417615776370765 L -0.31608630203141974, 0.9487304409937009 L -0.295747013985358, 0.9552662998969159 L -0.27527274579256056, 0.9613661713539874 L -0.25467284199276624, 0.9670272713586352 L -0.28014012619204287 ,1.0637299984944988",
          "type": "path"
         },
         {
          "fillcolor": "#dba284",
          "layer": "below",
          "line": {
           "color": "rgb(150,150,150)",
           "width": 0.45
          },
          "path": "M -0.6860789380354873, 0.8598230578346328 L -0.7079523344737332, 0.8419046811327228 L -0.7293579477821562, 0.8234300116020801 L -0.7502816340921633, 0.8044112564751897 L -0.7707095679708931, 0.7848609824918803 L -0.7006450617917209, 0.7135099840835275 L -0.6820742128110575, 0.7312829604319906 L -0.6630526798019601, 0.7485727378200727 L -0.6435930313397574, 0.7653678919388388 L -0.6237081254868065, 0.7816573253042115 L -0.6860789380354873 ,0.8598230578346328",
          "type": "path"
         },
         {
          "fillcolor": "#d59171",
          "layer": "below",
          "line": {
           "color": "rgb(150,150,150)",
           "width": 0.45
          },
          "path": "M -0.7949823485544216, 0.760265128416986 L -0.8243051291768441, 0.7283687623812175 L -0.8523490762616743, 0.6953423992508085 L -0.8790706822062189, 0.6612372763883575 L -0.9044284908983533, 0.6261063047528967 L -0.822207718998503, 0.5691875497753607 L -0.799155165642017, 0.6011247967166886 L -0.774862796601522, 0.6321294538643714 L -0.7493682992516764, 0.6621534203465613 L -0.7227112259585651, 0.6911501167427145 L -0.7949823485544216 ,0.760265128416986",
          "type": "path"
         },
         {
          "fillcolor": "#d0805f",
          "layer": "below",
          "line": {
           "color": "rgb(150,150,150)",
           "width": 0.45
          },
          "path": "M -0.9236486843304729, 0.5973885736558632 L -0.9586145198843733, 0.5394981021902234 L -0.9899567003815352, 0.47956827602511776 L -1.0175567493661026, 0.4178256356657529 L -1.0413103359991474, 0.35450357422929213 L -0.9466457599992247, 0.32227597657208373 L -0.9250515903328206, 0.37984148696886627 L -0.8999606367104864, 0.4359711600228343 L -0.8714677453494302, 0.49045282017293035 L -0.8396806221186116, 0.5430805215053301 L -0.9236486843304729 ,0.5973885736558632",
          "type": "path"
         },
         {
          "fillcolor": "#ca6f4c",
          "layer": "below",
          "line": {
           "color": "rgb(150,150,150)",
           "width": 0.45
          },
          "path": "M -1.0519317385702436, 0.32162030002564373 L -1.0567892917894934, 0.3052808424370271 L -1.061393063874805, 0.28886807362263844 L -1.0657419492599982, 0.27238593500307506 L -1.0698349035882908, 0.25583838465764447 L -0.9725771850802643, 0.23258034968876767 L -0.9688563175090893, 0.24762357727552275 L -0.9649027853407318, 0.262607339656944 L -0.9607175379904486, 0.2775280385791155 L -0.9563015805184031, 0.29238209093240336 L -1.0519317385702436 ,0.32162030002564373",
          "type": "path"
         },
         {
          "fillcolor": "#c45e3a",
          "layer": "below",
          "line": {
           "color": "rgb(150,150,150)",
           "width": 0.45
          },
          "path": "M -1.0773430825081554, 0.22210781744870295 L -1.0823353291060045, 0.19634213854646004 L -1.086711456107208, 0.17046469184365412 L -1.0904689724006191, 0.14449020808185536 L -1.093605739019357, 0.11843347324099715 L -0.9941870354721427, 0.10766679385545194 L -0.9913354294551082, 0.1313547346198685 L -0.9879195055520071, 0.15496790167604918 L -0.9839412082781858, 0.17849285322405456 L -0.9794028022801411, 0.20191619768063904 L -1.0773430825081554 ,0.22210781744870295",
          "type": "path"
         },
         {
          "fillcolor": "#bf4d28",
          "layer": "below",
          "line": {
           "color": "rgb(150,150,150)",
           "width": 0.45
          },
          "path": "M -1.0967861958982204, 0.08402404707648069 L -1.0992553333185893, 0.0404686566448336 L -1.0999954886592245, -0.003150385588181628 L -1.0990054977544572, -0.046764472684695704 L -1.0962869177279893, -0.09030500550060838 L -0.9966244706618084, -0.08209545954600761 L -0.9990959070495066, -0.042513156986087 L -0.9999958987811131, -0.0028639868983469344 L -0.9993230302896265, 0.036789687858939636 L -0.9970783599074731, 0.07638549734225517 L -1.0967861958982204 ,0.08402404707648069",
          "type": "path"
         },
         {
          "fillcolor": "#af4624",
          "layer": "below",
          "line": {
           "color": "rgb(150,150,150)",
           "width": 0.45
          },
          "path": "M -1.0929094175409237, -0.12469564968497909 L -1.0865712184204037, -0.1713563167799765 L -1.0782418186141907, -0.2177029641313205 L -1.0679364821991575, -0.26365065899422446 L -1.055674094263173, -0.3091151997259745 L -0.95970372205743, -0.2810138179327041 L -0.9708513474537794, -0.23968241726747674 L -0.9802198351038096, -0.19791178557392772 L -0.9877920167458214, -0.15577846979997864 L -0.9935540159462942, -0.11335968153179916 L -1.0929094175409237 ,-0.12469564968497909",
          "type": "path"
         },
         {
          "fillcolor": "#9f4021",
          "layer": "below",
          "line": {
           "color": "rgb(150,150,150)",
           "width": 0.45
          },
          "path": "M -1.0454436397582132, -0.3421221946747966 L -1.032875726941398, -0.37837512166536386 L -1.0190510970289908, -0.4141676733449998 L -1.0039865706784028, -0.4494563003200873 L -0.9877004771496871, -0.4841980663305882 L -0.8979095246815336, -0.4401800603005347 L -0.9127150642530935, -0.4085966366546248 L -0.9264100882081734, -0.37651606667727255 L -0.938977933583089, -0.34397738333214894 L -0.9504033088711029, -0.3110201769770878 L -1.0454436397582132 ,-0.3421221946747966",
          "type": "path"
         },
         {
          "fillcolor": "#8f391e",
          "layer": "below",
          "line": {
           "color": "rgb(150,150,150)",
           "width": 0.45
          },
          "path": "M -0.97200407777987, -0.5149835655429256 L -0.9605287885557044, -0.5360824995797856 L -0.948595583282531, -0.5569258652431891 L -0.9362101509165539, -0.5775037258068587 L -0.9233783960056865, -0.5978062711196378 L -0.9101064358746568, -0.617823822282315 L -0.8964005977086763, -0.6375468362618765 L -0.8822674155370591, -0.6569659104409897 L -0.8677136271182322, -0.6760717871005429 L -0.8527461707276233, -0.6948553578331071 L -0.8373721818499524, -0.7133076678852193 L -0.8215989897775097, -0.7314199204264099 L -0.8054341141160375, -0.7491834807429447 L -0.788885261199884, -0.7665898803542811 L -0.7719603204181364, -0.7836308210502752 L -0.7546673604534887, -0.8002981788472121 L -0.7370146254356293, -0.8165840078607828 L -0.7190105310109914, -0.8324805440941502 L -0.7006636603307346, -0.8479802091393037 L -0.6369669639370313, -0.7708910992175487 L -0.6536459372827195, -0.7568004946310456 L -0.6700132958505721, -0.7423490980552571 L -0.6860612367758988, -0.7275437989520109 L -0.701782109471033, -0.7123916555002501 L -0.7171684192726218, -0.6968998912311646 L -0.7322128310145795, -0.6810758915844951 L -0.7469081725250087, -0.6649272003876453 L -0.7612474380454113, -0.6484615162592902 L -0.7752237915705665, -0.6316866889391882 L -0.7888305701074837, -0.614610715545948 L -0.8020612868518718, -0.5972417367645361 L -0.8149096342806148, -0.5795880329653422 L -0.8273694871587788, -0.56165802025665 L -0.8394349054597149, -0.543460246472398 L -0.8511001371968672, -0.5250033870971442 L -0.8623596211659372, -0.5062962411301719 L -0.8732079895960949, -0.48734772689071415 L -0.8836400707089727, -0.4681668777662959 L -0.97200407777987 ,-0.5149835655429256",
          "type": "path"
         },
         {
          "fillcolor": "#f0f3e7",
          "layer": "below",
          "line": {
           "color": "rgb(150,150,150)",
           "width": 0.45
          },
          "path": "M -0.6736822230581404, -0.8695701595244872 L -0.6548093866721585, -0.8838691459294368 L -0.6356331489754531, -0.8977585977998482 L -0.6161623951425063, -0.9112320795561636 L -0.5964061468097709, -0.9242833483556447 L -0.5763735578955661, -0.936906356984948 L -0.556073910358668, -0.9490952566620593 L -0.5355166098975817, -0.9608443997462864 L -0.5147111815924799, -0.972148342355051 L -0.493667265491819, -0.9830018468862761 L -0.47239461214569384, -0.9933998844451913 L -0.4509030780879907, -1.0033376371744338 L -0.4292026212694273, -1.0128105004863708 L -0.40730329644360896, -1.0218140851966027 L -0.38521525050823224, -1.0303442195576584 L -0.36294871780358495, -1.0383969511919484 L -0.3405140153705443, -1.0459685489230683 L -0.31792153817024216, -1.0530555045046142 L -0.29518175426763604, -1.0596545342457047 L -0.27230519998120756, -1.0657625805324535 L -0.2493024750010275, -1.071376813244697 L -0.22618423747747124, -1.0764946310673058 L -0.20296119908283372, -1.0811136626954905 L -0.17964412004815417, -1.085231767933525 L -0.15624380417754194, -1.0888470386863942 L -0.14203982197958356, -0.9898609442603583 L -0.16331283640741287, -0.9865743344850227 L -0.18451018098439428, -0.9828306024504457 L -0.2056220340704284, -0.9786314827884598 L -0.2266386136372977, -0.9739789211315426 L -0.24755018180109775, -0.9688750732113214 L -0.26834704933421455, -0.9633223038597314 L -0.2890195801547656, -0.9573231859132855 L -0.3095581957914039, -0.950880499020971 L -0.32995337982144085, -0.9439972283563167 L -0.3501956822802111, -0.9366765632342348 L -0.3702757240396445, -0.928921895633275 L -0.3901842011540248, -0.9207368186239733 L -0.4099118891709006, -0.9121251247040306 L -0.42944964740517616, -0.903090804041083 L -0.4487884231743809, -0.8936380426238874 L -0.4679192559931635, -0.8837712203227736 L -0.48683328172507423, -0.8734949088602604 L -0.5055217366896981, -0.8628138696927811 L -0.5239759617232419, -0.8517330518044981 L -0.5421874061907007, -0.8402575894142225 L -0.5601476319477329, -0.8283927995965122 L -0.5778483172504119, -0.8161441798180438 L -0.5952812606110531, -0.803517405390397 L -0.6124383845983095, -0.7905183268404429 L -0.6736822230581404 ,-0.8695701595244872",
          "type": "path"
         },
         {
          "fillcolor": "#e2ecde",
          "layer": "below",
          "line": {
           "color": "rgb(150,150,150)",
           "width": 0.45
          },
          "path": "M -0.12196519528684029, -1.0932174948923215 L -0.10631802112096117, -1.0948499798533693 L -0.09064910016914728, -1.096258519072269 L -0.07496163742586692, -1.0974428244398124 L -0.059258841678216226, -1.098402653712634 L -0.053871674252923836, -0.9985478670114852 L -0.06814694311442447, -0.997675294945284 L -0.08240827288104297, -0.9965986537020626 L -0.09665274647360106, -0.9953181635030629 L -0.11087745026076389, -0.9938340862657468 L -0.12196519528684029 ,-1.0932174948923215",
          "type": "path"
         },
         {
          "fillcolor": "#d4e5d6",
          "layer": "below",
          "line": {
           "color": "rgb(150,150,150)",
           "width": 0.45
          },
          "path": "M -0.024727939890507224, -1.0997220235081098 L -0.0018490014275861209, -1.0999984459960481 L 0.021030737029846647, -1.0997989398521812 L 0.04390137626542424, -1.0991235913954363 L 0.06675302099967645, -1.0979726928241054 L 0.08957578417135112, -1.096346742089421 L 0.11235979121517867, -1.0942464426801128 L 0.13509518433423517, -1.0916727033180316 L 0.15777212676504052, -1.0886266375649807 L 0.18038080703356588, -1.085109563340919 L 0.2029114432002946, -1.0811230023537441 L 0.2253542870925056, -1.076668679440908 L 0.2476996285219469, -1.071748521823142 L 0.2699377994860751, -1.0663646582706197 L 0.292059178351042, -1.0605194181819182 L 0.3140541940146201, -1.054215330576172 L 0.33591333004726304, -1.047455122998861 L 0.3576271288095167, -1.040241720341701 L 0.379186195543984, -1.0325782435771536 L 0.4005812024400927, -1.0244680084080955 L 0.4218028926698932, -1.015914523833236 L 0.44284208439314515, -1.0069214906289043 L 0.4636896747299604, -0.9974927997478598 L 0.4843366436992822, -0.9876325306358205 L 0.504774058121497, -0.9773449494664388 L 0.5249930754834913, -0.9666345072954852 L 0.5449849477644797, -0.9555058381350412 L 0.5647410252209497, -0.943963756948534 L 0.5842527601290852, -0.93201325756748 L 0.6035117104830534, -0.9196595105308374 L 0.6225095436475435, -0.9069078608479073 L 0.6412380399629932, -0.8937638256857451 L 0.6596890963019301, -0.8802330919820858 L 0.5997173602744819, -0.800211901801896 L 0.5829436726936301, -0.8125125688052227 L 0.5659177669523122, -0.8244616916799157 L 0.5486470095300485, -0.8360541004825793 L 0.5311388728446229, -0.8472847796067999 L 0.5134009320190451, -0.8581488699532126 L 0.4954408616040724, -0.8686416710318555 L 0.4772664322577193, -0.8787586429958956 L 0.458885507383179, -0.8884954086058534 L 0.44030603972662014, -0.897847755123473 L 0.42153606793632764, -0.9068116361344178 L 0.4025837130846774, -0.9153831732990039 L 0.3834571751544483, -0.9235586580302145 L 0.3641647294909933, -0.9313345530982686 L 0.3447147232218036, -0.9387074941610487 L 0.32511557164501514, -0.945674291219728 L 0.3053757545884209, -0.9522319299989643 L 0.2855038127405637, -0.9583775732510653 L 0.2655083439554927, -0.964108561983562 L 0.2453979995327955, -0.9694224166096542 L 0.22518148047449718, -0.974316838021038 L 0.20486753372045963, -0.9787897085826436 L 0.18446494836390417, -0.9828390930488582 L 0.16398255184869623, -0.9864632394008352 L 0.14342920615003682, -0.9896605796045279 L 0.1228138039402138, -0.9924297302891196 L 0.10214526474107151, -0.9947694933455571 L 0.08143253106486464, -0.9966788564449283 L 0.060684564545160406, -0.9981569934764593 L 0.03991034205947658, -0.9992032649049419 L 0.019118851845315133, -0.9998172180474374 L -0.0016809103887146552, -0.9999985872691346 L -0.022479945355006567, -0.9997472940982816 L -0.024727939890507224 ,-1.0997220235081098",
          "type": "path"
         },
         {
          "fillcolor": "#c6decd",
          "layer": "below",
          "line": {
           "color": "rgb(150,150,150)",
           "width": 0.45
          },
          "path": "M 0.687012369140365, -0.8590774148166991 L 0.7056094036884986, -0.8438692845615142 L 0.723869881841708, -0.8282586517281132 L 0.7417850938511386, -0.812252962161578 L 0.7593464946504437, -0.7958598501382538 L 0.7765457079315545, -0.7790871347244037 L 0.793374530139943, -0.7619428160467325 L 0.8098249343875, -0.7444350714765401 L 0.8258890742811352, -0.7265722517293443 L 0.8415592876652979, -0.7083628768818117 L 0.8568281002766098, -0.6898156323079205 L 0.8716882293088903, -0.6709393645362685 L 0.8861325868868506, -0.6517430770305261 L 0.900154283446821, -0.6322359258950256 L 0.91374663102288, -0.6124272155075549 L 0.9269031464368358, -0.5923263940814169 L 0.9396175543905204, -0.5719430491588979 L 0.9518837904589399, -0.5512869030382649 L 0.9636960039828347, -0.530367808136501 L 0.975048560859289, -0.5091957422899659 L 0.8864077825993536, -0.46290522026360537 L 0.8760872763480315, -0.48215255285136444 L 0.865348900417218, -0.501169911852968 L 0.8541977767186548, -0.519948226508089 L 0.842639224033487, -0.5384785400740153 L 0.8306787554753454, -0.5567520140977771 L 0.8183220758607463, -0.5747599326318414 L 0.8055750789880459, -0.5924937063913873 L 0.7924438448262638, -0.6099448768511531 L 0.7789346366150998, -0.6271051202799277 L 0.7650538978775434, -0.6439662517107378 L 0.7508082493464865, -0.6605202288448584 L 0.7362044858068182, -0.6767591558877637 L 0.7212495728544935, -0.6926752873152113 L 0.7059506435741404, -0.7082610315676396 L 0.690314995136767, -0.7235089546711397 L 0.6743500853192168, -0.7384117837832527 L 0.6580635289470071, -0.752962410661921 L 0.6414630942622713, -0.7671538950559219 L 0.6245566992185136, -0.7809794680151809 L 0.687012369140365 ,-0.8590774148166991",
          "type": "path"
         },
         {
          "fillcolor": "#b8d7c5",
          "layer": "below",
          "line": {
           "color": "rgb(150,150,150)",
           "width": 0.45
          },
          "path": "M 0.9905616580387034, -0.47831746949449266 L 1.0070258613681717, -0.44260469330508934 L 1.022203008767937, -0.4063262345280911 L 1.0360737026849602, -0.3695284598034051 L 1.0486202153134927, -0.3322583994963629 L 0.9532911048304478, -0.30205309045123896 L 0.9418851842590547, -0.33593496345764096 L 0.9292754625163062, -0.3693874859346282 L 0.9154780557892469, -0.40236790300462666 L 0.9005105982170031, -0.4348340631768115 L 0.9905616580387034 ,-0.47831746949449266",
          "type": "path"
         },
         {
          "fillcolor": "#aad0bc",
          "layer": "below",
          "line": {
           "color": "rgb(150,150,150)",
           "width": 0.45
          },
          "path": "M 1.0585392730762266, -0.2991564930855658 L 1.067843066632214, -0.26402875798955905 L 1.0759814830297332, -0.22861287841487887 L 1.0829456405099636, -0.19294750503819685 L 1.0887279388268496, -0.15707156081811818 L 0.9897526716607723, -0.14279232801647107 L 0.9844960368272395, -0.17540682276199712 L 0.9781649845724847, -0.20782988946807168 L 0.9707664242111036, -0.24002614362687186 L 0.9623084300692968, -0.27196044825960525 L 1.0585392730762266 ,-0.2991564930855658",
          "type": "path"
         },
         {
          "fillcolor": "#9cc9b4",
          "layer": "below",
          "line": {
           "color": "rgb(150,150,150)",
           "width": 0.45
          },
          "path": "M 1.0931244542657805, -0.12279628449647693 L 1.095372949934572, -0.10078740274277417 L 1.097178365788702, -0.07873775235065557 L 1.0985399715350581, -0.05665625243302011 L 1.0994572164023046, -0.03455183498594511 L 0.9995065603657315, -0.031410759078131914 L 0.9986727013955072, -0.051505684030018276 L 0.9974348779897291, -0.07157977486423232 L 0.9957935908496107, -0.09162491158434015 L 0.9937495038779822, -0.11163298590588812 L 1.0931244542657805 ,-0.12279628449647693",
          "type": "path"
         }
        ],
        "showlegend": false,
        "title": "Data Jobs ‒ Technologies in Demand and Relationships Between Them",
        "titlefont": {
         "color": "#655643",
         "family": "Merryweather",
         "size": 18
        },
        "width": 960,
        "xaxis": {
         "showgrid": false,
         "showline": false,
         "showticklabels": false,
         "title": "",
         "zeroline": false
        },
        "yaxis": {
         "showgrid": false,
         "showline": false,
         "showticklabels": false,
         "title": "",
         "zeroline": false
        }
       }
      },
      "text/html": [
       "<div id=\"3041602a-d836-45cd-b3b1-e0ffa3e21ec0\" style=\"height: 525px; width: 960px;\" class=\"plotly-graph-div\"></div><script type=\"text/javascript\">require([\"plotly\"], function(Plotly) { window.PLOTLYENV=window.PLOTLYENV || {};window.PLOTLYENV.BASE_URL=\"https://plot.ly\";Plotly.newPlot(\"3041602a-d836-45cd-b3b1-e0ffa3e21ec0\", [{\"hoverinfo\": \"text\", \"line\": {\"color\": \"#f2e6ce\", \"shape\": \"spline\", \"width\": 0.25}, \"mode\": \"lines\", \"text\": \"Power BI<br>1440\", \"x\": [1.1, 1.099742350281155, 1.0989695218216695, 1.097681876656154, 1.0958800179871802, 1.093564789902711, 1.0907372769806831, 1.0873988037809315, 1.083550934224695, 1.0791954708619902, 1.0743344540272008, 1.0689701608832738, 1.0631051043549733, 1.056742031951691], \"y\": [0.0, 0.02380678470692216, 0.04760241702950552, 0.07137574980779067, 0.09511564632812977, 0.11881098554022483, 0.14245066726682867, 0.1660236174036678, 0.1895187931071511, 0.2129251879674345, 0.2362318371644182, 0.2594278226042606, 0.2825022780340037, 0.3054443941319131], \"type\": \"scatter\", \"uid\": \"fe7ef702-b249-470a-a692-e6d280f8d387\"}, {\"hoverinfo\": \"text\", \"line\": {\"color\": \"#ecd5bb\", \"shape\": \"spline\", \"width\": 0.25}, \"mode\": \"lines\", \"text\": \"Excel<br>4429\", \"x\": [1.0466263532740863, 1.0394028887396138, 1.031734894972929, 1.02362565140246, 1.0150786261692493, 1.0060974746437081, 0.9966860378622959, 0.9868483408847966, 0.97658859107289, 0.9659111762907586, 0.9548206630284963, 0.9433217944491238, 0.9314194883600438, 0.9191188351098065, 0.9064250954110806, 0.8933436980907661, 0.8798802377682063, 0.8660404724624959, 0.8518303211299048, 0.8372558611324741, 0.822323325638865, 0.8070391009585732, 0.7914097238106473, 0.7754418785280814, 0.7591423941990768, 0.7425182417463934, 0.7255765309460441, 0.7083245073866031, 0.6907695493704303, 0.6729191647581376, 0.6547809877576467, 0.6363627756592078, 0.617672405517784, 0.59871787078421, 0.5795072778865739, 0.5600488427632797, 0.5403508873492765, 0.5204218360169521, 0.5002702119732207, 0.4799046336143377, 0.459333810840005, 0.4385665413283446, 0.4176117067733282, 0.3964782690862771, 0.37517526656305394, 0.35371181001858737], \"y\": [0.3384867451351496, 0.36005782157834887, 0.3814749093914294, 0.4027288489677511, 0.42381055047550376, 0.4447109977452249, 0.4654212521258115, 0.48593245630738074, 0.5062358381093419, 0.5263227142320606, 0.5461844939705106, 0.5658126828883258, 0.5851988864506786, 0.6043348136144338, 0.6232122803740421, 0.6418232132616538, 0.6601596527999608, 0.6782137569062847, 0.6959778042464597, 0.713444197537074, 0.7306054667946561, 0.7474542725304191, 0.7639834088891951, 0.7801858067312173, 0.7960545366554316, 0.8115828119630459, 0.8267639915600489, 0.8415915827974555, 0.8560592442480677, 0.8701607884185604, 0.8838901843957319, 0.8972415604257913, 0.9102092064255746, 0.9227875764246192, 0.9349712909370498, 0.9467551392622653, 0.9581340817134363, 0.969103251772867, 0.9796579581732947, 0.9897936869042399, 0.9995061031425465, 1.008791053106288, 1.0176445658312474, 1.0260628548692081, 1.034042319907334, 1.0415795483079413], \"type\": \"scatter\", \"uid\": \"04c929f9-eb39-48a2-a65d-2e14dc1fc3f8\"}, {\"hoverinfo\": \"text\", \"line\": {\"color\": \"#e6c4a9\", \"shape\": \"spline\", \"width\": 0.25}, \"mode\": \"lines\", \"text\": \"SSIS/SSRS<br>2548\", \"x\": [0.32082047033980887, 0.29878058222468823, 0.27661041319010765, 0.2543196303636456, 0.23191795346557498, 0.2094151505706545, 0.18682103384883805, 0.16414545528675356, 0.14139830239182347, 0.11858949388089429, 0.09572897535525755, 0.07282671496395005, 0.049892699057220345, 0.02693692783205866, 0.003969410971691418, -0.01899983671906423, -0.0419607996806752, -0.06490346596610025, -0.08781783160641893, -0.11069390497298424, -0.13352171113419417, -0.15629129620498078, -0.1789927316871239, -0.20161611879849556, -0.224151592789344, -0.24658932724374225], \"y\": [1.0521759481241453, 1.0586454381356756, 1.064653314142589, 1.070196956457875, 1.0752739478199682, 1.0798820744467752, 1.084019327000977, 1.0876839014661863, 1.0908741999335718, 1.0935888312986164, 1.0958266118676954, 1.0975865658742183, 1.0988679259041032, 1.0996701332304022, 1.0999928380569293, 1.0998358996707869, 1.0991993865037217, 1.0980835761022871, 1.0964889550068193, 1.094416218539287, 1.0918662705000997, 1.0888402227740153, 1.085339394845309, 1.081365313222424, 1.0769197107723492, 1.072004525965016], \"type\": \"scatter\", \"uid\": \"cda4a64c-e635-44ba-9fcf-4aa0350ad788\"}, {\"hoverinfo\": \"text\", \"line\": {\"color\": \"#e1b396\", \"shape\": \"spline\", \"width\": 0.25}, \"mode\": \"lines\", \"text\": \"MS SQL Server<br>1915\", \"x\": [-0.28014012619204287, -0.30280002037181664, -0.3253217153838939, -0.34769493223456177, -0.36990945969614664, -0.39195515896746214, -0.4138219683011974, -0.4354999075961411, -0.45697908295214035, -0.47824969118571636, -0.4993020243042788, -0.5201264739368913, -0.5407135357195735, -0.5610538136331309, -0.5811380242915346, -0.6009570011788999, -0.620501698833119, -0.639763196974249, -0.6587327045757607], \"y\": [1.0637299984944988, 1.0575027884893862, 1.0507929298866077, 1.043603485093071, 1.0359377354007842, 1.0277991794892578, 1.0191915318286957, 1.0101187209846934, 1.0005848878252264, 0.9905943836307408, 0.9801517681082096, 0.9692618073100665, 0.9579294714589575, 0.946159932679312, 0.9339585626367649, 0.9213309300865048, 0.9082827983316722, 0.8948201225929648, 0.8809490472906499], \"type\": \"scatter\", \"uid\": \"cbcd15dd-d3fa-4e59-9c36-18c8e32719ff\"}, {\"hoverinfo\": \"text\", \"line\": {\"color\": \"#dba284\", \"shape\": \"spline\", \"width\": 0.25}, \"mode\": \"lines\", \"text\": \"PostgreSQL<br>618\", \"x\": [-0.6860789380354873, -0.7079523344737332, -0.7293579477821562, -0.7502816340921633, -0.7707095679708931], \"y\": [0.8598230578346328, 0.8419046811327228, 0.8234300116020801, 0.8044112564751897, 0.7848609824918803], \"type\": \"scatter\", \"uid\": \"23079529-a02b-4e40-9803-4e9fa6fcd726\"}, {\"hoverinfo\": \"text\", \"line\": {\"color\": \"#d59171\", \"shape\": \"spline\", \"width\": 0.25}, \"mode\": \"lines\", \"text\": \"MySQL/MariaDB<br>870\", \"x\": [-0.7949823485544216, -0.8243051291768441, -0.8523490762616743, -0.8790706822062189, -0.9044284908983533], \"y\": [0.760265128416986, 0.7283687623812175, 0.6953423992508085, 0.6612372763883575, 0.6261063047528967], \"type\": \"scatter\", \"uid\": \"7787e921-de09-4ee0-bcd8-548fd234cef4\"}, {\"hoverinfo\": \"text\", \"line\": {\"color\": \"#d0805f\", \"shape\": \"spline\", \"width\": 0.25}, \"mode\": \"lines\", \"text\": \"T-SQL<br>1277\", \"x\": [-0.9236486843304729, -0.9586145198843733, -0.9899567003815352, -1.0175567493661026, -1.0413103359991474], \"y\": [0.5973885736558632, 0.5394981021902234, 0.47956827602511776, 0.4178256356657529, 0.35450357422929213], \"type\": \"scatter\", \"uid\": \"44354c88-6ae2-4204-9553-fcc7d142481e\"}, {\"hoverinfo\": \"text\", \"line\": {\"color\": \"#ca6f4c\", \"shape\": \"spline\", \"width\": 0.25}, \"mode\": \"lines\", \"text\": \"PL/SQL<br>430\", \"x\": [-1.0519317385702436, -1.0567892917894934, -1.061393063874805, -1.0657419492599982, -1.0698349035882908], \"y\": [0.32162030002564373, 0.3052808424370271, 0.28886807362263844, 0.27238593500307506, 0.25583838465764447], \"type\": \"scatter\", \"uid\": \"51c961b4-715b-4e1f-a9c8-6ed60354f955\"}, {\"hoverinfo\": \"text\", \"line\": {\"color\": \"#c45e3a\", \"shape\": \"spline\", \"width\": 0.25}, \"mode\": \"lines\", \"text\": \"Pentaho<br>584\", \"x\": [-1.0773430825081554, -1.0823353291060045, -1.086711456107208, -1.0904689724006191, -1.093605739019357], \"y\": [0.22210781744870295, 0.19634213854646004, 0.17046469184365412, 0.14449020808185536, 0.11843347324099715], \"type\": \"scatter\", \"uid\": \"09e9a344-a2fe-4aeb-8cd4-5ba51936c868\"}, {\"hoverinfo\": \"text\", \"line\": {\"color\": \"#bf4d28\", \"shape\": \"spline\", \"width\": 0.25}, \"mode\": \"lines\", \"text\": \"Hadoop<br>875\", \"x\": [-1.0967861958982204, -1.0992553333185893, -1.0999954886592245, -1.0990054977544572, -1.0962869177279893], \"y\": [0.08402404707648069, 0.0404686566448336, -0.003150385588181628, -0.046764472684695704, -0.09030500550060838], \"type\": \"scatter\", \"uid\": \"457cabdc-217f-439f-8f27-be6fc750e2b0\"}, {\"hoverinfo\": \"text\", \"line\": {\"color\": \"#af4624\", \"shape\": \"spline\", \"width\": 0.25}, \"mode\": \"lines\", \"text\": \"Spark<br>933\", \"x\": [-1.0929094175409237, -1.0865712184204037, -1.0782418186141907, -1.0679364821991575, -1.055674094263173], \"y\": [-0.12469564968497909, -0.1713563167799765, -0.2177029641313205, -0.26365065899422446, -0.3091151997259745], \"type\": \"scatter\", \"uid\": \"d7507439-c51f-40d0-bc3a-0bf69cceb7a9\"}, {\"hoverinfo\": \"text\", \"line\": {\"color\": \"#9f4021\", \"shape\": \"spline\", \"width\": 0.25}, \"mode\": \"lines\", \"text\": \"Informatica<br>787\", \"x\": [-1.0454436397582132, -1.032875726941398, -1.0190510970289908, -1.0039865706784028, -0.9877004771496871], \"y\": [-0.3421221946747966, -0.37837512166536386, -0.4141676733449998, -0.4494563003200873, -0.4841980663305882], \"type\": \"scatter\", \"uid\": \"eaf58477-533d-4f28-aa97-fad3b1ef5159\"}, {\"hoverinfo\": \"text\", \"line\": {\"color\": \"#8f391e\", \"shape\": \"spline\", \"width\": 0.25}, \"mode\": \"lines\", \"text\": \"Qlik<br>1954\", \"x\": [-0.97200407777987, -0.9605287885557044, -0.948595583282531, -0.9362101509165539, -0.9233783960056865, -0.9101064358746568, -0.8964005977086763, -0.8822674155370591, -0.8677136271182322, -0.8527461707276233, -0.8373721818499524, -0.8215989897775097, -0.8054341141160375, -0.788885261199884, -0.7719603204181364, -0.7546673604534887, -0.7370146254356293, -0.7190105310109914, -0.7006636603307346], \"y\": [-0.5149835655429256, -0.5360824995797856, -0.5569258652431891, -0.5775037258068587, -0.5978062711196378, -0.617823822282315, -0.6375468362618765, -0.6569659104409897, -0.6760717871005429, -0.6948553578331071, -0.7133076678852193, -0.7314199204264099, -0.7491834807429447, -0.7665898803542811, -0.7836308210502752, -0.8002981788472121, -0.8165840078607828, -0.8324805440941502, -0.8479802091393037], \"type\": \"scatter\", \"uid\": \"96d08f93-2cf8-417b-89fb-0f1279b5a9ae\"}, {\"hoverinfo\": \"text\", \"line\": {\"color\": \"#f0f3e7\", \"shape\": \"spline\", \"width\": 0.25}, \"mode\": \"lines\", \"text\": \"Tableau<br>2523\", \"x\": [-0.6736822230581404, -0.6548093866721585, -0.6356331489754531, -0.6161623951425063, -0.5964061468097709, -0.5763735578955661, -0.556073910358668, -0.5355166098975817, -0.5147111815924799, -0.493667265491819, -0.47239461214569384, -0.4509030780879907, -0.4292026212694273, -0.40730329644360896, -0.38521525050823224, -0.36294871780358495, -0.3405140153705443, -0.31792153817024216, -0.29518175426763604, -0.27230519998120756, -0.2493024750010275, -0.22618423747747124, -0.20296119908283372, -0.17964412004815417, -0.15624380417754194], \"y\": [-0.8695701595244872, -0.8838691459294368, -0.8977585977998482, -0.9112320795561636, -0.9242833483556447, -0.936906356984948, -0.9490952566620593, -0.9608443997462864, -0.972148342355051, -0.9830018468862761, -0.9933998844451913, -1.0033376371744338, -1.0128105004863708, -1.0218140851966027, -1.0303442195576584, -1.0383969511919484, -1.0459685489230683, -1.0530555045046142, -1.0596545342457047, -1.0657625805324535, -1.071376813244697, -1.0764946310673058, -1.0811136626954905, -1.085231767933525, -1.0888470386863942], \"type\": \"scatter\", \"uid\": \"bf4eafc5-ec41-4c7c-8ba9-a6e416ac1e23\"}, {\"hoverinfo\": \"text\", \"line\": {\"color\": \"#e2ecde\", \"shape\": \"spline\", \"width\": 0.25}, \"mode\": \"lines\", \"text\": \"Microstrategy<br>408\", \"x\": [-0.12196519528684029, -0.10631802112096117, -0.09064910016914728, -0.07496163742586692, -0.059258841678216226], \"y\": [-1.0932174948923215, -1.0948499798533693, -1.096258519072269, -1.0974428244398124, -1.098402653712634], \"type\": \"scatter\", \"uid\": \"32449b0f-2111-4712-b030-9252582034ad\"}, {\"hoverinfo\": \"text\", \"line\": {\"color\": \"#d4e5d6\", \"shape\": \"spline\", \"width\": 0.25}, \"mode\": \"lines\", \"text\": \"Oracle BI<br>3209\", \"x\": [-0.024727939890507224, -0.0018490014275861209, 0.021030737029846647, 0.04390137626542424, 0.06675302099967645, 0.08957578417135112, 0.11235979121517867, 0.13509518433423517, 0.15777212676504052, 0.18038080703356588, 0.2029114432002946, 0.2253542870925056, 0.2476996285219469, 0.2699377994860751, 0.292059178351042, 0.3140541940146201, 0.33591333004726304, 0.3576271288095167, 0.379186195543984, 0.4005812024400927, 0.4218028926698932, 0.44284208439314515, 0.4636896747299604, 0.4843366436992822, 0.504774058121497, 0.5249930754834913, 0.5449849477644797, 0.5647410252209497, 0.5842527601290852, 0.6035117104830534, 0.6225095436475435, 0.6412380399629932, 0.6596890963019301], \"y\": [-1.0997220235081098, -1.0999984459960481, -1.0997989398521812, -1.0991235913954363, -1.0979726928241054, -1.096346742089421, -1.0942464426801128, -1.0916727033180316, -1.0886266375649807, -1.085109563340919, -1.0811230023537441, -1.076668679440908, -1.071748521823142, -1.0663646582706197, -1.0605194181819182, -1.054215330576172, -1.047455122998861, -1.040241720341701, -1.0325782435771536, -1.0244680084080955, -1.015914523833236, -1.0069214906289043, -0.9974927997478598, -0.9876325306358205, -0.9773449494664388, -0.9666345072954852, -0.9555058381350412, -0.943963756948534, -0.93201325756748, -0.9196595105308374, -0.9069078608479073, -0.8937638256857451, -0.8802330919820858], \"type\": \"scatter\", \"uid\": \"82294762-39ad-4d60-b82c-7ad1c6850998\"}, {\"hoverinfo\": \"text\", \"line\": {\"color\": \"#c6decd\", \"shape\": \"spline\", \"width\": 0.25}, \"mode\": \"lines\", \"text\": \"Python<br>2055\", \"x\": [0.687012369140365, 0.7056094036884986, 0.723869881841708, 0.7417850938511386, 0.7593464946504437, 0.7765457079315545, 0.793374530139943, 0.8098249343875, 0.8258890742811352, 0.8415592876652979, 0.8568281002766098, 0.8716882293088903, 0.8861325868868506, 0.900154283446821, 0.91374663102288, 0.9269031464368358, 0.9396175543905204, 0.9518837904589399, 0.9636960039828347, 0.975048560859289], \"y\": [-0.8590774148166991, -0.8438692845615142, -0.8282586517281132, -0.812252962161578, -0.7958598501382538, -0.7790871347244037, -0.7619428160467325, -0.7444350714765401, -0.7265722517293443, -0.7083628768818117, -0.6898156323079205, -0.6709393645362685, -0.6517430770305261, -0.6322359258950256, -0.6124272155075549, -0.5923263940814169, -0.5719430491588979, -0.5512869030382649, -0.530367808136501, -0.5091957422899659], \"type\": \"scatter\", \"uid\": \"202cbc62-bc7b-4b05-a498-0fe25d571bb5\"}, {\"hoverinfo\": \"text\", \"line\": {\"color\": \"#b8d7c5\", \"shape\": \"spline\", \"width\": 0.25}, \"mode\": \"lines\", \"text\": \"VBA<br>803\", \"x\": [0.9905616580387034, 1.0070258613681717, 1.022203008767937, 1.0360737026849602, 1.0486202153134927], \"y\": [-0.47831746949449266, -0.44260469330508934, -0.4063262345280911, -0.3695284598034051, -0.3322583994963629], \"type\": \"scatter\", \"uid\": \"26ef417c-1a88-41fd-8379-bfd4bb9ee03c\"}, {\"hoverinfo\": \"text\", \"line\": {\"color\": \"#aad0bc\", \"shape\": \"spline\", \"width\": 0.25}, \"mode\": \"lines\", \"text\": \"Linux<br>753\", \"x\": [1.0585392730762266, 1.067843066632214, 1.0759814830297332, 1.0829456405099636, 1.0887279388268496], \"y\": [-0.2991564930855658, -0.26402875798955905, -0.22861287841487887, -0.19294750503819685, -0.15707156081811818], \"type\": \"scatter\", \"uid\": \"64522332-3e8d-45b1-85f3-cb48b3625fde\"}, {\"hoverinfo\": \"text\", \"line\": {\"color\": \"#9cc9b4\", \"shape\": \"spline\", \"width\": 0.25}, \"mode\": \"lines\", \"text\": \"AWS<br>515\", \"x\": [1.0931244542657805, 1.095372949934572, 1.097178365788702, 1.0985399715350581, 1.0994572164023046], \"y\": [-0.12279628449647693, -0.10078740274277417, -0.07873775235065557, -0.05665625243302011, -0.03455183498594511], \"type\": \"scatter\", \"uid\": \"b7d2e3e9-80be-4ad2-87c7-53c9e73b0df7\"}, {\"hoverinfo\": \"text\", \"marker\": {\"color\": \"green\", \"size\": 0.5}, \"mode\": \"markers\", \"text\": \"Power BI appears with Excel 241 times\", \"x\": [0.8702511773298579], \"y\": [0.22948396099944826], \"type\": \"scatter\", \"uid\": \"cb5b844f-72f1-4871-8917-813295845e5c\"}, {\"hoverinfo\": \"text\", \"marker\": {\"color\": \"blue\", \"size\": 0.5}, \"mode\": \"markers\", \"text\": \"Excel appears with Power BI 241 times\", \"x\": [0.7648310768101453], \"y\": [0.47437687964890707], \"type\": \"scatter\", \"uid\": \"249a061b-8f8e-4839-8b2a-452bb1312625\"}, {\"hoverinfo\": \"text\", \"marker\": {\"color\": \"green\", \"size\": 0.5}, \"mode\": \"markers\", \"text\": \"Power BI appears with SSIS/SSRS 137 times\", \"x\": [0.8972455077239729], \"y\": [0.07035978161670214], \"type\": \"scatter\", \"uid\": \"5016f87f-812c-4431-89c4-cd2e45e011d9\"}, {\"hoverinfo\": \"text\", \"marker\": {\"color\": \"blue\", \"size\": 0.5}, \"mode\": \"markers\", \"text\": \"SSIS/SSRS appears with Power BI 137 times\", \"x\": [0.12607929641557056], \"y\": [0.8911251376856982], \"type\": \"scatter\", \"uid\": \"b9927b5c-20f9-4463-9bdc-9fbd266efab2\"}, {\"hoverinfo\": \"text\", \"marker\": {\"color\": \"green\", \"size\": 0.5}, \"mode\": \"markers\", \"text\": \"Power BI appears with MS SQL Server 137 times\", \"x\": [0.8950407516351946], \"y\": [0.09435069110666816], \"type\": \"scatter\", \"uid\": \"91c631b9-e631-41f2-86e9-ca69c129520f\"}, {\"hoverinfo\": \"text\", \"marker\": {\"color\": \"blue\", \"size\": 0.5}, \"mode\": \"markers\", \"text\": \"MS SQL Server appears with Power BI 137 times\", \"x\": [-0.3831379007676499], \"y\": [0.8143742069806474], \"type\": \"scatter\", \"uid\": \"785bea59-b8ba-494f-ba20-a857372bb12f\"}, {\"hoverinfo\": \"text\", \"marker\": {\"color\": \"green\", \"size\": 0.5}, \"mode\": \"markers\", \"text\": \"Power BI appears with MySQL/MariaDB 5 times\", \"x\": [0.8999998926163453], \"y\": [0.00043964823102794515], \"type\": \"scatter\", \"uid\": \"7f42d90d-ea02-419b-ad85-64b5f0d50a82\"}, {\"hoverinfo\": \"text\", \"marker\": {\"color\": \"blue\", \"size\": 0.5}, \"mode\": \"markers\", \"text\": \"MySQL/MariaDB appears with Power BI 5 times\", \"x\": [-0.6516217938953706], \"y\": [0.6207970986728105], \"type\": \"scatter\", \"uid\": \"0a51a537-d37e-4439-a3f9-c84ab269b4b1\"}, {\"hoverinfo\": \"text\", \"marker\": {\"color\": \"green\", \"size\": 0.5}, \"mode\": \"markers\", \"text\": \"Power BI appears with T-SQL 52 times\", \"x\": [0.8991760893287561], \"y\": [0.038501433472597574], \"type\": \"scatter\", \"uid\": \"de2b6f8c-425b-4444-ba4b-08c52384e9cd\"}, {\"hoverinfo\": \"text\", \"marker\": {\"color\": \"blue\", \"size\": 0.5}, \"mode\": \"markers\", \"text\": \"T-SQL appears with Power BI 52 times\", \"x\": [-0.7864163322847076], \"y\": [0.4376635149471205], \"type\": \"scatter\", \"uid\": \"75b28315-9c33-496e-9968-01545acb36a9\"}, {\"hoverinfo\": \"text\", \"marker\": {\"color\": \"green\", \"size\": 0.5}, \"mode\": \"markers\", \"text\": \"Power BI appears with PL/SQL 11 times\", \"x\": [0.8999783472462457], \"y\": [0.006242955062792063], \"type\": \"scatter\", \"uid\": \"8ba4fbb3-3a73-411a-ba54-659f12073f78\"}, {\"hoverinfo\": \"text\", \"marker\": {\"color\": \"blue\", \"size\": 0.5}, \"mode\": \"markers\", \"text\": \"PL/SQL appears with Power BI 11 times\", \"x\": [-0.8622674397161014], \"y\": [0.25786597760355934], \"type\": \"scatter\", \"uid\": \"b8ae8607-63f1-40b8-87fe-b12b11b4fb84\"}, {\"hoverinfo\": \"text\", \"marker\": {\"color\": \"green\", \"size\": 0.5}, \"mode\": \"markers\", \"text\": \"Power BI appears with Pentaho 9 times\", \"x\": [0.8999958721753841], \"y\": [0.002725814973484977], \"type\": \"scatter\", \"uid\": \"3628793e-2260-4ff7-89d6-897c1cfd6073\"}, {\"hoverinfo\": \"text\", \"marker\": {\"color\": \"blue\", \"size\": 0.5}, \"mode\": \"markers\", \"text\": \"Pentaho appears with Power BI 9 times\", \"x\": [-0.8822121573188315], \"y\": [0.17804973877782912], \"type\": \"scatter\", \"uid\": \"d9026c70-57a4-4d91-9bc6-a99127ba4120\"}, {\"hoverinfo\": \"text\", \"marker\": {\"color\": \"green\", \"size\": 0.5}, \"mode\": \"markers\", \"text\": \"Power BI appears with Hadoop 27 times\", \"x\": [0.8999046407013358], \"y\": [0.013101055079638055], \"type\": \"scatter\", \"uid\": \"52ba18d1-3fc7-45b3-966c-be1f2f39610e\"}, {\"hoverinfo\": \"text\", \"marker\": {\"color\": \"blue\", \"size\": 0.5}, \"mode\": \"markers\", \"text\": \"Hadoop appears with Power BI 27 times\", \"x\": [-0.8982883832305837], \"y\": [0.055479550764079656], \"type\": \"scatter\", \"uid\": \"25e09cc8-4362-4053-aed6-4fe6934105f6\"}, {\"hoverinfo\": \"text\", \"marker\": {\"color\": \"green\", \"size\": 0.5}, \"mode\": \"markers\", \"text\": \"Power BI appears with Spark 34 times\", \"x\": [0.899682231802251], \"y\": [0.023914049831022268], \"type\": \"scatter\", \"uid\": \"e7b065cb-5543-417a-a675-57500cc8af85\"}, {\"hoverinfo\": \"text\", \"marker\": {\"color\": \"blue\", \"size\": 0.5}, \"mode\": \"markers\", \"text\": \"Spark appears with Power BI 34 times\", \"x\": [-0.8913507615135553], \"y\": [-0.12447417382415163], \"type\": \"scatter\", \"uid\": \"53d73ea7-b6ac-4b89-a482-f7fbadb2a905\"}, {\"hoverinfo\": \"text\", \"marker\": {\"color\": \"green\", \"size\": 0.5}, \"mode\": \"markers\", \"text\": \"Power BI appears with Informatica 20 times\", \"x\": [0.8999553115871741], \"y\": [0.008968675823805948], \"type\": \"scatter\", \"uid\": \"bd653d4d-5009-4b51-a740-b1414c5dcb79\"}, {\"hoverinfo\": \"text\", \"marker\": {\"color\": \"blue\", \"size\": 0.5}, \"mode\": \"markers\", \"text\": \"Informatica appears with Power BI 20 times\", \"x\": [-0.8506835517318364], \"y\": [-0.29383242641496876], \"type\": \"scatter\", \"uid\": \"c3180226-c599-4860-b43b-18a714044617\"}, {\"hoverinfo\": \"text\", \"marker\": {\"color\": \"green\", \"size\": 0.5}, \"mode\": \"markers\", \"text\": \"Power BI appears with Qlik 199 times\", \"x\": [0.8861957205091805], \"y\": [0.15702593719259997], \"type\": \"scatter\", \"uid\": \"aba80d31-1ce6-4c25-bcb6-ecc164d7d6a6\"}, {\"hoverinfo\": \"text\", \"marker\": {\"color\": \"blue\", \"size\": 0.5}, \"mode\": \"markers\", \"text\": \"Qlik appears with Power BI 199 times\", \"x\": [-0.7310856731541608], \"y\": [-0.5248940259792709], \"type\": \"scatter\", \"uid\": \"7b0b1fc4-a427-488b-bc40-c6adb5677863\"}, {\"hoverinfo\": \"text\", \"marker\": {\"color\": \"green\", \"size\": 0.5}, \"mode\": \"markers\", \"text\": \"Power BI appears with Tableau 202 times\", \"x\": [0.8793653885370478], \"y\": [0.1916155354951338], \"type\": \"scatter\", \"uid\": \"ace2870d-b862-46dc-8bbf-e58bd3e9e4df\"}, {\"hoverinfo\": \"text\", \"marker\": {\"color\": \"blue\", \"size\": 0.5}, \"mode\": \"markers\", \"text\": \"Tableau appears with Power BI 202 times\", \"x\": [-0.3696559606102129], \"y\": [-0.820581787992727], \"type\": \"scatter\", \"uid\": \"d8834305-4288-442b-8875-94b466aa5025\"}, {\"hoverinfo\": \"text\", \"marker\": {\"color\": \"green\", \"size\": 0.5}, \"mode\": \"markers\", \"text\": \"Power BI appears with Microstrategy 31 times\", \"x\": [0.8998159549804589], \"y\": [0.01820019677379677], \"type\": \"scatter\", \"uid\": \"5157c7cc-272f-43b3-a769-33c43bdc835c\"}, {\"hoverinfo\": \"text\", \"marker\": {\"color\": \"blue\", \"size\": 0.5}, \"mode\": \"markers\", \"text\": \"Microstrategy appears with Power BI 31 times\", \"x\": [-0.08127077678587391], \"y\": [-0.8963230783822431], \"type\": \"scatter\", \"uid\": \"d0c6fde9-4c44-436a-8cbf-dec9061c9b73\"}, {\"hoverinfo\": \"text\", \"marker\": {\"color\": \"green\", \"size\": 0.5}, \"mode\": \"markers\", \"text\": \"Power BI appears with Oracle BI 192 times\", \"x\": [0.8915462124871639], \"y\": [0.12306644952948269], \"type\": \"scatter\", \"uid\": \"98178c97-8ea3-41b1-aa16-25a12312083b\"}, {\"hoverinfo\": \"text\", \"marker\": {\"color\": \"blue\", \"size\": 0.5}, \"mode\": \"markers\", \"text\": \"Oracle BI appears with Power BI 192 times\", \"x\": [0.22164421989753594], \"y\": [-0.872280826217115], \"type\": \"scatter\", \"uid\": \"ec245672-caf1-46fc-af1c-861d2dd14ec2\"}, {\"hoverinfo\": \"text\", \"marker\": {\"color\": \"green\", \"size\": 0.5}, \"mode\": \"markers\", \"text\": \"Power BI appears with Python 87 times\", \"x\": [0.8985703333287552], \"y\": [0.05070854032063762], \"type\": \"scatter\", \"uid\": \"d3a6c1fa-4ddc-46b3-934f-182a7ab54e70\"}, {\"hoverinfo\": \"text\", \"marker\": {\"color\": \"blue\", \"size\": 0.5}, \"mode\": \"markers\", \"text\": \"Python appears with Power BI 87 times\", \"x\": [0.6179710281043428], \"y\": [-0.6543025358529964], \"type\": \"scatter\", \"uid\": \"04a2b376-e7a8-4f7e-855b-c016d03f7fd0\"}, {\"hoverinfo\": \"text\", \"marker\": {\"color\": \"green\", \"size\": 0.5}, \"mode\": \"markers\", \"text\": \"Power BI appears with VBA 40 times\", \"x\": [0.8994858272907491], \"y\": [0.030417864867156082], \"type\": \"scatter\", \"uid\": \"eb49461f-e7fe-4957-8841-cc57c509d680\"}, {\"hoverinfo\": \"text\", \"marker\": {\"color\": \"blue\", \"size\": 0.5}, \"mode\": \"markers\", \"text\": \"VBA appears with Power BI 40 times\", \"x\": [0.8222609004560635], \"y\": [-0.3659057413886584], \"type\": \"scatter\", \"uid\": \"081e72f9-cae7-4672-a4a3-3a65693a78e0\"}, {\"hoverinfo\": \"text\", \"marker\": {\"color\": \"green\", \"size\": 0.5}, \"mode\": \"markers\", \"text\": \"Power BI appears with Linux 10 times\", \"x\": [0.8999892616556641], \"y\": [0.004396464999586865], \"type\": \"scatter\", \"uid\": \"c497b482-1971-4c47-92b3-d95d765e80b2\"}, {\"hoverinfo\": \"text\", \"marker\": {\"color\": \"blue\", \"size\": 0.5}, \"mode\": \"markers\", \"text\": \"Linux appears with Power BI 10 times\", \"x\": [0.8669737560267132], \"y\": [-0.2415709137312129], \"type\": \"scatter\", \"uid\": \"65bd322d-76c6-478a-9d18-f0a11e201bec\"}, {\"hoverinfo\": \"text\", \"marker\": {\"color\": \"green\", \"size\": 0.5}, \"mode\": \"markers\", \"text\": \"Power BI appears with AWS 6 times\", \"x\": [0.8999989003915773], \"y\": [0.0014068738222761856], \"type\": \"scatter\", \"uid\": \"45c4bc13-c28e-4672-85ad-af22cab3a9a1\"}, {\"hoverinfo\": \"text\", \"marker\": {\"color\": \"blue\", \"size\": 0.5}, \"mode\": \"markers\", \"text\": \"AWS appears with Power BI 6 times\", \"x\": [0.8946382106120189], \"y\": [-0.09809420020024069], \"type\": \"scatter\", \"uid\": \"aa36738f-3e95-4322-a3bd-92c086609048\"}, {\"hoverinfo\": \"text\", \"marker\": {\"color\": \"green\", \"size\": 0.5}, \"mode\": \"markers\", \"text\": \"Excel appears with SSIS/SSRS 639 times\", \"x\": [0.45956841679664473], \"y\": [0.7738196626366026], \"type\": \"scatter\", \"uid\": \"9e5e331d-95d1-440b-910e-599cd49c06d6\"}, {\"hoverinfo\": \"text\", \"marker\": {\"color\": \"blue\", \"size\": 0.5}, \"mode\": \"markers\", \"text\": \"SSIS/SSRS appears with Excel 639 times\", \"x\": [-0.14394816663165633], \"y\": [0.8884137129307409], \"type\": \"scatter\", \"uid\": \"e37ec382-c88f-4899-8e5d-116ba62fce01\"}, {\"hoverinfo\": \"text\", \"marker\": {\"color\": \"green\", \"size\": 0.5}, \"mode\": \"markers\", \"text\": \"Excel appears with MS SQL Server 278 times\", \"x\": [0.7068469006842176], \"y\": [0.5571063264701953], \"type\": \"scatter\", \"uid\": \"dcd1bb2e-7eab-40f7-9bfc-813d519b57e9\"}, {\"hoverinfo\": \"text\", \"marker\": {\"color\": \"blue\", \"size\": 0.5}, \"mode\": \"markers\", \"text\": \"MS SQL Server appears with Excel 278 times\", \"x\": [-0.4755618118383045], \"y\": [0.7640948652628606], \"type\": \"scatter\", \"uid\": \"f0e1debe-8e9a-4b86-b0b8-dda86c1eb637\"}, {\"hoverinfo\": \"text\", \"marker\": {\"color\": \"green\", \"size\": 0.5}, \"mode\": \"markers\", \"text\": \"Excel appears with PostgreSQL 78 times\", \"x\": [0.8389074921892031], \"y\": [0.32593591325415805], \"type\": \"scatter\", \"uid\": \"6f649dca-88f8-4d75-83d5-5c6e9c6f922d\"}, {\"hoverinfo\": \"text\", \"marker\": {\"color\": \"blue\", \"size\": 0.5}, \"mode\": \"markers\", \"text\": \"PostgreSQL appears with Excel 78 times\", \"x\": [-0.6035542608880153], \"y\": [0.667624336108205], \"type\": \"scatter\", \"uid\": \"b31c0094-f663-421c-9806-7db569b08098\"}, {\"hoverinfo\": \"text\", \"marker\": {\"color\": \"green\", \"size\": 0.5}, \"mode\": \"markers\", \"text\": \"Excel appears with MySQL/MariaDB 133 times\", \"x\": [0.7998849832586659], \"y\": [0.41253365142407944], \"type\": \"scatter\", \"uid\": \"72ddbd9d-3927-4e82-b612-272579f8271c\"}, {\"hoverinfo\": \"text\", \"marker\": {\"color\": \"blue\", \"size\": 0.5}, \"mode\": \"markers\", \"text\": \"MySQL/MariaDB appears with Excel 133 times\", \"x\": [-0.733763910755781], \"y\": [0.5211434766668219], \"type\": \"scatter\", \"uid\": \"96362f27-2c1a-40fe-9827-5592a28ee23e\"}, {\"hoverinfo\": \"text\", \"marker\": {\"color\": \"green\", \"size\": 0.5}, \"mode\": \"markers\", \"text\": \"Excel appears with T-SQL 189 times\", \"x\": [0.7854740681349475], \"y\": [0.4393523509525539], \"type\": \"scatter\", \"uid\": \"af75404a-c604-4a0f-9ef9-b65786f79eec\"}, {\"hoverinfo\": \"text\", \"marker\": {\"color\": \"blue\", \"size\": 0.5}, \"mode\": \"markers\", \"text\": \"T-SQL appears with Excel 189 times\", \"x\": [-0.8465608616518612], \"y\": [0.30550729536176113], \"type\": \"scatter\", \"uid\": \"446f2102-9cc8-4a6a-988e-808f36f1eaef\"}, {\"hoverinfo\": \"text\", \"marker\": {\"color\": \"green\", \"size\": 0.5}, \"mode\": \"markers\", \"text\": \"Excel appears with PL/SQL 65 times\", \"x\": [0.8480996227094104], \"y\": [0.301209279339392], \"type\": \"scatter\", \"uid\": \"18dcf8bb-030c-407f-ac48-1ea92356a9d6\"}, {\"hoverinfo\": \"text\", \"marker\": {\"color\": \"blue\", \"size\": 0.5}, \"mode\": \"markers\", \"text\": \"PL/SQL appears with Excel 65 times\", \"x\": [-0.8713894706837192], \"y\": [0.22512305608610517], \"type\": \"scatter\", \"uid\": \"3578a1ee-6dc6-403c-94d3-f40cddd66f6f\"}, {\"hoverinfo\": \"text\", \"marker\": {\"color\": \"green\", \"size\": 0.5}, \"mode\": \"markers\", \"text\": \"Excel appears with Pentaho 68 times\", \"x\": [0.8438081223006751], \"y\": [0.31303011474841985], \"type\": \"scatter\", \"uid\": \"29220a1f-44d7-4e83-9a92-e3af727c0a32\"}, {\"hoverinfo\": \"text\", \"marker\": {\"color\": \"blue\", \"size\": 0.5}, \"mode\": \"markers\", \"text\": \"Pentaho appears with Excel 68 times\", \"x\": [-0.894216113811971], \"y\": [0.10187022037384798], \"type\": \"scatter\", \"uid\": \"55161ad5-6cf2-4574-9658-54d05dd0ef03\"}, {\"hoverinfo\": \"text\", \"marker\": {\"color\": \"green\", \"size\": 0.5}, \"mode\": \"markers\", \"text\": \"Excel appears with Hadoop 93 times\", \"x\": [0.8267694698738847], \"y\": [0.3556012425237794], \"type\": \"scatter\", \"uid\": \"955f195d-c990-4b1b-bfab-a29221fbb430\"}, {\"hoverinfo\": \"text\", \"marker\": {\"color\": \"blue\", \"size\": 0.5}, \"mode\": \"markers\", \"text\": \"Hadoop appears with Excel 93 times\", \"x\": [-0.8999736505388592], \"y\": [0.00688682334312243], \"type\": \"scatter\", \"uid\": \"71acbfec-f0df-42f1-a241-b148138f545b\"}, {\"hoverinfo\": \"text\", \"marker\": {\"color\": \"green\", \"size\": 0.5}, \"mode\": \"markers\", \"text\": \"Excel appears with Spark 100 times\", \"x\": [0.8193895402700396], \"y\": [0.3722912586887492], \"type\": \"scatter\", \"uid\": \"70c10ff1-b5fb-456d-8c28-67a4d0eca14e\"}, {\"hoverinfo\": \"text\", \"marker\": {\"color\": \"blue\", \"size\": 0.5}, \"mode\": \"markers\", \"text\": \"Spark appears with Excel 100 times\", \"x\": [-0.8800965412418316], \"y\": [-0.18822879188414593], \"type\": \"scatter\", \"uid\": \"d048b845-8443-4bca-9b4d-7c4594982371\"}, {\"hoverinfo\": \"text\", \"marker\": {\"color\": \"green\", \"size\": 0.5}, \"mode\": \"markers\", \"text\": \"Excel appears with Informatica 120 times\", \"x\": [0.8105664946056412], \"y\": [0.39112908076838665], \"type\": \"scatter\", \"uid\": \"d920bb2e-5d5e-42fe-93f1-3c757da5626d\"}, {\"hoverinfo\": \"text\", \"marker\": {\"color\": \"blue\", \"size\": 0.5}, \"mode\": \"markers\", \"text\": \"Informatica appears with Excel 120 times\", \"x\": [-0.8213946514995403], \"y\": [-0.36784619950184183], \"type\": \"scatter\", \"uid\": \"7d2a89ad-572c-4788-b3a7-5ac4e2270ce3\"}, {\"hoverinfo\": \"text\", \"marker\": {\"color\": \"green\", \"size\": 0.5}, \"mode\": \"markers\", \"text\": \"Excel appears with Qlik 444 times\", \"x\": [0.6107940848755768], \"y\": [0.6610072510048636], \"type\": \"scatter\", \"uid\": \"5a966b01-09ae-49ce-b1a2-c5df13f5610b\"}, {\"hoverinfo\": \"text\", \"marker\": {\"color\": \"blue\", \"size\": 0.5}, \"mode\": \"markers\", \"text\": \"Qlik appears with Excel 444 times\", \"x\": [-0.6036686591916107], \"y\": [-0.6675208984816903], \"type\": \"scatter\", \"uid\": \"c319a36f-adb9-439c-aff5-f1277749366d\"}, {\"hoverinfo\": \"text\", \"marker\": {\"color\": \"green\", \"size\": 0.5}, \"mode\": \"markers\", \"text\": \"Excel appears with Tableau 458 times\", \"x\": [0.5455066982660314], \"y\": [0.715836882360006], \"type\": \"scatter\", \"uid\": \"a6ae5a0a-b318-4f8d-9ee2-70cc8b907b81\"}, {\"hoverinfo\": \"text\", \"marker\": {\"color\": \"blue\", \"size\": 0.5}, \"mode\": \"markers\", \"text\": \"Tableau appears with Excel 458 times\", \"x\": [-0.16945399653200882], \"y\": [-0.8839034693106086], \"type\": \"scatter\", \"uid\": \"f85fbd8b-e8ed-4e7a-b840-b056368049a0\"}, {\"hoverinfo\": \"text\", \"marker\": {\"color\": \"green\", \"size\": 0.5}, \"mode\": \"markers\", \"text\": \"Excel appears with Microstrategy 43 times\", \"x\": [0.8550707876759489], \"y\": [0.28080945152047915], \"type\": \"scatter\", \"uid\": \"ae9a9bce-dfda-4429-9159-98a453895115\"}, {\"hoverinfo\": \"text\", \"marker\": {\"color\": \"blue\", \"size\": 0.5}, \"mode\": \"markers\", \"text\": \"Microstrategy appears with Excel 43 times\", \"x\": [-0.06705945957669696], \"y\": [-0.8974982055030981], \"type\": \"scatter\", \"uid\": \"ded385d8-dabf-4670-aed0-0379cd0a83ae\"}, {\"hoverinfo\": \"text\", \"marker\": {\"color\": \"green\", \"size\": 0.5}, \"mode\": \"markers\", \"text\": \"Excel appears with Oracle BI 673 times\", \"x\": [0.3488832419498674], \"y\": [0.8296267133395298], \"type\": \"scatter\", \"uid\": \"48400475-8343-47c0-a477-d7dd54257ca1\"}, {\"hoverinfo\": \"text\", \"marker\": {\"color\": \"blue\", \"size\": 0.5}, \"mode\": \"markers\", \"text\": \"Oracle BI appears with Excel 673 times\", \"x\": [0.48820372137282797], \"y\": [-0.7560801058338475], \"type\": \"scatter\", \"uid\": \"b49c8ccd-af14-4eb1-9ba3-8bfdcd82dadb\"}, {\"hoverinfo\": \"text\", \"marker\": {\"color\": \"green\", \"size\": 0.5}, \"mode\": \"markers\", \"text\": \"Excel appears with Python 388 times\", \"x\": [0.666167884485435], \"y\": [0.6051614244812703], \"type\": \"scatter\", \"uid\": \"35c3bfd3-5c97-41fd-bd3b-ca410c2e6915\"}, {\"hoverinfo\": \"text\", \"marker\": {\"color\": \"blue\", \"size\": 0.5}, \"mode\": \"markers\", \"text\": \"Python appears with Excel 388 times\", \"x\": [0.7808386260331921], \"y\": [-0.44753886992595043], \"type\": \"scatter\", \"uid\": \"11997e86-dadc-420d-81ae-c71346cac127\"}, {\"hoverinfo\": \"text\", \"marker\": {\"color\": \"green\", \"size\": 0.5}, \"mode\": \"markers\", \"text\": \"Excel appears with VBA 275 times\", \"x\": [0.7380033204068966], \"y\": [0.5151224117318093], \"type\": \"scatter\", \"uid\": \"6486a96e-d0fc-48d5-8646-b6913c7b4e0b\"}, {\"hoverinfo\": \"text\", \"marker\": {\"color\": \"blue\", \"size\": 0.5}, \"mode\": \"markers\", \"text\": \"VBA appears with Excel 275 times\", \"x\": [0.8510484970379498], \"y\": [-0.2927737277992113], \"type\": \"scatter\", \"uid\": \"658b5a18-2f50-4953-9c15-9885c0694ce8\"}, {\"hoverinfo\": \"text\", \"marker\": {\"color\": \"green\", \"size\": 0.5}, \"mode\": \"markers\", \"text\": \"Excel appears with Linux 84 times\", \"x\": [0.8332388496526397], \"y\": [0.340166164439595], \"type\": \"scatter\", \"uid\": \"cfc7f523-7712-418d-b671-d70f7c397dfe\"}, {\"hoverinfo\": \"text\", \"marker\": {\"color\": \"blue\", \"size\": 0.5}, \"mode\": \"markers\", \"text\": \"Linux appears with Excel 84 times\", \"x\": [0.8807566895812613], \"y\": [-0.18511524453123185], \"type\": \"scatter\", \"uid\": \"8d6f1267-309a-4881-92b9-d5f9be8ae51f\"}, {\"hoverinfo\": \"text\", \"marker\": {\"color\": \"green\", \"size\": 0.5}, \"mode\": \"markers\", \"text\": \"Excel appears with AWS 60 times\", \"x\": [0.8519820554269304], \"y\": [0.2900458191915596], \"type\": \"scatter\", \"uid\": \"d9f8befe-2604-4097-a7dc-d10a5f65eef1\"}, {\"hoverinfo\": \"text\", \"marker\": {\"color\": \"blue\", \"size\": 0.5}, \"mode\": \"markers\", \"text\": \"AWS appears with Excel 60 times\", \"x\": [0.8976357091261028], \"y\": [-0.06519304948902577], \"type\": \"scatter\", \"uid\": \"278bab35-24fe-4d59-b05c-ce00c5a53228\"}, {\"hoverinfo\": \"text\", \"marker\": {\"color\": \"green\", \"size\": 0.5}, \"mode\": \"markers\", \"text\": \"SSIS/SSRS appears with MS SQL Server 286 times\", \"x\": [-0.0041503091105694265], \"y\": [0.8999904304681726], \"type\": \"scatter\", \"uid\": \"3b1ef237-8ead-450b-a77d-cbcf86f20c2a\"}, {\"hoverinfo\": \"text\", \"marker\": {\"color\": \"blue\", \"size\": 0.5}, \"mode\": \"markers\", \"text\": \"MS SQL Server appears with SSIS/SSRS 286 times\", \"x\": [-0.5180460033923997], \"y\": [0.7359540327827288], \"type\": \"scatter\", \"uid\": \"4bd8a4d5-03c3-4989-a73e-62824635d5a2\"}, {\"hoverinfo\": \"text\", \"marker\": {\"color\": \"green\", \"size\": 0.5}, \"mode\": \"markers\", \"text\": \"SSIS/SSRS appears with PostgreSQL 63 times\", \"x\": [0.20794693801886702], \"y\": [0.8756472297498448], \"type\": \"scatter\", \"uid\": \"7e94e9b9-73b8-461f-8d77-b875aacd6ef0\"}, {\"hoverinfo\": \"text\", \"marker\": {\"color\": \"blue\", \"size\": 0.5}, \"mode\": \"markers\", \"text\": \"PostgreSQL appears with SSIS/SSRS 63 times\", \"x\": [-0.5956817789914153], \"y\": [0.6746578526761715], \"type\": \"scatter\", \"uid\": \"6ce22d71-1fb2-46d8-abb2-f055b5868cc3\"}, {\"hoverinfo\": \"text\", \"marker\": {\"color\": \"green\", \"size\": 0.5}, \"mode\": \"markers\", \"text\": \"SSIS/SSRS appears with MySQL/MariaDB 89 times\", \"x\": [0.18094177313709928], \"y\": [0.8816235447933559], \"type\": \"scatter\", \"uid\": \"b287fdbe-bfee-44c3-80e5-6ce14a050017\"}, {\"hoverinfo\": \"text\", \"marker\": {\"color\": \"blue\", \"size\": 0.5}, \"mode\": \"markers\", \"text\": \"MySQL/MariaDB appears with SSIS/SSRS 89 times\", \"x\": [-0.7017347592336187], \"y\": [0.563532011232135], \"type\": \"scatter\", \"uid\": \"ae62e06b-15fc-4a73-ace6-1c55c186c481\"}, {\"hoverinfo\": \"text\", \"marker\": {\"color\": \"green\", \"size\": 0.5}, \"mode\": \"markers\", \"text\": \"SSIS/SSRS appears with T-SQL 141 times\", \"x\": [0.10065308688495644], \"y\": [0.894353932232944], \"type\": \"scatter\", \"uid\": \"e4780bd2-dc6d-4389-bcba-1f2d0ea74748\"}, {\"hoverinfo\": \"text\", \"marker\": {\"color\": \"blue\", \"size\": 0.5}, \"mode\": \"markers\", \"text\": \"T-SQL appears with SSIS/SSRS 141 times\", \"x\": [-0.8130379378744078], \"y\": [0.38596542795557576], \"type\": \"scatter\", \"uid\": \"0feecc4a-2d90-4f85-8e0a-a512af86e859\"}, {\"hoverinfo\": \"text\", \"marker\": {\"color\": \"green\", \"size\": 0.5}, \"mode\": \"markers\", \"text\": \"SSIS/SSRS appears with PL/SQL 57 times\", \"x\": [0.21869543618909487], \"y\": [0.8730248027347571], \"type\": \"scatter\", \"uid\": \"5e2c9c37-ab81-4aea-ad90-0c3c8e01b4e8\"}, {\"hoverinfo\": \"text\", \"marker\": {\"color\": \"blue\", \"size\": 0.5}, \"mode\": \"markers\", \"text\": \"PL/SQL appears with SSIS/SSRS 57 times\", \"x\": [-0.8693761892098595], \"y\": [0.23277680647981772], \"type\": \"scatter\", \"uid\": \"3af98ed2-9a75-4457-bc58-ecb7f1847c83\"}, {\"hoverinfo\": \"text\", \"marker\": {\"color\": \"green\", \"size\": 0.5}, \"mode\": \"markers\", \"text\": \"SSIS/SSRS appears with Pentaho 36 times\", \"x\": [0.24373269690784166], \"y\": [0.8663684969215063], \"type\": \"scatter\", \"uid\": \"df2a5e41-2a3b-4025-9700-d5c3be8c5bcd\"}, {\"hoverinfo\": \"text\", \"marker\": {\"color\": \"blue\", \"size\": 0.5}, \"mode\": \"markers\", \"text\": \"Pentaho appears with SSIS/SSRS 36 times\", \"x\": [-0.8851772336292973], \"y\": [0.16266918904446656], \"type\": \"scatter\", \"uid\": \"14d6402c-0f82-4b9a-8f9b-fb464228d3cc\"}, {\"hoverinfo\": \"text\", \"marker\": {\"color\": \"green\", \"size\": 0.5}, \"mode\": \"markers\", \"text\": \"SSIS/SSRS appears with Hadoop 46 times\", \"x\": [0.23644639821599303], \"y\": [0.8683853411767636], \"type\": \"scatter\", \"uid\": \"3704b53e-5f26-4b1d-bbc8-6f639dc6d288\"}, {\"hoverinfo\": \"text\", \"marker\": {\"color\": \"blue\", \"size\": 0.5}, \"mode\": \"markers\", \"text\": \"Hadoop appears with SSIS/SSRS 46 times\", \"x\": [-0.8989241451497627], \"y\": [0.043992968378691225], \"type\": \"scatter\", \"uid\": \"09dcb5c8-dab8-46d7-9706-3edfae7e55a9\"}, {\"hoverinfo\": \"text\", \"marker\": {\"color\": \"green\", \"size\": 0.5}, \"mode\": \"markers\", \"text\": \"SSIS/SSRS appears with Spark 48 times\", \"x\": [0.22807331673864262], \"y\": [0.8706219398750727], \"type\": \"scatter\", \"uid\": \"3d28272c-2827-4718-90a3-eaa21aa2009a\"}, {\"hoverinfo\": \"text\", \"marker\": {\"color\": \"blue\", \"size\": 0.5}, \"mode\": \"markers\", \"text\": \"Spark appears with SSIS/SSRS 48 times\", \"x\": [-0.8872561777686929], \"y\": [-0.1509187695791668], \"type\": \"scatter\", \"uid\": \"f9253378-087b-437c-a431-ae6a565ccaba\"}, {\"hoverinfo\": \"text\", \"marker\": {\"color\": \"green\", \"size\": 0.5}, \"mode\": \"markers\", \"text\": \"SSIS/SSRS appears with Informatica 74 times\", \"x\": [0.1956374118067921], \"y\": [0.8784793697643329], \"type\": \"scatter\", \"uid\": \"1376e69e-ce90-4b80-8879-53ec2ffe5a14\"}, {\"hoverinfo\": \"text\", \"marker\": {\"color\": \"blue\", \"size\": 0.5}, \"mode\": \"markers\", \"text\": \"Informatica appears with SSIS/SSRS 74 times\", \"x\": [-0.8333780075153583], \"y\": [-0.3398250970569001], \"type\": \"scatter\", \"uid\": \"f6ebd97a-d9a1-4a72-a275-936c73673ae8\"}, {\"hoverinfo\": \"text\", \"marker\": {\"color\": \"green\", \"size\": 0.5}, \"mode\": \"markers\", \"text\": \"SSIS/SSRS appears with Qlik 94 times\", \"x\": [0.1643830726775703], \"y\": [0.8848605570467477], \"type\": \"scatter\", \"uid\": \"a8e10dda-2594-40f2-b62b-7d7f5dbfd0ef\"}, {\"hoverinfo\": \"text\", \"marker\": {\"color\": \"blue\", \"size\": 0.5}, \"mode\": \"markers\", \"text\": \"Qlik appears with SSIS/SSRS 94 times\", \"x\": [-0.7556116336924138], \"y\": [-0.4889284804842949], \"type\": \"scatter\", \"uid\": \"f592389a-3c7f-4395-9970-394c02c512c5\"}, {\"hoverinfo\": \"text\", \"marker\": {\"color\": \"green\", \"size\": 0.5}, \"mode\": \"markers\", \"text\": \"SSIS/SSRS appears with Tableau 181 times\", \"x\": [0.038894393351789826], \"y\": [0.899159177323902], \"type\": \"scatter\", \"uid\": \"0f94a5ed-4c8f-4017-96f7-baaa8e011f20\"}, {\"hoverinfo\": \"text\", \"marker\": {\"color\": \"blue\", \"size\": 0.5}, \"mode\": \"markers\", \"text\": \"Tableau appears with SSIS/SSRS 181 times\", \"x\": [-0.4015404671069682], \"y\": [-0.8054596534125827], \"type\": \"scatter\", \"uid\": \"3d1eb557-bd85-4a09-85b7-6b67e1b21196\"}, {\"hoverinfo\": \"text\", \"marker\": {\"color\": \"green\", \"size\": 0.5}, \"mode\": \"markers\", \"text\": \"SSIS/SSRS appears with Microstrategy 35 times\", \"x\": [0.2500276908150709], \"y\": [0.8645728158030898], \"type\": \"scatter\", \"uid\": \"e06917a4-99d0-42fb-b4be-8dc301ece9ee\"}, {\"hoverinfo\": \"text\", \"marker\": {\"color\": \"blue\", \"size\": 0.5}, \"mode\": \"markers\", \"text\": \"Microstrategy appears with SSIS/SSRS 35 times\", \"x\": [-0.07712251944645532], \"y\": [-0.8966895321092084], \"type\": \"scatter\", \"uid\": \"36ceb70f-e75b-4bf6-ab28-887df4b6a2ad\"}, {\"hoverinfo\": \"text\", \"marker\": {\"color\": \"green\", \"size\": 0.5}, \"mode\": \"markers\", \"text\": \"SSIS/SSRS appears with Oracle BI 299 times\", \"x\": [-0.05804629661007989], \"y\": [0.8981261756846054], \"type\": \"scatter\", \"uid\": \"b4e38520-eaf7-4e3c-859b-14324c73f4a6\"}, {\"hoverinfo\": \"text\", \"marker\": {\"color\": \"blue\", \"size\": 0.5}, \"mode\": \"markers\", \"text\": \"Oracle BI appears with SSIS/SSRS 299 times\", \"x\": [0.26575691389779266], \"y\": [-0.8598681658926102], \"type\": \"scatter\", \"uid\": \"113ddac3-1fd0-4e75-ba0c-eea6bee2381e\"}, {\"hoverinfo\": \"text\", \"marker\": {\"color\": \"green\", \"size\": 0.5}, \"mode\": \"markers\", \"text\": \"SSIS/SSRS appears with Python 175 times\", \"x\": [0.07165336593067921], \"y\": [0.897143129690466], \"type\": \"scatter\", \"uid\": \"1c3019df-b946-4da4-abdb-e5440f1bf043\"}, {\"hoverinfo\": \"text\", \"marker\": {\"color\": \"blue\", \"size\": 0.5}, \"mode\": \"markers\", \"text\": \"Python appears with SSIS/SSRS 175 times\", \"x\": [0.7154947522992012], \"y\": [-0.5459553639559783], \"type\": \"scatter\", \"uid\": \"213039f5-7e0c-4c14-9979-11d9928fc49d\"}, {\"hoverinfo\": \"text\", \"marker\": {\"color\": \"green\", \"size\": 0.5}, \"mode\": \"markers\", \"text\": \"SSIS/SSRS appears with VBA 95 times\", \"x\": [0.1472208874110358], \"y\": [0.8878772495733332], \"type\": \"scatter\", \"uid\": \"bbb23778-b14b-4950-a9d9-3df0d96647a1\"}, {\"hoverinfo\": \"text\", \"marker\": {\"color\": \"blue\", \"size\": 0.5}, \"mode\": \"markers\", \"text\": \"VBA appears with SSIS/SSRS 95 times\", \"x\": [0.8409423147914665], \"y\": [-0.3206493773472359], \"type\": \"scatter\", \"uid\": \"0743c9bd-3757-47dc-a82c-e92fec0b997a\"}, {\"hoverinfo\": \"text\", \"marker\": {\"color\": \"green\", \"size\": 0.5}, \"mode\": \"markers\", \"text\": \"SSIS/SSRS appears with Linux 22 times\", \"x\": [0.2605486237882554], \"y\": [0.8614606286082064], \"type\": \"scatter\", \"uid\": \"54a4b1ac-ba59-4565-8635-6b831372e9d1\"}, {\"hoverinfo\": \"text\", \"marker\": {\"color\": \"blue\", \"size\": 0.5}, \"mode\": \"markers\", \"text\": \"Linux appears with SSIS/SSRS 22 times\", \"x\": [0.8685654545892879], \"y\": [-0.23578390762328044], \"type\": \"scatter\", \"uid\": \"93f97fa4-ac5b-4206-9855-f9a56f9c1229\"}, {\"hoverinfo\": \"text\", \"marker\": {\"color\": \"green\", \"size\": 0.5}, \"mode\": \"markers\", \"text\": \"SSIS/SSRS appears with AWS 31 times\", \"x\": [0.25586751952259734], \"y\": [0.8628625686940843], \"type\": \"scatter\", \"uid\": \"13d118fb-f7f5-41ed-b0b5-698feafe6c72\"}, {\"hoverinfo\": \"text\", \"marker\": {\"color\": \"blue\", \"size\": 0.5}, \"mode\": \"markers\", \"text\": \"AWS appears with SSIS/SSRS 31 times\", \"x\": [0.8961851923841089], \"y\": [-0.08277741812510095], \"type\": \"scatter\", \"uid\": \"d368d4e9-ccc8-4702-8ac4-5ad8cfd196f2\"}, {\"hoverinfo\": \"text\", \"marker\": {\"color\": \"green\", \"size\": 0.5}, \"mode\": \"markers\", \"text\": \"MS SQL Server appears with PostgreSQL 99 times\", \"x\": [-0.30587542015323604], \"y\": [0.8464279221210045], \"type\": \"scatter\", \"uid\": \"8d08e29d-41b8-4dea-a3e8-2b5c77f68c42\"}, {\"hoverinfo\": \"text\", \"marker\": {\"color\": \"blue\", \"size\": 0.5}, \"mode\": \"markers\", \"text\": \"PostgreSQL appears with MS SQL Server 99 times\", \"x\": [-0.6133190570036483], \"y\": [0.6586651154540945], \"type\": \"scatter\", \"uid\": \"c5d7e659-13ba-4de3-9126-43669b47a675\"}, {\"hoverinfo\": \"text\", \"marker\": {\"color\": \"green\", \"size\": 0.5}, \"mode\": \"markers\", \"text\": \"MS SQL Server appears with MySQL/MariaDB 105 times\", \"x\": [-0.3231471645140923], \"y\": [0.839985660631479], \"type\": \"scatter\", \"uid\": \"5b03e3e5-2fb3-4df1-9a5c-998c8883c31d\"}, {\"hoverinfo\": \"text\", \"marker\": {\"color\": \"blue\", \"size\": 0.5}, \"mode\": \"markers\", \"text\": \"MySQL/MariaDB appears with MS SQL Server 105 times\", \"x\": [-0.7115256749994346], \"y\": [0.5511181486910034], \"type\": \"scatter\", \"uid\": \"6560a33f-3f52-4a6a-a79b-64d9342a5222\"}, {\"hoverinfo\": \"text\", \"marker\": {\"color\": \"green\", \"size\": 0.5}, \"mode\": \"markers\", \"text\": \"MS SQL Server appears with T-SQL 185 times\", \"x\": [-0.4092622295612555], \"y\": [0.8015637388595809], \"type\": \"scatter\", \"uid\": \"55478dd5-d6e7-42d2-9986-c76624ee3514\"}, {\"hoverinfo\": \"text\", \"marker\": {\"color\": \"blue\", \"size\": 0.5}, \"mode\": \"markers\", \"text\": \"T-SQL appears with MS SQL Server 185 times\", \"x\": [-0.8350101129915719], \"y\": [0.33579474564352907], \"type\": \"scatter\", \"uid\": \"08763d23-be25-482b-ad2f-baae35b414f4\"}, {\"hoverinfo\": \"text\", \"marker\": {\"color\": \"green\", \"size\": 0.5}, \"mode\": \"markers\", \"text\": \"MS SQL Server appears with PL/SQL 14 times\", \"x\": [-0.23217531394478283], \"y\": [0.869537016805289], \"type\": \"scatter\", \"uid\": \"9f464803-60fe-44aa-8f72-827e907805cd\"}, {\"hoverinfo\": \"text\", \"marker\": {\"color\": \"blue\", \"size\": 0.5}, \"mode\": \"markers\", \"text\": \"PL/SQL appears with MS SQL Server 14 times\", \"x\": [-0.8627306996975442], \"y\": [0.25631180191201836], \"type\": \"scatter\", \"uid\": \"6b82afe9-1542-4912-b5e3-52e0b9c578b7\"}, {\"hoverinfo\": \"text\", \"marker\": {\"color\": \"green\", \"size\": 0.5}, \"mode\": \"markers\", \"text\": \"MS SQL Server appears with Pentaho 49 times\", \"x\": [-0.26007515670718845], \"y\": [0.8616036866586234], \"type\": \"scatter\", \"uid\": \"b1c81c2e-cae8-4f04-aa88-eb26dfbcdd2c\"}, {\"hoverinfo\": \"text\", \"marker\": {\"color\": \"blue\", \"size\": 0.5}, \"mode\": \"markers\", \"text\": \"Pentaho appears with MS SQL Server 49 times\", \"x\": [-0.8909062337916221], \"y\": [0.12761693692934142], \"type\": \"scatter\", \"uid\": \"f93101a7-886a-49d9-8ca1-9102bf2c3a73\"}, {\"hoverinfo\": \"text\", \"marker\": {\"color\": \"green\", \"size\": 0.5}, \"mode\": \"markers\", \"text\": \"MS SQL Server appears with Hadoop 34 times\", \"x\": [-0.24611373764031316], \"y\": [0.865695112695408], \"type\": \"scatter\", \"uid\": \"5a7c7bae-30f8-4f4c-a674-4877746e8443\"}, {\"hoverinfo\": \"text\", \"marker\": {\"color\": \"blue\", \"size\": 0.5}, \"mode\": \"markers\", \"text\": \"Hadoop appears with MS SQL Server 34 times\", \"x\": [-0.8985814490707268], \"y\": [0.05051118080141167], \"type\": \"scatter\", \"uid\": \"65810052-ab38-48e4-a960-606078840ae9\"}, {\"hoverinfo\": \"text\", \"marker\": {\"color\": \"green\", \"size\": 0.5}, \"mode\": \"markers\", \"text\": \"MS SQL Server appears with Spark 34 times\", \"x\": [-0.24019745996413483], \"y\": [0.8673552791254445], \"type\": \"scatter\", \"uid\": \"3df37230-eb26-4ab3-a37a-a34d9a30c30a\"}, {\"hoverinfo\": \"text\", \"marker\": {\"color\": \"blue\", \"size\": 0.5}, \"mode\": \"markers\", \"text\": \"Spark appears with MS SQL Server 34 times\", \"x\": [-0.8905566302245554], \"y\": [-0.13003418151810847], \"type\": \"scatter\", \"uid\": \"10d98e89-7895-4c1a-9d7d-9471679aafdc\"}, {\"hoverinfo\": \"text\", \"marker\": {\"color\": \"green\", \"size\": 0.5}, \"mode\": \"markers\", \"text\": \"MS SQL Server appears with Informatica 66 times\", \"x\": [-0.279987132745292], \"y\": [0.8553404032881121], \"type\": \"scatter\", \"uid\": \"7a8e35e5-f9e0-4caa-9149-1fe9430be57a\"}, {\"hoverinfo\": \"text\", \"marker\": {\"color\": \"blue\", \"size\": 0.5}, \"mode\": \"markers\", \"text\": \"Informatica appears with MS SQL Server 66 times\", \"x\": [-0.8417814807638982], \"y\": [-0.31843985090270815], \"type\": \"scatter\", \"uid\": \"9fd7b0a4-4403-46f4-92b2-b7f695e41f8a\"}, {\"hoverinfo\": \"text\", \"marker\": {\"color\": \"green\", \"size\": 0.5}, \"mode\": \"markers\", \"text\": \"MS SQL Server appears with Qlik 69 times\", \"x\": [-0.2915549559609148], \"y\": [0.8514667977405984], \"type\": \"scatter\", \"uid\": \"09dfd18a-bdce-4ab9-91ab-1f7e35005271\"}, {\"hoverinfo\": \"text\", \"marker\": {\"color\": \"blue\", \"size\": 0.5}, \"mode\": \"markers\", \"text\": \"Qlik appears with MS SQL Server 69 times\", \"x\": [-0.7708122685834043], \"y\": [-0.4645949274381994], \"type\": \"scatter\", \"uid\": \"20518f42-e22b-41c3-86b4-349283002401\"}, {\"hoverinfo\": \"text\", \"marker\": {\"color\": \"green\", \"size\": 0.5}, \"mode\": \"markers\", \"text\": \"MS SQL Server appears with Tableau 119 times\", \"x\": [-0.3419557893879341], \"y\": [0.8325059988396929], \"type\": \"scatter\", \"uid\": \"8a317a7e-78f4-47eb-a16c-5a46803484d4\"}, {\"hoverinfo\": \"text\", \"marker\": {\"color\": \"blue\", \"size\": 0.5}, \"mode\": \"markers\", \"text\": \"Tableau appears with MS SQL Server 119 times\", \"x\": [-0.45054982773739055], \"y\": [-0.7791051615320026], \"type\": \"scatter\", \"uid\": \"02472344-ef5a-4623-81ae-7d50ce6250b9\"}, {\"hoverinfo\": \"text\", \"marker\": {\"color\": \"green\", \"size\": 0.5}, \"mode\": \"markers\", \"text\": \"MS SQL Server appears with Microstrategy 22 times\", \"x\": [-0.23531681172615068], \"y\": [0.8686921192914319], \"type\": \"scatter\", \"uid\": \"86d6704a-756f-4256-863f-35ddff583015\"}, {\"hoverinfo\": \"text\", \"marker\": {\"color\": \"blue\", \"size\": 0.5}, \"mode\": \"markers\", \"text\": \"Microstrategy appears with MS SQL Server 22 times\", \"x\": [-0.08786665494214899], \"y\": [-0.8957005364234619], \"type\": \"scatter\", \"uid\": \"f14ff76c-a1b0-4b4b-a64a-8e65bdf94dbe\"}, {\"hoverinfo\": \"text\", \"marker\": {\"color\": \"green\", \"size\": 0.5}, \"mode\": \"markers\", \"text\": \"MS SQL Server appears with Oracle BI 190 times\", \"x\": [-0.4391455092780538], \"y\": [0.7855897285994253], \"type\": \"scatter\", \"uid\": \"cfe941ac-5080-49cf-9012-95f03211f087\"}, {\"hoverinfo\": \"text\", \"marker\": {\"color\": \"blue\", \"size\": 0.5}, \"mode\": \"markers\", \"text\": \"Oracle BI appears with MS SQL Server 190 times\", \"x\": [0.18692101118150017], \"y\": [-0.8803752243100015], \"type\": \"scatter\", \"uid\": \"b3080f18-383b-402d-b1ea-34c93b2efc64\"}, {\"hoverinfo\": \"text\", \"marker\": {\"color\": \"green\", \"size\": 0.5}, \"mode\": \"markers\", \"text\": \"MS SQL Server appears with Python 121 times\", \"x\": [-0.3619156983473966], \"y\": [0.8240248948240073], \"type\": \"scatter\", \"uid\": \"e0d974ae-0771-42d5-a6e4-9f8ca209b4a0\"}, {\"hoverinfo\": \"text\", \"marker\": {\"color\": \"blue\", \"size\": 0.5}, \"mode\": \"markers\", \"text\": \"Python appears with MS SQL Server 121 times\", \"x\": [0.6602910842092331], \"y\": [-0.6115682170566057], \"type\": \"scatter\", \"uid\": \"f11301df-343d-4803-93fe-5845e3d31e9e\"}, {\"hoverinfo\": \"text\", \"marker\": {\"color\": \"green\", \"size\": 0.5}, \"mode\": \"markers\", \"text\": \"MS SQL Server appears with VBA 39 times\", \"x\": [-0.25245225914028996], \"y\": [0.8638679626279493], \"type\": \"scatter\", \"uid\": \"eea5906f-19ee-4698-b7b3-814d5ef5f89d\"}, {\"hoverinfo\": \"text\", \"marker\": {\"color\": \"blue\", \"size\": 0.5}, \"mode\": \"markers\", \"text\": \"VBA appears with MS SQL Server 39 times\", \"x\": [0.8196665541566939], \"y\": [-0.3716809653410996], \"type\": \"scatter\", \"uid\": \"920281a7-619b-4223-935c-16ee4caefa6d\"}, {\"hoverinfo\": \"text\", \"marker\": {\"color\": \"green\", \"size\": 0.5}, \"mode\": \"markers\", \"text\": \"MS SQL Server appears with Linux 58 times\", \"x\": [-0.2693164970239277], \"y\": [0.8587599341089225], \"type\": \"scatter\", \"uid\": \"1b813ee4-8eea-4a66-ad11-fd29b7164f61\"}, {\"hoverinfo\": \"text\", \"marker\": {\"color\": \"blue\", \"size\": 0.5}, \"mode\": \"markers\", \"text\": \"Linux appears with MS SQL Server 58 times\", \"x\": [0.8783818188436938], \"y\": [-0.19607493548346344], \"type\": \"scatter\", \"uid\": \"12ad5d21-ccbd-4e69-8bc3-4a5c8d015ac4\"}, {\"hoverinfo\": \"text\", \"marker\": {\"color\": \"green\", \"size\": 0.5}, \"mode\": \"markers\", \"text\": \"MS SQL Server appears with AWS 10 times\", \"x\": [-0.2300792943160105], \"y\": [0.8700939709750014], \"type\": \"scatter\", \"uid\": \"7632f66b-2db5-4cfc-a4b1-9f3d7d081eb4\"}, {\"hoverinfo\": \"text\", \"marker\": {\"color\": \"blue\", \"size\": 0.5}, \"mode\": \"markers\", \"text\": \"AWS appears with MS SQL Server 10 times\", \"x\": [0.8948506026110263], \"y\": [-0.0961373965046016], \"type\": \"scatter\", \"uid\": \"b928be65-a80a-4f0f-baf8-60033aa3f7ec\"}, {\"hoverinfo\": \"text\", \"marker\": {\"color\": \"green\", \"size\": 0.5}, \"mode\": \"markers\", \"text\": \"PostgreSQL appears with MySQL/MariaDB 110 times\", \"x\": [-0.6246778672644782], \"y\": [0.6479024325852645], \"type\": \"scatter\", \"uid\": \"308b4bbe-40c5-4962-a125-1a49cb260ac3\"}, {\"hoverinfo\": \"text\", \"marker\": {\"color\": \"blue\", \"size\": 0.5}, \"mode\": \"markers\", \"text\": \"MySQL/MariaDB appears with PostgreSQL 110 times\", \"x\": [-0.7221197907911504], \"y\": [0.5371619939531698], \"type\": \"scatter\", \"uid\": \"1594564a-e518-438f-97b3-7a911c020112\"}, {\"hoverinfo\": \"text\", \"marker\": {\"color\": \"green\", \"size\": 0.5}, \"mode\": \"markers\", \"text\": \"PostgreSQL appears with T-SQL 42 times\", \"x\": [-0.5728483565026511], \"y\": [0.69415038748978], \"type\": \"scatter\", \"uid\": \"f955f0a6-abe3-4d64-8d9e-8ce7c336430b\"}, {\"hoverinfo\": \"text\", \"marker\": {\"color\": \"blue\", \"size\": 0.5}, \"mode\": \"markers\", \"text\": \"T-SQL appears with PostgreSQL 42 times\", \"x\": [-0.7782765931556147], \"y\": [0.4519795842138114], \"type\": \"scatter\", \"uid\": \"356e2999-2b57-434d-9ca7-87dcea7bbb9c\"}, {\"hoverinfo\": \"text\", \"marker\": {\"color\": \"green\", \"size\": 0.5}, \"mode\": \"markers\", \"text\": \"PostgreSQL appears with PL/SQL 3 times\", \"x\": [-0.5617468844696129], \"y\": [0.7031645879797158], \"type\": \"scatter\", \"uid\": \"9c9be3da-0ee5-41ec-aef0-1f7f746bf1ae\"}, {\"hoverinfo\": \"text\", \"marker\": {\"color\": \"blue\", \"size\": 0.5}, \"mode\": \"markers\", \"text\": \"PL/SQL appears with PostgreSQL 3 times\", \"x\": [-0.8609554217513554], \"y\": [0.2622131990517367], \"type\": \"scatter\", \"uid\": \"3b08959a-04b3-40ab-a24d-6735d3a0621d\"}, {\"hoverinfo\": \"text\", \"marker\": {\"color\": \"green\", \"size\": 0.5}, \"mode\": \"markers\", \"text\": \"PostgreSQL appears with Pentaho 50 times\", \"x\": [-0.5836342381599923], \"y\": [0.685106616554975], \"type\": \"scatter\", \"uid\": \"4890c411-9168-4761-b607-8afd091cf230\"}, {\"hoverinfo\": \"text\", \"marker\": {\"color\": \"blue\", \"size\": 0.5}, \"mode\": \"markers\", \"text\": \"Pentaho appears with PostgreSQL 50 times\", \"x\": [-0.8919094127577452], \"y\": [0.12040597756811847], \"type\": \"scatter\", \"uid\": \"8e3edf4f-9b60-46af-9b3a-158fb669a706\"}, {\"hoverinfo\": \"text\", \"marker\": {\"color\": \"green\", \"size\": 0.5}, \"mode\": \"markers\", \"text\": \"PostgreSQL appears with Hadoop 4 times\", \"x\": [-0.5621562655058135], \"y\": [0.7028373447338704], \"type\": \"scatter\", \"uid\": \"519a32a5-a5ba-455c-aa86-13ef25d5f2cf\"}, {\"hoverinfo\": \"text\", \"marker\": {\"color\": \"blue\", \"size\": 0.5}, \"mode\": \"markers\", \"text\": \"Hadoop appears with PostgreSQL 4 times\", \"x\": [-0.8974324783618157], \"y\": [0.06793339960114758], \"type\": \"scatter\", \"uid\": \"1d6fb5ca-109f-439c-877e-5c7b25b2a1d5\"}, {\"hoverinfo\": \"text\", \"marker\": {\"color\": \"green\", \"size\": 0.5}, \"mode\": \"markers\", \"text\": \"PostgreSQL appears with Spark 13 times\", \"x\": [-0.564550235964092], \"y\": [0.7009158516347651], \"type\": \"scatter\", \"uid\": \"40f64ae9-8d5d-4bcf-a772-b8efdba4559d\"}, {\"hoverinfo\": \"text\", \"marker\": {\"color\": \"blue\", \"size\": 0.5}, \"mode\": \"markers\", \"text\": \"Spark appears with PostgreSQL 13 times\", \"x\": [-0.8936722655886349], \"y\": [-0.10653582363541608], \"type\": \"scatter\", \"uid\": \"cf9f6f22-635a-4bcb-9b29-57da29a9a84c\"}, {\"hoverinfo\": \"text\", \"marker\": {\"color\": \"green\", \"size\": 0.5}, \"mode\": \"markers\", \"text\": \"PostgreSQL appears with Informatica 2 times\", \"x\": [-0.5614543528058905], \"y\": [0.7033981871709072], \"type\": \"scatter\", \"uid\": \"46cb577d-ad8a-46d5-b5ff-de911fe31a4b\"}, {\"hoverinfo\": \"text\", \"marker\": {\"color\": \"blue\", \"size\": 0.5}, \"mode\": \"markers\", \"text\": \"Informatica appears with PostgreSQL 2 times\", \"x\": [-0.8553133358199435], \"y\": [-0.28006980838455364], \"type\": \"scatter\", \"uid\": \"d0520b6a-7ee0-4328-9c76-e66a7bcdee64\"}, {\"hoverinfo\": \"text\", \"marker\": {\"color\": \"green\", \"size\": 0.5}, \"mode\": \"markers\", \"text\": \"PostgreSQL appears with Qlik 14 times\", \"x\": [-0.566123168145486], \"y\": [0.6996460237069299], \"type\": \"scatter\", \"uid\": \"1cc81269-d788-405c-a0ec-a226fa2d9010\"}, {\"hoverinfo\": \"text\", \"marker\": {\"color\": \"blue\", \"size\": 0.5}, \"mode\": \"markers\", \"text\": \"Qlik appears with PostgreSQL 14 times\", \"x\": [-0.7934892335668967], \"y\": [-0.42470558768801103], \"type\": \"scatter\", \"uid\": \"09376169-b33e-4b5f-811c-ffa6876dfbba\"}, {\"hoverinfo\": \"text\", \"marker\": {\"color\": \"green\", \"size\": 0.5}, \"mode\": \"markers\", \"text\": \"PostgreSQL appears with Tableau 6 times\", \"x\": [-0.5627407648313124], \"y\": [0.7023694409618556], \"type\": \"scatter\", \"uid\": \"2af39a53-db73-4756-9010-3d985f29dc80\"}, {\"hoverinfo\": \"text\", \"marker\": {\"color\": \"blue\", \"size\": 0.5}, \"mode\": \"markers\", \"text\": \"Tableau appears with PostgreSQL 6 times\", \"x\": [-0.5507573939427011], \"y\": [-0.711804954336119], \"type\": \"scatter\", \"uid\": \"9143988f-a467-4ea5-b737-bd578704238c\"}, {\"hoverinfo\": \"text\", \"marker\": {\"color\": \"green\", \"size\": 0.5}, \"mode\": \"markers\", \"text\": \"PostgreSQL appears with Oracle BI 50 times\", \"x\": [-0.5893134132242648], \"y\": [0.6802276832017107], \"type\": \"scatter\", \"uid\": \"4061a1e0-d100-457e-ab1c-0518cf80f7d4\"}, {\"hoverinfo\": \"text\", \"marker\": {\"color\": \"blue\", \"size\": 0.5}, \"mode\": \"markers\", \"text\": \"Oracle BI appears with PostgreSQL 50 times\", \"x\": [0.018968434226949625], \"y\": [-0.8998000880767782], \"type\": \"scatter\", \"uid\": \"db0d0678-3f61-488e-bdeb-1595c94cdf47\"}, {\"hoverinfo\": \"text\", \"marker\": {\"color\": \"green\", \"size\": 0.5}, \"mode\": \"markers\", \"text\": \"PostgreSQL appears with Python 30 times\", \"x\": [-0.5686803416421897], \"y\": [0.6975691141598246], \"type\": \"scatter\", \"uid\": \"0c4a3b26-3c74-4e31-957c-7fac0bace36d\"}, {\"hoverinfo\": \"text\", \"marker\": {\"color\": \"blue\", \"size\": 0.5}, \"mode\": \"markers\", \"text\": \"Python appears with PostgreSQL 30 times\", \"x\": [0.5674778314351815], \"y\": [-0.6985477154995382], \"type\": \"scatter\", \"uid\": \"4638fa56-86b7-46ad-854c-6269a9ef40ed\"}, {\"hoverinfo\": \"text\", \"marker\": {\"color\": \"green\", \"size\": 0.5}, \"mode\": \"markers\", \"text\": \"PostgreSQL appears with Linux 48 times\", \"x\": [-0.5780294565899086], \"y\": [0.6898419727114138], \"type\": \"scatter\", \"uid\": \"4425e635-85f2-47dc-9d8e-6aa60f3afee6\"}, {\"hoverinfo\": \"text\", \"marker\": {\"color\": \"blue\", \"size\": 0.5}, \"mode\": \"markers\", \"text\": \"Linux appears with PostgreSQL 48 times\", \"x\": [0.8746942703298843], \"y\": [-0.21191963913727113], \"type\": \"scatter\", \"uid\": \"c80c5587-723c-4f62-910d-303935dc454a\"}, {\"hoverinfo\": \"text\", \"marker\": {\"color\": \"green\", \"size\": 0.5}, \"mode\": \"markers\", \"text\": \"PostgreSQL appears with AWS 6 times\", \"x\": [-0.5634416499074364], \"y\": [0.7018073148304924], \"type\": \"scatter\", \"uid\": \"2bb0d272-de65-4635-b895-6b4d384ef120\"}, {\"hoverinfo\": \"text\", \"marker\": {\"color\": \"blue\", \"size\": 0.5}, \"mode\": \"markers\", \"text\": \"AWS appears with PostgreSQL 6 times\", \"x\": [0.8947297597747523], \"y\": [-0.09725562694987876], \"type\": \"scatter\", \"uid\": \"ac66b888-bf28-43ab-8cf5-e4a2f96ee447\"}, {\"hoverinfo\": \"text\", \"marker\": {\"color\": \"green\", \"size\": 0.5}, \"mode\": \"markers\", \"text\": \"MySQL/MariaDB appears with T-SQL 41 times\", \"x\": [-0.6614324456156846], \"y\": [0.6103336135973951], \"type\": \"scatter\", \"uid\": \"cff2c220-b1e7-409a-bdc5-685a398a534d\"}, {\"hoverinfo\": \"text\", \"marker\": {\"color\": \"blue\", \"size\": 0.5}, \"mode\": \"markers\", \"text\": \"T-SQL appears with MySQL/MariaDB 41 times\", \"x\": [-0.7709069216609051], \"y\": [0.46443785174693414], \"type\": \"scatter\", \"uid\": \"dc387dc7-ad10-4ae1-9891-f9f0521e7fb1\"}, {\"hoverinfo\": \"text\", \"marker\": {\"color\": \"green\", \"size\": 0.5}, \"mode\": \"markers\", \"text\": \"MySQL/MariaDB appears with PL/SQL 1 times\", \"x\": [-0.6504964277091443], \"y\": [0.6219762033531847], \"type\": \"scatter\", \"uid\": \"b3321c70-36ef-4320-adce-5ba3f548a5a8\"}, {\"hoverinfo\": \"text\", \"marker\": {\"color\": \"blue\", \"size\": 0.5}, \"mode\": \"markers\", \"text\": \"PL/SQL appears with MySQL/MariaDB 1 times\", \"x\": [-0.8606903870554433], \"y\": [0.2630818458775735], \"type\": \"scatter\", \"uid\": \"2a833d91-5879-4277-9a16-fe798e96d901\"}, {\"hoverinfo\": \"text\", \"marker\": {\"color\": \"green\", \"size\": 0.5}, \"mode\": \"markers\", \"text\": \"MySQL/MariaDB appears with Pentaho 68 times\", \"x\": [-0.6854828546531373], \"y\": [0.5831922975971012], \"type\": \"scatter\", \"uid\": \"5bca2557-dbbd-4604-b1c6-ad3d57097a87\"}, {\"hoverinfo\": \"text\", \"marker\": {\"color\": \"blue\", \"size\": 0.5}, \"mode\": \"markers\", \"text\": \"Pentaho appears with MySQL/MariaDB 68 times\", \"x\": [-0.8930288748544658], \"y\": [0.11180084380793763], \"type\": \"scatter\", \"uid\": \"d2aafb06-00f0-43b7-8cb4-6c62653ae504\"}, {\"hoverinfo\": \"text\", \"marker\": {\"color\": \"green\", \"size\": 0.5}, \"mode\": \"markers\", \"text\": \"MySQL/MariaDB appears with Hadoop 7 times\", \"x\": [-0.6522959879540593], \"y\": [0.6200886582570574], \"type\": \"scatter\", \"uid\": \"eef6d2cd-d2dd-4bcb-9037-2040ae24f974\"}, {\"hoverinfo\": \"text\", \"marker\": {\"color\": \"blue\", \"size\": 0.5}, \"mode\": \"markers\", \"text\": \"Hadoop appears with MySQL/MariaDB 7 times\", \"x\": [-0.8976316948044541], \"y\": [0.06524829869416722], \"type\": \"scatter\", \"uid\": \"74bd81a3-de38-4419-92f9-0e29f912b246\"}, {\"hoverinfo\": \"text\", \"marker\": {\"color\": \"green\", \"size\": 0.5}, \"mode\": \"markers\", \"text\": \"MySQL/MariaDB appears with Spark 30 times\", \"x\": [-0.657494816314175], \"y\": [0.6145734834175565], \"type\": \"scatter\", \"uid\": \"426ba9bf-25af-4bfe-95ce-25b7f9590b79\"}, {\"hoverinfo\": \"text\", \"marker\": {\"color\": \"blue\", \"size\": 0.5}, \"mode\": \"markers\", \"text\": \"Spark appears with MySQL/MariaDB 30 times\", \"x\": [-0.892066470115229], \"y\": [-0.11923679338256024], \"type\": \"scatter\", \"uid\": \"1119d538-f8b1-472f-a834-601ec4c9d13c\"}, {\"hoverinfo\": \"text\", \"marker\": {\"color\": \"green\", \"size\": 0.5}, \"mode\": \"markers\", \"text\": \"MySQL/MariaDB appears with Informatica 11 times\", \"x\": [-0.6533058346442994], \"y\": [0.6190246250511489], \"type\": \"scatter\", \"uid\": \"7e240298-5a2d-44cc-9a15-99f78f831706\"}, {\"hoverinfo\": \"text\", \"marker\": {\"color\": \"blue\", \"size\": 0.5}, \"mode\": \"markers\", \"text\": \"Informatica appears with MySQL/MariaDB 11 times\", \"x\": [-0.8544402471401719], \"y\": [-0.2827222383666381], \"type\": \"scatter\", \"uid\": \"cc737254-729f-425a-9dad-0b889fe1c67f\"}, {\"hoverinfo\": \"text\", \"marker\": {\"color\": \"green\", \"size\": 0.5}, \"mode\": \"markers\", \"text\": \"MySQL/MariaDB appears with Qlik 17 times\", \"x\": [-0.6548732563918449], \"y\": [0.6173661944605818], \"type\": \"scatter\", \"uid\": \"f5ab961d-9b14-4184-8589-0f4535d2327d\"}, {\"hoverinfo\": \"text\", \"marker\": {\"color\": \"blue\", \"size\": 0.5}, \"mode\": \"markers\", \"text\": \"Qlik appears with MySQL/MariaDB 17 times\", \"x\": [-0.7907824543380811], \"y\": [-0.4297244581252511], \"type\": \"scatter\", \"uid\": \"1744acac-0dbc-4412-aa66-54e5407ba0b7\"}, {\"hoverinfo\": \"text\", \"marker\": {\"color\": \"green\", \"size\": 0.5}, \"mode\": \"markers\", \"text\": \"MySQL/MariaDB appears with Tableau 55 times\", \"x\": [-0.6721601152547241], \"y\": [0.5984987714780675], \"type\": \"scatter\", \"uid\": \"3dd6f3bf-dacf-4fc0-8d69-3e58d47fe9e7\"}, {\"hoverinfo\": \"text\", \"marker\": {\"color\": \"blue\", \"size\": 0.5}, \"mode\": \"markers\", \"text\": \"Tableau appears with MySQL/MariaDB 55 times\", \"x\": [-0.5138407904415482], \"y\": [-0.7388962322805585], \"type\": \"scatter\", \"uid\": \"40ff2e91-0c17-4495-81f2-5391d1bf93bc\"}, {\"hoverinfo\": \"text\", \"marker\": {\"color\": \"green\", \"size\": 0.5}, \"mode\": \"markers\", \"text\": \"MySQL/MariaDB appears with Oracle BI 78 times\", \"x\": [-0.6931329386954118], \"y\": [0.5740790270472023], \"type\": \"scatter\", \"uid\": \"b4f504a5-871f-401b-9721-ccea393633e6\"}, {\"hoverinfo\": \"text\", \"marker\": {\"color\": \"blue\", \"size\": 0.5}, \"mode\": \"markers\", \"text\": \"Oracle BI appears with MySQL/MariaDB 78 times\", \"x\": [0.043408503949453475], \"y\": [-0.8989525581391213], \"type\": \"scatter\", \"uid\": \"e3e5906b-a0b4-4dc7-93cd-5fcc4e08dd34\"}, {\"hoverinfo\": \"text\", \"marker\": {\"color\": \"green\", \"size\": 0.5}, \"mode\": \"markers\", \"text\": \"MySQL/MariaDB appears with Python 63 times\", \"x\": [-0.6785167187324642], \"y\": [0.5912825571590372], \"type\": \"scatter\", \"uid\": \"006cfad8-7020-4c83-85f9-9bcbc4f6b697\"}, {\"hoverinfo\": \"text\", \"marker\": {\"color\": \"blue\", \"size\": 0.5}, \"mode\": \"markers\", \"text\": \"Python appears with MySQL/MariaDB 63 times\", \"x\": [0.5986868818948086], \"y\": [-0.6719925724642138], \"type\": \"scatter\", \"uid\": \"6998d115-ec2b-4f31-97d6-1b4a0f603660\"}, {\"hoverinfo\": \"text\", \"marker\": {\"color\": \"green\", \"size\": 0.5}, \"mode\": \"markers\", \"text\": \"MySQL/MariaDB appears with VBA 5 times\", \"x\": [-0.6510593777303174], \"y\": [0.6213869057756302], \"type\": \"scatter\", \"uid\": \"d2d31676-3d38-4ce3-bcbe-f06568f718b5\"}, {\"hoverinfo\": \"text\", \"marker\": {\"color\": \"blue\", \"size\": 0.5}, \"mode\": \"markers\", \"text\": \"VBA appears with MySQL/MariaDB 5 times\", \"x\": [0.8113287378477616], \"y\": [-0.38954547763047914], \"type\": \"scatter\", \"uid\": \"6a348c29-749c-4692-8135-678d7f642b39\"}, {\"hoverinfo\": \"text\", \"marker\": {\"color\": \"green\", \"size\": 0.5}, \"mode\": \"markers\", \"text\": \"MySQL/MariaDB appears with Linux 50 times\", \"x\": [-0.6664392666943141], \"y\": [0.6048625495167848], \"type\": \"scatter\", \"uid\": \"15a5b8a7-f21b-48c4-a2b4-4a31573bb2b2\"}, {\"hoverinfo\": \"text\", \"marker\": {\"color\": \"blue\", \"size\": 0.5}, \"mode\": \"markers\", \"text\": \"Linux appears with MySQL/MariaDB 50 times\", \"x\": [0.8764842566855147], \"y\": [-0.20439018514214624], \"type\": \"scatter\", \"uid\": \"f73519c8-59d8-419b-b578-abc39693ea62\"}, {\"hoverinfo\": \"text\", \"marker\": {\"color\": \"green\", \"size\": 0.5}, \"mode\": \"markers\", \"text\": \"MySQL/MariaDB appears with AWS 2 times\", \"x\": [-0.6506653687429317], \"y\": [0.6217994676088303], \"type\": \"scatter\", \"uid\": \"333056e6-8f78-477e-882d-4319cb7d2f1d\"}, {\"hoverinfo\": \"text\", \"marker\": {\"color\": \"blue\", \"size\": 0.5}, \"mode\": \"markers\", \"text\": \"AWS appears with MySQL/MariaDB 2 times\", \"x\": [0.8944527545442068], \"y\": [-0.09977108743659723], \"type\": \"scatter\", \"uid\": \"3d2b9c33-2d49-4bd3-acf0-67255cffe098\"}, {\"hoverinfo\": \"text\", \"marker\": {\"color\": \"green\", \"size\": 0.5}, \"mode\": \"markers\", \"text\": \"T-SQL appears with PL/SQL 48 times\", \"x\": [-0.7821649107016572], \"y\": [0.4452168600435846], \"type\": \"scatter\", \"uid\": \"612e5aa1-8741-4788-ab26-b7f5f3f2e81f\"}, {\"hoverinfo\": \"text\", \"marker\": {\"color\": \"blue\", \"size\": 0.5}, \"mode\": \"markers\", \"text\": \"PL/SQL appears with T-SQL 48 times\", \"x\": [-0.8675896149432806], \"y\": [0.23934966062764756], \"type\": \"scatter\", \"uid\": \"982907d2-860b-4597-a9ee-fa10b82361ae\"}, {\"hoverinfo\": \"text\", \"marker\": {\"color\": \"green\", \"size\": 0.5}, \"mode\": \"markers\", \"text\": \"T-SQL appears with Pentaho 42 times\", \"x\": [-0.7745947377942236], \"y\": [0.4582608342216232], \"type\": \"scatter\", \"uid\": \"41b9006d-dc61-4faf-8467-e7aa5f97ee5c\"}, {\"hoverinfo\": \"text\", \"marker\": {\"color\": \"blue\", \"size\": 0.5}, \"mode\": \"markers\", \"text\": \"Pentaho appears with T-SQL 42 times\", \"x\": [-0.8899326957225134], \"y\": [0.1342378377509876], \"type\": \"scatter\", \"uid\": \"d7c594d3-b805-4841-bd50-5956d45c92b6\"}, {\"hoverinfo\": \"text\", \"marker\": {\"color\": \"green\", \"size\": 0.5}, \"mode\": \"markers\", \"text\": \"T-SQL appears with Hadoop 24 times\", \"x\": [-0.7605700942797785], \"y\": [0.4811788977991957], \"type\": \"scatter\", \"uid\": \"2e5cfc29-ba93-42f8-9408-e98c67c23f4b\"}, {\"hoverinfo\": \"text\", \"marker\": {\"color\": \"blue\", \"size\": 0.5}, \"mode\": \"markers\", \"text\": \"Hadoop appears with T-SQL 24 times\", \"x\": [-0.8980222759581954], \"y\": [0.05963213800345266], \"type\": \"scatter\", \"uid\": \"ecd56ada-6a59-4138-83e4-ced05e968eb2\"}, {\"hoverinfo\": \"text\", \"marker\": {\"color\": \"green\", \"size\": 0.5}, \"mode\": \"markers\", \"text\": \"T-SQL appears with Spark 25 times\", \"x\": [-0.7628323267469165], \"y\": [0.4775843813085659], \"type\": \"scatter\", \"uid\": \"ffa48b0d-5e69-41cb-b6d8-d2dac54693bd\"}, {\"hoverinfo\": \"text\", \"marker\": {\"color\": \"blue\", \"size\": 0.5}, \"mode\": \"markers\", \"text\": \"Spark appears with T-SQL 25 times\", \"x\": [-0.8926569466597079], \"y\": [-0.11473262648509094], \"type\": \"scatter\", \"uid\": \"6ee00ee0-9605-4d2f-ab74-079d72bbca27\"}, {\"hoverinfo\": \"text\", \"marker\": {\"color\": \"green\", \"size\": 0.5}, \"mode\": \"markers\", \"text\": \"T-SQL appears with Informatica 13 times\", \"x\": [-0.7572621275817829], \"y\": [0.4863682453967484], \"type\": \"scatter\", \"uid\": \"35bc103e-1959-415b-94b8-fc2323739114\"}, {\"hoverinfo\": \"text\", \"marker\": {\"color\": \"blue\", \"size\": 0.5}, \"mode\": \"markers\", \"text\": \"Informatica appears with T-SQL 13 times\", \"x\": [-0.8532294944409898], \"y\": [-0.28635542567929984], \"type\": \"scatter\", \"uid\": \"1c1d1664-07f4-4e29-a666-a1c659f6e1be\"}, {\"hoverinfo\": \"text\", \"marker\": {\"color\": \"green\", \"size\": 0.5}, \"mode\": \"markers\", \"text\": \"T-SQL appears with Qlik 77 times\", \"x\": [-0.7963617961708186], \"y\": [0.4192945141539388], \"type\": \"scatter\", \"uid\": \"a7bae992-b131-496e-ba79-8e0a4d9a436e\"}, {\"hoverinfo\": \"text\", \"marker\": {\"color\": \"blue\", \"size\": 0.5}, \"mode\": \"markers\", \"text\": \"Qlik appears with T-SQL 77 times\", \"x\": [-0.7639077397813296], \"y\": [-0.47586233839439357], \"type\": \"scatter\", \"uid\": \"b9b91ec5-c487-4724-b6c9-36f2f6de0edd\"}, {\"hoverinfo\": \"text\", \"marker\": {\"color\": \"green\", \"size\": 0.5}, \"mode\": \"markers\", \"text\": \"T-SQL appears with Tableau 106 times\", \"x\": [-0.8036274775525928], \"y\": [0.40519486339594296], \"type\": \"scatter\", \"uid\": \"769a222a-28e5-4ae8-9877-f71813229381\"}, {\"hoverinfo\": \"text\", \"marker\": {\"color\": \"blue\", \"size\": 0.5}, \"mode\": \"markers\", \"text\": \"Tableau appears with T-SQL 106 times\", \"x\": [-0.46837613205172124], \"y\": [-0.7685205260266433], \"type\": \"scatter\", \"uid\": \"89f3ae2b-8590-4a89-afdd-84bd2e6b0dc6\"}, {\"hoverinfo\": \"text\", \"marker\": {\"color\": \"green\", \"size\": 0.5}, \"mode\": \"markers\", \"text\": \"T-SQL appears with Microstrategy 17 times\", \"x\": [-0.7586641885151574], \"y\": [0.48417832362120244], \"type\": \"scatter\", \"uid\": \"71cb1e92-8e0c-4441-9a9a-a21774c89ac4\"}, {\"hoverinfo\": \"text\", \"marker\": {\"color\": \"blue\", \"size\": 0.5}, \"mode\": \"markers\", \"text\": \"Microstrategy appears with T-SQL 17 times\", \"x\": [-0.09508523574805126], \"y\": [-0.894963014846277], \"type\": \"scatter\", \"uid\": \"800a0e7a-54d5-4b20-96fb-bd0c7430c3d7\"}, {\"hoverinfo\": \"text\", \"marker\": {\"color\": \"green\", \"size\": 0.5}, \"mode\": \"markers\", \"text\": \"T-SQL appears with Oracle BI 153 times\", \"x\": [-0.8236389449641113], \"y\": [0.36279317570539504], \"type\": \"scatter\", \"uid\": \"e594d918-3763-4b0d-b550-796e74e6271c\"}, {\"hoverinfo\": \"text\", \"marker\": {\"color\": \"blue\", \"size\": 0.5}, \"mode\": \"markers\", \"text\": \"Oracle BI appears with T-SQL 153 times\", \"x\": [0.12377236981158256], \"y\": [-0.8914484844741309], \"type\": \"scatter\", \"uid\": \"726bb530-c321-4065-97aa-1534429c2f68\"}, {\"hoverinfo\": \"text\", \"marker\": {\"color\": \"green\", \"size\": 0.5}, \"mode\": \"markers\", \"text\": \"T-SQL appears with Python 56 times\", \"x\": [-0.7909259294852773], \"y\": [0.42946032886385466], \"type\": \"scatter\", \"uid\": \"6d79ff08-b497-494a-a83c-618ed386b9a5\"}, {\"hoverinfo\": \"text\", \"marker\": {\"color\": \"blue\", \"size\": 0.5}, \"mode\": \"markers\", \"text\": \"Python appears with T-SQL 56 times\", \"x\": [0.5905700541201464], \"y\": [-0.6791369605436942], \"type\": \"scatter\", \"uid\": \"cf171d37-d878-49f0-afbd-0a8be863145b\"}, {\"hoverinfo\": \"text\", \"marker\": {\"color\": \"green\", \"size\": 0.5}, \"mode\": \"markers\", \"text\": \"T-SQL appears with VBA 27 times\", \"x\": [-0.7652144823303119], \"y\": [0.4737581619686914], \"type\": \"scatter\", \"uid\": \"958b139e-7f18-4904-9fb2-c680f2c43036\"}, {\"hoverinfo\": \"text\", \"marker\": {\"color\": \"blue\", \"size\": 0.5}, \"mode\": \"markers\", \"text\": \"VBA appears with T-SQL 27 times\", \"x\": [0.8153770106134142], \"y\": [-0.3809991214729142], \"type\": \"scatter\", \"uid\": \"fb947523-17e7-4905-b40f-defc696ba1a2\"}, {\"hoverinfo\": \"text\", \"marker\": {\"color\": \"green\", \"size\": 0.5}, \"mode\": \"markers\", \"text\": \"T-SQL appears with Linux 29 times\", \"x\": [-0.7677584163668242], \"y\": [0.4696243329491204], \"type\": \"scatter\", \"uid\": \"39bc10ae-b442-492f-8c2a-87900ccc3007\"}, {\"hoverinfo\": \"text\", \"marker\": {\"color\": \"blue\", \"size\": 0.5}, \"mode\": \"markers\", \"text\": \"Linux appears with T-SQL 29 times\", \"x\": [0.871770433373832], \"y\": [-0.22364326838785298], \"type\": \"scatter\", \"uid\": \"2469d31a-48bd-40b7-8782-77d956f7bfae\"}, {\"hoverinfo\": \"text\", \"marker\": {\"color\": \"green\", \"size\": 0.5}, \"mode\": \"markers\", \"text\": \"T-SQL appears with AWS 10 times\", \"x\": [-0.7561829326568908], \"y\": [0.488044436868636], \"type\": \"scatter\", \"uid\": \"9d8bf38d-a1c4-4007-989a-cddf10bddbd0\"}, {\"hoverinfo\": \"text\", \"marker\": {\"color\": \"blue\", \"size\": 0.5}, \"mode\": \"markers\", \"text\": \"AWS appears with T-SQL 10 times\", \"x\": [0.89499969081522], \"y\": [-0.09473939751054229], \"type\": \"scatter\", \"uid\": \"eed633e6-7fce-44b2-a014-cd16b84a4ba5\"}, {\"hoverinfo\": \"text\", \"marker\": {\"color\": \"green\", \"size\": 0.5}, \"mode\": \"markers\", \"text\": \"PL/SQL appears with Pentaho 8 times\", \"x\": [-0.8615391640992699], \"y\": [0.2602888178987552], \"type\": \"scatter\", \"uid\": \"7d99973c-b3b1-4f2e-94a4-9a345d7e50cc\"}, {\"hoverinfo\": \"text\", \"marker\": {\"color\": \"blue\", \"size\": 0.5}, \"mode\": \"markers\", \"text\": \"Pentaho appears with PL/SQL 8 times\", \"x\": [-0.8819639805287873], \"y\": [0.17927503186394075], \"type\": \"scatter\", \"uid\": \"736682ea-31f9-41d2-9afe-b6f7f00c0090\"}, {\"hoverinfo\": \"text\", \"marker\": {\"color\": \"green\", \"size\": 0.5}, \"mode\": \"markers\", \"text\": \"PL/SQL appears with Hadoop 6 times\", \"x\": [-0.8612760709772967], \"y\": [0.2611580547521184], \"type\": \"scatter\", \"uid\": \"99105a19-0bd9-40ff-8564-ec27644da1dc\"}, {\"hoverinfo\": \"text\", \"marker\": {\"color\": \"blue\", \"size\": 0.5}, \"mode\": \"markers\", \"text\": \"Hadoop appears with PL/SQL 6 times\", \"x\": [-0.8975541745363302], \"y\": [0.06630613676279708], \"type\": \"scatter\", \"uid\": \"8070773e-1013-41ac-aa0d-c7805d08f054\"}, {\"hoverinfo\": \"text\", \"marker\": {\"color\": \"green\", \"size\": 0.5}, \"mode\": \"markers\", \"text\": \"PL/SQL appears with Informatica 33 times\", \"x\": [-0.866177441705015], \"y\": [0.24441080066428195], \"type\": \"scatter\", \"uid\": \"7831fe20-175f-4ec5-a6a6-cf498e7afb48\"}, {\"hoverinfo\": \"text\", \"marker\": {\"color\": \"blue\", \"size\": 0.5}, \"mode\": \"markers\", \"text\": \"Informatica appears with PL/SQL 33 times\", \"x\": [-0.8465117827681443], \"y\": [-0.30564325877515774], \"type\": \"scatter\", \"uid\": \"54c8ca16-6048-45e0-8f64-b6b5e2ea2ee5\"}, {\"hoverinfo\": \"text\", \"marker\": {\"color\": \"green\", \"size\": 0.5}, \"mode\": \"markers\", \"text\": \"PL/SQL appears with Qlik 20 times\", \"x\": [-0.8633562374761656], \"y\": [0.25419678835697124], \"type\": \"scatter\", \"uid\": \"68589e28-7a4e-41eb-af7e-2c998bb0dcc6\"}, {\"hoverinfo\": \"text\", \"marker\": {\"color\": \"blue\", \"size\": 0.5}, \"mode\": \"markers\", \"text\": \"Qlik appears with PL/SQL 20 times\", \"x\": [-0.7891779551847529], \"y\": [-0.4326640209798039], \"type\": \"scatter\", \"uid\": \"9eb8d176-f780-475a-a061-d0725016c506\"}, {\"hoverinfo\": \"text\", \"marker\": {\"color\": \"green\", \"size\": 0.5}, \"mode\": \"markers\", \"text\": \"PL/SQL appears with Tableau 26 times\", \"x\": [-0.8641942996243493], \"y\": [0.2513328718985647], \"type\": \"scatter\", \"uid\": \"e57fac67-37a8-425f-86d7-edca4c3386ac\"}, {\"hoverinfo\": \"text\", \"marker\": {\"color\": \"blue\", \"size\": 0.5}, \"mode\": \"markers\", \"text\": \"Tableau appears with PL/SQL 26 times\", \"x\": [-0.5447622212596176], \"y\": [-0.7164036029280475], \"type\": \"scatter\", \"uid\": \"6152243b-db6e-4e7c-a4f8-84cf91920329\"}, {\"hoverinfo\": \"text\", \"marker\": {\"color\": \"green\", \"size\": 0.5}, \"mode\": \"markers\", \"text\": \"PL/SQL appears with Microstrategy 26 times\", \"x\": [-0.8651302340883966], \"y\": [0.2480920757826739], \"type\": \"scatter\", \"uid\": \"6e053126-12e3-4820-8f50-bcb7ace54b00\"}, {\"hoverinfo\": \"text\", \"marker\": {\"color\": \"blue\", \"size\": 0.5}, \"mode\": \"markers\", \"text\": \"Microstrategy appears with PL/SQL 26 times\", \"x\": [-0.08485196562494], \"y\": [-0.8959911517027297], \"type\": \"scatter\", \"uid\": \"184c0801-57dc-48b7-a86f-75870cd7ea4c\"}, {\"hoverinfo\": \"text\", \"marker\": {\"color\": \"green\", \"size\": 0.5}, \"mode\": \"markers\", \"text\": \"PL/SQL appears with Oracle BI 93 times\", \"x\": [-0.8738966754502152], \"y\": [0.21518503813476741], \"type\": \"scatter\", \"uid\": \"e6008e4f-b78f-479c-a65f-095958bd2eef\"}, {\"hoverinfo\": \"text\", \"marker\": {\"color\": \"blue\", \"size\": 0.5}, \"mode\": \"markers\", \"text\": \"Oracle BI appears with PL/SQL 93 times\", \"x\": [0.07572527102407332], \"y\": [-0.8968086101997074], \"type\": \"scatter\", \"uid\": \"968465a1-f5b8-4400-978d-5c16bf59dfa9\"}, {\"hoverinfo\": \"text\", \"marker\": {\"color\": \"green\", \"size\": 0.5}, \"mode\": \"markers\", \"text\": \"PL/SQL appears with Python 3 times\", \"x\": [-0.8608419427855435], \"y\": [0.2625855090084202], \"type\": \"scatter\", \"uid\": \"78c9fba2-d850-492d-acc9-20d9c4f6590e\"}, {\"hoverinfo\": \"text\", \"marker\": {\"color\": \"blue\", \"size\": 0.5}, \"mode\": \"markers\", \"text\": \"Python appears with PL/SQL 3 times\", \"x\": [0.5623139009955058], \"y\": [-0.7027112328312509], \"type\": \"scatter\", \"uid\": \"6789347b-2860-4d35-b8e2-79ae001a2ace\"}, {\"hoverinfo\": \"text\", \"marker\": {\"color\": \"green\", \"size\": 0.5}, \"mode\": \"markers\", \"text\": \"PL/SQL appears with VBA 10 times\", \"x\": [-0.86187613759605], \"y\": [0.25917083833354915], \"type\": \"scatter\", \"uid\": \"83daa8b6-e486-4e91-9f70-bbc89cb640cc\"}, {\"hoverinfo\": \"text\", \"marker\": {\"color\": \"blue\", \"size\": 0.5}, \"mode\": \"markers\", \"text\": \"VBA appears with PL/SQL 10 times\", \"x\": [0.8141173042871139], \"y\": [-0.38368348265241065], \"type\": \"scatter\", \"uid\": \"c293ac77-97b6-4379-961d-8a4278c66e38\"}, {\"hoverinfo\": \"text\", \"marker\": {\"color\": \"green\", \"size\": 0.5}, \"mode\": \"markers\", \"text\": \"PL/SQL appears with Linux 4 times\", \"x\": [-0.8610876103624295], \"y\": [0.2617787754580591], \"type\": \"scatter\", \"uid\": \"fcf13f9f-eb8a-4a5b-8940-95a9400bff4f\"}, {\"hoverinfo\": \"text\", \"marker\": {\"color\": \"blue\", \"size\": 0.5}, \"mode\": \"markers\", \"text\": \"Linux appears with PL/SQL 4 times\", \"x\": [0.8664203724649016], \"y\": [-0.24354822556894415], \"type\": \"scatter\", \"uid\": \"8ba801ca-f738-42c4-8018-b0b61357121f\"}, {\"hoverinfo\": \"text\", \"marker\": {\"color\": \"green\", \"size\": 0.5}, \"mode\": \"markers\", \"text\": \"PL/SQL appears with AWS 2 times\", \"x\": [-0.860747253992912], \"y\": [0.2628957297935086], \"type\": \"scatter\", \"uid\": \"28344d6f-bcc7-410e-a631-b4cb8cc566cf\"}, {\"hoverinfo\": \"text\", \"marker\": {\"color\": \"blue\", \"size\": 0.5}, \"mode\": \"markers\", \"text\": \"AWS appears with PL/SQL 2 times\", \"x\": [0.8944215396014541], \"y\": [-0.10005053471603546], \"type\": \"scatter\", \"uid\": \"b25a2ce5-ca80-4dee-9774-2d1f5e27edb6\"}, {\"hoverinfo\": \"text\", \"marker\": {\"color\": \"green\", \"size\": 0.5}, \"mode\": \"markers\", \"text\": \"Pentaho appears with Spark 8 times\", \"x\": [-0.8817288477858422], \"y\": [0.18042793293237955], \"type\": \"scatter\", \"uid\": \"627e211c-e2a6-4740-ad88-f3cb59ab9ee5\"}, {\"hoverinfo\": \"text\", \"marker\": {\"color\": \"blue\", \"size\": 0.5}, \"mode\": \"markers\", \"text\": \"Spark appears with Pentaho 8 times\", \"x\": [-0.8940667955430162], \"y\": [-0.10317250170196822], \"type\": \"scatter\", \"uid\": \"8fa29490-4705-41c8-aa16-4458e9c1aa74\"}, {\"hoverinfo\": \"text\", \"marker\": {\"color\": \"green\", \"size\": 0.5}, \"mode\": \"markers\", \"text\": \"Pentaho appears with Informatica 36 times\", \"x\": [-0.8842049096377712], \"y\": [0.16787399373476836], \"type\": \"scatter\", \"uid\": \"29990518-e4b4-4f34-9a3a-359def083b47\"}, {\"hoverinfo\": \"text\", \"marker\": {\"color\": \"blue\", \"size\": 0.5}, \"mode\": \"markers\", \"text\": \"Informatica appears with Pentaho 36 times\", \"x\": [-0.8446264134948973], \"y\": [-0.3108154140752143], \"type\": \"scatter\", \"uid\": \"363e85c7-764d-49a9-a9ad-addab58dd35b\"}, {\"hoverinfo\": \"text\", \"marker\": {\"color\": \"green\", \"size\": 0.5}, \"mode\": \"markers\", \"text\": \"Pentaho appears with Qlik 33 times\", \"x\": [-0.8832443811087902], \"y\": [0.1728564816249313], \"type\": \"scatter\", \"uid\": \"2536e57c-315c-4c5f-8a0a-6012725da6ea\"}, {\"hoverinfo\": \"text\", \"marker\": {\"color\": \"blue\", \"size\": 0.5}, \"mode\": \"markers\", \"text\": \"Qlik appears with Pentaho 33 times\", \"x\": [-0.784121337598899], \"y\": [-0.4417620716201352], \"type\": \"scatter\", \"uid\": \"74ecef95-3511-4d59-ac53-47e93acf1358\"}, {\"hoverinfo\": \"text\", \"marker\": {\"color\": \"green\", \"size\": 0.5}, \"mode\": \"markers\", \"text\": \"Pentaho appears with Tableau 41 times\", \"x\": [-0.889001836726104], \"y\": [0.14027021885494248], \"type\": \"scatter\", \"uid\": \"529e2088-e407-4032-9588-920b30dc8856\"}, {\"hoverinfo\": \"text\", \"marker\": {\"color\": \"blue\", \"size\": 0.5}, \"mode\": \"markers\", \"text\": \"Tableau appears with Pentaho 41 times\", \"x\": [-0.5349568893005989], \"y\": [-0.7237548801837724], \"type\": \"scatter\", \"uid\": \"2f439f7d-d2c8-4732-8710-3f90e398965b\"}, {\"hoverinfo\": \"text\", \"marker\": {\"color\": \"green\", \"size\": 0.5}, \"mode\": \"markers\", \"text\": \"Pentaho appears with Microstrategy 4 times\", \"x\": [-0.8815515091927439], \"y\": [0.18129240645982814], \"type\": \"scatter\", \"uid\": \"00841b14-c658-4edd-afe1-777fc75f1120\"}, {\"hoverinfo\": \"text\", \"marker\": {\"color\": \"blue\", \"size\": 0.5}, \"mode\": \"markers\", \"text\": \"Microstrategy appears with Pentaho 4 times\", \"x\": [-0.0985354444330953], \"y\": [-0.8945897194750074], \"type\": \"scatter\", \"uid\": \"507cb5cb-7b07-41bf-ac33-2a55d1a6eb59\"}, {\"hoverinfo\": \"text\", \"marker\": {\"color\": \"green\", \"size\": 0.5}, \"mode\": \"markers\", \"text\": \"Pentaho appears with Oracle BI 40 times\", \"x\": [-0.8880539839726952], \"y\": [0.14615102308989872], \"type\": \"scatter\", \"uid\": \"1ecaee88-42eb-40c1-9d30-94e4168af863\"}, {\"hoverinfo\": \"text\", \"marker\": {\"color\": \"blue\", \"size\": 0.5}, \"mode\": \"markers\", \"text\": \"Oracle BI appears with Pentaho 40 times\", \"x\": [-0.015379140764226713], \"y\": [-0.8998685915339828], \"type\": \"scatter\", \"uid\": \"5f6301b0-e595-4d18-b35a-fd7eb8e0cad8\"}, {\"hoverinfo\": \"text\", \"marker\": {\"color\": \"green\", \"size\": 0.5}, \"mode\": \"markers\", \"text\": \"Pentaho appears with Python 38 times\", \"x\": [-0.8871044694279356], \"y\": [0.1518079718624185], \"type\": \"scatter\", \"uid\": \"7fc9979e-8caa-4e8c-902e-b1a1d1642c6d\"}, {\"hoverinfo\": \"text\", \"marker\": {\"color\": \"blue\", \"size\": 0.5}, \"mode\": \"markers\", \"text\": \"Python appears with Pentaho 38 times\", \"x\": [0.5765973629957281], \"y\": [-0.691039420718075], \"type\": \"scatter\", \"uid\": \"53f418f3-26da-403b-a9ee-20c5d779e89a\"}, {\"hoverinfo\": \"text\", \"marker\": {\"color\": \"green\", \"size\": 0.5}, \"mode\": \"markers\", \"text\": \"Pentaho appears with VBA 1 times\", \"x\": [-0.881477367955832], \"y\": [0.18165255236758693], \"type\": \"scatter\", \"uid\": \"d79f54a3-5768-4ff7-93c4-27087964893b\"}, {\"hoverinfo\": \"text\", \"marker\": {\"color\": \"blue\", \"size\": 0.5}, \"mode\": \"markers\", \"text\": \"VBA appears with Pentaho 1 times\", \"x\": [0.8104943835181136], \"y\": [-0.3912784868678484], \"type\": \"scatter\", \"uid\": \"c1df3a87-ca1b-44e1-a015-0dc07f5e0ff2\"}, {\"hoverinfo\": \"text\", \"marker\": {\"color\": \"green\", \"size\": 0.5}, \"mode\": \"markers\", \"text\": \"Pentaho appears with Linux 38 times\", \"x\": [-0.8861446405137774], \"y\": [0.15731394117721495], \"type\": \"scatter\", \"uid\": \"f3e90069-fa56-4091-b8b5-e65281d44a71\"}, {\"hoverinfo\": \"text\", \"marker\": {\"color\": \"blue\", \"size\": 0.5}, \"mode\": \"markers\", \"text\": \"Linux appears with Pentaho 38 times\", \"x\": [0.8730701759781969], \"y\": [-0.2185142279518662], \"type\": \"scatter\", \"uid\": \"34ac8a98-8dbf-4a2c-8518-311c6f944ebc\"}, {\"hoverinfo\": \"text\", \"marker\": {\"color\": \"green\", \"size\": 0.5}, \"mode\": \"markers\", \"text\": \"Pentaho appears with AWS 15 times\", \"x\": [-0.8825596264554229], \"y\": [0.17631932892018531], \"type\": \"scatter\", \"uid\": \"4a88ffe8-5869-4879-aed1-4a92efd92c15\"}, {\"hoverinfo\": \"text\", \"marker\": {\"color\": \"blue\", \"size\": 0.5}, \"mode\": \"markers\", \"text\": \"AWS appears with Pentaho 15 times\", \"x\": [0.8951829797056291], \"y\": [-0.09299157405567125], \"type\": \"scatter\", \"uid\": \"9a738fd2-a54c-4bac-aae5-a3668d395d15\"}, {\"hoverinfo\": \"text\", \"marker\": {\"color\": \"green\", \"size\": 0.5}, \"mode\": \"markers\", \"text\": \"Hadoop appears with Spark 161 times\", \"x\": [-0.899427136186449], \"y\": [-0.03210648986487016], \"type\": \"scatter\", \"uid\": \"15b7c508-6745-4e5c-988f-776ebe0da69c\"}, {\"hoverinfo\": \"text\", \"marker\": {\"color\": \"blue\", \"size\": 0.5}, \"mode\": \"markers\", \"text\": \"Spark appears with Hadoop 161 times\", \"x\": [-0.8753359734562713], \"y\": [-0.20925327613531405], \"type\": \"scatter\", \"uid\": \"2deec2c9-23a8-4fe5-80f7-c325b441b6e6\"}, {\"hoverinfo\": \"text\", \"marker\": {\"color\": \"green\", \"size\": 0.5}, \"mode\": \"markers\", \"text\": \"Hadoop appears with Informatica 5 times\", \"x\": [-0.8974876067542094], \"y\": [0.06720115864032178], \"type\": \"scatter\", \"uid\": \"df70af3d-670a-4b8b-a871-83b53fcc189e\"}, {\"hoverinfo\": \"text\", \"marker\": {\"color\": \"blue\", \"size\": 0.5}, \"mode\": \"markers\", \"text\": \"Informatica appears with Hadoop 5 times\", \"x\": [-0.8551393765272798], \"y\": [-0.28060051089143684], \"type\": \"scatter\", \"uid\": \"a86ccc2f-0d14-4f80-9100-be395855b02a\"}, {\"hoverinfo\": \"text\", \"marker\": {\"color\": \"green\", \"size\": 0.5}, \"mode\": \"markers\", \"text\": \"Hadoop appears with Qlik 9 times\", \"x\": [-0.8977253928463623], \"y\": [0.06394621989488054], \"type\": \"scatter\", \"uid\": \"a832239e-fcc9-4b5f-83ad-cec8c0f1cab2\"}, {\"hoverinfo\": \"text\", \"marker\": {\"color\": \"blue\", \"size\": 0.5}, \"mode\": \"markers\", \"text\": \"Qlik appears with Hadoop 9 times\", \"x\": [-0.7944694913510099], \"y\": [-0.42286904274546705], \"type\": \"scatter\", \"uid\": \"370bfd36-abf3-4431-8ad6-335be3168bd4\"}, {\"hoverinfo\": \"text\", \"marker\": {\"color\": \"green\", \"size\": 0.5}, \"mode\": \"markers\", \"text\": \"Hadoop appears with Tableau 50 times\", \"x\": [-0.8995536769541881], \"y\": [0.028340470677110954], \"type\": \"scatter\", \"uid\": \"0a7a18fd-de9e-47ea-a802-638836be3d5f\"}, {\"hoverinfo\": \"text\", \"marker\": {\"color\": \"blue\", \"size\": 0.5}, \"mode\": \"markers\", \"text\": \"Tableau appears with Hadoop 50 times\", \"x\": [-0.5217541634368768], \"y\": [-0.7333297982056128], \"type\": \"scatter\", \"uid\": \"a0aa0375-a1be-43d8-b2e8-125e70829ebf\"}, {\"hoverinfo\": \"text\", \"marker\": {\"color\": \"green\", \"size\": 0.5}, \"mode\": \"markers\", \"text\": \"Hadoop appears with Microstrategy 3 times\", \"x\": [-0.8973891876905223], \"y\": [0.0685028891080121], \"type\": \"scatter\", \"uid\": \"f4d4fb08-1bcc-443b-8059-cbc7c733e43c\"}, {\"hoverinfo\": \"text\", \"marker\": {\"color\": \"blue\", \"size\": 0.5}, \"mode\": \"markers\", \"text\": \"Microstrategy appears with Hadoop 3 times\", \"x\": [-0.09897445787620565], \"y\": [-0.8945412548832564], \"type\": \"scatter\", \"uid\": \"d6852cdb-d7b1-4278-afdf-23ebb1280cdf\"}, {\"hoverinfo\": \"text\", \"marker\": {\"color\": \"green\", \"size\": 0.5}, \"mode\": \"markers\", \"text\": \"Hadoop appears with Oracle BI 48 times\", \"x\": [-0.8992663945930196], \"y\": [0.036331137549926486], \"type\": \"scatter\", \"uid\": \"4b9feb10-60d8-46e5-8daa-bd6af86b9df8\"}, {\"hoverinfo\": \"text\", \"marker\": {\"color\": \"blue\", \"size\": 0.5}, \"mode\": \"markers\", \"text\": \"Oracle BI appears with Hadoop 48 times\", \"x\": [0.009822161871704847], \"y\": [-0.8999464012574115], \"type\": \"scatter\", \"uid\": \"7da51ded-5098-4a61-9378-10174b105770\"}, {\"hoverinfo\": \"text\", \"marker\": {\"color\": \"green\", \"size\": 0.5}, \"mode\": \"markers\", \"text\": \"Hadoop appears with Python 176 times\", \"x\": [-0.8980266862686952], \"y\": [-0.0595656843263526], \"type\": \"scatter\", \"uid\": \"eae5f734-1262-428d-a869-4b6357be4b34\"}, {\"hoverinfo\": \"text\", \"marker\": {\"color\": \"blue\", \"size\": 0.5}, \"mode\": \"markers\", \"text\": \"Python appears with Hadoop 176 times\", \"x\": [0.7343892535414956], \"y\": [-0.5202618804820941], \"type\": \"scatter\", \"uid\": \"2e2f9301-45de-42e4-9348-c0f03e774700\"}, {\"hoverinfo\": \"text\", \"marker\": {\"color\": \"green\", \"size\": 0.5}, \"mode\": \"markers\", \"text\": \"Hadoop appears with VBA 10 times\", \"x\": [-0.8978342060844438], \"y\": [0.062399826800373585], \"type\": \"scatter\", \"uid\": \"3335af42-ce6b-4339-b1d3-b7e64dec56a5\"}, {\"hoverinfo\": \"text\", \"marker\": {\"color\": \"blue\", \"size\": 0.5}, \"mode\": \"markers\", \"text\": \"VBA appears with Hadoop 10 times\", \"x\": [0.8134327015337534], \"y\": [-0.3851327564301689], \"type\": \"scatter\", \"uid\": \"a8b3efb3-9076-41f1-9cdf-ad32982778e9\"}, {\"hoverinfo\": \"text\", \"marker\": {\"color\": \"green\", \"size\": 0.5}, \"mode\": \"markers\", \"text\": \"Hadoop appears with Linux 112 times\", \"x\": [-0.8999462180015926], \"y\": [-0.009838938186106675], \"type\": \"scatter\", \"uid\": \"50c60e4e-eb2f-4bd8-a693-9cce68583822\"}, {\"hoverinfo\": \"text\", \"marker\": {\"color\": \"blue\", \"size\": 0.5}, \"mode\": \"markers\", \"text\": \"Linux appears with Hadoop 112 times\", \"x\": [0.8864384538938517], \"y\": [-0.15564982318742834], \"type\": \"scatter\", \"uid\": \"363ca3f5-f3a5-4410-8fc0-745786c5af2e\"}, {\"hoverinfo\": \"text\", \"marker\": {\"color\": \"green\", \"size\": 0.5}, \"mode\": \"markers\", \"text\": \"Hadoop appears with AWS 60 times\", \"x\": [-0.8997915606681774], \"y\": [0.019368720926419374], \"type\": \"scatter\", \"uid\": \"d21bb5b3-85a7-4ebf-b666-a339295133b0\"}, {\"hoverinfo\": \"text\", \"marker\": {\"color\": \"blue\", \"size\": 0.5}, \"mode\": \"markers\", \"text\": \"AWS appears with Hadoop 60 times\", \"x\": [0.8982073159131649], \"y\": [-0.056776911152932714], \"type\": \"scatter\", \"uid\": \"3c77b525-23a1-4fef-ab5e-1d8bf2512bee\"}, {\"hoverinfo\": \"text\", \"marker\": {\"color\": \"green\", \"size\": 0.5}, \"mode\": \"markers\", \"text\": \"Spark appears with Informatica 15 times\", \"x\": [-0.8933955594756988], \"y\": [-0.10883186256378741], \"type\": \"scatter\", \"uid\": \"1feba2f3-a8c4-46a9-a3e7-17feddc63c88\"}, {\"hoverinfo\": \"text\", \"marker\": {\"color\": \"blue\", \"size\": 0.5}, \"mode\": \"markers\", \"text\": \"Informatica appears with Spark 15 times\", \"x\": [-0.852516086323973], \"y\": [-0.28847239479516257], \"type\": \"scatter\", \"uid\": \"7dfd17fd-194c-4581-b9f6-d484eed894b2\"}, {\"hoverinfo\": \"text\", \"marker\": {\"color\": \"green\", \"size\": 0.5}, \"mode\": \"markers\", \"text\": \"Spark appears with Qlik 16 times\", \"x\": [-0.8930823254267032], \"y\": [-0.11137306680895659], \"type\": \"scatter\", \"uid\": \"6f5767f6-9397-419c-9a01-af857f466d0c\"}, {\"hoverinfo\": \"text\", \"marker\": {\"color\": \"blue\", \"size\": 0.5}, \"mode\": \"markers\", \"text\": \"Qlik appears with Spark 16 times\", \"x\": [-0.7922042570256705], \"y\": [-0.42709766465107885], \"type\": \"scatter\", \"uid\": \"bee7abbe-8ea2-4d80-a0fb-8346e7ee08fe\"}, {\"hoverinfo\": \"text\", \"marker\": {\"color\": \"green\", \"size\": 0.5}, \"mode\": \"markers\", \"text\": \"Spark appears with Tableau 43 times\", \"x\": [-0.889615524470459], \"y\": [-0.13632394735023715], \"type\": \"scatter\", \"uid\": \"fce7c232-f3a0-4b80-9cf1-4bed67d9dc9a\"}, {\"hoverinfo\": \"text\", \"marker\": {\"color\": \"blue\", \"size\": 0.5}, \"mode\": \"markers\", \"text\": \"Tableau appears with Spark 43 times\", \"x\": [-0.5287128266664503], \"y\": [-0.728328735474835], \"type\": \"scatter\", \"uid\": \"a57b2ce8-0bc9-41f5-9f64-e95e8960e1d0\"}, {\"hoverinfo\": \"text\", \"marker\": {\"color\": \"green\", \"size\": 0.5}, \"mode\": \"markers\", \"text\": \"Spark appears with Microstrategy 3 times\", \"x\": [-0.8941704917185512], \"y\": [-0.10226989654734277], \"type\": \"scatter\", \"uid\": \"50ffcd6d-efed-4f57-ac13-7217c7eef6ec\"}, {\"hoverinfo\": \"text\", \"marker\": {\"color\": \"blue\", \"size\": 0.5}, \"mode\": \"markers\", \"text\": \"Microstrategy appears with Spark 3 times\", \"x\": [-0.09935073614473335], \"y\": [-0.8944995423293964], \"type\": \"scatter\", \"uid\": \"d009390f-907d-4715-bba9-5c0b2ab1063d\"}, {\"hoverinfo\": \"text\", \"marker\": {\"color\": \"green\", \"size\": 0.5}, \"mode\": \"markers\", \"text\": \"Spark appears with Oracle BI 44 times\", \"x\": [-0.888498749012446], \"y\": [-0.14342235879847517], \"type\": \"scatter\", \"uid\": \"0ad2c50b-80b0-42f9-8bc8-fac6fb635a59\"}, {\"hoverinfo\": \"text\", \"marker\": {\"color\": \"blue\", \"size\": 0.5}, \"mode\": \"markers\", \"text\": \"Oracle BI appears with Spark 44 times\", \"x\": [-0.0075391023268481195], \"y\": [-0.899968422743879], \"type\": \"scatter\", \"uid\": \"5a73a220-539a-4182-ac68-3730019c11a4\"}, {\"hoverinfo\": \"text\", \"marker\": {\"color\": \"green\", \"size\": 0.5}, \"mode\": \"markers\", \"text\": \"Spark appears with Python 193 times\", \"x\": [-0.8680772177506696], \"y\": [-0.23757513342573652], \"type\": \"scatter\", \"uid\": \"21d1cf8b-06d8-4968-9aa2-886c45868474\"}, {\"hoverinfo\": \"text\", \"marker\": {\"color\": \"blue\", \"size\": 0.5}, \"mode\": \"markers\", \"text\": \"Python appears with Spark 193 times\", \"x\": [0.7532579215595167], \"y\": [-0.49254695573908186], \"type\": \"scatter\", \"uid\": \"b3655826-fc37-4761-9419-eb757bb92e45\"}, {\"hoverinfo\": \"text\", \"marker\": {\"color\": \"green\", \"size\": 0.5}, \"mode\": \"markers\", \"text\": \"Spark appears with VBA 10 times\", \"x\": [-0.89389514563429], \"y\": [-0.10464926474396079], \"type\": \"scatter\", \"uid\": \"7243cad2-5170-424a-aba2-d473dc7e8196\"}, {\"hoverinfo\": \"text\", \"marker\": {\"color\": \"blue\", \"size\": 0.5}, \"mode\": \"markers\", \"text\": \"VBA appears with Spark 10 times\", \"x\": [0.8127455188174872], \"y\": [-0.3865808086831182], \"type\": \"scatter\", \"uid\": \"5bf86b77-155b-40b7-b5e7-8e5c101c20b2\"}, {\"hoverinfo\": \"text\", \"marker\": {\"color\": \"green\", \"size\": 0.5}, \"mode\": \"markers\", \"text\": \"Spark appears with Linux 92 times\", \"x\": [-0.8832763820192102], \"y\": [-0.17269288626649978], \"type\": \"scatter\", \"uid\": \"7053a272-81dc-43d6-b07b-860a5132e70e\"}, {\"hoverinfo\": \"text\", \"marker\": {\"color\": \"blue\", \"size\": 0.5}, \"mode\": \"markers\", \"text\": \"Linux appears with Spark 92 times\", \"x\": [0.8835103818909078], \"y\": [-0.1714917056040388], \"type\": \"scatter\", \"uid\": \"d9bc7cba-0e7c-4601-8c35-29905eaa31f9\"}, {\"hoverinfo\": \"text\", \"marker\": {\"color\": \"green\", \"size\": 0.5}, \"mode\": \"markers\", \"text\": \"Spark appears with AWS 64 times\", \"x\": [-0.8856581254404974], \"y\": [-0.16003026226693604], \"type\": \"scatter\", \"uid\": \"79cb9af8-0d84-404d-912a-26c165cd8e7b\"}, {\"hoverinfo\": \"text\", \"marker\": {\"color\": \"blue\", \"size\": 0.5}, \"mode\": \"markers\", \"text\": \"AWS appears with Spark 64 times\", \"x\": [0.8987150794532176], \"y\": [-0.0480750035194667], \"type\": \"scatter\", \"uid\": \"2940d4e9-d96d-4705-a8fd-b2da00a8128a\"}, {\"hoverinfo\": \"text\", \"marker\": {\"color\": \"green\", \"size\": 0.5}, \"mode\": \"markers\", \"text\": \"Informatica appears with Qlik 94 times\", \"x\": [-0.8282247697743734], \"y\": [-0.35219842522672656], \"type\": \"scatter\", \"uid\": \"8c33e60e-5f18-4ced-879b-0a632a4d4e77\"}, {\"hoverinfo\": \"text\", \"marker\": {\"color\": \"blue\", \"size\": 0.5}, \"mode\": \"markers\", \"text\": \"Qlik appears with Informatica 94 times\", \"x\": [-0.7462329717193996], \"y\": [-0.5031265764386073], \"type\": \"scatter\", \"uid\": \"fc6b5639-68f2-4a81-8569-f4a7cb728778\"}, {\"hoverinfo\": \"text\", \"marker\": {\"color\": \"green\", \"size\": 0.5}, \"mode\": \"markers\", \"text\": \"Informatica appears with Tableau 74 times\", \"x\": [-0.8377646582951632], \"y\": [-0.3288622467106682], \"type\": \"scatter\", \"uid\": \"8b8b7c3f-1fab-448b-a370-88c354b35050\"}, {\"hoverinfo\": \"text\", \"marker\": {\"color\": \"blue\", \"size\": 0.5}, \"mode\": \"markers\", \"text\": \"Tableau appears with Informatica 74 times\", \"x\": [-0.49499301823247593], \"y\": [-0.7516527867979362], \"type\": \"scatter\", \"uid\": \"792ff8d3-5531-4f64-b8f4-33a6a016ba5a\"}, {\"hoverinfo\": \"text\", \"marker\": {\"color\": \"green\", \"size\": 0.5}, \"mode\": \"markers\", \"text\": \"Informatica appears with Microstrategy 18 times\", \"x\": [-0.8516685411295601], \"y\": [-0.2909651113969625], \"type\": \"scatter\", \"uid\": \"87e17d42-7add-46d4-b895-2b8bf5a695e3\"}, {\"hoverinfo\": \"text\", \"marker\": {\"color\": \"blue\", \"size\": 0.5}, \"mode\": \"markers\", \"text\": \"Microstrategy appears with Informatica 18 times\", \"x\": [-0.09288890907897993], \"y\": [-0.8951936385889463], \"type\": \"scatter\", \"uid\": \"dec4ed4c-5564-4615-a640-ffaa7bfe317d\"}, {\"hoverinfo\": \"text\", \"marker\": {\"color\": \"green\", \"size\": 0.5}, \"mode\": \"markers\", \"text\": \"Informatica appears with Oracle BI 136 times\", \"x\": [-0.8128359404469979], \"y\": [-0.386390649366214], \"type\": \"scatter\", \"uid\": \"98feb347-8913-4994-bfc4-d66ccf85a8f8\"}, {\"hoverinfo\": \"text\", \"marker\": {\"color\": \"blue\", \"size\": 0.5}, \"mode\": \"markers\", \"text\": \"Oracle BI appears with Informatica 136 times\", \"x\": [0.0970013543641066], \"y\": [-0.8947573622225911], \"type\": \"scatter\", \"uid\": \"167c39ee-350d-4fab-847b-f4b1cd5a0df2\"}, {\"hoverinfo\": \"text\", \"marker\": {\"color\": \"green\", \"size\": 0.5}, \"mode\": \"markers\", \"text\": \"Informatica appears with Python 31 times\", \"x\": [-0.8482322201445557], \"y\": [-0.3008356706054622], \"type\": \"scatter\", \"uid\": \"e5ffe286-c477-4f75-9a5d-642aebb785f7\"}, {\"hoverinfo\": \"text\", \"marker\": {\"color\": \"blue\", \"size\": 0.5}, \"mode\": \"markers\", \"text\": \"Python appears with Informatica 31 times\", \"x\": [0.5717692662449463], \"y\": [-0.6950394997248112], \"type\": \"scatter\", \"uid\": \"9e8ba626-25e7-4322-8d4e-abd8bd34cd12\"}, {\"hoverinfo\": \"text\", \"marker\": {\"color\": \"green\", \"size\": 0.5}, \"mode\": \"markers\", \"text\": \"Informatica appears with VBA 6 times\", \"x\": [-0.8548653466525209], \"y\": [-0.2814342535880546], \"type\": \"scatter\", \"uid\": \"1f75218e-01e8-4bd8-bff3-8bc5ae068547\"}, {\"hoverinfo\": \"text\", \"marker\": {\"color\": \"blue\", \"size\": 0.5}, \"mode\": \"markers\", \"text\": \"VBA appears with Informatica 6 times\", \"x\": [0.811709912082611], \"y\": [-0.38875058665787243], \"type\": \"scatter\", \"uid\": \"5e20e11a-d9b8-4feb-a08f-6c4dc3eb3d07\"}, {\"hoverinfo\": \"text\", \"marker\": {\"color\": \"green\", \"size\": 0.5}, \"mode\": \"markers\", \"text\": \"Informatica appears with Linux 12 times\", \"x\": [-0.8538620239322807], \"y\": [-0.28446378343520184], \"type\": \"scatter\", \"uid\": \"5d95b615-ec1c-4b55-b297-eb6c510d5892\"}, {\"hoverinfo\": \"text\", \"marker\": {\"color\": \"blue\", \"size\": 0.5}, \"mode\": \"markers\", \"text\": \"Linux appears with Informatica 12 times\", \"x\": [0.8678581496729167], \"y\": [-0.23837414299017673], \"type\": \"scatter\", \"uid\": \"062d6a57-7ae1-4d05-b36b-cd687ee6fc26\"}, {\"hoverinfo\": \"text\", \"marker\": {\"color\": \"green\", \"size\": 0.5}, \"mode\": \"markers\", \"text\": \"Informatica appears with AWS 21 times\", \"x\": [-0.8496099737330765], \"y\": [-0.2969223678561134], \"type\": \"scatter\", \"uid\": \"571879c5-8536-4711-a9d3-084197c2302a\"}, {\"hoverinfo\": \"text\", \"marker\": {\"color\": \"blue\", \"size\": 0.5}, \"mode\": \"markers\", \"text\": \"AWS appears with Informatica 21 times\", \"x\": [0.8954409190816184], \"y\": [-0.09047408708722321], \"type\": \"scatter\", \"uid\": \"e60cbc9c-f176-4e93-8a45-83da07e4129b\"}, {\"hoverinfo\": \"text\", \"marker\": {\"color\": \"green\", \"size\": 0.5}, \"mode\": \"markers\", \"text\": \"Qlik appears with Tableau 358 times\", \"x\": [-0.700551345234431], \"y\": [-0.5650024891009147], \"type\": \"scatter\", \"uid\": \"0834ffdd-9ea8-4e66-9a22-5597d6e01670\"}, {\"hoverinfo\": \"text\", \"marker\": {\"color\": \"blue\", \"size\": 0.5}, \"mode\": \"markers\", \"text\": \"Tableau appears with Qlik 358 times\", \"x\": [-0.32202715958646194], \"y\": [-0.8404156760131711], \"type\": \"scatter\", \"uid\": \"c9769684-175d-4774-b6e4-49ee8140f084\"}, {\"hoverinfo\": \"text\", \"marker\": {\"color\": \"green\", \"size\": 0.5}, \"mode\": \"markers\", \"text\": \"Qlik appears with Microstrategy 41 times\", \"x\": [-0.780812012207045], \"y\": [-0.44758530091278187], \"type\": \"scatter\", \"uid\": \"d88f5e91-eb91-46c2-867c-b666270a32f2\"}, {\"hoverinfo\": \"text\", \"marker\": {\"color\": \"blue\", \"size\": 0.5}, \"mode\": \"markers\", \"text\": \"Microstrategy appears with Qlik 41 times\", \"x\": [-0.07234369838185356], \"y\": [-0.8970877266490918], \"type\": \"scatter\", \"uid\": \"d359b75f-3316-4c59-8af4-ea312ccb6b21\"}, {\"hoverinfo\": \"text\", \"marker\": {\"color\": \"green\", \"size\": 0.5}, \"mode\": \"markers\", \"text\": \"Qlik appears with Oracle BI 379 times\", \"x\": [-0.6567886189095865], \"y\": [-0.6153281320326887], \"type\": \"scatter\", \"uid\": \"f80ecaf9-0477-4438-b61a-ba355a8f7e00\"}, {\"hoverinfo\": \"text\", \"marker\": {\"color\": \"blue\", \"size\": 0.5}, \"mode\": \"markers\", \"text\": \"Oracle BI appears with Qlik 379 times\", \"x\": [0.32551402246091765], \"y\": [-0.8390712849223916], \"type\": \"scatter\", \"uid\": \"ddde4ed8-f9f8-4690-abc0-5df3c39b49ef\"}, {\"hoverinfo\": \"text\", \"marker\": {\"color\": \"green\", \"size\": 0.5}, \"mode\": \"markers\", \"text\": \"Qlik appears with Python 54 times\", \"x\": [-0.7765001848530595], \"y\": [-0.4550246838613974], \"type\": \"scatter\", \"uid\": \"7a9baa65-a79e-4506-97ca-717e40f259a0\"}, {\"hoverinfo\": \"text\", \"marker\": {\"color\": \"blue\", \"size\": 0.5}, \"mode\": \"markers\", \"text\": \"Python appears with Qlik 54 times\", \"x\": [0.5829912550015285], \"y\": [-0.6856538460416763], \"type\": \"scatter\", \"uid\": \"783e0e7a-eefc-4061-b1d3-a5ad6ccaee33\"}, {\"hoverinfo\": \"text\", \"marker\": {\"color\": \"green\", \"size\": 0.5}, \"mode\": \"markers\", \"text\": \"Qlik appears with VBA 31 times\", \"x\": [-0.7869484416116739], \"y\": [-0.4367060226799695], \"type\": \"scatter\", \"uid\": \"33684d49-79e0-43da-9b8c-f3d00641aa4b\"}, {\"hoverinfo\": \"text\", \"marker\": {\"color\": \"blue\", \"size\": 0.5}, \"mode\": \"markers\", \"text\": \"VBA appears with Qlik 31 times\", \"x\": [0.8173338682649519], \"y\": [-0.37678289211036403], \"type\": \"scatter\", \"uid\": \"6bbb5f61-fcbe-426d-bda9-64f755d3afed\"}, {\"hoverinfo\": \"text\", \"marker\": {\"color\": \"green\", \"size\": 0.5}, \"mode\": \"markers\", \"text\": \"Qlik appears with Linux 2 times\", \"x\": [-0.795191297980986], \"y\": [-0.42151014177041446], \"type\": \"scatter\", \"uid\": \"be644668-bc08-4acc-b9bd-2f23696b3ffd\"}, {\"hoverinfo\": \"text\", \"marker\": {\"color\": \"blue\", \"size\": 0.5}, \"mode\": \"markers\", \"text\": \"Linux appears with Qlik 2 times\", \"x\": [0.8661205286099667], \"y\": [-0.2446124075356601], \"type\": \"scatter\", \"uid\": \"979ef738-6a64-4f86-b955-8ae9ecf1eb1c\"}, {\"hoverinfo\": \"text\", \"marker\": {\"color\": \"green\", \"size\": 0.5}, \"mode\": \"markers\", \"text\": \"Qlik appears with AWS 3 times\", \"x\": [-0.794979243099042], \"y\": [-0.42190994660196657], \"type\": \"scatter\", \"uid\": \"eb3b70d9-ef0d-47d6-8c0a-a4e266a79644\"}, {\"hoverinfo\": \"text\", \"marker\": {\"color\": \"blue\", \"size\": 0.5}, \"mode\": \"markers\", \"text\": \"AWS appears with Qlik 3 times\", \"x\": [0.8944916504444346], \"y\": [-0.0994217646453298], \"type\": \"scatter\", \"uid\": \"a9e0feef-3811-4ff0-b1b7-3d40426cbce1\"}, {\"hoverinfo\": \"text\", \"marker\": {\"color\": \"green\", \"size\": 0.5}, \"mode\": \"markers\", \"text\": \"Tableau appears with Microstrategy 59 times\", \"x\": [-0.505181923819805], \"y\": [-0.7448430867274803], \"type\": \"scatter\", \"uid\": \"65256769-91b0-4395-8441-34ce9d1872ee\"}, {\"hoverinfo\": \"text\", \"marker\": {\"color\": \"blue\", \"size\": 0.5}, \"mode\": \"markers\", \"text\": \"Microstrategy appears with Tableau 59 times\", \"x\": [-0.0606397748544104], \"y\": [-0.8979547971393697], \"type\": \"scatter\", \"uid\": \"f7358d4b-1c6a-4820-8d4b-57e128ccdb83\"}, {\"hoverinfo\": \"text\", \"marker\": {\"color\": \"green\", \"size\": 0.5}, \"mode\": \"markers\", \"text\": \"Tableau appears with Oracle BI 454 times\", \"x\": [-0.2511281598345782], \"y\": [-0.8642538095594943], \"type\": \"scatter\", \"uid\": \"fa5b3d02-9522-4382-9616-9e0653d2929f\"}, {\"hoverinfo\": \"text\", \"marker\": {\"color\": \"blue\", \"size\": 0.5}, \"mode\": \"markers\", \"text\": \"Oracle BI appears with Tableau 454 times\", \"x\": [0.3966996519907512], \"y\": [-0.8078548050921136], \"type\": \"scatter\", \"uid\": \"97fad25a-2b87-4359-ba13-78b56a963fdd\"}, {\"hoverinfo\": \"text\", \"marker\": {\"color\": \"green\", \"size\": 0.5}, \"mode\": \"markers\", \"text\": \"Tableau appears with Python 152 times\", \"x\": [-0.42876251054899367], \"y\": [-0.7913044354404467], \"type\": \"scatter\", \"uid\": \"ac4e9eed-90a7-42f9-ad25-508e40378c7e\"}, {\"hoverinfo\": \"text\", \"marker\": {\"color\": \"blue\", \"size\": 0.5}, \"mode\": \"markers\", \"text\": \"Python appears with Tableau 152 times\", \"x\": [0.676894927547104], \"y\": [-0.5931384805094009], \"type\": \"scatter\", \"uid\": \"4ad57cf8-defb-4e28-b6d7-43a48f4d0800\"}, {\"hoverinfo\": \"text\", \"marker\": {\"color\": \"green\", \"size\": 0.5}, \"mode\": \"markers\", \"text\": \"Tableau appears with VBA 81 times\", \"x\": [-0.4830030553924903], \"y\": [-0.7594129630718185], \"type\": \"scatter\", \"uid\": \"72567ac4-86d8-4491-830d-aaf2a97e0e21\"}, {\"hoverinfo\": \"text\", \"marker\": {\"color\": \"blue\", \"size\": 0.5}, \"mode\": \"markers\", \"text\": \"VBA appears with Tableau 81 times\", \"x\": [0.8304803640406538], \"y\": [-0.34684631314589903], \"type\": \"scatter\", \"uid\": \"7b508f40-13ef-4b79-b6d9-3d33376000e3\"}, {\"hoverinfo\": \"text\", \"marker\": {\"color\": \"green\", \"size\": 0.5}, \"mode\": \"markers\", \"text\": \"Tableau appears with Linux 25 times\", \"x\": [-0.5484954670556579], \"y\": [-0.7135493834482627], \"type\": \"scatter\", \"uid\": \"c78f3950-c3d9-43de-8b12-1029406bf942\"}, {\"hoverinfo\": \"text\", \"marker\": {\"color\": \"blue\", \"size\": 0.5}, \"mode\": \"markers\", \"text\": \"Linux appears with Tableau 25 times\", \"x\": [0.8695304684490203], \"y\": [-0.2321998372928527], \"type\": \"scatter\", \"uid\": \"c464c5c2-9861-4858-bd74-aa8f66bd4f61\"}, {\"hoverinfo\": \"text\", \"marker\": {\"color\": \"green\", \"size\": 0.5}, \"mode\": \"markers\", \"text\": \"Tableau appears with AWS 33 times\", \"x\": [-0.5404248452564038], \"y\": [-0.7196811701229873], \"type\": \"scatter\", \"uid\": \"bf00ca31-ac96-4f7b-8ea4-979eec04ad0c\"}, {\"hoverinfo\": \"text\", \"marker\": {\"color\": \"blue\", \"size\": 0.5}, \"mode\": \"markers\", \"text\": \"AWS appears with Tableau 33 times\", \"x\": [0.8965877853571478], \"y\": [-0.07829650789380829], \"type\": \"scatter\", \"uid\": \"3a116cdd-6b73-409c-8d19-995e9e49523c\"}, {\"hoverinfo\": \"text\", \"marker\": {\"color\": \"green\", \"size\": 0.5}, \"mode\": \"markers\", \"text\": \"Microstrategy appears with Oracle BI 67 times\", \"x\": [-0.05270533043310429], \"y\": [-0.8984554235708845], \"type\": \"scatter\", \"uid\": \"1569bcda-426b-4a04-9202-3e7803a9bb01\"}, {\"hoverinfo\": \"text\", \"marker\": {\"color\": \"blue\", \"size\": 0.5}, \"mode\": \"markers\", \"text\": \"Oracle BI appears with Microstrategy 67 times\", \"x\": [0.029885317328368927], \"y\": [-0.8995036785962482], \"type\": \"scatter\", \"uid\": \"e0504440-a1f0-40cc-a482-af5431213e59\"}, {\"hoverinfo\": \"text\", \"marker\": {\"color\": \"green\", \"size\": 0.5}, \"mode\": \"markers\", \"text\": \"Microstrategy appears with Python 20 times\", \"x\": [-0.0905036930159101], \"y\": [-0.895437927245927], \"type\": \"scatter\", \"uid\": \"6b1a3dc7-3d08-4773-a108-9c8ff0612c80\"}, {\"hoverinfo\": \"text\", \"marker\": {\"color\": \"blue\", \"size\": 0.5}, \"mode\": \"markers\", \"text\": \"Python appears with Microstrategy 20 times\", \"x\": [0.5639442020169348], \"y\": [-0.7014035479034039], \"type\": \"scatter\", \"uid\": \"03a3f77d-2faf-4428-be48-80dc4bfa830f\"}, {\"hoverinfo\": \"text\", \"marker\": {\"color\": \"green\", \"size\": 0.5}, \"mode\": \"markers\", \"text\": \"Microstrategy appears with VBA 7 times\", \"x\": [-0.0978455182588766], \"y\": [-0.8946654428090156], \"type\": \"scatter\", \"uid\": \"934f7bea-18af-4a80-a13c-1a670b789861\"}, {\"hoverinfo\": \"text\", \"marker\": {\"color\": \"blue\", \"size\": 0.5}, \"mode\": \"markers\", \"text\": \"VBA appears with Microstrategy 7 times\", \"x\": [0.8121593866405746], \"y\": [-0.38781068924361234], \"type\": \"scatter\", \"uid\": \"cc290ac4-4d3b-45af-b989-bb1764f92aa7\"}, {\"hoverinfo\": \"text\", \"marker\": {\"color\": \"green\", \"size\": 0.5}, \"mode\": \"markers\", \"text\": \"Microstrategy appears with Linux 10 times\", \"x\": [-0.09677915440381529], \"y\": [-0.8947814231827137], \"type\": \"scatter\", \"uid\": \"7244f0d2-024d-4148-a8ea-95a41f02b35c\"}, {\"hoverinfo\": \"text\", \"marker\": {\"color\": \"blue\", \"size\": 0.5}, \"mode\": \"markers\", \"text\": \"Linux appears with Microstrategy 10 times\", \"x\": [0.867396365176225], \"y\": [-0.24004904848608097], \"type\": \"scatter\", \"uid\": \"bee89c38-5456-4dd0-b7b9-658821e6bace\"}, {\"hoverinfo\": \"text\", \"marker\": {\"color\": \"green\", \"size\": 0.5}, \"mode\": \"markers\", \"text\": \"Microstrategy appears with AWS 2 times\", \"x\": [-0.09966428794247544], \"y\": [-0.894464660961471], \"type\": \"scatter\", \"uid\": \"7ebd4cbc-a6e3-4fbc-89de-2a0fc4ebbb3e\"}, {\"hoverinfo\": \"text\", \"marker\": {\"color\": \"blue\", \"size\": 0.5}, \"mode\": \"markers\", \"text\": \"AWS appears with Microstrategy 2 times\", \"x\": [0.8943902373530506], \"y\": [-0.10032997222940915], \"type\": \"scatter\", \"uid\": \"d9165830-996b-4488-84db-ee1ddd618024\"}, {\"hoverinfo\": \"text\", \"marker\": {\"color\": \"green\", \"size\": 0.5}, \"mode\": \"markers\", \"text\": \"Oracle BI appears with Python 172 times\", \"x\": [0.1537441691454825], \"y\": [-0.8867709571550961], \"type\": \"scatter\", \"uid\": \"40a48fcc-4123-4567-bcd6-126e7eeed172\"}, {\"hoverinfo\": \"text\", \"marker\": {\"color\": \"blue\", \"size\": 0.5}, \"mode\": \"markers\", \"text\": \"Python appears with Oracle BI 172 times\", \"x\": [0.6959322992455937], \"y\": [-0.5706822538565057], \"type\": \"scatter\", \"uid\": \"908776c6-c73e-47e9-9d2a-4765753e3468\"}, {\"hoverinfo\": \"text\", \"marker\": {\"color\": \"green\", \"size\": 0.5}, \"mode\": \"markers\", \"text\": \"Oracle BI appears with VBA 88 times\", \"x\": [0.058877987551792854], \"y\": [-0.8980720364101373], \"type\": \"scatter\", \"uid\": \"eb955aa3-9640-420d-8c26-5ff70e0b475a\"}, {\"hoverinfo\": \"text\", \"marker\": {\"color\": \"blue\", \"size\": 0.5}, \"mode\": \"markers\", \"text\": \"VBA appears with Oracle BI 88 times\", \"x\": [0.835605761078393], \"y\": [-0.3343097546476913], \"type\": \"scatter\", \"uid\": \"a651a3f9-d02c-4c65-b3f4-90cf0c7527b3\"}, {\"hoverinfo\": \"text\", \"marker\": {\"color\": \"green\", \"size\": 0.5}, \"mode\": \"markers\", \"text\": \"Oracle BI appears with Linux 6 times\", \"x\": [-0.019672038551521692], \"y\": [-0.8997849803698812], \"type\": \"scatter\", \"uid\": \"bc2c5088-4425-4646-b97b-59886982ddd7\"}, {\"hoverinfo\": \"text\", \"marker\": {\"color\": \"blue\", \"size\": 0.5}, \"mode\": \"markers\", \"text\": \"Linux appears with Oracle BI 6 times\", \"x\": [0.8666337461417484], \"y\": [-0.24278787047198166], \"type\": \"scatter\", \"uid\": \"f7b45ad3-3016-4b19-9181-e36e47e78656\"}, {\"hoverinfo\": \"text\", \"marker\": {\"color\": \"green\", \"size\": 0.5}, \"mode\": \"markers\", \"text\": \"Oracle BI appears with AWS 47 times\", \"x\": [0.0009548996958357928], \"y\": [-0.8999994934257302], \"type\": \"scatter\", \"uid\": \"31069473-bc5b-433e-8395-a429175ef072\"}, {\"hoverinfo\": \"text\", \"marker\": {\"color\": \"blue\", \"size\": 0.5}, \"mode\": \"markers\", \"text\": \"AWS appears with Oracle BI 47 times\", \"x\": [0.8970595193567764], \"y\": [-0.07269263189202363], \"type\": \"scatter\", \"uid\": \"e5cb4cca-9987-45e5-bfc6-bcb200e4fadf\"}, {\"hoverinfo\": \"text\", \"marker\": {\"color\": \"green\", \"size\": 0.5}, \"mode\": \"markers\", \"text\": \"Python appears with VBA 69 times\", \"x\": [0.6075892735348254], \"y\": [-0.6639542715318753], \"type\": \"scatter\", \"uid\": \"9bd20298-c50b-406e-a932-5cded9836b8b\"}, {\"hoverinfo\": \"text\", \"marker\": {\"color\": \"blue\", \"size\": 0.5}, \"mode\": \"markers\", \"text\": \"VBA appears with Python 69 times\", \"x\": [0.8257736125043625], \"y\": [-0.3579077267837268], \"type\": \"scatter\", \"uid\": \"c738381c-f67e-4fdc-868b-c929e882bbb8\"}, {\"hoverinfo\": \"text\", \"marker\": {\"color\": \"green\", \"size\": 0.5}, \"mode\": \"markers\", \"text\": \"Python appears with Linux 118 times\", \"x\": [0.6453428854332324], \"y\": [-0.6273217358108277], \"type\": \"scatter\", \"uid\": \"2f79d3d9-87c6-49af-b73f-be660fa2cd30\"}, {\"hoverinfo\": \"text\", \"marker\": {\"color\": \"blue\", \"size\": 0.5}, \"mode\": \"markers\", \"text\": \"Linux appears with Python 118 times\", \"x\": [0.8893990293061228], \"y\": [-0.13772932392677503], \"type\": \"scatter\", \"uid\": \"f66d8255-e5dc-4557-80ad-03f006baa0d3\"}, {\"hoverinfo\": \"text\", \"marker\": {\"color\": \"green\", \"size\": 0.5}, \"mode\": \"markers\", \"text\": \"Python appears with AWS 109 times\", \"x\": [0.6307971615193939], \"y\": [-0.6419462134938376], \"type\": \"scatter\", \"uid\": \"cff912c4-02f6-4cbc-be54-f539d362b44b\"}, {\"hoverinfo\": \"text\", \"marker\": {\"color\": \"blue\", \"size\": 0.5}, \"mode\": \"markers\", \"text\": \"AWS appears with Python 109 times\", \"x\": [0.899282627791923], \"y\": [-0.035927083817832495], \"type\": \"scatter\", \"uid\": \"1aeebee1-1393-49a6-8e03-264b35bcac8e\"}, {\"hoverinfo\": \"text\", \"marker\": {\"color\": \"green\", \"size\": 0.5}, \"mode\": \"markers\", \"text\": \"VBA appears with Linux 4 times\", \"x\": [0.810668512727489], \"y\": [-0.39091759038472684], \"type\": \"scatter\", \"uid\": \"ea129d97-b7e6-4f2d-9041-67f632977505\"}, {\"hoverinfo\": \"text\", \"marker\": {\"color\": \"blue\", \"size\": 0.5}, \"mode\": \"markers\", \"text\": \"Linux appears with VBA 4 times\", \"x\": [0.8662491931965574], \"y\": [-0.24415637465835993], \"type\": \"scatter\", \"uid\": \"5f2df082-42a7-4950-95fa-140e48be90ce\"}, {\"hoverinfo\": \"text\", \"marker\": {\"color\": \"green\", \"size\": 0.5}, \"mode\": \"markers\", \"text\": \"VBA appears with AWS 5 times\", \"x\": [0.8109815403177607], \"y\": [-0.39026778148321745], \"type\": \"scatter\", \"uid\": \"95c991e6-118a-4d25-a6e8-5885765ed7a8\"}, {\"hoverinfo\": \"text\", \"marker\": {\"color\": \"blue\", \"size\": 0.5}, \"mode\": \"markers\", \"text\": \"AWS appears with VBA 5 times\", \"x\": [0.894553600116733], \"y\": [-0.09886281666123055], \"type\": \"scatter\", \"uid\": \"e648b70c-50f3-46e5-98f4-1eb1c65a3c8d\"}, {\"hoverinfo\": \"text\", \"marker\": {\"color\": \"green\", \"size\": 0.5}, \"mode\": \"markers\", \"text\": \"Linux appears with AWS 29 times\", \"x\": [0.8706209494252505], \"y\": [-0.22807709753913366], \"type\": \"scatter\", \"uid\": \"4a376b7b-8665-4a6b-abcc-fed8db9db9a7\"}, {\"hoverinfo\": \"text\", \"marker\": {\"color\": \"blue\", \"size\": 0.5}, \"mode\": \"markers\", \"text\": \"AWS appears with Linux 29 times\", \"x\": [0.8957874227266391], \"y\": [-0.08697639498602709], \"type\": \"scatter\", \"uid\": \"f8bec9fa-7172-4b6c-8573-850ce8c89251\"}], {\"autosize\": false, \"font\": {\"color\": \"#655643\", \"family\": \"Fira Sans Condensed\", \"size\": 12}, \"height\": 525, \"hidesources\": true, \"hoverdistance\": 40, \"hovermode\": \"closest\", \"margin\": {\"b\": 10, \"l\": 280, \"r\": 280, \"t\": 80}, \"paper_bgcolor\": \"#fffaf0\", \"plot_bgcolor\": \"#fffaf0\", \"shapes\": [{\"fillcolor\": \"#f2e6ce\", \"layer\": \"below\", \"line\": {\"color\": \"rgb(175,175,175)\", \"width\": 0.5}, \"path\": \"M 0.9726808849988599,0.23214628137843318 Q 0.183631983283019, 0.0792420009562166 0.836195660857835, 0.5484312324827321L 0.836195660857835, 0.5484312324827321 L 0.8498123075668281, 0.5270854218321189 L 0.862884176402373, 0.5054017195404052 M 0.862884176402373,0.5054017195404052 Q 0.1837722827994254, 0.07891608248442154 0.9606745745015371, 0.27767672193810283L 0.9606745745015371, 0.27767672193810283 L 0.966945752588731, 0.25498217888827585 L 0.9726808849988599, 0.23214628137843318 \", \"type\": \"path\"}, {\"fillcolor\": \"#f2e6ce\", \"layer\": \"below\", \"line\": {\"color\": \"rgb(175,175,175)\", \"width\": 0.5}, \"path\": \"M 0.9978965145316596,0.06482704902712406 Q 0.14571232760411593, 0.13699604952038144 0.12617845799359206, 0.9920075588111007L 0.12617845799359206, 0.9920075588111007 L 0.14008810712841172, 0.9901390418729981 L 0.15397016315155274, 0.9880754975502045 M 0.15397016315155274,0.9880754975502045 Q 0.14580132477127766, 0.13690132831693202 0.9958037883771304, 0.09151401561375877L 0.9958037883771304, 0.09151401561375877 L 0.9969394530266366, 0.07817753512966905 L 0.9978965145316596, 0.06482704902712406 \", \"type\": \"path\"}, {\"fillcolor\": \"#f2e6ce\", \"layer\": \"below\", \"line\": {\"color\": \"rgb(175,175,175)\", \"width\": 0.5}, \"path\": \"M 0.9958037883771304,0.09151401561375877 Q 0.09812846639643669, 0.1742722125947892 -0.4381149434263015, 0.8989189598326252L -0.4381149434263015, 0.8989189598326252 L -0.42570877863072215, 0.9048602299784971 L -0.4132220647892432, 0.9106302900581084 M -0.4132220647892432,0.9106302900581084 Q 0.09819305941681189, 0.1742358260587255 0.9929974954290869, 0.11813540566468904L 0.9929974954290869, 0.11813540566468904 L 0.9944897240391051, 0.10483410122963129 L 0.9958037883771304, 0.09151401561375877 \", \"type\": \"path\"}, {\"fillcolor\": \"#f2e6ce\", \"layer\": \"below\", \"line\": {\"color\": \"rgb(175,175,175)\", \"width\": 0.5}, \"path\": \"M 1.0,0.0 Q 0.07425140453026695, 0.18570602824163426 -0.7243364462641326, 0.6894466713339381L -0.7243364462641326, 0.6894466713339381 L -0.7240242154393006, 0.6897745540809006 L -0.7237118361929914, 0.6901022954274016 M -0.7237118361929914,0.6901022954274016 Q 0.07424476844287893, 0.18570868143106098 0.9999995227393407, 0.0009769959523805351L 0.9999995227393407, 0.0009769959523805351 L 0.999999880684828, 0.0004884980344754946 L 1.0, 0.0 \", \"type\": \"path\"}, {\"fillcolor\": \"#f2e6ce\", \"layer\": \"below\", \"line\": {\"color\": \"rgb(175,175,175)\", \"width\": 0.5}, \"path\": \"M 0.9992889849244496,0.03770311139233868 Q 0.04609407128186686, 0.19461586932380973 -0.876220300219763, 0.4819107650621517L -0.876220300219763, 0.4819107650621517 L -0.8737959247607863, 0.48629279438568945 L -0.8713496346945597, 0.49066262759421303 M -0.8713496346945597,0.49066262759421303 Q 0.04607998035990948, 0.19461920616945894 0.9988543158979013, 0.047854525513640764L 0.9988543158979013, 0.047854525513640764 L 0.9990845436986179, 0.04277937052510841 L 0.9992889849244496, 0.03770311139233868 \", \"type\": \"path\"}, {\"fillcolor\": \"#f2e6ce\", \"layer\": \"below\", \"line\": {\"color\": \"rgb(175,175,175)\", \"width\": 0.5}, \"path\": \"M 0.9999828186640959,0.0058619430746117895 Q 0.028298257353053354, 0.1979879002130695 -0.9583017990339283, 0.2857580479502484L -0.9583017990339283, 0.2857580479502484 L -0.9580749330178905, 0.2865177528928437 L -0.9578474647369905, 0.2872772777247096 M -0.9578474647369905,0.2872772777247096 Q 0.02824245527406141, 0.19799586793691593 0.9999679091623496, 0.008011282386669845L 0.9999679091623496, 0.008011282386669845 L 0.9999759413847175, 0.006936616736435626 L 0.9999828186640959, 0.0058619430746117895 \", \"type\": \"path\"}, {\"fillcolor\": \"#f2e6ce\", \"layer\": \"below\", \"line\": {\"color\": \"rgb(175,175,175)\", \"width\": 0.5}, \"path\": \"M 0.9999976900591142,0.0021493897821878716 Q 0.01959471501274601, 0.19903780330271248 -0.9803809510071958, 0.19711212774009174L -0.9803809510071958, 0.19711212774009174 L -0.9802357303542573, 0.19783304308647678 L -0.9800899795820186, 0.19855385144317494 M -0.9800899795820186,0.19855385144317494 Q 0.01956607326888641, 0.19904062092155103 0.9999923638385612, 0.003907974483892833L 0.9999923638385612, 0.003907974483892833 L 0.9999954135282045, 0.003028683303872197 L 0.9999976900591142, 0.0021493897821878716 \", \"type\": \"path\"}, {\"fillcolor\": \"#f2e6ce\", \"layer\": \"below\", \"line\": {\"color\": \"rgb(175,175,175)\", \"width\": 0.5}, \"path\": \"M 0.9999289653588112,0.011919070284942337 Q 0.0047311575996603124, 0.1999440325385261 -0.9982461000520766, 0.05920070718175205L -0.9982461000520766, 0.05920070718175205 L -0.9980982035895374, 0.06164394529342184 L -0.9979443272353702, 0.064086814078595 M -0.9979443272353702,0.064086814078595 Q 0.0046931324470865544, 0.1999449286874616 0.9998521673689513, 0.01719428415522274L 0.9998521673689513, 0.01719428415522274 L 0.9998940452237064, 0.014556727866264505 L 0.9999289653588112, 0.011919070284942337 \", \"type\": \"path\"}, {\"fillcolor\": \"#f2e6ce\", \"layer\": \"below\", \"line\": {\"color\": \"rgb(175,175,175)\", \"width\": 0.5}, \"path\": \"M 0.9997296726309602,0.023250412065016365 Q -0.01649346253729497, 0.19931875399352378 -0.9899533700230023, -0.14139421904767077L -0.9899533700230023, -0.14139421904767077 L -0.9903897350150614, -0.1383046375823907 L -0.990816457643932, -0.1352137095931115 M -0.990816457643932,-0.1352137095931115 Q -0.01653363302983619, 0.1993154258426445 0.9995531454572393, 0.029891627699726496L 0.9995531454572393, 0.029891627699726496 L 0.9996469242247233, 0.02657116647891363 L 0.9997296726309602, 0.023250412065016365 \", \"type\": \"path\"}, {\"fillcolor\": \"#f2e6ce\", \"layer\": \"below\", \"line\": {\"color\": \"rgb(175,175,175)\", \"width\": 0.5}, \"path\": \"M 0.9999679091623496,0.008011282386669845 Q -0.03406923603926028, 0.19707685596157953 -0.9446236201719371, -0.328155780405075L -0.9446236201719371, -0.328155780405075 L -0.9452039463687071, -0.32648047379440975 L -0.9457813013823417, -0.324804140914989 M -0.9457813013823417,-0.324804140914989 Q -0.03410491027328797, 0.1970706855299666 0.9999289653588112, 0.011919070284942337L 0.9999289653588112, 0.011919070284942337 L 0.9999503462079712, 0.009965195359784386 L 0.9999679091623496, 0.008011282386669845 \", \"type\": \"path\"}, {\"fillcolor\": \"#f2e6ce\", \"layer\": \"below\", \"line\": {\"color\": \"rgb(175,175,175)\", \"width\": 0.5}, \"path\": \"M 0.9878677507458632,0.1552974791692035 Q -0.07775686062532994, 0.18426576086102653 -0.8004834873634005, -0.599354808488702L -0.8004834873634005, -0.599354808488702 L -0.8123174146157343, -0.5832155844214121 L -0.8238259954314942, -0.5668427729549947 M -0.8238259954314942,-0.5668427729549947 Q -0.07765162907649448, 0.18431013130527177 0.9810838821122448, 0.19358309910621546L 0.9810838821122448, 0.19358309910621546 L 0.9846619116768672, 0.1744732635473333 L 0.9878677507458632, 0.1552974791692035 \", \"type\": \"path\"}, {\"fillcolor\": \"#f2e6ce\", \"layer\": \"below\", \"line\": {\"color\": \"rgb(175,175,175)\", \"width\": 0.5}, \"path\": \"M 0.9810838821122448,0.19358309910621546 Q -0.12599462516584845, 0.15532338661424222 -0.39178614643929305, -0.9200563110257158L -0.39178614643929305, -0.9200563110257158 L -0.4107288451224588, -0.9117575422141411 L -0.4294958769690736, -0.9030688188984084 M -0.4294958769690736,-0.9030688188984084 Q -0.12584765698434272, 0.15544248850153944 0.9726808849988599, 0.23214628137843318L 0.9726808849988599, 0.23214628137843318 L 0.9770726539300532, 0.21290615055014867 L 0.9810838821122448, 0.19358309910621546 \", \"type\": \"path\"}, {\"fillcolor\": \"#f2e6ce\", \"layer\": \"below\", \"line\": {\"color\": \"rgb(175,175,175)\", \"width\": 0.5}, \"path\": \"M 0.9998521673689513,0.01719428415522274 Q -0.13630878317000947, 0.146355442777887 -0.08813618241209623, -0.9961084345340229L -0.08813618241209623, -0.9961084345340229 L -0.09030086309541545, -0.9959145315358257 L -0.09246511724795063, -0.9957159243942635 M -0.09246511724795063,-0.9957159243942635 Q -0.1364339169082079, 0.1462387989457115 0.9997296726309602, 0.023250412065016365L 0.9997296726309602, 0.023250412065016365 L 0.9997955055338431, 0.02022244085977419 L 0.9998521673689513, 0.01719428415522274 \", \"type\": \"path\"}, {\"fillcolor\": \"#f2e6ce\", \"layer\": \"below\", \"line\": {\"color\": \"rgb(175,175,175)\", \"width\": 0.5}, \"path\": \"M 0.9929974954290869,0.11813540566468904 Q -0.16598532954867684, 0.11157450593490054 0.265520842750727, -0.9641051198209372L 0.265520842750727, -0.9641051198209372 L 0.24627135544170659, -0.9692009180190166 L 0.22692421909701127, -0.9739124184377216 M 0.22692421909701127,-0.9739124184377216 Q -0.16585639941974423, 0.11176607164751867 0.9878677507458632, 0.1552974791692035L 0.9878677507458632, 0.1552974791692035 L 0.9906069027635155, 0.136740499477203 L 0.9929974954290869, 0.11813540566468904 \", \"type\": \"path\"}, {\"fillcolor\": \"#f2e6ce\", \"layer\": \"below\", \"line\": {\"color\": \"rgb(175,175,175)\", \"width\": 0.5}, \"path\": \"M 0.9988543158979013,0.047854525513640764 Q -0.18583327306946568, 0.07393236517445796 0.6929938102434499, -0.7209435338251293L 0.6929938102434499, -0.7209435338251293 L 0.6866344756714919, -0.7270028176144404 L 0.6802221630913152, -0.7330060087334702 M 0.6802221630913152,-0.7330060087334702 Q -0.18581226773931536, 0.07398514146484406 0.9978965145316596, 0.06482704902712406L 0.9978965145316596, 0.06482704902712406 L 0.9984114814763947, 0.05634282257848624 L 0.9988543158979013, 0.047854525513640764 \", \"type\": \"path\"}, {\"fillcolor\": \"#f2e6ce\", \"layer\": \"below\", \"line\": {\"color\": \"rgb(175,175,175)\", \"width\": 0.5}, \"path\": \"M 0.9995531454572393,0.029891627699726496 Q -0.19630140523236508, 0.03828522304752573 0.9150655379720647, -0.4033051713230267L 0.9150655379720647, -0.4033051713230267 L 0.9136232227289593, -0.4065619348762871 L 0.9121693165471036, -0.4098135404668687 M 0.9121693165471036,-0.4098135404668687 Q -0.19631464519886924, 0.03821727463388898 0.9992889849244496, 0.03770311139233868L 0.9992889849244496, 0.03770311139233868 L 0.9994286969897213, 0.033797627630173424 L 0.9995531454572393, 0.029891627699726496 \", \"type\": \"path\"}, {\"fillcolor\": \"#f2e6ce\", \"layer\": \"below\", \"line\": {\"color\": \"rgb(175,175,175)\", \"width\": 0.5}, \"path\": \"M 0.9999923638385612,0.003907974483892833 Q -0.1982209682880357, 0.026616681441410935 0.9635393271675813, -0.2675667486842203L 0.9635393271675813, -0.2675667486842203 L 0.9633041733630147, -0.2684121263680143 L 0.9630682778520538, -0.2692572973850089 M 0.9630682778520538,-0.2692572973850089 Q -0.19822361625205853, 0.026596953960117936 0.9999828186640959, 0.0058619430746117895L 0.9999828186640959, 0.0058619430746117895 L 0.9999880685062934, 0.004884961110652072 L 0.9999923638385612, 0.003907974483892833 \", \"type\": \"path\"}, {\"fillcolor\": \"#f2e6ce\", \"layer\": \"below\", \"line\": {\"color\": \"rgb(175,175,175)\", \"width\": 0.5}, \"path\": \"M 0.9999995227393407,0.0009769959523805351 Q -0.19970973850673318, 0.010771274092337538 0.9940934260456363, -0.1085276936677869L 0.9940934260456363, -0.1085276936677869 L 0.9940424562355765, -0.1089935557780452 L 0.9939912681085177, -0.10945939395054635 M 0.9939912681085177,-0.10945939395054635 Q -0.199711003349859, 0.010747797029746025 0.9999976900591142, 0.0021493897821878716L 0.9999976900591142, 0.0021493897821878716 L 0.9999987782128636, 0.0015631931358624283 L 0.9999995227393407, 0.0009769959523805351 \", \"type\": \"path\"}, {\"fillcolor\": \"#ecd5bb\", \"layer\": \"below\", \"line\": {\"color\": \"rgb(175,175,175)\", \"width\": 0.5}, \"path\": \"M 0.5671598859463715,0.8236077123080496 Q 0.03747319771175239, 0.19645803484015592 -0.2241721156761293, 0.9745495690591054L -0.2241721156761293, 0.9745495690591054 L -0.159942407368507, 0.9871263477008232 L -0.09502756484000888, 0.9954746415256281 M -0.09502756484000888,0.9954746415256281 Q 0.037144464706207206, 0.19652045374894017 0.45180271171952935, 0.8921178788046341L 0.45180271171952935, 0.8921178788046341 L 0.5106315742184941, 0.8597996251517807 L 0.5671598859463715, 0.8236077123080496 \", \"type\": \"path\"}, {\"fillcolor\": \"#ecd5bb\", \"layer\": \"below\", \"line\": {\"color\": \"rgb(175,175,175)\", \"width\": 0.5}, \"path\": \"M 0.8031272759939538,0.5958075012573537 Q 0.0346143899768288, 0.19698183674271091 -0.5518908125238144, 0.8339163813307686L -0.5518908125238144, 0.8339163813307686 L -0.5284020131536716, 0.8489942947365118 L -0.5045015531233004, 0.8634107845609631 M -0.5045015531233004,0.8634107845609631 Q 0.034359395404452896, 0.1970264752449286 0.7669736879611938, 0.6416785503468269L 0.7669736879611938, 0.6416785503468269 L 0.7853854452046862, 0.6190070294113281 L 0.8031272759939538, 0.5958075012573537 \", \"type\": \"path\"}, {\"fillcolor\": \"#ecd5bb\", \"layer\": \"below\", \"line\": {\"color\": \"rgb(175,175,175)\", \"width\": 0.5}, \"path\": \"M 0.9350558532096692,0.3545004250749744 Q 0.046265996764757046, 0.1945750691721925 -0.6754151604662932, 0.7374376997498103L -0.6754151604662932, 0.7374376997498103 L -0.6706158454311282, 0.7418048178980056 L -0.6657882940180645, 0.7461407022462421 M -0.6657882940180645,0.7461407022462421 Q 0.04593399963482063, 0.19465371221106548 0.9291204227085906, 0.36977728446432445L 0.9291204227085906, 0.36977728446432445 L 0.9321194357657813, 0.36215101472684225 L 0.9350558532096692, 0.3545004250749744 \", \"type\": \"path\"}, {\"fillcolor\": \"#ecd5bb\", \"layer\": \"below\", \"line\": {\"color\": \"rgb(175,175,175)\", \"width\": 0.5}, \"path\": \"M 0.8950790049903891,0.4459075855212771 Q 0.014320675231496298, 0.1994866367978417 -0.8222077189985035, 0.56918754977536L -0.8222077189985035, 0.56918754977536 L -0.81529323417309, 0.5790483074075798 L -0.8082604954328229, 0.5888250771856509 M -0.8082604954328229,0.5888250771856509 Q 0.013935712939747408, 0.19951389902676195 0.8822696531281504, 0.4707443671135461L 0.8822696531281504, 0.4707443671135461 L 0.8887610925096288, 0.4583707238045327 L 0.8950790049903891, 0.4459075855212771 \", \"type\": \"path\"}, {\"fillcolor\": \"#ecd5bb\", \"layer\": \"below\", \"line\": {\"color\": \"rgb(175,175,175)\", \"width\": 0.5}, \"path\": \"M 0.8822696531281504,0.4707443671135461 Q -0.016182442994136726, 0.19934424631461406 -0.946645759999225, 0.3222759765720829L -0.946645759999225, 0.3222759765720829 L -0.9406231796131791, 0.3394525504019568 L -0.9342889649706297, 0.35651666150982264 M -0.9342889649706297,0.35651666150982264 Q -0.016512239198620927, 0.19931719934979905 0.862884176402373, 0.5054017195404052L 0.862884176402373, 0.5054017195404052 L 0.872748964594386, 0.488169278836171 L 0.8822696531281504, 0.4707443671135461 \", \"type\": \"path\"}, {\"fillcolor\": \"#ecd5bb\", \"layer\": \"below\", \"line\": {\"color\": \"rgb(175,175,175)\", \"width\": 0.5}, \"path\": \"M 0.9445964275208761,0.32823404624566016 Q -0.008627024283168295, 0.19981384950002246 -0.9693717970979674, 0.24559788067297578L -0.9693717970979674, 0.24559788067297578 L -0.9682105229819102, 0.2501367289845613 L -0.9670279969338185, 0.2546700868695944 M -0.9670279969338185,0.2546700868695944 Q -0.009055390936483085, 0.1997948945668719 0.94002545516799, 0.3411043002311952L 0.94002545516799, 0.3411043002311952 L 0.9423329141215671, 0.3346769770437689 L 0.9445964275208761, 0.32823404624566016 \", \"type\": \"path\"}, {\"fillcolor\": \"#ecd5bb\", \"layer\": \"below\", \"line\": {\"color\": \"rgb(175,175,175)\", \"width\": 0.5}, \"path\": \"M 0.94002545516799,0.3411043002311952 Q -0.023963836538411054, 0.19855914619669457 -0.9941870354721427, 0.10766679385545194L -0.9941870354721427, 0.10766679385545194 L -0.9935734597910788, 0.11318913374871997 L -0.9929292098017332, 0.11870797918634556 M -0.9929292098017332,0.11870797918634556 Q -0.024279086255741614, 0.19852084517900448 0.9350558532096692, 0.3545004250749744L 0.9350558532096692, 0.3545004250749744 L 0.9375645803340835, 0.34781123860935537 L 0.94002545516799, 0.3411043002311952 \", \"type\": \"path\"}, {\"fillcolor\": \"#ecd5bb\", \"layer\": \"below\", \"line\": {\"color\": \"rgb(175,175,175)\", \"width\": 0.5}, \"path\": \"M 0.9224493599212867,0.38611808864751257 Q -0.03945926220415857, 0.19606878034583544 -0.9999996966545127, -0.0007789036414128748L -0.9999996966545127, -0.0007789036414128748 L -0.9999707228209547, 0.0076520259368026994 L -0.999870669655424, 0.016082411598201656 M -0.999870669655424,0.016082411598201656 Q -0.03972189943012169, 0.19601574096399324 0.9147284306399196, 0.4040691749923888L 0.9147284306399196, 0.4040691749923888 L 0.9186327443043163, 0.3951124916930882 L 0.9224493599212867, 0.38611808864751257 \", \"type\": \"path\"}, {\"fillcolor\": \"#ecd5bb\", \"layer\": \"below\", \"line\": {\"color\": \"rgb(175,175,175)\", \"width\": 0.5}, \"path\": \"M 0.9147284306399196,0.4040691749923888 Q -0.062517990399181, 0.1899776325688051 -0.9759245469471619, -0.21810841035131306L -0.9759245469471619, -0.21810841035131306 L -0.9778850458242573, -0.2091431020934955 L -0.9797631869215999, -0.20016017973920297 M -0.9797631869215999,-0.20016017973920297 Q -0.06277040318245858, 0.1898943824453783 0.9060367228714995, 0.42319907467795065L 0.9060367228714995, 0.42319907467795065 L 0.9104328225222662, 0.4136569540986102 L 0.9147284306399196, 0.4040691749923888 \", \"type\": \"path\"}, {\"fillcolor\": \"#ecd5bb\", \"layer\": \"below\", \"line\": {\"color\": \"rgb(175,175,175)\", \"width\": 0.5}, \"path\": \"M 0.9060367228714995,0.42319907467795065 Q -0.08416054395917934, 0.18143043526513142 -0.9082612917315082, -0.41840342486912335L -0.9082612917315082, -0.41840342486912335 L -0.912660723888378, -0.4087179994464909 L -0.9169568771044462, -0.3989863224859489 M -0.9169568771044462,-0.3989863224859489 Q -0.084517711580234, 0.18126432751437993 0.8950790049903891, 0.4459075855212771L 0.8950790049903891, 0.4459075855212771 L 0.9006294384507124, 0.4345878675204296 L 0.9060367228714995, 0.42319907467795065 \", \"type\": \"path\"}, {\"fillcolor\": \"#ecd5bb\", \"layer\": \"below\", \"line\": {\"color\": \"rgb(175,175,175)\", \"width\": 0.5}, \"path\": \"M 0.71216960122905,0.702007449451397 Q -0.1474817131486735, 0.13508939368704115 -0.6369669639370313, -0.7708910992175487L -0.6369669639370313, -0.7708910992175487 L -0.6707429546573452, -0.741689887201878 L -0.7031818002938438, -0.7110100953822729 M -0.7031818002938438,-0.7110100953822729 Q -0.14775086394695489, 0.1347949635666275 0.6436741159062714, 0.7652997011055733L 0.6436741159062714, 0.7652997011055733 L 0.6786600943061964, 0.734452501116515 L 0.71216960122905, 0.702007449451397 \", \"type\": \"path\"}, {\"fillcolor\": \"#ecd5bb\", \"layer\": \"below\", \"line\": {\"color\": \"rgb(175,175,175)\", \"width\": 0.5}, \"path\": \"M 0.6436741159062714,0.7652997011055733 Q -0.1825438537964146, 0.08171744881696451 -0.14203982197958445, -0.9898609442603582L -0.14203982197958445, -0.9898609442603582 L -0.1882822183688987, -0.9821149659006762 L -0.23411070277274654, -0.9722099458693326 M -0.23411070277274654,-0.9722099458693326 Q -0.18264399305299686, 0.08149338501778434 0.5671598859463715, 0.8236077123080496L 0.5671598859463715, 0.8236077123080496 L 0.6061185536289238, 0.79537431373334 L 0.6436741159062714, 0.7652997011055733 \", \"type\": \"path\"}, {\"fillcolor\": \"#ecd5bb\", \"layer\": \"below\", \"line\": {\"color\": \"rgb(175,175,175)\", \"width\": 0.5}, \"path\": \"M 0.951478502976442,0.30771522285013597 Q -0.1574098557731709, 0.1233780260235571 -0.07150391226747185, -0.9974403192825352L -0.07150391226747185, -0.9974403192825352 L -0.0745105106407744, -0.9972202283367757 L -0.07751643185705626, -0.9969910745799836 M -0.07751643185705626,-0.9969910745799836 Q -0.15759511405078835, 0.1231413010623122 0.9486594128145609, 0.316299412706272L 0.9486594128145609, 0.316299412706272 L 0.9500786529732765, 0.3120105016894213 L 0.951478502976442, 0.30771522285013597 \", \"type\": \"path\"}, {\"fillcolor\": \"#ecd5bb\", \"layer\": \"below\", \"line\": {\"color\": \"rgb(175,175,175)\", \"width\": 0.5}, \"path\": \"M 0.45180271171952935,0.8921178788046341 Q -0.19924042130386188, -0.017414204508378373 0.5997173602744812, -0.8002119018018966L 0.5997173602744812, -0.8002119018018966 L 0.5424485793031422, -0.8400890064820529 L 0.4825381297575364, -0.8758749644384745 M 0.4825381297575364,-0.8758749644384745 Q -0.19922453687478917, -0.01759499664750674 0.32155619092598825, 0.9468904984617648L 0.32155619092598825, 0.9468904984617648 L 0.3876480466109638, 0.9218074592661442 L 0.45180271171952935, 0.8921178788046341 \", \"type\": \"path\"}, {\"fillcolor\": \"#ecd5bb\", \"layer\": \"below\", \"line\": {\"color\": \"rgb(175,175,175)\", \"width\": 0.5}, \"path\": \"M 0.7669736879611938,0.6416785503468269 Q -0.1988410318191122, -0.021499861978878234 0.8864077825993536, -0.46290522026360537L 0.8864077825993536, -0.46290522026360537 L 0.8675984733702135, -0.4972654110288338 L 0.8474579099182318, -0.5308625913708953 M 0.8474579099182318,-0.5308625913708953 Q -0.19880660228183133, -0.021815932002867675 0.71216960122905, 0.702007449451397L 0.71216960122905, 0.702007449451397 L 0.74018653831715, 0.6724015827569669 L 0.7669736879611938, 0.6416785503468269 \", \"type\": \"path\"}, {\"fillcolor\": \"#ecd5bb\", \"layer\": \"below\", \"line\": {\"color\": \"rgb(175,175,175)\", \"width\": 0.5}, \"path\": \"M 0.836195660857835,0.5484312324827321 Q -0.19813092812910274, -0.027278843793319546 0.9532911048304472, -0.3020530904512406L 0.9532911048304472, -0.3020530904512406 L 0.9456094411532776, -0.32530414199912366 L 0.9373607717529869, -0.3483601348872238 M 0.9373607717529869,-0.3483601348872238 Q -0.19800886771790793, -0.02815116880472352 0.8031272759939538, 0.5958075012573537L 0.8031272759939538, 0.5958075012573537 L 0.8200036893409962, 0.5723582352575658 L 0.836195660857835, 0.5484312324827321 \", \"type\": \"path\"}, {\"fillcolor\": \"#ecd5bb\", \"layer\": \"below\", \"line\": {\"color\": \"rgb(175,175,175)\", \"width\": 0.5}, \"path\": \"M 0.9291204227085906,0.36977728446432445 Q -0.19919970717544722, -0.017873910070717126 0.9801079960635735, -0.19846489879131313L 0.9801079960635735, -0.19846489879131313 L 0.9786185439791792, -0.20568360503470204 L 0.9770759253231931, -0.21289113686066385 M 0.9770759253231931,-0.21289113686066385 Q -0.19917350128787284, -0.01816360054421255 0.9224493599212867, 0.38611808864751257L 0.9224493599212867, 0.38611808864751257 L 0.9258209440584886, 0.37796240493288336 L 0.9291204227085906, 0.36977728446432445 \", \"type\": \"path\"}, {\"fillcolor\": \"#ecd5bb\", \"layer\": \"below\", \"line\": {\"color\": \"rgb(175,175,175)\", \"width\": 0.5}, \"path\": \"M 0.9486594128145609,0.316299412706272 Q -0.19838911116379063, -0.025332993736254885 0.9977015254776016, -0.06776183335526453L 0.9977015254776016, -0.06776183335526453 L 0.9973730101401143, -0.07243672165447307 L 0.9970225899949624, -0.07711001906196864 M 0.9970225899949624,-0.07711001906196864 Q -0.19834788177490792, -0.025653806645547728 0.9445964275208761, 0.32823404624566016L 0.9445964275208761, 0.32823404624566016 L 0.9466467282521449, 0.32227313243506617 L 0.9486594128145609, 0.316299412706272 \", \"type\": \"path\"}, {\"fillcolor\": \"#e6c4a9\", \"layer\": \"below\", \"line\": {\"color\": \"rgb(175,175,175)\", \"width\": 0.5}, \"path\": \"M 0.024684747500489577,0.9996952851948623 Q -0.060761641674491884, 0.1905466423241844 -0.5988479132506912, 0.8008627702642274L -0.5988479132506912, 0.8008627702642274 L -0.5756066704359997, 0.8177267030919209 L -0.5518908125238144, 0.8339163813307686 M -0.5518908125238144,0.8339163813307686 Q -0.060872682411713036, 0.19051119792810797 -0.03390369837489218, 0.999425104365757L -0.03390369837489218, 0.999425104365757 L -0.004611454567299363, 0.9999893671868585 L 0.024684747500489577, 0.9996952851948623 \", \"type\": \"path\"}, {\"fillcolor\": \"#e6c4a9\", \"layer\": \"below\", \"line\": {\"color\": \"rgb(175,175,175)\", \"width\": 0.5}, \"path\": \"M 0.23732657880833968,0.9714299228411326 Q -0.04840812682977031, 0.19405322274271272 -0.6657882940180645, 0.7461407022462421L -0.6657882940180645, 0.7461407022462421 L -0.6618686433237947, 0.7496198363068572 L -0.6579308123982155, 0.7530783797832893 M -0.6579308123982155,0.7530783797832893 Q -0.04864346094133595, 0.19399436514406476 0.22476810391347363, 0.974412284129845L 0.22476810391347363, 0.974412284129845 L 0.23105215335429669, 0.9729413663887164 L 0.23732657880833968, 0.9714299228411326 \", \"type\": \"path\"}, {\"fillcolor\": \"#e6c4a9\", \"layer\": \"below\", \"line\": {\"color\": \"rgb(175,175,175)\", \"width\": 0.5}, \"path\": \"M 0.2099692079811209,0.9777079992000581 Q -0.0677062168169759, 0.18819104177492788 -0.7847261525259753, 0.6198426135252236L -0.7847261525259753, 0.6198426135252236 L -0.7797052880373542, 0.6261466791468167 L -0.7746337814379826, 0.6324100763389937 M -0.7746337814379826,0.6324100763389937 Q -0.06790532969403959, 0.18811928715350745 0.1921069088154535, 0.9813740039278456L 0.1921069088154535, 0.9813740039278456 L 0.20104641459677697, 0.9795817164370622 L 0.2099692079811209, 0.9777079992000581 \", \"type\": \"path\"}, {\"fillcolor\": \"#e6c4a9\", \"layer\": \"below\", \"line\": {\"color\": \"rgb(175,175,175)\", \"width\": 0.5}, \"path\": \"M 0.12617845799359206,0.9920075588111007 Q -0.09716731162516164, 0.1748099355057908 -0.9091155168907906, 0.41654408764066087L -0.9091155168907906, 0.41654408764066087 L -0.9033754865271197, 0.42885047550619526 L -0.8974688781223833, 0.44107778543217385 M -0.8974688781223833,0.44107778543217385 Q -0.09731851303498401, 0.174725805251141 0.09747173487540864, 0.9952382935259163L 0.09747173487540864, 0.9952382935259163 L 0.11183676320550716, 0.9937265913699378 L 0.12617845799359206, 0.9920075588111007 \", \"type\": \"path\"}, {\"fillcolor\": \"#e6c4a9\", \"layer\": \"below\", \"line\": {\"color\": \"rgb(175,175,175)\", \"width\": 0.5}, \"path\": \"M 0.24865499403516936,0.9685921194916722 Q -0.10127904225242566, 0.17246030152017996 -0.9670279969338185, 0.2546700868695944L -0.9670279969338185, 0.2546700868695944 L -0.9659735435665106, 0.25864089608868635 L -0.9649027853407315, 0.26260733965694527 M -0.9649027853407315,0.26260733965694527 Q -0.10157738876068681, 0.17228474712684316 0.23732657880833968, 0.9714299228411326L 0.23732657880833968, 0.9714299228411326 L 0.2429949290989943, 0.9700275585941746 L 0.24865499403516936, 0.9685921194916722 \", \"type\": \"path\"}, {\"fillcolor\": \"#e6c4a9\", \"layer\": \"below\", \"line\": {\"color\": \"rgb(175,175,175)\", \"width\": 0.5}, \"path\": \"M 0.27436239686881686,0.9616263698466249 Q -0.1057342599453164, 0.16976532706597147 -0.9840576762865121, 0.17784962676820631L -0.9840576762865121, 0.17784962676820631 L -0.9835302595881081, 0.18074354338274062 L -0.9829943324793334, 0.18363589603753844 M -0.9829943324793334,0.18363589603753844 Q -0.1058609374764754, 0.16968636337844525 0.26726213514711206, 0.9636238639202575L 0.26726213514711206, 0.9636238639202575 L 0.2708141076753796, 0.9626316632461182 L 0.27436239686881686, 0.9616263698466249 \", \"type\": \"path\"}, {\"fillcolor\": \"#e6c4a9\", \"layer\": \"below\", \"line\": {\"color\": \"rgb(175,175,175)\", \"width\": 0.5}, \"path\": \"M 0.26726213514711206,0.9636238639202575 Q -0.11746627538702847, 0.1618693119361999 -0.9989997629627839, 0.044715473835144376L -0.9989997629627839, 0.044715473835144376 L -0.9988046057219585, 0.04888107597632358 L -0.9985920789418837, 0.05304582805958069 M -0.9985920789418837,0.05304582805958069 Q -0.11755402500257578, 0.16180559695416533 0.25816847127868003, 0.9660999122438783L 0.25816847127868003, 0.9660999122438783 L 0.26271822023999225, 0.9648726013075151 L 0.26726213514711206, 0.9636238639202575 \", \"type\": \"path\"}, {\"fillcolor\": \"#e6c4a9\", \"layer\": \"below\", \"line\": {\"color\": \"rgb(175,175,175)\", \"width\": 0.5}, \"path\": \"M 0.25816847127868003,0.9660999122438783 Q -0.13504644313253153, 0.14752104323537008 -0.9850919625774435, -0.1720285594467403L -0.9850919625774435, -0.1720285594467403 L -0.9858401975207699, -0.16768752175462978 L -0.9865693027636958, -0.16334323017607788 M -0.9865693027636958,-0.16334323017607788 Q -0.13512198795361738, 0.14745185102758965 0.24865499403516936, 0.9685921194916722L 0.24865499403516936, 0.9685921194916722 L 0.25341479637626957, 0.967357710972303 L 0.25816847127868003, 0.9660999122438783 \", \"type\": \"path\"}, {\"fillcolor\": \"#e6c4a9\", \"layer\": \"below\", \"line\": {\"color\": \"rgb(175,175,175)\", \"width\": 0.5}, \"path\": \"M 0.22476810391347363,0.974412284129845 Q -0.15272618595018883, 0.12913060104060672 -0.9234787109801116, -0.38364967140154255L -0.9234787109801116, -0.38364967140154255 L -0.9259755639059536, -0.37758344117433346 L -0.9284325689330155, -0.3715009622389172 M -0.9284325689330155,-0.3715009622389172 Q -0.1528579217004317, 0.12897463228644887 0.2099692079811209, 0.9777079992000581L 0.2099692079811209, 0.9777079992000581 L 0.21737490200754675, 0.9760881886270366 L 0.22476810391347363, 0.974412284129845 \", \"type\": \"path\"}, {\"fillcolor\": \"#e6c4a9\", \"layer\": \"below\", \"line\": {\"color\": \"rgb(175,175,175)\", \"width\": 0.5}, \"path\": \"M 0.1921069088154535,0.9813740039278456 Q -0.16616902142394646, 0.11130074716284713 -0.8343953981615903, -0.5511663265537557L -0.8343953981615903, -0.5511663265537557 L -0.8395684818804597, -0.5432538672047721 L -0.8446665352043439, -0.535292858448428 M -0.8446665352043439,-0.535292858448428 Q -0.16618862571563894, 0.11127147290634412 0.17317187140749282, 0.9848916199020209L 0.17317187140749282, 0.9848916199020209 L 0.18264785853063364, 0.9831783967186085 L 0.1921069088154535, 0.9813740039278456 \", \"type\": \"path\"}, {\"fillcolor\": \"#e6c4a9\", \"layer\": \"below\", \"line\": {\"color\": \"rgb(175,175,175)\", \"width\": 0.5}, \"path\": \"M 0.06173237992238482,0.9980927378100285 Q -0.19364052402495863, 0.05003346335543272 -0.4294958769690736, -0.9030688188984084L -0.4294958769690736, -0.9030688188984084 L -0.44615607456329803, -0.8949551704584252 L -0.4626630650727373, -0.8865342002525904 M -0.4626630650727373,-0.8865342002525904 Q -0.19364107721335314, 0.050031322345628786 0.024684747500489577, 0.9996952851948623L 0.024684747500489577, 0.9996952851948623 L 0.0432159926130998, 0.9990657525821134 L 0.06173237992238482, 0.9980927378100285 \", \"type\": \"path\"}, {\"fillcolor\": \"#e6c4a9\", \"layer\": \"below\", \"line\": {\"color\": \"rgb(175,175,175)\", \"width\": 0.5}, \"path\": \"M 0.28125112236443817,0.9596342043553595 Q -0.19661587244092893, 0.036636030138271984 -0.08324667818294845, -0.9965289712655145L -0.08324667818294845, -0.9965289712655145 L -0.08569168827383924, -0.9963217023435649 L -0.08813618241209623, -0.9961084345340229 M -0.08813618241209623,-0.9961084345340229 Q -0.1966572085440606, 0.036413491011682265 0.27436239686881686, 0.9616263698466249L 0.27436239686881686, 0.9616263698466249 L 0.2778085453500788, 0.960636462003433 L 0.28125112236443817, 0.9596342043553595 \", \"type\": \"path\"}, {\"fillcolor\": \"#e6c4a9\", \"layer\": \"below\", \"line\": {\"color\": \"rgb(175,175,175)\", \"width\": 0.5}, \"path\": \"M -0.03390369837489218,0.999425104365757 Q -0.1966845109853895, -0.036265729531311026 0.32476614420749855, -0.9457943495161061L 0.32476614420749855, -0.9457943495161061 L 0.2952854598864363, -0.9554090732140113 L 0.265520842750727, -0.9641051198209372 M 0.265520842750727,-0.9641051198209372 Q -0.19669826635971666, -0.036191048770130484 -0.09502756484000888, 0.9954746415256281L -0.09502756484000888, 0.9954746415256281 L -0.06449588512231098, 0.9979179729828949 L -0.03390369837489218, 0.999425104365757 \", \"type\": \"path\"}, {\"fillcolor\": \"#e6c4a9\", \"layer\": \"below\", \"line\": {\"color\": \"rgb(175,175,175)\", \"width\": 0.5}, \"path\": \"M 0.09747173487540864,0.9952382935259163 Q -0.1826569140071748, -0.08146442024206368 0.805587672620388, -0.5924765832689647L 0.805587672620388, -0.5924765832689647 L 0.7949941692213347, -0.6066170710621981 L 0.7841524879536177, -0.620568187741002 M 0.7841524879536177,-0.620568187741002 Q -0.18263582347412902, -0.08151169231421214 0.06173237992238482, 0.9980927378100285L 0.06173237992238482, 0.9980927378100285 L 0.07961485103408801, 0.9968256996560733 L 0.09747173487540864, 0.9952382935259163 \", \"type\": \"path\"}, {\"fillcolor\": \"#e6c4a9\", \"layer\": \"below\", \"line\": {\"color\": \"rgb(175,175,175)\", \"width\": 0.5}, \"path\": \"M 0.17317187140749282,0.9848916199020209 Q -0.17351780868756966, -0.09945637268804838 0.9373607717529869, -0.3483601348872238L 0.9373607717529869, -0.3483601348872238 L 0.9343803497682961, -0.35627708594137325 L 0.931333062564111, -0.36416854144057215 M 0.931333062564111,-0.36416854144057215 Q -0.17339109068043013, -0.09967712712879953 0.15397016315155274, 0.9880754975502045L 0.15397016315155274, 0.9880754975502045 L 0.16357876379003977, 0.9865302773037036 L 0.17317187140749282, 0.9848916199020209 \", \"type\": \"path\"}, {\"fillcolor\": \"#e6c4a9\", \"layer\": \"below\", \"line\": {\"color\": \"rgb(175,175,175)\", \"width\": 0.5}, \"path\": \"M 0.29165497303618987,0.9565235892037683 Q -0.17495284099934338, -0.09690976950885027 0.9655766703348354, -0.26011861468394093L 0.9655766703348354, -0.26011861468394093 L 0.965072727321431, -0.2619821195814227 L 0.9645651878592538, -0.26384464817396314 M 0.9645651878592538,-0.26384464817396314 Q -0.17492150042958943, -0.0969663275960328 0.28734049824315516, 0.9578285013870569L 0.28734049824315516, 0.9578285013870569 L 0.2894984708758393, 0.9571784762313404 L 0.29165497303618987, 0.9565235892037683 \", \"type\": \"path\"}, {\"fillcolor\": \"#e6c4a9\", \"layer\": \"below\", \"line\": {\"color\": \"rgb(175,175,175)\", \"width\": 0.5}, \"path\": \"M 0.28734049824315516,0.9578285013870569 Q -0.1656485595434602, -0.1120738806376255 0.9959811061559574, -0.08956358735756141L 0.9959811061559574, -0.08956358735756141 L 0.995761324871232, -0.09197490902788993 L 0.9955357056608988, -0.09438569146992731 M 0.9955357056608988,-0.09438569146992731 Q -0.16556396180976554, -0.11219881706085184 0.28125112236443817, 0.9596342043553595L 0.28125112236443817, 0.9596342043553595 L 0.284297243913997, 0.9587361874378714 L 0.28734049824315516, 0.9578285013870569 \", \"type\": \"path\"}, {\"fillcolor\": \"#e1b396\", \"layer\": \"below\", \"line\": {\"color\": \"rgb(175,175,175)\", \"width\": 0.5}, \"path\": \"M -0.33049649589228525,0.9438072187702956 Q -0.10409624250786127, 0.1707746242734691 -0.6874698541867127, 0.7262129161509728L -0.6874698541867127, 0.7262129161509728 L -0.6814656188929425, 0.7318501282823272 L -0.6754151604662932, 0.7374376997498103 M -0.6754151604662932,0.7374376997498103 Q -0.1043871368552868, 0.17059696849345132 -0.3491930798724121, 0.9370507952983228L -0.3491930798724121, 0.9370507952983228 L -0.33986157794804006, 0.9404754690233383 L -0.33049649589228525, 0.9438072187702956 \", \"type\": \"path\"}, {\"fillcolor\": \"#e1b396\", \"layer\": \"below\", \"line\": {\"color\": \"rgb(175,175,175)\", \"width\": 0.5}, \"path\": \"M -0.3491930798724121,0.9370507952983228 Q -0.11927701409112977, 0.16053969574377683 -0.7963705436017718, 0.6048090254645829L -0.7963705436017718, 0.6048090254645829 L -0.7905840833327051, 0.6123534985455593 L -0.7847261525259753, 0.6198426135252236 M -0.7847261525259753,0.6198426135252236 Q -0.11944303120435039, 0.16041621581597224 -0.36887182344900293, 0.9294802729834601L -0.36887182344900293, 0.9294802729834601 L -0.3590524050156581, 0.9333174007016433 L -0.3491930798724121, 0.9370507952983228 \", \"type\": \"path\"}, {\"fillcolor\": \"#e1b396\", \"layer\": \"below\", \"line\": {\"color\": \"rgb(175,175,175)\", \"width\": 0.5}, \"path\": \"M -0.4381149434263015,0.8989189598326252 Q -0.1475700762691756, 0.13499286125536308 -0.9342889649706297, 0.35651666150982264L -0.9342889649706297, 0.35651666150982264 L -0.9277890144350799, 0.3731052729372545 L -0.9209945545467112, 0.3895754490407538 M -0.9209945545467112,0.3895754490407538 Q -0.14767237809023867, 0.1348809428687893 -0.4711997847967285, 0.8820265091296955L -0.4711997847967285, 0.8820265091296955 L -0.45473581062361723, 0.8906263765106454 L -0.4381149434263015, 0.8989189598326252 \", \"type\": \"path\"}, {\"fillcolor\": \"#e1b396\", \"layer\": \"below\", \"line\": {\"color\": \"rgb(175,175,175)\", \"width\": 0.5}, \"path\": \"M -0.25661422098925596,0.9665139117395452 Q -0.13940889883003382, 0.1434055749508972 -0.9588765575336514, 0.28382344408525184L -0.9588765575336514, 0.28382344408525184 L -0.9585896663306047, 0.2847908910133537 L -0.9583017990339283, 0.2857580479502484 M -0.9583017990339283,0.2857580479502484 Q -0.13946576047647483, 0.143350276088742 -0.2593304113769218, 0.9657886610097866L -0.2593304113769218, 0.9657886610097866 L -0.2579725710497587, 0.9661522408947656 L -0.25661422098925596, 0.9665139117395452 \", \"type\": \"path\"}, {\"fillcolor\": \"#e1b396\", \"layer\": \"below\", \"line\": {\"color\": \"rgb(175,175,175)\", \"width\": 0.5}, \"path\": \"M -0.2842589509586124,0.9587475417438677 Q -0.15161792008081457, 0.13043008207605994 -0.9904556083038438, 0.13783210068580823L -0.9904556083038438, 0.13783210068580823 L -0.9898958153240246, 0.14179659658815713 L -0.9893201537243673, 0.14575881940656046 M -0.9893201537243673,0.14575881940656046 Q -0.15173733505933634, 0.13029113994854255 -0.2936788471519213, 0.9559041451607575L -0.2936788471519213, 0.9559041451607575 L -0.2889723963413205, 0.9573374296206927 L -0.2842589509586124, 0.9587475417438677 \", \"type\": \"path\"}, {\"fillcolor\": \"#e1b396\", \"layer\": \"below\", \"line\": {\"color\": \"rgb(175,175,175)\", \"width\": 0.5}, \"path\": \"M -0.27017446184977817,0.962811383482862 Q -0.15612308928749366, 0.12500232394371427 -0.9985920789418837, 0.05304582805958069L -0.9985920789418837, 0.05304582805958069 L -0.9984238323008076, 0.056123534223790746 L -0.9982461000520766, 0.05920070718175205 M -0.9982461000520766,0.05920070718175205 Q -0.15616451628633024, 0.12495056563720108 -0.27674176825928914, 0.9609443239338697L -0.27674176825928914, 0.9609443239338697 L -0.27345970848923684, 0.9618834585504533 L -0.27017446184977817, 0.962811383482862 \", \"type\": \"path\"}, {\"fillcolor\": \"#e1b396\", \"layer\": \"below\", \"line\": {\"color\": \"rgb(175,175,175)\", \"width\": 0.5}, \"path\": \"M -0.26359456114294827,0.9646335611701764 Q -0.1675147086652416, 0.10926491834435809 -0.9890517300368269, -0.14756922209986667L -0.9890517300368269, -0.14756922209986667 L -0.9895073669161727, -0.1444824239090094 L -0.9899533700230023, -0.14139421904767077 M -0.9899533700230023,-0.14139421904767077 Q -0.16754677452342112, 0.10921574221144995 -0.27017446184977817, 0.962811383482862L -0.27017446184977817, 0.962811383482862 L -0.26688606662681646, 0.9637280879171606 L -0.26359456114294827, 0.9646335611701764 \", \"type\": \"path\"}, {\"fillcolor\": \"#e1b396\", \"layer\": \"below\", \"line\": {\"color\": \"rgb(175,175,175)\", \"width\": 0.5}, \"path\": \"M -0.3047921091527553,0.9524189047883368 Q -0.18036812816348777, 0.08641376246177257 -0.9332266140767876, -0.3592883059310093L -0.9332266140767876, -0.3592883059310093 L -0.9353127564043313, -0.3538220565585646 L -0.9373668812253062, -0.3483436951947641 M -0.9373668812253062,-0.3483436951947641 Q -0.1804351259477095, 0.08627378120978707 -0.3173878577655163, 0.9482958123618476L -0.3173878577655163, 0.9482958123618476 L -0.3110968141614356, 0.9503782258756801 L -0.3047921091527553, 0.9524189047883368 \", \"type\": \"path\"}, {\"fillcolor\": \"#e1b396\", \"layer\": \"below\", \"line\": {\"color\": \"rgb(175,175,175)\", \"width\": 0.5}, \"path\": \"M -0.3173878577655163,0.9482958123618476 Q -0.18792743385481778, 0.06843449133838213 -0.8528553212093269, -0.5221472982645183L -0.8528553212093269, -0.5221472982645183 L -0.8564580762037826, -0.5162165860424438 L -0.8600195900089015, -0.5102610163444989 M -0.8600195900089015,-0.5102610163444989 Q -0.18792666077912776, 0.06843661423833479 -0.33049649589228525, 0.9438072187702956L -0.33049649589228525, 0.9438072187702956 L -0.3239499510676831, 0.946074219711776 L -0.3173878577655163, 0.9482958123618476 \", \"type\": \"path\"}, {\"fillcolor\": \"#e1b396\", \"layer\": \"below\", \"line\": {\"color\": \"rgb(175,175,175)\", \"width\": 0.5}, \"path\": \"M -0.36887182344900293,0.9294802729834601 Q -0.19954908313503897, 0.013422496785818569 -0.4900271420305955, -0.8717071756463444L -0.4900271420305955, -0.8717071756463444 L -0.5006109197082117, -0.865672401702225 L -0.511120389280811, -0.8595091318080524 M -0.511120389280811,-0.8595091318080524 Q -0.1995459203010054, 0.013469435445659912 -0.3909756894931125, 0.920401005119717L -0.3909756894931125, 0.920401005119717 L -0.37995087709770453, 0.9250066653774366 L -0.36887182344900293, 0.9294802729834601 \", \"type\": \"path\"}, {\"fillcolor\": \"#e1b396\", \"layer\": \"below\", \"line\": {\"color\": \"rgb(175,175,175)\", \"width\": 0.5}, \"path\": \"M -0.2593304113769218,0.9657886610097866 Q -0.1993107836585867, -0.01658950021549933 -0.09609449310570103, -0.9953722160050271L -0.09609449310570103, -0.9953722160050271 L -0.09762961660238775, -0.995222818248291 L -0.09916450784565296, -0.9950710529322665 M -0.09916450784565296,-0.9950710529322665 Q -0.19929968180275356, -0.016722345329563876 -0.26359456114294827, 0.9646335611701764L -0.26359456114294827, 0.9646335611701764 L -0.2614631241401674, 0.9652134658793687 L -0.2593304113769218, 0.9657886610097866 \", \"type\": \"path\"}, {\"fillcolor\": \"#e1b396\", \"layer\": \"below\", \"line\": {\"color\": \"rgb(175,175,175)\", \"width\": 0.5}, \"path\": \"M -0.4711997847967285,0.8820265091296955 Q -0.18719454732598415, -0.07041449745201547 0.22692421909701127, -0.9739124184377216L 0.22692421909701127, -0.9739124184377216 L 0.20769001242388907, -0.9781946936777794 L 0.1883751612584291, -0.9820971431690761 M 0.1883751612584291,-0.9820971431690761 Q -0.187238762198107, -0.07029684154014842 -0.5045015531233004, 0.8634107845609631L -0.5045015531233004, 0.8634107845609631 L -0.48793945475339306, 0.8728774762215837 L -0.4711997847967285, 0.8820265091296955 \", \"type\": \"path\"}, {\"fillcolor\": \"#e1b396\", \"layer\": \"below\", \"line\": {\"color\": \"rgb(175,175,175)\", \"width\": 0.5}, \"path\": \"M -0.3909756894931125,0.920401005119717 Q -0.16291526013730628, -0.11601128399597099 0.7419032749148318, -0.6705069206731931L 0.7419032749148318, -0.6705069206731931 L 0.7336567602324812, -0.6795202411740063 L 0.725300750983004, -0.6884321467098194 M 0.725300750983004,-0.6884321467098194 Q -0.16292310404171062, -0.1160002679713023 -0.4132220647892432, 0.9106302900581084L -0.4132220647892432, 0.9106302900581084 L -0.4021285537193296, 0.9155832164711192 L -0.3909756894931125, 0.920401005119717 \", \"type\": \"path\"}, {\"fillcolor\": \"#e1b396\", \"layer\": \"below\", \"line\": {\"color\": \"rgb(175,175,175)\", \"width\": 0.5}, \"path\": \"M -0.27674176825928914,0.9609443239338697 Q -0.151087567057635, -0.13104406541543442 0.9121693165471036, -0.4098135404668687L 0.9121693165471036, -0.4098135404668687 L 0.9107406157296598, -0.41297885037899956 L 0.9093009310408064, -0.41613917961220925 M 0.9093009310408064,-0.41613917961220925 Q -0.15102949954980094, -0.13111098453499873 -0.2842589509586124, 0.9587475417438677L -0.2842589509586124, 0.9587475417438677 L -0.28050251015587774, 0.9598532918088325 L -0.27674176825928914, 0.9609443239338697 \", \"type\": \"path\"}, {\"fillcolor\": \"#e1b396\", \"layer\": \"below\", \"line\": {\"color\": \"rgb(175,175,175)\", \"width\": 0.5}, \"path\": \"M -0.2936788471519213,0.9559041451607575 Q -0.13539253959242234, -0.1472034653896244 0.9770759253231931, -0.21289113686066385L 0.9770759253231931, -0.21289113686066385 L 0.9759797987152153, -0.2178610394260705 L 0.9748583928396304, -0.22282529908009302 M 0.9748583928396304,-0.22282529908009302 Q -0.13528443233647688, -0.147302825388372 -0.3047921091527553, 0.9524189047883368L -0.3047921091527553, 0.9524189047883368 L -0.2992405522488085, 0.9541777045654694 L -0.2936788471519213, 0.9559041451607575 \", \"type\": \"path\"}, {\"fillcolor\": \"#e1b396\", \"layer\": \"below\", \"line\": {\"color\": \"rgb(175,175,175)\", \"width\": 0.5}, \"path\": \"M -0.25467284199276624,0.9670272713586352 Q -0.1303310622809349, -0.15170304612868876 0.9943615774410802, -0.1060426956885127L 0.9943615774410802, -0.1060426956885127 L 0.9942784473455848, -0.10681932944955733 L 0.994194710670029, -0.1075958980432683 M 0.994194710670029,-0.1075958980432683 Q -0.13029723182897632, -0.15173210397838027 -0.25661422098925596, 0.9665139117395452L -0.25661422098925596, 0.9665139117395452 L -0.2556436603511228, 0.9667710788611127 L -0.25467284199276624, 0.9670272713586352 \", \"type\": \"path\"}, {\"fillcolor\": \"#dba284\", \"layer\": \"below\", \"line\": {\"color\": \"rgb(175,175,175)\", \"width\": 0.5}, \"path\": \"M -0.6874698541867127,0.7262129161509728 Q -0.15020268629650205, 0.13205738536452477 -0.8082604954328229, 0.5888250771856509L -0.8082604954328229, 0.5888250771856509 L -0.8023553231012782, 0.5968466599479664 L -0.7963705436017718, 0.6048090254645829 M -0.7963705436017718,0.6048090254645829 Q -0.15009569018450608, 0.132178983912106 -0.7006450617917209, 0.7135099840835275L -0.7006450617917209, 0.7135099840835275 L -0.6940865191827534, 0.7198915917614049 L -0.6874698541867127, 0.7262129161509728 \", \"type\": \"path\"}, {\"fillcolor\": \"#dba284\", \"layer\": \"below\", \"line\": {\"color\": \"rgb(175,175,175)\", \"width\": 0.5}, \"path\": \"M -0.6337994472740353,0.7734974212207352 Q -0.15255299841164038, 0.12933515637914558 -0.8667760394484051, 0.49869760119549095L -0.8667760394484051, 0.49869760119549095 L -0.8647517701729052, 0.502199538015346 L -0.862713352496885, 0.5056932582342636 M -0.862713352496885,0.5056932582342636 Q -0.15248172412825323, 0.12941917866713293 -0.6391891301200374, 0.7690495796347527L -0.6391891301200374, 0.7690495796347527 L -0.6364981738918345, 0.7712782083219777 L -0.6337994472740353, 0.7734974212207352 \", \"type\": \"path\"}, {\"fillcolor\": \"#dba284\", \"layer\": \"below\", \"line\": {\"color\": \"rgb(175,175,175)\", \"width\": 0.5}, \"path\": \"M -0.6239681968123528,0.7814497356623399 Q -0.16549476111543182, 0.11230086394746108 -0.9566801120580526, 0.29114113964294347L -0.9566801120580526, 0.29114113964294347 L -0.9566171352792838, 0.2913479989463741 L -0.956554113772115, 0.29155484462729075 M -0.956554113772115,0.29155484462729075 Q -0.16549850493128646, 0.11229534658884562 -0.6243581742435301, 0.7811381889622896L -0.6243581742435301, 0.7811381889622896 L -0.6241632049662365, 0.7812939866441286 L -0.6239681968123528, 0.7814497356623399 \", \"type\": \"path\"}, {\"fillcolor\": \"#dba284\", \"layer\": \"below\", \"line\": {\"color\": \"rgb(175,175,175)\", \"width\": 0.5}, \"path\": \"M -0.6453105325431132,0.763920360108908 Q -0.17554201965016436, 0.09583840220465552 -0.9915487674035621, 0.12973450528088748L -0.9915487674035621, 0.12973450528088748 L -0.9910104586197168, 0.13378441952013162 L -0.9904556083038438, 0.13783210068580823 M -0.9904556083038438,0.13783210068580823 Q -0.17554911016240804, 0.09582541375432058 -0.6516432213454431, 0.7585256172829853L -0.6516432213454431, 0.7585256172829853 L -0.6484824868444359, 0.7612295739499721 L -0.6453105325431132, 0.763920360108908 \", \"type\": \"path\"}, {\"fillcolor\": \"#dba284\", \"layer\": \"below\", \"line\": {\"color\": \"rgb(175,175,175)\", \"width\": 0.5}, \"path\": \"M -0.6243581742435301,0.7811381889622896 Q -0.17685672068638802, 0.09339004415919794 -0.9971745040302774, 0.07511996080916425L -0.9971745040302774, 0.07511996080916425 L -0.9971471981797952, 0.0754815551123862 L -0.9971197612083956, 0.07584313949008184 M -0.9971197612083956,0.07584313949008184 Q -0.176853931809624, 0.09339532538343055 -0.6248779021606395, 0.7807224906401238L -0.6248779021606395, 0.7807224906401238 L -0.6246180727842372, 0.7809303830376337 L -0.6243581742435301, 0.7811381889622896 \", \"type\": \"path\"}, {\"fillcolor\": \"#dba284\", \"layer\": \"below\", \"line\": {\"color\": \"rgb(175,175,175)\", \"width\": 0.5}, \"path\": \"M -0.6264354243580025,0.7794733216149282 Q -0.18520983774259125, 0.0754805670577734 -0.9928272540280997, -0.1195577001243464L -0.9928272540280997, -0.1195577001243464 L -0.9929691839873721, -0.11837313737268454 L -0.993109700620811, -0.11718840613662732 M -0.993109700620811,-0.11718840613662732 Q -0.18520141607191493, 0.0755012283672091 -0.6281199219032191, 0.7781165489232921L -0.6281199219032191, 0.7781165489232921 L -0.6272780399601022, 0.7787953907052946 L -0.6264354243580025, 0.7794733216149282 \", \"type\": \"path\"}, {\"fillcolor\": \"#dba284\", \"layer\": \"below\", \"line\": {\"color\": \"rgb(175,175,175)\", \"width\": 0.5}, \"path\": \"M -0.6237081254868065,0.7816573253042115 Q -0.19162881054966757, 0.05725730492539464 -0.9502929630774503, -0.3113571652065835L -0.9502929630774503, -0.3113571652065835 L -0.9503481509110483, -0.3111886759828374 L -0.9504033088711029, -0.3110201769770878 M -0.9504033088711029,-0.3110201769770878 Q -0.1916281855033437, 0.05725939678948856 -0.6239681968123528, 0.7814497356623399L -0.6239681968123528, 0.7814497356623399 L -0.6238381697843228, 0.781553541301008 L -0.6237081254868065, 0.7816573253042115 \", \"type\": \"path\"}, {\"fillcolor\": \"#dba284\", \"layer\": \"below\", \"line\": {\"color\": \"rgb(175,175,175)\", \"width\": 0.5}, \"path\": \"M -0.6281199219032191,0.7781165489232921 Q -0.19603682981358353, 0.03961768994578169 -0.8809894177642875, -0.4731359696613033L -0.8809894177642875, -0.4731359696613033 L -0.8816547039632185, -0.47189509743112334 L -0.8823182423966509, -0.4706532897304393 M -0.8823182423966509,-0.4706532897304393 Q -0.19602718504469271, 0.03966538444858202 -0.6299307096230986, 0.7766513381651636L -0.6299307096230986, 0.7766513381651636 L -0.6290257423838733, 0.7773844707854776 L -0.6281199219032191, 0.7781165489232921 \", \"type\": \"path\"}, {\"fillcolor\": \"#dba284\", \"layer\": \"below\", \"line\": {\"color\": \"rgb(175,175,175)\", \"width\": 0.5}, \"path\": \"M -0.6248779021606395,0.7807224906401238 Q -0.19999272202756663, -0.001706205147241795 -0.6114667043511255, -0.7912701621254103L -0.6114667043511255, -0.7912701621254103 L -0.6119526599363345, -0.7908943937067989 L -0.6124383845983095, -0.7905183268404429 M -0.6124383845983095,-0.7905183268404429 Q -0.1999929171695959, -0.0016831761628390855 -0.625656975016343, 0.7800982948407202L -0.625656975016343, 0.7800982948407202 L -0.625267516479236, 0.7804104899576173 L -0.6248779021606395, 0.7807224906401238 \", \"type\": \"path\"}, {\"fillcolor\": \"#dba284\", \"layer\": \"below\", \"line\": {\"color\": \"rgb(175,175,175)\", \"width\": 0.5}, \"path\": \"M -0.6516432213454431,0.7585256172829853 Q -0.18660931026429234, -0.07195113148995703 0.026260226918380716, -0.9996551407771558L 0.026260226918380716, -0.9996551407771558 L 0.021076038029944028, -0.9997778756408647 L 0.015891282388333212, -0.999873725599415 M 0.015891282388333212,-0.999873725599415 Q -0.18668304266485927, -0.07175960967975187 -0.6579308123982155, 0.7530783797832893L -0.6579308123982155, 0.7530783797832893 L -0.6547926813602942, 0.7558085368907896 L -0.6516432213454431, 0.7585256172829853 \", \"type\": \"path\"}, {\"fillcolor\": \"#dba284\", \"layer\": \"below\", \"line\": {\"color\": \"rgb(175,175,175)\", \"width\": 0.5}, \"path\": \"M -0.6299307096230986,0.7766513381651636 Q -0.15509048809326706, -0.12628119615759187 0.6328789701900717, -0.7742507404524418L 0.6328789701900717, -0.7742507404524418 L 0.6305309238168683, -0.7761641283328202 L 0.6281770927165506, -0.778070395392462 M 0.6281770927165506,-0.778070395392462 Q -0.15515780033310003, -0.1261984825415657 -0.6337994472740353, 0.7734974212207352L -0.6337994472740353, 0.7734974212207352 L -0.6318670462690996, 0.7750767935109162 L -0.6299307096230986, 0.7766513381651636 \", \"type\": \"path\"}, {\"fillcolor\": \"#dba284\", \"layer\": \"below\", \"line\": {\"color\": \"rgb(175,175,175)\", \"width\": 0.5}, \"path\": \"M -0.6391891301200374,0.7690495796347527 Q -0.10545998483591933, -0.16993584553709576 0.9728656537551884, -0.23137074089756882L 0.9728656537551884, -0.23137074089756882 L 0.9718825225887604, -0.23546626570807902 L 0.9708821503523725, -0.23955761337756135 M 0.9708821503523725,-0.23955761337756135 Q -0.10549715264382485, -0.1699127740461132 -0.6453105325431132, 0.763920360108908L -0.6453105325431132, 0.763920360108908 L -0.6422549517665651, 0.7664910807904598 L -0.6391891301200374, 0.7690495796347527 \", \"type\": \"path\"}, {\"fillcolor\": \"#dba284\", \"layer\": \"below\", \"line\": {\"color\": \"rgb(175,175,175)\", \"width\": 0.5}, \"path\": \"M -0.625656975016343,0.7800982948407202 Q -0.0961156096937799, -0.1753903919067204 0.994194710670029, -0.1075958980432683L 0.994194710670029, -0.1075958980432683 L 0.9941441775275026, -0.10806180772208751 L 0.9940934260456363, -0.1085276936677869 M 0.9940934260456363,-0.1085276936677869 Q -0.09611026008434673, -0.17539332343769312 -0.6264354243580025, 0.7794733216149282L -0.6264354243580025, 0.7794733216149282 L -0.6260462776749293, 0.7797859053672138 L -0.625656975016343, 0.7800982948407202 \", \"type\": \"path\"}, {\"fillcolor\": \"#d59171\", \"layer\": \"below\", \"line\": {\"color\": \"rgb(175,175,175)\", \"width\": 0.5}, \"path\": \"M -0.7324021427127853,0.6808723091371252 Q -0.1599864421559697, 0.12001807499820422 -0.8585942055782838, 0.5126558203584503L -0.8585942055782838, 0.5126558203584503 L -0.8565632462898946, 0.5160420574965935 L -0.8545189319833743, 0.5194202488178464 M -0.8545189319833743,0.5194202488178464 Q -0.15995812152442357, 0.12005581767818563 -0.7374376063302943, 0.6754152624643938L -0.7374376063302943, 0.6754152624643938 L -0.7349249395729829, 0.6781484595526612 L -0.7324021427127853, 0.6808723091371252 \", \"type\": \"path\"}, {\"fillcolor\": \"#d59171\", \"layer\": \"below\", \"line\": {\"color\": \"rgb(175,175,175)\", \"width\": 0.5}, \"path\": \"M -0.7227112259585651,0.6911501167427145 Q -0.17257900838648788, 0.10107663362190372 -0.9563437190809562, 0.2922442317213552L -0.9563437190809562, 0.2922442317213552 L -0.9563226522838258, 0.29231316208619273 L -0.9563015805184031, 0.29238209093240336 M -0.9563015805184031,0.29238209093240336 Q -0.17258087574955344, 0.10107344520455014 -0.7228363852462607, 0.6910192183753787L -0.7228363852462607, 0.6910192183753787 L -0.7227738085657158, 0.6910846703924274 L -0.7227112259585651, 0.6911501167427145 \", \"type\": \"path\"}, {\"fillcolor\": \"#d59171\", \"layer\": \"below\", \"line\": {\"color\": \"rgb(175,175,175)\", \"width\": 0.5}, \"path\": \"M -0.7576431368895842,0.6526690410339001 Q -0.18301961524846766, 0.08064626733025443 -0.9929292098017332, 0.11870797918634556L -0.9929292098017332, 0.11870797918634556 L -0.9922543053938508, 0.12422315978659737 L -0.9915487674035621, 0.12973450528088748 M -0.9915487674035621,0.12973450528088748 Q -0.1830680715839867, 0.08053621028158903 -0.7656232172018478, 0.6432892734077665L -0.7656232172018478, 0.6432892734077665 L -0.7616476162812637, 0.6479914417745569 L -0.7576431368895842, 0.6526690410339001 \", \"type\": \"path\"}, {\"fillcolor\": \"#d59171\", \"layer\": \"below\", \"line\": {\"color\": \"rgb(175,175,175)\", \"width\": 0.5}, \"path\": \"M -0.7243364462641326,0.6894466713339381 Q -0.18291617562852092, 0.08088060764754489 -0.9974143556565719, 0.07186517327736454L -0.9974143556565719, 0.07186517327736454 L -0.9973685497827268, 0.0724981096601858 L -0.9973223422619416, 0.0731310168475367 M -0.9973223422619416,0.0731310168475367 Q -0.18291611721607717, 0.08088073975053839 -0.7252099024267036, 0.688527847964228L -0.7252099024267036, 0.688527847964228 L -0.7247733199489548, 0.688987398063397 L -0.7243364462641326, 0.6894466713339381 \", \"type\": \"path\"}, {\"fillcolor\": \"#d59171\", \"layer\": \"below\", \"line\": {\"color\": \"rgb(175,175,175)\", \"width\": 0.5}, \"path\": \"M -0.7286920577688888,0.6848415035207361 Q -0.19050459540736547, 0.06089334223604409 -0.990816457643932, -0.1352137095931115L -0.990816457643932, -0.1352137095931115 L -0.9911849667946988, -0.1324853259806225 L -0.9915459628861943, -0.12975593814577338 M -0.9915459628861943,-0.12975593814577338 Q -0.19050236812415888, 0.060900309843936386 -0.7324021427127853, 0.6808723091371252L -0.7324021427127853, 0.6808723091371252 L -0.7305497959046388, 0.6828594260195071 L -0.7286920577688888, 0.6848415035207361 \", \"type\": \"path\"}, {\"fillcolor\": \"#d59171\", \"layer\": \"below\", \"line\": {\"color\": \"rgb(175,175,175)\", \"width\": 0.5}, \"path\": \"M -0.7252099024267036,0.688527847964228 Q -0.19520268772092614, 0.043542056755814844 -0.949071276252953, -0.31506144256571783L -0.949071276252953, -0.31506144256571783 L -0.9493780523779687, -0.3141358204073757 L -0.9496839257508145, -0.31320989954106077 M -0.9496839257508145,-0.31320989954106077 Q -0.19520359970072435, 0.04353796807246946 -0.7265801210108751, 0.6870817475030333L -0.7265801210108751, 0.6870817475030333 L -0.7258953718269993, 0.6878051389457209 L -0.7252099024267036, 0.688527847964228 \", \"type\": \"path\"}, {\"fillcolor\": \"#d59171\", \"layer\": \"below\", \"line\": {\"color\": \"rgb(175,175,175)\", \"width\": 0.5}, \"path\": \"M -0.7265801210108751,0.6870817475030333 Q -0.19833845832015717, 0.02572656120011545 -0.8778295670639658, -0.4789731215718587L -0.8778295670639658, -0.4789731215718587 L -0.8786471714867568, -0.4774716201391679 L -0.879462207638324, -0.4759687230647889 M -0.879462207638324,-0.4759687230647889 Q -0.1983340748205651, 0.025760333170797758 -0.7286920577688888, 0.6848415035207361L -0.7286920577688888, 0.6848415035207361 L -0.7276369515464943, 0.6859624382895354 L -0.7265801210108751, 0.6870817475030333 \", \"type\": \"path\"}, {\"fillcolor\": \"#d59171\", \"layer\": \"below\", \"line\": {\"color\": \"rgb(175,175,175)\", \"width\": 0.5}, \"path\": \"M -0.7435233622560844,0.6687099593840422 Q -0.1986055436912297, -0.023576217150150607 -0.5663021482235479, -0.8241977171270222L -0.5663021482235479, -0.8241977171270222 L -0.5709342116017202, -0.8209958136450649 L -0.5755481716854094, -0.8177678778660743 M -0.5755481716854094,-0.8177678778660743 Q -0.1986208405147529, -0.023446997957373934 -0.7501472577480053, 0.6612708156974325L -0.7501472577480053, 0.6612708156974325 L -0.7468445725052489, 0.6649986349756306 L -0.7435233622560844, 0.6687099593840422 \", \"type\": \"path\"}, {\"fillcolor\": \"#d59171\", \"layer\": \"below\", \"line\": {\"color\": \"rgb(175,175,175)\", \"width\": 0.5}, \"path\": \"M -0.7656232172018478,0.6432892734077665 Q -0.17883826123807392, -0.08953701088009598 0.05631019974651602, -0.9984133219286027L 0.05631019974651602, -0.9984133219286027 L 0.04823167105494831, -0.9988361757101348 L 0.04014998601380044, -0.999193664222853 M 0.04014998601380044,-0.999193664222853 Q -0.1789300760620227, -0.08935338762709993 -0.7746337814379826, 0.6324100763389937L -0.7746337814379826, 0.6324100763389937 L -0.7701477096615686, 0.6378655856080025 L -0.7656232172018478, 0.6432892734077665 \", \"type\": \"path\"}, {\"fillcolor\": \"#d59171\", \"layer\": \"below\", \"line\": {\"color\": \"rgb(175,175,175)\", \"width\": 0.5}, \"path\": \"M -0.7501472577480053,0.6612708156974325 Q -0.140597242000911, -0.142240695800243 0.6699434584356636, -0.7424121244290548L 0.6699434584356636, -0.7424121244290548 L 0.6652076465497873, -0.7466584138491265 L 0.6604449211022042, -0.750874494300015 M 0.6604449211022042,-0.750874494300015 Q -0.1406905095850419, -0.1421484453404301 -0.7576431368895842, 0.6526690410339001L -0.7576431368895842, 0.6526690410339001 L -0.7539074652582936, 0.6569806190655969 L -0.7501472577480053, 0.6612708156974325 \", \"type\": \"path\"}, {\"fillcolor\": \"#d59171\", \"layer\": \"below\", \"line\": {\"color\": \"rgb(175,175,175)\", \"width\": 0.5}, \"path\": \"M -0.7230866326921174,0.6907573536503068 Q -0.11372926304718722, -0.16451642692066862 0.9016689948710944, -0.4324268998202475L 0.9016689948710944, -0.4324268998202475 L 0.9014763753864018, -0.43282830847831016 L 0.9012835772009866, -0.4332296313363079 M 0.9012835772009866,-0.4332296313363079 Q -0.11372802385038083, -0.16451728356342143 -0.7237118361929914, 0.6901022954274016L -0.7237118361929914, 0.6901022954274016 L -0.7233993085892415, 0.6904298953062558 L -0.7230866326921174, 0.6907573536503068 \", \"type\": \"path\"}, {\"fillcolor\": \"#d59171\", \"layer\": \"below\", \"line\": {\"color\": \"rgb(175,175,175)\", \"width\": 0.5}, \"path\": \"M -0.7374376063302943,0.6754152624643938 Q -0.09290881208316389, -0.17711000151684078 0.9748583928396304, -0.22282529908009302L 0.9748583928396304, -0.22282529908009302 L 0.9738713963172385, -0.22710020571349582 L 0.9728656537551884, -0.23137074089756882 M 0.9728656537551884,-0.23137074089756882 Q -0.09288396813710614, -0.17712303199500923 -0.7435233622560844, 0.6687099593840422L -0.7435233622560844, 0.6687099593840422 L -0.7404880741047934, 0.6720694994630941 L -0.7374376063302943, 0.6754152624643938 \", \"type\": \"path\"}, {\"fillcolor\": \"#d59171\", \"layer\": \"below\", \"line\": {\"color\": \"rgb(175,175,175)\", \"width\": 0.5}, \"path\": \"M -0.7228363852462607,0.6910192183753787 Q -0.08462898515302218, -0.18121240264388516 0.993853699194457, -0.11070151127014376L 0.993853699194457, -0.11070151127014376 L 0.9938363939380075, -0.11085676381844135 L 0.9938190644291415, -0.11101201366152157 M 0.9938190644291415,-0.11101201366152157 Q -0.0846244744712694, -0.18121450913340653 -0.7230866326921174, 0.6907573536503068L -0.7230866326921174, 0.6907573536503068 L -0.7229615208254796, 0.6908882973431448 L -0.7228363852462607, 0.6910192183753787 \", \"type\": \"path\"}, {\"fillcolor\": \"#d0805f\", \"layer\": \"below\", \"line\": {\"color\": \"rgb(175,175,175)\", \"width\": 0.5}, \"path\": \"M -0.8667760394484051,0.49869760119549095 Q -0.18468313211482665, 0.07676028082450906 -0.9649027853407315, 0.26260733965694527L -0.9649027853407315, 0.26260733965694527 L -0.9639884610480896, 0.26594406736405285 L -0.9630625980635277, 0.2692776117896329 M -0.9630625980635277,0.2692776117896329 Q -0.18477228052160055, 0.07654543977825821 -0.8713496346945597, 0.49066262759421303L -0.8713496346945597, 0.49066262759421303 L -0.8690721230018412, 0.4946854000484273 L -0.8667760394484051, 0.49869760119549095 \", \"type\": \"path\"}, {\"fillcolor\": \"#d0805f\", \"layer\": \"below\", \"line\": {\"color\": \"rgb(175,175,175)\", \"width\": 0.5}, \"path\": \"M -0.8585942055782838,0.5126558203584503 Q -0.18839853737819778, 0.0671266795972795 -0.9893201537243673, 0.14575881940656046L -0.9893201537243673, 0.14575881940656046 L -0.9888141063583482, 0.1491531530566529 L -0.9882964131502759, 0.1525457300428269 M -0.9882964131502759,0.1525457300428269 Q -0.18843965424477088, 0.06701116853264986 -0.862713352496885, 0.5056932582342636L -0.862713352496885, 0.5056932582342636 L -0.8606608197713596, 0.5091787046906925 L -0.8585942055782838, 0.5126558203584503 \", \"type\": \"path\"}, {\"fillcolor\": \"#d0805f\", \"layer\": \"below\", \"line\": {\"color\": \"rgb(175,175,175)\", \"width\": 0.5}, \"path\": \"M -0.8438398658992721,0.5365950807816807 Q -0.19014292193461685, 0.06201346013702355 -0.9979443272353702, 0.064086814078595L -0.9979443272353702, 0.064086814078595 L -0.9978025288424393, 0.0662579311149474 L -0.9976560069960506, 0.06842873449579705 M -0.9976560069960506,0.06842873449579705 Q -0.19015133111892113, 0.06198767033614358 -0.8463113843834694, 0.5326885024692531L -0.8463113843834694, 0.5326885024692531 L -0.8450778825330872, 0.5346432197768841 L -0.8438398658992721, 0.5365950807816807 \", \"type\": \"path\"}, {\"fillcolor\": \"#d0805f\", \"layer\": \"below\", \"line\": {\"color\": \"rgb(175,175,175)\", \"width\": 0.5}, \"path\": \"M -0.8463113843834694,0.5326885024692531 Q -0.19535998223318002, 0.04283079898684578 -0.9915459628861943, -0.12975593814577338L -0.9915459628861943, -0.12975593814577338 L -0.9918410518441199, -0.1274806960945455 L -0.9921309199452637, -0.12520478300993426 M -0.9921309199452637,-0.12520478300993426 Q -0.19536483723780412, 0.04280864832071098 -0.8488666505185429, 0.5286070465264627L -0.8488666505185429, 0.5286070465264627 L -0.8475914741632405, 0.5306493125650732 L -0.8463113843834694, 0.5326885024692531 \", \"type\": \"path\"}, {\"fillcolor\": \"#d0805f\", \"layer\": \"below\", \"line\": {\"color\": \"rgb(175,175,175)\", \"width\": 0.5}, \"path\": \"M -0.8407251156011,0.5414621685746079 Q -0.19847398295467591, 0.024659239447051447 -0.9476654697018005, -0.31926502710892984L -0.9476654697018005, -0.31926502710892984 L -0.9480327716010998, -0.31817269519922203 L -0.9483988144183724, -0.31707994072445794 M -0.9483988144183724,-0.31707994072445794 Q -0.19847643709455584, 0.024639478855098026 -0.8420782934693358, 0.539355307443777L -0.8420782934693358, 0.539355307443777 L -0.8414023639797588, 0.5404091615519426 L -0.8407251156011, 0.5414621685746079 \", \"type\": \"path\"}, {\"fillcolor\": \"#d0805f\", \"layer\": \"below\", \"line\": {\"color\": \"rgb(175,175,175)\", \"width\": 0.5}, \"path\": \"M -0.881367314922006,0.4724316418141077 Q -0.19986749411075752, -0.007279065728945796 -0.8446665352043439, -0.535292858448428L -0.8446665352043439, -0.535292858448428 L -0.8487863775348107, -0.5287359315493262 L -0.8528553212093269, -0.5221472982645183 M -0.8528553212093269,-0.5221472982645183 Q -0.19986987203719253, -0.007213477097509197 -0.8882769062238803, 0.4593083254953384L -0.8882769062238803, 0.4593083254953384 L -0.8848464401897984, 0.46588279350437645 L -0.881367314922006, 0.4724316418141077 \", \"type\": \"path\"}, {\"fillcolor\": \"#d0805f\", \"layer\": \"below\", \"line\": {\"color\": \"rgb(175,175,175)\", \"width\": 0.5}, \"path\": \"M -0.8882769062238803,0.4593083254953384 Q -0.19229124463568348, -0.05499161060070656 -0.511120389280811, -0.8595091318080524L -0.511120389280811, -0.8595091318080524 L -0.5204179245019125, -0.8539116955851592 L -0.5296541672659686, -0.8482136895251063 M -0.5296541672659686,-0.8482136895251063 Q -0.1923266152688193, -0.054867777968855 -0.8974688781223833, 0.44107778543217385L -0.8974688781223833, 0.44107778543217385 L -0.8929194195028809, 0.4502165148843811 L -0.8882769062238803, 0.4593083254953384 \", \"type\": \"path\"}, {\"fillcolor\": \"#d0805f\", \"layer\": \"below\", \"line\": {\"color\": \"rgb(175,175,175)\", \"width\": 0.5}, \"path\": \"M -0.8420782934693358,0.539355307443777 Q -0.18024272439412214, -0.08667502698577333 -0.10446502132935175, -0.9945285613388175L -0.10446502132935175, -0.9945285613388175 L -0.10565026194227918, -0.9944033498291968 L -0.10683535248183663, -0.9942767257962352 M -0.10683535248183663,-0.9942767257962352 Q -0.18020410258978847, -0.08675529614847155 -0.8438398658992721, 0.5365950807816807L -0.8438398658992721, 0.5365950807816807 L -0.8429602094612859, 0.5379759151346694 L -0.8420782934693358, 0.539355307443777 \", \"type\": \"path\"}, {\"fillcolor\": \"#d0805f\", \"layer\": \"below\", \"line\": {\"color\": \"rgb(175,175,175)\", \"width\": 0.5}, \"path\": \"M -0.9091155168907906,0.41654408764066087 Q -0.1595197053035437, -0.1206377371300978 0.15322418945264066, -0.9881914529920715L 0.15322418945264066, -0.9881914529920715 L 0.13752485534620285, -0.9904983160823677 L 0.12179089375897313, -0.9925557808996885 M 0.12179089375897313,-0.9925557808996885 Q -0.15965629421332572, -0.12045691228845264 -0.9209945545467112, 0.3895754490407538L -0.9209945545467112, 0.3895754490407538 L -0.915154383293457, 0.40310352856155 L -0.9091155168907906, 0.41654408764066087 \", \"type\": \"path\"}, {\"fillcolor\": \"#d0805f\", \"layer\": \"below\", \"line\": {\"color\": \"rgb(175,175,175)\", \"width\": 0.5}, \"path\": \"M -0.876220300219763,0.4819107650621517 Q -0.12515264719269706, -0.15600261183922629 0.6604449211022042, -0.750874494300015L 0.6604449211022042, -0.750874494300015 L 0.6561889490223849, -0.7545966228263269 L 0.6519120001966745, -0.7582946287555854 M 0.6519120001966745,-0.7582946287555854 Q -0.12519332628084004, -0.155969968438604 -0.881367314922006, 0.4724316418141077L -0.881367314922006, 0.4724316418141077 L -0.8788065883169748, 0.4771781431820607 L -0.876220300219763, 0.4819107650621517 \", \"type\": \"path\"}, {\"fillcolor\": \"#d0805f\", \"layer\": \"below\", \"line\": {\"color\": \"rgb(175,175,175)\", \"width\": 0.5}, \"path\": \"M -0.8488666505185429,0.5286070465264627 Q -0.0951536822606917, -0.1759141175466919 0.9069896338974422, -0.4211529460927274L 0.9069896338974422, -0.4211529460927274 L 0.9059744562371268, -0.42333235719212686 L 0.9049540416653744, -0.4255093212533701 M 0.9049540416653744,-0.4255093212533701 Q -0.09511919336745771, -0.17593276855982287 -0.8516042279676173, 0.5241853097022833L -0.8516042279676173, 0.5241853097022833 L -0.8502383137003465, 0.5263979577429905 L -0.8488666505185429, 0.5286070465264627 \", \"type\": \"path\"}, {\"fillcolor\": \"#d0805f\", \"layer\": \"below\", \"line\": {\"color\": \"rgb(175,175,175)\", \"width\": 0.5}, \"path\": \"M -0.8516042279676173,0.5241853097022833 Q -0.0779147210838067, -0.18419906687720383 0.9692630107221245, -0.24602686041544886L 0.9692630107221245, -0.24602686041544886 L 0.9686338148598133, -0.24849252043094774 L 0.9679983467383089, -0.2509565713662442 M 0.9679983467383089,-0.2509565713662442 Q -0.0778689939995422, -0.18421840237473364 -0.8545189319833743, 0.5194202488178464L -0.8545189319833743, 0.5194202488178464 L -0.8530649070742491, 0.5218048143879116 L -0.8516042279676173, 0.5241853097022833 \", \"type\": \"path\"}, {\"fillcolor\": \"#d0805f\", \"layer\": \"below\", \"line\": {\"color\": \"rgb(175,175,175)\", \"width\": 0.5}, \"path\": \"M -0.8396806221186116,0.5430805215053301 Q -0.066582556687135, -0.18859152458423062 0.994526017689399, -0.10448923455966773L 0.994526017689399, -0.10448923455966773 L 0.9944441009058, -0.10526599723393587 L 0.9943615774410802, -0.1060426956885127 M 0.9943615774410802,-0.1060426956885127 Q -0.06654823150551115, -0.1886036396347878 -0.8407251156011, 0.5414621685746079L -0.8407251156011, 0.5414621685746079 L -0.8402032585076565, 0.5422715965207067 L -0.8396806221186116, 0.5430805215053301 \", \"type\": \"path\"}, {\"fillcolor\": \"#ca6f4c\", \"layer\": \"below\", \"line\": {\"color\": \"rgb(175,175,175)\", \"width\": 0.5}, \"path\": \"M -0.9570988139735568,0.2897617302033015 Q -0.1939334756823903, 0.04888565239155275 -0.9800899795820186, 0.19855385144317494L -0.9800899795820186, 0.19855385144317494 L -0.9799599783653192, 0.19919447984882305 L -0.9798295584067522, 0.19983502313765947 M -0.9798295584067522,0.19983502313765947 Q -0.19392970780226115, 0.04890059745779823 -0.9574323435183266, 0.2886577689669982L -0.9574323435183266, 0.2886577689669982 L -0.9572657378880777, 0.28920979766528354 L -0.9570988139735568, 0.2897617302033015 \", \"type\": \"path\"}, {\"fillcolor\": \"#ca6f4c\", \"layer\": \"below\", \"line\": {\"color\": \"rgb(175,175,175)\", \"width\": 0.5}, \"path\": \"M -0.9568478314402039,0.29058944830839795 Q -0.19662322439631827, 0.03659655213261328 -0.9973223422619416, 0.0731310168475367L -0.9973223422619416, 0.0731310168475367 L -0.9972824161514781, 0.07367348529199676 L -0.9972421949789481, 0.07421593193896993 M -0.9972421949789481,0.07421593193896993 Q -0.19661914378877005, 0.03661846932588765 -0.9570988139735568, 0.2897617302033015L -0.9570988139735568, 0.2897617302033015 L -0.9569734121969964, 0.2901756163912427 L -0.9568478314402039, 0.29058944830839795 \", \"type\": \"path\"}, {\"fillcolor\": \"#ca6f4c\", \"layer\": \"below\", \"line\": {\"color\": \"rgb(175,175,175)\", \"width\": 0.5}, \"path\": \"M -0.9617707163204254,0.2738559643836442 Q -0.19987033892630515, -0.0072005289725066 -0.9395711462358601, -0.3423537076782314L -0.9395711462358601, -0.3423537076782314 L -0.9405686475201603, -0.33960362086128637 L -0.9415580994308486, -0.3368506277212026 M -0.9415580994308486,-0.3368506277212026 Q -0.1998742465665967, -0.007091231164988958 -0.9630625980635277, 0.2692776117896329L -0.9630625980635277, 0.2692776117896329 L -0.9624193796722389, 0.2715675562936466 L -0.9617707163204254, 0.2738559643836442 \", \"type\": \"path\"}, {\"fillcolor\": \"#ca6f4c\", \"layer\": \"below\", \"line\": {\"color\": \"rgb(175,175,175)\", \"width\": 0.5}, \"path\": \"M -0.9588765575336514,0.28382344408525184 Q -0.1988376620853416, -0.021531004074021105 -0.8758956747476562, -0.48250053570783535L -0.8758956747476562, -0.48250053570783535 L -0.8768643946497254, -0.480737801088671 L -0.8778295670639658, -0.4789731215718587 M -0.8778295670639658,-0.4789731215718587 Q -0.19884989871687653, -0.0214176978288504 -0.959690865608056, 0.2810577208839141L -0.959690865608056, 0.2810577208839141 L -0.9592847083068506, 0.28244087595219025 L -0.9588765575336514, 0.28382344408525184 \", \"type\": \"path\"}, {\"fillcolor\": \"#ca6f4c\", \"layer\": \"below\", \"line\": {\"color\": \"rgb(175,175,175)\", \"width\": 0.5}, \"path\": \"M -0.959690865608056,0.2810577208839141 Q -0.18989640142881195, -0.06276429498040675 -0.6031703061773956, -0.7976124257719828L -0.6031703061773956, -0.7976124257719828 L -0.6052913569551306, -0.796004003253386 L -0.6074081187113075, -0.7943899403464209 M -0.6074081187113075,-0.7943899403464209 Q -0.18994579511061438, -0.06261465419369898 -0.9607375390974102, 0.277458791479117L -0.9607375390974102, 0.277458791479117 L -0.9602158884714993, 0.27925874655396077 L -0.959690865608056, 0.2810577208839141 \", \"type\": \"path\"}, {\"fillcolor\": \"#ca6f4c\", \"layer\": \"below\", \"line\": {\"color\": \"rgb(175,175,175)\", \"width\": 0.5}, \"path\": \"M -0.9607375390974102,0.277458791479117 Q -0.16523346187961407, -0.11268497271277184 -0.09246511724795063, -0.9957159243942635L -0.09246511724795063, -0.9957159243942635 L -0.0942799618054889, -0.9955457241141441 L -0.09609449310570103, -0.9953722160050271 M -0.09609449310570103,-0.9953722160050271 Q -0.16522769063346862, -0.11269343480403281 -0.9617707163204254, 0.2738559643836442L -0.9617707163204254, 0.2738559643836442 L -0.961255815653774, 0.27565786198074876 L -0.9607375390974102, 0.277458791479117 \", \"type\": \"path\"}, {\"fillcolor\": \"#ca6f4c\", \"layer\": \"below\", \"line\": {\"color\": \"rgb(175,175,175)\", \"width\": 0.5}, \"path\": \"M -0.9693717970979674,0.24559788067297578 Q -0.15189742247408833, -0.13010446973770093 0.0937462291704747, -0.9955961252015382L 0.0937462291704747, -0.9955961252015382 L 0.08413919002674813, -0.9964540113330081 L 0.07452432331575466, -0.997219196182228 M 0.07452432331575466,-0.997219196182228 Q -0.15227954115861841, -0.12965701425114123 -0.9725771850802639, 0.23258034968876898L -0.9725771850802639, 0.23258034968876898 L -0.9709963060557947, 0.23909448681640824 L -0.9693717970979674, 0.24559788067297578 \", \"type\": \"path\"}, {\"fillcolor\": \"#ca6f4c\", \"layer\": \"below\", \"line\": {\"color\": \"rgb(175,175,175)\", \"width\": 0.5}, \"path\": \"M -0.9564279365843656,0.29196849508289874 Q -0.11225996934905476, -0.1655225038529483 0.6250296901172503, -0.7806009777549181L 0.6250296901172503, -0.7806009777549181 L 0.6247932233283398, -0.7807902587013898 L 0.6245566992185136, -0.7809794680151809 M 0.6245566992185136,-0.7809794680151809 Q -0.1122743129600772, -0.16551277488261334 -0.956554113772115, 0.29155484462729075L -0.956554113772115, 0.29155484462729075 L -0.9564910475394928, 0.29176167667602243 L -0.9564279365843656, 0.29196849508289874 \", \"type\": \"path\"}, {\"fillcolor\": \"#ca6f4c\", \"layer\": \"below\", \"line\": {\"color\": \"rgb(175,175,175)\", \"width\": 0.5}, \"path\": \"M -0.9574323435183266,0.2886577689669982 Q -0.07160925952132145, -0.18674076670831152 0.9049540416653744, -0.4255093212533701L 0.9049540416653744, -0.4255093212533701 L 0.9045747825412377, -0.4263149807249007 L 0.9041948061574425, -0.427120302160767 M 0.9041948061574425,-0.427120302160767 Q -0.07164094568882233, -0.18672861296761997 -0.9578474647369905, 0.2872772777247096L -0.9578474647369905, 0.2872772777247096 L -0.9576401528845, 0.28796759814838796 L -0.9574323435183266, 0.2886577689669982 \", \"type\": \"path\"}, {\"fillcolor\": \"#ca6f4c\", \"layer\": \"below\", \"line\": {\"color\": \"rgb(175,175,175)\", \"width\": 0.5}, \"path\": \"M -0.9566801120580526,0.29114113964294347 Q -0.05614455518824853, -0.19195777901068173 0.9627842244422361, -0.2702712288889848L 0.9627842244422361, -0.2702712288889848 L 0.9626893027387795, -0.27060913952104904 L 0.9625942624380414, -0.27094701681576616 M 0.9625942624380414,-0.27094701681576616 Q -0.05615658671370212, -0.19195425957416642 -0.9568478314402039, 0.29058944830839795L -0.9568478314402039, 0.29058944830839795 L -0.9567640115138105, 0.2908653060645101 L -0.9566801120580526, 0.29114113964294347 \", \"type\": \"path\"}, {\"fillcolor\": \"#ca6f4c\", \"layer\": \"below\", \"line\": {\"color\": \"rgb(175,175,175)\", \"width\": 0.5}, \"path\": \"M -0.9563437190809562,0.2922442317213552 Q -0.04049938282853963, -0.19585658015626484 0.9938190644291415, -0.11101201366152157L 0.9938190644291415, -0.11101201366152157 L 0.9938017106682823, -0.11116726079559495 L 0.9937843326558532, -0.11132250521687218 M 0.9937843326558532,-0.11132250521687218 Q -0.04050174456122102, -0.1958560917804131 -0.9564279365843656, 0.29196849508289874L -0.9564279365843656, 0.29196849508289874 L -0.9563858377699022, 0.29210636643723176 L -0.9563437190809562, 0.2922442317213552 \", \"type\": \"path\"}, {\"fillcolor\": \"#c45e3a\", \"layer\": \"below\", \"line\": {\"color\": \"rgb(175,175,175)\", \"width\": 0.5}, \"path\": \"M -0.9795674624871108,0.20111585327010592 Q -0.19981135214673726, 0.008684673470693412 -0.9933231198481934, -0.1153654175871243L -0.9933231198481934, -0.1153654175871243 L -0.9934075506033513, -0.1146361130021869 L -0.9934914458981997, -0.11390674662681063 M -0.9934914458981997,-0.11390674662681063 Q -0.1998106524719352, 0.008700756216533058 -0.9798295584067522, 0.19983502313765947L -0.9798295584067522, 0.19983502313765947 L -0.9796987197620468, 0.20047548103597726 L -0.9795674624871108, 0.20111585327010592 \", \"type\": \"path\"}, {\"fillcolor\": \"#c45e3a\", \"layer\": \"below\", \"line\": {\"color\": \"rgb(175,175,175)\", \"width\": 0.5}, \"path\": \"M -0.9818969656536133,0.18941580937246755 Q -0.19931781151439687, -0.01650484816989756 -0.9373668812253062, -0.3483436951947641L -0.9373668812253062, -0.3483436951947641 L -0.9384737927721081, -0.3453504600835714 L -0.9395711462358601, -0.3423537076782314 M -0.9395711462358601,-0.3423537076782314 Q -0.19932192762374276, -0.01645506512765781 -0.9829943324793334, 0.18363589603753844L -0.9829943324793334, 0.18363589603753844 L -0.9824498995975235, 0.18652665970529816 L -0.9818969656536133, 0.18941580937246755 \", \"type\": \"path\"}, {\"fillcolor\": \"#c45e3a\", \"layer\": \"below\", \"line\": {\"color\": \"rgb(175,175,175)\", \"width\": 0.5}, \"path\": \"M -0.9808611902047132,0.19470830888843307 Q -0.19743875957586898, -0.03190511271163624 -0.8696121239968059, -0.49373550996233184L -0.8696121239968059, -0.49373550996233184 L -0.8712459306654433, -0.4908467462445947 L -0.8728701411874102, -0.48795257620333404 M -0.8728701411874102,-0.48795257620333404 Q -0.19745857667867936, -0.03178223554173171 -0.9818969656536133, 0.18941580937246755L -0.9818969656536133, 0.18941580937246755 L -0.9813826456764335, 0.19206275736103479 L -0.9808611902047132, 0.19470830888843307 \", \"type\": \"path\"}, {\"fillcolor\": \"#c45e3a\", \"layer\": \"below\", \"line\": {\"color\": \"rgb(175,175,175)\", \"width\": 0.5}, \"path\": \"M -0.9872521377464853,0.1591641181767889 Q -0.18503366324099194, -0.07591141855886498 -0.591015673841049, -0.8066600729391599L -0.591015673841049, -0.8066600729391599 L -0.5943965436673321, -0.8041720890930805 L -0.5977669400218059, -0.8016699354578334 M -0.5977669400218059,-0.8016699354578334 Q -0.18509793344503706, -0.07575457104608697 -0.9882964131502759, 0.1525457300428269L -0.9882964131502759, 0.1525457300428269 L -0.98777981858456, 0.15585579872771385 L -0.9872521377464853, 0.1591641181767889 \", \"type\": \"path\"}, {\"fillcolor\": \"#c45e3a\", \"layer\": \"below\", \"line\": {\"color\": \"rgb(175,175,175)\", \"width\": 0.5}, \"path\": \"M -0.9794357866380312,0.20175613956641072 Q -0.161710163243191, -0.11768527139731853 -0.10920507660750306, -0.9940192408817595L -0.10920507660750306, -0.9940192408817595 L -0.10948382714788366, -0.9939885771944527 L -0.10976256907822249, -0.9939578353377715 M -0.10976256907822249,-0.9939578353377715 Q -0.16170470119551156, -0.11769277637676123 -0.9795674624871108, 0.20111585327010592L -0.9795674624871108, 0.20111585327010592 L -0.9795016768808266, 0.2014360071775868 L -0.9794357866380312, 0.20175613956641072 \", \"type\": \"path\"}, {\"fillcolor\": \"#c45e3a\", \"layer\": \"below\", \"line\": {\"color\": \"rgb(175,175,175)\", \"width\": 0.5}, \"path\": \"M -0.9861906191471178,0.1656141983835458 Q -0.15351622243741678, -0.12819036410177473 -0.012939886871991392, -0.9999162761590292L -0.012939886871991392, -0.9999162761590292 L -0.017087934182474125, -0.9998539905933143 L -0.021235687406603303, -0.9997744973644652 M -0.021235687406603303,-0.9997744973644652 Q -0.15362898190363322, -0.12805520652926666 -0.9872521377464853, 0.1591641181767889L -0.9872521377464853, 0.1591641181767889 L -0.9867266488585502, 0.16239002565544303 L -0.9861906191471178, 0.1656141983835458 \", \"type\": \"path\"}, {\"fillcolor\": \"#c45e3a\", \"layer\": \"below\", \"line\": {\"color\": \"rgb(175,175,175)\", \"width\": 0.5}, \"path\": \"M -0.9851431433257403,0.17173522398820804 Q -0.09973925959192481, -0.17335535785217207 0.6436048671725985, -0.7653579391054501L 0.6436048671725985, -0.7653579391054501 L 0.64066373666192, -0.7678215785756388 L 0.6377131757295951, -0.7702739158902335 M 0.6377131757295951,-0.7702739158902335 Q -0.09986606485737506, -0.1732823392325443 -0.9861906191471178, 0.1656141983835458L -0.9861906191471178, 0.1656141983835458 L -0.9856716326977062, 0.16867552429157612 L -0.9851431433257403, 0.17173522398820804 \", \"type\": \"path\"}, {\"fillcolor\": \"#c45e3a\", \"layer\": \"below\", \"line\": {\"color\": \"rgb(175,175,175)\", \"width\": 0.5}, \"path\": \"M -0.9794028022801411,0.20191619768063904 Q -0.06414502662270989, -0.18943446243905 0.9005880246825713, -0.4346736819711362L 0.9005880246825713, -0.4346736819711362 L 0.9005493150201263, -0.4347538742976093 L 0.9005105982170031, -0.4348340631768115 M 0.9005105982170031,-0.4348340631768115 Q -0.06414641623629114, -0.1894339918917418 -0.9794357866380312, 0.20175613956641072L -0.9794357866380312, 0.20175613956641072 L -0.9794192977287022, 0.2018361692973188 L -0.9794028022801411, 0.20191619768063904 \", \"type\": \"path\"}, {\"fillcolor\": \"#c45e3a\", \"layer\": \"below\", \"line\": {\"color\": \"rgb(175,175,175)\", \"width\": 0.5}, \"path\": \"M -0.9840576762865121,0.17784962676820631 Q -0.04176151321608786, -0.19559134953750518 0.9708821503523725, -0.23955761337756135L 0.9708821503523725, -0.23955761337756135 L 0.9700779733091077, -0.24279358661318468 L 0.9692630107221245, -0.24602686041544886 M 0.9692630107221245,-0.24602686041544886 Q -0.04180637963000348, -0.19558176454422338 -0.9851431433257403, 0.17173522398820804L -0.9851431433257403, 0.17173522398820804 L -0.9846051561264193, 0.17479326797468328 L -0.9840576762865121, 0.17784962676820631 \", \"type\": \"path\"}, {\"fillcolor\": \"#c45e3a\", \"layer\": \"below\", \"line\": {\"color\": \"rgb(175,175,175)\", \"width\": 0.5}, \"path\": \"M -0.9803809510071958,0.19711212774009174 Q -0.02996163195697464, -0.19774301659091478 0.9947681274555714, -0.10215856595771128L 0.9947681274555714, -0.10215856595771128 L 0.9946477552284767, -0.10332397117296806 L 0.994526017689399, -0.10448923455966773 M 0.994526017689399,-0.10448923455966773 Q -0.029950942809127835, -0.19774463589398414 -0.9808611902047132, 0.19470830888843307L -0.9808611902047132, 0.19470830888843307 L -0.9806218071726921, 0.19591036546687257 L -0.9803809510071958, 0.19711212774009174 \", \"type\": \"path\"}, {\"fillcolor\": \"#bf4d28\", \"layer\": \"below\", \"line\": {\"color\": \"rgb(175,175,175)\", \"width\": 0.5}, \"path\": \"M -0.9997777019356857,-0.02108427642105054 Q -0.1981733660191797, -0.02696881533601793 -0.9690541826911268, -0.2468481132373352L -0.9690541826911268, -0.2468481132373352 L -0.9725955260625236, -0.23250364015034894 L -0.9759245469471619, -0.21810841035131306 M -0.9759245469471619,-0.21810841035131306 Q -0.1981782084020687, -0.02693320839681426 -0.9987363749238254, -0.05025587929800988L -0.9987363749238254, -0.05025587929800988 L -0.99936348465161, -0.03567387762763351 L -0.9997777019356857, -0.02108427642105054 \", \"type\": \"path\"}, {\"fillcolor\": \"#bf4d28\", \"layer\": \"below\", \"line\": {\"color\": \"rgb(175,175,175)\", \"width\": 0.5}, \"path\": \"M -0.9971745040302774,0.07511996080916425 Q -0.19853386206850904, -0.02417241428079187 -0.9500165758670561, -0.312199464409909L -0.9500165758670561, -0.312199464409909 L -0.9501548628080886, -0.3117783454349298 L -0.9502929630774503, -0.3113571652065835 M -0.9502929630774503,-0.3113571652065835 Q -0.19853361944789538, -0.024174406898996623 -0.9972421949789481, 0.07421593193896993L -0.9972421949789481, 0.07421593193896993 L -0.9972084519491214, 0.07466795404480198 L -0.9971745040302774, 0.07511996080916425 \", \"type\": \"path\"}, {\"fillcolor\": \"#bf4d28\", \"layer\": \"below\", \"line\": {\"color\": \"rgb(175,175,175)\", \"width\": 0.5}, \"path\": \"M -0.9974143556565719,0.07186517327736454 Q -0.19564562154283618, -0.04150651480330905 -0.8823182423966509, -0.4706532897304393L -0.8823182423966509, -0.4706532897304393 L -0.8827438792788999, -0.4698544919394078 L -0.8831687929779337, -0.4690553092225902 M -0.8831687929779337,-0.4690553092225902 Q -0.1956493238816348, -0.04148905957790761 -0.9975302977635154, 0.07023749030135085L -0.9975302977635154, 0.07023749030135085 L -0.9974726587181804, 0.07105135543875615 L -0.9974143556565719, 0.07186517327736454 \", \"type\": \"path\"}, {\"fillcolor\": \"#bf4d28\", \"layer\": \"below\", \"line\": {\"color\": \"rgb(175,175,175)\", \"width\": 0.5}, \"path\": \"M -0.9993510828325819,0.0360196230039423 Q -0.17914409726594938, -0.08892352003136222 -0.5755481716854094, -0.8177678778660743L -0.5755481716854094, -0.8177678778660743 L -0.5797268482631964, -0.8148108868951254 L -0.5838903330215064, -0.8118325436960718 M -0.5838903330215064,-0.8118325436960718 Q -0.1791962025593149, -0.08881847211206115 -0.9996365521430998, 0.026958553734499093L -0.9996365521430998, 0.026958553734499093 L -0.9995040855046534, 0.031489411863456614 L -0.9993510828325819, 0.0360196230039423 \", \"type\": \"path\"}, {\"fillcolor\": \"#bf4d28\", \"layer\": \"below\", \"line\": {\"color\": \"rgb(175,175,175)\", \"width\": 0.5}, \"path\": \"M -0.9970783599074731,0.07638549734225517 Q -0.15397180559733992, -0.1276427948655739 -0.10976256907822249, -0.9939578353377715L -0.10976256907822249, -0.9939578353377715 L -0.10997161986245071, -0.9939347276480627 L -0.11018066578195285, -0.9939115759904629 M -0.11018066578195285,-0.9939115759904629 Q -0.15396393691075416, -0.12765228603883802 -0.9971197612083956, 0.07584313949008184L -0.9971197612083956, 0.07584313949008184 L -0.9970990974339137, 0.07611432123112455 L -0.9970783599074731, 0.07638549734225517 \", \"type\": \"path\"}, {\"fillcolor\": \"#bf4d28\", \"layer\": \"below\", \"line\": {\"color\": \"rgb(175,175,175)\", \"width\": 0.5}, \"path\": \"M -0.9989997629627839,0.044715473835144376 Q -0.1434457695490787, -0.13936753997424442 0.015891282388333212, -0.999873725599415L 0.015891282388333212, -0.999873725599415 L 0.010913513190783163, -0.9999404458415684 L 0.005935473527588857, -0.9999823849218562 M 0.005935473527588857,-0.9999823849218562 Q -0.14353308793574726, -0.13927761007293687 -0.9993510828325819, 0.0360196230039423L -0.9993510828325819, 0.0360196230039423 L -0.9991848828811328, 0.040367930611029425 L -0.9989997629627839, 0.044715473835144376 \", \"type\": \"path\"}, {\"fillcolor\": \"#bf4d28\", \"layer\": \"below\", \"line\": {\"color\": \"rgb(175,175,175)\", \"width\": 0.5}, \"path\": \"M -0.9987363749238254,-0.05025587929800988 Q -0.054147026104568334, -0.19253077562829066 0.8261307952496486, -0.5634784016625509L 0.8261307952496486, -0.5634784016625509 L 0.8159880594905508, -0.5780687560912157 L 0.805587672620388, -0.5924765832689647 M 0.805587672620388,-0.5924765832689647 Q -0.05449623378350356, -0.19243222314210717 -0.9966244706618085, -0.08209545954600717L -0.9966244706618085, -0.08209545954600717 L -0.997807429187439, -0.06618409369594733 L -0.9987363749238254, -0.05025587929800988 \", \"type\": \"path\"}, {\"fillcolor\": \"#bf4d28\", \"layer\": \"below\", \"line\": {\"color\": \"rgb(175,175,175)\", \"width\": 0.5}, \"path\": \"M -0.9975302977635154,0.07023749030135085 Q -0.0506039808430265, -0.19349221463107658 0.9041948061574425, -0.427120302160767L 0.9041948061574425, -0.427120302160767 L 0.9038141128152815, -0.4279252849224099 L 0.9034327028166157, -0.4287299283715385 M 0.9034327028166157,-0.4287299283715385 Q -0.05060086630824885, -0.1934930291479637 -0.9976560069960506, 0.06842873449579705L -0.9976560069960506, 0.06842873449579705 L -0.9975935623160486, 0.06933314088930398 L -0.9975302977635154, 0.07023749030135085 \", \"type\": \"path\"}, {\"fillcolor\": \"#bf4d28\", \"layer\": \"below\", \"line\": {\"color\": \"rgb(175,175,175)\", \"width\": 0.5}, \"path\": \"M -0.9999996966545127,-0.0007789036414128748 Q -0.01630304766121061, -0.19933441909754646 0.9865836700957937, -0.16325642988964975L 0.9865836700957937, -0.16325642988964975 L 0.984931615437613, -0.1729442479860315 L 0.9831844330267242, -0.18261536259011393 M 0.9831844330267242,-0.18261536259011393 Q -0.01623811207377334, -0.1993397193644046 -0.9997777019356857, -0.02108427642105054L -0.9997777019356857, -0.02108427642105054 L -0.9999402422239917, -0.010932153540118528 L -0.9999996966545127, -0.0007789036414128748 \", \"type\": \"path\"}, {\"fillcolor\": \"#bf4d28\", \"layer\": \"below\", \"line\": {\"color\": \"rgb(175,175,175)\", \"width\": 0.5}, \"path\": \"M -0.9996365521430998,0.026958553734499093 Q -0.008537682368989045, -0.19981768685420784 0.9982928133507494, -0.0584076948033891L 0.9982928133507494, -0.0584076948033891 L 0.9980081287924054, -0.0630854568365919 L 0.9977015254776016, -0.06776183335526453 M 0.9977015254776016,-0.06776183335526453 Q -0.008387229935014954, -0.19982405854655538 -0.999870669655424, 0.016082411598201656L -0.999870669655424, 0.016082411598201656 L -0.9997684007424193, 0.021520801029354858 L -0.9996365521430998, 0.026958553734499093 \", \"type\": \"path\"}, {\"fillcolor\": \"#af4624\", \"layer\": \"below\", \"line\": {\"color\": \"rgb(175,175,175)\", \"width\": 0.5}, \"path\": \"M -0.9928272540280997,-0.1195577001243464 Q -0.19501538514610295, -0.04437341046524512 -0.9468130472382666, -0.3217841723568577L -0.9468130472382666, -0.3217841723568577 L -0.9472400959155256, -0.3205248831057362 L -0.9476654697018005, -0.31926502710892984 M -0.9476654697018005,-0.31926502710892984 Q -0.19501330604727884, -0.044382546845695516 -0.9924943304093184, -0.12229065420284002L -0.9924943304093184, -0.12229065420284002 L -0.9926617327507764, -0.12092429173754156 L -0.9928272540280997, -0.1195577001243464 \", \"type\": \"path\"}, {\"fillcolor\": \"#af4624\", \"layer\": \"below\", \"line\": {\"color\": \"rgb(175,175,175)\", \"width\": 0.5}, \"path\": \"M -0.9924943304093184,-0.12229065420284002 Q -0.19050746590969164, -0.06088436115019753 -0.879462207638324, -0.4759687230647889L -0.879462207638324, -0.4759687230647889 L -0.880226952250745, -0.4745529607234209 L -0.8809894177642875, -0.4731359696613033 M -0.8809894177642875,-0.4731359696613033 Q -0.19051603371332748, -0.06085754594248991 -0.9921309199452637, -0.12520478300993426L -0.9921309199452637, -0.12520478300993426 L -0.992313694918559, -0.12374785200995177 L -0.9924943304093184, -0.12229065420284002 \", \"type\": \"path\"}, {\"fillcolor\": \"#af4624\", \"layer\": \"below\", \"line\": {\"color\": \"rgb(175,175,175)\", \"width\": 0.5}, \"path\": \"M -0.9890517300368269,-0.14756922209986667 Q -0.17074520473958352, -0.10414449125343937 -0.5838903330215064, -0.8118325436960718L -0.5838903330215064, -0.8118325436960718 L -0.5874586962960558, -0.8092541505275944 L -0.591015673841049, -0.8066600729391599 M -0.591015673841049,-0.8066600729391599 Q -0.1707927011069376, -0.10406658084417053 -0.987856264930665, -0.1553705243514218L -0.987856264930665, -0.1553705243514218 L -0.9884616938560655, -0.1514710526113746 L -0.9890517300368269, -0.14756922209986667 \", \"type\": \"path\"}, {\"fillcolor\": \"#af4624\", \"layer\": \"below\", \"line\": {\"color\": \"rgb(175,175,175)\", \"width\": 0.5}, \"path\": \"M -0.9935540159462942,-0.11335968153179916 Q -0.14119496756203806, -0.14164738308615174 -0.11018066578195285, -0.9939115759904629L -0.11018066578195285, -0.9939115759904629 L -0.11038970682748149, -0.993888380365996 L -0.11059874298978944, -0.9938651407756882 M -0.11059874298978944,-0.9938651407756882 Q -0.14118576134411667, -0.1416565593034157 -0.9934914458981997, -0.11390674662681063L -0.9934914458981997, -0.11390674662681063 L -0.9935227685761681, -0.1136332183859364 L -0.9935540159462942, -0.11335968153179916 \", \"type\": \"path\"}, {\"fillcolor\": \"#af4624\", \"layer\": \"below\", \"line\": {\"color\": \"rgb(175,175,175)\", \"width\": 0.5}, \"path\": \"M -0.987856264930665,-0.1553705243514218 Q -0.13026110660510437, -0.1517631183984226 -0.0038134994136946048, -0.9999927285846741L -0.0038134994136946048, -0.9999927285846741 L -0.008376780363164577, -0.9999649141598655 L -0.012939886871991392, -0.9999162761590292 M -0.012939886871991392,-0.9999162761590292 Q -0.1303408255855156, -0.1516946577361451 -0.9865693027636958, -0.16334323017607788L -0.9865693027636958, -0.16334323017607788 L -0.9872208322360511, -0.1593581764427502 L -0.987856264930665, -0.1553705243514218 \", \"type\": \"path\"}, {\"fillcolor\": \"#af4624\", \"layer\": \"below\", \"line\": {\"color\": \"rgb(175,175,175)\", \"width\": 0.5}, \"path\": \"M -0.9690541826911268,-0.2468481132373352 Q -0.030894963560706503, -0.19759934520787922 0.8474579099182318, -0.5308625913708953L 0.8474579099182318, -0.5308625913708953 L 0.8369532461772408, -0.5472743952656465 L 0.8261307952496486, -0.5634784016625509 M 0.8261307952496486,-0.5634784016625509 Q -0.031245474526349116, -0.19754422371110544 -0.9597037220574304, -0.28101381793270325L -0.9597037220574304, -0.28101381793270325 L -0.9645302419451884, -0.26397237047304056 L -0.9690541826911268, -0.2468481132373352 \", \"type\": \"path\"}, {\"fillcolor\": \"#af4624\", \"layer\": \"below\", \"line\": {\"color\": \"rgb(175,175,175)\", \"width\": 0.5}, \"path\": \"M -0.9933231198481934,-0.1153654175871243 Q -0.03260024596429699, -0.1973251731611234 0.9034327028166157, -0.4287299283715385L 0.9034327028166157, -0.4287299283715385 L 0.9030505764638747, -0.42953423187013134 L 0.9026677340600556, -0.4303381947804363 M 0.9026677340600556,-0.4303381947804363 Q -0.03259486760872627, -0.19732606164815028 -0.993109700620811, -0.11718840613662732L -0.993109700620811, -0.11718840613662732 L -0.9932168284825443, -0.11627696082662309 L -0.9933231198481934, -0.1153654175871243 \", \"type\": \"path\"}, {\"fillcolor\": \"#af4624\", \"layer\": \"below\", \"line\": {\"color\": \"rgb(175,175,175)\", \"width\": 0.5}, \"path\": \"M -0.9830032580075679,-0.18358811166986522 Q 9.894772153633604e-05, -0.1999999755233695 0.9831844330267242, -0.18261536259011393L 0.9831844330267242, -0.18261536259011393 L 0.9816782021010086, -0.19054633956004313 L 0.9801079960635735, -0.19846489879131313 M 0.9801079960635735,-0.19846489879131313 Q 0.00017299915712700077, -0.19999992517821508 -0.9797631869215999, -0.20016017973920297L -0.9797631869215999, -0.20016017973920297 L -0.9814182022435669, -0.19188098474055532 L -0.9830032580075679, -0.18358811166986522 \", \"type\": \"path\"}, {\"fillcolor\": \"#af4624\", \"layer\": \"below\", \"line\": {\"color\": \"rgb(175,175,175)\", \"width\": 0.5}, \"path\": \"M -0.9850919625774435,-0.1720285594467403 Q 0.012436501664282451, -0.19961295906417076 0.9988268548906513, -0.04842431155163518L 0.9988268548906513, -0.04842431155163518 L 0.9985723105035751, -0.053416670577185216 L 0.9982928133507494, -0.0584076948033891 M 0.9982928133507494,-0.0584076948033891 Q 0.01261106945086624, -0.19960200632084196 -0.9830032580075679, -0.18358811166986522L -0.9830032580075679, -0.18358811166986522 L -0.9840645838227748, -0.1778114025188178 L -0.9850919625774435, -0.1720285594467403 \", \"type\": \"path\"}, {\"fillcolor\": \"#9f4021\", \"layer\": \"below\", \"line\": {\"color\": \"rgb(175,175,175)\", \"width\": 0.5}, \"path\": \"M -0.9234787109801116,-0.38364967140154255 Q -0.17568817403299863, -0.09557021243541725 -0.8238259954314942, -0.5668427729549947L -0.8238259954314942, -0.5668427729549947 L -0.8291477463548884, -0.5590295293762303 L -0.8343953981615903, -0.5511663265537557 M -0.8343953981615903,-0.5511663265537557 Q -0.17579515197290285, -0.09537329051062457 -0.9169568771044462, -0.3989863224859489L -0.9169568771044462, -0.3989863224859489 L -0.9202497441937483, -0.3913315835852517 L -0.9234787109801116, -0.38364967140154255 \", \"type\": \"path\"}, {\"fillcolor\": \"#9f4021\", \"layer\": \"below\", \"line\": {\"color\": \"rgb(175,175,175)\", \"width\": 0.5}, \"path\": \"M -0.9332266140767876,-0.3592883059310093 Q -0.1552927907090311, -0.12603233376320963 -0.5436490476820774, -0.839312643151746L -0.5436490476820774, -0.839312643151746 L -0.5499922424805288, -0.8351697631088181 L -0.5563038679578419, -0.8309789446761837 M -0.5563038679578419,-0.8309789446761837 Q -0.1554207934407742, -0.12587444921921287 -0.9284325689330155, -0.3715009622389172L -0.9284325689330155, -0.3715009622389172 L -0.9308496203279591, -0.3654024963451869 L -0.9332266140767876, -0.3592883059310093 \", \"type\": \"path\"}, {\"fillcolor\": \"#9f4021\", \"layer\": \"below\", \"line\": {\"color\": \"rgb(175,175,175)\", \"width\": 0.5}, \"path\": \"M -0.9468130472382666,-0.3217841723568577 Q -0.12461336890561135, -0.15643371851999818 -0.10195461226187973, -0.9947890515272722L -0.10195461226187973, -0.9947890515272722 L -0.10320989897664436, -0.9946595984321626 L -0.10446502132935175, -0.9945285613388175 M -0.10446502132935175,-0.9945285613388175 Q -0.12456115516811282, -0.15647529716599143 -0.9457813013823417, -0.324804140914989L -0.9457813013823417, -0.324804140914989 L -0.9462983790328445, -0.3232945682188472 L -0.9468130472382666, -0.3217841723568577 \", \"type\": \"path\"}, {\"fillcolor\": \"#9f4021\", \"layer\": \"below\", \"line\": {\"color\": \"rgb(175,175,175)\", \"width\": 0.5}, \"path\": \"M -0.9082612917315082,-0.41840342486912335 Q -0.09737487431686498, -0.17469440131777192 0.12179089375897313, -0.9925557808996885L 0.12179089375897313, -0.9925557808996885 L 0.10777928262678511, -0.99417484691399 L 0.0937462291704747, -0.9955961252015382 M 0.0937462291704747,-0.9955961252015382 Q -0.09773257445689851, -0.1744945382813651 -0.8979095246815334, -0.4401800603005351L -0.8979095246815334, -0.4401800603005351 L -0.9031510449411088, -0.4293229437402377 L -0.9082612917315082, -0.41840342486912335 \", \"type\": \"path\"}, {\"fillcolor\": \"#9f4021\", \"layer\": \"below\", \"line\": {\"color\": \"rgb(175,175,175)\", \"width\": 0.5}, \"path\": \"M -0.9433952720840547,-0.3316705603599036 Q -0.053461616839946303, -0.19272222374406844 0.6377131757295951, -0.7702739158902335L 0.6377131757295951, -0.7702739158902335 L 0.635299184716607, -0.7722661108053457 L 0.6328789701900717, -0.7742507404524418 M 0.6328789701900717,-0.7742507404524418 Q -0.053535190617587707, -0.1927017990718783 -0.9415580994308486, -0.3368506277212026L -0.9415580994308486, -0.3368506277212026 L -0.9424802446050619, -0.3342618562282913 L -0.9433952720840547, -0.3316705603599036 \", \"type\": \"path\"}, {\"fillcolor\": \"#9f4021\", \"layer\": \"below\", \"line\": {\"color\": \"rgb(175,175,175)\", \"width\": 0.5}, \"path\": \"M -0.9500165758670561,-0.312199464409909 Q -0.012851810219949035, -0.1995866502902196 0.9021305523069943, -0.43146316945282526L 0.9021305523069943, -0.43146316945282526 L 0.9018999023140122, -0.4319450962865249 L 0.9016689948710944, -0.4324268998202475 M 0.9016689948710944,-0.4324268998202475 Q -0.012852286466987814, -0.1995866196230862 -0.9496839257508145, -0.31320989954106077L -0.9496839257508145, -0.31320989954106077 L -0.9498503851694676, -0.3127047262089495 L -0.9500165758670561, -0.312199464409909 \", \"type\": \"path\"}, {\"fillcolor\": \"#9f4021\", \"layer\": \"below\", \"line\": {\"color\": \"rgb(175,175,175)\", \"width\": 0.5}, \"path\": \"M -0.949071276252953,-0.31506144256571783 Q 0.0053509077030267456, -0.19992840665286585 0.9645651878592538, -0.26384464817396314L 0.9645651878592538, -0.26384464817396314 L 0.9642868329699075, -0.26486015887797415 L 0.9640074089338663, -0.26587537592002297 M 0.9640074089338663,-0.26587537592002297 Q 0.005353069847816943, -0.19992834877326526 -0.9483988144183724, -0.31707994072445794L -0.9483988144183724, -0.31707994072445794 L -0.9487355821469785, -0.3160708704835576 L -0.949071276252953, -0.31506144256571783 \", \"type\": \"path\"}, {\"fillcolor\": \"#9f4021\", \"layer\": \"below\", \"line\": {\"color\": \"rgb(175,175,175)\", \"width\": 0.5}, \"path\": \"M -0.9446236201719371,-0.328155780405075 Q 0.023475157248016056, -0.19861751431377073 0.9950979048324291, -0.0988946904444816L 0.9950979048324291, -0.0988946904444816 L 0.9949343545351316, -0.10052676343024801 L 0.9947681274555714, -0.10215856595771128 M 0.9947681274555714,-0.10215856595771128 Q 0.023519125375637325, -0.1986123126635533 -0.9433952720840547, -0.3316705603599036L -0.9433952720840547, -0.3316705603599036 L -0.9440110819256405, -0.32991374206234825 L -0.9446236201719371, -0.328155780405075 \", \"type\": \"path\"}, {\"fillcolor\": \"#8f391e\", \"layer\": \"below\", \"line\": {\"color\": \"rgb(175,175,175)\", \"width\": 0.5}, \"path\": \"M -0.8004834873634005,-0.599354808488702 Q -0.11761618326663237, -0.16176041986156547 -0.32334912947395156, -0.946279736900478L -0.32334912947395156, -0.946279736900478 L -0.35780795509606883, -0.9337951955701901 L -0.39178614643929305, -0.9200563110257158 M -0.39178614643929305,-0.9200563110257158 Q -0.11772114792751354, -0.16168404785453783 -0.7552883865317765, -0.6553925946867464L -0.7552883865317765, -0.6553925946867464 L -0.7783903835938122, -0.6277805434454607 L -0.8004834873634005, -0.599354808488702 \", \"type\": \"path\"}, {\"fillcolor\": \"#8f391e\", \"layer\": \"below\", \"line\": {\"color\": \"rgb(175,175,175)\", \"width\": 0.5}, \"path\": \"M -0.8696121239968059,-0.49373550996233184 Q -0.10725290973360364, -0.16880999186563417 -0.07751643185705626, -0.9969910745799836L -0.07751643185705626, -0.9969910745799836 L -0.0803818870909484, -0.996764140721213 L -0.08324667818294845, -0.9965289712655145 M -0.08324667818294845,-0.9965289712655145 Q -0.10704199893985927, -0.16894380859611036 -0.8655109306466334, -0.500890036765754L -0.8655109306466334, -0.500890036765754 L -0.8675689024522721, -0.49731700101420206 L -0.8696121239968059, -0.49373550996233184 \", \"type\": \"path\"}, {\"fillcolor\": \"#8f391e\", \"layer\": \"below\", \"line\": {\"color\": \"rgb(175,175,175)\", \"width\": 0.5}, \"path\": \"M -0.7552883865317765,-0.6553925946867464 Q -0.044301007738249625, -0.195031845382685 0.398039602582498, -0.9173682329228362L 0.398039602582498, -0.9173682329228362 L 0.3616822471787974, -0.9323014276915462 L 0.32476614420749855, -0.9457943495161061 M 0.32476614420749855,-0.9457943495161061 Q -0.044533364431675125, -0.1949789205334659 -0.7031818002938438, -0.7110100953822729L -0.7031818002938438, -0.7110100953822729 L -0.7297651321217627, -0.6836979244807652 L -0.7552883865317765, -0.6553925946867464 \", \"type\": \"path\"}, {\"fillcolor\": \"#8f391e\", \"layer\": \"below\", \"line\": {\"color\": \"rgb(175,175,175)\", \"width\": 0.5}, \"path\": \"M -0.8655109306466334,-0.500890036765754 Q -0.03344871104643917, -0.19718312232372176 0.6519120001966745, -0.7582946287555854L 0.6519120001966745, -0.7582946287555854 L 0.6477680611128094, -0.7618376067129737 L 0.6436048671725985, -0.7653579391054501 M 0.6436048671725985,-0.7653579391054501 Q -0.03345291799864712, -0.19718240864077047 -0.8600195900089015, -0.5102610163444989L -0.8600195900089015, -0.5102610163444989 L -0.862777983170066, -0.5055829820682193 L -0.8655109306466334, -0.500890036765754 \", \"type\": \"path\"}, {\"fillcolor\": \"#8f391e\", \"layer\": \"below\", \"line\": {\"color\": \"rgb(175,175,175)\", \"width\": 0.5}, \"path\": \"M -0.8758956747476562,-0.48250053570783535 Q 0.007429495764089024, -0.19986195884332614 0.9093009310408064, -0.41613917961220925L 0.9093009310408064, -0.41613917961220925 L 0.9081487425166133, -0.4186476579004045 L 0.9069896338974422, -0.4211529460927274 M 0.9069896338974422,-0.4211529460927274 Q 0.007500886858034669, -0.19985929224417603 -0.8728701411874102, -0.48795257620333404L -0.8728701411874102, -0.48795257620333404 L -0.8743871573463042, -0.485228914088855 L -0.8758956747476562, -0.48250053570783535 \", \"type\": \"path\"}, {\"fillcolor\": \"#8f391e\", \"layer\": \"below\", \"line\": {\"color\": \"rgb(175,175,175)\", \"width\": 0.5}, \"path\": \"M -0.8836400707089727,-0.4681668777662959 Q 0.021173888232033266, -0.19887600774637793 0.9624038260915697, -0.2716226712266625L 0.9624038260915697, -0.2716226712266625 L 0.962356142899963, -0.2717915639285112 L 0.9623084300692968, -0.27196044825960525 M 0.9623084300692968,-0.27196044825960525 Q 0.021178988055522617, -0.1988754647133327 -0.8834516668369072, -0.4685223072203609L -0.8834516668369072, -0.4685223072203609 L -0.8835458866455399, -0.4683446019671272 L -0.8836400707089727, -0.4681668777662959 \", \"type\": \"path\"}, {\"fillcolor\": \"#8f391e\", \"layer\": \"below\", \"line\": {\"color\": \"rgb(175,175,175)\", \"width\": 0.5}, \"path\": \"M -0.8834516668369072,-0.4685223072203609 Q 0.037492573744868675, -0.19645433798719128 0.9939054694450884, -0.11023573743182584L 0.9939054694450884, -0.11023573743182584 L 0.9938796116049273, -0.11046862738369978 L 0.993853699194457, -0.11070151127014376 M 0.993853699194457,-0.11070151127014376 Q 0.03750581194576423, -0.1964518110639069 -0.8831687929779337, -0.4690553092225902L -0.8831687929779337, -0.4690553092225902 L -0.8833102701100467, -0.46878882955774065 L -0.8834516668369072, -0.4685223072203609 \", \"type\": \"path\"}, {\"fillcolor\": \"#f0f3e7\", \"layer\": \"below\", \"line\": {\"color\": \"rgb(175,175,175)\", \"width\": 0.5}, \"path\": \"M -0.5663021482235479,-0.8241977171270222 Q -0.06531020855429806, -0.18903591367407968 -0.0632499901651619, -0.9979977147990404L -0.0632499901651619, -0.9979977147990404 L -0.06737752761601155, -0.9977275523770773 L -0.07150391226747185, -0.9974403192825352 M -0.07150391226747185,-0.9974403192825352 Q -0.06495013457624796, -0.18915993238137743 -0.5563038679578419, -0.8309789446761837L -0.5563038679578419, -0.8309789446761837 L -0.5613132486886722, -0.8276034296972004 L -0.5663021482235479, -0.8241977171270222 \", \"type\": \"path\"}, {\"fillcolor\": \"#f0f3e7\", \"layer\": \"below\", \"line\": {\"color\": \"rgb(175,175,175)\", \"width\": 0.5}, \"path\": \"M -0.32334912947395156,-0.946279736900478 Q 0.017406312015103505, -0.19924111097369657 0.4825381297575364, -0.8758749644384745L 0.4825381297575364, -0.8758749644384745 L 0.44077739110083464, -0.8976164501023485 L 0.398039602582498, -0.9173682329228362 M 0.398039602582498,-0.9173682329228362 Q 0.017285918451659357, -0.19925159227289146 -0.23411070277274654, -0.9722099458693326L -0.23411070277274654, -0.9722099458693326 L -0.27903128870508687, -0.9602820106216603 L -0.32334912947395156, -0.946279736900478 \", \"type\": \"path\"}, {\"fillcolor\": \"#f0f3e7\", \"layer\": \"below\", \"line\": {\"color\": \"rgb(175,175,175)\", \"width\": 0.5}, \"path\": \"M -0.4900271420305955,-0.8717071756463444 Q 0.035262371373197404, -0.19686687168017558 0.7621305453579096, -0.647423379121001L 0.7621305453579096, -0.647423379121001 L 0.7521054750523377, -0.6590427561215565 L 0.7419032749148318, -0.6705069206731931 M 0.7419032749148318,-0.6705069206731931 Q 0.0353047985853386, -0.19685926749037921 -0.4626630650727373, -0.8865342002525904L -0.4626630650727373, -0.8865342002525904 L -0.4764027894988819, -0.8792271504893852 L -0.4900271420305955, -0.8717071756463444 \", \"type\": \"path\"}, {\"fillcolor\": \"#f0f3e7\", \"layer\": \"below\", \"line\": {\"color\": \"rgb(175,175,175)\", \"width\": 0.5}, \"path\": \"M -0.5436490476820774,-0.839312643151746 Q 0.05983020376773804, -0.19084115572148203 0.9255116183333711, -0.37871921568616534L 0.9255116183333711, -0.37871921568616534 L 0.9227559600451709, -0.38538479238433226 L 0.9199522967020084, -0.39203031999157906 M 0.9199522967020084,-0.39203031999157906 Q 0.06003631371763538, -0.19077641634960457 -0.5296541672659686, -0.8482136895251063L -0.5296541672659686, -0.8482136895251063 L -0.5366700615472114, -0.8437921811909094 L -0.5436490476820774, -0.839312643151746 \", \"type\": \"path\"}, {\"fillcolor\": \"#f0f3e7\", \"layer\": \"below\", \"line\": {\"color\": \"rgb(175,175,175)\", \"width\": 0.5}, \"path\": \"M -0.6114667043511255,-0.7912701621254103 Q 0.0642526007736193, -0.18939800234909 0.9667086102178662, -0.2558797821842155L 0.9667086102178662, -0.2558797821842155 L 0.9661449649433559, -0.2579998192142808 L 0.9655766703348354, -0.26011861468394093 M 0.9655766703348354,-0.26011861468394093 Q 0.06432189058145278, -0.1893744818924335 -0.6074081187113075, -0.7943899403464209L -0.6074081187113075, -0.7943899403464209 L -0.6094394078396198, -0.7928326482758474 L -0.6114667043511255, -0.7912701621254103 \", \"type\": \"path\"}, {\"fillcolor\": \"#f0f3e7\", \"layer\": \"below\", \"line\": {\"color\": \"rgb(175,175,175)\", \"width\": 0.5}, \"path\": \"M -0.6031703061773956,-0.7976124257719828 Q 0.08144229689921678, -0.18266677934364484 0.9964295761605437, -0.08442807443332634L 0.9964295761605437, -0.08442807443332634 L 0.9962086503968308, -0.08699611988200921 L 0.9959811061559574, -0.08956358735756141 M 0.9959811061559574,-0.08956358735756141 Q 0.0815886004975341, -0.1826014793720297 -0.5977669400218059, -0.8016699354578334L -0.5977669400218059, -0.8016699354578334 L -0.600472050284893, -0.7996457445810969 L -0.6031703061773956, -0.7976124257719828 \", \"type\": \"path\"}, {\"fillcolor\": \"#e2ecde\", \"layer\": \"below\", \"line\": {\"color\": \"rgb(175,175,175)\", \"width\": 0.5}, \"path\": \"M -0.0632499901651619,-0.9979977147990404 Q -0.0023130942194758857, -0.19998662354050542 0.04014998601380044, -0.999193664222853L 0.04014998601380044, -0.999193664222853 L 0.03320590814263214, -0.9994485317736092 L 0.026260226918380716, -0.9996551407771558 M 0.026260226918380716,-0.9996551407771558 Q -0.0027633640351940434, -0.19998090863682214 -0.053871674252923836, -0.9985478670114852L -0.053871674252923836, -0.9985478670114852 L -0.05856147825900476, -0.9982838039676494 L -0.0632499901651619, -0.9979977147990404 \", \"type\": \"path\"}, {\"fillcolor\": \"#e2ecde\", \"layer\": \"below\", \"line\": {\"color\": \"rgb(175,175,175)\", \"width\": 0.5}, \"path\": \"M -0.10195461226187973,-0.9947890515272722 Q 0.05691019898513303, -0.19173218105334475 0.6281770927165506, -0.778070395392462L 0.6281770927165506, -0.778070395392462 L 0.6266046689077054, -0.7793372754482265 L 0.6250296901172503, -0.7806009777549181 M 0.6250296901172503,-0.7806009777549181 Q 0.05679186588518789, -0.19176726511393657 -0.09916450784565296, -0.9950710529322665L -0.09916450784565296, -0.9950710529322665 L -0.10055965890656678, -0.9949310302732521 L -0.10195461226187973, -0.9947890515272722 \", \"type\": \"path\"}, {\"fillcolor\": \"#e2ecde\", \"layer\": \"below\", \"line\": {\"color\": \"rgb(175,175,175)\", \"width\": 0.5}, \"path\": \"M -0.10920507660750306,-0.9940192408817595 Q 0.09733032983122736, -0.1747192230263874 0.9026677340600556, -0.4303381947804363L 0.9026677340600556, -0.4303381947804363 L 0.9023993184895274, -0.43090076582623593 L 0.9021305523069943, -0.43146316945282526 M 0.9021305523069943,-0.43146316945282526 Q 0.09730716676608, -0.1747321243960546 -0.10822938222859915, -0.9941259481687498L -0.10822938222859915, -0.9941259481687498 L -0.10871724250986288, -0.9940727142322395 L -0.10920507660750306, -0.9940192408817595 \", \"type\": \"path\"}, {\"fillcolor\": \"#e2ecde\", \"layer\": \"below\", \"line\": {\"color\": \"rgb(175,175,175)\", \"width\": 0.5}, \"path\": \"M -0.10822938222859915,-0.9941259481687498 Q 0.11237014403177381, -0.16544772809041053 0.9640074089338663, -0.26587537592002297L 0.9640074089338663, -0.26587537592002297 L 0.9637737390846944, -0.2667211649845344 L 0.9635393271675813, -0.2675667486842203 M 0.9635393271675813,-0.2675667486842203 Q 0.11234095829556104, -0.16546754693665772 -0.10683535248183663, -0.9942767257962352L -0.10683535248183663, -0.9942767257962352 L -0.107532393782017, -0.9942015813141263 L -0.10822938222859915, -0.9941259481687498 \", \"type\": \"path\"}, {\"fillcolor\": \"#e2ecde\", \"layer\": \"below\", \"line\": {\"color\": \"rgb(175,175,175)\", \"width\": 0.5}, \"path\": \"M -0.11087745026076389,-0.9938340862657468 Q 0.12483393984273677, -0.15625775969000702 0.9937843326558532, -0.11132250521687218L 0.9937843326558532, -0.11132250521687218 L 0.9937669303922784, -0.11147774692156572 L 0.9937495038779822, -0.11163298590588812 M 0.9937495038779822,-0.11163298590588812 Q 0.1248314400118658, -0.1562597567659823 -0.11059874298978944, -0.9938651407756882L -0.11059874298978944, -0.9938651407756882 L -0.11073809771386159, -0.9938496232905234 L -0.11087745026076389, -0.9938340862657468 \", \"type\": \"path\"}, {\"fillcolor\": \"#d4e5d6\", \"layer\": \"below\", \"line\": {\"color\": \"rgb(175,175,175)\", \"width\": 0.5}, \"path\": \"M 0.15322418945264066,-0.9881914529920715 Q 0.10068872332585486, -0.17280561621373727 0.7841524879536177, -0.620568187741002L 0.7841524879536177, -0.620568187741002 L 0.7732581102728819, -0.6340913931738953 L 0.7621305453579096, -0.647423379121001 M 0.7621305453579096,-0.647423379121001 Q 0.10077041364668163, -0.17275799180783702 0.1883751612584291, -0.9820971431690761L 0.1883751612584291, -0.9820971431690761 L 0.17082685460609165, -0.9853010635056624 L 0.15322418945264066, -0.9881914529920715 \", \"type\": \"path\"}, {\"fillcolor\": \"#d4e5d6\", \"layer\": \"below\", \"line\": {\"color\": \"rgb(175,175,175)\", \"width\": 0.5}, \"path\": \"M 0.05631019974651602,-0.9984133219286027 Q 0.11737570682061463, -0.16193499760200425 0.931333062564111, -0.36416854144057215L 0.931333062564111, -0.36416854144057215 L 0.9284508456426589, -0.37145528294187924 L 0.9255116183333711, -0.37871921568616534 M 0.9255116183333711,-0.37871921568616534 Q 0.11758461253342989, -0.16178337026827933 0.07452432331575466, -0.997219196182228L 0.07452432331575466, -0.997219196182228 L 0.06541998616865873, -0.9978578182334858 L 0.05631019974651602, -0.9984133219286027 \", \"type\": \"path\"}, {\"fillcolor\": \"#d4e5d6\", \"layer\": \"below\", \"line\": {\"color\": \"rgb(175,175,175)\", \"width\": 0.5}, \"path\": \"M -0.022479945355006567,-0.9997472940982816 Q 0.11909332670337712, -0.1606760079623672 0.9630682778520538, -0.2692572973850089L 0.9630682778520538, -0.2692572973850089 L 0.9629263846019426, -0.26976430052442407 L 0.9627842244422361, -0.2702712288889848 M 0.9627842244422361,-0.2702712288889848 Q 0.11910871782998711, -0.16066459889128193 -0.021235687406603303, -0.9997744973644652L -0.021235687406603303, -0.9997744973644652 L -0.02185782061280188, -0.999761089299868 L -0.022479945355006567, -0.9997472940982816 \", \"type\": \"path\"}, {\"fillcolor\": \"#d4e5d6\", \"layer\": \"below\", \"line\": {\"color\": \"rgb(175,175,175)\", \"width\": 0.5}, \"path\": \"M -0.0038134994136946048,-0.9999927285846741 Q 0.1355793787103791, -0.1470313982403337 0.9970225899949624, -0.07711001906196864L 0.9970225899949624, -0.07711001906196864 L 0.9967327992853071, -0.08076959099113737 L 0.9964295761605437, -0.08442807443332634 M 0.9964295761605437,-0.08442807443332634 Q 0.13575622962834588, -0.14686812491856707 0.005935473527588857, -0.9999823849218562L 0.005935473527588857, -0.9999823849218562 L 0.0010609996620397698, -0.9999994371397002 L -0.0038134994136946048, -0.9999927285846741 \", \"type\": \"path\"}, {\"fillcolor\": \"#c6decd\", \"layer\": \"below\", \"line\": {\"color\": \"rgb(175,175,175)\", \"width\": 0.5}, \"path\": \"M 0.6699434584356636,-0.7424121244290548 Q 0.1628046658141483, -0.11616643572540007 0.9199522967020084, -0.39203031999157906L 0.9199522967020084, -0.39203031999157906 L 0.9175262361159584, -0.39767525198191866 L 0.9150655379720647, -0.4033051713230267 M 0.9150655379720647,-0.4033051713230267 Q 0.1629001378560875, -0.11603251736676097 0.6802221630913152, -0.7330060087334702L 0.6802221630913152, -0.7330060087334702 L 0.6750991928164727, -0.7377269683687503 L 0.6699434584356636, -0.7424121244290548 \", \"type\": \"path\"}, {\"fillcolor\": \"#c6decd\", \"layer\": \"below\", \"line\": {\"color\": \"rgb(175,175,175)\", \"width\": 0.5}, \"path\": \"M 0.7086927749582033,-0.7055172221300069 Q 0.1789239011869522, -0.08936575173992423 0.9897526716607724, -0.14279232801647018L 0.9897526716607724, -0.14279232801647018 L 0.9882211436734698, -0.15303258214086116 L 0.9865836700957937, -0.16325642988964975 M 0.9865836700957937,-0.16325642988964975 Q 0.1790630560632167, -0.08908659805661748 0.725300750983004, -0.6884321467098194L 0.725300750983004, -0.6884321467098194 L 0.7170476504813693, -0.6970241509009197 L 0.7086927749582033, -0.7055172221300069 \", \"type\": \"path\"}, {\"fillcolor\": \"#c6decd\", \"layer\": \"below\", \"line\": {\"color\": \"rgb(175,175,175)\", \"width\": 0.5}, \"path\": \"M 0.6929938102434499,-0.7209435338251293 Q 0.18275702317455572, -0.08123958690426057 0.9995065603657314, -0.031410759078132795L 0.9995065603657314, -0.031410759078132795 L 0.9992029197688034, -0.03991898201981388 L 0.9988268548906513, -0.04842431155163518 M 0.9988268548906513,-0.04842431155163518 Q 0.18295885820182428, -0.0807840095902943 0.7086927749582033, -0.7055172221300069L 0.7086927749582033, -0.7055172221300069 L 0.7008857350215487, -0.7132735705487084 L 0.6929938102434499, -0.7209435338251293 \", \"type\": \"path\"}, {\"fillcolor\": \"#b8d7c5\", \"layer\": \"below\", \"line\": {\"color\": \"rgb(175,175,175)\", \"width\": 0.5}, \"path\": \"M 0.9005880246825713,-0.4346736819711362 Q 0.18703621723941322, -0.07083398506911094 0.9625942624380414, -0.27094701681576616L 0.9625942624380414, -0.27094701681576616 L 0.9624991035517304, -0.27128486073151103 L 0.9624038260915697, -0.2716226712266625 M 0.9624038260915697,-0.2716226712266625 Q 0.1870365852650287, -0.070833013294633 0.9008974448808982, -0.43403201933390695L 0.9008974448808982, -0.43403201933390695 L 0.9007427919194322, -0.43435287820525204 L 0.9005880246825713, -0.4346736819711362 \", \"type\": \"path\"}, {\"fillcolor\": \"#b8d7c5\", \"layer\": \"below\", \"line\": {\"color\": \"rgb(175,175,175)\", \"width\": 0.5}, \"path\": \"M 0.9008974448808982,-0.43403201933390695 Q 0.19224855327837798, -0.05514067248747223 0.9939912681085177, -0.10945939395054635L 0.9939912681085177, -0.10945939395054635 L 0.9939484445741478, -0.10984757406803394 L 0.9939054694450884, -0.11023573743182584 M 0.9939054694450884,-0.11023573743182584 Q 0.19225156899299517, -0.055130157080599956 0.9012835772009866, -0.4332296313363079L 0.9012835772009866, -0.4332296313363079 L 0.9010906003530674, -0.43363086831468606 L 0.9008974448808982, -0.43403201933390695 \", \"type\": \"path\"}, {\"fillcolor\": \"#aad0bc\", \"layer\": \"below\", \"line\": {\"color\": \"rgb(175,175,175)\", \"width\": 0.5}, \"path\": \"M 0.9667086102178662,-0.2558797821842155 Q 0.1968878639361542, -0.035144971683847274 0.9955357056608988, -0.09438569146992731L 0.9955357056608988, -0.09438569146992731 L 0.9953193585851546, -0.09664043887336343 L 0.9950979048324291, -0.0988946904444816 M 0.9950979048324291,-0.0988946904444816 Q 0.19689768176798192, -0.03508992610984712 0.9679983467383089, -0.2509565713662442L 0.9679983467383089, -0.2509565713662442 L 0.9673566104725005, -0.25341899726570405 L 0.9667086102178662, -0.2558797821842155 \", \"type\": \"path\"}, {\"fillcolor\": \"#f2e6ce\", \"layer\": \"below\", \"line\": {\"color\": \"rgb(150,150,150)\", \"width\": 0.45}, \"path\": \"M 1.1, 0.0 L 1.099742350281155, 0.02380678470692216 L 1.0989695218216695, 0.04760241702950552 L 1.097681876656154, 0.07137574980779067 L 1.0958800179871802, 0.09511564632812977 L 1.093564789902711, 0.11881098554022483 L 1.0907372769806831, 0.14245066726682867 L 1.0873988037809315, 0.1660236174036678 L 1.083550934224695, 0.1895187931071511 L 1.0791954708619902, 0.2129251879674345 L 1.0743344540272008, 0.2362318371644182 L 1.0689701608832738, 0.2594278226042606 L 1.0631051043549733, 0.2825022780340037 L 1.056742031951691, 0.3054443941319131 L 0.9606745745015371, 0.2776767219381028 L 0.9664591857772483, 0.25682025275818515 L 0.9717910553484307, 0.23584347509478235 L 0.9766676854792735, 0.21475621560401653 L 0.9810867916927183, 0.19356835269766773 L 0.9850463038406316, 0.1722898119155919 L 0.988544367073574, 0.15093056127606164 L 0.9915793427097118, 0.12950060660620788 L 0.9941498090024645, 0.10800998685474984 L 0.9962545618065274, 0.08646876938920887 L 0.997892615141958, 0.0648870452798097 L 0.9990632016560632, 0.04327492457227774 L 0.9997657729828681, 0.021642531551747418 L 1.0, 0.0 L 1.1 ,0.0\", \"type\": \"path\"}, {\"fillcolor\": \"#ecd5bb\", \"layer\": \"below\", \"line\": {\"color\": \"rgb(150,150,150)\", \"width\": 0.45}, \"path\": \"M 1.0466263532740863, 0.3384867451351496 L 1.0394028887396138, 0.36005782157834887 L 1.031734894972929, 0.3814749093914294 L 1.02362565140246, 0.4027288489677511 L 1.0150786261692493, 0.42381055047550376 L 1.0060974746437081, 0.4447109977452249 L 0.9966860378622959, 0.4654212521258115 L 0.9868483408847966, 0.48593245630738074 L 0.97658859107289, 0.5062358381093419 L 0.9659111762907586, 0.5263227142320606 L 0.9548206630284963, 0.5461844939705106 L 0.9433217944491238, 0.5658126828883258 L 0.9314194883600438, 0.5851988864506786 L 0.9191188351098065, 0.6043348136144338 L 0.9064250954110806, 0.6232122803740421 L 0.8933436980907661, 0.6418232132616538 L 0.8798802377682063, 0.6601596527999608 L 0.8660404724624959, 0.6782137569062847 L 0.8518303211299048, 0.6959778042464597 L 0.8372558611324741, 0.713444197537074 L 0.822323325638865, 0.7306054667946561 L 0.8070391009585732, 0.7474542725304191 L 0.7914097238106473, 0.7639834088891951 L 0.7754418785280814, 0.7801858067312173 L 0.7591423941990768, 0.7960545366554316 L 0.7425182417463934, 0.8115828119630459 L 0.7255765309460441, 0.8267639915600489 L 0.7083245073866031, 0.8415915827974555 L 0.6907695493704303, 0.8560592442480677 L 0.6729191647581376, 0.8701607884185604 L 0.6547809877576467, 0.8838901843957319 L 0.6363627756592078, 0.8972415604257913 L 0.617672405517784, 0.9102092064255746 L 0.59871787078421, 0.9227875764246192 L 0.5795072778865739, 0.9349712909370498 L 0.5600488427632797, 0.9467551392622653 L 0.5403508873492765, 0.9581340817134363 L 0.5204218360169521, 0.969103251772867 L 0.5002702119732207, 0.9796579581732947 L 0.4799046336143377, 0.9897936869042399 L 0.459333810840005, 0.9995061031425465 L 0.4385665413283446, 1.008791053106288 L 0.4176117067733282, 1.0176445658312474 L 0.3964782690862771, 1.0260628548692081 L 0.37517526656305394, 1.034042319907334 L 0.35371181001858737, 1.0415795483079413 L 0.32155619092598847, 0.9468904984617648 L 0.34106842414823085, 0.940038472643031 L 0.3604347900784337, 0.9327844135174619 L 0.3796470061575711, 0.9251314234829521 L 0.39869685575304054, 0.9170827755511708 L 0.4175761916727318, 0.9086419119477694 L 0.4362769396493979, 0.899812442640218 L 0.454791101793837, 0.8905981437939042 L 0.473110760015411, 0.8810029561571517 L 0.4912280794084331, 0.871030983375851 L 0.5091353116029815, 0.8606864902384229 L 0.5268247980787034, 0.8499739008518634 L 0.5442889734401909, 0.8388977967496537 L 0.5615203686525309, 0.8274629149323405 L 0.5785116142356435, 0.8156741458416283 L 0.5952554434160424, 0.803536531268847 L 0.6117446952346706, 0.7910552621986912 L 0.627972317609482, 0.7782356765891524 L 0.6439313703514573, 0.7650832570885958 L 0.6596150281327673, 0.7516036286909534 L 0.675016583405812, 0.7378025563300417 L 0.6901294492718879, 0.7236859424140286 L 0.7049471622982558, 0.7092598243011066 L 0.7194633852824066, 0.69453037171745 L 0.7336719099623392, 0.6795038841185628 L 0.7475666596716954, 0.6641867879951419 L 0.7611416919386127, 0.6485856341246127 L 0.7743912010271861, 0.6327070947695088 L 0.7873095204204508, 0.6165579608238951 L 0.7998911252438239, 0.6001451389090552 L 0.8121306346279691, 0.5834756484196852 L 0.8240228140100733, 0.5665566185218563 L 0.8355625773725514, 0.5493952851040307 L 0.8467449894182216, 0.531998987682435 L 0.8575652676810216, 0.5143751662621143 L 0.8680187845713603, 0.49653135815500965 L 0.878101069355235, 0.47847519475641864 L 0.8878078100662635, 0.46021439828121985 L 0.897134855349815, 0.44175677846125516 L 0.9060782162384508, 0.42311022920528313 L 0.9146340678579163, 0.4042827252229317 L 0.9227987510629538, 0.3852823186140943 L 0.9305687740022363, 0.3661171354252282 L 0.9379408136117536, 0.34679537217402673 L 0.9449117170360125, 0.32732529234395347 L 0.951478502976442, 0.30771522285013597 L 1.0466263532740863 ,0.3384867451351496\", \"type\": \"path\"}, {\"fillcolor\": \"#e6c4a9\", \"layer\": \"below\", \"line\": {\"color\": \"rgb(150,150,150)\", \"width\": 0.45}, \"path\": \"M 0.32082047033980887, 1.0521759481241453 L 0.29878058222468823, 1.0586454381356756 L 0.27661041319010765, 1.064653314142589 L 0.2543196303636456, 1.070196956457875 L 0.23191795346557498, 1.0752739478199682 L 0.2094151505706545, 1.0798820744467752 L 0.18682103384883805, 1.084019327000977 L 0.16414545528675356, 1.0876839014661863 L 0.14139830239182347, 1.0908741999335718 L 0.11858949388089429, 1.0935888312986164 L 0.09572897535525755, 1.0958266118676954 L 0.07282671496395005, 1.0975865658742183 L 0.049892699057220345, 1.0988679259041032 L 0.02693692783205866, 1.0996701332304022 L 0.003969410971691418, 1.0999928380569293 L -0.01899983671906423, 1.0998358996707869 L -0.0419607996806752, 1.0991993865037217 L -0.06490346596610025, 1.0980835761022871 L -0.08781783160641893, 1.0964889550068193 L -0.11069390497298424, 1.094416218539287 L -0.13352171113419417, 1.0918662705000997 L -0.15629129620498078, 1.0888402227740153 L -0.1789927316871239, 1.085339394845309 L -0.20161611879849556, 1.081365313222424 L -0.224151592789344, 1.0769197107723492 L -0.24658932724374225, 1.072004525965016 L -0.2241721156761293, 0.9745495690591054 L -0.20377417526303998, 0.9790179188839537 L -0.18328738072590503, 0.983059375656749 L -0.16272066517011263, 0.986672177132099 L -0.14208299654998252, 0.9898547479763774 L -0.12138337375835834, 0.992605700454636 L -0.10063082270271294, 0.9949238350357152 L -0.07983439236947175, 0.9968081409152902 L -0.059003150878272945, 0.9982577964566246 L -0.03814618152788654, 0.9992721695488379 L -0.017272578835512937, 0.9998508178825334 L 0.0036085554288103794, 0.999993489142663 L 0.02448811621096242, 0.9997001211185474 L 0.04535699914292758, 0.9989708417310029 L 0.06620610451268186, 0.997805968976562 L 0.08702634123205231, 0.9962060107888139 L 0.10780863080081299, 0.9941716648169239 L 0.12854391126529405, 0.9917038181214289 L 0.14922314116977595, 0.9888035467874421 L 0.16983730349894366, 0.9854721154554337 L 0.19037740960968588, 0.9817109767697955 L 0.21083450315052268, 0.9775217707454256 L 0.2311996639669505, 0.9729063240526136 L 0.25146401199100693, 0.9678666492205353 L 0.2716187111133529, 0.962404943759705 L 0.29165497303618987, 0.9565235892037683 L 0.32082047033980887 ,1.0521759481241453\", \"type\": \"path\"}, {\"fillcolor\": \"#e1b396\", \"layer\": \"below\", \"line\": {\"color\": \"rgb(150,150,150)\", \"width\": 0.45}, \"path\": \"M -0.28014012619204287, 1.0637299984944988 L -0.30280002037181664, 1.0575027884893862 L -0.3253217153838939, 1.0507929298866077 L -0.34769493223456177, 1.043603485093071 L -0.36990945969614664, 1.0359377354007842 L -0.39195515896746214, 1.0277991794892578 L -0.4138219683011974, 1.0191915318286957 L -0.4354999075961411, 1.0101187209846934 L -0.45697908295214035, 1.0005848878252264 L -0.47824969118571636, 0.9905943836307408 L -0.4993020243042788, 0.9801517681082096 L -0.5201264739368913, 0.9692618073100665 L -0.5407135357195735, 0.9579294714589575 L -0.5610538136331309, 0.946159932679312 L -0.5811380242915346, 0.9339585626367649 L -0.6009570011788999, 0.9213309300865048 L -0.620501698833119, 0.9082827983316722 L -0.639763196974249, 0.8948201225929648 L -0.6587327045757607, 0.8809490472906499 L -0.5988479132506915, 0.8008627702642271 L -0.5816029063402263, 0.8134728387208771 L -0.5640924534846536, 0.8257116348469747 L -0.5463245465262726, 0.8375735728059134 L -0.528307294810486, 0.8490532387606953 L -0.5100489214846644, 0.860145393344829 L -0.49155775974506677, 0.8708449740535976 L -0.4728422490335375, 0.8811470975546059 L -0.45391093118570797, 0.8910470619165541 L -0.4347724465324694, 0.9005403487552188 L -0.4154355299564912, 0.9096226252956603 L -0.3959090069055828, 0.9182897463497212 L -0.37620178936472487, 0.926537756207905 L -0.3563228717886019, 0.9343628904447798 L -0.33628132699649693, 0.9417615776370765 L -0.31608630203141974, 0.9487304409937009 L -0.295747013985358, 0.9552662998969159 L -0.27527274579256056, 0.9613661713539874 L -0.25467284199276624, 0.9670272713586352 L -0.28014012619204287 ,1.0637299984944988\", \"type\": \"path\"}, {\"fillcolor\": \"#dba284\", \"layer\": \"below\", \"line\": {\"color\": \"rgb(150,150,150)\", \"width\": 0.45}, \"path\": \"M -0.6860789380354873, 0.8598230578346328 L -0.7079523344737332, 0.8419046811327228 L -0.7293579477821562, 0.8234300116020801 L -0.7502816340921633, 0.8044112564751897 L -0.7707095679708931, 0.7848609824918803 L -0.7006450617917209, 0.7135099840835275 L -0.6820742128110575, 0.7312829604319906 L -0.6630526798019601, 0.7485727378200727 L -0.6435930313397574, 0.7653678919388388 L -0.6237081254868065, 0.7816573253042115 L -0.6860789380354873 ,0.8598230578346328\", \"type\": \"path\"}, {\"fillcolor\": \"#d59171\", \"layer\": \"below\", \"line\": {\"color\": \"rgb(150,150,150)\", \"width\": 0.45}, \"path\": \"M -0.7949823485544216, 0.760265128416986 L -0.8243051291768441, 0.7283687623812175 L -0.8523490762616743, 0.6953423992508085 L -0.8790706822062189, 0.6612372763883575 L -0.9044284908983533, 0.6261063047528967 L -0.822207718998503, 0.5691875497753607 L -0.799155165642017, 0.6011247967166886 L -0.774862796601522, 0.6321294538643714 L -0.7493682992516764, 0.6621534203465613 L -0.7227112259585651, 0.6911501167427145 L -0.7949823485544216 ,0.760265128416986\", \"type\": \"path\"}, {\"fillcolor\": \"#d0805f\", \"layer\": \"below\", \"line\": {\"color\": \"rgb(150,150,150)\", \"width\": 0.45}, \"path\": \"M -0.9236486843304729, 0.5973885736558632 L -0.9586145198843733, 0.5394981021902234 L -0.9899567003815352, 0.47956827602511776 L -1.0175567493661026, 0.4178256356657529 L -1.0413103359991474, 0.35450357422929213 L -0.9466457599992247, 0.32227597657208373 L -0.9250515903328206, 0.37984148696886627 L -0.8999606367104864, 0.4359711600228343 L -0.8714677453494302, 0.49045282017293035 L -0.8396806221186116, 0.5430805215053301 L -0.9236486843304729 ,0.5973885736558632\", \"type\": \"path\"}, {\"fillcolor\": \"#ca6f4c\", \"layer\": \"below\", \"line\": {\"color\": \"rgb(150,150,150)\", \"width\": 0.45}, \"path\": \"M -1.0519317385702436, 0.32162030002564373 L -1.0567892917894934, 0.3052808424370271 L -1.061393063874805, 0.28886807362263844 L -1.0657419492599982, 0.27238593500307506 L -1.0698349035882908, 0.25583838465764447 L -0.9725771850802643, 0.23258034968876767 L -0.9688563175090893, 0.24762357727552275 L -0.9649027853407318, 0.262607339656944 L -0.9607175379904486, 0.2775280385791155 L -0.9563015805184031, 0.29238209093240336 L -1.0519317385702436 ,0.32162030002564373\", \"type\": \"path\"}, {\"fillcolor\": \"#c45e3a\", \"layer\": \"below\", \"line\": {\"color\": \"rgb(150,150,150)\", \"width\": 0.45}, \"path\": \"M -1.0773430825081554, 0.22210781744870295 L -1.0823353291060045, 0.19634213854646004 L -1.086711456107208, 0.17046469184365412 L -1.0904689724006191, 0.14449020808185536 L -1.093605739019357, 0.11843347324099715 L -0.9941870354721427, 0.10766679385545194 L -0.9913354294551082, 0.1313547346198685 L -0.9879195055520071, 0.15496790167604918 L -0.9839412082781858, 0.17849285322405456 L -0.9794028022801411, 0.20191619768063904 L -1.0773430825081554 ,0.22210781744870295\", \"type\": \"path\"}, {\"fillcolor\": \"#bf4d28\", \"layer\": \"below\", \"line\": {\"color\": \"rgb(150,150,150)\", \"width\": 0.45}, \"path\": \"M -1.0967861958982204, 0.08402404707648069 L -1.0992553333185893, 0.0404686566448336 L -1.0999954886592245, -0.003150385588181628 L -1.0990054977544572, -0.046764472684695704 L -1.0962869177279893, -0.09030500550060838 L -0.9966244706618084, -0.08209545954600761 L -0.9990959070495066, -0.042513156986087 L -0.9999958987811131, -0.0028639868983469344 L -0.9993230302896265, 0.036789687858939636 L -0.9970783599074731, 0.07638549734225517 L -1.0967861958982204 ,0.08402404707648069\", \"type\": \"path\"}, {\"fillcolor\": \"#af4624\", \"layer\": \"below\", \"line\": {\"color\": \"rgb(150,150,150)\", \"width\": 0.45}, \"path\": \"M -1.0929094175409237, -0.12469564968497909 L -1.0865712184204037, -0.1713563167799765 L -1.0782418186141907, -0.2177029641313205 L -1.0679364821991575, -0.26365065899422446 L -1.055674094263173, -0.3091151997259745 L -0.95970372205743, -0.2810138179327041 L -0.9708513474537794, -0.23968241726747674 L -0.9802198351038096, -0.19791178557392772 L -0.9877920167458214, -0.15577846979997864 L -0.9935540159462942, -0.11335968153179916 L -1.0929094175409237 ,-0.12469564968497909\", \"type\": \"path\"}, {\"fillcolor\": \"#9f4021\", \"layer\": \"below\", \"line\": {\"color\": \"rgb(150,150,150)\", \"width\": 0.45}, \"path\": \"M -1.0454436397582132, -0.3421221946747966 L -1.032875726941398, -0.37837512166536386 L -1.0190510970289908, -0.4141676733449998 L -1.0039865706784028, -0.4494563003200873 L -0.9877004771496871, -0.4841980663305882 L -0.8979095246815336, -0.4401800603005347 L -0.9127150642530935, -0.4085966366546248 L -0.9264100882081734, -0.37651606667727255 L -0.938977933583089, -0.34397738333214894 L -0.9504033088711029, -0.3110201769770878 L -1.0454436397582132 ,-0.3421221946747966\", \"type\": \"path\"}, {\"fillcolor\": \"#8f391e\", \"layer\": \"below\", \"line\": {\"color\": \"rgb(150,150,150)\", \"width\": 0.45}, \"path\": \"M -0.97200407777987, -0.5149835655429256 L -0.9605287885557044, -0.5360824995797856 L -0.948595583282531, -0.5569258652431891 L -0.9362101509165539, -0.5775037258068587 L -0.9233783960056865, -0.5978062711196378 L -0.9101064358746568, -0.617823822282315 L -0.8964005977086763, -0.6375468362618765 L -0.8822674155370591, -0.6569659104409897 L -0.8677136271182322, -0.6760717871005429 L -0.8527461707276233, -0.6948553578331071 L -0.8373721818499524, -0.7133076678852193 L -0.8215989897775097, -0.7314199204264099 L -0.8054341141160375, -0.7491834807429447 L -0.788885261199884, -0.7665898803542811 L -0.7719603204181364, -0.7836308210502752 L -0.7546673604534887, -0.8002981788472121 L -0.7370146254356293, -0.8165840078607828 L -0.7190105310109914, -0.8324805440941502 L -0.7006636603307346, -0.8479802091393037 L -0.6369669639370313, -0.7708910992175487 L -0.6536459372827195, -0.7568004946310456 L -0.6700132958505721, -0.7423490980552571 L -0.6860612367758988, -0.7275437989520109 L -0.701782109471033, -0.7123916555002501 L -0.7171684192726218, -0.6968998912311646 L -0.7322128310145795, -0.6810758915844951 L -0.7469081725250087, -0.6649272003876453 L -0.7612474380454113, -0.6484615162592902 L -0.7752237915705665, -0.6316866889391882 L -0.7888305701074837, -0.614610715545948 L -0.8020612868518718, -0.5972417367645361 L -0.8149096342806148, -0.5795880329653422 L -0.8273694871587788, -0.56165802025665 L -0.8394349054597149, -0.543460246472398 L -0.8511001371968672, -0.5250033870971442 L -0.8623596211659372, -0.5062962411301719 L -0.8732079895960949, -0.48734772689071415 L -0.8836400707089727, -0.4681668777662959 L -0.97200407777987 ,-0.5149835655429256\", \"type\": \"path\"}, {\"fillcolor\": \"#f0f3e7\", \"layer\": \"below\", \"line\": {\"color\": \"rgb(150,150,150)\", \"width\": 0.45}, \"path\": \"M -0.6736822230581404, -0.8695701595244872 L -0.6548093866721585, -0.8838691459294368 L -0.6356331489754531, -0.8977585977998482 L -0.6161623951425063, -0.9112320795561636 L -0.5964061468097709, -0.9242833483556447 L -0.5763735578955661, -0.936906356984948 L -0.556073910358668, -0.9490952566620593 L -0.5355166098975817, -0.9608443997462864 L -0.5147111815924799, -0.972148342355051 L -0.493667265491819, -0.9830018468862761 L -0.47239461214569384, -0.9933998844451913 L -0.4509030780879907, -1.0033376371744338 L -0.4292026212694273, -1.0128105004863708 L -0.40730329644360896, -1.0218140851966027 L -0.38521525050823224, -1.0303442195576584 L -0.36294871780358495, -1.0383969511919484 L -0.3405140153705443, -1.0459685489230683 L -0.31792153817024216, -1.0530555045046142 L -0.29518175426763604, -1.0596545342457047 L -0.27230519998120756, -1.0657625805324535 L -0.2493024750010275, -1.071376813244697 L -0.22618423747747124, -1.0764946310673058 L -0.20296119908283372, -1.0811136626954905 L -0.17964412004815417, -1.085231767933525 L -0.15624380417754194, -1.0888470386863942 L -0.14203982197958356, -0.9898609442603583 L -0.16331283640741287, -0.9865743344850227 L -0.18451018098439428, -0.9828306024504457 L -0.2056220340704284, -0.9786314827884598 L -0.2266386136372977, -0.9739789211315426 L -0.24755018180109775, -0.9688750732113214 L -0.26834704933421455, -0.9633223038597314 L -0.2890195801547656, -0.9573231859132855 L -0.3095581957914039, -0.950880499020971 L -0.32995337982144085, -0.9439972283563167 L -0.3501956822802111, -0.9366765632342348 L -0.3702757240396445, -0.928921895633275 L -0.3901842011540248, -0.9207368186239733 L -0.4099118891709006, -0.9121251247040306 L -0.42944964740517616, -0.903090804041083 L -0.4487884231743809, -0.8936380426238874 L -0.4679192559931635, -0.8837712203227736 L -0.48683328172507423, -0.8734949088602604 L -0.5055217366896981, -0.8628138696927811 L -0.5239759617232419, -0.8517330518044981 L -0.5421874061907007, -0.8402575894142225 L -0.5601476319477329, -0.8283927995965122 L -0.5778483172504119, -0.8161441798180438 L -0.5952812606110531, -0.803517405390397 L -0.6124383845983095, -0.7905183268404429 L -0.6736822230581404 ,-0.8695701595244872\", \"type\": \"path\"}, {\"fillcolor\": \"#e2ecde\", \"layer\": \"below\", \"line\": {\"color\": \"rgb(150,150,150)\", \"width\": 0.45}, \"path\": \"M -0.12196519528684029, -1.0932174948923215 L -0.10631802112096117, -1.0948499798533693 L -0.09064910016914728, -1.096258519072269 L -0.07496163742586692, -1.0974428244398124 L -0.059258841678216226, -1.098402653712634 L -0.053871674252923836, -0.9985478670114852 L -0.06814694311442447, -0.997675294945284 L -0.08240827288104297, -0.9965986537020626 L -0.09665274647360106, -0.9953181635030629 L -0.11087745026076389, -0.9938340862657468 L -0.12196519528684029 ,-1.0932174948923215\", \"type\": \"path\"}, {\"fillcolor\": \"#d4e5d6\", \"layer\": \"below\", \"line\": {\"color\": \"rgb(150,150,150)\", \"width\": 0.45}, \"path\": \"M -0.024727939890507224, -1.0997220235081098 L -0.0018490014275861209, -1.0999984459960481 L 0.021030737029846647, -1.0997989398521812 L 0.04390137626542424, -1.0991235913954363 L 0.06675302099967645, -1.0979726928241054 L 0.08957578417135112, -1.096346742089421 L 0.11235979121517867, -1.0942464426801128 L 0.13509518433423517, -1.0916727033180316 L 0.15777212676504052, -1.0886266375649807 L 0.18038080703356588, -1.085109563340919 L 0.2029114432002946, -1.0811230023537441 L 0.2253542870925056, -1.076668679440908 L 0.2476996285219469, -1.071748521823142 L 0.2699377994860751, -1.0663646582706197 L 0.292059178351042, -1.0605194181819182 L 0.3140541940146201, -1.054215330576172 L 0.33591333004726304, -1.047455122998861 L 0.3576271288095167, -1.040241720341701 L 0.379186195543984, -1.0325782435771536 L 0.4005812024400927, -1.0244680084080955 L 0.4218028926698932, -1.015914523833236 L 0.44284208439314515, -1.0069214906289043 L 0.4636896747299604, -0.9974927997478598 L 0.4843366436992822, -0.9876325306358205 L 0.504774058121497, -0.9773449494664388 L 0.5249930754834913, -0.9666345072954852 L 0.5449849477644797, -0.9555058381350412 L 0.5647410252209497, -0.943963756948534 L 0.5842527601290852, -0.93201325756748 L 0.6035117104830534, -0.9196595105308374 L 0.6225095436475435, -0.9069078608479073 L 0.6412380399629932, -0.8937638256857451 L 0.6596890963019301, -0.8802330919820858 L 0.5997173602744819, -0.800211901801896 L 0.5829436726936301, -0.8125125688052227 L 0.5659177669523122, -0.8244616916799157 L 0.5486470095300485, -0.8360541004825793 L 0.5311388728446229, -0.8472847796067999 L 0.5134009320190451, -0.8581488699532126 L 0.4954408616040724, -0.8686416710318555 L 0.4772664322577193, -0.8787586429958956 L 0.458885507383179, -0.8884954086058534 L 0.44030603972662014, -0.897847755123473 L 0.42153606793632764, -0.9068116361344178 L 0.4025837130846774, -0.9153831732990039 L 0.3834571751544483, -0.9235586580302145 L 0.3641647294909933, -0.9313345530982686 L 0.3447147232218036, -0.9387074941610487 L 0.32511557164501514, -0.945674291219728 L 0.3053757545884209, -0.9522319299989643 L 0.2855038127405637, -0.9583775732510653 L 0.2655083439554927, -0.964108561983562 L 0.2453979995327955, -0.9694224166096542 L 0.22518148047449718, -0.974316838021038 L 0.20486753372045963, -0.9787897085826436 L 0.18446494836390417, -0.9828390930488582 L 0.16398255184869623, -0.9864632394008352 L 0.14342920615003682, -0.9896605796045279 L 0.1228138039402138, -0.9924297302891196 L 0.10214526474107151, -0.9947694933455571 L 0.08143253106486464, -0.9966788564449283 L 0.060684564545160406, -0.9981569934764593 L 0.03991034205947658, -0.9992032649049419 L 0.019118851845315133, -0.9998172180474374 L -0.0016809103887146552, -0.9999985872691346 L -0.022479945355006567, -0.9997472940982816 L -0.024727939890507224 ,-1.0997220235081098\", \"type\": \"path\"}, {\"fillcolor\": \"#c6decd\", \"layer\": \"below\", \"line\": {\"color\": \"rgb(150,150,150)\", \"width\": 0.45}, \"path\": \"M 0.687012369140365, -0.8590774148166991 L 0.7056094036884986, -0.8438692845615142 L 0.723869881841708, -0.8282586517281132 L 0.7417850938511386, -0.812252962161578 L 0.7593464946504437, -0.7958598501382538 L 0.7765457079315545, -0.7790871347244037 L 0.793374530139943, -0.7619428160467325 L 0.8098249343875, -0.7444350714765401 L 0.8258890742811352, -0.7265722517293443 L 0.8415592876652979, -0.7083628768818117 L 0.8568281002766098, -0.6898156323079205 L 0.8716882293088903, -0.6709393645362685 L 0.8861325868868506, -0.6517430770305261 L 0.900154283446821, -0.6322359258950256 L 0.91374663102288, -0.6124272155075549 L 0.9269031464368358, -0.5923263940814169 L 0.9396175543905204, -0.5719430491588979 L 0.9518837904589399, -0.5512869030382649 L 0.9636960039828347, -0.530367808136501 L 0.975048560859289, -0.5091957422899659 L 0.8864077825993536, -0.46290522026360537 L 0.8760872763480315, -0.48215255285136444 L 0.865348900417218, -0.501169911852968 L 0.8541977767186548, -0.519948226508089 L 0.842639224033487, -0.5384785400740153 L 0.8306787554753454, -0.5567520140977771 L 0.8183220758607463, -0.5747599326318414 L 0.8055750789880459, -0.5924937063913873 L 0.7924438448262638, -0.6099448768511531 L 0.7789346366150998, -0.6271051202799277 L 0.7650538978775434, -0.6439662517107378 L 0.7508082493464865, -0.6605202288448584 L 0.7362044858068182, -0.6767591558877637 L 0.7212495728544935, -0.6926752873152113 L 0.7059506435741404, -0.7082610315676396 L 0.690314995136767, -0.7235089546711397 L 0.6743500853192168, -0.7384117837832527 L 0.6580635289470071, -0.752962410661921 L 0.6414630942622713, -0.7671538950559219 L 0.6245566992185136, -0.7809794680151809 L 0.687012369140365 ,-0.8590774148166991\", \"type\": \"path\"}, {\"fillcolor\": \"#b8d7c5\", \"layer\": \"below\", \"line\": {\"color\": \"rgb(150,150,150)\", \"width\": 0.45}, \"path\": \"M 0.9905616580387034, -0.47831746949449266 L 1.0070258613681717, -0.44260469330508934 L 1.022203008767937, -0.4063262345280911 L 1.0360737026849602, -0.3695284598034051 L 1.0486202153134927, -0.3322583994963629 L 0.9532911048304478, -0.30205309045123896 L 0.9418851842590547, -0.33593496345764096 L 0.9292754625163062, -0.3693874859346282 L 0.9154780557892469, -0.40236790300462666 L 0.9005105982170031, -0.4348340631768115 L 0.9905616580387034 ,-0.47831746949449266\", \"type\": \"path\"}, {\"fillcolor\": \"#aad0bc\", \"layer\": \"below\", \"line\": {\"color\": \"rgb(150,150,150)\", \"width\": 0.45}, \"path\": \"M 1.0585392730762266, -0.2991564930855658 L 1.067843066632214, -0.26402875798955905 L 1.0759814830297332, -0.22861287841487887 L 1.0829456405099636, -0.19294750503819685 L 1.0887279388268496, -0.15707156081811818 L 0.9897526716607723, -0.14279232801647107 L 0.9844960368272395, -0.17540682276199712 L 0.9781649845724847, -0.20782988946807168 L 0.9707664242111036, -0.24002614362687186 L 0.9623084300692968, -0.27196044825960525 L 1.0585392730762266 ,-0.2991564930855658\", \"type\": \"path\"}, {\"fillcolor\": \"#9cc9b4\", \"layer\": \"below\", \"line\": {\"color\": \"rgb(150,150,150)\", \"width\": 0.45}, \"path\": \"M 1.0931244542657805, -0.12279628449647693 L 1.095372949934572, -0.10078740274277417 L 1.097178365788702, -0.07873775235065557 L 1.0985399715350581, -0.05665625243302011 L 1.0994572164023046, -0.03455183498594511 L 0.9995065603657315, -0.031410759078131914 L 0.9986727013955072, -0.051505684030018276 L 0.9974348779897291, -0.07157977486423232 L 0.9957935908496107, -0.09162491158434015 L 0.9937495038779822, -0.11163298590588812 L 1.0931244542657805 ,-0.12279628449647693\", \"type\": \"path\"}], \"showlegend\": false, \"title\": \"Data Jobs \\u2012 Technologies in Demand and Relationships Between Them\", \"titlefont\": {\"color\": \"#655643\", \"family\": \"Merryweather\", \"size\": 18}, \"width\": 960, \"xaxis\": {\"showgrid\": false, \"showline\": false, \"showticklabels\": false, \"title\": \"\", \"zeroline\": false}, \"yaxis\": {\"showgrid\": false, \"showline\": false, \"showticklabels\": false, \"title\": \"\", \"zeroline\": false}}, {\"showLink\": true, \"linkText\": \"Export to plot.ly\", \"plotlyServerURL\": \"https://plot.ly\"})});</script>"
      ],
      "text/vnd.plotly.v1+html": [
       "<div id=\"3041602a-d836-45cd-b3b1-e0ffa3e21ec0\" style=\"height: 525px; width: 960px;\" class=\"plotly-graph-div\"></div><script type=\"text/javascript\">require([\"plotly\"], function(Plotly) { window.PLOTLYENV=window.PLOTLYENV || {};window.PLOTLYENV.BASE_URL=\"https://plot.ly\";Plotly.newPlot(\"3041602a-d836-45cd-b3b1-e0ffa3e21ec0\", [{\"hoverinfo\": \"text\", \"line\": {\"color\": \"#f2e6ce\", \"shape\": \"spline\", \"width\": 0.25}, \"mode\": \"lines\", \"text\": \"Power BI<br>1440\", \"x\": [1.1, 1.099742350281155, 1.0989695218216695, 1.097681876656154, 1.0958800179871802, 1.093564789902711, 1.0907372769806831, 1.0873988037809315, 1.083550934224695, 1.0791954708619902, 1.0743344540272008, 1.0689701608832738, 1.0631051043549733, 1.056742031951691], \"y\": [0.0, 0.02380678470692216, 0.04760241702950552, 0.07137574980779067, 0.09511564632812977, 0.11881098554022483, 0.14245066726682867, 0.1660236174036678, 0.1895187931071511, 0.2129251879674345, 0.2362318371644182, 0.2594278226042606, 0.2825022780340037, 0.3054443941319131], \"type\": \"scatter\", \"uid\": \"fe7ef702-b249-470a-a692-e6d280f8d387\"}, {\"hoverinfo\": \"text\", \"line\": {\"color\": \"#ecd5bb\", \"shape\": \"spline\", \"width\": 0.25}, \"mode\": \"lines\", \"text\": \"Excel<br>4429\", \"x\": [1.0466263532740863, 1.0394028887396138, 1.031734894972929, 1.02362565140246, 1.0150786261692493, 1.0060974746437081, 0.9966860378622959, 0.9868483408847966, 0.97658859107289, 0.9659111762907586, 0.9548206630284963, 0.9433217944491238, 0.9314194883600438, 0.9191188351098065, 0.9064250954110806, 0.8933436980907661, 0.8798802377682063, 0.8660404724624959, 0.8518303211299048, 0.8372558611324741, 0.822323325638865, 0.8070391009585732, 0.7914097238106473, 0.7754418785280814, 0.7591423941990768, 0.7425182417463934, 0.7255765309460441, 0.7083245073866031, 0.6907695493704303, 0.6729191647581376, 0.6547809877576467, 0.6363627756592078, 0.617672405517784, 0.59871787078421, 0.5795072778865739, 0.5600488427632797, 0.5403508873492765, 0.5204218360169521, 0.5002702119732207, 0.4799046336143377, 0.459333810840005, 0.4385665413283446, 0.4176117067733282, 0.3964782690862771, 0.37517526656305394, 0.35371181001858737], \"y\": [0.3384867451351496, 0.36005782157834887, 0.3814749093914294, 0.4027288489677511, 0.42381055047550376, 0.4447109977452249, 0.4654212521258115, 0.48593245630738074, 0.5062358381093419, 0.5263227142320606, 0.5461844939705106, 0.5658126828883258, 0.5851988864506786, 0.6043348136144338, 0.6232122803740421, 0.6418232132616538, 0.6601596527999608, 0.6782137569062847, 0.6959778042464597, 0.713444197537074, 0.7306054667946561, 0.7474542725304191, 0.7639834088891951, 0.7801858067312173, 0.7960545366554316, 0.8115828119630459, 0.8267639915600489, 0.8415915827974555, 0.8560592442480677, 0.8701607884185604, 0.8838901843957319, 0.8972415604257913, 0.9102092064255746, 0.9227875764246192, 0.9349712909370498, 0.9467551392622653, 0.9581340817134363, 0.969103251772867, 0.9796579581732947, 0.9897936869042399, 0.9995061031425465, 1.008791053106288, 1.0176445658312474, 1.0260628548692081, 1.034042319907334, 1.0415795483079413], \"type\": \"scatter\", \"uid\": \"04c929f9-eb39-48a2-a65d-2e14dc1fc3f8\"}, {\"hoverinfo\": \"text\", \"line\": {\"color\": \"#e6c4a9\", \"shape\": \"spline\", \"width\": 0.25}, \"mode\": \"lines\", \"text\": \"SSIS/SSRS<br>2548\", \"x\": [0.32082047033980887, 0.29878058222468823, 0.27661041319010765, 0.2543196303636456, 0.23191795346557498, 0.2094151505706545, 0.18682103384883805, 0.16414545528675356, 0.14139830239182347, 0.11858949388089429, 0.09572897535525755, 0.07282671496395005, 0.049892699057220345, 0.02693692783205866, 0.003969410971691418, -0.01899983671906423, -0.0419607996806752, -0.06490346596610025, -0.08781783160641893, -0.11069390497298424, -0.13352171113419417, -0.15629129620498078, -0.1789927316871239, -0.20161611879849556, -0.224151592789344, -0.24658932724374225], \"y\": [1.0521759481241453, 1.0586454381356756, 1.064653314142589, 1.070196956457875, 1.0752739478199682, 1.0798820744467752, 1.084019327000977, 1.0876839014661863, 1.0908741999335718, 1.0935888312986164, 1.0958266118676954, 1.0975865658742183, 1.0988679259041032, 1.0996701332304022, 1.0999928380569293, 1.0998358996707869, 1.0991993865037217, 1.0980835761022871, 1.0964889550068193, 1.094416218539287, 1.0918662705000997, 1.0888402227740153, 1.085339394845309, 1.081365313222424, 1.0769197107723492, 1.072004525965016], \"type\": \"scatter\", \"uid\": \"cda4a64c-e635-44ba-9fcf-4aa0350ad788\"}, {\"hoverinfo\": \"text\", \"line\": {\"color\": \"#e1b396\", \"shape\": \"spline\", \"width\": 0.25}, \"mode\": \"lines\", \"text\": \"MS SQL Server<br>1915\", \"x\": [-0.28014012619204287, -0.30280002037181664, -0.3253217153838939, -0.34769493223456177, -0.36990945969614664, -0.39195515896746214, -0.4138219683011974, -0.4354999075961411, -0.45697908295214035, -0.47824969118571636, -0.4993020243042788, -0.5201264739368913, -0.5407135357195735, -0.5610538136331309, -0.5811380242915346, -0.6009570011788999, -0.620501698833119, -0.639763196974249, -0.6587327045757607], \"y\": [1.0637299984944988, 1.0575027884893862, 1.0507929298866077, 1.043603485093071, 1.0359377354007842, 1.0277991794892578, 1.0191915318286957, 1.0101187209846934, 1.0005848878252264, 0.9905943836307408, 0.9801517681082096, 0.9692618073100665, 0.9579294714589575, 0.946159932679312, 0.9339585626367649, 0.9213309300865048, 0.9082827983316722, 0.8948201225929648, 0.8809490472906499], \"type\": \"scatter\", \"uid\": \"cbcd15dd-d3fa-4e59-9c36-18c8e32719ff\"}, {\"hoverinfo\": \"text\", \"line\": {\"color\": \"#dba284\", \"shape\": \"spline\", \"width\": 0.25}, \"mode\": \"lines\", \"text\": \"PostgreSQL<br>618\", \"x\": [-0.6860789380354873, -0.7079523344737332, -0.7293579477821562, -0.7502816340921633, -0.7707095679708931], \"y\": [0.8598230578346328, 0.8419046811327228, 0.8234300116020801, 0.8044112564751897, 0.7848609824918803], \"type\": \"scatter\", \"uid\": \"23079529-a02b-4e40-9803-4e9fa6fcd726\"}, {\"hoverinfo\": \"text\", \"line\": {\"color\": \"#d59171\", \"shape\": \"spline\", \"width\": 0.25}, \"mode\": \"lines\", \"text\": \"MySQL/MariaDB<br>870\", \"x\": [-0.7949823485544216, -0.8243051291768441, -0.8523490762616743, -0.8790706822062189, -0.9044284908983533], \"y\": [0.760265128416986, 0.7283687623812175, 0.6953423992508085, 0.6612372763883575, 0.6261063047528967], \"type\": \"scatter\", \"uid\": \"7787e921-de09-4ee0-bcd8-548fd234cef4\"}, {\"hoverinfo\": \"text\", \"line\": {\"color\": \"#d0805f\", \"shape\": \"spline\", \"width\": 0.25}, \"mode\": \"lines\", \"text\": \"T-SQL<br>1277\", \"x\": [-0.9236486843304729, -0.9586145198843733, -0.9899567003815352, -1.0175567493661026, -1.0413103359991474], \"y\": [0.5973885736558632, 0.5394981021902234, 0.47956827602511776, 0.4178256356657529, 0.35450357422929213], \"type\": \"scatter\", \"uid\": \"44354c88-6ae2-4204-9553-fcc7d142481e\"}, {\"hoverinfo\": \"text\", \"line\": {\"color\": \"#ca6f4c\", \"shape\": \"spline\", \"width\": 0.25}, \"mode\": \"lines\", \"text\": \"PL/SQL<br>430\", \"x\": [-1.0519317385702436, -1.0567892917894934, -1.061393063874805, -1.0657419492599982, -1.0698349035882908], \"y\": [0.32162030002564373, 0.3052808424370271, 0.28886807362263844, 0.27238593500307506, 0.25583838465764447], \"type\": \"scatter\", \"uid\": \"51c961b4-715b-4e1f-a9c8-6ed60354f955\"}, {\"hoverinfo\": \"text\", \"line\": {\"color\": \"#c45e3a\", \"shape\": \"spline\", \"width\": 0.25}, \"mode\": \"lines\", \"text\": \"Pentaho<br>584\", \"x\": [-1.0773430825081554, -1.0823353291060045, -1.086711456107208, -1.0904689724006191, -1.093605739019357], \"y\": [0.22210781744870295, 0.19634213854646004, 0.17046469184365412, 0.14449020808185536, 0.11843347324099715], \"type\": \"scatter\", \"uid\": \"09e9a344-a2fe-4aeb-8cd4-5ba51936c868\"}, {\"hoverinfo\": \"text\", \"line\": {\"color\": \"#bf4d28\", \"shape\": \"spline\", \"width\": 0.25}, \"mode\": \"lines\", \"text\": \"Hadoop<br>875\", \"x\": [-1.0967861958982204, -1.0992553333185893, -1.0999954886592245, -1.0990054977544572, -1.0962869177279893], \"y\": [0.08402404707648069, 0.0404686566448336, -0.003150385588181628, -0.046764472684695704, -0.09030500550060838], \"type\": \"scatter\", \"uid\": \"457cabdc-217f-439f-8f27-be6fc750e2b0\"}, {\"hoverinfo\": \"text\", \"line\": {\"color\": \"#af4624\", \"shape\": \"spline\", \"width\": 0.25}, \"mode\": \"lines\", \"text\": \"Spark<br>933\", \"x\": [-1.0929094175409237, -1.0865712184204037, -1.0782418186141907, -1.0679364821991575, -1.055674094263173], \"y\": [-0.12469564968497909, -0.1713563167799765, -0.2177029641313205, -0.26365065899422446, -0.3091151997259745], \"type\": \"scatter\", \"uid\": \"d7507439-c51f-40d0-bc3a-0bf69cceb7a9\"}, {\"hoverinfo\": \"text\", \"line\": {\"color\": \"#9f4021\", \"shape\": \"spline\", \"width\": 0.25}, \"mode\": \"lines\", \"text\": \"Informatica<br>787\", \"x\": [-1.0454436397582132, -1.032875726941398, -1.0190510970289908, -1.0039865706784028, -0.9877004771496871], \"y\": [-0.3421221946747966, -0.37837512166536386, -0.4141676733449998, -0.4494563003200873, -0.4841980663305882], \"type\": \"scatter\", \"uid\": \"eaf58477-533d-4f28-aa97-fad3b1ef5159\"}, {\"hoverinfo\": \"text\", \"line\": {\"color\": \"#8f391e\", \"shape\": \"spline\", \"width\": 0.25}, \"mode\": \"lines\", \"text\": \"Qlik<br>1954\", \"x\": [-0.97200407777987, -0.9605287885557044, -0.948595583282531, -0.9362101509165539, -0.9233783960056865, -0.9101064358746568, -0.8964005977086763, -0.8822674155370591, -0.8677136271182322, -0.8527461707276233, -0.8373721818499524, -0.8215989897775097, -0.8054341141160375, -0.788885261199884, -0.7719603204181364, -0.7546673604534887, -0.7370146254356293, -0.7190105310109914, -0.7006636603307346], \"y\": [-0.5149835655429256, -0.5360824995797856, -0.5569258652431891, -0.5775037258068587, -0.5978062711196378, -0.617823822282315, -0.6375468362618765, -0.6569659104409897, -0.6760717871005429, -0.6948553578331071, -0.7133076678852193, -0.7314199204264099, -0.7491834807429447, -0.7665898803542811, -0.7836308210502752, -0.8002981788472121, -0.8165840078607828, -0.8324805440941502, -0.8479802091393037], \"type\": \"scatter\", \"uid\": \"96d08f93-2cf8-417b-89fb-0f1279b5a9ae\"}, {\"hoverinfo\": \"text\", \"line\": {\"color\": \"#f0f3e7\", \"shape\": \"spline\", \"width\": 0.25}, \"mode\": \"lines\", \"text\": \"Tableau<br>2523\", \"x\": [-0.6736822230581404, -0.6548093866721585, -0.6356331489754531, -0.6161623951425063, -0.5964061468097709, -0.5763735578955661, -0.556073910358668, -0.5355166098975817, -0.5147111815924799, -0.493667265491819, -0.47239461214569384, -0.4509030780879907, -0.4292026212694273, -0.40730329644360896, -0.38521525050823224, -0.36294871780358495, -0.3405140153705443, -0.31792153817024216, -0.29518175426763604, -0.27230519998120756, -0.2493024750010275, -0.22618423747747124, -0.20296119908283372, -0.17964412004815417, -0.15624380417754194], \"y\": [-0.8695701595244872, -0.8838691459294368, -0.8977585977998482, -0.9112320795561636, -0.9242833483556447, -0.936906356984948, -0.9490952566620593, -0.9608443997462864, -0.972148342355051, -0.9830018468862761, -0.9933998844451913, -1.0033376371744338, -1.0128105004863708, -1.0218140851966027, -1.0303442195576584, -1.0383969511919484, -1.0459685489230683, -1.0530555045046142, -1.0596545342457047, -1.0657625805324535, -1.071376813244697, -1.0764946310673058, -1.0811136626954905, -1.085231767933525, -1.0888470386863942], \"type\": \"scatter\", \"uid\": \"bf4eafc5-ec41-4c7c-8ba9-a6e416ac1e23\"}, {\"hoverinfo\": \"text\", \"line\": {\"color\": \"#e2ecde\", \"shape\": \"spline\", \"width\": 0.25}, \"mode\": \"lines\", \"text\": \"Microstrategy<br>408\", \"x\": [-0.12196519528684029, -0.10631802112096117, -0.09064910016914728, -0.07496163742586692, -0.059258841678216226], \"y\": [-1.0932174948923215, -1.0948499798533693, -1.096258519072269, -1.0974428244398124, -1.098402653712634], \"type\": \"scatter\", \"uid\": \"32449b0f-2111-4712-b030-9252582034ad\"}, {\"hoverinfo\": \"text\", \"line\": {\"color\": \"#d4e5d6\", \"shape\": \"spline\", \"width\": 0.25}, \"mode\": \"lines\", \"text\": \"Oracle BI<br>3209\", \"x\": [-0.024727939890507224, -0.0018490014275861209, 0.021030737029846647, 0.04390137626542424, 0.06675302099967645, 0.08957578417135112, 0.11235979121517867, 0.13509518433423517, 0.15777212676504052, 0.18038080703356588, 0.2029114432002946, 0.2253542870925056, 0.2476996285219469, 0.2699377994860751, 0.292059178351042, 0.3140541940146201, 0.33591333004726304, 0.3576271288095167, 0.379186195543984, 0.4005812024400927, 0.4218028926698932, 0.44284208439314515, 0.4636896747299604, 0.4843366436992822, 0.504774058121497, 0.5249930754834913, 0.5449849477644797, 0.5647410252209497, 0.5842527601290852, 0.6035117104830534, 0.6225095436475435, 0.6412380399629932, 0.6596890963019301], \"y\": [-1.0997220235081098, -1.0999984459960481, -1.0997989398521812, -1.0991235913954363, -1.0979726928241054, -1.096346742089421, -1.0942464426801128, -1.0916727033180316, -1.0886266375649807, -1.085109563340919, -1.0811230023537441, -1.076668679440908, -1.071748521823142, -1.0663646582706197, -1.0605194181819182, -1.054215330576172, -1.047455122998861, -1.040241720341701, -1.0325782435771536, -1.0244680084080955, -1.015914523833236, -1.0069214906289043, -0.9974927997478598, -0.9876325306358205, -0.9773449494664388, -0.9666345072954852, -0.9555058381350412, -0.943963756948534, -0.93201325756748, -0.9196595105308374, -0.9069078608479073, -0.8937638256857451, -0.8802330919820858], \"type\": \"scatter\", \"uid\": \"82294762-39ad-4d60-b82c-7ad1c6850998\"}, {\"hoverinfo\": \"text\", \"line\": {\"color\": \"#c6decd\", \"shape\": \"spline\", \"width\": 0.25}, \"mode\": \"lines\", \"text\": \"Python<br>2055\", \"x\": [0.687012369140365, 0.7056094036884986, 0.723869881841708, 0.7417850938511386, 0.7593464946504437, 0.7765457079315545, 0.793374530139943, 0.8098249343875, 0.8258890742811352, 0.8415592876652979, 0.8568281002766098, 0.8716882293088903, 0.8861325868868506, 0.900154283446821, 0.91374663102288, 0.9269031464368358, 0.9396175543905204, 0.9518837904589399, 0.9636960039828347, 0.975048560859289], \"y\": [-0.8590774148166991, -0.8438692845615142, -0.8282586517281132, -0.812252962161578, -0.7958598501382538, -0.7790871347244037, -0.7619428160467325, -0.7444350714765401, -0.7265722517293443, -0.7083628768818117, -0.6898156323079205, -0.6709393645362685, -0.6517430770305261, -0.6322359258950256, -0.6124272155075549, -0.5923263940814169, -0.5719430491588979, -0.5512869030382649, -0.530367808136501, -0.5091957422899659], \"type\": \"scatter\", \"uid\": \"202cbc62-bc7b-4b05-a498-0fe25d571bb5\"}, {\"hoverinfo\": \"text\", \"line\": {\"color\": \"#b8d7c5\", \"shape\": \"spline\", \"width\": 0.25}, \"mode\": \"lines\", \"text\": \"VBA<br>803\", \"x\": [0.9905616580387034, 1.0070258613681717, 1.022203008767937, 1.0360737026849602, 1.0486202153134927], \"y\": [-0.47831746949449266, -0.44260469330508934, -0.4063262345280911, -0.3695284598034051, -0.3322583994963629], \"type\": \"scatter\", \"uid\": \"26ef417c-1a88-41fd-8379-bfd4bb9ee03c\"}, {\"hoverinfo\": \"text\", \"line\": {\"color\": \"#aad0bc\", \"shape\": \"spline\", \"width\": 0.25}, \"mode\": \"lines\", \"text\": \"Linux<br>753\", \"x\": [1.0585392730762266, 1.067843066632214, 1.0759814830297332, 1.0829456405099636, 1.0887279388268496], \"y\": [-0.2991564930855658, -0.26402875798955905, -0.22861287841487887, -0.19294750503819685, -0.15707156081811818], \"type\": \"scatter\", \"uid\": \"64522332-3e8d-45b1-85f3-cb48b3625fde\"}, {\"hoverinfo\": \"text\", \"line\": {\"color\": \"#9cc9b4\", \"shape\": \"spline\", \"width\": 0.25}, \"mode\": \"lines\", \"text\": \"AWS<br>515\", \"x\": [1.0931244542657805, 1.095372949934572, 1.097178365788702, 1.0985399715350581, 1.0994572164023046], \"y\": [-0.12279628449647693, -0.10078740274277417, -0.07873775235065557, -0.05665625243302011, -0.03455183498594511], \"type\": \"scatter\", \"uid\": \"b7d2e3e9-80be-4ad2-87c7-53c9e73b0df7\"}, {\"hoverinfo\": \"text\", \"marker\": {\"color\": \"green\", \"size\": 0.5}, \"mode\": \"markers\", \"text\": \"Power BI appears with Excel 241 times\", \"x\": [0.8702511773298579], \"y\": [0.22948396099944826], \"type\": \"scatter\", \"uid\": \"cb5b844f-72f1-4871-8917-813295845e5c\"}, {\"hoverinfo\": \"text\", \"marker\": {\"color\": \"blue\", \"size\": 0.5}, \"mode\": \"markers\", \"text\": \"Excel appears with Power BI 241 times\", \"x\": [0.7648310768101453], \"y\": [0.47437687964890707], \"type\": \"scatter\", \"uid\": \"249a061b-8f8e-4839-8b2a-452bb1312625\"}, {\"hoverinfo\": \"text\", \"marker\": {\"color\": \"green\", \"size\": 0.5}, \"mode\": \"markers\", \"text\": \"Power BI appears with SSIS/SSRS 137 times\", \"x\": [0.8972455077239729], \"y\": [0.07035978161670214], \"type\": \"scatter\", \"uid\": \"5016f87f-812c-4431-89c4-cd2e45e011d9\"}, {\"hoverinfo\": \"text\", \"marker\": {\"color\": \"blue\", \"size\": 0.5}, \"mode\": \"markers\", \"text\": \"SSIS/SSRS appears with Power BI 137 times\", \"x\": [0.12607929641557056], \"y\": [0.8911251376856982], \"type\": \"scatter\", \"uid\": \"b9927b5c-20f9-4463-9bdc-9fbd266efab2\"}, {\"hoverinfo\": \"text\", \"marker\": {\"color\": \"green\", \"size\": 0.5}, \"mode\": \"markers\", \"text\": \"Power BI appears with MS SQL Server 137 times\", \"x\": [0.8950407516351946], \"y\": [0.09435069110666816], \"type\": \"scatter\", \"uid\": \"91c631b9-e631-41f2-86e9-ca69c129520f\"}, {\"hoverinfo\": \"text\", \"marker\": {\"color\": \"blue\", \"size\": 0.5}, \"mode\": \"markers\", \"text\": \"MS SQL Server appears with Power BI 137 times\", \"x\": [-0.3831379007676499], \"y\": [0.8143742069806474], \"type\": \"scatter\", \"uid\": \"785bea59-b8ba-494f-ba20-a857372bb12f\"}, {\"hoverinfo\": \"text\", \"marker\": {\"color\": \"green\", \"size\": 0.5}, \"mode\": \"markers\", \"text\": \"Power BI appears with MySQL/MariaDB 5 times\", \"x\": [0.8999998926163453], \"y\": [0.00043964823102794515], \"type\": \"scatter\", \"uid\": \"7f42d90d-ea02-419b-ad85-64b5f0d50a82\"}, {\"hoverinfo\": \"text\", \"marker\": {\"color\": \"blue\", \"size\": 0.5}, \"mode\": \"markers\", \"text\": \"MySQL/MariaDB appears with Power BI 5 times\", \"x\": [-0.6516217938953706], \"y\": [0.6207970986728105], \"type\": \"scatter\", \"uid\": \"0a51a537-d37e-4439-a3f9-c84ab269b4b1\"}, {\"hoverinfo\": \"text\", \"marker\": {\"color\": \"green\", \"size\": 0.5}, \"mode\": \"markers\", \"text\": \"Power BI appears with T-SQL 52 times\", \"x\": [0.8991760893287561], \"y\": [0.038501433472597574], \"type\": \"scatter\", \"uid\": \"de2b6f8c-425b-4444-ba4b-08c52384e9cd\"}, {\"hoverinfo\": \"text\", \"marker\": {\"color\": \"blue\", \"size\": 0.5}, \"mode\": \"markers\", \"text\": \"T-SQL appears with Power BI 52 times\", \"x\": [-0.7864163322847076], \"y\": [0.4376635149471205], \"type\": \"scatter\", \"uid\": \"75b28315-9c33-496e-9968-01545acb36a9\"}, {\"hoverinfo\": \"text\", \"marker\": {\"color\": \"green\", \"size\": 0.5}, \"mode\": \"markers\", \"text\": \"Power BI appears with PL/SQL 11 times\", \"x\": [0.8999783472462457], \"y\": [0.006242955062792063], \"type\": \"scatter\", \"uid\": \"8ba4fbb3-3a73-411a-ba54-659f12073f78\"}, {\"hoverinfo\": \"text\", \"marker\": {\"color\": \"blue\", \"size\": 0.5}, \"mode\": \"markers\", \"text\": \"PL/SQL appears with Power BI 11 times\", \"x\": [-0.8622674397161014], \"y\": [0.25786597760355934], \"type\": \"scatter\", \"uid\": \"b8ae8607-63f1-40b8-87fe-b12b11b4fb84\"}, {\"hoverinfo\": \"text\", \"marker\": {\"color\": \"green\", \"size\": 0.5}, \"mode\": \"markers\", \"text\": \"Power BI appears with Pentaho 9 times\", \"x\": [0.8999958721753841], \"y\": [0.002725814973484977], \"type\": \"scatter\", \"uid\": \"3628793e-2260-4ff7-89d6-897c1cfd6073\"}, {\"hoverinfo\": \"text\", \"marker\": {\"color\": \"blue\", \"size\": 0.5}, \"mode\": \"markers\", \"text\": \"Pentaho appears with Power BI 9 times\", \"x\": [-0.8822121573188315], \"y\": [0.17804973877782912], \"type\": \"scatter\", \"uid\": \"d9026c70-57a4-4d91-9bc6-a99127ba4120\"}, {\"hoverinfo\": \"text\", \"marker\": {\"color\": \"green\", \"size\": 0.5}, \"mode\": \"markers\", \"text\": \"Power BI appears with Hadoop 27 times\", \"x\": [0.8999046407013358], \"y\": [0.013101055079638055], \"type\": \"scatter\", \"uid\": \"52ba18d1-3fc7-45b3-966c-be1f2f39610e\"}, {\"hoverinfo\": \"text\", \"marker\": {\"color\": \"blue\", \"size\": 0.5}, \"mode\": \"markers\", \"text\": \"Hadoop appears with Power BI 27 times\", \"x\": [-0.8982883832305837], \"y\": [0.055479550764079656], \"type\": \"scatter\", \"uid\": \"25e09cc8-4362-4053-aed6-4fe6934105f6\"}, {\"hoverinfo\": \"text\", \"marker\": {\"color\": \"green\", \"size\": 0.5}, \"mode\": \"markers\", \"text\": \"Power BI appears with Spark 34 times\", \"x\": [0.899682231802251], \"y\": [0.023914049831022268], \"type\": \"scatter\", \"uid\": \"e7b065cb-5543-417a-a675-57500cc8af85\"}, {\"hoverinfo\": \"text\", \"marker\": {\"color\": \"blue\", \"size\": 0.5}, \"mode\": \"markers\", \"text\": \"Spark appears with Power BI 34 times\", \"x\": [-0.8913507615135553], \"y\": [-0.12447417382415163], \"type\": \"scatter\", \"uid\": \"53d73ea7-b6ac-4b89-a482-f7fbadb2a905\"}, {\"hoverinfo\": \"text\", \"marker\": {\"color\": \"green\", \"size\": 0.5}, \"mode\": \"markers\", \"text\": \"Power BI appears with Informatica 20 times\", \"x\": [0.8999553115871741], \"y\": [0.008968675823805948], \"type\": \"scatter\", \"uid\": \"bd653d4d-5009-4b51-a740-b1414c5dcb79\"}, {\"hoverinfo\": \"text\", \"marker\": {\"color\": \"blue\", \"size\": 0.5}, \"mode\": \"markers\", \"text\": \"Informatica appears with Power BI 20 times\", \"x\": [-0.8506835517318364], \"y\": [-0.29383242641496876], \"type\": \"scatter\", \"uid\": \"c3180226-c599-4860-b43b-18a714044617\"}, {\"hoverinfo\": \"text\", \"marker\": {\"color\": \"green\", \"size\": 0.5}, \"mode\": \"markers\", \"text\": \"Power BI appears with Qlik 199 times\", \"x\": [0.8861957205091805], \"y\": [0.15702593719259997], \"type\": \"scatter\", \"uid\": \"aba80d31-1ce6-4c25-bcb6-ecc164d7d6a6\"}, {\"hoverinfo\": \"text\", \"marker\": {\"color\": \"blue\", \"size\": 0.5}, \"mode\": \"markers\", \"text\": \"Qlik appears with Power BI 199 times\", \"x\": [-0.7310856731541608], \"y\": [-0.5248940259792709], \"type\": \"scatter\", \"uid\": \"7b0b1fc4-a427-488b-bc40-c6adb5677863\"}, {\"hoverinfo\": \"text\", \"marker\": {\"color\": \"green\", \"size\": 0.5}, \"mode\": \"markers\", \"text\": \"Power BI appears with Tableau 202 times\", \"x\": [0.8793653885370478], \"y\": [0.1916155354951338], \"type\": \"scatter\", \"uid\": \"ace2870d-b862-46dc-8bbf-e58bd3e9e4df\"}, {\"hoverinfo\": \"text\", \"marker\": {\"color\": \"blue\", \"size\": 0.5}, \"mode\": \"markers\", \"text\": \"Tableau appears with Power BI 202 times\", \"x\": [-0.3696559606102129], \"y\": [-0.820581787992727], \"type\": \"scatter\", \"uid\": \"d8834305-4288-442b-8875-94b466aa5025\"}, {\"hoverinfo\": \"text\", \"marker\": {\"color\": \"green\", \"size\": 0.5}, \"mode\": \"markers\", \"text\": \"Power BI appears with Microstrategy 31 times\", \"x\": [0.8998159549804589], \"y\": [0.01820019677379677], \"type\": \"scatter\", \"uid\": \"5157c7cc-272f-43b3-a769-33c43bdc835c\"}, {\"hoverinfo\": \"text\", \"marker\": {\"color\": \"blue\", \"size\": 0.5}, \"mode\": \"markers\", \"text\": \"Microstrategy appears with Power BI 31 times\", \"x\": [-0.08127077678587391], \"y\": [-0.8963230783822431], \"type\": \"scatter\", \"uid\": \"d0c6fde9-4c44-436a-8cbf-dec9061c9b73\"}, {\"hoverinfo\": \"text\", \"marker\": {\"color\": \"green\", \"size\": 0.5}, \"mode\": \"markers\", \"text\": \"Power BI appears with Oracle BI 192 times\", \"x\": [0.8915462124871639], \"y\": [0.12306644952948269], \"type\": \"scatter\", \"uid\": \"98178c97-8ea3-41b1-aa16-25a12312083b\"}, {\"hoverinfo\": \"text\", \"marker\": {\"color\": \"blue\", \"size\": 0.5}, \"mode\": \"markers\", \"text\": \"Oracle BI appears with Power BI 192 times\", \"x\": [0.22164421989753594], \"y\": [-0.872280826217115], \"type\": \"scatter\", \"uid\": \"ec245672-caf1-46fc-af1c-861d2dd14ec2\"}, {\"hoverinfo\": \"text\", \"marker\": {\"color\": \"green\", \"size\": 0.5}, \"mode\": \"markers\", \"text\": \"Power BI appears with Python 87 times\", \"x\": [0.8985703333287552], \"y\": [0.05070854032063762], \"type\": \"scatter\", \"uid\": \"d3a6c1fa-4ddc-46b3-934f-182a7ab54e70\"}, {\"hoverinfo\": \"text\", \"marker\": {\"color\": \"blue\", \"size\": 0.5}, \"mode\": \"markers\", \"text\": \"Python appears with Power BI 87 times\", \"x\": [0.6179710281043428], \"y\": [-0.6543025358529964], \"type\": \"scatter\", \"uid\": \"04a2b376-e7a8-4f7e-855b-c016d03f7fd0\"}, {\"hoverinfo\": \"text\", \"marker\": {\"color\": \"green\", \"size\": 0.5}, \"mode\": \"markers\", \"text\": \"Power BI appears with VBA 40 times\", \"x\": [0.8994858272907491], \"y\": [0.030417864867156082], \"type\": \"scatter\", \"uid\": \"eb49461f-e7fe-4957-8841-cc57c509d680\"}, {\"hoverinfo\": \"text\", \"marker\": {\"color\": \"blue\", \"size\": 0.5}, \"mode\": \"markers\", \"text\": \"VBA appears with Power BI 40 times\", \"x\": [0.8222609004560635], \"y\": [-0.3659057413886584], \"type\": \"scatter\", \"uid\": \"081e72f9-cae7-4672-a4a3-3a65693a78e0\"}, {\"hoverinfo\": \"text\", \"marker\": {\"color\": \"green\", \"size\": 0.5}, \"mode\": \"markers\", \"text\": \"Power BI appears with Linux 10 times\", \"x\": [0.8999892616556641], \"y\": [0.004396464999586865], \"type\": \"scatter\", \"uid\": \"c497b482-1971-4c47-92b3-d95d765e80b2\"}, {\"hoverinfo\": \"text\", \"marker\": {\"color\": \"blue\", \"size\": 0.5}, \"mode\": \"markers\", \"text\": \"Linux appears with Power BI 10 times\", \"x\": [0.8669737560267132], \"y\": [-0.2415709137312129], \"type\": \"scatter\", \"uid\": \"65bd322d-76c6-478a-9d18-f0a11e201bec\"}, {\"hoverinfo\": \"text\", \"marker\": {\"color\": \"green\", \"size\": 0.5}, \"mode\": \"markers\", \"text\": \"Power BI appears with AWS 6 times\", \"x\": [0.8999989003915773], \"y\": [0.0014068738222761856], \"type\": \"scatter\", \"uid\": \"45c4bc13-c28e-4672-85ad-af22cab3a9a1\"}, {\"hoverinfo\": \"text\", \"marker\": {\"color\": \"blue\", \"size\": 0.5}, \"mode\": \"markers\", \"text\": \"AWS appears with Power BI 6 times\", \"x\": [0.8946382106120189], \"y\": [-0.09809420020024069], \"type\": \"scatter\", \"uid\": \"aa36738f-3e95-4322-a3bd-92c086609048\"}, {\"hoverinfo\": \"text\", \"marker\": {\"color\": \"green\", \"size\": 0.5}, \"mode\": \"markers\", \"text\": \"Excel appears with SSIS/SSRS 639 times\", \"x\": [0.45956841679664473], \"y\": [0.7738196626366026], \"type\": \"scatter\", \"uid\": \"9e5e331d-95d1-440b-910e-599cd49c06d6\"}, {\"hoverinfo\": \"text\", \"marker\": {\"color\": \"blue\", \"size\": 0.5}, \"mode\": \"markers\", \"text\": \"SSIS/SSRS appears with Excel 639 times\", \"x\": [-0.14394816663165633], \"y\": [0.8884137129307409], \"type\": \"scatter\", \"uid\": \"e37ec382-c88f-4899-8e5d-116ba62fce01\"}, {\"hoverinfo\": \"text\", \"marker\": {\"color\": \"green\", \"size\": 0.5}, \"mode\": \"markers\", \"text\": \"Excel appears with MS SQL Server 278 times\", \"x\": [0.7068469006842176], \"y\": [0.5571063264701953], \"type\": \"scatter\", \"uid\": \"dcd1bb2e-7eab-40f7-9bfc-813d519b57e9\"}, {\"hoverinfo\": \"text\", \"marker\": {\"color\": \"blue\", \"size\": 0.5}, \"mode\": \"markers\", \"text\": \"MS SQL Server appears with Excel 278 times\", \"x\": [-0.4755618118383045], \"y\": [0.7640948652628606], \"type\": \"scatter\", \"uid\": \"f0e1debe-8e9a-4b86-b0b8-dda86c1eb637\"}, {\"hoverinfo\": \"text\", \"marker\": {\"color\": \"green\", \"size\": 0.5}, \"mode\": \"markers\", \"text\": \"Excel appears with PostgreSQL 78 times\", \"x\": [0.8389074921892031], \"y\": [0.32593591325415805], \"type\": \"scatter\", \"uid\": \"6f649dca-88f8-4d75-83d5-5c6e9c6f922d\"}, {\"hoverinfo\": \"text\", \"marker\": {\"color\": \"blue\", \"size\": 0.5}, \"mode\": \"markers\", \"text\": \"PostgreSQL appears with Excel 78 times\", \"x\": [-0.6035542608880153], \"y\": [0.667624336108205], \"type\": \"scatter\", \"uid\": \"b31c0094-f663-421c-9806-7db569b08098\"}, {\"hoverinfo\": \"text\", \"marker\": {\"color\": \"green\", \"size\": 0.5}, \"mode\": \"markers\", \"text\": \"Excel appears with MySQL/MariaDB 133 times\", \"x\": [0.7998849832586659], \"y\": [0.41253365142407944], \"type\": \"scatter\", \"uid\": \"72ddbd9d-3927-4e82-b612-272579f8271c\"}, {\"hoverinfo\": \"text\", \"marker\": {\"color\": \"blue\", \"size\": 0.5}, \"mode\": \"markers\", \"text\": \"MySQL/MariaDB appears with Excel 133 times\", \"x\": [-0.733763910755781], \"y\": [0.5211434766668219], \"type\": \"scatter\", \"uid\": \"96362f27-2c1a-40fe-9827-5592a28ee23e\"}, {\"hoverinfo\": \"text\", \"marker\": {\"color\": \"green\", \"size\": 0.5}, \"mode\": \"markers\", \"text\": \"Excel appears with T-SQL 189 times\", \"x\": [0.7854740681349475], \"y\": [0.4393523509525539], \"type\": \"scatter\", \"uid\": \"af75404a-c604-4a0f-9ef9-b65786f79eec\"}, {\"hoverinfo\": \"text\", \"marker\": {\"color\": \"blue\", \"size\": 0.5}, \"mode\": \"markers\", \"text\": \"T-SQL appears with Excel 189 times\", \"x\": [-0.8465608616518612], \"y\": [0.30550729536176113], \"type\": \"scatter\", \"uid\": \"446f2102-9cc8-4a6a-988e-808f36f1eaef\"}, {\"hoverinfo\": \"text\", \"marker\": {\"color\": \"green\", \"size\": 0.5}, \"mode\": \"markers\", \"text\": \"Excel appears with PL/SQL 65 times\", \"x\": [0.8480996227094104], \"y\": [0.301209279339392], \"type\": \"scatter\", \"uid\": \"18dcf8bb-030c-407f-ac48-1ea92356a9d6\"}, {\"hoverinfo\": \"text\", \"marker\": {\"color\": \"blue\", \"size\": 0.5}, \"mode\": \"markers\", \"text\": \"PL/SQL appears with Excel 65 times\", \"x\": [-0.8713894706837192], \"y\": [0.22512305608610517], \"type\": \"scatter\", \"uid\": \"3578a1ee-6dc6-403c-94d3-f40cddd66f6f\"}, {\"hoverinfo\": \"text\", \"marker\": {\"color\": \"green\", \"size\": 0.5}, \"mode\": \"markers\", \"text\": \"Excel appears with Pentaho 68 times\", \"x\": [0.8438081223006751], \"y\": [0.31303011474841985], \"type\": \"scatter\", \"uid\": \"29220a1f-44d7-4e83-9a92-e3af727c0a32\"}, {\"hoverinfo\": \"text\", \"marker\": {\"color\": \"blue\", \"size\": 0.5}, \"mode\": \"markers\", \"text\": \"Pentaho appears with Excel 68 times\", \"x\": [-0.894216113811971], \"y\": [0.10187022037384798], \"type\": \"scatter\", \"uid\": \"55161ad5-6cf2-4574-9658-54d05dd0ef03\"}, {\"hoverinfo\": \"text\", \"marker\": {\"color\": \"green\", \"size\": 0.5}, \"mode\": \"markers\", \"text\": \"Excel appears with Hadoop 93 times\", \"x\": [0.8267694698738847], \"y\": [0.3556012425237794], \"type\": \"scatter\", \"uid\": \"955f195d-c990-4b1b-bfab-a29221fbb430\"}, {\"hoverinfo\": \"text\", \"marker\": {\"color\": \"blue\", \"size\": 0.5}, \"mode\": \"markers\", \"text\": \"Hadoop appears with Excel 93 times\", \"x\": [-0.8999736505388592], \"y\": [0.00688682334312243], \"type\": \"scatter\", \"uid\": \"71acbfec-f0df-42f1-a241-b148138f545b\"}, {\"hoverinfo\": \"text\", \"marker\": {\"color\": \"green\", \"size\": 0.5}, \"mode\": \"markers\", \"text\": \"Excel appears with Spark 100 times\", \"x\": [0.8193895402700396], \"y\": [0.3722912586887492], \"type\": \"scatter\", \"uid\": \"70c10ff1-b5fb-456d-8c28-67a4d0eca14e\"}, {\"hoverinfo\": \"text\", \"marker\": {\"color\": \"blue\", \"size\": 0.5}, \"mode\": \"markers\", \"text\": \"Spark appears with Excel 100 times\", \"x\": [-0.8800965412418316], \"y\": [-0.18822879188414593], \"type\": \"scatter\", \"uid\": \"d048b845-8443-4bca-9b4d-7c4594982371\"}, {\"hoverinfo\": \"text\", \"marker\": {\"color\": \"green\", \"size\": 0.5}, \"mode\": \"markers\", \"text\": \"Excel appears with Informatica 120 times\", \"x\": [0.8105664946056412], \"y\": [0.39112908076838665], \"type\": \"scatter\", \"uid\": \"d920bb2e-5d5e-42fe-93f1-3c757da5626d\"}, {\"hoverinfo\": \"text\", \"marker\": {\"color\": \"blue\", \"size\": 0.5}, \"mode\": \"markers\", \"text\": \"Informatica appears with Excel 120 times\", \"x\": [-0.8213946514995403], \"y\": [-0.36784619950184183], \"type\": \"scatter\", \"uid\": \"7d2a89ad-572c-4788-b3a7-5ac4e2270ce3\"}, {\"hoverinfo\": \"text\", \"marker\": {\"color\": \"green\", \"size\": 0.5}, \"mode\": \"markers\", \"text\": \"Excel appears with Qlik 444 times\", \"x\": [0.6107940848755768], \"y\": [0.6610072510048636], \"type\": \"scatter\", \"uid\": \"5a966b01-09ae-49ce-b1a2-c5df13f5610b\"}, {\"hoverinfo\": \"text\", \"marker\": {\"color\": \"blue\", \"size\": 0.5}, \"mode\": \"markers\", \"text\": \"Qlik appears with Excel 444 times\", \"x\": [-0.6036686591916107], \"y\": [-0.6675208984816903], \"type\": \"scatter\", \"uid\": \"c319a36f-adb9-439c-aff5-f1277749366d\"}, {\"hoverinfo\": \"text\", \"marker\": {\"color\": \"green\", \"size\": 0.5}, \"mode\": \"markers\", \"text\": \"Excel appears with Tableau 458 times\", \"x\": [0.5455066982660314], \"y\": [0.715836882360006], \"type\": \"scatter\", \"uid\": \"a6ae5a0a-b318-4f8d-9ee2-70cc8b907b81\"}, {\"hoverinfo\": \"text\", \"marker\": {\"color\": \"blue\", \"size\": 0.5}, \"mode\": \"markers\", \"text\": \"Tableau appears with Excel 458 times\", \"x\": [-0.16945399653200882], \"y\": [-0.8839034693106086], \"type\": \"scatter\", \"uid\": \"f85fbd8b-e8ed-4e7a-b840-b056368049a0\"}, {\"hoverinfo\": \"text\", \"marker\": {\"color\": \"green\", \"size\": 0.5}, \"mode\": \"markers\", \"text\": \"Excel appears with Microstrategy 43 times\", \"x\": [0.8550707876759489], \"y\": [0.28080945152047915], \"type\": \"scatter\", \"uid\": \"ae9a9bce-dfda-4429-9159-98a453895115\"}, {\"hoverinfo\": \"text\", \"marker\": {\"color\": \"blue\", \"size\": 0.5}, \"mode\": \"markers\", \"text\": \"Microstrategy appears with Excel 43 times\", \"x\": [-0.06705945957669696], \"y\": [-0.8974982055030981], \"type\": \"scatter\", \"uid\": \"ded385d8-dabf-4670-aed0-0379cd0a83ae\"}, {\"hoverinfo\": \"text\", \"marker\": {\"color\": \"green\", \"size\": 0.5}, \"mode\": \"markers\", \"text\": \"Excel appears with Oracle BI 673 times\", \"x\": [0.3488832419498674], \"y\": [0.8296267133395298], \"type\": \"scatter\", \"uid\": \"48400475-8343-47c0-a477-d7dd54257ca1\"}, {\"hoverinfo\": \"text\", \"marker\": {\"color\": \"blue\", \"size\": 0.5}, \"mode\": \"markers\", \"text\": \"Oracle BI appears with Excel 673 times\", \"x\": [0.48820372137282797], \"y\": [-0.7560801058338475], \"type\": \"scatter\", \"uid\": \"b49c8ccd-af14-4eb1-9ba3-8bfdcd82dadb\"}, {\"hoverinfo\": \"text\", \"marker\": {\"color\": \"green\", \"size\": 0.5}, \"mode\": \"markers\", \"text\": \"Excel appears with Python 388 times\", \"x\": [0.666167884485435], \"y\": [0.6051614244812703], \"type\": \"scatter\", \"uid\": \"35c3bfd3-5c97-41fd-bd3b-ca410c2e6915\"}, {\"hoverinfo\": \"text\", \"marker\": {\"color\": \"blue\", \"size\": 0.5}, \"mode\": \"markers\", \"text\": \"Python appears with Excel 388 times\", \"x\": [0.7808386260331921], \"y\": [-0.44753886992595043], \"type\": \"scatter\", \"uid\": \"11997e86-dadc-420d-81ae-c71346cac127\"}, {\"hoverinfo\": \"text\", \"marker\": {\"color\": \"green\", \"size\": 0.5}, \"mode\": \"markers\", \"text\": \"Excel appears with VBA 275 times\", \"x\": [0.7380033204068966], \"y\": [0.5151224117318093], \"type\": \"scatter\", \"uid\": \"6486a96e-d0fc-48d5-8646-b6913c7b4e0b\"}, {\"hoverinfo\": \"text\", \"marker\": {\"color\": \"blue\", \"size\": 0.5}, \"mode\": \"markers\", \"text\": \"VBA appears with Excel 275 times\", \"x\": [0.8510484970379498], \"y\": [-0.2927737277992113], \"type\": \"scatter\", \"uid\": \"658b5a18-2f50-4953-9c15-9885c0694ce8\"}, {\"hoverinfo\": \"text\", \"marker\": {\"color\": \"green\", \"size\": 0.5}, \"mode\": \"markers\", \"text\": \"Excel appears with Linux 84 times\", \"x\": [0.8332388496526397], \"y\": [0.340166164439595], \"type\": \"scatter\", \"uid\": \"cfc7f523-7712-418d-b671-d70f7c397dfe\"}, {\"hoverinfo\": \"text\", \"marker\": {\"color\": \"blue\", \"size\": 0.5}, \"mode\": \"markers\", \"text\": \"Linux appears with Excel 84 times\", \"x\": [0.8807566895812613], \"y\": [-0.18511524453123185], \"type\": \"scatter\", \"uid\": \"8d6f1267-309a-4881-92b9-d5f9be8ae51f\"}, {\"hoverinfo\": \"text\", \"marker\": {\"color\": \"green\", \"size\": 0.5}, \"mode\": \"markers\", \"text\": \"Excel appears with AWS 60 times\", \"x\": [0.8519820554269304], \"y\": [0.2900458191915596], \"type\": \"scatter\", \"uid\": \"d9f8befe-2604-4097-a7dc-d10a5f65eef1\"}, {\"hoverinfo\": \"text\", \"marker\": {\"color\": \"blue\", \"size\": 0.5}, \"mode\": \"markers\", \"text\": \"AWS appears with Excel 60 times\", \"x\": [0.8976357091261028], \"y\": [-0.06519304948902577], \"type\": \"scatter\", \"uid\": \"278bab35-24fe-4d59-b05c-ce00c5a53228\"}, {\"hoverinfo\": \"text\", \"marker\": {\"color\": \"green\", \"size\": 0.5}, \"mode\": \"markers\", \"text\": \"SSIS/SSRS appears with MS SQL Server 286 times\", \"x\": [-0.0041503091105694265], \"y\": [0.8999904304681726], \"type\": \"scatter\", \"uid\": \"3b1ef237-8ead-450b-a77d-cbcf86f20c2a\"}, {\"hoverinfo\": \"text\", \"marker\": {\"color\": \"blue\", \"size\": 0.5}, \"mode\": \"markers\", \"text\": \"MS SQL Server appears with SSIS/SSRS 286 times\", \"x\": [-0.5180460033923997], \"y\": [0.7359540327827288], \"type\": \"scatter\", \"uid\": \"4bd8a4d5-03c3-4989-a73e-62824635d5a2\"}, {\"hoverinfo\": \"text\", \"marker\": {\"color\": \"green\", \"size\": 0.5}, \"mode\": \"markers\", \"text\": \"SSIS/SSRS appears with PostgreSQL 63 times\", \"x\": [0.20794693801886702], \"y\": [0.8756472297498448], \"type\": \"scatter\", \"uid\": \"7e94e9b9-73b8-461f-8d77-b875aacd6ef0\"}, {\"hoverinfo\": \"text\", \"marker\": {\"color\": \"blue\", \"size\": 0.5}, \"mode\": \"markers\", \"text\": \"PostgreSQL appears with SSIS/SSRS 63 times\", \"x\": [-0.5956817789914153], \"y\": [0.6746578526761715], \"type\": \"scatter\", \"uid\": \"6ce22d71-1fb2-46d8-abb2-f055b5868cc3\"}, {\"hoverinfo\": \"text\", \"marker\": {\"color\": \"green\", \"size\": 0.5}, \"mode\": \"markers\", \"text\": \"SSIS/SSRS appears with MySQL/MariaDB 89 times\", \"x\": [0.18094177313709928], \"y\": [0.8816235447933559], \"type\": \"scatter\", \"uid\": \"b287fdbe-bfee-44c3-80e5-6ce14a050017\"}, {\"hoverinfo\": \"text\", \"marker\": {\"color\": \"blue\", \"size\": 0.5}, \"mode\": \"markers\", \"text\": \"MySQL/MariaDB appears with SSIS/SSRS 89 times\", \"x\": [-0.7017347592336187], \"y\": [0.563532011232135], \"type\": \"scatter\", \"uid\": \"ae62e06b-15fc-4a73-ace6-1c55c186c481\"}, {\"hoverinfo\": \"text\", \"marker\": {\"color\": \"green\", \"size\": 0.5}, \"mode\": \"markers\", \"text\": \"SSIS/SSRS appears with T-SQL 141 times\", \"x\": [0.10065308688495644], \"y\": [0.894353932232944], \"type\": \"scatter\", \"uid\": \"e4780bd2-dc6d-4389-bcba-1f2d0ea74748\"}, {\"hoverinfo\": \"text\", \"marker\": {\"color\": \"blue\", \"size\": 0.5}, \"mode\": \"markers\", \"text\": \"T-SQL appears with SSIS/SSRS 141 times\", \"x\": [-0.8130379378744078], \"y\": [0.38596542795557576], \"type\": \"scatter\", \"uid\": \"0feecc4a-2d90-4f85-8e0a-a512af86e859\"}, {\"hoverinfo\": \"text\", \"marker\": {\"color\": \"green\", \"size\": 0.5}, \"mode\": \"markers\", \"text\": \"SSIS/SSRS appears with PL/SQL 57 times\", \"x\": [0.21869543618909487], \"y\": [0.8730248027347571], \"type\": \"scatter\", \"uid\": \"5e2c9c37-ab81-4aea-ad90-0c3c8e01b4e8\"}, {\"hoverinfo\": \"text\", \"marker\": {\"color\": \"blue\", \"size\": 0.5}, \"mode\": \"markers\", \"text\": \"PL/SQL appears with SSIS/SSRS 57 times\", \"x\": [-0.8693761892098595], \"y\": [0.23277680647981772], \"type\": \"scatter\", \"uid\": \"3af98ed2-9a75-4457-bc58-ecb7f1847c83\"}, {\"hoverinfo\": \"text\", \"marker\": {\"color\": \"green\", \"size\": 0.5}, \"mode\": \"markers\", \"text\": \"SSIS/SSRS appears with Pentaho 36 times\", \"x\": [0.24373269690784166], \"y\": [0.8663684969215063], \"type\": \"scatter\", \"uid\": \"df2a5e41-2a3b-4025-9700-d5c3be8c5bcd\"}, {\"hoverinfo\": \"text\", \"marker\": {\"color\": \"blue\", \"size\": 0.5}, \"mode\": \"markers\", \"text\": \"Pentaho appears with SSIS/SSRS 36 times\", \"x\": [-0.8851772336292973], \"y\": [0.16266918904446656], \"type\": \"scatter\", \"uid\": \"14d6402c-0f82-4b9a-8f9b-fb464228d3cc\"}, {\"hoverinfo\": \"text\", \"marker\": {\"color\": \"green\", \"size\": 0.5}, \"mode\": \"markers\", \"text\": \"SSIS/SSRS appears with Hadoop 46 times\", \"x\": [0.23644639821599303], \"y\": [0.8683853411767636], \"type\": \"scatter\", \"uid\": \"3704b53e-5f26-4b1d-bbc8-6f639dc6d288\"}, {\"hoverinfo\": \"text\", \"marker\": {\"color\": \"blue\", \"size\": 0.5}, \"mode\": \"markers\", \"text\": \"Hadoop appears with SSIS/SSRS 46 times\", \"x\": [-0.8989241451497627], \"y\": [0.043992968378691225], \"type\": \"scatter\", \"uid\": \"09dcb5c8-dab8-46d7-9706-3edfae7e55a9\"}, {\"hoverinfo\": \"text\", \"marker\": {\"color\": \"green\", \"size\": 0.5}, \"mode\": \"markers\", \"text\": \"SSIS/SSRS appears with Spark 48 times\", \"x\": [0.22807331673864262], \"y\": [0.8706219398750727], \"type\": \"scatter\", \"uid\": \"3d28272c-2827-4718-90a3-eaa21aa2009a\"}, {\"hoverinfo\": \"text\", \"marker\": {\"color\": \"blue\", \"size\": 0.5}, \"mode\": \"markers\", \"text\": \"Spark appears with SSIS/SSRS 48 times\", \"x\": [-0.8872561777686929], \"y\": [-0.1509187695791668], \"type\": \"scatter\", \"uid\": \"f9253378-087b-437c-a431-ae6a565ccaba\"}, {\"hoverinfo\": \"text\", \"marker\": {\"color\": \"green\", \"size\": 0.5}, \"mode\": \"markers\", \"text\": \"SSIS/SSRS appears with Informatica 74 times\", \"x\": [0.1956374118067921], \"y\": [0.8784793697643329], \"type\": \"scatter\", \"uid\": \"1376e69e-ce90-4b80-8879-53ec2ffe5a14\"}, {\"hoverinfo\": \"text\", \"marker\": {\"color\": \"blue\", \"size\": 0.5}, \"mode\": \"markers\", \"text\": \"Informatica appears with SSIS/SSRS 74 times\", \"x\": [-0.8333780075153583], \"y\": [-0.3398250970569001], \"type\": \"scatter\", \"uid\": \"f6ebd97a-d9a1-4a72-a275-936c73673ae8\"}, {\"hoverinfo\": \"text\", \"marker\": {\"color\": \"green\", \"size\": 0.5}, \"mode\": \"markers\", \"text\": \"SSIS/SSRS appears with Qlik 94 times\", \"x\": [0.1643830726775703], \"y\": [0.8848605570467477], \"type\": \"scatter\", \"uid\": \"a8e10dda-2594-40f2-b62b-7d7f5dbfd0ef\"}, {\"hoverinfo\": \"text\", \"marker\": {\"color\": \"blue\", \"size\": 0.5}, \"mode\": \"markers\", \"text\": \"Qlik appears with SSIS/SSRS 94 times\", \"x\": [-0.7556116336924138], \"y\": [-0.4889284804842949], \"type\": \"scatter\", \"uid\": \"f592389a-3c7f-4395-9970-394c02c512c5\"}, {\"hoverinfo\": \"text\", \"marker\": {\"color\": \"green\", \"size\": 0.5}, \"mode\": \"markers\", \"text\": \"SSIS/SSRS appears with Tableau 181 times\", \"x\": [0.038894393351789826], \"y\": [0.899159177323902], \"type\": \"scatter\", \"uid\": \"0f94a5ed-4c8f-4017-96f7-baaa8e011f20\"}, {\"hoverinfo\": \"text\", \"marker\": {\"color\": \"blue\", \"size\": 0.5}, \"mode\": \"markers\", \"text\": \"Tableau appears with SSIS/SSRS 181 times\", \"x\": [-0.4015404671069682], \"y\": [-0.8054596534125827], \"type\": \"scatter\", \"uid\": \"3d1eb557-bd85-4a09-85b7-6b67e1b21196\"}, {\"hoverinfo\": \"text\", \"marker\": {\"color\": \"green\", \"size\": 0.5}, \"mode\": \"markers\", \"text\": \"SSIS/SSRS appears with Microstrategy 35 times\", \"x\": [0.2500276908150709], \"y\": [0.8645728158030898], \"type\": \"scatter\", \"uid\": \"e06917a4-99d0-42fb-b4be-8dc301ece9ee\"}, {\"hoverinfo\": \"text\", \"marker\": {\"color\": \"blue\", \"size\": 0.5}, \"mode\": \"markers\", \"text\": \"Microstrategy appears with SSIS/SSRS 35 times\", \"x\": [-0.07712251944645532], \"y\": [-0.8966895321092084], \"type\": \"scatter\", \"uid\": \"36ceb70f-e75b-4bf6-ab28-887df4b6a2ad\"}, {\"hoverinfo\": \"text\", \"marker\": {\"color\": \"green\", \"size\": 0.5}, \"mode\": \"markers\", \"text\": \"SSIS/SSRS appears with Oracle BI 299 times\", \"x\": [-0.05804629661007989], \"y\": [0.8981261756846054], \"type\": \"scatter\", \"uid\": \"b4e38520-eaf7-4e3c-859b-14324c73f4a6\"}, {\"hoverinfo\": \"text\", \"marker\": {\"color\": \"blue\", \"size\": 0.5}, \"mode\": \"markers\", \"text\": \"Oracle BI appears with SSIS/SSRS 299 times\", \"x\": [0.26575691389779266], \"y\": [-0.8598681658926102], \"type\": \"scatter\", \"uid\": \"113ddac3-1fd0-4e75-ba0c-eea6bee2381e\"}, {\"hoverinfo\": \"text\", \"marker\": {\"color\": \"green\", \"size\": 0.5}, \"mode\": \"markers\", \"text\": \"SSIS/SSRS appears with Python 175 times\", \"x\": [0.07165336593067921], \"y\": [0.897143129690466], \"type\": \"scatter\", \"uid\": \"1c3019df-b946-4da4-abdb-e5440f1bf043\"}, {\"hoverinfo\": \"text\", \"marker\": {\"color\": \"blue\", \"size\": 0.5}, \"mode\": \"markers\", \"text\": \"Python appears with SSIS/SSRS 175 times\", \"x\": [0.7154947522992012], \"y\": [-0.5459553639559783], \"type\": \"scatter\", \"uid\": \"213039f5-7e0c-4c14-9979-11d9928fc49d\"}, {\"hoverinfo\": \"text\", \"marker\": {\"color\": \"green\", \"size\": 0.5}, \"mode\": \"markers\", \"text\": \"SSIS/SSRS appears with VBA 95 times\", \"x\": [0.1472208874110358], \"y\": [0.8878772495733332], \"type\": \"scatter\", \"uid\": \"bbb23778-b14b-4950-a9d9-3df0d96647a1\"}, {\"hoverinfo\": \"text\", \"marker\": {\"color\": \"blue\", \"size\": 0.5}, \"mode\": \"markers\", \"text\": \"VBA appears with SSIS/SSRS 95 times\", \"x\": [0.8409423147914665], \"y\": [-0.3206493773472359], \"type\": \"scatter\", \"uid\": \"0743c9bd-3757-47dc-a82c-e92fec0b997a\"}, {\"hoverinfo\": \"text\", \"marker\": {\"color\": \"green\", \"size\": 0.5}, \"mode\": \"markers\", \"text\": \"SSIS/SSRS appears with Linux 22 times\", \"x\": [0.2605486237882554], \"y\": [0.8614606286082064], \"type\": \"scatter\", \"uid\": \"54a4b1ac-ba59-4565-8635-6b831372e9d1\"}, {\"hoverinfo\": \"text\", \"marker\": {\"color\": \"blue\", \"size\": 0.5}, \"mode\": \"markers\", \"text\": \"Linux appears with SSIS/SSRS 22 times\", \"x\": [0.8685654545892879], \"y\": [-0.23578390762328044], \"type\": \"scatter\", \"uid\": \"93f97fa4-ac5b-4206-9855-f9a56f9c1229\"}, {\"hoverinfo\": \"text\", \"marker\": {\"color\": \"green\", \"size\": 0.5}, \"mode\": \"markers\", \"text\": \"SSIS/SSRS appears with AWS 31 times\", \"x\": [0.25586751952259734], \"y\": [0.8628625686940843], \"type\": \"scatter\", \"uid\": \"13d118fb-f7f5-41ed-b0b5-698feafe6c72\"}, {\"hoverinfo\": \"text\", \"marker\": {\"color\": \"blue\", \"size\": 0.5}, \"mode\": \"markers\", \"text\": \"AWS appears with SSIS/SSRS 31 times\", \"x\": [0.8961851923841089], \"y\": [-0.08277741812510095], \"type\": \"scatter\", \"uid\": \"d368d4e9-ccc8-4702-8ac4-5ad8cfd196f2\"}, {\"hoverinfo\": \"text\", \"marker\": {\"color\": \"green\", \"size\": 0.5}, \"mode\": \"markers\", \"text\": \"MS SQL Server appears with PostgreSQL 99 times\", \"x\": [-0.30587542015323604], \"y\": [0.8464279221210045], \"type\": \"scatter\", \"uid\": \"8d08e29d-41b8-4dea-a3e8-2b5c77f68c42\"}, {\"hoverinfo\": \"text\", \"marker\": {\"color\": \"blue\", \"size\": 0.5}, \"mode\": \"markers\", \"text\": \"PostgreSQL appears with MS SQL Server 99 times\", \"x\": [-0.6133190570036483], \"y\": [0.6586651154540945], \"type\": \"scatter\", \"uid\": \"c5d7e659-13ba-4de3-9126-43669b47a675\"}, {\"hoverinfo\": \"text\", \"marker\": {\"color\": \"green\", \"size\": 0.5}, \"mode\": \"markers\", \"text\": \"MS SQL Server appears with MySQL/MariaDB 105 times\", \"x\": [-0.3231471645140923], \"y\": [0.839985660631479], \"type\": \"scatter\", \"uid\": \"5b03e3e5-2fb3-4df1-9a5c-998c8883c31d\"}, {\"hoverinfo\": \"text\", \"marker\": {\"color\": \"blue\", \"size\": 0.5}, \"mode\": \"markers\", \"text\": \"MySQL/MariaDB appears with MS SQL Server 105 times\", \"x\": [-0.7115256749994346], \"y\": [0.5511181486910034], \"type\": \"scatter\", \"uid\": \"6560a33f-3f52-4a6a-a79b-64d9342a5222\"}, {\"hoverinfo\": \"text\", \"marker\": {\"color\": \"green\", \"size\": 0.5}, \"mode\": \"markers\", \"text\": \"MS SQL Server appears with T-SQL 185 times\", \"x\": [-0.4092622295612555], \"y\": [0.8015637388595809], \"type\": \"scatter\", \"uid\": \"55478dd5-d6e7-42d2-9986-c76624ee3514\"}, {\"hoverinfo\": \"text\", \"marker\": {\"color\": \"blue\", \"size\": 0.5}, \"mode\": \"markers\", \"text\": \"T-SQL appears with MS SQL Server 185 times\", \"x\": [-0.8350101129915719], \"y\": [0.33579474564352907], \"type\": \"scatter\", \"uid\": \"08763d23-be25-482b-ad2f-baae35b414f4\"}, {\"hoverinfo\": \"text\", \"marker\": {\"color\": \"green\", \"size\": 0.5}, \"mode\": \"markers\", \"text\": \"MS SQL Server appears with PL/SQL 14 times\", \"x\": [-0.23217531394478283], \"y\": [0.869537016805289], \"type\": \"scatter\", \"uid\": \"9f464803-60fe-44aa-8f72-827e907805cd\"}, {\"hoverinfo\": \"text\", \"marker\": {\"color\": \"blue\", \"size\": 0.5}, \"mode\": \"markers\", \"text\": \"PL/SQL appears with MS SQL Server 14 times\", \"x\": [-0.8627306996975442], \"y\": [0.25631180191201836], \"type\": \"scatter\", \"uid\": \"6b82afe9-1542-4912-b5e3-52e0b9c578b7\"}, {\"hoverinfo\": \"text\", \"marker\": {\"color\": \"green\", \"size\": 0.5}, \"mode\": \"markers\", \"text\": \"MS SQL Server appears with Pentaho 49 times\", \"x\": [-0.26007515670718845], \"y\": [0.8616036866586234], \"type\": \"scatter\", \"uid\": \"b1c81c2e-cae8-4f04-aa88-eb26dfbcdd2c\"}, {\"hoverinfo\": \"text\", \"marker\": {\"color\": \"blue\", \"size\": 0.5}, \"mode\": \"markers\", \"text\": \"Pentaho appears with MS SQL Server 49 times\", \"x\": [-0.8909062337916221], \"y\": [0.12761693692934142], \"type\": \"scatter\", \"uid\": \"f93101a7-886a-49d9-8ca1-9102bf2c3a73\"}, {\"hoverinfo\": \"text\", \"marker\": {\"color\": \"green\", \"size\": 0.5}, \"mode\": \"markers\", \"text\": \"MS SQL Server appears with Hadoop 34 times\", \"x\": [-0.24611373764031316], \"y\": [0.865695112695408], \"type\": \"scatter\", \"uid\": \"5a7c7bae-30f8-4f4c-a674-4877746e8443\"}, {\"hoverinfo\": \"text\", \"marker\": {\"color\": \"blue\", \"size\": 0.5}, \"mode\": \"markers\", \"text\": \"Hadoop appears with MS SQL Server 34 times\", \"x\": [-0.8985814490707268], \"y\": [0.05051118080141167], \"type\": \"scatter\", \"uid\": \"65810052-ab38-48e4-a960-606078840ae9\"}, {\"hoverinfo\": \"text\", \"marker\": {\"color\": \"green\", \"size\": 0.5}, \"mode\": \"markers\", \"text\": \"MS SQL Server appears with Spark 34 times\", \"x\": [-0.24019745996413483], \"y\": [0.8673552791254445], \"type\": \"scatter\", \"uid\": \"3df37230-eb26-4ab3-a37a-a34d9a30c30a\"}, {\"hoverinfo\": \"text\", \"marker\": {\"color\": \"blue\", \"size\": 0.5}, \"mode\": \"markers\", \"text\": \"Spark appears with MS SQL Server 34 times\", \"x\": [-0.8905566302245554], \"y\": [-0.13003418151810847], \"type\": \"scatter\", \"uid\": \"10d98e89-7895-4c1a-9d7d-9471679aafdc\"}, {\"hoverinfo\": \"text\", \"marker\": {\"color\": \"green\", \"size\": 0.5}, \"mode\": \"markers\", \"text\": \"MS SQL Server appears with Informatica 66 times\", \"x\": [-0.279987132745292], \"y\": [0.8553404032881121], \"type\": \"scatter\", \"uid\": \"7a8e35e5-f9e0-4caa-9149-1fe9430be57a\"}, {\"hoverinfo\": \"text\", \"marker\": {\"color\": \"blue\", \"size\": 0.5}, \"mode\": \"markers\", \"text\": \"Informatica appears with MS SQL Server 66 times\", \"x\": [-0.8417814807638982], \"y\": [-0.31843985090270815], \"type\": \"scatter\", \"uid\": \"9fd7b0a4-4403-46f4-92b2-b7f695e41f8a\"}, {\"hoverinfo\": \"text\", \"marker\": {\"color\": \"green\", \"size\": 0.5}, \"mode\": \"markers\", \"text\": \"MS SQL Server appears with Qlik 69 times\", \"x\": [-0.2915549559609148], \"y\": [0.8514667977405984], \"type\": \"scatter\", \"uid\": \"09dfd18a-bdce-4ab9-91ab-1f7e35005271\"}, {\"hoverinfo\": \"text\", \"marker\": {\"color\": \"blue\", \"size\": 0.5}, \"mode\": \"markers\", \"text\": \"Qlik appears with MS SQL Server 69 times\", \"x\": [-0.7708122685834043], \"y\": [-0.4645949274381994], \"type\": \"scatter\", \"uid\": \"20518f42-e22b-41c3-86b4-349283002401\"}, {\"hoverinfo\": \"text\", \"marker\": {\"color\": \"green\", \"size\": 0.5}, \"mode\": \"markers\", \"text\": \"MS SQL Server appears with Tableau 119 times\", \"x\": [-0.3419557893879341], \"y\": [0.8325059988396929], \"type\": \"scatter\", \"uid\": \"8a317a7e-78f4-47eb-a16c-5a46803484d4\"}, {\"hoverinfo\": \"text\", \"marker\": {\"color\": \"blue\", \"size\": 0.5}, \"mode\": \"markers\", \"text\": \"Tableau appears with MS SQL Server 119 times\", \"x\": [-0.45054982773739055], \"y\": [-0.7791051615320026], \"type\": \"scatter\", \"uid\": \"02472344-ef5a-4623-81ae-7d50ce6250b9\"}, {\"hoverinfo\": \"text\", \"marker\": {\"color\": \"green\", \"size\": 0.5}, \"mode\": \"markers\", \"text\": \"MS SQL Server appears with Microstrategy 22 times\", \"x\": [-0.23531681172615068], \"y\": [0.8686921192914319], \"type\": \"scatter\", \"uid\": \"86d6704a-756f-4256-863f-35ddff583015\"}, {\"hoverinfo\": \"text\", \"marker\": {\"color\": \"blue\", \"size\": 0.5}, \"mode\": \"markers\", \"text\": \"Microstrategy appears with MS SQL Server 22 times\", \"x\": [-0.08786665494214899], \"y\": [-0.8957005364234619], \"type\": \"scatter\", \"uid\": \"f14ff76c-a1b0-4b4b-a64a-8e65bdf94dbe\"}, {\"hoverinfo\": \"text\", \"marker\": {\"color\": \"green\", \"size\": 0.5}, \"mode\": \"markers\", \"text\": \"MS SQL Server appears with Oracle BI 190 times\", \"x\": [-0.4391455092780538], \"y\": [0.7855897285994253], \"type\": \"scatter\", \"uid\": \"cfe941ac-5080-49cf-9012-95f03211f087\"}, {\"hoverinfo\": \"text\", \"marker\": {\"color\": \"blue\", \"size\": 0.5}, \"mode\": \"markers\", \"text\": \"Oracle BI appears with MS SQL Server 190 times\", \"x\": [0.18692101118150017], \"y\": [-0.8803752243100015], \"type\": \"scatter\", \"uid\": \"b3080f18-383b-402d-b1ea-34c93b2efc64\"}, {\"hoverinfo\": \"text\", \"marker\": {\"color\": \"green\", \"size\": 0.5}, \"mode\": \"markers\", \"text\": \"MS SQL Server appears with Python 121 times\", \"x\": [-0.3619156983473966], \"y\": [0.8240248948240073], \"type\": \"scatter\", \"uid\": \"e0d974ae-0771-42d5-a6e4-9f8ca209b4a0\"}, {\"hoverinfo\": \"text\", \"marker\": {\"color\": \"blue\", \"size\": 0.5}, \"mode\": \"markers\", \"text\": \"Python appears with MS SQL Server 121 times\", \"x\": [0.6602910842092331], \"y\": [-0.6115682170566057], \"type\": \"scatter\", \"uid\": \"f11301df-343d-4803-93fe-5845e3d31e9e\"}, {\"hoverinfo\": \"text\", \"marker\": {\"color\": \"green\", \"size\": 0.5}, \"mode\": \"markers\", \"text\": \"MS SQL Server appears with VBA 39 times\", \"x\": [-0.25245225914028996], \"y\": [0.8638679626279493], \"type\": \"scatter\", \"uid\": \"eea5906f-19ee-4698-b7b3-814d5ef5f89d\"}, {\"hoverinfo\": \"text\", \"marker\": {\"color\": \"blue\", \"size\": 0.5}, \"mode\": \"markers\", \"text\": \"VBA appears with MS SQL Server 39 times\", \"x\": [0.8196665541566939], \"y\": [-0.3716809653410996], \"type\": \"scatter\", \"uid\": \"920281a7-619b-4223-935c-16ee4caefa6d\"}, {\"hoverinfo\": \"text\", \"marker\": {\"color\": \"green\", \"size\": 0.5}, \"mode\": \"markers\", \"text\": \"MS SQL Server appears with Linux 58 times\", \"x\": [-0.2693164970239277], \"y\": [0.8587599341089225], \"type\": \"scatter\", \"uid\": \"1b813ee4-8eea-4a66-ad11-fd29b7164f61\"}, {\"hoverinfo\": \"text\", \"marker\": {\"color\": \"blue\", \"size\": 0.5}, \"mode\": \"markers\", \"text\": \"Linux appears with MS SQL Server 58 times\", \"x\": [0.8783818188436938], \"y\": [-0.19607493548346344], \"type\": \"scatter\", \"uid\": \"12ad5d21-ccbd-4e69-8bc3-4a5c8d015ac4\"}, {\"hoverinfo\": \"text\", \"marker\": {\"color\": \"green\", \"size\": 0.5}, \"mode\": \"markers\", \"text\": \"MS SQL Server appears with AWS 10 times\", \"x\": [-0.2300792943160105], \"y\": [0.8700939709750014], \"type\": \"scatter\", \"uid\": \"7632f66b-2db5-4cfc-a4b1-9f3d7d081eb4\"}, {\"hoverinfo\": \"text\", \"marker\": {\"color\": \"blue\", \"size\": 0.5}, \"mode\": \"markers\", \"text\": \"AWS appears with MS SQL Server 10 times\", \"x\": [0.8948506026110263], \"y\": [-0.0961373965046016], \"type\": \"scatter\", \"uid\": \"b928be65-a80a-4f0f-baf8-60033aa3f7ec\"}, {\"hoverinfo\": \"text\", \"marker\": {\"color\": \"green\", \"size\": 0.5}, \"mode\": \"markers\", \"text\": \"PostgreSQL appears with MySQL/MariaDB 110 times\", \"x\": [-0.6246778672644782], \"y\": [0.6479024325852645], \"type\": \"scatter\", \"uid\": \"308b4bbe-40c5-4962-a125-1a49cb260ac3\"}, {\"hoverinfo\": \"text\", \"marker\": {\"color\": \"blue\", \"size\": 0.5}, \"mode\": \"markers\", \"text\": \"MySQL/MariaDB appears with PostgreSQL 110 times\", \"x\": [-0.7221197907911504], \"y\": [0.5371619939531698], \"type\": \"scatter\", \"uid\": \"1594564a-e518-438f-97b3-7a911c020112\"}, {\"hoverinfo\": \"text\", \"marker\": {\"color\": \"green\", \"size\": 0.5}, \"mode\": \"markers\", \"text\": \"PostgreSQL appears with T-SQL 42 times\", \"x\": [-0.5728483565026511], \"y\": [0.69415038748978], \"type\": \"scatter\", \"uid\": \"f955f0a6-abe3-4d64-8d9e-8ce7c336430b\"}, {\"hoverinfo\": \"text\", \"marker\": {\"color\": \"blue\", \"size\": 0.5}, \"mode\": \"markers\", \"text\": \"T-SQL appears with PostgreSQL 42 times\", \"x\": [-0.7782765931556147], \"y\": [0.4519795842138114], \"type\": \"scatter\", \"uid\": \"356e2999-2b57-434d-9ca7-87dcea7bbb9c\"}, {\"hoverinfo\": \"text\", \"marker\": {\"color\": \"green\", \"size\": 0.5}, \"mode\": \"markers\", \"text\": \"PostgreSQL appears with PL/SQL 3 times\", \"x\": [-0.5617468844696129], \"y\": [0.7031645879797158], \"type\": \"scatter\", \"uid\": \"9c9be3da-0ee5-41ec-aef0-1f7f746bf1ae\"}, {\"hoverinfo\": \"text\", \"marker\": {\"color\": \"blue\", \"size\": 0.5}, \"mode\": \"markers\", \"text\": \"PL/SQL appears with PostgreSQL 3 times\", \"x\": [-0.8609554217513554], \"y\": [0.2622131990517367], \"type\": \"scatter\", \"uid\": \"3b08959a-04b3-40ab-a24d-6735d3a0621d\"}, {\"hoverinfo\": \"text\", \"marker\": {\"color\": \"green\", \"size\": 0.5}, \"mode\": \"markers\", \"text\": \"PostgreSQL appears with Pentaho 50 times\", \"x\": [-0.5836342381599923], \"y\": [0.685106616554975], \"type\": \"scatter\", \"uid\": \"4890c411-9168-4761-b607-8afd091cf230\"}, {\"hoverinfo\": \"text\", \"marker\": {\"color\": \"blue\", \"size\": 0.5}, \"mode\": \"markers\", \"text\": \"Pentaho appears with PostgreSQL 50 times\", \"x\": [-0.8919094127577452], \"y\": [0.12040597756811847], \"type\": \"scatter\", \"uid\": \"8e3edf4f-9b60-46af-9b3a-158fb669a706\"}, {\"hoverinfo\": \"text\", \"marker\": {\"color\": \"green\", \"size\": 0.5}, \"mode\": \"markers\", \"text\": \"PostgreSQL appears with Hadoop 4 times\", \"x\": [-0.5621562655058135], \"y\": [0.7028373447338704], \"type\": \"scatter\", \"uid\": \"519a32a5-a5ba-455c-aa86-13ef25d5f2cf\"}, {\"hoverinfo\": \"text\", \"marker\": {\"color\": \"blue\", \"size\": 0.5}, \"mode\": \"markers\", \"text\": \"Hadoop appears with PostgreSQL 4 times\", \"x\": [-0.8974324783618157], \"y\": [0.06793339960114758], \"type\": \"scatter\", \"uid\": \"1d6fb5ca-109f-439c-877e-5c7b25b2a1d5\"}, {\"hoverinfo\": \"text\", \"marker\": {\"color\": \"green\", \"size\": 0.5}, \"mode\": \"markers\", \"text\": \"PostgreSQL appears with Spark 13 times\", \"x\": [-0.564550235964092], \"y\": [0.7009158516347651], \"type\": \"scatter\", \"uid\": \"40f64ae9-8d5d-4bcf-a772-b8efdba4559d\"}, {\"hoverinfo\": \"text\", \"marker\": {\"color\": \"blue\", \"size\": 0.5}, \"mode\": \"markers\", \"text\": \"Spark appears with PostgreSQL 13 times\", \"x\": [-0.8936722655886349], \"y\": [-0.10653582363541608], \"type\": \"scatter\", \"uid\": \"cf9f6f22-635a-4bcb-9b29-57da29a9a84c\"}, {\"hoverinfo\": \"text\", \"marker\": {\"color\": \"green\", \"size\": 0.5}, \"mode\": \"markers\", \"text\": \"PostgreSQL appears with Informatica 2 times\", \"x\": [-0.5614543528058905], \"y\": [0.7033981871709072], \"type\": \"scatter\", \"uid\": \"46cb577d-ad8a-46d5-b5ff-de911fe31a4b\"}, {\"hoverinfo\": \"text\", \"marker\": {\"color\": \"blue\", \"size\": 0.5}, \"mode\": \"markers\", \"text\": \"Informatica appears with PostgreSQL 2 times\", \"x\": [-0.8553133358199435], \"y\": [-0.28006980838455364], \"type\": \"scatter\", \"uid\": \"d0520b6a-7ee0-4328-9c76-e66a7bcdee64\"}, {\"hoverinfo\": \"text\", \"marker\": {\"color\": \"green\", \"size\": 0.5}, \"mode\": \"markers\", \"text\": \"PostgreSQL appears with Qlik 14 times\", \"x\": [-0.566123168145486], \"y\": [0.6996460237069299], \"type\": \"scatter\", \"uid\": \"1cc81269-d788-405c-a0ec-a226fa2d9010\"}, {\"hoverinfo\": \"text\", \"marker\": {\"color\": \"blue\", \"size\": 0.5}, \"mode\": \"markers\", \"text\": \"Qlik appears with PostgreSQL 14 times\", \"x\": [-0.7934892335668967], \"y\": [-0.42470558768801103], \"type\": \"scatter\", \"uid\": \"09376169-b33e-4b5f-811c-ffa6876dfbba\"}, {\"hoverinfo\": \"text\", \"marker\": {\"color\": \"green\", \"size\": 0.5}, \"mode\": \"markers\", \"text\": \"PostgreSQL appears with Tableau 6 times\", \"x\": [-0.5627407648313124], \"y\": [0.7023694409618556], \"type\": \"scatter\", \"uid\": \"2af39a53-db73-4756-9010-3d985f29dc80\"}, {\"hoverinfo\": \"text\", \"marker\": {\"color\": \"blue\", \"size\": 0.5}, \"mode\": \"markers\", \"text\": \"Tableau appears with PostgreSQL 6 times\", \"x\": [-0.5507573939427011], \"y\": [-0.711804954336119], \"type\": \"scatter\", \"uid\": \"9143988f-a467-4ea5-b737-bd578704238c\"}, {\"hoverinfo\": \"text\", \"marker\": {\"color\": \"green\", \"size\": 0.5}, \"mode\": \"markers\", \"text\": \"PostgreSQL appears with Oracle BI 50 times\", \"x\": [-0.5893134132242648], \"y\": [0.6802276832017107], \"type\": \"scatter\", \"uid\": \"4061a1e0-d100-457e-ab1c-0518cf80f7d4\"}, {\"hoverinfo\": \"text\", \"marker\": {\"color\": \"blue\", \"size\": 0.5}, \"mode\": \"markers\", \"text\": \"Oracle BI appears with PostgreSQL 50 times\", \"x\": [0.018968434226949625], \"y\": [-0.8998000880767782], \"type\": \"scatter\", \"uid\": \"db0d0678-3f61-488e-bdeb-1595c94cdf47\"}, {\"hoverinfo\": \"text\", \"marker\": {\"color\": \"green\", \"size\": 0.5}, \"mode\": \"markers\", \"text\": \"PostgreSQL appears with Python 30 times\", \"x\": [-0.5686803416421897], \"y\": [0.6975691141598246], \"type\": \"scatter\", \"uid\": \"0c4a3b26-3c74-4e31-957c-7fac0bace36d\"}, {\"hoverinfo\": \"text\", \"marker\": {\"color\": \"blue\", \"size\": 0.5}, \"mode\": \"markers\", \"text\": \"Python appears with PostgreSQL 30 times\", \"x\": [0.5674778314351815], \"y\": [-0.6985477154995382], \"type\": \"scatter\", \"uid\": \"4638fa56-86b7-46ad-854c-6269a9ef40ed\"}, {\"hoverinfo\": \"text\", \"marker\": {\"color\": \"green\", \"size\": 0.5}, \"mode\": \"markers\", \"text\": \"PostgreSQL appears with Linux 48 times\", \"x\": [-0.5780294565899086], \"y\": [0.6898419727114138], \"type\": \"scatter\", \"uid\": \"4425e635-85f2-47dc-9d8e-6aa60f3afee6\"}, {\"hoverinfo\": \"text\", \"marker\": {\"color\": \"blue\", \"size\": 0.5}, \"mode\": \"markers\", \"text\": \"Linux appears with PostgreSQL 48 times\", \"x\": [0.8746942703298843], \"y\": [-0.21191963913727113], \"type\": \"scatter\", \"uid\": \"c80c5587-723c-4f62-910d-303935dc454a\"}, {\"hoverinfo\": \"text\", \"marker\": {\"color\": \"green\", \"size\": 0.5}, \"mode\": \"markers\", \"text\": \"PostgreSQL appears with AWS 6 times\", \"x\": [-0.5634416499074364], \"y\": [0.7018073148304924], \"type\": \"scatter\", \"uid\": \"2bb0d272-de65-4635-b895-6b4d384ef120\"}, {\"hoverinfo\": \"text\", \"marker\": {\"color\": \"blue\", \"size\": 0.5}, \"mode\": \"markers\", \"text\": \"AWS appears with PostgreSQL 6 times\", \"x\": [0.8947297597747523], \"y\": [-0.09725562694987876], \"type\": \"scatter\", \"uid\": \"ac66b888-bf28-43ab-8cf5-e4a2f96ee447\"}, {\"hoverinfo\": \"text\", \"marker\": {\"color\": \"green\", \"size\": 0.5}, \"mode\": \"markers\", \"text\": \"MySQL/MariaDB appears with T-SQL 41 times\", \"x\": [-0.6614324456156846], \"y\": [0.6103336135973951], \"type\": \"scatter\", \"uid\": \"cff2c220-b1e7-409a-bdc5-685a398a534d\"}, {\"hoverinfo\": \"text\", \"marker\": {\"color\": \"blue\", \"size\": 0.5}, \"mode\": \"markers\", \"text\": \"T-SQL appears with MySQL/MariaDB 41 times\", \"x\": [-0.7709069216609051], \"y\": [0.46443785174693414], \"type\": \"scatter\", \"uid\": \"dc387dc7-ad10-4ae1-9891-f9f0521e7fb1\"}, {\"hoverinfo\": \"text\", \"marker\": {\"color\": \"green\", \"size\": 0.5}, \"mode\": \"markers\", \"text\": \"MySQL/MariaDB appears with PL/SQL 1 times\", \"x\": [-0.6504964277091443], \"y\": [0.6219762033531847], \"type\": \"scatter\", \"uid\": \"b3321c70-36ef-4320-adce-5ba3f548a5a8\"}, {\"hoverinfo\": \"text\", \"marker\": {\"color\": \"blue\", \"size\": 0.5}, \"mode\": \"markers\", \"text\": \"PL/SQL appears with MySQL/MariaDB 1 times\", \"x\": [-0.8606903870554433], \"y\": [0.2630818458775735], \"type\": \"scatter\", \"uid\": \"2a833d91-5879-4277-9a16-fe798e96d901\"}, {\"hoverinfo\": \"text\", \"marker\": {\"color\": \"green\", \"size\": 0.5}, \"mode\": \"markers\", \"text\": \"MySQL/MariaDB appears with Pentaho 68 times\", \"x\": [-0.6854828546531373], \"y\": [0.5831922975971012], \"type\": \"scatter\", \"uid\": \"5bca2557-dbbd-4604-b1c6-ad3d57097a87\"}, {\"hoverinfo\": \"text\", \"marker\": {\"color\": \"blue\", \"size\": 0.5}, \"mode\": \"markers\", \"text\": \"Pentaho appears with MySQL/MariaDB 68 times\", \"x\": [-0.8930288748544658], \"y\": [0.11180084380793763], \"type\": \"scatter\", \"uid\": \"d2aafb06-00f0-43b7-8cb4-6c62653ae504\"}, {\"hoverinfo\": \"text\", \"marker\": {\"color\": \"green\", \"size\": 0.5}, \"mode\": \"markers\", \"text\": \"MySQL/MariaDB appears with Hadoop 7 times\", \"x\": [-0.6522959879540593], \"y\": [0.6200886582570574], \"type\": \"scatter\", \"uid\": \"eef6d2cd-d2dd-4bcb-9037-2040ae24f974\"}, {\"hoverinfo\": \"text\", \"marker\": {\"color\": \"blue\", \"size\": 0.5}, \"mode\": \"markers\", \"text\": \"Hadoop appears with MySQL/MariaDB 7 times\", \"x\": [-0.8976316948044541], \"y\": [0.06524829869416722], \"type\": \"scatter\", \"uid\": \"74bd81a3-de38-4419-92f9-0e29f912b246\"}, {\"hoverinfo\": \"text\", \"marker\": {\"color\": \"green\", \"size\": 0.5}, \"mode\": \"markers\", \"text\": \"MySQL/MariaDB appears with Spark 30 times\", \"x\": [-0.657494816314175], \"y\": [0.6145734834175565], \"type\": \"scatter\", \"uid\": \"426ba9bf-25af-4bfe-95ce-25b7f9590b79\"}, {\"hoverinfo\": \"text\", \"marker\": {\"color\": \"blue\", \"size\": 0.5}, \"mode\": \"markers\", \"text\": \"Spark appears with MySQL/MariaDB 30 times\", \"x\": [-0.892066470115229], \"y\": [-0.11923679338256024], \"type\": \"scatter\", \"uid\": \"1119d538-f8b1-472f-a834-601ec4c9d13c\"}, {\"hoverinfo\": \"text\", \"marker\": {\"color\": \"green\", \"size\": 0.5}, \"mode\": \"markers\", \"text\": \"MySQL/MariaDB appears with Informatica 11 times\", \"x\": [-0.6533058346442994], \"y\": [0.6190246250511489], \"type\": \"scatter\", \"uid\": \"7e240298-5a2d-44cc-9a15-99f78f831706\"}, {\"hoverinfo\": \"text\", \"marker\": {\"color\": \"blue\", \"size\": 0.5}, \"mode\": \"markers\", \"text\": \"Informatica appears with MySQL/MariaDB 11 times\", \"x\": [-0.8544402471401719], \"y\": [-0.2827222383666381], \"type\": \"scatter\", \"uid\": \"cc737254-729f-425a-9dad-0b889fe1c67f\"}, {\"hoverinfo\": \"text\", \"marker\": {\"color\": \"green\", \"size\": 0.5}, \"mode\": \"markers\", \"text\": \"MySQL/MariaDB appears with Qlik 17 times\", \"x\": [-0.6548732563918449], \"y\": [0.6173661944605818], \"type\": \"scatter\", \"uid\": \"f5ab961d-9b14-4184-8589-0f4535d2327d\"}, {\"hoverinfo\": \"text\", \"marker\": {\"color\": \"blue\", \"size\": 0.5}, \"mode\": \"markers\", \"text\": \"Qlik appears with MySQL/MariaDB 17 times\", \"x\": [-0.7907824543380811], \"y\": [-0.4297244581252511], \"type\": \"scatter\", \"uid\": \"1744acac-0dbc-4412-aa66-54e5407ba0b7\"}, {\"hoverinfo\": \"text\", \"marker\": {\"color\": \"green\", \"size\": 0.5}, \"mode\": \"markers\", \"text\": \"MySQL/MariaDB appears with Tableau 55 times\", \"x\": [-0.6721601152547241], \"y\": [0.5984987714780675], \"type\": \"scatter\", \"uid\": \"3dd6f3bf-dacf-4fc0-8d69-3e58d47fe9e7\"}, {\"hoverinfo\": \"text\", \"marker\": {\"color\": \"blue\", \"size\": 0.5}, \"mode\": \"markers\", \"text\": \"Tableau appears with MySQL/MariaDB 55 times\", \"x\": [-0.5138407904415482], \"y\": [-0.7388962322805585], \"type\": \"scatter\", \"uid\": \"40ff2e91-0c17-4495-81f2-5391d1bf93bc\"}, {\"hoverinfo\": \"text\", \"marker\": {\"color\": \"green\", \"size\": 0.5}, \"mode\": \"markers\", \"text\": \"MySQL/MariaDB appears with Oracle BI 78 times\", \"x\": [-0.6931329386954118], \"y\": [0.5740790270472023], \"type\": \"scatter\", \"uid\": \"b4f504a5-871f-401b-9721-ccea393633e6\"}, {\"hoverinfo\": \"text\", \"marker\": {\"color\": \"blue\", \"size\": 0.5}, \"mode\": \"markers\", \"text\": \"Oracle BI appears with MySQL/MariaDB 78 times\", \"x\": [0.043408503949453475], \"y\": [-0.8989525581391213], \"type\": \"scatter\", \"uid\": \"e3e5906b-a0b4-4dc7-93cd-5fcc4e08dd34\"}, {\"hoverinfo\": \"text\", \"marker\": {\"color\": \"green\", \"size\": 0.5}, \"mode\": \"markers\", \"text\": \"MySQL/MariaDB appears with Python 63 times\", \"x\": [-0.6785167187324642], \"y\": [0.5912825571590372], \"type\": \"scatter\", \"uid\": \"006cfad8-7020-4c83-85f9-9bcbc4f6b697\"}, {\"hoverinfo\": \"text\", \"marker\": {\"color\": \"blue\", \"size\": 0.5}, \"mode\": \"markers\", \"text\": \"Python appears with MySQL/MariaDB 63 times\", \"x\": [0.5986868818948086], \"y\": [-0.6719925724642138], \"type\": \"scatter\", \"uid\": \"6998d115-ec2b-4f31-97d6-1b4a0f603660\"}, {\"hoverinfo\": \"text\", \"marker\": {\"color\": \"green\", \"size\": 0.5}, \"mode\": \"markers\", \"text\": \"MySQL/MariaDB appears with VBA 5 times\", \"x\": [-0.6510593777303174], \"y\": [0.6213869057756302], \"type\": \"scatter\", \"uid\": \"d2d31676-3d38-4ce3-bcbe-f06568f718b5\"}, {\"hoverinfo\": \"text\", \"marker\": {\"color\": \"blue\", \"size\": 0.5}, \"mode\": \"markers\", \"text\": \"VBA appears with MySQL/MariaDB 5 times\", \"x\": [0.8113287378477616], \"y\": [-0.38954547763047914], \"type\": \"scatter\", \"uid\": \"6a348c29-749c-4692-8135-678d7f642b39\"}, {\"hoverinfo\": \"text\", \"marker\": {\"color\": \"green\", \"size\": 0.5}, \"mode\": \"markers\", \"text\": \"MySQL/MariaDB appears with Linux 50 times\", \"x\": [-0.6664392666943141], \"y\": [0.6048625495167848], \"type\": \"scatter\", \"uid\": \"15a5b8a7-f21b-48c4-a2b4-4a31573bb2b2\"}, {\"hoverinfo\": \"text\", \"marker\": {\"color\": \"blue\", \"size\": 0.5}, \"mode\": \"markers\", \"text\": \"Linux appears with MySQL/MariaDB 50 times\", \"x\": [0.8764842566855147], \"y\": [-0.20439018514214624], \"type\": \"scatter\", \"uid\": \"f73519c8-59d8-419b-b578-abc39693ea62\"}, {\"hoverinfo\": \"text\", \"marker\": {\"color\": \"green\", \"size\": 0.5}, \"mode\": \"markers\", \"text\": \"MySQL/MariaDB appears with AWS 2 times\", \"x\": [-0.6506653687429317], \"y\": [0.6217994676088303], \"type\": \"scatter\", \"uid\": \"333056e6-8f78-477e-882d-4319cb7d2f1d\"}, {\"hoverinfo\": \"text\", \"marker\": {\"color\": \"blue\", \"size\": 0.5}, \"mode\": \"markers\", \"text\": \"AWS appears with MySQL/MariaDB 2 times\", \"x\": [0.8944527545442068], \"y\": [-0.09977108743659723], \"type\": \"scatter\", \"uid\": \"3d2b9c33-2d49-4bd3-acf0-67255cffe098\"}, {\"hoverinfo\": \"text\", \"marker\": {\"color\": \"green\", \"size\": 0.5}, \"mode\": \"markers\", \"text\": \"T-SQL appears with PL/SQL 48 times\", \"x\": [-0.7821649107016572], \"y\": [0.4452168600435846], \"type\": \"scatter\", \"uid\": \"612e5aa1-8741-4788-ab26-b7f5f3f2e81f\"}, {\"hoverinfo\": \"text\", \"marker\": {\"color\": \"blue\", \"size\": 0.5}, \"mode\": \"markers\", \"text\": \"PL/SQL appears with T-SQL 48 times\", \"x\": [-0.8675896149432806], \"y\": [0.23934966062764756], \"type\": \"scatter\", \"uid\": \"982907d2-860b-4597-a9ee-fa10b82361ae\"}, {\"hoverinfo\": \"text\", \"marker\": {\"color\": \"green\", \"size\": 0.5}, \"mode\": \"markers\", \"text\": \"T-SQL appears with Pentaho 42 times\", \"x\": [-0.7745947377942236], \"y\": [0.4582608342216232], \"type\": \"scatter\", \"uid\": \"41b9006d-dc61-4faf-8467-e7aa5f97ee5c\"}, {\"hoverinfo\": \"text\", \"marker\": {\"color\": \"blue\", \"size\": 0.5}, \"mode\": \"markers\", \"text\": \"Pentaho appears with T-SQL 42 times\", \"x\": [-0.8899326957225134], \"y\": [0.1342378377509876], \"type\": \"scatter\", \"uid\": \"d7c594d3-b805-4841-bd50-5956d45c92b6\"}, {\"hoverinfo\": \"text\", \"marker\": {\"color\": \"green\", \"size\": 0.5}, \"mode\": \"markers\", \"text\": \"T-SQL appears with Hadoop 24 times\", \"x\": [-0.7605700942797785], \"y\": [0.4811788977991957], \"type\": \"scatter\", \"uid\": \"2e5cfc29-ba93-42f8-9408-e98c67c23f4b\"}, {\"hoverinfo\": \"text\", \"marker\": {\"color\": \"blue\", \"size\": 0.5}, \"mode\": \"markers\", \"text\": \"Hadoop appears with T-SQL 24 times\", \"x\": [-0.8980222759581954], \"y\": [0.05963213800345266], \"type\": \"scatter\", \"uid\": \"ecd56ada-6a59-4138-83e4-ced05e968eb2\"}, {\"hoverinfo\": \"text\", \"marker\": {\"color\": \"green\", \"size\": 0.5}, \"mode\": \"markers\", \"text\": \"T-SQL appears with Spark 25 times\", \"x\": [-0.7628323267469165], \"y\": [0.4775843813085659], \"type\": \"scatter\", \"uid\": \"ffa48b0d-5e69-41cb-b6d8-d2dac54693bd\"}, {\"hoverinfo\": \"text\", \"marker\": {\"color\": \"blue\", \"size\": 0.5}, \"mode\": \"markers\", \"text\": \"Spark appears with T-SQL 25 times\", \"x\": [-0.8926569466597079], \"y\": [-0.11473262648509094], \"type\": \"scatter\", \"uid\": \"6ee00ee0-9605-4d2f-ab74-079d72bbca27\"}, {\"hoverinfo\": \"text\", \"marker\": {\"color\": \"green\", \"size\": 0.5}, \"mode\": \"markers\", \"text\": \"T-SQL appears with Informatica 13 times\", \"x\": [-0.7572621275817829], \"y\": [0.4863682453967484], \"type\": \"scatter\", \"uid\": \"35bc103e-1959-415b-94b8-fc2323739114\"}, {\"hoverinfo\": \"text\", \"marker\": {\"color\": \"blue\", \"size\": 0.5}, \"mode\": \"markers\", \"text\": \"Informatica appears with T-SQL 13 times\", \"x\": [-0.8532294944409898], \"y\": [-0.28635542567929984], \"type\": \"scatter\", \"uid\": \"1c1d1664-07f4-4e29-a666-a1c659f6e1be\"}, {\"hoverinfo\": \"text\", \"marker\": {\"color\": \"green\", \"size\": 0.5}, \"mode\": \"markers\", \"text\": \"T-SQL appears with Qlik 77 times\", \"x\": [-0.7963617961708186], \"y\": [0.4192945141539388], \"type\": \"scatter\", \"uid\": \"a7bae992-b131-496e-ba79-8e0a4d9a436e\"}, {\"hoverinfo\": \"text\", \"marker\": {\"color\": \"blue\", \"size\": 0.5}, \"mode\": \"markers\", \"text\": \"Qlik appears with T-SQL 77 times\", \"x\": [-0.7639077397813296], \"y\": [-0.47586233839439357], \"type\": \"scatter\", \"uid\": \"b9b91ec5-c487-4724-b6c9-36f2f6de0edd\"}, {\"hoverinfo\": \"text\", \"marker\": {\"color\": \"green\", \"size\": 0.5}, \"mode\": \"markers\", \"text\": \"T-SQL appears with Tableau 106 times\", \"x\": [-0.8036274775525928], \"y\": [0.40519486339594296], \"type\": \"scatter\", \"uid\": \"769a222a-28e5-4ae8-9877-f71813229381\"}, {\"hoverinfo\": \"text\", \"marker\": {\"color\": \"blue\", \"size\": 0.5}, \"mode\": \"markers\", \"text\": \"Tableau appears with T-SQL 106 times\", \"x\": [-0.46837613205172124], \"y\": [-0.7685205260266433], \"type\": \"scatter\", \"uid\": \"89f3ae2b-8590-4a89-afdd-84bd2e6b0dc6\"}, {\"hoverinfo\": \"text\", \"marker\": {\"color\": \"green\", \"size\": 0.5}, \"mode\": \"markers\", \"text\": \"T-SQL appears with Microstrategy 17 times\", \"x\": [-0.7586641885151574], \"y\": [0.48417832362120244], \"type\": \"scatter\", \"uid\": \"71cb1e92-8e0c-4441-9a9a-a21774c89ac4\"}, {\"hoverinfo\": \"text\", \"marker\": {\"color\": \"blue\", \"size\": 0.5}, \"mode\": \"markers\", \"text\": \"Microstrategy appears with T-SQL 17 times\", \"x\": [-0.09508523574805126], \"y\": [-0.894963014846277], \"type\": \"scatter\", \"uid\": \"800a0e7a-54d5-4b20-96fb-bd0c7430c3d7\"}, {\"hoverinfo\": \"text\", \"marker\": {\"color\": \"green\", \"size\": 0.5}, \"mode\": \"markers\", \"text\": \"T-SQL appears with Oracle BI 153 times\", \"x\": [-0.8236389449641113], \"y\": [0.36279317570539504], \"type\": \"scatter\", \"uid\": \"e594d918-3763-4b0d-b550-796e74e6271c\"}, {\"hoverinfo\": \"text\", \"marker\": {\"color\": \"blue\", \"size\": 0.5}, \"mode\": \"markers\", \"text\": \"Oracle BI appears with T-SQL 153 times\", \"x\": [0.12377236981158256], \"y\": [-0.8914484844741309], \"type\": \"scatter\", \"uid\": \"726bb530-c321-4065-97aa-1534429c2f68\"}, {\"hoverinfo\": \"text\", \"marker\": {\"color\": \"green\", \"size\": 0.5}, \"mode\": \"markers\", \"text\": \"T-SQL appears with Python 56 times\", \"x\": [-0.7909259294852773], \"y\": [0.42946032886385466], \"type\": \"scatter\", \"uid\": \"6d79ff08-b497-494a-a83c-618ed386b9a5\"}, {\"hoverinfo\": \"text\", \"marker\": {\"color\": \"blue\", \"size\": 0.5}, \"mode\": \"markers\", \"text\": \"Python appears with T-SQL 56 times\", \"x\": [0.5905700541201464], \"y\": [-0.6791369605436942], \"type\": \"scatter\", \"uid\": \"cf171d37-d878-49f0-afbd-0a8be863145b\"}, {\"hoverinfo\": \"text\", \"marker\": {\"color\": \"green\", \"size\": 0.5}, \"mode\": \"markers\", \"text\": \"T-SQL appears with VBA 27 times\", \"x\": [-0.7652144823303119], \"y\": [0.4737581619686914], \"type\": \"scatter\", \"uid\": \"958b139e-7f18-4904-9fb2-c680f2c43036\"}, {\"hoverinfo\": \"text\", \"marker\": {\"color\": \"blue\", \"size\": 0.5}, \"mode\": \"markers\", \"text\": \"VBA appears with T-SQL 27 times\", \"x\": [0.8153770106134142], \"y\": [-0.3809991214729142], \"type\": \"scatter\", \"uid\": \"fb947523-17e7-4905-b40f-defc696ba1a2\"}, {\"hoverinfo\": \"text\", \"marker\": {\"color\": \"green\", \"size\": 0.5}, \"mode\": \"markers\", \"text\": \"T-SQL appears with Linux 29 times\", \"x\": [-0.7677584163668242], \"y\": [0.4696243329491204], \"type\": \"scatter\", \"uid\": \"39bc10ae-b442-492f-8c2a-87900ccc3007\"}, {\"hoverinfo\": \"text\", \"marker\": {\"color\": \"blue\", \"size\": 0.5}, \"mode\": \"markers\", \"text\": \"Linux appears with T-SQL 29 times\", \"x\": [0.871770433373832], \"y\": [-0.22364326838785298], \"type\": \"scatter\", \"uid\": \"2469d31a-48bd-40b7-8782-77d956f7bfae\"}, {\"hoverinfo\": \"text\", \"marker\": {\"color\": \"green\", \"size\": 0.5}, \"mode\": \"markers\", \"text\": \"T-SQL appears with AWS 10 times\", \"x\": [-0.7561829326568908], \"y\": [0.488044436868636], \"type\": \"scatter\", \"uid\": \"9d8bf38d-a1c4-4007-989a-cddf10bddbd0\"}, {\"hoverinfo\": \"text\", \"marker\": {\"color\": \"blue\", \"size\": 0.5}, \"mode\": \"markers\", \"text\": \"AWS appears with T-SQL 10 times\", \"x\": [0.89499969081522], \"y\": [-0.09473939751054229], \"type\": \"scatter\", \"uid\": \"eed633e6-7fce-44b2-a014-cd16b84a4ba5\"}, {\"hoverinfo\": \"text\", \"marker\": {\"color\": \"green\", \"size\": 0.5}, \"mode\": \"markers\", \"text\": \"PL/SQL appears with Pentaho 8 times\", \"x\": [-0.8615391640992699], \"y\": [0.2602888178987552], \"type\": \"scatter\", \"uid\": \"7d99973c-b3b1-4f2e-94a4-9a345d7e50cc\"}, {\"hoverinfo\": \"text\", \"marker\": {\"color\": \"blue\", \"size\": 0.5}, \"mode\": \"markers\", \"text\": \"Pentaho appears with PL/SQL 8 times\", \"x\": [-0.8819639805287873], \"y\": [0.17927503186394075], \"type\": \"scatter\", \"uid\": \"736682ea-31f9-41d2-9afe-b6f7f00c0090\"}, {\"hoverinfo\": \"text\", \"marker\": {\"color\": \"green\", \"size\": 0.5}, \"mode\": \"markers\", \"text\": \"PL/SQL appears with Hadoop 6 times\", \"x\": [-0.8612760709772967], \"y\": [0.2611580547521184], \"type\": \"scatter\", \"uid\": \"99105a19-0bd9-40ff-8564-ec27644da1dc\"}, {\"hoverinfo\": \"text\", \"marker\": {\"color\": \"blue\", \"size\": 0.5}, \"mode\": \"markers\", \"text\": \"Hadoop appears with PL/SQL 6 times\", \"x\": [-0.8975541745363302], \"y\": [0.06630613676279708], \"type\": \"scatter\", \"uid\": \"8070773e-1013-41ac-aa0d-c7805d08f054\"}, {\"hoverinfo\": \"text\", \"marker\": {\"color\": \"green\", \"size\": 0.5}, \"mode\": \"markers\", \"text\": \"PL/SQL appears with Informatica 33 times\", \"x\": [-0.866177441705015], \"y\": [0.24441080066428195], \"type\": \"scatter\", \"uid\": \"7831fe20-175f-4ec5-a6a6-cf498e7afb48\"}, {\"hoverinfo\": \"text\", \"marker\": {\"color\": \"blue\", \"size\": 0.5}, \"mode\": \"markers\", \"text\": \"Informatica appears with PL/SQL 33 times\", \"x\": [-0.8465117827681443], \"y\": [-0.30564325877515774], \"type\": \"scatter\", \"uid\": \"54c8ca16-6048-45e0-8f64-b6b5e2ea2ee5\"}, {\"hoverinfo\": \"text\", \"marker\": {\"color\": \"green\", \"size\": 0.5}, \"mode\": \"markers\", \"text\": \"PL/SQL appears with Qlik 20 times\", \"x\": [-0.8633562374761656], \"y\": [0.25419678835697124], \"type\": \"scatter\", \"uid\": \"68589e28-7a4e-41eb-af7e-2c998bb0dcc6\"}, {\"hoverinfo\": \"text\", \"marker\": {\"color\": \"blue\", \"size\": 0.5}, \"mode\": \"markers\", \"text\": \"Qlik appears with PL/SQL 20 times\", \"x\": [-0.7891779551847529], \"y\": [-0.4326640209798039], \"type\": \"scatter\", \"uid\": \"9eb8d176-f780-475a-a061-d0725016c506\"}, {\"hoverinfo\": \"text\", \"marker\": {\"color\": \"green\", \"size\": 0.5}, \"mode\": \"markers\", \"text\": \"PL/SQL appears with Tableau 26 times\", \"x\": [-0.8641942996243493], \"y\": [0.2513328718985647], \"type\": \"scatter\", \"uid\": \"e57fac67-37a8-425f-86d7-edca4c3386ac\"}, {\"hoverinfo\": \"text\", \"marker\": {\"color\": \"blue\", \"size\": 0.5}, \"mode\": \"markers\", \"text\": \"Tableau appears with PL/SQL 26 times\", \"x\": [-0.5447622212596176], \"y\": [-0.7164036029280475], \"type\": \"scatter\", \"uid\": \"6152243b-db6e-4e7c-a4f8-84cf91920329\"}, {\"hoverinfo\": \"text\", \"marker\": {\"color\": \"green\", \"size\": 0.5}, \"mode\": \"markers\", \"text\": \"PL/SQL appears with Microstrategy 26 times\", \"x\": [-0.8651302340883966], \"y\": [0.2480920757826739], \"type\": \"scatter\", \"uid\": \"6e053126-12e3-4820-8f50-bcb7ace54b00\"}, {\"hoverinfo\": \"text\", \"marker\": {\"color\": \"blue\", \"size\": 0.5}, \"mode\": \"markers\", \"text\": \"Microstrategy appears with PL/SQL 26 times\", \"x\": [-0.08485196562494], \"y\": [-0.8959911517027297], \"type\": \"scatter\", \"uid\": \"184c0801-57dc-48b7-a86f-75870cd7ea4c\"}, {\"hoverinfo\": \"text\", \"marker\": {\"color\": \"green\", \"size\": 0.5}, \"mode\": \"markers\", \"text\": \"PL/SQL appears with Oracle BI 93 times\", \"x\": [-0.8738966754502152], \"y\": [0.21518503813476741], \"type\": \"scatter\", \"uid\": \"e6008e4f-b78f-479c-a65f-095958bd2eef\"}, {\"hoverinfo\": \"text\", \"marker\": {\"color\": \"blue\", \"size\": 0.5}, \"mode\": \"markers\", \"text\": \"Oracle BI appears with PL/SQL 93 times\", \"x\": [0.07572527102407332], \"y\": [-0.8968086101997074], \"type\": \"scatter\", \"uid\": \"968465a1-f5b8-4400-978d-5c16bf59dfa9\"}, {\"hoverinfo\": \"text\", \"marker\": {\"color\": \"green\", \"size\": 0.5}, \"mode\": \"markers\", \"text\": \"PL/SQL appears with Python 3 times\", \"x\": [-0.8608419427855435], \"y\": [0.2625855090084202], \"type\": \"scatter\", \"uid\": \"78c9fba2-d850-492d-acc9-20d9c4f6590e\"}, {\"hoverinfo\": \"text\", \"marker\": {\"color\": \"blue\", \"size\": 0.5}, \"mode\": \"markers\", \"text\": \"Python appears with PL/SQL 3 times\", \"x\": [0.5623139009955058], \"y\": [-0.7027112328312509], \"type\": \"scatter\", \"uid\": \"6789347b-2860-4d35-b8e2-79ae001a2ace\"}, {\"hoverinfo\": \"text\", \"marker\": {\"color\": \"green\", \"size\": 0.5}, \"mode\": \"markers\", \"text\": \"PL/SQL appears with VBA 10 times\", \"x\": [-0.86187613759605], \"y\": [0.25917083833354915], \"type\": \"scatter\", \"uid\": \"83daa8b6-e486-4e91-9f70-bbc89cb640cc\"}, {\"hoverinfo\": \"text\", \"marker\": {\"color\": \"blue\", \"size\": 0.5}, \"mode\": \"markers\", \"text\": \"VBA appears with PL/SQL 10 times\", \"x\": [0.8141173042871139], \"y\": [-0.38368348265241065], \"type\": \"scatter\", \"uid\": \"c293ac77-97b6-4379-961d-8a4278c66e38\"}, {\"hoverinfo\": \"text\", \"marker\": {\"color\": \"green\", \"size\": 0.5}, \"mode\": \"markers\", \"text\": \"PL/SQL appears with Linux 4 times\", \"x\": [-0.8610876103624295], \"y\": [0.2617787754580591], \"type\": \"scatter\", \"uid\": \"fcf13f9f-eb8a-4a5b-8940-95a9400bff4f\"}, {\"hoverinfo\": \"text\", \"marker\": {\"color\": \"blue\", \"size\": 0.5}, \"mode\": \"markers\", \"text\": \"Linux appears with PL/SQL 4 times\", \"x\": [0.8664203724649016], \"y\": [-0.24354822556894415], \"type\": \"scatter\", \"uid\": \"8ba801ca-f738-42c4-8018-b0b61357121f\"}, {\"hoverinfo\": \"text\", \"marker\": {\"color\": \"green\", \"size\": 0.5}, \"mode\": \"markers\", \"text\": \"PL/SQL appears with AWS 2 times\", \"x\": [-0.860747253992912], \"y\": [0.2628957297935086], \"type\": \"scatter\", \"uid\": \"28344d6f-bcc7-410e-a631-b4cb8cc566cf\"}, {\"hoverinfo\": \"text\", \"marker\": {\"color\": \"blue\", \"size\": 0.5}, \"mode\": \"markers\", \"text\": \"AWS appears with PL/SQL 2 times\", \"x\": [0.8944215396014541], \"y\": [-0.10005053471603546], \"type\": \"scatter\", \"uid\": \"b25a2ce5-ca80-4dee-9774-2d1f5e27edb6\"}, {\"hoverinfo\": \"text\", \"marker\": {\"color\": \"green\", \"size\": 0.5}, \"mode\": \"markers\", \"text\": \"Pentaho appears with Spark 8 times\", \"x\": [-0.8817288477858422], \"y\": [0.18042793293237955], \"type\": \"scatter\", \"uid\": \"627e211c-e2a6-4740-ad88-f3cb59ab9ee5\"}, {\"hoverinfo\": \"text\", \"marker\": {\"color\": \"blue\", \"size\": 0.5}, \"mode\": \"markers\", \"text\": \"Spark appears with Pentaho 8 times\", \"x\": [-0.8940667955430162], \"y\": [-0.10317250170196822], \"type\": \"scatter\", \"uid\": \"8fa29490-4705-41c8-aa16-4458e9c1aa74\"}, {\"hoverinfo\": \"text\", \"marker\": {\"color\": \"green\", \"size\": 0.5}, \"mode\": \"markers\", \"text\": \"Pentaho appears with Informatica 36 times\", \"x\": [-0.8842049096377712], \"y\": [0.16787399373476836], \"type\": \"scatter\", \"uid\": \"29990518-e4b4-4f34-9a3a-359def083b47\"}, {\"hoverinfo\": \"text\", \"marker\": {\"color\": \"blue\", \"size\": 0.5}, \"mode\": \"markers\", \"text\": \"Informatica appears with Pentaho 36 times\", \"x\": [-0.8446264134948973], \"y\": [-0.3108154140752143], \"type\": \"scatter\", \"uid\": \"363e85c7-764d-49a9-a9ad-addab58dd35b\"}, {\"hoverinfo\": \"text\", \"marker\": {\"color\": \"green\", \"size\": 0.5}, \"mode\": \"markers\", \"text\": \"Pentaho appears with Qlik 33 times\", \"x\": [-0.8832443811087902], \"y\": [0.1728564816249313], \"type\": \"scatter\", \"uid\": \"2536e57c-315c-4c5f-8a0a-6012725da6ea\"}, {\"hoverinfo\": \"text\", \"marker\": {\"color\": \"blue\", \"size\": 0.5}, \"mode\": \"markers\", \"text\": \"Qlik appears with Pentaho 33 times\", \"x\": [-0.784121337598899], \"y\": [-0.4417620716201352], \"type\": \"scatter\", \"uid\": \"74ecef95-3511-4d59-ac53-47e93acf1358\"}, {\"hoverinfo\": \"text\", \"marker\": {\"color\": \"green\", \"size\": 0.5}, \"mode\": \"markers\", \"text\": \"Pentaho appears with Tableau 41 times\", \"x\": [-0.889001836726104], \"y\": [0.14027021885494248], \"type\": \"scatter\", \"uid\": \"529e2088-e407-4032-9588-920b30dc8856\"}, {\"hoverinfo\": \"text\", \"marker\": {\"color\": \"blue\", \"size\": 0.5}, \"mode\": \"markers\", \"text\": \"Tableau appears with Pentaho 41 times\", \"x\": [-0.5349568893005989], \"y\": [-0.7237548801837724], \"type\": \"scatter\", \"uid\": \"2f439f7d-d2c8-4732-8710-3f90e398965b\"}, {\"hoverinfo\": \"text\", \"marker\": {\"color\": \"green\", \"size\": 0.5}, \"mode\": \"markers\", \"text\": \"Pentaho appears with Microstrategy 4 times\", \"x\": [-0.8815515091927439], \"y\": [0.18129240645982814], \"type\": \"scatter\", \"uid\": \"00841b14-c658-4edd-afe1-777fc75f1120\"}, {\"hoverinfo\": \"text\", \"marker\": {\"color\": \"blue\", \"size\": 0.5}, \"mode\": \"markers\", \"text\": \"Microstrategy appears with Pentaho 4 times\", \"x\": [-0.0985354444330953], \"y\": [-0.8945897194750074], \"type\": \"scatter\", \"uid\": \"507cb5cb-7b07-41bf-ac33-2a55d1a6eb59\"}, {\"hoverinfo\": \"text\", \"marker\": {\"color\": \"green\", \"size\": 0.5}, \"mode\": \"markers\", \"text\": \"Pentaho appears with Oracle BI 40 times\", \"x\": [-0.8880539839726952], \"y\": [0.14615102308989872], \"type\": \"scatter\", \"uid\": \"1ecaee88-42eb-40c1-9d30-94e4168af863\"}, {\"hoverinfo\": \"text\", \"marker\": {\"color\": \"blue\", \"size\": 0.5}, \"mode\": \"markers\", \"text\": \"Oracle BI appears with Pentaho 40 times\", \"x\": [-0.015379140764226713], \"y\": [-0.8998685915339828], \"type\": \"scatter\", \"uid\": \"5f6301b0-e595-4d18-b35a-fd7eb8e0cad8\"}, {\"hoverinfo\": \"text\", \"marker\": {\"color\": \"green\", \"size\": 0.5}, \"mode\": \"markers\", \"text\": \"Pentaho appears with Python 38 times\", \"x\": [-0.8871044694279356], \"y\": [0.1518079718624185], \"type\": \"scatter\", \"uid\": \"7fc9979e-8caa-4e8c-902e-b1a1d1642c6d\"}, {\"hoverinfo\": \"text\", \"marker\": {\"color\": \"blue\", \"size\": 0.5}, \"mode\": \"markers\", \"text\": \"Python appears with Pentaho 38 times\", \"x\": [0.5765973629957281], \"y\": [-0.691039420718075], \"type\": \"scatter\", \"uid\": \"53f418f3-26da-403b-a9ee-20c5d779e89a\"}, {\"hoverinfo\": \"text\", \"marker\": {\"color\": \"green\", \"size\": 0.5}, \"mode\": \"markers\", \"text\": \"Pentaho appears with VBA 1 times\", \"x\": [-0.881477367955832], \"y\": [0.18165255236758693], \"type\": \"scatter\", \"uid\": \"d79f54a3-5768-4ff7-93c4-27087964893b\"}, {\"hoverinfo\": \"text\", \"marker\": {\"color\": \"blue\", \"size\": 0.5}, \"mode\": \"markers\", \"text\": \"VBA appears with Pentaho 1 times\", \"x\": [0.8104943835181136], \"y\": [-0.3912784868678484], \"type\": \"scatter\", \"uid\": \"c1df3a87-ca1b-44e1-a015-0dc07f5e0ff2\"}, {\"hoverinfo\": \"text\", \"marker\": {\"color\": \"green\", \"size\": 0.5}, \"mode\": \"markers\", \"text\": \"Pentaho appears with Linux 38 times\", \"x\": [-0.8861446405137774], \"y\": [0.15731394117721495], \"type\": \"scatter\", \"uid\": \"f3e90069-fa56-4091-b8b5-e65281d44a71\"}, {\"hoverinfo\": \"text\", \"marker\": {\"color\": \"blue\", \"size\": 0.5}, \"mode\": \"markers\", \"text\": \"Linux appears with Pentaho 38 times\", \"x\": [0.8730701759781969], \"y\": [-0.2185142279518662], \"type\": \"scatter\", \"uid\": \"34ac8a98-8dbf-4a2c-8518-311c6f944ebc\"}, {\"hoverinfo\": \"text\", \"marker\": {\"color\": \"green\", \"size\": 0.5}, \"mode\": \"markers\", \"text\": \"Pentaho appears with AWS 15 times\", \"x\": [-0.8825596264554229], \"y\": [0.17631932892018531], \"type\": \"scatter\", \"uid\": \"4a88ffe8-5869-4879-aed1-4a92efd92c15\"}, {\"hoverinfo\": \"text\", \"marker\": {\"color\": \"blue\", \"size\": 0.5}, \"mode\": \"markers\", \"text\": \"AWS appears with Pentaho 15 times\", \"x\": [0.8951829797056291], \"y\": [-0.09299157405567125], \"type\": \"scatter\", \"uid\": \"9a738fd2-a54c-4bac-aae5-a3668d395d15\"}, {\"hoverinfo\": \"text\", \"marker\": {\"color\": \"green\", \"size\": 0.5}, \"mode\": \"markers\", \"text\": \"Hadoop appears with Spark 161 times\", \"x\": [-0.899427136186449], \"y\": [-0.03210648986487016], \"type\": \"scatter\", \"uid\": \"15b7c508-6745-4e5c-988f-776ebe0da69c\"}, {\"hoverinfo\": \"text\", \"marker\": {\"color\": \"blue\", \"size\": 0.5}, \"mode\": \"markers\", \"text\": \"Spark appears with Hadoop 161 times\", \"x\": [-0.8753359734562713], \"y\": [-0.20925327613531405], \"type\": \"scatter\", \"uid\": \"2deec2c9-23a8-4fe5-80f7-c325b441b6e6\"}, {\"hoverinfo\": \"text\", \"marker\": {\"color\": \"green\", \"size\": 0.5}, \"mode\": \"markers\", \"text\": \"Hadoop appears with Informatica 5 times\", \"x\": [-0.8974876067542094], \"y\": [0.06720115864032178], \"type\": \"scatter\", \"uid\": \"df70af3d-670a-4b8b-a871-83b53fcc189e\"}, {\"hoverinfo\": \"text\", \"marker\": {\"color\": \"blue\", \"size\": 0.5}, \"mode\": \"markers\", \"text\": \"Informatica appears with Hadoop 5 times\", \"x\": [-0.8551393765272798], \"y\": [-0.28060051089143684], \"type\": \"scatter\", \"uid\": \"a86ccc2f-0d14-4f80-9100-be395855b02a\"}, {\"hoverinfo\": \"text\", \"marker\": {\"color\": \"green\", \"size\": 0.5}, \"mode\": \"markers\", \"text\": \"Hadoop appears with Qlik 9 times\", \"x\": [-0.8977253928463623], \"y\": [0.06394621989488054], \"type\": \"scatter\", \"uid\": \"a832239e-fcc9-4b5f-83ad-cec8c0f1cab2\"}, {\"hoverinfo\": \"text\", \"marker\": {\"color\": \"blue\", \"size\": 0.5}, \"mode\": \"markers\", \"text\": \"Qlik appears with Hadoop 9 times\", \"x\": [-0.7944694913510099], \"y\": [-0.42286904274546705], \"type\": \"scatter\", \"uid\": \"370bfd36-abf3-4431-8ad6-335be3168bd4\"}, {\"hoverinfo\": \"text\", \"marker\": {\"color\": \"green\", \"size\": 0.5}, \"mode\": \"markers\", \"text\": \"Hadoop appears with Tableau 50 times\", \"x\": [-0.8995536769541881], \"y\": [0.028340470677110954], \"type\": \"scatter\", \"uid\": \"0a7a18fd-de9e-47ea-a802-638836be3d5f\"}, {\"hoverinfo\": \"text\", \"marker\": {\"color\": \"blue\", \"size\": 0.5}, \"mode\": \"markers\", \"text\": \"Tableau appears with Hadoop 50 times\", \"x\": [-0.5217541634368768], \"y\": [-0.7333297982056128], \"type\": \"scatter\", \"uid\": \"a0aa0375-a1be-43d8-b2e8-125e70829ebf\"}, {\"hoverinfo\": \"text\", \"marker\": {\"color\": \"green\", \"size\": 0.5}, \"mode\": \"markers\", \"text\": \"Hadoop appears with Microstrategy 3 times\", \"x\": [-0.8973891876905223], \"y\": [0.0685028891080121], \"type\": \"scatter\", \"uid\": \"f4d4fb08-1bcc-443b-8059-cbc7c733e43c\"}, {\"hoverinfo\": \"text\", \"marker\": {\"color\": \"blue\", \"size\": 0.5}, \"mode\": \"markers\", \"text\": \"Microstrategy appears with Hadoop 3 times\", \"x\": [-0.09897445787620565], \"y\": [-0.8945412548832564], \"type\": \"scatter\", \"uid\": \"d6852cdb-d7b1-4278-afdf-23ebb1280cdf\"}, {\"hoverinfo\": \"text\", \"marker\": {\"color\": \"green\", \"size\": 0.5}, \"mode\": \"markers\", \"text\": \"Hadoop appears with Oracle BI 48 times\", \"x\": [-0.8992663945930196], \"y\": [0.036331137549926486], \"type\": \"scatter\", \"uid\": \"4b9feb10-60d8-46e5-8daa-bd6af86b9df8\"}, {\"hoverinfo\": \"text\", \"marker\": {\"color\": \"blue\", \"size\": 0.5}, \"mode\": \"markers\", \"text\": \"Oracle BI appears with Hadoop 48 times\", \"x\": [0.009822161871704847], \"y\": [-0.8999464012574115], \"type\": \"scatter\", \"uid\": \"7da51ded-5098-4a61-9378-10174b105770\"}, {\"hoverinfo\": \"text\", \"marker\": {\"color\": \"green\", \"size\": 0.5}, \"mode\": \"markers\", \"text\": \"Hadoop appears with Python 176 times\", \"x\": [-0.8980266862686952], \"y\": [-0.0595656843263526], \"type\": \"scatter\", \"uid\": \"eae5f734-1262-428d-a869-4b6357be4b34\"}, {\"hoverinfo\": \"text\", \"marker\": {\"color\": \"blue\", \"size\": 0.5}, \"mode\": \"markers\", \"text\": \"Python appears with Hadoop 176 times\", \"x\": [0.7343892535414956], \"y\": [-0.5202618804820941], \"type\": \"scatter\", \"uid\": \"2e2f9301-45de-42e4-9348-c0f03e774700\"}, {\"hoverinfo\": \"text\", \"marker\": {\"color\": \"green\", \"size\": 0.5}, \"mode\": \"markers\", \"text\": \"Hadoop appears with VBA 10 times\", \"x\": [-0.8978342060844438], \"y\": [0.062399826800373585], \"type\": \"scatter\", \"uid\": \"3335af42-ce6b-4339-b1d3-b7e64dec56a5\"}, {\"hoverinfo\": \"text\", \"marker\": {\"color\": \"blue\", \"size\": 0.5}, \"mode\": \"markers\", \"text\": \"VBA appears with Hadoop 10 times\", \"x\": [0.8134327015337534], \"y\": [-0.3851327564301689], \"type\": \"scatter\", \"uid\": \"a8b3efb3-9076-41f1-9cdf-ad32982778e9\"}, {\"hoverinfo\": \"text\", \"marker\": {\"color\": \"green\", \"size\": 0.5}, \"mode\": \"markers\", \"text\": \"Hadoop appears with Linux 112 times\", \"x\": [-0.8999462180015926], \"y\": [-0.009838938186106675], \"type\": \"scatter\", \"uid\": \"50c60e4e-eb2f-4bd8-a693-9cce68583822\"}, {\"hoverinfo\": \"text\", \"marker\": {\"color\": \"blue\", \"size\": 0.5}, \"mode\": \"markers\", \"text\": \"Linux appears with Hadoop 112 times\", \"x\": [0.8864384538938517], \"y\": [-0.15564982318742834], \"type\": \"scatter\", \"uid\": \"363ca3f5-f3a5-4410-8fc0-745786c5af2e\"}, {\"hoverinfo\": \"text\", \"marker\": {\"color\": \"green\", \"size\": 0.5}, \"mode\": \"markers\", \"text\": \"Hadoop appears with AWS 60 times\", \"x\": [-0.8997915606681774], \"y\": [0.019368720926419374], \"type\": \"scatter\", \"uid\": \"d21bb5b3-85a7-4ebf-b666-a339295133b0\"}, {\"hoverinfo\": \"text\", \"marker\": {\"color\": \"blue\", \"size\": 0.5}, \"mode\": \"markers\", \"text\": \"AWS appears with Hadoop 60 times\", \"x\": [0.8982073159131649], \"y\": [-0.056776911152932714], \"type\": \"scatter\", \"uid\": \"3c77b525-23a1-4fef-ab5e-1d8bf2512bee\"}, {\"hoverinfo\": \"text\", \"marker\": {\"color\": \"green\", \"size\": 0.5}, \"mode\": \"markers\", \"text\": \"Spark appears with Informatica 15 times\", \"x\": [-0.8933955594756988], \"y\": [-0.10883186256378741], \"type\": \"scatter\", \"uid\": \"1feba2f3-a8c4-46a9-a3e7-17feddc63c88\"}, {\"hoverinfo\": \"text\", \"marker\": {\"color\": \"blue\", \"size\": 0.5}, \"mode\": \"markers\", \"text\": \"Informatica appears with Spark 15 times\", \"x\": [-0.852516086323973], \"y\": [-0.28847239479516257], \"type\": \"scatter\", \"uid\": \"7dfd17fd-194c-4581-b9f6-d484eed894b2\"}, {\"hoverinfo\": \"text\", \"marker\": {\"color\": \"green\", \"size\": 0.5}, \"mode\": \"markers\", \"text\": \"Spark appears with Qlik 16 times\", \"x\": [-0.8930823254267032], \"y\": [-0.11137306680895659], \"type\": \"scatter\", \"uid\": \"6f5767f6-9397-419c-9a01-af857f466d0c\"}, {\"hoverinfo\": \"text\", \"marker\": {\"color\": \"blue\", \"size\": 0.5}, \"mode\": \"markers\", \"text\": \"Qlik appears with Spark 16 times\", \"x\": [-0.7922042570256705], \"y\": [-0.42709766465107885], \"type\": \"scatter\", \"uid\": \"bee7abbe-8ea2-4d80-a0fb-8346e7ee08fe\"}, {\"hoverinfo\": \"text\", \"marker\": {\"color\": \"green\", \"size\": 0.5}, \"mode\": \"markers\", \"text\": \"Spark appears with Tableau 43 times\", \"x\": [-0.889615524470459], \"y\": [-0.13632394735023715], \"type\": \"scatter\", \"uid\": \"fce7c232-f3a0-4b80-9cf1-4bed67d9dc9a\"}, {\"hoverinfo\": \"text\", \"marker\": {\"color\": \"blue\", \"size\": 0.5}, \"mode\": \"markers\", \"text\": \"Tableau appears with Spark 43 times\", \"x\": [-0.5287128266664503], \"y\": [-0.728328735474835], \"type\": \"scatter\", \"uid\": \"a57b2ce8-0bc9-41f5-9f64-e95e8960e1d0\"}, {\"hoverinfo\": \"text\", \"marker\": {\"color\": \"green\", \"size\": 0.5}, \"mode\": \"markers\", \"text\": \"Spark appears with Microstrategy 3 times\", \"x\": [-0.8941704917185512], \"y\": [-0.10226989654734277], \"type\": \"scatter\", \"uid\": \"50ffcd6d-efed-4f57-ac13-7217c7eef6ec\"}, {\"hoverinfo\": \"text\", \"marker\": {\"color\": \"blue\", \"size\": 0.5}, \"mode\": \"markers\", \"text\": \"Microstrategy appears with Spark 3 times\", \"x\": [-0.09935073614473335], \"y\": [-0.8944995423293964], \"type\": \"scatter\", \"uid\": \"d009390f-907d-4715-bba9-5c0b2ab1063d\"}, {\"hoverinfo\": \"text\", \"marker\": {\"color\": \"green\", \"size\": 0.5}, \"mode\": \"markers\", \"text\": \"Spark appears with Oracle BI 44 times\", \"x\": [-0.888498749012446], \"y\": [-0.14342235879847517], \"type\": \"scatter\", \"uid\": \"0ad2c50b-80b0-42f9-8bc8-fac6fb635a59\"}, {\"hoverinfo\": \"text\", \"marker\": {\"color\": \"blue\", \"size\": 0.5}, \"mode\": \"markers\", \"text\": \"Oracle BI appears with Spark 44 times\", \"x\": [-0.0075391023268481195], \"y\": [-0.899968422743879], \"type\": \"scatter\", \"uid\": \"5a73a220-539a-4182-ac68-3730019c11a4\"}, {\"hoverinfo\": \"text\", \"marker\": {\"color\": \"green\", \"size\": 0.5}, \"mode\": \"markers\", \"text\": \"Spark appears with Python 193 times\", \"x\": [-0.8680772177506696], \"y\": [-0.23757513342573652], \"type\": \"scatter\", \"uid\": \"21d1cf8b-06d8-4968-9aa2-886c45868474\"}, {\"hoverinfo\": \"text\", \"marker\": {\"color\": \"blue\", \"size\": 0.5}, \"mode\": \"markers\", \"text\": \"Python appears with Spark 193 times\", \"x\": [0.7532579215595167], \"y\": [-0.49254695573908186], \"type\": \"scatter\", \"uid\": \"b3655826-fc37-4761-9419-eb757bb92e45\"}, {\"hoverinfo\": \"text\", \"marker\": {\"color\": \"green\", \"size\": 0.5}, \"mode\": \"markers\", \"text\": \"Spark appears with VBA 10 times\", \"x\": [-0.89389514563429], \"y\": [-0.10464926474396079], \"type\": \"scatter\", \"uid\": \"7243cad2-5170-424a-aba2-d473dc7e8196\"}, {\"hoverinfo\": \"text\", \"marker\": {\"color\": \"blue\", \"size\": 0.5}, \"mode\": \"markers\", \"text\": \"VBA appears with Spark 10 times\", \"x\": [0.8127455188174872], \"y\": [-0.3865808086831182], \"type\": \"scatter\", \"uid\": \"5bf86b77-155b-40b7-b5e7-8e5c101c20b2\"}, {\"hoverinfo\": \"text\", \"marker\": {\"color\": \"green\", \"size\": 0.5}, \"mode\": \"markers\", \"text\": \"Spark appears with Linux 92 times\", \"x\": [-0.8832763820192102], \"y\": [-0.17269288626649978], \"type\": \"scatter\", \"uid\": \"7053a272-81dc-43d6-b07b-860a5132e70e\"}, {\"hoverinfo\": \"text\", \"marker\": {\"color\": \"blue\", \"size\": 0.5}, \"mode\": \"markers\", \"text\": \"Linux appears with Spark 92 times\", \"x\": [0.8835103818909078], \"y\": [-0.1714917056040388], \"type\": \"scatter\", \"uid\": \"d9bc7cba-0e7c-4601-8c35-29905eaa31f9\"}, {\"hoverinfo\": \"text\", \"marker\": {\"color\": \"green\", \"size\": 0.5}, \"mode\": \"markers\", \"text\": \"Spark appears with AWS 64 times\", \"x\": [-0.8856581254404974], \"y\": [-0.16003026226693604], \"type\": \"scatter\", \"uid\": \"79cb9af8-0d84-404d-912a-26c165cd8e7b\"}, {\"hoverinfo\": \"text\", \"marker\": {\"color\": \"blue\", \"size\": 0.5}, \"mode\": \"markers\", \"text\": \"AWS appears with Spark 64 times\", \"x\": [0.8987150794532176], \"y\": [-0.0480750035194667], \"type\": \"scatter\", \"uid\": \"2940d4e9-d96d-4705-a8fd-b2da00a8128a\"}, {\"hoverinfo\": \"text\", \"marker\": {\"color\": \"green\", \"size\": 0.5}, \"mode\": \"markers\", \"text\": \"Informatica appears with Qlik 94 times\", \"x\": [-0.8282247697743734], \"y\": [-0.35219842522672656], \"type\": \"scatter\", \"uid\": \"8c33e60e-5f18-4ced-879b-0a632a4d4e77\"}, {\"hoverinfo\": \"text\", \"marker\": {\"color\": \"blue\", \"size\": 0.5}, \"mode\": \"markers\", \"text\": \"Qlik appears with Informatica 94 times\", \"x\": [-0.7462329717193996], \"y\": [-0.5031265764386073], \"type\": \"scatter\", \"uid\": \"fc6b5639-68f2-4a81-8569-f4a7cb728778\"}, {\"hoverinfo\": \"text\", \"marker\": {\"color\": \"green\", \"size\": 0.5}, \"mode\": \"markers\", \"text\": \"Informatica appears with Tableau 74 times\", \"x\": [-0.8377646582951632], \"y\": [-0.3288622467106682], \"type\": \"scatter\", \"uid\": \"8b8b7c3f-1fab-448b-a370-88c354b35050\"}, {\"hoverinfo\": \"text\", \"marker\": {\"color\": \"blue\", \"size\": 0.5}, \"mode\": \"markers\", \"text\": \"Tableau appears with Informatica 74 times\", \"x\": [-0.49499301823247593], \"y\": [-0.7516527867979362], \"type\": \"scatter\", \"uid\": \"792ff8d3-5531-4f64-b8f4-33a6a016ba5a\"}, {\"hoverinfo\": \"text\", \"marker\": {\"color\": \"green\", \"size\": 0.5}, \"mode\": \"markers\", \"text\": \"Informatica appears with Microstrategy 18 times\", \"x\": [-0.8516685411295601], \"y\": [-0.2909651113969625], \"type\": \"scatter\", \"uid\": \"87e17d42-7add-46d4-b895-2b8bf5a695e3\"}, {\"hoverinfo\": \"text\", \"marker\": {\"color\": \"blue\", \"size\": 0.5}, \"mode\": \"markers\", \"text\": \"Microstrategy appears with Informatica 18 times\", \"x\": [-0.09288890907897993], \"y\": [-0.8951936385889463], \"type\": \"scatter\", \"uid\": \"dec4ed4c-5564-4615-a640-ffaa7bfe317d\"}, {\"hoverinfo\": \"text\", \"marker\": {\"color\": \"green\", \"size\": 0.5}, \"mode\": \"markers\", \"text\": \"Informatica appears with Oracle BI 136 times\", \"x\": [-0.8128359404469979], \"y\": [-0.386390649366214], \"type\": \"scatter\", \"uid\": \"98feb347-8913-4994-bfc4-d66ccf85a8f8\"}, {\"hoverinfo\": \"text\", \"marker\": {\"color\": \"blue\", \"size\": 0.5}, \"mode\": \"markers\", \"text\": \"Oracle BI appears with Informatica 136 times\", \"x\": [0.0970013543641066], \"y\": [-0.8947573622225911], \"type\": \"scatter\", \"uid\": \"167c39ee-350d-4fab-847b-f4b1cd5a0df2\"}, {\"hoverinfo\": \"text\", \"marker\": {\"color\": \"green\", \"size\": 0.5}, \"mode\": \"markers\", \"text\": \"Informatica appears with Python 31 times\", \"x\": [-0.8482322201445557], \"y\": [-0.3008356706054622], \"type\": \"scatter\", \"uid\": \"e5ffe286-c477-4f75-9a5d-642aebb785f7\"}, {\"hoverinfo\": \"text\", \"marker\": {\"color\": \"blue\", \"size\": 0.5}, \"mode\": \"markers\", \"text\": \"Python appears with Informatica 31 times\", \"x\": [0.5717692662449463], \"y\": [-0.6950394997248112], \"type\": \"scatter\", \"uid\": \"9e8ba626-25e7-4322-8d4e-abd8bd34cd12\"}, {\"hoverinfo\": \"text\", \"marker\": {\"color\": \"green\", \"size\": 0.5}, \"mode\": \"markers\", \"text\": \"Informatica appears with VBA 6 times\", \"x\": [-0.8548653466525209], \"y\": [-0.2814342535880546], \"type\": \"scatter\", \"uid\": \"1f75218e-01e8-4bd8-bff3-8bc5ae068547\"}, {\"hoverinfo\": \"text\", \"marker\": {\"color\": \"blue\", \"size\": 0.5}, \"mode\": \"markers\", \"text\": \"VBA appears with Informatica 6 times\", \"x\": [0.811709912082611], \"y\": [-0.38875058665787243], \"type\": \"scatter\", \"uid\": \"5e20e11a-d9b8-4feb-a08f-6c4dc3eb3d07\"}, {\"hoverinfo\": \"text\", \"marker\": {\"color\": \"green\", \"size\": 0.5}, \"mode\": \"markers\", \"text\": \"Informatica appears with Linux 12 times\", \"x\": [-0.8538620239322807], \"y\": [-0.28446378343520184], \"type\": \"scatter\", \"uid\": \"5d95b615-ec1c-4b55-b297-eb6c510d5892\"}, {\"hoverinfo\": \"text\", \"marker\": {\"color\": \"blue\", \"size\": 0.5}, \"mode\": \"markers\", \"text\": \"Linux appears with Informatica 12 times\", \"x\": [0.8678581496729167], \"y\": [-0.23837414299017673], \"type\": \"scatter\", \"uid\": \"062d6a57-7ae1-4d05-b36b-cd687ee6fc26\"}, {\"hoverinfo\": \"text\", \"marker\": {\"color\": \"green\", \"size\": 0.5}, \"mode\": \"markers\", \"text\": \"Informatica appears with AWS 21 times\", \"x\": [-0.8496099737330765], \"y\": [-0.2969223678561134], \"type\": \"scatter\", \"uid\": \"571879c5-8536-4711-a9d3-084197c2302a\"}, {\"hoverinfo\": \"text\", \"marker\": {\"color\": \"blue\", \"size\": 0.5}, \"mode\": \"markers\", \"text\": \"AWS appears with Informatica 21 times\", \"x\": [0.8954409190816184], \"y\": [-0.09047408708722321], \"type\": \"scatter\", \"uid\": \"e60cbc9c-f176-4e93-8a45-83da07e4129b\"}, {\"hoverinfo\": \"text\", \"marker\": {\"color\": \"green\", \"size\": 0.5}, \"mode\": \"markers\", \"text\": \"Qlik appears with Tableau 358 times\", \"x\": [-0.700551345234431], \"y\": [-0.5650024891009147], \"type\": \"scatter\", \"uid\": \"0834ffdd-9ea8-4e66-9a22-5597d6e01670\"}, {\"hoverinfo\": \"text\", \"marker\": {\"color\": \"blue\", \"size\": 0.5}, \"mode\": \"markers\", \"text\": \"Tableau appears with Qlik 358 times\", \"x\": [-0.32202715958646194], \"y\": [-0.8404156760131711], \"type\": \"scatter\", \"uid\": \"c9769684-175d-4774-b6e4-49ee8140f084\"}, {\"hoverinfo\": \"text\", \"marker\": {\"color\": \"green\", \"size\": 0.5}, \"mode\": \"markers\", \"text\": \"Qlik appears with Microstrategy 41 times\", \"x\": [-0.780812012207045], \"y\": [-0.44758530091278187], \"type\": \"scatter\", \"uid\": \"d88f5e91-eb91-46c2-867c-b666270a32f2\"}, {\"hoverinfo\": \"text\", \"marker\": {\"color\": \"blue\", \"size\": 0.5}, \"mode\": \"markers\", \"text\": \"Microstrategy appears with Qlik 41 times\", \"x\": [-0.07234369838185356], \"y\": [-0.8970877266490918], \"type\": \"scatter\", \"uid\": \"d359b75f-3316-4c59-8af4-ea312ccb6b21\"}, {\"hoverinfo\": \"text\", \"marker\": {\"color\": \"green\", \"size\": 0.5}, \"mode\": \"markers\", \"text\": \"Qlik appears with Oracle BI 379 times\", \"x\": [-0.6567886189095865], \"y\": [-0.6153281320326887], \"type\": \"scatter\", \"uid\": \"f80ecaf9-0477-4438-b61a-ba355a8f7e00\"}, {\"hoverinfo\": \"text\", \"marker\": {\"color\": \"blue\", \"size\": 0.5}, \"mode\": \"markers\", \"text\": \"Oracle BI appears with Qlik 379 times\", \"x\": [0.32551402246091765], \"y\": [-0.8390712849223916], \"type\": \"scatter\", \"uid\": \"ddde4ed8-f9f8-4690-abc0-5df3c39b49ef\"}, {\"hoverinfo\": \"text\", \"marker\": {\"color\": \"green\", \"size\": 0.5}, \"mode\": \"markers\", \"text\": \"Qlik appears with Python 54 times\", \"x\": [-0.7765001848530595], \"y\": [-0.4550246838613974], \"type\": \"scatter\", \"uid\": \"7a9baa65-a79e-4506-97ca-717e40f259a0\"}, {\"hoverinfo\": \"text\", \"marker\": {\"color\": \"blue\", \"size\": 0.5}, \"mode\": \"markers\", \"text\": \"Python appears with Qlik 54 times\", \"x\": [0.5829912550015285], \"y\": [-0.6856538460416763], \"type\": \"scatter\", \"uid\": \"783e0e7a-eefc-4061-b1d3-a5ad6ccaee33\"}, {\"hoverinfo\": \"text\", \"marker\": {\"color\": \"green\", \"size\": 0.5}, \"mode\": \"markers\", \"text\": \"Qlik appears with VBA 31 times\", \"x\": [-0.7869484416116739], \"y\": [-0.4367060226799695], \"type\": \"scatter\", \"uid\": \"33684d49-79e0-43da-9b8c-f3d00641aa4b\"}, {\"hoverinfo\": \"text\", \"marker\": {\"color\": \"blue\", \"size\": 0.5}, \"mode\": \"markers\", \"text\": \"VBA appears with Qlik 31 times\", \"x\": [0.8173338682649519], \"y\": [-0.37678289211036403], \"type\": \"scatter\", \"uid\": \"6bbb5f61-fcbe-426d-bda9-64f755d3afed\"}, {\"hoverinfo\": \"text\", \"marker\": {\"color\": \"green\", \"size\": 0.5}, \"mode\": \"markers\", \"text\": \"Qlik appears with Linux 2 times\", \"x\": [-0.795191297980986], \"y\": [-0.42151014177041446], \"type\": \"scatter\", \"uid\": \"be644668-bc08-4acc-b9bd-2f23696b3ffd\"}, {\"hoverinfo\": \"text\", \"marker\": {\"color\": \"blue\", \"size\": 0.5}, \"mode\": \"markers\", \"text\": \"Linux appears with Qlik 2 times\", \"x\": [0.8661205286099667], \"y\": [-0.2446124075356601], \"type\": \"scatter\", \"uid\": \"979ef738-6a64-4f86-b955-8ae9ecf1eb1c\"}, {\"hoverinfo\": \"text\", \"marker\": {\"color\": \"green\", \"size\": 0.5}, \"mode\": \"markers\", \"text\": \"Qlik appears with AWS 3 times\", \"x\": [-0.794979243099042], \"y\": [-0.42190994660196657], \"type\": \"scatter\", \"uid\": \"eb3b70d9-ef0d-47d6-8c0a-a4e266a79644\"}, {\"hoverinfo\": \"text\", \"marker\": {\"color\": \"blue\", \"size\": 0.5}, \"mode\": \"markers\", \"text\": \"AWS appears with Qlik 3 times\", \"x\": [0.8944916504444346], \"y\": [-0.0994217646453298], \"type\": \"scatter\", \"uid\": \"a9e0feef-3811-4ff0-b1b7-3d40426cbce1\"}, {\"hoverinfo\": \"text\", \"marker\": {\"color\": \"green\", \"size\": 0.5}, \"mode\": \"markers\", \"text\": \"Tableau appears with Microstrategy 59 times\", \"x\": [-0.505181923819805], \"y\": [-0.7448430867274803], \"type\": \"scatter\", \"uid\": \"65256769-91b0-4395-8441-34ce9d1872ee\"}, {\"hoverinfo\": \"text\", \"marker\": {\"color\": \"blue\", \"size\": 0.5}, \"mode\": \"markers\", \"text\": \"Microstrategy appears with Tableau 59 times\", \"x\": [-0.0606397748544104], \"y\": [-0.8979547971393697], \"type\": \"scatter\", \"uid\": \"f7358d4b-1c6a-4820-8d4b-57e128ccdb83\"}, {\"hoverinfo\": \"text\", \"marker\": {\"color\": \"green\", \"size\": 0.5}, \"mode\": \"markers\", \"text\": \"Tableau appears with Oracle BI 454 times\", \"x\": [-0.2511281598345782], \"y\": [-0.8642538095594943], \"type\": \"scatter\", \"uid\": \"fa5b3d02-9522-4382-9616-9e0653d2929f\"}, {\"hoverinfo\": \"text\", \"marker\": {\"color\": \"blue\", \"size\": 0.5}, \"mode\": \"markers\", \"text\": \"Oracle BI appears with Tableau 454 times\", \"x\": [0.3966996519907512], \"y\": [-0.8078548050921136], \"type\": \"scatter\", \"uid\": \"97fad25a-2b87-4359-ba13-78b56a963fdd\"}, {\"hoverinfo\": \"text\", \"marker\": {\"color\": \"green\", \"size\": 0.5}, \"mode\": \"markers\", \"text\": \"Tableau appears with Python 152 times\", \"x\": [-0.42876251054899367], \"y\": [-0.7913044354404467], \"type\": \"scatter\", \"uid\": \"ac4e9eed-90a7-42f9-ad25-508e40378c7e\"}, {\"hoverinfo\": \"text\", \"marker\": {\"color\": \"blue\", \"size\": 0.5}, \"mode\": \"markers\", \"text\": \"Python appears with Tableau 152 times\", \"x\": [0.676894927547104], \"y\": [-0.5931384805094009], \"type\": \"scatter\", \"uid\": \"4ad57cf8-defb-4e28-b6d7-43a48f4d0800\"}, {\"hoverinfo\": \"text\", \"marker\": {\"color\": \"green\", \"size\": 0.5}, \"mode\": \"markers\", \"text\": \"Tableau appears with VBA 81 times\", \"x\": [-0.4830030553924903], \"y\": [-0.7594129630718185], \"type\": \"scatter\", \"uid\": \"72567ac4-86d8-4491-830d-aaf2a97e0e21\"}, {\"hoverinfo\": \"text\", \"marker\": {\"color\": \"blue\", \"size\": 0.5}, \"mode\": \"markers\", \"text\": \"VBA appears with Tableau 81 times\", \"x\": [0.8304803640406538], \"y\": [-0.34684631314589903], \"type\": \"scatter\", \"uid\": \"7b508f40-13ef-4b79-b6d9-3d33376000e3\"}, {\"hoverinfo\": \"text\", \"marker\": {\"color\": \"green\", \"size\": 0.5}, \"mode\": \"markers\", \"text\": \"Tableau appears with Linux 25 times\", \"x\": [-0.5484954670556579], \"y\": [-0.7135493834482627], \"type\": \"scatter\", \"uid\": \"c78f3950-c3d9-43de-8b12-1029406bf942\"}, {\"hoverinfo\": \"text\", \"marker\": {\"color\": \"blue\", \"size\": 0.5}, \"mode\": \"markers\", \"text\": \"Linux appears with Tableau 25 times\", \"x\": [0.8695304684490203], \"y\": [-0.2321998372928527], \"type\": \"scatter\", \"uid\": \"c464c5c2-9861-4858-bd74-aa8f66bd4f61\"}, {\"hoverinfo\": \"text\", \"marker\": {\"color\": \"green\", \"size\": 0.5}, \"mode\": \"markers\", \"text\": \"Tableau appears with AWS 33 times\", \"x\": [-0.5404248452564038], \"y\": [-0.7196811701229873], \"type\": \"scatter\", \"uid\": \"bf00ca31-ac96-4f7b-8ea4-979eec04ad0c\"}, {\"hoverinfo\": \"text\", \"marker\": {\"color\": \"blue\", \"size\": 0.5}, \"mode\": \"markers\", \"text\": \"AWS appears with Tableau 33 times\", \"x\": [0.8965877853571478], \"y\": [-0.07829650789380829], \"type\": \"scatter\", \"uid\": \"3a116cdd-6b73-409c-8d19-995e9e49523c\"}, {\"hoverinfo\": \"text\", \"marker\": {\"color\": \"green\", \"size\": 0.5}, \"mode\": \"markers\", \"text\": \"Microstrategy appears with Oracle BI 67 times\", \"x\": [-0.05270533043310429], \"y\": [-0.8984554235708845], \"type\": \"scatter\", \"uid\": \"1569bcda-426b-4a04-9202-3e7803a9bb01\"}, {\"hoverinfo\": \"text\", \"marker\": {\"color\": \"blue\", \"size\": 0.5}, \"mode\": \"markers\", \"text\": \"Oracle BI appears with Microstrategy 67 times\", \"x\": [0.029885317328368927], \"y\": [-0.8995036785962482], \"type\": \"scatter\", \"uid\": \"e0504440-a1f0-40cc-a482-af5431213e59\"}, {\"hoverinfo\": \"text\", \"marker\": {\"color\": \"green\", \"size\": 0.5}, \"mode\": \"markers\", \"text\": \"Microstrategy appears with Python 20 times\", \"x\": [-0.0905036930159101], \"y\": [-0.895437927245927], \"type\": \"scatter\", \"uid\": \"6b1a3dc7-3d08-4773-a108-9c8ff0612c80\"}, {\"hoverinfo\": \"text\", \"marker\": {\"color\": \"blue\", \"size\": 0.5}, \"mode\": \"markers\", \"text\": \"Python appears with Microstrategy 20 times\", \"x\": [0.5639442020169348], \"y\": [-0.7014035479034039], \"type\": \"scatter\", \"uid\": \"03a3f77d-2faf-4428-be48-80dc4bfa830f\"}, {\"hoverinfo\": \"text\", \"marker\": {\"color\": \"green\", \"size\": 0.5}, \"mode\": \"markers\", \"text\": \"Microstrategy appears with VBA 7 times\", \"x\": [-0.0978455182588766], \"y\": [-0.8946654428090156], \"type\": \"scatter\", \"uid\": \"934f7bea-18af-4a80-a13c-1a670b789861\"}, {\"hoverinfo\": \"text\", \"marker\": {\"color\": \"blue\", \"size\": 0.5}, \"mode\": \"markers\", \"text\": \"VBA appears with Microstrategy 7 times\", \"x\": [0.8121593866405746], \"y\": [-0.38781068924361234], \"type\": \"scatter\", \"uid\": \"cc290ac4-4d3b-45af-b989-bb1764f92aa7\"}, {\"hoverinfo\": \"text\", \"marker\": {\"color\": \"green\", \"size\": 0.5}, \"mode\": \"markers\", \"text\": \"Microstrategy appears with Linux 10 times\", \"x\": [-0.09677915440381529], \"y\": [-0.8947814231827137], \"type\": \"scatter\", \"uid\": \"7244f0d2-024d-4148-a8ea-95a41f02b35c\"}, {\"hoverinfo\": \"text\", \"marker\": {\"color\": \"blue\", \"size\": 0.5}, \"mode\": \"markers\", \"text\": \"Linux appears with Microstrategy 10 times\", \"x\": [0.867396365176225], \"y\": [-0.24004904848608097], \"type\": \"scatter\", \"uid\": \"bee89c38-5456-4dd0-b7b9-658821e6bace\"}, {\"hoverinfo\": \"text\", \"marker\": {\"color\": \"green\", \"size\": 0.5}, \"mode\": \"markers\", \"text\": \"Microstrategy appears with AWS 2 times\", \"x\": [-0.09966428794247544], \"y\": [-0.894464660961471], \"type\": \"scatter\", \"uid\": \"7ebd4cbc-a6e3-4fbc-89de-2a0fc4ebbb3e\"}, {\"hoverinfo\": \"text\", \"marker\": {\"color\": \"blue\", \"size\": 0.5}, \"mode\": \"markers\", \"text\": \"AWS appears with Microstrategy 2 times\", \"x\": [0.8943902373530506], \"y\": [-0.10032997222940915], \"type\": \"scatter\", \"uid\": \"d9165830-996b-4488-84db-ee1ddd618024\"}, {\"hoverinfo\": \"text\", \"marker\": {\"color\": \"green\", \"size\": 0.5}, \"mode\": \"markers\", \"text\": \"Oracle BI appears with Python 172 times\", \"x\": [0.1537441691454825], \"y\": [-0.8867709571550961], \"type\": \"scatter\", \"uid\": \"40a48fcc-4123-4567-bcd6-126e7eeed172\"}, {\"hoverinfo\": \"text\", \"marker\": {\"color\": \"blue\", \"size\": 0.5}, \"mode\": \"markers\", \"text\": \"Python appears with Oracle BI 172 times\", \"x\": [0.6959322992455937], \"y\": [-0.5706822538565057], \"type\": \"scatter\", \"uid\": \"908776c6-c73e-47e9-9d2a-4765753e3468\"}, {\"hoverinfo\": \"text\", \"marker\": {\"color\": \"green\", \"size\": 0.5}, \"mode\": \"markers\", \"text\": \"Oracle BI appears with VBA 88 times\", \"x\": [0.058877987551792854], \"y\": [-0.8980720364101373], \"type\": \"scatter\", \"uid\": \"eb955aa3-9640-420d-8c26-5ff70e0b475a\"}, {\"hoverinfo\": \"text\", \"marker\": {\"color\": \"blue\", \"size\": 0.5}, \"mode\": \"markers\", \"text\": \"VBA appears with Oracle BI 88 times\", \"x\": [0.835605761078393], \"y\": [-0.3343097546476913], \"type\": \"scatter\", \"uid\": \"a651a3f9-d02c-4c65-b3f4-90cf0c7527b3\"}, {\"hoverinfo\": \"text\", \"marker\": {\"color\": \"green\", \"size\": 0.5}, \"mode\": \"markers\", \"text\": \"Oracle BI appears with Linux 6 times\", \"x\": [-0.019672038551521692], \"y\": [-0.8997849803698812], \"type\": \"scatter\", \"uid\": \"bc2c5088-4425-4646-b97b-59886982ddd7\"}, {\"hoverinfo\": \"text\", \"marker\": {\"color\": \"blue\", \"size\": 0.5}, \"mode\": \"markers\", \"text\": \"Linux appears with Oracle BI 6 times\", \"x\": [0.8666337461417484], \"y\": [-0.24278787047198166], \"type\": \"scatter\", \"uid\": \"f7b45ad3-3016-4b19-9181-e36e47e78656\"}, {\"hoverinfo\": \"text\", \"marker\": {\"color\": \"green\", \"size\": 0.5}, \"mode\": \"markers\", \"text\": \"Oracle BI appears with AWS 47 times\", \"x\": [0.0009548996958357928], \"y\": [-0.8999994934257302], \"type\": \"scatter\", \"uid\": \"31069473-bc5b-433e-8395-a429175ef072\"}, {\"hoverinfo\": \"text\", \"marker\": {\"color\": \"blue\", \"size\": 0.5}, \"mode\": \"markers\", \"text\": \"AWS appears with Oracle BI 47 times\", \"x\": [0.8970595193567764], \"y\": [-0.07269263189202363], \"type\": \"scatter\", \"uid\": \"e5cb4cca-9987-45e5-bfc6-bcb200e4fadf\"}, {\"hoverinfo\": \"text\", \"marker\": {\"color\": \"green\", \"size\": 0.5}, \"mode\": \"markers\", \"text\": \"Python appears with VBA 69 times\", \"x\": [0.6075892735348254], \"y\": [-0.6639542715318753], \"type\": \"scatter\", \"uid\": \"9bd20298-c50b-406e-a932-5cded9836b8b\"}, {\"hoverinfo\": \"text\", \"marker\": {\"color\": \"blue\", \"size\": 0.5}, \"mode\": \"markers\", \"text\": \"VBA appears with Python 69 times\", \"x\": [0.8257736125043625], \"y\": [-0.3579077267837268], \"type\": \"scatter\", \"uid\": \"c738381c-f67e-4fdc-868b-c929e882bbb8\"}, {\"hoverinfo\": \"text\", \"marker\": {\"color\": \"green\", \"size\": 0.5}, \"mode\": \"markers\", \"text\": \"Python appears with Linux 118 times\", \"x\": [0.6453428854332324], \"y\": [-0.6273217358108277], \"type\": \"scatter\", \"uid\": \"2f79d3d9-87c6-49af-b73f-be660fa2cd30\"}, {\"hoverinfo\": \"text\", \"marker\": {\"color\": \"blue\", \"size\": 0.5}, \"mode\": \"markers\", \"text\": \"Linux appears with Python 118 times\", \"x\": [0.8893990293061228], \"y\": [-0.13772932392677503], \"type\": \"scatter\", \"uid\": \"f66d8255-e5dc-4557-80ad-03f006baa0d3\"}, {\"hoverinfo\": \"text\", \"marker\": {\"color\": \"green\", \"size\": 0.5}, \"mode\": \"markers\", \"text\": \"Python appears with AWS 109 times\", \"x\": [0.6307971615193939], \"y\": [-0.6419462134938376], \"type\": \"scatter\", \"uid\": \"cff912c4-02f6-4cbc-be54-f539d362b44b\"}, {\"hoverinfo\": \"text\", \"marker\": {\"color\": \"blue\", \"size\": 0.5}, \"mode\": \"markers\", \"text\": \"AWS appears with Python 109 times\", \"x\": [0.899282627791923], \"y\": [-0.035927083817832495], \"type\": \"scatter\", \"uid\": \"1aeebee1-1393-49a6-8e03-264b35bcac8e\"}, {\"hoverinfo\": \"text\", \"marker\": {\"color\": \"green\", \"size\": 0.5}, \"mode\": \"markers\", \"text\": \"VBA appears with Linux 4 times\", \"x\": [0.810668512727489], \"y\": [-0.39091759038472684], \"type\": \"scatter\", \"uid\": \"ea129d97-b7e6-4f2d-9041-67f632977505\"}, {\"hoverinfo\": \"text\", \"marker\": {\"color\": \"blue\", \"size\": 0.5}, \"mode\": \"markers\", \"text\": \"Linux appears with VBA 4 times\", \"x\": [0.8662491931965574], \"y\": [-0.24415637465835993], \"type\": \"scatter\", \"uid\": \"5f2df082-42a7-4950-95fa-140e48be90ce\"}, {\"hoverinfo\": \"text\", \"marker\": {\"color\": \"green\", \"size\": 0.5}, \"mode\": \"markers\", \"text\": \"VBA appears with AWS 5 times\", \"x\": [0.8109815403177607], \"y\": [-0.39026778148321745], \"type\": \"scatter\", \"uid\": \"95c991e6-118a-4d25-a6e8-5885765ed7a8\"}, {\"hoverinfo\": \"text\", \"marker\": {\"color\": \"blue\", \"size\": 0.5}, \"mode\": \"markers\", \"text\": \"AWS appears with VBA 5 times\", \"x\": [0.894553600116733], \"y\": [-0.09886281666123055], \"type\": \"scatter\", \"uid\": \"e648b70c-50f3-46e5-98f4-1eb1c65a3c8d\"}, {\"hoverinfo\": \"text\", \"marker\": {\"color\": \"green\", \"size\": 0.5}, \"mode\": \"markers\", \"text\": \"Linux appears with AWS 29 times\", \"x\": [0.8706209494252505], \"y\": [-0.22807709753913366], \"type\": \"scatter\", \"uid\": \"4a376b7b-8665-4a6b-abcc-fed8db9db9a7\"}, {\"hoverinfo\": \"text\", \"marker\": {\"color\": \"blue\", \"size\": 0.5}, \"mode\": \"markers\", \"text\": \"AWS appears with Linux 29 times\", \"x\": [0.8957874227266391], \"y\": [-0.08697639498602709], \"type\": \"scatter\", \"uid\": \"f8bec9fa-7172-4b6c-8573-850ce8c89251\"}], {\"autosize\": false, \"font\": {\"color\": \"#655643\", \"family\": \"Fira Sans Condensed\", \"size\": 12}, \"height\": 525, \"hidesources\": true, \"hoverdistance\": 40, \"hovermode\": \"closest\", \"margin\": {\"b\": 10, \"l\": 280, \"r\": 280, \"t\": 80}, \"paper_bgcolor\": \"#fffaf0\", \"plot_bgcolor\": \"#fffaf0\", \"shapes\": [{\"fillcolor\": \"#f2e6ce\", \"layer\": \"below\", \"line\": {\"color\": \"rgb(175,175,175)\", \"width\": 0.5}, \"path\": \"M 0.9726808849988599,0.23214628137843318 Q 0.183631983283019, 0.0792420009562166 0.836195660857835, 0.5484312324827321L 0.836195660857835, 0.5484312324827321 L 0.8498123075668281, 0.5270854218321189 L 0.862884176402373, 0.5054017195404052 M 0.862884176402373,0.5054017195404052 Q 0.1837722827994254, 0.07891608248442154 0.9606745745015371, 0.27767672193810283L 0.9606745745015371, 0.27767672193810283 L 0.966945752588731, 0.25498217888827585 L 0.9726808849988599, 0.23214628137843318 \", \"type\": \"path\"}, {\"fillcolor\": \"#f2e6ce\", \"layer\": \"below\", \"line\": {\"color\": \"rgb(175,175,175)\", \"width\": 0.5}, \"path\": \"M 0.9978965145316596,0.06482704902712406 Q 0.14571232760411593, 0.13699604952038144 0.12617845799359206, 0.9920075588111007L 0.12617845799359206, 0.9920075588111007 L 0.14008810712841172, 0.9901390418729981 L 0.15397016315155274, 0.9880754975502045 M 0.15397016315155274,0.9880754975502045 Q 0.14580132477127766, 0.13690132831693202 0.9958037883771304, 0.09151401561375877L 0.9958037883771304, 0.09151401561375877 L 0.9969394530266366, 0.07817753512966905 L 0.9978965145316596, 0.06482704902712406 \", \"type\": \"path\"}, {\"fillcolor\": \"#f2e6ce\", \"layer\": \"below\", \"line\": {\"color\": \"rgb(175,175,175)\", \"width\": 0.5}, \"path\": \"M 0.9958037883771304,0.09151401561375877 Q 0.09812846639643669, 0.1742722125947892 -0.4381149434263015, 0.8989189598326252L -0.4381149434263015, 0.8989189598326252 L -0.42570877863072215, 0.9048602299784971 L -0.4132220647892432, 0.9106302900581084 M -0.4132220647892432,0.9106302900581084 Q 0.09819305941681189, 0.1742358260587255 0.9929974954290869, 0.11813540566468904L 0.9929974954290869, 0.11813540566468904 L 0.9944897240391051, 0.10483410122963129 L 0.9958037883771304, 0.09151401561375877 \", \"type\": \"path\"}, {\"fillcolor\": \"#f2e6ce\", \"layer\": \"below\", \"line\": {\"color\": \"rgb(175,175,175)\", \"width\": 0.5}, \"path\": \"M 1.0,0.0 Q 0.07425140453026695, 0.18570602824163426 -0.7243364462641326, 0.6894466713339381L -0.7243364462641326, 0.6894466713339381 L -0.7240242154393006, 0.6897745540809006 L -0.7237118361929914, 0.6901022954274016 M -0.7237118361929914,0.6901022954274016 Q 0.07424476844287893, 0.18570868143106098 0.9999995227393407, 0.0009769959523805351L 0.9999995227393407, 0.0009769959523805351 L 0.999999880684828, 0.0004884980344754946 L 1.0, 0.0 \", \"type\": \"path\"}, {\"fillcolor\": \"#f2e6ce\", \"layer\": \"below\", \"line\": {\"color\": \"rgb(175,175,175)\", \"width\": 0.5}, \"path\": \"M 0.9992889849244496,0.03770311139233868 Q 0.04609407128186686, 0.19461586932380973 -0.876220300219763, 0.4819107650621517L -0.876220300219763, 0.4819107650621517 L -0.8737959247607863, 0.48629279438568945 L -0.8713496346945597, 0.49066262759421303 M -0.8713496346945597,0.49066262759421303 Q 0.04607998035990948, 0.19461920616945894 0.9988543158979013, 0.047854525513640764L 0.9988543158979013, 0.047854525513640764 L 0.9990845436986179, 0.04277937052510841 L 0.9992889849244496, 0.03770311139233868 \", \"type\": \"path\"}, {\"fillcolor\": \"#f2e6ce\", \"layer\": \"below\", \"line\": {\"color\": \"rgb(175,175,175)\", \"width\": 0.5}, \"path\": \"M 0.9999828186640959,0.0058619430746117895 Q 0.028298257353053354, 0.1979879002130695 -0.9583017990339283, 0.2857580479502484L -0.9583017990339283, 0.2857580479502484 L -0.9580749330178905, 0.2865177528928437 L -0.9578474647369905, 0.2872772777247096 M -0.9578474647369905,0.2872772777247096 Q 0.02824245527406141, 0.19799586793691593 0.9999679091623496, 0.008011282386669845L 0.9999679091623496, 0.008011282386669845 L 0.9999759413847175, 0.006936616736435626 L 0.9999828186640959, 0.0058619430746117895 \", \"type\": \"path\"}, {\"fillcolor\": \"#f2e6ce\", \"layer\": \"below\", \"line\": {\"color\": \"rgb(175,175,175)\", \"width\": 0.5}, \"path\": \"M 0.9999976900591142,0.0021493897821878716 Q 0.01959471501274601, 0.19903780330271248 -0.9803809510071958, 0.19711212774009174L -0.9803809510071958, 0.19711212774009174 L -0.9802357303542573, 0.19783304308647678 L -0.9800899795820186, 0.19855385144317494 M -0.9800899795820186,0.19855385144317494 Q 0.01956607326888641, 0.19904062092155103 0.9999923638385612, 0.003907974483892833L 0.9999923638385612, 0.003907974483892833 L 0.9999954135282045, 0.003028683303872197 L 0.9999976900591142, 0.0021493897821878716 \", \"type\": \"path\"}, {\"fillcolor\": \"#f2e6ce\", \"layer\": \"below\", \"line\": {\"color\": \"rgb(175,175,175)\", \"width\": 0.5}, \"path\": \"M 0.9999289653588112,0.011919070284942337 Q 0.0047311575996603124, 0.1999440325385261 -0.9982461000520766, 0.05920070718175205L -0.9982461000520766, 0.05920070718175205 L -0.9980982035895374, 0.06164394529342184 L -0.9979443272353702, 0.064086814078595 M -0.9979443272353702,0.064086814078595 Q 0.0046931324470865544, 0.1999449286874616 0.9998521673689513, 0.01719428415522274L 0.9998521673689513, 0.01719428415522274 L 0.9998940452237064, 0.014556727866264505 L 0.9999289653588112, 0.011919070284942337 \", \"type\": \"path\"}, {\"fillcolor\": \"#f2e6ce\", \"layer\": \"below\", \"line\": {\"color\": \"rgb(175,175,175)\", \"width\": 0.5}, \"path\": \"M 0.9997296726309602,0.023250412065016365 Q -0.01649346253729497, 0.19931875399352378 -0.9899533700230023, -0.14139421904767077L -0.9899533700230023, -0.14139421904767077 L -0.9903897350150614, -0.1383046375823907 L -0.990816457643932, -0.1352137095931115 M -0.990816457643932,-0.1352137095931115 Q -0.01653363302983619, 0.1993154258426445 0.9995531454572393, 0.029891627699726496L 0.9995531454572393, 0.029891627699726496 L 0.9996469242247233, 0.02657116647891363 L 0.9997296726309602, 0.023250412065016365 \", \"type\": \"path\"}, {\"fillcolor\": \"#f2e6ce\", \"layer\": \"below\", \"line\": {\"color\": \"rgb(175,175,175)\", \"width\": 0.5}, \"path\": \"M 0.9999679091623496,0.008011282386669845 Q -0.03406923603926028, 0.19707685596157953 -0.9446236201719371, -0.328155780405075L -0.9446236201719371, -0.328155780405075 L -0.9452039463687071, -0.32648047379440975 L -0.9457813013823417, -0.324804140914989 M -0.9457813013823417,-0.324804140914989 Q -0.03410491027328797, 0.1970706855299666 0.9999289653588112, 0.011919070284942337L 0.9999289653588112, 0.011919070284942337 L 0.9999503462079712, 0.009965195359784386 L 0.9999679091623496, 0.008011282386669845 \", \"type\": \"path\"}, {\"fillcolor\": \"#f2e6ce\", \"layer\": \"below\", \"line\": {\"color\": \"rgb(175,175,175)\", \"width\": 0.5}, \"path\": \"M 0.9878677507458632,0.1552974791692035 Q -0.07775686062532994, 0.18426576086102653 -0.8004834873634005, -0.599354808488702L -0.8004834873634005, -0.599354808488702 L -0.8123174146157343, -0.5832155844214121 L -0.8238259954314942, -0.5668427729549947 M -0.8238259954314942,-0.5668427729549947 Q -0.07765162907649448, 0.18431013130527177 0.9810838821122448, 0.19358309910621546L 0.9810838821122448, 0.19358309910621546 L 0.9846619116768672, 0.1744732635473333 L 0.9878677507458632, 0.1552974791692035 \", \"type\": \"path\"}, {\"fillcolor\": \"#f2e6ce\", \"layer\": \"below\", \"line\": {\"color\": \"rgb(175,175,175)\", \"width\": 0.5}, \"path\": \"M 0.9810838821122448,0.19358309910621546 Q -0.12599462516584845, 0.15532338661424222 -0.39178614643929305, -0.9200563110257158L -0.39178614643929305, -0.9200563110257158 L -0.4107288451224588, -0.9117575422141411 L -0.4294958769690736, -0.9030688188984084 M -0.4294958769690736,-0.9030688188984084 Q -0.12584765698434272, 0.15544248850153944 0.9726808849988599, 0.23214628137843318L 0.9726808849988599, 0.23214628137843318 L 0.9770726539300532, 0.21290615055014867 L 0.9810838821122448, 0.19358309910621546 \", \"type\": \"path\"}, {\"fillcolor\": \"#f2e6ce\", \"layer\": \"below\", \"line\": {\"color\": \"rgb(175,175,175)\", \"width\": 0.5}, \"path\": \"M 0.9998521673689513,0.01719428415522274 Q -0.13630878317000947, 0.146355442777887 -0.08813618241209623, -0.9961084345340229L -0.08813618241209623, -0.9961084345340229 L -0.09030086309541545, -0.9959145315358257 L -0.09246511724795063, -0.9957159243942635 M -0.09246511724795063,-0.9957159243942635 Q -0.1364339169082079, 0.1462387989457115 0.9997296726309602, 0.023250412065016365L 0.9997296726309602, 0.023250412065016365 L 0.9997955055338431, 0.02022244085977419 L 0.9998521673689513, 0.01719428415522274 \", \"type\": \"path\"}, {\"fillcolor\": \"#f2e6ce\", \"layer\": \"below\", \"line\": {\"color\": \"rgb(175,175,175)\", \"width\": 0.5}, \"path\": \"M 0.9929974954290869,0.11813540566468904 Q -0.16598532954867684, 0.11157450593490054 0.265520842750727, -0.9641051198209372L 0.265520842750727, -0.9641051198209372 L 0.24627135544170659, -0.9692009180190166 L 0.22692421909701127, -0.9739124184377216 M 0.22692421909701127,-0.9739124184377216 Q -0.16585639941974423, 0.11176607164751867 0.9878677507458632, 0.1552974791692035L 0.9878677507458632, 0.1552974791692035 L 0.9906069027635155, 0.136740499477203 L 0.9929974954290869, 0.11813540566468904 \", \"type\": \"path\"}, {\"fillcolor\": \"#f2e6ce\", \"layer\": \"below\", \"line\": {\"color\": \"rgb(175,175,175)\", \"width\": 0.5}, \"path\": \"M 0.9988543158979013,0.047854525513640764 Q -0.18583327306946568, 0.07393236517445796 0.6929938102434499, -0.7209435338251293L 0.6929938102434499, -0.7209435338251293 L 0.6866344756714919, -0.7270028176144404 L 0.6802221630913152, -0.7330060087334702 M 0.6802221630913152,-0.7330060087334702 Q -0.18581226773931536, 0.07398514146484406 0.9978965145316596, 0.06482704902712406L 0.9978965145316596, 0.06482704902712406 L 0.9984114814763947, 0.05634282257848624 L 0.9988543158979013, 0.047854525513640764 \", \"type\": \"path\"}, {\"fillcolor\": \"#f2e6ce\", \"layer\": \"below\", \"line\": {\"color\": \"rgb(175,175,175)\", \"width\": 0.5}, \"path\": \"M 0.9995531454572393,0.029891627699726496 Q -0.19630140523236508, 0.03828522304752573 0.9150655379720647, -0.4033051713230267L 0.9150655379720647, -0.4033051713230267 L 0.9136232227289593, -0.4065619348762871 L 0.9121693165471036, -0.4098135404668687 M 0.9121693165471036,-0.4098135404668687 Q -0.19631464519886924, 0.03821727463388898 0.9992889849244496, 0.03770311139233868L 0.9992889849244496, 0.03770311139233868 L 0.9994286969897213, 0.033797627630173424 L 0.9995531454572393, 0.029891627699726496 \", \"type\": \"path\"}, {\"fillcolor\": \"#f2e6ce\", \"layer\": \"below\", \"line\": {\"color\": \"rgb(175,175,175)\", \"width\": 0.5}, \"path\": \"M 0.9999923638385612,0.003907974483892833 Q -0.1982209682880357, 0.026616681441410935 0.9635393271675813, -0.2675667486842203L 0.9635393271675813, -0.2675667486842203 L 0.9633041733630147, -0.2684121263680143 L 0.9630682778520538, -0.2692572973850089 M 0.9630682778520538,-0.2692572973850089 Q -0.19822361625205853, 0.026596953960117936 0.9999828186640959, 0.0058619430746117895L 0.9999828186640959, 0.0058619430746117895 L 0.9999880685062934, 0.004884961110652072 L 0.9999923638385612, 0.003907974483892833 \", \"type\": \"path\"}, {\"fillcolor\": \"#f2e6ce\", \"layer\": \"below\", \"line\": {\"color\": \"rgb(175,175,175)\", \"width\": 0.5}, \"path\": \"M 0.9999995227393407,0.0009769959523805351 Q -0.19970973850673318, 0.010771274092337538 0.9940934260456363, -0.1085276936677869L 0.9940934260456363, -0.1085276936677869 L 0.9940424562355765, -0.1089935557780452 L 0.9939912681085177, -0.10945939395054635 M 0.9939912681085177,-0.10945939395054635 Q -0.199711003349859, 0.010747797029746025 0.9999976900591142, 0.0021493897821878716L 0.9999976900591142, 0.0021493897821878716 L 0.9999987782128636, 0.0015631931358624283 L 0.9999995227393407, 0.0009769959523805351 \", \"type\": \"path\"}, {\"fillcolor\": \"#ecd5bb\", \"layer\": \"below\", \"line\": {\"color\": \"rgb(175,175,175)\", \"width\": 0.5}, \"path\": \"M 0.5671598859463715,0.8236077123080496 Q 0.03747319771175239, 0.19645803484015592 -0.2241721156761293, 0.9745495690591054L -0.2241721156761293, 0.9745495690591054 L -0.159942407368507, 0.9871263477008232 L -0.09502756484000888, 0.9954746415256281 M -0.09502756484000888,0.9954746415256281 Q 0.037144464706207206, 0.19652045374894017 0.45180271171952935, 0.8921178788046341L 0.45180271171952935, 0.8921178788046341 L 0.5106315742184941, 0.8597996251517807 L 0.5671598859463715, 0.8236077123080496 \", \"type\": \"path\"}, {\"fillcolor\": \"#ecd5bb\", \"layer\": \"below\", \"line\": {\"color\": \"rgb(175,175,175)\", \"width\": 0.5}, \"path\": \"M 0.8031272759939538,0.5958075012573537 Q 0.0346143899768288, 0.19698183674271091 -0.5518908125238144, 0.8339163813307686L -0.5518908125238144, 0.8339163813307686 L -0.5284020131536716, 0.8489942947365118 L -0.5045015531233004, 0.8634107845609631 M -0.5045015531233004,0.8634107845609631 Q 0.034359395404452896, 0.1970264752449286 0.7669736879611938, 0.6416785503468269L 0.7669736879611938, 0.6416785503468269 L 0.7853854452046862, 0.6190070294113281 L 0.8031272759939538, 0.5958075012573537 \", \"type\": \"path\"}, {\"fillcolor\": \"#ecd5bb\", \"layer\": \"below\", \"line\": {\"color\": \"rgb(175,175,175)\", \"width\": 0.5}, \"path\": \"M 0.9350558532096692,0.3545004250749744 Q 0.046265996764757046, 0.1945750691721925 -0.6754151604662932, 0.7374376997498103L -0.6754151604662932, 0.7374376997498103 L -0.6706158454311282, 0.7418048178980056 L -0.6657882940180645, 0.7461407022462421 M -0.6657882940180645,0.7461407022462421 Q 0.04593399963482063, 0.19465371221106548 0.9291204227085906, 0.36977728446432445L 0.9291204227085906, 0.36977728446432445 L 0.9321194357657813, 0.36215101472684225 L 0.9350558532096692, 0.3545004250749744 \", \"type\": \"path\"}, {\"fillcolor\": \"#ecd5bb\", \"layer\": \"below\", \"line\": {\"color\": \"rgb(175,175,175)\", \"width\": 0.5}, \"path\": \"M 0.8950790049903891,0.4459075855212771 Q 0.014320675231496298, 0.1994866367978417 -0.8222077189985035, 0.56918754977536L -0.8222077189985035, 0.56918754977536 L -0.81529323417309, 0.5790483074075798 L -0.8082604954328229, 0.5888250771856509 M -0.8082604954328229,0.5888250771856509 Q 0.013935712939747408, 0.19951389902676195 0.8822696531281504, 0.4707443671135461L 0.8822696531281504, 0.4707443671135461 L 0.8887610925096288, 0.4583707238045327 L 0.8950790049903891, 0.4459075855212771 \", \"type\": \"path\"}, {\"fillcolor\": \"#ecd5bb\", \"layer\": \"below\", \"line\": {\"color\": \"rgb(175,175,175)\", \"width\": 0.5}, \"path\": \"M 0.8822696531281504,0.4707443671135461 Q -0.016182442994136726, 0.19934424631461406 -0.946645759999225, 0.3222759765720829L -0.946645759999225, 0.3222759765720829 L -0.9406231796131791, 0.3394525504019568 L -0.9342889649706297, 0.35651666150982264 M -0.9342889649706297,0.35651666150982264 Q -0.016512239198620927, 0.19931719934979905 0.862884176402373, 0.5054017195404052L 0.862884176402373, 0.5054017195404052 L 0.872748964594386, 0.488169278836171 L 0.8822696531281504, 0.4707443671135461 \", \"type\": \"path\"}, {\"fillcolor\": \"#ecd5bb\", \"layer\": \"below\", \"line\": {\"color\": \"rgb(175,175,175)\", \"width\": 0.5}, \"path\": \"M 0.9445964275208761,0.32823404624566016 Q -0.008627024283168295, 0.19981384950002246 -0.9693717970979674, 0.24559788067297578L -0.9693717970979674, 0.24559788067297578 L -0.9682105229819102, 0.2501367289845613 L -0.9670279969338185, 0.2546700868695944 M -0.9670279969338185,0.2546700868695944 Q -0.009055390936483085, 0.1997948945668719 0.94002545516799, 0.3411043002311952L 0.94002545516799, 0.3411043002311952 L 0.9423329141215671, 0.3346769770437689 L 0.9445964275208761, 0.32823404624566016 \", \"type\": \"path\"}, {\"fillcolor\": \"#ecd5bb\", \"layer\": \"below\", \"line\": {\"color\": \"rgb(175,175,175)\", \"width\": 0.5}, \"path\": \"M 0.94002545516799,0.3411043002311952 Q -0.023963836538411054, 0.19855914619669457 -0.9941870354721427, 0.10766679385545194L -0.9941870354721427, 0.10766679385545194 L -0.9935734597910788, 0.11318913374871997 L -0.9929292098017332, 0.11870797918634556 M -0.9929292098017332,0.11870797918634556 Q -0.024279086255741614, 0.19852084517900448 0.9350558532096692, 0.3545004250749744L 0.9350558532096692, 0.3545004250749744 L 0.9375645803340835, 0.34781123860935537 L 0.94002545516799, 0.3411043002311952 \", \"type\": \"path\"}, {\"fillcolor\": \"#ecd5bb\", \"layer\": \"below\", \"line\": {\"color\": \"rgb(175,175,175)\", \"width\": 0.5}, \"path\": \"M 0.9224493599212867,0.38611808864751257 Q -0.03945926220415857, 0.19606878034583544 -0.9999996966545127, -0.0007789036414128748L -0.9999996966545127, -0.0007789036414128748 L -0.9999707228209547, 0.0076520259368026994 L -0.999870669655424, 0.016082411598201656 M -0.999870669655424,0.016082411598201656 Q -0.03972189943012169, 0.19601574096399324 0.9147284306399196, 0.4040691749923888L 0.9147284306399196, 0.4040691749923888 L 0.9186327443043163, 0.3951124916930882 L 0.9224493599212867, 0.38611808864751257 \", \"type\": \"path\"}, {\"fillcolor\": \"#ecd5bb\", \"layer\": \"below\", \"line\": {\"color\": \"rgb(175,175,175)\", \"width\": 0.5}, \"path\": \"M 0.9147284306399196,0.4040691749923888 Q -0.062517990399181, 0.1899776325688051 -0.9759245469471619, -0.21810841035131306L -0.9759245469471619, -0.21810841035131306 L -0.9778850458242573, -0.2091431020934955 L -0.9797631869215999, -0.20016017973920297 M -0.9797631869215999,-0.20016017973920297 Q -0.06277040318245858, 0.1898943824453783 0.9060367228714995, 0.42319907467795065L 0.9060367228714995, 0.42319907467795065 L 0.9104328225222662, 0.4136569540986102 L 0.9147284306399196, 0.4040691749923888 \", \"type\": \"path\"}, {\"fillcolor\": \"#ecd5bb\", \"layer\": \"below\", \"line\": {\"color\": \"rgb(175,175,175)\", \"width\": 0.5}, \"path\": \"M 0.9060367228714995,0.42319907467795065 Q -0.08416054395917934, 0.18143043526513142 -0.9082612917315082, -0.41840342486912335L -0.9082612917315082, -0.41840342486912335 L -0.912660723888378, -0.4087179994464909 L -0.9169568771044462, -0.3989863224859489 M -0.9169568771044462,-0.3989863224859489 Q -0.084517711580234, 0.18126432751437993 0.8950790049903891, 0.4459075855212771L 0.8950790049903891, 0.4459075855212771 L 0.9006294384507124, 0.4345878675204296 L 0.9060367228714995, 0.42319907467795065 \", \"type\": \"path\"}, {\"fillcolor\": \"#ecd5bb\", \"layer\": \"below\", \"line\": {\"color\": \"rgb(175,175,175)\", \"width\": 0.5}, \"path\": \"M 0.71216960122905,0.702007449451397 Q -0.1474817131486735, 0.13508939368704115 -0.6369669639370313, -0.7708910992175487L -0.6369669639370313, -0.7708910992175487 L -0.6707429546573452, -0.741689887201878 L -0.7031818002938438, -0.7110100953822729 M -0.7031818002938438,-0.7110100953822729 Q -0.14775086394695489, 0.1347949635666275 0.6436741159062714, 0.7652997011055733L 0.6436741159062714, 0.7652997011055733 L 0.6786600943061964, 0.734452501116515 L 0.71216960122905, 0.702007449451397 \", \"type\": \"path\"}, {\"fillcolor\": \"#ecd5bb\", \"layer\": \"below\", \"line\": {\"color\": \"rgb(175,175,175)\", \"width\": 0.5}, \"path\": \"M 0.6436741159062714,0.7652997011055733 Q -0.1825438537964146, 0.08171744881696451 -0.14203982197958445, -0.9898609442603582L -0.14203982197958445, -0.9898609442603582 L -0.1882822183688987, -0.9821149659006762 L -0.23411070277274654, -0.9722099458693326 M -0.23411070277274654,-0.9722099458693326 Q -0.18264399305299686, 0.08149338501778434 0.5671598859463715, 0.8236077123080496L 0.5671598859463715, 0.8236077123080496 L 0.6061185536289238, 0.79537431373334 L 0.6436741159062714, 0.7652997011055733 \", \"type\": \"path\"}, {\"fillcolor\": \"#ecd5bb\", \"layer\": \"below\", \"line\": {\"color\": \"rgb(175,175,175)\", \"width\": 0.5}, \"path\": \"M 0.951478502976442,0.30771522285013597 Q -0.1574098557731709, 0.1233780260235571 -0.07150391226747185, -0.9974403192825352L -0.07150391226747185, -0.9974403192825352 L -0.0745105106407744, -0.9972202283367757 L -0.07751643185705626, -0.9969910745799836 M -0.07751643185705626,-0.9969910745799836 Q -0.15759511405078835, 0.1231413010623122 0.9486594128145609, 0.316299412706272L 0.9486594128145609, 0.316299412706272 L 0.9500786529732765, 0.3120105016894213 L 0.951478502976442, 0.30771522285013597 \", \"type\": \"path\"}, {\"fillcolor\": \"#ecd5bb\", \"layer\": \"below\", \"line\": {\"color\": \"rgb(175,175,175)\", \"width\": 0.5}, \"path\": \"M 0.45180271171952935,0.8921178788046341 Q -0.19924042130386188, -0.017414204508378373 0.5997173602744812, -0.8002119018018966L 0.5997173602744812, -0.8002119018018966 L 0.5424485793031422, -0.8400890064820529 L 0.4825381297575364, -0.8758749644384745 M 0.4825381297575364,-0.8758749644384745 Q -0.19922453687478917, -0.01759499664750674 0.32155619092598825, 0.9468904984617648L 0.32155619092598825, 0.9468904984617648 L 0.3876480466109638, 0.9218074592661442 L 0.45180271171952935, 0.8921178788046341 \", \"type\": \"path\"}, {\"fillcolor\": \"#ecd5bb\", \"layer\": \"below\", \"line\": {\"color\": \"rgb(175,175,175)\", \"width\": 0.5}, \"path\": \"M 0.7669736879611938,0.6416785503468269 Q -0.1988410318191122, -0.021499861978878234 0.8864077825993536, -0.46290522026360537L 0.8864077825993536, -0.46290522026360537 L 0.8675984733702135, -0.4972654110288338 L 0.8474579099182318, -0.5308625913708953 M 0.8474579099182318,-0.5308625913708953 Q -0.19880660228183133, -0.021815932002867675 0.71216960122905, 0.702007449451397L 0.71216960122905, 0.702007449451397 L 0.74018653831715, 0.6724015827569669 L 0.7669736879611938, 0.6416785503468269 \", \"type\": \"path\"}, {\"fillcolor\": \"#ecd5bb\", \"layer\": \"below\", \"line\": {\"color\": \"rgb(175,175,175)\", \"width\": 0.5}, \"path\": \"M 0.836195660857835,0.5484312324827321 Q -0.19813092812910274, -0.027278843793319546 0.9532911048304472, -0.3020530904512406L 0.9532911048304472, -0.3020530904512406 L 0.9456094411532776, -0.32530414199912366 L 0.9373607717529869, -0.3483601348872238 M 0.9373607717529869,-0.3483601348872238 Q -0.19800886771790793, -0.02815116880472352 0.8031272759939538, 0.5958075012573537L 0.8031272759939538, 0.5958075012573537 L 0.8200036893409962, 0.5723582352575658 L 0.836195660857835, 0.5484312324827321 \", \"type\": \"path\"}, {\"fillcolor\": \"#ecd5bb\", \"layer\": \"below\", \"line\": {\"color\": \"rgb(175,175,175)\", \"width\": 0.5}, \"path\": \"M 0.9291204227085906,0.36977728446432445 Q -0.19919970717544722, -0.017873910070717126 0.9801079960635735, -0.19846489879131313L 0.9801079960635735, -0.19846489879131313 L 0.9786185439791792, -0.20568360503470204 L 0.9770759253231931, -0.21289113686066385 M 0.9770759253231931,-0.21289113686066385 Q -0.19917350128787284, -0.01816360054421255 0.9224493599212867, 0.38611808864751257L 0.9224493599212867, 0.38611808864751257 L 0.9258209440584886, 0.37796240493288336 L 0.9291204227085906, 0.36977728446432445 \", \"type\": \"path\"}, {\"fillcolor\": \"#ecd5bb\", \"layer\": \"below\", \"line\": {\"color\": \"rgb(175,175,175)\", \"width\": 0.5}, \"path\": \"M 0.9486594128145609,0.316299412706272 Q -0.19838911116379063, -0.025332993736254885 0.9977015254776016, -0.06776183335526453L 0.9977015254776016, -0.06776183335526453 L 0.9973730101401143, -0.07243672165447307 L 0.9970225899949624, -0.07711001906196864 M 0.9970225899949624,-0.07711001906196864 Q -0.19834788177490792, -0.025653806645547728 0.9445964275208761, 0.32823404624566016L 0.9445964275208761, 0.32823404624566016 L 0.9466467282521449, 0.32227313243506617 L 0.9486594128145609, 0.316299412706272 \", \"type\": \"path\"}, {\"fillcolor\": \"#e6c4a9\", \"layer\": \"below\", \"line\": {\"color\": \"rgb(175,175,175)\", \"width\": 0.5}, \"path\": \"M 0.024684747500489577,0.9996952851948623 Q -0.060761641674491884, 0.1905466423241844 -0.5988479132506912, 0.8008627702642274L -0.5988479132506912, 0.8008627702642274 L -0.5756066704359997, 0.8177267030919209 L -0.5518908125238144, 0.8339163813307686 M -0.5518908125238144,0.8339163813307686 Q -0.060872682411713036, 0.19051119792810797 -0.03390369837489218, 0.999425104365757L -0.03390369837489218, 0.999425104365757 L -0.004611454567299363, 0.9999893671868585 L 0.024684747500489577, 0.9996952851948623 \", \"type\": \"path\"}, {\"fillcolor\": \"#e6c4a9\", \"layer\": \"below\", \"line\": {\"color\": \"rgb(175,175,175)\", \"width\": 0.5}, \"path\": \"M 0.23732657880833968,0.9714299228411326 Q -0.04840812682977031, 0.19405322274271272 -0.6657882940180645, 0.7461407022462421L -0.6657882940180645, 0.7461407022462421 L -0.6618686433237947, 0.7496198363068572 L -0.6579308123982155, 0.7530783797832893 M -0.6579308123982155,0.7530783797832893 Q -0.04864346094133595, 0.19399436514406476 0.22476810391347363, 0.974412284129845L 0.22476810391347363, 0.974412284129845 L 0.23105215335429669, 0.9729413663887164 L 0.23732657880833968, 0.9714299228411326 \", \"type\": \"path\"}, {\"fillcolor\": \"#e6c4a9\", \"layer\": \"below\", \"line\": {\"color\": \"rgb(175,175,175)\", \"width\": 0.5}, \"path\": \"M 0.2099692079811209,0.9777079992000581 Q -0.0677062168169759, 0.18819104177492788 -0.7847261525259753, 0.6198426135252236L -0.7847261525259753, 0.6198426135252236 L -0.7797052880373542, 0.6261466791468167 L -0.7746337814379826, 0.6324100763389937 M -0.7746337814379826,0.6324100763389937 Q -0.06790532969403959, 0.18811928715350745 0.1921069088154535, 0.9813740039278456L 0.1921069088154535, 0.9813740039278456 L 0.20104641459677697, 0.9795817164370622 L 0.2099692079811209, 0.9777079992000581 \", \"type\": \"path\"}, {\"fillcolor\": \"#e6c4a9\", \"layer\": \"below\", \"line\": {\"color\": \"rgb(175,175,175)\", \"width\": 0.5}, \"path\": \"M 0.12617845799359206,0.9920075588111007 Q -0.09716731162516164, 0.1748099355057908 -0.9091155168907906, 0.41654408764066087L -0.9091155168907906, 0.41654408764066087 L -0.9033754865271197, 0.42885047550619526 L -0.8974688781223833, 0.44107778543217385 M -0.8974688781223833,0.44107778543217385 Q -0.09731851303498401, 0.174725805251141 0.09747173487540864, 0.9952382935259163L 0.09747173487540864, 0.9952382935259163 L 0.11183676320550716, 0.9937265913699378 L 0.12617845799359206, 0.9920075588111007 \", \"type\": \"path\"}, {\"fillcolor\": \"#e6c4a9\", \"layer\": \"below\", \"line\": {\"color\": \"rgb(175,175,175)\", \"width\": 0.5}, \"path\": \"M 0.24865499403516936,0.9685921194916722 Q -0.10127904225242566, 0.17246030152017996 -0.9670279969338185, 0.2546700868695944L -0.9670279969338185, 0.2546700868695944 L -0.9659735435665106, 0.25864089608868635 L -0.9649027853407315, 0.26260733965694527 M -0.9649027853407315,0.26260733965694527 Q -0.10157738876068681, 0.17228474712684316 0.23732657880833968, 0.9714299228411326L 0.23732657880833968, 0.9714299228411326 L 0.2429949290989943, 0.9700275585941746 L 0.24865499403516936, 0.9685921194916722 \", \"type\": \"path\"}, {\"fillcolor\": \"#e6c4a9\", \"layer\": \"below\", \"line\": {\"color\": \"rgb(175,175,175)\", \"width\": 0.5}, \"path\": \"M 0.27436239686881686,0.9616263698466249 Q -0.1057342599453164, 0.16976532706597147 -0.9840576762865121, 0.17784962676820631L -0.9840576762865121, 0.17784962676820631 L -0.9835302595881081, 0.18074354338274062 L -0.9829943324793334, 0.18363589603753844 M -0.9829943324793334,0.18363589603753844 Q -0.1058609374764754, 0.16968636337844525 0.26726213514711206, 0.9636238639202575L 0.26726213514711206, 0.9636238639202575 L 0.2708141076753796, 0.9626316632461182 L 0.27436239686881686, 0.9616263698466249 \", \"type\": \"path\"}, {\"fillcolor\": \"#e6c4a9\", \"layer\": \"below\", \"line\": {\"color\": \"rgb(175,175,175)\", \"width\": 0.5}, \"path\": \"M 0.26726213514711206,0.9636238639202575 Q -0.11746627538702847, 0.1618693119361999 -0.9989997629627839, 0.044715473835144376L -0.9989997629627839, 0.044715473835144376 L -0.9988046057219585, 0.04888107597632358 L -0.9985920789418837, 0.05304582805958069 M -0.9985920789418837,0.05304582805958069 Q -0.11755402500257578, 0.16180559695416533 0.25816847127868003, 0.9660999122438783L 0.25816847127868003, 0.9660999122438783 L 0.26271822023999225, 0.9648726013075151 L 0.26726213514711206, 0.9636238639202575 \", \"type\": \"path\"}, {\"fillcolor\": \"#e6c4a9\", \"layer\": \"below\", \"line\": {\"color\": \"rgb(175,175,175)\", \"width\": 0.5}, \"path\": \"M 0.25816847127868003,0.9660999122438783 Q -0.13504644313253153, 0.14752104323537008 -0.9850919625774435, -0.1720285594467403L -0.9850919625774435, -0.1720285594467403 L -0.9858401975207699, -0.16768752175462978 L -0.9865693027636958, -0.16334323017607788 M -0.9865693027636958,-0.16334323017607788 Q -0.13512198795361738, 0.14745185102758965 0.24865499403516936, 0.9685921194916722L 0.24865499403516936, 0.9685921194916722 L 0.25341479637626957, 0.967357710972303 L 0.25816847127868003, 0.9660999122438783 \", \"type\": \"path\"}, {\"fillcolor\": \"#e6c4a9\", \"layer\": \"below\", \"line\": {\"color\": \"rgb(175,175,175)\", \"width\": 0.5}, \"path\": \"M 0.22476810391347363,0.974412284129845 Q -0.15272618595018883, 0.12913060104060672 -0.9234787109801116, -0.38364967140154255L -0.9234787109801116, -0.38364967140154255 L -0.9259755639059536, -0.37758344117433346 L -0.9284325689330155, -0.3715009622389172 M -0.9284325689330155,-0.3715009622389172 Q -0.1528579217004317, 0.12897463228644887 0.2099692079811209, 0.9777079992000581L 0.2099692079811209, 0.9777079992000581 L 0.21737490200754675, 0.9760881886270366 L 0.22476810391347363, 0.974412284129845 \", \"type\": \"path\"}, {\"fillcolor\": \"#e6c4a9\", \"layer\": \"below\", \"line\": {\"color\": \"rgb(175,175,175)\", \"width\": 0.5}, \"path\": \"M 0.1921069088154535,0.9813740039278456 Q -0.16616902142394646, 0.11130074716284713 -0.8343953981615903, -0.5511663265537557L -0.8343953981615903, -0.5511663265537557 L -0.8395684818804597, -0.5432538672047721 L -0.8446665352043439, -0.535292858448428 M -0.8446665352043439,-0.535292858448428 Q -0.16618862571563894, 0.11127147290634412 0.17317187140749282, 0.9848916199020209L 0.17317187140749282, 0.9848916199020209 L 0.18264785853063364, 0.9831783967186085 L 0.1921069088154535, 0.9813740039278456 \", \"type\": \"path\"}, {\"fillcolor\": \"#e6c4a9\", \"layer\": \"below\", \"line\": {\"color\": \"rgb(175,175,175)\", \"width\": 0.5}, \"path\": \"M 0.06173237992238482,0.9980927378100285 Q -0.19364052402495863, 0.05003346335543272 -0.4294958769690736, -0.9030688188984084L -0.4294958769690736, -0.9030688188984084 L -0.44615607456329803, -0.8949551704584252 L -0.4626630650727373, -0.8865342002525904 M -0.4626630650727373,-0.8865342002525904 Q -0.19364107721335314, 0.050031322345628786 0.024684747500489577, 0.9996952851948623L 0.024684747500489577, 0.9996952851948623 L 0.0432159926130998, 0.9990657525821134 L 0.06173237992238482, 0.9980927378100285 \", \"type\": \"path\"}, {\"fillcolor\": \"#e6c4a9\", \"layer\": \"below\", \"line\": {\"color\": \"rgb(175,175,175)\", \"width\": 0.5}, \"path\": \"M 0.28125112236443817,0.9596342043553595 Q -0.19661587244092893, 0.036636030138271984 -0.08324667818294845, -0.9965289712655145L -0.08324667818294845, -0.9965289712655145 L -0.08569168827383924, -0.9963217023435649 L -0.08813618241209623, -0.9961084345340229 M -0.08813618241209623,-0.9961084345340229 Q -0.1966572085440606, 0.036413491011682265 0.27436239686881686, 0.9616263698466249L 0.27436239686881686, 0.9616263698466249 L 0.2778085453500788, 0.960636462003433 L 0.28125112236443817, 0.9596342043553595 \", \"type\": \"path\"}, {\"fillcolor\": \"#e6c4a9\", \"layer\": \"below\", \"line\": {\"color\": \"rgb(175,175,175)\", \"width\": 0.5}, \"path\": \"M -0.03390369837489218,0.999425104365757 Q -0.1966845109853895, -0.036265729531311026 0.32476614420749855, -0.9457943495161061L 0.32476614420749855, -0.9457943495161061 L 0.2952854598864363, -0.9554090732140113 L 0.265520842750727, -0.9641051198209372 M 0.265520842750727,-0.9641051198209372 Q -0.19669826635971666, -0.036191048770130484 -0.09502756484000888, 0.9954746415256281L -0.09502756484000888, 0.9954746415256281 L -0.06449588512231098, 0.9979179729828949 L -0.03390369837489218, 0.999425104365757 \", \"type\": \"path\"}, {\"fillcolor\": \"#e6c4a9\", \"layer\": \"below\", \"line\": {\"color\": \"rgb(175,175,175)\", \"width\": 0.5}, \"path\": \"M 0.09747173487540864,0.9952382935259163 Q -0.1826569140071748, -0.08146442024206368 0.805587672620388, -0.5924765832689647L 0.805587672620388, -0.5924765832689647 L 0.7949941692213347, -0.6066170710621981 L 0.7841524879536177, -0.620568187741002 M 0.7841524879536177,-0.620568187741002 Q -0.18263582347412902, -0.08151169231421214 0.06173237992238482, 0.9980927378100285L 0.06173237992238482, 0.9980927378100285 L 0.07961485103408801, 0.9968256996560733 L 0.09747173487540864, 0.9952382935259163 \", \"type\": \"path\"}, {\"fillcolor\": \"#e6c4a9\", \"layer\": \"below\", \"line\": {\"color\": \"rgb(175,175,175)\", \"width\": 0.5}, \"path\": \"M 0.17317187140749282,0.9848916199020209 Q -0.17351780868756966, -0.09945637268804838 0.9373607717529869, -0.3483601348872238L 0.9373607717529869, -0.3483601348872238 L 0.9343803497682961, -0.35627708594137325 L 0.931333062564111, -0.36416854144057215 M 0.931333062564111,-0.36416854144057215 Q -0.17339109068043013, -0.09967712712879953 0.15397016315155274, 0.9880754975502045L 0.15397016315155274, 0.9880754975502045 L 0.16357876379003977, 0.9865302773037036 L 0.17317187140749282, 0.9848916199020209 \", \"type\": \"path\"}, {\"fillcolor\": \"#e6c4a9\", \"layer\": \"below\", \"line\": {\"color\": \"rgb(175,175,175)\", \"width\": 0.5}, \"path\": \"M 0.29165497303618987,0.9565235892037683 Q -0.17495284099934338, -0.09690976950885027 0.9655766703348354, -0.26011861468394093L 0.9655766703348354, -0.26011861468394093 L 0.965072727321431, -0.2619821195814227 L 0.9645651878592538, -0.26384464817396314 M 0.9645651878592538,-0.26384464817396314 Q -0.17492150042958943, -0.0969663275960328 0.28734049824315516, 0.9578285013870569L 0.28734049824315516, 0.9578285013870569 L 0.2894984708758393, 0.9571784762313404 L 0.29165497303618987, 0.9565235892037683 \", \"type\": \"path\"}, {\"fillcolor\": \"#e6c4a9\", \"layer\": \"below\", \"line\": {\"color\": \"rgb(175,175,175)\", \"width\": 0.5}, \"path\": \"M 0.28734049824315516,0.9578285013870569 Q -0.1656485595434602, -0.1120738806376255 0.9959811061559574, -0.08956358735756141L 0.9959811061559574, -0.08956358735756141 L 0.995761324871232, -0.09197490902788993 L 0.9955357056608988, -0.09438569146992731 M 0.9955357056608988,-0.09438569146992731 Q -0.16556396180976554, -0.11219881706085184 0.28125112236443817, 0.9596342043553595L 0.28125112236443817, 0.9596342043553595 L 0.284297243913997, 0.9587361874378714 L 0.28734049824315516, 0.9578285013870569 \", \"type\": \"path\"}, {\"fillcolor\": \"#e1b396\", \"layer\": \"below\", \"line\": {\"color\": \"rgb(175,175,175)\", \"width\": 0.5}, \"path\": \"M -0.33049649589228525,0.9438072187702956 Q -0.10409624250786127, 0.1707746242734691 -0.6874698541867127, 0.7262129161509728L -0.6874698541867127, 0.7262129161509728 L -0.6814656188929425, 0.7318501282823272 L -0.6754151604662932, 0.7374376997498103 M -0.6754151604662932,0.7374376997498103 Q -0.1043871368552868, 0.17059696849345132 -0.3491930798724121, 0.9370507952983228L -0.3491930798724121, 0.9370507952983228 L -0.33986157794804006, 0.9404754690233383 L -0.33049649589228525, 0.9438072187702956 \", \"type\": \"path\"}, {\"fillcolor\": \"#e1b396\", \"layer\": \"below\", \"line\": {\"color\": \"rgb(175,175,175)\", \"width\": 0.5}, \"path\": \"M -0.3491930798724121,0.9370507952983228 Q -0.11927701409112977, 0.16053969574377683 -0.7963705436017718, 0.6048090254645829L -0.7963705436017718, 0.6048090254645829 L -0.7905840833327051, 0.6123534985455593 L -0.7847261525259753, 0.6198426135252236 M -0.7847261525259753,0.6198426135252236 Q -0.11944303120435039, 0.16041621581597224 -0.36887182344900293, 0.9294802729834601L -0.36887182344900293, 0.9294802729834601 L -0.3590524050156581, 0.9333174007016433 L -0.3491930798724121, 0.9370507952983228 \", \"type\": \"path\"}, {\"fillcolor\": \"#e1b396\", \"layer\": \"below\", \"line\": {\"color\": \"rgb(175,175,175)\", \"width\": 0.5}, \"path\": \"M -0.4381149434263015,0.8989189598326252 Q -0.1475700762691756, 0.13499286125536308 -0.9342889649706297, 0.35651666150982264L -0.9342889649706297, 0.35651666150982264 L -0.9277890144350799, 0.3731052729372545 L -0.9209945545467112, 0.3895754490407538 M -0.9209945545467112,0.3895754490407538 Q -0.14767237809023867, 0.1348809428687893 -0.4711997847967285, 0.8820265091296955L -0.4711997847967285, 0.8820265091296955 L -0.45473581062361723, 0.8906263765106454 L -0.4381149434263015, 0.8989189598326252 \", \"type\": \"path\"}, {\"fillcolor\": \"#e1b396\", \"layer\": \"below\", \"line\": {\"color\": \"rgb(175,175,175)\", \"width\": 0.5}, \"path\": \"M -0.25661422098925596,0.9665139117395452 Q -0.13940889883003382, 0.1434055749508972 -0.9588765575336514, 0.28382344408525184L -0.9588765575336514, 0.28382344408525184 L -0.9585896663306047, 0.2847908910133537 L -0.9583017990339283, 0.2857580479502484 M -0.9583017990339283,0.2857580479502484 Q -0.13946576047647483, 0.143350276088742 -0.2593304113769218, 0.9657886610097866L -0.2593304113769218, 0.9657886610097866 L -0.2579725710497587, 0.9661522408947656 L -0.25661422098925596, 0.9665139117395452 \", \"type\": \"path\"}, {\"fillcolor\": \"#e1b396\", \"layer\": \"below\", \"line\": {\"color\": \"rgb(175,175,175)\", \"width\": 0.5}, \"path\": \"M -0.2842589509586124,0.9587475417438677 Q -0.15161792008081457, 0.13043008207605994 -0.9904556083038438, 0.13783210068580823L -0.9904556083038438, 0.13783210068580823 L -0.9898958153240246, 0.14179659658815713 L -0.9893201537243673, 0.14575881940656046 M -0.9893201537243673,0.14575881940656046 Q -0.15173733505933634, 0.13029113994854255 -0.2936788471519213, 0.9559041451607575L -0.2936788471519213, 0.9559041451607575 L -0.2889723963413205, 0.9573374296206927 L -0.2842589509586124, 0.9587475417438677 \", \"type\": \"path\"}, {\"fillcolor\": \"#e1b396\", \"layer\": \"below\", \"line\": {\"color\": \"rgb(175,175,175)\", \"width\": 0.5}, \"path\": \"M -0.27017446184977817,0.962811383482862 Q -0.15612308928749366, 0.12500232394371427 -0.9985920789418837, 0.05304582805958069L -0.9985920789418837, 0.05304582805958069 L -0.9984238323008076, 0.056123534223790746 L -0.9982461000520766, 0.05920070718175205 M -0.9982461000520766,0.05920070718175205 Q -0.15616451628633024, 0.12495056563720108 -0.27674176825928914, 0.9609443239338697L -0.27674176825928914, 0.9609443239338697 L -0.27345970848923684, 0.9618834585504533 L -0.27017446184977817, 0.962811383482862 \", \"type\": \"path\"}, {\"fillcolor\": \"#e1b396\", \"layer\": \"below\", \"line\": {\"color\": \"rgb(175,175,175)\", \"width\": 0.5}, \"path\": \"M -0.26359456114294827,0.9646335611701764 Q -0.1675147086652416, 0.10926491834435809 -0.9890517300368269, -0.14756922209986667L -0.9890517300368269, -0.14756922209986667 L -0.9895073669161727, -0.1444824239090094 L -0.9899533700230023, -0.14139421904767077 M -0.9899533700230023,-0.14139421904767077 Q -0.16754677452342112, 0.10921574221144995 -0.27017446184977817, 0.962811383482862L -0.27017446184977817, 0.962811383482862 L -0.26688606662681646, 0.9637280879171606 L -0.26359456114294827, 0.9646335611701764 \", \"type\": \"path\"}, {\"fillcolor\": \"#e1b396\", \"layer\": \"below\", \"line\": {\"color\": \"rgb(175,175,175)\", \"width\": 0.5}, \"path\": \"M -0.3047921091527553,0.9524189047883368 Q -0.18036812816348777, 0.08641376246177257 -0.9332266140767876, -0.3592883059310093L -0.9332266140767876, -0.3592883059310093 L -0.9353127564043313, -0.3538220565585646 L -0.9373668812253062, -0.3483436951947641 M -0.9373668812253062,-0.3483436951947641 Q -0.1804351259477095, 0.08627378120978707 -0.3173878577655163, 0.9482958123618476L -0.3173878577655163, 0.9482958123618476 L -0.3110968141614356, 0.9503782258756801 L -0.3047921091527553, 0.9524189047883368 \", \"type\": \"path\"}, {\"fillcolor\": \"#e1b396\", \"layer\": \"below\", \"line\": {\"color\": \"rgb(175,175,175)\", \"width\": 0.5}, \"path\": \"M -0.3173878577655163,0.9482958123618476 Q -0.18792743385481778, 0.06843449133838213 -0.8528553212093269, -0.5221472982645183L -0.8528553212093269, -0.5221472982645183 L -0.8564580762037826, -0.5162165860424438 L -0.8600195900089015, -0.5102610163444989 M -0.8600195900089015,-0.5102610163444989 Q -0.18792666077912776, 0.06843661423833479 -0.33049649589228525, 0.9438072187702956L -0.33049649589228525, 0.9438072187702956 L -0.3239499510676831, 0.946074219711776 L -0.3173878577655163, 0.9482958123618476 \", \"type\": \"path\"}, {\"fillcolor\": \"#e1b396\", \"layer\": \"below\", \"line\": {\"color\": \"rgb(175,175,175)\", \"width\": 0.5}, \"path\": \"M -0.36887182344900293,0.9294802729834601 Q -0.19954908313503897, 0.013422496785818569 -0.4900271420305955, -0.8717071756463444L -0.4900271420305955, -0.8717071756463444 L -0.5006109197082117, -0.865672401702225 L -0.511120389280811, -0.8595091318080524 M -0.511120389280811,-0.8595091318080524 Q -0.1995459203010054, 0.013469435445659912 -0.3909756894931125, 0.920401005119717L -0.3909756894931125, 0.920401005119717 L -0.37995087709770453, 0.9250066653774366 L -0.36887182344900293, 0.9294802729834601 \", \"type\": \"path\"}, {\"fillcolor\": \"#e1b396\", \"layer\": \"below\", \"line\": {\"color\": \"rgb(175,175,175)\", \"width\": 0.5}, \"path\": \"M -0.2593304113769218,0.9657886610097866 Q -0.1993107836585867, -0.01658950021549933 -0.09609449310570103, -0.9953722160050271L -0.09609449310570103, -0.9953722160050271 L -0.09762961660238775, -0.995222818248291 L -0.09916450784565296, -0.9950710529322665 M -0.09916450784565296,-0.9950710529322665 Q -0.19929968180275356, -0.016722345329563876 -0.26359456114294827, 0.9646335611701764L -0.26359456114294827, 0.9646335611701764 L -0.2614631241401674, 0.9652134658793687 L -0.2593304113769218, 0.9657886610097866 \", \"type\": \"path\"}, {\"fillcolor\": \"#e1b396\", \"layer\": \"below\", \"line\": {\"color\": \"rgb(175,175,175)\", \"width\": 0.5}, \"path\": \"M -0.4711997847967285,0.8820265091296955 Q -0.18719454732598415, -0.07041449745201547 0.22692421909701127, -0.9739124184377216L 0.22692421909701127, -0.9739124184377216 L 0.20769001242388907, -0.9781946936777794 L 0.1883751612584291, -0.9820971431690761 M 0.1883751612584291,-0.9820971431690761 Q -0.187238762198107, -0.07029684154014842 -0.5045015531233004, 0.8634107845609631L -0.5045015531233004, 0.8634107845609631 L -0.48793945475339306, 0.8728774762215837 L -0.4711997847967285, 0.8820265091296955 \", \"type\": \"path\"}, {\"fillcolor\": \"#e1b396\", \"layer\": \"below\", \"line\": {\"color\": \"rgb(175,175,175)\", \"width\": 0.5}, \"path\": \"M -0.3909756894931125,0.920401005119717 Q -0.16291526013730628, -0.11601128399597099 0.7419032749148318, -0.6705069206731931L 0.7419032749148318, -0.6705069206731931 L 0.7336567602324812, -0.6795202411740063 L 0.725300750983004, -0.6884321467098194 M 0.725300750983004,-0.6884321467098194 Q -0.16292310404171062, -0.1160002679713023 -0.4132220647892432, 0.9106302900581084L -0.4132220647892432, 0.9106302900581084 L -0.4021285537193296, 0.9155832164711192 L -0.3909756894931125, 0.920401005119717 \", \"type\": \"path\"}, {\"fillcolor\": \"#e1b396\", \"layer\": \"below\", \"line\": {\"color\": \"rgb(175,175,175)\", \"width\": 0.5}, \"path\": \"M -0.27674176825928914,0.9609443239338697 Q -0.151087567057635, -0.13104406541543442 0.9121693165471036, -0.4098135404668687L 0.9121693165471036, -0.4098135404668687 L 0.9107406157296598, -0.41297885037899956 L 0.9093009310408064, -0.41613917961220925 M 0.9093009310408064,-0.41613917961220925 Q -0.15102949954980094, -0.13111098453499873 -0.2842589509586124, 0.9587475417438677L -0.2842589509586124, 0.9587475417438677 L -0.28050251015587774, 0.9598532918088325 L -0.27674176825928914, 0.9609443239338697 \", \"type\": \"path\"}, {\"fillcolor\": \"#e1b396\", \"layer\": \"below\", \"line\": {\"color\": \"rgb(175,175,175)\", \"width\": 0.5}, \"path\": \"M -0.2936788471519213,0.9559041451607575 Q -0.13539253959242234, -0.1472034653896244 0.9770759253231931, -0.21289113686066385L 0.9770759253231931, -0.21289113686066385 L 0.9759797987152153, -0.2178610394260705 L 0.9748583928396304, -0.22282529908009302 M 0.9748583928396304,-0.22282529908009302 Q -0.13528443233647688, -0.147302825388372 -0.3047921091527553, 0.9524189047883368L -0.3047921091527553, 0.9524189047883368 L -0.2992405522488085, 0.9541777045654694 L -0.2936788471519213, 0.9559041451607575 \", \"type\": \"path\"}, {\"fillcolor\": \"#e1b396\", \"layer\": \"below\", \"line\": {\"color\": \"rgb(175,175,175)\", \"width\": 0.5}, \"path\": \"M -0.25467284199276624,0.9670272713586352 Q -0.1303310622809349, -0.15170304612868876 0.9943615774410802, -0.1060426956885127L 0.9943615774410802, -0.1060426956885127 L 0.9942784473455848, -0.10681932944955733 L 0.994194710670029, -0.1075958980432683 M 0.994194710670029,-0.1075958980432683 Q -0.13029723182897632, -0.15173210397838027 -0.25661422098925596, 0.9665139117395452L -0.25661422098925596, 0.9665139117395452 L -0.2556436603511228, 0.9667710788611127 L -0.25467284199276624, 0.9670272713586352 \", \"type\": \"path\"}, {\"fillcolor\": \"#dba284\", \"layer\": \"below\", \"line\": {\"color\": \"rgb(175,175,175)\", \"width\": 0.5}, \"path\": \"M -0.6874698541867127,0.7262129161509728 Q -0.15020268629650205, 0.13205738536452477 -0.8082604954328229, 0.5888250771856509L -0.8082604954328229, 0.5888250771856509 L -0.8023553231012782, 0.5968466599479664 L -0.7963705436017718, 0.6048090254645829 M -0.7963705436017718,0.6048090254645829 Q -0.15009569018450608, 0.132178983912106 -0.7006450617917209, 0.7135099840835275L -0.7006450617917209, 0.7135099840835275 L -0.6940865191827534, 0.7198915917614049 L -0.6874698541867127, 0.7262129161509728 \", \"type\": \"path\"}, {\"fillcolor\": \"#dba284\", \"layer\": \"below\", \"line\": {\"color\": \"rgb(175,175,175)\", \"width\": 0.5}, \"path\": \"M -0.6337994472740353,0.7734974212207352 Q -0.15255299841164038, 0.12933515637914558 -0.8667760394484051, 0.49869760119549095L -0.8667760394484051, 0.49869760119549095 L -0.8647517701729052, 0.502199538015346 L -0.862713352496885, 0.5056932582342636 M -0.862713352496885,0.5056932582342636 Q -0.15248172412825323, 0.12941917866713293 -0.6391891301200374, 0.7690495796347527L -0.6391891301200374, 0.7690495796347527 L -0.6364981738918345, 0.7712782083219777 L -0.6337994472740353, 0.7734974212207352 \", \"type\": \"path\"}, {\"fillcolor\": \"#dba284\", \"layer\": \"below\", \"line\": {\"color\": \"rgb(175,175,175)\", \"width\": 0.5}, \"path\": \"M -0.6239681968123528,0.7814497356623399 Q -0.16549476111543182, 0.11230086394746108 -0.9566801120580526, 0.29114113964294347L -0.9566801120580526, 0.29114113964294347 L -0.9566171352792838, 0.2913479989463741 L -0.956554113772115, 0.29155484462729075 M -0.956554113772115,0.29155484462729075 Q -0.16549850493128646, 0.11229534658884562 -0.6243581742435301, 0.7811381889622896L -0.6243581742435301, 0.7811381889622896 L -0.6241632049662365, 0.7812939866441286 L -0.6239681968123528, 0.7814497356623399 \", \"type\": \"path\"}, {\"fillcolor\": \"#dba284\", \"layer\": \"below\", \"line\": {\"color\": \"rgb(175,175,175)\", \"width\": 0.5}, \"path\": \"M -0.6453105325431132,0.763920360108908 Q -0.17554201965016436, 0.09583840220465552 -0.9915487674035621, 0.12973450528088748L -0.9915487674035621, 0.12973450528088748 L -0.9910104586197168, 0.13378441952013162 L -0.9904556083038438, 0.13783210068580823 M -0.9904556083038438,0.13783210068580823 Q -0.17554911016240804, 0.09582541375432058 -0.6516432213454431, 0.7585256172829853L -0.6516432213454431, 0.7585256172829853 L -0.6484824868444359, 0.7612295739499721 L -0.6453105325431132, 0.763920360108908 \", \"type\": \"path\"}, {\"fillcolor\": \"#dba284\", \"layer\": \"below\", \"line\": {\"color\": \"rgb(175,175,175)\", \"width\": 0.5}, \"path\": \"M -0.6243581742435301,0.7811381889622896 Q -0.17685672068638802, 0.09339004415919794 -0.9971745040302774, 0.07511996080916425L -0.9971745040302774, 0.07511996080916425 L -0.9971471981797952, 0.0754815551123862 L -0.9971197612083956, 0.07584313949008184 M -0.9971197612083956,0.07584313949008184 Q -0.176853931809624, 0.09339532538343055 -0.6248779021606395, 0.7807224906401238L -0.6248779021606395, 0.7807224906401238 L -0.6246180727842372, 0.7809303830376337 L -0.6243581742435301, 0.7811381889622896 \", \"type\": \"path\"}, {\"fillcolor\": \"#dba284\", \"layer\": \"below\", \"line\": {\"color\": \"rgb(175,175,175)\", \"width\": 0.5}, \"path\": \"M -0.6264354243580025,0.7794733216149282 Q -0.18520983774259125, 0.0754805670577734 -0.9928272540280997, -0.1195577001243464L -0.9928272540280997, -0.1195577001243464 L -0.9929691839873721, -0.11837313737268454 L -0.993109700620811, -0.11718840613662732 M -0.993109700620811,-0.11718840613662732 Q -0.18520141607191493, 0.0755012283672091 -0.6281199219032191, 0.7781165489232921L -0.6281199219032191, 0.7781165489232921 L -0.6272780399601022, 0.7787953907052946 L -0.6264354243580025, 0.7794733216149282 \", \"type\": \"path\"}, {\"fillcolor\": \"#dba284\", \"layer\": \"below\", \"line\": {\"color\": \"rgb(175,175,175)\", \"width\": 0.5}, \"path\": \"M -0.6237081254868065,0.7816573253042115 Q -0.19162881054966757, 0.05725730492539464 -0.9502929630774503, -0.3113571652065835L -0.9502929630774503, -0.3113571652065835 L -0.9503481509110483, -0.3111886759828374 L -0.9504033088711029, -0.3110201769770878 M -0.9504033088711029,-0.3110201769770878 Q -0.1916281855033437, 0.05725939678948856 -0.6239681968123528, 0.7814497356623399L -0.6239681968123528, 0.7814497356623399 L -0.6238381697843228, 0.781553541301008 L -0.6237081254868065, 0.7816573253042115 \", \"type\": \"path\"}, {\"fillcolor\": \"#dba284\", \"layer\": \"below\", \"line\": {\"color\": \"rgb(175,175,175)\", \"width\": 0.5}, \"path\": \"M -0.6281199219032191,0.7781165489232921 Q -0.19603682981358353, 0.03961768994578169 -0.8809894177642875, -0.4731359696613033L -0.8809894177642875, -0.4731359696613033 L -0.8816547039632185, -0.47189509743112334 L -0.8823182423966509, -0.4706532897304393 M -0.8823182423966509,-0.4706532897304393 Q -0.19602718504469271, 0.03966538444858202 -0.6299307096230986, 0.7766513381651636L -0.6299307096230986, 0.7766513381651636 L -0.6290257423838733, 0.7773844707854776 L -0.6281199219032191, 0.7781165489232921 \", \"type\": \"path\"}, {\"fillcolor\": \"#dba284\", \"layer\": \"below\", \"line\": {\"color\": \"rgb(175,175,175)\", \"width\": 0.5}, \"path\": \"M -0.6248779021606395,0.7807224906401238 Q -0.19999272202756663, -0.001706205147241795 -0.6114667043511255, -0.7912701621254103L -0.6114667043511255, -0.7912701621254103 L -0.6119526599363345, -0.7908943937067989 L -0.6124383845983095, -0.7905183268404429 M -0.6124383845983095,-0.7905183268404429 Q -0.1999929171695959, -0.0016831761628390855 -0.625656975016343, 0.7800982948407202L -0.625656975016343, 0.7800982948407202 L -0.625267516479236, 0.7804104899576173 L -0.6248779021606395, 0.7807224906401238 \", \"type\": \"path\"}, {\"fillcolor\": \"#dba284\", \"layer\": \"below\", \"line\": {\"color\": \"rgb(175,175,175)\", \"width\": 0.5}, \"path\": \"M -0.6516432213454431,0.7585256172829853 Q -0.18660931026429234, -0.07195113148995703 0.026260226918380716, -0.9996551407771558L 0.026260226918380716, -0.9996551407771558 L 0.021076038029944028, -0.9997778756408647 L 0.015891282388333212, -0.999873725599415 M 0.015891282388333212,-0.999873725599415 Q -0.18668304266485927, -0.07175960967975187 -0.6579308123982155, 0.7530783797832893L -0.6579308123982155, 0.7530783797832893 L -0.6547926813602942, 0.7558085368907896 L -0.6516432213454431, 0.7585256172829853 \", \"type\": \"path\"}, {\"fillcolor\": \"#dba284\", \"layer\": \"below\", \"line\": {\"color\": \"rgb(175,175,175)\", \"width\": 0.5}, \"path\": \"M -0.6299307096230986,0.7766513381651636 Q -0.15509048809326706, -0.12628119615759187 0.6328789701900717, -0.7742507404524418L 0.6328789701900717, -0.7742507404524418 L 0.6305309238168683, -0.7761641283328202 L 0.6281770927165506, -0.778070395392462 M 0.6281770927165506,-0.778070395392462 Q -0.15515780033310003, -0.1261984825415657 -0.6337994472740353, 0.7734974212207352L -0.6337994472740353, 0.7734974212207352 L -0.6318670462690996, 0.7750767935109162 L -0.6299307096230986, 0.7766513381651636 \", \"type\": \"path\"}, {\"fillcolor\": \"#dba284\", \"layer\": \"below\", \"line\": {\"color\": \"rgb(175,175,175)\", \"width\": 0.5}, \"path\": \"M -0.6391891301200374,0.7690495796347527 Q -0.10545998483591933, -0.16993584553709576 0.9728656537551884, -0.23137074089756882L 0.9728656537551884, -0.23137074089756882 L 0.9718825225887604, -0.23546626570807902 L 0.9708821503523725, -0.23955761337756135 M 0.9708821503523725,-0.23955761337756135 Q -0.10549715264382485, -0.1699127740461132 -0.6453105325431132, 0.763920360108908L -0.6453105325431132, 0.763920360108908 L -0.6422549517665651, 0.7664910807904598 L -0.6391891301200374, 0.7690495796347527 \", \"type\": \"path\"}, {\"fillcolor\": \"#dba284\", \"layer\": \"below\", \"line\": {\"color\": \"rgb(175,175,175)\", \"width\": 0.5}, \"path\": \"M -0.625656975016343,0.7800982948407202 Q -0.0961156096937799, -0.1753903919067204 0.994194710670029, -0.1075958980432683L 0.994194710670029, -0.1075958980432683 L 0.9941441775275026, -0.10806180772208751 L 0.9940934260456363, -0.1085276936677869 M 0.9940934260456363,-0.1085276936677869 Q -0.09611026008434673, -0.17539332343769312 -0.6264354243580025, 0.7794733216149282L -0.6264354243580025, 0.7794733216149282 L -0.6260462776749293, 0.7797859053672138 L -0.625656975016343, 0.7800982948407202 \", \"type\": \"path\"}, {\"fillcolor\": \"#d59171\", \"layer\": \"below\", \"line\": {\"color\": \"rgb(175,175,175)\", \"width\": 0.5}, \"path\": \"M -0.7324021427127853,0.6808723091371252 Q -0.1599864421559697, 0.12001807499820422 -0.8585942055782838, 0.5126558203584503L -0.8585942055782838, 0.5126558203584503 L -0.8565632462898946, 0.5160420574965935 L -0.8545189319833743, 0.5194202488178464 M -0.8545189319833743,0.5194202488178464 Q -0.15995812152442357, 0.12005581767818563 -0.7374376063302943, 0.6754152624643938L -0.7374376063302943, 0.6754152624643938 L -0.7349249395729829, 0.6781484595526612 L -0.7324021427127853, 0.6808723091371252 \", \"type\": \"path\"}, {\"fillcolor\": \"#d59171\", \"layer\": \"below\", \"line\": {\"color\": \"rgb(175,175,175)\", \"width\": 0.5}, \"path\": \"M -0.7227112259585651,0.6911501167427145 Q -0.17257900838648788, 0.10107663362190372 -0.9563437190809562, 0.2922442317213552L -0.9563437190809562, 0.2922442317213552 L -0.9563226522838258, 0.29231316208619273 L -0.9563015805184031, 0.29238209093240336 M -0.9563015805184031,0.29238209093240336 Q -0.17258087574955344, 0.10107344520455014 -0.7228363852462607, 0.6910192183753787L -0.7228363852462607, 0.6910192183753787 L -0.7227738085657158, 0.6910846703924274 L -0.7227112259585651, 0.6911501167427145 \", \"type\": \"path\"}, {\"fillcolor\": \"#d59171\", \"layer\": \"below\", \"line\": {\"color\": \"rgb(175,175,175)\", \"width\": 0.5}, \"path\": \"M -0.7576431368895842,0.6526690410339001 Q -0.18301961524846766, 0.08064626733025443 -0.9929292098017332, 0.11870797918634556L -0.9929292098017332, 0.11870797918634556 L -0.9922543053938508, 0.12422315978659737 L -0.9915487674035621, 0.12973450528088748 M -0.9915487674035621,0.12973450528088748 Q -0.1830680715839867, 0.08053621028158903 -0.7656232172018478, 0.6432892734077665L -0.7656232172018478, 0.6432892734077665 L -0.7616476162812637, 0.6479914417745569 L -0.7576431368895842, 0.6526690410339001 \", \"type\": \"path\"}, {\"fillcolor\": \"#d59171\", \"layer\": \"below\", \"line\": {\"color\": \"rgb(175,175,175)\", \"width\": 0.5}, \"path\": \"M -0.7243364462641326,0.6894466713339381 Q -0.18291617562852092, 0.08088060764754489 -0.9974143556565719, 0.07186517327736454L -0.9974143556565719, 0.07186517327736454 L -0.9973685497827268, 0.0724981096601858 L -0.9973223422619416, 0.0731310168475367 M -0.9973223422619416,0.0731310168475367 Q -0.18291611721607717, 0.08088073975053839 -0.7252099024267036, 0.688527847964228L -0.7252099024267036, 0.688527847964228 L -0.7247733199489548, 0.688987398063397 L -0.7243364462641326, 0.6894466713339381 \", \"type\": \"path\"}, {\"fillcolor\": \"#d59171\", \"layer\": \"below\", \"line\": {\"color\": \"rgb(175,175,175)\", \"width\": 0.5}, \"path\": \"M -0.7286920577688888,0.6848415035207361 Q -0.19050459540736547, 0.06089334223604409 -0.990816457643932, -0.1352137095931115L -0.990816457643932, -0.1352137095931115 L -0.9911849667946988, -0.1324853259806225 L -0.9915459628861943, -0.12975593814577338 M -0.9915459628861943,-0.12975593814577338 Q -0.19050236812415888, 0.060900309843936386 -0.7324021427127853, 0.6808723091371252L -0.7324021427127853, 0.6808723091371252 L -0.7305497959046388, 0.6828594260195071 L -0.7286920577688888, 0.6848415035207361 \", \"type\": \"path\"}, {\"fillcolor\": \"#d59171\", \"layer\": \"below\", \"line\": {\"color\": \"rgb(175,175,175)\", \"width\": 0.5}, \"path\": \"M -0.7252099024267036,0.688527847964228 Q -0.19520268772092614, 0.043542056755814844 -0.949071276252953, -0.31506144256571783L -0.949071276252953, -0.31506144256571783 L -0.9493780523779687, -0.3141358204073757 L -0.9496839257508145, -0.31320989954106077 M -0.9496839257508145,-0.31320989954106077 Q -0.19520359970072435, 0.04353796807246946 -0.7265801210108751, 0.6870817475030333L -0.7265801210108751, 0.6870817475030333 L -0.7258953718269993, 0.6878051389457209 L -0.7252099024267036, 0.688527847964228 \", \"type\": \"path\"}, {\"fillcolor\": \"#d59171\", \"layer\": \"below\", \"line\": {\"color\": \"rgb(175,175,175)\", \"width\": 0.5}, \"path\": \"M -0.7265801210108751,0.6870817475030333 Q -0.19833845832015717, 0.02572656120011545 -0.8778295670639658, -0.4789731215718587L -0.8778295670639658, -0.4789731215718587 L -0.8786471714867568, -0.4774716201391679 L -0.879462207638324, -0.4759687230647889 M -0.879462207638324,-0.4759687230647889 Q -0.1983340748205651, 0.025760333170797758 -0.7286920577688888, 0.6848415035207361L -0.7286920577688888, 0.6848415035207361 L -0.7276369515464943, 0.6859624382895354 L -0.7265801210108751, 0.6870817475030333 \", \"type\": \"path\"}, {\"fillcolor\": \"#d59171\", \"layer\": \"below\", \"line\": {\"color\": \"rgb(175,175,175)\", \"width\": 0.5}, \"path\": \"M -0.7435233622560844,0.6687099593840422 Q -0.1986055436912297, -0.023576217150150607 -0.5663021482235479, -0.8241977171270222L -0.5663021482235479, -0.8241977171270222 L -0.5709342116017202, -0.8209958136450649 L -0.5755481716854094, -0.8177678778660743 M -0.5755481716854094,-0.8177678778660743 Q -0.1986208405147529, -0.023446997957373934 -0.7501472577480053, 0.6612708156974325L -0.7501472577480053, 0.6612708156974325 L -0.7468445725052489, 0.6649986349756306 L -0.7435233622560844, 0.6687099593840422 \", \"type\": \"path\"}, {\"fillcolor\": \"#d59171\", \"layer\": \"below\", \"line\": {\"color\": \"rgb(175,175,175)\", \"width\": 0.5}, \"path\": \"M -0.7656232172018478,0.6432892734077665 Q -0.17883826123807392, -0.08953701088009598 0.05631019974651602, -0.9984133219286027L 0.05631019974651602, -0.9984133219286027 L 0.04823167105494831, -0.9988361757101348 L 0.04014998601380044, -0.999193664222853 M 0.04014998601380044,-0.999193664222853 Q -0.1789300760620227, -0.08935338762709993 -0.7746337814379826, 0.6324100763389937L -0.7746337814379826, 0.6324100763389937 L -0.7701477096615686, 0.6378655856080025 L -0.7656232172018478, 0.6432892734077665 \", \"type\": \"path\"}, {\"fillcolor\": \"#d59171\", \"layer\": \"below\", \"line\": {\"color\": \"rgb(175,175,175)\", \"width\": 0.5}, \"path\": \"M -0.7501472577480053,0.6612708156974325 Q -0.140597242000911, -0.142240695800243 0.6699434584356636, -0.7424121244290548L 0.6699434584356636, -0.7424121244290548 L 0.6652076465497873, -0.7466584138491265 L 0.6604449211022042, -0.750874494300015 M 0.6604449211022042,-0.750874494300015 Q -0.1406905095850419, -0.1421484453404301 -0.7576431368895842, 0.6526690410339001L -0.7576431368895842, 0.6526690410339001 L -0.7539074652582936, 0.6569806190655969 L -0.7501472577480053, 0.6612708156974325 \", \"type\": \"path\"}, {\"fillcolor\": \"#d59171\", \"layer\": \"below\", \"line\": {\"color\": \"rgb(175,175,175)\", \"width\": 0.5}, \"path\": \"M -0.7230866326921174,0.6907573536503068 Q -0.11372926304718722, -0.16451642692066862 0.9016689948710944, -0.4324268998202475L 0.9016689948710944, -0.4324268998202475 L 0.9014763753864018, -0.43282830847831016 L 0.9012835772009866, -0.4332296313363079 M 0.9012835772009866,-0.4332296313363079 Q -0.11372802385038083, -0.16451728356342143 -0.7237118361929914, 0.6901022954274016L -0.7237118361929914, 0.6901022954274016 L -0.7233993085892415, 0.6904298953062558 L -0.7230866326921174, 0.6907573536503068 \", \"type\": \"path\"}, {\"fillcolor\": \"#d59171\", \"layer\": \"below\", \"line\": {\"color\": \"rgb(175,175,175)\", \"width\": 0.5}, \"path\": \"M -0.7374376063302943,0.6754152624643938 Q -0.09290881208316389, -0.17711000151684078 0.9748583928396304, -0.22282529908009302L 0.9748583928396304, -0.22282529908009302 L 0.9738713963172385, -0.22710020571349582 L 0.9728656537551884, -0.23137074089756882 M 0.9728656537551884,-0.23137074089756882 Q -0.09288396813710614, -0.17712303199500923 -0.7435233622560844, 0.6687099593840422L -0.7435233622560844, 0.6687099593840422 L -0.7404880741047934, 0.6720694994630941 L -0.7374376063302943, 0.6754152624643938 \", \"type\": \"path\"}, {\"fillcolor\": \"#d59171\", \"layer\": \"below\", \"line\": {\"color\": \"rgb(175,175,175)\", \"width\": 0.5}, \"path\": \"M -0.7228363852462607,0.6910192183753787 Q -0.08462898515302218, -0.18121240264388516 0.993853699194457, -0.11070151127014376L 0.993853699194457, -0.11070151127014376 L 0.9938363939380075, -0.11085676381844135 L 0.9938190644291415, -0.11101201366152157 M 0.9938190644291415,-0.11101201366152157 Q -0.0846244744712694, -0.18121450913340653 -0.7230866326921174, 0.6907573536503068L -0.7230866326921174, 0.6907573536503068 L -0.7229615208254796, 0.6908882973431448 L -0.7228363852462607, 0.6910192183753787 \", \"type\": \"path\"}, {\"fillcolor\": \"#d0805f\", \"layer\": \"below\", \"line\": {\"color\": \"rgb(175,175,175)\", \"width\": 0.5}, \"path\": \"M -0.8667760394484051,0.49869760119549095 Q -0.18468313211482665, 0.07676028082450906 -0.9649027853407315, 0.26260733965694527L -0.9649027853407315, 0.26260733965694527 L -0.9639884610480896, 0.26594406736405285 L -0.9630625980635277, 0.2692776117896329 M -0.9630625980635277,0.2692776117896329 Q -0.18477228052160055, 0.07654543977825821 -0.8713496346945597, 0.49066262759421303L -0.8713496346945597, 0.49066262759421303 L -0.8690721230018412, 0.4946854000484273 L -0.8667760394484051, 0.49869760119549095 \", \"type\": \"path\"}, {\"fillcolor\": \"#d0805f\", \"layer\": \"below\", \"line\": {\"color\": \"rgb(175,175,175)\", \"width\": 0.5}, \"path\": \"M -0.8585942055782838,0.5126558203584503 Q -0.18839853737819778, 0.0671266795972795 -0.9893201537243673, 0.14575881940656046L -0.9893201537243673, 0.14575881940656046 L -0.9888141063583482, 0.1491531530566529 L -0.9882964131502759, 0.1525457300428269 M -0.9882964131502759,0.1525457300428269 Q -0.18843965424477088, 0.06701116853264986 -0.862713352496885, 0.5056932582342636L -0.862713352496885, 0.5056932582342636 L -0.8606608197713596, 0.5091787046906925 L -0.8585942055782838, 0.5126558203584503 \", \"type\": \"path\"}, {\"fillcolor\": \"#d0805f\", \"layer\": \"below\", \"line\": {\"color\": \"rgb(175,175,175)\", \"width\": 0.5}, \"path\": \"M -0.8438398658992721,0.5365950807816807 Q -0.19014292193461685, 0.06201346013702355 -0.9979443272353702, 0.064086814078595L -0.9979443272353702, 0.064086814078595 L -0.9978025288424393, 0.0662579311149474 L -0.9976560069960506, 0.06842873449579705 M -0.9976560069960506,0.06842873449579705 Q -0.19015133111892113, 0.06198767033614358 -0.8463113843834694, 0.5326885024692531L -0.8463113843834694, 0.5326885024692531 L -0.8450778825330872, 0.5346432197768841 L -0.8438398658992721, 0.5365950807816807 \", \"type\": \"path\"}, {\"fillcolor\": \"#d0805f\", \"layer\": \"below\", \"line\": {\"color\": \"rgb(175,175,175)\", \"width\": 0.5}, \"path\": \"M -0.8463113843834694,0.5326885024692531 Q -0.19535998223318002, 0.04283079898684578 -0.9915459628861943, -0.12975593814577338L -0.9915459628861943, -0.12975593814577338 L -0.9918410518441199, -0.1274806960945455 L -0.9921309199452637, -0.12520478300993426 M -0.9921309199452637,-0.12520478300993426 Q -0.19536483723780412, 0.04280864832071098 -0.8488666505185429, 0.5286070465264627L -0.8488666505185429, 0.5286070465264627 L -0.8475914741632405, 0.5306493125650732 L -0.8463113843834694, 0.5326885024692531 \", \"type\": \"path\"}, {\"fillcolor\": \"#d0805f\", \"layer\": \"below\", \"line\": {\"color\": \"rgb(175,175,175)\", \"width\": 0.5}, \"path\": \"M -0.8407251156011,0.5414621685746079 Q -0.19847398295467591, 0.024659239447051447 -0.9476654697018005, -0.31926502710892984L -0.9476654697018005, -0.31926502710892984 L -0.9480327716010998, -0.31817269519922203 L -0.9483988144183724, -0.31707994072445794 M -0.9483988144183724,-0.31707994072445794 Q -0.19847643709455584, 0.024639478855098026 -0.8420782934693358, 0.539355307443777L -0.8420782934693358, 0.539355307443777 L -0.8414023639797588, 0.5404091615519426 L -0.8407251156011, 0.5414621685746079 \", \"type\": \"path\"}, {\"fillcolor\": \"#d0805f\", \"layer\": \"below\", \"line\": {\"color\": \"rgb(175,175,175)\", \"width\": 0.5}, \"path\": \"M -0.881367314922006,0.4724316418141077 Q -0.19986749411075752, -0.007279065728945796 -0.8446665352043439, -0.535292858448428L -0.8446665352043439, -0.535292858448428 L -0.8487863775348107, -0.5287359315493262 L -0.8528553212093269, -0.5221472982645183 M -0.8528553212093269,-0.5221472982645183 Q -0.19986987203719253, -0.007213477097509197 -0.8882769062238803, 0.4593083254953384L -0.8882769062238803, 0.4593083254953384 L -0.8848464401897984, 0.46588279350437645 L -0.881367314922006, 0.4724316418141077 \", \"type\": \"path\"}, {\"fillcolor\": \"#d0805f\", \"layer\": \"below\", \"line\": {\"color\": \"rgb(175,175,175)\", \"width\": 0.5}, \"path\": \"M -0.8882769062238803,0.4593083254953384 Q -0.19229124463568348, -0.05499161060070656 -0.511120389280811, -0.8595091318080524L -0.511120389280811, -0.8595091318080524 L -0.5204179245019125, -0.8539116955851592 L -0.5296541672659686, -0.8482136895251063 M -0.5296541672659686,-0.8482136895251063 Q -0.1923266152688193, -0.054867777968855 -0.8974688781223833, 0.44107778543217385L -0.8974688781223833, 0.44107778543217385 L -0.8929194195028809, 0.4502165148843811 L -0.8882769062238803, 0.4593083254953384 \", \"type\": \"path\"}, {\"fillcolor\": \"#d0805f\", \"layer\": \"below\", \"line\": {\"color\": \"rgb(175,175,175)\", \"width\": 0.5}, \"path\": \"M -0.8420782934693358,0.539355307443777 Q -0.18024272439412214, -0.08667502698577333 -0.10446502132935175, -0.9945285613388175L -0.10446502132935175, -0.9945285613388175 L -0.10565026194227918, -0.9944033498291968 L -0.10683535248183663, -0.9942767257962352 M -0.10683535248183663,-0.9942767257962352 Q -0.18020410258978847, -0.08675529614847155 -0.8438398658992721, 0.5365950807816807L -0.8438398658992721, 0.5365950807816807 L -0.8429602094612859, 0.5379759151346694 L -0.8420782934693358, 0.539355307443777 \", \"type\": \"path\"}, {\"fillcolor\": \"#d0805f\", \"layer\": \"below\", \"line\": {\"color\": \"rgb(175,175,175)\", \"width\": 0.5}, \"path\": \"M -0.9091155168907906,0.41654408764066087 Q -0.1595197053035437, -0.1206377371300978 0.15322418945264066, -0.9881914529920715L 0.15322418945264066, -0.9881914529920715 L 0.13752485534620285, -0.9904983160823677 L 0.12179089375897313, -0.9925557808996885 M 0.12179089375897313,-0.9925557808996885 Q -0.15965629421332572, -0.12045691228845264 -0.9209945545467112, 0.3895754490407538L -0.9209945545467112, 0.3895754490407538 L -0.915154383293457, 0.40310352856155 L -0.9091155168907906, 0.41654408764066087 \", \"type\": \"path\"}, {\"fillcolor\": \"#d0805f\", \"layer\": \"below\", \"line\": {\"color\": \"rgb(175,175,175)\", \"width\": 0.5}, \"path\": \"M -0.876220300219763,0.4819107650621517 Q -0.12515264719269706, -0.15600261183922629 0.6604449211022042, -0.750874494300015L 0.6604449211022042, -0.750874494300015 L 0.6561889490223849, -0.7545966228263269 L 0.6519120001966745, -0.7582946287555854 M 0.6519120001966745,-0.7582946287555854 Q -0.12519332628084004, -0.155969968438604 -0.881367314922006, 0.4724316418141077L -0.881367314922006, 0.4724316418141077 L -0.8788065883169748, 0.4771781431820607 L -0.876220300219763, 0.4819107650621517 \", \"type\": \"path\"}, {\"fillcolor\": \"#d0805f\", \"layer\": \"below\", \"line\": {\"color\": \"rgb(175,175,175)\", \"width\": 0.5}, \"path\": \"M -0.8488666505185429,0.5286070465264627 Q -0.0951536822606917, -0.1759141175466919 0.9069896338974422, -0.4211529460927274L 0.9069896338974422, -0.4211529460927274 L 0.9059744562371268, -0.42333235719212686 L 0.9049540416653744, -0.4255093212533701 M 0.9049540416653744,-0.4255093212533701 Q -0.09511919336745771, -0.17593276855982287 -0.8516042279676173, 0.5241853097022833L -0.8516042279676173, 0.5241853097022833 L -0.8502383137003465, 0.5263979577429905 L -0.8488666505185429, 0.5286070465264627 \", \"type\": \"path\"}, {\"fillcolor\": \"#d0805f\", \"layer\": \"below\", \"line\": {\"color\": \"rgb(175,175,175)\", \"width\": 0.5}, \"path\": \"M -0.8516042279676173,0.5241853097022833 Q -0.0779147210838067, -0.18419906687720383 0.9692630107221245, -0.24602686041544886L 0.9692630107221245, -0.24602686041544886 L 0.9686338148598133, -0.24849252043094774 L 0.9679983467383089, -0.2509565713662442 M 0.9679983467383089,-0.2509565713662442 Q -0.0778689939995422, -0.18421840237473364 -0.8545189319833743, 0.5194202488178464L -0.8545189319833743, 0.5194202488178464 L -0.8530649070742491, 0.5218048143879116 L -0.8516042279676173, 0.5241853097022833 \", \"type\": \"path\"}, {\"fillcolor\": \"#d0805f\", \"layer\": \"below\", \"line\": {\"color\": \"rgb(175,175,175)\", \"width\": 0.5}, \"path\": \"M -0.8396806221186116,0.5430805215053301 Q -0.066582556687135, -0.18859152458423062 0.994526017689399, -0.10448923455966773L 0.994526017689399, -0.10448923455966773 L 0.9944441009058, -0.10526599723393587 L 0.9943615774410802, -0.1060426956885127 M 0.9943615774410802,-0.1060426956885127 Q -0.06654823150551115, -0.1886036396347878 -0.8407251156011, 0.5414621685746079L -0.8407251156011, 0.5414621685746079 L -0.8402032585076565, 0.5422715965207067 L -0.8396806221186116, 0.5430805215053301 \", \"type\": \"path\"}, {\"fillcolor\": \"#ca6f4c\", \"layer\": \"below\", \"line\": {\"color\": \"rgb(175,175,175)\", \"width\": 0.5}, \"path\": \"M -0.9570988139735568,0.2897617302033015 Q -0.1939334756823903, 0.04888565239155275 -0.9800899795820186, 0.19855385144317494L -0.9800899795820186, 0.19855385144317494 L -0.9799599783653192, 0.19919447984882305 L -0.9798295584067522, 0.19983502313765947 M -0.9798295584067522,0.19983502313765947 Q -0.19392970780226115, 0.04890059745779823 -0.9574323435183266, 0.2886577689669982L -0.9574323435183266, 0.2886577689669982 L -0.9572657378880777, 0.28920979766528354 L -0.9570988139735568, 0.2897617302033015 \", \"type\": \"path\"}, {\"fillcolor\": \"#ca6f4c\", \"layer\": \"below\", \"line\": {\"color\": \"rgb(175,175,175)\", \"width\": 0.5}, \"path\": \"M -0.9568478314402039,0.29058944830839795 Q -0.19662322439631827, 0.03659655213261328 -0.9973223422619416, 0.0731310168475367L -0.9973223422619416, 0.0731310168475367 L -0.9972824161514781, 0.07367348529199676 L -0.9972421949789481, 0.07421593193896993 M -0.9972421949789481,0.07421593193896993 Q -0.19661914378877005, 0.03661846932588765 -0.9570988139735568, 0.2897617302033015L -0.9570988139735568, 0.2897617302033015 L -0.9569734121969964, 0.2901756163912427 L -0.9568478314402039, 0.29058944830839795 \", \"type\": \"path\"}, {\"fillcolor\": \"#ca6f4c\", \"layer\": \"below\", \"line\": {\"color\": \"rgb(175,175,175)\", \"width\": 0.5}, \"path\": \"M -0.9617707163204254,0.2738559643836442 Q -0.19987033892630515, -0.0072005289725066 -0.9395711462358601, -0.3423537076782314L -0.9395711462358601, -0.3423537076782314 L -0.9405686475201603, -0.33960362086128637 L -0.9415580994308486, -0.3368506277212026 M -0.9415580994308486,-0.3368506277212026 Q -0.1998742465665967, -0.007091231164988958 -0.9630625980635277, 0.2692776117896329L -0.9630625980635277, 0.2692776117896329 L -0.9624193796722389, 0.2715675562936466 L -0.9617707163204254, 0.2738559643836442 \", \"type\": \"path\"}, {\"fillcolor\": \"#ca6f4c\", \"layer\": \"below\", \"line\": {\"color\": \"rgb(175,175,175)\", \"width\": 0.5}, \"path\": \"M -0.9588765575336514,0.28382344408525184 Q -0.1988376620853416, -0.021531004074021105 -0.8758956747476562, -0.48250053570783535L -0.8758956747476562, -0.48250053570783535 L -0.8768643946497254, -0.480737801088671 L -0.8778295670639658, -0.4789731215718587 M -0.8778295670639658,-0.4789731215718587 Q -0.19884989871687653, -0.0214176978288504 -0.959690865608056, 0.2810577208839141L -0.959690865608056, 0.2810577208839141 L -0.9592847083068506, 0.28244087595219025 L -0.9588765575336514, 0.28382344408525184 \", \"type\": \"path\"}, {\"fillcolor\": \"#ca6f4c\", \"layer\": \"below\", \"line\": {\"color\": \"rgb(175,175,175)\", \"width\": 0.5}, \"path\": \"M -0.959690865608056,0.2810577208839141 Q -0.18989640142881195, -0.06276429498040675 -0.6031703061773956, -0.7976124257719828L -0.6031703061773956, -0.7976124257719828 L -0.6052913569551306, -0.796004003253386 L -0.6074081187113075, -0.7943899403464209 M -0.6074081187113075,-0.7943899403464209 Q -0.18994579511061438, -0.06261465419369898 -0.9607375390974102, 0.277458791479117L -0.9607375390974102, 0.277458791479117 L -0.9602158884714993, 0.27925874655396077 L -0.959690865608056, 0.2810577208839141 \", \"type\": \"path\"}, {\"fillcolor\": \"#ca6f4c\", \"layer\": \"below\", \"line\": {\"color\": \"rgb(175,175,175)\", \"width\": 0.5}, \"path\": \"M -0.9607375390974102,0.277458791479117 Q -0.16523346187961407, -0.11268497271277184 -0.09246511724795063, -0.9957159243942635L -0.09246511724795063, -0.9957159243942635 L -0.0942799618054889, -0.9955457241141441 L -0.09609449310570103, -0.9953722160050271 M -0.09609449310570103,-0.9953722160050271 Q -0.16522769063346862, -0.11269343480403281 -0.9617707163204254, 0.2738559643836442L -0.9617707163204254, 0.2738559643836442 L -0.961255815653774, 0.27565786198074876 L -0.9607375390974102, 0.277458791479117 \", \"type\": \"path\"}, {\"fillcolor\": \"#ca6f4c\", \"layer\": \"below\", \"line\": {\"color\": \"rgb(175,175,175)\", \"width\": 0.5}, \"path\": \"M -0.9693717970979674,0.24559788067297578 Q -0.15189742247408833, -0.13010446973770093 0.0937462291704747, -0.9955961252015382L 0.0937462291704747, -0.9955961252015382 L 0.08413919002674813, -0.9964540113330081 L 0.07452432331575466, -0.997219196182228 M 0.07452432331575466,-0.997219196182228 Q -0.15227954115861841, -0.12965701425114123 -0.9725771850802639, 0.23258034968876898L -0.9725771850802639, 0.23258034968876898 L -0.9709963060557947, 0.23909448681640824 L -0.9693717970979674, 0.24559788067297578 \", \"type\": \"path\"}, {\"fillcolor\": \"#ca6f4c\", \"layer\": \"below\", \"line\": {\"color\": \"rgb(175,175,175)\", \"width\": 0.5}, \"path\": \"M -0.9564279365843656,0.29196849508289874 Q -0.11225996934905476, -0.1655225038529483 0.6250296901172503, -0.7806009777549181L 0.6250296901172503, -0.7806009777549181 L 0.6247932233283398, -0.7807902587013898 L 0.6245566992185136, -0.7809794680151809 M 0.6245566992185136,-0.7809794680151809 Q -0.1122743129600772, -0.16551277488261334 -0.956554113772115, 0.29155484462729075L -0.956554113772115, 0.29155484462729075 L -0.9564910475394928, 0.29176167667602243 L -0.9564279365843656, 0.29196849508289874 \", \"type\": \"path\"}, {\"fillcolor\": \"#ca6f4c\", \"layer\": \"below\", \"line\": {\"color\": \"rgb(175,175,175)\", \"width\": 0.5}, \"path\": \"M -0.9574323435183266,0.2886577689669982 Q -0.07160925952132145, -0.18674076670831152 0.9049540416653744, -0.4255093212533701L 0.9049540416653744, -0.4255093212533701 L 0.9045747825412377, -0.4263149807249007 L 0.9041948061574425, -0.427120302160767 M 0.9041948061574425,-0.427120302160767 Q -0.07164094568882233, -0.18672861296761997 -0.9578474647369905, 0.2872772777247096L -0.9578474647369905, 0.2872772777247096 L -0.9576401528845, 0.28796759814838796 L -0.9574323435183266, 0.2886577689669982 \", \"type\": \"path\"}, {\"fillcolor\": \"#ca6f4c\", \"layer\": \"below\", \"line\": {\"color\": \"rgb(175,175,175)\", \"width\": 0.5}, \"path\": \"M -0.9566801120580526,0.29114113964294347 Q -0.05614455518824853, -0.19195777901068173 0.9627842244422361, -0.2702712288889848L 0.9627842244422361, -0.2702712288889848 L 0.9626893027387795, -0.27060913952104904 L 0.9625942624380414, -0.27094701681576616 M 0.9625942624380414,-0.27094701681576616 Q -0.05615658671370212, -0.19195425957416642 -0.9568478314402039, 0.29058944830839795L -0.9568478314402039, 0.29058944830839795 L -0.9567640115138105, 0.2908653060645101 L -0.9566801120580526, 0.29114113964294347 \", \"type\": \"path\"}, {\"fillcolor\": \"#ca6f4c\", \"layer\": \"below\", \"line\": {\"color\": \"rgb(175,175,175)\", \"width\": 0.5}, \"path\": \"M -0.9563437190809562,0.2922442317213552 Q -0.04049938282853963, -0.19585658015626484 0.9938190644291415, -0.11101201366152157L 0.9938190644291415, -0.11101201366152157 L 0.9938017106682823, -0.11116726079559495 L 0.9937843326558532, -0.11132250521687218 M 0.9937843326558532,-0.11132250521687218 Q -0.04050174456122102, -0.1958560917804131 -0.9564279365843656, 0.29196849508289874L -0.9564279365843656, 0.29196849508289874 L -0.9563858377699022, 0.29210636643723176 L -0.9563437190809562, 0.2922442317213552 \", \"type\": \"path\"}, {\"fillcolor\": \"#c45e3a\", \"layer\": \"below\", \"line\": {\"color\": \"rgb(175,175,175)\", \"width\": 0.5}, \"path\": \"M -0.9795674624871108,0.20111585327010592 Q -0.19981135214673726, 0.008684673470693412 -0.9933231198481934, -0.1153654175871243L -0.9933231198481934, -0.1153654175871243 L -0.9934075506033513, -0.1146361130021869 L -0.9934914458981997, -0.11390674662681063 M -0.9934914458981997,-0.11390674662681063 Q -0.1998106524719352, 0.008700756216533058 -0.9798295584067522, 0.19983502313765947L -0.9798295584067522, 0.19983502313765947 L -0.9796987197620468, 0.20047548103597726 L -0.9795674624871108, 0.20111585327010592 \", \"type\": \"path\"}, {\"fillcolor\": \"#c45e3a\", \"layer\": \"below\", \"line\": {\"color\": \"rgb(175,175,175)\", \"width\": 0.5}, \"path\": \"M -0.9818969656536133,0.18941580937246755 Q -0.19931781151439687, -0.01650484816989756 -0.9373668812253062, -0.3483436951947641L -0.9373668812253062, -0.3483436951947641 L -0.9384737927721081, -0.3453504600835714 L -0.9395711462358601, -0.3423537076782314 M -0.9395711462358601,-0.3423537076782314 Q -0.19932192762374276, -0.01645506512765781 -0.9829943324793334, 0.18363589603753844L -0.9829943324793334, 0.18363589603753844 L -0.9824498995975235, 0.18652665970529816 L -0.9818969656536133, 0.18941580937246755 \", \"type\": \"path\"}, {\"fillcolor\": \"#c45e3a\", \"layer\": \"below\", \"line\": {\"color\": \"rgb(175,175,175)\", \"width\": 0.5}, \"path\": \"M -0.9808611902047132,0.19470830888843307 Q -0.19743875957586898, -0.03190511271163624 -0.8696121239968059, -0.49373550996233184L -0.8696121239968059, -0.49373550996233184 L -0.8712459306654433, -0.4908467462445947 L -0.8728701411874102, -0.48795257620333404 M -0.8728701411874102,-0.48795257620333404 Q -0.19745857667867936, -0.03178223554173171 -0.9818969656536133, 0.18941580937246755L -0.9818969656536133, 0.18941580937246755 L -0.9813826456764335, 0.19206275736103479 L -0.9808611902047132, 0.19470830888843307 \", \"type\": \"path\"}, {\"fillcolor\": \"#c45e3a\", \"layer\": \"below\", \"line\": {\"color\": \"rgb(175,175,175)\", \"width\": 0.5}, \"path\": \"M -0.9872521377464853,0.1591641181767889 Q -0.18503366324099194, -0.07591141855886498 -0.591015673841049, -0.8066600729391599L -0.591015673841049, -0.8066600729391599 L -0.5943965436673321, -0.8041720890930805 L -0.5977669400218059, -0.8016699354578334 M -0.5977669400218059,-0.8016699354578334 Q -0.18509793344503706, -0.07575457104608697 -0.9882964131502759, 0.1525457300428269L -0.9882964131502759, 0.1525457300428269 L -0.98777981858456, 0.15585579872771385 L -0.9872521377464853, 0.1591641181767889 \", \"type\": \"path\"}, {\"fillcolor\": \"#c45e3a\", \"layer\": \"below\", \"line\": {\"color\": \"rgb(175,175,175)\", \"width\": 0.5}, \"path\": \"M -0.9794357866380312,0.20175613956641072 Q -0.161710163243191, -0.11768527139731853 -0.10920507660750306, -0.9940192408817595L -0.10920507660750306, -0.9940192408817595 L -0.10948382714788366, -0.9939885771944527 L -0.10976256907822249, -0.9939578353377715 M -0.10976256907822249,-0.9939578353377715 Q -0.16170470119551156, -0.11769277637676123 -0.9795674624871108, 0.20111585327010592L -0.9795674624871108, 0.20111585327010592 L -0.9795016768808266, 0.2014360071775868 L -0.9794357866380312, 0.20175613956641072 \", \"type\": \"path\"}, {\"fillcolor\": \"#c45e3a\", \"layer\": \"below\", \"line\": {\"color\": \"rgb(175,175,175)\", \"width\": 0.5}, \"path\": \"M -0.9861906191471178,0.1656141983835458 Q -0.15351622243741678, -0.12819036410177473 -0.012939886871991392, -0.9999162761590292L -0.012939886871991392, -0.9999162761590292 L -0.017087934182474125, -0.9998539905933143 L -0.021235687406603303, -0.9997744973644652 M -0.021235687406603303,-0.9997744973644652 Q -0.15362898190363322, -0.12805520652926666 -0.9872521377464853, 0.1591641181767889L -0.9872521377464853, 0.1591641181767889 L -0.9867266488585502, 0.16239002565544303 L -0.9861906191471178, 0.1656141983835458 \", \"type\": \"path\"}, {\"fillcolor\": \"#c45e3a\", \"layer\": \"below\", \"line\": {\"color\": \"rgb(175,175,175)\", \"width\": 0.5}, \"path\": \"M -0.9851431433257403,0.17173522398820804 Q -0.09973925959192481, -0.17335535785217207 0.6436048671725985, -0.7653579391054501L 0.6436048671725985, -0.7653579391054501 L 0.64066373666192, -0.7678215785756388 L 0.6377131757295951, -0.7702739158902335 M 0.6377131757295951,-0.7702739158902335 Q -0.09986606485737506, -0.1732823392325443 -0.9861906191471178, 0.1656141983835458L -0.9861906191471178, 0.1656141983835458 L -0.9856716326977062, 0.16867552429157612 L -0.9851431433257403, 0.17173522398820804 \", \"type\": \"path\"}, {\"fillcolor\": \"#c45e3a\", \"layer\": \"below\", \"line\": {\"color\": \"rgb(175,175,175)\", \"width\": 0.5}, \"path\": \"M -0.9794028022801411,0.20191619768063904 Q -0.06414502662270989, -0.18943446243905 0.9005880246825713, -0.4346736819711362L 0.9005880246825713, -0.4346736819711362 L 0.9005493150201263, -0.4347538742976093 L 0.9005105982170031, -0.4348340631768115 M 0.9005105982170031,-0.4348340631768115 Q -0.06414641623629114, -0.1894339918917418 -0.9794357866380312, 0.20175613956641072L -0.9794357866380312, 0.20175613956641072 L -0.9794192977287022, 0.2018361692973188 L -0.9794028022801411, 0.20191619768063904 \", \"type\": \"path\"}, {\"fillcolor\": \"#c45e3a\", \"layer\": \"below\", \"line\": {\"color\": \"rgb(175,175,175)\", \"width\": 0.5}, \"path\": \"M -0.9840576762865121,0.17784962676820631 Q -0.04176151321608786, -0.19559134953750518 0.9708821503523725, -0.23955761337756135L 0.9708821503523725, -0.23955761337756135 L 0.9700779733091077, -0.24279358661318468 L 0.9692630107221245, -0.24602686041544886 M 0.9692630107221245,-0.24602686041544886 Q -0.04180637963000348, -0.19558176454422338 -0.9851431433257403, 0.17173522398820804L -0.9851431433257403, 0.17173522398820804 L -0.9846051561264193, 0.17479326797468328 L -0.9840576762865121, 0.17784962676820631 \", \"type\": \"path\"}, {\"fillcolor\": \"#c45e3a\", \"layer\": \"below\", \"line\": {\"color\": \"rgb(175,175,175)\", \"width\": 0.5}, \"path\": \"M -0.9803809510071958,0.19711212774009174 Q -0.02996163195697464, -0.19774301659091478 0.9947681274555714, -0.10215856595771128L 0.9947681274555714, -0.10215856595771128 L 0.9946477552284767, -0.10332397117296806 L 0.994526017689399, -0.10448923455966773 M 0.994526017689399,-0.10448923455966773 Q -0.029950942809127835, -0.19774463589398414 -0.9808611902047132, 0.19470830888843307L -0.9808611902047132, 0.19470830888843307 L -0.9806218071726921, 0.19591036546687257 L -0.9803809510071958, 0.19711212774009174 \", \"type\": \"path\"}, {\"fillcolor\": \"#bf4d28\", \"layer\": \"below\", \"line\": {\"color\": \"rgb(175,175,175)\", \"width\": 0.5}, \"path\": \"M -0.9997777019356857,-0.02108427642105054 Q -0.1981733660191797, -0.02696881533601793 -0.9690541826911268, -0.2468481132373352L -0.9690541826911268, -0.2468481132373352 L -0.9725955260625236, -0.23250364015034894 L -0.9759245469471619, -0.21810841035131306 M -0.9759245469471619,-0.21810841035131306 Q -0.1981782084020687, -0.02693320839681426 -0.9987363749238254, -0.05025587929800988L -0.9987363749238254, -0.05025587929800988 L -0.99936348465161, -0.03567387762763351 L -0.9997777019356857, -0.02108427642105054 \", \"type\": \"path\"}, {\"fillcolor\": \"#bf4d28\", \"layer\": \"below\", \"line\": {\"color\": \"rgb(175,175,175)\", \"width\": 0.5}, \"path\": \"M -0.9971745040302774,0.07511996080916425 Q -0.19853386206850904, -0.02417241428079187 -0.9500165758670561, -0.312199464409909L -0.9500165758670561, -0.312199464409909 L -0.9501548628080886, -0.3117783454349298 L -0.9502929630774503, -0.3113571652065835 M -0.9502929630774503,-0.3113571652065835 Q -0.19853361944789538, -0.024174406898996623 -0.9972421949789481, 0.07421593193896993L -0.9972421949789481, 0.07421593193896993 L -0.9972084519491214, 0.07466795404480198 L -0.9971745040302774, 0.07511996080916425 \", \"type\": \"path\"}, {\"fillcolor\": \"#bf4d28\", \"layer\": \"below\", \"line\": {\"color\": \"rgb(175,175,175)\", \"width\": 0.5}, \"path\": \"M -0.9974143556565719,0.07186517327736454 Q -0.19564562154283618, -0.04150651480330905 -0.8823182423966509, -0.4706532897304393L -0.8823182423966509, -0.4706532897304393 L -0.8827438792788999, -0.4698544919394078 L -0.8831687929779337, -0.4690553092225902 M -0.8831687929779337,-0.4690553092225902 Q -0.1956493238816348, -0.04148905957790761 -0.9975302977635154, 0.07023749030135085L -0.9975302977635154, 0.07023749030135085 L -0.9974726587181804, 0.07105135543875615 L -0.9974143556565719, 0.07186517327736454 \", \"type\": \"path\"}, {\"fillcolor\": \"#bf4d28\", \"layer\": \"below\", \"line\": {\"color\": \"rgb(175,175,175)\", \"width\": 0.5}, \"path\": \"M -0.9993510828325819,0.0360196230039423 Q -0.17914409726594938, -0.08892352003136222 -0.5755481716854094, -0.8177678778660743L -0.5755481716854094, -0.8177678778660743 L -0.5797268482631964, -0.8148108868951254 L -0.5838903330215064, -0.8118325436960718 M -0.5838903330215064,-0.8118325436960718 Q -0.1791962025593149, -0.08881847211206115 -0.9996365521430998, 0.026958553734499093L -0.9996365521430998, 0.026958553734499093 L -0.9995040855046534, 0.031489411863456614 L -0.9993510828325819, 0.0360196230039423 \", \"type\": \"path\"}, {\"fillcolor\": \"#bf4d28\", \"layer\": \"below\", \"line\": {\"color\": \"rgb(175,175,175)\", \"width\": 0.5}, \"path\": \"M -0.9970783599074731,0.07638549734225517 Q -0.15397180559733992, -0.1276427948655739 -0.10976256907822249, -0.9939578353377715L -0.10976256907822249, -0.9939578353377715 L -0.10997161986245071, -0.9939347276480627 L -0.11018066578195285, -0.9939115759904629 M -0.11018066578195285,-0.9939115759904629 Q -0.15396393691075416, -0.12765228603883802 -0.9971197612083956, 0.07584313949008184L -0.9971197612083956, 0.07584313949008184 L -0.9970990974339137, 0.07611432123112455 L -0.9970783599074731, 0.07638549734225517 \", \"type\": \"path\"}, {\"fillcolor\": \"#bf4d28\", \"layer\": \"below\", \"line\": {\"color\": \"rgb(175,175,175)\", \"width\": 0.5}, \"path\": \"M -0.9989997629627839,0.044715473835144376 Q -0.1434457695490787, -0.13936753997424442 0.015891282388333212, -0.999873725599415L 0.015891282388333212, -0.999873725599415 L 0.010913513190783163, -0.9999404458415684 L 0.005935473527588857, -0.9999823849218562 M 0.005935473527588857,-0.9999823849218562 Q -0.14353308793574726, -0.13927761007293687 -0.9993510828325819, 0.0360196230039423L -0.9993510828325819, 0.0360196230039423 L -0.9991848828811328, 0.040367930611029425 L -0.9989997629627839, 0.044715473835144376 \", \"type\": \"path\"}, {\"fillcolor\": \"#bf4d28\", \"layer\": \"below\", \"line\": {\"color\": \"rgb(175,175,175)\", \"width\": 0.5}, \"path\": \"M -0.9987363749238254,-0.05025587929800988 Q -0.054147026104568334, -0.19253077562829066 0.8261307952496486, -0.5634784016625509L 0.8261307952496486, -0.5634784016625509 L 0.8159880594905508, -0.5780687560912157 L 0.805587672620388, -0.5924765832689647 M 0.805587672620388,-0.5924765832689647 Q -0.05449623378350356, -0.19243222314210717 -0.9966244706618085, -0.08209545954600717L -0.9966244706618085, -0.08209545954600717 L -0.997807429187439, -0.06618409369594733 L -0.9987363749238254, -0.05025587929800988 \", \"type\": \"path\"}, {\"fillcolor\": \"#bf4d28\", \"layer\": \"below\", \"line\": {\"color\": \"rgb(175,175,175)\", \"width\": 0.5}, \"path\": \"M -0.9975302977635154,0.07023749030135085 Q -0.0506039808430265, -0.19349221463107658 0.9041948061574425, -0.427120302160767L 0.9041948061574425, -0.427120302160767 L 0.9038141128152815, -0.4279252849224099 L 0.9034327028166157, -0.4287299283715385 M 0.9034327028166157,-0.4287299283715385 Q -0.05060086630824885, -0.1934930291479637 -0.9976560069960506, 0.06842873449579705L -0.9976560069960506, 0.06842873449579705 L -0.9975935623160486, 0.06933314088930398 L -0.9975302977635154, 0.07023749030135085 \", \"type\": \"path\"}, {\"fillcolor\": \"#bf4d28\", \"layer\": \"below\", \"line\": {\"color\": \"rgb(175,175,175)\", \"width\": 0.5}, \"path\": \"M -0.9999996966545127,-0.0007789036414128748 Q -0.01630304766121061, -0.19933441909754646 0.9865836700957937, -0.16325642988964975L 0.9865836700957937, -0.16325642988964975 L 0.984931615437613, -0.1729442479860315 L 0.9831844330267242, -0.18261536259011393 M 0.9831844330267242,-0.18261536259011393 Q -0.01623811207377334, -0.1993397193644046 -0.9997777019356857, -0.02108427642105054L -0.9997777019356857, -0.02108427642105054 L -0.9999402422239917, -0.010932153540118528 L -0.9999996966545127, -0.0007789036414128748 \", \"type\": \"path\"}, {\"fillcolor\": \"#bf4d28\", \"layer\": \"below\", \"line\": {\"color\": \"rgb(175,175,175)\", \"width\": 0.5}, \"path\": \"M -0.9996365521430998,0.026958553734499093 Q -0.008537682368989045, -0.19981768685420784 0.9982928133507494, -0.0584076948033891L 0.9982928133507494, -0.0584076948033891 L 0.9980081287924054, -0.0630854568365919 L 0.9977015254776016, -0.06776183335526453 M 0.9977015254776016,-0.06776183335526453 Q -0.008387229935014954, -0.19982405854655538 -0.999870669655424, 0.016082411598201656L -0.999870669655424, 0.016082411598201656 L -0.9997684007424193, 0.021520801029354858 L -0.9996365521430998, 0.026958553734499093 \", \"type\": \"path\"}, {\"fillcolor\": \"#af4624\", \"layer\": \"below\", \"line\": {\"color\": \"rgb(175,175,175)\", \"width\": 0.5}, \"path\": \"M -0.9928272540280997,-0.1195577001243464 Q -0.19501538514610295, -0.04437341046524512 -0.9468130472382666, -0.3217841723568577L -0.9468130472382666, -0.3217841723568577 L -0.9472400959155256, -0.3205248831057362 L -0.9476654697018005, -0.31926502710892984 M -0.9476654697018005,-0.31926502710892984 Q -0.19501330604727884, -0.044382546845695516 -0.9924943304093184, -0.12229065420284002L -0.9924943304093184, -0.12229065420284002 L -0.9926617327507764, -0.12092429173754156 L -0.9928272540280997, -0.1195577001243464 \", \"type\": \"path\"}, {\"fillcolor\": \"#af4624\", \"layer\": \"below\", \"line\": {\"color\": \"rgb(175,175,175)\", \"width\": 0.5}, \"path\": \"M -0.9924943304093184,-0.12229065420284002 Q -0.19050746590969164, -0.06088436115019753 -0.879462207638324, -0.4759687230647889L -0.879462207638324, -0.4759687230647889 L -0.880226952250745, -0.4745529607234209 L -0.8809894177642875, -0.4731359696613033 M -0.8809894177642875,-0.4731359696613033 Q -0.19051603371332748, -0.06085754594248991 -0.9921309199452637, -0.12520478300993426L -0.9921309199452637, -0.12520478300993426 L -0.992313694918559, -0.12374785200995177 L -0.9924943304093184, -0.12229065420284002 \", \"type\": \"path\"}, {\"fillcolor\": \"#af4624\", \"layer\": \"below\", \"line\": {\"color\": \"rgb(175,175,175)\", \"width\": 0.5}, \"path\": \"M -0.9890517300368269,-0.14756922209986667 Q -0.17074520473958352, -0.10414449125343937 -0.5838903330215064, -0.8118325436960718L -0.5838903330215064, -0.8118325436960718 L -0.5874586962960558, -0.8092541505275944 L -0.591015673841049, -0.8066600729391599 M -0.591015673841049,-0.8066600729391599 Q -0.1707927011069376, -0.10406658084417053 -0.987856264930665, -0.1553705243514218L -0.987856264930665, -0.1553705243514218 L -0.9884616938560655, -0.1514710526113746 L -0.9890517300368269, -0.14756922209986667 \", \"type\": \"path\"}, {\"fillcolor\": \"#af4624\", \"layer\": \"below\", \"line\": {\"color\": \"rgb(175,175,175)\", \"width\": 0.5}, \"path\": \"M -0.9935540159462942,-0.11335968153179916 Q -0.14119496756203806, -0.14164738308615174 -0.11018066578195285, -0.9939115759904629L -0.11018066578195285, -0.9939115759904629 L -0.11038970682748149, -0.993888380365996 L -0.11059874298978944, -0.9938651407756882 M -0.11059874298978944,-0.9938651407756882 Q -0.14118576134411667, -0.1416565593034157 -0.9934914458981997, -0.11390674662681063L -0.9934914458981997, -0.11390674662681063 L -0.9935227685761681, -0.1136332183859364 L -0.9935540159462942, -0.11335968153179916 \", \"type\": \"path\"}, {\"fillcolor\": \"#af4624\", \"layer\": \"below\", \"line\": {\"color\": \"rgb(175,175,175)\", \"width\": 0.5}, \"path\": \"M -0.987856264930665,-0.1553705243514218 Q -0.13026110660510437, -0.1517631183984226 -0.0038134994136946048, -0.9999927285846741L -0.0038134994136946048, -0.9999927285846741 L -0.008376780363164577, -0.9999649141598655 L -0.012939886871991392, -0.9999162761590292 M -0.012939886871991392,-0.9999162761590292 Q -0.1303408255855156, -0.1516946577361451 -0.9865693027636958, -0.16334323017607788L -0.9865693027636958, -0.16334323017607788 L -0.9872208322360511, -0.1593581764427502 L -0.987856264930665, -0.1553705243514218 \", \"type\": \"path\"}, {\"fillcolor\": \"#af4624\", \"layer\": \"below\", \"line\": {\"color\": \"rgb(175,175,175)\", \"width\": 0.5}, \"path\": \"M -0.9690541826911268,-0.2468481132373352 Q -0.030894963560706503, -0.19759934520787922 0.8474579099182318, -0.5308625913708953L 0.8474579099182318, -0.5308625913708953 L 0.8369532461772408, -0.5472743952656465 L 0.8261307952496486, -0.5634784016625509 M 0.8261307952496486,-0.5634784016625509 Q -0.031245474526349116, -0.19754422371110544 -0.9597037220574304, -0.28101381793270325L -0.9597037220574304, -0.28101381793270325 L -0.9645302419451884, -0.26397237047304056 L -0.9690541826911268, -0.2468481132373352 \", \"type\": \"path\"}, {\"fillcolor\": \"#af4624\", \"layer\": \"below\", \"line\": {\"color\": \"rgb(175,175,175)\", \"width\": 0.5}, \"path\": \"M -0.9933231198481934,-0.1153654175871243 Q -0.03260024596429699, -0.1973251731611234 0.9034327028166157, -0.4287299283715385L 0.9034327028166157, -0.4287299283715385 L 0.9030505764638747, -0.42953423187013134 L 0.9026677340600556, -0.4303381947804363 M 0.9026677340600556,-0.4303381947804363 Q -0.03259486760872627, -0.19732606164815028 -0.993109700620811, -0.11718840613662732L -0.993109700620811, -0.11718840613662732 L -0.9932168284825443, -0.11627696082662309 L -0.9933231198481934, -0.1153654175871243 \", \"type\": \"path\"}, {\"fillcolor\": \"#af4624\", \"layer\": \"below\", \"line\": {\"color\": \"rgb(175,175,175)\", \"width\": 0.5}, \"path\": \"M -0.9830032580075679,-0.18358811166986522 Q 9.894772153633604e-05, -0.1999999755233695 0.9831844330267242, -0.18261536259011393L 0.9831844330267242, -0.18261536259011393 L 0.9816782021010086, -0.19054633956004313 L 0.9801079960635735, -0.19846489879131313 M 0.9801079960635735,-0.19846489879131313 Q 0.00017299915712700077, -0.19999992517821508 -0.9797631869215999, -0.20016017973920297L -0.9797631869215999, -0.20016017973920297 L -0.9814182022435669, -0.19188098474055532 L -0.9830032580075679, -0.18358811166986522 \", \"type\": \"path\"}, {\"fillcolor\": \"#af4624\", \"layer\": \"below\", \"line\": {\"color\": \"rgb(175,175,175)\", \"width\": 0.5}, \"path\": \"M -0.9850919625774435,-0.1720285594467403 Q 0.012436501664282451, -0.19961295906417076 0.9988268548906513, -0.04842431155163518L 0.9988268548906513, -0.04842431155163518 L 0.9985723105035751, -0.053416670577185216 L 0.9982928133507494, -0.0584076948033891 M 0.9982928133507494,-0.0584076948033891 Q 0.01261106945086624, -0.19960200632084196 -0.9830032580075679, -0.18358811166986522L -0.9830032580075679, -0.18358811166986522 L -0.9840645838227748, -0.1778114025188178 L -0.9850919625774435, -0.1720285594467403 \", \"type\": \"path\"}, {\"fillcolor\": \"#9f4021\", \"layer\": \"below\", \"line\": {\"color\": \"rgb(175,175,175)\", \"width\": 0.5}, \"path\": \"M -0.9234787109801116,-0.38364967140154255 Q -0.17568817403299863, -0.09557021243541725 -0.8238259954314942, -0.5668427729549947L -0.8238259954314942, -0.5668427729549947 L -0.8291477463548884, -0.5590295293762303 L -0.8343953981615903, -0.5511663265537557 M -0.8343953981615903,-0.5511663265537557 Q -0.17579515197290285, -0.09537329051062457 -0.9169568771044462, -0.3989863224859489L -0.9169568771044462, -0.3989863224859489 L -0.9202497441937483, -0.3913315835852517 L -0.9234787109801116, -0.38364967140154255 \", \"type\": \"path\"}, {\"fillcolor\": \"#9f4021\", \"layer\": \"below\", \"line\": {\"color\": \"rgb(175,175,175)\", \"width\": 0.5}, \"path\": \"M -0.9332266140767876,-0.3592883059310093 Q -0.1552927907090311, -0.12603233376320963 -0.5436490476820774, -0.839312643151746L -0.5436490476820774, -0.839312643151746 L -0.5499922424805288, -0.8351697631088181 L -0.5563038679578419, -0.8309789446761837 M -0.5563038679578419,-0.8309789446761837 Q -0.1554207934407742, -0.12587444921921287 -0.9284325689330155, -0.3715009622389172L -0.9284325689330155, -0.3715009622389172 L -0.9308496203279591, -0.3654024963451869 L -0.9332266140767876, -0.3592883059310093 \", \"type\": \"path\"}, {\"fillcolor\": \"#9f4021\", \"layer\": \"below\", \"line\": {\"color\": \"rgb(175,175,175)\", \"width\": 0.5}, \"path\": \"M -0.9468130472382666,-0.3217841723568577 Q -0.12461336890561135, -0.15643371851999818 -0.10195461226187973, -0.9947890515272722L -0.10195461226187973, -0.9947890515272722 L -0.10320989897664436, -0.9946595984321626 L -0.10446502132935175, -0.9945285613388175 M -0.10446502132935175,-0.9945285613388175 Q -0.12456115516811282, -0.15647529716599143 -0.9457813013823417, -0.324804140914989L -0.9457813013823417, -0.324804140914989 L -0.9462983790328445, -0.3232945682188472 L -0.9468130472382666, -0.3217841723568577 \", \"type\": \"path\"}, {\"fillcolor\": \"#9f4021\", \"layer\": \"below\", \"line\": {\"color\": \"rgb(175,175,175)\", \"width\": 0.5}, \"path\": \"M -0.9082612917315082,-0.41840342486912335 Q -0.09737487431686498, -0.17469440131777192 0.12179089375897313, -0.9925557808996885L 0.12179089375897313, -0.9925557808996885 L 0.10777928262678511, -0.99417484691399 L 0.0937462291704747, -0.9955961252015382 M 0.0937462291704747,-0.9955961252015382 Q -0.09773257445689851, -0.1744945382813651 -0.8979095246815334, -0.4401800603005351L -0.8979095246815334, -0.4401800603005351 L -0.9031510449411088, -0.4293229437402377 L -0.9082612917315082, -0.41840342486912335 \", \"type\": \"path\"}, {\"fillcolor\": \"#9f4021\", \"layer\": \"below\", \"line\": {\"color\": \"rgb(175,175,175)\", \"width\": 0.5}, \"path\": \"M -0.9433952720840547,-0.3316705603599036 Q -0.053461616839946303, -0.19272222374406844 0.6377131757295951, -0.7702739158902335L 0.6377131757295951, -0.7702739158902335 L 0.635299184716607, -0.7722661108053457 L 0.6328789701900717, -0.7742507404524418 M 0.6328789701900717,-0.7742507404524418 Q -0.053535190617587707, -0.1927017990718783 -0.9415580994308486, -0.3368506277212026L -0.9415580994308486, -0.3368506277212026 L -0.9424802446050619, -0.3342618562282913 L -0.9433952720840547, -0.3316705603599036 \", \"type\": \"path\"}, {\"fillcolor\": \"#9f4021\", \"layer\": \"below\", \"line\": {\"color\": \"rgb(175,175,175)\", \"width\": 0.5}, \"path\": \"M -0.9500165758670561,-0.312199464409909 Q -0.012851810219949035, -0.1995866502902196 0.9021305523069943, -0.43146316945282526L 0.9021305523069943, -0.43146316945282526 L 0.9018999023140122, -0.4319450962865249 L 0.9016689948710944, -0.4324268998202475 M 0.9016689948710944,-0.4324268998202475 Q -0.012852286466987814, -0.1995866196230862 -0.9496839257508145, -0.31320989954106077L -0.9496839257508145, -0.31320989954106077 L -0.9498503851694676, -0.3127047262089495 L -0.9500165758670561, -0.312199464409909 \", \"type\": \"path\"}, {\"fillcolor\": \"#9f4021\", \"layer\": \"below\", \"line\": {\"color\": \"rgb(175,175,175)\", \"width\": 0.5}, \"path\": \"M -0.949071276252953,-0.31506144256571783 Q 0.0053509077030267456, -0.19992840665286585 0.9645651878592538, -0.26384464817396314L 0.9645651878592538, -0.26384464817396314 L 0.9642868329699075, -0.26486015887797415 L 0.9640074089338663, -0.26587537592002297 M 0.9640074089338663,-0.26587537592002297 Q 0.005353069847816943, -0.19992834877326526 -0.9483988144183724, -0.31707994072445794L -0.9483988144183724, -0.31707994072445794 L -0.9487355821469785, -0.3160708704835576 L -0.949071276252953, -0.31506144256571783 \", \"type\": \"path\"}, {\"fillcolor\": \"#9f4021\", \"layer\": \"below\", \"line\": {\"color\": \"rgb(175,175,175)\", \"width\": 0.5}, \"path\": \"M -0.9446236201719371,-0.328155780405075 Q 0.023475157248016056, -0.19861751431377073 0.9950979048324291, -0.0988946904444816L 0.9950979048324291, -0.0988946904444816 L 0.9949343545351316, -0.10052676343024801 L 0.9947681274555714, -0.10215856595771128 M 0.9947681274555714,-0.10215856595771128 Q 0.023519125375637325, -0.1986123126635533 -0.9433952720840547, -0.3316705603599036L -0.9433952720840547, -0.3316705603599036 L -0.9440110819256405, -0.32991374206234825 L -0.9446236201719371, -0.328155780405075 \", \"type\": \"path\"}, {\"fillcolor\": \"#8f391e\", \"layer\": \"below\", \"line\": {\"color\": \"rgb(175,175,175)\", \"width\": 0.5}, \"path\": \"M -0.8004834873634005,-0.599354808488702 Q -0.11761618326663237, -0.16176041986156547 -0.32334912947395156, -0.946279736900478L -0.32334912947395156, -0.946279736900478 L -0.35780795509606883, -0.9337951955701901 L -0.39178614643929305, -0.9200563110257158 M -0.39178614643929305,-0.9200563110257158 Q -0.11772114792751354, -0.16168404785453783 -0.7552883865317765, -0.6553925946867464L -0.7552883865317765, -0.6553925946867464 L -0.7783903835938122, -0.6277805434454607 L -0.8004834873634005, -0.599354808488702 \", \"type\": \"path\"}, {\"fillcolor\": \"#8f391e\", \"layer\": \"below\", \"line\": {\"color\": \"rgb(175,175,175)\", \"width\": 0.5}, \"path\": \"M -0.8696121239968059,-0.49373550996233184 Q -0.10725290973360364, -0.16880999186563417 -0.07751643185705626, -0.9969910745799836L -0.07751643185705626, -0.9969910745799836 L -0.0803818870909484, -0.996764140721213 L -0.08324667818294845, -0.9965289712655145 M -0.08324667818294845,-0.9965289712655145 Q -0.10704199893985927, -0.16894380859611036 -0.8655109306466334, -0.500890036765754L -0.8655109306466334, -0.500890036765754 L -0.8675689024522721, -0.49731700101420206 L -0.8696121239968059, -0.49373550996233184 \", \"type\": \"path\"}, {\"fillcolor\": \"#8f391e\", \"layer\": \"below\", \"line\": {\"color\": \"rgb(175,175,175)\", \"width\": 0.5}, \"path\": \"M -0.7552883865317765,-0.6553925946867464 Q -0.044301007738249625, -0.195031845382685 0.398039602582498, -0.9173682329228362L 0.398039602582498, -0.9173682329228362 L 0.3616822471787974, -0.9323014276915462 L 0.32476614420749855, -0.9457943495161061 M 0.32476614420749855,-0.9457943495161061 Q -0.044533364431675125, -0.1949789205334659 -0.7031818002938438, -0.7110100953822729L -0.7031818002938438, -0.7110100953822729 L -0.7297651321217627, -0.6836979244807652 L -0.7552883865317765, -0.6553925946867464 \", \"type\": \"path\"}, {\"fillcolor\": \"#8f391e\", \"layer\": \"below\", \"line\": {\"color\": \"rgb(175,175,175)\", \"width\": 0.5}, \"path\": \"M -0.8655109306466334,-0.500890036765754 Q -0.03344871104643917, -0.19718312232372176 0.6519120001966745, -0.7582946287555854L 0.6519120001966745, -0.7582946287555854 L 0.6477680611128094, -0.7618376067129737 L 0.6436048671725985, -0.7653579391054501 M 0.6436048671725985,-0.7653579391054501 Q -0.03345291799864712, -0.19718240864077047 -0.8600195900089015, -0.5102610163444989L -0.8600195900089015, -0.5102610163444989 L -0.862777983170066, -0.5055829820682193 L -0.8655109306466334, -0.500890036765754 \", \"type\": \"path\"}, {\"fillcolor\": \"#8f391e\", \"layer\": \"below\", \"line\": {\"color\": \"rgb(175,175,175)\", \"width\": 0.5}, \"path\": \"M -0.8758956747476562,-0.48250053570783535 Q 0.007429495764089024, -0.19986195884332614 0.9093009310408064, -0.41613917961220925L 0.9093009310408064, -0.41613917961220925 L 0.9081487425166133, -0.4186476579004045 L 0.9069896338974422, -0.4211529460927274 M 0.9069896338974422,-0.4211529460927274 Q 0.007500886858034669, -0.19985929224417603 -0.8728701411874102, -0.48795257620333404L -0.8728701411874102, -0.48795257620333404 L -0.8743871573463042, -0.485228914088855 L -0.8758956747476562, -0.48250053570783535 \", \"type\": \"path\"}, {\"fillcolor\": \"#8f391e\", \"layer\": \"below\", \"line\": {\"color\": \"rgb(175,175,175)\", \"width\": 0.5}, \"path\": \"M -0.8836400707089727,-0.4681668777662959 Q 0.021173888232033266, -0.19887600774637793 0.9624038260915697, -0.2716226712266625L 0.9624038260915697, -0.2716226712266625 L 0.962356142899963, -0.2717915639285112 L 0.9623084300692968, -0.27196044825960525 M 0.9623084300692968,-0.27196044825960525 Q 0.021178988055522617, -0.1988754647133327 -0.8834516668369072, -0.4685223072203609L -0.8834516668369072, -0.4685223072203609 L -0.8835458866455399, -0.4683446019671272 L -0.8836400707089727, -0.4681668777662959 \", \"type\": \"path\"}, {\"fillcolor\": \"#8f391e\", \"layer\": \"below\", \"line\": {\"color\": \"rgb(175,175,175)\", \"width\": 0.5}, \"path\": \"M -0.8834516668369072,-0.4685223072203609 Q 0.037492573744868675, -0.19645433798719128 0.9939054694450884, -0.11023573743182584L 0.9939054694450884, -0.11023573743182584 L 0.9938796116049273, -0.11046862738369978 L 0.993853699194457, -0.11070151127014376 M 0.993853699194457,-0.11070151127014376 Q 0.03750581194576423, -0.1964518110639069 -0.8831687929779337, -0.4690553092225902L -0.8831687929779337, -0.4690553092225902 L -0.8833102701100467, -0.46878882955774065 L -0.8834516668369072, -0.4685223072203609 \", \"type\": \"path\"}, {\"fillcolor\": \"#f0f3e7\", \"layer\": \"below\", \"line\": {\"color\": \"rgb(175,175,175)\", \"width\": 0.5}, \"path\": \"M -0.5663021482235479,-0.8241977171270222 Q -0.06531020855429806, -0.18903591367407968 -0.0632499901651619, -0.9979977147990404L -0.0632499901651619, -0.9979977147990404 L -0.06737752761601155, -0.9977275523770773 L -0.07150391226747185, -0.9974403192825352 M -0.07150391226747185,-0.9974403192825352 Q -0.06495013457624796, -0.18915993238137743 -0.5563038679578419, -0.8309789446761837L -0.5563038679578419, -0.8309789446761837 L -0.5613132486886722, -0.8276034296972004 L -0.5663021482235479, -0.8241977171270222 \", \"type\": \"path\"}, {\"fillcolor\": \"#f0f3e7\", \"layer\": \"below\", \"line\": {\"color\": \"rgb(175,175,175)\", \"width\": 0.5}, \"path\": \"M -0.32334912947395156,-0.946279736900478 Q 0.017406312015103505, -0.19924111097369657 0.4825381297575364, -0.8758749644384745L 0.4825381297575364, -0.8758749644384745 L 0.44077739110083464, -0.8976164501023485 L 0.398039602582498, -0.9173682329228362 M 0.398039602582498,-0.9173682329228362 Q 0.017285918451659357, -0.19925159227289146 -0.23411070277274654, -0.9722099458693326L -0.23411070277274654, -0.9722099458693326 L -0.27903128870508687, -0.9602820106216603 L -0.32334912947395156, -0.946279736900478 \", \"type\": \"path\"}, {\"fillcolor\": \"#f0f3e7\", \"layer\": \"below\", \"line\": {\"color\": \"rgb(175,175,175)\", \"width\": 0.5}, \"path\": \"M -0.4900271420305955,-0.8717071756463444 Q 0.035262371373197404, -0.19686687168017558 0.7621305453579096, -0.647423379121001L 0.7621305453579096, -0.647423379121001 L 0.7521054750523377, -0.6590427561215565 L 0.7419032749148318, -0.6705069206731931 M 0.7419032749148318,-0.6705069206731931 Q 0.0353047985853386, -0.19685926749037921 -0.4626630650727373, -0.8865342002525904L -0.4626630650727373, -0.8865342002525904 L -0.4764027894988819, -0.8792271504893852 L -0.4900271420305955, -0.8717071756463444 \", \"type\": \"path\"}, {\"fillcolor\": \"#f0f3e7\", \"layer\": \"below\", \"line\": {\"color\": \"rgb(175,175,175)\", \"width\": 0.5}, \"path\": \"M -0.5436490476820774,-0.839312643151746 Q 0.05983020376773804, -0.19084115572148203 0.9255116183333711, -0.37871921568616534L 0.9255116183333711, -0.37871921568616534 L 0.9227559600451709, -0.38538479238433226 L 0.9199522967020084, -0.39203031999157906 M 0.9199522967020084,-0.39203031999157906 Q 0.06003631371763538, -0.19077641634960457 -0.5296541672659686, -0.8482136895251063L -0.5296541672659686, -0.8482136895251063 L -0.5366700615472114, -0.8437921811909094 L -0.5436490476820774, -0.839312643151746 \", \"type\": \"path\"}, {\"fillcolor\": \"#f0f3e7\", \"layer\": \"below\", \"line\": {\"color\": \"rgb(175,175,175)\", \"width\": 0.5}, \"path\": \"M -0.6114667043511255,-0.7912701621254103 Q 0.0642526007736193, -0.18939800234909 0.9667086102178662, -0.2558797821842155L 0.9667086102178662, -0.2558797821842155 L 0.9661449649433559, -0.2579998192142808 L 0.9655766703348354, -0.26011861468394093 M 0.9655766703348354,-0.26011861468394093 Q 0.06432189058145278, -0.1893744818924335 -0.6074081187113075, -0.7943899403464209L -0.6074081187113075, -0.7943899403464209 L -0.6094394078396198, -0.7928326482758474 L -0.6114667043511255, -0.7912701621254103 \", \"type\": \"path\"}, {\"fillcolor\": \"#f0f3e7\", \"layer\": \"below\", \"line\": {\"color\": \"rgb(175,175,175)\", \"width\": 0.5}, \"path\": \"M -0.6031703061773956,-0.7976124257719828 Q 0.08144229689921678, -0.18266677934364484 0.9964295761605437, -0.08442807443332634L 0.9964295761605437, -0.08442807443332634 L 0.9962086503968308, -0.08699611988200921 L 0.9959811061559574, -0.08956358735756141 M 0.9959811061559574,-0.08956358735756141 Q 0.0815886004975341, -0.1826014793720297 -0.5977669400218059, -0.8016699354578334L -0.5977669400218059, -0.8016699354578334 L -0.600472050284893, -0.7996457445810969 L -0.6031703061773956, -0.7976124257719828 \", \"type\": \"path\"}, {\"fillcolor\": \"#e2ecde\", \"layer\": \"below\", \"line\": {\"color\": \"rgb(175,175,175)\", \"width\": 0.5}, \"path\": \"M -0.0632499901651619,-0.9979977147990404 Q -0.0023130942194758857, -0.19998662354050542 0.04014998601380044, -0.999193664222853L 0.04014998601380044, -0.999193664222853 L 0.03320590814263214, -0.9994485317736092 L 0.026260226918380716, -0.9996551407771558 M 0.026260226918380716,-0.9996551407771558 Q -0.0027633640351940434, -0.19998090863682214 -0.053871674252923836, -0.9985478670114852L -0.053871674252923836, -0.9985478670114852 L -0.05856147825900476, -0.9982838039676494 L -0.0632499901651619, -0.9979977147990404 \", \"type\": \"path\"}, {\"fillcolor\": \"#e2ecde\", \"layer\": \"below\", \"line\": {\"color\": \"rgb(175,175,175)\", \"width\": 0.5}, \"path\": \"M -0.10195461226187973,-0.9947890515272722 Q 0.05691019898513303, -0.19173218105334475 0.6281770927165506, -0.778070395392462L 0.6281770927165506, -0.778070395392462 L 0.6266046689077054, -0.7793372754482265 L 0.6250296901172503, -0.7806009777549181 M 0.6250296901172503,-0.7806009777549181 Q 0.05679186588518789, -0.19176726511393657 -0.09916450784565296, -0.9950710529322665L -0.09916450784565296, -0.9950710529322665 L -0.10055965890656678, -0.9949310302732521 L -0.10195461226187973, -0.9947890515272722 \", \"type\": \"path\"}, {\"fillcolor\": \"#e2ecde\", \"layer\": \"below\", \"line\": {\"color\": \"rgb(175,175,175)\", \"width\": 0.5}, \"path\": \"M -0.10920507660750306,-0.9940192408817595 Q 0.09733032983122736, -0.1747192230263874 0.9026677340600556, -0.4303381947804363L 0.9026677340600556, -0.4303381947804363 L 0.9023993184895274, -0.43090076582623593 L 0.9021305523069943, -0.43146316945282526 M 0.9021305523069943,-0.43146316945282526 Q 0.09730716676608, -0.1747321243960546 -0.10822938222859915, -0.9941259481687498L -0.10822938222859915, -0.9941259481687498 L -0.10871724250986288, -0.9940727142322395 L -0.10920507660750306, -0.9940192408817595 \", \"type\": \"path\"}, {\"fillcolor\": \"#e2ecde\", \"layer\": \"below\", \"line\": {\"color\": \"rgb(175,175,175)\", \"width\": 0.5}, \"path\": \"M -0.10822938222859915,-0.9941259481687498 Q 0.11237014403177381, -0.16544772809041053 0.9640074089338663, -0.26587537592002297L 0.9640074089338663, -0.26587537592002297 L 0.9637737390846944, -0.2667211649845344 L 0.9635393271675813, -0.2675667486842203 M 0.9635393271675813,-0.2675667486842203 Q 0.11234095829556104, -0.16546754693665772 -0.10683535248183663, -0.9942767257962352L -0.10683535248183663, -0.9942767257962352 L -0.107532393782017, -0.9942015813141263 L -0.10822938222859915, -0.9941259481687498 \", \"type\": \"path\"}, {\"fillcolor\": \"#e2ecde\", \"layer\": \"below\", \"line\": {\"color\": \"rgb(175,175,175)\", \"width\": 0.5}, \"path\": \"M -0.11087745026076389,-0.9938340862657468 Q 0.12483393984273677, -0.15625775969000702 0.9937843326558532, -0.11132250521687218L 0.9937843326558532, -0.11132250521687218 L 0.9937669303922784, -0.11147774692156572 L 0.9937495038779822, -0.11163298590588812 M 0.9937495038779822,-0.11163298590588812 Q 0.1248314400118658, -0.1562597567659823 -0.11059874298978944, -0.9938651407756882L -0.11059874298978944, -0.9938651407756882 L -0.11073809771386159, -0.9938496232905234 L -0.11087745026076389, -0.9938340862657468 \", \"type\": \"path\"}, {\"fillcolor\": \"#d4e5d6\", \"layer\": \"below\", \"line\": {\"color\": \"rgb(175,175,175)\", \"width\": 0.5}, \"path\": \"M 0.15322418945264066,-0.9881914529920715 Q 0.10068872332585486, -0.17280561621373727 0.7841524879536177, -0.620568187741002L 0.7841524879536177, -0.620568187741002 L 0.7732581102728819, -0.6340913931738953 L 0.7621305453579096, -0.647423379121001 M 0.7621305453579096,-0.647423379121001 Q 0.10077041364668163, -0.17275799180783702 0.1883751612584291, -0.9820971431690761L 0.1883751612584291, -0.9820971431690761 L 0.17082685460609165, -0.9853010635056624 L 0.15322418945264066, -0.9881914529920715 \", \"type\": \"path\"}, {\"fillcolor\": \"#d4e5d6\", \"layer\": \"below\", \"line\": {\"color\": \"rgb(175,175,175)\", \"width\": 0.5}, \"path\": \"M 0.05631019974651602,-0.9984133219286027 Q 0.11737570682061463, -0.16193499760200425 0.931333062564111, -0.36416854144057215L 0.931333062564111, -0.36416854144057215 L 0.9284508456426589, -0.37145528294187924 L 0.9255116183333711, -0.37871921568616534 M 0.9255116183333711,-0.37871921568616534 Q 0.11758461253342989, -0.16178337026827933 0.07452432331575466, -0.997219196182228L 0.07452432331575466, -0.997219196182228 L 0.06541998616865873, -0.9978578182334858 L 0.05631019974651602, -0.9984133219286027 \", \"type\": \"path\"}, {\"fillcolor\": \"#d4e5d6\", \"layer\": \"below\", \"line\": {\"color\": \"rgb(175,175,175)\", \"width\": 0.5}, \"path\": \"M -0.022479945355006567,-0.9997472940982816 Q 0.11909332670337712, -0.1606760079623672 0.9630682778520538, -0.2692572973850089L 0.9630682778520538, -0.2692572973850089 L 0.9629263846019426, -0.26976430052442407 L 0.9627842244422361, -0.2702712288889848 M 0.9627842244422361,-0.2702712288889848 Q 0.11910871782998711, -0.16066459889128193 -0.021235687406603303, -0.9997744973644652L -0.021235687406603303, -0.9997744973644652 L -0.02185782061280188, -0.999761089299868 L -0.022479945355006567, -0.9997472940982816 \", \"type\": \"path\"}, {\"fillcolor\": \"#d4e5d6\", \"layer\": \"below\", \"line\": {\"color\": \"rgb(175,175,175)\", \"width\": 0.5}, \"path\": \"M -0.0038134994136946048,-0.9999927285846741 Q 0.1355793787103791, -0.1470313982403337 0.9970225899949624, -0.07711001906196864L 0.9970225899949624, -0.07711001906196864 L 0.9967327992853071, -0.08076959099113737 L 0.9964295761605437, -0.08442807443332634 M 0.9964295761605437,-0.08442807443332634 Q 0.13575622962834588, -0.14686812491856707 0.005935473527588857, -0.9999823849218562L 0.005935473527588857, -0.9999823849218562 L 0.0010609996620397698, -0.9999994371397002 L -0.0038134994136946048, -0.9999927285846741 \", \"type\": \"path\"}, {\"fillcolor\": \"#c6decd\", \"layer\": \"below\", \"line\": {\"color\": \"rgb(175,175,175)\", \"width\": 0.5}, \"path\": \"M 0.6699434584356636,-0.7424121244290548 Q 0.1628046658141483, -0.11616643572540007 0.9199522967020084, -0.39203031999157906L 0.9199522967020084, -0.39203031999157906 L 0.9175262361159584, -0.39767525198191866 L 0.9150655379720647, -0.4033051713230267 M 0.9150655379720647,-0.4033051713230267 Q 0.1629001378560875, -0.11603251736676097 0.6802221630913152, -0.7330060087334702L 0.6802221630913152, -0.7330060087334702 L 0.6750991928164727, -0.7377269683687503 L 0.6699434584356636, -0.7424121244290548 \", \"type\": \"path\"}, {\"fillcolor\": \"#c6decd\", \"layer\": \"below\", \"line\": {\"color\": \"rgb(175,175,175)\", \"width\": 0.5}, \"path\": \"M 0.7086927749582033,-0.7055172221300069 Q 0.1789239011869522, -0.08936575173992423 0.9897526716607724, -0.14279232801647018L 0.9897526716607724, -0.14279232801647018 L 0.9882211436734698, -0.15303258214086116 L 0.9865836700957937, -0.16325642988964975 M 0.9865836700957937,-0.16325642988964975 Q 0.1790630560632167, -0.08908659805661748 0.725300750983004, -0.6884321467098194L 0.725300750983004, -0.6884321467098194 L 0.7170476504813693, -0.6970241509009197 L 0.7086927749582033, -0.7055172221300069 \", \"type\": \"path\"}, {\"fillcolor\": \"#c6decd\", \"layer\": \"below\", \"line\": {\"color\": \"rgb(175,175,175)\", \"width\": 0.5}, \"path\": \"M 0.6929938102434499,-0.7209435338251293 Q 0.18275702317455572, -0.08123958690426057 0.9995065603657314, -0.031410759078132795L 0.9995065603657314, -0.031410759078132795 L 0.9992029197688034, -0.03991898201981388 L 0.9988268548906513, -0.04842431155163518 M 0.9988268548906513,-0.04842431155163518 Q 0.18295885820182428, -0.0807840095902943 0.7086927749582033, -0.7055172221300069L 0.7086927749582033, -0.7055172221300069 L 0.7008857350215487, -0.7132735705487084 L 0.6929938102434499, -0.7209435338251293 \", \"type\": \"path\"}, {\"fillcolor\": \"#b8d7c5\", \"layer\": \"below\", \"line\": {\"color\": \"rgb(175,175,175)\", \"width\": 0.5}, \"path\": \"M 0.9005880246825713,-0.4346736819711362 Q 0.18703621723941322, -0.07083398506911094 0.9625942624380414, -0.27094701681576616L 0.9625942624380414, -0.27094701681576616 L 0.9624991035517304, -0.27128486073151103 L 0.9624038260915697, -0.2716226712266625 M 0.9624038260915697,-0.2716226712266625 Q 0.1870365852650287, -0.070833013294633 0.9008974448808982, -0.43403201933390695L 0.9008974448808982, -0.43403201933390695 L 0.9007427919194322, -0.43435287820525204 L 0.9005880246825713, -0.4346736819711362 \", \"type\": \"path\"}, {\"fillcolor\": \"#b8d7c5\", \"layer\": \"below\", \"line\": {\"color\": \"rgb(175,175,175)\", \"width\": 0.5}, \"path\": \"M 0.9008974448808982,-0.43403201933390695 Q 0.19224855327837798, -0.05514067248747223 0.9939912681085177, -0.10945939395054635L 0.9939912681085177, -0.10945939395054635 L 0.9939484445741478, -0.10984757406803394 L 0.9939054694450884, -0.11023573743182584 M 0.9939054694450884,-0.11023573743182584 Q 0.19225156899299517, -0.055130157080599956 0.9012835772009866, -0.4332296313363079L 0.9012835772009866, -0.4332296313363079 L 0.9010906003530674, -0.43363086831468606 L 0.9008974448808982, -0.43403201933390695 \", \"type\": \"path\"}, {\"fillcolor\": \"#aad0bc\", \"layer\": \"below\", \"line\": {\"color\": \"rgb(175,175,175)\", \"width\": 0.5}, \"path\": \"M 0.9667086102178662,-0.2558797821842155 Q 0.1968878639361542, -0.035144971683847274 0.9955357056608988, -0.09438569146992731L 0.9955357056608988, -0.09438569146992731 L 0.9953193585851546, -0.09664043887336343 L 0.9950979048324291, -0.0988946904444816 M 0.9950979048324291,-0.0988946904444816 Q 0.19689768176798192, -0.03508992610984712 0.9679983467383089, -0.2509565713662442L 0.9679983467383089, -0.2509565713662442 L 0.9673566104725005, -0.25341899726570405 L 0.9667086102178662, -0.2558797821842155 \", \"type\": \"path\"}, {\"fillcolor\": \"#f2e6ce\", \"layer\": \"below\", \"line\": {\"color\": \"rgb(150,150,150)\", \"width\": 0.45}, \"path\": \"M 1.1, 0.0 L 1.099742350281155, 0.02380678470692216 L 1.0989695218216695, 0.04760241702950552 L 1.097681876656154, 0.07137574980779067 L 1.0958800179871802, 0.09511564632812977 L 1.093564789902711, 0.11881098554022483 L 1.0907372769806831, 0.14245066726682867 L 1.0873988037809315, 0.1660236174036678 L 1.083550934224695, 0.1895187931071511 L 1.0791954708619902, 0.2129251879674345 L 1.0743344540272008, 0.2362318371644182 L 1.0689701608832738, 0.2594278226042606 L 1.0631051043549733, 0.2825022780340037 L 1.056742031951691, 0.3054443941319131 L 0.9606745745015371, 0.2776767219381028 L 0.9664591857772483, 0.25682025275818515 L 0.9717910553484307, 0.23584347509478235 L 0.9766676854792735, 0.21475621560401653 L 0.9810867916927183, 0.19356835269766773 L 0.9850463038406316, 0.1722898119155919 L 0.988544367073574, 0.15093056127606164 L 0.9915793427097118, 0.12950060660620788 L 0.9941498090024645, 0.10800998685474984 L 0.9962545618065274, 0.08646876938920887 L 0.997892615141958, 0.0648870452798097 L 0.9990632016560632, 0.04327492457227774 L 0.9997657729828681, 0.021642531551747418 L 1.0, 0.0 L 1.1 ,0.0\", \"type\": \"path\"}, {\"fillcolor\": \"#ecd5bb\", \"layer\": \"below\", \"line\": {\"color\": \"rgb(150,150,150)\", \"width\": 0.45}, \"path\": \"M 1.0466263532740863, 0.3384867451351496 L 1.0394028887396138, 0.36005782157834887 L 1.031734894972929, 0.3814749093914294 L 1.02362565140246, 0.4027288489677511 L 1.0150786261692493, 0.42381055047550376 L 1.0060974746437081, 0.4447109977452249 L 0.9966860378622959, 0.4654212521258115 L 0.9868483408847966, 0.48593245630738074 L 0.97658859107289, 0.5062358381093419 L 0.9659111762907586, 0.5263227142320606 L 0.9548206630284963, 0.5461844939705106 L 0.9433217944491238, 0.5658126828883258 L 0.9314194883600438, 0.5851988864506786 L 0.9191188351098065, 0.6043348136144338 L 0.9064250954110806, 0.6232122803740421 L 0.8933436980907661, 0.6418232132616538 L 0.8798802377682063, 0.6601596527999608 L 0.8660404724624959, 0.6782137569062847 L 0.8518303211299048, 0.6959778042464597 L 0.8372558611324741, 0.713444197537074 L 0.822323325638865, 0.7306054667946561 L 0.8070391009585732, 0.7474542725304191 L 0.7914097238106473, 0.7639834088891951 L 0.7754418785280814, 0.7801858067312173 L 0.7591423941990768, 0.7960545366554316 L 0.7425182417463934, 0.8115828119630459 L 0.7255765309460441, 0.8267639915600489 L 0.7083245073866031, 0.8415915827974555 L 0.6907695493704303, 0.8560592442480677 L 0.6729191647581376, 0.8701607884185604 L 0.6547809877576467, 0.8838901843957319 L 0.6363627756592078, 0.8972415604257913 L 0.617672405517784, 0.9102092064255746 L 0.59871787078421, 0.9227875764246192 L 0.5795072778865739, 0.9349712909370498 L 0.5600488427632797, 0.9467551392622653 L 0.5403508873492765, 0.9581340817134363 L 0.5204218360169521, 0.969103251772867 L 0.5002702119732207, 0.9796579581732947 L 0.4799046336143377, 0.9897936869042399 L 0.459333810840005, 0.9995061031425465 L 0.4385665413283446, 1.008791053106288 L 0.4176117067733282, 1.0176445658312474 L 0.3964782690862771, 1.0260628548692081 L 0.37517526656305394, 1.034042319907334 L 0.35371181001858737, 1.0415795483079413 L 0.32155619092598847, 0.9468904984617648 L 0.34106842414823085, 0.940038472643031 L 0.3604347900784337, 0.9327844135174619 L 0.3796470061575711, 0.9251314234829521 L 0.39869685575304054, 0.9170827755511708 L 0.4175761916727318, 0.9086419119477694 L 0.4362769396493979, 0.899812442640218 L 0.454791101793837, 0.8905981437939042 L 0.473110760015411, 0.8810029561571517 L 0.4912280794084331, 0.871030983375851 L 0.5091353116029815, 0.8606864902384229 L 0.5268247980787034, 0.8499739008518634 L 0.5442889734401909, 0.8388977967496537 L 0.5615203686525309, 0.8274629149323405 L 0.5785116142356435, 0.8156741458416283 L 0.5952554434160424, 0.803536531268847 L 0.6117446952346706, 0.7910552621986912 L 0.627972317609482, 0.7782356765891524 L 0.6439313703514573, 0.7650832570885958 L 0.6596150281327673, 0.7516036286909534 L 0.675016583405812, 0.7378025563300417 L 0.6901294492718879, 0.7236859424140286 L 0.7049471622982558, 0.7092598243011066 L 0.7194633852824066, 0.69453037171745 L 0.7336719099623392, 0.6795038841185628 L 0.7475666596716954, 0.6641867879951419 L 0.7611416919386127, 0.6485856341246127 L 0.7743912010271861, 0.6327070947695088 L 0.7873095204204508, 0.6165579608238951 L 0.7998911252438239, 0.6001451389090552 L 0.8121306346279691, 0.5834756484196852 L 0.8240228140100733, 0.5665566185218563 L 0.8355625773725514, 0.5493952851040307 L 0.8467449894182216, 0.531998987682435 L 0.8575652676810216, 0.5143751662621143 L 0.8680187845713603, 0.49653135815500965 L 0.878101069355235, 0.47847519475641864 L 0.8878078100662635, 0.46021439828121985 L 0.897134855349815, 0.44175677846125516 L 0.9060782162384508, 0.42311022920528313 L 0.9146340678579163, 0.4042827252229317 L 0.9227987510629538, 0.3852823186140943 L 0.9305687740022363, 0.3661171354252282 L 0.9379408136117536, 0.34679537217402673 L 0.9449117170360125, 0.32732529234395347 L 0.951478502976442, 0.30771522285013597 L 1.0466263532740863 ,0.3384867451351496\", \"type\": \"path\"}, {\"fillcolor\": \"#e6c4a9\", \"layer\": \"below\", \"line\": {\"color\": \"rgb(150,150,150)\", \"width\": 0.45}, \"path\": \"M 0.32082047033980887, 1.0521759481241453 L 0.29878058222468823, 1.0586454381356756 L 0.27661041319010765, 1.064653314142589 L 0.2543196303636456, 1.070196956457875 L 0.23191795346557498, 1.0752739478199682 L 0.2094151505706545, 1.0798820744467752 L 0.18682103384883805, 1.084019327000977 L 0.16414545528675356, 1.0876839014661863 L 0.14139830239182347, 1.0908741999335718 L 0.11858949388089429, 1.0935888312986164 L 0.09572897535525755, 1.0958266118676954 L 0.07282671496395005, 1.0975865658742183 L 0.049892699057220345, 1.0988679259041032 L 0.02693692783205866, 1.0996701332304022 L 0.003969410971691418, 1.0999928380569293 L -0.01899983671906423, 1.0998358996707869 L -0.0419607996806752, 1.0991993865037217 L -0.06490346596610025, 1.0980835761022871 L -0.08781783160641893, 1.0964889550068193 L -0.11069390497298424, 1.094416218539287 L -0.13352171113419417, 1.0918662705000997 L -0.15629129620498078, 1.0888402227740153 L -0.1789927316871239, 1.085339394845309 L -0.20161611879849556, 1.081365313222424 L -0.224151592789344, 1.0769197107723492 L -0.24658932724374225, 1.072004525965016 L -0.2241721156761293, 0.9745495690591054 L -0.20377417526303998, 0.9790179188839537 L -0.18328738072590503, 0.983059375656749 L -0.16272066517011263, 0.986672177132099 L -0.14208299654998252, 0.9898547479763774 L -0.12138337375835834, 0.992605700454636 L -0.10063082270271294, 0.9949238350357152 L -0.07983439236947175, 0.9968081409152902 L -0.059003150878272945, 0.9982577964566246 L -0.03814618152788654, 0.9992721695488379 L -0.017272578835512937, 0.9998508178825334 L 0.0036085554288103794, 0.999993489142663 L 0.02448811621096242, 0.9997001211185474 L 0.04535699914292758, 0.9989708417310029 L 0.06620610451268186, 0.997805968976562 L 0.08702634123205231, 0.9962060107888139 L 0.10780863080081299, 0.9941716648169239 L 0.12854391126529405, 0.9917038181214289 L 0.14922314116977595, 0.9888035467874421 L 0.16983730349894366, 0.9854721154554337 L 0.19037740960968588, 0.9817109767697955 L 0.21083450315052268, 0.9775217707454256 L 0.2311996639669505, 0.9729063240526136 L 0.25146401199100693, 0.9678666492205353 L 0.2716187111133529, 0.962404943759705 L 0.29165497303618987, 0.9565235892037683 L 0.32082047033980887 ,1.0521759481241453\", \"type\": \"path\"}, {\"fillcolor\": \"#e1b396\", \"layer\": \"below\", \"line\": {\"color\": \"rgb(150,150,150)\", \"width\": 0.45}, \"path\": \"M -0.28014012619204287, 1.0637299984944988 L -0.30280002037181664, 1.0575027884893862 L -0.3253217153838939, 1.0507929298866077 L -0.34769493223456177, 1.043603485093071 L -0.36990945969614664, 1.0359377354007842 L -0.39195515896746214, 1.0277991794892578 L -0.4138219683011974, 1.0191915318286957 L -0.4354999075961411, 1.0101187209846934 L -0.45697908295214035, 1.0005848878252264 L -0.47824969118571636, 0.9905943836307408 L -0.4993020243042788, 0.9801517681082096 L -0.5201264739368913, 0.9692618073100665 L -0.5407135357195735, 0.9579294714589575 L -0.5610538136331309, 0.946159932679312 L -0.5811380242915346, 0.9339585626367649 L -0.6009570011788999, 0.9213309300865048 L -0.620501698833119, 0.9082827983316722 L -0.639763196974249, 0.8948201225929648 L -0.6587327045757607, 0.8809490472906499 L -0.5988479132506915, 0.8008627702642271 L -0.5816029063402263, 0.8134728387208771 L -0.5640924534846536, 0.8257116348469747 L -0.5463245465262726, 0.8375735728059134 L -0.528307294810486, 0.8490532387606953 L -0.5100489214846644, 0.860145393344829 L -0.49155775974506677, 0.8708449740535976 L -0.4728422490335375, 0.8811470975546059 L -0.45391093118570797, 0.8910470619165541 L -0.4347724465324694, 0.9005403487552188 L -0.4154355299564912, 0.9096226252956603 L -0.3959090069055828, 0.9182897463497212 L -0.37620178936472487, 0.926537756207905 L -0.3563228717886019, 0.9343628904447798 L -0.33628132699649693, 0.9417615776370765 L -0.31608630203141974, 0.9487304409937009 L -0.295747013985358, 0.9552662998969159 L -0.27527274579256056, 0.9613661713539874 L -0.25467284199276624, 0.9670272713586352 L -0.28014012619204287 ,1.0637299984944988\", \"type\": \"path\"}, {\"fillcolor\": \"#dba284\", \"layer\": \"below\", \"line\": {\"color\": \"rgb(150,150,150)\", \"width\": 0.45}, \"path\": \"M -0.6860789380354873, 0.8598230578346328 L -0.7079523344737332, 0.8419046811327228 L -0.7293579477821562, 0.8234300116020801 L -0.7502816340921633, 0.8044112564751897 L -0.7707095679708931, 0.7848609824918803 L -0.7006450617917209, 0.7135099840835275 L -0.6820742128110575, 0.7312829604319906 L -0.6630526798019601, 0.7485727378200727 L -0.6435930313397574, 0.7653678919388388 L -0.6237081254868065, 0.7816573253042115 L -0.6860789380354873 ,0.8598230578346328\", \"type\": \"path\"}, {\"fillcolor\": \"#d59171\", \"layer\": \"below\", \"line\": {\"color\": \"rgb(150,150,150)\", \"width\": 0.45}, \"path\": \"M -0.7949823485544216, 0.760265128416986 L -0.8243051291768441, 0.7283687623812175 L -0.8523490762616743, 0.6953423992508085 L -0.8790706822062189, 0.6612372763883575 L -0.9044284908983533, 0.6261063047528967 L -0.822207718998503, 0.5691875497753607 L -0.799155165642017, 0.6011247967166886 L -0.774862796601522, 0.6321294538643714 L -0.7493682992516764, 0.6621534203465613 L -0.7227112259585651, 0.6911501167427145 L -0.7949823485544216 ,0.760265128416986\", \"type\": \"path\"}, {\"fillcolor\": \"#d0805f\", \"layer\": \"below\", \"line\": {\"color\": \"rgb(150,150,150)\", \"width\": 0.45}, \"path\": \"M -0.9236486843304729, 0.5973885736558632 L -0.9586145198843733, 0.5394981021902234 L -0.9899567003815352, 0.47956827602511776 L -1.0175567493661026, 0.4178256356657529 L -1.0413103359991474, 0.35450357422929213 L -0.9466457599992247, 0.32227597657208373 L -0.9250515903328206, 0.37984148696886627 L -0.8999606367104864, 0.4359711600228343 L -0.8714677453494302, 0.49045282017293035 L -0.8396806221186116, 0.5430805215053301 L -0.9236486843304729 ,0.5973885736558632\", \"type\": \"path\"}, {\"fillcolor\": \"#ca6f4c\", \"layer\": \"below\", \"line\": {\"color\": \"rgb(150,150,150)\", \"width\": 0.45}, \"path\": \"M -1.0519317385702436, 0.32162030002564373 L -1.0567892917894934, 0.3052808424370271 L -1.061393063874805, 0.28886807362263844 L -1.0657419492599982, 0.27238593500307506 L -1.0698349035882908, 0.25583838465764447 L -0.9725771850802643, 0.23258034968876767 L -0.9688563175090893, 0.24762357727552275 L -0.9649027853407318, 0.262607339656944 L -0.9607175379904486, 0.2775280385791155 L -0.9563015805184031, 0.29238209093240336 L -1.0519317385702436 ,0.32162030002564373\", \"type\": \"path\"}, {\"fillcolor\": \"#c45e3a\", \"layer\": \"below\", \"line\": {\"color\": \"rgb(150,150,150)\", \"width\": 0.45}, \"path\": \"M -1.0773430825081554, 0.22210781744870295 L -1.0823353291060045, 0.19634213854646004 L -1.086711456107208, 0.17046469184365412 L -1.0904689724006191, 0.14449020808185536 L -1.093605739019357, 0.11843347324099715 L -0.9941870354721427, 0.10766679385545194 L -0.9913354294551082, 0.1313547346198685 L -0.9879195055520071, 0.15496790167604918 L -0.9839412082781858, 0.17849285322405456 L -0.9794028022801411, 0.20191619768063904 L -1.0773430825081554 ,0.22210781744870295\", \"type\": \"path\"}, {\"fillcolor\": \"#bf4d28\", \"layer\": \"below\", \"line\": {\"color\": \"rgb(150,150,150)\", \"width\": 0.45}, \"path\": \"M -1.0967861958982204, 0.08402404707648069 L -1.0992553333185893, 0.0404686566448336 L -1.0999954886592245, -0.003150385588181628 L -1.0990054977544572, -0.046764472684695704 L -1.0962869177279893, -0.09030500550060838 L -0.9966244706618084, -0.08209545954600761 L -0.9990959070495066, -0.042513156986087 L -0.9999958987811131, -0.0028639868983469344 L -0.9993230302896265, 0.036789687858939636 L -0.9970783599074731, 0.07638549734225517 L -1.0967861958982204 ,0.08402404707648069\", \"type\": \"path\"}, {\"fillcolor\": \"#af4624\", \"layer\": \"below\", \"line\": {\"color\": \"rgb(150,150,150)\", \"width\": 0.45}, \"path\": \"M -1.0929094175409237, -0.12469564968497909 L -1.0865712184204037, -0.1713563167799765 L -1.0782418186141907, -0.2177029641313205 L -1.0679364821991575, -0.26365065899422446 L -1.055674094263173, -0.3091151997259745 L -0.95970372205743, -0.2810138179327041 L -0.9708513474537794, -0.23968241726747674 L -0.9802198351038096, -0.19791178557392772 L -0.9877920167458214, -0.15577846979997864 L -0.9935540159462942, -0.11335968153179916 L -1.0929094175409237 ,-0.12469564968497909\", \"type\": \"path\"}, {\"fillcolor\": \"#9f4021\", \"layer\": \"below\", \"line\": {\"color\": \"rgb(150,150,150)\", \"width\": 0.45}, \"path\": \"M -1.0454436397582132, -0.3421221946747966 L -1.032875726941398, -0.37837512166536386 L -1.0190510970289908, -0.4141676733449998 L -1.0039865706784028, -0.4494563003200873 L -0.9877004771496871, -0.4841980663305882 L -0.8979095246815336, -0.4401800603005347 L -0.9127150642530935, -0.4085966366546248 L -0.9264100882081734, -0.37651606667727255 L -0.938977933583089, -0.34397738333214894 L -0.9504033088711029, -0.3110201769770878 L -1.0454436397582132 ,-0.3421221946747966\", \"type\": \"path\"}, {\"fillcolor\": \"#8f391e\", \"layer\": \"below\", \"line\": {\"color\": \"rgb(150,150,150)\", \"width\": 0.45}, \"path\": \"M -0.97200407777987, -0.5149835655429256 L -0.9605287885557044, -0.5360824995797856 L -0.948595583282531, -0.5569258652431891 L -0.9362101509165539, -0.5775037258068587 L -0.9233783960056865, -0.5978062711196378 L -0.9101064358746568, -0.617823822282315 L -0.8964005977086763, -0.6375468362618765 L -0.8822674155370591, -0.6569659104409897 L -0.8677136271182322, -0.6760717871005429 L -0.8527461707276233, -0.6948553578331071 L -0.8373721818499524, -0.7133076678852193 L -0.8215989897775097, -0.7314199204264099 L -0.8054341141160375, -0.7491834807429447 L -0.788885261199884, -0.7665898803542811 L -0.7719603204181364, -0.7836308210502752 L -0.7546673604534887, -0.8002981788472121 L -0.7370146254356293, -0.8165840078607828 L -0.7190105310109914, -0.8324805440941502 L -0.7006636603307346, -0.8479802091393037 L -0.6369669639370313, -0.7708910992175487 L -0.6536459372827195, -0.7568004946310456 L -0.6700132958505721, -0.7423490980552571 L -0.6860612367758988, -0.7275437989520109 L -0.701782109471033, -0.7123916555002501 L -0.7171684192726218, -0.6968998912311646 L -0.7322128310145795, -0.6810758915844951 L -0.7469081725250087, -0.6649272003876453 L -0.7612474380454113, -0.6484615162592902 L -0.7752237915705665, -0.6316866889391882 L -0.7888305701074837, -0.614610715545948 L -0.8020612868518718, -0.5972417367645361 L -0.8149096342806148, -0.5795880329653422 L -0.8273694871587788, -0.56165802025665 L -0.8394349054597149, -0.543460246472398 L -0.8511001371968672, -0.5250033870971442 L -0.8623596211659372, -0.5062962411301719 L -0.8732079895960949, -0.48734772689071415 L -0.8836400707089727, -0.4681668777662959 L -0.97200407777987 ,-0.5149835655429256\", \"type\": \"path\"}, {\"fillcolor\": \"#f0f3e7\", \"layer\": \"below\", \"line\": {\"color\": \"rgb(150,150,150)\", \"width\": 0.45}, \"path\": \"M -0.6736822230581404, -0.8695701595244872 L -0.6548093866721585, -0.8838691459294368 L -0.6356331489754531, -0.8977585977998482 L -0.6161623951425063, -0.9112320795561636 L -0.5964061468097709, -0.9242833483556447 L -0.5763735578955661, -0.936906356984948 L -0.556073910358668, -0.9490952566620593 L -0.5355166098975817, -0.9608443997462864 L -0.5147111815924799, -0.972148342355051 L -0.493667265491819, -0.9830018468862761 L -0.47239461214569384, -0.9933998844451913 L -0.4509030780879907, -1.0033376371744338 L -0.4292026212694273, -1.0128105004863708 L -0.40730329644360896, -1.0218140851966027 L -0.38521525050823224, -1.0303442195576584 L -0.36294871780358495, -1.0383969511919484 L -0.3405140153705443, -1.0459685489230683 L -0.31792153817024216, -1.0530555045046142 L -0.29518175426763604, -1.0596545342457047 L -0.27230519998120756, -1.0657625805324535 L -0.2493024750010275, -1.071376813244697 L -0.22618423747747124, -1.0764946310673058 L -0.20296119908283372, -1.0811136626954905 L -0.17964412004815417, -1.085231767933525 L -0.15624380417754194, -1.0888470386863942 L -0.14203982197958356, -0.9898609442603583 L -0.16331283640741287, -0.9865743344850227 L -0.18451018098439428, -0.9828306024504457 L -0.2056220340704284, -0.9786314827884598 L -0.2266386136372977, -0.9739789211315426 L -0.24755018180109775, -0.9688750732113214 L -0.26834704933421455, -0.9633223038597314 L -0.2890195801547656, -0.9573231859132855 L -0.3095581957914039, -0.950880499020971 L -0.32995337982144085, -0.9439972283563167 L -0.3501956822802111, -0.9366765632342348 L -0.3702757240396445, -0.928921895633275 L -0.3901842011540248, -0.9207368186239733 L -0.4099118891709006, -0.9121251247040306 L -0.42944964740517616, -0.903090804041083 L -0.4487884231743809, -0.8936380426238874 L -0.4679192559931635, -0.8837712203227736 L -0.48683328172507423, -0.8734949088602604 L -0.5055217366896981, -0.8628138696927811 L -0.5239759617232419, -0.8517330518044981 L -0.5421874061907007, -0.8402575894142225 L -0.5601476319477329, -0.8283927995965122 L -0.5778483172504119, -0.8161441798180438 L -0.5952812606110531, -0.803517405390397 L -0.6124383845983095, -0.7905183268404429 L -0.6736822230581404 ,-0.8695701595244872\", \"type\": \"path\"}, {\"fillcolor\": \"#e2ecde\", \"layer\": \"below\", \"line\": {\"color\": \"rgb(150,150,150)\", \"width\": 0.45}, \"path\": \"M -0.12196519528684029, -1.0932174948923215 L -0.10631802112096117, -1.0948499798533693 L -0.09064910016914728, -1.096258519072269 L -0.07496163742586692, -1.0974428244398124 L -0.059258841678216226, -1.098402653712634 L -0.053871674252923836, -0.9985478670114852 L -0.06814694311442447, -0.997675294945284 L -0.08240827288104297, -0.9965986537020626 L -0.09665274647360106, -0.9953181635030629 L -0.11087745026076389, -0.9938340862657468 L -0.12196519528684029 ,-1.0932174948923215\", \"type\": \"path\"}, {\"fillcolor\": \"#d4e5d6\", \"layer\": \"below\", \"line\": {\"color\": \"rgb(150,150,150)\", \"width\": 0.45}, \"path\": \"M -0.024727939890507224, -1.0997220235081098 L -0.0018490014275861209, -1.0999984459960481 L 0.021030737029846647, -1.0997989398521812 L 0.04390137626542424, -1.0991235913954363 L 0.06675302099967645, -1.0979726928241054 L 0.08957578417135112, -1.096346742089421 L 0.11235979121517867, -1.0942464426801128 L 0.13509518433423517, -1.0916727033180316 L 0.15777212676504052, -1.0886266375649807 L 0.18038080703356588, -1.085109563340919 L 0.2029114432002946, -1.0811230023537441 L 0.2253542870925056, -1.076668679440908 L 0.2476996285219469, -1.071748521823142 L 0.2699377994860751, -1.0663646582706197 L 0.292059178351042, -1.0605194181819182 L 0.3140541940146201, -1.054215330576172 L 0.33591333004726304, -1.047455122998861 L 0.3576271288095167, -1.040241720341701 L 0.379186195543984, -1.0325782435771536 L 0.4005812024400927, -1.0244680084080955 L 0.4218028926698932, -1.015914523833236 L 0.44284208439314515, -1.0069214906289043 L 0.4636896747299604, -0.9974927997478598 L 0.4843366436992822, -0.9876325306358205 L 0.504774058121497, -0.9773449494664388 L 0.5249930754834913, -0.9666345072954852 L 0.5449849477644797, -0.9555058381350412 L 0.5647410252209497, -0.943963756948534 L 0.5842527601290852, -0.93201325756748 L 0.6035117104830534, -0.9196595105308374 L 0.6225095436475435, -0.9069078608479073 L 0.6412380399629932, -0.8937638256857451 L 0.6596890963019301, -0.8802330919820858 L 0.5997173602744819, -0.800211901801896 L 0.5829436726936301, -0.8125125688052227 L 0.5659177669523122, -0.8244616916799157 L 0.5486470095300485, -0.8360541004825793 L 0.5311388728446229, -0.8472847796067999 L 0.5134009320190451, -0.8581488699532126 L 0.4954408616040724, -0.8686416710318555 L 0.4772664322577193, -0.8787586429958956 L 0.458885507383179, -0.8884954086058534 L 0.44030603972662014, -0.897847755123473 L 0.42153606793632764, -0.9068116361344178 L 0.4025837130846774, -0.9153831732990039 L 0.3834571751544483, -0.9235586580302145 L 0.3641647294909933, -0.9313345530982686 L 0.3447147232218036, -0.9387074941610487 L 0.32511557164501514, -0.945674291219728 L 0.3053757545884209, -0.9522319299989643 L 0.2855038127405637, -0.9583775732510653 L 0.2655083439554927, -0.964108561983562 L 0.2453979995327955, -0.9694224166096542 L 0.22518148047449718, -0.974316838021038 L 0.20486753372045963, -0.9787897085826436 L 0.18446494836390417, -0.9828390930488582 L 0.16398255184869623, -0.9864632394008352 L 0.14342920615003682, -0.9896605796045279 L 0.1228138039402138, -0.9924297302891196 L 0.10214526474107151, -0.9947694933455571 L 0.08143253106486464, -0.9966788564449283 L 0.060684564545160406, -0.9981569934764593 L 0.03991034205947658, -0.9992032649049419 L 0.019118851845315133, -0.9998172180474374 L -0.0016809103887146552, -0.9999985872691346 L -0.022479945355006567, -0.9997472940982816 L -0.024727939890507224 ,-1.0997220235081098\", \"type\": \"path\"}, {\"fillcolor\": \"#c6decd\", \"layer\": \"below\", \"line\": {\"color\": \"rgb(150,150,150)\", \"width\": 0.45}, \"path\": \"M 0.687012369140365, -0.8590774148166991 L 0.7056094036884986, -0.8438692845615142 L 0.723869881841708, -0.8282586517281132 L 0.7417850938511386, -0.812252962161578 L 0.7593464946504437, -0.7958598501382538 L 0.7765457079315545, -0.7790871347244037 L 0.793374530139943, -0.7619428160467325 L 0.8098249343875, -0.7444350714765401 L 0.8258890742811352, -0.7265722517293443 L 0.8415592876652979, -0.7083628768818117 L 0.8568281002766098, -0.6898156323079205 L 0.8716882293088903, -0.6709393645362685 L 0.8861325868868506, -0.6517430770305261 L 0.900154283446821, -0.6322359258950256 L 0.91374663102288, -0.6124272155075549 L 0.9269031464368358, -0.5923263940814169 L 0.9396175543905204, -0.5719430491588979 L 0.9518837904589399, -0.5512869030382649 L 0.9636960039828347, -0.530367808136501 L 0.975048560859289, -0.5091957422899659 L 0.8864077825993536, -0.46290522026360537 L 0.8760872763480315, -0.48215255285136444 L 0.865348900417218, -0.501169911852968 L 0.8541977767186548, -0.519948226508089 L 0.842639224033487, -0.5384785400740153 L 0.8306787554753454, -0.5567520140977771 L 0.8183220758607463, -0.5747599326318414 L 0.8055750789880459, -0.5924937063913873 L 0.7924438448262638, -0.6099448768511531 L 0.7789346366150998, -0.6271051202799277 L 0.7650538978775434, -0.6439662517107378 L 0.7508082493464865, -0.6605202288448584 L 0.7362044858068182, -0.6767591558877637 L 0.7212495728544935, -0.6926752873152113 L 0.7059506435741404, -0.7082610315676396 L 0.690314995136767, -0.7235089546711397 L 0.6743500853192168, -0.7384117837832527 L 0.6580635289470071, -0.752962410661921 L 0.6414630942622713, -0.7671538950559219 L 0.6245566992185136, -0.7809794680151809 L 0.687012369140365 ,-0.8590774148166991\", \"type\": \"path\"}, {\"fillcolor\": \"#b8d7c5\", \"layer\": \"below\", \"line\": {\"color\": \"rgb(150,150,150)\", \"width\": 0.45}, \"path\": \"M 0.9905616580387034, -0.47831746949449266 L 1.0070258613681717, -0.44260469330508934 L 1.022203008767937, -0.4063262345280911 L 1.0360737026849602, -0.3695284598034051 L 1.0486202153134927, -0.3322583994963629 L 0.9532911048304478, -0.30205309045123896 L 0.9418851842590547, -0.33593496345764096 L 0.9292754625163062, -0.3693874859346282 L 0.9154780557892469, -0.40236790300462666 L 0.9005105982170031, -0.4348340631768115 L 0.9905616580387034 ,-0.47831746949449266\", \"type\": \"path\"}, {\"fillcolor\": \"#aad0bc\", \"layer\": \"below\", \"line\": {\"color\": \"rgb(150,150,150)\", \"width\": 0.45}, \"path\": \"M 1.0585392730762266, -0.2991564930855658 L 1.067843066632214, -0.26402875798955905 L 1.0759814830297332, -0.22861287841487887 L 1.0829456405099636, -0.19294750503819685 L 1.0887279388268496, -0.15707156081811818 L 0.9897526716607723, -0.14279232801647107 L 0.9844960368272395, -0.17540682276199712 L 0.9781649845724847, -0.20782988946807168 L 0.9707664242111036, -0.24002614362687186 L 0.9623084300692968, -0.27196044825960525 L 1.0585392730762266 ,-0.2991564930855658\", \"type\": \"path\"}, {\"fillcolor\": \"#9cc9b4\", \"layer\": \"below\", \"line\": {\"color\": \"rgb(150,150,150)\", \"width\": 0.45}, \"path\": \"M 1.0931244542657805, -0.12279628449647693 L 1.095372949934572, -0.10078740274277417 L 1.097178365788702, -0.07873775235065557 L 1.0985399715350581, -0.05665625243302011 L 1.0994572164023046, -0.03455183498594511 L 0.9995065603657315, -0.031410759078131914 L 0.9986727013955072, -0.051505684030018276 L 0.9974348779897291, -0.07157977486423232 L 0.9957935908496107, -0.09162491158434015 L 0.9937495038779822, -0.11163298590588812 L 1.0931244542657805 ,-0.12279628449647693\", \"type\": \"path\"}], \"showlegend\": false, \"title\": \"Data Jobs \\u2012 Technologies in Demand and Relationships Between Them\", \"titlefont\": {\"color\": \"#655643\", \"family\": \"Merryweather\", \"size\": 18}, \"width\": 960, \"xaxis\": {\"showgrid\": false, \"showline\": false, \"showticklabels\": false, \"title\": \"\", \"zeroline\": false}, \"yaxis\": {\"showgrid\": false, \"showline\": false, \"showticklabels\": false, \"title\": \"\", \"zeroline\": false}}, {\"showLink\": true, \"linkText\": \"Export to plot.ly\", \"plotlyServerURL\": \"https://plot.ly\"})});</script>"
      ]
     },
     "metadata": {},
     "output_type": "display_data"
    }
   ],
   "source": [
    "fig = go.Figure(data=data, layout=layout)\n",
    "\n",
    "plotly.offline.iplot(fig, filename='data_offers_tech_requirements_chord.html')"
   ]
  },
  {
   "cell_type": "code",
   "execution_count": 30,
   "metadata": {},
   "outputs": [
    {
     "data": {
      "text/plain": [
       "'file:///games/WORKSPACE/jpynb_Job_Market_Trends_Bulgaria/workbooks/data_offers_tech_requirements_chord.html'"
      ]
     },
     "execution_count": 30,
     "metadata": {},
     "output_type": "execute_result"
    }
   ],
   "source": [
    "# Uncomment the line below to export an HTML version of the chart.\n",
    "plotly.offline.plot(fig, filename='data_offers_tech_requirements_chord.html', show_link=False)"
   ]
  },
  {
   "cell_type": "markdown",
   "metadata": {},
   "source": [
    "### Resources:\n",
    "\n",
    "- https://plot.ly/python/filled-chord-diagram/\n",
    "- https://hci.stanford.edu/courses/cs448b/f11/lectures/CS448B-20111117-Text.pdf"
   ]
  },
  {
   "cell_type": "code",
   "execution_count": 31,
   "metadata": {},
   "outputs": [
    {
     "data": {
      "text/html": [
       "<style>\n",
       "@import url('https://fonts.googleapis.com/css?family=Fira+Mono|Fira+Sans|Fira+Sans+Condensed|Fira+Sans+Extra+Condensed');\n",
       "@import url('https://fonts.googleapis.com/css?family=Merriweather|Merriweather+Sans');\n",
       "\n",
       ".nbviewer {\n",
       "    background-color: #E5E1D8;\n",
       "}\n",
       "\n",
       "#notebook {\n",
       "    background-color: #E5E1D8;\n",
       "}\n",
       "\n",
       "#notebook-container {\n",
       "    background-color: #FFFAF0;\n",
       "    max-width: 1100px;\n",
       "    padding: 50px;\n",
       "    border-radius: 4px;\n",
       "    -webkit-box-shadow: 0px 0px 12px 1px rgba(101,86,67,0.75);\n",
       "    -moz-box-shadow: 0px 0px 12px 1px rgba(101,86,67,0.75);\n",
       "    box-shadow: 0px 0px 12px 1px rgba(101,86,67,0.75);\n",
       "}\n",
       "\n",
       "/* Jupyter Notebook Header Styling */\n",
       "body > #header {\n",
       "    background-color:#fafafa;\n",
       "}\n",
       "\n",
       "#header #menubar #menus {\n",
       "    background-color:#fefefe;\n",
       "}\n",
       "\n",
       "/* Headings */\n",
       ".text_cell_render h1 {\n",
       "    color: #655B4F;\n",
       "    font-family: 'Merriweather', serif;\n",
       "    font-weight: 900;\n",
       "    text-align: center;\n",
       "    font-size: 2.5em;\n",
       "    padding: 40px 0 12px 0;\n",
       "    text-shadow: 0 2px #FFFAF0, 0 3px #8c8b8b;\n",
       "}\n",
       "\n",
       ".text_cell_render h2 {\n",
       "    color: #655B4F;\n",
       "    font-family: 'Merriweather', serif;\n",
       "    font-weight: 600;\n",
       "    font-size: 2.2em;\n",
       "    text-indent: 22px;\n",
       "    padding: 40px 0 6px 0;\n",
       "    margin-bottom: 24px;\n",
       "    border-bottom: 1px solid #655B4F;\n",
       "}\n",
       "\n",
       ".text_cell_render h3 {\n",
       "    color: #655B4F;\n",
       "    font-family: 'Merriweather', serif;\n",
       "    font-weight: 300;\n",
       "    padding: 6px 0 0 0;\n",
       "    font-size: 1.6em;\n",
       "}\n",
       "\n",
       ".text_cell_render h4 {\n",
       "    color: #655B4F;\n",
       "    font-family: 'Merriweather', serif;\n",
       "    font-weight: 100;\n",
       "    font-size: 1.2em;\n",
       "}\n",
       "\n",
       "/* Use for subtitles and other non-headings */\n",
       "div.rendered_html > h5 {\n",
       "    font-family: 'Merriweather', serif;\n",
       "    line-height: 1.5em;\n",
       "    color: #655B4F;\n",
       "    font-weight: 200;\n",
       "    font-style: normal important!;\n",
       "    text-indent: 22px;\n",
       "    text-align: center;\n",
       "    margin-top: 0.5em;\n",
       "    padding: 6px 0 6px 0;\n",
       "    border-bottom: 1px solid #655B4F;\n",
       "    border-top: 1px solid #655B4F;\n",
       "}\n",
       "\n",
       "/* Use for image and chart captions */\n",
       "div.rendered_html > h6 {\n",
       "    font-family: 'Merriweather Sans', sans-serif;\n",
       "    font-size: 0.9em;\n",
       "    line-height: 1.5em;\n",
       "    color: #cac8c9;\n",
       "    font-weight: normal;\n",
       "    max-width: 525px;\n",
       "    display: block;\n",
       "    margin-left: auto;\n",
       "    margin-right: auto;\n",
       "}\n",
       "\n",
       "div#notebook-container p {\n",
       "    font-family: 'Fira Sans Condensed', sans-serif;\n",
       "    font-size: 1.2em;\n",
       "    line-height: 1.3em;\n",
       "    color: #655B4F;\n",
       "}\n",
       "\n",
       "/* Plotly Exported Charts Styling */\n",
       ".js-plotly-plot .plotly,\n",
       ".js-plotly-plot .plotly div {\n",
       "    direction: ltr;\n",
       "    font-family: \"Fira Sans Extra Condensed\", verdana, arial, sans-serif;\n",
       "}\n",
       "\n",
       "/* Lists */\n",
       "ol, ul {\n",
       "    font-family: 'Fira Sans Condensed', sans-serif;\n",
       "    line-height: 1.3em;\n",
       "    color: #655B4F;\n",
       "}\n",
       "\n",
       "div.input_prompt {\n",
       "    color: #aad0bc;\n",
       "    font-size: 0.7em;\n",
       "}\n",
       "\n",
       "div.output_prompt {\n",
       "    color: #aad0bc;\n",
       "    font-size: 0.7em;\n",
       "}\n",
       "\n",
       "div.prompt {\n",
       "    min-width: 2ex;\n",
       "}\n",
       "\n",
       "div.output_subarea {\n",
       "    min-width: 425px;\n",
       "    max-width: calc(100% - 1ex);\n",
       "    padding: 0;\n",
       "}\n",
       "\n",
       "div.text_cell code {\n",
       "    padding: 2px;\n",
       "    background-color: #E5E1D8;\n",
       "    color: #483F3A;\n",
       "    font-family: 'Fira Mono', monospace;\n",
       "    font-size: 0.9em;\n",
       "}\n",
       "\n",
       "div.input_area {\n",
       "    background-color: #FFFAF0;\n",
       "    border: 1px solid #E5E1D8;\n",
       "    background: repeating-linear-gradient(135deg, #FFFAF0, #FFFAF0 5px, #F7F7ED 5px, #F7F7ED 10px);\n",
       "}\n",
       "\n",
       "div.cell.rendered.selected {\n",
       "    background: #F7F7ED;\n",
       "    border: 1px solid #293C34;\n",
       "}\n",
       "\n",
       "div.output_area img {\n",
       "    display: block;\n",
       "    margin-left: auto;\n",
       "    margin-right: auto;\n",
       "}\n",
       "\n",
       "div.rendered_html pre, code {\n",
       "    font-family: 'Fira Sans Condensed', sans-serif;\n",
       "    font-size: 16px;\n",
       "    font-weight: 400;\n",
       "    color: #40362F;\n",
       "    background-color: #E5E1D8;\n",
       "}\n",
       "\n",
       "div.output_text pre {\n",
       "    font-family: 'Fira Sans Condensed', sans-serif;\n",
       "    font-size: 13px;\n",
       "    font-weight: 300;\n",
       "    color: #40362F;\n",
       "}\n",
       "\n",
       "\n",
       "pre, textarea {\n",
       "    overflow: hidden;\n",
       "}\n",
       "\n",
       "div.text_cell_render img {\n",
       "    max-height: 550px;\n",
       "    display: block;\n",
       "    margin-left: auto;\n",
       "    margin-right: auto;\n",
       "}\n",
       "\n",
       "div.output output_scroll {\n",
       "    overflow-x: auto;\n",
       "    overflow-y: scroll;\n",
       "    max-height: 2000px;\n",
       "}\n",
       "\n",
       "div.rendered_html hr {\n",
       "    border: 0;\n",
       "    height: 1px;\n",
       "    background-color: #655B4F;\n",
       "}\n",
       "\n",
       "div.rendered_html pre, code {\n",
       "    color: #40362F;\n",
       "    background-color: #FFFAF0;\n",
       "}\n",
       "\n",
       "/* Links */\n",
       "a.link--embedview {\n",
       "    display: none;\n",
       "}\n",
       "\n",
       "a:link {\n",
       "    color: #293C34;\n",
       "}\n",
       "\n",
       "a:visited {\n",
       "    color: #293C34;\n",
       "}\n",
       "\n",
       "a:hover {\n",
       "    color: #557C6C;\n",
       "}\n",
       "\n",
       "a:focus {\n",
       "    color:#557C6C;\n",
       "}\n",
       "\n",
       "a:active {\n",
       "    font-weight: bold;\n",
       "    color:#80BCA3;\n",
       "}\n",
       "\n",
       ".rendered_html :link {\n",
       "    text-decoration: underline;\n",
       "}\n",
       "\n",
       "/* Colors for code highlighting */\n",
       ".CodeMirror pre {\n",
       "    font-family: 'Fira Mono', monospace;\n",
       "    font-size: 0.9em;\n",
       "    font-weight: 600;\n",
       "    letter-spacing: -2px;\n",
       "}\n",
       "\n",
       ".CodeMirror-code span.cm-keyword,\n",
       ".highlight .k,\n",
       ".highlight .ow {\n",
       "    color: #5F362E;\n",
       "}\n",
       "\n",
       ".CodeMirror-code span.cm-variable,\n",
       ".highlight .na {\n",
       "    color: #655B4F;\n",
       "}\n",
       "\n",
       ".CodeMirror-code span.cm-property {\n",
       "    color: #655B4F;\n",
       "}\n",
       "\n",
       ".CodeMirror-code span.cm-def {\n",
       "    color: #293C34;\n",
       "}\n",
       "\n",
       ".CodeMirror-code span.cm-operator {\n",
       "    color: #655B4F;\n",
       "}\n",
       "\n",
       ".CodeMirror-code span.cm-string,\n",
       ".highlight .s {\n",
       "    color: #0B7761;\n",
       "}\n",
       "\n",
       ".CodeMirror-code span.cm-number,\n",
       ".highlight .mb, .highlight .mf, .highlight .mh, .highlight .mi, .highlight .mo {\n",
       "    color: #265BCA;\n",
       "}\n",
       "\n",
       ".CodeMirror-code span.cm-comment,\n",
       ".highlight .c1, .highlight .cs {\n",
       "    color: #75AC95;\n",
       "}\n",
       "\n",
       ".CodeMirror-code span.cm-builtin,\n",
       ".highlight .nb {\n",
       "    color: #5F362E;\n",
       "}\n",
       "\n",
       "/* Code with no class applied (brackets mostly) */\n",
       ".CodeMirror-line > span {\n",
       "    color: #72614B;\n",
       "}\n",
       "\n",
       "/* Table styles */\n",
       "table {\n",
       "    border: 1px solid #BF4D28;\n",
       "}\n",
       "\n",
       "\n",
       ".rendered_html table th {\n",
       "    color: #40362F;\n",
       "    text-align: left;\n",
       "    background-color: #f2e6ce;\n",
       "}\n",
       "\n",
       ".rendered_html td {\n",
       "    color: #40362F;\n",
       "    text-align: left;\n",
       "}\n",
       "\n",
       ".rendered_html table tr:nth-child(odd) {\n",
       "    background-color: #F7F7ED;\n",
       "}\n",
       "\n",
       ".rendered_html table tr:nth-child(even) {\n",
       "    background-color: #FFFAF0;\n",
       "}\n",
       "\n",
       "iframe {\n",
       "    border-width: 0;\n",
       "}\n",
       "\n",
       "@media only screen and (max-width: 600px) {\n",
       "    #notebook-container {\n",
       "        background-color: #FFFAF0;\n",
       "        padding: 15px;\n",
       "        border-radius: 4px;\n",
       "        -webkit-box-shadow: 0px 0px 12px 1px rgba(101,86,67,0.75);\n",
       "        -moz-box-shadow: 0px 0px 12px 1px rgba(101,86,67,0.75);\n",
       "        box-shadow: 0px 0px 12px 1px rgba(101,86,67,0.75);\n",
       "    }\n",
       "\n",
       "    .text_cell_render h1,\n",
       "    .text_cell_render h2 {\n",
       "        text-indent: 0;\n",
       "        text-align: left;\n",
       "        padding: 40px 22px 12px 22px;\n",
       "    }\n",
       "}\n",
       "\n",
       "</style>\n"
      ],
      "text/plain": [
       "<IPython.core.display.HTML object>"
      ]
     },
     "execution_count": 31,
     "metadata": {},
     "output_type": "execute_result"
    }
   ],
   "source": [
    "from IPython.core.display import HTML\n",
    "with open('../resources/styles/datum.css', 'r') as f:\n",
    "    style = f.read()\n",
    "HTML(style)"
   ]
  },
  {
   "cell_type": "code",
   "execution_count": null,
   "metadata": {},
   "outputs": [],
   "source": []
  }
 ],
 "metadata": {
  "kernelspec": {
   "display_name": "Python 3",
   "language": "python",
   "name": "python3"
  },
  "language_info": {
   "codemirror_mode": {
    "name": "ipython",
    "version": 3
   },
   "file_extension": ".py",
   "mimetype": "text/x-python",
   "name": "python",
   "nbconvert_exporter": "python",
   "pygments_lexer": "ipython3",
   "version": "3.7.4"
  }
 },
 "nbformat": 4,
 "nbformat_minor": 2
}
