{
 "cells": [
  {
   "cell_type": "markdown",
   "metadata": {},
   "source": [
    "## Requirements Relationships Chord Diagram\n"
   ]
  },
  {
   "cell_type": "code",
   "execution_count": 1,
   "metadata": {},
   "outputs": [
    {
     "data": {
      "text/html": [
       "<script type=\"text/javascript\">window.PlotlyConfig = {MathJaxConfig: 'local'};</script><script type=\"text/javascript\">if (window.MathJax) {MathJax.Hub.Config({SVG: {font: \"STIX-Web\"}});}</script><script>requirejs.config({paths: { 'plotly': ['https://cdn.plot.ly/plotly-latest.min']},});if(!window._Plotly) {require(['plotly'],function(plotly) {window._Plotly=plotly;});}</script>"
      ],
      "text/vnd.plotly.v1+html": [
       "<script type=\"text/javascript\">window.PlotlyConfig = {MathJaxConfig: 'local'};</script><script type=\"text/javascript\">if (window.MathJax) {MathJax.Hub.Config({SVG: {font: \"STIX-Web\"}});}</script><script>requirejs.config({paths: { 'plotly': ['https://cdn.plot.ly/plotly-latest.min']},});if(!window._Plotly) {require(['plotly'],function(plotly) {window._Plotly=plotly;});}</script>"
      ]
     },
     "metadata": {},
     "output_type": "display_data"
    }
   ],
   "source": [
    "import re\n",
    "from itertools import combinations\n",
    "import psycopg2\n",
    "import numpy as np\n",
    "import pandas as pd\n",
    "import plotly\n",
    "import plotly.plotly as py\n",
    "import plotly.graph_objs as go\n",
    "from IPython import display\n",
    "from bs4 import BeautifulSoup as bs\n",
    "\n",
    "from nbstyler import DATA_STYLE as DS\n",
    "\n",
    "plotly.offline.init_notebook_mode(connected=True) # run at the start of every ipython notebook to use plotly.offline\n",
    "\n",
    "%matplotlib notebook\n",
    "%matplotlib inline"
   ]
  },
  {
   "cell_type": "markdown",
   "metadata": {},
   "source": [
    "### Objectives\n",
    "\n",
    "The main objective for this recipe is to try the plotly implementation of the chord diagram and to provide a clean recipe for preparing such charts in the future. \n",
    "\n",
    "\n",
    "### Data Preparation"
   ]
  },
  {
   "cell_type": "code",
   "execution_count": 2,
   "metadata": {},
   "outputs": [],
   "source": [
    "data_querystr = \"\"\"SELECT * FROM v_full_data_offers_history\"\"\"\n",
    "conn = psycopg2.connect('dbname=jobsbg')\n",
    "data_df = pd.read_sql_query(data_querystr, conn, index_col='subm_date')\n",
    "conn.close()"
   ]
  },
  {
   "cell_type": "code",
   "execution_count": 3,
   "metadata": {},
   "outputs": [
    {
     "data": {
      "text/html": [
       "<div>\n",
       "<style scoped>\n",
       "    .dataframe tbody tr th:only-of-type {\n",
       "        vertical-align: middle;\n",
       "    }\n",
       "\n",
       "    .dataframe tbody tr th {\n",
       "        vertical-align: top;\n",
       "    }\n",
       "\n",
       "    .dataframe thead th {\n",
       "        text-align: right;\n",
       "    }\n",
       "</style>\n",
       "<table border=\"1\" class=\"dataframe\">\n",
       "  <thead>\n",
       "    <tr style=\"text-align: right;\">\n",
       "      <th></th>\n",
       "      <th>subm_type</th>\n",
       "      <th>job_id</th>\n",
       "      <th>company_id</th>\n",
       "      <th>norm_salary</th>\n",
       "      <th>job_title</th>\n",
       "      <th>company_name</th>\n",
       "      <th>text_salary</th>\n",
       "      <th>job_location</th>\n",
       "      <th>job_contents</th>\n",
       "    </tr>\n",
       "    <tr>\n",
       "      <th>subm_date</th>\n",
       "      <th></th>\n",
       "      <th></th>\n",
       "      <th></th>\n",
       "      <th></th>\n",
       "      <th></th>\n",
       "      <th></th>\n",
       "      <th></th>\n",
       "      <th></th>\n",
       "      <th></th>\n",
       "    </tr>\n",
       "  </thead>\n",
       "  <tbody>\n",
       "    <tr>\n",
       "      <th>2017-09-27</th>\n",
       "      <td>submission</td>\n",
       "      <td>3994437</td>\n",
       "      <td>124912</td>\n",
       "      <td>NaN</td>\n",
       "      <td>Data Analyst</td>\n",
       "      <td>ПрайсуотърхаусКупърс Одит ООД</td>\n",
       "      <td>None</td>\n",
       "      <td>София</td>\n",
       "      <td>&lt;!DOCTYPE html PUBLIC \"-//W3C//DTD XHTML 1.0 ...</td>\n",
       "    </tr>\n",
       "  </tbody>\n",
       "</table>\n",
       "</div>"
      ],
      "text/plain": [
       "             subm_type   job_id  company_id  norm_salary     job_title  \\\n",
       "subm_date                                                                \n",
       "2017-09-27  submission  3994437      124912          NaN  Data Analyst   \n",
       "\n",
       "                             company_name text_salary job_location  \\\n",
       "subm_date                                                            \n",
       "2017-09-27  ПрайсуотърхаусКупърс Одит ООД        None        София   \n",
       "\n",
       "                                                 job_contents  \n",
       "subm_date                                                      \n",
       "2017-09-27   <!DOCTYPE html PUBLIC \"-//W3C//DTD XHTML 1.0 ...  "
      ]
     },
     "execution_count": 3,
     "metadata": {},
     "output_type": "execute_result"
    }
   ],
   "source": [
    "data_df.head(1)"
   ]
  },
  {
   "cell_type": "markdown",
   "metadata": {},
   "source": [
    "### Relationship Categories Definition"
   ]
  },
  {
   "cell_type": "markdown",
   "metadata": {},
   "source": [
    "In order to build the necessary data we first need to define the scope of the relationships we aim to observe. The search strings we will compare should be of the same semantic category to provide meaningful insight.\n",
    "\n",
    "To explore the data and prepare proper definitions we took a deep dive in the data offers' text contents. We used the `nltk` library for text processing to produce frequency distributions of most common words, bigrams and trigrams. Then those distributions were used to explore different possible relationship categories. See the details in the [Requirements Deep Dive Notebook](./Data_Offers_Requirements_Deep_Dive.ipynb).\n",
    "\n",
    "For the first chord diagram the chosen view is a breakdown by technology. Other possible relationships to explore are skill requirements breakdown, perks & benefits breakdown, job title breakdown, etc."
   ]
  },
  {
   "cell_type": "markdown",
   "metadata": {},
   "source": [
    "### Data Jobs Technology Requirement Relationships"
   ]
  },
  {
   "cell_type": "markdown",
   "metadata": {},
   "source": [
    "A preliminary list of terms that describe most often sought categories is presented below. We are going to use it to construct regex filters for selected key technologies."
   ]
  },
  {
   "cell_type": "code",
   "execution_count": 4,
   "metadata": {},
   "outputs": [],
   "source": [
    "tech_terms_filters = [\n",
    "    r'power bi', r'excel', r'ss[ir]s',\n",
    "    r'sql server', r'postgresql', r'(mysql)|(mariadb)', r't.?sql', r'pl.?sql',\n",
    "    r'pentaho', r'hadoop', r'spark', r'informatica',\n",
    "    r'qlik', r'tableau', r'microstrategy', r'oracle (bi)|(business intelligence)',\n",
    "    r'python', r'vba', r'linux', r'aws']\n",
    "\n",
    "tech_terms_labels = [\n",
    "    'Power BI', 'Excel', 'SSIS/SSRS',\n",
    "    'MS SQL Server', 'PostgreSQL', 'MySQL/MariaDB', 'T-SQL', 'PL/SQL',\n",
    "    'Pentaho', 'Hadoop', 'Spark', 'Informatica',\n",
    "    'Qlik', 'Tableau', 'Microstrategy', 'Oracle BI',\n",
    "    'Python', 'VBA', 'Linux', 'AWS']"
   ]
  },
  {
   "cell_type": "markdown",
   "metadata": {},
   "source": [
    "#### Preparing a square matrix with counts for matching filters"
   ]
  },
  {
   "cell_type": "markdown",
   "metadata": {},
   "source": [
    "First we define a helper function that returns `True` for job offers where both of the provided patterns are found in the job contents. We also prepare a list of all possible filter patterns' combinations."
   ]
  },
  {
   "cell_type": "code",
   "execution_count": 5,
   "metadata": {},
   "outputs": [],
   "source": [
    "def match_terms(first_term, second_term, text):\n",
    "    match_found = re.search(first_term, text, re.IGNORECASE) and re.search(second_term, text, re.IGNORECASE)\n",
    "    return True if match_found else False\n",
    "\n",
    "    \n",
    "def count_matches(first_term, second_term, col):\n",
    "    return sum([match_terms(first_term, second_term, t) for t in col.values])\n",
    "\n",
    "req_combinations = list(combinations(tech_terms_filters, 2))"
   ]
  },
  {
   "cell_type": "markdown",
   "metadata": {},
   "source": [
    "Building the counts in a dictionary with keys composed of tuples with both search terms. "
   ]
  },
  {
   "cell_type": "code",
   "execution_count": 6,
   "metadata": {},
   "outputs": [
    {
     "name": "stdout",
     "output_type": "stream",
     "text": [
      "CPU times: user 1min 45s, sys: 5.29 ms, total: 1min 45s\n",
      "Wall time: 1min 45s\n"
     ]
    }
   ],
   "source": [
    "%%time\n",
    "match_results = [count_matches(*tup, data_df.job_contents) for tup in req_combinations]\n",
    "match_dict = dict(zip(req_combinations, match_results))"
   ]
  },
  {
   "cell_type": "markdown",
   "metadata": {},
   "source": [
    "Another helper function will unpack the combinations counts into a square matrix form. Finally, a DataFrame is created from the combinations counts matrix. This is our main data source for the chord diagram. "
   ]
  },
  {
   "cell_type": "code",
   "execution_count": 7,
   "metadata": {},
   "outputs": [],
   "source": [
    "def make_matrix(headers, counts):\n",
    "    res = []\n",
    "    for k1 in headers:\n",
    "        row = []\n",
    "        for k2 in headers:\n",
    "            if k1 == k2:\n",
    "                row.append(0)\n",
    "            else:\n",
    "                curr_key = tuple([k1, k2])\n",
    "                cell_value = counts.get(curr_key) if curr_key in counts else counts.get(tuple([k2, k1]))\n",
    "                row.append(cell_value)\n",
    "        res.append(row)\n",
    "    return np.array(res, dtype=int)  "
   ]
  },
  {
   "cell_type": "code",
   "execution_count": 8,
   "metadata": {},
   "outputs": [],
   "source": [
    "tech_terms_matrix = make_matrix(tech_terms_filters, match_dict)"
   ]
  },
  {
   "cell_type": "code",
   "execution_count": 9,
   "metadata": {},
   "outputs": [
    {
     "data": {
      "text/html": [
       "<div>\n",
       "<style scoped>\n",
       "    .dataframe tbody tr th:only-of-type {\n",
       "        vertical-align: middle;\n",
       "    }\n",
       "\n",
       "    .dataframe tbody tr th {\n",
       "        vertical-align: top;\n",
       "    }\n",
       "\n",
       "    .dataframe thead th {\n",
       "        text-align: right;\n",
       "    }\n",
       "</style>\n",
       "<table border=\"1\" class=\"dataframe\">\n",
       "  <thead>\n",
       "    <tr style=\"text-align: right;\">\n",
       "      <th></th>\n",
       "      <th>Power BI</th>\n",
       "      <th>Excel</th>\n",
       "      <th>SSIS/SSRS</th>\n",
       "      <th>MS SQL Server</th>\n",
       "      <th>PostgreSQL</th>\n",
       "      <th>MySQL/MariaDB</th>\n",
       "      <th>T-SQL</th>\n",
       "      <th>PL/SQL</th>\n",
       "      <th>Pentaho</th>\n",
       "      <th>Hadoop</th>\n",
       "      <th>Spark</th>\n",
       "      <th>Informatica</th>\n",
       "      <th>Qlik</th>\n",
       "      <th>Tableau</th>\n",
       "      <th>Microstrategy</th>\n",
       "      <th>Oracle BI</th>\n",
       "      <th>Python</th>\n",
       "      <th>VBA</th>\n",
       "      <th>Linux</th>\n",
       "      <th>AWS</th>\n",
       "    </tr>\n",
       "  </thead>\n",
       "  <tbody>\n",
       "    <tr>\n",
       "      <th>Power BI</th>\n",
       "      <td>0</td>\n",
       "      <td>156</td>\n",
       "      <td>90</td>\n",
       "      <td>85</td>\n",
       "      <td>0</td>\n",
       "      <td>5</td>\n",
       "      <td>30</td>\n",
       "      <td>3</td>\n",
       "      <td>7</td>\n",
       "      <td>17</td>\n",
       "      <td>22</td>\n",
       "      <td>7</td>\n",
       "      <td>115</td>\n",
       "      <td>118</td>\n",
       "      <td>13</td>\n",
       "      <td>91</td>\n",
       "      <td>46</td>\n",
       "      <td>24</td>\n",
       "      <td>2</td>\n",
       "      <td>5</td>\n",
       "    </tr>\n",
       "    <tr>\n",
       "      <th>Excel</th>\n",
       "      <td>156</td>\n",
       "      <td>0</td>\n",
       "      <td>367</td>\n",
       "      <td>203</td>\n",
       "      <td>39</td>\n",
       "      <td>81</td>\n",
       "      <td>148</td>\n",
       "      <td>47</td>\n",
       "      <td>55</td>\n",
       "      <td>57</td>\n",
       "      <td>63</td>\n",
       "      <td>113</td>\n",
       "      <td>309</td>\n",
       "      <td>334</td>\n",
       "      <td>29</td>\n",
       "      <td>460</td>\n",
       "      <td>245</td>\n",
       "      <td>170</td>\n",
       "      <td>54</td>\n",
       "      <td>36</td>\n",
       "    </tr>\n",
       "    <tr>\n",
       "      <th>SSIS/SSRS</th>\n",
       "      <td>90</td>\n",
       "      <td>367</td>\n",
       "      <td>0</td>\n",
       "      <td>196</td>\n",
       "      <td>18</td>\n",
       "      <td>42</td>\n",
       "      <td>102</td>\n",
       "      <td>23</td>\n",
       "      <td>28</td>\n",
       "      <td>28</td>\n",
       "      <td>35</td>\n",
       "      <td>57</td>\n",
       "      <td>53</td>\n",
       "      <td>107</td>\n",
       "      <td>17</td>\n",
       "      <td>179</td>\n",
       "      <td>118</td>\n",
       "      <td>54</td>\n",
       "      <td>14</td>\n",
       "      <td>20</td>\n",
       "    </tr>\n",
       "    <tr>\n",
       "      <th>MS SQL Server</th>\n",
       "      <td>85</td>\n",
       "      <td>203</td>\n",
       "      <td>196</td>\n",
       "      <td>0</td>\n",
       "      <td>36</td>\n",
       "      <td>50</td>\n",
       "      <td>140</td>\n",
       "      <td>10</td>\n",
       "      <td>39</td>\n",
       "      <td>24</td>\n",
       "      <td>20</td>\n",
       "      <td>50</td>\n",
       "      <td>41</td>\n",
       "      <td>69</td>\n",
       "      <td>14</td>\n",
       "      <td>111</td>\n",
       "      <td>77</td>\n",
       "      <td>33</td>\n",
       "      <td>31</td>\n",
       "      <td>9</td>\n",
       "    </tr>\n",
       "    <tr>\n",
       "      <th>PostgreSQL</th>\n",
       "      <td>0</td>\n",
       "      <td>39</td>\n",
       "      <td>18</td>\n",
       "      <td>36</td>\n",
       "      <td>0</td>\n",
       "      <td>50</td>\n",
       "      <td>27</td>\n",
       "      <td>0</td>\n",
       "      <td>36</td>\n",
       "      <td>3</td>\n",
       "      <td>5</td>\n",
       "      <td>0</td>\n",
       "      <td>9</td>\n",
       "      <td>5</td>\n",
       "      <td>0</td>\n",
       "      <td>24</td>\n",
       "      <td>20</td>\n",
       "      <td>0</td>\n",
       "      <td>25</td>\n",
       "      <td>0</td>\n",
       "    </tr>\n",
       "    <tr>\n",
       "      <th>MySQL/MariaDB</th>\n",
       "      <td>5</td>\n",
       "      <td>81</td>\n",
       "      <td>42</td>\n",
       "      <td>50</td>\n",
       "      <td>50</td>\n",
       "      <td>0</td>\n",
       "      <td>33</td>\n",
       "      <td>0</td>\n",
       "      <td>54</td>\n",
       "      <td>3</td>\n",
       "      <td>18</td>\n",
       "      <td>8</td>\n",
       "      <td>13</td>\n",
       "      <td>35</td>\n",
       "      <td>0</td>\n",
       "      <td>44</td>\n",
       "      <td>41</td>\n",
       "      <td>2</td>\n",
       "      <td>30</td>\n",
       "      <td>0</td>\n",
       "    </tr>\n",
       "    <tr>\n",
       "      <th>T-SQL</th>\n",
       "      <td>30</td>\n",
       "      <td>148</td>\n",
       "      <td>102</td>\n",
       "      <td>140</td>\n",
       "      <td>27</td>\n",
       "      <td>33</td>\n",
       "      <td>0</td>\n",
       "      <td>28</td>\n",
       "      <td>31</td>\n",
       "      <td>16</td>\n",
       "      <td>16</td>\n",
       "      <td>11</td>\n",
       "      <td>52</td>\n",
       "      <td>72</td>\n",
       "      <td>6</td>\n",
       "      <td>102</td>\n",
       "      <td>43</td>\n",
       "      <td>26</td>\n",
       "      <td>21</td>\n",
       "      <td>8</td>\n",
       "    </tr>\n",
       "    <tr>\n",
       "      <th>PL/SQL</th>\n",
       "      <td>3</td>\n",
       "      <td>47</td>\n",
       "      <td>23</td>\n",
       "      <td>10</td>\n",
       "      <td>0</td>\n",
       "      <td>0</td>\n",
       "      <td>28</td>\n",
       "      <td>0</td>\n",
       "      <td>8</td>\n",
       "      <td>3</td>\n",
       "      <td>0</td>\n",
       "      <td>21</td>\n",
       "      <td>10</td>\n",
       "      <td>13</td>\n",
       "      <td>17</td>\n",
       "      <td>71</td>\n",
       "      <td>2</td>\n",
       "      <td>5</td>\n",
       "      <td>1</td>\n",
       "      <td>1</td>\n",
       "    </tr>\n",
       "    <tr>\n",
       "      <th>Pentaho</th>\n",
       "      <td>7</td>\n",
       "      <td>55</td>\n",
       "      <td>28</td>\n",
       "      <td>39</td>\n",
       "      <td>36</td>\n",
       "      <td>54</td>\n",
       "      <td>31</td>\n",
       "      <td>8</td>\n",
       "      <td>0</td>\n",
       "      <td>0</td>\n",
       "      <td>6</td>\n",
       "      <td>31</td>\n",
       "      <td>22</td>\n",
       "      <td>33</td>\n",
       "      <td>2</td>\n",
       "      <td>30</td>\n",
       "      <td>34</td>\n",
       "      <td>1</td>\n",
       "      <td>30</td>\n",
       "      <td>13</td>\n",
       "    </tr>\n",
       "    <tr>\n",
       "      <th>Hadoop</th>\n",
       "      <td>17</td>\n",
       "      <td>57</td>\n",
       "      <td>28</td>\n",
       "      <td>24</td>\n",
       "      <td>3</td>\n",
       "      <td>3</td>\n",
       "      <td>16</td>\n",
       "      <td>3</td>\n",
       "      <td>0</td>\n",
       "      <td>0</td>\n",
       "      <td>94</td>\n",
       "      <td>5</td>\n",
       "      <td>9</td>\n",
       "      <td>32</td>\n",
       "      <td>3</td>\n",
       "      <td>28</td>\n",
       "      <td>99</td>\n",
       "      <td>6</td>\n",
       "      <td>61</td>\n",
       "      <td>31</td>\n",
       "    </tr>\n",
       "    <tr>\n",
       "      <th>Spark</th>\n",
       "      <td>22</td>\n",
       "      <td>63</td>\n",
       "      <td>35</td>\n",
       "      <td>20</td>\n",
       "      <td>5</td>\n",
       "      <td>18</td>\n",
       "      <td>16</td>\n",
       "      <td>0</td>\n",
       "      <td>6</td>\n",
       "      <td>94</td>\n",
       "      <td>0</td>\n",
       "      <td>8</td>\n",
       "      <td>15</td>\n",
       "      <td>32</td>\n",
       "      <td>3</td>\n",
       "      <td>25</td>\n",
       "      <td>114</td>\n",
       "      <td>6</td>\n",
       "      <td>46</td>\n",
       "      <td>36</td>\n",
       "    </tr>\n",
       "    <tr>\n",
       "      <th>Informatica</th>\n",
       "      <td>7</td>\n",
       "      <td>113</td>\n",
       "      <td>57</td>\n",
       "      <td>50</td>\n",
       "      <td>0</td>\n",
       "      <td>8</td>\n",
       "      <td>11</td>\n",
       "      <td>21</td>\n",
       "      <td>31</td>\n",
       "      <td>5</td>\n",
       "      <td>8</td>\n",
       "      <td>0</td>\n",
       "      <td>90</td>\n",
       "      <td>61</td>\n",
       "      <td>8</td>\n",
       "      <td>114</td>\n",
       "      <td>24</td>\n",
       "      <td>3</td>\n",
       "      <td>4</td>\n",
       "      <td>16</td>\n",
       "    </tr>\n",
       "    <tr>\n",
       "      <th>Qlik</th>\n",
       "      <td>115</td>\n",
       "      <td>309</td>\n",
       "      <td>53</td>\n",
       "      <td>41</td>\n",
       "      <td>9</td>\n",
       "      <td>13</td>\n",
       "      <td>52</td>\n",
       "      <td>10</td>\n",
       "      <td>22</td>\n",
       "      <td>9</td>\n",
       "      <td>15</td>\n",
       "      <td>90</td>\n",
       "      <td>0</td>\n",
       "      <td>264</td>\n",
       "      <td>22</td>\n",
       "      <td>241</td>\n",
       "      <td>30</td>\n",
       "      <td>26</td>\n",
       "      <td>2</td>\n",
       "      <td>2</td>\n",
       "    </tr>\n",
       "    <tr>\n",
       "      <th>Tableau</th>\n",
       "      <td>118</td>\n",
       "      <td>334</td>\n",
       "      <td>107</td>\n",
       "      <td>69</td>\n",
       "      <td>5</td>\n",
       "      <td>35</td>\n",
       "      <td>72</td>\n",
       "      <td>13</td>\n",
       "      <td>33</td>\n",
       "      <td>32</td>\n",
       "      <td>32</td>\n",
       "      <td>61</td>\n",
       "      <td>264</td>\n",
       "      <td>0</td>\n",
       "      <td>32</td>\n",
       "      <td>301</td>\n",
       "      <td>87</td>\n",
       "      <td>51</td>\n",
       "      <td>10</td>\n",
       "      <td>25</td>\n",
       "    </tr>\n",
       "    <tr>\n",
       "      <th>Microstrategy</th>\n",
       "      <td>13</td>\n",
       "      <td>29</td>\n",
       "      <td>17</td>\n",
       "      <td>14</td>\n",
       "      <td>0</td>\n",
       "      <td>0</td>\n",
       "      <td>6</td>\n",
       "      <td>17</td>\n",
       "      <td>2</td>\n",
       "      <td>3</td>\n",
       "      <td>3</td>\n",
       "      <td>8</td>\n",
       "      <td>22</td>\n",
       "      <td>32</td>\n",
       "      <td>0</td>\n",
       "      <td>43</td>\n",
       "      <td>11</td>\n",
       "      <td>6</td>\n",
       "      <td>2</td>\n",
       "      <td>2</td>\n",
       "    </tr>\n",
       "    <tr>\n",
       "      <th>Oracle BI</th>\n",
       "      <td>91</td>\n",
       "      <td>460</td>\n",
       "      <td>179</td>\n",
       "      <td>111</td>\n",
       "      <td>24</td>\n",
       "      <td>44</td>\n",
       "      <td>102</td>\n",
       "      <td>71</td>\n",
       "      <td>30</td>\n",
       "      <td>28</td>\n",
       "      <td>25</td>\n",
       "      <td>114</td>\n",
       "      <td>241</td>\n",
       "      <td>301</td>\n",
       "      <td>43</td>\n",
       "      <td>0</td>\n",
       "      <td>105</td>\n",
       "      <td>55</td>\n",
       "      <td>3</td>\n",
       "      <td>38</td>\n",
       "    </tr>\n",
       "    <tr>\n",
       "      <th>Python</th>\n",
       "      <td>46</td>\n",
       "      <td>245</td>\n",
       "      <td>118</td>\n",
       "      <td>77</td>\n",
       "      <td>20</td>\n",
       "      <td>41</td>\n",
       "      <td>43</td>\n",
       "      <td>2</td>\n",
       "      <td>34</td>\n",
       "      <td>99</td>\n",
       "      <td>114</td>\n",
       "      <td>24</td>\n",
       "      <td>30</td>\n",
       "      <td>87</td>\n",
       "      <td>11</td>\n",
       "      <td>105</td>\n",
       "      <td>0</td>\n",
       "      <td>51</td>\n",
       "      <td>69</td>\n",
       "      <td>66</td>\n",
       "    </tr>\n",
       "    <tr>\n",
       "      <th>VBA</th>\n",
       "      <td>24</td>\n",
       "      <td>170</td>\n",
       "      <td>54</td>\n",
       "      <td>33</td>\n",
       "      <td>0</td>\n",
       "      <td>2</td>\n",
       "      <td>26</td>\n",
       "      <td>5</td>\n",
       "      <td>1</td>\n",
       "      <td>6</td>\n",
       "      <td>6</td>\n",
       "      <td>3</td>\n",
       "      <td>26</td>\n",
       "      <td>51</td>\n",
       "      <td>6</td>\n",
       "      <td>55</td>\n",
       "      <td>51</td>\n",
       "      <td>0</td>\n",
       "      <td>0</td>\n",
       "      <td>2</td>\n",
       "    </tr>\n",
       "    <tr>\n",
       "      <th>Linux</th>\n",
       "      <td>2</td>\n",
       "      <td>54</td>\n",
       "      <td>14</td>\n",
       "      <td>31</td>\n",
       "      <td>25</td>\n",
       "      <td>30</td>\n",
       "      <td>21</td>\n",
       "      <td>1</td>\n",
       "      <td>30</td>\n",
       "      <td>61</td>\n",
       "      <td>46</td>\n",
       "      <td>4</td>\n",
       "      <td>2</td>\n",
       "      <td>10</td>\n",
       "      <td>2</td>\n",
       "      <td>3</td>\n",
       "      <td>69</td>\n",
       "      <td>0</td>\n",
       "      <td>0</td>\n",
       "      <td>19</td>\n",
       "    </tr>\n",
       "    <tr>\n",
       "      <th>AWS</th>\n",
       "      <td>5</td>\n",
       "      <td>36</td>\n",
       "      <td>20</td>\n",
       "      <td>9</td>\n",
       "      <td>0</td>\n",
       "      <td>0</td>\n",
       "      <td>8</td>\n",
       "      <td>1</td>\n",
       "      <td>13</td>\n",
       "      <td>31</td>\n",
       "      <td>36</td>\n",
       "      <td>16</td>\n",
       "      <td>2</td>\n",
       "      <td>25</td>\n",
       "      <td>2</td>\n",
       "      <td>38</td>\n",
       "      <td>66</td>\n",
       "      <td>2</td>\n",
       "      <td>19</td>\n",
       "      <td>0</td>\n",
       "    </tr>\n",
       "  </tbody>\n",
       "</table>\n",
       "</div>"
      ],
      "text/plain": [
       "               Power BI  Excel  SSIS/SSRS  MS SQL Server  PostgreSQL  \\\n",
       "Power BI              0    156         90             85           0   \n",
       "Excel               156      0        367            203          39   \n",
       "SSIS/SSRS            90    367          0            196          18   \n",
       "MS SQL Server        85    203        196              0          36   \n",
       "PostgreSQL            0     39         18             36           0   \n",
       "MySQL/MariaDB         5     81         42             50          50   \n",
       "T-SQL                30    148        102            140          27   \n",
       "PL/SQL                3     47         23             10           0   \n",
       "Pentaho               7     55         28             39          36   \n",
       "Hadoop               17     57         28             24           3   \n",
       "Spark                22     63         35             20           5   \n",
       "Informatica           7    113         57             50           0   \n",
       "Qlik                115    309         53             41           9   \n",
       "Tableau             118    334        107             69           5   \n",
       "Microstrategy        13     29         17             14           0   \n",
       "Oracle BI            91    460        179            111          24   \n",
       "Python               46    245        118             77          20   \n",
       "VBA                  24    170         54             33           0   \n",
       "Linux                 2     54         14             31          25   \n",
       "AWS                   5     36         20              9           0   \n",
       "\n",
       "               MySQL/MariaDB  T-SQL  PL/SQL  Pentaho  Hadoop  Spark  \\\n",
       "Power BI                   5     30       3        7      17     22   \n",
       "Excel                     81    148      47       55      57     63   \n",
       "SSIS/SSRS                 42    102      23       28      28     35   \n",
       "MS SQL Server             50    140      10       39      24     20   \n",
       "PostgreSQL                50     27       0       36       3      5   \n",
       "MySQL/MariaDB              0     33       0       54       3     18   \n",
       "T-SQL                     33      0      28       31      16     16   \n",
       "PL/SQL                     0     28       0        8       3      0   \n",
       "Pentaho                   54     31       8        0       0      6   \n",
       "Hadoop                     3     16       3        0       0     94   \n",
       "Spark                     18     16       0        6      94      0   \n",
       "Informatica                8     11      21       31       5      8   \n",
       "Qlik                      13     52      10       22       9     15   \n",
       "Tableau                   35     72      13       33      32     32   \n",
       "Microstrategy              0      6      17        2       3      3   \n",
       "Oracle BI                 44    102      71       30      28     25   \n",
       "Python                    41     43       2       34      99    114   \n",
       "VBA                        2     26       5        1       6      6   \n",
       "Linux                     30     21       1       30      61     46   \n",
       "AWS                        0      8       1       13      31     36   \n",
       "\n",
       "               Informatica  Qlik  Tableau  Microstrategy  Oracle BI  Python  \\\n",
       "Power BI                 7   115      118             13         91      46   \n",
       "Excel                  113   309      334             29        460     245   \n",
       "SSIS/SSRS               57    53      107             17        179     118   \n",
       "MS SQL Server           50    41       69             14        111      77   \n",
       "PostgreSQL               0     9        5              0         24      20   \n",
       "MySQL/MariaDB            8    13       35              0         44      41   \n",
       "T-SQL                   11    52       72              6        102      43   \n",
       "PL/SQL                  21    10       13             17         71       2   \n",
       "Pentaho                 31    22       33              2         30      34   \n",
       "Hadoop                   5     9       32              3         28      99   \n",
       "Spark                    8    15       32              3         25     114   \n",
       "Informatica              0    90       61              8        114      24   \n",
       "Qlik                    90     0      264             22        241      30   \n",
       "Tableau                 61   264        0             32        301      87   \n",
       "Microstrategy            8    22       32              0         43      11   \n",
       "Oracle BI              114   241      301             43          0     105   \n",
       "Python                  24    30       87             11        105       0   \n",
       "VBA                      3    26       51              6         55      51   \n",
       "Linux                    4     2       10              2          3      69   \n",
       "AWS                     16     2       25              2         38      66   \n",
       "\n",
       "               VBA  Linux  AWS  \n",
       "Power BI        24      2    5  \n",
       "Excel          170     54   36  \n",
       "SSIS/SSRS       54     14   20  \n",
       "MS SQL Server   33     31    9  \n",
       "PostgreSQL       0     25    0  \n",
       "MySQL/MariaDB    2     30    0  \n",
       "T-SQL           26     21    8  \n",
       "PL/SQL           5      1    1  \n",
       "Pentaho          1     30   13  \n",
       "Hadoop           6     61   31  \n",
       "Spark            6     46   36  \n",
       "Informatica      3      4   16  \n",
       "Qlik            26      2    2  \n",
       "Tableau         51     10   25  \n",
       "Microstrategy    6      2    2  \n",
       "Oracle BI       55      3   38  \n",
       "Python          51     69   66  \n",
       "VBA              0      0    2  \n",
       "Linux            0      0   19  \n",
       "AWS              2     19    0  "
      ]
     },
     "execution_count": 9,
     "metadata": {},
     "output_type": "execute_result"
    }
   ],
   "source": [
    "tech_terms_df = pd.DataFrame(tech_terms_matrix, columns=tech_terms_labels, index=tech_terms_labels)\n",
    "tech_terms_df"
   ]
  },
  {
   "cell_type": "markdown",
   "metadata": {},
   "source": [
    "We can finally move to Plotly. \n",
    "\n",
    "A chord diagram encodes information in two graphical objects:\n",
    "\n",
    "- Ideograms, represented by distinctly colored arcs of circles;\n",
    "- Ribbons, that are planar shapes bounded by two quadratic Bezier curves and two arcs of circle,that can degenerate to a point;\n"
   ]
  },
  {
   "cell_type": "markdown",
   "metadata": {},
   "source": [
    "### Ideograms Preparation"
   ]
  },
  {
   "cell_type": "markdown",
   "metadata": {},
   "source": [
    "For each of our predefined tech terms we can produce a total hits count by summing up all the entries on the row (or column for that matter). That total count determines the size of each ideogram of the chart.\n",
    "\n",
    "We are going to need a couple of helper functions to process the data in order to get ideogram ends.\n"
   ]
  },
  {
   "cell_type": "code",
   "execution_count": 10,
   "metadata": {},
   "outputs": [],
   "source": [
    "PI = np.pi\n",
    "\n",
    "def moduloAB(x, a, b):\n",
    "    if a >= b:\n",
    "        raise ValueError('Incorrect interval ends')\n",
    "    y = (x-a) % (b-a)\n",
    "    return y+b if y < 0 else y+a\n",
    "\n",
    "\n",
    "def test_2PI(x):\n",
    "    return 0 <= x < 2*PI"
   ]
  },
  {
   "cell_type": "markdown",
   "metadata": {},
   "source": [
    "And now use them to compute the row sums and the lengths of corresponding ideograms."
   ]
  },
  {
   "cell_type": "code",
   "execution_count": 11,
   "metadata": {},
   "outputs": [],
   "source": [
    "row_sum = [np.sum(tech_terms_matrix[k, :]) for k in range(len(tech_terms_filters))]\n",
    "\n",
    "#set the gap between two consecutive ideograms\n",
    "gap = 2*PI*0.005\n",
    "ideogram_length = 2*PI*np.asarray(row_sum)/sum(row_sum)-gap*np.ones(len(tech_terms_filters))"
   ]
  },
  {
   "cell_type": "markdown",
   "metadata": {},
   "source": [
    "The next function returns the list of end angular coordinates for each ideogram arc:\n"
   ]
  },
  {
   "cell_type": "code",
   "execution_count": 12,
   "metadata": {},
   "outputs": [],
   "source": [
    "def get_ideogram_ends(ideogram_len, gap):\n",
    "    ideo_ends = []\n",
    "    left = 0\n",
    "    for k in range(len(ideogram_len)):\n",
    "        right = left+ideogram_len[k]\n",
    "        ideo_ends.append([left, right])\n",
    "        left = right+gap\n",
    "    return ideo_ends\n",
    "\n",
    "ideo_ends = get_ideogram_ends(ideogram_length, gap)"
   ]
  },
  {
   "cell_type": "markdown",
   "metadata": {},
   "source": [
    "The function make_ideogram_arc returns equally spaced points on an ideogram arc, expressed as complex numbers in polar form:"
   ]
  },
  {
   "cell_type": "code",
   "execution_count": 13,
   "metadata": {},
   "outputs": [],
   "source": [
    "def make_ideogram_arc(R, phi, a=50):\n",
    "    if not test_2PI(phi[0]) or not test_2PI(phi[1]):\n",
    "        phi = [moduloAB(t, 0, 2*PI) for t in phi]\n",
    "    length = (phi[1]-phi[0]) % 2*PI\n",
    "    nr = 5 if length <= PI/4 else int(a*length/PI)\n",
    "    if phi[0] < phi[1]:\n",
    "        theta = np.linspace(phi[0], phi[1], nr)\n",
    "    else:\n",
    "        phi = [moduloAB(t, -PI, PI) for t in phi]\n",
    "        theta = np.linspace(phi[0], phi[1], nr)\n",
    "    return R*np.exp(1j*theta)"
   ]
  },
  {
   "cell_type": "code",
   "execution_count": 14,
   "metadata": {},
   "outputs": [],
   "source": [
    "z = make_ideogram_arc(1.3, [11*PI/6, PI/17])"
   ]
  },
  {
   "cell_type": "markdown",
   "metadata": {},
   "source": [
    "### Ribbons Preparation"
   ]
  },
  {
   "cell_type": "markdown",
   "metadata": {},
   "source": [
    "The function map_data maps all matrix entries to the corresponding values in the intervals associated to ideograms:"
   ]
  },
  {
   "cell_type": "code",
   "execution_count": 15,
   "metadata": {},
   "outputs": [],
   "source": [
    "def map_data(data_matrix, row_value, ideogram_length):\n",
    "    mapped = np.zeros(data_matrix.shape)\n",
    "    for j in range(len(tech_terms_filters)):\n",
    "        mapped[:, j] = ideogram_length*data_matrix[:, j]/row_value\n",
    "    return mapped\n",
    "\n",
    "mapped_data = map_data(tech_terms_matrix, row_sum, ideogram_length)"
   ]
  },
  {
   "cell_type": "markdown",
   "metadata": {},
   "source": [
    "The array idx_sort, defined below, has on each row the indices that sort the corresponding row in mapped_data:\n"
   ]
  },
  {
   "cell_type": "code",
   "execution_count": 16,
   "metadata": {},
   "outputs": [],
   "source": [
    "idx_sort = np.argsort(mapped_data, axis=1)"
   ]
  },
  {
   "cell_type": "code",
   "execution_count": 17,
   "metadata": {},
   "outputs": [
    {
     "name": "stdout",
     "output_type": "stream",
     "text": [
      "ribbon ends starting from the ideogram[2]\n",
      " [(1.2843371256933755, 1.2843371256933755), (1.2843371256933755, 1.2887822815902403), (1.2887822815902403, 1.2941799708935762), (1.2941799708935762, 1.2998951713324023), (1.2998951713324023, 1.3062453940422092), (1.3062453940422092, 1.3135481501584871), (1.3135481501584871, 1.3224384619522167), (1.3224384619522167, 1.3313287737459463), (1.3313287737459463, 1.3424416634881082), (1.3424416634881082, 1.3557771311787026), (1.3557771311787026, 1.3726052213596907), (1.3726052213596907, 1.389750822676169), (1.389750822676169, 1.4078489573991184), (1.4078489573991184, 1.4364249595932492), (1.4364249595932492, 1.468811095413264), (1.468811095413264, 1.5027847869107305), (1.5027847869107305, 1.5402511008985909), (1.5402511008985909, 1.597085594151362), (1.597085594151362, 1.659317776707469), (1.659317776707469, 1.7758443634324241)]\n"
     ]
    }
   ],
   "source": [
    "def make_ribbon_ends(mapped_data, ideo_ends,  idx_sort):\n",
    "    L = mapped_data.shape[0]\n",
    "    ribbon_boundary = np.zeros((L, L+1))\n",
    "    for k in range(L):\n",
    "        start = ideo_ends[k][0]\n",
    "        ribbon_boundary[k][0] = start\n",
    "        for j in range(1, L+1):\n",
    "            J = idx_sort[k][j-1]\n",
    "            ribbon_boundary[k][j] = start+mapped_data[k][J]\n",
    "            start = ribbon_boundary[k][j]\n",
    "    return [[(ribbon_boundary[k][j], ribbon_boundary[k][j+1]) for j in range(L)] for k in range(L)]\n",
    "\n",
    "\n",
    "ribbon_ends = make_ribbon_ends(mapped_data, ideo_ends, idx_sort)\n",
    "print('ribbon ends starting from the ideogram[2]\\n', ribbon_ends[2])"
   ]
  },
  {
   "cell_type": "code",
   "execution_count": 18,
   "metadata": {},
   "outputs": [],
   "source": [
    "def control_pts(angle, radius):\n",
    "    if len(angle) != 3:\n",
    "        raise InvalidInputError('angle must have len =3')\n",
    "    b_cplx = np.array([np.exp(1j*angle[k]) for k in range(3)])\n",
    "    b_cplx[1] = radius*b_cplx[1]\n",
    "    return zip(b_cplx.real, b_cplx.imag)"
   ]
  },
  {
   "cell_type": "code",
   "execution_count": 19,
   "metadata": {},
   "outputs": [],
   "source": [
    "def ctrl_rib_chords(l, r, radius):\n",
    "    if len(l) != 2 or len(r) != 2:\n",
    "        raise ValueError('the arc ends must be elements in a list of len 2')\n",
    "    return [control_pts([l[j], (l[j]+r[j])/2, r[j]], radius) for j in range(2)]"
   ]
  },
  {
   "cell_type": "code",
   "execution_count": 20,
   "metadata": {},
   "outputs": [
    {
     "data": {
      "text/plain": [
       "'M 1,4 Q -0.5, 2.35 3.745, 1.47'"
      ]
     },
     "execution_count": 20,
     "metadata": {},
     "output_type": "execute_result"
    }
   ],
   "source": [
    "def make_q_bezier(b):\n",
    "    if len(b) != 3:\n",
    "        raise ValueError('control poligon must have 3 points')\n",
    "    A, B, C = b\n",
    "    return 'M ' + str(A[0]) + ',' + str(A[1]) + ' ' + 'Q ' + \\\n",
    "        str(B[0]) + ', ' + str(B[1]) + ' ' + \\\n",
    "        str(C[0]) + ', ' + str(C[1])\n",
    "\n",
    "\n",
    "b = [(1,4), (-0.5, 2.35), (3.745, 1.47)]\n",
    "make_q_bezier(b)"
   ]
  },
  {
   "cell_type": "code",
   "execution_count": 21,
   "metadata": {},
   "outputs": [],
   "source": [
    "def make_ribbon_arc(theta0, theta1):\n",
    "    if test_2PI(theta0) and test_2PI(theta1):\n",
    "        if theta0 < theta1:\n",
    "            theta0 = moduloAB(theta0, -PI, PI)\n",
    "            theta1 = moduloAB(theta1, -PI, PI)\n",
    "            if theta0*theta1 > 0:\n",
    "                raise ValueError('incorrect angle coordinates for ribbon')\n",
    "\n",
    "        nr = int(40*(theta0-theta1)/PI)\n",
    "        if nr <= 2: \n",
    "            nr = 3\n",
    "        theta = np.linspace(theta0, theta1, nr)\n",
    "        pts = np.exp(1j*theta)\n",
    "\n",
    "        string_arc = ''\n",
    "        for k in range(len(theta)):\n",
    "            string_arc += 'L ' + str(pts.real[k]) + ', ' + str(pts.imag[k]) + ' '\n",
    "        return string_arc\n",
    "    else:\n",
    "        raise ValueError('the angle coordinates for an arc side of a ribbon must be in [0, 2*pi]')"
   ]
  },
  {
   "cell_type": "code",
   "execution_count": 22,
   "metadata": {},
   "outputs": [],
   "source": [
    "def make_ideo_shape(path, line_color, fill_color):\n",
    "    return dict(\n",
    "        line=dict(color=line_color, width=0.45),\n",
    "        path=path,\n",
    "        type='path',\n",
    "        fillcolor=fill_color,\n",
    "        layer='below',\n",
    "    )"
   ]
  },
  {
   "cell_type": "code",
   "execution_count": 23,
   "metadata": {},
   "outputs": [],
   "source": [
    "temp_colors = [*DS['colorramp']['acc1'], *DS['colorramp']['acc2']]\n",
    "len_datalist = len(tech_terms_filters)\n",
    "ideo_colors = temp_colors[:len_datalist]"
   ]
  },
  {
   "cell_type": "code",
   "execution_count": 24,
   "metadata": {},
   "outputs": [],
   "source": [
    "def make_ribbon(l, r, line_color, fill_color, radius=0.2):\n",
    "    poligon = ctrl_rib_chords(l, r, radius)\n",
    "    b, c = poligon\n",
    "\n",
    "    return dict(\n",
    "        line=dict(\n",
    "            color=line_color,\n",
    "            width=0.5\n",
    "            ),\n",
    "        path=make_q_bezier(list(b))+make_ribbon_arc(r[0], r[1])+make_q_bezier(list(c)[::-1])+make_ribbon_arc(l[1], l[0]),\n",
    "        type='path',\n",
    "        fillcolor=fill_color,\n",
    "        layer='below'\n",
    "    )\n",
    "\n",
    "\n",
    "def make_self_rel(l, line_color, fill_color, radius):\n",
    "    b = control_pts([l[0], (l[0]+l[1])/2, l[1]], radius)\n",
    "    return dict(\n",
    "        line=dict(\n",
    "            color=line_color,\n",
    "            width=0.5\n",
    "            ),\n",
    "        path=make_q_bezier(b)+make_ribbon_arc(l[1], l[0]),\n",
    "        type='path',\n",
    "        fillcolor=fill_color,\n",
    "        layer='below'\n",
    "    )\n",
    "\n",
    "\n",
    "def invPerm(perm):\n",
    "    inv = [0] * len(perm)\n",
    "    for i, s in enumerate(perm):\n",
    "        inv[s] = i\n",
    "    return inv"
   ]
  },
  {
   "cell_type": "code",
   "execution_count": 25,
   "metadata": {},
   "outputs": [],
   "source": [
    "radii_sribb = [0.4, 0.30, 0.35, 0.39, 0.12]"
   ]
  },
  {
   "cell_type": "code",
   "execution_count": 26,
   "metadata": {},
   "outputs": [],
   "source": [
    "shapes = []\n",
    "ribbon_info = []\n",
    "\n",
    "for k in range(len(tech_terms_filters)):\n",
    "    sigma = idx_sort[k]\n",
    "    sigma_inv = invPerm(sigma)\n",
    "    for j in range(k, len(tech_terms_filters)):\n",
    "        if tech_terms_matrix[k][j] == 0 and tech_terms_matrix[j][k] == 0:\n",
    "            continue\n",
    "        eta = idx_sort[j]\n",
    "        eta_inv = invPerm(eta)\n",
    "        l = ribbon_ends[k][sigma_inv[j]]\n",
    "\n",
    "        if j == k:\n",
    "            shapes.append(make_self_rel(l, DS['colors']['acc1'], ideo_colors[k], radius=radii_sribb[k]))\n",
    "            z = 0.9*np.exp(1j*(l[0]+l[1])/2)\n",
    "            text = tech_terms_labels[k]+' appears in ' + '{:d}'.format(tech_terms_matrix[k][k]),\n",
    "            ribbon_info.append(\n",
    "                go.Scatter(\n",
    "                    x=[z.real],\n",
    "                    y=[z.imag],\n",
    "                    mode='markers',\n",
    "                    marker=dict(size=0.5, color=ideo_colors[k]),\n",
    "                    text=text,\n",
    "                    hoverinfo='text',\n",
    "                ),\n",
    "            )\n",
    "        else:\n",
    "            r = ribbon_ends[j][eta_inv[k]]\n",
    "            zi = 0.9*np.exp(1j*(l[0]+l[1])/2)\n",
    "            zf = 0.9*np.exp(1j*(r[0]+r[1])/2)\n",
    "            texti = tech_terms_labels[k]+' appears with '+tech_terms_labels[j]+' {:d}'.format(tech_terms_matrix[k][j])+' times'\n",
    "            textf = tech_terms_labels[j]+' appears with '+tech_terms_labels[k]+' {:d}'.format(tech_terms_matrix[j][k])+' times'\n",
    "\n",
    "            ribbon_info.append(go.Scatter(\n",
    "                x=[zi.real],\n",
    "                y=[zi.imag],\n",
    "                mode='markers',\n",
    "                marker=dict(size=0.5, color='green'),\n",
    "                text=texti,\n",
    "                hoverinfo='text'\n",
    "            )),\n",
    "            ribbon_info.append(go.Scatter(\n",
    "                x=[zf.real],\n",
    "                y=[zf.imag],\n",
    "                mode='markers',\n",
    "                marker=dict(size=0.5, color='blue'),\n",
    "                text=textf,\n",
    "                hoverinfo='text'\n",
    "            ))\n",
    "            r = (r[1], r[0])\n",
    "            shapes.append(make_ribbon(l, r, 'rgb(175,175,175)', ideo_colors[k]))"
   ]
  },
  {
   "cell_type": "code",
   "execution_count": 27,
   "metadata": {},
   "outputs": [
    {
     "name": "stderr",
     "output_type": "stream",
     "text": [
      "/data/WORKSPACE/jpynb_Employment_Trends_Bulgaria/ve-emptrends/lib/python3.7/site-packages/plotly/graph_objs/_deprecations.py:39: DeprecationWarning:\n",
      "\n",
      "plotly.graph_objs.Data is deprecated.\n",
      "Please replace it with a list or tuple of instances of the following types\n",
      "  - plotly.graph_objs.Scatter\n",
      "  - plotly.graph_objs.Bar\n",
      "  - plotly.graph_objs.Area\n",
      "  - plotly.graph_objs.Histogram\n",
      "  - etc.\n",
      "\n",
      "\n"
     ]
    }
   ],
   "source": [
    "ideograms = []\n",
    "for k in range(len(ideo_ends)):\n",
    "    z = make_ideogram_arc(1.1, ideo_ends[k])\n",
    "    zi = make_ideogram_arc(1.0, ideo_ends[k])\n",
    "    m = len(z)\n",
    "    n = len(zi)\n",
    "    ideograms.append(go.Scatter(\n",
    "        x=z.real,\n",
    "        y=z.imag,\n",
    "        mode='lines',\n",
    "        line=dict(color=ideo_colors[k], shape='spline', width=0.25),\n",
    "        text=tech_terms_labels[k]+'<br>'+'{:d}'.format(row_sum[k]),\n",
    "        hoverinfo='text',))\n",
    "\n",
    "    path = 'M '\n",
    "    for s in range(m):\n",
    "        path += str(z.real[s])+', '+str(z.imag[s])+' L '\n",
    "\n",
    "    Zi = np.array(zi.tolist()[::-1])\n",
    "\n",
    "    for s in range(m):\n",
    "        path += str(Zi.real[s])+', '+str(Zi.imag[s])+' L '\n",
    "    path += str(z.real[0])+' ,'+str(z.imag[0])\n",
    "\n",
    "    shapes.append(make_ideo_shape(path, 'rgb(150,150,150)', ideo_colors[k]))\n",
    "\n",
    "data = go.Data(ideograms+ribbon_info)\n"
   ]
  },
  {
   "cell_type": "code",
   "execution_count": 28,
   "metadata": {},
   "outputs": [],
   "source": [
    "layout = go.Layout(\n",
    "    paper_bgcolor=DS['colors']['bg1'],\n",
    "    plot_bgcolor=DS['colors']['bg1'],\n",
    "    title='Data Jobs ‒ Technologies in Demand',\n",
    "    titlefont=DS['chart_fonts']['title'],\n",
    "    font=DS['chart_fonts']['text'],\n",
    "    autosize=True,\n",
    "    margin=dict(\n",
    "        l=260,\n",
    "        r=270,\n",
    "        t=80,\n",
    "        b=10,\n",
    "    ),\n",
    "    showlegend=False,\n",
    "    hidesources=True,\n",
    "    xaxis=dict(\n",
    "        showline=False,\n",
    "        zeroline=False,\n",
    "        showgrid=False,\n",
    "        showticklabels=False,\n",
    "        title='',\n",
    "    ),\n",
    "    yaxis=dict(\n",
    "        showline=False,\n",
    "        zeroline=False,\n",
    "        showgrid=False,\n",
    "        showticklabels=False,\n",
    "        title='',\n",
    "    ),\n",
    "    shapes=shapes,\n",
    "    hovermode='closest',\n",
    "    hoverdistance=40,\n",
    ")"
   ]
  },
  {
   "cell_type": "code",
   "execution_count": 32,
   "metadata": {
    "scrolled": false
   },
   "outputs": [
    {
     "data": {
      "application/vnd.plotly.v1+json": {
       "config": {
        "linkText": "Export to plot.ly",
        "plotlyServerURL": "https://plot.ly",
        "showLink": true
       },
       "data": [
        {
         "hoverinfo": "text",
         "line": {
          "color": "#f2e6ce",
          "shape": "spline",
          "width": 0.25
         },
         "mode": "lines",
         "text": "Power BI<br>836",
         "type": "scatter",
         "uid": "4cb5950a-0a58-49b0-8019-842ce4f275fa",
         "x": [
          1.1,
          1.0997136679564712,
          1.0988548208914104,
          1.0974239059237911,
          1.0954216679932613,
          1.0928491494723278,
          1.0897076896236901,
          1.0859989239030179,
          1.0817247831075252,
          1.076887492370791,
          1.0714895700043454,
          1.0655338261866287
         ],
         "y": [
          0,
          0.025096782856060512,
          0.050180500233718894,
          0.07523809345650961,
          0.10025651744829919,
          0.1252227475246014,
          0.15012378617327635,
          0.17494666982108348,
          0.19967847558256618,
          0.22430632798775385,
          0.24881740568517938,
          0.2731989481167224
         ]
        },
        {
         "hoverinfo": "text",
         "line": {
          "color": "#ecd5bb",
          "shape": "spline",
          "width": 0.25
         },
         "mode": "lines",
         "text": "Excel<br>2966",
         "type": "scatter",
         "uid": "ffde2b08-0596-424d-b70e-5ff4f3d21790",
         "x": [
          1.056426663225442,
          1.049872204819657,
          1.0428701048640432,
          1.0354233488942326,
          1.0275351120370337,
          1.0192087576566315,
          1.0104478359205245,
          1.001256082285815,
          0.991637415906495,
          0.9815959379624087,
          0.9711359299106028,
          0.9602618516598107,
          0.9489783396688501,
          0.9372902049697418,
          0.9252024311163957,
          0.9127201720597372,
          0.8998487499501804,
          0.8865936528683842,
          0.8729605324852601,
          0.8589552016522288,
          0.8445836319227529,
          0.8298519510062027,
          0.8147664401551412,
          0.7993335314871404,
          0.7835598052422742,
          0.7674519869774536,
          0.7510169446988031,
          0.734261685933299,
          0.7171933547409203,
          0.6998192286685845,
          0.6821467156471678,
          0.6641833508329319,
          0.6459367933947057,
          0.6274148232481906,
          0.6086253377387818,
          0.5895763482743206,
          0.5702759769092125,
          0.5507324528813691,
          0.5309541091034484,
          0.5109493786098915,
          0.4907267909612685,
          0.47029496860746905,
          0.4496626232112863,
          0.4288385519339627,
          0.40783163368428127,
          0.38665082533280115,
          0.365305157892853,
          0.34380373266992076
         ],
         "y": [
          0.3065333672316256,
          0.32828090646139074,
          0.34988847420408065,
          0.37134685748589913,
          0.3926469069418997,
          0.4137795407170659,
          0.43473574833860723,
          0.455506594557819,
          0.4760832231598684,
          0.49645686073988265,
          0.5166188204437282,
          0.5365605056718876,
          0.5562734137448532,
          0.5757491395284752,
          0.5949793790177198,
          0.6139559328773067,
          0.6326707099377196,
          0.6511157306450946,
          0.6692831304635217,
          0.6871651632283022,
          0.7047542044487369,
          0.7220427545590351,
          0.7390234421159582,
          0.7556890269418347,
          0.7720324032116072,
          0.7880466024825934,
          0.8037247966656716,
          0.819060300936622,
          0.8340465765863826,
          0.8486772338090067,
          0.8629460344261293,
          0.8768468945467839,
          0.8903738871614361,
          0.9035212446691234,
          0.9162833613366304,
          0.9286547956886441,
          0.9406302728278756,
          0.9522046866841555,
          0.9633731021915464,
          0.9741307573925412,
          0.9844730654684544,
          0.9943956166951361,
          1.0038941803231778,
          1.012964706381808,
          1.0216033274057061,
          1.0298063600840033,
          1.0375703068307602,
          1.0448918572762589
         ]
        },
        {
         "hoverinfo": "text",
         "line": {
          "color": "#e6c4a9",
          "shape": "spline",
          "width": 0.25
         },
         "mode": "lines",
         "text": "SSIS/SSRS<br>1548",
         "type": "scatter",
         "uid": "fe945670-3d71-4277-838f-7f508215dc7f",
         "x": [
          0.31081323989020937,
          0.2881950173572104,
          0.26544518930488187,
          0.24257414454203471,
          0.21959232723162206,
          0.19651023212136717,
          0.17333839975129042,
          0.15008741164032646,
          0.1267678854542255,
          0.10339047015695084,
          0.0799658411477822,
          0.05650469538634872,
          0.03301774650781396,
          0.009515719930448164,
          -0.013990652042180373,
          -0.03749063512216027,
          -0.06097349793909577,
          -0.08442851694063434,
          -0.10784498128942423,
          -0.13121219775426424,
          -0.1545194955932163,
          -0.1777562314264457,
          -0.20091179409656668,
          -0.2239756095142752
         ],
         "y": [
          1.0551754024374105,
          1.0615760132795378,
          1.0674918507768083,
          1.0729202134360691,
          1.0778586223716913,
          1.0823048224375638,
          1.0862567832569157,
          1.089712700149497,
          1.0926709949556932,
          1.0951303167571997,
          1.0970895424939242,
          1.098547777476836,
          1.0995043557965316,
          1.0999588406273235,
          1.0999110244267192,
          1.0993609290301967,
          1.098308805641233,
          1.0967551347165898,
          1.0947006257469134,
          1.0921462169327403,
          1.0890930747560643,
          1.0855425934476584,
          1.0814963943503921,
          1.076956325178839
         ]
        },
        {
         "hoverinfo": "text",
         "line": {
          "color": "#e1b396",
          "shape": "spline",
          "width": 0.25
         },
         "mode": "lines",
         "text": "MS SQL Server<br>1238",
         "type": "scatter",
         "uid": "e0b7e895-a75b-475f-b61c-6260b686c404",
         "x": [
          -0.25769310673929036,
          -0.2806110988263204,
          -0.3033995258401496,
          -0.3260478658013324,
          -0.3485456614120734,
          -0.3708825248846219,
          -0.393048142737569,
          -0.4150322805578367,
          -0.4368247877261592,
          -0.45841560210387444,
          -0.4797947546788621,
          -0.5009523741684826,
          -0.5218786915773921,
          -0.5425640447081277,
          -0.5629988826223851,
          -0.5831737700509203,
          -0.6030793917500479,
          -0.6227065568027177,
          -0.6420462028621897
         ],
         "y": [
          1.0693896683337898,
          1.0636058533194923,
          1.0573309452200728,
          1.0505678413155415,
          1.043319664297966,
          1.0355897608296483,
          1.0273816999978869,
          1.0186992716670418,
          1.0095464847286608,
          0.9999275652504748,
          0.9898469545251178,
          0.9793093070194733,
          0.9683194882255906,
          0.9568825724141687,
          0.9450038402916392,
          0.9326887765619336,
          0.9199430673940603,
          0.9067725977966603,
          0.8931834489007531
         ]
        },
        {
         "hoverinfo": "text",
         "line": {
          "color": "#dba284",
          "shape": "spline",
          "width": 0.25
         },
         "mode": "lines",
         "text": "PostgreSQL<br>297",
         "type": "scatter",
         "uid": "c001d5af-c6ad-4426-8fec-f729e390f3d5",
         "x": [
          -0.6697849619446591,
          -0.6847176314806419,
          -0.6994470770285418,
          -0.7139689268933284,
          -0.7282788709943088
         ],
         "y": [
          0.8725755581912616,
          0.8609075241508464,
          0.8489839730149382,
          0.8368084436899459,
          0.8243845498693283
         ]
        },
        {
         "hoverinfo": "text",
         "line": {
          "color": "#d59171",
          "shape": "spline",
          "width": 0.25
         },
         "mode": "lines",
         "text": "MySQL/MariaDB<br>509",
         "type": "scatter",
         "uid": "f3bca7a7-6b51-43f4-8d99-b4e2bf5c1f93",
         "x": [
          -0.7538140538182364,
          -0.7814872632254792,
          -0.8081960269753633,
          -0.8339073833647057,
          -0.8585896016063511
         ],
         "y": [
          0.8011019737000509,
          0.7741302586880006,
          0.7462031774129873,
          0.717355195122911,
          0.6876219135640222
         ]
        },
        {
         "hoverinfo": "text",
         "line": {
          "color": "#d0805f",
          "shape": "spline",
          "width": 0.25
         },
         "mode": "lines",
         "text": "T-SQL<br>912",
         "type": "scatter",
         "uid": "5b1cdf5a-ed44-40a2-bd59-aaf9afbb631b",
         "x": [
          -0.8797646657311486,
          -0.8947531982593289,
          -0.9092661512263128,
          -0.9232958107018037,
          -0.9368347196358465,
          -0.9498756818224007,
          -0.9624117657242715,
          -0.9744363081573615,
          -0.9859429178322909,
          -0.9969254787514968,
          -1.0073781534600104,
          -1.0172953861481842,
          -1.026671905604717
         ],
         "y": [
          0.6603136625354351,
          0.6398567919501225,
          0.6190598244387115,
          0.5979338140133066,
          0.5764899895790255,
          0.5547397489656115,
          0.5326946528692496,
          0.5103664187078258,
          0.4877669143928776,
          0.46490815202155694,
          0.4418022814919589,
          0.41846158404519895,
          0.39489846573768694
         ]
        },
        {
         "hoverinfo": "text",
         "line": {
          "color": "#ca6f4c",
          "shape": "spline",
          "width": 0.25
         },
         "mode": "lines",
         "text": "PL/SQL<br>263",
         "type": "scatter",
         "uid": "abfc1bab-bf5f-47dc-835d-777d750a1c11",
         "x": [
          -1.0385693655627106,
          -1.0436658290912944,
          -1.0485471800874104,
          -1.0532124124437927,
          -1.0576605645979191
         ],
         "y": [
          0.3624550633039477,
          0.3475077512620139,
          0.3324888135422603,
          0.31740134573490153,
          0.3022484575550573
         ]
        },
        {
         "hoverinfo": "text",
         "line": {
          "color": "#c45e3a",
          "shape": "spline",
          "width": 0.25
         },
         "mode": "lines",
         "text": "Pentaho<br>460",
         "type": "scatter",
         "uid": "83e5e0fd-811c-44ff-9753-ff6154ca8604",
         "x": [
          -1.0666325264377414,
          -1.074452422786308,
          -1.081240274648946,
          -1.086989562085882,
          -1.091694762730307
         ],
         "y": [
          0.268877395005681,
          0.23569469906774096,
          0.20228561114689247,
          0.16868222169613079,
          0.13491680780102494
         ]
        },
        {
         "hoverinfo": "text",
         "line": {
          "color": "#bf4d28",
          "shape": "spline",
          "width": 0.25
         },
         "mode": "lines",
         "text": "Hadoop<br>519",
         "type": "scatter",
         "uid": "757b1278-7d51-4a11-af06-59d744af4349",
         "x": [
          -1.0953939166112807,
          -1.098302082501939,
          -1.0997888755010194,
          -1.0998523714682535,
          -1.0984924882300313
         ],
         "y": [
          0.10055927332175103,
          0.061094480699194716,
          0.021550622362319583,
          -0.018021125815529577,
          -0.057569551867236946
         ]
        },
        {
         "hoverinfo": "text",
         "line": {
          "color": "#af4624",
          "shape": "spline",
          "width": 0.25
         },
         "mode": "lines",
         "text": "Spark<br>564",
         "type": "scatter",
         "uid": "0d444b94-d63e-447f-a890-eea7b9dfda10",
         "x": [
          -1.096142145174455,
          -1.0916148145699758,
          -1.0853605813824627,
          -1.0773893396251728,
          -1.0677136995685026
         ],
         "y": [
          -0.09204562766554557,
          -0.1355621503641699,
          -0.17886421772149588,
          -0.2218833271384629,
          -0.2645514236471648
         ]
        },
        {
         "hoverinfo": "text",
         "line": {
          "color": "#9f4021",
          "shape": "spline",
          "width": 0.25
         },
         "mode": "lines",
         "text": "Informatica<br>631",
         "type": "scatter",
         "uid": "2b0a0156-d25e-4f31-b788-56d9c2ef933f",
         "x": [
          -1.0588770862791272,
          -1.0442512905482206,
          -1.0274701898696994,
          -1.0085684199578269,
          -0.9875849935278168
         ],
         "y": [
          -0.2979585812709982,
          -0.3457444752825064,
          -0.39281676253582165,
          -0.43907828716958053,
          -0.48443356671339605
         ]
        },
        {
         "hoverinfo": "text",
         "line": {
          "color": "#8f391e",
          "shape": "spline",
          "width": 0.25
         },
         "mode": "lines",
         "text": "Qlik<br>1325",
         "type": "scatter",
         "uid": "8482878f-846a-4e64-a216-f0a9678aef50",
         "x": [
          -0.9718812538964087,
          -0.9603637258285753,
          -0.9483854465917689,
          -0.9359521629733905,
          -0.9230698400570931,
          -0.9097446583609272,
          -0.8959830108721311,
          -0.8817914999799837,
          -0.8671769343081946,
          -0.852146325448347,
          -0.8367068845959669,
          -0.8208660190908247,
          -0.804631328863138,
          -0.7880106027873702,
          -0.7710118149453855,
          -0.7536431208007421,
          -0.7359128532859699,
          -0.7178295188046987,
          -0.6994017931505644,
          -0.6806385173448474
         ],
         "y": [
          -0.5152153222922866,
          -0.5363781447007859,
          -0.5572836303830674,
          -0.5779217495694656,
          -0.5982826007640308,
          -0.6183564154949476,
          -0.6381335630011249,
          -0.657604554852725,
          -0.6767600495033976,
          -0.695590856772054,
          -0.7140879422520111,
          -0.7322424316454094,
          -0.750045615020807,
          -0.7674889509919252,
          -0.7845640708155216,
          -0.8012627824064451,
          -0.8175770742679265,
          -0.8334991193352366,
          -0.8490212787308545,
          -0.8641361054293519
         ]
        },
        {
         "hoverinfo": "text",
         "line": {
          "color": "#f0f3e7",
          "shape": "spline",
          "width": 0.25
         },
         "mode": "lines",
         "text": "Tableau<br>1681",
         "type": "scatter",
         "uid": "ca2a3aba-78ce-43c4-a612-3c8ccbce0843",
         "x": [
          -0.6531594923054266,
          -0.6340188670986722,
          -0.6145863376906574,
          -0.5948708508766114,
          -0.5748814837262075,
          -0.5546274394044526,
          -0.5341180429345244,
          -0.513362736904499,
          -0.4923710771199573,
          -0.4711527282044627,
          -0.4497174591499389,
          -0.42807513881899684,
          -0.4062357314012806,
          -0.38420929182592317,
          -0.36200596113223055,
          -0.3396359618007112,
          -0.3171095930466187,
          -0.29443722607816086,
          -0.2716292993215647,
          -0.2486963136151928,
          -0.22564882737492592,
          -0.20249745173303568,
          -0.1792528456527907,
          -0.15592571102103217,
          -0.13252678772099655,
          -0.10906684868764008
         ],
         "y": [
          -0.885089078913144,
          -0.8988993693194565,
          -0.9122958037413005,
          -0.9252722144198087,
          -0.9378226269763138,
          -0.9499412631629708,
          -0.961622543523078,
          -0.9728610899598783,
          -0.9836517282126501,
          -0.9939894902389521,
          -1.0038696165019256,
          -1.0132875581615994,
          -1.0222389791691895,
          -1.0307197582634295,
          -1.0387259908680104,
          -1.046253990889261,
          -1.0533002924132358,
          -1.059861651301432,
          -1.0659350466844009,
          -1.0715176823525656,
          -1.076606988043604,
          -1.0812006206258056,
          -1.0852964651768553,
          -1.088892635957552,
          -1.0919874772800071,
          -1.094579564269929
         ]
        },
        {
         "hoverinfo": "text",
         "line": {
          "color": "#e2ecde",
          "shape": "spline",
          "width": 0.25
         },
         "mode": "lines",
         "text": "Microstrategy<br>230",
         "type": "scatter",
         "uid": "c786eb70-647a-4312-a9b0-5aae15b5f593",
         "x": [
          -0.07463145579658764,
          -0.06192924146064776,
          -0.04921873728914692,
          -0.036501644707565006,
          -0.023779666023308034
         ],
         "y": [
          -1.097465327837596,
          -1.0982553296260888,
          -1.09889831918138,
          -1.0993942104330197,
          -1.0997429370011067
         ]
        },
        {
         "hoverinfo": "text",
         "line": {
          "color": "#d4e5d6",
          "shape": "spline",
          "width": 0.25
         },
         "mode": "lines",
         "text": "Oracle BI<br>2065",
         "type": "scatter",
         "uid": "b3424c19-40b8-4c28-9d4e-5ca16061b973",
         "x": [
          0.010775828248412321,
          0.03366974213851361,
          0.056549065473369235,
          0.07940388365281005,
          0.10222429269581046,
          0.12500040353231065,
          0.14772234628858222,
          0.1703802745642653,
          0.19296436969924372,
          0.21546484502849386,
          0.23787195012306991,
          0.26017597501538636,
          0.2823672544069659,
          0.3044361718568348,
          0.3263731639487374,
          0.34816872443538116,
          0.3698134083579042,
          0.39129783613878416,
          0.4126126976464147,
          0.4337487562295883,
          0.4546968527201366,
          0.47544790940199305,
          0.4959929339449634,
          0.5163230233014859,
          0.5364293675647109,
          0.5563032537862123,
          0.575936069751686,
          0.5953193077129945,
          0.6144445680749409,
          0.6333035630351806,
          0.651888120175679,
          0.6701901860041771,
          0.6882018294441171
         ],
         "y": [
          -1.0999472176089,
          -1.0994845830953366,
          -1.0985454943670239,
          -1.0971303583717165,
          -1.0952397883490361,
          -1.0928746035647272,
          -1.0900358289556342,
          -1.0867246946855518,
          -1.0829426356121425,
          -1.07869129066515,
          -1.0739725021361803,
          -1.068788314880357,
          -1.0631409754301975,
          -1.0570329310220925,
          -1.0504668285358139,
          -1.0434455133475058,
          -1.0359720280966616,
          -1.0280496113676156,
          -1.0196816962861248,
          -1.0108719090316465,
          -1.001624067265959,
          -0.9919421784788035,
          -0.9818304382512631,
          -0.9712932284376399,
          -0.9603351152666054,
          -0.9489608473624574,
          -0.937175353687335,
          -0.9249837414052862,
          -0.912391293669114,
          -0.8994034673309556,
          -0.8860258905775945,
          -0.8722643604915236,
          -0.8581248405388172
         ]
        },
        {
         "hoverinfo": "text",
         "line": {
          "color": "#c6decd",
          "shape": "spline",
          "width": 0.25
         },
         "mode": "lines",
         "text": "Python<br>1282",
         "type": "scatter",
         "uid": "9dcca9e1-a24f-405d-8a5a-c8b4192663a6",
         "x": [
          0.7148165960102152,
          0.7323299937490336,
          0.7495161404713873,
          0.766367356327984,
          0.7828761111376696,
          0.7990350277523842,
          0.8148368853537382,
          0.8302746226797229,
          0.8453413411801288,
          0.8600303080992501,
          0.8743349594845021,
          0.8882489031196085,
          0.9017659213810433,
          0.9148799740164567,
          0.9275852008438382,
          0.9398759243702153,
          0.9517466523287114,
          0.9631920801328371,
          0.974207093246912,
          0.9847867694715606
         ],
         "y": [
          -0.836084465869549,
          -0.8207879021132929,
          -0.8051245587937781,
          -0.7891014352761354,
          -0.772725691697875,
          -0.756004645769288,
          -0.7389457695034319,
          -0.7215566858771693,
          -0.7038451654247412,
          -0.6858191227654047,
          -0.6674866130666847,
          -0.6488558284448193,
          -0.6299350943040071,
          -0.6107328656160953,
          -0.5912577231423676,
          -0.5715183695991176,
          -0.5515236257687346,
          -0.5312824265580207,
          -0.5108038170055141,
          -0.4900969482395984
         ]
        },
        {
         "hoverinfo": "text",
         "line": {
          "color": "#b8d7c5",
          "shape": "spline",
          "width": 0.25
         },
         "mode": "lines",
         "text": "VBA<br>521",
         "type": "scatter",
         "uid": "e87aabe6-b141-4bdd-953f-0be7ca192937",
         "x": [
          0.9996951538142801,
          1.01562641230414,
          1.0302309238169567,
          1.0434896099876276,
          1.0553851505480076
         ],
         "y": [
          -0.45892221502150365,
          -0.4224961427400503,
          -0.38551814952250957,
          -0.3480365409664181,
          -0.3101002805589826
         ]
        },
        {
         "hoverinfo": "text",
         "line": {
          "color": "#aad0bc",
          "shape": "spline",
          "width": 0.25
         },
         "mode": "lines",
         "text": "Linux<br>424",
         "type": "scatter",
         "uid": "16142f3a-e365-461e-bc27-b8e4dd92c8bb",
         "x": [
          1.0646048668880068,
          1.0719253658722585,
          1.0784083237690296,
          1.0840486751663245,
          1.0888420130166063
         ],
         "y": [
          -0.2767968160914597,
          -0.2469332095924425,
          -0.21687666362629293,
          -0.18665066265657054,
          -0.1562788235492721
         ]
        },
        {
         "hoverinfo": "text",
         "line": {
          "color": "#9cc9b4",
          "shape": "spline",
          "width": 0.25
         },
         "mode": "lines",
         "text": "AWS<br>329",
         "type": "scatter",
         "uid": "17d69477-6d28-4728-ae37-2aaea2d38f94",
         "x": [
          1.093213571687447,
          1.095427823603338,
          1.0972069573052905,
          1.0985502660982016,
          1.0994572164023046
         ],
         "y": [
          -0.12200035523872739,
          -0.10018923732444908,
          -0.07833832293881952,
          -0.056456291549928234,
          -0.03455183498594413
         ]
        },
        {
         "hoverinfo": "text",
         "marker": {
          "color": "green",
          "size": 0.5
         },
         "mode": "markers",
         "text": "Power BI appears with Excel 156 times",
         "type": "scatter",
         "uid": "878b16bf-bef1-456e-a978-632cf39d40bd",
         "x": [
          0.8767953655720315
         ],
         "y": [
          0.203051439077411
         ]
        },
        {
         "hoverinfo": "text",
         "marker": {
          "color": "blue",
          "size": 0.5
         },
         "mode": "markers",
         "text": "Excel appears with Power BI 156 times",
         "type": "scatter",
         "uid": "9227e7d1-83c7-40f7-b3d8-f3a6e952e125",
         "x": [
          0.7699985505944414
         ],
         "y": [
          0.46594230552983645
         ]
        },
        {
         "hoverinfo": "text",
         "marker": {
          "color": "green",
          "size": 0.5
         },
         "mode": "markers",
         "text": "Power BI appears with SSIS/SSRS 90 times",
         "type": "scatter",
         "uid": "3672fa0f-f6c4-43b3-afd5-8155854d3107",
         "x": [
          0.8960797237381709
         ],
         "y": [
          0.08391143369841396
         ]
        },
        {
         "hoverinfo": "text",
         "marker": {
          "color": "blue",
          "size": 0.5
         },
         "mode": "markers",
         "text": "SSIS/SSRS appears with Power BI 90 times",
         "type": "scatter",
         "uid": "063cd4d5-41d1-406c-96ee-ff61450d1e02",
         "x": [
          0.1333011786535946
         ],
         "y": [
          0.8900734777362835
         ]
        },
        {
         "hoverinfo": "text",
         "marker": {
          "color": "green",
          "size": 0.5
         },
         "mode": "markers",
         "text": "Power BI appears with MS SQL Server 85 times",
         "type": "scatter",
         "uid": "00836f3e-8a53-46f2-9544-cc17f84da90a",
         "x": [
          0.8979746339190786
         ],
         "y": [
          0.060345313305151124
         ]
        },
        {
         "hoverinfo": "text",
         "marker": {
          "color": "blue",
          "size": 0.5
         },
         "mode": "markers",
         "text": "MS SQL Server appears with Power BI 85 times",
         "type": "scatter",
         "uid": "0e095f8d-d171-4054-9ba2-aa3348039495",
         "x": [
          -0.3561830735928789
         ],
         "y": [
          0.8265189762406728
         ]
        },
        {
         "hoverinfo": "text",
         "marker": {
          "color": "green",
          "size": 0.5
         },
         "mode": "markers",
         "text": "Power BI appears with MySQL/MariaDB 5 times",
         "type": "scatter",
         "uid": "530fccc3-5609-4bdd-af3f-7834071c5ca0",
         "x": [
          0.8999977184301038
         ],
         "y": [
          0.002026529202268068
         ]
        },
        {
         "hoverinfo": "text",
         "marker": {
          "color": "blue",
          "size": 0.5
         },
         "mode": "markers",
         "text": "MySQL/MariaDB appears with Power BI 5 times",
         "type": "scatter",
         "uid": "0121126b-a80a-4204-9e94-6379a5afa853",
         "x": [
          -0.6181128221930339
         ],
         "y": [
          0.6541685861003743
         ]
        },
        {
         "hoverinfo": "text",
         "marker": {
          "color": "green",
          "size": 0.5
         },
         "mode": "markers",
         "text": "Power BI appears with T-SQL 30 times",
         "type": "scatter",
         "uid": "5c4ee507-ff28-4e60-ab25-3bae2ae3eb65",
         "x": [
          0.899415981033337
         ],
         "y": [
          0.032417480806503356
         ]
        },
        {
         "hoverinfo": "text",
         "marker": {
          "color": "blue",
          "size": 0.5
         },
         "mode": "markers",
         "text": "T-SQL appears with Power BI 30 times",
         "type": "scatter",
         "uid": "e53c07f5-d51a-4fb0-8eb5-42b97986c831",
         "x": [
          -0.7473087855309484
         ],
         "y": [
          0.5015272465861242
         ]
        },
        {
         "hoverinfo": "text",
         "marker": {
          "color": "green",
          "size": 0.5
         },
         "mode": "markers",
         "text": "Power BI appears with PL/SQL 3 times",
         "type": "scatter",
         "uid": "e72532c8-6d90-4fa9-beea-764290d68046",
         "x": [
          0.899999503124614
         ],
         "y": [
          0.0009457142528405403
         ]
        },
        {
         "hoverinfo": "text",
         "marker": {
          "color": "blue",
          "size": 0.5
         },
         "mode": "markers",
         "text": "PL/SQL appears with Power BI 3 times",
         "type": "scatter",
         "uid": "d8e393f8-7529-43ab-adf7-1511ca958477",
         "x": [
          -0.8500941039064684
         ],
         "y": [
          0.2955334405840709
         ]
        },
        {
         "hoverinfo": "text",
         "marker": {
          "color": "green",
          "size": 0.5
         },
         "mode": "markers",
         "text": "Power BI appears with Pentaho 7 times",
         "type": "scatter",
         "uid": "09513c02-2d70-4b3f-9e78-724cd7c19c32",
         "x": [
          0.8999861179445423
         ],
         "y": [
          0.004998750555112635
         ]
        },
        {
         "hoverinfo": "text",
         "marker": {
          "color": "blue",
          "size": 0.5
         },
         "mode": "markers",
         "text": "Pentaho appears with Power BI 7 times",
         "type": "scatter",
         "uid": "087acc67-6859-4ba5-8379-c77809cca92d",
         "x": [
          -0.8734355074219028
         ],
         "y": [
          0.21704933626860798
         ]
        },
        {
         "hoverinfo": "text",
         "marker": {
          "color": "green",
          "size": 0.5
         },
         "mode": "markers",
         "text": "Power BI appears with Hadoop 17 times",
         "type": "scatter",
         "uid": "9d430fac-e002-451b-8bbb-29170f1c514b",
         "x": [
          0.8998965606288425
         ],
         "y": [
          0.013644785391500982
         ]
        },
        {
         "hoverinfo": "text",
         "marker": {
          "color": "blue",
          "size": 0.5
         },
         "mode": "markers",
         "text": "Hadoop appears with Power BI 17 times",
         "type": "scatter",
         "uid": "ac5ae9d6-3547-4efc-a2b5-e6823dd86dab",
         "x": [
          -0.8974102886446829
         ],
         "y": [
          0.06822590295970468
         ]
        },
        {
         "hoverinfo": "text",
         "marker": {
          "color": "green",
          "size": 0.5
         },
         "mode": "markers",
         "text": "Power BI appears with Spark 22 times",
         "type": "scatter",
         "uid": "874aaa94-e9e1-4932-bc07-bc6723120c5d",
         "x": [
          0.8998012571422968
         ],
         "y": [
          0.01891289626530949
         ]
        },
        {
         "hoverinfo": "text",
         "marker": {
          "color": "blue",
          "size": 0.5
         },
         "mode": "markers",
         "text": "Spark appears with Power BI 22 times",
         "type": "scatter",
         "uid": "22b5a2be-7032-4497-a343-a5eb42cb9d58",
         "x": [
          -0.8941332266421028
         ],
         "y": [
          -0.10259519001679367
         ]
        },
        {
         "hoverinfo": "text",
         "marker": {
          "color": "green",
          "size": 0.5
         },
         "mode": "markers",
         "text": "Power BI appears with Informatica 7 times",
         "type": "scatter",
         "uid": "170e3403-3e62-4298-94ad-522dd0c73a44",
         "x": [
          0.8999736251696776
         ],
         "y": [
          0.0068901378033193955
         ]
        },
        {
         "hoverinfo": "text",
         "marker": {
          "color": "blue",
          "size": 0.5
         },
         "mode": "markers",
         "text": "Informatica appears with Power BI 7 times",
         "type": "scatter",
         "uid": "1b7fa711-7fb8-4119-beb3-3a7665d28980",
         "x": [
          -0.8652570285487059
         ],
         "y": [
          -0.2476494993878727
         ]
        },
        {
         "hoverinfo": "text",
         "marker": {
          "color": "green",
          "size": 0.5
         },
         "mode": "markers",
         "text": "Power BI appears with Qlik 115 times",
         "type": "scatter",
         "uid": "2cf55717-525d-498e-9984-b7c1a18ac187",
         "x": [
          0.889696059610616
         ],
         "y": [
          0.13579735458889938
         ]
        },
        {
         "hoverinfo": "text",
         "marker": {
          "color": "blue",
          "size": 0.5
         },
         "mode": "markers",
         "text": "Qlik appears with Power BI 115 times",
         "type": "scatter",
         "uid": "95dbd50b-ff1c-422c-820c-3344fa63c44a",
         "x": [
          -0.7272799547820217
         ],
         "y": [
          -0.5301545693213069
         ]
        },
        {
         "hoverinfo": "text",
         "marker": {
          "color": "green",
          "size": 0.5
         },
         "mode": "markers",
         "text": "Power BI appears with Tableau 118 times",
         "type": "scatter",
         "uid": "2bfab390-1fef-40ad-9aa6-b168cd042aa8",
         "x": [
          0.8844031729176839
         ],
         "y": [
          0.16682634004596908
         ]
        },
        {
         "hoverinfo": "text",
         "marker": {
          "color": "blue",
          "size": 0.5
         },
         "mode": "markers",
         "text": "Tableau appears with Power BI 118 times",
         "type": "scatter",
         "uid": "dcdb9179-3cd1-4cd2-b54b-5d142d67fb74",
         "x": [
          -0.3546406968939142
         ],
         "y": [
          -0.827181948610219
         ]
        },
        {
         "hoverinfo": "text",
         "marker": {
          "color": "green",
          "size": 0.5
         },
         "mode": "markers",
         "text": "Power BI appears with Microstrategy 13 times",
         "type": "scatter",
         "uid": "ab8ea53e-85e6-4c77-94bc-09371c81c0f1",
         "x": [
          0.8999488831562997
         ],
         "y": [
          0.009592064727095216
         ]
        },
        {
         "hoverinfo": "text",
         "marker": {
          "color": "blue",
          "size": 0.5
         },
         "mode": "markers",
         "text": "Microstrategy appears with Power BI 13 times",
         "type": "scatter",
         "uid": "d2fd1f60-4d29-46b0-865d-eebc615bd57b",
         "x": [
          -0.05211576097442645
         ],
         "y": [
          -0.8984898148883249
         ]
        },
        {
         "hoverinfo": "text",
         "marker": {
          "color": "green",
          "size": 0.5
         },
         "mode": "markers",
         "text": "Power BI appears with Oracle BI 91 times",
         "type": "scatter",
         "uid": "9543d073-a5cf-458d-9afc-6c6c3f89f7f1",
         "x": [
          0.8934693470283046
         ],
         "y": [
          0.10822442386455573
         ]
        },
        {
         "hoverinfo": "text",
         "marker": {
          "color": "blue",
          "size": 0.5
         },
         "mode": "markers",
         "text": "Oracle BI appears with Power BI 91 times",
         "type": "scatter",
         "uid": "ddd71a70-862b-4963-88f0-ea8de794fdbb",
         "x": [
          0.1264176203607371
         ],
         "y": [
          -0.891077204995352
         ]
        },
        {
         "hoverinfo": "text",
         "marker": {
          "color": "green",
          "size": 0.5
         },
         "mode": "markers",
         "text": "Power BI appears with Python 46 times",
         "type": "scatter",
         "uid": "3d4a8828-c3a0-4d27-aa9b-e491cc484a4a",
         "x": [
          0.8989876185681631
         ],
         "y": [
          0.04267624235031774
         ]
        },
        {
         "hoverinfo": "text",
         "marker": {
          "color": "blue",
          "size": 0.5
         },
         "mode": "markers",
         "text": "Python appears with Power BI 46 times",
         "type": "scatter",
         "uid": "9f5fa961-42a3-45f9-b147-0c3e85f5a3a6",
         "x": [
          0.6321816429826362
         ],
         "y": [
          -0.6405828363886865
         ]
        },
        {
         "hoverinfo": "text",
         "marker": {
          "color": "green",
          "size": 0.5
         },
         "mode": "markers",
         "text": "Power BI appears with VBA 24 times",
         "type": "scatter",
         "uid": "87217e07-31cc-4c92-af03-2bcdbf47fba8",
         "x": [
          0.8996492084548104
         ],
         "y": [
          0.025125718430186895
         ]
        },
        {
         "hoverinfo": "text",
         "marker": {
          "color": "blue",
          "size": 0.5
         },
         "mode": "markers",
         "text": "VBA appears with Power BI 24 times",
         "type": "scatter",
         "uid": "53ca5ed8-d136-4574-8da8-a0d9f4eab7f2",
         "x": [
          0.8223545994983903
         ],
         "y": [
          -0.3656951089143005
         ]
        },
        {
         "hoverinfo": "text",
         "marker": {
          "color": "green",
          "size": 0.5
         },
         "mode": "markers",
         "text": "Power BI appears with Linux 2 times",
         "type": "scatter",
         "uid": "2a00e229-39e9-4b76-9474-976c9b0a1e0b",
         "x": [
          0.8999999594387406
         ],
         "y": [
          0.0002702041179060665
         ]
        },
        {
         "hoverinfo": "text",
         "marker": {
          "color": "blue",
          "size": 0.5
         },
         "mode": "markers",
         "text": "Linux appears with Power BI 2 times",
         "type": "scatter",
         "uid": "6827425f-265d-4007-b8cc-e56768e3df5f",
         "x": [
          0.8711596700284484
         ],
         "y": [
          -0.22601068407472438
         ]
        },
        {
         "hoverinfo": "text",
         "marker": {
          "color": "green",
          "size": 0.5
         },
         "mode": "markers",
         "text": "Power BI appears with AWS 5 times",
         "type": "scatter",
         "uid": "7e4ea528-e35d-4262-890d-7a069a97c6eb",
         "x": [
          0.8999936623106043
         ],
         "y": [
          0.003377543596461096
         ]
        },
        {
         "hoverinfo": "text",
         "marker": {
          "color": "blue",
          "size": 0.5
         },
         "mode": "markers",
         "text": "AWS appears with Power BI 5 times",
         "type": "scatter",
         "uid": "497f03d3-d3ef-427e-b5d1-68030210998f",
         "x": [
          0.8946748804176846
         ],
         "y": [
          -0.09775918549988866
         ]
        },
        {
         "hoverinfo": "text",
         "marker": {
          "color": "green",
          "size": 0.5
         },
         "mode": "markers",
         "text": "Excel appears with SSIS/SSRS 367 times",
         "type": "scatter",
         "uid": "8c85f3bc-6df9-45be-8433-0d71238687f2",
         "x": [
          0.4537658243589668
         ],
         "y": [
          0.7772364998144563
         ]
        },
        {
         "hoverinfo": "text",
         "marker": {
          "color": "blue",
          "size": 0.5
         },
         "mode": "markers",
         "text": "SSIS/SSRS appears with Excel 367 times",
         "type": "scatter",
         "uid": "cf75c59d-e8f8-4866-b705-0bdf6ffe6722",
         "x": [
          -0.1316323913919113
         ],
         "y": [
          0.890321803359014
         ]
        },
        {
         "hoverinfo": "text",
         "marker": {
          "color": "green",
          "size": 0.5
         },
         "mode": "markers",
         "text": "Excel appears with MS SQL Server 203 times",
         "type": "scatter",
         "uid": "63c78ba1-fd13-4ecc-9eb7-66d6e2400e38",
         "x": [
          0.7117991987866296
         ],
         "y": [
          0.5507648323982862
         ]
        },
        {
         "hoverinfo": "text",
         "marker": {
          "color": "blue",
          "size": 0.5
         },
         "mode": "markers",
         "text": "MS SQL Server appears with Excel 203 times",
         "type": "scatter",
         "uid": "2b1131d1-f1d1-4132-8c1e-8e689aa8bf5c",
         "x": [
          -0.5018759138803468
         ],
         "y": [
          0.7470746730192148
         ]
        },
        {
         "hoverinfo": "text",
         "marker": {
          "color": "green",
          "size": 0.5
         },
         "mode": "markers",
         "text": "Excel appears with PostgreSQL 39 times",
         "type": "scatter",
         "uid": "a1f23f41-3a62-496c-9a01-e5f8f87c4fb8",
         "x": [
          0.8570850875773721
         ],
         "y": [
          0.2745999866214279
         ]
        },
        {
         "hoverinfo": "text",
         "marker": {
          "color": "blue",
          "size": 0.5
         },
         "mode": "markers",
         "text": "PostgreSQL appears with Excel 39 times",
         "type": "scatter",
         "uid": "b8bde05b-b72b-4eba-ae28-ff78181d155d",
         "x": [
          -0.5849106282002734
         ],
         "y": [
          0.6840172198259057
         ]
        },
        {
         "hoverinfo": "text",
         "marker": {
          "color": "green",
          "size": 0.5
         },
         "mode": "markers",
         "text": "Excel appears with MySQL/MariaDB 81 times",
         "type": "scatter",
         "uid": "8aa608df-1a63-4638-8d62-9ba03c3e592f",
         "x": [
          0.8217804609125439
         ],
         "y": [
          0.3669834792771563
         ]
        },
        {
         "hoverinfo": "text",
         "marker": {
          "color": "blue",
          "size": 0.5
         },
         "mode": "markers",
         "text": "MySQL/MariaDB appears with Excel 81 times",
         "type": "scatter",
         "uid": "b0ab813a-2116-4697-bd85-0f03665ca220",
         "x": [
          -0.6961479472963217
         ],
         "y": [
          0.5704191752344216
         ]
        },
        {
         "hoverinfo": "text",
         "marker": {
          "color": "green",
          "size": 0.5
         },
         "mode": "markers",
         "text": "Excel appears with T-SQL 148 times",
         "type": "scatter",
         "uid": "49e6bc37-fb09-4b76-9fe1-0193f5e512ab",
         "x": [
          0.7922111417098393
         ],
         "y": [
          0.4270848943135228
         ]
        },
        {
         "hoverinfo": "text",
         "marker": {
          "color": "blue",
          "size": 0.5
         },
         "mode": "markers",
         "text": "T-SQL appears with Excel 148 times",
         "type": "scatter",
         "uid": "f8292e13-1a51-49bf-90a7-50c29d4397f0",
         "x": [
          -0.8325401617211081
         ],
         "y": [
          0.34187260656769675
         ]
        },
        {
         "hoverinfo": "text",
         "marker": {
          "color": "green",
          "size": 0.5
         },
         "mode": "markers",
         "text": "Excel appears with PL/SQL 47 times",
         "type": "scatter",
         "uid": "295ea13c-db0a-42dc-b5a9-f0cd8681ee6b",
         "x": [
          0.8531367047558992
         ],
         "y": [
          0.28663175504163124
         ]
        },
        {
         "hoverinfo": "text",
         "marker": {
          "color": "blue",
          "size": 0.5
         },
         "mode": "markers",
         "text": "PL/SQL appears with Excel 47 times",
         "type": "scatter",
         "uid": "861463a4-c85f-47e5-b94c-1d4f8a06d4c1",
         "x": [
          -0.8600720188145099
         ],
         "y": [
          0.2650964399088251
         ]
        },
        {
         "hoverinfo": "text",
         "marker": {
          "color": "green",
          "size": 0.5
         },
         "mode": "markers",
         "text": "Excel appears with Pentaho 55 times",
         "type": "scatter",
         "uid": "18f02f1d-8019-4af9-a960-40e45e0d58a8",
         "x": [
          0.84278722502077
         ],
         "y": [
          0.31576841726459937
         ]
        },
        {
         "hoverinfo": "text",
         "marker": {
          "color": "blue",
          "size": 0.5
         },
         "mode": "markers",
         "text": "Pentaho appears with Excel 55 times",
         "type": "scatter",
         "uid": "c06f8835-2129-44ee-8e55-f038f3861c0d",
         "x": [
          -0.8923621485947223
         ],
         "y": [
          0.11700340061472926
         ]
        },
        {
         "hoverinfo": "text",
         "marker": {
          "color": "green",
          "size": 0.5
         },
         "mode": "markers",
         "text": "Excel appears with Hadoop 57 times",
         "type": "scatter",
         "uid": "ae90d098-502b-4f43-bf2a-7910387e59ba",
         "x": [
          0.836859933309331
         ],
         "y": [
          0.33115774492151334
         ]
        },
        {
         "hoverinfo": "text",
         "marker": {
          "color": "blue",
          "size": 0.5
         },
         "mode": "markers",
         "text": "Hadoop appears with Excel 57 times",
         "type": "scatter",
         "uid": "f1479cfe-e6e4-4641-82c0-f177e2cbc31a",
         "x": [
          -0.89969651793625
         ],
         "y": [
          0.023370400368562704
         ]
        },
        {
         "hoverinfo": "text",
         "marker": {
          "color": "green",
          "size": 0.5
         },
         "mode": "markers",
         "text": "Excel appears with Spark 63 times",
         "type": "scatter",
         "uid": "1c37e323-a762-4f09-8885-949c704f178a",
         "x": [
          0.8301975134047545
         ],
         "y": [
          0.34752278880177434
         ]
        },
        {
         "hoverinfo": "text",
         "marker": {
          "color": "blue",
          "size": 0.5
         },
         "mode": "markers",
         "text": "Spark appears with Excel 63 times",
         "type": "scatter",
         "uid": "aa95483c-daf5-497d-9baf-761190b68e86",
         "x": [
          -0.886203940889812
         ],
         "y": [
          -0.15697953736511833
         ]
        },
        {
         "hoverinfo": "text",
         "marker": {
          "color": "green",
          "size": 0.5
         },
         "mode": "markers",
         "text": "Excel appears with Informatica 113 times",
         "type": "scatter",
         "uid": "66c184c5-c814-45b7-9745-ef19b60e7988",
         "x": [
          0.8097205622056679
         ],
         "y": [
          0.3928773487251933
         ]
        },
        {
         "hoverinfo": "text",
         "marker": {
          "color": "blue",
          "size": 0.5
         },
         "mode": "markers",
         "text": "Informatica appears with Excel 113 times",
         "type": "scatter",
         "uid": "e2584690-8dd7-4705-b624-984002ef60b6",
         "x": [
          -0.8265060105921844
         ],
         "y": [
          -0.3562131587336324
         ]
        },
        {
         "hoverinfo": "text",
         "marker": {
          "color": "green",
          "size": 0.5
         },
         "mode": "markers",
         "text": "Excel appears with Qlik 309 times",
         "type": "scatter",
         "uid": "a9db538e-7fca-4431-b2c4-e5efae2dd6ff",
         "x": [
          0.6123707888778234
         ],
         "y": [
          0.6595468269419179
         ]
        },
        {
         "hoverinfo": "text",
         "marker": {
          "color": "blue",
          "size": 0.5
         },
         "mode": "markers",
         "text": "Qlik appears with Excel 309 times",
         "type": "scatter",
         "uid": "6d8b5317-28ad-4e1f-b5b1-e2d39566c7cd",
         "x": [
          -0.5905271240301462
         ],
         "y": [
          -0.6791742896964551
         ]
        },
        {
         "hoverinfo": "text",
         "marker": {
          "color": "green",
          "size": 0.5
         },
         "mode": "markers",
         "text": "Excel appears with Tableau 334 times",
         "type": "scatter",
         "uid": "65e8d989-ef55-4866-b6d4-3bd64a769b67",
         "x": [
          0.539729515709077
         ],
         "y": [
          0.7202027838549676
         ]
        },
        {
         "hoverinfo": "text",
         "marker": {
          "color": "blue",
          "size": 0.5
         },
         "mode": "markers",
         "text": "Tableau appears with Excel 334 times",
         "type": "scatter",
         "uid": "b7753c87-6c71-410f-a3e7-54b4d1e34501",
         "x": [
          -0.13681414679840923
         ],
         "y": [
          -0.8895402684734534
         ]
        },
        {
         "hoverinfo": "text",
         "marker": {
          "color": "green",
          "size": 0.5
         },
         "mode": "markers",
         "text": "Excel appears with Microstrategy 29 times",
         "type": "scatter",
         "uid": "17fb54c4-65d3-4f5c-899e-59a88395eaa1",
         "x": [
          0.8631494185382399
         ],
         "y": [
          0.2548981782537851
         ]
        },
        {
         "hoverinfo": "text",
         "marker": {
          "color": "blue",
          "size": 0.5
         },
         "mode": "markers",
         "text": "Microstrategy appears with Excel 29 times",
         "type": "scatter",
         "uid": "1dd99060-1d63-486c-881f-04f859a4b0af",
         "x": [
          -0.03565611421854324
         ],
         "y": [
          -0.8992934123626362
         ]
        },
        {
         "hoverinfo": "text",
         "marker": {
          "color": "green",
          "size": 0.5
         },
         "mode": "markers",
         "text": "Excel appears with Oracle BI 460 times",
         "type": "scatter",
         "uid": "9aace8ec-fceb-4098-8ffc-1545c575f72c",
         "x": [
          0.34477690824794727
         ],
         "y": [
          0.8313416166288
         ]
        },
        {
         "hoverinfo": "text",
         "marker": {
          "color": "blue",
          "size": 0.5
         },
         "mode": "markers",
         "text": "Oracle BI appears with Excel 460 times",
         "type": "scatter",
         "uid": "a6e03f98-ceec-4b35-ae40-a7a4a91e285e",
         "x": [
          0.5094795300454396
         ],
         "y": [
          -0.7419101080755525
         ]
        },
        {
         "hoverinfo": "text",
         "marker": {
          "color": "green",
          "size": 0.5
         },
         "mode": "markers",
         "text": "Excel appears with Python 245 times",
         "type": "scatter",
         "uid": "45f71cda-dfba-48bb-9486-9cc749a13b21",
         "x": [
          0.6695554172254907
         ],
         "y": [
          0.60141129293022
         ]
        },
        {
         "hoverinfo": "text",
         "marker": {
          "color": "blue",
          "size": 0.5
         },
         "mode": "markers",
         "text": "Python appears with Excel 245 times",
         "type": "scatter",
         "uid": "512835fd-4dfc-4214-8d14-5e03c61b6be3",
         "x": [
          0.7897554218036111
         ],
         "y": [
          -0.43160905195767196
         ]
        },
        {
         "hoverinfo": "text",
         "marker": {
          "color": "green",
          "size": 0.5
         },
         "mode": "markers",
         "text": "Excel appears with VBA 170 times",
         "type": "scatter",
         "uid": "9cd88f14-0c00-40d1-bfe8-2f31bcc263ba",
         "x": [
          0.7440639629723932
         ],
         "y": [
          0.5063287657301501
         ]
        },
        {
         "hoverinfo": "text",
         "marker": {
          "color": "blue",
          "size": 0.5
         },
         "mode": "markers",
         "text": "VBA appears with Excel 170 times",
         "type": "scatter",
         "uid": "a5565dc4-4ae7-4456-81d3-35dd3bb7437d",
         "x": [
          0.8572725638646534
         ],
         "y": [
          -0.2740141442424527
         ]
        },
        {
         "hoverinfo": "text",
         "marker": {
          "color": "green",
          "size": 0.5
         },
         "mode": "markers",
         "text": "Excel appears with Linux 54 times",
         "type": "scatter",
         "uid": "32e696a6-653c-44a9-adba-92c16766308a",
         "x": [
          0.8482840616013463
         ],
         "y": [
          0.3006894591320477
         ]
        },
        {
         "hoverinfo": "text",
         "marker": {
          "color": "blue",
          "size": 0.5
         },
         "mode": "markers",
         "text": "Linux appears with Excel 54 times",
         "type": "scatter",
         "uid": "b6c3e985-804d-484c-90dd-9e0f933e5c45",
         "x": [
          0.8848148653458959
         ],
         "y": [
          -0.16462883727623204
         ]
        },
        {
         "hoverinfo": "text",
         "marker": {
          "color": "green",
          "size": 0.5
         },
         "mode": "markers",
         "text": "Excel appears with AWS 36 times",
         "type": "scatter",
         "uid": "7283ebb0-992f-4461-aed2-95eb318f01fa",
         "x": [
          0.8603899624572879
         ],
         "y": [
          0.26406270562642237
         ]
        },
        {
         "hoverinfo": "text",
         "marker": {
          "color": "blue",
          "size": 0.5
         },
         "mode": "markers",
         "text": "AWS appears with Excel 36 times",
         "type": "scatter",
         "uid": "d925d6fb-65c1-451b-890f-c353ad8d4c72",
         "x": [
          0.8983272462410239
         ],
         "y": [
          -0.05484668322714476
         ]
        },
        {
         "hoverinfo": "text",
         "marker": {
          "color": "green",
          "size": 0.5
         },
         "mode": "markers",
         "text": "SSIS/SSRS appears with MS SQL Server 196 times",
         "type": "scatter",
         "uid": "825ab12f-4efe-4ecf-8b0c-a637797ee0ca",
         "x": [
          -0.051636451616872005
         ],
         "y": [
          0.8985174883464531
         ]
        },
        {
         "hoverinfo": "text",
         "marker": {
          "color": "blue",
          "size": 0.5
         },
         "mode": "markers",
         "text": "MS SQL Server appears with SSIS/SSRS 196 times",
         "type": "scatter",
         "uid": "ce93d37c-9b0c-4ed5-bbd7-00fb30640463",
         "x": [
          -0.4543665835620903
         ],
         "y": [
          0.7768854534241931
         ]
        },
        {
         "hoverinfo": "text",
         "marker": {
          "color": "green",
          "size": 0.5
         },
         "mode": "markers",
         "text": "SSIS/SSRS appears with PostgreSQL 18 times",
         "type": "scatter",
         "uid": "cf2318e3-82db-4732-b1ce-1e4c5a7e0efa",
         "x": [
          0.24331691094323993
         ],
         "y": [
          0.8664853610125445
         ]
        },
        {
         "hoverinfo": "text",
         "marker": {
          "color": "blue",
          "size": 0.5
         },
         "mode": "markers",
         "text": "PostgreSQL appears with SSIS/SSRS 18 times",
         "type": "scatter",
         "uid": "0eb50611-eff8-47fc-b0a1-abffedaa5a2a",
         "x": [
          -0.5531268320105754
         ],
         "y": [
          0.7099652862710575
         ]
        },
        {
         "hoverinfo": "text",
         "marker": {
          "color": "green",
          "size": 0.5
         },
         "mode": "markers",
         "text": "SSIS/SSRS appears with MySQL/MariaDB 42 times",
         "type": "scatter",
         "uid": "0e620292-4cfb-4f4d-b51f-570ec1d8f502",
         "x": [
          0.19788802375266304
         ],
         "y": [
          0.8779751306587593
         ]
        },
        {
         "hoverinfo": "text",
         "marker": {
          "color": "blue",
          "size": 0.5
         },
         "mode": "markers",
         "text": "MySQL/MariaDB appears with SSIS/SSRS 42 times",
         "type": "scatter",
         "uid": "08a229ef-275a-4051-bf63-13adba2aa665",
         "x": [
          -0.6535299349988694
         ],
         "y": [
          0.6187880283751243
         ]
        },
        {
         "hoverinfo": "text",
         "marker": {
          "color": "green",
          "size": 0.5
         },
         "mode": "markers",
         "text": "SSIS/SSRS appears with T-SQL 102 times",
         "type": "scatter",
         "uid": "78458c4f-57e0-4034-9d10-31ea61ed06f1",
         "x": [
          0.10611306851042983
         ],
         "y": [
          0.8937225613641522
         ]
        },
        {
         "hoverinfo": "text",
         "marker": {
          "color": "blue",
          "size": 0.5
         },
         "mode": "markers",
         "text": "T-SQL appears with SSIS/SSRS 102 times",
         "type": "scatter",
         "uid": "eb17ddeb-374e-4f13-a4ad-be1050319471",
         "x": [
          -0.7894028898992005
         ],
         "y": [
          0.43225348745706
         ]
        },
        {
         "hoverinfo": "text",
         "marker": {
          "color": "green",
          "size": 0.5
         },
         "mode": "markers",
         "text": "SSIS/SSRS appears with PL/SQL 23 times",
         "type": "scatter",
         "uid": "f376d48e-e39d-4492-9009-33582aa6e4d3",
         "x": [
          0.23215479156170798
         ],
         "y": [
          0.8695424962328983
         ]
        },
        {
         "hoverinfo": "text",
         "marker": {
          "color": "blue",
          "size": 0.5
         },
         "mode": "markers",
         "text": "PL/SQL appears with SSIS/SSRS 23 times",
         "type": "scatter",
         "uid": "63f87850-e1b8-4bb8-8116-a5f81757a981",
         "x": [
          -0.8563440194526397
         ],
         "y": [
          0.2769023660926305
         ]
        },
        {
         "hoverinfo": "text",
         "marker": {
          "color": "green",
          "size": 0.5
         },
         "mode": "markers",
         "text": "SSIS/SSRS appears with Pentaho 28 times",
         "type": "scatter",
         "uid": "d5806377-11ea-4d08-95b4-b4da4059a62f",
         "x": [
          0.22510697885495615
         ],
         "y": [
          0.8713936240705427
         ]
        },
        {
         "hoverinfo": "text",
         "marker": {
          "color": "blue",
          "size": 0.5
         },
         "mode": "markers",
         "text": "Pentaho appears with SSIS/SSRS 28 times",
         "type": "scatter",
         "uid": "0abcf601-3879-43bb-b975-370af328716a",
         "x": [
          -0.8768583139422236
         ],
         "y": [
          0.20277943009684424
         ]
        },
        {
         "hoverinfo": "text",
         "marker": {
          "color": "green",
          "size": 0.5
         },
         "mode": "markers",
         "text": "SSIS/SSRS appears with Hadoop 28 times",
         "type": "scatter",
         "uid": "8606be78-caed-4616-9395-e1028f53b94b",
         "x": [
          0.21735122398774345
         ],
         "y": [
          0.873360432714369
         ]
        },
        {
         "hoverinfo": "text",
         "marker": {
          "color": "blue",
          "size": 0.5
         },
         "mode": "markers",
         "text": "Hadoop appears with SSIS/SSRS 28 times",
         "type": "scatter",
         "uid": "64e62e6f-a2c6-45cd-80d7-1839698fb386",
         "x": [
          -0.8982153275483085
         ],
         "y": [
          0.0566500252187499
         ]
        },
        {
         "hoverinfo": "text",
         "marker": {
          "color": "green",
          "size": 0.5
         },
         "mode": "markers",
         "text": "SSIS/SSRS appears with Spark 35 times",
         "type": "scatter",
         "uid": "59986113-8262-42de-87fd-78cd1c03f4f2",
         "x": [
          0.2086054962923254
         ],
         "y": [
          0.8754905750016002
         ]
        },
        {
         "hoverinfo": "text",
         "marker": {
          "color": "blue",
          "size": 0.5
         },
         "mode": "markers",
         "text": "Spark appears with SSIS/SSRS 35 times",
         "type": "scatter",
         "uid": "47a050a3-2926-461b-bdf6-a9ddbc3998e2",
         "x": [
          -0.891398808262397
         ],
         "y": [
          -0.12412962832611027
         ]
        },
        {
         "hoverinfo": "text",
         "marker": {
          "color": "green",
          "size": 0.5
         },
         "mode": "markers",
         "text": "SSIS/SSRS appears with Informatica 57 times",
         "type": "scatter",
         "uid": "a4c19f03-a94e-43dc-8ace-9ec9fd381e2e",
         "x": [
          0.15403470143036102
         ],
         "y": [
          0.8867205370099757
         ]
        },
        {
         "hoverinfo": "text",
         "marker": {
          "color": "blue",
          "size": 0.5
         },
         "mode": "markers",
         "text": "Informatica appears with SSIS/SSRS 57 times",
         "type": "scatter",
         "uid": "e2ca7b4d-9a53-45c0-ae84-532b363a3d17",
         "x": [
          -0.848791401815809
         ],
         "y": [
          -0.29925433364206094
         ]
        },
        {
         "hoverinfo": "text",
         "marker": {
          "color": "green",
          "size": 0.5
         },
         "mode": "markers",
         "text": "SSIS/SSRS appears with Qlik 53 times",
         "type": "scatter",
         "uid": "c6613e27-b003-408e-be53-a9f3ae044008",
         "x": [
          0.18462459351397606
         ],
         "y": [
          0.8808596707023197
         ]
        },
        {
         "hoverinfo": "text",
         "marker": {
          "color": "blue",
          "size": 0.5
         },
         "mode": "markers",
         "text": "Qlik appears with SSIS/SSRS 53 times",
         "type": "scatter",
         "uid": "60a0743c-fdeb-4e1e-bf39-c9b89b25e5bf",
         "x": [
          -0.7551539810113388
         ],
         "y": [
          -0.489635032409576
         ]
        },
        {
         "hoverinfo": "text",
         "marker": {
          "color": "green",
          "size": 0.5
         },
         "mode": "markers",
         "text": "SSIS/SSRS appears with Tableau 107 times",
         "type": "scatter",
         "uid": "dd1af24b-6b13-4b55-b557-54d2c9a668ab",
         "x": [
          0.07640646683723593
         ],
         "y": [
          0.8967508304013163
         ]
        },
        {
         "hoverinfo": "text",
         "marker": {
          "color": "blue",
          "size": 0.5
         },
         "mode": "markers",
         "text": "Tableau appears with SSIS/SSRS 107 times",
         "type": "scatter",
         "uid": "5d1627eb-fcc2-43f6-b309-e5dc8447703f",
         "x": [
          -0.384102166480258
         ],
         "y": [
          -0.8139198521385089
         ]
        },
        {
         "hoverinfo": "text",
         "marker": {
          "color": "green",
          "size": 0.5
         },
         "mode": "markers",
         "text": "SSIS/SSRS appears with Microstrategy 17 times",
         "type": "scatter",
         "uid": "0f8d70a9-5f9d-4856-955e-aced14c21fb6",
         "x": [
          0.24812770822589006
         ],
         "y": [
          0.8651200150329246
         ]
        },
        {
         "hoverinfo": "text",
         "marker": {
          "color": "blue",
          "size": 0.5
         },
         "mode": "markers",
         "text": "Microstrategy appears with SSIS/SSRS 17 times",
         "type": "scatter",
         "uid": "a58707d5-da80-4a40-93fc-2639672a9e28",
         "x": [
          -0.046872012671052066
         ],
         "y": [
          -0.8987786237045053
         ]
        },
        {
         "hoverinfo": "text",
         "marker": {
          "color": "green",
          "size": 0.5
         },
         "mode": "markers",
         "text": "SSIS/SSRS appears with Oracle BI 179 times",
         "type": "scatter",
         "uid": "907e18b5-7511-4d7d-8435-75f0ff50cfb9",
         "x": [
          0.0019151798975104819
         ],
         "y": [
          0.899997962267671
         ]
        },
        {
         "hoverinfo": "text",
         "marker": {
          "color": "blue",
          "size": 0.5
         },
         "mode": "markers",
         "text": "Oracle BI appears with SSIS/SSRS 179 times",
         "type": "scatter",
         "uid": "fb1bd351-de49-435d-9c60-fad581ef9f53",
         "x": [
          0.28638820507099977
         ],
         "y": [
          -0.8532184925306125
         ]
        },
        {
         "hoverinfo": "text",
         "marker": {
          "color": "green",
          "size": 0.5
         },
         "mode": "markers",
         "text": "SSIS/SSRS appears with Python 118 times",
         "type": "scatter",
         "uid": "976817f7-a868-4688-9c3b-0e01d9380252",
         "x": [
          0.04433259693967983
         ],
         "y": [
          0.8989074595577589
         ]
        },
        {
         "hoverinfo": "text",
         "marker": {
          "color": "blue",
          "size": 0.5
         },
         "mode": "markers",
         "text": "Python appears with SSIS/SSRS 118 times",
         "type": "scatter",
         "uid": "6daf63ee-445b-4061-9c73-0df44217971d",
         "x": [
          0.763949131897021
         ],
         "y": [
          -0.4757958846751283
         ]
        },
        {
         "hoverinfo": "text",
         "marker": {
          "color": "green",
          "size": 0.5
         },
         "mode": "markers",
         "text": "SSIS/SSRS appears with VBA 54 times",
         "type": "scatter",
         "uid": "f416e42b-b341-4c26-a2d0-2da0384753a7",
         "x": [
          0.1696356494122643
         ],
         "y": [
          0.8838686251069665
         ]
        },
        {
         "hoverinfo": "text",
         "marker": {
          "color": "blue",
          "size": 0.5
         },
         "mode": "markers",
         "text": "VBA appears with SSIS/SSRS 54 times",
         "type": "scatter",
         "uid": "bd0348f9-5ec4-4446-a4b3-c95cba9ffa5d",
         "x": [
          0.8436578880530222
         ],
         "y": [
          -0.31343479054807266
         ]
        },
        {
         "hoverinfo": "text",
         "marker": {
          "color": "green",
          "size": 0.5
         },
         "mode": "markers",
         "text": "SSIS/SSRS appears with Linux 14 times",
         "type": "scatter",
         "uid": "b10370ee-84bd-484f-9e9a-2fc9b1ff5963",
         "x": [
          0.2523823073626533
         ],
         "y": [
          0.8638884018959296
         ]
        },
        {
         "hoverinfo": "text",
         "marker": {
          "color": "blue",
          "size": 0.5
         },
         "mode": "markers",
         "text": "Linux appears with SSIS/SSRS 14 times",
         "type": "scatter",
         "uid": "20b74c51-cb22-412e-9245-6153acbef3e2",
         "x": [
          0.8728626247012587
         ],
         "y": [
          -0.2193418300270826
         ]
        },
        {
         "hoverinfo": "text",
         "marker": {
          "color": "green",
          "size": 0.5
         },
         "mode": "markers",
         "text": "SSIS/SSRS appears with AWS 20 times",
         "type": "scatter",
         "uid": "d5ea3202-61f7-41d5-85e5-3765e498b092",
         "x": [
          0.23808525880645495
         ],
         "y": [
          0.8679374456371054
         ]
        },
        {
         "hoverinfo": "text",
         "marker": {
          "color": "blue",
          "size": 0.5
         },
         "mode": "markers",
         "text": "AWS appears with SSIS/SSRS 20 times",
         "type": "scatter",
         "uid": "1e014d34-ca4d-42bf-b0e9-643123de6721",
         "x": [
          0.8963528859188146
         ],
         "y": [
          -0.0809413609041294
         ]
        },
        {
         "hoverinfo": "text",
         "marker": {
          "color": "green",
          "size": 0.5
         },
         "mode": "markers",
         "text": "MS SQL Server appears with PostgreSQL 36 times",
         "type": "scatter",
         "uid": "56206588-81a6-44ae-8eb1-8df668c8836d",
         "x": [
          -0.25402634697091964
         ],
         "y": [
          0.8634064020173872
         ]
        },
        {
         "hoverinfo": "text",
         "marker": {
          "color": "blue",
          "size": 0.5
         },
         "mode": "markers",
         "text": "PostgreSQL appears with MS SQL Server 36 times",
         "type": "scatter",
         "uid": "c3dfc0c5-b701-4a46-8b7b-547b39f5b0de",
         "x": [
          -0.5789368907296922
         ],
         "y": [
          0.6890806023624787
         ]
        },
        {
         "hoverinfo": "text",
         "marker": {
          "color": "green",
          "size": 0.5
         },
         "mode": "markers",
         "text": "MS SQL Server appears with MySQL/MariaDB 50 times",
         "type": "scatter",
         "uid": "9022fde8-9aeb-4f83-85c4-e33391126ee7",
         "x": [
          -0.3003000070367253
         ],
         "y": [
          0.8484220092464261
         ]
        },
        {
         "hoverinfo": "text",
         "marker": {
          "color": "blue",
          "size": 0.5
         },
         "mode": "markers",
         "text": "MySQL/MariaDB appears with MS SQL Server 50 times",
         "type": "scatter",
         "uid": "c45d65a2-3769-449e-bfe7-bb6b0a1a756b",
         "x": [
          -0.6687020333891306
         ],
         "y": [
          0.6023600173826631
         ]
        },
        {
         "hoverinfo": "text",
         "marker": {
          "color": "green",
          "size": 0.5
         },
         "mode": "markers",
         "text": "MS SQL Server appears with T-SQL 140 times",
         "type": "scatter",
         "uid": "9dbd59e2-c554-43aa-be8b-2e6f8294d494",
         "x": [
          -0.41298229782304685
         ],
         "y": [
          0.7996534384874464
         ]
        },
        {
         "hoverinfo": "text",
         "marker": {
          "color": "blue",
          "size": 0.5
         },
         "mode": "markers",
         "text": "T-SQL appears with MS SQL Server 140 times",
         "type": "scatter",
         "uid": "d02afb0c-6130-49e6-a20f-c563689801e2",
         "x": [
          -0.8168164586453832
         ],
         "y": [
          0.37790325863376073
         ]
        },
        {
         "hoverinfo": "text",
         "marker": {
          "color": "green",
          "size": 0.5
         },
         "mode": "markers",
         "text": "MS SQL Server appears with PL/SQL 10 times",
         "type": "scatter",
         "uid": "08c745ff-347e-49a8-b615-85cc146f400b",
         "x": [
          -0.21466484850180026
         ],
         "y": [
          0.874024600808066
         ]
        },
        {
         "hoverinfo": "text",
         "marker": {
          "color": "blue",
          "size": 0.5
         },
         "mode": "markers",
         "text": "PL/SQL appears with MS SQL Server 10 times",
         "type": "scatter",
         "uid": "7224b629-cad8-4a96-9dc7-bd6ebe078517",
         "x": [
          -0.8515357806021686
         ],
         "y": [
          0.2913534182985595
         ]
        },
        {
         "hoverinfo": "text",
         "marker": {
          "color": "green",
          "size": 0.5
         },
         "mode": "markers",
         "text": "MS SQL Server appears with Pentaho 39 times",
         "type": "scatter",
         "uid": "0d7dd7e1-6c0c-4d1f-9f9f-46633d244a0f",
         "x": [
          -0.2641244359396658
         ],
         "y": [
          0.8603710143534319
         ]
        },
        {
         "hoverinfo": "text",
         "marker": {
          "color": "blue",
          "size": 0.5
         },
         "mode": "markers",
         "text": "Pentaho appears with MS SQL Server 39 times",
         "type": "scatter",
         "uid": "63f3ecdd-e5df-4108-8491-e66b590d629b",
         "x": [
          -0.8888470670360195
         ],
         "y": [
          0.14124762448078942
         ]
        },
        {
         "hoverinfo": "text",
         "marker": {
          "color": "green",
          "size": 0.5
         },
         "mode": "markers",
         "text": "MS SQL Server appears with Hadoop 24 times",
         "type": "scatter",
         "uid": "970178de-a4dc-4a1f-9149-acf10077cee6",
         "x": [
          -0.2285636251983977
         ],
         "y": [
          0.8704933481860538
         ]
        },
        {
         "hoverinfo": "text",
         "marker": {
          "color": "blue",
          "size": 0.5
         },
         "mode": "markers",
         "text": "Hadoop appears with MS SQL Server 24 times",
         "type": "scatter",
         "uid": "7b7270da-9b21-4b16-8d97-3b899987e96a",
         "x": [
          -0.8977835933269486
         ],
         "y": [
          0.06312384298307813
         ]
        },
        {
         "hoverinfo": "text",
         "marker": {
          "color": "green",
          "size": 0.5
         },
         "mode": "markers",
         "text": "MS SQL Server appears with Spark 20 times",
         "type": "scatter",
         "uid": "80964db9-4ead-4f3d-896e-45b1f09dff54",
         "x": [
          -0.2225749852284369
         ],
         "y": [
          0.87204379244999
         ]
        },
        {
         "hoverinfo": "text",
         "marker": {
          "color": "blue",
          "size": 0.5
         },
         "mode": "markers",
         "text": "Spark appears with MS SQL Server 20 times",
         "type": "scatter",
         "uid": "55be8af6-df5b-4bfb-9636-0688e50c29f6",
         "x": [
          -0.8947253249998071
         ],
         "y": [
          -0.09729641722072582
         ]
        },
        {
         "hoverinfo": "text",
         "marker": {
          "color": "green",
          "size": 0.5
         },
         "mode": "markers",
         "text": "MS SQL Server appears with Informatica 50 times",
         "type": "scatter",
         "uid": "e99c455c-a025-4f1a-91e6-f933f4a6b0fe",
         "x": [
          -0.28701031065044313
         ],
         "y": [
          0.8530094264311129
         ]
        },
        {
         "hoverinfo": "text",
         "marker": {
          "color": "blue",
          "size": 0.5
         },
         "mode": "markers",
         "text": "Informatica appears with MS SQL Server 50 times",
         "type": "scatter",
         "uid": "3735f7ef-ed6f-4f7a-827b-b1afc8ea4ee7",
         "x": [
          -0.8533016555460348
         ],
         "y": [
          -0.28614032334223055
         ]
        },
        {
         "hoverinfo": "text",
         "marker": {
          "color": "green",
          "size": 0.5
         },
         "mode": "markers",
         "text": "MS SQL Server appears with Qlik 41 times",
         "type": "scatter",
         "uid": "3d126e95-8052-478e-81d6-15a5beaca420",
         "x": [
          -0.27485573575130223
         ],
         "y": [
          0.8570031064848076
         ]
        },
        {
         "hoverinfo": "text",
         "marker": {
          "color": "blue",
          "size": 0.5
         },
         "mode": "markers",
         "text": "Qlik appears with MS SQL Server 41 times",
         "type": "scatter",
         "uid": "221394fb-e819-4197-9e8b-d9d7207cad6f",
         "x": [
          -0.7700118925880145
         ],
         "y": [
          -0.46592025634546524
         ]
        },
        {
         "hoverinfo": "text",
         "marker": {
          "color": "green",
          "size": 0.5
         },
         "mode": "markers",
         "text": "MS SQL Server appears with Tableau 69 times",
         "type": "scatter",
         "uid": "24279f75-d0e6-43d2-8ec4-9f6b5366ceea",
         "x": [
          -0.3160189907563484
         ],
         "y": [
          0.8426932997724256
         ]
        },
        {
         "hoverinfo": "text",
         "marker": {
          "color": "blue",
          "size": 0.5
         },
         "mode": "markers",
         "text": "Tableau appears with MS SQL Server 69 times",
         "type": "scatter",
         "uid": "4e3e74b5-429b-4576-9f0e-eaff31246c3d",
         "x": [
          -0.4469978566372136
         ],
         "y": [
          -0.7811484597448408
         ]
        },
        {
         "hoverinfo": "text",
         "marker": {
          "color": "green",
          "size": 0.5
         },
         "mode": "markers",
         "text": "MS SQL Server appears with Microstrategy 14 times",
         "type": "scatter",
         "uid": "3a3183da-c608-4eb1-80ad-d2989190ca9f",
         "x": [
          -0.21794018295618411
         ],
         "y": [
          0.8732136489159025
         ]
        },
        {
         "hoverinfo": "text",
         "marker": {
          "color": "blue",
          "size": 0.5
         },
         "mode": "markers",
         "text": "Microstrategy appears with MS SQL Server 14 times",
         "type": "scatter",
         "uid": "376cb506-e079-4763-9292-3281673ad59b",
         "x": [
          -0.04967491564135055
         ],
         "y": [
          -0.898628066975445
         ]
        },
        {
         "hoverinfo": "text",
         "marker": {
          "color": "green",
          "size": 0.5
         },
         "mode": "markers",
         "text": "MS SQL Server appears with Oracle BI 111 times",
         "type": "scatter",
         "uid": "e82eeb06-f1b9-4d7e-b164-1d240b8dcfcb",
         "x": [
          -0.38131859564472737
         ],
         "y": [
          0.8152276544717635
         ]
        },
        {
         "hoverinfo": "text",
         "marker": {
          "color": "blue",
          "size": 0.5
         },
         "mode": "markers",
         "text": "Oracle BI appears with MS SQL Server 111 times",
         "type": "scatter",
         "uid": "53ff59bb-11b8-46dc-9bbb-39836f5d525f",
         "x": [
          0.21418451622595558
         ],
         "y": [
          -0.8741424329072771
         ]
        },
        {
         "hoverinfo": "text",
         "marker": {
          "color": "green",
          "size": 0.5
         },
         "mode": "markers",
         "text": "MS SQL Server appears with Python 77 times",
         "type": "scatter",
         "uid": "887b6839-0782-4a5b-b778-3a122501857a",
         "x": [
          -0.33515472769259047
         ],
         "y": [
          0.8352672078474681
         ]
        },
        {
         "hoverinfo": "text",
         "marker": {
          "color": "blue",
          "size": 0.5
         },
         "mode": "markers",
         "text": "Python appears with MS SQL Server 77 times",
         "type": "scatter",
         "uid": "5b18ade9-5be5-4904-afe4-4b355c7e645d",
         "x": [
          0.679904218178394
         ],
         "y": [
          -0.5896865727683028
         ]
        },
        {
         "hoverinfo": "text",
         "marker": {
          "color": "green",
          "size": 0.5
         },
         "mode": "markers",
         "text": "MS SQL Server appears with VBA 33 times",
         "type": "scatter",
         "uid": "fd737159-7d9b-4afe-b581-143da40b8acd",
         "x": [
          -0.2447052760637639
         ],
         "y": [
          0.8660942950202115
         ]
        },
        {
         "hoverinfo": "text",
         "marker": {
          "color": "blue",
          "size": 0.5
         },
         "mode": "markers",
         "text": "VBA appears with MS SQL Server 33 times",
         "type": "scatter",
         "uid": "6b7bb81e-9863-4c20-b31f-2bf917c4df27",
         "x": [
          0.8303180929328065
         ],
         "y": [
          -0.3472345958403736
         ]
        },
        {
         "hoverinfo": "text",
         "marker": {
          "color": "green",
          "size": 0.5
         },
         "mode": "markers",
         "text": "MS SQL Server appears with Linux 31 times",
         "type": "scatter",
         "uid": "6ed44481-8799-431d-a276-049c3e56aa22",
         "x": [
          -0.23603420698235691
         ],
         "y": [
          0.8684974686976411
         ]
        },
        {
         "hoverinfo": "text",
         "marker": {
          "color": "blue",
          "size": 0.5
         },
         "mode": "markers",
         "text": "Linux appears with MS SQL Server 31 times",
         "type": "scatter",
         "uid": "86bebb24-3680-435e-b1e8-f768025d87a0",
         "x": [
          0.8807320680533325
         ],
         "y": [
          -0.18523235220257864
         ]
        },
        {
         "hoverinfo": "text",
         "marker": {
          "color": "green",
          "size": 0.5
         },
         "mode": "markers",
         "text": "MS SQL Server appears with AWS 9 times",
         "type": "scatter",
         "uid": "4004a32e-8e58-4c3c-a306-8729d162bfc6",
         "x": [
          -0.2120697332106579
         ],
         "y": [
          0.874657892124664
         ]
        },
        {
         "hoverinfo": "text",
         "marker": {
          "color": "blue",
          "size": 0.5
         },
         "mode": "markers",
         "text": "AWS appears with MS SQL Server 9 times",
         "type": "scatter",
         "uid": "08bffa30-5389-4b64-be96-f4ac1a055c85",
         "x": [
          0.8950242996807649
         ],
         "y": [
          -0.09450662929634301
         ]
        },
        {
         "hoverinfo": "text",
         "marker": {
          "color": "green",
          "size": 0.5
         },
         "mode": "markers",
         "text": "PostgreSQL appears with MySQL/MariaDB 50 times",
         "type": "scatter",
         "uid": "594144eb-b3a5-4c6d-a15f-46ea178fc9d3",
         "x": [
          -0.5919419741410705
         ],
         "y": [
          0.6779415160985292
         ]
        },
        {
         "hoverinfo": "text",
         "marker": {
          "color": "blue",
          "size": 0.5
         },
         "mode": "markers",
         "text": "MySQL/MariaDB appears with PostgreSQL 50 times",
         "type": "scatter",
         "uid": "3e072774-dd65-408c-8fe9-15bd62baec5f",
         "x": [
          -0.6769531791621064
         ],
         "y": [
          0.5930719966600321
         ]
        },
        {
         "hoverinfo": "text",
         "marker": {
          "color": "green",
          "size": 0.5
         },
         "mode": "markers",
         "text": "PostgreSQL appears with T-SQL 27 times",
         "type": "scatter",
         "uid": "c6c6823c-02af-496b-8808-e95ccb99ea71",
         "x": [
          -0.5680740175079393
         ],
         "y": [
          0.6980629703919192
         ]
        },
        {
         "hoverinfo": "text",
         "marker": {
          "color": "blue",
          "size": 0.5
         },
         "mode": "markers",
         "text": "T-SQL appears with PostgreSQL 27 times",
         "type": "scatter",
         "uid": "223e7661-3f50-4b69-943d-528ced2f79fc",
         "x": [
          -0.7386033895966807
         ],
         "y": [
          0.5142616385423803
         ]
        },
        {
         "hoverinfo": "text",
         "marker": {
          "color": "green",
          "size": 0.5
         },
         "mode": "markers",
         "text": "PostgreSQL appears with Pentaho 36 times",
         "type": "scatter",
         "uid": "a0d998d8-d8cd-43db-8985-9dc437c59c1b",
         "x": [
          -0.5731608617107739
         ],
         "y": [
          0.6938923739334244
         ]
        },
        {
         "hoverinfo": "text",
         "marker": {
          "color": "blue",
          "size": 0.5
         },
         "mode": "markers",
         "text": "Pentaho appears with PostgreSQL 36 times",
         "type": "scatter",
         "uid": "6601ce65-8186-4031-84ae-c60e44c26330",
         "x": [
          -0.8873741588595364
         ],
         "y": [
          0.15022350744251078
         ]
        },
        {
         "hoverinfo": "text",
         "marker": {
          "color": "green",
          "size": 0.5
         },
         "mode": "markers",
         "text": "PostgreSQL appears with Hadoop 3 times",
         "type": "scatter",
         "uid": "174ee02c-30d6-43e9-92e9-8e690d4b0836",
         "x": [
          -0.5482543209431634
         ],
         "y": [
          0.713734684296028
         ]
        },
        {
         "hoverinfo": "text",
         "marker": {
          "color": "blue",
          "size": 0.5
         },
         "mode": "markers",
         "text": "Hadoop appears with PostgreSQL 3 times",
         "type": "scatter",
         "uid": "a9497f53-f596-4ca1-9770-0cd645f791e3",
         "x": [
          -0.896333346844713
         ],
         "y": [
          0.08115744780459452
         ]
        },
        {
         "hoverinfo": "text",
         "marker": {
          "color": "green",
          "size": 0.5
         },
         "mode": "markers",
         "text": "PostgreSQL appears with Spark 5 times",
         "type": "scatter",
         "uid": "148ac265-c74a-4850-bae3-17db30ca1b8a",
         "x": [
          -0.5489165108169294
         ],
         "y": [
          0.713225535263964
         ]
        },
        {
         "hoverinfo": "text",
         "marker": {
          "color": "blue",
          "size": 0.5
         },
         "mode": "markers",
         "text": "Spark appears with PostgreSQL 5 times",
         "type": "scatter",
         "uid": "06fc18e9-b12f-402d-bc36-b4ebca57b94f",
         "x": [
          -0.8967256450147224
         ],
         "y": [
          -0.07670148351192564
         ]
        },
        {
         "hoverinfo": "text",
         "marker": {
          "color": "green",
          "size": 0.5
         },
         "mode": "markers",
         "text": "PostgreSQL appears with Qlik 9 times",
         "type": "scatter",
         "uid": "ed37df6d-e10f-4a1c-b83a-4e0da730731c",
         "x": [
          -0.5509002411622698
         ],
         "y": [
          0.7116944037206933
         ]
        },
        {
         "hoverinfo": "text",
         "marker": {
          "color": "blue",
          "size": 0.5
         },
         "mode": "markers",
         "text": "Qlik appears with PostgreSQL 9 times",
         "type": "scatter",
         "uid": "4f5e0ef4-52aa-43d6-9141-d1b3bd6d6598",
         "x": [
          -0.7940473067065841
         ],
         "y": [
          -0.4236612735570954
         ]
        },
        {
         "hoverinfo": "text",
         "marker": {
          "color": "green",
          "size": 0.5
         },
         "mode": "markers",
         "text": "PostgreSQL appears with Tableau 5 times",
         "type": "scatter",
         "uid": "be0088a9-8698-4f39-a78f-2eee26fc5992",
         "x": [
          -0.5497435831713066
         ],
         "y": [
          0.7125882350712597
         ]
        },
        {
         "hoverinfo": "text",
         "marker": {
          "color": "blue",
          "size": 0.5
         },
         "mode": "markers",
         "text": "Tableau appears with PostgreSQL 5 times",
         "type": "scatter",
         "uid": "a9444127-da74-43f5-8206-f5b340503303",
         "x": [
          -0.5338253188384613
         ],
         "y": [
          -0.7245899039919168
         ]
        },
        {
         "hoverinfo": "text",
         "marker": {
          "color": "green",
          "size": 0.5
         },
         "mode": "markers",
         "text": "PostgreSQL appears with Oracle BI 24 times",
         "type": "scatter",
         "uid": "6b15c623-1272-4123-8580-c993dca8c0be",
         "x": [
          -0.559855709977184
         ],
         "y": [
          0.7046712595288269
         ]
        },
        {
         "hoverinfo": "text",
         "marker": {
          "color": "blue",
          "size": 0.5
         },
         "mode": "markers",
         "text": "Oracle BI appears with PostgreSQL 24 times",
         "type": "scatter",
         "uid": "dfeec552-6055-4a8f-8aac-715fb2a0238b",
         "x": [
          0.013171251427383004
         ],
         "y": [
          -0.8999036160255368
         ]
        },
        {
         "hoverinfo": "text",
         "marker": {
          "color": "green",
          "size": 0.5
         },
         "mode": "markers",
         "text": "PostgreSQL appears with Python 20 times",
         "type": "scatter",
         "uid": "f92ad6b6-6f17-415d-8d41-02f4a80ecdc6",
         "x": [
          -0.556251353276063
         ],
         "y": [
          0.707519916312289
         ]
        },
        {
         "hoverinfo": "text",
         "marker": {
          "color": "blue",
          "size": 0.5
         },
         "mode": "markers",
         "text": "Python appears with PostgreSQL 20 times",
         "type": "scatter",
         "uid": "086c2708-d8ec-45ec-8a18-d3dc8af2bae1",
         "x": [
          0.5897640530661832
         ],
         "y": [
          -0.6798370111364549
         ]
        },
        {
         "hoverinfo": "text",
         "marker": {
          "color": "green",
          "size": 0.5
         },
         "mode": "markers",
         "text": "PostgreSQL appears with Linux 25 times",
         "type": "scatter",
         "uid": "9e9ddad3-319b-4970-9570-4736e4a8b077",
         "x": [
          -0.5638524794737956
         ],
         "y": [
          0.7014772850144565
         ]
        },
        {
         "hoverinfo": "text",
         "marker": {
          "color": "blue",
          "size": 0.5
         },
         "mode": "markers",
         "text": "Linux appears with PostgreSQL 25 times",
         "type": "scatter",
         "uid": "4e56c73a-9d91-4b13-847d-2e35bb583902",
         "x": [
          0.8761966915414232
         ],
         "y": [
          -0.2056194488171393
         ]
        },
        {
         "hoverinfo": "text",
         "marker": {
          "color": "green",
          "size": 0.5
         },
         "mode": "markers",
         "text": "MySQL/MariaDB appears with T-SQL 33 times",
         "type": "scatter",
         "uid": "b58864b3-e927-4406-8fc7-c36459c534da",
         "x": [
          -0.6338221684928934
         ],
         "y": [
          0.6389596690926325
         ]
        },
        {
         "hoverinfo": "text",
         "marker": {
          "color": "blue",
          "size": 0.5
         },
         "mode": "markers",
         "text": "T-SQL appears with MySQL/MariaDB 33 times",
         "type": "scatter",
         "uid": "4614dee6-8c96-40fd-a802-dff82f4f30e7",
         "x": [
          -0.7566828050409258
         ],
         "y": [
          0.4872690556103439
         ]
        },
        {
         "hoverinfo": "text",
         "marker": {
          "color": "green",
          "size": 0.5
         },
         "mode": "markers",
         "text": "MySQL/MariaDB appears with Pentaho 54 times",
         "type": "scatter",
         "uid": "b69c6892-d842-436f-80c1-6d2b99bbddec",
         "x": [
          -0.6853975096939691
         ],
         "y": [
          0.5832925969916862
         ]
        },
        {
         "hoverinfo": "text",
         "marker": {
          "color": "blue",
          "size": 0.5
         },
         "mode": "markers",
         "text": "Pentaho appears with MySQL/MariaDB 54 times",
         "type": "scatter",
         "uid": "44e69c25-0180-49fb-a5a5-dd8c894c896f",
         "x": [
          -0.8905473686703803
         ],
         "y": [
          0.1300975947289645
         ]
        },
        {
         "hoverinfo": "text",
         "marker": {
          "color": "green",
          "size": 0.5
         },
         "mode": "markers",
         "text": "MySQL/MariaDB appears with Hadoop 3 times",
         "type": "scatter",
         "uid": "5ed6fba6-6e4d-4075-bd5d-20f394060ee6",
         "x": [
          -0.6173900214533447
         ],
         "y": [
          0.6548507932421238
         ]
        },
        {
         "hoverinfo": "text",
         "marker": {
          "color": "blue",
          "size": 0.5
         },
         "mode": "markers",
         "text": "Hadoop appears with MySQL/MariaDB 3 times",
         "type": "scatter",
         "uid": "9e94bf6c-a50c-4d60-9e62-8bc05ffe7cb9",
         "x": [
          -0.8964005452912256
         ],
         "y": [
          0.08041182998535387
         ]
        },
        {
         "hoverinfo": "text",
         "marker": {
          "color": "green",
          "size": 0.5
         },
         "mode": "markers",
         "text": "MySQL/MariaDB appears with Spark 18 times",
         "type": "scatter",
         "uid": "c3e2008c-c8be-458e-ba08-08a3dd96f6a0",
         "x": [
          -0.6239575561355342
         ],
         "y": [
          0.6485961518089448
         ]
        },
        {
         "hoverinfo": "text",
         "marker": {
          "color": "blue",
          "size": 0.5
         },
         "mode": "markers",
         "text": "Spark appears with MySQL/MariaDB 18 times",
         "type": "scatter",
         "uid": "e831ddc0-8d8b-46fc-bbc5-bdafcfe164eb",
         "x": [
          -0.8952339759693916
         ],
         "y": [
          -0.09249934199784811
         ]
        },
        {
         "hoverinfo": "text",
         "marker": {
          "color": "green",
          "size": 0.5
         },
         "mode": "markers",
         "text": "MySQL/MariaDB appears with Informatica 8 times",
         "type": "scatter",
         "uid": "1bdfc601-db6e-4867-ae08-480e7401f06c",
         "x": [
          -0.6192857652285598
         ],
         "y": [
          0.653058298305195
         ]
        },
        {
         "hoverinfo": "text",
         "marker": {
          "color": "blue",
          "size": 0.5
         },
         "mode": "markers",
         "text": "Informatica appears with MySQL/MariaDB 8 times",
         "type": "scatter",
         "uid": "e74301cf-88ad-42de-b619-4e015193c66d",
         "x": [
          -0.8635610246415308
         ],
         "y": [
          -0.25350021049314625
         ]
        },
        {
         "hoverinfo": "text",
         "marker": {
          "color": "green",
          "size": 0.5
         },
         "mode": "markers",
         "text": "MySQL/MariaDB appears with Qlik 13 times",
         "type": "scatter",
         "uid": "3ba21c99-2c23-43ff-bb88-76d2fea6da07",
         "x": [
          -0.6211763047994852
         ],
         "y": [
          0.651260315354511
         ]
        },
        {
         "hoverinfo": "text",
         "marker": {
          "color": "blue",
          "size": 0.5
         },
         "mode": "markers",
         "text": "Qlik appears with MySQL/MariaDB 13 times",
         "type": "scatter",
         "uid": "c00647db-cb92-42ef-8948-fa51abab0230",
         "x": [
          -0.7900200108066106
         ],
         "y": [
          -0.4311245556972173
         ]
        },
        {
         "hoverinfo": "text",
         "marker": {
          "color": "green",
          "size": 0.5
         },
         "mode": "markers",
         "text": "MySQL/MariaDB appears with Tableau 35 times",
         "type": "scatter",
         "uid": "a9af0cec-da54-4a05-8621-59e8ad018c92",
         "x": [
          -0.639791995894951
         ],
         "y": [
          0.6329819918360673
         ]
        },
        {
         "hoverinfo": "text",
         "marker": {
          "color": "blue",
          "size": 0.5
         },
         "mode": "markers",
         "text": "Tableau appears with MySQL/MariaDB 35 times",
         "type": "scatter",
         "uid": "7846fbd6-849a-4184-b46f-48a4fc9ec481",
         "x": [
          -0.487248709745643
         ],
         "y": [
          -0.7566959064586025
         ]
        },
        {
         "hoverinfo": "text",
         "marker": {
          "color": "green",
          "size": 0.5
         },
         "mode": "markers",
         "text": "MySQL/MariaDB appears with Oracle BI 44 times",
         "type": "scatter",
         "uid": "4c6436e6-95c2-4bbd-9e2f-660ab90e1f64",
         "x": [
          -0.6608297423034014
         ],
         "y": [
          0.6109861305195234
         ]
        },
        {
         "hoverinfo": "text",
         "marker": {
          "color": "blue",
          "size": 0.5
         },
         "mode": "markers",
         "text": "Oracle BI appears with MySQL/MariaDB 44 times",
         "type": "scatter",
         "uid": "7b9d923f-5a9a-42d2-9a56-109fc75a1e96",
         "x": [
          0.07058507893858598
         ],
         "y": [
          -0.8972278120027453
         ]
        },
        {
         "hoverinfo": "text",
         "marker": {
          "color": "green",
          "size": 0.5
         },
         "mode": "markers",
         "text": "MySQL/MariaDB appears with Python 41 times",
         "type": "scatter",
         "uid": "4ff8657f-afe2-4070-9dbc-bb3517533728",
         "x": [
          -0.6463974192867169
         ],
         "y": [
          0.6262350807320461
         ]
        },
        {
         "hoverinfo": "text",
         "marker": {
          "color": "blue",
          "size": 0.5
         },
         "mode": "markers",
         "text": "Python appears with MySQL/MariaDB 41 times",
         "type": "scatter",
         "uid": "393f2411-bdee-4285-874e-37ccc5d6e1bc",
         "x": [
          0.6145915362716323
         ],
         "y": [
          -0.6574779414879826
         ]
        },
        {
         "hoverinfo": "text",
         "marker": {
          "color": "green",
          "size": 0.5
         },
         "mode": "markers",
         "text": "MySQL/MariaDB appears with VBA 2 times",
         "type": "scatter",
         "uid": "bbe1452b-e40d-425a-9474-441807421ff0",
         "x": [
          -0.6169378885790748
         ],
         "y": [
          0.6552767672026782
         ]
        },
        {
         "hoverinfo": "text",
         "marker": {
          "color": "blue",
          "size": 0.5
         },
         "mode": "markers",
         "text": "VBA appears with MySQL/MariaDB 2 times",
         "type": "scatter",
         "uid": "17ac1b63-1d6a-4fb6-9313-275b163106fb",
         "x": [
          0.8183486889710424
         ],
         "y": [
          -0.37457365531945275
         ]
        },
        {
         "hoverinfo": "text",
         "marker": {
          "color": "green",
          "size": 0.5
         },
         "mode": "markers",
         "text": "MySQL/MariaDB appears with Linux 30 times",
         "type": "scatter",
         "uid": "265153b0-d9ca-47ac-b107-47a2d248eb8e",
         "x": [
          -0.628241448206352
         ],
         "y": [
          0.6444475795249646
         ]
        },
        {
         "hoverinfo": "text",
         "marker": {
          "color": "blue",
          "size": 0.5
         },
         "mode": "markers",
         "text": "Linux appears with MySQL/MariaDB 30 times",
         "type": "scatter",
         "uid": "c8af6d85-e886-4c56-9344-bbc9363cbfa4",
         "x": [
          0.8792137346697936
         ],
         "y": [
          -0.1923101889344239
         ]
        },
        {
         "hoverinfo": "text",
         "marker": {
          "color": "green",
          "size": 0.5
         },
         "mode": "markers",
         "text": "T-SQL appears with PL/SQL 28 times",
         "type": "scatter",
         "uid": "48282843-3b8b-4db5-9ce0-5ff4af010f5b",
         "x": [
          -0.7428677917678154
         ],
         "y": [
          0.508082123237976
         ]
        },
        {
         "hoverinfo": "text",
         "marker": {
          "color": "blue",
          "size": 0.5
         },
         "mode": "markers",
         "text": "PL/SQL appears with T-SQL 28 times",
         "type": "scatter",
         "uid": "ed132fc9-e854-483d-aea6-1d797572e2cf",
         "x": [
          -0.8578725331052983
         ],
         "y": [
          0.2721299633327775
         ]
        },
        {
         "hoverinfo": "text",
         "marker": {
          "color": "green",
          "size": 0.5
         },
         "mode": "markers",
         "text": "T-SQL appears with Pentaho 31 times",
         "type": "scatter",
         "uid": "c82ca391-286c-4c44-a2ac-45bc80f962b9",
         "x": [
          -0.7519170778881058
         ],
         "y": [
          0.49459145562798823
         ]
        },
        {
         "hoverinfo": "text",
         "marker": {
          "color": "blue",
          "size": 0.5
         },
         "mode": "markers",
         "text": "Pentaho appears with T-SQL 31 times",
         "type": "scatter",
         "uid": "cfff7371-217d-415f-b32d-c4a77c4a0f89",
         "x": [
          -0.881494035718821
         ],
         "y": [
          0.18157165250155624
         ]
        },
        {
         "hoverinfo": "text",
         "marker": {
          "color": "green",
          "size": 0.5
         },
         "mode": "markers",
         "text": "T-SQL appears with Hadoop 16 times",
         "type": "scatter",
         "uid": "b524c441-8ead-429e-a9d0-8b63d57c1ea6",
         "x": [
          -0.7277583142351781
         ],
         "y": [
          0.5294977205442642
         ]
        },
        {
         "hoverinfo": "text",
         "marker": {
          "color": "blue",
          "size": 0.5
         },
         "mode": "markers",
         "text": "Hadoop appears with T-SQL 16 times",
         "type": "scatter",
         "uid": "fecfba33-0bd6-4e07-b2d1-af7e0c8a3755",
         "x": [
          -0.8970887630323138
         ],
         "y": [
          0.07233084571020344
         ]
        },
        {
         "hoverinfo": "text",
         "marker": {
          "color": "green",
          "size": 0.5
         },
         "mode": "markers",
         "text": "T-SQL appears with Spark 16 times",
         "type": "scatter",
         "uid": "ac16ac05-909d-4692-be96-86475f23d8dd",
         "x": [
          -0.7251797107320087
         ],
         "y": [
          0.5330238147987763
         ]
        },
        {
         "hoverinfo": "text",
         "marker": {
          "color": "blue",
          "size": 0.5
         },
         "mode": "markers",
         "text": "Spark appears with T-SQL 16 times",
         "type": "scatter",
         "uid": "51823595-2741-4196-8148-8abdb509b360",
         "x": [
          -0.8956672842516435
         ],
         "y": [
          -0.0882049654003995
         ]
        },
        {
         "hoverinfo": "text",
         "marker": {
          "color": "green",
          "size": 0.5
         },
         "mode": "markers",
         "text": "T-SQL appears with Informatica 11 times",
         "type": "scatter",
         "uid": "66da4715-ef37-4f89-af7f-71cd71ab2deb",
         "x": [
          -0.7229907228517526
         ],
         "y": [
          0.5359891926805057
         ]
        },
        {
         "hoverinfo": "text",
         "marker": {
          "color": "blue",
          "size": 0.5
         },
         "mode": "markers",
         "text": "Informatica appears with T-SQL 11 times",
         "type": "scatter",
         "uid": "f986c736-6e26-41c9-9721-7a6cafb1a417",
         "x": [
          -0.8628641726639755
         ],
         "y": [
          -0.25586211038939105
         ]
        },
        {
         "hoverinfo": "text",
         "marker": {
          "color": "green",
          "size": 0.5
         },
         "mode": "markers",
         "text": "T-SQL appears with Qlik 52 times",
         "type": "scatter",
         "uid": "d0c8d41a-e949-4461-9c61-20c60e90f576",
         "x": [
          -0.7690652448826621
         ],
         "y": [
          0.4674811751435249
         ]
        },
        {
         "hoverinfo": "text",
         "marker": {
          "color": "blue",
          "size": 0.5
         },
         "mode": "markers",
         "text": "Qlik appears with T-SQL 52 times",
         "type": "scatter",
         "uid": "b50acaf3-107b-4f52-b9e2-d7c53b8bc36b",
         "x": [
          -0.7631250356094917
         ],
         "y": [
          -0.47711652667457655
         ]
        },
        {
         "hoverinfo": "text",
         "marker": {
          "color": "green",
          "size": 0.5
         },
         "mode": "markers",
         "text": "T-SQL appears with Tableau 72 times",
         "type": "scatter",
         "uid": "961bf7ed-9198-41eb-a3a0-aed165ad07a3",
         "x": [
          -0.7777211908430037
         ],
         "y": [
          0.45293459717020984
         ]
        },
        {
         "hoverinfo": "text",
         "marker": {
          "color": "blue",
          "size": 0.5
         },
         "mode": "markers",
         "text": "Tableau appears with T-SQL 72 times",
         "type": "scatter",
         "uid": "d7d9e1a5-4042-4fc1-806b-cb8bc8689396",
         "x": [
          -0.4293121481061112
         ],
         "y": [
          -0.7910063713324416
         ]
        },
        {
         "hoverinfo": "text",
         "marker": {
          "color": "green",
          "size": 0.5
         },
         "mode": "markers",
         "text": "T-SQL appears with Microstrategy 6 times",
         "type": "scatter",
         "uid": "f93fcbd6-4453-4119-9271-d12d2d5c0aa8",
         "x": [
          -0.7202988297475588
         ],
         "y": [
          0.5396013304878866
         ]
        },
        {
         "hoverinfo": "text",
         "marker": {
          "color": "blue",
          "size": 0.5
         },
         "mode": "markers",
         "text": "Microstrategy appears with T-SQL 6 times",
         "type": "scatter",
         "uid": "aedcbee0-b199-4f26-bc79-01604dc4ad46",
         "x": [
          -0.058351687302324144
         ],
         "y": [
          -0.8981063860083458
         ]
        },
        {
         "hoverinfo": "text",
         "marker": {
          "color": "green",
          "size": 0.5
         },
         "mode": "markers",
         "text": "T-SQL appears with Oracle BI 102 times",
         "type": "scatter",
         "uid": "48faed8a-4abc-43e4-969f-9b984d35dd87",
         "x": [
          -0.802397909178571
         ],
         "y": [
          0.40762433115045743
         ]
        },
        {
         "hoverinfo": "text",
         "marker": {
          "color": "blue",
          "size": 0.5
         },
         "mode": "markers",
         "text": "Oracle BI appears with T-SQL 102 times",
         "type": "scatter",
         "uid": "d0aa480e-dd1e-49fc-ae3f-b574746cfe99",
         "x": [
          0.1540912497776121
         ],
         "y": [
          -0.8867107119810685
         ]
        },
        {
         "hoverinfo": "text",
         "marker": {
          "color": "green",
          "size": 0.5
         },
         "mode": "markers",
         "text": "T-SQL appears with Python 43 times",
         "type": "scatter",
         "uid": "17e94b15-0e2d-4b7f-8a82-2ba7ef75fe52",
         "x": [
          -0.762249456561368
         ],
         "y": [
          0.47851412306419877
         ]
        },
        {
         "hoverinfo": "text",
         "marker": {
          "color": "blue",
          "size": 0.5
         },
         "mode": "markers",
         "text": "Python appears with T-SQL 43 times",
         "type": "scatter",
         "uid": "f8cb598e-bc55-4ab7-8d8d-1bd9b8ea44ec",
         "x": [
          0.6231895757942506
         ],
         "y": [
          -0.6493340839824921
         ]
        },
        {
         "hoverinfo": "text",
         "marker": {
          "color": "green",
          "size": 0.5
         },
         "mode": "markers",
         "text": "T-SQL appears with VBA 26 times",
         "type": "scatter",
         "uid": "aab1815b-7d18-4bbd-9ecb-56c92b1c4ced",
         "x": [
          -0.7344454202364756
         ],
         "y": [
          0.5201825878416796
         ]
        },
        {
         "hoverinfo": "text",
         "marker": {
          "color": "blue",
          "size": 0.5
         },
         "mode": "markers",
         "text": "VBA appears with T-SQL 26 times",
         "type": "scatter",
         "uid": "cf1011ff-7f8a-43f4-bfc0-6941e297312a",
         "x": [
          0.8274476872577745
         ],
         "y": [
          -0.35402023226329904
         ]
        },
        {
         "hoverinfo": "text",
         "marker": {
          "color": "green",
          "size": 0.5
         },
         "mode": "markers",
         "text": "T-SQL appears with Linux 21 times",
         "type": "scatter",
         "uid": "b3beae28-e3aa-40dd-bca1-e687efa9170d",
         "x": [
          -0.7307184479252102
         ],
         "y": [
          0.5254051292686167
         ]
        },
        {
         "hoverinfo": "text",
         "marker": {
          "color": "blue",
          "size": 0.5
         },
         "mode": "markers",
         "text": "Linux appears with T-SQL 21 times",
         "type": "scatter",
         "uid": "56421bf6-c756-4198-9b20-4256007af0a1",
         "x": [
          0.8749334253098545
         ],
         "y": [
          -0.21093008622661052
         ]
        },
        {
         "hoverinfo": "text",
         "marker": {
          "color": "green",
          "size": 0.5
         },
         "mode": "markers",
         "text": "T-SQL appears with AWS 8 times",
         "type": "scatter",
         "uid": "def39d6b-bcd8-481d-9d9e-08dc8bd2e7a5",
         "x": [
          -0.7214430529441203
         ],
         "y": [
          0.5380705542572157
         ]
        },
        {
         "hoverinfo": "text",
         "marker": {
          "color": "blue",
          "size": 0.5
         },
         "mode": "markers",
         "text": "AWS appears with T-SQL 8 times",
         "type": "scatter",
         "uid": "bbade264-d9eb-4694-a463-776d3f8e17a5",
         "x": [
          0.8948277469255878
         ],
         "y": [
          -0.09634990052966445
         ]
        },
        {
         "hoverinfo": "text",
         "marker": {
          "color": "green",
          "size": 0.5
         },
         "mode": "markers",
         "text": "PL/SQL appears with Pentaho 8 times",
         "type": "scatter",
         "uid": "e99d5fda-8cb0-421b-b5fe-3f34a756669f",
         "x": [
          -0.8509615744146655
         ],
         "y": [
          0.2930262767563924
         ]
        },
        {
         "hoverinfo": "text",
         "marker": {
          "color": "blue",
          "size": 0.5
         },
         "mode": "markers",
         "text": "Pentaho appears with PL/SQL 8 times",
         "type": "scatter",
         "uid": "14d4a822-77dd-4529-9131-97eb9dfe6d5f",
         "x": [
          -0.873872450324955
         ],
         "y": [
          0.2152833959297817
         ]
        },
        {
         "hoverinfo": "text",
         "marker": {
          "color": "green",
          "size": 0.5
         },
         "mode": "markers",
         "text": "PL/SQL appears with Hadoop 3 times",
         "type": "scatter",
         "uid": "55509d57-cb2f-4b8d-a525-5bb873c75993",
         "x": [
          -0.8502875137595166
         ],
         "y": [
          0.2949765142255565
         ]
        },
        {
         "hoverinfo": "text",
         "marker": {
          "color": "blue",
          "size": 0.5
         },
         "mode": "markers",
         "text": "Hadoop appears with PL/SQL 3 times",
         "type": "scatter",
         "uid": "56e463cd-1515-4152-826d-70a1efe1a3a4",
         "x": [
          -0.8964671234932305
         ],
         "y": [
          0.07966615652692809
         ]
        },
        {
         "hoverinfo": "text",
         "marker": {
          "color": "green",
          "size": 0.5
         },
         "mode": "markers",
         "text": "PL/SQL appears with Informatica 21 times",
         "type": "scatter",
         "uid": "e1b2a20d-b110-4b07-8627-1be81de1d2f5",
         "x": [
          -0.8550039669440959
         ],
         "y": [
          0.28101284047149777
         ]
        },
        {
         "hoverinfo": "text",
         "marker": {
          "color": "blue",
          "size": 0.5
         },
         "mode": "markers",
         "text": "Informatica appears with PL/SQL 21 times",
         "type": "scatter",
         "uid": "352bddad-ef46-4651-8bc2-fa76a91a88a1",
         "x": [
          -0.8604693844297935
         ],
         "y": [
          -0.2638037878026246
         ]
        },
        {
         "hoverinfo": "text",
         "marker": {
          "color": "green",
          "size": 0.5
         },
         "mode": "markers",
         "text": "PL/SQL appears with Qlik 10 times",
         "type": "scatter",
         "uid": "b420d856-2222-4de8-8eaa-8497d9f29cba",
         "x": [
          -0.8521699304086102
         ],
         "y": [
          0.2894933672942862
         ]
        },
        {
         "hoverinfo": "text",
         "marker": {
          "color": "blue",
          "size": 0.5
         },
         "mode": "markers",
         "text": "Qlik appears with PL/SQL 10 times",
         "type": "scatter",
         "uid": "54ce4bb9-a3ae-4e30-900d-9280359d12fb",
         "x": [
          -0.7915721180233417
         ],
         "y": [
          -0.42826811925246183
         ]
        },
        {
         "hoverinfo": "text",
         "marker": {
          "color": "green",
          "size": 0.5
         },
         "mode": "markers",
         "text": "PL/SQL appears with Tableau 13 times",
         "type": "scatter",
         "uid": "cfaaa288-c1a6-45d5-9e8a-86291dcf951a",
         "x": [
          -0.8528941796232036
         ],
         "y": [
          0.2873526028503355
         ]
        },
        {
         "hoverinfo": "text",
         "marker": {
          "color": "blue",
          "size": 0.5
         },
         "mode": "markers",
         "text": "Tableau appears with PL/SQL 13 times",
         "type": "scatter",
         "uid": "31dba491-d90c-4b22-8c5e-22d720228fed",
         "x": [
          -0.5294221855475647
         ],
         "y": [
          -0.727813265508427
         ]
        },
        {
         "hoverinfo": "text",
         "marker": {
          "color": "green",
          "size": 0.5
         },
         "mode": "markers",
         "text": "PL/SQL appears with Microstrategy 17 times",
         "type": "scatter",
         "uid": "250f2205-3cc8-4b92-a625-309d51137493",
         "x": [
          -0.8538307697564087
         ],
         "y": [
          0.28455758049501784
         ]
        },
        {
         "hoverinfo": "text",
         "marker": {
          "color": "blue",
          "size": 0.5
         },
         "mode": "markers",
         "text": "Microstrategy appears with PL/SQL 17 times",
         "type": "scatter",
         "uid": "6ed40772-f8a7-403a-a6cd-ed384d7291d5",
         "x": [
          -0.043797337791942566
         ],
         "y": [
          -0.8989336978900827
         ]
        },
        {
         "hoverinfo": "text",
         "marker": {
          "color": "green",
          "size": 0.5
         },
         "mode": "markers",
         "text": "PL/SQL appears with Oracle BI 71 times",
         "type": "scatter",
         "uid": "6b0eb29a-bb2e-4c52-98c4-60b878c88aa1",
         "x": [
          -0.8634157520579647
         ],
         "y": [
          0.25399456509575
         ]
        },
        {
         "hoverinfo": "text",
         "marker": {
          "color": "blue",
          "size": 0.5
         },
         "mode": "markers",
         "text": "Oracle BI appears with PL/SQL 71 times",
         "type": "scatter",
         "uid": "881bd9e4-f08b-44ca-b203-f2c777c2f5a0",
         "x": [
          0.10309330038272317
         ],
         "y": [
          -0.8940759315719206
         ]
        },
        {
         "hoverinfo": "text",
         "marker": {
          "color": "green",
          "size": 0.5
         },
         "mode": "markers",
         "text": "PL/SQL appears with Python 2 times",
         "type": "scatter",
         "uid": "590ef1cd-3675-445d-971c-4d00fd7a092a",
         "x": [
          -0.8499326503748638
         ],
         "y": [
          0.29599744902069597
         ]
        },
        {
         "hoverinfo": "text",
         "marker": {
          "color": "blue",
          "size": 0.5
         },
         "mode": "markers",
         "text": "Python appears with PL/SQL 2 times",
         "type": "scatter",
         "uid": "aabcc10b-f298-4016-bcbb-8df1351b68c4",
         "x": [
          0.585064232511782
         ],
         "y": [
          -0.683885841230391
         ]
        },
        {
         "hoverinfo": "text",
         "marker": {
          "color": "green",
          "size": 0.5
         },
         "mode": "markers",
         "text": "PL/SQL appears with VBA 5 times",
         "type": "scatter",
         "uid": "c3f481c3-0944-45c3-b846-438fbcf36df7",
         "x": [
          -0.8505448259863372
         ],
         "y": [
          0.2942337488934119
         ]
        },
        {
         "hoverinfo": "text",
         "marker": {
          "color": "blue",
          "size": 0.5
         },
         "mode": "markers",
         "text": "VBA appears with PL/SQL 5 times",
         "type": "scatter",
         "uid": "3eeb870e-32b0-4976-824c-6a0e76d4f83f",
         "x": [
          0.8190230100500233
         ],
         "y": [
          -0.373096916375088
         ]
        },
        {
         "hoverinfo": "text",
         "marker": {
          "color": "green",
          "size": 0.5
         },
         "mode": "markers",
         "text": "PL/SQL appears with Linux 1 times",
         "type": "scatter",
         "uid": "4b0296ff-8f9e-43b5-9f46-8f0b16e5aed6",
         "x": [
          -0.8498356566829492
         ],
         "y": [
          0.29627581175360973
         ]
        },
        {
         "hoverinfo": "text",
         "marker": {
          "color": "blue",
          "size": 0.5
         },
         "mode": "markers",
         "text": "Linux appears with PL/SQL 1 times",
         "type": "scatter",
         "uid": "8caf0aeb-df1c-4fba-b721-a19e81139d92",
         "x": [
          0.8710701994509212
         ],
         "y": [
          -0.22635526861226882
         ]
        },
        {
         "hoverinfo": "text",
         "marker": {
          "color": "green",
          "size": 0.5
         },
         "mode": "markers",
         "text": "PL/SQL appears with AWS 1 times",
         "type": "scatter",
         "uid": "b10eb1e0-1b05-49de-8300-78b594f912c2",
         "x": [
          -0.8497709435726974
         ],
         "y": [
          0.29646136925334376
         ]
        },
        {
         "hoverinfo": "text",
         "marker": {
          "color": "blue",
          "size": 0.5
         },
         "mode": "markers",
         "text": "AWS appears with PL/SQL 1 times",
         "type": "scatter",
         "uid": "212ac3be-a5c5-4dea-b93b-38babd54753c",
         "x": [
          0.894459555011906
         ],
         "y": [
          -0.09971010203536605
         ]
        },
        {
         "hoverinfo": "text",
         "marker": {
          "color": "green",
          "size": 0.5
         },
         "mode": "markers",
         "text": "Pentaho appears with Spark 6 times",
         "type": "scatter",
         "uid": "4ab47b30-2e19-40c5-a341-9885c3c08b52",
         "x": [
          -0.8730539368694967
         ],
         "y": [
          0.21857910082318702
         ]
        },
        {
         "hoverinfo": "text",
         "marker": {
          "color": "blue",
          "size": 0.5
         },
         "mode": "markers",
         "text": "Spark appears with Pentaho 6 times",
         "type": "scatter",
         "uid": "bbd3c754-c5b0-4d0e-80a8-416e76120f27",
         "x": [
          -0.896472092184231
         ],
         "y": [
          -0.07961022506454617
         ]
        },
        {
         "hoverinfo": "text",
         "marker": {
          "color": "green",
          "size": 0.5
         },
         "mode": "markers",
         "text": "Pentaho appears with Informatica 31 times",
         "type": "scatter",
         "uid": "ea414b48-10c6-413e-b9cd-fdf1c2479010",
         "x": [
          -0.8829802504231491
         ],
         "y": [
          0.17420068129221775
         ]
        },
        {
         "hoverinfo": "text",
         "marker": {
          "color": "blue",
          "size": 0.5
         },
         "mode": "markers",
         "text": "Informatica appears with Pentaho 31 times",
         "type": "scatter",
         "uid": "08dfe883-df17-4371-8896-64b5bf05838f",
         "x": [
          -0.8565812787697696
         ],
         "y": [
          -0.27616754490914797
         ]
        },
        {
         "hoverinfo": "text",
         "marker": {
          "color": "green",
          "size": 0.5
         },
         "mode": "markers",
         "text": "Pentaho appears with Qlik 22 times",
         "type": "scatter",
         "uid": "c73164c4-933c-4a06-ad89-d2540bf11770",
         "x": [
          -0.8754721428781056
         ],
         "y": [
          0.2086828384041625
         ]
        },
        {
         "hoverinfo": "text",
         "marker": {
          "color": "blue",
          "size": 0.5
         },
         "mode": "markers",
         "text": "Qlik appears with Pentaho 22 times",
         "type": "scatter",
         "uid": "24f56450-25b5-462a-a792-caddff27a102",
         "x": [
          -0.7855779608294303
         ],
         "y": [
          -0.4391665600419436
         ]
        },
        {
         "hoverinfo": "text",
         "marker": {
          "color": "green",
          "size": 0.5
         },
         "mode": "markers",
         "text": "Pentaho appears with Tableau 33 times",
         "type": "scatter",
         "uid": "99d1ec15-bd7c-444c-a398-3e68abda3ad2",
         "x": [
          -0.8844497577765182
         ],
         "y": [
          0.16657918828310497
         ]
        },
        {
         "hoverinfo": "text",
         "marker": {
          "color": "blue",
          "size": 0.5
         },
         "mode": "markers",
         "text": "Tableau appears with Pentaho 33 times",
         "type": "scatter",
         "uid": "166c09ac-5158-4fb7-b36b-6506090d7d79",
         "x": [
          -0.49542999857800024
         ],
         "y": [
          -0.7513648358214554
         ]
        },
        {
         "hoverinfo": "text",
         "marker": {
          "color": "green",
          "size": 0.5
         },
         "mode": "markers",
         "text": "Pentaho appears with Microstrategy 2 times",
         "type": "scatter",
         "uid": "6a982f89-7b11-4d76-b234-99d0f9e24755",
         "x": [
          -0.8728177924341063
         ],
         "y": [
          0.219520161284683
         ]
        },
        {
         "hoverinfo": "text",
         "marker": {
          "color": "blue",
          "size": 0.5
         },
         "mode": "markers",
         "text": "Microstrategy appears with Pentaho 2 times",
         "type": "scatter",
         "uid": "d31721ff-28cd-4579-97cb-c1778001806a",
         "x": [
          -0.06015868981905701
         ],
         "y": [
          -0.8979871558320055
         ]
        },
        {
         "hoverinfo": "text",
         "marker": {
          "color": "green",
          "size": 0.5
         },
         "mode": "markers",
         "text": "Pentaho appears with Oracle BI 30 times",
         "type": "scatter",
         "uid": "93934b20-b0ef-4c15-ae59-402c8ee62b87",
         "x": [
          -0.8799717417808943
         ],
         "y": [
          0.18881137059800993
         ]
        },
        {
         "hoverinfo": "text",
         "marker": {
          "color": "blue",
          "size": 0.5
         },
         "mode": "markers",
         "text": "Oracle BI appears with Pentaho 30 times",
         "type": "scatter",
         "uid": "8b9cab46-b773-4df1-a3dc-d23ce76db6e1",
         "x": [
          0.036388434150347385
         ],
         "y": [
          -0.8992640779326648
         ]
        },
        {
         "hoverinfo": "text",
         "marker": {
          "color": "green",
          "size": 0.5
         },
         "mode": "markers",
         "text": "Pentaho appears with Python 34 times",
         "type": "scatter",
         "uid": "7142e332-d183-480b-aba0-fe54f687ab42",
         "x": [
          -0.8859176647337279
         ],
         "y": [
          0.1585871725983476
         ]
        },
        {
         "hoverinfo": "text",
         "marker": {
          "color": "blue",
          "size": 0.5
         },
         "mode": "markers",
         "text": "Python appears with Pentaho 34 times",
         "type": "scatter",
         "uid": "3b5f6972-6d0d-4f53-81f9-5ad819a029f5",
         "x": [
          0.6068247470552464
         ],
         "y": [
          -0.6646530872277179
         ]
        },
        {
         "hoverinfo": "text",
         "marker": {
          "color": "green",
          "size": 0.5
         },
         "mode": "markers",
         "text": "Pentaho appears with VBA 1 times",
         "type": "scatter",
         "uid": "2ac23fc0-62bc-423b-b9c6-7520007f1e13",
         "x": [
          -0.8727289767403278
         ],
         "y": [
          0.2198729932433275
         ]
        },
        {
         "hoverinfo": "text",
         "marker": {
          "color": "blue",
          "size": 0.5
         },
         "mode": "markers",
         "text": "VBA appears with Pentaho 1 times",
         "type": "scatter",
         "uid": "7090028e-eac8-4805-ac6d-6e6c986ba675",
         "x": [
          0.8179844900005125
         ],
         "y": [
          -0.37536831794732134
         ]
        },
        {
         "hoverinfo": "text",
         "marker": {
          "color": "green",
          "size": 0.5
         },
         "mode": "markers",
         "text": "Pentaho appears with Linux 30 times",
         "type": "scatter",
         "uid": "96e10b2e-573e-4bba-a60a-dae59d233bbf",
         "x": [
          -0.8784163982112705
         ],
         "y": [
          0.1959199616004931
         ]
        },
        {
         "hoverinfo": "text",
         "marker": {
          "color": "blue",
          "size": 0.5
         },
         "mode": "markers",
         "text": "Linux appears with Pentaho 30 times",
         "type": "scatter",
         "uid": "931dc361-66fa-4adc-9bf6-3b4a68337bdc",
         "x": [
          0.8776648037393412
         ],
         "y": [
          -0.19925986117927455
         ]
        },
        {
         "hoverinfo": "text",
         "marker": {
          "color": "green",
          "size": 0.5
         },
         "mode": "markers",
         "text": "Pentaho appears with AWS 13 times",
         "type": "scatter",
         "uid": "d1d5862a-48fe-4bc8-8844-921786b12f8b",
         "x": [
          -0.8744781716667083
         ],
         "y": [
          0.21280960335109672
         ]
        },
        {
         "hoverinfo": "text",
         "marker": {
          "color": "blue",
          "size": 0.5
         },
         "mode": "markers",
         "text": "AWS appears with Pentaho 13 times",
         "type": "scatter",
         "uid": "e162253b-ee85-4990-8132-81b771b4346c",
         "x": [
          0.895273025599379
         ],
         "y": [
          -0.09212062545452947
         ]
        },
        {
         "hoverinfo": "text",
         "marker": {
          "color": "green",
          "size": 0.5
         },
         "mode": "markers",
         "text": "Hadoop appears with Spark 94 times",
         "type": "scatter",
         "uid": "cdb533ff-d646-4f99-9b6d-e3b3447ccde3",
         "x": [
          -0.8999365130179492
         ],
         "y": [
          -0.010689833352047234
         ]
        },
        {
         "hoverinfo": "text",
         "marker": {
          "color": "blue",
          "size": 0.5
         },
         "mode": "markers",
         "text": "Spark appears with Hadoop 94 times",
         "type": "scatter",
         "uid": "56382e01-7f6f-45f2-b93f-0f8c18154b99",
         "x": [
          -0.8825106000753781
         ],
         "y": [
          -0.17656455124003845
         ]
        },
        {
         "hoverinfo": "text",
         "marker": {
          "color": "green",
          "size": 0.5
         },
         "mode": "markers",
         "text": "Hadoop appears with Informatica 5 times",
         "type": "scatter",
         "uid": "e115c3cb-42af-4b87-80f4-5666da0e96d5",
         "x": [
          -0.8965549295248867
         ],
         "y": [
          0.07867183959095829
         ]
        },
        {
         "hoverinfo": "text",
         "marker": {
          "color": "blue",
          "size": 0.5
         },
         "mode": "markers",
         "text": "Informatica appears with Hadoop 5 times",
         "type": "scatter",
         "uid": "8e9b8341-f5ae-49cc-b80e-f831a18a9b26",
         "x": [
          -0.865683701639733
         ],
         "y": [
          -0.2461538720299356
         ]
        },
        {
         "hoverinfo": "text",
         "marker": {
          "color": "green",
          "size": 0.5
         },
         "mode": "markers",
         "text": "Hadoop appears with Qlik 9 times",
         "type": "scatter",
         "uid": "fc824754-eef7-4cb1-be1a-0ce5869a3ee4",
         "x": [
          -0.8968326820420984
         ],
         "y": [
          0.07543964754143848
         ]
        },
        {
         "hoverinfo": "text",
         "marker": {
          "color": "blue",
          "size": 0.5
         },
         "mode": "markers",
         "text": "Qlik appears with Hadoop 9 times",
         "type": "scatter",
         "uid": "315eeeba-1934-4972-845a-a99b65b217f4",
         "x": [
          -0.7928465046293435
         ],
         "y": [
          -0.42590423817688466
         ]
        },
        {
         "hoverinfo": "text",
         "marker": {
          "color": "green",
          "size": 0.5
         },
         "mode": "markers",
         "text": "Hadoop appears with Tableau 32 times",
         "type": "scatter",
         "uid": "ba7c6b8b-22a2-40a6-a9c5-8c2faecb5c15",
         "x": [
          -0.8993396795054333
         ],
         "y": [
          0.03446941930268751
         ]
        },
        {
         "hoverinfo": "text",
         "marker": {
          "color": "blue",
          "size": 0.5
         },
         "mode": "markers",
         "text": "Tableau appears with Hadoop 32 times",
         "type": "scatter",
         "uid": "bac0feb5-f53f-4766-8539-39efa8fa00a5",
         "x": [
          -0.5031958417917721
         ],
         "y": [
          -0.7461862668285111
         ]
        },
        {
         "hoverinfo": "text",
         "marker": {
          "color": "green",
          "size": 0.5
         },
         "mode": "markers",
         "text": "Hadoop appears with Microstrategy 3 times",
         "type": "scatter",
         "uid": "116d08ab-8882-470d-8029-2136273831aa",
         "x": [
          -0.8962655282001892
         ],
         "y": [
          0.08190300946873628
         ]
        },
        {
         "hoverinfo": "text",
         "marker": {
          "color": "blue",
          "size": 0.5
         },
         "mode": "markers",
         "text": "Microstrategy appears with Hadoop 3 times",
         "type": "scatter",
         "uid": "7fd1b801-6083-4a02-911f-cfe20b528b15",
         "x": [
          -0.0591648681084585
         ],
         "y": [
          -0.898053182379367
         ]
        },
        {
         "hoverinfo": "text",
         "marker": {
          "color": "green",
          "size": 0.5
         },
         "mode": "markers",
         "text": "Hadoop appears with Oracle BI 28 times",
         "type": "scatter",
         "uid": "6b7801ff-be95-441a-9fc8-5c21fbdc6062",
         "x": [
          -0.8986280657102673
         ],
         "y": [
          0.049674938528633444
         ]
        },
        {
         "hoverinfo": "text",
         "marker": {
          "color": "blue",
          "size": 0.5
         },
         "mode": "markers",
         "text": "Oracle BI appears with Hadoop 28 times",
         "type": "scatter",
         "uid": "3065f493-396a-417b-bc4f-9781b7308118",
         "x": [
          0.027974194408071022
         ],
         "y": [
          -0.8995651418586758
         ]
        },
        {
         "hoverinfo": "text",
         "marker": {
          "color": "green",
          "size": 0.5
         },
         "mode": "markers",
         "text": "Hadoop appears with Python 99 times",
         "type": "scatter",
         "uid": "db65471a-414c-4116-8286-6ecc78ad91a3",
         "x": [
          -0.8993283915621135
         ],
         "y": [
          -0.03476268301356879
         ]
        },
        {
         "hoverinfo": "text",
         "marker": {
          "color": "blue",
          "size": 0.5
         },
         "mode": "markers",
         "text": "Python appears with Hadoop 99 times",
         "type": "scatter",
         "uid": "6761d1da-31ae-4738-af5c-9a580a0ee596",
         "x": [
          0.7111974293248055
         ],
         "y": [
          -0.5515416725160379
         ]
        },
        {
         "hoverinfo": "text",
         "marker": {
          "color": "green",
          "size": 0.5
         },
         "mode": "markers",
         "text": "Hadoop appears with VBA 6 times",
         "type": "scatter",
         "uid": "ce953754-e64c-4e16-bbdb-da604ae70240",
         "x": [
          -0.896673862054627
         ],
         "y": [
          0.07730449604026748
         ]
        },
        {
         "hoverinfo": "text",
         "marker": {
          "color": "blue",
          "size": 0.5
         },
         "mode": "markers",
         "text": "VBA appears with Hadoop 6 times",
         "type": "scatter",
         "uid": "83e9f963-5d0f-4ae2-a2f1-28b07e367820",
         "x": [
          0.8208252384726155
         ],
         "y": [
          -0.36911506049790754
         ]
        },
        {
         "hoverinfo": "text",
         "marker": {
          "color": "green",
          "size": 0.5
         },
         "mode": "markers",
         "text": "Hadoop appears with Linux 61 times",
         "type": "scatter",
         "uid": "2152fa9b-d5e2-4c89-920b-bdeef5dcfcde",
         "x": [
          -0.8999584344021377
         ],
         "y": [
          0.008649644411951745
         ]
        },
        {
         "hoverinfo": "text",
         "marker": {
          "color": "blue",
          "size": 0.5
         },
         "mode": "markers",
         "text": "Linux appears with Hadoop 61 times",
         "type": "scatter",
         "uid": "c035b7bf-ecd4-4a3f-accd-98066be42357",
         "x": [
          0.8872093840386639
         ],
         "y": [
          -0.15119361386558156
         ]
        },
        {
         "hoverinfo": "text",
         "marker": {
          "color": "green",
          "size": 0.5
         },
         "mode": "markers",
         "text": "Hadoop appears with AWS 31 times",
         "type": "scatter",
         "uid": "b58208b3-c848-43c3-bcb2-a8a64be40807",
         "x": [
          -0.8990043200287906
         ],
         "y": [
          0.042322955586440524
         ]
        },
        {
         "hoverinfo": "text",
         "marker": {
          "color": "blue",
          "size": 0.5
         },
         "mode": "markers",
         "text": "AWS appears with Hadoop 31 times",
         "type": "scatter",
         "uid": "1ada6925-bcc4-4108-af2e-26e4c5a2bf55",
         "x": [
          0.8972762285713491
         ],
         "y": [
          -0.06996691818835633
         ]
        },
        {
         "hoverinfo": "text",
         "marker": {
          "color": "green",
          "size": 0.5
         },
         "mode": "markers",
         "text": "Spark appears with Informatica 8 times",
         "type": "scatter",
         "uid": "ae70fdc9-f564-41bd-8679-427f83df53f0",
         "x": [
          -0.8963131360185272
         ],
         "y": [
          -0.08138035512722319
         ]
        },
        {
         "hoverinfo": "text",
         "marker": {
          "color": "blue",
          "size": 0.5
         },
         "mode": "markers",
         "text": "Informatica appears with Spark 8 times",
         "type": "scatter",
         "uid": "d897d05e-415b-44b2-b03f-ed5094379e42",
         "x": [
          -0.86472005362932
         ],
         "y": [
          -0.24951799304119532
         ]
        },
        {
         "hoverinfo": "text",
         "marker": {
          "color": "green",
          "size": 0.5
         },
         "mode": "markers",
         "text": "Spark appears with Qlik 15 times",
         "type": "scatter",
         "uid": "71a6f14f-7888-42e9-a61d-d3f88f8d4c16",
         "x": [
          -0.8960444062269297
         ],
         "y": [
          -0.08428773380171667
         ]
        },
        {
         "hoverinfo": "text",
         "marker": {
          "color": "blue",
          "size": 0.5
         },
         "mode": "markers",
         "text": "Qlik appears with Spark 15 times",
         "type": "scatter",
         "uid": "020ec1f6-5193-429a-bf0d-7a2d07b7963d",
         "x": [
          -0.7881165786555171
         ],
         "y": [
          -0.43459436081054054
         ]
        },
        {
         "hoverinfo": "text",
         "marker": {
          "color": "green",
          "size": 0.5
         },
         "mode": "markers",
         "text": "Spark appears with Tableau 32 times",
         "type": "scatter",
         "uid": "0afbcce0-41a1-45e3-a929-87707eb00944",
         "x": [
          -0.8925320687139789
         ],
         "y": [
          -0.11570007051486696
         ]
        },
        {
         "hoverinfo": "text",
         "marker": {
          "color": "blue",
          "size": 0.5
         },
         "mode": "markers",
         "text": "Tableau appears with Spark 32 times",
         "type": "scatter",
         "uid": "4ca21250-5ade-4289-bdfe-95f952e329b3",
         "x": [
          -0.5107893321231762
         ],
         "y": [
          -0.7410089460925283
         ]
        },
        {
         "hoverinfo": "text",
         "marker": {
          "color": "green",
          "size": 0.5
         },
         "mode": "markers",
         "text": "Spark appears with Microstrategy 3 times",
         "type": "scatter",
         "uid": "a8f3c49d-1ad1-4926-a27d-02dedca7c172",
         "x": [
          -0.8968116251654433
         ],
         "y": [
          -0.07568955653269704
         ]
        },
        {
         "hoverinfo": "text",
         "marker": {
          "color": "blue",
          "size": 0.5
         },
         "mode": "markers",
         "text": "Microstrategy appears with Spark 3 times",
         "type": "scatter",
         "uid": "3fb00a8a-2821-4467-98a6-8c33bd1b2da6",
         "x": [
          -0.059706961738464404
         ],
         "y": [
          -0.8980173042430538
         ]
        },
        {
         "hoverinfo": "text",
         "marker": {
          "color": "green",
          "size": 0.5
         },
         "mode": "markers",
         "text": "Spark appears with Oracle BI 25 times",
         "type": "scatter",
         "uid": "17392cf2-5b9b-4d69-b974-de6e24049f16",
         "x": [
          -0.8934334351188615
         ],
         "y": [
          -0.10852049120655102
         ]
        },
        {
         "hoverinfo": "text",
         "marker": {
          "color": "blue",
          "size": 0.5
         },
         "mode": "markers",
         "text": "Oracle BI appears with Spark 25 times",
         "type": "scatter",
         "uid": "9110f0af-d856-4095-bc41-e6c2b4c379fb",
         "x": [
          0.020283160879260412
         ],
         "y": [
          -0.8997714117400852
         ]
        },
        {
         "hoverinfo": "text",
         "marker": {
          "color": "green",
          "size": 0.5
         },
         "mode": "markers",
         "text": "Spark appears with Python 114 times",
         "type": "scatter",
         "uid": "6ef7ed99-e32f-460e-84c0-8cf50da90248",
         "x": [
          -0.8769513650139027
         ],
         "y": [
          -0.20237663748627924
         ]
        },
        {
         "hoverinfo": "text",
         "marker": {
          "color": "blue",
          "size": 0.5
         },
         "mode": "markers",
         "text": "Python appears with Spark 114 times",
         "type": "scatter",
         "uid": "25fb81e9-bc00-4a78-8bf2-8984eb0cd555",
         "x": [
          0.7461567122116485
         ],
         "y": [
          -0.5032396653896662
         ]
        },
        {
         "hoverinfo": "text",
         "marker": {
          "color": "green",
          "size": 0.5
         },
         "mode": "markers",
         "text": "Spark appears with VBA 6 times",
         "type": "scatter",
         "uid": "63b6ec41-b576-4f44-8c6e-313cde995094",
         "x": [
          -0.8966055579549604
         ],
         "y": [
          -0.07809272337596013
         ]
        },
        {
         "hoverinfo": "text",
         "marker": {
          "color": "blue",
          "size": 0.5
         },
         "mode": "markers",
         "text": "VBA appears with Spark 6 times",
         "type": "scatter",
         "uid": "82de82ec-7d9b-4c42-a149-db06be84ebbd",
         "x": [
          0.8202095102463006
         ],
         "y": [
          -0.3704812536438568
         ]
        },
        {
         "hoverinfo": "text",
         "marker": {
          "color": "green",
          "size": 0.5
         },
         "mode": "markers",
         "text": "Spark appears with Linux 46 times",
         "type": "scatter",
         "uid": "d93b0c55-5370-4b6c-a07e-6ffba41507c1",
         "x": [
          -0.88851261288877
         ],
         "y": [
          -0.1433364459499772
         ]
        },
        {
         "hoverinfo": "text",
         "marker": {
          "color": "blue",
          "size": 0.5
         },
         "mode": "markers",
         "text": "Linux appears with Spark 46 times",
         "type": "scatter",
         "uid": "e6ae3d5d-ab78-4187-ba0a-d1056d316c7d",
         "x": [
          0.8825672868345835
         ],
         "y": [
          -0.17628098085001137
         ]
        },
        {
         "hoverinfo": "text",
         "marker": {
          "color": "green",
          "size": 0.5
         },
         "mode": "markers",
         "text": "Spark appears with AWS 36 times",
         "type": "scatter",
         "uid": "00dda320-19ba-45a8-b9b2-e662a9734dc5",
         "x": [
          -0.890111010004532
         ],
         "y": [
          -0.1330503283299668
         ]
        },
        {
         "hoverinfo": "text",
         "marker": {
          "color": "blue",
          "size": 0.5
         },
         "mode": "markers",
         "text": "AWS appears with Spark 36 times",
         "type": "scatter",
         "uid": "1cc33537-29fc-41a8-bc8d-bff1e3b421be",
         "x": [
          0.8978146229709821
         ],
         "y": [
          -0.06268096026285322
         ]
        },
        {
         "hoverinfo": "text",
         "marker": {
          "color": "green",
          "size": 0.5
         },
         "mode": "markers",
         "text": "Informatica appears with Qlik 90 times",
         "type": "scatter",
         "uid": "26b1207f-425b-452a-afd0-071040787500",
         "x": [
          -0.836564858211918
         ],
         "y": [
          -0.33190245254422823
         ]
        },
        {
         "hoverinfo": "text",
         "marker": {
          "color": "blue",
          "size": 0.5
         },
         "mode": "markers",
         "text": "Qlik appears with Informatica 90 times",
         "type": "scatter",
         "uid": "dbdb0384-4bad-43c6-9a48-7ac69e089c3e",
         "x": [
          -0.7439683403390357
         ],
         "y": [
          -0.5064692572833821
         ]
        },
        {
         "hoverinfo": "text",
         "marker": {
          "color": "green",
          "size": 0.5
         },
         "mode": "markers",
         "text": "Informatica appears with Tableau 61 times",
         "type": "scatter",
         "uid": "f582e51a-d126-4f96-b1f7-28a595fceac9",
         "x": [
          -0.8435838492088858
         ],
         "y": [
          -0.31363400541701425
         ]
        },
        {
         "hoverinfo": "text",
         "marker": {
          "color": "blue",
          "size": 0.5
         },
         "mode": "markers",
         "text": "Tableau appears with Informatica 61 times",
         "type": "scatter",
         "uid": "8d035778-1afc-4cf1-ae1b-24815d2ff892",
         "x": [
          -0.4631035819262134
         ],
         "y": [
          -0.7717091890130058
         ]
        },
        {
         "hoverinfo": "text",
         "marker": {
          "color": "green",
          "size": 0.5
         },
         "mode": "markers",
         "text": "Informatica appears with Microstrategy 8 times",
         "type": "scatter",
         "uid": "d0f82ab7-2533-4e2b-90c5-b53293bf8fbe",
         "x": [
          -0.8641428330381629
         ],
         "y": [
          -0.25150976941021175
         ]
        },
        {
         "hoverinfo": "text",
         "marker": {
          "color": "blue",
          "size": 0.5
         },
         "mode": "markers",
         "text": "Microstrategy appears with Informatica 8 times",
         "type": "scatter",
         "uid": "b1b1a7ea-3d6d-40bb-813d-ebcd3ee69e04",
         "x": [
          -0.0560022319300699
         ],
         "y": [
          -0.8982559490584244
         ]
        },
        {
         "hoverinfo": "text",
         "marker": {
          "color": "green",
          "size": 0.5
         },
         "mode": "markers",
         "text": "Informatica appears with Oracle BI 114 times",
         "type": "scatter",
         "uid": "6a7ed525-227f-43cc-b0cd-62f387923926",
         "x": [
          -0.8144218760108325
         ],
         "y": [
          -0.38303656206032904
         ]
        },
        {
         "hoverinfo": "text",
         "marker": {
          "color": "blue",
          "size": 0.5
         },
         "mode": "markers",
         "text": "Oracle BI appears with Informatica 114 times",
         "type": "scatter",
         "uid": "91bbe8aa-7b6f-40b0-8bae-f2d000d335b4",
         "x": [
          0.24576056017345393
         ],
         "y": [
          -0.8657954418124585
         ]
        },
        {
         "hoverinfo": "text",
         "marker": {
          "color": "green",
          "size": 0.5
         },
         "mode": "markers",
         "text": "Informatica appears with Python 24 times",
         "type": "scatter",
         "uid": "a5db3081-24c1-4e3e-bab7-f13e65522c22",
         "x": [
          -0.8587417722429569
         ],
         "y": [
          -0.269374402282447
         ]
        },
        {
         "hoverinfo": "text",
         "marker": {
          "color": "blue",
          "size": 0.5
         },
         "mode": "markers",
         "text": "Python appears with Informatica 24 times",
         "type": "scatter",
         "uid": "dea3cd6d-c0c2-436b-b0d6-cd1a2163ed7b",
         "x": [
          0.5944358552130692
         ],
         "y": [
          -0.6757558834646629
         ]
        },
        {
         "hoverinfo": "text",
         "marker": {
          "color": "green",
          "size": 0.5
         },
         "mode": "markers",
         "text": "Informatica appears with VBA 3 times",
         "type": "scatter",
         "uid": "cedf165e-5af7-4723-b0c5-890e5ac4c775",
         "x": [
          -0.866248577386723
         ],
         "y": [
          -0.24415855949664902
         ]
        },
        {
         "hoverinfo": "text",
         "marker": {
          "color": "blue",
          "size": 0.5
         },
         "mode": "markers",
         "text": "VBA appears with Informatica 3 times",
         "type": "scatter",
         "uid": "a5fb4806-efb7-4412-81dc-db6654cf0629",
         "x": [
          0.8186083584564351
         ],
         "y": [
          -0.3740058227691925
         ]
        },
        {
         "hoverinfo": "text",
         "marker": {
          "color": "green",
          "size": 0.5
         },
         "mode": "markers",
         "text": "Informatica appears with Linux 4 times",
         "type": "scatter",
         "uid": "2f25c7a9-5c83-4424-8e6c-13bcb7615f5f",
         "x": [
          -0.8660020099618957
         ],
         "y": [
          -0.24503166885518438
         ]
        },
        {
         "hoverinfo": "text",
         "marker": {
          "color": "blue",
          "size": 0.5
         },
         "mode": "markers",
         "text": "Linux appears with Informatica 4 times",
         "type": "scatter",
         "uid": "21b8205f-f8ea-4942-870e-6c6cf6e7f308",
         "x": [
          0.8717526563083009
         ],
         "y": [
          -0.22371255266395199
         ]
        },
        {
         "hoverinfo": "text",
         "marker": {
          "color": "green",
          "size": 0.5
         },
         "mode": "markers",
         "text": "Informatica appears with AWS 16 times",
         "type": "scatter",
         "uid": "6a34dde2-e851-4c79-bf87-8fd4f9499246",
         "x": [
          -0.8618627980539848
         ],
         "y": [
          -0.2592151950225069
         ]
        },
        {
         "hoverinfo": "text",
         "marker": {
          "color": "blue",
          "size": 0.5
         },
         "mode": "markers",
         "text": "AWS appears with Informatica 16 times",
         "type": "scatter",
         "uid": "980d759b-b371-4182-bb27-3eb46da862a5",
         "x": [
          0.8955911727971522
         ],
         "y": [
          -0.0889744413178385
         ]
        },
        {
         "hoverinfo": "text",
         "marker": {
          "color": "green",
          "size": 0.5
         },
         "mode": "markers",
         "text": "Qlik appears with Tableau 264 times",
         "type": "scatter",
         "uid": "51a40b95-fe29-4967-8214-b13464c21a85",
         "x": [
          -0.6491730526177275
         ],
         "y": [
          -0.6233573194845643
         ]
        },
        {
         "hoverinfo": "text",
         "marker": {
          "color": "blue",
          "size": 0.5
         },
         "mode": "markers",
         "text": "Tableau appears with Qlik 264 times",
         "type": "scatter",
         "uid": "4a274767-a4f1-4d92-9166-1a4f03c16cff",
         "x": [
          -0.3035955292826105
         ],
         "y": [
          -0.8472483429311689
         ]
        },
        {
         "hoverinfo": "text",
         "marker": {
          "color": "green",
          "size": 0.5
         },
         "mode": "markers",
         "text": "Qlik appears with Microstrategy 22 times",
         "type": "scatter",
         "uid": "8541b0e6-0d6c-42c9-9da7-3935aacc7743",
         "x": [
          -0.7825245440151061
         ],
         "y": [
          -0.44458445543445446
         ]
        },
        {
         "hoverinfo": "text",
         "marker": {
          "color": "blue",
          "size": 0.5
         },
         "mode": "markers",
         "text": "Microstrategy appears with Qlik 22 times",
         "type": "scatter",
         "uid": "97283afd-8061-46b5-a508-3a8f3385b740",
         "x": [
          -0.040269875963844286
         ],
         "y": [
          -0.8990986247847655
         ]
        },
        {
         "hoverinfo": "text",
         "marker": {
          "color": "green",
          "size": 0.5
         },
         "mode": "markers",
         "text": "Qlik appears with Oracle BI 241 times",
         "type": "scatter",
         "uid": "388ef499-5409-471f-a0b1-5d48976e5e0b",
         "x": [
          -0.6965186042770197
         ],
         "y": [
          -0.569966519978141
         ]
        },
        {
         "hoverinfo": "text",
         "marker": {
          "color": "blue",
          "size": 0.5
         },
         "mode": "markers",
         "text": "Oracle BI appears with Qlik 241 times",
         "type": "scatter",
         "uid": "a4efc98d-ebfd-4667-b457-7e05d3a616e8",
         "x": [
          0.343487826778911
         ],
         "y": [
          -0.8318750584400886
         ]
        },
        {
         "hoverinfo": "text",
         "marker": {
          "color": "green",
          "size": 0.5
         },
         "mode": "markers",
         "text": "Qlik appears with Python 30 times",
         "type": "scatter",
         "uid": "e3e32321-8950-454a-a186-7b84abc99eb3",
         "x": [
          -0.7751591103235531
         ],
         "y": [
          -0.4573055364659362
         ]
        },
        {
         "hoverinfo": "text",
         "marker": {
          "color": "blue",
          "size": 0.5
         },
         "mode": "markers",
         "text": "Python appears with Qlik 30 times",
         "type": "scatter",
         "uid": "e1a7517c-9da7-4347-aff6-52670288402d",
         "x": [
          0.6001308106102494
         ],
         "y": [
          -0.67070336972188
         ]
        },
        {
         "hoverinfo": "text",
         "marker": {
          "color": "green",
          "size": 0.5
         },
         "mode": "markers",
         "text": "Qlik appears with VBA 26 times",
         "type": "scatter",
         "uid": "1ebdc525-642f-474a-ae2e-710546ed61cc",
         "x": [
          -0.7791509343004571
         ],
         "y": [
          -0.45047066672395525
         ]
        },
        {
         "hoverinfo": "text",
         "marker": {
          "color": "blue",
          "size": 0.5
         },
         "mode": "markers",
         "text": "VBA appears with Qlik 26 times",
         "type": "scatter",
         "uid": "753d0009-76da-432c-918c-549372f0ab46",
         "x": [
          0.8248718569350914
         ],
         "y": [
          -0.35998113788982655
         ]
        },
        {
         "hoverinfo": "text",
         "marker": {
          "color": "green",
          "size": 0.5
         },
         "mode": "markers",
         "text": "Qlik appears with Linux 2 times",
         "type": "scatter",
         "uid": "3c1dffb7-e5c9-4a8a-b890-cb99a3d9ee93",
         "x": [
          -0.7947780071014663
         ],
         "y": [
          -0.4222889051678031
         ]
        },
        {
         "hoverinfo": "text",
         "marker": {
          "color": "blue",
          "size": 0.5
         },
         "mode": "markers",
         "text": "Linux appears with Qlik 2 times",
         "type": "scatter",
         "uid": "3b0effd8-d400-480d-a51a-8417ddbf720d",
         "x": [
          0.8713975917764001
         ],
         "y": [
          -0.2250916192271281
         ]
        },
        {
         "hoverinfo": "text",
         "marker": {
          "color": "green",
          "size": 0.5
         },
         "mode": "markers",
         "text": "Qlik appears with AWS 2 times",
         "type": "scatter",
         "uid": "74d9ffaf-201c-4a14-98da-bd26c5a57a35",
         "x": [
          -0.7950431283784315
         ],
         "y": [
          -0.42178954944170555
         ]
        },
        {
         "hoverinfo": "text",
         "marker": {
          "color": "blue",
          "size": 0.5
         },
         "mode": "markers",
         "text": "AWS appears with Qlik 2 times",
         "type": "scatter",
         "uid": "d02e1ce9-f2f9-41ea-821c-7517c39c1088",
         "x": [
          0.8945916483328676
         ],
         "y": [
          -0.09851793102315425
         ]
        },
        {
         "hoverinfo": "text",
         "marker": {
          "color": "green",
          "size": 0.5
         },
         "mode": "markers",
         "text": "Tableau appears with Microstrategy 32 times",
         "type": "scatter",
         "uid": "fc9c676e-0696-4186-8043-e1ed387cab81",
         "x": [
          -0.5183295580080512
         ],
         "y": [
          -0.7357543539084075
         ]
        },
        {
         "hoverinfo": "text",
         "marker": {
          "color": "blue",
          "size": 0.5
         },
         "mode": "markers",
         "text": "Microstrategy appears with Tableau 32 times",
         "type": "scatter",
         "uid": "2c22b4a1-c614-425b-9e93-5582e3e9e707",
         "x": [
          -0.030136470885757185
         ],
         "y": [
          -0.8994952991108692
         ]
        },
        {
         "hoverinfo": "text",
         "marker": {
          "color": "green",
          "size": 0.5
         },
         "mode": "markers",
         "text": "Tableau appears with Oracle BI 301 times",
         "type": "scatter",
         "uid": "64d47670-b29a-4303-a407-2905ccfe7a7a",
         "x": [
          -0.22608623740053904
         ],
         "y": [
          -0.8711400652352451
         ]
        },
        {
         "hoverinfo": "text",
         "marker": {
          "color": "blue",
          "size": 0.5
         },
         "mode": "markers",
         "text": "Oracle BI appears with Tableau 301 times",
         "type": "scatter",
         "uid": "73c90833-c40f-4176-8b21-df1c1ca4ba62",
         "x": [
          0.414808049379569
         ],
         "y": [
          -0.798707882877036
         ]
        },
        {
         "hoverinfo": "text",
         "marker": {
          "color": "green",
          "size": 0.5
         },
         "mode": "markers",
         "text": "Tableau appears with Python 87 times",
         "type": "scatter",
         "uid": "64d3f1a9-15f7-4260-8610-de1b47f47e38",
         "x": [
          -0.4091084859478479
         ],
         "y": [
          -0.801642218652099
         ]
        },
        {
         "hoverinfo": "text",
         "marker": {
          "color": "blue",
          "size": 0.5
         },
         "mode": "markers",
         "text": "Python appears with Tableau 87 times",
         "type": "scatter",
         "uid": "e5b5ceaf-eb41-43ae-b3d6-3fb7d841725e",
         "x": [
          0.6948276073785393
         ],
         "y": [
          -0.5720267441515425
         ]
        },
        {
         "hoverinfo": "text",
         "marker": {
          "color": "green",
          "size": 0.5
         },
         "mode": "markers",
         "text": "Tableau appears with VBA 51 times",
         "type": "scatter",
         "uid": "9fc375bb-2336-4f0e-bd42-2161acaba2d6",
         "x": [
          -0.4768197641842949
         ],
         "y": [
          -0.7633104954625172
         ]
        },
        {
         "hoverinfo": "text",
         "marker": {
          "color": "blue",
          "size": 0.5
         },
         "mode": "markers",
         "text": "VBA appears with Tableau 51 times",
         "type": "scatter",
         "uid": "432e20b5-d421-4c5e-992e-1f3d4716bfa5",
         "x": [
          0.8343087167866347
         ],
         "y": [
          -0.3375336503133267
         ]
        },
        {
         "hoverinfo": "text",
         "marker": {
          "color": "green",
          "size": 0.5
         },
         "mode": "markers",
         "text": "Tableau appears with Linux 10 times",
         "type": "scatter",
         "uid": "4c59d2d3-be5c-46fe-8935-01b1f74a48f5",
         "x": [
          -0.532089575304977
         ],
         "y": [
          -0.7258654722824122
         ]
        },
        {
         "hoverinfo": "text",
         "marker": {
          "color": "blue",
          "size": 0.5
         },
         "mode": "markers",
         "text": "Linux appears with Tableau 10 times",
         "type": "scatter",
         "uid": "6846a104-df05-4798-82bf-22894ce80124",
         "x": [
          0.8721641397653674
         ],
         "y": [
          -0.22210293403585762
         ]
        },
        {
         "hoverinfo": "text",
         "marker": {
          "color": "green",
          "size": 0.5
         },
         "mode": "markers",
         "text": "Tableau appears with AWS 25 times",
         "type": "scatter",
         "uid": "969b9621-39cb-4f59-84d8-fb2579d4d787",
         "x": [
          -0.5249995893623008
         ],
         "y": [
          -0.7310098707742704
         ]
        },
        {
         "hoverinfo": "text",
         "marker": {
          "color": "blue",
          "size": 0.5
         },
         "mode": "markers",
         "text": "AWS appears with Tableau 25 times",
         "type": "scatter",
         "uid": "a052dcec-4851-4851-bde2-7bb42d666cf2",
         "x": [
          0.8967808635937151
         ],
         "y": [
          -0.07605315701606626
         ]
        },
        {
         "hoverinfo": "text",
         "marker": {
          "color": "green",
          "size": 0.5
         },
         "mode": "markers",
         "text": "Microstrategy appears with Oracle BI 43 times",
         "type": "scatter",
         "uid": "41f37ed8-3376-4657-a4fb-6c03b8200306",
         "x": [
          -0.023348490285892243
         ],
         "y": [
          -0.8996970868027581
         ]
        },
        {
         "hoverinfo": "text",
         "marker": {
          "color": "blue",
          "size": 0.5
         },
         "mode": "markers",
         "text": "Oracle BI appears with Microstrategy 43 times",
         "type": "scatter",
         "uid": "928cf3ea-d44e-4528-a078-2a1f9438b677",
         "x": [
          0.05798796176440787
         ],
         "y": [
          -0.8981299439894038
         ]
        },
        {
         "hoverinfo": "text",
         "marker": {
          "color": "green",
          "size": 0.5
         },
         "mode": "markers",
         "text": "Microstrategy appears with Python 11 times",
         "type": "scatter",
         "uid": "11d95ccf-3092-4495-b3d1-1a6e7fc8e644",
         "x": [
          -0.05428507899621377
         ],
         "y": [
          -0.8983613583621987
         ]
        },
        {
         "hoverinfo": "text",
         "marker": {
          "color": "blue",
          "size": 0.5
         },
         "mode": "markers",
         "text": "Python appears with Microstrategy 11 times",
         "type": "scatter",
         "uid": "b6c78e83-9f4a-4160-90f1-f60a8b113f78",
         "x": [
          0.5864557188509099
         ],
         "y": [
          -0.6826929689304428
         ]
        },
        {
         "hoverinfo": "text",
         "marker": {
          "color": "green",
          "size": 0.5
         },
         "mode": "markers",
         "text": "Microstrategy appears with VBA 6 times",
         "type": "scatter",
         "uid": "52d0ceb2-2e1b-4409-9bd7-5cd5afb1facc",
         "x": [
          -0.05726737192381569
         ],
         "y": [
          -0.8981761787717037
         ]
        },
        {
         "hoverinfo": "text",
         "marker": {
          "color": "blue",
          "size": 0.5
         },
         "mode": "markers",
         "text": "VBA appears with Microstrategy 6 times",
         "type": "scatter",
         "uid": "40bfa0af-3eb9-4be5-a496-ab1f66e7743d",
         "x": [
          0.8195915081106702
         ],
         "y": [
          -0.37184641968543586
         ]
        },
        {
         "hoverinfo": "text",
         "marker": {
          "color": "green",
          "size": 0.5
         },
         "mode": "markers",
         "text": "Microstrategy appears with Linux 2 times",
         "type": "scatter",
         "uid": "bb57f0cb-108d-41de-b642-053dc4b85d15",
         "x": [
          -0.06052006132852329
         ],
         "y": [
          -0.8979628734957764
         ]
        },
        {
         "hoverinfo": "text",
         "marker": {
          "color": "blue",
          "size": 0.5
         },
         "mode": "markers",
         "text": "Linux appears with Microstrategy 2 times",
         "type": "scatter",
         "uid": "cd2e5baf-ee03-42e8-9c6f-c47a1dd33e95",
         "x": [
          0.8712787520864097
         ],
         "y": [
          -0.22555118302227695
         ]
        },
        {
         "hoverinfo": "text",
         "marker": {
          "color": "green",
          "size": 0.5
         },
         "mode": "markers",
         "text": "Microstrategy appears with AWS 2 times",
         "type": "scatter",
         "uid": "c09e2c77-2ff2-4850-8fa2-9e2554f26f45",
         "x": [
          -0.06088142303680144
         ],
         "y": [
          -0.8979384457350148
         ]
        },
        {
         "hoverinfo": "text",
         "marker": {
          "color": "blue",
          "size": 0.5
         },
         "mode": "markers",
         "text": "AWS appears with Microstrategy 2 times",
         "type": "scatter",
         "uid": "642fd70c-4fcd-4914-bf67-f8c9f72d5c81",
         "x": [
          0.8945437982336802
         ],
         "y": [
          -0.09895146811271055
         ]
        },
        {
         "hoverinfo": "text",
         "marker": {
          "color": "green",
          "size": 0.5
         },
         "mode": "markers",
         "text": "Oracle BI appears with Python 105 times",
         "type": "scatter",
         "uid": "1abe7c30-2470-4164-8ab0-1f9ea01093b7",
         "x": [
          0.18360561977844134
         ],
         "y": [
          -0.8810726283262773
         ]
        },
        {
         "hoverinfo": "text",
         "marker": {
          "color": "blue",
          "size": 0.5
         },
         "mode": "markers",
         "text": "Python appears with Oracle BI 105 times",
         "type": "scatter",
         "uid": "aaa835ca-2e8e-4b61-8f03-a02a5e312004",
         "x": [
          0.7284567249869212
         ],
         "y": [
          -0.5285364697173971
         ]
        },
        {
         "hoverinfo": "text",
         "marker": {
          "color": "green",
          "size": 0.5
         },
         "mode": "markers",
         "text": "Oracle BI appears with VBA 55 times",
         "type": "scatter",
         "uid": "f8a031c5-57a3-4948-a502-8a15eca2913f",
         "x": [
          0.0849026837103469
         ],
         "y": [
          -0.8959863471609268
         ]
        },
        {
         "hoverinfo": "text",
         "marker": {
          "color": "blue",
          "size": 0.5
         },
         "mode": "markers",
         "text": "VBA appears with Oracle BI 55 times",
         "type": "scatter",
         "uid": "4587e34c-c5e7-4a5a-bd95-796616d7180a",
         "x": [
          0.8483016390995596
         ],
         "y": [
          -0.3006398661205804
         ]
        },
        {
         "hoverinfo": "text",
         "marker": {
          "color": "green",
          "size": 0.5
         },
         "mode": "markers",
         "text": "Oracle BI appears with Linux 3 times",
         "type": "scatter",
         "uid": "00e62247-9e96-4615-ade4-1fbccc641d46",
         "x": [
          0.009252064188721456
         ],
         "y": [
          -0.899952442803645
         ]
        },
        {
         "hoverinfo": "text",
         "marker": {
          "color": "blue",
          "size": 0.5
         },
         "mode": "markers",
         "text": "Linux appears with Oracle BI 3 times",
         "type": "scatter",
         "uid": "331053bd-8fff-4cbf-9b79-11a0759165a8",
         "x": [
          0.8715458005085733
         ],
         "y": [
          -0.22451707644602487
         ]
        },
        {
         "hoverinfo": "text",
         "marker": {
          "color": "green",
          "size": 0.5
         },
         "mode": "markers",
         "text": "Oracle BI appears with AWS 38 times",
         "type": "scatter",
         "uid": "7a878ea0-d2a8-438d-8f45-615e32c0e806",
         "x": [
          0.04624929538212198
         ],
         "y": [
          -0.8988108825980343
         ]
        },
        {
         "hoverinfo": "text",
         "marker": {
          "color": "blue",
          "size": 0.5
         },
         "mode": "markers",
         "text": "AWS appears with Oracle BI 38 times",
         "type": "scatter",
         "uid": "62a926b9-feef-40c6-804d-45bb306bdc73",
         "x": [
          0.8987828738660417
         ],
         "y": [
          -0.046790443950649185
         ]
        },
        {
         "hoverinfo": "text",
         "marker": {
          "color": "green",
          "size": 0.5
         },
         "mode": "markers",
         "text": "Python appears with VBA 51 times",
         "type": "scatter",
         "uid": "b6d4f4a3-d5ab-44ff-91f6-629125c85d8e",
         "x": [
          0.6418419839034628
         ],
         "y": [
          -0.6309032157937278
         ]
        },
        {
         "hoverinfo": "text",
         "marker": {
          "color": "blue",
          "size": 0.5
         },
         "mode": "markers",
         "text": "VBA appears with Python 51 times",
         "type": "scatter",
         "uid": "08de9843-4870-4e5e-b27c-aa6ff815fa6b",
         "x": [
          0.8390020564479922
         ],
         "y": [
          -0.32569241513434144
         ]
        },
        {
         "hoverinfo": "text",
         "marker": {
          "color": "green",
          "size": 0.5
         },
         "mode": "markers",
         "text": "Python appears with Linux 69 times",
         "type": "scatter",
         "uid": "4e105141-bee8-4cbe-bd58-6cd7b2e3b623",
         "x": [
          0.6662409061027017
         ],
         "y": [
          -0.6050810317928097
         ]
        },
        {
         "hoverinfo": "text",
         "marker": {
          "color": "blue",
          "size": 0.5
         },
         "mode": "markers",
         "text": "Linux appears with Python 69 times",
         "type": "scatter",
         "uid": "6a7db4db-9810-497f-90d5-8805b42becf7",
         "x": [
          0.8896705664521366
         ],
         "y": [
          -0.13596427173612324
         ]
        },
        {
         "hoverinfo": "text",
         "marker": {
          "color": "green",
          "size": 0.5
         },
         "mode": "markers",
         "text": "Python appears with AWS 66 times",
         "type": "scatter",
         "uid": "e21b6ebe-05b1-4482-a87d-dab34e0696a5",
         "x": [
          0.6532967716548581
         ],
         "y": [
          -0.619034189803229
         ]
        },
        {
         "hoverinfo": "text",
         "marker": {
          "color": "blue",
          "size": 0.5
         },
         "mode": "markers",
         "text": "AWS appears with Python 66 times",
         "type": "scatter",
         "uid": "471bae72-d662-4459-afca-2858f5e3208b",
         "x": [
          0.899301089704142
         ],
         "y": [
          -0.03546195224381656
         ]
        },
        {
         "hoverinfo": "text",
         "marker": {
          "color": "green",
          "size": 0.5
         },
         "mode": "markers",
         "text": "VBA appears with AWS 2 times",
         "type": "scatter",
         "uid": "2a73c1f6-7984-4324-9e2b-f8c3d4e91b11",
         "x": [
          0.8181406697828605
         ],
         "y": [
          -0.3750277915665085
         ]
        },
        {
         "hoverinfo": "text",
         "marker": {
          "color": "blue",
          "size": 0.5
         },
         "mode": "markers",
         "text": "AWS appears with VBA 2 times",
         "type": "scatter",
         "uid": "156cbe2a-82cf-4e35-ad49-d9c3866f279d",
         "x": [
          0.8944957380337201
         ],
         "y": [
          -0.09938498196161458
         ]
        },
        {
         "hoverinfo": "text",
         "marker": {
          "color": "green",
          "size": 0.5
         },
         "mode": "markers",
         "text": "Linux appears with AWS 19 times",
         "type": "scatter",
         "uid": "b1afcb73-34e1-4002-ac6e-2ee6f8959ce1",
         "x": [
          0.8738087674961661
         ],
         "y": [
          -0.21554173110289127
         ]
        },
        {
         "hoverinfo": "text",
         "marker": {
          "color": "blue",
          "size": 0.5
         },
         "mode": "markers",
         "text": "AWS appears with Linux 19 times",
         "type": "scatter",
         "uid": "afb5dc49-bf65-40ac-ac53-bfd4942ff549",
         "x": [
          0.895960418943432
         ],
         "y": [
          -0.08517586328714115
         ]
        }
       ],
       "layout": {
        "autosize": true,
        "font": {
         "color": "#655643",
         "family": "Fira Sans Condensed",
         "size": 12
        },
        "hidesources": true,
        "hoverdistance": 40,
        "hovermode": "closest",
        "margin": {
         "b": 10,
         "l": 260,
         "r": 270,
         "t": 80
        },
        "paper_bgcolor": "#fffaf0",
        "plot_bgcolor": "#fffaf0",
        "shapes": [
         {
          "fillcolor": "#f2e6ce",
          "layer": "below",
          "line": {
           "color": "rgb(175,175,175)",
           "width": 0.5
          },
          "path": "M 0.9792328062369008,0.20273902236472463 Q 0.18521462698304975, 0.07546881443039732 0.8420633058740382, 0.539378706384008L 0.8420633058740382, 0.539378706384008 L 0.8555539451049349, 0.5177136728109294 L 0.8684873012843133, 0.495711415551317 M 0.8684873012843133,0.495711415551317 Q 0.18537307639332498, 0.07507877561917552 0.9686671147151169, 0.24836268010611126L 0.9686671147151169, 0.24836268010611126 L 0.9742170728578128, 0.22561271008601222 L 0.9792328062369008, 0.20273902236472463 ",
          "type": "path"
         },
         {
          "fillcolor": "#f2e6ce",
          "layer": "below",
          "line": {
           "color": "rgb(175,175,175)",
           "width": 0.5
          },
          "path": "M 0.9968128583146245,0.0797754692786463 Q 0.14522286635820927, 0.13751479588286378 0.1339673713780044, 0.9909857432910263L 0.1339673713780044, 0.9909857432910263 L 0.1481124207262162, 0.9889705308180928 L 0.1622272338861158, 0.9867534264372531 M 0.1622272338861158,0.9867534264372531 Q 0.14532978074054614, 0.13740180067926616 0.9942936888111812, 0.10667736587605671L 0.9942936888111812, 0.10667736587605671 L 0.9956441374868565, 0.09323492633157106 L 0.9968128583146245, 0.0797754692786463 ",
          "type": "path"
         },
         {
          "fillcolor": "#f2e6ce",
          "layer": "below",
          "line": {
           "color": "rgb(175,175,175)",
           "width": 0.5
          },
          "path": "M 0.9985238883714366,0.0543143107439173 Q 0.10422037179439468, 0.17069889895086654 -0.4079178598367613, 0.9130186304923883L -0.4079178598367613, 0.9130186304923883 L -0.3957589706587543, 0.918354418045192 L -0.3835303055273598, 0.9235282912515945 M -0.3835303055273598,0.9235282912515945 Q 0.10430888332930124, 0.1706448266388238 0.9968128583146245, 0.0797754692786463L 0.9968128583146245, 0.0797754692786463 L 0.9977495932434206, 0.06705034811683458 L 0.9985238883714366, 0.0543143107439173 ",
          "type": "path"
         },
         {
          "fillcolor": "#f2e6ce",
          "layer": "below",
          "line": {
           "color": "rgb(175,175,175)",
           "width": 0.5
          },
          "path": "M 0.9999988732985522,0.0015011334471414417 Q 0.07894515020577668, 0.18375979772242723 -0.6872935443418305, 0.7263797793895727L -0.6872935443418305, 0.7263797793895727 L -0.6867920246589265, 0.7268539845559715 L -0.6862901777934308, 0.7273278434545601 M -0.6862901777934308,0.7273278434545601 Q 0.07893405923123203, 0.1837645621257819 0.9999954931967477, 0.003002263511624427L 0.9999954931967477, 0.003002263511624427 L 0.9999974649223375, 0.0022516991136311867 L 0.9999988732985522, 0.0015011334471414417 ",
          "type": "path"
         },
         {
          "fillcolor": "#f2e6ce",
          "layer": "below",
          "line": {
           "color": "rgb(175,175,175)",
           "width": 0.5
          },
          "path": "M 0.9995031657143884,0.03151859335243065 Q 0.054790337855909914, 0.1923486908654053 -0.8328701979561935, 0.5534683670783823L -0.8328701979561935, 0.5534683670783823 L -0.8303430950343871, 0.5572524962068047 L -0.8277987991260716, 0.5610250869305523 M -0.8277987991260716,0.5610250869305523 Q 0.05479937310099327, 0.1923461169551861 0.999178746924381, 0.04051952238888972L 0.999178746924381, 0.04051952238888972 L 0.999351090037041, 0.036019423118337064 L 0.9995031657143884, 0.03151859335243065 ",
          "type": "path"
         },
         {
          "fillcolor": "#f2e6ce",
          "layer": "below",
          "line": {
           "color": "rgb(175,175,175)",
           "width": 0.5
          },
          "path": "M 0.9999998197277399,0.0006004535682855322 Q 0.03321044411226914, 0.19722339212645607 -0.944656504928382, 0.32806110360189555L -0.944656504928382, 0.32806110360189555 L -0.9445490043405205, 0.3283704895378565 L -0.9444414024251877, 0.32867984024753416 M -0.9444414024251877,0.32867984024753416 Q 0.03318622285729759, 0.19722746921376288 0.9999988732985522, 0.0015011334471414417L 0.9999988732985522, 0.0015011334471414417 L 0.9999994479162377, 0.001050793614267267 L 0.9999998197277399, 0.0006004535682855322 ",
          "type": "path"
         },
         {
          "fillcolor": "#f2e6ce",
          "layer": "below",
          "line": {
           "color": "rgb(175,175,175)",
           "width": 0.5
          },
          "path": "M 0.9999898597022033,0.004503386810798122 Q 0.023755820013766613, 0.19858414089617915 -0.9707109536857598, 0.2402503785522151L -0.9707109536857598, 0.2402503785522151 L -0.9704838971354475, 0.2411659291873422 L -0.9702559770605562, 0.24208126523600573 M -0.9702559770605562,0.24208126523600573 Q 0.023734470449924546, 0.19858669369437032 0.9999781871351753, 0.006604941623387706L 0.9999781871351753, 0.006604941623387706 L 0.9999845754939359, 0.005554167283458484 L 0.9999898597022033, 0.004503386810798122 ",
          "type": "path"
         },
         {
          "fillcolor": "#f2e6ce",
          "layer": "below",
          "line": {
           "color": "rgb(175,175,175)",
           "width": 0.5
          },
          "path": "M 0.9999205009842863,0.012609191541647385 Q 0.006090358119115125, 0.19990724733731124 -0.9972984365479133, 0.07345630305894688L -0.9972984365479133, 0.07345630305894688 L -0.9971225429385365, 0.07580655884411631 L -0.9969411106715825, 0.07815639355108021 M -0.9969411106715825,0.07815639355108021 Q 0.006051356354907035, 0.19990843175380557 0.9998431221628973, 0.017712455040162223L 0.9998431221628973, 0.017712455040162223 L 0.9998850673653805, 0.015160872657223313 L 0.9999205009842863, 0.012609191541647385 ",
          "type": "path"
         },
         {
          "fillcolor": "#f2e6ce",
          "layer": "below",
          "line": {
           "color": "rgb(175,175,175)",
           "width": 0.5
          },
          "path": "M 0.9998431221628973,0.017712455040162223 Q -0.013495689359413808, 0.1995441464155594 -0.9931228387423974, -0.11707701383381064L -0.9931228387423974, -0.11707701383381064 L -0.9934813629356698, -0.11399465557421519 L -0.993830320427938, -0.11091119960627144 M -0.993830320427938,-0.11091119960627144 Q -0.013535469117909833, 0.19954145202377904 0.9997043229884804, 0.024315974135206354L 0.9997043229884804, 0.024315974135206354 L 0.999779174602552, 0.021014329183677214 L 0.9998431221628973, 0.017712455040162223 ",
          "type": "path"
         },
         {
          "fillcolor": "#f2e6ce",
          "layer": "below",
          "line": {
           "color": "rgb(175,175,175)",
           "width": 0.5
          },
          "path": "M 0.9999781871351753,0.006604941623387706 Q -0.0285397953934476, 0.19795322699794554 -0.9611188250435928, -0.27613511936518265L -0.9611188250435928, -0.27613511936518265 L -0.961396698387451, -0.27516611043096967 L -0.9616735947677623, -0.274196821875181 M -0.9616735947677623,-0.274196821875181 Q -0.02854825397205113, 0.19795200730264717 0.9999620979956083, 0.008706467264137173L 0.9999620979956083, 0.008706467264137173 L 0.999970694632975, 0.007655708670354884 L 0.9999781871351753, 0.006604941623387706 ",
          "type": "path"
         },
         {
          "fillcolor": "#f2e6ce",
          "layer": "below",
          "line": {
           "color": "rgb(175,175,175)",
           "width": 0.5
          },
          "path": "M 0.9910085016348226,0.1337989151208029 Q -0.07623721241000467, 0.18489966858799892 -0.7973189034391762, -0.6035582542046373L -0.7973189034391762, -0.6035582542046373 L -0.8080888386466908, -0.5890606325792299 L -0.8185951974674472, -0.5743708755527486 M -0.8185951974674472,-0.5743708755527486 Q -0.07608973961878579, 0.1849604052892007 0.9857992596759654, 0.16792801916987732L 0.9857992596759654, 0.16792801916987732 L 0.9885511773451289, 0.15088594954322154 L 0.9910085016348226, 0.1337989151208029 ",
          "type": "path"
         },
         {
          "fillcolor": "#f2e6ce",
          "layer": "below",
          "line": {
           "color": "rgb(175,175,175)",
           "width": 0.5
          },
          "path": "M 0.9857992596759654,0.16792801916987732 Q -0.12523871146557666, 0.1559335279869023 -0.37667185276071014, -0.9263467576117562L -0.37667185276071014, -0.9263467576117562 L -0.3940452187710158, -0.9190910540113544 L -0.4112789039941955, -0.9115095518585273 M -0.4112789039941955,-0.9115095518585273 Q -0.1250648439902784, 0.15607301111238717 0.9792328062369008, 0.20273902236472463L 0.9792328062369008, 0.20273902236472463 L 0.9826701921307599, 0.18536260005107674 L 0.9857992596759654, 0.16792801916987732 ",
          "type": "path"
         },
         {
          "fillcolor": "#f2e6ce",
          "layer": "below",
          "line": {
           "color": "rgb(175,175,175)",
           "width": 0.5
          },
          "path": "M 0.9999620979956083,0.008706467264137173 Q -0.13799231891904573, 0.1447691953398387 -0.056600651155938514, -0.9983968981766338L -0.056600651155938514, -0.9983968981766338 L -0.05790640108269606, -0.9983220165425832 L -0.05921205195533543, -0.9982454271887443 M -0.05921205195533543,-0.9982454271887443 Q -0.13808546072208397, 0.1446803564315827 0.9999205009842863, 0.012609191541647385L 0.9999205009842863, 0.012609191541647385 L 0.9999432035069997, 0.010657849696772463 L 0.9999620979956083, 0.008706467264137173 ",
          "type": "path"
         },
         {
          "fillcolor": "#f2e6ce",
          "layer": "below",
          "line": {
           "color": "rgb(175,175,175)",
           "width": 0.5
          },
          "path": "M 0.9942936888111812,0.10667736587605671 Q -0.1587126244722415, 0.12169758762248846 0.15498079213622443, -0.9879174834310953L 0.15498079213622443, -0.9879174834310953 L 0.1404640226230412, -0.9900857833281689 L 0.12591699180467977, -0.9920407810039162 M 0.12591699180467977,-0.9920407810039162 Q -0.15858870007870282, 0.12185903416385364 0.9910085016348226, 0.1337989151208029L 0.9910085016348226, 0.1337989151208029 L 0.9927437189203384, 0.12024935984950637 L 0.9942936888111812, 0.10667736587605671 ",
          "type": "path"
         },
         {
          "fillcolor": "#f2e6ce",
          "layer": "below",
          "line": {
           "color": "rgb(175,175,175)",
           "width": 0.5
          },
          "path": "M 0.999178746924381,0.04051952238888972 Q -0.18631091488430995, 0.07272030662044414 0.7075346330422727, -0.7066786702920476L 0.7075346330422727, -0.7066786702920476 L 0.7024240477584847, -0.7117587070985405 L 0.6972769892072374, -0.7168017859367332 M 0.6972769892072374,-0.7168017859367332 Q -0.18628904022933296, 0.07277632506821134 0.9985238883714366, 0.0543143107439173L 0.9985238883714366, 0.0543143107439173 L 0.9988751317424034, 0.0474180470559086 L 0.999178746924381, 0.04051952238888972 ",
          "type": "path"
         },
         {
          "fillcolor": "#f2e6ce",
          "layer": "below",
          "line": {
           "color": "rgb(175,175,175)",
           "width": 0.5
          },
          "path": "M 0.9997043229884804,0.024315974135206354 Q -0.1961943432420786, 0.03883013880749664 0.9150753669355355, -0.4032828694945957L 0.9150753669355355, -0.4032828694945957 L 0.9137273327759892, -0.4063278987936672 L 0.9123691659289906, -0.40936842216032987 M 0.9123691659289906,-0.40936842216032987 Q -0.1962049227963264, 0.03877664594169541 0.9995031657143884, 0.03151859335243065L 0.9995031657143884, 0.03151859335243065 L 0.999610231616456, 0.027917464922429882 L 0.9997043229884804, 0.024315974135206354 ",
          "type": "path"
         },
         {
          "fillcolor": "#f2e6ce",
          "layer": "below",
          "line": {
           "color": "rgb(175,175,175)",
           "width": 0.5
          },
          "path": "M 1.0,0.0 Q -0.19839462589895349, 0.025289768967198912 0.9680213792792851, -0.25086771266591956L 0.9680213792792851, -0.25086771266591956 L 0.9679551889204983, -0.2511229823052493 L 0.9678889312464753, -0.2513782344805446 M 0.9678889312464753,-0.2513782344805446 Q -0.19839554923036118, 0.02528252450969511 0.9999998197277399, 0.0006004535682855322L 0.9999998197277399, 0.0006004535682855322 L 0.9999999549319339, 0.0003002267976734072 L 1.0, 0.0 ",
          "type": "path"
         },
         {
          "fillcolor": "#f2e6ce",
          "layer": "below",
          "line": {
           "color": "rgb(175,175,175)",
           "width": 0.5
          },
          "path": "M 0.9999954931967477,0.003002263511624427 Q -0.19972324057277294, 0.010517945384449624 0.9941488199040586, -0.10801909036539616L 0.9941488199040586, -0.10801909036539616 L 0.994083200464094, -0.1086213172220985 L 0.994017216212397, -0.10922350421661425 M 0.994017216212397,-0.10922350421661425 Q -0.19972476122254487, 0.010489030202904478 0.9999898597022033, 0.004503386810798122L 0.9999898597022033, 0.004503386810798122 L 0.9999929581228937, 0.003752826218290107 L 0.9999954931967477, 0.003002263511624427 ",
          "type": "path"
         },
         {
          "fillcolor": "#ecd5bb",
          "layer": "below",
          "line": {
           "color": "rgb(175,175,175)",
           "width": 0.5
          },
          "path": "M 0.5550980251351606,0.8317849376437666 Q 0.03810882305289834, 0.19633572676801053 -0.20361419046752308, 0.9790512047080353L -0.20361419046752308, 0.9790512047080353 L -0.14625821265767922, 0.9892464481766822 L -0.08840588549187832, 0.9960845342692541 M -0.08840588549187832,0.9960845342692541 Q 0.037759204710911265, 0.19640326489037674 0.4514533110648892, 0.8922947427439817L 0.4514533110648892, 0.8922947427439817 L 0.5041842492877409, 0.8635961109049515 L 0.5550980251351606, 0.8317849376437666 ",
          "type": "path"
         },
         {
          "fillcolor": "#ecd5bb",
          "layer": "below",
          "line": {
           "color": "rgb(175,175,175)",
           "width": 0.5
          },
          "path": "M 0.8107726675829416,0.5853611547587018 Q 0.03208273178518864, 0.1974099752322553 -0.5836783662383542, 0.8119849535461391L -0.5836783662383542, 0.8119849535461391 L -0.5576399043114965, 0.8300829700213498 L -0.5310407133226315, 0.8473463051160315 M -0.5310407133226315,0.8473463051160315 Q 0.03178646037363083, 0.19745789661828062 0.7701310215192853, 0.6378857340414991L 0.7701310215192853, 0.6378857340414991 L 0.7908879986518106, 0.6119609248869846 L 0.8107726675829416, 0.5853611547587018 ",
          "type": "path"
         },
         {
          "fillcolor": "#ecd5bb",
          "layer": "below",
          "line": {
           "color": "rgb(175,175,175)",
           "width": 0.5
          },
          "path": "M 0.95424417705391,0.29902851128062363 Q 0.05480423892538534, 0.19234473061617594 -0.6533327775189577, 0.757070856538121L -0.6533327775189577, 0.757070856538121 L -0.6499006980003038, 0.7600191331398952 L -0.6464553140364284, 0.7629518510063807 M -0.6464553140364284,0.7629518510063807 Q 0.05444713030780023, 0.19244612233361685 0.9503505794509609, 0.3111812592962866L 0.9503505794509609, 0.3111812592962866 L 0.9523167639748579, 0.305111096246031 L 0.95424417705391, 0.29902851128062363 ",
          "type": "path"
         },
         {
          "fillcolor": "#ecd5bb",
          "layer": "below",
          "line": {
           "color": "rgb(175,175,175)",
           "width": 0.5
          },
          "path": "M 0.9184127559071583,0.39562357081829497 Q 0.02677207533585383, 0.1982000403183899 -0.7805360014603188, 0.6251108305127477L -0.7805360014603188, 0.6251108305127477 L -0.7734977192181351, 0.6337990835938018 L -0.7663627318479863, 0.6424080971115569 M -0.7663627318479863,0.6424080971115569 Q 0.026361601684789484, 0.1982550527896137 0.9076056921202675, 0.41982366254284686L 0.9076056921202675, 0.41982366254284686 L 0.9130894010139377, 0.4077594214190625 L 0.9184127559071583, 0.39562357081829497 ",
          "type": "path"
         },
         {
          "fillcolor": "#ecd5bb",
          "layer": "below",
          "line": {
           "color": "rgb(175,175,175)",
           "width": 0.5
          },
          "path": "M 0.8914658386349041,0.45308791481010297 Q -0.010298584425583993, 0.19973467189957061 -0.9333380960042883, 0.35899860521607857L -0.9333380960042883, 0.35899860521607857 L -0.9250446241345646, 0.37985845174188526 L -0.9162850085207966, 0.4005268819443254 M -0.9162850085207966,0.4005268819443254 Q -0.010651157803283674, 0.19971618071015065 0.8684873012843133, 0.495711415551317L 0.8684873012843133, 0.495711415551317 L 0.8802346018998214, 0.47453877145946977 L 0.8914658386349041, 0.45308791481010297 ",
          "type": "path"
         },
         {
          "fillcolor": "#ecd5bb",
          "layer": "below",
          "line": {
           "color": "rgb(175,175,175)",
           "width": 0.5
          },
          "path": "M 0.9503505794509609,0.3111812592962866 Q -0.002258031076873342, 0.19998725283291402 -0.9571344233156026, 0.28964408453187646L -0.9571344233156026, 0.28964408453187646 L -0.9556355764605665, 0.29455159989869456 L -0.9541115674828773, 0.29945135964855274 M -0.9541115674828773,0.29945135964855274 Q -0.0027696333367576162, 0.19998082190845182 0.9454527148521216, 0.3257593651435872L 0.9454527148521216, 0.3257593651435872 L 0.9479296719509991, 0.3184797278240347 L 0.9503505794509609, 0.3111812592962866 ",
          "type": "path"
         },
         {
          "fillcolor": "#ecd5bb",
          "layer": "below",
          "line": {
           "color": "rgb(175,175,175)",
           "width": 0.5
          },
          "path": "M 0.939549410042782,0.3424133555927109 Q -0.02260390667961442, 0.19871855324256787 -0.9924497843002791, 0.12265164345547722L -0.9924497843002791, 0.12265164345547722 L -0.9915134984385803, 0.1300037784608103 L -0.9905227482244767, 0.13734877229094486 M -0.9905227482244767,0.13734877229094486 Q -0.022919213737456267, 0.1986824341547506 0.9332352670496461, 0.3592658296231019L 0.9332352670496461, 0.3592658296231019 L 0.9364302500230777, 0.35085379696066593 L 0.939549410042782, 0.3424133555927109 ",
          "type": "path"
         },
         {
          "fillcolor": "#ecd5bb",
          "layer": "below",
          "line": {
           "color": "rgb(175,175,175)",
           "width": 0.5
          },
          "path": "M 0.9332352670496461,0.3592658296231019 Q -0.03476385793543373, 0.1969555132039847 -0.9998367831633913, 0.01806673831884227L -0.9998367831633913, 0.01806673831884227 L -0.9996627977069444, 0.025967111520625228 L -0.999426387139822, 0.033865863175807906 M -0.999426387139822,0.033865863175807906 Q -0.03504414537635319, 0.19690583504518355 0.9263726088137874, 0.37660827080606935L 0.9263726088137874, 0.37660827080606935 L 0.929844370343701, 0.3679530499127926 L 0.9332352670496461, 0.3592658296231019 ",
          "type": "path"
         },
         {
          "fillcolor": "#ecd5bb",
          "layer": "below",
          "line": {
           "color": "rgb(175,175,175)",
           "width": 0.5
          },
          "path": "M 0.9263726088137874,0.37660827080606935 Q -0.056263826859050105, 0.1919228537386177 -0.9830822308673851, -0.18316475466859125L -0.9830822308673851, -0.18316475466859125 L -0.9846710454331244, -0.1744217081834648 L -0.9861821052591629, -0.16566488845438923 M -0.9861821052591629,-0.16566488845438923 Q -0.05653648549603148, 0.19184271111448833 0.9184127559071583, 0.39562357081829497L 0.9184127559071583, 0.39562357081829497 L 0.9224416815608383, 0.38613643200197145 L 0.9263726088137874, 0.37660827080606935 ",
          "type": "path"
         },
         {
          "fillcolor": "#ecd5bb",
          "layer": "below",
          "line": {
           "color": "rgb(175,175,175)",
           "width": 0.5
          },
          "path": "M 0.9076056921202675,0.41982366254284686 Q -0.0830517647634065, 0.18194066167210615 -0.9117779657393217, -0.41068350489429734L -0.9117779657393217, -0.41068350489429734 L -0.9183400117690937, -0.39579239859292487 L -0.9246588763174934, -0.3807964842895354 M -0.9246588763174934,-0.3807964842895354 Q -0.08345447674105702, 0.18175629373387975 0.8914658386349041, 0.45308791481010297L 0.8914658386349041, 0.45308791481010297 L 0.8996895135618532, 0.436530387472437 L 0.9076056921202675, 0.41982366254284686 ",
          "type": "path"
         },
         {
          "fillcolor": "#ecd5bb",
          "layer": "below",
          "line": {
           "color": "rgb(175,175,175)",
           "width": 0.5
          },
          "path": "M 0.716574759947032,0.6975102962730038 Q -0.1486310532059556, 0.13382380215375886 -0.6187622884953166, -0.7855782776630466L -0.6187622884953166, -0.7855782776630466 L -0.6561412489223847, -0.7546380996627279 L -0.6919753370504782, -0.7219211403705235 M -0.6919753370504782,-0.7219211403705235 Q -0.1489019749766329, 0.13352228970497093 0.6425106171078044, 0.7662767821771376L 0.6425106171078044, 0.7662767821771376 L 0.6804119876420259, 0.7328298077132421 L 0.716574759947032, 0.6975102962730038 ",
          "type": "path"
         },
         {
          "fillcolor": "#ecd5bb",
          "layer": "below",
          "line": {
           "color": "rgb(175,175,175)",
           "width": 0.5
          },
          "path": "M 0.6425106171078044,0.7662767821771376 Q -0.18432551730266933, 0.07761509950456391 -0.09915168062512733, -0.9950723311544808L -0.09915168062512733, -0.9950723311544808 L -0.15201571866489913, -0.9883780760816148 L -0.20444812029832088, -0.9788774009580992 M -0.20444812029832088,-0.9788774009580992 Q -0.18443029740780834, 0.07736578958472132 0.5550980251351606, 0.8317849376437666L 0.5550980251351606, 0.8317849376437666 L 0.5996994618989745, 0.8002253153944084 L 0.6425106171078044, 0.7662767821771376 ",
          "type": "path"
         },
         {
          "fillcolor": "#ecd5bb",
          "layer": "below",
          "line": {
           "color": "rgb(175,175,175)",
           "width": 0.5
          },
          "path": "M 0.9603878756594927,0.278666697483296 Q -0.1576851537435209, 0.12302598216995538 -0.03670241799794448, -0.999326239279798L -0.03670241799794448, -0.999326239279798 L -0.03961790468727027, -0.9992149026251512 L -0.04253305413082709, -0.9990950601951268 M -0.04253305413082709,-0.9990950601951268 Q -0.15790965707782692, 0.12273768859467374 0.9577003538697991, 0.2877673230192434L 0.9577003538697991, 0.2877673230192434 L 0.9590549094869332, 0.2832201980597612 L 0.9603878756594927, 0.278666697483296 ",
          "type": "path"
         },
         {
          "fillcolor": "#ecd5bb",
          "layer": "below",
          "line": {
           "color": "rgb(175,175,175)",
           "width": 0.5
          },
          "path": "M 0.4514533110648892,0.8922947427439817 Q -0.19892398175338993, -0.020718336887332354 0.6256380267673785, -0.7801134913989253L 0.6256380267673785, -0.7801134913989253 L 0.566088366717155, -0.8243445645283917 L 0.5034237772139356, -0.8640396406043265 M 0.5034237772139356,-0.8640396406043265 Q -0.19890184690180998, -0.0209297706401421 0.31254884788174614, 0.9499016884329626L 0.31254884788174614, 0.9499016884329626 L 0.3830854536088303, 0.9237129073653333 L 0.4514533110648892, 0.8922947427439817 ",
          "type": "path"
         },
         {
          "fillcolor": "#ecd5bb",
          "layer": "below",
          "line": {
           "color": "rgb(175,175,175)",
           "width": 0.5
          },
          "path": "M 0.7701310215192853,0.6378857340414991 Q -0.19867930725994887, -0.02294630398793738 0.8952606995196009, -0.44554268021781585L 0.8952606995196009, -0.44554268021781585 L 0.8775060242262346, -0.47956561328630215 L 0.8584589681785982, -0.5128822476492402 M 0.8584589681785982,-0.5128822476492402 Q -0.1986399092608503, -0.023284897441070537 0.716574759947032, 0.6975102962730038L 0.716574759947032, 0.6975102962730038 L 0.7439504635838786, 0.6682347699224667 L 0.7701310215192853, 0.6378857340414991 ",
          "type": "path"
         },
         {
          "fillcolor": "#ecd5bb",
          "layer": "below",
          "line": {
           "color": "rgb(175,175,175)",
           "width": 0.5
          },
          "path": "M 0.8420633058740382,0.539378706384008 Q -0.19798818132853957, -0.028296290467432917 0.959441045952734, -0.28190934596271144L 0.959441045952734, -0.28190934596271144 L 0.952525070960726, -0.3044601602693919 L 0.9450791396559644, -0.3268415820961925 M 0.9450791396559644,-0.3268415820961925 Q -0.19786685932994674, -0.029132558742806625 0.8107726675829416, 0.5853611547587018L 0.8107726675829416, 0.5853611547587018 L 0.8267377366359924, 0.5625875174779446 L 0.8420633058740382, 0.539378706384008 ",
          "type": "path"
         },
         {
          "fillcolor": "#ecd5bb",
          "layer": "below",
          "line": {
           "color": "rgb(175,175,175)",
           "width": 0.5
          },
          "path": "M 0.9454527148521216,0.3257593651435872 Q -0.19939984348517847, -0.015482325990830138 0.9844051317626973, -0.17591627712996505L 0.9844051317626973, -0.17591627712996505 L 0.9831276281621065, -0.18292093030692447 L 0.9818002827616354, -0.18991630990826636 M 0.9818002827616354,-0.18991630990826636 Q -0.19937300506367486, -0.015824185662456147 0.939549410042782, 0.3424133555927109L 0.939549410042782, 0.3424133555927109 L 0.9425378462237181, 0.33409939903560854 L 0.9454527148521216, 0.3257593651435872 ",
          "type": "path"
         },
         {
          "fillcolor": "#ecd5bb",
          "layer": "below",
          "line": {
           "color": "rgb(175,175,175)",
           "width": 0.5
          },
          "path": "M 0.9577003538697991,0.2877673230192434 Q -0.1986177031624913, -0.023473559390439536 0.9983976945136912, -0.05658660256408872L 0.9983976945136912, -0.05658660256408872 L 0.9981413847122488, -0.06094075914127196 L 0.9978660858955862, -0.06529375635864847 M 0.9978660858955862,-0.06529375635864847 Q -0.19858160019021331, -0.023777049141856833 0.95424417705391, 0.29902851128062363L 0.95424417705391, 0.29902851128062363 L 0.9559888471747644, 0.2934030062515804 L 0.9577003538697991, 0.2877673230192434 ",
          "type": "path"
         },
         {
          "fillcolor": "#e6c4a9",
          "layer": "below",
          "line": {
           "color": "rgb(175,175,175)",
           "width": 0.5
          },
          "path": "M -0.026286239263590104,0.9996544571127451 Q -0.05777638836442606, 0.19147294573271445 -0.5310407133226315, 0.8473463051160315L -0.5310407133226315, 0.8473463051160315 L -0.5048517595134336, 0.8632060593602146 L -0.4781895611451613, 0.8782566501950315 M -0.4781895611451613,0.8782566501950315 Q -0.05787173838889196, 0.19144414824132822 -0.08840588549187832, 0.9960845342692541L -0.08840588549187832, 0.9960845342692541 L -0.05737383512985778, 0.9983527648293923 L -0.026286239263590104, 0.9996544571127451 ",
          "type": "path"
         },
         {
          "fillcolor": "#e6c4a9",
          "layer": "below",
          "line": {
           "color": "rgb(175,175,175)",
           "width": 0.5
          },
          "path": "M 0.27310220320395223,0.9619850241064812 Q -0.03849154297293152, 0.19626105349651768 -0.6162313468477777, 0.7875651891508245L -0.6162313468477777, 0.7875651891508245 L -0.6145853689006394, 0.7888503180789528 L -0.6129367108697698, 0.7901320069887995 M -0.6129367108697698,0.7901320069887995 Q -0.03864252442677349, 0.19623138206190727 0.2675998356753536, 0.9635301385771613L 0.2675998356753536, 0.9635301385771613 L 0.2703521232702666, 0.9627615122361605 L 0.27310220320395223, 0.9619850241064812 ",
          "type": "path"
         },
         {
          "fillcolor": "#e6c4a9",
          "layer": "below",
          "line": {
           "color": "rgb(175,175,175)",
           "width": 0.5
          },
          "path": "M 0.22637520662869737,0.9740401766989977 Q -0.058161412085521697, 0.19135634336028198 -0.7301183645732857, 0.6833206960957868L -0.7301183645732857, 0.6833206960957868 L -0.726144372220966, 0.687542253750138 L -0.7221459711324526, 0.6917407002462461 M -0.7221459711324526,0.6917407002462461 Q -0.05832786115204722, 0.19130567323900122 0.21336618192536871, 0.9769722986915189L 0.21336618192536871, 0.9769722986915189 L 0.21987558194740336, 0.975527922954177 L 0.22637520662869737, 0.9740401766989977 ",
          "type": "path"
         },
         {
          "fillcolor": "#e6c4a9",
          "layer": "below",
          "line": {
           "color": "rgb(175,175,175)",
           "width": 0.5
          },
          "path": "M 0.1339673713780044,0.9909857432910263 Q -0.09154953376704106, 0.17781643025051821 -0.8844396250714952, 0.46665463632475884L -0.8844396250714952, 0.46665463632475884 L -0.8771143221102228, 0.4802816527300667 L -0.8695790768893925, 0.49379371101320435 M -0.8695790768893925,0.49379371101320435 Q -0.0916778561796544, 0.17775030432126582 0.10180853211424158, 0.9948040122500228L 0.10180853211424158, 0.9948040122500228 L 0.11790340945603314, 0.9930250681823913 L 0.1339673713780044, 0.9909857432910263 ",
          "type": "path"
         },
         {
          "fillcolor": "#e6c4a9",
          "layer": "below",
          "line": {
           "color": "rgb(175,175,175)",
           "width": 0.5
          },
          "path": "M 0.2614758503228246,0.9652100184405236 Q -0.09553510628430001, 0.1757072664042313 -0.9522629319106113, 0.3052790666079258L -0.9522629319106113, 0.3052790666079258 L -0.9514933549473774, 0.30766929565847834 L -0.9507177783964423, 0.3100575847176346 M -0.9507177783964423,0.3100575847176346 Q -0.09573540543600523, 0.17559821225173022 0.2544202473535834, 0.9670937585035597L 0.2544202473535834, 0.9670937585035597 L 0.25794976840189776, 0.9661583291476648 L 0.2614758503228246, 0.9652100184405236 ",
          "type": "path"
         },
         {
          "fillcolor": "#e6c4a9",
          "layer": "below",
          "line": {
           "color": "rgb(175,175,175)",
           "width": 0.5
          },
          "path": "M 0.2544202473535834,0.9670937585035597 Q -0.10368871428807125, 0.17102236850566283 -0.9751302067238102, 0.22163275916429667L -0.9751302067238102, 0.22163275916429667 L -0.9742870154913595, 0.22531047788538247 L -0.9734299537375896, 0.22898498895437272 M -0.9734299537375896,0.22898498895437272 Q -0.10380362021161771, 0.17095264967517243 0.245812541241899, 0.969317385879465L 0.245812541241899, 0.969317385879465 L 0.2501188653943957, 0.9682151378561585 L 0.2544202473535834, 0.9670937585035597 ",
          "type": "path"
         },
         {
          "fillcolor": "#e6c4a9",
          "layer": "below",
          "line": {
           "color": "rgb(175,175,175)",
           "width": 0.5
          },
          "path": "M 0.245812541241899,0.969317385879465 Q -0.1180981992068772, 0.16140884530933475 -0.998253850748576, 0.05906986935519435L -0.998253850748576, 0.05906986935519435 L -0.9980170306092316, 0.06294447246527766 L -0.9977651717174861, 0.06681812708820357 M -0.9977651717174861,0.06681812708820357 Q -0.11818910525258644, 0.16134229265630584 0.23718540681410544, 0.971464401197711L 0.23718540681410544, 0.971464401197711 L 0.24150135998638161, 0.9704004807937433 L 0.245812541241899, 0.969317385879465 ",
          "type": "path"
         },
         {
          "fillcolor": "#e6c4a9",
          "layer": "below",
          "line": {
           "color": "rgb(175,175,175)",
           "width": 0.5
          },
          "path": "M 0.23718540681410544,0.971464401197711 Q -0.13446042440841763, 0.14805537568054802 -0.9897501591397696, -0.14280974225451404L -0.9897501591397696, -0.14280974225451404 L -0.9904431202915522, -0.13792180925123362 L -0.9911119422802095, -0.13303051480600483 M -0.9911119422802095,-0.13303051480600483 Q -0.13455213825295737, 0.14797203145039625 0.22637520662869737, 0.9740401766989977L 0.22637520662869737, 0.9740401766989977 L 0.23178388476925044, 0.9727673055573336 L 0.23718540681410544, 0.971464401197711 ",
          "type": "path"
         },
         {
          "fillcolor": "#e6c4a9",
          "layer": "below",
          "line": {
           "color": "rgb(175,175,175)",
           "width": 0.5
          },
          "path": "M 0.1800580880247136,0.9836559789565071 Q -0.15266684519454854, 0.1292007522359826 -0.9403404440090325, -0.3402349913822733L -0.9403404440090325, -0.3402349913822733 L -0.9431015575731211, -0.33250481515784547 L -0.9457991255459864, -0.3247522349675939 M -0.9457991255459864,-0.3247522349675939 Q -0.15277539099267246, 0.12907238243340852 0.1622272338861158, 0.9867534264372531L 0.1622272338861158, 0.9867534264372531 L 0.17114966825595668, 0.9852450411221951 L 0.1800580880247136, 0.9836559789565071 ",
          "type": "path"
         },
         {
          "fillcolor": "#e6c4a9",
          "layer": "below",
          "line": {
           "color": "rgb(175,175,175)",
           "width": 0.5
          },
          "path": "M 0.21336618192536871,0.9769722986915189 Q -0.16494004633728723, 0.11311401820399425 -0.8345026406950928, -0.5510039407054333L -0.8345026406950928, -0.5510039407054333 L -0.8390599789014875, -0.5440389248995289 L -0.8435591863808428, -0.5370362176543502 M -0.8435591863808428,-0.5370362176543502 Q -0.16495028401712417, 0.11309908842546024 0.19689616962325934, 0.9804243460806594L 0.19689616962325934, 0.9804243460806594 L 0.2051384372377512, 0.9787329674470219 L 0.21336618192536871, 0.9769722986915189 ",
          "type": "path"
         },
         {
          "fillcolor": "#e6c4a9",
          "layer": "below",
          "line": {
           "color": "rgb(175,175,175)",
           "width": 0.5
          },
          "path": "M 0.10180853211424158,0.9948040122500228 Q -0.19312698712960238, 0.05198044672992339 -0.4112789039941955, -0.9115095518585273L -0.4112789039941955, -0.9115095518585273 L -0.42678018497806447, -0.9043553912650099 L -0.4421570716048215, -0.8969376366447384 M -0.4421570716048215,-0.8969376366447384 Q -0.19312252105540562, 0.051997037042550966 0.06795911999115453, 0.9976881065794199L 0.06795911999115453, 0.9976881065794199 L 0.08489607426359547, 0.9963898115570181 L 0.10180853211424158, 0.9948040122500228 ",
          "type": "path"
         },
         {
          "fillcolor": "#e6c4a9",
          "layer": "below",
          "line": {
           "color": "rgb(175,175,175)",
           "width": 0.5
          },
          "path": "M 0.27829069585114996,0.9604968967168415 Q -0.1972439876008877, 0.033087903458830066 -0.05037193504257554, -0.9987305283008358L -0.05037193504257554, -0.9987305283008358 L -0.05208001407894674, -0.9986429152272281 L -0.05378794077033672, -0.9985523809133333 M -0.05378794077033672,-0.9985523809133333 Q -0.19727659927595642, 0.032892907717526454 0.27310220320395223, 0.9619850241064812L 0.27310220320395223, 0.9619850241064812 L 0.2756974535843223, 0.9612444611476939 L 0.27829069585114996, 0.9604968967168415 ",
          "type": "path"
         },
         {
          "fillcolor": "#e6c4a9",
          "layer": "below",
          "line": {
           "color": "rgb(175,175,175)",
           "width": 0.5
          },
          "path": "M 0.030540476280147506,0.9995335308575605 Q -0.19741082325042936, -0.032077513363534586 0.3454439408348354, -0.9384393873556772L 0.3454439408348354, -0.9384393873556772 L 0.3182091167455553, -0.9480205472562362 L 0.2907090544530097, -0.956811499543686 M 0.2907090544530097,-0.956811499543686 Q -0.19742539007808146, -0.03198773753358269 -0.026286239263590104, 0.9996544571127451L -0.026286239263590104, 0.9996544571127451 L 0.0021279776639005353, 0.9999977358529678 L 0.030540476280147506, 0.9995335308575605 ",
          "type": "path"
         },
         {
          "fillcolor": "#e6c4a9",
          "layer": "below",
          "line": {
           "color": "rgb(175,175,175)",
           "width": 0.5
          },
          "path": "M 0.06795911999115453,0.9976881065794199 Q -0.17720251886366062, -0.09273223446231633 0.8584589681785982, -0.5128822476492402L 0.8584589681785982, -0.5128822476492402 L 0.8488323687744678, -0.5286620940834759 L 0.8389157445965616, -0.5442613099127998 M 0.8389157445965616,-0.5442613099127998 Q -0.17717947483866156, -0.09277625609980229 0.030540476280147506, 0.9995335308575605L 0.030540476280147506, 0.9995335308575605 L 0.0492584410440887, 0.9987860661752876 L 0.06795911999115453, 0.9976881065794199 ",
          "type": "path"
         },
         {
          "fillcolor": "#e6c4a9",
          "layer": "below",
          "line": {
           "color": "rgb(175,175,175)",
           "width": 0.5
          },
          "path": "M 0.19689616962325934,0.9804243460806594 Q -0.17433452934083274, -0.09801771207037191 0.9399807208922984, -0.3412275550872099L 0.9399807208922984, -0.3412275550872099 L 0.9373976533922469, -0.3482608783867474 L 0.934761960505722, -0.3552746503643328 M 0.934761960505722,-0.3552746503643328 Q -0.1742285559470348, -0.09820595853924022 0.1800580880247136, 0.9836559789565071L 0.1800580880247136, 0.9836559789565071 L 0.18848405490251588, 0.9820762501188517 L 0.19689616962325934, 0.9804243460806594 ",
          "type": "path"
         },
         {
          "fillcolor": "#e6c4a9",
          "layer": "below",
          "line": {
           "color": "rgb(175,175,175)",
           "width": 0.5
          },
          "path": "M 0.2825574908092812,0.9592503658521914 Q -0.17356430800581635, -0.09937520307633144 0.9702955977812271, -0.2419224109634559L 0.9702955977812271, -0.2419224109634559 L 0.9698473607791763, -0.2437131444745362 L 0.9693958188836357, -0.24550304749824492 M 0.9693958188836357,-0.24550304749824492 Q -0.17352687124759172, -0.09944055990903171 0.27829069585114996, 0.9604968967168415L 0.27829069585114996, 0.9604968967168415 L 0.2804247859585037, 0.9598760021065884 L 0.2825574908092812, 0.9592503658521914 ",
          "type": "path"
         },
         {
          "fillcolor": "#e6c4a9",
          "layer": "below",
          "line": {
           "color": "rgb(175,175,175)",
           "width": 0.5
          },
          "path": "M 0.2675998356753536,0.9635301385771613 Q -0.16437167110550774, -0.11393837693236988 0.9961626538320442, -0.0875212380528232L 0.9961626538320442, -0.0875212380528232 L 0.9959476510209051, -0.08993484544903267 L 0.9957268002771806, -0.09234792477239338 M 0.9957268002771806,-0.09234792477239338 Q -0.1642859491231193, -0.11406194334972493 0.2614758503228246, 0.9652100184405236L 0.2614758503228246, 0.9652100184405236 L 0.2645391764516166, 0.9643749395967838 L 0.2675998356753536, 0.9635301385771613 ",
          "type": "path"
         },
         {
          "fillcolor": "#e1b396",
          "layer": "below",
          "line": {
           "color": "rgb(175,175,175)",
           "width": 0.5
          },
          "path": "M -0.2768519925123518,0.9609125736725171 Q -0.09442906491355628, 0.1763041454406316 -0.6464553140364284, 0.7629518510063807L -0.6464553140364284, 0.7629518510063807 L -0.6432632119218802, 0.7656451137360875 L -0.6400598892513125, 0.7683250211802278 M -0.6400598892513125,0.7683250211802278 Q -0.09468411702797615, 0.17616730111638912 -0.28764207420616544, 0.9577379793797335L -0.28764207420616544, 0.9577379793797335 L -0.28225149663435517, 0.9593404466859857 L -0.2768519925123518, 0.9609125736725171 ",
          "type": "path"
         },
         {
          "fillcolor": "#e1b396",
          "layer": "below",
          "line": {
           "color": "rgb(175,175,175)",
           "width": 0.5
          },
          "path": "M -0.326293462957181,0.9452685205968783 Q -0.11100839757727395, 0.16636446636023536 -0.7476040367741508, 0.6641447163073679L -0.7476040367741508, 0.6641447163073679 L -0.7430022593212562, 0.6692889082029589 L -0.7383650859347028, 0.6744012158000896 M -0.7383650859347028,0.6744012158000896 Q -0.1111595126630121, 0.1662635340191037 -0.3410195299321191, 0.9400562111942438L -0.3410195299321191, 0.9400562111942438 L -0.33366667448525034, 0.9426911213849178 L -0.326293462957181, 0.9452685205968783 ",
          "type": "path"
         },
         {
          "fillcolor": "#e1b396",
          "layer": "below",
          "line": {
           "color": "rgb(175,175,175)",
           "width": 0.5
          },
          "path": "M -0.43932941045001306,0.898326037201218 Q -0.14441241123587828, 0.13836565860443692 -0.9162850085207966, 0.4005268819443254L -0.9162850085207966, 0.4005268819443254 L -0.9075738429393146, 0.41989250959306745 L -0.8984534414756035, 0.43906880269570997 M -0.8984534414756035,0.43906880269570997 Q -0.1445002395173033, 0.13827393383946945 -0.4781895611451613, 0.8782566501950315L -0.4781895611451613, 0.8782566501950315 L -0.4588692198033854, 0.8885038205416071 L -0.43932941045001306, 0.898326037201218 ",
          "type": "path"
         },
         {
          "fillcolor": "#e1b396",
          "layer": "below",
          "line": {
           "color": "rgb(175,175,175)",
           "width": 0.5
          },
          "path": "M -0.23699914736671912,0.9715098579774928 Q -0.13496824017474154, 0.1475925951534605 -0.9465037368790863, 0.32269285098050343L -0.9465037368790863, 0.32269285098050343 L -0.9461508673357429, 0.32372602033173276 L -0.9457968700223637, 0.3247588038158476 M -0.9457968700223637,0.3247588038158476 Q -0.13503764972617693, 0.1475290925764486 -0.24003326725182514, 0.9707646628366805L -0.24003326725182514, 0.9707646628366805 L -0.23851649833533362, 0.9711384453422955 L -0.23699914736671912, 0.9715098579774928 ",
          "type": "path"
         },
         {
          "fillcolor": "#e1b396",
          "layer": "below",
          "line": {
           "color": "rgb(175,175,175)",
           "width": 0.5
          },
          "path": "M -0.28764207420616544,0.9577379793797335 Q -0.1509287771244736, 0.13122691886846607 -0.9884190093044657, 0.15174933952270933L -0.9884190093044657, 0.15174933952270933 L -0.9876078522622438, 0.1569418049786549 L -0.9867694178138349, 0.16212993575322637 M -0.9867694178138349,0.16212993575322637 Q -0.151038551105645, 0.13110055713042362 -0.299290224022159, 0.9541621255346315L -0.299290224022159, 0.9541621255346315 L -0.29347159548851753, 0.9559677937260355 L -0.28764207420616544, 0.9577379793797335 ",
          "type": "path"
         },
         {
          "fillcolor": "#e1b396",
          "layer": "below",
          "line": {
           "color": "rgb(175,175,175)",
           "width": 0.5
          },
          "path": "M -0.2503315720866646,0.9681601644441993 Q -0.15395333546888748, 0.1276650715662048 -0.9977651717174861, 0.06681812708820357L -0.9977651717174861, 0.06681812708820357 L -0.9975373259188317, 0.07013760331453125 L -0.9972984365479133, 0.07345630305894688 M -0.9972984365479133,0.07345630305894688 Q -0.15400717900859529, 0.12760011290674664 -0.25758402533401553, 0.9662559029018789L -0.25758402533401553, 0.9662559029018789 L -0.25395958355377524, 0.9672148313178376 L -0.2503315720866646, 0.9681601644441993 ",
          "type": "path"
         },
         {
          "fillcolor": "#e1b396",
          "layer": "below",
          "line": {
           "color": "rgb(175,175,175)",
           "width": 0.5
          },
          "path": "M -0.2442770922001011,0.9697054718966287 Q -0.16433631235775326, 0.11398936985813615 -0.993830320427938, -0.11091119960627144L -0.993830320427938, -0.11091119960627144 L -0.9941392499997856, -0.10810713024525091 L -0.994440267970441, -0.1053022005414765 M -0.994440267970441,-0.1053022005414765 Q -0.1643708728102334, 0.11393952857372228 -0.2503315720866646, 0.9681601644441993L -0.2503315720866646, 0.9681601644441993 L -0.24730553914270767, 0.9689375471666555 L -0.2442770922001011, 0.9697054718966287 ",
          "type": "path"
         },
         {
          "fillcolor": "#e1b396",
          "layer": "below",
          "line": {
           "color": "rgb(175,175,175)",
           "width": 0.5
          },
          "path": "M -0.3114877721488587,0.9502501606428386 Q -0.17906427482687523, 0.08908414831340816 -0.9457991255459864, -0.3247522349675939L -0.9457991255459864, -0.3247522349675939 L -0.9481129506067053, -0.3179336926024784 L -0.9503776195128883, -0.31109866654972285 M -0.9503776195128883,-0.31109866654972285 Q -0.17911860768088728, 0.08897485252845541 -0.326293462957181, 0.9452685205968783L -0.326293462957181, 0.9452685205968783 L -0.31890034516715904, 0.9477882515901254 L -0.3114877721488587, 0.9502501606428386 ",
          "type": "path"
         },
         {
          "fillcolor": "#e1b396",
          "layer": "below",
          "line": {
           "color": "rgb(175,175,175)",
           "width": 0.5
          },
          "path": "M -0.299290224022159,0.9541621255346315 Q -0.18731075772632552, 0.07010477900963519 -0.8522176775986995, -0.5231873756010165L -0.8522176775986995, -0.5231873756010165 L -0.8555687695422383, -0.5176891737171836 L -0.8588843895693686, -0.5121695084188954 M -0.8588843895693686,-0.5121695084188954 Q -0.18730836301093523, 0.0701111770416366 -0.3114877721488587, 0.9502501606428386L -0.3114877721488587, 0.9502501606428386 L -0.30539526194589134, 0.9522256738720084 L -0.299290224022159, 0.9541621255346315 ",
          "type": "path"
         },
         {
          "fillcolor": "#e1b396",
          "layer": "below",
          "line": {
           "color": "rgb(175,175,175)",
           "width": 0.5
          },
          "path": "M -0.3410195299321191,0.9400562111942438 Q -0.19935440966307838, 0.01605675396478137 -0.4870787361140626, -0.8733580622090389L -0.4870787361140626, -0.8733580622090389 L -0.49666428515245953, -0.8679427330498231 L -0.5061896342378488, -0.8624222018188962 M -0.5061896342378488,-0.8624222018188962 Q -0.19935069975060815, 0.016102748490331917 -0.3612040988532267, 0.932486782196739L -0.3612040988532267, 0.932486782196739 L -0.3511322119514982, 0.9363258886360284 L -0.3410195299321191, 0.9400562111942438 ",
          "type": "path"
         },
         {
          "fillcolor": "#e1b396",
          "layer": "below",
          "line": {
           "color": "rgb(175,175,175)",
           "width": 0.5
          },
          "path": "M -0.24003326725182514,0.9707646628366805 Q -0.19911153962259187, -0.018830687430920753 -0.05378794077033672, -0.9985523809133333L -0.05378794077033672, -0.9985523809133333 L -0.05519435071261172, -0.9984756299727165 L -0.056600651155938514, -0.9983968981766338 M -0.056600651155938514,-0.9983968981766338 Q -0.19909681955106706, -0.018985690523387347 -0.2442770922001011, 0.9697054718966287L -0.2442770922001011, 0.9697054718966287 L -0.24215575884020457, 0.9702373876843361 L -0.24003326725182514, 0.9707646628366805 ",
          "type": "path"
         },
         {
          "fillcolor": "#e1b396",
          "layer": "below",
          "line": {
           "color": "rgb(175,175,175)",
           "width": 0.5
          },
          "path": "M -0.4079178598367613,0.9130186304923883 Q -0.18860540500459, -0.06654322807810406 0.25533319968923274, -0.9668531207667783L 0.25533319968923274, -0.9668531207667783 L 0.2379827958066173, -0.9712693698969745 L 0.22055610897306788, -0.9753742885655026 M 0.22055610897306788,-0.9753742885655026 Q -0.1886429078501876, -0.06643683705464633 -0.43932941045001306, 0.898326037201218L -0.43932941045001306, 0.898326037201218 L -0.4236873284941415, 0.9058085049686261 L -0.4079178598367613, 0.9130186304923883 ",
          "type": "path"
         },
         {
          "fillcolor": "#e1b396",
          "layer": "below",
          "line": {
           "color": "rgb(175,175,175)",
           "width": 0.5
          },
          "path": "M -0.3612040988532267,0.932486782196739 Q -0.16289412407535875, -0.11604095975870604 0.7632971337219836, -0.6460475877609979L 0.7632971337219836, -0.6460475877609979 L 0.7554491313093266, -0.655207303075892 L 0.7474912174493485, -0.6642716912800746 M 0.7474912174493485,-0.6642716912800746 Q -0.16289801502580242, -0.11603549758868384 -0.3835303055273598, 0.9235282912515945L -0.3835303055273598, 0.9235282912515945 L -0.37239414188065606, 0.9280746753860757 L -0.3612040988532267, 0.932486782196739 ",
          "type": "path"
         },
         {
          "fillcolor": "#e1b396",
          "layer": "below",
          "line": {
           "color": "rgb(175,175,175)",
           "width": 0.5
          },
          "path": "M -0.2669302842953779,0.9637158415871292 Q -0.14973375676563863, -0.13258884600466425 0.9243325779481437, -0.38158784747910773L 0.9243325779481437, -0.38158784747910773 L 0.9225756588142293, -0.38581621760041507 L 0.9207993970709367, -0.3900364987456936 M 0.9207993970709367,-0.3900364987456936 Q -0.14965733046213817, -0.1326751048198055 -0.2768519925123518, 0.9609125736725171L -0.2768519925123518, 0.9609125736725171 L -0.2718947511819599, 0.9623269944669016 L -0.2669302842953779, 0.9637158415871292 ",
          "type": "path"
         },
         {
          "fillcolor": "#e1b396",
          "layer": "below",
          "line": {
           "color": "rgb(175,175,175)",
           "width": 0.5
          },
          "path": "M -0.25758402533401553,0.9662559029018789 Q -0.13731117839065407, -0.14541540595469923 0.9794242786982704, -0.20181199740444727L 0.9794242786982704, -0.20181199740444727 L 0.9785911867259249, -0.20581372466953182 L 0.9777417445857673, -0.20981201322703136 M 0.9777417445857673,-0.20981201322703136 Q -0.13720133228598339, -0.14551905173877122 -0.2669302842953779, 0.9637158415871292L -0.2669302842953779, 0.9637158415871292 L -0.26226022998039655, 0.9649971874418234 L -0.25758402533401553, 0.9662559029018789 ",
          "type": "path"
         },
         {
          "fillcolor": "#e1b396",
          "layer": "below",
          "line": {
           "color": "rgb(175,175,175)",
           "width": 0.5
          },
          "path": "M -0.23426646067208212,0.9721724257579907 Q -0.13175985688394667, -0.15046375016568575 0.9945853554304509, -0.10392290778882055L 0.9945853554304509, -0.10392290778882055 L 0.9944714440897388, -0.10500736588482557 L 0.9943563502974632, -0.10609169912443103 M 0.9943563502974632,-0.10609169912443103 Q -0.13171237788072807, -0.15050531390287952 -0.23699914736671912, 0.9715098579774928L -0.23699914736671912, 0.9715098579774928 L -0.23563303690073098, 0.9718421023607378 L -0.23426646067208212, 0.9721724257579907 ",
          "type": "path"
         },
         {
          "fillcolor": "#dba284",
          "layer": "below",
          "line": {
           "color": "rgb(175,175,175)",
           "width": 0.5
          },
          "path": "M -0.6533327775189577,0.757070856538121 Q -0.1413812828626203, 0.14146141825996142 -0.7567005286781185, 0.6537616613860557L -0.7567005286781185, 0.6537616613860557 L -0.7521701990690071, 0.6589688851778134 L -0.7476040367741508, 0.6641447163073679 M -0.7476040367741508,0.6641447163073679 Q -0.14122538922211123, 0.14161705207729466 -0.6620717009039173, 0.7494404998812073L -0.6620717009039173, 0.7494404998812073 L -0.6577133046011895, 0.7532683512205879 L -0.6533327775189577, 0.757070856538121 ",
          "type": "path"
         },
         {
          "fillcolor": "#dba284",
          "layer": "below",
          "line": {
           "color": "rgb(175,175,175)",
           "width": 0.5
          },
          "path": "M -0.6287607064920039,0.7775988515755898 Q -0.14668115840227122, 0.13595822067741184 -0.8230036279116887, 0.5680361154400295L -0.8230036279116887, 0.5680361154400295 L -0.8206704328852008, 0.5714018206026448 L -0.8183234737627425, 0.5747579423451912 M -0.8183234737627425,0.5747579423451912 Q -0.1465501683210368, 0.1360994054545272 -0.6336198059414034, 0.7736445834611513L -0.6336198059414034, 0.7736445834611513 L -0.6311933527865992, 0.775625522657688 L -0.6287607064920039, 0.7775988515755898 ",
          "type": "path"
         },
         {
          "fillcolor": "#dba284",
          "layer": "below",
          "line": {
           "color": "rgb(175,175,175)",
           "width": 0.5
          },
          "path": "M -0.6336198059414034,0.7736445834611513 Q -0.17319386250163288, 0.1000194280715776 -0.9867694178138349, 0.16212993575322637L -0.9867694178138349, 0.16212993575322637 L -0.9859712876217072, 0.16691500826945643 L -0.9851499536495365, 0.17169615261943422 M -0.9851499536495365,0.17169615261943422 Q -0.17312634231283047, 0.1001362551595607 -0.6400598892513125, 0.7683250211802278L -0.6400598892513125, 0.7683250211802278 L -0.6368454019008598, 0.7709915265926938 L -0.6336198059414034, 0.7736445834611513 ",
          "type": "path"
         },
         {
          "fillcolor": "#dba284",
          "layer": "below",
          "line": {
           "color": "rgb(175,175,175)",
           "width": 0.5
          },
          "path": "M -0.60889541994969,0.7932505074466014 Q -0.1752275545253108, 0.09641215761033062 -0.9959633595507075, 0.08976071764679762L -0.9959633595507075, 0.08976071764679762 L -0.99592594093857, 0.09017494200510502 L -0.9958883500491996, 0.09058915076477317 M -0.9958883500491996,0.09058915076477317 Q -0.17522101074237117, 0.09642404987565009 -0.6094474416885695, 0.7928264727033638L -0.6094474416885695, 0.7928264727033638 L -0.6091714677146259, 0.7930385381066978 L -0.60889541994969, 0.7932505074466014 ",
          "type": "path"
         },
         {
          "fillcolor": "#dba284",
          "layer": "below",
          "line": {
           "color": "rgb(175,175,175)",
           "width": 0.5
          },
          "path": "M -0.6094474416885695,0.7928264727033638 Q -0.18304743772284157, 0.08058309713024464 -0.9963014750932557, -0.08592654262218843L -0.9963014750932557, -0.08592654262218843 L -0.996361827794136, -0.08522387056880627 L -0.9964216849141452, -0.0845211561258841 M -0.9964216849141452,-0.0845211561258841 Q -0.1830373481846329, 0.08060601199375556 -0.6103668215709483, 0.7921188945640535L -0.6103668215709483, 0.7921188945640535 L -0.6099072342410327, 0.79247281695996 L -0.6094474416885695, 0.7928264727033638 ",
          "type": "path"
         },
         {
          "fillcolor": "#dba284",
          "layer": "below",
          "line": {
           "color": "rgb(175,175,175)",
           "width": 0.5
          },
          "path": "M -0.6112853799446356,0.7914102502911764 Q -0.19557327360170487, 0.04184608288373828 -0.8816085535959977, -0.47198131131049337L -0.8816085535959977, -0.47198131131049337 L -0.8822747852295378, -0.47073474839677265 L -0.8829392542689041, -0.4694872450568509 M -0.8829392542689041,-0.4694872450568509 Q -0.1955578063694621, 0.041918305881368516 -0.6129367108697698, 0.7901320069887995L -0.6129367108697698, 0.7901320069887995 L -0.6121113790691886, 0.7907715596896592 L -0.6112853799446356, 0.7914102502911764 ",
          "type": "path"
         },
         {
          "fillcolor": "#dba284",
          "layer": "below",
          "line": {
           "color": "rgb(175,175,175)",
           "width": 0.5
          },
          "path": "M -0.6103668215709483,0.7921188945640535 Q -0.1999874909088578, -0.002236845989226666 -0.5924967521497798, -0.8055728388494503L -0.5924967521497798, -0.8055728388494503 L -0.5931392431538459, -0.805099893324352 L -0.5937813566412968, -0.8046264353755854 M -0.5937813566412968,-0.8046264353755854 Q -0.19998797317888922, -0.0021933043108268986 -0.6112853799446356, 0.7914102502911764L -0.6112853799446356, 0.7914102502911764 L -0.6108262035236739, 0.791764705634733 L -0.6103668215709483, 0.7921188945640535 ",
          "type": "path"
         },
         {
          "fillcolor": "#dba284",
          "layer": "below",
          "line": {
           "color": "rgb(175,175,175)",
           "width": 0.5
          },
          "path": "M -0.619879444107858,0.7846970592353032 Q -0.18831312419624785, -0.06736592057894357 0.018505295572636457, -0.9998287623567195L 0.018505295572636457, -0.9998287623567195 L 0.014634723808203338, -0.9998929066950408 L 0.01076393273598969, -0.9999420671979228 M 0.01076393273598969,-0.9999420671979228 Q -0.18838622410901473, -0.06716122814502493 -0.6242395332874489, 0.7812330030669903L -0.6242395332874489, 0.7812330030669903 L -0.6220618999746489, 0.782968066143141 L -0.619879444107858, 0.7846970592353032 ",
          "type": "path"
         },
         {
          "fillcolor": "#dba284",
          "layer": "below",
          "line": {
           "color": "rgb(175,175,175)",
           "width": 0.5
          },
          "path": "M -0.6162313468477777,0.7875651891508245 Q -0.15414396503231348, -0.12743483842386635 0.6576567624712178, -0.7533177170197687L 0.6576567624712178, -0.7533177170197687 L 0.6552933922957591, -0.7553744568182832 L 0.6529235899587936, -0.7574237820898688 M 0.6529235899587936,-0.7574237820898688 Q -0.1542474831180229, -0.12730952027148343 -0.619879444107858, 0.7846970592353032L -0.619879444107858, 0.7846970592353032 L -0.6180570591956256, 0.7861332403469878 L -0.6162313468477777, 0.7875651891508245 ",
          "type": "path"
         },
         {
          "fillcolor": "#dba284",
          "layer": "below",
          "line": {
           "color": "rgb(175,175,175)",
           "width": 0.5
          },
          "path": "M -0.6242395332874489,0.7812330030669903 Q -0.10656272554136748, -0.16924652293384107 0.974299702781011, -0.22525560850028495L 0.974299702781011, -0.22525560850028495 L 0.9735518794904702, -0.2284660542412659 L 0.972793477389007, -0.23167401742405963 M 0.972793477389007,-0.23167401742405963 Q -0.10662974592250761, -0.1692043063414802 -0.6287607064920039, 0.7775988515755898L -0.6287607064920039, 0.7775988515755898 L -0.6265027549708839, 0.7794192055716184 L -0.6242395332874489, 0.7812330030669903 ",
          "type": "path"
         },
         {
          "fillcolor": "#d59171",
          "layer": "below",
          "line": {
           "color": "rgb(175,175,175)",
           "width": 0.5
          },
          "path": "M -0.701005428821628,0.7131559357970776 Q -0.15544548528905475, 0.12584395537033263 -0.8434581097745655, 0.5371949525596058L -0.8434581097745655, 0.5371949525596058 L -0.8407586722676953, 0.541410061789271 L -0.8380381703016838, 0.5456116064724119 M -0.8380381703016838,0.5456116064724119 Q -0.15538883798103065, 0.12591389530510527 -0.7074736646746959, 0.7067397072414681L -0.7074736646746959, 0.7067397072414681 L -0.7042468538809926, 0.7099551878807027 L -0.701005428821628, 0.7131559357970776 ",
          "type": "path"
         },
         {
          "fillcolor": "#d59171",
          "layer": "below",
          "line": {
           "color": "rgb(175,175,175)",
           "width": 0.5
          },
          "path": "M -0.7567005286781185,0.6537616613860557 Q -0.1821941670683725, 0.0824941542550863 -0.9905227482244767, 0.13734877229094486L -0.9905227482244767, 0.13734877229094486 L -0.9894970763004225, 0.14455288303218278 L -0.9884190093044657, 0.15174933952270933 M -0.9884190093044657,0.15174933952270933 Q -0.18220880811532308, 0.08246181082897329 -0.7663627318479863, 0.6424080971115569L -0.7663627318479863, 0.6424080971115569 L -0.7615527885488544, 0.648102885546318 L -0.7567005286781185, 0.6537616613860557 ",
          "type": "path"
         },
         {
          "fillcolor": "#d59171",
          "layer": "below",
          "line": {
           "color": "rgb(175,175,175)",
           "width": 0.5
          },
          "path": "M -0.6856875300104448,0.7278960167415228 Q -0.17990204034861756, 0.08737995123828109 -0.9960376799174231, 0.08893222242088111L -0.9960376799174231, 0.08893222242088111 L -0.9960006058791395, 0.0893464777615043 L -0.9959633595507075, 0.08976071764679762 M -0.9959633595507075,0.08976071764679762 Q -0.1799018844764456, 0.08738027215466677 -0.6862901777934308, 0.7273278434545601L -0.6862901777934308, 0.7273278434545601 L -0.6859889127259384, 0.7276119924912486 L -0.6856875300104448, 0.7278960167415228 ",
          "type": "path"
         },
         {
          "fillcolor": "#d59171",
          "layer": "below",
          "line": {
           "color": "rgb(175,175,175)",
           "width": 0.5
          },
          "path": "M -0.6914933598494569,0.722382816299024 Q -0.187814660889831, 0.06874338626251823 -0.994440267970441, -0.1053022005414765L -0.994440267970441, -0.1053022005414765 L -0.9947044177437684, -0.10277704666427567 L -0.9949621554761511, -0.10025123026801888 M -0.9949621554761511,-0.10025123026801888 Q -0.18781093679061497, 0.06875356006660041 -0.6950747067388594, 0.7189375160971144L -0.6950747067388594, 0.7189375160971144 L -0.6932861734839268, 0.7206623908988276 L -0.6914933598494569, 0.722382816299024 ",
          "type": "path"
         },
         {
          "fillcolor": "#d59171",
          "layer": "below",
          "line": {
           "color": "rgb(175,175,175)",
           "width": 0.5
          },
          "path": "M -0.6872935443418305,0.7263797793895727 Q -0.19311359742436085, 0.05203016903510782 -0.9591871122005355, -0.2827721411108195L -0.9591871122005355, -0.2827721411108195 L -0.9595122496017009, -0.28166690054794025 L -0.9598361134700528, -0.2805612861367438 M -0.9598361134700528,-0.2805612861367438 Q -0.1931111136264402, 0.05203938694831156 -0.6888962058781639, 0.7248599985698413L -0.6888962058781639, 0.7248599985698413 L -0.6880952946983998, 0.7256203314502166 L -0.6872935443418305, 0.7263797793895727 ",
          "type": "path"
         },
         {
          "fillcolor": "#d59171",
          "layer": "below",
          "line": {
           "color": "rgb(175,175,175)",
           "width": 0.5
          },
          "path": "M -0.6888962058781639,0.7248599985698413 Q -0.19761397428838157, 0.030801252668533938 -0.876820191125739, -0.4808184193999048L -0.876820191125739, -0.4808184193999048 L -0.877800012007345, -0.4790272841080192 L -0.8787761740301304, -0.47723415212761755 M -0.8787761740301304,-0.47723415212761755 Q -0.19760635819647965, 0.030850076180207072 -0.6914933598494569, 0.722382816299024L -0.6914933598494569, 0.722382816299024 L -0.6901958942216502, 0.7236225726161233 L -0.6888962058781639, 0.7248599985698413 ",
          "type": "path"
         },
         {
          "fillcolor": "#d59171",
          "layer": "below",
          "line": {
           "color": "rgb(175,175,175)",
           "width": 0.5
          },
          "path": "M -0.7074736646746959,0.7067397072414681 Q -0.19879763041937823, -0.021897537296242105 -0.5366837020072832, -0.8437835054086786L -0.5366837020072832, -0.8437835054086786 L -0.5413874552729366, -0.8407732293984472 L -0.5460743242574655, -0.8377367321460558 M -0.5460743242574655,-0.8377367321460558 Q -0.19881406422549971, -0.021747824400129866 -0.7142697319964599, 0.6998705237068534L -0.7142697319964599, 0.6998705237068534 L -0.7108799954388344, 0.703313324262297 L -0.7074736646746959, 0.7067397072414681 ",
          "type": "path"
         },
         {
          "fillcolor": "#d59171",
          "layer": "below",
          "line": {
           "color": "rgb(175,175,175)",
           "width": 0.5
          },
          "path": "M -0.7301183645732857,0.6833206960957868 Q -0.17991067700982608, -0.08736216742884786 0.08550099769182731, -0.9963380848856989L 0.08550099769182731, -0.9963380848856989 L 0.07842786548731775, -0.9969197911141614 L 0.0713507830609156, -0.9974512849039767 M 0.0713507830609156,-0.9974512849039767 Q -0.17999996845412625, -0.08717804400486148 -0.7383650859347028, 0.6744012158000896L -0.7383650859347028, 0.6744012158000896 L -0.7342552692260016, 0.678873478355026 L -0.7301183645732857, 0.6833206960957868 ",
          "type": "path"
         },
         {
          "fillcolor": "#d59171",
          "layer": "below",
          "line": {
           "color": "rgb(175,175,175)",
           "width": 0.5
          },
          "path": "M -0.7142697319964599,0.6998705237068534 Q -0.14262508049610206, -0.14020729800363604 0.6875573170751227, -0.7261301093719081L 0.6875573170751227, -0.7261301093719081 L 0.6828794847462581, -0.7305310460977583 L 0.6781734833932469, -0.7349018481554319 M 0.6781734833932469,-0.7349018481554319 Q -0.1427320055414345, -0.14009844608031852 -0.7221459711324526, 0.6917407002462461L -0.7221459711324526, 0.6917407002462461 L -0.7182193547630188, 0.6958167563689401 L -0.7142697319964599, 0.6998705237068534 ",
          "type": "path"
         },
         {
          "fillcolor": "#d59171",
          "layer": "below",
          "line": {
           "color": "rgb(175,175,175)",
           "width": 0.5
          },
          "path": "M -0.6852855034711239,0.7282745215455008 Q -0.1165955350144796, -0.1624976344895127 0.9093917822642739, -0.4159406043538038L 0.9093917822642739, -0.4159406043538038 L 0.909276321078936, -0.41619295035494747 L 0.9091607898704199, -0.41644526430515955 M 0.9091607898704199,-0.41644526430515955 Q -0.11659576602004057, -0.1624974687378236 -0.6856875300104448, 0.7278960167415228L -0.6856875300104448, 0.7278960167415228 L -0.6854865428656387, 0.7280852968918647 L -0.6852855034711239, 0.7282745215455008 ",
          "type": "path"
         },
         {
          "fillcolor": "#d59171",
          "layer": "below",
          "line": {
           "color": "rgb(175,175,175)",
           "width": 0.5
          },
          "path": "M -0.6950747067388594,0.7189375160971144 Q -0.09708122076410897, -0.17485776098003297 0.9777417445857673, -0.20981201322703136L 0.9777417445857673, -0.20981201322703136 L 0.976904149633104, -0.21367798770491542 L 0.9760512687447253, -0.21754061869410096 M 0.9760512687447253,-0.21754061869410096 Q -0.09704876560785068, -0.17487577617838457 -0.701005428821628, 0.7131559357970776L -0.701005428821628, 0.7131559357970776 L -0.6980460535626133, 0.7160528661388496 L -0.6950747067388594, 0.7189375160971144 ",
          "type": "path"
         },
         {
          "fillcolor": "#d0805f",
          "layer": "below",
          "line": {
           "color": "rgb(175,175,175)",
           "width": 0.5
          },
          "path": "M -0.8230036279116887,0.5680361154400295 Q -0.17972969116831627, 0.08773390514813337 -0.9541115674828773, 0.29945135964855274L -0.9541115674828773, 0.29945135964855274 L -0.9531917034503314, 0.30236662592530833 L -0.9522629319106113, 0.3052790666079258 M -0.9522629319106113,0.3052790666079258 Q -0.1798339732423263, 0.0875199523987432 -0.8277987991260716, 0.5610250869305523L -0.8277987991260716, 0.5610250869305523 L -0.8254086575197949, 0.5645356924866399 L -0.8230036279116887, 0.5680361154400295 ",
          "type": "path"
         },
         {
          "fillcolor": "#d0805f",
          "layer": "below",
          "line": {
           "color": "rgb(175,175,175)",
           "width": 0.5
          },
          "path": "M -0.8328701979561935,0.5534683670783823 Q -0.184772545457593, 0.07654480024875455 -0.9802720455222319, 0.19765302114478098L -0.9802720455222319, 0.19765302114478098 L -0.9794378174653566, 0.20174628055728472 L -0.9785864975240777, 0.20583601935414117 M -0.9785864975240777,0.20583601935414117 Q -0.18481267903892915, 0.07644784932523456 -0.8380381703016838, 0.5456116064724119L -0.8380381703016838, 0.5456116064724119 L -0.8354634198756731, 0.5495460618088758 L -0.8328701979561935, 0.5534683670783823 ",
          "type": "path"
         },
         {
          "fillcolor": "#d0805f",
          "layer": "below",
          "line": {
           "color": "rgb(175,175,175)",
           "width": 0.5
          },
          "path": "M -0.8071901686945347,0.5902914801713544 Q -0.18754124933290756, 0.06948582444392674 -0.9969411106715825, 0.07815639355108021L -0.9969411106715825, 0.07815639355108021 L -0.9967652922581264, 0.0803676063446705 L -0.9965845693865094, 0.08257842369956984 M -0.9965845693865094,0.08257842369956984 Q -0.18755574519700208, 0.06944668777988797 -0.8100457670903597, 0.5863666559576787L -0.8100457670903597, 0.5863666559576787 L -0.8086203491501979, 0.5883308006047381 L -0.8071901686945347, 0.5902914801713544 ",
          "type": "path"
         },
         {
          "fillcolor": "#d0805f",
          "layer": "below",
          "line": {
           "color": "rgb(175,175,175)",
           "width": 0.5
          },
          "path": "M -0.8043155539579286,0.5942023978926291 Q -0.1928643595206703, 0.0529465657685334 -0.9949621554761511, -0.10025123026801888L -0.9949621554761511, -0.10025123026801888 L -0.995185871390715, -0.098005517111555 L -0.9954045185485749, -0.09575930478590501 M -0.9954045185485749,-0.09575930478590501 Q -0.1928733596435121, 0.05291377079574314 -0.8071901686945347, 0.5902914801713544L -0.8071901686945347, 0.5902914801713544 L -0.8057552341466764, 0.5922486831097514 L -0.8043155539579286, 0.5942023978926291 ",
          "type": "path"
         },
         {
          "fillcolor": "#d0805f",
          "layer": "below",
          "line": {
           "color": "rgb(175,175,175)",
           "width": 0.5
          },
          "path": "M -0.8023282605371072,0.5968830390817784 Q -0.1969494954479235, 0.03479793446180906 -0.9582864212229619, -0.2858096130288272L -0.9582864212229619, -0.2858096130288272 L -0.9587379696266395, -0.28429123376599 L -0.9591871122005355, -0.2827721411108195 M -0.9591871122005355,-0.2827721411108195 Q -0.19695243069351348, 0.03478131745516224 -0.8043155539579286, 0.5942023978926291L -0.8043155539579286, 0.5942023978926291 L -0.8033230253908362, 0.5955435474227841 L -0.8023282605371072, 0.5968830390817784 ",
          "type": "path"
         },
         {
          "fillcolor": "#d0805f",
          "layer": "below",
          "line": {
           "color": "rgb(175,175,175)",
           "width": 0.5
          },
          "path": "M -0.8503935433223232,0.5261471481208503 Q -0.1999958679505627, -0.0012856137449053487 -0.8435591863808428, -0.5370362176543502L -0.8435591863808428, -0.5370362176543502 L -0.8479167062327686, -0.5301294740828628 L -0.8522176775986995, -0.5231873756010165 M -0.8522176775986995,-0.5231873756010165 Q -0.19999621905702544, -0.0012297816449670367 -0.8585871751588385, 0.5126675946973496L -0.8585871751588385, 0.5126675946973496 L -0.8545169387585134, 0.5194235279372499 L -0.8503935433223232, 0.5261471481208503 ",
          "type": "path"
         },
         {
          "fillcolor": "#d0805f",
          "layer": "below",
          "line": {
           "color": "rgb(175,175,175)",
           "width": 0.5
          },
          "path": "M -0.8585871751588385,0.5126675946973496 Q -0.1925732512665905, -0.05399576739536727 -0.4668853046653111, -0.8843178796606905L -0.4668853046653111, -0.8843178796606905 L -0.4770134978956791, -0.8788959681471573 L -0.4870787361140626, -0.8733580622090389 M -0.4870787361140626,-0.8733580622090389 Q -0.1926038523137074, -0.053886511057217173 -0.8695790768893925, 0.49379371101320435L -0.8695790768893925, 0.49379371101320435 L -0.8641346564922263, 0.5032606635224554 L -0.8585871751588385, 0.5126675946973496 ",
          "type": "path"
         },
         {
          "fillcolor": "#d0805f",
          "layer": "below",
          "line": {
           "color": "rgb(175,175,175)",
           "width": 0.5
          },
          "path": "M -0.7997860597555896,0.6002851477594864 Q -0.18168203206979405, -0.08361602252553235 -0.06423282238396275, -0.997934940027951L -0.06423282238396275, -0.997934940027951 L -0.06483520811369349, -0.9978959844537175 L -0.06543757021837533, -0.9978566652600539 M -0.06543757021837533,-0.9978566652600539 Q -0.18165640099119726, -0.08367169162222882 -0.8008773434857589, 0.5988284234162518L -0.8008773434857589, 0.5988284234162518 L -0.8003320330528431, 0.5995570338754296 L -0.7997860597555896, 0.6002851477594864 ",
          "type": "path"
         },
         {
          "fillcolor": "#d0805f",
          "layer": "below",
          "line": {
           "color": "rgb(175,175,175)",
           "width": 0.5
          },
          "path": "M -0.8844396250714952,0.46665463632475884 Q -0.16078839065311815, -0.1189415546862419 0.18739786549667856, -0.9822840933290576L 0.18739786549667856, -0.9822840933290576 L 0.17121249975290234, -0.9852341244234095 L 0.15498079213622443, -0.9879174834310953 M 0.15498079213622443,-0.9879174834310953 Q -0.16090498566264777, -0.11878377662333824 -0.8984534414756035, 0.43906880269570997L -0.8984534414756035, 0.43906880269570997 L -0.8915532324206344, 0.45291592350050824 L -0.8844396250714952, 0.46665463632475884 ",
          "type": "path"
         },
         {
          "fillcolor": "#d0805f",
          "layer": "below",
          "line": {
           "color": "rgb(175,175,175)",
           "width": 0.5
          },
          "path": "M -0.8434581097745655,0.5371949525596058 Q -0.126248831288443, -0.15511683531552034 0.6972769892072374, -0.7168017859367332L 0.6972769892072374, -0.7168017859367332 L 0.6924328619936118, -0.7214823155361023 L 0.6875573170751227, -0.7261301093719081 M 0.6875573170751227,-0.7261301093719081 Q -0.12628198470930102, -0.15508984601797718 -0.8503935433223232, 0.5261471481208503L -0.8503935433223232, 0.5261471481208503 L -0.8469438406237422, 0.5316823589602209 L -0.8434581097745655, 0.5371949525596058 ",
          "type": "path"
         },
         {
          "fillcolor": "#d0805f",
          "layer": "below",
          "line": {
           "color": "rgb(175,175,175)",
           "width": 0.5
          },
          "path": "M -0.8137647685323737,0.5811943749688673 Q -0.09771109567304712, -0.17450656658811622 0.9207993970709367, -0.3900364987456936L 0.9207993970709367, -0.3900364987456936 L 0.919386319175305, -0.3933558136258878 L 0.9179612757973287, -0.3966700091216132 M 0.9179612757973287,-0.3966700091216132 Q -0.0976524426978288, -0.17453939508073033 -0.8183234737627425, 0.5747579423451912L -0.8183234737627425, 0.5747579423451912 L -0.8160504669294173, 0.5779806531574218 L -0.8137647685323737, 0.5811943749688673 ",
          "type": "path"
         },
         {
          "fillcolor": "#d0805f",
          "layer": "below",
          "line": {
           "color": "rgb(175,175,175)",
           "width": 0.5
          },
          "path": "M -0.8100457670903597,0.5863666559576787 Q -0.08340727549286692, -0.1817779590458013 0.972793477389007, -0.23167401742405963L 0.972793477389007, -0.23167401742405963 L 0.9721482503442828, -0.2343667624740117 L 0.9714955696504788, -0.2370577105885646 M 0.9714955696504788,-0.2370577105885646 Q -0.08333159551697344, -0.18181266509403446 -0.8137647685323737, 0.5811943749688673L -0.8137647685323737, 0.5811943749688673 L -0.8119093865835669, 0.5837834769651297 L -0.8100457670903597, 0.5863666559576787 ",
          "type": "path"
         },
         {
          "fillcolor": "#d0805f",
          "layer": "below",
          "line": {
           "color": "rgb(175,175,175)",
           "width": 0.5
          },
          "path": "M -0.8008773434857589,0.5988284234162518 Q -0.07309900855959772, -0.18616265723179787 0.9943563502974632, -0.10609169912443103L 0.9943563502974632, -0.10609169912443103 L 0.994253052139542, -0.1070554450329605 L 0.9941488199040586, -0.10801909036539616 M 0.9941488199040586,-0.10801909036539616 Q -0.07305355152865677, -0.18618050007734402 -0.8023282605371072, 0.5968830390817784L -0.8023282605371072, 0.5968830390817784 L -0.8016033921601335, 0.5978561713969064 L -0.8008773434857589, 0.5988284234162518 ",
          "type": "path"
         },
         {
          "fillcolor": "#ca6f4c",
          "layer": "below",
          "line": {
           "color": "rgb(175,175,175)",
           "width": 0.5
          },
          "path": "M -0.9452281296129709,0.326410451714348 Q -0.19184858068898628, 0.05651656471886382 -0.9712266963811027, 0.2381568899625818L -0.9712266963811027, 0.2381568899625818 L -0.9709693892499499, 0.239203773255313 L -0.9707109536857598, 0.2402503785522151 M -0.9707109536857598,0.2402503785522151 Q -0.19183701186879937, 0.056555820896262654 -0.9457968700223637, 0.3247588038158476L -0.9457968700223637, 0.3247588038158476 L -0.9455128604607393, 0.3255847519515471 L -0.9452281296129709, 0.326410451714348 ",
          "type": "path"
         },
         {
          "fillcolor": "#ca6f4c",
          "layer": "below",
          "line": {
           "color": "rgb(175,175,175)",
           "width": 0.5
          },
          "path": "M -0.944656504928382,0.32806110360189555 Q -0.1955545777461375, 0.04193336526597727 -0.996111311097922, 0.0881036656602826L -0.996111311097922, 0.0881036656602826 L -0.996074581659145, 0.08851795169658676 L -0.9960376799174231, 0.08893222242088111 M -0.9960376799174231,0.08893222242088111 Q -0.19555087087748646, 0.04195064837468697 -0.9448712020755748, 0.3274422261838846L -0.9448712020755748, 0.3274422261838846 L -0.9447639041772407, 0.32775168247284053 L -0.944656504928382, 0.32806110360189555 ",
          "type": "path"
         },
         {
          "fillcolor": "#ca6f4c",
          "layer": "below",
          "line": {
           "color": "rgb(175,175,175)",
           "width": 0.5
          },
          "path": "M -0.9492860433144837,0.31441375282950346 Q -0.19999065771314828, 0.001933087546484821 -0.9551862865999471, -0.29600533422795555L -0.9551862865999471, -0.29600533422795555 L -0.9560770938108817, -0.293115319780694 L -0.956959157007469, -0.2902226245824991 M -0.956959157007469,-0.2902226245824991 Q -0.19998919019660719, 0.0020793759893982518 -0.9507177783964423, 0.3100575847176346L -0.9507177783964423, 0.3100575847176346 L -0.9500044077156621, 0.3122364894127753 L -0.9492860433144837, 0.31441375282950346 ",
          "type": "path"
         },
         {
          "fillcolor": "#ca6f4c",
          "layer": "below",
          "line": {
           "color": "rgb(175,175,175)",
           "width": 0.5
          },
          "path": "M -0.9465037368790863,0.32269285098050343 Q -0.19928697808613333, -0.0168730662683764 -0.8787761740301304, -0.47723415212761755L -0.8787761740301304, -0.47723415212761755 L -0.8795245755814908, -0.4758534658360687 L -0.8802708078738618, -0.4744716058997616 M -0.8802708078738618,-0.4744716058997616 Q -0.19929503256169384, -0.01677766361068772 -0.9472060909745913, 0.3206253596031267L -0.9472060909745913, 0.3206253596031267 L -0.9468554782317891, 0.3216592969936513 L -0.9465037368790863, 0.32269285098050343 ",
          "type": "path"
         },
         {
          "fillcolor": "#ca6f4c",
          "layer": "below",
          "line": {
           "color": "rgb(175,175,175)",
           "width": 0.5
          },
          "path": "M -0.9472060909745913,0.3206253596031267 Q -0.19054004271199626, -0.0607823339738665 -0.5865681935498718, -0.8098998421506453L -0.5865681935498718, -0.8098998421506453 L -0.5882468728306275, -0.8086814061204743 L -0.5899230211495131, -0.807459490697726 M -0.5899230211495131,-0.807459490697726 Q -0.1905798119500649, -0.06065752448854057 -0.9481123992164469, 0.3179353369036429L -0.9481123992164469, 0.3179353369036429 L -0.9476601995813373, 0.31928066983370607 L -0.9472060909745913, 0.3206253596031267 ",
          "type": "path"
         },
         {
          "fillcolor": "#ca6f4c",
          "layer": "below",
          "line": {
           "color": "rgb(175,175,175)",
           "width": 0.5
          },
          "path": "M -0.9481123992164469,0.3179353369036429 Q -0.16505172467711227, -0.11295099902661657 -0.04695533992128387, -0.998896989710589L -0.04695533992128387, -0.998896989710589 L -0.04866370865771396, -0.9988152198778697 L -0.05037193504257554, -0.9987305283008358 M -0.05037193504257554,-0.9987305283008358 Q -0.16503526825373535, -0.11297504252009652 -0.9492860433144837, 0.31441375282950346L -0.9492860433144837, 0.31441375282950346 L -0.9487008552848986, 0.3161750894389087 L -0.9481123992164469, 0.3179353369036429 ",
          "type": "path"
         },
         {
          "fillcolor": "#ca6f4c",
          "layer": "below",
          "line": {
           "color": "rgb(175,175,175)",
           "width": 0.5
          },
          "path": "M -0.9571344233156026,0.28964408453187646 Q -0.15276251218774584, -0.1290876247751457 0.12591699180467977, -0.9920407810039162L 0.12591699180467977, -0.9920407810039162 L 0.11454811153635908, -0.9934177017465784 L 0.10316420858684455, -0.9946643383909217 M 0.10316420858684455,-0.9946643383909217 Q -0.15323915040718772, -0.1285214487254299 -0.9615096041799264, 0.2747713250500521L -0.9615096041799264, 0.2747713250500521 L -0.9593508356199608, 0.2822161834397222 L -0.9571344233156026, 0.28964408453187646 ",
          "type": "path"
         },
         {
          "fillcolor": "#ca6f4c",
          "layer": "below",
          "line": {
           "color": "rgb(175,175,175)",
           "width": 0.5
          },
          "path": "M -0.9442977756041866,0.3290922530066383 Q -0.11277549432279765, -0.16517169212746063 0.6503094060057867, -0.7596694521042694L 0.6503094060057867, -0.7596694521042694 L 0.6500713694575355, -0.7598731569226567 L 0.6498332691001956, -0.7600767871541354 M 0.6498332691001956,-0.7600767871541354 Q -0.11279117633628495, -0.1651609837118836 -0.9444414024251877, 0.32867984024753416L -0.9444414024251877, 0.32867984024753416 L -0.9443696115276264, 0.32888605446743996 L -0.9442977756041866, 0.3290922530066383 ",
          "type": "path"
         },
         {
          "fillcolor": "#ca6f4c",
          "layer": "below",
          "line": {
           "color": "rgb(175,175,175)",
           "width": 0.5
          },
          "path": "M -0.9448712020755748,0.3274422261838846 Q -0.0742167931565541, -0.18571986327142628 0.9103129498466982, -0.41392068484360955L 0.9103129498466982, -0.41392068484360955 L 0.9100255667222481, -0.4145521293056533 L 0.9097377455923289, -0.41518337423912716 M 0.9097377455923289,-0.41518337423912716 Q -0.07424425702034099, -0.1857088858926722 -0.9452281296129709, 0.326410451714348L -0.9452281296129709, 0.326410451714348 L -0.9450498066514857, 0.32692638765934656 L -0.9448712020755748, 0.3274422261838846 ",
          "type": "path"
         },
         {
          "fillcolor": "#ca6f4c",
          "layer": "below",
          "line": {
           "color": "rgb(175,175,175)",
           "width": 0.5
          },
          "path": "M -0.9442258946582932,0.32929843585529806 Q -0.05811586141260353, -0.19137018224444233 0.9678889312464753, -0.2513782344805446L 0.9678889312464753, -0.2513782344805446 L 0.9678557771676902, -0.251505854013632 L 0.9678226062618244, -0.2516334691740542 M 0.9678226062618244,-0.2516334691740542 Q -0.0581202014844888, -0.1913688641848575 -0.9442977756041866, 0.3290922530066383L -0.9442977756041866, 0.3290922530066383 L -0.9442618407588325, 0.3291953463928997 L -0.9442258946582932, 0.32929843585529806 ",
          "type": "path"
         },
         {
          "fillcolor": "#ca6f4c",
          "layer": "below",
          "line": {
           "color": "rgb(175,175,175)",
           "width": 0.5
          },
          "path": "M -0.9441539686933733,0.3295046030035888 Q -0.04429705031635063, -0.19503274425919026 0.9938573657216395, -0.11066858904333858L 0.9938573657216395, -0.11066858904333858 L 0.9938439500132289, -0.11078900226151783 L 0.9938305197158607, -0.11090941385338852 M 0.9938305197158607,-0.11090941385338852 Q -0.04429938710323743, -0.19503221349889233 -0.9442258946582932, 0.32929843585529806L -0.9442258946582932, 0.32929843585529806 L -0.9441899373029972, 0.32940152139260415 L -0.9441539686933733, 0.3295046030035888 ",
          "type": "path"
         },
         {
          "fillcolor": "#c45e3a",
          "layer": "below",
          "line": {
           "color": "rgb(175,175,175)",
           "width": 0.5
          },
          "path": "M -0.969863248500359,0.24364991116011275 Q -0.19938636711868607, 0.015654922778875324 -0.9960048845978501, -0.08929876738915961L -0.9960048845978501, -0.08929876738915961 L -0.9960801024269232, -0.08845580562727352 L -0.9961546068213388, -0.0876127805096023 M -0.9961546068213388,-0.0876127805096023 Q -0.19938577552580936, 0.015662455681392164 -0.9702559770605562, 0.24208126523600573L -0.9702559770605562, 0.24208126523600573 L -0.9700599298549963, 0.2428656675813189 L -0.969863248500359, 0.24364991116011275 ",
          "type": "path"
         },
         {
          "fillcolor": "#c45e3a",
          "layer": "below",
          "line": {
           "color": "rgb(175,175,175)",
           "width": 0.5
          },
          "path": "M -0.9802720455222319,0.19765302114478098 Q -0.19965561371602425, -0.011731833261588717 -0.9503776195128883, -0.31109866654972285L -0.9503776195128883, -0.31109866654972285 L -0.9517569764108551, -0.3068528276768311 L -0.9531173650081531, -0.30260087329668256 M -0.9531173650081531,-0.30260087329668256 Q -0.1996589710530271, -0.011674556867243346 -0.9818891680498065, 0.1894562262541371L -0.9818891680498065, 0.1894562262541371 L -0.9810891671368324, 0.1935563125469086 L -0.9802720455222319, 0.19765302114478098 ",
          "type": "path"
         },
         {
          "fillcolor": "#c45e3a",
          "layer": "below",
          "line": {
           "color": "rgb(175,175,175)",
           "width": 0.5
          },
          "path": "M -0.9720551477114849,0.2347526140591476 Q -0.19809524390866104, -0.027536781597857475 -0.871173258003215, -0.4909757168537603L -0.871173258003215, -0.4909757168537603 L -0.8728644009215892, -0.48796284449104843 L -0.8745451241396738, -0.48494414713812417 M -0.8745451241396738,-0.48494414713812417 Q -0.19810872519445621, -0.027439624666300295 -0.9734299537375896, 0.22898498895437272L -0.9734299537375896, 0.22898498895437272 L -0.9727468254201174, 0.23186982044906942 L -0.9720551477114849, 0.2347526140591476 ",
          "type": "path"
         },
         {
          "fillcolor": "#c45e3a",
          "layer": "below",
          "line": {
           "color": "rgb(175,175,175)",
           "width": 0.5
          },
          "path": "M -0.9818891680498065,0.1894562262541371 Q -0.18411403552175962, -0.07811543972795805 -0.5460743242574655, -0.8377367321460558L -0.5460743242574655, -0.8377367321460558 L -0.550477776197778, -0.8348498175793949 L -0.5548659663263175, -0.831939757081462 M -0.5548659663263175,-0.831939757081462 Q -0.18417791210087345, -0.07796471441724735 -0.9835353047491335, 0.1807160875849987L -0.9835353047491335, 0.1807160875849987 L -0.9827219530850203, 0.18508798698122775 L -0.9818891680498065, 0.1894562262541371 ",
          "type": "path"
         },
         {
          "fillcolor": "#c45e3a",
          "layer": "below",
          "line": {
           "color": "rgb(175,175,175)",
           "width": 0.5
          },
          "path": "M -0.9697317753557013,0.2441726517558417 Q -0.1617562933087557, -0.11762185840655554 -0.06664222267463152, -0.9977769360718781L -0.06664222267463152, -0.9977769360718781 L -0.06684298868784112, -0.9977635064800061 L -0.0670437519947564, -0.9977500364913376 M -0.0670437519947564,-0.9977500364913376 Q -0.16174825988877906, -0.11763290535794818 -0.969863248500359, 0.24364991116011275L -0.969863248500359, 0.24364991116011275 L -0.969797547149007, 0.24391129031631442 L -0.9697317753557013, 0.2441726517558417 ",
          "type": "path"
         },
         {
          "fillcolor": "#c45e3a",
          "layer": "below",
          "line": {
           "color": "rgb(175,175,175)",
           "width": 0.5
          },
          "path": "M -0.9768902826630351,0.21374137558866632 Q -0.1529249712958774, -0.12889512463299407 0.04526602664252103, -0.9989749680707714L 0.04526602664252103, -0.9989749680707714 L 0.040431593500385984, -0.999182308814072 L 0.03559621366324524, -0.9993662539694046 M 0.03559621366324524,-0.9993662539694046 Q -0.15302755291385195, -0.12877332040915246 -0.9785864975240777, 0.20583601935414117L -0.9785864975240777, 0.20583601935414117 L -0.9777463797565492, 0.20979041177556657 L -0.9768902826630351, 0.21374137558866632 ",
          "type": "path"
         },
         {
          "fillcolor": "#c45e3a",
          "layer": "below",
          "line": {
           "color": "rgb(175,175,175)",
           "width": 0.5
          },
          "path": "M -0.9835353047491335,0.1807160875849987 Q -0.09651953409498776, -0.1751684319107941 0.6781734833932469, -0.7349018481554319L 0.6781734833932469, -0.7349018481554319 L 0.6742497189502737, -0.7385034302530198 L 0.6703068278490832, -0.7420840629867343 M 0.6703068278490832,-0.7420840629867343 Q -0.09664990824088016, -0.1750965311964502 -0.9851499536495365, 0.17169615261943422L -0.9851499536495365, 0.17169615261943422 L -0.9843529608152533, 0.17620796955371953 L -0.9835353047491335, 0.1807160875849987 ",
          "type": "path"
         },
         {
          "fillcolor": "#c45e3a",
          "layer": "below",
          "line": {
           "color": "rgb(175,175,175)",
           "width": 0.5
          },
          "path": "M -0.9696659331252194,0.24443399545970995 Q -0.06641667198568643, -0.18865000843452337 0.9089295174194467, -0.4169497959750689L 0.9089295174194467, -0.4169497959750689 L 0.908871655556125, -0.41707590883035706 L 0.9088137761948, -0.41720201365591236 M 0.9088137761948,-0.41720201365591236 Q -0.06641742622763071, -0.18864974289221081 -0.9697317753557013, 0.2441726517558417L -0.9697317753557013, 0.2441726517558417 L -0.9696988630448087, 0.24430332582591946 L -0.9696659331252194, 0.24443399545970995 ",
          "type": "path"
         },
         {
          "fillcolor": "#c45e3a",
          "layer": "below",
          "line": {
           "color": "rgb(175,175,175)",
           "width": 0.5
          },
          "path": "M -0.9751302067238102,0.22163275916429667 Q -0.04391743437119273, -0.19511857666109597 0.9760512687447253, -0.21754061869410096L 0.9760512687447253, -0.21754061869410096 L 0.9751831152659346, -0.2213998457547495 L 0.974299702781011, -0.22525560850028495 M 0.974299702781011,-0.22525560850028495 Q -0.04390046277014853, -0.19512239586620192 -0.9768902826630351, 0.21374137558866632L -0.9768902826630351, 0.21374137558866632 L -0.9760182202347449, 0.2176888462227701 L -0.9751302067238102, 0.22163275916429667 ",
          "type": "path"
         },
         {
          "fillcolor": "#c45e3a",
          "layer": "below",
          "line": {
           "color": "rgb(175,175,175)",
           "width": 0.5
          },
          "path": "M -0.9712266963811027,0.2381568899625818 Q -0.03397724834164712, -0.19709273602832256 0.9949077892369793, -0.10078933929531574L 0.9949077892369793, -0.10078933929531574 L 0.9947478062215322, -0.10235625050503273 L 0.9945853554304509, -0.10392290778882055 M 0.9945853554304509,-0.10392290778882055 Q -0.03394240995551935, -0.197098738723543 -0.9720551477114849, 0.2347526140591476L -0.9720551477114849, 0.2347526140591476 L -0.9716424129630091, 0.2364551148345519 L -0.9712266963811027, 0.2381568899625818 ",
          "type": "path"
         },
         {
          "fillcolor": "#bf4d28",
          "layer": "below",
          "line": {
           "color": "rgb(175,175,175)",
           "width": 0.5
          },
          "path": "M -0.9999993341344291,0.0011540063684340085 Q -0.19890303091051176, -0.020918515592938586 -0.9778800570175072, -0.20916642676929964L -0.9778800570175072, -0.20916642676929964 L -0.9805673334170867, -0.19618283471115383 L -0.9830822308673851, -0.18316475466859125 M -0.9830822308673851,-0.18316475466859125 Q -0.19890777415713834, -0.020873365321692795 -0.9996897682084797, -0.024907174453885243L -0.9996897682084797, -0.024907174453885243 L -0.9999294589088324, -0.011877592613385815 L -0.9999993341344291, 0.0011540063684340085 ",
          "type": "path"
         },
         {
          "fillcolor": "#bf4d28",
          "layer": "below",
          "line": {
           "color": "rgb(175,175,175)",
           "width": 0.5
          },
          "path": "M -0.996111311097922,0.0881036656602826 Q -0.19910257107591406, -0.01892527915145753 -0.9616735947677623, -0.274196821875181L -0.9616735947677623, -0.274196821875181 L -0.9618707795997032, -0.273504302255484 L -0.9620674657350395, -0.2728116408333019 M -0.9620674657350395,-0.2728116408333019 Q -0.19910307934314958, -0.018919931185802194 -0.996232498069001, 0.08672260253934824L -0.996232498069001, 0.08672260253934824 L -0.9961721439165407, 0.08741315510106476 L -0.996111311097922, 0.0881036656602826 ",
          "type": "path"
         },
         {
          "fillcolor": "#bf4d28",
          "layer": "below",
          "line": {
           "color": "rgb(175,175,175)",
           "width": 0.5
          },
          "path": "M -0.9963753949039221,0.0850651070066526 Q -0.19582855520813072, -0.0406346768794351 -0.8802708078738618, -0.4744716058997616L -0.8802708078738618, -0.4744716058997616 L -0.8809405606992705, -0.4732269313076496 L -0.8816085535959977, -0.47198131131049337 M -0.8816085535959977,-0.47198131131049337 Q -0.19583528555684787, -0.0406022281515172 -0.9965845693865094, 0.08257842369956984L -0.9965845693865094, 0.08257842369956984 L -0.9964807578245538, 0.0838218306015983 L -0.9963753949039221, 0.0850651070066526 ",
          "type": "path"
         },
         {
          "fillcolor": "#bf4d28",
          "layer": "below",
          "line": {
           "color": "rgb(175,175,175)",
           "width": 0.5
          },
          "path": "M -0.9990865669511294,0.04273209259802881 Q -0.1783204789221119, -0.09056382719932196 -0.5548659663263175, -0.831939757081462L -0.5548659663263175, -0.831939757081462 L -0.5591064908797468, -0.8290958520316789 L -0.5633324396139446, -0.8262303325820236 M -0.5633324396139446,-0.8262303325820236 Q -0.1783810700874368, -0.09044442400978049 -0.999426387139822, 0.033865863175807906L -0.999426387139822, 0.033865863175807906 L -0.9992663105615925, 0.0382993547807639 L -0.9990865669511294, 0.04273209259802881 ",
          "type": "path"
         },
         {
          "fillcolor": "#bf4d28",
          "layer": "below",
          "line": {
           "color": "rgb(175,175,175)",
           "width": 0.5
          },
          "path": "M -0.9958126514648006,0.09141752120159184 Q -0.1520779499570622, -0.1298934068259713 -0.06543757021837533, -0.9978566652600539L -0.06543757021837533, -0.9978566652600539 L -0.06573874234273167, -0.9978368693104078 L -0.06603990847851592, -0.9978169824612875 M -0.06603990847851592,-0.9978169824612875 Q -0.15206312955821386, -0.12991075640208502 -0.9958883500491996, 0.09058915076477317L -0.9958883500491996, 0.09058915076477317 L -0.9958505868890991, 0.09100334385415143 L -0.9958126514648006, 0.09141752120159184 ",
          "type": "path"
         },
         {
          "fillcolor": "#bf4d28",
          "layer": "below",
          "line": {
           "color": "rgb(175,175,175)",
           "width": 0.5
          },
          "path": "M -0.998253850748576,0.05906986935519435 Q -0.14307329427245036, -0.13974989254389011 0.03559621366324524, -0.9993662539694046L 0.03559621366324524, -0.9993662539694046 L 0.031082438231190026, -0.9995168242874175 L 0.026568028815612287, -0.9996470076206164 M 0.026568028815612287,-0.9996470076206164 Q -0.14316193031728305, -0.13965909103180285 -0.998682360722506, 0.05131805122685783L -0.998682360722506, 0.05131805122685783 L -0.9984756285669637, 0.05519437614292605 L -0.998253850748576, 0.05906986935519435 ",
          "type": "path"
         },
         {
          "fillcolor": "#bf4d28",
          "layer": "below",
          "line": {
           "color": "rgb(175,175,175)",
           "width": 0.5
          },
          "path": "M -0.9996897682084797,-0.024907174453885243 Q -0.060936615776508975, -0.1904907579325205 0.7996278574823908, -0.6004958697094603L 0.7996278574823908, -0.6004958697094603 L 0.7902193659164505, -0.6128240805733755 L 0.780620823039666, -0.6250049044902564 M 0.780620823039666,-0.6250049044902564 Q -0.061276220727969004, -0.19038178687389512 -0.9986295347545739, -0.052335956242942676L -0.9986295347545739, -0.052335956242942676 L -0.9992537684023484, -0.03862520334840976 L -0.9996897682084797, -0.024907174453885243 ",
          "type": "path"
         },
         {
          "fillcolor": "#bf4d28",
          "layer": "below",
          "line": {
           "color": "rgb(175,175,175)",
           "width": 0.5
          },
          "path": "M -0.996232498069001,0.08672260253934824 Q -0.050312956906268386, -0.1935680923276044 0.9123691659289906, -0.40936842216032987L 0.9123691659289906, -0.40936842216032987 L 0.9120280427473505, -0.410127844997675 L 0.9116862874499541, -0.41088698358030246 M 0.9116862874499541,-0.41088698358030246 Q -0.050313091842871416, -0.19356805725431764 -0.9963753949039221, 0.0850651070066526L -0.9963753949039221, 0.0850651070066526 L -0.9963042911718077, 0.0858938844891861 L -0.996232498069001, 0.08672260253934824 ",
          "type": "path"
         },
         {
          "fillcolor": "#bf4d28",
          "layer": "below",
          "line": {
           "color": "rgb(175,175,175)",
           "width": 0.5
          },
          "path": "M -0.9998367831633913,0.01806673831884227 Q -0.01785796554446043, -0.19920113721214763 0.98710750388468, -0.1600586635410791L 0.98710750388468, -0.1600586635410791 L 0.9857882044874043, -0.16799290429509062 L 0.9844051317626973, -0.17591627712996505 M 0.9844051317626973,-0.17591627712996505 Q -0.017775563126329993, -0.19920850723686945 -0.9999993341344291, 0.0011540063684340085L -0.9999993341344291, 0.0011540063684340085 L -0.9999538160023752, 0.009610716013279716 L -0.9998367831633913, 0.01806673831884227 ",
          "type": "path"
         },
         {
          "fillcolor": "#bf4d28",
          "layer": "below",
          "line": {
           "color": "rgb(175,175,175)",
           "width": 0.5
          },
          "path": "M -0.998682360722506,0.05131805122685783 Q -0.012532208116587396, -0.1996069732241901 0.9972585425273058, -0.07399594148542082L 0.9972585425273058, -0.07399594148542082 L 0.996973587301499, -0.07774102020928482 L 0.9966745679546049, -0.08148500225502743 M 0.9966745679546049,-0.08148500225502743 Q -0.012424051027298834, -0.19961373438736896 -0.9990865669511294, 0.04273209259802881L -0.9990865669511294, 0.04273209259802881 L -0.9988936889208785, 0.047025506207156134 L -0.998682360722506, 0.05131805122685783 ",
          "type": "path"
         },
         {
          "fillcolor": "#af4624",
          "layer": "below",
          "line": {
           "color": "rgb(175,175,175)",
           "width": 0.5
          },
          "path": "M -0.9960048845978501,-0.08929876738915961 Q -0.19655974017998495, -0.03693600601549682 -0.9604800188905875, -0.2783489416396918L -0.9604800188905875, -0.2783489416396918 L -0.9608000595881333, -0.277242214490217 L -0.9611188250435928, -0.27613511936518265 M -0.9611188250435928,-0.27613511936518265 Q -0.19656061395333835, -0.03693135581435772 -0.9958008162288805, -0.09154635109000997L -0.9958008162288805, -0.09154635109000997 L -0.9959034844650303, -0.09042261680802577 L -0.9960048845978501, -0.08929876738915961 ",
          "type": "path"
         },
         {
          "fillcolor": "#af4624",
          "layer": "below",
          "line": {
           "color": "rgb(175,175,175)",
           "width": 0.5
          },
          "path": "M -0.9958008162288805,-0.09154635109000997 Q -0.19112707193353445, -0.0589104606510045 -0.8745451241396738, -0.48494414713812417L -0.8745451241396738, -0.48494414713812417 L -0.8756850873950189, -0.4828826231228228 L -0.876820191125739, -0.4808184193999048 M -0.876820191125739,-0.4808184193999048 Q -0.19114120134765256, -0.05886460012075289 -0.9954045185485749, -0.09575930478590501L -0.9954045185485749, -0.09575930478590501 L -0.9956048958076996, -0.09365303755746296 L -0.9958008162288805, -0.09154635109000997 ",
          "type": "path"
         },
         {
          "fillcolor": "#af4624",
          "layer": "below",
          "line": {
           "color": "rgb(175,175,175)",
           "width": 0.5
          },
          "path": "M -0.9922724508320732,-0.12407813393064489 Q -0.17067291188851652, -0.10426292316780056 -0.5633324396139446, -0.8262303325820236L -0.5633324396139446, -0.8262303325820236 L -0.5675437023590847, -0.8233432734361426 L -0.5717401693282025, -0.8204347498592185 M -0.5717401693282025,-0.8204347498592185 Q -0.17073462756945254, -0.10416183057492961 -0.9911119422802095, -0.13303051480600483L -0.9911119422802095, -0.13303051480600483 L -0.9917022985710877, -0.12855563390540772 L -0.9922724508320732, -0.12407813393064489 ",
          "type": "path"
         },
         {
          "fillcolor": "#af4624",
          "layer": "below",
          "line": {
           "color": "rgb(175,175,175)",
           "width": 0.5
          },
          "path": "M -0.9964928592495045,-0.08367784333231415 Q -0.14016512576897389, -0.14266652556983273 -0.06603990847851592, -0.9978169824612875L -0.06603990847851592, -0.9978169824612875 L -0.06634106859829378, -0.9977970047145043 L -0.06664222267463152, -0.9977769360718781 M -0.06664222267463152,-0.9977769360718781 Q -0.14014781451106134, -0.14268353124230262 -0.9964216849141452, -0.0845211561258841L -0.9964216849141452, -0.0845211561258841 L -0.996457361294937, -0.08409950725855227 L -0.9964928592495045, -0.08367784333231415 ",
          "type": "path"
         },
         {
          "fillcolor": "#af4624",
          "layer": "below",
          "line": {
           "color": "rgb(175,175,175)",
           "width": 0.5
          },
          "path": "M -0.9931228387423974,-0.11707701383381064 Q -0.13088766154704753, -0.1512230804300241 0.026568028815612287, -0.9996470076206164L 0.026568028815612287, -0.9996470076206164 L 0.022536845421400456, -0.9997460130445391 L 0.018505295572636457, -0.9998287623567195 M 0.018505295572636457,-0.9998287623567195 Q -0.1309641796771438, -0.1511568180450118 -0.9922724508320732, -0.12407813393064489L -0.9922724508320732, -0.12407813393064489 L -0.992703816798735, -0.12057832356283446 L -0.9931228387423974, -0.11707701383381064 ",
          "type": "path"
         },
         {
          "fillcolor": "#af4624",
          "layer": "below",
          "line": {
           "color": "rgb(175,175,175)",
           "width": 0.5
          },
          "path": "M -0.9778800570175072,-0.20916642676929964 Q -0.03627666754755493, -0.19668249386166572 0.8389157445965616, -0.5442613099127998L 0.8389157445965616, -0.5442613099127998 L 0.8290630135684983, -0.5591551837662958 L 0.8189458912056841, -0.573870740914126 M 0.8189458912056841,-0.573870740914126 Q -0.03662635197779413, -0.1966176755553751 -0.9706488177895476, -0.24050129422469566L -0.9706488177895476, -0.24050129422469566 L -0.974390405571003, -0.22486293054031026 L -0.9778800570175072, -0.20916642676929964 ",
          "type": "path"
         },
         {
          "fillcolor": "#af4624",
          "layer": "below",
          "line": {
           "color": "rgb(175,175,175)",
           "width": 0.5
          },
          "path": "M -0.9963014750932557,-0.08592654262218843 Q -0.03357960961172767, -0.19716087293964787 0.9116862874499541, -0.41088698358030246L 0.9116862874499541, -0.41088698358030246 L 0.9113439002736673, -0.4116458373820631 L 0.9110008814557944, -0.4124044058770052 M 0.9110008814557944,-0.4124044058770052 Q -0.033576890393904844, -0.19716133604608108 -0.9961546068213388, -0.0876127805096023L -0.9961546068213388, -0.0876127805096023 L -0.9962283977277337, -0.0867696926399557 L -0.9963014750932557, -0.08592654262218843 ",
          "type": "path"
         },
         {
          "fillcolor": "#af4624",
          "layer": "below",
          "line": {
           "color": "rgb(175,175,175)",
           "width": 0.5
          },
          "path": "M -0.9882488061856036,-0.15285384219158282 Q -0.0037619276542746106, -0.19996461662085122 0.9818002827616354, -0.18991630990826636L 0.9818002827616354, -0.18991630990826636 L 0.9806303187050928, -0.19586775650001262 L 0.9794242786982704, -0.20181199740444727 M 0.9794242786982704,-0.20181199740444727 Q -0.003677338310890824, -0.19996619009959474 -0.9861821052591629, -0.16566488845438923L -0.9861821052591629, -0.16566488845438923 L -0.9872362365430778, -0.15926271772219688 L -0.9882488061856036, -0.15285384219158282 ",
          "type": "path"
         },
         {
          "fillcolor": "#af4624",
          "layer": "below",
          "line": {
           "color": "rgb(175,175,175)",
           "width": 0.5
          },
          "path": "M -0.9897501591397696,-0.14280974225451404 Q 0.007793969679511172, -0.1998480773903889 0.9978660858955862, -0.06529375635864847L 0.9978660858955862, -0.06529375635864847 L 0.9975718033010912, -0.06964551140317024 L 0.9972585425273058, -0.07399594148542082 M 0.9972585425273058,-0.07399594148542082 Q 0.007937092573940345, -0.19984244434422008 -0.9882488061856036, -0.15285384219158282L -0.9882488061856036, -0.15285384219158282 L -0.9890122333383689, -0.14783369814440755 L -0.9897501591397696, -0.14280974225451404 ",
          "type": "path"
         },
         {
          "fillcolor": "#9f4021",
          "layer": "below",
          "line": {
           "color": "rgb(175,175,175)",
           "width": 0.5
          },
          "path": "M -0.9342180013697007,-0.35670257346534795 Q -0.17662767619349262, -0.09382251330297399 -0.8185951974674472, -0.5743708755527486L -0.8185951974674472, -0.5743708755527486 L -0.8266314892655952, -0.5627436192037579 L -0.8345026406950928, -0.5510039407054333 M -0.8345026406950928,-0.5510039407054333 Q -0.17673765363265392, -0.09361517926289548 -0.9246588763174934, -0.3807964842895354L -0.9246588763174934, -0.3807964842895354 L -0.9295165091243532, -0.36878050282692026 L -0.9342180013697007, -0.35670257346534795 ",
          "type": "path"
         },
         {
          "fillcolor": "#9f4021",
          "layer": "below",
          "line": {
           "color": "rgb(175,175,175)",
           "width": 0.5
          },
          "path": "M -0.9403404440090325,-0.3402349913822733 Q -0.15378975095943526, -0.12786208390228468 -0.5061896342378488, -0.8624222018188962L -0.5061896342378488, -0.8624222018188962 L -0.5145595354735705, -0.8574546544588952 L -0.5228806915719411, -0.8524058788988076 M -0.5228806915719411,-0.8524058788988076 Q -0.1539109602331783, -0.1277161552823331 -0.9342180013697007, -0.35670257346534795L -0.9342180013697007, -0.35670257346534795 L -0.9373153880098731, -0.34848222824112696 L -0.9403404440090325, -0.3402349913822733 ",
          "type": "path"
         },
         {
          "fillcolor": "#9f4021",
          "layer": "below",
          "line": {
           "color": "rgb(175,175,175)",
           "width": 0.5
          },
          "path": "M -0.9604800188905875,-0.2783489416396918 Q -0.12499364890662575, -0.15613003469226278 -0.06142138305267048, -0.9981119244372832L -0.06142138305267048, -0.9981119244372832 L -0.06222470214452211, -0.9980621656204716 L -0.06302798092736706, -0.9980117602614809 M -0.06302798092736706,-0.9980117602614809 Q -0.12493943086268895, -0.15617342480623064 -0.9598361134700528, -0.2805612861367438L -0.9598361134700528, -0.2805612861367438 L -0.9601587033757365, -0.2794552993446797 L -0.9604800188905875, -0.2783489416396918 ",
          "type": "path"
         },
         {
          "fillcolor": "#9f4021",
          "layer": "below",
          "line": {
           "color": "rgb(175,175,175)",
           "width": 0.5
          },
          "path": "M -0.9117779657393217,-0.41068350489429734 Q -0.08270322721067949, -0.1820993580684422 0.2907090544530097, -0.956811499543686L 0.2907090544530097, -0.956811499543686 L 0.2730672890816155, -0.9619949353471761 L 0.25533319968923274, -0.9668531207667783 M 0.25533319968923274,-0.9668531207667783 Q -0.08306193284711703, -0.1819360198303267 -0.8978045395707422, -0.4403941515576331L -0.8978045395707422, -0.4403941515576331 L -0.9049131955675916, -0.42559618006703226 L -0.9117779657393217, -0.41068350489429734 ",
          "type": "path"
         },
         {
          "fillcolor": "#9f4021",
          "layer": "below",
          "line": {
           "color": "rgb(175,175,175)",
           "width": 0.5
          },
          "path": "M -0.9551862865999471,-0.29600533422795555 Q -0.05383429541923699, -0.19261845352072143 0.6633024689885355, -0.7483514111924376L 0.6633024689885355, -0.7483514111924376 L 0.6604842835700768, -0.7508398705162921 L 0.6576567624712178, -0.7533177170197687 M 0.6576567624712178,-0.7533177170197687 Q -0.053892730573537356, -0.19260211211543896 -0.9531173650081531, -0.30260087329668256L -0.9531173650081531, -0.30260087329668256 L -0.9541575247143965, -0.2993048914249411 L -0.9551862865999471, -0.29600533422795555 ",
          "type": "path"
         },
         {
          "fillcolor": "#9f4021",
          "layer": "below",
          "line": {
           "color": "rgb(175,175,175)",
           "width": 0.5
          },
          "path": "M -0.9626155329810246,-0.27087143751908926 Q -0.015369448747112675, -0.19940857565613843 0.9097377455923289, -0.41518337423912716L 0.9097377455923289, -0.41518337423912716 L 0.9095648427293723, -0.41556202529910274 L 0.9093917822642739, -0.4159406043538038 M 0.9093917822642739,-0.4159406043538038 Q -0.015366304542288923, -0.19940881797130647 -0.9623811260082075, -0.27170308850503483L -0.9623811260082075, -0.27170308850503483 L -0.962498419318581, -0.27128728832961 L -0.9626155329810246, -0.27087143751908926 ",
          "type": "path"
         },
         {
          "fillcolor": "#9f4021",
          "layer": "below",
          "line": {
           "color": "rgb(175,175,175)",
           "width": 0.5
          },
          "path": "M -0.9623811260082075,-0.27170308850503483 Q 0.002448593764968821, -0.19998501040971586 0.9687450291072219, -0.24805859908507027L 0.9687450291072219, -0.24805859908507027 L 0.9686140625647788, -0.24856950295994665 L 0.9684828265781141, -0.2490803376890004 M 0.9684828265781141,-0.2490803376890004 Q 0.002458315691024136, -0.199984891139214 -0.9620674657350395, -0.2728116408333019L -0.9620674657350395, -0.2728116408333019 L -0.9622244555132174, -0.27225740983909374 L -0.9623811260082075, -0.27170308850503483 ",
          "type": "path"
         },
         {
          "fillcolor": "#9f4021",
          "layer": "below",
          "line": {
           "color": "rgb(175,175,175)",
           "width": 0.5
          },
          "path": "M -0.9582864212229619,-0.2858096130288272 Q 0.01924691484029582, -0.19907173648996587 0.9952910774818963, -0.09693126990257601L 0.9952910774818963, -0.09693126990257601 L 0.9951013031079469, -0.09886049035315389 L 0.9949077892369793, -0.10078933929531574 M 0.9949077892369793,-0.10078933929531574 Q 0.01931969675299961, -0.19906468626396834 -0.956959157007469, -0.2902226245824991L -0.956959157007469, -0.2902226245824991 L -0.9576253311710942, -0.28801688335834097 L -0.9582864212229619, -0.2858096130288272 ",
          "type": "path"
         },
         {
          "fillcolor": "#8f391e",
          "layer": "below",
          "line": {
           "color": "rgb(175,175,175)",
           "width": 0.5
          },
          "path": "M -0.7493917164859127,-0.6621269177901601 Q -0.10869116555436115, -0.16788755323261598 -0.29738641788124515, -0.9547572039318486L -0.29738641788124515, -0.9547572039318486 L -0.3373283658695672, -0.9413870477012988 L -0.37667185276071014, -0.9263467576117562 M -0.37667185276071014,-0.9263467576117562 Q -0.10880241951702219, -0.16781547457621993 -0.6919753370504782, -0.7219211403705235L -0.6919753370504782, -0.7219211403705235 L -0.721303391797475, -0.6926192438717381 L -0.7493917164859127, -0.6621269177901601 ",
          "type": "path"
         },
         {
          "fillcolor": "#8f391e",
          "layer": "below",
          "line": {
           "color": "rgb(175,175,175)",
           "width": 0.5
          },
          "path": "M -0.871173258003215,-0.4909757168537603 Q -0.10454876813770947, -0.17049796210186052 -0.04253305413082709, -0.9990950601951268L -0.04253305413082709, -0.9990950601951268 L -0.044744306626493646, -0.9989984719830728 L -0.04695533992128387, -0.998896989710589 M -0.04695533992128387,-0.998896989710589 Q -0.1043369820889336, -0.1706276477261922 -0.8677597939408961, -0.4969838428154919L -0.8677597939408961, -0.4969838428154919 L -0.86947171557234, -0.49398272826050493 L -0.871173258003215, -0.4909757168537603 ",
          "type": "path"
         },
         {
          "fillcolor": "#8f391e",
          "layer": "below",
          "line": {
           "color": "rgb(175,175,175)",
           "width": 0.5
          },
          "path": "M -0.7973189034391762,-0.6035582542046373 Q -0.04874245588749772, -0.1939695156308211 0.4172857127934861, -0.9087753484213974L 0.4172857127934861, -0.9087753484213974 L 0.38165314086545665, -0.9243056204889873 L 0.3454439408348354, -0.9384393873556772 M 0.3454439408348354,-0.9384393873556772 Q -0.048941024334483316, -0.1939195094287615 -0.7493917164859127, -0.6621269177901601L -0.7493917164859127, -0.6621269177901601 L -0.7739095603077997, -0.6332961333090454 L -0.7973189034391762, -0.6035582542046373 ",
          "type": "path"
         },
         {
          "fillcolor": "#8f391e",
          "layer": "below",
          "line": {
           "color": "rgb(175,175,175)",
           "width": 0.5
          },
          "path": "M -0.8636722926605154,-0.5040537380979622 Q -0.030667350480339074, -0.19763479859203958 0.6703068278490832, -0.7420840629867343L 0.6703068278490832, -0.7420840629867343 L 0.666812011789166, -0.7452259663576445 L 0.6633024689885355, -0.7483514111924376 M 0.6633024689885355,-0.7483514111924376 Q -0.03066499288371327, -0.19763516441018744 -0.8588843895693686, -0.5121695084188954L -0.8588843895693686, -0.5121695084188954 L -0.8612879003595034, -0.5081172627399291 L -0.8636722926605154, -0.5040537380979622 ",
          "type": "path"
         },
         {
          "fillcolor": "#8f391e",
          "layer": "below",
          "line": {
           "color": "rgb(175,175,175)",
           "width": 0.5
          },
          "path": "M -0.8677597939408961,-0.4969838428154919 Q 0.011217421277167357, -0.1996851758641351 0.9179612757973287, -0.3966700091216132L 0.9179612757973287, -0.3966700091216132 L 0.9165242854834348, -0.3999790420998073 L 0.9150753669355355, -0.4032828694945957 M 0.9150753669355355,-0.4032828694945957 Q 0.01131240204554289, -0.1996798176079896 -0.8636722926605154, -0.5040537380979622L -0.8636722926605154, -0.5040537380979622 L -0.8657232603338413, -0.5005229630266169 L -0.8677597939408961, -0.4969838428154919 ",
          "type": "path"
         },
         {
          "fillcolor": "#8f391e",
          "layer": "below",
          "line": {
           "color": "rgb(175,175,175)",
           "width": 0.5
          },
          "path": "M -0.8832340077236659,-0.4689324979145626 Q 0.02350158354058574, -0.19861438913403248 0.9682854674700809, -0.2498464598233219L 0.9682854674700809, -0.2498464598233219 L 0.9682195464182223, -0.2501017991412534 L 0.9681535580327433, -0.25035712106616737 M 0.9681535580327433,-0.25035712106616737 Q 0.023511590504712437, -0.19861320477737304 -0.8829392542689041, -0.4694872450568509L -0.8829392542689041, -0.4694872450568509 L -0.8830866745571847, -0.4692098946308923 L -0.8832340077236659, -0.4689324979145626 ",
          "type": "path"
         },
         {
          "fillcolor": "#8f391e",
          "layer": "below",
          "line": {
           "color": "rgb(175,175,175)",
           "width": 0.5
          },
          "path": "M -0.8835284126330987,-0.4683775657202605 Q 0.03757651069630469, -0.1964383003487113 0.994017216212397, -0.10922350421661425L 0.994017216212397, -0.10922350421661425 L 0.9939907203698529, -0.10946436780350471 L 0.9939641661628601, -0.10970522496294426 M 0.9939641661628601,-0.10970522496294426 Q 0.03759061074526806, -0.19643560263811075 -0.8832340077236659, -0.4689324979145626L -0.8832340077236659, -0.4689324979145626 L -0.8833812537538127, -0.46865505493522835 L -0.8835284126330987, -0.4683775657202605 ",
          "type": "path"
         },
         {
          "fillcolor": "#f0f3e7",
          "layer": "below",
          "line": {
           "color": "rgb(175,175,175)",
           "width": 0.5
          },
          "path": "M -0.5800882787219828,-0.8145536132688672 Q -0.06377730157974416, -0.18955858145493273 -0.03026717024036506, -0.9995418442494746L -0.03026717024036506, -0.9995418442494746 L -0.033484967650841316, -0.9994392212342991 L -0.03670241799794448, -0.999326239279798 M -0.03670241799794448,-0.999326239279798 Q -0.06341959847391423, -0.18967855579745302 -0.5717401693282025, -0.8204347498592185L -0.5717401693282025, -0.8204347498592185 L -0.575921731120057, -0.8175048376760083 L -0.5800882787219828, -0.8145536132688672 ",
          "type": "path"
         },
         {
          "fillcolor": "#f0f3e7",
          "layer": "below",
          "line": {
           "color": "rgb(175,175,175)",
           "width": 0.5
          },
          "path": "M -0.29738641788124515,-0.9547572039318486 Q 0.02251245649343305, -0.19872893423613808 0.5034237772139356, -0.8640396406043265L 0.5034237772139356, -0.8640396406043265 L 0.46089783264396555, -0.8874532031967066 L 0.4172857127934861, -0.9087753484213974 M 0.4172857127934861,-0.9087753484213974 Q 0.022408511451900707, -0.19874068183064594 -0.20444812029832088, -0.9788774009580992L -0.20444812029832088, -0.9788774009580992 L -0.2512069304450434, -0.967933405816939 L -0.29738641788124515, -0.9547572039318486 ",
          "type": "path"
         },
         {
          "fillcolor": "#f0f3e7",
          "layer": "below",
          "line": {
           "color": "rgb(175,175,175)",
           "width": 0.5
          },
          "path": "M -0.4668853046653111,-0.8843178796606905 Q 0.04070297219876792, -0.19581437141891891 0.780620823039666, -0.6250049044902564L 0.780620823039666, -0.6250049044902564 L 0.7720306748650437, -0.6355852712794917 L 0.7632971337219836, -0.6460475877609979 M 0.7632971337219836,-0.6460475877609979 Q 0.04075251601134599, -0.19580406645099327 -0.4421570716048215, -0.8969376366447384L -0.4421570716048215, -0.8969376366447384 L -0.4545649843864976, -0.8907135762801099 L -0.4668853046653111, -0.8843178796606905 ",
          "type": "path"
         },
         {
          "fillcolor": "#f0f3e7",
          "layer": "below",
          "line": {
           "color": "rgb(175,175,175)",
           "width": 0.5
          },
          "path": "M -0.5366837020072832,-0.8437835054086786 Q 0.06167168158990652, -0.1902540503901906 0.9296403723014875, -0.36846815084502443L 0.9296403723014875, -0.36846815084502443 L 0.9270096853184829, -0.3750373892370297 L 0.9243325779481437, -0.38158784747910773 M 0.9243325779481437,-0.38158784747910773 Q 0.06187351903560473, -0.190188505546867 -0.5228806915719411, -0.8524058788988076L -0.5228806915719411, -0.8524058788988076 L -0.5297997379825499, -0.8481227727361301 L -0.5366837020072832, -0.8437835054086786 ",
          "type": "path"
         },
         {
          "fillcolor": "#f0f3e7",
          "layer": "below",
          "line": {
           "color": "rgb(175,175,175)",
           "width": 0.5
          },
          "path": "M -0.5924967521497798,-0.8055728388494503 Q 0.06750785714930027, -0.18826228837212639 0.9693958188836357, -0.24550304749824492L 0.9693958188836357, -0.24550304749824492 L 0.9690712664059639, -0.2467810378176196 L 0.9687450291072219, -0.24805859908507027 M 0.9687450291072219,-0.24805859908507027 Q 0.06756000823343243, -0.18824357967138894 -0.5899230211495131, -0.807459490697726L -0.5899230211495131, -0.807459490697726 L -0.5912106392277522, -0.8065171914249024 L -0.5924967521497798, -0.8055728388494503 ",
          "type": "path"
         },
         {
          "fillcolor": "#f0f3e7",
          "layer": "below",
          "line": {
           "color": "rgb(175,175,175)",
           "width": 0.5
          },
          "path": "M -0.5865681935498718,-0.8098998421506453 Q 0.08359278780538143, -0.1816927236488145 0.9966745679546049, -0.08148500225502743L 0.9966745679546049, -0.08148500225502743 L 0.9964231817707946, -0.08450350779562917 L 0.9961626538320442, -0.0875212380528232 M 0.9961626538320442,-0.0875212380528232 Q 0.08376717496940608, -0.1816123905399764 -0.5800882787219828, -0.8145536132688672L -0.5800882787219828, -0.8145536132688672 L -0.5833328770692231, -0.8122331897491893 L -0.5865681935498718, -0.8098998421506453 ",
          "type": "path"
         },
         {
          "fillcolor": "#e2ecde",
          "layer": "below",
          "line": {
           "color": "rgb(175,175,175)",
           "width": 0.5
          },
          "path": "M -0.03026717024036506,-0.9995418442494746 Q 0.004113676799124939, -0.19995768968257346 0.0713507830609156, -0.9974512849039767L 0.0713507830609156, -0.9974512849039767 L 0.06443106862711985, -0.9979221599882264 L 0.057508254790167995, -0.9983450308540576 M 0.057508254790167995,-0.9983450308540576 Q 0.0035918507146671004, -0.19996774391997213 -0.02161787820300375, -0.9997663063646425L -0.02161787820300375, -0.9997663063646425 L -0.025942766984324715, -0.9996634297808423 L -0.03026717024036506, -0.9995418442494746 ",
          "type": "path"
         },
         {
          "fillcolor": "#e2ecde",
          "layer": "below",
          "line": {
           "color": "rgb(175,175,175)",
           "width": 0.5
          },
          "path": "M -0.06142138305267048,-0.9981119244372832 Q 0.06385966196602229, -0.1895308512448181 0.6529235899587936, -0.7574237820898688L 0.6529235899587936, -0.7574237820898688 L 0.6516174653898998, -0.7585477432560476 L 0.6503094060057867, -0.7596694521042694 M 0.6503094060057867,-0.7596694521042694 Q 0.06374280962218025, -0.18957018283862703 -0.05921205195533543, -0.9982454271887443L -0.05921205195533543, -0.9982454271887443 L -0.06031675444023752, -0.9981792870691096 L -0.06142138305267048, -0.9981119244372832 ",
          "type": "path"
         },
         {
          "fillcolor": "#e2ecde",
          "layer": "below",
          "line": {
           "color": "rgb(175,175,175)",
           "width": 0.5
          },
          "path": "M -0.06423282238396275,-0.997934940027951 Q 0.1029496067154882, -0.17146830166863586 0.9110008814557944, -0.4124044058770052L 0.9110008814557944, -0.4124044058770052 L 0.9106572312340779, -0.41316268853937316 L 0.9103129498466982, -0.41392068484360955 M 0.9103129498466982,-0.41392068484360955 Q 0.10291035919378762, -0.17149185977942397 -0.06302798092736706, -0.9980117602614809L -0.06302798092736706, -0.9980117602614809 L -0.0636304132486841, -0.9979735319685596 L -0.06423282238396275, -0.997934940027951 ",
          "type": "path"
         },
         {
          "fillcolor": "#e2ecde",
          "layer": "below",
          "line": {
           "color": "rgb(175,175,175)",
           "width": 0.5
          },
          "path": "M -0.06744527045718708,-0.997722975325795 Q 0.11703978551845154, -0.16217795351340103 0.9681535580327433, -0.25035712106616737L 0.9681535580327433, -0.25035712106616737 L 0.9680875023182329, -0.2506124255803077 L 0.9680213792792851, -0.25086771266591956 M 0.9680213792792851,-0.25086771266591956 Q 0.1170296496837497, -0.16218526781091688 -0.0670437519947564, -0.9977500364913376L -0.0670437519947564, -0.9977500364913376 L -0.0672445125872481, -0.9977365261064183 L -0.06744527045718708, -0.997722975325795 ",
          "type": "path"
         },
         {
          "fillcolor": "#e2ecde",
          "layer": "below",
          "line": {
           "color": "rgb(175,175,175)",
           "width": 0.5
          },
          "path": "M -0.06784677799689785,-0.9976957525796327 Q 0.12830512826073268, -0.15342031828280417 0.9939641661628601, -0.10970522496294426L 0.9939641661628601, -0.10970522496294426 L 0.9939375535929781, -0.1099460756807895 L 0.9939108826617694, -0.11018691994289748 M 0.9939108826617694,-0.11018691994289748 Q 0.12829882229398082, -0.15342559173090237 -0.06744527045718708, -0.997722975325795L -0.06744527045718708, -0.997722975325795 L -0.06764602559644604, -0.9977093841500164 L -0.06784677799689785, -0.9976957525796327 ",
          "type": "path"
         },
         {
          "fillcolor": "#d4e5d6",
          "layer": "below",
          "line": {
           "color": "rgb(175,175,175)",
           "width": 0.5
          },
          "path": "M 0.18739786549667856,-0.9822840933290576 Q 0.10860613348631046, -0.16794257283117262 0.8189458912056841, -0.573870740914126L 0.8189458912056841, -0.573870740914126 L 0.8093963610965791, -0.5872627441304412 L 0.7996278574823908, -0.6004958697094603 M 0.7996278574823908,-0.6004958697094603 Q 0.1086880469203858, -0.16788957220933054 0.22055610897306788, -0.9753742885655026L 0.22055610897306788, -0.9753742885655026 L 0.20400624419826816, -0.978969587029197 L 0.18739786549667856, -0.9822840933290576 ",
          "type": "path"
         },
         {
          "fillcolor": "#d4e5d6",
          "layer": "below",
          "line": {
           "color": "rgb(175,175,175)",
           "width": 0.5
          },
          "path": "M 0.08550099769182731,-0.9963380848856989 Q 0.12289511734577468, -0.15778716719862954 0.9450791396559644, -0.3268415820961925L 0.9450791396559644, -0.3268415820961925 L 0.9425573767772885, -0.33404429568953375 L 0.9399807208922984, -0.3412275550872099 M 0.9399807208922984,-0.3412275550872099 Q 0.12309065657767647, -0.15763467341697548 0.10316420858684455, -0.9946643383909217L 0.10316420858684455, -0.9946643383909217 L 0.09433631523371877, -0.9955403857343631 L 0.08550099769182731, -0.9963380848856989 ",
          "type": "path"
         },
         {
          "fillcolor": "#d4e5d6",
          "layer": "below",
          "line": {
           "color": "rgb(175,175,175)",
           "width": 0.5
          },
          "path": "M 0.009796207498556656,-0.9999520160080909 Q 0.12332226667620538, -0.15745354407520615 0.9684828265781141, -0.2490803376890004L 0.9684828265781141, -0.2490803376890004 L 0.9683842227873036, -0.24946341827336097 L 0.9682854674700809, -0.2498464598233219 M 0.9682854674700809,-0.2498464598233219 Q 0.12333617264397888, -0.1574426515196395 0.01076393273598969, -0.9999420671979228L 0.01076393273598969, -0.9999420671979228 L 0.010280071320801618, -0.9999471586707166 L 0.009796207498556656, -0.9999520160080909 ",
          "type": "path"
         },
         {
          "fillcolor": "#d4e5d6",
          "layer": "below",
          "line": {
           "color": "rgb(175,175,175)",
           "width": 0.5
          },
          "path": "M 0.04526602664252103,-0.9989749680707714 Q 0.14127085218782903, -0.14157170028690255 0.9988764125031421, -0.04739105975659173L 0.9988764125031421, -0.04739105975659173 L 0.9986476376289353, -0.05198938216738798 L 0.9983976945136912, -0.05658660256408872 M 0.9983976945136912,-0.05658660256408872 Q 0.14148661813155605, -0.14135606421266558 0.057508254790167995, -0.9983450308540576L 0.057508254790167995, -0.9983450308540576 L 0.05138810598013554, -0.9986787584422603 L 0.04526602664252103, -0.9989749680707714 ",
          "type": "path"
         },
         {
          "fillcolor": "#c6decd",
          "layer": "below",
          "line": {
           "color": "rgb(175,175,175)",
           "width": 0.5
          },
          "path": "M 0.7075346330422727,-0.7066786702920476 Q 0.16794710138614194, -0.10859913045689162 0.934761960505722, -0.3552746503643328L 0.934761960505722, -0.3552746503643328 L 0.9322245071644357, -0.36188046126037937 L 0.9296403723014875, -0.36846815084502443 M 0.9296403723014875,-0.36846815084502443 Q 0.16804615461283684, -0.10844579254096741 0.7187353685337162, -0.6952837334633273L 0.7187353685337162, -0.6952837334633273 L 0.7131577598927364, -0.701003573104142 L 0.7075346330422727, -0.7066786702920476 ",
          "type": "path"
         },
         {
          "fillcolor": "#c6decd",
          "layer": "below",
          "line": {
           "color": "rgb(175,175,175)",
           "width": 0.5
          },
          "path": "M 0.7329576437557285,-0.6802742773764495 Q 0.18049238777822452, -0.0861539201320232 0.9898563754696421, -0.14207165777206554L 0.9898563754696421, -0.14207165777206554 L 0.9885228516134851, -0.15107141304013694 L 0.98710750388468, -0.1600586635410791 M 0.98710750388468,-0.1600586635410791 Q 0.18063951675631149, -0.08584500559756675 0.7474912174493485, -0.6642716912800746L 0.7474912174493485, -0.6642716912800746 L 0.7402676734474463, -0.6723122575475663 L 0.7329576437557285, -0.6802742773764495 ",
          "type": "path"
         },
         {
          "fillcolor": "#c6decd",
          "layer": "below",
          "line": {
           "color": "rgb(175,175,175)",
           "width": 0.5
          },
          "path": "M 0.7187353685337162,-0.6952837334633273 Q 0.18420322071959394, -0.07790490020870681 0.9995065603657315, -0.03141075907812925L 0.9995065603657315, -0.03141075907812925 L 0.9992234330046023, -0.03940216915979618 L 0.9988764125031421, -0.04739105975659173 M 0.9988764125031421,-0.04739105975659173 Q 0.18438520454643095, -0.07747319758710633 0.7329576437557285, -0.6802742773764495L 0.7329576437557285, -0.6802742773764495 L 0.7258853018387312, -0.6878157664480322 L 0.7187353685337162, -0.6952837334633273 ",
          "type": "path"
         },
         {
          "fillcolor": "#b8d7c5",
          "layer": "below",
          "line": {
           "color": "rgb(175,175,175)",
           "width": 0.5
          },
          "path": "M 0.9089295174194467,-0.4169497959750689 Q 0.19274088954585564, -0.05339428337446143 0.9939108826617694, -0.11018691994289748L 0.9939108826617694, -0.11018691994289748 L 0.9938841533708, -0.11042775773512731 L 0.9938573657216395, -0.11066858904333858 M 0.9938573657216395,-0.11066858904333858 Q 0.19274276836361923, -0.05338750081740326 0.9091607898704199, -0.41644526430515955L 0.9091607898704199, -0.41644526430515955 L 0.9090451886476227, -0.4166975461850094 L 0.9089295174194467, -0.4169497959750689 ",
          "type": "path"
         },
         {
          "fillcolor": "#aad0bc",
          "layer": "below",
          "line": {
           "color": "rgb(175,175,175)",
           "width": 0.5
          },
          "path": "M 0.9702955977812271,-0.2419224109634559 Q 0.19717039830021776, -0.03352363396372001 0.9957268002771806, -0.09234792477239338L 0.9957268002771806, -0.09234792477239338 L 0.9955115766038134, -0.09463984809682349 L 0.9952910774818963, -0.09693126990257601 M 0.9952910774818963,-0.09693126990257601 Q 0.19717720798098176, -0.033483557947516056 0.9714955696504788, -0.2370577105885646L 0.9714955696504788, -0.2370577105885646 L 0.9708986305512957, -0.23949081233654584 L 0.9702955977812271, -0.2419224109634559 ",
          "type": "path"
         },
         {
          "fillcolor": "#f2e6ce",
          "layer": "below",
          "line": {
           "color": "rgb(150,150,150)",
           "width": 0.45
          },
          "path": "M 1.1, 0.0 L 1.0997136679564712, 0.025096782856060512 L 1.0988548208914104, 0.050180500233718894 L 1.0974239059237911, 0.07523809345650961 L 1.0954216679932613, 0.10025651744829919 L 1.0928491494723278, 0.1252227475246014 L 1.0897076896236901, 0.15012378617327635 L 1.0859989239030179, 0.17494666982108348 L 1.0817247831075252, 0.19967847558256618 L 1.076887492370791, 0.22430632798775385 L 1.0714895700043454, 0.24881740568517938 L 1.0655338261866287, 0.2731989481167224 L 0.9686671147151169, 0.24836268010611126 L 0.9740814272766776, 0.22619764153198124 L 0.9789886294279917, 0.20391484362523077 L 0.9833861664613865, 0.18152588689324198 L 0.9872717490027435, 0.15904242711007588 L 0.9906433542033546, 0.13647616924843303 L 0.9934992267930252, 0.11383886138600127 L 0.995837879993874, 0.0911422885893629 L 0.9976580962943554, 0.06839826677864509 L 0.9989589280831004, 0.04561863657610808 L 0.9997396981422465, 0.022815257141873192 L 1.0, 0.0 L 1.1 ,0.0",
          "type": "path"
         },
         {
          "fillcolor": "#ecd5bb",
          "layer": "below",
          "line": {
           "color": "rgb(150,150,150)",
           "width": 0.45
          },
          "path": "M 1.056426663225442, 0.3065333672316256 L 1.049872204819657, 0.32828090646139074 L 1.0428701048640432, 0.34988847420408065 L 1.0354233488942326, 0.37134685748589913 L 1.0275351120370337, 0.3926469069418997 L 1.0192087576566315, 0.4137795407170659 L 1.0104478359205245, 0.43473574833860723 L 1.001256082285815, 0.455506594557819 L 0.991637415906495, 0.4760832231598684 L 0.9815959379624087, 0.49645686073988265 L 0.9711359299106028, 0.5166188204437282 L 0.9602618516598107, 0.5365605056718876 L 0.9489783396688501, 0.5562734137448532 L 0.9372902049697418, 0.5757491395284752 L 0.9252024311163957, 0.5949793790177198 L 0.9127201720597372, 0.6139559328773067 L 0.8998487499501804, 0.6326707099377196 L 0.8865936528683842, 0.6511157306450946 L 0.8729605324852601, 0.6692831304635217 L 0.8589552016522288, 0.6871651632283022 L 0.8445836319227529, 0.7047542044487369 L 0.8298519510062027, 0.7220427545590351 L 0.8147664401551412, 0.7390234421159582 L 0.7993335314871404, 0.7556890269418347 L 0.7835598052422742, 0.7720324032116072 L 0.7674519869774536, 0.7880466024825934 L 0.7510169446988031, 0.8037247966656716 L 0.734261685933299, 0.819060300936622 L 0.7171933547409203, 0.8340465765863826 L 0.6998192286685845, 0.8486772338090067 L 0.6821467156471678, 0.8629460344261293 L 0.6641833508329319, 0.8768468945467839 L 0.6459367933947057, 0.8903738871614361 L 0.6274148232481906, 0.9035212446691234 L 0.6086253377387818, 0.9162833613366304 L 0.5895763482743206, 0.9286547956886441 L 0.5702759769092125, 0.9406302728278756 L 0.5507324528813691, 0.9522046866841555 L 0.5309541091034484, 0.9633731021915464 L 0.5109493786098915, 0.9741307573925412 L 0.4907267909612685, 0.9844730654684544 L 0.47029496860746905, 0.9943956166951361 L 0.4496626232112863, 1.0038941803231778 L 0.4288385519339627, 1.012964706381808 L 0.40783163368428127, 1.0216033274057061 L 0.38665082533280115, 1.0298063600840033 L 0.365305157892853, 1.0375703068307602 L 0.34380373266992076, 1.0448918572762589 L 0.31254884788174614, 0.9499016884329626 L 0.3320955980844118, 0.9432457334825092 L 0.35150075030254646, 0.9361876000763666 L 0.37075603062207385, 0.928730297641551 L 0.38985322903087516, 0.9208770058016434 L 0.40878420291935114, 0.9126310730210706 L 0.42754088055224454, 0.9039960151773964 L 0.446115264510244, 0.8949755140622312 L 0.4644994350999013, 0.885573415811401 L 0.4826855537304076, 0.8757937292650421 L 0.50066586625579, 0.8656406242583231 L 0.5184327062811023, 0.8551184298435232 L 0.5359784984312005, 0.8442316324442218 L 0.5532957615807107, 0.8329848739423912 L 0.5703771120438096, 0.821382949699203 L 0.5872152667224596, 0.8094308065103963 L 0.6038030462117562, 0.7971335404970762 L 0.6201333778610616, 0.7844963949328447 L 0.6361992987896222, 0.7715247580081879 L 0.651993958855382, 0.7582241605330751 L 0.6675106235757263, 0.7446002735787471 L 0.6827426769989119, 0.7306589060597014 L 0.6976836245249578, 0.716406002256903 L 0.7123270956747947, 0.7018476392832792 L 0.7266668468064912, 0.686990024492577 L 0.740696763777401, 0.6718394928326892 L 0.7544108645510933, 0.6564025041445773 L 0.7678033017479571, 0.6406856404079426 L 0.7808683651383898, 0.6246956029348202 L 0.793600484077509, 0.6084392095122925 L 0.8059942298803492, 0.5919233914955405 L 0.8180443181365276, 0.5751551908524722 L 0.8297456109633974, 0.5581417571611879 L 0.8410931191967232, 0.5408903445615634 L 0.852082004517947, 0.5234083086622501 L 0.8627075815171364, 0.5057031034044119 L 0.872965319690737, 0.4877822778835342 L 0.8828508453732752, 0.46965347313066197 L 0.8923599436021897, 0.45132441885443875 L 0.9014885599149954, 0.4328029301453349 L 0.9102328020780136, 0.4140969041434718 L 0.9185889417459313, 0.39521431667146106 L 0.9265534160514831, 0.37616321883369624 L 0.934122829124576, 0.35695173358354515 L 0.9412939535402113, 0.3375880522599083 L 0.9480637316945847, 0.31808043109461875 L 0.954429277108779, 0.29843718769217337 L 0.9603878756594927, 0.278666697483296 L 1.056426663225442 ,0.3065333672316256",
          "type": "path"
         },
         {
          "fillcolor": "#e6c4a9",
          "layer": "below",
          "line": {
           "color": "rgb(150,150,150)",
           "width": 0.45
          },
          "path": "M 0.31081323989020937, 1.0551754024374105 L 0.2881950173572104, 1.0615760132795378 L 0.26544518930488187, 1.0674918507768083 L 0.24257414454203471, 1.0729202134360691 L 0.21959232723162206, 1.0778586223716913 L 0.19651023212136717, 1.0823048224375638 L 0.17333839975129042, 1.0862567832569157 L 0.15008741164032646, 1.089712700149497 L 0.1267678854542255, 1.0926709949556932 L 0.10339047015695084, 1.0951303167571997 L 0.0799658411477822, 1.0970895424939242 L 0.05650469538634872, 1.098547777476836 L 0.03301774650781396, 1.0995043557965316 L 0.009515719930448164, 1.0999588406273235 L -0.013990652042180373, 1.0999110244267192 L -0.03749063512216027, 1.0993609290301967 L -0.06097349793909577, 1.098308805641233 L -0.08442851694063434, 1.0967551347165898 L -0.10784498128942423, 1.0947006257469134 L -0.13121219775426424, 1.0921462169327403 L -0.1545194955932163, 1.0890930747560643 L -0.1777562314264457, 1.0855425934476584 L -0.20091179409656668, 1.0814963943503921 L -0.2239756095142752, 1.076956325178839 L -0.20361419046752288, 0.9790512047080353 L -0.18264708554233333, 0.9831785403185382 L -0.16159657402404154, 0.9868569031342348 L -0.14047226872110571, 0.9900846134146039 L -0.11928381614024021, 0.9928601972115819 L -0.09804089208129474, 0.9951823870426485 L -0.07675319721875849, 0.9970501224696271 L -0.05543045267190524, 0.9984625505829389 L -0.03408239556560024, 0.9994190263910878 L -0.012718774583800338, 0.9999191131151992 L 0.008650654482225602, 0.9999625823884758 L 0.030016133188921778, 0.9995494143604832 L 0.051367904896680645, 0.9986797977062145 L 0.07269621922525654, 0.997354129539931 L 0.09399133650631894, 0.9955730152338179 L 0.11524353223111408, 0.9933372681415392 L 0.13644310149120586, 0.9906479092268153 L 0.15758036341026402, 0.987506166597196 L 0.17864566556487924, 0.9839134749432398 L 0.19962938839238367, 0.9798714748833557 L 0.22052194958366791, 0.9753820122146083 L 0.2413138084589835, 0.9704471370698257 L 0.26199547032473675, 0.9650691029813979 L 0.2825574908092812, 0.9592503658521914 L 0.31081323989020937 ,1.0551754024374105",
          "type": "path"
         },
         {
          "fillcolor": "#e1b396",
          "layer": "below",
          "line": {
           "color": "rgb(150,150,150)",
           "width": 0.45
          },
          "path": "M -0.25769310673929036, 1.0693896683337898 L -0.2806110988263204, 1.0636058533194923 L -0.3033995258401496, 1.0573309452200728 L -0.3260478658013324, 1.0505678413155415 L -0.3485456614120734, 1.043319664297966 L -0.3708825248846219, 1.0355897608296483 L -0.393048142737569, 1.0273816999978869 L -0.4150322805578367, 1.0186992716670418 L -0.4368247877261592, 1.0095464847286608 L -0.45841560210387444, 0.9999275652504748 L -0.4797947546788621, 0.9898469545251178 L -0.5009523741684826, 0.9793093070194733 L -0.5218786915773921, 0.9683194882255906 L -0.5425640447081277, 0.9568825724141687 L -0.5629988826223851, 0.9450038402916392 L -0.5831737700509203, 0.9326887765619336 L -0.6030793917500479, 0.9199430673940603 L -0.6227065568027177, 0.9067725977966603 L -0.6420462028621897, 0.8931834489007531 L -0.5836783662383542, 0.8119849535461391 L -0.5660968698206524, 0.8243387252696911 L -0.5482539925000435, 0.8363118794491456 L -0.5301579727735639, 0.8478988877835759 L -0.51181716602035, 0.8590944002651265 L -0.49324004064375243, 0.8698932476492443 L -0.47443517416126546, 0.8802904438414458 L -0.455411249244075, 0.8902811881995211 L -0.43617704970805643, 0.8998608677501071 L -0.41674145645806765, 0.9090250593186133 L -0.3971134433874174, 0.9177695315715098 L -0.37730207323439696, 0.9260902469700378 L -0.35731649339779, 0.9339833636344425 L -0.3371659317132926, 0.941445237117862 L -0.316859692192794, 0.9484724220890599 L -0.29640715072848395, 0.9550616739232194 L -0.27581775076377235, 0.961209950200066 L -0.2551009989330185, 0.9669144121086293 L -0.23426646067208212, 0.9721724257579907 L -0.25769310673929036 ,1.0693896683337898",
          "type": "path"
         },
         {
          "fillcolor": "#dba284",
          "layer": "below",
          "line": {
           "color": "rgb(150,150,150)",
           "width": 0.45
          },
          "path": "M -0.6697849619446591, 0.8725755581912616 L -0.6847176314806419, 0.8609075241508464 L -0.6994470770285418, 0.8489839730149382 L -0.7139689268933284, 0.8368084436899459 L -0.7282788709943088, 0.8243845498693283 L -0.662071700903917, 0.7494404998812075 L -0.6490626608121166, 0.7607349488090417 L -0.6358609791168561, 0.7718036118317619 L -0.6224705740733107, 0.7826432037734966 L -0.60889541994969, 0.7932505074466014 L -0.6697849619446591 ,0.8725755581912616",
          "type": "path"
         },
         {
          "fillcolor": "#d59171",
          "layer": "below",
          "line": {
           "color": "rgb(150,150,150)",
           "width": 0.45
          },
          "path": "M -0.7538140538182364, 0.8011019737000509 L -0.7814872632254792, 0.7741302586880006 L -0.8081960269753633, 0.7462031774129873 L -0.8339073833647057, 0.717355195122911 L -0.8585896016063511, 0.6876219135640222 L -0.7805360014603191, 0.6251108305127474 L -0.7580976212406415, 0.6521410864753736 L -0.7347236608866938, 0.6783665249208974 L -0.7104429665686174, 0.703754780625455 L -0.6852855034711239, 0.7282745215455008 L -0.7538140538182364 ,0.8011019737000509",
          "type": "path"
         },
         {
          "fillcolor": "#d0805f",
          "layer": "below",
          "line": {
           "color": "rgb(150,150,150)",
           "width": 0.45
          },
          "path": "M -0.8797646657311486, 0.6603136625354351 L -0.8947531982593289, 0.6398567919501225 L -0.9092661512263128, 0.6190598244387115 L -0.9232958107018037, 0.5979338140133066 L -0.9368347196358465, 0.5764899895790255 L -0.9498756818224007, 0.5547397489656115 L -0.9624117657242715, 0.5326946528692496 L -0.9744363081573615, 0.5103664187078258 L -0.9859429178322909, 0.4877669143928776 L -0.9969254787514968, 0.46490815202155694 L -1.0073781534600104, 0.4418022814919589 L -1.0172953861481842, 0.41846158404519895 L -1.026671905604717, 0.39489846573768694 L -0.9333380960042882, 0.358998605216079 L -0.92481398740744, 0.38041962185927175 L -0.915798321327282, 0.4016384377199626 L -0.9062958897740879, 0.42264377456505176 L -0.8963117434839007, 0.4434244676298887 L -0.8858511892339649, 0.46396947155256896 L -0.8749197870220649, 0.48426786624477225 L -0.8635233471112733, 0.5043088626960104 L -0.8516679269416786, 0.524081808708205 L -0.8393598279107305, 0.5435761945575514 L -0.8266055920239207, 0.5627816585806468 L -0.8134119984175716, 0.5816879926819295 L -0.7997860597555896, 0.6002851477594864 L -0.8797646657311486 ,0.6603136625354351",
          "type": "path"
         },
         {
          "fillcolor": "#ca6f4c",
          "layer": "below",
          "line": {
           "color": "rgb(150,150,150)",
           "width": 0.45
          },
          "path": "M -1.0385693655627106, 0.3624550633039477 L -1.0436658290912944, 0.3475077512620139 L -1.0485471800874104, 0.3324888135422603 L -1.0532124124437927, 0.31740134573490153 L -1.0576605645979191, 0.3022484575550573 L -0.9615096041799264, 0.2747713250500521 L -0.9574658294943569, 0.28854667794081956 L -0.953224709170373, 0.30226255776569116 L -0.948787117355722, 0.3159161375109217 L -0.9441539686933733, 0.3295046030035888 L -1.0385693655627106 ,0.3624550633039477",
          "type": "path"
         },
         {
          "fillcolor": "#c45e3a",
          "layer": "below",
          "line": {
           "color": "rgb(150,150,150)",
           "width": 0.45
          },
          "path": "M -1.0666325264377414, 0.268877395005681 L -1.074452422786308, 0.23569469906774096 L -1.081240274648946, 0.20228561114689247 L -1.086989562085882, 0.16868222169613079 L -1.091694762730307, 0.13491680780102494 L -0.9924497843002791, 0.12265164345547722 L -0.9881723291689836, 0.1533474742692098 L -0.9829457042263146, 0.1838960101335386 L -0.9767749298057344, 0.21426790824340086 L -0.9696659331252194, 0.24443399545970995 L -1.0666325264377414 ,0.268877395005681",
          "type": "path"
         },
         {
          "fillcolor": "#bf4d28",
          "layer": "below",
          "line": {
           "color": "rgb(150,150,150)",
           "width": 0.45
          },
          "path": "M -1.0953939166112807, 0.10055927332175103 L -1.098302082501939, 0.061094480699194716 L -1.0997888755010194, 0.021550622362319583 L -1.0998523714682535, -0.018021125815529577 L -1.0984924882300313, -0.057569551867236946 L -0.9986295347545739, -0.052335956242942676 L -0.9998657922438667, -0.01638284165048143 L -0.9998080686372903, 0.019591474874835983 L -0.9984564386381263, 0.05554043699926792 L -0.9958126514648006, 0.09141752120159184 L -1.0953939166112807 ,0.10055927332175103",
          "type": "path"
         },
         {
          "fillcolor": "#af4624",
          "layer": "below",
          "line": {
           "color": "rgb(150,150,150)",
           "width": 0.45
          },
          "path": "M -1.096142145174455, -0.09204562766554557 L -1.0916148145699758, -0.1355621503641699 L -1.0853605813824627, -0.17886421772149588 L -1.0773893396251728, -0.2218833271384629 L -1.0677136995685026, -0.2645514236471648 L -0.9706488177895477, -0.2405012942246952 L -0.9794448542047025, -0.2017121155804208 L -0.9866914376204206, -0.16260383429226896 L -0.9923771041545233, -0.12323831851288172 L -0.9964928592495045, -0.08367784333231415 L -1.096142145174455 ,-0.09204562766554557",
          "type": "path"
         },
         {
          "fillcolor": "#9f4021",
          "layer": "below",
          "line": {
           "color": "rgb(150,150,150)",
           "width": 0.45
          },
          "path": "M -1.0588770862791272, -0.2979585812709982 L -1.0442512905482206, -0.3457444752825064 L -1.0274701898696994, -0.39281676253582165 L -1.0085684199578269, -0.43907828716958053 L -0.9875849935278168, -0.48443356671339605 L -0.8978045395707425, -0.44039415155763273 L -0.9168803817798425, -0.3991620792450732 L -0.9340638089724539, -0.35710614775983784 L -0.9493193550438369, -0.3143131593477331 L -0.9626155329810246, -0.27087143751908926 L -1.0588770862791272 ,-0.2979585812709982",
          "type": "path"
         },
         {
          "fillcolor": "#8f391e",
          "layer": "below",
          "line": {
           "color": "rgb(150,150,150)",
           "width": 0.45
          },
          "path": "M -0.9718812538964087, -0.5152153222922866 L -0.9603637258285753, -0.5363781447007859 L -0.9483854465917689, -0.5572836303830674 L -0.9359521629733905, -0.5779217495694656 L -0.9230698400570931, -0.5982826007640308 L -0.9097446583609272, -0.6183564154949476 L -0.8959830108721311, -0.6381335630011249 L -0.8817914999799837, -0.657604554852725 L -0.8671769343081946, -0.6767600495033976 L -0.852146325448347, -0.695590856772054 L -0.8367068845959669, -0.7140879422520111 L -0.8208660190908247, -0.7322424316454094 L -0.804631328863138, -0.750045615020807 L -0.7880106027873702, -0.7674889509919252 L -0.7710118149453855, -0.7845640708155216 L -0.7536431208007421, -0.8012627824064451 L -0.7359128532859699, -0.8175770742679265 L -0.7178295188046987, -0.8334991193352366 L -0.6994017931505644, -0.8490212787308545 L -0.6806385173448474, -0.8641361054293519 L -0.6187622884953158, -0.7855782776630471 L -0.6358198119550584, -0.7718375261189586 L -0.6525722898224533, -0.7577264721229423 L -0.6690116848054272, -0.743251885698115 L -0.6851301098188565, -0.7284207112785864 L -0.7009198317685322, -0.7132400643777469 L -0.7163732752612456, -0.6977172281744773 L -0.7314830262392163, -0.6818596500189155 L -0.7462418355371133, -0.665674937859463 L -0.7606426223599698, -0.6491708565927373 L -0.7746784776803154, -0.6323553243382308 L -0.7883426675529042, -0.6152364086394524 L -0.8016286363454397, -0.5978223225933863 L -0.8145300098837555, -0.5801214209101135 L -0.8270405985099337, -0.5621421959044978 L -0.8391544000519028, -0.5438932734218461 L -0.8508656027030822, -0.5253834086995142 L -0.8621685878106989, -0.5066214821664249 L -0.873057932571432, -0.48761649518253264 L -0.8835284126330987, -0.4683775657202605 L -0.9718812538964087 ,-0.5152153222922866",
          "type": "path"
         },
         {
          "fillcolor": "#f0f3e7",
          "layer": "below",
          "line": {
           "color": "rgb(150,150,150)",
           "width": 0.45
          },
          "path": "M -0.6531594923054266, -0.885089078913144 L -0.6340188670986722, -0.8988993693194565 L -0.6145863376906574, -0.9122958037413005 L -0.5948708508766114, -0.9252722144198087 L -0.5748814837262075, -0.9378226269763138 L -0.5546274394044526, -0.9499412631629708 L -0.5341180429345244, -0.961622543523078 L -0.513362736904499, -0.9728610899598783 L -0.4923710771199573, -0.9836517282126501 L -0.4711527282044627, -0.9939894902389521 L -0.4497174591499389, -1.0038696165019256 L -0.42807513881899684, -1.0132875581615994 L -0.4062357314012806, -1.0222389791691895 L -0.38420929182592317, -1.0307197582634295 L -0.36200596113223055, -1.0387259908680104 L -0.3396359618007112, -1.046253990889261 L -0.3171095930466187, -1.0533002924132358 L -0.29443722607816086, -1.059861651301432 L -0.2716292993215647, -1.0659350466844009 L -0.2486963136151928, -1.0715176823525656 L -0.22564882737492592, -1.076606988043604 L -0.20249745173303568, -1.0812006206258056 L -0.1792528456527907, -1.0852964651768553 L -0.15592571102103217, -1.088892635957552 L -0.13252678772099655, -1.0919874772800071 L -0.10906684868764008, -1.094579564269929 L -0.09915168062512733, -0.9950723311544808 L -0.12047889792817867, -0.99271588843637 L -0.1417506463827565, -0.9899023963250472 L -0.1629571324116279, -0.9866331501607775 L -0.18408859248457787, -0.9829096551143686 L -0.205135297613569, -0.9787336254941854 L -0.2260875578319934, -0.9741069839568778 L -0.2469357266559679, -0.9690318606221826 L -0.2676702055256008, -0.9635105920922108 L -0.28828144822419877, -0.9575457203756689 L -0.3087599652733738, -0.95113999171751 L -0.32909632830202773, -0.9442963553345549 L -0.34928117438720285, -0.9370179620576632 L -0.3693052103648005, -0.9293081628810813 L -0.3891592171081789, -0.9211705074196358 L -0.4088340537726717, -0.9126087422744777 L -0.42832066200405694, -0.9036268093081382 L -0.44761007010905207, -0.8942288438296818 L -0.46669339718590813, -0.8844191726907984 L -0.4855618572132039, -0.8742023122937072 L -0.5042067630949568, -0.8635829665117916 L -0.5226195306601886, -0.8525660245239216 L -0.5407916826151012, -0.8411565585634624 L -0.5587148524460521, -0.8293598215830004 L -0.5763807882715201, -0.8171812448358694 L -0.5937813566412968, -0.8046264353755854 L -0.6531594923054266 ,-0.885089078913144",
          "type": "path"
         },
         {
          "fillcolor": "#e2ecde",
          "layer": "below",
          "line": {
           "color": "rgb(150,150,150)",
           "width": 0.45
          },
          "path": "M -0.07463145579658764, -1.097465327837596 L -0.06192924146064776, -1.0982553296260888 L -0.04921873728914692, -1.09889831918138 L -0.036501644707565006, -1.0993942104330197 L -0.023779666023308034, -1.0997429370011067 L -0.021617878203007302, -0.9997663063646424 L -0.03318331337051364, -0.999449282211836 L -0.0447443066264972, -0.9989984719830727 L -0.05629931041877068, -0.998413936023717 L -0.06784677799689785, -0.9976957525796327 L -0.07463145579658764 ,-1.097465327837596",
          "type": "path"
         },
         {
          "fillcolor": "#d4e5d6",
          "layer": "below",
          "line": {
           "color": "rgb(150,150,150)",
           "width": 0.45
          },
          "path": "M 0.010775828248412321, -1.0999472176089 L 0.03366974213851361, -1.0994845830953366 L 0.056549065473369235, -1.0985454943670239 L 0.07940388365281005, -1.0971303583717165 L 0.10222429269581046, -1.0952397883490361 L 0.12500040353231065, -1.0928746035647272 L 0.14772234628858222, -1.0900358289556342 L 0.1703802745642653, -1.0867246946855518 L 0.19296436969924372, -1.0829426356121425 L 0.21546484502849386, -1.07869129066515 L 0.23787195012306991, -1.0739725021361803 L 0.26017597501538636, -1.068788314880357 L 0.2823672544069659, -1.0631409754301975 L 0.3044361718568348, -1.0570329310220925 L 0.3263731639487374, -1.0504668285358139 L 0.34816872443538116, -1.0434455133475058 L 0.3698134083579042, -1.0359720280966616 L 0.39129783613878416, -1.0280496113676156 L 0.4126126976464147, -1.0196816962861248 L 0.4337487562295883, -1.0108719090316465 L 0.4546968527201366, -1.001624067265959 L 0.47544790940199305, -0.9919421784788035 L 0.4959929339449634, -0.9818304382512631 L 0.5163230233014859, -0.9712932284376399 L 0.5364293675647109, -0.9603351152666054 L 0.5563032537862123, -0.9489608473624574 L 0.575936069751686, -0.937175353687335 L 0.5953193077129945, -0.9249837414052862 L 0.6144445680749409, -0.912391293669114 L 0.6333035630351806, -0.8994034673309556 L 0.651888120175679, -0.8860258905775945 L 0.6701901860041771, -0.8722643604915236 L 0.6882018294441171, -0.8581248405388172 L 0.6256380267673791, -0.7801134913989247 L 0.6092638054583428, -0.7929676004468396 L 0.5926255637960718, -0.8054780823432677 L 0.5757305118501642, -0.817639515755414 L 0.558585970977219, -0.8294466306082854 L 0.5411993706481767, -0.8408943103684419 L 0.5235782452288054, -0.8519775942612136 L 0.5057302307147383, -0.8626916794204158 L 0.4876630614224644, -0.8730319229696413 L 0.4693845666377145, -0.882993844034218 L 0.45090266722269395, -0.8925731256829664 L 0.43222537218363, -0.9017656167989122 L 0.41336077520012415, -0.9105673338781446 L 0.3943170511178075, -0.9189744627560422 L 0.3751024524058315, -0.9269833602601133 L 0.35572530558071286, -0.9345905557887414 L 0.3361940075980947, -0.9417927528151468 L 0.31651702221398287, -0.9485868303159143 L 0.29670287631703396, -0.954969844123467 L 0.27676015623348615, -0.9609390282019022 L 0.2566975040063326, -0.966491795845634 L 0.23652361365035124, -0.9716257408003245 L 0.216247227384609, -0.9763386383056184 L 0.1958771318440853, -0.9806284460592273 L 0.17542215427203972, -0.9844933051019477 L 0.15489115869478662, -0.9879315406232289 L 0.13429304208052928, -0.9909416626869401 L 0.11363673048391877, -0.9935223668770247 L 0.0929311751780095, -0.9956725348627601 L 0.07218534877528186, -0.9973912348833786 L 0.05140824133942657, -0.9986777221518398 L 0.03060885648955783, -0.9995314391775787 L 0.009796207498556656, -0.9999520160080909 L 0.010775828248412321 ,-1.0999472176089",
          "type": "path"
         },
         {
          "fillcolor": "#c6decd",
          "layer": "below",
          "line": {
           "color": "rgb(150,150,150)",
           "width": 0.45
          },
          "path": "M 0.7148165960102152, -0.836084465869549 L 0.7323299937490336, -0.8207879021132929 L 0.7495161404713873, -0.8051245587937781 L 0.766367356327984, -0.7891014352761354 L 0.7828761111376696, -0.772725691697875 L 0.7990350277523842, -0.756004645769288 L 0.8148368853537382, -0.7389457695034319 L 0.8302746226797229, -0.7215566858771693 L 0.8453413411801288, -0.7038451654247412 L 0.8600303080992501, -0.6858191227654047 L 0.8743349594845021, -0.6674866130666847 L 0.8882489031196085, -0.6488558284448193 L 0.9017659213810433, -0.6299350943040071 L 0.9148799740164567, -0.6107328656160953 L 0.9275852008438382, -0.5912577231423676 L 0.9398759243702153, -0.5715183695991176 L 0.9517466523287114, -0.5515236257687346 L 0.9631920801328371, -0.5312824265580207 L 0.974207093246912, -0.5108038170055141 L 0.9847867694715606, -0.4900969482395984 L 0.8952606995196005, -0.4455426802178167 L 0.8856428120426472, -0.4643671063686492 L 0.8756291637571245, -0.48298402414365516 L 0.8652242293897375, -0.5013851143352133 L 0.8544326585183775, -0.5195621541810159 L 0.8432592734943983, -0.5375070210385159 L 0.8317090672876879, -0.555211696014632 L 0.8197872012554939, -0.5726682675490973 L 0.8074990028360076, -0.5898689349498356 L 0.7948499631677292, -0.6068060118788042 L 0.7818457346356819, -0.6234719297867315 L 0.7684921283455716, -0.6398592412952192 L 0.7547951115270207, -0.6559606235246993 L 0.7407608048670347, -0.6717688813667563 L 0.7263954797748947, -0.6872769506993527 L 0.7117055555796996, -0.7024779015435226 L 0.6966975966618036, -0.7173649411601231 L 0.6813783095194429, -0.7319314170852528 L 0.6657545397718487, -0.7461708201029935 L 0.6498332691001956, -0.7600767871541354 L 0.7148165960102152 ,-0.836084465869549",
          "type": "path"
         },
         {
          "fillcolor": "#b8d7c5",
          "layer": "below",
          "line": {
           "color": "rgb(150,150,150)",
           "width": 0.45
          },
          "path": "M 0.9996951538142801, -0.45892221502150365 L 1.01562641230414, -0.4224961427400503 L 1.0302309238169567, -0.38551814952250957 L 1.0434896099876276, -0.3480365409664181 L 1.0553851505480076, -0.3101002805589826 L 0.959441045952734, -0.28190934596271144 L 0.9486269181705704, -0.31639685542401647 L 0.9365735671063242, -0.3504710450204632 L 0.9232967384583092, -0.3840874024909548 L 0.9088137761948, -0.41720201365591236 L 0.9996951538142801 ,-0.45892221502150365",
          "type": "path"
         },
         {
          "fillcolor": "#aad0bc",
          "layer": "below",
          "line": {
           "color": "rgb(150,150,150)",
           "width": 0.45
          },
          "path": "M 1.0646048668880068, -0.2767968160914597 L 1.0719253658722585, -0.2469332095924425 L 1.0784083237690296, -0.21687666362629293 L 1.0840486751663245, -0.18665066265657054 L 1.0888420130166063, -0.1562788235492721 L 0.9898563754696421, -0.14207165777206554 L 0.9854987956057495, -0.1696824205968823 L 0.9803712034263904, -0.19716060329662993 L 0.9744776053384167, -0.2244847359931295 L 0.9678226062618244, -0.2516334691740542 L 1.0646048668880068 ,-0.2767968160914597",
          "type": "path"
         },
         {
          "fillcolor": "#9cc9b4",
          "layer": "below",
          "line": {
           "color": "rgb(150,150,150)",
           "width": 0.45
          },
          "path": "M 1.093213571687447, -0.12200035523872739 L 1.095427823603338, -0.10018923732444908 L 1.0972069573052905, -0.07833832293881952 L 1.0985502660982016, -0.056456291549928234 L 1.0994572164023046, -0.03455183498594413 L 0.9995065603657315, -0.031410759078131026 L 0.9986820600892742, -0.051323901409025666 L 0.9974608702775367, -0.07121665721710865 L 0.9958434760030344, -0.09108112484040824 L 0.9938305197158607, -0.11090941385338852 L 1.093213571687447 ,-0.12200035523872739",
          "type": "path"
         }
        ],
        "showlegend": false,
        "title": "Data Jobs ‒ Technologies in Demand",
        "titlefont": {
         "color": "#655643",
         "family": "Merryweather",
         "size": 18
        },
        "xaxis": {
         "showgrid": false,
         "showline": false,
         "showticklabels": false,
         "title": "",
         "zeroline": false
        },
        "yaxis": {
         "showgrid": false,
         "showline": false,
         "showticklabels": false,
         "title": "",
         "zeroline": false
        }
       }
      },
      "text/html": [
       "<div id=\"ee736180-ea5b-481b-8969-059d6df6fdf4\" style=\"height: 525px; width: 100%;\" class=\"plotly-graph-div\"></div><script type=\"text/javascript\">require([\"plotly\"], function(Plotly) { window.PLOTLYENV=window.PLOTLYENV || {};window.PLOTLYENV.BASE_URL=\"https://plot.ly\";Plotly.newPlot(\"ee736180-ea5b-481b-8969-059d6df6fdf4\", [{\"hoverinfo\": \"text\", \"line\": {\"color\": \"#f2e6ce\", \"shape\": \"spline\", \"width\": 0.25}, \"mode\": \"lines\", \"text\": \"Power BI<br>836\", \"x\": [1.1, 1.0997136679564712, 1.0988548208914104, 1.0974239059237911, 1.0954216679932613, 1.0928491494723278, 1.0897076896236901, 1.0859989239030179, 1.0817247831075252, 1.076887492370791, 1.0714895700043454, 1.0655338261866287], \"y\": [0.0, 0.025096782856060512, 0.050180500233718894, 0.07523809345650961, 0.10025651744829919, 0.1252227475246014, 0.15012378617327635, 0.17494666982108348, 0.19967847558256618, 0.22430632798775385, 0.24881740568517938, 0.2731989481167224], \"type\": \"scatter\", \"uid\": \"4cb5950a-0a58-49b0-8019-842ce4f275fa\"}, {\"hoverinfo\": \"text\", \"line\": {\"color\": \"#ecd5bb\", \"shape\": \"spline\", \"width\": 0.25}, \"mode\": \"lines\", \"text\": \"Excel<br>2966\", \"x\": [1.056426663225442, 1.049872204819657, 1.0428701048640432, 1.0354233488942326, 1.0275351120370337, 1.0192087576566315, 1.0104478359205245, 1.001256082285815, 0.991637415906495, 0.9815959379624087, 0.9711359299106028, 0.9602618516598107, 0.9489783396688501, 0.9372902049697418, 0.9252024311163957, 0.9127201720597372, 0.8998487499501804, 0.8865936528683842, 0.8729605324852601, 0.8589552016522288, 0.8445836319227529, 0.8298519510062027, 0.8147664401551412, 0.7993335314871404, 0.7835598052422742, 0.7674519869774536, 0.7510169446988031, 0.734261685933299, 0.7171933547409203, 0.6998192286685845, 0.6821467156471678, 0.6641833508329319, 0.6459367933947057, 0.6274148232481906, 0.6086253377387818, 0.5895763482743206, 0.5702759769092125, 0.5507324528813691, 0.5309541091034484, 0.5109493786098915, 0.4907267909612685, 0.47029496860746905, 0.4496626232112863, 0.4288385519339627, 0.40783163368428127, 0.38665082533280115, 0.365305157892853, 0.34380373266992076], \"y\": [0.3065333672316256, 0.32828090646139074, 0.34988847420408065, 0.37134685748589913, 0.3926469069418997, 0.4137795407170659, 0.43473574833860723, 0.455506594557819, 0.4760832231598684, 0.49645686073988265, 0.5166188204437282, 0.5365605056718876, 0.5562734137448532, 0.5757491395284752, 0.5949793790177198, 0.6139559328773067, 0.6326707099377196, 0.6511157306450946, 0.6692831304635217, 0.6871651632283022, 0.7047542044487369, 0.7220427545590351, 0.7390234421159582, 0.7556890269418347, 0.7720324032116072, 0.7880466024825934, 0.8037247966656716, 0.819060300936622, 0.8340465765863826, 0.8486772338090067, 0.8629460344261293, 0.8768468945467839, 0.8903738871614361, 0.9035212446691234, 0.9162833613366304, 0.9286547956886441, 0.9406302728278756, 0.9522046866841555, 0.9633731021915464, 0.9741307573925412, 0.9844730654684544, 0.9943956166951361, 1.0038941803231778, 1.012964706381808, 1.0216033274057061, 1.0298063600840033, 1.0375703068307602, 1.0448918572762589], \"type\": \"scatter\", \"uid\": \"ffde2b08-0596-424d-b70e-5ff4f3d21790\"}, {\"hoverinfo\": \"text\", \"line\": {\"color\": \"#e6c4a9\", \"shape\": \"spline\", \"width\": 0.25}, \"mode\": \"lines\", \"text\": \"SSIS/SSRS<br>1548\", \"x\": [0.31081323989020937, 0.2881950173572104, 0.26544518930488187, 0.24257414454203471, 0.21959232723162206, 0.19651023212136717, 0.17333839975129042, 0.15008741164032646, 0.1267678854542255, 0.10339047015695084, 0.0799658411477822, 0.05650469538634872, 0.03301774650781396, 0.009515719930448164, -0.013990652042180373, -0.03749063512216027, -0.06097349793909577, -0.08442851694063434, -0.10784498128942423, -0.13121219775426424, -0.1545194955932163, -0.1777562314264457, -0.20091179409656668, -0.2239756095142752], \"y\": [1.0551754024374105, 1.0615760132795378, 1.0674918507768083, 1.0729202134360691, 1.0778586223716913, 1.0823048224375638, 1.0862567832569157, 1.089712700149497, 1.0926709949556932, 1.0951303167571997, 1.0970895424939242, 1.098547777476836, 1.0995043557965316, 1.0999588406273235, 1.0999110244267192, 1.0993609290301967, 1.098308805641233, 1.0967551347165898, 1.0947006257469134, 1.0921462169327403, 1.0890930747560643, 1.0855425934476584, 1.0814963943503921, 1.076956325178839], \"type\": \"scatter\", \"uid\": \"fe945670-3d71-4277-838f-7f508215dc7f\"}, {\"hoverinfo\": \"text\", \"line\": {\"color\": \"#e1b396\", \"shape\": \"spline\", \"width\": 0.25}, \"mode\": \"lines\", \"text\": \"MS SQL Server<br>1238\", \"x\": [-0.25769310673929036, -0.2806110988263204, -0.3033995258401496, -0.3260478658013324, -0.3485456614120734, -0.3708825248846219, -0.393048142737569, -0.4150322805578367, -0.4368247877261592, -0.45841560210387444, -0.4797947546788621, -0.5009523741684826, -0.5218786915773921, -0.5425640447081277, -0.5629988826223851, -0.5831737700509203, -0.6030793917500479, -0.6227065568027177, -0.6420462028621897], \"y\": [1.0693896683337898, 1.0636058533194923, 1.0573309452200728, 1.0505678413155415, 1.043319664297966, 1.0355897608296483, 1.0273816999978869, 1.0186992716670418, 1.0095464847286608, 0.9999275652504748, 0.9898469545251178, 0.9793093070194733, 0.9683194882255906, 0.9568825724141687, 0.9450038402916392, 0.9326887765619336, 0.9199430673940603, 0.9067725977966603, 0.8931834489007531], \"type\": \"scatter\", \"uid\": \"e0b7e895-a75b-475f-b61c-6260b686c404\"}, {\"hoverinfo\": \"text\", \"line\": {\"color\": \"#dba284\", \"shape\": \"spline\", \"width\": 0.25}, \"mode\": \"lines\", \"text\": \"PostgreSQL<br>297\", \"x\": [-0.6697849619446591, -0.6847176314806419, -0.6994470770285418, -0.7139689268933284, -0.7282788709943088], \"y\": [0.8725755581912616, 0.8609075241508464, 0.8489839730149382, 0.8368084436899459, 0.8243845498693283], \"type\": \"scatter\", \"uid\": \"c001d5af-c6ad-4426-8fec-f729e390f3d5\"}, {\"hoverinfo\": \"text\", \"line\": {\"color\": \"#d59171\", \"shape\": \"spline\", \"width\": 0.25}, \"mode\": \"lines\", \"text\": \"MySQL/MariaDB<br>509\", \"x\": [-0.7538140538182364, -0.7814872632254792, -0.8081960269753633, -0.8339073833647057, -0.8585896016063511], \"y\": [0.8011019737000509, 0.7741302586880006, 0.7462031774129873, 0.717355195122911, 0.6876219135640222], \"type\": \"scatter\", \"uid\": \"f3bca7a7-6b51-43f4-8d99-b4e2bf5c1f93\"}, {\"hoverinfo\": \"text\", \"line\": {\"color\": \"#d0805f\", \"shape\": \"spline\", \"width\": 0.25}, \"mode\": \"lines\", \"text\": \"T-SQL<br>912\", \"x\": [-0.8797646657311486, -0.8947531982593289, -0.9092661512263128, -0.9232958107018037, -0.9368347196358465, -0.9498756818224007, -0.9624117657242715, -0.9744363081573615, -0.9859429178322909, -0.9969254787514968, -1.0073781534600104, -1.0172953861481842, -1.026671905604717], \"y\": [0.6603136625354351, 0.6398567919501225, 0.6190598244387115, 0.5979338140133066, 0.5764899895790255, 0.5547397489656115, 0.5326946528692496, 0.5103664187078258, 0.4877669143928776, 0.46490815202155694, 0.4418022814919589, 0.41846158404519895, 0.39489846573768694], \"type\": \"scatter\", \"uid\": \"5b1cdf5a-ed44-40a2-bd59-aaf9afbb631b\"}, {\"hoverinfo\": \"text\", \"line\": {\"color\": \"#ca6f4c\", \"shape\": \"spline\", \"width\": 0.25}, \"mode\": \"lines\", \"text\": \"PL/SQL<br>263\", \"x\": [-1.0385693655627106, -1.0436658290912944, -1.0485471800874104, -1.0532124124437927, -1.0576605645979191], \"y\": [0.3624550633039477, 0.3475077512620139, 0.3324888135422603, 0.31740134573490153, 0.3022484575550573], \"type\": \"scatter\", \"uid\": \"abfc1bab-bf5f-47dc-835d-777d750a1c11\"}, {\"hoverinfo\": \"text\", \"line\": {\"color\": \"#c45e3a\", \"shape\": \"spline\", \"width\": 0.25}, \"mode\": \"lines\", \"text\": \"Pentaho<br>460\", \"x\": [-1.0666325264377414, -1.074452422786308, -1.081240274648946, -1.086989562085882, -1.091694762730307], \"y\": [0.268877395005681, 0.23569469906774096, 0.20228561114689247, 0.16868222169613079, 0.13491680780102494], \"type\": \"scatter\", \"uid\": \"83e5e0fd-811c-44ff-9753-ff6154ca8604\"}, {\"hoverinfo\": \"text\", \"line\": {\"color\": \"#bf4d28\", \"shape\": \"spline\", \"width\": 0.25}, \"mode\": \"lines\", \"text\": \"Hadoop<br>519\", \"x\": [-1.0953939166112807, -1.098302082501939, -1.0997888755010194, -1.0998523714682535, -1.0984924882300313], \"y\": [0.10055927332175103, 0.061094480699194716, 0.021550622362319583, -0.018021125815529577, -0.057569551867236946], \"type\": \"scatter\", \"uid\": \"757b1278-7d51-4a11-af06-59d744af4349\"}, {\"hoverinfo\": \"text\", \"line\": {\"color\": \"#af4624\", \"shape\": \"spline\", \"width\": 0.25}, \"mode\": \"lines\", \"text\": \"Spark<br>564\", \"x\": [-1.096142145174455, -1.0916148145699758, -1.0853605813824627, -1.0773893396251728, -1.0677136995685026], \"y\": [-0.09204562766554557, -0.1355621503641699, -0.17886421772149588, -0.2218833271384629, -0.2645514236471648], \"type\": \"scatter\", \"uid\": \"0d444b94-d63e-447f-a890-eea7b9dfda10\"}, {\"hoverinfo\": \"text\", \"line\": {\"color\": \"#9f4021\", \"shape\": \"spline\", \"width\": 0.25}, \"mode\": \"lines\", \"text\": \"Informatica<br>631\", \"x\": [-1.0588770862791272, -1.0442512905482206, -1.0274701898696994, -1.0085684199578269, -0.9875849935278168], \"y\": [-0.2979585812709982, -0.3457444752825064, -0.39281676253582165, -0.43907828716958053, -0.48443356671339605], \"type\": \"scatter\", \"uid\": \"2b0a0156-d25e-4f31-b788-56d9c2ef933f\"}, {\"hoverinfo\": \"text\", \"line\": {\"color\": \"#8f391e\", \"shape\": \"spline\", \"width\": 0.25}, \"mode\": \"lines\", \"text\": \"Qlik<br>1325\", \"x\": [-0.9718812538964087, -0.9603637258285753, -0.9483854465917689, -0.9359521629733905, -0.9230698400570931, -0.9097446583609272, -0.8959830108721311, -0.8817914999799837, -0.8671769343081946, -0.852146325448347, -0.8367068845959669, -0.8208660190908247, -0.804631328863138, -0.7880106027873702, -0.7710118149453855, -0.7536431208007421, -0.7359128532859699, -0.7178295188046987, -0.6994017931505644, -0.6806385173448474], \"y\": [-0.5152153222922866, -0.5363781447007859, -0.5572836303830674, -0.5779217495694656, -0.5982826007640308, -0.6183564154949476, -0.6381335630011249, -0.657604554852725, -0.6767600495033976, -0.695590856772054, -0.7140879422520111, -0.7322424316454094, -0.750045615020807, -0.7674889509919252, -0.7845640708155216, -0.8012627824064451, -0.8175770742679265, -0.8334991193352366, -0.8490212787308545, -0.8641361054293519], \"type\": \"scatter\", \"uid\": \"8482878f-846a-4e64-a216-f0a9678aef50\"}, {\"hoverinfo\": \"text\", \"line\": {\"color\": \"#f0f3e7\", \"shape\": \"spline\", \"width\": 0.25}, \"mode\": \"lines\", \"text\": \"Tableau<br>1681\", \"x\": [-0.6531594923054266, -0.6340188670986722, -0.6145863376906574, -0.5948708508766114, -0.5748814837262075, -0.5546274394044526, -0.5341180429345244, -0.513362736904499, -0.4923710771199573, -0.4711527282044627, -0.4497174591499389, -0.42807513881899684, -0.4062357314012806, -0.38420929182592317, -0.36200596113223055, -0.3396359618007112, -0.3171095930466187, -0.29443722607816086, -0.2716292993215647, -0.2486963136151928, -0.22564882737492592, -0.20249745173303568, -0.1792528456527907, -0.15592571102103217, -0.13252678772099655, -0.10906684868764008], \"y\": [-0.885089078913144, -0.8988993693194565, -0.9122958037413005, -0.9252722144198087, -0.9378226269763138, -0.9499412631629708, -0.961622543523078, -0.9728610899598783, -0.9836517282126501, -0.9939894902389521, -1.0038696165019256, -1.0132875581615994, -1.0222389791691895, -1.0307197582634295, -1.0387259908680104, -1.046253990889261, -1.0533002924132358, -1.059861651301432, -1.0659350466844009, -1.0715176823525656, -1.076606988043604, -1.0812006206258056, -1.0852964651768553, -1.088892635957552, -1.0919874772800071, -1.094579564269929], \"type\": \"scatter\", \"uid\": \"ca2a3aba-78ce-43c4-a612-3c8ccbce0843\"}, {\"hoverinfo\": \"text\", \"line\": {\"color\": \"#e2ecde\", \"shape\": \"spline\", \"width\": 0.25}, \"mode\": \"lines\", \"text\": \"Microstrategy<br>230\", \"x\": [-0.07463145579658764, -0.06192924146064776, -0.04921873728914692, -0.036501644707565006, -0.023779666023308034], \"y\": [-1.097465327837596, -1.0982553296260888, -1.09889831918138, -1.0993942104330197, -1.0997429370011067], \"type\": \"scatter\", \"uid\": \"c786eb70-647a-4312-a9b0-5aae15b5f593\"}, {\"hoverinfo\": \"text\", \"line\": {\"color\": \"#d4e5d6\", \"shape\": \"spline\", \"width\": 0.25}, \"mode\": \"lines\", \"text\": \"Oracle BI<br>2065\", \"x\": [0.010775828248412321, 0.03366974213851361, 0.056549065473369235, 0.07940388365281005, 0.10222429269581046, 0.12500040353231065, 0.14772234628858222, 0.1703802745642653, 0.19296436969924372, 0.21546484502849386, 0.23787195012306991, 0.26017597501538636, 0.2823672544069659, 0.3044361718568348, 0.3263731639487374, 0.34816872443538116, 0.3698134083579042, 0.39129783613878416, 0.4126126976464147, 0.4337487562295883, 0.4546968527201366, 0.47544790940199305, 0.4959929339449634, 0.5163230233014859, 0.5364293675647109, 0.5563032537862123, 0.575936069751686, 0.5953193077129945, 0.6144445680749409, 0.6333035630351806, 0.651888120175679, 0.6701901860041771, 0.6882018294441171], \"y\": [-1.0999472176089, -1.0994845830953366, -1.0985454943670239, -1.0971303583717165, -1.0952397883490361, -1.0928746035647272, -1.0900358289556342, -1.0867246946855518, -1.0829426356121425, -1.07869129066515, -1.0739725021361803, -1.068788314880357, -1.0631409754301975, -1.0570329310220925, -1.0504668285358139, -1.0434455133475058, -1.0359720280966616, -1.0280496113676156, -1.0196816962861248, -1.0108719090316465, -1.001624067265959, -0.9919421784788035, -0.9818304382512631, -0.9712932284376399, -0.9603351152666054, -0.9489608473624574, -0.937175353687335, -0.9249837414052862, -0.912391293669114, -0.8994034673309556, -0.8860258905775945, -0.8722643604915236, -0.8581248405388172], \"type\": \"scatter\", \"uid\": \"b3424c19-40b8-4c28-9d4e-5ca16061b973\"}, {\"hoverinfo\": \"text\", \"line\": {\"color\": \"#c6decd\", \"shape\": \"spline\", \"width\": 0.25}, \"mode\": \"lines\", \"text\": \"Python<br>1282\", \"x\": [0.7148165960102152, 0.7323299937490336, 0.7495161404713873, 0.766367356327984, 0.7828761111376696, 0.7990350277523842, 0.8148368853537382, 0.8302746226797229, 0.8453413411801288, 0.8600303080992501, 0.8743349594845021, 0.8882489031196085, 0.9017659213810433, 0.9148799740164567, 0.9275852008438382, 0.9398759243702153, 0.9517466523287114, 0.9631920801328371, 0.974207093246912, 0.9847867694715606], \"y\": [-0.836084465869549, -0.8207879021132929, -0.8051245587937781, -0.7891014352761354, -0.772725691697875, -0.756004645769288, -0.7389457695034319, -0.7215566858771693, -0.7038451654247412, -0.6858191227654047, -0.6674866130666847, -0.6488558284448193, -0.6299350943040071, -0.6107328656160953, -0.5912577231423676, -0.5715183695991176, -0.5515236257687346, -0.5312824265580207, -0.5108038170055141, -0.4900969482395984], \"type\": \"scatter\", \"uid\": \"9dcca9e1-a24f-405d-8a5a-c8b4192663a6\"}, {\"hoverinfo\": \"text\", \"line\": {\"color\": \"#b8d7c5\", \"shape\": \"spline\", \"width\": 0.25}, \"mode\": \"lines\", \"text\": \"VBA<br>521\", \"x\": [0.9996951538142801, 1.01562641230414, 1.0302309238169567, 1.0434896099876276, 1.0553851505480076], \"y\": [-0.45892221502150365, -0.4224961427400503, -0.38551814952250957, -0.3480365409664181, -0.3101002805589826], \"type\": \"scatter\", \"uid\": \"e87aabe6-b141-4bdd-953f-0be7ca192937\"}, {\"hoverinfo\": \"text\", \"line\": {\"color\": \"#aad0bc\", \"shape\": \"spline\", \"width\": 0.25}, \"mode\": \"lines\", \"text\": \"Linux<br>424\", \"x\": [1.0646048668880068, 1.0719253658722585, 1.0784083237690296, 1.0840486751663245, 1.0888420130166063], \"y\": [-0.2767968160914597, -0.2469332095924425, -0.21687666362629293, -0.18665066265657054, -0.1562788235492721], \"type\": \"scatter\", \"uid\": \"16142f3a-e365-461e-bc27-b8e4dd92c8bb\"}, {\"hoverinfo\": \"text\", \"line\": {\"color\": \"#9cc9b4\", \"shape\": \"spline\", \"width\": 0.25}, \"mode\": \"lines\", \"text\": \"AWS<br>329\", \"x\": [1.093213571687447, 1.095427823603338, 1.0972069573052905, 1.0985502660982016, 1.0994572164023046], \"y\": [-0.12200035523872739, -0.10018923732444908, -0.07833832293881952, -0.056456291549928234, -0.03455183498594413], \"type\": \"scatter\", \"uid\": \"17d69477-6d28-4728-ae37-2aaea2d38f94\"}, {\"hoverinfo\": \"text\", \"marker\": {\"color\": \"green\", \"size\": 0.5}, \"mode\": \"markers\", \"text\": \"Power BI appears with Excel 156 times\", \"x\": [0.8767953655720315], \"y\": [0.203051439077411], \"type\": \"scatter\", \"uid\": \"878b16bf-bef1-456e-a978-632cf39d40bd\"}, {\"hoverinfo\": \"text\", \"marker\": {\"color\": \"blue\", \"size\": 0.5}, \"mode\": \"markers\", \"text\": \"Excel appears with Power BI 156 times\", \"x\": [0.7699985505944414], \"y\": [0.46594230552983645], \"type\": \"scatter\", \"uid\": \"9227e7d1-83c7-40f7-b3d8-f3a6e952e125\"}, {\"hoverinfo\": \"text\", \"marker\": {\"color\": \"green\", \"size\": 0.5}, \"mode\": \"markers\", \"text\": \"Power BI appears with SSIS/SSRS 90 times\", \"x\": [0.8960797237381709], \"y\": [0.08391143369841396], \"type\": \"scatter\", \"uid\": \"3672fa0f-f6c4-43b3-afd5-8155854d3107\"}, {\"hoverinfo\": \"text\", \"marker\": {\"color\": \"blue\", \"size\": 0.5}, \"mode\": \"markers\", \"text\": \"SSIS/SSRS appears with Power BI 90 times\", \"x\": [0.1333011786535946], \"y\": [0.8900734777362835], \"type\": \"scatter\", \"uid\": \"063cd4d5-41d1-406c-96ee-ff61450d1e02\"}, {\"hoverinfo\": \"text\", \"marker\": {\"color\": \"green\", \"size\": 0.5}, \"mode\": \"markers\", \"text\": \"Power BI appears with MS SQL Server 85 times\", \"x\": [0.8979746339190786], \"y\": [0.060345313305151124], \"type\": \"scatter\", \"uid\": \"00836f3e-8a53-46f2-9544-cc17f84da90a\"}, {\"hoverinfo\": \"text\", \"marker\": {\"color\": \"blue\", \"size\": 0.5}, \"mode\": \"markers\", \"text\": \"MS SQL Server appears with Power BI 85 times\", \"x\": [-0.3561830735928789], \"y\": [0.8265189762406728], \"type\": \"scatter\", \"uid\": \"0e095f8d-d171-4054-9ba2-aa3348039495\"}, {\"hoverinfo\": \"text\", \"marker\": {\"color\": \"green\", \"size\": 0.5}, \"mode\": \"markers\", \"text\": \"Power BI appears with MySQL/MariaDB 5 times\", \"x\": [0.8999977184301038], \"y\": [0.002026529202268068], \"type\": \"scatter\", \"uid\": \"530fccc3-5609-4bdd-af3f-7834071c5ca0\"}, {\"hoverinfo\": \"text\", \"marker\": {\"color\": \"blue\", \"size\": 0.5}, \"mode\": \"markers\", \"text\": \"MySQL/MariaDB appears with Power BI 5 times\", \"x\": [-0.6181128221930339], \"y\": [0.6541685861003743], \"type\": \"scatter\", \"uid\": \"0121126b-a80a-4204-9e94-6379a5afa853\"}, {\"hoverinfo\": \"text\", \"marker\": {\"color\": \"green\", \"size\": 0.5}, \"mode\": \"markers\", \"text\": \"Power BI appears with T-SQL 30 times\", \"x\": [0.899415981033337], \"y\": [0.032417480806503356], \"type\": \"scatter\", \"uid\": \"5c4ee507-ff28-4e60-ab25-3bae2ae3eb65\"}, {\"hoverinfo\": \"text\", \"marker\": {\"color\": \"blue\", \"size\": 0.5}, \"mode\": \"markers\", \"text\": \"T-SQL appears with Power BI 30 times\", \"x\": [-0.7473087855309484], \"y\": [0.5015272465861242], \"type\": \"scatter\", \"uid\": \"e53c07f5-d51a-4fb0-8eb5-42b97986c831\"}, {\"hoverinfo\": \"text\", \"marker\": {\"color\": \"green\", \"size\": 0.5}, \"mode\": \"markers\", \"text\": \"Power BI appears with PL/SQL 3 times\", \"x\": [0.899999503124614], \"y\": [0.0009457142528405403], \"type\": \"scatter\", \"uid\": \"e72532c8-6d90-4fa9-beea-764290d68046\"}, {\"hoverinfo\": \"text\", \"marker\": {\"color\": \"blue\", \"size\": 0.5}, \"mode\": \"markers\", \"text\": \"PL/SQL appears with Power BI 3 times\", \"x\": [-0.8500941039064684], \"y\": [0.2955334405840709], \"type\": \"scatter\", \"uid\": \"d8e393f8-7529-43ab-adf7-1511ca958477\"}, {\"hoverinfo\": \"text\", \"marker\": {\"color\": \"green\", \"size\": 0.5}, \"mode\": \"markers\", \"text\": \"Power BI appears with Pentaho 7 times\", \"x\": [0.8999861179445423], \"y\": [0.004998750555112635], \"type\": \"scatter\", \"uid\": \"09513c02-2d70-4b3f-9e78-724cd7c19c32\"}, {\"hoverinfo\": \"text\", \"marker\": {\"color\": \"blue\", \"size\": 0.5}, \"mode\": \"markers\", \"text\": \"Pentaho appears with Power BI 7 times\", \"x\": [-0.8734355074219028], \"y\": [0.21704933626860798], \"type\": \"scatter\", \"uid\": \"087acc67-6859-4ba5-8379-c77809cca92d\"}, {\"hoverinfo\": \"text\", \"marker\": {\"color\": \"green\", \"size\": 0.5}, \"mode\": \"markers\", \"text\": \"Power BI appears with Hadoop 17 times\", \"x\": [0.8998965606288425], \"y\": [0.013644785391500982], \"type\": \"scatter\", \"uid\": \"9d430fac-e002-451b-8bbb-29170f1c514b\"}, {\"hoverinfo\": \"text\", \"marker\": {\"color\": \"blue\", \"size\": 0.5}, \"mode\": \"markers\", \"text\": \"Hadoop appears with Power BI 17 times\", \"x\": [-0.8974102886446829], \"y\": [0.06822590295970468], \"type\": \"scatter\", \"uid\": \"ac5ae9d6-3547-4efc-a2b5-e6823dd86dab\"}, {\"hoverinfo\": \"text\", \"marker\": {\"color\": \"green\", \"size\": 0.5}, \"mode\": \"markers\", \"text\": \"Power BI appears with Spark 22 times\", \"x\": [0.8998012571422968], \"y\": [0.01891289626530949], \"type\": \"scatter\", \"uid\": \"874aaa94-e9e1-4932-bc07-bc6723120c5d\"}, {\"hoverinfo\": \"text\", \"marker\": {\"color\": \"blue\", \"size\": 0.5}, \"mode\": \"markers\", \"text\": \"Spark appears with Power BI 22 times\", \"x\": [-0.8941332266421028], \"y\": [-0.10259519001679367], \"type\": \"scatter\", \"uid\": \"22b5a2be-7032-4497-a343-a5eb42cb9d58\"}, {\"hoverinfo\": \"text\", \"marker\": {\"color\": \"green\", \"size\": 0.5}, \"mode\": \"markers\", \"text\": \"Power BI appears with Informatica 7 times\", \"x\": [0.8999736251696776], \"y\": [0.0068901378033193955], \"type\": \"scatter\", \"uid\": \"170e3403-3e62-4298-94ad-522dd0c73a44\"}, {\"hoverinfo\": \"text\", \"marker\": {\"color\": \"blue\", \"size\": 0.5}, \"mode\": \"markers\", \"text\": \"Informatica appears with Power BI 7 times\", \"x\": [-0.8652570285487059], \"y\": [-0.2476494993878727], \"type\": \"scatter\", \"uid\": \"1b7fa711-7fb8-4119-beb3-3a7665d28980\"}, {\"hoverinfo\": \"text\", \"marker\": {\"color\": \"green\", \"size\": 0.5}, \"mode\": \"markers\", \"text\": \"Power BI appears with Qlik 115 times\", \"x\": [0.889696059610616], \"y\": [0.13579735458889938], \"type\": \"scatter\", \"uid\": \"2cf55717-525d-498e-9984-b7c1a18ac187\"}, {\"hoverinfo\": \"text\", \"marker\": {\"color\": \"blue\", \"size\": 0.5}, \"mode\": \"markers\", \"text\": \"Qlik appears with Power BI 115 times\", \"x\": [-0.7272799547820217], \"y\": [-0.5301545693213069], \"type\": \"scatter\", \"uid\": \"95dbd50b-ff1c-422c-820c-3344fa63c44a\"}, {\"hoverinfo\": \"text\", \"marker\": {\"color\": \"green\", \"size\": 0.5}, \"mode\": \"markers\", \"text\": \"Power BI appears with Tableau 118 times\", \"x\": [0.8844031729176839], \"y\": [0.16682634004596908], \"type\": \"scatter\", \"uid\": \"2bfab390-1fef-40ad-9aa6-b168cd042aa8\"}, {\"hoverinfo\": \"text\", \"marker\": {\"color\": \"blue\", \"size\": 0.5}, \"mode\": \"markers\", \"text\": \"Tableau appears with Power BI 118 times\", \"x\": [-0.3546406968939142], \"y\": [-0.827181948610219], \"type\": \"scatter\", \"uid\": \"dcdb9179-3cd1-4cd2-b54b-5d142d67fb74\"}, {\"hoverinfo\": \"text\", \"marker\": {\"color\": \"green\", \"size\": 0.5}, \"mode\": \"markers\", \"text\": \"Power BI appears with Microstrategy 13 times\", \"x\": [0.8999488831562997], \"y\": [0.009592064727095216], \"type\": \"scatter\", \"uid\": \"ab8ea53e-85e6-4c77-94bc-09371c81c0f1\"}, {\"hoverinfo\": \"text\", \"marker\": {\"color\": \"blue\", \"size\": 0.5}, \"mode\": \"markers\", \"text\": \"Microstrategy appears with Power BI 13 times\", \"x\": [-0.05211576097442645], \"y\": [-0.8984898148883249], \"type\": \"scatter\", \"uid\": \"d2fd1f60-4d29-46b0-865d-eebc615bd57b\"}, {\"hoverinfo\": \"text\", \"marker\": {\"color\": \"green\", \"size\": 0.5}, \"mode\": \"markers\", \"text\": \"Power BI appears with Oracle BI 91 times\", \"x\": [0.8934693470283046], \"y\": [0.10822442386455573], \"type\": \"scatter\", \"uid\": \"9543d073-a5cf-458d-9afc-6c6c3f89f7f1\"}, {\"hoverinfo\": \"text\", \"marker\": {\"color\": \"blue\", \"size\": 0.5}, \"mode\": \"markers\", \"text\": \"Oracle BI appears with Power BI 91 times\", \"x\": [0.1264176203607371], \"y\": [-0.891077204995352], \"type\": \"scatter\", \"uid\": \"ddd71a70-862b-4963-88f0-ea8de794fdbb\"}, {\"hoverinfo\": \"text\", \"marker\": {\"color\": \"green\", \"size\": 0.5}, \"mode\": \"markers\", \"text\": \"Power BI appears with Python 46 times\", \"x\": [0.8989876185681631], \"y\": [0.04267624235031774], \"type\": \"scatter\", \"uid\": \"3d4a8828-c3a0-4d27-aa9b-e491cc484a4a\"}, {\"hoverinfo\": \"text\", \"marker\": {\"color\": \"blue\", \"size\": 0.5}, \"mode\": \"markers\", \"text\": \"Python appears with Power BI 46 times\", \"x\": [0.6321816429826362], \"y\": [-0.6405828363886865], \"type\": \"scatter\", \"uid\": \"9f5fa961-42a3-45f9-b147-0c3e85f5a3a6\"}, {\"hoverinfo\": \"text\", \"marker\": {\"color\": \"green\", \"size\": 0.5}, \"mode\": \"markers\", \"text\": \"Power BI appears with VBA 24 times\", \"x\": [0.8996492084548104], \"y\": [0.025125718430186895], \"type\": \"scatter\", \"uid\": \"87217e07-31cc-4c92-af03-2bcdbf47fba8\"}, {\"hoverinfo\": \"text\", \"marker\": {\"color\": \"blue\", \"size\": 0.5}, \"mode\": \"markers\", \"text\": \"VBA appears with Power BI 24 times\", \"x\": [0.8223545994983903], \"y\": [-0.3656951089143005], \"type\": \"scatter\", \"uid\": \"53ca5ed8-d136-4574-8da8-a0d9f4eab7f2\"}, {\"hoverinfo\": \"text\", \"marker\": {\"color\": \"green\", \"size\": 0.5}, \"mode\": \"markers\", \"text\": \"Power BI appears with Linux 2 times\", \"x\": [0.8999999594387406], \"y\": [0.0002702041179060665], \"type\": \"scatter\", \"uid\": \"2a00e229-39e9-4b76-9474-976c9b0a1e0b\"}, {\"hoverinfo\": \"text\", \"marker\": {\"color\": \"blue\", \"size\": 0.5}, \"mode\": \"markers\", \"text\": \"Linux appears with Power BI 2 times\", \"x\": [0.8711596700284484], \"y\": [-0.22601068407472438], \"type\": \"scatter\", \"uid\": \"6827425f-265d-4007-b8cc-e56768e3df5f\"}, {\"hoverinfo\": \"text\", \"marker\": {\"color\": \"green\", \"size\": 0.5}, \"mode\": \"markers\", \"text\": \"Power BI appears with AWS 5 times\", \"x\": [0.8999936623106043], \"y\": [0.003377543596461096], \"type\": \"scatter\", \"uid\": \"7e4ea528-e35d-4262-890d-7a069a97c6eb\"}, {\"hoverinfo\": \"text\", \"marker\": {\"color\": \"blue\", \"size\": 0.5}, \"mode\": \"markers\", \"text\": \"AWS appears with Power BI 5 times\", \"x\": [0.8946748804176846], \"y\": [-0.09775918549988866], \"type\": \"scatter\", \"uid\": \"497f03d3-d3ef-427e-b5d1-68030210998f\"}, {\"hoverinfo\": \"text\", \"marker\": {\"color\": \"green\", \"size\": 0.5}, \"mode\": \"markers\", \"text\": \"Excel appears with SSIS/SSRS 367 times\", \"x\": [0.4537658243589668], \"y\": [0.7772364998144563], \"type\": \"scatter\", \"uid\": \"8c85f3bc-6df9-45be-8433-0d71238687f2\"}, {\"hoverinfo\": \"text\", \"marker\": {\"color\": \"blue\", \"size\": 0.5}, \"mode\": \"markers\", \"text\": \"SSIS/SSRS appears with Excel 367 times\", \"x\": [-0.1316323913919113], \"y\": [0.890321803359014], \"type\": \"scatter\", \"uid\": \"cf75c59d-e8f8-4866-b705-0bdf6ffe6722\"}, {\"hoverinfo\": \"text\", \"marker\": {\"color\": \"green\", \"size\": 0.5}, \"mode\": \"markers\", \"text\": \"Excel appears with MS SQL Server 203 times\", \"x\": [0.7117991987866296], \"y\": [0.5507648323982862], \"type\": \"scatter\", \"uid\": \"63c78ba1-fd13-4ecc-9eb7-66d6e2400e38\"}, {\"hoverinfo\": \"text\", \"marker\": {\"color\": \"blue\", \"size\": 0.5}, \"mode\": \"markers\", \"text\": \"MS SQL Server appears with Excel 203 times\", \"x\": [-0.5018759138803468], \"y\": [0.7470746730192148], \"type\": \"scatter\", \"uid\": \"2b1131d1-f1d1-4132-8c1e-8e689aa8bf5c\"}, {\"hoverinfo\": \"text\", \"marker\": {\"color\": \"green\", \"size\": 0.5}, \"mode\": \"markers\", \"text\": \"Excel appears with PostgreSQL 39 times\", \"x\": [0.8570850875773721], \"y\": [0.2745999866214279], \"type\": \"scatter\", \"uid\": \"a1f23f41-3a62-496c-9a01-e5f8f87c4fb8\"}, {\"hoverinfo\": \"text\", \"marker\": {\"color\": \"blue\", \"size\": 0.5}, \"mode\": \"markers\", \"text\": \"PostgreSQL appears with Excel 39 times\", \"x\": [-0.5849106282002734], \"y\": [0.6840172198259057], \"type\": \"scatter\", \"uid\": \"b8bde05b-b72b-4eba-ae28-ff78181d155d\"}, {\"hoverinfo\": \"text\", \"marker\": {\"color\": \"green\", \"size\": 0.5}, \"mode\": \"markers\", \"text\": \"Excel appears with MySQL/MariaDB 81 times\", \"x\": [0.8217804609125439], \"y\": [0.3669834792771563], \"type\": \"scatter\", \"uid\": \"8aa608df-1a63-4638-8d62-9ba03c3e592f\"}, {\"hoverinfo\": \"text\", \"marker\": {\"color\": \"blue\", \"size\": 0.5}, \"mode\": \"markers\", \"text\": \"MySQL/MariaDB appears with Excel 81 times\", \"x\": [-0.6961479472963217], \"y\": [0.5704191752344216], \"type\": \"scatter\", \"uid\": \"b0ab813a-2116-4697-bd85-0f03665ca220\"}, {\"hoverinfo\": \"text\", \"marker\": {\"color\": \"green\", \"size\": 0.5}, \"mode\": \"markers\", \"text\": \"Excel appears with T-SQL 148 times\", \"x\": [0.7922111417098393], \"y\": [0.4270848943135228], \"type\": \"scatter\", \"uid\": \"49e6bc37-fb09-4b76-9fe1-0193f5e512ab\"}, {\"hoverinfo\": \"text\", \"marker\": {\"color\": \"blue\", \"size\": 0.5}, \"mode\": \"markers\", \"text\": \"T-SQL appears with Excel 148 times\", \"x\": [-0.8325401617211081], \"y\": [0.34187260656769675], \"type\": \"scatter\", \"uid\": \"f8292e13-1a51-49bf-90a7-50c29d4397f0\"}, {\"hoverinfo\": \"text\", \"marker\": {\"color\": \"green\", \"size\": 0.5}, \"mode\": \"markers\", \"text\": \"Excel appears with PL/SQL 47 times\", \"x\": [0.8531367047558992], \"y\": [0.28663175504163124], \"type\": \"scatter\", \"uid\": \"295ea13c-db0a-42dc-b5a9-f0cd8681ee6b\"}, {\"hoverinfo\": \"text\", \"marker\": {\"color\": \"blue\", \"size\": 0.5}, \"mode\": \"markers\", \"text\": \"PL/SQL appears with Excel 47 times\", \"x\": [-0.8600720188145099], \"y\": [0.2650964399088251], \"type\": \"scatter\", \"uid\": \"861463a4-c85f-47e5-b94c-1d4f8a06d4c1\"}, {\"hoverinfo\": \"text\", \"marker\": {\"color\": \"green\", \"size\": 0.5}, \"mode\": \"markers\", \"text\": \"Excel appears with Pentaho 55 times\", \"x\": [0.84278722502077], \"y\": [0.31576841726459937], \"type\": \"scatter\", \"uid\": \"18f02f1d-8019-4af9-a960-40e45e0d58a8\"}, {\"hoverinfo\": \"text\", \"marker\": {\"color\": \"blue\", \"size\": 0.5}, \"mode\": \"markers\", \"text\": \"Pentaho appears with Excel 55 times\", \"x\": [-0.8923621485947223], \"y\": [0.11700340061472926], \"type\": \"scatter\", \"uid\": \"c06f8835-2129-44ee-8e55-f038f3861c0d\"}, {\"hoverinfo\": \"text\", \"marker\": {\"color\": \"green\", \"size\": 0.5}, \"mode\": \"markers\", \"text\": \"Excel appears with Hadoop 57 times\", \"x\": [0.836859933309331], \"y\": [0.33115774492151334], \"type\": \"scatter\", \"uid\": \"ae90d098-502b-4f43-bf2a-7910387e59ba\"}, {\"hoverinfo\": \"text\", \"marker\": {\"color\": \"blue\", \"size\": 0.5}, \"mode\": \"markers\", \"text\": \"Hadoop appears with Excel 57 times\", \"x\": [-0.89969651793625], \"y\": [0.023370400368562704], \"type\": \"scatter\", \"uid\": \"f1479cfe-e6e4-4641-82c0-f177e2cbc31a\"}, {\"hoverinfo\": \"text\", \"marker\": {\"color\": \"green\", \"size\": 0.5}, \"mode\": \"markers\", \"text\": \"Excel appears with Spark 63 times\", \"x\": [0.8301975134047545], \"y\": [0.34752278880177434], \"type\": \"scatter\", \"uid\": \"1c37e323-a762-4f09-8885-949c704f178a\"}, {\"hoverinfo\": \"text\", \"marker\": {\"color\": \"blue\", \"size\": 0.5}, \"mode\": \"markers\", \"text\": \"Spark appears with Excel 63 times\", \"x\": [-0.886203940889812], \"y\": [-0.15697953736511833], \"type\": \"scatter\", \"uid\": \"aa95483c-daf5-497d-9baf-761190b68e86\"}, {\"hoverinfo\": \"text\", \"marker\": {\"color\": \"green\", \"size\": 0.5}, \"mode\": \"markers\", \"text\": \"Excel appears with Informatica 113 times\", \"x\": [0.8097205622056679], \"y\": [0.3928773487251933], \"type\": \"scatter\", \"uid\": \"66c184c5-c814-45b7-9745-ef19b60e7988\"}, {\"hoverinfo\": \"text\", \"marker\": {\"color\": \"blue\", \"size\": 0.5}, \"mode\": \"markers\", \"text\": \"Informatica appears with Excel 113 times\", \"x\": [-0.8265060105921844], \"y\": [-0.3562131587336324], \"type\": \"scatter\", \"uid\": \"e2584690-8dd7-4705-b624-984002ef60b6\"}, {\"hoverinfo\": \"text\", \"marker\": {\"color\": \"green\", \"size\": 0.5}, \"mode\": \"markers\", \"text\": \"Excel appears with Qlik 309 times\", \"x\": [0.6123707888778234], \"y\": [0.6595468269419179], \"type\": \"scatter\", \"uid\": \"a9db538e-7fca-4431-b2c4-e5efae2dd6ff\"}, {\"hoverinfo\": \"text\", \"marker\": {\"color\": \"blue\", \"size\": 0.5}, \"mode\": \"markers\", \"text\": \"Qlik appears with Excel 309 times\", \"x\": [-0.5905271240301462], \"y\": [-0.6791742896964551], \"type\": \"scatter\", \"uid\": \"6d8b5317-28ad-4e1f-b5b1-e2d39566c7cd\"}, {\"hoverinfo\": \"text\", \"marker\": {\"color\": \"green\", \"size\": 0.5}, \"mode\": \"markers\", \"text\": \"Excel appears with Tableau 334 times\", \"x\": [0.539729515709077], \"y\": [0.7202027838549676], \"type\": \"scatter\", \"uid\": \"65e8d989-ef55-4866-b6d4-3bd64a769b67\"}, {\"hoverinfo\": \"text\", \"marker\": {\"color\": \"blue\", \"size\": 0.5}, \"mode\": \"markers\", \"text\": \"Tableau appears with Excel 334 times\", \"x\": [-0.13681414679840923], \"y\": [-0.8895402684734534], \"type\": \"scatter\", \"uid\": \"b7753c87-6c71-410f-a3e7-54b4d1e34501\"}, {\"hoverinfo\": \"text\", \"marker\": {\"color\": \"green\", \"size\": 0.5}, \"mode\": \"markers\", \"text\": \"Excel appears with Microstrategy 29 times\", \"x\": [0.8631494185382399], \"y\": [0.2548981782537851], \"type\": \"scatter\", \"uid\": \"17fb54c4-65d3-4f5c-899e-59a88395eaa1\"}, {\"hoverinfo\": \"text\", \"marker\": {\"color\": \"blue\", \"size\": 0.5}, \"mode\": \"markers\", \"text\": \"Microstrategy appears with Excel 29 times\", \"x\": [-0.03565611421854324], \"y\": [-0.8992934123626362], \"type\": \"scatter\", \"uid\": \"1dd99060-1d63-486c-881f-04f859a4b0af\"}, {\"hoverinfo\": \"text\", \"marker\": {\"color\": \"green\", \"size\": 0.5}, \"mode\": \"markers\", \"text\": \"Excel appears with Oracle BI 460 times\", \"x\": [0.34477690824794727], \"y\": [0.8313416166288], \"type\": \"scatter\", \"uid\": \"9aace8ec-fceb-4098-8ffc-1545c575f72c\"}, {\"hoverinfo\": \"text\", \"marker\": {\"color\": \"blue\", \"size\": 0.5}, \"mode\": \"markers\", \"text\": \"Oracle BI appears with Excel 460 times\", \"x\": [0.5094795300454396], \"y\": [-0.7419101080755525], \"type\": \"scatter\", \"uid\": \"a6e03f98-ceec-4b35-ae40-a7a4a91e285e\"}, {\"hoverinfo\": \"text\", \"marker\": {\"color\": \"green\", \"size\": 0.5}, \"mode\": \"markers\", \"text\": \"Excel appears with Python 245 times\", \"x\": [0.6695554172254907], \"y\": [0.60141129293022], \"type\": \"scatter\", \"uid\": \"45f71cda-dfba-48bb-9486-9cc749a13b21\"}, {\"hoverinfo\": \"text\", \"marker\": {\"color\": \"blue\", \"size\": 0.5}, \"mode\": \"markers\", \"text\": \"Python appears with Excel 245 times\", \"x\": [0.7897554218036111], \"y\": [-0.43160905195767196], \"type\": \"scatter\", \"uid\": \"512835fd-4dfc-4214-8d14-5e03c61b6be3\"}, {\"hoverinfo\": \"text\", \"marker\": {\"color\": \"green\", \"size\": 0.5}, \"mode\": \"markers\", \"text\": \"Excel appears with VBA 170 times\", \"x\": [0.7440639629723932], \"y\": [0.5063287657301501], \"type\": \"scatter\", \"uid\": \"9cd88f14-0c00-40d1-bfe8-2f31bcc263ba\"}, {\"hoverinfo\": \"text\", \"marker\": {\"color\": \"blue\", \"size\": 0.5}, \"mode\": \"markers\", \"text\": \"VBA appears with Excel 170 times\", \"x\": [0.8572725638646534], \"y\": [-0.2740141442424527], \"type\": \"scatter\", \"uid\": \"a5565dc4-4ae7-4456-81d3-35dd3bb7437d\"}, {\"hoverinfo\": \"text\", \"marker\": {\"color\": \"green\", \"size\": 0.5}, \"mode\": \"markers\", \"text\": \"Excel appears with Linux 54 times\", \"x\": [0.8482840616013463], \"y\": [0.3006894591320477], \"type\": \"scatter\", \"uid\": \"32e696a6-653c-44a9-adba-92c16766308a\"}, {\"hoverinfo\": \"text\", \"marker\": {\"color\": \"blue\", \"size\": 0.5}, \"mode\": \"markers\", \"text\": \"Linux appears with Excel 54 times\", \"x\": [0.8848148653458959], \"y\": [-0.16462883727623204], \"type\": \"scatter\", \"uid\": \"b6c3e985-804d-484c-90dd-9e0f933e5c45\"}, {\"hoverinfo\": \"text\", \"marker\": {\"color\": \"green\", \"size\": 0.5}, \"mode\": \"markers\", \"text\": \"Excel appears with AWS 36 times\", \"x\": [0.8603899624572879], \"y\": [0.26406270562642237], \"type\": \"scatter\", \"uid\": \"7283ebb0-992f-4461-aed2-95eb318f01fa\"}, {\"hoverinfo\": \"text\", \"marker\": {\"color\": \"blue\", \"size\": 0.5}, \"mode\": \"markers\", \"text\": \"AWS appears with Excel 36 times\", \"x\": [0.8983272462410239], \"y\": [-0.05484668322714476], \"type\": \"scatter\", \"uid\": \"d925d6fb-65c1-451b-890f-c353ad8d4c72\"}, {\"hoverinfo\": \"text\", \"marker\": {\"color\": \"green\", \"size\": 0.5}, \"mode\": \"markers\", \"text\": \"SSIS/SSRS appears with MS SQL Server 196 times\", \"x\": [-0.051636451616872005], \"y\": [0.8985174883464531], \"type\": \"scatter\", \"uid\": \"825ab12f-4efe-4ecf-8b0c-a637797ee0ca\"}, {\"hoverinfo\": \"text\", \"marker\": {\"color\": \"blue\", \"size\": 0.5}, \"mode\": \"markers\", \"text\": \"MS SQL Server appears with SSIS/SSRS 196 times\", \"x\": [-0.4543665835620903], \"y\": [0.7768854534241931], \"type\": \"scatter\", \"uid\": \"ce93d37c-9b0c-4ed5-bbd7-00fb30640463\"}, {\"hoverinfo\": \"text\", \"marker\": {\"color\": \"green\", \"size\": 0.5}, \"mode\": \"markers\", \"text\": \"SSIS/SSRS appears with PostgreSQL 18 times\", \"x\": [0.24331691094323993], \"y\": [0.8664853610125445], \"type\": \"scatter\", \"uid\": \"cf2318e3-82db-4732-b1ce-1e4c5a7e0efa\"}, {\"hoverinfo\": \"text\", \"marker\": {\"color\": \"blue\", \"size\": 0.5}, \"mode\": \"markers\", \"text\": \"PostgreSQL appears with SSIS/SSRS 18 times\", \"x\": [-0.5531268320105754], \"y\": [0.7099652862710575], \"type\": \"scatter\", \"uid\": \"0eb50611-eff8-47fc-b0a1-abffedaa5a2a\"}, {\"hoverinfo\": \"text\", \"marker\": {\"color\": \"green\", \"size\": 0.5}, \"mode\": \"markers\", \"text\": \"SSIS/SSRS appears with MySQL/MariaDB 42 times\", \"x\": [0.19788802375266304], \"y\": [0.8779751306587593], \"type\": \"scatter\", \"uid\": \"0e620292-4cfb-4f4d-b51f-570ec1d8f502\"}, {\"hoverinfo\": \"text\", \"marker\": {\"color\": \"blue\", \"size\": 0.5}, \"mode\": \"markers\", \"text\": \"MySQL/MariaDB appears with SSIS/SSRS 42 times\", \"x\": [-0.6535299349988694], \"y\": [0.6187880283751243], \"type\": \"scatter\", \"uid\": \"08a229ef-275a-4051-bf63-13adba2aa665\"}, {\"hoverinfo\": \"text\", \"marker\": {\"color\": \"green\", \"size\": 0.5}, \"mode\": \"markers\", \"text\": \"SSIS/SSRS appears with T-SQL 102 times\", \"x\": [0.10611306851042983], \"y\": [0.8937225613641522], \"type\": \"scatter\", \"uid\": \"78458c4f-57e0-4034-9d10-31ea61ed06f1\"}, {\"hoverinfo\": \"text\", \"marker\": {\"color\": \"blue\", \"size\": 0.5}, \"mode\": \"markers\", \"text\": \"T-SQL appears with SSIS/SSRS 102 times\", \"x\": [-0.7894028898992005], \"y\": [0.43225348745706], \"type\": \"scatter\", \"uid\": \"eb17ddeb-374e-4f13-a4ad-be1050319471\"}, {\"hoverinfo\": \"text\", \"marker\": {\"color\": \"green\", \"size\": 0.5}, \"mode\": \"markers\", \"text\": \"SSIS/SSRS appears with PL/SQL 23 times\", \"x\": [0.23215479156170798], \"y\": [0.8695424962328983], \"type\": \"scatter\", \"uid\": \"f376d48e-e39d-4492-9009-33582aa6e4d3\"}, {\"hoverinfo\": \"text\", \"marker\": {\"color\": \"blue\", \"size\": 0.5}, \"mode\": \"markers\", \"text\": \"PL/SQL appears with SSIS/SSRS 23 times\", \"x\": [-0.8563440194526397], \"y\": [0.2769023660926305], \"type\": \"scatter\", \"uid\": \"63f87850-e1b8-4bb8-8116-a5f81757a981\"}, {\"hoverinfo\": \"text\", \"marker\": {\"color\": \"green\", \"size\": 0.5}, \"mode\": \"markers\", \"text\": \"SSIS/SSRS appears with Pentaho 28 times\", \"x\": [0.22510697885495615], \"y\": [0.8713936240705427], \"type\": \"scatter\", \"uid\": \"d5806377-11ea-4d08-95b4-b4da4059a62f\"}, {\"hoverinfo\": \"text\", \"marker\": {\"color\": \"blue\", \"size\": 0.5}, \"mode\": \"markers\", \"text\": \"Pentaho appears with SSIS/SSRS 28 times\", \"x\": [-0.8768583139422236], \"y\": [0.20277943009684424], \"type\": \"scatter\", \"uid\": \"0abcf601-3879-43bb-b975-370af328716a\"}, {\"hoverinfo\": \"text\", \"marker\": {\"color\": \"green\", \"size\": 0.5}, \"mode\": \"markers\", \"text\": \"SSIS/SSRS appears with Hadoop 28 times\", \"x\": [0.21735122398774345], \"y\": [0.873360432714369], \"type\": \"scatter\", \"uid\": \"8606be78-caed-4616-9395-e1028f53b94b\"}, {\"hoverinfo\": \"text\", \"marker\": {\"color\": \"blue\", \"size\": 0.5}, \"mode\": \"markers\", \"text\": \"Hadoop appears with SSIS/SSRS 28 times\", \"x\": [-0.8982153275483085], \"y\": [0.0566500252187499], \"type\": \"scatter\", \"uid\": \"64e62e6f-a2c6-45cd-80d7-1839698fb386\"}, {\"hoverinfo\": \"text\", \"marker\": {\"color\": \"green\", \"size\": 0.5}, \"mode\": \"markers\", \"text\": \"SSIS/SSRS appears with Spark 35 times\", \"x\": [0.2086054962923254], \"y\": [0.8754905750016002], \"type\": \"scatter\", \"uid\": \"59986113-8262-42de-87fd-78cd1c03f4f2\"}, {\"hoverinfo\": \"text\", \"marker\": {\"color\": \"blue\", \"size\": 0.5}, \"mode\": \"markers\", \"text\": \"Spark appears with SSIS/SSRS 35 times\", \"x\": [-0.891398808262397], \"y\": [-0.12412962832611027], \"type\": \"scatter\", \"uid\": \"47a050a3-2926-461b-bdf6-a9ddbc3998e2\"}, {\"hoverinfo\": \"text\", \"marker\": {\"color\": \"green\", \"size\": 0.5}, \"mode\": \"markers\", \"text\": \"SSIS/SSRS appears with Informatica 57 times\", \"x\": [0.15403470143036102], \"y\": [0.8867205370099757], \"type\": \"scatter\", \"uid\": \"a4c19f03-a94e-43dc-8ace-9ec9fd381e2e\"}, {\"hoverinfo\": \"text\", \"marker\": {\"color\": \"blue\", \"size\": 0.5}, \"mode\": \"markers\", \"text\": \"Informatica appears with SSIS/SSRS 57 times\", \"x\": [-0.848791401815809], \"y\": [-0.29925433364206094], \"type\": \"scatter\", \"uid\": \"e2ca7b4d-9a53-45c0-ae84-532b363a3d17\"}, {\"hoverinfo\": \"text\", \"marker\": {\"color\": \"green\", \"size\": 0.5}, \"mode\": \"markers\", \"text\": \"SSIS/SSRS appears with Qlik 53 times\", \"x\": [0.18462459351397606], \"y\": [0.8808596707023197], \"type\": \"scatter\", \"uid\": \"c6613e27-b003-408e-be53-a9f3ae044008\"}, {\"hoverinfo\": \"text\", \"marker\": {\"color\": \"blue\", \"size\": 0.5}, \"mode\": \"markers\", \"text\": \"Qlik appears with SSIS/SSRS 53 times\", \"x\": [-0.7551539810113388], \"y\": [-0.489635032409576], \"type\": \"scatter\", \"uid\": \"60a0743c-fdeb-4e1e-bf39-c9b89b25e5bf\"}, {\"hoverinfo\": \"text\", \"marker\": {\"color\": \"green\", \"size\": 0.5}, \"mode\": \"markers\", \"text\": \"SSIS/SSRS appears with Tableau 107 times\", \"x\": [0.07640646683723593], \"y\": [0.8967508304013163], \"type\": \"scatter\", \"uid\": \"dd1af24b-6b13-4b55-b557-54d2c9a668ab\"}, {\"hoverinfo\": \"text\", \"marker\": {\"color\": \"blue\", \"size\": 0.5}, \"mode\": \"markers\", \"text\": \"Tableau appears with SSIS/SSRS 107 times\", \"x\": [-0.384102166480258], \"y\": [-0.8139198521385089], \"type\": \"scatter\", \"uid\": \"5d1627eb-fcc2-43f6-b309-e5dc8447703f\"}, {\"hoverinfo\": \"text\", \"marker\": {\"color\": \"green\", \"size\": 0.5}, \"mode\": \"markers\", \"text\": \"SSIS/SSRS appears with Microstrategy 17 times\", \"x\": [0.24812770822589006], \"y\": [0.8651200150329246], \"type\": \"scatter\", \"uid\": \"0f8d70a9-5f9d-4856-955e-aced14c21fb6\"}, {\"hoverinfo\": \"text\", \"marker\": {\"color\": \"blue\", \"size\": 0.5}, \"mode\": \"markers\", \"text\": \"Microstrategy appears with SSIS/SSRS 17 times\", \"x\": [-0.046872012671052066], \"y\": [-0.8987786237045053], \"type\": \"scatter\", \"uid\": \"a58707d5-da80-4a40-93fc-2639672a9e28\"}, {\"hoverinfo\": \"text\", \"marker\": {\"color\": \"green\", \"size\": 0.5}, \"mode\": \"markers\", \"text\": \"SSIS/SSRS appears with Oracle BI 179 times\", \"x\": [0.0019151798975104819], \"y\": [0.899997962267671], \"type\": \"scatter\", \"uid\": \"907e18b5-7511-4d7d-8435-75f0ff50cfb9\"}, {\"hoverinfo\": \"text\", \"marker\": {\"color\": \"blue\", \"size\": 0.5}, \"mode\": \"markers\", \"text\": \"Oracle BI appears with SSIS/SSRS 179 times\", \"x\": [0.28638820507099977], \"y\": [-0.8532184925306125], \"type\": \"scatter\", \"uid\": \"fb1bd351-de49-435d-9c60-fad581ef9f53\"}, {\"hoverinfo\": \"text\", \"marker\": {\"color\": \"green\", \"size\": 0.5}, \"mode\": \"markers\", \"text\": \"SSIS/SSRS appears with Python 118 times\", \"x\": [0.04433259693967983], \"y\": [0.8989074595577589], \"type\": \"scatter\", \"uid\": \"976817f7-a868-4688-9c3b-0e01d9380252\"}, {\"hoverinfo\": \"text\", \"marker\": {\"color\": \"blue\", \"size\": 0.5}, \"mode\": \"markers\", \"text\": \"Python appears with SSIS/SSRS 118 times\", \"x\": [0.763949131897021], \"y\": [-0.4757958846751283], \"type\": \"scatter\", \"uid\": \"6daf63ee-445b-4061-9c73-0df44217971d\"}, {\"hoverinfo\": \"text\", \"marker\": {\"color\": \"green\", \"size\": 0.5}, \"mode\": \"markers\", \"text\": \"SSIS/SSRS appears with VBA 54 times\", \"x\": [0.1696356494122643], \"y\": [0.8838686251069665], \"type\": \"scatter\", \"uid\": \"f416e42b-b341-4c26-a2d0-2da0384753a7\"}, {\"hoverinfo\": \"text\", \"marker\": {\"color\": \"blue\", \"size\": 0.5}, \"mode\": \"markers\", \"text\": \"VBA appears with SSIS/SSRS 54 times\", \"x\": [0.8436578880530222], \"y\": [-0.31343479054807266], \"type\": \"scatter\", \"uid\": \"bd0348f9-5ec4-4446-a4b3-c95cba9ffa5d\"}, {\"hoverinfo\": \"text\", \"marker\": {\"color\": \"green\", \"size\": 0.5}, \"mode\": \"markers\", \"text\": \"SSIS/SSRS appears with Linux 14 times\", \"x\": [0.2523823073626533], \"y\": [0.8638884018959296], \"type\": \"scatter\", \"uid\": \"b10370ee-84bd-484f-9e9a-2fc9b1ff5963\"}, {\"hoverinfo\": \"text\", \"marker\": {\"color\": \"blue\", \"size\": 0.5}, \"mode\": \"markers\", \"text\": \"Linux appears with SSIS/SSRS 14 times\", \"x\": [0.8728626247012587], \"y\": [-0.2193418300270826], \"type\": \"scatter\", \"uid\": \"20b74c51-cb22-412e-9245-6153acbef3e2\"}, {\"hoverinfo\": \"text\", \"marker\": {\"color\": \"green\", \"size\": 0.5}, \"mode\": \"markers\", \"text\": \"SSIS/SSRS appears with AWS 20 times\", \"x\": [0.23808525880645495], \"y\": [0.8679374456371054], \"type\": \"scatter\", \"uid\": \"d5ea3202-61f7-41d5-85e5-3765e498b092\"}, {\"hoverinfo\": \"text\", \"marker\": {\"color\": \"blue\", \"size\": 0.5}, \"mode\": \"markers\", \"text\": \"AWS appears with SSIS/SSRS 20 times\", \"x\": [0.8963528859188146], \"y\": [-0.0809413609041294], \"type\": \"scatter\", \"uid\": \"1e014d34-ca4d-42bf-b0e9-643123de6721\"}, {\"hoverinfo\": \"text\", \"marker\": {\"color\": \"green\", \"size\": 0.5}, \"mode\": \"markers\", \"text\": \"MS SQL Server appears with PostgreSQL 36 times\", \"x\": [-0.25402634697091964], \"y\": [0.8634064020173872], \"type\": \"scatter\", \"uid\": \"56206588-81a6-44ae-8eb1-8df668c8836d\"}, {\"hoverinfo\": \"text\", \"marker\": {\"color\": \"blue\", \"size\": 0.5}, \"mode\": \"markers\", \"text\": \"PostgreSQL appears with MS SQL Server 36 times\", \"x\": [-0.5789368907296922], \"y\": [0.6890806023624787], \"type\": \"scatter\", \"uid\": \"c3dfc0c5-b701-4a46-8b7b-547b39f5b0de\"}, {\"hoverinfo\": \"text\", \"marker\": {\"color\": \"green\", \"size\": 0.5}, \"mode\": \"markers\", \"text\": \"MS SQL Server appears with MySQL/MariaDB 50 times\", \"x\": [-0.3003000070367253], \"y\": [0.8484220092464261], \"type\": \"scatter\", \"uid\": \"9022fde8-9aeb-4f83-85c4-e33391126ee7\"}, {\"hoverinfo\": \"text\", \"marker\": {\"color\": \"blue\", \"size\": 0.5}, \"mode\": \"markers\", \"text\": \"MySQL/MariaDB appears with MS SQL Server 50 times\", \"x\": [-0.6687020333891306], \"y\": [0.6023600173826631], \"type\": \"scatter\", \"uid\": \"c45d65a2-3769-449e-bfe7-bb6b0a1a756b\"}, {\"hoverinfo\": \"text\", \"marker\": {\"color\": \"green\", \"size\": 0.5}, \"mode\": \"markers\", \"text\": \"MS SQL Server appears with T-SQL 140 times\", \"x\": [-0.41298229782304685], \"y\": [0.7996534384874464], \"type\": \"scatter\", \"uid\": \"9dbd59e2-c554-43aa-be8b-2e6f8294d494\"}, {\"hoverinfo\": \"text\", \"marker\": {\"color\": \"blue\", \"size\": 0.5}, \"mode\": \"markers\", \"text\": \"T-SQL appears with MS SQL Server 140 times\", \"x\": [-0.8168164586453832], \"y\": [0.37790325863376073], \"type\": \"scatter\", \"uid\": \"d02afb0c-6130-49e6-a20f-c563689801e2\"}, {\"hoverinfo\": \"text\", \"marker\": {\"color\": \"green\", \"size\": 0.5}, \"mode\": \"markers\", \"text\": \"MS SQL Server appears with PL/SQL 10 times\", \"x\": [-0.21466484850180026], \"y\": [0.874024600808066], \"type\": \"scatter\", \"uid\": \"08c745ff-347e-49a8-b615-85cc146f400b\"}, {\"hoverinfo\": \"text\", \"marker\": {\"color\": \"blue\", \"size\": 0.5}, \"mode\": \"markers\", \"text\": \"PL/SQL appears with MS SQL Server 10 times\", \"x\": [-0.8515357806021686], \"y\": [0.2913534182985595], \"type\": \"scatter\", \"uid\": \"7224b629-cad8-4a96-9dc7-bd6ebe078517\"}, {\"hoverinfo\": \"text\", \"marker\": {\"color\": \"green\", \"size\": 0.5}, \"mode\": \"markers\", \"text\": \"MS SQL Server appears with Pentaho 39 times\", \"x\": [-0.2641244359396658], \"y\": [0.8603710143534319], \"type\": \"scatter\", \"uid\": \"0d7dd7e1-6c0c-4d1f-9f9f-46633d244a0f\"}, {\"hoverinfo\": \"text\", \"marker\": {\"color\": \"blue\", \"size\": 0.5}, \"mode\": \"markers\", \"text\": \"Pentaho appears with MS SQL Server 39 times\", \"x\": [-0.8888470670360195], \"y\": [0.14124762448078942], \"type\": \"scatter\", \"uid\": \"63f3ecdd-e5df-4108-8491-e66b590d629b\"}, {\"hoverinfo\": \"text\", \"marker\": {\"color\": \"green\", \"size\": 0.5}, \"mode\": \"markers\", \"text\": \"MS SQL Server appears with Hadoop 24 times\", \"x\": [-0.2285636251983977], \"y\": [0.8704933481860538], \"type\": \"scatter\", \"uid\": \"970178de-a4dc-4a1f-9149-acf10077cee6\"}, {\"hoverinfo\": \"text\", \"marker\": {\"color\": \"blue\", \"size\": 0.5}, \"mode\": \"markers\", \"text\": \"Hadoop appears with MS SQL Server 24 times\", \"x\": [-0.8977835933269486], \"y\": [0.06312384298307813], \"type\": \"scatter\", \"uid\": \"7b7270da-9b21-4b16-8d97-3b899987e96a\"}, {\"hoverinfo\": \"text\", \"marker\": {\"color\": \"green\", \"size\": 0.5}, \"mode\": \"markers\", \"text\": \"MS SQL Server appears with Spark 20 times\", \"x\": [-0.2225749852284369], \"y\": [0.87204379244999], \"type\": \"scatter\", \"uid\": \"80964db9-4ead-4f3d-896e-45b1f09dff54\"}, {\"hoverinfo\": \"text\", \"marker\": {\"color\": \"blue\", \"size\": 0.5}, \"mode\": \"markers\", \"text\": \"Spark appears with MS SQL Server 20 times\", \"x\": [-0.8947253249998071], \"y\": [-0.09729641722072582], \"type\": \"scatter\", \"uid\": \"55be8af6-df5b-4bfb-9636-0688e50c29f6\"}, {\"hoverinfo\": \"text\", \"marker\": {\"color\": \"green\", \"size\": 0.5}, \"mode\": \"markers\", \"text\": \"MS SQL Server appears with Informatica 50 times\", \"x\": [-0.28701031065044313], \"y\": [0.8530094264311129], \"type\": \"scatter\", \"uid\": \"e99c455c-a025-4f1a-91e6-f933f4a6b0fe\"}, {\"hoverinfo\": \"text\", \"marker\": {\"color\": \"blue\", \"size\": 0.5}, \"mode\": \"markers\", \"text\": \"Informatica appears with MS SQL Server 50 times\", \"x\": [-0.8533016555460348], \"y\": [-0.28614032334223055], \"type\": \"scatter\", \"uid\": \"3735f7ef-ed6f-4f7a-827b-b1afc8ea4ee7\"}, {\"hoverinfo\": \"text\", \"marker\": {\"color\": \"green\", \"size\": 0.5}, \"mode\": \"markers\", \"text\": \"MS SQL Server appears with Qlik 41 times\", \"x\": [-0.27485573575130223], \"y\": [0.8570031064848076], \"type\": \"scatter\", \"uid\": \"3d126e95-8052-478e-81d6-15a5beaca420\"}, {\"hoverinfo\": \"text\", \"marker\": {\"color\": \"blue\", \"size\": 0.5}, \"mode\": \"markers\", \"text\": \"Qlik appears with MS SQL Server 41 times\", \"x\": [-0.7700118925880145], \"y\": [-0.46592025634546524], \"type\": \"scatter\", \"uid\": \"221394fb-e819-4197-9e8b-d9d7207cad6f\"}, {\"hoverinfo\": \"text\", \"marker\": {\"color\": \"green\", \"size\": 0.5}, \"mode\": \"markers\", \"text\": \"MS SQL Server appears with Tableau 69 times\", \"x\": [-0.3160189907563484], \"y\": [0.8426932997724256], \"type\": \"scatter\", \"uid\": \"24279f75-d0e6-43d2-8ec4-9f6b5366ceea\"}, {\"hoverinfo\": \"text\", \"marker\": {\"color\": \"blue\", \"size\": 0.5}, \"mode\": \"markers\", \"text\": \"Tableau appears with MS SQL Server 69 times\", \"x\": [-0.4469978566372136], \"y\": [-0.7811484597448408], \"type\": \"scatter\", \"uid\": \"4e3e74b5-429b-4576-9f0e-eaff31246c3d\"}, {\"hoverinfo\": \"text\", \"marker\": {\"color\": \"green\", \"size\": 0.5}, \"mode\": \"markers\", \"text\": \"MS SQL Server appears with Microstrategy 14 times\", \"x\": [-0.21794018295618411], \"y\": [0.8732136489159025], \"type\": \"scatter\", \"uid\": \"3a3183da-c608-4eb1-80ad-d2989190ca9f\"}, {\"hoverinfo\": \"text\", \"marker\": {\"color\": \"blue\", \"size\": 0.5}, \"mode\": \"markers\", \"text\": \"Microstrategy appears with MS SQL Server 14 times\", \"x\": [-0.04967491564135055], \"y\": [-0.898628066975445], \"type\": \"scatter\", \"uid\": \"376cb506-e079-4763-9292-3281673ad59b\"}, {\"hoverinfo\": \"text\", \"marker\": {\"color\": \"green\", \"size\": 0.5}, \"mode\": \"markers\", \"text\": \"MS SQL Server appears with Oracle BI 111 times\", \"x\": [-0.38131859564472737], \"y\": [0.8152276544717635], \"type\": \"scatter\", \"uid\": \"e82eeb06-f1b9-4d7e-b164-1d240b8dcfcb\"}, {\"hoverinfo\": \"text\", \"marker\": {\"color\": \"blue\", \"size\": 0.5}, \"mode\": \"markers\", \"text\": \"Oracle BI appears with MS SQL Server 111 times\", \"x\": [0.21418451622595558], \"y\": [-0.8741424329072771], \"type\": \"scatter\", \"uid\": \"53ff59bb-11b8-46dc-9bbb-39836f5d525f\"}, {\"hoverinfo\": \"text\", \"marker\": {\"color\": \"green\", \"size\": 0.5}, \"mode\": \"markers\", \"text\": \"MS SQL Server appears with Python 77 times\", \"x\": [-0.33515472769259047], \"y\": [0.8352672078474681], \"type\": \"scatter\", \"uid\": \"887b6839-0782-4a5b-b778-3a122501857a\"}, {\"hoverinfo\": \"text\", \"marker\": {\"color\": \"blue\", \"size\": 0.5}, \"mode\": \"markers\", \"text\": \"Python appears with MS SQL Server 77 times\", \"x\": [0.679904218178394], \"y\": [-0.5896865727683028], \"type\": \"scatter\", \"uid\": \"5b18ade9-5be5-4904-afe4-4b355c7e645d\"}, {\"hoverinfo\": \"text\", \"marker\": {\"color\": \"green\", \"size\": 0.5}, \"mode\": \"markers\", \"text\": \"MS SQL Server appears with VBA 33 times\", \"x\": [-0.2447052760637639], \"y\": [0.8660942950202115], \"type\": \"scatter\", \"uid\": \"fd737159-7d9b-4afe-b581-143da40b8acd\"}, {\"hoverinfo\": \"text\", \"marker\": {\"color\": \"blue\", \"size\": 0.5}, \"mode\": \"markers\", \"text\": \"VBA appears with MS SQL Server 33 times\", \"x\": [0.8303180929328065], \"y\": [-0.3472345958403736], \"type\": \"scatter\", \"uid\": \"6b7bb81e-9863-4c20-b31f-2bf917c4df27\"}, {\"hoverinfo\": \"text\", \"marker\": {\"color\": \"green\", \"size\": 0.5}, \"mode\": \"markers\", \"text\": \"MS SQL Server appears with Linux 31 times\", \"x\": [-0.23603420698235691], \"y\": [0.8684974686976411], \"type\": \"scatter\", \"uid\": \"6ed44481-8799-431d-a276-049c3e56aa22\"}, {\"hoverinfo\": \"text\", \"marker\": {\"color\": \"blue\", \"size\": 0.5}, \"mode\": \"markers\", \"text\": \"Linux appears with MS SQL Server 31 times\", \"x\": [0.8807320680533325], \"y\": [-0.18523235220257864], \"type\": \"scatter\", \"uid\": \"86bebb24-3680-435e-b1e8-f768025d87a0\"}, {\"hoverinfo\": \"text\", \"marker\": {\"color\": \"green\", \"size\": 0.5}, \"mode\": \"markers\", \"text\": \"MS SQL Server appears with AWS 9 times\", \"x\": [-0.2120697332106579], \"y\": [0.874657892124664], \"type\": \"scatter\", \"uid\": \"4004a32e-8e58-4c3c-a306-8729d162bfc6\"}, {\"hoverinfo\": \"text\", \"marker\": {\"color\": \"blue\", \"size\": 0.5}, \"mode\": \"markers\", \"text\": \"AWS appears with MS SQL Server 9 times\", \"x\": [0.8950242996807649], \"y\": [-0.09450662929634301], \"type\": \"scatter\", \"uid\": \"08bffa30-5389-4b64-be96-f4ac1a055c85\"}, {\"hoverinfo\": \"text\", \"marker\": {\"color\": \"green\", \"size\": 0.5}, \"mode\": \"markers\", \"text\": \"PostgreSQL appears with MySQL/MariaDB 50 times\", \"x\": [-0.5919419741410705], \"y\": [0.6779415160985292], \"type\": \"scatter\", \"uid\": \"594144eb-b3a5-4c6d-a15f-46ea178fc9d3\"}, {\"hoverinfo\": \"text\", \"marker\": {\"color\": \"blue\", \"size\": 0.5}, \"mode\": \"markers\", \"text\": \"MySQL/MariaDB appears with PostgreSQL 50 times\", \"x\": [-0.6769531791621064], \"y\": [0.5930719966600321], \"type\": \"scatter\", \"uid\": \"3e072774-dd65-408c-8fe9-15bd62baec5f\"}, {\"hoverinfo\": \"text\", \"marker\": {\"color\": \"green\", \"size\": 0.5}, \"mode\": \"markers\", \"text\": \"PostgreSQL appears with T-SQL 27 times\", \"x\": [-0.5680740175079393], \"y\": [0.6980629703919192], \"type\": \"scatter\", \"uid\": \"c6c6823c-02af-496b-8808-e95ccb99ea71\"}, {\"hoverinfo\": \"text\", \"marker\": {\"color\": \"blue\", \"size\": 0.5}, \"mode\": \"markers\", \"text\": \"T-SQL appears with PostgreSQL 27 times\", \"x\": [-0.7386033895966807], \"y\": [0.5142616385423803], \"type\": \"scatter\", \"uid\": \"223e7661-3f50-4b69-943d-528ced2f79fc\"}, {\"hoverinfo\": \"text\", \"marker\": {\"color\": \"green\", \"size\": 0.5}, \"mode\": \"markers\", \"text\": \"PostgreSQL appears with Pentaho 36 times\", \"x\": [-0.5731608617107739], \"y\": [0.6938923739334244], \"type\": \"scatter\", \"uid\": \"a0d998d8-d8cd-43db-8985-9dc437c59c1b\"}, {\"hoverinfo\": \"text\", \"marker\": {\"color\": \"blue\", \"size\": 0.5}, \"mode\": \"markers\", \"text\": \"Pentaho appears with PostgreSQL 36 times\", \"x\": [-0.8873741588595364], \"y\": [0.15022350744251078], \"type\": \"scatter\", \"uid\": \"6601ce65-8186-4031-84ae-c60e44c26330\"}, {\"hoverinfo\": \"text\", \"marker\": {\"color\": \"green\", \"size\": 0.5}, \"mode\": \"markers\", \"text\": \"PostgreSQL appears with Hadoop 3 times\", \"x\": [-0.5482543209431634], \"y\": [0.713734684296028], \"type\": \"scatter\", \"uid\": \"174ee02c-30d6-43e9-92e9-8e690d4b0836\"}, {\"hoverinfo\": \"text\", \"marker\": {\"color\": \"blue\", \"size\": 0.5}, \"mode\": \"markers\", \"text\": \"Hadoop appears with PostgreSQL 3 times\", \"x\": [-0.896333346844713], \"y\": [0.08115744780459452], \"type\": \"scatter\", \"uid\": \"a9497f53-f596-4ca1-9770-0cd645f791e3\"}, {\"hoverinfo\": \"text\", \"marker\": {\"color\": \"green\", \"size\": 0.5}, \"mode\": \"markers\", \"text\": \"PostgreSQL appears with Spark 5 times\", \"x\": [-0.5489165108169294], \"y\": [0.713225535263964], \"type\": \"scatter\", \"uid\": \"148ac265-c74a-4850-bae3-17db30ca1b8a\"}, {\"hoverinfo\": \"text\", \"marker\": {\"color\": \"blue\", \"size\": 0.5}, \"mode\": \"markers\", \"text\": \"Spark appears with PostgreSQL 5 times\", \"x\": [-0.8967256450147224], \"y\": [-0.07670148351192564], \"type\": \"scatter\", \"uid\": \"06fc18e9-b12f-402d-bc36-b4ebca57b94f\"}, {\"hoverinfo\": \"text\", \"marker\": {\"color\": \"green\", \"size\": 0.5}, \"mode\": \"markers\", \"text\": \"PostgreSQL appears with Qlik 9 times\", \"x\": [-0.5509002411622698], \"y\": [0.7116944037206933], \"type\": \"scatter\", \"uid\": \"ed37df6d-e10f-4a1c-b83a-4e0da730731c\"}, {\"hoverinfo\": \"text\", \"marker\": {\"color\": \"blue\", \"size\": 0.5}, \"mode\": \"markers\", \"text\": \"Qlik appears with PostgreSQL 9 times\", \"x\": [-0.7940473067065841], \"y\": [-0.4236612735570954], \"type\": \"scatter\", \"uid\": \"4f5e0ef4-52aa-43d6-9141-d1b3bd6d6598\"}, {\"hoverinfo\": \"text\", \"marker\": {\"color\": \"green\", \"size\": 0.5}, \"mode\": \"markers\", \"text\": \"PostgreSQL appears with Tableau 5 times\", \"x\": [-0.5497435831713066], \"y\": [0.7125882350712597], \"type\": \"scatter\", \"uid\": \"be0088a9-8698-4f39-a78f-2eee26fc5992\"}, {\"hoverinfo\": \"text\", \"marker\": {\"color\": \"blue\", \"size\": 0.5}, \"mode\": \"markers\", \"text\": \"Tableau appears with PostgreSQL 5 times\", \"x\": [-0.5338253188384613], \"y\": [-0.7245899039919168], \"type\": \"scatter\", \"uid\": \"a9444127-da74-43f5-8206-f5b340503303\"}, {\"hoverinfo\": \"text\", \"marker\": {\"color\": \"green\", \"size\": 0.5}, \"mode\": \"markers\", \"text\": \"PostgreSQL appears with Oracle BI 24 times\", \"x\": [-0.559855709977184], \"y\": [0.7046712595288269], \"type\": \"scatter\", \"uid\": \"6b15c623-1272-4123-8580-c993dca8c0be\"}, {\"hoverinfo\": \"text\", \"marker\": {\"color\": \"blue\", \"size\": 0.5}, \"mode\": \"markers\", \"text\": \"Oracle BI appears with PostgreSQL 24 times\", \"x\": [0.013171251427383004], \"y\": [-0.8999036160255368], \"type\": \"scatter\", \"uid\": \"dfeec552-6055-4a8f-8aac-715fb2a0238b\"}, {\"hoverinfo\": \"text\", \"marker\": {\"color\": \"green\", \"size\": 0.5}, \"mode\": \"markers\", \"text\": \"PostgreSQL appears with Python 20 times\", \"x\": [-0.556251353276063], \"y\": [0.707519916312289], \"type\": \"scatter\", \"uid\": \"f92ad6b6-6f17-415d-8d41-02f4a80ecdc6\"}, {\"hoverinfo\": \"text\", \"marker\": {\"color\": \"blue\", \"size\": 0.5}, \"mode\": \"markers\", \"text\": \"Python appears with PostgreSQL 20 times\", \"x\": [0.5897640530661832], \"y\": [-0.6798370111364549], \"type\": \"scatter\", \"uid\": \"086c2708-d8ec-45ec-8a18-d3dc8af2bae1\"}, {\"hoverinfo\": \"text\", \"marker\": {\"color\": \"green\", \"size\": 0.5}, \"mode\": \"markers\", \"text\": \"PostgreSQL appears with Linux 25 times\", \"x\": [-0.5638524794737956], \"y\": [0.7014772850144565], \"type\": \"scatter\", \"uid\": \"9e9ddad3-319b-4970-9570-4736e4a8b077\"}, {\"hoverinfo\": \"text\", \"marker\": {\"color\": \"blue\", \"size\": 0.5}, \"mode\": \"markers\", \"text\": \"Linux appears with PostgreSQL 25 times\", \"x\": [0.8761966915414232], \"y\": [-0.2056194488171393], \"type\": \"scatter\", \"uid\": \"4e56c73a-9d91-4b13-847d-2e35bb583902\"}, {\"hoverinfo\": \"text\", \"marker\": {\"color\": \"green\", \"size\": 0.5}, \"mode\": \"markers\", \"text\": \"MySQL/MariaDB appears with T-SQL 33 times\", \"x\": [-0.6338221684928934], \"y\": [0.6389596690926325], \"type\": \"scatter\", \"uid\": \"b58864b3-e927-4406-8fc7-c36459c534da\"}, {\"hoverinfo\": \"text\", \"marker\": {\"color\": \"blue\", \"size\": 0.5}, \"mode\": \"markers\", \"text\": \"T-SQL appears with MySQL/MariaDB 33 times\", \"x\": [-0.7566828050409258], \"y\": [0.4872690556103439], \"type\": \"scatter\", \"uid\": \"4614dee6-8c96-40fd-a802-dff82f4f30e7\"}, {\"hoverinfo\": \"text\", \"marker\": {\"color\": \"green\", \"size\": 0.5}, \"mode\": \"markers\", \"text\": \"MySQL/MariaDB appears with Pentaho 54 times\", \"x\": [-0.6853975096939691], \"y\": [0.5832925969916862], \"type\": \"scatter\", \"uid\": \"b69c6892-d842-436f-80c1-6d2b99bbddec\"}, {\"hoverinfo\": \"text\", \"marker\": {\"color\": \"blue\", \"size\": 0.5}, \"mode\": \"markers\", \"text\": \"Pentaho appears with MySQL/MariaDB 54 times\", \"x\": [-0.8905473686703803], \"y\": [0.1300975947289645], \"type\": \"scatter\", \"uid\": \"44e69c25-0180-49fb-a5a5-dd8c894c896f\"}, {\"hoverinfo\": \"text\", \"marker\": {\"color\": \"green\", \"size\": 0.5}, \"mode\": \"markers\", \"text\": \"MySQL/MariaDB appears with Hadoop 3 times\", \"x\": [-0.6173900214533447], \"y\": [0.6548507932421238], \"type\": \"scatter\", \"uid\": \"5ed6fba6-6e4d-4075-bd5d-20f394060ee6\"}, {\"hoverinfo\": \"text\", \"marker\": {\"color\": \"blue\", \"size\": 0.5}, \"mode\": \"markers\", \"text\": \"Hadoop appears with MySQL/MariaDB 3 times\", \"x\": [-0.8964005452912256], \"y\": [0.08041182998535387], \"type\": \"scatter\", \"uid\": \"9e94bf6c-a50c-4d60-9e62-8bc05ffe7cb9\"}, {\"hoverinfo\": \"text\", \"marker\": {\"color\": \"green\", \"size\": 0.5}, \"mode\": \"markers\", \"text\": \"MySQL/MariaDB appears with Spark 18 times\", \"x\": [-0.6239575561355342], \"y\": [0.6485961518089448], \"type\": \"scatter\", \"uid\": \"c3e2008c-c8be-458e-ba08-08a3dd96f6a0\"}, {\"hoverinfo\": \"text\", \"marker\": {\"color\": \"blue\", \"size\": 0.5}, \"mode\": \"markers\", \"text\": \"Spark appears with MySQL/MariaDB 18 times\", \"x\": [-0.8952339759693916], \"y\": [-0.09249934199784811], \"type\": \"scatter\", \"uid\": \"e831ddc0-8d8b-46fc-bbc5-bdafcfe164eb\"}, {\"hoverinfo\": \"text\", \"marker\": {\"color\": \"green\", \"size\": 0.5}, \"mode\": \"markers\", \"text\": \"MySQL/MariaDB appears with Informatica 8 times\", \"x\": [-0.6192857652285598], \"y\": [0.653058298305195], \"type\": \"scatter\", \"uid\": \"1bdfc601-db6e-4867-ae08-480e7401f06c\"}, {\"hoverinfo\": \"text\", \"marker\": {\"color\": \"blue\", \"size\": 0.5}, \"mode\": \"markers\", \"text\": \"Informatica appears with MySQL/MariaDB 8 times\", \"x\": [-0.8635610246415308], \"y\": [-0.25350021049314625], \"type\": \"scatter\", \"uid\": \"e74301cf-88ad-42de-b619-4e015193c66d\"}, {\"hoverinfo\": \"text\", \"marker\": {\"color\": \"green\", \"size\": 0.5}, \"mode\": \"markers\", \"text\": \"MySQL/MariaDB appears with Qlik 13 times\", \"x\": [-0.6211763047994852], \"y\": [0.651260315354511], \"type\": \"scatter\", \"uid\": \"3ba21c99-2c23-43ff-bb88-76d2fea6da07\"}, {\"hoverinfo\": \"text\", \"marker\": {\"color\": \"blue\", \"size\": 0.5}, \"mode\": \"markers\", \"text\": \"Qlik appears with MySQL/MariaDB 13 times\", \"x\": [-0.7900200108066106], \"y\": [-0.4311245556972173], \"type\": \"scatter\", \"uid\": \"c00647db-cb92-42ef-8948-fa51abab0230\"}, {\"hoverinfo\": \"text\", \"marker\": {\"color\": \"green\", \"size\": 0.5}, \"mode\": \"markers\", \"text\": \"MySQL/MariaDB appears with Tableau 35 times\", \"x\": [-0.639791995894951], \"y\": [0.6329819918360673], \"type\": \"scatter\", \"uid\": \"a9af0cec-da54-4a05-8621-59e8ad018c92\"}, {\"hoverinfo\": \"text\", \"marker\": {\"color\": \"blue\", \"size\": 0.5}, \"mode\": \"markers\", \"text\": \"Tableau appears with MySQL/MariaDB 35 times\", \"x\": [-0.487248709745643], \"y\": [-0.7566959064586025], \"type\": \"scatter\", \"uid\": \"7846fbd6-849a-4184-b46f-48a4fc9ec481\"}, {\"hoverinfo\": \"text\", \"marker\": {\"color\": \"green\", \"size\": 0.5}, \"mode\": \"markers\", \"text\": \"MySQL/MariaDB appears with Oracle BI 44 times\", \"x\": [-0.6608297423034014], \"y\": [0.6109861305195234], \"type\": \"scatter\", \"uid\": \"4c6436e6-95c2-4bbd-9e2f-660ab90e1f64\"}, {\"hoverinfo\": \"text\", \"marker\": {\"color\": \"blue\", \"size\": 0.5}, \"mode\": \"markers\", \"text\": \"Oracle BI appears with MySQL/MariaDB 44 times\", \"x\": [0.07058507893858598], \"y\": [-0.8972278120027453], \"type\": \"scatter\", \"uid\": \"7b9d923f-5a9a-42d2-9a56-109fc75a1e96\"}, {\"hoverinfo\": \"text\", \"marker\": {\"color\": \"green\", \"size\": 0.5}, \"mode\": \"markers\", \"text\": \"MySQL/MariaDB appears with Python 41 times\", \"x\": [-0.6463974192867169], \"y\": [0.6262350807320461], \"type\": \"scatter\", \"uid\": \"4ff8657f-afe2-4070-9dbc-bb3517533728\"}, {\"hoverinfo\": \"text\", \"marker\": {\"color\": \"blue\", \"size\": 0.5}, \"mode\": \"markers\", \"text\": \"Python appears with MySQL/MariaDB 41 times\", \"x\": [0.6145915362716323], \"y\": [-0.6574779414879826], \"type\": \"scatter\", \"uid\": \"393f2411-bdee-4285-874e-37ccc5d6e1bc\"}, {\"hoverinfo\": \"text\", \"marker\": {\"color\": \"green\", \"size\": 0.5}, \"mode\": \"markers\", \"text\": \"MySQL/MariaDB appears with VBA 2 times\", \"x\": [-0.6169378885790748], \"y\": [0.6552767672026782], \"type\": \"scatter\", \"uid\": \"bbe1452b-e40d-425a-9474-441807421ff0\"}, {\"hoverinfo\": \"text\", \"marker\": {\"color\": \"blue\", \"size\": 0.5}, \"mode\": \"markers\", \"text\": \"VBA appears with MySQL/MariaDB 2 times\", \"x\": [0.8183486889710424], \"y\": [-0.37457365531945275], \"type\": \"scatter\", \"uid\": \"17ac1b63-1d6a-4fb6-9313-275b163106fb\"}, {\"hoverinfo\": \"text\", \"marker\": {\"color\": \"green\", \"size\": 0.5}, \"mode\": \"markers\", \"text\": \"MySQL/MariaDB appears with Linux 30 times\", \"x\": [-0.628241448206352], \"y\": [0.6444475795249646], \"type\": \"scatter\", \"uid\": \"265153b0-d9ca-47ac-b107-47a2d248eb8e\"}, {\"hoverinfo\": \"text\", \"marker\": {\"color\": \"blue\", \"size\": 0.5}, \"mode\": \"markers\", \"text\": \"Linux appears with MySQL/MariaDB 30 times\", \"x\": [0.8792137346697936], \"y\": [-0.1923101889344239], \"type\": \"scatter\", \"uid\": \"c8af6d85-e886-4c56-9344-bbc9363cbfa4\"}, {\"hoverinfo\": \"text\", \"marker\": {\"color\": \"green\", \"size\": 0.5}, \"mode\": \"markers\", \"text\": \"T-SQL appears with PL/SQL 28 times\", \"x\": [-0.7428677917678154], \"y\": [0.508082123237976], \"type\": \"scatter\", \"uid\": \"48282843-3b8b-4db5-9ce0-5ff4af010f5b\"}, {\"hoverinfo\": \"text\", \"marker\": {\"color\": \"blue\", \"size\": 0.5}, \"mode\": \"markers\", \"text\": \"PL/SQL appears with T-SQL 28 times\", \"x\": [-0.8578725331052983], \"y\": [0.2721299633327775], \"type\": \"scatter\", \"uid\": \"ed132fc9-e854-483d-aea6-1d797572e2cf\"}, {\"hoverinfo\": \"text\", \"marker\": {\"color\": \"green\", \"size\": 0.5}, \"mode\": \"markers\", \"text\": \"T-SQL appears with Pentaho 31 times\", \"x\": [-0.7519170778881058], \"y\": [0.49459145562798823], \"type\": \"scatter\", \"uid\": \"c82ca391-286c-4c44-a2ac-45bc80f962b9\"}, {\"hoverinfo\": \"text\", \"marker\": {\"color\": \"blue\", \"size\": 0.5}, \"mode\": \"markers\", \"text\": \"Pentaho appears with T-SQL 31 times\", \"x\": [-0.881494035718821], \"y\": [0.18157165250155624], \"type\": \"scatter\", \"uid\": \"cfff7371-217d-415f-b32d-c4a77c4a0f89\"}, {\"hoverinfo\": \"text\", \"marker\": {\"color\": \"green\", \"size\": 0.5}, \"mode\": \"markers\", \"text\": \"T-SQL appears with Hadoop 16 times\", \"x\": [-0.7277583142351781], \"y\": [0.5294977205442642], \"type\": \"scatter\", \"uid\": \"b524c441-8ead-429e-a9d0-8b63d57c1ea6\"}, {\"hoverinfo\": \"text\", \"marker\": {\"color\": \"blue\", \"size\": 0.5}, \"mode\": \"markers\", \"text\": \"Hadoop appears with T-SQL 16 times\", \"x\": [-0.8970887630323138], \"y\": [0.07233084571020344], \"type\": \"scatter\", \"uid\": \"fecfba33-0bd6-4e07-b2d1-af7e0c8a3755\"}, {\"hoverinfo\": \"text\", \"marker\": {\"color\": \"green\", \"size\": 0.5}, \"mode\": \"markers\", \"text\": \"T-SQL appears with Spark 16 times\", \"x\": [-0.7251797107320087], \"y\": [0.5330238147987763], \"type\": \"scatter\", \"uid\": \"ac16ac05-909d-4692-be96-86475f23d8dd\"}, {\"hoverinfo\": \"text\", \"marker\": {\"color\": \"blue\", \"size\": 0.5}, \"mode\": \"markers\", \"text\": \"Spark appears with T-SQL 16 times\", \"x\": [-0.8956672842516435], \"y\": [-0.0882049654003995], \"type\": \"scatter\", \"uid\": \"51823595-2741-4196-8148-8abdb509b360\"}, {\"hoverinfo\": \"text\", \"marker\": {\"color\": \"green\", \"size\": 0.5}, \"mode\": \"markers\", \"text\": \"T-SQL appears with Informatica 11 times\", \"x\": [-0.7229907228517526], \"y\": [0.5359891926805057], \"type\": \"scatter\", \"uid\": \"66da4715-ef37-4f89-af7f-71cd71ab2deb\"}, {\"hoverinfo\": \"text\", \"marker\": {\"color\": \"blue\", \"size\": 0.5}, \"mode\": \"markers\", \"text\": \"Informatica appears with T-SQL 11 times\", \"x\": [-0.8628641726639755], \"y\": [-0.25586211038939105], \"type\": \"scatter\", \"uid\": \"f986c736-6e26-41c9-9721-7a6cafb1a417\"}, {\"hoverinfo\": \"text\", \"marker\": {\"color\": \"green\", \"size\": 0.5}, \"mode\": \"markers\", \"text\": \"T-SQL appears with Qlik 52 times\", \"x\": [-0.7690652448826621], \"y\": [0.4674811751435249], \"type\": \"scatter\", \"uid\": \"d0c8d41a-e949-4461-9c61-20c60e90f576\"}, {\"hoverinfo\": \"text\", \"marker\": {\"color\": \"blue\", \"size\": 0.5}, \"mode\": \"markers\", \"text\": \"Qlik appears with T-SQL 52 times\", \"x\": [-0.7631250356094917], \"y\": [-0.47711652667457655], \"type\": \"scatter\", \"uid\": \"b50acaf3-107b-4f52-b9e2-d7c53b8bc36b\"}, {\"hoverinfo\": \"text\", \"marker\": {\"color\": \"green\", \"size\": 0.5}, \"mode\": \"markers\", \"text\": \"T-SQL appears with Tableau 72 times\", \"x\": [-0.7777211908430037], \"y\": [0.45293459717020984], \"type\": \"scatter\", \"uid\": \"961bf7ed-9198-41eb-a3a0-aed165ad07a3\"}, {\"hoverinfo\": \"text\", \"marker\": {\"color\": \"blue\", \"size\": 0.5}, \"mode\": \"markers\", \"text\": \"Tableau appears with T-SQL 72 times\", \"x\": [-0.4293121481061112], \"y\": [-0.7910063713324416], \"type\": \"scatter\", \"uid\": \"d7d9e1a5-4042-4fc1-806b-cb8bc8689396\"}, {\"hoverinfo\": \"text\", \"marker\": {\"color\": \"green\", \"size\": 0.5}, \"mode\": \"markers\", \"text\": \"T-SQL appears with Microstrategy 6 times\", \"x\": [-0.7202988297475588], \"y\": [0.5396013304878866], \"type\": \"scatter\", \"uid\": \"f93fcbd6-4453-4119-9271-d12d2d5c0aa8\"}, {\"hoverinfo\": \"text\", \"marker\": {\"color\": \"blue\", \"size\": 0.5}, \"mode\": \"markers\", \"text\": \"Microstrategy appears with T-SQL 6 times\", \"x\": [-0.058351687302324144], \"y\": [-0.8981063860083458], \"type\": \"scatter\", \"uid\": \"aedcbee0-b199-4f26-bc79-01604dc4ad46\"}, {\"hoverinfo\": \"text\", \"marker\": {\"color\": \"green\", \"size\": 0.5}, \"mode\": \"markers\", \"text\": \"T-SQL appears with Oracle BI 102 times\", \"x\": [-0.802397909178571], \"y\": [0.40762433115045743], \"type\": \"scatter\", \"uid\": \"48faed8a-4abc-43e4-969f-9b984d35dd87\"}, {\"hoverinfo\": \"text\", \"marker\": {\"color\": \"blue\", \"size\": 0.5}, \"mode\": \"markers\", \"text\": \"Oracle BI appears with T-SQL 102 times\", \"x\": [0.1540912497776121], \"y\": [-0.8867107119810685], \"type\": \"scatter\", \"uid\": \"d0aa480e-dd1e-49fc-ae3f-b574746cfe99\"}, {\"hoverinfo\": \"text\", \"marker\": {\"color\": \"green\", \"size\": 0.5}, \"mode\": \"markers\", \"text\": \"T-SQL appears with Python 43 times\", \"x\": [-0.762249456561368], \"y\": [0.47851412306419877], \"type\": \"scatter\", \"uid\": \"17e94b15-0e2d-4b7f-8a82-2ba7ef75fe52\"}, {\"hoverinfo\": \"text\", \"marker\": {\"color\": \"blue\", \"size\": 0.5}, \"mode\": \"markers\", \"text\": \"Python appears with T-SQL 43 times\", \"x\": [0.6231895757942506], \"y\": [-0.6493340839824921], \"type\": \"scatter\", \"uid\": \"f8cb598e-bc55-4ab7-8d8d-1bd9b8ea44ec\"}, {\"hoverinfo\": \"text\", \"marker\": {\"color\": \"green\", \"size\": 0.5}, \"mode\": \"markers\", \"text\": \"T-SQL appears with VBA 26 times\", \"x\": [-0.7344454202364756], \"y\": [0.5201825878416796], \"type\": \"scatter\", \"uid\": \"aab1815b-7d18-4bbd-9ecb-56c92b1c4ced\"}, {\"hoverinfo\": \"text\", \"marker\": {\"color\": \"blue\", \"size\": 0.5}, \"mode\": \"markers\", \"text\": \"VBA appears with T-SQL 26 times\", \"x\": [0.8274476872577745], \"y\": [-0.35402023226329904], \"type\": \"scatter\", \"uid\": \"cf1011ff-7f8a-43f4-bfc0-6941e297312a\"}, {\"hoverinfo\": \"text\", \"marker\": {\"color\": \"green\", \"size\": 0.5}, \"mode\": \"markers\", \"text\": \"T-SQL appears with Linux 21 times\", \"x\": [-0.7307184479252102], \"y\": [0.5254051292686167], \"type\": \"scatter\", \"uid\": \"b3beae28-e3aa-40dd-bca1-e687efa9170d\"}, {\"hoverinfo\": \"text\", \"marker\": {\"color\": \"blue\", \"size\": 0.5}, \"mode\": \"markers\", \"text\": \"Linux appears with T-SQL 21 times\", \"x\": [0.8749334253098545], \"y\": [-0.21093008622661052], \"type\": \"scatter\", \"uid\": \"56421bf6-c756-4198-9b20-4256007af0a1\"}, {\"hoverinfo\": \"text\", \"marker\": {\"color\": \"green\", \"size\": 0.5}, \"mode\": \"markers\", \"text\": \"T-SQL appears with AWS 8 times\", \"x\": [-0.7214430529441203], \"y\": [0.5380705542572157], \"type\": \"scatter\", \"uid\": \"def39d6b-bcd8-481d-9d9e-08dc8bd2e7a5\"}, {\"hoverinfo\": \"text\", \"marker\": {\"color\": \"blue\", \"size\": 0.5}, \"mode\": \"markers\", \"text\": \"AWS appears with T-SQL 8 times\", \"x\": [0.8948277469255878], \"y\": [-0.09634990052966445], \"type\": \"scatter\", \"uid\": \"bbade264-d9eb-4694-a463-776d3f8e17a5\"}, {\"hoverinfo\": \"text\", \"marker\": {\"color\": \"green\", \"size\": 0.5}, \"mode\": \"markers\", \"text\": \"PL/SQL appears with Pentaho 8 times\", \"x\": [-0.8509615744146655], \"y\": [0.2930262767563924], \"type\": \"scatter\", \"uid\": \"e99d5fda-8cb0-421b-b5fe-3f34a756669f\"}, {\"hoverinfo\": \"text\", \"marker\": {\"color\": \"blue\", \"size\": 0.5}, \"mode\": \"markers\", \"text\": \"Pentaho appears with PL/SQL 8 times\", \"x\": [-0.873872450324955], \"y\": [0.2152833959297817], \"type\": \"scatter\", \"uid\": \"14d4a822-77dd-4529-9131-97eb9dfe6d5f\"}, {\"hoverinfo\": \"text\", \"marker\": {\"color\": \"green\", \"size\": 0.5}, \"mode\": \"markers\", \"text\": \"PL/SQL appears with Hadoop 3 times\", \"x\": [-0.8502875137595166], \"y\": [0.2949765142255565], \"type\": \"scatter\", \"uid\": \"55509d57-cb2f-4b8d-a525-5bb873c75993\"}, {\"hoverinfo\": \"text\", \"marker\": {\"color\": \"blue\", \"size\": 0.5}, \"mode\": \"markers\", \"text\": \"Hadoop appears with PL/SQL 3 times\", \"x\": [-0.8964671234932305], \"y\": [0.07966615652692809], \"type\": \"scatter\", \"uid\": \"56e463cd-1515-4152-826d-70a1efe1a3a4\"}, {\"hoverinfo\": \"text\", \"marker\": {\"color\": \"green\", \"size\": 0.5}, \"mode\": \"markers\", \"text\": \"PL/SQL appears with Informatica 21 times\", \"x\": [-0.8550039669440959], \"y\": [0.28101284047149777], \"type\": \"scatter\", \"uid\": \"e1b2a20d-b110-4b07-8627-1be81de1d2f5\"}, {\"hoverinfo\": \"text\", \"marker\": {\"color\": \"blue\", \"size\": 0.5}, \"mode\": \"markers\", \"text\": \"Informatica appears with PL/SQL 21 times\", \"x\": [-0.8604693844297935], \"y\": [-0.2638037878026246], \"type\": \"scatter\", \"uid\": \"352bddad-ef46-4651-8bc2-fa76a91a88a1\"}, {\"hoverinfo\": \"text\", \"marker\": {\"color\": \"green\", \"size\": 0.5}, \"mode\": \"markers\", \"text\": \"PL/SQL appears with Qlik 10 times\", \"x\": [-0.8521699304086102], \"y\": [0.2894933672942862], \"type\": \"scatter\", \"uid\": \"b420d856-2222-4de8-8eaa-8497d9f29cba\"}, {\"hoverinfo\": \"text\", \"marker\": {\"color\": \"blue\", \"size\": 0.5}, \"mode\": \"markers\", \"text\": \"Qlik appears with PL/SQL 10 times\", \"x\": [-0.7915721180233417], \"y\": [-0.42826811925246183], \"type\": \"scatter\", \"uid\": \"54ce4bb9-a3ae-4e30-900d-9280359d12fb\"}, {\"hoverinfo\": \"text\", \"marker\": {\"color\": \"green\", \"size\": 0.5}, \"mode\": \"markers\", \"text\": \"PL/SQL appears with Tableau 13 times\", \"x\": [-0.8528941796232036], \"y\": [0.2873526028503355], \"type\": \"scatter\", \"uid\": \"cfaaa288-c1a6-45d5-9e8a-86291dcf951a\"}, {\"hoverinfo\": \"text\", \"marker\": {\"color\": \"blue\", \"size\": 0.5}, \"mode\": \"markers\", \"text\": \"Tableau appears with PL/SQL 13 times\", \"x\": [-0.5294221855475647], \"y\": [-0.727813265508427], \"type\": \"scatter\", \"uid\": \"31dba491-d90c-4b22-8c5e-22d720228fed\"}, {\"hoverinfo\": \"text\", \"marker\": {\"color\": \"green\", \"size\": 0.5}, \"mode\": \"markers\", \"text\": \"PL/SQL appears with Microstrategy 17 times\", \"x\": [-0.8538307697564087], \"y\": [0.28455758049501784], \"type\": \"scatter\", \"uid\": \"250f2205-3cc8-4b92-a625-309d51137493\"}, {\"hoverinfo\": \"text\", \"marker\": {\"color\": \"blue\", \"size\": 0.5}, \"mode\": \"markers\", \"text\": \"Microstrategy appears with PL/SQL 17 times\", \"x\": [-0.043797337791942566], \"y\": [-0.8989336978900827], \"type\": \"scatter\", \"uid\": \"6ed40772-f8a7-403a-a6cd-ed384d7291d5\"}, {\"hoverinfo\": \"text\", \"marker\": {\"color\": \"green\", \"size\": 0.5}, \"mode\": \"markers\", \"text\": \"PL/SQL appears with Oracle BI 71 times\", \"x\": [-0.8634157520579647], \"y\": [0.25399456509575], \"type\": \"scatter\", \"uid\": \"6b0eb29a-bb2e-4c52-98c4-60b878c88aa1\"}, {\"hoverinfo\": \"text\", \"marker\": {\"color\": \"blue\", \"size\": 0.5}, \"mode\": \"markers\", \"text\": \"Oracle BI appears with PL/SQL 71 times\", \"x\": [0.10309330038272317], \"y\": [-0.8940759315719206], \"type\": \"scatter\", \"uid\": \"881bd9e4-f08b-44ca-b203-f2c777c2f5a0\"}, {\"hoverinfo\": \"text\", \"marker\": {\"color\": \"green\", \"size\": 0.5}, \"mode\": \"markers\", \"text\": \"PL/SQL appears with Python 2 times\", \"x\": [-0.8499326503748638], \"y\": [0.29599744902069597], \"type\": \"scatter\", \"uid\": \"590ef1cd-3675-445d-971c-4d00fd7a092a\"}, {\"hoverinfo\": \"text\", \"marker\": {\"color\": \"blue\", \"size\": 0.5}, \"mode\": \"markers\", \"text\": \"Python appears with PL/SQL 2 times\", \"x\": [0.585064232511782], \"y\": [-0.683885841230391], \"type\": \"scatter\", \"uid\": \"aabcc10b-f298-4016-bcbb-8df1351b68c4\"}, {\"hoverinfo\": \"text\", \"marker\": {\"color\": \"green\", \"size\": 0.5}, \"mode\": \"markers\", \"text\": \"PL/SQL appears with VBA 5 times\", \"x\": [-0.8505448259863372], \"y\": [0.2942337488934119], \"type\": \"scatter\", \"uid\": \"c3f481c3-0944-45c3-b846-438fbcf36df7\"}, {\"hoverinfo\": \"text\", \"marker\": {\"color\": \"blue\", \"size\": 0.5}, \"mode\": \"markers\", \"text\": \"VBA appears with PL/SQL 5 times\", \"x\": [0.8190230100500233], \"y\": [-0.373096916375088], \"type\": \"scatter\", \"uid\": \"3eeb870e-32b0-4976-824c-6a0e76d4f83f\"}, {\"hoverinfo\": \"text\", \"marker\": {\"color\": \"green\", \"size\": 0.5}, \"mode\": \"markers\", \"text\": \"PL/SQL appears with Linux 1 times\", \"x\": [-0.8498356566829492], \"y\": [0.29627581175360973], \"type\": \"scatter\", \"uid\": \"4b0296ff-8f9e-43b5-9f46-8f0b16e5aed6\"}, {\"hoverinfo\": \"text\", \"marker\": {\"color\": \"blue\", \"size\": 0.5}, \"mode\": \"markers\", \"text\": \"Linux appears with PL/SQL 1 times\", \"x\": [0.8710701994509212], \"y\": [-0.22635526861226882], \"type\": \"scatter\", \"uid\": \"8caf0aeb-df1c-4fba-b721-a19e81139d92\"}, {\"hoverinfo\": \"text\", \"marker\": {\"color\": \"green\", \"size\": 0.5}, \"mode\": \"markers\", \"text\": \"PL/SQL appears with AWS 1 times\", \"x\": [-0.8497709435726974], \"y\": [0.29646136925334376], \"type\": \"scatter\", \"uid\": \"b10eb1e0-1b05-49de-8300-78b594f912c2\"}, {\"hoverinfo\": \"text\", \"marker\": {\"color\": \"blue\", \"size\": 0.5}, \"mode\": \"markers\", \"text\": \"AWS appears with PL/SQL 1 times\", \"x\": [0.894459555011906], \"y\": [-0.09971010203536605], \"type\": \"scatter\", \"uid\": \"212ac3be-a5c5-4dea-b93b-38babd54753c\"}, {\"hoverinfo\": \"text\", \"marker\": {\"color\": \"green\", \"size\": 0.5}, \"mode\": \"markers\", \"text\": \"Pentaho appears with Spark 6 times\", \"x\": [-0.8730539368694967], \"y\": [0.21857910082318702], \"type\": \"scatter\", \"uid\": \"4ab47b30-2e19-40c5-a341-9885c3c08b52\"}, {\"hoverinfo\": \"text\", \"marker\": {\"color\": \"blue\", \"size\": 0.5}, \"mode\": \"markers\", \"text\": \"Spark appears with Pentaho 6 times\", \"x\": [-0.896472092184231], \"y\": [-0.07961022506454617], \"type\": \"scatter\", \"uid\": \"bbd3c754-c5b0-4d0e-80a8-416e76120f27\"}, {\"hoverinfo\": \"text\", \"marker\": {\"color\": \"green\", \"size\": 0.5}, \"mode\": \"markers\", \"text\": \"Pentaho appears with Informatica 31 times\", \"x\": [-0.8829802504231491], \"y\": [0.17420068129221775], \"type\": \"scatter\", \"uid\": \"ea414b48-10c6-413e-b9cd-fdf1c2479010\"}, {\"hoverinfo\": \"text\", \"marker\": {\"color\": \"blue\", \"size\": 0.5}, \"mode\": \"markers\", \"text\": \"Informatica appears with Pentaho 31 times\", \"x\": [-0.8565812787697696], \"y\": [-0.27616754490914797], \"type\": \"scatter\", \"uid\": \"08dfe883-df17-4371-8896-64b5bf05838f\"}, {\"hoverinfo\": \"text\", \"marker\": {\"color\": \"green\", \"size\": 0.5}, \"mode\": \"markers\", \"text\": \"Pentaho appears with Qlik 22 times\", \"x\": [-0.8754721428781056], \"y\": [0.2086828384041625], \"type\": \"scatter\", \"uid\": \"c73164c4-933c-4a06-ad89-d2540bf11770\"}, {\"hoverinfo\": \"text\", \"marker\": {\"color\": \"blue\", \"size\": 0.5}, \"mode\": \"markers\", \"text\": \"Qlik appears with Pentaho 22 times\", \"x\": [-0.7855779608294303], \"y\": [-0.4391665600419436], \"type\": \"scatter\", \"uid\": \"24f56450-25b5-462a-a792-caddff27a102\"}, {\"hoverinfo\": \"text\", \"marker\": {\"color\": \"green\", \"size\": 0.5}, \"mode\": \"markers\", \"text\": \"Pentaho appears with Tableau 33 times\", \"x\": [-0.8844497577765182], \"y\": [0.16657918828310497], \"type\": \"scatter\", \"uid\": \"99d1ec15-bd7c-444c-a398-3e68abda3ad2\"}, {\"hoverinfo\": \"text\", \"marker\": {\"color\": \"blue\", \"size\": 0.5}, \"mode\": \"markers\", \"text\": \"Tableau appears with Pentaho 33 times\", \"x\": [-0.49542999857800024], \"y\": [-0.7513648358214554], \"type\": \"scatter\", \"uid\": \"166c09ac-5158-4fb7-b36b-6506090d7d79\"}, {\"hoverinfo\": \"text\", \"marker\": {\"color\": \"green\", \"size\": 0.5}, \"mode\": \"markers\", \"text\": \"Pentaho appears with Microstrategy 2 times\", \"x\": [-0.8728177924341063], \"y\": [0.219520161284683], \"type\": \"scatter\", \"uid\": \"6a982f89-7b11-4d76-b234-99d0f9e24755\"}, {\"hoverinfo\": \"text\", \"marker\": {\"color\": \"blue\", \"size\": 0.5}, \"mode\": \"markers\", \"text\": \"Microstrategy appears with Pentaho 2 times\", \"x\": [-0.06015868981905701], \"y\": [-0.8979871558320055], \"type\": \"scatter\", \"uid\": \"d31721ff-28cd-4579-97cb-c1778001806a\"}, {\"hoverinfo\": \"text\", \"marker\": {\"color\": \"green\", \"size\": 0.5}, \"mode\": \"markers\", \"text\": \"Pentaho appears with Oracle BI 30 times\", \"x\": [-0.8799717417808943], \"y\": [0.18881137059800993], \"type\": \"scatter\", \"uid\": \"93934b20-b0ef-4c15-ae59-402c8ee62b87\"}, {\"hoverinfo\": \"text\", \"marker\": {\"color\": \"blue\", \"size\": 0.5}, \"mode\": \"markers\", \"text\": \"Oracle BI appears with Pentaho 30 times\", \"x\": [0.036388434150347385], \"y\": [-0.8992640779326648], \"type\": \"scatter\", \"uid\": \"8b9cab46-b773-4df1-a3dc-d23ce76db6e1\"}, {\"hoverinfo\": \"text\", \"marker\": {\"color\": \"green\", \"size\": 0.5}, \"mode\": \"markers\", \"text\": \"Pentaho appears with Python 34 times\", \"x\": [-0.8859176647337279], \"y\": [0.1585871725983476], \"type\": \"scatter\", \"uid\": \"7142e332-d183-480b-aba0-fe54f687ab42\"}, {\"hoverinfo\": \"text\", \"marker\": {\"color\": \"blue\", \"size\": 0.5}, \"mode\": \"markers\", \"text\": \"Python appears with Pentaho 34 times\", \"x\": [0.6068247470552464], \"y\": [-0.6646530872277179], \"type\": \"scatter\", \"uid\": \"3b5f6972-6d0d-4f53-81f9-5ad819a029f5\"}, {\"hoverinfo\": \"text\", \"marker\": {\"color\": \"green\", \"size\": 0.5}, \"mode\": \"markers\", \"text\": \"Pentaho appears with VBA 1 times\", \"x\": [-0.8727289767403278], \"y\": [0.2198729932433275], \"type\": \"scatter\", \"uid\": \"2ac23fc0-62bc-423b-b9c6-7520007f1e13\"}, {\"hoverinfo\": \"text\", \"marker\": {\"color\": \"blue\", \"size\": 0.5}, \"mode\": \"markers\", \"text\": \"VBA appears with Pentaho 1 times\", \"x\": [0.8179844900005125], \"y\": [-0.37536831794732134], \"type\": \"scatter\", \"uid\": \"7090028e-eac8-4805-ac6d-6e6c986ba675\"}, {\"hoverinfo\": \"text\", \"marker\": {\"color\": \"green\", \"size\": 0.5}, \"mode\": \"markers\", \"text\": \"Pentaho appears with Linux 30 times\", \"x\": [-0.8784163982112705], \"y\": [0.1959199616004931], \"type\": \"scatter\", \"uid\": \"96e10b2e-573e-4bba-a60a-dae59d233bbf\"}, {\"hoverinfo\": \"text\", \"marker\": {\"color\": \"blue\", \"size\": 0.5}, \"mode\": \"markers\", \"text\": \"Linux appears with Pentaho 30 times\", \"x\": [0.8776648037393412], \"y\": [-0.19925986117927455], \"type\": \"scatter\", \"uid\": \"931dc361-66fa-4adc-9bf6-3b4a68337bdc\"}, {\"hoverinfo\": \"text\", \"marker\": {\"color\": \"green\", \"size\": 0.5}, \"mode\": \"markers\", \"text\": \"Pentaho appears with AWS 13 times\", \"x\": [-0.8744781716667083], \"y\": [0.21280960335109672], \"type\": \"scatter\", \"uid\": \"d1d5862a-48fe-4bc8-8844-921786b12f8b\"}, {\"hoverinfo\": \"text\", \"marker\": {\"color\": \"blue\", \"size\": 0.5}, \"mode\": \"markers\", \"text\": \"AWS appears with Pentaho 13 times\", \"x\": [0.895273025599379], \"y\": [-0.09212062545452947], \"type\": \"scatter\", \"uid\": \"e162253b-ee85-4990-8132-81b771b4346c\"}, {\"hoverinfo\": \"text\", \"marker\": {\"color\": \"green\", \"size\": 0.5}, \"mode\": \"markers\", \"text\": \"Hadoop appears with Spark 94 times\", \"x\": [-0.8999365130179492], \"y\": [-0.010689833352047234], \"type\": \"scatter\", \"uid\": \"cdb533ff-d646-4f99-9b6d-e3b3447ccde3\"}, {\"hoverinfo\": \"text\", \"marker\": {\"color\": \"blue\", \"size\": 0.5}, \"mode\": \"markers\", \"text\": \"Spark appears with Hadoop 94 times\", \"x\": [-0.8825106000753781], \"y\": [-0.17656455124003845], \"type\": \"scatter\", \"uid\": \"56382e01-7f6f-45f2-b93f-0f8c18154b99\"}, {\"hoverinfo\": \"text\", \"marker\": {\"color\": \"green\", \"size\": 0.5}, \"mode\": \"markers\", \"text\": \"Hadoop appears with Informatica 5 times\", \"x\": [-0.8965549295248867], \"y\": [0.07867183959095829], \"type\": \"scatter\", \"uid\": \"e115c3cb-42af-4b87-80f4-5666da0e96d5\"}, {\"hoverinfo\": \"text\", \"marker\": {\"color\": \"blue\", \"size\": 0.5}, \"mode\": \"markers\", \"text\": \"Informatica appears with Hadoop 5 times\", \"x\": [-0.865683701639733], \"y\": [-0.2461538720299356], \"type\": \"scatter\", \"uid\": \"8e9b8341-f5ae-49cc-b80e-f831a18a9b26\"}, {\"hoverinfo\": \"text\", \"marker\": {\"color\": \"green\", \"size\": 0.5}, \"mode\": \"markers\", \"text\": \"Hadoop appears with Qlik 9 times\", \"x\": [-0.8968326820420984], \"y\": [0.07543964754143848], \"type\": \"scatter\", \"uid\": \"fc824754-eef7-4cb1-be1a-0ce5869a3ee4\"}, {\"hoverinfo\": \"text\", \"marker\": {\"color\": \"blue\", \"size\": 0.5}, \"mode\": \"markers\", \"text\": \"Qlik appears with Hadoop 9 times\", \"x\": [-0.7928465046293435], \"y\": [-0.42590423817688466], \"type\": \"scatter\", \"uid\": \"315eeeba-1934-4972-845a-a99b65b217f4\"}, {\"hoverinfo\": \"text\", \"marker\": {\"color\": \"green\", \"size\": 0.5}, \"mode\": \"markers\", \"text\": \"Hadoop appears with Tableau 32 times\", \"x\": [-0.8993396795054333], \"y\": [0.03446941930268751], \"type\": \"scatter\", \"uid\": \"ba7c6b8b-22a2-40a6-a9c5-8c2faecb5c15\"}, {\"hoverinfo\": \"text\", \"marker\": {\"color\": \"blue\", \"size\": 0.5}, \"mode\": \"markers\", \"text\": \"Tableau appears with Hadoop 32 times\", \"x\": [-0.5031958417917721], \"y\": [-0.7461862668285111], \"type\": \"scatter\", \"uid\": \"bac0feb5-f53f-4766-8539-39efa8fa00a5\"}, {\"hoverinfo\": \"text\", \"marker\": {\"color\": \"green\", \"size\": 0.5}, \"mode\": \"markers\", \"text\": \"Hadoop appears with Microstrategy 3 times\", \"x\": [-0.8962655282001892], \"y\": [0.08190300946873628], \"type\": \"scatter\", \"uid\": \"116d08ab-8882-470d-8029-2136273831aa\"}, {\"hoverinfo\": \"text\", \"marker\": {\"color\": \"blue\", \"size\": 0.5}, \"mode\": \"markers\", \"text\": \"Microstrategy appears with Hadoop 3 times\", \"x\": [-0.0591648681084585], \"y\": [-0.898053182379367], \"type\": \"scatter\", \"uid\": \"7fd1b801-6083-4a02-911f-cfe20b528b15\"}, {\"hoverinfo\": \"text\", \"marker\": {\"color\": \"green\", \"size\": 0.5}, \"mode\": \"markers\", \"text\": \"Hadoop appears with Oracle BI 28 times\", \"x\": [-0.8986280657102673], \"y\": [0.049674938528633444], \"type\": \"scatter\", \"uid\": \"6b7801ff-be95-441a-9fc8-5c21fbdc6062\"}, {\"hoverinfo\": \"text\", \"marker\": {\"color\": \"blue\", \"size\": 0.5}, \"mode\": \"markers\", \"text\": \"Oracle BI appears with Hadoop 28 times\", \"x\": [0.027974194408071022], \"y\": [-0.8995651418586758], \"type\": \"scatter\", \"uid\": \"3065f493-396a-417b-bc4f-9781b7308118\"}, {\"hoverinfo\": \"text\", \"marker\": {\"color\": \"green\", \"size\": 0.5}, \"mode\": \"markers\", \"text\": \"Hadoop appears with Python 99 times\", \"x\": [-0.8993283915621135], \"y\": [-0.03476268301356879], \"type\": \"scatter\", \"uid\": \"db65471a-414c-4116-8286-6ecc78ad91a3\"}, {\"hoverinfo\": \"text\", \"marker\": {\"color\": \"blue\", \"size\": 0.5}, \"mode\": \"markers\", \"text\": \"Python appears with Hadoop 99 times\", \"x\": [0.7111974293248055], \"y\": [-0.5515416725160379], \"type\": \"scatter\", \"uid\": \"6761d1da-31ae-4738-af5c-9a580a0ee596\"}, {\"hoverinfo\": \"text\", \"marker\": {\"color\": \"green\", \"size\": 0.5}, \"mode\": \"markers\", \"text\": \"Hadoop appears with VBA 6 times\", \"x\": [-0.896673862054627], \"y\": [0.07730449604026748], \"type\": \"scatter\", \"uid\": \"ce953754-e64c-4e16-bbdb-da604ae70240\"}, {\"hoverinfo\": \"text\", \"marker\": {\"color\": \"blue\", \"size\": 0.5}, \"mode\": \"markers\", \"text\": \"VBA appears with Hadoop 6 times\", \"x\": [0.8208252384726155], \"y\": [-0.36911506049790754], \"type\": \"scatter\", \"uid\": \"83e9f963-5d0f-4ae2-a2f1-28b07e367820\"}, {\"hoverinfo\": \"text\", \"marker\": {\"color\": \"green\", \"size\": 0.5}, \"mode\": \"markers\", \"text\": \"Hadoop appears with Linux 61 times\", \"x\": [-0.8999584344021377], \"y\": [0.008649644411951745], \"type\": \"scatter\", \"uid\": \"2152fa9b-d5e2-4c89-920b-bdeef5dcfcde\"}, {\"hoverinfo\": \"text\", \"marker\": {\"color\": \"blue\", \"size\": 0.5}, \"mode\": \"markers\", \"text\": \"Linux appears with Hadoop 61 times\", \"x\": [0.8872093840386639], \"y\": [-0.15119361386558156], \"type\": \"scatter\", \"uid\": \"c035b7bf-ecd4-4a3f-accd-98066be42357\"}, {\"hoverinfo\": \"text\", \"marker\": {\"color\": \"green\", \"size\": 0.5}, \"mode\": \"markers\", \"text\": \"Hadoop appears with AWS 31 times\", \"x\": [-0.8990043200287906], \"y\": [0.042322955586440524], \"type\": \"scatter\", \"uid\": \"b58208b3-c848-43c3-bcb2-a8a64be40807\"}, {\"hoverinfo\": \"text\", \"marker\": {\"color\": \"blue\", \"size\": 0.5}, \"mode\": \"markers\", \"text\": \"AWS appears with Hadoop 31 times\", \"x\": [0.8972762285713491], \"y\": [-0.06996691818835633], \"type\": \"scatter\", \"uid\": \"1ada6925-bcc4-4108-af2e-26e4c5a2bf55\"}, {\"hoverinfo\": \"text\", \"marker\": {\"color\": \"green\", \"size\": 0.5}, \"mode\": \"markers\", \"text\": \"Spark appears with Informatica 8 times\", \"x\": [-0.8963131360185272], \"y\": [-0.08138035512722319], \"type\": \"scatter\", \"uid\": \"ae70fdc9-f564-41bd-8679-427f83df53f0\"}, {\"hoverinfo\": \"text\", \"marker\": {\"color\": \"blue\", \"size\": 0.5}, \"mode\": \"markers\", \"text\": \"Informatica appears with Spark 8 times\", \"x\": [-0.86472005362932], \"y\": [-0.24951799304119532], \"type\": \"scatter\", \"uid\": \"d897d05e-415b-44b2-b03f-ed5094379e42\"}, {\"hoverinfo\": \"text\", \"marker\": {\"color\": \"green\", \"size\": 0.5}, \"mode\": \"markers\", \"text\": \"Spark appears with Qlik 15 times\", \"x\": [-0.8960444062269297], \"y\": [-0.08428773380171667], \"type\": \"scatter\", \"uid\": \"71a6f14f-7888-42e9-a61d-d3f88f8d4c16\"}, {\"hoverinfo\": \"text\", \"marker\": {\"color\": \"blue\", \"size\": 0.5}, \"mode\": \"markers\", \"text\": \"Qlik appears with Spark 15 times\", \"x\": [-0.7881165786555171], \"y\": [-0.43459436081054054], \"type\": \"scatter\", \"uid\": \"020ec1f6-5193-429a-bf0d-7a2d07b7963d\"}, {\"hoverinfo\": \"text\", \"marker\": {\"color\": \"green\", \"size\": 0.5}, \"mode\": \"markers\", \"text\": \"Spark appears with Tableau 32 times\", \"x\": [-0.8925320687139789], \"y\": [-0.11570007051486696], \"type\": \"scatter\", \"uid\": \"0afbcce0-41a1-45e3-a929-87707eb00944\"}, {\"hoverinfo\": \"text\", \"marker\": {\"color\": \"blue\", \"size\": 0.5}, \"mode\": \"markers\", \"text\": \"Tableau appears with Spark 32 times\", \"x\": [-0.5107893321231762], \"y\": [-0.7410089460925283], \"type\": \"scatter\", \"uid\": \"4ca21250-5ade-4289-bdfe-95f952e329b3\"}, {\"hoverinfo\": \"text\", \"marker\": {\"color\": \"green\", \"size\": 0.5}, \"mode\": \"markers\", \"text\": \"Spark appears with Microstrategy 3 times\", \"x\": [-0.8968116251654433], \"y\": [-0.07568955653269704], \"type\": \"scatter\", \"uid\": \"a8f3c49d-1ad1-4926-a27d-02dedca7c172\"}, {\"hoverinfo\": \"text\", \"marker\": {\"color\": \"blue\", \"size\": 0.5}, \"mode\": \"markers\", \"text\": \"Microstrategy appears with Spark 3 times\", \"x\": [-0.059706961738464404], \"y\": [-0.8980173042430538], \"type\": \"scatter\", \"uid\": \"3fb00a8a-2821-4467-98a6-8c33bd1b2da6\"}, {\"hoverinfo\": \"text\", \"marker\": {\"color\": \"green\", \"size\": 0.5}, \"mode\": \"markers\", \"text\": \"Spark appears with Oracle BI 25 times\", \"x\": [-0.8934334351188615], \"y\": [-0.10852049120655102], \"type\": \"scatter\", \"uid\": \"17392cf2-5b9b-4d69-b974-de6e24049f16\"}, {\"hoverinfo\": \"text\", \"marker\": {\"color\": \"blue\", \"size\": 0.5}, \"mode\": \"markers\", \"text\": \"Oracle BI appears with Spark 25 times\", \"x\": [0.020283160879260412], \"y\": [-0.8997714117400852], \"type\": \"scatter\", \"uid\": \"9110f0af-d856-4095-bc41-e6c2b4c379fb\"}, {\"hoverinfo\": \"text\", \"marker\": {\"color\": \"green\", \"size\": 0.5}, \"mode\": \"markers\", \"text\": \"Spark appears with Python 114 times\", \"x\": [-0.8769513650139027], \"y\": [-0.20237663748627924], \"type\": \"scatter\", \"uid\": \"6ef7ed99-e32f-460e-84c0-8cf50da90248\"}, {\"hoverinfo\": \"text\", \"marker\": {\"color\": \"blue\", \"size\": 0.5}, \"mode\": \"markers\", \"text\": \"Python appears with Spark 114 times\", \"x\": [0.7461567122116485], \"y\": [-0.5032396653896662], \"type\": \"scatter\", \"uid\": \"25fb81e9-bc00-4a78-8bf2-8984eb0cd555\"}, {\"hoverinfo\": \"text\", \"marker\": {\"color\": \"green\", \"size\": 0.5}, \"mode\": \"markers\", \"text\": \"Spark appears with VBA 6 times\", \"x\": [-0.8966055579549604], \"y\": [-0.07809272337596013], \"type\": \"scatter\", \"uid\": \"63b6ec41-b576-4f44-8c6e-313cde995094\"}, {\"hoverinfo\": \"text\", \"marker\": {\"color\": \"blue\", \"size\": 0.5}, \"mode\": \"markers\", \"text\": \"VBA appears with Spark 6 times\", \"x\": [0.8202095102463006], \"y\": [-0.3704812536438568], \"type\": \"scatter\", \"uid\": \"82de82ec-7d9b-4c42-a149-db06be84ebbd\"}, {\"hoverinfo\": \"text\", \"marker\": {\"color\": \"green\", \"size\": 0.5}, \"mode\": \"markers\", \"text\": \"Spark appears with Linux 46 times\", \"x\": [-0.88851261288877], \"y\": [-0.1433364459499772], \"type\": \"scatter\", \"uid\": \"d93b0c55-5370-4b6c-a07e-6ffba41507c1\"}, {\"hoverinfo\": \"text\", \"marker\": {\"color\": \"blue\", \"size\": 0.5}, \"mode\": \"markers\", \"text\": \"Linux appears with Spark 46 times\", \"x\": [0.8825672868345835], \"y\": [-0.17628098085001137], \"type\": \"scatter\", \"uid\": \"e6ae3d5d-ab78-4187-ba0a-d1056d316c7d\"}, {\"hoverinfo\": \"text\", \"marker\": {\"color\": \"green\", \"size\": 0.5}, \"mode\": \"markers\", \"text\": \"Spark appears with AWS 36 times\", \"x\": [-0.890111010004532], \"y\": [-0.1330503283299668], \"type\": \"scatter\", \"uid\": \"00dda320-19ba-45a8-b9b2-e662a9734dc5\"}, {\"hoverinfo\": \"text\", \"marker\": {\"color\": \"blue\", \"size\": 0.5}, \"mode\": \"markers\", \"text\": \"AWS appears with Spark 36 times\", \"x\": [0.8978146229709821], \"y\": [-0.06268096026285322], \"type\": \"scatter\", \"uid\": \"1cc33537-29fc-41a8-bc8d-bff1e3b421be\"}, {\"hoverinfo\": \"text\", \"marker\": {\"color\": \"green\", \"size\": 0.5}, \"mode\": \"markers\", \"text\": \"Informatica appears with Qlik 90 times\", \"x\": [-0.836564858211918], \"y\": [-0.33190245254422823], \"type\": \"scatter\", \"uid\": \"26b1207f-425b-452a-afd0-071040787500\"}, {\"hoverinfo\": \"text\", \"marker\": {\"color\": \"blue\", \"size\": 0.5}, \"mode\": \"markers\", \"text\": \"Qlik appears with Informatica 90 times\", \"x\": [-0.7439683403390357], \"y\": [-0.5064692572833821], \"type\": \"scatter\", \"uid\": \"dbdb0384-4bad-43c6-9a48-7ac69e089c3e\"}, {\"hoverinfo\": \"text\", \"marker\": {\"color\": \"green\", \"size\": 0.5}, \"mode\": \"markers\", \"text\": \"Informatica appears with Tableau 61 times\", \"x\": [-0.8435838492088858], \"y\": [-0.31363400541701425], \"type\": \"scatter\", \"uid\": \"f582e51a-d126-4f96-b1f7-28a595fceac9\"}, {\"hoverinfo\": \"text\", \"marker\": {\"color\": \"blue\", \"size\": 0.5}, \"mode\": \"markers\", \"text\": \"Tableau appears with Informatica 61 times\", \"x\": [-0.4631035819262134], \"y\": [-0.7717091890130058], \"type\": \"scatter\", \"uid\": \"8d035778-1afc-4cf1-ae1b-24815d2ff892\"}, {\"hoverinfo\": \"text\", \"marker\": {\"color\": \"green\", \"size\": 0.5}, \"mode\": \"markers\", \"text\": \"Informatica appears with Microstrategy 8 times\", \"x\": [-0.8641428330381629], \"y\": [-0.25150976941021175], \"type\": \"scatter\", \"uid\": \"d0f82ab7-2533-4e2b-90c5-b53293bf8fbe\"}, {\"hoverinfo\": \"text\", \"marker\": {\"color\": \"blue\", \"size\": 0.5}, \"mode\": \"markers\", \"text\": \"Microstrategy appears with Informatica 8 times\", \"x\": [-0.0560022319300699], \"y\": [-0.8982559490584244], \"type\": \"scatter\", \"uid\": \"b1b1a7ea-3d6d-40bb-813d-ebcd3ee69e04\"}, {\"hoverinfo\": \"text\", \"marker\": {\"color\": \"green\", \"size\": 0.5}, \"mode\": \"markers\", \"text\": \"Informatica appears with Oracle BI 114 times\", \"x\": [-0.8144218760108325], \"y\": [-0.38303656206032904], \"type\": \"scatter\", \"uid\": \"6a7ed525-227f-43cc-b0cd-62f387923926\"}, {\"hoverinfo\": \"text\", \"marker\": {\"color\": \"blue\", \"size\": 0.5}, \"mode\": \"markers\", \"text\": \"Oracle BI appears with Informatica 114 times\", \"x\": [0.24576056017345393], \"y\": [-0.8657954418124585], \"type\": \"scatter\", \"uid\": \"91bbe8aa-7b6f-40b0-8bae-f2d000d335b4\"}, {\"hoverinfo\": \"text\", \"marker\": {\"color\": \"green\", \"size\": 0.5}, \"mode\": \"markers\", \"text\": \"Informatica appears with Python 24 times\", \"x\": [-0.8587417722429569], \"y\": [-0.269374402282447], \"type\": \"scatter\", \"uid\": \"a5db3081-24c1-4e3e-bab7-f13e65522c22\"}, {\"hoverinfo\": \"text\", \"marker\": {\"color\": \"blue\", \"size\": 0.5}, \"mode\": \"markers\", \"text\": \"Python appears with Informatica 24 times\", \"x\": [0.5944358552130692], \"y\": [-0.6757558834646629], \"type\": \"scatter\", \"uid\": \"dea3cd6d-c0c2-436b-b0d6-cd1a2163ed7b\"}, {\"hoverinfo\": \"text\", \"marker\": {\"color\": \"green\", \"size\": 0.5}, \"mode\": \"markers\", \"text\": \"Informatica appears with VBA 3 times\", \"x\": [-0.866248577386723], \"y\": [-0.24415855949664902], \"type\": \"scatter\", \"uid\": \"cedf165e-5af7-4723-b0c5-890e5ac4c775\"}, {\"hoverinfo\": \"text\", \"marker\": {\"color\": \"blue\", \"size\": 0.5}, \"mode\": \"markers\", \"text\": \"VBA appears with Informatica 3 times\", \"x\": [0.8186083584564351], \"y\": [-0.3740058227691925], \"type\": \"scatter\", \"uid\": \"a5fb4806-efb7-4412-81dc-db6654cf0629\"}, {\"hoverinfo\": \"text\", \"marker\": {\"color\": \"green\", \"size\": 0.5}, \"mode\": \"markers\", \"text\": \"Informatica appears with Linux 4 times\", \"x\": [-0.8660020099618957], \"y\": [-0.24503166885518438], \"type\": \"scatter\", \"uid\": \"2f25c7a9-5c83-4424-8e6c-13bcb7615f5f\"}, {\"hoverinfo\": \"text\", \"marker\": {\"color\": \"blue\", \"size\": 0.5}, \"mode\": \"markers\", \"text\": \"Linux appears with Informatica 4 times\", \"x\": [0.8717526563083009], \"y\": [-0.22371255266395199], \"type\": \"scatter\", \"uid\": \"21b8205f-f8ea-4942-870e-6c6cf6e7f308\"}, {\"hoverinfo\": \"text\", \"marker\": {\"color\": \"green\", \"size\": 0.5}, \"mode\": \"markers\", \"text\": \"Informatica appears with AWS 16 times\", \"x\": [-0.8618627980539848], \"y\": [-0.2592151950225069], \"type\": \"scatter\", \"uid\": \"6a34dde2-e851-4c79-bf87-8fd4f9499246\"}, {\"hoverinfo\": \"text\", \"marker\": {\"color\": \"blue\", \"size\": 0.5}, \"mode\": \"markers\", \"text\": \"AWS appears with Informatica 16 times\", \"x\": [0.8955911727971522], \"y\": [-0.0889744413178385], \"type\": \"scatter\", \"uid\": \"980d759b-b371-4182-bb27-3eb46da862a5\"}, {\"hoverinfo\": \"text\", \"marker\": {\"color\": \"green\", \"size\": 0.5}, \"mode\": \"markers\", \"text\": \"Qlik appears with Tableau 264 times\", \"x\": [-0.6491730526177275], \"y\": [-0.6233573194845643], \"type\": \"scatter\", \"uid\": \"51a40b95-fe29-4967-8214-b13464c21a85\"}, {\"hoverinfo\": \"text\", \"marker\": {\"color\": \"blue\", \"size\": 0.5}, \"mode\": \"markers\", \"text\": \"Tableau appears with Qlik 264 times\", \"x\": [-0.3035955292826105], \"y\": [-0.8472483429311689], \"type\": \"scatter\", \"uid\": \"4a274767-a4f1-4d92-9166-1a4f03c16cff\"}, {\"hoverinfo\": \"text\", \"marker\": {\"color\": \"green\", \"size\": 0.5}, \"mode\": \"markers\", \"text\": \"Qlik appears with Microstrategy 22 times\", \"x\": [-0.7825245440151061], \"y\": [-0.44458445543445446], \"type\": \"scatter\", \"uid\": \"8541b0e6-0d6c-42c9-9da7-3935aacc7743\"}, {\"hoverinfo\": \"text\", \"marker\": {\"color\": \"blue\", \"size\": 0.5}, \"mode\": \"markers\", \"text\": \"Microstrategy appears with Qlik 22 times\", \"x\": [-0.040269875963844286], \"y\": [-0.8990986247847655], \"type\": \"scatter\", \"uid\": \"97283afd-8061-46b5-a508-3a8f3385b740\"}, {\"hoverinfo\": \"text\", \"marker\": {\"color\": \"green\", \"size\": 0.5}, \"mode\": \"markers\", \"text\": \"Qlik appears with Oracle BI 241 times\", \"x\": [-0.6965186042770197], \"y\": [-0.569966519978141], \"type\": \"scatter\", \"uid\": \"388ef499-5409-471f-a0b1-5d48976e5e0b\"}, {\"hoverinfo\": \"text\", \"marker\": {\"color\": \"blue\", \"size\": 0.5}, \"mode\": \"markers\", \"text\": \"Oracle BI appears with Qlik 241 times\", \"x\": [0.343487826778911], \"y\": [-0.8318750584400886], \"type\": \"scatter\", \"uid\": \"a4efc98d-ebfd-4667-b457-7e05d3a616e8\"}, {\"hoverinfo\": \"text\", \"marker\": {\"color\": \"green\", \"size\": 0.5}, \"mode\": \"markers\", \"text\": \"Qlik appears with Python 30 times\", \"x\": [-0.7751591103235531], \"y\": [-0.4573055364659362], \"type\": \"scatter\", \"uid\": \"e3e32321-8950-454a-a186-7b84abc99eb3\"}, {\"hoverinfo\": \"text\", \"marker\": {\"color\": \"blue\", \"size\": 0.5}, \"mode\": \"markers\", \"text\": \"Python appears with Qlik 30 times\", \"x\": [0.6001308106102494], \"y\": [-0.67070336972188], \"type\": \"scatter\", \"uid\": \"e1a7517c-9da7-4347-aff6-52670288402d\"}, {\"hoverinfo\": \"text\", \"marker\": {\"color\": \"green\", \"size\": 0.5}, \"mode\": \"markers\", \"text\": \"Qlik appears with VBA 26 times\", \"x\": [-0.7791509343004571], \"y\": [-0.45047066672395525], \"type\": \"scatter\", \"uid\": \"1ebdc525-642f-474a-ae2e-710546ed61cc\"}, {\"hoverinfo\": \"text\", \"marker\": {\"color\": \"blue\", \"size\": 0.5}, \"mode\": \"markers\", \"text\": \"VBA appears with Qlik 26 times\", \"x\": [0.8248718569350914], \"y\": [-0.35998113788982655], \"type\": \"scatter\", \"uid\": \"753d0009-76da-432c-918c-549372f0ab46\"}, {\"hoverinfo\": \"text\", \"marker\": {\"color\": \"green\", \"size\": 0.5}, \"mode\": \"markers\", \"text\": \"Qlik appears with Linux 2 times\", \"x\": [-0.7947780071014663], \"y\": [-0.4222889051678031], \"type\": \"scatter\", \"uid\": \"3c1dffb7-e5c9-4a8a-b890-cb99a3d9ee93\"}, {\"hoverinfo\": \"text\", \"marker\": {\"color\": \"blue\", \"size\": 0.5}, \"mode\": \"markers\", \"text\": \"Linux appears with Qlik 2 times\", \"x\": [0.8713975917764001], \"y\": [-0.2250916192271281], \"type\": \"scatter\", \"uid\": \"3b0effd8-d400-480d-a51a-8417ddbf720d\"}, {\"hoverinfo\": \"text\", \"marker\": {\"color\": \"green\", \"size\": 0.5}, \"mode\": \"markers\", \"text\": \"Qlik appears with AWS 2 times\", \"x\": [-0.7950431283784315], \"y\": [-0.42178954944170555], \"type\": \"scatter\", \"uid\": \"74d9ffaf-201c-4a14-98da-bd26c5a57a35\"}, {\"hoverinfo\": \"text\", \"marker\": {\"color\": \"blue\", \"size\": 0.5}, \"mode\": \"markers\", \"text\": \"AWS appears with Qlik 2 times\", \"x\": [0.8945916483328676], \"y\": [-0.09851793102315425], \"type\": \"scatter\", \"uid\": \"d02e1ce9-f2f9-41ea-821c-7517c39c1088\"}, {\"hoverinfo\": \"text\", \"marker\": {\"color\": \"green\", \"size\": 0.5}, \"mode\": \"markers\", \"text\": \"Tableau appears with Microstrategy 32 times\", \"x\": [-0.5183295580080512], \"y\": [-0.7357543539084075], \"type\": \"scatter\", \"uid\": \"fc9c676e-0696-4186-8043-e1ed387cab81\"}, {\"hoverinfo\": \"text\", \"marker\": {\"color\": \"blue\", \"size\": 0.5}, \"mode\": \"markers\", \"text\": \"Microstrategy appears with Tableau 32 times\", \"x\": [-0.030136470885757185], \"y\": [-0.8994952991108692], \"type\": \"scatter\", \"uid\": \"2c22b4a1-c614-425b-9e93-5582e3e9e707\"}, {\"hoverinfo\": \"text\", \"marker\": {\"color\": \"green\", \"size\": 0.5}, \"mode\": \"markers\", \"text\": \"Tableau appears with Oracle BI 301 times\", \"x\": [-0.22608623740053904], \"y\": [-0.8711400652352451], \"type\": \"scatter\", \"uid\": \"64d47670-b29a-4303-a407-2905ccfe7a7a\"}, {\"hoverinfo\": \"text\", \"marker\": {\"color\": \"blue\", \"size\": 0.5}, \"mode\": \"markers\", \"text\": \"Oracle BI appears with Tableau 301 times\", \"x\": [0.414808049379569], \"y\": [-0.798707882877036], \"type\": \"scatter\", \"uid\": \"73c90833-c40f-4176-8b21-df1c1ca4ba62\"}, {\"hoverinfo\": \"text\", \"marker\": {\"color\": \"green\", \"size\": 0.5}, \"mode\": \"markers\", \"text\": \"Tableau appears with Python 87 times\", \"x\": [-0.4091084859478479], \"y\": [-0.801642218652099], \"type\": \"scatter\", \"uid\": \"64d3f1a9-15f7-4260-8610-de1b47f47e38\"}, {\"hoverinfo\": \"text\", \"marker\": {\"color\": \"blue\", \"size\": 0.5}, \"mode\": \"markers\", \"text\": \"Python appears with Tableau 87 times\", \"x\": [0.6948276073785393], \"y\": [-0.5720267441515425], \"type\": \"scatter\", \"uid\": \"e5b5ceaf-eb41-43ae-b3d6-3fb7d841725e\"}, {\"hoverinfo\": \"text\", \"marker\": {\"color\": \"green\", \"size\": 0.5}, \"mode\": \"markers\", \"text\": \"Tableau appears with VBA 51 times\", \"x\": [-0.4768197641842949], \"y\": [-0.7633104954625172], \"type\": \"scatter\", \"uid\": \"9fc375bb-2336-4f0e-bd42-2161acaba2d6\"}, {\"hoverinfo\": \"text\", \"marker\": {\"color\": \"blue\", \"size\": 0.5}, \"mode\": \"markers\", \"text\": \"VBA appears with Tableau 51 times\", \"x\": [0.8343087167866347], \"y\": [-0.3375336503133267], \"type\": \"scatter\", \"uid\": \"432e20b5-d421-4c5e-992e-1f3d4716bfa5\"}, {\"hoverinfo\": \"text\", \"marker\": {\"color\": \"green\", \"size\": 0.5}, \"mode\": \"markers\", \"text\": \"Tableau appears with Linux 10 times\", \"x\": [-0.532089575304977], \"y\": [-0.7258654722824122], \"type\": \"scatter\", \"uid\": \"4c59d2d3-be5c-46fe-8935-01b1f74a48f5\"}, {\"hoverinfo\": \"text\", \"marker\": {\"color\": \"blue\", \"size\": 0.5}, \"mode\": \"markers\", \"text\": \"Linux appears with Tableau 10 times\", \"x\": [0.8721641397653674], \"y\": [-0.22210293403585762], \"type\": \"scatter\", \"uid\": \"6846a104-df05-4798-82bf-22894ce80124\"}, {\"hoverinfo\": \"text\", \"marker\": {\"color\": \"green\", \"size\": 0.5}, \"mode\": \"markers\", \"text\": \"Tableau appears with AWS 25 times\", \"x\": [-0.5249995893623008], \"y\": [-0.7310098707742704], \"type\": \"scatter\", \"uid\": \"969b9621-39cb-4f59-84d8-fb2579d4d787\"}, {\"hoverinfo\": \"text\", \"marker\": {\"color\": \"blue\", \"size\": 0.5}, \"mode\": \"markers\", \"text\": \"AWS appears with Tableau 25 times\", \"x\": [0.8967808635937151], \"y\": [-0.07605315701606626], \"type\": \"scatter\", \"uid\": \"a052dcec-4851-4851-bde2-7bb42d666cf2\"}, {\"hoverinfo\": \"text\", \"marker\": {\"color\": \"green\", \"size\": 0.5}, \"mode\": \"markers\", \"text\": \"Microstrategy appears with Oracle BI 43 times\", \"x\": [-0.023348490285892243], \"y\": [-0.8996970868027581], \"type\": \"scatter\", \"uid\": \"41f37ed8-3376-4657-a4fb-6c03b8200306\"}, {\"hoverinfo\": \"text\", \"marker\": {\"color\": \"blue\", \"size\": 0.5}, \"mode\": \"markers\", \"text\": \"Oracle BI appears with Microstrategy 43 times\", \"x\": [0.05798796176440787], \"y\": [-0.8981299439894038], \"type\": \"scatter\", \"uid\": \"928cf3ea-d44e-4528-a078-2a1f9438b677\"}, {\"hoverinfo\": \"text\", \"marker\": {\"color\": \"green\", \"size\": 0.5}, \"mode\": \"markers\", \"text\": \"Microstrategy appears with Python 11 times\", \"x\": [-0.05428507899621377], \"y\": [-0.8983613583621987], \"type\": \"scatter\", \"uid\": \"11d95ccf-3092-4495-b3d1-1a6e7fc8e644\"}, {\"hoverinfo\": \"text\", \"marker\": {\"color\": \"blue\", \"size\": 0.5}, \"mode\": \"markers\", \"text\": \"Python appears with Microstrategy 11 times\", \"x\": [0.5864557188509099], \"y\": [-0.6826929689304428], \"type\": \"scatter\", \"uid\": \"b6c78e83-9f4a-4160-90f1-f60a8b113f78\"}, {\"hoverinfo\": \"text\", \"marker\": {\"color\": \"green\", \"size\": 0.5}, \"mode\": \"markers\", \"text\": \"Microstrategy appears with VBA 6 times\", \"x\": [-0.05726737192381569], \"y\": [-0.8981761787717037], \"type\": \"scatter\", \"uid\": \"52d0ceb2-2e1b-4409-9bd7-5cd5afb1facc\"}, {\"hoverinfo\": \"text\", \"marker\": {\"color\": \"blue\", \"size\": 0.5}, \"mode\": \"markers\", \"text\": \"VBA appears with Microstrategy 6 times\", \"x\": [0.8195915081106702], \"y\": [-0.37184641968543586], \"type\": \"scatter\", \"uid\": \"40bfa0af-3eb9-4be5-a496-ab1f66e7743d\"}, {\"hoverinfo\": \"text\", \"marker\": {\"color\": \"green\", \"size\": 0.5}, \"mode\": \"markers\", \"text\": \"Microstrategy appears with Linux 2 times\", \"x\": [-0.06052006132852329], \"y\": [-0.8979628734957764], \"type\": \"scatter\", \"uid\": \"bb57f0cb-108d-41de-b642-053dc4b85d15\"}, {\"hoverinfo\": \"text\", \"marker\": {\"color\": \"blue\", \"size\": 0.5}, \"mode\": \"markers\", \"text\": \"Linux appears with Microstrategy 2 times\", \"x\": [0.8712787520864097], \"y\": [-0.22555118302227695], \"type\": \"scatter\", \"uid\": \"cd2e5baf-ee03-42e8-9c6f-c47a1dd33e95\"}, {\"hoverinfo\": \"text\", \"marker\": {\"color\": \"green\", \"size\": 0.5}, \"mode\": \"markers\", \"text\": \"Microstrategy appears with AWS 2 times\", \"x\": [-0.06088142303680144], \"y\": [-0.8979384457350148], \"type\": \"scatter\", \"uid\": \"c09e2c77-2ff2-4850-8fa2-9e2554f26f45\"}, {\"hoverinfo\": \"text\", \"marker\": {\"color\": \"blue\", \"size\": 0.5}, \"mode\": \"markers\", \"text\": \"AWS appears with Microstrategy 2 times\", \"x\": [0.8945437982336802], \"y\": [-0.09895146811271055], \"type\": \"scatter\", \"uid\": \"642fd70c-4fcd-4914-bf67-f8c9f72d5c81\"}, {\"hoverinfo\": \"text\", \"marker\": {\"color\": \"green\", \"size\": 0.5}, \"mode\": \"markers\", \"text\": \"Oracle BI appears with Python 105 times\", \"x\": [0.18360561977844134], \"y\": [-0.8810726283262773], \"type\": \"scatter\", \"uid\": \"1abe7c30-2470-4164-8ab0-1f9ea01093b7\"}, {\"hoverinfo\": \"text\", \"marker\": {\"color\": \"blue\", \"size\": 0.5}, \"mode\": \"markers\", \"text\": \"Python appears with Oracle BI 105 times\", \"x\": [0.7284567249869212], \"y\": [-0.5285364697173971], \"type\": \"scatter\", \"uid\": \"aaa835ca-2e8e-4b61-8f03-a02a5e312004\"}, {\"hoverinfo\": \"text\", \"marker\": {\"color\": \"green\", \"size\": 0.5}, \"mode\": \"markers\", \"text\": \"Oracle BI appears with VBA 55 times\", \"x\": [0.0849026837103469], \"y\": [-0.8959863471609268], \"type\": \"scatter\", \"uid\": \"f8a031c5-57a3-4948-a502-8a15eca2913f\"}, {\"hoverinfo\": \"text\", \"marker\": {\"color\": \"blue\", \"size\": 0.5}, \"mode\": \"markers\", \"text\": \"VBA appears with Oracle BI 55 times\", \"x\": [0.8483016390995596], \"y\": [-0.3006398661205804], \"type\": \"scatter\", \"uid\": \"4587e34c-c5e7-4a5a-bd95-796616d7180a\"}, {\"hoverinfo\": \"text\", \"marker\": {\"color\": \"green\", \"size\": 0.5}, \"mode\": \"markers\", \"text\": \"Oracle BI appears with Linux 3 times\", \"x\": [0.009252064188721456], \"y\": [-0.899952442803645], \"type\": \"scatter\", \"uid\": \"00e62247-9e96-4615-ade4-1fbccc641d46\"}, {\"hoverinfo\": \"text\", \"marker\": {\"color\": \"blue\", \"size\": 0.5}, \"mode\": \"markers\", \"text\": \"Linux appears with Oracle BI 3 times\", \"x\": [0.8715458005085733], \"y\": [-0.22451707644602487], \"type\": \"scatter\", \"uid\": \"331053bd-8fff-4cbf-9b79-11a0759165a8\"}, {\"hoverinfo\": \"text\", \"marker\": {\"color\": \"green\", \"size\": 0.5}, \"mode\": \"markers\", \"text\": \"Oracle BI appears with AWS 38 times\", \"x\": [0.04624929538212198], \"y\": [-0.8988108825980343], \"type\": \"scatter\", \"uid\": \"7a878ea0-d2a8-438d-8f45-615e32c0e806\"}, {\"hoverinfo\": \"text\", \"marker\": {\"color\": \"blue\", \"size\": 0.5}, \"mode\": \"markers\", \"text\": \"AWS appears with Oracle BI 38 times\", \"x\": [0.8987828738660417], \"y\": [-0.046790443950649185], \"type\": \"scatter\", \"uid\": \"62a926b9-feef-40c6-804d-45bb306bdc73\"}, {\"hoverinfo\": \"text\", \"marker\": {\"color\": \"green\", \"size\": 0.5}, \"mode\": \"markers\", \"text\": \"Python appears with VBA 51 times\", \"x\": [0.6418419839034628], \"y\": [-0.6309032157937278], \"type\": \"scatter\", \"uid\": \"b6d4f4a3-d5ab-44ff-91f6-629125c85d8e\"}, {\"hoverinfo\": \"text\", \"marker\": {\"color\": \"blue\", \"size\": 0.5}, \"mode\": \"markers\", \"text\": \"VBA appears with Python 51 times\", \"x\": [0.8390020564479922], \"y\": [-0.32569241513434144], \"type\": \"scatter\", \"uid\": \"08de9843-4870-4e5e-b27c-aa6ff815fa6b\"}, {\"hoverinfo\": \"text\", \"marker\": {\"color\": \"green\", \"size\": 0.5}, \"mode\": \"markers\", \"text\": \"Python appears with Linux 69 times\", \"x\": [0.6662409061027017], \"y\": [-0.6050810317928097], \"type\": \"scatter\", \"uid\": \"4e105141-bee8-4cbe-bd58-6cd7b2e3b623\"}, {\"hoverinfo\": \"text\", \"marker\": {\"color\": \"blue\", \"size\": 0.5}, \"mode\": \"markers\", \"text\": \"Linux appears with Python 69 times\", \"x\": [0.8896705664521366], \"y\": [-0.13596427173612324], \"type\": \"scatter\", \"uid\": \"6a7db4db-9810-497f-90d5-8805b42becf7\"}, {\"hoverinfo\": \"text\", \"marker\": {\"color\": \"green\", \"size\": 0.5}, \"mode\": \"markers\", \"text\": \"Python appears with AWS 66 times\", \"x\": [0.6532967716548581], \"y\": [-0.619034189803229], \"type\": \"scatter\", \"uid\": \"e21b6ebe-05b1-4482-a87d-dab34e0696a5\"}, {\"hoverinfo\": \"text\", \"marker\": {\"color\": \"blue\", \"size\": 0.5}, \"mode\": \"markers\", \"text\": \"AWS appears with Python 66 times\", \"x\": [0.899301089704142], \"y\": [-0.03546195224381656], \"type\": \"scatter\", \"uid\": \"471bae72-d662-4459-afca-2858f5e3208b\"}, {\"hoverinfo\": \"text\", \"marker\": {\"color\": \"green\", \"size\": 0.5}, \"mode\": \"markers\", \"text\": \"VBA appears with AWS 2 times\", \"x\": [0.8181406697828605], \"y\": [-0.3750277915665085], \"type\": \"scatter\", \"uid\": \"2a73c1f6-7984-4324-9e2b-f8c3d4e91b11\"}, {\"hoverinfo\": \"text\", \"marker\": {\"color\": \"blue\", \"size\": 0.5}, \"mode\": \"markers\", \"text\": \"AWS appears with VBA 2 times\", \"x\": [0.8944957380337201], \"y\": [-0.09938498196161458], \"type\": \"scatter\", \"uid\": \"156cbe2a-82cf-4e35-ad49-d9c3866f279d\"}, {\"hoverinfo\": \"text\", \"marker\": {\"color\": \"green\", \"size\": 0.5}, \"mode\": \"markers\", \"text\": \"Linux appears with AWS 19 times\", \"x\": [0.8738087674961661], \"y\": [-0.21554173110289127], \"type\": \"scatter\", \"uid\": \"b1afcb73-34e1-4002-ac6e-2ee6f8959ce1\"}, {\"hoverinfo\": \"text\", \"marker\": {\"color\": \"blue\", \"size\": 0.5}, \"mode\": \"markers\", \"text\": \"AWS appears with Linux 19 times\", \"x\": [0.895960418943432], \"y\": [-0.08517586328714115], \"type\": \"scatter\", \"uid\": \"afb5dc49-bf65-40ac-ac53-bfd4942ff549\"}], {\"autosize\": true, \"font\": {\"color\": \"#655643\", \"family\": \"Fira Sans Condensed\", \"size\": 12}, \"hidesources\": true, \"hoverdistance\": 40, \"hovermode\": \"closest\", \"margin\": {\"b\": 10, \"l\": 260, \"r\": 270, \"t\": 80}, \"paper_bgcolor\": \"#fffaf0\", \"plot_bgcolor\": \"#fffaf0\", \"shapes\": [{\"fillcolor\": \"#f2e6ce\", \"layer\": \"below\", \"line\": {\"color\": \"rgb(175,175,175)\", \"width\": 0.5}, \"path\": \"M 0.9792328062369008,0.20273902236472463 Q 0.18521462698304975, 0.07546881443039732 0.8420633058740382, 0.539378706384008L 0.8420633058740382, 0.539378706384008 L 0.8555539451049349, 0.5177136728109294 L 0.8684873012843133, 0.495711415551317 M 0.8684873012843133,0.495711415551317 Q 0.18537307639332498, 0.07507877561917552 0.9686671147151169, 0.24836268010611126L 0.9686671147151169, 0.24836268010611126 L 0.9742170728578128, 0.22561271008601222 L 0.9792328062369008, 0.20273902236472463 \", \"type\": \"path\"}, {\"fillcolor\": \"#f2e6ce\", \"layer\": \"below\", \"line\": {\"color\": \"rgb(175,175,175)\", \"width\": 0.5}, \"path\": \"M 0.9968128583146245,0.0797754692786463 Q 0.14522286635820927, 0.13751479588286378 0.1339673713780044, 0.9909857432910263L 0.1339673713780044, 0.9909857432910263 L 0.1481124207262162, 0.9889705308180928 L 0.1622272338861158, 0.9867534264372531 M 0.1622272338861158,0.9867534264372531 Q 0.14532978074054614, 0.13740180067926616 0.9942936888111812, 0.10667736587605671L 0.9942936888111812, 0.10667736587605671 L 0.9956441374868565, 0.09323492633157106 L 0.9968128583146245, 0.0797754692786463 \", \"type\": \"path\"}, {\"fillcolor\": \"#f2e6ce\", \"layer\": \"below\", \"line\": {\"color\": \"rgb(175,175,175)\", \"width\": 0.5}, \"path\": \"M 0.9985238883714366,0.0543143107439173 Q 0.10422037179439468, 0.17069889895086654 -0.4079178598367613, 0.9130186304923883L -0.4079178598367613, 0.9130186304923883 L -0.3957589706587543, 0.918354418045192 L -0.3835303055273598, 0.9235282912515945 M -0.3835303055273598,0.9235282912515945 Q 0.10430888332930124, 0.1706448266388238 0.9968128583146245, 0.0797754692786463L 0.9968128583146245, 0.0797754692786463 L 0.9977495932434206, 0.06705034811683458 L 0.9985238883714366, 0.0543143107439173 \", \"type\": \"path\"}, {\"fillcolor\": \"#f2e6ce\", \"layer\": \"below\", \"line\": {\"color\": \"rgb(175,175,175)\", \"width\": 0.5}, \"path\": \"M 0.9999988732985522,0.0015011334471414417 Q 0.07894515020577668, 0.18375979772242723 -0.6872935443418305, 0.7263797793895727L -0.6872935443418305, 0.7263797793895727 L -0.6867920246589265, 0.7268539845559715 L -0.6862901777934308, 0.7273278434545601 M -0.6862901777934308,0.7273278434545601 Q 0.07893405923123203, 0.1837645621257819 0.9999954931967477, 0.003002263511624427L 0.9999954931967477, 0.003002263511624427 L 0.9999974649223375, 0.0022516991136311867 L 0.9999988732985522, 0.0015011334471414417 \", \"type\": \"path\"}, {\"fillcolor\": \"#f2e6ce\", \"layer\": \"below\", \"line\": {\"color\": \"rgb(175,175,175)\", \"width\": 0.5}, \"path\": \"M 0.9995031657143884,0.03151859335243065 Q 0.054790337855909914, 0.1923486908654053 -0.8328701979561935, 0.5534683670783823L -0.8328701979561935, 0.5534683670783823 L -0.8303430950343871, 0.5572524962068047 L -0.8277987991260716, 0.5610250869305523 M -0.8277987991260716,0.5610250869305523 Q 0.05479937310099327, 0.1923461169551861 0.999178746924381, 0.04051952238888972L 0.999178746924381, 0.04051952238888972 L 0.999351090037041, 0.036019423118337064 L 0.9995031657143884, 0.03151859335243065 \", \"type\": \"path\"}, {\"fillcolor\": \"#f2e6ce\", \"layer\": \"below\", \"line\": {\"color\": \"rgb(175,175,175)\", \"width\": 0.5}, \"path\": \"M 0.9999998197277399,0.0006004535682855322 Q 0.03321044411226914, 0.19722339212645607 -0.944656504928382, 0.32806110360189555L -0.944656504928382, 0.32806110360189555 L -0.9445490043405205, 0.3283704895378565 L -0.9444414024251877, 0.32867984024753416 M -0.9444414024251877,0.32867984024753416 Q 0.03318622285729759, 0.19722746921376288 0.9999988732985522, 0.0015011334471414417L 0.9999988732985522, 0.0015011334471414417 L 0.9999994479162377, 0.001050793614267267 L 0.9999998197277399, 0.0006004535682855322 \", \"type\": \"path\"}, {\"fillcolor\": \"#f2e6ce\", \"layer\": \"below\", \"line\": {\"color\": \"rgb(175,175,175)\", \"width\": 0.5}, \"path\": \"M 0.9999898597022033,0.004503386810798122 Q 0.023755820013766613, 0.19858414089617915 -0.9707109536857598, 0.2402503785522151L -0.9707109536857598, 0.2402503785522151 L -0.9704838971354475, 0.2411659291873422 L -0.9702559770605562, 0.24208126523600573 M -0.9702559770605562,0.24208126523600573 Q 0.023734470449924546, 0.19858669369437032 0.9999781871351753, 0.006604941623387706L 0.9999781871351753, 0.006604941623387706 L 0.9999845754939359, 0.005554167283458484 L 0.9999898597022033, 0.004503386810798122 \", \"type\": \"path\"}, {\"fillcolor\": \"#f2e6ce\", \"layer\": \"below\", \"line\": {\"color\": \"rgb(175,175,175)\", \"width\": 0.5}, \"path\": \"M 0.9999205009842863,0.012609191541647385 Q 0.006090358119115125, 0.19990724733731124 -0.9972984365479133, 0.07345630305894688L -0.9972984365479133, 0.07345630305894688 L -0.9971225429385365, 0.07580655884411631 L -0.9969411106715825, 0.07815639355108021 M -0.9969411106715825,0.07815639355108021 Q 0.006051356354907035, 0.19990843175380557 0.9998431221628973, 0.017712455040162223L 0.9998431221628973, 0.017712455040162223 L 0.9998850673653805, 0.015160872657223313 L 0.9999205009842863, 0.012609191541647385 \", \"type\": \"path\"}, {\"fillcolor\": \"#f2e6ce\", \"layer\": \"below\", \"line\": {\"color\": \"rgb(175,175,175)\", \"width\": 0.5}, \"path\": \"M 0.9998431221628973,0.017712455040162223 Q -0.013495689359413808, 0.1995441464155594 -0.9931228387423974, -0.11707701383381064L -0.9931228387423974, -0.11707701383381064 L -0.9934813629356698, -0.11399465557421519 L -0.993830320427938, -0.11091119960627144 M -0.993830320427938,-0.11091119960627144 Q -0.013535469117909833, 0.19954145202377904 0.9997043229884804, 0.024315974135206354L 0.9997043229884804, 0.024315974135206354 L 0.999779174602552, 0.021014329183677214 L 0.9998431221628973, 0.017712455040162223 \", \"type\": \"path\"}, {\"fillcolor\": \"#f2e6ce\", \"layer\": \"below\", \"line\": {\"color\": \"rgb(175,175,175)\", \"width\": 0.5}, \"path\": \"M 0.9999781871351753,0.006604941623387706 Q -0.0285397953934476, 0.19795322699794554 -0.9611188250435928, -0.27613511936518265L -0.9611188250435928, -0.27613511936518265 L -0.961396698387451, -0.27516611043096967 L -0.9616735947677623, -0.274196821875181 M -0.9616735947677623,-0.274196821875181 Q -0.02854825397205113, 0.19795200730264717 0.9999620979956083, 0.008706467264137173L 0.9999620979956083, 0.008706467264137173 L 0.999970694632975, 0.007655708670354884 L 0.9999781871351753, 0.006604941623387706 \", \"type\": \"path\"}, {\"fillcolor\": \"#f2e6ce\", \"layer\": \"below\", \"line\": {\"color\": \"rgb(175,175,175)\", \"width\": 0.5}, \"path\": \"M 0.9910085016348226,0.1337989151208029 Q -0.07623721241000467, 0.18489966858799892 -0.7973189034391762, -0.6035582542046373L -0.7973189034391762, -0.6035582542046373 L -0.8080888386466908, -0.5890606325792299 L -0.8185951974674472, -0.5743708755527486 M -0.8185951974674472,-0.5743708755527486 Q -0.07608973961878579, 0.1849604052892007 0.9857992596759654, 0.16792801916987732L 0.9857992596759654, 0.16792801916987732 L 0.9885511773451289, 0.15088594954322154 L 0.9910085016348226, 0.1337989151208029 \", \"type\": \"path\"}, {\"fillcolor\": \"#f2e6ce\", \"layer\": \"below\", \"line\": {\"color\": \"rgb(175,175,175)\", \"width\": 0.5}, \"path\": \"M 0.9857992596759654,0.16792801916987732 Q -0.12523871146557666, 0.1559335279869023 -0.37667185276071014, -0.9263467576117562L -0.37667185276071014, -0.9263467576117562 L -0.3940452187710158, -0.9190910540113544 L -0.4112789039941955, -0.9115095518585273 M -0.4112789039941955,-0.9115095518585273 Q -0.1250648439902784, 0.15607301111238717 0.9792328062369008, 0.20273902236472463L 0.9792328062369008, 0.20273902236472463 L 0.9826701921307599, 0.18536260005107674 L 0.9857992596759654, 0.16792801916987732 \", \"type\": \"path\"}, {\"fillcolor\": \"#f2e6ce\", \"layer\": \"below\", \"line\": {\"color\": \"rgb(175,175,175)\", \"width\": 0.5}, \"path\": \"M 0.9999620979956083,0.008706467264137173 Q -0.13799231891904573, 0.1447691953398387 -0.056600651155938514, -0.9983968981766338L -0.056600651155938514, -0.9983968981766338 L -0.05790640108269606, -0.9983220165425832 L -0.05921205195533543, -0.9982454271887443 M -0.05921205195533543,-0.9982454271887443 Q -0.13808546072208397, 0.1446803564315827 0.9999205009842863, 0.012609191541647385L 0.9999205009842863, 0.012609191541647385 L 0.9999432035069997, 0.010657849696772463 L 0.9999620979956083, 0.008706467264137173 \", \"type\": \"path\"}, {\"fillcolor\": \"#f2e6ce\", \"layer\": \"below\", \"line\": {\"color\": \"rgb(175,175,175)\", \"width\": 0.5}, \"path\": \"M 0.9942936888111812,0.10667736587605671 Q -0.1587126244722415, 0.12169758762248846 0.15498079213622443, -0.9879174834310953L 0.15498079213622443, -0.9879174834310953 L 0.1404640226230412, -0.9900857833281689 L 0.12591699180467977, -0.9920407810039162 M 0.12591699180467977,-0.9920407810039162 Q -0.15858870007870282, 0.12185903416385364 0.9910085016348226, 0.1337989151208029L 0.9910085016348226, 0.1337989151208029 L 0.9927437189203384, 0.12024935984950637 L 0.9942936888111812, 0.10667736587605671 \", \"type\": \"path\"}, {\"fillcolor\": \"#f2e6ce\", \"layer\": \"below\", \"line\": {\"color\": \"rgb(175,175,175)\", \"width\": 0.5}, \"path\": \"M 0.999178746924381,0.04051952238888972 Q -0.18631091488430995, 0.07272030662044414 0.7075346330422727, -0.7066786702920476L 0.7075346330422727, -0.7066786702920476 L 0.7024240477584847, -0.7117587070985405 L 0.6972769892072374, -0.7168017859367332 M 0.6972769892072374,-0.7168017859367332 Q -0.18628904022933296, 0.07277632506821134 0.9985238883714366, 0.0543143107439173L 0.9985238883714366, 0.0543143107439173 L 0.9988751317424034, 0.0474180470559086 L 0.999178746924381, 0.04051952238888972 \", \"type\": \"path\"}, {\"fillcolor\": \"#f2e6ce\", \"layer\": \"below\", \"line\": {\"color\": \"rgb(175,175,175)\", \"width\": 0.5}, \"path\": \"M 0.9997043229884804,0.024315974135206354 Q -0.1961943432420786, 0.03883013880749664 0.9150753669355355, -0.4032828694945957L 0.9150753669355355, -0.4032828694945957 L 0.9137273327759892, -0.4063278987936672 L 0.9123691659289906, -0.40936842216032987 M 0.9123691659289906,-0.40936842216032987 Q -0.1962049227963264, 0.03877664594169541 0.9995031657143884, 0.03151859335243065L 0.9995031657143884, 0.03151859335243065 L 0.999610231616456, 0.027917464922429882 L 0.9997043229884804, 0.024315974135206354 \", \"type\": \"path\"}, {\"fillcolor\": \"#f2e6ce\", \"layer\": \"below\", \"line\": {\"color\": \"rgb(175,175,175)\", \"width\": 0.5}, \"path\": \"M 1.0,0.0 Q -0.19839462589895349, 0.025289768967198912 0.9680213792792851, -0.25086771266591956L 0.9680213792792851, -0.25086771266591956 L 0.9679551889204983, -0.2511229823052493 L 0.9678889312464753, -0.2513782344805446 M 0.9678889312464753,-0.2513782344805446 Q -0.19839554923036118, 0.02528252450969511 0.9999998197277399, 0.0006004535682855322L 0.9999998197277399, 0.0006004535682855322 L 0.9999999549319339, 0.0003002267976734072 L 1.0, 0.0 \", \"type\": \"path\"}, {\"fillcolor\": \"#f2e6ce\", \"layer\": \"below\", \"line\": {\"color\": \"rgb(175,175,175)\", \"width\": 0.5}, \"path\": \"M 0.9999954931967477,0.003002263511624427 Q -0.19972324057277294, 0.010517945384449624 0.9941488199040586, -0.10801909036539616L 0.9941488199040586, -0.10801909036539616 L 0.994083200464094, -0.1086213172220985 L 0.994017216212397, -0.10922350421661425 M 0.994017216212397,-0.10922350421661425 Q -0.19972476122254487, 0.010489030202904478 0.9999898597022033, 0.004503386810798122L 0.9999898597022033, 0.004503386810798122 L 0.9999929581228937, 0.003752826218290107 L 0.9999954931967477, 0.003002263511624427 \", \"type\": \"path\"}, {\"fillcolor\": \"#ecd5bb\", \"layer\": \"below\", \"line\": {\"color\": \"rgb(175,175,175)\", \"width\": 0.5}, \"path\": \"M 0.5550980251351606,0.8317849376437666 Q 0.03810882305289834, 0.19633572676801053 -0.20361419046752308, 0.9790512047080353L -0.20361419046752308, 0.9790512047080353 L -0.14625821265767922, 0.9892464481766822 L -0.08840588549187832, 0.9960845342692541 M -0.08840588549187832,0.9960845342692541 Q 0.037759204710911265, 0.19640326489037674 0.4514533110648892, 0.8922947427439817L 0.4514533110648892, 0.8922947427439817 L 0.5041842492877409, 0.8635961109049515 L 0.5550980251351606, 0.8317849376437666 \", \"type\": \"path\"}, {\"fillcolor\": \"#ecd5bb\", \"layer\": \"below\", \"line\": {\"color\": \"rgb(175,175,175)\", \"width\": 0.5}, \"path\": \"M 0.8107726675829416,0.5853611547587018 Q 0.03208273178518864, 0.1974099752322553 -0.5836783662383542, 0.8119849535461391L -0.5836783662383542, 0.8119849535461391 L -0.5576399043114965, 0.8300829700213498 L -0.5310407133226315, 0.8473463051160315 M -0.5310407133226315,0.8473463051160315 Q 0.03178646037363083, 0.19745789661828062 0.7701310215192853, 0.6378857340414991L 0.7701310215192853, 0.6378857340414991 L 0.7908879986518106, 0.6119609248869846 L 0.8107726675829416, 0.5853611547587018 \", \"type\": \"path\"}, {\"fillcolor\": \"#ecd5bb\", \"layer\": \"below\", \"line\": {\"color\": \"rgb(175,175,175)\", \"width\": 0.5}, \"path\": \"M 0.95424417705391,0.29902851128062363 Q 0.05480423892538534, 0.19234473061617594 -0.6533327775189577, 0.757070856538121L -0.6533327775189577, 0.757070856538121 L -0.6499006980003038, 0.7600191331398952 L -0.6464553140364284, 0.7629518510063807 M -0.6464553140364284,0.7629518510063807 Q 0.05444713030780023, 0.19244612233361685 0.9503505794509609, 0.3111812592962866L 0.9503505794509609, 0.3111812592962866 L 0.9523167639748579, 0.305111096246031 L 0.95424417705391, 0.29902851128062363 \", \"type\": \"path\"}, {\"fillcolor\": \"#ecd5bb\", \"layer\": \"below\", \"line\": {\"color\": \"rgb(175,175,175)\", \"width\": 0.5}, \"path\": \"M 0.9184127559071583,0.39562357081829497 Q 0.02677207533585383, 0.1982000403183899 -0.7805360014603188, 0.6251108305127477L -0.7805360014603188, 0.6251108305127477 L -0.7734977192181351, 0.6337990835938018 L -0.7663627318479863, 0.6424080971115569 M -0.7663627318479863,0.6424080971115569 Q 0.026361601684789484, 0.1982550527896137 0.9076056921202675, 0.41982366254284686L 0.9076056921202675, 0.41982366254284686 L 0.9130894010139377, 0.4077594214190625 L 0.9184127559071583, 0.39562357081829497 \", \"type\": \"path\"}, {\"fillcolor\": \"#ecd5bb\", \"layer\": \"below\", \"line\": {\"color\": \"rgb(175,175,175)\", \"width\": 0.5}, \"path\": \"M 0.8914658386349041,0.45308791481010297 Q -0.010298584425583993, 0.19973467189957061 -0.9333380960042883, 0.35899860521607857L -0.9333380960042883, 0.35899860521607857 L -0.9250446241345646, 0.37985845174188526 L -0.9162850085207966, 0.4005268819443254 M -0.9162850085207966,0.4005268819443254 Q -0.010651157803283674, 0.19971618071015065 0.8684873012843133, 0.495711415551317L 0.8684873012843133, 0.495711415551317 L 0.8802346018998214, 0.47453877145946977 L 0.8914658386349041, 0.45308791481010297 \", \"type\": \"path\"}, {\"fillcolor\": \"#ecd5bb\", \"layer\": \"below\", \"line\": {\"color\": \"rgb(175,175,175)\", \"width\": 0.5}, \"path\": \"M 0.9503505794509609,0.3111812592962866 Q -0.002258031076873342, 0.19998725283291402 -0.9571344233156026, 0.28964408453187646L -0.9571344233156026, 0.28964408453187646 L -0.9556355764605665, 0.29455159989869456 L -0.9541115674828773, 0.29945135964855274 M -0.9541115674828773,0.29945135964855274 Q -0.0027696333367576162, 0.19998082190845182 0.9454527148521216, 0.3257593651435872L 0.9454527148521216, 0.3257593651435872 L 0.9479296719509991, 0.3184797278240347 L 0.9503505794509609, 0.3111812592962866 \", \"type\": \"path\"}, {\"fillcolor\": \"#ecd5bb\", \"layer\": \"below\", \"line\": {\"color\": \"rgb(175,175,175)\", \"width\": 0.5}, \"path\": \"M 0.939549410042782,0.3424133555927109 Q -0.02260390667961442, 0.19871855324256787 -0.9924497843002791, 0.12265164345547722L -0.9924497843002791, 0.12265164345547722 L -0.9915134984385803, 0.1300037784608103 L -0.9905227482244767, 0.13734877229094486 M -0.9905227482244767,0.13734877229094486 Q -0.022919213737456267, 0.1986824341547506 0.9332352670496461, 0.3592658296231019L 0.9332352670496461, 0.3592658296231019 L 0.9364302500230777, 0.35085379696066593 L 0.939549410042782, 0.3424133555927109 \", \"type\": \"path\"}, {\"fillcolor\": \"#ecd5bb\", \"layer\": \"below\", \"line\": {\"color\": \"rgb(175,175,175)\", \"width\": 0.5}, \"path\": \"M 0.9332352670496461,0.3592658296231019 Q -0.03476385793543373, 0.1969555132039847 -0.9998367831633913, 0.01806673831884227L -0.9998367831633913, 0.01806673831884227 L -0.9996627977069444, 0.025967111520625228 L -0.999426387139822, 0.033865863175807906 M -0.999426387139822,0.033865863175807906 Q -0.03504414537635319, 0.19690583504518355 0.9263726088137874, 0.37660827080606935L 0.9263726088137874, 0.37660827080606935 L 0.929844370343701, 0.3679530499127926 L 0.9332352670496461, 0.3592658296231019 \", \"type\": \"path\"}, {\"fillcolor\": \"#ecd5bb\", \"layer\": \"below\", \"line\": {\"color\": \"rgb(175,175,175)\", \"width\": 0.5}, \"path\": \"M 0.9263726088137874,0.37660827080606935 Q -0.056263826859050105, 0.1919228537386177 -0.9830822308673851, -0.18316475466859125L -0.9830822308673851, -0.18316475466859125 L -0.9846710454331244, -0.1744217081834648 L -0.9861821052591629, -0.16566488845438923 M -0.9861821052591629,-0.16566488845438923 Q -0.05653648549603148, 0.19184271111448833 0.9184127559071583, 0.39562357081829497L 0.9184127559071583, 0.39562357081829497 L 0.9224416815608383, 0.38613643200197145 L 0.9263726088137874, 0.37660827080606935 \", \"type\": \"path\"}, {\"fillcolor\": \"#ecd5bb\", \"layer\": \"below\", \"line\": {\"color\": \"rgb(175,175,175)\", \"width\": 0.5}, \"path\": \"M 0.9076056921202675,0.41982366254284686 Q -0.0830517647634065, 0.18194066167210615 -0.9117779657393217, -0.41068350489429734L -0.9117779657393217, -0.41068350489429734 L -0.9183400117690937, -0.39579239859292487 L -0.9246588763174934, -0.3807964842895354 M -0.9246588763174934,-0.3807964842895354 Q -0.08345447674105702, 0.18175629373387975 0.8914658386349041, 0.45308791481010297L 0.8914658386349041, 0.45308791481010297 L 0.8996895135618532, 0.436530387472437 L 0.9076056921202675, 0.41982366254284686 \", \"type\": \"path\"}, {\"fillcolor\": \"#ecd5bb\", \"layer\": \"below\", \"line\": {\"color\": \"rgb(175,175,175)\", \"width\": 0.5}, \"path\": \"M 0.716574759947032,0.6975102962730038 Q -0.1486310532059556, 0.13382380215375886 -0.6187622884953166, -0.7855782776630466L -0.6187622884953166, -0.7855782776630466 L -0.6561412489223847, -0.7546380996627279 L -0.6919753370504782, -0.7219211403705235 M -0.6919753370504782,-0.7219211403705235 Q -0.1489019749766329, 0.13352228970497093 0.6425106171078044, 0.7662767821771376L 0.6425106171078044, 0.7662767821771376 L 0.6804119876420259, 0.7328298077132421 L 0.716574759947032, 0.6975102962730038 \", \"type\": \"path\"}, {\"fillcolor\": \"#ecd5bb\", \"layer\": \"below\", \"line\": {\"color\": \"rgb(175,175,175)\", \"width\": 0.5}, \"path\": \"M 0.6425106171078044,0.7662767821771376 Q -0.18432551730266933, 0.07761509950456391 -0.09915168062512733, -0.9950723311544808L -0.09915168062512733, -0.9950723311544808 L -0.15201571866489913, -0.9883780760816148 L -0.20444812029832088, -0.9788774009580992 M -0.20444812029832088,-0.9788774009580992 Q -0.18443029740780834, 0.07736578958472132 0.5550980251351606, 0.8317849376437666L 0.5550980251351606, 0.8317849376437666 L 0.5996994618989745, 0.8002253153944084 L 0.6425106171078044, 0.7662767821771376 \", \"type\": \"path\"}, {\"fillcolor\": \"#ecd5bb\", \"layer\": \"below\", \"line\": {\"color\": \"rgb(175,175,175)\", \"width\": 0.5}, \"path\": \"M 0.9603878756594927,0.278666697483296 Q -0.1576851537435209, 0.12302598216995538 -0.03670241799794448, -0.999326239279798L -0.03670241799794448, -0.999326239279798 L -0.03961790468727027, -0.9992149026251512 L -0.04253305413082709, -0.9990950601951268 M -0.04253305413082709,-0.9990950601951268 Q -0.15790965707782692, 0.12273768859467374 0.9577003538697991, 0.2877673230192434L 0.9577003538697991, 0.2877673230192434 L 0.9590549094869332, 0.2832201980597612 L 0.9603878756594927, 0.278666697483296 \", \"type\": \"path\"}, {\"fillcolor\": \"#ecd5bb\", \"layer\": \"below\", \"line\": {\"color\": \"rgb(175,175,175)\", \"width\": 0.5}, \"path\": \"M 0.4514533110648892,0.8922947427439817 Q -0.19892398175338993, -0.020718336887332354 0.6256380267673785, -0.7801134913989253L 0.6256380267673785, -0.7801134913989253 L 0.566088366717155, -0.8243445645283917 L 0.5034237772139356, -0.8640396406043265 M 0.5034237772139356,-0.8640396406043265 Q -0.19890184690180998, -0.0209297706401421 0.31254884788174614, 0.9499016884329626L 0.31254884788174614, 0.9499016884329626 L 0.3830854536088303, 0.9237129073653333 L 0.4514533110648892, 0.8922947427439817 \", \"type\": \"path\"}, {\"fillcolor\": \"#ecd5bb\", \"layer\": \"below\", \"line\": {\"color\": \"rgb(175,175,175)\", \"width\": 0.5}, \"path\": \"M 0.7701310215192853,0.6378857340414991 Q -0.19867930725994887, -0.02294630398793738 0.8952606995196009, -0.44554268021781585L 0.8952606995196009, -0.44554268021781585 L 0.8775060242262346, -0.47956561328630215 L 0.8584589681785982, -0.5128822476492402 M 0.8584589681785982,-0.5128822476492402 Q -0.1986399092608503, -0.023284897441070537 0.716574759947032, 0.6975102962730038L 0.716574759947032, 0.6975102962730038 L 0.7439504635838786, 0.6682347699224667 L 0.7701310215192853, 0.6378857340414991 \", \"type\": \"path\"}, {\"fillcolor\": \"#ecd5bb\", \"layer\": \"below\", \"line\": {\"color\": \"rgb(175,175,175)\", \"width\": 0.5}, \"path\": \"M 0.8420633058740382,0.539378706384008 Q -0.19798818132853957, -0.028296290467432917 0.959441045952734, -0.28190934596271144L 0.959441045952734, -0.28190934596271144 L 0.952525070960726, -0.3044601602693919 L 0.9450791396559644, -0.3268415820961925 M 0.9450791396559644,-0.3268415820961925 Q -0.19786685932994674, -0.029132558742806625 0.8107726675829416, 0.5853611547587018L 0.8107726675829416, 0.5853611547587018 L 0.8267377366359924, 0.5625875174779446 L 0.8420633058740382, 0.539378706384008 \", \"type\": \"path\"}, {\"fillcolor\": \"#ecd5bb\", \"layer\": \"below\", \"line\": {\"color\": \"rgb(175,175,175)\", \"width\": 0.5}, \"path\": \"M 0.9454527148521216,0.3257593651435872 Q -0.19939984348517847, -0.015482325990830138 0.9844051317626973, -0.17591627712996505L 0.9844051317626973, -0.17591627712996505 L 0.9831276281621065, -0.18292093030692447 L 0.9818002827616354, -0.18991630990826636 M 0.9818002827616354,-0.18991630990826636 Q -0.19937300506367486, -0.015824185662456147 0.939549410042782, 0.3424133555927109L 0.939549410042782, 0.3424133555927109 L 0.9425378462237181, 0.33409939903560854 L 0.9454527148521216, 0.3257593651435872 \", \"type\": \"path\"}, {\"fillcolor\": \"#ecd5bb\", \"layer\": \"below\", \"line\": {\"color\": \"rgb(175,175,175)\", \"width\": 0.5}, \"path\": \"M 0.9577003538697991,0.2877673230192434 Q -0.1986177031624913, -0.023473559390439536 0.9983976945136912, -0.05658660256408872L 0.9983976945136912, -0.05658660256408872 L 0.9981413847122488, -0.06094075914127196 L 0.9978660858955862, -0.06529375635864847 M 0.9978660858955862,-0.06529375635864847 Q -0.19858160019021331, -0.023777049141856833 0.95424417705391, 0.29902851128062363L 0.95424417705391, 0.29902851128062363 L 0.9559888471747644, 0.2934030062515804 L 0.9577003538697991, 0.2877673230192434 \", \"type\": \"path\"}, {\"fillcolor\": \"#e6c4a9\", \"layer\": \"below\", \"line\": {\"color\": \"rgb(175,175,175)\", \"width\": 0.5}, \"path\": \"M -0.026286239263590104,0.9996544571127451 Q -0.05777638836442606, 0.19147294573271445 -0.5310407133226315, 0.8473463051160315L -0.5310407133226315, 0.8473463051160315 L -0.5048517595134336, 0.8632060593602146 L -0.4781895611451613, 0.8782566501950315 M -0.4781895611451613,0.8782566501950315 Q -0.05787173838889196, 0.19144414824132822 -0.08840588549187832, 0.9960845342692541L -0.08840588549187832, 0.9960845342692541 L -0.05737383512985778, 0.9983527648293923 L -0.026286239263590104, 0.9996544571127451 \", \"type\": \"path\"}, {\"fillcolor\": \"#e6c4a9\", \"layer\": \"below\", \"line\": {\"color\": \"rgb(175,175,175)\", \"width\": 0.5}, \"path\": \"M 0.27310220320395223,0.9619850241064812 Q -0.03849154297293152, 0.19626105349651768 -0.6162313468477777, 0.7875651891508245L -0.6162313468477777, 0.7875651891508245 L -0.6145853689006394, 0.7888503180789528 L -0.6129367108697698, 0.7901320069887995 M -0.6129367108697698,0.7901320069887995 Q -0.03864252442677349, 0.19623138206190727 0.2675998356753536, 0.9635301385771613L 0.2675998356753536, 0.9635301385771613 L 0.2703521232702666, 0.9627615122361605 L 0.27310220320395223, 0.9619850241064812 \", \"type\": \"path\"}, {\"fillcolor\": \"#e6c4a9\", \"layer\": \"below\", \"line\": {\"color\": \"rgb(175,175,175)\", \"width\": 0.5}, \"path\": \"M 0.22637520662869737,0.9740401766989977 Q -0.058161412085521697, 0.19135634336028198 -0.7301183645732857, 0.6833206960957868L -0.7301183645732857, 0.6833206960957868 L -0.726144372220966, 0.687542253750138 L -0.7221459711324526, 0.6917407002462461 M -0.7221459711324526,0.6917407002462461 Q -0.05832786115204722, 0.19130567323900122 0.21336618192536871, 0.9769722986915189L 0.21336618192536871, 0.9769722986915189 L 0.21987558194740336, 0.975527922954177 L 0.22637520662869737, 0.9740401766989977 \", \"type\": \"path\"}, {\"fillcolor\": \"#e6c4a9\", \"layer\": \"below\", \"line\": {\"color\": \"rgb(175,175,175)\", \"width\": 0.5}, \"path\": \"M 0.1339673713780044,0.9909857432910263 Q -0.09154953376704106, 0.17781643025051821 -0.8844396250714952, 0.46665463632475884L -0.8844396250714952, 0.46665463632475884 L -0.8771143221102228, 0.4802816527300667 L -0.8695790768893925, 0.49379371101320435 M -0.8695790768893925,0.49379371101320435 Q -0.0916778561796544, 0.17775030432126582 0.10180853211424158, 0.9948040122500228L 0.10180853211424158, 0.9948040122500228 L 0.11790340945603314, 0.9930250681823913 L 0.1339673713780044, 0.9909857432910263 \", \"type\": \"path\"}, {\"fillcolor\": \"#e6c4a9\", \"layer\": \"below\", \"line\": {\"color\": \"rgb(175,175,175)\", \"width\": 0.5}, \"path\": \"M 0.2614758503228246,0.9652100184405236 Q -0.09553510628430001, 0.1757072664042313 -0.9522629319106113, 0.3052790666079258L -0.9522629319106113, 0.3052790666079258 L -0.9514933549473774, 0.30766929565847834 L -0.9507177783964423, 0.3100575847176346 M -0.9507177783964423,0.3100575847176346 Q -0.09573540543600523, 0.17559821225173022 0.2544202473535834, 0.9670937585035597L 0.2544202473535834, 0.9670937585035597 L 0.25794976840189776, 0.9661583291476648 L 0.2614758503228246, 0.9652100184405236 \", \"type\": \"path\"}, {\"fillcolor\": \"#e6c4a9\", \"layer\": \"below\", \"line\": {\"color\": \"rgb(175,175,175)\", \"width\": 0.5}, \"path\": \"M 0.2544202473535834,0.9670937585035597 Q -0.10368871428807125, 0.17102236850566283 -0.9751302067238102, 0.22163275916429667L -0.9751302067238102, 0.22163275916429667 L -0.9742870154913595, 0.22531047788538247 L -0.9734299537375896, 0.22898498895437272 M -0.9734299537375896,0.22898498895437272 Q -0.10380362021161771, 0.17095264967517243 0.245812541241899, 0.969317385879465L 0.245812541241899, 0.969317385879465 L 0.2501188653943957, 0.9682151378561585 L 0.2544202473535834, 0.9670937585035597 \", \"type\": \"path\"}, {\"fillcolor\": \"#e6c4a9\", \"layer\": \"below\", \"line\": {\"color\": \"rgb(175,175,175)\", \"width\": 0.5}, \"path\": \"M 0.245812541241899,0.969317385879465 Q -0.1180981992068772, 0.16140884530933475 -0.998253850748576, 0.05906986935519435L -0.998253850748576, 0.05906986935519435 L -0.9980170306092316, 0.06294447246527766 L -0.9977651717174861, 0.06681812708820357 M -0.9977651717174861,0.06681812708820357 Q -0.11818910525258644, 0.16134229265630584 0.23718540681410544, 0.971464401197711L 0.23718540681410544, 0.971464401197711 L 0.24150135998638161, 0.9704004807937433 L 0.245812541241899, 0.969317385879465 \", \"type\": \"path\"}, {\"fillcolor\": \"#e6c4a9\", \"layer\": \"below\", \"line\": {\"color\": \"rgb(175,175,175)\", \"width\": 0.5}, \"path\": \"M 0.23718540681410544,0.971464401197711 Q -0.13446042440841763, 0.14805537568054802 -0.9897501591397696, -0.14280974225451404L -0.9897501591397696, -0.14280974225451404 L -0.9904431202915522, -0.13792180925123362 L -0.9911119422802095, -0.13303051480600483 M -0.9911119422802095,-0.13303051480600483 Q -0.13455213825295737, 0.14797203145039625 0.22637520662869737, 0.9740401766989977L 0.22637520662869737, 0.9740401766989977 L 0.23178388476925044, 0.9727673055573336 L 0.23718540681410544, 0.971464401197711 \", \"type\": \"path\"}, {\"fillcolor\": \"#e6c4a9\", \"layer\": \"below\", \"line\": {\"color\": \"rgb(175,175,175)\", \"width\": 0.5}, \"path\": \"M 0.1800580880247136,0.9836559789565071 Q -0.15266684519454854, 0.1292007522359826 -0.9403404440090325, -0.3402349913822733L -0.9403404440090325, -0.3402349913822733 L -0.9431015575731211, -0.33250481515784547 L -0.9457991255459864, -0.3247522349675939 M -0.9457991255459864,-0.3247522349675939 Q -0.15277539099267246, 0.12907238243340852 0.1622272338861158, 0.9867534264372531L 0.1622272338861158, 0.9867534264372531 L 0.17114966825595668, 0.9852450411221951 L 0.1800580880247136, 0.9836559789565071 \", \"type\": \"path\"}, {\"fillcolor\": \"#e6c4a9\", \"layer\": \"below\", \"line\": {\"color\": \"rgb(175,175,175)\", \"width\": 0.5}, \"path\": \"M 0.21336618192536871,0.9769722986915189 Q -0.16494004633728723, 0.11311401820399425 -0.8345026406950928, -0.5510039407054333L -0.8345026406950928, -0.5510039407054333 L -0.8390599789014875, -0.5440389248995289 L -0.8435591863808428, -0.5370362176543502 M -0.8435591863808428,-0.5370362176543502 Q -0.16495028401712417, 0.11309908842546024 0.19689616962325934, 0.9804243460806594L 0.19689616962325934, 0.9804243460806594 L 0.2051384372377512, 0.9787329674470219 L 0.21336618192536871, 0.9769722986915189 \", \"type\": \"path\"}, {\"fillcolor\": \"#e6c4a9\", \"layer\": \"below\", \"line\": {\"color\": \"rgb(175,175,175)\", \"width\": 0.5}, \"path\": \"M 0.10180853211424158,0.9948040122500228 Q -0.19312698712960238, 0.05198044672992339 -0.4112789039941955, -0.9115095518585273L -0.4112789039941955, -0.9115095518585273 L -0.42678018497806447, -0.9043553912650099 L -0.4421570716048215, -0.8969376366447384 M -0.4421570716048215,-0.8969376366447384 Q -0.19312252105540562, 0.051997037042550966 0.06795911999115453, 0.9976881065794199L 0.06795911999115453, 0.9976881065794199 L 0.08489607426359547, 0.9963898115570181 L 0.10180853211424158, 0.9948040122500228 \", \"type\": \"path\"}, {\"fillcolor\": \"#e6c4a9\", \"layer\": \"below\", \"line\": {\"color\": \"rgb(175,175,175)\", \"width\": 0.5}, \"path\": \"M 0.27829069585114996,0.9604968967168415 Q -0.1972439876008877, 0.033087903458830066 -0.05037193504257554, -0.9987305283008358L -0.05037193504257554, -0.9987305283008358 L -0.05208001407894674, -0.9986429152272281 L -0.05378794077033672, -0.9985523809133333 M -0.05378794077033672,-0.9985523809133333 Q -0.19727659927595642, 0.032892907717526454 0.27310220320395223, 0.9619850241064812L 0.27310220320395223, 0.9619850241064812 L 0.2756974535843223, 0.9612444611476939 L 0.27829069585114996, 0.9604968967168415 \", \"type\": \"path\"}, {\"fillcolor\": \"#e6c4a9\", \"layer\": \"below\", \"line\": {\"color\": \"rgb(175,175,175)\", \"width\": 0.5}, \"path\": \"M 0.030540476280147506,0.9995335308575605 Q -0.19741082325042936, -0.032077513363534586 0.3454439408348354, -0.9384393873556772L 0.3454439408348354, -0.9384393873556772 L 0.3182091167455553, -0.9480205472562362 L 0.2907090544530097, -0.956811499543686 M 0.2907090544530097,-0.956811499543686 Q -0.19742539007808146, -0.03198773753358269 -0.026286239263590104, 0.9996544571127451L -0.026286239263590104, 0.9996544571127451 L 0.0021279776639005353, 0.9999977358529678 L 0.030540476280147506, 0.9995335308575605 \", \"type\": \"path\"}, {\"fillcolor\": \"#e6c4a9\", \"layer\": \"below\", \"line\": {\"color\": \"rgb(175,175,175)\", \"width\": 0.5}, \"path\": \"M 0.06795911999115453,0.9976881065794199 Q -0.17720251886366062, -0.09273223446231633 0.8584589681785982, -0.5128822476492402L 0.8584589681785982, -0.5128822476492402 L 0.8488323687744678, -0.5286620940834759 L 0.8389157445965616, -0.5442613099127998 M 0.8389157445965616,-0.5442613099127998 Q -0.17717947483866156, -0.09277625609980229 0.030540476280147506, 0.9995335308575605L 0.030540476280147506, 0.9995335308575605 L 0.0492584410440887, 0.9987860661752876 L 0.06795911999115453, 0.9976881065794199 \", \"type\": \"path\"}, {\"fillcolor\": \"#e6c4a9\", \"layer\": \"below\", \"line\": {\"color\": \"rgb(175,175,175)\", \"width\": 0.5}, \"path\": \"M 0.19689616962325934,0.9804243460806594 Q -0.17433452934083274, -0.09801771207037191 0.9399807208922984, -0.3412275550872099L 0.9399807208922984, -0.3412275550872099 L 0.9373976533922469, -0.3482608783867474 L 0.934761960505722, -0.3552746503643328 M 0.934761960505722,-0.3552746503643328 Q -0.1742285559470348, -0.09820595853924022 0.1800580880247136, 0.9836559789565071L 0.1800580880247136, 0.9836559789565071 L 0.18848405490251588, 0.9820762501188517 L 0.19689616962325934, 0.9804243460806594 \", \"type\": \"path\"}, {\"fillcolor\": \"#e6c4a9\", \"layer\": \"below\", \"line\": {\"color\": \"rgb(175,175,175)\", \"width\": 0.5}, \"path\": \"M 0.2825574908092812,0.9592503658521914 Q -0.17356430800581635, -0.09937520307633144 0.9702955977812271, -0.2419224109634559L 0.9702955977812271, -0.2419224109634559 L 0.9698473607791763, -0.2437131444745362 L 0.9693958188836357, -0.24550304749824492 M 0.9693958188836357,-0.24550304749824492 Q -0.17352687124759172, -0.09944055990903171 0.27829069585114996, 0.9604968967168415L 0.27829069585114996, 0.9604968967168415 L 0.2804247859585037, 0.9598760021065884 L 0.2825574908092812, 0.9592503658521914 \", \"type\": \"path\"}, {\"fillcolor\": \"#e6c4a9\", \"layer\": \"below\", \"line\": {\"color\": \"rgb(175,175,175)\", \"width\": 0.5}, \"path\": \"M 0.2675998356753536,0.9635301385771613 Q -0.16437167110550774, -0.11393837693236988 0.9961626538320442, -0.0875212380528232L 0.9961626538320442, -0.0875212380528232 L 0.9959476510209051, -0.08993484544903267 L 0.9957268002771806, -0.09234792477239338 M 0.9957268002771806,-0.09234792477239338 Q -0.1642859491231193, -0.11406194334972493 0.2614758503228246, 0.9652100184405236L 0.2614758503228246, 0.9652100184405236 L 0.2645391764516166, 0.9643749395967838 L 0.2675998356753536, 0.9635301385771613 \", \"type\": \"path\"}, {\"fillcolor\": \"#e1b396\", \"layer\": \"below\", \"line\": {\"color\": \"rgb(175,175,175)\", \"width\": 0.5}, \"path\": \"M -0.2768519925123518,0.9609125736725171 Q -0.09442906491355628, 0.1763041454406316 -0.6464553140364284, 0.7629518510063807L -0.6464553140364284, 0.7629518510063807 L -0.6432632119218802, 0.7656451137360875 L -0.6400598892513125, 0.7683250211802278 M -0.6400598892513125,0.7683250211802278 Q -0.09468411702797615, 0.17616730111638912 -0.28764207420616544, 0.9577379793797335L -0.28764207420616544, 0.9577379793797335 L -0.28225149663435517, 0.9593404466859857 L -0.2768519925123518, 0.9609125736725171 \", \"type\": \"path\"}, {\"fillcolor\": \"#e1b396\", \"layer\": \"below\", \"line\": {\"color\": \"rgb(175,175,175)\", \"width\": 0.5}, \"path\": \"M -0.326293462957181,0.9452685205968783 Q -0.11100839757727395, 0.16636446636023536 -0.7476040367741508, 0.6641447163073679L -0.7476040367741508, 0.6641447163073679 L -0.7430022593212562, 0.6692889082029589 L -0.7383650859347028, 0.6744012158000896 M -0.7383650859347028,0.6744012158000896 Q -0.1111595126630121, 0.1662635340191037 -0.3410195299321191, 0.9400562111942438L -0.3410195299321191, 0.9400562111942438 L -0.33366667448525034, 0.9426911213849178 L -0.326293462957181, 0.9452685205968783 \", \"type\": \"path\"}, {\"fillcolor\": \"#e1b396\", \"layer\": \"below\", \"line\": {\"color\": \"rgb(175,175,175)\", \"width\": 0.5}, \"path\": \"M -0.43932941045001306,0.898326037201218 Q -0.14441241123587828, 0.13836565860443692 -0.9162850085207966, 0.4005268819443254L -0.9162850085207966, 0.4005268819443254 L -0.9075738429393146, 0.41989250959306745 L -0.8984534414756035, 0.43906880269570997 M -0.8984534414756035,0.43906880269570997 Q -0.1445002395173033, 0.13827393383946945 -0.4781895611451613, 0.8782566501950315L -0.4781895611451613, 0.8782566501950315 L -0.4588692198033854, 0.8885038205416071 L -0.43932941045001306, 0.898326037201218 \", \"type\": \"path\"}, {\"fillcolor\": \"#e1b396\", \"layer\": \"below\", \"line\": {\"color\": \"rgb(175,175,175)\", \"width\": 0.5}, \"path\": \"M -0.23699914736671912,0.9715098579774928 Q -0.13496824017474154, 0.1475925951534605 -0.9465037368790863, 0.32269285098050343L -0.9465037368790863, 0.32269285098050343 L -0.9461508673357429, 0.32372602033173276 L -0.9457968700223637, 0.3247588038158476 M -0.9457968700223637,0.3247588038158476 Q -0.13503764972617693, 0.1475290925764486 -0.24003326725182514, 0.9707646628366805L -0.24003326725182514, 0.9707646628366805 L -0.23851649833533362, 0.9711384453422955 L -0.23699914736671912, 0.9715098579774928 \", \"type\": \"path\"}, {\"fillcolor\": \"#e1b396\", \"layer\": \"below\", \"line\": {\"color\": \"rgb(175,175,175)\", \"width\": 0.5}, \"path\": \"M -0.28764207420616544,0.9577379793797335 Q -0.1509287771244736, 0.13122691886846607 -0.9884190093044657, 0.15174933952270933L -0.9884190093044657, 0.15174933952270933 L -0.9876078522622438, 0.1569418049786549 L -0.9867694178138349, 0.16212993575322637 M -0.9867694178138349,0.16212993575322637 Q -0.151038551105645, 0.13110055713042362 -0.299290224022159, 0.9541621255346315L -0.299290224022159, 0.9541621255346315 L -0.29347159548851753, 0.9559677937260355 L -0.28764207420616544, 0.9577379793797335 \", \"type\": \"path\"}, {\"fillcolor\": \"#e1b396\", \"layer\": \"below\", \"line\": {\"color\": \"rgb(175,175,175)\", \"width\": 0.5}, \"path\": \"M -0.2503315720866646,0.9681601644441993 Q -0.15395333546888748, 0.1276650715662048 -0.9977651717174861, 0.06681812708820357L -0.9977651717174861, 0.06681812708820357 L -0.9975373259188317, 0.07013760331453125 L -0.9972984365479133, 0.07345630305894688 M -0.9972984365479133,0.07345630305894688 Q -0.15400717900859529, 0.12760011290674664 -0.25758402533401553, 0.9662559029018789L -0.25758402533401553, 0.9662559029018789 L -0.25395958355377524, 0.9672148313178376 L -0.2503315720866646, 0.9681601644441993 \", \"type\": \"path\"}, {\"fillcolor\": \"#e1b396\", \"layer\": \"below\", \"line\": {\"color\": \"rgb(175,175,175)\", \"width\": 0.5}, \"path\": \"M -0.2442770922001011,0.9697054718966287 Q -0.16433631235775326, 0.11398936985813615 -0.993830320427938, -0.11091119960627144L -0.993830320427938, -0.11091119960627144 L -0.9941392499997856, -0.10810713024525091 L -0.994440267970441, -0.1053022005414765 M -0.994440267970441,-0.1053022005414765 Q -0.1643708728102334, 0.11393952857372228 -0.2503315720866646, 0.9681601644441993L -0.2503315720866646, 0.9681601644441993 L -0.24730553914270767, 0.9689375471666555 L -0.2442770922001011, 0.9697054718966287 \", \"type\": \"path\"}, {\"fillcolor\": \"#e1b396\", \"layer\": \"below\", \"line\": {\"color\": \"rgb(175,175,175)\", \"width\": 0.5}, \"path\": \"M -0.3114877721488587,0.9502501606428386 Q -0.17906427482687523, 0.08908414831340816 -0.9457991255459864, -0.3247522349675939L -0.9457991255459864, -0.3247522349675939 L -0.9481129506067053, -0.3179336926024784 L -0.9503776195128883, -0.31109866654972285 M -0.9503776195128883,-0.31109866654972285 Q -0.17911860768088728, 0.08897485252845541 -0.326293462957181, 0.9452685205968783L -0.326293462957181, 0.9452685205968783 L -0.31890034516715904, 0.9477882515901254 L -0.3114877721488587, 0.9502501606428386 \", \"type\": \"path\"}, {\"fillcolor\": \"#e1b396\", \"layer\": \"below\", \"line\": {\"color\": \"rgb(175,175,175)\", \"width\": 0.5}, \"path\": \"M -0.299290224022159,0.9541621255346315 Q -0.18731075772632552, 0.07010477900963519 -0.8522176775986995, -0.5231873756010165L -0.8522176775986995, -0.5231873756010165 L -0.8555687695422383, -0.5176891737171836 L -0.8588843895693686, -0.5121695084188954 M -0.8588843895693686,-0.5121695084188954 Q -0.18730836301093523, 0.0701111770416366 -0.3114877721488587, 0.9502501606428386L -0.3114877721488587, 0.9502501606428386 L -0.30539526194589134, 0.9522256738720084 L -0.299290224022159, 0.9541621255346315 \", \"type\": \"path\"}, {\"fillcolor\": \"#e1b396\", \"layer\": \"below\", \"line\": {\"color\": \"rgb(175,175,175)\", \"width\": 0.5}, \"path\": \"M -0.3410195299321191,0.9400562111942438 Q -0.19935440966307838, 0.01605675396478137 -0.4870787361140626, -0.8733580622090389L -0.4870787361140626, -0.8733580622090389 L -0.49666428515245953, -0.8679427330498231 L -0.5061896342378488, -0.8624222018188962 M -0.5061896342378488,-0.8624222018188962 Q -0.19935069975060815, 0.016102748490331917 -0.3612040988532267, 0.932486782196739L -0.3612040988532267, 0.932486782196739 L -0.3511322119514982, 0.9363258886360284 L -0.3410195299321191, 0.9400562111942438 \", \"type\": \"path\"}, {\"fillcolor\": \"#e1b396\", \"layer\": \"below\", \"line\": {\"color\": \"rgb(175,175,175)\", \"width\": 0.5}, \"path\": \"M -0.24003326725182514,0.9707646628366805 Q -0.19911153962259187, -0.018830687430920753 -0.05378794077033672, -0.9985523809133333L -0.05378794077033672, -0.9985523809133333 L -0.05519435071261172, -0.9984756299727165 L -0.056600651155938514, -0.9983968981766338 M -0.056600651155938514,-0.9983968981766338 Q -0.19909681955106706, -0.018985690523387347 -0.2442770922001011, 0.9697054718966287L -0.2442770922001011, 0.9697054718966287 L -0.24215575884020457, 0.9702373876843361 L -0.24003326725182514, 0.9707646628366805 \", \"type\": \"path\"}, {\"fillcolor\": \"#e1b396\", \"layer\": \"below\", \"line\": {\"color\": \"rgb(175,175,175)\", \"width\": 0.5}, \"path\": \"M -0.4079178598367613,0.9130186304923883 Q -0.18860540500459, -0.06654322807810406 0.25533319968923274, -0.9668531207667783L 0.25533319968923274, -0.9668531207667783 L 0.2379827958066173, -0.9712693698969745 L 0.22055610897306788, -0.9753742885655026 M 0.22055610897306788,-0.9753742885655026 Q -0.1886429078501876, -0.06643683705464633 -0.43932941045001306, 0.898326037201218L -0.43932941045001306, 0.898326037201218 L -0.4236873284941415, 0.9058085049686261 L -0.4079178598367613, 0.9130186304923883 \", \"type\": \"path\"}, {\"fillcolor\": \"#e1b396\", \"layer\": \"below\", \"line\": {\"color\": \"rgb(175,175,175)\", \"width\": 0.5}, \"path\": \"M -0.3612040988532267,0.932486782196739 Q -0.16289412407535875, -0.11604095975870604 0.7632971337219836, -0.6460475877609979L 0.7632971337219836, -0.6460475877609979 L 0.7554491313093266, -0.655207303075892 L 0.7474912174493485, -0.6642716912800746 M 0.7474912174493485,-0.6642716912800746 Q -0.16289801502580242, -0.11603549758868384 -0.3835303055273598, 0.9235282912515945L -0.3835303055273598, 0.9235282912515945 L -0.37239414188065606, 0.9280746753860757 L -0.3612040988532267, 0.932486782196739 \", \"type\": \"path\"}, {\"fillcolor\": \"#e1b396\", \"layer\": \"below\", \"line\": {\"color\": \"rgb(175,175,175)\", \"width\": 0.5}, \"path\": \"M -0.2669302842953779,0.9637158415871292 Q -0.14973375676563863, -0.13258884600466425 0.9243325779481437, -0.38158784747910773L 0.9243325779481437, -0.38158784747910773 L 0.9225756588142293, -0.38581621760041507 L 0.9207993970709367, -0.3900364987456936 M 0.9207993970709367,-0.3900364987456936 Q -0.14965733046213817, -0.1326751048198055 -0.2768519925123518, 0.9609125736725171L -0.2768519925123518, 0.9609125736725171 L -0.2718947511819599, 0.9623269944669016 L -0.2669302842953779, 0.9637158415871292 \", \"type\": \"path\"}, {\"fillcolor\": \"#e1b396\", \"layer\": \"below\", \"line\": {\"color\": \"rgb(175,175,175)\", \"width\": 0.5}, \"path\": \"M -0.25758402533401553,0.9662559029018789 Q -0.13731117839065407, -0.14541540595469923 0.9794242786982704, -0.20181199740444727L 0.9794242786982704, -0.20181199740444727 L 0.9785911867259249, -0.20581372466953182 L 0.9777417445857673, -0.20981201322703136 M 0.9777417445857673,-0.20981201322703136 Q -0.13720133228598339, -0.14551905173877122 -0.2669302842953779, 0.9637158415871292L -0.2669302842953779, 0.9637158415871292 L -0.26226022998039655, 0.9649971874418234 L -0.25758402533401553, 0.9662559029018789 \", \"type\": \"path\"}, {\"fillcolor\": \"#e1b396\", \"layer\": \"below\", \"line\": {\"color\": \"rgb(175,175,175)\", \"width\": 0.5}, \"path\": \"M -0.23426646067208212,0.9721724257579907 Q -0.13175985688394667, -0.15046375016568575 0.9945853554304509, -0.10392290778882055L 0.9945853554304509, -0.10392290778882055 L 0.9944714440897388, -0.10500736588482557 L 0.9943563502974632, -0.10609169912443103 M 0.9943563502974632,-0.10609169912443103 Q -0.13171237788072807, -0.15050531390287952 -0.23699914736671912, 0.9715098579774928L -0.23699914736671912, 0.9715098579774928 L -0.23563303690073098, 0.9718421023607378 L -0.23426646067208212, 0.9721724257579907 \", \"type\": \"path\"}, {\"fillcolor\": \"#dba284\", \"layer\": \"below\", \"line\": {\"color\": \"rgb(175,175,175)\", \"width\": 0.5}, \"path\": \"M -0.6533327775189577,0.757070856538121 Q -0.1413812828626203, 0.14146141825996142 -0.7567005286781185, 0.6537616613860557L -0.7567005286781185, 0.6537616613860557 L -0.7521701990690071, 0.6589688851778134 L -0.7476040367741508, 0.6641447163073679 M -0.7476040367741508,0.6641447163073679 Q -0.14122538922211123, 0.14161705207729466 -0.6620717009039173, 0.7494404998812073L -0.6620717009039173, 0.7494404998812073 L -0.6577133046011895, 0.7532683512205879 L -0.6533327775189577, 0.757070856538121 \", \"type\": \"path\"}, {\"fillcolor\": \"#dba284\", \"layer\": \"below\", \"line\": {\"color\": \"rgb(175,175,175)\", \"width\": 0.5}, \"path\": \"M -0.6287607064920039,0.7775988515755898 Q -0.14668115840227122, 0.13595822067741184 -0.8230036279116887, 0.5680361154400295L -0.8230036279116887, 0.5680361154400295 L -0.8206704328852008, 0.5714018206026448 L -0.8183234737627425, 0.5747579423451912 M -0.8183234737627425,0.5747579423451912 Q -0.1465501683210368, 0.1360994054545272 -0.6336198059414034, 0.7736445834611513L -0.6336198059414034, 0.7736445834611513 L -0.6311933527865992, 0.775625522657688 L -0.6287607064920039, 0.7775988515755898 \", \"type\": \"path\"}, {\"fillcolor\": \"#dba284\", \"layer\": \"below\", \"line\": {\"color\": \"rgb(175,175,175)\", \"width\": 0.5}, \"path\": \"M -0.6336198059414034,0.7736445834611513 Q -0.17319386250163288, 0.1000194280715776 -0.9867694178138349, 0.16212993575322637L -0.9867694178138349, 0.16212993575322637 L -0.9859712876217072, 0.16691500826945643 L -0.9851499536495365, 0.17169615261943422 M -0.9851499536495365,0.17169615261943422 Q -0.17312634231283047, 0.1001362551595607 -0.6400598892513125, 0.7683250211802278L -0.6400598892513125, 0.7683250211802278 L -0.6368454019008598, 0.7709915265926938 L -0.6336198059414034, 0.7736445834611513 \", \"type\": \"path\"}, {\"fillcolor\": \"#dba284\", \"layer\": \"below\", \"line\": {\"color\": \"rgb(175,175,175)\", \"width\": 0.5}, \"path\": \"M -0.60889541994969,0.7932505074466014 Q -0.1752275545253108, 0.09641215761033062 -0.9959633595507075, 0.08976071764679762L -0.9959633595507075, 0.08976071764679762 L -0.99592594093857, 0.09017494200510502 L -0.9958883500491996, 0.09058915076477317 M -0.9958883500491996,0.09058915076477317 Q -0.17522101074237117, 0.09642404987565009 -0.6094474416885695, 0.7928264727033638L -0.6094474416885695, 0.7928264727033638 L -0.6091714677146259, 0.7930385381066978 L -0.60889541994969, 0.7932505074466014 \", \"type\": \"path\"}, {\"fillcolor\": \"#dba284\", \"layer\": \"below\", \"line\": {\"color\": \"rgb(175,175,175)\", \"width\": 0.5}, \"path\": \"M -0.6094474416885695,0.7928264727033638 Q -0.18304743772284157, 0.08058309713024464 -0.9963014750932557, -0.08592654262218843L -0.9963014750932557, -0.08592654262218843 L -0.996361827794136, -0.08522387056880627 L -0.9964216849141452, -0.0845211561258841 M -0.9964216849141452,-0.0845211561258841 Q -0.1830373481846329, 0.08060601199375556 -0.6103668215709483, 0.7921188945640535L -0.6103668215709483, 0.7921188945640535 L -0.6099072342410327, 0.79247281695996 L -0.6094474416885695, 0.7928264727033638 \", \"type\": \"path\"}, {\"fillcolor\": \"#dba284\", \"layer\": \"below\", \"line\": {\"color\": \"rgb(175,175,175)\", \"width\": 0.5}, \"path\": \"M -0.6112853799446356,0.7914102502911764 Q -0.19557327360170487, 0.04184608288373828 -0.8816085535959977, -0.47198131131049337L -0.8816085535959977, -0.47198131131049337 L -0.8822747852295378, -0.47073474839677265 L -0.8829392542689041, -0.4694872450568509 M -0.8829392542689041,-0.4694872450568509 Q -0.1955578063694621, 0.041918305881368516 -0.6129367108697698, 0.7901320069887995L -0.6129367108697698, 0.7901320069887995 L -0.6121113790691886, 0.7907715596896592 L -0.6112853799446356, 0.7914102502911764 \", \"type\": \"path\"}, {\"fillcolor\": \"#dba284\", \"layer\": \"below\", \"line\": {\"color\": \"rgb(175,175,175)\", \"width\": 0.5}, \"path\": \"M -0.6103668215709483,0.7921188945640535 Q -0.1999874909088578, -0.002236845989226666 -0.5924967521497798, -0.8055728388494503L -0.5924967521497798, -0.8055728388494503 L -0.5931392431538459, -0.805099893324352 L -0.5937813566412968, -0.8046264353755854 M -0.5937813566412968,-0.8046264353755854 Q -0.19998797317888922, -0.0021933043108268986 -0.6112853799446356, 0.7914102502911764L -0.6112853799446356, 0.7914102502911764 L -0.6108262035236739, 0.791764705634733 L -0.6103668215709483, 0.7921188945640535 \", \"type\": \"path\"}, {\"fillcolor\": \"#dba284\", \"layer\": \"below\", \"line\": {\"color\": \"rgb(175,175,175)\", \"width\": 0.5}, \"path\": \"M -0.619879444107858,0.7846970592353032 Q -0.18831312419624785, -0.06736592057894357 0.018505295572636457, -0.9998287623567195L 0.018505295572636457, -0.9998287623567195 L 0.014634723808203338, -0.9998929066950408 L 0.01076393273598969, -0.9999420671979228 M 0.01076393273598969,-0.9999420671979228 Q -0.18838622410901473, -0.06716122814502493 -0.6242395332874489, 0.7812330030669903L -0.6242395332874489, 0.7812330030669903 L -0.6220618999746489, 0.782968066143141 L -0.619879444107858, 0.7846970592353032 \", \"type\": \"path\"}, {\"fillcolor\": \"#dba284\", \"layer\": \"below\", \"line\": {\"color\": \"rgb(175,175,175)\", \"width\": 0.5}, \"path\": \"M -0.6162313468477777,0.7875651891508245 Q -0.15414396503231348, -0.12743483842386635 0.6576567624712178, -0.7533177170197687L 0.6576567624712178, -0.7533177170197687 L 0.6552933922957591, -0.7553744568182832 L 0.6529235899587936, -0.7574237820898688 M 0.6529235899587936,-0.7574237820898688 Q -0.1542474831180229, -0.12730952027148343 -0.619879444107858, 0.7846970592353032L -0.619879444107858, 0.7846970592353032 L -0.6180570591956256, 0.7861332403469878 L -0.6162313468477777, 0.7875651891508245 \", \"type\": \"path\"}, {\"fillcolor\": \"#dba284\", \"layer\": \"below\", \"line\": {\"color\": \"rgb(175,175,175)\", \"width\": 0.5}, \"path\": \"M -0.6242395332874489,0.7812330030669903 Q -0.10656272554136748, -0.16924652293384107 0.974299702781011, -0.22525560850028495L 0.974299702781011, -0.22525560850028495 L 0.9735518794904702, -0.2284660542412659 L 0.972793477389007, -0.23167401742405963 M 0.972793477389007,-0.23167401742405963 Q -0.10662974592250761, -0.1692043063414802 -0.6287607064920039, 0.7775988515755898L -0.6287607064920039, 0.7775988515755898 L -0.6265027549708839, 0.7794192055716184 L -0.6242395332874489, 0.7812330030669903 \", \"type\": \"path\"}, {\"fillcolor\": \"#d59171\", \"layer\": \"below\", \"line\": {\"color\": \"rgb(175,175,175)\", \"width\": 0.5}, \"path\": \"M -0.701005428821628,0.7131559357970776 Q -0.15544548528905475, 0.12584395537033263 -0.8434581097745655, 0.5371949525596058L -0.8434581097745655, 0.5371949525596058 L -0.8407586722676953, 0.541410061789271 L -0.8380381703016838, 0.5456116064724119 M -0.8380381703016838,0.5456116064724119 Q -0.15538883798103065, 0.12591389530510527 -0.7074736646746959, 0.7067397072414681L -0.7074736646746959, 0.7067397072414681 L -0.7042468538809926, 0.7099551878807027 L -0.701005428821628, 0.7131559357970776 \", \"type\": \"path\"}, {\"fillcolor\": \"#d59171\", \"layer\": \"below\", \"line\": {\"color\": \"rgb(175,175,175)\", \"width\": 0.5}, \"path\": \"M -0.7567005286781185,0.6537616613860557 Q -0.1821941670683725, 0.0824941542550863 -0.9905227482244767, 0.13734877229094486L -0.9905227482244767, 0.13734877229094486 L -0.9894970763004225, 0.14455288303218278 L -0.9884190093044657, 0.15174933952270933 M -0.9884190093044657,0.15174933952270933 Q -0.18220880811532308, 0.08246181082897329 -0.7663627318479863, 0.6424080971115569L -0.7663627318479863, 0.6424080971115569 L -0.7615527885488544, 0.648102885546318 L -0.7567005286781185, 0.6537616613860557 \", \"type\": \"path\"}, {\"fillcolor\": \"#d59171\", \"layer\": \"below\", \"line\": {\"color\": \"rgb(175,175,175)\", \"width\": 0.5}, \"path\": \"M -0.6856875300104448,0.7278960167415228 Q -0.17990204034861756, 0.08737995123828109 -0.9960376799174231, 0.08893222242088111L -0.9960376799174231, 0.08893222242088111 L -0.9960006058791395, 0.0893464777615043 L -0.9959633595507075, 0.08976071764679762 M -0.9959633595507075,0.08976071764679762 Q -0.1799018844764456, 0.08738027215466677 -0.6862901777934308, 0.7273278434545601L -0.6862901777934308, 0.7273278434545601 L -0.6859889127259384, 0.7276119924912486 L -0.6856875300104448, 0.7278960167415228 \", \"type\": \"path\"}, {\"fillcolor\": \"#d59171\", \"layer\": \"below\", \"line\": {\"color\": \"rgb(175,175,175)\", \"width\": 0.5}, \"path\": \"M -0.6914933598494569,0.722382816299024 Q -0.187814660889831, 0.06874338626251823 -0.994440267970441, -0.1053022005414765L -0.994440267970441, -0.1053022005414765 L -0.9947044177437684, -0.10277704666427567 L -0.9949621554761511, -0.10025123026801888 M -0.9949621554761511,-0.10025123026801888 Q -0.18781093679061497, 0.06875356006660041 -0.6950747067388594, 0.7189375160971144L -0.6950747067388594, 0.7189375160971144 L -0.6932861734839268, 0.7206623908988276 L -0.6914933598494569, 0.722382816299024 \", \"type\": \"path\"}, {\"fillcolor\": \"#d59171\", \"layer\": \"below\", \"line\": {\"color\": \"rgb(175,175,175)\", \"width\": 0.5}, \"path\": \"M -0.6872935443418305,0.7263797793895727 Q -0.19311359742436085, 0.05203016903510782 -0.9591871122005355, -0.2827721411108195L -0.9591871122005355, -0.2827721411108195 L -0.9595122496017009, -0.28166690054794025 L -0.9598361134700528, -0.2805612861367438 M -0.9598361134700528,-0.2805612861367438 Q -0.1931111136264402, 0.05203938694831156 -0.6888962058781639, 0.7248599985698413L -0.6888962058781639, 0.7248599985698413 L -0.6880952946983998, 0.7256203314502166 L -0.6872935443418305, 0.7263797793895727 \", \"type\": \"path\"}, {\"fillcolor\": \"#d59171\", \"layer\": \"below\", \"line\": {\"color\": \"rgb(175,175,175)\", \"width\": 0.5}, \"path\": \"M -0.6888962058781639,0.7248599985698413 Q -0.19761397428838157, 0.030801252668533938 -0.876820191125739, -0.4808184193999048L -0.876820191125739, -0.4808184193999048 L -0.877800012007345, -0.4790272841080192 L -0.8787761740301304, -0.47723415212761755 M -0.8787761740301304,-0.47723415212761755 Q -0.19760635819647965, 0.030850076180207072 -0.6914933598494569, 0.722382816299024L -0.6914933598494569, 0.722382816299024 L -0.6901958942216502, 0.7236225726161233 L -0.6888962058781639, 0.7248599985698413 \", \"type\": \"path\"}, {\"fillcolor\": \"#d59171\", \"layer\": \"below\", \"line\": {\"color\": \"rgb(175,175,175)\", \"width\": 0.5}, \"path\": \"M -0.7074736646746959,0.7067397072414681 Q -0.19879763041937823, -0.021897537296242105 -0.5366837020072832, -0.8437835054086786L -0.5366837020072832, -0.8437835054086786 L -0.5413874552729366, -0.8407732293984472 L -0.5460743242574655, -0.8377367321460558 M -0.5460743242574655,-0.8377367321460558 Q -0.19881406422549971, -0.021747824400129866 -0.7142697319964599, 0.6998705237068534L -0.7142697319964599, 0.6998705237068534 L -0.7108799954388344, 0.703313324262297 L -0.7074736646746959, 0.7067397072414681 \", \"type\": \"path\"}, {\"fillcolor\": \"#d59171\", \"layer\": \"below\", \"line\": {\"color\": \"rgb(175,175,175)\", \"width\": 0.5}, \"path\": \"M -0.7301183645732857,0.6833206960957868 Q -0.17991067700982608, -0.08736216742884786 0.08550099769182731, -0.9963380848856989L 0.08550099769182731, -0.9963380848856989 L 0.07842786548731775, -0.9969197911141614 L 0.0713507830609156, -0.9974512849039767 M 0.0713507830609156,-0.9974512849039767 Q -0.17999996845412625, -0.08717804400486148 -0.7383650859347028, 0.6744012158000896L -0.7383650859347028, 0.6744012158000896 L -0.7342552692260016, 0.678873478355026 L -0.7301183645732857, 0.6833206960957868 \", \"type\": \"path\"}, {\"fillcolor\": \"#d59171\", \"layer\": \"below\", \"line\": {\"color\": \"rgb(175,175,175)\", \"width\": 0.5}, \"path\": \"M -0.7142697319964599,0.6998705237068534 Q -0.14262508049610206, -0.14020729800363604 0.6875573170751227, -0.7261301093719081L 0.6875573170751227, -0.7261301093719081 L 0.6828794847462581, -0.7305310460977583 L 0.6781734833932469, -0.7349018481554319 M 0.6781734833932469,-0.7349018481554319 Q -0.1427320055414345, -0.14009844608031852 -0.7221459711324526, 0.6917407002462461L -0.7221459711324526, 0.6917407002462461 L -0.7182193547630188, 0.6958167563689401 L -0.7142697319964599, 0.6998705237068534 \", \"type\": \"path\"}, {\"fillcolor\": \"#d59171\", \"layer\": \"below\", \"line\": {\"color\": \"rgb(175,175,175)\", \"width\": 0.5}, \"path\": \"M -0.6852855034711239,0.7282745215455008 Q -0.1165955350144796, -0.1624976344895127 0.9093917822642739, -0.4159406043538038L 0.9093917822642739, -0.4159406043538038 L 0.909276321078936, -0.41619295035494747 L 0.9091607898704199, -0.41644526430515955 M 0.9091607898704199,-0.41644526430515955 Q -0.11659576602004057, -0.1624974687378236 -0.6856875300104448, 0.7278960167415228L -0.6856875300104448, 0.7278960167415228 L -0.6854865428656387, 0.7280852968918647 L -0.6852855034711239, 0.7282745215455008 \", \"type\": \"path\"}, {\"fillcolor\": \"#d59171\", \"layer\": \"below\", \"line\": {\"color\": \"rgb(175,175,175)\", \"width\": 0.5}, \"path\": \"M -0.6950747067388594,0.7189375160971144 Q -0.09708122076410897, -0.17485776098003297 0.9777417445857673, -0.20981201322703136L 0.9777417445857673, -0.20981201322703136 L 0.976904149633104, -0.21367798770491542 L 0.9760512687447253, -0.21754061869410096 M 0.9760512687447253,-0.21754061869410096 Q -0.09704876560785068, -0.17487577617838457 -0.701005428821628, 0.7131559357970776L -0.701005428821628, 0.7131559357970776 L -0.6980460535626133, 0.7160528661388496 L -0.6950747067388594, 0.7189375160971144 \", \"type\": \"path\"}, {\"fillcolor\": \"#d0805f\", \"layer\": \"below\", \"line\": {\"color\": \"rgb(175,175,175)\", \"width\": 0.5}, \"path\": \"M -0.8230036279116887,0.5680361154400295 Q -0.17972969116831627, 0.08773390514813337 -0.9541115674828773, 0.29945135964855274L -0.9541115674828773, 0.29945135964855274 L -0.9531917034503314, 0.30236662592530833 L -0.9522629319106113, 0.3052790666079258 M -0.9522629319106113,0.3052790666079258 Q -0.1798339732423263, 0.0875199523987432 -0.8277987991260716, 0.5610250869305523L -0.8277987991260716, 0.5610250869305523 L -0.8254086575197949, 0.5645356924866399 L -0.8230036279116887, 0.5680361154400295 \", \"type\": \"path\"}, {\"fillcolor\": \"#d0805f\", \"layer\": \"below\", \"line\": {\"color\": \"rgb(175,175,175)\", \"width\": 0.5}, \"path\": \"M -0.8328701979561935,0.5534683670783823 Q -0.184772545457593, 0.07654480024875455 -0.9802720455222319, 0.19765302114478098L -0.9802720455222319, 0.19765302114478098 L -0.9794378174653566, 0.20174628055728472 L -0.9785864975240777, 0.20583601935414117 M -0.9785864975240777,0.20583601935414117 Q -0.18481267903892915, 0.07644784932523456 -0.8380381703016838, 0.5456116064724119L -0.8380381703016838, 0.5456116064724119 L -0.8354634198756731, 0.5495460618088758 L -0.8328701979561935, 0.5534683670783823 \", \"type\": \"path\"}, {\"fillcolor\": \"#d0805f\", \"layer\": \"below\", \"line\": {\"color\": \"rgb(175,175,175)\", \"width\": 0.5}, \"path\": \"M -0.8071901686945347,0.5902914801713544 Q -0.18754124933290756, 0.06948582444392674 -0.9969411106715825, 0.07815639355108021L -0.9969411106715825, 0.07815639355108021 L -0.9967652922581264, 0.0803676063446705 L -0.9965845693865094, 0.08257842369956984 M -0.9965845693865094,0.08257842369956984 Q -0.18755574519700208, 0.06944668777988797 -0.8100457670903597, 0.5863666559576787L -0.8100457670903597, 0.5863666559576787 L -0.8086203491501979, 0.5883308006047381 L -0.8071901686945347, 0.5902914801713544 \", \"type\": \"path\"}, {\"fillcolor\": \"#d0805f\", \"layer\": \"below\", \"line\": {\"color\": \"rgb(175,175,175)\", \"width\": 0.5}, \"path\": \"M -0.8043155539579286,0.5942023978926291 Q -0.1928643595206703, 0.0529465657685334 -0.9949621554761511, -0.10025123026801888L -0.9949621554761511, -0.10025123026801888 L -0.995185871390715, -0.098005517111555 L -0.9954045185485749, -0.09575930478590501 M -0.9954045185485749,-0.09575930478590501 Q -0.1928733596435121, 0.05291377079574314 -0.8071901686945347, 0.5902914801713544L -0.8071901686945347, 0.5902914801713544 L -0.8057552341466764, 0.5922486831097514 L -0.8043155539579286, 0.5942023978926291 \", \"type\": \"path\"}, {\"fillcolor\": \"#d0805f\", \"layer\": \"below\", \"line\": {\"color\": \"rgb(175,175,175)\", \"width\": 0.5}, \"path\": \"M -0.8023282605371072,0.5968830390817784 Q -0.1969494954479235, 0.03479793446180906 -0.9582864212229619, -0.2858096130288272L -0.9582864212229619, -0.2858096130288272 L -0.9587379696266395, -0.28429123376599 L -0.9591871122005355, -0.2827721411108195 M -0.9591871122005355,-0.2827721411108195 Q -0.19695243069351348, 0.03478131745516224 -0.8043155539579286, 0.5942023978926291L -0.8043155539579286, 0.5942023978926291 L -0.8033230253908362, 0.5955435474227841 L -0.8023282605371072, 0.5968830390817784 \", \"type\": \"path\"}, {\"fillcolor\": \"#d0805f\", \"layer\": \"below\", \"line\": {\"color\": \"rgb(175,175,175)\", \"width\": 0.5}, \"path\": \"M -0.8503935433223232,0.5261471481208503 Q -0.1999958679505627, -0.0012856137449053487 -0.8435591863808428, -0.5370362176543502L -0.8435591863808428, -0.5370362176543502 L -0.8479167062327686, -0.5301294740828628 L -0.8522176775986995, -0.5231873756010165 M -0.8522176775986995,-0.5231873756010165 Q -0.19999621905702544, -0.0012297816449670367 -0.8585871751588385, 0.5126675946973496L -0.8585871751588385, 0.5126675946973496 L -0.8545169387585134, 0.5194235279372499 L -0.8503935433223232, 0.5261471481208503 \", \"type\": \"path\"}, {\"fillcolor\": \"#d0805f\", \"layer\": \"below\", \"line\": {\"color\": \"rgb(175,175,175)\", \"width\": 0.5}, \"path\": \"M -0.8585871751588385,0.5126675946973496 Q -0.1925732512665905, -0.05399576739536727 -0.4668853046653111, -0.8843178796606905L -0.4668853046653111, -0.8843178796606905 L -0.4770134978956791, -0.8788959681471573 L -0.4870787361140626, -0.8733580622090389 M -0.4870787361140626,-0.8733580622090389 Q -0.1926038523137074, -0.053886511057217173 -0.8695790768893925, 0.49379371101320435L -0.8695790768893925, 0.49379371101320435 L -0.8641346564922263, 0.5032606635224554 L -0.8585871751588385, 0.5126675946973496 \", \"type\": \"path\"}, {\"fillcolor\": \"#d0805f\", \"layer\": \"below\", \"line\": {\"color\": \"rgb(175,175,175)\", \"width\": 0.5}, \"path\": \"M -0.7997860597555896,0.6002851477594864 Q -0.18168203206979405, -0.08361602252553235 -0.06423282238396275, -0.997934940027951L -0.06423282238396275, -0.997934940027951 L -0.06483520811369349, -0.9978959844537175 L -0.06543757021837533, -0.9978566652600539 M -0.06543757021837533,-0.9978566652600539 Q -0.18165640099119726, -0.08367169162222882 -0.8008773434857589, 0.5988284234162518L -0.8008773434857589, 0.5988284234162518 L -0.8003320330528431, 0.5995570338754296 L -0.7997860597555896, 0.6002851477594864 \", \"type\": \"path\"}, {\"fillcolor\": \"#d0805f\", \"layer\": \"below\", \"line\": {\"color\": \"rgb(175,175,175)\", \"width\": 0.5}, \"path\": \"M -0.8844396250714952,0.46665463632475884 Q -0.16078839065311815, -0.1189415546862419 0.18739786549667856, -0.9822840933290576L 0.18739786549667856, -0.9822840933290576 L 0.17121249975290234, -0.9852341244234095 L 0.15498079213622443, -0.9879174834310953 M 0.15498079213622443,-0.9879174834310953 Q -0.16090498566264777, -0.11878377662333824 -0.8984534414756035, 0.43906880269570997L -0.8984534414756035, 0.43906880269570997 L -0.8915532324206344, 0.45291592350050824 L -0.8844396250714952, 0.46665463632475884 \", \"type\": \"path\"}, {\"fillcolor\": \"#d0805f\", \"layer\": \"below\", \"line\": {\"color\": \"rgb(175,175,175)\", \"width\": 0.5}, \"path\": \"M -0.8434581097745655,0.5371949525596058 Q -0.126248831288443, -0.15511683531552034 0.6972769892072374, -0.7168017859367332L 0.6972769892072374, -0.7168017859367332 L 0.6924328619936118, -0.7214823155361023 L 0.6875573170751227, -0.7261301093719081 M 0.6875573170751227,-0.7261301093719081 Q -0.12628198470930102, -0.15508984601797718 -0.8503935433223232, 0.5261471481208503L -0.8503935433223232, 0.5261471481208503 L -0.8469438406237422, 0.5316823589602209 L -0.8434581097745655, 0.5371949525596058 \", \"type\": \"path\"}, {\"fillcolor\": \"#d0805f\", \"layer\": \"below\", \"line\": {\"color\": \"rgb(175,175,175)\", \"width\": 0.5}, \"path\": \"M -0.8137647685323737,0.5811943749688673 Q -0.09771109567304712, -0.17450656658811622 0.9207993970709367, -0.3900364987456936L 0.9207993970709367, -0.3900364987456936 L 0.919386319175305, -0.3933558136258878 L 0.9179612757973287, -0.3966700091216132 M 0.9179612757973287,-0.3966700091216132 Q -0.0976524426978288, -0.17453939508073033 -0.8183234737627425, 0.5747579423451912L -0.8183234737627425, 0.5747579423451912 L -0.8160504669294173, 0.5779806531574218 L -0.8137647685323737, 0.5811943749688673 \", \"type\": \"path\"}, {\"fillcolor\": \"#d0805f\", \"layer\": \"below\", \"line\": {\"color\": \"rgb(175,175,175)\", \"width\": 0.5}, \"path\": \"M -0.8100457670903597,0.5863666559576787 Q -0.08340727549286692, -0.1817779590458013 0.972793477389007, -0.23167401742405963L 0.972793477389007, -0.23167401742405963 L 0.9721482503442828, -0.2343667624740117 L 0.9714955696504788, -0.2370577105885646 M 0.9714955696504788,-0.2370577105885646 Q -0.08333159551697344, -0.18181266509403446 -0.8137647685323737, 0.5811943749688673L -0.8137647685323737, 0.5811943749688673 L -0.8119093865835669, 0.5837834769651297 L -0.8100457670903597, 0.5863666559576787 \", \"type\": \"path\"}, {\"fillcolor\": \"#d0805f\", \"layer\": \"below\", \"line\": {\"color\": \"rgb(175,175,175)\", \"width\": 0.5}, \"path\": \"M -0.8008773434857589,0.5988284234162518 Q -0.07309900855959772, -0.18616265723179787 0.9943563502974632, -0.10609169912443103L 0.9943563502974632, -0.10609169912443103 L 0.994253052139542, -0.1070554450329605 L 0.9941488199040586, -0.10801909036539616 M 0.9941488199040586,-0.10801909036539616 Q -0.07305355152865677, -0.18618050007734402 -0.8023282605371072, 0.5968830390817784L -0.8023282605371072, 0.5968830390817784 L -0.8016033921601335, 0.5978561713969064 L -0.8008773434857589, 0.5988284234162518 \", \"type\": \"path\"}, {\"fillcolor\": \"#ca6f4c\", \"layer\": \"below\", \"line\": {\"color\": \"rgb(175,175,175)\", \"width\": 0.5}, \"path\": \"M -0.9452281296129709,0.326410451714348 Q -0.19184858068898628, 0.05651656471886382 -0.9712266963811027, 0.2381568899625818L -0.9712266963811027, 0.2381568899625818 L -0.9709693892499499, 0.239203773255313 L -0.9707109536857598, 0.2402503785522151 M -0.9707109536857598,0.2402503785522151 Q -0.19183701186879937, 0.056555820896262654 -0.9457968700223637, 0.3247588038158476L -0.9457968700223637, 0.3247588038158476 L -0.9455128604607393, 0.3255847519515471 L -0.9452281296129709, 0.326410451714348 \", \"type\": \"path\"}, {\"fillcolor\": \"#ca6f4c\", \"layer\": \"below\", \"line\": {\"color\": \"rgb(175,175,175)\", \"width\": 0.5}, \"path\": \"M -0.944656504928382,0.32806110360189555 Q -0.1955545777461375, 0.04193336526597727 -0.996111311097922, 0.0881036656602826L -0.996111311097922, 0.0881036656602826 L -0.996074581659145, 0.08851795169658676 L -0.9960376799174231, 0.08893222242088111 M -0.9960376799174231,0.08893222242088111 Q -0.19555087087748646, 0.04195064837468697 -0.9448712020755748, 0.3274422261838846L -0.9448712020755748, 0.3274422261838846 L -0.9447639041772407, 0.32775168247284053 L -0.944656504928382, 0.32806110360189555 \", \"type\": \"path\"}, {\"fillcolor\": \"#ca6f4c\", \"layer\": \"below\", \"line\": {\"color\": \"rgb(175,175,175)\", \"width\": 0.5}, \"path\": \"M -0.9492860433144837,0.31441375282950346 Q -0.19999065771314828, 0.001933087546484821 -0.9551862865999471, -0.29600533422795555L -0.9551862865999471, -0.29600533422795555 L -0.9560770938108817, -0.293115319780694 L -0.956959157007469, -0.2902226245824991 M -0.956959157007469,-0.2902226245824991 Q -0.19998919019660719, 0.0020793759893982518 -0.9507177783964423, 0.3100575847176346L -0.9507177783964423, 0.3100575847176346 L -0.9500044077156621, 0.3122364894127753 L -0.9492860433144837, 0.31441375282950346 \", \"type\": \"path\"}, {\"fillcolor\": \"#ca6f4c\", \"layer\": \"below\", \"line\": {\"color\": \"rgb(175,175,175)\", \"width\": 0.5}, \"path\": \"M -0.9465037368790863,0.32269285098050343 Q -0.19928697808613333, -0.0168730662683764 -0.8787761740301304, -0.47723415212761755L -0.8787761740301304, -0.47723415212761755 L -0.8795245755814908, -0.4758534658360687 L -0.8802708078738618, -0.4744716058997616 M -0.8802708078738618,-0.4744716058997616 Q -0.19929503256169384, -0.01677766361068772 -0.9472060909745913, 0.3206253596031267L -0.9472060909745913, 0.3206253596031267 L -0.9468554782317891, 0.3216592969936513 L -0.9465037368790863, 0.32269285098050343 \", \"type\": \"path\"}, {\"fillcolor\": \"#ca6f4c\", \"layer\": \"below\", \"line\": {\"color\": \"rgb(175,175,175)\", \"width\": 0.5}, \"path\": \"M -0.9472060909745913,0.3206253596031267 Q -0.19054004271199626, -0.0607823339738665 -0.5865681935498718, -0.8098998421506453L -0.5865681935498718, -0.8098998421506453 L -0.5882468728306275, -0.8086814061204743 L -0.5899230211495131, -0.807459490697726 M -0.5899230211495131,-0.807459490697726 Q -0.1905798119500649, -0.06065752448854057 -0.9481123992164469, 0.3179353369036429L -0.9481123992164469, 0.3179353369036429 L -0.9476601995813373, 0.31928066983370607 L -0.9472060909745913, 0.3206253596031267 \", \"type\": \"path\"}, {\"fillcolor\": \"#ca6f4c\", \"layer\": \"below\", \"line\": {\"color\": \"rgb(175,175,175)\", \"width\": 0.5}, \"path\": \"M -0.9481123992164469,0.3179353369036429 Q -0.16505172467711227, -0.11295099902661657 -0.04695533992128387, -0.998896989710589L -0.04695533992128387, -0.998896989710589 L -0.04866370865771396, -0.9988152198778697 L -0.05037193504257554, -0.9987305283008358 M -0.05037193504257554,-0.9987305283008358 Q -0.16503526825373535, -0.11297504252009652 -0.9492860433144837, 0.31441375282950346L -0.9492860433144837, 0.31441375282950346 L -0.9487008552848986, 0.3161750894389087 L -0.9481123992164469, 0.3179353369036429 \", \"type\": \"path\"}, {\"fillcolor\": \"#ca6f4c\", \"layer\": \"below\", \"line\": {\"color\": \"rgb(175,175,175)\", \"width\": 0.5}, \"path\": \"M -0.9571344233156026,0.28964408453187646 Q -0.15276251218774584, -0.1290876247751457 0.12591699180467977, -0.9920407810039162L 0.12591699180467977, -0.9920407810039162 L 0.11454811153635908, -0.9934177017465784 L 0.10316420858684455, -0.9946643383909217 M 0.10316420858684455,-0.9946643383909217 Q -0.15323915040718772, -0.1285214487254299 -0.9615096041799264, 0.2747713250500521L -0.9615096041799264, 0.2747713250500521 L -0.9593508356199608, 0.2822161834397222 L -0.9571344233156026, 0.28964408453187646 \", \"type\": \"path\"}, {\"fillcolor\": \"#ca6f4c\", \"layer\": \"below\", \"line\": {\"color\": \"rgb(175,175,175)\", \"width\": 0.5}, \"path\": \"M -0.9442977756041866,0.3290922530066383 Q -0.11277549432279765, -0.16517169212746063 0.6503094060057867, -0.7596694521042694L 0.6503094060057867, -0.7596694521042694 L 0.6500713694575355, -0.7598731569226567 L 0.6498332691001956, -0.7600767871541354 M 0.6498332691001956,-0.7600767871541354 Q -0.11279117633628495, -0.1651609837118836 -0.9444414024251877, 0.32867984024753416L -0.9444414024251877, 0.32867984024753416 L -0.9443696115276264, 0.32888605446743996 L -0.9442977756041866, 0.3290922530066383 \", \"type\": \"path\"}, {\"fillcolor\": \"#ca6f4c\", \"layer\": \"below\", \"line\": {\"color\": \"rgb(175,175,175)\", \"width\": 0.5}, \"path\": \"M -0.9448712020755748,0.3274422261838846 Q -0.0742167931565541, -0.18571986327142628 0.9103129498466982, -0.41392068484360955L 0.9103129498466982, -0.41392068484360955 L 0.9100255667222481, -0.4145521293056533 L 0.9097377455923289, -0.41518337423912716 M 0.9097377455923289,-0.41518337423912716 Q -0.07424425702034099, -0.1857088858926722 -0.9452281296129709, 0.326410451714348L -0.9452281296129709, 0.326410451714348 L -0.9450498066514857, 0.32692638765934656 L -0.9448712020755748, 0.3274422261838846 \", \"type\": \"path\"}, {\"fillcolor\": \"#ca6f4c\", \"layer\": \"below\", \"line\": {\"color\": \"rgb(175,175,175)\", \"width\": 0.5}, \"path\": \"M -0.9442258946582932,0.32929843585529806 Q -0.05811586141260353, -0.19137018224444233 0.9678889312464753, -0.2513782344805446L 0.9678889312464753, -0.2513782344805446 L 0.9678557771676902, -0.251505854013632 L 0.9678226062618244, -0.2516334691740542 M 0.9678226062618244,-0.2516334691740542 Q -0.0581202014844888, -0.1913688641848575 -0.9442977756041866, 0.3290922530066383L -0.9442977756041866, 0.3290922530066383 L -0.9442618407588325, 0.3291953463928997 L -0.9442258946582932, 0.32929843585529806 \", \"type\": \"path\"}, {\"fillcolor\": \"#ca6f4c\", \"layer\": \"below\", \"line\": {\"color\": \"rgb(175,175,175)\", \"width\": 0.5}, \"path\": \"M -0.9441539686933733,0.3295046030035888 Q -0.04429705031635063, -0.19503274425919026 0.9938573657216395, -0.11066858904333858L 0.9938573657216395, -0.11066858904333858 L 0.9938439500132289, -0.11078900226151783 L 0.9938305197158607, -0.11090941385338852 M 0.9938305197158607,-0.11090941385338852 Q -0.04429938710323743, -0.19503221349889233 -0.9442258946582932, 0.32929843585529806L -0.9442258946582932, 0.32929843585529806 L -0.9441899373029972, 0.32940152139260415 L -0.9441539686933733, 0.3295046030035888 \", \"type\": \"path\"}, {\"fillcolor\": \"#c45e3a\", \"layer\": \"below\", \"line\": {\"color\": \"rgb(175,175,175)\", \"width\": 0.5}, \"path\": \"M -0.969863248500359,0.24364991116011275 Q -0.19938636711868607, 0.015654922778875324 -0.9960048845978501, -0.08929876738915961L -0.9960048845978501, -0.08929876738915961 L -0.9960801024269232, -0.08845580562727352 L -0.9961546068213388, -0.0876127805096023 M -0.9961546068213388,-0.0876127805096023 Q -0.19938577552580936, 0.015662455681392164 -0.9702559770605562, 0.24208126523600573L -0.9702559770605562, 0.24208126523600573 L -0.9700599298549963, 0.2428656675813189 L -0.969863248500359, 0.24364991116011275 \", \"type\": \"path\"}, {\"fillcolor\": \"#c45e3a\", \"layer\": \"below\", \"line\": {\"color\": \"rgb(175,175,175)\", \"width\": 0.5}, \"path\": \"M -0.9802720455222319,0.19765302114478098 Q -0.19965561371602425, -0.011731833261588717 -0.9503776195128883, -0.31109866654972285L -0.9503776195128883, -0.31109866654972285 L -0.9517569764108551, -0.3068528276768311 L -0.9531173650081531, -0.30260087329668256 M -0.9531173650081531,-0.30260087329668256 Q -0.1996589710530271, -0.011674556867243346 -0.9818891680498065, 0.1894562262541371L -0.9818891680498065, 0.1894562262541371 L -0.9810891671368324, 0.1935563125469086 L -0.9802720455222319, 0.19765302114478098 \", \"type\": \"path\"}, {\"fillcolor\": \"#c45e3a\", \"layer\": \"below\", \"line\": {\"color\": \"rgb(175,175,175)\", \"width\": 0.5}, \"path\": \"M -0.9720551477114849,0.2347526140591476 Q -0.19809524390866104, -0.027536781597857475 -0.871173258003215, -0.4909757168537603L -0.871173258003215, -0.4909757168537603 L -0.8728644009215892, -0.48796284449104843 L -0.8745451241396738, -0.48494414713812417 M -0.8745451241396738,-0.48494414713812417 Q -0.19810872519445621, -0.027439624666300295 -0.9734299537375896, 0.22898498895437272L -0.9734299537375896, 0.22898498895437272 L -0.9727468254201174, 0.23186982044906942 L -0.9720551477114849, 0.2347526140591476 \", \"type\": \"path\"}, {\"fillcolor\": \"#c45e3a\", \"layer\": \"below\", \"line\": {\"color\": \"rgb(175,175,175)\", \"width\": 0.5}, \"path\": \"M -0.9818891680498065,0.1894562262541371 Q -0.18411403552175962, -0.07811543972795805 -0.5460743242574655, -0.8377367321460558L -0.5460743242574655, -0.8377367321460558 L -0.550477776197778, -0.8348498175793949 L -0.5548659663263175, -0.831939757081462 M -0.5548659663263175,-0.831939757081462 Q -0.18417791210087345, -0.07796471441724735 -0.9835353047491335, 0.1807160875849987L -0.9835353047491335, 0.1807160875849987 L -0.9827219530850203, 0.18508798698122775 L -0.9818891680498065, 0.1894562262541371 \", \"type\": \"path\"}, {\"fillcolor\": \"#c45e3a\", \"layer\": \"below\", \"line\": {\"color\": \"rgb(175,175,175)\", \"width\": 0.5}, \"path\": \"M -0.9697317753557013,0.2441726517558417 Q -0.1617562933087557, -0.11762185840655554 -0.06664222267463152, -0.9977769360718781L -0.06664222267463152, -0.9977769360718781 L -0.06684298868784112, -0.9977635064800061 L -0.0670437519947564, -0.9977500364913376 M -0.0670437519947564,-0.9977500364913376 Q -0.16174825988877906, -0.11763290535794818 -0.969863248500359, 0.24364991116011275L -0.969863248500359, 0.24364991116011275 L -0.969797547149007, 0.24391129031631442 L -0.9697317753557013, 0.2441726517558417 \", \"type\": \"path\"}, {\"fillcolor\": \"#c45e3a\", \"layer\": \"below\", \"line\": {\"color\": \"rgb(175,175,175)\", \"width\": 0.5}, \"path\": \"M -0.9768902826630351,0.21374137558866632 Q -0.1529249712958774, -0.12889512463299407 0.04526602664252103, -0.9989749680707714L 0.04526602664252103, -0.9989749680707714 L 0.040431593500385984, -0.999182308814072 L 0.03559621366324524, -0.9993662539694046 M 0.03559621366324524,-0.9993662539694046 Q -0.15302755291385195, -0.12877332040915246 -0.9785864975240777, 0.20583601935414117L -0.9785864975240777, 0.20583601935414117 L -0.9777463797565492, 0.20979041177556657 L -0.9768902826630351, 0.21374137558866632 \", \"type\": \"path\"}, {\"fillcolor\": \"#c45e3a\", \"layer\": \"below\", \"line\": {\"color\": \"rgb(175,175,175)\", \"width\": 0.5}, \"path\": \"M -0.9835353047491335,0.1807160875849987 Q -0.09651953409498776, -0.1751684319107941 0.6781734833932469, -0.7349018481554319L 0.6781734833932469, -0.7349018481554319 L 0.6742497189502737, -0.7385034302530198 L 0.6703068278490832, -0.7420840629867343 M 0.6703068278490832,-0.7420840629867343 Q -0.09664990824088016, -0.1750965311964502 -0.9851499536495365, 0.17169615261943422L -0.9851499536495365, 0.17169615261943422 L -0.9843529608152533, 0.17620796955371953 L -0.9835353047491335, 0.1807160875849987 \", \"type\": \"path\"}, {\"fillcolor\": \"#c45e3a\", \"layer\": \"below\", \"line\": {\"color\": \"rgb(175,175,175)\", \"width\": 0.5}, \"path\": \"M -0.9696659331252194,0.24443399545970995 Q -0.06641667198568643, -0.18865000843452337 0.9089295174194467, -0.4169497959750689L 0.9089295174194467, -0.4169497959750689 L 0.908871655556125, -0.41707590883035706 L 0.9088137761948, -0.41720201365591236 M 0.9088137761948,-0.41720201365591236 Q -0.06641742622763071, -0.18864974289221081 -0.9697317753557013, 0.2441726517558417L -0.9697317753557013, 0.2441726517558417 L -0.9696988630448087, 0.24430332582591946 L -0.9696659331252194, 0.24443399545970995 \", \"type\": \"path\"}, {\"fillcolor\": \"#c45e3a\", \"layer\": \"below\", \"line\": {\"color\": \"rgb(175,175,175)\", \"width\": 0.5}, \"path\": \"M -0.9751302067238102,0.22163275916429667 Q -0.04391743437119273, -0.19511857666109597 0.9760512687447253, -0.21754061869410096L 0.9760512687447253, -0.21754061869410096 L 0.9751831152659346, -0.2213998457547495 L 0.974299702781011, -0.22525560850028495 M 0.974299702781011,-0.22525560850028495 Q -0.04390046277014853, -0.19512239586620192 -0.9768902826630351, 0.21374137558866632L -0.9768902826630351, 0.21374137558866632 L -0.9760182202347449, 0.2176888462227701 L -0.9751302067238102, 0.22163275916429667 \", \"type\": \"path\"}, {\"fillcolor\": \"#c45e3a\", \"layer\": \"below\", \"line\": {\"color\": \"rgb(175,175,175)\", \"width\": 0.5}, \"path\": \"M -0.9712266963811027,0.2381568899625818 Q -0.03397724834164712, -0.19709273602832256 0.9949077892369793, -0.10078933929531574L 0.9949077892369793, -0.10078933929531574 L 0.9947478062215322, -0.10235625050503273 L 0.9945853554304509, -0.10392290778882055 M 0.9945853554304509,-0.10392290778882055 Q -0.03394240995551935, -0.197098738723543 -0.9720551477114849, 0.2347526140591476L -0.9720551477114849, 0.2347526140591476 L -0.9716424129630091, 0.2364551148345519 L -0.9712266963811027, 0.2381568899625818 \", \"type\": \"path\"}, {\"fillcolor\": \"#bf4d28\", \"layer\": \"below\", \"line\": {\"color\": \"rgb(175,175,175)\", \"width\": 0.5}, \"path\": \"M -0.9999993341344291,0.0011540063684340085 Q -0.19890303091051176, -0.020918515592938586 -0.9778800570175072, -0.20916642676929964L -0.9778800570175072, -0.20916642676929964 L -0.9805673334170867, -0.19618283471115383 L -0.9830822308673851, -0.18316475466859125 M -0.9830822308673851,-0.18316475466859125 Q -0.19890777415713834, -0.020873365321692795 -0.9996897682084797, -0.024907174453885243L -0.9996897682084797, -0.024907174453885243 L -0.9999294589088324, -0.011877592613385815 L -0.9999993341344291, 0.0011540063684340085 \", \"type\": \"path\"}, {\"fillcolor\": \"#bf4d28\", \"layer\": \"below\", \"line\": {\"color\": \"rgb(175,175,175)\", \"width\": 0.5}, \"path\": \"M -0.996111311097922,0.0881036656602826 Q -0.19910257107591406, -0.01892527915145753 -0.9616735947677623, -0.274196821875181L -0.9616735947677623, -0.274196821875181 L -0.9618707795997032, -0.273504302255484 L -0.9620674657350395, -0.2728116408333019 M -0.9620674657350395,-0.2728116408333019 Q -0.19910307934314958, -0.018919931185802194 -0.996232498069001, 0.08672260253934824L -0.996232498069001, 0.08672260253934824 L -0.9961721439165407, 0.08741315510106476 L -0.996111311097922, 0.0881036656602826 \", \"type\": \"path\"}, {\"fillcolor\": \"#bf4d28\", \"layer\": \"below\", \"line\": {\"color\": \"rgb(175,175,175)\", \"width\": 0.5}, \"path\": \"M -0.9963753949039221,0.0850651070066526 Q -0.19582855520813072, -0.0406346768794351 -0.8802708078738618, -0.4744716058997616L -0.8802708078738618, -0.4744716058997616 L -0.8809405606992705, -0.4732269313076496 L -0.8816085535959977, -0.47198131131049337 M -0.8816085535959977,-0.47198131131049337 Q -0.19583528555684787, -0.0406022281515172 -0.9965845693865094, 0.08257842369956984L -0.9965845693865094, 0.08257842369956984 L -0.9964807578245538, 0.0838218306015983 L -0.9963753949039221, 0.0850651070066526 \", \"type\": \"path\"}, {\"fillcolor\": \"#bf4d28\", \"layer\": \"below\", \"line\": {\"color\": \"rgb(175,175,175)\", \"width\": 0.5}, \"path\": \"M -0.9990865669511294,0.04273209259802881 Q -0.1783204789221119, -0.09056382719932196 -0.5548659663263175, -0.831939757081462L -0.5548659663263175, -0.831939757081462 L -0.5591064908797468, -0.8290958520316789 L -0.5633324396139446, -0.8262303325820236 M -0.5633324396139446,-0.8262303325820236 Q -0.1783810700874368, -0.09044442400978049 -0.999426387139822, 0.033865863175807906L -0.999426387139822, 0.033865863175807906 L -0.9992663105615925, 0.0382993547807639 L -0.9990865669511294, 0.04273209259802881 \", \"type\": \"path\"}, {\"fillcolor\": \"#bf4d28\", \"layer\": \"below\", \"line\": {\"color\": \"rgb(175,175,175)\", \"width\": 0.5}, \"path\": \"M -0.9958126514648006,0.09141752120159184 Q -0.1520779499570622, -0.1298934068259713 -0.06543757021837533, -0.9978566652600539L -0.06543757021837533, -0.9978566652600539 L -0.06573874234273167, -0.9978368693104078 L -0.06603990847851592, -0.9978169824612875 M -0.06603990847851592,-0.9978169824612875 Q -0.15206312955821386, -0.12991075640208502 -0.9958883500491996, 0.09058915076477317L -0.9958883500491996, 0.09058915076477317 L -0.9958505868890991, 0.09100334385415143 L -0.9958126514648006, 0.09141752120159184 \", \"type\": \"path\"}, {\"fillcolor\": \"#bf4d28\", \"layer\": \"below\", \"line\": {\"color\": \"rgb(175,175,175)\", \"width\": 0.5}, \"path\": \"M -0.998253850748576,0.05906986935519435 Q -0.14307329427245036, -0.13974989254389011 0.03559621366324524, -0.9993662539694046L 0.03559621366324524, -0.9993662539694046 L 0.031082438231190026, -0.9995168242874175 L 0.026568028815612287, -0.9996470076206164 M 0.026568028815612287,-0.9996470076206164 Q -0.14316193031728305, -0.13965909103180285 -0.998682360722506, 0.05131805122685783L -0.998682360722506, 0.05131805122685783 L -0.9984756285669637, 0.05519437614292605 L -0.998253850748576, 0.05906986935519435 \", \"type\": \"path\"}, {\"fillcolor\": \"#bf4d28\", \"layer\": \"below\", \"line\": {\"color\": \"rgb(175,175,175)\", \"width\": 0.5}, \"path\": \"M -0.9996897682084797,-0.024907174453885243 Q -0.060936615776508975, -0.1904907579325205 0.7996278574823908, -0.6004958697094603L 0.7996278574823908, -0.6004958697094603 L 0.7902193659164505, -0.6128240805733755 L 0.780620823039666, -0.6250049044902564 M 0.780620823039666,-0.6250049044902564 Q -0.061276220727969004, -0.19038178687389512 -0.9986295347545739, -0.052335956242942676L -0.9986295347545739, -0.052335956242942676 L -0.9992537684023484, -0.03862520334840976 L -0.9996897682084797, -0.024907174453885243 \", \"type\": \"path\"}, {\"fillcolor\": \"#bf4d28\", \"layer\": \"below\", \"line\": {\"color\": \"rgb(175,175,175)\", \"width\": 0.5}, \"path\": \"M -0.996232498069001,0.08672260253934824 Q -0.050312956906268386, -0.1935680923276044 0.9123691659289906, -0.40936842216032987L 0.9123691659289906, -0.40936842216032987 L 0.9120280427473505, -0.410127844997675 L 0.9116862874499541, -0.41088698358030246 M 0.9116862874499541,-0.41088698358030246 Q -0.050313091842871416, -0.19356805725431764 -0.9963753949039221, 0.0850651070066526L -0.9963753949039221, 0.0850651070066526 L -0.9963042911718077, 0.0858938844891861 L -0.996232498069001, 0.08672260253934824 \", \"type\": \"path\"}, {\"fillcolor\": \"#bf4d28\", \"layer\": \"below\", \"line\": {\"color\": \"rgb(175,175,175)\", \"width\": 0.5}, \"path\": \"M -0.9998367831633913,0.01806673831884227 Q -0.01785796554446043, -0.19920113721214763 0.98710750388468, -0.1600586635410791L 0.98710750388468, -0.1600586635410791 L 0.9857882044874043, -0.16799290429509062 L 0.9844051317626973, -0.17591627712996505 M 0.9844051317626973,-0.17591627712996505 Q -0.017775563126329993, -0.19920850723686945 -0.9999993341344291, 0.0011540063684340085L -0.9999993341344291, 0.0011540063684340085 L -0.9999538160023752, 0.009610716013279716 L -0.9998367831633913, 0.01806673831884227 \", \"type\": \"path\"}, {\"fillcolor\": \"#bf4d28\", \"layer\": \"below\", \"line\": {\"color\": \"rgb(175,175,175)\", \"width\": 0.5}, \"path\": \"M -0.998682360722506,0.05131805122685783 Q -0.012532208116587396, -0.1996069732241901 0.9972585425273058, -0.07399594148542082L 0.9972585425273058, -0.07399594148542082 L 0.996973587301499, -0.07774102020928482 L 0.9966745679546049, -0.08148500225502743 M 0.9966745679546049,-0.08148500225502743 Q -0.012424051027298834, -0.19961373438736896 -0.9990865669511294, 0.04273209259802881L -0.9990865669511294, 0.04273209259802881 L -0.9988936889208785, 0.047025506207156134 L -0.998682360722506, 0.05131805122685783 \", \"type\": \"path\"}, {\"fillcolor\": \"#af4624\", \"layer\": \"below\", \"line\": {\"color\": \"rgb(175,175,175)\", \"width\": 0.5}, \"path\": \"M -0.9960048845978501,-0.08929876738915961 Q -0.19655974017998495, -0.03693600601549682 -0.9604800188905875, -0.2783489416396918L -0.9604800188905875, -0.2783489416396918 L -0.9608000595881333, -0.277242214490217 L -0.9611188250435928, -0.27613511936518265 M -0.9611188250435928,-0.27613511936518265 Q -0.19656061395333835, -0.03693135581435772 -0.9958008162288805, -0.09154635109000997L -0.9958008162288805, -0.09154635109000997 L -0.9959034844650303, -0.09042261680802577 L -0.9960048845978501, -0.08929876738915961 \", \"type\": \"path\"}, {\"fillcolor\": \"#af4624\", \"layer\": \"below\", \"line\": {\"color\": \"rgb(175,175,175)\", \"width\": 0.5}, \"path\": \"M -0.9958008162288805,-0.09154635109000997 Q -0.19112707193353445, -0.0589104606510045 -0.8745451241396738, -0.48494414713812417L -0.8745451241396738, -0.48494414713812417 L -0.8756850873950189, -0.4828826231228228 L -0.876820191125739, -0.4808184193999048 M -0.876820191125739,-0.4808184193999048 Q -0.19114120134765256, -0.05886460012075289 -0.9954045185485749, -0.09575930478590501L -0.9954045185485749, -0.09575930478590501 L -0.9956048958076996, -0.09365303755746296 L -0.9958008162288805, -0.09154635109000997 \", \"type\": \"path\"}, {\"fillcolor\": \"#af4624\", \"layer\": \"below\", \"line\": {\"color\": \"rgb(175,175,175)\", \"width\": 0.5}, \"path\": \"M -0.9922724508320732,-0.12407813393064489 Q -0.17067291188851652, -0.10426292316780056 -0.5633324396139446, -0.8262303325820236L -0.5633324396139446, -0.8262303325820236 L -0.5675437023590847, -0.8233432734361426 L -0.5717401693282025, -0.8204347498592185 M -0.5717401693282025,-0.8204347498592185 Q -0.17073462756945254, -0.10416183057492961 -0.9911119422802095, -0.13303051480600483L -0.9911119422802095, -0.13303051480600483 L -0.9917022985710877, -0.12855563390540772 L -0.9922724508320732, -0.12407813393064489 \", \"type\": \"path\"}, {\"fillcolor\": \"#af4624\", \"layer\": \"below\", \"line\": {\"color\": \"rgb(175,175,175)\", \"width\": 0.5}, \"path\": \"M -0.9964928592495045,-0.08367784333231415 Q -0.14016512576897389, -0.14266652556983273 -0.06603990847851592, -0.9978169824612875L -0.06603990847851592, -0.9978169824612875 L -0.06634106859829378, -0.9977970047145043 L -0.06664222267463152, -0.9977769360718781 M -0.06664222267463152,-0.9977769360718781 Q -0.14014781451106134, -0.14268353124230262 -0.9964216849141452, -0.0845211561258841L -0.9964216849141452, -0.0845211561258841 L -0.996457361294937, -0.08409950725855227 L -0.9964928592495045, -0.08367784333231415 \", \"type\": \"path\"}, {\"fillcolor\": \"#af4624\", \"layer\": \"below\", \"line\": {\"color\": \"rgb(175,175,175)\", \"width\": 0.5}, \"path\": \"M -0.9931228387423974,-0.11707701383381064 Q -0.13088766154704753, -0.1512230804300241 0.026568028815612287, -0.9996470076206164L 0.026568028815612287, -0.9996470076206164 L 0.022536845421400456, -0.9997460130445391 L 0.018505295572636457, -0.9998287623567195 M 0.018505295572636457,-0.9998287623567195 Q -0.1309641796771438, -0.1511568180450118 -0.9922724508320732, -0.12407813393064489L -0.9922724508320732, -0.12407813393064489 L -0.992703816798735, -0.12057832356283446 L -0.9931228387423974, -0.11707701383381064 \", \"type\": \"path\"}, {\"fillcolor\": \"#af4624\", \"layer\": \"below\", \"line\": {\"color\": \"rgb(175,175,175)\", \"width\": 0.5}, \"path\": \"M -0.9778800570175072,-0.20916642676929964 Q -0.03627666754755493, -0.19668249386166572 0.8389157445965616, -0.5442613099127998L 0.8389157445965616, -0.5442613099127998 L 0.8290630135684983, -0.5591551837662958 L 0.8189458912056841, -0.573870740914126 M 0.8189458912056841,-0.573870740914126 Q -0.03662635197779413, -0.1966176755553751 -0.9706488177895476, -0.24050129422469566L -0.9706488177895476, -0.24050129422469566 L -0.974390405571003, -0.22486293054031026 L -0.9778800570175072, -0.20916642676929964 \", \"type\": \"path\"}, {\"fillcolor\": \"#af4624\", \"layer\": \"below\", \"line\": {\"color\": \"rgb(175,175,175)\", \"width\": 0.5}, \"path\": \"M -0.9963014750932557,-0.08592654262218843 Q -0.03357960961172767, -0.19716087293964787 0.9116862874499541, -0.41088698358030246L 0.9116862874499541, -0.41088698358030246 L 0.9113439002736673, -0.4116458373820631 L 0.9110008814557944, -0.4124044058770052 M 0.9110008814557944,-0.4124044058770052 Q -0.033576890393904844, -0.19716133604608108 -0.9961546068213388, -0.0876127805096023L -0.9961546068213388, -0.0876127805096023 L -0.9962283977277337, -0.0867696926399557 L -0.9963014750932557, -0.08592654262218843 \", \"type\": \"path\"}, {\"fillcolor\": \"#af4624\", \"layer\": \"below\", \"line\": {\"color\": \"rgb(175,175,175)\", \"width\": 0.5}, \"path\": \"M -0.9882488061856036,-0.15285384219158282 Q -0.0037619276542746106, -0.19996461662085122 0.9818002827616354, -0.18991630990826636L 0.9818002827616354, -0.18991630990826636 L 0.9806303187050928, -0.19586775650001262 L 0.9794242786982704, -0.20181199740444727 M 0.9794242786982704,-0.20181199740444727 Q -0.003677338310890824, -0.19996619009959474 -0.9861821052591629, -0.16566488845438923L -0.9861821052591629, -0.16566488845438923 L -0.9872362365430778, -0.15926271772219688 L -0.9882488061856036, -0.15285384219158282 \", \"type\": \"path\"}, {\"fillcolor\": \"#af4624\", \"layer\": \"below\", \"line\": {\"color\": \"rgb(175,175,175)\", \"width\": 0.5}, \"path\": \"M -0.9897501591397696,-0.14280974225451404 Q 0.007793969679511172, -0.1998480773903889 0.9978660858955862, -0.06529375635864847L 0.9978660858955862, -0.06529375635864847 L 0.9975718033010912, -0.06964551140317024 L 0.9972585425273058, -0.07399594148542082 M 0.9972585425273058,-0.07399594148542082 Q 0.007937092573940345, -0.19984244434422008 -0.9882488061856036, -0.15285384219158282L -0.9882488061856036, -0.15285384219158282 L -0.9890122333383689, -0.14783369814440755 L -0.9897501591397696, -0.14280974225451404 \", \"type\": \"path\"}, {\"fillcolor\": \"#9f4021\", \"layer\": \"below\", \"line\": {\"color\": \"rgb(175,175,175)\", \"width\": 0.5}, \"path\": \"M -0.9342180013697007,-0.35670257346534795 Q -0.17662767619349262, -0.09382251330297399 -0.8185951974674472, -0.5743708755527486L -0.8185951974674472, -0.5743708755527486 L -0.8266314892655952, -0.5627436192037579 L -0.8345026406950928, -0.5510039407054333 M -0.8345026406950928,-0.5510039407054333 Q -0.17673765363265392, -0.09361517926289548 -0.9246588763174934, -0.3807964842895354L -0.9246588763174934, -0.3807964842895354 L -0.9295165091243532, -0.36878050282692026 L -0.9342180013697007, -0.35670257346534795 \", \"type\": \"path\"}, {\"fillcolor\": \"#9f4021\", \"layer\": \"below\", \"line\": {\"color\": \"rgb(175,175,175)\", \"width\": 0.5}, \"path\": \"M -0.9403404440090325,-0.3402349913822733 Q -0.15378975095943526, -0.12786208390228468 -0.5061896342378488, -0.8624222018188962L -0.5061896342378488, -0.8624222018188962 L -0.5145595354735705, -0.8574546544588952 L -0.5228806915719411, -0.8524058788988076 M -0.5228806915719411,-0.8524058788988076 Q -0.1539109602331783, -0.1277161552823331 -0.9342180013697007, -0.35670257346534795L -0.9342180013697007, -0.35670257346534795 L -0.9373153880098731, -0.34848222824112696 L -0.9403404440090325, -0.3402349913822733 \", \"type\": \"path\"}, {\"fillcolor\": \"#9f4021\", \"layer\": \"below\", \"line\": {\"color\": \"rgb(175,175,175)\", \"width\": 0.5}, \"path\": \"M -0.9604800188905875,-0.2783489416396918 Q -0.12499364890662575, -0.15613003469226278 -0.06142138305267048, -0.9981119244372832L -0.06142138305267048, -0.9981119244372832 L -0.06222470214452211, -0.9980621656204716 L -0.06302798092736706, -0.9980117602614809 M -0.06302798092736706,-0.9980117602614809 Q -0.12493943086268895, -0.15617342480623064 -0.9598361134700528, -0.2805612861367438L -0.9598361134700528, -0.2805612861367438 L -0.9601587033757365, -0.2794552993446797 L -0.9604800188905875, -0.2783489416396918 \", \"type\": \"path\"}, {\"fillcolor\": \"#9f4021\", \"layer\": \"below\", \"line\": {\"color\": \"rgb(175,175,175)\", \"width\": 0.5}, \"path\": \"M -0.9117779657393217,-0.41068350489429734 Q -0.08270322721067949, -0.1820993580684422 0.2907090544530097, -0.956811499543686L 0.2907090544530097, -0.956811499543686 L 0.2730672890816155, -0.9619949353471761 L 0.25533319968923274, -0.9668531207667783 M 0.25533319968923274,-0.9668531207667783 Q -0.08306193284711703, -0.1819360198303267 -0.8978045395707422, -0.4403941515576331L -0.8978045395707422, -0.4403941515576331 L -0.9049131955675916, -0.42559618006703226 L -0.9117779657393217, -0.41068350489429734 \", \"type\": \"path\"}, {\"fillcolor\": \"#9f4021\", \"layer\": \"below\", \"line\": {\"color\": \"rgb(175,175,175)\", \"width\": 0.5}, \"path\": \"M -0.9551862865999471,-0.29600533422795555 Q -0.05383429541923699, -0.19261845352072143 0.6633024689885355, -0.7483514111924376L 0.6633024689885355, -0.7483514111924376 L 0.6604842835700768, -0.7508398705162921 L 0.6576567624712178, -0.7533177170197687 M 0.6576567624712178,-0.7533177170197687 Q -0.053892730573537356, -0.19260211211543896 -0.9531173650081531, -0.30260087329668256L -0.9531173650081531, -0.30260087329668256 L -0.9541575247143965, -0.2993048914249411 L -0.9551862865999471, -0.29600533422795555 \", \"type\": \"path\"}, {\"fillcolor\": \"#9f4021\", \"layer\": \"below\", \"line\": {\"color\": \"rgb(175,175,175)\", \"width\": 0.5}, \"path\": \"M -0.9626155329810246,-0.27087143751908926 Q -0.015369448747112675, -0.19940857565613843 0.9097377455923289, -0.41518337423912716L 0.9097377455923289, -0.41518337423912716 L 0.9095648427293723, -0.41556202529910274 L 0.9093917822642739, -0.4159406043538038 M 0.9093917822642739,-0.4159406043538038 Q -0.015366304542288923, -0.19940881797130647 -0.9623811260082075, -0.27170308850503483L -0.9623811260082075, -0.27170308850503483 L -0.962498419318581, -0.27128728832961 L -0.9626155329810246, -0.27087143751908926 \", \"type\": \"path\"}, {\"fillcolor\": \"#9f4021\", \"layer\": \"below\", \"line\": {\"color\": \"rgb(175,175,175)\", \"width\": 0.5}, \"path\": \"M -0.9623811260082075,-0.27170308850503483 Q 0.002448593764968821, -0.19998501040971586 0.9687450291072219, -0.24805859908507027L 0.9687450291072219, -0.24805859908507027 L 0.9686140625647788, -0.24856950295994665 L 0.9684828265781141, -0.2490803376890004 M 0.9684828265781141,-0.2490803376890004 Q 0.002458315691024136, -0.199984891139214 -0.9620674657350395, -0.2728116408333019L -0.9620674657350395, -0.2728116408333019 L -0.9622244555132174, -0.27225740983909374 L -0.9623811260082075, -0.27170308850503483 \", \"type\": \"path\"}, {\"fillcolor\": \"#9f4021\", \"layer\": \"below\", \"line\": {\"color\": \"rgb(175,175,175)\", \"width\": 0.5}, \"path\": \"M -0.9582864212229619,-0.2858096130288272 Q 0.01924691484029582, -0.19907173648996587 0.9952910774818963, -0.09693126990257601L 0.9952910774818963, -0.09693126990257601 L 0.9951013031079469, -0.09886049035315389 L 0.9949077892369793, -0.10078933929531574 M 0.9949077892369793,-0.10078933929531574 Q 0.01931969675299961, -0.19906468626396834 -0.956959157007469, -0.2902226245824991L -0.956959157007469, -0.2902226245824991 L -0.9576253311710942, -0.28801688335834097 L -0.9582864212229619, -0.2858096130288272 \", \"type\": \"path\"}, {\"fillcolor\": \"#8f391e\", \"layer\": \"below\", \"line\": {\"color\": \"rgb(175,175,175)\", \"width\": 0.5}, \"path\": \"M -0.7493917164859127,-0.6621269177901601 Q -0.10869116555436115, -0.16788755323261598 -0.29738641788124515, -0.9547572039318486L -0.29738641788124515, -0.9547572039318486 L -0.3373283658695672, -0.9413870477012988 L -0.37667185276071014, -0.9263467576117562 M -0.37667185276071014,-0.9263467576117562 Q -0.10880241951702219, -0.16781547457621993 -0.6919753370504782, -0.7219211403705235L -0.6919753370504782, -0.7219211403705235 L -0.721303391797475, -0.6926192438717381 L -0.7493917164859127, -0.6621269177901601 \", \"type\": \"path\"}, {\"fillcolor\": \"#8f391e\", \"layer\": \"below\", \"line\": {\"color\": \"rgb(175,175,175)\", \"width\": 0.5}, \"path\": \"M -0.871173258003215,-0.4909757168537603 Q -0.10454876813770947, -0.17049796210186052 -0.04253305413082709, -0.9990950601951268L -0.04253305413082709, -0.9990950601951268 L -0.044744306626493646, -0.9989984719830728 L -0.04695533992128387, -0.998896989710589 M -0.04695533992128387,-0.998896989710589 Q -0.1043369820889336, -0.1706276477261922 -0.8677597939408961, -0.4969838428154919L -0.8677597939408961, -0.4969838428154919 L -0.86947171557234, -0.49398272826050493 L -0.871173258003215, -0.4909757168537603 \", \"type\": \"path\"}, {\"fillcolor\": \"#8f391e\", \"layer\": \"below\", \"line\": {\"color\": \"rgb(175,175,175)\", \"width\": 0.5}, \"path\": \"M -0.7973189034391762,-0.6035582542046373 Q -0.04874245588749772, -0.1939695156308211 0.4172857127934861, -0.9087753484213974L 0.4172857127934861, -0.9087753484213974 L 0.38165314086545665, -0.9243056204889873 L 0.3454439408348354, -0.9384393873556772 M 0.3454439408348354,-0.9384393873556772 Q -0.048941024334483316, -0.1939195094287615 -0.7493917164859127, -0.6621269177901601L -0.7493917164859127, -0.6621269177901601 L -0.7739095603077997, -0.6332961333090454 L -0.7973189034391762, -0.6035582542046373 \", \"type\": \"path\"}, {\"fillcolor\": \"#8f391e\", \"layer\": \"below\", \"line\": {\"color\": \"rgb(175,175,175)\", \"width\": 0.5}, \"path\": \"M -0.8636722926605154,-0.5040537380979622 Q -0.030667350480339074, -0.19763479859203958 0.6703068278490832, -0.7420840629867343L 0.6703068278490832, -0.7420840629867343 L 0.666812011789166, -0.7452259663576445 L 0.6633024689885355, -0.7483514111924376 M 0.6633024689885355,-0.7483514111924376 Q -0.03066499288371327, -0.19763516441018744 -0.8588843895693686, -0.5121695084188954L -0.8588843895693686, -0.5121695084188954 L -0.8612879003595034, -0.5081172627399291 L -0.8636722926605154, -0.5040537380979622 \", \"type\": \"path\"}, {\"fillcolor\": \"#8f391e\", \"layer\": \"below\", \"line\": {\"color\": \"rgb(175,175,175)\", \"width\": 0.5}, \"path\": \"M -0.8677597939408961,-0.4969838428154919 Q 0.011217421277167357, -0.1996851758641351 0.9179612757973287, -0.3966700091216132L 0.9179612757973287, -0.3966700091216132 L 0.9165242854834348, -0.3999790420998073 L 0.9150753669355355, -0.4032828694945957 M 0.9150753669355355,-0.4032828694945957 Q 0.01131240204554289, -0.1996798176079896 -0.8636722926605154, -0.5040537380979622L -0.8636722926605154, -0.5040537380979622 L -0.8657232603338413, -0.5005229630266169 L -0.8677597939408961, -0.4969838428154919 \", \"type\": \"path\"}, {\"fillcolor\": \"#8f391e\", \"layer\": \"below\", \"line\": {\"color\": \"rgb(175,175,175)\", \"width\": 0.5}, \"path\": \"M -0.8832340077236659,-0.4689324979145626 Q 0.02350158354058574, -0.19861438913403248 0.9682854674700809, -0.2498464598233219L 0.9682854674700809, -0.2498464598233219 L 0.9682195464182223, -0.2501017991412534 L 0.9681535580327433, -0.25035712106616737 M 0.9681535580327433,-0.25035712106616737 Q 0.023511590504712437, -0.19861320477737304 -0.8829392542689041, -0.4694872450568509L -0.8829392542689041, -0.4694872450568509 L -0.8830866745571847, -0.4692098946308923 L -0.8832340077236659, -0.4689324979145626 \", \"type\": \"path\"}, {\"fillcolor\": \"#8f391e\", \"layer\": \"below\", \"line\": {\"color\": \"rgb(175,175,175)\", \"width\": 0.5}, \"path\": \"M -0.8835284126330987,-0.4683775657202605 Q 0.03757651069630469, -0.1964383003487113 0.994017216212397, -0.10922350421661425L 0.994017216212397, -0.10922350421661425 L 0.9939907203698529, -0.10946436780350471 L 0.9939641661628601, -0.10970522496294426 M 0.9939641661628601,-0.10970522496294426 Q 0.03759061074526806, -0.19643560263811075 -0.8832340077236659, -0.4689324979145626L -0.8832340077236659, -0.4689324979145626 L -0.8833812537538127, -0.46865505493522835 L -0.8835284126330987, -0.4683775657202605 \", \"type\": \"path\"}, {\"fillcolor\": \"#f0f3e7\", \"layer\": \"below\", \"line\": {\"color\": \"rgb(175,175,175)\", \"width\": 0.5}, \"path\": \"M -0.5800882787219828,-0.8145536132688672 Q -0.06377730157974416, -0.18955858145493273 -0.03026717024036506, -0.9995418442494746L -0.03026717024036506, -0.9995418442494746 L -0.033484967650841316, -0.9994392212342991 L -0.03670241799794448, -0.999326239279798 M -0.03670241799794448,-0.999326239279798 Q -0.06341959847391423, -0.18967855579745302 -0.5717401693282025, -0.8204347498592185L -0.5717401693282025, -0.8204347498592185 L -0.575921731120057, -0.8175048376760083 L -0.5800882787219828, -0.8145536132688672 \", \"type\": \"path\"}, {\"fillcolor\": \"#f0f3e7\", \"layer\": \"below\", \"line\": {\"color\": \"rgb(175,175,175)\", \"width\": 0.5}, \"path\": \"M -0.29738641788124515,-0.9547572039318486 Q 0.02251245649343305, -0.19872893423613808 0.5034237772139356, -0.8640396406043265L 0.5034237772139356, -0.8640396406043265 L 0.46089783264396555, -0.8874532031967066 L 0.4172857127934861, -0.9087753484213974 M 0.4172857127934861,-0.9087753484213974 Q 0.022408511451900707, -0.19874068183064594 -0.20444812029832088, -0.9788774009580992L -0.20444812029832088, -0.9788774009580992 L -0.2512069304450434, -0.967933405816939 L -0.29738641788124515, -0.9547572039318486 \", \"type\": \"path\"}, {\"fillcolor\": \"#f0f3e7\", \"layer\": \"below\", \"line\": {\"color\": \"rgb(175,175,175)\", \"width\": 0.5}, \"path\": \"M -0.4668853046653111,-0.8843178796606905 Q 0.04070297219876792, -0.19581437141891891 0.780620823039666, -0.6250049044902564L 0.780620823039666, -0.6250049044902564 L 0.7720306748650437, -0.6355852712794917 L 0.7632971337219836, -0.6460475877609979 M 0.7632971337219836,-0.6460475877609979 Q 0.04075251601134599, -0.19580406645099327 -0.4421570716048215, -0.8969376366447384L -0.4421570716048215, -0.8969376366447384 L -0.4545649843864976, -0.8907135762801099 L -0.4668853046653111, -0.8843178796606905 \", \"type\": \"path\"}, {\"fillcolor\": \"#f0f3e7\", \"layer\": \"below\", \"line\": {\"color\": \"rgb(175,175,175)\", \"width\": 0.5}, \"path\": \"M -0.5366837020072832,-0.8437835054086786 Q 0.06167168158990652, -0.1902540503901906 0.9296403723014875, -0.36846815084502443L 0.9296403723014875, -0.36846815084502443 L 0.9270096853184829, -0.3750373892370297 L 0.9243325779481437, -0.38158784747910773 M 0.9243325779481437,-0.38158784747910773 Q 0.06187351903560473, -0.190188505546867 -0.5228806915719411, -0.8524058788988076L -0.5228806915719411, -0.8524058788988076 L -0.5297997379825499, -0.8481227727361301 L -0.5366837020072832, -0.8437835054086786 \", \"type\": \"path\"}, {\"fillcolor\": \"#f0f3e7\", \"layer\": \"below\", \"line\": {\"color\": \"rgb(175,175,175)\", \"width\": 0.5}, \"path\": \"M -0.5924967521497798,-0.8055728388494503 Q 0.06750785714930027, -0.18826228837212639 0.9693958188836357, -0.24550304749824492L 0.9693958188836357, -0.24550304749824492 L 0.9690712664059639, -0.2467810378176196 L 0.9687450291072219, -0.24805859908507027 M 0.9687450291072219,-0.24805859908507027 Q 0.06756000823343243, -0.18824357967138894 -0.5899230211495131, -0.807459490697726L -0.5899230211495131, -0.807459490697726 L -0.5912106392277522, -0.8065171914249024 L -0.5924967521497798, -0.8055728388494503 \", \"type\": \"path\"}, {\"fillcolor\": \"#f0f3e7\", \"layer\": \"below\", \"line\": {\"color\": \"rgb(175,175,175)\", \"width\": 0.5}, \"path\": \"M -0.5865681935498718,-0.8098998421506453 Q 0.08359278780538143, -0.1816927236488145 0.9966745679546049, -0.08148500225502743L 0.9966745679546049, -0.08148500225502743 L 0.9964231817707946, -0.08450350779562917 L 0.9961626538320442, -0.0875212380528232 M 0.9961626538320442,-0.0875212380528232 Q 0.08376717496940608, -0.1816123905399764 -0.5800882787219828, -0.8145536132688672L -0.5800882787219828, -0.8145536132688672 L -0.5833328770692231, -0.8122331897491893 L -0.5865681935498718, -0.8098998421506453 \", \"type\": \"path\"}, {\"fillcolor\": \"#e2ecde\", \"layer\": \"below\", \"line\": {\"color\": \"rgb(175,175,175)\", \"width\": 0.5}, \"path\": \"M -0.03026717024036506,-0.9995418442494746 Q 0.004113676799124939, -0.19995768968257346 0.0713507830609156, -0.9974512849039767L 0.0713507830609156, -0.9974512849039767 L 0.06443106862711985, -0.9979221599882264 L 0.057508254790167995, -0.9983450308540576 M 0.057508254790167995,-0.9983450308540576 Q 0.0035918507146671004, -0.19996774391997213 -0.02161787820300375, -0.9997663063646425L -0.02161787820300375, -0.9997663063646425 L -0.025942766984324715, -0.9996634297808423 L -0.03026717024036506, -0.9995418442494746 \", \"type\": \"path\"}, {\"fillcolor\": \"#e2ecde\", \"layer\": \"below\", \"line\": {\"color\": \"rgb(175,175,175)\", \"width\": 0.5}, \"path\": \"M -0.06142138305267048,-0.9981119244372832 Q 0.06385966196602229, -0.1895308512448181 0.6529235899587936, -0.7574237820898688L 0.6529235899587936, -0.7574237820898688 L 0.6516174653898998, -0.7585477432560476 L 0.6503094060057867, -0.7596694521042694 M 0.6503094060057867,-0.7596694521042694 Q 0.06374280962218025, -0.18957018283862703 -0.05921205195533543, -0.9982454271887443L -0.05921205195533543, -0.9982454271887443 L -0.06031675444023752, -0.9981792870691096 L -0.06142138305267048, -0.9981119244372832 \", \"type\": \"path\"}, {\"fillcolor\": \"#e2ecde\", \"layer\": \"below\", \"line\": {\"color\": \"rgb(175,175,175)\", \"width\": 0.5}, \"path\": \"M -0.06423282238396275,-0.997934940027951 Q 0.1029496067154882, -0.17146830166863586 0.9110008814557944, -0.4124044058770052L 0.9110008814557944, -0.4124044058770052 L 0.9106572312340779, -0.41316268853937316 L 0.9103129498466982, -0.41392068484360955 M 0.9103129498466982,-0.41392068484360955 Q 0.10291035919378762, -0.17149185977942397 -0.06302798092736706, -0.9980117602614809L -0.06302798092736706, -0.9980117602614809 L -0.0636304132486841, -0.9979735319685596 L -0.06423282238396275, -0.997934940027951 \", \"type\": \"path\"}, {\"fillcolor\": \"#e2ecde\", \"layer\": \"below\", \"line\": {\"color\": \"rgb(175,175,175)\", \"width\": 0.5}, \"path\": \"M -0.06744527045718708,-0.997722975325795 Q 0.11703978551845154, -0.16217795351340103 0.9681535580327433, -0.25035712106616737L 0.9681535580327433, -0.25035712106616737 L 0.9680875023182329, -0.2506124255803077 L 0.9680213792792851, -0.25086771266591956 M 0.9680213792792851,-0.25086771266591956 Q 0.1170296496837497, -0.16218526781091688 -0.0670437519947564, -0.9977500364913376L -0.0670437519947564, -0.9977500364913376 L -0.0672445125872481, -0.9977365261064183 L -0.06744527045718708, -0.997722975325795 \", \"type\": \"path\"}, {\"fillcolor\": \"#e2ecde\", \"layer\": \"below\", \"line\": {\"color\": \"rgb(175,175,175)\", \"width\": 0.5}, \"path\": \"M -0.06784677799689785,-0.9976957525796327 Q 0.12830512826073268, -0.15342031828280417 0.9939641661628601, -0.10970522496294426L 0.9939641661628601, -0.10970522496294426 L 0.9939375535929781, -0.1099460756807895 L 0.9939108826617694, -0.11018691994289748 M 0.9939108826617694,-0.11018691994289748 Q 0.12829882229398082, -0.15342559173090237 -0.06744527045718708, -0.997722975325795L -0.06744527045718708, -0.997722975325795 L -0.06764602559644604, -0.9977093841500164 L -0.06784677799689785, -0.9976957525796327 \", \"type\": \"path\"}, {\"fillcolor\": \"#d4e5d6\", \"layer\": \"below\", \"line\": {\"color\": \"rgb(175,175,175)\", \"width\": 0.5}, \"path\": \"M 0.18739786549667856,-0.9822840933290576 Q 0.10860613348631046, -0.16794257283117262 0.8189458912056841, -0.573870740914126L 0.8189458912056841, -0.573870740914126 L 0.8093963610965791, -0.5872627441304412 L 0.7996278574823908, -0.6004958697094603 M 0.7996278574823908,-0.6004958697094603 Q 0.1086880469203858, -0.16788957220933054 0.22055610897306788, -0.9753742885655026L 0.22055610897306788, -0.9753742885655026 L 0.20400624419826816, -0.978969587029197 L 0.18739786549667856, -0.9822840933290576 \", \"type\": \"path\"}, {\"fillcolor\": \"#d4e5d6\", \"layer\": \"below\", \"line\": {\"color\": \"rgb(175,175,175)\", \"width\": 0.5}, \"path\": \"M 0.08550099769182731,-0.9963380848856989 Q 0.12289511734577468, -0.15778716719862954 0.9450791396559644, -0.3268415820961925L 0.9450791396559644, -0.3268415820961925 L 0.9425573767772885, -0.33404429568953375 L 0.9399807208922984, -0.3412275550872099 M 0.9399807208922984,-0.3412275550872099 Q 0.12309065657767647, -0.15763467341697548 0.10316420858684455, -0.9946643383909217L 0.10316420858684455, -0.9946643383909217 L 0.09433631523371877, -0.9955403857343631 L 0.08550099769182731, -0.9963380848856989 \", \"type\": \"path\"}, {\"fillcolor\": \"#d4e5d6\", \"layer\": \"below\", \"line\": {\"color\": \"rgb(175,175,175)\", \"width\": 0.5}, \"path\": \"M 0.009796207498556656,-0.9999520160080909 Q 0.12332226667620538, -0.15745354407520615 0.9684828265781141, -0.2490803376890004L 0.9684828265781141, -0.2490803376890004 L 0.9683842227873036, -0.24946341827336097 L 0.9682854674700809, -0.2498464598233219 M 0.9682854674700809,-0.2498464598233219 Q 0.12333617264397888, -0.1574426515196395 0.01076393273598969, -0.9999420671979228L 0.01076393273598969, -0.9999420671979228 L 0.010280071320801618, -0.9999471586707166 L 0.009796207498556656, -0.9999520160080909 \", \"type\": \"path\"}, {\"fillcolor\": \"#d4e5d6\", \"layer\": \"below\", \"line\": {\"color\": \"rgb(175,175,175)\", \"width\": 0.5}, \"path\": \"M 0.04526602664252103,-0.9989749680707714 Q 0.14127085218782903, -0.14157170028690255 0.9988764125031421, -0.04739105975659173L 0.9988764125031421, -0.04739105975659173 L 0.9986476376289353, -0.05198938216738798 L 0.9983976945136912, -0.05658660256408872 M 0.9983976945136912,-0.05658660256408872 Q 0.14148661813155605, -0.14135606421266558 0.057508254790167995, -0.9983450308540576L 0.057508254790167995, -0.9983450308540576 L 0.05138810598013554, -0.9986787584422603 L 0.04526602664252103, -0.9989749680707714 \", \"type\": \"path\"}, {\"fillcolor\": \"#c6decd\", \"layer\": \"below\", \"line\": {\"color\": \"rgb(175,175,175)\", \"width\": 0.5}, \"path\": \"M 0.7075346330422727,-0.7066786702920476 Q 0.16794710138614194, -0.10859913045689162 0.934761960505722, -0.3552746503643328L 0.934761960505722, -0.3552746503643328 L 0.9322245071644357, -0.36188046126037937 L 0.9296403723014875, -0.36846815084502443 M 0.9296403723014875,-0.36846815084502443 Q 0.16804615461283684, -0.10844579254096741 0.7187353685337162, -0.6952837334633273L 0.7187353685337162, -0.6952837334633273 L 0.7131577598927364, -0.701003573104142 L 0.7075346330422727, -0.7066786702920476 \", \"type\": \"path\"}, {\"fillcolor\": \"#c6decd\", \"layer\": \"below\", \"line\": {\"color\": \"rgb(175,175,175)\", \"width\": 0.5}, \"path\": \"M 0.7329576437557285,-0.6802742773764495 Q 0.18049238777822452, -0.0861539201320232 0.9898563754696421, -0.14207165777206554L 0.9898563754696421, -0.14207165777206554 L 0.9885228516134851, -0.15107141304013694 L 0.98710750388468, -0.1600586635410791 M 0.98710750388468,-0.1600586635410791 Q 0.18063951675631149, -0.08584500559756675 0.7474912174493485, -0.6642716912800746L 0.7474912174493485, -0.6642716912800746 L 0.7402676734474463, -0.6723122575475663 L 0.7329576437557285, -0.6802742773764495 \", \"type\": \"path\"}, {\"fillcolor\": \"#c6decd\", \"layer\": \"below\", \"line\": {\"color\": \"rgb(175,175,175)\", \"width\": 0.5}, \"path\": \"M 0.7187353685337162,-0.6952837334633273 Q 0.18420322071959394, -0.07790490020870681 0.9995065603657315, -0.03141075907812925L 0.9995065603657315, -0.03141075907812925 L 0.9992234330046023, -0.03940216915979618 L 0.9988764125031421, -0.04739105975659173 M 0.9988764125031421,-0.04739105975659173 Q 0.18438520454643095, -0.07747319758710633 0.7329576437557285, -0.6802742773764495L 0.7329576437557285, -0.6802742773764495 L 0.7258853018387312, -0.6878157664480322 L 0.7187353685337162, -0.6952837334633273 \", \"type\": \"path\"}, {\"fillcolor\": \"#b8d7c5\", \"layer\": \"below\", \"line\": {\"color\": \"rgb(175,175,175)\", \"width\": 0.5}, \"path\": \"M 0.9089295174194467,-0.4169497959750689 Q 0.19274088954585564, -0.05339428337446143 0.9939108826617694, -0.11018691994289748L 0.9939108826617694, -0.11018691994289748 L 0.9938841533708, -0.11042775773512731 L 0.9938573657216395, -0.11066858904333858 M 0.9938573657216395,-0.11066858904333858 Q 0.19274276836361923, -0.05338750081740326 0.9091607898704199, -0.41644526430515955L 0.9091607898704199, -0.41644526430515955 L 0.9090451886476227, -0.4166975461850094 L 0.9089295174194467, -0.4169497959750689 \", \"type\": \"path\"}, {\"fillcolor\": \"#aad0bc\", \"layer\": \"below\", \"line\": {\"color\": \"rgb(175,175,175)\", \"width\": 0.5}, \"path\": \"M 0.9702955977812271,-0.2419224109634559 Q 0.19717039830021776, -0.03352363396372001 0.9957268002771806, -0.09234792477239338L 0.9957268002771806, -0.09234792477239338 L 0.9955115766038134, -0.09463984809682349 L 0.9952910774818963, -0.09693126990257601 M 0.9952910774818963,-0.09693126990257601 Q 0.19717720798098176, -0.033483557947516056 0.9714955696504788, -0.2370577105885646L 0.9714955696504788, -0.2370577105885646 L 0.9708986305512957, -0.23949081233654584 L 0.9702955977812271, -0.2419224109634559 \", \"type\": \"path\"}, {\"fillcolor\": \"#f2e6ce\", \"layer\": \"below\", \"line\": {\"color\": \"rgb(150,150,150)\", \"width\": 0.45}, \"path\": \"M 1.1, 0.0 L 1.0997136679564712, 0.025096782856060512 L 1.0988548208914104, 0.050180500233718894 L 1.0974239059237911, 0.07523809345650961 L 1.0954216679932613, 0.10025651744829919 L 1.0928491494723278, 0.1252227475246014 L 1.0897076896236901, 0.15012378617327635 L 1.0859989239030179, 0.17494666982108348 L 1.0817247831075252, 0.19967847558256618 L 1.076887492370791, 0.22430632798775385 L 1.0714895700043454, 0.24881740568517938 L 1.0655338261866287, 0.2731989481167224 L 0.9686671147151169, 0.24836268010611126 L 0.9740814272766776, 0.22619764153198124 L 0.9789886294279917, 0.20391484362523077 L 0.9833861664613865, 0.18152588689324198 L 0.9872717490027435, 0.15904242711007588 L 0.9906433542033546, 0.13647616924843303 L 0.9934992267930252, 0.11383886138600127 L 0.995837879993874, 0.0911422885893629 L 0.9976580962943554, 0.06839826677864509 L 0.9989589280831004, 0.04561863657610808 L 0.9997396981422465, 0.022815257141873192 L 1.0, 0.0 L 1.1 ,0.0\", \"type\": \"path\"}, {\"fillcolor\": \"#ecd5bb\", \"layer\": \"below\", \"line\": {\"color\": \"rgb(150,150,150)\", \"width\": 0.45}, \"path\": \"M 1.056426663225442, 0.3065333672316256 L 1.049872204819657, 0.32828090646139074 L 1.0428701048640432, 0.34988847420408065 L 1.0354233488942326, 0.37134685748589913 L 1.0275351120370337, 0.3926469069418997 L 1.0192087576566315, 0.4137795407170659 L 1.0104478359205245, 0.43473574833860723 L 1.001256082285815, 0.455506594557819 L 0.991637415906495, 0.4760832231598684 L 0.9815959379624087, 0.49645686073988265 L 0.9711359299106028, 0.5166188204437282 L 0.9602618516598107, 0.5365605056718876 L 0.9489783396688501, 0.5562734137448532 L 0.9372902049697418, 0.5757491395284752 L 0.9252024311163957, 0.5949793790177198 L 0.9127201720597372, 0.6139559328773067 L 0.8998487499501804, 0.6326707099377196 L 0.8865936528683842, 0.6511157306450946 L 0.8729605324852601, 0.6692831304635217 L 0.8589552016522288, 0.6871651632283022 L 0.8445836319227529, 0.7047542044487369 L 0.8298519510062027, 0.7220427545590351 L 0.8147664401551412, 0.7390234421159582 L 0.7993335314871404, 0.7556890269418347 L 0.7835598052422742, 0.7720324032116072 L 0.7674519869774536, 0.7880466024825934 L 0.7510169446988031, 0.8037247966656716 L 0.734261685933299, 0.819060300936622 L 0.7171933547409203, 0.8340465765863826 L 0.6998192286685845, 0.8486772338090067 L 0.6821467156471678, 0.8629460344261293 L 0.6641833508329319, 0.8768468945467839 L 0.6459367933947057, 0.8903738871614361 L 0.6274148232481906, 0.9035212446691234 L 0.6086253377387818, 0.9162833613366304 L 0.5895763482743206, 0.9286547956886441 L 0.5702759769092125, 0.9406302728278756 L 0.5507324528813691, 0.9522046866841555 L 0.5309541091034484, 0.9633731021915464 L 0.5109493786098915, 0.9741307573925412 L 0.4907267909612685, 0.9844730654684544 L 0.47029496860746905, 0.9943956166951361 L 0.4496626232112863, 1.0038941803231778 L 0.4288385519339627, 1.012964706381808 L 0.40783163368428127, 1.0216033274057061 L 0.38665082533280115, 1.0298063600840033 L 0.365305157892853, 1.0375703068307602 L 0.34380373266992076, 1.0448918572762589 L 0.31254884788174614, 0.9499016884329626 L 0.3320955980844118, 0.9432457334825092 L 0.35150075030254646, 0.9361876000763666 L 0.37075603062207385, 0.928730297641551 L 0.38985322903087516, 0.9208770058016434 L 0.40878420291935114, 0.9126310730210706 L 0.42754088055224454, 0.9039960151773964 L 0.446115264510244, 0.8949755140622312 L 0.4644994350999013, 0.885573415811401 L 0.4826855537304076, 0.8757937292650421 L 0.50066586625579, 0.8656406242583231 L 0.5184327062811023, 0.8551184298435232 L 0.5359784984312005, 0.8442316324442218 L 0.5532957615807107, 0.8329848739423912 L 0.5703771120438096, 0.821382949699203 L 0.5872152667224596, 0.8094308065103963 L 0.6038030462117562, 0.7971335404970762 L 0.6201333778610616, 0.7844963949328447 L 0.6361992987896222, 0.7715247580081879 L 0.651993958855382, 0.7582241605330751 L 0.6675106235757263, 0.7446002735787471 L 0.6827426769989119, 0.7306589060597014 L 0.6976836245249578, 0.716406002256903 L 0.7123270956747947, 0.7018476392832792 L 0.7266668468064912, 0.686990024492577 L 0.740696763777401, 0.6718394928326892 L 0.7544108645510933, 0.6564025041445773 L 0.7678033017479571, 0.6406856404079426 L 0.7808683651383898, 0.6246956029348202 L 0.793600484077509, 0.6084392095122925 L 0.8059942298803492, 0.5919233914955405 L 0.8180443181365276, 0.5751551908524722 L 0.8297456109633974, 0.5581417571611879 L 0.8410931191967232, 0.5408903445615634 L 0.852082004517947, 0.5234083086622501 L 0.8627075815171364, 0.5057031034044119 L 0.872965319690737, 0.4877822778835342 L 0.8828508453732752, 0.46965347313066197 L 0.8923599436021897, 0.45132441885443875 L 0.9014885599149954, 0.4328029301453349 L 0.9102328020780136, 0.4140969041434718 L 0.9185889417459313, 0.39521431667146106 L 0.9265534160514831, 0.37616321883369624 L 0.934122829124576, 0.35695173358354515 L 0.9412939535402113, 0.3375880522599083 L 0.9480637316945847, 0.31808043109461875 L 0.954429277108779, 0.29843718769217337 L 0.9603878756594927, 0.278666697483296 L 1.056426663225442 ,0.3065333672316256\", \"type\": \"path\"}, {\"fillcolor\": \"#e6c4a9\", \"layer\": \"below\", \"line\": {\"color\": \"rgb(150,150,150)\", \"width\": 0.45}, \"path\": \"M 0.31081323989020937, 1.0551754024374105 L 0.2881950173572104, 1.0615760132795378 L 0.26544518930488187, 1.0674918507768083 L 0.24257414454203471, 1.0729202134360691 L 0.21959232723162206, 1.0778586223716913 L 0.19651023212136717, 1.0823048224375638 L 0.17333839975129042, 1.0862567832569157 L 0.15008741164032646, 1.089712700149497 L 0.1267678854542255, 1.0926709949556932 L 0.10339047015695084, 1.0951303167571997 L 0.0799658411477822, 1.0970895424939242 L 0.05650469538634872, 1.098547777476836 L 0.03301774650781396, 1.0995043557965316 L 0.009515719930448164, 1.0999588406273235 L -0.013990652042180373, 1.0999110244267192 L -0.03749063512216027, 1.0993609290301967 L -0.06097349793909577, 1.098308805641233 L -0.08442851694063434, 1.0967551347165898 L -0.10784498128942423, 1.0947006257469134 L -0.13121219775426424, 1.0921462169327403 L -0.1545194955932163, 1.0890930747560643 L -0.1777562314264457, 1.0855425934476584 L -0.20091179409656668, 1.0814963943503921 L -0.2239756095142752, 1.076956325178839 L -0.20361419046752288, 0.9790512047080353 L -0.18264708554233333, 0.9831785403185382 L -0.16159657402404154, 0.9868569031342348 L -0.14047226872110571, 0.9900846134146039 L -0.11928381614024021, 0.9928601972115819 L -0.09804089208129474, 0.9951823870426485 L -0.07675319721875849, 0.9970501224696271 L -0.05543045267190524, 0.9984625505829389 L -0.03408239556560024, 0.9994190263910878 L -0.012718774583800338, 0.9999191131151992 L 0.008650654482225602, 0.9999625823884758 L 0.030016133188921778, 0.9995494143604832 L 0.051367904896680645, 0.9986797977062145 L 0.07269621922525654, 0.997354129539931 L 0.09399133650631894, 0.9955730152338179 L 0.11524353223111408, 0.9933372681415392 L 0.13644310149120586, 0.9906479092268153 L 0.15758036341026402, 0.987506166597196 L 0.17864566556487924, 0.9839134749432398 L 0.19962938839238367, 0.9798714748833557 L 0.22052194958366791, 0.9753820122146083 L 0.2413138084589835, 0.9704471370698257 L 0.26199547032473675, 0.9650691029813979 L 0.2825574908092812, 0.9592503658521914 L 0.31081323989020937 ,1.0551754024374105\", \"type\": \"path\"}, {\"fillcolor\": \"#e1b396\", \"layer\": \"below\", \"line\": {\"color\": \"rgb(150,150,150)\", \"width\": 0.45}, \"path\": \"M -0.25769310673929036, 1.0693896683337898 L -0.2806110988263204, 1.0636058533194923 L -0.3033995258401496, 1.0573309452200728 L -0.3260478658013324, 1.0505678413155415 L -0.3485456614120734, 1.043319664297966 L -0.3708825248846219, 1.0355897608296483 L -0.393048142737569, 1.0273816999978869 L -0.4150322805578367, 1.0186992716670418 L -0.4368247877261592, 1.0095464847286608 L -0.45841560210387444, 0.9999275652504748 L -0.4797947546788621, 0.9898469545251178 L -0.5009523741684826, 0.9793093070194733 L -0.5218786915773921, 0.9683194882255906 L -0.5425640447081277, 0.9568825724141687 L -0.5629988826223851, 0.9450038402916392 L -0.5831737700509203, 0.9326887765619336 L -0.6030793917500479, 0.9199430673940603 L -0.6227065568027177, 0.9067725977966603 L -0.6420462028621897, 0.8931834489007531 L -0.5836783662383542, 0.8119849535461391 L -0.5660968698206524, 0.8243387252696911 L -0.5482539925000435, 0.8363118794491456 L -0.5301579727735639, 0.8478988877835759 L -0.51181716602035, 0.8590944002651265 L -0.49324004064375243, 0.8698932476492443 L -0.47443517416126546, 0.8802904438414458 L -0.455411249244075, 0.8902811881995211 L -0.43617704970805643, 0.8998608677501071 L -0.41674145645806765, 0.9090250593186133 L -0.3971134433874174, 0.9177695315715098 L -0.37730207323439696, 0.9260902469700378 L -0.35731649339779, 0.9339833636344425 L -0.3371659317132926, 0.941445237117862 L -0.316859692192794, 0.9484724220890599 L -0.29640715072848395, 0.9550616739232194 L -0.27581775076377235, 0.961209950200066 L -0.2551009989330185, 0.9669144121086293 L -0.23426646067208212, 0.9721724257579907 L -0.25769310673929036 ,1.0693896683337898\", \"type\": \"path\"}, {\"fillcolor\": \"#dba284\", \"layer\": \"below\", \"line\": {\"color\": \"rgb(150,150,150)\", \"width\": 0.45}, \"path\": \"M -0.6697849619446591, 0.8725755581912616 L -0.6847176314806419, 0.8609075241508464 L -0.6994470770285418, 0.8489839730149382 L -0.7139689268933284, 0.8368084436899459 L -0.7282788709943088, 0.8243845498693283 L -0.662071700903917, 0.7494404998812075 L -0.6490626608121166, 0.7607349488090417 L -0.6358609791168561, 0.7718036118317619 L -0.6224705740733107, 0.7826432037734966 L -0.60889541994969, 0.7932505074466014 L -0.6697849619446591 ,0.8725755581912616\", \"type\": \"path\"}, {\"fillcolor\": \"#d59171\", \"layer\": \"below\", \"line\": {\"color\": \"rgb(150,150,150)\", \"width\": 0.45}, \"path\": \"M -0.7538140538182364, 0.8011019737000509 L -0.7814872632254792, 0.7741302586880006 L -0.8081960269753633, 0.7462031774129873 L -0.8339073833647057, 0.717355195122911 L -0.8585896016063511, 0.6876219135640222 L -0.7805360014603191, 0.6251108305127474 L -0.7580976212406415, 0.6521410864753736 L -0.7347236608866938, 0.6783665249208974 L -0.7104429665686174, 0.703754780625455 L -0.6852855034711239, 0.7282745215455008 L -0.7538140538182364 ,0.8011019737000509\", \"type\": \"path\"}, {\"fillcolor\": \"#d0805f\", \"layer\": \"below\", \"line\": {\"color\": \"rgb(150,150,150)\", \"width\": 0.45}, \"path\": \"M -0.8797646657311486, 0.6603136625354351 L -0.8947531982593289, 0.6398567919501225 L -0.9092661512263128, 0.6190598244387115 L -0.9232958107018037, 0.5979338140133066 L -0.9368347196358465, 0.5764899895790255 L -0.9498756818224007, 0.5547397489656115 L -0.9624117657242715, 0.5326946528692496 L -0.9744363081573615, 0.5103664187078258 L -0.9859429178322909, 0.4877669143928776 L -0.9969254787514968, 0.46490815202155694 L -1.0073781534600104, 0.4418022814919589 L -1.0172953861481842, 0.41846158404519895 L -1.026671905604717, 0.39489846573768694 L -0.9333380960042882, 0.358998605216079 L -0.92481398740744, 0.38041962185927175 L -0.915798321327282, 0.4016384377199626 L -0.9062958897740879, 0.42264377456505176 L -0.8963117434839007, 0.4434244676298887 L -0.8858511892339649, 0.46396947155256896 L -0.8749197870220649, 0.48426786624477225 L -0.8635233471112733, 0.5043088626960104 L -0.8516679269416786, 0.524081808708205 L -0.8393598279107305, 0.5435761945575514 L -0.8266055920239207, 0.5627816585806468 L -0.8134119984175716, 0.5816879926819295 L -0.7997860597555896, 0.6002851477594864 L -0.8797646657311486 ,0.6603136625354351\", \"type\": \"path\"}, {\"fillcolor\": \"#ca6f4c\", \"layer\": \"below\", \"line\": {\"color\": \"rgb(150,150,150)\", \"width\": 0.45}, \"path\": \"M -1.0385693655627106, 0.3624550633039477 L -1.0436658290912944, 0.3475077512620139 L -1.0485471800874104, 0.3324888135422603 L -1.0532124124437927, 0.31740134573490153 L -1.0576605645979191, 0.3022484575550573 L -0.9615096041799264, 0.2747713250500521 L -0.9574658294943569, 0.28854667794081956 L -0.953224709170373, 0.30226255776569116 L -0.948787117355722, 0.3159161375109217 L -0.9441539686933733, 0.3295046030035888 L -1.0385693655627106 ,0.3624550633039477\", \"type\": \"path\"}, {\"fillcolor\": \"#c45e3a\", \"layer\": \"below\", \"line\": {\"color\": \"rgb(150,150,150)\", \"width\": 0.45}, \"path\": \"M -1.0666325264377414, 0.268877395005681 L -1.074452422786308, 0.23569469906774096 L -1.081240274648946, 0.20228561114689247 L -1.086989562085882, 0.16868222169613079 L -1.091694762730307, 0.13491680780102494 L -0.9924497843002791, 0.12265164345547722 L -0.9881723291689836, 0.1533474742692098 L -0.9829457042263146, 0.1838960101335386 L -0.9767749298057344, 0.21426790824340086 L -0.9696659331252194, 0.24443399545970995 L -1.0666325264377414 ,0.268877395005681\", \"type\": \"path\"}, {\"fillcolor\": \"#bf4d28\", \"layer\": \"below\", \"line\": {\"color\": \"rgb(150,150,150)\", \"width\": 0.45}, \"path\": \"M -1.0953939166112807, 0.10055927332175103 L -1.098302082501939, 0.061094480699194716 L -1.0997888755010194, 0.021550622362319583 L -1.0998523714682535, -0.018021125815529577 L -1.0984924882300313, -0.057569551867236946 L -0.9986295347545739, -0.052335956242942676 L -0.9998657922438667, -0.01638284165048143 L -0.9998080686372903, 0.019591474874835983 L -0.9984564386381263, 0.05554043699926792 L -0.9958126514648006, 0.09141752120159184 L -1.0953939166112807 ,0.10055927332175103\", \"type\": \"path\"}, {\"fillcolor\": \"#af4624\", \"layer\": \"below\", \"line\": {\"color\": \"rgb(150,150,150)\", \"width\": 0.45}, \"path\": \"M -1.096142145174455, -0.09204562766554557 L -1.0916148145699758, -0.1355621503641699 L -1.0853605813824627, -0.17886421772149588 L -1.0773893396251728, -0.2218833271384629 L -1.0677136995685026, -0.2645514236471648 L -0.9706488177895477, -0.2405012942246952 L -0.9794448542047025, -0.2017121155804208 L -0.9866914376204206, -0.16260383429226896 L -0.9923771041545233, -0.12323831851288172 L -0.9964928592495045, -0.08367784333231415 L -1.096142145174455 ,-0.09204562766554557\", \"type\": \"path\"}, {\"fillcolor\": \"#9f4021\", \"layer\": \"below\", \"line\": {\"color\": \"rgb(150,150,150)\", \"width\": 0.45}, \"path\": \"M -1.0588770862791272, -0.2979585812709982 L -1.0442512905482206, -0.3457444752825064 L -1.0274701898696994, -0.39281676253582165 L -1.0085684199578269, -0.43907828716958053 L -0.9875849935278168, -0.48443356671339605 L -0.8978045395707425, -0.44039415155763273 L -0.9168803817798425, -0.3991620792450732 L -0.9340638089724539, -0.35710614775983784 L -0.9493193550438369, -0.3143131593477331 L -0.9626155329810246, -0.27087143751908926 L -1.0588770862791272 ,-0.2979585812709982\", \"type\": \"path\"}, {\"fillcolor\": \"#8f391e\", \"layer\": \"below\", \"line\": {\"color\": \"rgb(150,150,150)\", \"width\": 0.45}, \"path\": \"M -0.9718812538964087, -0.5152153222922866 L -0.9603637258285753, -0.5363781447007859 L -0.9483854465917689, -0.5572836303830674 L -0.9359521629733905, -0.5779217495694656 L -0.9230698400570931, -0.5982826007640308 L -0.9097446583609272, -0.6183564154949476 L -0.8959830108721311, -0.6381335630011249 L -0.8817914999799837, -0.657604554852725 L -0.8671769343081946, -0.6767600495033976 L -0.852146325448347, -0.695590856772054 L -0.8367068845959669, -0.7140879422520111 L -0.8208660190908247, -0.7322424316454094 L -0.804631328863138, -0.750045615020807 L -0.7880106027873702, -0.7674889509919252 L -0.7710118149453855, -0.7845640708155216 L -0.7536431208007421, -0.8012627824064451 L -0.7359128532859699, -0.8175770742679265 L -0.7178295188046987, -0.8334991193352366 L -0.6994017931505644, -0.8490212787308545 L -0.6806385173448474, -0.8641361054293519 L -0.6187622884953158, -0.7855782776630471 L -0.6358198119550584, -0.7718375261189586 L -0.6525722898224533, -0.7577264721229423 L -0.6690116848054272, -0.743251885698115 L -0.6851301098188565, -0.7284207112785864 L -0.7009198317685322, -0.7132400643777469 L -0.7163732752612456, -0.6977172281744773 L -0.7314830262392163, -0.6818596500189155 L -0.7462418355371133, -0.665674937859463 L -0.7606426223599698, -0.6491708565927373 L -0.7746784776803154, -0.6323553243382308 L -0.7883426675529042, -0.6152364086394524 L -0.8016286363454397, -0.5978223225933863 L -0.8145300098837555, -0.5801214209101135 L -0.8270405985099337, -0.5621421959044978 L -0.8391544000519028, -0.5438932734218461 L -0.8508656027030822, -0.5253834086995142 L -0.8621685878106989, -0.5066214821664249 L -0.873057932571432, -0.48761649518253264 L -0.8835284126330987, -0.4683775657202605 L -0.9718812538964087 ,-0.5152153222922866\", \"type\": \"path\"}, {\"fillcolor\": \"#f0f3e7\", \"layer\": \"below\", \"line\": {\"color\": \"rgb(150,150,150)\", \"width\": 0.45}, \"path\": \"M -0.6531594923054266, -0.885089078913144 L -0.6340188670986722, -0.8988993693194565 L -0.6145863376906574, -0.9122958037413005 L -0.5948708508766114, -0.9252722144198087 L -0.5748814837262075, -0.9378226269763138 L -0.5546274394044526, -0.9499412631629708 L -0.5341180429345244, -0.961622543523078 L -0.513362736904499, -0.9728610899598783 L -0.4923710771199573, -0.9836517282126501 L -0.4711527282044627, -0.9939894902389521 L -0.4497174591499389, -1.0038696165019256 L -0.42807513881899684, -1.0132875581615994 L -0.4062357314012806, -1.0222389791691895 L -0.38420929182592317, -1.0307197582634295 L -0.36200596113223055, -1.0387259908680104 L -0.3396359618007112, -1.046253990889261 L -0.3171095930466187, -1.0533002924132358 L -0.29443722607816086, -1.059861651301432 L -0.2716292993215647, -1.0659350466844009 L -0.2486963136151928, -1.0715176823525656 L -0.22564882737492592, -1.076606988043604 L -0.20249745173303568, -1.0812006206258056 L -0.1792528456527907, -1.0852964651768553 L -0.15592571102103217, -1.088892635957552 L -0.13252678772099655, -1.0919874772800071 L -0.10906684868764008, -1.094579564269929 L -0.09915168062512733, -0.9950723311544808 L -0.12047889792817867, -0.99271588843637 L -0.1417506463827565, -0.9899023963250472 L -0.1629571324116279, -0.9866331501607775 L -0.18408859248457787, -0.9829096551143686 L -0.205135297613569, -0.9787336254941854 L -0.2260875578319934, -0.9741069839568778 L -0.2469357266559679, -0.9690318606221826 L -0.2676702055256008, -0.9635105920922108 L -0.28828144822419877, -0.9575457203756689 L -0.3087599652733738, -0.95113999171751 L -0.32909632830202773, -0.9442963553345549 L -0.34928117438720285, -0.9370179620576632 L -0.3693052103648005, -0.9293081628810813 L -0.3891592171081789, -0.9211705074196358 L -0.4088340537726717, -0.9126087422744777 L -0.42832066200405694, -0.9036268093081382 L -0.44761007010905207, -0.8942288438296818 L -0.46669339718590813, -0.8844191726907984 L -0.4855618572132039, -0.8742023122937072 L -0.5042067630949568, -0.8635829665117916 L -0.5226195306601886, -0.8525660245239216 L -0.5407916826151012, -0.8411565585634624 L -0.5587148524460521, -0.8293598215830004 L -0.5763807882715201, -0.8171812448358694 L -0.5937813566412968, -0.8046264353755854 L -0.6531594923054266 ,-0.885089078913144\", \"type\": \"path\"}, {\"fillcolor\": \"#e2ecde\", \"layer\": \"below\", \"line\": {\"color\": \"rgb(150,150,150)\", \"width\": 0.45}, \"path\": \"M -0.07463145579658764, -1.097465327837596 L -0.06192924146064776, -1.0982553296260888 L -0.04921873728914692, -1.09889831918138 L -0.036501644707565006, -1.0993942104330197 L -0.023779666023308034, -1.0997429370011067 L -0.021617878203007302, -0.9997663063646424 L -0.03318331337051364, -0.999449282211836 L -0.0447443066264972, -0.9989984719830727 L -0.05629931041877068, -0.998413936023717 L -0.06784677799689785, -0.9976957525796327 L -0.07463145579658764 ,-1.097465327837596\", \"type\": \"path\"}, {\"fillcolor\": \"#d4e5d6\", \"layer\": \"below\", \"line\": {\"color\": \"rgb(150,150,150)\", \"width\": 0.45}, \"path\": \"M 0.010775828248412321, -1.0999472176089 L 0.03366974213851361, -1.0994845830953366 L 0.056549065473369235, -1.0985454943670239 L 0.07940388365281005, -1.0971303583717165 L 0.10222429269581046, -1.0952397883490361 L 0.12500040353231065, -1.0928746035647272 L 0.14772234628858222, -1.0900358289556342 L 0.1703802745642653, -1.0867246946855518 L 0.19296436969924372, -1.0829426356121425 L 0.21546484502849386, -1.07869129066515 L 0.23787195012306991, -1.0739725021361803 L 0.26017597501538636, -1.068788314880357 L 0.2823672544069659, -1.0631409754301975 L 0.3044361718568348, -1.0570329310220925 L 0.3263731639487374, -1.0504668285358139 L 0.34816872443538116, -1.0434455133475058 L 0.3698134083579042, -1.0359720280966616 L 0.39129783613878416, -1.0280496113676156 L 0.4126126976464147, -1.0196816962861248 L 0.4337487562295883, -1.0108719090316465 L 0.4546968527201366, -1.001624067265959 L 0.47544790940199305, -0.9919421784788035 L 0.4959929339449634, -0.9818304382512631 L 0.5163230233014859, -0.9712932284376399 L 0.5364293675647109, -0.9603351152666054 L 0.5563032537862123, -0.9489608473624574 L 0.575936069751686, -0.937175353687335 L 0.5953193077129945, -0.9249837414052862 L 0.6144445680749409, -0.912391293669114 L 0.6333035630351806, -0.8994034673309556 L 0.651888120175679, -0.8860258905775945 L 0.6701901860041771, -0.8722643604915236 L 0.6882018294441171, -0.8581248405388172 L 0.6256380267673791, -0.7801134913989247 L 0.6092638054583428, -0.7929676004468396 L 0.5926255637960718, -0.8054780823432677 L 0.5757305118501642, -0.817639515755414 L 0.558585970977219, -0.8294466306082854 L 0.5411993706481767, -0.8408943103684419 L 0.5235782452288054, -0.8519775942612136 L 0.5057302307147383, -0.8626916794204158 L 0.4876630614224644, -0.8730319229696413 L 0.4693845666377145, -0.882993844034218 L 0.45090266722269395, -0.8925731256829664 L 0.43222537218363, -0.9017656167989122 L 0.41336077520012415, -0.9105673338781446 L 0.3943170511178075, -0.9189744627560422 L 0.3751024524058315, -0.9269833602601133 L 0.35572530558071286, -0.9345905557887414 L 0.3361940075980947, -0.9417927528151468 L 0.31651702221398287, -0.9485868303159143 L 0.29670287631703396, -0.954969844123467 L 0.27676015623348615, -0.9609390282019022 L 0.2566975040063326, -0.966491795845634 L 0.23652361365035124, -0.9716257408003245 L 0.216247227384609, -0.9763386383056184 L 0.1958771318440853, -0.9806284460592273 L 0.17542215427203972, -0.9844933051019477 L 0.15489115869478662, -0.9879315406232289 L 0.13429304208052928, -0.9909416626869401 L 0.11363673048391877, -0.9935223668770247 L 0.0929311751780095, -0.9956725348627601 L 0.07218534877528186, -0.9973912348833786 L 0.05140824133942657, -0.9986777221518398 L 0.03060885648955783, -0.9995314391775787 L 0.009796207498556656, -0.9999520160080909 L 0.010775828248412321 ,-1.0999472176089\", \"type\": \"path\"}, {\"fillcolor\": \"#c6decd\", \"layer\": \"below\", \"line\": {\"color\": \"rgb(150,150,150)\", \"width\": 0.45}, \"path\": \"M 0.7148165960102152, -0.836084465869549 L 0.7323299937490336, -0.8207879021132929 L 0.7495161404713873, -0.8051245587937781 L 0.766367356327984, -0.7891014352761354 L 0.7828761111376696, -0.772725691697875 L 0.7990350277523842, -0.756004645769288 L 0.8148368853537382, -0.7389457695034319 L 0.8302746226797229, -0.7215566858771693 L 0.8453413411801288, -0.7038451654247412 L 0.8600303080992501, -0.6858191227654047 L 0.8743349594845021, -0.6674866130666847 L 0.8882489031196085, -0.6488558284448193 L 0.9017659213810433, -0.6299350943040071 L 0.9148799740164567, -0.6107328656160953 L 0.9275852008438382, -0.5912577231423676 L 0.9398759243702153, -0.5715183695991176 L 0.9517466523287114, -0.5515236257687346 L 0.9631920801328371, -0.5312824265580207 L 0.974207093246912, -0.5108038170055141 L 0.9847867694715606, -0.4900969482395984 L 0.8952606995196005, -0.4455426802178167 L 0.8856428120426472, -0.4643671063686492 L 0.8756291637571245, -0.48298402414365516 L 0.8652242293897375, -0.5013851143352133 L 0.8544326585183775, -0.5195621541810159 L 0.8432592734943983, -0.5375070210385159 L 0.8317090672876879, -0.555211696014632 L 0.8197872012554939, -0.5726682675490973 L 0.8074990028360076, -0.5898689349498356 L 0.7948499631677292, -0.6068060118788042 L 0.7818457346356819, -0.6234719297867315 L 0.7684921283455716, -0.6398592412952192 L 0.7547951115270207, -0.6559606235246993 L 0.7407608048670347, -0.6717688813667563 L 0.7263954797748947, -0.6872769506993527 L 0.7117055555796996, -0.7024779015435226 L 0.6966975966618036, -0.7173649411601231 L 0.6813783095194429, -0.7319314170852528 L 0.6657545397718487, -0.7461708201029935 L 0.6498332691001956, -0.7600767871541354 L 0.7148165960102152 ,-0.836084465869549\", \"type\": \"path\"}, {\"fillcolor\": \"#b8d7c5\", \"layer\": \"below\", \"line\": {\"color\": \"rgb(150,150,150)\", \"width\": 0.45}, \"path\": \"M 0.9996951538142801, -0.45892221502150365 L 1.01562641230414, -0.4224961427400503 L 1.0302309238169567, -0.38551814952250957 L 1.0434896099876276, -0.3480365409664181 L 1.0553851505480076, -0.3101002805589826 L 0.959441045952734, -0.28190934596271144 L 0.9486269181705704, -0.31639685542401647 L 0.9365735671063242, -0.3504710450204632 L 0.9232967384583092, -0.3840874024909548 L 0.9088137761948, -0.41720201365591236 L 0.9996951538142801 ,-0.45892221502150365\", \"type\": \"path\"}, {\"fillcolor\": \"#aad0bc\", \"layer\": \"below\", \"line\": {\"color\": \"rgb(150,150,150)\", \"width\": 0.45}, \"path\": \"M 1.0646048668880068, -0.2767968160914597 L 1.0719253658722585, -0.2469332095924425 L 1.0784083237690296, -0.21687666362629293 L 1.0840486751663245, -0.18665066265657054 L 1.0888420130166063, -0.1562788235492721 L 0.9898563754696421, -0.14207165777206554 L 0.9854987956057495, -0.1696824205968823 L 0.9803712034263904, -0.19716060329662993 L 0.9744776053384167, -0.2244847359931295 L 0.9678226062618244, -0.2516334691740542 L 1.0646048668880068 ,-0.2767968160914597\", \"type\": \"path\"}, {\"fillcolor\": \"#9cc9b4\", \"layer\": \"below\", \"line\": {\"color\": \"rgb(150,150,150)\", \"width\": 0.45}, \"path\": \"M 1.093213571687447, -0.12200035523872739 L 1.095427823603338, -0.10018923732444908 L 1.0972069573052905, -0.07833832293881952 L 1.0985502660982016, -0.056456291549928234 L 1.0994572164023046, -0.03455183498594413 L 0.9995065603657315, -0.031410759078131026 L 0.9986820600892742, -0.051323901409025666 L 0.9974608702775367, -0.07121665721710865 L 0.9958434760030344, -0.09108112484040824 L 0.9938305197158607, -0.11090941385338852 L 1.093213571687447 ,-0.12200035523872739\", \"type\": \"path\"}], \"showlegend\": false, \"title\": \"Data Jobs \\u2012 Technologies in Demand\", \"titlefont\": {\"color\": \"#655643\", \"family\": \"Merryweather\", \"size\": 18}, \"xaxis\": {\"showgrid\": false, \"showline\": false, \"showticklabels\": false, \"title\": \"\", \"zeroline\": false}, \"yaxis\": {\"showgrid\": false, \"showline\": false, \"showticklabels\": false, \"title\": \"\", \"zeroline\": false}}, {\"showLink\": true, \"linkText\": \"Export to plot.ly\", \"plotlyServerURL\": \"https://plot.ly\"})});</script><script type=\"text/javascript\">window.addEventListener(\"resize\", function(){window._Plotly.Plots.resize(document.getElementById(\"ee736180-ea5b-481b-8969-059d6df6fdf4\"));});</script>"
      ],
      "text/vnd.plotly.v1+html": [
       "<div id=\"ee736180-ea5b-481b-8969-059d6df6fdf4\" style=\"height: 525px; width: 100%;\" class=\"plotly-graph-div\"></div><script type=\"text/javascript\">require([\"plotly\"], function(Plotly) { window.PLOTLYENV=window.PLOTLYENV || {};window.PLOTLYENV.BASE_URL=\"https://plot.ly\";Plotly.newPlot(\"ee736180-ea5b-481b-8969-059d6df6fdf4\", [{\"hoverinfo\": \"text\", \"line\": {\"color\": \"#f2e6ce\", \"shape\": \"spline\", \"width\": 0.25}, \"mode\": \"lines\", \"text\": \"Power BI<br>836\", \"x\": [1.1, 1.0997136679564712, 1.0988548208914104, 1.0974239059237911, 1.0954216679932613, 1.0928491494723278, 1.0897076896236901, 1.0859989239030179, 1.0817247831075252, 1.076887492370791, 1.0714895700043454, 1.0655338261866287], \"y\": [0.0, 0.025096782856060512, 0.050180500233718894, 0.07523809345650961, 0.10025651744829919, 0.1252227475246014, 0.15012378617327635, 0.17494666982108348, 0.19967847558256618, 0.22430632798775385, 0.24881740568517938, 0.2731989481167224], \"type\": \"scatter\", \"uid\": \"4cb5950a-0a58-49b0-8019-842ce4f275fa\"}, {\"hoverinfo\": \"text\", \"line\": {\"color\": \"#ecd5bb\", \"shape\": \"spline\", \"width\": 0.25}, \"mode\": \"lines\", \"text\": \"Excel<br>2966\", \"x\": [1.056426663225442, 1.049872204819657, 1.0428701048640432, 1.0354233488942326, 1.0275351120370337, 1.0192087576566315, 1.0104478359205245, 1.001256082285815, 0.991637415906495, 0.9815959379624087, 0.9711359299106028, 0.9602618516598107, 0.9489783396688501, 0.9372902049697418, 0.9252024311163957, 0.9127201720597372, 0.8998487499501804, 0.8865936528683842, 0.8729605324852601, 0.8589552016522288, 0.8445836319227529, 0.8298519510062027, 0.8147664401551412, 0.7993335314871404, 0.7835598052422742, 0.7674519869774536, 0.7510169446988031, 0.734261685933299, 0.7171933547409203, 0.6998192286685845, 0.6821467156471678, 0.6641833508329319, 0.6459367933947057, 0.6274148232481906, 0.6086253377387818, 0.5895763482743206, 0.5702759769092125, 0.5507324528813691, 0.5309541091034484, 0.5109493786098915, 0.4907267909612685, 0.47029496860746905, 0.4496626232112863, 0.4288385519339627, 0.40783163368428127, 0.38665082533280115, 0.365305157892853, 0.34380373266992076], \"y\": [0.3065333672316256, 0.32828090646139074, 0.34988847420408065, 0.37134685748589913, 0.3926469069418997, 0.4137795407170659, 0.43473574833860723, 0.455506594557819, 0.4760832231598684, 0.49645686073988265, 0.5166188204437282, 0.5365605056718876, 0.5562734137448532, 0.5757491395284752, 0.5949793790177198, 0.6139559328773067, 0.6326707099377196, 0.6511157306450946, 0.6692831304635217, 0.6871651632283022, 0.7047542044487369, 0.7220427545590351, 0.7390234421159582, 0.7556890269418347, 0.7720324032116072, 0.7880466024825934, 0.8037247966656716, 0.819060300936622, 0.8340465765863826, 0.8486772338090067, 0.8629460344261293, 0.8768468945467839, 0.8903738871614361, 0.9035212446691234, 0.9162833613366304, 0.9286547956886441, 0.9406302728278756, 0.9522046866841555, 0.9633731021915464, 0.9741307573925412, 0.9844730654684544, 0.9943956166951361, 1.0038941803231778, 1.012964706381808, 1.0216033274057061, 1.0298063600840033, 1.0375703068307602, 1.0448918572762589], \"type\": \"scatter\", \"uid\": \"ffde2b08-0596-424d-b70e-5ff4f3d21790\"}, {\"hoverinfo\": \"text\", \"line\": {\"color\": \"#e6c4a9\", \"shape\": \"spline\", \"width\": 0.25}, \"mode\": \"lines\", \"text\": \"SSIS/SSRS<br>1548\", \"x\": [0.31081323989020937, 0.2881950173572104, 0.26544518930488187, 0.24257414454203471, 0.21959232723162206, 0.19651023212136717, 0.17333839975129042, 0.15008741164032646, 0.1267678854542255, 0.10339047015695084, 0.0799658411477822, 0.05650469538634872, 0.03301774650781396, 0.009515719930448164, -0.013990652042180373, -0.03749063512216027, -0.06097349793909577, -0.08442851694063434, -0.10784498128942423, -0.13121219775426424, -0.1545194955932163, -0.1777562314264457, -0.20091179409656668, -0.2239756095142752], \"y\": [1.0551754024374105, 1.0615760132795378, 1.0674918507768083, 1.0729202134360691, 1.0778586223716913, 1.0823048224375638, 1.0862567832569157, 1.089712700149497, 1.0926709949556932, 1.0951303167571997, 1.0970895424939242, 1.098547777476836, 1.0995043557965316, 1.0999588406273235, 1.0999110244267192, 1.0993609290301967, 1.098308805641233, 1.0967551347165898, 1.0947006257469134, 1.0921462169327403, 1.0890930747560643, 1.0855425934476584, 1.0814963943503921, 1.076956325178839], \"type\": \"scatter\", \"uid\": \"fe945670-3d71-4277-838f-7f508215dc7f\"}, {\"hoverinfo\": \"text\", \"line\": {\"color\": \"#e1b396\", \"shape\": \"spline\", \"width\": 0.25}, \"mode\": \"lines\", \"text\": \"MS SQL Server<br>1238\", \"x\": [-0.25769310673929036, -0.2806110988263204, -0.3033995258401496, -0.3260478658013324, -0.3485456614120734, -0.3708825248846219, -0.393048142737569, -0.4150322805578367, -0.4368247877261592, -0.45841560210387444, -0.4797947546788621, -0.5009523741684826, -0.5218786915773921, -0.5425640447081277, -0.5629988826223851, -0.5831737700509203, -0.6030793917500479, -0.6227065568027177, -0.6420462028621897], \"y\": [1.0693896683337898, 1.0636058533194923, 1.0573309452200728, 1.0505678413155415, 1.043319664297966, 1.0355897608296483, 1.0273816999978869, 1.0186992716670418, 1.0095464847286608, 0.9999275652504748, 0.9898469545251178, 0.9793093070194733, 0.9683194882255906, 0.9568825724141687, 0.9450038402916392, 0.9326887765619336, 0.9199430673940603, 0.9067725977966603, 0.8931834489007531], \"type\": \"scatter\", \"uid\": \"e0b7e895-a75b-475f-b61c-6260b686c404\"}, {\"hoverinfo\": \"text\", \"line\": {\"color\": \"#dba284\", \"shape\": \"spline\", \"width\": 0.25}, \"mode\": \"lines\", \"text\": \"PostgreSQL<br>297\", \"x\": [-0.6697849619446591, -0.6847176314806419, -0.6994470770285418, -0.7139689268933284, -0.7282788709943088], \"y\": [0.8725755581912616, 0.8609075241508464, 0.8489839730149382, 0.8368084436899459, 0.8243845498693283], \"type\": \"scatter\", \"uid\": \"c001d5af-c6ad-4426-8fec-f729e390f3d5\"}, {\"hoverinfo\": \"text\", \"line\": {\"color\": \"#d59171\", \"shape\": \"spline\", \"width\": 0.25}, \"mode\": \"lines\", \"text\": \"MySQL/MariaDB<br>509\", \"x\": [-0.7538140538182364, -0.7814872632254792, -0.8081960269753633, -0.8339073833647057, -0.8585896016063511], \"y\": [0.8011019737000509, 0.7741302586880006, 0.7462031774129873, 0.717355195122911, 0.6876219135640222], \"type\": \"scatter\", \"uid\": \"f3bca7a7-6b51-43f4-8d99-b4e2bf5c1f93\"}, {\"hoverinfo\": \"text\", \"line\": {\"color\": \"#d0805f\", \"shape\": \"spline\", \"width\": 0.25}, \"mode\": \"lines\", \"text\": \"T-SQL<br>912\", \"x\": [-0.8797646657311486, -0.8947531982593289, -0.9092661512263128, -0.9232958107018037, -0.9368347196358465, -0.9498756818224007, -0.9624117657242715, -0.9744363081573615, -0.9859429178322909, -0.9969254787514968, -1.0073781534600104, -1.0172953861481842, -1.026671905604717], \"y\": [0.6603136625354351, 0.6398567919501225, 0.6190598244387115, 0.5979338140133066, 0.5764899895790255, 0.5547397489656115, 0.5326946528692496, 0.5103664187078258, 0.4877669143928776, 0.46490815202155694, 0.4418022814919589, 0.41846158404519895, 0.39489846573768694], \"type\": \"scatter\", \"uid\": \"5b1cdf5a-ed44-40a2-bd59-aaf9afbb631b\"}, {\"hoverinfo\": \"text\", \"line\": {\"color\": \"#ca6f4c\", \"shape\": \"spline\", \"width\": 0.25}, \"mode\": \"lines\", \"text\": \"PL/SQL<br>263\", \"x\": [-1.0385693655627106, -1.0436658290912944, -1.0485471800874104, -1.0532124124437927, -1.0576605645979191], \"y\": [0.3624550633039477, 0.3475077512620139, 0.3324888135422603, 0.31740134573490153, 0.3022484575550573], \"type\": \"scatter\", \"uid\": \"abfc1bab-bf5f-47dc-835d-777d750a1c11\"}, {\"hoverinfo\": \"text\", \"line\": {\"color\": \"#c45e3a\", \"shape\": \"spline\", \"width\": 0.25}, \"mode\": \"lines\", \"text\": \"Pentaho<br>460\", \"x\": [-1.0666325264377414, -1.074452422786308, -1.081240274648946, -1.086989562085882, -1.091694762730307], \"y\": [0.268877395005681, 0.23569469906774096, 0.20228561114689247, 0.16868222169613079, 0.13491680780102494], \"type\": \"scatter\", \"uid\": \"83e5e0fd-811c-44ff-9753-ff6154ca8604\"}, {\"hoverinfo\": \"text\", \"line\": {\"color\": \"#bf4d28\", \"shape\": \"spline\", \"width\": 0.25}, \"mode\": \"lines\", \"text\": \"Hadoop<br>519\", \"x\": [-1.0953939166112807, -1.098302082501939, -1.0997888755010194, -1.0998523714682535, -1.0984924882300313], \"y\": [0.10055927332175103, 0.061094480699194716, 0.021550622362319583, -0.018021125815529577, -0.057569551867236946], \"type\": \"scatter\", \"uid\": \"757b1278-7d51-4a11-af06-59d744af4349\"}, {\"hoverinfo\": \"text\", \"line\": {\"color\": \"#af4624\", \"shape\": \"spline\", \"width\": 0.25}, \"mode\": \"lines\", \"text\": \"Spark<br>564\", \"x\": [-1.096142145174455, -1.0916148145699758, -1.0853605813824627, -1.0773893396251728, -1.0677136995685026], \"y\": [-0.09204562766554557, -0.1355621503641699, -0.17886421772149588, -0.2218833271384629, -0.2645514236471648], \"type\": \"scatter\", \"uid\": \"0d444b94-d63e-447f-a890-eea7b9dfda10\"}, {\"hoverinfo\": \"text\", \"line\": {\"color\": \"#9f4021\", \"shape\": \"spline\", \"width\": 0.25}, \"mode\": \"lines\", \"text\": \"Informatica<br>631\", \"x\": [-1.0588770862791272, -1.0442512905482206, -1.0274701898696994, -1.0085684199578269, -0.9875849935278168], \"y\": [-0.2979585812709982, -0.3457444752825064, -0.39281676253582165, -0.43907828716958053, -0.48443356671339605], \"type\": \"scatter\", \"uid\": \"2b0a0156-d25e-4f31-b788-56d9c2ef933f\"}, {\"hoverinfo\": \"text\", \"line\": {\"color\": \"#8f391e\", \"shape\": \"spline\", \"width\": 0.25}, \"mode\": \"lines\", \"text\": \"Qlik<br>1325\", \"x\": [-0.9718812538964087, -0.9603637258285753, -0.9483854465917689, -0.9359521629733905, -0.9230698400570931, -0.9097446583609272, -0.8959830108721311, -0.8817914999799837, -0.8671769343081946, -0.852146325448347, -0.8367068845959669, -0.8208660190908247, -0.804631328863138, -0.7880106027873702, -0.7710118149453855, -0.7536431208007421, -0.7359128532859699, -0.7178295188046987, -0.6994017931505644, -0.6806385173448474], \"y\": [-0.5152153222922866, -0.5363781447007859, -0.5572836303830674, -0.5779217495694656, -0.5982826007640308, -0.6183564154949476, -0.6381335630011249, -0.657604554852725, -0.6767600495033976, -0.695590856772054, -0.7140879422520111, -0.7322424316454094, -0.750045615020807, -0.7674889509919252, -0.7845640708155216, -0.8012627824064451, -0.8175770742679265, -0.8334991193352366, -0.8490212787308545, -0.8641361054293519], \"type\": \"scatter\", \"uid\": \"8482878f-846a-4e64-a216-f0a9678aef50\"}, {\"hoverinfo\": \"text\", \"line\": {\"color\": \"#f0f3e7\", \"shape\": \"spline\", \"width\": 0.25}, \"mode\": \"lines\", \"text\": \"Tableau<br>1681\", \"x\": [-0.6531594923054266, -0.6340188670986722, -0.6145863376906574, -0.5948708508766114, -0.5748814837262075, -0.5546274394044526, -0.5341180429345244, -0.513362736904499, -0.4923710771199573, -0.4711527282044627, -0.4497174591499389, -0.42807513881899684, -0.4062357314012806, -0.38420929182592317, -0.36200596113223055, -0.3396359618007112, -0.3171095930466187, -0.29443722607816086, -0.2716292993215647, -0.2486963136151928, -0.22564882737492592, -0.20249745173303568, -0.1792528456527907, -0.15592571102103217, -0.13252678772099655, -0.10906684868764008], \"y\": [-0.885089078913144, -0.8988993693194565, -0.9122958037413005, -0.9252722144198087, -0.9378226269763138, -0.9499412631629708, -0.961622543523078, -0.9728610899598783, -0.9836517282126501, -0.9939894902389521, -1.0038696165019256, -1.0132875581615994, -1.0222389791691895, -1.0307197582634295, -1.0387259908680104, -1.046253990889261, -1.0533002924132358, -1.059861651301432, -1.0659350466844009, -1.0715176823525656, -1.076606988043604, -1.0812006206258056, -1.0852964651768553, -1.088892635957552, -1.0919874772800071, -1.094579564269929], \"type\": \"scatter\", \"uid\": \"ca2a3aba-78ce-43c4-a612-3c8ccbce0843\"}, {\"hoverinfo\": \"text\", \"line\": {\"color\": \"#e2ecde\", \"shape\": \"spline\", \"width\": 0.25}, \"mode\": \"lines\", \"text\": \"Microstrategy<br>230\", \"x\": [-0.07463145579658764, -0.06192924146064776, -0.04921873728914692, -0.036501644707565006, -0.023779666023308034], \"y\": [-1.097465327837596, -1.0982553296260888, -1.09889831918138, -1.0993942104330197, -1.0997429370011067], \"type\": \"scatter\", \"uid\": \"c786eb70-647a-4312-a9b0-5aae15b5f593\"}, {\"hoverinfo\": \"text\", \"line\": {\"color\": \"#d4e5d6\", \"shape\": \"spline\", \"width\": 0.25}, \"mode\": \"lines\", \"text\": \"Oracle BI<br>2065\", \"x\": [0.010775828248412321, 0.03366974213851361, 0.056549065473369235, 0.07940388365281005, 0.10222429269581046, 0.12500040353231065, 0.14772234628858222, 0.1703802745642653, 0.19296436969924372, 0.21546484502849386, 0.23787195012306991, 0.26017597501538636, 0.2823672544069659, 0.3044361718568348, 0.3263731639487374, 0.34816872443538116, 0.3698134083579042, 0.39129783613878416, 0.4126126976464147, 0.4337487562295883, 0.4546968527201366, 0.47544790940199305, 0.4959929339449634, 0.5163230233014859, 0.5364293675647109, 0.5563032537862123, 0.575936069751686, 0.5953193077129945, 0.6144445680749409, 0.6333035630351806, 0.651888120175679, 0.6701901860041771, 0.6882018294441171], \"y\": [-1.0999472176089, -1.0994845830953366, -1.0985454943670239, -1.0971303583717165, -1.0952397883490361, -1.0928746035647272, -1.0900358289556342, -1.0867246946855518, -1.0829426356121425, -1.07869129066515, -1.0739725021361803, -1.068788314880357, -1.0631409754301975, -1.0570329310220925, -1.0504668285358139, -1.0434455133475058, -1.0359720280966616, -1.0280496113676156, -1.0196816962861248, -1.0108719090316465, -1.001624067265959, -0.9919421784788035, -0.9818304382512631, -0.9712932284376399, -0.9603351152666054, -0.9489608473624574, -0.937175353687335, -0.9249837414052862, -0.912391293669114, -0.8994034673309556, -0.8860258905775945, -0.8722643604915236, -0.8581248405388172], \"type\": \"scatter\", \"uid\": \"b3424c19-40b8-4c28-9d4e-5ca16061b973\"}, {\"hoverinfo\": \"text\", \"line\": {\"color\": \"#c6decd\", \"shape\": \"spline\", \"width\": 0.25}, \"mode\": \"lines\", \"text\": \"Python<br>1282\", \"x\": [0.7148165960102152, 0.7323299937490336, 0.7495161404713873, 0.766367356327984, 0.7828761111376696, 0.7990350277523842, 0.8148368853537382, 0.8302746226797229, 0.8453413411801288, 0.8600303080992501, 0.8743349594845021, 0.8882489031196085, 0.9017659213810433, 0.9148799740164567, 0.9275852008438382, 0.9398759243702153, 0.9517466523287114, 0.9631920801328371, 0.974207093246912, 0.9847867694715606], \"y\": [-0.836084465869549, -0.8207879021132929, -0.8051245587937781, -0.7891014352761354, -0.772725691697875, -0.756004645769288, -0.7389457695034319, -0.7215566858771693, -0.7038451654247412, -0.6858191227654047, -0.6674866130666847, -0.6488558284448193, -0.6299350943040071, -0.6107328656160953, -0.5912577231423676, -0.5715183695991176, -0.5515236257687346, -0.5312824265580207, -0.5108038170055141, -0.4900969482395984], \"type\": \"scatter\", \"uid\": \"9dcca9e1-a24f-405d-8a5a-c8b4192663a6\"}, {\"hoverinfo\": \"text\", \"line\": {\"color\": \"#b8d7c5\", \"shape\": \"spline\", \"width\": 0.25}, \"mode\": \"lines\", \"text\": \"VBA<br>521\", \"x\": [0.9996951538142801, 1.01562641230414, 1.0302309238169567, 1.0434896099876276, 1.0553851505480076], \"y\": [-0.45892221502150365, -0.4224961427400503, -0.38551814952250957, -0.3480365409664181, -0.3101002805589826], \"type\": \"scatter\", \"uid\": \"e87aabe6-b141-4bdd-953f-0be7ca192937\"}, {\"hoverinfo\": \"text\", \"line\": {\"color\": \"#aad0bc\", \"shape\": \"spline\", \"width\": 0.25}, \"mode\": \"lines\", \"text\": \"Linux<br>424\", \"x\": [1.0646048668880068, 1.0719253658722585, 1.0784083237690296, 1.0840486751663245, 1.0888420130166063], \"y\": [-0.2767968160914597, -0.2469332095924425, -0.21687666362629293, -0.18665066265657054, -0.1562788235492721], \"type\": \"scatter\", \"uid\": \"16142f3a-e365-461e-bc27-b8e4dd92c8bb\"}, {\"hoverinfo\": \"text\", \"line\": {\"color\": \"#9cc9b4\", \"shape\": \"spline\", \"width\": 0.25}, \"mode\": \"lines\", \"text\": \"AWS<br>329\", \"x\": [1.093213571687447, 1.095427823603338, 1.0972069573052905, 1.0985502660982016, 1.0994572164023046], \"y\": [-0.12200035523872739, -0.10018923732444908, -0.07833832293881952, -0.056456291549928234, -0.03455183498594413], \"type\": \"scatter\", \"uid\": \"17d69477-6d28-4728-ae37-2aaea2d38f94\"}, {\"hoverinfo\": \"text\", \"marker\": {\"color\": \"green\", \"size\": 0.5}, \"mode\": \"markers\", \"text\": \"Power BI appears with Excel 156 times\", \"x\": [0.8767953655720315], \"y\": [0.203051439077411], \"type\": \"scatter\", \"uid\": \"878b16bf-bef1-456e-a978-632cf39d40bd\"}, {\"hoverinfo\": \"text\", \"marker\": {\"color\": \"blue\", \"size\": 0.5}, \"mode\": \"markers\", \"text\": \"Excel appears with Power BI 156 times\", \"x\": [0.7699985505944414], \"y\": [0.46594230552983645], \"type\": \"scatter\", \"uid\": \"9227e7d1-83c7-40f7-b3d8-f3a6e952e125\"}, {\"hoverinfo\": \"text\", \"marker\": {\"color\": \"green\", \"size\": 0.5}, \"mode\": \"markers\", \"text\": \"Power BI appears with SSIS/SSRS 90 times\", \"x\": [0.8960797237381709], \"y\": [0.08391143369841396], \"type\": \"scatter\", \"uid\": \"3672fa0f-f6c4-43b3-afd5-8155854d3107\"}, {\"hoverinfo\": \"text\", \"marker\": {\"color\": \"blue\", \"size\": 0.5}, \"mode\": \"markers\", \"text\": \"SSIS/SSRS appears with Power BI 90 times\", \"x\": [0.1333011786535946], \"y\": [0.8900734777362835], \"type\": \"scatter\", \"uid\": \"063cd4d5-41d1-406c-96ee-ff61450d1e02\"}, {\"hoverinfo\": \"text\", \"marker\": {\"color\": \"green\", \"size\": 0.5}, \"mode\": \"markers\", \"text\": \"Power BI appears with MS SQL Server 85 times\", \"x\": [0.8979746339190786], \"y\": [0.060345313305151124], \"type\": \"scatter\", \"uid\": \"00836f3e-8a53-46f2-9544-cc17f84da90a\"}, {\"hoverinfo\": \"text\", \"marker\": {\"color\": \"blue\", \"size\": 0.5}, \"mode\": \"markers\", \"text\": \"MS SQL Server appears with Power BI 85 times\", \"x\": [-0.3561830735928789], \"y\": [0.8265189762406728], \"type\": \"scatter\", \"uid\": \"0e095f8d-d171-4054-9ba2-aa3348039495\"}, {\"hoverinfo\": \"text\", \"marker\": {\"color\": \"green\", \"size\": 0.5}, \"mode\": \"markers\", \"text\": \"Power BI appears with MySQL/MariaDB 5 times\", \"x\": [0.8999977184301038], \"y\": [0.002026529202268068], \"type\": \"scatter\", \"uid\": \"530fccc3-5609-4bdd-af3f-7834071c5ca0\"}, {\"hoverinfo\": \"text\", \"marker\": {\"color\": \"blue\", \"size\": 0.5}, \"mode\": \"markers\", \"text\": \"MySQL/MariaDB appears with Power BI 5 times\", \"x\": [-0.6181128221930339], \"y\": [0.6541685861003743], \"type\": \"scatter\", \"uid\": \"0121126b-a80a-4204-9e94-6379a5afa853\"}, {\"hoverinfo\": \"text\", \"marker\": {\"color\": \"green\", \"size\": 0.5}, \"mode\": \"markers\", \"text\": \"Power BI appears with T-SQL 30 times\", \"x\": [0.899415981033337], \"y\": [0.032417480806503356], \"type\": \"scatter\", \"uid\": \"5c4ee507-ff28-4e60-ab25-3bae2ae3eb65\"}, {\"hoverinfo\": \"text\", \"marker\": {\"color\": \"blue\", \"size\": 0.5}, \"mode\": \"markers\", \"text\": \"T-SQL appears with Power BI 30 times\", \"x\": [-0.7473087855309484], \"y\": [0.5015272465861242], \"type\": \"scatter\", \"uid\": \"e53c07f5-d51a-4fb0-8eb5-42b97986c831\"}, {\"hoverinfo\": \"text\", \"marker\": {\"color\": \"green\", \"size\": 0.5}, \"mode\": \"markers\", \"text\": \"Power BI appears with PL/SQL 3 times\", \"x\": [0.899999503124614], \"y\": [0.0009457142528405403], \"type\": \"scatter\", \"uid\": \"e72532c8-6d90-4fa9-beea-764290d68046\"}, {\"hoverinfo\": \"text\", \"marker\": {\"color\": \"blue\", \"size\": 0.5}, \"mode\": \"markers\", \"text\": \"PL/SQL appears with Power BI 3 times\", \"x\": [-0.8500941039064684], \"y\": [0.2955334405840709], \"type\": \"scatter\", \"uid\": \"d8e393f8-7529-43ab-adf7-1511ca958477\"}, {\"hoverinfo\": \"text\", \"marker\": {\"color\": \"green\", \"size\": 0.5}, \"mode\": \"markers\", \"text\": \"Power BI appears with Pentaho 7 times\", \"x\": [0.8999861179445423], \"y\": [0.004998750555112635], \"type\": \"scatter\", \"uid\": \"09513c02-2d70-4b3f-9e78-724cd7c19c32\"}, {\"hoverinfo\": \"text\", \"marker\": {\"color\": \"blue\", \"size\": 0.5}, \"mode\": \"markers\", \"text\": \"Pentaho appears with Power BI 7 times\", \"x\": [-0.8734355074219028], \"y\": [0.21704933626860798], \"type\": \"scatter\", \"uid\": \"087acc67-6859-4ba5-8379-c77809cca92d\"}, {\"hoverinfo\": \"text\", \"marker\": {\"color\": \"green\", \"size\": 0.5}, \"mode\": \"markers\", \"text\": \"Power BI appears with Hadoop 17 times\", \"x\": [0.8998965606288425], \"y\": [0.013644785391500982], \"type\": \"scatter\", \"uid\": \"9d430fac-e002-451b-8bbb-29170f1c514b\"}, {\"hoverinfo\": \"text\", \"marker\": {\"color\": \"blue\", \"size\": 0.5}, \"mode\": \"markers\", \"text\": \"Hadoop appears with Power BI 17 times\", \"x\": [-0.8974102886446829], \"y\": [0.06822590295970468], \"type\": \"scatter\", \"uid\": \"ac5ae9d6-3547-4efc-a2b5-e6823dd86dab\"}, {\"hoverinfo\": \"text\", \"marker\": {\"color\": \"green\", \"size\": 0.5}, \"mode\": \"markers\", \"text\": \"Power BI appears with Spark 22 times\", \"x\": [0.8998012571422968], \"y\": [0.01891289626530949], \"type\": \"scatter\", \"uid\": \"874aaa94-e9e1-4932-bc07-bc6723120c5d\"}, {\"hoverinfo\": \"text\", \"marker\": {\"color\": \"blue\", \"size\": 0.5}, \"mode\": \"markers\", \"text\": \"Spark appears with Power BI 22 times\", \"x\": [-0.8941332266421028], \"y\": [-0.10259519001679367], \"type\": \"scatter\", \"uid\": \"22b5a2be-7032-4497-a343-a5eb42cb9d58\"}, {\"hoverinfo\": \"text\", \"marker\": {\"color\": \"green\", \"size\": 0.5}, \"mode\": \"markers\", \"text\": \"Power BI appears with Informatica 7 times\", \"x\": [0.8999736251696776], \"y\": [0.0068901378033193955], \"type\": \"scatter\", \"uid\": \"170e3403-3e62-4298-94ad-522dd0c73a44\"}, {\"hoverinfo\": \"text\", \"marker\": {\"color\": \"blue\", \"size\": 0.5}, \"mode\": \"markers\", \"text\": \"Informatica appears with Power BI 7 times\", \"x\": [-0.8652570285487059], \"y\": [-0.2476494993878727], \"type\": \"scatter\", \"uid\": \"1b7fa711-7fb8-4119-beb3-3a7665d28980\"}, {\"hoverinfo\": \"text\", \"marker\": {\"color\": \"green\", \"size\": 0.5}, \"mode\": \"markers\", \"text\": \"Power BI appears with Qlik 115 times\", \"x\": [0.889696059610616], \"y\": [0.13579735458889938], \"type\": \"scatter\", \"uid\": \"2cf55717-525d-498e-9984-b7c1a18ac187\"}, {\"hoverinfo\": \"text\", \"marker\": {\"color\": \"blue\", \"size\": 0.5}, \"mode\": \"markers\", \"text\": \"Qlik appears with Power BI 115 times\", \"x\": [-0.7272799547820217], \"y\": [-0.5301545693213069], \"type\": \"scatter\", \"uid\": \"95dbd50b-ff1c-422c-820c-3344fa63c44a\"}, {\"hoverinfo\": \"text\", \"marker\": {\"color\": \"green\", \"size\": 0.5}, \"mode\": \"markers\", \"text\": \"Power BI appears with Tableau 118 times\", \"x\": [0.8844031729176839], \"y\": [0.16682634004596908], \"type\": \"scatter\", \"uid\": \"2bfab390-1fef-40ad-9aa6-b168cd042aa8\"}, {\"hoverinfo\": \"text\", \"marker\": {\"color\": \"blue\", \"size\": 0.5}, \"mode\": \"markers\", \"text\": \"Tableau appears with Power BI 118 times\", \"x\": [-0.3546406968939142], \"y\": [-0.827181948610219], \"type\": \"scatter\", \"uid\": \"dcdb9179-3cd1-4cd2-b54b-5d142d67fb74\"}, {\"hoverinfo\": \"text\", \"marker\": {\"color\": \"green\", \"size\": 0.5}, \"mode\": \"markers\", \"text\": \"Power BI appears with Microstrategy 13 times\", \"x\": [0.8999488831562997], \"y\": [0.009592064727095216], \"type\": \"scatter\", \"uid\": \"ab8ea53e-85e6-4c77-94bc-09371c81c0f1\"}, {\"hoverinfo\": \"text\", \"marker\": {\"color\": \"blue\", \"size\": 0.5}, \"mode\": \"markers\", \"text\": \"Microstrategy appears with Power BI 13 times\", \"x\": [-0.05211576097442645], \"y\": [-0.8984898148883249], \"type\": \"scatter\", \"uid\": \"d2fd1f60-4d29-46b0-865d-eebc615bd57b\"}, {\"hoverinfo\": \"text\", \"marker\": {\"color\": \"green\", \"size\": 0.5}, \"mode\": \"markers\", \"text\": \"Power BI appears with Oracle BI 91 times\", \"x\": [0.8934693470283046], \"y\": [0.10822442386455573], \"type\": \"scatter\", \"uid\": \"9543d073-a5cf-458d-9afc-6c6c3f89f7f1\"}, {\"hoverinfo\": \"text\", \"marker\": {\"color\": \"blue\", \"size\": 0.5}, \"mode\": \"markers\", \"text\": \"Oracle BI appears with Power BI 91 times\", \"x\": [0.1264176203607371], \"y\": [-0.891077204995352], \"type\": \"scatter\", \"uid\": \"ddd71a70-862b-4963-88f0-ea8de794fdbb\"}, {\"hoverinfo\": \"text\", \"marker\": {\"color\": \"green\", \"size\": 0.5}, \"mode\": \"markers\", \"text\": \"Power BI appears with Python 46 times\", \"x\": [0.8989876185681631], \"y\": [0.04267624235031774], \"type\": \"scatter\", \"uid\": \"3d4a8828-c3a0-4d27-aa9b-e491cc484a4a\"}, {\"hoverinfo\": \"text\", \"marker\": {\"color\": \"blue\", \"size\": 0.5}, \"mode\": \"markers\", \"text\": \"Python appears with Power BI 46 times\", \"x\": [0.6321816429826362], \"y\": [-0.6405828363886865], \"type\": \"scatter\", \"uid\": \"9f5fa961-42a3-45f9-b147-0c3e85f5a3a6\"}, {\"hoverinfo\": \"text\", \"marker\": {\"color\": \"green\", \"size\": 0.5}, \"mode\": \"markers\", \"text\": \"Power BI appears with VBA 24 times\", \"x\": [0.8996492084548104], \"y\": [0.025125718430186895], \"type\": \"scatter\", \"uid\": \"87217e07-31cc-4c92-af03-2bcdbf47fba8\"}, {\"hoverinfo\": \"text\", \"marker\": {\"color\": \"blue\", \"size\": 0.5}, \"mode\": \"markers\", \"text\": \"VBA appears with Power BI 24 times\", \"x\": [0.8223545994983903], \"y\": [-0.3656951089143005], \"type\": \"scatter\", \"uid\": \"53ca5ed8-d136-4574-8da8-a0d9f4eab7f2\"}, {\"hoverinfo\": \"text\", \"marker\": {\"color\": \"green\", \"size\": 0.5}, \"mode\": \"markers\", \"text\": \"Power BI appears with Linux 2 times\", \"x\": [0.8999999594387406], \"y\": [0.0002702041179060665], \"type\": \"scatter\", \"uid\": \"2a00e229-39e9-4b76-9474-976c9b0a1e0b\"}, {\"hoverinfo\": \"text\", \"marker\": {\"color\": \"blue\", \"size\": 0.5}, \"mode\": \"markers\", \"text\": \"Linux appears with Power BI 2 times\", \"x\": [0.8711596700284484], \"y\": [-0.22601068407472438], \"type\": \"scatter\", \"uid\": \"6827425f-265d-4007-b8cc-e56768e3df5f\"}, {\"hoverinfo\": \"text\", \"marker\": {\"color\": \"green\", \"size\": 0.5}, \"mode\": \"markers\", \"text\": \"Power BI appears with AWS 5 times\", \"x\": [0.8999936623106043], \"y\": [0.003377543596461096], \"type\": \"scatter\", \"uid\": \"7e4ea528-e35d-4262-890d-7a069a97c6eb\"}, {\"hoverinfo\": \"text\", \"marker\": {\"color\": \"blue\", \"size\": 0.5}, \"mode\": \"markers\", \"text\": \"AWS appears with Power BI 5 times\", \"x\": [0.8946748804176846], \"y\": [-0.09775918549988866], \"type\": \"scatter\", \"uid\": \"497f03d3-d3ef-427e-b5d1-68030210998f\"}, {\"hoverinfo\": \"text\", \"marker\": {\"color\": \"green\", \"size\": 0.5}, \"mode\": \"markers\", \"text\": \"Excel appears with SSIS/SSRS 367 times\", \"x\": [0.4537658243589668], \"y\": [0.7772364998144563], \"type\": \"scatter\", \"uid\": \"8c85f3bc-6df9-45be-8433-0d71238687f2\"}, {\"hoverinfo\": \"text\", \"marker\": {\"color\": \"blue\", \"size\": 0.5}, \"mode\": \"markers\", \"text\": \"SSIS/SSRS appears with Excel 367 times\", \"x\": [-0.1316323913919113], \"y\": [0.890321803359014], \"type\": \"scatter\", \"uid\": \"cf75c59d-e8f8-4866-b705-0bdf6ffe6722\"}, {\"hoverinfo\": \"text\", \"marker\": {\"color\": \"green\", \"size\": 0.5}, \"mode\": \"markers\", \"text\": \"Excel appears with MS SQL Server 203 times\", \"x\": [0.7117991987866296], \"y\": [0.5507648323982862], \"type\": \"scatter\", \"uid\": \"63c78ba1-fd13-4ecc-9eb7-66d6e2400e38\"}, {\"hoverinfo\": \"text\", \"marker\": {\"color\": \"blue\", \"size\": 0.5}, \"mode\": \"markers\", \"text\": \"MS SQL Server appears with Excel 203 times\", \"x\": [-0.5018759138803468], \"y\": [0.7470746730192148], \"type\": \"scatter\", \"uid\": \"2b1131d1-f1d1-4132-8c1e-8e689aa8bf5c\"}, {\"hoverinfo\": \"text\", \"marker\": {\"color\": \"green\", \"size\": 0.5}, \"mode\": \"markers\", \"text\": \"Excel appears with PostgreSQL 39 times\", \"x\": [0.8570850875773721], \"y\": [0.2745999866214279], \"type\": \"scatter\", \"uid\": \"a1f23f41-3a62-496c-9a01-e5f8f87c4fb8\"}, {\"hoverinfo\": \"text\", \"marker\": {\"color\": \"blue\", \"size\": 0.5}, \"mode\": \"markers\", \"text\": \"PostgreSQL appears with Excel 39 times\", \"x\": [-0.5849106282002734], \"y\": [0.6840172198259057], \"type\": \"scatter\", \"uid\": \"b8bde05b-b72b-4eba-ae28-ff78181d155d\"}, {\"hoverinfo\": \"text\", \"marker\": {\"color\": \"green\", \"size\": 0.5}, \"mode\": \"markers\", \"text\": \"Excel appears with MySQL/MariaDB 81 times\", \"x\": [0.8217804609125439], \"y\": [0.3669834792771563], \"type\": \"scatter\", \"uid\": \"8aa608df-1a63-4638-8d62-9ba03c3e592f\"}, {\"hoverinfo\": \"text\", \"marker\": {\"color\": \"blue\", \"size\": 0.5}, \"mode\": \"markers\", \"text\": \"MySQL/MariaDB appears with Excel 81 times\", \"x\": [-0.6961479472963217], \"y\": [0.5704191752344216], \"type\": \"scatter\", \"uid\": \"b0ab813a-2116-4697-bd85-0f03665ca220\"}, {\"hoverinfo\": \"text\", \"marker\": {\"color\": \"green\", \"size\": 0.5}, \"mode\": \"markers\", \"text\": \"Excel appears with T-SQL 148 times\", \"x\": [0.7922111417098393], \"y\": [0.4270848943135228], \"type\": \"scatter\", \"uid\": \"49e6bc37-fb09-4b76-9fe1-0193f5e512ab\"}, {\"hoverinfo\": \"text\", \"marker\": {\"color\": \"blue\", \"size\": 0.5}, \"mode\": \"markers\", \"text\": \"T-SQL appears with Excel 148 times\", \"x\": [-0.8325401617211081], \"y\": [0.34187260656769675], \"type\": \"scatter\", \"uid\": \"f8292e13-1a51-49bf-90a7-50c29d4397f0\"}, {\"hoverinfo\": \"text\", \"marker\": {\"color\": \"green\", \"size\": 0.5}, \"mode\": \"markers\", \"text\": \"Excel appears with PL/SQL 47 times\", \"x\": [0.8531367047558992], \"y\": [0.28663175504163124], \"type\": \"scatter\", \"uid\": \"295ea13c-db0a-42dc-b5a9-f0cd8681ee6b\"}, {\"hoverinfo\": \"text\", \"marker\": {\"color\": \"blue\", \"size\": 0.5}, \"mode\": \"markers\", \"text\": \"PL/SQL appears with Excel 47 times\", \"x\": [-0.8600720188145099], \"y\": [0.2650964399088251], \"type\": \"scatter\", \"uid\": \"861463a4-c85f-47e5-b94c-1d4f8a06d4c1\"}, {\"hoverinfo\": \"text\", \"marker\": {\"color\": \"green\", \"size\": 0.5}, \"mode\": \"markers\", \"text\": \"Excel appears with Pentaho 55 times\", \"x\": [0.84278722502077], \"y\": [0.31576841726459937], \"type\": \"scatter\", \"uid\": \"18f02f1d-8019-4af9-a960-40e45e0d58a8\"}, {\"hoverinfo\": \"text\", \"marker\": {\"color\": \"blue\", \"size\": 0.5}, \"mode\": \"markers\", \"text\": \"Pentaho appears with Excel 55 times\", \"x\": [-0.8923621485947223], \"y\": [0.11700340061472926], \"type\": \"scatter\", \"uid\": \"c06f8835-2129-44ee-8e55-f038f3861c0d\"}, {\"hoverinfo\": \"text\", \"marker\": {\"color\": \"green\", \"size\": 0.5}, \"mode\": \"markers\", \"text\": \"Excel appears with Hadoop 57 times\", \"x\": [0.836859933309331], \"y\": [0.33115774492151334], \"type\": \"scatter\", \"uid\": \"ae90d098-502b-4f43-bf2a-7910387e59ba\"}, {\"hoverinfo\": \"text\", \"marker\": {\"color\": \"blue\", \"size\": 0.5}, \"mode\": \"markers\", \"text\": \"Hadoop appears with Excel 57 times\", \"x\": [-0.89969651793625], \"y\": [0.023370400368562704], \"type\": \"scatter\", \"uid\": \"f1479cfe-e6e4-4641-82c0-f177e2cbc31a\"}, {\"hoverinfo\": \"text\", \"marker\": {\"color\": \"green\", \"size\": 0.5}, \"mode\": \"markers\", \"text\": \"Excel appears with Spark 63 times\", \"x\": [0.8301975134047545], \"y\": [0.34752278880177434], \"type\": \"scatter\", \"uid\": \"1c37e323-a762-4f09-8885-949c704f178a\"}, {\"hoverinfo\": \"text\", \"marker\": {\"color\": \"blue\", \"size\": 0.5}, \"mode\": \"markers\", \"text\": \"Spark appears with Excel 63 times\", \"x\": [-0.886203940889812], \"y\": [-0.15697953736511833], \"type\": \"scatter\", \"uid\": \"aa95483c-daf5-497d-9baf-761190b68e86\"}, {\"hoverinfo\": \"text\", \"marker\": {\"color\": \"green\", \"size\": 0.5}, \"mode\": \"markers\", \"text\": \"Excel appears with Informatica 113 times\", \"x\": [0.8097205622056679], \"y\": [0.3928773487251933], \"type\": \"scatter\", \"uid\": \"66c184c5-c814-45b7-9745-ef19b60e7988\"}, {\"hoverinfo\": \"text\", \"marker\": {\"color\": \"blue\", \"size\": 0.5}, \"mode\": \"markers\", \"text\": \"Informatica appears with Excel 113 times\", \"x\": [-0.8265060105921844], \"y\": [-0.3562131587336324], \"type\": \"scatter\", \"uid\": \"e2584690-8dd7-4705-b624-984002ef60b6\"}, {\"hoverinfo\": \"text\", \"marker\": {\"color\": \"green\", \"size\": 0.5}, \"mode\": \"markers\", \"text\": \"Excel appears with Qlik 309 times\", \"x\": [0.6123707888778234], \"y\": [0.6595468269419179], \"type\": \"scatter\", \"uid\": \"a9db538e-7fca-4431-b2c4-e5efae2dd6ff\"}, {\"hoverinfo\": \"text\", \"marker\": {\"color\": \"blue\", \"size\": 0.5}, \"mode\": \"markers\", \"text\": \"Qlik appears with Excel 309 times\", \"x\": [-0.5905271240301462], \"y\": [-0.6791742896964551], \"type\": \"scatter\", \"uid\": \"6d8b5317-28ad-4e1f-b5b1-e2d39566c7cd\"}, {\"hoverinfo\": \"text\", \"marker\": {\"color\": \"green\", \"size\": 0.5}, \"mode\": \"markers\", \"text\": \"Excel appears with Tableau 334 times\", \"x\": [0.539729515709077], \"y\": [0.7202027838549676], \"type\": \"scatter\", \"uid\": \"65e8d989-ef55-4866-b6d4-3bd64a769b67\"}, {\"hoverinfo\": \"text\", \"marker\": {\"color\": \"blue\", \"size\": 0.5}, \"mode\": \"markers\", \"text\": \"Tableau appears with Excel 334 times\", \"x\": [-0.13681414679840923], \"y\": [-0.8895402684734534], \"type\": \"scatter\", \"uid\": \"b7753c87-6c71-410f-a3e7-54b4d1e34501\"}, {\"hoverinfo\": \"text\", \"marker\": {\"color\": \"green\", \"size\": 0.5}, \"mode\": \"markers\", \"text\": \"Excel appears with Microstrategy 29 times\", \"x\": [0.8631494185382399], \"y\": [0.2548981782537851], \"type\": \"scatter\", \"uid\": \"17fb54c4-65d3-4f5c-899e-59a88395eaa1\"}, {\"hoverinfo\": \"text\", \"marker\": {\"color\": \"blue\", \"size\": 0.5}, \"mode\": \"markers\", \"text\": \"Microstrategy appears with Excel 29 times\", \"x\": [-0.03565611421854324], \"y\": [-0.8992934123626362], \"type\": \"scatter\", \"uid\": \"1dd99060-1d63-486c-881f-04f859a4b0af\"}, {\"hoverinfo\": \"text\", \"marker\": {\"color\": \"green\", \"size\": 0.5}, \"mode\": \"markers\", \"text\": \"Excel appears with Oracle BI 460 times\", \"x\": [0.34477690824794727], \"y\": [0.8313416166288], \"type\": \"scatter\", \"uid\": \"9aace8ec-fceb-4098-8ffc-1545c575f72c\"}, {\"hoverinfo\": \"text\", \"marker\": {\"color\": \"blue\", \"size\": 0.5}, \"mode\": \"markers\", \"text\": \"Oracle BI appears with Excel 460 times\", \"x\": [0.5094795300454396], \"y\": [-0.7419101080755525], \"type\": \"scatter\", \"uid\": \"a6e03f98-ceec-4b35-ae40-a7a4a91e285e\"}, {\"hoverinfo\": \"text\", \"marker\": {\"color\": \"green\", \"size\": 0.5}, \"mode\": \"markers\", \"text\": \"Excel appears with Python 245 times\", \"x\": [0.6695554172254907], \"y\": [0.60141129293022], \"type\": \"scatter\", \"uid\": \"45f71cda-dfba-48bb-9486-9cc749a13b21\"}, {\"hoverinfo\": \"text\", \"marker\": {\"color\": \"blue\", \"size\": 0.5}, \"mode\": \"markers\", \"text\": \"Python appears with Excel 245 times\", \"x\": [0.7897554218036111], \"y\": [-0.43160905195767196], \"type\": \"scatter\", \"uid\": \"512835fd-4dfc-4214-8d14-5e03c61b6be3\"}, {\"hoverinfo\": \"text\", \"marker\": {\"color\": \"green\", \"size\": 0.5}, \"mode\": \"markers\", \"text\": \"Excel appears with VBA 170 times\", \"x\": [0.7440639629723932], \"y\": [0.5063287657301501], \"type\": \"scatter\", \"uid\": \"9cd88f14-0c00-40d1-bfe8-2f31bcc263ba\"}, {\"hoverinfo\": \"text\", \"marker\": {\"color\": \"blue\", \"size\": 0.5}, \"mode\": \"markers\", \"text\": \"VBA appears with Excel 170 times\", \"x\": [0.8572725638646534], \"y\": [-0.2740141442424527], \"type\": \"scatter\", \"uid\": \"a5565dc4-4ae7-4456-81d3-35dd3bb7437d\"}, {\"hoverinfo\": \"text\", \"marker\": {\"color\": \"green\", \"size\": 0.5}, \"mode\": \"markers\", \"text\": \"Excel appears with Linux 54 times\", \"x\": [0.8482840616013463], \"y\": [0.3006894591320477], \"type\": \"scatter\", \"uid\": \"32e696a6-653c-44a9-adba-92c16766308a\"}, {\"hoverinfo\": \"text\", \"marker\": {\"color\": \"blue\", \"size\": 0.5}, \"mode\": \"markers\", \"text\": \"Linux appears with Excel 54 times\", \"x\": [0.8848148653458959], \"y\": [-0.16462883727623204], \"type\": \"scatter\", \"uid\": \"b6c3e985-804d-484c-90dd-9e0f933e5c45\"}, {\"hoverinfo\": \"text\", \"marker\": {\"color\": \"green\", \"size\": 0.5}, \"mode\": \"markers\", \"text\": \"Excel appears with AWS 36 times\", \"x\": [0.8603899624572879], \"y\": [0.26406270562642237], \"type\": \"scatter\", \"uid\": \"7283ebb0-992f-4461-aed2-95eb318f01fa\"}, {\"hoverinfo\": \"text\", \"marker\": {\"color\": \"blue\", \"size\": 0.5}, \"mode\": \"markers\", \"text\": \"AWS appears with Excel 36 times\", \"x\": [0.8983272462410239], \"y\": [-0.05484668322714476], \"type\": \"scatter\", \"uid\": \"d925d6fb-65c1-451b-890f-c353ad8d4c72\"}, {\"hoverinfo\": \"text\", \"marker\": {\"color\": \"green\", \"size\": 0.5}, \"mode\": \"markers\", \"text\": \"SSIS/SSRS appears with MS SQL Server 196 times\", \"x\": [-0.051636451616872005], \"y\": [0.8985174883464531], \"type\": \"scatter\", \"uid\": \"825ab12f-4efe-4ecf-8b0c-a637797ee0ca\"}, {\"hoverinfo\": \"text\", \"marker\": {\"color\": \"blue\", \"size\": 0.5}, \"mode\": \"markers\", \"text\": \"MS SQL Server appears with SSIS/SSRS 196 times\", \"x\": [-0.4543665835620903], \"y\": [0.7768854534241931], \"type\": \"scatter\", \"uid\": \"ce93d37c-9b0c-4ed5-bbd7-00fb30640463\"}, {\"hoverinfo\": \"text\", \"marker\": {\"color\": \"green\", \"size\": 0.5}, \"mode\": \"markers\", \"text\": \"SSIS/SSRS appears with PostgreSQL 18 times\", \"x\": [0.24331691094323993], \"y\": [0.8664853610125445], \"type\": \"scatter\", \"uid\": \"cf2318e3-82db-4732-b1ce-1e4c5a7e0efa\"}, {\"hoverinfo\": \"text\", \"marker\": {\"color\": \"blue\", \"size\": 0.5}, \"mode\": \"markers\", \"text\": \"PostgreSQL appears with SSIS/SSRS 18 times\", \"x\": [-0.5531268320105754], \"y\": [0.7099652862710575], \"type\": \"scatter\", \"uid\": \"0eb50611-eff8-47fc-b0a1-abffedaa5a2a\"}, {\"hoverinfo\": \"text\", \"marker\": {\"color\": \"green\", \"size\": 0.5}, \"mode\": \"markers\", \"text\": \"SSIS/SSRS appears with MySQL/MariaDB 42 times\", \"x\": [0.19788802375266304], \"y\": [0.8779751306587593], \"type\": \"scatter\", \"uid\": \"0e620292-4cfb-4f4d-b51f-570ec1d8f502\"}, {\"hoverinfo\": \"text\", \"marker\": {\"color\": \"blue\", \"size\": 0.5}, \"mode\": \"markers\", \"text\": \"MySQL/MariaDB appears with SSIS/SSRS 42 times\", \"x\": [-0.6535299349988694], \"y\": [0.6187880283751243], \"type\": \"scatter\", \"uid\": \"08a229ef-275a-4051-bf63-13adba2aa665\"}, {\"hoverinfo\": \"text\", \"marker\": {\"color\": \"green\", \"size\": 0.5}, \"mode\": \"markers\", \"text\": \"SSIS/SSRS appears with T-SQL 102 times\", \"x\": [0.10611306851042983], \"y\": [0.8937225613641522], \"type\": \"scatter\", \"uid\": \"78458c4f-57e0-4034-9d10-31ea61ed06f1\"}, {\"hoverinfo\": \"text\", \"marker\": {\"color\": \"blue\", \"size\": 0.5}, \"mode\": \"markers\", \"text\": \"T-SQL appears with SSIS/SSRS 102 times\", \"x\": [-0.7894028898992005], \"y\": [0.43225348745706], \"type\": \"scatter\", \"uid\": \"eb17ddeb-374e-4f13-a4ad-be1050319471\"}, {\"hoverinfo\": \"text\", \"marker\": {\"color\": \"green\", \"size\": 0.5}, \"mode\": \"markers\", \"text\": \"SSIS/SSRS appears with PL/SQL 23 times\", \"x\": [0.23215479156170798], \"y\": [0.8695424962328983], \"type\": \"scatter\", \"uid\": \"f376d48e-e39d-4492-9009-33582aa6e4d3\"}, {\"hoverinfo\": \"text\", \"marker\": {\"color\": \"blue\", \"size\": 0.5}, \"mode\": \"markers\", \"text\": \"PL/SQL appears with SSIS/SSRS 23 times\", \"x\": [-0.8563440194526397], \"y\": [0.2769023660926305], \"type\": \"scatter\", \"uid\": \"63f87850-e1b8-4bb8-8116-a5f81757a981\"}, {\"hoverinfo\": \"text\", \"marker\": {\"color\": \"green\", \"size\": 0.5}, \"mode\": \"markers\", \"text\": \"SSIS/SSRS appears with Pentaho 28 times\", \"x\": [0.22510697885495615], \"y\": [0.8713936240705427], \"type\": \"scatter\", \"uid\": \"d5806377-11ea-4d08-95b4-b4da4059a62f\"}, {\"hoverinfo\": \"text\", \"marker\": {\"color\": \"blue\", \"size\": 0.5}, \"mode\": \"markers\", \"text\": \"Pentaho appears with SSIS/SSRS 28 times\", \"x\": [-0.8768583139422236], \"y\": [0.20277943009684424], \"type\": \"scatter\", \"uid\": \"0abcf601-3879-43bb-b975-370af328716a\"}, {\"hoverinfo\": \"text\", \"marker\": {\"color\": \"green\", \"size\": 0.5}, \"mode\": \"markers\", \"text\": \"SSIS/SSRS appears with Hadoop 28 times\", \"x\": [0.21735122398774345], \"y\": [0.873360432714369], \"type\": \"scatter\", \"uid\": \"8606be78-caed-4616-9395-e1028f53b94b\"}, {\"hoverinfo\": \"text\", \"marker\": {\"color\": \"blue\", \"size\": 0.5}, \"mode\": \"markers\", \"text\": \"Hadoop appears with SSIS/SSRS 28 times\", \"x\": [-0.8982153275483085], \"y\": [0.0566500252187499], \"type\": \"scatter\", \"uid\": \"64e62e6f-a2c6-45cd-80d7-1839698fb386\"}, {\"hoverinfo\": \"text\", \"marker\": {\"color\": \"green\", \"size\": 0.5}, \"mode\": \"markers\", \"text\": \"SSIS/SSRS appears with Spark 35 times\", \"x\": [0.2086054962923254], \"y\": [0.8754905750016002], \"type\": \"scatter\", \"uid\": \"59986113-8262-42de-87fd-78cd1c03f4f2\"}, {\"hoverinfo\": \"text\", \"marker\": {\"color\": \"blue\", \"size\": 0.5}, \"mode\": \"markers\", \"text\": \"Spark appears with SSIS/SSRS 35 times\", \"x\": [-0.891398808262397], \"y\": [-0.12412962832611027], \"type\": \"scatter\", \"uid\": \"47a050a3-2926-461b-bdf6-a9ddbc3998e2\"}, {\"hoverinfo\": \"text\", \"marker\": {\"color\": \"green\", \"size\": 0.5}, \"mode\": \"markers\", \"text\": \"SSIS/SSRS appears with Informatica 57 times\", \"x\": [0.15403470143036102], \"y\": [0.8867205370099757], \"type\": \"scatter\", \"uid\": \"a4c19f03-a94e-43dc-8ace-9ec9fd381e2e\"}, {\"hoverinfo\": \"text\", \"marker\": {\"color\": \"blue\", \"size\": 0.5}, \"mode\": \"markers\", \"text\": \"Informatica appears with SSIS/SSRS 57 times\", \"x\": [-0.848791401815809], \"y\": [-0.29925433364206094], \"type\": \"scatter\", \"uid\": \"e2ca7b4d-9a53-45c0-ae84-532b363a3d17\"}, {\"hoverinfo\": \"text\", \"marker\": {\"color\": \"green\", \"size\": 0.5}, \"mode\": \"markers\", \"text\": \"SSIS/SSRS appears with Qlik 53 times\", \"x\": [0.18462459351397606], \"y\": [0.8808596707023197], \"type\": \"scatter\", \"uid\": \"c6613e27-b003-408e-be53-a9f3ae044008\"}, {\"hoverinfo\": \"text\", \"marker\": {\"color\": \"blue\", \"size\": 0.5}, \"mode\": \"markers\", \"text\": \"Qlik appears with SSIS/SSRS 53 times\", \"x\": [-0.7551539810113388], \"y\": [-0.489635032409576], \"type\": \"scatter\", \"uid\": \"60a0743c-fdeb-4e1e-bf39-c9b89b25e5bf\"}, {\"hoverinfo\": \"text\", \"marker\": {\"color\": \"green\", \"size\": 0.5}, \"mode\": \"markers\", \"text\": \"SSIS/SSRS appears with Tableau 107 times\", \"x\": [0.07640646683723593], \"y\": [0.8967508304013163], \"type\": \"scatter\", \"uid\": \"dd1af24b-6b13-4b55-b557-54d2c9a668ab\"}, {\"hoverinfo\": \"text\", \"marker\": {\"color\": \"blue\", \"size\": 0.5}, \"mode\": \"markers\", \"text\": \"Tableau appears with SSIS/SSRS 107 times\", \"x\": [-0.384102166480258], \"y\": [-0.8139198521385089], \"type\": \"scatter\", \"uid\": \"5d1627eb-fcc2-43f6-b309-e5dc8447703f\"}, {\"hoverinfo\": \"text\", \"marker\": {\"color\": \"green\", \"size\": 0.5}, \"mode\": \"markers\", \"text\": \"SSIS/SSRS appears with Microstrategy 17 times\", \"x\": [0.24812770822589006], \"y\": [0.8651200150329246], \"type\": \"scatter\", \"uid\": \"0f8d70a9-5f9d-4856-955e-aced14c21fb6\"}, {\"hoverinfo\": \"text\", \"marker\": {\"color\": \"blue\", \"size\": 0.5}, \"mode\": \"markers\", \"text\": \"Microstrategy appears with SSIS/SSRS 17 times\", \"x\": [-0.046872012671052066], \"y\": [-0.8987786237045053], \"type\": \"scatter\", \"uid\": \"a58707d5-da80-4a40-93fc-2639672a9e28\"}, {\"hoverinfo\": \"text\", \"marker\": {\"color\": \"green\", \"size\": 0.5}, \"mode\": \"markers\", \"text\": \"SSIS/SSRS appears with Oracle BI 179 times\", \"x\": [0.0019151798975104819], \"y\": [0.899997962267671], \"type\": \"scatter\", \"uid\": \"907e18b5-7511-4d7d-8435-75f0ff50cfb9\"}, {\"hoverinfo\": \"text\", \"marker\": {\"color\": \"blue\", \"size\": 0.5}, \"mode\": \"markers\", \"text\": \"Oracle BI appears with SSIS/SSRS 179 times\", \"x\": [0.28638820507099977], \"y\": [-0.8532184925306125], \"type\": \"scatter\", \"uid\": \"fb1bd351-de49-435d-9c60-fad581ef9f53\"}, {\"hoverinfo\": \"text\", \"marker\": {\"color\": \"green\", \"size\": 0.5}, \"mode\": \"markers\", \"text\": \"SSIS/SSRS appears with Python 118 times\", \"x\": [0.04433259693967983], \"y\": [0.8989074595577589], \"type\": \"scatter\", \"uid\": \"976817f7-a868-4688-9c3b-0e01d9380252\"}, {\"hoverinfo\": \"text\", \"marker\": {\"color\": \"blue\", \"size\": 0.5}, \"mode\": \"markers\", \"text\": \"Python appears with SSIS/SSRS 118 times\", \"x\": [0.763949131897021], \"y\": [-0.4757958846751283], \"type\": \"scatter\", \"uid\": \"6daf63ee-445b-4061-9c73-0df44217971d\"}, {\"hoverinfo\": \"text\", \"marker\": {\"color\": \"green\", \"size\": 0.5}, \"mode\": \"markers\", \"text\": \"SSIS/SSRS appears with VBA 54 times\", \"x\": [0.1696356494122643], \"y\": [0.8838686251069665], \"type\": \"scatter\", \"uid\": \"f416e42b-b341-4c26-a2d0-2da0384753a7\"}, {\"hoverinfo\": \"text\", \"marker\": {\"color\": \"blue\", \"size\": 0.5}, \"mode\": \"markers\", \"text\": \"VBA appears with SSIS/SSRS 54 times\", \"x\": [0.8436578880530222], \"y\": [-0.31343479054807266], \"type\": \"scatter\", \"uid\": \"bd0348f9-5ec4-4446-a4b3-c95cba9ffa5d\"}, {\"hoverinfo\": \"text\", \"marker\": {\"color\": \"green\", \"size\": 0.5}, \"mode\": \"markers\", \"text\": \"SSIS/SSRS appears with Linux 14 times\", \"x\": [0.2523823073626533], \"y\": [0.8638884018959296], \"type\": \"scatter\", \"uid\": \"b10370ee-84bd-484f-9e9a-2fc9b1ff5963\"}, {\"hoverinfo\": \"text\", \"marker\": {\"color\": \"blue\", \"size\": 0.5}, \"mode\": \"markers\", \"text\": \"Linux appears with SSIS/SSRS 14 times\", \"x\": [0.8728626247012587], \"y\": [-0.2193418300270826], \"type\": \"scatter\", \"uid\": \"20b74c51-cb22-412e-9245-6153acbef3e2\"}, {\"hoverinfo\": \"text\", \"marker\": {\"color\": \"green\", \"size\": 0.5}, \"mode\": \"markers\", \"text\": \"SSIS/SSRS appears with AWS 20 times\", \"x\": [0.23808525880645495], \"y\": [0.8679374456371054], \"type\": \"scatter\", \"uid\": \"d5ea3202-61f7-41d5-85e5-3765e498b092\"}, {\"hoverinfo\": \"text\", \"marker\": {\"color\": \"blue\", \"size\": 0.5}, \"mode\": \"markers\", \"text\": \"AWS appears with SSIS/SSRS 20 times\", \"x\": [0.8963528859188146], \"y\": [-0.0809413609041294], \"type\": \"scatter\", \"uid\": \"1e014d34-ca4d-42bf-b0e9-643123de6721\"}, {\"hoverinfo\": \"text\", \"marker\": {\"color\": \"green\", \"size\": 0.5}, \"mode\": \"markers\", \"text\": \"MS SQL Server appears with PostgreSQL 36 times\", \"x\": [-0.25402634697091964], \"y\": [0.8634064020173872], \"type\": \"scatter\", \"uid\": \"56206588-81a6-44ae-8eb1-8df668c8836d\"}, {\"hoverinfo\": \"text\", \"marker\": {\"color\": \"blue\", \"size\": 0.5}, \"mode\": \"markers\", \"text\": \"PostgreSQL appears with MS SQL Server 36 times\", \"x\": [-0.5789368907296922], \"y\": [0.6890806023624787], \"type\": \"scatter\", \"uid\": \"c3dfc0c5-b701-4a46-8b7b-547b39f5b0de\"}, {\"hoverinfo\": \"text\", \"marker\": {\"color\": \"green\", \"size\": 0.5}, \"mode\": \"markers\", \"text\": \"MS SQL Server appears with MySQL/MariaDB 50 times\", \"x\": [-0.3003000070367253], \"y\": [0.8484220092464261], \"type\": \"scatter\", \"uid\": \"9022fde8-9aeb-4f83-85c4-e33391126ee7\"}, {\"hoverinfo\": \"text\", \"marker\": {\"color\": \"blue\", \"size\": 0.5}, \"mode\": \"markers\", \"text\": \"MySQL/MariaDB appears with MS SQL Server 50 times\", \"x\": [-0.6687020333891306], \"y\": [0.6023600173826631], \"type\": \"scatter\", \"uid\": \"c45d65a2-3769-449e-bfe7-bb6b0a1a756b\"}, {\"hoverinfo\": \"text\", \"marker\": {\"color\": \"green\", \"size\": 0.5}, \"mode\": \"markers\", \"text\": \"MS SQL Server appears with T-SQL 140 times\", \"x\": [-0.41298229782304685], \"y\": [0.7996534384874464], \"type\": \"scatter\", \"uid\": \"9dbd59e2-c554-43aa-be8b-2e6f8294d494\"}, {\"hoverinfo\": \"text\", \"marker\": {\"color\": \"blue\", \"size\": 0.5}, \"mode\": \"markers\", \"text\": \"T-SQL appears with MS SQL Server 140 times\", \"x\": [-0.8168164586453832], \"y\": [0.37790325863376073], \"type\": \"scatter\", \"uid\": \"d02afb0c-6130-49e6-a20f-c563689801e2\"}, {\"hoverinfo\": \"text\", \"marker\": {\"color\": \"green\", \"size\": 0.5}, \"mode\": \"markers\", \"text\": \"MS SQL Server appears with PL/SQL 10 times\", \"x\": [-0.21466484850180026], \"y\": [0.874024600808066], \"type\": \"scatter\", \"uid\": \"08c745ff-347e-49a8-b615-85cc146f400b\"}, {\"hoverinfo\": \"text\", \"marker\": {\"color\": \"blue\", \"size\": 0.5}, \"mode\": \"markers\", \"text\": \"PL/SQL appears with MS SQL Server 10 times\", \"x\": [-0.8515357806021686], \"y\": [0.2913534182985595], \"type\": \"scatter\", \"uid\": \"7224b629-cad8-4a96-9dc7-bd6ebe078517\"}, {\"hoverinfo\": \"text\", \"marker\": {\"color\": \"green\", \"size\": 0.5}, \"mode\": \"markers\", \"text\": \"MS SQL Server appears with Pentaho 39 times\", \"x\": [-0.2641244359396658], \"y\": [0.8603710143534319], \"type\": \"scatter\", \"uid\": \"0d7dd7e1-6c0c-4d1f-9f9f-46633d244a0f\"}, {\"hoverinfo\": \"text\", \"marker\": {\"color\": \"blue\", \"size\": 0.5}, \"mode\": \"markers\", \"text\": \"Pentaho appears with MS SQL Server 39 times\", \"x\": [-0.8888470670360195], \"y\": [0.14124762448078942], \"type\": \"scatter\", \"uid\": \"63f3ecdd-e5df-4108-8491-e66b590d629b\"}, {\"hoverinfo\": \"text\", \"marker\": {\"color\": \"green\", \"size\": 0.5}, \"mode\": \"markers\", \"text\": \"MS SQL Server appears with Hadoop 24 times\", \"x\": [-0.2285636251983977], \"y\": [0.8704933481860538], \"type\": \"scatter\", \"uid\": \"970178de-a4dc-4a1f-9149-acf10077cee6\"}, {\"hoverinfo\": \"text\", \"marker\": {\"color\": \"blue\", \"size\": 0.5}, \"mode\": \"markers\", \"text\": \"Hadoop appears with MS SQL Server 24 times\", \"x\": [-0.8977835933269486], \"y\": [0.06312384298307813], \"type\": \"scatter\", \"uid\": \"7b7270da-9b21-4b16-8d97-3b899987e96a\"}, {\"hoverinfo\": \"text\", \"marker\": {\"color\": \"green\", \"size\": 0.5}, \"mode\": \"markers\", \"text\": \"MS SQL Server appears with Spark 20 times\", \"x\": [-0.2225749852284369], \"y\": [0.87204379244999], \"type\": \"scatter\", \"uid\": \"80964db9-4ead-4f3d-896e-45b1f09dff54\"}, {\"hoverinfo\": \"text\", \"marker\": {\"color\": \"blue\", \"size\": 0.5}, \"mode\": \"markers\", \"text\": \"Spark appears with MS SQL Server 20 times\", \"x\": [-0.8947253249998071], \"y\": [-0.09729641722072582], \"type\": \"scatter\", \"uid\": \"55be8af6-df5b-4bfb-9636-0688e50c29f6\"}, {\"hoverinfo\": \"text\", \"marker\": {\"color\": \"green\", \"size\": 0.5}, \"mode\": \"markers\", \"text\": \"MS SQL Server appears with Informatica 50 times\", \"x\": [-0.28701031065044313], \"y\": [0.8530094264311129], \"type\": \"scatter\", \"uid\": \"e99c455c-a025-4f1a-91e6-f933f4a6b0fe\"}, {\"hoverinfo\": \"text\", \"marker\": {\"color\": \"blue\", \"size\": 0.5}, \"mode\": \"markers\", \"text\": \"Informatica appears with MS SQL Server 50 times\", \"x\": [-0.8533016555460348], \"y\": [-0.28614032334223055], \"type\": \"scatter\", \"uid\": \"3735f7ef-ed6f-4f7a-827b-b1afc8ea4ee7\"}, {\"hoverinfo\": \"text\", \"marker\": {\"color\": \"green\", \"size\": 0.5}, \"mode\": \"markers\", \"text\": \"MS SQL Server appears with Qlik 41 times\", \"x\": [-0.27485573575130223], \"y\": [0.8570031064848076], \"type\": \"scatter\", \"uid\": \"3d126e95-8052-478e-81d6-15a5beaca420\"}, {\"hoverinfo\": \"text\", \"marker\": {\"color\": \"blue\", \"size\": 0.5}, \"mode\": \"markers\", \"text\": \"Qlik appears with MS SQL Server 41 times\", \"x\": [-0.7700118925880145], \"y\": [-0.46592025634546524], \"type\": \"scatter\", \"uid\": \"221394fb-e819-4197-9e8b-d9d7207cad6f\"}, {\"hoverinfo\": \"text\", \"marker\": {\"color\": \"green\", \"size\": 0.5}, \"mode\": \"markers\", \"text\": \"MS SQL Server appears with Tableau 69 times\", \"x\": [-0.3160189907563484], \"y\": [0.8426932997724256], \"type\": \"scatter\", \"uid\": \"24279f75-d0e6-43d2-8ec4-9f6b5366ceea\"}, {\"hoverinfo\": \"text\", \"marker\": {\"color\": \"blue\", \"size\": 0.5}, \"mode\": \"markers\", \"text\": \"Tableau appears with MS SQL Server 69 times\", \"x\": [-0.4469978566372136], \"y\": [-0.7811484597448408], \"type\": \"scatter\", \"uid\": \"4e3e74b5-429b-4576-9f0e-eaff31246c3d\"}, {\"hoverinfo\": \"text\", \"marker\": {\"color\": \"green\", \"size\": 0.5}, \"mode\": \"markers\", \"text\": \"MS SQL Server appears with Microstrategy 14 times\", \"x\": [-0.21794018295618411], \"y\": [0.8732136489159025], \"type\": \"scatter\", \"uid\": \"3a3183da-c608-4eb1-80ad-d2989190ca9f\"}, {\"hoverinfo\": \"text\", \"marker\": {\"color\": \"blue\", \"size\": 0.5}, \"mode\": \"markers\", \"text\": \"Microstrategy appears with MS SQL Server 14 times\", \"x\": [-0.04967491564135055], \"y\": [-0.898628066975445], \"type\": \"scatter\", \"uid\": \"376cb506-e079-4763-9292-3281673ad59b\"}, {\"hoverinfo\": \"text\", \"marker\": {\"color\": \"green\", \"size\": 0.5}, \"mode\": \"markers\", \"text\": \"MS SQL Server appears with Oracle BI 111 times\", \"x\": [-0.38131859564472737], \"y\": [0.8152276544717635], \"type\": \"scatter\", \"uid\": \"e82eeb06-f1b9-4d7e-b164-1d240b8dcfcb\"}, {\"hoverinfo\": \"text\", \"marker\": {\"color\": \"blue\", \"size\": 0.5}, \"mode\": \"markers\", \"text\": \"Oracle BI appears with MS SQL Server 111 times\", \"x\": [0.21418451622595558], \"y\": [-0.8741424329072771], \"type\": \"scatter\", \"uid\": \"53ff59bb-11b8-46dc-9bbb-39836f5d525f\"}, {\"hoverinfo\": \"text\", \"marker\": {\"color\": \"green\", \"size\": 0.5}, \"mode\": \"markers\", \"text\": \"MS SQL Server appears with Python 77 times\", \"x\": [-0.33515472769259047], \"y\": [0.8352672078474681], \"type\": \"scatter\", \"uid\": \"887b6839-0782-4a5b-b778-3a122501857a\"}, {\"hoverinfo\": \"text\", \"marker\": {\"color\": \"blue\", \"size\": 0.5}, \"mode\": \"markers\", \"text\": \"Python appears with MS SQL Server 77 times\", \"x\": [0.679904218178394], \"y\": [-0.5896865727683028], \"type\": \"scatter\", \"uid\": \"5b18ade9-5be5-4904-afe4-4b355c7e645d\"}, {\"hoverinfo\": \"text\", \"marker\": {\"color\": \"green\", \"size\": 0.5}, \"mode\": \"markers\", \"text\": \"MS SQL Server appears with VBA 33 times\", \"x\": [-0.2447052760637639], \"y\": [0.8660942950202115], \"type\": \"scatter\", \"uid\": \"fd737159-7d9b-4afe-b581-143da40b8acd\"}, {\"hoverinfo\": \"text\", \"marker\": {\"color\": \"blue\", \"size\": 0.5}, \"mode\": \"markers\", \"text\": \"VBA appears with MS SQL Server 33 times\", \"x\": [0.8303180929328065], \"y\": [-0.3472345958403736], \"type\": \"scatter\", \"uid\": \"6b7bb81e-9863-4c20-b31f-2bf917c4df27\"}, {\"hoverinfo\": \"text\", \"marker\": {\"color\": \"green\", \"size\": 0.5}, \"mode\": \"markers\", \"text\": \"MS SQL Server appears with Linux 31 times\", \"x\": [-0.23603420698235691], \"y\": [0.8684974686976411], \"type\": \"scatter\", \"uid\": \"6ed44481-8799-431d-a276-049c3e56aa22\"}, {\"hoverinfo\": \"text\", \"marker\": {\"color\": \"blue\", \"size\": 0.5}, \"mode\": \"markers\", \"text\": \"Linux appears with MS SQL Server 31 times\", \"x\": [0.8807320680533325], \"y\": [-0.18523235220257864], \"type\": \"scatter\", \"uid\": \"86bebb24-3680-435e-b1e8-f768025d87a0\"}, {\"hoverinfo\": \"text\", \"marker\": {\"color\": \"green\", \"size\": 0.5}, \"mode\": \"markers\", \"text\": \"MS SQL Server appears with AWS 9 times\", \"x\": [-0.2120697332106579], \"y\": [0.874657892124664], \"type\": \"scatter\", \"uid\": \"4004a32e-8e58-4c3c-a306-8729d162bfc6\"}, {\"hoverinfo\": \"text\", \"marker\": {\"color\": \"blue\", \"size\": 0.5}, \"mode\": \"markers\", \"text\": \"AWS appears with MS SQL Server 9 times\", \"x\": [0.8950242996807649], \"y\": [-0.09450662929634301], \"type\": \"scatter\", \"uid\": \"08bffa30-5389-4b64-be96-f4ac1a055c85\"}, {\"hoverinfo\": \"text\", \"marker\": {\"color\": \"green\", \"size\": 0.5}, \"mode\": \"markers\", \"text\": \"PostgreSQL appears with MySQL/MariaDB 50 times\", \"x\": [-0.5919419741410705], \"y\": [0.6779415160985292], \"type\": \"scatter\", \"uid\": \"594144eb-b3a5-4c6d-a15f-46ea178fc9d3\"}, {\"hoverinfo\": \"text\", \"marker\": {\"color\": \"blue\", \"size\": 0.5}, \"mode\": \"markers\", \"text\": \"MySQL/MariaDB appears with PostgreSQL 50 times\", \"x\": [-0.6769531791621064], \"y\": [0.5930719966600321], \"type\": \"scatter\", \"uid\": \"3e072774-dd65-408c-8fe9-15bd62baec5f\"}, {\"hoverinfo\": \"text\", \"marker\": {\"color\": \"green\", \"size\": 0.5}, \"mode\": \"markers\", \"text\": \"PostgreSQL appears with T-SQL 27 times\", \"x\": [-0.5680740175079393], \"y\": [0.6980629703919192], \"type\": \"scatter\", \"uid\": \"c6c6823c-02af-496b-8808-e95ccb99ea71\"}, {\"hoverinfo\": \"text\", \"marker\": {\"color\": \"blue\", \"size\": 0.5}, \"mode\": \"markers\", \"text\": \"T-SQL appears with PostgreSQL 27 times\", \"x\": [-0.7386033895966807], \"y\": [0.5142616385423803], \"type\": \"scatter\", \"uid\": \"223e7661-3f50-4b69-943d-528ced2f79fc\"}, {\"hoverinfo\": \"text\", \"marker\": {\"color\": \"green\", \"size\": 0.5}, \"mode\": \"markers\", \"text\": \"PostgreSQL appears with Pentaho 36 times\", \"x\": [-0.5731608617107739], \"y\": [0.6938923739334244], \"type\": \"scatter\", \"uid\": \"a0d998d8-d8cd-43db-8985-9dc437c59c1b\"}, {\"hoverinfo\": \"text\", \"marker\": {\"color\": \"blue\", \"size\": 0.5}, \"mode\": \"markers\", \"text\": \"Pentaho appears with PostgreSQL 36 times\", \"x\": [-0.8873741588595364], \"y\": [0.15022350744251078], \"type\": \"scatter\", \"uid\": \"6601ce65-8186-4031-84ae-c60e44c26330\"}, {\"hoverinfo\": \"text\", \"marker\": {\"color\": \"green\", \"size\": 0.5}, \"mode\": \"markers\", \"text\": \"PostgreSQL appears with Hadoop 3 times\", \"x\": [-0.5482543209431634], \"y\": [0.713734684296028], \"type\": \"scatter\", \"uid\": \"174ee02c-30d6-43e9-92e9-8e690d4b0836\"}, {\"hoverinfo\": \"text\", \"marker\": {\"color\": \"blue\", \"size\": 0.5}, \"mode\": \"markers\", \"text\": \"Hadoop appears with PostgreSQL 3 times\", \"x\": [-0.896333346844713], \"y\": [0.08115744780459452], \"type\": \"scatter\", \"uid\": \"a9497f53-f596-4ca1-9770-0cd645f791e3\"}, {\"hoverinfo\": \"text\", \"marker\": {\"color\": \"green\", \"size\": 0.5}, \"mode\": \"markers\", \"text\": \"PostgreSQL appears with Spark 5 times\", \"x\": [-0.5489165108169294], \"y\": [0.713225535263964], \"type\": \"scatter\", \"uid\": \"148ac265-c74a-4850-bae3-17db30ca1b8a\"}, {\"hoverinfo\": \"text\", \"marker\": {\"color\": \"blue\", \"size\": 0.5}, \"mode\": \"markers\", \"text\": \"Spark appears with PostgreSQL 5 times\", \"x\": [-0.8967256450147224], \"y\": [-0.07670148351192564], \"type\": \"scatter\", \"uid\": \"06fc18e9-b12f-402d-bc36-b4ebca57b94f\"}, {\"hoverinfo\": \"text\", \"marker\": {\"color\": \"green\", \"size\": 0.5}, \"mode\": \"markers\", \"text\": \"PostgreSQL appears with Qlik 9 times\", \"x\": [-0.5509002411622698], \"y\": [0.7116944037206933], \"type\": \"scatter\", \"uid\": \"ed37df6d-e10f-4a1c-b83a-4e0da730731c\"}, {\"hoverinfo\": \"text\", \"marker\": {\"color\": \"blue\", \"size\": 0.5}, \"mode\": \"markers\", \"text\": \"Qlik appears with PostgreSQL 9 times\", \"x\": [-0.7940473067065841], \"y\": [-0.4236612735570954], \"type\": \"scatter\", \"uid\": \"4f5e0ef4-52aa-43d6-9141-d1b3bd6d6598\"}, {\"hoverinfo\": \"text\", \"marker\": {\"color\": \"green\", \"size\": 0.5}, \"mode\": \"markers\", \"text\": \"PostgreSQL appears with Tableau 5 times\", \"x\": [-0.5497435831713066], \"y\": [0.7125882350712597], \"type\": \"scatter\", \"uid\": \"be0088a9-8698-4f39-a78f-2eee26fc5992\"}, {\"hoverinfo\": \"text\", \"marker\": {\"color\": \"blue\", \"size\": 0.5}, \"mode\": \"markers\", \"text\": \"Tableau appears with PostgreSQL 5 times\", \"x\": [-0.5338253188384613], \"y\": [-0.7245899039919168], \"type\": \"scatter\", \"uid\": \"a9444127-da74-43f5-8206-f5b340503303\"}, {\"hoverinfo\": \"text\", \"marker\": {\"color\": \"green\", \"size\": 0.5}, \"mode\": \"markers\", \"text\": \"PostgreSQL appears with Oracle BI 24 times\", \"x\": [-0.559855709977184], \"y\": [0.7046712595288269], \"type\": \"scatter\", \"uid\": \"6b15c623-1272-4123-8580-c993dca8c0be\"}, {\"hoverinfo\": \"text\", \"marker\": {\"color\": \"blue\", \"size\": 0.5}, \"mode\": \"markers\", \"text\": \"Oracle BI appears with PostgreSQL 24 times\", \"x\": [0.013171251427383004], \"y\": [-0.8999036160255368], \"type\": \"scatter\", \"uid\": \"dfeec552-6055-4a8f-8aac-715fb2a0238b\"}, {\"hoverinfo\": \"text\", \"marker\": {\"color\": \"green\", \"size\": 0.5}, \"mode\": \"markers\", \"text\": \"PostgreSQL appears with Python 20 times\", \"x\": [-0.556251353276063], \"y\": [0.707519916312289], \"type\": \"scatter\", \"uid\": \"f92ad6b6-6f17-415d-8d41-02f4a80ecdc6\"}, {\"hoverinfo\": \"text\", \"marker\": {\"color\": \"blue\", \"size\": 0.5}, \"mode\": \"markers\", \"text\": \"Python appears with PostgreSQL 20 times\", \"x\": [0.5897640530661832], \"y\": [-0.6798370111364549], \"type\": \"scatter\", \"uid\": \"086c2708-d8ec-45ec-8a18-d3dc8af2bae1\"}, {\"hoverinfo\": \"text\", \"marker\": {\"color\": \"green\", \"size\": 0.5}, \"mode\": \"markers\", \"text\": \"PostgreSQL appears with Linux 25 times\", \"x\": [-0.5638524794737956], \"y\": [0.7014772850144565], \"type\": \"scatter\", \"uid\": \"9e9ddad3-319b-4970-9570-4736e4a8b077\"}, {\"hoverinfo\": \"text\", \"marker\": {\"color\": \"blue\", \"size\": 0.5}, \"mode\": \"markers\", \"text\": \"Linux appears with PostgreSQL 25 times\", \"x\": [0.8761966915414232], \"y\": [-0.2056194488171393], \"type\": \"scatter\", \"uid\": \"4e56c73a-9d91-4b13-847d-2e35bb583902\"}, {\"hoverinfo\": \"text\", \"marker\": {\"color\": \"green\", \"size\": 0.5}, \"mode\": \"markers\", \"text\": \"MySQL/MariaDB appears with T-SQL 33 times\", \"x\": [-0.6338221684928934], \"y\": [0.6389596690926325], \"type\": \"scatter\", \"uid\": \"b58864b3-e927-4406-8fc7-c36459c534da\"}, {\"hoverinfo\": \"text\", \"marker\": {\"color\": \"blue\", \"size\": 0.5}, \"mode\": \"markers\", \"text\": \"T-SQL appears with MySQL/MariaDB 33 times\", \"x\": [-0.7566828050409258], \"y\": [0.4872690556103439], \"type\": \"scatter\", \"uid\": \"4614dee6-8c96-40fd-a802-dff82f4f30e7\"}, {\"hoverinfo\": \"text\", \"marker\": {\"color\": \"green\", \"size\": 0.5}, \"mode\": \"markers\", \"text\": \"MySQL/MariaDB appears with Pentaho 54 times\", \"x\": [-0.6853975096939691], \"y\": [0.5832925969916862], \"type\": \"scatter\", \"uid\": \"b69c6892-d842-436f-80c1-6d2b99bbddec\"}, {\"hoverinfo\": \"text\", \"marker\": {\"color\": \"blue\", \"size\": 0.5}, \"mode\": \"markers\", \"text\": \"Pentaho appears with MySQL/MariaDB 54 times\", \"x\": [-0.8905473686703803], \"y\": [0.1300975947289645], \"type\": \"scatter\", \"uid\": \"44e69c25-0180-49fb-a5a5-dd8c894c896f\"}, {\"hoverinfo\": \"text\", \"marker\": {\"color\": \"green\", \"size\": 0.5}, \"mode\": \"markers\", \"text\": \"MySQL/MariaDB appears with Hadoop 3 times\", \"x\": [-0.6173900214533447], \"y\": [0.6548507932421238], \"type\": \"scatter\", \"uid\": \"5ed6fba6-6e4d-4075-bd5d-20f394060ee6\"}, {\"hoverinfo\": \"text\", \"marker\": {\"color\": \"blue\", \"size\": 0.5}, \"mode\": \"markers\", \"text\": \"Hadoop appears with MySQL/MariaDB 3 times\", \"x\": [-0.8964005452912256], \"y\": [0.08041182998535387], \"type\": \"scatter\", \"uid\": \"9e94bf6c-a50c-4d60-9e62-8bc05ffe7cb9\"}, {\"hoverinfo\": \"text\", \"marker\": {\"color\": \"green\", \"size\": 0.5}, \"mode\": \"markers\", \"text\": \"MySQL/MariaDB appears with Spark 18 times\", \"x\": [-0.6239575561355342], \"y\": [0.6485961518089448], \"type\": \"scatter\", \"uid\": \"c3e2008c-c8be-458e-ba08-08a3dd96f6a0\"}, {\"hoverinfo\": \"text\", \"marker\": {\"color\": \"blue\", \"size\": 0.5}, \"mode\": \"markers\", \"text\": \"Spark appears with MySQL/MariaDB 18 times\", \"x\": [-0.8952339759693916], \"y\": [-0.09249934199784811], \"type\": \"scatter\", \"uid\": \"e831ddc0-8d8b-46fc-bbc5-bdafcfe164eb\"}, {\"hoverinfo\": \"text\", \"marker\": {\"color\": \"green\", \"size\": 0.5}, \"mode\": \"markers\", \"text\": \"MySQL/MariaDB appears with Informatica 8 times\", \"x\": [-0.6192857652285598], \"y\": [0.653058298305195], \"type\": \"scatter\", \"uid\": \"1bdfc601-db6e-4867-ae08-480e7401f06c\"}, {\"hoverinfo\": \"text\", \"marker\": {\"color\": \"blue\", \"size\": 0.5}, \"mode\": \"markers\", \"text\": \"Informatica appears with MySQL/MariaDB 8 times\", \"x\": [-0.8635610246415308], \"y\": [-0.25350021049314625], \"type\": \"scatter\", \"uid\": \"e74301cf-88ad-42de-b619-4e015193c66d\"}, {\"hoverinfo\": \"text\", \"marker\": {\"color\": \"green\", \"size\": 0.5}, \"mode\": \"markers\", \"text\": \"MySQL/MariaDB appears with Qlik 13 times\", \"x\": [-0.6211763047994852], \"y\": [0.651260315354511], \"type\": \"scatter\", \"uid\": \"3ba21c99-2c23-43ff-bb88-76d2fea6da07\"}, {\"hoverinfo\": \"text\", \"marker\": {\"color\": \"blue\", \"size\": 0.5}, \"mode\": \"markers\", \"text\": \"Qlik appears with MySQL/MariaDB 13 times\", \"x\": [-0.7900200108066106], \"y\": [-0.4311245556972173], \"type\": \"scatter\", \"uid\": \"c00647db-cb92-42ef-8948-fa51abab0230\"}, {\"hoverinfo\": \"text\", \"marker\": {\"color\": \"green\", \"size\": 0.5}, \"mode\": \"markers\", \"text\": \"MySQL/MariaDB appears with Tableau 35 times\", \"x\": [-0.639791995894951], \"y\": [0.6329819918360673], \"type\": \"scatter\", \"uid\": \"a9af0cec-da54-4a05-8621-59e8ad018c92\"}, {\"hoverinfo\": \"text\", \"marker\": {\"color\": \"blue\", \"size\": 0.5}, \"mode\": \"markers\", \"text\": \"Tableau appears with MySQL/MariaDB 35 times\", \"x\": [-0.487248709745643], \"y\": [-0.7566959064586025], \"type\": \"scatter\", \"uid\": \"7846fbd6-849a-4184-b46f-48a4fc9ec481\"}, {\"hoverinfo\": \"text\", \"marker\": {\"color\": \"green\", \"size\": 0.5}, \"mode\": \"markers\", \"text\": \"MySQL/MariaDB appears with Oracle BI 44 times\", \"x\": [-0.6608297423034014], \"y\": [0.6109861305195234], \"type\": \"scatter\", \"uid\": \"4c6436e6-95c2-4bbd-9e2f-660ab90e1f64\"}, {\"hoverinfo\": \"text\", \"marker\": {\"color\": \"blue\", \"size\": 0.5}, \"mode\": \"markers\", \"text\": \"Oracle BI appears with MySQL/MariaDB 44 times\", \"x\": [0.07058507893858598], \"y\": [-0.8972278120027453], \"type\": \"scatter\", \"uid\": \"7b9d923f-5a9a-42d2-9a56-109fc75a1e96\"}, {\"hoverinfo\": \"text\", \"marker\": {\"color\": \"green\", \"size\": 0.5}, \"mode\": \"markers\", \"text\": \"MySQL/MariaDB appears with Python 41 times\", \"x\": [-0.6463974192867169], \"y\": [0.6262350807320461], \"type\": \"scatter\", \"uid\": \"4ff8657f-afe2-4070-9dbc-bb3517533728\"}, {\"hoverinfo\": \"text\", \"marker\": {\"color\": \"blue\", \"size\": 0.5}, \"mode\": \"markers\", \"text\": \"Python appears with MySQL/MariaDB 41 times\", \"x\": [0.6145915362716323], \"y\": [-0.6574779414879826], \"type\": \"scatter\", \"uid\": \"393f2411-bdee-4285-874e-37ccc5d6e1bc\"}, {\"hoverinfo\": \"text\", \"marker\": {\"color\": \"green\", \"size\": 0.5}, \"mode\": \"markers\", \"text\": \"MySQL/MariaDB appears with VBA 2 times\", \"x\": [-0.6169378885790748], \"y\": [0.6552767672026782], \"type\": \"scatter\", \"uid\": \"bbe1452b-e40d-425a-9474-441807421ff0\"}, {\"hoverinfo\": \"text\", \"marker\": {\"color\": \"blue\", \"size\": 0.5}, \"mode\": \"markers\", \"text\": \"VBA appears with MySQL/MariaDB 2 times\", \"x\": [0.8183486889710424], \"y\": [-0.37457365531945275], \"type\": \"scatter\", \"uid\": \"17ac1b63-1d6a-4fb6-9313-275b163106fb\"}, {\"hoverinfo\": \"text\", \"marker\": {\"color\": \"green\", \"size\": 0.5}, \"mode\": \"markers\", \"text\": \"MySQL/MariaDB appears with Linux 30 times\", \"x\": [-0.628241448206352], \"y\": [0.6444475795249646], \"type\": \"scatter\", \"uid\": \"265153b0-d9ca-47ac-b107-47a2d248eb8e\"}, {\"hoverinfo\": \"text\", \"marker\": {\"color\": \"blue\", \"size\": 0.5}, \"mode\": \"markers\", \"text\": \"Linux appears with MySQL/MariaDB 30 times\", \"x\": [0.8792137346697936], \"y\": [-0.1923101889344239], \"type\": \"scatter\", \"uid\": \"c8af6d85-e886-4c56-9344-bbc9363cbfa4\"}, {\"hoverinfo\": \"text\", \"marker\": {\"color\": \"green\", \"size\": 0.5}, \"mode\": \"markers\", \"text\": \"T-SQL appears with PL/SQL 28 times\", \"x\": [-0.7428677917678154], \"y\": [0.508082123237976], \"type\": \"scatter\", \"uid\": \"48282843-3b8b-4db5-9ce0-5ff4af010f5b\"}, {\"hoverinfo\": \"text\", \"marker\": {\"color\": \"blue\", \"size\": 0.5}, \"mode\": \"markers\", \"text\": \"PL/SQL appears with T-SQL 28 times\", \"x\": [-0.8578725331052983], \"y\": [0.2721299633327775], \"type\": \"scatter\", \"uid\": \"ed132fc9-e854-483d-aea6-1d797572e2cf\"}, {\"hoverinfo\": \"text\", \"marker\": {\"color\": \"green\", \"size\": 0.5}, \"mode\": \"markers\", \"text\": \"T-SQL appears with Pentaho 31 times\", \"x\": [-0.7519170778881058], \"y\": [0.49459145562798823], \"type\": \"scatter\", \"uid\": \"c82ca391-286c-4c44-a2ac-45bc80f962b9\"}, {\"hoverinfo\": \"text\", \"marker\": {\"color\": \"blue\", \"size\": 0.5}, \"mode\": \"markers\", \"text\": \"Pentaho appears with T-SQL 31 times\", \"x\": [-0.881494035718821], \"y\": [0.18157165250155624], \"type\": \"scatter\", \"uid\": \"cfff7371-217d-415f-b32d-c4a77c4a0f89\"}, {\"hoverinfo\": \"text\", \"marker\": {\"color\": \"green\", \"size\": 0.5}, \"mode\": \"markers\", \"text\": \"T-SQL appears with Hadoop 16 times\", \"x\": [-0.7277583142351781], \"y\": [0.5294977205442642], \"type\": \"scatter\", \"uid\": \"b524c441-8ead-429e-a9d0-8b63d57c1ea6\"}, {\"hoverinfo\": \"text\", \"marker\": {\"color\": \"blue\", \"size\": 0.5}, \"mode\": \"markers\", \"text\": \"Hadoop appears with T-SQL 16 times\", \"x\": [-0.8970887630323138], \"y\": [0.07233084571020344], \"type\": \"scatter\", \"uid\": \"fecfba33-0bd6-4e07-b2d1-af7e0c8a3755\"}, {\"hoverinfo\": \"text\", \"marker\": {\"color\": \"green\", \"size\": 0.5}, \"mode\": \"markers\", \"text\": \"T-SQL appears with Spark 16 times\", \"x\": [-0.7251797107320087], \"y\": [0.5330238147987763], \"type\": \"scatter\", \"uid\": \"ac16ac05-909d-4692-be96-86475f23d8dd\"}, {\"hoverinfo\": \"text\", \"marker\": {\"color\": \"blue\", \"size\": 0.5}, \"mode\": \"markers\", \"text\": \"Spark appears with T-SQL 16 times\", \"x\": [-0.8956672842516435], \"y\": [-0.0882049654003995], \"type\": \"scatter\", \"uid\": \"51823595-2741-4196-8148-8abdb509b360\"}, {\"hoverinfo\": \"text\", \"marker\": {\"color\": \"green\", \"size\": 0.5}, \"mode\": \"markers\", \"text\": \"T-SQL appears with Informatica 11 times\", \"x\": [-0.7229907228517526], \"y\": [0.5359891926805057], \"type\": \"scatter\", \"uid\": \"66da4715-ef37-4f89-af7f-71cd71ab2deb\"}, {\"hoverinfo\": \"text\", \"marker\": {\"color\": \"blue\", \"size\": 0.5}, \"mode\": \"markers\", \"text\": \"Informatica appears with T-SQL 11 times\", \"x\": [-0.8628641726639755], \"y\": [-0.25586211038939105], \"type\": \"scatter\", \"uid\": \"f986c736-6e26-41c9-9721-7a6cafb1a417\"}, {\"hoverinfo\": \"text\", \"marker\": {\"color\": \"green\", \"size\": 0.5}, \"mode\": \"markers\", \"text\": \"T-SQL appears with Qlik 52 times\", \"x\": [-0.7690652448826621], \"y\": [0.4674811751435249], \"type\": \"scatter\", \"uid\": \"d0c8d41a-e949-4461-9c61-20c60e90f576\"}, {\"hoverinfo\": \"text\", \"marker\": {\"color\": \"blue\", \"size\": 0.5}, \"mode\": \"markers\", \"text\": \"Qlik appears with T-SQL 52 times\", \"x\": [-0.7631250356094917], \"y\": [-0.47711652667457655], \"type\": \"scatter\", \"uid\": \"b50acaf3-107b-4f52-b9e2-d7c53b8bc36b\"}, {\"hoverinfo\": \"text\", \"marker\": {\"color\": \"green\", \"size\": 0.5}, \"mode\": \"markers\", \"text\": \"T-SQL appears with Tableau 72 times\", \"x\": [-0.7777211908430037], \"y\": [0.45293459717020984], \"type\": \"scatter\", \"uid\": \"961bf7ed-9198-41eb-a3a0-aed165ad07a3\"}, {\"hoverinfo\": \"text\", \"marker\": {\"color\": \"blue\", \"size\": 0.5}, \"mode\": \"markers\", \"text\": \"Tableau appears with T-SQL 72 times\", \"x\": [-0.4293121481061112], \"y\": [-0.7910063713324416], \"type\": \"scatter\", \"uid\": \"d7d9e1a5-4042-4fc1-806b-cb8bc8689396\"}, {\"hoverinfo\": \"text\", \"marker\": {\"color\": \"green\", \"size\": 0.5}, \"mode\": \"markers\", \"text\": \"T-SQL appears with Microstrategy 6 times\", \"x\": [-0.7202988297475588], \"y\": [0.5396013304878866], \"type\": \"scatter\", \"uid\": \"f93fcbd6-4453-4119-9271-d12d2d5c0aa8\"}, {\"hoverinfo\": \"text\", \"marker\": {\"color\": \"blue\", \"size\": 0.5}, \"mode\": \"markers\", \"text\": \"Microstrategy appears with T-SQL 6 times\", \"x\": [-0.058351687302324144], \"y\": [-0.8981063860083458], \"type\": \"scatter\", \"uid\": \"aedcbee0-b199-4f26-bc79-01604dc4ad46\"}, {\"hoverinfo\": \"text\", \"marker\": {\"color\": \"green\", \"size\": 0.5}, \"mode\": \"markers\", \"text\": \"T-SQL appears with Oracle BI 102 times\", \"x\": [-0.802397909178571], \"y\": [0.40762433115045743], \"type\": \"scatter\", \"uid\": \"48faed8a-4abc-43e4-969f-9b984d35dd87\"}, {\"hoverinfo\": \"text\", \"marker\": {\"color\": \"blue\", \"size\": 0.5}, \"mode\": \"markers\", \"text\": \"Oracle BI appears with T-SQL 102 times\", \"x\": [0.1540912497776121], \"y\": [-0.8867107119810685], \"type\": \"scatter\", \"uid\": \"d0aa480e-dd1e-49fc-ae3f-b574746cfe99\"}, {\"hoverinfo\": \"text\", \"marker\": {\"color\": \"green\", \"size\": 0.5}, \"mode\": \"markers\", \"text\": \"T-SQL appears with Python 43 times\", \"x\": [-0.762249456561368], \"y\": [0.47851412306419877], \"type\": \"scatter\", \"uid\": \"17e94b15-0e2d-4b7f-8a82-2ba7ef75fe52\"}, {\"hoverinfo\": \"text\", \"marker\": {\"color\": \"blue\", \"size\": 0.5}, \"mode\": \"markers\", \"text\": \"Python appears with T-SQL 43 times\", \"x\": [0.6231895757942506], \"y\": [-0.6493340839824921], \"type\": \"scatter\", \"uid\": \"f8cb598e-bc55-4ab7-8d8d-1bd9b8ea44ec\"}, {\"hoverinfo\": \"text\", \"marker\": {\"color\": \"green\", \"size\": 0.5}, \"mode\": \"markers\", \"text\": \"T-SQL appears with VBA 26 times\", \"x\": [-0.7344454202364756], \"y\": [0.5201825878416796], \"type\": \"scatter\", \"uid\": \"aab1815b-7d18-4bbd-9ecb-56c92b1c4ced\"}, {\"hoverinfo\": \"text\", \"marker\": {\"color\": \"blue\", \"size\": 0.5}, \"mode\": \"markers\", \"text\": \"VBA appears with T-SQL 26 times\", \"x\": [0.8274476872577745], \"y\": [-0.35402023226329904], \"type\": \"scatter\", \"uid\": \"cf1011ff-7f8a-43f4-bfc0-6941e297312a\"}, {\"hoverinfo\": \"text\", \"marker\": {\"color\": \"green\", \"size\": 0.5}, \"mode\": \"markers\", \"text\": \"T-SQL appears with Linux 21 times\", \"x\": [-0.7307184479252102], \"y\": [0.5254051292686167], \"type\": \"scatter\", \"uid\": \"b3beae28-e3aa-40dd-bca1-e687efa9170d\"}, {\"hoverinfo\": \"text\", \"marker\": {\"color\": \"blue\", \"size\": 0.5}, \"mode\": \"markers\", \"text\": \"Linux appears with T-SQL 21 times\", \"x\": [0.8749334253098545], \"y\": [-0.21093008622661052], \"type\": \"scatter\", \"uid\": \"56421bf6-c756-4198-9b20-4256007af0a1\"}, {\"hoverinfo\": \"text\", \"marker\": {\"color\": \"green\", \"size\": 0.5}, \"mode\": \"markers\", \"text\": \"T-SQL appears with AWS 8 times\", \"x\": [-0.7214430529441203], \"y\": [0.5380705542572157], \"type\": \"scatter\", \"uid\": \"def39d6b-bcd8-481d-9d9e-08dc8bd2e7a5\"}, {\"hoverinfo\": \"text\", \"marker\": {\"color\": \"blue\", \"size\": 0.5}, \"mode\": \"markers\", \"text\": \"AWS appears with T-SQL 8 times\", \"x\": [0.8948277469255878], \"y\": [-0.09634990052966445], \"type\": \"scatter\", \"uid\": \"bbade264-d9eb-4694-a463-776d3f8e17a5\"}, {\"hoverinfo\": \"text\", \"marker\": {\"color\": \"green\", \"size\": 0.5}, \"mode\": \"markers\", \"text\": \"PL/SQL appears with Pentaho 8 times\", \"x\": [-0.8509615744146655], \"y\": [0.2930262767563924], \"type\": \"scatter\", \"uid\": \"e99d5fda-8cb0-421b-b5fe-3f34a756669f\"}, {\"hoverinfo\": \"text\", \"marker\": {\"color\": \"blue\", \"size\": 0.5}, \"mode\": \"markers\", \"text\": \"Pentaho appears with PL/SQL 8 times\", \"x\": [-0.873872450324955], \"y\": [0.2152833959297817], \"type\": \"scatter\", \"uid\": \"14d4a822-77dd-4529-9131-97eb9dfe6d5f\"}, {\"hoverinfo\": \"text\", \"marker\": {\"color\": \"green\", \"size\": 0.5}, \"mode\": \"markers\", \"text\": \"PL/SQL appears with Hadoop 3 times\", \"x\": [-0.8502875137595166], \"y\": [0.2949765142255565], \"type\": \"scatter\", \"uid\": \"55509d57-cb2f-4b8d-a525-5bb873c75993\"}, {\"hoverinfo\": \"text\", \"marker\": {\"color\": \"blue\", \"size\": 0.5}, \"mode\": \"markers\", \"text\": \"Hadoop appears with PL/SQL 3 times\", \"x\": [-0.8964671234932305], \"y\": [0.07966615652692809], \"type\": \"scatter\", \"uid\": \"56e463cd-1515-4152-826d-70a1efe1a3a4\"}, {\"hoverinfo\": \"text\", \"marker\": {\"color\": \"green\", \"size\": 0.5}, \"mode\": \"markers\", \"text\": \"PL/SQL appears with Informatica 21 times\", \"x\": [-0.8550039669440959], \"y\": [0.28101284047149777], \"type\": \"scatter\", \"uid\": \"e1b2a20d-b110-4b07-8627-1be81de1d2f5\"}, {\"hoverinfo\": \"text\", \"marker\": {\"color\": \"blue\", \"size\": 0.5}, \"mode\": \"markers\", \"text\": \"Informatica appears with PL/SQL 21 times\", \"x\": [-0.8604693844297935], \"y\": [-0.2638037878026246], \"type\": \"scatter\", \"uid\": \"352bddad-ef46-4651-8bc2-fa76a91a88a1\"}, {\"hoverinfo\": \"text\", \"marker\": {\"color\": \"green\", \"size\": 0.5}, \"mode\": \"markers\", \"text\": \"PL/SQL appears with Qlik 10 times\", \"x\": [-0.8521699304086102], \"y\": [0.2894933672942862], \"type\": \"scatter\", \"uid\": \"b420d856-2222-4de8-8eaa-8497d9f29cba\"}, {\"hoverinfo\": \"text\", \"marker\": {\"color\": \"blue\", \"size\": 0.5}, \"mode\": \"markers\", \"text\": \"Qlik appears with PL/SQL 10 times\", \"x\": [-0.7915721180233417], \"y\": [-0.42826811925246183], \"type\": \"scatter\", \"uid\": \"54ce4bb9-a3ae-4e30-900d-9280359d12fb\"}, {\"hoverinfo\": \"text\", \"marker\": {\"color\": \"green\", \"size\": 0.5}, \"mode\": \"markers\", \"text\": \"PL/SQL appears with Tableau 13 times\", \"x\": [-0.8528941796232036], \"y\": [0.2873526028503355], \"type\": \"scatter\", \"uid\": \"cfaaa288-c1a6-45d5-9e8a-86291dcf951a\"}, {\"hoverinfo\": \"text\", \"marker\": {\"color\": \"blue\", \"size\": 0.5}, \"mode\": \"markers\", \"text\": \"Tableau appears with PL/SQL 13 times\", \"x\": [-0.5294221855475647], \"y\": [-0.727813265508427], \"type\": \"scatter\", \"uid\": \"31dba491-d90c-4b22-8c5e-22d720228fed\"}, {\"hoverinfo\": \"text\", \"marker\": {\"color\": \"green\", \"size\": 0.5}, \"mode\": \"markers\", \"text\": \"PL/SQL appears with Microstrategy 17 times\", \"x\": [-0.8538307697564087], \"y\": [0.28455758049501784], \"type\": \"scatter\", \"uid\": \"250f2205-3cc8-4b92-a625-309d51137493\"}, {\"hoverinfo\": \"text\", \"marker\": {\"color\": \"blue\", \"size\": 0.5}, \"mode\": \"markers\", \"text\": \"Microstrategy appears with PL/SQL 17 times\", \"x\": [-0.043797337791942566], \"y\": [-0.8989336978900827], \"type\": \"scatter\", \"uid\": \"6ed40772-f8a7-403a-a6cd-ed384d7291d5\"}, {\"hoverinfo\": \"text\", \"marker\": {\"color\": \"green\", \"size\": 0.5}, \"mode\": \"markers\", \"text\": \"PL/SQL appears with Oracle BI 71 times\", \"x\": [-0.8634157520579647], \"y\": [0.25399456509575], \"type\": \"scatter\", \"uid\": \"6b0eb29a-bb2e-4c52-98c4-60b878c88aa1\"}, {\"hoverinfo\": \"text\", \"marker\": {\"color\": \"blue\", \"size\": 0.5}, \"mode\": \"markers\", \"text\": \"Oracle BI appears with PL/SQL 71 times\", \"x\": [0.10309330038272317], \"y\": [-0.8940759315719206], \"type\": \"scatter\", \"uid\": \"881bd9e4-f08b-44ca-b203-f2c777c2f5a0\"}, {\"hoverinfo\": \"text\", \"marker\": {\"color\": \"green\", \"size\": 0.5}, \"mode\": \"markers\", \"text\": \"PL/SQL appears with Python 2 times\", \"x\": [-0.8499326503748638], \"y\": [0.29599744902069597], \"type\": \"scatter\", \"uid\": \"590ef1cd-3675-445d-971c-4d00fd7a092a\"}, {\"hoverinfo\": \"text\", \"marker\": {\"color\": \"blue\", \"size\": 0.5}, \"mode\": \"markers\", \"text\": \"Python appears with PL/SQL 2 times\", \"x\": [0.585064232511782], \"y\": [-0.683885841230391], \"type\": \"scatter\", \"uid\": \"aabcc10b-f298-4016-bcbb-8df1351b68c4\"}, {\"hoverinfo\": \"text\", \"marker\": {\"color\": \"green\", \"size\": 0.5}, \"mode\": \"markers\", \"text\": \"PL/SQL appears with VBA 5 times\", \"x\": [-0.8505448259863372], \"y\": [0.2942337488934119], \"type\": \"scatter\", \"uid\": \"c3f481c3-0944-45c3-b846-438fbcf36df7\"}, {\"hoverinfo\": \"text\", \"marker\": {\"color\": \"blue\", \"size\": 0.5}, \"mode\": \"markers\", \"text\": \"VBA appears with PL/SQL 5 times\", \"x\": [0.8190230100500233], \"y\": [-0.373096916375088], \"type\": \"scatter\", \"uid\": \"3eeb870e-32b0-4976-824c-6a0e76d4f83f\"}, {\"hoverinfo\": \"text\", \"marker\": {\"color\": \"green\", \"size\": 0.5}, \"mode\": \"markers\", \"text\": \"PL/SQL appears with Linux 1 times\", \"x\": [-0.8498356566829492], \"y\": [0.29627581175360973], \"type\": \"scatter\", \"uid\": \"4b0296ff-8f9e-43b5-9f46-8f0b16e5aed6\"}, {\"hoverinfo\": \"text\", \"marker\": {\"color\": \"blue\", \"size\": 0.5}, \"mode\": \"markers\", \"text\": \"Linux appears with PL/SQL 1 times\", \"x\": [0.8710701994509212], \"y\": [-0.22635526861226882], \"type\": \"scatter\", \"uid\": \"8caf0aeb-df1c-4fba-b721-a19e81139d92\"}, {\"hoverinfo\": \"text\", \"marker\": {\"color\": \"green\", \"size\": 0.5}, \"mode\": \"markers\", \"text\": \"PL/SQL appears with AWS 1 times\", \"x\": [-0.8497709435726974], \"y\": [0.29646136925334376], \"type\": \"scatter\", \"uid\": \"b10eb1e0-1b05-49de-8300-78b594f912c2\"}, {\"hoverinfo\": \"text\", \"marker\": {\"color\": \"blue\", \"size\": 0.5}, \"mode\": \"markers\", \"text\": \"AWS appears with PL/SQL 1 times\", \"x\": [0.894459555011906], \"y\": [-0.09971010203536605], \"type\": \"scatter\", \"uid\": \"212ac3be-a5c5-4dea-b93b-38babd54753c\"}, {\"hoverinfo\": \"text\", \"marker\": {\"color\": \"green\", \"size\": 0.5}, \"mode\": \"markers\", \"text\": \"Pentaho appears with Spark 6 times\", \"x\": [-0.8730539368694967], \"y\": [0.21857910082318702], \"type\": \"scatter\", \"uid\": \"4ab47b30-2e19-40c5-a341-9885c3c08b52\"}, {\"hoverinfo\": \"text\", \"marker\": {\"color\": \"blue\", \"size\": 0.5}, \"mode\": \"markers\", \"text\": \"Spark appears with Pentaho 6 times\", \"x\": [-0.896472092184231], \"y\": [-0.07961022506454617], \"type\": \"scatter\", \"uid\": \"bbd3c754-c5b0-4d0e-80a8-416e76120f27\"}, {\"hoverinfo\": \"text\", \"marker\": {\"color\": \"green\", \"size\": 0.5}, \"mode\": \"markers\", \"text\": \"Pentaho appears with Informatica 31 times\", \"x\": [-0.8829802504231491], \"y\": [0.17420068129221775], \"type\": \"scatter\", \"uid\": \"ea414b48-10c6-413e-b9cd-fdf1c2479010\"}, {\"hoverinfo\": \"text\", \"marker\": {\"color\": \"blue\", \"size\": 0.5}, \"mode\": \"markers\", \"text\": \"Informatica appears with Pentaho 31 times\", \"x\": [-0.8565812787697696], \"y\": [-0.27616754490914797], \"type\": \"scatter\", \"uid\": \"08dfe883-df17-4371-8896-64b5bf05838f\"}, {\"hoverinfo\": \"text\", \"marker\": {\"color\": \"green\", \"size\": 0.5}, \"mode\": \"markers\", \"text\": \"Pentaho appears with Qlik 22 times\", \"x\": [-0.8754721428781056], \"y\": [0.2086828384041625], \"type\": \"scatter\", \"uid\": \"c73164c4-933c-4a06-ad89-d2540bf11770\"}, {\"hoverinfo\": \"text\", \"marker\": {\"color\": \"blue\", \"size\": 0.5}, \"mode\": \"markers\", \"text\": \"Qlik appears with Pentaho 22 times\", \"x\": [-0.7855779608294303], \"y\": [-0.4391665600419436], \"type\": \"scatter\", \"uid\": \"24f56450-25b5-462a-a792-caddff27a102\"}, {\"hoverinfo\": \"text\", \"marker\": {\"color\": \"green\", \"size\": 0.5}, \"mode\": \"markers\", \"text\": \"Pentaho appears with Tableau 33 times\", \"x\": [-0.8844497577765182], \"y\": [0.16657918828310497], \"type\": \"scatter\", \"uid\": \"99d1ec15-bd7c-444c-a398-3e68abda3ad2\"}, {\"hoverinfo\": \"text\", \"marker\": {\"color\": \"blue\", \"size\": 0.5}, \"mode\": \"markers\", \"text\": \"Tableau appears with Pentaho 33 times\", \"x\": [-0.49542999857800024], \"y\": [-0.7513648358214554], \"type\": \"scatter\", \"uid\": \"166c09ac-5158-4fb7-b36b-6506090d7d79\"}, {\"hoverinfo\": \"text\", \"marker\": {\"color\": \"green\", \"size\": 0.5}, \"mode\": \"markers\", \"text\": \"Pentaho appears with Microstrategy 2 times\", \"x\": [-0.8728177924341063], \"y\": [0.219520161284683], \"type\": \"scatter\", \"uid\": \"6a982f89-7b11-4d76-b234-99d0f9e24755\"}, {\"hoverinfo\": \"text\", \"marker\": {\"color\": \"blue\", \"size\": 0.5}, \"mode\": \"markers\", \"text\": \"Microstrategy appears with Pentaho 2 times\", \"x\": [-0.06015868981905701], \"y\": [-0.8979871558320055], \"type\": \"scatter\", \"uid\": \"d31721ff-28cd-4579-97cb-c1778001806a\"}, {\"hoverinfo\": \"text\", \"marker\": {\"color\": \"green\", \"size\": 0.5}, \"mode\": \"markers\", \"text\": \"Pentaho appears with Oracle BI 30 times\", \"x\": [-0.8799717417808943], \"y\": [0.18881137059800993], \"type\": \"scatter\", \"uid\": \"93934b20-b0ef-4c15-ae59-402c8ee62b87\"}, {\"hoverinfo\": \"text\", \"marker\": {\"color\": \"blue\", \"size\": 0.5}, \"mode\": \"markers\", \"text\": \"Oracle BI appears with Pentaho 30 times\", \"x\": [0.036388434150347385], \"y\": [-0.8992640779326648], \"type\": \"scatter\", \"uid\": \"8b9cab46-b773-4df1-a3dc-d23ce76db6e1\"}, {\"hoverinfo\": \"text\", \"marker\": {\"color\": \"green\", \"size\": 0.5}, \"mode\": \"markers\", \"text\": \"Pentaho appears with Python 34 times\", \"x\": [-0.8859176647337279], \"y\": [0.1585871725983476], \"type\": \"scatter\", \"uid\": \"7142e332-d183-480b-aba0-fe54f687ab42\"}, {\"hoverinfo\": \"text\", \"marker\": {\"color\": \"blue\", \"size\": 0.5}, \"mode\": \"markers\", \"text\": \"Python appears with Pentaho 34 times\", \"x\": [0.6068247470552464], \"y\": [-0.6646530872277179], \"type\": \"scatter\", \"uid\": \"3b5f6972-6d0d-4f53-81f9-5ad819a029f5\"}, {\"hoverinfo\": \"text\", \"marker\": {\"color\": \"green\", \"size\": 0.5}, \"mode\": \"markers\", \"text\": \"Pentaho appears with VBA 1 times\", \"x\": [-0.8727289767403278], \"y\": [0.2198729932433275], \"type\": \"scatter\", \"uid\": \"2ac23fc0-62bc-423b-b9c6-7520007f1e13\"}, {\"hoverinfo\": \"text\", \"marker\": {\"color\": \"blue\", \"size\": 0.5}, \"mode\": \"markers\", \"text\": \"VBA appears with Pentaho 1 times\", \"x\": [0.8179844900005125], \"y\": [-0.37536831794732134], \"type\": \"scatter\", \"uid\": \"7090028e-eac8-4805-ac6d-6e6c986ba675\"}, {\"hoverinfo\": \"text\", \"marker\": {\"color\": \"green\", \"size\": 0.5}, \"mode\": \"markers\", \"text\": \"Pentaho appears with Linux 30 times\", \"x\": [-0.8784163982112705], \"y\": [0.1959199616004931], \"type\": \"scatter\", \"uid\": \"96e10b2e-573e-4bba-a60a-dae59d233bbf\"}, {\"hoverinfo\": \"text\", \"marker\": {\"color\": \"blue\", \"size\": 0.5}, \"mode\": \"markers\", \"text\": \"Linux appears with Pentaho 30 times\", \"x\": [0.8776648037393412], \"y\": [-0.19925986117927455], \"type\": \"scatter\", \"uid\": \"931dc361-66fa-4adc-9bf6-3b4a68337bdc\"}, {\"hoverinfo\": \"text\", \"marker\": {\"color\": \"green\", \"size\": 0.5}, \"mode\": \"markers\", \"text\": \"Pentaho appears with AWS 13 times\", \"x\": [-0.8744781716667083], \"y\": [0.21280960335109672], \"type\": \"scatter\", \"uid\": \"d1d5862a-48fe-4bc8-8844-921786b12f8b\"}, {\"hoverinfo\": \"text\", \"marker\": {\"color\": \"blue\", \"size\": 0.5}, \"mode\": \"markers\", \"text\": \"AWS appears with Pentaho 13 times\", \"x\": [0.895273025599379], \"y\": [-0.09212062545452947], \"type\": \"scatter\", \"uid\": \"e162253b-ee85-4990-8132-81b771b4346c\"}, {\"hoverinfo\": \"text\", \"marker\": {\"color\": \"green\", \"size\": 0.5}, \"mode\": \"markers\", \"text\": \"Hadoop appears with Spark 94 times\", \"x\": [-0.8999365130179492], \"y\": [-0.010689833352047234], \"type\": \"scatter\", \"uid\": \"cdb533ff-d646-4f99-9b6d-e3b3447ccde3\"}, {\"hoverinfo\": \"text\", \"marker\": {\"color\": \"blue\", \"size\": 0.5}, \"mode\": \"markers\", \"text\": \"Spark appears with Hadoop 94 times\", \"x\": [-0.8825106000753781], \"y\": [-0.17656455124003845], \"type\": \"scatter\", \"uid\": \"56382e01-7f6f-45f2-b93f-0f8c18154b99\"}, {\"hoverinfo\": \"text\", \"marker\": {\"color\": \"green\", \"size\": 0.5}, \"mode\": \"markers\", \"text\": \"Hadoop appears with Informatica 5 times\", \"x\": [-0.8965549295248867], \"y\": [0.07867183959095829], \"type\": \"scatter\", \"uid\": \"e115c3cb-42af-4b87-80f4-5666da0e96d5\"}, {\"hoverinfo\": \"text\", \"marker\": {\"color\": \"blue\", \"size\": 0.5}, \"mode\": \"markers\", \"text\": \"Informatica appears with Hadoop 5 times\", \"x\": [-0.865683701639733], \"y\": [-0.2461538720299356], \"type\": \"scatter\", \"uid\": \"8e9b8341-f5ae-49cc-b80e-f831a18a9b26\"}, {\"hoverinfo\": \"text\", \"marker\": {\"color\": \"green\", \"size\": 0.5}, \"mode\": \"markers\", \"text\": \"Hadoop appears with Qlik 9 times\", \"x\": [-0.8968326820420984], \"y\": [0.07543964754143848], \"type\": \"scatter\", \"uid\": \"fc824754-eef7-4cb1-be1a-0ce5869a3ee4\"}, {\"hoverinfo\": \"text\", \"marker\": {\"color\": \"blue\", \"size\": 0.5}, \"mode\": \"markers\", \"text\": \"Qlik appears with Hadoop 9 times\", \"x\": [-0.7928465046293435], \"y\": [-0.42590423817688466], \"type\": \"scatter\", \"uid\": \"315eeeba-1934-4972-845a-a99b65b217f4\"}, {\"hoverinfo\": \"text\", \"marker\": {\"color\": \"green\", \"size\": 0.5}, \"mode\": \"markers\", \"text\": \"Hadoop appears with Tableau 32 times\", \"x\": [-0.8993396795054333], \"y\": [0.03446941930268751], \"type\": \"scatter\", \"uid\": \"ba7c6b8b-22a2-40a6-a9c5-8c2faecb5c15\"}, {\"hoverinfo\": \"text\", \"marker\": {\"color\": \"blue\", \"size\": 0.5}, \"mode\": \"markers\", \"text\": \"Tableau appears with Hadoop 32 times\", \"x\": [-0.5031958417917721], \"y\": [-0.7461862668285111], \"type\": \"scatter\", \"uid\": \"bac0feb5-f53f-4766-8539-39efa8fa00a5\"}, {\"hoverinfo\": \"text\", \"marker\": {\"color\": \"green\", \"size\": 0.5}, \"mode\": \"markers\", \"text\": \"Hadoop appears with Microstrategy 3 times\", \"x\": [-0.8962655282001892], \"y\": [0.08190300946873628], \"type\": \"scatter\", \"uid\": \"116d08ab-8882-470d-8029-2136273831aa\"}, {\"hoverinfo\": \"text\", \"marker\": {\"color\": \"blue\", \"size\": 0.5}, \"mode\": \"markers\", \"text\": \"Microstrategy appears with Hadoop 3 times\", \"x\": [-0.0591648681084585], \"y\": [-0.898053182379367], \"type\": \"scatter\", \"uid\": \"7fd1b801-6083-4a02-911f-cfe20b528b15\"}, {\"hoverinfo\": \"text\", \"marker\": {\"color\": \"green\", \"size\": 0.5}, \"mode\": \"markers\", \"text\": \"Hadoop appears with Oracle BI 28 times\", \"x\": [-0.8986280657102673], \"y\": [0.049674938528633444], \"type\": \"scatter\", \"uid\": \"6b7801ff-be95-441a-9fc8-5c21fbdc6062\"}, {\"hoverinfo\": \"text\", \"marker\": {\"color\": \"blue\", \"size\": 0.5}, \"mode\": \"markers\", \"text\": \"Oracle BI appears with Hadoop 28 times\", \"x\": [0.027974194408071022], \"y\": [-0.8995651418586758], \"type\": \"scatter\", \"uid\": \"3065f493-396a-417b-bc4f-9781b7308118\"}, {\"hoverinfo\": \"text\", \"marker\": {\"color\": \"green\", \"size\": 0.5}, \"mode\": \"markers\", \"text\": \"Hadoop appears with Python 99 times\", \"x\": [-0.8993283915621135], \"y\": [-0.03476268301356879], \"type\": \"scatter\", \"uid\": \"db65471a-414c-4116-8286-6ecc78ad91a3\"}, {\"hoverinfo\": \"text\", \"marker\": {\"color\": \"blue\", \"size\": 0.5}, \"mode\": \"markers\", \"text\": \"Python appears with Hadoop 99 times\", \"x\": [0.7111974293248055], \"y\": [-0.5515416725160379], \"type\": \"scatter\", \"uid\": \"6761d1da-31ae-4738-af5c-9a580a0ee596\"}, {\"hoverinfo\": \"text\", \"marker\": {\"color\": \"green\", \"size\": 0.5}, \"mode\": \"markers\", \"text\": \"Hadoop appears with VBA 6 times\", \"x\": [-0.896673862054627], \"y\": [0.07730449604026748], \"type\": \"scatter\", \"uid\": \"ce953754-e64c-4e16-bbdb-da604ae70240\"}, {\"hoverinfo\": \"text\", \"marker\": {\"color\": \"blue\", \"size\": 0.5}, \"mode\": \"markers\", \"text\": \"VBA appears with Hadoop 6 times\", \"x\": [0.8208252384726155], \"y\": [-0.36911506049790754], \"type\": \"scatter\", \"uid\": \"83e9f963-5d0f-4ae2-a2f1-28b07e367820\"}, {\"hoverinfo\": \"text\", \"marker\": {\"color\": \"green\", \"size\": 0.5}, \"mode\": \"markers\", \"text\": \"Hadoop appears with Linux 61 times\", \"x\": [-0.8999584344021377], \"y\": [0.008649644411951745], \"type\": \"scatter\", \"uid\": \"2152fa9b-d5e2-4c89-920b-bdeef5dcfcde\"}, {\"hoverinfo\": \"text\", \"marker\": {\"color\": \"blue\", \"size\": 0.5}, \"mode\": \"markers\", \"text\": \"Linux appears with Hadoop 61 times\", \"x\": [0.8872093840386639], \"y\": [-0.15119361386558156], \"type\": \"scatter\", \"uid\": \"c035b7bf-ecd4-4a3f-accd-98066be42357\"}, {\"hoverinfo\": \"text\", \"marker\": {\"color\": \"green\", \"size\": 0.5}, \"mode\": \"markers\", \"text\": \"Hadoop appears with AWS 31 times\", \"x\": [-0.8990043200287906], \"y\": [0.042322955586440524], \"type\": \"scatter\", \"uid\": \"b58208b3-c848-43c3-bcb2-a8a64be40807\"}, {\"hoverinfo\": \"text\", \"marker\": {\"color\": \"blue\", \"size\": 0.5}, \"mode\": \"markers\", \"text\": \"AWS appears with Hadoop 31 times\", \"x\": [0.8972762285713491], \"y\": [-0.06996691818835633], \"type\": \"scatter\", \"uid\": \"1ada6925-bcc4-4108-af2e-26e4c5a2bf55\"}, {\"hoverinfo\": \"text\", \"marker\": {\"color\": \"green\", \"size\": 0.5}, \"mode\": \"markers\", \"text\": \"Spark appears with Informatica 8 times\", \"x\": [-0.8963131360185272], \"y\": [-0.08138035512722319], \"type\": \"scatter\", \"uid\": \"ae70fdc9-f564-41bd-8679-427f83df53f0\"}, {\"hoverinfo\": \"text\", \"marker\": {\"color\": \"blue\", \"size\": 0.5}, \"mode\": \"markers\", \"text\": \"Informatica appears with Spark 8 times\", \"x\": [-0.86472005362932], \"y\": [-0.24951799304119532], \"type\": \"scatter\", \"uid\": \"d897d05e-415b-44b2-b03f-ed5094379e42\"}, {\"hoverinfo\": \"text\", \"marker\": {\"color\": \"green\", \"size\": 0.5}, \"mode\": \"markers\", \"text\": \"Spark appears with Qlik 15 times\", \"x\": [-0.8960444062269297], \"y\": [-0.08428773380171667], \"type\": \"scatter\", \"uid\": \"71a6f14f-7888-42e9-a61d-d3f88f8d4c16\"}, {\"hoverinfo\": \"text\", \"marker\": {\"color\": \"blue\", \"size\": 0.5}, \"mode\": \"markers\", \"text\": \"Qlik appears with Spark 15 times\", \"x\": [-0.7881165786555171], \"y\": [-0.43459436081054054], \"type\": \"scatter\", \"uid\": \"020ec1f6-5193-429a-bf0d-7a2d07b7963d\"}, {\"hoverinfo\": \"text\", \"marker\": {\"color\": \"green\", \"size\": 0.5}, \"mode\": \"markers\", \"text\": \"Spark appears with Tableau 32 times\", \"x\": [-0.8925320687139789], \"y\": [-0.11570007051486696], \"type\": \"scatter\", \"uid\": \"0afbcce0-41a1-45e3-a929-87707eb00944\"}, {\"hoverinfo\": \"text\", \"marker\": {\"color\": \"blue\", \"size\": 0.5}, \"mode\": \"markers\", \"text\": \"Tableau appears with Spark 32 times\", \"x\": [-0.5107893321231762], \"y\": [-0.7410089460925283], \"type\": \"scatter\", \"uid\": \"4ca21250-5ade-4289-bdfe-95f952e329b3\"}, {\"hoverinfo\": \"text\", \"marker\": {\"color\": \"green\", \"size\": 0.5}, \"mode\": \"markers\", \"text\": \"Spark appears with Microstrategy 3 times\", \"x\": [-0.8968116251654433], \"y\": [-0.07568955653269704], \"type\": \"scatter\", \"uid\": \"a8f3c49d-1ad1-4926-a27d-02dedca7c172\"}, {\"hoverinfo\": \"text\", \"marker\": {\"color\": \"blue\", \"size\": 0.5}, \"mode\": \"markers\", \"text\": \"Microstrategy appears with Spark 3 times\", \"x\": [-0.059706961738464404], \"y\": [-0.8980173042430538], \"type\": \"scatter\", \"uid\": \"3fb00a8a-2821-4467-98a6-8c33bd1b2da6\"}, {\"hoverinfo\": \"text\", \"marker\": {\"color\": \"green\", \"size\": 0.5}, \"mode\": \"markers\", \"text\": \"Spark appears with Oracle BI 25 times\", \"x\": [-0.8934334351188615], \"y\": [-0.10852049120655102], \"type\": \"scatter\", \"uid\": \"17392cf2-5b9b-4d69-b974-de6e24049f16\"}, {\"hoverinfo\": \"text\", \"marker\": {\"color\": \"blue\", \"size\": 0.5}, \"mode\": \"markers\", \"text\": \"Oracle BI appears with Spark 25 times\", \"x\": [0.020283160879260412], \"y\": [-0.8997714117400852], \"type\": \"scatter\", \"uid\": \"9110f0af-d856-4095-bc41-e6c2b4c379fb\"}, {\"hoverinfo\": \"text\", \"marker\": {\"color\": \"green\", \"size\": 0.5}, \"mode\": \"markers\", \"text\": \"Spark appears with Python 114 times\", \"x\": [-0.8769513650139027], \"y\": [-0.20237663748627924], \"type\": \"scatter\", \"uid\": \"6ef7ed99-e32f-460e-84c0-8cf50da90248\"}, {\"hoverinfo\": \"text\", \"marker\": {\"color\": \"blue\", \"size\": 0.5}, \"mode\": \"markers\", \"text\": \"Python appears with Spark 114 times\", \"x\": [0.7461567122116485], \"y\": [-0.5032396653896662], \"type\": \"scatter\", \"uid\": \"25fb81e9-bc00-4a78-8bf2-8984eb0cd555\"}, {\"hoverinfo\": \"text\", \"marker\": {\"color\": \"green\", \"size\": 0.5}, \"mode\": \"markers\", \"text\": \"Spark appears with VBA 6 times\", \"x\": [-0.8966055579549604], \"y\": [-0.07809272337596013], \"type\": \"scatter\", \"uid\": \"63b6ec41-b576-4f44-8c6e-313cde995094\"}, {\"hoverinfo\": \"text\", \"marker\": {\"color\": \"blue\", \"size\": 0.5}, \"mode\": \"markers\", \"text\": \"VBA appears with Spark 6 times\", \"x\": [0.8202095102463006], \"y\": [-0.3704812536438568], \"type\": \"scatter\", \"uid\": \"82de82ec-7d9b-4c42-a149-db06be84ebbd\"}, {\"hoverinfo\": \"text\", \"marker\": {\"color\": \"green\", \"size\": 0.5}, \"mode\": \"markers\", \"text\": \"Spark appears with Linux 46 times\", \"x\": [-0.88851261288877], \"y\": [-0.1433364459499772], \"type\": \"scatter\", \"uid\": \"d93b0c55-5370-4b6c-a07e-6ffba41507c1\"}, {\"hoverinfo\": \"text\", \"marker\": {\"color\": \"blue\", \"size\": 0.5}, \"mode\": \"markers\", \"text\": \"Linux appears with Spark 46 times\", \"x\": [0.8825672868345835], \"y\": [-0.17628098085001137], \"type\": \"scatter\", \"uid\": \"e6ae3d5d-ab78-4187-ba0a-d1056d316c7d\"}, {\"hoverinfo\": \"text\", \"marker\": {\"color\": \"green\", \"size\": 0.5}, \"mode\": \"markers\", \"text\": \"Spark appears with AWS 36 times\", \"x\": [-0.890111010004532], \"y\": [-0.1330503283299668], \"type\": \"scatter\", \"uid\": \"00dda320-19ba-45a8-b9b2-e662a9734dc5\"}, {\"hoverinfo\": \"text\", \"marker\": {\"color\": \"blue\", \"size\": 0.5}, \"mode\": \"markers\", \"text\": \"AWS appears with Spark 36 times\", \"x\": [0.8978146229709821], \"y\": [-0.06268096026285322], \"type\": \"scatter\", \"uid\": \"1cc33537-29fc-41a8-bc8d-bff1e3b421be\"}, {\"hoverinfo\": \"text\", \"marker\": {\"color\": \"green\", \"size\": 0.5}, \"mode\": \"markers\", \"text\": \"Informatica appears with Qlik 90 times\", \"x\": [-0.836564858211918], \"y\": [-0.33190245254422823], \"type\": \"scatter\", \"uid\": \"26b1207f-425b-452a-afd0-071040787500\"}, {\"hoverinfo\": \"text\", \"marker\": {\"color\": \"blue\", \"size\": 0.5}, \"mode\": \"markers\", \"text\": \"Qlik appears with Informatica 90 times\", \"x\": [-0.7439683403390357], \"y\": [-0.5064692572833821], \"type\": \"scatter\", \"uid\": \"dbdb0384-4bad-43c6-9a48-7ac69e089c3e\"}, {\"hoverinfo\": \"text\", \"marker\": {\"color\": \"green\", \"size\": 0.5}, \"mode\": \"markers\", \"text\": \"Informatica appears with Tableau 61 times\", \"x\": [-0.8435838492088858], \"y\": [-0.31363400541701425], \"type\": \"scatter\", \"uid\": \"f582e51a-d126-4f96-b1f7-28a595fceac9\"}, {\"hoverinfo\": \"text\", \"marker\": {\"color\": \"blue\", \"size\": 0.5}, \"mode\": \"markers\", \"text\": \"Tableau appears with Informatica 61 times\", \"x\": [-0.4631035819262134], \"y\": [-0.7717091890130058], \"type\": \"scatter\", \"uid\": \"8d035778-1afc-4cf1-ae1b-24815d2ff892\"}, {\"hoverinfo\": \"text\", \"marker\": {\"color\": \"green\", \"size\": 0.5}, \"mode\": \"markers\", \"text\": \"Informatica appears with Microstrategy 8 times\", \"x\": [-0.8641428330381629], \"y\": [-0.25150976941021175], \"type\": \"scatter\", \"uid\": \"d0f82ab7-2533-4e2b-90c5-b53293bf8fbe\"}, {\"hoverinfo\": \"text\", \"marker\": {\"color\": \"blue\", \"size\": 0.5}, \"mode\": \"markers\", \"text\": \"Microstrategy appears with Informatica 8 times\", \"x\": [-0.0560022319300699], \"y\": [-0.8982559490584244], \"type\": \"scatter\", \"uid\": \"b1b1a7ea-3d6d-40bb-813d-ebcd3ee69e04\"}, {\"hoverinfo\": \"text\", \"marker\": {\"color\": \"green\", \"size\": 0.5}, \"mode\": \"markers\", \"text\": \"Informatica appears with Oracle BI 114 times\", \"x\": [-0.8144218760108325], \"y\": [-0.38303656206032904], \"type\": \"scatter\", \"uid\": \"6a7ed525-227f-43cc-b0cd-62f387923926\"}, {\"hoverinfo\": \"text\", \"marker\": {\"color\": \"blue\", \"size\": 0.5}, \"mode\": \"markers\", \"text\": \"Oracle BI appears with Informatica 114 times\", \"x\": [0.24576056017345393], \"y\": [-0.8657954418124585], \"type\": \"scatter\", \"uid\": \"91bbe8aa-7b6f-40b0-8bae-f2d000d335b4\"}, {\"hoverinfo\": \"text\", \"marker\": {\"color\": \"green\", \"size\": 0.5}, \"mode\": \"markers\", \"text\": \"Informatica appears with Python 24 times\", \"x\": [-0.8587417722429569], \"y\": [-0.269374402282447], \"type\": \"scatter\", \"uid\": \"a5db3081-24c1-4e3e-bab7-f13e65522c22\"}, {\"hoverinfo\": \"text\", \"marker\": {\"color\": \"blue\", \"size\": 0.5}, \"mode\": \"markers\", \"text\": \"Python appears with Informatica 24 times\", \"x\": [0.5944358552130692], \"y\": [-0.6757558834646629], \"type\": \"scatter\", \"uid\": \"dea3cd6d-c0c2-436b-b0d6-cd1a2163ed7b\"}, {\"hoverinfo\": \"text\", \"marker\": {\"color\": \"green\", \"size\": 0.5}, \"mode\": \"markers\", \"text\": \"Informatica appears with VBA 3 times\", \"x\": [-0.866248577386723], \"y\": [-0.24415855949664902], \"type\": \"scatter\", \"uid\": \"cedf165e-5af7-4723-b0c5-890e5ac4c775\"}, {\"hoverinfo\": \"text\", \"marker\": {\"color\": \"blue\", \"size\": 0.5}, \"mode\": \"markers\", \"text\": \"VBA appears with Informatica 3 times\", \"x\": [0.8186083584564351], \"y\": [-0.3740058227691925], \"type\": \"scatter\", \"uid\": \"a5fb4806-efb7-4412-81dc-db6654cf0629\"}, {\"hoverinfo\": \"text\", \"marker\": {\"color\": \"green\", \"size\": 0.5}, \"mode\": \"markers\", \"text\": \"Informatica appears with Linux 4 times\", \"x\": [-0.8660020099618957], \"y\": [-0.24503166885518438], \"type\": \"scatter\", \"uid\": \"2f25c7a9-5c83-4424-8e6c-13bcb7615f5f\"}, {\"hoverinfo\": \"text\", \"marker\": {\"color\": \"blue\", \"size\": 0.5}, \"mode\": \"markers\", \"text\": \"Linux appears with Informatica 4 times\", \"x\": [0.8717526563083009], \"y\": [-0.22371255266395199], \"type\": \"scatter\", \"uid\": \"21b8205f-f8ea-4942-870e-6c6cf6e7f308\"}, {\"hoverinfo\": \"text\", \"marker\": {\"color\": \"green\", \"size\": 0.5}, \"mode\": \"markers\", \"text\": \"Informatica appears with AWS 16 times\", \"x\": [-0.8618627980539848], \"y\": [-0.2592151950225069], \"type\": \"scatter\", \"uid\": \"6a34dde2-e851-4c79-bf87-8fd4f9499246\"}, {\"hoverinfo\": \"text\", \"marker\": {\"color\": \"blue\", \"size\": 0.5}, \"mode\": \"markers\", \"text\": \"AWS appears with Informatica 16 times\", \"x\": [0.8955911727971522], \"y\": [-0.0889744413178385], \"type\": \"scatter\", \"uid\": \"980d759b-b371-4182-bb27-3eb46da862a5\"}, {\"hoverinfo\": \"text\", \"marker\": {\"color\": \"green\", \"size\": 0.5}, \"mode\": \"markers\", \"text\": \"Qlik appears with Tableau 264 times\", \"x\": [-0.6491730526177275], \"y\": [-0.6233573194845643], \"type\": \"scatter\", \"uid\": \"51a40b95-fe29-4967-8214-b13464c21a85\"}, {\"hoverinfo\": \"text\", \"marker\": {\"color\": \"blue\", \"size\": 0.5}, \"mode\": \"markers\", \"text\": \"Tableau appears with Qlik 264 times\", \"x\": [-0.3035955292826105], \"y\": [-0.8472483429311689], \"type\": \"scatter\", \"uid\": \"4a274767-a4f1-4d92-9166-1a4f03c16cff\"}, {\"hoverinfo\": \"text\", \"marker\": {\"color\": \"green\", \"size\": 0.5}, \"mode\": \"markers\", \"text\": \"Qlik appears with Microstrategy 22 times\", \"x\": [-0.7825245440151061], \"y\": [-0.44458445543445446], \"type\": \"scatter\", \"uid\": \"8541b0e6-0d6c-42c9-9da7-3935aacc7743\"}, {\"hoverinfo\": \"text\", \"marker\": {\"color\": \"blue\", \"size\": 0.5}, \"mode\": \"markers\", \"text\": \"Microstrategy appears with Qlik 22 times\", \"x\": [-0.040269875963844286], \"y\": [-0.8990986247847655], \"type\": \"scatter\", \"uid\": \"97283afd-8061-46b5-a508-3a8f3385b740\"}, {\"hoverinfo\": \"text\", \"marker\": {\"color\": \"green\", \"size\": 0.5}, \"mode\": \"markers\", \"text\": \"Qlik appears with Oracle BI 241 times\", \"x\": [-0.6965186042770197], \"y\": [-0.569966519978141], \"type\": \"scatter\", \"uid\": \"388ef499-5409-471f-a0b1-5d48976e5e0b\"}, {\"hoverinfo\": \"text\", \"marker\": {\"color\": \"blue\", \"size\": 0.5}, \"mode\": \"markers\", \"text\": \"Oracle BI appears with Qlik 241 times\", \"x\": [0.343487826778911], \"y\": [-0.8318750584400886], \"type\": \"scatter\", \"uid\": \"a4efc98d-ebfd-4667-b457-7e05d3a616e8\"}, {\"hoverinfo\": \"text\", \"marker\": {\"color\": \"green\", \"size\": 0.5}, \"mode\": \"markers\", \"text\": \"Qlik appears with Python 30 times\", \"x\": [-0.7751591103235531], \"y\": [-0.4573055364659362], \"type\": \"scatter\", \"uid\": \"e3e32321-8950-454a-a186-7b84abc99eb3\"}, {\"hoverinfo\": \"text\", \"marker\": {\"color\": \"blue\", \"size\": 0.5}, \"mode\": \"markers\", \"text\": \"Python appears with Qlik 30 times\", \"x\": [0.6001308106102494], \"y\": [-0.67070336972188], \"type\": \"scatter\", \"uid\": \"e1a7517c-9da7-4347-aff6-52670288402d\"}, {\"hoverinfo\": \"text\", \"marker\": {\"color\": \"green\", \"size\": 0.5}, \"mode\": \"markers\", \"text\": \"Qlik appears with VBA 26 times\", \"x\": [-0.7791509343004571], \"y\": [-0.45047066672395525], \"type\": \"scatter\", \"uid\": \"1ebdc525-642f-474a-ae2e-710546ed61cc\"}, {\"hoverinfo\": \"text\", \"marker\": {\"color\": \"blue\", \"size\": 0.5}, \"mode\": \"markers\", \"text\": \"VBA appears with Qlik 26 times\", \"x\": [0.8248718569350914], \"y\": [-0.35998113788982655], \"type\": \"scatter\", \"uid\": \"753d0009-76da-432c-918c-549372f0ab46\"}, {\"hoverinfo\": \"text\", \"marker\": {\"color\": \"green\", \"size\": 0.5}, \"mode\": \"markers\", \"text\": \"Qlik appears with Linux 2 times\", \"x\": [-0.7947780071014663], \"y\": [-0.4222889051678031], \"type\": \"scatter\", \"uid\": \"3c1dffb7-e5c9-4a8a-b890-cb99a3d9ee93\"}, {\"hoverinfo\": \"text\", \"marker\": {\"color\": \"blue\", \"size\": 0.5}, \"mode\": \"markers\", \"text\": \"Linux appears with Qlik 2 times\", \"x\": [0.8713975917764001], \"y\": [-0.2250916192271281], \"type\": \"scatter\", \"uid\": \"3b0effd8-d400-480d-a51a-8417ddbf720d\"}, {\"hoverinfo\": \"text\", \"marker\": {\"color\": \"green\", \"size\": 0.5}, \"mode\": \"markers\", \"text\": \"Qlik appears with AWS 2 times\", \"x\": [-0.7950431283784315], \"y\": [-0.42178954944170555], \"type\": \"scatter\", \"uid\": \"74d9ffaf-201c-4a14-98da-bd26c5a57a35\"}, {\"hoverinfo\": \"text\", \"marker\": {\"color\": \"blue\", \"size\": 0.5}, \"mode\": \"markers\", \"text\": \"AWS appears with Qlik 2 times\", \"x\": [0.8945916483328676], \"y\": [-0.09851793102315425], \"type\": \"scatter\", \"uid\": \"d02e1ce9-f2f9-41ea-821c-7517c39c1088\"}, {\"hoverinfo\": \"text\", \"marker\": {\"color\": \"green\", \"size\": 0.5}, \"mode\": \"markers\", \"text\": \"Tableau appears with Microstrategy 32 times\", \"x\": [-0.5183295580080512], \"y\": [-0.7357543539084075], \"type\": \"scatter\", \"uid\": \"fc9c676e-0696-4186-8043-e1ed387cab81\"}, {\"hoverinfo\": \"text\", \"marker\": {\"color\": \"blue\", \"size\": 0.5}, \"mode\": \"markers\", \"text\": \"Microstrategy appears with Tableau 32 times\", \"x\": [-0.030136470885757185], \"y\": [-0.8994952991108692], \"type\": \"scatter\", \"uid\": \"2c22b4a1-c614-425b-9e93-5582e3e9e707\"}, {\"hoverinfo\": \"text\", \"marker\": {\"color\": \"green\", \"size\": 0.5}, \"mode\": \"markers\", \"text\": \"Tableau appears with Oracle BI 301 times\", \"x\": [-0.22608623740053904], \"y\": [-0.8711400652352451], \"type\": \"scatter\", \"uid\": \"64d47670-b29a-4303-a407-2905ccfe7a7a\"}, {\"hoverinfo\": \"text\", \"marker\": {\"color\": \"blue\", \"size\": 0.5}, \"mode\": \"markers\", \"text\": \"Oracle BI appears with Tableau 301 times\", \"x\": [0.414808049379569], \"y\": [-0.798707882877036], \"type\": \"scatter\", \"uid\": \"73c90833-c40f-4176-8b21-df1c1ca4ba62\"}, {\"hoverinfo\": \"text\", \"marker\": {\"color\": \"green\", \"size\": 0.5}, \"mode\": \"markers\", \"text\": \"Tableau appears with Python 87 times\", \"x\": [-0.4091084859478479], \"y\": [-0.801642218652099], \"type\": \"scatter\", \"uid\": \"64d3f1a9-15f7-4260-8610-de1b47f47e38\"}, {\"hoverinfo\": \"text\", \"marker\": {\"color\": \"blue\", \"size\": 0.5}, \"mode\": \"markers\", \"text\": \"Python appears with Tableau 87 times\", \"x\": [0.6948276073785393], \"y\": [-0.5720267441515425], \"type\": \"scatter\", \"uid\": \"e5b5ceaf-eb41-43ae-b3d6-3fb7d841725e\"}, {\"hoverinfo\": \"text\", \"marker\": {\"color\": \"green\", \"size\": 0.5}, \"mode\": \"markers\", \"text\": \"Tableau appears with VBA 51 times\", \"x\": [-0.4768197641842949], \"y\": [-0.7633104954625172], \"type\": \"scatter\", \"uid\": \"9fc375bb-2336-4f0e-bd42-2161acaba2d6\"}, {\"hoverinfo\": \"text\", \"marker\": {\"color\": \"blue\", \"size\": 0.5}, \"mode\": \"markers\", \"text\": \"VBA appears with Tableau 51 times\", \"x\": [0.8343087167866347], \"y\": [-0.3375336503133267], \"type\": \"scatter\", \"uid\": \"432e20b5-d421-4c5e-992e-1f3d4716bfa5\"}, {\"hoverinfo\": \"text\", \"marker\": {\"color\": \"green\", \"size\": 0.5}, \"mode\": \"markers\", \"text\": \"Tableau appears with Linux 10 times\", \"x\": [-0.532089575304977], \"y\": [-0.7258654722824122], \"type\": \"scatter\", \"uid\": \"4c59d2d3-be5c-46fe-8935-01b1f74a48f5\"}, {\"hoverinfo\": \"text\", \"marker\": {\"color\": \"blue\", \"size\": 0.5}, \"mode\": \"markers\", \"text\": \"Linux appears with Tableau 10 times\", \"x\": [0.8721641397653674], \"y\": [-0.22210293403585762], \"type\": \"scatter\", \"uid\": \"6846a104-df05-4798-82bf-22894ce80124\"}, {\"hoverinfo\": \"text\", \"marker\": {\"color\": \"green\", \"size\": 0.5}, \"mode\": \"markers\", \"text\": \"Tableau appears with AWS 25 times\", \"x\": [-0.5249995893623008], \"y\": [-0.7310098707742704], \"type\": \"scatter\", \"uid\": \"969b9621-39cb-4f59-84d8-fb2579d4d787\"}, {\"hoverinfo\": \"text\", \"marker\": {\"color\": \"blue\", \"size\": 0.5}, \"mode\": \"markers\", \"text\": \"AWS appears with Tableau 25 times\", \"x\": [0.8967808635937151], \"y\": [-0.07605315701606626], \"type\": \"scatter\", \"uid\": \"a052dcec-4851-4851-bde2-7bb42d666cf2\"}, {\"hoverinfo\": \"text\", \"marker\": {\"color\": \"green\", \"size\": 0.5}, \"mode\": \"markers\", \"text\": \"Microstrategy appears with Oracle BI 43 times\", \"x\": [-0.023348490285892243], \"y\": [-0.8996970868027581], \"type\": \"scatter\", \"uid\": \"41f37ed8-3376-4657-a4fb-6c03b8200306\"}, {\"hoverinfo\": \"text\", \"marker\": {\"color\": \"blue\", \"size\": 0.5}, \"mode\": \"markers\", \"text\": \"Oracle BI appears with Microstrategy 43 times\", \"x\": [0.05798796176440787], \"y\": [-0.8981299439894038], \"type\": \"scatter\", \"uid\": \"928cf3ea-d44e-4528-a078-2a1f9438b677\"}, {\"hoverinfo\": \"text\", \"marker\": {\"color\": \"green\", \"size\": 0.5}, \"mode\": \"markers\", \"text\": \"Microstrategy appears with Python 11 times\", \"x\": [-0.05428507899621377], \"y\": [-0.8983613583621987], \"type\": \"scatter\", \"uid\": \"11d95ccf-3092-4495-b3d1-1a6e7fc8e644\"}, {\"hoverinfo\": \"text\", \"marker\": {\"color\": \"blue\", \"size\": 0.5}, \"mode\": \"markers\", \"text\": \"Python appears with Microstrategy 11 times\", \"x\": [0.5864557188509099], \"y\": [-0.6826929689304428], \"type\": \"scatter\", \"uid\": \"b6c78e83-9f4a-4160-90f1-f60a8b113f78\"}, {\"hoverinfo\": \"text\", \"marker\": {\"color\": \"green\", \"size\": 0.5}, \"mode\": \"markers\", \"text\": \"Microstrategy appears with VBA 6 times\", \"x\": [-0.05726737192381569], \"y\": [-0.8981761787717037], \"type\": \"scatter\", \"uid\": \"52d0ceb2-2e1b-4409-9bd7-5cd5afb1facc\"}, {\"hoverinfo\": \"text\", \"marker\": {\"color\": \"blue\", \"size\": 0.5}, \"mode\": \"markers\", \"text\": \"VBA appears with Microstrategy 6 times\", \"x\": [0.8195915081106702], \"y\": [-0.37184641968543586], \"type\": \"scatter\", \"uid\": \"40bfa0af-3eb9-4be5-a496-ab1f66e7743d\"}, {\"hoverinfo\": \"text\", \"marker\": {\"color\": \"green\", \"size\": 0.5}, \"mode\": \"markers\", \"text\": \"Microstrategy appears with Linux 2 times\", \"x\": [-0.06052006132852329], \"y\": [-0.8979628734957764], \"type\": \"scatter\", \"uid\": \"bb57f0cb-108d-41de-b642-053dc4b85d15\"}, {\"hoverinfo\": \"text\", \"marker\": {\"color\": \"blue\", \"size\": 0.5}, \"mode\": \"markers\", \"text\": \"Linux appears with Microstrategy 2 times\", \"x\": [0.8712787520864097], \"y\": [-0.22555118302227695], \"type\": \"scatter\", \"uid\": \"cd2e5baf-ee03-42e8-9c6f-c47a1dd33e95\"}, {\"hoverinfo\": \"text\", \"marker\": {\"color\": \"green\", \"size\": 0.5}, \"mode\": \"markers\", \"text\": \"Microstrategy appears with AWS 2 times\", \"x\": [-0.06088142303680144], \"y\": [-0.8979384457350148], \"type\": \"scatter\", \"uid\": \"c09e2c77-2ff2-4850-8fa2-9e2554f26f45\"}, {\"hoverinfo\": \"text\", \"marker\": {\"color\": \"blue\", \"size\": 0.5}, \"mode\": \"markers\", \"text\": \"AWS appears with Microstrategy 2 times\", \"x\": [0.8945437982336802], \"y\": [-0.09895146811271055], \"type\": \"scatter\", \"uid\": \"642fd70c-4fcd-4914-bf67-f8c9f72d5c81\"}, {\"hoverinfo\": \"text\", \"marker\": {\"color\": \"green\", \"size\": 0.5}, \"mode\": \"markers\", \"text\": \"Oracle BI appears with Python 105 times\", \"x\": [0.18360561977844134], \"y\": [-0.8810726283262773], \"type\": \"scatter\", \"uid\": \"1abe7c30-2470-4164-8ab0-1f9ea01093b7\"}, {\"hoverinfo\": \"text\", \"marker\": {\"color\": \"blue\", \"size\": 0.5}, \"mode\": \"markers\", \"text\": \"Python appears with Oracle BI 105 times\", \"x\": [0.7284567249869212], \"y\": [-0.5285364697173971], \"type\": \"scatter\", \"uid\": \"aaa835ca-2e8e-4b61-8f03-a02a5e312004\"}, {\"hoverinfo\": \"text\", \"marker\": {\"color\": \"green\", \"size\": 0.5}, \"mode\": \"markers\", \"text\": \"Oracle BI appears with VBA 55 times\", \"x\": [0.0849026837103469], \"y\": [-0.8959863471609268], \"type\": \"scatter\", \"uid\": \"f8a031c5-57a3-4948-a502-8a15eca2913f\"}, {\"hoverinfo\": \"text\", \"marker\": {\"color\": \"blue\", \"size\": 0.5}, \"mode\": \"markers\", \"text\": \"VBA appears with Oracle BI 55 times\", \"x\": [0.8483016390995596], \"y\": [-0.3006398661205804], \"type\": \"scatter\", \"uid\": \"4587e34c-c5e7-4a5a-bd95-796616d7180a\"}, {\"hoverinfo\": \"text\", \"marker\": {\"color\": \"green\", \"size\": 0.5}, \"mode\": \"markers\", \"text\": \"Oracle BI appears with Linux 3 times\", \"x\": [0.009252064188721456], \"y\": [-0.899952442803645], \"type\": \"scatter\", \"uid\": \"00e62247-9e96-4615-ade4-1fbccc641d46\"}, {\"hoverinfo\": \"text\", \"marker\": {\"color\": \"blue\", \"size\": 0.5}, \"mode\": \"markers\", \"text\": \"Linux appears with Oracle BI 3 times\", \"x\": [0.8715458005085733], \"y\": [-0.22451707644602487], \"type\": \"scatter\", \"uid\": \"331053bd-8fff-4cbf-9b79-11a0759165a8\"}, {\"hoverinfo\": \"text\", \"marker\": {\"color\": \"green\", \"size\": 0.5}, \"mode\": \"markers\", \"text\": \"Oracle BI appears with AWS 38 times\", \"x\": [0.04624929538212198], \"y\": [-0.8988108825980343], \"type\": \"scatter\", \"uid\": \"7a878ea0-d2a8-438d-8f45-615e32c0e806\"}, {\"hoverinfo\": \"text\", \"marker\": {\"color\": \"blue\", \"size\": 0.5}, \"mode\": \"markers\", \"text\": \"AWS appears with Oracle BI 38 times\", \"x\": [0.8987828738660417], \"y\": [-0.046790443950649185], \"type\": \"scatter\", \"uid\": \"62a926b9-feef-40c6-804d-45bb306bdc73\"}, {\"hoverinfo\": \"text\", \"marker\": {\"color\": \"green\", \"size\": 0.5}, \"mode\": \"markers\", \"text\": \"Python appears with VBA 51 times\", \"x\": [0.6418419839034628], \"y\": [-0.6309032157937278], \"type\": \"scatter\", \"uid\": \"b6d4f4a3-d5ab-44ff-91f6-629125c85d8e\"}, {\"hoverinfo\": \"text\", \"marker\": {\"color\": \"blue\", \"size\": 0.5}, \"mode\": \"markers\", \"text\": \"VBA appears with Python 51 times\", \"x\": [0.8390020564479922], \"y\": [-0.32569241513434144], \"type\": \"scatter\", \"uid\": \"08de9843-4870-4e5e-b27c-aa6ff815fa6b\"}, {\"hoverinfo\": \"text\", \"marker\": {\"color\": \"green\", \"size\": 0.5}, \"mode\": \"markers\", \"text\": \"Python appears with Linux 69 times\", \"x\": [0.6662409061027017], \"y\": [-0.6050810317928097], \"type\": \"scatter\", \"uid\": \"4e105141-bee8-4cbe-bd58-6cd7b2e3b623\"}, {\"hoverinfo\": \"text\", \"marker\": {\"color\": \"blue\", \"size\": 0.5}, \"mode\": \"markers\", \"text\": \"Linux appears with Python 69 times\", \"x\": [0.8896705664521366], \"y\": [-0.13596427173612324], \"type\": \"scatter\", \"uid\": \"6a7db4db-9810-497f-90d5-8805b42becf7\"}, {\"hoverinfo\": \"text\", \"marker\": {\"color\": \"green\", \"size\": 0.5}, \"mode\": \"markers\", \"text\": \"Python appears with AWS 66 times\", \"x\": [0.6532967716548581], \"y\": [-0.619034189803229], \"type\": \"scatter\", \"uid\": \"e21b6ebe-05b1-4482-a87d-dab34e0696a5\"}, {\"hoverinfo\": \"text\", \"marker\": {\"color\": \"blue\", \"size\": 0.5}, \"mode\": \"markers\", \"text\": \"AWS appears with Python 66 times\", \"x\": [0.899301089704142], \"y\": [-0.03546195224381656], \"type\": \"scatter\", \"uid\": \"471bae72-d662-4459-afca-2858f5e3208b\"}, {\"hoverinfo\": \"text\", \"marker\": {\"color\": \"green\", \"size\": 0.5}, \"mode\": \"markers\", \"text\": \"VBA appears with AWS 2 times\", \"x\": [0.8181406697828605], \"y\": [-0.3750277915665085], \"type\": \"scatter\", \"uid\": \"2a73c1f6-7984-4324-9e2b-f8c3d4e91b11\"}, {\"hoverinfo\": \"text\", \"marker\": {\"color\": \"blue\", \"size\": 0.5}, \"mode\": \"markers\", \"text\": \"AWS appears with VBA 2 times\", \"x\": [0.8944957380337201], \"y\": [-0.09938498196161458], \"type\": \"scatter\", \"uid\": \"156cbe2a-82cf-4e35-ad49-d9c3866f279d\"}, {\"hoverinfo\": \"text\", \"marker\": {\"color\": \"green\", \"size\": 0.5}, \"mode\": \"markers\", \"text\": \"Linux appears with AWS 19 times\", \"x\": [0.8738087674961661], \"y\": [-0.21554173110289127], \"type\": \"scatter\", \"uid\": \"b1afcb73-34e1-4002-ac6e-2ee6f8959ce1\"}, {\"hoverinfo\": \"text\", \"marker\": {\"color\": \"blue\", \"size\": 0.5}, \"mode\": \"markers\", \"text\": \"AWS appears with Linux 19 times\", \"x\": [0.895960418943432], \"y\": [-0.08517586328714115], \"type\": \"scatter\", \"uid\": \"afb5dc49-bf65-40ac-ac53-bfd4942ff549\"}], {\"autosize\": true, \"font\": {\"color\": \"#655643\", \"family\": \"Fira Sans Condensed\", \"size\": 12}, \"hidesources\": true, \"hoverdistance\": 40, \"hovermode\": \"closest\", \"margin\": {\"b\": 10, \"l\": 260, \"r\": 270, \"t\": 80}, \"paper_bgcolor\": \"#fffaf0\", \"plot_bgcolor\": \"#fffaf0\", \"shapes\": [{\"fillcolor\": \"#f2e6ce\", \"layer\": \"below\", \"line\": {\"color\": \"rgb(175,175,175)\", \"width\": 0.5}, \"path\": \"M 0.9792328062369008,0.20273902236472463 Q 0.18521462698304975, 0.07546881443039732 0.8420633058740382, 0.539378706384008L 0.8420633058740382, 0.539378706384008 L 0.8555539451049349, 0.5177136728109294 L 0.8684873012843133, 0.495711415551317 M 0.8684873012843133,0.495711415551317 Q 0.18537307639332498, 0.07507877561917552 0.9686671147151169, 0.24836268010611126L 0.9686671147151169, 0.24836268010611126 L 0.9742170728578128, 0.22561271008601222 L 0.9792328062369008, 0.20273902236472463 \", \"type\": \"path\"}, {\"fillcolor\": \"#f2e6ce\", \"layer\": \"below\", \"line\": {\"color\": \"rgb(175,175,175)\", \"width\": 0.5}, \"path\": \"M 0.9968128583146245,0.0797754692786463 Q 0.14522286635820927, 0.13751479588286378 0.1339673713780044, 0.9909857432910263L 0.1339673713780044, 0.9909857432910263 L 0.1481124207262162, 0.9889705308180928 L 0.1622272338861158, 0.9867534264372531 M 0.1622272338861158,0.9867534264372531 Q 0.14532978074054614, 0.13740180067926616 0.9942936888111812, 0.10667736587605671L 0.9942936888111812, 0.10667736587605671 L 0.9956441374868565, 0.09323492633157106 L 0.9968128583146245, 0.0797754692786463 \", \"type\": \"path\"}, {\"fillcolor\": \"#f2e6ce\", \"layer\": \"below\", \"line\": {\"color\": \"rgb(175,175,175)\", \"width\": 0.5}, \"path\": \"M 0.9985238883714366,0.0543143107439173 Q 0.10422037179439468, 0.17069889895086654 -0.4079178598367613, 0.9130186304923883L -0.4079178598367613, 0.9130186304923883 L -0.3957589706587543, 0.918354418045192 L -0.3835303055273598, 0.9235282912515945 M -0.3835303055273598,0.9235282912515945 Q 0.10430888332930124, 0.1706448266388238 0.9968128583146245, 0.0797754692786463L 0.9968128583146245, 0.0797754692786463 L 0.9977495932434206, 0.06705034811683458 L 0.9985238883714366, 0.0543143107439173 \", \"type\": \"path\"}, {\"fillcolor\": \"#f2e6ce\", \"layer\": \"below\", \"line\": {\"color\": \"rgb(175,175,175)\", \"width\": 0.5}, \"path\": \"M 0.9999988732985522,0.0015011334471414417 Q 0.07894515020577668, 0.18375979772242723 -0.6872935443418305, 0.7263797793895727L -0.6872935443418305, 0.7263797793895727 L -0.6867920246589265, 0.7268539845559715 L -0.6862901777934308, 0.7273278434545601 M -0.6862901777934308,0.7273278434545601 Q 0.07893405923123203, 0.1837645621257819 0.9999954931967477, 0.003002263511624427L 0.9999954931967477, 0.003002263511624427 L 0.9999974649223375, 0.0022516991136311867 L 0.9999988732985522, 0.0015011334471414417 \", \"type\": \"path\"}, {\"fillcolor\": \"#f2e6ce\", \"layer\": \"below\", \"line\": {\"color\": \"rgb(175,175,175)\", \"width\": 0.5}, \"path\": \"M 0.9995031657143884,0.03151859335243065 Q 0.054790337855909914, 0.1923486908654053 -0.8328701979561935, 0.5534683670783823L -0.8328701979561935, 0.5534683670783823 L -0.8303430950343871, 0.5572524962068047 L -0.8277987991260716, 0.5610250869305523 M -0.8277987991260716,0.5610250869305523 Q 0.05479937310099327, 0.1923461169551861 0.999178746924381, 0.04051952238888972L 0.999178746924381, 0.04051952238888972 L 0.999351090037041, 0.036019423118337064 L 0.9995031657143884, 0.03151859335243065 \", \"type\": \"path\"}, {\"fillcolor\": \"#f2e6ce\", \"layer\": \"below\", \"line\": {\"color\": \"rgb(175,175,175)\", \"width\": 0.5}, \"path\": \"M 0.9999998197277399,0.0006004535682855322 Q 0.03321044411226914, 0.19722339212645607 -0.944656504928382, 0.32806110360189555L -0.944656504928382, 0.32806110360189555 L -0.9445490043405205, 0.3283704895378565 L -0.9444414024251877, 0.32867984024753416 M -0.9444414024251877,0.32867984024753416 Q 0.03318622285729759, 0.19722746921376288 0.9999988732985522, 0.0015011334471414417L 0.9999988732985522, 0.0015011334471414417 L 0.9999994479162377, 0.001050793614267267 L 0.9999998197277399, 0.0006004535682855322 \", \"type\": \"path\"}, {\"fillcolor\": \"#f2e6ce\", \"layer\": \"below\", \"line\": {\"color\": \"rgb(175,175,175)\", \"width\": 0.5}, \"path\": \"M 0.9999898597022033,0.004503386810798122 Q 0.023755820013766613, 0.19858414089617915 -0.9707109536857598, 0.2402503785522151L -0.9707109536857598, 0.2402503785522151 L -0.9704838971354475, 0.2411659291873422 L -0.9702559770605562, 0.24208126523600573 M -0.9702559770605562,0.24208126523600573 Q 0.023734470449924546, 0.19858669369437032 0.9999781871351753, 0.006604941623387706L 0.9999781871351753, 0.006604941623387706 L 0.9999845754939359, 0.005554167283458484 L 0.9999898597022033, 0.004503386810798122 \", \"type\": \"path\"}, {\"fillcolor\": \"#f2e6ce\", \"layer\": \"below\", \"line\": {\"color\": \"rgb(175,175,175)\", \"width\": 0.5}, \"path\": \"M 0.9999205009842863,0.012609191541647385 Q 0.006090358119115125, 0.19990724733731124 -0.9972984365479133, 0.07345630305894688L -0.9972984365479133, 0.07345630305894688 L -0.9971225429385365, 0.07580655884411631 L -0.9969411106715825, 0.07815639355108021 M -0.9969411106715825,0.07815639355108021 Q 0.006051356354907035, 0.19990843175380557 0.9998431221628973, 0.017712455040162223L 0.9998431221628973, 0.017712455040162223 L 0.9998850673653805, 0.015160872657223313 L 0.9999205009842863, 0.012609191541647385 \", \"type\": \"path\"}, {\"fillcolor\": \"#f2e6ce\", \"layer\": \"below\", \"line\": {\"color\": \"rgb(175,175,175)\", \"width\": 0.5}, \"path\": \"M 0.9998431221628973,0.017712455040162223 Q -0.013495689359413808, 0.1995441464155594 -0.9931228387423974, -0.11707701383381064L -0.9931228387423974, -0.11707701383381064 L -0.9934813629356698, -0.11399465557421519 L -0.993830320427938, -0.11091119960627144 M -0.993830320427938,-0.11091119960627144 Q -0.013535469117909833, 0.19954145202377904 0.9997043229884804, 0.024315974135206354L 0.9997043229884804, 0.024315974135206354 L 0.999779174602552, 0.021014329183677214 L 0.9998431221628973, 0.017712455040162223 \", \"type\": \"path\"}, {\"fillcolor\": \"#f2e6ce\", \"layer\": \"below\", \"line\": {\"color\": \"rgb(175,175,175)\", \"width\": 0.5}, \"path\": \"M 0.9999781871351753,0.006604941623387706 Q -0.0285397953934476, 0.19795322699794554 -0.9611188250435928, -0.27613511936518265L -0.9611188250435928, -0.27613511936518265 L -0.961396698387451, -0.27516611043096967 L -0.9616735947677623, -0.274196821875181 M -0.9616735947677623,-0.274196821875181 Q -0.02854825397205113, 0.19795200730264717 0.9999620979956083, 0.008706467264137173L 0.9999620979956083, 0.008706467264137173 L 0.999970694632975, 0.007655708670354884 L 0.9999781871351753, 0.006604941623387706 \", \"type\": \"path\"}, {\"fillcolor\": \"#f2e6ce\", \"layer\": \"below\", \"line\": {\"color\": \"rgb(175,175,175)\", \"width\": 0.5}, \"path\": \"M 0.9910085016348226,0.1337989151208029 Q -0.07623721241000467, 0.18489966858799892 -0.7973189034391762, -0.6035582542046373L -0.7973189034391762, -0.6035582542046373 L -0.8080888386466908, -0.5890606325792299 L -0.8185951974674472, -0.5743708755527486 M -0.8185951974674472,-0.5743708755527486 Q -0.07608973961878579, 0.1849604052892007 0.9857992596759654, 0.16792801916987732L 0.9857992596759654, 0.16792801916987732 L 0.9885511773451289, 0.15088594954322154 L 0.9910085016348226, 0.1337989151208029 \", \"type\": \"path\"}, {\"fillcolor\": \"#f2e6ce\", \"layer\": \"below\", \"line\": {\"color\": \"rgb(175,175,175)\", \"width\": 0.5}, \"path\": \"M 0.9857992596759654,0.16792801916987732 Q -0.12523871146557666, 0.1559335279869023 -0.37667185276071014, -0.9263467576117562L -0.37667185276071014, -0.9263467576117562 L -0.3940452187710158, -0.9190910540113544 L -0.4112789039941955, -0.9115095518585273 M -0.4112789039941955,-0.9115095518585273 Q -0.1250648439902784, 0.15607301111238717 0.9792328062369008, 0.20273902236472463L 0.9792328062369008, 0.20273902236472463 L 0.9826701921307599, 0.18536260005107674 L 0.9857992596759654, 0.16792801916987732 \", \"type\": \"path\"}, {\"fillcolor\": \"#f2e6ce\", \"layer\": \"below\", \"line\": {\"color\": \"rgb(175,175,175)\", \"width\": 0.5}, \"path\": \"M 0.9999620979956083,0.008706467264137173 Q -0.13799231891904573, 0.1447691953398387 -0.056600651155938514, -0.9983968981766338L -0.056600651155938514, -0.9983968981766338 L -0.05790640108269606, -0.9983220165425832 L -0.05921205195533543, -0.9982454271887443 M -0.05921205195533543,-0.9982454271887443 Q -0.13808546072208397, 0.1446803564315827 0.9999205009842863, 0.012609191541647385L 0.9999205009842863, 0.012609191541647385 L 0.9999432035069997, 0.010657849696772463 L 0.9999620979956083, 0.008706467264137173 \", \"type\": \"path\"}, {\"fillcolor\": \"#f2e6ce\", \"layer\": \"below\", \"line\": {\"color\": \"rgb(175,175,175)\", \"width\": 0.5}, \"path\": \"M 0.9942936888111812,0.10667736587605671 Q -0.1587126244722415, 0.12169758762248846 0.15498079213622443, -0.9879174834310953L 0.15498079213622443, -0.9879174834310953 L 0.1404640226230412, -0.9900857833281689 L 0.12591699180467977, -0.9920407810039162 M 0.12591699180467977,-0.9920407810039162 Q -0.15858870007870282, 0.12185903416385364 0.9910085016348226, 0.1337989151208029L 0.9910085016348226, 0.1337989151208029 L 0.9927437189203384, 0.12024935984950637 L 0.9942936888111812, 0.10667736587605671 \", \"type\": \"path\"}, {\"fillcolor\": \"#f2e6ce\", \"layer\": \"below\", \"line\": {\"color\": \"rgb(175,175,175)\", \"width\": 0.5}, \"path\": \"M 0.999178746924381,0.04051952238888972 Q -0.18631091488430995, 0.07272030662044414 0.7075346330422727, -0.7066786702920476L 0.7075346330422727, -0.7066786702920476 L 0.7024240477584847, -0.7117587070985405 L 0.6972769892072374, -0.7168017859367332 M 0.6972769892072374,-0.7168017859367332 Q -0.18628904022933296, 0.07277632506821134 0.9985238883714366, 0.0543143107439173L 0.9985238883714366, 0.0543143107439173 L 0.9988751317424034, 0.0474180470559086 L 0.999178746924381, 0.04051952238888972 \", \"type\": \"path\"}, {\"fillcolor\": \"#f2e6ce\", \"layer\": \"below\", \"line\": {\"color\": \"rgb(175,175,175)\", \"width\": 0.5}, \"path\": \"M 0.9997043229884804,0.024315974135206354 Q -0.1961943432420786, 0.03883013880749664 0.9150753669355355, -0.4032828694945957L 0.9150753669355355, -0.4032828694945957 L 0.9137273327759892, -0.4063278987936672 L 0.9123691659289906, -0.40936842216032987 M 0.9123691659289906,-0.40936842216032987 Q -0.1962049227963264, 0.03877664594169541 0.9995031657143884, 0.03151859335243065L 0.9995031657143884, 0.03151859335243065 L 0.999610231616456, 0.027917464922429882 L 0.9997043229884804, 0.024315974135206354 \", \"type\": \"path\"}, {\"fillcolor\": \"#f2e6ce\", \"layer\": \"below\", \"line\": {\"color\": \"rgb(175,175,175)\", \"width\": 0.5}, \"path\": \"M 1.0,0.0 Q -0.19839462589895349, 0.025289768967198912 0.9680213792792851, -0.25086771266591956L 0.9680213792792851, -0.25086771266591956 L 0.9679551889204983, -0.2511229823052493 L 0.9678889312464753, -0.2513782344805446 M 0.9678889312464753,-0.2513782344805446 Q -0.19839554923036118, 0.02528252450969511 0.9999998197277399, 0.0006004535682855322L 0.9999998197277399, 0.0006004535682855322 L 0.9999999549319339, 0.0003002267976734072 L 1.0, 0.0 \", \"type\": \"path\"}, {\"fillcolor\": \"#f2e6ce\", \"layer\": \"below\", \"line\": {\"color\": \"rgb(175,175,175)\", \"width\": 0.5}, \"path\": \"M 0.9999954931967477,0.003002263511624427 Q -0.19972324057277294, 0.010517945384449624 0.9941488199040586, -0.10801909036539616L 0.9941488199040586, -0.10801909036539616 L 0.994083200464094, -0.1086213172220985 L 0.994017216212397, -0.10922350421661425 M 0.994017216212397,-0.10922350421661425 Q -0.19972476122254487, 0.010489030202904478 0.9999898597022033, 0.004503386810798122L 0.9999898597022033, 0.004503386810798122 L 0.9999929581228937, 0.003752826218290107 L 0.9999954931967477, 0.003002263511624427 \", \"type\": \"path\"}, {\"fillcolor\": \"#ecd5bb\", \"layer\": \"below\", \"line\": {\"color\": \"rgb(175,175,175)\", \"width\": 0.5}, \"path\": \"M 0.5550980251351606,0.8317849376437666 Q 0.03810882305289834, 0.19633572676801053 -0.20361419046752308, 0.9790512047080353L -0.20361419046752308, 0.9790512047080353 L -0.14625821265767922, 0.9892464481766822 L -0.08840588549187832, 0.9960845342692541 M -0.08840588549187832,0.9960845342692541 Q 0.037759204710911265, 0.19640326489037674 0.4514533110648892, 0.8922947427439817L 0.4514533110648892, 0.8922947427439817 L 0.5041842492877409, 0.8635961109049515 L 0.5550980251351606, 0.8317849376437666 \", \"type\": \"path\"}, {\"fillcolor\": \"#ecd5bb\", \"layer\": \"below\", \"line\": {\"color\": \"rgb(175,175,175)\", \"width\": 0.5}, \"path\": \"M 0.8107726675829416,0.5853611547587018 Q 0.03208273178518864, 0.1974099752322553 -0.5836783662383542, 0.8119849535461391L -0.5836783662383542, 0.8119849535461391 L -0.5576399043114965, 0.8300829700213498 L -0.5310407133226315, 0.8473463051160315 M -0.5310407133226315,0.8473463051160315 Q 0.03178646037363083, 0.19745789661828062 0.7701310215192853, 0.6378857340414991L 0.7701310215192853, 0.6378857340414991 L 0.7908879986518106, 0.6119609248869846 L 0.8107726675829416, 0.5853611547587018 \", \"type\": \"path\"}, {\"fillcolor\": \"#ecd5bb\", \"layer\": \"below\", \"line\": {\"color\": \"rgb(175,175,175)\", \"width\": 0.5}, \"path\": \"M 0.95424417705391,0.29902851128062363 Q 0.05480423892538534, 0.19234473061617594 -0.6533327775189577, 0.757070856538121L -0.6533327775189577, 0.757070856538121 L -0.6499006980003038, 0.7600191331398952 L -0.6464553140364284, 0.7629518510063807 M -0.6464553140364284,0.7629518510063807 Q 0.05444713030780023, 0.19244612233361685 0.9503505794509609, 0.3111812592962866L 0.9503505794509609, 0.3111812592962866 L 0.9523167639748579, 0.305111096246031 L 0.95424417705391, 0.29902851128062363 \", \"type\": \"path\"}, {\"fillcolor\": \"#ecd5bb\", \"layer\": \"below\", \"line\": {\"color\": \"rgb(175,175,175)\", \"width\": 0.5}, \"path\": \"M 0.9184127559071583,0.39562357081829497 Q 0.02677207533585383, 0.1982000403183899 -0.7805360014603188, 0.6251108305127477L -0.7805360014603188, 0.6251108305127477 L -0.7734977192181351, 0.6337990835938018 L -0.7663627318479863, 0.6424080971115569 M -0.7663627318479863,0.6424080971115569 Q 0.026361601684789484, 0.1982550527896137 0.9076056921202675, 0.41982366254284686L 0.9076056921202675, 0.41982366254284686 L 0.9130894010139377, 0.4077594214190625 L 0.9184127559071583, 0.39562357081829497 \", \"type\": \"path\"}, {\"fillcolor\": \"#ecd5bb\", \"layer\": \"below\", \"line\": {\"color\": \"rgb(175,175,175)\", \"width\": 0.5}, \"path\": \"M 0.8914658386349041,0.45308791481010297 Q -0.010298584425583993, 0.19973467189957061 -0.9333380960042883, 0.35899860521607857L -0.9333380960042883, 0.35899860521607857 L -0.9250446241345646, 0.37985845174188526 L -0.9162850085207966, 0.4005268819443254 M -0.9162850085207966,0.4005268819443254 Q -0.010651157803283674, 0.19971618071015065 0.8684873012843133, 0.495711415551317L 0.8684873012843133, 0.495711415551317 L 0.8802346018998214, 0.47453877145946977 L 0.8914658386349041, 0.45308791481010297 \", \"type\": \"path\"}, {\"fillcolor\": \"#ecd5bb\", \"layer\": \"below\", \"line\": {\"color\": \"rgb(175,175,175)\", \"width\": 0.5}, \"path\": \"M 0.9503505794509609,0.3111812592962866 Q -0.002258031076873342, 0.19998725283291402 -0.9571344233156026, 0.28964408453187646L -0.9571344233156026, 0.28964408453187646 L -0.9556355764605665, 0.29455159989869456 L -0.9541115674828773, 0.29945135964855274 M -0.9541115674828773,0.29945135964855274 Q -0.0027696333367576162, 0.19998082190845182 0.9454527148521216, 0.3257593651435872L 0.9454527148521216, 0.3257593651435872 L 0.9479296719509991, 0.3184797278240347 L 0.9503505794509609, 0.3111812592962866 \", \"type\": \"path\"}, {\"fillcolor\": \"#ecd5bb\", \"layer\": \"below\", \"line\": {\"color\": \"rgb(175,175,175)\", \"width\": 0.5}, \"path\": \"M 0.939549410042782,0.3424133555927109 Q -0.02260390667961442, 0.19871855324256787 -0.9924497843002791, 0.12265164345547722L -0.9924497843002791, 0.12265164345547722 L -0.9915134984385803, 0.1300037784608103 L -0.9905227482244767, 0.13734877229094486 M -0.9905227482244767,0.13734877229094486 Q -0.022919213737456267, 0.1986824341547506 0.9332352670496461, 0.3592658296231019L 0.9332352670496461, 0.3592658296231019 L 0.9364302500230777, 0.35085379696066593 L 0.939549410042782, 0.3424133555927109 \", \"type\": \"path\"}, {\"fillcolor\": \"#ecd5bb\", \"layer\": \"below\", \"line\": {\"color\": \"rgb(175,175,175)\", \"width\": 0.5}, \"path\": \"M 0.9332352670496461,0.3592658296231019 Q -0.03476385793543373, 0.1969555132039847 -0.9998367831633913, 0.01806673831884227L -0.9998367831633913, 0.01806673831884227 L -0.9996627977069444, 0.025967111520625228 L -0.999426387139822, 0.033865863175807906 M -0.999426387139822,0.033865863175807906 Q -0.03504414537635319, 0.19690583504518355 0.9263726088137874, 0.37660827080606935L 0.9263726088137874, 0.37660827080606935 L 0.929844370343701, 0.3679530499127926 L 0.9332352670496461, 0.3592658296231019 \", \"type\": \"path\"}, {\"fillcolor\": \"#ecd5bb\", \"layer\": \"below\", \"line\": {\"color\": \"rgb(175,175,175)\", \"width\": 0.5}, \"path\": \"M 0.9263726088137874,0.37660827080606935 Q -0.056263826859050105, 0.1919228537386177 -0.9830822308673851, -0.18316475466859125L -0.9830822308673851, -0.18316475466859125 L -0.9846710454331244, -0.1744217081834648 L -0.9861821052591629, -0.16566488845438923 M -0.9861821052591629,-0.16566488845438923 Q -0.05653648549603148, 0.19184271111448833 0.9184127559071583, 0.39562357081829497L 0.9184127559071583, 0.39562357081829497 L 0.9224416815608383, 0.38613643200197145 L 0.9263726088137874, 0.37660827080606935 \", \"type\": \"path\"}, {\"fillcolor\": \"#ecd5bb\", \"layer\": \"below\", \"line\": {\"color\": \"rgb(175,175,175)\", \"width\": 0.5}, \"path\": \"M 0.9076056921202675,0.41982366254284686 Q -0.0830517647634065, 0.18194066167210615 -0.9117779657393217, -0.41068350489429734L -0.9117779657393217, -0.41068350489429734 L -0.9183400117690937, -0.39579239859292487 L -0.9246588763174934, -0.3807964842895354 M -0.9246588763174934,-0.3807964842895354 Q -0.08345447674105702, 0.18175629373387975 0.8914658386349041, 0.45308791481010297L 0.8914658386349041, 0.45308791481010297 L 0.8996895135618532, 0.436530387472437 L 0.9076056921202675, 0.41982366254284686 \", \"type\": \"path\"}, {\"fillcolor\": \"#ecd5bb\", \"layer\": \"below\", \"line\": {\"color\": \"rgb(175,175,175)\", \"width\": 0.5}, \"path\": \"M 0.716574759947032,0.6975102962730038 Q -0.1486310532059556, 0.13382380215375886 -0.6187622884953166, -0.7855782776630466L -0.6187622884953166, -0.7855782776630466 L -0.6561412489223847, -0.7546380996627279 L -0.6919753370504782, -0.7219211403705235 M -0.6919753370504782,-0.7219211403705235 Q -0.1489019749766329, 0.13352228970497093 0.6425106171078044, 0.7662767821771376L 0.6425106171078044, 0.7662767821771376 L 0.6804119876420259, 0.7328298077132421 L 0.716574759947032, 0.6975102962730038 \", \"type\": \"path\"}, {\"fillcolor\": \"#ecd5bb\", \"layer\": \"below\", \"line\": {\"color\": \"rgb(175,175,175)\", \"width\": 0.5}, \"path\": \"M 0.6425106171078044,0.7662767821771376 Q -0.18432551730266933, 0.07761509950456391 -0.09915168062512733, -0.9950723311544808L -0.09915168062512733, -0.9950723311544808 L -0.15201571866489913, -0.9883780760816148 L -0.20444812029832088, -0.9788774009580992 M -0.20444812029832088,-0.9788774009580992 Q -0.18443029740780834, 0.07736578958472132 0.5550980251351606, 0.8317849376437666L 0.5550980251351606, 0.8317849376437666 L 0.5996994618989745, 0.8002253153944084 L 0.6425106171078044, 0.7662767821771376 \", \"type\": \"path\"}, {\"fillcolor\": \"#ecd5bb\", \"layer\": \"below\", \"line\": {\"color\": \"rgb(175,175,175)\", \"width\": 0.5}, \"path\": \"M 0.9603878756594927,0.278666697483296 Q -0.1576851537435209, 0.12302598216995538 -0.03670241799794448, -0.999326239279798L -0.03670241799794448, -0.999326239279798 L -0.03961790468727027, -0.9992149026251512 L -0.04253305413082709, -0.9990950601951268 M -0.04253305413082709,-0.9990950601951268 Q -0.15790965707782692, 0.12273768859467374 0.9577003538697991, 0.2877673230192434L 0.9577003538697991, 0.2877673230192434 L 0.9590549094869332, 0.2832201980597612 L 0.9603878756594927, 0.278666697483296 \", \"type\": \"path\"}, {\"fillcolor\": \"#ecd5bb\", \"layer\": \"below\", \"line\": {\"color\": \"rgb(175,175,175)\", \"width\": 0.5}, \"path\": \"M 0.4514533110648892,0.8922947427439817 Q -0.19892398175338993, -0.020718336887332354 0.6256380267673785, -0.7801134913989253L 0.6256380267673785, -0.7801134913989253 L 0.566088366717155, -0.8243445645283917 L 0.5034237772139356, -0.8640396406043265 M 0.5034237772139356,-0.8640396406043265 Q -0.19890184690180998, -0.0209297706401421 0.31254884788174614, 0.9499016884329626L 0.31254884788174614, 0.9499016884329626 L 0.3830854536088303, 0.9237129073653333 L 0.4514533110648892, 0.8922947427439817 \", \"type\": \"path\"}, {\"fillcolor\": \"#ecd5bb\", \"layer\": \"below\", \"line\": {\"color\": \"rgb(175,175,175)\", \"width\": 0.5}, \"path\": \"M 0.7701310215192853,0.6378857340414991 Q -0.19867930725994887, -0.02294630398793738 0.8952606995196009, -0.44554268021781585L 0.8952606995196009, -0.44554268021781585 L 0.8775060242262346, -0.47956561328630215 L 0.8584589681785982, -0.5128822476492402 M 0.8584589681785982,-0.5128822476492402 Q -0.1986399092608503, -0.023284897441070537 0.716574759947032, 0.6975102962730038L 0.716574759947032, 0.6975102962730038 L 0.7439504635838786, 0.6682347699224667 L 0.7701310215192853, 0.6378857340414991 \", \"type\": \"path\"}, {\"fillcolor\": \"#ecd5bb\", \"layer\": \"below\", \"line\": {\"color\": \"rgb(175,175,175)\", \"width\": 0.5}, \"path\": \"M 0.8420633058740382,0.539378706384008 Q -0.19798818132853957, -0.028296290467432917 0.959441045952734, -0.28190934596271144L 0.959441045952734, -0.28190934596271144 L 0.952525070960726, -0.3044601602693919 L 0.9450791396559644, -0.3268415820961925 M 0.9450791396559644,-0.3268415820961925 Q -0.19786685932994674, -0.029132558742806625 0.8107726675829416, 0.5853611547587018L 0.8107726675829416, 0.5853611547587018 L 0.8267377366359924, 0.5625875174779446 L 0.8420633058740382, 0.539378706384008 \", \"type\": \"path\"}, {\"fillcolor\": \"#ecd5bb\", \"layer\": \"below\", \"line\": {\"color\": \"rgb(175,175,175)\", \"width\": 0.5}, \"path\": \"M 0.9454527148521216,0.3257593651435872 Q -0.19939984348517847, -0.015482325990830138 0.9844051317626973, -0.17591627712996505L 0.9844051317626973, -0.17591627712996505 L 0.9831276281621065, -0.18292093030692447 L 0.9818002827616354, -0.18991630990826636 M 0.9818002827616354,-0.18991630990826636 Q -0.19937300506367486, -0.015824185662456147 0.939549410042782, 0.3424133555927109L 0.939549410042782, 0.3424133555927109 L 0.9425378462237181, 0.33409939903560854 L 0.9454527148521216, 0.3257593651435872 \", \"type\": \"path\"}, {\"fillcolor\": \"#ecd5bb\", \"layer\": \"below\", \"line\": {\"color\": \"rgb(175,175,175)\", \"width\": 0.5}, \"path\": \"M 0.9577003538697991,0.2877673230192434 Q -0.1986177031624913, -0.023473559390439536 0.9983976945136912, -0.05658660256408872L 0.9983976945136912, -0.05658660256408872 L 0.9981413847122488, -0.06094075914127196 L 0.9978660858955862, -0.06529375635864847 M 0.9978660858955862,-0.06529375635864847 Q -0.19858160019021331, -0.023777049141856833 0.95424417705391, 0.29902851128062363L 0.95424417705391, 0.29902851128062363 L 0.9559888471747644, 0.2934030062515804 L 0.9577003538697991, 0.2877673230192434 \", \"type\": \"path\"}, {\"fillcolor\": \"#e6c4a9\", \"layer\": \"below\", \"line\": {\"color\": \"rgb(175,175,175)\", \"width\": 0.5}, \"path\": \"M -0.026286239263590104,0.9996544571127451 Q -0.05777638836442606, 0.19147294573271445 -0.5310407133226315, 0.8473463051160315L -0.5310407133226315, 0.8473463051160315 L -0.5048517595134336, 0.8632060593602146 L -0.4781895611451613, 0.8782566501950315 M -0.4781895611451613,0.8782566501950315 Q -0.05787173838889196, 0.19144414824132822 -0.08840588549187832, 0.9960845342692541L -0.08840588549187832, 0.9960845342692541 L -0.05737383512985778, 0.9983527648293923 L -0.026286239263590104, 0.9996544571127451 \", \"type\": \"path\"}, {\"fillcolor\": \"#e6c4a9\", \"layer\": \"below\", \"line\": {\"color\": \"rgb(175,175,175)\", \"width\": 0.5}, \"path\": \"M 0.27310220320395223,0.9619850241064812 Q -0.03849154297293152, 0.19626105349651768 -0.6162313468477777, 0.7875651891508245L -0.6162313468477777, 0.7875651891508245 L -0.6145853689006394, 0.7888503180789528 L -0.6129367108697698, 0.7901320069887995 M -0.6129367108697698,0.7901320069887995 Q -0.03864252442677349, 0.19623138206190727 0.2675998356753536, 0.9635301385771613L 0.2675998356753536, 0.9635301385771613 L 0.2703521232702666, 0.9627615122361605 L 0.27310220320395223, 0.9619850241064812 \", \"type\": \"path\"}, {\"fillcolor\": \"#e6c4a9\", \"layer\": \"below\", \"line\": {\"color\": \"rgb(175,175,175)\", \"width\": 0.5}, \"path\": \"M 0.22637520662869737,0.9740401766989977 Q -0.058161412085521697, 0.19135634336028198 -0.7301183645732857, 0.6833206960957868L -0.7301183645732857, 0.6833206960957868 L -0.726144372220966, 0.687542253750138 L -0.7221459711324526, 0.6917407002462461 M -0.7221459711324526,0.6917407002462461 Q -0.05832786115204722, 0.19130567323900122 0.21336618192536871, 0.9769722986915189L 0.21336618192536871, 0.9769722986915189 L 0.21987558194740336, 0.975527922954177 L 0.22637520662869737, 0.9740401766989977 \", \"type\": \"path\"}, {\"fillcolor\": \"#e6c4a9\", \"layer\": \"below\", \"line\": {\"color\": \"rgb(175,175,175)\", \"width\": 0.5}, \"path\": \"M 0.1339673713780044,0.9909857432910263 Q -0.09154953376704106, 0.17781643025051821 -0.8844396250714952, 0.46665463632475884L -0.8844396250714952, 0.46665463632475884 L -0.8771143221102228, 0.4802816527300667 L -0.8695790768893925, 0.49379371101320435 M -0.8695790768893925,0.49379371101320435 Q -0.0916778561796544, 0.17775030432126582 0.10180853211424158, 0.9948040122500228L 0.10180853211424158, 0.9948040122500228 L 0.11790340945603314, 0.9930250681823913 L 0.1339673713780044, 0.9909857432910263 \", \"type\": \"path\"}, {\"fillcolor\": \"#e6c4a9\", \"layer\": \"below\", \"line\": {\"color\": \"rgb(175,175,175)\", \"width\": 0.5}, \"path\": \"M 0.2614758503228246,0.9652100184405236 Q -0.09553510628430001, 0.1757072664042313 -0.9522629319106113, 0.3052790666079258L -0.9522629319106113, 0.3052790666079258 L -0.9514933549473774, 0.30766929565847834 L -0.9507177783964423, 0.3100575847176346 M -0.9507177783964423,0.3100575847176346 Q -0.09573540543600523, 0.17559821225173022 0.2544202473535834, 0.9670937585035597L 0.2544202473535834, 0.9670937585035597 L 0.25794976840189776, 0.9661583291476648 L 0.2614758503228246, 0.9652100184405236 \", \"type\": \"path\"}, {\"fillcolor\": \"#e6c4a9\", \"layer\": \"below\", \"line\": {\"color\": \"rgb(175,175,175)\", \"width\": 0.5}, \"path\": \"M 0.2544202473535834,0.9670937585035597 Q -0.10368871428807125, 0.17102236850566283 -0.9751302067238102, 0.22163275916429667L -0.9751302067238102, 0.22163275916429667 L -0.9742870154913595, 0.22531047788538247 L -0.9734299537375896, 0.22898498895437272 M -0.9734299537375896,0.22898498895437272 Q -0.10380362021161771, 0.17095264967517243 0.245812541241899, 0.969317385879465L 0.245812541241899, 0.969317385879465 L 0.2501188653943957, 0.9682151378561585 L 0.2544202473535834, 0.9670937585035597 \", \"type\": \"path\"}, {\"fillcolor\": \"#e6c4a9\", \"layer\": \"below\", \"line\": {\"color\": \"rgb(175,175,175)\", \"width\": 0.5}, \"path\": \"M 0.245812541241899,0.969317385879465 Q -0.1180981992068772, 0.16140884530933475 -0.998253850748576, 0.05906986935519435L -0.998253850748576, 0.05906986935519435 L -0.9980170306092316, 0.06294447246527766 L -0.9977651717174861, 0.06681812708820357 M -0.9977651717174861,0.06681812708820357 Q -0.11818910525258644, 0.16134229265630584 0.23718540681410544, 0.971464401197711L 0.23718540681410544, 0.971464401197711 L 0.24150135998638161, 0.9704004807937433 L 0.245812541241899, 0.969317385879465 \", \"type\": \"path\"}, {\"fillcolor\": \"#e6c4a9\", \"layer\": \"below\", \"line\": {\"color\": \"rgb(175,175,175)\", \"width\": 0.5}, \"path\": \"M 0.23718540681410544,0.971464401197711 Q -0.13446042440841763, 0.14805537568054802 -0.9897501591397696, -0.14280974225451404L -0.9897501591397696, -0.14280974225451404 L -0.9904431202915522, -0.13792180925123362 L -0.9911119422802095, -0.13303051480600483 M -0.9911119422802095,-0.13303051480600483 Q -0.13455213825295737, 0.14797203145039625 0.22637520662869737, 0.9740401766989977L 0.22637520662869737, 0.9740401766989977 L 0.23178388476925044, 0.9727673055573336 L 0.23718540681410544, 0.971464401197711 \", \"type\": \"path\"}, {\"fillcolor\": \"#e6c4a9\", \"layer\": \"below\", \"line\": {\"color\": \"rgb(175,175,175)\", \"width\": 0.5}, \"path\": \"M 0.1800580880247136,0.9836559789565071 Q -0.15266684519454854, 0.1292007522359826 -0.9403404440090325, -0.3402349913822733L -0.9403404440090325, -0.3402349913822733 L -0.9431015575731211, -0.33250481515784547 L -0.9457991255459864, -0.3247522349675939 M -0.9457991255459864,-0.3247522349675939 Q -0.15277539099267246, 0.12907238243340852 0.1622272338861158, 0.9867534264372531L 0.1622272338861158, 0.9867534264372531 L 0.17114966825595668, 0.9852450411221951 L 0.1800580880247136, 0.9836559789565071 \", \"type\": \"path\"}, {\"fillcolor\": \"#e6c4a9\", \"layer\": \"below\", \"line\": {\"color\": \"rgb(175,175,175)\", \"width\": 0.5}, \"path\": \"M 0.21336618192536871,0.9769722986915189 Q -0.16494004633728723, 0.11311401820399425 -0.8345026406950928, -0.5510039407054333L -0.8345026406950928, -0.5510039407054333 L -0.8390599789014875, -0.5440389248995289 L -0.8435591863808428, -0.5370362176543502 M -0.8435591863808428,-0.5370362176543502 Q -0.16495028401712417, 0.11309908842546024 0.19689616962325934, 0.9804243460806594L 0.19689616962325934, 0.9804243460806594 L 0.2051384372377512, 0.9787329674470219 L 0.21336618192536871, 0.9769722986915189 \", \"type\": \"path\"}, {\"fillcolor\": \"#e6c4a9\", \"layer\": \"below\", \"line\": {\"color\": \"rgb(175,175,175)\", \"width\": 0.5}, \"path\": \"M 0.10180853211424158,0.9948040122500228 Q -0.19312698712960238, 0.05198044672992339 -0.4112789039941955, -0.9115095518585273L -0.4112789039941955, -0.9115095518585273 L -0.42678018497806447, -0.9043553912650099 L -0.4421570716048215, -0.8969376366447384 M -0.4421570716048215,-0.8969376366447384 Q -0.19312252105540562, 0.051997037042550966 0.06795911999115453, 0.9976881065794199L 0.06795911999115453, 0.9976881065794199 L 0.08489607426359547, 0.9963898115570181 L 0.10180853211424158, 0.9948040122500228 \", \"type\": \"path\"}, {\"fillcolor\": \"#e6c4a9\", \"layer\": \"below\", \"line\": {\"color\": \"rgb(175,175,175)\", \"width\": 0.5}, \"path\": \"M 0.27829069585114996,0.9604968967168415 Q -0.1972439876008877, 0.033087903458830066 -0.05037193504257554, -0.9987305283008358L -0.05037193504257554, -0.9987305283008358 L -0.05208001407894674, -0.9986429152272281 L -0.05378794077033672, -0.9985523809133333 M -0.05378794077033672,-0.9985523809133333 Q -0.19727659927595642, 0.032892907717526454 0.27310220320395223, 0.9619850241064812L 0.27310220320395223, 0.9619850241064812 L 0.2756974535843223, 0.9612444611476939 L 0.27829069585114996, 0.9604968967168415 \", \"type\": \"path\"}, {\"fillcolor\": \"#e6c4a9\", \"layer\": \"below\", \"line\": {\"color\": \"rgb(175,175,175)\", \"width\": 0.5}, \"path\": \"M 0.030540476280147506,0.9995335308575605 Q -0.19741082325042936, -0.032077513363534586 0.3454439408348354, -0.9384393873556772L 0.3454439408348354, -0.9384393873556772 L 0.3182091167455553, -0.9480205472562362 L 0.2907090544530097, -0.956811499543686 M 0.2907090544530097,-0.956811499543686 Q -0.19742539007808146, -0.03198773753358269 -0.026286239263590104, 0.9996544571127451L -0.026286239263590104, 0.9996544571127451 L 0.0021279776639005353, 0.9999977358529678 L 0.030540476280147506, 0.9995335308575605 \", \"type\": \"path\"}, {\"fillcolor\": \"#e6c4a9\", \"layer\": \"below\", \"line\": {\"color\": \"rgb(175,175,175)\", \"width\": 0.5}, \"path\": \"M 0.06795911999115453,0.9976881065794199 Q -0.17720251886366062, -0.09273223446231633 0.8584589681785982, -0.5128822476492402L 0.8584589681785982, -0.5128822476492402 L 0.8488323687744678, -0.5286620940834759 L 0.8389157445965616, -0.5442613099127998 M 0.8389157445965616,-0.5442613099127998 Q -0.17717947483866156, -0.09277625609980229 0.030540476280147506, 0.9995335308575605L 0.030540476280147506, 0.9995335308575605 L 0.0492584410440887, 0.9987860661752876 L 0.06795911999115453, 0.9976881065794199 \", \"type\": \"path\"}, {\"fillcolor\": \"#e6c4a9\", \"layer\": \"below\", \"line\": {\"color\": \"rgb(175,175,175)\", \"width\": 0.5}, \"path\": \"M 0.19689616962325934,0.9804243460806594 Q -0.17433452934083274, -0.09801771207037191 0.9399807208922984, -0.3412275550872099L 0.9399807208922984, -0.3412275550872099 L 0.9373976533922469, -0.3482608783867474 L 0.934761960505722, -0.3552746503643328 M 0.934761960505722,-0.3552746503643328 Q -0.1742285559470348, -0.09820595853924022 0.1800580880247136, 0.9836559789565071L 0.1800580880247136, 0.9836559789565071 L 0.18848405490251588, 0.9820762501188517 L 0.19689616962325934, 0.9804243460806594 \", \"type\": \"path\"}, {\"fillcolor\": \"#e6c4a9\", \"layer\": \"below\", \"line\": {\"color\": \"rgb(175,175,175)\", \"width\": 0.5}, \"path\": \"M 0.2825574908092812,0.9592503658521914 Q -0.17356430800581635, -0.09937520307633144 0.9702955977812271, -0.2419224109634559L 0.9702955977812271, -0.2419224109634559 L 0.9698473607791763, -0.2437131444745362 L 0.9693958188836357, -0.24550304749824492 M 0.9693958188836357,-0.24550304749824492 Q -0.17352687124759172, -0.09944055990903171 0.27829069585114996, 0.9604968967168415L 0.27829069585114996, 0.9604968967168415 L 0.2804247859585037, 0.9598760021065884 L 0.2825574908092812, 0.9592503658521914 \", \"type\": \"path\"}, {\"fillcolor\": \"#e6c4a9\", \"layer\": \"below\", \"line\": {\"color\": \"rgb(175,175,175)\", \"width\": 0.5}, \"path\": \"M 0.2675998356753536,0.9635301385771613 Q -0.16437167110550774, -0.11393837693236988 0.9961626538320442, -0.0875212380528232L 0.9961626538320442, -0.0875212380528232 L 0.9959476510209051, -0.08993484544903267 L 0.9957268002771806, -0.09234792477239338 M 0.9957268002771806,-0.09234792477239338 Q -0.1642859491231193, -0.11406194334972493 0.2614758503228246, 0.9652100184405236L 0.2614758503228246, 0.9652100184405236 L 0.2645391764516166, 0.9643749395967838 L 0.2675998356753536, 0.9635301385771613 \", \"type\": \"path\"}, {\"fillcolor\": \"#e1b396\", \"layer\": \"below\", \"line\": {\"color\": \"rgb(175,175,175)\", \"width\": 0.5}, \"path\": \"M -0.2768519925123518,0.9609125736725171 Q -0.09442906491355628, 0.1763041454406316 -0.6464553140364284, 0.7629518510063807L -0.6464553140364284, 0.7629518510063807 L -0.6432632119218802, 0.7656451137360875 L -0.6400598892513125, 0.7683250211802278 M -0.6400598892513125,0.7683250211802278 Q -0.09468411702797615, 0.17616730111638912 -0.28764207420616544, 0.9577379793797335L -0.28764207420616544, 0.9577379793797335 L -0.28225149663435517, 0.9593404466859857 L -0.2768519925123518, 0.9609125736725171 \", \"type\": \"path\"}, {\"fillcolor\": \"#e1b396\", \"layer\": \"below\", \"line\": {\"color\": \"rgb(175,175,175)\", \"width\": 0.5}, \"path\": \"M -0.326293462957181,0.9452685205968783 Q -0.11100839757727395, 0.16636446636023536 -0.7476040367741508, 0.6641447163073679L -0.7476040367741508, 0.6641447163073679 L -0.7430022593212562, 0.6692889082029589 L -0.7383650859347028, 0.6744012158000896 M -0.7383650859347028,0.6744012158000896 Q -0.1111595126630121, 0.1662635340191037 -0.3410195299321191, 0.9400562111942438L -0.3410195299321191, 0.9400562111942438 L -0.33366667448525034, 0.9426911213849178 L -0.326293462957181, 0.9452685205968783 \", \"type\": \"path\"}, {\"fillcolor\": \"#e1b396\", \"layer\": \"below\", \"line\": {\"color\": \"rgb(175,175,175)\", \"width\": 0.5}, \"path\": \"M -0.43932941045001306,0.898326037201218 Q -0.14441241123587828, 0.13836565860443692 -0.9162850085207966, 0.4005268819443254L -0.9162850085207966, 0.4005268819443254 L -0.9075738429393146, 0.41989250959306745 L -0.8984534414756035, 0.43906880269570997 M -0.8984534414756035,0.43906880269570997 Q -0.1445002395173033, 0.13827393383946945 -0.4781895611451613, 0.8782566501950315L -0.4781895611451613, 0.8782566501950315 L -0.4588692198033854, 0.8885038205416071 L -0.43932941045001306, 0.898326037201218 \", \"type\": \"path\"}, {\"fillcolor\": \"#e1b396\", \"layer\": \"below\", \"line\": {\"color\": \"rgb(175,175,175)\", \"width\": 0.5}, \"path\": \"M -0.23699914736671912,0.9715098579774928 Q -0.13496824017474154, 0.1475925951534605 -0.9465037368790863, 0.32269285098050343L -0.9465037368790863, 0.32269285098050343 L -0.9461508673357429, 0.32372602033173276 L -0.9457968700223637, 0.3247588038158476 M -0.9457968700223637,0.3247588038158476 Q -0.13503764972617693, 0.1475290925764486 -0.24003326725182514, 0.9707646628366805L -0.24003326725182514, 0.9707646628366805 L -0.23851649833533362, 0.9711384453422955 L -0.23699914736671912, 0.9715098579774928 \", \"type\": \"path\"}, {\"fillcolor\": \"#e1b396\", \"layer\": \"below\", \"line\": {\"color\": \"rgb(175,175,175)\", \"width\": 0.5}, \"path\": \"M -0.28764207420616544,0.9577379793797335 Q -0.1509287771244736, 0.13122691886846607 -0.9884190093044657, 0.15174933952270933L -0.9884190093044657, 0.15174933952270933 L -0.9876078522622438, 0.1569418049786549 L -0.9867694178138349, 0.16212993575322637 M -0.9867694178138349,0.16212993575322637 Q -0.151038551105645, 0.13110055713042362 -0.299290224022159, 0.9541621255346315L -0.299290224022159, 0.9541621255346315 L -0.29347159548851753, 0.9559677937260355 L -0.28764207420616544, 0.9577379793797335 \", \"type\": \"path\"}, {\"fillcolor\": \"#e1b396\", \"layer\": \"below\", \"line\": {\"color\": \"rgb(175,175,175)\", \"width\": 0.5}, \"path\": \"M -0.2503315720866646,0.9681601644441993 Q -0.15395333546888748, 0.1276650715662048 -0.9977651717174861, 0.06681812708820357L -0.9977651717174861, 0.06681812708820357 L -0.9975373259188317, 0.07013760331453125 L -0.9972984365479133, 0.07345630305894688 M -0.9972984365479133,0.07345630305894688 Q -0.15400717900859529, 0.12760011290674664 -0.25758402533401553, 0.9662559029018789L -0.25758402533401553, 0.9662559029018789 L -0.25395958355377524, 0.9672148313178376 L -0.2503315720866646, 0.9681601644441993 \", \"type\": \"path\"}, {\"fillcolor\": \"#e1b396\", \"layer\": \"below\", \"line\": {\"color\": \"rgb(175,175,175)\", \"width\": 0.5}, \"path\": \"M -0.2442770922001011,0.9697054718966287 Q -0.16433631235775326, 0.11398936985813615 -0.993830320427938, -0.11091119960627144L -0.993830320427938, -0.11091119960627144 L -0.9941392499997856, -0.10810713024525091 L -0.994440267970441, -0.1053022005414765 M -0.994440267970441,-0.1053022005414765 Q -0.1643708728102334, 0.11393952857372228 -0.2503315720866646, 0.9681601644441993L -0.2503315720866646, 0.9681601644441993 L -0.24730553914270767, 0.9689375471666555 L -0.2442770922001011, 0.9697054718966287 \", \"type\": \"path\"}, {\"fillcolor\": \"#e1b396\", \"layer\": \"below\", \"line\": {\"color\": \"rgb(175,175,175)\", \"width\": 0.5}, \"path\": \"M -0.3114877721488587,0.9502501606428386 Q -0.17906427482687523, 0.08908414831340816 -0.9457991255459864, -0.3247522349675939L -0.9457991255459864, -0.3247522349675939 L -0.9481129506067053, -0.3179336926024784 L -0.9503776195128883, -0.31109866654972285 M -0.9503776195128883,-0.31109866654972285 Q -0.17911860768088728, 0.08897485252845541 -0.326293462957181, 0.9452685205968783L -0.326293462957181, 0.9452685205968783 L -0.31890034516715904, 0.9477882515901254 L -0.3114877721488587, 0.9502501606428386 \", \"type\": \"path\"}, {\"fillcolor\": \"#e1b396\", \"layer\": \"below\", \"line\": {\"color\": \"rgb(175,175,175)\", \"width\": 0.5}, \"path\": \"M -0.299290224022159,0.9541621255346315 Q -0.18731075772632552, 0.07010477900963519 -0.8522176775986995, -0.5231873756010165L -0.8522176775986995, -0.5231873756010165 L -0.8555687695422383, -0.5176891737171836 L -0.8588843895693686, -0.5121695084188954 M -0.8588843895693686,-0.5121695084188954 Q -0.18730836301093523, 0.0701111770416366 -0.3114877721488587, 0.9502501606428386L -0.3114877721488587, 0.9502501606428386 L -0.30539526194589134, 0.9522256738720084 L -0.299290224022159, 0.9541621255346315 \", \"type\": \"path\"}, {\"fillcolor\": \"#e1b396\", \"layer\": \"below\", \"line\": {\"color\": \"rgb(175,175,175)\", \"width\": 0.5}, \"path\": \"M -0.3410195299321191,0.9400562111942438 Q -0.19935440966307838, 0.01605675396478137 -0.4870787361140626, -0.8733580622090389L -0.4870787361140626, -0.8733580622090389 L -0.49666428515245953, -0.8679427330498231 L -0.5061896342378488, -0.8624222018188962 M -0.5061896342378488,-0.8624222018188962 Q -0.19935069975060815, 0.016102748490331917 -0.3612040988532267, 0.932486782196739L -0.3612040988532267, 0.932486782196739 L -0.3511322119514982, 0.9363258886360284 L -0.3410195299321191, 0.9400562111942438 \", \"type\": \"path\"}, {\"fillcolor\": \"#e1b396\", \"layer\": \"below\", \"line\": {\"color\": \"rgb(175,175,175)\", \"width\": 0.5}, \"path\": \"M -0.24003326725182514,0.9707646628366805 Q -0.19911153962259187, -0.018830687430920753 -0.05378794077033672, -0.9985523809133333L -0.05378794077033672, -0.9985523809133333 L -0.05519435071261172, -0.9984756299727165 L -0.056600651155938514, -0.9983968981766338 M -0.056600651155938514,-0.9983968981766338 Q -0.19909681955106706, -0.018985690523387347 -0.2442770922001011, 0.9697054718966287L -0.2442770922001011, 0.9697054718966287 L -0.24215575884020457, 0.9702373876843361 L -0.24003326725182514, 0.9707646628366805 \", \"type\": \"path\"}, {\"fillcolor\": \"#e1b396\", \"layer\": \"below\", \"line\": {\"color\": \"rgb(175,175,175)\", \"width\": 0.5}, \"path\": \"M -0.4079178598367613,0.9130186304923883 Q -0.18860540500459, -0.06654322807810406 0.25533319968923274, -0.9668531207667783L 0.25533319968923274, -0.9668531207667783 L 0.2379827958066173, -0.9712693698969745 L 0.22055610897306788, -0.9753742885655026 M 0.22055610897306788,-0.9753742885655026 Q -0.1886429078501876, -0.06643683705464633 -0.43932941045001306, 0.898326037201218L -0.43932941045001306, 0.898326037201218 L -0.4236873284941415, 0.9058085049686261 L -0.4079178598367613, 0.9130186304923883 \", \"type\": \"path\"}, {\"fillcolor\": \"#e1b396\", \"layer\": \"below\", \"line\": {\"color\": \"rgb(175,175,175)\", \"width\": 0.5}, \"path\": \"M -0.3612040988532267,0.932486782196739 Q -0.16289412407535875, -0.11604095975870604 0.7632971337219836, -0.6460475877609979L 0.7632971337219836, -0.6460475877609979 L 0.7554491313093266, -0.655207303075892 L 0.7474912174493485, -0.6642716912800746 M 0.7474912174493485,-0.6642716912800746 Q -0.16289801502580242, -0.11603549758868384 -0.3835303055273598, 0.9235282912515945L -0.3835303055273598, 0.9235282912515945 L -0.37239414188065606, 0.9280746753860757 L -0.3612040988532267, 0.932486782196739 \", \"type\": \"path\"}, {\"fillcolor\": \"#e1b396\", \"layer\": \"below\", \"line\": {\"color\": \"rgb(175,175,175)\", \"width\": 0.5}, \"path\": \"M -0.2669302842953779,0.9637158415871292 Q -0.14973375676563863, -0.13258884600466425 0.9243325779481437, -0.38158784747910773L 0.9243325779481437, -0.38158784747910773 L 0.9225756588142293, -0.38581621760041507 L 0.9207993970709367, -0.3900364987456936 M 0.9207993970709367,-0.3900364987456936 Q -0.14965733046213817, -0.1326751048198055 -0.2768519925123518, 0.9609125736725171L -0.2768519925123518, 0.9609125736725171 L -0.2718947511819599, 0.9623269944669016 L -0.2669302842953779, 0.9637158415871292 \", \"type\": \"path\"}, {\"fillcolor\": \"#e1b396\", \"layer\": \"below\", \"line\": {\"color\": \"rgb(175,175,175)\", \"width\": 0.5}, \"path\": \"M -0.25758402533401553,0.9662559029018789 Q -0.13731117839065407, -0.14541540595469923 0.9794242786982704, -0.20181199740444727L 0.9794242786982704, -0.20181199740444727 L 0.9785911867259249, -0.20581372466953182 L 0.9777417445857673, -0.20981201322703136 M 0.9777417445857673,-0.20981201322703136 Q -0.13720133228598339, -0.14551905173877122 -0.2669302842953779, 0.9637158415871292L -0.2669302842953779, 0.9637158415871292 L -0.26226022998039655, 0.9649971874418234 L -0.25758402533401553, 0.9662559029018789 \", \"type\": \"path\"}, {\"fillcolor\": \"#e1b396\", \"layer\": \"below\", \"line\": {\"color\": \"rgb(175,175,175)\", \"width\": 0.5}, \"path\": \"M -0.23426646067208212,0.9721724257579907 Q -0.13175985688394667, -0.15046375016568575 0.9945853554304509, -0.10392290778882055L 0.9945853554304509, -0.10392290778882055 L 0.9944714440897388, -0.10500736588482557 L 0.9943563502974632, -0.10609169912443103 M 0.9943563502974632,-0.10609169912443103 Q -0.13171237788072807, -0.15050531390287952 -0.23699914736671912, 0.9715098579774928L -0.23699914736671912, 0.9715098579774928 L -0.23563303690073098, 0.9718421023607378 L -0.23426646067208212, 0.9721724257579907 \", \"type\": \"path\"}, {\"fillcolor\": \"#dba284\", \"layer\": \"below\", \"line\": {\"color\": \"rgb(175,175,175)\", \"width\": 0.5}, \"path\": \"M -0.6533327775189577,0.757070856538121 Q -0.1413812828626203, 0.14146141825996142 -0.7567005286781185, 0.6537616613860557L -0.7567005286781185, 0.6537616613860557 L -0.7521701990690071, 0.6589688851778134 L -0.7476040367741508, 0.6641447163073679 M -0.7476040367741508,0.6641447163073679 Q -0.14122538922211123, 0.14161705207729466 -0.6620717009039173, 0.7494404998812073L -0.6620717009039173, 0.7494404998812073 L -0.6577133046011895, 0.7532683512205879 L -0.6533327775189577, 0.757070856538121 \", \"type\": \"path\"}, {\"fillcolor\": \"#dba284\", \"layer\": \"below\", \"line\": {\"color\": \"rgb(175,175,175)\", \"width\": 0.5}, \"path\": \"M -0.6287607064920039,0.7775988515755898 Q -0.14668115840227122, 0.13595822067741184 -0.8230036279116887, 0.5680361154400295L -0.8230036279116887, 0.5680361154400295 L -0.8206704328852008, 0.5714018206026448 L -0.8183234737627425, 0.5747579423451912 M -0.8183234737627425,0.5747579423451912 Q -0.1465501683210368, 0.1360994054545272 -0.6336198059414034, 0.7736445834611513L -0.6336198059414034, 0.7736445834611513 L -0.6311933527865992, 0.775625522657688 L -0.6287607064920039, 0.7775988515755898 \", \"type\": \"path\"}, {\"fillcolor\": \"#dba284\", \"layer\": \"below\", \"line\": {\"color\": \"rgb(175,175,175)\", \"width\": 0.5}, \"path\": \"M -0.6336198059414034,0.7736445834611513 Q -0.17319386250163288, 0.1000194280715776 -0.9867694178138349, 0.16212993575322637L -0.9867694178138349, 0.16212993575322637 L -0.9859712876217072, 0.16691500826945643 L -0.9851499536495365, 0.17169615261943422 M -0.9851499536495365,0.17169615261943422 Q -0.17312634231283047, 0.1001362551595607 -0.6400598892513125, 0.7683250211802278L -0.6400598892513125, 0.7683250211802278 L -0.6368454019008598, 0.7709915265926938 L -0.6336198059414034, 0.7736445834611513 \", \"type\": \"path\"}, {\"fillcolor\": \"#dba284\", \"layer\": \"below\", \"line\": {\"color\": \"rgb(175,175,175)\", \"width\": 0.5}, \"path\": \"M -0.60889541994969,0.7932505074466014 Q -0.1752275545253108, 0.09641215761033062 -0.9959633595507075, 0.08976071764679762L -0.9959633595507075, 0.08976071764679762 L -0.99592594093857, 0.09017494200510502 L -0.9958883500491996, 0.09058915076477317 M -0.9958883500491996,0.09058915076477317 Q -0.17522101074237117, 0.09642404987565009 -0.6094474416885695, 0.7928264727033638L -0.6094474416885695, 0.7928264727033638 L -0.6091714677146259, 0.7930385381066978 L -0.60889541994969, 0.7932505074466014 \", \"type\": \"path\"}, {\"fillcolor\": \"#dba284\", \"layer\": \"below\", \"line\": {\"color\": \"rgb(175,175,175)\", \"width\": 0.5}, \"path\": \"M -0.6094474416885695,0.7928264727033638 Q -0.18304743772284157, 0.08058309713024464 -0.9963014750932557, -0.08592654262218843L -0.9963014750932557, -0.08592654262218843 L -0.996361827794136, -0.08522387056880627 L -0.9964216849141452, -0.0845211561258841 M -0.9964216849141452,-0.0845211561258841 Q -0.1830373481846329, 0.08060601199375556 -0.6103668215709483, 0.7921188945640535L -0.6103668215709483, 0.7921188945640535 L -0.6099072342410327, 0.79247281695996 L -0.6094474416885695, 0.7928264727033638 \", \"type\": \"path\"}, {\"fillcolor\": \"#dba284\", \"layer\": \"below\", \"line\": {\"color\": \"rgb(175,175,175)\", \"width\": 0.5}, \"path\": \"M -0.6112853799446356,0.7914102502911764 Q -0.19557327360170487, 0.04184608288373828 -0.8816085535959977, -0.47198131131049337L -0.8816085535959977, -0.47198131131049337 L -0.8822747852295378, -0.47073474839677265 L -0.8829392542689041, -0.4694872450568509 M -0.8829392542689041,-0.4694872450568509 Q -0.1955578063694621, 0.041918305881368516 -0.6129367108697698, 0.7901320069887995L -0.6129367108697698, 0.7901320069887995 L -0.6121113790691886, 0.7907715596896592 L -0.6112853799446356, 0.7914102502911764 \", \"type\": \"path\"}, {\"fillcolor\": \"#dba284\", \"layer\": \"below\", \"line\": {\"color\": \"rgb(175,175,175)\", \"width\": 0.5}, \"path\": \"M -0.6103668215709483,0.7921188945640535 Q -0.1999874909088578, -0.002236845989226666 -0.5924967521497798, -0.8055728388494503L -0.5924967521497798, -0.8055728388494503 L -0.5931392431538459, -0.805099893324352 L -0.5937813566412968, -0.8046264353755854 M -0.5937813566412968,-0.8046264353755854 Q -0.19998797317888922, -0.0021933043108268986 -0.6112853799446356, 0.7914102502911764L -0.6112853799446356, 0.7914102502911764 L -0.6108262035236739, 0.791764705634733 L -0.6103668215709483, 0.7921188945640535 \", \"type\": \"path\"}, {\"fillcolor\": \"#dba284\", \"layer\": \"below\", \"line\": {\"color\": \"rgb(175,175,175)\", \"width\": 0.5}, \"path\": \"M -0.619879444107858,0.7846970592353032 Q -0.18831312419624785, -0.06736592057894357 0.018505295572636457, -0.9998287623567195L 0.018505295572636457, -0.9998287623567195 L 0.014634723808203338, -0.9998929066950408 L 0.01076393273598969, -0.9999420671979228 M 0.01076393273598969,-0.9999420671979228 Q -0.18838622410901473, -0.06716122814502493 -0.6242395332874489, 0.7812330030669903L -0.6242395332874489, 0.7812330030669903 L -0.6220618999746489, 0.782968066143141 L -0.619879444107858, 0.7846970592353032 \", \"type\": \"path\"}, {\"fillcolor\": \"#dba284\", \"layer\": \"below\", \"line\": {\"color\": \"rgb(175,175,175)\", \"width\": 0.5}, \"path\": \"M -0.6162313468477777,0.7875651891508245 Q -0.15414396503231348, -0.12743483842386635 0.6576567624712178, -0.7533177170197687L 0.6576567624712178, -0.7533177170197687 L 0.6552933922957591, -0.7553744568182832 L 0.6529235899587936, -0.7574237820898688 M 0.6529235899587936,-0.7574237820898688 Q -0.1542474831180229, -0.12730952027148343 -0.619879444107858, 0.7846970592353032L -0.619879444107858, 0.7846970592353032 L -0.6180570591956256, 0.7861332403469878 L -0.6162313468477777, 0.7875651891508245 \", \"type\": \"path\"}, {\"fillcolor\": \"#dba284\", \"layer\": \"below\", \"line\": {\"color\": \"rgb(175,175,175)\", \"width\": 0.5}, \"path\": \"M -0.6242395332874489,0.7812330030669903 Q -0.10656272554136748, -0.16924652293384107 0.974299702781011, -0.22525560850028495L 0.974299702781011, -0.22525560850028495 L 0.9735518794904702, -0.2284660542412659 L 0.972793477389007, -0.23167401742405963 M 0.972793477389007,-0.23167401742405963 Q -0.10662974592250761, -0.1692043063414802 -0.6287607064920039, 0.7775988515755898L -0.6287607064920039, 0.7775988515755898 L -0.6265027549708839, 0.7794192055716184 L -0.6242395332874489, 0.7812330030669903 \", \"type\": \"path\"}, {\"fillcolor\": \"#d59171\", \"layer\": \"below\", \"line\": {\"color\": \"rgb(175,175,175)\", \"width\": 0.5}, \"path\": \"M -0.701005428821628,0.7131559357970776 Q -0.15544548528905475, 0.12584395537033263 -0.8434581097745655, 0.5371949525596058L -0.8434581097745655, 0.5371949525596058 L -0.8407586722676953, 0.541410061789271 L -0.8380381703016838, 0.5456116064724119 M -0.8380381703016838,0.5456116064724119 Q -0.15538883798103065, 0.12591389530510527 -0.7074736646746959, 0.7067397072414681L -0.7074736646746959, 0.7067397072414681 L -0.7042468538809926, 0.7099551878807027 L -0.701005428821628, 0.7131559357970776 \", \"type\": \"path\"}, {\"fillcolor\": \"#d59171\", \"layer\": \"below\", \"line\": {\"color\": \"rgb(175,175,175)\", \"width\": 0.5}, \"path\": \"M -0.7567005286781185,0.6537616613860557 Q -0.1821941670683725, 0.0824941542550863 -0.9905227482244767, 0.13734877229094486L -0.9905227482244767, 0.13734877229094486 L -0.9894970763004225, 0.14455288303218278 L -0.9884190093044657, 0.15174933952270933 M -0.9884190093044657,0.15174933952270933 Q -0.18220880811532308, 0.08246181082897329 -0.7663627318479863, 0.6424080971115569L -0.7663627318479863, 0.6424080971115569 L -0.7615527885488544, 0.648102885546318 L -0.7567005286781185, 0.6537616613860557 \", \"type\": \"path\"}, {\"fillcolor\": \"#d59171\", \"layer\": \"below\", \"line\": {\"color\": \"rgb(175,175,175)\", \"width\": 0.5}, \"path\": \"M -0.6856875300104448,0.7278960167415228 Q -0.17990204034861756, 0.08737995123828109 -0.9960376799174231, 0.08893222242088111L -0.9960376799174231, 0.08893222242088111 L -0.9960006058791395, 0.0893464777615043 L -0.9959633595507075, 0.08976071764679762 M -0.9959633595507075,0.08976071764679762 Q -0.1799018844764456, 0.08738027215466677 -0.6862901777934308, 0.7273278434545601L -0.6862901777934308, 0.7273278434545601 L -0.6859889127259384, 0.7276119924912486 L -0.6856875300104448, 0.7278960167415228 \", \"type\": \"path\"}, {\"fillcolor\": \"#d59171\", \"layer\": \"below\", \"line\": {\"color\": \"rgb(175,175,175)\", \"width\": 0.5}, \"path\": \"M -0.6914933598494569,0.722382816299024 Q -0.187814660889831, 0.06874338626251823 -0.994440267970441, -0.1053022005414765L -0.994440267970441, -0.1053022005414765 L -0.9947044177437684, -0.10277704666427567 L -0.9949621554761511, -0.10025123026801888 M -0.9949621554761511,-0.10025123026801888 Q -0.18781093679061497, 0.06875356006660041 -0.6950747067388594, 0.7189375160971144L -0.6950747067388594, 0.7189375160971144 L -0.6932861734839268, 0.7206623908988276 L -0.6914933598494569, 0.722382816299024 \", \"type\": \"path\"}, {\"fillcolor\": \"#d59171\", \"layer\": \"below\", \"line\": {\"color\": \"rgb(175,175,175)\", \"width\": 0.5}, \"path\": \"M -0.6872935443418305,0.7263797793895727 Q -0.19311359742436085, 0.05203016903510782 -0.9591871122005355, -0.2827721411108195L -0.9591871122005355, -0.2827721411108195 L -0.9595122496017009, -0.28166690054794025 L -0.9598361134700528, -0.2805612861367438 M -0.9598361134700528,-0.2805612861367438 Q -0.1931111136264402, 0.05203938694831156 -0.6888962058781639, 0.7248599985698413L -0.6888962058781639, 0.7248599985698413 L -0.6880952946983998, 0.7256203314502166 L -0.6872935443418305, 0.7263797793895727 \", \"type\": \"path\"}, {\"fillcolor\": \"#d59171\", \"layer\": \"below\", \"line\": {\"color\": \"rgb(175,175,175)\", \"width\": 0.5}, \"path\": \"M -0.6888962058781639,0.7248599985698413 Q -0.19761397428838157, 0.030801252668533938 -0.876820191125739, -0.4808184193999048L -0.876820191125739, -0.4808184193999048 L -0.877800012007345, -0.4790272841080192 L -0.8787761740301304, -0.47723415212761755 M -0.8787761740301304,-0.47723415212761755 Q -0.19760635819647965, 0.030850076180207072 -0.6914933598494569, 0.722382816299024L -0.6914933598494569, 0.722382816299024 L -0.6901958942216502, 0.7236225726161233 L -0.6888962058781639, 0.7248599985698413 \", \"type\": \"path\"}, {\"fillcolor\": \"#d59171\", \"layer\": \"below\", \"line\": {\"color\": \"rgb(175,175,175)\", \"width\": 0.5}, \"path\": \"M -0.7074736646746959,0.7067397072414681 Q -0.19879763041937823, -0.021897537296242105 -0.5366837020072832, -0.8437835054086786L -0.5366837020072832, -0.8437835054086786 L -0.5413874552729366, -0.8407732293984472 L -0.5460743242574655, -0.8377367321460558 M -0.5460743242574655,-0.8377367321460558 Q -0.19881406422549971, -0.021747824400129866 -0.7142697319964599, 0.6998705237068534L -0.7142697319964599, 0.6998705237068534 L -0.7108799954388344, 0.703313324262297 L -0.7074736646746959, 0.7067397072414681 \", \"type\": \"path\"}, {\"fillcolor\": \"#d59171\", \"layer\": \"below\", \"line\": {\"color\": \"rgb(175,175,175)\", \"width\": 0.5}, \"path\": \"M -0.7301183645732857,0.6833206960957868 Q -0.17991067700982608, -0.08736216742884786 0.08550099769182731, -0.9963380848856989L 0.08550099769182731, -0.9963380848856989 L 0.07842786548731775, -0.9969197911141614 L 0.0713507830609156, -0.9974512849039767 M 0.0713507830609156,-0.9974512849039767 Q -0.17999996845412625, -0.08717804400486148 -0.7383650859347028, 0.6744012158000896L -0.7383650859347028, 0.6744012158000896 L -0.7342552692260016, 0.678873478355026 L -0.7301183645732857, 0.6833206960957868 \", \"type\": \"path\"}, {\"fillcolor\": \"#d59171\", \"layer\": \"below\", \"line\": {\"color\": \"rgb(175,175,175)\", \"width\": 0.5}, \"path\": \"M -0.7142697319964599,0.6998705237068534 Q -0.14262508049610206, -0.14020729800363604 0.6875573170751227, -0.7261301093719081L 0.6875573170751227, -0.7261301093719081 L 0.6828794847462581, -0.7305310460977583 L 0.6781734833932469, -0.7349018481554319 M 0.6781734833932469,-0.7349018481554319 Q -0.1427320055414345, -0.14009844608031852 -0.7221459711324526, 0.6917407002462461L -0.7221459711324526, 0.6917407002462461 L -0.7182193547630188, 0.6958167563689401 L -0.7142697319964599, 0.6998705237068534 \", \"type\": \"path\"}, {\"fillcolor\": \"#d59171\", \"layer\": \"below\", \"line\": {\"color\": \"rgb(175,175,175)\", \"width\": 0.5}, \"path\": \"M -0.6852855034711239,0.7282745215455008 Q -0.1165955350144796, -0.1624976344895127 0.9093917822642739, -0.4159406043538038L 0.9093917822642739, -0.4159406043538038 L 0.909276321078936, -0.41619295035494747 L 0.9091607898704199, -0.41644526430515955 M 0.9091607898704199,-0.41644526430515955 Q -0.11659576602004057, -0.1624974687378236 -0.6856875300104448, 0.7278960167415228L -0.6856875300104448, 0.7278960167415228 L -0.6854865428656387, 0.7280852968918647 L -0.6852855034711239, 0.7282745215455008 \", \"type\": \"path\"}, {\"fillcolor\": \"#d59171\", \"layer\": \"below\", \"line\": {\"color\": \"rgb(175,175,175)\", \"width\": 0.5}, \"path\": \"M -0.6950747067388594,0.7189375160971144 Q -0.09708122076410897, -0.17485776098003297 0.9777417445857673, -0.20981201322703136L 0.9777417445857673, -0.20981201322703136 L 0.976904149633104, -0.21367798770491542 L 0.9760512687447253, -0.21754061869410096 M 0.9760512687447253,-0.21754061869410096 Q -0.09704876560785068, -0.17487577617838457 -0.701005428821628, 0.7131559357970776L -0.701005428821628, 0.7131559357970776 L -0.6980460535626133, 0.7160528661388496 L -0.6950747067388594, 0.7189375160971144 \", \"type\": \"path\"}, {\"fillcolor\": \"#d0805f\", \"layer\": \"below\", \"line\": {\"color\": \"rgb(175,175,175)\", \"width\": 0.5}, \"path\": \"M -0.8230036279116887,0.5680361154400295 Q -0.17972969116831627, 0.08773390514813337 -0.9541115674828773, 0.29945135964855274L -0.9541115674828773, 0.29945135964855274 L -0.9531917034503314, 0.30236662592530833 L -0.9522629319106113, 0.3052790666079258 M -0.9522629319106113,0.3052790666079258 Q -0.1798339732423263, 0.0875199523987432 -0.8277987991260716, 0.5610250869305523L -0.8277987991260716, 0.5610250869305523 L -0.8254086575197949, 0.5645356924866399 L -0.8230036279116887, 0.5680361154400295 \", \"type\": \"path\"}, {\"fillcolor\": \"#d0805f\", \"layer\": \"below\", \"line\": {\"color\": \"rgb(175,175,175)\", \"width\": 0.5}, \"path\": \"M -0.8328701979561935,0.5534683670783823 Q -0.184772545457593, 0.07654480024875455 -0.9802720455222319, 0.19765302114478098L -0.9802720455222319, 0.19765302114478098 L -0.9794378174653566, 0.20174628055728472 L -0.9785864975240777, 0.20583601935414117 M -0.9785864975240777,0.20583601935414117 Q -0.18481267903892915, 0.07644784932523456 -0.8380381703016838, 0.5456116064724119L -0.8380381703016838, 0.5456116064724119 L -0.8354634198756731, 0.5495460618088758 L -0.8328701979561935, 0.5534683670783823 \", \"type\": \"path\"}, {\"fillcolor\": \"#d0805f\", \"layer\": \"below\", \"line\": {\"color\": \"rgb(175,175,175)\", \"width\": 0.5}, \"path\": \"M -0.8071901686945347,0.5902914801713544 Q -0.18754124933290756, 0.06948582444392674 -0.9969411106715825, 0.07815639355108021L -0.9969411106715825, 0.07815639355108021 L -0.9967652922581264, 0.0803676063446705 L -0.9965845693865094, 0.08257842369956984 M -0.9965845693865094,0.08257842369956984 Q -0.18755574519700208, 0.06944668777988797 -0.8100457670903597, 0.5863666559576787L -0.8100457670903597, 0.5863666559576787 L -0.8086203491501979, 0.5883308006047381 L -0.8071901686945347, 0.5902914801713544 \", \"type\": \"path\"}, {\"fillcolor\": \"#d0805f\", \"layer\": \"below\", \"line\": {\"color\": \"rgb(175,175,175)\", \"width\": 0.5}, \"path\": \"M -0.8043155539579286,0.5942023978926291 Q -0.1928643595206703, 0.0529465657685334 -0.9949621554761511, -0.10025123026801888L -0.9949621554761511, -0.10025123026801888 L -0.995185871390715, -0.098005517111555 L -0.9954045185485749, -0.09575930478590501 M -0.9954045185485749,-0.09575930478590501 Q -0.1928733596435121, 0.05291377079574314 -0.8071901686945347, 0.5902914801713544L -0.8071901686945347, 0.5902914801713544 L -0.8057552341466764, 0.5922486831097514 L -0.8043155539579286, 0.5942023978926291 \", \"type\": \"path\"}, {\"fillcolor\": \"#d0805f\", \"layer\": \"below\", \"line\": {\"color\": \"rgb(175,175,175)\", \"width\": 0.5}, \"path\": \"M -0.8023282605371072,0.5968830390817784 Q -0.1969494954479235, 0.03479793446180906 -0.9582864212229619, -0.2858096130288272L -0.9582864212229619, -0.2858096130288272 L -0.9587379696266395, -0.28429123376599 L -0.9591871122005355, -0.2827721411108195 M -0.9591871122005355,-0.2827721411108195 Q -0.19695243069351348, 0.03478131745516224 -0.8043155539579286, 0.5942023978926291L -0.8043155539579286, 0.5942023978926291 L -0.8033230253908362, 0.5955435474227841 L -0.8023282605371072, 0.5968830390817784 \", \"type\": \"path\"}, {\"fillcolor\": \"#d0805f\", \"layer\": \"below\", \"line\": {\"color\": \"rgb(175,175,175)\", \"width\": 0.5}, \"path\": \"M -0.8503935433223232,0.5261471481208503 Q -0.1999958679505627, -0.0012856137449053487 -0.8435591863808428, -0.5370362176543502L -0.8435591863808428, -0.5370362176543502 L -0.8479167062327686, -0.5301294740828628 L -0.8522176775986995, -0.5231873756010165 M -0.8522176775986995,-0.5231873756010165 Q -0.19999621905702544, -0.0012297816449670367 -0.8585871751588385, 0.5126675946973496L -0.8585871751588385, 0.5126675946973496 L -0.8545169387585134, 0.5194235279372499 L -0.8503935433223232, 0.5261471481208503 \", \"type\": \"path\"}, {\"fillcolor\": \"#d0805f\", \"layer\": \"below\", \"line\": {\"color\": \"rgb(175,175,175)\", \"width\": 0.5}, \"path\": \"M -0.8585871751588385,0.5126675946973496 Q -0.1925732512665905, -0.05399576739536727 -0.4668853046653111, -0.8843178796606905L -0.4668853046653111, -0.8843178796606905 L -0.4770134978956791, -0.8788959681471573 L -0.4870787361140626, -0.8733580622090389 M -0.4870787361140626,-0.8733580622090389 Q -0.1926038523137074, -0.053886511057217173 -0.8695790768893925, 0.49379371101320435L -0.8695790768893925, 0.49379371101320435 L -0.8641346564922263, 0.5032606635224554 L -0.8585871751588385, 0.5126675946973496 \", \"type\": \"path\"}, {\"fillcolor\": \"#d0805f\", \"layer\": \"below\", \"line\": {\"color\": \"rgb(175,175,175)\", \"width\": 0.5}, \"path\": \"M -0.7997860597555896,0.6002851477594864 Q -0.18168203206979405, -0.08361602252553235 -0.06423282238396275, -0.997934940027951L -0.06423282238396275, -0.997934940027951 L -0.06483520811369349, -0.9978959844537175 L -0.06543757021837533, -0.9978566652600539 M -0.06543757021837533,-0.9978566652600539 Q -0.18165640099119726, -0.08367169162222882 -0.8008773434857589, 0.5988284234162518L -0.8008773434857589, 0.5988284234162518 L -0.8003320330528431, 0.5995570338754296 L -0.7997860597555896, 0.6002851477594864 \", \"type\": \"path\"}, {\"fillcolor\": \"#d0805f\", \"layer\": \"below\", \"line\": {\"color\": \"rgb(175,175,175)\", \"width\": 0.5}, \"path\": \"M -0.8844396250714952,0.46665463632475884 Q -0.16078839065311815, -0.1189415546862419 0.18739786549667856, -0.9822840933290576L 0.18739786549667856, -0.9822840933290576 L 0.17121249975290234, -0.9852341244234095 L 0.15498079213622443, -0.9879174834310953 M 0.15498079213622443,-0.9879174834310953 Q -0.16090498566264777, -0.11878377662333824 -0.8984534414756035, 0.43906880269570997L -0.8984534414756035, 0.43906880269570997 L -0.8915532324206344, 0.45291592350050824 L -0.8844396250714952, 0.46665463632475884 \", \"type\": \"path\"}, {\"fillcolor\": \"#d0805f\", \"layer\": \"below\", \"line\": {\"color\": \"rgb(175,175,175)\", \"width\": 0.5}, \"path\": \"M -0.8434581097745655,0.5371949525596058 Q -0.126248831288443, -0.15511683531552034 0.6972769892072374, -0.7168017859367332L 0.6972769892072374, -0.7168017859367332 L 0.6924328619936118, -0.7214823155361023 L 0.6875573170751227, -0.7261301093719081 M 0.6875573170751227,-0.7261301093719081 Q -0.12628198470930102, -0.15508984601797718 -0.8503935433223232, 0.5261471481208503L -0.8503935433223232, 0.5261471481208503 L -0.8469438406237422, 0.5316823589602209 L -0.8434581097745655, 0.5371949525596058 \", \"type\": \"path\"}, {\"fillcolor\": \"#d0805f\", \"layer\": \"below\", \"line\": {\"color\": \"rgb(175,175,175)\", \"width\": 0.5}, \"path\": \"M -0.8137647685323737,0.5811943749688673 Q -0.09771109567304712, -0.17450656658811622 0.9207993970709367, -0.3900364987456936L 0.9207993970709367, -0.3900364987456936 L 0.919386319175305, -0.3933558136258878 L 0.9179612757973287, -0.3966700091216132 M 0.9179612757973287,-0.3966700091216132 Q -0.0976524426978288, -0.17453939508073033 -0.8183234737627425, 0.5747579423451912L -0.8183234737627425, 0.5747579423451912 L -0.8160504669294173, 0.5779806531574218 L -0.8137647685323737, 0.5811943749688673 \", \"type\": \"path\"}, {\"fillcolor\": \"#d0805f\", \"layer\": \"below\", \"line\": {\"color\": \"rgb(175,175,175)\", \"width\": 0.5}, \"path\": \"M -0.8100457670903597,0.5863666559576787 Q -0.08340727549286692, -0.1817779590458013 0.972793477389007, -0.23167401742405963L 0.972793477389007, -0.23167401742405963 L 0.9721482503442828, -0.2343667624740117 L 0.9714955696504788, -0.2370577105885646 M 0.9714955696504788,-0.2370577105885646 Q -0.08333159551697344, -0.18181266509403446 -0.8137647685323737, 0.5811943749688673L -0.8137647685323737, 0.5811943749688673 L -0.8119093865835669, 0.5837834769651297 L -0.8100457670903597, 0.5863666559576787 \", \"type\": \"path\"}, {\"fillcolor\": \"#d0805f\", \"layer\": \"below\", \"line\": {\"color\": \"rgb(175,175,175)\", \"width\": 0.5}, \"path\": \"M -0.8008773434857589,0.5988284234162518 Q -0.07309900855959772, -0.18616265723179787 0.9943563502974632, -0.10609169912443103L 0.9943563502974632, -0.10609169912443103 L 0.994253052139542, -0.1070554450329605 L 0.9941488199040586, -0.10801909036539616 M 0.9941488199040586,-0.10801909036539616 Q -0.07305355152865677, -0.18618050007734402 -0.8023282605371072, 0.5968830390817784L -0.8023282605371072, 0.5968830390817784 L -0.8016033921601335, 0.5978561713969064 L -0.8008773434857589, 0.5988284234162518 \", \"type\": \"path\"}, {\"fillcolor\": \"#ca6f4c\", \"layer\": \"below\", \"line\": {\"color\": \"rgb(175,175,175)\", \"width\": 0.5}, \"path\": \"M -0.9452281296129709,0.326410451714348 Q -0.19184858068898628, 0.05651656471886382 -0.9712266963811027, 0.2381568899625818L -0.9712266963811027, 0.2381568899625818 L -0.9709693892499499, 0.239203773255313 L -0.9707109536857598, 0.2402503785522151 M -0.9707109536857598,0.2402503785522151 Q -0.19183701186879937, 0.056555820896262654 -0.9457968700223637, 0.3247588038158476L -0.9457968700223637, 0.3247588038158476 L -0.9455128604607393, 0.3255847519515471 L -0.9452281296129709, 0.326410451714348 \", \"type\": \"path\"}, {\"fillcolor\": \"#ca6f4c\", \"layer\": \"below\", \"line\": {\"color\": \"rgb(175,175,175)\", \"width\": 0.5}, \"path\": \"M -0.944656504928382,0.32806110360189555 Q -0.1955545777461375, 0.04193336526597727 -0.996111311097922, 0.0881036656602826L -0.996111311097922, 0.0881036656602826 L -0.996074581659145, 0.08851795169658676 L -0.9960376799174231, 0.08893222242088111 M -0.9960376799174231,0.08893222242088111 Q -0.19555087087748646, 0.04195064837468697 -0.9448712020755748, 0.3274422261838846L -0.9448712020755748, 0.3274422261838846 L -0.9447639041772407, 0.32775168247284053 L -0.944656504928382, 0.32806110360189555 \", \"type\": \"path\"}, {\"fillcolor\": \"#ca6f4c\", \"layer\": \"below\", \"line\": {\"color\": \"rgb(175,175,175)\", \"width\": 0.5}, \"path\": \"M -0.9492860433144837,0.31441375282950346 Q -0.19999065771314828, 0.001933087546484821 -0.9551862865999471, -0.29600533422795555L -0.9551862865999471, -0.29600533422795555 L -0.9560770938108817, -0.293115319780694 L -0.956959157007469, -0.2902226245824991 M -0.956959157007469,-0.2902226245824991 Q -0.19998919019660719, 0.0020793759893982518 -0.9507177783964423, 0.3100575847176346L -0.9507177783964423, 0.3100575847176346 L -0.9500044077156621, 0.3122364894127753 L -0.9492860433144837, 0.31441375282950346 \", \"type\": \"path\"}, {\"fillcolor\": \"#ca6f4c\", \"layer\": \"below\", \"line\": {\"color\": \"rgb(175,175,175)\", \"width\": 0.5}, \"path\": \"M -0.9465037368790863,0.32269285098050343 Q -0.19928697808613333, -0.0168730662683764 -0.8787761740301304, -0.47723415212761755L -0.8787761740301304, -0.47723415212761755 L -0.8795245755814908, -0.4758534658360687 L -0.8802708078738618, -0.4744716058997616 M -0.8802708078738618,-0.4744716058997616 Q -0.19929503256169384, -0.01677766361068772 -0.9472060909745913, 0.3206253596031267L -0.9472060909745913, 0.3206253596031267 L -0.9468554782317891, 0.3216592969936513 L -0.9465037368790863, 0.32269285098050343 \", \"type\": \"path\"}, {\"fillcolor\": \"#ca6f4c\", \"layer\": \"below\", \"line\": {\"color\": \"rgb(175,175,175)\", \"width\": 0.5}, \"path\": \"M -0.9472060909745913,0.3206253596031267 Q -0.19054004271199626, -0.0607823339738665 -0.5865681935498718, -0.8098998421506453L -0.5865681935498718, -0.8098998421506453 L -0.5882468728306275, -0.8086814061204743 L -0.5899230211495131, -0.807459490697726 M -0.5899230211495131,-0.807459490697726 Q -0.1905798119500649, -0.06065752448854057 -0.9481123992164469, 0.3179353369036429L -0.9481123992164469, 0.3179353369036429 L -0.9476601995813373, 0.31928066983370607 L -0.9472060909745913, 0.3206253596031267 \", \"type\": \"path\"}, {\"fillcolor\": \"#ca6f4c\", \"layer\": \"below\", \"line\": {\"color\": \"rgb(175,175,175)\", \"width\": 0.5}, \"path\": \"M -0.9481123992164469,0.3179353369036429 Q -0.16505172467711227, -0.11295099902661657 -0.04695533992128387, -0.998896989710589L -0.04695533992128387, -0.998896989710589 L -0.04866370865771396, -0.9988152198778697 L -0.05037193504257554, -0.9987305283008358 M -0.05037193504257554,-0.9987305283008358 Q -0.16503526825373535, -0.11297504252009652 -0.9492860433144837, 0.31441375282950346L -0.9492860433144837, 0.31441375282950346 L -0.9487008552848986, 0.3161750894389087 L -0.9481123992164469, 0.3179353369036429 \", \"type\": \"path\"}, {\"fillcolor\": \"#ca6f4c\", \"layer\": \"below\", \"line\": {\"color\": \"rgb(175,175,175)\", \"width\": 0.5}, \"path\": \"M -0.9571344233156026,0.28964408453187646 Q -0.15276251218774584, -0.1290876247751457 0.12591699180467977, -0.9920407810039162L 0.12591699180467977, -0.9920407810039162 L 0.11454811153635908, -0.9934177017465784 L 0.10316420858684455, -0.9946643383909217 M 0.10316420858684455,-0.9946643383909217 Q -0.15323915040718772, -0.1285214487254299 -0.9615096041799264, 0.2747713250500521L -0.9615096041799264, 0.2747713250500521 L -0.9593508356199608, 0.2822161834397222 L -0.9571344233156026, 0.28964408453187646 \", \"type\": \"path\"}, {\"fillcolor\": \"#ca6f4c\", \"layer\": \"below\", \"line\": {\"color\": \"rgb(175,175,175)\", \"width\": 0.5}, \"path\": \"M -0.9442977756041866,0.3290922530066383 Q -0.11277549432279765, -0.16517169212746063 0.6503094060057867, -0.7596694521042694L 0.6503094060057867, -0.7596694521042694 L 0.6500713694575355, -0.7598731569226567 L 0.6498332691001956, -0.7600767871541354 M 0.6498332691001956,-0.7600767871541354 Q -0.11279117633628495, -0.1651609837118836 -0.9444414024251877, 0.32867984024753416L -0.9444414024251877, 0.32867984024753416 L -0.9443696115276264, 0.32888605446743996 L -0.9442977756041866, 0.3290922530066383 \", \"type\": \"path\"}, {\"fillcolor\": \"#ca6f4c\", \"layer\": \"below\", \"line\": {\"color\": \"rgb(175,175,175)\", \"width\": 0.5}, \"path\": \"M -0.9448712020755748,0.3274422261838846 Q -0.0742167931565541, -0.18571986327142628 0.9103129498466982, -0.41392068484360955L 0.9103129498466982, -0.41392068484360955 L 0.9100255667222481, -0.4145521293056533 L 0.9097377455923289, -0.41518337423912716 M 0.9097377455923289,-0.41518337423912716 Q -0.07424425702034099, -0.1857088858926722 -0.9452281296129709, 0.326410451714348L -0.9452281296129709, 0.326410451714348 L -0.9450498066514857, 0.32692638765934656 L -0.9448712020755748, 0.3274422261838846 \", \"type\": \"path\"}, {\"fillcolor\": \"#ca6f4c\", \"layer\": \"below\", \"line\": {\"color\": \"rgb(175,175,175)\", \"width\": 0.5}, \"path\": \"M -0.9442258946582932,0.32929843585529806 Q -0.05811586141260353, -0.19137018224444233 0.9678889312464753, -0.2513782344805446L 0.9678889312464753, -0.2513782344805446 L 0.9678557771676902, -0.251505854013632 L 0.9678226062618244, -0.2516334691740542 M 0.9678226062618244,-0.2516334691740542 Q -0.0581202014844888, -0.1913688641848575 -0.9442977756041866, 0.3290922530066383L -0.9442977756041866, 0.3290922530066383 L -0.9442618407588325, 0.3291953463928997 L -0.9442258946582932, 0.32929843585529806 \", \"type\": \"path\"}, {\"fillcolor\": \"#ca6f4c\", \"layer\": \"below\", \"line\": {\"color\": \"rgb(175,175,175)\", \"width\": 0.5}, \"path\": \"M -0.9441539686933733,0.3295046030035888 Q -0.04429705031635063, -0.19503274425919026 0.9938573657216395, -0.11066858904333858L 0.9938573657216395, -0.11066858904333858 L 0.9938439500132289, -0.11078900226151783 L 0.9938305197158607, -0.11090941385338852 M 0.9938305197158607,-0.11090941385338852 Q -0.04429938710323743, -0.19503221349889233 -0.9442258946582932, 0.32929843585529806L -0.9442258946582932, 0.32929843585529806 L -0.9441899373029972, 0.32940152139260415 L -0.9441539686933733, 0.3295046030035888 \", \"type\": \"path\"}, {\"fillcolor\": \"#c45e3a\", \"layer\": \"below\", \"line\": {\"color\": \"rgb(175,175,175)\", \"width\": 0.5}, \"path\": \"M -0.969863248500359,0.24364991116011275 Q -0.19938636711868607, 0.015654922778875324 -0.9960048845978501, -0.08929876738915961L -0.9960048845978501, -0.08929876738915961 L -0.9960801024269232, -0.08845580562727352 L -0.9961546068213388, -0.0876127805096023 M -0.9961546068213388,-0.0876127805096023 Q -0.19938577552580936, 0.015662455681392164 -0.9702559770605562, 0.24208126523600573L -0.9702559770605562, 0.24208126523600573 L -0.9700599298549963, 0.2428656675813189 L -0.969863248500359, 0.24364991116011275 \", \"type\": \"path\"}, {\"fillcolor\": \"#c45e3a\", \"layer\": \"below\", \"line\": {\"color\": \"rgb(175,175,175)\", \"width\": 0.5}, \"path\": \"M -0.9802720455222319,0.19765302114478098 Q -0.19965561371602425, -0.011731833261588717 -0.9503776195128883, -0.31109866654972285L -0.9503776195128883, -0.31109866654972285 L -0.9517569764108551, -0.3068528276768311 L -0.9531173650081531, -0.30260087329668256 M -0.9531173650081531,-0.30260087329668256 Q -0.1996589710530271, -0.011674556867243346 -0.9818891680498065, 0.1894562262541371L -0.9818891680498065, 0.1894562262541371 L -0.9810891671368324, 0.1935563125469086 L -0.9802720455222319, 0.19765302114478098 \", \"type\": \"path\"}, {\"fillcolor\": \"#c45e3a\", \"layer\": \"below\", \"line\": {\"color\": \"rgb(175,175,175)\", \"width\": 0.5}, \"path\": \"M -0.9720551477114849,0.2347526140591476 Q -0.19809524390866104, -0.027536781597857475 -0.871173258003215, -0.4909757168537603L -0.871173258003215, -0.4909757168537603 L -0.8728644009215892, -0.48796284449104843 L -0.8745451241396738, -0.48494414713812417 M -0.8745451241396738,-0.48494414713812417 Q -0.19810872519445621, -0.027439624666300295 -0.9734299537375896, 0.22898498895437272L -0.9734299537375896, 0.22898498895437272 L -0.9727468254201174, 0.23186982044906942 L -0.9720551477114849, 0.2347526140591476 \", \"type\": \"path\"}, {\"fillcolor\": \"#c45e3a\", \"layer\": \"below\", \"line\": {\"color\": \"rgb(175,175,175)\", \"width\": 0.5}, \"path\": \"M -0.9818891680498065,0.1894562262541371 Q -0.18411403552175962, -0.07811543972795805 -0.5460743242574655, -0.8377367321460558L -0.5460743242574655, -0.8377367321460558 L -0.550477776197778, -0.8348498175793949 L -0.5548659663263175, -0.831939757081462 M -0.5548659663263175,-0.831939757081462 Q -0.18417791210087345, -0.07796471441724735 -0.9835353047491335, 0.1807160875849987L -0.9835353047491335, 0.1807160875849987 L -0.9827219530850203, 0.18508798698122775 L -0.9818891680498065, 0.1894562262541371 \", \"type\": \"path\"}, {\"fillcolor\": \"#c45e3a\", \"layer\": \"below\", \"line\": {\"color\": \"rgb(175,175,175)\", \"width\": 0.5}, \"path\": \"M -0.9697317753557013,0.2441726517558417 Q -0.1617562933087557, -0.11762185840655554 -0.06664222267463152, -0.9977769360718781L -0.06664222267463152, -0.9977769360718781 L -0.06684298868784112, -0.9977635064800061 L -0.0670437519947564, -0.9977500364913376 M -0.0670437519947564,-0.9977500364913376 Q -0.16174825988877906, -0.11763290535794818 -0.969863248500359, 0.24364991116011275L -0.969863248500359, 0.24364991116011275 L -0.969797547149007, 0.24391129031631442 L -0.9697317753557013, 0.2441726517558417 \", \"type\": \"path\"}, {\"fillcolor\": \"#c45e3a\", \"layer\": \"below\", \"line\": {\"color\": \"rgb(175,175,175)\", \"width\": 0.5}, \"path\": \"M -0.9768902826630351,0.21374137558866632 Q -0.1529249712958774, -0.12889512463299407 0.04526602664252103, -0.9989749680707714L 0.04526602664252103, -0.9989749680707714 L 0.040431593500385984, -0.999182308814072 L 0.03559621366324524, -0.9993662539694046 M 0.03559621366324524,-0.9993662539694046 Q -0.15302755291385195, -0.12877332040915246 -0.9785864975240777, 0.20583601935414117L -0.9785864975240777, 0.20583601935414117 L -0.9777463797565492, 0.20979041177556657 L -0.9768902826630351, 0.21374137558866632 \", \"type\": \"path\"}, {\"fillcolor\": \"#c45e3a\", \"layer\": \"below\", \"line\": {\"color\": \"rgb(175,175,175)\", \"width\": 0.5}, \"path\": \"M -0.9835353047491335,0.1807160875849987 Q -0.09651953409498776, -0.1751684319107941 0.6781734833932469, -0.7349018481554319L 0.6781734833932469, -0.7349018481554319 L 0.6742497189502737, -0.7385034302530198 L 0.6703068278490832, -0.7420840629867343 M 0.6703068278490832,-0.7420840629867343 Q -0.09664990824088016, -0.1750965311964502 -0.9851499536495365, 0.17169615261943422L -0.9851499536495365, 0.17169615261943422 L -0.9843529608152533, 0.17620796955371953 L -0.9835353047491335, 0.1807160875849987 \", \"type\": \"path\"}, {\"fillcolor\": \"#c45e3a\", \"layer\": \"below\", \"line\": {\"color\": \"rgb(175,175,175)\", \"width\": 0.5}, \"path\": \"M -0.9696659331252194,0.24443399545970995 Q -0.06641667198568643, -0.18865000843452337 0.9089295174194467, -0.4169497959750689L 0.9089295174194467, -0.4169497959750689 L 0.908871655556125, -0.41707590883035706 L 0.9088137761948, -0.41720201365591236 M 0.9088137761948,-0.41720201365591236 Q -0.06641742622763071, -0.18864974289221081 -0.9697317753557013, 0.2441726517558417L -0.9697317753557013, 0.2441726517558417 L -0.9696988630448087, 0.24430332582591946 L -0.9696659331252194, 0.24443399545970995 \", \"type\": \"path\"}, {\"fillcolor\": \"#c45e3a\", \"layer\": \"below\", \"line\": {\"color\": \"rgb(175,175,175)\", \"width\": 0.5}, \"path\": \"M -0.9751302067238102,0.22163275916429667 Q -0.04391743437119273, -0.19511857666109597 0.9760512687447253, -0.21754061869410096L 0.9760512687447253, -0.21754061869410096 L 0.9751831152659346, -0.2213998457547495 L 0.974299702781011, -0.22525560850028495 M 0.974299702781011,-0.22525560850028495 Q -0.04390046277014853, -0.19512239586620192 -0.9768902826630351, 0.21374137558866632L -0.9768902826630351, 0.21374137558866632 L -0.9760182202347449, 0.2176888462227701 L -0.9751302067238102, 0.22163275916429667 \", \"type\": \"path\"}, {\"fillcolor\": \"#c45e3a\", \"layer\": \"below\", \"line\": {\"color\": \"rgb(175,175,175)\", \"width\": 0.5}, \"path\": \"M -0.9712266963811027,0.2381568899625818 Q -0.03397724834164712, -0.19709273602832256 0.9949077892369793, -0.10078933929531574L 0.9949077892369793, -0.10078933929531574 L 0.9947478062215322, -0.10235625050503273 L 0.9945853554304509, -0.10392290778882055 M 0.9945853554304509,-0.10392290778882055 Q -0.03394240995551935, -0.197098738723543 -0.9720551477114849, 0.2347526140591476L -0.9720551477114849, 0.2347526140591476 L -0.9716424129630091, 0.2364551148345519 L -0.9712266963811027, 0.2381568899625818 \", \"type\": \"path\"}, {\"fillcolor\": \"#bf4d28\", \"layer\": \"below\", \"line\": {\"color\": \"rgb(175,175,175)\", \"width\": 0.5}, \"path\": \"M -0.9999993341344291,0.0011540063684340085 Q -0.19890303091051176, -0.020918515592938586 -0.9778800570175072, -0.20916642676929964L -0.9778800570175072, -0.20916642676929964 L -0.9805673334170867, -0.19618283471115383 L -0.9830822308673851, -0.18316475466859125 M -0.9830822308673851,-0.18316475466859125 Q -0.19890777415713834, -0.020873365321692795 -0.9996897682084797, -0.024907174453885243L -0.9996897682084797, -0.024907174453885243 L -0.9999294589088324, -0.011877592613385815 L -0.9999993341344291, 0.0011540063684340085 \", \"type\": \"path\"}, {\"fillcolor\": \"#bf4d28\", \"layer\": \"below\", \"line\": {\"color\": \"rgb(175,175,175)\", \"width\": 0.5}, \"path\": \"M -0.996111311097922,0.0881036656602826 Q -0.19910257107591406, -0.01892527915145753 -0.9616735947677623, -0.274196821875181L -0.9616735947677623, -0.274196821875181 L -0.9618707795997032, -0.273504302255484 L -0.9620674657350395, -0.2728116408333019 M -0.9620674657350395,-0.2728116408333019 Q -0.19910307934314958, -0.018919931185802194 -0.996232498069001, 0.08672260253934824L -0.996232498069001, 0.08672260253934824 L -0.9961721439165407, 0.08741315510106476 L -0.996111311097922, 0.0881036656602826 \", \"type\": \"path\"}, {\"fillcolor\": \"#bf4d28\", \"layer\": \"below\", \"line\": {\"color\": \"rgb(175,175,175)\", \"width\": 0.5}, \"path\": \"M -0.9963753949039221,0.0850651070066526 Q -0.19582855520813072, -0.0406346768794351 -0.8802708078738618, -0.4744716058997616L -0.8802708078738618, -0.4744716058997616 L -0.8809405606992705, -0.4732269313076496 L -0.8816085535959977, -0.47198131131049337 M -0.8816085535959977,-0.47198131131049337 Q -0.19583528555684787, -0.0406022281515172 -0.9965845693865094, 0.08257842369956984L -0.9965845693865094, 0.08257842369956984 L -0.9964807578245538, 0.0838218306015983 L -0.9963753949039221, 0.0850651070066526 \", \"type\": \"path\"}, {\"fillcolor\": \"#bf4d28\", \"layer\": \"below\", \"line\": {\"color\": \"rgb(175,175,175)\", \"width\": 0.5}, \"path\": \"M -0.9990865669511294,0.04273209259802881 Q -0.1783204789221119, -0.09056382719932196 -0.5548659663263175, -0.831939757081462L -0.5548659663263175, -0.831939757081462 L -0.5591064908797468, -0.8290958520316789 L -0.5633324396139446, -0.8262303325820236 M -0.5633324396139446,-0.8262303325820236 Q -0.1783810700874368, -0.09044442400978049 -0.999426387139822, 0.033865863175807906L -0.999426387139822, 0.033865863175807906 L -0.9992663105615925, 0.0382993547807639 L -0.9990865669511294, 0.04273209259802881 \", \"type\": \"path\"}, {\"fillcolor\": \"#bf4d28\", \"layer\": \"below\", \"line\": {\"color\": \"rgb(175,175,175)\", \"width\": 0.5}, \"path\": \"M -0.9958126514648006,0.09141752120159184 Q -0.1520779499570622, -0.1298934068259713 -0.06543757021837533, -0.9978566652600539L -0.06543757021837533, -0.9978566652600539 L -0.06573874234273167, -0.9978368693104078 L -0.06603990847851592, -0.9978169824612875 M -0.06603990847851592,-0.9978169824612875 Q -0.15206312955821386, -0.12991075640208502 -0.9958883500491996, 0.09058915076477317L -0.9958883500491996, 0.09058915076477317 L -0.9958505868890991, 0.09100334385415143 L -0.9958126514648006, 0.09141752120159184 \", \"type\": \"path\"}, {\"fillcolor\": \"#bf4d28\", \"layer\": \"below\", \"line\": {\"color\": \"rgb(175,175,175)\", \"width\": 0.5}, \"path\": \"M -0.998253850748576,0.05906986935519435 Q -0.14307329427245036, -0.13974989254389011 0.03559621366324524, -0.9993662539694046L 0.03559621366324524, -0.9993662539694046 L 0.031082438231190026, -0.9995168242874175 L 0.026568028815612287, -0.9996470076206164 M 0.026568028815612287,-0.9996470076206164 Q -0.14316193031728305, -0.13965909103180285 -0.998682360722506, 0.05131805122685783L -0.998682360722506, 0.05131805122685783 L -0.9984756285669637, 0.05519437614292605 L -0.998253850748576, 0.05906986935519435 \", \"type\": \"path\"}, {\"fillcolor\": \"#bf4d28\", \"layer\": \"below\", \"line\": {\"color\": \"rgb(175,175,175)\", \"width\": 0.5}, \"path\": \"M -0.9996897682084797,-0.024907174453885243 Q -0.060936615776508975, -0.1904907579325205 0.7996278574823908, -0.6004958697094603L 0.7996278574823908, -0.6004958697094603 L 0.7902193659164505, -0.6128240805733755 L 0.780620823039666, -0.6250049044902564 M 0.780620823039666,-0.6250049044902564 Q -0.061276220727969004, -0.19038178687389512 -0.9986295347545739, -0.052335956242942676L -0.9986295347545739, -0.052335956242942676 L -0.9992537684023484, -0.03862520334840976 L -0.9996897682084797, -0.024907174453885243 \", \"type\": \"path\"}, {\"fillcolor\": \"#bf4d28\", \"layer\": \"below\", \"line\": {\"color\": \"rgb(175,175,175)\", \"width\": 0.5}, \"path\": \"M -0.996232498069001,0.08672260253934824 Q -0.050312956906268386, -0.1935680923276044 0.9123691659289906, -0.40936842216032987L 0.9123691659289906, -0.40936842216032987 L 0.9120280427473505, -0.410127844997675 L 0.9116862874499541, -0.41088698358030246 M 0.9116862874499541,-0.41088698358030246 Q -0.050313091842871416, -0.19356805725431764 -0.9963753949039221, 0.0850651070066526L -0.9963753949039221, 0.0850651070066526 L -0.9963042911718077, 0.0858938844891861 L -0.996232498069001, 0.08672260253934824 \", \"type\": \"path\"}, {\"fillcolor\": \"#bf4d28\", \"layer\": \"below\", \"line\": {\"color\": \"rgb(175,175,175)\", \"width\": 0.5}, \"path\": \"M -0.9998367831633913,0.01806673831884227 Q -0.01785796554446043, -0.19920113721214763 0.98710750388468, -0.1600586635410791L 0.98710750388468, -0.1600586635410791 L 0.9857882044874043, -0.16799290429509062 L 0.9844051317626973, -0.17591627712996505 M 0.9844051317626973,-0.17591627712996505 Q -0.017775563126329993, -0.19920850723686945 -0.9999993341344291, 0.0011540063684340085L -0.9999993341344291, 0.0011540063684340085 L -0.9999538160023752, 0.009610716013279716 L -0.9998367831633913, 0.01806673831884227 \", \"type\": \"path\"}, {\"fillcolor\": \"#bf4d28\", \"layer\": \"below\", \"line\": {\"color\": \"rgb(175,175,175)\", \"width\": 0.5}, \"path\": \"M -0.998682360722506,0.05131805122685783 Q -0.012532208116587396, -0.1996069732241901 0.9972585425273058, -0.07399594148542082L 0.9972585425273058, -0.07399594148542082 L 0.996973587301499, -0.07774102020928482 L 0.9966745679546049, -0.08148500225502743 M 0.9966745679546049,-0.08148500225502743 Q -0.012424051027298834, -0.19961373438736896 -0.9990865669511294, 0.04273209259802881L -0.9990865669511294, 0.04273209259802881 L -0.9988936889208785, 0.047025506207156134 L -0.998682360722506, 0.05131805122685783 \", \"type\": \"path\"}, {\"fillcolor\": \"#af4624\", \"layer\": \"below\", \"line\": {\"color\": \"rgb(175,175,175)\", \"width\": 0.5}, \"path\": \"M -0.9960048845978501,-0.08929876738915961 Q -0.19655974017998495, -0.03693600601549682 -0.9604800188905875, -0.2783489416396918L -0.9604800188905875, -0.2783489416396918 L -0.9608000595881333, -0.277242214490217 L -0.9611188250435928, -0.27613511936518265 M -0.9611188250435928,-0.27613511936518265 Q -0.19656061395333835, -0.03693135581435772 -0.9958008162288805, -0.09154635109000997L -0.9958008162288805, -0.09154635109000997 L -0.9959034844650303, -0.09042261680802577 L -0.9960048845978501, -0.08929876738915961 \", \"type\": \"path\"}, {\"fillcolor\": \"#af4624\", \"layer\": \"below\", \"line\": {\"color\": \"rgb(175,175,175)\", \"width\": 0.5}, \"path\": \"M -0.9958008162288805,-0.09154635109000997 Q -0.19112707193353445, -0.0589104606510045 -0.8745451241396738, -0.48494414713812417L -0.8745451241396738, -0.48494414713812417 L -0.8756850873950189, -0.4828826231228228 L -0.876820191125739, -0.4808184193999048 M -0.876820191125739,-0.4808184193999048 Q -0.19114120134765256, -0.05886460012075289 -0.9954045185485749, -0.09575930478590501L -0.9954045185485749, -0.09575930478590501 L -0.9956048958076996, -0.09365303755746296 L -0.9958008162288805, -0.09154635109000997 \", \"type\": \"path\"}, {\"fillcolor\": \"#af4624\", \"layer\": \"below\", \"line\": {\"color\": \"rgb(175,175,175)\", \"width\": 0.5}, \"path\": \"M -0.9922724508320732,-0.12407813393064489 Q -0.17067291188851652, -0.10426292316780056 -0.5633324396139446, -0.8262303325820236L -0.5633324396139446, -0.8262303325820236 L -0.5675437023590847, -0.8233432734361426 L -0.5717401693282025, -0.8204347498592185 M -0.5717401693282025,-0.8204347498592185 Q -0.17073462756945254, -0.10416183057492961 -0.9911119422802095, -0.13303051480600483L -0.9911119422802095, -0.13303051480600483 L -0.9917022985710877, -0.12855563390540772 L -0.9922724508320732, -0.12407813393064489 \", \"type\": \"path\"}, {\"fillcolor\": \"#af4624\", \"layer\": \"below\", \"line\": {\"color\": \"rgb(175,175,175)\", \"width\": 0.5}, \"path\": \"M -0.9964928592495045,-0.08367784333231415 Q -0.14016512576897389, -0.14266652556983273 -0.06603990847851592, -0.9978169824612875L -0.06603990847851592, -0.9978169824612875 L -0.06634106859829378, -0.9977970047145043 L -0.06664222267463152, -0.9977769360718781 M -0.06664222267463152,-0.9977769360718781 Q -0.14014781451106134, -0.14268353124230262 -0.9964216849141452, -0.0845211561258841L -0.9964216849141452, -0.0845211561258841 L -0.996457361294937, -0.08409950725855227 L -0.9964928592495045, -0.08367784333231415 \", \"type\": \"path\"}, {\"fillcolor\": \"#af4624\", \"layer\": \"below\", \"line\": {\"color\": \"rgb(175,175,175)\", \"width\": 0.5}, \"path\": \"M -0.9931228387423974,-0.11707701383381064 Q -0.13088766154704753, -0.1512230804300241 0.026568028815612287, -0.9996470076206164L 0.026568028815612287, -0.9996470076206164 L 0.022536845421400456, -0.9997460130445391 L 0.018505295572636457, -0.9998287623567195 M 0.018505295572636457,-0.9998287623567195 Q -0.1309641796771438, -0.1511568180450118 -0.9922724508320732, -0.12407813393064489L -0.9922724508320732, -0.12407813393064489 L -0.992703816798735, -0.12057832356283446 L -0.9931228387423974, -0.11707701383381064 \", \"type\": \"path\"}, {\"fillcolor\": \"#af4624\", \"layer\": \"below\", \"line\": {\"color\": \"rgb(175,175,175)\", \"width\": 0.5}, \"path\": \"M -0.9778800570175072,-0.20916642676929964 Q -0.03627666754755493, -0.19668249386166572 0.8389157445965616, -0.5442613099127998L 0.8389157445965616, -0.5442613099127998 L 0.8290630135684983, -0.5591551837662958 L 0.8189458912056841, -0.573870740914126 M 0.8189458912056841,-0.573870740914126 Q -0.03662635197779413, -0.1966176755553751 -0.9706488177895476, -0.24050129422469566L -0.9706488177895476, -0.24050129422469566 L -0.974390405571003, -0.22486293054031026 L -0.9778800570175072, -0.20916642676929964 \", \"type\": \"path\"}, {\"fillcolor\": \"#af4624\", \"layer\": \"below\", \"line\": {\"color\": \"rgb(175,175,175)\", \"width\": 0.5}, \"path\": \"M -0.9963014750932557,-0.08592654262218843 Q -0.03357960961172767, -0.19716087293964787 0.9116862874499541, -0.41088698358030246L 0.9116862874499541, -0.41088698358030246 L 0.9113439002736673, -0.4116458373820631 L 0.9110008814557944, -0.4124044058770052 M 0.9110008814557944,-0.4124044058770052 Q -0.033576890393904844, -0.19716133604608108 -0.9961546068213388, -0.0876127805096023L -0.9961546068213388, -0.0876127805096023 L -0.9962283977277337, -0.0867696926399557 L -0.9963014750932557, -0.08592654262218843 \", \"type\": \"path\"}, {\"fillcolor\": \"#af4624\", \"layer\": \"below\", \"line\": {\"color\": \"rgb(175,175,175)\", \"width\": 0.5}, \"path\": \"M -0.9882488061856036,-0.15285384219158282 Q -0.0037619276542746106, -0.19996461662085122 0.9818002827616354, -0.18991630990826636L 0.9818002827616354, -0.18991630990826636 L 0.9806303187050928, -0.19586775650001262 L 0.9794242786982704, -0.20181199740444727 M 0.9794242786982704,-0.20181199740444727 Q -0.003677338310890824, -0.19996619009959474 -0.9861821052591629, -0.16566488845438923L -0.9861821052591629, -0.16566488845438923 L -0.9872362365430778, -0.15926271772219688 L -0.9882488061856036, -0.15285384219158282 \", \"type\": \"path\"}, {\"fillcolor\": \"#af4624\", \"layer\": \"below\", \"line\": {\"color\": \"rgb(175,175,175)\", \"width\": 0.5}, \"path\": \"M -0.9897501591397696,-0.14280974225451404 Q 0.007793969679511172, -0.1998480773903889 0.9978660858955862, -0.06529375635864847L 0.9978660858955862, -0.06529375635864847 L 0.9975718033010912, -0.06964551140317024 L 0.9972585425273058, -0.07399594148542082 M 0.9972585425273058,-0.07399594148542082 Q 0.007937092573940345, -0.19984244434422008 -0.9882488061856036, -0.15285384219158282L -0.9882488061856036, -0.15285384219158282 L -0.9890122333383689, -0.14783369814440755 L -0.9897501591397696, -0.14280974225451404 \", \"type\": \"path\"}, {\"fillcolor\": \"#9f4021\", \"layer\": \"below\", \"line\": {\"color\": \"rgb(175,175,175)\", \"width\": 0.5}, \"path\": \"M -0.9342180013697007,-0.35670257346534795 Q -0.17662767619349262, -0.09382251330297399 -0.8185951974674472, -0.5743708755527486L -0.8185951974674472, -0.5743708755527486 L -0.8266314892655952, -0.5627436192037579 L -0.8345026406950928, -0.5510039407054333 M -0.8345026406950928,-0.5510039407054333 Q -0.17673765363265392, -0.09361517926289548 -0.9246588763174934, -0.3807964842895354L -0.9246588763174934, -0.3807964842895354 L -0.9295165091243532, -0.36878050282692026 L -0.9342180013697007, -0.35670257346534795 \", \"type\": \"path\"}, {\"fillcolor\": \"#9f4021\", \"layer\": \"below\", \"line\": {\"color\": \"rgb(175,175,175)\", \"width\": 0.5}, \"path\": \"M -0.9403404440090325,-0.3402349913822733 Q -0.15378975095943526, -0.12786208390228468 -0.5061896342378488, -0.8624222018188962L -0.5061896342378488, -0.8624222018188962 L -0.5145595354735705, -0.8574546544588952 L -0.5228806915719411, -0.8524058788988076 M -0.5228806915719411,-0.8524058788988076 Q -0.1539109602331783, -0.1277161552823331 -0.9342180013697007, -0.35670257346534795L -0.9342180013697007, -0.35670257346534795 L -0.9373153880098731, -0.34848222824112696 L -0.9403404440090325, -0.3402349913822733 \", \"type\": \"path\"}, {\"fillcolor\": \"#9f4021\", \"layer\": \"below\", \"line\": {\"color\": \"rgb(175,175,175)\", \"width\": 0.5}, \"path\": \"M -0.9604800188905875,-0.2783489416396918 Q -0.12499364890662575, -0.15613003469226278 -0.06142138305267048, -0.9981119244372832L -0.06142138305267048, -0.9981119244372832 L -0.06222470214452211, -0.9980621656204716 L -0.06302798092736706, -0.9980117602614809 M -0.06302798092736706,-0.9980117602614809 Q -0.12493943086268895, -0.15617342480623064 -0.9598361134700528, -0.2805612861367438L -0.9598361134700528, -0.2805612861367438 L -0.9601587033757365, -0.2794552993446797 L -0.9604800188905875, -0.2783489416396918 \", \"type\": \"path\"}, {\"fillcolor\": \"#9f4021\", \"layer\": \"below\", \"line\": {\"color\": \"rgb(175,175,175)\", \"width\": 0.5}, \"path\": \"M -0.9117779657393217,-0.41068350489429734 Q -0.08270322721067949, -0.1820993580684422 0.2907090544530097, -0.956811499543686L 0.2907090544530097, -0.956811499543686 L 0.2730672890816155, -0.9619949353471761 L 0.25533319968923274, -0.9668531207667783 M 0.25533319968923274,-0.9668531207667783 Q -0.08306193284711703, -0.1819360198303267 -0.8978045395707422, -0.4403941515576331L -0.8978045395707422, -0.4403941515576331 L -0.9049131955675916, -0.42559618006703226 L -0.9117779657393217, -0.41068350489429734 \", \"type\": \"path\"}, {\"fillcolor\": \"#9f4021\", \"layer\": \"below\", \"line\": {\"color\": \"rgb(175,175,175)\", \"width\": 0.5}, \"path\": \"M -0.9551862865999471,-0.29600533422795555 Q -0.05383429541923699, -0.19261845352072143 0.6633024689885355, -0.7483514111924376L 0.6633024689885355, -0.7483514111924376 L 0.6604842835700768, -0.7508398705162921 L 0.6576567624712178, -0.7533177170197687 M 0.6576567624712178,-0.7533177170197687 Q -0.053892730573537356, -0.19260211211543896 -0.9531173650081531, -0.30260087329668256L -0.9531173650081531, -0.30260087329668256 L -0.9541575247143965, -0.2993048914249411 L -0.9551862865999471, -0.29600533422795555 \", \"type\": \"path\"}, {\"fillcolor\": \"#9f4021\", \"layer\": \"below\", \"line\": {\"color\": \"rgb(175,175,175)\", \"width\": 0.5}, \"path\": \"M -0.9626155329810246,-0.27087143751908926 Q -0.015369448747112675, -0.19940857565613843 0.9097377455923289, -0.41518337423912716L 0.9097377455923289, -0.41518337423912716 L 0.9095648427293723, -0.41556202529910274 L 0.9093917822642739, -0.4159406043538038 M 0.9093917822642739,-0.4159406043538038 Q -0.015366304542288923, -0.19940881797130647 -0.9623811260082075, -0.27170308850503483L -0.9623811260082075, -0.27170308850503483 L -0.962498419318581, -0.27128728832961 L -0.9626155329810246, -0.27087143751908926 \", \"type\": \"path\"}, {\"fillcolor\": \"#9f4021\", \"layer\": \"below\", \"line\": {\"color\": \"rgb(175,175,175)\", \"width\": 0.5}, \"path\": \"M -0.9623811260082075,-0.27170308850503483 Q 0.002448593764968821, -0.19998501040971586 0.9687450291072219, -0.24805859908507027L 0.9687450291072219, -0.24805859908507027 L 0.9686140625647788, -0.24856950295994665 L 0.9684828265781141, -0.2490803376890004 M 0.9684828265781141,-0.2490803376890004 Q 0.002458315691024136, -0.199984891139214 -0.9620674657350395, -0.2728116408333019L -0.9620674657350395, -0.2728116408333019 L -0.9622244555132174, -0.27225740983909374 L -0.9623811260082075, -0.27170308850503483 \", \"type\": \"path\"}, {\"fillcolor\": \"#9f4021\", \"layer\": \"below\", \"line\": {\"color\": \"rgb(175,175,175)\", \"width\": 0.5}, \"path\": \"M -0.9582864212229619,-0.2858096130288272 Q 0.01924691484029582, -0.19907173648996587 0.9952910774818963, -0.09693126990257601L 0.9952910774818963, -0.09693126990257601 L 0.9951013031079469, -0.09886049035315389 L 0.9949077892369793, -0.10078933929531574 M 0.9949077892369793,-0.10078933929531574 Q 0.01931969675299961, -0.19906468626396834 -0.956959157007469, -0.2902226245824991L -0.956959157007469, -0.2902226245824991 L -0.9576253311710942, -0.28801688335834097 L -0.9582864212229619, -0.2858096130288272 \", \"type\": \"path\"}, {\"fillcolor\": \"#8f391e\", \"layer\": \"below\", \"line\": {\"color\": \"rgb(175,175,175)\", \"width\": 0.5}, \"path\": \"M -0.7493917164859127,-0.6621269177901601 Q -0.10869116555436115, -0.16788755323261598 -0.29738641788124515, -0.9547572039318486L -0.29738641788124515, -0.9547572039318486 L -0.3373283658695672, -0.9413870477012988 L -0.37667185276071014, -0.9263467576117562 M -0.37667185276071014,-0.9263467576117562 Q -0.10880241951702219, -0.16781547457621993 -0.6919753370504782, -0.7219211403705235L -0.6919753370504782, -0.7219211403705235 L -0.721303391797475, -0.6926192438717381 L -0.7493917164859127, -0.6621269177901601 \", \"type\": \"path\"}, {\"fillcolor\": \"#8f391e\", \"layer\": \"below\", \"line\": {\"color\": \"rgb(175,175,175)\", \"width\": 0.5}, \"path\": \"M -0.871173258003215,-0.4909757168537603 Q -0.10454876813770947, -0.17049796210186052 -0.04253305413082709, -0.9990950601951268L -0.04253305413082709, -0.9990950601951268 L -0.044744306626493646, -0.9989984719830728 L -0.04695533992128387, -0.998896989710589 M -0.04695533992128387,-0.998896989710589 Q -0.1043369820889336, -0.1706276477261922 -0.8677597939408961, -0.4969838428154919L -0.8677597939408961, -0.4969838428154919 L -0.86947171557234, -0.49398272826050493 L -0.871173258003215, -0.4909757168537603 \", \"type\": \"path\"}, {\"fillcolor\": \"#8f391e\", \"layer\": \"below\", \"line\": {\"color\": \"rgb(175,175,175)\", \"width\": 0.5}, \"path\": \"M -0.7973189034391762,-0.6035582542046373 Q -0.04874245588749772, -0.1939695156308211 0.4172857127934861, -0.9087753484213974L 0.4172857127934861, -0.9087753484213974 L 0.38165314086545665, -0.9243056204889873 L 0.3454439408348354, -0.9384393873556772 M 0.3454439408348354,-0.9384393873556772 Q -0.048941024334483316, -0.1939195094287615 -0.7493917164859127, -0.6621269177901601L -0.7493917164859127, -0.6621269177901601 L -0.7739095603077997, -0.6332961333090454 L -0.7973189034391762, -0.6035582542046373 \", \"type\": \"path\"}, {\"fillcolor\": \"#8f391e\", \"layer\": \"below\", \"line\": {\"color\": \"rgb(175,175,175)\", \"width\": 0.5}, \"path\": \"M -0.8636722926605154,-0.5040537380979622 Q -0.030667350480339074, -0.19763479859203958 0.6703068278490832, -0.7420840629867343L 0.6703068278490832, -0.7420840629867343 L 0.666812011789166, -0.7452259663576445 L 0.6633024689885355, -0.7483514111924376 M 0.6633024689885355,-0.7483514111924376 Q -0.03066499288371327, -0.19763516441018744 -0.8588843895693686, -0.5121695084188954L -0.8588843895693686, -0.5121695084188954 L -0.8612879003595034, -0.5081172627399291 L -0.8636722926605154, -0.5040537380979622 \", \"type\": \"path\"}, {\"fillcolor\": \"#8f391e\", \"layer\": \"below\", \"line\": {\"color\": \"rgb(175,175,175)\", \"width\": 0.5}, \"path\": \"M -0.8677597939408961,-0.4969838428154919 Q 0.011217421277167357, -0.1996851758641351 0.9179612757973287, -0.3966700091216132L 0.9179612757973287, -0.3966700091216132 L 0.9165242854834348, -0.3999790420998073 L 0.9150753669355355, -0.4032828694945957 M 0.9150753669355355,-0.4032828694945957 Q 0.01131240204554289, -0.1996798176079896 -0.8636722926605154, -0.5040537380979622L -0.8636722926605154, -0.5040537380979622 L -0.8657232603338413, -0.5005229630266169 L -0.8677597939408961, -0.4969838428154919 \", \"type\": \"path\"}, {\"fillcolor\": \"#8f391e\", \"layer\": \"below\", \"line\": {\"color\": \"rgb(175,175,175)\", \"width\": 0.5}, \"path\": \"M -0.8832340077236659,-0.4689324979145626 Q 0.02350158354058574, -0.19861438913403248 0.9682854674700809, -0.2498464598233219L 0.9682854674700809, -0.2498464598233219 L 0.9682195464182223, -0.2501017991412534 L 0.9681535580327433, -0.25035712106616737 M 0.9681535580327433,-0.25035712106616737 Q 0.023511590504712437, -0.19861320477737304 -0.8829392542689041, -0.4694872450568509L -0.8829392542689041, -0.4694872450568509 L -0.8830866745571847, -0.4692098946308923 L -0.8832340077236659, -0.4689324979145626 \", \"type\": \"path\"}, {\"fillcolor\": \"#8f391e\", \"layer\": \"below\", \"line\": {\"color\": \"rgb(175,175,175)\", \"width\": 0.5}, \"path\": \"M -0.8835284126330987,-0.4683775657202605 Q 0.03757651069630469, -0.1964383003487113 0.994017216212397, -0.10922350421661425L 0.994017216212397, -0.10922350421661425 L 0.9939907203698529, -0.10946436780350471 L 0.9939641661628601, -0.10970522496294426 M 0.9939641661628601,-0.10970522496294426 Q 0.03759061074526806, -0.19643560263811075 -0.8832340077236659, -0.4689324979145626L -0.8832340077236659, -0.4689324979145626 L -0.8833812537538127, -0.46865505493522835 L -0.8835284126330987, -0.4683775657202605 \", \"type\": \"path\"}, {\"fillcolor\": \"#f0f3e7\", \"layer\": \"below\", \"line\": {\"color\": \"rgb(175,175,175)\", \"width\": 0.5}, \"path\": \"M -0.5800882787219828,-0.8145536132688672 Q -0.06377730157974416, -0.18955858145493273 -0.03026717024036506, -0.9995418442494746L -0.03026717024036506, -0.9995418442494746 L -0.033484967650841316, -0.9994392212342991 L -0.03670241799794448, -0.999326239279798 M -0.03670241799794448,-0.999326239279798 Q -0.06341959847391423, -0.18967855579745302 -0.5717401693282025, -0.8204347498592185L -0.5717401693282025, -0.8204347498592185 L -0.575921731120057, -0.8175048376760083 L -0.5800882787219828, -0.8145536132688672 \", \"type\": \"path\"}, {\"fillcolor\": \"#f0f3e7\", \"layer\": \"below\", \"line\": {\"color\": \"rgb(175,175,175)\", \"width\": 0.5}, \"path\": \"M -0.29738641788124515,-0.9547572039318486 Q 0.02251245649343305, -0.19872893423613808 0.5034237772139356, -0.8640396406043265L 0.5034237772139356, -0.8640396406043265 L 0.46089783264396555, -0.8874532031967066 L 0.4172857127934861, -0.9087753484213974 M 0.4172857127934861,-0.9087753484213974 Q 0.022408511451900707, -0.19874068183064594 -0.20444812029832088, -0.9788774009580992L -0.20444812029832088, -0.9788774009580992 L -0.2512069304450434, -0.967933405816939 L -0.29738641788124515, -0.9547572039318486 \", \"type\": \"path\"}, {\"fillcolor\": \"#f0f3e7\", \"layer\": \"below\", \"line\": {\"color\": \"rgb(175,175,175)\", \"width\": 0.5}, \"path\": \"M -0.4668853046653111,-0.8843178796606905 Q 0.04070297219876792, -0.19581437141891891 0.780620823039666, -0.6250049044902564L 0.780620823039666, -0.6250049044902564 L 0.7720306748650437, -0.6355852712794917 L 0.7632971337219836, -0.6460475877609979 M 0.7632971337219836,-0.6460475877609979 Q 0.04075251601134599, -0.19580406645099327 -0.4421570716048215, -0.8969376366447384L -0.4421570716048215, -0.8969376366447384 L -0.4545649843864976, -0.8907135762801099 L -0.4668853046653111, -0.8843178796606905 \", \"type\": \"path\"}, {\"fillcolor\": \"#f0f3e7\", \"layer\": \"below\", \"line\": {\"color\": \"rgb(175,175,175)\", \"width\": 0.5}, \"path\": \"M -0.5366837020072832,-0.8437835054086786 Q 0.06167168158990652, -0.1902540503901906 0.9296403723014875, -0.36846815084502443L 0.9296403723014875, -0.36846815084502443 L 0.9270096853184829, -0.3750373892370297 L 0.9243325779481437, -0.38158784747910773 M 0.9243325779481437,-0.38158784747910773 Q 0.06187351903560473, -0.190188505546867 -0.5228806915719411, -0.8524058788988076L -0.5228806915719411, -0.8524058788988076 L -0.5297997379825499, -0.8481227727361301 L -0.5366837020072832, -0.8437835054086786 \", \"type\": \"path\"}, {\"fillcolor\": \"#f0f3e7\", \"layer\": \"below\", \"line\": {\"color\": \"rgb(175,175,175)\", \"width\": 0.5}, \"path\": \"M -0.5924967521497798,-0.8055728388494503 Q 0.06750785714930027, -0.18826228837212639 0.9693958188836357, -0.24550304749824492L 0.9693958188836357, -0.24550304749824492 L 0.9690712664059639, -0.2467810378176196 L 0.9687450291072219, -0.24805859908507027 M 0.9687450291072219,-0.24805859908507027 Q 0.06756000823343243, -0.18824357967138894 -0.5899230211495131, -0.807459490697726L -0.5899230211495131, -0.807459490697726 L -0.5912106392277522, -0.8065171914249024 L -0.5924967521497798, -0.8055728388494503 \", \"type\": \"path\"}, {\"fillcolor\": \"#f0f3e7\", \"layer\": \"below\", \"line\": {\"color\": \"rgb(175,175,175)\", \"width\": 0.5}, \"path\": \"M -0.5865681935498718,-0.8098998421506453 Q 0.08359278780538143, -0.1816927236488145 0.9966745679546049, -0.08148500225502743L 0.9966745679546049, -0.08148500225502743 L 0.9964231817707946, -0.08450350779562917 L 0.9961626538320442, -0.0875212380528232 M 0.9961626538320442,-0.0875212380528232 Q 0.08376717496940608, -0.1816123905399764 -0.5800882787219828, -0.8145536132688672L -0.5800882787219828, -0.8145536132688672 L -0.5833328770692231, -0.8122331897491893 L -0.5865681935498718, -0.8098998421506453 \", \"type\": \"path\"}, {\"fillcolor\": \"#e2ecde\", \"layer\": \"below\", \"line\": {\"color\": \"rgb(175,175,175)\", \"width\": 0.5}, \"path\": \"M -0.03026717024036506,-0.9995418442494746 Q 0.004113676799124939, -0.19995768968257346 0.0713507830609156, -0.9974512849039767L 0.0713507830609156, -0.9974512849039767 L 0.06443106862711985, -0.9979221599882264 L 0.057508254790167995, -0.9983450308540576 M 0.057508254790167995,-0.9983450308540576 Q 0.0035918507146671004, -0.19996774391997213 -0.02161787820300375, -0.9997663063646425L -0.02161787820300375, -0.9997663063646425 L -0.025942766984324715, -0.9996634297808423 L -0.03026717024036506, -0.9995418442494746 \", \"type\": \"path\"}, {\"fillcolor\": \"#e2ecde\", \"layer\": \"below\", \"line\": {\"color\": \"rgb(175,175,175)\", \"width\": 0.5}, \"path\": \"M -0.06142138305267048,-0.9981119244372832 Q 0.06385966196602229, -0.1895308512448181 0.6529235899587936, -0.7574237820898688L 0.6529235899587936, -0.7574237820898688 L 0.6516174653898998, -0.7585477432560476 L 0.6503094060057867, -0.7596694521042694 M 0.6503094060057867,-0.7596694521042694 Q 0.06374280962218025, -0.18957018283862703 -0.05921205195533543, -0.9982454271887443L -0.05921205195533543, -0.9982454271887443 L -0.06031675444023752, -0.9981792870691096 L -0.06142138305267048, -0.9981119244372832 \", \"type\": \"path\"}, {\"fillcolor\": \"#e2ecde\", \"layer\": \"below\", \"line\": {\"color\": \"rgb(175,175,175)\", \"width\": 0.5}, \"path\": \"M -0.06423282238396275,-0.997934940027951 Q 0.1029496067154882, -0.17146830166863586 0.9110008814557944, -0.4124044058770052L 0.9110008814557944, -0.4124044058770052 L 0.9106572312340779, -0.41316268853937316 L 0.9103129498466982, -0.41392068484360955 M 0.9103129498466982,-0.41392068484360955 Q 0.10291035919378762, -0.17149185977942397 -0.06302798092736706, -0.9980117602614809L -0.06302798092736706, -0.9980117602614809 L -0.0636304132486841, -0.9979735319685596 L -0.06423282238396275, -0.997934940027951 \", \"type\": \"path\"}, {\"fillcolor\": \"#e2ecde\", \"layer\": \"below\", \"line\": {\"color\": \"rgb(175,175,175)\", \"width\": 0.5}, \"path\": \"M -0.06744527045718708,-0.997722975325795 Q 0.11703978551845154, -0.16217795351340103 0.9681535580327433, -0.25035712106616737L 0.9681535580327433, -0.25035712106616737 L 0.9680875023182329, -0.2506124255803077 L 0.9680213792792851, -0.25086771266591956 M 0.9680213792792851,-0.25086771266591956 Q 0.1170296496837497, -0.16218526781091688 -0.0670437519947564, -0.9977500364913376L -0.0670437519947564, -0.9977500364913376 L -0.0672445125872481, -0.9977365261064183 L -0.06744527045718708, -0.997722975325795 \", \"type\": \"path\"}, {\"fillcolor\": \"#e2ecde\", \"layer\": \"below\", \"line\": {\"color\": \"rgb(175,175,175)\", \"width\": 0.5}, \"path\": \"M -0.06784677799689785,-0.9976957525796327 Q 0.12830512826073268, -0.15342031828280417 0.9939641661628601, -0.10970522496294426L 0.9939641661628601, -0.10970522496294426 L 0.9939375535929781, -0.1099460756807895 L 0.9939108826617694, -0.11018691994289748 M 0.9939108826617694,-0.11018691994289748 Q 0.12829882229398082, -0.15342559173090237 -0.06744527045718708, -0.997722975325795L -0.06744527045718708, -0.997722975325795 L -0.06764602559644604, -0.9977093841500164 L -0.06784677799689785, -0.9976957525796327 \", \"type\": \"path\"}, {\"fillcolor\": \"#d4e5d6\", \"layer\": \"below\", \"line\": {\"color\": \"rgb(175,175,175)\", \"width\": 0.5}, \"path\": \"M 0.18739786549667856,-0.9822840933290576 Q 0.10860613348631046, -0.16794257283117262 0.8189458912056841, -0.573870740914126L 0.8189458912056841, -0.573870740914126 L 0.8093963610965791, -0.5872627441304412 L 0.7996278574823908, -0.6004958697094603 M 0.7996278574823908,-0.6004958697094603 Q 0.1086880469203858, -0.16788957220933054 0.22055610897306788, -0.9753742885655026L 0.22055610897306788, -0.9753742885655026 L 0.20400624419826816, -0.978969587029197 L 0.18739786549667856, -0.9822840933290576 \", \"type\": \"path\"}, {\"fillcolor\": \"#d4e5d6\", \"layer\": \"below\", \"line\": {\"color\": \"rgb(175,175,175)\", \"width\": 0.5}, \"path\": \"M 0.08550099769182731,-0.9963380848856989 Q 0.12289511734577468, -0.15778716719862954 0.9450791396559644, -0.3268415820961925L 0.9450791396559644, -0.3268415820961925 L 0.9425573767772885, -0.33404429568953375 L 0.9399807208922984, -0.3412275550872099 M 0.9399807208922984,-0.3412275550872099 Q 0.12309065657767647, -0.15763467341697548 0.10316420858684455, -0.9946643383909217L 0.10316420858684455, -0.9946643383909217 L 0.09433631523371877, -0.9955403857343631 L 0.08550099769182731, -0.9963380848856989 \", \"type\": \"path\"}, {\"fillcolor\": \"#d4e5d6\", \"layer\": \"below\", \"line\": {\"color\": \"rgb(175,175,175)\", \"width\": 0.5}, \"path\": \"M 0.009796207498556656,-0.9999520160080909 Q 0.12332226667620538, -0.15745354407520615 0.9684828265781141, -0.2490803376890004L 0.9684828265781141, -0.2490803376890004 L 0.9683842227873036, -0.24946341827336097 L 0.9682854674700809, -0.2498464598233219 M 0.9682854674700809,-0.2498464598233219 Q 0.12333617264397888, -0.1574426515196395 0.01076393273598969, -0.9999420671979228L 0.01076393273598969, -0.9999420671979228 L 0.010280071320801618, -0.9999471586707166 L 0.009796207498556656, -0.9999520160080909 \", \"type\": \"path\"}, {\"fillcolor\": \"#d4e5d6\", \"layer\": \"below\", \"line\": {\"color\": \"rgb(175,175,175)\", \"width\": 0.5}, \"path\": \"M 0.04526602664252103,-0.9989749680707714 Q 0.14127085218782903, -0.14157170028690255 0.9988764125031421, -0.04739105975659173L 0.9988764125031421, -0.04739105975659173 L 0.9986476376289353, -0.05198938216738798 L 0.9983976945136912, -0.05658660256408872 M 0.9983976945136912,-0.05658660256408872 Q 0.14148661813155605, -0.14135606421266558 0.057508254790167995, -0.9983450308540576L 0.057508254790167995, -0.9983450308540576 L 0.05138810598013554, -0.9986787584422603 L 0.04526602664252103, -0.9989749680707714 \", \"type\": \"path\"}, {\"fillcolor\": \"#c6decd\", \"layer\": \"below\", \"line\": {\"color\": \"rgb(175,175,175)\", \"width\": 0.5}, \"path\": \"M 0.7075346330422727,-0.7066786702920476 Q 0.16794710138614194, -0.10859913045689162 0.934761960505722, -0.3552746503643328L 0.934761960505722, -0.3552746503643328 L 0.9322245071644357, -0.36188046126037937 L 0.9296403723014875, -0.36846815084502443 M 0.9296403723014875,-0.36846815084502443 Q 0.16804615461283684, -0.10844579254096741 0.7187353685337162, -0.6952837334633273L 0.7187353685337162, -0.6952837334633273 L 0.7131577598927364, -0.701003573104142 L 0.7075346330422727, -0.7066786702920476 \", \"type\": \"path\"}, {\"fillcolor\": \"#c6decd\", \"layer\": \"below\", \"line\": {\"color\": \"rgb(175,175,175)\", \"width\": 0.5}, \"path\": \"M 0.7329576437557285,-0.6802742773764495 Q 0.18049238777822452, -0.0861539201320232 0.9898563754696421, -0.14207165777206554L 0.9898563754696421, -0.14207165777206554 L 0.9885228516134851, -0.15107141304013694 L 0.98710750388468, -0.1600586635410791 M 0.98710750388468,-0.1600586635410791 Q 0.18063951675631149, -0.08584500559756675 0.7474912174493485, -0.6642716912800746L 0.7474912174493485, -0.6642716912800746 L 0.7402676734474463, -0.6723122575475663 L 0.7329576437557285, -0.6802742773764495 \", \"type\": \"path\"}, {\"fillcolor\": \"#c6decd\", \"layer\": \"below\", \"line\": {\"color\": \"rgb(175,175,175)\", \"width\": 0.5}, \"path\": \"M 0.7187353685337162,-0.6952837334633273 Q 0.18420322071959394, -0.07790490020870681 0.9995065603657315, -0.03141075907812925L 0.9995065603657315, -0.03141075907812925 L 0.9992234330046023, -0.03940216915979618 L 0.9988764125031421, -0.04739105975659173 M 0.9988764125031421,-0.04739105975659173 Q 0.18438520454643095, -0.07747319758710633 0.7329576437557285, -0.6802742773764495L 0.7329576437557285, -0.6802742773764495 L 0.7258853018387312, -0.6878157664480322 L 0.7187353685337162, -0.6952837334633273 \", \"type\": \"path\"}, {\"fillcolor\": \"#b8d7c5\", \"layer\": \"below\", \"line\": {\"color\": \"rgb(175,175,175)\", \"width\": 0.5}, \"path\": \"M 0.9089295174194467,-0.4169497959750689 Q 0.19274088954585564, -0.05339428337446143 0.9939108826617694, -0.11018691994289748L 0.9939108826617694, -0.11018691994289748 L 0.9938841533708, -0.11042775773512731 L 0.9938573657216395, -0.11066858904333858 M 0.9938573657216395,-0.11066858904333858 Q 0.19274276836361923, -0.05338750081740326 0.9091607898704199, -0.41644526430515955L 0.9091607898704199, -0.41644526430515955 L 0.9090451886476227, -0.4166975461850094 L 0.9089295174194467, -0.4169497959750689 \", \"type\": \"path\"}, {\"fillcolor\": \"#aad0bc\", \"layer\": \"below\", \"line\": {\"color\": \"rgb(175,175,175)\", \"width\": 0.5}, \"path\": \"M 0.9702955977812271,-0.2419224109634559 Q 0.19717039830021776, -0.03352363396372001 0.9957268002771806, -0.09234792477239338L 0.9957268002771806, -0.09234792477239338 L 0.9955115766038134, -0.09463984809682349 L 0.9952910774818963, -0.09693126990257601 M 0.9952910774818963,-0.09693126990257601 Q 0.19717720798098176, -0.033483557947516056 0.9714955696504788, -0.2370577105885646L 0.9714955696504788, -0.2370577105885646 L 0.9708986305512957, -0.23949081233654584 L 0.9702955977812271, -0.2419224109634559 \", \"type\": \"path\"}, {\"fillcolor\": \"#f2e6ce\", \"layer\": \"below\", \"line\": {\"color\": \"rgb(150,150,150)\", \"width\": 0.45}, \"path\": \"M 1.1, 0.0 L 1.0997136679564712, 0.025096782856060512 L 1.0988548208914104, 0.050180500233718894 L 1.0974239059237911, 0.07523809345650961 L 1.0954216679932613, 0.10025651744829919 L 1.0928491494723278, 0.1252227475246014 L 1.0897076896236901, 0.15012378617327635 L 1.0859989239030179, 0.17494666982108348 L 1.0817247831075252, 0.19967847558256618 L 1.076887492370791, 0.22430632798775385 L 1.0714895700043454, 0.24881740568517938 L 1.0655338261866287, 0.2731989481167224 L 0.9686671147151169, 0.24836268010611126 L 0.9740814272766776, 0.22619764153198124 L 0.9789886294279917, 0.20391484362523077 L 0.9833861664613865, 0.18152588689324198 L 0.9872717490027435, 0.15904242711007588 L 0.9906433542033546, 0.13647616924843303 L 0.9934992267930252, 0.11383886138600127 L 0.995837879993874, 0.0911422885893629 L 0.9976580962943554, 0.06839826677864509 L 0.9989589280831004, 0.04561863657610808 L 0.9997396981422465, 0.022815257141873192 L 1.0, 0.0 L 1.1 ,0.0\", \"type\": \"path\"}, {\"fillcolor\": \"#ecd5bb\", \"layer\": \"below\", \"line\": {\"color\": \"rgb(150,150,150)\", \"width\": 0.45}, \"path\": \"M 1.056426663225442, 0.3065333672316256 L 1.049872204819657, 0.32828090646139074 L 1.0428701048640432, 0.34988847420408065 L 1.0354233488942326, 0.37134685748589913 L 1.0275351120370337, 0.3926469069418997 L 1.0192087576566315, 0.4137795407170659 L 1.0104478359205245, 0.43473574833860723 L 1.001256082285815, 0.455506594557819 L 0.991637415906495, 0.4760832231598684 L 0.9815959379624087, 0.49645686073988265 L 0.9711359299106028, 0.5166188204437282 L 0.9602618516598107, 0.5365605056718876 L 0.9489783396688501, 0.5562734137448532 L 0.9372902049697418, 0.5757491395284752 L 0.9252024311163957, 0.5949793790177198 L 0.9127201720597372, 0.6139559328773067 L 0.8998487499501804, 0.6326707099377196 L 0.8865936528683842, 0.6511157306450946 L 0.8729605324852601, 0.6692831304635217 L 0.8589552016522288, 0.6871651632283022 L 0.8445836319227529, 0.7047542044487369 L 0.8298519510062027, 0.7220427545590351 L 0.8147664401551412, 0.7390234421159582 L 0.7993335314871404, 0.7556890269418347 L 0.7835598052422742, 0.7720324032116072 L 0.7674519869774536, 0.7880466024825934 L 0.7510169446988031, 0.8037247966656716 L 0.734261685933299, 0.819060300936622 L 0.7171933547409203, 0.8340465765863826 L 0.6998192286685845, 0.8486772338090067 L 0.6821467156471678, 0.8629460344261293 L 0.6641833508329319, 0.8768468945467839 L 0.6459367933947057, 0.8903738871614361 L 0.6274148232481906, 0.9035212446691234 L 0.6086253377387818, 0.9162833613366304 L 0.5895763482743206, 0.9286547956886441 L 0.5702759769092125, 0.9406302728278756 L 0.5507324528813691, 0.9522046866841555 L 0.5309541091034484, 0.9633731021915464 L 0.5109493786098915, 0.9741307573925412 L 0.4907267909612685, 0.9844730654684544 L 0.47029496860746905, 0.9943956166951361 L 0.4496626232112863, 1.0038941803231778 L 0.4288385519339627, 1.012964706381808 L 0.40783163368428127, 1.0216033274057061 L 0.38665082533280115, 1.0298063600840033 L 0.365305157892853, 1.0375703068307602 L 0.34380373266992076, 1.0448918572762589 L 0.31254884788174614, 0.9499016884329626 L 0.3320955980844118, 0.9432457334825092 L 0.35150075030254646, 0.9361876000763666 L 0.37075603062207385, 0.928730297641551 L 0.38985322903087516, 0.9208770058016434 L 0.40878420291935114, 0.9126310730210706 L 0.42754088055224454, 0.9039960151773964 L 0.446115264510244, 0.8949755140622312 L 0.4644994350999013, 0.885573415811401 L 0.4826855537304076, 0.8757937292650421 L 0.50066586625579, 0.8656406242583231 L 0.5184327062811023, 0.8551184298435232 L 0.5359784984312005, 0.8442316324442218 L 0.5532957615807107, 0.8329848739423912 L 0.5703771120438096, 0.821382949699203 L 0.5872152667224596, 0.8094308065103963 L 0.6038030462117562, 0.7971335404970762 L 0.6201333778610616, 0.7844963949328447 L 0.6361992987896222, 0.7715247580081879 L 0.651993958855382, 0.7582241605330751 L 0.6675106235757263, 0.7446002735787471 L 0.6827426769989119, 0.7306589060597014 L 0.6976836245249578, 0.716406002256903 L 0.7123270956747947, 0.7018476392832792 L 0.7266668468064912, 0.686990024492577 L 0.740696763777401, 0.6718394928326892 L 0.7544108645510933, 0.6564025041445773 L 0.7678033017479571, 0.6406856404079426 L 0.7808683651383898, 0.6246956029348202 L 0.793600484077509, 0.6084392095122925 L 0.8059942298803492, 0.5919233914955405 L 0.8180443181365276, 0.5751551908524722 L 0.8297456109633974, 0.5581417571611879 L 0.8410931191967232, 0.5408903445615634 L 0.852082004517947, 0.5234083086622501 L 0.8627075815171364, 0.5057031034044119 L 0.872965319690737, 0.4877822778835342 L 0.8828508453732752, 0.46965347313066197 L 0.8923599436021897, 0.45132441885443875 L 0.9014885599149954, 0.4328029301453349 L 0.9102328020780136, 0.4140969041434718 L 0.9185889417459313, 0.39521431667146106 L 0.9265534160514831, 0.37616321883369624 L 0.934122829124576, 0.35695173358354515 L 0.9412939535402113, 0.3375880522599083 L 0.9480637316945847, 0.31808043109461875 L 0.954429277108779, 0.29843718769217337 L 0.9603878756594927, 0.278666697483296 L 1.056426663225442 ,0.3065333672316256\", \"type\": \"path\"}, {\"fillcolor\": \"#e6c4a9\", \"layer\": \"below\", \"line\": {\"color\": \"rgb(150,150,150)\", \"width\": 0.45}, \"path\": \"M 0.31081323989020937, 1.0551754024374105 L 0.2881950173572104, 1.0615760132795378 L 0.26544518930488187, 1.0674918507768083 L 0.24257414454203471, 1.0729202134360691 L 0.21959232723162206, 1.0778586223716913 L 0.19651023212136717, 1.0823048224375638 L 0.17333839975129042, 1.0862567832569157 L 0.15008741164032646, 1.089712700149497 L 0.1267678854542255, 1.0926709949556932 L 0.10339047015695084, 1.0951303167571997 L 0.0799658411477822, 1.0970895424939242 L 0.05650469538634872, 1.098547777476836 L 0.03301774650781396, 1.0995043557965316 L 0.009515719930448164, 1.0999588406273235 L -0.013990652042180373, 1.0999110244267192 L -0.03749063512216027, 1.0993609290301967 L -0.06097349793909577, 1.098308805641233 L -0.08442851694063434, 1.0967551347165898 L -0.10784498128942423, 1.0947006257469134 L -0.13121219775426424, 1.0921462169327403 L -0.1545194955932163, 1.0890930747560643 L -0.1777562314264457, 1.0855425934476584 L -0.20091179409656668, 1.0814963943503921 L -0.2239756095142752, 1.076956325178839 L -0.20361419046752288, 0.9790512047080353 L -0.18264708554233333, 0.9831785403185382 L -0.16159657402404154, 0.9868569031342348 L -0.14047226872110571, 0.9900846134146039 L -0.11928381614024021, 0.9928601972115819 L -0.09804089208129474, 0.9951823870426485 L -0.07675319721875849, 0.9970501224696271 L -0.05543045267190524, 0.9984625505829389 L -0.03408239556560024, 0.9994190263910878 L -0.012718774583800338, 0.9999191131151992 L 0.008650654482225602, 0.9999625823884758 L 0.030016133188921778, 0.9995494143604832 L 0.051367904896680645, 0.9986797977062145 L 0.07269621922525654, 0.997354129539931 L 0.09399133650631894, 0.9955730152338179 L 0.11524353223111408, 0.9933372681415392 L 0.13644310149120586, 0.9906479092268153 L 0.15758036341026402, 0.987506166597196 L 0.17864566556487924, 0.9839134749432398 L 0.19962938839238367, 0.9798714748833557 L 0.22052194958366791, 0.9753820122146083 L 0.2413138084589835, 0.9704471370698257 L 0.26199547032473675, 0.9650691029813979 L 0.2825574908092812, 0.9592503658521914 L 0.31081323989020937 ,1.0551754024374105\", \"type\": \"path\"}, {\"fillcolor\": \"#e1b396\", \"layer\": \"below\", \"line\": {\"color\": \"rgb(150,150,150)\", \"width\": 0.45}, \"path\": \"M -0.25769310673929036, 1.0693896683337898 L -0.2806110988263204, 1.0636058533194923 L -0.3033995258401496, 1.0573309452200728 L -0.3260478658013324, 1.0505678413155415 L -0.3485456614120734, 1.043319664297966 L -0.3708825248846219, 1.0355897608296483 L -0.393048142737569, 1.0273816999978869 L -0.4150322805578367, 1.0186992716670418 L -0.4368247877261592, 1.0095464847286608 L -0.45841560210387444, 0.9999275652504748 L -0.4797947546788621, 0.9898469545251178 L -0.5009523741684826, 0.9793093070194733 L -0.5218786915773921, 0.9683194882255906 L -0.5425640447081277, 0.9568825724141687 L -0.5629988826223851, 0.9450038402916392 L -0.5831737700509203, 0.9326887765619336 L -0.6030793917500479, 0.9199430673940603 L -0.6227065568027177, 0.9067725977966603 L -0.6420462028621897, 0.8931834489007531 L -0.5836783662383542, 0.8119849535461391 L -0.5660968698206524, 0.8243387252696911 L -0.5482539925000435, 0.8363118794491456 L -0.5301579727735639, 0.8478988877835759 L -0.51181716602035, 0.8590944002651265 L -0.49324004064375243, 0.8698932476492443 L -0.47443517416126546, 0.8802904438414458 L -0.455411249244075, 0.8902811881995211 L -0.43617704970805643, 0.8998608677501071 L -0.41674145645806765, 0.9090250593186133 L -0.3971134433874174, 0.9177695315715098 L -0.37730207323439696, 0.9260902469700378 L -0.35731649339779, 0.9339833636344425 L -0.3371659317132926, 0.941445237117862 L -0.316859692192794, 0.9484724220890599 L -0.29640715072848395, 0.9550616739232194 L -0.27581775076377235, 0.961209950200066 L -0.2551009989330185, 0.9669144121086293 L -0.23426646067208212, 0.9721724257579907 L -0.25769310673929036 ,1.0693896683337898\", \"type\": \"path\"}, {\"fillcolor\": \"#dba284\", \"layer\": \"below\", \"line\": {\"color\": \"rgb(150,150,150)\", \"width\": 0.45}, \"path\": \"M -0.6697849619446591, 0.8725755581912616 L -0.6847176314806419, 0.8609075241508464 L -0.6994470770285418, 0.8489839730149382 L -0.7139689268933284, 0.8368084436899459 L -0.7282788709943088, 0.8243845498693283 L -0.662071700903917, 0.7494404998812075 L -0.6490626608121166, 0.7607349488090417 L -0.6358609791168561, 0.7718036118317619 L -0.6224705740733107, 0.7826432037734966 L -0.60889541994969, 0.7932505074466014 L -0.6697849619446591 ,0.8725755581912616\", \"type\": \"path\"}, {\"fillcolor\": \"#d59171\", \"layer\": \"below\", \"line\": {\"color\": \"rgb(150,150,150)\", \"width\": 0.45}, \"path\": \"M -0.7538140538182364, 0.8011019737000509 L -0.7814872632254792, 0.7741302586880006 L -0.8081960269753633, 0.7462031774129873 L -0.8339073833647057, 0.717355195122911 L -0.8585896016063511, 0.6876219135640222 L -0.7805360014603191, 0.6251108305127474 L -0.7580976212406415, 0.6521410864753736 L -0.7347236608866938, 0.6783665249208974 L -0.7104429665686174, 0.703754780625455 L -0.6852855034711239, 0.7282745215455008 L -0.7538140538182364 ,0.8011019737000509\", \"type\": \"path\"}, {\"fillcolor\": \"#d0805f\", \"layer\": \"below\", \"line\": {\"color\": \"rgb(150,150,150)\", \"width\": 0.45}, \"path\": \"M -0.8797646657311486, 0.6603136625354351 L -0.8947531982593289, 0.6398567919501225 L -0.9092661512263128, 0.6190598244387115 L -0.9232958107018037, 0.5979338140133066 L -0.9368347196358465, 0.5764899895790255 L -0.9498756818224007, 0.5547397489656115 L -0.9624117657242715, 0.5326946528692496 L -0.9744363081573615, 0.5103664187078258 L -0.9859429178322909, 0.4877669143928776 L -0.9969254787514968, 0.46490815202155694 L -1.0073781534600104, 0.4418022814919589 L -1.0172953861481842, 0.41846158404519895 L -1.026671905604717, 0.39489846573768694 L -0.9333380960042882, 0.358998605216079 L -0.92481398740744, 0.38041962185927175 L -0.915798321327282, 0.4016384377199626 L -0.9062958897740879, 0.42264377456505176 L -0.8963117434839007, 0.4434244676298887 L -0.8858511892339649, 0.46396947155256896 L -0.8749197870220649, 0.48426786624477225 L -0.8635233471112733, 0.5043088626960104 L -0.8516679269416786, 0.524081808708205 L -0.8393598279107305, 0.5435761945575514 L -0.8266055920239207, 0.5627816585806468 L -0.8134119984175716, 0.5816879926819295 L -0.7997860597555896, 0.6002851477594864 L -0.8797646657311486 ,0.6603136625354351\", \"type\": \"path\"}, {\"fillcolor\": \"#ca6f4c\", \"layer\": \"below\", \"line\": {\"color\": \"rgb(150,150,150)\", \"width\": 0.45}, \"path\": \"M -1.0385693655627106, 0.3624550633039477 L -1.0436658290912944, 0.3475077512620139 L -1.0485471800874104, 0.3324888135422603 L -1.0532124124437927, 0.31740134573490153 L -1.0576605645979191, 0.3022484575550573 L -0.9615096041799264, 0.2747713250500521 L -0.9574658294943569, 0.28854667794081956 L -0.953224709170373, 0.30226255776569116 L -0.948787117355722, 0.3159161375109217 L -0.9441539686933733, 0.3295046030035888 L -1.0385693655627106 ,0.3624550633039477\", \"type\": \"path\"}, {\"fillcolor\": \"#c45e3a\", \"layer\": \"below\", \"line\": {\"color\": \"rgb(150,150,150)\", \"width\": 0.45}, \"path\": \"M -1.0666325264377414, 0.268877395005681 L -1.074452422786308, 0.23569469906774096 L -1.081240274648946, 0.20228561114689247 L -1.086989562085882, 0.16868222169613079 L -1.091694762730307, 0.13491680780102494 L -0.9924497843002791, 0.12265164345547722 L -0.9881723291689836, 0.1533474742692098 L -0.9829457042263146, 0.1838960101335386 L -0.9767749298057344, 0.21426790824340086 L -0.9696659331252194, 0.24443399545970995 L -1.0666325264377414 ,0.268877395005681\", \"type\": \"path\"}, {\"fillcolor\": \"#bf4d28\", \"layer\": \"below\", \"line\": {\"color\": \"rgb(150,150,150)\", \"width\": 0.45}, \"path\": \"M -1.0953939166112807, 0.10055927332175103 L -1.098302082501939, 0.061094480699194716 L -1.0997888755010194, 0.021550622362319583 L -1.0998523714682535, -0.018021125815529577 L -1.0984924882300313, -0.057569551867236946 L -0.9986295347545739, -0.052335956242942676 L -0.9998657922438667, -0.01638284165048143 L -0.9998080686372903, 0.019591474874835983 L -0.9984564386381263, 0.05554043699926792 L -0.9958126514648006, 0.09141752120159184 L -1.0953939166112807 ,0.10055927332175103\", \"type\": \"path\"}, {\"fillcolor\": \"#af4624\", \"layer\": \"below\", \"line\": {\"color\": \"rgb(150,150,150)\", \"width\": 0.45}, \"path\": \"M -1.096142145174455, -0.09204562766554557 L -1.0916148145699758, -0.1355621503641699 L -1.0853605813824627, -0.17886421772149588 L -1.0773893396251728, -0.2218833271384629 L -1.0677136995685026, -0.2645514236471648 L -0.9706488177895477, -0.2405012942246952 L -0.9794448542047025, -0.2017121155804208 L -0.9866914376204206, -0.16260383429226896 L -0.9923771041545233, -0.12323831851288172 L -0.9964928592495045, -0.08367784333231415 L -1.096142145174455 ,-0.09204562766554557\", \"type\": \"path\"}, {\"fillcolor\": \"#9f4021\", \"layer\": \"below\", \"line\": {\"color\": \"rgb(150,150,150)\", \"width\": 0.45}, \"path\": \"M -1.0588770862791272, -0.2979585812709982 L -1.0442512905482206, -0.3457444752825064 L -1.0274701898696994, -0.39281676253582165 L -1.0085684199578269, -0.43907828716958053 L -0.9875849935278168, -0.48443356671339605 L -0.8978045395707425, -0.44039415155763273 L -0.9168803817798425, -0.3991620792450732 L -0.9340638089724539, -0.35710614775983784 L -0.9493193550438369, -0.3143131593477331 L -0.9626155329810246, -0.27087143751908926 L -1.0588770862791272 ,-0.2979585812709982\", \"type\": \"path\"}, {\"fillcolor\": \"#8f391e\", \"layer\": \"below\", \"line\": {\"color\": \"rgb(150,150,150)\", \"width\": 0.45}, \"path\": \"M -0.9718812538964087, -0.5152153222922866 L -0.9603637258285753, -0.5363781447007859 L -0.9483854465917689, -0.5572836303830674 L -0.9359521629733905, -0.5779217495694656 L -0.9230698400570931, -0.5982826007640308 L -0.9097446583609272, -0.6183564154949476 L -0.8959830108721311, -0.6381335630011249 L -0.8817914999799837, -0.657604554852725 L -0.8671769343081946, -0.6767600495033976 L -0.852146325448347, -0.695590856772054 L -0.8367068845959669, -0.7140879422520111 L -0.8208660190908247, -0.7322424316454094 L -0.804631328863138, -0.750045615020807 L -0.7880106027873702, -0.7674889509919252 L -0.7710118149453855, -0.7845640708155216 L -0.7536431208007421, -0.8012627824064451 L -0.7359128532859699, -0.8175770742679265 L -0.7178295188046987, -0.8334991193352366 L -0.6994017931505644, -0.8490212787308545 L -0.6806385173448474, -0.8641361054293519 L -0.6187622884953158, -0.7855782776630471 L -0.6358198119550584, -0.7718375261189586 L -0.6525722898224533, -0.7577264721229423 L -0.6690116848054272, -0.743251885698115 L -0.6851301098188565, -0.7284207112785864 L -0.7009198317685322, -0.7132400643777469 L -0.7163732752612456, -0.6977172281744773 L -0.7314830262392163, -0.6818596500189155 L -0.7462418355371133, -0.665674937859463 L -0.7606426223599698, -0.6491708565927373 L -0.7746784776803154, -0.6323553243382308 L -0.7883426675529042, -0.6152364086394524 L -0.8016286363454397, -0.5978223225933863 L -0.8145300098837555, -0.5801214209101135 L -0.8270405985099337, -0.5621421959044978 L -0.8391544000519028, -0.5438932734218461 L -0.8508656027030822, -0.5253834086995142 L -0.8621685878106989, -0.5066214821664249 L -0.873057932571432, -0.48761649518253264 L -0.8835284126330987, -0.4683775657202605 L -0.9718812538964087 ,-0.5152153222922866\", \"type\": \"path\"}, {\"fillcolor\": \"#f0f3e7\", \"layer\": \"below\", \"line\": {\"color\": \"rgb(150,150,150)\", \"width\": 0.45}, \"path\": \"M -0.6531594923054266, -0.885089078913144 L -0.6340188670986722, -0.8988993693194565 L -0.6145863376906574, -0.9122958037413005 L -0.5948708508766114, -0.9252722144198087 L -0.5748814837262075, -0.9378226269763138 L -0.5546274394044526, -0.9499412631629708 L -0.5341180429345244, -0.961622543523078 L -0.513362736904499, -0.9728610899598783 L -0.4923710771199573, -0.9836517282126501 L -0.4711527282044627, -0.9939894902389521 L -0.4497174591499389, -1.0038696165019256 L -0.42807513881899684, -1.0132875581615994 L -0.4062357314012806, -1.0222389791691895 L -0.38420929182592317, -1.0307197582634295 L -0.36200596113223055, -1.0387259908680104 L -0.3396359618007112, -1.046253990889261 L -0.3171095930466187, -1.0533002924132358 L -0.29443722607816086, -1.059861651301432 L -0.2716292993215647, -1.0659350466844009 L -0.2486963136151928, -1.0715176823525656 L -0.22564882737492592, -1.076606988043604 L -0.20249745173303568, -1.0812006206258056 L -0.1792528456527907, -1.0852964651768553 L -0.15592571102103217, -1.088892635957552 L -0.13252678772099655, -1.0919874772800071 L -0.10906684868764008, -1.094579564269929 L -0.09915168062512733, -0.9950723311544808 L -0.12047889792817867, -0.99271588843637 L -0.1417506463827565, -0.9899023963250472 L -0.1629571324116279, -0.9866331501607775 L -0.18408859248457787, -0.9829096551143686 L -0.205135297613569, -0.9787336254941854 L -0.2260875578319934, -0.9741069839568778 L -0.2469357266559679, -0.9690318606221826 L -0.2676702055256008, -0.9635105920922108 L -0.28828144822419877, -0.9575457203756689 L -0.3087599652733738, -0.95113999171751 L -0.32909632830202773, -0.9442963553345549 L -0.34928117438720285, -0.9370179620576632 L -0.3693052103648005, -0.9293081628810813 L -0.3891592171081789, -0.9211705074196358 L -0.4088340537726717, -0.9126087422744777 L -0.42832066200405694, -0.9036268093081382 L -0.44761007010905207, -0.8942288438296818 L -0.46669339718590813, -0.8844191726907984 L -0.4855618572132039, -0.8742023122937072 L -0.5042067630949568, -0.8635829665117916 L -0.5226195306601886, -0.8525660245239216 L -0.5407916826151012, -0.8411565585634624 L -0.5587148524460521, -0.8293598215830004 L -0.5763807882715201, -0.8171812448358694 L -0.5937813566412968, -0.8046264353755854 L -0.6531594923054266 ,-0.885089078913144\", \"type\": \"path\"}, {\"fillcolor\": \"#e2ecde\", \"layer\": \"below\", \"line\": {\"color\": \"rgb(150,150,150)\", \"width\": 0.45}, \"path\": \"M -0.07463145579658764, -1.097465327837596 L -0.06192924146064776, -1.0982553296260888 L -0.04921873728914692, -1.09889831918138 L -0.036501644707565006, -1.0993942104330197 L -0.023779666023308034, -1.0997429370011067 L -0.021617878203007302, -0.9997663063646424 L -0.03318331337051364, -0.999449282211836 L -0.0447443066264972, -0.9989984719830727 L -0.05629931041877068, -0.998413936023717 L -0.06784677799689785, -0.9976957525796327 L -0.07463145579658764 ,-1.097465327837596\", \"type\": \"path\"}, {\"fillcolor\": \"#d4e5d6\", \"layer\": \"below\", \"line\": {\"color\": \"rgb(150,150,150)\", \"width\": 0.45}, \"path\": \"M 0.010775828248412321, -1.0999472176089 L 0.03366974213851361, -1.0994845830953366 L 0.056549065473369235, -1.0985454943670239 L 0.07940388365281005, -1.0971303583717165 L 0.10222429269581046, -1.0952397883490361 L 0.12500040353231065, -1.0928746035647272 L 0.14772234628858222, -1.0900358289556342 L 0.1703802745642653, -1.0867246946855518 L 0.19296436969924372, -1.0829426356121425 L 0.21546484502849386, -1.07869129066515 L 0.23787195012306991, -1.0739725021361803 L 0.26017597501538636, -1.068788314880357 L 0.2823672544069659, -1.0631409754301975 L 0.3044361718568348, -1.0570329310220925 L 0.3263731639487374, -1.0504668285358139 L 0.34816872443538116, -1.0434455133475058 L 0.3698134083579042, -1.0359720280966616 L 0.39129783613878416, -1.0280496113676156 L 0.4126126976464147, -1.0196816962861248 L 0.4337487562295883, -1.0108719090316465 L 0.4546968527201366, -1.001624067265959 L 0.47544790940199305, -0.9919421784788035 L 0.4959929339449634, -0.9818304382512631 L 0.5163230233014859, -0.9712932284376399 L 0.5364293675647109, -0.9603351152666054 L 0.5563032537862123, -0.9489608473624574 L 0.575936069751686, -0.937175353687335 L 0.5953193077129945, -0.9249837414052862 L 0.6144445680749409, -0.912391293669114 L 0.6333035630351806, -0.8994034673309556 L 0.651888120175679, -0.8860258905775945 L 0.6701901860041771, -0.8722643604915236 L 0.6882018294441171, -0.8581248405388172 L 0.6256380267673791, -0.7801134913989247 L 0.6092638054583428, -0.7929676004468396 L 0.5926255637960718, -0.8054780823432677 L 0.5757305118501642, -0.817639515755414 L 0.558585970977219, -0.8294466306082854 L 0.5411993706481767, -0.8408943103684419 L 0.5235782452288054, -0.8519775942612136 L 0.5057302307147383, -0.8626916794204158 L 0.4876630614224644, -0.8730319229696413 L 0.4693845666377145, -0.882993844034218 L 0.45090266722269395, -0.8925731256829664 L 0.43222537218363, -0.9017656167989122 L 0.41336077520012415, -0.9105673338781446 L 0.3943170511178075, -0.9189744627560422 L 0.3751024524058315, -0.9269833602601133 L 0.35572530558071286, -0.9345905557887414 L 0.3361940075980947, -0.9417927528151468 L 0.31651702221398287, -0.9485868303159143 L 0.29670287631703396, -0.954969844123467 L 0.27676015623348615, -0.9609390282019022 L 0.2566975040063326, -0.966491795845634 L 0.23652361365035124, -0.9716257408003245 L 0.216247227384609, -0.9763386383056184 L 0.1958771318440853, -0.9806284460592273 L 0.17542215427203972, -0.9844933051019477 L 0.15489115869478662, -0.9879315406232289 L 0.13429304208052928, -0.9909416626869401 L 0.11363673048391877, -0.9935223668770247 L 0.0929311751780095, -0.9956725348627601 L 0.07218534877528186, -0.9973912348833786 L 0.05140824133942657, -0.9986777221518398 L 0.03060885648955783, -0.9995314391775787 L 0.009796207498556656, -0.9999520160080909 L 0.010775828248412321 ,-1.0999472176089\", \"type\": \"path\"}, {\"fillcolor\": \"#c6decd\", \"layer\": \"below\", \"line\": {\"color\": \"rgb(150,150,150)\", \"width\": 0.45}, \"path\": \"M 0.7148165960102152, -0.836084465869549 L 0.7323299937490336, -0.8207879021132929 L 0.7495161404713873, -0.8051245587937781 L 0.766367356327984, -0.7891014352761354 L 0.7828761111376696, -0.772725691697875 L 0.7990350277523842, -0.756004645769288 L 0.8148368853537382, -0.7389457695034319 L 0.8302746226797229, -0.7215566858771693 L 0.8453413411801288, -0.7038451654247412 L 0.8600303080992501, -0.6858191227654047 L 0.8743349594845021, -0.6674866130666847 L 0.8882489031196085, -0.6488558284448193 L 0.9017659213810433, -0.6299350943040071 L 0.9148799740164567, -0.6107328656160953 L 0.9275852008438382, -0.5912577231423676 L 0.9398759243702153, -0.5715183695991176 L 0.9517466523287114, -0.5515236257687346 L 0.9631920801328371, -0.5312824265580207 L 0.974207093246912, -0.5108038170055141 L 0.9847867694715606, -0.4900969482395984 L 0.8952606995196005, -0.4455426802178167 L 0.8856428120426472, -0.4643671063686492 L 0.8756291637571245, -0.48298402414365516 L 0.8652242293897375, -0.5013851143352133 L 0.8544326585183775, -0.5195621541810159 L 0.8432592734943983, -0.5375070210385159 L 0.8317090672876879, -0.555211696014632 L 0.8197872012554939, -0.5726682675490973 L 0.8074990028360076, -0.5898689349498356 L 0.7948499631677292, -0.6068060118788042 L 0.7818457346356819, -0.6234719297867315 L 0.7684921283455716, -0.6398592412952192 L 0.7547951115270207, -0.6559606235246993 L 0.7407608048670347, -0.6717688813667563 L 0.7263954797748947, -0.6872769506993527 L 0.7117055555796996, -0.7024779015435226 L 0.6966975966618036, -0.7173649411601231 L 0.6813783095194429, -0.7319314170852528 L 0.6657545397718487, -0.7461708201029935 L 0.6498332691001956, -0.7600767871541354 L 0.7148165960102152 ,-0.836084465869549\", \"type\": \"path\"}, {\"fillcolor\": \"#b8d7c5\", \"layer\": \"below\", \"line\": {\"color\": \"rgb(150,150,150)\", \"width\": 0.45}, \"path\": \"M 0.9996951538142801, -0.45892221502150365 L 1.01562641230414, -0.4224961427400503 L 1.0302309238169567, -0.38551814952250957 L 1.0434896099876276, -0.3480365409664181 L 1.0553851505480076, -0.3101002805589826 L 0.959441045952734, -0.28190934596271144 L 0.9486269181705704, -0.31639685542401647 L 0.9365735671063242, -0.3504710450204632 L 0.9232967384583092, -0.3840874024909548 L 0.9088137761948, -0.41720201365591236 L 0.9996951538142801 ,-0.45892221502150365\", \"type\": \"path\"}, {\"fillcolor\": \"#aad0bc\", \"layer\": \"below\", \"line\": {\"color\": \"rgb(150,150,150)\", \"width\": 0.45}, \"path\": \"M 1.0646048668880068, -0.2767968160914597 L 1.0719253658722585, -0.2469332095924425 L 1.0784083237690296, -0.21687666362629293 L 1.0840486751663245, -0.18665066265657054 L 1.0888420130166063, -0.1562788235492721 L 0.9898563754696421, -0.14207165777206554 L 0.9854987956057495, -0.1696824205968823 L 0.9803712034263904, -0.19716060329662993 L 0.9744776053384167, -0.2244847359931295 L 0.9678226062618244, -0.2516334691740542 L 1.0646048668880068 ,-0.2767968160914597\", \"type\": \"path\"}, {\"fillcolor\": \"#9cc9b4\", \"layer\": \"below\", \"line\": {\"color\": \"rgb(150,150,150)\", \"width\": 0.45}, \"path\": \"M 1.093213571687447, -0.12200035523872739 L 1.095427823603338, -0.10018923732444908 L 1.0972069573052905, -0.07833832293881952 L 1.0985502660982016, -0.056456291549928234 L 1.0994572164023046, -0.03455183498594413 L 0.9995065603657315, -0.031410759078131026 L 0.9986820600892742, -0.051323901409025666 L 0.9974608702775367, -0.07121665721710865 L 0.9958434760030344, -0.09108112484040824 L 0.9938305197158607, -0.11090941385338852 L 1.093213571687447 ,-0.12200035523872739\", \"type\": \"path\"}], \"showlegend\": false, \"title\": \"Data Jobs \\u2012 Technologies in Demand\", \"titlefont\": {\"color\": \"#655643\", \"family\": \"Merryweather\", \"size\": 18}, \"xaxis\": {\"showgrid\": false, \"showline\": false, \"showticklabels\": false, \"title\": \"\", \"zeroline\": false}, \"yaxis\": {\"showgrid\": false, \"showline\": false, \"showticklabels\": false, \"title\": \"\", \"zeroline\": false}}, {\"showLink\": true, \"linkText\": \"Export to plot.ly\", \"plotlyServerURL\": \"https://plot.ly\"})});</script><script type=\"text/javascript\">window.addEventListener(\"resize\", function(){window._Plotly.Plots.resize(document.getElementById(\"ee736180-ea5b-481b-8969-059d6df6fdf4\"));});</script>"
      ]
     },
     "metadata": {},
     "output_type": "display_data"
    }
   ],
   "source": [
    "fig = go.Figure(data=data, layout=layout)\n",
    "\n",
    "plotly.offline.iplot(fig, filename='data_offers_tech_requirements_chord.html')"
   ]
  },
  {
   "cell_type": "code",
   "execution_count": 33,
   "metadata": {},
   "outputs": [
    {
     "data": {
      "text/plain": [
       "'file:///data/WORKSPACE/jpynb_Employment_Trends_Bulgaria/workbooks/data_offers_tech_requirements_chord.html'"
      ]
     },
     "execution_count": 33,
     "metadata": {},
     "output_type": "execute_result"
    }
   ],
   "source": [
    "# Uncomment the line below to export an HTML version of the chart.\n",
    "#plotly.offline.plot(fig, filename='data_offers_tech_requirements_chord.html', show_link=False)"
   ]
  },
  {
   "cell_type": "markdown",
   "metadata": {},
   "source": [
    "### Resources:\n",
    "\n",
    "- https://plot.ly/python/filled-chord-diagram/\n",
    "- https://hci.stanford.edu/courses/cs448b/f11/lectures/CS448B-20111117-Text.pdf"
   ]
  },
  {
   "cell_type": "code",
   "execution_count": 31,
   "metadata": {},
   "outputs": [
    {
     "data": {
      "text/html": [
       "<style>\n",
       "@import url('https://fonts.googleapis.com/css?family=Fira+Mono|Fira+Sans|Fira+Sans+Condensed|Fira+Sans+Extra+Condensed');\n",
       "@import url('https://fonts.googleapis.com/css?family=Merriweather|Merriweather+Sans');\n",
       "\n",
       ".nbviewer {\n",
       "    background-color: #E5E1D8;\n",
       "}\n",
       "\n",
       "#notebook {\n",
       "    background-color: #E5E1D8;\n",
       "}\n",
       "\n",
       "#notebook-container {\n",
       "    background-color: #FFFAF0;\n",
       "    max-width: 1200px;\n",
       "    border-radius: 4px;\n",
       "    padding: 60px 40px 40px 40px;\n",
       "    -webkit-box-shadow: 0px 0px 12px 1px rgba(101,86,67,0.75);\n",
       "    -moz-box-shadow: 0px 0px 12px 1px rgba(101,86,67,0.75);\n",
       "    box-shadow: 0px 0px 12px 1px rgba(101,86,67,0.75);\n",
       "}\n",
       "\n",
       "/* Jupyter Notebook Header Styling */\n",
       "body > #header {\n",
       "    background-color:#fafafa;\n",
       "}\n",
       "\n",
       "#header #menubar #menus {\n",
       "    background-color:#fefefe;\n",
       "}\n",
       "\n",
       "/* Headings */\n",
       ".text_cell_render h1 {\n",
       "    color: #655643;\n",
       "    font-family: 'Merriweather', serif;\n",
       "    font-weight: 900;\n",
       "    font-size: 3.4em;\n",
       "    text-indent: 22px;\n",
       "    text-shadow: 0 2px #FFFAF0, 0 3px #8c8b8b;\n",
       "    padding: 40px 0 12px 0;\n",
       "}\n",
       "\n",
       ".text_cell_render h2 {\n",
       "    color: #655643;\n",
       "    font-family: 'Merriweather', serif;\n",
       "    font-weight: 600;\n",
       "    font-size: 2.4em;\n",
       "    text-indent: 22px;\n",
       "    padding: 40px 0 5px 0;\n",
       "    margin-bottom: 24px;\n",
       "    border-bottom: 1px solid #655643;\n",
       "}\n",
       "\n",
       ".text_cell_render h3 {\n",
       "    color: #655643;\n",
       "    font-family: 'Merriweather', serif;\n",
       "    font-weight: 100;\n",
       "    font-size: 1.8em;\n",
       "    padding: 6px 0 0 0;\n",
       "}\n",
       "\n",
       ".text_cell_render h4 {\n",
       "    color: #655643;\n",
       "    font-family: 'Merriweather', serif;\n",
       "    font-weight: 100;\n",
       "    font-size: 1.3em;\n",
       "}\n",
       "\n",
       "/* Use for subtitles and other non-headings */\n",
       "div.rendered_html > h5 {\n",
       "    color: #655643;\n",
       "    font-family: 'Merriweather', serif;\n",
       "    font-weight: 200;\n",
       "    font-style: normal important!;\n",
       "    text-indent: 22px;\n",
       "    margin-top: 0.5em;\n",
       "    padding: 6px 0 6px 0;\n",
       "    border-bottom: 1px solid #655643;\n",
       "    border-top: 1px solid #655643;\n",
       "}\n",
       "\n",
       "/* Use for image and chart captions */\n",
       "div.rendered_html > h6 {\n",
       "    font-family: 'Merriweather Sans', sans-serif;\n",
       "    font-size: 0.9em;\n",
       "    line-height: 1.5em;\n",
       "    color: #cac8c9;\n",
       "    font-weight: normal;\n",
       "    max-width: 525px;\n",
       "    display: block;\n",
       "    margin-left: auto;\n",
       "    margin-right: auto;\n",
       "}\n",
       "\n",
       "div#notebook-container p {\n",
       "    font-family: 'Fira Sans Condensed', sans-serif;\n",
       "    font-size: 1.2em;\n",
       "    line-height: 1.3em;\n",
       "    color: #655643;\n",
       "}\n",
       "\n",
       "/* Plotly Exported Charts Styling */\n",
       ".js-plotly-plot .plotly,\n",
       ".js-plotly-plot .plotly div {\n",
       "    direction: ltr;\n",
       "    font-family: \"Fira Sans Extra Condensed\", verdana, arial, sans-serif;\n",
       "}\n",
       "\n",
       "\n",
       "/* Lists */\n",
       "ol, ul {\n",
       "    font-family: 'Fira Sans Condensed', sans-serif;\n",
       "    line-height: 1.3em;\n",
       "    color: #655643;\n",
       "}\n",
       "\n",
       "div.input_prompt {\n",
       "    color: #aad0bc;\n",
       "    font-size: 0.7em;\n",
       "}\n",
       "\n",
       "div.output_prompt {\n",
       "    color: #aad0bc;\n",
       "    font-size: 0.7em;\n",
       "}\n",
       "\n",
       "div.output_subarea {\n",
       "    padding: 0;\n",
       "}\n",
       "\n",
       "div.text_cell code {\n",
       "    padding: 2px;\n",
       "    background-color: #E5E1D8;\n",
       "    color: #40362F;\n",
       "    font-family: 'Fira Mono', monospace;\n",
       "    font-size: 0.9em;\n",
       "}\n",
       "\n",
       "div.input_area {\n",
       "    background-color: #FFFAF0;\n",
       "    border: 1px solid #E5E1D8;\n",
       "    background: repeating-linear-gradient(135deg, #FFFAF0, #FFFAF0 5px, #F7F7ED 5px, #F7F7ED 10px);\n",
       "}\n",
       "\n",
       "div.cell.rendered.selected {\n",
       "    background: #F7F7ED;\n",
       "    border: 1px solid #38614F;\n",
       "}\n",
       "\n",
       "div.output_area img {\n",
       "    display: block;\n",
       "    margin-left: auto;\n",
       "    margin-right: auto;\n",
       "}\n",
       "\n",
       "div.rendered_html pre, code {\n",
       "    font-family: 'Fira Sans Condensed', sans-serif;\n",
       "    font-size: 16px;\n",
       "    font-weight: 400;\n",
       "    color: #40362F;\n",
       "    background-color: #E5E1D8;\n",
       "}\n",
       "\n",
       "div.output_text pre {\n",
       "    font-family: 'Fira Sans Condensed', sans-serif;\n",
       "    font-size: 13px;\n",
       "    font-weight: 300;\n",
       "    color: #40362F;\n",
       "}\n",
       "\n",
       "pre, textarea {\n",
       "    overflow: hidden;\n",
       "}\n",
       "\n",
       "div.text_cell_render img {\n",
       "    max-height: 550px;\n",
       "    display: block;\n",
       "    margin-left: auto;\n",
       "    margin-right: auto;\n",
       "}\n",
       "\n",
       "div.output output_scroll {\n",
       "    overflow-x: auto;\n",
       "    overflow-y: scroll;\n",
       "    max-height: 2000px;\n",
       "}\n",
       "\n",
       "div.rendered_html hr {\n",
       "    border: 0;\n",
       "    height: 1px;\n",
       "    background-color: #655643;\n",
       "}\n",
       "\n",
       "div.rendered_html pre, code {\n",
       "    color: #40362F;\n",
       "    background-color: #FFFAF0;\n",
       "}\n",
       "\n",
       "/* Links */\n",
       "a.link--embedview {\n",
       "    display: none;\n",
       "}\n",
       "\n",
       "a:link {\n",
       "    color: #293C34;\n",
       "}\n",
       "\n",
       "a:visited {\n",
       "    color: #293C34;\n",
       "}\n",
       "\n",
       "a:hover {\n",
       "    color: #557C6C;\n",
       "}\n",
       "\n",
       "a:focus {\n",
       "    color:#557C6C;\n",
       "}\n",
       "\n",
       "a:active {\n",
       "    font-weight: bold;\n",
       "    color:#80BCA3;\n",
       "}\n",
       "\n",
       ".rendered_html :link {\n",
       "    text-decoration: underline;\n",
       "}\n",
       "\n",
       "/* Colors for code highlighting */\n",
       ".CodeMirror pre {\n",
       "    font-family: 'Fira Mono', monospace;\n",
       "    font-size: 0.9em;\n",
       "    font-weight: 600;\n",
       "    letter-spacing: -2px;\n",
       "}\n",
       "\n",
       ".CodeMirror-code span.cm-keyword {\n",
       "    color: #5F362E;\n",
       "}\n",
       "\n",
       ".CodeMirror-code span.cm-variable {\n",
       "    color: #72614B;\n",
       "}\n",
       "\n",
       ".CodeMirror-code span.cm-property {\n",
       "    color: #72614B;\n",
       "}\n",
       "\n",
       ".CodeMirror-code span.cm-def {\n",
       "    color: #B64F4E;\n",
       "}\n",
       "\n",
       ".CodeMirror-code span.cm-operator {\n",
       "    color: #72614B;\n",
       "}\n",
       "\n",
       ".CodeMirror-code span.cm-string {\n",
       "    color: #0B7761;\n",
       "}\n",
       "\n",
       ".CodeMirror-code span.cm-number {\n",
       "    color: #2764E6;\n",
       "}\n",
       "\n",
       ".CodeMirror-code span.cm-comment {\n",
       "    color: #75AC95;\n",
       "}\n",
       "\n",
       ".CodeMirror-code span.cm-builtin {\n",
       "    color: #5F362E;\n",
       "}\n",
       "\n",
       "/* Code with no class applied (brackets mostly) */\n",
       ".CodeMirror-line > span {\n",
       "    color: #72614B;\n",
       "}\n",
       "\n",
       "/* Table styles */\n",
       "table {\n",
       "    border: 1px solid #BF4D28;\n",
       "}\n",
       "\n",
       ".rendered_html table {\n",
       "    float: middle;\n",
       "    border-collapse: collapse;\n",
       "}\n",
       "\n",
       ".rendered_html table th {\n",
       "    color: #40362F;\n",
       "    text-align: left;\n",
       "    background-color: #f2e6ce;\n",
       "}\n",
       "\n",
       ".rendered_html td {\n",
       "    color: #40362F;\n",
       "    text-align: left;\n",
       "}\n",
       "\n",
       ".rendered_html table tr:nth-child(odd) {\n",
       "    background-color: #F7F7ED;\n",
       "}\n",
       "\n",
       ".rendered_html table tr:nth-child(even) {\n",
       "    background-color: #FFFAF0;\n",
       "}\n",
       "\n",
       ".rendered_html table tr:hover {\n",
       "    background-color: #BF4D28;\n",
       "}\n",
       "\n",
       "iframe {\n",
       "    border-width: 0;\n",
       "}\n",
       "</style>\n"
      ],
      "text/plain": [
       "<IPython.core.display.HTML object>"
      ]
     },
     "execution_count": 31,
     "metadata": {},
     "output_type": "execute_result"
    }
   ],
   "source": [
    "from IPython.core.display import HTML\n",
    "with open('../resources/styles/datum.css', 'r') as f:\n",
    "    style = f.read()\n",
    "HTML(style)"
   ]
  },
  {
   "cell_type": "code",
   "execution_count": null,
   "metadata": {},
   "outputs": [],
   "source": []
  }
 ],
 "metadata": {
  "kernelspec": {
   "display_name": "Python 3",
   "language": "python",
   "name": "python3"
  },
  "language_info": {
   "codemirror_mode": {
    "name": "ipython",
    "version": 3
   },
   "file_extension": ".py",
   "mimetype": "text/x-python",
   "name": "python",
   "nbconvert_exporter": "python",
   "pygments_lexer": "ipython3",
   "version": "3.7.2"
  }
 },
 "nbformat": 4,
 "nbformat_minor": 2
}
