{
 "cells": [
  {
   "cell_type": "markdown",
   "metadata": {},
   "source": [
    "## Requirements Relationships Chord Diagram\n"
   ]
  },
  {
   "cell_type": "code",
   "execution_count": 1,
   "metadata": {},
   "outputs": [
    {
     "data": {
      "text/html": [
       "<script type=\"text/javascript\">window.PlotlyConfig = {MathJaxConfig: 'local'};</script><script type=\"text/javascript\">if (window.MathJax) {MathJax.Hub.Config({SVG: {font: \"STIX-Web\"}});}</script><script>requirejs.config({paths: { 'plotly': ['https://cdn.plot.ly/plotly-latest.min']},});if(!window._Plotly) {require(['plotly'],function(plotly) {window._Plotly=plotly;});}</script>"
      ],
      "text/vnd.plotly.v1+html": [
       "<script type=\"text/javascript\">window.PlotlyConfig = {MathJaxConfig: 'local'};</script><script type=\"text/javascript\">if (window.MathJax) {MathJax.Hub.Config({SVG: {font: \"STIX-Web\"}});}</script><script>requirejs.config({paths: { 'plotly': ['https://cdn.plot.ly/plotly-latest.min']},});if(!window._Plotly) {require(['plotly'],function(plotly) {window._Plotly=plotly;});}</script>"
      ]
     },
     "metadata": {},
     "output_type": "display_data"
    }
   ],
   "source": [
    "import re\n",
    "from itertools import combinations\n",
    "import psycopg2\n",
    "import numpy as np\n",
    "import pandas as pd\n",
    "import plotly\n",
    "import plotly.plotly as py\n",
    "import plotly.graph_objs as go\n",
    "from IPython import display\n",
    "from bs4 import BeautifulSoup as bs\n",
    "\n",
    "from nbstyler import DATA_STYLE as DS\n",
    "\n",
    "plotly.offline.init_notebook_mode(connected=True)\n",
    "\n",
    "%matplotlib notebook\n",
    "%matplotlib inline"
   ]
  },
  {
   "cell_type": "markdown",
   "metadata": {},
   "source": [
    "### Objectives\n",
    "\n",
    "The main objective for this recipe is to try the plotly implementation of the chord diagram and to provide a clean recipe for preparing such charts in the future. \n",
    "\n",
    "\n",
    "### Data Preparation"
   ]
  },
  {
   "cell_type": "code",
   "execution_count": 2,
   "metadata": {},
   "outputs": [],
   "source": [
    "data_querystr = \"\"\"SELECT * FROM v_full_data_offers_history_tsv\"\"\"\n",
    "conn = psycopg2.connect('dbname=jobsbg')\n",
    "data_df = pd.read_sql_query(data_querystr, conn, index_col='subm_date')\n",
    "conn.close()"
   ]
  },
  {
   "cell_type": "code",
   "execution_count": 3,
   "metadata": {},
   "outputs": [
    {
     "data": {
      "text/html": [
       "<div>\n",
       "<style scoped>\n",
       "    .dataframe tbody tr th:only-of-type {\n",
       "        vertical-align: middle;\n",
       "    }\n",
       "\n",
       "    .dataframe tbody tr th {\n",
       "        vertical-align: top;\n",
       "    }\n",
       "\n",
       "    .dataframe thead th {\n",
       "        text-align: right;\n",
       "    }\n",
       "</style>\n",
       "<table border=\"1\" class=\"dataframe\">\n",
       "  <thead>\n",
       "    <tr style=\"text-align: right;\">\n",
       "      <th></th>\n",
       "      <th>subm_type</th>\n",
       "      <th>job_id</th>\n",
       "      <th>company_id</th>\n",
       "      <th>norm_salary</th>\n",
       "      <th>job_title</th>\n",
       "      <th>company_name</th>\n",
       "      <th>text_salary</th>\n",
       "      <th>job_location</th>\n",
       "      <th>job_contents</th>\n",
       "    </tr>\n",
       "    <tr>\n",
       "      <th>subm_date</th>\n",
       "      <th></th>\n",
       "      <th></th>\n",
       "      <th></th>\n",
       "      <th></th>\n",
       "      <th></th>\n",
       "      <th></th>\n",
       "      <th></th>\n",
       "      <th></th>\n",
       "      <th></th>\n",
       "    </tr>\n",
       "  </thead>\n",
       "  <tbody>\n",
       "    <tr>\n",
       "      <th>2019-05-15</th>\n",
       "      <td>resubmission</td>\n",
       "      <td>4864177</td>\n",
       "      <td>265763</td>\n",
       "      <td>NaN</td>\n",
       "      <td>Reporting Analyst</td>\n",
       "      <td>ДАЙНАМИК СОЛЮШЪНС ГРУП АД</td>\n",
       "      <td>None</td>\n",
       "      <td>София</td>\n",
       "      <td>&lt;!DOCTYPE html PUBLIC \"-//W3C//DTD XHTML 1.0 ...</td>\n",
       "    </tr>\n",
       "  </tbody>\n",
       "</table>\n",
       "</div>"
      ],
      "text/plain": [
       "               subm_type   job_id  company_id  norm_salary          job_title  \\\n",
       "subm_date                                                                       \n",
       "2019-05-15  resubmission  4864177      265763          NaN  Reporting Analyst   \n",
       "\n",
       "                         company_name text_salary job_location  \\\n",
       "subm_date                                                        \n",
       "2019-05-15  ДАЙНАМИК СОЛЮШЪНС ГРУП АД        None        София   \n",
       "\n",
       "                                                 job_contents  \n",
       "subm_date                                                      \n",
       "2019-05-15   <!DOCTYPE html PUBLIC \"-//W3C//DTD XHTML 1.0 ...  "
      ]
     },
     "execution_count": 3,
     "metadata": {},
     "output_type": "execute_result"
    }
   ],
   "source": [
    "data_df.head(1)"
   ]
  },
  {
   "cell_type": "markdown",
   "metadata": {},
   "source": [
    "### Relationship Categories Definition"
   ]
  },
  {
   "cell_type": "markdown",
   "metadata": {},
   "source": [
    "In order to build the necessary data we first need to define the scope of the relationships we aim to observe. The search strings we will compare should be of the same semantic category to provide meaningful insight.\n",
    "\n",
    "To explore the data and prepare proper definitions we took a deep dive in the data offers' text contents. We used the `nltk` library for text processing to produce frequency distributions of most common words, bigrams and trigrams. Then those distributions were used to explore different possible relationship categories. See the details in the [Requirements Deep Dive Notebook](./Data_Offers_Requirements_Deep_Dive.ipynb).\n",
    "\n",
    "For the first chord diagram the chosen view is a breakdown by technology. Other possible relationships to explore are skill requirements breakdown, perks & benefits breakdown, job title breakdown, etc."
   ]
  },
  {
   "cell_type": "markdown",
   "metadata": {},
   "source": [
    "### Data Jobs Technology Requirement Relationships"
   ]
  },
  {
   "cell_type": "markdown",
   "metadata": {},
   "source": [
    "A preliminary list of terms that describe most often sought categories is presented below. We are going to use it to construct regex filters for selected key technologies."
   ]
  },
  {
   "cell_type": "code",
   "execution_count": 4,
   "metadata": {},
   "outputs": [],
   "source": [
    "tech_terms_filters = [\n",
    "    r'power bi', r'excel', r'ss[ir]s',\n",
    "    r'sql server', r'postgresql', r'(mysql)|(mariadb)', r't.?sql', r'pl.?sql',\n",
    "    r'pentaho', r'hadoop', r'spark', r'informatica',\n",
    "    r'qlik', r'tableau', r'microstrategy', r'oracle (bi)|(business intelligence)',\n",
    "    r'python', r'vba', r'linux', r'aws']\n",
    "\n",
    "tech_terms_labels = [\n",
    "    'Power BI', 'Excel', 'SSIS/SSRS',\n",
    "    'MS SQL Server', 'PostgreSQL', 'MySQL/MariaDB', 'T-SQL', 'PL/SQL',\n",
    "    'Pentaho', 'Hadoop', 'Spark', 'Informatica',\n",
    "    'Qlik', 'Tableau', 'Microstrategy', 'Oracle BI',\n",
    "    'Python', 'VBA', 'Linux', 'AWS']"
   ]
  },
  {
   "cell_type": "markdown",
   "metadata": {},
   "source": [
    "#### Preparing a square matrix with counts for matching filters"
   ]
  },
  {
   "cell_type": "markdown",
   "metadata": {},
   "source": [
    "First we define a helper function that returns `True` for job offers where both of the provided patterns are found in the job contents. We also prepare a list of all possible filter patterns' combinations."
   ]
  },
  {
   "cell_type": "code",
   "execution_count": 5,
   "metadata": {},
   "outputs": [],
   "source": [
    "def match_terms(first_term, second_term, text):\n",
    "    match_found = re.search(first_term, text, re.IGNORECASE) and re.search(second_term, text, re.IGNORECASE)\n",
    "    return True if match_found else False\n",
    "\n",
    "    \n",
    "def count_matches(first_term, second_term, col):\n",
    "    return sum([match_terms(first_term, second_term, t) for t in col.values])\n",
    "\n",
    "req_combinations = list(combinations(tech_terms_filters, 2))"
   ]
  },
  {
   "cell_type": "markdown",
   "metadata": {},
   "source": [
    "Building the counts in a dictionary with keys composed of tuples with both search terms. "
   ]
  },
  {
   "cell_type": "code",
   "execution_count": 6,
   "metadata": {},
   "outputs": [
    {
     "name": "stdout",
     "output_type": "stream",
     "text": [
      "CPU times: user 2min 31s, sys: 0 ns, total: 2min 31s\n",
      "Wall time: 2min 31s\n"
     ]
    }
   ],
   "source": [
    "%%time\n",
    "match_results = [count_matches(*tup, data_df.job_contents) for tup in req_combinations]\n",
    "match_dict = dict(zip(req_combinations, match_results))"
   ]
  },
  {
   "cell_type": "markdown",
   "metadata": {},
   "source": [
    "Another helper function will unpack the combinations counts into a square matrix form. Finally, a DataFrame is created from the combinations counts matrix. This is our main data source for the chord diagram. "
   ]
  },
  {
   "cell_type": "code",
   "execution_count": 7,
   "metadata": {},
   "outputs": [],
   "source": [
    "def make_matrix(headers, counts):\n",
    "    res = []\n",
    "    for k1 in headers:\n",
    "        row = []\n",
    "        for k2 in headers:\n",
    "            if k1 == k2:\n",
    "                row.append(0)\n",
    "            else:\n",
    "                curr_key = tuple([k1, k2])\n",
    "                cell_value = counts.get(curr_key) if curr_key in counts else counts.get(tuple([k2, k1]))\n",
    "                row.append(cell_value)\n",
    "        res.append(row)\n",
    "    return np.array(res, dtype=int)  "
   ]
  },
  {
   "cell_type": "code",
   "execution_count": 8,
   "metadata": {},
   "outputs": [],
   "source": [
    "tech_terms_matrix = make_matrix(tech_terms_filters, match_dict)"
   ]
  },
  {
   "cell_type": "code",
   "execution_count": 9,
   "metadata": {},
   "outputs": [
    {
     "data": {
      "text/html": [
       "<div>\n",
       "<style scoped>\n",
       "    .dataframe tbody tr th:only-of-type {\n",
       "        vertical-align: middle;\n",
       "    }\n",
       "\n",
       "    .dataframe tbody tr th {\n",
       "        vertical-align: top;\n",
       "    }\n",
       "\n",
       "    .dataframe thead th {\n",
       "        text-align: right;\n",
       "    }\n",
       "</style>\n",
       "<table border=\"1\" class=\"dataframe\">\n",
       "  <thead>\n",
       "    <tr style=\"text-align: right;\">\n",
       "      <th></th>\n",
       "      <th>Power BI</th>\n",
       "      <th>Excel</th>\n",
       "      <th>SSIS/SSRS</th>\n",
       "      <th>MS SQL Server</th>\n",
       "      <th>PostgreSQL</th>\n",
       "      <th>MySQL/MariaDB</th>\n",
       "      <th>T-SQL</th>\n",
       "      <th>PL/SQL</th>\n",
       "      <th>Pentaho</th>\n",
       "      <th>Hadoop</th>\n",
       "      <th>Spark</th>\n",
       "      <th>Informatica</th>\n",
       "      <th>Qlik</th>\n",
       "      <th>Tableau</th>\n",
       "      <th>Microstrategy</th>\n",
       "      <th>Oracle BI</th>\n",
       "      <th>Python</th>\n",
       "      <th>VBA</th>\n",
       "      <th>Linux</th>\n",
       "      <th>AWS</th>\n",
       "    </tr>\n",
       "  </thead>\n",
       "  <tbody>\n",
       "    <tr>\n",
       "      <th>Power BI</th>\n",
       "      <td>0</td>\n",
       "      <td>185</td>\n",
       "      <td>111</td>\n",
       "      <td>117</td>\n",
       "      <td>0</td>\n",
       "      <td>5</td>\n",
       "      <td>41</td>\n",
       "      <td>6</td>\n",
       "      <td>8</td>\n",
       "      <td>21</td>\n",
       "      <td>26</td>\n",
       "      <td>11</td>\n",
       "      <td>148</td>\n",
       "      <td>160</td>\n",
       "      <td>20</td>\n",
       "      <td>134</td>\n",
       "      <td>70</td>\n",
       "      <td>29</td>\n",
       "      <td>5</td>\n",
       "      <td>5</td>\n",
       "    </tr>\n",
       "    <tr>\n",
       "      <th>Excel</th>\n",
       "      <td>185</td>\n",
       "      <td>0</td>\n",
       "      <td>520</td>\n",
       "      <td>244</td>\n",
       "      <td>60</td>\n",
       "      <td>103</td>\n",
       "      <td>170</td>\n",
       "      <td>52</td>\n",
       "      <td>62</td>\n",
       "      <td>72</td>\n",
       "      <td>75</td>\n",
       "      <td>114</td>\n",
       "      <td>370</td>\n",
       "      <td>399</td>\n",
       "      <td>36</td>\n",
       "      <td>547</td>\n",
       "      <td>310</td>\n",
       "      <td>220</td>\n",
       "      <td>67</td>\n",
       "      <td>46</td>\n",
       "    </tr>\n",
       "    <tr>\n",
       "      <th>SSIS/SSRS</th>\n",
       "      <td>111</td>\n",
       "      <td>520</td>\n",
       "      <td>0</td>\n",
       "      <td>239</td>\n",
       "      <td>37</td>\n",
       "      <td>62</td>\n",
       "      <td>113</td>\n",
       "      <td>30</td>\n",
       "      <td>32</td>\n",
       "      <td>31</td>\n",
       "      <td>38</td>\n",
       "      <td>65</td>\n",
       "      <td>73</td>\n",
       "      <td>136</td>\n",
       "      <td>25</td>\n",
       "      <td>232</td>\n",
       "      <td>144</td>\n",
       "      <td>67</td>\n",
       "      <td>16</td>\n",
       "      <td>27</td>\n",
       "    </tr>\n",
       "    <tr>\n",
       "      <th>MS SQL Server</th>\n",
       "      <td>117</td>\n",
       "      <td>244</td>\n",
       "      <td>239</td>\n",
       "      <td>0</td>\n",
       "      <td>64</td>\n",
       "      <td>75</td>\n",
       "      <td>158</td>\n",
       "      <td>10</td>\n",
       "      <td>44</td>\n",
       "      <td>28</td>\n",
       "      <td>25</td>\n",
       "      <td>57</td>\n",
       "      <td>58</td>\n",
       "      <td>93</td>\n",
       "      <td>17</td>\n",
       "      <td>155</td>\n",
       "      <td>106</td>\n",
       "      <td>35</td>\n",
       "      <td>44</td>\n",
       "      <td>9</td>\n",
       "    </tr>\n",
       "    <tr>\n",
       "      <th>PostgreSQL</th>\n",
       "      <td>0</td>\n",
       "      <td>60</td>\n",
       "      <td>37</td>\n",
       "      <td>64</td>\n",
       "      <td>0</td>\n",
       "      <td>79</td>\n",
       "      <td>30</td>\n",
       "      <td>0</td>\n",
       "      <td>43</td>\n",
       "      <td>3</td>\n",
       "      <td>6</td>\n",
       "      <td>0</td>\n",
       "      <td>14</td>\n",
       "      <td>6</td>\n",
       "      <td>0</td>\n",
       "      <td>38</td>\n",
       "      <td>23</td>\n",
       "      <td>0</td>\n",
       "      <td>36</td>\n",
       "      <td>0</td>\n",
       "    </tr>\n",
       "    <tr>\n",
       "      <th>MySQL/MariaDB</th>\n",
       "      <td>5</td>\n",
       "      <td>103</td>\n",
       "      <td>62</td>\n",
       "      <td>75</td>\n",
       "      <td>79</td>\n",
       "      <td>0</td>\n",
       "      <td>37</td>\n",
       "      <td>0</td>\n",
       "      <td>61</td>\n",
       "      <td>4</td>\n",
       "      <td>21</td>\n",
       "      <td>8</td>\n",
       "      <td>17</td>\n",
       "      <td>41</td>\n",
       "      <td>0</td>\n",
       "      <td>61</td>\n",
       "      <td>49</td>\n",
       "      <td>5</td>\n",
       "      <td>38</td>\n",
       "      <td>0</td>\n",
       "    </tr>\n",
       "    <tr>\n",
       "      <th>T-SQL</th>\n",
       "      <td>41</td>\n",
       "      <td>170</td>\n",
       "      <td>113</td>\n",
       "      <td>158</td>\n",
       "      <td>30</td>\n",
       "      <td>37</td>\n",
       "      <td>0</td>\n",
       "      <td>31</td>\n",
       "      <td>37</td>\n",
       "      <td>16</td>\n",
       "      <td>17</td>\n",
       "      <td>12</td>\n",
       "      <td>68</td>\n",
       "      <td>92</td>\n",
       "      <td>10</td>\n",
       "      <td>128</td>\n",
       "      <td>47</td>\n",
       "      <td>26</td>\n",
       "      <td>24</td>\n",
       "      <td>8</td>\n",
       "    </tr>\n",
       "    <tr>\n",
       "      <th>PL/SQL</th>\n",
       "      <td>6</td>\n",
       "      <td>52</td>\n",
       "      <td>30</td>\n",
       "      <td>10</td>\n",
       "      <td>0</td>\n",
       "      <td>0</td>\n",
       "      <td>31</td>\n",
       "      <td>0</td>\n",
       "      <td>8</td>\n",
       "      <td>3</td>\n",
       "      <td>0</td>\n",
       "      <td>27</td>\n",
       "      <td>14</td>\n",
       "      <td>17</td>\n",
       "      <td>21</td>\n",
       "      <td>76</td>\n",
       "      <td>3</td>\n",
       "      <td>6</td>\n",
       "      <td>1</td>\n",
       "      <td>2</td>\n",
       "    </tr>\n",
       "    <tr>\n",
       "      <th>Pentaho</th>\n",
       "      <td>8</td>\n",
       "      <td>62</td>\n",
       "      <td>32</td>\n",
       "      <td>44</td>\n",
       "      <td>43</td>\n",
       "      <td>61</td>\n",
       "      <td>37</td>\n",
       "      <td>8</td>\n",
       "      <td>0</td>\n",
       "      <td>0</td>\n",
       "      <td>6</td>\n",
       "      <td>32</td>\n",
       "      <td>30</td>\n",
       "      <td>37</td>\n",
       "      <td>3</td>\n",
       "      <td>38</td>\n",
       "      <td>34</td>\n",
       "      <td>1</td>\n",
       "      <td>33</td>\n",
       "      <td>13</td>\n",
       "    </tr>\n",
       "    <tr>\n",
       "      <th>Hadoop</th>\n",
       "      <td>21</td>\n",
       "      <td>72</td>\n",
       "      <td>31</td>\n",
       "      <td>28</td>\n",
       "      <td>3</td>\n",
       "      <td>4</td>\n",
       "      <td>16</td>\n",
       "      <td>3</td>\n",
       "      <td>0</td>\n",
       "      <td>0</td>\n",
       "      <td>115</td>\n",
       "      <td>5</td>\n",
       "      <td>9</td>\n",
       "      <td>35</td>\n",
       "      <td>3</td>\n",
       "      <td>34</td>\n",
       "      <td>124</td>\n",
       "      <td>6</td>\n",
       "      <td>76</td>\n",
       "      <td>42</td>\n",
       "    </tr>\n",
       "    <tr>\n",
       "      <th>Spark</th>\n",
       "      <td>26</td>\n",
       "      <td>75</td>\n",
       "      <td>38</td>\n",
       "      <td>25</td>\n",
       "      <td>6</td>\n",
       "      <td>21</td>\n",
       "      <td>17</td>\n",
       "      <td>0</td>\n",
       "      <td>6</td>\n",
       "      <td>115</td>\n",
       "      <td>0</td>\n",
       "      <td>10</td>\n",
       "      <td>15</td>\n",
       "      <td>33</td>\n",
       "      <td>3</td>\n",
       "      <td>30</td>\n",
       "      <td>133</td>\n",
       "      <td>6</td>\n",
       "      <td>58</td>\n",
       "      <td>44</td>\n",
       "    </tr>\n",
       "    <tr>\n",
       "      <th>Informatica</th>\n",
       "      <td>11</td>\n",
       "      <td>114</td>\n",
       "      <td>65</td>\n",
       "      <td>57</td>\n",
       "      <td>0</td>\n",
       "      <td>8</td>\n",
       "      <td>12</td>\n",
       "      <td>27</td>\n",
       "      <td>32</td>\n",
       "      <td>5</td>\n",
       "      <td>10</td>\n",
       "      <td>0</td>\n",
       "      <td>92</td>\n",
       "      <td>66</td>\n",
       "      <td>12</td>\n",
       "      <td>124</td>\n",
       "      <td>25</td>\n",
       "      <td>3</td>\n",
       "      <td>7</td>\n",
       "      <td>19</td>\n",
       "    </tr>\n",
       "    <tr>\n",
       "      <th>Qlik</th>\n",
       "      <td>148</td>\n",
       "      <td>370</td>\n",
       "      <td>73</td>\n",
       "      <td>58</td>\n",
       "      <td>14</td>\n",
       "      <td>17</td>\n",
       "      <td>68</td>\n",
       "      <td>14</td>\n",
       "      <td>30</td>\n",
       "      <td>9</td>\n",
       "      <td>15</td>\n",
       "      <td>92</td>\n",
       "      <td>0</td>\n",
       "      <td>319</td>\n",
       "      <td>31</td>\n",
       "      <td>305</td>\n",
       "      <td>44</td>\n",
       "      <td>29</td>\n",
       "      <td>2</td>\n",
       "      <td>3</td>\n",
       "    </tr>\n",
       "    <tr>\n",
       "      <th>Tableau</th>\n",
       "      <td>160</td>\n",
       "      <td>399</td>\n",
       "      <td>136</td>\n",
       "      <td>93</td>\n",
       "      <td>6</td>\n",
       "      <td>41</td>\n",
       "      <td>92</td>\n",
       "      <td>17</td>\n",
       "      <td>37</td>\n",
       "      <td>35</td>\n",
       "      <td>33</td>\n",
       "      <td>66</td>\n",
       "      <td>319</td>\n",
       "      <td>0</td>\n",
       "      <td>44</td>\n",
       "      <td>373</td>\n",
       "      <td>115</td>\n",
       "      <td>59</td>\n",
       "      <td>14</td>\n",
       "      <td>32</td>\n",
       "    </tr>\n",
       "    <tr>\n",
       "      <th>Microstrategy</th>\n",
       "      <td>20</td>\n",
       "      <td>36</td>\n",
       "      <td>25</td>\n",
       "      <td>17</td>\n",
       "      <td>0</td>\n",
       "      <td>0</td>\n",
       "      <td>10</td>\n",
       "      <td>21</td>\n",
       "      <td>3</td>\n",
       "      <td>3</td>\n",
       "      <td>3</td>\n",
       "      <td>12</td>\n",
       "      <td>31</td>\n",
       "      <td>44</td>\n",
       "      <td>0</td>\n",
       "      <td>54</td>\n",
       "      <td>15</td>\n",
       "      <td>7</td>\n",
       "      <td>5</td>\n",
       "      <td>2</td>\n",
       "    </tr>\n",
       "    <tr>\n",
       "      <th>Oracle BI</th>\n",
       "      <td>134</td>\n",
       "      <td>547</td>\n",
       "      <td>232</td>\n",
       "      <td>155</td>\n",
       "      <td>38</td>\n",
       "      <td>61</td>\n",
       "      <td>128</td>\n",
       "      <td>76</td>\n",
       "      <td>38</td>\n",
       "      <td>34</td>\n",
       "      <td>30</td>\n",
       "      <td>124</td>\n",
       "      <td>305</td>\n",
       "      <td>373</td>\n",
       "      <td>54</td>\n",
       "      <td>0</td>\n",
       "      <td>138</td>\n",
       "      <td>63</td>\n",
       "      <td>3</td>\n",
       "      <td>43</td>\n",
       "    </tr>\n",
       "    <tr>\n",
       "      <th>Python</th>\n",
       "      <td>70</td>\n",
       "      <td>310</td>\n",
       "      <td>144</td>\n",
       "      <td>106</td>\n",
       "      <td>23</td>\n",
       "      <td>49</td>\n",
       "      <td>47</td>\n",
       "      <td>3</td>\n",
       "      <td>34</td>\n",
       "      <td>124</td>\n",
       "      <td>133</td>\n",
       "      <td>25</td>\n",
       "      <td>44</td>\n",
       "      <td>115</td>\n",
       "      <td>15</td>\n",
       "      <td>138</td>\n",
       "      <td>0</td>\n",
       "      <td>58</td>\n",
       "      <td>82</td>\n",
       "      <td>78</td>\n",
       "    </tr>\n",
       "    <tr>\n",
       "      <th>VBA</th>\n",
       "      <td>29</td>\n",
       "      <td>220</td>\n",
       "      <td>67</td>\n",
       "      <td>35</td>\n",
       "      <td>0</td>\n",
       "      <td>5</td>\n",
       "      <td>26</td>\n",
       "      <td>6</td>\n",
       "      <td>1</td>\n",
       "      <td>6</td>\n",
       "      <td>6</td>\n",
       "      <td>3</td>\n",
       "      <td>29</td>\n",
       "      <td>59</td>\n",
       "      <td>7</td>\n",
       "      <td>63</td>\n",
       "      <td>58</td>\n",
       "      <td>0</td>\n",
       "      <td>0</td>\n",
       "      <td>5</td>\n",
       "    </tr>\n",
       "    <tr>\n",
       "      <th>Linux</th>\n",
       "      <td>5</td>\n",
       "      <td>67</td>\n",
       "      <td>16</td>\n",
       "      <td>44</td>\n",
       "      <td>36</td>\n",
       "      <td>38</td>\n",
       "      <td>24</td>\n",
       "      <td>1</td>\n",
       "      <td>33</td>\n",
       "      <td>76</td>\n",
       "      <td>58</td>\n",
       "      <td>7</td>\n",
       "      <td>2</td>\n",
       "      <td>14</td>\n",
       "      <td>5</td>\n",
       "      <td>3</td>\n",
       "      <td>82</td>\n",
       "      <td>0</td>\n",
       "      <td>0</td>\n",
       "      <td>23</td>\n",
       "    </tr>\n",
       "    <tr>\n",
       "      <th>AWS</th>\n",
       "      <td>5</td>\n",
       "      <td>46</td>\n",
       "      <td>27</td>\n",
       "      <td>9</td>\n",
       "      <td>0</td>\n",
       "      <td>0</td>\n",
       "      <td>8</td>\n",
       "      <td>2</td>\n",
       "      <td>13</td>\n",
       "      <td>42</td>\n",
       "      <td>44</td>\n",
       "      <td>19</td>\n",
       "      <td>3</td>\n",
       "      <td>32</td>\n",
       "      <td>2</td>\n",
       "      <td>43</td>\n",
       "      <td>78</td>\n",
       "      <td>5</td>\n",
       "      <td>23</td>\n",
       "      <td>0</td>\n",
       "    </tr>\n",
       "  </tbody>\n",
       "</table>\n",
       "</div>"
      ],
      "text/plain": [
       "               Power BI  Excel  SSIS/SSRS  MS SQL Server  PostgreSQL  \\\n",
       "Power BI              0    185        111            117           0   \n",
       "Excel               185      0        520            244          60   \n",
       "SSIS/SSRS           111    520          0            239          37   \n",
       "MS SQL Server       117    244        239              0          64   \n",
       "PostgreSQL            0     60         37             64           0   \n",
       "MySQL/MariaDB         5    103         62             75          79   \n",
       "T-SQL                41    170        113            158          30   \n",
       "PL/SQL                6     52         30             10           0   \n",
       "Pentaho               8     62         32             44          43   \n",
       "Hadoop               21     72         31             28           3   \n",
       "Spark                26     75         38             25           6   \n",
       "Informatica          11    114         65             57           0   \n",
       "Qlik                148    370         73             58          14   \n",
       "Tableau             160    399        136             93           6   \n",
       "Microstrategy        20     36         25             17           0   \n",
       "Oracle BI           134    547        232            155          38   \n",
       "Python               70    310        144            106          23   \n",
       "VBA                  29    220         67             35           0   \n",
       "Linux                 5     67         16             44          36   \n",
       "AWS                   5     46         27              9           0   \n",
       "\n",
       "               MySQL/MariaDB  T-SQL  PL/SQL  Pentaho  Hadoop  Spark  \\\n",
       "Power BI                   5     41       6        8      21     26   \n",
       "Excel                    103    170      52       62      72     75   \n",
       "SSIS/SSRS                 62    113      30       32      31     38   \n",
       "MS SQL Server             75    158      10       44      28     25   \n",
       "PostgreSQL                79     30       0       43       3      6   \n",
       "MySQL/MariaDB              0     37       0       61       4     21   \n",
       "T-SQL                     37      0      31       37      16     17   \n",
       "PL/SQL                     0     31       0        8       3      0   \n",
       "Pentaho                   61     37       8        0       0      6   \n",
       "Hadoop                     4     16       3        0       0    115   \n",
       "Spark                     21     17       0        6     115      0   \n",
       "Informatica                8     12      27       32       5     10   \n",
       "Qlik                      17     68      14       30       9     15   \n",
       "Tableau                   41     92      17       37      35     33   \n",
       "Microstrategy              0     10      21        3       3      3   \n",
       "Oracle BI                 61    128      76       38      34     30   \n",
       "Python                    49     47       3       34     124    133   \n",
       "VBA                        5     26       6        1       6      6   \n",
       "Linux                     38     24       1       33      76     58   \n",
       "AWS                        0      8       2       13      42     44   \n",
       "\n",
       "               Informatica  Qlik  Tableau  Microstrategy  Oracle BI  Python  \\\n",
       "Power BI                11   148      160             20        134      70   \n",
       "Excel                  114   370      399             36        547     310   \n",
       "SSIS/SSRS               65    73      136             25        232     144   \n",
       "MS SQL Server           57    58       93             17        155     106   \n",
       "PostgreSQL               0    14        6              0         38      23   \n",
       "MySQL/MariaDB            8    17       41              0         61      49   \n",
       "T-SQL                   12    68       92             10        128      47   \n",
       "PL/SQL                  27    14       17             21         76       3   \n",
       "Pentaho                 32    30       37              3         38      34   \n",
       "Hadoop                   5     9       35              3         34     124   \n",
       "Spark                   10    15       33              3         30     133   \n",
       "Informatica              0    92       66             12        124      25   \n",
       "Qlik                    92     0      319             31        305      44   \n",
       "Tableau                 66   319        0             44        373     115   \n",
       "Microstrategy           12    31       44              0         54      15   \n",
       "Oracle BI              124   305      373             54          0     138   \n",
       "Python                  25    44      115             15        138       0   \n",
       "VBA                      3    29       59              7         63      58   \n",
       "Linux                    7     2       14              5          3      82   \n",
       "AWS                     19     3       32              2         43      78   \n",
       "\n",
       "               VBA  Linux  AWS  \n",
       "Power BI        29      5    5  \n",
       "Excel          220     67   46  \n",
       "SSIS/SSRS       67     16   27  \n",
       "MS SQL Server   35     44    9  \n",
       "PostgreSQL       0     36    0  \n",
       "MySQL/MariaDB    5     38    0  \n",
       "T-SQL           26     24    8  \n",
       "PL/SQL           6      1    2  \n",
       "Pentaho          1     33   13  \n",
       "Hadoop           6     76   42  \n",
       "Spark            6     58   44  \n",
       "Informatica      3      7   19  \n",
       "Qlik            29      2    3  \n",
       "Tableau         59     14   32  \n",
       "Microstrategy    7      5    2  \n",
       "Oracle BI       63      3   43  \n",
       "Python          58     82   78  \n",
       "VBA              0      0    5  \n",
       "Linux            0      0   23  \n",
       "AWS              5     23    0  "
      ]
     },
     "execution_count": 9,
     "metadata": {},
     "output_type": "execute_result"
    }
   ],
   "source": [
    "tech_terms_df = pd.DataFrame(tech_terms_matrix, columns=tech_terms_labels, index=tech_terms_labels)\n",
    "tech_terms_df"
   ]
  },
  {
   "cell_type": "markdown",
   "metadata": {},
   "source": [
    "We can finally move to Plotly. \n",
    "\n",
    "A chord diagram encodes information in two graphical objects:\n",
    "\n",
    "- Ideograms, represented by distinctly colored arcs of circles;\n",
    "- Ribbons, that are planar shapes bounded by two quadratic Bezier curves and two arcs of circle,that can degenerate to a point;\n"
   ]
  },
  {
   "cell_type": "markdown",
   "metadata": {},
   "source": [
    "### Ideograms Preparation"
   ]
  },
  {
   "cell_type": "markdown",
   "metadata": {},
   "source": [
    "For each of our predefined tech terms we can produce a total hits count by summing up all the entries on the row (or column for that matter). That total count determines the size of each ideogram of the chart.\n",
    "\n",
    "We are going to need a couple of helper functions to process the data in order to get ideogram ends.\n"
   ]
  },
  {
   "cell_type": "code",
   "execution_count": 10,
   "metadata": {},
   "outputs": [],
   "source": [
    "PI = np.pi\n",
    "\n",
    "def moduloAB(x, a, b):\n",
    "    if a >= b:\n",
    "        raise ValueError('Incorrect interval ends')\n",
    "    y = (x-a) % (b-a)\n",
    "    return y+b if y < 0 else y+a\n",
    "\n",
    "\n",
    "def test_2PI(x):\n",
    "    return 0 <= x < 2*PI"
   ]
  },
  {
   "cell_type": "markdown",
   "metadata": {},
   "source": [
    "And now use them to compute the row sums and the lengths of corresponding ideograms."
   ]
  },
  {
   "cell_type": "code",
   "execution_count": 11,
   "metadata": {},
   "outputs": [],
   "source": [
    "row_sum = [np.sum(tech_terms_matrix[k, :]) for k in range(len(tech_terms_filters))]\n",
    "\n",
    "#set the gap between two consecutive ideograms\n",
    "gap = 2*PI*0.005\n",
    "ideogram_length = 2*PI*np.asarray(row_sum)/sum(row_sum)-gap*np.ones(len(tech_terms_filters))"
   ]
  },
  {
   "cell_type": "markdown",
   "metadata": {},
   "source": [
    "The next function returns the list of end angular coordinates for each ideogram arc:\n"
   ]
  },
  {
   "cell_type": "code",
   "execution_count": 12,
   "metadata": {},
   "outputs": [],
   "source": [
    "def get_ideogram_ends(ideogram_len, gap):\n",
    "    ideo_ends = []\n",
    "    left = 0\n",
    "    for k in range(len(ideogram_len)):\n",
    "        right = left+ideogram_len[k]\n",
    "        ideo_ends.append([left, right])\n",
    "        left = right+gap\n",
    "    return ideo_ends\n",
    "\n",
    "ideo_ends = get_ideogram_ends(ideogram_length, gap)"
   ]
  },
  {
   "cell_type": "markdown",
   "metadata": {},
   "source": [
    "The function make_ideogram_arc returns equally spaced points on an ideogram arc, expressed as complex numbers in polar form:"
   ]
  },
  {
   "cell_type": "code",
   "execution_count": 13,
   "metadata": {},
   "outputs": [],
   "source": [
    "def make_ideogram_arc(R, phi, a=50):\n",
    "    if not test_2PI(phi[0]) or not test_2PI(phi[1]):\n",
    "        phi = [moduloAB(t, 0, 2*PI) for t in phi]\n",
    "    length = (phi[1]-phi[0]) % 2*PI\n",
    "    nr = 5 if length <= PI/4 else int(a*length/PI)\n",
    "    if phi[0] < phi[1]:\n",
    "        theta = np.linspace(phi[0], phi[1], nr)\n",
    "    else:\n",
    "        phi = [moduloAB(t, -PI, PI) for t in phi]\n",
    "        theta = np.linspace(phi[0], phi[1], nr)\n",
    "    return R*np.exp(1j*theta)"
   ]
  },
  {
   "cell_type": "code",
   "execution_count": 14,
   "metadata": {},
   "outputs": [],
   "source": [
    "z = make_ideogram_arc(1.3, [11*PI/6, PI/17])"
   ]
  },
  {
   "cell_type": "markdown",
   "metadata": {},
   "source": [
    "### Ribbons Preparation"
   ]
  },
  {
   "cell_type": "markdown",
   "metadata": {},
   "source": [
    "The function map_data maps all matrix entries to the corresponding values in the intervals associated to ideograms:"
   ]
  },
  {
   "cell_type": "code",
   "execution_count": 15,
   "metadata": {},
   "outputs": [],
   "source": [
    "def map_data(data_matrix, row_value, ideogram_length):\n",
    "    mapped = np.zeros(data_matrix.shape)\n",
    "    for j in range(len(tech_terms_filters)):\n",
    "        mapped[:, j] = ideogram_length*data_matrix[:, j]/row_value\n",
    "    return mapped\n",
    "\n",
    "mapped_data = map_data(tech_terms_matrix, row_sum, ideogram_length)"
   ]
  },
  {
   "cell_type": "markdown",
   "metadata": {},
   "source": [
    "The array idx_sort, defined below, has on each row the indices that sort the corresponding row in mapped_data:\n"
   ]
  },
  {
   "cell_type": "code",
   "execution_count": 16,
   "metadata": {},
   "outputs": [],
   "source": [
    "idx_sort = np.argsort(mapped_data, axis=1)"
   ]
  },
  {
   "cell_type": "code",
   "execution_count": 17,
   "metadata": {},
   "outputs": [
    {
     "name": "stdout",
     "output_type": "stream",
     "text": [
      "ribbon ends starting from the ideogram[2]\n",
      " [(1.2953279683578385, 1.2953279683578385), (1.2953279683578385, 1.299435928174664), (1.299435928174664, 1.3058546153884534), (1.3058546153884534, 1.3127867975793461), (1.3127867975793461, 1.3204892222358937), (1.3204892222358937, 1.3284483943809928), (1.3284483943809928, 1.3366643140146435), (1.3366643140146435, 1.346163971091052), (1.346163971091052, 1.355920375656012), (1.355920375656012, 1.3718387199462103), (1.3718387199462103, 1.3885273067020631), (1.3885273067020631, 1.4057293884350193), (1.4057293884350193, 1.4244719550992848), (1.4244719550992848, 1.4529709263285104), (1.4529709263285104, 1.4819833925348393), (1.4819833925348393, 1.5169010509778547), (1.5169010509778547, 1.5538726893292827), (1.5538726893292827, 1.61343810667325), (1.61343810667325, 1.6748007564370782), (1.6748007564370782, 1.8083094504839012)]\n"
     ]
    }
   ],
   "source": [
    "def make_ribbon_ends(mapped_data, ideo_ends,  idx_sort):\n",
    "    L = mapped_data.shape[0]\n",
    "    ribbon_boundary = np.zeros((L, L+1))\n",
    "    for k in range(L):\n",
    "        start = ideo_ends[k][0]\n",
    "        ribbon_boundary[k][0] = start\n",
    "        for j in range(1, L+1):\n",
    "            J = idx_sort[k][j-1]\n",
    "            ribbon_boundary[k][j] = start+mapped_data[k][J]\n",
    "            start = ribbon_boundary[k][j]\n",
    "    return [[(ribbon_boundary[k][j], ribbon_boundary[k][j+1]) for j in range(L)] for k in range(L)]\n",
    "\n",
    "\n",
    "ribbon_ends = make_ribbon_ends(mapped_data, ideo_ends, idx_sort)\n",
    "print('ribbon ends starting from the ideogram[2]\\n', ribbon_ends[2])"
   ]
  },
  {
   "cell_type": "code",
   "execution_count": 18,
   "metadata": {},
   "outputs": [],
   "source": [
    "def control_pts(angle, radius):\n",
    "    if len(angle) != 3:\n",
    "        raise InvalidInputError('angle must have len =3')\n",
    "    b_cplx = np.array([np.exp(1j*angle[k]) for k in range(3)])\n",
    "    b_cplx[1] = radius*b_cplx[1]\n",
    "    return zip(b_cplx.real, b_cplx.imag)"
   ]
  },
  {
   "cell_type": "code",
   "execution_count": 19,
   "metadata": {},
   "outputs": [],
   "source": [
    "def ctrl_rib_chords(l, r, radius):\n",
    "    if len(l) != 2 or len(r) != 2:\n",
    "        raise ValueError('the arc ends must be elements in a list of len 2')\n",
    "    return [control_pts([l[j], (l[j]+r[j])/2, r[j]], radius) for j in range(2)]"
   ]
  },
  {
   "cell_type": "code",
   "execution_count": 20,
   "metadata": {},
   "outputs": [
    {
     "data": {
      "text/plain": [
       "'M 1,4 Q -0.5, 2.35 3.745, 1.47'"
      ]
     },
     "execution_count": 20,
     "metadata": {},
     "output_type": "execute_result"
    }
   ],
   "source": [
    "def make_q_bezier(b):\n",
    "    if len(b) != 3:\n",
    "        raise ValueError('control poligon must have 3 points')\n",
    "    A, B, C = b\n",
    "    return 'M ' + str(A[0]) + ',' + str(A[1]) + ' ' + 'Q ' + \\\n",
    "        str(B[0]) + ', ' + str(B[1]) + ' ' + \\\n",
    "        str(C[0]) + ', ' + str(C[1])\n",
    "\n",
    "\n",
    "b = [(1,4), (-0.5, 2.35), (3.745, 1.47)]\n",
    "make_q_bezier(b)"
   ]
  },
  {
   "cell_type": "code",
   "execution_count": 21,
   "metadata": {},
   "outputs": [],
   "source": [
    "def make_ribbon_arc(theta0, theta1):\n",
    "    if test_2PI(theta0) and test_2PI(theta1):\n",
    "        if theta0 < theta1:\n",
    "            theta0 = moduloAB(theta0, -PI, PI)\n",
    "            theta1 = moduloAB(theta1, -PI, PI)\n",
    "            if theta0*theta1 > 0:\n",
    "                raise ValueError('incorrect angle coordinates for ribbon')\n",
    "\n",
    "        nr = int(40*(theta0-theta1)/PI)\n",
    "        if nr <= 2: \n",
    "            nr = 3\n",
    "        theta = np.linspace(theta0, theta1, nr)\n",
    "        pts = np.exp(1j*theta)\n",
    "\n",
    "        string_arc = ''\n",
    "        for k in range(len(theta)):\n",
    "            string_arc += 'L ' + str(pts.real[k]) + ', ' + str(pts.imag[k]) + ' '\n",
    "        return string_arc\n",
    "    else:\n",
    "        raise ValueError('the angle coordinates for an arc side of a ribbon must be in [0, 2*pi]')"
   ]
  },
  {
   "cell_type": "code",
   "execution_count": 22,
   "metadata": {},
   "outputs": [],
   "source": [
    "def make_ideo_shape(path, line_color, fill_color):\n",
    "    return dict(\n",
    "        line=dict(color=line_color, width=0.45),\n",
    "        path=path,\n",
    "        type='path',\n",
    "        fillcolor=fill_color,\n",
    "        layer='below',\n",
    "    )"
   ]
  },
  {
   "cell_type": "code",
   "execution_count": 23,
   "metadata": {},
   "outputs": [],
   "source": [
    "temp_colors = [*DS['colorramp']['acc1'], *DS['colorramp']['acc2']]\n",
    "len_datalist = len(tech_terms_filters)\n",
    "ideo_colors = temp_colors[:len_datalist]"
   ]
  },
  {
   "cell_type": "code",
   "execution_count": 24,
   "metadata": {},
   "outputs": [],
   "source": [
    "def make_ribbon(l, r, line_color, fill_color, radius=0.2):\n",
    "    poligon = ctrl_rib_chords(l, r, radius)\n",
    "    b, c = poligon\n",
    "\n",
    "    return dict(\n",
    "        line=dict(\n",
    "            color=line_color,\n",
    "            width=0.5\n",
    "            ),\n",
    "        path=make_q_bezier(list(b))+make_ribbon_arc(r[0], r[1])+make_q_bezier(list(c)[::-1])+make_ribbon_arc(l[1], l[0]),\n",
    "        type='path',\n",
    "        fillcolor=fill_color,\n",
    "        layer='below'\n",
    "    )\n",
    "\n",
    "\n",
    "def make_self_rel(l, line_color, fill_color, radius):\n",
    "    b = control_pts([l[0], (l[0]+l[1])/2, l[1]], radius)\n",
    "    return dict(\n",
    "        line=dict(\n",
    "            color=line_color,\n",
    "            width=0.5\n",
    "            ),\n",
    "        path=make_q_bezier(b)+make_ribbon_arc(l[1], l[0]),\n",
    "        type='path',\n",
    "        fillcolor=fill_color,\n",
    "        layer='below'\n",
    "    )\n",
    "\n",
    "\n",
    "def invPerm(perm):\n",
    "    inv = [0] * len(perm)\n",
    "    for i, s in enumerate(perm):\n",
    "        inv[s] = i\n",
    "    return inv"
   ]
  },
  {
   "cell_type": "code",
   "execution_count": 25,
   "metadata": {},
   "outputs": [],
   "source": [
    "radii_sribb = [0.4, 0.30, 0.35, 0.39, 0.12]"
   ]
  },
  {
   "cell_type": "code",
   "execution_count": 26,
   "metadata": {},
   "outputs": [],
   "source": [
    "shapes = []\n",
    "ribbon_info = []\n",
    "\n",
    "for k in range(len(tech_terms_filters)):\n",
    "    sigma = idx_sort[k]\n",
    "    sigma_inv = invPerm(sigma)\n",
    "    for j in range(k, len(tech_terms_filters)):\n",
    "        if tech_terms_matrix[k][j] == 0 and tech_terms_matrix[j][k] == 0:\n",
    "            continue\n",
    "        eta = idx_sort[j]\n",
    "        eta_inv = invPerm(eta)\n",
    "        l = ribbon_ends[k][sigma_inv[j]]\n",
    "\n",
    "        if j == k:\n",
    "            shapes.append(make_self_rel(l, DS['colors']['acc1'], ideo_colors[k], radius=radii_sribb[k]))\n",
    "            z = 0.9*np.exp(1j*(l[0]+l[1])/2)\n",
    "            text = tech_terms_labels[k]+' appears in ' + '{:d}'.format(tech_terms_matrix[k][k]),\n",
    "            ribbon_info.append(\n",
    "                go.Scatter(\n",
    "                    x=[z.real],\n",
    "                    y=[z.imag],\n",
    "                    mode='markers',\n",
    "                    marker=dict(size=0.5, color=ideo_colors[k]),\n",
    "                    text=text,\n",
    "                    hoverinfo='text',\n",
    "                ),\n",
    "            )\n",
    "        else:\n",
    "            r = ribbon_ends[j][eta_inv[k]]\n",
    "            zi = 0.9*np.exp(1j*(l[0]+l[1])/2)\n",
    "            zf = 0.9*np.exp(1j*(r[0]+r[1])/2)\n",
    "            texti = tech_terms_labels[k]+' appears with '+tech_terms_labels[j]+' {:d}'.format(tech_terms_matrix[k][j])+' times'\n",
    "            textf = tech_terms_labels[j]+' appears with '+tech_terms_labels[k]+' {:d}'.format(tech_terms_matrix[j][k])+' times'\n",
    "\n",
    "            ribbon_info.append(go.Scatter(\n",
    "                x=[zi.real],\n",
    "                y=[zi.imag],\n",
    "                mode='markers',\n",
    "                marker=dict(size=0.5, color='green'),\n",
    "                text=texti,\n",
    "                hoverinfo='text'\n",
    "            )),\n",
    "            ribbon_info.append(go.Scatter(\n",
    "                x=[zf.real],\n",
    "                y=[zf.imag],\n",
    "                mode='markers',\n",
    "                marker=dict(size=0.5, color='blue'),\n",
    "                text=textf,\n",
    "                hoverinfo='text'\n",
    "            ))\n",
    "            r = (r[1], r[0])\n",
    "            shapes.append(make_ribbon(l, r, 'rgb(175,175,175)', ideo_colors[k]))"
   ]
  },
  {
   "cell_type": "code",
   "execution_count": 27,
   "metadata": {},
   "outputs": [
    {
     "name": "stderr",
     "output_type": "stream",
     "text": [
      "/data/WORKSPACE/jpynb_Employment_Trends_Bulgaria/ve-emptrends/lib/python3.7/site-packages/plotly/graph_objs/_deprecations.py:39: DeprecationWarning:\n",
      "\n",
      "plotly.graph_objs.Data is deprecated.\n",
      "Please replace it with a list or tuple of instances of the following types\n",
      "  - plotly.graph_objs.Scatter\n",
      "  - plotly.graph_objs.Bar\n",
      "  - plotly.graph_objs.Area\n",
      "  - plotly.graph_objs.Histogram\n",
      "  - etc.\n",
      "\n",
      "\n"
     ]
    }
   ],
   "source": [
    "ideograms = []\n",
    "for k in range(len(ideo_ends)):\n",
    "    z = make_ideogram_arc(1.1, ideo_ends[k])\n",
    "    zi = make_ideogram_arc(1.0, ideo_ends[k])\n",
    "    m = len(z)\n",
    "    n = len(zi)\n",
    "    ideograms.append(go.Scatter(\n",
    "        x=z.real,\n",
    "        y=z.imag,\n",
    "        mode='lines',\n",
    "        line=dict(color=ideo_colors[k], shape='spline', width=0.25),\n",
    "        text=tech_terms_labels[k]+'<br>'+'{:d}'.format(row_sum[k]),\n",
    "        hoverinfo='text',))\n",
    "\n",
    "    path = 'M '\n",
    "    for s in range(m):\n",
    "        path += str(z.real[s])+', '+str(z.imag[s])+' L '\n",
    "\n",
    "    Zi = np.array(zi.tolist()[::-1])\n",
    "\n",
    "    for s in range(m):\n",
    "        path += str(Zi.real[s])+', '+str(Zi.imag[s])+' L '\n",
    "    path += str(z.real[0])+' ,'+str(z.imag[0])\n",
    "\n",
    "    shapes.append(make_ideo_shape(path, 'rgb(150,150,150)', ideo_colors[k]))\n",
    "\n",
    "data = go.Data(ideograms+ribbon_info)\n"
   ]
  },
  {
   "cell_type": "code",
   "execution_count": 28,
   "metadata": {},
   "outputs": [],
   "source": [
    "layout = go.Layout(\n",
    "    paper_bgcolor=DS['colors']['bg1'],\n",
    "    plot_bgcolor=DS['colors']['bg1'],\n",
    "    title='Data Jobs ‒ Technologies in Demand',\n",
    "    titlefont=DS['chart_fonts']['title'],\n",
    "    font=DS['chart_fonts']['text'],\n",
    "    autosize=False,\n",
    "    width=1000,\n",
    "    height=525,\n",
    "    margin=dict(\n",
    "        l=280,\n",
    "        r=280,\n",
    "        t=80,\n",
    "        b=10,\n",
    "    ),\n",
    "    showlegend=False,\n",
    "    hidesources=True,\n",
    "    xaxis=dict(\n",
    "        showline=False,\n",
    "        zeroline=False,\n",
    "        showgrid=False,\n",
    "        showticklabels=False,\n",
    "        title='',\n",
    "    ),\n",
    "    yaxis=dict(\n",
    "        showline=False,\n",
    "        zeroline=False,\n",
    "        showgrid=False,\n",
    "        showticklabels=False,\n",
    "        title='',\n",
    "    ),\n",
    "    shapes=shapes,\n",
    "    hovermode='closest',\n",
    "    hoverdistance=40,\n",
    ")"
   ]
  },
  {
   "cell_type": "code",
   "execution_count": 29,
   "metadata": {},
   "outputs": [
    {
     "data": {
      "application/vnd.plotly.v1+json": {
       "config": {
        "linkText": "Export to plot.ly",
        "plotlyServerURL": "https://plot.ly",
        "showLink": true
       },
       "data": [
        {
         "hoverinfo": "text",
         "line": {
          "color": "#f2e6ce",
          "shape": "spline",
          "width": 0.25
         },
         "mode": "lines",
         "text": "Power BI<br>1102",
         "type": "scatter",
         "uid": "bcb3c682-9fd0-4e35-b502-2e6fb97252a2",
         "x": [
          1.1,
          1.0997239463976418,
          1.0988959241461878,
          1.0975163488429565,
          1.0955859129183705,
          1.093105585288413,
          1.0900766108683162,
          1.0865005099477163,
          1.0823790774275979,
          1.0777143819194046,
          1.072508764706771,
          1.0667648385703954,
          1.0604854864766444
         ],
         "y": [
          0,
          0.02464227504912715,
          0.049272181754985905,
          0.07387735798217282,
          0.09844545400789846,
          0.12296413872050654,
          0.14742110580865153,
          0.17180407993802904,
          0.19610082291255795,
          0.22029913981692245,
          0.24438688513739074,
          0.26835196885783846,
          0.2921823625279169
         ]
        },
        {
         "hoverinfo": "text",
         "line": {
          "color": "#ecd5bb",
          "shape": "spline",
          "width": 0.25
         },
         "mode": "lines",
         "text": "Excel<br>3652",
         "type": "scatter",
         "uid": "57cfe594-0459-4876-8e39-add34ce76d73",
         "x": [
          1.0507845311098076,
          1.043893460549169,
          1.0365635736164018,
          1.028797951540112,
          1.0205998587167495,
          1.0119727413383703,
          1.0029202259439778,
          0.993446117895052,
          0.9835543997759085,
          0.9732492297195591,
          0.962534939659778,
          0.9514160335101074,
          0.9398971852705709,
          0.9279832370628851,
          0.9156791970950022,
          0.9029902375558334,
          0.8899216924410417,
          0.8764790553108159,
          0.8626679769805697,
          0.8484942631455369,
          0.8339638719402582,
          0.8190829114339914,
          0.8038576370630904,
          0.7882944490014399,
          0.7723998894700437,
          0.7561806399869057,
          0.7396435185583505,
          0.7227954768129737,
          0.7056435970794185,
          0.6881950894092124,
          0.6704572885459134,
          0.6524376508418395,
          0.6341437511236785,
          0.6155832795082958,
          0.5967640381700771,
          0.5776939380611666,
          0.5583809955859793,
          0.5388333292313845,
          0.5190591561539762,
          0.49906678872586885,
          0.47886463104046545,
          0.4584611753796698,
          0.43786499864402767,
          0.41708475874729867,
          0.39612919097696925,
          0.3750071043222438,
          0.35372737777105373,
          0.33229895657764025
         ],
         "y": [
          0.325348842291381,
          0.34682335997259617,
          0.36815208521967485,
          0.3893260521810348,
          0.4103363600600749,
          0.4311741768567596,
          0.45183074308028304,
          0.4722973754312537,
          0.4925654704518503,
          0.5126265081424147,
          0.5324720555429627,
          0.5520937702781061,
          0.5714834040638961,
          0.5906328061751136,
          0.6095339268715502,
          0.6281788207818374,
          0.6465596502434033,
          0.6646686885971537,
          0.6824983234354874,
          0.7000410598022895,
          0.7172895233435469,
          0.7342364634072708,
          0.750874756091417,
          0.7671974072385259,
          0.7831975553758225,
          0.7988684745995388,
          0.8142035774022509,
          0.8291964174420354,
          0.8438406922522873,
          0.8581302458910574,
          0.872059071528794,
          0.885621313973406,
          0.8988112721315806,
          0.9116234014053235,
          0.9240523160227146,
          0.9360927913018993,
          0.947739765847361,
          0.9589883436775561,
          0.9698337962830138,
          0.9802715646140355,
          0.9902972609971609,
          0.999906670979593,
          1.009095755100806,
          1.0178606505905943,
          1.026197672992846,
          1.0341033177143597,
          1.041574261498053,
          1.0486073638199438
         ]
        },
        {
         "hoverinfo": "text",
         "line": {
          "color": "#e6c4a9",
          "shape": "spline",
          "width": 0.25
         },
         "mode": "lines",
         "text": "SSIS/SSRS<br>1998",
         "type": "scatter",
         "uid": "55e5974f-b5a2-4cc8-a452-d0154ac450a3",
         "x": [
          0.2991974338295393,
          0.27650560093520127,
          0.25368744915365415,
          0.2307534027350084,
          0.20771393887471015,
          0.18457958292713467,
          0.1613609035971829,
          0.1380685081120697,
          0.11471303737551738,
          0.09130516110656094,
          0.0678555729651926,
          0.0443749856670658,
          0.02087412608949717,
          -0.0026362696290035334,
          -0.02614546099343428,
          -0.04964270805898948,
          -0.07311727633750098,
          -0.09655844170138232,
          -0.11995549528284385,
          -0.14329774836613252,
          -0.1665745372705694,
          -0.1897752282221465,
          -0.21288922221146356,
          -0.2359059598357824,
          -0.25881492612298673
         ],
         "y": [
          1.058527701852823,
          1.0646805401863337,
          1.070346989598192,
          1.0755244614262454,
          1.0802105903929813,
          1.0844032356860824,
          1.0881004819364344,
          1.0913006400931449,
          1.0940022481951686,
          1.0962040720391917,
          1.0979051057434634,
          1.0991045722073254,
          1.0998019234662213,
          1.0999968409420289,
          1.0996892355886008,
          1.0988792479324423,
          1.0975672480085152,
          1.0957538351911897,
          1.0934398379204262,
          1.090626313323311,
          1.0873145467311178,
          1.0835060510921166,
          1.0792025662803986,
          1.074406058301031,
          1.0691187183919066
         ]
        },
        {
         "hoverinfo": "text",
         "line": {
          "color": "#e1b396",
          "shape": "spline",
          "width": 0.25
         },
         "mode": "lines",
         "text": "MS SQL Server<br>1578",
         "type": "scatter",
         "uid": "ea25250c-024b-4df6-8915-e8b7759dad2d",
         "x": [
          -0.29226904706982293,
          -0.3156755004515974,
          -0.33892720414659433,
          -0.3620127597603909,
          -0.38492085034727785,
          -0.40764024595802584,
          -0.4301598091450042,
          -0.45246850042195425,
          -0.4745553836757385,
          -0.4964096315274177,
          -0.5180205306400205,
          -0.5393774869704114,
          -0.5604700309626764,
          -0.5812878226804837,
          -0.6018206568759025,
          -0.622058467992196,
          -0.6419913350981329,
          -0.6616094867514036,
          -0.6809033057887528
         ],
         "y": [
          1.060461599552241,
          1.0537309800962642,
          1.0464838031662855,
          1.0387236214559992,
          1.0304542391430727,
          1.0216797100242718,
          1.0124043355282186,
          1.0026326626067537,
          0.9923694815059423,
          0.9816198234178105,
          0.9703889580139665,
          0.9586823908623147,
          0.9465058607281293,
          0.9338653367608108,
          0.9207670155677045,
          0.9072173181764126,
          0.8932228868870955,
          0.8787905820162983,
          0.8639274785339036
         ]
        },
        {
         "hoverinfo": "text",
         "line": {
          "color": "#dba284",
          "shape": "spline",
          "width": 0.25
         },
         "mode": "lines",
         "text": "PostgreSQL<br>439",
         "type": "scatter",
         "uid": "bc6cd183-b3c6-4ea4-b13e-5868ba9ceb5f",
         "x": [
          -0.7077039389997754,
          -0.7260987769236994,
          -0.744140606759334,
          -0.7618206570942185,
          -0.7791303324025547
         ],
         "y": [
          0.8421134927812298,
          0.8263053710039092,
          0.810095523609315,
          0.7934918313533753,
          0.7765023664679233
         ]
        },
        {
         "hoverinfo": "text",
         "line": {
          "color": "#d59171",
          "shape": "spline",
          "width": 0.25
         },
         "mode": "lines",
         "text": "MySQL/MariaDB<br>666",
         "type": "scatter",
         "uid": "022cf75c-bd42-42df-af94-a701b74daf21",
         "x": [
          -0.8031364073730067,
          -0.830760882731123,
          -0.8572164606373748,
          -0.8824659175557914,
          -0.9064737269871516
         ],
         "y": [
          0.751646134262646,
          0.720996779274225,
          0.6893329671590734,
          0.6566992495445807,
          0.6231415427348936
         ]
        },
        {
         "hoverinfo": "text",
         "line": {
          "color": "#d0805f",
          "shape": "spline",
          "width": 0.25
         },
         "mode": "lines",
         "text": "T-SQL<br>1065",
         "type": "scatter",
         "uid": "71c4bad8-21a5-4497-a799-8a41af406d1d",
         "x": [
          -0.925599785793252,
          -0.9393242510722175,
          -0.9525289308710774,
          -0.9652065182339842,
          -0.9773499978775292,
          -0.9889526500727269,
          -1.0000080543634517,
          -1.0105100931192683,
          -1.0204529549206902,
          -1.0298311377749931,
          -1.0386394521608038,
          -1.0468730238997788
         ],
         "y": [
          0.5943610321509027,
          0.5724246250360112,
          0.550171460413572,
          0.5276138523187482,
          0.5047642832538709,
          0.481635397281108,
          0.4582399930257331,
          0.43459101659386357,
          0.41070155440858985,
          0.3865848259684583,
          0.3622541765323147,
          0.33772306973455796
         ]
        },
        {
         "hoverinfo": "text",
         "line": {
          "color": "#ca6f4c",
          "shape": "spline",
          "width": 0.25
         },
         "mode": "lines",
         "text": "PL/SQL<br>307",
         "type": "scatter",
         "uid": "82360115-d2a4-446b-91ab-2aa0c532183f",
         "x": [
          -1.0569645932362983,
          -1.0608528464584577,
          -1.064560209768104,
          -1.0680860510091124,
          -1.0714297689773518
         ],
         "y": [
          0.30467334744743674,
          0.29084572914345536,
          0.2769685176667026,
          0.26304407927144047,
          0.2490747882647678
         ]
        },
        {
         "hoverinfo": "text",
         "line": {
          "color": "#c45e3a",
          "shape": "spline",
          "width": 0.25
         },
         "mode": "lines",
         "text": "Pentaho<br>522",
         "type": "scatter",
         "uid": "8d14fc5d-f26d-4368-8d57-c6fd267fa8c2",
         "x": [
          -1.0787247112306235,
          -1.0842745173698254,
          -1.088992213075138,
          -1.092874177820802,
          -1.0959174324504164
         ],
         "y": [
          0.2152974625498589,
          0.18533421427904845,
          0.1552287340079579,
          0.1250041257419378,
          0.09468358490935573
         ]
        },
        {
         "hoverinfo": "text",
         "line": {
          "color": "#bf4d28",
          "shape": "spline",
          "width": 0.25
         },
         "mode": "lines",
         "text": "Hadoop<br>627",
         "type": "scatter",
         "uid": "dd31a37c-6c90-4f0d-8ad7-62a5ddece006",
         "x": [
          -1.0983507466276008,
          -1.09978196454493,
          -1.0998771573997748,
          -1.0986362095509947,
          -1.096060628513244
         ],
         "y": [
          0.06021326583562606,
          0.021900467156984196,
          -0.016438936406939116,
          -0.05475836980245835,
          -0.09301128223582746
         ]
        },
        {
         "hoverinfo": "text",
         "line": {
          "color": "#af4624",
          "shape": "spline",
          "width": 0.25
         },
         "mode": "lines",
         "text": "Spark<br>661",
         "type": "scatter",
         "uid": "2da4d953-a6b6-42d7-8015-e1878ccfb068",
         "x": [
          -1.092598233779717,
          -1.0871091077913044,
          -1.0801180431911355,
          -1.0716346987611898,
          -1.061670795001705
         ],
         "y": [
          -0.12739348311998935,
          -0.1679100585349019,
          -0.20819465116316646,
          -0.24819160423151695,
          -0.2878456583665066
         ]
        },
        {
         "hoverinfo": "text",
         "line": {
          "color": "#9f4021",
          "shape": "spline",
          "width": 0.25
         },
         "mode": "lines",
         "text": "Informatica<br>689",
         "type": "scatter",
         "uid": "e54de2f3-06fc-418a-8b84-616d6fe606f5",
         "x": [
          -1.0521054739262705,
          -1.0387589618034825,
          -1.0238262773845443,
          -1.0073302226968792,
          -0.9892959870152883
         ],
         "y": [
          -0.32105150947219974,
          -0.3619113417301971,
          -0.40221853977272864,
          -0.4419115549987984,
          -0.4809297766570986
         ]
        },
        {
         "hoverinfo": "text",
         "line": {
          "color": "#8f391e",
          "shape": "spline",
          "width": 0.25
         },
         "mode": "lines",
         "text": "Qlik<br>1641",
         "type": "scatter",
         "uid": "4eb32b66-3454-4031-b90e-65395de4607c",
         "x": [
          -0.9737014598171981,
          -0.9622721291786218,
          -0.9503821679205199,
          -0.9380372676555392,
          -0.9252433377713516,
          -0.9120065026018855,
          -0.8983330984956636,
          -0.884229670782654,
          -0.869702970641082,
          -0.8547599518657031,
          -0.839407767539089,
          -0.8236537666075125,
          -0.8075054903630778,
          -0.790970668833772,
          -0.7740572170831769,
          -0.7567732314216001,
          -0.7391269855304476,
          -0.7211269265016916,
          -0.7027816707943259,
          -0.6841000001097485
         ],
         "y": [
          -0.5117670047490923,
          -0.532946854204096,
          -0.5538715870115499,
          -0.5745311866986252,
          -0.5949157637092236,
          -0.6150155601380157,
          -0.63482095440146,
          -0.6543224658435621,
          -0.6735107592741764,
          -0.6923766494376751,
          -0.7109111054098417,
          -0.7291052549208911,
          -0.74695038860254,
          -0.7644379641571024,
          -0.7815596104466043,
          -0.7983071314999695,
          -0.8146725104363555,
          -0.8306479133027568,
          -0.8462256928240456,
          -0.8613983920636503
         ]
        },
        {
         "hoverinfo": "text",
         "line": {
          "color": "#f0f3e7",
          "shape": "spline",
          "width": 0.25
         },
         "mode": "lines",
         "text": "Tableau<br>2071",
         "type": "scatter",
         "uid": "72f3abc0-9672-498b-bbc2-c75bf2c79cf2",
         "x": [
          -0.656705260692493,
          -0.6377479566516484,
          -0.6185009194407493,
          -0.5989728931177672,
          -0.5791727493959138,
          -0.5591094836131547,
          -0.538792210645574,
          -0.5182301607664191,
          -0.4974326754527317,
          -0.47640920314144525,
          -0.4551692949369035,
          -0.4337226002717265,
          -0.4120788625230065,
          -0.39024791458583236,
          -0.3682396744061325,
          -0.3460641404748926,
          -0.32373138728576706,
          -0.30125156075817544,
          -0.2786348736279404,
          -0.25589160080757056,
          -0.23303207471830567,
          -0.2100666805960207,
          -0.18700585177315118,
          -0.16386006493875277,
          -0.1406398353788789,
          -0.11735571219940814
         ],
         "y": [
          -0.8824614442449057,
          -0.8962575209093909,
          -0.9096464217765868,
          -0.9226220641791155,
          -0.9351785531956869,
          -0.9473101843292047,
          -0.9590114460983536,
          -0.9702770225415067,
          -0.9811017956317977,
          -0.9914808476022788,
          -1.0014094631800932,
          -1.0108831317286546,
          -1.0198975492968623,
          -1.0284486205744112,
          -1.036532460752323,
          -1.0441453972878365,
          -1.0512839715728728,
          -1.0579449405053003,
          -1.0641252779622998,
          -1.0698221761751525,
          -1.0750330470048268,
          -1.0797555231177887,
          -1.083987459061496,
          -1.0877269322390928,
          -1.090972243782857,
          -1.0937219193260095
         ]
        },
        {
         "hoverinfo": "text",
         "line": {
          "color": "#e2ecde",
          "shape": "spline",
          "width": 0.25
         },
         "mode": "lines",
         "text": "Microstrategy<br>308",
         "type": "scatter",
         "uid": "ebe8cbe8-b444-40bc-8917-6c3b7a1cd20f",
         "x": [
          -0.08294316853328398,
          -0.06853861323535801,
          -0.054122248922963564,
          -0.03969655949600414,
          -0.025264030461074817
         ],
         "y": [
          -1.0968684655844836,
          -1.0978626774309135,
          -1.0986677305589352,
          -1.0992834862601095,
          -1.0997098384414237
         ]
        },
        {
         "hoverinfo": "text",
         "line": {
          "color": "#d4e5d6",
          "shape": "spline",
          "width": 0.25
         },
         "mode": "lines",
         "text": "Oracle BI<br>2576",
         "type": "scatter",
         "uid": "197362b4-adfd-44c1-b1c0-6fa118a37cc9",
         "x": [
          0.009291156604006794,
          0.032334009078085375,
          0.055362667637795834,
          0.07836702321170133,
          0.10133697739683792,
          0.124262446891689,
          0.1471333679225354,
          0.16993970066122338,
          0.19267143363243108,
          0.21531858810848342,
          0.23787122248979287,
          0.2603194366690015,
          0.2826533763769081,
          0.3048632375082783,
          0.3269392704256237,
          0.3488717842390808,
          0.37065115106049645,
          0.3922678102298578,
          0.41371227251220977,
          0.43497512426321994,
          0.4560470315615595,
          0.47691874430628767,
          0.4975811002774446,
          0.5180250291580579,
          0.5382415565158144,
          0.5582218077426371,
          0.5779570119504405,
          0.5974385058213576,
          0.6166577374107431,
          0.6356062699012918,
          0.6542757853066086,
          0.6726580881226247,
          0.6907451089252418
         ],
         "y": [
          -1.0999607603950972,
          -1.0995246754197645,
          -1.098605923446632,
          -1.097204907787482,
          -1.0953222434571814,
          -1.0929587569037043,
          -1.0901154856453383,
          -1.0867936778152392,
          -1.0829947916135256,
          -1.0787204946671634,
          -1.0739726632979125,
          -1.0687533816986656,
          -1.0630649410185316,
          -1.0569098383570716,
          -1.0502907756681295,
          -1.0432106585737324,
          -1.0356725950885874,
          -1.027679894255732,
          -1.019236064693937,
          -1.010344813057501,
          -1.001010042409111,
          -0.9912358505064847,
          -0.9810265280035437,
          -0.9703865565669145,
          -0.9593206069085732,
          -0.9478335367355085,
          -0.9359303886172938,
          -0.9236163877725124,
          -0.9108969397750016,
          -0.8977776281809247,
          -0.8842642120777143,
          -0.870362623555961,
          -0.8560789651053553
         ]
        },
        {
         "hoverinfo": "text",
         "line": {
          "color": "#c6decd",
          "shape": "spline",
          "width": 0.25
         },
         "mode": "lines",
         "text": "Python<br>1598",
         "type": "scatter",
         "uid": "9b53d2d4-fd81-42c0-9ab7-1c89be38fd75",
         "x": [
          0.7172943580360984,
          0.7348631917419464,
          0.7520998017281226,
          0.7689963955092389,
          0.7855453343175642,
          0.8017391365564295,
          0.8175704811825769,
          0.8330322110159242,
          0.8481173359752487,
          0.8628190362383277,
          0.8771306653251064,
          0.8910457531024994,
          0.9045580087094701,
          0.9176613234010579,
          0.930349773310078,
          0.9426176221252373,
          0.9544593236844588,
          0.9658695244822421,
          0.9768430660899245,
          0.987374987487752
         ],
         "y": [
          -0.8339597136130628,
          -0.818520671347303,
          -0.8027115847180224,
          -0.7865396008427029,
          -0.7700120309007558,
          -0.7531363468282161,
          -0.7359201779397613,
          -0.7183713074795797,
          -0.7004976691026511,
          -0.6823073432880256,
          -0.6638085536857268,
          -0.6450096633989292,
          -0.6259191712030863,
          -0.6065457077037304,
          -0.5868980314346665,
          -0.5669850248983334,
          -0.546815690550121,
          -0.5263991467284572,
          -0.5057446235325054,
          -0.4848614586493361
         ]
        },
        {
         "hoverinfo": "text",
         "line": {
          "color": "#b8d7c5",
          "shape": "spline",
          "width": 0.25
         },
         "mode": "lines",
         "text": "VBA<br>625",
         "type": "scatter",
         "uid": "d2a274ac-fada-4c33-8671-97d4000f63aa",
         "x": [
          1.0021176439989443,
          1.0172596443126791,
          1.0311755087385321,
          1.0438484640358872,
          1.0552632350826234
         ],
         "y": [
          -0.4536080109367618,
          -0.4185484632068811,
          -0.38298442550295614,
          -0.3469587643076902,
          -0.31051490251347974
         ]
        },
        {
         "hoverinfo": "text",
         "line": {
          "color": "#aad0bc",
          "shape": "spline",
          "width": 0.25
         },
         "mode": "lines",
         "text": "Linux<br>534",
         "type": "scatter",
         "uid": "069517e5-45f6-4cc4-8f3b-9e26bbde0726",
         "x": [
          1.0644960351708668,
          1.0719684680037034,
          1.0785689748106453,
          1.0842921868202784,
          1.0891334488420328
         ],
         "y": [
          -0.2772150629123622,
          -0.24674603057758315,
          -0.21607629804287534,
          -0.18523081169313754,
          -0.15423466086927257
         ]
        },
        {
         "hoverinfo": "text",
         "line": {
          "color": "#9cc9b4",
          "shape": "spline",
          "width": 0.25
         },
         "mode": "lines",
         "text": "AWS<br>401",
         "type": "scatter",
         "uid": "f16062e3-6d0f-4b3c-9157-83e86772c3a2",
         "x": [
          1.093440655005428,
          1.0955677884936224,
          1.0972799992996856,
          1.0985766389606861,
          1.0994572164023046
         ],
         "y": [
          -0.11994804700911385,
          -0.09864695035931838,
          -0.07730849330366123,
          -0.05594075732274823,
          -0.03455183498594413
         ]
        },
        {
         "hoverinfo": "text",
         "marker": {
          "color": "green",
          "size": 0.5
         },
         "mode": "markers",
         "text": "Power BI appears with Excel 185 times",
         "type": "scatter",
         "uid": "35c93901-1bdd-4dac-b5dd-93952de80569",
         "x": [
          0.8728432934525272
         ],
         "y": [
          0.21941874367278977
         ]
        },
        {
         "hoverinfo": "text",
         "marker": {
          "color": "blue",
          "size": 0.5
         },
         "mode": "markers",
         "text": "Excel appears with Power BI 185 times",
         "type": "scatter",
         "uid": "2ad92329-aa1a-4b5a-98fc-948eb86d0709",
         "x": [
          0.7668923582642889
         ],
         "y": [
          0.4710372711748376
         ]
        },
        {
         "hoverinfo": "text",
         "marker": {
          "color": "green",
          "size": 0.5
         },
         "mode": "markers",
         "text": "Power BI appears with SSIS/SSRS 111 times",
         "type": "scatter",
         "uid": "4cb2d85c-fe9d-4907-b062-c13b040fccfa",
         "x": [
          0.8975502918109154
         ],
         "y": [
          0.06635867441518614
         ]
        },
        {
         "hoverinfo": "text",
         "marker": {
          "color": "blue",
          "size": 0.5
         },
         "mode": "markers",
         "text": "SSIS/SSRS appears with Power BI 111 times",
         "type": "scatter",
         "uid": "4d4bac65-07c8-4f5f-8e82-b5307441a591",
         "x": [
          0.11852211606113879
         ],
         "y": [
          0.8921617050761538
         ]
        },
        {
         "hoverinfo": "text",
         "marker": {
          "color": "green",
          "size": 0.5
         },
         "mode": "markers",
         "text": "Power BI appears with MS SQL Server 117 times",
         "type": "scatter",
         "uid": "a7236dfd-1e1a-442b-beaf-75403f5dd462",
         "x": [
          0.8953578728985796
         ],
         "y": [
          0.09129227480203873
         ]
        },
        {
         "hoverinfo": "text",
         "marker": {
          "color": "blue",
          "size": 0.5
         },
         "mode": "markers",
         "text": "MS SQL Server appears with Power BI 117 times",
         "type": "scatter",
         "uid": "4e748dd9-fa0b-49ba-9798-74ba884d9b69",
         "x": [
          -0.3928120909653197
         ],
         "y": [
          0.8097522220972619
         ]
        },
        {
         "hoverinfo": "text",
         "marker": {
          "color": "green",
          "size": 0.5
         },
         "mode": "markers",
         "text": "Power BI appears with MySQL/MariaDB 5 times",
         "type": "scatter",
         "uid": "2bd43ee7-709f-4913-917d-1d55afa545e8",
         "x": [
          0.8999984934514994
         ],
         "y": [
          0.0016467498387557195
         ]
        },
        {
         "hoverinfo": "text",
         "marker": {
          "color": "blue",
          "size": 0.5
         },
         "mode": "markers",
         "text": "MySQL/MariaDB appears with Power BI 5 times",
         "type": "scatter",
         "uid": "0c454ba3-224f-4588-b112-aa161faa6a2d",
         "x": [
          -0.6587027901811925
         ],
         "y": [
          0.6132785942844506
         ]
        },
        {
         "hoverinfo": "text",
         "marker": {
          "color": "green",
          "size": 0.5
         },
         "mode": "markers",
         "text": "Power BI appears with T-SQL 41 times",
         "type": "scatter",
         "uid": "c28e1715-1174-47fe-b78c-78deb0d16cba",
         "x": [
          0.8993441014994098
         ],
         "y": [
          0.0343538512865638
         ]
        },
        {
         "hoverinfo": "text",
         "marker": {
          "color": "blue",
          "size": 0.5
         },
         "mode": "markers",
         "text": "T-SQL appears with Power BI 41 times",
         "type": "scatter",
         "uid": "db394229-fee6-4119-a393-01d761c7dd11",
         "x": [
          -0.7874004434996853
         ],
         "y": [
          0.43589051558447434
         ]
        },
        {
         "hoverinfo": "text",
         "marker": {
          "color": "green",
          "size": 0.5
         },
         "mode": "markers",
         "text": "Power BI appears with PL/SQL 6 times",
         "type": "scatter",
         "uid": "42c1ab47-a828-472a-a281-59498d0b3efa",
         "x": [
          0.8999913222921603
         ],
         "y": [
          0.003952189116017298
         ]
        },
        {
         "hoverinfo": "text",
         "marker": {
          "color": "blue",
          "size": 0.5
         },
         "mode": "markers",
         "text": "PL/SQL appears with Power BI 6 times",
         "type": "scatter",
         "uid": "be81d28c-6b6b-4fa6-a6eb-78b3ee19e464",
         "x": [
          -0.8655485717721424
         ],
         "y": [
          0.24662860722796232
         ]
        },
        {
         "hoverinfo": "text",
         "marker": {
          "color": "green",
          "size": 0.5
         },
         "mode": "markers",
         "text": "Power BI appears with Pentaho 8 times",
         "type": "scatter",
         "uid": "d543af07-f515-4803-b6ce-ede376dfd720",
         "x": [
          0.8999832606194356
         ],
         "y": [
          0.005489135160405924
         ]
        },
        {
         "hoverinfo": "text",
         "marker": {
          "color": "blue",
          "size": 0.5
         },
         "mode": "markers",
         "text": "Pentaho appears with Power BI 8 times",
         "type": "scatter",
         "uid": "7a30d046-c0ad-4cb3-b016-508c7721f6cc",
         "x": [
          -0.8834060059828557
         ],
         "y": [
          0.17202856911983802
         ]
        },
        {
         "hoverinfo": "text",
         "marker": {
          "color": "green",
          "size": 0.5
         },
         "mode": "markers",
         "text": "Power BI appears with Hadoop 21 times",
         "type": "scatter",
         "uid": "e99fecbb-e85c-49cd-ab7a-57b2c278916d",
         "x": [
          0.8998668846189019
         ],
         "y": [
          0.015478693945934503
         ]
        },
        {
         "hoverinfo": "text",
         "marker": {
          "color": "blue",
          "size": 0.5
         },
         "mode": "markers",
         "text": "Hadoop appears with Power BI 21 times",
         "type": "scatter",
         "uid": "f25e78f3-e56b-4e0b-a839-4e731ea6ba11",
         "x": [
          -0.8992237566359529
         ],
         "y": [
          0.03737158682106787
         ]
        },
        {
         "hoverinfo": "text",
         "marker": {
          "color": "green",
          "size": 0.5
         },
         "mode": "markers",
         "text": "Power BI appears with Spark 26 times",
         "type": "scatter",
         "uid": "1c09503e-e067-4299-a8a8-1b203334aed6",
         "x": [
          0.8997633549709843
         ],
         "y": [
          0.020637467174014774
         ]
        },
        {
         "hoverinfo": "text",
         "marker": {
          "color": "blue",
          "size": 0.5
         },
         "mode": "markers",
         "text": "Spark appears with Power BI 26 times",
         "type": "scatter",
         "uid": "135b6e4a-ee6c-4d01-8b5c-9fb2c20bd014",
         "x": [
          -0.8907473440188857
         ],
         "y": [
          -0.1287212846552623
         ]
        },
        {
         "hoverinfo": "text",
         "marker": {
          "color": "green",
          "size": 0.5
         },
         "mode": "markers",
         "text": "Power BI appears with Informatica 11 times",
         "type": "scatter",
         "uid": "98714cc6-4e34-477d-b7b1-c1b03810459f",
         "x": [
          0.8999681216130258
         ],
         "y": [
          0.007574964047583782
         ]
        },
        {
         "hoverinfo": "text",
         "marker": {
          "color": "blue",
          "size": 0.5
         },
         "mode": "markers",
         "text": "Informatica appears with Power BI 11 times",
         "type": "scatter",
         "uid": "d700493b-2487-4481-8904-8a6d82cdcfa8",
         "x": [
          -0.8584863489369827
         ],
         "y": [
          -0.2701873214805777
         ]
        },
        {
         "hoverinfo": "text",
         "marker": {
          "color": "green",
          "size": 0.5
         },
         "mode": "markers",
         "text": "Power BI appears with Qlik 148 times",
         "type": "scatter",
         "uid": "564a625e-17c7-48a9-bf38-6a4405d46985",
         "x": [
          0.8875348629858494
         ],
         "y": [
          0.14927111905753754
         ]
        },
        {
         "hoverinfo": "text",
         "marker": {
          "color": "blue",
          "size": 0.5
         },
         "mode": "markers",
         "text": "Qlik appears with Power BI 148 times",
         "type": "scatter",
         "uid": "6659d630-a077-432d-ab5a-5f1f3bf669ff",
         "x": [
          -0.7277201720700082
         ],
         "y": [
          -0.5295501403667057
         ]
        },
        {
         "hoverinfo": "text",
         "marker": {
          "color": "green",
          "size": 0.5
         },
         "mode": "markers",
         "text": "Power BI appears with Tableau 160 times",
         "type": "scatter",
         "uid": "99cbe333-6adc-4b76-819a-6827276a6984",
         "x": [
          0.8813017028049089
         ],
         "y": [
          0.18250290034179717
         ]
        },
        {
         "hoverinfo": "text",
         "marker": {
          "color": "blue",
          "size": 0.5
         },
         "mode": "markers",
         "text": "Tableau appears with Power BI 160 times",
         "type": "scatter",
         "uid": "037f043e-ab95-48a7-9719-d58f7e89ddaa",
         "x": [
          -0.35725445064471834
         ],
         "y": [
          -0.8260564493389907
         ]
        },
        {
         "hoverinfo": "text",
         "marker": {
          "color": "green",
          "size": 0.5
         },
         "mode": "markers",
         "text": "Power BI appears with Microstrategy 20 times",
         "type": "scatter",
         "uid": "016ca401-2816-4de4-a4e5-e21a1bb71c89",
         "x": [
          0.899933043100424
         ],
         "y": [
          0.010978066132539804
         ]
        },
        {
         "hoverinfo": "text",
         "marker": {
          "color": "blue",
          "size": 0.5
         },
         "mode": "markers",
         "text": "Microstrategy appears with Power BI 20 times",
         "type": "scatter",
         "uid": "a75043b7-73e5-4381-9e60-462f2d7ef068",
         "x": [
          -0.054545704791737766
         ],
         "y": [
          -0.8983455716419894
         ]
        },
        {
         "hoverinfo": "text",
         "marker": {
          "color": "green",
          "size": 0.5
         },
         "mode": "markers",
         "text": "Power BI appears with Oracle BI 134 times",
         "type": "scatter",
         "uid": "13d2c1b3-9834-4181-8f67-0899ad55f021",
         "x": [
          0.892143548803807
         ],
         "y": [
          0.11865870523374712
         ]
        },
        {
         "hoverinfo": "text",
         "marker": {
          "color": "blue",
          "size": 0.5
         },
         "mode": "markers",
         "text": "Oracle BI appears with Power BI 134 times",
         "type": "scatter",
         "uid": "b8d70ffa-e3f7-4106-b938-51b0140c3abc",
         "x": [
          0.18408776317947192
         ],
         "y": [
          -0.880972017403265
         ]
        },
        {
         "hoverinfo": "text",
         "marker": {
          "color": "green",
          "size": 0.5
         },
         "mode": "markers",
         "text": "Power BI appears with Python 70 times",
         "type": "scatter",
         "uid": "15c24d4c-b590-4522-be25-2d4d0f62b38d",
         "x": [
          0.8987965290236303
         ],
         "y": [
          0.046527404989689616
         ]
        },
        {
         "hoverinfo": "text",
         "marker": {
          "color": "blue",
          "size": 0.5
         },
         "mode": "markers",
         "text": "Python appears with Power BI 70 times",
         "type": "scatter",
         "uid": "7e0e0085-de71-46bf-afcc-d32d22a9adb1",
         "x": [
          0.6421737854384582
         ],
         "y": [
          -0.6305654837490244
         ]
        },
        {
         "hoverinfo": "text",
         "marker": {
          "color": "green",
          "size": 0.5
         },
         "mode": "markers",
         "text": "Power BI appears with VBA 29 times",
         "type": "scatter",
         "uid": "60d0cc66-7d76-48f9-8bf9-0f5b8f464583",
         "x": [
          0.8996046502492878
         ],
         "y": [
          0.02667345590388729
         ]
        },
        {
         "hoverinfo": "text",
         "marker": {
          "color": "blue",
          "size": 0.5
         },
         "mode": "markers",
         "text": "VBA appears with Power BI 29 times",
         "type": "scatter",
         "uid": "7cb3aa69-a6fa-4d42-8611-1b699c5516a3",
         "x": [
          0.8286230726777717
         ],
         "y": [
          -0.35126030721681084
         ]
        },
        {
         "hoverinfo": "text",
         "marker": {
          "color": "green",
          "size": 0.5
         },
         "mode": "markers",
         "text": "Power BI appears with Linux 5 times",
         "type": "scatter",
         "uid": "b908ede0-d70c-455a-a874-7e41833fc551",
         "x": [
          0.8999998326056806
         ],
         "y": [
          0.0005489168851720837
         ]
        },
        {
         "hoverinfo": "text",
         "marker": {
          "color": "blue",
          "size": 0.5
         },
         "mode": "markers",
         "text": "Linux appears with Power BI 5 times",
         "type": "scatter",
         "uid": "6b1df5cc-de25-44ca-b55f-f9fe0ce9a61e",
         "x": [
          0.8713617425258163
         ],
         "y": [
          -0.22523035688461912
         ]
        },
        {
         "hoverinfo": "text",
         "marker": {
          "color": "green",
          "size": 0.5
         },
         "mode": "markers",
         "text": "Power BI appears with AWS 5 times",
         "type": "scatter",
         "uid": "3b7bf431-7f64-4f2a-b129-2a47586d0bcc",
         "x": [
          0.8999958151451295
         ],
         "y": [
          0.002744580342058975
         ]
        },
        {
         "hoverinfo": "text",
         "marker": {
          "color": "blue",
          "size": 0.5
         },
         "mode": "markers",
         "text": "AWS appears with Power BI 5 times",
         "type": "scatter",
         "uid": "4df5e950-2d51-42a9-a165-ab2ff91398f9",
         "x": [
          0.8949059654949604
         ],
         "y": [
          -0.09562067204079273
         ]
        },
        {
         "hoverinfo": "text",
         "marker": {
          "color": "green",
          "size": 0.5
         },
         "mode": "markers",
         "text": "Excel appears with SSIS/SSRS 520 times",
         "type": "scatter",
         "uid": "522c6402-37f8-4d38-856f-4486d470801e",
         "x": [
          0.4470565255520564
         ],
         "y": [
          0.7811148846112994
         ]
        },
        {
         "hoverinfo": "text",
         "marker": {
          "color": "blue",
          "size": 0.5
         },
         "mode": "markers",
         "text": "SSIS/SSRS appears with Excel 520 times",
         "type": "scatter",
         "uid": "2c172da0-e7a3-4c27-b895-02ca91ca57da",
         "x": [
          -0.1529371251140747
         ],
         "y": [
          0.8869105004237134
         ]
        },
        {
         "hoverinfo": "text",
         "marker": {
          "color": "green",
          "size": 0.5
         },
         "mode": "markers",
         "text": "Excel appears with MS SQL Server 244 times",
         "type": "scatter",
         "uid": "5b6b832b-650b-44f3-9e31-547af675dd63",
         "x": [
          0.7079708832754121
         ],
         "y": [
          0.5556772700356143
         ]
        },
        {
         "hoverinfo": "text",
         "marker": {
          "color": "blue",
          "size": 0.5
         },
         "mode": "markers",
         "text": "MS SQL Server appears with Excel 244 times",
         "type": "scatter",
         "uid": "5dcffbb4-7d08-4931-bad1-62e3f8dc6c9f",
         "x": [
          -0.5350618158472533
         ],
         "y": [
          0.7236773129111069
         ]
        },
        {
         "hoverinfo": "text",
         "marker": {
          "color": "green",
          "size": 0.5
         },
         "mode": "markers",
         "text": "Excel appears with PostgreSQL 60 times",
         "type": "scatter",
         "uid": "aa0550d9-5836-4e7b-9a41-b70ffd531b65",
         "x": [
          0.8474120871996277
         ],
         "y": [
          0.3031381771865278
         ]
        },
        {
         "hoverinfo": "text",
         "marker": {
          "color": "blue",
          "size": 0.5
         },
         "mode": "markers",
         "text": "PostgreSQL appears with Excel 60 times",
         "type": "scatter",
         "uid": "4f31150a-1a33-47a4-ae24-56ae767e3bb9",
         "x": [
          -0.6150077526023582
         ],
         "y": [
          0.6570886273852231
         ]
        },
        {
         "hoverinfo": "text",
         "marker": {
          "color": "green",
          "size": 0.5
         },
         "mode": "markers",
         "text": "Excel appears with MySQL/MariaDB 103 times",
         "type": "scatter",
         "uid": "05dabb89-bbef-4a62-a062-b85d6086c8dd",
         "x": [
          0.8150908670164922
         ],
         "y": [
          0.38161089935470005
         ]
        },
        {
         "hoverinfo": "text",
         "marker": {
          "color": "blue",
          "size": 0.5
         },
         "mode": "markers",
         "text": "MySQL/MariaDB appears with Excel 103 times",
         "type": "scatter",
         "uid": "81900e01-076a-4b89-8c68-3561710c08b8",
         "x": [
          -0.7356948442561486
         ],
         "y": [
          0.518414020002277
         ]
        },
        {
         "hoverinfo": "text",
         "marker": {
          "color": "green",
          "size": 0.5
         },
         "mode": "markers",
         "text": "Excel appears with T-SQL 170 times",
         "type": "scatter",
         "uid": "cf71a27c-52ce-463e-ab5e-276ca47694d4",
         "x": [
          0.7881051254533279
         ],
         "y": [
          0.4346151300106732
         ]
        },
        {
         "hoverinfo": "text",
         "marker": {
          "color": "blue",
          "size": 0.5
         },
         "mode": "markers",
         "text": "T-SQL appears with Excel 170 times",
         "type": "scatter",
         "uid": "667c0b36-d8f0-45d9-bd0d-06e6946585a2",
         "x": [
          -0.8506434925184503
         ],
         "y": [
          0.29394837750192365
         ]
        },
        {
         "hoverinfo": "text",
         "marker": {
          "color": "green",
          "size": 0.5
         },
         "mode": "markers",
         "text": "Excel appears with PL/SQL 52 times",
         "type": "scatter",
         "uid": "fdc1278e-a281-412e-977d-8a2fdab46235",
         "x": [
          0.8517987772509781
         ],
         "y": [
          0.2905836249235986
         ]
        },
        {
         "hoverinfo": "text",
         "marker": {
          "color": "blue",
          "size": 0.5
         },
         "mode": "markers",
         "text": "PL/SQL appears with Excel 52 times",
         "type": "scatter",
         "uid": "9346e472-1eeb-43ba-b871-29a504ad8e99",
         "x": [
          -0.872955946884311
         ],
         "y": [
          0.21897012307462432
         ]
        },
        {
         "hoverinfo": "text",
         "marker": {
          "color": "green",
          "size": 0.5
         },
         "mode": "markers",
         "text": "Excel appears with Pentaho 62 times",
         "type": "scatter",
         "uid": "ce218721-8c16-49ce-8d6c-968d952b9a9e",
         "x": [
          0.8424232151639691
         ],
         "y": [
          0.31673826190215953
         ]
        },
        {
         "hoverinfo": "text",
         "marker": {
          "color": "blue",
          "size": 0.5
         },
         "mode": "markers",
         "text": "Pentaho appears with Excel 62 times",
         "type": "scatter",
         "uid": "6b5d81e1-19c3-4ecc-8cbe-925d5f5b5dc8",
         "x": [
          -0.8961304923129185
         ],
         "y": [
          0.08336750414283997
         ]
        },
        {
         "hoverinfo": "text",
         "marker": {
          "color": "green",
          "size": 0.5
         },
         "mode": "markers",
         "text": "Excel appears with Hadoop 72 times",
         "type": "scatter",
         "uid": "ba76ca51-7801-4513-99a5-1f5da2ad6c7e",
         "x": [
          0.8306996336441738
         ],
         "y": [
          0.34632083198016766
         ]
        },
        {
         "hoverinfo": "text",
         "marker": {
          "color": "blue",
          "size": 0.5
         },
         "mode": "markers",
         "text": "Hadoop appears with Excel 72 times",
         "type": "scatter",
         "uid": "397aeabf-b31b-43e2-a8c9-6e7e1ccd8b2a",
         "x": [
          -0.8999803605253202
         ],
         "y": [
          -0.005945642834438023
         ]
        },
        {
         "hoverinfo": "text",
         "marker": {
          "color": "green",
          "size": 0.5
         },
         "mode": "markers",
         "text": "Excel appears with Spark 75 times",
         "type": "scatter",
         "uid": "e5def1eb-55ac-4f38-a0d1-2e4495af8f60",
         "x": [
          0.8238271600661907
         ],
         "y": [
          0.36236557554115845
         ]
        },
        {
         "hoverinfo": "text",
         "marker": {
          "color": "blue",
          "size": 0.5
         },
         "mode": "markers",
         "text": "Spark appears with Excel 75 times",
         "type": "scatter",
         "uid": "fc27d64f-7197-4959-93e9-dbb8022edf65",
         "x": [
          -0.8819634300896335
         ],
         "y": [
          -0.179277739790885
         ]
        },
        {
         "hoverinfo": "text",
         "marker": {
          "color": "green",
          "size": 0.5
         },
         "mode": "markers",
         "text": "Excel appears with Informatica 114 times",
         "type": "scatter",
         "uid": "8845376c-69ec-4559-b379-401d28f85025",
         "x": [
          0.8038329025343708
         ],
         "y": [
          0.4047871845836635
         ]
        },
        {
         "hoverinfo": "text",
         "marker": {
          "color": "blue",
          "size": 0.5
         },
         "mode": "markers",
         "text": "Informatica appears with Excel 114 times",
         "type": "scatter",
         "uid": "116dfe85-4135-4978-8cd5-016fcc82fe16",
         "x": [
          -0.8248954089579641
         ],
         "y": [
          -0.35992716524329355
         ]
        },
        {
         "hoverinfo": "text",
         "marker": {
          "color": "green",
          "size": 0.5
         },
         "mode": "markers",
         "text": "Excel appears with Qlik 370 times",
         "type": "scatter",
         "uid": "d69395fd-d819-489b-b2c7-970e2fa7dc02",
         "x": [
          0.6085397638661124
         ],
         "y": [
          0.6630832193577034
         ]
        },
        {
         "hoverinfo": "text",
         "marker": {
          "color": "blue",
          "size": 0.5
         },
         "mode": "markers",
         "text": "Qlik appears with Excel 370 times",
         "type": "scatter",
         "uid": "d9f023ee-d1b9-4021-b56c-dc4e6286d17b",
         "x": [
          -0.5921213908851946
         ],
         "y": [
          -0.677784817221648
         ]
        },
        {
         "hoverinfo": "text",
         "marker": {
          "color": "green",
          "size": 0.5
         },
         "mode": "markers",
         "text": "Excel appears with Tableau 399 times",
         "type": "scatter",
         "uid": "fed83ba1-123e-4d54-babf-255d9f9b911a",
         "x": [
          0.5382509667316222
         ],
         "y": [
          0.7213084616254507
         ]
        },
        {
         "hoverinfo": "text",
         "marker": {
          "color": "blue",
          "size": 0.5
         },
         "mode": "markers",
         "text": "Tableau appears with Excel 399 times",
         "type": "scatter",
         "uid": "714b8240-bd7c-459a-b509-8af485e2d1f9",
         "x": [
          -0.14180652063921995
         ],
         "y": [
          -0.8887580720894739
         ]
        },
        {
         "hoverinfo": "text",
         "marker": {
          "color": "green",
          "size": 0.5
         },
         "mode": "markers",
         "text": "Excel appears with Microstrategy 36 times",
         "type": "scatter",
         "uid": "b323067c-5bdd-40a9-bf37-60ab87f7fdb5",
         "x": [
          0.8584587779829493
         ],
         "y": [
          0.2702749091277644
         ]
        },
        {
         "hoverinfo": "text",
         "marker": {
          "color": "blue",
          "size": 0.5
         },
         "mode": "markers",
         "text": "Microstrategy appears with Excel 36 times",
         "type": "scatter",
         "uid": "7341c9fa-968d-40a0-9142-644b0c9d581b",
         "x": [
          -0.038457890465914614
         ],
         "y": [
          -0.8991779527217689
         ]
        },
        {
         "hoverinfo": "text",
         "marker": {
          "color": "green",
          "size": 0.5
         },
         "mode": "markers",
         "text": "Excel appears with Oracle BI 547 times",
         "type": "scatter",
         "uid": "8c8d7a53-0451-4774-a2a2-38077bf85655",
         "x": [
          0.33303626863977925
         ],
         "y": [
          0.836114133220156
         ]
        },
        {
         "hoverinfo": "text",
         "marker": {
          "color": "blue",
          "size": 0.5
         },
         "mode": "markers",
         "text": "Oracle BI appears with Excel 547 times",
         "type": "scatter",
         "uid": "22ea29d9-31a1-408b-a799-59fac418b958",
         "x": [
          0.5139056328258388
         ],
         "y": [
          -0.7388511355813661
         ]
        },
        {
         "hoverinfo": "text",
         "marker": {
          "color": "green",
          "size": 0.5
         },
         "mode": "markers",
         "text": "Excel appears with Python 310 times",
         "type": "scatter",
         "uid": "0a7a1d98-e633-40d5-804f-ba28d9485a77",
         "x": [
          0.6655013804243566
         ],
         "y": [
          0.6058943081538858
         ]
        },
        {
         "hoverinfo": "text",
         "marker": {
          "color": "blue",
          "size": 0.5
         },
         "mode": "markers",
         "text": "Python appears with Excel 310 times",
         "type": "scatter",
         "uid": "e1aa78ba-32b1-4585-9041-57e3739155bb",
         "x": [
          0.7916908820596317
         ],
         "y": [
          -0.4280485337711631
         ]
        },
        {
         "hoverinfo": "text",
         "marker": {
          "color": "green",
          "size": 0.5
         },
         "mode": "markers",
         "text": "Excel appears with VBA 220 times",
         "type": "scatter",
         "uid": "43130ae5-60d8-4649-bc27-de1e506ac379",
         "x": [
          0.7406406680059054
         ],
         "y": [
          0.5113231863467235
         ]
        },
        {
         "hoverinfo": "text",
         "marker": {
          "color": "blue",
          "size": 0.5
         },
         "mode": "markers",
         "text": "VBA appears with Excel 220 times",
         "type": "scatter",
         "uid": "6b8f365a-7db7-4a26-bd52-40135283a3c6",
         "x": [
          0.8569300725152518
         ],
         "y": [
          -0.27508335249339494
         ]
        },
        {
         "hoverinfo": "text",
         "marker": {
          "color": "green",
          "size": 0.5
         },
         "mode": "markers",
         "text": "Excel appears with Linux 67 times",
         "type": "scatter",
         "uid": "6571902c-5333-4ecd-9080-7acfd706aafd",
         "x": [
          0.8369107297807342
         ],
         "y": [
          0.33102934972276854
         ]
        },
        {
         "hoverinfo": "text",
         "marker": {
          "color": "blue",
          "size": 0.5
         },
         "mode": "markers",
         "text": "Linux appears with Excel 67 times",
         "type": "scatter",
         "uid": "1dde9730-f550-43d6-afb3-9edef8b54519",
         "x": [
          0.8852021918771881
         ],
         "y": [
          -0.16253331810992502
         ]
        },
        {
         "hoverinfo": "text",
         "marker": {
          "color": "green",
          "size": 0.5
         },
         "mode": "markers",
         "text": "Excel appears with AWS 46 times",
         "type": "scatter",
         "uid": "7442b2e2-abe6-408b-ad3c-4bd7583009ba",
         "x": [
          0.855484595813617
         ],
         "y": [
          0.27954625078081863
         ]
        },
        {
         "hoverinfo": "text",
         "marker": {
          "color": "blue",
          "size": 0.5
         },
         "mode": "markers",
         "text": "AWS appears with Excel 46 times",
         "type": "scatter",
         "uid": "efe54504-7d51-4758-b1da-6df7a9b9a0a8",
         "x": [
          0.8988287584902129
         ],
         "y": [
          -0.045900576368303914
         ]
        },
        {
         "hoverinfo": "text",
         "marker": {
          "color": "green",
          "size": 0.5
         },
         "mode": "markers",
         "text": "SSIS/SSRS appears with MS SQL Server 239 times",
         "type": "scatter",
         "uid": "7a8cdc81-9662-408f-9f2f-de45dcb66a28",
         "x": [
          -0.06593167937152651
         ],
         "y": [
          0.8975817587580812
         ]
        },
        {
         "hoverinfo": "text",
         "marker": {
          "color": "blue",
          "size": 0.5
         },
         "mode": "markers",
         "text": "MS SQL Server appears with SSIS/SSRS 239 times",
         "type": "scatter",
         "uid": "51739875-c9c0-45e3-a55a-00c7ffd19c8d",
         "x": [
          -0.4899543495138618
         ],
         "y": [
          0.7549468427594413
         ]
        },
        {
         "hoverinfo": "text",
         "marker": {
          "color": "green",
          "size": 0.5
         },
         "mode": "markers",
         "text": "SSIS/SSRS appears with PostgreSQL 37 times",
         "type": "scatter",
         "uid": "4523149e-b57f-4855-b8c0-d89e6633edad",
         "x": [
          0.20463834026029165
         ],
         "y": [
          0.8764263515524354
         ]
        },
        {
         "hoverinfo": "text",
         "marker": {
          "color": "blue",
          "size": 0.5
         },
         "mode": "markers",
         "text": "PostgreSQL appears with SSIS/SSRS 37 times",
         "type": "scatter",
         "uid": "4ee7ad6d-f5cc-4af3-b631-e01e5caed6b9",
         "x": [
          -0.5977056181897192
         ],
         "y": [
          0.672865509581555
         ]
        },
        {
         "hoverinfo": "text",
         "marker": {
          "color": "green",
          "size": 0.5
         },
         "mode": "markers",
         "text": "SSIS/SSRS appears with MySQL/MariaDB 62 times",
         "type": "scatter",
         "uid": "fb64faff-181f-4063-84f6-2d5e5073b864",
         "x": [
          0.1848990854946527
         ],
         "y": [
          0.8808020936528485
         ]
        },
        {
         "hoverinfo": "text",
         "marker": {
          "color": "blue",
          "size": 0.5
         },
         "mode": "markers",
         "text": "MySQL/MariaDB appears with SSIS/SSRS 62 times",
         "type": "scatter",
         "uid": "afc50332-450b-457b-8f06-cc7d2b3d5462",
         "x": [
          -0.7070408924692061
         ],
         "y": [
          0.55686010485251
         ]
        },
        {
         "hoverinfo": "text",
         "marker": {
          "color": "green",
          "size": 0.5
         },
         "mode": "markers",
         "text": "SSIS/SSRS appears with T-SQL 113 times",
         "type": "scatter",
         "uid": "7047b6c2-d8ab-48ec-a1cd-93e71e2833a5",
         "x": [
          0.09282190140808622
         ],
         "y": [
          0.8952005890407957
         ]
        },
        {
         "hoverinfo": "text",
         "marker": {
          "color": "blue",
          "size": 0.5
         },
         "mode": "markers",
         "text": "T-SQL appears with SSIS/SSRS 113 times",
         "type": "scatter",
         "uid": "f81fe399-d910-4e0d-a162-729f2bb387bd",
         "x": [
          -0.8155809769859681
         ],
         "y": [
          0.3805623076167868
         ]
        },
        {
         "hoverinfo": "text",
         "marker": {
          "color": "green",
          "size": 0.5
         },
         "mode": "markers",
         "text": "SSIS/SSRS appears with PL/SQL 30 times",
         "type": "scatter",
         "uid": "9b7bf1e2-d302-4fcd-973d-a659caaead62",
         "x": [
          0.2262877681739399
         ],
         "y": [
          0.8710877372428435
         ]
        },
        {
         "hoverinfo": "text",
         "marker": {
          "color": "blue",
          "size": 0.5
         },
         "mode": "markers",
         "text": "PL/SQL appears with SSIS/SSRS 30 times",
         "type": "scatter",
         "uid": "ea406209-692e-4056-969c-a00e89739e49",
         "x": [
          -0.8702081272043438
         ],
         "y": [
          0.22964715401569546
         ]
        },
        {
         "hoverinfo": "text",
         "marker": {
          "color": "green",
          "size": 0.5
         },
         "mode": "markers",
         "text": "SSIS/SSRS appears with Pentaho 32 times",
         "type": "scatter",
         "uid": "5180423b-fe5b-427a-8621-01170f7396af",
         "x": [
          0.21239340992219433
         ],
         "y": [
          0.8745793499858219
         ]
        },
        {
         "hoverinfo": "text",
         "marker": {
          "color": "blue",
          "size": 0.5
         },
         "mode": "markers",
         "text": "Pentaho appears with SSIS/SSRS 32 times",
         "type": "scatter",
         "uid": "70c38c6c-8762-4a81-af2f-aefb396b9500",
         "x": [
          -0.8866954798046414
         ],
         "y": [
          0.1541788769384991
         ]
        },
        {
         "hoverinfo": "text",
         "marker": {
          "color": "green",
          "size": 0.5
         },
         "mode": "markers",
         "text": "SSIS/SSRS appears with Hadoop 31 times",
         "type": "scatter",
         "uid": "359b43f8-14ec-4431-b75d-ef59548f5c4f",
         "x": [
          0.21945958732303134
         ],
         "y": [
          0.8728330250007758
         ]
        },
        {
         "hoverinfo": "text",
         "marker": {
          "color": "blue",
          "size": 0.5
         },
         "mode": "markers",
         "text": "Hadoop appears with SSIS/SSRS 31 times",
         "type": "scatter",
         "uid": "f8356c3a-73e3-4c28-a60f-de6957e9dbe9",
         "x": [
          -0.8996076679517926
         ],
         "y": [
          0.02657148400705576
         ]
        },
        {
         "hoverinfo": "text",
         "marker": {
          "color": "green",
          "size": 0.5
         },
         "mode": "markers",
         "text": "SSIS/SSRS appears with Spark 38 times",
         "type": "scatter",
         "uid": "729e3032-d667-43df-9bb3-463181fc2a81",
         "x": [
          0.19619072589537995
         ],
         "y": [
          0.8783559637599349
         ]
        },
        {
         "hoverinfo": "text",
         "marker": {
          "color": "blue",
          "size": 0.5
         },
         "mode": "markers",
         "text": "Spark appears with SSIS/SSRS 38 times",
         "type": "scatter",
         "uid": "03741baa-2a6a-402f-918a-46f8340c5a50",
         "x": [
          -0.8877934525160015
         ],
         "y": [
          -0.14772537246430725
         ]
        },
        {
         "hoverinfo": "text",
         "marker": {
          "color": "green",
          "size": 0.5
         },
         "mode": "markers",
         "text": "SSIS/SSRS appears with Informatica 65 times",
         "type": "scatter",
         "uid": "82700c15-c62c-4737-852f-0c7c500b4e34",
         "x": [
          0.1705150222600729
         ],
         "y": [
          0.8836993986552479
         ]
        },
        {
         "hoverinfo": "text",
         "marker": {
          "color": "blue",
          "size": 0.5
         },
         "mode": "markers",
         "text": "Informatica appears with SSIS/SSRS 65 times",
         "type": "scatter",
         "uid": "25fefbf3-30f2-442e-af33-b8d056f876a4",
         "x": [
          -0.8437951394564541
         ],
         "y": [
          -0.31306510924991815
         ]
        },
        {
         "hoverinfo": "text",
         "marker": {
          "color": "green",
          "size": 0.5
         },
         "mode": "markers",
         "text": "SSIS/SSRS appears with Qlik 73 times",
         "type": "scatter",
         "uid": "94d6e30b-e015-433f-8726-abe897aa3f35",
         "x": [
          0.13956063936257176
         ],
         "y": [
          0.8891135067811704
         ]
        },
        {
         "hoverinfo": "text",
         "marker": {
          "color": "blue",
          "size": 0.5
         },
         "mode": "markers",
         "text": "Qlik appears with SSIS/SSRS 73 times",
         "type": "scatter",
         "uid": "d081442e-3032-4c9d-ad10-f3aa2337bd56",
         "x": [
          -0.7539161728018842
         ],
         "y": [
          -0.4915388126971863
         ]
        },
        {
         "hoverinfo": "text",
         "marker": {
          "color": "green",
          "size": 0.5
         },
         "mode": "markers",
         "text": "SSIS/SSRS appears with Tableau 136 times",
         "type": "scatter",
         "uid": "c8227146-040a-4471-8ee1-7da953086040",
         "x": [
          0.06416421447309863
         ],
         "y": [
          0.8977098381888494
         ]
        },
        {
         "hoverinfo": "text",
         "marker": {
          "color": "blue",
          "size": 0.5
         },
         "mode": "markers",
         "text": "Tableau appears with SSIS/SSRS 136 times",
         "type": "scatter",
         "uid": "8fe65f20-484e-40ca-b7d4-15d9aaf71a33",
         "x": [
          -0.38844461712721906
         ],
         "y": [
          -0.8118563785700573
         ]
        },
        {
         "hoverinfo": "text",
         "marker": {
          "color": "green",
          "size": 0.5
         },
         "mode": "markers",
         "text": "SSIS/SSRS appears with Microstrategy 25 times",
         "type": "scatter",
         "uid": "ee6edc68-454f-4596-8e48-bdcb3448ca6d",
         "x": [
          0.2384541201720734
         ],
         "y": [
          0.8678361784190392
         ]
        },
        {
         "hoverinfo": "text",
         "marker": {
          "color": "blue",
          "size": 0.5
         },
         "mode": "markers",
         "text": "Microstrategy appears with SSIS/SSRS 25 times",
         "type": "scatter",
         "uid": "aa89674b-782a-40c0-9d56-59f1ecc6063b",
         "x": [
          -0.047882578690670176
         ],
         "y": [
          -0.8987253521838202
         ]
        },
        {
         "hoverinfo": "text",
         "marker": {
          "color": "green",
          "size": 0.5
         },
         "mode": "markers",
         "text": "SSIS/SSRS appears with Oracle BI 232 times",
         "type": "scatter",
         "uid": "157c5dd0-9fd3-4776-ae0f-9c3a39b02733",
         "x": [
          -0.011572845140238
         ],
         "y": [
          0.8999255909548078
         ]
        },
        {
         "hoverinfo": "text",
         "marker": {
          "color": "blue",
          "size": 0.5
         },
         "mode": "markers",
         "text": "Oracle BI appears with SSIS/SSRS 232 times",
         "type": "scatter",
         "uid": "ef4b5afc-f866-44a1-b1f2-1861d750df32",
         "x": [
          0.2915424370897071
         ],
         "y": [
          -0.8514710842863628
         ]
        },
        {
         "hoverinfo": "text",
         "marker": {
          "color": "green",
          "size": 0.5
         },
         "mode": "markers",
         "text": "SSIS/SSRS appears with Python 144 times",
         "type": "scatter",
         "uid": "93b58cf9-3893-4e5b-978b-1691c928d6f8",
         "x": [
          0.031861851780850936
         ],
         "y": [
          0.8994358356220276
         ]
        },
        {
         "hoverinfo": "text",
         "marker": {
          "color": "blue",
          "size": 0.5
         },
         "mode": "markers",
         "text": "Python appears with SSIS/SSRS 144 times",
         "type": "scatter",
         "uid": "8a27df7c-8dcf-44e9-955c-b2b6c20b5758",
         "x": [
          0.7658360861524124
         ],
         "y": [
          -0.4727526722788089
         ]
        },
        {
         "hoverinfo": "text",
         "marker": {
          "color": "green",
          "size": 0.5
         },
         "mode": "markers",
         "text": "SSIS/SSRS appears with VBA 67 times",
         "type": "scatter",
         "uid": "db315052-174b-4898-b794-92f18f118cc7",
         "x": [
          0.15551667658537416
         ],
         "y": [
          0.8864618228123758
         ]
        },
        {
         "hoverinfo": "text",
         "marker": {
          "color": "blue",
          "size": 0.5
         },
         "mode": "markers",
         "text": "VBA appears with SSIS/SSRS 67 times",
         "type": "scatter",
         "uid": "6b630135-99d9-428a-ad3e-8d9bcbc57b57",
         "x": [
          0.8477245039526858
         ],
         "y": [
          -0.3022634040008361
         ]
        },
        {
         "hoverinfo": "text",
         "marker": {
          "color": "green",
          "size": 0.5
         },
         "mode": "markers",
         "text": "SSIS/SSRS appears with Linux 16 times",
         "type": "scatter",
         "uid": "bc0e508f-1476-482c-ba4f-86558d45db39",
         "x": [
          0.2430184987590092
         ],
         "y": [
          0.8665691024153339
         ]
        },
        {
         "hoverinfo": "text",
         "marker": {
          "color": "blue",
          "size": 0.5
         },
         "mode": "markers",
         "text": "Linux appears with SSIS/SSRS 16 times",
         "type": "scatter",
         "uid": "838d3d33-7aaa-4ad7-a85d-69e3b5c3617a",
         "x": [
          0.8730915461934354
         ],
         "y": [
          -0.21842882585766032
         ]
        },
        {
         "hoverinfo": "text",
         "marker": {
          "color": "green",
          "size": 0.5
         },
         "mode": "markers",
         "text": "SSIS/SSRS appears with AWS 27 times",
         "type": "scatter",
         "uid": "f3513a57-1f8f-4b40-be04-0f2be08199ee",
         "x": [
          0.23265566654765582
         ],
         "y": [
          0.8694086155676547
         ]
        },
        {
         "hoverinfo": "text",
         "marker": {
          "color": "blue",
          "size": 0.5
         },
         "mode": "markers",
         "text": "AWS appears with SSIS/SSRS 27 times",
         "type": "scatter",
         "uid": "c846bf53-8bb1-4796-ac39-bef6b1f4cea9",
         "x": [
          0.8964088131400726
         ],
         "y": [
          -0.08031960983972976
         ]
        },
        {
         "hoverinfo": "text",
         "marker": {
          "color": "green",
          "size": 0.5
         },
         "mode": "markers",
         "text": "MS SQL Server appears with PostgreSQL 64 times",
         "type": "scatter",
         "uid": "e24f1e7e-dff1-4f2b-9e62-9f7718185416",
         "x": [
          -0.3167090019492139
         ],
         "y": [
          0.842434215879396
         ]
        },
        {
         "hoverinfo": "text",
         "marker": {
          "color": "blue",
          "size": 0.5
         },
         "mode": "markers",
         "text": "PostgreSQL appears with MS SQL Server 64 times",
         "type": "scatter",
         "uid": "986fb357-8b18-41a5-9c2a-20e5be1f7373",
         "x": [
          -0.623144748114608
         ],
         "y": [
          0.6493771037672808
         ]
        },
        {
         "hoverinfo": "text",
         "marker": {
          "color": "green",
          "size": 0.5
         },
         "mode": "markers",
         "text": "MS SQL Server appears with MySQL/MariaDB 75 times",
         "type": "scatter",
         "uid": "4213b1cc-4de4-4d60-a83c-5e86e9e88425",
         "x": [
          -0.33144677849876036
         ],
         "y": [
          0.8367455007484615
         ]
        },
        {
         "hoverinfo": "text",
         "marker": {
          "color": "blue",
          "size": 0.5
         },
         "mode": "markers",
         "text": "MySQL/MariaDB appears with MS SQL Server 75 times",
         "type": "scatter",
         "uid": "bf1985d4-af0e-4f4a-9837-e4060990e08c",
         "x": [
          -0.7155504059609602
         ],
         "y": [
          0.5458824200586652
         ]
        },
        {
         "hoverinfo": "text",
         "marker": {
          "color": "green",
          "size": 0.5
         },
         "mode": "markers",
         "text": "MS SQL Server appears with T-SQL 158 times",
         "type": "scatter",
         "uid": "926f4cab-613b-4978-9a5b-ae5d5b51f83d",
         "x": [
          -0.45150636749367845
         ],
         "y": [
          0.7785512186829222
         ]
        },
        {
         "hoverinfo": "text",
         "marker": {
          "color": "blue",
          "size": 0.5
         },
         "mode": "markers",
         "text": "T-SQL appears with MS SQL Server 158 times",
         "type": "scatter",
         "uid": "7fc64ac6-e822-4be3-b2e6-d0cc243c103b",
         "x": [
          -0.838258232677908
         ],
         "y": [
          0.32760209911981664
         ]
        },
        {
         "hoverinfo": "text",
         "marker": {
          "color": "green",
          "size": 0.5
         },
         "mode": "markers",
         "text": "MS SQL Server appears with PL/SQL 10 times",
         "type": "scatter",
         "uid": "75e27dcc-2b2e-49c6-8784-42ec8cf69624",
         "x": [
          -0.2421956221681435
         ],
         "y": [
          0.8667994465864558
         ]
        },
        {
         "hoverinfo": "text",
         "marker": {
          "color": "blue",
          "size": 0.5
         },
         "mode": "markers",
         "text": "PL/SQL appears with MS SQL Server 10 times",
         "type": "scatter",
         "uid": "3a9782cd-24b5-4b81-bdfb-b2085f8a81b7",
         "x": [
          -0.86621674283689
         ],
         "y": [
          0.24427147690438453
         ]
        },
        {
         "hoverinfo": "text",
         "marker": {
          "color": "green",
          "size": 0.5
         },
         "mode": "markers",
         "text": "MS SQL Server appears with Pentaho 44 times",
         "type": "scatter",
         "uid": "545bcb71-7631-4a77-aba8-ff55ab2f47de",
         "x": [
          -0.27095326315325335
         ],
         "y": [
          0.8582449121239251
         ]
        },
        {
         "hoverinfo": "text",
         "marker": {
          "color": "blue",
          "size": 0.5
         },
         "mode": "markers",
         "text": "Pentaho appears with MS SQL Server 44 times",
         "type": "scatter",
         "uid": "0dea613e-8a6b-4dbf-9476-174969794bd6",
         "x": [
          -0.8938507232056773
         ],
         "y": [
          0.10502801828411179
         ]
        },
        {
         "hoverinfo": "text",
         "marker": {
          "color": "green",
          "size": 0.5
         },
         "mode": "markers",
         "text": "MS SQL Server appears with Hadoop 28 times",
         "type": "scatter",
         "uid": "362f96bd-d136-471f-86d0-a261a1fc6a84",
         "x": [
          -0.25552053328605856
         ],
         "y": [
          0.8629653857885657
         ]
        },
        {
         "hoverinfo": "text",
         "marker": {
          "color": "blue",
          "size": 0.5
         },
         "mode": "markers",
         "text": "Hadoop appears with MS SQL Server 28 times",
         "type": "scatter",
         "uid": "87ed8144-d75c-4982-8328-e484bdcea9ae",
         "x": [
          -0.8994140102216228
         ],
         "y": [
          0.032472114453152935
         ]
        },
        {
         "hoverinfo": "text",
         "marker": {
          "color": "green",
          "size": 0.5
         },
         "mode": "markers",
         "text": "MS SQL Server appears with Spark 25 times",
         "type": "scatter",
         "uid": "3a17be0b-35b0-4145-a302-80daea55c701",
         "x": [
          -0.24973910751487285
         ],
         "y": [
          0.8646562196489855
         ]
        },
        {
         "hoverinfo": "text",
         "marker": {
          "color": "blue",
          "size": 0.5
         },
         "mode": "markers",
         "text": "Spark appears with MS SQL Server 25 times",
         "type": "scatter",
         "uid": "b1b531e2-b875-49dd-b682-ba1dc7328dcb",
         "x": [
          -0.8914710384394208
         ],
         "y": [
          -0.12360982009428212
         ]
        },
        {
         "hoverinfo": "text",
         "marker": {
          "color": "green",
          "size": 0.5
         },
         "mode": "markers",
         "text": "MS SQL Server appears with Informatica 57 times",
         "type": "scatter",
         "uid": "a42a428f-8fba-4660-91fa-3cd1f650d80c",
         "x": [
          -0.2913580126187156
         ],
         "y": [
          0.8515342086392492
         ]
        },
        {
         "hoverinfo": "text",
         "marker": {
          "color": "blue",
          "size": 0.5
         },
         "mode": "markers",
         "text": "Informatica appears with MS SQL Server 57 times",
         "type": "scatter",
         "uid": "d72665ae-f86e-4d24-9536-ec9c2deb191c",
         "x": [
          -0.8480468182540583
         ],
         "y": [
          -0.3013579168516538
         ]
        },
        {
         "hoverinfo": "text",
         "marker": {
          "color": "green",
          "size": 0.5
         },
         "mode": "markers",
         "text": "MS SQL Server appears with Qlik 58 times",
         "type": "scatter",
         "uid": "4b0d1151-1715-4bd7-acc8-b1d7384f35ed",
         "x": [
          -0.3036931263759553
         ],
         "y": [
          0.8472133645027078
         ]
        },
        {
         "hoverinfo": "text",
         "marker": {
          "color": "blue",
          "size": 0.5
         },
         "mode": "markers",
         "text": "Qlik appears with MS SQL Server 58 times",
         "type": "scatter",
         "uid": "72cc3a96-a94d-4015-9d63-459e1c8fb89b",
         "x": [
          -0.7701053194112798
         ],
         "y": [
          -0.46576581778233883
         ]
        },
        {
         "hoverinfo": "text",
         "marker": {
          "color": "green",
          "size": 0.5
         },
         "mode": "markers",
         "text": "MS SQL Server appears with Tableau 93 times",
         "type": "scatter",
         "uid": "83dc8026-46ac-4b02-a48e-78caa77c3200",
         "x": [
          -0.34912262314090603
         ],
         "y": [
          0.8295260056268356
         ]
        },
        {
         "hoverinfo": "text",
         "marker": {
          "color": "blue",
          "size": 0.5
         },
         "mode": "markers",
         "text": "Tableau appears with MS SQL Server 93 times",
         "type": "scatter",
         "uid": "753f3e74-596b-4bb9-8891-b6d425efe921",
         "x": [
          -0.4356804311055562
         ],
         "y": [
          -0.7875167058238681
         ]
        },
        {
         "hoverinfo": "text",
         "marker": {
          "color": "green",
          "size": 0.5
         },
         "mode": "markers",
         "text": "MS SQL Server appears with Microstrategy 17 times",
         "type": "scatter",
         "uid": "4bb013b9-00bb-40a9-9247-f061aabff941",
         "x": [
          -0.24514964234576794
         ],
         "y": [
          0.8659686211738519
         ]
        },
        {
         "hoverinfo": "text",
         "marker": {
          "color": "blue",
          "size": 0.5
         },
         "mode": "markers",
         "text": "Microstrategy appears with MS SQL Server 17 times",
         "type": "scatter",
         "uid": "8c9e39b4-799d-4bc0-af39-4690f2a5b4ac",
         "x": [
          -0.05737856027879425
         ],
         "y": [
          -0.8981690825342035
         ]
        },
        {
         "hoverinfo": "text",
         "marker": {
          "color": "green",
          "size": 0.5
         },
         "mode": "markers",
         "text": "MS SQL Server appears with Oracle BI 155 times",
         "type": "scatter",
         "uid": "95d21624-4310-422c-a530-1b8f17d5a951",
         "x": [
          -0.42038869288283737
         ],
         "y": [
          0.7957847365313433
         ]
        },
        {
         "hoverinfo": "text",
         "marker": {
          "color": "blue",
          "size": 0.5
         },
         "mode": "markers",
         "text": "Oracle BI appears with MS SQL Server 155 times",
         "type": "scatter",
         "uid": "f37f8bd0-8f0e-466d-8359-be05d7db79d9",
         "x": [
          0.2483079879138665
         ],
         "y": [
          -0.8650682881357791
         ]
        },
        {
         "hoverinfo": "text",
         "marker": {
          "color": "green",
          "size": 0.5
         },
         "mode": "markers",
         "text": "MS SQL Server appears with Python 106 times",
         "type": "scatter",
         "uid": "5670226d-d1dc-4f71-a7ad-f74198e277c6",
         "x": [
          -0.36985615748236933
         ],
         "y": [
          0.8204915738582431
         ]
        },
        {
         "hoverinfo": "text",
         "marker": {
          "color": "blue",
          "size": 0.5
         },
         "mode": "markers",
         "text": "Python appears with MS SQL Server 106 times",
         "type": "scatter",
         "uid": "d35479d9-ed2e-49ed-9a7e-75f08d0a7a12",
         "x": [
          0.6804208719314141
         ],
         "y": [
          -0.589090347094649
         ]
        },
        {
         "hoverinfo": "text",
         "marker": {
          "color": "green",
          "size": 0.5
         },
         "mode": "markers",
         "text": "MS SQL Server appears with VBA 35 times",
         "type": "scatter",
         "uid": "ee400750-3cc9-4aed-80a7-f9929347e2bd",
         "x": [
          -0.26237788378742344
         ],
         "y": [
          0.8609052480379205
         ]
        },
        {
         "hoverinfo": "text",
         "marker": {
          "color": "blue",
          "size": 0.5
         },
         "mode": "markers",
         "text": "VBA appears with MS SQL Server 35 times",
         "type": "scatter",
         "uid": "5dff11e6-7313-4e25-872c-39eef75422c9",
         "x": [
          0.8310997692508568
         ],
         "y": [
          -0.34535948452470877
         ]
        },
        {
         "hoverinfo": "text",
         "marker": {
          "color": "green",
          "size": 0.5
         },
         "mode": "markers",
         "text": "MS SQL Server appears with Linux 44 times",
         "type": "scatter",
         "uid": "6d672d10-d920-4f7c-bc54-943f82b19458",
         "x": [
          -0.2804737968550096
         ],
         "y": [
          0.8551809453429928
         ]
        },
        {
         "hoverinfo": "text",
         "marker": {
          "color": "blue",
          "size": 0.5
         },
         "mode": "markers",
         "text": "Linux appears with MS SQL Server 44 times",
         "type": "scatter",
         "uid": "98d7de4f-6218-4e25-ab2e-f662690c3448",
         "x": [
          0.8810012260770393
         ],
         "y": [
          -0.18394792646494676
         ]
        },
        {
         "hoverinfo": "text",
         "marker": {
          "color": "green",
          "size": 0.5
         },
         "mode": "markers",
         "text": "MS SQL Server appears with AWS 9 times",
         "type": "scatter",
         "uid": "e95cda6a-e4dd-4cb3-bfb6-d002f983b1c8",
         "x": [
          -0.24011517737833932
         ],
         "y": [
          0.8673780615121464
         ]
        },
        {
         "hoverinfo": "text",
         "marker": {
          "color": "blue",
          "size": 0.5
         },
         "mode": "markers",
         "text": "AWS appears with MS SQL Server 9 times",
         "type": "scatter",
         "uid": "532a93a7-e51e-45ed-aa41-5da83e6d2249",
         "x": [
          0.8951806096836218
         ],
         "y": [
          -0.09301438623384703
         ]
        },
        {
         "hoverinfo": "text",
         "marker": {
          "color": "green",
          "size": 0.5
         },
         "mode": "markers",
         "text": "PostgreSQL appears with MySQL/MariaDB 79 times",
         "type": "scatter",
         "uid": "0d7fae5f-cde7-410f-b122-2e8eb53e3103",
         "x": [
          -0.6324084186580757
         ],
         "y": [
          0.6403589555947445
         ]
        },
        {
         "hoverinfo": "text",
         "marker": {
          "color": "blue",
          "size": 0.5
         },
         "mode": "markers",
         "text": "MySQL/MariaDB appears with PostgreSQL 79 times",
         "type": "scatter",
         "uid": "bc7e590a-f1a5-439a-a25e-44eb441a741f",
         "x": [
          -0.7249122863782393
         ],
         "y": [
          0.5333874549123493
         ]
        },
        {
         "hoverinfo": "text",
         "marker": {
          "color": "green",
          "size": 0.5
         },
         "mode": "markers",
         "text": "PostgreSQL appears with T-SQL 30 times",
         "type": "scatter",
         "uid": "09475ddc-e885-4b7a-b205-e4a488a8683e",
         "x": [
          -0.5882523320034135
         ],
         "y": [
          0.6811455012642642
         ]
        },
        {
         "hoverinfo": "text",
         "marker": {
          "color": "blue",
          "size": 0.5
         },
         "mode": "markers",
         "text": "T-SQL appears with PostgreSQL 30 times",
         "type": "scatter",
         "uid": "ba76f4a0-43bf-4035-8b9d-b6dc061c3a15",
         "x": [
          -0.7720642866141766
         ],
         "y": [
          0.46251133752043594
         ]
        },
        {
         "hoverinfo": "text",
         "marker": {
          "color": "green",
          "size": 0.5
         },
         "mode": "markers",
         "text": "PostgreSQL appears with Pentaho 43 times",
         "type": "scatter",
         "uid": "c252a7bc-5d3b-4834-b52e-a35df5b556b7",
         "x": [
          -0.6081761906530933
         ],
         "y": [
          0.6634167024749169
         ]
        },
        {
         "hoverinfo": "text",
         "marker": {
          "color": "blue",
          "size": 0.5
         },
         "mode": "markers",
         "text": "Pentaho appears with PostgreSQL 43 times",
         "type": "scatter",
         "uid": "c85cb5b2-33eb-4cc1-a99c-946916aa8979",
         "x": [
          -0.8928427437678126
         ],
         "y": [
          0.11327768933538591
         ]
        },
        {
         "hoverinfo": "text",
         "marker": {
          "color": "green",
          "size": 0.5
         },
         "mode": "markers",
         "text": "PostgreSQL appears with Hadoop 3 times",
         "type": "scatter",
         "uid": "3dae5c67-339a-4808-8e07-e075e6ab79b3",
         "x": [
          -0.5792381089776388
         ],
         "y": [
          0.6888274189577597
         ]
        },
        {
         "hoverinfo": "text",
         "marker": {
          "color": "blue",
          "size": 0.5
         },
         "mode": "markers",
         "text": "Hadoop appears with PostgreSQL 3 times",
         "type": "scatter",
         "uid": "3f1abca4-8195-4094-9dd9-edd84c61d45d",
         "x": [
          -0.8986994582424758
         ],
         "y": [
          0.048366142648350534
         ]
        },
        {
         "hoverinfo": "text",
         "marker": {
          "color": "green",
          "size": 0.5
         },
         "mode": "markers",
         "text": "PostgreSQL appears with Spark 6 times",
         "type": "scatter",
         "uid": "5ad6d07b-34b0-4191-bbf9-62bd400b2a4f",
         "x": [
          -0.5798606335620015
         ],
         "y": [
          0.6883034546223593
         ]
        },
        {
         "hoverinfo": "text",
         "marker": {
          "color": "blue",
          "size": 0.5
         },
         "mode": "markers",
         "text": "Spark appears with PostgreSQL 6 times",
         "type": "scatter",
         "uid": "563ffe29-9528-4272-b55d-0e6ada55bb4d",
         "x": [
          -0.8936594001508616
         ],
         "y": [
          -0.10664368955546376
         ]
        },
        {
         "hoverinfo": "text",
         "marker": {
          "color": "green",
          "size": 0.5
         },
         "mode": "markers",
         "text": "PostgreSQL appears with Qlik 14 times",
         "type": "scatter",
         "uid": "63b88c2b-50f5-49ce-8022-cdbea9b42295",
         "x": [
          -0.5820702122697241
         ],
         "y": [
          0.6864359168839276
         ]
        },
        {
         "hoverinfo": "text",
         "marker": {
          "color": "blue",
          "size": 0.5
         },
         "mode": "markers",
         "text": "Qlik appears with PostgreSQL 14 times",
         "type": "scatter",
         "uid": "1f760f81-f8b8-462f-9258-c3387bfe19f6",
         "x": [
          -0.7944260433946461
         ],
         "y": [
          -0.4229506609243304
         ]
        },
        {
         "hoverinfo": "text",
         "marker": {
          "color": "green",
          "size": 0.5
         },
         "mode": "markers",
         "text": "PostgreSQL appears with Tableau 6 times",
         "type": "scatter",
         "uid": "3548eb88-96a5-4207-95ab-cd66e6076249",
         "x": [
          -0.580689928974642
         ],
         "y": [
          0.687603960421568
         ]
        },
        {
         "hoverinfo": "text",
         "marker": {
          "color": "blue",
          "size": 0.5
         },
         "mode": "markers",
         "text": "Tableau appears with PostgreSQL 6 times",
         "type": "scatter",
         "uid": "dad4dbef-fc3c-4df1-98ab-f83f9974a1d3",
         "x": [
          -0.536746817906809
         ],
         "y": [
          -0.7224284417621685
         ]
        },
        {
         "hoverinfo": "text",
         "marker": {
          "color": "green",
          "size": 0.5
         },
         "mode": "markers",
         "text": "PostgreSQL appears with Oracle BI 38 times",
         "type": "scatter",
         "uid": "4cb3bb1e-6fb5-4042-beb3-bdeeaf8b7bf8",
         "x": [
          -0.6027580268044074
         ],
         "y": [
          0.668343295861384
         ]
        },
        {
         "hoverinfo": "text",
         "marker": {
          "color": "blue",
          "size": 0.5
         },
         "mode": "markers",
         "text": "Oracle BI appears with PostgreSQL 38 times",
         "type": "scatter",
         "uid": "dd00e98e-caa6-4b53-9aa0-de400d80a3fb",
         "x": [
          0.027742878052913644
         ],
         "y": [
          -0.8995723054415032
         ]
        },
        {
         "hoverinfo": "text",
         "marker": {
          "color": "green",
          "size": 0.5
         },
         "mode": "markers",
         "text": "PostgreSQL appears with Python 23 times",
         "type": "scatter",
         "uid": "8de22516-4191-4a84-bab9-a2c25c1439ee",
         "x": [
          -0.5846175383805279
         ],
         "y": [
          0.6842677354792436
         ]
        },
        {
         "hoverinfo": "text",
         "marker": {
          "color": "blue",
          "size": 0.5
         },
         "mode": "markers",
         "text": "Python appears with PostgreSQL 23 times",
         "type": "scatter",
         "uid": "e736f7fe-4699-45f0-b67f-e6d0c50b6f3b",
         "x": [
          0.5919496172858365
         ],
         "y": [
          -0.6779348424407406
         ]
        },
        {
         "hoverinfo": "text",
         "marker": {
          "color": "green",
          "size": 0.5
         },
         "mode": "markers",
         "text": "PostgreSQL appears with Linux 36 times",
         "type": "scatter",
         "uid": "d376f3eb-b798-4c53-945b-f99a338ab92e",
         "x": [
          -0.5927553560393988
         ],
         "y": [
          0.6772304540454495
         ]
        },
        {
         "hoverinfo": "text",
         "marker": {
          "color": "blue",
          "size": 0.5
         },
         "mode": "markers",
         "text": "Linux appears with PostgreSQL 36 times",
         "type": "scatter",
         "uid": "26638bad-3218-498f-8414-cd799dbfee42",
         "x": [
          0.8778137585717452
         ],
         "y": [
          -0.19860263155896477
         ]
        },
        {
         "hoverinfo": "text",
         "marker": {
          "color": "green",
          "size": 0.5
         },
         "mode": "markers",
         "text": "MySQL/MariaDB appears with T-SQL 37 times",
         "type": "scatter",
         "uid": "0f6eab35-196e-4089-90e9-2edc1b646e61",
         "x": [
          -0.6678848996981862
         ],
         "y": [
          0.6032659121441751
         ]
        },
        {
         "hoverinfo": "text",
         "marker": {
          "color": "blue",
          "size": 0.5
         },
         "mode": "markers",
         "text": "T-SQL appears with MySQL/MariaDB 37 times",
         "type": "scatter",
         "uid": "9e20d9c9-f43f-4481-ba6b-0cac3410c098",
         "x": [
          -0.7792175367132441
         ],
         "y": [
          0.45035544903836133
         ]
        },
        {
         "hoverinfo": "text",
         "marker": {
          "color": "green",
          "size": 0.5
         },
         "mode": "markers",
         "text": "MySQL/MariaDB appears with Pentaho 61 times",
         "type": "scatter",
         "uid": "4f378914-4c69-41b7-a03f-0f227f106e4f",
         "x": [
          -0.6914046481800346
         ],
         "y": [
          0.5761593637831834
         ]
        },
        {
         "hoverinfo": "text",
         "marker": {
          "color": "blue",
          "size": 0.5
         },
         "mode": "markers",
         "text": "Pentaho appears with MySQL/MariaDB 61 times",
         "type": "scatter",
         "uid": "7b4d2163-c352-4332-acce-59cd445dddb0",
         "x": [
          -0.8949657322083655
         ],
         "y": [
          0.09505965586274852
         ]
        },
        {
         "hoverinfo": "text",
         "marker": {
          "color": "green",
          "size": 0.5
         },
         "mode": "markers",
         "text": "MySQL/MariaDB appears with Hadoop 4 times",
         "type": "scatter",
         "uid": "f663ad39-710f-41d6-8ca4-9d83c3107d8c",
         "x": [
          -0.6573886508841954
         ],
         "y": [
          0.6146870436967559
         ]
        },
        {
         "hoverinfo": "text",
         "marker": {
          "color": "blue",
          "size": 0.5
         },
         "mode": "markers",
         "text": "Hadoop appears with MySQL/MariaDB 4 times",
         "type": "scatter",
         "uid": "c0d52643-7c1c-40b5-b966-928c50d75a18",
         "x": [
          -0.8987684268885134
         ],
         "y": [
          0.047067131082602645
         ]
        },
        {
         "hoverinfo": "text",
         "marker": {
          "color": "green",
          "size": 0.5
         },
         "mode": "markers",
         "text": "MySQL/MariaDB appears with Spark 21 times",
         "type": "scatter",
         "uid": "93938e4b-7f5d-4fc8-bcf4-16b5ef6395b1",
         "x": [
          -0.6639291115343122
         ],
         "y": [
          0.607616766438566
         ]
        },
        {
         "hoverinfo": "text",
         "marker": {
          "color": "blue",
          "size": 0.5
         },
         "mode": "markers",
         "text": "Spark appears with MySQL/MariaDB 21 times",
         "type": "scatter",
         "uid": "8603bd7c-a387-4a5e-b02a-52ee3f4bf442",
         "x": [
          -0.8920986241687603
         ],
         "y": [
          -0.11899598630292145
         ]
        },
        {
         "hoverinfo": "text",
         "marker": {
          "color": "green",
          "size": 0.5
         },
         "mode": "markers",
         "text": "MySQL/MariaDB appears with Informatica 8 times",
         "type": "scatter",
         "uid": "b18bcae1-c215-4700-9af8-24818bf49215",
         "x": [
          -0.6596001998224309
         ],
         "y": [
          0.6123132992138985
         ]
        },
        {
         "hoverinfo": "text",
         "marker": {
          "color": "blue",
          "size": 0.5
         },
         "mode": "markers",
         "text": "Informatica appears with MySQL/MariaDB 8 times",
         "type": "scatter",
         "uid": "b011bedd-0bdc-424a-95c9-8769d586c7f4",
         "x": [
          -0.8596732681413438
         ],
         "y": [
          -0.2663866964455641
         ]
        },
        {
         "hoverinfo": "text",
         "marker": {
          "color": "green",
          "size": 0.5
         },
         "mode": "markers",
         "text": "MySQL/MariaDB appears with Qlik 17 times",
         "type": "scatter",
         "uid": "4a2b7b6d-61aa-460c-a72d-b0bdf6bcf13c",
         "x": [
          -0.6613220100167032
         ],
         "y": [
          0.610453273451349
         ]
        },
        {
         "hoverinfo": "text",
         "marker": {
          "color": "blue",
          "size": 0.5
         },
         "mode": "markers",
         "text": "Qlik appears with MySQL/MariaDB 17 times",
         "type": "scatter",
         "uid": "0b194ec6-039f-44c4-b16d-bc10d7e586cf",
         "x": [
          -0.7896077257481471
         ],
         "y": [
          -0.43187919542256126
         ]
        },
        {
         "hoverinfo": "text",
         "marker": {
          "color": "green",
          "size": 0.5
         },
         "mode": "markers",
         "text": "MySQL/MariaDB appears with Tableau 41 times",
         "type": "scatter",
         "uid": "5ec96f03-db73-43eb-b89f-81c6a6aa03b3",
         "x": [
          -0.6782493976994342
         ],
         "y": [
          0.5915891771494427
         ]
        },
        {
         "hoverinfo": "text",
         "marker": {
          "color": "blue",
          "size": 0.5
         },
         "mode": "markers",
         "text": "Tableau appears with MySQL/MariaDB 41 times",
         "type": "scatter",
         "uid": "0c28c5ad-40e4-46a8-81c3-b4e7a4bebb12",
         "x": [
          -0.5005133602601316
         ],
         "y": [
          -0.7479882192929991
         ]
        },
        {
         "hoverinfo": "text",
         "marker": {
          "color": "green",
          "size": 0.5
         },
         "mode": "markers",
         "text": "MySQL/MariaDB appears with Oracle BI 61 times",
         "type": "scatter",
         "uid": "e4d16143-4161-4726-9b80-956228a9ef1d",
         "x": [
          -0.6992574392244244
         ],
         "y": [
          0.566603065372312
         ]
        },
        {
         "hoverinfo": "text",
         "marker": {
          "color": "blue",
          "size": 0.5
         },
         "mode": "markers",
         "text": "Oracle BI appears with MySQL/MariaDB 61 times",
         "type": "scatter",
         "uid": "2961c2a2-6828-48ed-888a-a2420eca5678",
         "x": [
          0.07089251317234832
         ],
         "y": [
          -0.8972035730959326
         ]
        },
        {
         "hoverinfo": "text",
         "marker": {
          "color": "green",
          "size": 0.5
         },
         "mode": "markers",
         "text": "MySQL/MariaDB appears with Python 49 times",
         "type": "scatter",
         "uid": "af648c57-7c3b-405f-9407-5b5ac7beeada",
         "x": [
          -0.6842122667849573
         ],
         "y": [
          0.5846824556808512
         ]
        },
        {
         "hoverinfo": "text",
         "marker": {
          "color": "blue",
          "size": 0.5
         },
         "mode": "markers",
         "text": "Python appears with MySQL/MariaDB 49 times",
         "type": "scatter",
         "uid": "87aa1379-dbcc-4cf5-a5ed-0c940fe37f93",
         "x": [
          0.6231620508996766
         ],
         "y": [
          -0.6493604995058668
         ]
        },
        {
         "hoverinfo": "text",
         "marker": {
          "color": "green",
          "size": 0.5
         },
         "mode": "markers",
         "text": "MySQL/MariaDB appears with VBA 5 times",
         "type": "scatter",
         "uid": "b91e609e-12a0-4b05-a4e3-547c091c6fea",
         "x": [
          -0.6580115136912689
         ],
         "y": [
          0.6140202340719115
         ]
        },
        {
         "hoverinfo": "text",
         "marker": {
          "color": "blue",
          "size": 0.5
         },
         "mode": "markers",
         "text": "VBA appears with MySQL/MariaDB 5 times",
         "type": "scatter",
         "uid": "683eec6b-7846-455e-b61a-c4e7b9d5c167",
         "x": [
          0.8208601405584355
         ],
         "y": [
          -0.3690374366407635
         ]
        },
        {
         "hoverinfo": "text",
         "marker": {
          "color": "green",
          "size": 0.5
         },
         "mode": "markers",
         "text": "MySQL/MariaDB appears with Linux 38 times",
         "type": "scatter",
         "uid": "62ecd620-c209-4efb-808d-68bb078e6195",
         "x": [
          -0.6729578473761817
         ],
         "y": [
          0.597601652988691
         ]
        },
        {
         "hoverinfo": "text",
         "marker": {
          "color": "blue",
          "size": 0.5
         },
         "mode": "markers",
         "text": "Linux appears with MySQL/MariaDB 38 times",
         "type": "scatter",
         "uid": "a8a2c3b3-824d-45ae-8b78-23bfa840c456",
         "x": [
          0.8793562069262781
         ],
         "y": [
          -0.19165766705307838
         ]
        },
        {
         "hoverinfo": "text",
         "marker": {
          "color": "green",
          "size": 0.5
         },
         "mode": "markers",
         "text": "T-SQL appears with PL/SQL 31 times",
         "type": "scatter",
         "uid": "c7a7bab3-c2a6-4148-847b-3d846afaf044",
         "x": [
          -0.7754705722419218
         ],
         "y": [
          0.456777179362965
         ]
        },
        {
         "hoverinfo": "text",
         "marker": {
          "color": "blue",
          "size": 0.5
         },
         "mode": "markers",
         "text": "PL/SQL appears with T-SQL 31 times",
         "type": "scatter",
         "uid": "8143b217-4cee-4dd4-af47-1c8f599f6e64",
         "x": [
          -0.87138810054123
         ],
         "y": [
          0.22512835946443396
         ]
        },
        {
         "hoverinfo": "text",
         "marker": {
          "color": "green",
          "size": 0.5
         },
         "mode": "markers",
         "text": "T-SQL appears with Pentaho 37 times",
         "type": "scatter",
         "uid": "8f167b8d-4903-4714-8738-cc74e39bb136",
         "x": [
          -0.7832346844071435
         ],
         "y": [
          0.44333218825350623
         ]
        },
        {
         "hoverinfo": "text",
         "marker": {
          "color": "blue",
          "size": 0.5
         },
         "mode": "markers",
         "text": "Pentaho appears with T-SQL 37 times",
         "type": "scatter",
         "uid": "7ee894eb-571b-4dc7-a752-e2beb9c32f99",
         "x": [
          -0.890844732616915
         ],
         "y": [
          0.1280455480237296
         ]
        },
        {
         "hoverinfo": "text",
         "marker": {
          "color": "green",
          "size": 0.5
         },
         "mode": "markers",
         "text": "T-SQL appears with Hadoop 16 times",
         "type": "scatter",
         "uid": "fdb85602-611a-4ecc-a3c7-ab785517cc62",
         "x": [
          -0.7617665189933438
         ],
         "y": [
          0.47928255814369425
         ]
        },
        {
         "hoverinfo": "text",
         "marker": {
          "color": "blue",
          "size": 0.5
         },
         "mode": "markers",
         "text": "Hadoop appears with T-SQL 16 times",
         "type": "scatter",
         "uid": "e3b6664c-6499-403c-9e24-021ab92f2c01",
         "x": [
          -0.8990624100756877
         ],
         "y": [
          0.041070461269580104
         ]
        },
        {
         "hoverinfo": "text",
         "marker": {
          "color": "green",
          "size": 0.5
         },
         "mode": "markers",
         "text": "T-SQL appears with Spark 17 times",
         "type": "scatter",
         "uid": "fe519796-f30c-4055-ad03-8e011b7dac2a",
         "x": [
          -0.7636818592707479
         ],
         "y": [
          0.4762247555732205
         ]
        },
        {
         "hoverinfo": "text",
         "marker": {
          "color": "blue",
          "size": 0.5
         },
         "mode": "markers",
         "text": "Spark appears with T-SQL 17 times",
         "type": "scatter",
         "uid": "063d1e4d-fe7a-4aed-b33f-b3fb25dca5f1",
         "x": [
          -0.8925990545552223
         ],
         "y": [
          -0.11518215055781596
         ]
        },
        {
         "hoverinfo": "text",
         "marker": {
          "color": "green",
          "size": 0.5
         },
         "mode": "markers",
         "text": "T-SQL appears with Informatica 12 times",
         "type": "scatter",
         "uid": "b47d939b-b002-4a88-8c40-6a7eca6d4e7c",
         "x": [
          -0.7601317791765883
         ],
         "y": [
          0.48187101830866996
         ]
        },
        {
         "hoverinfo": "text",
         "marker": {
          "color": "blue",
          "size": 0.5
         },
         "mode": "markers",
         "text": "Informatica appears with T-SQL 12 times",
         "type": "scatter",
         "uid": "1a9deede-38ad-4af8-b393-a04bd963655d",
         "x": [
          -0.8577784929176201
         ],
         "y": [
          -0.2724262415553546
         ]
        },
        {
         "hoverinfo": "text",
         "marker": {
          "color": "green",
          "size": 0.5
         },
         "mode": "markers",
         "text": "T-SQL appears with Qlik 68 times",
         "type": "scatter",
         "uid": "01a7e9cc-e575-4919-9653-0340b6efe97c",
         "x": [
          -0.7979097289750848
         ],
         "y": [
          0.4163412835726319
         ]
        },
        {
         "hoverinfo": "text",
         "marker": {
          "color": "blue",
          "size": 0.5
         },
         "mode": "markers",
         "text": "Qlik appears with T-SQL 68 times",
         "type": "scatter",
         "uid": "570e3c17-2902-4c64-bd80-50fbf7b72f2e",
         "x": [
          -0.7625741302514556
         ],
         "y": [
          -0.4779965437858689
         ]
        },
        {
         "hoverinfo": "text",
         "marker": {
          "color": "green",
          "size": 0.5
         },
         "mode": "markers",
         "text": "T-SQL appears with Tableau 92 times",
         "type": "scatter",
         "uid": "618d5d90-8921-4243-90b9-5101a7d17745",
         "x": [
          -0.8058512512778468
         ],
         "y": [
          0.40075399039052434
         ]
        },
        {
         "hoverinfo": "text",
         "marker": {
          "color": "blue",
          "size": 0.5
         },
         "mode": "markers",
         "text": "Tableau appears with T-SQL 92 times",
         "type": "scatter",
         "uid": "5a1adacb-74d1-4816-af5d-701e2db01475",
         "x": [
          -0.45429849010163265
         ],
         "y": [
          -0.776925274329119
         ]
        },
        {
         "hoverinfo": "text",
         "marker": {
          "color": "green",
          "size": 0.5
         },
         "mode": "markers",
         "text": "T-SQL appears with Microstrategy 10 times",
         "type": "scatter",
         "uid": "6448c3cd-4574-4702-aa83-2a143a80b82b",
         "x": [
          -0.7588411695022794
         ],
         "y": [
          0.4839008983959556
         ]
        },
        {
         "hoverinfo": "text",
         "marker": {
          "color": "blue",
          "size": 0.5
         },
         "mode": "markers",
         "text": "Microstrategy appears with T-SQL 10 times",
         "type": "scatter",
         "uid": "7ebcf6fe-fb37-41b3-a679-8d713ba98f00",
         "x": [
          -0.06357818572154388
         ],
         "y": [
          -0.8977515326081916
         ]
        },
        {
         "hoverinfo": "text",
         "marker": {
          "color": "green",
          "size": 0.5
         },
         "mode": "markers",
         "text": "T-SQL appears with Oracle BI 128 times",
         "type": "scatter",
         "uid": "f9cfb464-6367-4a51-a977-8a2bcf953d6a",
         "x": [
          -0.8263720278711377
         ],
         "y": [
          0.3565238723453785
         ]
        },
        {
         "hoverinfo": "text",
         "marker": {
          "color": "blue",
          "size": 0.5
         },
         "mode": "markers",
         "text": "Oracle BI appears with T-SQL 128 times",
         "type": "scatter",
         "uid": "37d4c189-7076-4b97-b083-09762c906522",
         "x": [
          0.15394888056677294
         ],
         "y": [
          -0.8867354409136005
         ]
        },
        {
         "hoverinfo": "text",
         "marker": {
          "color": "green",
          "size": 0.5
         },
         "mode": "markers",
         "text": "T-SQL appears with Python 47 times",
         "type": "scatter",
         "uid": "f8f6ef08-4812-4ba9-9971-c89097c1b5a5",
         "x": [
          -0.7920153748266184
         ],
         "y": [
          0.42744782844020984
         ]
        },
        {
         "hoverinfo": "text",
         "marker": {
          "color": "blue",
          "size": 0.5
         },
         "mode": "markers",
         "text": "Python appears with T-SQL 47 times",
         "type": "scatter",
         "uid": "d4427452-cc91-48b8-ad70-8205517ecad9",
         "x": [
          0.615236399224656
         ],
         "y": [
          -0.6568745489582313
         ]
        },
        {
         "hoverinfo": "text",
         "marker": {
          "color": "green",
          "size": 0.5
         },
         "mode": "markers",
         "text": "T-SQL appears with VBA 26 times",
         "type": "scatter",
         "uid": "3e3e31aa-947e-4e70-a8f8-ea7fcb7b05de",
         "x": [
          -0.7688998708579002
         ],
         "y": [
          0.46775312782995304
         ]
        },
        {
         "hoverinfo": "text",
         "marker": {
          "color": "blue",
          "size": 0.5
         },
         "mode": "markers",
         "text": "VBA appears with T-SQL 26 times",
         "type": "scatter",
         "uid": "1a028ddb-0457-42db-959c-63d9aa77315d",
         "x": [
          0.8241479459490955
         ],
         "y": [
          -0.3616354009052306
         ]
        },
        {
         "hoverinfo": "text",
         "marker": {
          "color": "green",
          "size": 0.5
         },
         "mode": "markers",
         "text": "T-SQL appears with Linux 24 times",
         "type": "scatter",
         "uid": "e3cd10a9-6c7e-4518-a8d9-b9e24bfe0e4f",
         "x": [
          -0.7660444227425429
         ],
         "y": [
          0.47241501075330383
         ]
        },
        {
         "hoverinfo": "text",
         "marker": {
          "color": "blue",
          "size": 0.5
         },
         "mode": "markers",
         "text": "Linux appears with T-SQL 24 times",
         "type": "scatter",
         "uid": "3ebbdcc5-9fb6-482a-866a-ed69c881ec64",
         "x": [
          0.8750612766348551
         ],
         "y": [
          -0.21039905449924795
         ]
        },
        {
         "hoverinfo": "text",
         "marker": {
          "color": "green",
          "size": 0.5
         },
         "mode": "markers",
         "text": "T-SQL appears with AWS 8 times",
         "type": "scatter",
         "uid": "7be1e340-5481-4d64-8881-5436b693f755",
         "x": [
          -0.7577811838325127
         ],
         "y": [
          0.48555913896187314
         ]
        },
        {
         "hoverinfo": "text",
         "marker": {
          "color": "blue",
          "size": 0.5
         },
         "mode": "markers",
         "text": "AWS appears with T-SQL 8 times",
         "type": "scatter",
         "uid": "c76176a9-3a52-4a1f-88c3-cace22867984",
         "x": [
          0.8950259097636423
         ],
         "y": [
          -0.09449137977490162
         ]
        },
        {
         "hoverinfo": "text",
         "marker": {
          "color": "green",
          "size": 0.5
         },
         "mode": "markers",
         "text": "PL/SQL appears with Pentaho 8 times",
         "type": "scatter",
         "uid": "d519a4bc-3909-493b-b749-8bfbf92f0050",
         "x": [
          -0.8658416861482713
         ],
         "y": [
          0.24559758656778094
         ]
        },
        {
         "hoverinfo": "text",
         "marker": {
          "color": "blue",
          "size": 0.5
         },
         "mode": "markers",
         "text": "Pentaho appears with PL/SQL 8 times",
         "type": "scatter",
         "uid": "7c0ab679-b7fb-46db-9ea1-a78471d076ce",
         "x": [
          -0.8831125761621988
         ],
         "y": [
          0.17352860808571197
         ]
        },
        {
         "hoverinfo": "text",
         "marker": {
          "color": "green",
          "size": 0.5
         },
         "mode": "markers",
         "text": "PL/SQL appears with Hadoop 3 times",
         "type": "scatter",
         "uid": "79b493ea-6f4e-4e84-895b-7631b5de87fe",
         "x": [
          -0.8651065983805889
         ],
         "y": [
          0.24817448184365462
         ]
        },
        {
         "hoverinfo": "text",
         "marker": {
          "color": "blue",
          "size": 0.5
         },
         "mode": "markers",
         "text": "Hadoop appears with PL/SQL 3 times",
         "type": "scatter",
         "uid": "8c845a12-a0fe-4590-8f89-68901562d3ba",
         "x": [
          -0.8987315232318478
         ],
         "y": [
          0.04776661124009695
         ]
        },
        {
         "hoverinfo": "text",
         "marker": {
          "color": "green",
          "size": 0.5
         },
         "mode": "markers",
         "text": "PL/SQL appears with Informatica 27 times",
         "type": "scatter",
         "uid": "7ed417c0-e5c4-4959-9ab7-a6a0118285ec",
         "x": [
          -0.8690843499121651
         ],
         "y": [
          0.23386404755273843
         ]
        },
        {
         "hoverinfo": "text",
         "marker": {
          "color": "blue",
          "size": 0.5
         },
         "mode": "markers",
         "text": "Informatica appears with PL/SQL 27 times",
         "type": "scatter",
         "uid": "853acfab-269a-49b8-bbcb-5368c597f5cc",
         "x": [
          -0.8529864849918136
         ],
         "y": [
          -0.28707848477604625
         ]
        },
        {
         "hoverinfo": "text",
         "marker": {
          "color": "green",
          "size": 0.5
         },
         "mode": "markers",
         "text": "PL/SQL appears with Qlik 14 times",
         "type": "scatter",
         "uid": "269fe292-16df-4373-b8bb-1785302faa9d",
         "x": [
          -0.8667136588629416
         ],
         "y": [
          0.24250244027723217
         ]
        },
        {
         "hoverinfo": "text",
         "marker": {
          "color": "blue",
          "size": 0.5
         },
         "mode": "markers",
         "text": "Qlik appears with PL/SQL 14 times",
         "type": "scatter",
         "uid": "ce314e8d-dee7-4f4a-af60-7e462355a75f",
         "x": [
          -0.792921024019518
         ],
         "y": [
          -0.4257654867034657
         ]
        },
        {
         "hoverinfo": "text",
         "marker": {
          "color": "green",
          "size": 0.5
         },
         "mode": "markers",
         "text": "PL/SQL appears with Tableau 17 times",
         "type": "scatter",
         "uid": "270f5d98-d06f-4969-bb2c-ccf160d9a509",
         "x": [
          -0.8673501613313703
         ],
         "y": [
          0.24021593960111362
         ]
        },
        {
         "hoverinfo": "text",
         "marker": {
          "color": "blue",
          "size": 0.5
         },
         "mode": "markers",
         "text": "Tableau appears with PL/SQL 17 times",
         "type": "scatter",
         "uid": "92dd954a-1970-4093-b1b9-323d234e7b8b",
         "x": [
          -0.5319953054813198
         ],
         "y": [
          -0.7259345665732121
         ]
        },
        {
         "hoverinfo": "text",
         "marker": {
          "color": "green",
          "size": 0.5
         },
         "mode": "markers",
         "text": "PL/SQL appears with Microstrategy 21 times",
         "type": "scatter",
         "uid": "9768d9cd-48e9-4310-900b-4cbecfcfd141",
         "x": [
          -0.8681221607418418
         ],
         "y": [
          0.2374108549096186
         ]
        },
        {
         "hoverinfo": "text",
         "marker": {
          "color": "blue",
          "size": 0.5
         },
         "mode": "markers",
         "text": "Microstrategy appears with PL/SQL 21 times",
         "type": "scatter",
         "uid": "bbb01e7e-8c1f-4825-8e7b-3fa2dd49e214",
         "x": [
          -0.05140596219008134
         ],
         "y": [
          -0.898530704567914
         ]
        },
        {
         "hoverinfo": "text",
         "marker": {
          "color": "green",
          "size": 0.5
         },
         "mode": "markers",
         "text": "PL/SQL appears with Oracle BI 76 times",
         "type": "scatter",
         "uid": "88d9615a-b5e2-47bd-be6c-6d6e0f2d2273",
         "x": [
          -0.8752884930724665
         ],
         "y": [
          0.20945179372574238
         ]
        },
        {
         "hoverinfo": "text",
         "marker": {
          "color": "blue",
          "size": 0.5
         },
         "mode": "markers",
         "text": "Oracle BI appears with PL/SQL 76 times",
         "type": "scatter",
         "uid": "53f4643c-0204-4fbf-be89-9faf4619b788",
         "x": [
          0.1015528995965826
         ],
         "y": [
          -0.8942522063621238
         ]
        },
        {
         "hoverinfo": "text",
         "marker": {
          "color": "green",
          "size": 0.5
         },
         "mode": "markers",
         "text": "PL/SQL appears with Python 3 times",
         "type": "scatter",
         "uid": "5d37b45b-fe91-40ec-aba4-3fe3e1c0c9d7",
         "x": [
          -0.8649798130956817
         ],
         "y": [
          0.24861601504520908
         ]
        },
        {
         "hoverinfo": "text",
         "marker": {
          "color": "blue",
          "size": 0.5
         },
         "mode": "markers",
         "text": "Python appears with PL/SQL 3 times",
         "type": "scatter",
         "uid": "5c4ed921-f47c-4e50-bdf1-4696261fdd65",
         "x": [
          0.5871359115376786
         ],
         "y": [
          -0.6821080716300161
         ]
        },
        {
         "hoverinfo": "text",
         "marker": {
          "color": "green",
          "size": 0.5
         },
         "mode": "markers",
         "text": "PL/SQL appears with VBA 6 times",
         "type": "scatter",
         "uid": "f45d2dd1-177a-4a1f-8d0c-e2a3148e88e7",
         "x": [
          -0.8652963537049327
         ],
         "y": [
          0.24751206084744243
         ]
        },
        {
         "hoverinfo": "text",
         "marker": {
          "color": "blue",
          "size": 0.5
         },
         "mode": "markers",
         "text": "VBA appears with PL/SQL 6 times",
         "type": "scatter",
         "uid": "b0b04a91-a8f3-4a82-bad1-74e3d51c72fd",
         "x": [
          0.8222889695905631
         ],
         "y": [
          -0.36584265810548944
         ]
        },
        {
         "hoverinfo": "text",
         "marker": {
          "color": "green",
          "size": 0.5
         },
         "mode": "markers",
         "text": "PL/SQL appears with Linux 1 times",
         "type": "scatter",
         "uid": "ff474a74-1d70-47d2-b32a-975fcc0f224a",
         "x": [
          -0.8648104155108028
         ],
         "y": [
          0.24920462520593906
         ]
        },
        {
         "hoverinfo": "text",
         "marker": {
          "color": "blue",
          "size": 0.5
         },
         "mode": "markers",
         "text": "Linux appears with PL/SQL 1 times",
         "type": "scatter",
         "uid": "119aa32f-60d9-4dfa-bd3f-ec73c43286a0",
         "x": [
          0.87097552461013
         ],
         "y": [
          -0.22671928795342683
         ]
        },
        {
         "hoverinfo": "text",
         "marker": {
          "color": "green",
          "size": 0.5
         },
         "mode": "markers",
         "text": "PL/SQL appears with AWS 2 times",
         "type": "scatter",
         "uid": "e5d52d69-a161-420a-9032-5f0027a1c214",
         "x": [
          -0.8648739865480198
         ],
         "y": [
          0.24898390990691707
         ]
        },
        {
         "hoverinfo": "text",
         "marker": {
          "color": "blue",
          "size": 0.5
         },
         "mode": "markers",
         "text": "AWS appears with PL/SQL 2 times",
         "type": "scatter",
         "uid": "c4348125-8f1c-4509-b0ed-63a2780693f6",
         "x": [
          0.8946902660020533
         ],
         "y": [
          -0.09761827657347391
         ]
        },
        {
         "hoverinfo": "text",
         "marker": {
          "color": "green",
          "size": 0.5
         },
         "mode": "markers",
         "text": "Pentaho appears with Spark 6 times",
         "type": "scatter",
         "uid": "eecdbfa4-67b2-42f2-ae00-4bb615bced71",
         "x": [
          -0.8828537356296839
         ],
         "y": [
          0.17484073176669135
         ]
        },
        {
         "hoverinfo": "text",
         "marker": {
          "color": "blue",
          "size": 0.5
         },
         "mode": "markers",
         "text": "Spark appears with Pentaho 6 times",
         "type": "scatter",
         "uid": "10db4870-0ff8-4d98-8634-c098aaaabad0",
         "x": [
          -0.8935146535580257
         ],
         "y": [
          -0.10784972821978445
         ]
        },
        {
         "hoverinfo": "text",
         "marker": {
          "color": "green",
          "size": 0.5
         },
         "mode": "markers",
         "text": "Pentaho appears with Informatica 32 times",
         "type": "scatter",
         "uid": "af8aa895-a79b-40e8-972d-747b650f90ab",
         "x": [
          -0.8856276610434878
         ],
         "y": [
          0.16019877026569523
         ]
        },
        {
         "hoverinfo": "text",
         "marker": {
          "color": "blue",
          "size": 0.5
         },
         "mode": "markers",
         "text": "Informatica appears with Pentaho 32 times",
         "type": "scatter",
         "uid": "7edd412c-fb9c-4214-9c31-dbf27856cc8a",
         "x": [
          -0.8510460347347183
         ],
         "y": [
          -0.29278088524067414
         ]
        },
        {
         "hoverinfo": "text",
         "marker": {
          "color": "green",
          "size": 0.5
         },
         "mode": "markers",
         "text": "Pentaho appears with Qlik 30 times",
         "type": "scatter",
         "uid": "2742de38-c56f-4d52-9fac-111c6128f51d",
         "x": [
          -0.8845542375424937
         ],
         "y": [
          0.16602349486026863
         ]
        },
        {
         "hoverinfo": "text",
         "marker": {
          "color": "blue",
          "size": 0.5
         },
         "mode": "markers",
         "text": "Qlik appears with Pentaho 30 times",
         "type": "scatter",
         "uid": "53cc5eed-772e-47ef-8c6e-dab0690c8d7f",
         "x": [
          -0.7837942177771672
         ],
         "y": [
          -0.44234220257519924
         ]
        },
        {
         "hoverinfo": "text",
         "marker": {
          "color": "green",
          "size": 0.5
         },
         "mode": "markers",
         "text": "Pentaho appears with Tableau 37 times",
         "type": "scatter",
         "uid": "a06cec3a-0db0-4886-a460-c25e870ef333",
         "x": [
          -0.8898115117153442
         ],
         "y": [
          0.1350387856093719
         ]
        },
        {
         "hoverinfo": "text",
         "marker": {
          "color": "blue",
          "size": 0.5
         },
         "mode": "markers",
         "text": "Tableau appears with Pentaho 37 times",
         "type": "scatter",
         "uid": "d747103e-2ae1-4bb7-94e9-128812863e4f",
         "x": [
          -0.5079939222988289
         ],
         "y": [
          -0.7429281088419333
         ]
        },
        {
         "hoverinfo": "text",
         "marker": {
          "color": "green",
          "size": 0.5
         },
         "mode": "markers",
         "text": "Pentaho appears with Microstrategy 3 times",
         "type": "scatter",
         "uid": "63ea2eb3-7b66-4708-b2c8-928ec1983c6f",
         "x": [
          -0.8826863086293493
         ],
         "y": [
          0.17568403615096403
         ]
        },
        {
         "hoverinfo": "text",
         "marker": {
          "color": "blue",
          "size": 0.5
         },
         "mode": "markers",
         "text": "Microstrategy appears with Pentaho 3 times",
         "type": "scatter",
         "uid": "9d858222-9e6f-4a14-925c-d20bc1944183",
         "x": [
          -0.06686813224946599
         ],
         "y": [
          -0.8975124806315887
         ]
        },
        {
         "hoverinfo": "text",
         "marker": {
          "color": "green",
          "size": 0.5
         },
         "mode": "markers",
         "text": "Pentaho appears with Oracle BI 38 times",
         "type": "scatter",
         "uid": "75b8d0a4-ddb5-4cd3-9c47-e3be6fc28be6",
         "x": [
          -0.8918358359668337
         ],
         "y": [
          0.12094974859560098
         ]
        },
        {
         "hoverinfo": "text",
         "marker": {
          "color": "blue",
          "size": 0.5
         },
         "mode": "markers",
         "text": "Oracle BI appears with Pentaho 38 times",
         "type": "scatter",
         "uid": "0b4661d3-1139-466b-81cd-c8fcd76dc024",
         "x": [
          0.03663856985755895
         ],
         "y": [
          -0.8992539214253074
         ]
        },
        {
         "hoverinfo": "text",
         "marker": {
          "color": "green",
          "size": 0.5
         },
         "mode": "markers",
         "text": "Pentaho appears with Python 34 times",
         "type": "scatter",
         "uid": "c416d49c-c02f-46b9-9845-b6cbd23d29ea",
         "x": [
          -0.8887685736323064
         ],
         "y": [
          0.1417406876080242
         ]
        },
        {
         "hoverinfo": "text",
         "marker": {
          "color": "blue",
          "size": 0.5
         },
         "mode": "markers",
         "text": "Python appears with Pentaho 34 times",
         "type": "scatter",
         "uid": "0b88a49d-bac4-4e85-8682-9d3d95d48c01",
         "x": [
          0.601064549368689
         ],
         "y": [
          -0.6698667087504907
         ]
        },
        {
         "hoverinfo": "text",
         "marker": {
          "color": "green",
          "size": 0.5
         },
         "mode": "markers",
         "text": "Pentaho appears with VBA 1 times",
         "type": "scatter",
         "uid": "10ebba29-698b-4189-8625-de778c0880f0",
         "x": [
          -0.8826116380560165
         ],
         "y": [
          0.1760587866823899
         ]
        },
        {
         "hoverinfo": "text",
         "marker": {
          "color": "blue",
          "size": 0.5
         },
         "mode": "markers",
         "text": "VBA appears with Pentaho 1 times",
         "type": "scatter",
         "uid": "36b05491-e9d9-4047-9b7b-43b25ae16fb4",
         "x": [
          0.8199556649632398
         ],
         "y": [
          -0.37104273001191035
         ]
        },
        {
         "hoverinfo": "text",
         "marker": {
          "color": "green",
          "size": 0.5
         },
         "mode": "markers",
         "text": "Pentaho appears with Linux 33 times",
         "type": "scatter",
         "uid": "8b1fdcb3-1302-47e7-b731-57f5df44e729",
         "x": [
          -0.8877381003074786
         ],
         "y": [
          0.1480576416888678
         ]
        },
        {
         "hoverinfo": "text",
         "marker": {
          "color": "blue",
          "size": 0.5
         },
         "mode": "markers",
         "text": "Linux appears with Pentaho 33 times",
         "type": "scatter",
         "uid": "b46fddb4-9244-43cf-989e-b1ead8edfc1c",
         "x": [
          0.876326112579968
         ],
         "y": [
          -0.20506717048440837
         ]
        },
        {
         "hoverinfo": "text",
         "marker": {
          "color": "green",
          "size": 0.5
         },
         "mode": "markers",
         "text": "Pentaho appears with AWS 13 times",
         "type": "scatter",
         "uid": "a46affb0-f10a-4615-9a94-de877c9883cc",
         "x": [
          -0.8837872657961766
         ],
         "y": [
          0.17005901568725576
         ]
        },
        {
         "hoverinfo": "text",
         "marker": {
          "color": "blue",
          "size": 0.5
         },
         "mode": "markers",
         "text": "AWS appears with Pentaho 13 times",
         "type": "scatter",
         "uid": "cd3d469f-30f1-468d-ba87-6f4409924948",
         "x": [
          0.8953771914181531
         ],
         "y": [
          -0.09110260747168533
         ]
        },
        {
         "hoverinfo": "text",
         "marker": {
          "color": "green",
          "size": 0.5
         },
         "mode": "markers",
         "text": "Hadoop appears with Spark 115 times",
         "type": "scatter",
         "uid": "51a14ca8-7460-415d-9135-60298d88ca48",
         "x": [
          -0.8991171291411322
         ],
         "y": [
          -0.039854586749941495
         ]
        },
        {
         "hoverinfo": "text",
         "marker": {
          "color": "blue",
          "size": 0.5
         },
         "mode": "markers",
         "text": "Spark appears with Hadoop 115 times",
         "type": "scatter",
         "uid": "ce695db3-3811-40c8-a60b-d29867225e6a",
         "x": [
          -0.877931254468265
         ],
         "y": [
          -0.19808258991586983
         ]
        },
        {
         "hoverinfo": "text",
         "marker": {
          "color": "green",
          "size": 0.5
         },
         "mode": "markers",
         "text": "Hadoop appears with Informatica 5 times",
         "type": "scatter",
         "uid": "17b6c9c4-24ec-442d-bda6-b4596f14448a",
         "x": [
          -0.8988150745044351
         ],
         "y": [
          0.046167757619218236
         ]
        },
        {
         "hoverinfo": "text",
         "marker": {
          "color": "blue",
          "size": 0.5
         },
         "mode": "markers",
         "text": "Informatica appears with Hadoop 5 times",
         "type": "scatter",
         "uid": "1f319513-a52c-4d9c-9c68-de418dab317a",
         "x": [
          -0.860485126317122
         ],
         "y": [
          -0.2637524357935043
         ]
        },
        {
         "hoverinfo": "text",
         "marker": {
          "color": "green",
          "size": 0.5
         },
         "mode": "markers",
         "text": "Hadoop appears with Qlik 9 times",
         "type": "scatter",
         "uid": "9eb51c27-db34-420c-a1bd-3f93810f509f",
         "x": [
          -0.89894477868666
         ],
         "y": [
          0.04356931112597326
         ]
        },
        {
         "hoverinfo": "text",
         "marker": {
          "color": "blue",
          "size": 0.5
         },
         "mode": "markers",
         "text": "Qlik appears with Hadoop 9 times",
         "type": "scatter",
         "uid": "eb359a9d-49be-4f5f-89f9-60f3ef186568",
         "x": [
          -0.7956548349405471
         ],
         "y": [
          -0.42063450124274254
         ]
        },
        {
         "hoverinfo": "text",
         "marker": {
          "color": "green",
          "size": 0.5
         },
         "mode": "markers",
         "text": "Hadoop appears with Tableau 35 times",
         "type": "scatter",
         "uid": "fb03a706-7385-4e42-b9f5-64a6f07bf5c7",
         "x": [
          -0.8999036898798248
         ],
         "y": [
          0.013166204490133736
         ]
        },
        {
         "hoverinfo": "text",
         "marker": {
          "color": "blue",
          "size": 0.5
         },
         "mode": "markers",
         "text": "Tableau appears with Hadoop 35 times",
         "type": "scatter",
         "uid": "e03ca606-9827-45c1-9560-06b93d7602a1",
         "x": [
          -0.5148536716441322
         ],
         "y": [
          -0.7381908268155031
         ]
        },
        {
         "hoverinfo": "text",
         "marker": {
          "color": "green",
          "size": 0.5
         },
         "mode": "markers",
         "text": "Hadoop appears with Microstrategy 3 times",
         "type": "scatter",
         "uid": "e32dcb5e-e247-4b14-abba-c39a2ded8b4b",
         "x": [
          -0.8986669933140116
         ],
         "y": [
          0.0489656525327109
         ]
        },
        {
         "hoverinfo": "text",
         "marker": {
          "color": "blue",
          "size": 0.5
         },
         "mode": "markers",
         "text": "Microstrategy appears with Hadoop 3 times",
         "type": "scatter",
         "uid": "d82ac155-5abb-4af3-b873-bd29e8c0d601",
         "x": [
          -0.06640912285993929
         ],
         "y": [
          -0.8975465605755355
         ]
        },
        {
         "hoverinfo": "text",
         "marker": {
          "color": "green",
          "size": 0.5
         },
         "mode": "markers",
         "text": "Hadoop appears with Oracle BI 34 times",
         "type": "scatter",
         "uid": "ab2efdaa-2520-462b-9b89-aa4e295ef8fc",
         "x": [
          -0.8997762033669151
         ],
         "y": [
          0.020069475693699514
         ]
        },
        {
         "hoverinfo": "text",
         "marker": {
          "color": "blue",
          "size": 0.5
         },
         "mode": "markers",
         "text": "Oracle BI appears with Hadoop 34 times",
         "type": "scatter",
         "uid": "e132b304-fe67-403d-ad70-be9a1b463aba",
         "x": [
          0.019312863133265024
         ],
         "y": [
          -0.8997927613165133
         ]
        },
        {
         "hoverinfo": "text",
         "marker": {
          "color": "green",
          "size": 0.5
         },
         "mode": "markers",
         "text": "Hadoop appears with Python 124 times",
         "type": "scatter",
         "uid": "d22a8865-dbd9-4bb2-8382-e0d1b8917a45",
         "x": [
          -0.8977407888161084
         ],
         "y": [
          -0.06372971124861175
         ]
        },
        {
         "hoverinfo": "text",
         "marker": {
          "color": "blue",
          "size": 0.5
         },
         "mode": "markers",
         "text": "Python appears with Hadoop 124 times",
         "type": "scatter",
         "uid": "1ca0e3c7-c847-4c13-851f-48df8987b2c6",
         "x": [
          0.7135052804958886
         ],
         "y": [
          -0.5485528367481873
         ]
        },
        {
         "hoverinfo": "text",
         "marker": {
          "color": "green",
          "size": 0.5
         },
         "mode": "markers",
         "text": "Hadoop appears with VBA 6 times",
         "type": "scatter",
         "uid": "3d6b6af3-fdfb-49fa-8eb4-9af7116bea1d",
         "x": [
          -0.8988708660593316
         ],
         "y": [
          0.045068460698663625
         ]
        },
        {
         "hoverinfo": "text",
         "marker": {
          "color": "blue",
          "size": 0.5
         },
         "mode": "markers",
         "text": "VBA appears with Hadoop 6 times",
         "type": "scatter",
         "uid": "8822e89c-1485-480a-b010-d0e015970d13",
         "x": [
          0.8218004849920238
         ],
         "y": [
          -0.36693863637790225
         ]
        },
        {
         "hoverinfo": "text",
         "marker": {
          "color": "green",
          "size": 0.5
         },
         "mode": "markers",
         "text": "Hadoop appears with Linux 76 times",
         "type": "scatter",
         "uid": "f5ced218-08b8-47ed-9ed6-21cca8a41d8d",
         "x": [
          -0.8997606878457433
         ],
         "y": [
          -0.020753423991111204
         ]
        },
        {
         "hoverinfo": "text",
         "marker": {
          "color": "blue",
          "size": 0.5
         },
         "mode": "markers",
         "text": "Linux appears with Hadoop 76 times",
         "type": "scatter",
         "uid": "ad189aec-146e-4e2a-b8ea-6095cafe964a",
         "x": [
          0.8875815607628743
         ],
         "y": [
          -0.14899319781030276
         ]
        },
        {
         "hoverinfo": "text",
         "marker": {
          "color": "green",
          "size": 0.5
         },
         "mode": "markers",
         "text": "Hadoop appears with AWS 42 times",
         "type": "scatter",
         "uid": "67097604-6280-4f8a-9d04-26d88a9c74e2",
         "x": [
          -0.8999834277891325
         ],
         "y": [
          0.005461657708362397
         ]
        },
        {
         "hoverinfo": "text",
         "marker": {
          "color": "blue",
          "size": 0.5
         },
         "mode": "markers",
         "text": "AWS appears with Hadoop 42 times",
         "type": "scatter",
         "uid": "c9dde289-43b9-4929-a48c-bb7487fe34b1",
         "x": [
          0.8973709730448336
         ],
         "y": [
          -0.0687410847788179
         ]
        },
        {
         "hoverinfo": "text",
         "marker": {
          "color": "green",
          "size": 0.5
         },
         "mode": "markers",
         "text": "Spark appears with Informatica 10 times",
         "type": "scatter",
         "uid": "4b54b496-8218-4d7b-bd49-6079c34868d9",
         "x": [
          -0.8933191263098085
         ],
         "y": [
          -0.10945747379270422
         ]
        },
        {
         "hoverinfo": "text",
         "marker": {
          "color": "blue",
          "size": 0.5
         },
         "mode": "markers",
         "text": "Informatica appears with Spark 10 times",
         "type": "scatter",
         "uid": "1189dfbb-f821-4201-83ce-2b611152b258",
         "x": [
          -0.8591275486522841
         ],
         "y": [
          -0.2681414834499077
         ]
        },
        {
         "hoverinfo": "text",
         "marker": {
          "color": "green",
          "size": 0.5
         },
         "mode": "markers",
         "text": "Spark appears with Qlik 15 times",
         "type": "scatter",
         "uid": "431d58e1-19b8-4ba1-9c04-ee8f41531a48",
         "x": [
          -0.8930078237859224
         ],
         "y": [
          -0.11196886467733413
         ]
        },
        {
         "hoverinfo": "text",
         "marker": {
          "color": "blue",
          "size": 0.5
         },
         "mode": "markers",
         "text": "Qlik appears with Spark 15 times",
         "type": "scatter",
         "uid": "811fc756-b790-48d4-89ed-213d4e245c46",
         "x": [
          -0.7913517400306129
         ],
         "y": [
          -0.42867519586572916
         ]
        },
        {
         "hoverinfo": "text",
         "marker": {
          "color": "green",
          "size": 0.5
         },
         "mode": "markers",
         "text": "Spark appears with Tableau 33 times",
         "type": "scatter",
         "uid": "027ee715-2eef-4db7-800c-2da1506a972c",
         "x": [
          -0.8889447927776776
         ],
         "y": [
          -0.14063127459228983
         ]
        },
        {
         "hoverinfo": "text",
         "marker": {
          "color": "blue",
          "size": 0.5
         },
         "mode": "markers",
         "text": "Tableau appears with Spark 33 times",
         "type": "scatter",
         "uid": "a3918583-5516-44a0-9aa9-b70eb9093443",
         "x": [
          -0.5212917723512676
         ],
         "y": [
          -0.7336585636921812
         ]
        },
        {
         "hoverinfo": "text",
         "marker": {
          "color": "green",
          "size": 0.5
         },
         "mode": "markers",
         "text": "Spark appears with Microstrategy 3 times",
         "type": "scatter",
         "uid": "ba4b8490-d8c3-4092-9640-8ddfa20fb6ce",
         "x": [
          -0.8939087894614173
         ],
         "y": [
          -0.10453265577619043
         ]
        },
        {
         "hoverinfo": "text",
         "marker": {
          "color": "blue",
          "size": 0.5
         },
         "mode": "markers",
         "text": "Microstrategy appears with Spark 3 times",
         "type": "scatter",
         "uid": "2f5388d6-c8b8-4cfa-8755-5e5c6b192863",
         "x": [
          -0.06732712415000064
         ],
         "y": [
          -0.8974781659481696
         ]
        },
        {
         "hoverinfo": "text",
         "marker": {
          "color": "green",
          "size": 0.5
         },
         "mode": "markers",
         "text": "Spark appears with Oracle BI 30 times",
         "type": "scatter",
         "uid": "9451b504-4da4-44ab-bfd1-339bae25c4bb",
         "x": [
          -0.8899189417338905
         ],
         "y": [
          -0.13432898846947514
         ]
        },
        {
         "hoverinfo": "text",
         "marker": {
          "color": "blue",
          "size": 0.5
         },
         "mode": "markers",
         "text": "Oracle BI appears with Spark 30 times",
         "type": "scatter",
         "uid": "4df4a587-ca3d-43e6-8364-81c6aa6b6571",
         "x": [
          0.011818070082321872
         ],
         "y": [
          -0.8999224039991056
         ]
        },
        {
         "hoverinfo": "text",
         "marker": {
          "color": "green",
          "size": 0.5
         },
         "mode": "markers",
         "text": "Spark appears with Python 133 times",
         "type": "scatter",
         "uid": "e89f82a3-d02e-4477-a14b-05d38ddde405",
         "x": [
          -0.872065358435236
         ],
         "y": [
          -0.22249047309317171
         ]
        },
        {
         "hoverinfo": "text",
         "marker": {
          "color": "blue",
          "size": 0.5
         },
         "mode": "markers",
         "text": "Python appears with Spark 133 times",
         "type": "scatter",
         "uid": "4fce360d-96ca-402a-9737-192e1f26b94f",
         "x": [
          0.7309461271760946
         ],
         "y": [
          -0.5250883346316774
         ]
        },
        {
         "hoverinfo": "text",
         "marker": {
          "color": "green",
          "size": 0.5
         },
         "mode": "markers",
         "text": "Spark appears with VBA 6 times",
         "type": "scatter",
         "uid": "cf3a0d49-b712-4614-9a73-79fca9fd8b0f",
         "x": [
          -0.8938025188704647
         ],
         "y": [
          -0.10543745663099387
         ]
        },
        {
         "hoverinfo": "text",
         "marker": {
          "color": "blue",
          "size": 0.5
         },
         "mode": "markers",
         "text": "VBA appears with Spark 6 times",
         "type": "scatter",
         "uid": "ff723ccd-08ec-4ca9-8562-a5af408f5502",
         "x": [
          0.8213105396323913
         ],
         "y": [
          -0.368033962412099
         ]
        },
        {
         "hoverinfo": "text",
         "marker": {
          "color": "green",
          "size": 0.5
         },
         "mode": "markers",
         "text": "Spark appears with Linux 58 times",
         "type": "scatter",
         "uid": "6d13f32f-05a9-48ac-ac2a-ad01dd7d3c08",
         "x": [
          -0.8845464234589828
         ],
         "y": [
          -0.16606512200315204
         ]
        },
        {
         "hoverinfo": "text",
         "marker": {
          "color": "blue",
          "size": 0.5
         },
         "mode": "markers",
         "text": "Linux appears with Spark 58 times",
         "type": "scatter",
         "uid": "17175253-41da-4549-bef1-cb8215e6d4dc",
         "x": [
          0.8829531219949579
         ],
         "y": [
          -0.17433813225842756
         ]
        },
        {
         "hoverinfo": "text",
         "marker": {
          "color": "green",
          "size": 0.5
         },
         "mode": "markers",
         "text": "Spark appears with AWS 44 times",
         "type": "scatter",
         "uid": "cbf062e8-ecd7-4ad6-a628-e201367766e2",
         "x": [
          -0.8863932921096381
         ],
         "y": [
          -0.15590680454373265
         ]
        },
        {
         "hoverinfo": "text",
         "marker": {
          "color": "blue",
          "size": 0.5
         },
         "mode": "markers",
         "text": "AWS appears with Spark 44 times",
         "type": "scatter",
         "uid": "dc67cf73-bd8c-4b28-bc38-021c529c3ce9",
         "x": [
          0.8983934928927182
         ],
         "y": [
          -0.053750645838179616
         ]
        },
        {
         "hoverinfo": "text",
         "marker": {
          "color": "green",
          "size": 0.5
         },
         "mode": "markers",
         "text": "Informatica appears with Qlik 92 times",
         "type": "scatter",
         "uid": "261524b4-a733-4cb1-89ba-39b9430e6d26",
         "x": [
          -0.833080243491083
         ],
         "y": [
          -0.34055441254642116
         ]
        },
        {
         "hoverinfo": "text",
         "marker": {
          "color": "blue",
          "size": 0.5
         },
         "mode": "markers",
         "text": "Qlik appears with Informatica 92 times",
         "type": "scatter",
         "uid": "8b131ca3-0b7c-413b-80b3-6820766a8b25",
         "x": [
          -0.7434793799705253
         ],
         "y": [
          -0.5071867620104485
         ]
        },
        {
         "hoverinfo": "text",
         "marker": {
          "color": "green",
          "size": 0.5
         },
         "mode": "markers",
         "text": "Informatica appears with Tableau 66 times",
         "type": "scatter",
         "uid": "106fee9d-7b4a-4bc7-a8a1-f76e642f851c",
         "x": [
          -0.839049904868718
         ],
         "y": [
          -0.3255691280508569
         ]
        },
        {
         "hoverinfo": "text",
         "marker": {
          "color": "blue",
          "size": 0.5
         },
         "mode": "markers",
         "text": "Tableau appears with Informatica 66 times",
         "type": "scatter",
         "uid": "4d60dc28-04b3-4c7e-a2a8-23e37a21af98",
         "x": [
          -0.4699959852573807
         ],
         "y": [
          -0.7675309595331931
         ]
        },
        {
         "hoverinfo": "text",
         "marker": {
          "color": "green",
          "size": 0.5
         },
         "mode": "markers",
         "text": "Informatica appears with Microstrategy 12 times",
         "type": "scatter",
         "uid": "8319bbb8-2d88-4bea-b1c5-02c4d3765481",
         "x": [
          -0.8570336352367711
         ],
         "y": [
          -0.27476052859325567
         ]
        },
        {
         "hoverinfo": "text",
         "marker": {
          "color": "blue",
          "size": 0.5
         },
         "mode": "markers",
         "text": "Microstrategy appears with Informatica 12 times",
         "type": "scatter",
         "uid": "16958729-3c91-45ae-9374-3f21f16a9aa6",
         "x": [
          -0.06189462422223016
         ],
         "y": [
          -0.8978691750429953
         ]
        },
        {
         "hoverinfo": "text",
         "marker": {
          "color": "green",
          "size": 0.5
         },
         "mode": "markers",
         "text": "Informatica appears with Oracle BI 124 times",
         "type": "scatter",
         "uid": "2780b6c3-7662-4995-8050-e6a09d3da4c4",
         "x": [
          -0.8148786271190872
         ],
         "y": [
          -0.382063899190321
         ]
        },
        {
         "hoverinfo": "text",
         "marker": {
          "color": "blue",
          "size": 0.5
         },
         "mode": "markers",
         "text": "Oracle BI appears with Informatica 124 times",
         "type": "scatter",
         "uid": "0be8253f-a1d0-4598-8713-2d632c24c419",
         "x": [
          0.12479107470287225
         ],
         "y": [
          -0.8913064499230902
         ]
        },
        {
         "hoverinfo": "text",
         "marker": {
          "color": "green",
          "size": 0.5
         },
         "mode": "markers",
         "text": "Informatica appears with Python 25 times",
         "type": "scatter",
         "uid": "638416b2-e3df-430d-ad7d-34b9d045c5ef",
         "x": [
          -0.8546650377668159
         ],
         "y": [
          -0.28204197066934433
         ]
        },
        {
         "hoverinfo": "text",
         "marker": {
          "color": "blue",
          "size": 0.5
         },
         "mode": "markers",
         "text": "Python appears with Informatica 25 times",
         "type": "scatter",
         "uid": "27a2f1bf-faea-4371-875c-8b4783e74f20",
         "x": [
          0.5960520517512106
         ],
         "y": [
          -0.6743307434806546
         ]
        },
        {
         "hoverinfo": "text",
         "marker": {
          "color": "green",
          "size": 0.5
         },
         "mode": "markers",
         "text": "Informatica appears with VBA 3 times",
         "type": "scatter",
         "uid": "6f0d351f-74f0-49b9-b9fe-bafe69807aed",
         "x": [
          -0.8607241270440928
         ],
         "y": [
          -0.26297143784864613
         ]
        },
        {
         "hoverinfo": "text",
         "marker": {
          "color": "blue",
          "size": 0.5
         },
         "mode": "markers",
         "text": "VBA appears with Informatica 3 times",
         "type": "scatter",
         "uid": "d231d879-ee3d-487a-ab16-895503e9b9fc",
         "x": [
          0.8201204796005308
         ],
         "y": [
          -0.370678295749556
         ]
        },
        {
         "hoverinfo": "text",
         "marker": {
          "color": "green",
          "size": 0.5
         },
         "mode": "markers",
         "text": "Informatica appears with Linux 7 times",
         "type": "scatter",
         "uid": "92fc34a7-7981-452b-8f88-a39100e400a8",
         "x": [
          -0.8601252965576038
         ],
         "y": [
          -0.26492352523264906
         ]
        },
        {
         "hoverinfo": "text",
         "marker": {
          "color": "blue",
          "size": 0.5
         },
         "mode": "markers",
         "text": "Linux appears with Informatica 7 times",
         "type": "scatter",
         "uid": "8ca44401-ec67-4a20-a2bc-ba08f2bf8cf7",
         "x": [
          0.8718886358957586
         ],
         "y": [
          -0.2231820032973834
         ]
        },
        {
         "hoverinfo": "text",
         "marker": {
          "color": "green",
          "size": 0.5
         },
         "mode": "markers",
         "text": "Informatica appears with AWS 19 times",
         "type": "scatter",
         "uid": "f068ee93-1cd1-4dba-8351-5998cf9a0e8a",
         "x": [
          -0.8560621265424572
         ],
         "y": [
          -0.2777726327405314
         ]
        },
        {
         "hoverinfo": "text",
         "marker": {
          "color": "blue",
          "size": 0.5
         },
         "mode": "markers",
         "text": "AWS appears with Informatica 19 times",
         "type": "scatter",
         "uid": "be45fde6-e261-4347-831d-c6d217df38c9",
         "x": [
          0.8956558398437586
         ],
         "y": [
          -0.08832109914268173
         ]
        },
        {
         "hoverinfo": "text",
         "marker": {
          "color": "green",
          "size": 0.5
         },
         "mode": "markers",
         "text": "Qlik appears with Tableau 319 times",
         "type": "scatter",
         "uid": "2fdb45eb-6244-4b61-9e73-c1f9071d66d4",
         "x": [
          -0.6489439095859227
         ],
         "y": [
          -0.62359586449185
         ]
        },
        {
         "hoverinfo": "text",
         "marker": {
          "color": "blue",
          "size": 0.5
         },
         "mode": "markers",
         "text": "Tableau appears with Qlik 319 times",
         "type": "scatter",
         "uid": "9895ac18-7558-450d-be8a-c4da69890916",
         "x": [
          -0.30570383521746525
         ],
         "y": [
          -0.8464899084651469
         ]
        },
        {
         "hoverinfo": "text",
         "marker": {
          "color": "green",
          "size": 0.5
         },
         "mode": "markers",
         "text": "Qlik appears with Microstrategy 31 times",
         "type": "scatter",
         "uid": "e486377e-f372-443d-8800-b59e9fe127f5",
         "x": [
          -0.7803531137533531
         ],
         "y": [
          -0.44838489922771285
         ]
        },
        {
         "hoverinfo": "text",
         "marker": {
          "color": "blue",
          "size": 0.5
         },
         "mode": "markers",
         "text": "Microstrategy appears with Qlik 31 times",
         "type": "scatter",
         "uid": "dffc5216-22a2-43ba-ac53-36b1f2beec13",
         "x": [
          -0.04359225403124576
         ],
         "y": [
          -0.8989436664154631
         ]
        },
        {
         "hoverinfo": "text",
         "marker": {
          "color": "green",
          "size": 0.5
         },
         "mode": "markers",
         "text": "Qlik appears with Oracle BI 305 times",
         "type": "scatter",
         "uid": "1533e8e5-167a-4b9f-8180-ef4033535cb0",
         "x": [
          -0.6961544330561521
         ],
         "y": [
          -0.5704112598259851
         ]
        },
        {
         "hoverinfo": "text",
         "marker": {
          "color": "blue",
          "size": 0.5
         },
         "mode": "markers",
         "text": "Oracle BI appears with Qlik 305 times",
         "type": "scatter",
         "uid": "67707c78-bfd6-40c1-8e9f-c086b6524311",
         "x": [
          0.3502865841954116
         ],
         "y": [
          -0.8290351674885155
         ]
        },
        {
         "hoverinfo": "text",
         "marker": {
          "color": "green",
          "size": 0.5
         },
         "mode": "markers",
         "text": "Qlik appears with Python 44 times",
         "type": "scatter",
         "uid": "f5100eb1-a040-4c16-a0ac-ec9bf111ba2b",
         "x": [
          -0.7760584198448013
         ],
         "y": [
          -0.45577771883670465
         ]
        },
        {
         "hoverinfo": "text",
         "marker": {
          "color": "blue",
          "size": 0.5
         },
         "mode": "markers",
         "text": "Python appears with Qlik 44 times",
         "type": "scatter",
         "uid": "24a8b15a-a2bd-42d4-b691-d74be08b7bbe",
         "x": [
          0.6076398811487981
         ],
         "y": [
          -0.6639079566005175
         ]
        },
        {
         "hoverinfo": "text",
         "marker": {
          "color": "green",
          "size": 0.5
         },
         "mode": "markers",
         "text": "Qlik appears with VBA 29 times",
         "type": "scatter",
         "uid": "0ec67c1f-5d08-4f1b-a321-57063f8c5da1",
         "x": [
          -0.7870779859300963
         ],
         "y": [
          -0.43647250092557177
         ]
        },
        {
         "hoverinfo": "text",
         "marker": {
          "color": "blue",
          "size": 0.5
         },
         "mode": "markers",
         "text": "VBA appears with Qlik 29 times",
         "type": "scatter",
         "uid": "3cedefa0-935c-4e67-b77e-ea7446930351",
         "x": [
          0.8263423750858262
         ],
         "y": [
          -0.35659259546086447
         ]
        },
        {
         "hoverinfo": "text",
         "marker": {
          "color": "green",
          "size": 0.5
         },
         "mode": "markers",
         "text": "Qlik appears with Linux 2 times",
         "type": "scatter",
         "uid": "822ce6e9-8221-4cc7-be0a-3def748c606d",
         "x": [
          -0.7965587325923305
         ],
         "y": [
          -0.418920261542576
         ]
        },
        {
         "hoverinfo": "text",
         "marker": {
          "color": "blue",
          "size": 0.5
         },
         "mode": "markers",
         "text": "Linux appears with Qlik 2 times",
         "type": "scatter",
         "uid": "8559cd41-e8f3-4b24-943d-43dd75353f2f",
         "x": [
          0.8710481342995258
         ],
         "y": [
          -0.22644016369300574
         ]
        },
        {
         "hoverinfo": "text",
         "marker": {
          "color": "green",
          "size": 0.5
         },
         "mode": "markers",
         "text": "Qlik appears with AWS 3 times",
         "type": "scatter",
         "uid": "59919651-a62e-4ad5-b4c6-4819adea1969",
         "x": [
          -0.796293263544797
         ],
         "y": [
          -0.4194246516755738
         ]
        },
        {
         "hoverinfo": "text",
         "marker": {
          "color": "blue",
          "size": 0.5
         },
         "mode": "markers",
         "text": "AWS appears with Qlik 3 times",
         "type": "scatter",
         "uid": "41a65af3-f940-405d-a191-d603ebda1f03",
         "x": [
          0.8947375365467838
         ],
         "y": [
          -0.09718405576118341
         ]
        },
        {
         "hoverinfo": "text",
         "marker": {
          "color": "green",
          "size": 0.5
         },
         "mode": "markers",
         "text": "Tableau appears with Microstrategy 44 times",
         "type": "scatter",
         "uid": "cbbdb356-c5f1-4c0f-a5ab-b678b76cf579",
         "x": [
          -0.4923041044619289
         ],
         "y": [
          -0.7534166634273084
         ]
        },
        {
         "hoverinfo": "text",
         "marker": {
          "color": "blue",
          "size": 0.5
         },
         "mode": "markers",
         "text": "Microstrategy appears with Tableau 44 times",
         "type": "scatter",
         "uid": "3d16995b-e12c-4351-ac4e-f667065f149c",
         "x": [
          -0.0323256784171024
         ],
         "y": [
          -0.8994192851584148
         ]
        },
        {
         "hoverinfo": "text",
         "marker": {
          "color": "green",
          "size": 0.5
         },
         "mode": "markers",
         "text": "Tableau appears with Oracle BI 373 times",
         "type": "scatter",
         "uid": "450d3599-baad-4002-a7e5-ac0b415022b4",
         "x": [
          -0.22923273675879127
         ],
         "y": [
          -0.870317386013904
         ]
        },
        {
         "hoverinfo": "text",
         "marker": {
          "color": "blue",
          "size": 0.5
         },
         "mode": "markers",
         "text": "Oracle BI appears with Tableau 373 times",
         "type": "scatter",
         "uid": "c3a3dd70-5733-4f02-a233-6667760066b5",
         "x": [
          0.4219776809281583
         ],
         "y": [
          -0.7949432915614129
         ]
        },
        {
         "hoverinfo": "text",
         "marker": {
          "color": "green",
          "size": 0.5
         },
         "mode": "markers",
         "text": "Tableau appears with Python 115 times",
         "type": "scatter",
         "uid": "8123a09d-7093-4c9d-b0ed-436474b851ef",
         "x": [
          -0.4144535091612387
         ],
         "y": [
          -0.7988919130545352
         ]
        },
        {
         "hoverinfo": "text",
         "marker": {
          "color": "blue",
          "size": 0.5
         },
         "mode": "markers",
         "text": "Python appears with Tableau 115 times",
         "type": "scatter",
         "uid": "e6f8191d-d07b-43d2-a57c-26443852d904",
         "x": [
          0.6966098912496305
         ],
         "y": [
          -0.5698549459407877
         ]
        },
        {
         "hoverinfo": "text",
         "marker": {
          "color": "green",
          "size": 0.5
         },
         "mode": "markers",
         "text": "Tableau appears with VBA 59 times",
         "type": "scatter",
         "uid": "d6f90216-a382-4d14-9204-817ccf6f2684",
         "x": [
          -0.48227762184311895
         ],
         "y": [
          -0.759873868131643
         ]
        },
        {
         "hoverinfo": "text",
         "marker": {
          "color": "blue",
          "size": 0.5
         },
         "mode": "markers",
         "text": "VBA appears with Tableau 59 times",
         "type": "scatter",
         "uid": "5ac99b65-8678-41d1-872a-a6078b00f255",
         "x": [
          0.8389306268796651
         ],
         "y": [
          -0.3258763619584767
         ]
        },
        {
         "hoverinfo": "text",
         "marker": {
          "color": "green",
          "size": 0.5
         },
         "mode": "markers",
         "text": "Tableau appears with Linux 14 times",
         "type": "scatter",
         "uid": "c0a6ddda-2dd8-44f9-9e62-9c9394f97245",
         "x": [
          -0.5348862223530941
         ],
         "y": [
          -0.723807107686044
         ]
        },
        {
         "hoverinfo": "text",
         "marker": {
          "color": "blue",
          "size": 0.5
         },
         "mode": "markers",
         "text": "Linux appears with Tableau 14 times",
         "type": "scatter",
         "uid": "61e2b2c9-10d6-4657-8bc8-279bc483c577",
         "x": [
          0.8723870877799063
         ],
         "y": [
          -0.22122560673415329
         ]
        },
        {
         "hoverinfo": "text",
         "marker": {
          "color": "green",
          "size": 0.5
         },
         "mode": "markers",
         "text": "Tableau appears with AWS 32 times",
         "type": "scatter",
         "uid": "143f6301-302a-4d6c-89d3-2b7329cc2751",
         "x": [
          -0.5274085519848389
         ],
         "y": [
          -0.7292737615554639
         ]
        },
        {
         "hoverinfo": "text",
         "marker": {
          "color": "blue",
          "size": 0.5
         },
         "mode": "markers",
         "text": "AWS appears with Tableau 32 times",
         "type": "scatter",
         "uid": "90a6fb58-06ff-4751-9408-9db7dc898b0b",
         "x": [
          0.8968540820526181
         ],
         "y": [
          -0.07518480900790936
         ]
        },
        {
         "hoverinfo": "text",
         "marker": {
          "color": "green",
          "size": 0.5
         },
         "mode": "markers",
         "text": "Microstrategy appears with Oracle BI 54 times",
         "type": "scatter",
         "uid": "5e3db45f-c114-4b5c-a4a9-faa58a644bf7",
         "x": [
          -0.024811699451552354
         ],
         "y": [
          -0.8996579236411614
         ]
        },
        {
         "hoverinfo": "text",
         "marker": {
          "color": "blue",
          "size": 0.5
         },
         "mode": "markers",
         "text": "Oracle BI appears with Microstrategy 54 times",
         "type": "scatter",
         "uid": "1f67b2bd-9f72-42c5-9b1a-16361dd7f83e",
         "x": [
          0.057457666505131476
         ],
         "y": [
          -0.8981640254206272
         ]
        },
        {
         "hoverinfo": "text",
         "marker": {
          "color": "green",
          "size": 0.5
         },
         "mode": "markers",
         "text": "Microstrategy appears with Python 15 times",
         "type": "scatter",
         "uid": "3d2a238c-6bfb-4b64-a6a5-ae36beef3f67",
         "x": [
          -0.059828138264363166
         ],
         "y": [
          -0.8980092393020354
         ]
        },
        {
         "hoverinfo": "text",
         "marker": {
          "color": "blue",
          "size": 0.5
         },
         "mode": "markers",
         "text": "Python appears with Microstrategy 15 times",
         "type": "scatter",
         "uid": "f1738546-9f12-42c6-92b3-010b190e228a",
         "x": [
          0.5886863941796235
         ],
         "y": [
          -0.6807703939712662
         ]
        },
        {
         "hoverinfo": "text",
         "marker": {
          "color": "green",
          "size": 0.5
         },
         "mode": "markers",
         "text": "Microstrategy appears with VBA 7 times",
         "type": "scatter",
         "uid": "ab81b8fa-4df1-4b08-bd23-5354e5a12145",
         "x": [
          -0.06487896679355089
         ],
         "y": [
          -0.8976584649340758
         ]
        },
        {
         "hoverinfo": "text",
         "marker": {
          "color": "blue",
          "size": 0.5
         },
         "mode": "markers",
         "text": "VBA appears with Microstrategy 7 times",
         "type": "scatter",
         "uid": "d8a23cac-5730-4dcf-96ca-fd796800cfb7",
         "x": [
          0.8228165118036712
         ],
         "y": [
          -0.36465461453715226
         ]
        },
        {
         "hoverinfo": "text",
         "marker": {
          "color": "green",
          "size": 0.5
         },
         "mode": "markers",
         "text": "Microstrategy appears with Linux 5 times",
         "type": "scatter",
         "uid": "002f949c-2e5c-4de2-944b-7fd2ddb1504a",
         "x": [
          -0.06579708334296472
         ],
         "y": [
          -0.897591635335111
         ]
        },
        {
         "hoverinfo": "text",
         "marker": {
          "color": "blue",
          "size": 0.5
         },
         "mode": "markers",
         "text": "Linux appears with Microstrategy 5 times",
         "type": "scatter",
         "uid": "deeaaa9e-d639-4407-b128-7b5ff3821254",
         "x": [
          0.8716018362476081
         ],
         "y": [
          -0.22429944059180743
         ]
        },
        {
         "hoverinfo": "text",
         "marker": {
          "color": "green",
          "size": 0.5
         },
         "mode": "markers",
         "text": "Microstrategy appears with AWS 2 times",
         "type": "scatter",
         "uid": "220922a5-add8-4ec3-a95a-e5756e562a5d",
         "x": [
          -0.06770960395418868
         ],
         "y": [
          -0.8974493910702525
         ]
        },
        {
         "hoverinfo": "text",
         "marker": {
          "color": "blue",
          "size": 0.5
         },
         "mode": "markers",
         "text": "AWS appears with Microstrategy 2 times",
         "type": "scatter",
         "uid": "ae274599-758b-48e5-9ce2-11eb1e52117c",
         "x": [
          0.8946522978404051
         ],
         "y": [
          -0.09796563667369819
         ]
        },
        {
         "hoverinfo": "text",
         "marker": {
          "color": "green",
          "size": 0.5
         },
         "mode": "markers",
         "text": "Oracle BI appears with Python 138 times",
         "type": "scatter",
         "uid": "fffe754d-8f51-4ff3-a451-b9a858fe7075",
         "x": [
          0.21515011917970264
         ],
         "y": [
          -0.8739052730227458
         ]
        },
        {
         "hoverinfo": "text",
         "marker": {
          "color": "blue",
          "size": 0.5
         },
         "mode": "markers",
         "text": "Python appears with Oracle BI 138 times",
         "type": "scatter",
         "uid": "dd634333-52da-406d-aea7-d97a8d8d242e",
         "x": [
          0.7485011934721586
         ],
         "y": [
          -0.49974589880333603
         ]
        },
        {
         "hoverinfo": "text",
         "marker": {
          "color": "green",
          "size": 0.5
         },
         "mode": "markers",
         "text": "Oracle BI appears with VBA 63 times",
         "type": "scatter",
         "uid": "e1a8f510-2e99-4d78-a47d-65db959e6bf8",
         "x": [
          0.08536090422869919
         ],
         "y": [
          -0.895942808458921
         ]
        },
        {
         "hoverinfo": "text",
         "marker": {
          "color": "blue",
          "size": 0.5
         },
         "mode": "markers",
         "text": "VBA appears with Oracle BI 63 times",
         "type": "scatter",
         "uid": "9d6e6c1a-b56f-4070-b57e-d718fa9e6844",
         "x": [
          0.8432705327789942
         ],
         "y": [
          -0.31447544983135217
         ]
        },
        {
         "hoverinfo": "text",
         "marker": {
          "color": "green",
          "size": 0.5
         },
         "mode": "markers",
         "text": "Oracle BI appears with Linux 3 times",
         "type": "scatter",
         "uid": "ee6e64e4-da93-4f01-81c2-d624d7f2104e",
         "x": [
          0.007953214275733247
         ],
         "y": [
          -0.8999648584154185
         ]
        },
        {
         "hoverinfo": "text",
         "marker": {
          "color": "blue",
          "size": 0.5
         },
         "mode": "markers",
         "text": "Linux appears with Oracle BI 3 times",
         "type": "scatter",
         "uid": "d62a55e6-e5cf-42d2-b44f-d7ad3ad72157",
         "x": [
          0.8711689516630063
         ],
         "y": [
          -0.22597490493056646
         ]
        },
        {
         "hoverinfo": "text",
         "marker": {
          "color": "green",
          "size": 0.5
         },
         "mode": "markers",
         "text": "Oracle BI appears with AWS 43 times",
         "type": "scatter",
         "uid": "af25ad74-c714-4fa2-bbad-9176b09dfd65",
         "x": [
          0.04611553809408422
         ],
         "y": [
          -0.8988177552464643
         ]
        },
        {
         "hoverinfo": "text",
         "marker": {
          "color": "blue",
          "size": 0.5
         },
         "mode": "markers",
         "text": "AWS appears with Oracle BI 43 times",
         "type": "scatter",
         "uid": "33441f7a-d5fa-41ce-9954-538c27dbccf2",
         "x": [
          0.8979075670301921
         ],
         "y": [
          -0.06133515362270811
         ]
        },
        {
         "hoverinfo": "text",
         "marker": {
          "color": "green",
          "size": 0.5
         },
         "mode": "markers",
         "text": "Python appears with VBA 58 times",
         "type": "scatter",
         "uid": "abe53005-d923-4d2a-ade1-267d0fa763a3",
         "x": [
          0.6318876597755201
         ],
         "y": [
          -0.6408728309293635
         ]
        },
        {
         "hoverinfo": "text",
         "marker": {
          "color": "blue",
          "size": 0.5
         },
         "mode": "markers",
         "text": "VBA appears with Python 58 times",
         "type": "scatter",
         "uid": "a9718560-0163-4648-a193-b56d3eabb8ae",
         "x": [
          0.8346237904853626
         ],
         "y": [
          -0.33675380971244495
         ]
        },
        {
         "hoverinfo": "text",
         "marker": {
          "color": "green",
          "size": 0.5
         },
         "mode": "markers",
         "text": "Python appears with Linux 82 times",
         "type": "scatter",
         "uid": "cdced4d0-d915-4fcd-954f-1e50ee577e56",
         "x": [
          0.6662307508962363
         ],
         "y": [
          -0.6050922132702066
         ]
        },
        {
         "hoverinfo": "text",
         "marker": {
          "color": "blue",
          "size": 0.5
         },
         "mode": "markers",
         "text": "Linux appears with Python 82 times",
         "type": "scatter",
         "uid": "40c27075-9b53-41d2-bda1-b035db7bf04d",
         "x": [
          0.8899696697497853
         ],
         "y": [
          -0.13399248831728633
         ]
        },
        {
         "hoverinfo": "text",
         "marker": {
          "color": "green",
          "size": 0.5
         },
         "mode": "markers",
         "text": "Python appears with AWS 78 times",
         "type": "scatter",
         "uid": "dcc0cce0-22bb-4873-928f-f3994ad804aa",
         "x": [
          0.6538573809861885
         ],
         "y": [
          -0.6184420145251149
         ]
        },
        {
         "hoverinfo": "text",
         "marker": {
          "color": "blue",
          "size": 0.5
         },
         "mode": "markers",
         "text": "AWS appears with Python 78 times",
         "type": "scatter",
         "uid": "66d74a56-b645-4c22-955b-5b71da366145",
         "x": [
          0.8993160967840955
         ],
         "y": [
          -0.0350793110681994
         ]
        },
        {
         "hoverinfo": "text",
         "marker": {
          "color": "green",
          "size": 0.5
         },
         "mode": "markers",
         "text": "VBA appears with AWS 5 times",
         "type": "scatter",
         "uid": "9f2b5b6d-4453-4ad7-ace6-adf388097ab9",
         "x": [
          0.8204496229175755
         ],
         "y": [
          -0.36994920766830713
         ]
        },
        {
         "hoverinfo": "text",
         "marker": {
          "color": "blue",
          "size": 0.5
         },
         "mode": "markers",
         "text": "AWS appears with VBA 5 times",
         "type": "scatter",
         "uid": "9d8ef26b-16a7-4191-ab90-015b69a153ef",
         "x": [
          0.894812731072968
         ],
         "y": [
          -0.09648925489263745
         ]
        },
        {
         "hoverinfo": "text",
         "marker": {
          "color": "green",
          "size": 0.5
         },
         "mode": "markers",
         "text": "Linux appears with AWS 23 times",
         "type": "scatter",
         "uid": "e773bc08-f637-44ab-80db-6c16eb4ce481",
         "x": [
          0.8739939366521444
         ],
         "y": [
          -0.21478966151862944
         ]
        },
        {
         "hoverinfo": "text",
         "marker": {
          "color": "blue",
          "size": 0.5
         },
         "mode": "markers",
         "text": "AWS appears with Linux 23 times",
         "type": "scatter",
         "uid": "a39e6161-fbc9-4628-b5dd-e49553c0217c",
         "x": [
          0.8960084524085747
         ],
         "y": [
          -0.08466908061619036
         ]
        }
       ],
       "layout": {
        "autosize": false,
        "font": {
         "color": "#655643",
         "family": "Fira Sans Condensed",
         "size": 12
        },
        "height": 525,
        "hidesources": true,
        "hoverdistance": 40,
        "hovermode": "closest",
        "margin": {
         "b": 10,
         "l": 280,
         "r": 280,
         "t": 80
        },
        "paper_bgcolor": "#fffaf0",
        "plot_bgcolor": "#fffaf0",
        "shapes": [
         {
          "fillcolor": "#f2e6ce",
          "layer": "below",
          "line": {
           "color": "rgb(175,175,175)",
           "width": 0.5
          },
          "path": "M 0.9750801846658901,0.22185272924157082 Q 0.1842538926889151, 0.07778497945607345 0.8390756248935435, 0.5440147936495013L 0.8390756248935435, 0.5440147936495013 L 0.8521026202936544, 0.5233747457498196 L 0.8646220060745403, 0.502422916089262 M 0.8646220060745403,0.502422916089262 Q 0.18439680406021858, 0.07744558510578484 0.9640777149787676, 0.26562032957083354L 0.9640777149787676, 0.26562032957083354 L 0.9698258816139191, 0.2437986040808775 L 0.9750801846658901, 0.22185272924157082 ",
          "type": "path"
         },
         {
          "fillcolor": "#f2e6ce",
          "layer": "below",
          "line": {
           "color": "rgb(175,175,175)",
           "width": 0.5
          },
          "path": "M 0.9981849830298577,0.06022241819856359 Q 0.14543278386725483, 0.13729277248500865 0.11755296474159527, 0.9930666143217489L 0.11755296474159527, 0.9930666143217489 L 0.13169124006793198, 0.9912907834179486 L 0.14580277622483756, 0.9893136764672416 M 0.14580277622483756,0.9893136764672416 Q 0.14553016126996834, 0.1371895482926342 0.9961883925296214, 0.08722778564911988L 0.9961883925296214, 0.08722778564911988 L 0.9972781020121282, 0.07373186046131794 L 0.9981849830298577, 0.06022241819856359 ",
          "type": "path"
         },
         {
          "fillcolor": "#f2e6ce",
          "layer": "below",
          "line": {
           "color": "rgb(175,175,175)",
           "width": 0.5
          },
          "path": "M 0.9961883925296214,0.08722778564911988 Q 0.0973756684129059, 0.17469395868529572 -0.4497031039134961, 0.8931781000061338L -0.4497031039134961, 0.8931781000061338 L -0.43645787885035525, 0.8997246912191799 L -0.42311737771932134, 0.9060748780713023 M -0.42311737771932134,0.9060748780713023 Q 0.09746353850289484, 0.17464495029199884 0.9932931380854352, 0.11562327547855011L 0.9932931380854352, 0.11562327547855011 L 0.9948420809984218, 0.10143586089115414 L 0.9961883925296214, 0.08722778564911988 ",
          "type": "path"
         },
         {
          "fillcolor": "#f2e6ce",
          "layer": "below",
          "line": {
           "color": "rgb(175,175,175)",
           "width": 0.5
          },
          "path": "M 0.9999992560253165,0.0012198150735044618 Q 0.0730608181219825, 0.18617764864598166 -0.7322756833554535, 0.6810083138745838L -0.7322756833554535, 0.6810083138745838 L -0.7318919890902139, 0.6814206603160563 L -0.7315080626315991, 0.6818327905762266 M -0.7315080626315991,0.6818327905762266 Q 0.07305213147717758, 0.18618105727125187 0.9999970241023729, 0.002439628331985857L 0.9999970241023729, 0.002439628331985857 L 0.9999983260572215, 0.0018297220430619106 L 0.9999992560253165, 0.0012198150735044618 ",
          "type": "path"
         },
         {
          "fillcolor": "#f2e6ce",
          "layer": "below",
          "line": {
           "color": "rgb(175,175,175)",
           "width": 0.5
          },
          "path": "M 0.9994496281941568,0.03317289107933997 Q 0.04631852892996645, 0.19456257059815968 -0.8772909013023563, 0.4799590341811469L -0.8772909013023563, 0.4799590341811469 L -0.874889381666317, 0.48432279509386034 L -0.8724661562820535, 0.4886745401004839 M -0.8724661562820535,0.4886745401004839 Q 0.0463145785888351, 0.1945635109935535 0.9990678254309079, 0.043168045922383054L 0.9990678254309079, 0.043168045922383054 L 0.9992712238882331, 0.03817094587395978 L 0.9994496281941568, 0.03317289107933997 ",
          "type": "path"
         },
         {
          "fillcolor": "#f2e6ce",
          "layer": "below",
          "line": {
           "color": "rgb(175,175,175)",
           "width": 0.5
          },
          "path": "M 0.9999933042344903,0.00365943796042382 Q 0.02725621173419973, 0.1981340428142031 -0.9618603806391917, 0.27354087108991454L -0.9618603806391917, 0.27354087108991454 L -0.9617206353023804, 0.274031785808847 L -0.9615806394123192, 0.2745226291353689 M -0.9615806394123192,0.2745226291353689 Q 0.02721232997808494, 0.19814007443514253 0.9999868763136607, 0.005123202167351515L 0.9999868763136607, 0.005123202167351515 L 0.9999903581024003, 0.00439132124001922 L 0.9999933042344903, 0.00365943796042382 ",
          "type": "path"
         },
         {
          "fillcolor": "#f2e6ce",
          "layer": "below",
          "line": {
           "color": "rgb(175,175,175)",
           "width": 0.5
          },
          "path": "M 0.9999868763136607,0.005123202167351515 Q 0.01860844271036636, 0.19913243296835154 -0.9817241838549043, 0.19030929255930193L -0.9817241838549043, 0.19030929255930193 L -0.9815622288698396, 0.1911428545775978 L -0.9813995661243673, 0.19197627877137205 M -0.9813995661243673,0.19197627877137205 Q 0.018583211950521296, 0.1991347891092915 0.9999749727929372, 0.007074870158844368L 0.9999749727929372, 0.007074870158844368 L 0.9999814006882617, 0.006099039067117693 L 0.9999868763136607, 0.005123202167351515 ",
          "type": "path"
         },
         {
          "fillcolor": "#f2e6ce",
          "layer": "below",
          "line": {
           "color": "rgb(175,175,175)",
           "width": 0.5
          },
          "path": "M 0.9998928695451657,0.014637261790863214 Q 0.002456268218627985, 0.1999849162973002 -0.9992317358901363, 0.039191044767715684L -0.9992317358901363, 0.039191044767715684 L -0.999137507373281, 0.04152398535674208 L -0.9990378320674911, 0.04385669957814411 M -0.9990378320674911,0.04385669957814411 Q 0.0024109177804373006, 0.19998546816070406 0.9998047576134418, 0.019759723012403724L 0.9998047576134418, 0.019759723012403724 L 0.9998520940210021, 0.017198548828816114 L 0.9998928695451657, 0.014637261790863214 ",
          "type": "path"
         },
         {
          "fillcolor": "#f2e6ce",
          "layer": "below",
          "line": {
           "color": "rgb(175,175,175)",
           "width": 0.5
          },
          "path": "M 0.9998047576134418,0.019759723012403724 Q -0.016600985211733248, 0.19930982737938394 -0.9892968012812792, -0.14591723330240775L -0.9892968012812792, -0.14591723330240775 L -0.9897192711320951, -0.14302364961695813 L -0.9901332775892635, -0.1401288428923267 M -0.9901332775892635,-0.1401288428923267 Q -0.016650265472469006, 0.19930571657555715 0.9996593086585429, 0.02610108450474712L 0.9996593086585429, 0.02610108450474712 L 0.9997370610788714, 0.022930519082238636 L 0.9998047576134418, 0.019759723012403724 ",
          "type": "path"
         },
         {
          "fillcolor": "#f2e6ce",
          "layer": "below",
          "line": {
           "color": "rgb(175,175,175)",
           "width": 0.5
          },
          "path": "M 0.9999749727929372,0.007074870158844368 Q -0.031195461451960366, 0.19755212776581088 -0.9534983754559221, -0.301398155274576L -0.9534983754559221, -0.301398155274576 L -0.9538737210410919, -0.3002081349784197 L -0.9542475814137691, -0.299017647248406 M -0.9542475814137691,-0.299017647248406 Q -0.031214028389896953, 0.19754919496589884 0.9999523859922043, 0.009758368126778673L 0.9999523859922043, 0.009758368126778673 L 0.9999645795700286, 0.008416626719537535 L 0.9999749727929372, 0.007074870158844368 ",
          "type": "path"
         },
         {
          "fillcolor": "#f2e6ce",
          "layer": "below",
          "line": {
           "color": "rgb(175,175,175)",
           "width": 0.5
          },
          "path": "M 0.9889832434392132,0.14802751162015088 Q -0.07755055552518368, 0.18435268193800547 -0.7974064955032263, -0.6034425249593064L -0.7974064955032263, -0.6034425249593064 L -0.8085779689666758, -0.5883890448518951 L -0.8194653007877684, -0.5731287994899683 M -0.8194653007877684,-0.5731287994899683 Q -0.07742279611510522, 0.184406373647222 0.9829950543925657, 0.18363203162780925L 0.9829950543925657, 0.18363203162780925 L 0.9861498477620548, 0.1658567989528195 L 0.9889832434392132, 0.14802751162015088 ",
          "type": "path"
         },
         {
          "fillcolor": "#f2e6ce",
          "layer": "below",
          "line": {
           "color": "rgb(175,175,175)",
           "width": 0.5
          },
          "path": "M 0.9829950543925657,0.18363203162780925 Q -0.12636955976392858, 0.15501849684818547 -0.377973675965397, -0.9258163426280641L -0.377973675965397, -0.9258163426280641 L -0.39694938960524256, -0.9178404992655452 L -0.4157569190494591, -0.9094757744231022 M -0.4157569190494591,-0.9094757744231022 Q -0.12620406881966906, 0.15515325653482184 0.9750801846658901, 0.22185272924157082L 0.9750801846658901, 0.22185272924157082 L 0.9792241142276766, 0.20278100037977462 L 0.9829950543925657, 0.18363203162780925 ",
          "type": "path"
         },
         {
          "fillcolor": "#f2e6ce",
          "layer": "below",
          "line": {
           "color": "rgb(175,175,175)",
           "width": 0.5
          },
          "path": "M 0.9999523859922043,0.009758368126778673 Q -0.13790138197482527, 0.144855820902832 -0.05890467097598501, -0.9982636123475657L -0.05890467097598501, -0.9982636123475657 L -0.06060633865748641, -0.998161746268877 L -0.062307830213960934, -0.9980569794826487 M -0.062307830213960934,-0.9980569794826487 Q -0.13800780167389928, 0.14475443577706934 0.9998928695451657, 0.014637261790863214L 0.9998928695451657, 0.014637261790863214 L 0.9999256034449155, 0.01219785125837756 L 0.9999523859922043, 0.009758368126778673 ",
          "type": "path"
         },
         {
          "fillcolor": "#f2e6ce",
          "layer": "below",
          "line": {
           "color": "rgb(175,175,175)",
           "width": 0.5
          },
          "path": "M 0.9932931380854352,0.11562327547855011 Q -0.16326927479512204, 0.11551252706037958 0.22157976860923534, -0.9751422491837166L 0.22157976860923534, -0.9751422491837166 L 0.20454195908830214, -0.9788577971147389 L 0.18744194994287183, -0.9822756819761008 M 0.18744194994287183,-0.9822756819761008 Q -0.1631429295151329, 0.115690900892077 0.9889832434392132, 0.14802751162015088L 0.9889832434392132, 0.14802751162015088 L 0.9912706097820078, 0.13184300581527458 L 0.9932931380854352, 0.11562327547855011 ",
          "type": "path"
         },
         {
          "fillcolor": "#f2e6ce",
          "layer": "below",
          "line": {
           "color": "rgb(175,175,175)",
           "width": 0.5
          },
          "path": "M 0.9990678254309079,0.043168045922383054 Q -0.18702930284728378, 0.07085223974200823 0.7196978599596091, -0.6942873975304168L 0.7196978599596091, -0.6942873975304168 L 0.7135264282649535, -0.7006283152766938 L 0.7072991318698147, -0.7069143781648569 M 0.7072991318698147,-0.7069143781648569 Q -0.18700735093866905, 0.07091015932080173 0.9981849830298577, 0.06022241819856359L 0.9981849830298577, 0.06022241819856359 L 0.9986628100262558, 0.051697116655210686 L 0.9990678254309079, 0.043168045922383054 ",
          "type": "path"
         },
         {
          "fillcolor": "#f2e6ce",
          "layer": "below",
          "line": {
           "color": "rgb(175,175,175)",
           "width": 0.5
          },
          "path": "M 0.9996593086585429,0.02610108450474712 Q -0.19655739212908518, 0.036948499284991894 0.9219450269603195, -0.3873207550120903L 0.9219450269603195, -0.3873207550120903 L 0.9206923029753018, -0.3902892302409009 L 0.9194300211338134, -0.3932536538137636 M 0.9194300211338134,-0.3932536538137636 Q -0.1965690389352938, 0.03688648712001403 0.9994496281941568, 0.03317289107933997L 0.9994496281941568, 0.03317289107933997 L 0.9995607224992087, 0.029637173226541434 L 0.9996593086585429, 0.02610108450474712 ",
          "type": "path"
         },
         {
          "fillcolor": "#f2e6ce",
          "layer": "below",
          "line": {
           "color": "rgb(175,175,175)",
           "width": 0.5
          },
          "path": "M 1.0,0.0 Q -0.1984093363443491, 0.025174098819917043 0.9683132374302525, -0.2497388119963401L 0.9683132374302525, -0.2497388119963401 L 0.9681797139175737, -0.25025595209402124 L 0.9680459142196173, -0.25077302080308655 M 0.9680459142196173,-0.25077302080308655 Q -0.19841124417374983, 0.02515905772131838 0.9999992560253165, 0.0012198150735044618L 0.9999992560253165, 0.0012198150735044618 L 0.9999998140063118, 0.0006099076501912042 L 1.0, 0.0 ",
          "type": "path"
         },
         {
          "fillcolor": "#f2e6ce",
          "layer": "below",
          "line": {
           "color": "rgb(175,175,175)",
           "width": 0.5
          },
          "path": "M 0.9999970241023729,0.002439628331985857 Q -0.19973214410877016, 0.010347492919228323 0.9943914072675498, -0.1057626075343354L 0.9943914072675498, -0.1057626075343354 L 0.9943399616610671, -0.10624519115643637 L 0.9942882818541108, -0.1067277497542247 M 0.9942882818541108,-0.1067277497542247 Q -0.1997334317490093, 0.010322608282980041 0.9999933042344903, 0.00365943796042382L 0.9999933042344903, 0.00365943796042382 L 0.999995350161255, 0.003049533713398861 L 0.9999970241023729, 0.002439628331985857 ",
          "type": "path"
         },
         {
          "fillcolor": "#ecd5bb",
          "layer": "below",
          "line": {
           "color": "rgb(175,175,175)",
           "width": 0.5
          },
          "path": "M 0.5550576571102622,0.8318118761374272 Q 0.034912135561824285, 0.1969292837302589 -0.23528629647544244, 0.971926107629006L -0.23528629647544244, 0.971926107629006 L -0.16993013901563855, 0.9854561115819038 L -0.10381702973554492, 0.9945964127910824 M -0.10381702973554492,0.9945964127910824 Q 0.03454745400676986, 0.19699358726022054 0.43606421537480317, 0.8999155516322391L 0.43606421537480317, 0.8999155516322391 L 0.4967294728356182, 0.8679054273458883 L 0.5550576571102622, 0.8318118761374272 ",
          "type": "path"
         },
         {
          "fillcolor": "#ecd5bb",
          "layer": "below",
          "line": {
           "color": "rgb(175,175,175)",
           "width": 0.5
          },
          "path": "M 0.8060992665173825,0.5917803414444737 Q 0.026923813860720153, 0.19817948493018467 -0.6190030052625022, 0.7853886168490034L -0.6190030052625022, 0.7853886168490034 L -0.5945131287191703, 0.8040859032345632 L -0.569458855553554, 0.8220198366412069 M -0.569458855553554,0.8220198366412069 Q 0.026650425553590706, 0.19821643427781796 0.7663542250942741, 0.6424182451333047L 0.7663542250942741, 0.6424182451333047 L 0.7866343147504579, 0.6174191889284603 L 0.8060992665173825, 0.5917803414444737 ",
          "type": "path"
         },
         {
          "fillcolor": "#ecd5bb",
          "layer": "below",
          "line": {
           "color": "rgb(175,175,175)",
           "width": 0.5
          },
          "path": "M 0.9442057469091351,0.32935620155655554 Q 0.047231301308600024, 0.19434300650318304 -0.6877300026239147, 0.7259665581078169L -0.6877300026239147, 0.7259665581078169 L -0.6833419473359535, 0.7300984748724701 L -0.6789290677620684, 0.7342038687910387 M -0.6789290677620684,0.7342038687910387 Q 0.04686414170709171, 0.19443187038666687 0.9388732224158416, 0.344263085779602L 0.9388732224158416, 0.344263085779602 L 0.941568985777364, 0.3368201968739198 L 0.9442057469091351, 0.32935620155655554 ",
          "type": "path"
         },
         {
          "fillcolor": "#ecd5bb",
          "layer": "below",
          "line": {
           "color": "rgb(175,175,175)",
           "width": 0.5
          },
          "path": "M 0.9113347235674254,0.41166615311473487 Q 0.017772673023173834, 0.19920876510237032 -0.8240670245337736, 0.5664923115771766L -0.8240670245337736, 0.5664923115771766 L -0.8174387158401651, 0.5760155777803078 L -0.8107003577629951, 0.5854612966908672 M -0.8107003577629951,0.5854612966908672 Q 0.017376952528230603, 0.19924367372850668 0.8998110714854316, 0.4362797676173392L 0.8998110714854316, 0.4362797676173392 L 0.9056565189072135, 0.4240121103941112 L 0.9113347235674254, 0.41166615311473487 ",
          "type": "path"
         },
         {
          "fillcolor": "#ecd5bb",
          "layer": "below",
          "line": {
           "color": "rgb(175,175,175)",
           "width": 0.5
          },
          "path": "M 0.8862822258647588,0.46314556687526287 Q -0.016927709183609592, 0.19928234407943707 -0.9517027489997989, 0.3070209724859618L -0.9517027489997989, 0.3070209724859618 L -0.9451594361316114, 0.3266093083354707 L -0.9382129958978799, 0.34605833948674725 M -0.9382129958978799,0.34605833948674725 Q -0.017281641877802748, 0.1992519632375234 0.8646220060745403, 0.502422916089262L 0.8646220060745403, 0.502422916089262 L 0.8756723616148088, 0.4829057000118591 L 0.8862822258647588, 0.46314556687526287 ",
          "type": "path"
         },
         {
          "fillcolor": "#ecd5bb",
          "layer": "below",
          "line": {
           "color": "rgb(175,175,175)",
           "width": 0.5
          },
          "path": "M 0.9486358780601083,0.31636999044967495 Q -0.008053553219122163, 0.19983778491703408 -0.9710178253533744, 0.23900707697891208L -0.9710178253533744, 0.23900707697891208 L -0.9699510520936788, 0.24330013674958256 L -0.968865298475453, 0.24758843553379345 M -0.968865298475453,0.24758843553379345 Q -0.00854052752691836, 0.19981756526782612 0.9442057469091351, 0.32935620155655554L 0.9442057469091351, 0.32935620155655554 L 0.94644308583442, 0.322870694359554 L 0.9486358780601083, 0.31636999044967495 ",
          "type": "path"
         },
         {
          "fillcolor": "#ecd5bb",
          "layer": "below",
          "line": {
           "color": "rgb(175,175,175)",
           "width": 0.5
          },
          "path": "M 0.9388732224158416,0.344263085779602 Q -0.02644940472951481, 0.19824335799580858 -0.996288574954924, 0.08607598628123247L -0.996288574954924, 0.08607598628123247 L -0.9957005470143538, 0.09263056015871107 L -0.9950693970598462, 0.09918112237192198 M -0.9950693970598462,0.09918112237192198 Q -0.026766366412366346, 0.19820081137341228 0.9331157364899756, 0.35957617039338197L 0.9331157364899756, 0.35957617039338197 L 0.9360257946266324, 0.3519314021135106 L 0.9388732224158416, 0.344263085779602 ",
          "type": "path"
         },
         {
          "fillcolor": "#ecd5bb",
          "layer": "below",
          "line": {
           "color": "rgb(175,175,175)",
           "width": 0.5
          },
          "path": "M 0.9266132245662363,0.3760158667649036 Q -0.03974409292455411, 0.19601124222249197 -0.9998932540070942, -0.014610975022378238L -0.9998932540070942, -0.014610975022378238 L -0.9999781783614669, -0.006606269816042247 L -0.9999990215966388, 0.0013988587366954087 M -0.9999990215966388,0.0013988587366954087 Q -0.0400369087012197, 0.1959516418447424 0.9193026739138589, 0.39355125934854945L 0.9193026739138589, 0.39355125934854945 L 0.9229995929379708, 0.3848009244224085 L 0.9266132245662363, 0.3760158667649036 ",
          "type": "path"
         },
         {
          "fillcolor": "#ecd5bb",
          "layer": "below",
          "line": {
           "color": "rgb(175,175,175)",
           "width": 0.5
          },
          "path": "M 0.9193026739138589,0.39355125934854945 Q -0.060389120303716716, 0.19066503126935266 -0.978244216878727, -0.207456627137641L -0.978244216878727, -0.207456627137641 L -0.9799593667662594, -0.19919748865653886 L -0.9816047875396189, -0.19092417625670038 M -0.9816047875396189,-0.19092417625670038 Q -0.06066737071462972, 0.19057667782436993 0.9113347235674254, 0.41166615311473487L 0.9113347235674254, 0.41166615311473487 L 0.9153635111846563, 0.40262841726795384 L 0.9193026739138589, 0.39355125934854945 ",
          "type": "path"
         },
         {
          "fillcolor": "#ecd5bb",
          "layer": "below",
          "line": {
           "color": "rgb(175,175,175)",
           "width": 0.5
          },
          "path": "M 0.8998110714854316,0.4362797676173392 Q -0.08480956270054607, 0.18112796049904098 -0.911302262740548, -0.41173800641179237L -0.911302262740548, -0.41173800641179237 L -0.9165504543977379, -0.3999190724925484 L -0.9216453706674187, -0.3880332598210061 M -0.9216453706674187,-0.3880332598210061 Q -0.08519131100214221, 0.18094872348191984 0.8862822258647588, 0.46314556687526287L 0.8862822258647588, 0.46314556687526287 L 0.8931476694826341, 0.44976353842629274 L 0.8998110714854316, 0.4362797676173392 ",
          "type": "path"
         },
         {
          "fillcolor": "#ecd5bb",
          "layer": "below",
          "line": {
           "color": "rgb(175,175,175)",
           "width": 0.5
          },
          "path": "M 0.7113009716491767,0.702887564074751 Q -0.14886633557488962, 0.13356202354151556 -0.6219090910088622, -0.7830894473305912L -0.6219090910088622, -0.7830894473305912 L -0.657912656539105, -0.7530942413573866 L -0.6924714661970195, -0.7214452636915362 M -0.6924714661970195,-0.7214452636915362 Q -0.14912653405653686, 0.13327144045250114 0.6393986734692482, 0.7688753711530665L 0.6393986734692482, 0.7688753711530665 L 0.6761552931845694, 0.7367591326196704 L 0.7113009716491767, 0.702887564074751 ",
          "type": "path"
         },
         {
          "fillcolor": "#ecd5bb",
          "layer": "below",
          "line": {
           "color": "rgb(175,175,175)",
           "width": 0.5
          },
          "path": "M 0.6393986734692482,0.7688753711530665 Q -0.18418857727664423, 0.07793951501520688 -0.10668701109037192, -0.9942926539327357L -0.10668701109037192, -0.9942926539327357 L -0.1575628007102444, -0.9875089689883043 L -0.20802351250490156, -0.9781238256198052 M -0.20802351250490156,-0.9781238256198052 Q -0.18429052992537137, 0.07769813755699555 0.5550576571102622, 0.8318118761374272L 0.5550576571102622, 0.8318118761374272 L 0.5980566297018024, 0.8014538462505008 L 0.6393986734692482, 0.7688753711530665 ",
          "type": "path"
         },
         {
          "fillcolor": "#ecd5bb",
          "layer": "below",
          "line": {
           "color": "rgb(175,175,175)",
           "width": 0.5
          },
          "path": "M 0.9552586646452796,0.29577167481034633 Q -0.1585968770831371, 0.12184839178042649 -0.039665110307351904, -0.9992130298511452L -0.039665110307351904, -0.9992130298511452 L -0.042730989406571794, -0.9990866141352988 L -0.045796466168075624, -0.9989507914239402 M -0.045796466168075624,-0.9989507914239402 Q -0.15880149861980491, 0.12158159415020063 0.9524059908847756, 0.3048324597656698L 0.9524059908847756, 0.3048324597656698 L 0.9538430866477214, 0.3003054545864049 L 0.9552586646452796, 0.29577167481034633 ",
          "type": "path"
         },
         {
          "fillcolor": "#ecd5bb",
          "layer": "below",
          "line": {
           "color": "rgb(175,175,175)",
           "width": 0.5
          },
          "path": "M 0.43606421537480317,0.8999155516322391 Q -0.19870526360192192, -0.02272043610696599 0.6279500990229483, -0.778253604641231L 0.6279500990229483, -0.778253604641231 L 0.5710062586953764, -0.8209457062015179 L 0.5111701480521456, -0.8594795400359148 M 0.5111701480521456,-0.8594795400359148 Q -0.1986828391530584, -0.0229157026093447 0.3020899605251275, 0.9532794216544942L 0.3020899605251275, 0.9532794216544942 L 0.3700402984886436, 0.9290157035779512 L 0.43606421537480317, 0.8999155516322391 ",
          "type": "path"
         },
         {
          "fillcolor": "#ecd5bb",
          "layer": "below",
          "line": {
           "color": "rgb(175,175,175)",
           "width": 0.5
          },
          "path": "M 0.7663542250942741,0.6424182451333047 Q -0.19854758260985406, -0.024059456348454338 0.8976136249888661, -0.44078314422666753L 0.8976136249888661, -0.44078314422666753 L 0.8796565356218129, -0.475609481967959 L 0.860348882430292, -0.5097056017947494 M 0.860348882430292,-0.5097056017947494 Q -0.1985060565761517, -0.024399702920028996 0.7113009716491767, 0.702887564074751L 0.7113009716491767, 0.702887564074751 L 0.739445978249285, 0.6732158979487619 L 0.7663542250942741, 0.6424182451333047 ",
          "type": "path"
         },
         {
          "fillcolor": "#ecd5bb",
          "layer": "below",
          "line": {
           "color": "rgb(175,175,175)",
           "width": 0.5
          },
          "path": "M 0.8390756248935435,0.5440147936495013 Q -0.19791505795164202, -0.028803295575301438 0.9593302137114759, -0.2822862750122543L 0.9593302137114759, -0.2822862750122543 L 0.9521445250169464, -0.3056481694371055 L 0.9443900135354616, -0.3288274659065004 M 0.9443900135354616,-0.3288274659065004 Q -0.19778097619678928, -0.029710022797787863 0.8060992665173825, 0.5917803414444737L 0.8060992665173825, 0.5917803414444737 L 0.8229340755621172, 0.5681368737185816 L 0.8390756248935435, 0.5440147936495013 ",
          "type": "path"
         },
         {
          "fillcolor": "#ecd5bb",
          "layer": "below",
          "line": {
           "color": "rgb(175,175,175)",
           "width": 0.5
          },
          "path": "M 0.9331157364899756,0.35957617039338197 Q -0.19906581630228393, -0.019308049614224443 0.9848252796182199, -0.17354874999519598L 0.9848252796182199, -0.17354874999519598 L 0.9835579909746534, -0.18059257567769446 L 0.9822403230147129, -0.18762715113744213 M 0.9822403230147129,-0.18762715113744213 Q -0.19903304544076192, -0.019642984054761357 0.9266132245662363, 0.3760158667649036L 0.9266132245662363, 0.3760158667649036 L 0.9299008108674824, 0.3678103885808539 L 0.9331157364899756, 0.35957617039338197 ",
          "type": "path"
         },
         {
          "fillcolor": "#ecd5bb",
          "layer": "below",
          "line": {
           "color": "rgb(175,175,175)",
           "width": 0.5
          },
          "path": "M 0.9524059908847756,0.3048324597656698 Q -0.1982705808186389, -0.02624455718505408 0.9989163790815561, -0.046541031387293014L 0.9989163790815561, -0.046541031387293014 L 0.9986986205446811, -0.05100064040922657 L 0.9984609524200881, -0.05545923270629137 M 0.9984609524200881,-0.05545923270629137 Q -0.1982282280216114, -0.026562560407687386 0.9486358780601083, 0.31636999044967495L 0.9486358780601083, 0.31636999044967495 L 0.9505384397929078, 0.3106069453120207 L 0.9524059908847756, 0.3048324597656698 ",
          "type": "path"
         },
         {
          "fillcolor": "#e6c4a9",
          "layer": "below",
          "line": {
           "color": "rgb(175,175,175)",
           "width": 0.5
          },
          "path": "M -0.04262885830976893,0.9990909770582485 Q -0.06371856544454067, 0.18957833319683395 -0.569458855553554, 0.8220198366412069L -0.569458855553554, 0.8220198366412069 L -0.5443937216820687, 0.8388298252882681 L -0.5188327340544994, 0.8548757769837283 M -0.5188327340544994,0.8548757769837283 Q -0.0638133672844655, 0.18954644326870898 -0.10381702973554492, 0.9945964127910824L -0.10381702973554492, 0.9945964127910824 L -0.07325742152391834, 0.9973130652867569 L -0.04262885830976893, 0.9990909770582485 ",
          "type": "path"
         },
         {
          "fillcolor": "#e6c4a9",
          "layer": "below",
          "line": {
           "color": "rgb(175,175,175)",
           "width": 0.5
          },
          "path": "M 0.2319987678869561,0.9727160796958866 Q -0.049083182110053414, 0.19388357649360435 -0.6668915530878976, 0.7451547868865984L -0.6668915530878976, 0.7451547868865984 L -0.6641173535441325, 0.7476283439795055 L -0.6613339794397479, 0.750091572835202 M -0.6613339794397479,0.750091572835202 Q -0.04928344102833518, 0.19383276926362739 0.22274796956864132, 0.9748760649708493L 0.22274796956864132, 0.9748760649708493 L 0.22737593362254627, 0.9738070572804838 L 0.2319987678869561, 0.9727160796958866 ",
          "type": "path"
         },
         {
          "fillcolor": "#e6c4a9",
          "layer": "below",
          "line": {
           "color": "rgb(175,175,175)",
           "width": 0.5
          },
          "path": "M 0.21322623385054715,0.9770028521953822 Q -0.06818254324890603, 0.18801899051987025 -0.789903217806444, 0.6132315276459825L -0.789903217806444, 0.6132315276459825 L -0.7856009916324512, 0.6187334498361222 L -0.7812604436081044, 0.6242051900242963 M -0.7812604436081044,0.6242051900242963 Q -0.06836580462900364, 0.18795243216683552 0.19764760835610282, 0.9802731368915056L 0.19764760835610282, 0.9802731368915056 L 0.20544342832739187, 0.9786689929476093 L 0.21322623385054715, 0.9770028521953822 ",
          "type": "path"
         },
         {
          "fillcolor": "#e6c4a9",
          "layer": "below",
          "line": {
           "color": "rgb(175,175,175)",
           "width": 0.5
          },
          "path": "M 0.11755296474159527,0.9930666143217489 Q -0.0985169048459227, 0.17405292143362439 -0.9119203393605994, 0.4103672680178687L -0.9119203393605994, 0.4103672680178687 L -0.9062010855399645, 0.4228470084630964 L -0.9003110546940228, 0.4352470617887456 M -0.9003110546940228,0.4352470617887456 Q -0.09865233659208827, 0.17397619516738871 0.08869622478265811, 0.9960587230225456L 0.08869622478265811, 0.9960587230225456 L 0.10313544600898468, 0.9946673211564396 L 0.11755296474159527, 0.9930666143217489 ",
          "type": "path"
         },
         {
          "fillcolor": "#e6c4a9",
          "layer": "below",
          "line": {
           "color": "rgb(175,175,175)",
           "width": 0.5
          },
          "path": "M 0.2551564728714271,0.9668997747190826 Q -0.10087552515368486, 0.1726966369822189 -0.9675459692272588, 0.2526950680802545L -0.9675459692272588, 0.2526950680802545 L -0.9668979191159376, 0.25516350446188385 L -0.9662435714562221, 0.2576302789260702 M -0.9662435714562221,0.2576302789260702 Q -0.10109979445286249, 0.17256544138844532 0.24770150500509683, 0.9688363971374165L 0.24770150500509683, 0.9688363971374165 L 0.2514308535265999, 0.9678752636031595 L 0.2551564728714271, 0.9668997747190826 ",
          "type": "path"
         },
         {
          "fillcolor": "#e6c4a9",
          "layer": "below",
          "line": {
           "color": "rgb(175,175,175)",
           "width": 0.5
          },
          "path": "M 0.23998260504607444,0.9707771882750953 Q -0.1095785177158452, 0.16730973807641383 -0.985793386332423, 0.16796249421598314L -0.985793386332423, 0.16796249421598314 L -0.9852171997829349, 0.171309863264999 L -0.9846296469102082, 0.1746552559343087 M -0.9846296469102082,0.1746552559343087 Q -0.10969750765091804, 0.16723174583546266 0.2319987678869561, 0.9727160796958866L 0.2319987678869561, 0.9727160796958866 L 0.23599267769132704, 0.9717548333175798 L 0.23998260504607444, 0.9707771882750953 ",
          "type": "path"
         },
         {
          "fillcolor": "#e6c4a9",
          "layer": "below",
          "line": {
           "color": "rgb(175,175,175)",
           "width": 0.5
          },
          "path": "M 0.24770150500509683,0.9688363971374165 Q -0.12059161731653185, 0.159554573212375 -0.9996598972596761, 0.02607853160693215L -0.9996598972596761, 0.02607853160693215 L -0.9995640755019918, 0.029523871118950846 L -0.9994563793767304, 0.03296885990078014 M -0.9994563793767304,0.03296885990078014 Q -0.12067662883360138, 0.1594902857648616 0.23998260504607444, 0.9707771882750953L 0.23998260504607444, 0.9707771882750953 L 0.24384398591447926, 0.9698144722230841 L 0.24770150500509683, 0.9688363971374165 ",
          "type": "path"
         },
         {
          "fillcolor": "#e6c4a9",
          "layer": "below",
          "line": {
           "color": "rgb(175,175,175)",
           "width": 0.5
          },
          "path": "M 0.22274796956864132,0.9748760649708493 Q -0.1374449293327629, 0.14528899270320453 -0.9857266435882287, -0.1683537469742954L -0.9857266435882287, -0.1683537469742954 L -0.9864371694622238, -0.16413930273811916 L -0.9871296766928961, -0.15992186026987823 M -0.9871296766928961,-0.15992186026987823 Q -0.1375326994084482, 0.14520591101406802 0.21322623385054715, 0.9770028521953822L 0.21322623385054715, 0.9770028521953822 L 0.21798969543931104, 0.975951070844372 L 0.22274796956864132, 0.9748760649708493 ",
          "type": "path"
         },
         {
          "fillcolor": "#e6c4a9",
          "layer": "below",
          "line": {
           "color": "rgb(175,175,175)",
           "width": 0.5
          },
          "path": "M 0.19764760835610282,0.9802731368915056 Q -0.1525098561569817, 0.129386026196714 -0.9349598437159514, -0.3547535632501014L -0.9349598437159514, -0.3547535632501014 L -0.9375501549516156, -0.34785012138879795 L -0.9400894941900289, -0.34092776788278134 M -0.9400894941900289,-0.34092776788278134 Q -0.15263540043158394, 0.12923789898899637 0.18126147175503313, 0.9834349388023589L 0.18126147175503313, 0.9834349388023589 L 0.18946113584452542, 0.9818882207280533 L 0.19764760835610282, 0.9802731368915056 ",
          "type": "path"
         },
         {
          "fillcolor": "#e6c4a9",
          "layer": "below",
          "line": {
           "color": "rgb(175,175,175)",
           "width": 0.5
          },
          "path": "M 0.16431835984930512,0.9864073583547693 Q -0.16790094920753054, 0.10867047094408973 -0.8325989232813367, -0.5538763697349426L -0.8325989232813367, -0.5538763697349426 L -0.8376846364465379, -0.546154236330207 L -0.8426987310745666, -0.5383854090197052 M -0.8426987310745666,-0.5383854090197052 Q -0.1679145159801132, 0.10864950677828365 0.14580277622483756, 0.9893136764672416L 0.14580277622483756, 0.9893136764672416 L 0.15506737706952417, 0.9879038964235226 L 0.16431835984930512, 0.9864073583547693 ",
          "type": "path"
         },
         {
          "fillcolor": "#e6c4a9",
          "layer": "below",
          "line": {
           "color": "rgb(175,175,175)",
           "width": 0.5
          },
          "path": "M 0.08869622478265811,0.9960587230225456 Q -0.19333986703961809, 0.051182964090630806 -0.4157569190494591, -0.9094757744231022L -0.4157569190494591, -0.9094757744231022 L -0.4316051301413545, -0.9020626428556192 L -0.44732121813509274, -0.8943733715882516 M -0.44732121813509274,-0.8943733715882516 Q -0.19333793790555903, 0.05119025069704394 0.05386918799813258, 0.9985480011418689L 0.05386918799813258, 0.9985480011418689 L 0.07129357163677624, 0.9974553757653882 L 0.08869622478265811, 0.9960587230225456 ",
          "type": "path"
         },
         {
          "fillcolor": "#e6c4a9",
          "layer": "below",
          "line": {
           "color": "rgb(175,175,175)",
           "width": 0.5
          },
          "path": "M 0.26804230206424134,0.963407143581623 Q -0.19740615514893925, 0.0321062285127501 -0.051074871288464836, -0.9986948270231837L -0.051074871288464836, -0.9986948270231837 L -0.05320286521185575, -0.9985837246486892 L -0.055330617556895924, -0.9984680880032033 M -0.055330617556895924,-0.9984680880032033 Q -0.19744066533703997, 0.03189331703142503 0.2618530138201015, 0.9651077655647217L 0.2618530138201015, 0.9651077655647217 L 0.2649490224134149, 0.9642624204655991 L 0.26804230206424134, 0.963407143581623 ",
          "type": "path"
         },
         {
          "fillcolor": "#e6c4a9",
          "layer": "below",
          "line": {
           "color": "rgb(175,175,175)",
           "width": 0.5
          },
          "path": "M 0.016922829628744217,0.9998567986653671 Q -0.1970633270199892, -0.03414740317817442 0.35234805290518895, -0.9358690344347985L 0.35234805290518895, -0.9358690344347985 L 0.3239360412107857, -0.946078982540403 L 0.2952287665284633, -0.9554265934199666 M 0.2952287665284633,-0.9554265934199666 Q -0.19707728552372944, -0.034066751101307406 -0.04262885830976893, 0.9990909770582485L -0.04262885830976893, 0.9990909770582485 L -0.012858716822486667, 0.9999173232831198 L 0.016922829628744217, 0.9998567986653671 ",
          "type": "path"
         },
         {
          "fillcolor": "#e6c4a9",
          "layer": "below",
          "line": {
           "color": "rgb(175,175,175)",
           "width": 0.5
          },
          "path": "M 0.05386918799813258,0.9985480011418689 Q -0.17636960086900358, -0.09430675420831945 0.860348882430292, -0.5097056017947494L 0.860348882430292, -0.5097056017947494 L 0.8509289846137915, -0.5252807469764543 L 0.8412271573275014, -0.5406818563394663 M 0.8412271573275014,-0.5406818563394663 Q -0.17634286908398383, -0.09435673014273516 0.016922829628744217, 0.9998567986653671L 0.016922829628744217, 0.9998567986653671 L 0.035402057534278816, 0.9993731506911417 L 0.05386918799813258, 0.9985480011418689 ",
          "type": "path"
         },
         {
          "fillcolor": "#e6c4a9",
          "layer": "below",
          "line": {
           "color": "rgb(175,175,175)",
           "width": 0.5
          },
          "path": "M 0.18126147175503313,0.9834349388023589 Q -0.17289082928683563, -0.10054233510571685 0.9443900135354616, -0.3288274659065004L 0.9443900135354616, -0.3288274659065004 L 0.9419161155029843, -0.3358482266675957 L 0.9393900247181945, -0.3428503776575866 M 0.9393900247181945,-0.3428503776575866 Q -0.17277437098462534, -0.10074232839708969 0.16431835984930512, 0.9864073583547693L 0.16431835984930512, 0.9864073583547693 L 0.1727963073170824, 0.9849575809026399 L 0.18126147175503313, 0.9834349388023589 ",
          "type": "path"
         },
         {
          "fillcolor": "#e6c4a9",
          "layer": "below",
          "line": {
           "color": "rgb(175,175,175)",
           "width": 0.5
          },
          "path": "M 0.27199766711776296,0.9622979107752935 Q -0.17296996516607938, -0.10040613104011771 0.9705151018229904, -0.24104032262986744L 0.9705151018229904, -0.24104032262986744 L 0.9701017179927061, -0.24269869539740035 L 0.9696855004114606, -0.24435635922106735 M 0.9696855004114606,-0.24435635922106735 Q -0.17293532871346892, -0.10046577567890701 0.26804230206424134, 0.963407143581623L 0.26804230206424134, 0.963407143581623 L 0.27002055417667686, 0.9628545582392599 L 0.27199766711776296, 0.9622979107752935 ",
          "type": "path"
         },
         {
          "fillcolor": "#e6c4a9",
          "layer": "below",
          "line": {
           "color": "rgb(175,175,175)",
           "width": 0.5
          },
          "path": "M 0.2618530138201015,0.9651077655647217 Q -0.16398043334065882, -0.11450073135753217 0.9962402550721983, -0.08663344719957439L 0.9962402550721983, -0.08663344719957439 L 0.9960097923778585, -0.08924401093303307 L 0.9957724889328274, -0.09185396172469636 M 0.9957724889328274,-0.09185396172469636 Q -0.16388357885750277, -0.11463931516219328 0.2551564728714271, 0.9668997747190826L 0.2551564728714271, 0.9668997747190826 L 0.258506296164062, 0.9660095728529496 L 0.2618530138201015, 0.9651077655647217 ",
          "type": "path"
         },
         {
          "fillcolor": "#e1b396",
          "layer": "below",
          "line": {
           "color": "rgb(175,175,175)",
           "width": 0.5
          },
          "path": "M -0.3443224221183398,0.9388514630262659 Q -0.10646866784306347, 0.1693057080187299 -0.6970074860931459, 0.7170638495490572L -0.6970074860931459, 0.7170638495490572 L -0.6923830534606755, 0.7215301152969786 L -0.6877300026239147, 0.7259665581078169 M -0.6877300026239147,0.7259665581078169 Q -0.10674837120518695, 0.16912949253468368 -0.3594523745338194, 0.9331634317963808L -0.3594523745338194, 0.9331634317963808 L -0.35189889105468214, 0.9360380176437734 L -0.3443224221183398, 0.9388514630262659 ",
          "type": "path"
         },
         {
          "fillcolor": "#e1b396",
          "layer": "below",
          "line": {
           "color": "rgb(175,175,175)",
           "width": 0.5
          },
          "path": "M -0.3594523745338194,0.9331634317963808 Q -0.12065717700899126, 0.15950500191599307 -0.8001520435277687, 0.599797221766103L -0.8001520435277687, 0.599797221766103 L -0.7950560066232891, 0.6065360222874058 L -0.789903217806444, 0.6132315276459825 M -0.789903217806444,0.6132315276459825 Q -0.1208201820439851, 0.15938156609488532 -0.37706298759207263, 0.9261876178119315L -0.37706298759207263, 0.9261876178119315 L -0.36827419833195596, 0.9297172230538462 L -0.3594523745338194, 0.9331634317963808 ",
          "type": "path"
         },
         {
          "fillcolor": "#e1b396",
          "layer": "below",
          "line": {
           "color": "rgb(175,175,175)",
           "width": 0.5
          },
          "path": "M -0.48431503972969236,0.8748936748494793 Q -0.15176471342425593, 0.13025924826765076 -0.9382129958978799, 0.34605833948674725L -0.9382129958978799, 0.34605833948674725 L -0.9313980363087867, 0.3640023323553518 L -0.9242399212249308, 0.38181221564289125 M -0.9242399212249308,0.38181221564289125 Q -0.15186335375868998, 0.13014423454445836 -0.5188327340544994, 0.8548757769837283L -0.5188327340544994, 0.8548757769837283 L -0.5016737416596427, 0.8650569096476913 L -0.48431503972969236, 0.8748936748494793 ",
          "type": "path"
         },
         {
          "fillcolor": "#e1b396",
          "layer": "below",
          "line": {
           "color": "rgb(175,175,175)",
           "width": 0.5
          },
          "path": "M -0.2678898047437237,0.9634495588843089 Q -0.14122267756676798, 0.1416197561813771 -0.9626935890075738, 0.2705938906991739L -0.9626935890075738, 0.2705938906991739 L -0.9624630475965444, 0.2714127521159828 L -0.9622318096670207, 0.27223141711589877 M -0.9622318096670207,0.27223141711589877 Q -0.14128102941750645, 0.1415615439543158 -0.27032225982090113, 0.9627698976626353L -0.27032225982090113, 0.9627698976626353 L -0.26910624685349277, 0.963110496207173 L -0.2678898047437237, 0.9634495588843089 ",
          "type": "path"
         },
         {
          "fillcolor": "#e1b396",
          "layer": "below",
          "line": {
           "color": "rgb(175,175,175)",
           "width": 0.5
          },
          "path": "M -0.2957559721728198,0.9552635264282365 Q -0.154068046956442, 0.12752661254431402 -0.9937016532320151, 0.11205812939702318L -0.9937016532320151, 0.11205812939702318 L -0.9931674702285302, 0.11669779809345754 L -0.9926116243782512, 0.12133492139186276 M -0.9926116243782512,0.12133492139186276 Q -0.15418098161078814, 0.12739005027683212 -0.30635309572421826, 0.9519179485334794L -0.30635309572421826, 0.9519179485334794 L -0.3010591812813926, 0.9536054579154722 L -0.2957559721728198, 0.9552635264282365 ",
          "type": "path"
         },
         {
          "fillcolor": "#e1b396",
          "layer": "below",
          "line": {
           "color": "rgb(175,175,175)",
           "width": 0.5
          },
          "path": "M -0.2805195609792646,0.9598483088009275 Q -0.15803303201178082, 0.12257879422299545 -0.9994563793767304, 0.03296885990078014L -0.9994563793767304, 0.03296885990078014 L -0.9993489002462476, 0.03608012717016993 L -0.9992317358901363, 0.039191044767715684 M -0.9992317358901363,0.039191044767715684 Q -0.15808483810597593, 0.12251197476576477 -0.28730029674634255, 0.957840560578567L -0.28730029674634255, 0.957840560578567 L -0.2839117036511762, 0.958850428653962 L -0.2805195609792646, 0.9598483088009275 ",
          "type": "path"
         },
         {
          "fillcolor": "#e1b396",
          "layer": "below",
          "line": {
           "color": "rgb(175,175,175)",
           "width": 0.5
          },
          "path": "M -0.2744534678218097,0.9616003816558014 Q -0.16771961486042086, 0.10895012983504011 -0.9901332775892635, -0.1401288428923267L -0.9901332775892635, -0.1401288428923267 L -0.9905233760438008, -0.13734424454920235 L -0.9909056432573515, -0.13455856033985455 M -0.9909056432573515,-0.13455856033985455 Q -0.1677572187773346, 0.1088922198694356 -0.2805195609792646, 0.9598483088009275L -0.2805195609792646, 0.9598483088009275 L -0.2774878972387476, 0.9607291329433173 L -0.2744534678218097, 0.9616003816558014 ",
          "type": "path"
         },
         {
          "fillcolor": "#e1b396",
          "layer": "below",
          "line": {
           "color": "rgb(175,175,175)",
           "width": 0.5
          },
          "path": "M -0.3169123871439301,0.9484548164645145 Q -0.18007112979306883, 0.08703096124396058 -0.9400894941900289, -0.34092776788278134L -0.9400894941900289, -0.34092776788278134 L -0.9422742425045092, -0.33484212983517087 L -0.9444195961084902, -0.32874249266907407 M -0.9444195961084902,-0.32874249266907407 Q -0.18013479687808373, 0.08689910789928469 -0.33053309015037735, 0.9437944036259394L -0.33053309015037735, 0.9437944036259394 L -0.32373112513190616, 0.9461491207102769 L -0.3169123871439301, 0.9484548164645145 ",
          "type": "path"
         },
         {
          "fillcolor": "#e1b396",
          "layer": "below",
          "line": {
           "color": "rgb(175,175,175)",
           "width": 0.5
          },
          "path": "M -0.33053309015037735,0.9437944036259394 Q -0.18846292125071418, 0.06694570422101113 -0.8518475897815462, -0.5237897324149937L -0.8518475897815462, -0.5237897324149937 L -0.8556725771236442, -0.5175175753137098 L -0.8594513834035759, -0.5112174875389922 M -0.8594513834035759,-0.5112174875389922 Q -0.18846143733544388, 0.06694988153431315 -0.3443224221183398, 0.9388514630262659L -0.3443224221183398, 0.9388514630262659 L -0.3374368070843948, 0.9413481827807865 L -0.33053309015037735, 0.9437944036259394 ",
          "type": "path"
         },
         {
          "fillcolor": "#e1b396",
          "layer": "below",
          "line": {
           "color": "rgb(175,175,175)",
           "width": 0.5
          },
          "path": "M -0.37706298759207263,0.9261876178119315 Q -0.19971526139779683, 0.01066838154593677 -0.4735857832615627, -0.8807476970691052L -0.4735857832615627, -0.8807476970691052 L -0.48408936789506246, -0.8750185620265201 L -0.4945236559689123, -0.8691641695831351 M -0.4945236559689123,-0.8691641695831351 Q -0.19971290550188364, 0.010712393569865461 -0.3987115613350195, 0.9170763822374836L -0.3987115613350195, 0.9170763822374836 L -0.3879140257121178, 0.9216955618075952 L -0.37706298759207263, 0.9261876178119315 ",
          "type": "path"
         },
         {
          "fillcolor": "#e1b396",
          "layer": "below",
          "line": {
           "color": "rgb(175,175,175)",
           "width": 0.5
          },
          "path": "M -0.27032225982090113,0.9627698976626353 Q -0.19888400687164184, -0.021098621061119826 -0.062307830213960934, -0.9980569794826487L -0.062307830213960934, -0.9980569794826487 L -0.06375395586532694, -0.9979656472602261 L -0.06519994765755, -0.9978722196881987 M -0.06519994765755,-0.9978722196881987 Q -0.19886923638573709, -0.021237392009232886 -0.2744534678218097, 0.9616003816558014L -0.2744534678218097, 0.9616003816558014 L -0.2723884914952977, 0.9621873568598354 L -0.27032225982090113, 0.9627698976626353 ",
          "type": "path"
         },
         {
          "fillcolor": "#e1b396",
          "layer": "below",
          "line": {
           "color": "rgb(175,175,175)",
           "width": 0.5
          },
          "path": "M -0.4497031039134961,0.8931781000061338 Q -0.18550476094881102, -0.07475281710627689 0.2952287665284633, -0.9554265934199666L 0.2952287665284633, -0.9554265934199666 L 0.2758977643487405, -0.9611869868175322 L 0.25645450770706185, -0.966556302279763 M 0.25645450770706185,-0.966556302279763 Q -0.18554941229556413, -0.07464191581658901 -0.48431503972969236, 0.8748936748494793L -0.48431503972969236, 0.8748936748494793 L -0.46709854764759706, 0.8842052628126037 L -0.4497031039134961, 0.8931781000061338 ",
          "type": "path"
         },
         {
          "fillcolor": "#e1b396",
          "layer": "below",
          "line": {
           "color": "rgb(175,175,175)",
           "width": 0.5
          },
          "path": "M -0.3987115613350195,0.9170763822374836 Q -0.16037575991268907, -0.11949734571289657 0.764725321316298, -0.6443564098677725L 0.764725321316298, -0.6443564098677725 L 0.7560231910349046, -0.6545448301051656 L 0.7471853311703558, -0.6646157392688242 M 0.7471853311703558,-0.6646157392688242 Q -0.16037733798309067, -0.11949522777691797 -0.42311737771932134, 0.9060748780713023L -0.42311737771932134, 0.9060748780713023 L -0.4109512860915215, 0.9116573042869368 L -0.3987115613350195, 0.9170763822374836 ",
          "type": "path"
         },
         {
          "fillcolor": "#e1b396",
          "layer": "below",
          "line": {
           "color": "rgb(175,175,175)",
           "width": 0.5
          },
          "path": "M -0.28730029674634255,0.957840560578567 Q -0.14821471122005458, -0.13428476971703016 0.9249293855795062, -0.3801389636587087L 0.9249293855795062, -0.3801389636587087 L 0.9234441880565075, -0.38373276058300976 L 0.9219450269603195, -0.3873207550120903 M 0.9219450269603195,-0.3873207550120903 Q -0.14814335236878845, -0.13436348889834987 -0.2957559721728198, 0.9552635264282365L -0.2957559721728198, 0.9552635264282365 L -0.291530981986026, 0.9565613867088005 L -0.28730029674634255, 0.957840560578567 ",
          "type": "path"
         },
         {
          "fillcolor": "#e1b396",
          "layer": "below",
          "line": {
           "color": "rgb(175,175,175)",
           "width": 0.5
          },
          "path": "M -0.30635309572421826,0.9519179485334794 Q -0.13341667415081204, -0.14899661425192198 0.9798400681204072, -0.19978348506769947L 0.9798400681204072, -0.19978348506769947 L 0.9788902511967104, -0.20438658496105194 L 0.9779188099209195, -0.2089851698155937 M 0.9779188099209195,-0.2089851698155937 Q -0.1332890397891938, -0.14911080400854498 -0.3169123871439301, 0.9484548164645145L -0.3169123871439301, 0.9484548164645145 L -0.31163755206112176, 0.9502010503811031 L -0.30635309572421826, 0.9519179485334794 ",
          "type": "path"
         },
         {
          "fillcolor": "#e1b396",
          "layer": "below",
          "line": {
           "color": "rgb(175,175,175)",
           "width": 0.5
          },
          "path": "M -0.265699133699839,0.9640559995929464 Q -0.12918951928148004, -0.15267635084655418 0.994735025458679, -0.10248038410213622L 0.994735025458679, -0.10248038410213622 L 0.9946451218706909, -0.1033493180376078 L 0.9945544592403253, -0.10421817310423427 M 0.9945544592403253,-0.10421817310423427 Q -0.1291493672467746, -0.15271031707045124 -0.2678898047437237, 0.9634495588843089L -0.2678898047437237, 0.9634495588843089 L -0.26679464153148813, 0.9637534016801625 L -0.265699133699839, 0.9640559995929464 ",
          "type": "path"
         },
         {
          "fillcolor": "#dba284",
          "layer": "below",
          "line": {
           "color": "rgb(175,175,175)",
           "width": 0.5
          },
          "path": "M -0.6970074860931459,0.7170638495490572 Q -0.15134405090204656, 0.13074776578037098 -0.8107003577629951, 0.5854612966908672L -0.8107003577629951, 0.5854612966908672 L -0.8054580959758215, 0.5926527276803881 L -0.8001520435277687, 0.599797221766103 M -0.8001520435277687,0.599797221766103 Q -0.151218010323693, 0.13089351914339947 -0.7083003021841405, 0.7059112422435665L -0.7083003021841405, 0.7059112422435665 L -0.7026760207311953, 0.7115099506608272 L -0.6970074860931459, 0.7170638495490572 ",
          "type": "path"
         },
         {
          "fillcolor": "#dba284",
          "layer": "below",
          "line": {
           "color": "rgb(175,175,175)",
           "width": 0.5
          },
          "path": "M -0.6513299366726846,0.758794645206433 Q -0.15312663634440127, 0.12865548275083147 -0.8597164659000563, 0.5107715715075745L -0.8597164659000563, 0.5107715715075745 L -0.8578492073490851, 0.5139014861338177 L -0.8559705539698808, 0.5170245745963101 M -0.8559705539698808,0.5170245745963101 Q -0.1530454294975505, 0.12875207380819273 -0.6558915316845646, 0.7548551507835631L -0.6558915316845646, 0.7548551507835631 L -0.653613702226015, 0.7568283347380713 L -0.6513299366726846, 0.758794645206433 ",
          "type": "path"
         },
         {
          "fillcolor": "#dba284",
          "layer": "below",
          "line": {
           "color": "rgb(175,175,175)",
           "width": 0.5
          },
          "path": "M -0.6725609697145334,0.740041716402965 Q -0.17764002550975397, 0.09189135615983673 -0.9926116243782512, 0.12133492139186276L -0.9926116243782512, 0.12133492139186276 L -0.9920474930753473, 0.1258640992615399 L -0.9914626957403504, 0.13039065516852588 M -0.9914626957403504,0.13039065516852588 Q -0.1776175396891272, 0.09193481165903004 -0.6789290677620684, 0.7342038687910387L -0.6789290677620684, 0.7342038687910387 L -0.6757513229478813, 0.7371296694165743 L -0.6725609697145334, 0.740041716402965 ",
          "type": "path"
         },
         {
          "fillcolor": "#dba284",
          "layer": "below",
          "line": {
           "color": "rgb(175,175,175)",
           "width": 0.5
          },
          "path": "M -0.643367217272523,0.7655577207102089 Q -0.17897278058322735, 0.08926782068756896 -0.998572823033827, 0.05340708846448379L -0.998572823033827, 0.05340708846448379 L -0.9985549536027508, 0.05374015849816726 L -0.9985369730774794, 0.054073222552991344 M -0.9985369730774794,0.054073222552991344 Q -0.17896990731702445, 0.08927358105809177 -0.6438285220042036, 0.7651698074636001L -0.6438285220042036, 0.7651698074636001 L -0.6435978988640432, 0.7653637988419552 L -0.643367217272523, 0.7655577207102089 ",
          "type": "path"
         },
         {
          "fillcolor": "#dba284",
          "layer": "below",
          "line": {
           "color": "rgb(175,175,175)",
           "width": 0.5
          },
          "path": "M -0.6438285220042036,0.7651698074636001 Q -0.18603338458197533, 0.07342737787075655 -0.9928747003579868, -0.11916303700828564L -0.9928747003579868, -0.11916303700828564 L -0.992954889056513, -0.11849298839495973 L -0.9930346255679785, -0.11782288582047488 M -0.9930346255679785,-0.11782288582047488 Q -0.186028089705803, 0.0734407913928609 -0.64475042963242, 0.764393147201628L -0.64475042963242, 0.764393147201628 L -0.6442895928466683, 0.7647816162470659 L -0.6438285220042036, 0.7651698074636001 ",
          "type": "path"
         },
         {
          "fillcolor": "#dba284",
          "layer": "below",
          "line": {
           "color": "rgb(175,175,175)",
           "width": 0.5
          },
          "path": "M -0.6456714003642208,0.7636153761886321 Q -0.19644054612708883, 0.0375647685643223 -0.8818608684236695, -0.4715097122467907L -0.8818608684236695, -0.4715097122467907 L -0.882695603771829, -0.46994517880481157 L -0.8835275634412996, -0.4683791675976638 M -0.8835275634412996,-0.4683791675976638 Q -0.1964267493880694, 0.03763684530930542 -0.64781668107077, 0.7617962639226136L -0.64781668107077, 0.7617962639226136 L -0.6467446802996935, 0.7627065743154751 L -0.6456714003642208, 0.7636153761886321 ",
          "type": "path"
         },
         {
          "fillcolor": "#dba284",
          "layer": "below",
          "line": {
           "color": "rgb(175,175,175)",
           "width": 0.5
          },
          "path": "M -0.64475042963242,0.764393147201628 Q -0.1999024196936339, -0.006246807234920514 -0.595765568663048, -0.80315838238519L -0.595765568663048, -0.80315838238519 L -0.5963853532297878, -0.8026982686246316 L -0.5970047824477209, -0.8022376765862779 M -0.5970047824477209,-0.8022376765862779 Q -0.19990347366197925, -0.00621298783793807 -0.6456714003642208, 0.7636153761886321L -0.6456714003642208, 0.7636153761886321 L -0.6452110321940466, 0.7640044004684089 L -0.64475042963242, 0.764393147201628 ",
          "type": "path"
         },
         {
          "fillcolor": "#dba284",
          "layer": "below",
          "line": {
           "color": "rgb(175,175,175)",
           "width": 0.5
          },
          "path": "M -0.6668915530878976,0.7451547868865984 Q -0.18551682748256637, -0.07472286611743227 0.03576790841891353, -0.9993601236427918L 0.03576790841891353, -0.9993601236427918 L 0.03082542005879294, -0.9995247838238924 L 0.025882177853648786, -0.999665000322384 M 0.025882177853648786,-0.999665000322384 Q -0.18560099461107282, -0.07451356117768448 -0.6725609697145334, 0.740041716402965L -0.6725609697145334, 0.740041716402965 L -0.6697311408937859, 0.7426036620682044 L -0.6668915530878976, 0.7451547868865984 ",
          "type": "path"
         },
         {
          "fillcolor": "#dba284",
          "layer": "below",
          "line": {
           "color": "rgb(175,175,175)",
           "width": 0.5
          },
          "path": "M -0.64781668107077,0.7617962639226136 Q -0.15131901195156802, -0.13077674342940807 0.6599089952600119, -0.7513455383343416L 0.6599089952600119, -0.7513455383343416 L 0.6577217969842628, -0.7532609360452673 L 0.6555290392593232, -0.7551699667543385 M 0.6555290392593232,-0.7551699667543385 Q -0.15139704352239058, -0.13068640025909115 -0.6513299366726846, 0.758794645206433L -0.6513299366726846, 0.758794645206433 L -0.649575042645031, 0.7602974838658262 L -0.64781668107077, 0.7617962639226136 ",
          "type": "path"
         },
         {
          "fillcolor": "#dba284",
          "layer": "below",
          "line": {
           "color": "rgb(175,175,175)",
           "width": 0.5
          },
          "path": "M -0.6558915316845646,0.7548551507835631 Q -0.10231972934811283, -0.17184490968931532 0.9761899955610696, -0.21691724819958183L 0.9761899955610696, -0.21691724819958183 L 0.9753486206352724, -0.22066959062107197 L 0.9744928222682998, -0.2244186697838747 M 0.9744928222682998,-0.2244186697838747 Q -0.10235910676687286, -0.17182145751298913 -0.6613339794397479, 0.750091572835202L -0.6613339794397479, 0.750091572835202 L -0.6586170622659986, 0.7524782822727216 L -0.6558915316845646, 0.7548551507835631 ",
          "type": "path"
         },
         {
          "fillcolor": "#d59171",
          "layer": "below",
          "line": {
           "color": "rgb(175,175,175)",
           "width": 0.5
          },
          "path": "M -0.7392940686159009,0.6733827144420531 Q -0.16170355051554464, 0.11769435734421047 -0.8680377810582156, 0.4964981476858996L -0.8680377810582156, 0.4964981476858996 L -0.8657972630147157, 0.500394943375957 L -0.8635392515914099, 0.5042816286173311 M -0.8635392515914099,0.5042816286173311 Q -0.1616650626502083, 0.11774721872852978 -0.7448817052473239, 0.6671965566366772L -0.7448817052473239, 0.6671965566366772 L -0.7420943329979847, 0.6702954579379724 L -0.7392940686159009, 0.6733827144420531 ",
          "type": "path"
         },
         {
          "fillcolor": "#d59171",
          "layer": "below",
          "line": {
           "color": "rgb(175,175,175)",
           "width": 0.5
          },
          "path": "M -0.7638102088476424,0.6454409073339874 Q -0.1841753843689239, 0.07797068546934259 -0.9950693970598462, 0.09918112237192198L -0.9950693970598462, 0.09918112237192198 L -0.9944063691204061, 0.10562183984749836 L -0.9937016532320151, 0.11205812939702318 M -0.9937016532320151,0.11205812939702318 Q -0.18420631545654528, 0.07789758241385757 -0.7726082896218633, 0.6348830056062131L -0.7726082896218633, 0.6348830056062131 L -0.768227386866705, 0.6401770708702038 L -0.7638102088476424, 0.6454409073339874 ",
          "type": "path"
         },
         {
          "fillcolor": "#d59171",
          "layer": "below",
          "line": {
           "color": "rgb(175,175,175)",
           "width": 0.5
          },
          "path": "M -0.7301240067027334,0.6833146675114964 Q -0.1840494555405314, 0.0782674767399203 -0.9986547447419626, 0.051852683675635024L -0.9986547447419626, 0.051852683675635024 L -0.9986315854316816, 0.05229681231400294 L -0.9986082286054535, 0.052740930608762095 M -0.9986082286054535,0.052740930608762095 Q -0.1840499148242411, 0.07826639670503299 -0.7307395136215209, 0.682656402029735L -0.7307395136215209, 0.682656402029735 L -0.7304318343157726, 0.6829856041075065 L -0.7301240067027334, 0.6833146675114964 ",
          "type": "path"
         },
         {
          "fillcolor": "#d59171",
          "layer": "below",
          "line": {
           "color": "rgb(175,175,175)",
           "width": 0.5
          },
          "path": "M -0.7360998286286996,0.6768729883019406 Q -0.19081323481497778, 0.05991919074423621 -0.9909056432573515, -0.13455856033985455L -0.9909056432573515, -0.13455856033985455 L -0.9912206935208447, -0.1322177625588016 L -0.991530214169577, -0.1298762271889385 M -0.991530214169577,-0.1298762271889385 Q -0.190813459304893, 0.059918475849273345 -0.7392940686159009, 0.6733827144420531L -0.7392940686159009, 0.6733827144420531 L -0.7376990128159024, 0.6751297404872956 L -0.7360998286286996, 0.6768729883019406 ",
          "type": "path"
         },
         {
          "fillcolor": "#d59171",
          "layer": "below",
          "line": {
           "color": "rgb(175,175,175)",
           "width": 0.5
          },
          "path": "M -0.7322756833554535,0.6810083138745838 Q -0.195009020696646, 0.04440137212896805 -0.9549235205594955, -0.29685193258973197L -0.9549235205594955, -0.29685193258973197 L -0.9551925201570487, -0.295985218272849 L -0.9554607331015127, -0.29511826019600995 M -0.9554607331015127,-0.29511826019600995 Q -0.1950087410261535, 0.04440260041252759 -0.7335019432473293, 0.6796873540477207L -0.7335019432473293, 0.6796873540477207 L -0.732889110913812, 0.6803481102376651 L -0.7322756833554535, 0.6810083138745838 ",
          "type": "path"
         },
         {
          "fillcolor": "#d59171",
          "layer": "below",
          "line": {
           "color": "rgb(175,175,175)",
           "width": 0.5
          },
          "path": "M -0.7335019432473293,0.6796873540477207 Q -0.1985051421484297, 0.024407141181050362 -0.8763066000536085, -0.4817538196034204L -0.8763066000536085, -0.4817538196034204 L -0.8773419174979412, -0.47986577269173475 L -0.8783731670557993, -0.4779755008327988 M -0.8783731670557993,-0.4779755008327988 Q -0.19849932208073837, 0.024454429731386028 -0.7360998286286996, 0.6768729883019406L -0.7360998286286996, 0.6768729883019406 L -0.7348022333518924, 0.6782814149459434 L -0.7335019432473293, 0.6796873540477207 ",
          "type": "path"
         },
         {
          "fillcolor": "#d59171",
          "layer": "below",
          "line": {
           "color": "rgb(175,175,175)",
           "width": 0.5
          },
          "path": "M -0.7505664761025866,0.6607949492474539 Q -0.19825385160806375, -0.026370633715704275 -0.5517344592235691, -0.8340198357984514L -0.5517344592235691, -0.8340198357984514 L -0.5561259558445907, -0.8310980214366657 L -0.5605019797948316, -0.8281530840648208 M -0.5605019797948316,-0.8281530840648208 Q -0.19827110895233901, -0.026240566968145175 -0.7566383317225985, 0.6538336447201558L -0.7566383317225985, 0.6538336447201558 L -0.7536104418882602, 0.6573213079438253 L -0.7505664761025866, 0.6607949492474539 ",
          "type": "path"
         },
         {
          "fillcolor": "#d59171",
          "layer": "below",
          "line": {
           "color": "rgb(175,175,175)",
           "width": 0.5
          },
          "path": "M -0.7726082896218633,0.6348830056062131 Q -0.17694763215921186, -0.09321767790096605 0.08668063260793589, -0.9962361506845092L 0.08668063260793589, -0.9962361506845092 L 0.07876945908038702, -0.9968928589954806 L 0.07085332166439064, -0.9974867451796652 M 0.07085332166439064,-0.9974867451796652 Q -0.1770469714966602, -0.09302886586356296 -0.7812604436081044, 0.6242051900242963L -0.7812604436081044, 0.6242051900242963 L -0.7769527102493604, 0.6295589615247911 L -0.7726082896218633, 0.6348830056062131 ",
          "type": "path"
         },
         {
          "fillcolor": "#d59171",
          "layer": "below",
          "line": {
           "color": "rgb(175,175,175)",
           "width": 0.5
          },
          "path": "M -0.7566383317225985,0.6538336447201558 Q -0.1372345495778354, -0.14548772595022796 0.6968579290499315, -0.7172091931370098L 0.6968579290499315, -0.7172091931370098 L 0.6924022787774184, -0.7215116661176297 L 0.6879200651194192, -0.7257864589575187 M 0.6879200651194192,-0.7257864589575187 Q -0.13733258185812397, -0.14539519235580553 -0.7638102088476424, 0.6454409073339874L -0.7638102088476424, 0.6454409073339874 L -0.7602358519832858, 0.6496471729787235 L -0.7566383317225985, 0.6538336447201558 ",
          "type": "path"
         },
         {
          "fillcolor": "#d59171",
          "layer": "below",
          "line": {
           "color": "rgb(175,175,175)",
           "width": 0.5
          },
          "path": "M -0.7307395136215209,0.682656402029735 Q -0.1107178381620255, -0.16655797883237997 0.9122944660435727, -0.40953486692377317L 0.9122944660435727, -0.40953486692377317 L 0.9120668228427061, -0.41004159626751496 L 0.911838898181616, -0.4105481990740387 M 0.911838898181616,-0.4105481990740387 Q -0.1107165496571972, -0.16655883534656873 -0.7315080626315991, 0.6818327905762266L -0.7315080626315991, 0.6818327905762266 L -0.7311239041014098, 0.6822447045243462 L -0.7307395136215209, 0.682656402029735 ",
          "type": "path"
         },
         {
          "fillcolor": "#d59171",
          "layer": "below",
          "line": {
           "color": "rgb(175,175,175)",
           "width": 0.5
          },
          "path": "M -0.7448817052473239,0.6671965566366772 Q -0.09066425480438998, -0.17826943905438378 0.9779188099209195, -0.2089851698155937L 0.9779188099209195, -0.2089851698155937 L 0.9770624521403091, -0.2129529633923093 L 0.9761899955610696, -0.21691724819958183 M 0.9761899955610696,-0.21691724819958183 Q -0.09062475787995998, -0.17828952089003614 -0.7505664761025866, 0.6607949492474539L -0.7505664761025866, 0.6607949492474539 L -0.7477309415290907, 0.6640018366541011 L -0.7448817052473239, 0.6671965566366772 ",
          "type": "path"
         },
         {
          "fillcolor": "#d0805f",
          "layer": "below",
          "line": {
           "color": "rgb(175,175,175)",
           "width": 0.5
          },
          "path": "M -0.8597164659000563,0.5107715715075745 Q -0.18474243237728696, 0.07661745022723972 -0.968865298475453, 0.24758843553379345L -0.968865298475453, 0.24758843553379345 L -0.9682090006013666, 0.25014262162714884 L -0.9675459692272588, 0.2526950680802545 M -0.9675459692272588,0.2526950680802545 Q -0.18482880953313066, 0.07640884220144754 -0.8635392515914099, 0.5042816286173311L -0.8635392515914099, 0.5042816286173311 L -0.8616339691576909, 0.5075301992921833 L -0.8597164659000563, 0.5107715715075745 ",
          "type": "path"
         },
         {
          "fillcolor": "#d0805f",
          "layer": "below",
          "line": {
           "color": "rgb(175,175,175)",
           "width": 0.5
          },
          "path": "M -0.8680377810582156,0.4964981476858996 Q -0.1892605850148713, 0.0646562522872202 -0.9903785963145768, 0.1383843775936014L -0.9903785963145768, 0.1383843775936014 L -0.9898274806854611, 0.14227283113747735 L -0.9892610981558432, 0.1461590902937454 M -0.9892610981558432,0.1461590902937454 Q -0.1892972583867284, 0.06454880298865498 -0.8724661562820535, 0.4886745401004839L -0.8724661562820535, 0.4886745401004839 L -0.8702607604523817, 0.4925913202816736 L -0.8680377810582156, 0.4964981476858996 ",
          "type": "path"
         },
         {
          "fillcolor": "#d0805f",
          "layer": "below",
          "line": {
           "color": "rgb(175,175,175)",
           "width": 0.5
          },
          "path": "M -0.8453705111750053,0.534180399149679 Q -0.19084704522166562, 0.05981141471458043 -0.9990378320674911, 0.04385669957814411L -0.9990378320674911, 0.04385669957814411 L -0.9989582334174307, 0.045633845855089006 L -0.9988754734792944, 0.047410847719856916 M -0.9988754734792944,0.047410847719856916 Q -0.19085690271873743, 0.059779952196454655 -0.8474407775097086, 0.5308899402077051L -0.8474407775097086, 0.5308899402077051 L -0.8464072433259375, 0.5325361757152158 L -0.8453705111750053, 0.534180399149679 ",
          "type": "path"
         },
         {
          "fillcolor": "#d0805f",
          "layer": "below",
          "line": {
           "color": "rgb(175,175,175)",
           "width": 0.5
          },
          "path": "M -0.8474407775097086,0.5308899402077051 Q -0.19540793832938172, 0.04261147307780569 -0.991530214169577, -0.1298762271889385L -0.991530214169577, -0.1298762271889385 L -0.9917767272835802, -0.12798016728646217 L -0.9920196146484525, -0.1260836395125708 M -0.9920196146484525,-0.1260836395125708 Q -0.19541446622213293, 0.042581526406634075 -0.8496264015874785, 0.5273850374494073L -0.8496264015874785, 0.5273850374494073 L -0.8485353991897199, 0.5291386173035784 L -0.8474407775097086, 0.5308899402077051 ",
          "type": "path"
         },
         {
          "fillcolor": "#d0805f",
          "layer": "below",
          "line": {
           "color": "rgb(175,175,175)",
           "width": 0.5
          },
          "path": "M -0.8438094253320685,0.5366429480769913 Q -0.1983437019859455, 0.025686102906249692 -0.9526742871817272, -0.30399293173162417L -0.9526742871817272, -0.30399293173162417 L -0.9530872143529112, -0.302695823950394 L -0.9534983754559221, -0.301398155274576 M -0.9534983754559221,-0.301398155274576 Q -0.1983461820127254, 0.025666945298862567 -0.8453705111750053, 0.534180399149679L -0.8453705111750053, 0.534180399149679 L -0.8445908657517647, 0.5354122425651888 L -0.8438094253320685, 0.5366429480769913 ",
          "type": "path"
         },
         {
          "fillcolor": "#d0805f",
          "layer": "below",
          "line": {
           "color": "rgb(175,175,175)",
           "width": 0.5
          },
          "path": "M -0.8827145743256322,0.4699095447776285 Q -0.1998426828359049, -0.007931085483584937 -0.8426987310745666, -0.5383854090197052L -0.8426987310745666, -0.5383854090197052 L -0.847304589168284, -0.5311072708731877 L -0.8518475897815462, -0.5237897324149937 M -0.8518475897815462,-0.5237897324149937 Q -0.19984546251854396, -0.007860732201853331 -0.8903576531035983, 0.4552617374212911L -0.8903576531035983, 0.4552617374212911 L -0.886566365527872, 0.4626014261918132 L -0.8827145743256322, 0.4699095447776285 ",
          "type": "path"
         },
         {
          "fillcolor": "#d0805f",
          "layer": "below",
          "line": {
           "color": "rgb(175,175,175)",
           "width": 0.5
          },
          "path": "M -0.8903576531035983,0.4552617374212911 Q -0.19162463890019174, -0.057271264752676146 -0.4945236559689123, -0.8691641695831351L -0.4945236559689123, -0.8691641695831351 L -0.5047761001129252, -0.8632503048101322 L -0.514957831986491, -0.8572155104031732 M -0.514957831986491,-0.8572155104031732 Q -0.19166234690525036, -0.05714494534752371 -0.9003110546940228, 0.4352470617887456L -0.9003110546940228, 0.4352470617887456 L -0.8953902791976076, 0.44528221154502706 L -0.8903576531035983, 0.4552617374212911 ",
          "type": "path"
         },
         {
          "fillcolor": "#d0805f",
          "layer": "below",
          "line": {
           "color": "rgb(175,175,175)",
           "width": 0.5
          },
          "path": "M -0.8425030402640589,0.5386915881520868 Q -0.17867166184270952, -0.08986900051944757 -0.069792175392205, -0.9975615531154074L -0.069792175392205, -0.9975615531154074 L -0.0706424285794932, -0.9975017028979907 L -0.07149263044417091, -0.9974411279830872 M -0.07149263044417091,-0.9974411279830872 Q -0.1786390720343485, -0.08993376419736276 -0.8438094253320685, 0.5366429480769913L -0.8438094253320685, 0.5366429480769913 L -0.8431568550025327, 0.5376676648843951 L -0.8425030402640589, 0.5386915881520868 ",
          "type": "path"
         },
         {
          "fillcolor": "#d0805f",
          "layer": "below",
          "line": {
           "color": "rgb(175,175,175)",
           "width": 0.5
          },
          "path": "M -0.9119203393605994,0.4103672680178687 Q -0.1569816334129955, -0.12392242238992868 0.18744194994287183, -0.9822756819761008L 0.18744194994287183, -0.9822756819761008 L 0.17105431174085883, -0.9852616010151116 L 0.15461921103082799, -0.9879741391252123 M 0.15461921103082799,-0.9879741391252123 Q -0.15711876702891237, -0.12374850725287304 -0.9242399212249308, 0.38181221564289125L -0.9242399212249308, 0.38181221564289125 L -0.9181911420790418, 0.39613763593930945 L -0.9119203393605994, 0.4103672680178687 ",
          "type": "path"
         },
         {
          "fillcolor": "#d0805f",
          "layer": "below",
          "line": {
           "color": "rgb(175,175,175)",
           "width": 0.5
          },
          "path": "M -0.8772909013023563,0.4799590341811469 Q -0.12205259144405041, -0.15843978326730856 0.6879200651194192, -0.7257864589575187L 0.6879200651194192, -0.7257864589575187 L 0.6835959991385067, -0.7298606099535903 L 0.6792478047802954, -0.7339089996049576 M 0.6792478047802954,-0.7339089996049576 Q -0.12208922205127791, -0.15841155847637434 -0.8827145743256322, 0.4699095447776285L -0.8827145743256322, 0.4699095447776285 L -0.8800170831406872, 0.4749420316002331 L -0.8772909013023563, 0.4799590341811469 ",
          "type": "path"
         },
         {
          "fillcolor": "#d0805f",
          "layer": "below",
          "line": {
           "color": "rgb(175,175,175)",
           "width": 0.5
          },
          "path": "M -0.8526873020092894,0.5224216352641982 Q -0.09238245771943147, -0.17738512199651205 0.9168768363963206, -0.3991702229373765L 0.9168768363963206, -0.3991702229373765 L 0.9157199399434394, -0.4018171121169229 L 0.9145554023280346, -0.4044606483610079 M 0.9145554023280346,-0.4044606483610079 Q -0.09233456560713586, -0.1774100560682554 -0.8559705539698808, 0.5170245745963101L -0.8559705539698808, 0.5170245745963101 L -0.8543331898421114, 0.5197256975888367 L -0.8526873020092894, 0.5224216352641982 ",
          "type": "path"
         },
         {
          "fillcolor": "#d0805f",
          "layer": "below",
          "line": {
           "color": "rgb(175,175,175)",
           "width": 0.5
          },
          "path": "M -0.8496264015874785,0.5273850374494073 Q -0.0768616105083319, -0.18464098361432513 0.9728864398604955, -0.23128332221664957L 0.9728864398604955, -0.23128332221664957 L 0.9722903073720612, -0.2337767272213866 L 0.9716877845615263, -0.23626859574203427 M 0.9716877845615263,-0.23626859574203427 Q -0.07679661330240782, -0.18466802697077922 -0.8526873020092894, 0.5224216352641982L -0.8526873020092894, 0.5224216352641982 L -0.8511604697139366, 0.5249055675036709 L -0.8496264015874785, 0.5273850374494073 ",
          "type": "path"
         },
         {
          "fillcolor": "#d0805f",
          "layer": "below",
          "line": {
           "color": "rgb(175,175,175)",
           "width": 0.5
          },
          "path": "M -0.8414543507211381,0.5403282110462752 Q -0.0662479950300448, -0.18870930860585325 0.9945544592403253, -0.10421817310423427L 0.9945544592403253, -0.10421817310423427 L 0.9944732330707136, -0.1049904219721129 L 0.9943914072675498, -0.1057626075343354 M 0.9943914072675498,-0.1057626075343354 Q -0.06621112341357908, -0.18872224865211787 -0.8425030402640589, 0.5386915881520868L -0.8425030402640589, 0.5386915881520868 L -0.8419790931472363, 0.5395101544020813 L -0.8414543507211381, 0.5403282110462752 ",
          "type": "path"
         },
         {
          "fillcolor": "#ca6f4c",
          "layer": "below",
          "line": {
           "color": "rgb(175,175,175)",
           "width": 0.5
          },
          "path": "M -0.9618603806391917,0.27354087108991454 Q -0.19449709518179445, 0.046592702924857204 -0.9813995661243673, 0.19197627877137205L -0.9813995661243673, 0.19197627877137205 L -0.9812361957357765, 0.19280956453967996 L -0.981072117821866, 0.1936427112816766 M -0.981072117821866,0.1936427112816766 Q -0.1944892372158015, 0.04662549310426321 -0.9622318096670207, 0.27223141711589877L -0.9622318096670207, 0.27223141711589877 L -0.9620463179425236, 0.2728862072975344 L -0.9618603806391917, 0.27354087108991454 ",
          "type": "path"
         },
         {
          "fillcolor": "#ca6f4c",
          "layer": "below",
          "line": {
           "color": "rgb(175,175,175)",
           "width": 0.5
          },
          "path": "M -0.9611591487876885,0.2759947294817894 Q -0.1972442757649923, 0.03308618560583369 -0.9986082286054535, 0.052740930608762095L -0.9986082286054535, 0.052740930608762095 L -0.9985905813687198, 0.05307401248899661 L -0.998572823033827, 0.05340708846448379 M -0.998572823033827,0.05340708846448379 Q -0.19724168317824298, 0.03310163767872552 -0.9612998961184028, 0.27550410109968954L -0.9612998961184028, 0.27550410109968954 L -0.9612295537562099, 0.27574942427072735 L -0.9611591487876885, 0.2759947294817894 ",
          "type": "path"
         },
         {
          "fillcolor": "#ca6f4c",
          "layer": "below",
          "line": {
           "color": "rgb(175,175,175)",
           "width": 0.5
          },
          "path": "M -0.9650498894768141,0.2620662336524659 Q -0.19990219818167163, -0.00625389175919157 -0.9467813542875579, -0.3218774101632759L -0.9467813542875579, -0.3218774101632759 L -0.9477627611020151, -0.31897609419560696 L -0.9487352771495529, -0.31607178597901 M -0.9487352771495529,-0.31607178597901 Q -0.19990692959184414, -0.0061007787340205625 -0.9662435714562221, 0.2576302789260702L -0.9662435714562221, 0.2576302789260702 L -0.9656492776801834, 0.2598489417252649 L -0.9650498894768141, 0.2620662336524659 ",
          "type": "path"
         },
         {
          "fillcolor": "#ca6f4c",
          "layer": "below",
          "line": {
           "color": "rgb(175,175,175)",
           "width": 0.5
          },
          "path": "M -0.9626935890075738,0.2705938906991739 Q -0.1987852991747085, -0.022009198804628073 -0.8801830811994655, -0.47463432616090356L -0.8801830811994655, -0.47463432616090356 L -0.8810233600216867, -0.47307276300385076 L -0.8818608684236695, -0.4715097122467907 M -0.8818608684236695,-0.4715097122467907 Q -0.19879808172247837, -0.02189343973574784 -0.9633353980618651, 0.2683000388389609L -0.9633353980618651, 0.2683000388389609 L -0.9630151765143795, 0.2694471558635913 L -0.9626935890075738, 0.2705938906991739 ",
          "type": "path"
         },
         {
          "fillcolor": "#ca6f4c",
          "layer": "below",
          "line": {
           "color": "rgb(175,175,175)",
           "width": 0.5
          },
          "path": "M -0.9633353980618651,0.2683000388389609 Q -0.18891733676199762, -0.06565241709757522 -0.5893404095106926, -0.8078848195861642L -0.5893404095106926, -0.8078848195861642 L -0.5911058949792442, -0.8065939628591245 L -0.5928685530405055, -0.8052992479914888 M -0.5928685530405055,-0.8052992479914888 Q -0.18896592558718645, -0.06551243368230127 -0.9641073893246478, 0.26551260205423766L -0.9641073893246478, 0.26551260205423766 L -0.9637224014793003, 0.2669065995567929 L -0.9633353980618651, 0.2683000388389609 ",
          "type": "path"
         },
         {
          "fillcolor": "#ca6f4c",
          "layer": "below",
          "line": {
           "color": "rgb(175,175,175)",
           "width": 0.5
          },
          "path": "M -0.9641073893246478,0.26551260205423766 Q -0.1623853760260664, -0.11675182933416084 -0.055330617556895924, -0.9984680880032033L -0.055330617556895924, -0.9984680880032033 L -0.05711773576675704, -0.9983674495199044 L -0.05890467097598501, -0.9982636123475657 M -0.05890467097598501,-0.9982636123475657 Q -0.16238578332448161, -0.11675126283725804 -0.9650498894768141, 0.2620662336524659L -0.9650498894768141, 0.2620662336524659 L -0.9645801786020464, 0.2637898387884651 L -0.9641073893246478, 0.26551260205423766 ",
          "type": "path"
         },
         {
          "fillcolor": "#ca6f4c",
          "layer": "below",
          "line": {
           "color": "rgb(175,175,175)",
           "width": 0.5
          },
          "path": "M -0.9710178253533744,0.23900707697891208 Q -0.14953922880596557, -0.13280820399401946 0.1226581821140028, -0.9924489762000303L 0.1226581821140028, -0.9924489762000303 L 0.11283655510731401, -0.993613562624582 L 0.10300389035900408, -0.9946809531557896 M 0.10300389035900408,-0.9946809531557896 Q -0.14999324308097464, -0.13229522678483777 -0.9740270627066834, 0.226431625695243L -0.9740270627066834, 0.226431625695243 L -0.9725427700805183, 0.23272421525082487 L -0.9710178253533744, 0.23900707697891208 ",
          "type": "path"
         },
         {
          "fillcolor": "#ca6f4c",
          "layer": "below",
          "line": {
           "color": "rgb(175,175,175)",
           "width": 0.5
          },
          "path": "M -0.9610181510500062,0.27648528596008065 Q -0.10791297523813462, -0.1683888053739136 0.6526605962358005, -0.7576504115495017L 0.6526605962358005, -0.7576504115495017 L 0.6523732350418652, -0.7578978573666845 L 0.6520857800328167, -0.7581451941936933 M 0.6520857800328167,-0.7581451941936933 Q -0.10793385608848689, -0.16837542192930002 -0.9611591487876885, 0.2759947294817894L -0.9611591487876885, 0.2759947294817894 L -0.9610886812174241, 0.27624001671689896 L -0.9610181510500062, 0.27648528596008065 ",
          "type": "path"
         },
         {
          "fillcolor": "#ca6f4c",
          "layer": "below",
          "line": {
           "color": "rgb(175,175,175)",
           "width": 0.5
          },
          "path": "M -0.9612998961184028,0.27550410109968954 Q -0.06830317186332624, -0.18797520238959425 0.9139251820366464, -0.4058826944318797L 0.9139251820366464, -0.4058826944318797 L 0.9136544106561811, -0.4064918423394327 L 0.9133832332675099, -0.40710080961082545 M 0.9133832332675099,-0.40710080961082545 Q -0.06833253267714245, -0.18796453116991851 -0.9615806394123192, 0.2745226291353689L -0.9615806394123192, 0.2745226291353689 L -0.9614403930054808, 0.2750134009416027 L -0.9612998961184028, 0.27550410109968954 ",
          "type": "path"
         },
         {
          "fillcolor": "#ca6f4c",
          "layer": "below",
          "line": {
           "color": "rgb(175,175,175)",
           "width": 0.5
          },
          "path": "M -0.9608769029420894,0.27697577040676064 Q -0.05288277380606478, -0.1928818608230867 0.9677774864206223, -0.2518069434653902L 0.9677774864206223, -0.2518069434653902 L 0.9677505829001444, -0.251910319948252 L 0.9677236683371515, -0.2520136935566929 M 0.9677236683371515,-0.2520136935566929 Q -0.0528869690401059, -0.19288071055901596 -0.9609240134613731, 0.27681228360260113L -0.9609240134613731, 0.27681228360260113 L -0.9609004616786698, 0.27689402800659896 L -0.9608769029420894, 0.27697577040676064 ",
          "type": "path"
         },
         {
          "fillcolor": "#ca6f4c",
          "layer": "below",
          "line": {
           "color": "rgb(175,175,175)",
           "width": 0.5
          },
          "path": "M -0.9609240134613731,0.27681228360260113 Q -0.03865123395695951, -0.1962296667520087 0.9941213327868051, -0.10827176777990755L 0.9941213327868051, -0.10827176777990755 L 0.994100295557837, -0.10846475174830435 L 0.9940792208658242, -0.10865773162916607 M 0.9940792208658242,-0.10865773162916607 Q -0.0386559411132516, -0.19622873952774814 -0.9610181510500062, 0.27648528596008065L -0.9610181510500062, 0.27648528596008065 L -0.9609710961644664, 0.2766487887854634 L -0.9609240134613731, 0.27681228360260113 ",
          "type": "path"
         },
         {
          "fillcolor": "#c45e3a",
          "layer": "below",
          "line": {
           "color": "rgb(175,175,175)",
           "width": 0.5
          },
          "path": "M -0.9808246745999669,0.19489216940623627 Q -0.19985807253385, 0.007533315541935176 -0.9927129665460284, -0.12050297113093904L -0.9927129665460284, -0.12050297113093904 L -0.9927940595089174, -0.11983303135531605 L -0.9928747003579868, -0.11916303700828564 M -0.9928747003579868,-0.11916303700828564 Q -0.1998577863673469, 0.007540903682180466 -0.981072117821866, 0.1936427112816766L -0.981072117821866, 0.1936427112816766 L -0.9809485951440933, 0.19426747974076816 L -0.9808246745999669, 0.19489216940623627 ",
          "type": "path"
         },
         {
          "fillcolor": "#c45e3a",
          "layer": "below",
          "line": {
           "color": "rgb(175,175,175)",
           "width": 0.5
          },
          "path": "M -0.9834204694401782,0.1813399577756082 Q -0.19941793862605106, -0.01524748353455544 -0.9444195961084902, -0.32874249266907407L -0.9444195961084902, -0.32874249266907407 L -0.945606705260798, -0.3253120947118601 L -0.9467813542875579, -0.3218774101632759 M -0.9467813542875579,-0.3218774101632759 Q -0.19942149192225328, -0.01520093942829446 -0.9846296469102082, 0.1746552559343087L -0.9846296469102082, 0.1746552559343087 L -0.9840307344927642, 0.17799863362855026 L -0.9834204694401782, 0.1813399577756082 ",
          "type": "path"
         },
         {
          "fillcolor": "#c45e3a",
          "layer": "below",
          "line": {
           "color": "rgb(175,175,175)",
           "width": 0.5
          },
          "path": "M -0.9822456481781439,0.1875992714140914 Q -0.19730197385150708, -0.032740359104616056 -0.8690085623690795, -0.49479704781781547L -0.8690085623690795, -0.49479704781781547 L -0.8708824641968524, -0.4914913361946658 L -0.8727437911459812, -0.4881785278114349 M -0.8727437911459812,-0.4881785278114349 Q -0.19732209113072294, -0.03261889562506188 -0.9834204694401782, 0.1813399577756082L -0.9834204694401782, 0.1813399577756082 L -0.9828380417138819, 0.18447054984474293 L -0.9822456481781439, 0.1875992714140914 ",
          "type": "path"
         },
         {
          "fillcolor": "#c45e3a",
          "layer": "below",
          "line": {
           "color": "rgb(175,175,175)",
           "width": 0.5
          },
          "path": "M -0.9880825675735215,0.15392478571470328 Q -0.18337369066086703, -0.07983789559734561 -0.5605019797948316, -0.8281530840648208L -0.5605019797948316, -0.8281530840648208 L -0.5644376914431432, -0.8254756764910369 L -0.568360613871748, -0.8227795650107809 M -0.568360613871748,-0.8227795650107809 Q -0.18344011326651288, -0.07968516075637248 -0.9892610981558432, 0.1461590902937454L -0.9892610981558432, 0.1461590902937454 L -0.9886794574614935, 0.15004309512152433 L -0.9880825675735215, 0.15392478571470328 ",
          "type": "path"
         },
         {
          "fillcolor": "#c45e3a",
          "layer": "below",
          "line": {
           "color": "rgb(175,175,175)",
           "width": 0.5
          },
          "path": "M -0.9807003562397479,0.1955167800247117 Q -0.15922273815154375, -0.1210294164884097 -0.07404292192591526, -0.9972550554961719L -0.07404292192591526, -0.9972550554961719 L -0.07429792472162887, -0.9972360895906541 L -0.07455292265928949, -0.9972170584797264 M -0.07455292265928949,-0.9972170584797264 Q -0.15921514639027243, -0.12103940333595556 -0.9808246745999669, 0.19489216940623627L -0.9808246745999669, 0.19489216940623627 L -0.9807625651437214, 0.19520448461218226 L -0.9807003562397479, 0.1955167800247117 ",
          "type": "path"
         },
         {
          "fillcolor": "#c45e3a",
          "layer": "below",
          "line": {
           "color": "rgb(175,175,175)",
           "width": 0.5
          },
          "path": "M -0.9903785963145768,0.1383843775936014 Q -0.14785325080163061, -0.13468265006076366 0.045650140145250755, -0.998957488937702L 0.045650140145250755, -0.998957488937702 L 0.04070952206395439, -0.9991710238058971 L 0.03576790841891353, -0.9993601236427918 M 0.03576790841891353,-0.9993601236427918 Q -0.14797598956378516, -0.13454778523862274 -0.9914626957403504, 0.13039065516852588L -0.9914626957403504, 0.13039065516852588 L -0.9909287066298151, 0.13438860955066775 L -0.9903785963145768, 0.1383843775936014 ",
          "type": "path"
         },
         {
          "fillcolor": "#c45e3a",
          "layer": "below",
          "line": {
           "color": "rgb(175,175,175)",
           "width": 0.5
          },
          "path": "M -0.9869458456531124,0.1610524689288021 Q -0.09561643404955111, -0.17566302268732553 0.6710421568477452, -0.7414191956869786L 0.6710421568477452, -0.7414191956869786 L 0.6678494992985433, -0.7442963430561008 L 0.6646445058750529, -0.7471597424982872 M 0.6646445058750529,-0.7471597424982872 Q -0.09573742772500683, -0.17559710969318115 -0.9880825675735215, 0.15392478571470328L -0.9880825675735215, 0.15392478571470328 L -0.9875206373692293, 0.15748965289780464 L -0.9869458456531124, 0.1610524689288021 ",
          "type": "path"
         },
         {
          "fillcolor": "#c45e3a",
          "layer": "below",
          "line": {
           "color": "rgb(175,175,175)",
           "width": 0.5
          },
          "path": "M -0.9806588283914759,0.19572496595441716 Q -0.061185930021103334, -0.19041082418668498 0.9111076486732663, -0.41216847590405536L 0.9111076486732663, -0.41216847590405536 L 0.9110618499591553, -0.4122697000132337 L 0.9110160399990401, -0.41237091903341977 M 0.9110160399990401,-0.41237091903341977 Q -0.061186874294747645, -0.19041052075460208 -0.9807003562397479, 0.1955167800247117L -0.9807003562397479, 0.1955167800247117 L -0.9806795978400183, 0.19562087409154433 L -0.9806588283914759, 0.19572496595441716 ",
          "type": "path"
         },
         {
          "fillcolor": "#c45e3a",
          "layer": "below",
          "line": {
           "color": "rgb(175,175,175)",
           "width": 0.5
          },
          "path": "M -0.985793386332423,0.16796249421598314 Q -0.03925438581993751, -0.19610990080538895 0.9744928222682998, -0.2244186697838747L 0.9744928222682998, -0.2244186697838747 L 0.9736956806444088, -0.22785241164934264 L 0.9728864398604955, -0.23128332221664957 M 0.9728864398604955,-0.23128332221664957 Q -0.03925876206720855, -0.1961090247820082 -0.9869458456531124, 0.1610524689288021L -0.9869458456531124, 0.1610524689288021 L -0.9863756670083095, 0.1645084907654087 L -0.985793386332423, 0.16796249421598314 ",
          "type": "path"
         },
         {
          "fillcolor": "#c45e3a",
          "layer": "below",
          "line": {
           "color": "rgb(175,175,175)",
           "width": 0.5
          },
          "path": "M -0.9817241838549043,0.19030929255930193 Q -0.029058197545484023, -0.19787779348731283 0.9949904825529845, -0.09996969355249094L 0.9949904825529845, -0.09996969355249094 L 0.9948635460201701, -0.1012251194129837 L 0.994735025458679, -0.10248038410213622 M 0.994735025458679,-0.10248038410213622 Q -0.029034839605079334, -0.19788122217407927 -0.9822456481781439, 0.1875992714140914L -0.9822456481781439, 0.1875992714140914 L -0.9819858508846406, 0.1889544618747286 L -0.9817241838549043, 0.19030929255930193 ",
          "type": "path"
         },
         {
          "fillcolor": "#bf4d28",
          "layer": "below",
          "line": {
           "color": "rgb(175,175,175)",
           "width": 0.5
          },
          "path": "M -0.99950355965192,-0.031506098507129134 Q -0.19822900726160836, -0.026556744530857452 -0.9725509363042152, -0.23269008636767124L -0.9725509363042152, -0.23269008636767124 L -0.9754791716314055, -0.22009176657318869 L -0.978244216878727, -0.207456627137641 M -0.978244216878727,-0.207456627137641 Q -0.198232940608061, -0.026527368091858846 -0.998371184712556, -0.05705241042802111L -0.998371184712556, -0.05705241042802111 L -0.9990190323790358, -0.04428287416660166 L -0.99950355965192, -0.031506098507129134 ",
          "type": "path"
         },
         {
          "fillcolor": "#bf4d28",
          "layer": "below",
          "line": {
           "color": "rgb(175,175,175)",
           "width": 0.5
          },
          "path": "M -0.9986547447419626,0.051852683675635024 Q -0.19848759248691458, -0.024549452717902667 -0.9559282122063043, -0.2936004991618011L -0.9559282122063043, -0.2936004991618011 L -0.9560945847968022, -0.29305826199278256 L -0.9562606498107292, -0.29251593054663166 M -0.9562606498107292,-0.29251593054663166 Q -0.19848786919180364, -0.024547215395996552 -0.998711778855433, 0.05074231740289938L -0.998711778855433, 0.05074231740289938 L -0.998683416116039, 0.05129750846579804 L -0.9986547447419626, 0.051852683675635024 ",
          "type": "path"
         },
         {
          "fillcolor": "#bf4d28",
          "layer": "below",
          "line": {
           "color": "rgb(175,175,175)",
           "width": 0.5
          },
          "path": "M -0.9987785901482241,0.04940979519817654 Q -0.19522248502245276, -0.04345320864629226 -0.8835275634412996, -0.4683791675976638L -0.8835275634412996, -0.4683791675976638 L -0.884060927711719, -0.4673716680474917 L -0.884593143115976, -0.46636356113251215 M -0.884593143115976,-0.46636356113251215 Q -0.1952285371786334, -0.043426009154548924 -0.9988754734792944, 0.047410847719856916L -0.9988754734792944, 0.047410847719856916 L -0.9988275318740667, 0.04841034569552584 L -0.9987785901482241, 0.04940979519817654 ",
          "type": "path"
         },
         {
          "fillcolor": "#bf4d28",
          "layer": "below",
          "line": {
           "color": "rgb(175,175,175)",
           "width": 0.5
          },
          "path": "M -0.9998284903772876,0.018519984607827326 Q -0.17796072597272317, -0.09126872416803769 -0.568360613871748, -0.8227795650107809L -0.568360613871748, -0.8227795650107809 L -0.5720596351601469, -0.8202120297950034 L -0.575747057941973, -0.8176278647839507 M -0.575747057941973,-0.8176278647839507 Q -0.17801649210067394, -0.0911599064291462 -0.9999423457361227, 0.010738026063504139L -0.9999423457361227, 0.010738026063504139 L -0.9998929887553609, 0.014629116100148595 L -0.9998284903772876, 0.018519984607827326 ",
          "type": "path"
         },
         {
          "fillcolor": "#bf4d28",
          "layer": "below",
          "line": {
           "color": "rgb(175,175,175)",
           "width": 0.5
          },
          "path": "M -0.9985006787523644,0.05473933257784187 Q -0.15020078523007108, -0.13205954761496824 -0.07353290182702046, -0.9972927916860213L -0.07353290182702046, -0.9972927916860213 L -0.07378791428882144, -0.9972739561950394 L -0.07404292192591526, -0.9972550554961719 M -0.07404292192591526,-0.9972550554961719 Q -0.15019050500585285, -0.13207123913285168 -0.9985369730774794, 0.054073222552991344L -0.9985369730774794, 0.054073222552991344 L -0.9985188814600129, 0.054406280591901 L -0.9985006787523644, 0.05473933257784187 ",
          "type": "path"
         },
         {
          "fillcolor": "#bf4d28",
          "layer": "below",
          "line": {
           "color": "rgb(175,175,175)",
           "width": 0.5
          },
          "path": "M -0.9996598972596761,0.02607853160693215 Q -0.14143524455051623, -0.1414074665600642 0.025882177853648786, -0.999665000322384L 0.025882177853648786, -0.999665000322384 L 0.021458736814738914, -0.9997697347961259 L 0.017034875660973718, -0.999854895978019 M 0.017034875660973718,-0.999854895978019 Q -0.14152634689468233, -0.14131628757735623 -0.9998284903772876, 0.018519984607827326L -0.9998284903772876, 0.018519984607827326 L -0.99975133707435, 0.022299417437443906 L -0.9996598972596761, 0.02607853160693215 ",
          "type": "path"
         },
         {
          "fillcolor": "#bf4d28",
          "layer": "below",
          "line": {
           "color": "rgb(175,175,175)",
           "width": 0.5
          },
          "path": "M -0.998371184712556,-0.05705241042802111 Q -0.05744681960614054, -0.19157208282299265 0.8022394172579441, -0.5970024433766031L 0.8022394172579441, -0.5970024433766031 L 0.7927836449954317, -0.6095031519424303 L 0.7831331021672983, -0.621854118173888 M 0.7831331021672983,-0.621854118173888 Q -0.05780833392796665, -0.1914633033468103 -0.9964187531938581, -0.08455571112347994L -0.9964187531938581, -0.08455571112347994 L -0.9974897653512316, -0.07081079027623527 L -0.998371184712556, -0.05705241042802111 ",
          "type": "path"
         },
         {
          "fillcolor": "#bf4d28",
          "layer": "below",
          "line": {
           "color": "rgb(175,175,175)",
           "width": 0.5
          },
          "path": "M -0.998711778855433,0.05074231740289938 Q -0.04657266254422834, -0.19450189485848574 0.9133832332675099, -0.40710080961082545L 0.9133832332675099, -0.40710080961082545 L 0.9131116499911376, -0.4077095959754469 L 0.9128396609477497, -0.4083182011627664 M 0.9128396609477497,-0.4083182011627664 Q -0.046572568986982796, -0.1945019172603518 -0.9987785901482241, 0.04940979519817654L -0.9987785901482241, 0.04940979519817654 L -0.9987454067325907, 0.05007606744295958 L -0.998711778855433, 0.05074231740289938 ",
          "type": "path"
         },
         {
          "fillcolor": "#bf4d28",
          "layer": "below",
          "line": {
           "color": "rgb(175,175,175)",
           "width": 0.5
          },
          "path": "M -0.9998932540070942,-0.014610975022378238 Q -0.014346053223047429, -0.19948481334909055 0.9875131914748473, -0.15753633442213139L 0.9875131914748473, -0.15753633442213139 L 0.9862017341809715, -0.16554799756700306 L 0.9848252796182199, -0.17354874999519598 M 0.9848252796182199,-0.17354874999519598 Q -0.014279904322686441, -0.19948955945746866 -0.99950355965192, -0.031506098507129134L -0.99950355965192, -0.031506098507129134 L -0.9997340976063814, -0.023059359990123558 L -0.9998932540070942, -0.014610975022378238 ",
          "type": "path"
         },
         {
          "fillcolor": "#bf4d28",
          "layer": "below",
          "line": {
           "color": "rgb(175,175,175)",
           "width": 0.5
          },
          "path": "M -0.9999423457361227,0.010738026063504139 Q -0.008309108062858171, -0.1998273222639981 0.9973819447668448, -0.07231359659916307L 0.9973819447668448, -0.07231359659916307 L 0.997078858938704, -0.07637898308757544 L 0.9967592024293539, -0.0804431002162291 M 0.9967592024293539,-0.0804431002162291 Q -0.008190606005350728, -0.19983221455327246 -0.9999990215966388, 0.0013988587366954087L -0.9999990215966388, 0.0013988587366954087 L -0.9999815864323695, 0.006068508564847108 L -0.9999423457361227, 0.010738026063504139 ",
          "type": "path"
         },
         {
          "fillcolor": "#af4624",
          "layer": "below",
          "line": {
           "color": "rgb(175,175,175)",
           "width": 0.5
          },
          "path": "M -0.9927129665460284,-0.12050297113093904 Q -0.19551273270304517, -0.042128035213947625 -0.9542475814137691, -0.299017647248406L -0.9542475814137691, -0.299017647248406 L -0.9545861651692046, -0.2979349816110085 L -0.9549235205594955, -0.29685193258973197 M -0.9549235205594955,-0.29685193258973197 Q -0.19551313953841162, -0.04212614708033 -0.9924393918789531, -0.12273570567252884L -0.9924393918789531, -0.12273570567252884 L -0.9925768070108982, -0.12161941532522691 L -0.9927129665460284, -0.12050297113093904 ",
          "type": "path"
         },
         {
          "fillcolor": "#af4624",
          "layer": "below",
          "line": {
           "color": "rgb(175,175,175)",
           "width": 0.5
          },
          "path": "M -0.9924393918789531,-0.12273570567252884 Q -0.19042413037043146, -0.0611445056621192 -0.8783731670557993, -0.4779755008327988L -0.8783731670557993, -0.4779755008327988 L -0.8792797111451255, -0.4763057731841435 L -0.8801830811994655, -0.47463432616090356 M -0.8801830811994655,-0.47463432616090356 Q -0.19043714226755337, -0.06110396750594546 -0.9920196146484525, -0.1260836395125708L -0.9920196146484525, -0.1260836395125708 L -0.9922309153176915, -0.12440984964148237 L -0.9924393918789531, -0.12273570567252884 ",
          "type": "path"
         },
         {
          "fillcolor": "#af4624",
          "layer": "below",
          "line": {
           "color": "rgb(175,175,175)",
           "width": 0.5
          },
          "path": "M -0.9882895896663096,-0.15258993072020632 Q -0.16995546736735268, -0.10542836009321555 -0.575747057941973, -0.8176278647839507L -0.575747057941973, -0.8176278647839507 L -0.5792130803902973, -0.8151761818802012 L -0.5826686630669182, -0.8127098061914906 M -0.5826686630669182,-0.8127098061914906 Q -0.17001173282609727, -0.10533760345416887 -0.9871296766928961, -0.15992186026987823L -0.9871296766928961, -0.15992186026987823 L -0.9877164364196417, -0.1562569717692109 L -0.9882895896663096, -0.15258993072020632 ",
          "type": "path"
         },
         {
          "fillcolor": "#af4624",
          "layer": "below",
          "line": {
           "color": "rgb(175,175,175)",
           "width": 0.5
          },
          "path": "M -0.9932711216179245,-0.1158122573818085 Q -0.13846019691358977, -0.14432177199109616 -0.07455292265928949, -0.9972170584797264L -0.07455292265928949, -0.9972170584797264 L -0.07480791572222292, -0.997197962164633 L -0.07506290389375526, -0.9971788006466227 M -0.07506290389375526,-0.9971788006466227 Q -0.13844840423302052, -0.14433308479115295 -0.993192741884687, -0.11648252000870107L -0.993192741884687, -0.11648252000870107 L -0.9932319882904637, -0.11614739530687826 L -0.9932711216179245, -0.1158122573818085 ",
          "type": "path"
         },
         {
          "fillcolor": "#af4624",
          "layer": "below",
          "line": {
           "color": "rgb(175,175,175)",
           "width": 0.5
          },
          "path": "M -0.9892968012812792,-0.14591723330240775 Q -0.12940258048998834, -0.15249581031140524 0.017034875660973718, -0.999854895978019L 0.017034875660973718, -0.999854895978019 L 0.013131188980357636, -0.9999137822212284 L 0.009227302151043216, -0.9999574275412996 M 0.009227302151043216,-0.9999574275412996 Q -0.1294833826212257, -0.15242720762700235 -0.9882895896663096, -0.15258993072020632L -0.9882895896663096, -0.15258993072020632 L -0.9887988241487672, -0.14925443163275015 L -0.9892968012812792, -0.14591723330240775 ",
          "type": "path"
         },
         {
          "fillcolor": "#af4624",
          "layer": "below",
          "line": {
           "color": "rgb(175,175,175)",
           "width": 0.5
          },
          "path": "M -0.9725509363042152,-0.23269008636767124 Q -0.03691636051288866, -0.19656343079647964 0.8218557636160876, -0.5696956238299691L 0.8218557636160876, -0.5696956238299691 L 0.8121623635289941, -0.583431482924086 L 0.8022394172579441, -0.5970024433766031 M 0.8022394172579441,-0.5970024433766031 Q -0.03728057713606677, -0.19649467821903416 -0.9651552681833682, -0.2616778712422787L -0.9651552681833682, -0.2616778712422787 L -0.9689615093724845, -0.24721163677019078 L -0.9725509363042152, -0.23269008636767124 ",
          "type": "path"
         },
         {
          "fillcolor": "#af4624",
          "layer": "below",
          "line": {
           "color": "rgb(175,175,175)",
           "width": 0.5
          },
          "path": "M -0.993192741884687,-0.11648252000870107 Q -0.03026956927521678, -0.19769611320380798 0.9128396609477497, -0.4083182011627664L 0.9128396609477497, -0.4083182011627664 L 0.9125672662582125, -0.4089266249023322 L 0.9122944660435727, -0.40953486692377317 M 0.9122944660435727,-0.40953486692377317 Q -0.030267945632176264, -0.19769636179557687 -0.9930346255679785, -0.11782288582047488L -0.9930346255679785, -0.11782288582047488 L -0.9931139098560718, -0.11715272958999318 L -0.993192741884687, -0.11648252000870107 ",
          "type": "path"
         },
         {
          "fillcolor": "#af4624",
          "layer": "below",
          "line": {
           "color": "rgb(175,175,175)",
           "width": 0.5
          },
          "path": "M -0.9840121079196624,-0.17810157626338594 Q -0.0009688952390772151, -0.1999976530912693 0.9822403230147129, -0.18762715113744213L 0.9822403230147129, -0.18762715113744213 L 0.9810590244388421, -0.1937090358426973 L 0.9798400681204072, -0.19978348506769947 M 0.9798400681204072,-0.19978348506769947 Q -0.0009033359687135961, -0.19999795994991457 -0.9816047875396189, -0.19092417625670038L -0.9816047875396189, -0.19092417625670038 L -0.9828293593988698, -0.18451680222572447 L -0.9840121079196624, -0.17810157626338594 ",
          "type": "path"
         },
         {
          "fillcolor": "#af4624",
          "layer": "below",
          "line": {
           "color": "rgb(175,175,175)",
           "width": 0.5
          },
          "path": "M -0.9857266435882287,-0.1683537469742954 Q 0.011361044834536099, -0.19967705591846968 0.9984609524200881, -0.05545923270629137L 0.9984609524200881, -0.05545923270629137 L 0.9982149921030202, -0.05972293982019957 L 0.997950824649121, -0.06398555760591106 M 0.997950824649121,-0.06398555760591106 Q 0.011496414022771339, -0.19966930776816208 -0.9840121079196624, -0.17810157626338594L -0.9840121079196624, -0.17810157626338594 L -0.9848814356773757, -0.1732297828263696 L -0.9857266435882287, -0.1683537469742954 ",
          "type": "path"
         },
         {
          "fillcolor": "#9f4021",
          "layer": "below",
          "line": {
           "color": "rgb(175,175,175)",
           "width": 0.5
          },
          "path": "M -0.9295432435514207,-0.3687131111960953 Q -0.17609135872586557, -0.09482527818086556 -0.8194653007877684, -0.5731287994899683L -0.8194653007877684, -0.5731287994899683 L -0.8260881999672502, -0.5635408466782762 L -0.8325989232813367, -0.5538763697349426 M -0.8325989232813367,-0.5538763697349426 Q -0.1762066111120038, -0.09461094122998176 -0.9216453706674187, -0.3880332598210061L -0.9216453706674187, -0.3880332598210061 L -0.9256447149900922, -0.3783937917182457 L -0.9295432435514207, -0.3687131111960953 ",
          "type": "path"
         },
         {
          "fillcolor": "#9f4021",
          "layer": "below",
          "line": {
           "color": "rgb(175,175,175)",
           "width": 0.5
          },
          "path": "M -0.9349598437159514,-0.3547535632501014 Q -0.15345127157020333, -0.1282681069225227 -0.514957831986491, -0.8572155104031732L -0.514957831986491, -0.8572155104031732 L -0.5222177613970896, -0.8528121772591034 L -0.5294400410388753, -0.8483473598383825 M -0.5294400410388753,-0.8483473598383825 Q -0.15357998688580948, -0.12811396343941042 -0.9295432435514207, -0.3687131111960953L -0.9295432435514207, -0.3687131111960953 L -0.9322776720763534, -0.3617434756120632 L -0.9349598437159514, -0.3547535632501014 ",
          "type": "path"
         },
         {
          "fillcolor": "#9f4021",
          "layer": "below",
          "line": {
           "color": "rgb(175,175,175)",
           "width": 0.5
          },
          "path": "M -0.9526742871817272,-0.30399293173162417 Q -0.1233896715804766, -0.15740072727678905 -0.06775136204297844, -0.9977022366123679L -0.06775136204297844, -0.9977022366123679 L -0.06877180469136684, -0.9976324167144393 L -0.069792175392205, -0.9975615531154074 M -0.069792175392205,-0.9975615531154074 Q -0.12333639694449675, -0.15744247580862525 -0.9518431376987239, -0.3065854549972131L -0.9518431376987239, -0.3065854549972131 L -0.9522595947075234, -0.3052894762147285 L -0.9526742871817272, -0.30399293173162417 ",
          "type": "path"
         },
         {
          "fillcolor": "#9f4021",
          "layer": "below",
          "line": {
           "color": "rgb(175,175,175)",
           "width": 0.5
          },
          "path": "M -0.911302262740548,-0.41173800641179237 Q -0.09511137268430384, -0.17593699663830648 0.15461921103082799, -0.9879741391252123L 0.15461921103082799, -0.9879741391252123 L 0.13865674966985805, -0.9903404999145446 L 0.1226581821140028, -0.9924489762000303 M 0.1226581821140028,-0.9924489762000303 Q -0.09547550739635981, -0.1757396582658782 -0.8993599881957166, -0.4372088878700896L -0.8993599881957166, -0.4372088878700896 L -0.9054206967989857, -0.42451544354480114 L -0.911302262740548, -0.41173800641179237 ",
          "type": "path"
         },
         {
          "fillcolor": "#9f4021",
          "layer": "below",
          "line": {
           "color": "rgb(175,175,175)",
           "width": 0.5
          },
          "path": "M -0.9505127249320173,-0.3106856284772619 Q -0.05217569270045572, -0.19307433048240155 0.6646445058750529, -0.7471597424982872L 0.6646445058750529, -0.7471597424982872 L 0.662280057501345, -0.7492563816451717 L 0.6599089952600119, -0.7513455383343416 M 0.6599089952600119,-0.7513455383343416 Q -0.052238286782744586, -0.19305740440087693 -0.9487352771495529, -0.31607178597901L -0.9487352771495529, -0.31607178597901 L -0.9496278197409065, -0.3133799674103826 L -0.9505127249320173, -0.3106856284772619 ",
          "type": "path"
         },
         {
          "fillcolor": "#9f4021",
          "layer": "below",
          "line": {
           "color": "rgb(175,175,175)",
           "width": 0.5
          },
          "path": "M -0.9564595217511549,-0.29186500861109066 Q -0.012790270018588968, -0.1995906034683286 0.9113822047602002, -0.4115610244501254L 0.9113822047602002, -0.4115610244501254 L 0.9112449773339231, -0.41186477305506225 L 0.9111076486732663, -0.41216847590405536 M 0.9111076486732663,-0.41216847590405536 Q -0.012788872163811077, -0.19959069304147853 -0.9562606498107292, -0.29251593054663166L -0.9562606498107292, -0.29251593054663166 L -0.9563601411601031, -0.29219048649849566 L -0.9564595217511549, -0.29186500861109066 ",
          "type": "path"
         },
         {
          "fillcolor": "#9f4021",
          "layer": "below",
          "line": {
           "color": "rgb(175,175,175)",
           "width": 0.5
          },
          "path": "M -0.9559282122063043,-0.2936004991618011 Q 0.004813968384740633, -0.1999420558771734 0.9689503045926172, -0.24725555045311787L 0.9689503045926172, -0.24725555045311787 L 0.9687651509952874, -0.24798000366375936 L 0.9685794557474993, -0.24870431822523334 M 0.9685794557474993,-0.24870431822523334 Q 0.004823230134597498, -0.19994183266907584 -0.9554607331015127, -0.29511826019600995L -0.9554607331015127, -0.29511826019600995 L -0.9556947739528932, -0.29435947248072114 L -0.9559282122063043, -0.2936004991618011 ",
          "type": "path"
         },
         {
          "fillcolor": "#9f4021",
          "layer": "below",
          "line": {
           "color": "rgb(175,175,175)",
           "width": 0.5
          },
          "path": "M -0.9518431376987239,-0.3065854549972131 Q 0.021474035114276698, -0.19884382267475853 0.9953524435231992, -0.09629908188761022L 0.9953524435231992, -0.09629908188761022 L 0.995173155381954, -0.09813455460297969 L 0.9949904825529845, -0.09996969355249094 M 0.9949904825529845,-0.09996969355249094 Q 0.02153589472350982, -0.1988371324437614 -0.9505127249320173, -0.3106856284772619L -0.9505127249320173, -0.3106856284772619 L -0.9511801406027302, -0.3086362586005904 L -0.9518431376987239, -0.3065854549972131 ",
          "type": "path"
         },
         {
          "fillcolor": "#8f391e",
          "layer": "below",
          "line": {
           "color": "rgb(175,175,175)",
           "width": 0.5
          },
          "path": "M -0.7484490761397691,-0.6631922650525458 Q -0.10887165012294103, -0.167770568931228 -0.3007961693096539, -0.9536884525507467L -0.3007961693096539, -0.9536884525507467 L -0.3396709280194058, -0.9405443427390522 L -0.377973675965397, -0.9258163426280641 M -0.377973675965397,-0.9258163426280641 Q -0.10897799503958577, -0.16770151042000792 -0.6924714661970195, -0.7214452636915362L -0.6924714661970195, -0.7214452636915362 L -0.721048788428803, -0.6928842938798333 L -0.7484490761397691, -0.6631922650525458 ",
          "type": "path"
         },
         {
          "fillcolor": "#8f391e",
          "layer": "below",
          "line": {
           "color": "rgb(175,175,175)",
           "width": 0.5
          },
          "path": "M -0.8690085623690795,-0.49479704781781547 Q -0.10445282367791386, -0.17055675778376722 -0.045796466168075624, -0.9989507914239402L -0.045796466168075624, -0.9989507914239402 L -0.04843583781249529, -0.9988262960171812 L -0.051074871288464836, -0.9986948270231837 M -0.051074871288464836,-0.9986948270231837 Q -0.10423369864733674, -0.17069076151419618 -0.8650960999685839, -0.5016061580753827L -0.8650960999685839, -0.5016061580753827 L -0.8670590152815035, -0.4982054435863476 L -0.8690085623690795, -0.49479704781781547 ",
          "type": "path"
         },
         {
          "fillcolor": "#8f391e",
          "layer": "below",
          "line": {
           "color": "rgb(175,175,175)",
           "width": 0.5
          },
          "path": "M -0.7974064955032263,-0.6034425249593064 Q -0.047882572327161865, -0.1941835710541294 0.4254534799111666, -0.9049802961564846L 0.4254534799111666, -0.9049802961564846 L 0.38920731577267953, -0.9211501860983505 L 0.35234805290518895, -0.9358690344347985 M 0.35234805290518895,-0.9358690344347985 Q -0.04808831886937032, -0.19413272158066958 -0.7484490761397691, -0.6631922650525458L -0.7484490761397691, -0.6631922650525458 L -0.7735049256179468, -0.6337902886955389 L -0.7974064955032263, -0.6034425249593064 ",
          "type": "path"
         },
         {
          "fillcolor": "#8f391e",
          "layer": "below",
          "line": {
           "color": "rgb(175,175,175)",
           "width": 0.5
          },
          "path": "M -0.8650960999685839,-0.5016061580753827 Q -0.02974965529331516, -0.19777501867002548 0.6792478047802954, -0.7339089996049576L 0.6792478047802954, -0.7339089996049576 L 0.6751554234986645, -0.7376755073339083 L 0.6710421568477452, -0.7414191956869786 M 0.6710421568477452,-0.7414191956869786 Q -0.02974741385156314, -0.19777535581852415 -0.8594513834035759, -0.5112174875389922L -0.8594513834035759, -0.5112174875389922 L -0.8622871331608903, -0.5064196875963385 L -0.8650960999685839, -0.5016061580753827 ",
          "type": "path"
         },
         {
          "fillcolor": "#8f391e",
          "layer": "below",
          "line": {
           "color": "rgb(175,175,175)",
           "width": 0.5
          },
          "path": "M -0.8763066000536085,-0.4817538196034204 Q 0.009844749255545985, -0.1997575553316956 0.9194300211338134, -0.3932536538137636L 0.9194300211338134, -0.3932536538137636 L 0.9181581945398068, -0.39621399495651605 L 0.9168768363963206, -0.3991702229373765 M 0.9168768363963206,-0.3991702229373765 Q 0.009934890044495673, -0.19975309249121473 -0.8727437911459812, -0.4881785278114349L -0.8727437911459812, -0.4881785278114349 L -0.8745310954778847, -0.48496944547285753 L -0.8763066000536085, -0.4817538196034204 ",
          "type": "path"
         },
         {
          "fillcolor": "#8f391e",
          "layer": "below",
          "line": {
           "color": "rgb(175,175,175)",
           "width": 0.5
          },
          "path": "M -0.8851831452883618,-0.46524273159008384 Q 0.022928394619461754, -0.19868137486985094 0.9678849900712492, -0.25139340881331357L 0.9678849900712492, -0.25139340881331357 L 0.9678312603328064, -0.2516001818811175 L 0.9677774864206223, -0.2518069434653902 M 0.9677774864206223,-0.2518069434653902 Q 0.02293627965794895, -0.19868046475547707 -0.8849473147848935, -0.4656911530778811L -0.8849473147848935, -0.4656911530778811 L -0.8850652584359227, -0.46546695726952886 L -0.8851831452883618, -0.46524273159008384 ",
          "type": "path"
         },
         {
          "fillcolor": "#8f391e",
          "layer": "below",
          "line": {
           "color": "rgb(175,175,175)",
           "width": 0.5
          },
          "path": "M -0.8849473147848935,-0.4656911530778811 Q 0.03742933720236475, -0.19646639589657994 0.994184219687522, -0.10769279142223426L 0.994184219687522, -0.10769279142223426 L 0.9941528183853153, -0.10798228417909268 L 0.9941213327868051, -0.10827176777990755 M 0.9941213327868051,-0.10827176777990755 Q 0.03744678314609333, -0.19646307142058395 -0.884593143115976, -0.46636356113251215L -0.884593143115976, -0.46636356113251215 L -0.8847702928275523, -0.46602739075063754 L -0.8849473147848935, -0.4656911530778811 ",
          "type": "path"
         },
         {
          "fillcolor": "#f0f3e7",
          "layer": "below",
          "line": {
           "color": "rgb(175,175,175)",
           "width": 0.5
          },
          "path": "M -0.5517344592235691,-0.8340198357984514 Q -0.0606894871617043, -0.19056963595507373 -0.03216922543143476, -0.9994824365315989L -0.03216922543143476, -0.9994824365315989 L -0.035917420463447106, -0.9993547612871276 L -0.039665110307351904, -0.9992130298511452 M -0.039665110307351904,-0.9992130298511452 Q -0.06032533778393611, -0.19068522129744092 -0.542257134279616, -0.8402125923377122L -0.542257134279616, -0.8402125923377122 L -0.5470045605132543, -0.8371296260303427 L -0.5517344592235691, -0.8340198357984514 ",
          "type": "path"
         },
         {
          "fillcolor": "#f0f3e7",
          "layer": "below",
          "line": {
           "color": "rgb(175,175,175)",
           "width": 0.5
          },
          "path": "M -0.3007961693096539,-0.9536884525507467 Q 0.023050494599720237, -0.19866724616480763 0.5111701480521456, -0.8594795400359148L 0.5111701480521456, -0.8594795400359148 L 0.46886408992017586, -0.8832703239571253 L 0.4254534799111666, -0.9049802961564846 M 0.4254534799111666,-0.9049802961564846 Q 0.02294030658658265, -0.198679999833183 -0.20802351250490156, -0.9781238256198052L -0.20802351250490156, -0.9781238256198052 L -0.2547030408431014, -0.9670193177932266 L -0.3007961693096539, -0.9536884525507467 ",
          "type": "path"
         },
         {
          "fillcolor": "#f0f3e7",
          "layer": "below",
          "line": {
           "color": "rgb(175,175,175)",
           "width": 0.5
          },
          "path": "M -0.4735857832615627,-0.8807476970691052 Q 0.0403541110464477, -0.19588656340252378 0.7831331021672983, -0.621854118173888L 0.7831331021672983, -0.621854118173888 L 0.7740109902773672, -0.6331721621564307 L 0.764725321316298, -0.6443564098677725 M 0.764725321316298,-0.6443564098677725 Q 0.040404683622595534, -0.19587613826435818 -0.44732121813509274, -0.8943733715882516L -0.44732121813509274, -0.8943733715882516 L -0.46050389906804295, -0.8876576811717057 L -0.4735857832615627, -0.8807476970691052 ",
          "type": "path"
         },
         {
          "fillcolor": "#f0f3e7",
          "layer": "below",
          "line": {
           "color": "rgb(175,175,175)",
           "width": 0.5
          },
          "path": "M -0.542257134279616,-0.8402125923377122 Q 0.062317518422596724, -0.19004348685932207 0.9344985881898441, -0.35596683647664173L 0.9344985881898441, -0.35596683647664173 L 0.9321451409774056, -0.36208484662052964 L 0.9297516406423461, -0.36818729842685466 M 0.9297516406423461,-0.36818729842685466 Q 0.06251424328517546, -0.1899788656311062 -0.5294400410388753, -0.8483473598383825L -0.5294400410388753, -0.8483473598383825 L -0.5358640242701321, -0.8443042979240478 L -0.542257134279616, -0.8402125923377122 ",
          "type": "path"
         },
         {
          "fillcolor": "#f0f3e7",
          "layer": "below",
          "line": {
           "color": "rgb(175,175,175)",
           "width": 0.5
          },
          "path": "M -0.595765568663048,-0.80315838238519 Q 0.06723658352794652, -0.1883593423100895 0.9696855004114606, -0.24435635922106735L 0.9696855004114606, -0.24435635922106735 L 0.969318986422118, -0.24580622970461474 L 0.9689503045926172, -0.24725555045311787 M 0.9689503045926172,-0.24725555045311787 Q 0.06729414924143116, -0.18833878378568764 -0.5928685530405055, -0.8052992479914888L -0.5928685530405055, -0.8052992479914888 L -0.5943180248367712, -0.80423011965116 L -0.595765568663048, -0.80315838238519 ",
          "type": "path"
         },
         {
          "fillcolor": "#f0f3e7",
          "layer": "below",
          "line": {
           "color": "rgb(175,175,175)",
           "width": 0.5
          },
          "path": "M -0.5893404095106926,-0.8078848195861642 Q 0.08337634723968111, -0.1817921470277749 0.9967592024293539, -0.0804431002162291L 0.9967592024293539, -0.0804431002162291 L 0.9965045356140201, -0.08353867667545484 L 0.9962402550721983, -0.08663344719957439 M 0.9962402550721983,-0.08663344719957439 Q 0.08356005868839123, -0.18170777801732269 -0.5826686630669182, -0.8127098061914906L -0.5826686630669182, -0.8127098061914906 L -0.5860095022053766, -0.8103041795060709 L -0.5893404095106926, -0.8078848195861642 ",
          "type": "path"
         },
         {
          "fillcolor": "#e2ecde",
          "layer": "below",
          "line": {
           "color": "rgb(175,175,175)",
           "width": 0.5
          },
          "path": "M -0.03216922543143476,-0.9994824365315989 Q 0.003873554033872219, -0.1999624854295092 0.07085332166439064, -0.9974867451796652L 0.07085332166439064, -0.9974867451796652 L 0.0638418516723683, -0.9979600282451414 L 0.056827228869123225, -0.9983840273457184 M 0.056827228869123225,-0.9983840273457184 Q 0.003388691739982042, -0.1999712898600481 -0.022967300419158034, -0.9997362167649305L -0.022967300419158034, -0.9997362167649305 L -0.02756855494616928, -0.999619915156846 L -0.03216922543143476, -0.9994824365315989 ",
          "type": "path"
         },
         {
          "fillcolor": "#e2ecde",
          "layer": "below",
          "line": {
           "color": "rgb(175,175,175)",
           "width": 0.5
          },
          "path": "M -0.06775136204297844,-0.9977022366123679 Q 0.06358494316709967, -0.18962319215337745 0.6555290392593232, -0.7551699667543385L 0.6555290392593232, -0.7551699667543385 L 0.654095993532915, -0.7564115488569624 L 0.6526605962358005, -0.7576504115495017 M 0.6526605962358005,-0.7576504115495017 Q 0.06346782891618429, -0.18966242298532932 -0.06519994765755, -0.9978722196881987L -0.06519994765755, -0.9978722196881987 L -0.06647570918262574, -0.9977880436689281 L -0.06775136204297844, -0.9977022366123679 ",
          "type": "path"
         },
         {
          "fillcolor": "#e2ecde",
          "layer": "below",
          "line": {
           "color": "rgb(175,175,175)",
           "width": 0.5
          },
          "path": "M -0.07268282565667675,-0.9973551056943365 Q 0.10296957185925631, -0.17145631301040348 0.9145554023280346, -0.4044606483610079L 0.9145554023280346, -0.4044606483610079 L 0.9142405686707458, -0.40517179393016917 L 0.9139251820366464, -0.4058826944318797 M 0.9139251820366464,-0.4058826944318797 Q 0.10293852458084707, -0.1714749548975545 -0.07149263044417091, -0.9974411279830872L -0.07149263044417091, -0.9974411279830872 L -0.0720877408817232, -0.9973982943711953 L -0.07268282565667675, -0.9973551056943365 ",
          "type": "path"
         },
         {
          "fillcolor": "#e2ecde",
          "layer": "below",
          "line": {
           "color": "rgb(175,175,175)",
           "width": 0.5
          },
          "path": "M -0.07353290182702046,-0.9972927916860213 Q 0.116683033740269, -0.16243481657935052 0.9685794557474993, -0.24870431822523334L 0.9685794557474993, -0.24870431822523334 L 0.9684464847195645, -0.2492216006575638 L 0.9683132374302525, -0.2497388119963401 M 0.9683132374302525,-0.2497388119963401 Q 0.11666550291737623, -0.1624474081942697 -0.07268282565667675, -0.9973551056943365L -0.07268282565667675, -0.9973551056943365 L -0.0731078703810719, -0.9973240392612345 L -0.07353290182702046, -0.9972927916860213 ",
          "type": "path"
         },
         {
          "fillcolor": "#e2ecde",
          "layer": "below",
          "line": {
           "color": "rgb(175,175,175)",
           "width": 0.5
          },
          "path": "M -0.07540288048480362,-0.9971531505313487 Q 0.12780415986132962, -0.15383789104814102 0.9940792208658242, -0.10865773162916607L 0.9940792208658242, -0.10865773162916607 L 0.9940581087115612, -0.10885070741522021 L 0.9940369590958437, -0.10904367909919441 M 0.9940369590958437,-0.10904367909919441 Q 0.12780052066641334, -0.1538409143153851 -0.07506290389375526, -0.9971788006466227L -0.07506290389375526, -0.9971788006466227 L -0.07523289328243186, -0.9971659900780583 L -0.07540288048480362, -0.9971531505313487 ",
          "type": "path"
         },
         {
          "fillcolor": "#d4e5d6",
          "layer": "below",
          "line": {
           "color": "rgb(175,175,175)",
           "width": 0.5
          },
          "path": "M 0.22157976860923534,-0.9751422491837166 Q 0.11481787294535101, -0.1637585297085475 0.8412271573275014, -0.5406818563394663L 0.8412271573275014, -0.5406818563394663 L 0.8316679927468429, -0.5552732208925956 L 0.8218557636160876, -0.5696956238299691 M 0.8218557636160876,-0.5696956238299691 Q 0.114902194902475, -0.16369937570618176 0.25645450770706185, -0.966556302279763L 0.25645450770706185, -0.966556302279763 L 0.23905568797744736, -0.9710058589141619 L 0.22157976860923534, -0.9751422491837166 ",
          "type": "path"
         },
         {
          "fillcolor": "#d4e5d6",
          "layer": "below",
          "line": {
           "color": "rgb(175,175,175)",
           "width": 0.5
          },
          "path": "M 0.08668063260793589,-0.9962361506845092 Q 0.12164431602913746, -0.15875345784518627 0.9393900247181945, -0.3428503776575866L 0.9393900247181945, -0.3428503776575866 L 0.9369672586433269, -0.3494171664792802 L 0.9344985881898441, -0.35596683647664173 M 0.9344985881898441,-0.35596683647664173 Q 0.12183460575059245, -0.15860746779895868 0.10300389035900408, -0.9946809531557896L 0.10300389035900408, -0.9946809531557896 L 0.0948454491429991, -0.9954920093988011 L 0.08668063260793589, -0.9962361506845092 ",
          "type": "path"
         },
         {
          "fillcolor": "#d4e5d6",
          "layer": "below",
          "line": {
           "color": "rgb(175,175,175)",
           "width": 0.5
          },
          "path": "M 0.008446506003642539,-0.9999643276319063 Q 0.12307822963389392, -0.15764437633542935 0.9680459142196173, -0.25077302080308655L 0.9680459142196173, -0.25077302080308655 L 0.9679655018477848, -0.2510832277006294 L 0.9678849900712492, -0.25139340881331357 M 0.9678849900712492,-0.25139340881331357 Q 0.12308925711637445, -0.15763576619073183 0.009227302151043216, -0.9999574275412996L 0.009227302151043216, -0.9999574275412996 L 0.008836904750814719, -0.9999609537949095 L 0.008446506003642539, -0.9999643276319063 ",
          "type": "path"
         },
         {
          "fillcolor": "#d4e5d6",
          "layer": "below",
          "line": {
           "color": "rgb(175,175,175)",
           "width": 0.5
          },
          "path": "M 0.045650140145250755,-0.998957488937702 Q 0.14011693281320578, -0.14271385755777038 0.997950824649121, -0.06398555760591106L 0.997950824649121, -0.06398555760591106 L 0.9976750744779912, -0.0681501706918979 L 0.9973819447668448, -0.07231359659916307 M 0.9973819447668448,-0.07231359659916307 Q 0.14031975714350925, -0.14251444051458992 0.056827228869123225, -0.9983840273457184L 0.056827228869123225, -0.9983840273457184 L 0.051239486771204684, -0.9986863947182937 L 0.045650140145250755, -0.998957488937702 ",
          "type": "path"
         },
         {
          "fillcolor": "#c6decd",
          "layer": "below",
          "line": {
           "color": "rgb(175,175,175)",
           "width": 0.5
          },
          "path": "M 0.6968579290499315,-0.7172091931370098 Q 0.16636330650722117, -0.11101013578941513 0.9297516406423461, -0.36818729842685466L 0.9297516406423461, -0.36818729842685466 L 0.9273597672059585, -0.3741708996804944 L 0.9249293855795062, -0.3801389636587087 M 0.9249293855795062,-0.3801389636587087 Q 0.1664617705270635, -0.1108624325594349 0.7072991318698147, -0.7069143781648569L 0.7072991318698147, -0.7069143781648569 L 0.7020973997505778, -0.7120809232548484 L 0.6968579290499315, -0.7172091931370098 ",
          "type": "path"
         },
         {
          "fillcolor": "#c6decd",
          "layer": "below",
          "line": {
           "color": "rgb(175,175,175)",
           "width": 0.5
          },
          "path": "M 0.7332479169209781,-0.6799613903237789 Q 0.18059151385335678, -0.08594594303486844 0.9901213171291205, -0.14021332806297504L 0.9901213171291205, -0.14021332806297504 L 0.9888551886108725, -0.14888054257476258 L 0.9875131914748473, -0.15753633442213139 M 0.9875131914748473,-0.15753633442213139 Q 0.18072931381729768, -0.08565579447491417 0.7471853311703558, -0.6646157392688242L 0.7471853311703558, -0.6646157392688242 L 0.740256389884707, -0.6723246814113406 L 0.7332479169209781, -0.6799613903237789 ",
          "type": "path"
         },
         {
          "fillcolor": "#c6decd",
          "layer": "below",
          "line": {
           "color": "rgb(175,175,175)",
           "width": 0.5
          },
          "path": "M 0.7196978599596091,-0.6942873975304168 Q 0.18425713762760976, -0.07777729252988996 0.9995065603657315, -0.031410759078131026L 0.9995065603657315, -0.031410759078131026 L 0.9992401075378838, -0.03897701229799933 L 0.9989163790815561, -0.046541031387293014 M 0.9989163790815561,-0.046541031387293014 Q 0.18443466321332283, -0.07735538123096664 0.7332479169209781, -0.6799613903237789L 0.7332479169209781, -0.6799613903237789 L 0.726508201095765, -0.6871577939167943 L 0.7196978599596091, -0.6942873975304168 ",
          "type": "path"
         },
         {
          "fillcolor": "#b8d7c5",
          "layer": "below",
          "line": {
           "color": "rgb(175,175,175)",
           "width": 0.5
          },
          "path": "M 0.9113822047602002,-0.4115610244501254 Q 0.1929897232734078, -0.052487776775678854 0.9942882818541108, -0.1067277497542247L 0.9942882818541108, -0.1067277497542247 L 0.9942363678588533, -0.10721028321404161 L 0.994184219687522, -0.10769279142223426 M 0.994184219687522,-0.10769279142223426 Q 0.19299340723961356, -0.05247422950405926 0.911838898181616, -0.4105481990740387L 0.911838898181616, -0.4105481990740387 L 0.9116106921306394, -0.41105467518700795 L 0.9113822047602002, -0.4115610244501254 ",
          "type": "path"
         },
         {
          "fillcolor": "#aad0bc",
          "layer": "below",
          "line": {
           "color": "rgb(175,175,175)",
           "width": 0.5
          },
          "path": "M 0.9705151018229904,-0.24104032262986744 Q 0.19719390101725884, -0.03338510748216236 0.9957724889328274, -0.09185396172469636L 0.9957724889328274, -0.09185396172469636 L 0.9955649471206386, -0.0940767562402115 L 0.9953524435231992, -0.09629908188761022 M 0.9953524435231992,-0.09629908188761022 Q 0.19720138751317784, -0.033340857260686536 0.9716877845615263, -0.23626859574203427L 0.9716877845615263, -0.23626859574203427 L 0.9711043740579383, -0.2386551794651438 L 0.9705151018229904, -0.24104032262986744 ",
          "type": "path"
         },
         {
          "fillcolor": "#f2e6ce",
          "layer": "below",
          "line": {
           "color": "rgb(150,150,150)",
           "width": 0.45
          },
          "path": "M 1.1, 0.0 L 1.0997239463976418, 0.02464227504912715 L 1.0988959241461878, 0.049272181754985905 L 1.0975163488429565, 0.07387735798217282 L 1.0955859129183705, 0.09844545400789846 L 1.093105585288413, 0.12296413872050654 L 1.0900766108683162, 0.14742110580865153 L 1.0865005099477163, 0.17180407993802904 L 1.0823790774275979, 0.19610082291255795 L 1.0777143819194046, 0.22029913981692245 L 1.072508764706771, 0.24438688513739074 L 1.0667648385703954, 0.26835196885783846 L 1.0604854864766444, 0.2921823625279169 L 0.9640777149787676, 0.26562032957083354 L 0.9697862168821776, 0.2439563353253077 L 0.9750079679152464, 0.2221698955794461 L 0.9797403471994587, 0.2002719452881113 L 0.9839809794796343, 0.17827347537505267 L 0.9877277363161057, 0.15618552721639004 L 0.9909787371530147, 0.1340191870987741 L 0.9937323502621936, 0.11178558065500593 L 0.9959871935621548, 0.08949586727990769 L 0.9977421353117785, 0.067161234529248 L 0.9989962946783524, 0.04479289250453264 L 0.9997490421796743, 0.022402068226479225 L 1.0, 0.0 L 1.1 ,0.0",
          "type": "path"
         },
         {
          "fillcolor": "#ecd5bb",
          "layer": "below",
          "line": {
           "color": "rgb(150,150,150)",
           "width": 0.45
          },
          "path": "M 1.0507845311098076, 0.325348842291381 L 1.043893460549169, 0.34682335997259617 L 1.0365635736164018, 0.36815208521967485 L 1.028797951540112, 0.3893260521810348 L 1.0205998587167495, 0.4103363600600749 L 1.0119727413383703, 0.4311741768567596 L 1.0029202259439778, 0.45183074308028304 L 0.993446117895052, 0.4722973754312537 L 0.9835543997759085, 0.4925654704518503 L 0.9732492297195591, 0.5126265081424147 L 0.962534939659778, 0.5324720555429627 L 0.9514160335101074, 0.5520937702781061 L 0.9398971852705709, 0.5714834040638961 L 0.9279832370628851, 0.5906328061751136 L 0.9156791970950022, 0.6095339268715502 L 0.9029902375558334, 0.6281788207818374 L 0.8899216924410417, 0.6465596502434033 L 0.8764790553108159, 0.6646686885971537 L 0.8626679769805697, 0.6824983234354874 L 0.8484942631455369, 0.7000410598022895 L 0.8339638719402582, 0.7172895233435469 L 0.8190829114339914, 0.7342364634072708 L 0.8038576370630904, 0.750874756091417 L 0.7882944490014399, 0.7671974072385259 L 0.7723998894700437, 0.7831975553758225 L 0.7561806399869057, 0.7988684745995388 L 0.7396435185583505, 0.8142035774022509 L 0.7227954768129737, 0.8291964174420354 L 0.7056435970794185, 0.8438406922522873 L 0.6881950894092124, 0.8581302458910574 L 0.6704572885459134, 0.872059071528794 L 0.6524376508418395, 0.885621313973406 L 0.6341437511236785, 0.8988112721315806 L 0.6155832795082958, 0.9116234014053235 L 0.5967640381700771, 0.9240523160227146 L 0.5776939380611666, 0.9360927913018993 L 0.5583809955859793, 0.947739765847361 L 0.5388333292313845, 0.9589883436775561 L 0.5190591561539762, 0.9698337962830138 L 0.49906678872586885, 0.9802715646140355 L 0.47886463104046545, 0.9902972609971609 L 0.4584611753796698, 0.999906670979593 L 0.43786499864402767, 1.009095755100806 L 0.41708475874729867, 1.0178606505905943 L 0.39612919097696925, 1.026197672992846 L 0.3750071043222438, 1.0341033177143597 L 0.35372737777105373, 1.041574261498053 L 0.33229895657764025, 1.0486073638199438 L 0.3020899605251275, 0.9532794216544942 L 0.32157034342823065, 0.9468856922709572 L 0.340915549383858, 0.9400939251948723 L 0.36011744634269927, 0.9329069754480417 L 0.3791679624975442, 0.9253278641732674 L 0.39805908967638876, 0.917359777364369 L 0.4167828867087907, 0.9090060645269026 L 0.4353314827640595, 0.9002702372701462 L 0.45369708065988074, 0.8911559678309413 L 0.47187196013997834, 0.8816670875300124 L 0.4898484811194404, 0.8718075851614147 L 0.5076190868963448, 0.8615816053157827 L 0.5251763073283333, 0.8509934466380902 L 0.5425127619727973, 0.8400475600206496 L 0.5596211631893598, 0.8287485467321122 L 0.576494319203344, 0.8171011564832551 L 0.5931251371289449, 0.8051102854303691 L 0.6095066259508303, 0.7927809741170854 L 0.6256318994629203, 0.7801184053555066 L 0.6414941791631077, 0.7671279020475339 L 0.6570867971027033, 0.7538149249473048 L 0.6724031986894096, 0.7401850703656826 L 0.6874369454426414, 0.7262440678177625 L 0.7021817177000397, 0.711997777614384 L 0.7166313172740362, 0.6974521883986599 L 0.7307796700573549, 0.6826134146285608 L 0.7446208285763557, 0.6674876940066098 L 0.7581489744911438, 0.6520813848577699 L 0.7713584210413971, 0.6364009634566268 L 0.7842436154368815, 0.6204530213049886 L 0.7967991411916507, 0.6042442623610488 L 0.8090197204009469, 0.5877815002212757 L 0.8209002159598485, 0.5710716552562157 L 0.8324356337227292, 0.5541217517014092 L 0.8436211246026227, 0.5369389147046487 L 0.8544519866096099, 0.5195303673308146 L 0.8649236668273703, 0.501903427525551 L 0.8750317633270708, 0.484065505039057 L 0.8847720270177809, 0.46602409831128605 L 0.894140363432644, 0.4477867913198639 L 0.9031328344500472, 0.4293612503920488 L 0.9117456599490706, 0.41075522098207545 L 0.9199752193985183, 0.39197652441523595 L 0.927818053378863, 0.3730330546000681 L 0.9352708650364653, 0.3539327747100316 L 0.9423305214694561, 0.33468371383606804 L 0.9489940550446989, 0.315293963611451 L 0.9552586646452796, 0.29577167481034633 L 1.0507845311098076 ,0.325348842291381",
          "type": "path"
         },
         {
          "fillcolor": "#e6c4a9",
          "layer": "below",
          "line": {
           "color": "rgb(150,150,150)",
           "width": 0.45
          },
          "path": "M 0.2991974338295393, 1.058527701852823 L 0.27650560093520127, 1.0646805401863337 L 0.25368744915365415, 1.070346989598192 L 0.2307534027350084, 1.0755244614262454 L 0.20771393887471015, 1.0802105903929813 L 0.18457958292713467, 1.0844032356860824 L 0.1613609035971829, 1.0881004819364344 L 0.1380685081120697, 1.0913006400931449 L 0.11471303737551738, 1.0940022481951686 L 0.09130516110656094, 1.0962040720391917 L 0.0678555729651926, 1.0979051057434634 L 0.0443749856670658, 1.0991045722073254 L 0.02087412608949717, 1.0998019234662213 L -0.0026362696290035334, 1.0999968409420289 L -0.02614546099343428, 1.0996892355886008 L -0.04964270805898948, 1.0988792479324423 L -0.07311727633750098, 1.0975672480085152 L -0.09655844170138232, 1.0957538351911897 L -0.11995549528284385, 1.0934398379204262 L -0.14329774836613252, 1.090626313323311 L -0.1665745372705694, 1.0873145467311178 L -0.1897752282221465, 1.0835060510921166 L -0.21288922221146356, 1.0792025662803986 L -0.2359059598357824, 1.074406058301031 L -0.25881492612298673, 1.0691187183919066 L -0.23528629647544244, 0.971926107629006 L -0.21445996348707488, 0.9767327802736645 L -0.19353565655587596, 0.9810932420730896 L -0.1725229347474059, 0.9850055009928332 L -0.15143139751869944, 0.9884677697555615 L -0.13027068033284772, 0.9914784666575553 L -0.10905045025713077, 0.9940362162912965 L -0.0877804015467112, 0.9961398501738088 L -0.06647025121590998, 0.9977884072804684 L -0.045129734599081345, 0.9989811344840385 L -0.02376860090312207, 0.9997174868987279 L -0.002396608753639576, 0.9999971281291171 L 0.018976478263179244, 0.9998199304238374 L 0.040340896060968905, 0.9991859747339321 L 0.06168688451381144, 0.9980955506758757 L 0.08300469191505538, 0.996549156399265 L 0.10428457943228853, 0.9945474983592442 L 0.125516825556427, 0.9920914909937679 L 0.14669173054289353, 0.9891822563058494 L 0.1677996208428497, 0.9858211233509839 L 0.18883085352246376, 0.982009627629983 L 0.20977582066818945, 0.9777495103874957 L 0.2306249537760492, 0.9730427178165382 L 0.2513687281229102, 0.9678914001693942 L 0.27199766711776296, 0.9622979107752935 L 0.2991974338295393 ,1.058527701852823",
          "type": "path"
         },
         {
          "fillcolor": "#e1b396",
          "layer": "below",
          "line": {
           "color": "rgb(150,150,150)",
           "width": 0.45
          },
          "path": "M -0.29226904706982293, 1.060461599552241 L -0.3156755004515974, 1.0537309800962642 L -0.33892720414659433, 1.0464838031662855 L -0.3620127597603909, 1.0387236214559992 L -0.38492085034727785, 1.0304542391430727 L -0.40764024595802584, 1.0216797100242718 L -0.4301598091450042, 1.0124043355282186 L -0.45246850042195425, 1.0026326626067537 L -0.4745553836757385, 0.9923694815059423 L -0.4964096315274177, 0.9816198234178105 L -0.5180205306400205, 0.9703889580139665 L -0.5393774869704114, 0.9586823908623147 L -0.5604700309626764, 0.9465058607281293 L -0.5812878226804837, 0.9338653367608108 L -0.6018206568759025, 0.9207670155677045 L -0.622058467992196, 0.9072173181764126 L -0.6419913350981329, 0.8932228868870955 L -0.6616094867514036, 0.8787905820162983 L -0.6809033057887528, 0.8639274785339036 L -0.6190030052625025, 0.7853886168490032 L -0.6014631697740033, 0.7989005291057257 L -0.583628486452848, 0.8120208062609958 L -0.5655076981747236, 0.8247430165240114 L -0.5471096880690022, 0.8370609232433677 L -0.5284434751640761, 0.8489684879643734 L -0.5095182099660694, 0.8604598733892084 L -0.49034316997310123, 0.8715294462384678 L -0.47092775512729135, 0.8821717800126968 L -0.45128148320674333, 0.892381657652555 L -0.43141398515976226, 0.9021540740963111 L -0.4113350003835947, 0.9114842387334123 L -0.39105437195000375, 0.9203675777529259 L -0.37058204178002346, 0.9287997363857017 L -0.34992804577025255, 0.9367765810391568 L -0.32910250887308257, 0.9442942013236355 L -0.30811564013326753, 0.9513489119693503 L -0.28697772768327034, 0.9579372546329674 L -0.265699133699839, 0.9640559995929464 L -0.29226904706982293 ,1.060461599552241",
          "type": "path"
         },
         {
          "fillcolor": "#dba284",
          "layer": "below",
          "line": {
           "color": "rgb(150,150,150)",
           "width": 0.45
          },
          "path": "M -0.7077039389997754, 0.8421134927812298 L -0.7260987769236994, 0.8263053710039092 L -0.744140606759334, 0.810095523609315 L -0.7618206570942185, 0.7934918313533753 L -0.7791303324025547, 0.7765023664679233 L -0.7083003021841405, 0.7059112422435665 L -0.6925642337220168, 0.7213562103212502 L -0.6764914606903036, 0.7364504760084681 L -0.660089797203363, 0.7511867009126447 L -0.643367217272523, 0.7655577207102089 L -0.7077039389997754 ,0.8421134927812298",
          "type": "path"
         },
         {
          "fillcolor": "#d59171",
          "layer": "below",
          "line": {
           "color": "rgb(150,150,150)",
           "width": 0.45
          },
          "path": "M -0.8031364073730067, 0.751646134262646 L -0.830760882731123, 0.720996779274225 L -0.8572164606373748, 0.6893329671590734 L -0.8824659175557914, 0.6566992495445807 L -0.9064737269871516, 0.6231415427348936 L -0.8240670245337741, 0.5664923115771759 L -0.8022417432325376, 0.5969993177678006 L -0.7792876914885225, 0.6266663337809758 L -0.7552371661192027, 0.6554516175220226 L -0.7301240067027334, 0.6833146675114964 L -0.8031364073730067 ,0.751646134262646",
          "type": "path"
         },
         {
          "fillcolor": "#d0805f",
          "layer": "below",
          "line": {
           "color": "rgb(150,150,150)",
           "width": 0.45
          },
          "path": "M -0.925599785793252, 0.5943610321509027 L -0.9393242510722175, 0.5724246250360112 L -0.9525289308710774, 0.550171460413572 L -0.9652065182339842, 0.5276138523187482 L -0.9773499978775292, 0.5047642832538709 L -0.9889526500727269, 0.481635397281108 L -1.0000080543634517, 0.4582399930257331 L -1.0105100931192683, 0.43459101659386357 L -1.0204529549206902, 0.41070155440858985 L -1.0298311377749931, 0.3865848259684583 L -1.0386394521608038, 0.3622541765323147 L -1.0468730238997788, 0.33772306973455796 L -0.9517027489997989, 0.3070209724859618 L -0.9442176837825489, 0.3293219786657406 L -0.9362101252499937, 0.3514407508804166 L -0.9276845044733547, 0.3733650494623544 L -0.9186455391993348, 0.39508274235805774 L -0.9090982312395015, 0.4165818118415755 L -0.8990478637024789, 0.4378503611646436 L -0.888499998070481, 0.4588766211398826 L -0.8774604711218037, 0.47964895665340745 L -0.8659353917009793, 0.5001558731032473 L -0.8539311373383794, 0.5203860227600101 L -0.8414543507211381, 0.5403282110462752 L -0.925599785793252 ,0.5943610321509027",
          "type": "path"
         },
         {
          "fillcolor": "#ca6f4c",
          "layer": "below",
          "line": {
           "color": "rgb(150,150,150)",
           "width": 0.45
          },
          "path": "M -1.0569645932362983, 0.30467334744743674 L -1.0608528464584577, 0.29084572914345536 L -1.064560209768104, 0.2769685176667026 L -1.0680860510091124, 0.26304407927144047 L -1.0714297689773518, 0.2490747882647678 L -0.9740270627066833, 0.22643162569524344 L -0.970987319099193, 0.23913098115585493 L -0.9677820088800945, 0.25178956151518417 L -0.9644116785985978, 0.26440520831223213 L -0.9608769029420894, 0.27697577040676064 L -1.0569645932362983 ,0.30467334744743674",
          "type": "path"
         },
         {
          "fillcolor": "#c45e3a",
          "layer": "below",
          "line": {
           "color": "rgb(150,150,150)",
           "width": 0.45
          },
          "path": "M -1.0787247112306235, 0.2152974625498589 L -1.0842745173698254, 0.18533421427904845 L -1.088992213075138, 0.1552287340079579 L -1.092874177820802, 0.1250041257419378 L -1.0959174324504164, 0.09468358490935573 L -0.996288574954924, 0.08607598628123247 L -0.9935219798370927, 0.11364011431085255 L -0.9899929209773981, 0.14111703091632535 L -0.9857041066998412, 0.16848564934458948 L -0.9806588283914759, 0.19572496595441716 L -1.0787247112306235 ,0.2152974625498589",
          "type": "path"
         },
         {
          "fillcolor": "#bf4d28",
          "layer": "below",
          "line": {
           "color": "rgb(150,150,150)",
           "width": 0.45
          },
          "path": "M -1.0983507466276008, 0.06021326583562606 L -1.09978196454493, 0.021900467156984196 L -1.0998771573997748, -0.016438936406939116 L -1.0986362095509947, -0.05475836980245835 L -1.096060628513244, -0.09301128223582746 L -0.9964187531938581, -0.0845557111234795 L -0.9987601905009043, -0.049780336184053045 L -0.999888324908886, -0.014944487642671922 L -0.9998017859499364, 0.01990951559725836 L -0.9985006787523644, 0.05473933257784187 L -1.0983507466276008 ,0.06021326583562606",
          "type": "path"
         },
         {
          "fillcolor": "#af4624",
          "layer": "below",
          "line": {
           "color": "rgb(150,150,150)",
           "width": 0.45
          },
          "path": "M -1.092598233779717, -0.12739348311998935 L -1.0871091077913044, -0.1679100585349019 L -1.0801180431911355, -0.20819465116316646 L -1.0716346987611898, -0.24819160423151695 L -1.061670795001705, -0.2878456583665066 L -0.9651552681833682, -0.2616778712422787 L -0.9742133625101725, -0.22562873111956086 L -0.9819254938101231, -0.18926786469378767 L -0.9882810070830039, -0.1526455077590017 L -0.9932711216179245, -0.1158122573818085 L -1.092598233779717 ,-0.12739348311998935",
          "type": "path"
         },
         {
          "fillcolor": "#9f4021",
          "layer": "below",
          "line": {
           "color": "rgb(150,150,150)",
           "width": 0.45
          },
          "path": "M -1.0521054739262705, -0.32105150947219974 L -1.0387589618034825, -0.3619113417301971 L -1.0238262773845443, -0.40221853977272864 L -1.0073302226968792, -0.4419115549987984 L -0.9892959870152883, -0.4809297766570986 L -0.8993599881957166, -0.4372088878700896 L -0.9157547479062537, -0.4017377772716349 L -0.9307511612586766, -0.36565321797520783 L -0.9443263289122567, -0.32901031066381553 L -0.9564595217511549, -0.29186500861109066 L -1.0521054739262705 ,-0.32105150947219974",
          "type": "path"
         },
         {
          "fillcolor": "#8f391e",
          "layer": "below",
          "line": {
           "color": "rgb(150,150,150)",
           "width": 0.45
          },
          "path": "M -0.9737014598171981, -0.5117670047490923 L -0.9622721291786218, -0.532946854204096 L -0.9503821679205199, -0.5538715870115499 L -0.9380372676555392, -0.5745311866986252 L -0.9252433377713516, -0.5949157637092236 L -0.9120065026018855, -0.6150155601380157 L -0.8983330984956636, -0.63482095440146 L -0.884229670782654, -0.6543224658435621 L -0.869702970641082, -0.6735107592741764 L -0.8547599518657031, -0.6923766494376751 L -0.839407767539089, -0.7109111054098417 L -0.8236537666075125, -0.7291052549208911 L -0.8075054903630778, -0.74695038860254 L -0.790970668833772, -0.7644379641571024 L -0.7740572170831769, -0.7815596104466043 L -0.7567732314216001, -0.7983071314999695 L -0.7391269855304476, -0.8146725104363555 L -0.7211269265016916, -0.8306479133027568 L -0.7027816707943259, -0.8462256928240456 L -0.6841000001097485, -0.8613983920636503 L -0.6219090910088622, -0.7830894473305912 L -0.6388924279948416, -0.7692960843854959 L -0.655569933183356, -0.7551344666388697 L -0.6719336232094978, -0.7406113731239594 L -0.6879756649287273, -0.7257337559090631 L -0.7036883791665244, -0.7105087367696402 L -0.7190642443943381, -0.694943603779184 L -0.7340959003300707, -0.6790458078204908 L -0.748776151461375, -0.6628229590189918 L -0.7630979704900808, -0.6462828230998561 L -0.7770545016960937, -0.6294333176706136 L -0.7906390642191654, -0.6122825084310693 L -0.8038451552569581, -0.5948386053123291 L -0.8166664531778759, -0.5771099585467818 L -0.8290968205471686, -0.5591050546709233 L -0.841130307064865, -0.5408325124629305 L -0.8527611524141264, -0.522301078816932 L -0.8639837890186544, -0.5035196245559544 L -0.8747928447078379, -0.4844971401855418 L -0.8851831452883618, -0.46524273159008384 L -0.9737014598171981 ,-0.5117670047490923",
          "type": "path"
         },
         {
          "fillcolor": "#f0f3e7",
          "layer": "below",
          "line": {
           "color": "rgb(150,150,150)",
           "width": 0.45
          },
          "path": "M -0.656705260692493, -0.8824614442449057 L -0.6377479566516484, -0.8962575209093909 L -0.6185009194407493, -0.9096464217765868 L -0.5989728931177672, -0.9226220641791155 L -0.5791727493959138, -0.9351785531956869 L -0.5591094836131547, -0.9473101843292047 L -0.538792210645574, -0.9590114460983536 L -0.5182301607664191, -0.9702770225415067 L -0.4974326754527317, -0.9811017956317977 L -0.47640920314144525, -0.9914808476022788 L -0.4551692949369035, -1.0014094631800932 L -0.4337226002717265, -1.0108831317286546 L -0.4120788625230065, -1.0198975492968623 L -0.39024791458583236, -1.0284486205744112 L -0.3682396744061325, -1.036532460752323 L -0.3460641404748926, -1.0441453972878365 L -0.32373138728576706, -1.0512839715728728 L -0.30125156075817544, -1.0579449405053003 L -0.2786348736279404, -1.0641252779622998 L -0.25589160080757056, -1.0698221761751525 L -0.23303207471830567, -1.0750330470048268 L -0.2100666805960207, -1.0797555231177887 L -0.18700585177315118, -1.083987459061496 L -0.16386006493875277, -1.0877269322390928 L -0.1406398353788789, -1.090972243782857 L -0.11735571219940814, -1.0937219193260095 L -0.10668701109037103, -0.9942926539327358 L -0.1278543957989808, -0.9917929488935064 L -0.14896369539886614, -0.9888426656719025 L -0.17000531979377378, -0.9854431446013598 L -0.1909697096327461, -0.9815959301070806 L -0.21184734065300515, -0.9773027700043879 L -0.2326287280068823, -0.9725656147046841 L -0.2533044305708549, -0.9673866163293634 L -0.27386505523470495, -0.9617681277320912 L -0.2943012611688791, -0.9557127014298843 L -0.31460376406808416, -0.9492230884434877 L -0.3347633403692113, -0.9423022370475662 L -0.35477083144166577, -0.9349532914312828 L -0.3746171477481877, -0.9271795902698746 L -0.3942932729742968, -0.9189846652078677 L -0.4137902681244577, -0.9103722392546301 L -0.433099275583132, -0.9013462250929807 L -0.45221152313884694, -0.8919107233016341 L -0.4711183279694719, -0.8820700204922788 L -0.48981110058688543, -0.8718285873621396 L -0.5082813487392315, -0.8611910766629133 L -0.5265206812690125, -0.850162321086988 L -0.5445208119252429, -0.8387473310719231 L -0.5622735631279538, -0.8269512925241698 L -0.5797708696833167, -0.8147795644630826 L -0.5970047824477209, -0.8022376765862779 L -0.656705260692493 ,-0.8824614442449057",
          "type": "path"
         },
         {
          "fillcolor": "#e2ecde",
          "layer": "below",
          "line": {
           "color": "rgb(150,150,150)",
           "width": 0.45
          },
          "path": "M -0.08294316853328398, -1.0968684655844836 L -0.06853861323535801, -1.0978626774309135 L -0.054122248922963564, -1.0986677305589352 L -0.03969655949600414, -1.0992834862601095 L -0.025264030461074817, -1.0997098384414237 L -0.022967300419158922, -0.9997362167649305 L -0.03608778136000376, -0.9993486238728267 L -0.04920204447542142, -0.9987888459626683 L -0.06230783021396182, -0.9980569794826486 L -0.07540288048480362, -0.9971531505313487 L -0.08294316853328398 ,-1.0968684655844836",
          "type": "path"
         },
         {
          "fillcolor": "#d4e5d6",
          "layer": "below",
          "line": {
           "color": "rgb(150,150,150)",
           "width": 0.45
          },
          "path": "M 0.009291156604006794, -1.0999607603950972 L 0.032334009078085375, -1.0995246754197645 L 0.055362667637795834, -1.098605923446632 L 0.07836702321170133, -1.097204907787482 L 0.10133697739683792, -1.0953222434571814 L 0.124262446891689, -1.0929587569037043 L 0.1471333679225354, -1.0901154856453383 L 0.16993970066122338, -1.0867936778152392 L 0.19267143363243108, -1.0829947916135256 L 0.21531858810848342, -1.0787204946671634 L 0.23787122248979287, -1.0739726632979125 L 0.2603194366690015, -1.0687533816986656 L 0.2826533763769081, -1.0630649410185316 L 0.3048632375082783, -1.0569098383570716 L 0.3269392704256237, -1.0502907756681295 L 0.3488717842390808, -1.0432106585737324 L 0.37065115106049645, -1.0356725950885874 L 0.3922678102298578, -1.027679894255732 L 0.41371227251220977, -1.019236064693937 L 0.43497512426321994, -1.010344813057501 L 0.4560470315615595, -1.001010042409111 L 0.47691874430628767, -0.9912358505064847 L 0.4975811002774446, -0.9810265280035437 L 0.5180250291580579, -0.9703865565669145 L 0.5382415565158144, -0.9593206069085732 L 0.5582218077426371, -0.9478335367355085 L 0.5779570119504405, -0.9359303886172938 L 0.5974385058213576, -0.9236163877725124 L 0.6166577374107431, -0.9108969397750016 L 0.6356062699012918, -0.8977776281809247 L 0.6542757853066086, -0.8842642120777143 L 0.6726580881226247, -0.870362623555961 L 0.6907451089252418, -0.8560789651053553 L 0.627950099022947, -0.778253604641232 L 0.6115073528387497, -0.7912387486872372 L 0.5947961684605532, -0.8038765564342857 L 0.577823881728447, -0.8161614801644769 L 0.5605979431006756, -0.8280881270681832 L 0.5431259143830524, -0.8396512616113748 L 0.5254154654094912, -0.8508458078339034 L 0.5074743706751246, -0.8616668515777349 L 0.48931050592346764, -0.8721096426441575 L 0.4709318446891435, -0.8821695968790131 L 0.4523464547976769, -0.8918422981850397 L 0.43356249482389786, -0.9011235004604405 L 0.4145882105105086, -0.9100091294628281 L 0.3954319311483817, -0.9184952845977281 L 0.3761020659201907, -0.9265782406308517 L 0.3566071002089616, -0.9342544493233926 L 0.3369555918731786, -0.9415205409896249 L 0.3171561674900734, -0.9483733259761203 L 0.2972175185687488, -0.9548097960619358 L 0.27714839773479844, -0.960827125779156 L 0.25695761488809826, -0.9664226736532104 L 0.23665403333545587, -0.9715939833624233 L 0.21624656589981167, -0.9763387848162841 L 0.1957441710077122, -0.9806549951519665 L 0.17515584875675552, -0.9845407196486596 L 0.15449063696474852, -0.9879942525593083 L 0.1337576072023049, -0.9910140778593984 L 0.11296586081062636, -0.9935988699124583 L 0.09212452490621628, -0.995747494051983 L 0.07124274837427393, -0.997459007079529 L 0.05032969785254166, -0.9987326576787563 L 0.029394553707350342, -0.9995678867452403 L 0.008446506003642539, -0.9999643276319063 L 0.009291156604006794 ,-1.0999607603950972",
          "type": "path"
         },
         {
          "fillcolor": "#c6decd",
          "layer": "below",
          "line": {
           "color": "rgb(150,150,150)",
           "width": 0.45
          },
          "path": "M 0.7172943580360984, -0.8339597136130628 L 0.7348631917419464, -0.818520671347303 L 0.7520998017281226, -0.8027115847180224 L 0.7689963955092389, -0.7865396008427029 L 0.7855453343175642, -0.7700120309007558 L 0.8017391365564295, -0.7531363468282161 L 0.8175704811825769, -0.7359201779397613 L 0.8330322110159242, -0.7183713074795797 L 0.8481173359752487, -0.7004976691026511 L 0.8628190362383277, -0.6823073432880256 L 0.8771306653251064, -0.6638085536857268 L 0.8910457531024994, -0.6450096633989292 L 0.9045580087094701, -0.6259191712030863 L 0.9176613234010579, -0.6065457077037304 L 0.930349773310078, -0.5868980314346665 L 0.9426176221252373, -0.5669850248983334 L 0.9544593236844588, -0.546815690550121 L 0.9658695244822421, -0.5263991467284572 L 0.9768430660899245, -0.5057446235325054 L 0.987374987487752, -0.4848614586493361 L 0.8976136249888653, -0.44078314422666914 L 0.8880391509908404, -0.45976783957500483 L 0.8780632040747655, -0.478544678844052 L 0.8676902942585989, -0.4971051732273827 L 0.8569251110229429, -0.5154409317257576 L 0.8457725211909799, -0.5335436649406058 L 0.8342375667282343, -0.5514051888215731 L 0.8223254624631546, -0.569017428366442 L 0.8100415937295449, -0.5863724212717537 L 0.7973915139319149, -0.6034623215324788 L 0.7843809420348433, -0.6202794029891141 L 0.7710157599774988, -0.6368160628205919 L 0.7573020100144765, -0.653064824981436 L 0.7432458919841608, -0.6690183435816011 L 0.7288537605058449, -0.6846694062074691 L 0.7141321221068765, -0.7000109371825052 L 0.6990876322811262, -0.7150360007660935 L 0.6837270924801114, -0.7297378042891112 L 0.668057447038133, -0.7441097012248209 L 0.6520857800328167, -0.7581451941936933 L 0.7172943580360984 ,-0.8339597136130628",
          "type": "path"
         },
         {
          "fillcolor": "#b8d7c5",
          "layer": "below",
          "line": {
           "color": "rgb(150,150,150)",
           "width": 0.45
          },
          "path": "M 1.0021176439989443, -0.4536080109367618 L 1.0172596443126791, -0.4185484632068811 L 1.0311755087385321, -0.38298442550295614 L 1.0438484640358872, -0.3469587643076902 L 1.0552632350826234, -0.31051490251347974 L 0.9593302137114759, -0.2822862750122543 L 0.9489531491235338, -0.3154170584615365 L 0.9374322806713928, -0.34816765954814194 L 0.9247814948297082, -0.38049860291534643 L 0.9110160399990401, -0.41237091903341977 L 1.0021176439989443 ,-0.4536080109367618",
          "type": "path"
         },
         {
          "fillcolor": "#aad0bc",
          "layer": "below",
          "line": {
           "color": "rgb(150,150,150)",
           "width": 0.45
          },
          "path": "M 1.0644960351708668, -0.2772150629123622 L 1.0719684680037034, -0.24674603057758315 L 1.0785689748106453, -0.21607629804287534 L 1.0842921868202784, -0.18523081169313754 L 1.0891334488420328, -0.15423466086927257 L 0.9901213171291205, -0.14021332806297504 L 0.9857201698366167, -0.16839164699376138 L 0.9805172498278594, -0.19643299822079574 L 0.9745167890942756, -0.2243145732523483 L 0.9677236683371515, -0.2520136935566929 L 1.0644960351708668 ,-0.2772150629123622",
          "type": "path"
         },
         {
          "fillcolor": "#9cc9b4",
          "layer": "below",
          "line": {
           "color": "rgb(150,150,150)",
           "width": 0.45
          },
          "path": "M 1.093440655005428, -0.11994804700911385 L 1.0955677884936224, -0.09864695035931838 L 1.0972799992996856, -0.07730849330366123 L 1.0985766389606861, -0.05594075732274823 L 1.0994572164023046, -0.03455183498594413 L 0.9995065603657315, -0.031410759078131026 L 0.9987060354188054, -0.050855233929771114 L 0.9975272720906232, -0.07028044845787383 L 0.9959707168123838, -0.08967904578119852 L 0.9940369590958437, -0.10904367909919441 L 1.093440655005428 ,-0.11994804700911385",
          "type": "path"
         }
        ],
        "showlegend": false,
        "title": "Data Jobs ‒ Technologies in Demand",
        "titlefont": {
         "color": "#655643",
         "family": "Merryweather",
         "size": 18
        },
        "width": 1000,
        "xaxis": {
         "showgrid": false,
         "showline": false,
         "showticklabels": false,
         "title": "",
         "zeroline": false
        },
        "yaxis": {
         "showgrid": false,
         "showline": false,
         "showticklabels": false,
         "title": "",
         "zeroline": false
        }
       }
      },
      "text/html": [
       "<div id=\"14586059-472d-41a6-b9ad-91d14cbddd61\" style=\"height: 525px; width: 1000px;\" class=\"plotly-graph-div\"></div><script type=\"text/javascript\">require([\"plotly\"], function(Plotly) { window.PLOTLYENV=window.PLOTLYENV || {};window.PLOTLYENV.BASE_URL=\"https://plot.ly\";Plotly.newPlot(\"14586059-472d-41a6-b9ad-91d14cbddd61\", [{\"hoverinfo\": \"text\", \"line\": {\"color\": \"#f2e6ce\", \"shape\": \"spline\", \"width\": 0.25}, \"mode\": \"lines\", \"text\": \"Power BI<br>1102\", \"x\": [1.1, 1.0997239463976418, 1.0988959241461878, 1.0975163488429565, 1.0955859129183705, 1.093105585288413, 1.0900766108683162, 1.0865005099477163, 1.0823790774275979, 1.0777143819194046, 1.072508764706771, 1.0667648385703954, 1.0604854864766444], \"y\": [0.0, 0.02464227504912715, 0.049272181754985905, 0.07387735798217282, 0.09844545400789846, 0.12296413872050654, 0.14742110580865153, 0.17180407993802904, 0.19610082291255795, 0.22029913981692245, 0.24438688513739074, 0.26835196885783846, 0.2921823625279169], \"type\": \"scatter\", \"uid\": \"bcb3c682-9fd0-4e35-b502-2e6fb97252a2\"}, {\"hoverinfo\": \"text\", \"line\": {\"color\": \"#ecd5bb\", \"shape\": \"spline\", \"width\": 0.25}, \"mode\": \"lines\", \"text\": \"Excel<br>3652\", \"x\": [1.0507845311098076, 1.043893460549169, 1.0365635736164018, 1.028797951540112, 1.0205998587167495, 1.0119727413383703, 1.0029202259439778, 0.993446117895052, 0.9835543997759085, 0.9732492297195591, 0.962534939659778, 0.9514160335101074, 0.9398971852705709, 0.9279832370628851, 0.9156791970950022, 0.9029902375558334, 0.8899216924410417, 0.8764790553108159, 0.8626679769805697, 0.8484942631455369, 0.8339638719402582, 0.8190829114339914, 0.8038576370630904, 0.7882944490014399, 0.7723998894700437, 0.7561806399869057, 0.7396435185583505, 0.7227954768129737, 0.7056435970794185, 0.6881950894092124, 0.6704572885459134, 0.6524376508418395, 0.6341437511236785, 0.6155832795082958, 0.5967640381700771, 0.5776939380611666, 0.5583809955859793, 0.5388333292313845, 0.5190591561539762, 0.49906678872586885, 0.47886463104046545, 0.4584611753796698, 0.43786499864402767, 0.41708475874729867, 0.39612919097696925, 0.3750071043222438, 0.35372737777105373, 0.33229895657764025], \"y\": [0.325348842291381, 0.34682335997259617, 0.36815208521967485, 0.3893260521810348, 0.4103363600600749, 0.4311741768567596, 0.45183074308028304, 0.4722973754312537, 0.4925654704518503, 0.5126265081424147, 0.5324720555429627, 0.5520937702781061, 0.5714834040638961, 0.5906328061751136, 0.6095339268715502, 0.6281788207818374, 0.6465596502434033, 0.6646686885971537, 0.6824983234354874, 0.7000410598022895, 0.7172895233435469, 0.7342364634072708, 0.750874756091417, 0.7671974072385259, 0.7831975553758225, 0.7988684745995388, 0.8142035774022509, 0.8291964174420354, 0.8438406922522873, 0.8581302458910574, 0.872059071528794, 0.885621313973406, 0.8988112721315806, 0.9116234014053235, 0.9240523160227146, 0.9360927913018993, 0.947739765847361, 0.9589883436775561, 0.9698337962830138, 0.9802715646140355, 0.9902972609971609, 0.999906670979593, 1.009095755100806, 1.0178606505905943, 1.026197672992846, 1.0341033177143597, 1.041574261498053, 1.0486073638199438], \"type\": \"scatter\", \"uid\": \"57cfe594-0459-4876-8e39-add34ce76d73\"}, {\"hoverinfo\": \"text\", \"line\": {\"color\": \"#e6c4a9\", \"shape\": \"spline\", \"width\": 0.25}, \"mode\": \"lines\", \"text\": \"SSIS/SSRS<br>1998\", \"x\": [0.2991974338295393, 0.27650560093520127, 0.25368744915365415, 0.2307534027350084, 0.20771393887471015, 0.18457958292713467, 0.1613609035971829, 0.1380685081120697, 0.11471303737551738, 0.09130516110656094, 0.0678555729651926, 0.0443749856670658, 0.02087412608949717, -0.0026362696290035334, -0.02614546099343428, -0.04964270805898948, -0.07311727633750098, -0.09655844170138232, -0.11995549528284385, -0.14329774836613252, -0.1665745372705694, -0.1897752282221465, -0.21288922221146356, -0.2359059598357824, -0.25881492612298673], \"y\": [1.058527701852823, 1.0646805401863337, 1.070346989598192, 1.0755244614262454, 1.0802105903929813, 1.0844032356860824, 1.0881004819364344, 1.0913006400931449, 1.0940022481951686, 1.0962040720391917, 1.0979051057434634, 1.0991045722073254, 1.0998019234662213, 1.0999968409420289, 1.0996892355886008, 1.0988792479324423, 1.0975672480085152, 1.0957538351911897, 1.0934398379204262, 1.090626313323311, 1.0873145467311178, 1.0835060510921166, 1.0792025662803986, 1.074406058301031, 1.0691187183919066], \"type\": \"scatter\", \"uid\": \"55e5974f-b5a2-4cc8-a452-d0154ac450a3\"}, {\"hoverinfo\": \"text\", \"line\": {\"color\": \"#e1b396\", \"shape\": \"spline\", \"width\": 0.25}, \"mode\": \"lines\", \"text\": \"MS SQL Server<br>1578\", \"x\": [-0.29226904706982293, -0.3156755004515974, -0.33892720414659433, -0.3620127597603909, -0.38492085034727785, -0.40764024595802584, -0.4301598091450042, -0.45246850042195425, -0.4745553836757385, -0.4964096315274177, -0.5180205306400205, -0.5393774869704114, -0.5604700309626764, -0.5812878226804837, -0.6018206568759025, -0.622058467992196, -0.6419913350981329, -0.6616094867514036, -0.6809033057887528], \"y\": [1.060461599552241, 1.0537309800962642, 1.0464838031662855, 1.0387236214559992, 1.0304542391430727, 1.0216797100242718, 1.0124043355282186, 1.0026326626067537, 0.9923694815059423, 0.9816198234178105, 0.9703889580139665, 0.9586823908623147, 0.9465058607281293, 0.9338653367608108, 0.9207670155677045, 0.9072173181764126, 0.8932228868870955, 0.8787905820162983, 0.8639274785339036], \"type\": \"scatter\", \"uid\": \"ea25250c-024b-4df6-8915-e8b7759dad2d\"}, {\"hoverinfo\": \"text\", \"line\": {\"color\": \"#dba284\", \"shape\": \"spline\", \"width\": 0.25}, \"mode\": \"lines\", \"text\": \"PostgreSQL<br>439\", \"x\": [-0.7077039389997754, -0.7260987769236994, -0.744140606759334, -0.7618206570942185, -0.7791303324025547], \"y\": [0.8421134927812298, 0.8263053710039092, 0.810095523609315, 0.7934918313533753, 0.7765023664679233], \"type\": \"scatter\", \"uid\": \"bc6cd183-b3c6-4ea4-b13e-5868ba9ceb5f\"}, {\"hoverinfo\": \"text\", \"line\": {\"color\": \"#d59171\", \"shape\": \"spline\", \"width\": 0.25}, \"mode\": \"lines\", \"text\": \"MySQL/MariaDB<br>666\", \"x\": [-0.8031364073730067, -0.830760882731123, -0.8572164606373748, -0.8824659175557914, -0.9064737269871516], \"y\": [0.751646134262646, 0.720996779274225, 0.6893329671590734, 0.6566992495445807, 0.6231415427348936], \"type\": \"scatter\", \"uid\": \"022cf75c-bd42-42df-af94-a701b74daf21\"}, {\"hoverinfo\": \"text\", \"line\": {\"color\": \"#d0805f\", \"shape\": \"spline\", \"width\": 0.25}, \"mode\": \"lines\", \"text\": \"T-SQL<br>1065\", \"x\": [-0.925599785793252, -0.9393242510722175, -0.9525289308710774, -0.9652065182339842, -0.9773499978775292, -0.9889526500727269, -1.0000080543634517, -1.0105100931192683, -1.0204529549206902, -1.0298311377749931, -1.0386394521608038, -1.0468730238997788], \"y\": [0.5943610321509027, 0.5724246250360112, 0.550171460413572, 0.5276138523187482, 0.5047642832538709, 0.481635397281108, 0.4582399930257331, 0.43459101659386357, 0.41070155440858985, 0.3865848259684583, 0.3622541765323147, 0.33772306973455796], \"type\": \"scatter\", \"uid\": \"71c4bad8-21a5-4497-a799-8a41af406d1d\"}, {\"hoverinfo\": \"text\", \"line\": {\"color\": \"#ca6f4c\", \"shape\": \"spline\", \"width\": 0.25}, \"mode\": \"lines\", \"text\": \"PL/SQL<br>307\", \"x\": [-1.0569645932362983, -1.0608528464584577, -1.064560209768104, -1.0680860510091124, -1.0714297689773518], \"y\": [0.30467334744743674, 0.29084572914345536, 0.2769685176667026, 0.26304407927144047, 0.2490747882647678], \"type\": \"scatter\", \"uid\": \"82360115-d2a4-446b-91ab-2aa0c532183f\"}, {\"hoverinfo\": \"text\", \"line\": {\"color\": \"#c45e3a\", \"shape\": \"spline\", \"width\": 0.25}, \"mode\": \"lines\", \"text\": \"Pentaho<br>522\", \"x\": [-1.0787247112306235, -1.0842745173698254, -1.088992213075138, -1.092874177820802, -1.0959174324504164], \"y\": [0.2152974625498589, 0.18533421427904845, 0.1552287340079579, 0.1250041257419378, 0.09468358490935573], \"type\": \"scatter\", \"uid\": \"8d14fc5d-f26d-4368-8d57-c6fd267fa8c2\"}, {\"hoverinfo\": \"text\", \"line\": {\"color\": \"#bf4d28\", \"shape\": \"spline\", \"width\": 0.25}, \"mode\": \"lines\", \"text\": \"Hadoop<br>627\", \"x\": [-1.0983507466276008, -1.09978196454493, -1.0998771573997748, -1.0986362095509947, -1.096060628513244], \"y\": [0.06021326583562606, 0.021900467156984196, -0.016438936406939116, -0.05475836980245835, -0.09301128223582746], \"type\": \"scatter\", \"uid\": \"dd31a37c-6c90-4f0d-8ad7-62a5ddece006\"}, {\"hoverinfo\": \"text\", \"line\": {\"color\": \"#af4624\", \"shape\": \"spline\", \"width\": 0.25}, \"mode\": \"lines\", \"text\": \"Spark<br>661\", \"x\": [-1.092598233779717, -1.0871091077913044, -1.0801180431911355, -1.0716346987611898, -1.061670795001705], \"y\": [-0.12739348311998935, -0.1679100585349019, -0.20819465116316646, -0.24819160423151695, -0.2878456583665066], \"type\": \"scatter\", \"uid\": \"2da4d953-a6b6-42d7-8015-e1878ccfb068\"}, {\"hoverinfo\": \"text\", \"line\": {\"color\": \"#9f4021\", \"shape\": \"spline\", \"width\": 0.25}, \"mode\": \"lines\", \"text\": \"Informatica<br>689\", \"x\": [-1.0521054739262705, -1.0387589618034825, -1.0238262773845443, -1.0073302226968792, -0.9892959870152883], \"y\": [-0.32105150947219974, -0.3619113417301971, -0.40221853977272864, -0.4419115549987984, -0.4809297766570986], \"type\": \"scatter\", \"uid\": \"e54de2f3-06fc-418a-8b84-616d6fe606f5\"}, {\"hoverinfo\": \"text\", \"line\": {\"color\": \"#8f391e\", \"shape\": \"spline\", \"width\": 0.25}, \"mode\": \"lines\", \"text\": \"Qlik<br>1641\", \"x\": [-0.9737014598171981, -0.9622721291786218, -0.9503821679205199, -0.9380372676555392, -0.9252433377713516, -0.9120065026018855, -0.8983330984956636, -0.884229670782654, -0.869702970641082, -0.8547599518657031, -0.839407767539089, -0.8236537666075125, -0.8075054903630778, -0.790970668833772, -0.7740572170831769, -0.7567732314216001, -0.7391269855304476, -0.7211269265016916, -0.7027816707943259, -0.6841000001097485], \"y\": [-0.5117670047490923, -0.532946854204096, -0.5538715870115499, -0.5745311866986252, -0.5949157637092236, -0.6150155601380157, -0.63482095440146, -0.6543224658435621, -0.6735107592741764, -0.6923766494376751, -0.7109111054098417, -0.7291052549208911, -0.74695038860254, -0.7644379641571024, -0.7815596104466043, -0.7983071314999695, -0.8146725104363555, -0.8306479133027568, -0.8462256928240456, -0.8613983920636503], \"type\": \"scatter\", \"uid\": \"4eb32b66-3454-4031-b90e-65395de4607c\"}, {\"hoverinfo\": \"text\", \"line\": {\"color\": \"#f0f3e7\", \"shape\": \"spline\", \"width\": 0.25}, \"mode\": \"lines\", \"text\": \"Tableau<br>2071\", \"x\": [-0.656705260692493, -0.6377479566516484, -0.6185009194407493, -0.5989728931177672, -0.5791727493959138, -0.5591094836131547, -0.538792210645574, -0.5182301607664191, -0.4974326754527317, -0.47640920314144525, -0.4551692949369035, -0.4337226002717265, -0.4120788625230065, -0.39024791458583236, -0.3682396744061325, -0.3460641404748926, -0.32373138728576706, -0.30125156075817544, -0.2786348736279404, -0.25589160080757056, -0.23303207471830567, -0.2100666805960207, -0.18700585177315118, -0.16386006493875277, -0.1406398353788789, -0.11735571219940814], \"y\": [-0.8824614442449057, -0.8962575209093909, -0.9096464217765868, -0.9226220641791155, -0.9351785531956869, -0.9473101843292047, -0.9590114460983536, -0.9702770225415067, -0.9811017956317977, -0.9914808476022788, -1.0014094631800932, -1.0108831317286546, -1.0198975492968623, -1.0284486205744112, -1.036532460752323, -1.0441453972878365, -1.0512839715728728, -1.0579449405053003, -1.0641252779622998, -1.0698221761751525, -1.0750330470048268, -1.0797555231177887, -1.083987459061496, -1.0877269322390928, -1.090972243782857, -1.0937219193260095], \"type\": \"scatter\", \"uid\": \"72f3abc0-9672-498b-bbc2-c75bf2c79cf2\"}, {\"hoverinfo\": \"text\", \"line\": {\"color\": \"#e2ecde\", \"shape\": \"spline\", \"width\": 0.25}, \"mode\": \"lines\", \"text\": \"Microstrategy<br>308\", \"x\": [-0.08294316853328398, -0.06853861323535801, -0.054122248922963564, -0.03969655949600414, -0.025264030461074817], \"y\": [-1.0968684655844836, -1.0978626774309135, -1.0986677305589352, -1.0992834862601095, -1.0997098384414237], \"type\": \"scatter\", \"uid\": \"ebe8cbe8-b444-40bc-8917-6c3b7a1cd20f\"}, {\"hoverinfo\": \"text\", \"line\": {\"color\": \"#d4e5d6\", \"shape\": \"spline\", \"width\": 0.25}, \"mode\": \"lines\", \"text\": \"Oracle BI<br>2576\", \"x\": [0.009291156604006794, 0.032334009078085375, 0.055362667637795834, 0.07836702321170133, 0.10133697739683792, 0.124262446891689, 0.1471333679225354, 0.16993970066122338, 0.19267143363243108, 0.21531858810848342, 0.23787122248979287, 0.2603194366690015, 0.2826533763769081, 0.3048632375082783, 0.3269392704256237, 0.3488717842390808, 0.37065115106049645, 0.3922678102298578, 0.41371227251220977, 0.43497512426321994, 0.4560470315615595, 0.47691874430628767, 0.4975811002774446, 0.5180250291580579, 0.5382415565158144, 0.5582218077426371, 0.5779570119504405, 0.5974385058213576, 0.6166577374107431, 0.6356062699012918, 0.6542757853066086, 0.6726580881226247, 0.6907451089252418], \"y\": [-1.0999607603950972, -1.0995246754197645, -1.098605923446632, -1.097204907787482, -1.0953222434571814, -1.0929587569037043, -1.0901154856453383, -1.0867936778152392, -1.0829947916135256, -1.0787204946671634, -1.0739726632979125, -1.0687533816986656, -1.0630649410185316, -1.0569098383570716, -1.0502907756681295, -1.0432106585737324, -1.0356725950885874, -1.027679894255732, -1.019236064693937, -1.010344813057501, -1.001010042409111, -0.9912358505064847, -0.9810265280035437, -0.9703865565669145, -0.9593206069085732, -0.9478335367355085, -0.9359303886172938, -0.9236163877725124, -0.9108969397750016, -0.8977776281809247, -0.8842642120777143, -0.870362623555961, -0.8560789651053553], \"type\": \"scatter\", \"uid\": \"197362b4-adfd-44c1-b1c0-6fa118a37cc9\"}, {\"hoverinfo\": \"text\", \"line\": {\"color\": \"#c6decd\", \"shape\": \"spline\", \"width\": 0.25}, \"mode\": \"lines\", \"text\": \"Python<br>1598\", \"x\": [0.7172943580360984, 0.7348631917419464, 0.7520998017281226, 0.7689963955092389, 0.7855453343175642, 0.8017391365564295, 0.8175704811825769, 0.8330322110159242, 0.8481173359752487, 0.8628190362383277, 0.8771306653251064, 0.8910457531024994, 0.9045580087094701, 0.9176613234010579, 0.930349773310078, 0.9426176221252373, 0.9544593236844588, 0.9658695244822421, 0.9768430660899245, 0.987374987487752], \"y\": [-0.8339597136130628, -0.818520671347303, -0.8027115847180224, -0.7865396008427029, -0.7700120309007558, -0.7531363468282161, -0.7359201779397613, -0.7183713074795797, -0.7004976691026511, -0.6823073432880256, -0.6638085536857268, -0.6450096633989292, -0.6259191712030863, -0.6065457077037304, -0.5868980314346665, -0.5669850248983334, -0.546815690550121, -0.5263991467284572, -0.5057446235325054, -0.4848614586493361], \"type\": \"scatter\", \"uid\": \"9b53d2d4-fd81-42c0-9ab7-1c89be38fd75\"}, {\"hoverinfo\": \"text\", \"line\": {\"color\": \"#b8d7c5\", \"shape\": \"spline\", \"width\": 0.25}, \"mode\": \"lines\", \"text\": \"VBA<br>625\", \"x\": [1.0021176439989443, 1.0172596443126791, 1.0311755087385321, 1.0438484640358872, 1.0552632350826234], \"y\": [-0.4536080109367618, -0.4185484632068811, -0.38298442550295614, -0.3469587643076902, -0.31051490251347974], \"type\": \"scatter\", \"uid\": \"d2a274ac-fada-4c33-8671-97d4000f63aa\"}, {\"hoverinfo\": \"text\", \"line\": {\"color\": \"#aad0bc\", \"shape\": \"spline\", \"width\": 0.25}, \"mode\": \"lines\", \"text\": \"Linux<br>534\", \"x\": [1.0644960351708668, 1.0719684680037034, 1.0785689748106453, 1.0842921868202784, 1.0891334488420328], \"y\": [-0.2772150629123622, -0.24674603057758315, -0.21607629804287534, -0.18523081169313754, -0.15423466086927257], \"type\": \"scatter\", \"uid\": \"069517e5-45f6-4cc4-8f3b-9e26bbde0726\"}, {\"hoverinfo\": \"text\", \"line\": {\"color\": \"#9cc9b4\", \"shape\": \"spline\", \"width\": 0.25}, \"mode\": \"lines\", \"text\": \"AWS<br>401\", \"x\": [1.093440655005428, 1.0955677884936224, 1.0972799992996856, 1.0985766389606861, 1.0994572164023046], \"y\": [-0.11994804700911385, -0.09864695035931838, -0.07730849330366123, -0.05594075732274823, -0.03455183498594413], \"type\": \"scatter\", \"uid\": \"f16062e3-6d0f-4b3c-9157-83e86772c3a2\"}, {\"hoverinfo\": \"text\", \"marker\": {\"color\": \"green\", \"size\": 0.5}, \"mode\": \"markers\", \"text\": \"Power BI appears with Excel 185 times\", \"x\": [0.8728432934525272], \"y\": [0.21941874367278977], \"type\": \"scatter\", \"uid\": \"35c93901-1bdd-4dac-b5dd-93952de80569\"}, {\"hoverinfo\": \"text\", \"marker\": {\"color\": \"blue\", \"size\": 0.5}, \"mode\": \"markers\", \"text\": \"Excel appears with Power BI 185 times\", \"x\": [0.7668923582642889], \"y\": [0.4710372711748376], \"type\": \"scatter\", \"uid\": \"2ad92329-aa1a-4b5a-98fc-948eb86d0709\"}, {\"hoverinfo\": \"text\", \"marker\": {\"color\": \"green\", \"size\": 0.5}, \"mode\": \"markers\", \"text\": \"Power BI appears with SSIS/SSRS 111 times\", \"x\": [0.8975502918109154], \"y\": [0.06635867441518614], \"type\": \"scatter\", \"uid\": \"4cb2d85c-fe9d-4907-b062-c13b040fccfa\"}, {\"hoverinfo\": \"text\", \"marker\": {\"color\": \"blue\", \"size\": 0.5}, \"mode\": \"markers\", \"text\": \"SSIS/SSRS appears with Power BI 111 times\", \"x\": [0.11852211606113879], \"y\": [0.8921617050761538], \"type\": \"scatter\", \"uid\": \"4d4bac65-07c8-4f5f-8e82-b5307441a591\"}, {\"hoverinfo\": \"text\", \"marker\": {\"color\": \"green\", \"size\": 0.5}, \"mode\": \"markers\", \"text\": \"Power BI appears with MS SQL Server 117 times\", \"x\": [0.8953578728985796], \"y\": [0.09129227480203873], \"type\": \"scatter\", \"uid\": \"a7236dfd-1e1a-442b-beaf-75403f5dd462\"}, {\"hoverinfo\": \"text\", \"marker\": {\"color\": \"blue\", \"size\": 0.5}, \"mode\": \"markers\", \"text\": \"MS SQL Server appears with Power BI 117 times\", \"x\": [-0.3928120909653197], \"y\": [0.8097522220972619], \"type\": \"scatter\", \"uid\": \"4e748dd9-fa0b-49ba-9798-74ba884d9b69\"}, {\"hoverinfo\": \"text\", \"marker\": {\"color\": \"green\", \"size\": 0.5}, \"mode\": \"markers\", \"text\": \"Power BI appears with MySQL/MariaDB 5 times\", \"x\": [0.8999984934514994], \"y\": [0.0016467498387557195], \"type\": \"scatter\", \"uid\": \"2bd43ee7-709f-4913-917d-1d55afa545e8\"}, {\"hoverinfo\": \"text\", \"marker\": {\"color\": \"blue\", \"size\": 0.5}, \"mode\": \"markers\", \"text\": \"MySQL/MariaDB appears with Power BI 5 times\", \"x\": [-0.6587027901811925], \"y\": [0.6132785942844506], \"type\": \"scatter\", \"uid\": \"0c454ba3-224f-4588-b112-aa161faa6a2d\"}, {\"hoverinfo\": \"text\", \"marker\": {\"color\": \"green\", \"size\": 0.5}, \"mode\": \"markers\", \"text\": \"Power BI appears with T-SQL 41 times\", \"x\": [0.8993441014994098], \"y\": [0.0343538512865638], \"type\": \"scatter\", \"uid\": \"c28e1715-1174-47fe-b78c-78deb0d16cba\"}, {\"hoverinfo\": \"text\", \"marker\": {\"color\": \"blue\", \"size\": 0.5}, \"mode\": \"markers\", \"text\": \"T-SQL appears with Power BI 41 times\", \"x\": [-0.7874004434996853], \"y\": [0.43589051558447434], \"type\": \"scatter\", \"uid\": \"db394229-fee6-4119-a393-01d761c7dd11\"}, {\"hoverinfo\": \"text\", \"marker\": {\"color\": \"green\", \"size\": 0.5}, \"mode\": \"markers\", \"text\": \"Power BI appears with PL/SQL 6 times\", \"x\": [0.8999913222921603], \"y\": [0.003952189116017298], \"type\": \"scatter\", \"uid\": \"42c1ab47-a828-472a-a281-59498d0b3efa\"}, {\"hoverinfo\": \"text\", \"marker\": {\"color\": \"blue\", \"size\": 0.5}, \"mode\": \"markers\", \"text\": \"PL/SQL appears with Power BI 6 times\", \"x\": [-0.8655485717721424], \"y\": [0.24662860722796232], \"type\": \"scatter\", \"uid\": \"be81d28c-6b6b-4fa6-a6eb-78b3ee19e464\"}, {\"hoverinfo\": \"text\", \"marker\": {\"color\": \"green\", \"size\": 0.5}, \"mode\": \"markers\", \"text\": \"Power BI appears with Pentaho 8 times\", \"x\": [0.8999832606194356], \"y\": [0.005489135160405924], \"type\": \"scatter\", \"uid\": \"d543af07-f515-4803-b6ce-ede376dfd720\"}, {\"hoverinfo\": \"text\", \"marker\": {\"color\": \"blue\", \"size\": 0.5}, \"mode\": \"markers\", \"text\": \"Pentaho appears with Power BI 8 times\", \"x\": [-0.8834060059828557], \"y\": [0.17202856911983802], \"type\": \"scatter\", \"uid\": \"7a30d046-c0ad-4cb3-b016-508c7721f6cc\"}, {\"hoverinfo\": \"text\", \"marker\": {\"color\": \"green\", \"size\": 0.5}, \"mode\": \"markers\", \"text\": \"Power BI appears with Hadoop 21 times\", \"x\": [0.8998668846189019], \"y\": [0.015478693945934503], \"type\": \"scatter\", \"uid\": \"e99fecbb-e85c-49cd-ab7a-57b2c278916d\"}, {\"hoverinfo\": \"text\", \"marker\": {\"color\": \"blue\", \"size\": 0.5}, \"mode\": \"markers\", \"text\": \"Hadoop appears with Power BI 21 times\", \"x\": [-0.8992237566359529], \"y\": [0.03737158682106787], \"type\": \"scatter\", \"uid\": \"f25e78f3-e56b-4e0b-a839-4e731ea6ba11\"}, {\"hoverinfo\": \"text\", \"marker\": {\"color\": \"green\", \"size\": 0.5}, \"mode\": \"markers\", \"text\": \"Power BI appears with Spark 26 times\", \"x\": [0.8997633549709843], \"y\": [0.020637467174014774], \"type\": \"scatter\", \"uid\": \"1c09503e-e067-4299-a8a8-1b203334aed6\"}, {\"hoverinfo\": \"text\", \"marker\": {\"color\": \"blue\", \"size\": 0.5}, \"mode\": \"markers\", \"text\": \"Spark appears with Power BI 26 times\", \"x\": [-0.8907473440188857], \"y\": [-0.1287212846552623], \"type\": \"scatter\", \"uid\": \"135b6e4a-ee6c-4d01-8b5c-9fb2c20bd014\"}, {\"hoverinfo\": \"text\", \"marker\": {\"color\": \"green\", \"size\": 0.5}, \"mode\": \"markers\", \"text\": \"Power BI appears with Informatica 11 times\", \"x\": [0.8999681216130258], \"y\": [0.007574964047583782], \"type\": \"scatter\", \"uid\": \"98714cc6-4e34-477d-b7b1-c1b03810459f\"}, {\"hoverinfo\": \"text\", \"marker\": {\"color\": \"blue\", \"size\": 0.5}, \"mode\": \"markers\", \"text\": \"Informatica appears with Power BI 11 times\", \"x\": [-0.8584863489369827], \"y\": [-0.2701873214805777], \"type\": \"scatter\", \"uid\": \"d700493b-2487-4481-8904-8a6d82cdcfa8\"}, {\"hoverinfo\": \"text\", \"marker\": {\"color\": \"green\", \"size\": 0.5}, \"mode\": \"markers\", \"text\": \"Power BI appears with Qlik 148 times\", \"x\": [0.8875348629858494], \"y\": [0.14927111905753754], \"type\": \"scatter\", \"uid\": \"564a625e-17c7-48a9-bf38-6a4405d46985\"}, {\"hoverinfo\": \"text\", \"marker\": {\"color\": \"blue\", \"size\": 0.5}, \"mode\": \"markers\", \"text\": \"Qlik appears with Power BI 148 times\", \"x\": [-0.7277201720700082], \"y\": [-0.5295501403667057], \"type\": \"scatter\", \"uid\": \"6659d630-a077-432d-ab5a-5f1f3bf669ff\"}, {\"hoverinfo\": \"text\", \"marker\": {\"color\": \"green\", \"size\": 0.5}, \"mode\": \"markers\", \"text\": \"Power BI appears with Tableau 160 times\", \"x\": [0.8813017028049089], \"y\": [0.18250290034179717], \"type\": \"scatter\", \"uid\": \"99cbe333-6adc-4b76-819a-6827276a6984\"}, {\"hoverinfo\": \"text\", \"marker\": {\"color\": \"blue\", \"size\": 0.5}, \"mode\": \"markers\", \"text\": \"Tableau appears with Power BI 160 times\", \"x\": [-0.35725445064471834], \"y\": [-0.8260564493389907], \"type\": \"scatter\", \"uid\": \"037f043e-ab95-48a7-9719-d58f7e89ddaa\"}, {\"hoverinfo\": \"text\", \"marker\": {\"color\": \"green\", \"size\": 0.5}, \"mode\": \"markers\", \"text\": \"Power BI appears with Microstrategy 20 times\", \"x\": [0.899933043100424], \"y\": [0.010978066132539804], \"type\": \"scatter\", \"uid\": \"016ca401-2816-4de4-a4e5-e21a1bb71c89\"}, {\"hoverinfo\": \"text\", \"marker\": {\"color\": \"blue\", \"size\": 0.5}, \"mode\": \"markers\", \"text\": \"Microstrategy appears with Power BI 20 times\", \"x\": [-0.054545704791737766], \"y\": [-0.8983455716419894], \"type\": \"scatter\", \"uid\": \"a75043b7-73e5-4381-9e60-462f2d7ef068\"}, {\"hoverinfo\": \"text\", \"marker\": {\"color\": \"green\", \"size\": 0.5}, \"mode\": \"markers\", \"text\": \"Power BI appears with Oracle BI 134 times\", \"x\": [0.892143548803807], \"y\": [0.11865870523374712], \"type\": \"scatter\", \"uid\": \"13d2c1b3-9834-4181-8f67-0899ad55f021\"}, {\"hoverinfo\": \"text\", \"marker\": {\"color\": \"blue\", \"size\": 0.5}, \"mode\": \"markers\", \"text\": \"Oracle BI appears with Power BI 134 times\", \"x\": [0.18408776317947192], \"y\": [-0.880972017403265], \"type\": \"scatter\", \"uid\": \"b8d70ffa-e3f7-4106-b938-51b0140c3abc\"}, {\"hoverinfo\": \"text\", \"marker\": {\"color\": \"green\", \"size\": 0.5}, \"mode\": \"markers\", \"text\": \"Power BI appears with Python 70 times\", \"x\": [0.8987965290236303], \"y\": [0.046527404989689616], \"type\": \"scatter\", \"uid\": \"15c24d4c-b590-4522-be25-2d4d0f62b38d\"}, {\"hoverinfo\": \"text\", \"marker\": {\"color\": \"blue\", \"size\": 0.5}, \"mode\": \"markers\", \"text\": \"Python appears with Power BI 70 times\", \"x\": [0.6421737854384582], \"y\": [-0.6305654837490244], \"type\": \"scatter\", \"uid\": \"7e0e0085-de71-46bf-afcc-d32d22a9adb1\"}, {\"hoverinfo\": \"text\", \"marker\": {\"color\": \"green\", \"size\": 0.5}, \"mode\": \"markers\", \"text\": \"Power BI appears with VBA 29 times\", \"x\": [0.8996046502492878], \"y\": [0.02667345590388729], \"type\": \"scatter\", \"uid\": \"60d0cc66-7d76-48f9-8bf9-0f5b8f464583\"}, {\"hoverinfo\": \"text\", \"marker\": {\"color\": \"blue\", \"size\": 0.5}, \"mode\": \"markers\", \"text\": \"VBA appears with Power BI 29 times\", \"x\": [0.8286230726777717], \"y\": [-0.35126030721681084], \"type\": \"scatter\", \"uid\": \"7cb3aa69-a6fa-4d42-8611-1b699c5516a3\"}, {\"hoverinfo\": \"text\", \"marker\": {\"color\": \"green\", \"size\": 0.5}, \"mode\": \"markers\", \"text\": \"Power BI appears with Linux 5 times\", \"x\": [0.8999998326056806], \"y\": [0.0005489168851720837], \"type\": \"scatter\", \"uid\": \"b908ede0-d70c-455a-a874-7e41833fc551\"}, {\"hoverinfo\": \"text\", \"marker\": {\"color\": \"blue\", \"size\": 0.5}, \"mode\": \"markers\", \"text\": \"Linux appears with Power BI 5 times\", \"x\": [0.8713617425258163], \"y\": [-0.22523035688461912], \"type\": \"scatter\", \"uid\": \"6b1df5cc-de25-44ca-b55f-f9fe0ce9a61e\"}, {\"hoverinfo\": \"text\", \"marker\": {\"color\": \"green\", \"size\": 0.5}, \"mode\": \"markers\", \"text\": \"Power BI appears with AWS 5 times\", \"x\": [0.8999958151451295], \"y\": [0.002744580342058975], \"type\": \"scatter\", \"uid\": \"3b7bf431-7f64-4f2a-b129-2a47586d0bcc\"}, {\"hoverinfo\": \"text\", \"marker\": {\"color\": \"blue\", \"size\": 0.5}, \"mode\": \"markers\", \"text\": \"AWS appears with Power BI 5 times\", \"x\": [0.8949059654949604], \"y\": [-0.09562067204079273], \"type\": \"scatter\", \"uid\": \"4df5e950-2d51-42a9-a165-ab2ff91398f9\"}, {\"hoverinfo\": \"text\", \"marker\": {\"color\": \"green\", \"size\": 0.5}, \"mode\": \"markers\", \"text\": \"Excel appears with SSIS/SSRS 520 times\", \"x\": [0.4470565255520564], \"y\": [0.7811148846112994], \"type\": \"scatter\", \"uid\": \"522c6402-37f8-4d38-856f-4486d470801e\"}, {\"hoverinfo\": \"text\", \"marker\": {\"color\": \"blue\", \"size\": 0.5}, \"mode\": \"markers\", \"text\": \"SSIS/SSRS appears with Excel 520 times\", \"x\": [-0.1529371251140747], \"y\": [0.8869105004237134], \"type\": \"scatter\", \"uid\": \"2c172da0-e7a3-4c27-b895-02ca91ca57da\"}, {\"hoverinfo\": \"text\", \"marker\": {\"color\": \"green\", \"size\": 0.5}, \"mode\": \"markers\", \"text\": \"Excel appears with MS SQL Server 244 times\", \"x\": [0.7079708832754121], \"y\": [0.5556772700356143], \"type\": \"scatter\", \"uid\": \"5b6b832b-650b-44f3-9e31-547af675dd63\"}, {\"hoverinfo\": \"text\", \"marker\": {\"color\": \"blue\", \"size\": 0.5}, \"mode\": \"markers\", \"text\": \"MS SQL Server appears with Excel 244 times\", \"x\": [-0.5350618158472533], \"y\": [0.7236773129111069], \"type\": \"scatter\", \"uid\": \"5dcffbb4-7d08-4931-bad1-62e3f8dc6c9f\"}, {\"hoverinfo\": \"text\", \"marker\": {\"color\": \"green\", \"size\": 0.5}, \"mode\": \"markers\", \"text\": \"Excel appears with PostgreSQL 60 times\", \"x\": [0.8474120871996277], \"y\": [0.3031381771865278], \"type\": \"scatter\", \"uid\": \"aa0550d9-5836-4e7b-9a41-b70ffd531b65\"}, {\"hoverinfo\": \"text\", \"marker\": {\"color\": \"blue\", \"size\": 0.5}, \"mode\": \"markers\", \"text\": \"PostgreSQL appears with Excel 60 times\", \"x\": [-0.6150077526023582], \"y\": [0.6570886273852231], \"type\": \"scatter\", \"uid\": \"4f31150a-1a33-47a4-ae24-56ae767e3bb9\"}, {\"hoverinfo\": \"text\", \"marker\": {\"color\": \"green\", \"size\": 0.5}, \"mode\": \"markers\", \"text\": \"Excel appears with MySQL/MariaDB 103 times\", \"x\": [0.8150908670164922], \"y\": [0.38161089935470005], \"type\": \"scatter\", \"uid\": \"05dabb89-bbef-4a62-a062-b85d6086c8dd\"}, {\"hoverinfo\": \"text\", \"marker\": {\"color\": \"blue\", \"size\": 0.5}, \"mode\": \"markers\", \"text\": \"MySQL/MariaDB appears with Excel 103 times\", \"x\": [-0.7356948442561486], \"y\": [0.518414020002277], \"type\": \"scatter\", \"uid\": \"81900e01-076a-4b89-8c68-3561710c08b8\"}, {\"hoverinfo\": \"text\", \"marker\": {\"color\": \"green\", \"size\": 0.5}, \"mode\": \"markers\", \"text\": \"Excel appears with T-SQL 170 times\", \"x\": [0.7881051254533279], \"y\": [0.4346151300106732], \"type\": \"scatter\", \"uid\": \"cf71a27c-52ce-463e-ab5e-276ca47694d4\"}, {\"hoverinfo\": \"text\", \"marker\": {\"color\": \"blue\", \"size\": 0.5}, \"mode\": \"markers\", \"text\": \"T-SQL appears with Excel 170 times\", \"x\": [-0.8506434925184503], \"y\": [0.29394837750192365], \"type\": \"scatter\", \"uid\": \"667c0b36-d8f0-45d9-bd0d-06e6946585a2\"}, {\"hoverinfo\": \"text\", \"marker\": {\"color\": \"green\", \"size\": 0.5}, \"mode\": \"markers\", \"text\": \"Excel appears with PL/SQL 52 times\", \"x\": [0.8517987772509781], \"y\": [0.2905836249235986], \"type\": \"scatter\", \"uid\": \"fdc1278e-a281-412e-977d-8a2fdab46235\"}, {\"hoverinfo\": \"text\", \"marker\": {\"color\": \"blue\", \"size\": 0.5}, \"mode\": \"markers\", \"text\": \"PL/SQL appears with Excel 52 times\", \"x\": [-0.872955946884311], \"y\": [0.21897012307462432], \"type\": \"scatter\", \"uid\": \"9346e472-1eeb-43ba-b871-29a504ad8e99\"}, {\"hoverinfo\": \"text\", \"marker\": {\"color\": \"green\", \"size\": 0.5}, \"mode\": \"markers\", \"text\": \"Excel appears with Pentaho 62 times\", \"x\": [0.8424232151639691], \"y\": [0.31673826190215953], \"type\": \"scatter\", \"uid\": \"ce218721-8c16-49ce-8d6c-968d952b9a9e\"}, {\"hoverinfo\": \"text\", \"marker\": {\"color\": \"blue\", \"size\": 0.5}, \"mode\": \"markers\", \"text\": \"Pentaho appears with Excel 62 times\", \"x\": [-0.8961304923129185], \"y\": [0.08336750414283997], \"type\": \"scatter\", \"uid\": \"6b5d81e1-19c3-4ecc-8cbe-925d5f5b5dc8\"}, {\"hoverinfo\": \"text\", \"marker\": {\"color\": \"green\", \"size\": 0.5}, \"mode\": \"markers\", \"text\": \"Excel appears with Hadoop 72 times\", \"x\": [0.8306996336441738], \"y\": [0.34632083198016766], \"type\": \"scatter\", \"uid\": \"ba76ca51-7801-4513-99a5-1f5da2ad6c7e\"}, {\"hoverinfo\": \"text\", \"marker\": {\"color\": \"blue\", \"size\": 0.5}, \"mode\": \"markers\", \"text\": \"Hadoop appears with Excel 72 times\", \"x\": [-0.8999803605253202], \"y\": [-0.005945642834438023], \"type\": \"scatter\", \"uid\": \"397aeabf-b31b-43e2-a8c9-6e7e1ccd8b2a\"}, {\"hoverinfo\": \"text\", \"marker\": {\"color\": \"green\", \"size\": 0.5}, \"mode\": \"markers\", \"text\": \"Excel appears with Spark 75 times\", \"x\": [0.8238271600661907], \"y\": [0.36236557554115845], \"type\": \"scatter\", \"uid\": \"e5def1eb-55ac-4f38-a0d1-2e4495af8f60\"}, {\"hoverinfo\": \"text\", \"marker\": {\"color\": \"blue\", \"size\": 0.5}, \"mode\": \"markers\", \"text\": \"Spark appears with Excel 75 times\", \"x\": [-0.8819634300896335], \"y\": [-0.179277739790885], \"type\": \"scatter\", \"uid\": \"fc27d64f-7197-4959-93e9-dbb8022edf65\"}, {\"hoverinfo\": \"text\", \"marker\": {\"color\": \"green\", \"size\": 0.5}, \"mode\": \"markers\", \"text\": \"Excel appears with Informatica 114 times\", \"x\": [0.8038329025343708], \"y\": [0.4047871845836635], \"type\": \"scatter\", \"uid\": \"8845376c-69ec-4559-b379-401d28f85025\"}, {\"hoverinfo\": \"text\", \"marker\": {\"color\": \"blue\", \"size\": 0.5}, \"mode\": \"markers\", \"text\": \"Informatica appears with Excel 114 times\", \"x\": [-0.8248954089579641], \"y\": [-0.35992716524329355], \"type\": \"scatter\", \"uid\": \"116dfe85-4135-4978-8cd5-016fcc82fe16\"}, {\"hoverinfo\": \"text\", \"marker\": {\"color\": \"green\", \"size\": 0.5}, \"mode\": \"markers\", \"text\": \"Excel appears with Qlik 370 times\", \"x\": [0.6085397638661124], \"y\": [0.6630832193577034], \"type\": \"scatter\", \"uid\": \"d69395fd-d819-489b-b2c7-970e2fa7dc02\"}, {\"hoverinfo\": \"text\", \"marker\": {\"color\": \"blue\", \"size\": 0.5}, \"mode\": \"markers\", \"text\": \"Qlik appears with Excel 370 times\", \"x\": [-0.5921213908851946], \"y\": [-0.677784817221648], \"type\": \"scatter\", \"uid\": \"d9f023ee-d1b9-4021-b56c-dc4e6286d17b\"}, {\"hoverinfo\": \"text\", \"marker\": {\"color\": \"green\", \"size\": 0.5}, \"mode\": \"markers\", \"text\": \"Excel appears with Tableau 399 times\", \"x\": [0.5382509667316222], \"y\": [0.7213084616254507], \"type\": \"scatter\", \"uid\": \"fed83ba1-123e-4d54-babf-255d9f9b911a\"}, {\"hoverinfo\": \"text\", \"marker\": {\"color\": \"blue\", \"size\": 0.5}, \"mode\": \"markers\", \"text\": \"Tableau appears with Excel 399 times\", \"x\": [-0.14180652063921995], \"y\": [-0.8887580720894739], \"type\": \"scatter\", \"uid\": \"714b8240-bd7c-459a-b509-8af485e2d1f9\"}, {\"hoverinfo\": \"text\", \"marker\": {\"color\": \"green\", \"size\": 0.5}, \"mode\": \"markers\", \"text\": \"Excel appears with Microstrategy 36 times\", \"x\": [0.8584587779829493], \"y\": [0.2702749091277644], \"type\": \"scatter\", \"uid\": \"b323067c-5bdd-40a9-bf37-60ab87f7fdb5\"}, {\"hoverinfo\": \"text\", \"marker\": {\"color\": \"blue\", \"size\": 0.5}, \"mode\": \"markers\", \"text\": \"Microstrategy appears with Excel 36 times\", \"x\": [-0.038457890465914614], \"y\": [-0.8991779527217689], \"type\": \"scatter\", \"uid\": \"7341c9fa-968d-40a0-9142-644b0c9d581b\"}, {\"hoverinfo\": \"text\", \"marker\": {\"color\": \"green\", \"size\": 0.5}, \"mode\": \"markers\", \"text\": \"Excel appears with Oracle BI 547 times\", \"x\": [0.33303626863977925], \"y\": [0.836114133220156], \"type\": \"scatter\", \"uid\": \"8c8d7a53-0451-4774-a2a2-38077bf85655\"}, {\"hoverinfo\": \"text\", \"marker\": {\"color\": \"blue\", \"size\": 0.5}, \"mode\": \"markers\", \"text\": \"Oracle BI appears with Excel 547 times\", \"x\": [0.5139056328258388], \"y\": [-0.7388511355813661], \"type\": \"scatter\", \"uid\": \"22ea29d9-31a1-408b-a799-59fac418b958\"}, {\"hoverinfo\": \"text\", \"marker\": {\"color\": \"green\", \"size\": 0.5}, \"mode\": \"markers\", \"text\": \"Excel appears with Python 310 times\", \"x\": [0.6655013804243566], \"y\": [0.6058943081538858], \"type\": \"scatter\", \"uid\": \"0a7a1d98-e633-40d5-804f-ba28d9485a77\"}, {\"hoverinfo\": \"text\", \"marker\": {\"color\": \"blue\", \"size\": 0.5}, \"mode\": \"markers\", \"text\": \"Python appears with Excel 310 times\", \"x\": [0.7916908820596317], \"y\": [-0.4280485337711631], \"type\": \"scatter\", \"uid\": \"e1aa78ba-32b1-4585-9041-57e3739155bb\"}, {\"hoverinfo\": \"text\", \"marker\": {\"color\": \"green\", \"size\": 0.5}, \"mode\": \"markers\", \"text\": \"Excel appears with VBA 220 times\", \"x\": [0.7406406680059054], \"y\": [0.5113231863467235], \"type\": \"scatter\", \"uid\": \"43130ae5-60d8-4649-bc27-de1e506ac379\"}, {\"hoverinfo\": \"text\", \"marker\": {\"color\": \"blue\", \"size\": 0.5}, \"mode\": \"markers\", \"text\": \"VBA appears with Excel 220 times\", \"x\": [0.8569300725152518], \"y\": [-0.27508335249339494], \"type\": \"scatter\", \"uid\": \"6b8f365a-7db7-4a26-bd52-40135283a3c6\"}, {\"hoverinfo\": \"text\", \"marker\": {\"color\": \"green\", \"size\": 0.5}, \"mode\": \"markers\", \"text\": \"Excel appears with Linux 67 times\", \"x\": [0.8369107297807342], \"y\": [0.33102934972276854], \"type\": \"scatter\", \"uid\": \"6571902c-5333-4ecd-9080-7acfd706aafd\"}, {\"hoverinfo\": \"text\", \"marker\": {\"color\": \"blue\", \"size\": 0.5}, \"mode\": \"markers\", \"text\": \"Linux appears with Excel 67 times\", \"x\": [0.8852021918771881], \"y\": [-0.16253331810992502], \"type\": \"scatter\", \"uid\": \"1dde9730-f550-43d6-afb3-9edef8b54519\"}, {\"hoverinfo\": \"text\", \"marker\": {\"color\": \"green\", \"size\": 0.5}, \"mode\": \"markers\", \"text\": \"Excel appears with AWS 46 times\", \"x\": [0.855484595813617], \"y\": [0.27954625078081863], \"type\": \"scatter\", \"uid\": \"7442b2e2-abe6-408b-ad3c-4bd7583009ba\"}, {\"hoverinfo\": \"text\", \"marker\": {\"color\": \"blue\", \"size\": 0.5}, \"mode\": \"markers\", \"text\": \"AWS appears with Excel 46 times\", \"x\": [0.8988287584902129], \"y\": [-0.045900576368303914], \"type\": \"scatter\", \"uid\": \"efe54504-7d51-4758-b1da-6df7a9b9a0a8\"}, {\"hoverinfo\": \"text\", \"marker\": {\"color\": \"green\", \"size\": 0.5}, \"mode\": \"markers\", \"text\": \"SSIS/SSRS appears with MS SQL Server 239 times\", \"x\": [-0.06593167937152651], \"y\": [0.8975817587580812], \"type\": \"scatter\", \"uid\": \"7a8cdc81-9662-408f-9f2f-de45dcb66a28\"}, {\"hoverinfo\": \"text\", \"marker\": {\"color\": \"blue\", \"size\": 0.5}, \"mode\": \"markers\", \"text\": \"MS SQL Server appears with SSIS/SSRS 239 times\", \"x\": [-0.4899543495138618], \"y\": [0.7549468427594413], \"type\": \"scatter\", \"uid\": \"51739875-c9c0-45e3-a55a-00c7ffd19c8d\"}, {\"hoverinfo\": \"text\", \"marker\": {\"color\": \"green\", \"size\": 0.5}, \"mode\": \"markers\", \"text\": \"SSIS/SSRS appears with PostgreSQL 37 times\", \"x\": [0.20463834026029165], \"y\": [0.8764263515524354], \"type\": \"scatter\", \"uid\": \"4523149e-b57f-4855-b8c0-d89e6633edad\"}, {\"hoverinfo\": \"text\", \"marker\": {\"color\": \"blue\", \"size\": 0.5}, \"mode\": \"markers\", \"text\": \"PostgreSQL appears with SSIS/SSRS 37 times\", \"x\": [-0.5977056181897192], \"y\": [0.672865509581555], \"type\": \"scatter\", \"uid\": \"4ee7ad6d-f5cc-4af3-b631-e01e5caed6b9\"}, {\"hoverinfo\": \"text\", \"marker\": {\"color\": \"green\", \"size\": 0.5}, \"mode\": \"markers\", \"text\": \"SSIS/SSRS appears with MySQL/MariaDB 62 times\", \"x\": [0.1848990854946527], \"y\": [0.8808020936528485], \"type\": \"scatter\", \"uid\": \"fb64faff-181f-4063-84f6-2d5e5073b864\"}, {\"hoverinfo\": \"text\", \"marker\": {\"color\": \"blue\", \"size\": 0.5}, \"mode\": \"markers\", \"text\": \"MySQL/MariaDB appears with SSIS/SSRS 62 times\", \"x\": [-0.7070408924692061], \"y\": [0.55686010485251], \"type\": \"scatter\", \"uid\": \"afc50332-450b-457b-8f06-cc7d2b3d5462\"}, {\"hoverinfo\": \"text\", \"marker\": {\"color\": \"green\", \"size\": 0.5}, \"mode\": \"markers\", \"text\": \"SSIS/SSRS appears with T-SQL 113 times\", \"x\": [0.09282190140808622], \"y\": [0.8952005890407957], \"type\": \"scatter\", \"uid\": \"7047b6c2-d8ab-48ec-a1cd-93e71e2833a5\"}, {\"hoverinfo\": \"text\", \"marker\": {\"color\": \"blue\", \"size\": 0.5}, \"mode\": \"markers\", \"text\": \"T-SQL appears with SSIS/SSRS 113 times\", \"x\": [-0.8155809769859681], \"y\": [0.3805623076167868], \"type\": \"scatter\", \"uid\": \"f81fe399-d910-4e0d-a162-729f2bb387bd\"}, {\"hoverinfo\": \"text\", \"marker\": {\"color\": \"green\", \"size\": 0.5}, \"mode\": \"markers\", \"text\": \"SSIS/SSRS appears with PL/SQL 30 times\", \"x\": [0.2262877681739399], \"y\": [0.8710877372428435], \"type\": \"scatter\", \"uid\": \"9b7bf1e2-d302-4fcd-973d-a659caaead62\"}, {\"hoverinfo\": \"text\", \"marker\": {\"color\": \"blue\", \"size\": 0.5}, \"mode\": \"markers\", \"text\": \"PL/SQL appears with SSIS/SSRS 30 times\", \"x\": [-0.8702081272043438], \"y\": [0.22964715401569546], \"type\": \"scatter\", \"uid\": \"ea406209-692e-4056-969c-a00e89739e49\"}, {\"hoverinfo\": \"text\", \"marker\": {\"color\": \"green\", \"size\": 0.5}, \"mode\": \"markers\", \"text\": \"SSIS/SSRS appears with Pentaho 32 times\", \"x\": [0.21239340992219433], \"y\": [0.8745793499858219], \"type\": \"scatter\", \"uid\": \"5180423b-fe5b-427a-8621-01170f7396af\"}, {\"hoverinfo\": \"text\", \"marker\": {\"color\": \"blue\", \"size\": 0.5}, \"mode\": \"markers\", \"text\": \"Pentaho appears with SSIS/SSRS 32 times\", \"x\": [-0.8866954798046414], \"y\": [0.1541788769384991], \"type\": \"scatter\", \"uid\": \"70c38c6c-8762-4a81-af2f-aefb396b9500\"}, {\"hoverinfo\": \"text\", \"marker\": {\"color\": \"green\", \"size\": 0.5}, \"mode\": \"markers\", \"text\": \"SSIS/SSRS appears with Hadoop 31 times\", \"x\": [0.21945958732303134], \"y\": [0.8728330250007758], \"type\": \"scatter\", \"uid\": \"359b43f8-14ec-4431-b75d-ef59548f5c4f\"}, {\"hoverinfo\": \"text\", \"marker\": {\"color\": \"blue\", \"size\": 0.5}, \"mode\": \"markers\", \"text\": \"Hadoop appears with SSIS/SSRS 31 times\", \"x\": [-0.8996076679517926], \"y\": [0.02657148400705576], \"type\": \"scatter\", \"uid\": \"f8356c3a-73e3-4c28-a60f-de6957e9dbe9\"}, {\"hoverinfo\": \"text\", \"marker\": {\"color\": \"green\", \"size\": 0.5}, \"mode\": \"markers\", \"text\": \"SSIS/SSRS appears with Spark 38 times\", \"x\": [0.19619072589537995], \"y\": [0.8783559637599349], \"type\": \"scatter\", \"uid\": \"729e3032-d667-43df-9bb3-463181fc2a81\"}, {\"hoverinfo\": \"text\", \"marker\": {\"color\": \"blue\", \"size\": 0.5}, \"mode\": \"markers\", \"text\": \"Spark appears with SSIS/SSRS 38 times\", \"x\": [-0.8877934525160015], \"y\": [-0.14772537246430725], \"type\": \"scatter\", \"uid\": \"03741baa-2a6a-402f-918a-46f8340c5a50\"}, {\"hoverinfo\": \"text\", \"marker\": {\"color\": \"green\", \"size\": 0.5}, \"mode\": \"markers\", \"text\": \"SSIS/SSRS appears with Informatica 65 times\", \"x\": [0.1705150222600729], \"y\": [0.8836993986552479], \"type\": \"scatter\", \"uid\": \"82700c15-c62c-4737-852f-0c7c500b4e34\"}, {\"hoverinfo\": \"text\", \"marker\": {\"color\": \"blue\", \"size\": 0.5}, \"mode\": \"markers\", \"text\": \"Informatica appears with SSIS/SSRS 65 times\", \"x\": [-0.8437951394564541], \"y\": [-0.31306510924991815], \"type\": \"scatter\", \"uid\": \"25fefbf3-30f2-442e-af33-b8d056f876a4\"}, {\"hoverinfo\": \"text\", \"marker\": {\"color\": \"green\", \"size\": 0.5}, \"mode\": \"markers\", \"text\": \"SSIS/SSRS appears with Qlik 73 times\", \"x\": [0.13956063936257176], \"y\": [0.8891135067811704], \"type\": \"scatter\", \"uid\": \"94d6e30b-e015-433f-8726-abe897aa3f35\"}, {\"hoverinfo\": \"text\", \"marker\": {\"color\": \"blue\", \"size\": 0.5}, \"mode\": \"markers\", \"text\": \"Qlik appears with SSIS/SSRS 73 times\", \"x\": [-0.7539161728018842], \"y\": [-0.4915388126971863], \"type\": \"scatter\", \"uid\": \"d081442e-3032-4c9d-ad10-f3aa2337bd56\"}, {\"hoverinfo\": \"text\", \"marker\": {\"color\": \"green\", \"size\": 0.5}, \"mode\": \"markers\", \"text\": \"SSIS/SSRS appears with Tableau 136 times\", \"x\": [0.06416421447309863], \"y\": [0.8977098381888494], \"type\": \"scatter\", \"uid\": \"c8227146-040a-4471-8ee1-7da953086040\"}, {\"hoverinfo\": \"text\", \"marker\": {\"color\": \"blue\", \"size\": 0.5}, \"mode\": \"markers\", \"text\": \"Tableau appears with SSIS/SSRS 136 times\", \"x\": [-0.38844461712721906], \"y\": [-0.8118563785700573], \"type\": \"scatter\", \"uid\": \"8fe65f20-484e-40ca-b7d4-15d9aaf71a33\"}, {\"hoverinfo\": \"text\", \"marker\": {\"color\": \"green\", \"size\": 0.5}, \"mode\": \"markers\", \"text\": \"SSIS/SSRS appears with Microstrategy 25 times\", \"x\": [0.2384541201720734], \"y\": [0.8678361784190392], \"type\": \"scatter\", \"uid\": \"ee6edc68-454f-4596-8e48-bdcb3448ca6d\"}, {\"hoverinfo\": \"text\", \"marker\": {\"color\": \"blue\", \"size\": 0.5}, \"mode\": \"markers\", \"text\": \"Microstrategy appears with SSIS/SSRS 25 times\", \"x\": [-0.047882578690670176], \"y\": [-0.8987253521838202], \"type\": \"scatter\", \"uid\": \"aa89674b-782a-40c0-9d56-59f1ecc6063b\"}, {\"hoverinfo\": \"text\", \"marker\": {\"color\": \"green\", \"size\": 0.5}, \"mode\": \"markers\", \"text\": \"SSIS/SSRS appears with Oracle BI 232 times\", \"x\": [-0.011572845140238], \"y\": [0.8999255909548078], \"type\": \"scatter\", \"uid\": \"157c5dd0-9fd3-4776-ae0f-9c3a39b02733\"}, {\"hoverinfo\": \"text\", \"marker\": {\"color\": \"blue\", \"size\": 0.5}, \"mode\": \"markers\", \"text\": \"Oracle BI appears with SSIS/SSRS 232 times\", \"x\": [0.2915424370897071], \"y\": [-0.8514710842863628], \"type\": \"scatter\", \"uid\": \"ef4b5afc-f866-44a1-b1f2-1861d750df32\"}, {\"hoverinfo\": \"text\", \"marker\": {\"color\": \"green\", \"size\": 0.5}, \"mode\": \"markers\", \"text\": \"SSIS/SSRS appears with Python 144 times\", \"x\": [0.031861851780850936], \"y\": [0.8994358356220276], \"type\": \"scatter\", \"uid\": \"93b58cf9-3893-4e5b-978b-1691c928d6f8\"}, {\"hoverinfo\": \"text\", \"marker\": {\"color\": \"blue\", \"size\": 0.5}, \"mode\": \"markers\", \"text\": \"Python appears with SSIS/SSRS 144 times\", \"x\": [0.7658360861524124], \"y\": [-0.4727526722788089], \"type\": \"scatter\", \"uid\": \"8a27df7c-8dcf-44e9-955c-b2b6c20b5758\"}, {\"hoverinfo\": \"text\", \"marker\": {\"color\": \"green\", \"size\": 0.5}, \"mode\": \"markers\", \"text\": \"SSIS/SSRS appears with VBA 67 times\", \"x\": [0.15551667658537416], \"y\": [0.8864618228123758], \"type\": \"scatter\", \"uid\": \"db315052-174b-4898-b794-92f18f118cc7\"}, {\"hoverinfo\": \"text\", \"marker\": {\"color\": \"blue\", \"size\": 0.5}, \"mode\": \"markers\", \"text\": \"VBA appears with SSIS/SSRS 67 times\", \"x\": [0.8477245039526858], \"y\": [-0.3022634040008361], \"type\": \"scatter\", \"uid\": \"6b630135-99d9-428a-ad3e-8d9bcbc57b57\"}, {\"hoverinfo\": \"text\", \"marker\": {\"color\": \"green\", \"size\": 0.5}, \"mode\": \"markers\", \"text\": \"SSIS/SSRS appears with Linux 16 times\", \"x\": [0.2430184987590092], \"y\": [0.8665691024153339], \"type\": \"scatter\", \"uid\": \"bc0e508f-1476-482c-ba4f-86558d45db39\"}, {\"hoverinfo\": \"text\", \"marker\": {\"color\": \"blue\", \"size\": 0.5}, \"mode\": \"markers\", \"text\": \"Linux appears with SSIS/SSRS 16 times\", \"x\": [0.8730915461934354], \"y\": [-0.21842882585766032], \"type\": \"scatter\", \"uid\": \"838d3d33-7aaa-4ad7-a85d-69e3b5c3617a\"}, {\"hoverinfo\": \"text\", \"marker\": {\"color\": \"green\", \"size\": 0.5}, \"mode\": \"markers\", \"text\": \"SSIS/SSRS appears with AWS 27 times\", \"x\": [0.23265566654765582], \"y\": [0.8694086155676547], \"type\": \"scatter\", \"uid\": \"f3513a57-1f8f-4b40-be04-0f2be08199ee\"}, {\"hoverinfo\": \"text\", \"marker\": {\"color\": \"blue\", \"size\": 0.5}, \"mode\": \"markers\", \"text\": \"AWS appears with SSIS/SSRS 27 times\", \"x\": [0.8964088131400726], \"y\": [-0.08031960983972976], \"type\": \"scatter\", \"uid\": \"c846bf53-8bb1-4796-ac39-bef6b1f4cea9\"}, {\"hoverinfo\": \"text\", \"marker\": {\"color\": \"green\", \"size\": 0.5}, \"mode\": \"markers\", \"text\": \"MS SQL Server appears with PostgreSQL 64 times\", \"x\": [-0.3167090019492139], \"y\": [0.842434215879396], \"type\": \"scatter\", \"uid\": \"e24f1e7e-dff1-4f2b-9e62-9f7718185416\"}, {\"hoverinfo\": \"text\", \"marker\": {\"color\": \"blue\", \"size\": 0.5}, \"mode\": \"markers\", \"text\": \"PostgreSQL appears with MS SQL Server 64 times\", \"x\": [-0.623144748114608], \"y\": [0.6493771037672808], \"type\": \"scatter\", \"uid\": \"986fb357-8b18-41a5-9c2a-20e5be1f7373\"}, {\"hoverinfo\": \"text\", \"marker\": {\"color\": \"green\", \"size\": 0.5}, \"mode\": \"markers\", \"text\": \"MS SQL Server appears with MySQL/MariaDB 75 times\", \"x\": [-0.33144677849876036], \"y\": [0.8367455007484615], \"type\": \"scatter\", \"uid\": \"4213b1cc-4de4-4d60-a83c-5e86e9e88425\"}, {\"hoverinfo\": \"text\", \"marker\": {\"color\": \"blue\", \"size\": 0.5}, \"mode\": \"markers\", \"text\": \"MySQL/MariaDB appears with MS SQL Server 75 times\", \"x\": [-0.7155504059609602], \"y\": [0.5458824200586652], \"type\": \"scatter\", \"uid\": \"bf1985d4-af0e-4f4a-9837-e4060990e08c\"}, {\"hoverinfo\": \"text\", \"marker\": {\"color\": \"green\", \"size\": 0.5}, \"mode\": \"markers\", \"text\": \"MS SQL Server appears with T-SQL 158 times\", \"x\": [-0.45150636749367845], \"y\": [0.7785512186829222], \"type\": \"scatter\", \"uid\": \"926f4cab-613b-4978-9a5b-ae5d5b51f83d\"}, {\"hoverinfo\": \"text\", \"marker\": {\"color\": \"blue\", \"size\": 0.5}, \"mode\": \"markers\", \"text\": \"T-SQL appears with MS SQL Server 158 times\", \"x\": [-0.838258232677908], \"y\": [0.32760209911981664], \"type\": \"scatter\", \"uid\": \"7fc64ac6-e822-4be3-b2e6-d0cc243c103b\"}, {\"hoverinfo\": \"text\", \"marker\": {\"color\": \"green\", \"size\": 0.5}, \"mode\": \"markers\", \"text\": \"MS SQL Server appears with PL/SQL 10 times\", \"x\": [-0.2421956221681435], \"y\": [0.8667994465864558], \"type\": \"scatter\", \"uid\": \"75e27dcc-2b2e-49c6-8784-42ec8cf69624\"}, {\"hoverinfo\": \"text\", \"marker\": {\"color\": \"blue\", \"size\": 0.5}, \"mode\": \"markers\", \"text\": \"PL/SQL appears with MS SQL Server 10 times\", \"x\": [-0.86621674283689], \"y\": [0.24427147690438453], \"type\": \"scatter\", \"uid\": \"3a9782cd-24b5-4b81-bdfb-b2085f8a81b7\"}, {\"hoverinfo\": \"text\", \"marker\": {\"color\": \"green\", \"size\": 0.5}, \"mode\": \"markers\", \"text\": \"MS SQL Server appears with Pentaho 44 times\", \"x\": [-0.27095326315325335], \"y\": [0.8582449121239251], \"type\": \"scatter\", \"uid\": \"545bcb71-7631-4a77-aba8-ff55ab2f47de\"}, {\"hoverinfo\": \"text\", \"marker\": {\"color\": \"blue\", \"size\": 0.5}, \"mode\": \"markers\", \"text\": \"Pentaho appears with MS SQL Server 44 times\", \"x\": [-0.8938507232056773], \"y\": [0.10502801828411179], \"type\": \"scatter\", \"uid\": \"0dea613e-8a6b-4dbf-9476-174969794bd6\"}, {\"hoverinfo\": \"text\", \"marker\": {\"color\": \"green\", \"size\": 0.5}, \"mode\": \"markers\", \"text\": \"MS SQL Server appears with Hadoop 28 times\", \"x\": [-0.25552053328605856], \"y\": [0.8629653857885657], \"type\": \"scatter\", \"uid\": \"362f96bd-d136-471f-86d0-a261a1fc6a84\"}, {\"hoverinfo\": \"text\", \"marker\": {\"color\": \"blue\", \"size\": 0.5}, \"mode\": \"markers\", \"text\": \"Hadoop appears with MS SQL Server 28 times\", \"x\": [-0.8994140102216228], \"y\": [0.032472114453152935], \"type\": \"scatter\", \"uid\": \"87ed8144-d75c-4982-8328-e484bdcea9ae\"}, {\"hoverinfo\": \"text\", \"marker\": {\"color\": \"green\", \"size\": 0.5}, \"mode\": \"markers\", \"text\": \"MS SQL Server appears with Spark 25 times\", \"x\": [-0.24973910751487285], \"y\": [0.8646562196489855], \"type\": \"scatter\", \"uid\": \"3a17be0b-35b0-4145-a302-80daea55c701\"}, {\"hoverinfo\": \"text\", \"marker\": {\"color\": \"blue\", \"size\": 0.5}, \"mode\": \"markers\", \"text\": \"Spark appears with MS SQL Server 25 times\", \"x\": [-0.8914710384394208], \"y\": [-0.12360982009428212], \"type\": \"scatter\", \"uid\": \"b1b531e2-b875-49dd-b682-ba1dc7328dcb\"}, {\"hoverinfo\": \"text\", \"marker\": {\"color\": \"green\", \"size\": 0.5}, \"mode\": \"markers\", \"text\": \"MS SQL Server appears with Informatica 57 times\", \"x\": [-0.2913580126187156], \"y\": [0.8515342086392492], \"type\": \"scatter\", \"uid\": \"a42a428f-8fba-4660-91fa-3cd1f650d80c\"}, {\"hoverinfo\": \"text\", \"marker\": {\"color\": \"blue\", \"size\": 0.5}, \"mode\": \"markers\", \"text\": \"Informatica appears with MS SQL Server 57 times\", \"x\": [-0.8480468182540583], \"y\": [-0.3013579168516538], \"type\": \"scatter\", \"uid\": \"d72665ae-f86e-4d24-9536-ec9c2deb191c\"}, {\"hoverinfo\": \"text\", \"marker\": {\"color\": \"green\", \"size\": 0.5}, \"mode\": \"markers\", \"text\": \"MS SQL Server appears with Qlik 58 times\", \"x\": [-0.3036931263759553], \"y\": [0.8472133645027078], \"type\": \"scatter\", \"uid\": \"4b0d1151-1715-4bd7-acc8-b1d7384f35ed\"}, {\"hoverinfo\": \"text\", \"marker\": {\"color\": \"blue\", \"size\": 0.5}, \"mode\": \"markers\", \"text\": \"Qlik appears with MS SQL Server 58 times\", \"x\": [-0.7701053194112798], \"y\": [-0.46576581778233883], \"type\": \"scatter\", \"uid\": \"72cc3a96-a94d-4015-9d63-459e1c8fb89b\"}, {\"hoverinfo\": \"text\", \"marker\": {\"color\": \"green\", \"size\": 0.5}, \"mode\": \"markers\", \"text\": \"MS SQL Server appears with Tableau 93 times\", \"x\": [-0.34912262314090603], \"y\": [0.8295260056268356], \"type\": \"scatter\", \"uid\": \"83dc8026-46ac-4b02-a48e-78caa77c3200\"}, {\"hoverinfo\": \"text\", \"marker\": {\"color\": \"blue\", \"size\": 0.5}, \"mode\": \"markers\", \"text\": \"Tableau appears with MS SQL Server 93 times\", \"x\": [-0.4356804311055562], \"y\": [-0.7875167058238681], \"type\": \"scatter\", \"uid\": \"753f3e74-596b-4bb9-8891-b6d425efe921\"}, {\"hoverinfo\": \"text\", \"marker\": {\"color\": \"green\", \"size\": 0.5}, \"mode\": \"markers\", \"text\": \"MS SQL Server appears with Microstrategy 17 times\", \"x\": [-0.24514964234576794], \"y\": [0.8659686211738519], \"type\": \"scatter\", \"uid\": \"4bb013b9-00bb-40a9-9247-f061aabff941\"}, {\"hoverinfo\": \"text\", \"marker\": {\"color\": \"blue\", \"size\": 0.5}, \"mode\": \"markers\", \"text\": \"Microstrategy appears with MS SQL Server 17 times\", \"x\": [-0.05737856027879425], \"y\": [-0.8981690825342035], \"type\": \"scatter\", \"uid\": \"8c9e39b4-799d-4bc0-af39-4690f2a5b4ac\"}, {\"hoverinfo\": \"text\", \"marker\": {\"color\": \"green\", \"size\": 0.5}, \"mode\": \"markers\", \"text\": \"MS SQL Server appears with Oracle BI 155 times\", \"x\": [-0.42038869288283737], \"y\": [0.7957847365313433], \"type\": \"scatter\", \"uid\": \"95d21624-4310-422c-a530-1b8f17d5a951\"}, {\"hoverinfo\": \"text\", \"marker\": {\"color\": \"blue\", \"size\": 0.5}, \"mode\": \"markers\", \"text\": \"Oracle BI appears with MS SQL Server 155 times\", \"x\": [0.2483079879138665], \"y\": [-0.8650682881357791], \"type\": \"scatter\", \"uid\": \"f37f8bd0-8f0e-466d-8359-be05d7db79d9\"}, {\"hoverinfo\": \"text\", \"marker\": {\"color\": \"green\", \"size\": 0.5}, \"mode\": \"markers\", \"text\": \"MS SQL Server appears with Python 106 times\", \"x\": [-0.36985615748236933], \"y\": [0.8204915738582431], \"type\": \"scatter\", \"uid\": \"5670226d-d1dc-4f71-a7ad-f74198e277c6\"}, {\"hoverinfo\": \"text\", \"marker\": {\"color\": \"blue\", \"size\": 0.5}, \"mode\": \"markers\", \"text\": \"Python appears with MS SQL Server 106 times\", \"x\": [0.6804208719314141], \"y\": [-0.589090347094649], \"type\": \"scatter\", \"uid\": \"d35479d9-ed2e-49ed-9a7e-75f08d0a7a12\"}, {\"hoverinfo\": \"text\", \"marker\": {\"color\": \"green\", \"size\": 0.5}, \"mode\": \"markers\", \"text\": \"MS SQL Server appears with VBA 35 times\", \"x\": [-0.26237788378742344], \"y\": [0.8609052480379205], \"type\": \"scatter\", \"uid\": \"ee400750-3cc9-4aed-80a7-f9929347e2bd\"}, {\"hoverinfo\": \"text\", \"marker\": {\"color\": \"blue\", \"size\": 0.5}, \"mode\": \"markers\", \"text\": \"VBA appears with MS SQL Server 35 times\", \"x\": [0.8310997692508568], \"y\": [-0.34535948452470877], \"type\": \"scatter\", \"uid\": \"5dff11e6-7313-4e25-872c-39eef75422c9\"}, {\"hoverinfo\": \"text\", \"marker\": {\"color\": \"green\", \"size\": 0.5}, \"mode\": \"markers\", \"text\": \"MS SQL Server appears with Linux 44 times\", \"x\": [-0.2804737968550096], \"y\": [0.8551809453429928], \"type\": \"scatter\", \"uid\": \"6d672d10-d920-4f7c-bc54-943f82b19458\"}, {\"hoverinfo\": \"text\", \"marker\": {\"color\": \"blue\", \"size\": 0.5}, \"mode\": \"markers\", \"text\": \"Linux appears with MS SQL Server 44 times\", \"x\": [0.8810012260770393], \"y\": [-0.18394792646494676], \"type\": \"scatter\", \"uid\": \"98d7de4f-6218-4e25-ab2e-f662690c3448\"}, {\"hoverinfo\": \"text\", \"marker\": {\"color\": \"green\", \"size\": 0.5}, \"mode\": \"markers\", \"text\": \"MS SQL Server appears with AWS 9 times\", \"x\": [-0.24011517737833932], \"y\": [0.8673780615121464], \"type\": \"scatter\", \"uid\": \"e95cda6a-e4dd-4cb3-bfb6-d002f983b1c8\"}, {\"hoverinfo\": \"text\", \"marker\": {\"color\": \"blue\", \"size\": 0.5}, \"mode\": \"markers\", \"text\": \"AWS appears with MS SQL Server 9 times\", \"x\": [0.8951806096836218], \"y\": [-0.09301438623384703], \"type\": \"scatter\", \"uid\": \"532a93a7-e51e-45ed-aa41-5da83e6d2249\"}, {\"hoverinfo\": \"text\", \"marker\": {\"color\": \"green\", \"size\": 0.5}, \"mode\": \"markers\", \"text\": \"PostgreSQL appears with MySQL/MariaDB 79 times\", \"x\": [-0.6324084186580757], \"y\": [0.6403589555947445], \"type\": \"scatter\", \"uid\": \"0d7fae5f-cde7-410f-b122-2e8eb53e3103\"}, {\"hoverinfo\": \"text\", \"marker\": {\"color\": \"blue\", \"size\": 0.5}, \"mode\": \"markers\", \"text\": \"MySQL/MariaDB appears with PostgreSQL 79 times\", \"x\": [-0.7249122863782393], \"y\": [0.5333874549123493], \"type\": \"scatter\", \"uid\": \"bc7e590a-f1a5-439a-a25e-44eb441a741f\"}, {\"hoverinfo\": \"text\", \"marker\": {\"color\": \"green\", \"size\": 0.5}, \"mode\": \"markers\", \"text\": \"PostgreSQL appears with T-SQL 30 times\", \"x\": [-0.5882523320034135], \"y\": [0.6811455012642642], \"type\": \"scatter\", \"uid\": \"09475ddc-e885-4b7a-b205-e4a488a8683e\"}, {\"hoverinfo\": \"text\", \"marker\": {\"color\": \"blue\", \"size\": 0.5}, \"mode\": \"markers\", \"text\": \"T-SQL appears with PostgreSQL 30 times\", \"x\": [-0.7720642866141766], \"y\": [0.46251133752043594], \"type\": \"scatter\", \"uid\": \"ba76f4a0-43bf-4035-8b9d-b6dc061c3a15\"}, {\"hoverinfo\": \"text\", \"marker\": {\"color\": \"green\", \"size\": 0.5}, \"mode\": \"markers\", \"text\": \"PostgreSQL appears with Pentaho 43 times\", \"x\": [-0.6081761906530933], \"y\": [0.6634167024749169], \"type\": \"scatter\", \"uid\": \"c252a7bc-5d3b-4834-b52e-a35df5b556b7\"}, {\"hoverinfo\": \"text\", \"marker\": {\"color\": \"blue\", \"size\": 0.5}, \"mode\": \"markers\", \"text\": \"Pentaho appears with PostgreSQL 43 times\", \"x\": [-0.8928427437678126], \"y\": [0.11327768933538591], \"type\": \"scatter\", \"uid\": \"c85cb5b2-33eb-4cc1-a99c-946916aa8979\"}, {\"hoverinfo\": \"text\", \"marker\": {\"color\": \"green\", \"size\": 0.5}, \"mode\": \"markers\", \"text\": \"PostgreSQL appears with Hadoop 3 times\", \"x\": [-0.5792381089776388], \"y\": [0.6888274189577597], \"type\": \"scatter\", \"uid\": \"3dae5c67-339a-4808-8e07-e075e6ab79b3\"}, {\"hoverinfo\": \"text\", \"marker\": {\"color\": \"blue\", \"size\": 0.5}, \"mode\": \"markers\", \"text\": \"Hadoop appears with PostgreSQL 3 times\", \"x\": [-0.8986994582424758], \"y\": [0.048366142648350534], \"type\": \"scatter\", \"uid\": \"3f1abca4-8195-4094-9dd9-edd84c61d45d\"}, {\"hoverinfo\": \"text\", \"marker\": {\"color\": \"green\", \"size\": 0.5}, \"mode\": \"markers\", \"text\": \"PostgreSQL appears with Spark 6 times\", \"x\": [-0.5798606335620015], \"y\": [0.6883034546223593], \"type\": \"scatter\", \"uid\": \"5ad6d07b-34b0-4191-bbf9-62bd400b2a4f\"}, {\"hoverinfo\": \"text\", \"marker\": {\"color\": \"blue\", \"size\": 0.5}, \"mode\": \"markers\", \"text\": \"Spark appears with PostgreSQL 6 times\", \"x\": [-0.8936594001508616], \"y\": [-0.10664368955546376], \"type\": \"scatter\", \"uid\": \"563ffe29-9528-4272-b55d-0e6ada55bb4d\"}, {\"hoverinfo\": \"text\", \"marker\": {\"color\": \"green\", \"size\": 0.5}, \"mode\": \"markers\", \"text\": \"PostgreSQL appears with Qlik 14 times\", \"x\": [-0.5820702122697241], \"y\": [0.6864359168839276], \"type\": \"scatter\", \"uid\": \"63b88c2b-50f5-49ce-8022-cdbea9b42295\"}, {\"hoverinfo\": \"text\", \"marker\": {\"color\": \"blue\", \"size\": 0.5}, \"mode\": \"markers\", \"text\": \"Qlik appears with PostgreSQL 14 times\", \"x\": [-0.7944260433946461], \"y\": [-0.4229506609243304], \"type\": \"scatter\", \"uid\": \"1f760f81-f8b8-462f-9258-c3387bfe19f6\"}, {\"hoverinfo\": \"text\", \"marker\": {\"color\": \"green\", \"size\": 0.5}, \"mode\": \"markers\", \"text\": \"PostgreSQL appears with Tableau 6 times\", \"x\": [-0.580689928974642], \"y\": [0.687603960421568], \"type\": \"scatter\", \"uid\": \"3548eb88-96a5-4207-95ab-cd66e6076249\"}, {\"hoverinfo\": \"text\", \"marker\": {\"color\": \"blue\", \"size\": 0.5}, \"mode\": \"markers\", \"text\": \"Tableau appears with PostgreSQL 6 times\", \"x\": [-0.536746817906809], \"y\": [-0.7224284417621685], \"type\": \"scatter\", \"uid\": \"dad4dbef-fc3c-4df1-98ab-f83f9974a1d3\"}, {\"hoverinfo\": \"text\", \"marker\": {\"color\": \"green\", \"size\": 0.5}, \"mode\": \"markers\", \"text\": \"PostgreSQL appears with Oracle BI 38 times\", \"x\": [-0.6027580268044074], \"y\": [0.668343295861384], \"type\": \"scatter\", \"uid\": \"4cb3bb1e-6fb5-4042-beb3-bdeeaf8b7bf8\"}, {\"hoverinfo\": \"text\", \"marker\": {\"color\": \"blue\", \"size\": 0.5}, \"mode\": \"markers\", \"text\": \"Oracle BI appears with PostgreSQL 38 times\", \"x\": [0.027742878052913644], \"y\": [-0.8995723054415032], \"type\": \"scatter\", \"uid\": \"dd00e98e-caa6-4b53-9aa0-de400d80a3fb\"}, {\"hoverinfo\": \"text\", \"marker\": {\"color\": \"green\", \"size\": 0.5}, \"mode\": \"markers\", \"text\": \"PostgreSQL appears with Python 23 times\", \"x\": [-0.5846175383805279], \"y\": [0.6842677354792436], \"type\": \"scatter\", \"uid\": \"8de22516-4191-4a84-bab9-a2c25c1439ee\"}, {\"hoverinfo\": \"text\", \"marker\": {\"color\": \"blue\", \"size\": 0.5}, \"mode\": \"markers\", \"text\": \"Python appears with PostgreSQL 23 times\", \"x\": [0.5919496172858365], \"y\": [-0.6779348424407406], \"type\": \"scatter\", \"uid\": \"e736f7fe-4699-45f0-b67f-e6d0c50b6f3b\"}, {\"hoverinfo\": \"text\", \"marker\": {\"color\": \"green\", \"size\": 0.5}, \"mode\": \"markers\", \"text\": \"PostgreSQL appears with Linux 36 times\", \"x\": [-0.5927553560393988], \"y\": [0.6772304540454495], \"type\": \"scatter\", \"uid\": \"d376f3eb-b798-4c53-945b-f99a338ab92e\"}, {\"hoverinfo\": \"text\", \"marker\": {\"color\": \"blue\", \"size\": 0.5}, \"mode\": \"markers\", \"text\": \"Linux appears with PostgreSQL 36 times\", \"x\": [0.8778137585717452], \"y\": [-0.19860263155896477], \"type\": \"scatter\", \"uid\": \"26638bad-3218-498f-8414-cd799dbfee42\"}, {\"hoverinfo\": \"text\", \"marker\": {\"color\": \"green\", \"size\": 0.5}, \"mode\": \"markers\", \"text\": \"MySQL/MariaDB appears with T-SQL 37 times\", \"x\": [-0.6678848996981862], \"y\": [0.6032659121441751], \"type\": \"scatter\", \"uid\": \"0f6eab35-196e-4089-90e9-2edc1b646e61\"}, {\"hoverinfo\": \"text\", \"marker\": {\"color\": \"blue\", \"size\": 0.5}, \"mode\": \"markers\", \"text\": \"T-SQL appears with MySQL/MariaDB 37 times\", \"x\": [-0.7792175367132441], \"y\": [0.45035544903836133], \"type\": \"scatter\", \"uid\": \"9e20d9c9-f43f-4481-ba6b-0cac3410c098\"}, {\"hoverinfo\": \"text\", \"marker\": {\"color\": \"green\", \"size\": 0.5}, \"mode\": \"markers\", \"text\": \"MySQL/MariaDB appears with Pentaho 61 times\", \"x\": [-0.6914046481800346], \"y\": [0.5761593637831834], \"type\": \"scatter\", \"uid\": \"4f378914-4c69-41b7-a03f-0f227f106e4f\"}, {\"hoverinfo\": \"text\", \"marker\": {\"color\": \"blue\", \"size\": 0.5}, \"mode\": \"markers\", \"text\": \"Pentaho appears with MySQL/MariaDB 61 times\", \"x\": [-0.8949657322083655], \"y\": [0.09505965586274852], \"type\": \"scatter\", \"uid\": \"7b4d2163-c352-4332-acce-59cd445dddb0\"}, {\"hoverinfo\": \"text\", \"marker\": {\"color\": \"green\", \"size\": 0.5}, \"mode\": \"markers\", \"text\": \"MySQL/MariaDB appears with Hadoop 4 times\", \"x\": [-0.6573886508841954], \"y\": [0.6146870436967559], \"type\": \"scatter\", \"uid\": \"f663ad39-710f-41d6-8ca4-9d83c3107d8c\"}, {\"hoverinfo\": \"text\", \"marker\": {\"color\": \"blue\", \"size\": 0.5}, \"mode\": \"markers\", \"text\": \"Hadoop appears with MySQL/MariaDB 4 times\", \"x\": [-0.8987684268885134], \"y\": [0.047067131082602645], \"type\": \"scatter\", \"uid\": \"c0d52643-7c1c-40b5-b966-928c50d75a18\"}, {\"hoverinfo\": \"text\", \"marker\": {\"color\": \"green\", \"size\": 0.5}, \"mode\": \"markers\", \"text\": \"MySQL/MariaDB appears with Spark 21 times\", \"x\": [-0.6639291115343122], \"y\": [0.607616766438566], \"type\": \"scatter\", \"uid\": \"93938e4b-7f5d-4fc8-bcf4-16b5ef6395b1\"}, {\"hoverinfo\": \"text\", \"marker\": {\"color\": \"blue\", \"size\": 0.5}, \"mode\": \"markers\", \"text\": \"Spark appears with MySQL/MariaDB 21 times\", \"x\": [-0.8920986241687603], \"y\": [-0.11899598630292145], \"type\": \"scatter\", \"uid\": \"8603bd7c-a387-4a5e-b02a-52ee3f4bf442\"}, {\"hoverinfo\": \"text\", \"marker\": {\"color\": \"green\", \"size\": 0.5}, \"mode\": \"markers\", \"text\": \"MySQL/MariaDB appears with Informatica 8 times\", \"x\": [-0.6596001998224309], \"y\": [0.6123132992138985], \"type\": \"scatter\", \"uid\": \"b18bcae1-c215-4700-9af8-24818bf49215\"}, {\"hoverinfo\": \"text\", \"marker\": {\"color\": \"blue\", \"size\": 0.5}, \"mode\": \"markers\", \"text\": \"Informatica appears with MySQL/MariaDB 8 times\", \"x\": [-0.8596732681413438], \"y\": [-0.2663866964455641], \"type\": \"scatter\", \"uid\": \"b011bedd-0bdc-424a-95c9-8769d586c7f4\"}, {\"hoverinfo\": \"text\", \"marker\": {\"color\": \"green\", \"size\": 0.5}, \"mode\": \"markers\", \"text\": \"MySQL/MariaDB appears with Qlik 17 times\", \"x\": [-0.6613220100167032], \"y\": [0.610453273451349], \"type\": \"scatter\", \"uid\": \"4a2b7b6d-61aa-460c-a72d-b0bdf6bcf13c\"}, {\"hoverinfo\": \"text\", \"marker\": {\"color\": \"blue\", \"size\": 0.5}, \"mode\": \"markers\", \"text\": \"Qlik appears with MySQL/MariaDB 17 times\", \"x\": [-0.7896077257481471], \"y\": [-0.43187919542256126], \"type\": \"scatter\", \"uid\": \"0b194ec6-039f-44c4-b16d-bc10d7e586cf\"}, {\"hoverinfo\": \"text\", \"marker\": {\"color\": \"green\", \"size\": 0.5}, \"mode\": \"markers\", \"text\": \"MySQL/MariaDB appears with Tableau 41 times\", \"x\": [-0.6782493976994342], \"y\": [0.5915891771494427], \"type\": \"scatter\", \"uid\": \"5ec96f03-db73-43eb-b89f-81c6a6aa03b3\"}, {\"hoverinfo\": \"text\", \"marker\": {\"color\": \"blue\", \"size\": 0.5}, \"mode\": \"markers\", \"text\": \"Tableau appears with MySQL/MariaDB 41 times\", \"x\": [-0.5005133602601316], \"y\": [-0.7479882192929991], \"type\": \"scatter\", \"uid\": \"0c28c5ad-40e4-46a8-81c3-b4e7a4bebb12\"}, {\"hoverinfo\": \"text\", \"marker\": {\"color\": \"green\", \"size\": 0.5}, \"mode\": \"markers\", \"text\": \"MySQL/MariaDB appears with Oracle BI 61 times\", \"x\": [-0.6992574392244244], \"y\": [0.566603065372312], \"type\": \"scatter\", \"uid\": \"e4d16143-4161-4726-9b80-956228a9ef1d\"}, {\"hoverinfo\": \"text\", \"marker\": {\"color\": \"blue\", \"size\": 0.5}, \"mode\": \"markers\", \"text\": \"Oracle BI appears with MySQL/MariaDB 61 times\", \"x\": [0.07089251317234832], \"y\": [-0.8972035730959326], \"type\": \"scatter\", \"uid\": \"2961c2a2-6828-48ed-888a-a2420eca5678\"}, {\"hoverinfo\": \"text\", \"marker\": {\"color\": \"green\", \"size\": 0.5}, \"mode\": \"markers\", \"text\": \"MySQL/MariaDB appears with Python 49 times\", \"x\": [-0.6842122667849573], \"y\": [0.5846824556808512], \"type\": \"scatter\", \"uid\": \"af648c57-7c3b-405f-9407-5b5ac7beeada\"}, {\"hoverinfo\": \"text\", \"marker\": {\"color\": \"blue\", \"size\": 0.5}, \"mode\": \"markers\", \"text\": \"Python appears with MySQL/MariaDB 49 times\", \"x\": [0.6231620508996766], \"y\": [-0.6493604995058668], \"type\": \"scatter\", \"uid\": \"87aa1379-dbcc-4cf5-a5ed-0c940fe37f93\"}, {\"hoverinfo\": \"text\", \"marker\": {\"color\": \"green\", \"size\": 0.5}, \"mode\": \"markers\", \"text\": \"MySQL/MariaDB appears with VBA 5 times\", \"x\": [-0.6580115136912689], \"y\": [0.6140202340719115], \"type\": \"scatter\", \"uid\": \"b91e609e-12a0-4b05-a4e3-547c091c6fea\"}, {\"hoverinfo\": \"text\", \"marker\": {\"color\": \"blue\", \"size\": 0.5}, \"mode\": \"markers\", \"text\": \"VBA appears with MySQL/MariaDB 5 times\", \"x\": [0.8208601405584355], \"y\": [-0.3690374366407635], \"type\": \"scatter\", \"uid\": \"683eec6b-7846-455e-b61a-c4e7b9d5c167\"}, {\"hoverinfo\": \"text\", \"marker\": {\"color\": \"green\", \"size\": 0.5}, \"mode\": \"markers\", \"text\": \"MySQL/MariaDB appears with Linux 38 times\", \"x\": [-0.6729578473761817], \"y\": [0.597601652988691], \"type\": \"scatter\", \"uid\": \"62ecd620-c209-4efb-808d-68bb078e6195\"}, {\"hoverinfo\": \"text\", \"marker\": {\"color\": \"blue\", \"size\": 0.5}, \"mode\": \"markers\", \"text\": \"Linux appears with MySQL/MariaDB 38 times\", \"x\": [0.8793562069262781], \"y\": [-0.19165766705307838], \"type\": \"scatter\", \"uid\": \"a8a2c3b3-824d-45ae-8b78-23bfa840c456\"}, {\"hoverinfo\": \"text\", \"marker\": {\"color\": \"green\", \"size\": 0.5}, \"mode\": \"markers\", \"text\": \"T-SQL appears with PL/SQL 31 times\", \"x\": [-0.7754705722419218], \"y\": [0.456777179362965], \"type\": \"scatter\", \"uid\": \"c7a7bab3-c2a6-4148-847b-3d846afaf044\"}, {\"hoverinfo\": \"text\", \"marker\": {\"color\": \"blue\", \"size\": 0.5}, \"mode\": \"markers\", \"text\": \"PL/SQL appears with T-SQL 31 times\", \"x\": [-0.87138810054123], \"y\": [0.22512835946443396], \"type\": \"scatter\", \"uid\": \"8143b217-4cee-4dd4-af47-1c8f599f6e64\"}, {\"hoverinfo\": \"text\", \"marker\": {\"color\": \"green\", \"size\": 0.5}, \"mode\": \"markers\", \"text\": \"T-SQL appears with Pentaho 37 times\", \"x\": [-0.7832346844071435], \"y\": [0.44333218825350623], \"type\": \"scatter\", \"uid\": \"8f167b8d-4903-4714-8738-cc74e39bb136\"}, {\"hoverinfo\": \"text\", \"marker\": {\"color\": \"blue\", \"size\": 0.5}, \"mode\": \"markers\", \"text\": \"Pentaho appears with T-SQL 37 times\", \"x\": [-0.890844732616915], \"y\": [0.1280455480237296], \"type\": \"scatter\", \"uid\": \"7ee894eb-571b-4dc7-a752-e2beb9c32f99\"}, {\"hoverinfo\": \"text\", \"marker\": {\"color\": \"green\", \"size\": 0.5}, \"mode\": \"markers\", \"text\": \"T-SQL appears with Hadoop 16 times\", \"x\": [-0.7617665189933438], \"y\": [0.47928255814369425], \"type\": \"scatter\", \"uid\": \"fdb85602-611a-4ecc-a3c7-ab785517cc62\"}, {\"hoverinfo\": \"text\", \"marker\": {\"color\": \"blue\", \"size\": 0.5}, \"mode\": \"markers\", \"text\": \"Hadoop appears with T-SQL 16 times\", \"x\": [-0.8990624100756877], \"y\": [0.041070461269580104], \"type\": \"scatter\", \"uid\": \"e3b6664c-6499-403c-9e24-021ab92f2c01\"}, {\"hoverinfo\": \"text\", \"marker\": {\"color\": \"green\", \"size\": 0.5}, \"mode\": \"markers\", \"text\": \"T-SQL appears with Spark 17 times\", \"x\": [-0.7636818592707479], \"y\": [0.4762247555732205], \"type\": \"scatter\", \"uid\": \"fe519796-f30c-4055-ad03-8e011b7dac2a\"}, {\"hoverinfo\": \"text\", \"marker\": {\"color\": \"blue\", \"size\": 0.5}, \"mode\": \"markers\", \"text\": \"Spark appears with T-SQL 17 times\", \"x\": [-0.8925990545552223], \"y\": [-0.11518215055781596], \"type\": \"scatter\", \"uid\": \"063d1e4d-fe7a-4aed-b33f-b3fb25dca5f1\"}, {\"hoverinfo\": \"text\", \"marker\": {\"color\": \"green\", \"size\": 0.5}, \"mode\": \"markers\", \"text\": \"T-SQL appears with Informatica 12 times\", \"x\": [-0.7601317791765883], \"y\": [0.48187101830866996], \"type\": \"scatter\", \"uid\": \"b47d939b-b002-4a88-8c40-6a7eca6d4e7c\"}, {\"hoverinfo\": \"text\", \"marker\": {\"color\": \"blue\", \"size\": 0.5}, \"mode\": \"markers\", \"text\": \"Informatica appears with T-SQL 12 times\", \"x\": [-0.8577784929176201], \"y\": [-0.2724262415553546], \"type\": \"scatter\", \"uid\": \"1a9deede-38ad-4af8-b393-a04bd963655d\"}, {\"hoverinfo\": \"text\", \"marker\": {\"color\": \"green\", \"size\": 0.5}, \"mode\": \"markers\", \"text\": \"T-SQL appears with Qlik 68 times\", \"x\": [-0.7979097289750848], \"y\": [0.4163412835726319], \"type\": \"scatter\", \"uid\": \"01a7e9cc-e575-4919-9653-0340b6efe97c\"}, {\"hoverinfo\": \"text\", \"marker\": {\"color\": \"blue\", \"size\": 0.5}, \"mode\": \"markers\", \"text\": \"Qlik appears with T-SQL 68 times\", \"x\": [-0.7625741302514556], \"y\": [-0.4779965437858689], \"type\": \"scatter\", \"uid\": \"570e3c17-2902-4c64-bd80-50fbf7b72f2e\"}, {\"hoverinfo\": \"text\", \"marker\": {\"color\": \"green\", \"size\": 0.5}, \"mode\": \"markers\", \"text\": \"T-SQL appears with Tableau 92 times\", \"x\": [-0.8058512512778468], \"y\": [0.40075399039052434], \"type\": \"scatter\", \"uid\": \"618d5d90-8921-4243-90b9-5101a7d17745\"}, {\"hoverinfo\": \"text\", \"marker\": {\"color\": \"blue\", \"size\": 0.5}, \"mode\": \"markers\", \"text\": \"Tableau appears with T-SQL 92 times\", \"x\": [-0.45429849010163265], \"y\": [-0.776925274329119], \"type\": \"scatter\", \"uid\": \"5a1adacb-74d1-4816-af5d-701e2db01475\"}, {\"hoverinfo\": \"text\", \"marker\": {\"color\": \"green\", \"size\": 0.5}, \"mode\": \"markers\", \"text\": \"T-SQL appears with Microstrategy 10 times\", \"x\": [-0.7588411695022794], \"y\": [0.4839008983959556], \"type\": \"scatter\", \"uid\": \"6448c3cd-4574-4702-aa83-2a143a80b82b\"}, {\"hoverinfo\": \"text\", \"marker\": {\"color\": \"blue\", \"size\": 0.5}, \"mode\": \"markers\", \"text\": \"Microstrategy appears with T-SQL 10 times\", \"x\": [-0.06357818572154388], \"y\": [-0.8977515326081916], \"type\": \"scatter\", \"uid\": \"7ebcf6fe-fb37-41b3-a679-8d713ba98f00\"}, {\"hoverinfo\": \"text\", \"marker\": {\"color\": \"green\", \"size\": 0.5}, \"mode\": \"markers\", \"text\": \"T-SQL appears with Oracle BI 128 times\", \"x\": [-0.8263720278711377], \"y\": [0.3565238723453785], \"type\": \"scatter\", \"uid\": \"f9cfb464-6367-4a51-a977-8a2bcf953d6a\"}, {\"hoverinfo\": \"text\", \"marker\": {\"color\": \"blue\", \"size\": 0.5}, \"mode\": \"markers\", \"text\": \"Oracle BI appears with T-SQL 128 times\", \"x\": [0.15394888056677294], \"y\": [-0.8867354409136005], \"type\": \"scatter\", \"uid\": \"37d4c189-7076-4b97-b083-09762c906522\"}, {\"hoverinfo\": \"text\", \"marker\": {\"color\": \"green\", \"size\": 0.5}, \"mode\": \"markers\", \"text\": \"T-SQL appears with Python 47 times\", \"x\": [-0.7920153748266184], \"y\": [0.42744782844020984], \"type\": \"scatter\", \"uid\": \"f8f6ef08-4812-4ba9-9971-c89097c1b5a5\"}, {\"hoverinfo\": \"text\", \"marker\": {\"color\": \"blue\", \"size\": 0.5}, \"mode\": \"markers\", \"text\": \"Python appears with T-SQL 47 times\", \"x\": [0.615236399224656], \"y\": [-0.6568745489582313], \"type\": \"scatter\", \"uid\": \"d4427452-cc91-48b8-ad70-8205517ecad9\"}, {\"hoverinfo\": \"text\", \"marker\": {\"color\": \"green\", \"size\": 0.5}, \"mode\": \"markers\", \"text\": \"T-SQL appears with VBA 26 times\", \"x\": [-0.7688998708579002], \"y\": [0.46775312782995304], \"type\": \"scatter\", \"uid\": \"3e3e31aa-947e-4e70-a8f8-ea7fcb7b05de\"}, {\"hoverinfo\": \"text\", \"marker\": {\"color\": \"blue\", \"size\": 0.5}, \"mode\": \"markers\", \"text\": \"VBA appears with T-SQL 26 times\", \"x\": [0.8241479459490955], \"y\": [-0.3616354009052306], \"type\": \"scatter\", \"uid\": \"1a028ddb-0457-42db-959c-63d9aa77315d\"}, {\"hoverinfo\": \"text\", \"marker\": {\"color\": \"green\", \"size\": 0.5}, \"mode\": \"markers\", \"text\": \"T-SQL appears with Linux 24 times\", \"x\": [-0.7660444227425429], \"y\": [0.47241501075330383], \"type\": \"scatter\", \"uid\": \"e3cd10a9-6c7e-4518-a8d9-b9e24bfe0e4f\"}, {\"hoverinfo\": \"text\", \"marker\": {\"color\": \"blue\", \"size\": 0.5}, \"mode\": \"markers\", \"text\": \"Linux appears with T-SQL 24 times\", \"x\": [0.8750612766348551], \"y\": [-0.21039905449924795], \"type\": \"scatter\", \"uid\": \"3ebbdcc5-9fb6-482a-866a-ed69c881ec64\"}, {\"hoverinfo\": \"text\", \"marker\": {\"color\": \"green\", \"size\": 0.5}, \"mode\": \"markers\", \"text\": \"T-SQL appears with AWS 8 times\", \"x\": [-0.7577811838325127], \"y\": [0.48555913896187314], \"type\": \"scatter\", \"uid\": \"7be1e340-5481-4d64-8881-5436b693f755\"}, {\"hoverinfo\": \"text\", \"marker\": {\"color\": \"blue\", \"size\": 0.5}, \"mode\": \"markers\", \"text\": \"AWS appears with T-SQL 8 times\", \"x\": [0.8950259097636423], \"y\": [-0.09449137977490162], \"type\": \"scatter\", \"uid\": \"c76176a9-3a52-4a1f-88c3-cace22867984\"}, {\"hoverinfo\": \"text\", \"marker\": {\"color\": \"green\", \"size\": 0.5}, \"mode\": \"markers\", \"text\": \"PL/SQL appears with Pentaho 8 times\", \"x\": [-0.8658416861482713], \"y\": [0.24559758656778094], \"type\": \"scatter\", \"uid\": \"d519a4bc-3909-493b-b749-8bfbf92f0050\"}, {\"hoverinfo\": \"text\", \"marker\": {\"color\": \"blue\", \"size\": 0.5}, \"mode\": \"markers\", \"text\": \"Pentaho appears with PL/SQL 8 times\", \"x\": [-0.8831125761621988], \"y\": [0.17352860808571197], \"type\": \"scatter\", \"uid\": \"7c0ab679-b7fb-46db-9ea1-a78471d076ce\"}, {\"hoverinfo\": \"text\", \"marker\": {\"color\": \"green\", \"size\": 0.5}, \"mode\": \"markers\", \"text\": \"PL/SQL appears with Hadoop 3 times\", \"x\": [-0.8651065983805889], \"y\": [0.24817448184365462], \"type\": \"scatter\", \"uid\": \"79b493ea-6f4e-4e84-895b-7631b5de87fe\"}, {\"hoverinfo\": \"text\", \"marker\": {\"color\": \"blue\", \"size\": 0.5}, \"mode\": \"markers\", \"text\": \"Hadoop appears with PL/SQL 3 times\", \"x\": [-0.8987315232318478], \"y\": [0.04776661124009695], \"type\": \"scatter\", \"uid\": \"8c845a12-a0fe-4590-8f89-68901562d3ba\"}, {\"hoverinfo\": \"text\", \"marker\": {\"color\": \"green\", \"size\": 0.5}, \"mode\": \"markers\", \"text\": \"PL/SQL appears with Informatica 27 times\", \"x\": [-0.8690843499121651], \"y\": [0.23386404755273843], \"type\": \"scatter\", \"uid\": \"7ed417c0-e5c4-4959-9ab7-a6a0118285ec\"}, {\"hoverinfo\": \"text\", \"marker\": {\"color\": \"blue\", \"size\": 0.5}, \"mode\": \"markers\", \"text\": \"Informatica appears with PL/SQL 27 times\", \"x\": [-0.8529864849918136], \"y\": [-0.28707848477604625], \"type\": \"scatter\", \"uid\": \"853acfab-269a-49b8-bbcb-5368c597f5cc\"}, {\"hoverinfo\": \"text\", \"marker\": {\"color\": \"green\", \"size\": 0.5}, \"mode\": \"markers\", \"text\": \"PL/SQL appears with Qlik 14 times\", \"x\": [-0.8667136588629416], \"y\": [0.24250244027723217], \"type\": \"scatter\", \"uid\": \"269fe292-16df-4373-b8bb-1785302faa9d\"}, {\"hoverinfo\": \"text\", \"marker\": {\"color\": \"blue\", \"size\": 0.5}, \"mode\": \"markers\", \"text\": \"Qlik appears with PL/SQL 14 times\", \"x\": [-0.792921024019518], \"y\": [-0.4257654867034657], \"type\": \"scatter\", \"uid\": \"ce314e8d-dee7-4f4a-af60-7e462355a75f\"}, {\"hoverinfo\": \"text\", \"marker\": {\"color\": \"green\", \"size\": 0.5}, \"mode\": \"markers\", \"text\": \"PL/SQL appears with Tableau 17 times\", \"x\": [-0.8673501613313703], \"y\": [0.24021593960111362], \"type\": \"scatter\", \"uid\": \"270f5d98-d06f-4969-bb2c-ccf160d9a509\"}, {\"hoverinfo\": \"text\", \"marker\": {\"color\": \"blue\", \"size\": 0.5}, \"mode\": \"markers\", \"text\": \"Tableau appears with PL/SQL 17 times\", \"x\": [-0.5319953054813198], \"y\": [-0.7259345665732121], \"type\": \"scatter\", \"uid\": \"92dd954a-1970-4093-b1b9-323d234e7b8b\"}, {\"hoverinfo\": \"text\", \"marker\": {\"color\": \"green\", \"size\": 0.5}, \"mode\": \"markers\", \"text\": \"PL/SQL appears with Microstrategy 21 times\", \"x\": [-0.8681221607418418], \"y\": [0.2374108549096186], \"type\": \"scatter\", \"uid\": \"9768d9cd-48e9-4310-900b-4cbecfcfd141\"}, {\"hoverinfo\": \"text\", \"marker\": {\"color\": \"blue\", \"size\": 0.5}, \"mode\": \"markers\", \"text\": \"Microstrategy appears with PL/SQL 21 times\", \"x\": [-0.05140596219008134], \"y\": [-0.898530704567914], \"type\": \"scatter\", \"uid\": \"bbb01e7e-8c1f-4825-8e7b-3fa2dd49e214\"}, {\"hoverinfo\": \"text\", \"marker\": {\"color\": \"green\", \"size\": 0.5}, \"mode\": \"markers\", \"text\": \"PL/SQL appears with Oracle BI 76 times\", \"x\": [-0.8752884930724665], \"y\": [0.20945179372574238], \"type\": \"scatter\", \"uid\": \"88d9615a-b5e2-47bd-be6c-6d6e0f2d2273\"}, {\"hoverinfo\": \"text\", \"marker\": {\"color\": \"blue\", \"size\": 0.5}, \"mode\": \"markers\", \"text\": \"Oracle BI appears with PL/SQL 76 times\", \"x\": [0.1015528995965826], \"y\": [-0.8942522063621238], \"type\": \"scatter\", \"uid\": \"53f4643c-0204-4fbf-be89-9faf4619b788\"}, {\"hoverinfo\": \"text\", \"marker\": {\"color\": \"green\", \"size\": 0.5}, \"mode\": \"markers\", \"text\": \"PL/SQL appears with Python 3 times\", \"x\": [-0.8649798130956817], \"y\": [0.24861601504520908], \"type\": \"scatter\", \"uid\": \"5d37b45b-fe91-40ec-aba4-3fe3e1c0c9d7\"}, {\"hoverinfo\": \"text\", \"marker\": {\"color\": \"blue\", \"size\": 0.5}, \"mode\": \"markers\", \"text\": \"Python appears with PL/SQL 3 times\", \"x\": [0.5871359115376786], \"y\": [-0.6821080716300161], \"type\": \"scatter\", \"uid\": \"5c4ed921-f47c-4e50-bdf1-4696261fdd65\"}, {\"hoverinfo\": \"text\", \"marker\": {\"color\": \"green\", \"size\": 0.5}, \"mode\": \"markers\", \"text\": \"PL/SQL appears with VBA 6 times\", \"x\": [-0.8652963537049327], \"y\": [0.24751206084744243], \"type\": \"scatter\", \"uid\": \"f45d2dd1-177a-4a1f-8d0c-e2a3148e88e7\"}, {\"hoverinfo\": \"text\", \"marker\": {\"color\": \"blue\", \"size\": 0.5}, \"mode\": \"markers\", \"text\": \"VBA appears with PL/SQL 6 times\", \"x\": [0.8222889695905631], \"y\": [-0.36584265810548944], \"type\": \"scatter\", \"uid\": \"b0b04a91-a8f3-4a82-bad1-74e3d51c72fd\"}, {\"hoverinfo\": \"text\", \"marker\": {\"color\": \"green\", \"size\": 0.5}, \"mode\": \"markers\", \"text\": \"PL/SQL appears with Linux 1 times\", \"x\": [-0.8648104155108028], \"y\": [0.24920462520593906], \"type\": \"scatter\", \"uid\": \"ff474a74-1d70-47d2-b32a-975fcc0f224a\"}, {\"hoverinfo\": \"text\", \"marker\": {\"color\": \"blue\", \"size\": 0.5}, \"mode\": \"markers\", \"text\": \"Linux appears with PL/SQL 1 times\", \"x\": [0.87097552461013], \"y\": [-0.22671928795342683], \"type\": \"scatter\", \"uid\": \"119aa32f-60d9-4dfa-bd3f-ec73c43286a0\"}, {\"hoverinfo\": \"text\", \"marker\": {\"color\": \"green\", \"size\": 0.5}, \"mode\": \"markers\", \"text\": \"PL/SQL appears with AWS 2 times\", \"x\": [-0.8648739865480198], \"y\": [0.24898390990691707], \"type\": \"scatter\", \"uid\": \"e5d52d69-a161-420a-9032-5f0027a1c214\"}, {\"hoverinfo\": \"text\", \"marker\": {\"color\": \"blue\", \"size\": 0.5}, \"mode\": \"markers\", \"text\": \"AWS appears with PL/SQL 2 times\", \"x\": [0.8946902660020533], \"y\": [-0.09761827657347391], \"type\": \"scatter\", \"uid\": \"c4348125-8f1c-4509-b0ed-63a2780693f6\"}, {\"hoverinfo\": \"text\", \"marker\": {\"color\": \"green\", \"size\": 0.5}, \"mode\": \"markers\", \"text\": \"Pentaho appears with Spark 6 times\", \"x\": [-0.8828537356296839], \"y\": [0.17484073176669135], \"type\": \"scatter\", \"uid\": \"eecdbfa4-67b2-42f2-ae00-4bb615bced71\"}, {\"hoverinfo\": \"text\", \"marker\": {\"color\": \"blue\", \"size\": 0.5}, \"mode\": \"markers\", \"text\": \"Spark appears with Pentaho 6 times\", \"x\": [-0.8935146535580257], \"y\": [-0.10784972821978445], \"type\": \"scatter\", \"uid\": \"10db4870-0ff8-4d98-8634-c098aaaabad0\"}, {\"hoverinfo\": \"text\", \"marker\": {\"color\": \"green\", \"size\": 0.5}, \"mode\": \"markers\", \"text\": \"Pentaho appears with Informatica 32 times\", \"x\": [-0.8856276610434878], \"y\": [0.16019877026569523], \"type\": \"scatter\", \"uid\": \"af8aa895-a79b-40e8-972d-747b650f90ab\"}, {\"hoverinfo\": \"text\", \"marker\": {\"color\": \"blue\", \"size\": 0.5}, \"mode\": \"markers\", \"text\": \"Informatica appears with Pentaho 32 times\", \"x\": [-0.8510460347347183], \"y\": [-0.29278088524067414], \"type\": \"scatter\", \"uid\": \"7edd412c-fb9c-4214-9c31-dbf27856cc8a\"}, {\"hoverinfo\": \"text\", \"marker\": {\"color\": \"green\", \"size\": 0.5}, \"mode\": \"markers\", \"text\": \"Pentaho appears with Qlik 30 times\", \"x\": [-0.8845542375424937], \"y\": [0.16602349486026863], \"type\": \"scatter\", \"uid\": \"2742de38-c56f-4d52-9fac-111c6128f51d\"}, {\"hoverinfo\": \"text\", \"marker\": {\"color\": \"blue\", \"size\": 0.5}, \"mode\": \"markers\", \"text\": \"Qlik appears with Pentaho 30 times\", \"x\": [-0.7837942177771672], \"y\": [-0.44234220257519924], \"type\": \"scatter\", \"uid\": \"53cc5eed-772e-47ef-8c6e-dab0690c8d7f\"}, {\"hoverinfo\": \"text\", \"marker\": {\"color\": \"green\", \"size\": 0.5}, \"mode\": \"markers\", \"text\": \"Pentaho appears with Tableau 37 times\", \"x\": [-0.8898115117153442], \"y\": [0.1350387856093719], \"type\": \"scatter\", \"uid\": \"a06cec3a-0db0-4886-a460-c25e870ef333\"}, {\"hoverinfo\": \"text\", \"marker\": {\"color\": \"blue\", \"size\": 0.5}, \"mode\": \"markers\", \"text\": \"Tableau appears with Pentaho 37 times\", \"x\": [-0.5079939222988289], \"y\": [-0.7429281088419333], \"type\": \"scatter\", \"uid\": \"d747103e-2ae1-4bb7-94e9-128812863e4f\"}, {\"hoverinfo\": \"text\", \"marker\": {\"color\": \"green\", \"size\": 0.5}, \"mode\": \"markers\", \"text\": \"Pentaho appears with Microstrategy 3 times\", \"x\": [-0.8826863086293493], \"y\": [0.17568403615096403], \"type\": \"scatter\", \"uid\": \"63ea2eb3-7b66-4708-b2c8-928ec1983c6f\"}, {\"hoverinfo\": \"text\", \"marker\": {\"color\": \"blue\", \"size\": 0.5}, \"mode\": \"markers\", \"text\": \"Microstrategy appears with Pentaho 3 times\", \"x\": [-0.06686813224946599], \"y\": [-0.8975124806315887], \"type\": \"scatter\", \"uid\": \"9d858222-9e6f-4a14-925c-d20bc1944183\"}, {\"hoverinfo\": \"text\", \"marker\": {\"color\": \"green\", \"size\": 0.5}, \"mode\": \"markers\", \"text\": \"Pentaho appears with Oracle BI 38 times\", \"x\": [-0.8918358359668337], \"y\": [0.12094974859560098], \"type\": \"scatter\", \"uid\": \"75b8d0a4-ddb5-4cd3-9c47-e3be6fc28be6\"}, {\"hoverinfo\": \"text\", \"marker\": {\"color\": \"blue\", \"size\": 0.5}, \"mode\": \"markers\", \"text\": \"Oracle BI appears with Pentaho 38 times\", \"x\": [0.03663856985755895], \"y\": [-0.8992539214253074], \"type\": \"scatter\", \"uid\": \"0b4661d3-1139-466b-81cd-c8fcd76dc024\"}, {\"hoverinfo\": \"text\", \"marker\": {\"color\": \"green\", \"size\": 0.5}, \"mode\": \"markers\", \"text\": \"Pentaho appears with Python 34 times\", \"x\": [-0.8887685736323064], \"y\": [0.1417406876080242], \"type\": \"scatter\", \"uid\": \"c416d49c-c02f-46b9-9845-b6cbd23d29ea\"}, {\"hoverinfo\": \"text\", \"marker\": {\"color\": \"blue\", \"size\": 0.5}, \"mode\": \"markers\", \"text\": \"Python appears with Pentaho 34 times\", \"x\": [0.601064549368689], \"y\": [-0.6698667087504907], \"type\": \"scatter\", \"uid\": \"0b88a49d-bac4-4e85-8682-9d3d95d48c01\"}, {\"hoverinfo\": \"text\", \"marker\": {\"color\": \"green\", \"size\": 0.5}, \"mode\": \"markers\", \"text\": \"Pentaho appears with VBA 1 times\", \"x\": [-0.8826116380560165], \"y\": [0.1760587866823899], \"type\": \"scatter\", \"uid\": \"10ebba29-698b-4189-8625-de778c0880f0\"}, {\"hoverinfo\": \"text\", \"marker\": {\"color\": \"blue\", \"size\": 0.5}, \"mode\": \"markers\", \"text\": \"VBA appears with Pentaho 1 times\", \"x\": [0.8199556649632398], \"y\": [-0.37104273001191035], \"type\": \"scatter\", \"uid\": \"36b05491-e9d9-4047-9b7b-43b25ae16fb4\"}, {\"hoverinfo\": \"text\", \"marker\": {\"color\": \"green\", \"size\": 0.5}, \"mode\": \"markers\", \"text\": \"Pentaho appears with Linux 33 times\", \"x\": [-0.8877381003074786], \"y\": [0.1480576416888678], \"type\": \"scatter\", \"uid\": \"8b1fdcb3-1302-47e7-b731-57f5df44e729\"}, {\"hoverinfo\": \"text\", \"marker\": {\"color\": \"blue\", \"size\": 0.5}, \"mode\": \"markers\", \"text\": \"Linux appears with Pentaho 33 times\", \"x\": [0.876326112579968], \"y\": [-0.20506717048440837], \"type\": \"scatter\", \"uid\": \"b46fddb4-9244-43cf-989e-b1ead8edfc1c\"}, {\"hoverinfo\": \"text\", \"marker\": {\"color\": \"green\", \"size\": 0.5}, \"mode\": \"markers\", \"text\": \"Pentaho appears with AWS 13 times\", \"x\": [-0.8837872657961766], \"y\": [0.17005901568725576], \"type\": \"scatter\", \"uid\": \"a46affb0-f10a-4615-9a94-de877c9883cc\"}, {\"hoverinfo\": \"text\", \"marker\": {\"color\": \"blue\", \"size\": 0.5}, \"mode\": \"markers\", \"text\": \"AWS appears with Pentaho 13 times\", \"x\": [0.8953771914181531], \"y\": [-0.09110260747168533], \"type\": \"scatter\", \"uid\": \"cd3d469f-30f1-468d-ba87-6f4409924948\"}, {\"hoverinfo\": \"text\", \"marker\": {\"color\": \"green\", \"size\": 0.5}, \"mode\": \"markers\", \"text\": \"Hadoop appears with Spark 115 times\", \"x\": [-0.8991171291411322], \"y\": [-0.039854586749941495], \"type\": \"scatter\", \"uid\": \"51a14ca8-7460-415d-9135-60298d88ca48\"}, {\"hoverinfo\": \"text\", \"marker\": {\"color\": \"blue\", \"size\": 0.5}, \"mode\": \"markers\", \"text\": \"Spark appears with Hadoop 115 times\", \"x\": [-0.877931254468265], \"y\": [-0.19808258991586983], \"type\": \"scatter\", \"uid\": \"ce695db3-3811-40c8-a60b-d29867225e6a\"}, {\"hoverinfo\": \"text\", \"marker\": {\"color\": \"green\", \"size\": 0.5}, \"mode\": \"markers\", \"text\": \"Hadoop appears with Informatica 5 times\", \"x\": [-0.8988150745044351], \"y\": [0.046167757619218236], \"type\": \"scatter\", \"uid\": \"17b6c9c4-24ec-442d-bda6-b4596f14448a\"}, {\"hoverinfo\": \"text\", \"marker\": {\"color\": \"blue\", \"size\": 0.5}, \"mode\": \"markers\", \"text\": \"Informatica appears with Hadoop 5 times\", \"x\": [-0.860485126317122], \"y\": [-0.2637524357935043], \"type\": \"scatter\", \"uid\": \"1f319513-a52c-4d9c-9c68-de418dab317a\"}, {\"hoverinfo\": \"text\", \"marker\": {\"color\": \"green\", \"size\": 0.5}, \"mode\": \"markers\", \"text\": \"Hadoop appears with Qlik 9 times\", \"x\": [-0.89894477868666], \"y\": [0.04356931112597326], \"type\": \"scatter\", \"uid\": \"9eb51c27-db34-420c-a1bd-3f93810f509f\"}, {\"hoverinfo\": \"text\", \"marker\": {\"color\": \"blue\", \"size\": 0.5}, \"mode\": \"markers\", \"text\": \"Qlik appears with Hadoop 9 times\", \"x\": [-0.7956548349405471], \"y\": [-0.42063450124274254], \"type\": \"scatter\", \"uid\": \"eb359a9d-49be-4f5f-89f9-60f3ef186568\"}, {\"hoverinfo\": \"text\", \"marker\": {\"color\": \"green\", \"size\": 0.5}, \"mode\": \"markers\", \"text\": \"Hadoop appears with Tableau 35 times\", \"x\": [-0.8999036898798248], \"y\": [0.013166204490133736], \"type\": \"scatter\", \"uid\": \"fb03a706-7385-4e42-b9f5-64a6f07bf5c7\"}, {\"hoverinfo\": \"text\", \"marker\": {\"color\": \"blue\", \"size\": 0.5}, \"mode\": \"markers\", \"text\": \"Tableau appears with Hadoop 35 times\", \"x\": [-0.5148536716441322], \"y\": [-0.7381908268155031], \"type\": \"scatter\", \"uid\": \"e03ca606-9827-45c1-9560-06b93d7602a1\"}, {\"hoverinfo\": \"text\", \"marker\": {\"color\": \"green\", \"size\": 0.5}, \"mode\": \"markers\", \"text\": \"Hadoop appears with Microstrategy 3 times\", \"x\": [-0.8986669933140116], \"y\": [0.0489656525327109], \"type\": \"scatter\", \"uid\": \"e32dcb5e-e247-4b14-abba-c39a2ded8b4b\"}, {\"hoverinfo\": \"text\", \"marker\": {\"color\": \"blue\", \"size\": 0.5}, \"mode\": \"markers\", \"text\": \"Microstrategy appears with Hadoop 3 times\", \"x\": [-0.06640912285993929], \"y\": [-0.8975465605755355], \"type\": \"scatter\", \"uid\": \"d82ac155-5abb-4af3-b873-bd29e8c0d601\"}, {\"hoverinfo\": \"text\", \"marker\": {\"color\": \"green\", \"size\": 0.5}, \"mode\": \"markers\", \"text\": \"Hadoop appears with Oracle BI 34 times\", \"x\": [-0.8997762033669151], \"y\": [0.020069475693699514], \"type\": \"scatter\", \"uid\": \"ab2efdaa-2520-462b-9b89-aa4e295ef8fc\"}, {\"hoverinfo\": \"text\", \"marker\": {\"color\": \"blue\", \"size\": 0.5}, \"mode\": \"markers\", \"text\": \"Oracle BI appears with Hadoop 34 times\", \"x\": [0.019312863133265024], \"y\": [-0.8997927613165133], \"type\": \"scatter\", \"uid\": \"e132b304-fe67-403d-ad70-be9a1b463aba\"}, {\"hoverinfo\": \"text\", \"marker\": {\"color\": \"green\", \"size\": 0.5}, \"mode\": \"markers\", \"text\": \"Hadoop appears with Python 124 times\", \"x\": [-0.8977407888161084], \"y\": [-0.06372971124861175], \"type\": \"scatter\", \"uid\": \"d22a8865-dbd9-4bb2-8382-e0d1b8917a45\"}, {\"hoverinfo\": \"text\", \"marker\": {\"color\": \"blue\", \"size\": 0.5}, \"mode\": \"markers\", \"text\": \"Python appears with Hadoop 124 times\", \"x\": [0.7135052804958886], \"y\": [-0.5485528367481873], \"type\": \"scatter\", \"uid\": \"1ca0e3c7-c847-4c13-851f-48df8987b2c6\"}, {\"hoverinfo\": \"text\", \"marker\": {\"color\": \"green\", \"size\": 0.5}, \"mode\": \"markers\", \"text\": \"Hadoop appears with VBA 6 times\", \"x\": [-0.8988708660593316], \"y\": [0.045068460698663625], \"type\": \"scatter\", \"uid\": \"3d6b6af3-fdfb-49fa-8eb4-9af7116bea1d\"}, {\"hoverinfo\": \"text\", \"marker\": {\"color\": \"blue\", \"size\": 0.5}, \"mode\": \"markers\", \"text\": \"VBA appears with Hadoop 6 times\", \"x\": [0.8218004849920238], \"y\": [-0.36693863637790225], \"type\": \"scatter\", \"uid\": \"8822e89c-1485-480a-b010-d0e015970d13\"}, {\"hoverinfo\": \"text\", \"marker\": {\"color\": \"green\", \"size\": 0.5}, \"mode\": \"markers\", \"text\": \"Hadoop appears with Linux 76 times\", \"x\": [-0.8997606878457433], \"y\": [-0.020753423991111204], \"type\": \"scatter\", \"uid\": \"f5ced218-08b8-47ed-9ed6-21cca8a41d8d\"}, {\"hoverinfo\": \"text\", \"marker\": {\"color\": \"blue\", \"size\": 0.5}, \"mode\": \"markers\", \"text\": \"Linux appears with Hadoop 76 times\", \"x\": [0.8875815607628743], \"y\": [-0.14899319781030276], \"type\": \"scatter\", \"uid\": \"ad189aec-146e-4e2a-b8ea-6095cafe964a\"}, {\"hoverinfo\": \"text\", \"marker\": {\"color\": \"green\", \"size\": 0.5}, \"mode\": \"markers\", \"text\": \"Hadoop appears with AWS 42 times\", \"x\": [-0.8999834277891325], \"y\": [0.005461657708362397], \"type\": \"scatter\", \"uid\": \"67097604-6280-4f8a-9d04-26d88a9c74e2\"}, {\"hoverinfo\": \"text\", \"marker\": {\"color\": \"blue\", \"size\": 0.5}, \"mode\": \"markers\", \"text\": \"AWS appears with Hadoop 42 times\", \"x\": [0.8973709730448336], \"y\": [-0.0687410847788179], \"type\": \"scatter\", \"uid\": \"c9dde289-43b9-4929-a48c-bb7487fe34b1\"}, {\"hoverinfo\": \"text\", \"marker\": {\"color\": \"green\", \"size\": 0.5}, \"mode\": \"markers\", \"text\": \"Spark appears with Informatica 10 times\", \"x\": [-0.8933191263098085], \"y\": [-0.10945747379270422], \"type\": \"scatter\", \"uid\": \"4b54b496-8218-4d7b-bd49-6079c34868d9\"}, {\"hoverinfo\": \"text\", \"marker\": {\"color\": \"blue\", \"size\": 0.5}, \"mode\": \"markers\", \"text\": \"Informatica appears with Spark 10 times\", \"x\": [-0.8591275486522841], \"y\": [-0.2681414834499077], \"type\": \"scatter\", \"uid\": \"1189dfbb-f821-4201-83ce-2b611152b258\"}, {\"hoverinfo\": \"text\", \"marker\": {\"color\": \"green\", \"size\": 0.5}, \"mode\": \"markers\", \"text\": \"Spark appears with Qlik 15 times\", \"x\": [-0.8930078237859224], \"y\": [-0.11196886467733413], \"type\": \"scatter\", \"uid\": \"431d58e1-19b8-4ba1-9c04-ee8f41531a48\"}, {\"hoverinfo\": \"text\", \"marker\": {\"color\": \"blue\", \"size\": 0.5}, \"mode\": \"markers\", \"text\": \"Qlik appears with Spark 15 times\", \"x\": [-0.7913517400306129], \"y\": [-0.42867519586572916], \"type\": \"scatter\", \"uid\": \"811fc756-b790-48d4-89ed-213d4e245c46\"}, {\"hoverinfo\": \"text\", \"marker\": {\"color\": \"green\", \"size\": 0.5}, \"mode\": \"markers\", \"text\": \"Spark appears with Tableau 33 times\", \"x\": [-0.8889447927776776], \"y\": [-0.14063127459228983], \"type\": \"scatter\", \"uid\": \"027ee715-2eef-4db7-800c-2da1506a972c\"}, {\"hoverinfo\": \"text\", \"marker\": {\"color\": \"blue\", \"size\": 0.5}, \"mode\": \"markers\", \"text\": \"Tableau appears with Spark 33 times\", \"x\": [-0.5212917723512676], \"y\": [-0.7336585636921812], \"type\": \"scatter\", \"uid\": \"a3918583-5516-44a0-9aa9-b70eb9093443\"}, {\"hoverinfo\": \"text\", \"marker\": {\"color\": \"green\", \"size\": 0.5}, \"mode\": \"markers\", \"text\": \"Spark appears with Microstrategy 3 times\", \"x\": [-0.8939087894614173], \"y\": [-0.10453265577619043], \"type\": \"scatter\", \"uid\": \"ba4b8490-d8c3-4092-9640-8ddfa20fb6ce\"}, {\"hoverinfo\": \"text\", \"marker\": {\"color\": \"blue\", \"size\": 0.5}, \"mode\": \"markers\", \"text\": \"Microstrategy appears with Spark 3 times\", \"x\": [-0.06732712415000064], \"y\": [-0.8974781659481696], \"type\": \"scatter\", \"uid\": \"2f5388d6-c8b8-4cfa-8755-5e5c6b192863\"}, {\"hoverinfo\": \"text\", \"marker\": {\"color\": \"green\", \"size\": 0.5}, \"mode\": \"markers\", \"text\": \"Spark appears with Oracle BI 30 times\", \"x\": [-0.8899189417338905], \"y\": [-0.13432898846947514], \"type\": \"scatter\", \"uid\": \"9451b504-4da4-44ab-bfd1-339bae25c4bb\"}, {\"hoverinfo\": \"text\", \"marker\": {\"color\": \"blue\", \"size\": 0.5}, \"mode\": \"markers\", \"text\": \"Oracle BI appears with Spark 30 times\", \"x\": [0.011818070082321872], \"y\": [-0.8999224039991056], \"type\": \"scatter\", \"uid\": \"4df4a587-ca3d-43e6-8364-81c6aa6b6571\"}, {\"hoverinfo\": \"text\", \"marker\": {\"color\": \"green\", \"size\": 0.5}, \"mode\": \"markers\", \"text\": \"Spark appears with Python 133 times\", \"x\": [-0.872065358435236], \"y\": [-0.22249047309317171], \"type\": \"scatter\", \"uid\": \"e89f82a3-d02e-4477-a14b-05d38ddde405\"}, {\"hoverinfo\": \"text\", \"marker\": {\"color\": \"blue\", \"size\": 0.5}, \"mode\": \"markers\", \"text\": \"Python appears with Spark 133 times\", \"x\": [0.7309461271760946], \"y\": [-0.5250883346316774], \"type\": \"scatter\", \"uid\": \"4fce360d-96ca-402a-9737-192e1f26b94f\"}, {\"hoverinfo\": \"text\", \"marker\": {\"color\": \"green\", \"size\": 0.5}, \"mode\": \"markers\", \"text\": \"Spark appears with VBA 6 times\", \"x\": [-0.8938025188704647], \"y\": [-0.10543745663099387], \"type\": \"scatter\", \"uid\": \"cf3a0d49-b712-4614-9a73-79fca9fd8b0f\"}, {\"hoverinfo\": \"text\", \"marker\": {\"color\": \"blue\", \"size\": 0.5}, \"mode\": \"markers\", \"text\": \"VBA appears with Spark 6 times\", \"x\": [0.8213105396323913], \"y\": [-0.368033962412099], \"type\": \"scatter\", \"uid\": \"ff723ccd-08ec-4ca9-8562-a5af408f5502\"}, {\"hoverinfo\": \"text\", \"marker\": {\"color\": \"green\", \"size\": 0.5}, \"mode\": \"markers\", \"text\": \"Spark appears with Linux 58 times\", \"x\": [-0.8845464234589828], \"y\": [-0.16606512200315204], \"type\": \"scatter\", \"uid\": \"6d13f32f-05a9-48ac-ac2a-ad01dd7d3c08\"}, {\"hoverinfo\": \"text\", \"marker\": {\"color\": \"blue\", \"size\": 0.5}, \"mode\": \"markers\", \"text\": \"Linux appears with Spark 58 times\", \"x\": [0.8829531219949579], \"y\": [-0.17433813225842756], \"type\": \"scatter\", \"uid\": \"17175253-41da-4549-bef1-cb8215e6d4dc\"}, {\"hoverinfo\": \"text\", \"marker\": {\"color\": \"green\", \"size\": 0.5}, \"mode\": \"markers\", \"text\": \"Spark appears with AWS 44 times\", \"x\": [-0.8863932921096381], \"y\": [-0.15590680454373265], \"type\": \"scatter\", \"uid\": \"cbf062e8-ecd7-4ad6-a628-e201367766e2\"}, {\"hoverinfo\": \"text\", \"marker\": {\"color\": \"blue\", \"size\": 0.5}, \"mode\": \"markers\", \"text\": \"AWS appears with Spark 44 times\", \"x\": [0.8983934928927182], \"y\": [-0.053750645838179616], \"type\": \"scatter\", \"uid\": \"dc67cf73-bd8c-4b28-bc38-021c529c3ce9\"}, {\"hoverinfo\": \"text\", \"marker\": {\"color\": \"green\", \"size\": 0.5}, \"mode\": \"markers\", \"text\": \"Informatica appears with Qlik 92 times\", \"x\": [-0.833080243491083], \"y\": [-0.34055441254642116], \"type\": \"scatter\", \"uid\": \"261524b4-a733-4cb1-89ba-39b9430e6d26\"}, {\"hoverinfo\": \"text\", \"marker\": {\"color\": \"blue\", \"size\": 0.5}, \"mode\": \"markers\", \"text\": \"Qlik appears with Informatica 92 times\", \"x\": [-0.7434793799705253], \"y\": [-0.5071867620104485], \"type\": \"scatter\", \"uid\": \"8b131ca3-0b7c-413b-80b3-6820766a8b25\"}, {\"hoverinfo\": \"text\", \"marker\": {\"color\": \"green\", \"size\": 0.5}, \"mode\": \"markers\", \"text\": \"Informatica appears with Tableau 66 times\", \"x\": [-0.839049904868718], \"y\": [-0.3255691280508569], \"type\": \"scatter\", \"uid\": \"106fee9d-7b4a-4bc7-a8a1-f76e642f851c\"}, {\"hoverinfo\": \"text\", \"marker\": {\"color\": \"blue\", \"size\": 0.5}, \"mode\": \"markers\", \"text\": \"Tableau appears with Informatica 66 times\", \"x\": [-0.4699959852573807], \"y\": [-0.7675309595331931], \"type\": \"scatter\", \"uid\": \"4d60dc28-04b3-4c7e-a2a8-23e37a21af98\"}, {\"hoverinfo\": \"text\", \"marker\": {\"color\": \"green\", \"size\": 0.5}, \"mode\": \"markers\", \"text\": \"Informatica appears with Microstrategy 12 times\", \"x\": [-0.8570336352367711], \"y\": [-0.27476052859325567], \"type\": \"scatter\", \"uid\": \"8319bbb8-2d88-4bea-b1c5-02c4d3765481\"}, {\"hoverinfo\": \"text\", \"marker\": {\"color\": \"blue\", \"size\": 0.5}, \"mode\": \"markers\", \"text\": \"Microstrategy appears with Informatica 12 times\", \"x\": [-0.06189462422223016], \"y\": [-0.8978691750429953], \"type\": \"scatter\", \"uid\": \"16958729-3c91-45ae-9374-3f21f16a9aa6\"}, {\"hoverinfo\": \"text\", \"marker\": {\"color\": \"green\", \"size\": 0.5}, \"mode\": \"markers\", \"text\": \"Informatica appears with Oracle BI 124 times\", \"x\": [-0.8148786271190872], \"y\": [-0.382063899190321], \"type\": \"scatter\", \"uid\": \"2780b6c3-7662-4995-8050-e6a09d3da4c4\"}, {\"hoverinfo\": \"text\", \"marker\": {\"color\": \"blue\", \"size\": 0.5}, \"mode\": \"markers\", \"text\": \"Oracle BI appears with Informatica 124 times\", \"x\": [0.12479107470287225], \"y\": [-0.8913064499230902], \"type\": \"scatter\", \"uid\": \"0be8253f-a1d0-4598-8713-2d632c24c419\"}, {\"hoverinfo\": \"text\", \"marker\": {\"color\": \"green\", \"size\": 0.5}, \"mode\": \"markers\", \"text\": \"Informatica appears with Python 25 times\", \"x\": [-0.8546650377668159], \"y\": [-0.28204197066934433], \"type\": \"scatter\", \"uid\": \"638416b2-e3df-430d-ad7d-34b9d045c5ef\"}, {\"hoverinfo\": \"text\", \"marker\": {\"color\": \"blue\", \"size\": 0.5}, \"mode\": \"markers\", \"text\": \"Python appears with Informatica 25 times\", \"x\": [0.5960520517512106], \"y\": [-0.6743307434806546], \"type\": \"scatter\", \"uid\": \"27a2f1bf-faea-4371-875c-8b4783e74f20\"}, {\"hoverinfo\": \"text\", \"marker\": {\"color\": \"green\", \"size\": 0.5}, \"mode\": \"markers\", \"text\": \"Informatica appears with VBA 3 times\", \"x\": [-0.8607241270440928], \"y\": [-0.26297143784864613], \"type\": \"scatter\", \"uid\": \"6f0d351f-74f0-49b9-b9fe-bafe69807aed\"}, {\"hoverinfo\": \"text\", \"marker\": {\"color\": \"blue\", \"size\": 0.5}, \"mode\": \"markers\", \"text\": \"VBA appears with Informatica 3 times\", \"x\": [0.8201204796005308], \"y\": [-0.370678295749556], \"type\": \"scatter\", \"uid\": \"d231d879-ee3d-487a-ab16-895503e9b9fc\"}, {\"hoverinfo\": \"text\", \"marker\": {\"color\": \"green\", \"size\": 0.5}, \"mode\": \"markers\", \"text\": \"Informatica appears with Linux 7 times\", \"x\": [-0.8601252965576038], \"y\": [-0.26492352523264906], \"type\": \"scatter\", \"uid\": \"92fc34a7-7981-452b-8f88-a39100e400a8\"}, {\"hoverinfo\": \"text\", \"marker\": {\"color\": \"blue\", \"size\": 0.5}, \"mode\": \"markers\", \"text\": \"Linux appears with Informatica 7 times\", \"x\": [0.8718886358957586], \"y\": [-0.2231820032973834], \"type\": \"scatter\", \"uid\": \"8ca44401-ec67-4a20-a2bc-ba08f2bf8cf7\"}, {\"hoverinfo\": \"text\", \"marker\": {\"color\": \"green\", \"size\": 0.5}, \"mode\": \"markers\", \"text\": \"Informatica appears with AWS 19 times\", \"x\": [-0.8560621265424572], \"y\": [-0.2777726327405314], \"type\": \"scatter\", \"uid\": \"f068ee93-1cd1-4dba-8351-5998cf9a0e8a\"}, {\"hoverinfo\": \"text\", \"marker\": {\"color\": \"blue\", \"size\": 0.5}, \"mode\": \"markers\", \"text\": \"AWS appears with Informatica 19 times\", \"x\": [0.8956558398437586], \"y\": [-0.08832109914268173], \"type\": \"scatter\", \"uid\": \"be45fde6-e261-4347-831d-c6d217df38c9\"}, {\"hoverinfo\": \"text\", \"marker\": {\"color\": \"green\", \"size\": 0.5}, \"mode\": \"markers\", \"text\": \"Qlik appears with Tableau 319 times\", \"x\": [-0.6489439095859227], \"y\": [-0.62359586449185], \"type\": \"scatter\", \"uid\": \"2fdb45eb-6244-4b61-9e73-c1f9071d66d4\"}, {\"hoverinfo\": \"text\", \"marker\": {\"color\": \"blue\", \"size\": 0.5}, \"mode\": \"markers\", \"text\": \"Tableau appears with Qlik 319 times\", \"x\": [-0.30570383521746525], \"y\": [-0.8464899084651469], \"type\": \"scatter\", \"uid\": \"9895ac18-7558-450d-be8a-c4da69890916\"}, {\"hoverinfo\": \"text\", \"marker\": {\"color\": \"green\", \"size\": 0.5}, \"mode\": \"markers\", \"text\": \"Qlik appears with Microstrategy 31 times\", \"x\": [-0.7803531137533531], \"y\": [-0.44838489922771285], \"type\": \"scatter\", \"uid\": \"e486377e-f372-443d-8800-b59e9fe127f5\"}, {\"hoverinfo\": \"text\", \"marker\": {\"color\": \"blue\", \"size\": 0.5}, \"mode\": \"markers\", \"text\": \"Microstrategy appears with Qlik 31 times\", \"x\": [-0.04359225403124576], \"y\": [-0.8989436664154631], \"type\": \"scatter\", \"uid\": \"dffc5216-22a2-43ba-ac53-36b1f2beec13\"}, {\"hoverinfo\": \"text\", \"marker\": {\"color\": \"green\", \"size\": 0.5}, \"mode\": \"markers\", \"text\": \"Qlik appears with Oracle BI 305 times\", \"x\": [-0.6961544330561521], \"y\": [-0.5704112598259851], \"type\": \"scatter\", \"uid\": \"1533e8e5-167a-4b9f-8180-ef4033535cb0\"}, {\"hoverinfo\": \"text\", \"marker\": {\"color\": \"blue\", \"size\": 0.5}, \"mode\": \"markers\", \"text\": \"Oracle BI appears with Qlik 305 times\", \"x\": [0.3502865841954116], \"y\": [-0.8290351674885155], \"type\": \"scatter\", \"uid\": \"67707c78-bfd6-40c1-8e9f-c086b6524311\"}, {\"hoverinfo\": \"text\", \"marker\": {\"color\": \"green\", \"size\": 0.5}, \"mode\": \"markers\", \"text\": \"Qlik appears with Python 44 times\", \"x\": [-0.7760584198448013], \"y\": [-0.45577771883670465], \"type\": \"scatter\", \"uid\": \"f5100eb1-a040-4c16-a0ac-ec9bf111ba2b\"}, {\"hoverinfo\": \"text\", \"marker\": {\"color\": \"blue\", \"size\": 0.5}, \"mode\": \"markers\", \"text\": \"Python appears with Qlik 44 times\", \"x\": [0.6076398811487981], \"y\": [-0.6639079566005175], \"type\": \"scatter\", \"uid\": \"24a8b15a-a2bd-42d4-b691-d74be08b7bbe\"}, {\"hoverinfo\": \"text\", \"marker\": {\"color\": \"green\", \"size\": 0.5}, \"mode\": \"markers\", \"text\": \"Qlik appears with VBA 29 times\", \"x\": [-0.7870779859300963], \"y\": [-0.43647250092557177], \"type\": \"scatter\", \"uid\": \"0ec67c1f-5d08-4f1b-a321-57063f8c5da1\"}, {\"hoverinfo\": \"text\", \"marker\": {\"color\": \"blue\", \"size\": 0.5}, \"mode\": \"markers\", \"text\": \"VBA appears with Qlik 29 times\", \"x\": [0.8263423750858262], \"y\": [-0.35659259546086447], \"type\": \"scatter\", \"uid\": \"3cedefa0-935c-4e67-b77e-ea7446930351\"}, {\"hoverinfo\": \"text\", \"marker\": {\"color\": \"green\", \"size\": 0.5}, \"mode\": \"markers\", \"text\": \"Qlik appears with Linux 2 times\", \"x\": [-0.7965587325923305], \"y\": [-0.418920261542576], \"type\": \"scatter\", \"uid\": \"822ce6e9-8221-4cc7-be0a-3def748c606d\"}, {\"hoverinfo\": \"text\", \"marker\": {\"color\": \"blue\", \"size\": 0.5}, \"mode\": \"markers\", \"text\": \"Linux appears with Qlik 2 times\", \"x\": [0.8710481342995258], \"y\": [-0.22644016369300574], \"type\": \"scatter\", \"uid\": \"8559cd41-e8f3-4b24-943d-43dd75353f2f\"}, {\"hoverinfo\": \"text\", \"marker\": {\"color\": \"green\", \"size\": 0.5}, \"mode\": \"markers\", \"text\": \"Qlik appears with AWS 3 times\", \"x\": [-0.796293263544797], \"y\": [-0.4194246516755738], \"type\": \"scatter\", \"uid\": \"59919651-a62e-4ad5-b4c6-4819adea1969\"}, {\"hoverinfo\": \"text\", \"marker\": {\"color\": \"blue\", \"size\": 0.5}, \"mode\": \"markers\", \"text\": \"AWS appears with Qlik 3 times\", \"x\": [0.8947375365467838], \"y\": [-0.09718405576118341], \"type\": \"scatter\", \"uid\": \"41a65af3-f940-405d-a191-d603ebda1f03\"}, {\"hoverinfo\": \"text\", \"marker\": {\"color\": \"green\", \"size\": 0.5}, \"mode\": \"markers\", \"text\": \"Tableau appears with Microstrategy 44 times\", \"x\": [-0.4923041044619289], \"y\": [-0.7534166634273084], \"type\": \"scatter\", \"uid\": \"cbbdb356-c5f1-4c0f-a5ab-b678b76cf579\"}, {\"hoverinfo\": \"text\", \"marker\": {\"color\": \"blue\", \"size\": 0.5}, \"mode\": \"markers\", \"text\": \"Microstrategy appears with Tableau 44 times\", \"x\": [-0.0323256784171024], \"y\": [-0.8994192851584148], \"type\": \"scatter\", \"uid\": \"3d16995b-e12c-4351-ac4e-f667065f149c\"}, {\"hoverinfo\": \"text\", \"marker\": {\"color\": \"green\", \"size\": 0.5}, \"mode\": \"markers\", \"text\": \"Tableau appears with Oracle BI 373 times\", \"x\": [-0.22923273675879127], \"y\": [-0.870317386013904], \"type\": \"scatter\", \"uid\": \"450d3599-baad-4002-a7e5-ac0b415022b4\"}, {\"hoverinfo\": \"text\", \"marker\": {\"color\": \"blue\", \"size\": 0.5}, \"mode\": \"markers\", \"text\": \"Oracle BI appears with Tableau 373 times\", \"x\": [0.4219776809281583], \"y\": [-0.7949432915614129], \"type\": \"scatter\", \"uid\": \"c3a3dd70-5733-4f02-a233-6667760066b5\"}, {\"hoverinfo\": \"text\", \"marker\": {\"color\": \"green\", \"size\": 0.5}, \"mode\": \"markers\", \"text\": \"Tableau appears with Python 115 times\", \"x\": [-0.4144535091612387], \"y\": [-0.7988919130545352], \"type\": \"scatter\", \"uid\": \"8123a09d-7093-4c9d-b0ed-436474b851ef\"}, {\"hoverinfo\": \"text\", \"marker\": {\"color\": \"blue\", \"size\": 0.5}, \"mode\": \"markers\", \"text\": \"Python appears with Tableau 115 times\", \"x\": [0.6966098912496305], \"y\": [-0.5698549459407877], \"type\": \"scatter\", \"uid\": \"e6f8191d-d07b-43d2-a57c-26443852d904\"}, {\"hoverinfo\": \"text\", \"marker\": {\"color\": \"green\", \"size\": 0.5}, \"mode\": \"markers\", \"text\": \"Tableau appears with VBA 59 times\", \"x\": [-0.48227762184311895], \"y\": [-0.759873868131643], \"type\": \"scatter\", \"uid\": \"d6f90216-a382-4d14-9204-817ccf6f2684\"}, {\"hoverinfo\": \"text\", \"marker\": {\"color\": \"blue\", \"size\": 0.5}, \"mode\": \"markers\", \"text\": \"VBA appears with Tableau 59 times\", \"x\": [0.8389306268796651], \"y\": [-0.3258763619584767], \"type\": \"scatter\", \"uid\": \"5ac99b65-8678-41d1-872a-a6078b00f255\"}, {\"hoverinfo\": \"text\", \"marker\": {\"color\": \"green\", \"size\": 0.5}, \"mode\": \"markers\", \"text\": \"Tableau appears with Linux 14 times\", \"x\": [-0.5348862223530941], \"y\": [-0.723807107686044], \"type\": \"scatter\", \"uid\": \"c0a6ddda-2dd8-44f9-9e62-9c9394f97245\"}, {\"hoverinfo\": \"text\", \"marker\": {\"color\": \"blue\", \"size\": 0.5}, \"mode\": \"markers\", \"text\": \"Linux appears with Tableau 14 times\", \"x\": [0.8723870877799063], \"y\": [-0.22122560673415329], \"type\": \"scatter\", \"uid\": \"61e2b2c9-10d6-4657-8bc8-279bc483c577\"}, {\"hoverinfo\": \"text\", \"marker\": {\"color\": \"green\", \"size\": 0.5}, \"mode\": \"markers\", \"text\": \"Tableau appears with AWS 32 times\", \"x\": [-0.5274085519848389], \"y\": [-0.7292737615554639], \"type\": \"scatter\", \"uid\": \"143f6301-302a-4d6c-89d3-2b7329cc2751\"}, {\"hoverinfo\": \"text\", \"marker\": {\"color\": \"blue\", \"size\": 0.5}, \"mode\": \"markers\", \"text\": \"AWS appears with Tableau 32 times\", \"x\": [0.8968540820526181], \"y\": [-0.07518480900790936], \"type\": \"scatter\", \"uid\": \"90a6fb58-06ff-4751-9408-9db7dc898b0b\"}, {\"hoverinfo\": \"text\", \"marker\": {\"color\": \"green\", \"size\": 0.5}, \"mode\": \"markers\", \"text\": \"Microstrategy appears with Oracle BI 54 times\", \"x\": [-0.024811699451552354], \"y\": [-0.8996579236411614], \"type\": \"scatter\", \"uid\": \"5e3db45f-c114-4b5c-a4a9-faa58a644bf7\"}, {\"hoverinfo\": \"text\", \"marker\": {\"color\": \"blue\", \"size\": 0.5}, \"mode\": \"markers\", \"text\": \"Oracle BI appears with Microstrategy 54 times\", \"x\": [0.057457666505131476], \"y\": [-0.8981640254206272], \"type\": \"scatter\", \"uid\": \"1f67b2bd-9f72-42c5-9b1a-16361dd7f83e\"}, {\"hoverinfo\": \"text\", \"marker\": {\"color\": \"green\", \"size\": 0.5}, \"mode\": \"markers\", \"text\": \"Microstrategy appears with Python 15 times\", \"x\": [-0.059828138264363166], \"y\": [-0.8980092393020354], \"type\": \"scatter\", \"uid\": \"3d2a238c-6bfb-4b64-a6a5-ae36beef3f67\"}, {\"hoverinfo\": \"text\", \"marker\": {\"color\": \"blue\", \"size\": 0.5}, \"mode\": \"markers\", \"text\": \"Python appears with Microstrategy 15 times\", \"x\": [0.5886863941796235], \"y\": [-0.6807703939712662], \"type\": \"scatter\", \"uid\": \"f1738546-9f12-42c6-92b3-010b190e228a\"}, {\"hoverinfo\": \"text\", \"marker\": {\"color\": \"green\", \"size\": 0.5}, \"mode\": \"markers\", \"text\": \"Microstrategy appears with VBA 7 times\", \"x\": [-0.06487896679355089], \"y\": [-0.8976584649340758], \"type\": \"scatter\", \"uid\": \"ab81b8fa-4df1-4b08-bd23-5354e5a12145\"}, {\"hoverinfo\": \"text\", \"marker\": {\"color\": \"blue\", \"size\": 0.5}, \"mode\": \"markers\", \"text\": \"VBA appears with Microstrategy 7 times\", \"x\": [0.8228165118036712], \"y\": [-0.36465461453715226], \"type\": \"scatter\", \"uid\": \"d8a23cac-5730-4dcf-96ca-fd796800cfb7\"}, {\"hoverinfo\": \"text\", \"marker\": {\"color\": \"green\", \"size\": 0.5}, \"mode\": \"markers\", \"text\": \"Microstrategy appears with Linux 5 times\", \"x\": [-0.06579708334296472], \"y\": [-0.897591635335111], \"type\": \"scatter\", \"uid\": \"002f949c-2e5c-4de2-944b-7fd2ddb1504a\"}, {\"hoverinfo\": \"text\", \"marker\": {\"color\": \"blue\", \"size\": 0.5}, \"mode\": \"markers\", \"text\": \"Linux appears with Microstrategy 5 times\", \"x\": [0.8716018362476081], \"y\": [-0.22429944059180743], \"type\": \"scatter\", \"uid\": \"deeaaa9e-d639-4407-b128-7b5ff3821254\"}, {\"hoverinfo\": \"text\", \"marker\": {\"color\": \"green\", \"size\": 0.5}, \"mode\": \"markers\", \"text\": \"Microstrategy appears with AWS 2 times\", \"x\": [-0.06770960395418868], \"y\": [-0.8974493910702525], \"type\": \"scatter\", \"uid\": \"220922a5-add8-4ec3-a95a-e5756e562a5d\"}, {\"hoverinfo\": \"text\", \"marker\": {\"color\": \"blue\", \"size\": 0.5}, \"mode\": \"markers\", \"text\": \"AWS appears with Microstrategy 2 times\", \"x\": [0.8946522978404051], \"y\": [-0.09796563667369819], \"type\": \"scatter\", \"uid\": \"ae274599-758b-48e5-9ce2-11eb1e52117c\"}, {\"hoverinfo\": \"text\", \"marker\": {\"color\": \"green\", \"size\": 0.5}, \"mode\": \"markers\", \"text\": \"Oracle BI appears with Python 138 times\", \"x\": [0.21515011917970264], \"y\": [-0.8739052730227458], \"type\": \"scatter\", \"uid\": \"fffe754d-8f51-4ff3-a451-b9a858fe7075\"}, {\"hoverinfo\": \"text\", \"marker\": {\"color\": \"blue\", \"size\": 0.5}, \"mode\": \"markers\", \"text\": \"Python appears with Oracle BI 138 times\", \"x\": [0.7485011934721586], \"y\": [-0.49974589880333603], \"type\": \"scatter\", \"uid\": \"dd634333-52da-406d-aea7-d97a8d8d242e\"}, {\"hoverinfo\": \"text\", \"marker\": {\"color\": \"green\", \"size\": 0.5}, \"mode\": \"markers\", \"text\": \"Oracle BI appears with VBA 63 times\", \"x\": [0.08536090422869919], \"y\": [-0.895942808458921], \"type\": \"scatter\", \"uid\": \"e1a8f510-2e99-4d78-a47d-65db959e6bf8\"}, {\"hoverinfo\": \"text\", \"marker\": {\"color\": \"blue\", \"size\": 0.5}, \"mode\": \"markers\", \"text\": \"VBA appears with Oracle BI 63 times\", \"x\": [0.8432705327789942], \"y\": [-0.31447544983135217], \"type\": \"scatter\", \"uid\": \"9d6e6c1a-b56f-4070-b57e-d718fa9e6844\"}, {\"hoverinfo\": \"text\", \"marker\": {\"color\": \"green\", \"size\": 0.5}, \"mode\": \"markers\", \"text\": \"Oracle BI appears with Linux 3 times\", \"x\": [0.007953214275733247], \"y\": [-0.8999648584154185], \"type\": \"scatter\", \"uid\": \"ee6e64e4-da93-4f01-81c2-d624d7f2104e\"}, {\"hoverinfo\": \"text\", \"marker\": {\"color\": \"blue\", \"size\": 0.5}, \"mode\": \"markers\", \"text\": \"Linux appears with Oracle BI 3 times\", \"x\": [0.8711689516630063], \"y\": [-0.22597490493056646], \"type\": \"scatter\", \"uid\": \"d62a55e6-e5cf-42d2-b44f-d7ad3ad72157\"}, {\"hoverinfo\": \"text\", \"marker\": {\"color\": \"green\", \"size\": 0.5}, \"mode\": \"markers\", \"text\": \"Oracle BI appears with AWS 43 times\", \"x\": [0.04611553809408422], \"y\": [-0.8988177552464643], \"type\": \"scatter\", \"uid\": \"af25ad74-c714-4fa2-bbad-9176b09dfd65\"}, {\"hoverinfo\": \"text\", \"marker\": {\"color\": \"blue\", \"size\": 0.5}, \"mode\": \"markers\", \"text\": \"AWS appears with Oracle BI 43 times\", \"x\": [0.8979075670301921], \"y\": [-0.06133515362270811], \"type\": \"scatter\", \"uid\": \"33441f7a-d5fa-41ce-9954-538c27dbccf2\"}, {\"hoverinfo\": \"text\", \"marker\": {\"color\": \"green\", \"size\": 0.5}, \"mode\": \"markers\", \"text\": \"Python appears with VBA 58 times\", \"x\": [0.6318876597755201], \"y\": [-0.6408728309293635], \"type\": \"scatter\", \"uid\": \"abe53005-d923-4d2a-ade1-267d0fa763a3\"}, {\"hoverinfo\": \"text\", \"marker\": {\"color\": \"blue\", \"size\": 0.5}, \"mode\": \"markers\", \"text\": \"VBA appears with Python 58 times\", \"x\": [0.8346237904853626], \"y\": [-0.33675380971244495], \"type\": \"scatter\", \"uid\": \"a9718560-0163-4648-a193-b56d3eabb8ae\"}, {\"hoverinfo\": \"text\", \"marker\": {\"color\": \"green\", \"size\": 0.5}, \"mode\": \"markers\", \"text\": \"Python appears with Linux 82 times\", \"x\": [0.6662307508962363], \"y\": [-0.6050922132702066], \"type\": \"scatter\", \"uid\": \"cdced4d0-d915-4fcd-954f-1e50ee577e56\"}, {\"hoverinfo\": \"text\", \"marker\": {\"color\": \"blue\", \"size\": 0.5}, \"mode\": \"markers\", \"text\": \"Linux appears with Python 82 times\", \"x\": [0.8899696697497853], \"y\": [-0.13399248831728633], \"type\": \"scatter\", \"uid\": \"40c27075-9b53-41d2-bda1-b035db7bf04d\"}, {\"hoverinfo\": \"text\", \"marker\": {\"color\": \"green\", \"size\": 0.5}, \"mode\": \"markers\", \"text\": \"Python appears with AWS 78 times\", \"x\": [0.6538573809861885], \"y\": [-0.6184420145251149], \"type\": \"scatter\", \"uid\": \"dcc0cce0-22bb-4873-928f-f3994ad804aa\"}, {\"hoverinfo\": \"text\", \"marker\": {\"color\": \"blue\", \"size\": 0.5}, \"mode\": \"markers\", \"text\": \"AWS appears with Python 78 times\", \"x\": [0.8993160967840955], \"y\": [-0.0350793110681994], \"type\": \"scatter\", \"uid\": \"66d74a56-b645-4c22-955b-5b71da366145\"}, {\"hoverinfo\": \"text\", \"marker\": {\"color\": \"green\", \"size\": 0.5}, \"mode\": \"markers\", \"text\": \"VBA appears with AWS 5 times\", \"x\": [0.8204496229175755], \"y\": [-0.36994920766830713], \"type\": \"scatter\", \"uid\": \"9f2b5b6d-4453-4ad7-ace6-adf388097ab9\"}, {\"hoverinfo\": \"text\", \"marker\": {\"color\": \"blue\", \"size\": 0.5}, \"mode\": \"markers\", \"text\": \"AWS appears with VBA 5 times\", \"x\": [0.894812731072968], \"y\": [-0.09648925489263745], \"type\": \"scatter\", \"uid\": \"9d8ef26b-16a7-4191-ab90-015b69a153ef\"}, {\"hoverinfo\": \"text\", \"marker\": {\"color\": \"green\", \"size\": 0.5}, \"mode\": \"markers\", \"text\": \"Linux appears with AWS 23 times\", \"x\": [0.8739939366521444], \"y\": [-0.21478966151862944], \"type\": \"scatter\", \"uid\": \"e773bc08-f637-44ab-80db-6c16eb4ce481\"}, {\"hoverinfo\": \"text\", \"marker\": {\"color\": \"blue\", \"size\": 0.5}, \"mode\": \"markers\", \"text\": \"AWS appears with Linux 23 times\", \"x\": [0.8960084524085747], \"y\": [-0.08466908061619036], \"type\": \"scatter\", \"uid\": \"a39e6161-fbc9-4628-b5dd-e49553c0217c\"}], {\"autosize\": false, \"font\": {\"color\": \"#655643\", \"family\": \"Fira Sans Condensed\", \"size\": 12}, \"height\": 525, \"hidesources\": true, \"hoverdistance\": 40, \"hovermode\": \"closest\", \"margin\": {\"b\": 10, \"l\": 280, \"r\": 280, \"t\": 80}, \"paper_bgcolor\": \"#fffaf0\", \"plot_bgcolor\": \"#fffaf0\", \"shapes\": [{\"fillcolor\": \"#f2e6ce\", \"layer\": \"below\", \"line\": {\"color\": \"rgb(175,175,175)\", \"width\": 0.5}, \"path\": \"M 0.9750801846658901,0.22185272924157082 Q 0.1842538926889151, 0.07778497945607345 0.8390756248935435, 0.5440147936495013L 0.8390756248935435, 0.5440147936495013 L 0.8521026202936544, 0.5233747457498196 L 0.8646220060745403, 0.502422916089262 M 0.8646220060745403,0.502422916089262 Q 0.18439680406021858, 0.07744558510578484 0.9640777149787676, 0.26562032957083354L 0.9640777149787676, 0.26562032957083354 L 0.9698258816139191, 0.2437986040808775 L 0.9750801846658901, 0.22185272924157082 \", \"type\": \"path\"}, {\"fillcolor\": \"#f2e6ce\", \"layer\": \"below\", \"line\": {\"color\": \"rgb(175,175,175)\", \"width\": 0.5}, \"path\": \"M 0.9981849830298577,0.06022241819856359 Q 0.14543278386725483, 0.13729277248500865 0.11755296474159527, 0.9930666143217489L 0.11755296474159527, 0.9930666143217489 L 0.13169124006793198, 0.9912907834179486 L 0.14580277622483756, 0.9893136764672416 M 0.14580277622483756,0.9893136764672416 Q 0.14553016126996834, 0.1371895482926342 0.9961883925296214, 0.08722778564911988L 0.9961883925296214, 0.08722778564911988 L 0.9972781020121282, 0.07373186046131794 L 0.9981849830298577, 0.06022241819856359 \", \"type\": \"path\"}, {\"fillcolor\": \"#f2e6ce\", \"layer\": \"below\", \"line\": {\"color\": \"rgb(175,175,175)\", \"width\": 0.5}, \"path\": \"M 0.9961883925296214,0.08722778564911988 Q 0.0973756684129059, 0.17469395868529572 -0.4497031039134961, 0.8931781000061338L -0.4497031039134961, 0.8931781000061338 L -0.43645787885035525, 0.8997246912191799 L -0.42311737771932134, 0.9060748780713023 M -0.42311737771932134,0.9060748780713023 Q 0.09746353850289484, 0.17464495029199884 0.9932931380854352, 0.11562327547855011L 0.9932931380854352, 0.11562327547855011 L 0.9948420809984218, 0.10143586089115414 L 0.9961883925296214, 0.08722778564911988 \", \"type\": \"path\"}, {\"fillcolor\": \"#f2e6ce\", \"layer\": \"below\", \"line\": {\"color\": \"rgb(175,175,175)\", \"width\": 0.5}, \"path\": \"M 0.9999992560253165,0.0012198150735044618 Q 0.0730608181219825, 0.18617764864598166 -0.7322756833554535, 0.6810083138745838L -0.7322756833554535, 0.6810083138745838 L -0.7318919890902139, 0.6814206603160563 L -0.7315080626315991, 0.6818327905762266 M -0.7315080626315991,0.6818327905762266 Q 0.07305213147717758, 0.18618105727125187 0.9999970241023729, 0.002439628331985857L 0.9999970241023729, 0.002439628331985857 L 0.9999983260572215, 0.0018297220430619106 L 0.9999992560253165, 0.0012198150735044618 \", \"type\": \"path\"}, {\"fillcolor\": \"#f2e6ce\", \"layer\": \"below\", \"line\": {\"color\": \"rgb(175,175,175)\", \"width\": 0.5}, \"path\": \"M 0.9994496281941568,0.03317289107933997 Q 0.04631852892996645, 0.19456257059815968 -0.8772909013023563, 0.4799590341811469L -0.8772909013023563, 0.4799590341811469 L -0.874889381666317, 0.48432279509386034 L -0.8724661562820535, 0.4886745401004839 M -0.8724661562820535,0.4886745401004839 Q 0.0463145785888351, 0.1945635109935535 0.9990678254309079, 0.043168045922383054L 0.9990678254309079, 0.043168045922383054 L 0.9992712238882331, 0.03817094587395978 L 0.9994496281941568, 0.03317289107933997 \", \"type\": \"path\"}, {\"fillcolor\": \"#f2e6ce\", \"layer\": \"below\", \"line\": {\"color\": \"rgb(175,175,175)\", \"width\": 0.5}, \"path\": \"M 0.9999933042344903,0.00365943796042382 Q 0.02725621173419973, 0.1981340428142031 -0.9618603806391917, 0.27354087108991454L -0.9618603806391917, 0.27354087108991454 L -0.9617206353023804, 0.274031785808847 L -0.9615806394123192, 0.2745226291353689 M -0.9615806394123192,0.2745226291353689 Q 0.02721232997808494, 0.19814007443514253 0.9999868763136607, 0.005123202167351515L 0.9999868763136607, 0.005123202167351515 L 0.9999903581024003, 0.00439132124001922 L 0.9999933042344903, 0.00365943796042382 \", \"type\": \"path\"}, {\"fillcolor\": \"#f2e6ce\", \"layer\": \"below\", \"line\": {\"color\": \"rgb(175,175,175)\", \"width\": 0.5}, \"path\": \"M 0.9999868763136607,0.005123202167351515 Q 0.01860844271036636, 0.19913243296835154 -0.9817241838549043, 0.19030929255930193L -0.9817241838549043, 0.19030929255930193 L -0.9815622288698396, 0.1911428545775978 L -0.9813995661243673, 0.19197627877137205 M -0.9813995661243673,0.19197627877137205 Q 0.018583211950521296, 0.1991347891092915 0.9999749727929372, 0.007074870158844368L 0.9999749727929372, 0.007074870158844368 L 0.9999814006882617, 0.006099039067117693 L 0.9999868763136607, 0.005123202167351515 \", \"type\": \"path\"}, {\"fillcolor\": \"#f2e6ce\", \"layer\": \"below\", \"line\": {\"color\": \"rgb(175,175,175)\", \"width\": 0.5}, \"path\": \"M 0.9998928695451657,0.014637261790863214 Q 0.002456268218627985, 0.1999849162973002 -0.9992317358901363, 0.039191044767715684L -0.9992317358901363, 0.039191044767715684 L -0.999137507373281, 0.04152398535674208 L -0.9990378320674911, 0.04385669957814411 M -0.9990378320674911,0.04385669957814411 Q 0.0024109177804373006, 0.19998546816070406 0.9998047576134418, 0.019759723012403724L 0.9998047576134418, 0.019759723012403724 L 0.9998520940210021, 0.017198548828816114 L 0.9998928695451657, 0.014637261790863214 \", \"type\": \"path\"}, {\"fillcolor\": \"#f2e6ce\", \"layer\": \"below\", \"line\": {\"color\": \"rgb(175,175,175)\", \"width\": 0.5}, \"path\": \"M 0.9998047576134418,0.019759723012403724 Q -0.016600985211733248, 0.19930982737938394 -0.9892968012812792, -0.14591723330240775L -0.9892968012812792, -0.14591723330240775 L -0.9897192711320951, -0.14302364961695813 L -0.9901332775892635, -0.1401288428923267 M -0.9901332775892635,-0.1401288428923267 Q -0.016650265472469006, 0.19930571657555715 0.9996593086585429, 0.02610108450474712L 0.9996593086585429, 0.02610108450474712 L 0.9997370610788714, 0.022930519082238636 L 0.9998047576134418, 0.019759723012403724 \", \"type\": \"path\"}, {\"fillcolor\": \"#f2e6ce\", \"layer\": \"below\", \"line\": {\"color\": \"rgb(175,175,175)\", \"width\": 0.5}, \"path\": \"M 0.9999749727929372,0.007074870158844368 Q -0.031195461451960366, 0.19755212776581088 -0.9534983754559221, -0.301398155274576L -0.9534983754559221, -0.301398155274576 L -0.9538737210410919, -0.3002081349784197 L -0.9542475814137691, -0.299017647248406 M -0.9542475814137691,-0.299017647248406 Q -0.031214028389896953, 0.19754919496589884 0.9999523859922043, 0.009758368126778673L 0.9999523859922043, 0.009758368126778673 L 0.9999645795700286, 0.008416626719537535 L 0.9999749727929372, 0.007074870158844368 \", \"type\": \"path\"}, {\"fillcolor\": \"#f2e6ce\", \"layer\": \"below\", \"line\": {\"color\": \"rgb(175,175,175)\", \"width\": 0.5}, \"path\": \"M 0.9889832434392132,0.14802751162015088 Q -0.07755055552518368, 0.18435268193800547 -0.7974064955032263, -0.6034425249593064L -0.7974064955032263, -0.6034425249593064 L -0.8085779689666758, -0.5883890448518951 L -0.8194653007877684, -0.5731287994899683 M -0.8194653007877684,-0.5731287994899683 Q -0.07742279611510522, 0.184406373647222 0.9829950543925657, 0.18363203162780925L 0.9829950543925657, 0.18363203162780925 L 0.9861498477620548, 0.1658567989528195 L 0.9889832434392132, 0.14802751162015088 \", \"type\": \"path\"}, {\"fillcolor\": \"#f2e6ce\", \"layer\": \"below\", \"line\": {\"color\": \"rgb(175,175,175)\", \"width\": 0.5}, \"path\": \"M 0.9829950543925657,0.18363203162780925 Q -0.12636955976392858, 0.15501849684818547 -0.377973675965397, -0.9258163426280641L -0.377973675965397, -0.9258163426280641 L -0.39694938960524256, -0.9178404992655452 L -0.4157569190494591, -0.9094757744231022 M -0.4157569190494591,-0.9094757744231022 Q -0.12620406881966906, 0.15515325653482184 0.9750801846658901, 0.22185272924157082L 0.9750801846658901, 0.22185272924157082 L 0.9792241142276766, 0.20278100037977462 L 0.9829950543925657, 0.18363203162780925 \", \"type\": \"path\"}, {\"fillcolor\": \"#f2e6ce\", \"layer\": \"below\", \"line\": {\"color\": \"rgb(175,175,175)\", \"width\": 0.5}, \"path\": \"M 0.9999523859922043,0.009758368126778673 Q -0.13790138197482527, 0.144855820902832 -0.05890467097598501, -0.9982636123475657L -0.05890467097598501, -0.9982636123475657 L -0.06060633865748641, -0.998161746268877 L -0.062307830213960934, -0.9980569794826487 M -0.062307830213960934,-0.9980569794826487 Q -0.13800780167389928, 0.14475443577706934 0.9998928695451657, 0.014637261790863214L 0.9998928695451657, 0.014637261790863214 L 0.9999256034449155, 0.01219785125837756 L 0.9999523859922043, 0.009758368126778673 \", \"type\": \"path\"}, {\"fillcolor\": \"#f2e6ce\", \"layer\": \"below\", \"line\": {\"color\": \"rgb(175,175,175)\", \"width\": 0.5}, \"path\": \"M 0.9932931380854352,0.11562327547855011 Q -0.16326927479512204, 0.11551252706037958 0.22157976860923534, -0.9751422491837166L 0.22157976860923534, -0.9751422491837166 L 0.20454195908830214, -0.9788577971147389 L 0.18744194994287183, -0.9822756819761008 M 0.18744194994287183,-0.9822756819761008 Q -0.1631429295151329, 0.115690900892077 0.9889832434392132, 0.14802751162015088L 0.9889832434392132, 0.14802751162015088 L 0.9912706097820078, 0.13184300581527458 L 0.9932931380854352, 0.11562327547855011 \", \"type\": \"path\"}, {\"fillcolor\": \"#f2e6ce\", \"layer\": \"below\", \"line\": {\"color\": \"rgb(175,175,175)\", \"width\": 0.5}, \"path\": \"M 0.9990678254309079,0.043168045922383054 Q -0.18702930284728378, 0.07085223974200823 0.7196978599596091, -0.6942873975304168L 0.7196978599596091, -0.6942873975304168 L 0.7135264282649535, -0.7006283152766938 L 0.7072991318698147, -0.7069143781648569 M 0.7072991318698147,-0.7069143781648569 Q -0.18700735093866905, 0.07091015932080173 0.9981849830298577, 0.06022241819856359L 0.9981849830298577, 0.06022241819856359 L 0.9986628100262558, 0.051697116655210686 L 0.9990678254309079, 0.043168045922383054 \", \"type\": \"path\"}, {\"fillcolor\": \"#f2e6ce\", \"layer\": \"below\", \"line\": {\"color\": \"rgb(175,175,175)\", \"width\": 0.5}, \"path\": \"M 0.9996593086585429,0.02610108450474712 Q -0.19655739212908518, 0.036948499284991894 0.9219450269603195, -0.3873207550120903L 0.9219450269603195, -0.3873207550120903 L 0.9206923029753018, -0.3902892302409009 L 0.9194300211338134, -0.3932536538137636 M 0.9194300211338134,-0.3932536538137636 Q -0.1965690389352938, 0.03688648712001403 0.9994496281941568, 0.03317289107933997L 0.9994496281941568, 0.03317289107933997 L 0.9995607224992087, 0.029637173226541434 L 0.9996593086585429, 0.02610108450474712 \", \"type\": \"path\"}, {\"fillcolor\": \"#f2e6ce\", \"layer\": \"below\", \"line\": {\"color\": \"rgb(175,175,175)\", \"width\": 0.5}, \"path\": \"M 1.0,0.0 Q -0.1984093363443491, 0.025174098819917043 0.9683132374302525, -0.2497388119963401L 0.9683132374302525, -0.2497388119963401 L 0.9681797139175737, -0.25025595209402124 L 0.9680459142196173, -0.25077302080308655 M 0.9680459142196173,-0.25077302080308655 Q -0.19841124417374983, 0.02515905772131838 0.9999992560253165, 0.0012198150735044618L 0.9999992560253165, 0.0012198150735044618 L 0.9999998140063118, 0.0006099076501912042 L 1.0, 0.0 \", \"type\": \"path\"}, {\"fillcolor\": \"#f2e6ce\", \"layer\": \"below\", \"line\": {\"color\": \"rgb(175,175,175)\", \"width\": 0.5}, \"path\": \"M 0.9999970241023729,0.002439628331985857 Q -0.19973214410877016, 0.010347492919228323 0.9943914072675498, -0.1057626075343354L 0.9943914072675498, -0.1057626075343354 L 0.9943399616610671, -0.10624519115643637 L 0.9942882818541108, -0.1067277497542247 M 0.9942882818541108,-0.1067277497542247 Q -0.1997334317490093, 0.010322608282980041 0.9999933042344903, 0.00365943796042382L 0.9999933042344903, 0.00365943796042382 L 0.999995350161255, 0.003049533713398861 L 0.9999970241023729, 0.002439628331985857 \", \"type\": \"path\"}, {\"fillcolor\": \"#ecd5bb\", \"layer\": \"below\", \"line\": {\"color\": \"rgb(175,175,175)\", \"width\": 0.5}, \"path\": \"M 0.5550576571102622,0.8318118761374272 Q 0.034912135561824285, 0.1969292837302589 -0.23528629647544244, 0.971926107629006L -0.23528629647544244, 0.971926107629006 L -0.16993013901563855, 0.9854561115819038 L -0.10381702973554492, 0.9945964127910824 M -0.10381702973554492,0.9945964127910824 Q 0.03454745400676986, 0.19699358726022054 0.43606421537480317, 0.8999155516322391L 0.43606421537480317, 0.8999155516322391 L 0.4967294728356182, 0.8679054273458883 L 0.5550576571102622, 0.8318118761374272 \", \"type\": \"path\"}, {\"fillcolor\": \"#ecd5bb\", \"layer\": \"below\", \"line\": {\"color\": \"rgb(175,175,175)\", \"width\": 0.5}, \"path\": \"M 0.8060992665173825,0.5917803414444737 Q 0.026923813860720153, 0.19817948493018467 -0.6190030052625022, 0.7853886168490034L -0.6190030052625022, 0.7853886168490034 L -0.5945131287191703, 0.8040859032345632 L -0.569458855553554, 0.8220198366412069 M -0.569458855553554,0.8220198366412069 Q 0.026650425553590706, 0.19821643427781796 0.7663542250942741, 0.6424182451333047L 0.7663542250942741, 0.6424182451333047 L 0.7866343147504579, 0.6174191889284603 L 0.8060992665173825, 0.5917803414444737 \", \"type\": \"path\"}, {\"fillcolor\": \"#ecd5bb\", \"layer\": \"below\", \"line\": {\"color\": \"rgb(175,175,175)\", \"width\": 0.5}, \"path\": \"M 0.9442057469091351,0.32935620155655554 Q 0.047231301308600024, 0.19434300650318304 -0.6877300026239147, 0.7259665581078169L -0.6877300026239147, 0.7259665581078169 L -0.6833419473359535, 0.7300984748724701 L -0.6789290677620684, 0.7342038687910387 M -0.6789290677620684,0.7342038687910387 Q 0.04686414170709171, 0.19443187038666687 0.9388732224158416, 0.344263085779602L 0.9388732224158416, 0.344263085779602 L 0.941568985777364, 0.3368201968739198 L 0.9442057469091351, 0.32935620155655554 \", \"type\": \"path\"}, {\"fillcolor\": \"#ecd5bb\", \"layer\": \"below\", \"line\": {\"color\": \"rgb(175,175,175)\", \"width\": 0.5}, \"path\": \"M 0.9113347235674254,0.41166615311473487 Q 0.017772673023173834, 0.19920876510237032 -0.8240670245337736, 0.5664923115771766L -0.8240670245337736, 0.5664923115771766 L -0.8174387158401651, 0.5760155777803078 L -0.8107003577629951, 0.5854612966908672 M -0.8107003577629951,0.5854612966908672 Q 0.017376952528230603, 0.19924367372850668 0.8998110714854316, 0.4362797676173392L 0.8998110714854316, 0.4362797676173392 L 0.9056565189072135, 0.4240121103941112 L 0.9113347235674254, 0.41166615311473487 \", \"type\": \"path\"}, {\"fillcolor\": \"#ecd5bb\", \"layer\": \"below\", \"line\": {\"color\": \"rgb(175,175,175)\", \"width\": 0.5}, \"path\": \"M 0.8862822258647588,0.46314556687526287 Q -0.016927709183609592, 0.19928234407943707 -0.9517027489997989, 0.3070209724859618L -0.9517027489997989, 0.3070209724859618 L -0.9451594361316114, 0.3266093083354707 L -0.9382129958978799, 0.34605833948674725 M -0.9382129958978799,0.34605833948674725 Q -0.017281641877802748, 0.1992519632375234 0.8646220060745403, 0.502422916089262L 0.8646220060745403, 0.502422916089262 L 0.8756723616148088, 0.4829057000118591 L 0.8862822258647588, 0.46314556687526287 \", \"type\": \"path\"}, {\"fillcolor\": \"#ecd5bb\", \"layer\": \"below\", \"line\": {\"color\": \"rgb(175,175,175)\", \"width\": 0.5}, \"path\": \"M 0.9486358780601083,0.31636999044967495 Q -0.008053553219122163, 0.19983778491703408 -0.9710178253533744, 0.23900707697891208L -0.9710178253533744, 0.23900707697891208 L -0.9699510520936788, 0.24330013674958256 L -0.968865298475453, 0.24758843553379345 M -0.968865298475453,0.24758843553379345 Q -0.00854052752691836, 0.19981756526782612 0.9442057469091351, 0.32935620155655554L 0.9442057469091351, 0.32935620155655554 L 0.94644308583442, 0.322870694359554 L 0.9486358780601083, 0.31636999044967495 \", \"type\": \"path\"}, {\"fillcolor\": \"#ecd5bb\", \"layer\": \"below\", \"line\": {\"color\": \"rgb(175,175,175)\", \"width\": 0.5}, \"path\": \"M 0.9388732224158416,0.344263085779602 Q -0.02644940472951481, 0.19824335799580858 -0.996288574954924, 0.08607598628123247L -0.996288574954924, 0.08607598628123247 L -0.9957005470143538, 0.09263056015871107 L -0.9950693970598462, 0.09918112237192198 M -0.9950693970598462,0.09918112237192198 Q -0.026766366412366346, 0.19820081137341228 0.9331157364899756, 0.35957617039338197L 0.9331157364899756, 0.35957617039338197 L 0.9360257946266324, 0.3519314021135106 L 0.9388732224158416, 0.344263085779602 \", \"type\": \"path\"}, {\"fillcolor\": \"#ecd5bb\", \"layer\": \"below\", \"line\": {\"color\": \"rgb(175,175,175)\", \"width\": 0.5}, \"path\": \"M 0.9266132245662363,0.3760158667649036 Q -0.03974409292455411, 0.19601124222249197 -0.9998932540070942, -0.014610975022378238L -0.9998932540070942, -0.014610975022378238 L -0.9999781783614669, -0.006606269816042247 L -0.9999990215966388, 0.0013988587366954087 M -0.9999990215966388,0.0013988587366954087 Q -0.0400369087012197, 0.1959516418447424 0.9193026739138589, 0.39355125934854945L 0.9193026739138589, 0.39355125934854945 L 0.9229995929379708, 0.3848009244224085 L 0.9266132245662363, 0.3760158667649036 \", \"type\": \"path\"}, {\"fillcolor\": \"#ecd5bb\", \"layer\": \"below\", \"line\": {\"color\": \"rgb(175,175,175)\", \"width\": 0.5}, \"path\": \"M 0.9193026739138589,0.39355125934854945 Q -0.060389120303716716, 0.19066503126935266 -0.978244216878727, -0.207456627137641L -0.978244216878727, -0.207456627137641 L -0.9799593667662594, -0.19919748865653886 L -0.9816047875396189, -0.19092417625670038 M -0.9816047875396189,-0.19092417625670038 Q -0.06066737071462972, 0.19057667782436993 0.9113347235674254, 0.41166615311473487L 0.9113347235674254, 0.41166615311473487 L 0.9153635111846563, 0.40262841726795384 L 0.9193026739138589, 0.39355125934854945 \", \"type\": \"path\"}, {\"fillcolor\": \"#ecd5bb\", \"layer\": \"below\", \"line\": {\"color\": \"rgb(175,175,175)\", \"width\": 0.5}, \"path\": \"M 0.8998110714854316,0.4362797676173392 Q -0.08480956270054607, 0.18112796049904098 -0.911302262740548, -0.41173800641179237L -0.911302262740548, -0.41173800641179237 L -0.9165504543977379, -0.3999190724925484 L -0.9216453706674187, -0.3880332598210061 M -0.9216453706674187,-0.3880332598210061 Q -0.08519131100214221, 0.18094872348191984 0.8862822258647588, 0.46314556687526287L 0.8862822258647588, 0.46314556687526287 L 0.8931476694826341, 0.44976353842629274 L 0.8998110714854316, 0.4362797676173392 \", \"type\": \"path\"}, {\"fillcolor\": \"#ecd5bb\", \"layer\": \"below\", \"line\": {\"color\": \"rgb(175,175,175)\", \"width\": 0.5}, \"path\": \"M 0.7113009716491767,0.702887564074751 Q -0.14886633557488962, 0.13356202354151556 -0.6219090910088622, -0.7830894473305912L -0.6219090910088622, -0.7830894473305912 L -0.657912656539105, -0.7530942413573866 L -0.6924714661970195, -0.7214452636915362 M -0.6924714661970195,-0.7214452636915362 Q -0.14912653405653686, 0.13327144045250114 0.6393986734692482, 0.7688753711530665L 0.6393986734692482, 0.7688753711530665 L 0.6761552931845694, 0.7367591326196704 L 0.7113009716491767, 0.702887564074751 \", \"type\": \"path\"}, {\"fillcolor\": \"#ecd5bb\", \"layer\": \"below\", \"line\": {\"color\": \"rgb(175,175,175)\", \"width\": 0.5}, \"path\": \"M 0.6393986734692482,0.7688753711530665 Q -0.18418857727664423, 0.07793951501520688 -0.10668701109037192, -0.9942926539327357L -0.10668701109037192, -0.9942926539327357 L -0.1575628007102444, -0.9875089689883043 L -0.20802351250490156, -0.9781238256198052 M -0.20802351250490156,-0.9781238256198052 Q -0.18429052992537137, 0.07769813755699555 0.5550576571102622, 0.8318118761374272L 0.5550576571102622, 0.8318118761374272 L 0.5980566297018024, 0.8014538462505008 L 0.6393986734692482, 0.7688753711530665 \", \"type\": \"path\"}, {\"fillcolor\": \"#ecd5bb\", \"layer\": \"below\", \"line\": {\"color\": \"rgb(175,175,175)\", \"width\": 0.5}, \"path\": \"M 0.9552586646452796,0.29577167481034633 Q -0.1585968770831371, 0.12184839178042649 -0.039665110307351904, -0.9992130298511452L -0.039665110307351904, -0.9992130298511452 L -0.042730989406571794, -0.9990866141352988 L -0.045796466168075624, -0.9989507914239402 M -0.045796466168075624,-0.9989507914239402 Q -0.15880149861980491, 0.12158159415020063 0.9524059908847756, 0.3048324597656698L 0.9524059908847756, 0.3048324597656698 L 0.9538430866477214, 0.3003054545864049 L 0.9552586646452796, 0.29577167481034633 \", \"type\": \"path\"}, {\"fillcolor\": \"#ecd5bb\", \"layer\": \"below\", \"line\": {\"color\": \"rgb(175,175,175)\", \"width\": 0.5}, \"path\": \"M 0.43606421537480317,0.8999155516322391 Q -0.19870526360192192, -0.02272043610696599 0.6279500990229483, -0.778253604641231L 0.6279500990229483, -0.778253604641231 L 0.5710062586953764, -0.8209457062015179 L 0.5111701480521456, -0.8594795400359148 M 0.5111701480521456,-0.8594795400359148 Q -0.1986828391530584, -0.0229157026093447 0.3020899605251275, 0.9532794216544942L 0.3020899605251275, 0.9532794216544942 L 0.3700402984886436, 0.9290157035779512 L 0.43606421537480317, 0.8999155516322391 \", \"type\": \"path\"}, {\"fillcolor\": \"#ecd5bb\", \"layer\": \"below\", \"line\": {\"color\": \"rgb(175,175,175)\", \"width\": 0.5}, \"path\": \"M 0.7663542250942741,0.6424182451333047 Q -0.19854758260985406, -0.024059456348454338 0.8976136249888661, -0.44078314422666753L 0.8976136249888661, -0.44078314422666753 L 0.8796565356218129, -0.475609481967959 L 0.860348882430292, -0.5097056017947494 M 0.860348882430292,-0.5097056017947494 Q -0.1985060565761517, -0.024399702920028996 0.7113009716491767, 0.702887564074751L 0.7113009716491767, 0.702887564074751 L 0.739445978249285, 0.6732158979487619 L 0.7663542250942741, 0.6424182451333047 \", \"type\": \"path\"}, {\"fillcolor\": \"#ecd5bb\", \"layer\": \"below\", \"line\": {\"color\": \"rgb(175,175,175)\", \"width\": 0.5}, \"path\": \"M 0.8390756248935435,0.5440147936495013 Q -0.19791505795164202, -0.028803295575301438 0.9593302137114759, -0.2822862750122543L 0.9593302137114759, -0.2822862750122543 L 0.9521445250169464, -0.3056481694371055 L 0.9443900135354616, -0.3288274659065004 M 0.9443900135354616,-0.3288274659065004 Q -0.19778097619678928, -0.029710022797787863 0.8060992665173825, 0.5917803414444737L 0.8060992665173825, 0.5917803414444737 L 0.8229340755621172, 0.5681368737185816 L 0.8390756248935435, 0.5440147936495013 \", \"type\": \"path\"}, {\"fillcolor\": \"#ecd5bb\", \"layer\": \"below\", \"line\": {\"color\": \"rgb(175,175,175)\", \"width\": 0.5}, \"path\": \"M 0.9331157364899756,0.35957617039338197 Q -0.19906581630228393, -0.019308049614224443 0.9848252796182199, -0.17354874999519598L 0.9848252796182199, -0.17354874999519598 L 0.9835579909746534, -0.18059257567769446 L 0.9822403230147129, -0.18762715113744213 M 0.9822403230147129,-0.18762715113744213 Q -0.19903304544076192, -0.019642984054761357 0.9266132245662363, 0.3760158667649036L 0.9266132245662363, 0.3760158667649036 L 0.9299008108674824, 0.3678103885808539 L 0.9331157364899756, 0.35957617039338197 \", \"type\": \"path\"}, {\"fillcolor\": \"#ecd5bb\", \"layer\": \"below\", \"line\": {\"color\": \"rgb(175,175,175)\", \"width\": 0.5}, \"path\": \"M 0.9524059908847756,0.3048324597656698 Q -0.1982705808186389, -0.02624455718505408 0.9989163790815561, -0.046541031387293014L 0.9989163790815561, -0.046541031387293014 L 0.9986986205446811, -0.05100064040922657 L 0.9984609524200881, -0.05545923270629137 M 0.9984609524200881,-0.05545923270629137 Q -0.1982282280216114, -0.026562560407687386 0.9486358780601083, 0.31636999044967495L 0.9486358780601083, 0.31636999044967495 L 0.9505384397929078, 0.3106069453120207 L 0.9524059908847756, 0.3048324597656698 \", \"type\": \"path\"}, {\"fillcolor\": \"#e6c4a9\", \"layer\": \"below\", \"line\": {\"color\": \"rgb(175,175,175)\", \"width\": 0.5}, \"path\": \"M -0.04262885830976893,0.9990909770582485 Q -0.06371856544454067, 0.18957833319683395 -0.569458855553554, 0.8220198366412069L -0.569458855553554, 0.8220198366412069 L -0.5443937216820687, 0.8388298252882681 L -0.5188327340544994, 0.8548757769837283 M -0.5188327340544994,0.8548757769837283 Q -0.0638133672844655, 0.18954644326870898 -0.10381702973554492, 0.9945964127910824L -0.10381702973554492, 0.9945964127910824 L -0.07325742152391834, 0.9973130652867569 L -0.04262885830976893, 0.9990909770582485 \", \"type\": \"path\"}, {\"fillcolor\": \"#e6c4a9\", \"layer\": \"below\", \"line\": {\"color\": \"rgb(175,175,175)\", \"width\": 0.5}, \"path\": \"M 0.2319987678869561,0.9727160796958866 Q -0.049083182110053414, 0.19388357649360435 -0.6668915530878976, 0.7451547868865984L -0.6668915530878976, 0.7451547868865984 L -0.6641173535441325, 0.7476283439795055 L -0.6613339794397479, 0.750091572835202 M -0.6613339794397479,0.750091572835202 Q -0.04928344102833518, 0.19383276926362739 0.22274796956864132, 0.9748760649708493L 0.22274796956864132, 0.9748760649708493 L 0.22737593362254627, 0.9738070572804838 L 0.2319987678869561, 0.9727160796958866 \", \"type\": \"path\"}, {\"fillcolor\": \"#e6c4a9\", \"layer\": \"below\", \"line\": {\"color\": \"rgb(175,175,175)\", \"width\": 0.5}, \"path\": \"M 0.21322623385054715,0.9770028521953822 Q -0.06818254324890603, 0.18801899051987025 -0.789903217806444, 0.6132315276459825L -0.789903217806444, 0.6132315276459825 L -0.7856009916324512, 0.6187334498361222 L -0.7812604436081044, 0.6242051900242963 M -0.7812604436081044,0.6242051900242963 Q -0.06836580462900364, 0.18795243216683552 0.19764760835610282, 0.9802731368915056L 0.19764760835610282, 0.9802731368915056 L 0.20544342832739187, 0.9786689929476093 L 0.21322623385054715, 0.9770028521953822 \", \"type\": \"path\"}, {\"fillcolor\": \"#e6c4a9\", \"layer\": \"below\", \"line\": {\"color\": \"rgb(175,175,175)\", \"width\": 0.5}, \"path\": \"M 0.11755296474159527,0.9930666143217489 Q -0.0985169048459227, 0.17405292143362439 -0.9119203393605994, 0.4103672680178687L -0.9119203393605994, 0.4103672680178687 L -0.9062010855399645, 0.4228470084630964 L -0.9003110546940228, 0.4352470617887456 M -0.9003110546940228,0.4352470617887456 Q -0.09865233659208827, 0.17397619516738871 0.08869622478265811, 0.9960587230225456L 0.08869622478265811, 0.9960587230225456 L 0.10313544600898468, 0.9946673211564396 L 0.11755296474159527, 0.9930666143217489 \", \"type\": \"path\"}, {\"fillcolor\": \"#e6c4a9\", \"layer\": \"below\", \"line\": {\"color\": \"rgb(175,175,175)\", \"width\": 0.5}, \"path\": \"M 0.2551564728714271,0.9668997747190826 Q -0.10087552515368486, 0.1726966369822189 -0.9675459692272588, 0.2526950680802545L -0.9675459692272588, 0.2526950680802545 L -0.9668979191159376, 0.25516350446188385 L -0.9662435714562221, 0.2576302789260702 M -0.9662435714562221,0.2576302789260702 Q -0.10109979445286249, 0.17256544138844532 0.24770150500509683, 0.9688363971374165L 0.24770150500509683, 0.9688363971374165 L 0.2514308535265999, 0.9678752636031595 L 0.2551564728714271, 0.9668997747190826 \", \"type\": \"path\"}, {\"fillcolor\": \"#e6c4a9\", \"layer\": \"below\", \"line\": {\"color\": \"rgb(175,175,175)\", \"width\": 0.5}, \"path\": \"M 0.23998260504607444,0.9707771882750953 Q -0.1095785177158452, 0.16730973807641383 -0.985793386332423, 0.16796249421598314L -0.985793386332423, 0.16796249421598314 L -0.9852171997829349, 0.171309863264999 L -0.9846296469102082, 0.1746552559343087 M -0.9846296469102082,0.1746552559343087 Q -0.10969750765091804, 0.16723174583546266 0.2319987678869561, 0.9727160796958866L 0.2319987678869561, 0.9727160796958866 L 0.23599267769132704, 0.9717548333175798 L 0.23998260504607444, 0.9707771882750953 \", \"type\": \"path\"}, {\"fillcolor\": \"#e6c4a9\", \"layer\": \"below\", \"line\": {\"color\": \"rgb(175,175,175)\", \"width\": 0.5}, \"path\": \"M 0.24770150500509683,0.9688363971374165 Q -0.12059161731653185, 0.159554573212375 -0.9996598972596761, 0.02607853160693215L -0.9996598972596761, 0.02607853160693215 L -0.9995640755019918, 0.029523871118950846 L -0.9994563793767304, 0.03296885990078014 M -0.9994563793767304,0.03296885990078014 Q -0.12067662883360138, 0.1594902857648616 0.23998260504607444, 0.9707771882750953L 0.23998260504607444, 0.9707771882750953 L 0.24384398591447926, 0.9698144722230841 L 0.24770150500509683, 0.9688363971374165 \", \"type\": \"path\"}, {\"fillcolor\": \"#e6c4a9\", \"layer\": \"below\", \"line\": {\"color\": \"rgb(175,175,175)\", \"width\": 0.5}, \"path\": \"M 0.22274796956864132,0.9748760649708493 Q -0.1374449293327629, 0.14528899270320453 -0.9857266435882287, -0.1683537469742954L -0.9857266435882287, -0.1683537469742954 L -0.9864371694622238, -0.16413930273811916 L -0.9871296766928961, -0.15992186026987823 M -0.9871296766928961,-0.15992186026987823 Q -0.1375326994084482, 0.14520591101406802 0.21322623385054715, 0.9770028521953822L 0.21322623385054715, 0.9770028521953822 L 0.21798969543931104, 0.975951070844372 L 0.22274796956864132, 0.9748760649708493 \", \"type\": \"path\"}, {\"fillcolor\": \"#e6c4a9\", \"layer\": \"below\", \"line\": {\"color\": \"rgb(175,175,175)\", \"width\": 0.5}, \"path\": \"M 0.19764760835610282,0.9802731368915056 Q -0.1525098561569817, 0.129386026196714 -0.9349598437159514, -0.3547535632501014L -0.9349598437159514, -0.3547535632501014 L -0.9375501549516156, -0.34785012138879795 L -0.9400894941900289, -0.34092776788278134 M -0.9400894941900289,-0.34092776788278134 Q -0.15263540043158394, 0.12923789898899637 0.18126147175503313, 0.9834349388023589L 0.18126147175503313, 0.9834349388023589 L 0.18946113584452542, 0.9818882207280533 L 0.19764760835610282, 0.9802731368915056 \", \"type\": \"path\"}, {\"fillcolor\": \"#e6c4a9\", \"layer\": \"below\", \"line\": {\"color\": \"rgb(175,175,175)\", \"width\": 0.5}, \"path\": \"M 0.16431835984930512,0.9864073583547693 Q -0.16790094920753054, 0.10867047094408973 -0.8325989232813367, -0.5538763697349426L -0.8325989232813367, -0.5538763697349426 L -0.8376846364465379, -0.546154236330207 L -0.8426987310745666, -0.5383854090197052 M -0.8426987310745666,-0.5383854090197052 Q -0.1679145159801132, 0.10864950677828365 0.14580277622483756, 0.9893136764672416L 0.14580277622483756, 0.9893136764672416 L 0.15506737706952417, 0.9879038964235226 L 0.16431835984930512, 0.9864073583547693 \", \"type\": \"path\"}, {\"fillcolor\": \"#e6c4a9\", \"layer\": \"below\", \"line\": {\"color\": \"rgb(175,175,175)\", \"width\": 0.5}, \"path\": \"M 0.08869622478265811,0.9960587230225456 Q -0.19333986703961809, 0.051182964090630806 -0.4157569190494591, -0.9094757744231022L -0.4157569190494591, -0.9094757744231022 L -0.4316051301413545, -0.9020626428556192 L -0.44732121813509274, -0.8943733715882516 M -0.44732121813509274,-0.8943733715882516 Q -0.19333793790555903, 0.05119025069704394 0.05386918799813258, 0.9985480011418689L 0.05386918799813258, 0.9985480011418689 L 0.07129357163677624, 0.9974553757653882 L 0.08869622478265811, 0.9960587230225456 \", \"type\": \"path\"}, {\"fillcolor\": \"#e6c4a9\", \"layer\": \"below\", \"line\": {\"color\": \"rgb(175,175,175)\", \"width\": 0.5}, \"path\": \"M 0.26804230206424134,0.963407143581623 Q -0.19740615514893925, 0.0321062285127501 -0.051074871288464836, -0.9986948270231837L -0.051074871288464836, -0.9986948270231837 L -0.05320286521185575, -0.9985837246486892 L -0.055330617556895924, -0.9984680880032033 M -0.055330617556895924,-0.9984680880032033 Q -0.19744066533703997, 0.03189331703142503 0.2618530138201015, 0.9651077655647217L 0.2618530138201015, 0.9651077655647217 L 0.2649490224134149, 0.9642624204655991 L 0.26804230206424134, 0.963407143581623 \", \"type\": \"path\"}, {\"fillcolor\": \"#e6c4a9\", \"layer\": \"below\", \"line\": {\"color\": \"rgb(175,175,175)\", \"width\": 0.5}, \"path\": \"M 0.016922829628744217,0.9998567986653671 Q -0.1970633270199892, -0.03414740317817442 0.35234805290518895, -0.9358690344347985L 0.35234805290518895, -0.9358690344347985 L 0.3239360412107857, -0.946078982540403 L 0.2952287665284633, -0.9554265934199666 M 0.2952287665284633,-0.9554265934199666 Q -0.19707728552372944, -0.034066751101307406 -0.04262885830976893, 0.9990909770582485L -0.04262885830976893, 0.9990909770582485 L -0.012858716822486667, 0.9999173232831198 L 0.016922829628744217, 0.9998567986653671 \", \"type\": \"path\"}, {\"fillcolor\": \"#e6c4a9\", \"layer\": \"below\", \"line\": {\"color\": \"rgb(175,175,175)\", \"width\": 0.5}, \"path\": \"M 0.05386918799813258,0.9985480011418689 Q -0.17636960086900358, -0.09430675420831945 0.860348882430292, -0.5097056017947494L 0.860348882430292, -0.5097056017947494 L 0.8509289846137915, -0.5252807469764543 L 0.8412271573275014, -0.5406818563394663 M 0.8412271573275014,-0.5406818563394663 Q -0.17634286908398383, -0.09435673014273516 0.016922829628744217, 0.9998567986653671L 0.016922829628744217, 0.9998567986653671 L 0.035402057534278816, 0.9993731506911417 L 0.05386918799813258, 0.9985480011418689 \", \"type\": \"path\"}, {\"fillcolor\": \"#e6c4a9\", \"layer\": \"below\", \"line\": {\"color\": \"rgb(175,175,175)\", \"width\": 0.5}, \"path\": \"M 0.18126147175503313,0.9834349388023589 Q -0.17289082928683563, -0.10054233510571685 0.9443900135354616, -0.3288274659065004L 0.9443900135354616, -0.3288274659065004 L 0.9419161155029843, -0.3358482266675957 L 0.9393900247181945, -0.3428503776575866 M 0.9393900247181945,-0.3428503776575866 Q -0.17277437098462534, -0.10074232839708969 0.16431835984930512, 0.9864073583547693L 0.16431835984930512, 0.9864073583547693 L 0.1727963073170824, 0.9849575809026399 L 0.18126147175503313, 0.9834349388023589 \", \"type\": \"path\"}, {\"fillcolor\": \"#e6c4a9\", \"layer\": \"below\", \"line\": {\"color\": \"rgb(175,175,175)\", \"width\": 0.5}, \"path\": \"M 0.27199766711776296,0.9622979107752935 Q -0.17296996516607938, -0.10040613104011771 0.9705151018229904, -0.24104032262986744L 0.9705151018229904, -0.24104032262986744 L 0.9701017179927061, -0.24269869539740035 L 0.9696855004114606, -0.24435635922106735 M 0.9696855004114606,-0.24435635922106735 Q -0.17293532871346892, -0.10046577567890701 0.26804230206424134, 0.963407143581623L 0.26804230206424134, 0.963407143581623 L 0.27002055417667686, 0.9628545582392599 L 0.27199766711776296, 0.9622979107752935 \", \"type\": \"path\"}, {\"fillcolor\": \"#e6c4a9\", \"layer\": \"below\", \"line\": {\"color\": \"rgb(175,175,175)\", \"width\": 0.5}, \"path\": \"M 0.2618530138201015,0.9651077655647217 Q -0.16398043334065882, -0.11450073135753217 0.9962402550721983, -0.08663344719957439L 0.9962402550721983, -0.08663344719957439 L 0.9960097923778585, -0.08924401093303307 L 0.9957724889328274, -0.09185396172469636 M 0.9957724889328274,-0.09185396172469636 Q -0.16388357885750277, -0.11463931516219328 0.2551564728714271, 0.9668997747190826L 0.2551564728714271, 0.9668997747190826 L 0.258506296164062, 0.9660095728529496 L 0.2618530138201015, 0.9651077655647217 \", \"type\": \"path\"}, {\"fillcolor\": \"#e1b396\", \"layer\": \"below\", \"line\": {\"color\": \"rgb(175,175,175)\", \"width\": 0.5}, \"path\": \"M -0.3443224221183398,0.9388514630262659 Q -0.10646866784306347, 0.1693057080187299 -0.6970074860931459, 0.7170638495490572L -0.6970074860931459, 0.7170638495490572 L -0.6923830534606755, 0.7215301152969786 L -0.6877300026239147, 0.7259665581078169 M -0.6877300026239147,0.7259665581078169 Q -0.10674837120518695, 0.16912949253468368 -0.3594523745338194, 0.9331634317963808L -0.3594523745338194, 0.9331634317963808 L -0.35189889105468214, 0.9360380176437734 L -0.3443224221183398, 0.9388514630262659 \", \"type\": \"path\"}, {\"fillcolor\": \"#e1b396\", \"layer\": \"below\", \"line\": {\"color\": \"rgb(175,175,175)\", \"width\": 0.5}, \"path\": \"M -0.3594523745338194,0.9331634317963808 Q -0.12065717700899126, 0.15950500191599307 -0.8001520435277687, 0.599797221766103L -0.8001520435277687, 0.599797221766103 L -0.7950560066232891, 0.6065360222874058 L -0.789903217806444, 0.6132315276459825 M -0.789903217806444,0.6132315276459825 Q -0.1208201820439851, 0.15938156609488532 -0.37706298759207263, 0.9261876178119315L -0.37706298759207263, 0.9261876178119315 L -0.36827419833195596, 0.9297172230538462 L -0.3594523745338194, 0.9331634317963808 \", \"type\": \"path\"}, {\"fillcolor\": \"#e1b396\", \"layer\": \"below\", \"line\": {\"color\": \"rgb(175,175,175)\", \"width\": 0.5}, \"path\": \"M -0.48431503972969236,0.8748936748494793 Q -0.15176471342425593, 0.13025924826765076 -0.9382129958978799, 0.34605833948674725L -0.9382129958978799, 0.34605833948674725 L -0.9313980363087867, 0.3640023323553518 L -0.9242399212249308, 0.38181221564289125 M -0.9242399212249308,0.38181221564289125 Q -0.15186335375868998, 0.13014423454445836 -0.5188327340544994, 0.8548757769837283L -0.5188327340544994, 0.8548757769837283 L -0.5016737416596427, 0.8650569096476913 L -0.48431503972969236, 0.8748936748494793 \", \"type\": \"path\"}, {\"fillcolor\": \"#e1b396\", \"layer\": \"below\", \"line\": {\"color\": \"rgb(175,175,175)\", \"width\": 0.5}, \"path\": \"M -0.2678898047437237,0.9634495588843089 Q -0.14122267756676798, 0.1416197561813771 -0.9626935890075738, 0.2705938906991739L -0.9626935890075738, 0.2705938906991739 L -0.9624630475965444, 0.2714127521159828 L -0.9622318096670207, 0.27223141711589877 M -0.9622318096670207,0.27223141711589877 Q -0.14128102941750645, 0.1415615439543158 -0.27032225982090113, 0.9627698976626353L -0.27032225982090113, 0.9627698976626353 L -0.26910624685349277, 0.963110496207173 L -0.2678898047437237, 0.9634495588843089 \", \"type\": \"path\"}, {\"fillcolor\": \"#e1b396\", \"layer\": \"below\", \"line\": {\"color\": \"rgb(175,175,175)\", \"width\": 0.5}, \"path\": \"M -0.2957559721728198,0.9552635264282365 Q -0.154068046956442, 0.12752661254431402 -0.9937016532320151, 0.11205812939702318L -0.9937016532320151, 0.11205812939702318 L -0.9931674702285302, 0.11669779809345754 L -0.9926116243782512, 0.12133492139186276 M -0.9926116243782512,0.12133492139186276 Q -0.15418098161078814, 0.12739005027683212 -0.30635309572421826, 0.9519179485334794L -0.30635309572421826, 0.9519179485334794 L -0.3010591812813926, 0.9536054579154722 L -0.2957559721728198, 0.9552635264282365 \", \"type\": \"path\"}, {\"fillcolor\": \"#e1b396\", \"layer\": \"below\", \"line\": {\"color\": \"rgb(175,175,175)\", \"width\": 0.5}, \"path\": \"M -0.2805195609792646,0.9598483088009275 Q -0.15803303201178082, 0.12257879422299545 -0.9994563793767304, 0.03296885990078014L -0.9994563793767304, 0.03296885990078014 L -0.9993489002462476, 0.03608012717016993 L -0.9992317358901363, 0.039191044767715684 M -0.9992317358901363,0.039191044767715684 Q -0.15808483810597593, 0.12251197476576477 -0.28730029674634255, 0.957840560578567L -0.28730029674634255, 0.957840560578567 L -0.2839117036511762, 0.958850428653962 L -0.2805195609792646, 0.9598483088009275 \", \"type\": \"path\"}, {\"fillcolor\": \"#e1b396\", \"layer\": \"below\", \"line\": {\"color\": \"rgb(175,175,175)\", \"width\": 0.5}, \"path\": \"M -0.2744534678218097,0.9616003816558014 Q -0.16771961486042086, 0.10895012983504011 -0.9901332775892635, -0.1401288428923267L -0.9901332775892635, -0.1401288428923267 L -0.9905233760438008, -0.13734424454920235 L -0.9909056432573515, -0.13455856033985455 M -0.9909056432573515,-0.13455856033985455 Q -0.1677572187773346, 0.1088922198694356 -0.2805195609792646, 0.9598483088009275L -0.2805195609792646, 0.9598483088009275 L -0.2774878972387476, 0.9607291329433173 L -0.2744534678218097, 0.9616003816558014 \", \"type\": \"path\"}, {\"fillcolor\": \"#e1b396\", \"layer\": \"below\", \"line\": {\"color\": \"rgb(175,175,175)\", \"width\": 0.5}, \"path\": \"M -0.3169123871439301,0.9484548164645145 Q -0.18007112979306883, 0.08703096124396058 -0.9400894941900289, -0.34092776788278134L -0.9400894941900289, -0.34092776788278134 L -0.9422742425045092, -0.33484212983517087 L -0.9444195961084902, -0.32874249266907407 M -0.9444195961084902,-0.32874249266907407 Q -0.18013479687808373, 0.08689910789928469 -0.33053309015037735, 0.9437944036259394L -0.33053309015037735, 0.9437944036259394 L -0.32373112513190616, 0.9461491207102769 L -0.3169123871439301, 0.9484548164645145 \", \"type\": \"path\"}, {\"fillcolor\": \"#e1b396\", \"layer\": \"below\", \"line\": {\"color\": \"rgb(175,175,175)\", \"width\": 0.5}, \"path\": \"M -0.33053309015037735,0.9437944036259394 Q -0.18846292125071418, 0.06694570422101113 -0.8518475897815462, -0.5237897324149937L -0.8518475897815462, -0.5237897324149937 L -0.8556725771236442, -0.5175175753137098 L -0.8594513834035759, -0.5112174875389922 M -0.8594513834035759,-0.5112174875389922 Q -0.18846143733544388, 0.06694988153431315 -0.3443224221183398, 0.9388514630262659L -0.3443224221183398, 0.9388514630262659 L -0.3374368070843948, 0.9413481827807865 L -0.33053309015037735, 0.9437944036259394 \", \"type\": \"path\"}, {\"fillcolor\": \"#e1b396\", \"layer\": \"below\", \"line\": {\"color\": \"rgb(175,175,175)\", \"width\": 0.5}, \"path\": \"M -0.37706298759207263,0.9261876178119315 Q -0.19971526139779683, 0.01066838154593677 -0.4735857832615627, -0.8807476970691052L -0.4735857832615627, -0.8807476970691052 L -0.48408936789506246, -0.8750185620265201 L -0.4945236559689123, -0.8691641695831351 M -0.4945236559689123,-0.8691641695831351 Q -0.19971290550188364, 0.010712393569865461 -0.3987115613350195, 0.9170763822374836L -0.3987115613350195, 0.9170763822374836 L -0.3879140257121178, 0.9216955618075952 L -0.37706298759207263, 0.9261876178119315 \", \"type\": \"path\"}, {\"fillcolor\": \"#e1b396\", \"layer\": \"below\", \"line\": {\"color\": \"rgb(175,175,175)\", \"width\": 0.5}, \"path\": \"M -0.27032225982090113,0.9627698976626353 Q -0.19888400687164184, -0.021098621061119826 -0.062307830213960934, -0.9980569794826487L -0.062307830213960934, -0.9980569794826487 L -0.06375395586532694, -0.9979656472602261 L -0.06519994765755, -0.9978722196881987 M -0.06519994765755,-0.9978722196881987 Q -0.19886923638573709, -0.021237392009232886 -0.2744534678218097, 0.9616003816558014L -0.2744534678218097, 0.9616003816558014 L -0.2723884914952977, 0.9621873568598354 L -0.27032225982090113, 0.9627698976626353 \", \"type\": \"path\"}, {\"fillcolor\": \"#e1b396\", \"layer\": \"below\", \"line\": {\"color\": \"rgb(175,175,175)\", \"width\": 0.5}, \"path\": \"M -0.4497031039134961,0.8931781000061338 Q -0.18550476094881102, -0.07475281710627689 0.2952287665284633, -0.9554265934199666L 0.2952287665284633, -0.9554265934199666 L 0.2758977643487405, -0.9611869868175322 L 0.25645450770706185, -0.966556302279763 M 0.25645450770706185,-0.966556302279763 Q -0.18554941229556413, -0.07464191581658901 -0.48431503972969236, 0.8748936748494793L -0.48431503972969236, 0.8748936748494793 L -0.46709854764759706, 0.8842052628126037 L -0.4497031039134961, 0.8931781000061338 \", \"type\": \"path\"}, {\"fillcolor\": \"#e1b396\", \"layer\": \"below\", \"line\": {\"color\": \"rgb(175,175,175)\", \"width\": 0.5}, \"path\": \"M -0.3987115613350195,0.9170763822374836 Q -0.16037575991268907, -0.11949734571289657 0.764725321316298, -0.6443564098677725L 0.764725321316298, -0.6443564098677725 L 0.7560231910349046, -0.6545448301051656 L 0.7471853311703558, -0.6646157392688242 M 0.7471853311703558,-0.6646157392688242 Q -0.16037733798309067, -0.11949522777691797 -0.42311737771932134, 0.9060748780713023L -0.42311737771932134, 0.9060748780713023 L -0.4109512860915215, 0.9116573042869368 L -0.3987115613350195, 0.9170763822374836 \", \"type\": \"path\"}, {\"fillcolor\": \"#e1b396\", \"layer\": \"below\", \"line\": {\"color\": \"rgb(175,175,175)\", \"width\": 0.5}, \"path\": \"M -0.28730029674634255,0.957840560578567 Q -0.14821471122005458, -0.13428476971703016 0.9249293855795062, -0.3801389636587087L 0.9249293855795062, -0.3801389636587087 L 0.9234441880565075, -0.38373276058300976 L 0.9219450269603195, -0.3873207550120903 M 0.9219450269603195,-0.3873207550120903 Q -0.14814335236878845, -0.13436348889834987 -0.2957559721728198, 0.9552635264282365L -0.2957559721728198, 0.9552635264282365 L -0.291530981986026, 0.9565613867088005 L -0.28730029674634255, 0.957840560578567 \", \"type\": \"path\"}, {\"fillcolor\": \"#e1b396\", \"layer\": \"below\", \"line\": {\"color\": \"rgb(175,175,175)\", \"width\": 0.5}, \"path\": \"M -0.30635309572421826,0.9519179485334794 Q -0.13341667415081204, -0.14899661425192198 0.9798400681204072, -0.19978348506769947L 0.9798400681204072, -0.19978348506769947 L 0.9788902511967104, -0.20438658496105194 L 0.9779188099209195, -0.2089851698155937 M 0.9779188099209195,-0.2089851698155937 Q -0.1332890397891938, -0.14911080400854498 -0.3169123871439301, 0.9484548164645145L -0.3169123871439301, 0.9484548164645145 L -0.31163755206112176, 0.9502010503811031 L -0.30635309572421826, 0.9519179485334794 \", \"type\": \"path\"}, {\"fillcolor\": \"#e1b396\", \"layer\": \"below\", \"line\": {\"color\": \"rgb(175,175,175)\", \"width\": 0.5}, \"path\": \"M -0.265699133699839,0.9640559995929464 Q -0.12918951928148004, -0.15267635084655418 0.994735025458679, -0.10248038410213622L 0.994735025458679, -0.10248038410213622 L 0.9946451218706909, -0.1033493180376078 L 0.9945544592403253, -0.10421817310423427 M 0.9945544592403253,-0.10421817310423427 Q -0.1291493672467746, -0.15271031707045124 -0.2678898047437237, 0.9634495588843089L -0.2678898047437237, 0.9634495588843089 L -0.26679464153148813, 0.9637534016801625 L -0.265699133699839, 0.9640559995929464 \", \"type\": \"path\"}, {\"fillcolor\": \"#dba284\", \"layer\": \"below\", \"line\": {\"color\": \"rgb(175,175,175)\", \"width\": 0.5}, \"path\": \"M -0.6970074860931459,0.7170638495490572 Q -0.15134405090204656, 0.13074776578037098 -0.8107003577629951, 0.5854612966908672L -0.8107003577629951, 0.5854612966908672 L -0.8054580959758215, 0.5926527276803881 L -0.8001520435277687, 0.599797221766103 M -0.8001520435277687,0.599797221766103 Q -0.151218010323693, 0.13089351914339947 -0.7083003021841405, 0.7059112422435665L -0.7083003021841405, 0.7059112422435665 L -0.7026760207311953, 0.7115099506608272 L -0.6970074860931459, 0.7170638495490572 \", \"type\": \"path\"}, {\"fillcolor\": \"#dba284\", \"layer\": \"below\", \"line\": {\"color\": \"rgb(175,175,175)\", \"width\": 0.5}, \"path\": \"M -0.6513299366726846,0.758794645206433 Q -0.15312663634440127, 0.12865548275083147 -0.8597164659000563, 0.5107715715075745L -0.8597164659000563, 0.5107715715075745 L -0.8578492073490851, 0.5139014861338177 L -0.8559705539698808, 0.5170245745963101 M -0.8559705539698808,0.5170245745963101 Q -0.1530454294975505, 0.12875207380819273 -0.6558915316845646, 0.7548551507835631L -0.6558915316845646, 0.7548551507835631 L -0.653613702226015, 0.7568283347380713 L -0.6513299366726846, 0.758794645206433 \", \"type\": \"path\"}, {\"fillcolor\": \"#dba284\", \"layer\": \"below\", \"line\": {\"color\": \"rgb(175,175,175)\", \"width\": 0.5}, \"path\": \"M -0.6725609697145334,0.740041716402965 Q -0.17764002550975397, 0.09189135615983673 -0.9926116243782512, 0.12133492139186276L -0.9926116243782512, 0.12133492139186276 L -0.9920474930753473, 0.1258640992615399 L -0.9914626957403504, 0.13039065516852588 M -0.9914626957403504,0.13039065516852588 Q -0.1776175396891272, 0.09193481165903004 -0.6789290677620684, 0.7342038687910387L -0.6789290677620684, 0.7342038687910387 L -0.6757513229478813, 0.7371296694165743 L -0.6725609697145334, 0.740041716402965 \", \"type\": \"path\"}, {\"fillcolor\": \"#dba284\", \"layer\": \"below\", \"line\": {\"color\": \"rgb(175,175,175)\", \"width\": 0.5}, \"path\": \"M -0.643367217272523,0.7655577207102089 Q -0.17897278058322735, 0.08926782068756896 -0.998572823033827, 0.05340708846448379L -0.998572823033827, 0.05340708846448379 L -0.9985549536027508, 0.05374015849816726 L -0.9985369730774794, 0.054073222552991344 M -0.9985369730774794,0.054073222552991344 Q -0.17896990731702445, 0.08927358105809177 -0.6438285220042036, 0.7651698074636001L -0.6438285220042036, 0.7651698074636001 L -0.6435978988640432, 0.7653637988419552 L -0.643367217272523, 0.7655577207102089 \", \"type\": \"path\"}, {\"fillcolor\": \"#dba284\", \"layer\": \"below\", \"line\": {\"color\": \"rgb(175,175,175)\", \"width\": 0.5}, \"path\": \"M -0.6438285220042036,0.7651698074636001 Q -0.18603338458197533, 0.07342737787075655 -0.9928747003579868, -0.11916303700828564L -0.9928747003579868, -0.11916303700828564 L -0.992954889056513, -0.11849298839495973 L -0.9930346255679785, -0.11782288582047488 M -0.9930346255679785,-0.11782288582047488 Q -0.186028089705803, 0.0734407913928609 -0.64475042963242, 0.764393147201628L -0.64475042963242, 0.764393147201628 L -0.6442895928466683, 0.7647816162470659 L -0.6438285220042036, 0.7651698074636001 \", \"type\": \"path\"}, {\"fillcolor\": \"#dba284\", \"layer\": \"below\", \"line\": {\"color\": \"rgb(175,175,175)\", \"width\": 0.5}, \"path\": \"M -0.6456714003642208,0.7636153761886321 Q -0.19644054612708883, 0.0375647685643223 -0.8818608684236695, -0.4715097122467907L -0.8818608684236695, -0.4715097122467907 L -0.882695603771829, -0.46994517880481157 L -0.8835275634412996, -0.4683791675976638 M -0.8835275634412996,-0.4683791675976638 Q -0.1964267493880694, 0.03763684530930542 -0.64781668107077, 0.7617962639226136L -0.64781668107077, 0.7617962639226136 L -0.6467446802996935, 0.7627065743154751 L -0.6456714003642208, 0.7636153761886321 \", \"type\": \"path\"}, {\"fillcolor\": \"#dba284\", \"layer\": \"below\", \"line\": {\"color\": \"rgb(175,175,175)\", \"width\": 0.5}, \"path\": \"M -0.64475042963242,0.764393147201628 Q -0.1999024196936339, -0.006246807234920514 -0.595765568663048, -0.80315838238519L -0.595765568663048, -0.80315838238519 L -0.5963853532297878, -0.8026982686246316 L -0.5970047824477209, -0.8022376765862779 M -0.5970047824477209,-0.8022376765862779 Q -0.19990347366197925, -0.00621298783793807 -0.6456714003642208, 0.7636153761886321L -0.6456714003642208, 0.7636153761886321 L -0.6452110321940466, 0.7640044004684089 L -0.64475042963242, 0.764393147201628 \", \"type\": \"path\"}, {\"fillcolor\": \"#dba284\", \"layer\": \"below\", \"line\": {\"color\": \"rgb(175,175,175)\", \"width\": 0.5}, \"path\": \"M -0.6668915530878976,0.7451547868865984 Q -0.18551682748256637, -0.07472286611743227 0.03576790841891353, -0.9993601236427918L 0.03576790841891353, -0.9993601236427918 L 0.03082542005879294, -0.9995247838238924 L 0.025882177853648786, -0.999665000322384 M 0.025882177853648786,-0.999665000322384 Q -0.18560099461107282, -0.07451356117768448 -0.6725609697145334, 0.740041716402965L -0.6725609697145334, 0.740041716402965 L -0.6697311408937859, 0.7426036620682044 L -0.6668915530878976, 0.7451547868865984 \", \"type\": \"path\"}, {\"fillcolor\": \"#dba284\", \"layer\": \"below\", \"line\": {\"color\": \"rgb(175,175,175)\", \"width\": 0.5}, \"path\": \"M -0.64781668107077,0.7617962639226136 Q -0.15131901195156802, -0.13077674342940807 0.6599089952600119, -0.7513455383343416L 0.6599089952600119, -0.7513455383343416 L 0.6577217969842628, -0.7532609360452673 L 0.6555290392593232, -0.7551699667543385 M 0.6555290392593232,-0.7551699667543385 Q -0.15139704352239058, -0.13068640025909115 -0.6513299366726846, 0.758794645206433L -0.6513299366726846, 0.758794645206433 L -0.649575042645031, 0.7602974838658262 L -0.64781668107077, 0.7617962639226136 \", \"type\": \"path\"}, {\"fillcolor\": \"#dba284\", \"layer\": \"below\", \"line\": {\"color\": \"rgb(175,175,175)\", \"width\": 0.5}, \"path\": \"M -0.6558915316845646,0.7548551507835631 Q -0.10231972934811283, -0.17184490968931532 0.9761899955610696, -0.21691724819958183L 0.9761899955610696, -0.21691724819958183 L 0.9753486206352724, -0.22066959062107197 L 0.9744928222682998, -0.2244186697838747 M 0.9744928222682998,-0.2244186697838747 Q -0.10235910676687286, -0.17182145751298913 -0.6613339794397479, 0.750091572835202L -0.6613339794397479, 0.750091572835202 L -0.6586170622659986, 0.7524782822727216 L -0.6558915316845646, 0.7548551507835631 \", \"type\": \"path\"}, {\"fillcolor\": \"#d59171\", \"layer\": \"below\", \"line\": {\"color\": \"rgb(175,175,175)\", \"width\": 0.5}, \"path\": \"M -0.7392940686159009,0.6733827144420531 Q -0.16170355051554464, 0.11769435734421047 -0.8680377810582156, 0.4964981476858996L -0.8680377810582156, 0.4964981476858996 L -0.8657972630147157, 0.500394943375957 L -0.8635392515914099, 0.5042816286173311 M -0.8635392515914099,0.5042816286173311 Q -0.1616650626502083, 0.11774721872852978 -0.7448817052473239, 0.6671965566366772L -0.7448817052473239, 0.6671965566366772 L -0.7420943329979847, 0.6702954579379724 L -0.7392940686159009, 0.6733827144420531 \", \"type\": \"path\"}, {\"fillcolor\": \"#d59171\", \"layer\": \"below\", \"line\": {\"color\": \"rgb(175,175,175)\", \"width\": 0.5}, \"path\": \"M -0.7638102088476424,0.6454409073339874 Q -0.1841753843689239, 0.07797068546934259 -0.9950693970598462, 0.09918112237192198L -0.9950693970598462, 0.09918112237192198 L -0.9944063691204061, 0.10562183984749836 L -0.9937016532320151, 0.11205812939702318 M -0.9937016532320151,0.11205812939702318 Q -0.18420631545654528, 0.07789758241385757 -0.7726082896218633, 0.6348830056062131L -0.7726082896218633, 0.6348830056062131 L -0.768227386866705, 0.6401770708702038 L -0.7638102088476424, 0.6454409073339874 \", \"type\": \"path\"}, {\"fillcolor\": \"#d59171\", \"layer\": \"below\", \"line\": {\"color\": \"rgb(175,175,175)\", \"width\": 0.5}, \"path\": \"M -0.7301240067027334,0.6833146675114964 Q -0.1840494555405314, 0.0782674767399203 -0.9986547447419626, 0.051852683675635024L -0.9986547447419626, 0.051852683675635024 L -0.9986315854316816, 0.05229681231400294 L -0.9986082286054535, 0.052740930608762095 M -0.9986082286054535,0.052740930608762095 Q -0.1840499148242411, 0.07826639670503299 -0.7307395136215209, 0.682656402029735L -0.7307395136215209, 0.682656402029735 L -0.7304318343157726, 0.6829856041075065 L -0.7301240067027334, 0.6833146675114964 \", \"type\": \"path\"}, {\"fillcolor\": \"#d59171\", \"layer\": \"below\", \"line\": {\"color\": \"rgb(175,175,175)\", \"width\": 0.5}, \"path\": \"M -0.7360998286286996,0.6768729883019406 Q -0.19081323481497778, 0.05991919074423621 -0.9909056432573515, -0.13455856033985455L -0.9909056432573515, -0.13455856033985455 L -0.9912206935208447, -0.1322177625588016 L -0.991530214169577, -0.1298762271889385 M -0.991530214169577,-0.1298762271889385 Q -0.190813459304893, 0.059918475849273345 -0.7392940686159009, 0.6733827144420531L -0.7392940686159009, 0.6733827144420531 L -0.7376990128159024, 0.6751297404872956 L -0.7360998286286996, 0.6768729883019406 \", \"type\": \"path\"}, {\"fillcolor\": \"#d59171\", \"layer\": \"below\", \"line\": {\"color\": \"rgb(175,175,175)\", \"width\": 0.5}, \"path\": \"M -0.7322756833554535,0.6810083138745838 Q -0.195009020696646, 0.04440137212896805 -0.9549235205594955, -0.29685193258973197L -0.9549235205594955, -0.29685193258973197 L -0.9551925201570487, -0.295985218272849 L -0.9554607331015127, -0.29511826019600995 M -0.9554607331015127,-0.29511826019600995 Q -0.1950087410261535, 0.04440260041252759 -0.7335019432473293, 0.6796873540477207L -0.7335019432473293, 0.6796873540477207 L -0.732889110913812, 0.6803481102376651 L -0.7322756833554535, 0.6810083138745838 \", \"type\": \"path\"}, {\"fillcolor\": \"#d59171\", \"layer\": \"below\", \"line\": {\"color\": \"rgb(175,175,175)\", \"width\": 0.5}, \"path\": \"M -0.7335019432473293,0.6796873540477207 Q -0.1985051421484297, 0.024407141181050362 -0.8763066000536085, -0.4817538196034204L -0.8763066000536085, -0.4817538196034204 L -0.8773419174979412, -0.47986577269173475 L -0.8783731670557993, -0.4779755008327988 M -0.8783731670557993,-0.4779755008327988 Q -0.19849932208073837, 0.024454429731386028 -0.7360998286286996, 0.6768729883019406L -0.7360998286286996, 0.6768729883019406 L -0.7348022333518924, 0.6782814149459434 L -0.7335019432473293, 0.6796873540477207 \", \"type\": \"path\"}, {\"fillcolor\": \"#d59171\", \"layer\": \"below\", \"line\": {\"color\": \"rgb(175,175,175)\", \"width\": 0.5}, \"path\": \"M -0.7505664761025866,0.6607949492474539 Q -0.19825385160806375, -0.026370633715704275 -0.5517344592235691, -0.8340198357984514L -0.5517344592235691, -0.8340198357984514 L -0.5561259558445907, -0.8310980214366657 L -0.5605019797948316, -0.8281530840648208 M -0.5605019797948316,-0.8281530840648208 Q -0.19827110895233901, -0.026240566968145175 -0.7566383317225985, 0.6538336447201558L -0.7566383317225985, 0.6538336447201558 L -0.7536104418882602, 0.6573213079438253 L -0.7505664761025866, 0.6607949492474539 \", \"type\": \"path\"}, {\"fillcolor\": \"#d59171\", \"layer\": \"below\", \"line\": {\"color\": \"rgb(175,175,175)\", \"width\": 0.5}, \"path\": \"M -0.7726082896218633,0.6348830056062131 Q -0.17694763215921186, -0.09321767790096605 0.08668063260793589, -0.9962361506845092L 0.08668063260793589, -0.9962361506845092 L 0.07876945908038702, -0.9968928589954806 L 0.07085332166439064, -0.9974867451796652 M 0.07085332166439064,-0.9974867451796652 Q -0.1770469714966602, -0.09302886586356296 -0.7812604436081044, 0.6242051900242963L -0.7812604436081044, 0.6242051900242963 L -0.7769527102493604, 0.6295589615247911 L -0.7726082896218633, 0.6348830056062131 \", \"type\": \"path\"}, {\"fillcolor\": \"#d59171\", \"layer\": \"below\", \"line\": {\"color\": \"rgb(175,175,175)\", \"width\": 0.5}, \"path\": \"M -0.7566383317225985,0.6538336447201558 Q -0.1372345495778354, -0.14548772595022796 0.6968579290499315, -0.7172091931370098L 0.6968579290499315, -0.7172091931370098 L 0.6924022787774184, -0.7215116661176297 L 0.6879200651194192, -0.7257864589575187 M 0.6879200651194192,-0.7257864589575187 Q -0.13733258185812397, -0.14539519235580553 -0.7638102088476424, 0.6454409073339874L -0.7638102088476424, 0.6454409073339874 L -0.7602358519832858, 0.6496471729787235 L -0.7566383317225985, 0.6538336447201558 \", \"type\": \"path\"}, {\"fillcolor\": \"#d59171\", \"layer\": \"below\", \"line\": {\"color\": \"rgb(175,175,175)\", \"width\": 0.5}, \"path\": \"M -0.7307395136215209,0.682656402029735 Q -0.1107178381620255, -0.16655797883237997 0.9122944660435727, -0.40953486692377317L 0.9122944660435727, -0.40953486692377317 L 0.9120668228427061, -0.41004159626751496 L 0.911838898181616, -0.4105481990740387 M 0.911838898181616,-0.4105481990740387 Q -0.1107165496571972, -0.16655883534656873 -0.7315080626315991, 0.6818327905762266L -0.7315080626315991, 0.6818327905762266 L -0.7311239041014098, 0.6822447045243462 L -0.7307395136215209, 0.682656402029735 \", \"type\": \"path\"}, {\"fillcolor\": \"#d59171\", \"layer\": \"below\", \"line\": {\"color\": \"rgb(175,175,175)\", \"width\": 0.5}, \"path\": \"M -0.7448817052473239,0.6671965566366772 Q -0.09066425480438998, -0.17826943905438378 0.9779188099209195, -0.2089851698155937L 0.9779188099209195, -0.2089851698155937 L 0.9770624521403091, -0.2129529633923093 L 0.9761899955610696, -0.21691724819958183 M 0.9761899955610696,-0.21691724819958183 Q -0.09062475787995998, -0.17828952089003614 -0.7505664761025866, 0.6607949492474539L -0.7505664761025866, 0.6607949492474539 L -0.7477309415290907, 0.6640018366541011 L -0.7448817052473239, 0.6671965566366772 \", \"type\": \"path\"}, {\"fillcolor\": \"#d0805f\", \"layer\": \"below\", \"line\": {\"color\": \"rgb(175,175,175)\", \"width\": 0.5}, \"path\": \"M -0.8597164659000563,0.5107715715075745 Q -0.18474243237728696, 0.07661745022723972 -0.968865298475453, 0.24758843553379345L -0.968865298475453, 0.24758843553379345 L -0.9682090006013666, 0.25014262162714884 L -0.9675459692272588, 0.2526950680802545 M -0.9675459692272588,0.2526950680802545 Q -0.18482880953313066, 0.07640884220144754 -0.8635392515914099, 0.5042816286173311L -0.8635392515914099, 0.5042816286173311 L -0.8616339691576909, 0.5075301992921833 L -0.8597164659000563, 0.5107715715075745 \", \"type\": \"path\"}, {\"fillcolor\": \"#d0805f\", \"layer\": \"below\", \"line\": {\"color\": \"rgb(175,175,175)\", \"width\": 0.5}, \"path\": \"M -0.8680377810582156,0.4964981476858996 Q -0.1892605850148713, 0.0646562522872202 -0.9903785963145768, 0.1383843775936014L -0.9903785963145768, 0.1383843775936014 L -0.9898274806854611, 0.14227283113747735 L -0.9892610981558432, 0.1461590902937454 M -0.9892610981558432,0.1461590902937454 Q -0.1892972583867284, 0.06454880298865498 -0.8724661562820535, 0.4886745401004839L -0.8724661562820535, 0.4886745401004839 L -0.8702607604523817, 0.4925913202816736 L -0.8680377810582156, 0.4964981476858996 \", \"type\": \"path\"}, {\"fillcolor\": \"#d0805f\", \"layer\": \"below\", \"line\": {\"color\": \"rgb(175,175,175)\", \"width\": 0.5}, \"path\": \"M -0.8453705111750053,0.534180399149679 Q -0.19084704522166562, 0.05981141471458043 -0.9990378320674911, 0.04385669957814411L -0.9990378320674911, 0.04385669957814411 L -0.9989582334174307, 0.045633845855089006 L -0.9988754734792944, 0.047410847719856916 M -0.9988754734792944,0.047410847719856916 Q -0.19085690271873743, 0.059779952196454655 -0.8474407775097086, 0.5308899402077051L -0.8474407775097086, 0.5308899402077051 L -0.8464072433259375, 0.5325361757152158 L -0.8453705111750053, 0.534180399149679 \", \"type\": \"path\"}, {\"fillcolor\": \"#d0805f\", \"layer\": \"below\", \"line\": {\"color\": \"rgb(175,175,175)\", \"width\": 0.5}, \"path\": \"M -0.8474407775097086,0.5308899402077051 Q -0.19540793832938172, 0.04261147307780569 -0.991530214169577, -0.1298762271889385L -0.991530214169577, -0.1298762271889385 L -0.9917767272835802, -0.12798016728646217 L -0.9920196146484525, -0.1260836395125708 M -0.9920196146484525,-0.1260836395125708 Q -0.19541446622213293, 0.042581526406634075 -0.8496264015874785, 0.5273850374494073L -0.8496264015874785, 0.5273850374494073 L -0.8485353991897199, 0.5291386173035784 L -0.8474407775097086, 0.5308899402077051 \", \"type\": \"path\"}, {\"fillcolor\": \"#d0805f\", \"layer\": \"below\", \"line\": {\"color\": \"rgb(175,175,175)\", \"width\": 0.5}, \"path\": \"M -0.8438094253320685,0.5366429480769913 Q -0.1983437019859455, 0.025686102906249692 -0.9526742871817272, -0.30399293173162417L -0.9526742871817272, -0.30399293173162417 L -0.9530872143529112, -0.302695823950394 L -0.9534983754559221, -0.301398155274576 M -0.9534983754559221,-0.301398155274576 Q -0.1983461820127254, 0.025666945298862567 -0.8453705111750053, 0.534180399149679L -0.8453705111750053, 0.534180399149679 L -0.8445908657517647, 0.5354122425651888 L -0.8438094253320685, 0.5366429480769913 \", \"type\": \"path\"}, {\"fillcolor\": \"#d0805f\", \"layer\": \"below\", \"line\": {\"color\": \"rgb(175,175,175)\", \"width\": 0.5}, \"path\": \"M -0.8827145743256322,0.4699095447776285 Q -0.1998426828359049, -0.007931085483584937 -0.8426987310745666, -0.5383854090197052L -0.8426987310745666, -0.5383854090197052 L -0.847304589168284, -0.5311072708731877 L -0.8518475897815462, -0.5237897324149937 M -0.8518475897815462,-0.5237897324149937 Q -0.19984546251854396, -0.007860732201853331 -0.8903576531035983, 0.4552617374212911L -0.8903576531035983, 0.4552617374212911 L -0.886566365527872, 0.4626014261918132 L -0.8827145743256322, 0.4699095447776285 \", \"type\": \"path\"}, {\"fillcolor\": \"#d0805f\", \"layer\": \"below\", \"line\": {\"color\": \"rgb(175,175,175)\", \"width\": 0.5}, \"path\": \"M -0.8903576531035983,0.4552617374212911 Q -0.19162463890019174, -0.057271264752676146 -0.4945236559689123, -0.8691641695831351L -0.4945236559689123, -0.8691641695831351 L -0.5047761001129252, -0.8632503048101322 L -0.514957831986491, -0.8572155104031732 M -0.514957831986491,-0.8572155104031732 Q -0.19166234690525036, -0.05714494534752371 -0.9003110546940228, 0.4352470617887456L -0.9003110546940228, 0.4352470617887456 L -0.8953902791976076, 0.44528221154502706 L -0.8903576531035983, 0.4552617374212911 \", \"type\": \"path\"}, {\"fillcolor\": \"#d0805f\", \"layer\": \"below\", \"line\": {\"color\": \"rgb(175,175,175)\", \"width\": 0.5}, \"path\": \"M -0.8425030402640589,0.5386915881520868 Q -0.17867166184270952, -0.08986900051944757 -0.069792175392205, -0.9975615531154074L -0.069792175392205, -0.9975615531154074 L -0.0706424285794932, -0.9975017028979907 L -0.07149263044417091, -0.9974411279830872 M -0.07149263044417091,-0.9974411279830872 Q -0.1786390720343485, -0.08993376419736276 -0.8438094253320685, 0.5366429480769913L -0.8438094253320685, 0.5366429480769913 L -0.8431568550025327, 0.5376676648843951 L -0.8425030402640589, 0.5386915881520868 \", \"type\": \"path\"}, {\"fillcolor\": \"#d0805f\", \"layer\": \"below\", \"line\": {\"color\": \"rgb(175,175,175)\", \"width\": 0.5}, \"path\": \"M -0.9119203393605994,0.4103672680178687 Q -0.1569816334129955, -0.12392242238992868 0.18744194994287183, -0.9822756819761008L 0.18744194994287183, -0.9822756819761008 L 0.17105431174085883, -0.9852616010151116 L 0.15461921103082799, -0.9879741391252123 M 0.15461921103082799,-0.9879741391252123 Q -0.15711876702891237, -0.12374850725287304 -0.9242399212249308, 0.38181221564289125L -0.9242399212249308, 0.38181221564289125 L -0.9181911420790418, 0.39613763593930945 L -0.9119203393605994, 0.4103672680178687 \", \"type\": \"path\"}, {\"fillcolor\": \"#d0805f\", \"layer\": \"below\", \"line\": {\"color\": \"rgb(175,175,175)\", \"width\": 0.5}, \"path\": \"M -0.8772909013023563,0.4799590341811469 Q -0.12205259144405041, -0.15843978326730856 0.6879200651194192, -0.7257864589575187L 0.6879200651194192, -0.7257864589575187 L 0.6835959991385067, -0.7298606099535903 L 0.6792478047802954, -0.7339089996049576 M 0.6792478047802954,-0.7339089996049576 Q -0.12208922205127791, -0.15841155847637434 -0.8827145743256322, 0.4699095447776285L -0.8827145743256322, 0.4699095447776285 L -0.8800170831406872, 0.4749420316002331 L -0.8772909013023563, 0.4799590341811469 \", \"type\": \"path\"}, {\"fillcolor\": \"#d0805f\", \"layer\": \"below\", \"line\": {\"color\": \"rgb(175,175,175)\", \"width\": 0.5}, \"path\": \"M -0.8526873020092894,0.5224216352641982 Q -0.09238245771943147, -0.17738512199651205 0.9168768363963206, -0.3991702229373765L 0.9168768363963206, -0.3991702229373765 L 0.9157199399434394, -0.4018171121169229 L 0.9145554023280346, -0.4044606483610079 M 0.9145554023280346,-0.4044606483610079 Q -0.09233456560713586, -0.1774100560682554 -0.8559705539698808, 0.5170245745963101L -0.8559705539698808, 0.5170245745963101 L -0.8543331898421114, 0.5197256975888367 L -0.8526873020092894, 0.5224216352641982 \", \"type\": \"path\"}, {\"fillcolor\": \"#d0805f\", \"layer\": \"below\", \"line\": {\"color\": \"rgb(175,175,175)\", \"width\": 0.5}, \"path\": \"M -0.8496264015874785,0.5273850374494073 Q -0.0768616105083319, -0.18464098361432513 0.9728864398604955, -0.23128332221664957L 0.9728864398604955, -0.23128332221664957 L 0.9722903073720612, -0.2337767272213866 L 0.9716877845615263, -0.23626859574203427 M 0.9716877845615263,-0.23626859574203427 Q -0.07679661330240782, -0.18466802697077922 -0.8526873020092894, 0.5224216352641982L -0.8526873020092894, 0.5224216352641982 L -0.8511604697139366, 0.5249055675036709 L -0.8496264015874785, 0.5273850374494073 \", \"type\": \"path\"}, {\"fillcolor\": \"#d0805f\", \"layer\": \"below\", \"line\": {\"color\": \"rgb(175,175,175)\", \"width\": 0.5}, \"path\": \"M -0.8414543507211381,0.5403282110462752 Q -0.0662479950300448, -0.18870930860585325 0.9945544592403253, -0.10421817310423427L 0.9945544592403253, -0.10421817310423427 L 0.9944732330707136, -0.1049904219721129 L 0.9943914072675498, -0.1057626075343354 M 0.9943914072675498,-0.1057626075343354 Q -0.06621112341357908, -0.18872224865211787 -0.8425030402640589, 0.5386915881520868L -0.8425030402640589, 0.5386915881520868 L -0.8419790931472363, 0.5395101544020813 L -0.8414543507211381, 0.5403282110462752 \", \"type\": \"path\"}, {\"fillcolor\": \"#ca6f4c\", \"layer\": \"below\", \"line\": {\"color\": \"rgb(175,175,175)\", \"width\": 0.5}, \"path\": \"M -0.9618603806391917,0.27354087108991454 Q -0.19449709518179445, 0.046592702924857204 -0.9813995661243673, 0.19197627877137205L -0.9813995661243673, 0.19197627877137205 L -0.9812361957357765, 0.19280956453967996 L -0.981072117821866, 0.1936427112816766 M -0.981072117821866,0.1936427112816766 Q -0.1944892372158015, 0.04662549310426321 -0.9622318096670207, 0.27223141711589877L -0.9622318096670207, 0.27223141711589877 L -0.9620463179425236, 0.2728862072975344 L -0.9618603806391917, 0.27354087108991454 \", \"type\": \"path\"}, {\"fillcolor\": \"#ca6f4c\", \"layer\": \"below\", \"line\": {\"color\": \"rgb(175,175,175)\", \"width\": 0.5}, \"path\": \"M -0.9611591487876885,0.2759947294817894 Q -0.1972442757649923, 0.03308618560583369 -0.9986082286054535, 0.052740930608762095L -0.9986082286054535, 0.052740930608762095 L -0.9985905813687198, 0.05307401248899661 L -0.998572823033827, 0.05340708846448379 M -0.998572823033827,0.05340708846448379 Q -0.19724168317824298, 0.03310163767872552 -0.9612998961184028, 0.27550410109968954L -0.9612998961184028, 0.27550410109968954 L -0.9612295537562099, 0.27574942427072735 L -0.9611591487876885, 0.2759947294817894 \", \"type\": \"path\"}, {\"fillcolor\": \"#ca6f4c\", \"layer\": \"below\", \"line\": {\"color\": \"rgb(175,175,175)\", \"width\": 0.5}, \"path\": \"M -0.9650498894768141,0.2620662336524659 Q -0.19990219818167163, -0.00625389175919157 -0.9467813542875579, -0.3218774101632759L -0.9467813542875579, -0.3218774101632759 L -0.9477627611020151, -0.31897609419560696 L -0.9487352771495529, -0.31607178597901 M -0.9487352771495529,-0.31607178597901 Q -0.19990692959184414, -0.0061007787340205625 -0.9662435714562221, 0.2576302789260702L -0.9662435714562221, 0.2576302789260702 L -0.9656492776801834, 0.2598489417252649 L -0.9650498894768141, 0.2620662336524659 \", \"type\": \"path\"}, {\"fillcolor\": \"#ca6f4c\", \"layer\": \"below\", \"line\": {\"color\": \"rgb(175,175,175)\", \"width\": 0.5}, \"path\": \"M -0.9626935890075738,0.2705938906991739 Q -0.1987852991747085, -0.022009198804628073 -0.8801830811994655, -0.47463432616090356L -0.8801830811994655, -0.47463432616090356 L -0.8810233600216867, -0.47307276300385076 L -0.8818608684236695, -0.4715097122467907 M -0.8818608684236695,-0.4715097122467907 Q -0.19879808172247837, -0.02189343973574784 -0.9633353980618651, 0.2683000388389609L -0.9633353980618651, 0.2683000388389609 L -0.9630151765143795, 0.2694471558635913 L -0.9626935890075738, 0.2705938906991739 \", \"type\": \"path\"}, {\"fillcolor\": \"#ca6f4c\", \"layer\": \"below\", \"line\": {\"color\": \"rgb(175,175,175)\", \"width\": 0.5}, \"path\": \"M -0.9633353980618651,0.2683000388389609 Q -0.18891733676199762, -0.06565241709757522 -0.5893404095106926, -0.8078848195861642L -0.5893404095106926, -0.8078848195861642 L -0.5911058949792442, -0.8065939628591245 L -0.5928685530405055, -0.8052992479914888 M -0.5928685530405055,-0.8052992479914888 Q -0.18896592558718645, -0.06551243368230127 -0.9641073893246478, 0.26551260205423766L -0.9641073893246478, 0.26551260205423766 L -0.9637224014793003, 0.2669065995567929 L -0.9633353980618651, 0.2683000388389609 \", \"type\": \"path\"}, {\"fillcolor\": \"#ca6f4c\", \"layer\": \"below\", \"line\": {\"color\": \"rgb(175,175,175)\", \"width\": 0.5}, \"path\": \"M -0.9641073893246478,0.26551260205423766 Q -0.1623853760260664, -0.11675182933416084 -0.055330617556895924, -0.9984680880032033L -0.055330617556895924, -0.9984680880032033 L -0.05711773576675704, -0.9983674495199044 L -0.05890467097598501, -0.9982636123475657 M -0.05890467097598501,-0.9982636123475657 Q -0.16238578332448161, -0.11675126283725804 -0.9650498894768141, 0.2620662336524659L -0.9650498894768141, 0.2620662336524659 L -0.9645801786020464, 0.2637898387884651 L -0.9641073893246478, 0.26551260205423766 \", \"type\": \"path\"}, {\"fillcolor\": \"#ca6f4c\", \"layer\": \"below\", \"line\": {\"color\": \"rgb(175,175,175)\", \"width\": 0.5}, \"path\": \"M -0.9710178253533744,0.23900707697891208 Q -0.14953922880596557, -0.13280820399401946 0.1226581821140028, -0.9924489762000303L 0.1226581821140028, -0.9924489762000303 L 0.11283655510731401, -0.993613562624582 L 0.10300389035900408, -0.9946809531557896 M 0.10300389035900408,-0.9946809531557896 Q -0.14999324308097464, -0.13229522678483777 -0.9740270627066834, 0.226431625695243L -0.9740270627066834, 0.226431625695243 L -0.9725427700805183, 0.23272421525082487 L -0.9710178253533744, 0.23900707697891208 \", \"type\": \"path\"}, {\"fillcolor\": \"#ca6f4c\", \"layer\": \"below\", \"line\": {\"color\": \"rgb(175,175,175)\", \"width\": 0.5}, \"path\": \"M -0.9610181510500062,0.27648528596008065 Q -0.10791297523813462, -0.1683888053739136 0.6526605962358005, -0.7576504115495017L 0.6526605962358005, -0.7576504115495017 L 0.6523732350418652, -0.7578978573666845 L 0.6520857800328167, -0.7581451941936933 M 0.6520857800328167,-0.7581451941936933 Q -0.10793385608848689, -0.16837542192930002 -0.9611591487876885, 0.2759947294817894L -0.9611591487876885, 0.2759947294817894 L -0.9610886812174241, 0.27624001671689896 L -0.9610181510500062, 0.27648528596008065 \", \"type\": \"path\"}, {\"fillcolor\": \"#ca6f4c\", \"layer\": \"below\", \"line\": {\"color\": \"rgb(175,175,175)\", \"width\": 0.5}, \"path\": \"M -0.9612998961184028,0.27550410109968954 Q -0.06830317186332624, -0.18797520238959425 0.9139251820366464, -0.4058826944318797L 0.9139251820366464, -0.4058826944318797 L 0.9136544106561811, -0.4064918423394327 L 0.9133832332675099, -0.40710080961082545 M 0.9133832332675099,-0.40710080961082545 Q -0.06833253267714245, -0.18796453116991851 -0.9615806394123192, 0.2745226291353689L -0.9615806394123192, 0.2745226291353689 L -0.9614403930054808, 0.2750134009416027 L -0.9612998961184028, 0.27550410109968954 \", \"type\": \"path\"}, {\"fillcolor\": \"#ca6f4c\", \"layer\": \"below\", \"line\": {\"color\": \"rgb(175,175,175)\", \"width\": 0.5}, \"path\": \"M -0.9608769029420894,0.27697577040676064 Q -0.05288277380606478, -0.1928818608230867 0.9677774864206223, -0.2518069434653902L 0.9677774864206223, -0.2518069434653902 L 0.9677505829001444, -0.251910319948252 L 0.9677236683371515, -0.2520136935566929 M 0.9677236683371515,-0.2520136935566929 Q -0.0528869690401059, -0.19288071055901596 -0.9609240134613731, 0.27681228360260113L -0.9609240134613731, 0.27681228360260113 L -0.9609004616786698, 0.27689402800659896 L -0.9608769029420894, 0.27697577040676064 \", \"type\": \"path\"}, {\"fillcolor\": \"#ca6f4c\", \"layer\": \"below\", \"line\": {\"color\": \"rgb(175,175,175)\", \"width\": 0.5}, \"path\": \"M -0.9609240134613731,0.27681228360260113 Q -0.03865123395695951, -0.1962296667520087 0.9941213327868051, -0.10827176777990755L 0.9941213327868051, -0.10827176777990755 L 0.994100295557837, -0.10846475174830435 L 0.9940792208658242, -0.10865773162916607 M 0.9940792208658242,-0.10865773162916607 Q -0.0386559411132516, -0.19622873952774814 -0.9610181510500062, 0.27648528596008065L -0.9610181510500062, 0.27648528596008065 L -0.9609710961644664, 0.2766487887854634 L -0.9609240134613731, 0.27681228360260113 \", \"type\": \"path\"}, {\"fillcolor\": \"#c45e3a\", \"layer\": \"below\", \"line\": {\"color\": \"rgb(175,175,175)\", \"width\": 0.5}, \"path\": \"M -0.9808246745999669,0.19489216940623627 Q -0.19985807253385, 0.007533315541935176 -0.9927129665460284, -0.12050297113093904L -0.9927129665460284, -0.12050297113093904 L -0.9927940595089174, -0.11983303135531605 L -0.9928747003579868, -0.11916303700828564 M -0.9928747003579868,-0.11916303700828564 Q -0.1998577863673469, 0.007540903682180466 -0.981072117821866, 0.1936427112816766L -0.981072117821866, 0.1936427112816766 L -0.9809485951440933, 0.19426747974076816 L -0.9808246745999669, 0.19489216940623627 \", \"type\": \"path\"}, {\"fillcolor\": \"#c45e3a\", \"layer\": \"below\", \"line\": {\"color\": \"rgb(175,175,175)\", \"width\": 0.5}, \"path\": \"M -0.9834204694401782,0.1813399577756082 Q -0.19941793862605106, -0.01524748353455544 -0.9444195961084902, -0.32874249266907407L -0.9444195961084902, -0.32874249266907407 L -0.945606705260798, -0.3253120947118601 L -0.9467813542875579, -0.3218774101632759 M -0.9467813542875579,-0.3218774101632759 Q -0.19942149192225328, -0.01520093942829446 -0.9846296469102082, 0.1746552559343087L -0.9846296469102082, 0.1746552559343087 L -0.9840307344927642, 0.17799863362855026 L -0.9834204694401782, 0.1813399577756082 \", \"type\": \"path\"}, {\"fillcolor\": \"#c45e3a\", \"layer\": \"below\", \"line\": {\"color\": \"rgb(175,175,175)\", \"width\": 0.5}, \"path\": \"M -0.9822456481781439,0.1875992714140914 Q -0.19730197385150708, -0.032740359104616056 -0.8690085623690795, -0.49479704781781547L -0.8690085623690795, -0.49479704781781547 L -0.8708824641968524, -0.4914913361946658 L -0.8727437911459812, -0.4881785278114349 M -0.8727437911459812,-0.4881785278114349 Q -0.19732209113072294, -0.03261889562506188 -0.9834204694401782, 0.1813399577756082L -0.9834204694401782, 0.1813399577756082 L -0.9828380417138819, 0.18447054984474293 L -0.9822456481781439, 0.1875992714140914 \", \"type\": \"path\"}, {\"fillcolor\": \"#c45e3a\", \"layer\": \"below\", \"line\": {\"color\": \"rgb(175,175,175)\", \"width\": 0.5}, \"path\": \"M -0.9880825675735215,0.15392478571470328 Q -0.18337369066086703, -0.07983789559734561 -0.5605019797948316, -0.8281530840648208L -0.5605019797948316, -0.8281530840648208 L -0.5644376914431432, -0.8254756764910369 L -0.568360613871748, -0.8227795650107809 M -0.568360613871748,-0.8227795650107809 Q -0.18344011326651288, -0.07968516075637248 -0.9892610981558432, 0.1461590902937454L -0.9892610981558432, 0.1461590902937454 L -0.9886794574614935, 0.15004309512152433 L -0.9880825675735215, 0.15392478571470328 \", \"type\": \"path\"}, {\"fillcolor\": \"#c45e3a\", \"layer\": \"below\", \"line\": {\"color\": \"rgb(175,175,175)\", \"width\": 0.5}, \"path\": \"M -0.9807003562397479,0.1955167800247117 Q -0.15922273815154375, -0.1210294164884097 -0.07404292192591526, -0.9972550554961719L -0.07404292192591526, -0.9972550554961719 L -0.07429792472162887, -0.9972360895906541 L -0.07455292265928949, -0.9972170584797264 M -0.07455292265928949,-0.9972170584797264 Q -0.15921514639027243, -0.12103940333595556 -0.9808246745999669, 0.19489216940623627L -0.9808246745999669, 0.19489216940623627 L -0.9807625651437214, 0.19520448461218226 L -0.9807003562397479, 0.1955167800247117 \", \"type\": \"path\"}, {\"fillcolor\": \"#c45e3a\", \"layer\": \"below\", \"line\": {\"color\": \"rgb(175,175,175)\", \"width\": 0.5}, \"path\": \"M -0.9903785963145768,0.1383843775936014 Q -0.14785325080163061, -0.13468265006076366 0.045650140145250755, -0.998957488937702L 0.045650140145250755, -0.998957488937702 L 0.04070952206395439, -0.9991710238058971 L 0.03576790841891353, -0.9993601236427918 M 0.03576790841891353,-0.9993601236427918 Q -0.14797598956378516, -0.13454778523862274 -0.9914626957403504, 0.13039065516852588L -0.9914626957403504, 0.13039065516852588 L -0.9909287066298151, 0.13438860955066775 L -0.9903785963145768, 0.1383843775936014 \", \"type\": \"path\"}, {\"fillcolor\": \"#c45e3a\", \"layer\": \"below\", \"line\": {\"color\": \"rgb(175,175,175)\", \"width\": 0.5}, \"path\": \"M -0.9869458456531124,0.1610524689288021 Q -0.09561643404955111, -0.17566302268732553 0.6710421568477452, -0.7414191956869786L 0.6710421568477452, -0.7414191956869786 L 0.6678494992985433, -0.7442963430561008 L 0.6646445058750529, -0.7471597424982872 M 0.6646445058750529,-0.7471597424982872 Q -0.09573742772500683, -0.17559710969318115 -0.9880825675735215, 0.15392478571470328L -0.9880825675735215, 0.15392478571470328 L -0.9875206373692293, 0.15748965289780464 L -0.9869458456531124, 0.1610524689288021 \", \"type\": \"path\"}, {\"fillcolor\": \"#c45e3a\", \"layer\": \"below\", \"line\": {\"color\": \"rgb(175,175,175)\", \"width\": 0.5}, \"path\": \"M -0.9806588283914759,0.19572496595441716 Q -0.061185930021103334, -0.19041082418668498 0.9111076486732663, -0.41216847590405536L 0.9111076486732663, -0.41216847590405536 L 0.9110618499591553, -0.4122697000132337 L 0.9110160399990401, -0.41237091903341977 M 0.9110160399990401,-0.41237091903341977 Q -0.061186874294747645, -0.19041052075460208 -0.9807003562397479, 0.1955167800247117L -0.9807003562397479, 0.1955167800247117 L -0.9806795978400183, 0.19562087409154433 L -0.9806588283914759, 0.19572496595441716 \", \"type\": \"path\"}, {\"fillcolor\": \"#c45e3a\", \"layer\": \"below\", \"line\": {\"color\": \"rgb(175,175,175)\", \"width\": 0.5}, \"path\": \"M -0.985793386332423,0.16796249421598314 Q -0.03925438581993751, -0.19610990080538895 0.9744928222682998, -0.2244186697838747L 0.9744928222682998, -0.2244186697838747 L 0.9736956806444088, -0.22785241164934264 L 0.9728864398604955, -0.23128332221664957 M 0.9728864398604955,-0.23128332221664957 Q -0.03925876206720855, -0.1961090247820082 -0.9869458456531124, 0.1610524689288021L -0.9869458456531124, 0.1610524689288021 L -0.9863756670083095, 0.1645084907654087 L -0.985793386332423, 0.16796249421598314 \", \"type\": \"path\"}, {\"fillcolor\": \"#c45e3a\", \"layer\": \"below\", \"line\": {\"color\": \"rgb(175,175,175)\", \"width\": 0.5}, \"path\": \"M -0.9817241838549043,0.19030929255930193 Q -0.029058197545484023, -0.19787779348731283 0.9949904825529845, -0.09996969355249094L 0.9949904825529845, -0.09996969355249094 L 0.9948635460201701, -0.1012251194129837 L 0.994735025458679, -0.10248038410213622 M 0.994735025458679,-0.10248038410213622 Q -0.029034839605079334, -0.19788122217407927 -0.9822456481781439, 0.1875992714140914L -0.9822456481781439, 0.1875992714140914 L -0.9819858508846406, 0.1889544618747286 L -0.9817241838549043, 0.19030929255930193 \", \"type\": \"path\"}, {\"fillcolor\": \"#bf4d28\", \"layer\": \"below\", \"line\": {\"color\": \"rgb(175,175,175)\", \"width\": 0.5}, \"path\": \"M -0.99950355965192,-0.031506098507129134 Q -0.19822900726160836, -0.026556744530857452 -0.9725509363042152, -0.23269008636767124L -0.9725509363042152, -0.23269008636767124 L -0.9754791716314055, -0.22009176657318869 L -0.978244216878727, -0.207456627137641 M -0.978244216878727,-0.207456627137641 Q -0.198232940608061, -0.026527368091858846 -0.998371184712556, -0.05705241042802111L -0.998371184712556, -0.05705241042802111 L -0.9990190323790358, -0.04428287416660166 L -0.99950355965192, -0.031506098507129134 \", \"type\": \"path\"}, {\"fillcolor\": \"#bf4d28\", \"layer\": \"below\", \"line\": {\"color\": \"rgb(175,175,175)\", \"width\": 0.5}, \"path\": \"M -0.9986547447419626,0.051852683675635024 Q -0.19848759248691458, -0.024549452717902667 -0.9559282122063043, -0.2936004991618011L -0.9559282122063043, -0.2936004991618011 L -0.9560945847968022, -0.29305826199278256 L -0.9562606498107292, -0.29251593054663166 M -0.9562606498107292,-0.29251593054663166 Q -0.19848786919180364, -0.024547215395996552 -0.998711778855433, 0.05074231740289938L -0.998711778855433, 0.05074231740289938 L -0.998683416116039, 0.05129750846579804 L -0.9986547447419626, 0.051852683675635024 \", \"type\": \"path\"}, {\"fillcolor\": \"#bf4d28\", \"layer\": \"below\", \"line\": {\"color\": \"rgb(175,175,175)\", \"width\": 0.5}, \"path\": \"M -0.9987785901482241,0.04940979519817654 Q -0.19522248502245276, -0.04345320864629226 -0.8835275634412996, -0.4683791675976638L -0.8835275634412996, -0.4683791675976638 L -0.884060927711719, -0.4673716680474917 L -0.884593143115976, -0.46636356113251215 M -0.884593143115976,-0.46636356113251215 Q -0.1952285371786334, -0.043426009154548924 -0.9988754734792944, 0.047410847719856916L -0.9988754734792944, 0.047410847719856916 L -0.9988275318740667, 0.04841034569552584 L -0.9987785901482241, 0.04940979519817654 \", \"type\": \"path\"}, {\"fillcolor\": \"#bf4d28\", \"layer\": \"below\", \"line\": {\"color\": \"rgb(175,175,175)\", \"width\": 0.5}, \"path\": \"M -0.9998284903772876,0.018519984607827326 Q -0.17796072597272317, -0.09126872416803769 -0.568360613871748, -0.8227795650107809L -0.568360613871748, -0.8227795650107809 L -0.5720596351601469, -0.8202120297950034 L -0.575747057941973, -0.8176278647839507 M -0.575747057941973,-0.8176278647839507 Q -0.17801649210067394, -0.0911599064291462 -0.9999423457361227, 0.010738026063504139L -0.9999423457361227, 0.010738026063504139 L -0.9998929887553609, 0.014629116100148595 L -0.9998284903772876, 0.018519984607827326 \", \"type\": \"path\"}, {\"fillcolor\": \"#bf4d28\", \"layer\": \"below\", \"line\": {\"color\": \"rgb(175,175,175)\", \"width\": 0.5}, \"path\": \"M -0.9985006787523644,0.05473933257784187 Q -0.15020078523007108, -0.13205954761496824 -0.07353290182702046, -0.9972927916860213L -0.07353290182702046, -0.9972927916860213 L -0.07378791428882144, -0.9972739561950394 L -0.07404292192591526, -0.9972550554961719 M -0.07404292192591526,-0.9972550554961719 Q -0.15019050500585285, -0.13207123913285168 -0.9985369730774794, 0.054073222552991344L -0.9985369730774794, 0.054073222552991344 L -0.9985188814600129, 0.054406280591901 L -0.9985006787523644, 0.05473933257784187 \", \"type\": \"path\"}, {\"fillcolor\": \"#bf4d28\", \"layer\": \"below\", \"line\": {\"color\": \"rgb(175,175,175)\", \"width\": 0.5}, \"path\": \"M -0.9996598972596761,0.02607853160693215 Q -0.14143524455051623, -0.1414074665600642 0.025882177853648786, -0.999665000322384L 0.025882177853648786, -0.999665000322384 L 0.021458736814738914, -0.9997697347961259 L 0.017034875660973718, -0.999854895978019 M 0.017034875660973718,-0.999854895978019 Q -0.14152634689468233, -0.14131628757735623 -0.9998284903772876, 0.018519984607827326L -0.9998284903772876, 0.018519984607827326 L -0.99975133707435, 0.022299417437443906 L -0.9996598972596761, 0.02607853160693215 \", \"type\": \"path\"}, {\"fillcolor\": \"#bf4d28\", \"layer\": \"below\", \"line\": {\"color\": \"rgb(175,175,175)\", \"width\": 0.5}, \"path\": \"M -0.998371184712556,-0.05705241042802111 Q -0.05744681960614054, -0.19157208282299265 0.8022394172579441, -0.5970024433766031L 0.8022394172579441, -0.5970024433766031 L 0.7927836449954317, -0.6095031519424303 L 0.7831331021672983, -0.621854118173888 M 0.7831331021672983,-0.621854118173888 Q -0.05780833392796665, -0.1914633033468103 -0.9964187531938581, -0.08455571112347994L -0.9964187531938581, -0.08455571112347994 L -0.9974897653512316, -0.07081079027623527 L -0.998371184712556, -0.05705241042802111 \", \"type\": \"path\"}, {\"fillcolor\": \"#bf4d28\", \"layer\": \"below\", \"line\": {\"color\": \"rgb(175,175,175)\", \"width\": 0.5}, \"path\": \"M -0.998711778855433,0.05074231740289938 Q -0.04657266254422834, -0.19450189485848574 0.9133832332675099, -0.40710080961082545L 0.9133832332675099, -0.40710080961082545 L 0.9131116499911376, -0.4077095959754469 L 0.9128396609477497, -0.4083182011627664 M 0.9128396609477497,-0.4083182011627664 Q -0.046572568986982796, -0.1945019172603518 -0.9987785901482241, 0.04940979519817654L -0.9987785901482241, 0.04940979519817654 L -0.9987454067325907, 0.05007606744295958 L -0.998711778855433, 0.05074231740289938 \", \"type\": \"path\"}, {\"fillcolor\": \"#bf4d28\", \"layer\": \"below\", \"line\": {\"color\": \"rgb(175,175,175)\", \"width\": 0.5}, \"path\": \"M -0.9998932540070942,-0.014610975022378238 Q -0.014346053223047429, -0.19948481334909055 0.9875131914748473, -0.15753633442213139L 0.9875131914748473, -0.15753633442213139 L 0.9862017341809715, -0.16554799756700306 L 0.9848252796182199, -0.17354874999519598 M 0.9848252796182199,-0.17354874999519598 Q -0.014279904322686441, -0.19948955945746866 -0.99950355965192, -0.031506098507129134L -0.99950355965192, -0.031506098507129134 L -0.9997340976063814, -0.023059359990123558 L -0.9998932540070942, -0.014610975022378238 \", \"type\": \"path\"}, {\"fillcolor\": \"#bf4d28\", \"layer\": \"below\", \"line\": {\"color\": \"rgb(175,175,175)\", \"width\": 0.5}, \"path\": \"M -0.9999423457361227,0.010738026063504139 Q -0.008309108062858171, -0.1998273222639981 0.9973819447668448, -0.07231359659916307L 0.9973819447668448, -0.07231359659916307 L 0.997078858938704, -0.07637898308757544 L 0.9967592024293539, -0.0804431002162291 M 0.9967592024293539,-0.0804431002162291 Q -0.008190606005350728, -0.19983221455327246 -0.9999990215966388, 0.0013988587366954087L -0.9999990215966388, 0.0013988587366954087 L -0.9999815864323695, 0.006068508564847108 L -0.9999423457361227, 0.010738026063504139 \", \"type\": \"path\"}, {\"fillcolor\": \"#af4624\", \"layer\": \"below\", \"line\": {\"color\": \"rgb(175,175,175)\", \"width\": 0.5}, \"path\": \"M -0.9927129665460284,-0.12050297113093904 Q -0.19551273270304517, -0.042128035213947625 -0.9542475814137691, -0.299017647248406L -0.9542475814137691, -0.299017647248406 L -0.9545861651692046, -0.2979349816110085 L -0.9549235205594955, -0.29685193258973197 M -0.9549235205594955,-0.29685193258973197 Q -0.19551313953841162, -0.04212614708033 -0.9924393918789531, -0.12273570567252884L -0.9924393918789531, -0.12273570567252884 L -0.9925768070108982, -0.12161941532522691 L -0.9927129665460284, -0.12050297113093904 \", \"type\": \"path\"}, {\"fillcolor\": \"#af4624\", \"layer\": \"below\", \"line\": {\"color\": \"rgb(175,175,175)\", \"width\": 0.5}, \"path\": \"M -0.9924393918789531,-0.12273570567252884 Q -0.19042413037043146, -0.0611445056621192 -0.8783731670557993, -0.4779755008327988L -0.8783731670557993, -0.4779755008327988 L -0.8792797111451255, -0.4763057731841435 L -0.8801830811994655, -0.47463432616090356 M -0.8801830811994655,-0.47463432616090356 Q -0.19043714226755337, -0.06110396750594546 -0.9920196146484525, -0.1260836395125708L -0.9920196146484525, -0.1260836395125708 L -0.9922309153176915, -0.12440984964148237 L -0.9924393918789531, -0.12273570567252884 \", \"type\": \"path\"}, {\"fillcolor\": \"#af4624\", \"layer\": \"below\", \"line\": {\"color\": \"rgb(175,175,175)\", \"width\": 0.5}, \"path\": \"M -0.9882895896663096,-0.15258993072020632 Q -0.16995546736735268, -0.10542836009321555 -0.575747057941973, -0.8176278647839507L -0.575747057941973, -0.8176278647839507 L -0.5792130803902973, -0.8151761818802012 L -0.5826686630669182, -0.8127098061914906 M -0.5826686630669182,-0.8127098061914906 Q -0.17001173282609727, -0.10533760345416887 -0.9871296766928961, -0.15992186026987823L -0.9871296766928961, -0.15992186026987823 L -0.9877164364196417, -0.1562569717692109 L -0.9882895896663096, -0.15258993072020632 \", \"type\": \"path\"}, {\"fillcolor\": \"#af4624\", \"layer\": \"below\", \"line\": {\"color\": \"rgb(175,175,175)\", \"width\": 0.5}, \"path\": \"M -0.9932711216179245,-0.1158122573818085 Q -0.13846019691358977, -0.14432177199109616 -0.07455292265928949, -0.9972170584797264L -0.07455292265928949, -0.9972170584797264 L -0.07480791572222292, -0.997197962164633 L -0.07506290389375526, -0.9971788006466227 M -0.07506290389375526,-0.9971788006466227 Q -0.13844840423302052, -0.14433308479115295 -0.993192741884687, -0.11648252000870107L -0.993192741884687, -0.11648252000870107 L -0.9932319882904637, -0.11614739530687826 L -0.9932711216179245, -0.1158122573818085 \", \"type\": \"path\"}, {\"fillcolor\": \"#af4624\", \"layer\": \"below\", \"line\": {\"color\": \"rgb(175,175,175)\", \"width\": 0.5}, \"path\": \"M -0.9892968012812792,-0.14591723330240775 Q -0.12940258048998834, -0.15249581031140524 0.017034875660973718, -0.999854895978019L 0.017034875660973718, -0.999854895978019 L 0.013131188980357636, -0.9999137822212284 L 0.009227302151043216, -0.9999574275412996 M 0.009227302151043216,-0.9999574275412996 Q -0.1294833826212257, -0.15242720762700235 -0.9882895896663096, -0.15258993072020632L -0.9882895896663096, -0.15258993072020632 L -0.9887988241487672, -0.14925443163275015 L -0.9892968012812792, -0.14591723330240775 \", \"type\": \"path\"}, {\"fillcolor\": \"#af4624\", \"layer\": \"below\", \"line\": {\"color\": \"rgb(175,175,175)\", \"width\": 0.5}, \"path\": \"M -0.9725509363042152,-0.23269008636767124 Q -0.03691636051288866, -0.19656343079647964 0.8218557636160876, -0.5696956238299691L 0.8218557636160876, -0.5696956238299691 L 0.8121623635289941, -0.583431482924086 L 0.8022394172579441, -0.5970024433766031 M 0.8022394172579441,-0.5970024433766031 Q -0.03728057713606677, -0.19649467821903416 -0.9651552681833682, -0.2616778712422787L -0.9651552681833682, -0.2616778712422787 L -0.9689615093724845, -0.24721163677019078 L -0.9725509363042152, -0.23269008636767124 \", \"type\": \"path\"}, {\"fillcolor\": \"#af4624\", \"layer\": \"below\", \"line\": {\"color\": \"rgb(175,175,175)\", \"width\": 0.5}, \"path\": \"M -0.993192741884687,-0.11648252000870107 Q -0.03026956927521678, -0.19769611320380798 0.9128396609477497, -0.4083182011627664L 0.9128396609477497, -0.4083182011627664 L 0.9125672662582125, -0.4089266249023322 L 0.9122944660435727, -0.40953486692377317 M 0.9122944660435727,-0.40953486692377317 Q -0.030267945632176264, -0.19769636179557687 -0.9930346255679785, -0.11782288582047488L -0.9930346255679785, -0.11782288582047488 L -0.9931139098560718, -0.11715272958999318 L -0.993192741884687, -0.11648252000870107 \", \"type\": \"path\"}, {\"fillcolor\": \"#af4624\", \"layer\": \"below\", \"line\": {\"color\": \"rgb(175,175,175)\", \"width\": 0.5}, \"path\": \"M -0.9840121079196624,-0.17810157626338594 Q -0.0009688952390772151, -0.1999976530912693 0.9822403230147129, -0.18762715113744213L 0.9822403230147129, -0.18762715113744213 L 0.9810590244388421, -0.1937090358426973 L 0.9798400681204072, -0.19978348506769947 M 0.9798400681204072,-0.19978348506769947 Q -0.0009033359687135961, -0.19999795994991457 -0.9816047875396189, -0.19092417625670038L -0.9816047875396189, -0.19092417625670038 L -0.9828293593988698, -0.18451680222572447 L -0.9840121079196624, -0.17810157626338594 \", \"type\": \"path\"}, {\"fillcolor\": \"#af4624\", \"layer\": \"below\", \"line\": {\"color\": \"rgb(175,175,175)\", \"width\": 0.5}, \"path\": \"M -0.9857266435882287,-0.1683537469742954 Q 0.011361044834536099, -0.19967705591846968 0.9984609524200881, -0.05545923270629137L 0.9984609524200881, -0.05545923270629137 L 0.9982149921030202, -0.05972293982019957 L 0.997950824649121, -0.06398555760591106 M 0.997950824649121,-0.06398555760591106 Q 0.011496414022771339, -0.19966930776816208 -0.9840121079196624, -0.17810157626338594L -0.9840121079196624, -0.17810157626338594 L -0.9848814356773757, -0.1732297828263696 L -0.9857266435882287, -0.1683537469742954 \", \"type\": \"path\"}, {\"fillcolor\": \"#9f4021\", \"layer\": \"below\", \"line\": {\"color\": \"rgb(175,175,175)\", \"width\": 0.5}, \"path\": \"M -0.9295432435514207,-0.3687131111960953 Q -0.17609135872586557, -0.09482527818086556 -0.8194653007877684, -0.5731287994899683L -0.8194653007877684, -0.5731287994899683 L -0.8260881999672502, -0.5635408466782762 L -0.8325989232813367, -0.5538763697349426 M -0.8325989232813367,-0.5538763697349426 Q -0.1762066111120038, -0.09461094122998176 -0.9216453706674187, -0.3880332598210061L -0.9216453706674187, -0.3880332598210061 L -0.9256447149900922, -0.3783937917182457 L -0.9295432435514207, -0.3687131111960953 \", \"type\": \"path\"}, {\"fillcolor\": \"#9f4021\", \"layer\": \"below\", \"line\": {\"color\": \"rgb(175,175,175)\", \"width\": 0.5}, \"path\": \"M -0.9349598437159514,-0.3547535632501014 Q -0.15345127157020333, -0.1282681069225227 -0.514957831986491, -0.8572155104031732L -0.514957831986491, -0.8572155104031732 L -0.5222177613970896, -0.8528121772591034 L -0.5294400410388753, -0.8483473598383825 M -0.5294400410388753,-0.8483473598383825 Q -0.15357998688580948, -0.12811396343941042 -0.9295432435514207, -0.3687131111960953L -0.9295432435514207, -0.3687131111960953 L -0.9322776720763534, -0.3617434756120632 L -0.9349598437159514, -0.3547535632501014 \", \"type\": \"path\"}, {\"fillcolor\": \"#9f4021\", \"layer\": \"below\", \"line\": {\"color\": \"rgb(175,175,175)\", \"width\": 0.5}, \"path\": \"M -0.9526742871817272,-0.30399293173162417 Q -0.1233896715804766, -0.15740072727678905 -0.06775136204297844, -0.9977022366123679L -0.06775136204297844, -0.9977022366123679 L -0.06877180469136684, -0.9976324167144393 L -0.069792175392205, -0.9975615531154074 M -0.069792175392205,-0.9975615531154074 Q -0.12333639694449675, -0.15744247580862525 -0.9518431376987239, -0.3065854549972131L -0.9518431376987239, -0.3065854549972131 L -0.9522595947075234, -0.3052894762147285 L -0.9526742871817272, -0.30399293173162417 \", \"type\": \"path\"}, {\"fillcolor\": \"#9f4021\", \"layer\": \"below\", \"line\": {\"color\": \"rgb(175,175,175)\", \"width\": 0.5}, \"path\": \"M -0.911302262740548,-0.41173800641179237 Q -0.09511137268430384, -0.17593699663830648 0.15461921103082799, -0.9879741391252123L 0.15461921103082799, -0.9879741391252123 L 0.13865674966985805, -0.9903404999145446 L 0.1226581821140028, -0.9924489762000303 M 0.1226581821140028,-0.9924489762000303 Q -0.09547550739635981, -0.1757396582658782 -0.8993599881957166, -0.4372088878700896L -0.8993599881957166, -0.4372088878700896 L -0.9054206967989857, -0.42451544354480114 L -0.911302262740548, -0.41173800641179237 \", \"type\": \"path\"}, {\"fillcolor\": \"#9f4021\", \"layer\": \"below\", \"line\": {\"color\": \"rgb(175,175,175)\", \"width\": 0.5}, \"path\": \"M -0.9505127249320173,-0.3106856284772619 Q -0.05217569270045572, -0.19307433048240155 0.6646445058750529, -0.7471597424982872L 0.6646445058750529, -0.7471597424982872 L 0.662280057501345, -0.7492563816451717 L 0.6599089952600119, -0.7513455383343416 M 0.6599089952600119,-0.7513455383343416 Q -0.052238286782744586, -0.19305740440087693 -0.9487352771495529, -0.31607178597901L -0.9487352771495529, -0.31607178597901 L -0.9496278197409065, -0.3133799674103826 L -0.9505127249320173, -0.3106856284772619 \", \"type\": \"path\"}, {\"fillcolor\": \"#9f4021\", \"layer\": \"below\", \"line\": {\"color\": \"rgb(175,175,175)\", \"width\": 0.5}, \"path\": \"M -0.9564595217511549,-0.29186500861109066 Q -0.012790270018588968, -0.1995906034683286 0.9113822047602002, -0.4115610244501254L 0.9113822047602002, -0.4115610244501254 L 0.9112449773339231, -0.41186477305506225 L 0.9111076486732663, -0.41216847590405536 M 0.9111076486732663,-0.41216847590405536 Q -0.012788872163811077, -0.19959069304147853 -0.9562606498107292, -0.29251593054663166L -0.9562606498107292, -0.29251593054663166 L -0.9563601411601031, -0.29219048649849566 L -0.9564595217511549, -0.29186500861109066 \", \"type\": \"path\"}, {\"fillcolor\": \"#9f4021\", \"layer\": \"below\", \"line\": {\"color\": \"rgb(175,175,175)\", \"width\": 0.5}, \"path\": \"M -0.9559282122063043,-0.2936004991618011 Q 0.004813968384740633, -0.1999420558771734 0.9689503045926172, -0.24725555045311787L 0.9689503045926172, -0.24725555045311787 L 0.9687651509952874, -0.24798000366375936 L 0.9685794557474993, -0.24870431822523334 M 0.9685794557474993,-0.24870431822523334 Q 0.004823230134597498, -0.19994183266907584 -0.9554607331015127, -0.29511826019600995L -0.9554607331015127, -0.29511826019600995 L -0.9556947739528932, -0.29435947248072114 L -0.9559282122063043, -0.2936004991618011 \", \"type\": \"path\"}, {\"fillcolor\": \"#9f4021\", \"layer\": \"below\", \"line\": {\"color\": \"rgb(175,175,175)\", \"width\": 0.5}, \"path\": \"M -0.9518431376987239,-0.3065854549972131 Q 0.021474035114276698, -0.19884382267475853 0.9953524435231992, -0.09629908188761022L 0.9953524435231992, -0.09629908188761022 L 0.995173155381954, -0.09813455460297969 L 0.9949904825529845, -0.09996969355249094 M 0.9949904825529845,-0.09996969355249094 Q 0.02153589472350982, -0.1988371324437614 -0.9505127249320173, -0.3106856284772619L -0.9505127249320173, -0.3106856284772619 L -0.9511801406027302, -0.3086362586005904 L -0.9518431376987239, -0.3065854549972131 \", \"type\": \"path\"}, {\"fillcolor\": \"#8f391e\", \"layer\": \"below\", \"line\": {\"color\": \"rgb(175,175,175)\", \"width\": 0.5}, \"path\": \"M -0.7484490761397691,-0.6631922650525458 Q -0.10887165012294103, -0.167770568931228 -0.3007961693096539, -0.9536884525507467L -0.3007961693096539, -0.9536884525507467 L -0.3396709280194058, -0.9405443427390522 L -0.377973675965397, -0.9258163426280641 M -0.377973675965397,-0.9258163426280641 Q -0.10897799503958577, -0.16770151042000792 -0.6924714661970195, -0.7214452636915362L -0.6924714661970195, -0.7214452636915362 L -0.721048788428803, -0.6928842938798333 L -0.7484490761397691, -0.6631922650525458 \", \"type\": \"path\"}, {\"fillcolor\": \"#8f391e\", \"layer\": \"below\", \"line\": {\"color\": \"rgb(175,175,175)\", \"width\": 0.5}, \"path\": \"M -0.8690085623690795,-0.49479704781781547 Q -0.10445282367791386, -0.17055675778376722 -0.045796466168075624, -0.9989507914239402L -0.045796466168075624, -0.9989507914239402 L -0.04843583781249529, -0.9988262960171812 L -0.051074871288464836, -0.9986948270231837 M -0.051074871288464836,-0.9986948270231837 Q -0.10423369864733674, -0.17069076151419618 -0.8650960999685839, -0.5016061580753827L -0.8650960999685839, -0.5016061580753827 L -0.8670590152815035, -0.4982054435863476 L -0.8690085623690795, -0.49479704781781547 \", \"type\": \"path\"}, {\"fillcolor\": \"#8f391e\", \"layer\": \"below\", \"line\": {\"color\": \"rgb(175,175,175)\", \"width\": 0.5}, \"path\": \"M -0.7974064955032263,-0.6034425249593064 Q -0.047882572327161865, -0.1941835710541294 0.4254534799111666, -0.9049802961564846L 0.4254534799111666, -0.9049802961564846 L 0.38920731577267953, -0.9211501860983505 L 0.35234805290518895, -0.9358690344347985 M 0.35234805290518895,-0.9358690344347985 Q -0.04808831886937032, -0.19413272158066958 -0.7484490761397691, -0.6631922650525458L -0.7484490761397691, -0.6631922650525458 L -0.7735049256179468, -0.6337902886955389 L -0.7974064955032263, -0.6034425249593064 \", \"type\": \"path\"}, {\"fillcolor\": \"#8f391e\", \"layer\": \"below\", \"line\": {\"color\": \"rgb(175,175,175)\", \"width\": 0.5}, \"path\": \"M -0.8650960999685839,-0.5016061580753827 Q -0.02974965529331516, -0.19777501867002548 0.6792478047802954, -0.7339089996049576L 0.6792478047802954, -0.7339089996049576 L 0.6751554234986645, -0.7376755073339083 L 0.6710421568477452, -0.7414191956869786 M 0.6710421568477452,-0.7414191956869786 Q -0.02974741385156314, -0.19777535581852415 -0.8594513834035759, -0.5112174875389922L -0.8594513834035759, -0.5112174875389922 L -0.8622871331608903, -0.5064196875963385 L -0.8650960999685839, -0.5016061580753827 \", \"type\": \"path\"}, {\"fillcolor\": \"#8f391e\", \"layer\": \"below\", \"line\": {\"color\": \"rgb(175,175,175)\", \"width\": 0.5}, \"path\": \"M -0.8763066000536085,-0.4817538196034204 Q 0.009844749255545985, -0.1997575553316956 0.9194300211338134, -0.3932536538137636L 0.9194300211338134, -0.3932536538137636 L 0.9181581945398068, -0.39621399495651605 L 0.9168768363963206, -0.3991702229373765 M 0.9168768363963206,-0.3991702229373765 Q 0.009934890044495673, -0.19975309249121473 -0.8727437911459812, -0.4881785278114349L -0.8727437911459812, -0.4881785278114349 L -0.8745310954778847, -0.48496944547285753 L -0.8763066000536085, -0.4817538196034204 \", \"type\": \"path\"}, {\"fillcolor\": \"#8f391e\", \"layer\": \"below\", \"line\": {\"color\": \"rgb(175,175,175)\", \"width\": 0.5}, \"path\": \"M -0.8851831452883618,-0.46524273159008384 Q 0.022928394619461754, -0.19868137486985094 0.9678849900712492, -0.25139340881331357L 0.9678849900712492, -0.25139340881331357 L 0.9678312603328064, -0.2516001818811175 L 0.9677774864206223, -0.2518069434653902 M 0.9677774864206223,-0.2518069434653902 Q 0.02293627965794895, -0.19868046475547707 -0.8849473147848935, -0.4656911530778811L -0.8849473147848935, -0.4656911530778811 L -0.8850652584359227, -0.46546695726952886 L -0.8851831452883618, -0.46524273159008384 \", \"type\": \"path\"}, {\"fillcolor\": \"#8f391e\", \"layer\": \"below\", \"line\": {\"color\": \"rgb(175,175,175)\", \"width\": 0.5}, \"path\": \"M -0.8849473147848935,-0.4656911530778811 Q 0.03742933720236475, -0.19646639589657994 0.994184219687522, -0.10769279142223426L 0.994184219687522, -0.10769279142223426 L 0.9941528183853153, -0.10798228417909268 L 0.9941213327868051, -0.10827176777990755 M 0.9941213327868051,-0.10827176777990755 Q 0.03744678314609333, -0.19646307142058395 -0.884593143115976, -0.46636356113251215L -0.884593143115976, -0.46636356113251215 L -0.8847702928275523, -0.46602739075063754 L -0.8849473147848935, -0.4656911530778811 \", \"type\": \"path\"}, {\"fillcolor\": \"#f0f3e7\", \"layer\": \"below\", \"line\": {\"color\": \"rgb(175,175,175)\", \"width\": 0.5}, \"path\": \"M -0.5517344592235691,-0.8340198357984514 Q -0.0606894871617043, -0.19056963595507373 -0.03216922543143476, -0.9994824365315989L -0.03216922543143476, -0.9994824365315989 L -0.035917420463447106, -0.9993547612871276 L -0.039665110307351904, -0.9992130298511452 M -0.039665110307351904,-0.9992130298511452 Q -0.06032533778393611, -0.19068522129744092 -0.542257134279616, -0.8402125923377122L -0.542257134279616, -0.8402125923377122 L -0.5470045605132543, -0.8371296260303427 L -0.5517344592235691, -0.8340198357984514 \", \"type\": \"path\"}, {\"fillcolor\": \"#f0f3e7\", \"layer\": \"below\", \"line\": {\"color\": \"rgb(175,175,175)\", \"width\": 0.5}, \"path\": \"M -0.3007961693096539,-0.9536884525507467 Q 0.023050494599720237, -0.19866724616480763 0.5111701480521456, -0.8594795400359148L 0.5111701480521456, -0.8594795400359148 L 0.46886408992017586, -0.8832703239571253 L 0.4254534799111666, -0.9049802961564846 M 0.4254534799111666,-0.9049802961564846 Q 0.02294030658658265, -0.198679999833183 -0.20802351250490156, -0.9781238256198052L -0.20802351250490156, -0.9781238256198052 L -0.2547030408431014, -0.9670193177932266 L -0.3007961693096539, -0.9536884525507467 \", \"type\": \"path\"}, {\"fillcolor\": \"#f0f3e7\", \"layer\": \"below\", \"line\": {\"color\": \"rgb(175,175,175)\", \"width\": 0.5}, \"path\": \"M -0.4735857832615627,-0.8807476970691052 Q 0.0403541110464477, -0.19588656340252378 0.7831331021672983, -0.621854118173888L 0.7831331021672983, -0.621854118173888 L 0.7740109902773672, -0.6331721621564307 L 0.764725321316298, -0.6443564098677725 M 0.764725321316298,-0.6443564098677725 Q 0.040404683622595534, -0.19587613826435818 -0.44732121813509274, -0.8943733715882516L -0.44732121813509274, -0.8943733715882516 L -0.46050389906804295, -0.8876576811717057 L -0.4735857832615627, -0.8807476970691052 \", \"type\": \"path\"}, {\"fillcolor\": \"#f0f3e7\", \"layer\": \"below\", \"line\": {\"color\": \"rgb(175,175,175)\", \"width\": 0.5}, \"path\": \"M -0.542257134279616,-0.8402125923377122 Q 0.062317518422596724, -0.19004348685932207 0.9344985881898441, -0.35596683647664173L 0.9344985881898441, -0.35596683647664173 L 0.9321451409774056, -0.36208484662052964 L 0.9297516406423461, -0.36818729842685466 M 0.9297516406423461,-0.36818729842685466 Q 0.06251424328517546, -0.1899788656311062 -0.5294400410388753, -0.8483473598383825L -0.5294400410388753, -0.8483473598383825 L -0.5358640242701321, -0.8443042979240478 L -0.542257134279616, -0.8402125923377122 \", \"type\": \"path\"}, {\"fillcolor\": \"#f0f3e7\", \"layer\": \"below\", \"line\": {\"color\": \"rgb(175,175,175)\", \"width\": 0.5}, \"path\": \"M -0.595765568663048,-0.80315838238519 Q 0.06723658352794652, -0.1883593423100895 0.9696855004114606, -0.24435635922106735L 0.9696855004114606, -0.24435635922106735 L 0.969318986422118, -0.24580622970461474 L 0.9689503045926172, -0.24725555045311787 M 0.9689503045926172,-0.24725555045311787 Q 0.06729414924143116, -0.18833878378568764 -0.5928685530405055, -0.8052992479914888L -0.5928685530405055, -0.8052992479914888 L -0.5943180248367712, -0.80423011965116 L -0.595765568663048, -0.80315838238519 \", \"type\": \"path\"}, {\"fillcolor\": \"#f0f3e7\", \"layer\": \"below\", \"line\": {\"color\": \"rgb(175,175,175)\", \"width\": 0.5}, \"path\": \"M -0.5893404095106926,-0.8078848195861642 Q 0.08337634723968111, -0.1817921470277749 0.9967592024293539, -0.0804431002162291L 0.9967592024293539, -0.0804431002162291 L 0.9965045356140201, -0.08353867667545484 L 0.9962402550721983, -0.08663344719957439 M 0.9962402550721983,-0.08663344719957439 Q 0.08356005868839123, -0.18170777801732269 -0.5826686630669182, -0.8127098061914906L -0.5826686630669182, -0.8127098061914906 L -0.5860095022053766, -0.8103041795060709 L -0.5893404095106926, -0.8078848195861642 \", \"type\": \"path\"}, {\"fillcolor\": \"#e2ecde\", \"layer\": \"below\", \"line\": {\"color\": \"rgb(175,175,175)\", \"width\": 0.5}, \"path\": \"M -0.03216922543143476,-0.9994824365315989 Q 0.003873554033872219, -0.1999624854295092 0.07085332166439064, -0.9974867451796652L 0.07085332166439064, -0.9974867451796652 L 0.0638418516723683, -0.9979600282451414 L 0.056827228869123225, -0.9983840273457184 M 0.056827228869123225,-0.9983840273457184 Q 0.003388691739982042, -0.1999712898600481 -0.022967300419158034, -0.9997362167649305L -0.022967300419158034, -0.9997362167649305 L -0.02756855494616928, -0.999619915156846 L -0.03216922543143476, -0.9994824365315989 \", \"type\": \"path\"}, {\"fillcolor\": \"#e2ecde\", \"layer\": \"below\", \"line\": {\"color\": \"rgb(175,175,175)\", \"width\": 0.5}, \"path\": \"M -0.06775136204297844,-0.9977022366123679 Q 0.06358494316709967, -0.18962319215337745 0.6555290392593232, -0.7551699667543385L 0.6555290392593232, -0.7551699667543385 L 0.654095993532915, -0.7564115488569624 L 0.6526605962358005, -0.7576504115495017 M 0.6526605962358005,-0.7576504115495017 Q 0.06346782891618429, -0.18966242298532932 -0.06519994765755, -0.9978722196881987L -0.06519994765755, -0.9978722196881987 L -0.06647570918262574, -0.9977880436689281 L -0.06775136204297844, -0.9977022366123679 \", \"type\": \"path\"}, {\"fillcolor\": \"#e2ecde\", \"layer\": \"below\", \"line\": {\"color\": \"rgb(175,175,175)\", \"width\": 0.5}, \"path\": \"M -0.07268282565667675,-0.9973551056943365 Q 0.10296957185925631, -0.17145631301040348 0.9145554023280346, -0.4044606483610079L 0.9145554023280346, -0.4044606483610079 L 0.9142405686707458, -0.40517179393016917 L 0.9139251820366464, -0.4058826944318797 M 0.9139251820366464,-0.4058826944318797 Q 0.10293852458084707, -0.1714749548975545 -0.07149263044417091, -0.9974411279830872L -0.07149263044417091, -0.9974411279830872 L -0.0720877408817232, -0.9973982943711953 L -0.07268282565667675, -0.9973551056943365 \", \"type\": \"path\"}, {\"fillcolor\": \"#e2ecde\", \"layer\": \"below\", \"line\": {\"color\": \"rgb(175,175,175)\", \"width\": 0.5}, \"path\": \"M -0.07353290182702046,-0.9972927916860213 Q 0.116683033740269, -0.16243481657935052 0.9685794557474993, -0.24870431822523334L 0.9685794557474993, -0.24870431822523334 L 0.9684464847195645, -0.2492216006575638 L 0.9683132374302525, -0.2497388119963401 M 0.9683132374302525,-0.2497388119963401 Q 0.11666550291737623, -0.1624474081942697 -0.07268282565667675, -0.9973551056943365L -0.07268282565667675, -0.9973551056943365 L -0.0731078703810719, -0.9973240392612345 L -0.07353290182702046, -0.9972927916860213 \", \"type\": \"path\"}, {\"fillcolor\": \"#e2ecde\", \"layer\": \"below\", \"line\": {\"color\": \"rgb(175,175,175)\", \"width\": 0.5}, \"path\": \"M -0.07540288048480362,-0.9971531505313487 Q 0.12780415986132962, -0.15383789104814102 0.9940792208658242, -0.10865773162916607L 0.9940792208658242, -0.10865773162916607 L 0.9940581087115612, -0.10885070741522021 L 0.9940369590958437, -0.10904367909919441 M 0.9940369590958437,-0.10904367909919441 Q 0.12780052066641334, -0.1538409143153851 -0.07506290389375526, -0.9971788006466227L -0.07506290389375526, -0.9971788006466227 L -0.07523289328243186, -0.9971659900780583 L -0.07540288048480362, -0.9971531505313487 \", \"type\": \"path\"}, {\"fillcolor\": \"#d4e5d6\", \"layer\": \"below\", \"line\": {\"color\": \"rgb(175,175,175)\", \"width\": 0.5}, \"path\": \"M 0.22157976860923534,-0.9751422491837166 Q 0.11481787294535101, -0.1637585297085475 0.8412271573275014, -0.5406818563394663L 0.8412271573275014, -0.5406818563394663 L 0.8316679927468429, -0.5552732208925956 L 0.8218557636160876, -0.5696956238299691 M 0.8218557636160876,-0.5696956238299691 Q 0.114902194902475, -0.16369937570618176 0.25645450770706185, -0.966556302279763L 0.25645450770706185, -0.966556302279763 L 0.23905568797744736, -0.9710058589141619 L 0.22157976860923534, -0.9751422491837166 \", \"type\": \"path\"}, {\"fillcolor\": \"#d4e5d6\", \"layer\": \"below\", \"line\": {\"color\": \"rgb(175,175,175)\", \"width\": 0.5}, \"path\": \"M 0.08668063260793589,-0.9962361506845092 Q 0.12164431602913746, -0.15875345784518627 0.9393900247181945, -0.3428503776575866L 0.9393900247181945, -0.3428503776575866 L 0.9369672586433269, -0.3494171664792802 L 0.9344985881898441, -0.35596683647664173 M 0.9344985881898441,-0.35596683647664173 Q 0.12183460575059245, -0.15860746779895868 0.10300389035900408, -0.9946809531557896L 0.10300389035900408, -0.9946809531557896 L 0.0948454491429991, -0.9954920093988011 L 0.08668063260793589, -0.9962361506845092 \", \"type\": \"path\"}, {\"fillcolor\": \"#d4e5d6\", \"layer\": \"below\", \"line\": {\"color\": \"rgb(175,175,175)\", \"width\": 0.5}, \"path\": \"M 0.008446506003642539,-0.9999643276319063 Q 0.12307822963389392, -0.15764437633542935 0.9680459142196173, -0.25077302080308655L 0.9680459142196173, -0.25077302080308655 L 0.9679655018477848, -0.2510832277006294 L 0.9678849900712492, -0.25139340881331357 M 0.9678849900712492,-0.25139340881331357 Q 0.12308925711637445, -0.15763576619073183 0.009227302151043216, -0.9999574275412996L 0.009227302151043216, -0.9999574275412996 L 0.008836904750814719, -0.9999609537949095 L 0.008446506003642539, -0.9999643276319063 \", \"type\": \"path\"}, {\"fillcolor\": \"#d4e5d6\", \"layer\": \"below\", \"line\": {\"color\": \"rgb(175,175,175)\", \"width\": 0.5}, \"path\": \"M 0.045650140145250755,-0.998957488937702 Q 0.14011693281320578, -0.14271385755777038 0.997950824649121, -0.06398555760591106L 0.997950824649121, -0.06398555760591106 L 0.9976750744779912, -0.0681501706918979 L 0.9973819447668448, -0.07231359659916307 M 0.9973819447668448,-0.07231359659916307 Q 0.14031975714350925, -0.14251444051458992 0.056827228869123225, -0.9983840273457184L 0.056827228869123225, -0.9983840273457184 L 0.051239486771204684, -0.9986863947182937 L 0.045650140145250755, -0.998957488937702 \", \"type\": \"path\"}, {\"fillcolor\": \"#c6decd\", \"layer\": \"below\", \"line\": {\"color\": \"rgb(175,175,175)\", \"width\": 0.5}, \"path\": \"M 0.6968579290499315,-0.7172091931370098 Q 0.16636330650722117, -0.11101013578941513 0.9297516406423461, -0.36818729842685466L 0.9297516406423461, -0.36818729842685466 L 0.9273597672059585, -0.3741708996804944 L 0.9249293855795062, -0.3801389636587087 M 0.9249293855795062,-0.3801389636587087 Q 0.1664617705270635, -0.1108624325594349 0.7072991318698147, -0.7069143781648569L 0.7072991318698147, -0.7069143781648569 L 0.7020973997505778, -0.7120809232548484 L 0.6968579290499315, -0.7172091931370098 \", \"type\": \"path\"}, {\"fillcolor\": \"#c6decd\", \"layer\": \"below\", \"line\": {\"color\": \"rgb(175,175,175)\", \"width\": 0.5}, \"path\": \"M 0.7332479169209781,-0.6799613903237789 Q 0.18059151385335678, -0.08594594303486844 0.9901213171291205, -0.14021332806297504L 0.9901213171291205, -0.14021332806297504 L 0.9888551886108725, -0.14888054257476258 L 0.9875131914748473, -0.15753633442213139 M 0.9875131914748473,-0.15753633442213139 Q 0.18072931381729768, -0.08565579447491417 0.7471853311703558, -0.6646157392688242L 0.7471853311703558, -0.6646157392688242 L 0.740256389884707, -0.6723246814113406 L 0.7332479169209781, -0.6799613903237789 \", \"type\": \"path\"}, {\"fillcolor\": \"#c6decd\", \"layer\": \"below\", \"line\": {\"color\": \"rgb(175,175,175)\", \"width\": 0.5}, \"path\": \"M 0.7196978599596091,-0.6942873975304168 Q 0.18425713762760976, -0.07777729252988996 0.9995065603657315, -0.031410759078131026L 0.9995065603657315, -0.031410759078131026 L 0.9992401075378838, -0.03897701229799933 L 0.9989163790815561, -0.046541031387293014 M 0.9989163790815561,-0.046541031387293014 Q 0.18443466321332283, -0.07735538123096664 0.7332479169209781, -0.6799613903237789L 0.7332479169209781, -0.6799613903237789 L 0.726508201095765, -0.6871577939167943 L 0.7196978599596091, -0.6942873975304168 \", \"type\": \"path\"}, {\"fillcolor\": \"#b8d7c5\", \"layer\": \"below\", \"line\": {\"color\": \"rgb(175,175,175)\", \"width\": 0.5}, \"path\": \"M 0.9113822047602002,-0.4115610244501254 Q 0.1929897232734078, -0.052487776775678854 0.9942882818541108, -0.1067277497542247L 0.9942882818541108, -0.1067277497542247 L 0.9942363678588533, -0.10721028321404161 L 0.994184219687522, -0.10769279142223426 M 0.994184219687522,-0.10769279142223426 Q 0.19299340723961356, -0.05247422950405926 0.911838898181616, -0.4105481990740387L 0.911838898181616, -0.4105481990740387 L 0.9116106921306394, -0.41105467518700795 L 0.9113822047602002, -0.4115610244501254 \", \"type\": \"path\"}, {\"fillcolor\": \"#aad0bc\", \"layer\": \"below\", \"line\": {\"color\": \"rgb(175,175,175)\", \"width\": 0.5}, \"path\": \"M 0.9705151018229904,-0.24104032262986744 Q 0.19719390101725884, -0.03338510748216236 0.9957724889328274, -0.09185396172469636L 0.9957724889328274, -0.09185396172469636 L 0.9955649471206386, -0.0940767562402115 L 0.9953524435231992, -0.09629908188761022 M 0.9953524435231992,-0.09629908188761022 Q 0.19720138751317784, -0.033340857260686536 0.9716877845615263, -0.23626859574203427L 0.9716877845615263, -0.23626859574203427 L 0.9711043740579383, -0.2386551794651438 L 0.9705151018229904, -0.24104032262986744 \", \"type\": \"path\"}, {\"fillcolor\": \"#f2e6ce\", \"layer\": \"below\", \"line\": {\"color\": \"rgb(150,150,150)\", \"width\": 0.45}, \"path\": \"M 1.1, 0.0 L 1.0997239463976418, 0.02464227504912715 L 1.0988959241461878, 0.049272181754985905 L 1.0975163488429565, 0.07387735798217282 L 1.0955859129183705, 0.09844545400789846 L 1.093105585288413, 0.12296413872050654 L 1.0900766108683162, 0.14742110580865153 L 1.0865005099477163, 0.17180407993802904 L 1.0823790774275979, 0.19610082291255795 L 1.0777143819194046, 0.22029913981692245 L 1.072508764706771, 0.24438688513739074 L 1.0667648385703954, 0.26835196885783846 L 1.0604854864766444, 0.2921823625279169 L 0.9640777149787676, 0.26562032957083354 L 0.9697862168821776, 0.2439563353253077 L 0.9750079679152464, 0.2221698955794461 L 0.9797403471994587, 0.2002719452881113 L 0.9839809794796343, 0.17827347537505267 L 0.9877277363161057, 0.15618552721639004 L 0.9909787371530147, 0.1340191870987741 L 0.9937323502621936, 0.11178558065500593 L 0.9959871935621548, 0.08949586727990769 L 0.9977421353117785, 0.067161234529248 L 0.9989962946783524, 0.04479289250453264 L 0.9997490421796743, 0.022402068226479225 L 1.0, 0.0 L 1.1 ,0.0\", \"type\": \"path\"}, {\"fillcolor\": \"#ecd5bb\", \"layer\": \"below\", \"line\": {\"color\": \"rgb(150,150,150)\", \"width\": 0.45}, \"path\": \"M 1.0507845311098076, 0.325348842291381 L 1.043893460549169, 0.34682335997259617 L 1.0365635736164018, 0.36815208521967485 L 1.028797951540112, 0.3893260521810348 L 1.0205998587167495, 0.4103363600600749 L 1.0119727413383703, 0.4311741768567596 L 1.0029202259439778, 0.45183074308028304 L 0.993446117895052, 0.4722973754312537 L 0.9835543997759085, 0.4925654704518503 L 0.9732492297195591, 0.5126265081424147 L 0.962534939659778, 0.5324720555429627 L 0.9514160335101074, 0.5520937702781061 L 0.9398971852705709, 0.5714834040638961 L 0.9279832370628851, 0.5906328061751136 L 0.9156791970950022, 0.6095339268715502 L 0.9029902375558334, 0.6281788207818374 L 0.8899216924410417, 0.6465596502434033 L 0.8764790553108159, 0.6646686885971537 L 0.8626679769805697, 0.6824983234354874 L 0.8484942631455369, 0.7000410598022895 L 0.8339638719402582, 0.7172895233435469 L 0.8190829114339914, 0.7342364634072708 L 0.8038576370630904, 0.750874756091417 L 0.7882944490014399, 0.7671974072385259 L 0.7723998894700437, 0.7831975553758225 L 0.7561806399869057, 0.7988684745995388 L 0.7396435185583505, 0.8142035774022509 L 0.7227954768129737, 0.8291964174420354 L 0.7056435970794185, 0.8438406922522873 L 0.6881950894092124, 0.8581302458910574 L 0.6704572885459134, 0.872059071528794 L 0.6524376508418395, 0.885621313973406 L 0.6341437511236785, 0.8988112721315806 L 0.6155832795082958, 0.9116234014053235 L 0.5967640381700771, 0.9240523160227146 L 0.5776939380611666, 0.9360927913018993 L 0.5583809955859793, 0.947739765847361 L 0.5388333292313845, 0.9589883436775561 L 0.5190591561539762, 0.9698337962830138 L 0.49906678872586885, 0.9802715646140355 L 0.47886463104046545, 0.9902972609971609 L 0.4584611753796698, 0.999906670979593 L 0.43786499864402767, 1.009095755100806 L 0.41708475874729867, 1.0178606505905943 L 0.39612919097696925, 1.026197672992846 L 0.3750071043222438, 1.0341033177143597 L 0.35372737777105373, 1.041574261498053 L 0.33229895657764025, 1.0486073638199438 L 0.3020899605251275, 0.9532794216544942 L 0.32157034342823065, 0.9468856922709572 L 0.340915549383858, 0.9400939251948723 L 0.36011744634269927, 0.9329069754480417 L 0.3791679624975442, 0.9253278641732674 L 0.39805908967638876, 0.917359777364369 L 0.4167828867087907, 0.9090060645269026 L 0.4353314827640595, 0.9002702372701462 L 0.45369708065988074, 0.8911559678309413 L 0.47187196013997834, 0.8816670875300124 L 0.4898484811194404, 0.8718075851614147 L 0.5076190868963448, 0.8615816053157827 L 0.5251763073283333, 0.8509934466380902 L 0.5425127619727973, 0.8400475600206496 L 0.5596211631893598, 0.8287485467321122 L 0.576494319203344, 0.8171011564832551 L 0.5931251371289449, 0.8051102854303691 L 0.6095066259508303, 0.7927809741170854 L 0.6256318994629203, 0.7801184053555066 L 0.6414941791631077, 0.7671279020475339 L 0.6570867971027033, 0.7538149249473048 L 0.6724031986894096, 0.7401850703656826 L 0.6874369454426414, 0.7262440678177625 L 0.7021817177000397, 0.711997777614384 L 0.7166313172740362, 0.6974521883986599 L 0.7307796700573549, 0.6826134146285608 L 0.7446208285763557, 0.6674876940066098 L 0.7581489744911438, 0.6520813848577699 L 0.7713584210413971, 0.6364009634566268 L 0.7842436154368815, 0.6204530213049886 L 0.7967991411916507, 0.6042442623610488 L 0.8090197204009469, 0.5877815002212757 L 0.8209002159598485, 0.5710716552562157 L 0.8324356337227292, 0.5541217517014092 L 0.8436211246026227, 0.5369389147046487 L 0.8544519866096099, 0.5195303673308146 L 0.8649236668273703, 0.501903427525551 L 0.8750317633270708, 0.484065505039057 L 0.8847720270177809, 0.46602409831128605 L 0.894140363432644, 0.4477867913198639 L 0.9031328344500472, 0.4293612503920488 L 0.9117456599490706, 0.41075522098207545 L 0.9199752193985183, 0.39197652441523595 L 0.927818053378863, 0.3730330546000681 L 0.9352708650364653, 0.3539327747100316 L 0.9423305214694561, 0.33468371383606804 L 0.9489940550446989, 0.315293963611451 L 0.9552586646452796, 0.29577167481034633 L 1.0507845311098076 ,0.325348842291381\", \"type\": \"path\"}, {\"fillcolor\": \"#e6c4a9\", \"layer\": \"below\", \"line\": {\"color\": \"rgb(150,150,150)\", \"width\": 0.45}, \"path\": \"M 0.2991974338295393, 1.058527701852823 L 0.27650560093520127, 1.0646805401863337 L 0.25368744915365415, 1.070346989598192 L 0.2307534027350084, 1.0755244614262454 L 0.20771393887471015, 1.0802105903929813 L 0.18457958292713467, 1.0844032356860824 L 0.1613609035971829, 1.0881004819364344 L 0.1380685081120697, 1.0913006400931449 L 0.11471303737551738, 1.0940022481951686 L 0.09130516110656094, 1.0962040720391917 L 0.0678555729651926, 1.0979051057434634 L 0.0443749856670658, 1.0991045722073254 L 0.02087412608949717, 1.0998019234662213 L -0.0026362696290035334, 1.0999968409420289 L -0.02614546099343428, 1.0996892355886008 L -0.04964270805898948, 1.0988792479324423 L -0.07311727633750098, 1.0975672480085152 L -0.09655844170138232, 1.0957538351911897 L -0.11995549528284385, 1.0934398379204262 L -0.14329774836613252, 1.090626313323311 L -0.1665745372705694, 1.0873145467311178 L -0.1897752282221465, 1.0835060510921166 L -0.21288922221146356, 1.0792025662803986 L -0.2359059598357824, 1.074406058301031 L -0.25881492612298673, 1.0691187183919066 L -0.23528629647544244, 0.971926107629006 L -0.21445996348707488, 0.9767327802736645 L -0.19353565655587596, 0.9810932420730896 L -0.1725229347474059, 0.9850055009928332 L -0.15143139751869944, 0.9884677697555615 L -0.13027068033284772, 0.9914784666575553 L -0.10905045025713077, 0.9940362162912965 L -0.0877804015467112, 0.9961398501738088 L -0.06647025121590998, 0.9977884072804684 L -0.045129734599081345, 0.9989811344840385 L -0.02376860090312207, 0.9997174868987279 L -0.002396608753639576, 0.9999971281291171 L 0.018976478263179244, 0.9998199304238374 L 0.040340896060968905, 0.9991859747339321 L 0.06168688451381144, 0.9980955506758757 L 0.08300469191505538, 0.996549156399265 L 0.10428457943228853, 0.9945474983592442 L 0.125516825556427, 0.9920914909937679 L 0.14669173054289353, 0.9891822563058494 L 0.1677996208428497, 0.9858211233509839 L 0.18883085352246376, 0.982009627629983 L 0.20977582066818945, 0.9777495103874957 L 0.2306249537760492, 0.9730427178165382 L 0.2513687281229102, 0.9678914001693942 L 0.27199766711776296, 0.9622979107752935 L 0.2991974338295393 ,1.058527701852823\", \"type\": \"path\"}, {\"fillcolor\": \"#e1b396\", \"layer\": \"below\", \"line\": {\"color\": \"rgb(150,150,150)\", \"width\": 0.45}, \"path\": \"M -0.29226904706982293, 1.060461599552241 L -0.3156755004515974, 1.0537309800962642 L -0.33892720414659433, 1.0464838031662855 L -0.3620127597603909, 1.0387236214559992 L -0.38492085034727785, 1.0304542391430727 L -0.40764024595802584, 1.0216797100242718 L -0.4301598091450042, 1.0124043355282186 L -0.45246850042195425, 1.0026326626067537 L -0.4745553836757385, 0.9923694815059423 L -0.4964096315274177, 0.9816198234178105 L -0.5180205306400205, 0.9703889580139665 L -0.5393774869704114, 0.9586823908623147 L -0.5604700309626764, 0.9465058607281293 L -0.5812878226804837, 0.9338653367608108 L -0.6018206568759025, 0.9207670155677045 L -0.622058467992196, 0.9072173181764126 L -0.6419913350981329, 0.8932228868870955 L -0.6616094867514036, 0.8787905820162983 L -0.6809033057887528, 0.8639274785339036 L -0.6190030052625025, 0.7853886168490032 L -0.6014631697740033, 0.7989005291057257 L -0.583628486452848, 0.8120208062609958 L -0.5655076981747236, 0.8247430165240114 L -0.5471096880690022, 0.8370609232433677 L -0.5284434751640761, 0.8489684879643734 L -0.5095182099660694, 0.8604598733892084 L -0.49034316997310123, 0.8715294462384678 L -0.47092775512729135, 0.8821717800126968 L -0.45128148320674333, 0.892381657652555 L -0.43141398515976226, 0.9021540740963111 L -0.4113350003835947, 0.9114842387334123 L -0.39105437195000375, 0.9203675777529259 L -0.37058204178002346, 0.9287997363857017 L -0.34992804577025255, 0.9367765810391568 L -0.32910250887308257, 0.9442942013236355 L -0.30811564013326753, 0.9513489119693503 L -0.28697772768327034, 0.9579372546329674 L -0.265699133699839, 0.9640559995929464 L -0.29226904706982293 ,1.060461599552241\", \"type\": \"path\"}, {\"fillcolor\": \"#dba284\", \"layer\": \"below\", \"line\": {\"color\": \"rgb(150,150,150)\", \"width\": 0.45}, \"path\": \"M -0.7077039389997754, 0.8421134927812298 L -0.7260987769236994, 0.8263053710039092 L -0.744140606759334, 0.810095523609315 L -0.7618206570942185, 0.7934918313533753 L -0.7791303324025547, 0.7765023664679233 L -0.7083003021841405, 0.7059112422435665 L -0.6925642337220168, 0.7213562103212502 L -0.6764914606903036, 0.7364504760084681 L -0.660089797203363, 0.7511867009126447 L -0.643367217272523, 0.7655577207102089 L -0.7077039389997754 ,0.8421134927812298\", \"type\": \"path\"}, {\"fillcolor\": \"#d59171\", \"layer\": \"below\", \"line\": {\"color\": \"rgb(150,150,150)\", \"width\": 0.45}, \"path\": \"M -0.8031364073730067, 0.751646134262646 L -0.830760882731123, 0.720996779274225 L -0.8572164606373748, 0.6893329671590734 L -0.8824659175557914, 0.6566992495445807 L -0.9064737269871516, 0.6231415427348936 L -0.8240670245337741, 0.5664923115771759 L -0.8022417432325376, 0.5969993177678006 L -0.7792876914885225, 0.6266663337809758 L -0.7552371661192027, 0.6554516175220226 L -0.7301240067027334, 0.6833146675114964 L -0.8031364073730067 ,0.751646134262646\", \"type\": \"path\"}, {\"fillcolor\": \"#d0805f\", \"layer\": \"below\", \"line\": {\"color\": \"rgb(150,150,150)\", \"width\": 0.45}, \"path\": \"M -0.925599785793252, 0.5943610321509027 L -0.9393242510722175, 0.5724246250360112 L -0.9525289308710774, 0.550171460413572 L -0.9652065182339842, 0.5276138523187482 L -0.9773499978775292, 0.5047642832538709 L -0.9889526500727269, 0.481635397281108 L -1.0000080543634517, 0.4582399930257331 L -1.0105100931192683, 0.43459101659386357 L -1.0204529549206902, 0.41070155440858985 L -1.0298311377749931, 0.3865848259684583 L -1.0386394521608038, 0.3622541765323147 L -1.0468730238997788, 0.33772306973455796 L -0.9517027489997989, 0.3070209724859618 L -0.9442176837825489, 0.3293219786657406 L -0.9362101252499937, 0.3514407508804166 L -0.9276845044733547, 0.3733650494623544 L -0.9186455391993348, 0.39508274235805774 L -0.9090982312395015, 0.4165818118415755 L -0.8990478637024789, 0.4378503611646436 L -0.888499998070481, 0.4588766211398826 L -0.8774604711218037, 0.47964895665340745 L -0.8659353917009793, 0.5001558731032473 L -0.8539311373383794, 0.5203860227600101 L -0.8414543507211381, 0.5403282110462752 L -0.925599785793252 ,0.5943610321509027\", \"type\": \"path\"}, {\"fillcolor\": \"#ca6f4c\", \"layer\": \"below\", \"line\": {\"color\": \"rgb(150,150,150)\", \"width\": 0.45}, \"path\": \"M -1.0569645932362983, 0.30467334744743674 L -1.0608528464584577, 0.29084572914345536 L -1.064560209768104, 0.2769685176667026 L -1.0680860510091124, 0.26304407927144047 L -1.0714297689773518, 0.2490747882647678 L -0.9740270627066833, 0.22643162569524344 L -0.970987319099193, 0.23913098115585493 L -0.9677820088800945, 0.25178956151518417 L -0.9644116785985978, 0.26440520831223213 L -0.9608769029420894, 0.27697577040676064 L -1.0569645932362983 ,0.30467334744743674\", \"type\": \"path\"}, {\"fillcolor\": \"#c45e3a\", \"layer\": \"below\", \"line\": {\"color\": \"rgb(150,150,150)\", \"width\": 0.45}, \"path\": \"M -1.0787247112306235, 0.2152974625498589 L -1.0842745173698254, 0.18533421427904845 L -1.088992213075138, 0.1552287340079579 L -1.092874177820802, 0.1250041257419378 L -1.0959174324504164, 0.09468358490935573 L -0.996288574954924, 0.08607598628123247 L -0.9935219798370927, 0.11364011431085255 L -0.9899929209773981, 0.14111703091632535 L -0.9857041066998412, 0.16848564934458948 L -0.9806588283914759, 0.19572496595441716 L -1.0787247112306235 ,0.2152974625498589\", \"type\": \"path\"}, {\"fillcolor\": \"#bf4d28\", \"layer\": \"below\", \"line\": {\"color\": \"rgb(150,150,150)\", \"width\": 0.45}, \"path\": \"M -1.0983507466276008, 0.06021326583562606 L -1.09978196454493, 0.021900467156984196 L -1.0998771573997748, -0.016438936406939116 L -1.0986362095509947, -0.05475836980245835 L -1.096060628513244, -0.09301128223582746 L -0.9964187531938581, -0.0845557111234795 L -0.9987601905009043, -0.049780336184053045 L -0.999888324908886, -0.014944487642671922 L -0.9998017859499364, 0.01990951559725836 L -0.9985006787523644, 0.05473933257784187 L -1.0983507466276008 ,0.06021326583562606\", \"type\": \"path\"}, {\"fillcolor\": \"#af4624\", \"layer\": \"below\", \"line\": {\"color\": \"rgb(150,150,150)\", \"width\": 0.45}, \"path\": \"M -1.092598233779717, -0.12739348311998935 L -1.0871091077913044, -0.1679100585349019 L -1.0801180431911355, -0.20819465116316646 L -1.0716346987611898, -0.24819160423151695 L -1.061670795001705, -0.2878456583665066 L -0.9651552681833682, -0.2616778712422787 L -0.9742133625101725, -0.22562873111956086 L -0.9819254938101231, -0.18926786469378767 L -0.9882810070830039, -0.1526455077590017 L -0.9932711216179245, -0.1158122573818085 L -1.092598233779717 ,-0.12739348311998935\", \"type\": \"path\"}, {\"fillcolor\": \"#9f4021\", \"layer\": \"below\", \"line\": {\"color\": \"rgb(150,150,150)\", \"width\": 0.45}, \"path\": \"M -1.0521054739262705, -0.32105150947219974 L -1.0387589618034825, -0.3619113417301971 L -1.0238262773845443, -0.40221853977272864 L -1.0073302226968792, -0.4419115549987984 L -0.9892959870152883, -0.4809297766570986 L -0.8993599881957166, -0.4372088878700896 L -0.9157547479062537, -0.4017377772716349 L -0.9307511612586766, -0.36565321797520783 L -0.9443263289122567, -0.32901031066381553 L -0.9564595217511549, -0.29186500861109066 L -1.0521054739262705 ,-0.32105150947219974\", \"type\": \"path\"}, {\"fillcolor\": \"#8f391e\", \"layer\": \"below\", \"line\": {\"color\": \"rgb(150,150,150)\", \"width\": 0.45}, \"path\": \"M -0.9737014598171981, -0.5117670047490923 L -0.9622721291786218, -0.532946854204096 L -0.9503821679205199, -0.5538715870115499 L -0.9380372676555392, -0.5745311866986252 L -0.9252433377713516, -0.5949157637092236 L -0.9120065026018855, -0.6150155601380157 L -0.8983330984956636, -0.63482095440146 L -0.884229670782654, -0.6543224658435621 L -0.869702970641082, -0.6735107592741764 L -0.8547599518657031, -0.6923766494376751 L -0.839407767539089, -0.7109111054098417 L -0.8236537666075125, -0.7291052549208911 L -0.8075054903630778, -0.74695038860254 L -0.790970668833772, -0.7644379641571024 L -0.7740572170831769, -0.7815596104466043 L -0.7567732314216001, -0.7983071314999695 L -0.7391269855304476, -0.8146725104363555 L -0.7211269265016916, -0.8306479133027568 L -0.7027816707943259, -0.8462256928240456 L -0.6841000001097485, -0.8613983920636503 L -0.6219090910088622, -0.7830894473305912 L -0.6388924279948416, -0.7692960843854959 L -0.655569933183356, -0.7551344666388697 L -0.6719336232094978, -0.7406113731239594 L -0.6879756649287273, -0.7257337559090631 L -0.7036883791665244, -0.7105087367696402 L -0.7190642443943381, -0.694943603779184 L -0.7340959003300707, -0.6790458078204908 L -0.748776151461375, -0.6628229590189918 L -0.7630979704900808, -0.6462828230998561 L -0.7770545016960937, -0.6294333176706136 L -0.7906390642191654, -0.6122825084310693 L -0.8038451552569581, -0.5948386053123291 L -0.8166664531778759, -0.5771099585467818 L -0.8290968205471686, -0.5591050546709233 L -0.841130307064865, -0.5408325124629305 L -0.8527611524141264, -0.522301078816932 L -0.8639837890186544, -0.5035196245559544 L -0.8747928447078379, -0.4844971401855418 L -0.8851831452883618, -0.46524273159008384 L -0.9737014598171981 ,-0.5117670047490923\", \"type\": \"path\"}, {\"fillcolor\": \"#f0f3e7\", \"layer\": \"below\", \"line\": {\"color\": \"rgb(150,150,150)\", \"width\": 0.45}, \"path\": \"M -0.656705260692493, -0.8824614442449057 L -0.6377479566516484, -0.8962575209093909 L -0.6185009194407493, -0.9096464217765868 L -0.5989728931177672, -0.9226220641791155 L -0.5791727493959138, -0.9351785531956869 L -0.5591094836131547, -0.9473101843292047 L -0.538792210645574, -0.9590114460983536 L -0.5182301607664191, -0.9702770225415067 L -0.4974326754527317, -0.9811017956317977 L -0.47640920314144525, -0.9914808476022788 L -0.4551692949369035, -1.0014094631800932 L -0.4337226002717265, -1.0108831317286546 L -0.4120788625230065, -1.0198975492968623 L -0.39024791458583236, -1.0284486205744112 L -0.3682396744061325, -1.036532460752323 L -0.3460641404748926, -1.0441453972878365 L -0.32373138728576706, -1.0512839715728728 L -0.30125156075817544, -1.0579449405053003 L -0.2786348736279404, -1.0641252779622998 L -0.25589160080757056, -1.0698221761751525 L -0.23303207471830567, -1.0750330470048268 L -0.2100666805960207, -1.0797555231177887 L -0.18700585177315118, -1.083987459061496 L -0.16386006493875277, -1.0877269322390928 L -0.1406398353788789, -1.090972243782857 L -0.11735571219940814, -1.0937219193260095 L -0.10668701109037103, -0.9942926539327358 L -0.1278543957989808, -0.9917929488935064 L -0.14896369539886614, -0.9888426656719025 L -0.17000531979377378, -0.9854431446013598 L -0.1909697096327461, -0.9815959301070806 L -0.21184734065300515, -0.9773027700043879 L -0.2326287280068823, -0.9725656147046841 L -0.2533044305708549, -0.9673866163293634 L -0.27386505523470495, -0.9617681277320912 L -0.2943012611688791, -0.9557127014298843 L -0.31460376406808416, -0.9492230884434877 L -0.3347633403692113, -0.9423022370475662 L -0.35477083144166577, -0.9349532914312828 L -0.3746171477481877, -0.9271795902698746 L -0.3942932729742968, -0.9189846652078677 L -0.4137902681244577, -0.9103722392546301 L -0.433099275583132, -0.9013462250929807 L -0.45221152313884694, -0.8919107233016341 L -0.4711183279694719, -0.8820700204922788 L -0.48981110058688543, -0.8718285873621396 L -0.5082813487392315, -0.8611910766629133 L -0.5265206812690125, -0.850162321086988 L -0.5445208119252429, -0.8387473310719231 L -0.5622735631279538, -0.8269512925241698 L -0.5797708696833167, -0.8147795644630826 L -0.5970047824477209, -0.8022376765862779 L -0.656705260692493 ,-0.8824614442449057\", \"type\": \"path\"}, {\"fillcolor\": \"#e2ecde\", \"layer\": \"below\", \"line\": {\"color\": \"rgb(150,150,150)\", \"width\": 0.45}, \"path\": \"M -0.08294316853328398, -1.0968684655844836 L -0.06853861323535801, -1.0978626774309135 L -0.054122248922963564, -1.0986677305589352 L -0.03969655949600414, -1.0992834862601095 L -0.025264030461074817, -1.0997098384414237 L -0.022967300419158922, -0.9997362167649305 L -0.03608778136000376, -0.9993486238728267 L -0.04920204447542142, -0.9987888459626683 L -0.06230783021396182, -0.9980569794826486 L -0.07540288048480362, -0.9971531505313487 L -0.08294316853328398 ,-1.0968684655844836\", \"type\": \"path\"}, {\"fillcolor\": \"#d4e5d6\", \"layer\": \"below\", \"line\": {\"color\": \"rgb(150,150,150)\", \"width\": 0.45}, \"path\": \"M 0.009291156604006794, -1.0999607603950972 L 0.032334009078085375, -1.0995246754197645 L 0.055362667637795834, -1.098605923446632 L 0.07836702321170133, -1.097204907787482 L 0.10133697739683792, -1.0953222434571814 L 0.124262446891689, -1.0929587569037043 L 0.1471333679225354, -1.0901154856453383 L 0.16993970066122338, -1.0867936778152392 L 0.19267143363243108, -1.0829947916135256 L 0.21531858810848342, -1.0787204946671634 L 0.23787122248979287, -1.0739726632979125 L 0.2603194366690015, -1.0687533816986656 L 0.2826533763769081, -1.0630649410185316 L 0.3048632375082783, -1.0569098383570716 L 0.3269392704256237, -1.0502907756681295 L 0.3488717842390808, -1.0432106585737324 L 0.37065115106049645, -1.0356725950885874 L 0.3922678102298578, -1.027679894255732 L 0.41371227251220977, -1.019236064693937 L 0.43497512426321994, -1.010344813057501 L 0.4560470315615595, -1.001010042409111 L 0.47691874430628767, -0.9912358505064847 L 0.4975811002774446, -0.9810265280035437 L 0.5180250291580579, -0.9703865565669145 L 0.5382415565158144, -0.9593206069085732 L 0.5582218077426371, -0.9478335367355085 L 0.5779570119504405, -0.9359303886172938 L 0.5974385058213576, -0.9236163877725124 L 0.6166577374107431, -0.9108969397750016 L 0.6356062699012918, -0.8977776281809247 L 0.6542757853066086, -0.8842642120777143 L 0.6726580881226247, -0.870362623555961 L 0.6907451089252418, -0.8560789651053553 L 0.627950099022947, -0.778253604641232 L 0.6115073528387497, -0.7912387486872372 L 0.5947961684605532, -0.8038765564342857 L 0.577823881728447, -0.8161614801644769 L 0.5605979431006756, -0.8280881270681832 L 0.5431259143830524, -0.8396512616113748 L 0.5254154654094912, -0.8508458078339034 L 0.5074743706751246, -0.8616668515777349 L 0.48931050592346764, -0.8721096426441575 L 0.4709318446891435, -0.8821695968790131 L 0.4523464547976769, -0.8918422981850397 L 0.43356249482389786, -0.9011235004604405 L 0.4145882105105086, -0.9100091294628281 L 0.3954319311483817, -0.9184952845977281 L 0.3761020659201907, -0.9265782406308517 L 0.3566071002089616, -0.9342544493233926 L 0.3369555918731786, -0.9415205409896249 L 0.3171561674900734, -0.9483733259761203 L 0.2972175185687488, -0.9548097960619358 L 0.27714839773479844, -0.960827125779156 L 0.25695761488809826, -0.9664226736532104 L 0.23665403333545587, -0.9715939833624233 L 0.21624656589981167, -0.9763387848162841 L 0.1957441710077122, -0.9806549951519665 L 0.17515584875675552, -0.9845407196486596 L 0.15449063696474852, -0.9879942525593083 L 0.1337576072023049, -0.9910140778593984 L 0.11296586081062636, -0.9935988699124583 L 0.09212452490621628, -0.995747494051983 L 0.07124274837427393, -0.997459007079529 L 0.05032969785254166, -0.9987326576787563 L 0.029394553707350342, -0.9995678867452403 L 0.008446506003642539, -0.9999643276319063 L 0.009291156604006794 ,-1.0999607603950972\", \"type\": \"path\"}, {\"fillcolor\": \"#c6decd\", \"layer\": \"below\", \"line\": {\"color\": \"rgb(150,150,150)\", \"width\": 0.45}, \"path\": \"M 0.7172943580360984, -0.8339597136130628 L 0.7348631917419464, -0.818520671347303 L 0.7520998017281226, -0.8027115847180224 L 0.7689963955092389, -0.7865396008427029 L 0.7855453343175642, -0.7700120309007558 L 0.8017391365564295, -0.7531363468282161 L 0.8175704811825769, -0.7359201779397613 L 0.8330322110159242, -0.7183713074795797 L 0.8481173359752487, -0.7004976691026511 L 0.8628190362383277, -0.6823073432880256 L 0.8771306653251064, -0.6638085536857268 L 0.8910457531024994, -0.6450096633989292 L 0.9045580087094701, -0.6259191712030863 L 0.9176613234010579, -0.6065457077037304 L 0.930349773310078, -0.5868980314346665 L 0.9426176221252373, -0.5669850248983334 L 0.9544593236844588, -0.546815690550121 L 0.9658695244822421, -0.5263991467284572 L 0.9768430660899245, -0.5057446235325054 L 0.987374987487752, -0.4848614586493361 L 0.8976136249888653, -0.44078314422666914 L 0.8880391509908404, -0.45976783957500483 L 0.8780632040747655, -0.478544678844052 L 0.8676902942585989, -0.4971051732273827 L 0.8569251110229429, -0.5154409317257576 L 0.8457725211909799, -0.5335436649406058 L 0.8342375667282343, -0.5514051888215731 L 0.8223254624631546, -0.569017428366442 L 0.8100415937295449, -0.5863724212717537 L 0.7973915139319149, -0.6034623215324788 L 0.7843809420348433, -0.6202794029891141 L 0.7710157599774988, -0.6368160628205919 L 0.7573020100144765, -0.653064824981436 L 0.7432458919841608, -0.6690183435816011 L 0.7288537605058449, -0.6846694062074691 L 0.7141321221068765, -0.7000109371825052 L 0.6990876322811262, -0.7150360007660935 L 0.6837270924801114, -0.7297378042891112 L 0.668057447038133, -0.7441097012248209 L 0.6520857800328167, -0.7581451941936933 L 0.7172943580360984 ,-0.8339597136130628\", \"type\": \"path\"}, {\"fillcolor\": \"#b8d7c5\", \"layer\": \"below\", \"line\": {\"color\": \"rgb(150,150,150)\", \"width\": 0.45}, \"path\": \"M 1.0021176439989443, -0.4536080109367618 L 1.0172596443126791, -0.4185484632068811 L 1.0311755087385321, -0.38298442550295614 L 1.0438484640358872, -0.3469587643076902 L 1.0552632350826234, -0.31051490251347974 L 0.9593302137114759, -0.2822862750122543 L 0.9489531491235338, -0.3154170584615365 L 0.9374322806713928, -0.34816765954814194 L 0.9247814948297082, -0.38049860291534643 L 0.9110160399990401, -0.41237091903341977 L 1.0021176439989443 ,-0.4536080109367618\", \"type\": \"path\"}, {\"fillcolor\": \"#aad0bc\", \"layer\": \"below\", \"line\": {\"color\": \"rgb(150,150,150)\", \"width\": 0.45}, \"path\": \"M 1.0644960351708668, -0.2772150629123622 L 1.0719684680037034, -0.24674603057758315 L 1.0785689748106453, -0.21607629804287534 L 1.0842921868202784, -0.18523081169313754 L 1.0891334488420328, -0.15423466086927257 L 0.9901213171291205, -0.14021332806297504 L 0.9857201698366167, -0.16839164699376138 L 0.9805172498278594, -0.19643299822079574 L 0.9745167890942756, -0.2243145732523483 L 0.9677236683371515, -0.2520136935566929 L 1.0644960351708668 ,-0.2772150629123622\", \"type\": \"path\"}, {\"fillcolor\": \"#9cc9b4\", \"layer\": \"below\", \"line\": {\"color\": \"rgb(150,150,150)\", \"width\": 0.45}, \"path\": \"M 1.093440655005428, -0.11994804700911385 L 1.0955677884936224, -0.09864695035931838 L 1.0972799992996856, -0.07730849330366123 L 1.0985766389606861, -0.05594075732274823 L 1.0994572164023046, -0.03455183498594413 L 0.9995065603657315, -0.031410759078131026 L 0.9987060354188054, -0.050855233929771114 L 0.9975272720906232, -0.07028044845787383 L 0.9959707168123838, -0.08967904578119852 L 0.9940369590958437, -0.10904367909919441 L 1.093440655005428 ,-0.11994804700911385\", \"type\": \"path\"}], \"showlegend\": false, \"title\": \"Data Jobs \\u2012 Technologies in Demand\", \"titlefont\": {\"color\": \"#655643\", \"family\": \"Merryweather\", \"size\": 18}, \"width\": 1000, \"xaxis\": {\"showgrid\": false, \"showline\": false, \"showticklabels\": false, \"title\": \"\", \"zeroline\": false}, \"yaxis\": {\"showgrid\": false, \"showline\": false, \"showticklabels\": false, \"title\": \"\", \"zeroline\": false}}, {\"showLink\": true, \"linkText\": \"Export to plot.ly\", \"plotlyServerURL\": \"https://plot.ly\"})});</script>"
      ],
      "text/vnd.plotly.v1+html": [
       "<div id=\"14586059-472d-41a6-b9ad-91d14cbddd61\" style=\"height: 525px; width: 1000px;\" class=\"plotly-graph-div\"></div><script type=\"text/javascript\">require([\"plotly\"], function(Plotly) { window.PLOTLYENV=window.PLOTLYENV || {};window.PLOTLYENV.BASE_URL=\"https://plot.ly\";Plotly.newPlot(\"14586059-472d-41a6-b9ad-91d14cbddd61\", [{\"hoverinfo\": \"text\", \"line\": {\"color\": \"#f2e6ce\", \"shape\": \"spline\", \"width\": 0.25}, \"mode\": \"lines\", \"text\": \"Power BI<br>1102\", \"x\": [1.1, 1.0997239463976418, 1.0988959241461878, 1.0975163488429565, 1.0955859129183705, 1.093105585288413, 1.0900766108683162, 1.0865005099477163, 1.0823790774275979, 1.0777143819194046, 1.072508764706771, 1.0667648385703954, 1.0604854864766444], \"y\": [0.0, 0.02464227504912715, 0.049272181754985905, 0.07387735798217282, 0.09844545400789846, 0.12296413872050654, 0.14742110580865153, 0.17180407993802904, 0.19610082291255795, 0.22029913981692245, 0.24438688513739074, 0.26835196885783846, 0.2921823625279169], \"type\": \"scatter\", \"uid\": \"bcb3c682-9fd0-4e35-b502-2e6fb97252a2\"}, {\"hoverinfo\": \"text\", \"line\": {\"color\": \"#ecd5bb\", \"shape\": \"spline\", \"width\": 0.25}, \"mode\": \"lines\", \"text\": \"Excel<br>3652\", \"x\": [1.0507845311098076, 1.043893460549169, 1.0365635736164018, 1.028797951540112, 1.0205998587167495, 1.0119727413383703, 1.0029202259439778, 0.993446117895052, 0.9835543997759085, 0.9732492297195591, 0.962534939659778, 0.9514160335101074, 0.9398971852705709, 0.9279832370628851, 0.9156791970950022, 0.9029902375558334, 0.8899216924410417, 0.8764790553108159, 0.8626679769805697, 0.8484942631455369, 0.8339638719402582, 0.8190829114339914, 0.8038576370630904, 0.7882944490014399, 0.7723998894700437, 0.7561806399869057, 0.7396435185583505, 0.7227954768129737, 0.7056435970794185, 0.6881950894092124, 0.6704572885459134, 0.6524376508418395, 0.6341437511236785, 0.6155832795082958, 0.5967640381700771, 0.5776939380611666, 0.5583809955859793, 0.5388333292313845, 0.5190591561539762, 0.49906678872586885, 0.47886463104046545, 0.4584611753796698, 0.43786499864402767, 0.41708475874729867, 0.39612919097696925, 0.3750071043222438, 0.35372737777105373, 0.33229895657764025], \"y\": [0.325348842291381, 0.34682335997259617, 0.36815208521967485, 0.3893260521810348, 0.4103363600600749, 0.4311741768567596, 0.45183074308028304, 0.4722973754312537, 0.4925654704518503, 0.5126265081424147, 0.5324720555429627, 0.5520937702781061, 0.5714834040638961, 0.5906328061751136, 0.6095339268715502, 0.6281788207818374, 0.6465596502434033, 0.6646686885971537, 0.6824983234354874, 0.7000410598022895, 0.7172895233435469, 0.7342364634072708, 0.750874756091417, 0.7671974072385259, 0.7831975553758225, 0.7988684745995388, 0.8142035774022509, 0.8291964174420354, 0.8438406922522873, 0.8581302458910574, 0.872059071528794, 0.885621313973406, 0.8988112721315806, 0.9116234014053235, 0.9240523160227146, 0.9360927913018993, 0.947739765847361, 0.9589883436775561, 0.9698337962830138, 0.9802715646140355, 0.9902972609971609, 0.999906670979593, 1.009095755100806, 1.0178606505905943, 1.026197672992846, 1.0341033177143597, 1.041574261498053, 1.0486073638199438], \"type\": \"scatter\", \"uid\": \"57cfe594-0459-4876-8e39-add34ce76d73\"}, {\"hoverinfo\": \"text\", \"line\": {\"color\": \"#e6c4a9\", \"shape\": \"spline\", \"width\": 0.25}, \"mode\": \"lines\", \"text\": \"SSIS/SSRS<br>1998\", \"x\": [0.2991974338295393, 0.27650560093520127, 0.25368744915365415, 0.2307534027350084, 0.20771393887471015, 0.18457958292713467, 0.1613609035971829, 0.1380685081120697, 0.11471303737551738, 0.09130516110656094, 0.0678555729651926, 0.0443749856670658, 0.02087412608949717, -0.0026362696290035334, -0.02614546099343428, -0.04964270805898948, -0.07311727633750098, -0.09655844170138232, -0.11995549528284385, -0.14329774836613252, -0.1665745372705694, -0.1897752282221465, -0.21288922221146356, -0.2359059598357824, -0.25881492612298673], \"y\": [1.058527701852823, 1.0646805401863337, 1.070346989598192, 1.0755244614262454, 1.0802105903929813, 1.0844032356860824, 1.0881004819364344, 1.0913006400931449, 1.0940022481951686, 1.0962040720391917, 1.0979051057434634, 1.0991045722073254, 1.0998019234662213, 1.0999968409420289, 1.0996892355886008, 1.0988792479324423, 1.0975672480085152, 1.0957538351911897, 1.0934398379204262, 1.090626313323311, 1.0873145467311178, 1.0835060510921166, 1.0792025662803986, 1.074406058301031, 1.0691187183919066], \"type\": \"scatter\", \"uid\": \"55e5974f-b5a2-4cc8-a452-d0154ac450a3\"}, {\"hoverinfo\": \"text\", \"line\": {\"color\": \"#e1b396\", \"shape\": \"spline\", \"width\": 0.25}, \"mode\": \"lines\", \"text\": \"MS SQL Server<br>1578\", \"x\": [-0.29226904706982293, -0.3156755004515974, -0.33892720414659433, -0.3620127597603909, -0.38492085034727785, -0.40764024595802584, -0.4301598091450042, -0.45246850042195425, -0.4745553836757385, -0.4964096315274177, -0.5180205306400205, -0.5393774869704114, -0.5604700309626764, -0.5812878226804837, -0.6018206568759025, -0.622058467992196, -0.6419913350981329, -0.6616094867514036, -0.6809033057887528], \"y\": [1.060461599552241, 1.0537309800962642, 1.0464838031662855, 1.0387236214559992, 1.0304542391430727, 1.0216797100242718, 1.0124043355282186, 1.0026326626067537, 0.9923694815059423, 0.9816198234178105, 0.9703889580139665, 0.9586823908623147, 0.9465058607281293, 0.9338653367608108, 0.9207670155677045, 0.9072173181764126, 0.8932228868870955, 0.8787905820162983, 0.8639274785339036], \"type\": \"scatter\", \"uid\": \"ea25250c-024b-4df6-8915-e8b7759dad2d\"}, {\"hoverinfo\": \"text\", \"line\": {\"color\": \"#dba284\", \"shape\": \"spline\", \"width\": 0.25}, \"mode\": \"lines\", \"text\": \"PostgreSQL<br>439\", \"x\": [-0.7077039389997754, -0.7260987769236994, -0.744140606759334, -0.7618206570942185, -0.7791303324025547], \"y\": [0.8421134927812298, 0.8263053710039092, 0.810095523609315, 0.7934918313533753, 0.7765023664679233], \"type\": \"scatter\", \"uid\": \"bc6cd183-b3c6-4ea4-b13e-5868ba9ceb5f\"}, {\"hoverinfo\": \"text\", \"line\": {\"color\": \"#d59171\", \"shape\": \"spline\", \"width\": 0.25}, \"mode\": \"lines\", \"text\": \"MySQL/MariaDB<br>666\", \"x\": [-0.8031364073730067, -0.830760882731123, -0.8572164606373748, -0.8824659175557914, -0.9064737269871516], \"y\": [0.751646134262646, 0.720996779274225, 0.6893329671590734, 0.6566992495445807, 0.6231415427348936], \"type\": \"scatter\", \"uid\": \"022cf75c-bd42-42df-af94-a701b74daf21\"}, {\"hoverinfo\": \"text\", \"line\": {\"color\": \"#d0805f\", \"shape\": \"spline\", \"width\": 0.25}, \"mode\": \"lines\", \"text\": \"T-SQL<br>1065\", \"x\": [-0.925599785793252, -0.9393242510722175, -0.9525289308710774, -0.9652065182339842, -0.9773499978775292, -0.9889526500727269, -1.0000080543634517, -1.0105100931192683, -1.0204529549206902, -1.0298311377749931, -1.0386394521608038, -1.0468730238997788], \"y\": [0.5943610321509027, 0.5724246250360112, 0.550171460413572, 0.5276138523187482, 0.5047642832538709, 0.481635397281108, 0.4582399930257331, 0.43459101659386357, 0.41070155440858985, 0.3865848259684583, 0.3622541765323147, 0.33772306973455796], \"type\": \"scatter\", \"uid\": \"71c4bad8-21a5-4497-a799-8a41af406d1d\"}, {\"hoverinfo\": \"text\", \"line\": {\"color\": \"#ca6f4c\", \"shape\": \"spline\", \"width\": 0.25}, \"mode\": \"lines\", \"text\": \"PL/SQL<br>307\", \"x\": [-1.0569645932362983, -1.0608528464584577, -1.064560209768104, -1.0680860510091124, -1.0714297689773518], \"y\": [0.30467334744743674, 0.29084572914345536, 0.2769685176667026, 0.26304407927144047, 0.2490747882647678], \"type\": \"scatter\", \"uid\": \"82360115-d2a4-446b-91ab-2aa0c532183f\"}, {\"hoverinfo\": \"text\", \"line\": {\"color\": \"#c45e3a\", \"shape\": \"spline\", \"width\": 0.25}, \"mode\": \"lines\", \"text\": \"Pentaho<br>522\", \"x\": [-1.0787247112306235, -1.0842745173698254, -1.088992213075138, -1.092874177820802, -1.0959174324504164], \"y\": [0.2152974625498589, 0.18533421427904845, 0.1552287340079579, 0.1250041257419378, 0.09468358490935573], \"type\": \"scatter\", \"uid\": \"8d14fc5d-f26d-4368-8d57-c6fd267fa8c2\"}, {\"hoverinfo\": \"text\", \"line\": {\"color\": \"#bf4d28\", \"shape\": \"spline\", \"width\": 0.25}, \"mode\": \"lines\", \"text\": \"Hadoop<br>627\", \"x\": [-1.0983507466276008, -1.09978196454493, -1.0998771573997748, -1.0986362095509947, -1.096060628513244], \"y\": [0.06021326583562606, 0.021900467156984196, -0.016438936406939116, -0.05475836980245835, -0.09301128223582746], \"type\": \"scatter\", \"uid\": \"dd31a37c-6c90-4f0d-8ad7-62a5ddece006\"}, {\"hoverinfo\": \"text\", \"line\": {\"color\": \"#af4624\", \"shape\": \"spline\", \"width\": 0.25}, \"mode\": \"lines\", \"text\": \"Spark<br>661\", \"x\": [-1.092598233779717, -1.0871091077913044, -1.0801180431911355, -1.0716346987611898, -1.061670795001705], \"y\": [-0.12739348311998935, -0.1679100585349019, -0.20819465116316646, -0.24819160423151695, -0.2878456583665066], \"type\": \"scatter\", \"uid\": \"2da4d953-a6b6-42d7-8015-e1878ccfb068\"}, {\"hoverinfo\": \"text\", \"line\": {\"color\": \"#9f4021\", \"shape\": \"spline\", \"width\": 0.25}, \"mode\": \"lines\", \"text\": \"Informatica<br>689\", \"x\": [-1.0521054739262705, -1.0387589618034825, -1.0238262773845443, -1.0073302226968792, -0.9892959870152883], \"y\": [-0.32105150947219974, -0.3619113417301971, -0.40221853977272864, -0.4419115549987984, -0.4809297766570986], \"type\": \"scatter\", \"uid\": \"e54de2f3-06fc-418a-8b84-616d6fe606f5\"}, {\"hoverinfo\": \"text\", \"line\": {\"color\": \"#8f391e\", \"shape\": \"spline\", \"width\": 0.25}, \"mode\": \"lines\", \"text\": \"Qlik<br>1641\", \"x\": [-0.9737014598171981, -0.9622721291786218, -0.9503821679205199, -0.9380372676555392, -0.9252433377713516, -0.9120065026018855, -0.8983330984956636, -0.884229670782654, -0.869702970641082, -0.8547599518657031, -0.839407767539089, -0.8236537666075125, -0.8075054903630778, -0.790970668833772, -0.7740572170831769, -0.7567732314216001, -0.7391269855304476, -0.7211269265016916, -0.7027816707943259, -0.6841000001097485], \"y\": [-0.5117670047490923, -0.532946854204096, -0.5538715870115499, -0.5745311866986252, -0.5949157637092236, -0.6150155601380157, -0.63482095440146, -0.6543224658435621, -0.6735107592741764, -0.6923766494376751, -0.7109111054098417, -0.7291052549208911, -0.74695038860254, -0.7644379641571024, -0.7815596104466043, -0.7983071314999695, -0.8146725104363555, -0.8306479133027568, -0.8462256928240456, -0.8613983920636503], \"type\": \"scatter\", \"uid\": \"4eb32b66-3454-4031-b90e-65395de4607c\"}, {\"hoverinfo\": \"text\", \"line\": {\"color\": \"#f0f3e7\", \"shape\": \"spline\", \"width\": 0.25}, \"mode\": \"lines\", \"text\": \"Tableau<br>2071\", \"x\": [-0.656705260692493, -0.6377479566516484, -0.6185009194407493, -0.5989728931177672, -0.5791727493959138, -0.5591094836131547, -0.538792210645574, -0.5182301607664191, -0.4974326754527317, -0.47640920314144525, -0.4551692949369035, -0.4337226002717265, -0.4120788625230065, -0.39024791458583236, -0.3682396744061325, -0.3460641404748926, -0.32373138728576706, -0.30125156075817544, -0.2786348736279404, -0.25589160080757056, -0.23303207471830567, -0.2100666805960207, -0.18700585177315118, -0.16386006493875277, -0.1406398353788789, -0.11735571219940814], \"y\": [-0.8824614442449057, -0.8962575209093909, -0.9096464217765868, -0.9226220641791155, -0.9351785531956869, -0.9473101843292047, -0.9590114460983536, -0.9702770225415067, -0.9811017956317977, -0.9914808476022788, -1.0014094631800932, -1.0108831317286546, -1.0198975492968623, -1.0284486205744112, -1.036532460752323, -1.0441453972878365, -1.0512839715728728, -1.0579449405053003, -1.0641252779622998, -1.0698221761751525, -1.0750330470048268, -1.0797555231177887, -1.083987459061496, -1.0877269322390928, -1.090972243782857, -1.0937219193260095], \"type\": \"scatter\", \"uid\": \"72f3abc0-9672-498b-bbc2-c75bf2c79cf2\"}, {\"hoverinfo\": \"text\", \"line\": {\"color\": \"#e2ecde\", \"shape\": \"spline\", \"width\": 0.25}, \"mode\": \"lines\", \"text\": \"Microstrategy<br>308\", \"x\": [-0.08294316853328398, -0.06853861323535801, -0.054122248922963564, -0.03969655949600414, -0.025264030461074817], \"y\": [-1.0968684655844836, -1.0978626774309135, -1.0986677305589352, -1.0992834862601095, -1.0997098384414237], \"type\": \"scatter\", \"uid\": \"ebe8cbe8-b444-40bc-8917-6c3b7a1cd20f\"}, {\"hoverinfo\": \"text\", \"line\": {\"color\": \"#d4e5d6\", \"shape\": \"spline\", \"width\": 0.25}, \"mode\": \"lines\", \"text\": \"Oracle BI<br>2576\", \"x\": [0.009291156604006794, 0.032334009078085375, 0.055362667637795834, 0.07836702321170133, 0.10133697739683792, 0.124262446891689, 0.1471333679225354, 0.16993970066122338, 0.19267143363243108, 0.21531858810848342, 0.23787122248979287, 0.2603194366690015, 0.2826533763769081, 0.3048632375082783, 0.3269392704256237, 0.3488717842390808, 0.37065115106049645, 0.3922678102298578, 0.41371227251220977, 0.43497512426321994, 0.4560470315615595, 0.47691874430628767, 0.4975811002774446, 0.5180250291580579, 0.5382415565158144, 0.5582218077426371, 0.5779570119504405, 0.5974385058213576, 0.6166577374107431, 0.6356062699012918, 0.6542757853066086, 0.6726580881226247, 0.6907451089252418], \"y\": [-1.0999607603950972, -1.0995246754197645, -1.098605923446632, -1.097204907787482, -1.0953222434571814, -1.0929587569037043, -1.0901154856453383, -1.0867936778152392, -1.0829947916135256, -1.0787204946671634, -1.0739726632979125, -1.0687533816986656, -1.0630649410185316, -1.0569098383570716, -1.0502907756681295, -1.0432106585737324, -1.0356725950885874, -1.027679894255732, -1.019236064693937, -1.010344813057501, -1.001010042409111, -0.9912358505064847, -0.9810265280035437, -0.9703865565669145, -0.9593206069085732, -0.9478335367355085, -0.9359303886172938, -0.9236163877725124, -0.9108969397750016, -0.8977776281809247, -0.8842642120777143, -0.870362623555961, -0.8560789651053553], \"type\": \"scatter\", \"uid\": \"197362b4-adfd-44c1-b1c0-6fa118a37cc9\"}, {\"hoverinfo\": \"text\", \"line\": {\"color\": \"#c6decd\", \"shape\": \"spline\", \"width\": 0.25}, \"mode\": \"lines\", \"text\": \"Python<br>1598\", \"x\": [0.7172943580360984, 0.7348631917419464, 0.7520998017281226, 0.7689963955092389, 0.7855453343175642, 0.8017391365564295, 0.8175704811825769, 0.8330322110159242, 0.8481173359752487, 0.8628190362383277, 0.8771306653251064, 0.8910457531024994, 0.9045580087094701, 0.9176613234010579, 0.930349773310078, 0.9426176221252373, 0.9544593236844588, 0.9658695244822421, 0.9768430660899245, 0.987374987487752], \"y\": [-0.8339597136130628, -0.818520671347303, -0.8027115847180224, -0.7865396008427029, -0.7700120309007558, -0.7531363468282161, -0.7359201779397613, -0.7183713074795797, -0.7004976691026511, -0.6823073432880256, -0.6638085536857268, -0.6450096633989292, -0.6259191712030863, -0.6065457077037304, -0.5868980314346665, -0.5669850248983334, -0.546815690550121, -0.5263991467284572, -0.5057446235325054, -0.4848614586493361], \"type\": \"scatter\", \"uid\": \"9b53d2d4-fd81-42c0-9ab7-1c89be38fd75\"}, {\"hoverinfo\": \"text\", \"line\": {\"color\": \"#b8d7c5\", \"shape\": \"spline\", \"width\": 0.25}, \"mode\": \"lines\", \"text\": \"VBA<br>625\", \"x\": [1.0021176439989443, 1.0172596443126791, 1.0311755087385321, 1.0438484640358872, 1.0552632350826234], \"y\": [-0.4536080109367618, -0.4185484632068811, -0.38298442550295614, -0.3469587643076902, -0.31051490251347974], \"type\": \"scatter\", \"uid\": \"d2a274ac-fada-4c33-8671-97d4000f63aa\"}, {\"hoverinfo\": \"text\", \"line\": {\"color\": \"#aad0bc\", \"shape\": \"spline\", \"width\": 0.25}, \"mode\": \"lines\", \"text\": \"Linux<br>534\", \"x\": [1.0644960351708668, 1.0719684680037034, 1.0785689748106453, 1.0842921868202784, 1.0891334488420328], \"y\": [-0.2772150629123622, -0.24674603057758315, -0.21607629804287534, -0.18523081169313754, -0.15423466086927257], \"type\": \"scatter\", \"uid\": \"069517e5-45f6-4cc4-8f3b-9e26bbde0726\"}, {\"hoverinfo\": \"text\", \"line\": {\"color\": \"#9cc9b4\", \"shape\": \"spline\", \"width\": 0.25}, \"mode\": \"lines\", \"text\": \"AWS<br>401\", \"x\": [1.093440655005428, 1.0955677884936224, 1.0972799992996856, 1.0985766389606861, 1.0994572164023046], \"y\": [-0.11994804700911385, -0.09864695035931838, -0.07730849330366123, -0.05594075732274823, -0.03455183498594413], \"type\": \"scatter\", \"uid\": \"f16062e3-6d0f-4b3c-9157-83e86772c3a2\"}, {\"hoverinfo\": \"text\", \"marker\": {\"color\": \"green\", \"size\": 0.5}, \"mode\": \"markers\", \"text\": \"Power BI appears with Excel 185 times\", \"x\": [0.8728432934525272], \"y\": [0.21941874367278977], \"type\": \"scatter\", \"uid\": \"35c93901-1bdd-4dac-b5dd-93952de80569\"}, {\"hoverinfo\": \"text\", \"marker\": {\"color\": \"blue\", \"size\": 0.5}, \"mode\": \"markers\", \"text\": \"Excel appears with Power BI 185 times\", \"x\": [0.7668923582642889], \"y\": [0.4710372711748376], \"type\": \"scatter\", \"uid\": \"2ad92329-aa1a-4b5a-98fc-948eb86d0709\"}, {\"hoverinfo\": \"text\", \"marker\": {\"color\": \"green\", \"size\": 0.5}, \"mode\": \"markers\", \"text\": \"Power BI appears with SSIS/SSRS 111 times\", \"x\": [0.8975502918109154], \"y\": [0.06635867441518614], \"type\": \"scatter\", \"uid\": \"4cb2d85c-fe9d-4907-b062-c13b040fccfa\"}, {\"hoverinfo\": \"text\", \"marker\": {\"color\": \"blue\", \"size\": 0.5}, \"mode\": \"markers\", \"text\": \"SSIS/SSRS appears with Power BI 111 times\", \"x\": [0.11852211606113879], \"y\": [0.8921617050761538], \"type\": \"scatter\", \"uid\": \"4d4bac65-07c8-4f5f-8e82-b5307441a591\"}, {\"hoverinfo\": \"text\", \"marker\": {\"color\": \"green\", \"size\": 0.5}, \"mode\": \"markers\", \"text\": \"Power BI appears with MS SQL Server 117 times\", \"x\": [0.8953578728985796], \"y\": [0.09129227480203873], \"type\": \"scatter\", \"uid\": \"a7236dfd-1e1a-442b-beaf-75403f5dd462\"}, {\"hoverinfo\": \"text\", \"marker\": {\"color\": \"blue\", \"size\": 0.5}, \"mode\": \"markers\", \"text\": \"MS SQL Server appears with Power BI 117 times\", \"x\": [-0.3928120909653197], \"y\": [0.8097522220972619], \"type\": \"scatter\", \"uid\": \"4e748dd9-fa0b-49ba-9798-74ba884d9b69\"}, {\"hoverinfo\": \"text\", \"marker\": {\"color\": \"green\", \"size\": 0.5}, \"mode\": \"markers\", \"text\": \"Power BI appears with MySQL/MariaDB 5 times\", \"x\": [0.8999984934514994], \"y\": [0.0016467498387557195], \"type\": \"scatter\", \"uid\": \"2bd43ee7-709f-4913-917d-1d55afa545e8\"}, {\"hoverinfo\": \"text\", \"marker\": {\"color\": \"blue\", \"size\": 0.5}, \"mode\": \"markers\", \"text\": \"MySQL/MariaDB appears with Power BI 5 times\", \"x\": [-0.6587027901811925], \"y\": [0.6132785942844506], \"type\": \"scatter\", \"uid\": \"0c454ba3-224f-4588-b112-aa161faa6a2d\"}, {\"hoverinfo\": \"text\", \"marker\": {\"color\": \"green\", \"size\": 0.5}, \"mode\": \"markers\", \"text\": \"Power BI appears with T-SQL 41 times\", \"x\": [0.8993441014994098], \"y\": [0.0343538512865638], \"type\": \"scatter\", \"uid\": \"c28e1715-1174-47fe-b78c-78deb0d16cba\"}, {\"hoverinfo\": \"text\", \"marker\": {\"color\": \"blue\", \"size\": 0.5}, \"mode\": \"markers\", \"text\": \"T-SQL appears with Power BI 41 times\", \"x\": [-0.7874004434996853], \"y\": [0.43589051558447434], \"type\": \"scatter\", \"uid\": \"db394229-fee6-4119-a393-01d761c7dd11\"}, {\"hoverinfo\": \"text\", \"marker\": {\"color\": \"green\", \"size\": 0.5}, \"mode\": \"markers\", \"text\": \"Power BI appears with PL/SQL 6 times\", \"x\": [0.8999913222921603], \"y\": [0.003952189116017298], \"type\": \"scatter\", \"uid\": \"42c1ab47-a828-472a-a281-59498d0b3efa\"}, {\"hoverinfo\": \"text\", \"marker\": {\"color\": \"blue\", \"size\": 0.5}, \"mode\": \"markers\", \"text\": \"PL/SQL appears with Power BI 6 times\", \"x\": [-0.8655485717721424], \"y\": [0.24662860722796232], \"type\": \"scatter\", \"uid\": \"be81d28c-6b6b-4fa6-a6eb-78b3ee19e464\"}, {\"hoverinfo\": \"text\", \"marker\": {\"color\": \"green\", \"size\": 0.5}, \"mode\": \"markers\", \"text\": \"Power BI appears with Pentaho 8 times\", \"x\": [0.8999832606194356], \"y\": [0.005489135160405924], \"type\": \"scatter\", \"uid\": \"d543af07-f515-4803-b6ce-ede376dfd720\"}, {\"hoverinfo\": \"text\", \"marker\": {\"color\": \"blue\", \"size\": 0.5}, \"mode\": \"markers\", \"text\": \"Pentaho appears with Power BI 8 times\", \"x\": [-0.8834060059828557], \"y\": [0.17202856911983802], \"type\": \"scatter\", \"uid\": \"7a30d046-c0ad-4cb3-b016-508c7721f6cc\"}, {\"hoverinfo\": \"text\", \"marker\": {\"color\": \"green\", \"size\": 0.5}, \"mode\": \"markers\", \"text\": \"Power BI appears with Hadoop 21 times\", \"x\": [0.8998668846189019], \"y\": [0.015478693945934503], \"type\": \"scatter\", \"uid\": \"e99fecbb-e85c-49cd-ab7a-57b2c278916d\"}, {\"hoverinfo\": \"text\", \"marker\": {\"color\": \"blue\", \"size\": 0.5}, \"mode\": \"markers\", \"text\": \"Hadoop appears with Power BI 21 times\", \"x\": [-0.8992237566359529], \"y\": [0.03737158682106787], \"type\": \"scatter\", \"uid\": \"f25e78f3-e56b-4e0b-a839-4e731ea6ba11\"}, {\"hoverinfo\": \"text\", \"marker\": {\"color\": \"green\", \"size\": 0.5}, \"mode\": \"markers\", \"text\": \"Power BI appears with Spark 26 times\", \"x\": [0.8997633549709843], \"y\": [0.020637467174014774], \"type\": \"scatter\", \"uid\": \"1c09503e-e067-4299-a8a8-1b203334aed6\"}, {\"hoverinfo\": \"text\", \"marker\": {\"color\": \"blue\", \"size\": 0.5}, \"mode\": \"markers\", \"text\": \"Spark appears with Power BI 26 times\", \"x\": [-0.8907473440188857], \"y\": [-0.1287212846552623], \"type\": \"scatter\", \"uid\": \"135b6e4a-ee6c-4d01-8b5c-9fb2c20bd014\"}, {\"hoverinfo\": \"text\", \"marker\": {\"color\": \"green\", \"size\": 0.5}, \"mode\": \"markers\", \"text\": \"Power BI appears with Informatica 11 times\", \"x\": [0.8999681216130258], \"y\": [0.007574964047583782], \"type\": \"scatter\", \"uid\": \"98714cc6-4e34-477d-b7b1-c1b03810459f\"}, {\"hoverinfo\": \"text\", \"marker\": {\"color\": \"blue\", \"size\": 0.5}, \"mode\": \"markers\", \"text\": \"Informatica appears with Power BI 11 times\", \"x\": [-0.8584863489369827], \"y\": [-0.2701873214805777], \"type\": \"scatter\", \"uid\": \"d700493b-2487-4481-8904-8a6d82cdcfa8\"}, {\"hoverinfo\": \"text\", \"marker\": {\"color\": \"green\", \"size\": 0.5}, \"mode\": \"markers\", \"text\": \"Power BI appears with Qlik 148 times\", \"x\": [0.8875348629858494], \"y\": [0.14927111905753754], \"type\": \"scatter\", \"uid\": \"564a625e-17c7-48a9-bf38-6a4405d46985\"}, {\"hoverinfo\": \"text\", \"marker\": {\"color\": \"blue\", \"size\": 0.5}, \"mode\": \"markers\", \"text\": \"Qlik appears with Power BI 148 times\", \"x\": [-0.7277201720700082], \"y\": [-0.5295501403667057], \"type\": \"scatter\", \"uid\": \"6659d630-a077-432d-ab5a-5f1f3bf669ff\"}, {\"hoverinfo\": \"text\", \"marker\": {\"color\": \"green\", \"size\": 0.5}, \"mode\": \"markers\", \"text\": \"Power BI appears with Tableau 160 times\", \"x\": [0.8813017028049089], \"y\": [0.18250290034179717], \"type\": \"scatter\", \"uid\": \"99cbe333-6adc-4b76-819a-6827276a6984\"}, {\"hoverinfo\": \"text\", \"marker\": {\"color\": \"blue\", \"size\": 0.5}, \"mode\": \"markers\", \"text\": \"Tableau appears with Power BI 160 times\", \"x\": [-0.35725445064471834], \"y\": [-0.8260564493389907], \"type\": \"scatter\", \"uid\": \"037f043e-ab95-48a7-9719-d58f7e89ddaa\"}, {\"hoverinfo\": \"text\", \"marker\": {\"color\": \"green\", \"size\": 0.5}, \"mode\": \"markers\", \"text\": \"Power BI appears with Microstrategy 20 times\", \"x\": [0.899933043100424], \"y\": [0.010978066132539804], \"type\": \"scatter\", \"uid\": \"016ca401-2816-4de4-a4e5-e21a1bb71c89\"}, {\"hoverinfo\": \"text\", \"marker\": {\"color\": \"blue\", \"size\": 0.5}, \"mode\": \"markers\", \"text\": \"Microstrategy appears with Power BI 20 times\", \"x\": [-0.054545704791737766], \"y\": [-0.8983455716419894], \"type\": \"scatter\", \"uid\": \"a75043b7-73e5-4381-9e60-462f2d7ef068\"}, {\"hoverinfo\": \"text\", \"marker\": {\"color\": \"green\", \"size\": 0.5}, \"mode\": \"markers\", \"text\": \"Power BI appears with Oracle BI 134 times\", \"x\": [0.892143548803807], \"y\": [0.11865870523374712], \"type\": \"scatter\", \"uid\": \"13d2c1b3-9834-4181-8f67-0899ad55f021\"}, {\"hoverinfo\": \"text\", \"marker\": {\"color\": \"blue\", \"size\": 0.5}, \"mode\": \"markers\", \"text\": \"Oracle BI appears with Power BI 134 times\", \"x\": [0.18408776317947192], \"y\": [-0.880972017403265], \"type\": \"scatter\", \"uid\": \"b8d70ffa-e3f7-4106-b938-51b0140c3abc\"}, {\"hoverinfo\": \"text\", \"marker\": {\"color\": \"green\", \"size\": 0.5}, \"mode\": \"markers\", \"text\": \"Power BI appears with Python 70 times\", \"x\": [0.8987965290236303], \"y\": [0.046527404989689616], \"type\": \"scatter\", \"uid\": \"15c24d4c-b590-4522-be25-2d4d0f62b38d\"}, {\"hoverinfo\": \"text\", \"marker\": {\"color\": \"blue\", \"size\": 0.5}, \"mode\": \"markers\", \"text\": \"Python appears with Power BI 70 times\", \"x\": [0.6421737854384582], \"y\": [-0.6305654837490244], \"type\": \"scatter\", \"uid\": \"7e0e0085-de71-46bf-afcc-d32d22a9adb1\"}, {\"hoverinfo\": \"text\", \"marker\": {\"color\": \"green\", \"size\": 0.5}, \"mode\": \"markers\", \"text\": \"Power BI appears with VBA 29 times\", \"x\": [0.8996046502492878], \"y\": [0.02667345590388729], \"type\": \"scatter\", \"uid\": \"60d0cc66-7d76-48f9-8bf9-0f5b8f464583\"}, {\"hoverinfo\": \"text\", \"marker\": {\"color\": \"blue\", \"size\": 0.5}, \"mode\": \"markers\", \"text\": \"VBA appears with Power BI 29 times\", \"x\": [0.8286230726777717], \"y\": [-0.35126030721681084], \"type\": \"scatter\", \"uid\": \"7cb3aa69-a6fa-4d42-8611-1b699c5516a3\"}, {\"hoverinfo\": \"text\", \"marker\": {\"color\": \"green\", \"size\": 0.5}, \"mode\": \"markers\", \"text\": \"Power BI appears with Linux 5 times\", \"x\": [0.8999998326056806], \"y\": [0.0005489168851720837], \"type\": \"scatter\", \"uid\": \"b908ede0-d70c-455a-a874-7e41833fc551\"}, {\"hoverinfo\": \"text\", \"marker\": {\"color\": \"blue\", \"size\": 0.5}, \"mode\": \"markers\", \"text\": \"Linux appears with Power BI 5 times\", \"x\": [0.8713617425258163], \"y\": [-0.22523035688461912], \"type\": \"scatter\", \"uid\": \"6b1df5cc-de25-44ca-b55f-f9fe0ce9a61e\"}, {\"hoverinfo\": \"text\", \"marker\": {\"color\": \"green\", \"size\": 0.5}, \"mode\": \"markers\", \"text\": \"Power BI appears with AWS 5 times\", \"x\": [0.8999958151451295], \"y\": [0.002744580342058975], \"type\": \"scatter\", \"uid\": \"3b7bf431-7f64-4f2a-b129-2a47586d0bcc\"}, {\"hoverinfo\": \"text\", \"marker\": {\"color\": \"blue\", \"size\": 0.5}, \"mode\": \"markers\", \"text\": \"AWS appears with Power BI 5 times\", \"x\": [0.8949059654949604], \"y\": [-0.09562067204079273], \"type\": \"scatter\", \"uid\": \"4df5e950-2d51-42a9-a165-ab2ff91398f9\"}, {\"hoverinfo\": \"text\", \"marker\": {\"color\": \"green\", \"size\": 0.5}, \"mode\": \"markers\", \"text\": \"Excel appears with SSIS/SSRS 520 times\", \"x\": [0.4470565255520564], \"y\": [0.7811148846112994], \"type\": \"scatter\", \"uid\": \"522c6402-37f8-4d38-856f-4486d470801e\"}, {\"hoverinfo\": \"text\", \"marker\": {\"color\": \"blue\", \"size\": 0.5}, \"mode\": \"markers\", \"text\": \"SSIS/SSRS appears with Excel 520 times\", \"x\": [-0.1529371251140747], \"y\": [0.8869105004237134], \"type\": \"scatter\", \"uid\": \"2c172da0-e7a3-4c27-b895-02ca91ca57da\"}, {\"hoverinfo\": \"text\", \"marker\": {\"color\": \"green\", \"size\": 0.5}, \"mode\": \"markers\", \"text\": \"Excel appears with MS SQL Server 244 times\", \"x\": [0.7079708832754121], \"y\": [0.5556772700356143], \"type\": \"scatter\", \"uid\": \"5b6b832b-650b-44f3-9e31-547af675dd63\"}, {\"hoverinfo\": \"text\", \"marker\": {\"color\": \"blue\", \"size\": 0.5}, \"mode\": \"markers\", \"text\": \"MS SQL Server appears with Excel 244 times\", \"x\": [-0.5350618158472533], \"y\": [0.7236773129111069], \"type\": \"scatter\", \"uid\": \"5dcffbb4-7d08-4931-bad1-62e3f8dc6c9f\"}, {\"hoverinfo\": \"text\", \"marker\": {\"color\": \"green\", \"size\": 0.5}, \"mode\": \"markers\", \"text\": \"Excel appears with PostgreSQL 60 times\", \"x\": [0.8474120871996277], \"y\": [0.3031381771865278], \"type\": \"scatter\", \"uid\": \"aa0550d9-5836-4e7b-9a41-b70ffd531b65\"}, {\"hoverinfo\": \"text\", \"marker\": {\"color\": \"blue\", \"size\": 0.5}, \"mode\": \"markers\", \"text\": \"PostgreSQL appears with Excel 60 times\", \"x\": [-0.6150077526023582], \"y\": [0.6570886273852231], \"type\": \"scatter\", \"uid\": \"4f31150a-1a33-47a4-ae24-56ae767e3bb9\"}, {\"hoverinfo\": \"text\", \"marker\": {\"color\": \"green\", \"size\": 0.5}, \"mode\": \"markers\", \"text\": \"Excel appears with MySQL/MariaDB 103 times\", \"x\": [0.8150908670164922], \"y\": [0.38161089935470005], \"type\": \"scatter\", \"uid\": \"05dabb89-bbef-4a62-a062-b85d6086c8dd\"}, {\"hoverinfo\": \"text\", \"marker\": {\"color\": \"blue\", \"size\": 0.5}, \"mode\": \"markers\", \"text\": \"MySQL/MariaDB appears with Excel 103 times\", \"x\": [-0.7356948442561486], \"y\": [0.518414020002277], \"type\": \"scatter\", \"uid\": \"81900e01-076a-4b89-8c68-3561710c08b8\"}, {\"hoverinfo\": \"text\", \"marker\": {\"color\": \"green\", \"size\": 0.5}, \"mode\": \"markers\", \"text\": \"Excel appears with T-SQL 170 times\", \"x\": [0.7881051254533279], \"y\": [0.4346151300106732], \"type\": \"scatter\", \"uid\": \"cf71a27c-52ce-463e-ab5e-276ca47694d4\"}, {\"hoverinfo\": \"text\", \"marker\": {\"color\": \"blue\", \"size\": 0.5}, \"mode\": \"markers\", \"text\": \"T-SQL appears with Excel 170 times\", \"x\": [-0.8506434925184503], \"y\": [0.29394837750192365], \"type\": \"scatter\", \"uid\": \"667c0b36-d8f0-45d9-bd0d-06e6946585a2\"}, {\"hoverinfo\": \"text\", \"marker\": {\"color\": \"green\", \"size\": 0.5}, \"mode\": \"markers\", \"text\": \"Excel appears with PL/SQL 52 times\", \"x\": [0.8517987772509781], \"y\": [0.2905836249235986], \"type\": \"scatter\", \"uid\": \"fdc1278e-a281-412e-977d-8a2fdab46235\"}, {\"hoverinfo\": \"text\", \"marker\": {\"color\": \"blue\", \"size\": 0.5}, \"mode\": \"markers\", \"text\": \"PL/SQL appears with Excel 52 times\", \"x\": [-0.872955946884311], \"y\": [0.21897012307462432], \"type\": \"scatter\", \"uid\": \"9346e472-1eeb-43ba-b871-29a504ad8e99\"}, {\"hoverinfo\": \"text\", \"marker\": {\"color\": \"green\", \"size\": 0.5}, \"mode\": \"markers\", \"text\": \"Excel appears with Pentaho 62 times\", \"x\": [0.8424232151639691], \"y\": [0.31673826190215953], \"type\": \"scatter\", \"uid\": \"ce218721-8c16-49ce-8d6c-968d952b9a9e\"}, {\"hoverinfo\": \"text\", \"marker\": {\"color\": \"blue\", \"size\": 0.5}, \"mode\": \"markers\", \"text\": \"Pentaho appears with Excel 62 times\", \"x\": [-0.8961304923129185], \"y\": [0.08336750414283997], \"type\": \"scatter\", \"uid\": \"6b5d81e1-19c3-4ecc-8cbe-925d5f5b5dc8\"}, {\"hoverinfo\": \"text\", \"marker\": {\"color\": \"green\", \"size\": 0.5}, \"mode\": \"markers\", \"text\": \"Excel appears with Hadoop 72 times\", \"x\": [0.8306996336441738], \"y\": [0.34632083198016766], \"type\": \"scatter\", \"uid\": \"ba76ca51-7801-4513-99a5-1f5da2ad6c7e\"}, {\"hoverinfo\": \"text\", \"marker\": {\"color\": \"blue\", \"size\": 0.5}, \"mode\": \"markers\", \"text\": \"Hadoop appears with Excel 72 times\", \"x\": [-0.8999803605253202], \"y\": [-0.005945642834438023], \"type\": \"scatter\", \"uid\": \"397aeabf-b31b-43e2-a8c9-6e7e1ccd8b2a\"}, {\"hoverinfo\": \"text\", \"marker\": {\"color\": \"green\", \"size\": 0.5}, \"mode\": \"markers\", \"text\": \"Excel appears with Spark 75 times\", \"x\": [0.8238271600661907], \"y\": [0.36236557554115845], \"type\": \"scatter\", \"uid\": \"e5def1eb-55ac-4f38-a0d1-2e4495af8f60\"}, {\"hoverinfo\": \"text\", \"marker\": {\"color\": \"blue\", \"size\": 0.5}, \"mode\": \"markers\", \"text\": \"Spark appears with Excel 75 times\", \"x\": [-0.8819634300896335], \"y\": [-0.179277739790885], \"type\": \"scatter\", \"uid\": \"fc27d64f-7197-4959-93e9-dbb8022edf65\"}, {\"hoverinfo\": \"text\", \"marker\": {\"color\": \"green\", \"size\": 0.5}, \"mode\": \"markers\", \"text\": \"Excel appears with Informatica 114 times\", \"x\": [0.8038329025343708], \"y\": [0.4047871845836635], \"type\": \"scatter\", \"uid\": \"8845376c-69ec-4559-b379-401d28f85025\"}, {\"hoverinfo\": \"text\", \"marker\": {\"color\": \"blue\", \"size\": 0.5}, \"mode\": \"markers\", \"text\": \"Informatica appears with Excel 114 times\", \"x\": [-0.8248954089579641], \"y\": [-0.35992716524329355], \"type\": \"scatter\", \"uid\": \"116dfe85-4135-4978-8cd5-016fcc82fe16\"}, {\"hoverinfo\": \"text\", \"marker\": {\"color\": \"green\", \"size\": 0.5}, \"mode\": \"markers\", \"text\": \"Excel appears with Qlik 370 times\", \"x\": [0.6085397638661124], \"y\": [0.6630832193577034], \"type\": \"scatter\", \"uid\": \"d69395fd-d819-489b-b2c7-970e2fa7dc02\"}, {\"hoverinfo\": \"text\", \"marker\": {\"color\": \"blue\", \"size\": 0.5}, \"mode\": \"markers\", \"text\": \"Qlik appears with Excel 370 times\", \"x\": [-0.5921213908851946], \"y\": [-0.677784817221648], \"type\": \"scatter\", \"uid\": \"d9f023ee-d1b9-4021-b56c-dc4e6286d17b\"}, {\"hoverinfo\": \"text\", \"marker\": {\"color\": \"green\", \"size\": 0.5}, \"mode\": \"markers\", \"text\": \"Excel appears with Tableau 399 times\", \"x\": [0.5382509667316222], \"y\": [0.7213084616254507], \"type\": \"scatter\", \"uid\": \"fed83ba1-123e-4d54-babf-255d9f9b911a\"}, {\"hoverinfo\": \"text\", \"marker\": {\"color\": \"blue\", \"size\": 0.5}, \"mode\": \"markers\", \"text\": \"Tableau appears with Excel 399 times\", \"x\": [-0.14180652063921995], \"y\": [-0.8887580720894739], \"type\": \"scatter\", \"uid\": \"714b8240-bd7c-459a-b509-8af485e2d1f9\"}, {\"hoverinfo\": \"text\", \"marker\": {\"color\": \"green\", \"size\": 0.5}, \"mode\": \"markers\", \"text\": \"Excel appears with Microstrategy 36 times\", \"x\": [0.8584587779829493], \"y\": [0.2702749091277644], \"type\": \"scatter\", \"uid\": \"b323067c-5bdd-40a9-bf37-60ab87f7fdb5\"}, {\"hoverinfo\": \"text\", \"marker\": {\"color\": \"blue\", \"size\": 0.5}, \"mode\": \"markers\", \"text\": \"Microstrategy appears with Excel 36 times\", \"x\": [-0.038457890465914614], \"y\": [-0.8991779527217689], \"type\": \"scatter\", \"uid\": \"7341c9fa-968d-40a0-9142-644b0c9d581b\"}, {\"hoverinfo\": \"text\", \"marker\": {\"color\": \"green\", \"size\": 0.5}, \"mode\": \"markers\", \"text\": \"Excel appears with Oracle BI 547 times\", \"x\": [0.33303626863977925], \"y\": [0.836114133220156], \"type\": \"scatter\", \"uid\": \"8c8d7a53-0451-4774-a2a2-38077bf85655\"}, {\"hoverinfo\": \"text\", \"marker\": {\"color\": \"blue\", \"size\": 0.5}, \"mode\": \"markers\", \"text\": \"Oracle BI appears with Excel 547 times\", \"x\": [0.5139056328258388], \"y\": [-0.7388511355813661], \"type\": \"scatter\", \"uid\": \"22ea29d9-31a1-408b-a799-59fac418b958\"}, {\"hoverinfo\": \"text\", \"marker\": {\"color\": \"green\", \"size\": 0.5}, \"mode\": \"markers\", \"text\": \"Excel appears with Python 310 times\", \"x\": [0.6655013804243566], \"y\": [0.6058943081538858], \"type\": \"scatter\", \"uid\": \"0a7a1d98-e633-40d5-804f-ba28d9485a77\"}, {\"hoverinfo\": \"text\", \"marker\": {\"color\": \"blue\", \"size\": 0.5}, \"mode\": \"markers\", \"text\": \"Python appears with Excel 310 times\", \"x\": [0.7916908820596317], \"y\": [-0.4280485337711631], \"type\": \"scatter\", \"uid\": \"e1aa78ba-32b1-4585-9041-57e3739155bb\"}, {\"hoverinfo\": \"text\", \"marker\": {\"color\": \"green\", \"size\": 0.5}, \"mode\": \"markers\", \"text\": \"Excel appears with VBA 220 times\", \"x\": [0.7406406680059054], \"y\": [0.5113231863467235], \"type\": \"scatter\", \"uid\": \"43130ae5-60d8-4649-bc27-de1e506ac379\"}, {\"hoverinfo\": \"text\", \"marker\": {\"color\": \"blue\", \"size\": 0.5}, \"mode\": \"markers\", \"text\": \"VBA appears with Excel 220 times\", \"x\": [0.8569300725152518], \"y\": [-0.27508335249339494], \"type\": \"scatter\", \"uid\": \"6b8f365a-7db7-4a26-bd52-40135283a3c6\"}, {\"hoverinfo\": \"text\", \"marker\": {\"color\": \"green\", \"size\": 0.5}, \"mode\": \"markers\", \"text\": \"Excel appears with Linux 67 times\", \"x\": [0.8369107297807342], \"y\": [0.33102934972276854], \"type\": \"scatter\", \"uid\": \"6571902c-5333-4ecd-9080-7acfd706aafd\"}, {\"hoverinfo\": \"text\", \"marker\": {\"color\": \"blue\", \"size\": 0.5}, \"mode\": \"markers\", \"text\": \"Linux appears with Excel 67 times\", \"x\": [0.8852021918771881], \"y\": [-0.16253331810992502], \"type\": \"scatter\", \"uid\": \"1dde9730-f550-43d6-afb3-9edef8b54519\"}, {\"hoverinfo\": \"text\", \"marker\": {\"color\": \"green\", \"size\": 0.5}, \"mode\": \"markers\", \"text\": \"Excel appears with AWS 46 times\", \"x\": [0.855484595813617], \"y\": [0.27954625078081863], \"type\": \"scatter\", \"uid\": \"7442b2e2-abe6-408b-ad3c-4bd7583009ba\"}, {\"hoverinfo\": \"text\", \"marker\": {\"color\": \"blue\", \"size\": 0.5}, \"mode\": \"markers\", \"text\": \"AWS appears with Excel 46 times\", \"x\": [0.8988287584902129], \"y\": [-0.045900576368303914], \"type\": \"scatter\", \"uid\": \"efe54504-7d51-4758-b1da-6df7a9b9a0a8\"}, {\"hoverinfo\": \"text\", \"marker\": {\"color\": \"green\", \"size\": 0.5}, \"mode\": \"markers\", \"text\": \"SSIS/SSRS appears with MS SQL Server 239 times\", \"x\": [-0.06593167937152651], \"y\": [0.8975817587580812], \"type\": \"scatter\", \"uid\": \"7a8cdc81-9662-408f-9f2f-de45dcb66a28\"}, {\"hoverinfo\": \"text\", \"marker\": {\"color\": \"blue\", \"size\": 0.5}, \"mode\": \"markers\", \"text\": \"MS SQL Server appears with SSIS/SSRS 239 times\", \"x\": [-0.4899543495138618], \"y\": [0.7549468427594413], \"type\": \"scatter\", \"uid\": \"51739875-c9c0-45e3-a55a-00c7ffd19c8d\"}, {\"hoverinfo\": \"text\", \"marker\": {\"color\": \"green\", \"size\": 0.5}, \"mode\": \"markers\", \"text\": \"SSIS/SSRS appears with PostgreSQL 37 times\", \"x\": [0.20463834026029165], \"y\": [0.8764263515524354], \"type\": \"scatter\", \"uid\": \"4523149e-b57f-4855-b8c0-d89e6633edad\"}, {\"hoverinfo\": \"text\", \"marker\": {\"color\": \"blue\", \"size\": 0.5}, \"mode\": \"markers\", \"text\": \"PostgreSQL appears with SSIS/SSRS 37 times\", \"x\": [-0.5977056181897192], \"y\": [0.672865509581555], \"type\": \"scatter\", \"uid\": \"4ee7ad6d-f5cc-4af3-b631-e01e5caed6b9\"}, {\"hoverinfo\": \"text\", \"marker\": {\"color\": \"green\", \"size\": 0.5}, \"mode\": \"markers\", \"text\": \"SSIS/SSRS appears with MySQL/MariaDB 62 times\", \"x\": [0.1848990854946527], \"y\": [0.8808020936528485], \"type\": \"scatter\", \"uid\": \"fb64faff-181f-4063-84f6-2d5e5073b864\"}, {\"hoverinfo\": \"text\", \"marker\": {\"color\": \"blue\", \"size\": 0.5}, \"mode\": \"markers\", \"text\": \"MySQL/MariaDB appears with SSIS/SSRS 62 times\", \"x\": [-0.7070408924692061], \"y\": [0.55686010485251], \"type\": \"scatter\", \"uid\": \"afc50332-450b-457b-8f06-cc7d2b3d5462\"}, {\"hoverinfo\": \"text\", \"marker\": {\"color\": \"green\", \"size\": 0.5}, \"mode\": \"markers\", \"text\": \"SSIS/SSRS appears with T-SQL 113 times\", \"x\": [0.09282190140808622], \"y\": [0.8952005890407957], \"type\": \"scatter\", \"uid\": \"7047b6c2-d8ab-48ec-a1cd-93e71e2833a5\"}, {\"hoverinfo\": \"text\", \"marker\": {\"color\": \"blue\", \"size\": 0.5}, \"mode\": \"markers\", \"text\": \"T-SQL appears with SSIS/SSRS 113 times\", \"x\": [-0.8155809769859681], \"y\": [0.3805623076167868], \"type\": \"scatter\", \"uid\": \"f81fe399-d910-4e0d-a162-729f2bb387bd\"}, {\"hoverinfo\": \"text\", \"marker\": {\"color\": \"green\", \"size\": 0.5}, \"mode\": \"markers\", \"text\": \"SSIS/SSRS appears with PL/SQL 30 times\", \"x\": [0.2262877681739399], \"y\": [0.8710877372428435], \"type\": \"scatter\", \"uid\": \"9b7bf1e2-d302-4fcd-973d-a659caaead62\"}, {\"hoverinfo\": \"text\", \"marker\": {\"color\": \"blue\", \"size\": 0.5}, \"mode\": \"markers\", \"text\": \"PL/SQL appears with SSIS/SSRS 30 times\", \"x\": [-0.8702081272043438], \"y\": [0.22964715401569546], \"type\": \"scatter\", \"uid\": \"ea406209-692e-4056-969c-a00e89739e49\"}, {\"hoverinfo\": \"text\", \"marker\": {\"color\": \"green\", \"size\": 0.5}, \"mode\": \"markers\", \"text\": \"SSIS/SSRS appears with Pentaho 32 times\", \"x\": [0.21239340992219433], \"y\": [0.8745793499858219], \"type\": \"scatter\", \"uid\": \"5180423b-fe5b-427a-8621-01170f7396af\"}, {\"hoverinfo\": \"text\", \"marker\": {\"color\": \"blue\", \"size\": 0.5}, \"mode\": \"markers\", \"text\": \"Pentaho appears with SSIS/SSRS 32 times\", \"x\": [-0.8866954798046414], \"y\": [0.1541788769384991], \"type\": \"scatter\", \"uid\": \"70c38c6c-8762-4a81-af2f-aefb396b9500\"}, {\"hoverinfo\": \"text\", \"marker\": {\"color\": \"green\", \"size\": 0.5}, \"mode\": \"markers\", \"text\": \"SSIS/SSRS appears with Hadoop 31 times\", \"x\": [0.21945958732303134], \"y\": [0.8728330250007758], \"type\": \"scatter\", \"uid\": \"359b43f8-14ec-4431-b75d-ef59548f5c4f\"}, {\"hoverinfo\": \"text\", \"marker\": {\"color\": \"blue\", \"size\": 0.5}, \"mode\": \"markers\", \"text\": \"Hadoop appears with SSIS/SSRS 31 times\", \"x\": [-0.8996076679517926], \"y\": [0.02657148400705576], \"type\": \"scatter\", \"uid\": \"f8356c3a-73e3-4c28-a60f-de6957e9dbe9\"}, {\"hoverinfo\": \"text\", \"marker\": {\"color\": \"green\", \"size\": 0.5}, \"mode\": \"markers\", \"text\": \"SSIS/SSRS appears with Spark 38 times\", \"x\": [0.19619072589537995], \"y\": [0.8783559637599349], \"type\": \"scatter\", \"uid\": \"729e3032-d667-43df-9bb3-463181fc2a81\"}, {\"hoverinfo\": \"text\", \"marker\": {\"color\": \"blue\", \"size\": 0.5}, \"mode\": \"markers\", \"text\": \"Spark appears with SSIS/SSRS 38 times\", \"x\": [-0.8877934525160015], \"y\": [-0.14772537246430725], \"type\": \"scatter\", \"uid\": \"03741baa-2a6a-402f-918a-46f8340c5a50\"}, {\"hoverinfo\": \"text\", \"marker\": {\"color\": \"green\", \"size\": 0.5}, \"mode\": \"markers\", \"text\": \"SSIS/SSRS appears with Informatica 65 times\", \"x\": [0.1705150222600729], \"y\": [0.8836993986552479], \"type\": \"scatter\", \"uid\": \"82700c15-c62c-4737-852f-0c7c500b4e34\"}, {\"hoverinfo\": \"text\", \"marker\": {\"color\": \"blue\", \"size\": 0.5}, \"mode\": \"markers\", \"text\": \"Informatica appears with SSIS/SSRS 65 times\", \"x\": [-0.8437951394564541], \"y\": [-0.31306510924991815], \"type\": \"scatter\", \"uid\": \"25fefbf3-30f2-442e-af33-b8d056f876a4\"}, {\"hoverinfo\": \"text\", \"marker\": {\"color\": \"green\", \"size\": 0.5}, \"mode\": \"markers\", \"text\": \"SSIS/SSRS appears with Qlik 73 times\", \"x\": [0.13956063936257176], \"y\": [0.8891135067811704], \"type\": \"scatter\", \"uid\": \"94d6e30b-e015-433f-8726-abe897aa3f35\"}, {\"hoverinfo\": \"text\", \"marker\": {\"color\": \"blue\", \"size\": 0.5}, \"mode\": \"markers\", \"text\": \"Qlik appears with SSIS/SSRS 73 times\", \"x\": [-0.7539161728018842], \"y\": [-0.4915388126971863], \"type\": \"scatter\", \"uid\": \"d081442e-3032-4c9d-ad10-f3aa2337bd56\"}, {\"hoverinfo\": \"text\", \"marker\": {\"color\": \"green\", \"size\": 0.5}, \"mode\": \"markers\", \"text\": \"SSIS/SSRS appears with Tableau 136 times\", \"x\": [0.06416421447309863], \"y\": [0.8977098381888494], \"type\": \"scatter\", \"uid\": \"c8227146-040a-4471-8ee1-7da953086040\"}, {\"hoverinfo\": \"text\", \"marker\": {\"color\": \"blue\", \"size\": 0.5}, \"mode\": \"markers\", \"text\": \"Tableau appears with SSIS/SSRS 136 times\", \"x\": [-0.38844461712721906], \"y\": [-0.8118563785700573], \"type\": \"scatter\", \"uid\": \"8fe65f20-484e-40ca-b7d4-15d9aaf71a33\"}, {\"hoverinfo\": \"text\", \"marker\": {\"color\": \"green\", \"size\": 0.5}, \"mode\": \"markers\", \"text\": \"SSIS/SSRS appears with Microstrategy 25 times\", \"x\": [0.2384541201720734], \"y\": [0.8678361784190392], \"type\": \"scatter\", \"uid\": \"ee6edc68-454f-4596-8e48-bdcb3448ca6d\"}, {\"hoverinfo\": \"text\", \"marker\": {\"color\": \"blue\", \"size\": 0.5}, \"mode\": \"markers\", \"text\": \"Microstrategy appears with SSIS/SSRS 25 times\", \"x\": [-0.047882578690670176], \"y\": [-0.8987253521838202], \"type\": \"scatter\", \"uid\": \"aa89674b-782a-40c0-9d56-59f1ecc6063b\"}, {\"hoverinfo\": \"text\", \"marker\": {\"color\": \"green\", \"size\": 0.5}, \"mode\": \"markers\", \"text\": \"SSIS/SSRS appears with Oracle BI 232 times\", \"x\": [-0.011572845140238], \"y\": [0.8999255909548078], \"type\": \"scatter\", \"uid\": \"157c5dd0-9fd3-4776-ae0f-9c3a39b02733\"}, {\"hoverinfo\": \"text\", \"marker\": {\"color\": \"blue\", \"size\": 0.5}, \"mode\": \"markers\", \"text\": \"Oracle BI appears with SSIS/SSRS 232 times\", \"x\": [0.2915424370897071], \"y\": [-0.8514710842863628], \"type\": \"scatter\", \"uid\": \"ef4b5afc-f866-44a1-b1f2-1861d750df32\"}, {\"hoverinfo\": \"text\", \"marker\": {\"color\": \"green\", \"size\": 0.5}, \"mode\": \"markers\", \"text\": \"SSIS/SSRS appears with Python 144 times\", \"x\": [0.031861851780850936], \"y\": [0.8994358356220276], \"type\": \"scatter\", \"uid\": \"93b58cf9-3893-4e5b-978b-1691c928d6f8\"}, {\"hoverinfo\": \"text\", \"marker\": {\"color\": \"blue\", \"size\": 0.5}, \"mode\": \"markers\", \"text\": \"Python appears with SSIS/SSRS 144 times\", \"x\": [0.7658360861524124], \"y\": [-0.4727526722788089], \"type\": \"scatter\", \"uid\": \"8a27df7c-8dcf-44e9-955c-b2b6c20b5758\"}, {\"hoverinfo\": \"text\", \"marker\": {\"color\": \"green\", \"size\": 0.5}, \"mode\": \"markers\", \"text\": \"SSIS/SSRS appears with VBA 67 times\", \"x\": [0.15551667658537416], \"y\": [0.8864618228123758], \"type\": \"scatter\", \"uid\": \"db315052-174b-4898-b794-92f18f118cc7\"}, {\"hoverinfo\": \"text\", \"marker\": {\"color\": \"blue\", \"size\": 0.5}, \"mode\": \"markers\", \"text\": \"VBA appears with SSIS/SSRS 67 times\", \"x\": [0.8477245039526858], \"y\": [-0.3022634040008361], \"type\": \"scatter\", \"uid\": \"6b630135-99d9-428a-ad3e-8d9bcbc57b57\"}, {\"hoverinfo\": \"text\", \"marker\": {\"color\": \"green\", \"size\": 0.5}, \"mode\": \"markers\", \"text\": \"SSIS/SSRS appears with Linux 16 times\", \"x\": [0.2430184987590092], \"y\": [0.8665691024153339], \"type\": \"scatter\", \"uid\": \"bc0e508f-1476-482c-ba4f-86558d45db39\"}, {\"hoverinfo\": \"text\", \"marker\": {\"color\": \"blue\", \"size\": 0.5}, \"mode\": \"markers\", \"text\": \"Linux appears with SSIS/SSRS 16 times\", \"x\": [0.8730915461934354], \"y\": [-0.21842882585766032], \"type\": \"scatter\", \"uid\": \"838d3d33-7aaa-4ad7-a85d-69e3b5c3617a\"}, {\"hoverinfo\": \"text\", \"marker\": {\"color\": \"green\", \"size\": 0.5}, \"mode\": \"markers\", \"text\": \"SSIS/SSRS appears with AWS 27 times\", \"x\": [0.23265566654765582], \"y\": [0.8694086155676547], \"type\": \"scatter\", \"uid\": \"f3513a57-1f8f-4b40-be04-0f2be08199ee\"}, {\"hoverinfo\": \"text\", \"marker\": {\"color\": \"blue\", \"size\": 0.5}, \"mode\": \"markers\", \"text\": \"AWS appears with SSIS/SSRS 27 times\", \"x\": [0.8964088131400726], \"y\": [-0.08031960983972976], \"type\": \"scatter\", \"uid\": \"c846bf53-8bb1-4796-ac39-bef6b1f4cea9\"}, {\"hoverinfo\": \"text\", \"marker\": {\"color\": \"green\", \"size\": 0.5}, \"mode\": \"markers\", \"text\": \"MS SQL Server appears with PostgreSQL 64 times\", \"x\": [-0.3167090019492139], \"y\": [0.842434215879396], \"type\": \"scatter\", \"uid\": \"e24f1e7e-dff1-4f2b-9e62-9f7718185416\"}, {\"hoverinfo\": \"text\", \"marker\": {\"color\": \"blue\", \"size\": 0.5}, \"mode\": \"markers\", \"text\": \"PostgreSQL appears with MS SQL Server 64 times\", \"x\": [-0.623144748114608], \"y\": [0.6493771037672808], \"type\": \"scatter\", \"uid\": \"986fb357-8b18-41a5-9c2a-20e5be1f7373\"}, {\"hoverinfo\": \"text\", \"marker\": {\"color\": \"green\", \"size\": 0.5}, \"mode\": \"markers\", \"text\": \"MS SQL Server appears with MySQL/MariaDB 75 times\", \"x\": [-0.33144677849876036], \"y\": [0.8367455007484615], \"type\": \"scatter\", \"uid\": \"4213b1cc-4de4-4d60-a83c-5e86e9e88425\"}, {\"hoverinfo\": \"text\", \"marker\": {\"color\": \"blue\", \"size\": 0.5}, \"mode\": \"markers\", \"text\": \"MySQL/MariaDB appears with MS SQL Server 75 times\", \"x\": [-0.7155504059609602], \"y\": [0.5458824200586652], \"type\": \"scatter\", \"uid\": \"bf1985d4-af0e-4f4a-9837-e4060990e08c\"}, {\"hoverinfo\": \"text\", \"marker\": {\"color\": \"green\", \"size\": 0.5}, \"mode\": \"markers\", \"text\": \"MS SQL Server appears with T-SQL 158 times\", \"x\": [-0.45150636749367845], \"y\": [0.7785512186829222], \"type\": \"scatter\", \"uid\": \"926f4cab-613b-4978-9a5b-ae5d5b51f83d\"}, {\"hoverinfo\": \"text\", \"marker\": {\"color\": \"blue\", \"size\": 0.5}, \"mode\": \"markers\", \"text\": \"T-SQL appears with MS SQL Server 158 times\", \"x\": [-0.838258232677908], \"y\": [0.32760209911981664], \"type\": \"scatter\", \"uid\": \"7fc64ac6-e822-4be3-b2e6-d0cc243c103b\"}, {\"hoverinfo\": \"text\", \"marker\": {\"color\": \"green\", \"size\": 0.5}, \"mode\": \"markers\", \"text\": \"MS SQL Server appears with PL/SQL 10 times\", \"x\": [-0.2421956221681435], \"y\": [0.8667994465864558], \"type\": \"scatter\", \"uid\": \"75e27dcc-2b2e-49c6-8784-42ec8cf69624\"}, {\"hoverinfo\": \"text\", \"marker\": {\"color\": \"blue\", \"size\": 0.5}, \"mode\": \"markers\", \"text\": \"PL/SQL appears with MS SQL Server 10 times\", \"x\": [-0.86621674283689], \"y\": [0.24427147690438453], \"type\": \"scatter\", \"uid\": \"3a9782cd-24b5-4b81-bdfb-b2085f8a81b7\"}, {\"hoverinfo\": \"text\", \"marker\": {\"color\": \"green\", \"size\": 0.5}, \"mode\": \"markers\", \"text\": \"MS SQL Server appears with Pentaho 44 times\", \"x\": [-0.27095326315325335], \"y\": [0.8582449121239251], \"type\": \"scatter\", \"uid\": \"545bcb71-7631-4a77-aba8-ff55ab2f47de\"}, {\"hoverinfo\": \"text\", \"marker\": {\"color\": \"blue\", \"size\": 0.5}, \"mode\": \"markers\", \"text\": \"Pentaho appears with MS SQL Server 44 times\", \"x\": [-0.8938507232056773], \"y\": [0.10502801828411179], \"type\": \"scatter\", \"uid\": \"0dea613e-8a6b-4dbf-9476-174969794bd6\"}, {\"hoverinfo\": \"text\", \"marker\": {\"color\": \"green\", \"size\": 0.5}, \"mode\": \"markers\", \"text\": \"MS SQL Server appears with Hadoop 28 times\", \"x\": [-0.25552053328605856], \"y\": [0.8629653857885657], \"type\": \"scatter\", \"uid\": \"362f96bd-d136-471f-86d0-a261a1fc6a84\"}, {\"hoverinfo\": \"text\", \"marker\": {\"color\": \"blue\", \"size\": 0.5}, \"mode\": \"markers\", \"text\": \"Hadoop appears with MS SQL Server 28 times\", \"x\": [-0.8994140102216228], \"y\": [0.032472114453152935], \"type\": \"scatter\", \"uid\": \"87ed8144-d75c-4982-8328-e484bdcea9ae\"}, {\"hoverinfo\": \"text\", \"marker\": {\"color\": \"green\", \"size\": 0.5}, \"mode\": \"markers\", \"text\": \"MS SQL Server appears with Spark 25 times\", \"x\": [-0.24973910751487285], \"y\": [0.8646562196489855], \"type\": \"scatter\", \"uid\": \"3a17be0b-35b0-4145-a302-80daea55c701\"}, {\"hoverinfo\": \"text\", \"marker\": {\"color\": \"blue\", \"size\": 0.5}, \"mode\": \"markers\", \"text\": \"Spark appears with MS SQL Server 25 times\", \"x\": [-0.8914710384394208], \"y\": [-0.12360982009428212], \"type\": \"scatter\", \"uid\": \"b1b531e2-b875-49dd-b682-ba1dc7328dcb\"}, {\"hoverinfo\": \"text\", \"marker\": {\"color\": \"green\", \"size\": 0.5}, \"mode\": \"markers\", \"text\": \"MS SQL Server appears with Informatica 57 times\", \"x\": [-0.2913580126187156], \"y\": [0.8515342086392492], \"type\": \"scatter\", \"uid\": \"a42a428f-8fba-4660-91fa-3cd1f650d80c\"}, {\"hoverinfo\": \"text\", \"marker\": {\"color\": \"blue\", \"size\": 0.5}, \"mode\": \"markers\", \"text\": \"Informatica appears with MS SQL Server 57 times\", \"x\": [-0.8480468182540583], \"y\": [-0.3013579168516538], \"type\": \"scatter\", \"uid\": \"d72665ae-f86e-4d24-9536-ec9c2deb191c\"}, {\"hoverinfo\": \"text\", \"marker\": {\"color\": \"green\", \"size\": 0.5}, \"mode\": \"markers\", \"text\": \"MS SQL Server appears with Qlik 58 times\", \"x\": [-0.3036931263759553], \"y\": [0.8472133645027078], \"type\": \"scatter\", \"uid\": \"4b0d1151-1715-4bd7-acc8-b1d7384f35ed\"}, {\"hoverinfo\": \"text\", \"marker\": {\"color\": \"blue\", \"size\": 0.5}, \"mode\": \"markers\", \"text\": \"Qlik appears with MS SQL Server 58 times\", \"x\": [-0.7701053194112798], \"y\": [-0.46576581778233883], \"type\": \"scatter\", \"uid\": \"72cc3a96-a94d-4015-9d63-459e1c8fb89b\"}, {\"hoverinfo\": \"text\", \"marker\": {\"color\": \"green\", \"size\": 0.5}, \"mode\": \"markers\", \"text\": \"MS SQL Server appears with Tableau 93 times\", \"x\": [-0.34912262314090603], \"y\": [0.8295260056268356], \"type\": \"scatter\", \"uid\": \"83dc8026-46ac-4b02-a48e-78caa77c3200\"}, {\"hoverinfo\": \"text\", \"marker\": {\"color\": \"blue\", \"size\": 0.5}, \"mode\": \"markers\", \"text\": \"Tableau appears with MS SQL Server 93 times\", \"x\": [-0.4356804311055562], \"y\": [-0.7875167058238681], \"type\": \"scatter\", \"uid\": \"753f3e74-596b-4bb9-8891-b6d425efe921\"}, {\"hoverinfo\": \"text\", \"marker\": {\"color\": \"green\", \"size\": 0.5}, \"mode\": \"markers\", \"text\": \"MS SQL Server appears with Microstrategy 17 times\", \"x\": [-0.24514964234576794], \"y\": [0.8659686211738519], \"type\": \"scatter\", \"uid\": \"4bb013b9-00bb-40a9-9247-f061aabff941\"}, {\"hoverinfo\": \"text\", \"marker\": {\"color\": \"blue\", \"size\": 0.5}, \"mode\": \"markers\", \"text\": \"Microstrategy appears with MS SQL Server 17 times\", \"x\": [-0.05737856027879425], \"y\": [-0.8981690825342035], \"type\": \"scatter\", \"uid\": \"8c9e39b4-799d-4bc0-af39-4690f2a5b4ac\"}, {\"hoverinfo\": \"text\", \"marker\": {\"color\": \"green\", \"size\": 0.5}, \"mode\": \"markers\", \"text\": \"MS SQL Server appears with Oracle BI 155 times\", \"x\": [-0.42038869288283737], \"y\": [0.7957847365313433], \"type\": \"scatter\", \"uid\": \"95d21624-4310-422c-a530-1b8f17d5a951\"}, {\"hoverinfo\": \"text\", \"marker\": {\"color\": \"blue\", \"size\": 0.5}, \"mode\": \"markers\", \"text\": \"Oracle BI appears with MS SQL Server 155 times\", \"x\": [0.2483079879138665], \"y\": [-0.8650682881357791], \"type\": \"scatter\", \"uid\": \"f37f8bd0-8f0e-466d-8359-be05d7db79d9\"}, {\"hoverinfo\": \"text\", \"marker\": {\"color\": \"green\", \"size\": 0.5}, \"mode\": \"markers\", \"text\": \"MS SQL Server appears with Python 106 times\", \"x\": [-0.36985615748236933], \"y\": [0.8204915738582431], \"type\": \"scatter\", \"uid\": \"5670226d-d1dc-4f71-a7ad-f74198e277c6\"}, {\"hoverinfo\": \"text\", \"marker\": {\"color\": \"blue\", \"size\": 0.5}, \"mode\": \"markers\", \"text\": \"Python appears with MS SQL Server 106 times\", \"x\": [0.6804208719314141], \"y\": [-0.589090347094649], \"type\": \"scatter\", \"uid\": \"d35479d9-ed2e-49ed-9a7e-75f08d0a7a12\"}, {\"hoverinfo\": \"text\", \"marker\": {\"color\": \"green\", \"size\": 0.5}, \"mode\": \"markers\", \"text\": \"MS SQL Server appears with VBA 35 times\", \"x\": [-0.26237788378742344], \"y\": [0.8609052480379205], \"type\": \"scatter\", \"uid\": \"ee400750-3cc9-4aed-80a7-f9929347e2bd\"}, {\"hoverinfo\": \"text\", \"marker\": {\"color\": \"blue\", \"size\": 0.5}, \"mode\": \"markers\", \"text\": \"VBA appears with MS SQL Server 35 times\", \"x\": [0.8310997692508568], \"y\": [-0.34535948452470877], \"type\": \"scatter\", \"uid\": \"5dff11e6-7313-4e25-872c-39eef75422c9\"}, {\"hoverinfo\": \"text\", \"marker\": {\"color\": \"green\", \"size\": 0.5}, \"mode\": \"markers\", \"text\": \"MS SQL Server appears with Linux 44 times\", \"x\": [-0.2804737968550096], \"y\": [0.8551809453429928], \"type\": \"scatter\", \"uid\": \"6d672d10-d920-4f7c-bc54-943f82b19458\"}, {\"hoverinfo\": \"text\", \"marker\": {\"color\": \"blue\", \"size\": 0.5}, \"mode\": \"markers\", \"text\": \"Linux appears with MS SQL Server 44 times\", \"x\": [0.8810012260770393], \"y\": [-0.18394792646494676], \"type\": \"scatter\", \"uid\": \"98d7de4f-6218-4e25-ab2e-f662690c3448\"}, {\"hoverinfo\": \"text\", \"marker\": {\"color\": \"green\", \"size\": 0.5}, \"mode\": \"markers\", \"text\": \"MS SQL Server appears with AWS 9 times\", \"x\": [-0.24011517737833932], \"y\": [0.8673780615121464], \"type\": \"scatter\", \"uid\": \"e95cda6a-e4dd-4cb3-bfb6-d002f983b1c8\"}, {\"hoverinfo\": \"text\", \"marker\": {\"color\": \"blue\", \"size\": 0.5}, \"mode\": \"markers\", \"text\": \"AWS appears with MS SQL Server 9 times\", \"x\": [0.8951806096836218], \"y\": [-0.09301438623384703], \"type\": \"scatter\", \"uid\": \"532a93a7-e51e-45ed-aa41-5da83e6d2249\"}, {\"hoverinfo\": \"text\", \"marker\": {\"color\": \"green\", \"size\": 0.5}, \"mode\": \"markers\", \"text\": \"PostgreSQL appears with MySQL/MariaDB 79 times\", \"x\": [-0.6324084186580757], \"y\": [0.6403589555947445], \"type\": \"scatter\", \"uid\": \"0d7fae5f-cde7-410f-b122-2e8eb53e3103\"}, {\"hoverinfo\": \"text\", \"marker\": {\"color\": \"blue\", \"size\": 0.5}, \"mode\": \"markers\", \"text\": \"MySQL/MariaDB appears with PostgreSQL 79 times\", \"x\": [-0.7249122863782393], \"y\": [0.5333874549123493], \"type\": \"scatter\", \"uid\": \"bc7e590a-f1a5-439a-a25e-44eb441a741f\"}, {\"hoverinfo\": \"text\", \"marker\": {\"color\": \"green\", \"size\": 0.5}, \"mode\": \"markers\", \"text\": \"PostgreSQL appears with T-SQL 30 times\", \"x\": [-0.5882523320034135], \"y\": [0.6811455012642642], \"type\": \"scatter\", \"uid\": \"09475ddc-e885-4b7a-b205-e4a488a8683e\"}, {\"hoverinfo\": \"text\", \"marker\": {\"color\": \"blue\", \"size\": 0.5}, \"mode\": \"markers\", \"text\": \"T-SQL appears with PostgreSQL 30 times\", \"x\": [-0.7720642866141766], \"y\": [0.46251133752043594], \"type\": \"scatter\", \"uid\": \"ba76f4a0-43bf-4035-8b9d-b6dc061c3a15\"}, {\"hoverinfo\": \"text\", \"marker\": {\"color\": \"green\", \"size\": 0.5}, \"mode\": \"markers\", \"text\": \"PostgreSQL appears with Pentaho 43 times\", \"x\": [-0.6081761906530933], \"y\": [0.6634167024749169], \"type\": \"scatter\", \"uid\": \"c252a7bc-5d3b-4834-b52e-a35df5b556b7\"}, {\"hoverinfo\": \"text\", \"marker\": {\"color\": \"blue\", \"size\": 0.5}, \"mode\": \"markers\", \"text\": \"Pentaho appears with PostgreSQL 43 times\", \"x\": [-0.8928427437678126], \"y\": [0.11327768933538591], \"type\": \"scatter\", \"uid\": \"c85cb5b2-33eb-4cc1-a99c-946916aa8979\"}, {\"hoverinfo\": \"text\", \"marker\": {\"color\": \"green\", \"size\": 0.5}, \"mode\": \"markers\", \"text\": \"PostgreSQL appears with Hadoop 3 times\", \"x\": [-0.5792381089776388], \"y\": [0.6888274189577597], \"type\": \"scatter\", \"uid\": \"3dae5c67-339a-4808-8e07-e075e6ab79b3\"}, {\"hoverinfo\": \"text\", \"marker\": {\"color\": \"blue\", \"size\": 0.5}, \"mode\": \"markers\", \"text\": \"Hadoop appears with PostgreSQL 3 times\", \"x\": [-0.8986994582424758], \"y\": [0.048366142648350534], \"type\": \"scatter\", \"uid\": \"3f1abca4-8195-4094-9dd9-edd84c61d45d\"}, {\"hoverinfo\": \"text\", \"marker\": {\"color\": \"green\", \"size\": 0.5}, \"mode\": \"markers\", \"text\": \"PostgreSQL appears with Spark 6 times\", \"x\": [-0.5798606335620015], \"y\": [0.6883034546223593], \"type\": \"scatter\", \"uid\": \"5ad6d07b-34b0-4191-bbf9-62bd400b2a4f\"}, {\"hoverinfo\": \"text\", \"marker\": {\"color\": \"blue\", \"size\": 0.5}, \"mode\": \"markers\", \"text\": \"Spark appears with PostgreSQL 6 times\", \"x\": [-0.8936594001508616], \"y\": [-0.10664368955546376], \"type\": \"scatter\", \"uid\": \"563ffe29-9528-4272-b55d-0e6ada55bb4d\"}, {\"hoverinfo\": \"text\", \"marker\": {\"color\": \"green\", \"size\": 0.5}, \"mode\": \"markers\", \"text\": \"PostgreSQL appears with Qlik 14 times\", \"x\": [-0.5820702122697241], \"y\": [0.6864359168839276], \"type\": \"scatter\", \"uid\": \"63b88c2b-50f5-49ce-8022-cdbea9b42295\"}, {\"hoverinfo\": \"text\", \"marker\": {\"color\": \"blue\", \"size\": 0.5}, \"mode\": \"markers\", \"text\": \"Qlik appears with PostgreSQL 14 times\", \"x\": [-0.7944260433946461], \"y\": [-0.4229506609243304], \"type\": \"scatter\", \"uid\": \"1f760f81-f8b8-462f-9258-c3387bfe19f6\"}, {\"hoverinfo\": \"text\", \"marker\": {\"color\": \"green\", \"size\": 0.5}, \"mode\": \"markers\", \"text\": \"PostgreSQL appears with Tableau 6 times\", \"x\": [-0.580689928974642], \"y\": [0.687603960421568], \"type\": \"scatter\", \"uid\": \"3548eb88-96a5-4207-95ab-cd66e6076249\"}, {\"hoverinfo\": \"text\", \"marker\": {\"color\": \"blue\", \"size\": 0.5}, \"mode\": \"markers\", \"text\": \"Tableau appears with PostgreSQL 6 times\", \"x\": [-0.536746817906809], \"y\": [-0.7224284417621685], \"type\": \"scatter\", \"uid\": \"dad4dbef-fc3c-4df1-98ab-f83f9974a1d3\"}, {\"hoverinfo\": \"text\", \"marker\": {\"color\": \"green\", \"size\": 0.5}, \"mode\": \"markers\", \"text\": \"PostgreSQL appears with Oracle BI 38 times\", \"x\": [-0.6027580268044074], \"y\": [0.668343295861384], \"type\": \"scatter\", \"uid\": \"4cb3bb1e-6fb5-4042-beb3-bdeeaf8b7bf8\"}, {\"hoverinfo\": \"text\", \"marker\": {\"color\": \"blue\", \"size\": 0.5}, \"mode\": \"markers\", \"text\": \"Oracle BI appears with PostgreSQL 38 times\", \"x\": [0.027742878052913644], \"y\": [-0.8995723054415032], \"type\": \"scatter\", \"uid\": \"dd00e98e-caa6-4b53-9aa0-de400d80a3fb\"}, {\"hoverinfo\": \"text\", \"marker\": {\"color\": \"green\", \"size\": 0.5}, \"mode\": \"markers\", \"text\": \"PostgreSQL appears with Python 23 times\", \"x\": [-0.5846175383805279], \"y\": [0.6842677354792436], \"type\": \"scatter\", \"uid\": \"8de22516-4191-4a84-bab9-a2c25c1439ee\"}, {\"hoverinfo\": \"text\", \"marker\": {\"color\": \"blue\", \"size\": 0.5}, \"mode\": \"markers\", \"text\": \"Python appears with PostgreSQL 23 times\", \"x\": [0.5919496172858365], \"y\": [-0.6779348424407406], \"type\": \"scatter\", \"uid\": \"e736f7fe-4699-45f0-b67f-e6d0c50b6f3b\"}, {\"hoverinfo\": \"text\", \"marker\": {\"color\": \"green\", \"size\": 0.5}, \"mode\": \"markers\", \"text\": \"PostgreSQL appears with Linux 36 times\", \"x\": [-0.5927553560393988], \"y\": [0.6772304540454495], \"type\": \"scatter\", \"uid\": \"d376f3eb-b798-4c53-945b-f99a338ab92e\"}, {\"hoverinfo\": \"text\", \"marker\": {\"color\": \"blue\", \"size\": 0.5}, \"mode\": \"markers\", \"text\": \"Linux appears with PostgreSQL 36 times\", \"x\": [0.8778137585717452], \"y\": [-0.19860263155896477], \"type\": \"scatter\", \"uid\": \"26638bad-3218-498f-8414-cd799dbfee42\"}, {\"hoverinfo\": \"text\", \"marker\": {\"color\": \"green\", \"size\": 0.5}, \"mode\": \"markers\", \"text\": \"MySQL/MariaDB appears with T-SQL 37 times\", \"x\": [-0.6678848996981862], \"y\": [0.6032659121441751], \"type\": \"scatter\", \"uid\": \"0f6eab35-196e-4089-90e9-2edc1b646e61\"}, {\"hoverinfo\": \"text\", \"marker\": {\"color\": \"blue\", \"size\": 0.5}, \"mode\": \"markers\", \"text\": \"T-SQL appears with MySQL/MariaDB 37 times\", \"x\": [-0.7792175367132441], \"y\": [0.45035544903836133], \"type\": \"scatter\", \"uid\": \"9e20d9c9-f43f-4481-ba6b-0cac3410c098\"}, {\"hoverinfo\": \"text\", \"marker\": {\"color\": \"green\", \"size\": 0.5}, \"mode\": \"markers\", \"text\": \"MySQL/MariaDB appears with Pentaho 61 times\", \"x\": [-0.6914046481800346], \"y\": [0.5761593637831834], \"type\": \"scatter\", \"uid\": \"4f378914-4c69-41b7-a03f-0f227f106e4f\"}, {\"hoverinfo\": \"text\", \"marker\": {\"color\": \"blue\", \"size\": 0.5}, \"mode\": \"markers\", \"text\": \"Pentaho appears with MySQL/MariaDB 61 times\", \"x\": [-0.8949657322083655], \"y\": [0.09505965586274852], \"type\": \"scatter\", \"uid\": \"7b4d2163-c352-4332-acce-59cd445dddb0\"}, {\"hoverinfo\": \"text\", \"marker\": {\"color\": \"green\", \"size\": 0.5}, \"mode\": \"markers\", \"text\": \"MySQL/MariaDB appears with Hadoop 4 times\", \"x\": [-0.6573886508841954], \"y\": [0.6146870436967559], \"type\": \"scatter\", \"uid\": \"f663ad39-710f-41d6-8ca4-9d83c3107d8c\"}, {\"hoverinfo\": \"text\", \"marker\": {\"color\": \"blue\", \"size\": 0.5}, \"mode\": \"markers\", \"text\": \"Hadoop appears with MySQL/MariaDB 4 times\", \"x\": [-0.8987684268885134], \"y\": [0.047067131082602645], \"type\": \"scatter\", \"uid\": \"c0d52643-7c1c-40b5-b966-928c50d75a18\"}, {\"hoverinfo\": \"text\", \"marker\": {\"color\": \"green\", \"size\": 0.5}, \"mode\": \"markers\", \"text\": \"MySQL/MariaDB appears with Spark 21 times\", \"x\": [-0.6639291115343122], \"y\": [0.607616766438566], \"type\": \"scatter\", \"uid\": \"93938e4b-7f5d-4fc8-bcf4-16b5ef6395b1\"}, {\"hoverinfo\": \"text\", \"marker\": {\"color\": \"blue\", \"size\": 0.5}, \"mode\": \"markers\", \"text\": \"Spark appears with MySQL/MariaDB 21 times\", \"x\": [-0.8920986241687603], \"y\": [-0.11899598630292145], \"type\": \"scatter\", \"uid\": \"8603bd7c-a387-4a5e-b02a-52ee3f4bf442\"}, {\"hoverinfo\": \"text\", \"marker\": {\"color\": \"green\", \"size\": 0.5}, \"mode\": \"markers\", \"text\": \"MySQL/MariaDB appears with Informatica 8 times\", \"x\": [-0.6596001998224309], \"y\": [0.6123132992138985], \"type\": \"scatter\", \"uid\": \"b18bcae1-c215-4700-9af8-24818bf49215\"}, {\"hoverinfo\": \"text\", \"marker\": {\"color\": \"blue\", \"size\": 0.5}, \"mode\": \"markers\", \"text\": \"Informatica appears with MySQL/MariaDB 8 times\", \"x\": [-0.8596732681413438], \"y\": [-0.2663866964455641], \"type\": \"scatter\", \"uid\": \"b011bedd-0bdc-424a-95c9-8769d586c7f4\"}, {\"hoverinfo\": \"text\", \"marker\": {\"color\": \"green\", \"size\": 0.5}, \"mode\": \"markers\", \"text\": \"MySQL/MariaDB appears with Qlik 17 times\", \"x\": [-0.6613220100167032], \"y\": [0.610453273451349], \"type\": \"scatter\", \"uid\": \"4a2b7b6d-61aa-460c-a72d-b0bdf6bcf13c\"}, {\"hoverinfo\": \"text\", \"marker\": {\"color\": \"blue\", \"size\": 0.5}, \"mode\": \"markers\", \"text\": \"Qlik appears with MySQL/MariaDB 17 times\", \"x\": [-0.7896077257481471], \"y\": [-0.43187919542256126], \"type\": \"scatter\", \"uid\": \"0b194ec6-039f-44c4-b16d-bc10d7e586cf\"}, {\"hoverinfo\": \"text\", \"marker\": {\"color\": \"green\", \"size\": 0.5}, \"mode\": \"markers\", \"text\": \"MySQL/MariaDB appears with Tableau 41 times\", \"x\": [-0.6782493976994342], \"y\": [0.5915891771494427], \"type\": \"scatter\", \"uid\": \"5ec96f03-db73-43eb-b89f-81c6a6aa03b3\"}, {\"hoverinfo\": \"text\", \"marker\": {\"color\": \"blue\", \"size\": 0.5}, \"mode\": \"markers\", \"text\": \"Tableau appears with MySQL/MariaDB 41 times\", \"x\": [-0.5005133602601316], \"y\": [-0.7479882192929991], \"type\": \"scatter\", \"uid\": \"0c28c5ad-40e4-46a8-81c3-b4e7a4bebb12\"}, {\"hoverinfo\": \"text\", \"marker\": {\"color\": \"green\", \"size\": 0.5}, \"mode\": \"markers\", \"text\": \"MySQL/MariaDB appears with Oracle BI 61 times\", \"x\": [-0.6992574392244244], \"y\": [0.566603065372312], \"type\": \"scatter\", \"uid\": \"e4d16143-4161-4726-9b80-956228a9ef1d\"}, {\"hoverinfo\": \"text\", \"marker\": {\"color\": \"blue\", \"size\": 0.5}, \"mode\": \"markers\", \"text\": \"Oracle BI appears with MySQL/MariaDB 61 times\", \"x\": [0.07089251317234832], \"y\": [-0.8972035730959326], \"type\": \"scatter\", \"uid\": \"2961c2a2-6828-48ed-888a-a2420eca5678\"}, {\"hoverinfo\": \"text\", \"marker\": {\"color\": \"green\", \"size\": 0.5}, \"mode\": \"markers\", \"text\": \"MySQL/MariaDB appears with Python 49 times\", \"x\": [-0.6842122667849573], \"y\": [0.5846824556808512], \"type\": \"scatter\", \"uid\": \"af648c57-7c3b-405f-9407-5b5ac7beeada\"}, {\"hoverinfo\": \"text\", \"marker\": {\"color\": \"blue\", \"size\": 0.5}, \"mode\": \"markers\", \"text\": \"Python appears with MySQL/MariaDB 49 times\", \"x\": [0.6231620508996766], \"y\": [-0.6493604995058668], \"type\": \"scatter\", \"uid\": \"87aa1379-dbcc-4cf5-a5ed-0c940fe37f93\"}, {\"hoverinfo\": \"text\", \"marker\": {\"color\": \"green\", \"size\": 0.5}, \"mode\": \"markers\", \"text\": \"MySQL/MariaDB appears with VBA 5 times\", \"x\": [-0.6580115136912689], \"y\": [0.6140202340719115], \"type\": \"scatter\", \"uid\": \"b91e609e-12a0-4b05-a4e3-547c091c6fea\"}, {\"hoverinfo\": \"text\", \"marker\": {\"color\": \"blue\", \"size\": 0.5}, \"mode\": \"markers\", \"text\": \"VBA appears with MySQL/MariaDB 5 times\", \"x\": [0.8208601405584355], \"y\": [-0.3690374366407635], \"type\": \"scatter\", \"uid\": \"683eec6b-7846-455e-b61a-c4e7b9d5c167\"}, {\"hoverinfo\": \"text\", \"marker\": {\"color\": \"green\", \"size\": 0.5}, \"mode\": \"markers\", \"text\": \"MySQL/MariaDB appears with Linux 38 times\", \"x\": [-0.6729578473761817], \"y\": [0.597601652988691], \"type\": \"scatter\", \"uid\": \"62ecd620-c209-4efb-808d-68bb078e6195\"}, {\"hoverinfo\": \"text\", \"marker\": {\"color\": \"blue\", \"size\": 0.5}, \"mode\": \"markers\", \"text\": \"Linux appears with MySQL/MariaDB 38 times\", \"x\": [0.8793562069262781], \"y\": [-0.19165766705307838], \"type\": \"scatter\", \"uid\": \"a8a2c3b3-824d-45ae-8b78-23bfa840c456\"}, {\"hoverinfo\": \"text\", \"marker\": {\"color\": \"green\", \"size\": 0.5}, \"mode\": \"markers\", \"text\": \"T-SQL appears with PL/SQL 31 times\", \"x\": [-0.7754705722419218], \"y\": [0.456777179362965], \"type\": \"scatter\", \"uid\": \"c7a7bab3-c2a6-4148-847b-3d846afaf044\"}, {\"hoverinfo\": \"text\", \"marker\": {\"color\": \"blue\", \"size\": 0.5}, \"mode\": \"markers\", \"text\": \"PL/SQL appears with T-SQL 31 times\", \"x\": [-0.87138810054123], \"y\": [0.22512835946443396], \"type\": \"scatter\", \"uid\": \"8143b217-4cee-4dd4-af47-1c8f599f6e64\"}, {\"hoverinfo\": \"text\", \"marker\": {\"color\": \"green\", \"size\": 0.5}, \"mode\": \"markers\", \"text\": \"T-SQL appears with Pentaho 37 times\", \"x\": [-0.7832346844071435], \"y\": [0.44333218825350623], \"type\": \"scatter\", \"uid\": \"8f167b8d-4903-4714-8738-cc74e39bb136\"}, {\"hoverinfo\": \"text\", \"marker\": {\"color\": \"blue\", \"size\": 0.5}, \"mode\": \"markers\", \"text\": \"Pentaho appears with T-SQL 37 times\", \"x\": [-0.890844732616915], \"y\": [0.1280455480237296], \"type\": \"scatter\", \"uid\": \"7ee894eb-571b-4dc7-a752-e2beb9c32f99\"}, {\"hoverinfo\": \"text\", \"marker\": {\"color\": \"green\", \"size\": 0.5}, \"mode\": \"markers\", \"text\": \"T-SQL appears with Hadoop 16 times\", \"x\": [-0.7617665189933438], \"y\": [0.47928255814369425], \"type\": \"scatter\", \"uid\": \"fdb85602-611a-4ecc-a3c7-ab785517cc62\"}, {\"hoverinfo\": \"text\", \"marker\": {\"color\": \"blue\", \"size\": 0.5}, \"mode\": \"markers\", \"text\": \"Hadoop appears with T-SQL 16 times\", \"x\": [-0.8990624100756877], \"y\": [0.041070461269580104], \"type\": \"scatter\", \"uid\": \"e3b6664c-6499-403c-9e24-021ab92f2c01\"}, {\"hoverinfo\": \"text\", \"marker\": {\"color\": \"green\", \"size\": 0.5}, \"mode\": \"markers\", \"text\": \"T-SQL appears with Spark 17 times\", \"x\": [-0.7636818592707479], \"y\": [0.4762247555732205], \"type\": \"scatter\", \"uid\": \"fe519796-f30c-4055-ad03-8e011b7dac2a\"}, {\"hoverinfo\": \"text\", \"marker\": {\"color\": \"blue\", \"size\": 0.5}, \"mode\": \"markers\", \"text\": \"Spark appears with T-SQL 17 times\", \"x\": [-0.8925990545552223], \"y\": [-0.11518215055781596], \"type\": \"scatter\", \"uid\": \"063d1e4d-fe7a-4aed-b33f-b3fb25dca5f1\"}, {\"hoverinfo\": \"text\", \"marker\": {\"color\": \"green\", \"size\": 0.5}, \"mode\": \"markers\", \"text\": \"T-SQL appears with Informatica 12 times\", \"x\": [-0.7601317791765883], \"y\": [0.48187101830866996], \"type\": \"scatter\", \"uid\": \"b47d939b-b002-4a88-8c40-6a7eca6d4e7c\"}, {\"hoverinfo\": \"text\", \"marker\": {\"color\": \"blue\", \"size\": 0.5}, \"mode\": \"markers\", \"text\": \"Informatica appears with T-SQL 12 times\", \"x\": [-0.8577784929176201], \"y\": [-0.2724262415553546], \"type\": \"scatter\", \"uid\": \"1a9deede-38ad-4af8-b393-a04bd963655d\"}, {\"hoverinfo\": \"text\", \"marker\": {\"color\": \"green\", \"size\": 0.5}, \"mode\": \"markers\", \"text\": \"T-SQL appears with Qlik 68 times\", \"x\": [-0.7979097289750848], \"y\": [0.4163412835726319], \"type\": \"scatter\", \"uid\": \"01a7e9cc-e575-4919-9653-0340b6efe97c\"}, {\"hoverinfo\": \"text\", \"marker\": {\"color\": \"blue\", \"size\": 0.5}, \"mode\": \"markers\", \"text\": \"Qlik appears with T-SQL 68 times\", \"x\": [-0.7625741302514556], \"y\": [-0.4779965437858689], \"type\": \"scatter\", \"uid\": \"570e3c17-2902-4c64-bd80-50fbf7b72f2e\"}, {\"hoverinfo\": \"text\", \"marker\": {\"color\": \"green\", \"size\": 0.5}, \"mode\": \"markers\", \"text\": \"T-SQL appears with Tableau 92 times\", \"x\": [-0.8058512512778468], \"y\": [0.40075399039052434], \"type\": \"scatter\", \"uid\": \"618d5d90-8921-4243-90b9-5101a7d17745\"}, {\"hoverinfo\": \"text\", \"marker\": {\"color\": \"blue\", \"size\": 0.5}, \"mode\": \"markers\", \"text\": \"Tableau appears with T-SQL 92 times\", \"x\": [-0.45429849010163265], \"y\": [-0.776925274329119], \"type\": \"scatter\", \"uid\": \"5a1adacb-74d1-4816-af5d-701e2db01475\"}, {\"hoverinfo\": \"text\", \"marker\": {\"color\": \"green\", \"size\": 0.5}, \"mode\": \"markers\", \"text\": \"T-SQL appears with Microstrategy 10 times\", \"x\": [-0.7588411695022794], \"y\": [0.4839008983959556], \"type\": \"scatter\", \"uid\": \"6448c3cd-4574-4702-aa83-2a143a80b82b\"}, {\"hoverinfo\": \"text\", \"marker\": {\"color\": \"blue\", \"size\": 0.5}, \"mode\": \"markers\", \"text\": \"Microstrategy appears with T-SQL 10 times\", \"x\": [-0.06357818572154388], \"y\": [-0.8977515326081916], \"type\": \"scatter\", \"uid\": \"7ebcf6fe-fb37-41b3-a679-8d713ba98f00\"}, {\"hoverinfo\": \"text\", \"marker\": {\"color\": \"green\", \"size\": 0.5}, \"mode\": \"markers\", \"text\": \"T-SQL appears with Oracle BI 128 times\", \"x\": [-0.8263720278711377], \"y\": [0.3565238723453785], \"type\": \"scatter\", \"uid\": \"f9cfb464-6367-4a51-a977-8a2bcf953d6a\"}, {\"hoverinfo\": \"text\", \"marker\": {\"color\": \"blue\", \"size\": 0.5}, \"mode\": \"markers\", \"text\": \"Oracle BI appears with T-SQL 128 times\", \"x\": [0.15394888056677294], \"y\": [-0.8867354409136005], \"type\": \"scatter\", \"uid\": \"37d4c189-7076-4b97-b083-09762c906522\"}, {\"hoverinfo\": \"text\", \"marker\": {\"color\": \"green\", \"size\": 0.5}, \"mode\": \"markers\", \"text\": \"T-SQL appears with Python 47 times\", \"x\": [-0.7920153748266184], \"y\": [0.42744782844020984], \"type\": \"scatter\", \"uid\": \"f8f6ef08-4812-4ba9-9971-c89097c1b5a5\"}, {\"hoverinfo\": \"text\", \"marker\": {\"color\": \"blue\", \"size\": 0.5}, \"mode\": \"markers\", \"text\": \"Python appears with T-SQL 47 times\", \"x\": [0.615236399224656], \"y\": [-0.6568745489582313], \"type\": \"scatter\", \"uid\": \"d4427452-cc91-48b8-ad70-8205517ecad9\"}, {\"hoverinfo\": \"text\", \"marker\": {\"color\": \"green\", \"size\": 0.5}, \"mode\": \"markers\", \"text\": \"T-SQL appears with VBA 26 times\", \"x\": [-0.7688998708579002], \"y\": [0.46775312782995304], \"type\": \"scatter\", \"uid\": \"3e3e31aa-947e-4e70-a8f8-ea7fcb7b05de\"}, {\"hoverinfo\": \"text\", \"marker\": {\"color\": \"blue\", \"size\": 0.5}, \"mode\": \"markers\", \"text\": \"VBA appears with T-SQL 26 times\", \"x\": [0.8241479459490955], \"y\": [-0.3616354009052306], \"type\": \"scatter\", \"uid\": \"1a028ddb-0457-42db-959c-63d9aa77315d\"}, {\"hoverinfo\": \"text\", \"marker\": {\"color\": \"green\", \"size\": 0.5}, \"mode\": \"markers\", \"text\": \"T-SQL appears with Linux 24 times\", \"x\": [-0.7660444227425429], \"y\": [0.47241501075330383], \"type\": \"scatter\", \"uid\": \"e3cd10a9-6c7e-4518-a8d9-b9e24bfe0e4f\"}, {\"hoverinfo\": \"text\", \"marker\": {\"color\": \"blue\", \"size\": 0.5}, \"mode\": \"markers\", \"text\": \"Linux appears with T-SQL 24 times\", \"x\": [0.8750612766348551], \"y\": [-0.21039905449924795], \"type\": \"scatter\", \"uid\": \"3ebbdcc5-9fb6-482a-866a-ed69c881ec64\"}, {\"hoverinfo\": \"text\", \"marker\": {\"color\": \"green\", \"size\": 0.5}, \"mode\": \"markers\", \"text\": \"T-SQL appears with AWS 8 times\", \"x\": [-0.7577811838325127], \"y\": [0.48555913896187314], \"type\": \"scatter\", \"uid\": \"7be1e340-5481-4d64-8881-5436b693f755\"}, {\"hoverinfo\": \"text\", \"marker\": {\"color\": \"blue\", \"size\": 0.5}, \"mode\": \"markers\", \"text\": \"AWS appears with T-SQL 8 times\", \"x\": [0.8950259097636423], \"y\": [-0.09449137977490162], \"type\": \"scatter\", \"uid\": \"c76176a9-3a52-4a1f-88c3-cace22867984\"}, {\"hoverinfo\": \"text\", \"marker\": {\"color\": \"green\", \"size\": 0.5}, \"mode\": \"markers\", \"text\": \"PL/SQL appears with Pentaho 8 times\", \"x\": [-0.8658416861482713], \"y\": [0.24559758656778094], \"type\": \"scatter\", \"uid\": \"d519a4bc-3909-493b-b749-8bfbf92f0050\"}, {\"hoverinfo\": \"text\", \"marker\": {\"color\": \"blue\", \"size\": 0.5}, \"mode\": \"markers\", \"text\": \"Pentaho appears with PL/SQL 8 times\", \"x\": [-0.8831125761621988], \"y\": [0.17352860808571197], \"type\": \"scatter\", \"uid\": \"7c0ab679-b7fb-46db-9ea1-a78471d076ce\"}, {\"hoverinfo\": \"text\", \"marker\": {\"color\": \"green\", \"size\": 0.5}, \"mode\": \"markers\", \"text\": \"PL/SQL appears with Hadoop 3 times\", \"x\": [-0.8651065983805889], \"y\": [0.24817448184365462], \"type\": \"scatter\", \"uid\": \"79b493ea-6f4e-4e84-895b-7631b5de87fe\"}, {\"hoverinfo\": \"text\", \"marker\": {\"color\": \"blue\", \"size\": 0.5}, \"mode\": \"markers\", \"text\": \"Hadoop appears with PL/SQL 3 times\", \"x\": [-0.8987315232318478], \"y\": [0.04776661124009695], \"type\": \"scatter\", \"uid\": \"8c845a12-a0fe-4590-8f89-68901562d3ba\"}, {\"hoverinfo\": \"text\", \"marker\": {\"color\": \"green\", \"size\": 0.5}, \"mode\": \"markers\", \"text\": \"PL/SQL appears with Informatica 27 times\", \"x\": [-0.8690843499121651], \"y\": [0.23386404755273843], \"type\": \"scatter\", \"uid\": \"7ed417c0-e5c4-4959-9ab7-a6a0118285ec\"}, {\"hoverinfo\": \"text\", \"marker\": {\"color\": \"blue\", \"size\": 0.5}, \"mode\": \"markers\", \"text\": \"Informatica appears with PL/SQL 27 times\", \"x\": [-0.8529864849918136], \"y\": [-0.28707848477604625], \"type\": \"scatter\", \"uid\": \"853acfab-269a-49b8-bbcb-5368c597f5cc\"}, {\"hoverinfo\": \"text\", \"marker\": {\"color\": \"green\", \"size\": 0.5}, \"mode\": \"markers\", \"text\": \"PL/SQL appears with Qlik 14 times\", \"x\": [-0.8667136588629416], \"y\": [0.24250244027723217], \"type\": \"scatter\", \"uid\": \"269fe292-16df-4373-b8bb-1785302faa9d\"}, {\"hoverinfo\": \"text\", \"marker\": {\"color\": \"blue\", \"size\": 0.5}, \"mode\": \"markers\", \"text\": \"Qlik appears with PL/SQL 14 times\", \"x\": [-0.792921024019518], \"y\": [-0.4257654867034657], \"type\": \"scatter\", \"uid\": \"ce314e8d-dee7-4f4a-af60-7e462355a75f\"}, {\"hoverinfo\": \"text\", \"marker\": {\"color\": \"green\", \"size\": 0.5}, \"mode\": \"markers\", \"text\": \"PL/SQL appears with Tableau 17 times\", \"x\": [-0.8673501613313703], \"y\": [0.24021593960111362], \"type\": \"scatter\", \"uid\": \"270f5d98-d06f-4969-bb2c-ccf160d9a509\"}, {\"hoverinfo\": \"text\", \"marker\": {\"color\": \"blue\", \"size\": 0.5}, \"mode\": \"markers\", \"text\": \"Tableau appears with PL/SQL 17 times\", \"x\": [-0.5319953054813198], \"y\": [-0.7259345665732121], \"type\": \"scatter\", \"uid\": \"92dd954a-1970-4093-b1b9-323d234e7b8b\"}, {\"hoverinfo\": \"text\", \"marker\": {\"color\": \"green\", \"size\": 0.5}, \"mode\": \"markers\", \"text\": \"PL/SQL appears with Microstrategy 21 times\", \"x\": [-0.8681221607418418], \"y\": [0.2374108549096186], \"type\": \"scatter\", \"uid\": \"9768d9cd-48e9-4310-900b-4cbecfcfd141\"}, {\"hoverinfo\": \"text\", \"marker\": {\"color\": \"blue\", \"size\": 0.5}, \"mode\": \"markers\", \"text\": \"Microstrategy appears with PL/SQL 21 times\", \"x\": [-0.05140596219008134], \"y\": [-0.898530704567914], \"type\": \"scatter\", \"uid\": \"bbb01e7e-8c1f-4825-8e7b-3fa2dd49e214\"}, {\"hoverinfo\": \"text\", \"marker\": {\"color\": \"green\", \"size\": 0.5}, \"mode\": \"markers\", \"text\": \"PL/SQL appears with Oracle BI 76 times\", \"x\": [-0.8752884930724665], \"y\": [0.20945179372574238], \"type\": \"scatter\", \"uid\": \"88d9615a-b5e2-47bd-be6c-6d6e0f2d2273\"}, {\"hoverinfo\": \"text\", \"marker\": {\"color\": \"blue\", \"size\": 0.5}, \"mode\": \"markers\", \"text\": \"Oracle BI appears with PL/SQL 76 times\", \"x\": [0.1015528995965826], \"y\": [-0.8942522063621238], \"type\": \"scatter\", \"uid\": \"53f4643c-0204-4fbf-be89-9faf4619b788\"}, {\"hoverinfo\": \"text\", \"marker\": {\"color\": \"green\", \"size\": 0.5}, \"mode\": \"markers\", \"text\": \"PL/SQL appears with Python 3 times\", \"x\": [-0.8649798130956817], \"y\": [0.24861601504520908], \"type\": \"scatter\", \"uid\": \"5d37b45b-fe91-40ec-aba4-3fe3e1c0c9d7\"}, {\"hoverinfo\": \"text\", \"marker\": {\"color\": \"blue\", \"size\": 0.5}, \"mode\": \"markers\", \"text\": \"Python appears with PL/SQL 3 times\", \"x\": [0.5871359115376786], \"y\": [-0.6821080716300161], \"type\": \"scatter\", \"uid\": \"5c4ed921-f47c-4e50-bdf1-4696261fdd65\"}, {\"hoverinfo\": \"text\", \"marker\": {\"color\": \"green\", \"size\": 0.5}, \"mode\": \"markers\", \"text\": \"PL/SQL appears with VBA 6 times\", \"x\": [-0.8652963537049327], \"y\": [0.24751206084744243], \"type\": \"scatter\", \"uid\": \"f45d2dd1-177a-4a1f-8d0c-e2a3148e88e7\"}, {\"hoverinfo\": \"text\", \"marker\": {\"color\": \"blue\", \"size\": 0.5}, \"mode\": \"markers\", \"text\": \"VBA appears with PL/SQL 6 times\", \"x\": [0.8222889695905631], \"y\": [-0.36584265810548944], \"type\": \"scatter\", \"uid\": \"b0b04a91-a8f3-4a82-bad1-74e3d51c72fd\"}, {\"hoverinfo\": \"text\", \"marker\": {\"color\": \"green\", \"size\": 0.5}, \"mode\": \"markers\", \"text\": \"PL/SQL appears with Linux 1 times\", \"x\": [-0.8648104155108028], \"y\": [0.24920462520593906], \"type\": \"scatter\", \"uid\": \"ff474a74-1d70-47d2-b32a-975fcc0f224a\"}, {\"hoverinfo\": \"text\", \"marker\": {\"color\": \"blue\", \"size\": 0.5}, \"mode\": \"markers\", \"text\": \"Linux appears with PL/SQL 1 times\", \"x\": [0.87097552461013], \"y\": [-0.22671928795342683], \"type\": \"scatter\", \"uid\": \"119aa32f-60d9-4dfa-bd3f-ec73c43286a0\"}, {\"hoverinfo\": \"text\", \"marker\": {\"color\": \"green\", \"size\": 0.5}, \"mode\": \"markers\", \"text\": \"PL/SQL appears with AWS 2 times\", \"x\": [-0.8648739865480198], \"y\": [0.24898390990691707], \"type\": \"scatter\", \"uid\": \"e5d52d69-a161-420a-9032-5f0027a1c214\"}, {\"hoverinfo\": \"text\", \"marker\": {\"color\": \"blue\", \"size\": 0.5}, \"mode\": \"markers\", \"text\": \"AWS appears with PL/SQL 2 times\", \"x\": [0.8946902660020533], \"y\": [-0.09761827657347391], \"type\": \"scatter\", \"uid\": \"c4348125-8f1c-4509-b0ed-63a2780693f6\"}, {\"hoverinfo\": \"text\", \"marker\": {\"color\": \"green\", \"size\": 0.5}, \"mode\": \"markers\", \"text\": \"Pentaho appears with Spark 6 times\", \"x\": [-0.8828537356296839], \"y\": [0.17484073176669135], \"type\": \"scatter\", \"uid\": \"eecdbfa4-67b2-42f2-ae00-4bb615bced71\"}, {\"hoverinfo\": \"text\", \"marker\": {\"color\": \"blue\", \"size\": 0.5}, \"mode\": \"markers\", \"text\": \"Spark appears with Pentaho 6 times\", \"x\": [-0.8935146535580257], \"y\": [-0.10784972821978445], \"type\": \"scatter\", \"uid\": \"10db4870-0ff8-4d98-8634-c098aaaabad0\"}, {\"hoverinfo\": \"text\", \"marker\": {\"color\": \"green\", \"size\": 0.5}, \"mode\": \"markers\", \"text\": \"Pentaho appears with Informatica 32 times\", \"x\": [-0.8856276610434878], \"y\": [0.16019877026569523], \"type\": \"scatter\", \"uid\": \"af8aa895-a79b-40e8-972d-747b650f90ab\"}, {\"hoverinfo\": \"text\", \"marker\": {\"color\": \"blue\", \"size\": 0.5}, \"mode\": \"markers\", \"text\": \"Informatica appears with Pentaho 32 times\", \"x\": [-0.8510460347347183], \"y\": [-0.29278088524067414], \"type\": \"scatter\", \"uid\": \"7edd412c-fb9c-4214-9c31-dbf27856cc8a\"}, {\"hoverinfo\": \"text\", \"marker\": {\"color\": \"green\", \"size\": 0.5}, \"mode\": \"markers\", \"text\": \"Pentaho appears with Qlik 30 times\", \"x\": [-0.8845542375424937], \"y\": [0.16602349486026863], \"type\": \"scatter\", \"uid\": \"2742de38-c56f-4d52-9fac-111c6128f51d\"}, {\"hoverinfo\": \"text\", \"marker\": {\"color\": \"blue\", \"size\": 0.5}, \"mode\": \"markers\", \"text\": \"Qlik appears with Pentaho 30 times\", \"x\": [-0.7837942177771672], \"y\": [-0.44234220257519924], \"type\": \"scatter\", \"uid\": \"53cc5eed-772e-47ef-8c6e-dab0690c8d7f\"}, {\"hoverinfo\": \"text\", \"marker\": {\"color\": \"green\", \"size\": 0.5}, \"mode\": \"markers\", \"text\": \"Pentaho appears with Tableau 37 times\", \"x\": [-0.8898115117153442], \"y\": [0.1350387856093719], \"type\": \"scatter\", \"uid\": \"a06cec3a-0db0-4886-a460-c25e870ef333\"}, {\"hoverinfo\": \"text\", \"marker\": {\"color\": \"blue\", \"size\": 0.5}, \"mode\": \"markers\", \"text\": \"Tableau appears with Pentaho 37 times\", \"x\": [-0.5079939222988289], \"y\": [-0.7429281088419333], \"type\": \"scatter\", \"uid\": \"d747103e-2ae1-4bb7-94e9-128812863e4f\"}, {\"hoverinfo\": \"text\", \"marker\": {\"color\": \"green\", \"size\": 0.5}, \"mode\": \"markers\", \"text\": \"Pentaho appears with Microstrategy 3 times\", \"x\": [-0.8826863086293493], \"y\": [0.17568403615096403], \"type\": \"scatter\", \"uid\": \"63ea2eb3-7b66-4708-b2c8-928ec1983c6f\"}, {\"hoverinfo\": \"text\", \"marker\": {\"color\": \"blue\", \"size\": 0.5}, \"mode\": \"markers\", \"text\": \"Microstrategy appears with Pentaho 3 times\", \"x\": [-0.06686813224946599], \"y\": [-0.8975124806315887], \"type\": \"scatter\", \"uid\": \"9d858222-9e6f-4a14-925c-d20bc1944183\"}, {\"hoverinfo\": \"text\", \"marker\": {\"color\": \"green\", \"size\": 0.5}, \"mode\": \"markers\", \"text\": \"Pentaho appears with Oracle BI 38 times\", \"x\": [-0.8918358359668337], \"y\": [0.12094974859560098], \"type\": \"scatter\", \"uid\": \"75b8d0a4-ddb5-4cd3-9c47-e3be6fc28be6\"}, {\"hoverinfo\": \"text\", \"marker\": {\"color\": \"blue\", \"size\": 0.5}, \"mode\": \"markers\", \"text\": \"Oracle BI appears with Pentaho 38 times\", \"x\": [0.03663856985755895], \"y\": [-0.8992539214253074], \"type\": \"scatter\", \"uid\": \"0b4661d3-1139-466b-81cd-c8fcd76dc024\"}, {\"hoverinfo\": \"text\", \"marker\": {\"color\": \"green\", \"size\": 0.5}, \"mode\": \"markers\", \"text\": \"Pentaho appears with Python 34 times\", \"x\": [-0.8887685736323064], \"y\": [0.1417406876080242], \"type\": \"scatter\", \"uid\": \"c416d49c-c02f-46b9-9845-b6cbd23d29ea\"}, {\"hoverinfo\": \"text\", \"marker\": {\"color\": \"blue\", \"size\": 0.5}, \"mode\": \"markers\", \"text\": \"Python appears with Pentaho 34 times\", \"x\": [0.601064549368689], \"y\": [-0.6698667087504907], \"type\": \"scatter\", \"uid\": \"0b88a49d-bac4-4e85-8682-9d3d95d48c01\"}, {\"hoverinfo\": \"text\", \"marker\": {\"color\": \"green\", \"size\": 0.5}, \"mode\": \"markers\", \"text\": \"Pentaho appears with VBA 1 times\", \"x\": [-0.8826116380560165], \"y\": [0.1760587866823899], \"type\": \"scatter\", \"uid\": \"10ebba29-698b-4189-8625-de778c0880f0\"}, {\"hoverinfo\": \"text\", \"marker\": {\"color\": \"blue\", \"size\": 0.5}, \"mode\": \"markers\", \"text\": \"VBA appears with Pentaho 1 times\", \"x\": [0.8199556649632398], \"y\": [-0.37104273001191035], \"type\": \"scatter\", \"uid\": \"36b05491-e9d9-4047-9b7b-43b25ae16fb4\"}, {\"hoverinfo\": \"text\", \"marker\": {\"color\": \"green\", \"size\": 0.5}, \"mode\": \"markers\", \"text\": \"Pentaho appears with Linux 33 times\", \"x\": [-0.8877381003074786], \"y\": [0.1480576416888678], \"type\": \"scatter\", \"uid\": \"8b1fdcb3-1302-47e7-b731-57f5df44e729\"}, {\"hoverinfo\": \"text\", \"marker\": {\"color\": \"blue\", \"size\": 0.5}, \"mode\": \"markers\", \"text\": \"Linux appears with Pentaho 33 times\", \"x\": [0.876326112579968], \"y\": [-0.20506717048440837], \"type\": \"scatter\", \"uid\": \"b46fddb4-9244-43cf-989e-b1ead8edfc1c\"}, {\"hoverinfo\": \"text\", \"marker\": {\"color\": \"green\", \"size\": 0.5}, \"mode\": \"markers\", \"text\": \"Pentaho appears with AWS 13 times\", \"x\": [-0.8837872657961766], \"y\": [0.17005901568725576], \"type\": \"scatter\", \"uid\": \"a46affb0-f10a-4615-9a94-de877c9883cc\"}, {\"hoverinfo\": \"text\", \"marker\": {\"color\": \"blue\", \"size\": 0.5}, \"mode\": \"markers\", \"text\": \"AWS appears with Pentaho 13 times\", \"x\": [0.8953771914181531], \"y\": [-0.09110260747168533], \"type\": \"scatter\", \"uid\": \"cd3d469f-30f1-468d-ba87-6f4409924948\"}, {\"hoverinfo\": \"text\", \"marker\": {\"color\": \"green\", \"size\": 0.5}, \"mode\": \"markers\", \"text\": \"Hadoop appears with Spark 115 times\", \"x\": [-0.8991171291411322], \"y\": [-0.039854586749941495], \"type\": \"scatter\", \"uid\": \"51a14ca8-7460-415d-9135-60298d88ca48\"}, {\"hoverinfo\": \"text\", \"marker\": {\"color\": \"blue\", \"size\": 0.5}, \"mode\": \"markers\", \"text\": \"Spark appears with Hadoop 115 times\", \"x\": [-0.877931254468265], \"y\": [-0.19808258991586983], \"type\": \"scatter\", \"uid\": \"ce695db3-3811-40c8-a60b-d29867225e6a\"}, {\"hoverinfo\": \"text\", \"marker\": {\"color\": \"green\", \"size\": 0.5}, \"mode\": \"markers\", \"text\": \"Hadoop appears with Informatica 5 times\", \"x\": [-0.8988150745044351], \"y\": [0.046167757619218236], \"type\": \"scatter\", \"uid\": \"17b6c9c4-24ec-442d-bda6-b4596f14448a\"}, {\"hoverinfo\": \"text\", \"marker\": {\"color\": \"blue\", \"size\": 0.5}, \"mode\": \"markers\", \"text\": \"Informatica appears with Hadoop 5 times\", \"x\": [-0.860485126317122], \"y\": [-0.2637524357935043], \"type\": \"scatter\", \"uid\": \"1f319513-a52c-4d9c-9c68-de418dab317a\"}, {\"hoverinfo\": \"text\", \"marker\": {\"color\": \"green\", \"size\": 0.5}, \"mode\": \"markers\", \"text\": \"Hadoop appears with Qlik 9 times\", \"x\": [-0.89894477868666], \"y\": [0.04356931112597326], \"type\": \"scatter\", \"uid\": \"9eb51c27-db34-420c-a1bd-3f93810f509f\"}, {\"hoverinfo\": \"text\", \"marker\": {\"color\": \"blue\", \"size\": 0.5}, \"mode\": \"markers\", \"text\": \"Qlik appears with Hadoop 9 times\", \"x\": [-0.7956548349405471], \"y\": [-0.42063450124274254], \"type\": \"scatter\", \"uid\": \"eb359a9d-49be-4f5f-89f9-60f3ef186568\"}, {\"hoverinfo\": \"text\", \"marker\": {\"color\": \"green\", \"size\": 0.5}, \"mode\": \"markers\", \"text\": \"Hadoop appears with Tableau 35 times\", \"x\": [-0.8999036898798248], \"y\": [0.013166204490133736], \"type\": \"scatter\", \"uid\": \"fb03a706-7385-4e42-b9f5-64a6f07bf5c7\"}, {\"hoverinfo\": \"text\", \"marker\": {\"color\": \"blue\", \"size\": 0.5}, \"mode\": \"markers\", \"text\": \"Tableau appears with Hadoop 35 times\", \"x\": [-0.5148536716441322], \"y\": [-0.7381908268155031], \"type\": \"scatter\", \"uid\": \"e03ca606-9827-45c1-9560-06b93d7602a1\"}, {\"hoverinfo\": \"text\", \"marker\": {\"color\": \"green\", \"size\": 0.5}, \"mode\": \"markers\", \"text\": \"Hadoop appears with Microstrategy 3 times\", \"x\": [-0.8986669933140116], \"y\": [0.0489656525327109], \"type\": \"scatter\", \"uid\": \"e32dcb5e-e247-4b14-abba-c39a2ded8b4b\"}, {\"hoverinfo\": \"text\", \"marker\": {\"color\": \"blue\", \"size\": 0.5}, \"mode\": \"markers\", \"text\": \"Microstrategy appears with Hadoop 3 times\", \"x\": [-0.06640912285993929], \"y\": [-0.8975465605755355], \"type\": \"scatter\", \"uid\": \"d82ac155-5abb-4af3-b873-bd29e8c0d601\"}, {\"hoverinfo\": \"text\", \"marker\": {\"color\": \"green\", \"size\": 0.5}, \"mode\": \"markers\", \"text\": \"Hadoop appears with Oracle BI 34 times\", \"x\": [-0.8997762033669151], \"y\": [0.020069475693699514], \"type\": \"scatter\", \"uid\": \"ab2efdaa-2520-462b-9b89-aa4e295ef8fc\"}, {\"hoverinfo\": \"text\", \"marker\": {\"color\": \"blue\", \"size\": 0.5}, \"mode\": \"markers\", \"text\": \"Oracle BI appears with Hadoop 34 times\", \"x\": [0.019312863133265024], \"y\": [-0.8997927613165133], \"type\": \"scatter\", \"uid\": \"e132b304-fe67-403d-ad70-be9a1b463aba\"}, {\"hoverinfo\": \"text\", \"marker\": {\"color\": \"green\", \"size\": 0.5}, \"mode\": \"markers\", \"text\": \"Hadoop appears with Python 124 times\", \"x\": [-0.8977407888161084], \"y\": [-0.06372971124861175], \"type\": \"scatter\", \"uid\": \"d22a8865-dbd9-4bb2-8382-e0d1b8917a45\"}, {\"hoverinfo\": \"text\", \"marker\": {\"color\": \"blue\", \"size\": 0.5}, \"mode\": \"markers\", \"text\": \"Python appears with Hadoop 124 times\", \"x\": [0.7135052804958886], \"y\": [-0.5485528367481873], \"type\": \"scatter\", \"uid\": \"1ca0e3c7-c847-4c13-851f-48df8987b2c6\"}, {\"hoverinfo\": \"text\", \"marker\": {\"color\": \"green\", \"size\": 0.5}, \"mode\": \"markers\", \"text\": \"Hadoop appears with VBA 6 times\", \"x\": [-0.8988708660593316], \"y\": [0.045068460698663625], \"type\": \"scatter\", \"uid\": \"3d6b6af3-fdfb-49fa-8eb4-9af7116bea1d\"}, {\"hoverinfo\": \"text\", \"marker\": {\"color\": \"blue\", \"size\": 0.5}, \"mode\": \"markers\", \"text\": \"VBA appears with Hadoop 6 times\", \"x\": [0.8218004849920238], \"y\": [-0.36693863637790225], \"type\": \"scatter\", \"uid\": \"8822e89c-1485-480a-b010-d0e015970d13\"}, {\"hoverinfo\": \"text\", \"marker\": {\"color\": \"green\", \"size\": 0.5}, \"mode\": \"markers\", \"text\": \"Hadoop appears with Linux 76 times\", \"x\": [-0.8997606878457433], \"y\": [-0.020753423991111204], \"type\": \"scatter\", \"uid\": \"f5ced218-08b8-47ed-9ed6-21cca8a41d8d\"}, {\"hoverinfo\": \"text\", \"marker\": {\"color\": \"blue\", \"size\": 0.5}, \"mode\": \"markers\", \"text\": \"Linux appears with Hadoop 76 times\", \"x\": [0.8875815607628743], \"y\": [-0.14899319781030276], \"type\": \"scatter\", \"uid\": \"ad189aec-146e-4e2a-b8ea-6095cafe964a\"}, {\"hoverinfo\": \"text\", \"marker\": {\"color\": \"green\", \"size\": 0.5}, \"mode\": \"markers\", \"text\": \"Hadoop appears with AWS 42 times\", \"x\": [-0.8999834277891325], \"y\": [0.005461657708362397], \"type\": \"scatter\", \"uid\": \"67097604-6280-4f8a-9d04-26d88a9c74e2\"}, {\"hoverinfo\": \"text\", \"marker\": {\"color\": \"blue\", \"size\": 0.5}, \"mode\": \"markers\", \"text\": \"AWS appears with Hadoop 42 times\", \"x\": [0.8973709730448336], \"y\": [-0.0687410847788179], \"type\": \"scatter\", \"uid\": \"c9dde289-43b9-4929-a48c-bb7487fe34b1\"}, {\"hoverinfo\": \"text\", \"marker\": {\"color\": \"green\", \"size\": 0.5}, \"mode\": \"markers\", \"text\": \"Spark appears with Informatica 10 times\", \"x\": [-0.8933191263098085], \"y\": [-0.10945747379270422], \"type\": \"scatter\", \"uid\": \"4b54b496-8218-4d7b-bd49-6079c34868d9\"}, {\"hoverinfo\": \"text\", \"marker\": {\"color\": \"blue\", \"size\": 0.5}, \"mode\": \"markers\", \"text\": \"Informatica appears with Spark 10 times\", \"x\": [-0.8591275486522841], \"y\": [-0.2681414834499077], \"type\": \"scatter\", \"uid\": \"1189dfbb-f821-4201-83ce-2b611152b258\"}, {\"hoverinfo\": \"text\", \"marker\": {\"color\": \"green\", \"size\": 0.5}, \"mode\": \"markers\", \"text\": \"Spark appears with Qlik 15 times\", \"x\": [-0.8930078237859224], \"y\": [-0.11196886467733413], \"type\": \"scatter\", \"uid\": \"431d58e1-19b8-4ba1-9c04-ee8f41531a48\"}, {\"hoverinfo\": \"text\", \"marker\": {\"color\": \"blue\", \"size\": 0.5}, \"mode\": \"markers\", \"text\": \"Qlik appears with Spark 15 times\", \"x\": [-0.7913517400306129], \"y\": [-0.42867519586572916], \"type\": \"scatter\", \"uid\": \"811fc756-b790-48d4-89ed-213d4e245c46\"}, {\"hoverinfo\": \"text\", \"marker\": {\"color\": \"green\", \"size\": 0.5}, \"mode\": \"markers\", \"text\": \"Spark appears with Tableau 33 times\", \"x\": [-0.8889447927776776], \"y\": [-0.14063127459228983], \"type\": \"scatter\", \"uid\": \"027ee715-2eef-4db7-800c-2da1506a972c\"}, {\"hoverinfo\": \"text\", \"marker\": {\"color\": \"blue\", \"size\": 0.5}, \"mode\": \"markers\", \"text\": \"Tableau appears with Spark 33 times\", \"x\": [-0.5212917723512676], \"y\": [-0.7336585636921812], \"type\": \"scatter\", \"uid\": \"a3918583-5516-44a0-9aa9-b70eb9093443\"}, {\"hoverinfo\": \"text\", \"marker\": {\"color\": \"green\", \"size\": 0.5}, \"mode\": \"markers\", \"text\": \"Spark appears with Microstrategy 3 times\", \"x\": [-0.8939087894614173], \"y\": [-0.10453265577619043], \"type\": \"scatter\", \"uid\": \"ba4b8490-d8c3-4092-9640-8ddfa20fb6ce\"}, {\"hoverinfo\": \"text\", \"marker\": {\"color\": \"blue\", \"size\": 0.5}, \"mode\": \"markers\", \"text\": \"Microstrategy appears with Spark 3 times\", \"x\": [-0.06732712415000064], \"y\": [-0.8974781659481696], \"type\": \"scatter\", \"uid\": \"2f5388d6-c8b8-4cfa-8755-5e5c6b192863\"}, {\"hoverinfo\": \"text\", \"marker\": {\"color\": \"green\", \"size\": 0.5}, \"mode\": \"markers\", \"text\": \"Spark appears with Oracle BI 30 times\", \"x\": [-0.8899189417338905], \"y\": [-0.13432898846947514], \"type\": \"scatter\", \"uid\": \"9451b504-4da4-44ab-bfd1-339bae25c4bb\"}, {\"hoverinfo\": \"text\", \"marker\": {\"color\": \"blue\", \"size\": 0.5}, \"mode\": \"markers\", \"text\": \"Oracle BI appears with Spark 30 times\", \"x\": [0.011818070082321872], \"y\": [-0.8999224039991056], \"type\": \"scatter\", \"uid\": \"4df4a587-ca3d-43e6-8364-81c6aa6b6571\"}, {\"hoverinfo\": \"text\", \"marker\": {\"color\": \"green\", \"size\": 0.5}, \"mode\": \"markers\", \"text\": \"Spark appears with Python 133 times\", \"x\": [-0.872065358435236], \"y\": [-0.22249047309317171], \"type\": \"scatter\", \"uid\": \"e89f82a3-d02e-4477-a14b-05d38ddde405\"}, {\"hoverinfo\": \"text\", \"marker\": {\"color\": \"blue\", \"size\": 0.5}, \"mode\": \"markers\", \"text\": \"Python appears with Spark 133 times\", \"x\": [0.7309461271760946], \"y\": [-0.5250883346316774], \"type\": \"scatter\", \"uid\": \"4fce360d-96ca-402a-9737-192e1f26b94f\"}, {\"hoverinfo\": \"text\", \"marker\": {\"color\": \"green\", \"size\": 0.5}, \"mode\": \"markers\", \"text\": \"Spark appears with VBA 6 times\", \"x\": [-0.8938025188704647], \"y\": [-0.10543745663099387], \"type\": \"scatter\", \"uid\": \"cf3a0d49-b712-4614-9a73-79fca9fd8b0f\"}, {\"hoverinfo\": \"text\", \"marker\": {\"color\": \"blue\", \"size\": 0.5}, \"mode\": \"markers\", \"text\": \"VBA appears with Spark 6 times\", \"x\": [0.8213105396323913], \"y\": [-0.368033962412099], \"type\": \"scatter\", \"uid\": \"ff723ccd-08ec-4ca9-8562-a5af408f5502\"}, {\"hoverinfo\": \"text\", \"marker\": {\"color\": \"green\", \"size\": 0.5}, \"mode\": \"markers\", \"text\": \"Spark appears with Linux 58 times\", \"x\": [-0.8845464234589828], \"y\": [-0.16606512200315204], \"type\": \"scatter\", \"uid\": \"6d13f32f-05a9-48ac-ac2a-ad01dd7d3c08\"}, {\"hoverinfo\": \"text\", \"marker\": {\"color\": \"blue\", \"size\": 0.5}, \"mode\": \"markers\", \"text\": \"Linux appears with Spark 58 times\", \"x\": [0.8829531219949579], \"y\": [-0.17433813225842756], \"type\": \"scatter\", \"uid\": \"17175253-41da-4549-bef1-cb8215e6d4dc\"}, {\"hoverinfo\": \"text\", \"marker\": {\"color\": \"green\", \"size\": 0.5}, \"mode\": \"markers\", \"text\": \"Spark appears with AWS 44 times\", \"x\": [-0.8863932921096381], \"y\": [-0.15590680454373265], \"type\": \"scatter\", \"uid\": \"cbf062e8-ecd7-4ad6-a628-e201367766e2\"}, {\"hoverinfo\": \"text\", \"marker\": {\"color\": \"blue\", \"size\": 0.5}, \"mode\": \"markers\", \"text\": \"AWS appears with Spark 44 times\", \"x\": [0.8983934928927182], \"y\": [-0.053750645838179616], \"type\": \"scatter\", \"uid\": \"dc67cf73-bd8c-4b28-bc38-021c529c3ce9\"}, {\"hoverinfo\": \"text\", \"marker\": {\"color\": \"green\", \"size\": 0.5}, \"mode\": \"markers\", \"text\": \"Informatica appears with Qlik 92 times\", \"x\": [-0.833080243491083], \"y\": [-0.34055441254642116], \"type\": \"scatter\", \"uid\": \"261524b4-a733-4cb1-89ba-39b9430e6d26\"}, {\"hoverinfo\": \"text\", \"marker\": {\"color\": \"blue\", \"size\": 0.5}, \"mode\": \"markers\", \"text\": \"Qlik appears with Informatica 92 times\", \"x\": [-0.7434793799705253], \"y\": [-0.5071867620104485], \"type\": \"scatter\", \"uid\": \"8b131ca3-0b7c-413b-80b3-6820766a8b25\"}, {\"hoverinfo\": \"text\", \"marker\": {\"color\": \"green\", \"size\": 0.5}, \"mode\": \"markers\", \"text\": \"Informatica appears with Tableau 66 times\", \"x\": [-0.839049904868718], \"y\": [-0.3255691280508569], \"type\": \"scatter\", \"uid\": \"106fee9d-7b4a-4bc7-a8a1-f76e642f851c\"}, {\"hoverinfo\": \"text\", \"marker\": {\"color\": \"blue\", \"size\": 0.5}, \"mode\": \"markers\", \"text\": \"Tableau appears with Informatica 66 times\", \"x\": [-0.4699959852573807], \"y\": [-0.7675309595331931], \"type\": \"scatter\", \"uid\": \"4d60dc28-04b3-4c7e-a2a8-23e37a21af98\"}, {\"hoverinfo\": \"text\", \"marker\": {\"color\": \"green\", \"size\": 0.5}, \"mode\": \"markers\", \"text\": \"Informatica appears with Microstrategy 12 times\", \"x\": [-0.8570336352367711], \"y\": [-0.27476052859325567], \"type\": \"scatter\", \"uid\": \"8319bbb8-2d88-4bea-b1c5-02c4d3765481\"}, {\"hoverinfo\": \"text\", \"marker\": {\"color\": \"blue\", \"size\": 0.5}, \"mode\": \"markers\", \"text\": \"Microstrategy appears with Informatica 12 times\", \"x\": [-0.06189462422223016], \"y\": [-0.8978691750429953], \"type\": \"scatter\", \"uid\": \"16958729-3c91-45ae-9374-3f21f16a9aa6\"}, {\"hoverinfo\": \"text\", \"marker\": {\"color\": \"green\", \"size\": 0.5}, \"mode\": \"markers\", \"text\": \"Informatica appears with Oracle BI 124 times\", \"x\": [-0.8148786271190872], \"y\": [-0.382063899190321], \"type\": \"scatter\", \"uid\": \"2780b6c3-7662-4995-8050-e6a09d3da4c4\"}, {\"hoverinfo\": \"text\", \"marker\": {\"color\": \"blue\", \"size\": 0.5}, \"mode\": \"markers\", \"text\": \"Oracle BI appears with Informatica 124 times\", \"x\": [0.12479107470287225], \"y\": [-0.8913064499230902], \"type\": \"scatter\", \"uid\": \"0be8253f-a1d0-4598-8713-2d632c24c419\"}, {\"hoverinfo\": \"text\", \"marker\": {\"color\": \"green\", \"size\": 0.5}, \"mode\": \"markers\", \"text\": \"Informatica appears with Python 25 times\", \"x\": [-0.8546650377668159], \"y\": [-0.28204197066934433], \"type\": \"scatter\", \"uid\": \"638416b2-e3df-430d-ad7d-34b9d045c5ef\"}, {\"hoverinfo\": \"text\", \"marker\": {\"color\": \"blue\", \"size\": 0.5}, \"mode\": \"markers\", \"text\": \"Python appears with Informatica 25 times\", \"x\": [0.5960520517512106], \"y\": [-0.6743307434806546], \"type\": \"scatter\", \"uid\": \"27a2f1bf-faea-4371-875c-8b4783e74f20\"}, {\"hoverinfo\": \"text\", \"marker\": {\"color\": \"green\", \"size\": 0.5}, \"mode\": \"markers\", \"text\": \"Informatica appears with VBA 3 times\", \"x\": [-0.8607241270440928], \"y\": [-0.26297143784864613], \"type\": \"scatter\", \"uid\": \"6f0d351f-74f0-49b9-b9fe-bafe69807aed\"}, {\"hoverinfo\": \"text\", \"marker\": {\"color\": \"blue\", \"size\": 0.5}, \"mode\": \"markers\", \"text\": \"VBA appears with Informatica 3 times\", \"x\": [0.8201204796005308], \"y\": [-0.370678295749556], \"type\": \"scatter\", \"uid\": \"d231d879-ee3d-487a-ab16-895503e9b9fc\"}, {\"hoverinfo\": \"text\", \"marker\": {\"color\": \"green\", \"size\": 0.5}, \"mode\": \"markers\", \"text\": \"Informatica appears with Linux 7 times\", \"x\": [-0.8601252965576038], \"y\": [-0.26492352523264906], \"type\": \"scatter\", \"uid\": \"92fc34a7-7981-452b-8f88-a39100e400a8\"}, {\"hoverinfo\": \"text\", \"marker\": {\"color\": \"blue\", \"size\": 0.5}, \"mode\": \"markers\", \"text\": \"Linux appears with Informatica 7 times\", \"x\": [0.8718886358957586], \"y\": [-0.2231820032973834], \"type\": \"scatter\", \"uid\": \"8ca44401-ec67-4a20-a2bc-ba08f2bf8cf7\"}, {\"hoverinfo\": \"text\", \"marker\": {\"color\": \"green\", \"size\": 0.5}, \"mode\": \"markers\", \"text\": \"Informatica appears with AWS 19 times\", \"x\": [-0.8560621265424572], \"y\": [-0.2777726327405314], \"type\": \"scatter\", \"uid\": \"f068ee93-1cd1-4dba-8351-5998cf9a0e8a\"}, {\"hoverinfo\": \"text\", \"marker\": {\"color\": \"blue\", \"size\": 0.5}, \"mode\": \"markers\", \"text\": \"AWS appears with Informatica 19 times\", \"x\": [0.8956558398437586], \"y\": [-0.08832109914268173], \"type\": \"scatter\", \"uid\": \"be45fde6-e261-4347-831d-c6d217df38c9\"}, {\"hoverinfo\": \"text\", \"marker\": {\"color\": \"green\", \"size\": 0.5}, \"mode\": \"markers\", \"text\": \"Qlik appears with Tableau 319 times\", \"x\": [-0.6489439095859227], \"y\": [-0.62359586449185], \"type\": \"scatter\", \"uid\": \"2fdb45eb-6244-4b61-9e73-c1f9071d66d4\"}, {\"hoverinfo\": \"text\", \"marker\": {\"color\": \"blue\", \"size\": 0.5}, \"mode\": \"markers\", \"text\": \"Tableau appears with Qlik 319 times\", \"x\": [-0.30570383521746525], \"y\": [-0.8464899084651469], \"type\": \"scatter\", \"uid\": \"9895ac18-7558-450d-be8a-c4da69890916\"}, {\"hoverinfo\": \"text\", \"marker\": {\"color\": \"green\", \"size\": 0.5}, \"mode\": \"markers\", \"text\": \"Qlik appears with Microstrategy 31 times\", \"x\": [-0.7803531137533531], \"y\": [-0.44838489922771285], \"type\": \"scatter\", \"uid\": \"e486377e-f372-443d-8800-b59e9fe127f5\"}, {\"hoverinfo\": \"text\", \"marker\": {\"color\": \"blue\", \"size\": 0.5}, \"mode\": \"markers\", \"text\": \"Microstrategy appears with Qlik 31 times\", \"x\": [-0.04359225403124576], \"y\": [-0.8989436664154631], \"type\": \"scatter\", \"uid\": \"dffc5216-22a2-43ba-ac53-36b1f2beec13\"}, {\"hoverinfo\": \"text\", \"marker\": {\"color\": \"green\", \"size\": 0.5}, \"mode\": \"markers\", \"text\": \"Qlik appears with Oracle BI 305 times\", \"x\": [-0.6961544330561521], \"y\": [-0.5704112598259851], \"type\": \"scatter\", \"uid\": \"1533e8e5-167a-4b9f-8180-ef4033535cb0\"}, {\"hoverinfo\": \"text\", \"marker\": {\"color\": \"blue\", \"size\": 0.5}, \"mode\": \"markers\", \"text\": \"Oracle BI appears with Qlik 305 times\", \"x\": [0.3502865841954116], \"y\": [-0.8290351674885155], \"type\": \"scatter\", \"uid\": \"67707c78-bfd6-40c1-8e9f-c086b6524311\"}, {\"hoverinfo\": \"text\", \"marker\": {\"color\": \"green\", \"size\": 0.5}, \"mode\": \"markers\", \"text\": \"Qlik appears with Python 44 times\", \"x\": [-0.7760584198448013], \"y\": [-0.45577771883670465], \"type\": \"scatter\", \"uid\": \"f5100eb1-a040-4c16-a0ac-ec9bf111ba2b\"}, {\"hoverinfo\": \"text\", \"marker\": {\"color\": \"blue\", \"size\": 0.5}, \"mode\": \"markers\", \"text\": \"Python appears with Qlik 44 times\", \"x\": [0.6076398811487981], \"y\": [-0.6639079566005175], \"type\": \"scatter\", \"uid\": \"24a8b15a-a2bd-42d4-b691-d74be08b7bbe\"}, {\"hoverinfo\": \"text\", \"marker\": {\"color\": \"green\", \"size\": 0.5}, \"mode\": \"markers\", \"text\": \"Qlik appears with VBA 29 times\", \"x\": [-0.7870779859300963], \"y\": [-0.43647250092557177], \"type\": \"scatter\", \"uid\": \"0ec67c1f-5d08-4f1b-a321-57063f8c5da1\"}, {\"hoverinfo\": \"text\", \"marker\": {\"color\": \"blue\", \"size\": 0.5}, \"mode\": \"markers\", \"text\": \"VBA appears with Qlik 29 times\", \"x\": [0.8263423750858262], \"y\": [-0.35659259546086447], \"type\": \"scatter\", \"uid\": \"3cedefa0-935c-4e67-b77e-ea7446930351\"}, {\"hoverinfo\": \"text\", \"marker\": {\"color\": \"green\", \"size\": 0.5}, \"mode\": \"markers\", \"text\": \"Qlik appears with Linux 2 times\", \"x\": [-0.7965587325923305], \"y\": [-0.418920261542576], \"type\": \"scatter\", \"uid\": \"822ce6e9-8221-4cc7-be0a-3def748c606d\"}, {\"hoverinfo\": \"text\", \"marker\": {\"color\": \"blue\", \"size\": 0.5}, \"mode\": \"markers\", \"text\": \"Linux appears with Qlik 2 times\", \"x\": [0.8710481342995258], \"y\": [-0.22644016369300574], \"type\": \"scatter\", \"uid\": \"8559cd41-e8f3-4b24-943d-43dd75353f2f\"}, {\"hoverinfo\": \"text\", \"marker\": {\"color\": \"green\", \"size\": 0.5}, \"mode\": \"markers\", \"text\": \"Qlik appears with AWS 3 times\", \"x\": [-0.796293263544797], \"y\": [-0.4194246516755738], \"type\": \"scatter\", \"uid\": \"59919651-a62e-4ad5-b4c6-4819adea1969\"}, {\"hoverinfo\": \"text\", \"marker\": {\"color\": \"blue\", \"size\": 0.5}, \"mode\": \"markers\", \"text\": \"AWS appears with Qlik 3 times\", \"x\": [0.8947375365467838], \"y\": [-0.09718405576118341], \"type\": \"scatter\", \"uid\": \"41a65af3-f940-405d-a191-d603ebda1f03\"}, {\"hoverinfo\": \"text\", \"marker\": {\"color\": \"green\", \"size\": 0.5}, \"mode\": \"markers\", \"text\": \"Tableau appears with Microstrategy 44 times\", \"x\": [-0.4923041044619289], \"y\": [-0.7534166634273084], \"type\": \"scatter\", \"uid\": \"cbbdb356-c5f1-4c0f-a5ab-b678b76cf579\"}, {\"hoverinfo\": \"text\", \"marker\": {\"color\": \"blue\", \"size\": 0.5}, \"mode\": \"markers\", \"text\": \"Microstrategy appears with Tableau 44 times\", \"x\": [-0.0323256784171024], \"y\": [-0.8994192851584148], \"type\": \"scatter\", \"uid\": \"3d16995b-e12c-4351-ac4e-f667065f149c\"}, {\"hoverinfo\": \"text\", \"marker\": {\"color\": \"green\", \"size\": 0.5}, \"mode\": \"markers\", \"text\": \"Tableau appears with Oracle BI 373 times\", \"x\": [-0.22923273675879127], \"y\": [-0.870317386013904], \"type\": \"scatter\", \"uid\": \"450d3599-baad-4002-a7e5-ac0b415022b4\"}, {\"hoverinfo\": \"text\", \"marker\": {\"color\": \"blue\", \"size\": 0.5}, \"mode\": \"markers\", \"text\": \"Oracle BI appears with Tableau 373 times\", \"x\": [0.4219776809281583], \"y\": [-0.7949432915614129], \"type\": \"scatter\", \"uid\": \"c3a3dd70-5733-4f02-a233-6667760066b5\"}, {\"hoverinfo\": \"text\", \"marker\": {\"color\": \"green\", \"size\": 0.5}, \"mode\": \"markers\", \"text\": \"Tableau appears with Python 115 times\", \"x\": [-0.4144535091612387], \"y\": [-0.7988919130545352], \"type\": \"scatter\", \"uid\": \"8123a09d-7093-4c9d-b0ed-436474b851ef\"}, {\"hoverinfo\": \"text\", \"marker\": {\"color\": \"blue\", \"size\": 0.5}, \"mode\": \"markers\", \"text\": \"Python appears with Tableau 115 times\", \"x\": [0.6966098912496305], \"y\": [-0.5698549459407877], \"type\": \"scatter\", \"uid\": \"e6f8191d-d07b-43d2-a57c-26443852d904\"}, {\"hoverinfo\": \"text\", \"marker\": {\"color\": \"green\", \"size\": 0.5}, \"mode\": \"markers\", \"text\": \"Tableau appears with VBA 59 times\", \"x\": [-0.48227762184311895], \"y\": [-0.759873868131643], \"type\": \"scatter\", \"uid\": \"d6f90216-a382-4d14-9204-817ccf6f2684\"}, {\"hoverinfo\": \"text\", \"marker\": {\"color\": \"blue\", \"size\": 0.5}, \"mode\": \"markers\", \"text\": \"VBA appears with Tableau 59 times\", \"x\": [0.8389306268796651], \"y\": [-0.3258763619584767], \"type\": \"scatter\", \"uid\": \"5ac99b65-8678-41d1-872a-a6078b00f255\"}, {\"hoverinfo\": \"text\", \"marker\": {\"color\": \"green\", \"size\": 0.5}, \"mode\": \"markers\", \"text\": \"Tableau appears with Linux 14 times\", \"x\": [-0.5348862223530941], \"y\": [-0.723807107686044], \"type\": \"scatter\", \"uid\": \"c0a6ddda-2dd8-44f9-9e62-9c9394f97245\"}, {\"hoverinfo\": \"text\", \"marker\": {\"color\": \"blue\", \"size\": 0.5}, \"mode\": \"markers\", \"text\": \"Linux appears with Tableau 14 times\", \"x\": [0.8723870877799063], \"y\": [-0.22122560673415329], \"type\": \"scatter\", \"uid\": \"61e2b2c9-10d6-4657-8bc8-279bc483c577\"}, {\"hoverinfo\": \"text\", \"marker\": {\"color\": \"green\", \"size\": 0.5}, \"mode\": \"markers\", \"text\": \"Tableau appears with AWS 32 times\", \"x\": [-0.5274085519848389], \"y\": [-0.7292737615554639], \"type\": \"scatter\", \"uid\": \"143f6301-302a-4d6c-89d3-2b7329cc2751\"}, {\"hoverinfo\": \"text\", \"marker\": {\"color\": \"blue\", \"size\": 0.5}, \"mode\": \"markers\", \"text\": \"AWS appears with Tableau 32 times\", \"x\": [0.8968540820526181], \"y\": [-0.07518480900790936], \"type\": \"scatter\", \"uid\": \"90a6fb58-06ff-4751-9408-9db7dc898b0b\"}, {\"hoverinfo\": \"text\", \"marker\": {\"color\": \"green\", \"size\": 0.5}, \"mode\": \"markers\", \"text\": \"Microstrategy appears with Oracle BI 54 times\", \"x\": [-0.024811699451552354], \"y\": [-0.8996579236411614], \"type\": \"scatter\", \"uid\": \"5e3db45f-c114-4b5c-a4a9-faa58a644bf7\"}, {\"hoverinfo\": \"text\", \"marker\": {\"color\": \"blue\", \"size\": 0.5}, \"mode\": \"markers\", \"text\": \"Oracle BI appears with Microstrategy 54 times\", \"x\": [0.057457666505131476], \"y\": [-0.8981640254206272], \"type\": \"scatter\", \"uid\": \"1f67b2bd-9f72-42c5-9b1a-16361dd7f83e\"}, {\"hoverinfo\": \"text\", \"marker\": {\"color\": \"green\", \"size\": 0.5}, \"mode\": \"markers\", \"text\": \"Microstrategy appears with Python 15 times\", \"x\": [-0.059828138264363166], \"y\": [-0.8980092393020354], \"type\": \"scatter\", \"uid\": \"3d2a238c-6bfb-4b64-a6a5-ae36beef3f67\"}, {\"hoverinfo\": \"text\", \"marker\": {\"color\": \"blue\", \"size\": 0.5}, \"mode\": \"markers\", \"text\": \"Python appears with Microstrategy 15 times\", \"x\": [0.5886863941796235], \"y\": [-0.6807703939712662], \"type\": \"scatter\", \"uid\": \"f1738546-9f12-42c6-92b3-010b190e228a\"}, {\"hoverinfo\": \"text\", \"marker\": {\"color\": \"green\", \"size\": 0.5}, \"mode\": \"markers\", \"text\": \"Microstrategy appears with VBA 7 times\", \"x\": [-0.06487896679355089], \"y\": [-0.8976584649340758], \"type\": \"scatter\", \"uid\": \"ab81b8fa-4df1-4b08-bd23-5354e5a12145\"}, {\"hoverinfo\": \"text\", \"marker\": {\"color\": \"blue\", \"size\": 0.5}, \"mode\": \"markers\", \"text\": \"VBA appears with Microstrategy 7 times\", \"x\": [0.8228165118036712], \"y\": [-0.36465461453715226], \"type\": \"scatter\", \"uid\": \"d8a23cac-5730-4dcf-96ca-fd796800cfb7\"}, {\"hoverinfo\": \"text\", \"marker\": {\"color\": \"green\", \"size\": 0.5}, \"mode\": \"markers\", \"text\": \"Microstrategy appears with Linux 5 times\", \"x\": [-0.06579708334296472], \"y\": [-0.897591635335111], \"type\": \"scatter\", \"uid\": \"002f949c-2e5c-4de2-944b-7fd2ddb1504a\"}, {\"hoverinfo\": \"text\", \"marker\": {\"color\": \"blue\", \"size\": 0.5}, \"mode\": \"markers\", \"text\": \"Linux appears with Microstrategy 5 times\", \"x\": [0.8716018362476081], \"y\": [-0.22429944059180743], \"type\": \"scatter\", \"uid\": \"deeaaa9e-d639-4407-b128-7b5ff3821254\"}, {\"hoverinfo\": \"text\", \"marker\": {\"color\": \"green\", \"size\": 0.5}, \"mode\": \"markers\", \"text\": \"Microstrategy appears with AWS 2 times\", \"x\": [-0.06770960395418868], \"y\": [-0.8974493910702525], \"type\": \"scatter\", \"uid\": \"220922a5-add8-4ec3-a95a-e5756e562a5d\"}, {\"hoverinfo\": \"text\", \"marker\": {\"color\": \"blue\", \"size\": 0.5}, \"mode\": \"markers\", \"text\": \"AWS appears with Microstrategy 2 times\", \"x\": [0.8946522978404051], \"y\": [-0.09796563667369819], \"type\": \"scatter\", \"uid\": \"ae274599-758b-48e5-9ce2-11eb1e52117c\"}, {\"hoverinfo\": \"text\", \"marker\": {\"color\": \"green\", \"size\": 0.5}, \"mode\": \"markers\", \"text\": \"Oracle BI appears with Python 138 times\", \"x\": [0.21515011917970264], \"y\": [-0.8739052730227458], \"type\": \"scatter\", \"uid\": \"fffe754d-8f51-4ff3-a451-b9a858fe7075\"}, {\"hoverinfo\": \"text\", \"marker\": {\"color\": \"blue\", \"size\": 0.5}, \"mode\": \"markers\", \"text\": \"Python appears with Oracle BI 138 times\", \"x\": [0.7485011934721586], \"y\": [-0.49974589880333603], \"type\": \"scatter\", \"uid\": \"dd634333-52da-406d-aea7-d97a8d8d242e\"}, {\"hoverinfo\": \"text\", \"marker\": {\"color\": \"green\", \"size\": 0.5}, \"mode\": \"markers\", \"text\": \"Oracle BI appears with VBA 63 times\", \"x\": [0.08536090422869919], \"y\": [-0.895942808458921], \"type\": \"scatter\", \"uid\": \"e1a8f510-2e99-4d78-a47d-65db959e6bf8\"}, {\"hoverinfo\": \"text\", \"marker\": {\"color\": \"blue\", \"size\": 0.5}, \"mode\": \"markers\", \"text\": \"VBA appears with Oracle BI 63 times\", \"x\": [0.8432705327789942], \"y\": [-0.31447544983135217], \"type\": \"scatter\", \"uid\": \"9d6e6c1a-b56f-4070-b57e-d718fa9e6844\"}, {\"hoverinfo\": \"text\", \"marker\": {\"color\": \"green\", \"size\": 0.5}, \"mode\": \"markers\", \"text\": \"Oracle BI appears with Linux 3 times\", \"x\": [0.007953214275733247], \"y\": [-0.8999648584154185], \"type\": \"scatter\", \"uid\": \"ee6e64e4-da93-4f01-81c2-d624d7f2104e\"}, {\"hoverinfo\": \"text\", \"marker\": {\"color\": \"blue\", \"size\": 0.5}, \"mode\": \"markers\", \"text\": \"Linux appears with Oracle BI 3 times\", \"x\": [0.8711689516630063], \"y\": [-0.22597490493056646], \"type\": \"scatter\", \"uid\": \"d62a55e6-e5cf-42d2-b44f-d7ad3ad72157\"}, {\"hoverinfo\": \"text\", \"marker\": {\"color\": \"green\", \"size\": 0.5}, \"mode\": \"markers\", \"text\": \"Oracle BI appears with AWS 43 times\", \"x\": [0.04611553809408422], \"y\": [-0.8988177552464643], \"type\": \"scatter\", \"uid\": \"af25ad74-c714-4fa2-bbad-9176b09dfd65\"}, {\"hoverinfo\": \"text\", \"marker\": {\"color\": \"blue\", \"size\": 0.5}, \"mode\": \"markers\", \"text\": \"AWS appears with Oracle BI 43 times\", \"x\": [0.8979075670301921], \"y\": [-0.06133515362270811], \"type\": \"scatter\", \"uid\": \"33441f7a-d5fa-41ce-9954-538c27dbccf2\"}, {\"hoverinfo\": \"text\", \"marker\": {\"color\": \"green\", \"size\": 0.5}, \"mode\": \"markers\", \"text\": \"Python appears with VBA 58 times\", \"x\": [0.6318876597755201], \"y\": [-0.6408728309293635], \"type\": \"scatter\", \"uid\": \"abe53005-d923-4d2a-ade1-267d0fa763a3\"}, {\"hoverinfo\": \"text\", \"marker\": {\"color\": \"blue\", \"size\": 0.5}, \"mode\": \"markers\", \"text\": \"VBA appears with Python 58 times\", \"x\": [0.8346237904853626], \"y\": [-0.33675380971244495], \"type\": \"scatter\", \"uid\": \"a9718560-0163-4648-a193-b56d3eabb8ae\"}, {\"hoverinfo\": \"text\", \"marker\": {\"color\": \"green\", \"size\": 0.5}, \"mode\": \"markers\", \"text\": \"Python appears with Linux 82 times\", \"x\": [0.6662307508962363], \"y\": [-0.6050922132702066], \"type\": \"scatter\", \"uid\": \"cdced4d0-d915-4fcd-954f-1e50ee577e56\"}, {\"hoverinfo\": \"text\", \"marker\": {\"color\": \"blue\", \"size\": 0.5}, \"mode\": \"markers\", \"text\": \"Linux appears with Python 82 times\", \"x\": [0.8899696697497853], \"y\": [-0.13399248831728633], \"type\": \"scatter\", \"uid\": \"40c27075-9b53-41d2-bda1-b035db7bf04d\"}, {\"hoverinfo\": \"text\", \"marker\": {\"color\": \"green\", \"size\": 0.5}, \"mode\": \"markers\", \"text\": \"Python appears with AWS 78 times\", \"x\": [0.6538573809861885], \"y\": [-0.6184420145251149], \"type\": \"scatter\", \"uid\": \"dcc0cce0-22bb-4873-928f-f3994ad804aa\"}, {\"hoverinfo\": \"text\", \"marker\": {\"color\": \"blue\", \"size\": 0.5}, \"mode\": \"markers\", \"text\": \"AWS appears with Python 78 times\", \"x\": [0.8993160967840955], \"y\": [-0.0350793110681994], \"type\": \"scatter\", \"uid\": \"66d74a56-b645-4c22-955b-5b71da366145\"}, {\"hoverinfo\": \"text\", \"marker\": {\"color\": \"green\", \"size\": 0.5}, \"mode\": \"markers\", \"text\": \"VBA appears with AWS 5 times\", \"x\": [0.8204496229175755], \"y\": [-0.36994920766830713], \"type\": \"scatter\", \"uid\": \"9f2b5b6d-4453-4ad7-ace6-adf388097ab9\"}, {\"hoverinfo\": \"text\", \"marker\": {\"color\": \"blue\", \"size\": 0.5}, \"mode\": \"markers\", \"text\": \"AWS appears with VBA 5 times\", \"x\": [0.894812731072968], \"y\": [-0.09648925489263745], \"type\": \"scatter\", \"uid\": \"9d8ef26b-16a7-4191-ab90-015b69a153ef\"}, {\"hoverinfo\": \"text\", \"marker\": {\"color\": \"green\", \"size\": 0.5}, \"mode\": \"markers\", \"text\": \"Linux appears with AWS 23 times\", \"x\": [0.8739939366521444], \"y\": [-0.21478966151862944], \"type\": \"scatter\", \"uid\": \"e773bc08-f637-44ab-80db-6c16eb4ce481\"}, {\"hoverinfo\": \"text\", \"marker\": {\"color\": \"blue\", \"size\": 0.5}, \"mode\": \"markers\", \"text\": \"AWS appears with Linux 23 times\", \"x\": [0.8960084524085747], \"y\": [-0.08466908061619036], \"type\": \"scatter\", \"uid\": \"a39e6161-fbc9-4628-b5dd-e49553c0217c\"}], {\"autosize\": false, \"font\": {\"color\": \"#655643\", \"family\": \"Fira Sans Condensed\", \"size\": 12}, \"height\": 525, \"hidesources\": true, \"hoverdistance\": 40, \"hovermode\": \"closest\", \"margin\": {\"b\": 10, \"l\": 280, \"r\": 280, \"t\": 80}, \"paper_bgcolor\": \"#fffaf0\", \"plot_bgcolor\": \"#fffaf0\", \"shapes\": [{\"fillcolor\": \"#f2e6ce\", \"layer\": \"below\", \"line\": {\"color\": \"rgb(175,175,175)\", \"width\": 0.5}, \"path\": \"M 0.9750801846658901,0.22185272924157082 Q 0.1842538926889151, 0.07778497945607345 0.8390756248935435, 0.5440147936495013L 0.8390756248935435, 0.5440147936495013 L 0.8521026202936544, 0.5233747457498196 L 0.8646220060745403, 0.502422916089262 M 0.8646220060745403,0.502422916089262 Q 0.18439680406021858, 0.07744558510578484 0.9640777149787676, 0.26562032957083354L 0.9640777149787676, 0.26562032957083354 L 0.9698258816139191, 0.2437986040808775 L 0.9750801846658901, 0.22185272924157082 \", \"type\": \"path\"}, {\"fillcolor\": \"#f2e6ce\", \"layer\": \"below\", \"line\": {\"color\": \"rgb(175,175,175)\", \"width\": 0.5}, \"path\": \"M 0.9981849830298577,0.06022241819856359 Q 0.14543278386725483, 0.13729277248500865 0.11755296474159527, 0.9930666143217489L 0.11755296474159527, 0.9930666143217489 L 0.13169124006793198, 0.9912907834179486 L 0.14580277622483756, 0.9893136764672416 M 0.14580277622483756,0.9893136764672416 Q 0.14553016126996834, 0.1371895482926342 0.9961883925296214, 0.08722778564911988L 0.9961883925296214, 0.08722778564911988 L 0.9972781020121282, 0.07373186046131794 L 0.9981849830298577, 0.06022241819856359 \", \"type\": \"path\"}, {\"fillcolor\": \"#f2e6ce\", \"layer\": \"below\", \"line\": {\"color\": \"rgb(175,175,175)\", \"width\": 0.5}, \"path\": \"M 0.9961883925296214,0.08722778564911988 Q 0.0973756684129059, 0.17469395868529572 -0.4497031039134961, 0.8931781000061338L -0.4497031039134961, 0.8931781000061338 L -0.43645787885035525, 0.8997246912191799 L -0.42311737771932134, 0.9060748780713023 M -0.42311737771932134,0.9060748780713023 Q 0.09746353850289484, 0.17464495029199884 0.9932931380854352, 0.11562327547855011L 0.9932931380854352, 0.11562327547855011 L 0.9948420809984218, 0.10143586089115414 L 0.9961883925296214, 0.08722778564911988 \", \"type\": \"path\"}, {\"fillcolor\": \"#f2e6ce\", \"layer\": \"below\", \"line\": {\"color\": \"rgb(175,175,175)\", \"width\": 0.5}, \"path\": \"M 0.9999992560253165,0.0012198150735044618 Q 0.0730608181219825, 0.18617764864598166 -0.7322756833554535, 0.6810083138745838L -0.7322756833554535, 0.6810083138745838 L -0.7318919890902139, 0.6814206603160563 L -0.7315080626315991, 0.6818327905762266 M -0.7315080626315991,0.6818327905762266 Q 0.07305213147717758, 0.18618105727125187 0.9999970241023729, 0.002439628331985857L 0.9999970241023729, 0.002439628331985857 L 0.9999983260572215, 0.0018297220430619106 L 0.9999992560253165, 0.0012198150735044618 \", \"type\": \"path\"}, {\"fillcolor\": \"#f2e6ce\", \"layer\": \"below\", \"line\": {\"color\": \"rgb(175,175,175)\", \"width\": 0.5}, \"path\": \"M 0.9994496281941568,0.03317289107933997 Q 0.04631852892996645, 0.19456257059815968 -0.8772909013023563, 0.4799590341811469L -0.8772909013023563, 0.4799590341811469 L -0.874889381666317, 0.48432279509386034 L -0.8724661562820535, 0.4886745401004839 M -0.8724661562820535,0.4886745401004839 Q 0.0463145785888351, 0.1945635109935535 0.9990678254309079, 0.043168045922383054L 0.9990678254309079, 0.043168045922383054 L 0.9992712238882331, 0.03817094587395978 L 0.9994496281941568, 0.03317289107933997 \", \"type\": \"path\"}, {\"fillcolor\": \"#f2e6ce\", \"layer\": \"below\", \"line\": {\"color\": \"rgb(175,175,175)\", \"width\": 0.5}, \"path\": \"M 0.9999933042344903,0.00365943796042382 Q 0.02725621173419973, 0.1981340428142031 -0.9618603806391917, 0.27354087108991454L -0.9618603806391917, 0.27354087108991454 L -0.9617206353023804, 0.274031785808847 L -0.9615806394123192, 0.2745226291353689 M -0.9615806394123192,0.2745226291353689 Q 0.02721232997808494, 0.19814007443514253 0.9999868763136607, 0.005123202167351515L 0.9999868763136607, 0.005123202167351515 L 0.9999903581024003, 0.00439132124001922 L 0.9999933042344903, 0.00365943796042382 \", \"type\": \"path\"}, {\"fillcolor\": \"#f2e6ce\", \"layer\": \"below\", \"line\": {\"color\": \"rgb(175,175,175)\", \"width\": 0.5}, \"path\": \"M 0.9999868763136607,0.005123202167351515 Q 0.01860844271036636, 0.19913243296835154 -0.9817241838549043, 0.19030929255930193L -0.9817241838549043, 0.19030929255930193 L -0.9815622288698396, 0.1911428545775978 L -0.9813995661243673, 0.19197627877137205 M -0.9813995661243673,0.19197627877137205 Q 0.018583211950521296, 0.1991347891092915 0.9999749727929372, 0.007074870158844368L 0.9999749727929372, 0.007074870158844368 L 0.9999814006882617, 0.006099039067117693 L 0.9999868763136607, 0.005123202167351515 \", \"type\": \"path\"}, {\"fillcolor\": \"#f2e6ce\", \"layer\": \"below\", \"line\": {\"color\": \"rgb(175,175,175)\", \"width\": 0.5}, \"path\": \"M 0.9998928695451657,0.014637261790863214 Q 0.002456268218627985, 0.1999849162973002 -0.9992317358901363, 0.039191044767715684L -0.9992317358901363, 0.039191044767715684 L -0.999137507373281, 0.04152398535674208 L -0.9990378320674911, 0.04385669957814411 M -0.9990378320674911,0.04385669957814411 Q 0.0024109177804373006, 0.19998546816070406 0.9998047576134418, 0.019759723012403724L 0.9998047576134418, 0.019759723012403724 L 0.9998520940210021, 0.017198548828816114 L 0.9998928695451657, 0.014637261790863214 \", \"type\": \"path\"}, {\"fillcolor\": \"#f2e6ce\", \"layer\": \"below\", \"line\": {\"color\": \"rgb(175,175,175)\", \"width\": 0.5}, \"path\": \"M 0.9998047576134418,0.019759723012403724 Q -0.016600985211733248, 0.19930982737938394 -0.9892968012812792, -0.14591723330240775L -0.9892968012812792, -0.14591723330240775 L -0.9897192711320951, -0.14302364961695813 L -0.9901332775892635, -0.1401288428923267 M -0.9901332775892635,-0.1401288428923267 Q -0.016650265472469006, 0.19930571657555715 0.9996593086585429, 0.02610108450474712L 0.9996593086585429, 0.02610108450474712 L 0.9997370610788714, 0.022930519082238636 L 0.9998047576134418, 0.019759723012403724 \", \"type\": \"path\"}, {\"fillcolor\": \"#f2e6ce\", \"layer\": \"below\", \"line\": {\"color\": \"rgb(175,175,175)\", \"width\": 0.5}, \"path\": \"M 0.9999749727929372,0.007074870158844368 Q -0.031195461451960366, 0.19755212776581088 -0.9534983754559221, -0.301398155274576L -0.9534983754559221, -0.301398155274576 L -0.9538737210410919, -0.3002081349784197 L -0.9542475814137691, -0.299017647248406 M -0.9542475814137691,-0.299017647248406 Q -0.031214028389896953, 0.19754919496589884 0.9999523859922043, 0.009758368126778673L 0.9999523859922043, 0.009758368126778673 L 0.9999645795700286, 0.008416626719537535 L 0.9999749727929372, 0.007074870158844368 \", \"type\": \"path\"}, {\"fillcolor\": \"#f2e6ce\", \"layer\": \"below\", \"line\": {\"color\": \"rgb(175,175,175)\", \"width\": 0.5}, \"path\": \"M 0.9889832434392132,0.14802751162015088 Q -0.07755055552518368, 0.18435268193800547 -0.7974064955032263, -0.6034425249593064L -0.7974064955032263, -0.6034425249593064 L -0.8085779689666758, -0.5883890448518951 L -0.8194653007877684, -0.5731287994899683 M -0.8194653007877684,-0.5731287994899683 Q -0.07742279611510522, 0.184406373647222 0.9829950543925657, 0.18363203162780925L 0.9829950543925657, 0.18363203162780925 L 0.9861498477620548, 0.1658567989528195 L 0.9889832434392132, 0.14802751162015088 \", \"type\": \"path\"}, {\"fillcolor\": \"#f2e6ce\", \"layer\": \"below\", \"line\": {\"color\": \"rgb(175,175,175)\", \"width\": 0.5}, \"path\": \"M 0.9829950543925657,0.18363203162780925 Q -0.12636955976392858, 0.15501849684818547 -0.377973675965397, -0.9258163426280641L -0.377973675965397, -0.9258163426280641 L -0.39694938960524256, -0.9178404992655452 L -0.4157569190494591, -0.9094757744231022 M -0.4157569190494591,-0.9094757744231022 Q -0.12620406881966906, 0.15515325653482184 0.9750801846658901, 0.22185272924157082L 0.9750801846658901, 0.22185272924157082 L 0.9792241142276766, 0.20278100037977462 L 0.9829950543925657, 0.18363203162780925 \", \"type\": \"path\"}, {\"fillcolor\": \"#f2e6ce\", \"layer\": \"below\", \"line\": {\"color\": \"rgb(175,175,175)\", \"width\": 0.5}, \"path\": \"M 0.9999523859922043,0.009758368126778673 Q -0.13790138197482527, 0.144855820902832 -0.05890467097598501, -0.9982636123475657L -0.05890467097598501, -0.9982636123475657 L -0.06060633865748641, -0.998161746268877 L -0.062307830213960934, -0.9980569794826487 M -0.062307830213960934,-0.9980569794826487 Q -0.13800780167389928, 0.14475443577706934 0.9998928695451657, 0.014637261790863214L 0.9998928695451657, 0.014637261790863214 L 0.9999256034449155, 0.01219785125837756 L 0.9999523859922043, 0.009758368126778673 \", \"type\": \"path\"}, {\"fillcolor\": \"#f2e6ce\", \"layer\": \"below\", \"line\": {\"color\": \"rgb(175,175,175)\", \"width\": 0.5}, \"path\": \"M 0.9932931380854352,0.11562327547855011 Q -0.16326927479512204, 0.11551252706037958 0.22157976860923534, -0.9751422491837166L 0.22157976860923534, -0.9751422491837166 L 0.20454195908830214, -0.9788577971147389 L 0.18744194994287183, -0.9822756819761008 M 0.18744194994287183,-0.9822756819761008 Q -0.1631429295151329, 0.115690900892077 0.9889832434392132, 0.14802751162015088L 0.9889832434392132, 0.14802751162015088 L 0.9912706097820078, 0.13184300581527458 L 0.9932931380854352, 0.11562327547855011 \", \"type\": \"path\"}, {\"fillcolor\": \"#f2e6ce\", \"layer\": \"below\", \"line\": {\"color\": \"rgb(175,175,175)\", \"width\": 0.5}, \"path\": \"M 0.9990678254309079,0.043168045922383054 Q -0.18702930284728378, 0.07085223974200823 0.7196978599596091, -0.6942873975304168L 0.7196978599596091, -0.6942873975304168 L 0.7135264282649535, -0.7006283152766938 L 0.7072991318698147, -0.7069143781648569 M 0.7072991318698147,-0.7069143781648569 Q -0.18700735093866905, 0.07091015932080173 0.9981849830298577, 0.06022241819856359L 0.9981849830298577, 0.06022241819856359 L 0.9986628100262558, 0.051697116655210686 L 0.9990678254309079, 0.043168045922383054 \", \"type\": \"path\"}, {\"fillcolor\": \"#f2e6ce\", \"layer\": \"below\", \"line\": {\"color\": \"rgb(175,175,175)\", \"width\": 0.5}, \"path\": \"M 0.9996593086585429,0.02610108450474712 Q -0.19655739212908518, 0.036948499284991894 0.9219450269603195, -0.3873207550120903L 0.9219450269603195, -0.3873207550120903 L 0.9206923029753018, -0.3902892302409009 L 0.9194300211338134, -0.3932536538137636 M 0.9194300211338134,-0.3932536538137636 Q -0.1965690389352938, 0.03688648712001403 0.9994496281941568, 0.03317289107933997L 0.9994496281941568, 0.03317289107933997 L 0.9995607224992087, 0.029637173226541434 L 0.9996593086585429, 0.02610108450474712 \", \"type\": \"path\"}, {\"fillcolor\": \"#f2e6ce\", \"layer\": \"below\", \"line\": {\"color\": \"rgb(175,175,175)\", \"width\": 0.5}, \"path\": \"M 1.0,0.0 Q -0.1984093363443491, 0.025174098819917043 0.9683132374302525, -0.2497388119963401L 0.9683132374302525, -0.2497388119963401 L 0.9681797139175737, -0.25025595209402124 L 0.9680459142196173, -0.25077302080308655 M 0.9680459142196173,-0.25077302080308655 Q -0.19841124417374983, 0.02515905772131838 0.9999992560253165, 0.0012198150735044618L 0.9999992560253165, 0.0012198150735044618 L 0.9999998140063118, 0.0006099076501912042 L 1.0, 0.0 \", \"type\": \"path\"}, {\"fillcolor\": \"#f2e6ce\", \"layer\": \"below\", \"line\": {\"color\": \"rgb(175,175,175)\", \"width\": 0.5}, \"path\": \"M 0.9999970241023729,0.002439628331985857 Q -0.19973214410877016, 0.010347492919228323 0.9943914072675498, -0.1057626075343354L 0.9943914072675498, -0.1057626075343354 L 0.9943399616610671, -0.10624519115643637 L 0.9942882818541108, -0.1067277497542247 M 0.9942882818541108,-0.1067277497542247 Q -0.1997334317490093, 0.010322608282980041 0.9999933042344903, 0.00365943796042382L 0.9999933042344903, 0.00365943796042382 L 0.999995350161255, 0.003049533713398861 L 0.9999970241023729, 0.002439628331985857 \", \"type\": \"path\"}, {\"fillcolor\": \"#ecd5bb\", \"layer\": \"below\", \"line\": {\"color\": \"rgb(175,175,175)\", \"width\": 0.5}, \"path\": \"M 0.5550576571102622,0.8318118761374272 Q 0.034912135561824285, 0.1969292837302589 -0.23528629647544244, 0.971926107629006L -0.23528629647544244, 0.971926107629006 L -0.16993013901563855, 0.9854561115819038 L -0.10381702973554492, 0.9945964127910824 M -0.10381702973554492,0.9945964127910824 Q 0.03454745400676986, 0.19699358726022054 0.43606421537480317, 0.8999155516322391L 0.43606421537480317, 0.8999155516322391 L 0.4967294728356182, 0.8679054273458883 L 0.5550576571102622, 0.8318118761374272 \", \"type\": \"path\"}, {\"fillcolor\": \"#ecd5bb\", \"layer\": \"below\", \"line\": {\"color\": \"rgb(175,175,175)\", \"width\": 0.5}, \"path\": \"M 0.8060992665173825,0.5917803414444737 Q 0.026923813860720153, 0.19817948493018467 -0.6190030052625022, 0.7853886168490034L -0.6190030052625022, 0.7853886168490034 L -0.5945131287191703, 0.8040859032345632 L -0.569458855553554, 0.8220198366412069 M -0.569458855553554,0.8220198366412069 Q 0.026650425553590706, 0.19821643427781796 0.7663542250942741, 0.6424182451333047L 0.7663542250942741, 0.6424182451333047 L 0.7866343147504579, 0.6174191889284603 L 0.8060992665173825, 0.5917803414444737 \", \"type\": \"path\"}, {\"fillcolor\": \"#ecd5bb\", \"layer\": \"below\", \"line\": {\"color\": \"rgb(175,175,175)\", \"width\": 0.5}, \"path\": \"M 0.9442057469091351,0.32935620155655554 Q 0.047231301308600024, 0.19434300650318304 -0.6877300026239147, 0.7259665581078169L -0.6877300026239147, 0.7259665581078169 L -0.6833419473359535, 0.7300984748724701 L -0.6789290677620684, 0.7342038687910387 M -0.6789290677620684,0.7342038687910387 Q 0.04686414170709171, 0.19443187038666687 0.9388732224158416, 0.344263085779602L 0.9388732224158416, 0.344263085779602 L 0.941568985777364, 0.3368201968739198 L 0.9442057469091351, 0.32935620155655554 \", \"type\": \"path\"}, {\"fillcolor\": \"#ecd5bb\", \"layer\": \"below\", \"line\": {\"color\": \"rgb(175,175,175)\", \"width\": 0.5}, \"path\": \"M 0.9113347235674254,0.41166615311473487 Q 0.017772673023173834, 0.19920876510237032 -0.8240670245337736, 0.5664923115771766L -0.8240670245337736, 0.5664923115771766 L -0.8174387158401651, 0.5760155777803078 L -0.8107003577629951, 0.5854612966908672 M -0.8107003577629951,0.5854612966908672 Q 0.017376952528230603, 0.19924367372850668 0.8998110714854316, 0.4362797676173392L 0.8998110714854316, 0.4362797676173392 L 0.9056565189072135, 0.4240121103941112 L 0.9113347235674254, 0.41166615311473487 \", \"type\": \"path\"}, {\"fillcolor\": \"#ecd5bb\", \"layer\": \"below\", \"line\": {\"color\": \"rgb(175,175,175)\", \"width\": 0.5}, \"path\": \"M 0.8862822258647588,0.46314556687526287 Q -0.016927709183609592, 0.19928234407943707 -0.9517027489997989, 0.3070209724859618L -0.9517027489997989, 0.3070209724859618 L -0.9451594361316114, 0.3266093083354707 L -0.9382129958978799, 0.34605833948674725 M -0.9382129958978799,0.34605833948674725 Q -0.017281641877802748, 0.1992519632375234 0.8646220060745403, 0.502422916089262L 0.8646220060745403, 0.502422916089262 L 0.8756723616148088, 0.4829057000118591 L 0.8862822258647588, 0.46314556687526287 \", \"type\": \"path\"}, {\"fillcolor\": \"#ecd5bb\", \"layer\": \"below\", \"line\": {\"color\": \"rgb(175,175,175)\", \"width\": 0.5}, \"path\": \"M 0.9486358780601083,0.31636999044967495 Q -0.008053553219122163, 0.19983778491703408 -0.9710178253533744, 0.23900707697891208L -0.9710178253533744, 0.23900707697891208 L -0.9699510520936788, 0.24330013674958256 L -0.968865298475453, 0.24758843553379345 M -0.968865298475453,0.24758843553379345 Q -0.00854052752691836, 0.19981756526782612 0.9442057469091351, 0.32935620155655554L 0.9442057469091351, 0.32935620155655554 L 0.94644308583442, 0.322870694359554 L 0.9486358780601083, 0.31636999044967495 \", \"type\": \"path\"}, {\"fillcolor\": \"#ecd5bb\", \"layer\": \"below\", \"line\": {\"color\": \"rgb(175,175,175)\", \"width\": 0.5}, \"path\": \"M 0.9388732224158416,0.344263085779602 Q -0.02644940472951481, 0.19824335799580858 -0.996288574954924, 0.08607598628123247L -0.996288574954924, 0.08607598628123247 L -0.9957005470143538, 0.09263056015871107 L -0.9950693970598462, 0.09918112237192198 M -0.9950693970598462,0.09918112237192198 Q -0.026766366412366346, 0.19820081137341228 0.9331157364899756, 0.35957617039338197L 0.9331157364899756, 0.35957617039338197 L 0.9360257946266324, 0.3519314021135106 L 0.9388732224158416, 0.344263085779602 \", \"type\": \"path\"}, {\"fillcolor\": \"#ecd5bb\", \"layer\": \"below\", \"line\": {\"color\": \"rgb(175,175,175)\", \"width\": 0.5}, \"path\": \"M 0.9266132245662363,0.3760158667649036 Q -0.03974409292455411, 0.19601124222249197 -0.9998932540070942, -0.014610975022378238L -0.9998932540070942, -0.014610975022378238 L -0.9999781783614669, -0.006606269816042247 L -0.9999990215966388, 0.0013988587366954087 M -0.9999990215966388,0.0013988587366954087 Q -0.0400369087012197, 0.1959516418447424 0.9193026739138589, 0.39355125934854945L 0.9193026739138589, 0.39355125934854945 L 0.9229995929379708, 0.3848009244224085 L 0.9266132245662363, 0.3760158667649036 \", \"type\": \"path\"}, {\"fillcolor\": \"#ecd5bb\", \"layer\": \"below\", \"line\": {\"color\": \"rgb(175,175,175)\", \"width\": 0.5}, \"path\": \"M 0.9193026739138589,0.39355125934854945 Q -0.060389120303716716, 0.19066503126935266 -0.978244216878727, -0.207456627137641L -0.978244216878727, -0.207456627137641 L -0.9799593667662594, -0.19919748865653886 L -0.9816047875396189, -0.19092417625670038 M -0.9816047875396189,-0.19092417625670038 Q -0.06066737071462972, 0.19057667782436993 0.9113347235674254, 0.41166615311473487L 0.9113347235674254, 0.41166615311473487 L 0.9153635111846563, 0.40262841726795384 L 0.9193026739138589, 0.39355125934854945 \", \"type\": \"path\"}, {\"fillcolor\": \"#ecd5bb\", \"layer\": \"below\", \"line\": {\"color\": \"rgb(175,175,175)\", \"width\": 0.5}, \"path\": \"M 0.8998110714854316,0.4362797676173392 Q -0.08480956270054607, 0.18112796049904098 -0.911302262740548, -0.41173800641179237L -0.911302262740548, -0.41173800641179237 L -0.9165504543977379, -0.3999190724925484 L -0.9216453706674187, -0.3880332598210061 M -0.9216453706674187,-0.3880332598210061 Q -0.08519131100214221, 0.18094872348191984 0.8862822258647588, 0.46314556687526287L 0.8862822258647588, 0.46314556687526287 L 0.8931476694826341, 0.44976353842629274 L 0.8998110714854316, 0.4362797676173392 \", \"type\": \"path\"}, {\"fillcolor\": \"#ecd5bb\", \"layer\": \"below\", \"line\": {\"color\": \"rgb(175,175,175)\", \"width\": 0.5}, \"path\": \"M 0.7113009716491767,0.702887564074751 Q -0.14886633557488962, 0.13356202354151556 -0.6219090910088622, -0.7830894473305912L -0.6219090910088622, -0.7830894473305912 L -0.657912656539105, -0.7530942413573866 L -0.6924714661970195, -0.7214452636915362 M -0.6924714661970195,-0.7214452636915362 Q -0.14912653405653686, 0.13327144045250114 0.6393986734692482, 0.7688753711530665L 0.6393986734692482, 0.7688753711530665 L 0.6761552931845694, 0.7367591326196704 L 0.7113009716491767, 0.702887564074751 \", \"type\": \"path\"}, {\"fillcolor\": \"#ecd5bb\", \"layer\": \"below\", \"line\": {\"color\": \"rgb(175,175,175)\", \"width\": 0.5}, \"path\": \"M 0.6393986734692482,0.7688753711530665 Q -0.18418857727664423, 0.07793951501520688 -0.10668701109037192, -0.9942926539327357L -0.10668701109037192, -0.9942926539327357 L -0.1575628007102444, -0.9875089689883043 L -0.20802351250490156, -0.9781238256198052 M -0.20802351250490156,-0.9781238256198052 Q -0.18429052992537137, 0.07769813755699555 0.5550576571102622, 0.8318118761374272L 0.5550576571102622, 0.8318118761374272 L 0.5980566297018024, 0.8014538462505008 L 0.6393986734692482, 0.7688753711530665 \", \"type\": \"path\"}, {\"fillcolor\": \"#ecd5bb\", \"layer\": \"below\", \"line\": {\"color\": \"rgb(175,175,175)\", \"width\": 0.5}, \"path\": \"M 0.9552586646452796,0.29577167481034633 Q -0.1585968770831371, 0.12184839178042649 -0.039665110307351904, -0.9992130298511452L -0.039665110307351904, -0.9992130298511452 L -0.042730989406571794, -0.9990866141352988 L -0.045796466168075624, -0.9989507914239402 M -0.045796466168075624,-0.9989507914239402 Q -0.15880149861980491, 0.12158159415020063 0.9524059908847756, 0.3048324597656698L 0.9524059908847756, 0.3048324597656698 L 0.9538430866477214, 0.3003054545864049 L 0.9552586646452796, 0.29577167481034633 \", \"type\": \"path\"}, {\"fillcolor\": \"#ecd5bb\", \"layer\": \"below\", \"line\": {\"color\": \"rgb(175,175,175)\", \"width\": 0.5}, \"path\": \"M 0.43606421537480317,0.8999155516322391 Q -0.19870526360192192, -0.02272043610696599 0.6279500990229483, -0.778253604641231L 0.6279500990229483, -0.778253604641231 L 0.5710062586953764, -0.8209457062015179 L 0.5111701480521456, -0.8594795400359148 M 0.5111701480521456,-0.8594795400359148 Q -0.1986828391530584, -0.0229157026093447 0.3020899605251275, 0.9532794216544942L 0.3020899605251275, 0.9532794216544942 L 0.3700402984886436, 0.9290157035779512 L 0.43606421537480317, 0.8999155516322391 \", \"type\": \"path\"}, {\"fillcolor\": \"#ecd5bb\", \"layer\": \"below\", \"line\": {\"color\": \"rgb(175,175,175)\", \"width\": 0.5}, \"path\": \"M 0.7663542250942741,0.6424182451333047 Q -0.19854758260985406, -0.024059456348454338 0.8976136249888661, -0.44078314422666753L 0.8976136249888661, -0.44078314422666753 L 0.8796565356218129, -0.475609481967959 L 0.860348882430292, -0.5097056017947494 M 0.860348882430292,-0.5097056017947494 Q -0.1985060565761517, -0.024399702920028996 0.7113009716491767, 0.702887564074751L 0.7113009716491767, 0.702887564074751 L 0.739445978249285, 0.6732158979487619 L 0.7663542250942741, 0.6424182451333047 \", \"type\": \"path\"}, {\"fillcolor\": \"#ecd5bb\", \"layer\": \"below\", \"line\": {\"color\": \"rgb(175,175,175)\", \"width\": 0.5}, \"path\": \"M 0.8390756248935435,0.5440147936495013 Q -0.19791505795164202, -0.028803295575301438 0.9593302137114759, -0.2822862750122543L 0.9593302137114759, -0.2822862750122543 L 0.9521445250169464, -0.3056481694371055 L 0.9443900135354616, -0.3288274659065004 M 0.9443900135354616,-0.3288274659065004 Q -0.19778097619678928, -0.029710022797787863 0.8060992665173825, 0.5917803414444737L 0.8060992665173825, 0.5917803414444737 L 0.8229340755621172, 0.5681368737185816 L 0.8390756248935435, 0.5440147936495013 \", \"type\": \"path\"}, {\"fillcolor\": \"#ecd5bb\", \"layer\": \"below\", \"line\": {\"color\": \"rgb(175,175,175)\", \"width\": 0.5}, \"path\": \"M 0.9331157364899756,0.35957617039338197 Q -0.19906581630228393, -0.019308049614224443 0.9848252796182199, -0.17354874999519598L 0.9848252796182199, -0.17354874999519598 L 0.9835579909746534, -0.18059257567769446 L 0.9822403230147129, -0.18762715113744213 M 0.9822403230147129,-0.18762715113744213 Q -0.19903304544076192, -0.019642984054761357 0.9266132245662363, 0.3760158667649036L 0.9266132245662363, 0.3760158667649036 L 0.9299008108674824, 0.3678103885808539 L 0.9331157364899756, 0.35957617039338197 \", \"type\": \"path\"}, {\"fillcolor\": \"#ecd5bb\", \"layer\": \"below\", \"line\": {\"color\": \"rgb(175,175,175)\", \"width\": 0.5}, \"path\": \"M 0.9524059908847756,0.3048324597656698 Q -0.1982705808186389, -0.02624455718505408 0.9989163790815561, -0.046541031387293014L 0.9989163790815561, -0.046541031387293014 L 0.9986986205446811, -0.05100064040922657 L 0.9984609524200881, -0.05545923270629137 M 0.9984609524200881,-0.05545923270629137 Q -0.1982282280216114, -0.026562560407687386 0.9486358780601083, 0.31636999044967495L 0.9486358780601083, 0.31636999044967495 L 0.9505384397929078, 0.3106069453120207 L 0.9524059908847756, 0.3048324597656698 \", \"type\": \"path\"}, {\"fillcolor\": \"#e6c4a9\", \"layer\": \"below\", \"line\": {\"color\": \"rgb(175,175,175)\", \"width\": 0.5}, \"path\": \"M -0.04262885830976893,0.9990909770582485 Q -0.06371856544454067, 0.18957833319683395 -0.569458855553554, 0.8220198366412069L -0.569458855553554, 0.8220198366412069 L -0.5443937216820687, 0.8388298252882681 L -0.5188327340544994, 0.8548757769837283 M -0.5188327340544994,0.8548757769837283 Q -0.0638133672844655, 0.18954644326870898 -0.10381702973554492, 0.9945964127910824L -0.10381702973554492, 0.9945964127910824 L -0.07325742152391834, 0.9973130652867569 L -0.04262885830976893, 0.9990909770582485 \", \"type\": \"path\"}, {\"fillcolor\": \"#e6c4a9\", \"layer\": \"below\", \"line\": {\"color\": \"rgb(175,175,175)\", \"width\": 0.5}, \"path\": \"M 0.2319987678869561,0.9727160796958866 Q -0.049083182110053414, 0.19388357649360435 -0.6668915530878976, 0.7451547868865984L -0.6668915530878976, 0.7451547868865984 L -0.6641173535441325, 0.7476283439795055 L -0.6613339794397479, 0.750091572835202 M -0.6613339794397479,0.750091572835202 Q -0.04928344102833518, 0.19383276926362739 0.22274796956864132, 0.9748760649708493L 0.22274796956864132, 0.9748760649708493 L 0.22737593362254627, 0.9738070572804838 L 0.2319987678869561, 0.9727160796958866 \", \"type\": \"path\"}, {\"fillcolor\": \"#e6c4a9\", \"layer\": \"below\", \"line\": {\"color\": \"rgb(175,175,175)\", \"width\": 0.5}, \"path\": \"M 0.21322623385054715,0.9770028521953822 Q -0.06818254324890603, 0.18801899051987025 -0.789903217806444, 0.6132315276459825L -0.789903217806444, 0.6132315276459825 L -0.7856009916324512, 0.6187334498361222 L -0.7812604436081044, 0.6242051900242963 M -0.7812604436081044,0.6242051900242963 Q -0.06836580462900364, 0.18795243216683552 0.19764760835610282, 0.9802731368915056L 0.19764760835610282, 0.9802731368915056 L 0.20544342832739187, 0.9786689929476093 L 0.21322623385054715, 0.9770028521953822 \", \"type\": \"path\"}, {\"fillcolor\": \"#e6c4a9\", \"layer\": \"below\", \"line\": {\"color\": \"rgb(175,175,175)\", \"width\": 0.5}, \"path\": \"M 0.11755296474159527,0.9930666143217489 Q -0.0985169048459227, 0.17405292143362439 -0.9119203393605994, 0.4103672680178687L -0.9119203393605994, 0.4103672680178687 L -0.9062010855399645, 0.4228470084630964 L -0.9003110546940228, 0.4352470617887456 M -0.9003110546940228,0.4352470617887456 Q -0.09865233659208827, 0.17397619516738871 0.08869622478265811, 0.9960587230225456L 0.08869622478265811, 0.9960587230225456 L 0.10313544600898468, 0.9946673211564396 L 0.11755296474159527, 0.9930666143217489 \", \"type\": \"path\"}, {\"fillcolor\": \"#e6c4a9\", \"layer\": \"below\", \"line\": {\"color\": \"rgb(175,175,175)\", \"width\": 0.5}, \"path\": \"M 0.2551564728714271,0.9668997747190826 Q -0.10087552515368486, 0.1726966369822189 -0.9675459692272588, 0.2526950680802545L -0.9675459692272588, 0.2526950680802545 L -0.9668979191159376, 0.25516350446188385 L -0.9662435714562221, 0.2576302789260702 M -0.9662435714562221,0.2576302789260702 Q -0.10109979445286249, 0.17256544138844532 0.24770150500509683, 0.9688363971374165L 0.24770150500509683, 0.9688363971374165 L 0.2514308535265999, 0.9678752636031595 L 0.2551564728714271, 0.9668997747190826 \", \"type\": \"path\"}, {\"fillcolor\": \"#e6c4a9\", \"layer\": \"below\", \"line\": {\"color\": \"rgb(175,175,175)\", \"width\": 0.5}, \"path\": \"M 0.23998260504607444,0.9707771882750953 Q -0.1095785177158452, 0.16730973807641383 -0.985793386332423, 0.16796249421598314L -0.985793386332423, 0.16796249421598314 L -0.9852171997829349, 0.171309863264999 L -0.9846296469102082, 0.1746552559343087 M -0.9846296469102082,0.1746552559343087 Q -0.10969750765091804, 0.16723174583546266 0.2319987678869561, 0.9727160796958866L 0.2319987678869561, 0.9727160796958866 L 0.23599267769132704, 0.9717548333175798 L 0.23998260504607444, 0.9707771882750953 \", \"type\": \"path\"}, {\"fillcolor\": \"#e6c4a9\", \"layer\": \"below\", \"line\": {\"color\": \"rgb(175,175,175)\", \"width\": 0.5}, \"path\": \"M 0.24770150500509683,0.9688363971374165 Q -0.12059161731653185, 0.159554573212375 -0.9996598972596761, 0.02607853160693215L -0.9996598972596761, 0.02607853160693215 L -0.9995640755019918, 0.029523871118950846 L -0.9994563793767304, 0.03296885990078014 M -0.9994563793767304,0.03296885990078014 Q -0.12067662883360138, 0.1594902857648616 0.23998260504607444, 0.9707771882750953L 0.23998260504607444, 0.9707771882750953 L 0.24384398591447926, 0.9698144722230841 L 0.24770150500509683, 0.9688363971374165 \", \"type\": \"path\"}, {\"fillcolor\": \"#e6c4a9\", \"layer\": \"below\", \"line\": {\"color\": \"rgb(175,175,175)\", \"width\": 0.5}, \"path\": \"M 0.22274796956864132,0.9748760649708493 Q -0.1374449293327629, 0.14528899270320453 -0.9857266435882287, -0.1683537469742954L -0.9857266435882287, -0.1683537469742954 L -0.9864371694622238, -0.16413930273811916 L -0.9871296766928961, -0.15992186026987823 M -0.9871296766928961,-0.15992186026987823 Q -0.1375326994084482, 0.14520591101406802 0.21322623385054715, 0.9770028521953822L 0.21322623385054715, 0.9770028521953822 L 0.21798969543931104, 0.975951070844372 L 0.22274796956864132, 0.9748760649708493 \", \"type\": \"path\"}, {\"fillcolor\": \"#e6c4a9\", \"layer\": \"below\", \"line\": {\"color\": \"rgb(175,175,175)\", \"width\": 0.5}, \"path\": \"M 0.19764760835610282,0.9802731368915056 Q -0.1525098561569817, 0.129386026196714 -0.9349598437159514, -0.3547535632501014L -0.9349598437159514, -0.3547535632501014 L -0.9375501549516156, -0.34785012138879795 L -0.9400894941900289, -0.34092776788278134 M -0.9400894941900289,-0.34092776788278134 Q -0.15263540043158394, 0.12923789898899637 0.18126147175503313, 0.9834349388023589L 0.18126147175503313, 0.9834349388023589 L 0.18946113584452542, 0.9818882207280533 L 0.19764760835610282, 0.9802731368915056 \", \"type\": \"path\"}, {\"fillcolor\": \"#e6c4a9\", \"layer\": \"below\", \"line\": {\"color\": \"rgb(175,175,175)\", \"width\": 0.5}, \"path\": \"M 0.16431835984930512,0.9864073583547693 Q -0.16790094920753054, 0.10867047094408973 -0.8325989232813367, -0.5538763697349426L -0.8325989232813367, -0.5538763697349426 L -0.8376846364465379, -0.546154236330207 L -0.8426987310745666, -0.5383854090197052 M -0.8426987310745666,-0.5383854090197052 Q -0.1679145159801132, 0.10864950677828365 0.14580277622483756, 0.9893136764672416L 0.14580277622483756, 0.9893136764672416 L 0.15506737706952417, 0.9879038964235226 L 0.16431835984930512, 0.9864073583547693 \", \"type\": \"path\"}, {\"fillcolor\": \"#e6c4a9\", \"layer\": \"below\", \"line\": {\"color\": \"rgb(175,175,175)\", \"width\": 0.5}, \"path\": \"M 0.08869622478265811,0.9960587230225456 Q -0.19333986703961809, 0.051182964090630806 -0.4157569190494591, -0.9094757744231022L -0.4157569190494591, -0.9094757744231022 L -0.4316051301413545, -0.9020626428556192 L -0.44732121813509274, -0.8943733715882516 M -0.44732121813509274,-0.8943733715882516 Q -0.19333793790555903, 0.05119025069704394 0.05386918799813258, 0.9985480011418689L 0.05386918799813258, 0.9985480011418689 L 0.07129357163677624, 0.9974553757653882 L 0.08869622478265811, 0.9960587230225456 \", \"type\": \"path\"}, {\"fillcolor\": \"#e6c4a9\", \"layer\": \"below\", \"line\": {\"color\": \"rgb(175,175,175)\", \"width\": 0.5}, \"path\": \"M 0.26804230206424134,0.963407143581623 Q -0.19740615514893925, 0.0321062285127501 -0.051074871288464836, -0.9986948270231837L -0.051074871288464836, -0.9986948270231837 L -0.05320286521185575, -0.9985837246486892 L -0.055330617556895924, -0.9984680880032033 M -0.055330617556895924,-0.9984680880032033 Q -0.19744066533703997, 0.03189331703142503 0.2618530138201015, 0.9651077655647217L 0.2618530138201015, 0.9651077655647217 L 0.2649490224134149, 0.9642624204655991 L 0.26804230206424134, 0.963407143581623 \", \"type\": \"path\"}, {\"fillcolor\": \"#e6c4a9\", \"layer\": \"below\", \"line\": {\"color\": \"rgb(175,175,175)\", \"width\": 0.5}, \"path\": \"M 0.016922829628744217,0.9998567986653671 Q -0.1970633270199892, -0.03414740317817442 0.35234805290518895, -0.9358690344347985L 0.35234805290518895, -0.9358690344347985 L 0.3239360412107857, -0.946078982540403 L 0.2952287665284633, -0.9554265934199666 M 0.2952287665284633,-0.9554265934199666 Q -0.19707728552372944, -0.034066751101307406 -0.04262885830976893, 0.9990909770582485L -0.04262885830976893, 0.9990909770582485 L -0.012858716822486667, 0.9999173232831198 L 0.016922829628744217, 0.9998567986653671 \", \"type\": \"path\"}, {\"fillcolor\": \"#e6c4a9\", \"layer\": \"below\", \"line\": {\"color\": \"rgb(175,175,175)\", \"width\": 0.5}, \"path\": \"M 0.05386918799813258,0.9985480011418689 Q -0.17636960086900358, -0.09430675420831945 0.860348882430292, -0.5097056017947494L 0.860348882430292, -0.5097056017947494 L 0.8509289846137915, -0.5252807469764543 L 0.8412271573275014, -0.5406818563394663 M 0.8412271573275014,-0.5406818563394663 Q -0.17634286908398383, -0.09435673014273516 0.016922829628744217, 0.9998567986653671L 0.016922829628744217, 0.9998567986653671 L 0.035402057534278816, 0.9993731506911417 L 0.05386918799813258, 0.9985480011418689 \", \"type\": \"path\"}, {\"fillcolor\": \"#e6c4a9\", \"layer\": \"below\", \"line\": {\"color\": \"rgb(175,175,175)\", \"width\": 0.5}, \"path\": \"M 0.18126147175503313,0.9834349388023589 Q -0.17289082928683563, -0.10054233510571685 0.9443900135354616, -0.3288274659065004L 0.9443900135354616, -0.3288274659065004 L 0.9419161155029843, -0.3358482266675957 L 0.9393900247181945, -0.3428503776575866 M 0.9393900247181945,-0.3428503776575866 Q -0.17277437098462534, -0.10074232839708969 0.16431835984930512, 0.9864073583547693L 0.16431835984930512, 0.9864073583547693 L 0.1727963073170824, 0.9849575809026399 L 0.18126147175503313, 0.9834349388023589 \", \"type\": \"path\"}, {\"fillcolor\": \"#e6c4a9\", \"layer\": \"below\", \"line\": {\"color\": \"rgb(175,175,175)\", \"width\": 0.5}, \"path\": \"M 0.27199766711776296,0.9622979107752935 Q -0.17296996516607938, -0.10040613104011771 0.9705151018229904, -0.24104032262986744L 0.9705151018229904, -0.24104032262986744 L 0.9701017179927061, -0.24269869539740035 L 0.9696855004114606, -0.24435635922106735 M 0.9696855004114606,-0.24435635922106735 Q -0.17293532871346892, -0.10046577567890701 0.26804230206424134, 0.963407143581623L 0.26804230206424134, 0.963407143581623 L 0.27002055417667686, 0.9628545582392599 L 0.27199766711776296, 0.9622979107752935 \", \"type\": \"path\"}, {\"fillcolor\": \"#e6c4a9\", \"layer\": \"below\", \"line\": {\"color\": \"rgb(175,175,175)\", \"width\": 0.5}, \"path\": \"M 0.2618530138201015,0.9651077655647217 Q -0.16398043334065882, -0.11450073135753217 0.9962402550721983, -0.08663344719957439L 0.9962402550721983, -0.08663344719957439 L 0.9960097923778585, -0.08924401093303307 L 0.9957724889328274, -0.09185396172469636 M 0.9957724889328274,-0.09185396172469636 Q -0.16388357885750277, -0.11463931516219328 0.2551564728714271, 0.9668997747190826L 0.2551564728714271, 0.9668997747190826 L 0.258506296164062, 0.9660095728529496 L 0.2618530138201015, 0.9651077655647217 \", \"type\": \"path\"}, {\"fillcolor\": \"#e1b396\", \"layer\": \"below\", \"line\": {\"color\": \"rgb(175,175,175)\", \"width\": 0.5}, \"path\": \"M -0.3443224221183398,0.9388514630262659 Q -0.10646866784306347, 0.1693057080187299 -0.6970074860931459, 0.7170638495490572L -0.6970074860931459, 0.7170638495490572 L -0.6923830534606755, 0.7215301152969786 L -0.6877300026239147, 0.7259665581078169 M -0.6877300026239147,0.7259665581078169 Q -0.10674837120518695, 0.16912949253468368 -0.3594523745338194, 0.9331634317963808L -0.3594523745338194, 0.9331634317963808 L -0.35189889105468214, 0.9360380176437734 L -0.3443224221183398, 0.9388514630262659 \", \"type\": \"path\"}, {\"fillcolor\": \"#e1b396\", \"layer\": \"below\", \"line\": {\"color\": \"rgb(175,175,175)\", \"width\": 0.5}, \"path\": \"M -0.3594523745338194,0.9331634317963808 Q -0.12065717700899126, 0.15950500191599307 -0.8001520435277687, 0.599797221766103L -0.8001520435277687, 0.599797221766103 L -0.7950560066232891, 0.6065360222874058 L -0.789903217806444, 0.6132315276459825 M -0.789903217806444,0.6132315276459825 Q -0.1208201820439851, 0.15938156609488532 -0.37706298759207263, 0.9261876178119315L -0.37706298759207263, 0.9261876178119315 L -0.36827419833195596, 0.9297172230538462 L -0.3594523745338194, 0.9331634317963808 \", \"type\": \"path\"}, {\"fillcolor\": \"#e1b396\", \"layer\": \"below\", \"line\": {\"color\": \"rgb(175,175,175)\", \"width\": 0.5}, \"path\": \"M -0.48431503972969236,0.8748936748494793 Q -0.15176471342425593, 0.13025924826765076 -0.9382129958978799, 0.34605833948674725L -0.9382129958978799, 0.34605833948674725 L -0.9313980363087867, 0.3640023323553518 L -0.9242399212249308, 0.38181221564289125 M -0.9242399212249308,0.38181221564289125 Q -0.15186335375868998, 0.13014423454445836 -0.5188327340544994, 0.8548757769837283L -0.5188327340544994, 0.8548757769837283 L -0.5016737416596427, 0.8650569096476913 L -0.48431503972969236, 0.8748936748494793 \", \"type\": \"path\"}, {\"fillcolor\": \"#e1b396\", \"layer\": \"below\", \"line\": {\"color\": \"rgb(175,175,175)\", \"width\": 0.5}, \"path\": \"M -0.2678898047437237,0.9634495588843089 Q -0.14122267756676798, 0.1416197561813771 -0.9626935890075738, 0.2705938906991739L -0.9626935890075738, 0.2705938906991739 L -0.9624630475965444, 0.2714127521159828 L -0.9622318096670207, 0.27223141711589877 M -0.9622318096670207,0.27223141711589877 Q -0.14128102941750645, 0.1415615439543158 -0.27032225982090113, 0.9627698976626353L -0.27032225982090113, 0.9627698976626353 L -0.26910624685349277, 0.963110496207173 L -0.2678898047437237, 0.9634495588843089 \", \"type\": \"path\"}, {\"fillcolor\": \"#e1b396\", \"layer\": \"below\", \"line\": {\"color\": \"rgb(175,175,175)\", \"width\": 0.5}, \"path\": \"M -0.2957559721728198,0.9552635264282365 Q -0.154068046956442, 0.12752661254431402 -0.9937016532320151, 0.11205812939702318L -0.9937016532320151, 0.11205812939702318 L -0.9931674702285302, 0.11669779809345754 L -0.9926116243782512, 0.12133492139186276 M -0.9926116243782512,0.12133492139186276 Q -0.15418098161078814, 0.12739005027683212 -0.30635309572421826, 0.9519179485334794L -0.30635309572421826, 0.9519179485334794 L -0.3010591812813926, 0.9536054579154722 L -0.2957559721728198, 0.9552635264282365 \", \"type\": \"path\"}, {\"fillcolor\": \"#e1b396\", \"layer\": \"below\", \"line\": {\"color\": \"rgb(175,175,175)\", \"width\": 0.5}, \"path\": \"M -0.2805195609792646,0.9598483088009275 Q -0.15803303201178082, 0.12257879422299545 -0.9994563793767304, 0.03296885990078014L -0.9994563793767304, 0.03296885990078014 L -0.9993489002462476, 0.03608012717016993 L -0.9992317358901363, 0.039191044767715684 M -0.9992317358901363,0.039191044767715684 Q -0.15808483810597593, 0.12251197476576477 -0.28730029674634255, 0.957840560578567L -0.28730029674634255, 0.957840560578567 L -0.2839117036511762, 0.958850428653962 L -0.2805195609792646, 0.9598483088009275 \", \"type\": \"path\"}, {\"fillcolor\": \"#e1b396\", \"layer\": \"below\", \"line\": {\"color\": \"rgb(175,175,175)\", \"width\": 0.5}, \"path\": \"M -0.2744534678218097,0.9616003816558014 Q -0.16771961486042086, 0.10895012983504011 -0.9901332775892635, -0.1401288428923267L -0.9901332775892635, -0.1401288428923267 L -0.9905233760438008, -0.13734424454920235 L -0.9909056432573515, -0.13455856033985455 M -0.9909056432573515,-0.13455856033985455 Q -0.1677572187773346, 0.1088922198694356 -0.2805195609792646, 0.9598483088009275L -0.2805195609792646, 0.9598483088009275 L -0.2774878972387476, 0.9607291329433173 L -0.2744534678218097, 0.9616003816558014 \", \"type\": \"path\"}, {\"fillcolor\": \"#e1b396\", \"layer\": \"below\", \"line\": {\"color\": \"rgb(175,175,175)\", \"width\": 0.5}, \"path\": \"M -0.3169123871439301,0.9484548164645145 Q -0.18007112979306883, 0.08703096124396058 -0.9400894941900289, -0.34092776788278134L -0.9400894941900289, -0.34092776788278134 L -0.9422742425045092, -0.33484212983517087 L -0.9444195961084902, -0.32874249266907407 M -0.9444195961084902,-0.32874249266907407 Q -0.18013479687808373, 0.08689910789928469 -0.33053309015037735, 0.9437944036259394L -0.33053309015037735, 0.9437944036259394 L -0.32373112513190616, 0.9461491207102769 L -0.3169123871439301, 0.9484548164645145 \", \"type\": \"path\"}, {\"fillcolor\": \"#e1b396\", \"layer\": \"below\", \"line\": {\"color\": \"rgb(175,175,175)\", \"width\": 0.5}, \"path\": \"M -0.33053309015037735,0.9437944036259394 Q -0.18846292125071418, 0.06694570422101113 -0.8518475897815462, -0.5237897324149937L -0.8518475897815462, -0.5237897324149937 L -0.8556725771236442, -0.5175175753137098 L -0.8594513834035759, -0.5112174875389922 M -0.8594513834035759,-0.5112174875389922 Q -0.18846143733544388, 0.06694988153431315 -0.3443224221183398, 0.9388514630262659L -0.3443224221183398, 0.9388514630262659 L -0.3374368070843948, 0.9413481827807865 L -0.33053309015037735, 0.9437944036259394 \", \"type\": \"path\"}, {\"fillcolor\": \"#e1b396\", \"layer\": \"below\", \"line\": {\"color\": \"rgb(175,175,175)\", \"width\": 0.5}, \"path\": \"M -0.37706298759207263,0.9261876178119315 Q -0.19971526139779683, 0.01066838154593677 -0.4735857832615627, -0.8807476970691052L -0.4735857832615627, -0.8807476970691052 L -0.48408936789506246, -0.8750185620265201 L -0.4945236559689123, -0.8691641695831351 M -0.4945236559689123,-0.8691641695831351 Q -0.19971290550188364, 0.010712393569865461 -0.3987115613350195, 0.9170763822374836L -0.3987115613350195, 0.9170763822374836 L -0.3879140257121178, 0.9216955618075952 L -0.37706298759207263, 0.9261876178119315 \", \"type\": \"path\"}, {\"fillcolor\": \"#e1b396\", \"layer\": \"below\", \"line\": {\"color\": \"rgb(175,175,175)\", \"width\": 0.5}, \"path\": \"M -0.27032225982090113,0.9627698976626353 Q -0.19888400687164184, -0.021098621061119826 -0.062307830213960934, -0.9980569794826487L -0.062307830213960934, -0.9980569794826487 L -0.06375395586532694, -0.9979656472602261 L -0.06519994765755, -0.9978722196881987 M -0.06519994765755,-0.9978722196881987 Q -0.19886923638573709, -0.021237392009232886 -0.2744534678218097, 0.9616003816558014L -0.2744534678218097, 0.9616003816558014 L -0.2723884914952977, 0.9621873568598354 L -0.27032225982090113, 0.9627698976626353 \", \"type\": \"path\"}, {\"fillcolor\": \"#e1b396\", \"layer\": \"below\", \"line\": {\"color\": \"rgb(175,175,175)\", \"width\": 0.5}, \"path\": \"M -0.4497031039134961,0.8931781000061338 Q -0.18550476094881102, -0.07475281710627689 0.2952287665284633, -0.9554265934199666L 0.2952287665284633, -0.9554265934199666 L 0.2758977643487405, -0.9611869868175322 L 0.25645450770706185, -0.966556302279763 M 0.25645450770706185,-0.966556302279763 Q -0.18554941229556413, -0.07464191581658901 -0.48431503972969236, 0.8748936748494793L -0.48431503972969236, 0.8748936748494793 L -0.46709854764759706, 0.8842052628126037 L -0.4497031039134961, 0.8931781000061338 \", \"type\": \"path\"}, {\"fillcolor\": \"#e1b396\", \"layer\": \"below\", \"line\": {\"color\": \"rgb(175,175,175)\", \"width\": 0.5}, \"path\": \"M -0.3987115613350195,0.9170763822374836 Q -0.16037575991268907, -0.11949734571289657 0.764725321316298, -0.6443564098677725L 0.764725321316298, -0.6443564098677725 L 0.7560231910349046, -0.6545448301051656 L 0.7471853311703558, -0.6646157392688242 M 0.7471853311703558,-0.6646157392688242 Q -0.16037733798309067, -0.11949522777691797 -0.42311737771932134, 0.9060748780713023L -0.42311737771932134, 0.9060748780713023 L -0.4109512860915215, 0.9116573042869368 L -0.3987115613350195, 0.9170763822374836 \", \"type\": \"path\"}, {\"fillcolor\": \"#e1b396\", \"layer\": \"below\", \"line\": {\"color\": \"rgb(175,175,175)\", \"width\": 0.5}, \"path\": \"M -0.28730029674634255,0.957840560578567 Q -0.14821471122005458, -0.13428476971703016 0.9249293855795062, -0.3801389636587087L 0.9249293855795062, -0.3801389636587087 L 0.9234441880565075, -0.38373276058300976 L 0.9219450269603195, -0.3873207550120903 M 0.9219450269603195,-0.3873207550120903 Q -0.14814335236878845, -0.13436348889834987 -0.2957559721728198, 0.9552635264282365L -0.2957559721728198, 0.9552635264282365 L -0.291530981986026, 0.9565613867088005 L -0.28730029674634255, 0.957840560578567 \", \"type\": \"path\"}, {\"fillcolor\": \"#e1b396\", \"layer\": \"below\", \"line\": {\"color\": \"rgb(175,175,175)\", \"width\": 0.5}, \"path\": \"M -0.30635309572421826,0.9519179485334794 Q -0.13341667415081204, -0.14899661425192198 0.9798400681204072, -0.19978348506769947L 0.9798400681204072, -0.19978348506769947 L 0.9788902511967104, -0.20438658496105194 L 0.9779188099209195, -0.2089851698155937 M 0.9779188099209195,-0.2089851698155937 Q -0.1332890397891938, -0.14911080400854498 -0.3169123871439301, 0.9484548164645145L -0.3169123871439301, 0.9484548164645145 L -0.31163755206112176, 0.9502010503811031 L -0.30635309572421826, 0.9519179485334794 \", \"type\": \"path\"}, {\"fillcolor\": \"#e1b396\", \"layer\": \"below\", \"line\": {\"color\": \"rgb(175,175,175)\", \"width\": 0.5}, \"path\": \"M -0.265699133699839,0.9640559995929464 Q -0.12918951928148004, -0.15267635084655418 0.994735025458679, -0.10248038410213622L 0.994735025458679, -0.10248038410213622 L 0.9946451218706909, -0.1033493180376078 L 0.9945544592403253, -0.10421817310423427 M 0.9945544592403253,-0.10421817310423427 Q -0.1291493672467746, -0.15271031707045124 -0.2678898047437237, 0.9634495588843089L -0.2678898047437237, 0.9634495588843089 L -0.26679464153148813, 0.9637534016801625 L -0.265699133699839, 0.9640559995929464 \", \"type\": \"path\"}, {\"fillcolor\": \"#dba284\", \"layer\": \"below\", \"line\": {\"color\": \"rgb(175,175,175)\", \"width\": 0.5}, \"path\": \"M -0.6970074860931459,0.7170638495490572 Q -0.15134405090204656, 0.13074776578037098 -0.8107003577629951, 0.5854612966908672L -0.8107003577629951, 0.5854612966908672 L -0.8054580959758215, 0.5926527276803881 L -0.8001520435277687, 0.599797221766103 M -0.8001520435277687,0.599797221766103 Q -0.151218010323693, 0.13089351914339947 -0.7083003021841405, 0.7059112422435665L -0.7083003021841405, 0.7059112422435665 L -0.7026760207311953, 0.7115099506608272 L -0.6970074860931459, 0.7170638495490572 \", \"type\": \"path\"}, {\"fillcolor\": \"#dba284\", \"layer\": \"below\", \"line\": {\"color\": \"rgb(175,175,175)\", \"width\": 0.5}, \"path\": \"M -0.6513299366726846,0.758794645206433 Q -0.15312663634440127, 0.12865548275083147 -0.8597164659000563, 0.5107715715075745L -0.8597164659000563, 0.5107715715075745 L -0.8578492073490851, 0.5139014861338177 L -0.8559705539698808, 0.5170245745963101 M -0.8559705539698808,0.5170245745963101 Q -0.1530454294975505, 0.12875207380819273 -0.6558915316845646, 0.7548551507835631L -0.6558915316845646, 0.7548551507835631 L -0.653613702226015, 0.7568283347380713 L -0.6513299366726846, 0.758794645206433 \", \"type\": \"path\"}, {\"fillcolor\": \"#dba284\", \"layer\": \"below\", \"line\": {\"color\": \"rgb(175,175,175)\", \"width\": 0.5}, \"path\": \"M -0.6725609697145334,0.740041716402965 Q -0.17764002550975397, 0.09189135615983673 -0.9926116243782512, 0.12133492139186276L -0.9926116243782512, 0.12133492139186276 L -0.9920474930753473, 0.1258640992615399 L -0.9914626957403504, 0.13039065516852588 M -0.9914626957403504,0.13039065516852588 Q -0.1776175396891272, 0.09193481165903004 -0.6789290677620684, 0.7342038687910387L -0.6789290677620684, 0.7342038687910387 L -0.6757513229478813, 0.7371296694165743 L -0.6725609697145334, 0.740041716402965 \", \"type\": \"path\"}, {\"fillcolor\": \"#dba284\", \"layer\": \"below\", \"line\": {\"color\": \"rgb(175,175,175)\", \"width\": 0.5}, \"path\": \"M -0.643367217272523,0.7655577207102089 Q -0.17897278058322735, 0.08926782068756896 -0.998572823033827, 0.05340708846448379L -0.998572823033827, 0.05340708846448379 L -0.9985549536027508, 0.05374015849816726 L -0.9985369730774794, 0.054073222552991344 M -0.9985369730774794,0.054073222552991344 Q -0.17896990731702445, 0.08927358105809177 -0.6438285220042036, 0.7651698074636001L -0.6438285220042036, 0.7651698074636001 L -0.6435978988640432, 0.7653637988419552 L -0.643367217272523, 0.7655577207102089 \", \"type\": \"path\"}, {\"fillcolor\": \"#dba284\", \"layer\": \"below\", \"line\": {\"color\": \"rgb(175,175,175)\", \"width\": 0.5}, \"path\": \"M -0.6438285220042036,0.7651698074636001 Q -0.18603338458197533, 0.07342737787075655 -0.9928747003579868, -0.11916303700828564L -0.9928747003579868, -0.11916303700828564 L -0.992954889056513, -0.11849298839495973 L -0.9930346255679785, -0.11782288582047488 M -0.9930346255679785,-0.11782288582047488 Q -0.186028089705803, 0.0734407913928609 -0.64475042963242, 0.764393147201628L -0.64475042963242, 0.764393147201628 L -0.6442895928466683, 0.7647816162470659 L -0.6438285220042036, 0.7651698074636001 \", \"type\": \"path\"}, {\"fillcolor\": \"#dba284\", \"layer\": \"below\", \"line\": {\"color\": \"rgb(175,175,175)\", \"width\": 0.5}, \"path\": \"M -0.6456714003642208,0.7636153761886321 Q -0.19644054612708883, 0.0375647685643223 -0.8818608684236695, -0.4715097122467907L -0.8818608684236695, -0.4715097122467907 L -0.882695603771829, -0.46994517880481157 L -0.8835275634412996, -0.4683791675976638 M -0.8835275634412996,-0.4683791675976638 Q -0.1964267493880694, 0.03763684530930542 -0.64781668107077, 0.7617962639226136L -0.64781668107077, 0.7617962639226136 L -0.6467446802996935, 0.7627065743154751 L -0.6456714003642208, 0.7636153761886321 \", \"type\": \"path\"}, {\"fillcolor\": \"#dba284\", \"layer\": \"below\", \"line\": {\"color\": \"rgb(175,175,175)\", \"width\": 0.5}, \"path\": \"M -0.64475042963242,0.764393147201628 Q -0.1999024196936339, -0.006246807234920514 -0.595765568663048, -0.80315838238519L -0.595765568663048, -0.80315838238519 L -0.5963853532297878, -0.8026982686246316 L -0.5970047824477209, -0.8022376765862779 M -0.5970047824477209,-0.8022376765862779 Q -0.19990347366197925, -0.00621298783793807 -0.6456714003642208, 0.7636153761886321L -0.6456714003642208, 0.7636153761886321 L -0.6452110321940466, 0.7640044004684089 L -0.64475042963242, 0.764393147201628 \", \"type\": \"path\"}, {\"fillcolor\": \"#dba284\", \"layer\": \"below\", \"line\": {\"color\": \"rgb(175,175,175)\", \"width\": 0.5}, \"path\": \"M -0.6668915530878976,0.7451547868865984 Q -0.18551682748256637, -0.07472286611743227 0.03576790841891353, -0.9993601236427918L 0.03576790841891353, -0.9993601236427918 L 0.03082542005879294, -0.9995247838238924 L 0.025882177853648786, -0.999665000322384 M 0.025882177853648786,-0.999665000322384 Q -0.18560099461107282, -0.07451356117768448 -0.6725609697145334, 0.740041716402965L -0.6725609697145334, 0.740041716402965 L -0.6697311408937859, 0.7426036620682044 L -0.6668915530878976, 0.7451547868865984 \", \"type\": \"path\"}, {\"fillcolor\": \"#dba284\", \"layer\": \"below\", \"line\": {\"color\": \"rgb(175,175,175)\", \"width\": 0.5}, \"path\": \"M -0.64781668107077,0.7617962639226136 Q -0.15131901195156802, -0.13077674342940807 0.6599089952600119, -0.7513455383343416L 0.6599089952600119, -0.7513455383343416 L 0.6577217969842628, -0.7532609360452673 L 0.6555290392593232, -0.7551699667543385 M 0.6555290392593232,-0.7551699667543385 Q -0.15139704352239058, -0.13068640025909115 -0.6513299366726846, 0.758794645206433L -0.6513299366726846, 0.758794645206433 L -0.649575042645031, 0.7602974838658262 L -0.64781668107077, 0.7617962639226136 \", \"type\": \"path\"}, {\"fillcolor\": \"#dba284\", \"layer\": \"below\", \"line\": {\"color\": \"rgb(175,175,175)\", \"width\": 0.5}, \"path\": \"M -0.6558915316845646,0.7548551507835631 Q -0.10231972934811283, -0.17184490968931532 0.9761899955610696, -0.21691724819958183L 0.9761899955610696, -0.21691724819958183 L 0.9753486206352724, -0.22066959062107197 L 0.9744928222682998, -0.2244186697838747 M 0.9744928222682998,-0.2244186697838747 Q -0.10235910676687286, -0.17182145751298913 -0.6613339794397479, 0.750091572835202L -0.6613339794397479, 0.750091572835202 L -0.6586170622659986, 0.7524782822727216 L -0.6558915316845646, 0.7548551507835631 \", \"type\": \"path\"}, {\"fillcolor\": \"#d59171\", \"layer\": \"below\", \"line\": {\"color\": \"rgb(175,175,175)\", \"width\": 0.5}, \"path\": \"M -0.7392940686159009,0.6733827144420531 Q -0.16170355051554464, 0.11769435734421047 -0.8680377810582156, 0.4964981476858996L -0.8680377810582156, 0.4964981476858996 L -0.8657972630147157, 0.500394943375957 L -0.8635392515914099, 0.5042816286173311 M -0.8635392515914099,0.5042816286173311 Q -0.1616650626502083, 0.11774721872852978 -0.7448817052473239, 0.6671965566366772L -0.7448817052473239, 0.6671965566366772 L -0.7420943329979847, 0.6702954579379724 L -0.7392940686159009, 0.6733827144420531 \", \"type\": \"path\"}, {\"fillcolor\": \"#d59171\", \"layer\": \"below\", \"line\": {\"color\": \"rgb(175,175,175)\", \"width\": 0.5}, \"path\": \"M -0.7638102088476424,0.6454409073339874 Q -0.1841753843689239, 0.07797068546934259 -0.9950693970598462, 0.09918112237192198L -0.9950693970598462, 0.09918112237192198 L -0.9944063691204061, 0.10562183984749836 L -0.9937016532320151, 0.11205812939702318 M -0.9937016532320151,0.11205812939702318 Q -0.18420631545654528, 0.07789758241385757 -0.7726082896218633, 0.6348830056062131L -0.7726082896218633, 0.6348830056062131 L -0.768227386866705, 0.6401770708702038 L -0.7638102088476424, 0.6454409073339874 \", \"type\": \"path\"}, {\"fillcolor\": \"#d59171\", \"layer\": \"below\", \"line\": {\"color\": \"rgb(175,175,175)\", \"width\": 0.5}, \"path\": \"M -0.7301240067027334,0.6833146675114964 Q -0.1840494555405314, 0.0782674767399203 -0.9986547447419626, 0.051852683675635024L -0.9986547447419626, 0.051852683675635024 L -0.9986315854316816, 0.05229681231400294 L -0.9986082286054535, 0.052740930608762095 M -0.9986082286054535,0.052740930608762095 Q -0.1840499148242411, 0.07826639670503299 -0.7307395136215209, 0.682656402029735L -0.7307395136215209, 0.682656402029735 L -0.7304318343157726, 0.6829856041075065 L -0.7301240067027334, 0.6833146675114964 \", \"type\": \"path\"}, {\"fillcolor\": \"#d59171\", \"layer\": \"below\", \"line\": {\"color\": \"rgb(175,175,175)\", \"width\": 0.5}, \"path\": \"M -0.7360998286286996,0.6768729883019406 Q -0.19081323481497778, 0.05991919074423621 -0.9909056432573515, -0.13455856033985455L -0.9909056432573515, -0.13455856033985455 L -0.9912206935208447, -0.1322177625588016 L -0.991530214169577, -0.1298762271889385 M -0.991530214169577,-0.1298762271889385 Q -0.190813459304893, 0.059918475849273345 -0.7392940686159009, 0.6733827144420531L -0.7392940686159009, 0.6733827144420531 L -0.7376990128159024, 0.6751297404872956 L -0.7360998286286996, 0.6768729883019406 \", \"type\": \"path\"}, {\"fillcolor\": \"#d59171\", \"layer\": \"below\", \"line\": {\"color\": \"rgb(175,175,175)\", \"width\": 0.5}, \"path\": \"M -0.7322756833554535,0.6810083138745838 Q -0.195009020696646, 0.04440137212896805 -0.9549235205594955, -0.29685193258973197L -0.9549235205594955, -0.29685193258973197 L -0.9551925201570487, -0.295985218272849 L -0.9554607331015127, -0.29511826019600995 M -0.9554607331015127,-0.29511826019600995 Q -0.1950087410261535, 0.04440260041252759 -0.7335019432473293, 0.6796873540477207L -0.7335019432473293, 0.6796873540477207 L -0.732889110913812, 0.6803481102376651 L -0.7322756833554535, 0.6810083138745838 \", \"type\": \"path\"}, {\"fillcolor\": \"#d59171\", \"layer\": \"below\", \"line\": {\"color\": \"rgb(175,175,175)\", \"width\": 0.5}, \"path\": \"M -0.7335019432473293,0.6796873540477207 Q -0.1985051421484297, 0.024407141181050362 -0.8763066000536085, -0.4817538196034204L -0.8763066000536085, -0.4817538196034204 L -0.8773419174979412, -0.47986577269173475 L -0.8783731670557993, -0.4779755008327988 M -0.8783731670557993,-0.4779755008327988 Q -0.19849932208073837, 0.024454429731386028 -0.7360998286286996, 0.6768729883019406L -0.7360998286286996, 0.6768729883019406 L -0.7348022333518924, 0.6782814149459434 L -0.7335019432473293, 0.6796873540477207 \", \"type\": \"path\"}, {\"fillcolor\": \"#d59171\", \"layer\": \"below\", \"line\": {\"color\": \"rgb(175,175,175)\", \"width\": 0.5}, \"path\": \"M -0.7505664761025866,0.6607949492474539 Q -0.19825385160806375, -0.026370633715704275 -0.5517344592235691, -0.8340198357984514L -0.5517344592235691, -0.8340198357984514 L -0.5561259558445907, -0.8310980214366657 L -0.5605019797948316, -0.8281530840648208 M -0.5605019797948316,-0.8281530840648208 Q -0.19827110895233901, -0.026240566968145175 -0.7566383317225985, 0.6538336447201558L -0.7566383317225985, 0.6538336447201558 L -0.7536104418882602, 0.6573213079438253 L -0.7505664761025866, 0.6607949492474539 \", \"type\": \"path\"}, {\"fillcolor\": \"#d59171\", \"layer\": \"below\", \"line\": {\"color\": \"rgb(175,175,175)\", \"width\": 0.5}, \"path\": \"M -0.7726082896218633,0.6348830056062131 Q -0.17694763215921186, -0.09321767790096605 0.08668063260793589, -0.9962361506845092L 0.08668063260793589, -0.9962361506845092 L 0.07876945908038702, -0.9968928589954806 L 0.07085332166439064, -0.9974867451796652 M 0.07085332166439064,-0.9974867451796652 Q -0.1770469714966602, -0.09302886586356296 -0.7812604436081044, 0.6242051900242963L -0.7812604436081044, 0.6242051900242963 L -0.7769527102493604, 0.6295589615247911 L -0.7726082896218633, 0.6348830056062131 \", \"type\": \"path\"}, {\"fillcolor\": \"#d59171\", \"layer\": \"below\", \"line\": {\"color\": \"rgb(175,175,175)\", \"width\": 0.5}, \"path\": \"M -0.7566383317225985,0.6538336447201558 Q -0.1372345495778354, -0.14548772595022796 0.6968579290499315, -0.7172091931370098L 0.6968579290499315, -0.7172091931370098 L 0.6924022787774184, -0.7215116661176297 L 0.6879200651194192, -0.7257864589575187 M 0.6879200651194192,-0.7257864589575187 Q -0.13733258185812397, -0.14539519235580553 -0.7638102088476424, 0.6454409073339874L -0.7638102088476424, 0.6454409073339874 L -0.7602358519832858, 0.6496471729787235 L -0.7566383317225985, 0.6538336447201558 \", \"type\": \"path\"}, {\"fillcolor\": \"#d59171\", \"layer\": \"below\", \"line\": {\"color\": \"rgb(175,175,175)\", \"width\": 0.5}, \"path\": \"M -0.7307395136215209,0.682656402029735 Q -0.1107178381620255, -0.16655797883237997 0.9122944660435727, -0.40953486692377317L 0.9122944660435727, -0.40953486692377317 L 0.9120668228427061, -0.41004159626751496 L 0.911838898181616, -0.4105481990740387 M 0.911838898181616,-0.4105481990740387 Q -0.1107165496571972, -0.16655883534656873 -0.7315080626315991, 0.6818327905762266L -0.7315080626315991, 0.6818327905762266 L -0.7311239041014098, 0.6822447045243462 L -0.7307395136215209, 0.682656402029735 \", \"type\": \"path\"}, {\"fillcolor\": \"#d59171\", \"layer\": \"below\", \"line\": {\"color\": \"rgb(175,175,175)\", \"width\": 0.5}, \"path\": \"M -0.7448817052473239,0.6671965566366772 Q -0.09066425480438998, -0.17826943905438378 0.9779188099209195, -0.2089851698155937L 0.9779188099209195, -0.2089851698155937 L 0.9770624521403091, -0.2129529633923093 L 0.9761899955610696, -0.21691724819958183 M 0.9761899955610696,-0.21691724819958183 Q -0.09062475787995998, -0.17828952089003614 -0.7505664761025866, 0.6607949492474539L -0.7505664761025866, 0.6607949492474539 L -0.7477309415290907, 0.6640018366541011 L -0.7448817052473239, 0.6671965566366772 \", \"type\": \"path\"}, {\"fillcolor\": \"#d0805f\", \"layer\": \"below\", \"line\": {\"color\": \"rgb(175,175,175)\", \"width\": 0.5}, \"path\": \"M -0.8597164659000563,0.5107715715075745 Q -0.18474243237728696, 0.07661745022723972 -0.968865298475453, 0.24758843553379345L -0.968865298475453, 0.24758843553379345 L -0.9682090006013666, 0.25014262162714884 L -0.9675459692272588, 0.2526950680802545 M -0.9675459692272588,0.2526950680802545 Q -0.18482880953313066, 0.07640884220144754 -0.8635392515914099, 0.5042816286173311L -0.8635392515914099, 0.5042816286173311 L -0.8616339691576909, 0.5075301992921833 L -0.8597164659000563, 0.5107715715075745 \", \"type\": \"path\"}, {\"fillcolor\": \"#d0805f\", \"layer\": \"below\", \"line\": {\"color\": \"rgb(175,175,175)\", \"width\": 0.5}, \"path\": \"M -0.8680377810582156,0.4964981476858996 Q -0.1892605850148713, 0.0646562522872202 -0.9903785963145768, 0.1383843775936014L -0.9903785963145768, 0.1383843775936014 L -0.9898274806854611, 0.14227283113747735 L -0.9892610981558432, 0.1461590902937454 M -0.9892610981558432,0.1461590902937454 Q -0.1892972583867284, 0.06454880298865498 -0.8724661562820535, 0.4886745401004839L -0.8724661562820535, 0.4886745401004839 L -0.8702607604523817, 0.4925913202816736 L -0.8680377810582156, 0.4964981476858996 \", \"type\": \"path\"}, {\"fillcolor\": \"#d0805f\", \"layer\": \"below\", \"line\": {\"color\": \"rgb(175,175,175)\", \"width\": 0.5}, \"path\": \"M -0.8453705111750053,0.534180399149679 Q -0.19084704522166562, 0.05981141471458043 -0.9990378320674911, 0.04385669957814411L -0.9990378320674911, 0.04385669957814411 L -0.9989582334174307, 0.045633845855089006 L -0.9988754734792944, 0.047410847719856916 M -0.9988754734792944,0.047410847719856916 Q -0.19085690271873743, 0.059779952196454655 -0.8474407775097086, 0.5308899402077051L -0.8474407775097086, 0.5308899402077051 L -0.8464072433259375, 0.5325361757152158 L -0.8453705111750053, 0.534180399149679 \", \"type\": \"path\"}, {\"fillcolor\": \"#d0805f\", \"layer\": \"below\", \"line\": {\"color\": \"rgb(175,175,175)\", \"width\": 0.5}, \"path\": \"M -0.8474407775097086,0.5308899402077051 Q -0.19540793832938172, 0.04261147307780569 -0.991530214169577, -0.1298762271889385L -0.991530214169577, -0.1298762271889385 L -0.9917767272835802, -0.12798016728646217 L -0.9920196146484525, -0.1260836395125708 M -0.9920196146484525,-0.1260836395125708 Q -0.19541446622213293, 0.042581526406634075 -0.8496264015874785, 0.5273850374494073L -0.8496264015874785, 0.5273850374494073 L -0.8485353991897199, 0.5291386173035784 L -0.8474407775097086, 0.5308899402077051 \", \"type\": \"path\"}, {\"fillcolor\": \"#d0805f\", \"layer\": \"below\", \"line\": {\"color\": \"rgb(175,175,175)\", \"width\": 0.5}, \"path\": \"M -0.8438094253320685,0.5366429480769913 Q -0.1983437019859455, 0.025686102906249692 -0.9526742871817272, -0.30399293173162417L -0.9526742871817272, -0.30399293173162417 L -0.9530872143529112, -0.302695823950394 L -0.9534983754559221, -0.301398155274576 M -0.9534983754559221,-0.301398155274576 Q -0.1983461820127254, 0.025666945298862567 -0.8453705111750053, 0.534180399149679L -0.8453705111750053, 0.534180399149679 L -0.8445908657517647, 0.5354122425651888 L -0.8438094253320685, 0.5366429480769913 \", \"type\": \"path\"}, {\"fillcolor\": \"#d0805f\", \"layer\": \"below\", \"line\": {\"color\": \"rgb(175,175,175)\", \"width\": 0.5}, \"path\": \"M -0.8827145743256322,0.4699095447776285 Q -0.1998426828359049, -0.007931085483584937 -0.8426987310745666, -0.5383854090197052L -0.8426987310745666, -0.5383854090197052 L -0.847304589168284, -0.5311072708731877 L -0.8518475897815462, -0.5237897324149937 M -0.8518475897815462,-0.5237897324149937 Q -0.19984546251854396, -0.007860732201853331 -0.8903576531035983, 0.4552617374212911L -0.8903576531035983, 0.4552617374212911 L -0.886566365527872, 0.4626014261918132 L -0.8827145743256322, 0.4699095447776285 \", \"type\": \"path\"}, {\"fillcolor\": \"#d0805f\", \"layer\": \"below\", \"line\": {\"color\": \"rgb(175,175,175)\", \"width\": 0.5}, \"path\": \"M -0.8903576531035983,0.4552617374212911 Q -0.19162463890019174, -0.057271264752676146 -0.4945236559689123, -0.8691641695831351L -0.4945236559689123, -0.8691641695831351 L -0.5047761001129252, -0.8632503048101322 L -0.514957831986491, -0.8572155104031732 M -0.514957831986491,-0.8572155104031732 Q -0.19166234690525036, -0.05714494534752371 -0.9003110546940228, 0.4352470617887456L -0.9003110546940228, 0.4352470617887456 L -0.8953902791976076, 0.44528221154502706 L -0.8903576531035983, 0.4552617374212911 \", \"type\": \"path\"}, {\"fillcolor\": \"#d0805f\", \"layer\": \"below\", \"line\": {\"color\": \"rgb(175,175,175)\", \"width\": 0.5}, \"path\": \"M -0.8425030402640589,0.5386915881520868 Q -0.17867166184270952, -0.08986900051944757 -0.069792175392205, -0.9975615531154074L -0.069792175392205, -0.9975615531154074 L -0.0706424285794932, -0.9975017028979907 L -0.07149263044417091, -0.9974411279830872 M -0.07149263044417091,-0.9974411279830872 Q -0.1786390720343485, -0.08993376419736276 -0.8438094253320685, 0.5366429480769913L -0.8438094253320685, 0.5366429480769913 L -0.8431568550025327, 0.5376676648843951 L -0.8425030402640589, 0.5386915881520868 \", \"type\": \"path\"}, {\"fillcolor\": \"#d0805f\", \"layer\": \"below\", \"line\": {\"color\": \"rgb(175,175,175)\", \"width\": 0.5}, \"path\": \"M -0.9119203393605994,0.4103672680178687 Q -0.1569816334129955, -0.12392242238992868 0.18744194994287183, -0.9822756819761008L 0.18744194994287183, -0.9822756819761008 L 0.17105431174085883, -0.9852616010151116 L 0.15461921103082799, -0.9879741391252123 M 0.15461921103082799,-0.9879741391252123 Q -0.15711876702891237, -0.12374850725287304 -0.9242399212249308, 0.38181221564289125L -0.9242399212249308, 0.38181221564289125 L -0.9181911420790418, 0.39613763593930945 L -0.9119203393605994, 0.4103672680178687 \", \"type\": \"path\"}, {\"fillcolor\": \"#d0805f\", \"layer\": \"below\", \"line\": {\"color\": \"rgb(175,175,175)\", \"width\": 0.5}, \"path\": \"M -0.8772909013023563,0.4799590341811469 Q -0.12205259144405041, -0.15843978326730856 0.6879200651194192, -0.7257864589575187L 0.6879200651194192, -0.7257864589575187 L 0.6835959991385067, -0.7298606099535903 L 0.6792478047802954, -0.7339089996049576 M 0.6792478047802954,-0.7339089996049576 Q -0.12208922205127791, -0.15841155847637434 -0.8827145743256322, 0.4699095447776285L -0.8827145743256322, 0.4699095447776285 L -0.8800170831406872, 0.4749420316002331 L -0.8772909013023563, 0.4799590341811469 \", \"type\": \"path\"}, {\"fillcolor\": \"#d0805f\", \"layer\": \"below\", \"line\": {\"color\": \"rgb(175,175,175)\", \"width\": 0.5}, \"path\": \"M -0.8526873020092894,0.5224216352641982 Q -0.09238245771943147, -0.17738512199651205 0.9168768363963206, -0.3991702229373765L 0.9168768363963206, -0.3991702229373765 L 0.9157199399434394, -0.4018171121169229 L 0.9145554023280346, -0.4044606483610079 M 0.9145554023280346,-0.4044606483610079 Q -0.09233456560713586, -0.1774100560682554 -0.8559705539698808, 0.5170245745963101L -0.8559705539698808, 0.5170245745963101 L -0.8543331898421114, 0.5197256975888367 L -0.8526873020092894, 0.5224216352641982 \", \"type\": \"path\"}, {\"fillcolor\": \"#d0805f\", \"layer\": \"below\", \"line\": {\"color\": \"rgb(175,175,175)\", \"width\": 0.5}, \"path\": \"M -0.8496264015874785,0.5273850374494073 Q -0.0768616105083319, -0.18464098361432513 0.9728864398604955, -0.23128332221664957L 0.9728864398604955, -0.23128332221664957 L 0.9722903073720612, -0.2337767272213866 L 0.9716877845615263, -0.23626859574203427 M 0.9716877845615263,-0.23626859574203427 Q -0.07679661330240782, -0.18466802697077922 -0.8526873020092894, 0.5224216352641982L -0.8526873020092894, 0.5224216352641982 L -0.8511604697139366, 0.5249055675036709 L -0.8496264015874785, 0.5273850374494073 \", \"type\": \"path\"}, {\"fillcolor\": \"#d0805f\", \"layer\": \"below\", \"line\": {\"color\": \"rgb(175,175,175)\", \"width\": 0.5}, \"path\": \"M -0.8414543507211381,0.5403282110462752 Q -0.0662479950300448, -0.18870930860585325 0.9945544592403253, -0.10421817310423427L 0.9945544592403253, -0.10421817310423427 L 0.9944732330707136, -0.1049904219721129 L 0.9943914072675498, -0.1057626075343354 M 0.9943914072675498,-0.1057626075343354 Q -0.06621112341357908, -0.18872224865211787 -0.8425030402640589, 0.5386915881520868L -0.8425030402640589, 0.5386915881520868 L -0.8419790931472363, 0.5395101544020813 L -0.8414543507211381, 0.5403282110462752 \", \"type\": \"path\"}, {\"fillcolor\": \"#ca6f4c\", \"layer\": \"below\", \"line\": {\"color\": \"rgb(175,175,175)\", \"width\": 0.5}, \"path\": \"M -0.9618603806391917,0.27354087108991454 Q -0.19449709518179445, 0.046592702924857204 -0.9813995661243673, 0.19197627877137205L -0.9813995661243673, 0.19197627877137205 L -0.9812361957357765, 0.19280956453967996 L -0.981072117821866, 0.1936427112816766 M -0.981072117821866,0.1936427112816766 Q -0.1944892372158015, 0.04662549310426321 -0.9622318096670207, 0.27223141711589877L -0.9622318096670207, 0.27223141711589877 L -0.9620463179425236, 0.2728862072975344 L -0.9618603806391917, 0.27354087108991454 \", \"type\": \"path\"}, {\"fillcolor\": \"#ca6f4c\", \"layer\": \"below\", \"line\": {\"color\": \"rgb(175,175,175)\", \"width\": 0.5}, \"path\": \"M -0.9611591487876885,0.2759947294817894 Q -0.1972442757649923, 0.03308618560583369 -0.9986082286054535, 0.052740930608762095L -0.9986082286054535, 0.052740930608762095 L -0.9985905813687198, 0.05307401248899661 L -0.998572823033827, 0.05340708846448379 M -0.998572823033827,0.05340708846448379 Q -0.19724168317824298, 0.03310163767872552 -0.9612998961184028, 0.27550410109968954L -0.9612998961184028, 0.27550410109968954 L -0.9612295537562099, 0.27574942427072735 L -0.9611591487876885, 0.2759947294817894 \", \"type\": \"path\"}, {\"fillcolor\": \"#ca6f4c\", \"layer\": \"below\", \"line\": {\"color\": \"rgb(175,175,175)\", \"width\": 0.5}, \"path\": \"M -0.9650498894768141,0.2620662336524659 Q -0.19990219818167163, -0.00625389175919157 -0.9467813542875579, -0.3218774101632759L -0.9467813542875579, -0.3218774101632759 L -0.9477627611020151, -0.31897609419560696 L -0.9487352771495529, -0.31607178597901 M -0.9487352771495529,-0.31607178597901 Q -0.19990692959184414, -0.0061007787340205625 -0.9662435714562221, 0.2576302789260702L -0.9662435714562221, 0.2576302789260702 L -0.9656492776801834, 0.2598489417252649 L -0.9650498894768141, 0.2620662336524659 \", \"type\": \"path\"}, {\"fillcolor\": \"#ca6f4c\", \"layer\": \"below\", \"line\": {\"color\": \"rgb(175,175,175)\", \"width\": 0.5}, \"path\": \"M -0.9626935890075738,0.2705938906991739 Q -0.1987852991747085, -0.022009198804628073 -0.8801830811994655, -0.47463432616090356L -0.8801830811994655, -0.47463432616090356 L -0.8810233600216867, -0.47307276300385076 L -0.8818608684236695, -0.4715097122467907 M -0.8818608684236695,-0.4715097122467907 Q -0.19879808172247837, -0.02189343973574784 -0.9633353980618651, 0.2683000388389609L -0.9633353980618651, 0.2683000388389609 L -0.9630151765143795, 0.2694471558635913 L -0.9626935890075738, 0.2705938906991739 \", \"type\": \"path\"}, {\"fillcolor\": \"#ca6f4c\", \"layer\": \"below\", \"line\": {\"color\": \"rgb(175,175,175)\", \"width\": 0.5}, \"path\": \"M -0.9633353980618651,0.2683000388389609 Q -0.18891733676199762, -0.06565241709757522 -0.5893404095106926, -0.8078848195861642L -0.5893404095106926, -0.8078848195861642 L -0.5911058949792442, -0.8065939628591245 L -0.5928685530405055, -0.8052992479914888 M -0.5928685530405055,-0.8052992479914888 Q -0.18896592558718645, -0.06551243368230127 -0.9641073893246478, 0.26551260205423766L -0.9641073893246478, 0.26551260205423766 L -0.9637224014793003, 0.2669065995567929 L -0.9633353980618651, 0.2683000388389609 \", \"type\": \"path\"}, {\"fillcolor\": \"#ca6f4c\", \"layer\": \"below\", \"line\": {\"color\": \"rgb(175,175,175)\", \"width\": 0.5}, \"path\": \"M -0.9641073893246478,0.26551260205423766 Q -0.1623853760260664, -0.11675182933416084 -0.055330617556895924, -0.9984680880032033L -0.055330617556895924, -0.9984680880032033 L -0.05711773576675704, -0.9983674495199044 L -0.05890467097598501, -0.9982636123475657 M -0.05890467097598501,-0.9982636123475657 Q -0.16238578332448161, -0.11675126283725804 -0.9650498894768141, 0.2620662336524659L -0.9650498894768141, 0.2620662336524659 L -0.9645801786020464, 0.2637898387884651 L -0.9641073893246478, 0.26551260205423766 \", \"type\": \"path\"}, {\"fillcolor\": \"#ca6f4c\", \"layer\": \"below\", \"line\": {\"color\": \"rgb(175,175,175)\", \"width\": 0.5}, \"path\": \"M -0.9710178253533744,0.23900707697891208 Q -0.14953922880596557, -0.13280820399401946 0.1226581821140028, -0.9924489762000303L 0.1226581821140028, -0.9924489762000303 L 0.11283655510731401, -0.993613562624582 L 0.10300389035900408, -0.9946809531557896 M 0.10300389035900408,-0.9946809531557896 Q -0.14999324308097464, -0.13229522678483777 -0.9740270627066834, 0.226431625695243L -0.9740270627066834, 0.226431625695243 L -0.9725427700805183, 0.23272421525082487 L -0.9710178253533744, 0.23900707697891208 \", \"type\": \"path\"}, {\"fillcolor\": \"#ca6f4c\", \"layer\": \"below\", \"line\": {\"color\": \"rgb(175,175,175)\", \"width\": 0.5}, \"path\": \"M -0.9610181510500062,0.27648528596008065 Q -0.10791297523813462, -0.1683888053739136 0.6526605962358005, -0.7576504115495017L 0.6526605962358005, -0.7576504115495017 L 0.6523732350418652, -0.7578978573666845 L 0.6520857800328167, -0.7581451941936933 M 0.6520857800328167,-0.7581451941936933 Q -0.10793385608848689, -0.16837542192930002 -0.9611591487876885, 0.2759947294817894L -0.9611591487876885, 0.2759947294817894 L -0.9610886812174241, 0.27624001671689896 L -0.9610181510500062, 0.27648528596008065 \", \"type\": \"path\"}, {\"fillcolor\": \"#ca6f4c\", \"layer\": \"below\", \"line\": {\"color\": \"rgb(175,175,175)\", \"width\": 0.5}, \"path\": \"M -0.9612998961184028,0.27550410109968954 Q -0.06830317186332624, -0.18797520238959425 0.9139251820366464, -0.4058826944318797L 0.9139251820366464, -0.4058826944318797 L 0.9136544106561811, -0.4064918423394327 L 0.9133832332675099, -0.40710080961082545 M 0.9133832332675099,-0.40710080961082545 Q -0.06833253267714245, -0.18796453116991851 -0.9615806394123192, 0.2745226291353689L -0.9615806394123192, 0.2745226291353689 L -0.9614403930054808, 0.2750134009416027 L -0.9612998961184028, 0.27550410109968954 \", \"type\": \"path\"}, {\"fillcolor\": \"#ca6f4c\", \"layer\": \"below\", \"line\": {\"color\": \"rgb(175,175,175)\", \"width\": 0.5}, \"path\": \"M -0.9608769029420894,0.27697577040676064 Q -0.05288277380606478, -0.1928818608230867 0.9677774864206223, -0.2518069434653902L 0.9677774864206223, -0.2518069434653902 L 0.9677505829001444, -0.251910319948252 L 0.9677236683371515, -0.2520136935566929 M 0.9677236683371515,-0.2520136935566929 Q -0.0528869690401059, -0.19288071055901596 -0.9609240134613731, 0.27681228360260113L -0.9609240134613731, 0.27681228360260113 L -0.9609004616786698, 0.27689402800659896 L -0.9608769029420894, 0.27697577040676064 \", \"type\": \"path\"}, {\"fillcolor\": \"#ca6f4c\", \"layer\": \"below\", \"line\": {\"color\": \"rgb(175,175,175)\", \"width\": 0.5}, \"path\": \"M -0.9609240134613731,0.27681228360260113 Q -0.03865123395695951, -0.1962296667520087 0.9941213327868051, -0.10827176777990755L 0.9941213327868051, -0.10827176777990755 L 0.994100295557837, -0.10846475174830435 L 0.9940792208658242, -0.10865773162916607 M 0.9940792208658242,-0.10865773162916607 Q -0.0386559411132516, -0.19622873952774814 -0.9610181510500062, 0.27648528596008065L -0.9610181510500062, 0.27648528596008065 L -0.9609710961644664, 0.2766487887854634 L -0.9609240134613731, 0.27681228360260113 \", \"type\": \"path\"}, {\"fillcolor\": \"#c45e3a\", \"layer\": \"below\", \"line\": {\"color\": \"rgb(175,175,175)\", \"width\": 0.5}, \"path\": \"M -0.9808246745999669,0.19489216940623627 Q -0.19985807253385, 0.007533315541935176 -0.9927129665460284, -0.12050297113093904L -0.9927129665460284, -0.12050297113093904 L -0.9927940595089174, -0.11983303135531605 L -0.9928747003579868, -0.11916303700828564 M -0.9928747003579868,-0.11916303700828564 Q -0.1998577863673469, 0.007540903682180466 -0.981072117821866, 0.1936427112816766L -0.981072117821866, 0.1936427112816766 L -0.9809485951440933, 0.19426747974076816 L -0.9808246745999669, 0.19489216940623627 \", \"type\": \"path\"}, {\"fillcolor\": \"#c45e3a\", \"layer\": \"below\", \"line\": {\"color\": \"rgb(175,175,175)\", \"width\": 0.5}, \"path\": \"M -0.9834204694401782,0.1813399577756082 Q -0.19941793862605106, -0.01524748353455544 -0.9444195961084902, -0.32874249266907407L -0.9444195961084902, -0.32874249266907407 L -0.945606705260798, -0.3253120947118601 L -0.9467813542875579, -0.3218774101632759 M -0.9467813542875579,-0.3218774101632759 Q -0.19942149192225328, -0.01520093942829446 -0.9846296469102082, 0.1746552559343087L -0.9846296469102082, 0.1746552559343087 L -0.9840307344927642, 0.17799863362855026 L -0.9834204694401782, 0.1813399577756082 \", \"type\": \"path\"}, {\"fillcolor\": \"#c45e3a\", \"layer\": \"below\", \"line\": {\"color\": \"rgb(175,175,175)\", \"width\": 0.5}, \"path\": \"M -0.9822456481781439,0.1875992714140914 Q -0.19730197385150708, -0.032740359104616056 -0.8690085623690795, -0.49479704781781547L -0.8690085623690795, -0.49479704781781547 L -0.8708824641968524, -0.4914913361946658 L -0.8727437911459812, -0.4881785278114349 M -0.8727437911459812,-0.4881785278114349 Q -0.19732209113072294, -0.03261889562506188 -0.9834204694401782, 0.1813399577756082L -0.9834204694401782, 0.1813399577756082 L -0.9828380417138819, 0.18447054984474293 L -0.9822456481781439, 0.1875992714140914 \", \"type\": \"path\"}, {\"fillcolor\": \"#c45e3a\", \"layer\": \"below\", \"line\": {\"color\": \"rgb(175,175,175)\", \"width\": 0.5}, \"path\": \"M -0.9880825675735215,0.15392478571470328 Q -0.18337369066086703, -0.07983789559734561 -0.5605019797948316, -0.8281530840648208L -0.5605019797948316, -0.8281530840648208 L -0.5644376914431432, -0.8254756764910369 L -0.568360613871748, -0.8227795650107809 M -0.568360613871748,-0.8227795650107809 Q -0.18344011326651288, -0.07968516075637248 -0.9892610981558432, 0.1461590902937454L -0.9892610981558432, 0.1461590902937454 L -0.9886794574614935, 0.15004309512152433 L -0.9880825675735215, 0.15392478571470328 \", \"type\": \"path\"}, {\"fillcolor\": \"#c45e3a\", \"layer\": \"below\", \"line\": {\"color\": \"rgb(175,175,175)\", \"width\": 0.5}, \"path\": \"M -0.9807003562397479,0.1955167800247117 Q -0.15922273815154375, -0.1210294164884097 -0.07404292192591526, -0.9972550554961719L -0.07404292192591526, -0.9972550554961719 L -0.07429792472162887, -0.9972360895906541 L -0.07455292265928949, -0.9972170584797264 M -0.07455292265928949,-0.9972170584797264 Q -0.15921514639027243, -0.12103940333595556 -0.9808246745999669, 0.19489216940623627L -0.9808246745999669, 0.19489216940623627 L -0.9807625651437214, 0.19520448461218226 L -0.9807003562397479, 0.1955167800247117 \", \"type\": \"path\"}, {\"fillcolor\": \"#c45e3a\", \"layer\": \"below\", \"line\": {\"color\": \"rgb(175,175,175)\", \"width\": 0.5}, \"path\": \"M -0.9903785963145768,0.1383843775936014 Q -0.14785325080163061, -0.13468265006076366 0.045650140145250755, -0.998957488937702L 0.045650140145250755, -0.998957488937702 L 0.04070952206395439, -0.9991710238058971 L 0.03576790841891353, -0.9993601236427918 M 0.03576790841891353,-0.9993601236427918 Q -0.14797598956378516, -0.13454778523862274 -0.9914626957403504, 0.13039065516852588L -0.9914626957403504, 0.13039065516852588 L -0.9909287066298151, 0.13438860955066775 L -0.9903785963145768, 0.1383843775936014 \", \"type\": \"path\"}, {\"fillcolor\": \"#c45e3a\", \"layer\": \"below\", \"line\": {\"color\": \"rgb(175,175,175)\", \"width\": 0.5}, \"path\": \"M -0.9869458456531124,0.1610524689288021 Q -0.09561643404955111, -0.17566302268732553 0.6710421568477452, -0.7414191956869786L 0.6710421568477452, -0.7414191956869786 L 0.6678494992985433, -0.7442963430561008 L 0.6646445058750529, -0.7471597424982872 M 0.6646445058750529,-0.7471597424982872 Q -0.09573742772500683, -0.17559710969318115 -0.9880825675735215, 0.15392478571470328L -0.9880825675735215, 0.15392478571470328 L -0.9875206373692293, 0.15748965289780464 L -0.9869458456531124, 0.1610524689288021 \", \"type\": \"path\"}, {\"fillcolor\": \"#c45e3a\", \"layer\": \"below\", \"line\": {\"color\": \"rgb(175,175,175)\", \"width\": 0.5}, \"path\": \"M -0.9806588283914759,0.19572496595441716 Q -0.061185930021103334, -0.19041082418668498 0.9111076486732663, -0.41216847590405536L 0.9111076486732663, -0.41216847590405536 L 0.9110618499591553, -0.4122697000132337 L 0.9110160399990401, -0.41237091903341977 M 0.9110160399990401,-0.41237091903341977 Q -0.061186874294747645, -0.19041052075460208 -0.9807003562397479, 0.1955167800247117L -0.9807003562397479, 0.1955167800247117 L -0.9806795978400183, 0.19562087409154433 L -0.9806588283914759, 0.19572496595441716 \", \"type\": \"path\"}, {\"fillcolor\": \"#c45e3a\", \"layer\": \"below\", \"line\": {\"color\": \"rgb(175,175,175)\", \"width\": 0.5}, \"path\": \"M -0.985793386332423,0.16796249421598314 Q -0.03925438581993751, -0.19610990080538895 0.9744928222682998, -0.2244186697838747L 0.9744928222682998, -0.2244186697838747 L 0.9736956806444088, -0.22785241164934264 L 0.9728864398604955, -0.23128332221664957 M 0.9728864398604955,-0.23128332221664957 Q -0.03925876206720855, -0.1961090247820082 -0.9869458456531124, 0.1610524689288021L -0.9869458456531124, 0.1610524689288021 L -0.9863756670083095, 0.1645084907654087 L -0.985793386332423, 0.16796249421598314 \", \"type\": \"path\"}, {\"fillcolor\": \"#c45e3a\", \"layer\": \"below\", \"line\": {\"color\": \"rgb(175,175,175)\", \"width\": 0.5}, \"path\": \"M -0.9817241838549043,0.19030929255930193 Q -0.029058197545484023, -0.19787779348731283 0.9949904825529845, -0.09996969355249094L 0.9949904825529845, -0.09996969355249094 L 0.9948635460201701, -0.1012251194129837 L 0.994735025458679, -0.10248038410213622 M 0.994735025458679,-0.10248038410213622 Q -0.029034839605079334, -0.19788122217407927 -0.9822456481781439, 0.1875992714140914L -0.9822456481781439, 0.1875992714140914 L -0.9819858508846406, 0.1889544618747286 L -0.9817241838549043, 0.19030929255930193 \", \"type\": \"path\"}, {\"fillcolor\": \"#bf4d28\", \"layer\": \"below\", \"line\": {\"color\": \"rgb(175,175,175)\", \"width\": 0.5}, \"path\": \"M -0.99950355965192,-0.031506098507129134 Q -0.19822900726160836, -0.026556744530857452 -0.9725509363042152, -0.23269008636767124L -0.9725509363042152, -0.23269008636767124 L -0.9754791716314055, -0.22009176657318869 L -0.978244216878727, -0.207456627137641 M -0.978244216878727,-0.207456627137641 Q -0.198232940608061, -0.026527368091858846 -0.998371184712556, -0.05705241042802111L -0.998371184712556, -0.05705241042802111 L -0.9990190323790358, -0.04428287416660166 L -0.99950355965192, -0.031506098507129134 \", \"type\": \"path\"}, {\"fillcolor\": \"#bf4d28\", \"layer\": \"below\", \"line\": {\"color\": \"rgb(175,175,175)\", \"width\": 0.5}, \"path\": \"M -0.9986547447419626,0.051852683675635024 Q -0.19848759248691458, -0.024549452717902667 -0.9559282122063043, -0.2936004991618011L -0.9559282122063043, -0.2936004991618011 L -0.9560945847968022, -0.29305826199278256 L -0.9562606498107292, -0.29251593054663166 M -0.9562606498107292,-0.29251593054663166 Q -0.19848786919180364, -0.024547215395996552 -0.998711778855433, 0.05074231740289938L -0.998711778855433, 0.05074231740289938 L -0.998683416116039, 0.05129750846579804 L -0.9986547447419626, 0.051852683675635024 \", \"type\": \"path\"}, {\"fillcolor\": \"#bf4d28\", \"layer\": \"below\", \"line\": {\"color\": \"rgb(175,175,175)\", \"width\": 0.5}, \"path\": \"M -0.9987785901482241,0.04940979519817654 Q -0.19522248502245276, -0.04345320864629226 -0.8835275634412996, -0.4683791675976638L -0.8835275634412996, -0.4683791675976638 L -0.884060927711719, -0.4673716680474917 L -0.884593143115976, -0.46636356113251215 M -0.884593143115976,-0.46636356113251215 Q -0.1952285371786334, -0.043426009154548924 -0.9988754734792944, 0.047410847719856916L -0.9988754734792944, 0.047410847719856916 L -0.9988275318740667, 0.04841034569552584 L -0.9987785901482241, 0.04940979519817654 \", \"type\": \"path\"}, {\"fillcolor\": \"#bf4d28\", \"layer\": \"below\", \"line\": {\"color\": \"rgb(175,175,175)\", \"width\": 0.5}, \"path\": \"M -0.9998284903772876,0.018519984607827326 Q -0.17796072597272317, -0.09126872416803769 -0.568360613871748, -0.8227795650107809L -0.568360613871748, -0.8227795650107809 L -0.5720596351601469, -0.8202120297950034 L -0.575747057941973, -0.8176278647839507 M -0.575747057941973,-0.8176278647839507 Q -0.17801649210067394, -0.0911599064291462 -0.9999423457361227, 0.010738026063504139L -0.9999423457361227, 0.010738026063504139 L -0.9998929887553609, 0.014629116100148595 L -0.9998284903772876, 0.018519984607827326 \", \"type\": \"path\"}, {\"fillcolor\": \"#bf4d28\", \"layer\": \"below\", \"line\": {\"color\": \"rgb(175,175,175)\", \"width\": 0.5}, \"path\": \"M -0.9985006787523644,0.05473933257784187 Q -0.15020078523007108, -0.13205954761496824 -0.07353290182702046, -0.9972927916860213L -0.07353290182702046, -0.9972927916860213 L -0.07378791428882144, -0.9972739561950394 L -0.07404292192591526, -0.9972550554961719 M -0.07404292192591526,-0.9972550554961719 Q -0.15019050500585285, -0.13207123913285168 -0.9985369730774794, 0.054073222552991344L -0.9985369730774794, 0.054073222552991344 L -0.9985188814600129, 0.054406280591901 L -0.9985006787523644, 0.05473933257784187 \", \"type\": \"path\"}, {\"fillcolor\": \"#bf4d28\", \"layer\": \"below\", \"line\": {\"color\": \"rgb(175,175,175)\", \"width\": 0.5}, \"path\": \"M -0.9996598972596761,0.02607853160693215 Q -0.14143524455051623, -0.1414074665600642 0.025882177853648786, -0.999665000322384L 0.025882177853648786, -0.999665000322384 L 0.021458736814738914, -0.9997697347961259 L 0.017034875660973718, -0.999854895978019 M 0.017034875660973718,-0.999854895978019 Q -0.14152634689468233, -0.14131628757735623 -0.9998284903772876, 0.018519984607827326L -0.9998284903772876, 0.018519984607827326 L -0.99975133707435, 0.022299417437443906 L -0.9996598972596761, 0.02607853160693215 \", \"type\": \"path\"}, {\"fillcolor\": \"#bf4d28\", \"layer\": \"below\", \"line\": {\"color\": \"rgb(175,175,175)\", \"width\": 0.5}, \"path\": \"M -0.998371184712556,-0.05705241042802111 Q -0.05744681960614054, -0.19157208282299265 0.8022394172579441, -0.5970024433766031L 0.8022394172579441, -0.5970024433766031 L 0.7927836449954317, -0.6095031519424303 L 0.7831331021672983, -0.621854118173888 M 0.7831331021672983,-0.621854118173888 Q -0.05780833392796665, -0.1914633033468103 -0.9964187531938581, -0.08455571112347994L -0.9964187531938581, -0.08455571112347994 L -0.9974897653512316, -0.07081079027623527 L -0.998371184712556, -0.05705241042802111 \", \"type\": \"path\"}, {\"fillcolor\": \"#bf4d28\", \"layer\": \"below\", \"line\": {\"color\": \"rgb(175,175,175)\", \"width\": 0.5}, \"path\": \"M -0.998711778855433,0.05074231740289938 Q -0.04657266254422834, -0.19450189485848574 0.9133832332675099, -0.40710080961082545L 0.9133832332675099, -0.40710080961082545 L 0.9131116499911376, -0.4077095959754469 L 0.9128396609477497, -0.4083182011627664 M 0.9128396609477497,-0.4083182011627664 Q -0.046572568986982796, -0.1945019172603518 -0.9987785901482241, 0.04940979519817654L -0.9987785901482241, 0.04940979519817654 L -0.9987454067325907, 0.05007606744295958 L -0.998711778855433, 0.05074231740289938 \", \"type\": \"path\"}, {\"fillcolor\": \"#bf4d28\", \"layer\": \"below\", \"line\": {\"color\": \"rgb(175,175,175)\", \"width\": 0.5}, \"path\": \"M -0.9998932540070942,-0.014610975022378238 Q -0.014346053223047429, -0.19948481334909055 0.9875131914748473, -0.15753633442213139L 0.9875131914748473, -0.15753633442213139 L 0.9862017341809715, -0.16554799756700306 L 0.9848252796182199, -0.17354874999519598 M 0.9848252796182199,-0.17354874999519598 Q -0.014279904322686441, -0.19948955945746866 -0.99950355965192, -0.031506098507129134L -0.99950355965192, -0.031506098507129134 L -0.9997340976063814, -0.023059359990123558 L -0.9998932540070942, -0.014610975022378238 \", \"type\": \"path\"}, {\"fillcolor\": \"#bf4d28\", \"layer\": \"below\", \"line\": {\"color\": \"rgb(175,175,175)\", \"width\": 0.5}, \"path\": \"M -0.9999423457361227,0.010738026063504139 Q -0.008309108062858171, -0.1998273222639981 0.9973819447668448, -0.07231359659916307L 0.9973819447668448, -0.07231359659916307 L 0.997078858938704, -0.07637898308757544 L 0.9967592024293539, -0.0804431002162291 M 0.9967592024293539,-0.0804431002162291 Q -0.008190606005350728, -0.19983221455327246 -0.9999990215966388, 0.0013988587366954087L -0.9999990215966388, 0.0013988587366954087 L -0.9999815864323695, 0.006068508564847108 L -0.9999423457361227, 0.010738026063504139 \", \"type\": \"path\"}, {\"fillcolor\": \"#af4624\", \"layer\": \"below\", \"line\": {\"color\": \"rgb(175,175,175)\", \"width\": 0.5}, \"path\": \"M -0.9927129665460284,-0.12050297113093904 Q -0.19551273270304517, -0.042128035213947625 -0.9542475814137691, -0.299017647248406L -0.9542475814137691, -0.299017647248406 L -0.9545861651692046, -0.2979349816110085 L -0.9549235205594955, -0.29685193258973197 M -0.9549235205594955,-0.29685193258973197 Q -0.19551313953841162, -0.04212614708033 -0.9924393918789531, -0.12273570567252884L -0.9924393918789531, -0.12273570567252884 L -0.9925768070108982, -0.12161941532522691 L -0.9927129665460284, -0.12050297113093904 \", \"type\": \"path\"}, {\"fillcolor\": \"#af4624\", \"layer\": \"below\", \"line\": {\"color\": \"rgb(175,175,175)\", \"width\": 0.5}, \"path\": \"M -0.9924393918789531,-0.12273570567252884 Q -0.19042413037043146, -0.0611445056621192 -0.8783731670557993, -0.4779755008327988L -0.8783731670557993, -0.4779755008327988 L -0.8792797111451255, -0.4763057731841435 L -0.8801830811994655, -0.47463432616090356 M -0.8801830811994655,-0.47463432616090356 Q -0.19043714226755337, -0.06110396750594546 -0.9920196146484525, -0.1260836395125708L -0.9920196146484525, -0.1260836395125708 L -0.9922309153176915, -0.12440984964148237 L -0.9924393918789531, -0.12273570567252884 \", \"type\": \"path\"}, {\"fillcolor\": \"#af4624\", \"layer\": \"below\", \"line\": {\"color\": \"rgb(175,175,175)\", \"width\": 0.5}, \"path\": \"M -0.9882895896663096,-0.15258993072020632 Q -0.16995546736735268, -0.10542836009321555 -0.575747057941973, -0.8176278647839507L -0.575747057941973, -0.8176278647839507 L -0.5792130803902973, -0.8151761818802012 L -0.5826686630669182, -0.8127098061914906 M -0.5826686630669182,-0.8127098061914906 Q -0.17001173282609727, -0.10533760345416887 -0.9871296766928961, -0.15992186026987823L -0.9871296766928961, -0.15992186026987823 L -0.9877164364196417, -0.1562569717692109 L -0.9882895896663096, -0.15258993072020632 \", \"type\": \"path\"}, {\"fillcolor\": \"#af4624\", \"layer\": \"below\", \"line\": {\"color\": \"rgb(175,175,175)\", \"width\": 0.5}, \"path\": \"M -0.9932711216179245,-0.1158122573818085 Q -0.13846019691358977, -0.14432177199109616 -0.07455292265928949, -0.9972170584797264L -0.07455292265928949, -0.9972170584797264 L -0.07480791572222292, -0.997197962164633 L -0.07506290389375526, -0.9971788006466227 M -0.07506290389375526,-0.9971788006466227 Q -0.13844840423302052, -0.14433308479115295 -0.993192741884687, -0.11648252000870107L -0.993192741884687, -0.11648252000870107 L -0.9932319882904637, -0.11614739530687826 L -0.9932711216179245, -0.1158122573818085 \", \"type\": \"path\"}, {\"fillcolor\": \"#af4624\", \"layer\": \"below\", \"line\": {\"color\": \"rgb(175,175,175)\", \"width\": 0.5}, \"path\": \"M -0.9892968012812792,-0.14591723330240775 Q -0.12940258048998834, -0.15249581031140524 0.017034875660973718, -0.999854895978019L 0.017034875660973718, -0.999854895978019 L 0.013131188980357636, -0.9999137822212284 L 0.009227302151043216, -0.9999574275412996 M 0.009227302151043216,-0.9999574275412996 Q -0.1294833826212257, -0.15242720762700235 -0.9882895896663096, -0.15258993072020632L -0.9882895896663096, -0.15258993072020632 L -0.9887988241487672, -0.14925443163275015 L -0.9892968012812792, -0.14591723330240775 \", \"type\": \"path\"}, {\"fillcolor\": \"#af4624\", \"layer\": \"below\", \"line\": {\"color\": \"rgb(175,175,175)\", \"width\": 0.5}, \"path\": \"M -0.9725509363042152,-0.23269008636767124 Q -0.03691636051288866, -0.19656343079647964 0.8218557636160876, -0.5696956238299691L 0.8218557636160876, -0.5696956238299691 L 0.8121623635289941, -0.583431482924086 L 0.8022394172579441, -0.5970024433766031 M 0.8022394172579441,-0.5970024433766031 Q -0.03728057713606677, -0.19649467821903416 -0.9651552681833682, -0.2616778712422787L -0.9651552681833682, -0.2616778712422787 L -0.9689615093724845, -0.24721163677019078 L -0.9725509363042152, -0.23269008636767124 \", \"type\": \"path\"}, {\"fillcolor\": \"#af4624\", \"layer\": \"below\", \"line\": {\"color\": \"rgb(175,175,175)\", \"width\": 0.5}, \"path\": \"M -0.993192741884687,-0.11648252000870107 Q -0.03026956927521678, -0.19769611320380798 0.9128396609477497, -0.4083182011627664L 0.9128396609477497, -0.4083182011627664 L 0.9125672662582125, -0.4089266249023322 L 0.9122944660435727, -0.40953486692377317 M 0.9122944660435727,-0.40953486692377317 Q -0.030267945632176264, -0.19769636179557687 -0.9930346255679785, -0.11782288582047488L -0.9930346255679785, -0.11782288582047488 L -0.9931139098560718, -0.11715272958999318 L -0.993192741884687, -0.11648252000870107 \", \"type\": \"path\"}, {\"fillcolor\": \"#af4624\", \"layer\": \"below\", \"line\": {\"color\": \"rgb(175,175,175)\", \"width\": 0.5}, \"path\": \"M -0.9840121079196624,-0.17810157626338594 Q -0.0009688952390772151, -0.1999976530912693 0.9822403230147129, -0.18762715113744213L 0.9822403230147129, -0.18762715113744213 L 0.9810590244388421, -0.1937090358426973 L 0.9798400681204072, -0.19978348506769947 M 0.9798400681204072,-0.19978348506769947 Q -0.0009033359687135961, -0.19999795994991457 -0.9816047875396189, -0.19092417625670038L -0.9816047875396189, -0.19092417625670038 L -0.9828293593988698, -0.18451680222572447 L -0.9840121079196624, -0.17810157626338594 \", \"type\": \"path\"}, {\"fillcolor\": \"#af4624\", \"layer\": \"below\", \"line\": {\"color\": \"rgb(175,175,175)\", \"width\": 0.5}, \"path\": \"M -0.9857266435882287,-0.1683537469742954 Q 0.011361044834536099, -0.19967705591846968 0.9984609524200881, -0.05545923270629137L 0.9984609524200881, -0.05545923270629137 L 0.9982149921030202, -0.05972293982019957 L 0.997950824649121, -0.06398555760591106 M 0.997950824649121,-0.06398555760591106 Q 0.011496414022771339, -0.19966930776816208 -0.9840121079196624, -0.17810157626338594L -0.9840121079196624, -0.17810157626338594 L -0.9848814356773757, -0.1732297828263696 L -0.9857266435882287, -0.1683537469742954 \", \"type\": \"path\"}, {\"fillcolor\": \"#9f4021\", \"layer\": \"below\", \"line\": {\"color\": \"rgb(175,175,175)\", \"width\": 0.5}, \"path\": \"M -0.9295432435514207,-0.3687131111960953 Q -0.17609135872586557, -0.09482527818086556 -0.8194653007877684, -0.5731287994899683L -0.8194653007877684, -0.5731287994899683 L -0.8260881999672502, -0.5635408466782762 L -0.8325989232813367, -0.5538763697349426 M -0.8325989232813367,-0.5538763697349426 Q -0.1762066111120038, -0.09461094122998176 -0.9216453706674187, -0.3880332598210061L -0.9216453706674187, -0.3880332598210061 L -0.9256447149900922, -0.3783937917182457 L -0.9295432435514207, -0.3687131111960953 \", \"type\": \"path\"}, {\"fillcolor\": \"#9f4021\", \"layer\": \"below\", \"line\": {\"color\": \"rgb(175,175,175)\", \"width\": 0.5}, \"path\": \"M -0.9349598437159514,-0.3547535632501014 Q -0.15345127157020333, -0.1282681069225227 -0.514957831986491, -0.8572155104031732L -0.514957831986491, -0.8572155104031732 L -0.5222177613970896, -0.8528121772591034 L -0.5294400410388753, -0.8483473598383825 M -0.5294400410388753,-0.8483473598383825 Q -0.15357998688580948, -0.12811396343941042 -0.9295432435514207, -0.3687131111960953L -0.9295432435514207, -0.3687131111960953 L -0.9322776720763534, -0.3617434756120632 L -0.9349598437159514, -0.3547535632501014 \", \"type\": \"path\"}, {\"fillcolor\": \"#9f4021\", \"layer\": \"below\", \"line\": {\"color\": \"rgb(175,175,175)\", \"width\": 0.5}, \"path\": \"M -0.9526742871817272,-0.30399293173162417 Q -0.1233896715804766, -0.15740072727678905 -0.06775136204297844, -0.9977022366123679L -0.06775136204297844, -0.9977022366123679 L -0.06877180469136684, -0.9976324167144393 L -0.069792175392205, -0.9975615531154074 M -0.069792175392205,-0.9975615531154074 Q -0.12333639694449675, -0.15744247580862525 -0.9518431376987239, -0.3065854549972131L -0.9518431376987239, -0.3065854549972131 L -0.9522595947075234, -0.3052894762147285 L -0.9526742871817272, -0.30399293173162417 \", \"type\": \"path\"}, {\"fillcolor\": \"#9f4021\", \"layer\": \"below\", \"line\": {\"color\": \"rgb(175,175,175)\", \"width\": 0.5}, \"path\": \"M -0.911302262740548,-0.41173800641179237 Q -0.09511137268430384, -0.17593699663830648 0.15461921103082799, -0.9879741391252123L 0.15461921103082799, -0.9879741391252123 L 0.13865674966985805, -0.9903404999145446 L 0.1226581821140028, -0.9924489762000303 M 0.1226581821140028,-0.9924489762000303 Q -0.09547550739635981, -0.1757396582658782 -0.8993599881957166, -0.4372088878700896L -0.8993599881957166, -0.4372088878700896 L -0.9054206967989857, -0.42451544354480114 L -0.911302262740548, -0.41173800641179237 \", \"type\": \"path\"}, {\"fillcolor\": \"#9f4021\", \"layer\": \"below\", \"line\": {\"color\": \"rgb(175,175,175)\", \"width\": 0.5}, \"path\": \"M -0.9505127249320173,-0.3106856284772619 Q -0.05217569270045572, -0.19307433048240155 0.6646445058750529, -0.7471597424982872L 0.6646445058750529, -0.7471597424982872 L 0.662280057501345, -0.7492563816451717 L 0.6599089952600119, -0.7513455383343416 M 0.6599089952600119,-0.7513455383343416 Q -0.052238286782744586, -0.19305740440087693 -0.9487352771495529, -0.31607178597901L -0.9487352771495529, -0.31607178597901 L -0.9496278197409065, -0.3133799674103826 L -0.9505127249320173, -0.3106856284772619 \", \"type\": \"path\"}, {\"fillcolor\": \"#9f4021\", \"layer\": \"below\", \"line\": {\"color\": \"rgb(175,175,175)\", \"width\": 0.5}, \"path\": \"M -0.9564595217511549,-0.29186500861109066 Q -0.012790270018588968, -0.1995906034683286 0.9113822047602002, -0.4115610244501254L 0.9113822047602002, -0.4115610244501254 L 0.9112449773339231, -0.41186477305506225 L 0.9111076486732663, -0.41216847590405536 M 0.9111076486732663,-0.41216847590405536 Q -0.012788872163811077, -0.19959069304147853 -0.9562606498107292, -0.29251593054663166L -0.9562606498107292, -0.29251593054663166 L -0.9563601411601031, -0.29219048649849566 L -0.9564595217511549, -0.29186500861109066 \", \"type\": \"path\"}, {\"fillcolor\": \"#9f4021\", \"layer\": \"below\", \"line\": {\"color\": \"rgb(175,175,175)\", \"width\": 0.5}, \"path\": \"M -0.9559282122063043,-0.2936004991618011 Q 0.004813968384740633, -0.1999420558771734 0.9689503045926172, -0.24725555045311787L 0.9689503045926172, -0.24725555045311787 L 0.9687651509952874, -0.24798000366375936 L 0.9685794557474993, -0.24870431822523334 M 0.9685794557474993,-0.24870431822523334 Q 0.004823230134597498, -0.19994183266907584 -0.9554607331015127, -0.29511826019600995L -0.9554607331015127, -0.29511826019600995 L -0.9556947739528932, -0.29435947248072114 L -0.9559282122063043, -0.2936004991618011 \", \"type\": \"path\"}, {\"fillcolor\": \"#9f4021\", \"layer\": \"below\", \"line\": {\"color\": \"rgb(175,175,175)\", \"width\": 0.5}, \"path\": \"M -0.9518431376987239,-0.3065854549972131 Q 0.021474035114276698, -0.19884382267475853 0.9953524435231992, -0.09629908188761022L 0.9953524435231992, -0.09629908188761022 L 0.995173155381954, -0.09813455460297969 L 0.9949904825529845, -0.09996969355249094 M 0.9949904825529845,-0.09996969355249094 Q 0.02153589472350982, -0.1988371324437614 -0.9505127249320173, -0.3106856284772619L -0.9505127249320173, -0.3106856284772619 L -0.9511801406027302, -0.3086362586005904 L -0.9518431376987239, -0.3065854549972131 \", \"type\": \"path\"}, {\"fillcolor\": \"#8f391e\", \"layer\": \"below\", \"line\": {\"color\": \"rgb(175,175,175)\", \"width\": 0.5}, \"path\": \"M -0.7484490761397691,-0.6631922650525458 Q -0.10887165012294103, -0.167770568931228 -0.3007961693096539, -0.9536884525507467L -0.3007961693096539, -0.9536884525507467 L -0.3396709280194058, -0.9405443427390522 L -0.377973675965397, -0.9258163426280641 M -0.377973675965397,-0.9258163426280641 Q -0.10897799503958577, -0.16770151042000792 -0.6924714661970195, -0.7214452636915362L -0.6924714661970195, -0.7214452636915362 L -0.721048788428803, -0.6928842938798333 L -0.7484490761397691, -0.6631922650525458 \", \"type\": \"path\"}, {\"fillcolor\": \"#8f391e\", \"layer\": \"below\", \"line\": {\"color\": \"rgb(175,175,175)\", \"width\": 0.5}, \"path\": \"M -0.8690085623690795,-0.49479704781781547 Q -0.10445282367791386, -0.17055675778376722 -0.045796466168075624, -0.9989507914239402L -0.045796466168075624, -0.9989507914239402 L -0.04843583781249529, -0.9988262960171812 L -0.051074871288464836, -0.9986948270231837 M -0.051074871288464836,-0.9986948270231837 Q -0.10423369864733674, -0.17069076151419618 -0.8650960999685839, -0.5016061580753827L -0.8650960999685839, -0.5016061580753827 L -0.8670590152815035, -0.4982054435863476 L -0.8690085623690795, -0.49479704781781547 \", \"type\": \"path\"}, {\"fillcolor\": \"#8f391e\", \"layer\": \"below\", \"line\": {\"color\": \"rgb(175,175,175)\", \"width\": 0.5}, \"path\": \"M -0.7974064955032263,-0.6034425249593064 Q -0.047882572327161865, -0.1941835710541294 0.4254534799111666, -0.9049802961564846L 0.4254534799111666, -0.9049802961564846 L 0.38920731577267953, -0.9211501860983505 L 0.35234805290518895, -0.9358690344347985 M 0.35234805290518895,-0.9358690344347985 Q -0.04808831886937032, -0.19413272158066958 -0.7484490761397691, -0.6631922650525458L -0.7484490761397691, -0.6631922650525458 L -0.7735049256179468, -0.6337902886955389 L -0.7974064955032263, -0.6034425249593064 \", \"type\": \"path\"}, {\"fillcolor\": \"#8f391e\", \"layer\": \"below\", \"line\": {\"color\": \"rgb(175,175,175)\", \"width\": 0.5}, \"path\": \"M -0.8650960999685839,-0.5016061580753827 Q -0.02974965529331516, -0.19777501867002548 0.6792478047802954, -0.7339089996049576L 0.6792478047802954, -0.7339089996049576 L 0.6751554234986645, -0.7376755073339083 L 0.6710421568477452, -0.7414191956869786 M 0.6710421568477452,-0.7414191956869786 Q -0.02974741385156314, -0.19777535581852415 -0.8594513834035759, -0.5112174875389922L -0.8594513834035759, -0.5112174875389922 L -0.8622871331608903, -0.5064196875963385 L -0.8650960999685839, -0.5016061580753827 \", \"type\": \"path\"}, {\"fillcolor\": \"#8f391e\", \"layer\": \"below\", \"line\": {\"color\": \"rgb(175,175,175)\", \"width\": 0.5}, \"path\": \"M -0.8763066000536085,-0.4817538196034204 Q 0.009844749255545985, -0.1997575553316956 0.9194300211338134, -0.3932536538137636L 0.9194300211338134, -0.3932536538137636 L 0.9181581945398068, -0.39621399495651605 L 0.9168768363963206, -0.3991702229373765 M 0.9168768363963206,-0.3991702229373765 Q 0.009934890044495673, -0.19975309249121473 -0.8727437911459812, -0.4881785278114349L -0.8727437911459812, -0.4881785278114349 L -0.8745310954778847, -0.48496944547285753 L -0.8763066000536085, -0.4817538196034204 \", \"type\": \"path\"}, {\"fillcolor\": \"#8f391e\", \"layer\": \"below\", \"line\": {\"color\": \"rgb(175,175,175)\", \"width\": 0.5}, \"path\": \"M -0.8851831452883618,-0.46524273159008384 Q 0.022928394619461754, -0.19868137486985094 0.9678849900712492, -0.25139340881331357L 0.9678849900712492, -0.25139340881331357 L 0.9678312603328064, -0.2516001818811175 L 0.9677774864206223, -0.2518069434653902 M 0.9677774864206223,-0.2518069434653902 Q 0.02293627965794895, -0.19868046475547707 -0.8849473147848935, -0.4656911530778811L -0.8849473147848935, -0.4656911530778811 L -0.8850652584359227, -0.46546695726952886 L -0.8851831452883618, -0.46524273159008384 \", \"type\": \"path\"}, {\"fillcolor\": \"#8f391e\", \"layer\": \"below\", \"line\": {\"color\": \"rgb(175,175,175)\", \"width\": 0.5}, \"path\": \"M -0.8849473147848935,-0.4656911530778811 Q 0.03742933720236475, -0.19646639589657994 0.994184219687522, -0.10769279142223426L 0.994184219687522, -0.10769279142223426 L 0.9941528183853153, -0.10798228417909268 L 0.9941213327868051, -0.10827176777990755 M 0.9941213327868051,-0.10827176777990755 Q 0.03744678314609333, -0.19646307142058395 -0.884593143115976, -0.46636356113251215L -0.884593143115976, -0.46636356113251215 L -0.8847702928275523, -0.46602739075063754 L -0.8849473147848935, -0.4656911530778811 \", \"type\": \"path\"}, {\"fillcolor\": \"#f0f3e7\", \"layer\": \"below\", \"line\": {\"color\": \"rgb(175,175,175)\", \"width\": 0.5}, \"path\": \"M -0.5517344592235691,-0.8340198357984514 Q -0.0606894871617043, -0.19056963595507373 -0.03216922543143476, -0.9994824365315989L -0.03216922543143476, -0.9994824365315989 L -0.035917420463447106, -0.9993547612871276 L -0.039665110307351904, -0.9992130298511452 M -0.039665110307351904,-0.9992130298511452 Q -0.06032533778393611, -0.19068522129744092 -0.542257134279616, -0.8402125923377122L -0.542257134279616, -0.8402125923377122 L -0.5470045605132543, -0.8371296260303427 L -0.5517344592235691, -0.8340198357984514 \", \"type\": \"path\"}, {\"fillcolor\": \"#f0f3e7\", \"layer\": \"below\", \"line\": {\"color\": \"rgb(175,175,175)\", \"width\": 0.5}, \"path\": \"M -0.3007961693096539,-0.9536884525507467 Q 0.023050494599720237, -0.19866724616480763 0.5111701480521456, -0.8594795400359148L 0.5111701480521456, -0.8594795400359148 L 0.46886408992017586, -0.8832703239571253 L 0.4254534799111666, -0.9049802961564846 M 0.4254534799111666,-0.9049802961564846 Q 0.02294030658658265, -0.198679999833183 -0.20802351250490156, -0.9781238256198052L -0.20802351250490156, -0.9781238256198052 L -0.2547030408431014, -0.9670193177932266 L -0.3007961693096539, -0.9536884525507467 \", \"type\": \"path\"}, {\"fillcolor\": \"#f0f3e7\", \"layer\": \"below\", \"line\": {\"color\": \"rgb(175,175,175)\", \"width\": 0.5}, \"path\": \"M -0.4735857832615627,-0.8807476970691052 Q 0.0403541110464477, -0.19588656340252378 0.7831331021672983, -0.621854118173888L 0.7831331021672983, -0.621854118173888 L 0.7740109902773672, -0.6331721621564307 L 0.764725321316298, -0.6443564098677725 M 0.764725321316298,-0.6443564098677725 Q 0.040404683622595534, -0.19587613826435818 -0.44732121813509274, -0.8943733715882516L -0.44732121813509274, -0.8943733715882516 L -0.46050389906804295, -0.8876576811717057 L -0.4735857832615627, -0.8807476970691052 \", \"type\": \"path\"}, {\"fillcolor\": \"#f0f3e7\", \"layer\": \"below\", \"line\": {\"color\": \"rgb(175,175,175)\", \"width\": 0.5}, \"path\": \"M -0.542257134279616,-0.8402125923377122 Q 0.062317518422596724, -0.19004348685932207 0.9344985881898441, -0.35596683647664173L 0.9344985881898441, -0.35596683647664173 L 0.9321451409774056, -0.36208484662052964 L 0.9297516406423461, -0.36818729842685466 M 0.9297516406423461,-0.36818729842685466 Q 0.06251424328517546, -0.1899788656311062 -0.5294400410388753, -0.8483473598383825L -0.5294400410388753, -0.8483473598383825 L -0.5358640242701321, -0.8443042979240478 L -0.542257134279616, -0.8402125923377122 \", \"type\": \"path\"}, {\"fillcolor\": \"#f0f3e7\", \"layer\": \"below\", \"line\": {\"color\": \"rgb(175,175,175)\", \"width\": 0.5}, \"path\": \"M -0.595765568663048,-0.80315838238519 Q 0.06723658352794652, -0.1883593423100895 0.9696855004114606, -0.24435635922106735L 0.9696855004114606, -0.24435635922106735 L 0.969318986422118, -0.24580622970461474 L 0.9689503045926172, -0.24725555045311787 M 0.9689503045926172,-0.24725555045311787 Q 0.06729414924143116, -0.18833878378568764 -0.5928685530405055, -0.8052992479914888L -0.5928685530405055, -0.8052992479914888 L -0.5943180248367712, -0.80423011965116 L -0.595765568663048, -0.80315838238519 \", \"type\": \"path\"}, {\"fillcolor\": \"#f0f3e7\", \"layer\": \"below\", \"line\": {\"color\": \"rgb(175,175,175)\", \"width\": 0.5}, \"path\": \"M -0.5893404095106926,-0.8078848195861642 Q 0.08337634723968111, -0.1817921470277749 0.9967592024293539, -0.0804431002162291L 0.9967592024293539, -0.0804431002162291 L 0.9965045356140201, -0.08353867667545484 L 0.9962402550721983, -0.08663344719957439 M 0.9962402550721983,-0.08663344719957439 Q 0.08356005868839123, -0.18170777801732269 -0.5826686630669182, -0.8127098061914906L -0.5826686630669182, -0.8127098061914906 L -0.5860095022053766, -0.8103041795060709 L -0.5893404095106926, -0.8078848195861642 \", \"type\": \"path\"}, {\"fillcolor\": \"#e2ecde\", \"layer\": \"below\", \"line\": {\"color\": \"rgb(175,175,175)\", \"width\": 0.5}, \"path\": \"M -0.03216922543143476,-0.9994824365315989 Q 0.003873554033872219, -0.1999624854295092 0.07085332166439064, -0.9974867451796652L 0.07085332166439064, -0.9974867451796652 L 0.0638418516723683, -0.9979600282451414 L 0.056827228869123225, -0.9983840273457184 M 0.056827228869123225,-0.9983840273457184 Q 0.003388691739982042, -0.1999712898600481 -0.022967300419158034, -0.9997362167649305L -0.022967300419158034, -0.9997362167649305 L -0.02756855494616928, -0.999619915156846 L -0.03216922543143476, -0.9994824365315989 \", \"type\": \"path\"}, {\"fillcolor\": \"#e2ecde\", \"layer\": \"below\", \"line\": {\"color\": \"rgb(175,175,175)\", \"width\": 0.5}, \"path\": \"M -0.06775136204297844,-0.9977022366123679 Q 0.06358494316709967, -0.18962319215337745 0.6555290392593232, -0.7551699667543385L 0.6555290392593232, -0.7551699667543385 L 0.654095993532915, -0.7564115488569624 L 0.6526605962358005, -0.7576504115495017 M 0.6526605962358005,-0.7576504115495017 Q 0.06346782891618429, -0.18966242298532932 -0.06519994765755, -0.9978722196881987L -0.06519994765755, -0.9978722196881987 L -0.06647570918262574, -0.9977880436689281 L -0.06775136204297844, -0.9977022366123679 \", \"type\": \"path\"}, {\"fillcolor\": \"#e2ecde\", \"layer\": \"below\", \"line\": {\"color\": \"rgb(175,175,175)\", \"width\": 0.5}, \"path\": \"M -0.07268282565667675,-0.9973551056943365 Q 0.10296957185925631, -0.17145631301040348 0.9145554023280346, -0.4044606483610079L 0.9145554023280346, -0.4044606483610079 L 0.9142405686707458, -0.40517179393016917 L 0.9139251820366464, -0.4058826944318797 M 0.9139251820366464,-0.4058826944318797 Q 0.10293852458084707, -0.1714749548975545 -0.07149263044417091, -0.9974411279830872L -0.07149263044417091, -0.9974411279830872 L -0.0720877408817232, -0.9973982943711953 L -0.07268282565667675, -0.9973551056943365 \", \"type\": \"path\"}, {\"fillcolor\": \"#e2ecde\", \"layer\": \"below\", \"line\": {\"color\": \"rgb(175,175,175)\", \"width\": 0.5}, \"path\": \"M -0.07353290182702046,-0.9972927916860213 Q 0.116683033740269, -0.16243481657935052 0.9685794557474993, -0.24870431822523334L 0.9685794557474993, -0.24870431822523334 L 0.9684464847195645, -0.2492216006575638 L 0.9683132374302525, -0.2497388119963401 M 0.9683132374302525,-0.2497388119963401 Q 0.11666550291737623, -0.1624474081942697 -0.07268282565667675, -0.9973551056943365L -0.07268282565667675, -0.9973551056943365 L -0.0731078703810719, -0.9973240392612345 L -0.07353290182702046, -0.9972927916860213 \", \"type\": \"path\"}, {\"fillcolor\": \"#e2ecde\", \"layer\": \"below\", \"line\": {\"color\": \"rgb(175,175,175)\", \"width\": 0.5}, \"path\": \"M -0.07540288048480362,-0.9971531505313487 Q 0.12780415986132962, -0.15383789104814102 0.9940792208658242, -0.10865773162916607L 0.9940792208658242, -0.10865773162916607 L 0.9940581087115612, -0.10885070741522021 L 0.9940369590958437, -0.10904367909919441 M 0.9940369590958437,-0.10904367909919441 Q 0.12780052066641334, -0.1538409143153851 -0.07506290389375526, -0.9971788006466227L -0.07506290389375526, -0.9971788006466227 L -0.07523289328243186, -0.9971659900780583 L -0.07540288048480362, -0.9971531505313487 \", \"type\": \"path\"}, {\"fillcolor\": \"#d4e5d6\", \"layer\": \"below\", \"line\": {\"color\": \"rgb(175,175,175)\", \"width\": 0.5}, \"path\": \"M 0.22157976860923534,-0.9751422491837166 Q 0.11481787294535101, -0.1637585297085475 0.8412271573275014, -0.5406818563394663L 0.8412271573275014, -0.5406818563394663 L 0.8316679927468429, -0.5552732208925956 L 0.8218557636160876, -0.5696956238299691 M 0.8218557636160876,-0.5696956238299691 Q 0.114902194902475, -0.16369937570618176 0.25645450770706185, -0.966556302279763L 0.25645450770706185, -0.966556302279763 L 0.23905568797744736, -0.9710058589141619 L 0.22157976860923534, -0.9751422491837166 \", \"type\": \"path\"}, {\"fillcolor\": \"#d4e5d6\", \"layer\": \"below\", \"line\": {\"color\": \"rgb(175,175,175)\", \"width\": 0.5}, \"path\": \"M 0.08668063260793589,-0.9962361506845092 Q 0.12164431602913746, -0.15875345784518627 0.9393900247181945, -0.3428503776575866L 0.9393900247181945, -0.3428503776575866 L 0.9369672586433269, -0.3494171664792802 L 0.9344985881898441, -0.35596683647664173 M 0.9344985881898441,-0.35596683647664173 Q 0.12183460575059245, -0.15860746779895868 0.10300389035900408, -0.9946809531557896L 0.10300389035900408, -0.9946809531557896 L 0.0948454491429991, -0.9954920093988011 L 0.08668063260793589, -0.9962361506845092 \", \"type\": \"path\"}, {\"fillcolor\": \"#d4e5d6\", \"layer\": \"below\", \"line\": {\"color\": \"rgb(175,175,175)\", \"width\": 0.5}, \"path\": \"M 0.008446506003642539,-0.9999643276319063 Q 0.12307822963389392, -0.15764437633542935 0.9680459142196173, -0.25077302080308655L 0.9680459142196173, -0.25077302080308655 L 0.9679655018477848, -0.2510832277006294 L 0.9678849900712492, -0.25139340881331357 M 0.9678849900712492,-0.25139340881331357 Q 0.12308925711637445, -0.15763576619073183 0.009227302151043216, -0.9999574275412996L 0.009227302151043216, -0.9999574275412996 L 0.008836904750814719, -0.9999609537949095 L 0.008446506003642539, -0.9999643276319063 \", \"type\": \"path\"}, {\"fillcolor\": \"#d4e5d6\", \"layer\": \"below\", \"line\": {\"color\": \"rgb(175,175,175)\", \"width\": 0.5}, \"path\": \"M 0.045650140145250755,-0.998957488937702 Q 0.14011693281320578, -0.14271385755777038 0.997950824649121, -0.06398555760591106L 0.997950824649121, -0.06398555760591106 L 0.9976750744779912, -0.0681501706918979 L 0.9973819447668448, -0.07231359659916307 M 0.9973819447668448,-0.07231359659916307 Q 0.14031975714350925, -0.14251444051458992 0.056827228869123225, -0.9983840273457184L 0.056827228869123225, -0.9983840273457184 L 0.051239486771204684, -0.9986863947182937 L 0.045650140145250755, -0.998957488937702 \", \"type\": \"path\"}, {\"fillcolor\": \"#c6decd\", \"layer\": \"below\", \"line\": {\"color\": \"rgb(175,175,175)\", \"width\": 0.5}, \"path\": \"M 0.6968579290499315,-0.7172091931370098 Q 0.16636330650722117, -0.11101013578941513 0.9297516406423461, -0.36818729842685466L 0.9297516406423461, -0.36818729842685466 L 0.9273597672059585, -0.3741708996804944 L 0.9249293855795062, -0.3801389636587087 M 0.9249293855795062,-0.3801389636587087 Q 0.1664617705270635, -0.1108624325594349 0.7072991318698147, -0.7069143781648569L 0.7072991318698147, -0.7069143781648569 L 0.7020973997505778, -0.7120809232548484 L 0.6968579290499315, -0.7172091931370098 \", \"type\": \"path\"}, {\"fillcolor\": \"#c6decd\", \"layer\": \"below\", \"line\": {\"color\": \"rgb(175,175,175)\", \"width\": 0.5}, \"path\": \"M 0.7332479169209781,-0.6799613903237789 Q 0.18059151385335678, -0.08594594303486844 0.9901213171291205, -0.14021332806297504L 0.9901213171291205, -0.14021332806297504 L 0.9888551886108725, -0.14888054257476258 L 0.9875131914748473, -0.15753633442213139 M 0.9875131914748473,-0.15753633442213139 Q 0.18072931381729768, -0.08565579447491417 0.7471853311703558, -0.6646157392688242L 0.7471853311703558, -0.6646157392688242 L 0.740256389884707, -0.6723246814113406 L 0.7332479169209781, -0.6799613903237789 \", \"type\": \"path\"}, {\"fillcolor\": \"#c6decd\", \"layer\": \"below\", \"line\": {\"color\": \"rgb(175,175,175)\", \"width\": 0.5}, \"path\": \"M 0.7196978599596091,-0.6942873975304168 Q 0.18425713762760976, -0.07777729252988996 0.9995065603657315, -0.031410759078131026L 0.9995065603657315, -0.031410759078131026 L 0.9992401075378838, -0.03897701229799933 L 0.9989163790815561, -0.046541031387293014 M 0.9989163790815561,-0.046541031387293014 Q 0.18443466321332283, -0.07735538123096664 0.7332479169209781, -0.6799613903237789L 0.7332479169209781, -0.6799613903237789 L 0.726508201095765, -0.6871577939167943 L 0.7196978599596091, -0.6942873975304168 \", \"type\": \"path\"}, {\"fillcolor\": \"#b8d7c5\", \"layer\": \"below\", \"line\": {\"color\": \"rgb(175,175,175)\", \"width\": 0.5}, \"path\": \"M 0.9113822047602002,-0.4115610244501254 Q 0.1929897232734078, -0.052487776775678854 0.9942882818541108, -0.1067277497542247L 0.9942882818541108, -0.1067277497542247 L 0.9942363678588533, -0.10721028321404161 L 0.994184219687522, -0.10769279142223426 M 0.994184219687522,-0.10769279142223426 Q 0.19299340723961356, -0.05247422950405926 0.911838898181616, -0.4105481990740387L 0.911838898181616, -0.4105481990740387 L 0.9116106921306394, -0.41105467518700795 L 0.9113822047602002, -0.4115610244501254 \", \"type\": \"path\"}, {\"fillcolor\": \"#aad0bc\", \"layer\": \"below\", \"line\": {\"color\": \"rgb(175,175,175)\", \"width\": 0.5}, \"path\": \"M 0.9705151018229904,-0.24104032262986744 Q 0.19719390101725884, -0.03338510748216236 0.9957724889328274, -0.09185396172469636L 0.9957724889328274, -0.09185396172469636 L 0.9955649471206386, -0.0940767562402115 L 0.9953524435231992, -0.09629908188761022 M 0.9953524435231992,-0.09629908188761022 Q 0.19720138751317784, -0.033340857260686536 0.9716877845615263, -0.23626859574203427L 0.9716877845615263, -0.23626859574203427 L 0.9711043740579383, -0.2386551794651438 L 0.9705151018229904, -0.24104032262986744 \", \"type\": \"path\"}, {\"fillcolor\": \"#f2e6ce\", \"layer\": \"below\", \"line\": {\"color\": \"rgb(150,150,150)\", \"width\": 0.45}, \"path\": \"M 1.1, 0.0 L 1.0997239463976418, 0.02464227504912715 L 1.0988959241461878, 0.049272181754985905 L 1.0975163488429565, 0.07387735798217282 L 1.0955859129183705, 0.09844545400789846 L 1.093105585288413, 0.12296413872050654 L 1.0900766108683162, 0.14742110580865153 L 1.0865005099477163, 0.17180407993802904 L 1.0823790774275979, 0.19610082291255795 L 1.0777143819194046, 0.22029913981692245 L 1.072508764706771, 0.24438688513739074 L 1.0667648385703954, 0.26835196885783846 L 1.0604854864766444, 0.2921823625279169 L 0.9640777149787676, 0.26562032957083354 L 0.9697862168821776, 0.2439563353253077 L 0.9750079679152464, 0.2221698955794461 L 0.9797403471994587, 0.2002719452881113 L 0.9839809794796343, 0.17827347537505267 L 0.9877277363161057, 0.15618552721639004 L 0.9909787371530147, 0.1340191870987741 L 0.9937323502621936, 0.11178558065500593 L 0.9959871935621548, 0.08949586727990769 L 0.9977421353117785, 0.067161234529248 L 0.9989962946783524, 0.04479289250453264 L 0.9997490421796743, 0.022402068226479225 L 1.0, 0.0 L 1.1 ,0.0\", \"type\": \"path\"}, {\"fillcolor\": \"#ecd5bb\", \"layer\": \"below\", \"line\": {\"color\": \"rgb(150,150,150)\", \"width\": 0.45}, \"path\": \"M 1.0507845311098076, 0.325348842291381 L 1.043893460549169, 0.34682335997259617 L 1.0365635736164018, 0.36815208521967485 L 1.028797951540112, 0.3893260521810348 L 1.0205998587167495, 0.4103363600600749 L 1.0119727413383703, 0.4311741768567596 L 1.0029202259439778, 0.45183074308028304 L 0.993446117895052, 0.4722973754312537 L 0.9835543997759085, 0.4925654704518503 L 0.9732492297195591, 0.5126265081424147 L 0.962534939659778, 0.5324720555429627 L 0.9514160335101074, 0.5520937702781061 L 0.9398971852705709, 0.5714834040638961 L 0.9279832370628851, 0.5906328061751136 L 0.9156791970950022, 0.6095339268715502 L 0.9029902375558334, 0.6281788207818374 L 0.8899216924410417, 0.6465596502434033 L 0.8764790553108159, 0.6646686885971537 L 0.8626679769805697, 0.6824983234354874 L 0.8484942631455369, 0.7000410598022895 L 0.8339638719402582, 0.7172895233435469 L 0.8190829114339914, 0.7342364634072708 L 0.8038576370630904, 0.750874756091417 L 0.7882944490014399, 0.7671974072385259 L 0.7723998894700437, 0.7831975553758225 L 0.7561806399869057, 0.7988684745995388 L 0.7396435185583505, 0.8142035774022509 L 0.7227954768129737, 0.8291964174420354 L 0.7056435970794185, 0.8438406922522873 L 0.6881950894092124, 0.8581302458910574 L 0.6704572885459134, 0.872059071528794 L 0.6524376508418395, 0.885621313973406 L 0.6341437511236785, 0.8988112721315806 L 0.6155832795082958, 0.9116234014053235 L 0.5967640381700771, 0.9240523160227146 L 0.5776939380611666, 0.9360927913018993 L 0.5583809955859793, 0.947739765847361 L 0.5388333292313845, 0.9589883436775561 L 0.5190591561539762, 0.9698337962830138 L 0.49906678872586885, 0.9802715646140355 L 0.47886463104046545, 0.9902972609971609 L 0.4584611753796698, 0.999906670979593 L 0.43786499864402767, 1.009095755100806 L 0.41708475874729867, 1.0178606505905943 L 0.39612919097696925, 1.026197672992846 L 0.3750071043222438, 1.0341033177143597 L 0.35372737777105373, 1.041574261498053 L 0.33229895657764025, 1.0486073638199438 L 0.3020899605251275, 0.9532794216544942 L 0.32157034342823065, 0.9468856922709572 L 0.340915549383858, 0.9400939251948723 L 0.36011744634269927, 0.9329069754480417 L 0.3791679624975442, 0.9253278641732674 L 0.39805908967638876, 0.917359777364369 L 0.4167828867087907, 0.9090060645269026 L 0.4353314827640595, 0.9002702372701462 L 0.45369708065988074, 0.8911559678309413 L 0.47187196013997834, 0.8816670875300124 L 0.4898484811194404, 0.8718075851614147 L 0.5076190868963448, 0.8615816053157827 L 0.5251763073283333, 0.8509934466380902 L 0.5425127619727973, 0.8400475600206496 L 0.5596211631893598, 0.8287485467321122 L 0.576494319203344, 0.8171011564832551 L 0.5931251371289449, 0.8051102854303691 L 0.6095066259508303, 0.7927809741170854 L 0.6256318994629203, 0.7801184053555066 L 0.6414941791631077, 0.7671279020475339 L 0.6570867971027033, 0.7538149249473048 L 0.6724031986894096, 0.7401850703656826 L 0.6874369454426414, 0.7262440678177625 L 0.7021817177000397, 0.711997777614384 L 0.7166313172740362, 0.6974521883986599 L 0.7307796700573549, 0.6826134146285608 L 0.7446208285763557, 0.6674876940066098 L 0.7581489744911438, 0.6520813848577699 L 0.7713584210413971, 0.6364009634566268 L 0.7842436154368815, 0.6204530213049886 L 0.7967991411916507, 0.6042442623610488 L 0.8090197204009469, 0.5877815002212757 L 0.8209002159598485, 0.5710716552562157 L 0.8324356337227292, 0.5541217517014092 L 0.8436211246026227, 0.5369389147046487 L 0.8544519866096099, 0.5195303673308146 L 0.8649236668273703, 0.501903427525551 L 0.8750317633270708, 0.484065505039057 L 0.8847720270177809, 0.46602409831128605 L 0.894140363432644, 0.4477867913198639 L 0.9031328344500472, 0.4293612503920488 L 0.9117456599490706, 0.41075522098207545 L 0.9199752193985183, 0.39197652441523595 L 0.927818053378863, 0.3730330546000681 L 0.9352708650364653, 0.3539327747100316 L 0.9423305214694561, 0.33468371383606804 L 0.9489940550446989, 0.315293963611451 L 0.9552586646452796, 0.29577167481034633 L 1.0507845311098076 ,0.325348842291381\", \"type\": \"path\"}, {\"fillcolor\": \"#e6c4a9\", \"layer\": \"below\", \"line\": {\"color\": \"rgb(150,150,150)\", \"width\": 0.45}, \"path\": \"M 0.2991974338295393, 1.058527701852823 L 0.27650560093520127, 1.0646805401863337 L 0.25368744915365415, 1.070346989598192 L 0.2307534027350084, 1.0755244614262454 L 0.20771393887471015, 1.0802105903929813 L 0.18457958292713467, 1.0844032356860824 L 0.1613609035971829, 1.0881004819364344 L 0.1380685081120697, 1.0913006400931449 L 0.11471303737551738, 1.0940022481951686 L 0.09130516110656094, 1.0962040720391917 L 0.0678555729651926, 1.0979051057434634 L 0.0443749856670658, 1.0991045722073254 L 0.02087412608949717, 1.0998019234662213 L -0.0026362696290035334, 1.0999968409420289 L -0.02614546099343428, 1.0996892355886008 L -0.04964270805898948, 1.0988792479324423 L -0.07311727633750098, 1.0975672480085152 L -0.09655844170138232, 1.0957538351911897 L -0.11995549528284385, 1.0934398379204262 L -0.14329774836613252, 1.090626313323311 L -0.1665745372705694, 1.0873145467311178 L -0.1897752282221465, 1.0835060510921166 L -0.21288922221146356, 1.0792025662803986 L -0.2359059598357824, 1.074406058301031 L -0.25881492612298673, 1.0691187183919066 L -0.23528629647544244, 0.971926107629006 L -0.21445996348707488, 0.9767327802736645 L -0.19353565655587596, 0.9810932420730896 L -0.1725229347474059, 0.9850055009928332 L -0.15143139751869944, 0.9884677697555615 L -0.13027068033284772, 0.9914784666575553 L -0.10905045025713077, 0.9940362162912965 L -0.0877804015467112, 0.9961398501738088 L -0.06647025121590998, 0.9977884072804684 L -0.045129734599081345, 0.9989811344840385 L -0.02376860090312207, 0.9997174868987279 L -0.002396608753639576, 0.9999971281291171 L 0.018976478263179244, 0.9998199304238374 L 0.040340896060968905, 0.9991859747339321 L 0.06168688451381144, 0.9980955506758757 L 0.08300469191505538, 0.996549156399265 L 0.10428457943228853, 0.9945474983592442 L 0.125516825556427, 0.9920914909937679 L 0.14669173054289353, 0.9891822563058494 L 0.1677996208428497, 0.9858211233509839 L 0.18883085352246376, 0.982009627629983 L 0.20977582066818945, 0.9777495103874957 L 0.2306249537760492, 0.9730427178165382 L 0.2513687281229102, 0.9678914001693942 L 0.27199766711776296, 0.9622979107752935 L 0.2991974338295393 ,1.058527701852823\", \"type\": \"path\"}, {\"fillcolor\": \"#e1b396\", \"layer\": \"below\", \"line\": {\"color\": \"rgb(150,150,150)\", \"width\": 0.45}, \"path\": \"M -0.29226904706982293, 1.060461599552241 L -0.3156755004515974, 1.0537309800962642 L -0.33892720414659433, 1.0464838031662855 L -0.3620127597603909, 1.0387236214559992 L -0.38492085034727785, 1.0304542391430727 L -0.40764024595802584, 1.0216797100242718 L -0.4301598091450042, 1.0124043355282186 L -0.45246850042195425, 1.0026326626067537 L -0.4745553836757385, 0.9923694815059423 L -0.4964096315274177, 0.9816198234178105 L -0.5180205306400205, 0.9703889580139665 L -0.5393774869704114, 0.9586823908623147 L -0.5604700309626764, 0.9465058607281293 L -0.5812878226804837, 0.9338653367608108 L -0.6018206568759025, 0.9207670155677045 L -0.622058467992196, 0.9072173181764126 L -0.6419913350981329, 0.8932228868870955 L -0.6616094867514036, 0.8787905820162983 L -0.6809033057887528, 0.8639274785339036 L -0.6190030052625025, 0.7853886168490032 L -0.6014631697740033, 0.7989005291057257 L -0.583628486452848, 0.8120208062609958 L -0.5655076981747236, 0.8247430165240114 L -0.5471096880690022, 0.8370609232433677 L -0.5284434751640761, 0.8489684879643734 L -0.5095182099660694, 0.8604598733892084 L -0.49034316997310123, 0.8715294462384678 L -0.47092775512729135, 0.8821717800126968 L -0.45128148320674333, 0.892381657652555 L -0.43141398515976226, 0.9021540740963111 L -0.4113350003835947, 0.9114842387334123 L -0.39105437195000375, 0.9203675777529259 L -0.37058204178002346, 0.9287997363857017 L -0.34992804577025255, 0.9367765810391568 L -0.32910250887308257, 0.9442942013236355 L -0.30811564013326753, 0.9513489119693503 L -0.28697772768327034, 0.9579372546329674 L -0.265699133699839, 0.9640559995929464 L -0.29226904706982293 ,1.060461599552241\", \"type\": \"path\"}, {\"fillcolor\": \"#dba284\", \"layer\": \"below\", \"line\": {\"color\": \"rgb(150,150,150)\", \"width\": 0.45}, \"path\": \"M -0.7077039389997754, 0.8421134927812298 L -0.7260987769236994, 0.8263053710039092 L -0.744140606759334, 0.810095523609315 L -0.7618206570942185, 0.7934918313533753 L -0.7791303324025547, 0.7765023664679233 L -0.7083003021841405, 0.7059112422435665 L -0.6925642337220168, 0.7213562103212502 L -0.6764914606903036, 0.7364504760084681 L -0.660089797203363, 0.7511867009126447 L -0.643367217272523, 0.7655577207102089 L -0.7077039389997754 ,0.8421134927812298\", \"type\": \"path\"}, {\"fillcolor\": \"#d59171\", \"layer\": \"below\", \"line\": {\"color\": \"rgb(150,150,150)\", \"width\": 0.45}, \"path\": \"M -0.8031364073730067, 0.751646134262646 L -0.830760882731123, 0.720996779274225 L -0.8572164606373748, 0.6893329671590734 L -0.8824659175557914, 0.6566992495445807 L -0.9064737269871516, 0.6231415427348936 L -0.8240670245337741, 0.5664923115771759 L -0.8022417432325376, 0.5969993177678006 L -0.7792876914885225, 0.6266663337809758 L -0.7552371661192027, 0.6554516175220226 L -0.7301240067027334, 0.6833146675114964 L -0.8031364073730067 ,0.751646134262646\", \"type\": \"path\"}, {\"fillcolor\": \"#d0805f\", \"layer\": \"below\", \"line\": {\"color\": \"rgb(150,150,150)\", \"width\": 0.45}, \"path\": \"M -0.925599785793252, 0.5943610321509027 L -0.9393242510722175, 0.5724246250360112 L -0.9525289308710774, 0.550171460413572 L -0.9652065182339842, 0.5276138523187482 L -0.9773499978775292, 0.5047642832538709 L -0.9889526500727269, 0.481635397281108 L -1.0000080543634517, 0.4582399930257331 L -1.0105100931192683, 0.43459101659386357 L -1.0204529549206902, 0.41070155440858985 L -1.0298311377749931, 0.3865848259684583 L -1.0386394521608038, 0.3622541765323147 L -1.0468730238997788, 0.33772306973455796 L -0.9517027489997989, 0.3070209724859618 L -0.9442176837825489, 0.3293219786657406 L -0.9362101252499937, 0.3514407508804166 L -0.9276845044733547, 0.3733650494623544 L -0.9186455391993348, 0.39508274235805774 L -0.9090982312395015, 0.4165818118415755 L -0.8990478637024789, 0.4378503611646436 L -0.888499998070481, 0.4588766211398826 L -0.8774604711218037, 0.47964895665340745 L -0.8659353917009793, 0.5001558731032473 L -0.8539311373383794, 0.5203860227600101 L -0.8414543507211381, 0.5403282110462752 L -0.925599785793252 ,0.5943610321509027\", \"type\": \"path\"}, {\"fillcolor\": \"#ca6f4c\", \"layer\": \"below\", \"line\": {\"color\": \"rgb(150,150,150)\", \"width\": 0.45}, \"path\": \"M -1.0569645932362983, 0.30467334744743674 L -1.0608528464584577, 0.29084572914345536 L -1.064560209768104, 0.2769685176667026 L -1.0680860510091124, 0.26304407927144047 L -1.0714297689773518, 0.2490747882647678 L -0.9740270627066833, 0.22643162569524344 L -0.970987319099193, 0.23913098115585493 L -0.9677820088800945, 0.25178956151518417 L -0.9644116785985978, 0.26440520831223213 L -0.9608769029420894, 0.27697577040676064 L -1.0569645932362983 ,0.30467334744743674\", \"type\": \"path\"}, {\"fillcolor\": \"#c45e3a\", \"layer\": \"below\", \"line\": {\"color\": \"rgb(150,150,150)\", \"width\": 0.45}, \"path\": \"M -1.0787247112306235, 0.2152974625498589 L -1.0842745173698254, 0.18533421427904845 L -1.088992213075138, 0.1552287340079579 L -1.092874177820802, 0.1250041257419378 L -1.0959174324504164, 0.09468358490935573 L -0.996288574954924, 0.08607598628123247 L -0.9935219798370927, 0.11364011431085255 L -0.9899929209773981, 0.14111703091632535 L -0.9857041066998412, 0.16848564934458948 L -0.9806588283914759, 0.19572496595441716 L -1.0787247112306235 ,0.2152974625498589\", \"type\": \"path\"}, {\"fillcolor\": \"#bf4d28\", \"layer\": \"below\", \"line\": {\"color\": \"rgb(150,150,150)\", \"width\": 0.45}, \"path\": \"M -1.0983507466276008, 0.06021326583562606 L -1.09978196454493, 0.021900467156984196 L -1.0998771573997748, -0.016438936406939116 L -1.0986362095509947, -0.05475836980245835 L -1.096060628513244, -0.09301128223582746 L -0.9964187531938581, -0.0845557111234795 L -0.9987601905009043, -0.049780336184053045 L -0.999888324908886, -0.014944487642671922 L -0.9998017859499364, 0.01990951559725836 L -0.9985006787523644, 0.05473933257784187 L -1.0983507466276008 ,0.06021326583562606\", \"type\": \"path\"}, {\"fillcolor\": \"#af4624\", \"layer\": \"below\", \"line\": {\"color\": \"rgb(150,150,150)\", \"width\": 0.45}, \"path\": \"M -1.092598233779717, -0.12739348311998935 L -1.0871091077913044, -0.1679100585349019 L -1.0801180431911355, -0.20819465116316646 L -1.0716346987611898, -0.24819160423151695 L -1.061670795001705, -0.2878456583665066 L -0.9651552681833682, -0.2616778712422787 L -0.9742133625101725, -0.22562873111956086 L -0.9819254938101231, -0.18926786469378767 L -0.9882810070830039, -0.1526455077590017 L -0.9932711216179245, -0.1158122573818085 L -1.092598233779717 ,-0.12739348311998935\", \"type\": \"path\"}, {\"fillcolor\": \"#9f4021\", \"layer\": \"below\", \"line\": {\"color\": \"rgb(150,150,150)\", \"width\": 0.45}, \"path\": \"M -1.0521054739262705, -0.32105150947219974 L -1.0387589618034825, -0.3619113417301971 L -1.0238262773845443, -0.40221853977272864 L -1.0073302226968792, -0.4419115549987984 L -0.9892959870152883, -0.4809297766570986 L -0.8993599881957166, -0.4372088878700896 L -0.9157547479062537, -0.4017377772716349 L -0.9307511612586766, -0.36565321797520783 L -0.9443263289122567, -0.32901031066381553 L -0.9564595217511549, -0.29186500861109066 L -1.0521054739262705 ,-0.32105150947219974\", \"type\": \"path\"}, {\"fillcolor\": \"#8f391e\", \"layer\": \"below\", \"line\": {\"color\": \"rgb(150,150,150)\", \"width\": 0.45}, \"path\": \"M -0.9737014598171981, -0.5117670047490923 L -0.9622721291786218, -0.532946854204096 L -0.9503821679205199, -0.5538715870115499 L -0.9380372676555392, -0.5745311866986252 L -0.9252433377713516, -0.5949157637092236 L -0.9120065026018855, -0.6150155601380157 L -0.8983330984956636, -0.63482095440146 L -0.884229670782654, -0.6543224658435621 L -0.869702970641082, -0.6735107592741764 L -0.8547599518657031, -0.6923766494376751 L -0.839407767539089, -0.7109111054098417 L -0.8236537666075125, -0.7291052549208911 L -0.8075054903630778, -0.74695038860254 L -0.790970668833772, -0.7644379641571024 L -0.7740572170831769, -0.7815596104466043 L -0.7567732314216001, -0.7983071314999695 L -0.7391269855304476, -0.8146725104363555 L -0.7211269265016916, -0.8306479133027568 L -0.7027816707943259, -0.8462256928240456 L -0.6841000001097485, -0.8613983920636503 L -0.6219090910088622, -0.7830894473305912 L -0.6388924279948416, -0.7692960843854959 L -0.655569933183356, -0.7551344666388697 L -0.6719336232094978, -0.7406113731239594 L -0.6879756649287273, -0.7257337559090631 L -0.7036883791665244, -0.7105087367696402 L -0.7190642443943381, -0.694943603779184 L -0.7340959003300707, -0.6790458078204908 L -0.748776151461375, -0.6628229590189918 L -0.7630979704900808, -0.6462828230998561 L -0.7770545016960937, -0.6294333176706136 L -0.7906390642191654, -0.6122825084310693 L -0.8038451552569581, -0.5948386053123291 L -0.8166664531778759, -0.5771099585467818 L -0.8290968205471686, -0.5591050546709233 L -0.841130307064865, -0.5408325124629305 L -0.8527611524141264, -0.522301078816932 L -0.8639837890186544, -0.5035196245559544 L -0.8747928447078379, -0.4844971401855418 L -0.8851831452883618, -0.46524273159008384 L -0.9737014598171981 ,-0.5117670047490923\", \"type\": \"path\"}, {\"fillcolor\": \"#f0f3e7\", \"layer\": \"below\", \"line\": {\"color\": \"rgb(150,150,150)\", \"width\": 0.45}, \"path\": \"M -0.656705260692493, -0.8824614442449057 L -0.6377479566516484, -0.8962575209093909 L -0.6185009194407493, -0.9096464217765868 L -0.5989728931177672, -0.9226220641791155 L -0.5791727493959138, -0.9351785531956869 L -0.5591094836131547, -0.9473101843292047 L -0.538792210645574, -0.9590114460983536 L -0.5182301607664191, -0.9702770225415067 L -0.4974326754527317, -0.9811017956317977 L -0.47640920314144525, -0.9914808476022788 L -0.4551692949369035, -1.0014094631800932 L -0.4337226002717265, -1.0108831317286546 L -0.4120788625230065, -1.0198975492968623 L -0.39024791458583236, -1.0284486205744112 L -0.3682396744061325, -1.036532460752323 L -0.3460641404748926, -1.0441453972878365 L -0.32373138728576706, -1.0512839715728728 L -0.30125156075817544, -1.0579449405053003 L -0.2786348736279404, -1.0641252779622998 L -0.25589160080757056, -1.0698221761751525 L -0.23303207471830567, -1.0750330470048268 L -0.2100666805960207, -1.0797555231177887 L -0.18700585177315118, -1.083987459061496 L -0.16386006493875277, -1.0877269322390928 L -0.1406398353788789, -1.090972243782857 L -0.11735571219940814, -1.0937219193260095 L -0.10668701109037103, -0.9942926539327358 L -0.1278543957989808, -0.9917929488935064 L -0.14896369539886614, -0.9888426656719025 L -0.17000531979377378, -0.9854431446013598 L -0.1909697096327461, -0.9815959301070806 L -0.21184734065300515, -0.9773027700043879 L -0.2326287280068823, -0.9725656147046841 L -0.2533044305708549, -0.9673866163293634 L -0.27386505523470495, -0.9617681277320912 L -0.2943012611688791, -0.9557127014298843 L -0.31460376406808416, -0.9492230884434877 L -0.3347633403692113, -0.9423022370475662 L -0.35477083144166577, -0.9349532914312828 L -0.3746171477481877, -0.9271795902698746 L -0.3942932729742968, -0.9189846652078677 L -0.4137902681244577, -0.9103722392546301 L -0.433099275583132, -0.9013462250929807 L -0.45221152313884694, -0.8919107233016341 L -0.4711183279694719, -0.8820700204922788 L -0.48981110058688543, -0.8718285873621396 L -0.5082813487392315, -0.8611910766629133 L -0.5265206812690125, -0.850162321086988 L -0.5445208119252429, -0.8387473310719231 L -0.5622735631279538, -0.8269512925241698 L -0.5797708696833167, -0.8147795644630826 L -0.5970047824477209, -0.8022376765862779 L -0.656705260692493 ,-0.8824614442449057\", \"type\": \"path\"}, {\"fillcolor\": \"#e2ecde\", \"layer\": \"below\", \"line\": {\"color\": \"rgb(150,150,150)\", \"width\": 0.45}, \"path\": \"M -0.08294316853328398, -1.0968684655844836 L -0.06853861323535801, -1.0978626774309135 L -0.054122248922963564, -1.0986677305589352 L -0.03969655949600414, -1.0992834862601095 L -0.025264030461074817, -1.0997098384414237 L -0.022967300419158922, -0.9997362167649305 L -0.03608778136000376, -0.9993486238728267 L -0.04920204447542142, -0.9987888459626683 L -0.06230783021396182, -0.9980569794826486 L -0.07540288048480362, -0.9971531505313487 L -0.08294316853328398 ,-1.0968684655844836\", \"type\": \"path\"}, {\"fillcolor\": \"#d4e5d6\", \"layer\": \"below\", \"line\": {\"color\": \"rgb(150,150,150)\", \"width\": 0.45}, \"path\": \"M 0.009291156604006794, -1.0999607603950972 L 0.032334009078085375, -1.0995246754197645 L 0.055362667637795834, -1.098605923446632 L 0.07836702321170133, -1.097204907787482 L 0.10133697739683792, -1.0953222434571814 L 0.124262446891689, -1.0929587569037043 L 0.1471333679225354, -1.0901154856453383 L 0.16993970066122338, -1.0867936778152392 L 0.19267143363243108, -1.0829947916135256 L 0.21531858810848342, -1.0787204946671634 L 0.23787122248979287, -1.0739726632979125 L 0.2603194366690015, -1.0687533816986656 L 0.2826533763769081, -1.0630649410185316 L 0.3048632375082783, -1.0569098383570716 L 0.3269392704256237, -1.0502907756681295 L 0.3488717842390808, -1.0432106585737324 L 0.37065115106049645, -1.0356725950885874 L 0.3922678102298578, -1.027679894255732 L 0.41371227251220977, -1.019236064693937 L 0.43497512426321994, -1.010344813057501 L 0.4560470315615595, -1.001010042409111 L 0.47691874430628767, -0.9912358505064847 L 0.4975811002774446, -0.9810265280035437 L 0.5180250291580579, -0.9703865565669145 L 0.5382415565158144, -0.9593206069085732 L 0.5582218077426371, -0.9478335367355085 L 0.5779570119504405, -0.9359303886172938 L 0.5974385058213576, -0.9236163877725124 L 0.6166577374107431, -0.9108969397750016 L 0.6356062699012918, -0.8977776281809247 L 0.6542757853066086, -0.8842642120777143 L 0.6726580881226247, -0.870362623555961 L 0.6907451089252418, -0.8560789651053553 L 0.627950099022947, -0.778253604641232 L 0.6115073528387497, -0.7912387486872372 L 0.5947961684605532, -0.8038765564342857 L 0.577823881728447, -0.8161614801644769 L 0.5605979431006756, -0.8280881270681832 L 0.5431259143830524, -0.8396512616113748 L 0.5254154654094912, -0.8508458078339034 L 0.5074743706751246, -0.8616668515777349 L 0.48931050592346764, -0.8721096426441575 L 0.4709318446891435, -0.8821695968790131 L 0.4523464547976769, -0.8918422981850397 L 0.43356249482389786, -0.9011235004604405 L 0.4145882105105086, -0.9100091294628281 L 0.3954319311483817, -0.9184952845977281 L 0.3761020659201907, -0.9265782406308517 L 0.3566071002089616, -0.9342544493233926 L 0.3369555918731786, -0.9415205409896249 L 0.3171561674900734, -0.9483733259761203 L 0.2972175185687488, -0.9548097960619358 L 0.27714839773479844, -0.960827125779156 L 0.25695761488809826, -0.9664226736532104 L 0.23665403333545587, -0.9715939833624233 L 0.21624656589981167, -0.9763387848162841 L 0.1957441710077122, -0.9806549951519665 L 0.17515584875675552, -0.9845407196486596 L 0.15449063696474852, -0.9879942525593083 L 0.1337576072023049, -0.9910140778593984 L 0.11296586081062636, -0.9935988699124583 L 0.09212452490621628, -0.995747494051983 L 0.07124274837427393, -0.997459007079529 L 0.05032969785254166, -0.9987326576787563 L 0.029394553707350342, -0.9995678867452403 L 0.008446506003642539, -0.9999643276319063 L 0.009291156604006794 ,-1.0999607603950972\", \"type\": \"path\"}, {\"fillcolor\": \"#c6decd\", \"layer\": \"below\", \"line\": {\"color\": \"rgb(150,150,150)\", \"width\": 0.45}, \"path\": \"M 0.7172943580360984, -0.8339597136130628 L 0.7348631917419464, -0.818520671347303 L 0.7520998017281226, -0.8027115847180224 L 0.7689963955092389, -0.7865396008427029 L 0.7855453343175642, -0.7700120309007558 L 0.8017391365564295, -0.7531363468282161 L 0.8175704811825769, -0.7359201779397613 L 0.8330322110159242, -0.7183713074795797 L 0.8481173359752487, -0.7004976691026511 L 0.8628190362383277, -0.6823073432880256 L 0.8771306653251064, -0.6638085536857268 L 0.8910457531024994, -0.6450096633989292 L 0.9045580087094701, -0.6259191712030863 L 0.9176613234010579, -0.6065457077037304 L 0.930349773310078, -0.5868980314346665 L 0.9426176221252373, -0.5669850248983334 L 0.9544593236844588, -0.546815690550121 L 0.9658695244822421, -0.5263991467284572 L 0.9768430660899245, -0.5057446235325054 L 0.987374987487752, -0.4848614586493361 L 0.8976136249888653, -0.44078314422666914 L 0.8880391509908404, -0.45976783957500483 L 0.8780632040747655, -0.478544678844052 L 0.8676902942585989, -0.4971051732273827 L 0.8569251110229429, -0.5154409317257576 L 0.8457725211909799, -0.5335436649406058 L 0.8342375667282343, -0.5514051888215731 L 0.8223254624631546, -0.569017428366442 L 0.8100415937295449, -0.5863724212717537 L 0.7973915139319149, -0.6034623215324788 L 0.7843809420348433, -0.6202794029891141 L 0.7710157599774988, -0.6368160628205919 L 0.7573020100144765, -0.653064824981436 L 0.7432458919841608, -0.6690183435816011 L 0.7288537605058449, -0.6846694062074691 L 0.7141321221068765, -0.7000109371825052 L 0.6990876322811262, -0.7150360007660935 L 0.6837270924801114, -0.7297378042891112 L 0.668057447038133, -0.7441097012248209 L 0.6520857800328167, -0.7581451941936933 L 0.7172943580360984 ,-0.8339597136130628\", \"type\": \"path\"}, {\"fillcolor\": \"#b8d7c5\", \"layer\": \"below\", \"line\": {\"color\": \"rgb(150,150,150)\", \"width\": 0.45}, \"path\": \"M 1.0021176439989443, -0.4536080109367618 L 1.0172596443126791, -0.4185484632068811 L 1.0311755087385321, -0.38298442550295614 L 1.0438484640358872, -0.3469587643076902 L 1.0552632350826234, -0.31051490251347974 L 0.9593302137114759, -0.2822862750122543 L 0.9489531491235338, -0.3154170584615365 L 0.9374322806713928, -0.34816765954814194 L 0.9247814948297082, -0.38049860291534643 L 0.9110160399990401, -0.41237091903341977 L 1.0021176439989443 ,-0.4536080109367618\", \"type\": \"path\"}, {\"fillcolor\": \"#aad0bc\", \"layer\": \"below\", \"line\": {\"color\": \"rgb(150,150,150)\", \"width\": 0.45}, \"path\": \"M 1.0644960351708668, -0.2772150629123622 L 1.0719684680037034, -0.24674603057758315 L 1.0785689748106453, -0.21607629804287534 L 1.0842921868202784, -0.18523081169313754 L 1.0891334488420328, -0.15423466086927257 L 0.9901213171291205, -0.14021332806297504 L 0.9857201698366167, -0.16839164699376138 L 0.9805172498278594, -0.19643299822079574 L 0.9745167890942756, -0.2243145732523483 L 0.9677236683371515, -0.2520136935566929 L 1.0644960351708668 ,-0.2772150629123622\", \"type\": \"path\"}, {\"fillcolor\": \"#9cc9b4\", \"layer\": \"below\", \"line\": {\"color\": \"rgb(150,150,150)\", \"width\": 0.45}, \"path\": \"M 1.093440655005428, -0.11994804700911385 L 1.0955677884936224, -0.09864695035931838 L 1.0972799992996856, -0.07730849330366123 L 1.0985766389606861, -0.05594075732274823 L 1.0994572164023046, -0.03455183498594413 L 0.9995065603657315, -0.031410759078131026 L 0.9987060354188054, -0.050855233929771114 L 0.9975272720906232, -0.07028044845787383 L 0.9959707168123838, -0.08967904578119852 L 0.9940369590958437, -0.10904367909919441 L 1.093440655005428 ,-0.11994804700911385\", \"type\": \"path\"}], \"showlegend\": false, \"title\": \"Data Jobs \\u2012 Technologies in Demand\", \"titlefont\": {\"color\": \"#655643\", \"family\": \"Merryweather\", \"size\": 18}, \"width\": 1000, \"xaxis\": {\"showgrid\": false, \"showline\": false, \"showticklabels\": false, \"title\": \"\", \"zeroline\": false}, \"yaxis\": {\"showgrid\": false, \"showline\": false, \"showticklabels\": false, \"title\": \"\", \"zeroline\": false}}, {\"showLink\": true, \"linkText\": \"Export to plot.ly\", \"plotlyServerURL\": \"https://plot.ly\"})});</script>"
      ]
     },
     "metadata": {},
     "output_type": "display_data"
    }
   ],
   "source": [
    "fig = go.Figure(data=data, layout=layout)\n",
    "\n",
    "plotly.offline.iplot(fig, filename='data_offers_tech_requirements_chord.html')"
   ]
  },
  {
   "cell_type": "code",
   "execution_count": 32,
   "metadata": {},
   "outputs": [
    {
     "data": {
      "text/plain": [
       "'file:///data/WORKSPACE/jpynb_Employment_Trends_Bulgaria/workbooks/data_offers_tech_requirements_chord.html'"
      ]
     },
     "execution_count": 32,
     "metadata": {},
     "output_type": "execute_result"
    }
   ],
   "source": [
    "# Uncomment the line below to export an HTML version of the chart.\n",
    "plotly.offline.plot(fig, filename='data_offers_tech_requirements_chord.html', show_link=False)"
   ]
  },
  {
   "cell_type": "markdown",
   "metadata": {},
   "source": [
    "### Resources:\n",
    "\n",
    "- https://plot.ly/python/filled-chord-diagram/\n",
    "- https://hci.stanford.edu/courses/cs448b/f11/lectures/CS448B-20111117-Text.pdf"
   ]
  },
  {
   "cell_type": "code",
   "execution_count": 31,
   "metadata": {},
   "outputs": [
    {
     "data": {
      "text/html": [
       "<style>\n",
       "@import url('https://fonts.googleapis.com/css?family=Fira+Mono|Fira+Sans|Fira+Sans+Condensed|Fira+Sans+Extra+Condensed');\n",
       "@import url('https://fonts.googleapis.com/css?family=Merriweather|Merriweather+Sans');\n",
       "\n",
       ".nbviewer {\n",
       "    background-color: #E5E1D8;\n",
       "}\n",
       "\n",
       "#notebook {\n",
       "    background-color: #E5E1D8;\n",
       "}\n",
       "\n",
       "#notebook-container {\n",
       "    background-color: #FFFAF0;\n",
       "    max-width: 1100px;\n",
       "    border-radius: 4px;\n",
       "    -webkit-box-shadow: 0px 0px 12px 1px rgba(101,86,67,0.75);\n",
       "    -moz-box-shadow: 0px 0px 12px 1px rgba(101,86,67,0.75);\n",
       "    box-shadow: 0px 0px 12px 1px rgba(101,86,67,0.75);\n",
       "}\n",
       "\n",
       "/* Jupyter Notebook Header Styling */\n",
       "body > #header {\n",
       "    background-color:#fafafa;\n",
       "}\n",
       "\n",
       "#header #menubar #menus {\n",
       "    background-color:#fefefe;\n",
       "}\n",
       "\n",
       "/* Headings */\n",
       ".text_cell_render h1 {\n",
       "    color: #655B4F;\n",
       "    font-family: 'Merriweather', serif;\n",
       "    font-weight: 900;\n",
       "    text-align: center;\n",
       "    font-size: 3.0em;\n",
       "    padding: 40px 0 12px 0;\n",
       "    text-shadow: 0 2px #FFFAF0, 0 3px #8c8b8b;\n",
       "}\n",
       "\n",
       ".text_cell_render h2 {\n",
       "    color: #655B4F;\n",
       "    font-family: 'Merriweather', serif;\n",
       "    font-weight: 600;\n",
       "    font-size: 2.2em;\n",
       "    text-indent: 22px;\n",
       "    padding: 40px 0 6px 0;\n",
       "    margin-bottom: 24px;\n",
       "    border-bottom: 1px solid #655B4F;\n",
       "}\n",
       "\n",
       ".text_cell_render h3 {\n",
       "    color: #655B4F;\n",
       "    font-family: 'Merriweather', serif;\n",
       "    font-weight: 100;\n",
       "    padding: 6px 0 0 0;\n",
       "    font-size: 1.6em;\n",
       "}\n",
       "\n",
       ".text_cell_render h4 {\n",
       "    color: #655B4F;\n",
       "    font-family: 'Merriweather', serif;\n",
       "    font-weight: 100;\n",
       "    font-size: 1.2em;\n",
       "}\n",
       "\n",
       "/* Use for subtitles and other non-headings */\n",
       "div.rendered_html > h5 {\n",
       "    font-family: 'Merriweather', serif;\n",
       "    line-height: 1.5em;\n",
       "    color: #655B4F;\n",
       "    font-weight: 200;\n",
       "    font-style: normal important!;\n",
       "    text-indent: 22px;\n",
       "    text-align: center;\n",
       "    margin-top: 0.5em;\n",
       "    padding: 6px 0 6px 0;\n",
       "    border-bottom: 1px solid #655B4F;\n",
       "    border-top: 1px solid #655B4F;\n",
       "}\n",
       "\n",
       "/* Use for image and chart captions */\n",
       "div.rendered_html > h6 {\n",
       "    font-family: 'Merriweather Sans', sans-serif;\n",
       "    font-size: 0.9em;\n",
       "    line-height: 1.5em;\n",
       "    color: #cac8c9;\n",
       "    font-weight: normal;\n",
       "    max-width: 525px;\n",
       "    display: block;\n",
       "    margin-left: auto;\n",
       "    margin-right: auto;\n",
       "}\n",
       "\n",
       "div#notebook-container p {\n",
       "    font-family: 'Fira Sans Condensed', sans-serif;\n",
       "    font-size: 1.2em;\n",
       "    line-height: 1.3em;\n",
       "    color: #655B4F;\n",
       "}\n",
       "\n",
       "/* Plotly Exported Charts Styling */\n",
       ".js-plotly-plot .plotly,\n",
       ".js-plotly-plot .plotly div {\n",
       "    direction: ltr;\n",
       "    font-family: \"Fira Sans Extra Condensed\", verdana, arial, sans-serif;\n",
       "}\n",
       "\n",
       "/* Lists */\n",
       "ol, ul {\n",
       "    font-family: 'Fira Sans Condensed', sans-serif;\n",
       "    line-height: 1.3em;\n",
       "    color: #655B4F;\n",
       "}\n",
       "\n",
       "div.input_prompt {\n",
       "    color: #aad0bc;\n",
       "    font-size: 0.7em;\n",
       "}\n",
       "\n",
       "div.output_prompt {\n",
       "    color: #aad0bc;\n",
       "    font-size: 0.7em;\n",
       "}\n",
       "\n",
       "div.prompt {\n",
       "    min-width: 2ex;\n",
       "}\n",
       "\n",
       "div.output_subarea {\n",
       "    min-width: 425px;\n",
       "    max-width: calc(100% - 1ex);\n",
       "    padding: 0;\n",
       "}\n",
       "\n",
       "div.text_cell code {\n",
       "    padding: 2px;\n",
       "    background-color: #E5E1D8;\n",
       "    color: #483F3A;\n",
       "    font-family: 'Fira Mono', monospace;\n",
       "    font-size: 0.9em;\n",
       "}\n",
       "\n",
       "div.input_area {\n",
       "    background-color: #FFFAF0;\n",
       "    border: 1px solid #E5E1D8;\n",
       "    background: repeating-linear-gradient(135deg, #FFFAF0, #FFFAF0 5px, #F7F7ED 5px, #F7F7ED 10px);\n",
       "}\n",
       "\n",
       "div.cell.rendered.selected {\n",
       "    background: #F7F7ED;\n",
       "    border: 1px solid #293C34;\n",
       "}\n",
       "\n",
       "div.output_area img {\n",
       "    display: block;\n",
       "    margin-left: auto;\n",
       "    margin-right: auto;\n",
       "}\n",
       "\n",
       "div.rendered_html pre, code {\n",
       "    font-family: 'Fira Sans Condensed', sans-serif;\n",
       "    font-size: 16px;\n",
       "    font-weight: 400;\n",
       "    color: #40362F;\n",
       "    background-color: #E5E1D8;\n",
       "}\n",
       "\n",
       "div.output_text pre {\n",
       "    font-family: 'Fira Sans Condensed', sans-serif;\n",
       "    font-size: 13px;\n",
       "    font-weight: 300;\n",
       "    color: #40362F;\n",
       "}\n",
       "\n",
       "\n",
       "pre, textarea {\n",
       "    overflow: hidden;\n",
       "}\n",
       "\n",
       "div.text_cell_render img {\n",
       "    max-height: 550px;\n",
       "    display: block;\n",
       "    margin-left: auto;\n",
       "    margin-right: auto;\n",
       "}\n",
       "\n",
       "div.output output_scroll {\n",
       "    overflow-x: auto;\n",
       "    overflow-y: scroll;\n",
       "    max-height: 2000px;\n",
       "}\n",
       "\n",
       "div.rendered_html hr {\n",
       "    border: 0;\n",
       "    height: 1px;\n",
       "    background-color: #655B4F;\n",
       "}\n",
       "\n",
       "div.rendered_html pre, code {\n",
       "    color: #40362F;\n",
       "    background-color: #FFFAF0;\n",
       "}\n",
       "\n",
       "/* Links */\n",
       "a.link--embedview {\n",
       "    display: none;\n",
       "}\n",
       "\n",
       "a:link {\n",
       "    color: #293C34;\n",
       "}\n",
       "\n",
       "a:visited {\n",
       "    color: #293C34;\n",
       "}\n",
       "\n",
       "a:hover {\n",
       "    color: #557C6C;\n",
       "}\n",
       "\n",
       "a:focus {\n",
       "    color:#557C6C;\n",
       "}\n",
       "\n",
       "a:active {\n",
       "    font-weight: bold;\n",
       "    color:#80BCA3;\n",
       "}\n",
       "\n",
       ".rendered_html :link {\n",
       "    text-decoration: underline;\n",
       "}\n",
       "\n",
       "/* Colors for code highlighting */\n",
       ".CodeMirror pre {\n",
       "    font-family: 'Fira Mono', monospace;\n",
       "    font-size: 0.9em;\n",
       "    font-weight: 600;\n",
       "    letter-spacing: -2px;\n",
       "}\n",
       "\n",
       ".CodeMirror-code span.cm-keyword,\n",
       ".highlight .k,\n",
       ".highlight .ow {\n",
       "    color: #5F362E;\n",
       "}\n",
       "\n",
       ".CodeMirror-code span.cm-variable,\n",
       ".highlight .na {\n",
       "    color: #655B4F;\n",
       "}\n",
       "\n",
       ".CodeMirror-code span.cm-property {\n",
       "    color: #655B4F;\n",
       "}\n",
       "\n",
       ".CodeMirror-code span.cm-def {\n",
       "    color: #293C34;\n",
       "}\n",
       "\n",
       ".CodeMirror-code span.cm-operator {\n",
       "    color: #655B4F;\n",
       "}\n",
       "\n",
       ".CodeMirror-code span.cm-string,\n",
       ".highlight .s {\n",
       "    color: #0B7761;\n",
       "}\n",
       "\n",
       ".CodeMirror-code span.cm-number,\n",
       ".highlight .mb, .highlight .mf, .highlight .mh, .highlight .mi, .highlight .mo {\n",
       "    color: #265BCA;\n",
       "}\n",
       "\n",
       ".CodeMirror-code span.cm-comment,\n",
       ".highlight .c1, .highlight .cs {\n",
       "    color: #75AC95;\n",
       "}\n",
       "\n",
       ".CodeMirror-code span.cm-builtin,\n",
       ".highlight .nb {\n",
       "    color: #5F362E;\n",
       "}\n",
       "\n",
       "/* Code with no class applied (brackets mostly) */\n",
       ".CodeMirror-line > span {\n",
       "    color: #72614B;\n",
       "}\n",
       "\n",
       "/* Table styles */\n",
       "table {\n",
       "    border: 1px solid #BF4D28;\n",
       "}\n",
       "\n",
       "\n",
       ".rendered_html table th {\n",
       "    color: #40362F;\n",
       "    text-align: left;\n",
       "    background-color: #f2e6ce;\n",
       "}\n",
       "\n",
       ".rendered_html td {\n",
       "    color: #40362F;\n",
       "    text-align: left;\n",
       "}\n",
       "\n",
       ".rendered_html table tr:nth-child(odd) {\n",
       "    background-color: #F7F7ED;\n",
       "}\n",
       "\n",
       ".rendered_html table tr:nth-child(even) {\n",
       "    background-color: #FFFAF0;\n",
       "}\n",
       "\n",
       "iframe {\n",
       "    border-width: 0;\n",
       "}\n",
       "</style>\n"
      ],
      "text/plain": [
       "<IPython.core.display.HTML object>"
      ]
     },
     "execution_count": 31,
     "metadata": {},
     "output_type": "execute_result"
    }
   ],
   "source": [
    "from IPython.core.display import HTML\n",
    "with open('../resources/styles/datum.css', 'r') as f:\n",
    "    style = f.read()\n",
    "HTML(style)"
   ]
  }
 ],
 "metadata": {
  "kernelspec": {
   "display_name": "Python 3",
   "language": "python",
   "name": "python3"
  },
  "language_info": {
   "codemirror_mode": {
    "name": "ipython",
    "version": 3
   },
   "file_extension": ".py",
   "mimetype": "text/x-python",
   "name": "python",
   "nbconvert_exporter": "python",
   "pygments_lexer": "ipython3",
   "version": "3.7.3"
  }
 },
 "nbformat": 4,
 "nbformat_minor": 2
}
