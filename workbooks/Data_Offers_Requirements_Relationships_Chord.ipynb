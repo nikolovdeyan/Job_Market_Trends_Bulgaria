{
 "cells": [
  {
   "cell_type": "markdown",
   "metadata": {},
   "source": [
    "## Requirements Relationships Chord Diagram\n"
   ]
  },
  {
   "cell_type": "code",
   "execution_count": 1,
   "metadata": {},
   "outputs": [
    {
     "data": {
      "text/html": [
       "<script type=\"text/javascript\">window.PlotlyConfig = {MathJaxConfig: 'local'};</script><script type=\"text/javascript\">if (window.MathJax) {MathJax.Hub.Config({SVG: {font: \"STIX-Web\"}});}</script><script>requirejs.config({paths: { 'plotly': ['https://cdn.plot.ly/plotly-latest.min']},});if(!window._Plotly) {require(['plotly'],function(plotly) {window._Plotly=plotly;});}</script>"
      ],
      "text/vnd.plotly.v1+html": [
       "<script type=\"text/javascript\">window.PlotlyConfig = {MathJaxConfig: 'local'};</script><script type=\"text/javascript\">if (window.MathJax) {MathJax.Hub.Config({SVG: {font: \"STIX-Web\"}});}</script><script>requirejs.config({paths: { 'plotly': ['https://cdn.plot.ly/plotly-latest.min']},});if(!window._Plotly) {require(['plotly'],function(plotly) {window._Plotly=plotly;});}</script>"
      ]
     },
     "metadata": {},
     "output_type": "display_data"
    }
   ],
   "source": [
    "import re\n",
    "from itertools import combinations\n",
    "import psycopg2\n",
    "import numpy as np\n",
    "import pandas as pd\n",
    "import plotly\n",
    "import plotly.plotly as py\n",
    "import plotly.graph_objs as go\n",
    "from IPython import display\n",
    "from bs4 import BeautifulSoup as bs\n",
    "\n",
    "from nbstyler import DATA_STYLE as DS\n",
    "\n",
    "plotly.offline.init_notebook_mode(connected=True)\n",
    "\n",
    "%matplotlib notebook\n",
    "%matplotlib inline"
   ]
  },
  {
   "cell_type": "markdown",
   "metadata": {},
   "source": [
    "### Objectives\n",
    "\n",
    "The main objective for this recipe is to try the plotly implementation of the chord diagram and to provide a clean recipe for preparing such charts in the future. \n",
    "\n",
    "\n",
    "### Data Preparation"
   ]
  },
  {
   "cell_type": "code",
   "execution_count": 2,
   "metadata": {},
   "outputs": [],
   "source": [
    "data_querystr = \"\"\"SELECT * FROM data_offers.do_full_offer_history\"\"\"\n",
    "conn = psycopg2.connect('dbname=jobsbg')\n",
    "data_df = pd.read_sql_query(data_querystr, conn, index_col='subm_date')\n",
    "conn.close()"
   ]
  },
  {
   "cell_type": "code",
   "execution_count": 3,
   "metadata": {},
   "outputs": [
    {
     "data": {
      "text/html": [
       "<div>\n",
       "<style scoped>\n",
       "    .dataframe tbody tr th:only-of-type {\n",
       "        vertical-align: middle;\n",
       "    }\n",
       "\n",
       "    .dataframe tbody tr th {\n",
       "        vertical-align: top;\n",
       "    }\n",
       "\n",
       "    .dataframe thead th {\n",
       "        text-align: right;\n",
       "    }\n",
       "</style>\n",
       "<table border=\"1\" class=\"dataframe\">\n",
       "  <thead>\n",
       "    <tr style=\"text-align: right;\">\n",
       "      <th></th>\n",
       "      <th>subm_type</th>\n",
       "      <th>job_id</th>\n",
       "      <th>company_id</th>\n",
       "      <th>norm_salary</th>\n",
       "      <th>job_title</th>\n",
       "      <th>company_name</th>\n",
       "      <th>text_salary</th>\n",
       "      <th>job_location</th>\n",
       "      <th>job_contents</th>\n",
       "    </tr>\n",
       "    <tr>\n",
       "      <th>subm_date</th>\n",
       "      <th></th>\n",
       "      <th></th>\n",
       "      <th></th>\n",
       "      <th></th>\n",
       "      <th></th>\n",
       "      <th></th>\n",
       "      <th></th>\n",
       "      <th></th>\n",
       "      <th></th>\n",
       "    </tr>\n",
       "  </thead>\n",
       "  <tbody>\n",
       "    <tr>\n",
       "      <th>2018-07-05</th>\n",
       "      <td>resubmission</td>\n",
       "      <td>4416332</td>\n",
       "      <td>179347</td>\n",
       "      <td>NaN</td>\n",
       "      <td>Data Analyst</td>\n",
       "      <td>Технементалс Технолоджис (България) ЕАД</td>\n",
       "      <td>None</td>\n",
       "      <td>София</td>\n",
       "      <td>&lt;!DOCTYPE html PUBLIC \"-//W3C//DTD XHTML 1.0 ...</td>\n",
       "    </tr>\n",
       "  </tbody>\n",
       "</table>\n",
       "</div>"
      ],
      "text/plain": [
       "               subm_type   job_id  company_id  norm_salary     job_title  \\\n",
       "subm_date                                                                  \n",
       "2018-07-05  resubmission  4416332      179347          NaN  Data Analyst   \n",
       "\n",
       "                                       company_name text_salary job_location  \\\n",
       "subm_date                                                                      \n",
       "2018-07-05  Технементалс Технолоджис (България) ЕАД        None        София   \n",
       "\n",
       "                                                 job_contents  \n",
       "subm_date                                                      \n",
       "2018-07-05   <!DOCTYPE html PUBLIC \"-//W3C//DTD XHTML 1.0 ...  "
      ]
     },
     "execution_count": 3,
     "metadata": {},
     "output_type": "execute_result"
    }
   ],
   "source": [
    "data_df.head(1)"
   ]
  },
  {
   "cell_type": "markdown",
   "metadata": {},
   "source": [
    "### Relationship Categories Definition"
   ]
  },
  {
   "cell_type": "markdown",
   "metadata": {},
   "source": [
    "In order to build the necessary data we first need to define the scope of the relationships we aim to observe. The search strings we will compare should be of the same semantic category to provide meaningful insight.\n",
    "\n",
    "To explore the data and prepare proper definitions we took a deep dive in the data offers' text contents. We used the `nltk` library for text processing to produce frequency distributions of most common words, bigrams and trigrams. Then those distributions were used to explore different possible relationship categories. See the details in the [Requirements Deep Dive Notebook](./Data_Offers_Requirements_Deep_Dive.ipynb).\n",
    "\n",
    "For the first chord diagram the chosen view is a breakdown by technology. Other possible relationships to explore are skill requirements breakdown, perks & benefits breakdown, job title breakdown, etc."
   ]
  },
  {
   "cell_type": "markdown",
   "metadata": {},
   "source": [
    "### Data Jobs Technology Requirement Relationships"
   ]
  },
  {
   "cell_type": "markdown",
   "metadata": {},
   "source": [
    "A preliminary list of terms that describe most often sought categories is presented below. We are going to use it to construct regex filters for selected key technologies."
   ]
  },
  {
   "cell_type": "code",
   "execution_count": 4,
   "metadata": {},
   "outputs": [],
   "source": [
    "tech_terms_filters = [\n",
    "    r'power bi', r'excel', r'ss[ir]s',\n",
    "    r'sql server', r'postgresql', r'(mysql)|(mariadb)', r't.?sql', r'pl.?sql',\n",
    "    r'pentaho', r'hadoop', r'spark', r'informatica',\n",
    "    r'qlik', r'tableau', r'microstrategy', r'oracle (bi)|(business intelligence)',\n",
    "    r'python', r'vba', r'linux', r'aws']\n",
    "\n",
    "tech_terms_labels = [\n",
    "    'Power BI', 'Excel', 'SSIS/SSRS',\n",
    "    'MS SQL Server', 'PostgreSQL', 'MySQL/MariaDB', 'T-SQL', 'PL/SQL',\n",
    "    'Pentaho', 'Hadoop', 'Spark', 'Informatica',\n",
    "    'Qlik', 'Tableau', 'Microstrategy', 'Oracle BI',\n",
    "    'Python', 'VBA', 'Linux', 'AWS']"
   ]
  },
  {
   "cell_type": "markdown",
   "metadata": {},
   "source": [
    "#### Preparing a square matrix with counts for matching filters"
   ]
  },
  {
   "cell_type": "markdown",
   "metadata": {},
   "source": [
    "First we define a helper function that returns `True` for job offers where both of the provided patterns are found in the job contents. We also prepare a list of all possible filter patterns' combinations."
   ]
  },
  {
   "cell_type": "code",
   "execution_count": 5,
   "metadata": {},
   "outputs": [],
   "source": [
    "def match_terms(first_term, second_term, text):\n",
    "    match_found = re.search(first_term, text, re.IGNORECASE) and re.search(second_term, text, re.IGNORECASE)\n",
    "    return True if match_found else False\n",
    "\n",
    "    \n",
    "def count_matches(first_term, second_term, col):\n",
    "    return sum([match_terms(first_term, second_term, t) for t in col.values])\n",
    "\n",
    "req_combinations = list(combinations(tech_terms_filters, 2))"
   ]
  },
  {
   "cell_type": "markdown",
   "metadata": {},
   "source": [
    "Building the counts in a dictionary with keys composed of tuples with both search terms. "
   ]
  },
  {
   "cell_type": "code",
   "execution_count": 6,
   "metadata": {},
   "outputs": [
    {
     "name": "stdout",
     "output_type": "stream",
     "text": [
      "CPU times: user 2min 53s, sys: 27 ms, total: 2min 53s\n",
      "Wall time: 2min 53s\n"
     ]
    }
   ],
   "source": [
    "%%time\n",
    "match_results = [count_matches(*tup, data_df.job_contents) for tup in req_combinations]\n",
    "match_dict = dict(zip(req_combinations, match_results))"
   ]
  },
  {
   "cell_type": "markdown",
   "metadata": {},
   "source": [
    "Another helper function will unpack the combinations counts into a square matrix form. Finally, a DataFrame is created from the combinations counts matrix. This is our main data source for the chord diagram. "
   ]
  },
  {
   "cell_type": "code",
   "execution_count": 7,
   "metadata": {},
   "outputs": [],
   "source": [
    "def make_matrix(headers, counts):\n",
    "    res = []\n",
    "    for k1 in headers:\n",
    "        row = []\n",
    "        for k2 in headers:\n",
    "            if k1 == k2:\n",
    "                row.append(0)\n",
    "            else:\n",
    "                curr_key = tuple([k1, k2])\n",
    "                cell_value = counts.get(curr_key) if curr_key in counts else counts.get(tuple([k2, k1]))\n",
    "                row.append(cell_value)\n",
    "        res.append(row)\n",
    "    return np.array(res, dtype=int)  "
   ]
  },
  {
   "cell_type": "code",
   "execution_count": 8,
   "metadata": {},
   "outputs": [],
   "source": [
    "tech_terms_matrix = make_matrix(tech_terms_filters, match_dict)"
   ]
  },
  {
   "cell_type": "code",
   "execution_count": 9,
   "metadata": {},
   "outputs": [
    {
     "data": {
      "text/html": [
       "<div>\n",
       "<style scoped>\n",
       "    .dataframe tbody tr th:only-of-type {\n",
       "        vertical-align: middle;\n",
       "    }\n",
       "\n",
       "    .dataframe tbody tr th {\n",
       "        vertical-align: top;\n",
       "    }\n",
       "\n",
       "    .dataframe thead th {\n",
       "        text-align: right;\n",
       "    }\n",
       "</style>\n",
       "<table border=\"1\" class=\"dataframe\">\n",
       "  <thead>\n",
       "    <tr style=\"text-align: right;\">\n",
       "      <th></th>\n",
       "      <th>Power BI</th>\n",
       "      <th>Excel</th>\n",
       "      <th>SSIS/SSRS</th>\n",
       "      <th>MS SQL Server</th>\n",
       "      <th>PostgreSQL</th>\n",
       "      <th>MySQL/MariaDB</th>\n",
       "      <th>T-SQL</th>\n",
       "      <th>PL/SQL</th>\n",
       "      <th>Pentaho</th>\n",
       "      <th>Hadoop</th>\n",
       "      <th>Spark</th>\n",
       "      <th>Informatica</th>\n",
       "      <th>Qlik</th>\n",
       "      <th>Tableau</th>\n",
       "      <th>Microstrategy</th>\n",
       "      <th>Oracle BI</th>\n",
       "      <th>Python</th>\n",
       "      <th>VBA</th>\n",
       "      <th>Linux</th>\n",
       "      <th>AWS</th>\n",
       "    </tr>\n",
       "  </thead>\n",
       "  <tbody>\n",
       "    <tr>\n",
       "      <th>Power BI</th>\n",
       "      <td>0</td>\n",
       "      <td>207</td>\n",
       "      <td>124</td>\n",
       "      <td>127</td>\n",
       "      <td>0</td>\n",
       "      <td>5</td>\n",
       "      <td>44</td>\n",
       "      <td>9</td>\n",
       "      <td>8</td>\n",
       "      <td>22</td>\n",
       "      <td>28</td>\n",
       "      <td>15</td>\n",
       "      <td>174</td>\n",
       "      <td>183</td>\n",
       "      <td>25</td>\n",
       "      <td>164</td>\n",
       "      <td>79</td>\n",
       "      <td>35</td>\n",
       "      <td>7</td>\n",
       "      <td>6</td>\n",
       "    </tr>\n",
       "    <tr>\n",
       "      <th>Excel</th>\n",
       "      <td>207</td>\n",
       "      <td>0</td>\n",
       "      <td>582</td>\n",
       "      <td>259</td>\n",
       "      <td>66</td>\n",
       "      <td>117</td>\n",
       "      <td>176</td>\n",
       "      <td>57</td>\n",
       "      <td>64</td>\n",
       "      <td>82</td>\n",
       "      <td>84</td>\n",
       "      <td>116</td>\n",
       "      <td>402</td>\n",
       "      <td>424</td>\n",
       "      <td>38</td>\n",
       "      <td>600</td>\n",
       "      <td>342</td>\n",
       "      <td>249</td>\n",
       "      <td>72</td>\n",
       "      <td>52</td>\n",
       "    </tr>\n",
       "    <tr>\n",
       "      <th>SSIS/SSRS</th>\n",
       "      <td>124</td>\n",
       "      <td>582</td>\n",
       "      <td>0</td>\n",
       "      <td>263</td>\n",
       "      <td>53</td>\n",
       "      <td>78</td>\n",
       "      <td>124</td>\n",
       "      <td>39</td>\n",
       "      <td>34</td>\n",
       "      <td>34</td>\n",
       "      <td>41</td>\n",
       "      <td>69</td>\n",
       "      <td>85</td>\n",
       "      <td>155</td>\n",
       "      <td>29</td>\n",
       "      <td>262</td>\n",
       "      <td>163</td>\n",
       "      <td>82</td>\n",
       "      <td>18</td>\n",
       "      <td>31</td>\n",
       "    </tr>\n",
       "    <tr>\n",
       "      <th>MS SQL Server</th>\n",
       "      <td>127</td>\n",
       "      <td>259</td>\n",
       "      <td>263</td>\n",
       "      <td>0</td>\n",
       "      <td>82</td>\n",
       "      <td>90</td>\n",
       "      <td>167</td>\n",
       "      <td>11</td>\n",
       "      <td>46</td>\n",
       "      <td>29</td>\n",
       "      <td>26</td>\n",
       "      <td>62</td>\n",
       "      <td>65</td>\n",
       "      <td>104</td>\n",
       "      <td>19</td>\n",
       "      <td>172</td>\n",
       "      <td>114</td>\n",
       "      <td>37</td>\n",
       "      <td>50</td>\n",
       "      <td>10</td>\n",
       "    </tr>\n",
       "    <tr>\n",
       "      <th>PostgreSQL</th>\n",
       "      <td>0</td>\n",
       "      <td>66</td>\n",
       "      <td>53</td>\n",
       "      <td>82</td>\n",
       "      <td>0</td>\n",
       "      <td>94</td>\n",
       "      <td>35</td>\n",
       "      <td>1</td>\n",
       "      <td>45</td>\n",
       "      <td>3</td>\n",
       "      <td>7</td>\n",
       "      <td>0</td>\n",
       "      <td>14</td>\n",
       "      <td>6</td>\n",
       "      <td>0</td>\n",
       "      <td>44</td>\n",
       "      <td>26</td>\n",
       "      <td>0</td>\n",
       "      <td>40</td>\n",
       "      <td>3</td>\n",
       "    </tr>\n",
       "    <tr>\n",
       "      <th>MySQL/MariaDB</th>\n",
       "      <td>5</td>\n",
       "      <td>117</td>\n",
       "      <td>78</td>\n",
       "      <td>90</td>\n",
       "      <td>94</td>\n",
       "      <td>0</td>\n",
       "      <td>39</td>\n",
       "      <td>0</td>\n",
       "      <td>63</td>\n",
       "      <td>6</td>\n",
       "      <td>24</td>\n",
       "      <td>8</td>\n",
       "      <td>17</td>\n",
       "      <td>48</td>\n",
       "      <td>0</td>\n",
       "      <td>69</td>\n",
       "      <td>55</td>\n",
       "      <td>5</td>\n",
       "      <td>44</td>\n",
       "      <td>0</td>\n",
       "    </tr>\n",
       "    <tr>\n",
       "      <th>T-SQL</th>\n",
       "      <td>44</td>\n",
       "      <td>176</td>\n",
       "      <td>124</td>\n",
       "      <td>167</td>\n",
       "      <td>35</td>\n",
       "      <td>39</td>\n",
       "      <td>0</td>\n",
       "      <td>39</td>\n",
       "      <td>39</td>\n",
       "      <td>17</td>\n",
       "      <td>18</td>\n",
       "      <td>12</td>\n",
       "      <td>72</td>\n",
       "      <td>95</td>\n",
       "      <td>13</td>\n",
       "      <td>136</td>\n",
       "      <td>49</td>\n",
       "      <td>27</td>\n",
       "      <td>26</td>\n",
       "      <td>9</td>\n",
       "    </tr>\n",
       "    <tr>\n",
       "      <th>PL/SQL</th>\n",
       "      <td>9</td>\n",
       "      <td>57</td>\n",
       "      <td>39</td>\n",
       "      <td>11</td>\n",
       "      <td>1</td>\n",
       "      <td>0</td>\n",
       "      <td>39</td>\n",
       "      <td>0</td>\n",
       "      <td>8</td>\n",
       "      <td>3</td>\n",
       "      <td>0</td>\n",
       "      <td>30</td>\n",
       "      <td>18</td>\n",
       "      <td>20</td>\n",
       "      <td>24</td>\n",
       "      <td>83</td>\n",
       "      <td>3</td>\n",
       "      <td>7</td>\n",
       "      <td>1</td>\n",
       "      <td>2</td>\n",
       "    </tr>\n",
       "    <tr>\n",
       "      <th>Pentaho</th>\n",
       "      <td>8</td>\n",
       "      <td>64</td>\n",
       "      <td>34</td>\n",
       "      <td>46</td>\n",
       "      <td>45</td>\n",
       "      <td>63</td>\n",
       "      <td>39</td>\n",
       "      <td>8</td>\n",
       "      <td>0</td>\n",
       "      <td>0</td>\n",
       "      <td>6</td>\n",
       "      <td>32</td>\n",
       "      <td>32</td>\n",
       "      <td>39</td>\n",
       "      <td>3</td>\n",
       "      <td>40</td>\n",
       "      <td>34</td>\n",
       "      <td>1</td>\n",
       "      <td>35</td>\n",
       "      <td>13</td>\n",
       "    </tr>\n",
       "    <tr>\n",
       "      <th>Hadoop</th>\n",
       "      <td>22</td>\n",
       "      <td>82</td>\n",
       "      <td>34</td>\n",
       "      <td>29</td>\n",
       "      <td>3</td>\n",
       "      <td>6</td>\n",
       "      <td>17</td>\n",
       "      <td>3</td>\n",
       "      <td>0</td>\n",
       "      <td>0</td>\n",
       "      <td>130</td>\n",
       "      <td>5</td>\n",
       "      <td>9</td>\n",
       "      <td>38</td>\n",
       "      <td>3</td>\n",
       "      <td>35</td>\n",
       "      <td>142</td>\n",
       "      <td>7</td>\n",
       "      <td>89</td>\n",
       "      <td>48</td>\n",
       "    </tr>\n",
       "    <tr>\n",
       "      <th>Spark</th>\n",
       "      <td>28</td>\n",
       "      <td>84</td>\n",
       "      <td>41</td>\n",
       "      <td>26</td>\n",
       "      <td>7</td>\n",
       "      <td>24</td>\n",
       "      <td>18</td>\n",
       "      <td>0</td>\n",
       "      <td>6</td>\n",
       "      <td>130</td>\n",
       "      <td>0</td>\n",
       "      <td>12</td>\n",
       "      <td>16</td>\n",
       "      <td>36</td>\n",
       "      <td>3</td>\n",
       "      <td>32</td>\n",
       "      <td>151</td>\n",
       "      <td>9</td>\n",
       "      <td>69</td>\n",
       "      <td>49</td>\n",
       "    </tr>\n",
       "    <tr>\n",
       "      <th>Informatica</th>\n",
       "      <td>15</td>\n",
       "      <td>116</td>\n",
       "      <td>69</td>\n",
       "      <td>62</td>\n",
       "      <td>0</td>\n",
       "      <td>8</td>\n",
       "      <td>12</td>\n",
       "      <td>30</td>\n",
       "      <td>32</td>\n",
       "      <td>5</td>\n",
       "      <td>12</td>\n",
       "      <td>0</td>\n",
       "      <td>93</td>\n",
       "      <td>69</td>\n",
       "      <td>14</td>\n",
       "      <td>130</td>\n",
       "      <td>27</td>\n",
       "      <td>5</td>\n",
       "      <td>9</td>\n",
       "      <td>19</td>\n",
       "    </tr>\n",
       "    <tr>\n",
       "      <th>Qlik</th>\n",
       "      <td>174</td>\n",
       "      <td>402</td>\n",
       "      <td>85</td>\n",
       "      <td>65</td>\n",
       "      <td>14</td>\n",
       "      <td>17</td>\n",
       "      <td>72</td>\n",
       "      <td>18</td>\n",
       "      <td>32</td>\n",
       "      <td>9</td>\n",
       "      <td>16</td>\n",
       "      <td>93</td>\n",
       "      <td>0</td>\n",
       "      <td>341</td>\n",
       "      <td>35</td>\n",
       "      <td>343</td>\n",
       "      <td>54</td>\n",
       "      <td>31</td>\n",
       "      <td>2</td>\n",
       "      <td>3</td>\n",
       "    </tr>\n",
       "    <tr>\n",
       "      <th>Tableau</th>\n",
       "      <td>183</td>\n",
       "      <td>424</td>\n",
       "      <td>155</td>\n",
       "      <td>104</td>\n",
       "      <td>6</td>\n",
       "      <td>48</td>\n",
       "      <td>95</td>\n",
       "      <td>20</td>\n",
       "      <td>39</td>\n",
       "      <td>38</td>\n",
       "      <td>36</td>\n",
       "      <td>69</td>\n",
       "      <td>341</td>\n",
       "      <td>0</td>\n",
       "      <td>50</td>\n",
       "      <td>407</td>\n",
       "      <td>132</td>\n",
       "      <td>68</td>\n",
       "      <td>18</td>\n",
       "      <td>33</td>\n",
       "    </tr>\n",
       "    <tr>\n",
       "      <th>Microstrategy</th>\n",
       "      <td>25</td>\n",
       "      <td>38</td>\n",
       "      <td>29</td>\n",
       "      <td>19</td>\n",
       "      <td>0</td>\n",
       "      <td>0</td>\n",
       "      <td>13</td>\n",
       "      <td>24</td>\n",
       "      <td>3</td>\n",
       "      <td>3</td>\n",
       "      <td>3</td>\n",
       "      <td>14</td>\n",
       "      <td>35</td>\n",
       "      <td>50</td>\n",
       "      <td>0</td>\n",
       "      <td>61</td>\n",
       "      <td>19</td>\n",
       "      <td>7</td>\n",
       "      <td>7</td>\n",
       "      <td>2</td>\n",
       "    </tr>\n",
       "    <tr>\n",
       "      <th>Oracle BI</th>\n",
       "      <td>164</td>\n",
       "      <td>600</td>\n",
       "      <td>262</td>\n",
       "      <td>172</td>\n",
       "      <td>44</td>\n",
       "      <td>69</td>\n",
       "      <td>136</td>\n",
       "      <td>83</td>\n",
       "      <td>40</td>\n",
       "      <td>35</td>\n",
       "      <td>32</td>\n",
       "      <td>130</td>\n",
       "      <td>343</td>\n",
       "      <td>407</td>\n",
       "      <td>61</td>\n",
       "      <td>0</td>\n",
       "      <td>154</td>\n",
       "      <td>74</td>\n",
       "      <td>3</td>\n",
       "      <td>45</td>\n",
       "    </tr>\n",
       "    <tr>\n",
       "      <th>Python</th>\n",
       "      <td>79</td>\n",
       "      <td>342</td>\n",
       "      <td>163</td>\n",
       "      <td>114</td>\n",
       "      <td>26</td>\n",
       "      <td>55</td>\n",
       "      <td>49</td>\n",
       "      <td>3</td>\n",
       "      <td>34</td>\n",
       "      <td>142</td>\n",
       "      <td>151</td>\n",
       "      <td>27</td>\n",
       "      <td>54</td>\n",
       "      <td>132</td>\n",
       "      <td>19</td>\n",
       "      <td>154</td>\n",
       "      <td>0</td>\n",
       "      <td>64</td>\n",
       "      <td>94</td>\n",
       "      <td>91</td>\n",
       "    </tr>\n",
       "    <tr>\n",
       "      <th>VBA</th>\n",
       "      <td>35</td>\n",
       "      <td>249</td>\n",
       "      <td>82</td>\n",
       "      <td>37</td>\n",
       "      <td>0</td>\n",
       "      <td>5</td>\n",
       "      <td>27</td>\n",
       "      <td>7</td>\n",
       "      <td>1</td>\n",
       "      <td>7</td>\n",
       "      <td>9</td>\n",
       "      <td>5</td>\n",
       "      <td>31</td>\n",
       "      <td>68</td>\n",
       "      <td>7</td>\n",
       "      <td>74</td>\n",
       "      <td>64</td>\n",
       "      <td>0</td>\n",
       "      <td>1</td>\n",
       "      <td>5</td>\n",
       "    </tr>\n",
       "    <tr>\n",
       "      <th>Linux</th>\n",
       "      <td>7</td>\n",
       "      <td>72</td>\n",
       "      <td>18</td>\n",
       "      <td>50</td>\n",
       "      <td>40</td>\n",
       "      <td>44</td>\n",
       "      <td>26</td>\n",
       "      <td>1</td>\n",
       "      <td>35</td>\n",
       "      <td>89</td>\n",
       "      <td>69</td>\n",
       "      <td>9</td>\n",
       "      <td>2</td>\n",
       "      <td>18</td>\n",
       "      <td>7</td>\n",
       "      <td>3</td>\n",
       "      <td>94</td>\n",
       "      <td>1</td>\n",
       "      <td>0</td>\n",
       "      <td>23</td>\n",
       "    </tr>\n",
       "    <tr>\n",
       "      <th>AWS</th>\n",
       "      <td>6</td>\n",
       "      <td>52</td>\n",
       "      <td>31</td>\n",
       "      <td>10</td>\n",
       "      <td>3</td>\n",
       "      <td>0</td>\n",
       "      <td>9</td>\n",
       "      <td>2</td>\n",
       "      <td>13</td>\n",
       "      <td>48</td>\n",
       "      <td>49</td>\n",
       "      <td>19</td>\n",
       "      <td>3</td>\n",
       "      <td>33</td>\n",
       "      <td>2</td>\n",
       "      <td>45</td>\n",
       "      <td>91</td>\n",
       "      <td>5</td>\n",
       "      <td>23</td>\n",
       "      <td>0</td>\n",
       "    </tr>\n",
       "  </tbody>\n",
       "</table>\n",
       "</div>"
      ],
      "text/plain": [
       "               Power BI  Excel  SSIS/SSRS  MS SQL Server  PostgreSQL  \\\n",
       "Power BI              0    207        124            127           0   \n",
       "Excel               207      0        582            259          66   \n",
       "SSIS/SSRS           124    582          0            263          53   \n",
       "MS SQL Server       127    259        263              0          82   \n",
       "PostgreSQL            0     66         53             82           0   \n",
       "MySQL/MariaDB         5    117         78             90          94   \n",
       "T-SQL                44    176        124            167          35   \n",
       "PL/SQL                9     57         39             11           1   \n",
       "Pentaho               8     64         34             46          45   \n",
       "Hadoop               22     82         34             29           3   \n",
       "Spark                28     84         41             26           7   \n",
       "Informatica          15    116         69             62           0   \n",
       "Qlik                174    402         85             65          14   \n",
       "Tableau             183    424        155            104           6   \n",
       "Microstrategy        25     38         29             19           0   \n",
       "Oracle BI           164    600        262            172          44   \n",
       "Python               79    342        163            114          26   \n",
       "VBA                  35    249         82             37           0   \n",
       "Linux                 7     72         18             50          40   \n",
       "AWS                   6     52         31             10           3   \n",
       "\n",
       "               MySQL/MariaDB  T-SQL  PL/SQL  Pentaho  Hadoop  Spark  \\\n",
       "Power BI                   5     44       9        8      22     28   \n",
       "Excel                    117    176      57       64      82     84   \n",
       "SSIS/SSRS                 78    124      39       34      34     41   \n",
       "MS SQL Server             90    167      11       46      29     26   \n",
       "PostgreSQL                94     35       1       45       3      7   \n",
       "MySQL/MariaDB              0     39       0       63       6     24   \n",
       "T-SQL                     39      0      39       39      17     18   \n",
       "PL/SQL                     0     39       0        8       3      0   \n",
       "Pentaho                   63     39       8        0       0      6   \n",
       "Hadoop                     6     17       3        0       0    130   \n",
       "Spark                     24     18       0        6     130      0   \n",
       "Informatica                8     12      30       32       5     12   \n",
       "Qlik                      17     72      18       32       9     16   \n",
       "Tableau                   48     95      20       39      38     36   \n",
       "Microstrategy              0     13      24        3       3      3   \n",
       "Oracle BI                 69    136      83       40      35     32   \n",
       "Python                    55     49       3       34     142    151   \n",
       "VBA                        5     27       7        1       7      9   \n",
       "Linux                     44     26       1       35      89     69   \n",
       "AWS                        0      9       2       13      48     49   \n",
       "\n",
       "               Informatica  Qlik  Tableau  Microstrategy  Oracle BI  Python  \\\n",
       "Power BI                15   174      183             25        164      79   \n",
       "Excel                  116   402      424             38        600     342   \n",
       "SSIS/SSRS               69    85      155             29        262     163   \n",
       "MS SQL Server           62    65      104             19        172     114   \n",
       "PostgreSQL               0    14        6              0         44      26   \n",
       "MySQL/MariaDB            8    17       48              0         69      55   \n",
       "T-SQL                   12    72       95             13        136      49   \n",
       "PL/SQL                  30    18       20             24         83       3   \n",
       "Pentaho                 32    32       39              3         40      34   \n",
       "Hadoop                   5     9       38              3         35     142   \n",
       "Spark                   12    16       36              3         32     151   \n",
       "Informatica              0    93       69             14        130      27   \n",
       "Qlik                    93     0      341             35        343      54   \n",
       "Tableau                 69   341        0             50        407     132   \n",
       "Microstrategy           14    35       50              0         61      19   \n",
       "Oracle BI              130   343      407             61          0     154   \n",
       "Python                  27    54      132             19        154       0   \n",
       "VBA                      5    31       68              7         74      64   \n",
       "Linux                    9     2       18              7          3      94   \n",
       "AWS                     19     3       33              2         45      91   \n",
       "\n",
       "               VBA  Linux  AWS  \n",
       "Power BI        35      7    6  \n",
       "Excel          249     72   52  \n",
       "SSIS/SSRS       82     18   31  \n",
       "MS SQL Server   37     50   10  \n",
       "PostgreSQL       0     40    3  \n",
       "MySQL/MariaDB    5     44    0  \n",
       "T-SQL           27     26    9  \n",
       "PL/SQL           7      1    2  \n",
       "Pentaho          1     35   13  \n",
       "Hadoop           7     89   48  \n",
       "Spark            9     69   49  \n",
       "Informatica      5      9   19  \n",
       "Qlik            31      2    3  \n",
       "Tableau         68     18   33  \n",
       "Microstrategy    7      7    2  \n",
       "Oracle BI       74      3   45  \n",
       "Python          64     94   91  \n",
       "VBA              0      1    5  \n",
       "Linux            1      0   23  \n",
       "AWS              5     23    0  "
      ]
     },
     "execution_count": 9,
     "metadata": {},
     "output_type": "execute_result"
    }
   ],
   "source": [
    "tech_terms_df = pd.DataFrame(tech_terms_matrix, columns=tech_terms_labels, index=tech_terms_labels)\n",
    "tech_terms_df"
   ]
  },
  {
   "cell_type": "markdown",
   "metadata": {},
   "source": [
    "We can finally move to Plotly. \n",
    "\n",
    "A chord diagram encodes information in two graphical objects:\n",
    "\n",
    "- Ideograms, represented by distinctly colored arcs of circles;\n",
    "- Ribbons, that are planar shapes bounded by two quadratic Bezier curves and two arcs of circle,that can degenerate to a point;\n"
   ]
  },
  {
   "cell_type": "markdown",
   "metadata": {},
   "source": [
    "### Ideograms Preparation"
   ]
  },
  {
   "cell_type": "markdown",
   "metadata": {},
   "source": [
    "For each of our predefined tech terms we can produce a total hits count by summing up all the entries on the row (or column for that matter). That total count determines the size of each ideogram of the chart.\n",
    "\n",
    "We are going to need a couple of helper functions to process the data in order to get ideogram ends.\n"
   ]
  },
  {
   "cell_type": "code",
   "execution_count": 10,
   "metadata": {},
   "outputs": [],
   "source": [
    "PI = np.pi\n",
    "\n",
    "def moduloAB(x, a, b):\n",
    "    if a >= b:\n",
    "        raise ValueError('Incorrect interval ends')\n",
    "    y = (x-a) % (b-a)\n",
    "    return y+b if y < 0 else y+a\n",
    "\n",
    "\n",
    "def test_2PI(x):\n",
    "    return 0 <= x < 2*PI"
   ]
  },
  {
   "cell_type": "markdown",
   "metadata": {},
   "source": [
    "And now use them to compute the row sums and the lengths of corresponding ideograms."
   ]
  },
  {
   "cell_type": "code",
   "execution_count": 11,
   "metadata": {},
   "outputs": [],
   "source": [
    "row_sum = [np.sum(tech_terms_matrix[k, :]) for k in range(len(tech_terms_filters))]\n",
    "\n",
    "#set the gap between two consecutive ideograms\n",
    "gap = 2*PI*0.005\n",
    "ideogram_length = 2*PI*np.asarray(row_sum)/sum(row_sum)-gap*np.ones(len(tech_terms_filters))"
   ]
  },
  {
   "cell_type": "markdown",
   "metadata": {},
   "source": [
    "The next function returns the list of end angular coordinates for each ideogram arc:\n"
   ]
  },
  {
   "cell_type": "code",
   "execution_count": 12,
   "metadata": {},
   "outputs": [],
   "source": [
    "def get_ideogram_ends(ideogram_len, gap):\n",
    "    ideo_ends = []\n",
    "    left = 0\n",
    "    for k in range(len(ideogram_len)):\n",
    "        right = left+ideogram_len[k]\n",
    "        ideo_ends.append([left, right])\n",
    "        left = right+gap\n",
    "    return ideo_ends\n",
    "\n",
    "ideo_ends = get_ideogram_ends(ideogram_length, gap)"
   ]
  },
  {
   "cell_type": "markdown",
   "metadata": {},
   "source": [
    "The function make_ideogram_arc returns equally spaced points on an ideogram arc, expressed as complex numbers in polar form:"
   ]
  },
  {
   "cell_type": "code",
   "execution_count": 13,
   "metadata": {},
   "outputs": [],
   "source": [
    "def make_ideogram_arc(R, phi, a=50):\n",
    "    if not test_2PI(phi[0]) or not test_2PI(phi[1]):\n",
    "        phi = [moduloAB(t, 0, 2*PI) for t in phi]\n",
    "    length = (phi[1]-phi[0]) % 2*PI\n",
    "    nr = 5 if length <= PI/4 else int(a*length/PI)\n",
    "    if phi[0] < phi[1]:\n",
    "        theta = np.linspace(phi[0], phi[1], nr)\n",
    "    else:\n",
    "        phi = [moduloAB(t, -PI, PI) for t in phi]\n",
    "        theta = np.linspace(phi[0], phi[1], nr)\n",
    "    return R*np.exp(1j*theta)"
   ]
  },
  {
   "cell_type": "code",
   "execution_count": 14,
   "metadata": {},
   "outputs": [],
   "source": [
    "z = make_ideogram_arc(1.3, [11*PI/6, PI/17])"
   ]
  },
  {
   "cell_type": "markdown",
   "metadata": {},
   "source": [
    "### Ribbons Preparation"
   ]
  },
  {
   "cell_type": "markdown",
   "metadata": {},
   "source": [
    "The function map_data maps all matrix entries to the corresponding values in the intervals associated to ideograms:"
   ]
  },
  {
   "cell_type": "code",
   "execution_count": 15,
   "metadata": {},
   "outputs": [],
   "source": [
    "def map_data(data_matrix, row_value, ideogram_length):\n",
    "    mapped = np.zeros(data_matrix.shape)\n",
    "    for j in range(len(tech_terms_filters)):\n",
    "        mapped[:, j] = ideogram_length*data_matrix[:, j]/row_value\n",
    "    return mapped\n",
    "\n",
    "mapped_data = map_data(tech_terms_matrix, row_sum, ideogram_length)"
   ]
  },
  {
   "cell_type": "markdown",
   "metadata": {},
   "source": [
    "The array idx_sort, defined below, has on each row the indices that sort the corresponding row in mapped_data:\n"
   ]
  },
  {
   "cell_type": "code",
   "execution_count": 16,
   "metadata": {},
   "outputs": [],
   "source": [
    "idx_sort = np.argsort(mapped_data, axis=1)"
   ]
  },
  {
   "cell_type": "code",
   "execution_count": 17,
   "metadata": {},
   "outputs": [
    {
     "name": "stdout",
     "output_type": "stream",
     "text": [
      "ribbon ends starting from the ideogram[2]\n",
      " [(1.2902004554982014, 1.2902004554982014), (1.2902004554982014, 1.2943736046831287), (1.2943736046831287, 1.3010970117032894), (1.3010970117032894, 1.3082841019662197), (1.3082841019662197, 1.3161667170933047), (1.3161667170933047, 1.3240493322203897), (1.3240493322203897, 1.3330911554543987), (1.3330911554543987, 1.3425966619311775), (1.3425966619311775, 1.3548842678645745), (1.3548842678645745, 1.3708813397401292), (1.3708813397401292, 1.3889649862081475), (1.3889649862081475, 1.4079759991617051), (1.4079759991617051, 1.4276825369794173), (1.4276825369794173, 1.4564308980311387), (1.4564308980311387, 1.48517925908286), (1.48517925908286, 1.5211147103975118), (1.5211147103975118, 1.5589048946832422), (1.5589048946832422, 1.619647399486073), (1.619647399486073, 1.6806217459102886), (1.6806217459102886, 1.8155535695562712)]\n"
     ]
    }
   ],
   "source": [
    "def make_ribbon_ends(mapped_data, ideo_ends,  idx_sort):\n",
    "    L = mapped_data.shape[0]\n",
    "    ribbon_boundary = np.zeros((L, L+1))\n",
    "    for k in range(L):\n",
    "        start = ideo_ends[k][0]\n",
    "        ribbon_boundary[k][0] = start\n",
    "        for j in range(1, L+1):\n",
    "            J = idx_sort[k][j-1]\n",
    "            ribbon_boundary[k][j] = start+mapped_data[k][J]\n",
    "            start = ribbon_boundary[k][j]\n",
    "    return [[(ribbon_boundary[k][j], ribbon_boundary[k][j+1]) for j in range(L)] for k in range(L)]\n",
    "\n",
    "\n",
    "ribbon_ends = make_ribbon_ends(mapped_data, ideo_ends, idx_sort)\n",
    "print('ribbon ends starting from the ideogram[2]\\n', ribbon_ends[2])"
   ]
  },
  {
   "cell_type": "code",
   "execution_count": 18,
   "metadata": {},
   "outputs": [],
   "source": [
    "def control_pts(angle, radius):\n",
    "    if len(angle) != 3:\n",
    "        raise InvalidInputError('angle must have len =3')\n",
    "    b_cplx = np.array([np.exp(1j*angle[k]) for k in range(3)])\n",
    "    b_cplx[1] = radius*b_cplx[1]\n",
    "    return zip(b_cplx.real, b_cplx.imag)"
   ]
  },
  {
   "cell_type": "code",
   "execution_count": 19,
   "metadata": {},
   "outputs": [],
   "source": [
    "def ctrl_rib_chords(l, r, radius):\n",
    "    if len(l) != 2 or len(r) != 2:\n",
    "        raise ValueError('the arc ends must be elements in a list of len 2')\n",
    "    return [control_pts([l[j], (l[j]+r[j])/2, r[j]], radius) for j in range(2)]"
   ]
  },
  {
   "cell_type": "code",
   "execution_count": 20,
   "metadata": {},
   "outputs": [
    {
     "data": {
      "text/plain": [
       "'M 1,4 Q -0.5, 2.35 3.745, 1.47'"
      ]
     },
     "execution_count": 20,
     "metadata": {},
     "output_type": "execute_result"
    }
   ],
   "source": [
    "def make_q_bezier(b):\n",
    "    if len(b) != 3:\n",
    "        raise ValueError('control poligon must have 3 points')\n",
    "    A, B, C = b\n",
    "    return 'M ' + str(A[0]) + ',' + str(A[1]) + ' ' + 'Q ' + \\\n",
    "        str(B[0]) + ', ' + str(B[1]) + ' ' + \\\n",
    "        str(C[0]) + ', ' + str(C[1])\n",
    "\n",
    "\n",
    "b = [(1,4), (-0.5, 2.35), (3.745, 1.47)]\n",
    "make_q_bezier(b)"
   ]
  },
  {
   "cell_type": "code",
   "execution_count": 21,
   "metadata": {},
   "outputs": [],
   "source": [
    "def make_ribbon_arc(theta0, theta1):\n",
    "    if test_2PI(theta0) and test_2PI(theta1):\n",
    "        if theta0 < theta1:\n",
    "            theta0 = moduloAB(theta0, -PI, PI)\n",
    "            theta1 = moduloAB(theta1, -PI, PI)\n",
    "            if theta0*theta1 > 0:\n",
    "                raise ValueError('incorrect angle coordinates for ribbon')\n",
    "\n",
    "        nr = int(40*(theta0-theta1)/PI)\n",
    "        if nr <= 2: \n",
    "            nr = 3\n",
    "        theta = np.linspace(theta0, theta1, nr)\n",
    "        pts = np.exp(1j*theta)\n",
    "\n",
    "        string_arc = ''\n",
    "        for k in range(len(theta)):\n",
    "            string_arc += 'L ' + str(pts.real[k]) + ', ' + str(pts.imag[k]) + ' '\n",
    "        return string_arc\n",
    "    else:\n",
    "        raise ValueError('the angle coordinates for an arc side of a ribbon must be in [0, 2*pi]')"
   ]
  },
  {
   "cell_type": "code",
   "execution_count": 22,
   "metadata": {},
   "outputs": [],
   "source": [
    "def make_ideo_shape(path, line_color, fill_color):\n",
    "    return dict(\n",
    "        line=dict(color=line_color, width=0.45),\n",
    "        path=path,\n",
    "        type='path',\n",
    "        fillcolor=fill_color,\n",
    "        layer='below',\n",
    "    )"
   ]
  },
  {
   "cell_type": "code",
   "execution_count": 23,
   "metadata": {},
   "outputs": [],
   "source": [
    "temp_colors = [*DS['colorramp']['acc1'], *DS['colorramp']['acc2']]\n",
    "len_datalist = len(tech_terms_filters)\n",
    "ideo_colors = temp_colors[:len_datalist]"
   ]
  },
  {
   "cell_type": "code",
   "execution_count": 24,
   "metadata": {},
   "outputs": [],
   "source": [
    "def make_ribbon(l, r, line_color, fill_color, radius=0.2):\n",
    "    poligon = ctrl_rib_chords(l, r, radius)\n",
    "    b, c = poligon\n",
    "\n",
    "    return dict(\n",
    "        line=dict(\n",
    "            color=line_color,\n",
    "            width=0.5\n",
    "            ),\n",
    "        path=make_q_bezier(list(b))+make_ribbon_arc(r[0], r[1])+make_q_bezier(list(c)[::-1])+make_ribbon_arc(l[1], l[0]),\n",
    "        type='path',\n",
    "        fillcolor=fill_color,\n",
    "        layer='below'\n",
    "    )\n",
    "\n",
    "\n",
    "def make_self_rel(l, line_color, fill_color, radius):\n",
    "    b = control_pts([l[0], (l[0]+l[1])/2, l[1]], radius)\n",
    "    return dict(\n",
    "        line=dict(\n",
    "            color=line_color,\n",
    "            width=0.5\n",
    "            ),\n",
    "        path=make_q_bezier(b)+make_ribbon_arc(l[1], l[0]),\n",
    "        type='path',\n",
    "        fillcolor=fill_color,\n",
    "        layer='below'\n",
    "    )\n",
    "\n",
    "\n",
    "def invPerm(perm):\n",
    "    inv = [0] * len(perm)\n",
    "    for i, s in enumerate(perm):\n",
    "        inv[s] = i\n",
    "    return inv"
   ]
  },
  {
   "cell_type": "code",
   "execution_count": 25,
   "metadata": {},
   "outputs": [],
   "source": [
    "radii_sribb = [0.4, 0.30, 0.35, 0.39, 0.12]"
   ]
  },
  {
   "cell_type": "code",
   "execution_count": 26,
   "metadata": {},
   "outputs": [],
   "source": [
    "shapes = []\n",
    "ribbon_info = []\n",
    "\n",
    "for k in range(len(tech_terms_filters)):\n",
    "    sigma = idx_sort[k]\n",
    "    sigma_inv = invPerm(sigma)\n",
    "    for j in range(k, len(tech_terms_filters)):\n",
    "        if tech_terms_matrix[k][j] == 0 and tech_terms_matrix[j][k] == 0:\n",
    "            continue\n",
    "        eta = idx_sort[j]\n",
    "        eta_inv = invPerm(eta)\n",
    "        l = ribbon_ends[k][sigma_inv[j]]\n",
    "\n",
    "        if j == k:\n",
    "            shapes.append(make_self_rel(l, DS['colors']['acc1'], ideo_colors[k], radius=radii_sribb[k]))\n",
    "            z = 0.9*np.exp(1j*(l[0]+l[1])/2)\n",
    "            text = tech_terms_labels[k]+' appears in ' + '{:d}'.format(tech_terms_matrix[k][k]),\n",
    "            ribbon_info.append(\n",
    "                go.Scatter(\n",
    "                    x=[z.real],\n",
    "                    y=[z.imag],\n",
    "                    mode='markers',\n",
    "                    marker=dict(size=0.5, color=ideo_colors[k]),\n",
    "                    text=text,\n",
    "                    hoverinfo='text',\n",
    "                ),\n",
    "            )\n",
    "        else:\n",
    "            r = ribbon_ends[j][eta_inv[k]]\n",
    "            zi = 0.9*np.exp(1j*(l[0]+l[1])/2)\n",
    "            zf = 0.9*np.exp(1j*(r[0]+r[1])/2)\n",
    "            texti = tech_terms_labels[k]+' appears with '+tech_terms_labels[j]+' {:d}'.format(tech_terms_matrix[k][j])+' times'\n",
    "            textf = tech_terms_labels[j]+' appears with '+tech_terms_labels[k]+' {:d}'.format(tech_terms_matrix[j][k])+' times'\n",
    "\n",
    "            ribbon_info.append(go.Scatter(\n",
    "                x=[zi.real],\n",
    "                y=[zi.imag],\n",
    "                mode='markers',\n",
    "                marker=dict(size=0.5, color='green'),\n",
    "                text=texti,\n",
    "                hoverinfo='text'\n",
    "            )),\n",
    "            ribbon_info.append(go.Scatter(\n",
    "                x=[zf.real],\n",
    "                y=[zf.imag],\n",
    "                mode='markers',\n",
    "                marker=dict(size=0.5, color='blue'),\n",
    "                text=textf,\n",
    "                hoverinfo='text'\n",
    "            ))\n",
    "            r = (r[1], r[0])\n",
    "            shapes.append(make_ribbon(l, r, 'rgb(175,175,175)', ideo_colors[k]))"
   ]
  },
  {
   "cell_type": "code",
   "execution_count": 27,
   "metadata": {},
   "outputs": [
    {
     "name": "stderr",
     "output_type": "stream",
     "text": [
      "/games/WORKSPACE/jpynb_Job_Market_Trends_Bulgaria/ve-job_market_trends/lib/python3.7/site-packages/plotly/graph_objs/_deprecations.py:39: DeprecationWarning:\n",
      "\n",
      "plotly.graph_objs.Data is deprecated.\n",
      "Please replace it with a list or tuple of instances of the following types\n",
      "  - plotly.graph_objs.Scatter\n",
      "  - plotly.graph_objs.Bar\n",
      "  - plotly.graph_objs.Area\n",
      "  - plotly.graph_objs.Histogram\n",
      "  - etc.\n",
      "\n",
      "\n"
     ]
    }
   ],
   "source": [
    "ideograms = []\n",
    "for k in range(len(ideo_ends)):\n",
    "    z = make_ideogram_arc(1.1, ideo_ends[k])\n",
    "    zi = make_ideogram_arc(1.0, ideo_ends[k])\n",
    "    m = len(z)\n",
    "    n = len(zi)\n",
    "    ideograms.append(go.Scatter(\n",
    "        x=z.real,\n",
    "        y=z.imag,\n",
    "        mode='lines',\n",
    "        line=dict(color=ideo_colors[k], shape='spline', width=0.25),\n",
    "        text=tech_terms_labels[k]+'<br>'+'{:d}'.format(row_sum[k]),\n",
    "        hoverinfo='text',))\n",
    "\n",
    "    path = 'M '\n",
    "    for s in range(m):\n",
    "        path += str(z.real[s])+', '+str(z.imag[s])+' L '\n",
    "\n",
    "    Zi = np.array(zi.tolist()[::-1])\n",
    "\n",
    "    for s in range(m):\n",
    "        path += str(Zi.real[s])+', '+str(Zi.imag[s])+' L '\n",
    "    path += str(z.real[0])+' ,'+str(z.imag[0])\n",
    "\n",
    "    shapes.append(make_ideo_shape(path, 'rgb(150,150,150)', ideo_colors[k]))\n",
    "\n",
    "data = go.Data(ideograms+ribbon_info)\n"
   ]
  },
  {
   "cell_type": "code",
   "execution_count": 29,
   "metadata": {},
   "outputs": [],
   "source": [
    "layout = go.Layout(\n",
    "    paper_bgcolor=DS['colors']['bg1'],\n",
    "    plot_bgcolor=DS['colors']['bg1'],\n",
    "    title='Data Jobs ‒ Technologies in Demand and Relationships Between Them',\n",
    "    titlefont=DS['chart_fonts']['title'],\n",
    "    font=DS['chart_fonts']['text'],\n",
    "    autosize=False,\n",
    "    width=960,\n",
    "    height=525,\n",
    "    margin=dict(\n",
    "        l=280,\n",
    "        r=280,\n",
    "        t=80,\n",
    "        b=10,\n",
    "    ),\n",
    "    showlegend=False,\n",
    "    hidesources=True,\n",
    "    xaxis=dict(\n",
    "        showline=False,\n",
    "        zeroline=False,\n",
    "        showgrid=False,\n",
    "        showticklabels=False,\n",
    "        title='',\n",
    "    ),\n",
    "    yaxis=dict(\n",
    "        showline=False,\n",
    "        zeroline=False,\n",
    "        showgrid=False,\n",
    "        showticklabels=False,\n",
    "        title='',\n",
    "    ),\n",
    "    shapes=shapes,\n",
    "    hovermode='closest',\n",
    "    hoverdistance=40,\n",
    ")"
   ]
  },
  {
   "cell_type": "code",
   "execution_count": 30,
   "metadata": {},
   "outputs": [
    {
     "data": {
      "application/vnd.plotly.v1+json": {
       "config": {
        "linkText": "Export to plot.ly",
        "plotlyServerURL": "https://plot.ly",
        "showLink": true
       },
       "data": [
        {
         "hoverinfo": "text",
         "line": {
          "color": "#f2e6ce",
          "shape": "spline",
          "width": 0.25
         },
         "mode": "lines",
         "text": "Power BI<br>1262",
         "type": "scatter",
         "uid": "c629e4c0-7c9b-4805-a250-97d91aa54167",
         "x": [
          1.1,
          1.0997034182922274,
          1.098813833097472,
          1.0973317241151814,
          1.0952578905570156,
          1.0925934507158812,
          1.0893398413629023,
          1.0854988169726572,
          1.0810724487770977,
          1.0760631236486577,
          1.0704735428131578,
          1.064306720393198,
          1.0575659817828233
         ],
         "y": [
          0,
          0.02554196148283269,
          0.05107014973192638,
          0.07657079894061337,
          0.10203015815236338,
          0.12743449867584222,
          0.15277012148796393,
          0.17802336462094462,
          0.20318061052937492,
          0.2282282934333378,
          0.25315290663361245,
          0.2779410097950198,
          0.30257923619398164
         ]
        },
        {
         "hoverinfo": "text",
         "line": {
          "color": "#ecd5bb",
          "shape": "spline",
          "width": 0.25
         },
         "mode": "lines",
         "text": "Excel<br>3989",
         "type": "scatter",
         "uid": "f4903292-8ce0-45a5-b6d5-32bf2f0d89b2",
         "x": [
          1.0475398933214244,
          1.0403951843627621,
          1.0328079596681192,
          1.0247814463442435,
          1.016319058342395,
          1.0074243950062767,
          0.9981012395411077,
          0.9883535574045,
          0.97818549461981,
          0.9676013760126948,
          0.9566057033716148,
          0.9452031535330684,
          0.9333985763923743,
          0.9211969928408436,
          0.908603592630223,
          0.8956237321653158,
          0.8822629322257188,
          0.8685268756176459,
          0.8544214047568357,
          0.8399525191835714,
          0.8251263730108718,
          0.8099492723069344,
          0.7944276724129498,
          0.7785681751974235,
          0.7623775262481741,
          0.7458626120032049,
          0.729030456821665,
          0.7118882199961483,
          0.6944431927076015,
          0.6767027949241344,
          0.6586745722450539,
          0.6403661926914607,
          0.6217854434447789,
          0.6029402275345989,
          0.583838560477249,
          0.5644885668665216,
          0.5448984769180042,
          0.5250766229684876,
          0.5050314359319371,
          0.48477144171353515,
          0.4643052575833223,
          0.44364158851097657,
          0.4227892234632916,
          0.4017570316659277,
          0.38055395883102594,
          0.359189023352291,
          0.337671312469158
         ],
         "y": [
          0.33564888186934133,
          0.3571804310915903,
          0.37856005923258285,
          0.39977867280359075,
          0.4208272468009021,
          0.4416968285444643,
          0.4623785414857661,
          0.48286358898333803,
          0.503143258044265,
          0.5232089230301217,
          0.5430520493257516,
          0.5626641969693318,
          0.5820370242421775,
          0.6011622912167621,
          0.6200318632614392,
          0.6386377145003816,
          0.656971931227261,
          0.6750267152712183,
          0.6927943873136935,
          0.7102673901547024,
          0.7274382919271737,
          0.7442997892579761,
          0.7608447103742938,
          0.7770660181540269,
          0.7929568131189206,
          0.8085103363691504,
          0.8237199724581131,
          0.8385792522062036,
          0.8530818554523788,
          0.8672216137423381,
          0.8809925129521792,
          0.8943886958464107,
          0.907404464569235,
          0.9200342830680421,
          0.9322727794480828,
          0.944114748257319,
          0.9555551527004809,
          0.9665891267813894,
          0.9772119773726302,
          0.9874191862117024,
          0.9972064118227906,
          1.0065694913633423,
          1.0155044423946686,
          1.024007464575812,
          1.0320749412799606,
          1.039703441132724,
          1.046889719471615
         ]
        },
        {
         "hoverinfo": "text",
         "line": {
          "color": "#e6c4a9",
          "shape": "spline",
          "width": 0.25
         },
         "mode": "lines",
         "text": "SSIS/SSRS<br>2266",
         "type": "scatter",
         "uid": "1177adaf-01b6-4e3f-a161-644563123b3c",
         "x": [
          0.304621091300538,
          0.28234396701876247,
          0.2599421660839687,
          0.23742558062026206,
          0.2148041534379765,
          0.19208787364315658,
          0.16928677222659605,
          0.14641091763438127,
          0.12347041132189496,
          0.10047538329324499,
          0.07743598762808415,
          0.05436239799780139,
          0.03126480317306034,
          0.008153402524670752,
          -0.014961598480220939,
          -0.03806999278463303,
          -0.06116157624895197,
          -0.08422615215684763,
          -0.1072535357179107,
          -0.13023355856502286,
          -0.153156073244477,
          -0.17601095769686045,
          -0.19878811972672542,
          -0.2214775014590724,
          -0.24406908378067832,
          -0.266552890764308
         ],
         "y": [
          1.0569796548348835,
          1.0631471602220024,
          1.0688452040831613,
          1.0740712702922146,
          1.0788230511375787,
          1.0830984483412627,
          1.0868955739854222,
          1.09021275134602,
          1.0930485156332277,
          1.0954016146382457,
          1.097271009286249,
          1.0986558740952186,
          1.0995555975404563,
          1.0999697823246195,
          1.0998982455531587,
          1.09934101881508,
          1.0982983481689954,
          1.0967706940344695,
          1.0947587309887084,
          1.0922633474686823,
          1.089285645378811,
          1.0858269396043894,
          1.081888757430963,
          1.0774728378699143,
          1.0725811308905542,
          1.067215796559061
         ]
        },
        {
         "hoverinfo": "text",
         "line": {
          "color": "#e1b396",
          "shape": "spline",
          "width": 0.25
         },
         "mode": "lines",
         "text": "MS SQL Server<br>1733",
         "type": "scatter",
         "uid": "8f6a5d9e-7588-4cf2-85cd-a67956cade9d",
         "x": [
          -0.2999434212734655,
          -0.32305799184789286,
          -0.34601747581893316,
          -0.36881085130050334,
          -0.3914271761482439,
          -0.4138555932123855,
          -0.43608533554981055,
          -0.45810573159281254,
          -0.47990621027206687,
          -0.5014763060913603,
          -0.5228056641516343,
          -0.5438840451219412,
          -0.5647013301549163,
          -0.5852475257444113,
          -0.6055127685229609,
          -0.6254873299967686,
          -0.6451616212159517,
          -0.6645261973777936,
          -0.683571762360796
         ],
         "y": [
          1.058316561353345,
          1.0514911002491685,
          1.0441608623329521,
          1.0363293665447286,
          1.0280003724574285,
          1.0191778784720678,
          1.009866119898281,
          1.0000695669211288,
          0.9897929224551482,
          0.97904111988668,
          0.9678193207055584,
          0.9561329120272947,
          0.9439875040069484,
          0.9313889271459291,
          0.9183432294930144,
          0.9048566737409377,
          0.8909357342199296,
          0.8765870937896644,
          0.8618176406310999
         ]
        },
        {
         "hoverinfo": "text",
         "line": {
          "color": "#dba284",
          "shape": "spline",
          "width": 0.25
         },
         "mode": "lines",
         "text": "PostgreSQL<br>519",
         "type": "scatter",
         "uid": "c2e00fba-8522-41a7-bac4-88899a9c0046",
         "x": [
          -0.7103048072395247,
          -0.7302780737572663,
          -0.7498297969713993,
          -0.7689486909097829,
          -0.7876237194452191
         ],
         "y": [
          0.8399208777095744,
          0.8226140863061955,
          0.8048324518642562,
          0.7865862385957,
          0.7678859788844167
         ]
        },
        {
         "hoverinfo": "text",
         "line": {
          "color": "#d59171",
          "shape": "spline",
          "width": 0.25
         },
         "mode": "lines",
         "text": "MySQL/MariaDB<br>762",
         "type": "scatter",
         "uid": "6d0bc594-e110-49de-b3b4-1034173de4a7",
         "x": [
          -0.811354956167366,
          -0.8396651428334805,
          -0.866701439674064,
          -0.8924228288336544,
          -0.9167902873562214
         ],
         "y": [
          0.7427672146121231,
          0.7106070981283756,
          0.6773688909795792,
          0.6431030201892527,
          0.607861471890839
         ]
        },
        {
         "hoverinfo": "text",
         "line": {
          "color": "#d0805f",
          "shape": "spline",
          "width": 0.25
         },
         "mode": "lines",
         "text": "T-SQL<br>1137",
         "type": "scatter",
         "uid": "5ede971d-4970-4a33-9660-abe311a4ae7b",
         "x": [
          -0.935431296938567,
          -0.9694880726630949,
          -0.9998207889324618,
          -1.0263129297811717,
          -1.0488627319071304
         ],
         "y": [
          0.5787644501071492,
          0.5197046054866147,
          0.4586484383691607,
          0.39583048160037904,
          0.3314920355247038
         ]
        },
        {
         "hoverinfo": "text",
         "line": {
          "color": "#ca6f4c",
          "shape": "spline",
          "width": 0.25
         },
         "mode": "lines",
         "text": "PL/SQL<br>355",
         "type": "scatter",
         "uid": "83e0e5c7-ef94-4b6c-8901-f7c551d0e98c",
         "x": [
          -1.0587575979284851,
          -1.0628175670147402,
          -1.0666706414397258,
          -1.07031607114007,
          -1.0737531464738115
         ],
         "y": [
          0.29838288963796944,
          0.28358212081312234,
          0.26872614813330686,
          0.2538178635543304,
          0.2388601692153588
         ]
        },
        {
         "hoverinfo": "text",
         "line": {
          "color": "#c45e3a",
          "shape": "spline",
          "width": 0.25
         },
         "mode": "lines",
         "text": "Pentaho<br>542",
         "type": "scatter",
         "uid": "dc3a6402-a874-462b-8c42-0a8f2f0dcb97",
         "x": [
          -1.0807260933425054,
          -1.085591256021984,
          -1.0897539165862657,
          -1.0932113813162967,
          -1.0959614128356496
         ],
         "y": [
          0.205014904747549,
          0.1774587976083785,
          0.14978785426360242,
          0.12201998098882991,
          0.0941731467844576
         ]
        },
        {
         "hoverinfo": "text",
         "line": {
          "color": "#bf4d28",
          "shape": "spline",
          "width": 0.25
         },
         "mode": "lines",
         "text": "Hadoop<br>702",
         "type": "scatter",
         "uid": "b2a1252f-236e-4924-be08-3fb204142942",
         "x": [
          -1.0983786720622035,
          -1.0998007533749488,
          -1.0998550587138947,
          -1.098541520541774,
          -1.0958617724508046
         ],
         "y": [
          0.05970169812384486,
          0.02093568427101366,
          -0.017856366412445757,
          -0.05662620988347751,
          -0.09532562971720249
         ]
        },
        {
         "hoverinfo": "text",
         "line": {
          "color": "#af4624",
          "shape": "spline",
          "width": 0.25
         },
         "mode": "lines",
         "text": "Spark<br>741",
         "type": "scatter",
         "uid": "c74985a7-7b9d-474c-adbb-2dd63e879edd",
         "x": [
          -1.0923267804295798,
          -1.0866683865869684,
          -1.0794687346995728,
          -1.0707380362739831,
          -1.0604886743511999
         ],
         "y": [
          -0.12970044239072112,
          -0.17073903359359607,
          -0.21153545992599812,
          -0.2520318584547092,
          -0.29217079178595995
         ]
        },
        {
         "hoverinfo": "text",
         "line": {
          "color": "#9f4021",
          "shape": "spline",
          "width": 0.25
         },
         "mode": "lines",
         "text": "Informatica<br>727",
         "type": "scatter",
         "uid": "48cd038c-bd60-4e60-a0f7-31912a19a34f",
         "x": [
          -1.0507880808571275,
          -1.0381058383029147,
          -1.024017678995732,
          -1.008542682665659,
          -0.9917018072495349
         ],
         "y": [
          -0.32533737739244617,
          -0.3637805224052034,
          -0.4017309959465336,
          -0.43913740132395507,
          -0.4759490786817496
         ]
        },
        {
         "hoverinfo": "text",
         "line": {
          "color": "#8f391e",
          "shape": "spline",
          "width": 0.25
         },
         "mode": "lines",
         "text": "Qlik<br>1806",
         "type": "scatter",
         "uid": "f2c8544b-43b6-4264-858f-8f6d3626fbbb",
         "x": [
          -0.9762625404285331,
          -0.9650338083831672,
          -0.9533506065622314,
          -0.9412184370134921,
          -0.9286430132200667,
          -0.9156302574097351,
          -0.9021862977659476,
          -0.8883174655418355,
          -0.874030292078596,
          -0.8593315057296403,
          -0.8442280286919683,
          -0.8287269737462521,
          -0.8128356409071654,
          -0.7965615139855404,
          -0.779912257063968,
          -0.7628957108874982,
          -0.745519889171147,
          -0.7277929748259464,
          -0.7097233161053083,
          -0.691319422673528
         ],
         "y": [
          -0.5068643330872938,
          -0.5279296815651502,
          -0.5487464086146038,
          -0.5693047108762399,
          -0.5895949066923453,
          -0.6096074406663541,
          -0.6293328881628333,
          -0.6487619597458916,
          -0.6678855055539118,
          -0.6866945196085588,
          -0.7051801440560229,
          -0.7233336733385077,
          -0.7411465582939974,
          -0.7586104101823701,
          -0.7757170046359608,
          -0.7924582855327207,
          -0.8088263687901383,
          -0.8248135460781421,
          -0.8404122884492378,
          -0.8556152498841638
         ]
        },
        {
         "hoverinfo": "text",
         "line": {
          "color": "#f0f3e7",
          "shape": "spline",
          "width": 0.25
         },
         "mode": "lines",
         "text": "Tableau<br>2266",
         "type": "scatter",
         "uid": "f52a23ae-d255-47d2-9170-b08a2b3d33c7",
         "x": [
          -0.6641027737927575,
          -0.6455300513591189,
          -0.6266722775851746,
          -0.6075377796335055,
          -0.588135006861778,
          -0.5684725270916937,
          -0.5485590228256417,
          -0.5284032874126976,
          -0.5080142211656867,
          -0.4874008274310033,
          -0.4665722086129446,
          -0.4455375621542897,
          -0.42430617647492624,
          -0.4028874268702888,
          -0.3812907713714492,
          -0.359525746568659,
          -0.3376019634002162,
          -0.31552910290848646,
          -0.29331691196498344,
          -0.270975198966365,
          -0.24851382950327697,
          -0.22594272200392548,
          -0.20327184335433324,
          -0.18051120449718236,
          -0.1576708560112183,
          -0.13476088367313568
         ],
         "y": [
          -0.8769079232398154,
          -0.890668823296456,
          -0.9040364243249328,
          -0.9170048234976684,
          -0.9295682942655137,
          -0.9417212888864644,
          -0.953458440875415,
          -0.9647745673738785,
          -0.9756646714386151,
          -0.9861239442481728,
          -0.9961477672263485,
          -1.0057317140816495,
          -1.0148715527618404,
          -1.023563247322723,
          -1.0318029597103147,
          -1.0395870514556482,
          -1.0469120852814335,
          -1.0537748266198836,
          -1.0601722450410247,
          -1.0661015155908649,
          -1.0715600200388293,
          -1.076545348033912,
          -1.0810552981690305,
          -1.0850878789531182,
          -1.0886413096905196,
          -1.0917140212673078
         ]
        },
        {
         "hoverinfo": "text",
         "line": {
          "color": "#e2ecde",
          "shape": "spline",
          "width": 0.25
         },
         "mode": "lines",
         "text": "Microstrategy<br>352",
         "type": "scatter",
         "uid": "bed6ff97-10ad-4e99-b83a-42e8fa0396d6",
         "x": [
          -0.1004028212077405,
          -0.08531207237709046,
          -0.07020515195617949,
          -0.055084923583414075,
          -0.03995425341983312
         ],
         "y": [
          -1.0954082679501405,
          -1.0966867603407668,
          -1.0977573669253191,
          -1.0986198847616995,
          -1.0992741503527061
         ]
        },
        {
         "hoverinfo": "text",
         "line": {
          "color": "#d4e5d6",
          "shape": "spline",
          "width": 0.25
         },
         "mode": "lines",
         "text": "Oracle BI<br>2854",
         "type": "scatter",
         "uid": "df4b8bb2-1238-4cc1-98a7-93a2da32bef6",
         "x": [
          -0.005405502910095335,
          0.01761906095386568,
          0.04063590523912038,
          0.06363494539340805,
          0.08660610466512995,
          0.1095393185183592,
          0.13242453904249854,
          0.15525173935464515,
          0.17801091799275215,
          0.2006921032976464,
          0.22328535778199435,
          0.2457807824842864,
          0.26816852130595004,
          0.29043876532968327,
          0.3125817571171076,
          0.3345877949838746,
          0.3564472372503443,
          0.37815050646596543,
          0.39968809360552215,
          0.42105056223540144,
          0.442228552648047,
          0.46321278596280485,
          0.4839940681913554,
          0.5045632942659428,
          0.5249114520286535,
          0.5450296261799866,
          0.5649090021849797,
          0.5845408701351934,
          0.6039166285648547,
          0.6230277882194807,
          0.6418659757753458,
          0.6604229375081514,
          0.6786905429092979
         ],
         "y": [
          -1.0999867183463121,
          -1.0998588858081313,
          -1.0992491633862622,
          -1.098157818223218,
          -1.0965853284786975,
          -1.0945323831200855,
          -1.0919998816205898,
          -1.0889889335651477,
          -1.085500858164275,
          -1.0815371836760708,
          -1.0770996467366272,
          -1.0721901915991454,
          -1.0668109692820844,
          -1.0609643366267167,
          -1.0546528552645091,
          -1.0478792904947731,
          -1.0406466100730818,
          -1.0329579829109865,
          -1.024816777687594,
          -1.0162265613736203,
          -1.0071910976685674,
          -0.9977143453517028,
          -0.987800456547567,
          -0.9774537749067727,
          -0.9666788337028854,
          -0.9554803538462234,
          -0.94386324181545,
          -0.9318325875078586,
          -0.9193936620092937,
          -0.9065519152846913,
          -0.8933129737902408,
          -0.8796826380082221,
          -0.865666879905592
         ]
        },
        {
         "hoverinfo": "text",
         "line": {
          "color": "#c6decd",
          "shape": "spline",
          "width": 0.25
         },
         "mode": "lines",
         "text": "Python<br>1793",
         "type": "scatter",
         "uid": "81f3f029-83bb-4fd8-8cb0-2f9a78eba84e",
         "x": [
          0.7055469039026527,
          0.72355441777568,
          0.7412264420435567,
          0.7585547827400817,
          0.7755314052544017,
          0.7921484380564088,
          0.8083981763465238,
          0.8242730856281717,
          0.8397658052012917,
          0.8548691515752653,
          0.8695761217996756,
          0.8838798967113571,
          0.8977738440962308,
          0.9112515217644518,
          0.9243066805374536,
          0.9369332671454964,
          0.9491254270343806,
          0.9608775070800195,
          0.9721840582096174,
          0.983039837928234
         ],
         "y": [
          -0.8439215404250452,
          -0.8285342506603436,
          -0.8127627954178576,
          -0.796614487429238,
          -0.7800968141609944,
          -0.7632174343427908,
          -0.7459841744163308,
          -0.7284050249064822,
          -0.7104881367163186,
          -0.692241817347801,
          -0.6736745270498476,
          -0.654794874895582,
          -0.6356116147905706,
          -0.6161336414139151,
          -0.5963699860940641,
          -0.5763298126212681,
          -0.5560224129986172,
          -0.5354572031336278,
          -0.5146437184723811,
          -0.49359160957823384
         ]
        },
        {
         "hoverinfo": "text",
         "line": {
          "color": "#b8d7c5",
          "shape": "spline",
          "width": 0.25
         },
         "mode": "lines",
         "text": "VBA<br>714",
         "type": "scatter",
         "uid": "6a5ed7d0-00b0-497c-bb89-470589fbd367",
         "x": [
          0.9980588542415828,
          1.0140594164151353,
          1.0287455724802532,
          1.0420982864978885,
          1.0541002509132917
         ],
         "y": [
          -0.4624700244015597,
          -0.4262434749996714,
          -0.38946443624839017,
          -0.35218058049552453,
          -0.3144402344238658
         ]
        },
        {
         "hoverinfo": "text",
         "line": {
          "color": "#aad0bc",
          "shape": "spline",
          "width": 0.25
         },
         "mode": "lines",
         "text": "Linux<br>608",
         "type": "scatter",
         "uid": "676e4a52-6a86-4976-81dd-b5c8e69ddd3c",
         "x": [
          1.063456922518957,
          1.0712860005278417,
          1.0781832841558274,
          1.084142774211172,
          1.089159287186069
         ],
         "y": [
          -0.2811749881239606,
          -0.24969242093636201,
          -0.21799267365430974,
          -0.18610331841668992,
          -0.15405209228158626
         ]
        },
        {
         "hoverinfo": "text",
         "line": {
          "color": "#9cc9b4",
          "shape": "spline",
          "width": 0.25
         },
         "mode": "lines",
         "text": "AWS<br>444",
         "type": "scatter",
         "uid": "397b174c-bd30-4481-9098-46dd1ecb2f77",
         "x": [
          1.0934607459818784,
          1.0955801816360309,
          1.0972864748789797,
          1.0985789822689056,
          1.0994572164023046
         ],
         "y": [
          -0.11976475690600519,
          -0.09850921584482111,
          -0.07721652703704286,
          -0.055894719938610456,
          -0.03455183498594511
         ]
        },
        {
         "hoverinfo": "text",
         "marker": {
          "color": "green",
          "size": 0.5
         },
         "mode": "markers",
         "text": "Power BI appears with Excel 207 times",
         "type": "scatter",
         "uid": "8ddf0e9e-11d6-4acc-8139-dc080c8e7ea9",
         "x": [
          0.8707126586029725
         ],
         "y": [
          0.22772673569114218
         ]
        },
        {
         "hoverinfo": "text",
         "marker": {
          "color": "blue",
          "size": 0.5
         },
         "mode": "markers",
         "text": "Excel appears with Power BI 207 times",
         "type": "scatter",
         "uid": "2a2dad0c-c038-47d9-9ec9-044504401abb",
         "x": [
          0.7651706891169467
         ],
         "y": [
          0.47382888949102386
         ]
        },
        {
         "hoverinfo": "text",
         "marker": {
          "color": "green",
          "size": 0.5
         },
         "mode": "markers",
         "text": "Power BI appears with SSIS/SSRS 124 times",
         "type": "scatter",
         "uid": "e611a39b-4d38-41c8-b2bc-e74bfbc92a5f",
         "x": [
          0.8973897287952616
         ],
         "y": [
          0.06849580025641683
         ]
        },
        {
         "hoverinfo": "text",
         "marker": {
          "color": "blue",
          "size": 0.5
         },
         "mode": "markers",
         "text": "SSIS/SSRS appears with Power BI 124 times",
         "type": "scatter",
         "uid": "9d8e4ce7-48f1-45d2-980b-2a0688c48e42",
         "x": [
          0.08984223774293319
         ],
         "y": [
          0.8955045350624096
         ]
        },
        {
         "hoverinfo": "text",
         "marker": {
          "color": "green",
          "size": 0.5
         },
         "mode": "markers",
         "text": "Power BI appears with MS SQL Server 127 times",
         "type": "scatter",
         "uid": "0c57404e-ef3b-498f-8735-c8a1e6c54cf2",
         "x": [
          0.8951472706107721
         ],
         "y": [
          0.09333468764658154
         ]
        },
        {
         "hoverinfo": "text",
         "marker": {
          "color": "blue",
          "size": 0.5
         },
         "mode": "markers",
         "text": "MS SQL Server appears with Power BI 127 times",
         "type": "scatter",
         "uid": "ed7ad684-b41e-4f95-a234-e3c42aa4be51",
         "x": [
          -0.3996901163374201
         ],
         "y": [
          0.8063794459819642
         ]
        },
        {
         "hoverinfo": "text",
         "marker": {
          "color": "green",
          "size": 0.5
         },
         "mode": "markers",
         "text": "Power BI appears with MySQL/MariaDB 5 times",
         "type": "scatter",
         "uid": "649fd5c5-2bcc-4522-a6ed-412fb2cda37e",
         "x": [
          0.8999998628684164
         ],
         "y": [
          0.0004968267621698601
         ]
        },
        {
         "hoverinfo": "text",
         "marker": {
          "color": "blue",
          "size": 0.5
         },
         "mode": "markers",
         "text": "MySQL/MariaDB appears with Power BI 5 times",
         "type": "scatter",
         "uid": "d539aecb-2546-4816-909e-e1e4708bc1c7",
         "x": [
          -0.6647670777512671
         ],
         "y": [
          0.6066998700659503
         ]
        },
        {
         "hoverinfo": "text",
         "marker": {
          "color": "green",
          "size": 0.5
         },
         "mode": "markers",
         "text": "Power BI appears with T-SQL 44 times",
         "type": "scatter",
         "uid": "cc501001-f8f5-45c6-bc2b-7adfc8a98abf",
         "x": [
          0.8992733223397412
         ],
         "y": [
          0.0361592550814292
         ]
        },
        {
         "hoverinfo": "text",
         "marker": {
          "color": "blue",
          "size": 0.5
         },
         "mode": "markers",
         "text": "T-SQL appears with Power BI 44 times",
         "type": "scatter",
         "uid": "ef562ba3-218e-4058-a1c7-b2d1ea303e21",
         "x": [
          -0.7943044668290911
         ],
         "y": [
          0.42317893848271015
         ]
        },
        {
         "hoverinfo": "text",
         "marker": {
          "color": "green",
          "size": 0.5
         },
         "mode": "markers",
         "text": "Power BI appears with PL/SQL 9 times",
         "type": "scatter",
         "uid": "aae953ec-5d78-4f04-8cd1-181d55adfbe5",
         "x": [
          0.8999795894117313
         ],
         "y": [
          0.006061240986093567
         ]
        },
        {
         "hoverinfo": "text",
         "marker": {
          "color": "blue",
          "size": 0.5
         },
         "mode": "markers",
         "text": "PL/SQL appears with Power BI 9 times",
         "type": "scatter",
         "uid": "a86dd8e6-4b91-49ae-9a4a-341c1d0e0246",
         "x": [
          -0.8673791045622453
         ],
         "y": [
          0.2401114094931715
         ]
        },
        {
         "hoverinfo": "text",
         "marker": {
          "color": "green",
          "size": 0.5
         },
         "mode": "markers",
         "text": "Power BI appears with Pentaho 8 times",
         "type": "scatter",
         "uid": "e28341f4-fdb5-49d8-8b29-18279978507c",
         "x": [
          0.8999893805507831
         ],
         "y": [
          0.004372058533197351
         ]
        },
        {
         "hoverinfo": "text",
         "marker": {
          "color": "blue",
          "size": 0.5
         },
         "mode": "markers",
         "text": "Pentaho appears with Power BI 8 times",
         "type": "scatter",
         "uid": "50d7e789-1feb-4b6e-ab25-c3443c023bae",
         "x": [
          -0.8849157166345771
         ],
         "y": [
          0.16408587523950033
         ]
        },
        {
         "hoverinfo": "text",
         "marker": {
          "color": "green",
          "size": 0.5
         },
         "mode": "markers",
         "text": "Power BI appears with Hadoop 22 times",
         "type": "scatter",
         "uid": "283e1d3d-2b40-4fdd-aee7-494cd30b797e",
         "x": [
          0.8999183585726855
         ],
         "y": [
          0.012122207053311213
         ]
        },
        {
         "hoverinfo": "text",
         "marker": {
          "color": "blue",
          "size": 0.5
         },
         "mode": "markers",
         "text": "Hadoop appears with Power BI 22 times",
         "type": "scatter",
         "uid": "26a1eeeb-e2e3-461f-b0d8-a6b4f6d23e22",
         "x": [
          -0.8992273404556483
         ],
         "y": [
          0.0372852541504222
         ]
        },
        {
         "hoverinfo": "text",
         "marker": {
          "color": "green",
          "size": 0.5
         },
         "mode": "markers",
         "text": "Power BI appears with Spark 28 times",
         "type": "scatter",
         "uid": "d0851cc8-2a50-493d-a250-418a39acc2b8",
         "x": [
          0.8997296778078847
         ],
         "y": [
          0.02205690077322695
         ]
        },
        {
         "hoverinfo": "text",
         "marker": {
          "color": "blue",
          "size": 0.5
         },
         "mode": "markers",
         "text": "Spark appears with Power BI 28 times",
         "type": "scatter",
         "uid": "41e742e9-f109-44b9-b494-16ae46b8842c",
         "x": [
          -0.8904730622959381
         ],
         "y": [
          -0.13060522702133423
         ]
        },
        {
         "hoverinfo": "text",
         "marker": {
          "color": "green",
          "size": 0.5
         },
         "mode": "markers",
         "text": "Power BI appears with Informatica 15 times",
         "type": "scatter",
         "uid": "3b861fa1-4744-4774-a3af-0731a091380a",
         "x": [
          0.8999603692621984
         ],
         "y": [
          0.00844593141386239
         ]
        },
        {
         "hoverinfo": "text",
         "marker": {
          "color": "blue",
          "size": 0.5
         },
         "mode": "markers",
         "text": "Informatica appears with Power BI 15 times",
         "type": "scatter",
         "uid": "d19c7970-cc7b-4b50-8f18-fcbad1738826",
         "x": [
          -0.8557354111593163
         ],
         "y": [
          -0.27877752077238216
         ]
        },
        {
         "hoverinfo": "text",
         "marker": {
          "color": "green",
          "size": 0.5
         },
         "mode": "markers",
         "text": "Power BI appears with Qlik 174 times",
         "type": "scatter",
         "uid": "3c963782-e749-4105-b094-d377710cd207",
         "x": [
          0.8865131933654963
         ],
         "y": [
          0.1552235742047905
         ]
        },
        {
         "hoverinfo": "text",
         "marker": {
          "color": "blue",
          "size": 0.5
         },
         "mode": "markers",
         "text": "Qlik appears with Power BI 174 times",
         "type": "scatter",
         "uid": "59c16d9f-ee46-400c-8cb0-4ee2c402deee",
         "x": [
          -0.7307079920804999
         ],
         "y": [
          -0.5254196706535492
         ]
        },
        {
         "hoverinfo": "text",
         "marker": {
          "color": "green",
          "size": 0.5
         },
         "mode": "markers",
         "text": "Power BI appears with Tableau 183 times",
         "type": "scatter",
         "uid": "0b3c3d3a-79df-4fc9-93fd-876c272f40b3",
         "x": [
          0.8797081257288002
         ],
         "y": [
          0.19003582169349453
         ]
        },
        {
         "hoverinfo": "text",
         "marker": {
          "color": "blue",
          "size": 0.5
         },
         "mode": "markers",
         "text": "Tableau appears with Power BI 183 times",
         "type": "scatter",
         "uid": "fb9fe997-3669-476e-a7d0-129fa6b71942",
         "x": [
          -0.3634888048026892
         ],
         "y": [
          -0.823332186169782
         ]
        },
        {
         "hoverinfo": "text",
         "marker": {
          "color": "green",
          "size": 0.5
         },
         "mode": "markers",
         "text": "Power BI appears with Microstrategy 25 times",
         "type": "scatter",
         "uid": "a33f681d-6f93-4f5a-b8aa-a84e5815455b",
         "x": [
          0.8998433399347914
         ],
         "y": [
          0.016791771050116998
         ]
        },
        {
         "hoverinfo": "text",
         "marker": {
          "color": "blue",
          "size": 0.5
         },
         "mode": "markers",
         "text": "Microstrategy appears with Power BI 25 times",
         "type": "scatter",
         "uid": "50c00cf2-36bd-49b1-a071-4eca32ab924b",
         "x": [
          -0.06439468563907307
         ],
         "y": [
          -0.8976933354222059
         ]
        },
        {
         "hoverinfo": "text",
         "marker": {
          "color": "green",
          "size": 0.5
         },
         "mode": "markers",
         "text": "Power BI appears with Oracle BI 164 times",
         "type": "scatter",
         "uid": "0c0a178a-843a-4bba-9da1-a12b99e2c0e9",
         "x": [
          0.8916871639513065
         ],
         "y": [
          0.12204098346242442
         ]
        },
        {
         "hoverinfo": "text",
         "marker": {
          "color": "blue",
          "size": 0.5
         },
         "mode": "markers",
         "text": "Oracle BI appears with Power BI 164 times",
         "type": "scatter",
         "uid": "c33d6873-c869-48f1-a49e-ede4577a87a4",
         "x": [
          0.2025214482262991
         ],
         "y": [
          -0.8769179340213783
         ]
        },
        {
         "hoverinfo": "text",
         "marker": {
          "color": "green",
          "size": 0.5
         },
         "mode": "markers",
         "text": "Power BI appears with Python 79 times",
         "type": "scatter",
         "uid": "a6e33d0b-2969-4890-ba35-9a71d491e4ee",
         "x": [
          0.8986993789281283
         ],
         "y": [
          0.048367616379105326
         ]
        },
        {
         "hoverinfo": "text",
         "marker": {
          "color": "blue",
          "size": 0.5
         },
         "mode": "markers",
         "text": "Python appears with Power BI 79 times",
         "type": "scatter",
         "uid": "2adc859a-3077-4496-a264-c0bd026227f9",
         "x": [
          0.6335092371940398
         ],
         "y": [
          -0.6392699323367445
         ]
        },
        {
         "hoverinfo": "text",
         "marker": {
          "color": "green",
          "size": 0.5
         },
         "mode": "markers",
         "text": "Power BI appears with VBA 35 times",
         "type": "scatter",
         "uid": "e35a86cd-1952-4d26-b33c-841cc4570ce4",
         "x": [
          0.8995544962329136
         ],
         "y": [
          0.028314454032330346
         ]
        },
        {
         "hoverinfo": "text",
         "marker": {
          "color": "blue",
          "size": 0.5
         },
         "mode": "markers",
         "text": "VBA appears with Power BI 35 times",
         "type": "scatter",
         "uid": "cdf8fcb4-e1e3-49da-9a9f-5c35a35ca82d",
         "x": [
          0.8256928787477762
         ],
         "y": [
          -0.3580939401682333
         ]
        },
        {
         "hoverinfo": "text",
         "marker": {
          "color": "green",
          "size": 0.5
         },
         "mode": "markers",
         "text": "Power BI appears with Linux 7 times",
         "type": "scatter",
         "uid": "9a523983-17ba-4cea-8460-c9dabbdd235c",
         "x": [
          0.8999953868973527
         ],
         "y": [
          0.0028815904435696258
         ]
        },
        {
         "hoverinfo": "text",
         "marker": {
          "color": "blue",
          "size": 0.5
         },
         "mode": "markers",
         "text": "Linux appears with Power BI 7 times",
         "type": "scatter",
         "uid": "4f4339d1-026c-4800-adff-f8a51966655f",
         "x": [
          0.8705680126326253
         ],
         "y": [
          -0.22827907346246426
         ]
        },
        {
         "hoverinfo": "text",
         "marker": {
          "color": "green",
          "size": 0.5
         },
         "mode": "markers",
         "text": "Power BI appears with AWS 6 times",
         "type": "scatter",
         "uid": "14ecd267-e208-4d66-aaa5-91b6ed6b3a26",
         "x": [
          0.8999985957729139
         ],
         "y": [
          0.001589844892837407
         ]
        },
        {
         "hoverinfo": "text",
         "marker": {
          "color": "blue",
          "size": 0.5
         },
         "mode": "markers",
         "text": "AWS appears with Power BI 6 times",
         "type": "scatter",
         "uid": "0e04ed4e-50b4-462b-a09a-7e946b8783d3",
         "x": [
          0.8949538413739085
         ],
         "y": [
          -0.09517153886580255
         ]
        },
        {
         "hoverinfo": "text",
         "marker": {
          "color": "green",
          "size": 0.5
         },
         "mode": "markers",
         "text": "Excel appears with SSIS/SSRS 582 times",
         "type": "scatter",
         "uid": "d838fbf7-a91e-43ed-8d4a-4a26f94948df",
         "x": [
          0.45024906207893284
         ],
         "y": [
          0.7792790142798928
         ]
        },
        {
         "hoverinfo": "text",
         "marker": {
          "color": "blue",
          "size": 0.5
         },
         "mode": "markers",
         "text": "SSIS/SSRS appears with Excel 582 times",
         "type": "scatter",
         "uid": "d797982a-7b2d-4639-9410-28a1694ef533",
         "x": [
          -0.158727611657536
         ],
         "y": [
          0.8858925133996193
         ]
        },
        {
         "hoverinfo": "text",
         "marker": {
          "color": "green",
          "size": 0.5
         },
         "mode": "markers",
         "text": "Excel appears with MS SQL Server 259 times",
         "type": "scatter",
         "uid": "d7564fd9-bc55-494a-a7b1-2bcdaa3ca4e7",
         "x": [
          0.7059505986950577
         ],
         "y": [
          0.5582416611128999
         ]
        },
        {
         "hoverinfo": "text",
         "marker": {
          "color": "blue",
          "size": 0.5
         },
         "mode": "markers",
         "text": "MS SQL Server appears with Excel 259 times",
         "type": "scatter",
         "uid": "f3a27ffb-9da6-49ea-946f-a51939528639",
         "x": [
          -0.49415537218149275
         ],
         "y": [
          0.7522037411128519
         ]
        },
        {
         "hoverinfo": "text",
         "marker": {
          "color": "green",
          "size": 0.5
         },
         "mode": "markers",
         "text": "Excel appears with PostgreSQL 66 times",
         "type": "scatter",
         "uid": "209a8099-aea4-44d3-82c7-5e3813829bb0",
         "x": [
          0.8397078707742037
         ],
         "y": [
          0.3238683247244985
         ]
        },
        {
         "hoverinfo": "text",
         "marker": {
          "color": "blue",
          "size": 0.5
         },
         "mode": "markers",
         "text": "PostgreSQL appears with Excel 66 times",
         "type": "scatter",
         "uid": "eda1cbd3-22e4-4e1d-983d-9791b63c0af9",
         "x": [
          -0.6196280092356423
         ],
         "y": [
          0.6527335828427053
         ]
        },
        {
         "hoverinfo": "text",
         "marker": {
          "color": "green",
          "size": 0.5
         },
         "mode": "markers",
         "text": "Excel appears with MySQL/MariaDB 117 times",
         "type": "scatter",
         "uid": "0239d69f-5023-4541-a0fe-fd3bc69411d5",
         "x": [
          0.8007482149008702
         ],
         "y": [
          0.4108555662675994
         ]
        },
        {
         "hoverinfo": "text",
         "marker": {
          "color": "blue",
          "size": 0.5
         },
         "mode": "markers",
         "text": "MySQL/MariaDB appears with Excel 117 times",
         "type": "scatter",
         "uid": "d7b111de-b4c3-4640-a89a-1b71aeef7fe6",
         "x": [
          -0.7440984614653012
         ],
         "y": [
          0.5062780655380714
         ]
        },
        {
         "hoverinfo": "text",
         "marker": {
          "color": "green",
          "size": 0.5
         },
         "mode": "markers",
         "text": "Excel appears with T-SQL 176 times",
         "type": "scatter",
         "uid": "30f1ef4c-8128-4e91-8ea5-6e53665ee604",
         "x": [
          0.7859500470464923
         ],
         "y": [
          0.43850031191279293
         ]
        },
        {
         "hoverinfo": "text",
         "marker": {
          "color": "blue",
          "size": 0.5
         },
         "mode": "markers",
         "text": "T-SQL appears with Excel 176 times",
         "type": "scatter",
         "uid": "916d4c31-768b-49b9-adcf-333f40bd8f83",
         "x": [
          -0.852797827853707
         ],
         "y": [
          0.28763842721027255
         ]
        },
        {
         "hoverinfo": "text",
         "marker": {
          "color": "green",
          "size": 0.5
         },
         "mode": "markers",
         "text": "Excel appears with PL/SQL 57 times",
         "type": "scatter",
         "uid": "4c8d0458-9b22-440d-8db3-8022590ca641",
         "x": [
          0.8489991367818015
         ],
         "y": [
          0.2986644701730621
         ]
        },
        {
         "hoverinfo": "text",
         "marker": {
          "color": "blue",
          "size": 0.5
         },
         "mode": "markers",
         "text": "PL/SQL appears with Excel 57 times",
         "type": "scatter",
         "uid": "a2d70429-f0ca-4499-9351-3fb40957e082",
         "x": [
          -0.874964814900248
         ],
         "y": [
          0.2107998403381149
         ]
        },
        {
         "hoverinfo": "text",
         "marker": {
          "color": "green",
          "size": 0.5
         },
         "mode": "markers",
         "text": "Excel appears with Pentaho 64 times",
         "type": "scatter",
         "uid": "b0d4eeee-84aa-4631-8fec-e5814b3d41b0",
         "x": [
          0.8446140018135684
         ],
         "y": [
          0.3108491401636323
         ]
        },
        {
         "hoverinfo": "text",
         "marker": {
          "color": "blue",
          "size": 0.5
         },
         "mode": "markers",
         "text": "Pentaho appears with Excel 64 times",
         "type": "scatter",
         "uid": "6b89f845-4a2a-462d-865b-6c9fe440376b",
         "x": [
          -0.8962166189575409
         ],
         "y": [
          0.08243647193029208
         ]
        },
        {
         "hoverinfo": "text",
         "marker": {
          "color": "green",
          "size": 0.5
         },
         "mode": "markers",
         "text": "Excel appears with Hadoop 82 times",
         "type": "scatter",
         "uid": "16080e6a-5611-43bd-894a-1f1a3e8e2e92",
         "x": [
          0.8279582242353126
         ],
         "y": [
          0.352824572445157
         ]
        },
        {
         "hoverinfo": "text",
         "marker": {
          "color": "blue",
          "size": 0.5
         },
         "mode": "markers",
         "text": "Hadoop appears with Excel 82 times",
         "type": "scatter",
         "uid": "ebc4b32c-bed3-4fb6-9b83-2520f9f9d288",
         "x": [
          -0.8999838802033447
         ],
         "y": [
          -0.005386592070290423
         ]
        },
        {
         "hoverinfo": "text",
         "marker": {
          "color": "green",
          "size": 0.5
         },
         "mode": "markers",
         "text": "Excel appears with Spark 84 times",
         "type": "scatter",
         "uid": "b0bf8eec-8522-4099-9635-703e476fc3a8",
         "x": [
          0.8208326502548574
         ],
         "y": [
          0.36909857799182444
         ]
        },
        {
         "hoverinfo": "text",
         "marker": {
          "color": "blue",
          "size": 0.5
         },
         "mode": "markers",
         "text": "Spark appears with Excel 84 times",
         "type": "scatter",
         "uid": "c7b78cfd-948c-4e72-95c8-860246a17b65",
         "x": [
          -0.8814891232652154
         ],
         "y": [
          -0.1815954998482117
         ]
        },
        {
         "hoverinfo": "text",
         "marker": {
          "color": "green",
          "size": 0.5
         },
         "mode": "markers",
         "text": "Excel appears with Informatica 116 times",
         "type": "scatter",
         "uid": "ed128bdc-4056-4ee1-930a-6fcb8ca97af1",
         "x": [
          0.8118230719554899
         ],
         "y": [
          0.38851422089899307
         ]
        },
        {
         "hoverinfo": "text",
         "marker": {
          "color": "blue",
          "size": 0.5
         },
         "mode": "markers",
         "text": "Informatica appears with Excel 116 times",
         "type": "scatter",
         "uid": "9b1ac907-2585-4d29-9f10-326b31144744",
         "x": [
          -0.825625339930407
         ],
         "y": [
          -0.3582496309346319
         ]
        },
        {
         "hoverinfo": "text",
         "marker": {
          "color": "green",
          "size": 0.5
         },
         "mode": "markers",
         "text": "Excel appears with Qlik 402 times",
         "type": "scatter",
         "uid": "7e8a48a3-74e9-449a-ae9a-472479d165ee",
         "x": [
          0.6080349853396798
         ],
         "y": [
          0.6635461224383542
         ]
        },
        {
         "hoverinfo": "text",
         "marker": {
          "color": "blue",
          "size": 0.5
         },
         "mode": "markers",
         "text": "Qlik appears with Excel 402 times",
         "type": "scatter",
         "uid": "36dd6ed7-955c-429a-aae0-6c45fa6216e7",
         "x": [
          -0.5971437384783245
         ],
         "y": [
          -0.6733642072431014
         ]
        },
        {
         "hoverinfo": "text",
         "marker": {
          "color": "green",
          "size": 0.5
         },
         "mode": "markers",
         "text": "Excel appears with Tableau 424 times",
         "type": "scatter",
         "uid": "016f4667-ebbb-484f-b295-442aab48d507",
         "x": [
          0.5400329370341669
         ],
         "y": [
          0.7199752960471989
         ]
        },
        {
         "hoverinfo": "text",
         "marker": {
          "color": "blue",
          "size": 0.5
         },
         "mode": "markers",
         "text": "Tableau appears with Excel 424 times",
         "type": "scatter",
         "uid": "9da276b7-9793-426c-8dfe-0cb225a25285",
         "x": [
          -0.1540102469497236
         ],
         "y": [
          -0.886724784718734
         ]
        },
        {
         "hoverinfo": "text",
         "marker": {
          "color": "green",
          "size": 0.5
         },
         "mode": "markers",
         "text": "Excel appears with Microstrategy 38 times",
         "type": "scatter",
         "uid": "5c03f394-94e0-437a-9bf1-930c9e2fee9c",
         "x": [
          0.8558283953638208
         ],
         "y": [
          0.27849193469288763
         ]
        },
        {
         "hoverinfo": "text",
         "marker": {
          "color": "blue",
          "size": 0.5
         },
         "mode": "markers",
         "text": "Microstrategy appears with Excel 38 times",
         "type": "scatter",
         "uid": "01571a8c-3976-4f25-ad75-721726e2fbdd",
         "x": [
          -0.050975079424324145
         ],
         "y": [
          -0.8985552522119515
         ]
        },
        {
         "hoverinfo": "text",
         "marker": {
          "color": "green",
          "size": 0.5
         },
         "mode": "markers",
         "text": "Excel appears with Oracle BI 600 times",
         "type": "scatter",
         "uid": "5ef1447a-95d9-4144-9616-0303ecd6e69d",
         "x": [
          0.3366354873396886
         ],
         "y": [
          0.8346715214164014
         ]
        },
        {
         "hoverinfo": "text",
         "marker": {
          "color": "blue",
          "size": 0.5
         },
         "mode": "markers",
         "text": "Oracle BI appears with Excel 600 times",
         "type": "scatter",
         "uid": "981cdc23-61cd-4f40-b233-a5eab027b4ec",
         "x": [
          0.504088532301111
         ],
         "y": [
          -0.7455834974048928
         ]
        },
        {
         "hoverinfo": "text",
         "marker": {
          "color": "green",
          "size": 0.5
         },
         "mode": "markers",
         "text": "Excel appears with Python 342 times",
         "type": "scatter",
         "uid": "925a5ea0-7080-4012-85e6-e7e5f800eaf3",
         "x": [
          0.6642860687894806
         ],
         "y": [
          0.6072264971262514
         ]
        },
        {
         "hoverinfo": "text",
         "marker": {
          "color": "blue",
          "size": 0.5
         },
         "mode": "markers",
         "text": "Python appears with Excel 342 times",
         "type": "scatter",
         "uid": "56075d5b-114b-4d2a-8746-963657abeecd",
         "x": [
          0.7879391755175718
         ],
         "y": [
          -0.4349159179481583
         ]
        },
        {
         "hoverinfo": "text",
         "marker": {
          "color": "green",
          "size": 0.5
         },
         "mode": "markers",
         "text": "Excel appears with VBA 249 times",
         "type": "scatter",
         "uid": "348d9c82-0090-41c2-bd84-d19d7e19d21f",
         "x": [
          0.7383651208729783
         ],
         "y": [
          0.5146036807857403
         ]
        },
        {
         "hoverinfo": "text",
         "marker": {
          "color": "blue",
          "size": 0.5
         },
         "mode": "markers",
         "text": "VBA appears with Excel 249 times",
         "type": "scatter",
         "uid": "e44655ff-9dbb-46ad-aed0-b85d83cdaaa6",
         "x": [
          0.8557137696707491
         ],
         "y": [
          -0.2788439427276057
         ]
        },
        {
         "hoverinfo": "text",
         "marker": {
          "color": "green",
          "size": 0.5
         },
         "mode": "markers",
         "text": "Excel appears with Linux 72 times",
         "type": "scatter",
         "uid": "ccf91aa4-4102-43d7-a281-bef19c25ad5a",
         "x": [
          0.8342802791790688
         ],
         "y": [
          0.337603933290024
         ]
        },
        {
         "hoverinfo": "text",
         "marker": {
          "color": "blue",
          "size": 0.5
         },
         "mode": "markers",
         "text": "Linux appears with Excel 72 times",
         "type": "scatter",
         "uid": "1360fbd9-76b8-40e2-ba30-8ce07947a5b1",
         "x": [
          0.8849714931292121
         ],
         "y": [
          -0.16378478668256413
         ]
        },
        {
         "hoverinfo": "text",
         "marker": {
          "color": "green",
          "size": 0.5
         },
         "mode": "markers",
         "text": "Excel appears with AWS 52 times",
         "type": "scatter",
         "uid": "682a50ba-f72d-43b6-9c7f-9f84a5894dbf",
         "x": [
          0.8527989208042768
         ],
         "y": [
          0.2876351867819041
         ]
        },
        {
         "hoverinfo": "text",
         "marker": {
          "color": "blue",
          "size": 0.5
         },
         "mode": "markers",
         "text": "AWS appears with Excel 52 times",
         "type": "scatter",
         "uid": "6353f676-29f2-44a4-bd3e-2844f7a392fd",
         "x": [
          0.8987888492697726
         ],
         "y": [
          -0.04667552279640684
         ]
        },
        {
         "hoverinfo": "text",
         "marker": {
          "color": "green",
          "size": 0.5
         },
         "mode": "markers",
         "text": "SSIS/SSRS appears with MS SQL Server 263 times",
         "type": "scatter",
         "uid": "3503c728-bfa5-4750-bd1d-a4d511500c7b",
         "x": [
          -0.07132953501584825
         ],
         "y": [
          0.8971689347243489
         ]
        },
        {
         "hoverinfo": "text",
         "marker": {
          "color": "blue",
          "size": 0.5
         },
         "mode": "markers",
         "text": "MS SQL Server appears with SSIS/SSRS 263 times",
         "type": "scatter",
         "uid": "74b83fd8-a0f4-493d-9d54-71e64e12b0d9",
         "x": [
          -0.5379368617958875
         ],
         "y": [
          0.7215427449023324
         ]
        },
        {
         "hoverinfo": "text",
         "marker": {
          "color": "green",
          "size": 0.5
         },
         "mode": "markers",
         "text": "SSIS/SSRS appears with PostgreSQL 53 times",
         "type": "scatter",
         "uid": "56769653-b0fa-4b88-996d-be042178b829",
         "x": [
          0.19821192378122085
         ],
         "y": [
          0.8779020635987522
         ]
        },
        {
         "hoverinfo": "text",
         "marker": {
          "color": "blue",
          "size": 0.5
         },
         "mode": "markers",
         "text": "PostgreSQL appears with SSIS/SSRS 53 times",
         "type": "scatter",
         "uid": "9e814d80-ef5c-46e5-9ab8-10929140b2d7",
         "x": [
          -0.612398822539102
         ],
         "y": [
          0.6595207973617825
         ]
        },
        {
         "hoverinfo": "text",
         "marker": {
          "color": "green",
          "size": 0.5
         },
         "mode": "markers",
         "text": "SSIS/SSRS appears with MySQL/MariaDB 78 times",
         "type": "scatter",
         "uid": "986f0545-d9e5-4767-bcf4-737708f94e48",
         "x": [
          0.1707446460987474
         ],
         "y": [
          0.8836550604328669
         ]
        },
        {
         "hoverinfo": "text",
         "marker": {
          "color": "blue",
          "size": 0.5
         },
         "mode": "markers",
         "text": "MySQL/MariaDB appears with SSIS/SSRS 78 times",
         "type": "scatter",
         "uid": "76cd0016-d3b7-4fb5-87e7-7ec00f4efafb",
         "x": [
          -0.7137406536955422
         ],
         "y": [
          0.5482465497039266
         ]
        },
        {
         "hoverinfo": "text",
         "marker": {
          "color": "green",
          "size": 0.5
         },
         "mode": "markers",
         "text": "SSIS/SSRS appears with T-SQL 124 times",
         "type": "scatter",
         "uid": "e8c972a2-3f9e-4ddd-a24d-116ee9d4d8c5",
         "x": [
          0.11554585612522393
         ],
         "y": [
          0.8925520461756217
         ]
        },
        {
         "hoverinfo": "text",
         "marker": {
          "color": "blue",
          "size": 0.5
         },
         "mode": "markers",
         "text": "T-SQL appears with SSIS/SSRS 124 times",
         "type": "scatter",
         "uid": "f416f399-e624-4338-af30-7b060ddcc69c",
         "x": [
          -0.8202709131065634
         ],
         "y": [
          0.3703452836358588
         ]
        },
        {
         "hoverinfo": "text",
         "marker": {
          "color": "green",
          "size": 0.5
         },
         "mode": "markers",
         "text": "SSIS/SSRS appears with PL/SQL 39 times",
         "type": "scatter",
         "uid": "30129d0c-0d81-41e5-9ed6-7f62a3bdc425",
         "x": [
          0.21587788313292888
         ],
         "y": [
          0.8737257805364597
         ]
        },
        {
         "hoverinfo": "text",
         "marker": {
          "color": "blue",
          "size": 0.5
         },
         "mode": "markers",
         "text": "PL/SQL appears with SSIS/SSRS 39 times",
         "type": "scatter",
         "uid": "8b8470f4-4c2f-46ba-98ce-036a2bdca5fb",
         "x": [
          -0.8719998989828616
         ],
         "y": [
          0.22274688813511911
         ]
        },
        {
         "hoverinfo": "text",
         "marker": {
          "color": "green",
          "size": 0.5
         },
         "mode": "markers",
         "text": "SSIS/SSRS appears with Pentaho 34 times",
         "type": "scatter",
         "uid": "caae5305-6bd6-4998-81d3-c8d9d1f8587f",
         "x": [
          0.23012931475302612
         ],
         "y": [
          0.8700807425126146
         ]
        },
        {
         "hoverinfo": "text",
         "marker": {
          "color": "blue",
          "size": 0.5
         },
         "mode": "markers",
         "text": "Pentaho appears with SSIS/SSRS 34 times",
         "type": "scatter",
         "uid": "f6f9b140-32b9-4b35-93ba-6d6496480360",
         "x": [
          -0.8877847525019316
         ],
         "y": [
          0.14777764792107137
         ]
        },
        {
         "hoverinfo": "text",
         "marker": {
          "color": "green",
          "size": 0.5
         },
         "mode": "markers",
         "text": "SSIS/SSRS appears with Hadoop 34 times",
         "type": "scatter",
         "uid": "9dcffbac-faf4-42ec-bbba-1883bee94af2",
         "x": [
          0.2232637245794551
         ],
         "y": [
          0.8718677131806805
         ]
        },
        {
         "hoverinfo": "text",
         "marker": {
          "color": "blue",
          "size": 0.5
         },
         "mode": "markers",
         "text": "Hadoop appears with SSIS/SSRS 34 times",
         "type": "scatter",
         "uid": "31706926-1727-4d00-8a5a-2cb5d42145fe",
         "x": [
          -0.8995954200330719
         ],
         "y": [
          0.02698296231922934
         ]
        },
        {
         "hoverinfo": "text",
         "marker": {
          "color": "green",
          "size": 0.5
         },
         "mode": "markers",
         "text": "SSIS/SSRS appears with Spark 41 times",
         "type": "scatter",
         "uid": "179000ca-e5f6-4a21-9b9e-dcbc83928e6e",
         "x": [
          0.20776607643196066
         ],
         "y": [
          0.8756901606641865
         ]
        },
        {
         "hoverinfo": "text",
         "marker": {
          "color": "blue",
          "size": 0.5
         },
         "mode": "markers",
         "text": "Spark appears with SSIS/SSRS 41 times",
         "type": "scatter",
         "uid": "6ad88c45-a382-4601-94ea-4bd74ae03abc",
         "x": [
          -0.8875582079927599
         ],
         "y": [
          -0.14913224810442835
         ]
        },
        {
         "hoverinfo": "text",
         "marker": {
          "color": "green",
          "size": 0.5
         },
         "mode": "markers",
         "text": "SSIS/SSRS appears with Informatica 69 times",
         "type": "scatter",
         "uid": "99374190-3c99-43b2-b660-430ac8b08155",
         "x": [
          0.18577692770174128
         ],
         "y": [
          0.8806173590917352
         ]
        },
        {
         "hoverinfo": "text",
         "marker": {
          "color": "blue",
          "size": 0.5
         },
         "mode": "markers",
         "text": "Informatica appears with SSIS/SSRS 69 times",
         "type": "scatter",
         "uid": "7a4446a7-6efd-46bc-b87d-252f0dd4361c",
         "x": [
          -0.8384964990770377
         ],
         "y": [
          -0.326991775180281
         ]
        },
        {
         "hoverinfo": "text",
         "marker": {
          "color": "green",
          "size": 0.5
         },
         "mode": "markers",
         "text": "SSIS/SSRS appears with Qlik 85 times",
         "type": "scatter",
         "uid": "95e01805-246e-413b-b123-97cd32bbb6d6",
         "x": [
          0.13713409101430313
         ],
         "y": [
          0.8894910011246212
         ]
        },
        {
         "hoverinfo": "text",
         "marker": {
          "color": "blue",
          "size": 0.5
         },
         "mode": "markers",
         "text": "Qlik appears with SSIS/SSRS 85 times",
         "type": "scatter",
         "uid": "69dc3042-33c9-453a-9c55-60071badfc48",
         "x": [
          -0.756444727390399
         ],
         "y": [
          -0.48763856943771877
         ]
        },
        {
         "hoverinfo": "text",
         "marker": {
          "color": "green",
          "size": 0.5
         },
         "mode": "markers",
         "text": "SSIS/SSRS appears with Tableau 155 times",
         "type": "scatter",
         "uid": "c1d4b21b-e382-4423-97de-5e74e886b4ca",
         "x": [
          0.060837979567224
         ],
         "y": [
          0.8979413902043819
         ]
        },
        {
         "hoverinfo": "text",
         "marker": {
          "color": "blue",
          "size": 0.5
         },
         "mode": "markers",
         "text": "Tableau appears with SSIS/SSRS 155 times",
         "type": "scatter",
         "uid": "0ff59b2a-bc7e-4812-a68a-5f6f639f3234",
         "x": [
          -0.3954607499148735
         ],
         "y": [
          -0.8084619937119901
         ]
        },
        {
         "hoverinfo": "text",
         "marker": {
          "color": "green",
          "size": 0.5
         },
         "mode": "markers",
         "text": "SSIS/SSRS appears with Microstrategy 29 times",
         "type": "scatter",
         "uid": "f230b486-daa7-4a90-959a-b5a496d00ed0",
         "x": [
          0.24271227279861005
         ],
         "y": [
          0.8666549213112064
         ]
        },
        {
         "hoverinfo": "text",
         "marker": {
          "color": "blue",
          "size": 0.5
         },
         "mode": "markers",
         "text": "Microstrategy appears with SSIS/SSRS 29 times",
         "type": "scatter",
         "uid": "993ef011-5155-4b81-a846-cfd486448ec3",
         "x": [
          -0.060601988655952635
         ],
         "y": [
          -0.8979573480800432
         ]
        },
        {
         "hoverinfo": "text",
         "marker": {
          "color": "green",
          "size": 0.5
         },
         "mode": "markers",
         "text": "SSIS/SSRS appears with Oracle BI 262 times",
         "type": "scatter",
         "uid": "c3b6ba80-f14f-4502-b7d4-621479d05d31",
         "x": [
          -0.016630891637737625
         ],
         "y": [
          0.899846327682307
         ]
        },
        {
         "hoverinfo": "text",
         "marker": {
          "color": "blue",
          "size": 0.5
         },
         "mode": "markers",
         "text": "Oracle BI appears with SSIS/SSRS 262 times",
         "type": "scatter",
         "uid": "f752bff0-a634-4437-99df-8ae689c096ef",
         "x": [
          0.2808246520435729
         ],
         "y": [
          -0.8550657955997341
         ]
        },
        {
         "hoverinfo": "text",
         "marker": {
          "color": "green",
          "size": 0.5
         },
         "mode": "markers",
         "text": "SSIS/SSRS appears with Python 163 times",
         "type": "scatter",
         "uid": "0291c449-2e88-4a23-b848-489d0472cf16",
         "x": [
          0.027703495069807117
         ],
         "y": [
          0.89957351915278
         ]
        },
        {
         "hoverinfo": "text",
         "marker": {
          "color": "blue",
          "size": 0.5
         },
         "mode": "markers",
         "text": "Python appears with SSIS/SSRS 163 times",
         "type": "scatter",
         "uid": "8ca16f07-f429-4989-81c3-075fe38416ad",
         "x": [
          0.7615872113820186
         ],
         "y": [
          -0.4795674295230657
         ]
        },
        {
         "hoverinfo": "text",
         "marker": {
          "color": "green",
          "size": 0.5
         },
         "mode": "markers",
         "text": "SSIS/SSRS appears with VBA 82 times",
         "type": "scatter",
         "uid": "cd669bdb-3aa4-4b37-9728-a7656d1f11ac",
         "x": [
          0.15432677646598633
         ],
         "y": [
          0.8866697502822669
         ]
        },
        {
         "hoverinfo": "text",
         "marker": {
          "color": "blue",
          "size": 0.5
         },
         "mode": "markers",
         "text": "VBA appears with SSIS/SSRS 82 times",
         "type": "scatter",
         "uid": "f320875d-29ec-4a58-aee2-ad89f400f8ae",
         "x": [
          0.8459302947847546
         ],
         "y": [
          -0.30724898106483345
         ]
        },
        {
         "hoverinfo": "text",
         "marker": {
          "color": "green",
          "size": 0.5
         },
         "mode": "markers",
         "text": "SSIS/SSRS appears with Linux 18 times",
         "type": "scatter",
         "uid": "d85227c7-7b08-40f9-b960-c5e8beaba8a3",
         "x": [
          0.24743042417449515
         ],
         "y": [
          0.8653197011468243
         ]
        },
        {
         "hoverinfo": "text",
         "marker": {
          "color": "blue",
          "size": 0.5
         },
         "mode": "markers",
         "text": "Linux appears with SSIS/SSRS 18 times",
         "type": "scatter",
         "uid": "cc2ad91d-123c-4fd3-8fc2-35b3e0c31fdd",
         "x": [
          0.8718170758845859
         ],
         "y": [
          -0.22346137517712145
         ]
        },
        {
         "hoverinfo": "text",
         "marker": {
          "color": "green",
          "size": 0.5
         },
         "mode": "markers",
         "text": "SSIS/SSRS appears with AWS 31 times",
         "type": "scatter",
         "uid": "7e7dc369-c176-4c1a-8ab7-f7f7088169ed",
         "x": [
          0.23667865029585325
         ],
         "y": [
          0.8683220695652814
         ]
        },
        {
         "hoverinfo": "text",
         "marker": {
          "color": "blue",
          "size": 0.5
         },
         "mode": "markers",
         "text": "AWS appears with SSIS/SSRS 31 times",
         "type": "scatter",
         "uid": "3b6c8e0e-0910-4bc4-b472-2c983791a34e",
         "x": [
          0.8963767312333791
         ],
         "y": [
          -0.08067685977628528
         ]
        },
        {
         "hoverinfo": "text",
         "marker": {
          "color": "green",
          "size": 0.5
         },
         "mode": "markers",
         "text": "MS SQL Server appears with PostgreSQL 82 times",
         "type": "scatter",
         "uid": "4397d3f3-b4cb-4105-a9a8-ce010a50e94b",
         "x": [
          -0.32234189382684764
         ],
         "y": [
          0.8402950097936566
         ]
        },
        {
         "hoverinfo": "text",
         "marker": {
          "color": "blue",
          "size": 0.5
         },
         "mode": "markers",
         "text": "PostgreSQL appears with MS SQL Server 82 times",
         "type": "scatter",
         "uid": "6fbc8723-d2cd-4b3d-9c85-71441502fb23",
         "x": [
          -0.6285138849530157
         ],
         "y": [
          0.644181881475463
         ]
        },
        {
         "hoverinfo": "text",
         "marker": {
          "color": "green",
          "size": 0.5
         },
         "mode": "markers",
         "text": "MS SQL Server appears with MySQL/MariaDB 90 times",
         "type": "scatter",
         "uid": "1862b10c-727b-48e0-ab12-5d35449f9473",
         "x": [
          -0.33872508947575997
         ],
         "y": [
          0.8338257094618986
         ]
        },
        {
         "hoverinfo": "text",
         "marker": {
          "color": "blue",
          "size": 0.5
         },
         "mode": "markers",
         "text": "MySQL/MariaDB appears with MS SQL Server 90 times",
         "type": "scatter",
         "uid": "e52082c0-7b9f-43d0-bb89-f1954974828f",
         "x": [
          -0.7230516491219217
         ],
         "y": [
          0.5359070000495137
         ]
        },
        {
         "hoverinfo": "text",
         "marker": {
          "color": "green",
          "size": 0.5
         },
         "mode": "markers",
         "text": "MS SQL Server appears with T-SQL 167 times",
         "type": "scatter",
         "uid": "647bd353-0df0-4a49-a2d8-20cbfae677e2",
         "x": [
          -0.42643799026310064
         ],
         "y": [
          0.7925595501035665
         ]
        },
        {
         "hoverinfo": "text",
         "marker": {
          "color": "blue",
          "size": 0.5
         },
         "mode": "markers",
         "text": "T-SQL appears with MS SQL Server 167 times",
         "type": "scatter",
         "uid": "ba297329-ec60-47de-91b8-f2c724270aff",
         "x": [
          -0.841446335271008
         ],
         "y": [
          0.3193243881368765
         ]
        },
        {
         "hoverinfo": "text",
         "marker": {
          "color": "green",
          "size": 0.5
         },
         "mode": "markers",
         "text": "MS SQL Server appears with PL/SQL 11 times",
         "type": "scatter",
         "uid": "d8876ace-215c-4bbb-aa71-7bf75724427e",
         "x": [
          -0.24846112578029161
         ],
         "y": [
          0.8650243169853609
         ]
        },
        {
         "hoverinfo": "text",
         "marker": {
          "color": "blue",
          "size": 0.5
         },
         "mode": "markers",
         "text": "PL/SQL appears with MS SQL Server 11 times",
         "type": "scatter",
         "uid": "4f0f530e-16f8-4a01-8cc0-0166d5a3398a",
         "x": [
          -0.8677555119269893
         ],
         "y": [
          0.2387475057887072
         ]
        },
        {
         "hoverinfo": "text",
         "marker": {
          "color": "green",
          "size": 0.5
         },
         "mode": "markers",
         "text": "MS SQL Server appears with Pentaho 46 times",
         "type": "scatter",
         "uid": "43ffe6c6-1970-440f-b597-298d6fd817d0",
         "x": [
          -0.27579330731145735
         ],
         "y": [
          0.8567018452426772
         ]
        },
        {
         "hoverinfo": "text",
         "marker": {
          "color": "blue",
          "size": 0.5
         },
         "mode": "markers",
         "text": "Pentaho appears with MS SQL Server 46 times",
         "type": "scatter",
         "uid": "fbaaee03-7d2c-4335-bfe4-a3107a325fcb",
         "x": [
          -0.8941705852391785
         ],
         "y": [
          0.10226907887052156
         ]
        },
        {
         "hoverinfo": "text",
         "marker": {
          "color": "green",
          "size": 0.5
         },
         "mode": "markers",
         "text": "MS SQL Server appears with Hadoop 29 times",
         "type": "scatter",
         "uid": "b12671d3-2796-442c-b8e5-64b0f8ca961b",
         "x": [
          -0.26122938625173986
         ],
         "y": [
          0.8612544384550592
         ]
        },
        {
         "hoverinfo": "text",
         "marker": {
          "color": "blue",
          "size": 0.5
         },
         "mode": "markers",
         "text": "Hadoop appears with MS SQL Server 29 times",
         "type": "scatter",
         "uid": "469237cb-59e8-496b-b337-bcb13b3aa77f",
         "x": [
          -0.8994065948926128
         ],
         "y": [
          0.032676858228347525
         ]
        },
        {
         "hoverinfo": "text",
         "marker": {
          "color": "green",
          "size": 0.5
         },
         "mode": "markers",
         "text": "MS SQL Server appears with Spark 26 times",
         "type": "scatter",
         "uid": "d0b43c3e-12ba-48eb-8791-4a75f57a62b5",
         "x": [
          -0.25583424444530867
         ],
         "y": [
          0.8628724351658813
         ]
        },
        {
         "hoverinfo": "text",
         "marker": {
          "color": "blue",
          "size": 0.5
         },
         "mode": "markers",
         "text": "Spark appears with MS SQL Server 26 times",
         "type": "scatter",
         "uid": "4ea63699-0b79-47d5-8b1c-7023340e04b8",
         "x": [
          -0.8911765793716513
         ],
         "y": [
          -0.1257151716358963
         ]
        },
        {
         "hoverinfo": "text",
         "marker": {
          "color": "green",
          "size": 0.5
         },
         "mode": "markers",
         "text": "MS SQL Server appears with Informatica 62 times",
         "type": "scatter",
         "uid": "128f93a5-cc7e-43ca-b3b6-cda78126b7f6",
         "x": [
          -0.29599065153356724
         ],
         "y": [
          0.8499350176364864
         ]
        },
        {
         "hoverinfo": "text",
         "marker": {
          "color": "blue",
          "size": 0.5
         },
         "mode": "markers",
         "text": "Informatica appears with MS SQL Server 62 times",
         "type": "scatter",
         "uid": "c7076f8d-fdad-43a9-8411-358ea677327e",
         "x": [
          -0.8470901389132175
         ],
         "y": [
          -0.3040366697554521
         ]
        },
        {
         "hoverinfo": "text",
         "marker": {
          "color": "green",
          "size": 0.5
         },
         "mode": "markers",
         "text": "MS SQL Server appears with Qlik 65 times",
         "type": "scatter",
         "uid": "4c102f21-62e4-4a66-b757-3db6ae9e8eaa",
         "x": [
          -0.3082418800263745
         ],
         "y": [
          0.845569005698415
         ]
        },
        {
         "hoverinfo": "text",
         "marker": {
          "color": "blue",
          "size": 0.5
         },
         "mode": "markers",
         "text": "Qlik appears with MS SQL Server 65 times",
         "type": "scatter",
         "uid": "85fa9be6-7025-4896-9e04-e2dbb6aeebac",
         "x": [
          -0.7723816137866092
         ],
         "y": [
          -0.46198121464448455
         ]
        },
        {
         "hoverinfo": "text",
         "marker": {
          "color": "green",
          "size": 0.5
         },
         "mode": "markers",
         "text": "MS SQL Server appears with Tableau 104 times",
         "type": "scatter",
         "uid": "db826ecf-663b-4aff-813d-b66218c3f5ce",
         "x": [
          -0.3570477922006166
         ],
         "y": [
          0.8261457946904198
         ]
        },
        {
         "hoverinfo": "text",
         "marker": {
          "color": "blue",
          "size": 0.5
         },
         "mode": "markers",
         "text": "Tableau appears with MS SQL Server 104 times",
         "type": "scatter",
         "uid": "687208ce-2aff-49f0-8799-6f6866183693",
         "x": [
          -0.4437184666266509
         ],
         "y": [
          -0.7830159145090818
         ]
        },
        {
         "hoverinfo": "text",
         "marker": {
          "color": "green",
          "size": 0.5
         },
         "mode": "markers",
         "text": "MS SQL Server appears with Microstrategy 19 times",
         "type": "scatter",
         "uid": "9817a7a9-25b4-435b-8298-501b467f36ce",
         "x": [
          -0.2514125748420334
         ],
         "y": [
          0.8641711157006459
         ]
        },
        {
         "hoverinfo": "text",
         "marker": {
          "color": "blue",
          "size": 0.5
         },
         "mode": "markers",
         "text": "Microstrategy appears with MS SQL Server 19 times",
         "type": "scatter",
         "uid": "c983729f-2169-4d94-b317-3d9ef906b8b6",
         "x": [
          -0.07352040919227532
         ],
         "y": [
          -0.8969920565045157
         ]
        },
        {
         "hoverinfo": "text",
         "marker": {
          "color": "green",
          "size": 0.5
         },
         "mode": "markers",
         "text": "MS SQL Server appears with Oracle BI 172 times",
         "type": "scatter",
         "uid": "aa4f6d35-51e8-4577-8767-6de241848e10",
         "x": [
          -0.45668569431151
         ],
         "y": [
          0.775524452619783
         ]
        },
        {
         "hoverinfo": "text",
         "marker": {
          "color": "blue",
          "size": 0.5
         },
         "mode": "markers",
         "text": "Oracle BI appears with MS SQL Server 172 times",
         "type": "scatter",
         "uid": "7fe66655-2040-4818-9ec7-a725d5de90e5",
         "x": [
          0.2369313099168601
         ],
         "y": [
          -0.8682531626093168
         ]
        },
        {
         "hoverinfo": "text",
         "marker": {
          "color": "green",
          "size": 0.5
         },
         "mode": "markers",
         "text": "MS SQL Server appears with Python 114 times",
         "type": "scatter",
         "uid": "35472bac-010e-4f0d-b776-9199420dee85",
         "x": [
          -0.37742918296156625
         ],
         "y": [
          0.8170356245898733
         ]
        },
        {
         "hoverinfo": "text",
         "marker": {
          "color": "blue",
          "size": 0.5
         },
         "mode": "markers",
         "text": "Python appears with MS SQL Server 114 times",
         "type": "scatter",
         "uid": "5a7db09a-37fd-4aba-af9b-e51095650aab",
         "x": [
          0.6732373055538944
         ],
         "y": [
          -0.5972868074974805
         ]
        },
        {
         "hoverinfo": "text",
         "marker": {
          "color": "green",
          "size": 0.5
         },
         "mode": "markers",
         "text": "MS SQL Server appears with VBA 37 times",
         "type": "scatter",
         "uid": "a07c8497-c4ea-4579-ac2b-4ae852e2dacb",
         "x": [
          -0.26769003209334735
         ],
         "y": [
          0.8592683205599184
         ]
        },
        {
         "hoverinfo": "text",
         "marker": {
          "color": "blue",
          "size": 0.5
         },
         "mode": "markers",
         "text": "VBA appears with MS SQL Server 37 times",
         "type": "scatter",
         "uid": "30627b65-9c81-4f85-be19-ef4e8b8d97f5",
         "x": [
          0.8282713535035124
         ],
         "y": [
          -0.35208885947365565
         ]
        },
        {
         "hoverinfo": "text",
         "marker": {
          "color": "green",
          "size": 0.5
         },
         "mode": "markers",
         "text": "MS SQL Server appears with Linux 50 times",
         "type": "scatter",
         "uid": "2785da09-8679-4938-b062-0ad9913e5784",
         "x": [
          -0.28513504195699846
         ],
         "y": [
          0.8536381012163062
         ]
        },
        {
         "hoverinfo": "text",
         "marker": {
          "color": "blue",
          "size": 0.5
         },
         "mode": "markers",
         "text": "Linux appears with MS SQL Server 50 times",
         "type": "scatter",
         "uid": "f9c111aa-ce3a-43b0-bd0e-e17b7a50ea3b",
         "x": [
          0.8805590111238464
         ],
         "y": [
          -0.18605329324845013
         ]
        },
        {
         "hoverinfo": "text",
         "marker": {
          "color": "green",
          "size": 0.5
         },
         "mode": "markers",
         "text": "MS SQL Server appears with AWS 10 times",
         "type": "scatter",
         "uid": "b0b081ef-9d3b-4b8c-84f3-c97528b6b729",
         "x": [
          -0.24639338666188268
         ],
         "y": [
          0.8656155607481233
         ]
        },
        {
         "hoverinfo": "text",
         "marker": {
          "color": "blue",
          "size": 0.5
         },
         "mode": "markers",
         "text": "AWS appears with MS SQL Server 10 times",
         "type": "scatter",
         "uid": "7dc0f31a-9930-48ca-87af-6629685a84cf",
         "x": [
          0.8952329357500384
         ],
         "y": [
          -0.09250940897210237
         ]
        },
        {
         "hoverinfo": "text",
         "marker": {
          "color": "green",
          "size": 0.5
         },
         "mode": "markers",
         "text": "PostgreSQL appears with MySQL/MariaDB 94 times",
         "type": "scatter",
         "uid": "172210fd-ec86-44f8-8cfe-5e23c3311ba4",
         "x": [
          -0.6389271209867966
         ],
         "y": [
          0.6338549787352966
         ]
        },
        {
         "hoverinfo": "text",
         "marker": {
          "color": "blue",
          "size": 0.5
         },
         "mode": "markers",
         "text": "MySQL/MariaDB appears with PostgreSQL 94 times",
         "type": "scatter",
         "uid": "3d7481ef-ad8a-47cd-a70c-e3e3cf883f29",
         "x": [
          -0.7330045593433955
         ],
         "y": [
          0.5222109879941197
         ]
        },
        {
         "hoverinfo": "text",
         "marker": {
          "color": "green",
          "size": 0.5
         },
         "mode": "markers",
         "text": "PostgreSQL appears with T-SQL 35 times",
         "type": "scatter",
         "uid": "e08a209f-014c-448e-8c64-bbcd564207a9",
         "x": [
          -0.5909604085694906
         ],
         "y": [
          0.6787973154803876
         ]
        },
        {
         "hoverinfo": "text",
         "marker": {
          "color": "blue",
          "size": 0.5
         },
         "mode": "markers",
         "text": "T-SQL appears with PostgreSQL 35 times",
         "type": "scatter",
         "uid": "72666914-784b-498a-b64d-7f69ef9d09d1",
         "x": [
          -0.7794021523157166
         ],
         "y": [
          0.45003587075435275
         ]
        },
        {
         "hoverinfo": "text",
         "marker": {
          "color": "green",
          "size": 0.5
         },
         "mode": "markers",
         "text": "PostgreSQL appears with PL/SQL 1 times",
         "type": "scatter",
         "uid": "3d9927aa-3963-42ff-88d1-29f0cf518f72",
         "x": [
          -0.5812221026913229
         ],
         "y": [
          0.6871541801830776
         ]
        },
        {
         "hoverinfo": "text",
         "marker": {
          "color": "blue",
          "size": 0.5
         },
         "mode": "markers",
         "text": "PL/SQL appears with PostgreSQL 1 times",
         "type": "scatter",
         "uid": "0b5308da-357b-4193-9853-871107dfd40c",
         "x": [
          -0.8663137622960064
         ],
         "y": [
          0.24392717203406933
         ]
        },
        {
         "hoverinfo": "text",
         "marker": {
          "color": "green",
          "size": 0.5
         },
         "mode": "markers",
         "text": "PostgreSQL appears with Pentaho 45 times",
         "type": "scatter",
         "uid": "f0c91cbc-8cc3-4ec7-b14e-61856a623baf",
         "x": [
          -0.6063895161379236
         ],
         "y": [
          0.6650501896233209
         ]
        },
        {
         "hoverinfo": "text",
         "marker": {
          "color": "blue",
          "size": 0.5
         },
         "mode": "markers",
         "text": "Pentaho appears with PostgreSQL 45 times",
         "type": "scatter",
         "uid": "411120a7-c484-41c0-a5e8-e5163ec11a32",
         "x": [
          -0.8932643594714965
         ],
         "y": [
          0.10990352177240291
         ]
        },
        {
         "hoverinfo": "text",
         "marker": {
          "color": "green",
          "size": 0.5
         },
         "mode": "markers",
         "text": "PostgreSQL appears with Hadoop 3 times",
         "type": "scatter",
         "uid": "65e3199f-69b2-4e2f-8fd8-8868915e921d",
         "x": [
          -0.5814765490246641
         ],
         "y": [
          0.686938878601559
         ]
        },
        {
         "hoverinfo": "text",
         "marker": {
          "color": "blue",
          "size": 0.5
         },
         "mode": "markers",
         "text": "Hadoop appears with PostgreSQL 3 times",
         "type": "scatter",
         "uid": "a3ff6e26-dded-4dc6-92a9-4c9012d1e553",
         "x": [
          -0.8987172632907839
         ],
         "y": [
          0.04803416141792957
         ]
        },
        {
         "hoverinfo": "text",
         "marker": {
          "color": "green",
          "size": 0.5
         },
         "mode": "markers",
         "text": "PostgreSQL appears with Spark 7 times",
         "type": "scatter",
         "uid": "9e461534-edda-433d-bfb5-d4bf918b81f6",
         "x": [
          -0.5832554382940528
         ],
         "y": [
          0.6854291310561671
         ]
        },
        {
         "hoverinfo": "text",
         "marker": {
          "color": "blue",
          "size": 0.5
         },
         "mode": "markers",
         "text": "Spark appears with PostgreSQL 7 times",
         "type": "scatter",
         "uid": "8f4316c7-a8c4-4147-9850-e4b3298405d7",
         "x": [
          -0.8934493397965018
         ],
         "y": [
          -0.10838947004757894
         ]
        },
        {
         "hoverinfo": "text",
         "marker": {
          "color": "green",
          "size": 0.5
         },
         "mode": "markers",
         "text": "PostgreSQL appears with Qlik 14 times",
         "type": "scatter",
         "uid": "c05227d1-6a23-4c2f-ba89-ce05d07191d1",
         "x": [
          -0.5845870334661446
         ],
         "y": [
          0.6842937967739097
         ]
        },
        {
         "hoverinfo": "text",
         "marker": {
          "color": "blue",
          "size": 0.5
         },
         "mode": "markers",
         "text": "Qlik appears with PostgreSQL 14 times",
         "type": "scatter",
         "uid": "1766d228-bd38-403d-a311-add70b086cb5",
         "x": [
          -0.79676276642454
         ],
         "y": [
          -0.4185320705029831
         ]
        },
        {
         "hoverinfo": "text",
         "marker": {
          "color": "green",
          "size": 0.5
         },
         "mode": "markers",
         "text": "PostgreSQL appears with Tableau 6 times",
         "type": "scatter",
         "uid": "75cf0d31-bdba-4604-8e40-990d59ed86eb",
         "x": [
          -0.5824300121811514
         ],
         "y": [
          0.6861306587747438
         ]
        },
        {
         "hoverinfo": "text",
         "marker": {
          "color": "blue",
          "size": 0.5
         },
         "mode": "markers",
         "text": "Tableau appears with PostgreSQL 6 times",
         "type": "scatter",
         "uid": "798231c0-c91b-484f-b3af-b0048bdb8668",
         "x": [
          -0.5428576652287802
         ],
         "y": [
          -0.7178478636189967
         ]
        },
        {
         "hoverinfo": "text",
         "marker": {
          "color": "green",
          "size": 0.5
         },
         "mode": "markers",
         "text": "PostgreSQL appears with Oracle BI 44 times",
         "type": "scatter",
         "uid": "6a22486d-d7e7-4cb6-94fd-8fb4500f65a8",
         "x": [
          -0.6008888152073871
         ],
         "y": [
          0.6700243516161652
         ]
        },
        {
         "hoverinfo": "text",
         "marker": {
          "color": "blue",
          "size": 0.5
         },
         "mode": "markers",
         "text": "Oracle BI appears with PostgreSQL 44 times",
         "type": "scatter",
         "uid": "03a82843-3aeb-41cd-8ace-ac79b0366534",
         "x": [
          0.023456762043178304
         ],
         "y": [
          -0.8996942704688352
         ]
        },
        {
         "hoverinfo": "text",
         "marker": {
          "color": "green",
          "size": 0.5
         },
         "mode": "markers",
         "text": "PostgreSQL appears with Python 26 times",
         "type": "scatter",
         "uid": "5da6fb00-f9d9-47e2-b14c-e9c9e9e29cf5",
         "x": [
          -0.5871172872610931
         ],
         "y": [
          0.6821241023444159
         ]
        },
        {
         "hoverinfo": "text",
         "marker": {
          "color": "blue",
          "size": 0.5
         },
         "mode": "markers",
         "text": "Python appears with PostgreSQL 26 times",
         "type": "scatter",
         "uid": "2e31dc9d-213b-4b66-8a4f-723b82940835",
         "x": [
          0.5827616729948054
         ],
         "y": [
          -0.6858489866496089
         ]
        },
        {
         "hoverinfo": "text",
         "marker": {
          "color": "green",
          "size": 0.5
         },
         "mode": "markers",
         "text": "PostgreSQL appears with Linux 40 times",
         "type": "scatter",
         "uid": "ed9a69e3-efa1-4837-9ac7-f15ef39bea4f",
         "x": [
          -0.5956597087834058
         ],
         "y": [
          0.6746773386827724
         ]
        },
        {
         "hoverinfo": "text",
         "marker": {
          "color": "blue",
          "size": 0.5
         },
         "mode": "markers",
         "text": "Linux appears with PostgreSQL 40 times",
         "type": "scatter",
         "uid": "3d6413a1-5546-41f0-b9ca-a10bddb9ae08",
         "x": [
          0.8772149019319041
         ],
         "y": [
          -0.20123124963235686
         ]
        },
        {
         "hoverinfo": "text",
         "marker": {
          "color": "green",
          "size": 0.5
         },
         "mode": "markers",
         "text": "PostgreSQL appears with AWS 3 times",
         "type": "scatter",
         "uid": "c101c8cc-cc0a-4d92-9fc2-853c7c8776df",
         "x": [
          -0.5818580689750884
         ],
         "y": [
          0.6866157495780164
         ]
        },
        {
         "hoverinfo": "text",
         "marker": {
          "color": "blue",
          "size": 0.5
         },
         "mode": "markers",
         "text": "AWS appears with PostgreSQL 3 times",
         "type": "scatter",
         "uid": "5399be85-6866-4da5-a1d0-cb2247012c84",
         "x": [
          0.8947944287415873
         ],
         "y": [
          -0.09665883453164778
         ]
        },
        {
         "hoverinfo": "text",
         "marker": {
          "color": "green",
          "size": 0.5
         },
         "mode": "markers",
         "text": "MySQL/MariaDB appears with T-SQL 39 times",
         "type": "scatter",
         "uid": "61af8ce3-467d-43c4-a71a-35ae582031ad",
         "x": [
          -0.6742366322422488
         ],
         "y": [
          0.5961585055525338
         ]
        },
        {
         "hoverinfo": "text",
         "marker": {
          "color": "blue",
          "size": 0.5
         },
         "mode": "markers",
         "text": "T-SQL appears with MySQL/MariaDB 39 times",
         "type": "scatter",
         "uid": "b78f957d-906c-4d19-9c2a-e6b61c3d175f",
         "x": [
          -0.783007981737471
         ],
         "y": [
          0.4437324650455637
         ]
        },
        {
         "hoverinfo": "text",
         "marker": {
          "color": "green",
          "size": 0.5
         },
         "mode": "markers",
         "text": "MySQL/MariaDB appears with Pentaho 63 times",
         "type": "scatter",
         "uid": "85c5e0b9-8dc3-47f0-991e-f14d67914d65",
         "x": [
          -0.6978139121622845
         ],
         "y": [
          0.568379929266303
         ]
        },
        {
         "hoverinfo": "text",
         "marker": {
          "color": "blue",
          "size": 0.5
         },
         "mode": "markers",
         "text": "Pentaho appears with MySQL/MariaDB 63 times",
         "type": "scatter",
         "uid": "5d193123-d8f0-4432-8e45-dd587c5ad5af",
         "x": [
          -0.8951701754200513
         ],
         "y": [
          0.09311475199147991
         ]
        },
        {
         "hoverinfo": "text",
         "marker": {
          "color": "green",
          "size": 0.5
         },
         "mode": "markers",
         "text": "MySQL/MariaDB appears with Hadoop 6 times",
         "type": "scatter",
         "uid": "ee496af1-aecb-4a79-9597-433668424090",
         "x": [
          -0.665448967535789
         ],
         "y": [
          0.6059518723508928
         ]
        },
        {
         "hoverinfo": "text",
         "marker": {
          "color": "blue",
          "size": 0.5
         },
         "mode": "markers",
         "text": "Hadoop appears with MySQL/MariaDB 6 times",
         "type": "scatter",
         "uid": "0cf93de0-1d55-4b48-834a-6cbbd348fd35",
         "x": [
          -0.8988350858188265
         ],
         "y": [
          0.0457765059944809
         ]
        },
        {
         "hoverinfo": "text",
         "marker": {
          "color": "green",
          "size": 0.5
         },
         "mode": "markers",
         "text": "MySQL/MariaDB appears with Spark 24 times",
         "type": "scatter",
         "uid": "eadeebcd-9e6f-48ac-ad38-863ed1fdab1e",
         "x": [
          -0.6703827928616389
         ],
         "y": [
          0.6004888933486022
         ]
        },
        {
         "hoverinfo": "text",
         "marker": {
          "color": "blue",
          "size": 0.5
         },
         "mode": "markers",
         "text": "Spark appears with MySQL/MariaDB 24 times",
         "type": "scatter",
         "uid": "96abcc5e-aac4-4374-a086-0b7713b54905",
         "x": [
          -0.8918040409355248
         ],
         "y": [
          -0.12118396169076538
         ]
        },
        {
         "hoverinfo": "text",
         "marker": {
          "color": "green",
          "size": 0.5
         },
         "mode": "markers",
         "text": "MySQL/MariaDB appears with Informatica 8 times",
         "type": "scatter",
         "uid": "c0152a4a-2d72-4ef9-9ce4-3227c2a5b935",
         "x": [
          -0.6663156098879415
         ],
         "y": [
          0.6049987669571406
         ]
        },
        {
         "hoverinfo": "text",
         "marker": {
          "color": "blue",
          "size": 0.5
         },
         "mode": "markers",
         "text": "Informatica appears with MySQL/MariaDB 8 times",
         "type": "scatter",
         "uid": "db00714b-810b-4de8-89ae-e3303516f0f2",
         "x": [
          -0.858977641722398
         ],
         "y": [
          -0.26862131527678107
         ]
        },
        {
         "hoverinfo": "text",
         "marker": {
          "color": "green",
          "size": 0.5
         },
         "mode": "markers",
         "text": "MySQL/MariaDB appears with Qlik 17 times",
         "type": "scatter",
         "uid": "235ca4f9-e453-47fe-b69e-d7ecf12488c3",
         "x": [
          -0.6678597890064821
         ],
         "y": [
          0.6032937114111311
         ]
        },
        {
         "hoverinfo": "text",
         "marker": {
          "color": "blue",
          "size": 0.5
         },
         "mode": "markers",
         "text": "Qlik appears with MySQL/MariaDB 17 times",
         "type": "scatter",
         "uid": "25f99717-cbaa-47e0-83e2-1aab342c3f91",
         "x": [
          -0.7937321984971737
         ],
         "y": [
          -0.4242513371444376
         ]
        },
        {
         "hoverinfo": "text",
         "marker": {
          "color": "green",
          "size": 0.5
         },
         "mode": "markers",
         "text": "MySQL/MariaDB appears with Tableau 48 times",
         "type": "scatter",
         "uid": "6aa7c49c-7799-4d6c-b492-6d317b46de2a",
         "x": [
          -0.684794482450484
         ],
         "y": [
          0.5840004424701867
         ]
        },
        {
         "hoverinfo": "text",
         "marker": {
          "color": "blue",
          "size": 0.5
         },
         "mode": "markers",
         "text": "Tableau appears with MySQL/MariaDB 48 times",
         "type": "scatter",
         "uid": "c428132f-089b-424e-93b8-58f085575326",
         "x": [
          -0.507106162336762
         ],
         "y": [
          -0.7435343570542532
         ]
        },
        {
         "hoverinfo": "text",
         "marker": {
          "color": "green",
          "size": 0.5
         },
         "mode": "markers",
         "text": "MySQL/MariaDB appears with Oracle BI 69 times",
         "type": "scatter",
         "uid": "0a65b1e4-bfcd-4181-b866-a1debfdcde9d",
         "x": [
          -0.7054207110250896
         ],
         "y": [
          0.5589111024634035
         ]
        },
        {
         "hoverinfo": "text",
         "marker": {
          "color": "blue",
          "size": 0.5
         },
         "mode": "markers",
         "text": "Oracle BI appears with MySQL/MariaDB 69 times",
         "type": "scatter",
         "uid": "696f300b-0688-4ee1-81e3-d1dd8a877f60",
         "x": [
          0.05774430717968987
         ],
         "y": [
          -0.8981456424146018
         ]
        },
        {
         "hoverinfo": "text",
         "marker": {
          "color": "green",
          "size": 0.5
         },
         "mode": "markers",
         "text": "MySQL/MariaDB appears with Python 55 times",
         "type": "scatter",
         "uid": "770aa0d3-cb3f-4980-83d6-294a940355bb",
         "x": [
          -0.6909062670327633
         ],
         "y": [
          0.5767569073490599
         ]
        },
        {
         "hoverinfo": "text",
         "marker": {
          "color": "blue",
          "size": 0.5
         },
         "mode": "markers",
         "text": "Python appears with MySQL/MariaDB 55 times",
         "type": "scatter",
         "uid": "427dca98-5dcb-4640-a126-89ade6acd70a",
         "x": [
          0.6141199281039927
         ],
         "y": [
          -0.6579184705611684
         ]
        },
        {
         "hoverinfo": "text",
         "marker": {
          "color": "green",
          "size": 0.5
         },
         "mode": "markers",
         "text": "MySQL/MariaDB appears with VBA 5 times",
         "type": "scatter",
         "uid": "322b5499-306e-4be3-a8bb-82604a464595",
         "x": [
          -0.6641464483166636
         ],
         "y": [
          0.6073792021368211
         ]
        },
        {
         "hoverinfo": "text",
         "marker": {
          "color": "blue",
          "size": 0.5
         },
         "mode": "markers",
         "text": "VBA appears with MySQL/MariaDB 5 times",
         "type": "scatter",
         "uid": "6e4fd54f-022d-4737-a199-10cddbef1352",
         "x": [
          0.8176967879165596
         ],
         "y": [
          -0.3759946316517576
         ]
        },
        {
         "hoverinfo": "text",
         "marker": {
          "color": "green",
          "size": 0.5
         },
         "mode": "markers",
         "text": "MySQL/MariaDB appears with Linux 44 times",
         "type": "scatter",
         "uid": "a8e641b8-9f11-45a4-8b08-e8d0b2bf8bfa",
         "x": [
          -0.6792711855850577
         ],
         "y": [
          0.5904156641162818
         ]
        },
        {
         "hoverinfo": "text",
         "marker": {
          "color": "blue",
          "size": 0.5
         },
         "mode": "markers",
         "text": "Linux appears with MySQL/MariaDB 44 times",
         "type": "scatter",
         "uid": "0a526669-77d3-48ae-8db6-dd7a456b973a",
         "x": [
          0.87882568019696
         ],
         "y": [
          -0.19407581978791344
         ]
        },
        {
         "hoverinfo": "text",
         "marker": {
          "color": "green",
          "size": 0.5
         },
         "mode": "markers",
         "text": "T-SQL appears with PL/SQL 39 times",
         "type": "scatter",
         "uid": "4dad1235-a848-426e-8502-d8eed6ecfecc",
         "x": [
          -0.7867535309154454
         ],
         "y": [
          0.437057069033415
         ]
        },
        {
         "hoverinfo": "text",
         "marker": {
          "color": "blue",
          "size": 0.5
         },
         "mode": "markers",
         "text": "PL/SQL appears with T-SQL 39 times",
         "type": "scatter",
         "uid": "e4d775ae-72af-4f40-82f2-d0d15bb1f85c",
         "x": [
          -0.8733492049214726
         ],
         "y": [
          0.21739633452068977
         ]
        },
        {
         "hoverinfo": "text",
         "marker": {
          "color": "green",
          "size": 0.5
         },
         "mode": "markers",
         "text": "T-SQL appears with Pentaho 39 times",
         "type": "scatter",
         "uid": "0801c62d-db40-4a0f-a13a-cd12029f42e5",
         "x": [
          -0.7904421715389041
         ],
         "y": [
          0.43035005919932406
         ]
        },
        {
         "hoverinfo": "text",
         "marker": {
          "color": "blue",
          "size": 0.5
         },
         "mode": "markers",
         "text": "Pentaho appears with T-SQL 39 times",
         "type": "scatter",
         "uid": "b37063ba-5111-4285-87f1-db381340a939",
         "x": [
          -0.8914666213256889
         ],
         "y": [
          0.12364167202913766
         ]
        },
        {
         "hoverinfo": "text",
         "marker": {
          "color": "green",
          "size": 0.5
         },
         "mode": "markers",
         "text": "T-SQL appears with Hadoop 17 times",
         "type": "scatter",
         "uid": "063a3b2c-8923-4e37-80ff-c0a79da08d58",
         "x": [
          -0.7697087545418999
         ],
         "y": [
          0.4664208755850849
         ]
        },
        {
         "hoverinfo": "text",
         "marker": {
          "color": "blue",
          "size": 0.5
         },
         "mode": "markers",
         "text": "Hadoop appears with T-SQL 17 times",
         "type": "scatter",
         "uid": "bbbd368e-766c-4b75-ab36-6caf7f1336f1",
         "x": [
          -0.8990743310004669
         ],
         "y": [
          0.04080866741346722
         ]
        },
        {
         "hoverinfo": "text",
         "marker": {
          "color": "green",
          "size": 0.5
         },
         "mode": "markers",
         "text": "T-SQL appears with Spark 18 times",
         "type": "scatter",
         "uid": "fee8a536-fbb3-436e-bca7-b3a392da4fb7",
         "x": [
          -0.7714831539426679
         ],
         "y": [
          0.4634800353657898
         ]
        },
        {
         "hoverinfo": "text",
         "marker": {
          "color": "blue",
          "size": 0.5
         },
         "mode": "markers",
         "text": "Spark appears with T-SQL 18 times",
         "type": "scatter",
         "uid": "b808380a-39a1-4041-9e33-b88e6644ea60",
         "x": [
          -0.8923133048376686
         ],
         "y": [
          -0.11737532112704917
         ]
        },
        {
         "hoverinfo": "text",
         "marker": {
          "color": "green",
          "size": 0.5
         },
         "mode": "markers",
         "text": "T-SQL appears with Informatica 12 times",
         "type": "scatter",
         "uid": "0c4b9da8-ec13-466a-8d9b-2032ae1bad49",
         "x": [
          -0.7668977734016644
         ],
         "y": [
          0.47102845471539134
         ]
        },
        {
         "hoverinfo": "text",
         "marker": {
          "color": "blue",
          "size": 0.5
         },
         "mode": "markers",
         "text": "Informatica appears with T-SQL 12 times",
         "type": "scatter",
         "uid": "98b148a6-8f13-4544-b1e5-1233cdb0e4f3",
         "x": [
          -0.8579378043616286
         ],
         "y": [
          -0.27192411413324086
         ]
        },
        {
         "hoverinfo": "text",
         "marker": {
          "color": "green",
          "size": 0.5
         },
         "mode": "markers",
         "text": "T-SQL appears with Qlik 72 times",
         "type": "scatter",
         "uid": "0e8ef933-0bdb-4ddb-b102-46796dad53fd",
         "x": [
          -0.803961813762749
         ],
         "y": [
          0.4045310890541182
         ]
        },
        {
         "hoverinfo": "text",
         "marker": {
          "color": "blue",
          "size": 0.5
         },
         "mode": "markers",
         "text": "Qlik appears with T-SQL 72 times",
         "type": "scatter",
         "uid": "6717c29d-dff5-4c39-a695-5c59fb7775c4",
         "x": [
          -0.7650624090728527
         ],
         "y": [
          -0.4740037027530935
         ]
        },
        {
         "hoverinfo": "text",
         "marker": {
          "color": "green",
          "size": 0.5
         },
         "mode": "markers",
         "text": "T-SQL appears with Tableau 95 times",
         "type": "scatter",
         "uid": "40db6cb5-c721-43a4-b41e-48b821ce6fa4",
         "x": [
          -0.8111943394931813
         ],
         "y": [
          0.3898252731342869
         ]
        },
        {
         "hoverinfo": "text",
         "marker": {
          "color": "blue",
          "size": 0.5
         },
         "mode": "markers",
         "text": "Tableau appears with T-SQL 95 times",
         "type": "scatter",
         "uid": "a355927a-1d8a-482d-9495-12220440bb7d",
         "x": [
          -0.4616616089768265
         ],
         "y": [
          -0.7725726883581426
         ]
        },
        {
         "hoverinfo": "text",
         "marker": {
          "color": "green",
          "size": 0.5
         },
         "mode": "markers",
         "text": "T-SQL appears with Microstrategy 13 times",
         "type": "scatter",
         "uid": "987b052f-6403-41ac-87eb-fd8525a57143",
         "x": [
          -0.7681789173634922
         ],
         "y": [
          0.4689361906680408
         ]
        },
        {
         "hoverinfo": "text",
         "marker": {
          "color": "blue",
          "size": 0.5
         },
         "mode": "markers",
         "text": "Microstrategy appears with T-SQL 13 times",
         "type": "scatter",
         "uid": "a87e648d-01cc-4869-9ba2-2d66a06c143b",
         "x": [
          -0.07772977420688464
         ],
         "y": [
          -0.8966370961552654
         ]
        },
        {
         "hoverinfo": "text",
         "marker": {
          "color": "green",
          "size": 0.5
         },
         "mode": "markers",
         "text": "T-SQL appears with Oracle BI 136 times",
         "type": "scatter",
         "uid": "5b24c19c-ae3f-4e3e-95b6-c39e6f219fbe",
         "x": [
          -0.8304391013918521
         ],
         "y": [
          0.34694509490623043
         ]
        },
        {
         "hoverinfo": "text",
         "marker": {
          "color": "blue",
          "size": 0.5
         },
         "mode": "markers",
         "text": "Oracle BI appears with T-SQL 136 times",
         "type": "scatter",
         "uid": "5e08dc30-327c-44b6-8bfb-d35e5d3df56b",
         "x": [
          0.1394927574730676
         ],
         "y": [
          -0.8891241592784216
         ]
        },
        {
         "hoverinfo": "text",
         "marker": {
          "color": "green",
          "size": 0.5
         },
         "mode": "markers",
         "text": "T-SQL appears with Python 49 times",
         "type": "scatter",
         "uid": "f3286d60-5786-461e-be8f-f44a3fa2cdf7",
         "x": [
          -0.7985547978116486
         ],
         "y": [
          0.4151026799383461
         ]
        },
        {
         "hoverinfo": "text",
         "marker": {
          "color": "blue",
          "size": 0.5
         },
         "mode": "markers",
         "text": "Python appears with T-SQL 49 times",
         "type": "scatter",
         "uid": "0a6d6ea0-2578-43b4-9e85-3368ea057369",
         "x": [
          0.5980284251261898
         ],
         "y": [
          -0.6725786219774528
         ]
        },
        {
         "hoverinfo": "text",
         "marker": {
          "color": "green",
          "size": 0.5
         },
         "mode": "markers",
         "text": "T-SQL appears with VBA 27 times",
         "type": "scatter",
         "uid": "3f974dc9-03cb-498b-9c29-41958e91d1a7",
         "x": [
          -0.776341974937513
         ],
         "y": [
          0.45529456174011357
         ]
        },
        {
         "hoverinfo": "text",
         "marker": {
          "color": "blue",
          "size": 0.5
         },
         "mode": "markers",
         "text": "VBA appears with T-SQL 27 times",
         "type": "scatter",
         "uid": "e1dd9e22-04a1-4f23-8174-c90b4432a547",
         "x": [
          0.8211501935670688
         ],
         "y": [
          -0.36839158460090476
         ]
        },
        {
         "hoverinfo": "text",
         "marker": {
          "color": "green",
          "size": 0.5
         },
         "mode": "markers",
         "text": "T-SQL appears with Linux 26 times",
         "type": "scatter",
         "uid": "6b3367ba-eba7-4409-93a6-758551d904f8",
         "x": [
          -0.7736978828934974
         ],
         "y": [
          0.4597734072411321
         ]
        },
        {
         "hoverinfo": "text",
         "marker": {
          "color": "blue",
          "size": 0.5
         },
         "mode": "markers",
         "text": "Linux appears with T-SQL 26 times",
         "type": "scatter",
         "uid": "09fd37e5-f085-441d-bd6c-c00f08567bb0",
         "x": [
          0.8744835044386284
         ],
         "y": [
          -0.21278768870575038
         ]
        },
        {
         "hoverinfo": "text",
         "marker": {
          "color": "green",
          "size": 0.5
         },
         "mode": "markers",
         "text": "T-SQL appears with AWS 9 times",
         "type": "scatter",
         "uid": "060c9514-c2f8-46c8-a31c-64a2b62efee5",
         "x": [
          -0.7658172081886756
         ],
         "y": [
          0.4727832522859739
         ]
        },
        {
         "hoverinfo": "text",
         "marker": {
          "color": "blue",
          "size": 0.5
         },
         "mode": "markers",
         "text": "AWS appears with T-SQL 9 times",
         "type": "scatter",
         "uid": "6e3b8e01-0c37-4aff-b56e-83a36e98f76f",
         "x": [
          0.8950779472332611
         ],
         "y": [
          -0.09399717217390914
         ]
        },
        {
         "hoverinfo": "text",
         "marker": {
          "color": "green",
          "size": 0.5
         },
         "mode": "markers",
         "text": "PL/SQL appears with Pentaho 8 times",
         "type": "scatter",
         "uid": "dd1fc270-3b39-4f1c-8955-137d04963534",
         "x": [
          -0.8670574727590896
         ],
         "y": [
          0.24127026118570968
         ]
        },
        {
         "hoverinfo": "text",
         "marker": {
          "color": "blue",
          "size": 0.5
         },
         "mode": "markers",
         "text": "Pentaho appears with PL/SQL 8 times",
         "type": "scatter",
         "uid": "cf5efd88-dc1a-4ca7-ac1f-41678999f360",
         "x": [
          -0.88466827121298
         ],
         "y": [
          0.16541478141036028
         ]
        },
        {
         "hoverinfo": "text",
         "marker": {
          "color": "green",
          "size": 0.5
         },
         "mode": "markers",
         "text": "PL/SQL appears with Hadoop 3 times",
         "type": "scatter",
         "uid": "270e0924-e4ba-4995-b4f4-a4fe8cf8ff0a",
         "x": [
          -0.8665816723773391
         ],
         "y": [
          0.24297367161833433
         ]
        },
        {
         "hoverinfo": "text",
         "marker": {
          "color": "blue",
          "size": 0.5
         },
         "mode": "markers",
         "text": "Hadoop appears with PL/SQL 3 times",
         "type": "scatter",
         "uid": "cf78b5ba-dba0-400d-844d-ad109db3a596",
         "x": [
          -0.8987460578915194
         ],
         "y": [
          0.04749235122052541
         ]
        },
        {
         "hoverinfo": "text",
         "marker": {
          "color": "green",
          "size": 0.5
         },
         "mode": "markers",
         "text": "PL/SQL appears with Informatica 30 times",
         "type": "scatter",
         "uid": "93d6de58-c7b1-4e26-b2aa-7f5432d1af6e",
         "x": [
          -0.8707789560255643
         ],
         "y": [
          0.22747309674558966
         ]
        },
        {
         "hoverinfo": "text",
         "marker": {
          "color": "blue",
          "size": 0.5
         },
         "mode": "markers",
         "text": "Informatica appears with PL/SQL 30 times",
         "type": "scatter",
         "uid": "634223ef-b6b1-4c10-b2d5-0fbcdc7c65e0",
         "x": [
          -0.8517863651596558
         ],
         "y": [
          -0.2906200064140483
         ]
        },
        {
         "hoverinfo": "text",
         "marker": {
          "color": "green",
          "size": 0.5
         },
         "mode": "markers",
         "text": "PL/SQL appears with Qlik 18 times",
         "type": "scatter",
         "uid": "e1e839d4-bb22-4c4e-9bc1-a9b324d74387",
         "x": [
          -0.8682974929093381
         ],
         "y": [
          0.23676879821327365
         ]
        },
        {
         "hoverinfo": "text",
         "marker": {
          "color": "blue",
          "size": 0.5
         },
         "mode": "markers",
         "text": "Qlik appears with PL/SQL 18 times",
         "type": "scatter",
         "uid": "66487024-1204-46a4-a72e-da1e227b2001",
         "x": [
          -0.7920308005947941
         ],
         "y": [
          -0.42741924489799166
         ]
        },
        {
         "hoverinfo": "text",
         "marker": {
          "color": "green",
          "size": 0.5
         },
         "mode": "markers",
         "text": "PL/SQL appears with Tableau 20 times",
         "type": "scatter",
         "uid": "24c27c2d-dbec-4a2a-8488-4932e125cf05",
         "x": [
          -0.8690008448107451
         ],
         "y": [
          0.23417414827049404
         ]
        },
        {
         "hoverinfo": "text",
         "marker": {
          "color": "blue",
          "size": 0.5
         },
         "mode": "markers",
         "text": "Tableau appears with PL/SQL 20 times",
         "type": "scatter",
         "uid": "52bd1baf-b86e-4660-a38f-48efcbbd71ca",
         "x": [
          -0.537684451856997
         ],
         "y": [
          -0.7217308571976404
         ]
        },
        {
         "hoverinfo": "text",
         "marker": {
          "color": "green",
          "size": 0.5
         },
         "mode": "markers",
         "text": "PL/SQL appears with Microstrategy 24 times",
         "type": "scatter",
         "uid": "c71337a9-5c0a-44fa-a729-ab415d8e6ca8",
         "x": [
          -0.8698055655802382
         ],
         "y": [
          0.2311672080673248
         ]
        },
        {
         "hoverinfo": "text",
         "marker": {
          "color": "blue",
          "size": 0.5
         },
         "mode": "markers",
         "text": "Microstrategy appears with PL/SQL 24 times",
         "type": "scatter",
         "uid": "b02e0318-7842-47f4-8690-247d7ea86755",
         "x": [
          -0.06783521434781081
         ],
         "y": [
          -0.8974399053387289
         ]
        },
        {
         "hoverinfo": "text",
         "marker": {
          "color": "green",
          "size": 0.5
         },
         "mode": "markers",
         "text": "PL/SQL appears with Oracle BI 83 times",
         "type": "scatter",
         "uid": "eb6f2ff9-41f4-4918-a344-203108ee76b8",
         "x": [
          -0.8772315783921443
         ],
         "y": [
          0.20115853914668216
         ]
        },
        {
         "hoverinfo": "text",
         "marker": {
          "color": "blue",
          "size": 0.5
         },
         "mode": "markers",
         "text": "Oracle BI appears with PL/SQL 83 times",
         "type": "scatter",
         "uid": "16de8060-4ebd-4bce-907e-318ed1618081",
         "x": [
          0.08932094243982874
         ],
         "y": [
          -0.8955566811998338
         ]
        },
        {
         "hoverinfo": "text",
         "marker": {
          "color": "green",
          "size": 0.5
         },
         "mode": "markers",
         "text": "PL/SQL appears with Python 3 times",
         "type": "scatter",
         "uid": "96f54937-bcbc-474a-92a4-3d3e0b4e04eb",
         "x": [
          -0.8664669822576266
         ],
         "y": [
          0.2433823507515728
         ]
        },
        {
         "hoverinfo": "text",
         "marker": {
          "color": "blue",
          "size": 0.5
         },
         "mode": "markers",
         "text": "Python appears with PL/SQL 3 times",
         "type": "scatter",
         "uid": "2fbb1f9b-bcdc-4bfb-85e8-7573f5f93fbc",
         "x": [
          0.5775019502362634
         ],
         "y": [
          -0.6902836355247837
         ]
        },
        {
         "hoverinfo": "text",
         "marker": {
          "color": "green",
          "size": 0.5
         },
         "mode": "markers",
         "text": "PL/SQL appears with VBA 7 times",
         "type": "scatter",
         "uid": "90f0c963-bd9f-4bd2-af02-08b2b8e27fb1",
         "x": [
          -0.8667723942127047
         ],
         "y": [
          0.24229241967254325
         ]
        },
        {
         "hoverinfo": "text",
         "marker": {
          "color": "blue",
          "size": 0.5
         },
         "mode": "markers",
         "text": "VBA appears with PL/SQL 7 times",
         "type": "scatter",
         "uid": "57578bd7-a1ac-441c-b872-e924dd49df9b",
         "x": [
          0.8192069359074512
         ],
         "y": [
          -0.3726928979214994
         ]
        },
        {
         "hoverinfo": "text",
         "marker": {
          "color": "green",
          "size": 0.5
         },
         "mode": "markers",
         "text": "PL/SQL appears with Linux 1 times",
         "type": "scatter",
         "uid": "d3f4975c-ea43-485f-b41a-d4e85ffdaf05",
         "x": [
          -0.866275403775839
         ],
         "y": [
          0.24406336229144912
         ]
        },
        {
         "hoverinfo": "text",
         "marker": {
          "color": "blue",
          "size": 0.5
         },
         "mode": "markers",
         "text": "Linux appears with PL/SQL 1 times",
         "type": "scatter",
         "uid": "5036ae23-6f16-4d93-8f09-d2b659de19ec",
         "x": [
          0.8701680387647225
         ],
         "y": [
          -0.22979900851038626
         ]
        },
        {
         "hoverinfo": "text",
         "marker": {
          "color": "green",
          "size": 0.5
         },
         "mode": "markers",
         "text": "PL/SQL appears with AWS 2 times",
         "type": "scatter",
         "uid": "6eb71a99-11e2-48c9-96f0-8ec43f179a04",
         "x": [
          -0.866371259930416
         ],
         "y": [
          0.24372287534530623
         ]
        },
        {
         "hoverinfo": "text",
         "marker": {
          "color": "blue",
          "size": 0.5
         },
         "mode": "markers",
         "text": "AWS appears with PL/SQL 2 times",
         "type": "scatter",
         "uid": "a20f4ba2-fa72-401e-b719-e0cb20bd7444",
         "x": [
          0.8947010074700966
         ],
         "y": [
          -0.09751977867076084
         ]
        },
        {
         "hoverinfo": "text",
         "marker": {
          "color": "green",
          "size": 0.5
         },
         "mode": "markers",
         "text": "Pentaho appears with Spark 6 times",
         "type": "scatter",
         "uid": "f614eb7f-9c52-450c-806c-5398da0839e8",
         "x": [
          -0.8844501193853448
         ],
         "y": [
          0.1665772683148859
         ]
        },
        {
         "hoverinfo": "text",
         "marker": {
          "color": "blue",
          "size": 0.5
         },
         "mode": "markers",
         "text": "Spark appears with Pentaho 6 times",
         "type": "scatter",
         "uid": "15585641-deaa-4b71-adac-bd9ec87660d3",
         "x": [
          -0.8935917972110022
         ],
         "y": [
          -0.1072086748225683
         ]
        },
        {
         "hoverinfo": "text",
         "marker": {
          "color": "green",
          "size": 0.5
         },
         "mode": "markers",
         "text": "Pentaho appears with Informatica 32 times",
         "type": "scatter",
         "uid": "020d946f-fe20-4f09-a5e4-2aac8944457f",
         "x": [
          -0.8859153222821359
         ],
         "y": [
          0.1586002577101922
         ]
        },
        {
         "hoverinfo": "text",
         "marker": {
          "color": "blue",
          "size": 0.5
         },
         "mode": "markers",
         "text": "Informatica appears with Pentaho 32 times",
         "type": "scatter",
         "uid": "dc426771-df98-4ceb-8fad-821128b8e6f3",
         "x": [
          -0.8499452951667334
         ],
         "y": [
          -0.29596113802986757
         ]
        },
        {
         "hoverinfo": "text",
         "marker": {
          "color": "green",
          "size": 0.5
         },
         "mode": "markers",
         "text": "Pentaho appears with Qlik 32 times",
         "type": "scatter",
         "uid": "d210a603-a680-4e53-8205-54ceb0ec51a1",
         "x": [
          -0.8868521621254599
         ],
         "y": [
          0.15327505515705053
         ]
        },
        {
         "hoverinfo": "text",
         "marker": {
          "color": "blue",
          "size": 0.5
         },
         "mode": "markers",
         "text": "Qlik appears with Pentaho 32 times",
         "type": "scatter",
         "uid": "e8ea6ab6-b9bc-4be6-a7a6-271c56dd5639",
         "x": [
          -0.7865014978296035
         ],
         "y": [
          -0.43751045006009887
         ]
        },
        {
         "hoverinfo": "text",
         "marker": {
          "color": "green",
          "size": 0.5
         },
         "mode": "markers",
         "text": "Pentaho appears with Tableau 39 times",
         "type": "scatter",
         "uid": "249f6727-cceb-48bf-92a6-57e4c473c572",
         "x": [
          -0.8905374331894002
         ],
         "y": [
          0.13016558718968238
         ]
        },
        {
         "hoverinfo": "text",
         "marker": {
          "color": "blue",
          "size": 0.5
         },
         "mode": "markers",
         "text": "Tableau appears with Pentaho 39 times",
         "type": "scatter",
         "uid": "2b557706-71c9-47d7-9af8-30d630c2c67f",
         "x": [
          -0.514578872870833
         ],
         "y": [
          -0.738382410133789
         ]
        },
        {
         "hoverinfo": "text",
         "marker": {
          "color": "green",
          "size": 0.5
         },
         "mode": "markers",
         "text": "Pentaho appears with Microstrategy 3 times",
         "type": "scatter",
         "uid": "7e84edde-9ee9-4a32-b68c-4ca87dba3dd1",
         "x": [
          -0.8843090722608951
         ],
         "y": [
          0.16732442952861126
         ]
        },
        {
         "hoverinfo": "text",
         "marker": {
          "color": "blue",
          "size": 0.5
         },
         "mode": "markers",
         "text": "Microstrategy appears with Pentaho 3 times",
         "type": "scatter",
         "uid": "20a39b90-b165-4f10-a0c5-42bdabab71f5",
         "x": [
          -0.08123627421372161
         ],
         "y": [
          -0.8963262061057197
         ]
        },
        {
         "hoverinfo": "text",
         "marker": {
          "color": "green",
          "size": 0.5
         },
         "mode": "markers",
         "text": "Pentaho appears with Oracle BI 40 times",
         "type": "scatter",
         "uid": "059cb565-1f03-46cb-811a-4c59e9d1a6df",
         "x": [
          -0.8923590065486336
         ],
         "y": [
          0.11702736189257469
         ]
        },
        {
         "hoverinfo": "text",
         "marker": {
          "color": "blue",
          "size": 0.5
         },
         "mode": "markers",
         "text": "Oracle BI appears with Pentaho 40 times",
         "type": "scatter",
         "uid": "edf58f69-19b7-4814-8acb-7e2d9732e0f2",
         "x": [
          0.014587195946721438
         ],
         "y": [
          -0.8998817776321576
         ]
        },
        {
         "hoverinfo": "text",
         "marker": {
          "color": "green",
          "size": 0.5
         },
         "mode": "markers",
         "text": "Pentaho appears with Python 34 times",
         "type": "scatter",
         "uid": "c3871c24-6657-4d90-8229-f75a44fd41e9",
         "x": [
          -0.8887099613108584
         ],
         "y": [
          0.14210772205215505
         ]
        },
        {
         "hoverinfo": "text",
         "marker": {
          "color": "blue",
          "size": 0.5
         },
         "mode": "markers",
         "text": "Python appears with Pentaho 34 times",
         "type": "scatter",
         "uid": "82a3670c-afc1-46b7-a0d0-da9b261a67c2",
         "x": [
          0.5916326253621212
         ],
         "y": [
          -0.6782114984332867
         ]
        },
        {
         "hoverinfo": "text",
         "marker": {
          "color": "green",
          "size": 0.5
         },
         "mode": "markers",
         "text": "Pentaho appears with VBA 1 times",
         "type": "scatter",
         "uid": "87703740-9a34-4664-8d25-959d1059ac15",
         "x": [
          -0.8842461820421148
         ],
         "y": [
          0.16765646287555763
         ]
        },
        {
         "hoverinfo": "text",
         "marker": {
          "color": "blue",
          "size": 0.5
         },
         "mode": "markers",
         "text": "VBA appears with Pentaho 1 times",
         "type": "scatter",
         "uid": "ffdc4e60-b8e5-49c0-8356-75426c8db8cf",
         "x": [
          0.816708054162811
         ],
         "y": [
          -0.37813748064109565
         ]
        },
        {
         "hoverinfo": "text",
         "marker": {
          "color": "green",
          "size": 0.5
         },
         "mode": "markers",
         "text": "Pentaho appears with Linux 35 times",
         "type": "scatter",
         "uid": "84f9b8b5-f695-4db8-b309-a2b3d5115bfe",
         "x": [
          -0.8896117620886312
         ],
         "y": [
          0.13634849743785457
         ]
        },
        {
         "hoverinfo": "text",
         "marker": {
          "color": "blue",
          "size": 0.5
         },
         "mode": "markers",
         "text": "Linux appears with Pentaho 35 times",
         "type": "scatter",
         "uid": "85882cfc-54c7-4c4b-b611-e29744470cce",
         "x": [
          0.8757274736118621
         ],
         "y": [
          -0.20760874731423373
         ]
        },
        {
         "hoverinfo": "text",
         "marker": {
          "color": "green",
          "size": 0.5
         },
         "mode": "markers",
         "text": "Pentaho appears with AWS 13 times",
         "type": "scatter",
         "uid": "5588be35-1562-42a3-a005-2f262368ec2e",
         "x": [
          -0.8852374592462545
         ],
         "y": [
          0.16234112463339623
         ]
        },
        {
         "hoverinfo": "text",
         "marker": {
          "color": "blue",
          "size": 0.5
         },
         "mode": "markers",
         "text": "AWS appears with Pentaho 13 times",
         "type": "scatter",
         "uid": "2445b07f-e9b6-4dc1-8daf-be5521b0304b",
         "x": [
          0.8954172447723445
         ],
         "y": [
          -0.09070809095280973
         ]
        },
        {
         "hoverinfo": "text",
         "marker": {
          "color": "green",
          "size": 0.5
         },
         "mode": "markers",
         "text": "Hadoop appears with Spark 130 times",
         "type": "scatter",
         "uid": "66b3bbad-7b65-49d8-bf85-1408bc6f30b8",
         "x": [
          -0.8990819635224526
         ],
         "y": [
          -0.04064016324538179
         ]
        },
        {
         "hoverinfo": "text",
         "marker": {
          "color": "blue",
          "size": 0.5
         },
         "mode": "markers",
         "text": "Spark appears with Hadoop 130 times",
         "type": "scatter",
         "uid": "88360fd9-b1a6-4703-9d89-430a82b02f24",
         "x": [
          -0.8773304253943746
         ],
         "y": [
          -0.20072699040568923
         ]
        },
        {
         "hoverinfo": "text",
         "marker": {
          "color": "green",
          "size": 0.5
         },
         "mode": "markers",
         "text": "Hadoop appears with Informatica 5 times",
         "type": "scatter",
         "uid": "05061429-1090-4f3c-8bb3-eb6e2a10ec35",
         "x": [
          -0.898783942581867
         ],
         "y": [
          0.04676991080807533
         ]
        },
        {
         "hoverinfo": "text",
         "marker": {
          "color": "blue",
          "size": 0.5
         },
         "mode": "markers",
         "text": "Informatica appears with Hadoop 5 times",
         "type": "scatter",
         "uid": "76e6c3b6-dcba-4968-9ef2-b7d55b0e8092",
         "x": [
          -0.8596008410915914
         ],
         "y": [
          -0.2666203180453971
         ]
        },
        {
         "hoverinfo": "text",
         "marker": {
          "color": "green",
          "size": 0.5
         },
         "mode": "markers",
         "text": "Hadoop appears with Qlik 9 times",
         "type": "scatter",
         "uid": "b6a5e6d8-d1b3-4c43-b676-9df6273a5464",
         "x": [
          -0.8989646547529345
         ],
         "y": [
          0.04315726479907263
         ]
        },
        {
         "hoverinfo": "text",
         "marker": {
          "color": "blue",
          "size": 0.5
         },
         "mode": "markers",
         "text": "Qlik appears with Hadoop 9 times",
         "type": "scatter",
         "uid": "cec07bd3-77db-4151-99c0-cdb64966d11b",
         "x": [
          -0.797858903757475
         ],
         "y": [
          -0.4164386745907736
         ]
        },
        {
         "hoverinfo": "text",
         "marker": {
          "color": "green",
          "size": 0.5
         },
         "mode": "markers",
         "text": "Hadoop appears with Tableau 38 times",
         "type": "scatter",
         "uid": "bc4a2d01-19e8-4e05-a0d9-b8b4b239b492",
         "x": [
          -0.8998888293612808
         ],
         "y": [
          0.014145486587023625
         ]
        },
        {
         "hoverinfo": "text",
         "marker": {
          "color": "blue",
          "size": 0.5
         },
         "mode": "markers",
         "text": "Tableau appears with Hadoop 38 times",
         "type": "scatter",
         "uid": "5d295d50-ae17-4e68-9925-20e7136b9b43",
         "x": [
          -0.521149016139861
         ],
         "y": [
          -0.7337599764067642
         ]
        },
        {
         "hoverinfo": "text",
         "marker": {
          "color": "green",
          "size": 0.5
         },
         "mode": "markers",
         "text": "Hadoop appears with Microstrategy 3 times",
         "type": "scatter",
         "uid": "6d48956a-f536-4d33-883f-a9d97b861379",
         "x": [
          -0.8986881420591157
         ],
         "y": [
          0.04857595415773847
         ]
        },
        {
         "hoverinfo": "text",
         "marker": {
          "color": "blue",
          "size": 0.5
         },
         "mode": "markers",
         "text": "Microstrategy appears with Hadoop 3 times",
         "type": "scatter",
         "uid": "eed494ef-ee8b-452c-9586-e354fe06bc56",
         "x": [
          -0.08081555877725402
         ],
         "y": [
          -0.8963642370484892
         ]
        },
        {
         "hoverinfo": "text",
         "marker": {
          "color": "green",
          "size": 0.5
         },
         "mode": "markers",
         "text": "Hadoop appears with Oracle BI 35 times",
         "type": "scatter",
         "uid": "90d4d68f-58d3-4deb-ba86-d689dd69371d",
         "x": [
          -0.899760869235666
         ],
         "y": [
          0.020745558374718236
         ]
        },
        {
         "hoverinfo": "text",
         "marker": {
          "color": "blue",
          "size": 0.5
         },
         "mode": "markers",
         "text": "Oracle BI appears with Hadoop 35 times",
         "type": "scatter",
         "uid": "ce68c90d-7fb3-486d-960e-88b6210ecd1f",
         "x": [
          0.006666716770464856
         ],
         "y": [
          -0.8999753079321134
         ]
        },
        {
         "hoverinfo": "text",
         "marker": {
          "color": "green",
          "size": 0.5
         },
         "mode": "markers",
         "text": "Hadoop appears with Python 142 times",
         "type": "scatter",
         "uid": "a38c5fb2-e8ff-4c5f-8c2c-4d80cbb3a500",
         "x": [
          -0.8976356718026728
         ],
         "y": [
          -0.0651935633890673
         ]
        },
        {
         "hoverinfo": "text",
         "marker": {
          "color": "blue",
          "size": 0.5
         },
         "mode": "markers",
         "text": "Python appears with Hadoop 142 times",
         "type": "scatter",
         "uid": "3b8c7131-3e5f-409e-a2df-eb17240df699",
         "x": [
          0.7074678112885873
         ],
         "y": [
          -0.5563176214992078
         ]
        },
        {
         "hoverinfo": "text",
         "marker": {
          "color": "green",
          "size": 0.5
         },
         "mode": "markers",
         "text": "Hadoop appears with VBA 7 times",
         "type": "scatter",
         "uid": "27514e63-d05e-4f1d-936e-c2985248377d",
         "x": [
          -0.8988941122351765
         ],
         "y": [
          0.04460241012472438
         ]
        },
        {
         "hoverinfo": "text",
         "marker": {
          "color": "blue",
          "size": 0.5
         },
         "mode": "markers",
         "text": "VBA appears with Hadoop 7 times",
         "type": "scatter",
         "uid": "7c524baa-62a3-4b96-bc47-954a969dd302",
         "x": [
          0.8186798993525239
         ],
         "y": [
          -0.37384919739935424
         ]
        },
        {
         "hoverinfo": "text",
         "marker": {
          "color": "green",
          "size": 0.5
         },
         "mode": "markers",
         "text": "Hadoop appears with Linux 89 times",
         "type": "scatter",
         "uid": "02065c2e-a64a-4918-8364-b9eefc6388ed",
         "x": [
          -0.8997584981529186
         ],
         "y": [
          -0.02084814144244759
         ]
        },
        {
         "hoverinfo": "text",
         "marker": {
          "color": "blue",
          "size": 0.5
         },
         "mode": "markers",
         "text": "Linux appears with Hadoop 89 times",
         "type": "scatter",
         "uid": "cedfd90b-f505-41d2-bee6-d2b7a79a95cd",
         "x": [
          0.8874217194773499
         ],
         "y": [
          -0.1499422948999503
         ]
        },
        {
         "hoverinfo": "text",
         "marker": {
          "color": "green",
          "size": 0.5
         },
         "mode": "markers",
         "text": "Hadoop appears with AWS 48 times",
         "type": "scatter",
         "uid": "6ce87e94-066d-466d-8e32-c00700cfff71",
         "x": [
          -0.8999774632927849
         ],
         "y": [
          0.006369110227026148
         ]
        },
        {
         "hoverinfo": "text",
         "marker": {
          "color": "blue",
          "size": 0.5
         },
         "mode": "markers",
         "text": "AWS appears with Hadoop 48 times",
         "type": "scatter",
         "uid": "73b3b2c7-230c-4ae7-b893-9ccce2f57945",
         "x": [
          0.8978456651702746
         ],
         "y": [
          -0.06223472933135577
         ]
        },
        {
         "hoverinfo": "text",
         "marker": {
          "color": "green",
          "size": 0.5
         },
         "mode": "markers",
         "text": "Spark appears with Informatica 12 times",
         "type": "scatter",
         "uid": "b5da8d78-12ce-4a17-b2b7-1d6dbfee2cfa",
         "x": [
          -0.8930353447903722
         ],
         "y": [
          -0.11174915192135021
         ]
        },
        {
         "hoverinfo": "text",
         "marker": {
          "color": "blue",
          "size": 0.5
         },
         "mode": "markers",
         "text": "Informatica appears with Spark 12 times",
         "type": "scatter",
         "uid": "de2f3364-2cda-49d7-b319-a53722ab657d",
         "x": [
          -0.8572745208518137
         ],
         "y": [
          -0.27400802159479426
         ]
        },
        {
         "hoverinfo": "text",
         "marker": {
          "color": "green",
          "size": 0.5
         },
         "mode": "markers",
         "text": "Spark appears with Qlik 16 times",
         "type": "scatter",
         "uid": "fc741b17-41a9-432b-b87c-5cf5760d8c74",
         "x": [
          -0.8927136532033403
         ],
         "y": [
          -0.114290565596406
         ]
        },
        {
         "hoverinfo": "text",
         "marker": {
          "color": "blue",
          "size": 0.5
         },
         "mode": "markers",
         "text": "Qlik appears with Spark 16 times",
         "type": "scatter",
         "uid": "a36cac76-2874-47ec-b8b6-65e6a174b116",
         "x": [
          -0.7953247688028832
         ],
         "y": [
          -0.42125824873661577
         ]
        },
        {
         "hoverinfo": "text",
         "marker": {
          "color": "green",
          "size": 0.5
         },
         "mode": "markers",
         "text": "Spark appears with Tableau 36 times",
         "type": "scatter",
         "uid": "59f58021-ae8f-45a5-84a8-45689c3aee0d",
         "x": [
          -0.888698323955506
         ],
         "y": [
          -0.1421804803715145
         ]
        },
        {
         "hoverinfo": "text",
         "marker": {
          "color": "blue",
          "size": 0.5
         },
         "mode": "markers",
         "text": "Tableau appears with Spark 36 times",
         "type": "scatter",
         "uid": "dd402666-1571-4270-afbf-544ecb93bd8e",
         "x": [
          -0.5274240606203896
         ],
         "y": [
          -0.7292625455065546
         ]
        },
        {
         "hoverinfo": "text",
         "marker": {
          "color": "green",
          "size": 0.5
         },
         "mode": "markers",
         "text": "Spark appears with Microstrategy 3 times",
         "type": "scatter",
         "uid": "2921168a-484b-44c0-bca5-57f6f9ee80f6",
         "x": [
          -0.8936895074185104
         ],
         "y": [
          -0.10639109140365285
         ]
        },
        {
         "hoverinfo": "text",
         "marker": {
          "color": "blue",
          "size": 0.5
         },
         "mode": "markers",
         "text": "Microstrategy appears with Spark 3 times",
         "type": "scatter",
         "uid": "7f42659c-0498-4ea5-abf2-568f2cdad255",
         "x": [
          -0.08165697175335504
         ],
         "y": [
          -0.8962879776969408
         ]
        },
        {
         "hoverinfo": "text",
         "marker": {
          "color": "green",
          "size": 0.5
         },
         "mode": "markers",
         "text": "Spark appears with Oracle BI 32 times",
         "type": "scatter",
         "uid": "97af67b6-262e-4a57-b58d-07ef21c7674f",
         "x": [
          -0.889659907438074
         ],
         "y": [
          -0.13603399978416308
         ]
        },
        {
         "hoverinfo": "text",
         "marker": {
          "color": "blue",
          "size": 0.5
         },
         "mode": "markers",
         "text": "Oracle BI appears with Spark 32 times",
         "type": "scatter",
         "uid": "bd3f0662-9f10-4789-bfc1-e61d082e2895",
         "x": [
          -0.00040936646068771176
         ],
         "y": [
          -0.8999999068994957
         ]
        },
        {
         "hoverinfo": "text",
         "marker": {
          "color": "green",
          "size": 0.5
         },
         "mode": "markers",
         "text": "Spark appears with Python 151 times",
         "type": "scatter",
         "uid": "54240a95-179f-4db9-82f2-10d3528714bf",
         "x": [
          -0.8712395491958171
         ],
         "y": [
          -0.22570256515394174
         ]
        },
        {
         "hoverinfo": "text",
         "marker": {
          "color": "blue",
          "size": 0.5
         },
         "mode": "markers",
         "text": "Python appears with Spark 151 times",
         "type": "scatter",
         "uid": "58b64ab0-13b3-4124-bfa8-7b5ef6a9e0e1",
         "x": [
          0.7256662243243454
         ],
         "y": [
          -0.5323612785269501
         ]
        },
        {
         "hoverinfo": "text",
         "marker": {
          "color": "green",
          "size": 0.5
         },
         "mode": "markers",
         "text": "Spark appears with VBA 9 times",
         "type": "scatter",
         "uid": "3a657538-1099-4c26-94f9-aaa66ff0581a",
         "x": [
          -0.8932718656618527
         ],
         "y": [
          -0.10984249640732387
         ]
        },
        {
         "hoverinfo": "text",
         "marker": {
          "color": "blue",
          "size": 0.5
         },
         "mode": "markers",
         "text": "VBA appears with Spark 9 times",
         "type": "scatter",
         "uid": "8b775674-bd45-49c8-969a-cce33a71baf1",
         "x": [
          0.8198072635612726
         ],
         "y": [
          -0.3713705031530884
         ]
        },
        {
         "hoverinfo": "text",
         "marker": {
          "color": "green",
          "size": 0.5
         },
         "mode": "markers",
         "text": "Spark appears with Linux 69 times",
         "type": "scatter",
         "uid": "9135963b-cd6e-4eab-b2b5-d8f3ada1b4aa",
         "x": [
          -0.884206775404763
         ],
         "y": [
          -0.16786416630213577
         ]
        },
        {
         "hoverinfo": "text",
         "marker": {
          "color": "blue",
          "size": 0.5
         },
         "mode": "markers",
         "text": "Linux appears with Spark 69 times",
         "type": "scatter",
         "uid": "9348b4ca-91f8-48c5-937c-74764b9032bf",
         "x": [
          0.8826482775194593
         ],
         "y": [
          -0.17587500729760208
         ]
        },
        {
         "hoverinfo": "text",
         "marker": {
          "color": "green",
          "size": 0.5
         },
         "mode": "markers",
         "text": "Spark appears with AWS 49 times",
         "type": "scatter",
         "uid": "4eaf7b1c-3458-488a-bb50-13f4a36df9d8",
         "x": [
          -0.8861566850785756
         ],
         "y": [
          -0.1572460794123344
         ]
        },
        {
         "hoverinfo": "text",
         "marker": {
          "color": "blue",
          "size": 0.5
         },
         "mode": "markers",
         "text": "AWS appears with Spark 49 times",
         "type": "scatter",
         "uid": "33c56366-e016-4b6a-a672-87e71a12041d",
         "x": [
          0.8983414020527568
         ],
         "y": [
          -0.05461433289794113
         ]
        },
        {
         "hoverinfo": "text",
         "marker": {
          "color": "green",
          "size": 0.5
         },
         "mode": "markers",
         "text": "Informatica appears with Qlik 93 times",
         "type": "scatter",
         "uid": "6923faee-fb7e-4b32-9a84-28b412c9935d",
         "x": [
          -0.833020669364679
         ],
         "y": [
          -0.34070010920341964
         ]
        },
        {
         "hoverinfo": "text",
         "marker": {
          "color": "blue",
          "size": 0.5
         },
         "mode": "markers",
         "text": "Qlik appears with Informatica 93 times",
         "type": "scatter",
         "uid": "3f969481-96c7-4f32-a183-e9a44b83cb8f",
         "x": [
          -0.7463806201399736
         ],
         "y": [
          -0.5029075162288474
         ]
        },
        {
         "hoverinfo": "text",
         "marker": {
          "color": "green",
          "size": 0.5
         },
         "mode": "markers",
         "text": "Informatica appears with Tableau 69 times",
         "type": "scatter",
         "uid": "e5dc712c-ce0b-4bc0-a961-41a8a066f166",
         "x": [
          -0.8429832323968027
         ],
         "y": [
          -0.31524477774871734
         ]
        },
        {
         "hoverinfo": "text",
         "marker": {
          "color": "blue",
          "size": 0.5
         },
         "mode": "markers",
         "text": "Tableau appears with Informatica 69 times",
         "type": "scatter",
         "uid": "914c9f41-5615-4011-9377-c44bd8e33d9d",
         "x": [
          -0.4762646896260839
         ],
         "y": [
          -0.7636569553244245
         ]
        },
        {
         "hoverinfo": "text",
         "marker": {
          "color": "green",
          "size": 0.5
         },
         "mode": "markers",
         "text": "Informatica appears with Microstrategy 14 times",
         "type": "scatter",
         "uid": "71696c4a-d51d-4a49-9854-3ba296e557b0",
         "x": [
          -0.8565502517999105
         ],
         "y": [
          -0.2762637619042896
         ]
        },
        {
         "hoverinfo": "text",
         "marker": {
          "color": "blue",
          "size": 0.5
         },
         "mode": "markers",
         "text": "Microstrategy appears with Informatica 14 times",
         "type": "scatter",
         "uid": "049d9c02-e964-4a48-b3bf-39d7337ef73f",
         "x": [
          -0.07583576631770386
         ],
         "y": [
          -0.8967992732752444
         ]
        },
        {
         "hoverinfo": "text",
         "marker": {
          "color": "green",
          "size": 0.5
         },
         "mode": "markers",
         "text": "Informatica appears with Oracle BI 130 times",
         "type": "scatter",
         "uid": "78c6a444-941b-4641-9c06-7004f4b1e637",
         "x": [
          -0.816447417320103
         ],
         "y": [
          -0.37869990064869796
         ]
        },
        {
         "hoverinfo": "text",
         "marker": {
          "color": "blue",
          "size": 0.5
         },
         "mode": "markers",
         "text": "Oracle BI appears with Informatica 130 times",
         "type": "scatter",
         "uid": "6889b302-f239-4e92-9878-bfb9138c822e",
         "x": [
          0.11167545022586779
         ],
         "y": [
          -0.8930445642950018
         ]
        },
        {
         "hoverinfo": "text",
         "marker": {
          "color": "green",
          "size": 0.5
         },
         "mode": "markers",
         "text": "Informatica appears with Python 27 times",
         "type": "scatter",
         "uid": "d25a4fc0-1baf-4fb6-a457-779d1543b3c7",
         "x": [
          -0.8534493506795706
         ],
         "y": [
          -0.28569950266778454
         ]
        },
        {
         "hoverinfo": "text",
         "marker": {
          "color": "blue",
          "size": 0.5
         },
         "mode": "markers",
         "text": "Python appears with Informatica 27 times",
         "type": "scatter",
         "uid": "806a0957-a17e-42d6-b5e3-853f388071a0",
         "x": [
          0.5868982415279017
         ],
         "y": [
          -0.6823125779959336
         ]
        },
        {
         "hoverinfo": "text",
         "marker": {
          "color": "green",
          "size": 0.5
         },
         "mode": "markers",
         "text": "Informatica appears with VBA 5 times",
         "type": "scatter",
         "uid": "8f55e127-697c-42d6-b67b-e04c3778923d",
         "x": [
          -0.8593304574001356
         ],
         "y": [
          -0.2674904951292175
         ]
        },
        {
         "hoverinfo": "text",
         "marker": {
          "color": "blue",
          "size": 0.5
         },
         "mode": "markers",
         "text": "VBA appears with Informatica 5 times",
         "type": "scatter",
         "uid": "708f607c-0091-448a-8e69-da5ee4fb9971",
         "x": [
          0.8173171706961585
         ],
         "y": [
          -0.37681911109340854
         ]
        },
        {
         "hoverinfo": "text",
         "marker": {
          "color": "green",
          "size": 0.5
         },
         "mode": "markers",
         "text": "Informatica appears with Linux 9 times",
         "type": "scatter",
         "uid": "7cdb937b-ef0d-43f6-bcac-f5f35efccad8",
         "x": [
          -0.8585140221397094
         ],
         "y": [
          -0.2700993776177551
         ]
        },
        {
         "hoverinfo": "text",
         "marker": {
          "color": "blue",
          "size": 0.5
         },
         "mode": "markers",
         "text": "Linux appears with Informatica 9 times",
         "type": "scatter",
         "uid": "f0d0c623-32e1-4c55-9210-c8f449133595",
         "x": [
          0.8712287353909357
         ],
         "y": [
          -0.22574430364709305
         ]
        },
        {
         "hoverinfo": "text",
         "marker": {
          "color": "green",
          "size": 0.5
         },
         "mode": "markers",
         "text": "Informatica appears with AWS 19 times",
         "type": "scatter",
         "uid": "f81ecb00-386a-424c-b74f-74127d9c7132",
         "x": [
          -0.8547706864863693
         ],
         "y": [
          -0.28172162416758306
         ]
        },
        {
         "hoverinfo": "text",
         "marker": {
          "color": "blue",
          "size": 0.5
         },
         "mode": "markers",
         "text": "AWS appears with Informatica 19 times",
         "type": "scatter",
         "uid": "dfe02775-4aca-4c64-9a5a-3b7a155a1689",
         "x": [
          0.8956676451961899
         ],
         "y": [
          -0.08820130015318414
         ]
        },
        {
         "hoverinfo": "text",
         "marker": {
          "color": "green",
          "size": 0.5
         },
         "mode": "markers",
         "text": "Qlik appears with Tableau 341 times",
         "type": "scatter",
         "uid": "50a3b02d-c2c2-4e37-b81a-aba1ec848bb3",
         "x": [
          -0.698574010919029
         ],
         "y": [
          -0.5674454610519855
         ]
        },
        {
         "hoverinfo": "text",
         "marker": {
          "color": "blue",
          "size": 0.5
         },
         "mode": "markers",
         "text": "Tableau appears with Qlik 341 times",
         "type": "scatter",
         "uid": "b47dbc04-acc6-488b-85c8-c9136a27ae94",
         "x": [
          -0.3128379264585424
         ],
         "y": [
          -0.8438793940896528
         ]
        },
        {
         "hoverinfo": "text",
         "marker": {
          "color": "green",
          "size": 0.5
         },
         "mode": "markers",
         "text": "Qlik appears with Microstrategy 35 times",
         "type": "scatter",
         "uid": "dbc59e10-45e4-4c89-b04e-0006dda12615",
         "x": [
          -0.7831322725756956
         ],
         "y": [
          -0.4435130704392222
         ]
        },
        {
         "hoverinfo": "text",
         "marker": {
          "color": "blue",
          "size": 0.5
         },
         "mode": "markers",
         "text": "Microstrategy appears with Qlik 35 times",
         "type": "scatter",
         "uid": "076550b8-a856-4b5d-99a3-512139cd3906",
         "x": [
          -0.05610554542343638
         ],
         "y": [
          -0.8982495019607519
         ]
        },
        {
         "hoverinfo": "text",
         "marker": {
          "color": "green",
          "size": 0.5
         },
         "mode": "markers",
         "text": "Qlik appears with Oracle BI 343 times",
         "type": "scatter",
         "uid": "32de2ae2-70b8-430c-a3d0-f0d70540f98b",
         "x": [
          -0.6521832035123664
         ],
         "y": [
          -0.6202072791062254
         ]
        },
        {
         "hoverinfo": "text",
         "marker": {
          "color": "blue",
          "size": 0.5
         },
         "mode": "markers",
         "text": "Oracle BI appears with Qlik 343 times",
         "type": "scatter",
         "uid": "6f2004cd-9f9c-410c-9c9b-66c8574bc578",
         "x": [
          0.34077259366501733
         ],
         "y": [
          -0.8329910200037075
         ]
        },
        {
         "hoverinfo": "text",
         "marker": {
          "color": "green",
          "size": 0.5
         },
         "mode": "markers",
         "text": "Qlik appears with Python 54 times",
         "type": "scatter",
         "uid": "cc40c1b0-7c1a-4d1f-8412-69f4394693bc",
         "x": [
          -0.778585923347001
         ],
         "y": [
          -0.45144651949693654
         ]
        },
        {
         "hoverinfo": "text",
         "marker": {
          "color": "blue",
          "size": 0.5
         },
         "mode": "markers",
         "text": "Python appears with Qlik 54 times",
         "type": "scatter",
         "uid": "352d9b3d-c056-465a-989d-33cac28ba587",
         "x": [
          0.6058907502613456
         ],
         "y": [
          -0.6655046196291532
         ]
        },
        {
         "hoverinfo": "text",
         "marker": {
          "color": "green",
          "size": 0.5
         },
         "mode": "markers",
         "text": "Qlik appears with VBA 31 times",
         "type": "scatter",
         "uid": "32926d45-02a0-47dc-8a33-e27ad9dcb403",
         "x": [
          -0.7896276084999562
         ],
         "y": [
          -0.43184284166191744
         ]
        },
        {
         "hoverinfo": "text",
         "marker": {
          "color": "blue",
          "size": 0.5
         },
         "mode": "markers",
         "text": "VBA appears with Qlik 31 times",
         "type": "scatter",
         "uid": "8c70c619-af8f-4267-ba3f-1b19c704dc54",
         "x": [
          0.8232910275046079
         ],
         "y": [
          -0.363582018299045
         ]
        },
        {
         "hoverinfo": "text",
         "marker": {
          "color": "green",
          "size": 0.5
         },
         "mode": "markers",
         "text": "Qlik appears with Linux 2 times",
         "type": "scatter",
         "uid": "806c2d69-d386-48e5-b614-1b7eeb15f56d",
         "x": [
          -0.7986655575882066
         ],
         "y": [
          -0.41488953604823453
         ]
        },
        {
         "hoverinfo": "text",
         "marker": {
          "color": "blue",
          "size": 0.5
         },
         "mode": "markers",
         "text": "Linux appears with Qlik 2 times",
         "type": "scatter",
         "uid": "a8685c09-55c7-4a79-b6b9-0c527a82a9c2",
         "x": [
          0.8702348853917554
         ],
         "y": [
          -0.2295457345436815
         ]
        },
        {
         "hoverinfo": "text",
         "marker": {
          "color": "green",
          "size": 0.5
         },
         "mode": "markers",
         "text": "Qlik appears with AWS 3 times",
         "type": "scatter",
         "uid": "f2d70140-6e7a-4d75-9a44-47dce242c7c7",
         "x": [
          -0.7984286185576325
         ],
         "y": [
          -0.4153453274904518
         ]
        },
        {
         "hoverinfo": "text",
         "marker": {
          "color": "blue",
          "size": 0.5
         },
         "mode": "markers",
         "text": "AWS appears with Qlik 3 times",
         "type": "scatter",
         "uid": "3ccd403d-eeba-4aee-a691-b44007271a61",
         "x": [
          0.8947435743806463
         ],
         "y": [
          -0.09712845157081929
         ]
        },
        {
         "hoverinfo": "text",
         "marker": {
          "color": "green",
          "size": 0.5
         },
         "mode": "markers",
         "text": "Tableau appears with Microstrategy 50 times",
         "type": "scatter",
         "uid": "9bf5c2b2-fea2-4023-974e-9eca6adbe2dd",
         "x": [
          -0.498626893732691
         ],
         "y": [
          -0.7492471026613902
         ]
        },
        {
         "hoverinfo": "text",
         "marker": {
          "color": "blue",
          "size": 0.5
         },
         "mode": "markers",
         "text": "Microstrategy appears with Tableau 50 times",
         "type": "scatter",
         "uid": "483e0333-217c-483c-bfea-eecf26942080",
         "x": [
          -0.04478821348971915
         ],
         "y": [
          -0.8988848735696909
         ]
        },
        {
         "hoverinfo": "text",
         "marker": {
          "color": "green",
          "size": 0.5
         },
         "mode": "markers",
         "text": "Tableau appears with Oracle BI 407 times",
         "type": "scatter",
         "uid": "ad1ceb45-cb29-470a-b62f-d6a84e173e53",
         "x": [
          -0.2385825546499837
         ],
         "y": [
          -0.8678008784373795
         ]
        },
        {
         "hoverinfo": "text",
         "marker": {
          "color": "blue",
          "size": 0.5
         },
         "mode": "markers",
         "text": "Oracle BI appears with Tableau 407 times",
         "type": "scatter",
         "uid": "82a8b212-b15e-4264-86b1-f215158a0173",
         "x": [
          0.41267200284703454
         ],
         "y": [
          -0.7998136145791825
         ]
        },
        {
         "hoverinfo": "text",
         "marker": {
          "color": "green",
          "size": 0.5
         },
         "mode": "markers",
         "text": "Tableau appears with Python 132 times",
         "type": "scatter",
         "uid": "80e3f57c-8756-4c75-9260-6825111f080a",
         "x": [
          -0.4221338943189176
         ],
         "y": [
          -0.7948603495376688
         ]
        },
        {
         "hoverinfo": "text",
         "marker": {
          "color": "blue",
          "size": 0.5
         },
         "mode": "markers",
         "text": "Python appears with Tableau 132 times",
         "type": "scatter",
         "uid": "0aab7494-cb7d-474d-8591-0ccc0dc2c9e8",
         "x": [
          0.6897338013123959
         ],
         "y": [
          -0.578158527851274
         ]
        },
        {
         "hoverinfo": "text",
         "marker": {
          "color": "green",
          "size": 0.5
         },
         "mode": "markers",
         "text": "Tableau appears with VBA 68 times",
         "type": "scatter",
         "uid": "cb868674-b63c-4590-b312-f6a24ec81e39",
         "x": [
          -0.4883318729849887
         ],
         "y": [
          -0.7559973424734857
         ]
        },
        {
         "hoverinfo": "text",
         "marker": {
          "color": "blue",
          "size": 0.5
         },
         "mode": "markers",
         "text": "VBA appears with Tableau 68 times",
         "type": "scatter",
         "uid": "e1575aa9-f536-46eb-b946-999f6b68c2ae",
         "x": [
          0.8363155593358513
         ],
         "y": [
          -0.3325301267746461
         ]
        },
        {
         "hoverinfo": "text",
         "marker": {
          "color": "green",
          "size": 0.5
         },
         "mode": "markers",
         "text": "Tableau appears with Linux 18 times",
         "type": "scatter",
         "uid": "2fd5fec8-5ec9-4e8e-b211-04894c54c094",
         "x": [
          -0.5408584427749714
         ],
         "y": [
          -0.7193553675889497
         ]
        },
        {
         "hoverinfo": "text",
         "marker": {
          "color": "blue",
          "size": 0.5
         },
         "mode": "markers",
         "text": "Linux appears with Tableau 18 times",
         "type": "scatter",
         "uid": "711b784a-1e3f-46aa-8c53-cca4c200b4d3",
         "x": [
          0.8725922237392337
         ],
         "y": [
          -0.22041508811744057
         ]
        },
        {
         "hoverinfo": "text",
         "marker": {
          "color": "green",
          "size": 0.5
         },
         "mode": "markers",
         "text": "Tableau appears with AWS 33 times",
         "type": "scatter",
         "uid": "1e4f429f-b176-4592-a53c-fa4fa170ba21",
         "x": [
          -0.5332401597995492
         ],
         "y": [
          -0.7250206424488556
         ]
        },
        {
         "hoverinfo": "text",
         "marker": {
          "color": "blue",
          "size": 0.5
         },
         "mode": "markers",
         "text": "AWS appears with Tableau 33 times",
         "type": "scatter",
         "uid": "8df79f3c-c828-4abd-8284-81453265566f",
         "x": [
          0.8968143408471105
         ],
         "y": [
          -0.07565737274689524
         ]
        },
        {
         "hoverinfo": "text",
         "marker": {
          "color": "green",
          "size": 0.5
         },
         "mode": "markers",
         "text": "Microstrategy appears with Oracle BI 61 times",
         "type": "scatter",
         "uid": "e8a7dd17-c4c6-4969-a179-a14cc71354d3",
         "x": [
          -0.0369813350820518
         ],
         "y": [
          -0.8992398906051428
         ]
        },
        {
         "hoverinfo": "text",
         "marker": {
          "color": "blue",
          "size": 0.5
         },
         "mode": "markers",
         "text": "Oracle BI appears with Microstrategy 61 times",
         "type": "scatter",
         "uid": "9ca1d8c5-5953-4f2f-b609-5c697a7ab8a0",
         "x": [
          0.044036576297614406
         ],
         "y": [
          -0.8989220099363373
         ]
        },
        {
         "hoverinfo": "text",
         "marker": {
          "color": "green",
          "size": 0.5
         },
         "mode": "markers",
         "text": "Microstrategy appears with Python 19 times",
         "type": "scatter",
         "uid": "d4ef48cc-3267-4cd7-8dfd-742220ca65d1",
         "x": [
          -0.07085363441001168
         ],
         "y": [
          -0.8972066442525336
         ]
        },
        {
         "hoverinfo": "text",
         "marker": {
          "color": "blue",
          "size": 0.5
         },
         "mode": "markers",
         "text": "Python appears with Microstrategy 19 times",
         "type": "scatter",
         "uid": "9cee058f-516e-4d45-8eef-5d5fd41eb45e",
         "x": [
          0.57923275949732
         ],
         "y": [
          -0.6888319173246257
         ]
        },
        {
         "hoverinfo": "text",
         "marker": {
          "color": "green",
          "size": 0.5
         },
         "mode": "markers",
         "text": "Microstrategy appears with VBA 7 times",
         "type": "scatter",
         "uid": "ce63a372-61e9-4a8d-88e8-9d39c997f68f",
         "x": [
          -0.07913251991680435
         ],
         "y": [
          -0.8965143859925598
         ]
        },
        {
         "hoverinfo": "text",
         "marker": {
          "color": "blue",
          "size": 0.5
         },
         "mode": "markers",
         "text": "VBA appears with Microstrategy 7 times",
         "type": "scatter",
         "uid": "ef9eb537-9223-4a48-a9a8-f2b4da9c4dee",
         "x": [
          0.8181512306975515
         ],
         "y": [
          -0.37500475158067265
         ]
        },
        {
         "hoverinfo": "text",
         "marker": {
          "color": "green",
          "size": 0.5
         },
         "mode": "markers",
         "text": "Microstrategy appears with Linux 7 times",
         "type": "scatter",
         "uid": "836dd92f-28e9-46f6-ba0c-872b14cc5dc8",
         "x": [
          -0.08011432686413612
         ],
         "y": [
          -0.8964271831170151
         ]
        },
        {
         "hoverinfo": "text",
         "marker": {
          "color": "blue",
          "size": 0.5
         },
         "mode": "markers",
         "text": "Linux appears with Microstrategy 7 times",
         "type": "scatter",
         "uid": "e467fcdc-f081-4e53-af36-c47a35d6cd90",
         "x": [
          0.8708772680012518
         ],
         "y": [
          -0.22709642022426513
         ]
        },
        {
         "hoverinfo": "text",
         "marker": {
          "color": "green",
          "size": 0.5
         },
         "mode": "markers",
         "text": "Microstrategy appears with AWS 2 times",
         "type": "scatter",
         "uid": "f86b15f2-ccd2-4d7a-b775-0d51b99ba49b",
         "x": [
          -0.08200753929832244
         ],
         "y": [
          -0.8962559698536094
         ]
        },
        {
         "hoverinfo": "text",
         "marker": {
          "color": "blue",
          "size": 0.5
         },
         "mode": "markers",
         "text": "AWS appears with Microstrategy 2 times",
         "type": "scatter",
         "uid": "3a8804da-bc3c-4795-9d4f-538923942723",
         "x": [
          0.8946668307120347
         ],
         "y": [
          -0.09783282692268219
         ]
        },
        {
         "hoverinfo": "text",
         "marker": {
          "color": "green",
          "size": 0.5
         },
         "mode": "markers",
         "text": "Oracle BI appears with Python 154 times",
         "type": "scatter",
         "uid": "1eac2e18-973d-494f-8091-9bb04d28d4ad",
         "x": [
          0.16966411921007715
         ],
         "y": [
          -0.8838631605925595
         ]
        },
        {
         "hoverinfo": "text",
         "marker": {
          "color": "blue",
          "size": 0.5
         },
         "mode": "markers",
         "text": "Python appears with Oracle BI 154 times",
         "type": "scatter",
         "uid": "bfa9b30e-4656-41ee-8dfb-0b6711b128a3",
         "x": [
          0.7437483316547723
         ],
         "y": [
          -0.5067922840382861
         ]
        },
        {
         "hoverinfo": "text",
         "marker": {
          "color": "green",
          "size": 0.5
         },
         "mode": "markers",
         "text": "Oracle BI appears with VBA 74 times",
         "type": "scatter",
         "uid": "7dc50a8a-ec21-4ede-806d-371e72c22314",
         "x": [
          0.07280716711827216
         ],
         "y": [
          -0.8970502307096365
         ]
        },
        {
         "hoverinfo": "text",
         "marker": {
          "color": "blue",
          "size": 0.5
         },
         "mode": "markers",
         "text": "VBA appears with Oracle BI 74 times",
         "type": "scatter",
         "uid": "60a9c766-83fb-4403-a66e-0c2de53a52ae",
         "x": [
          0.8409918366954903
         ],
         "y": [
          -0.32051946994144637
         ]
        },
        {
         "hoverinfo": "text",
         "marker": {
          "color": "green",
          "size": 0.5
         },
         "mode": "markers",
         "text": "Oracle BI appears with Linux 3 times",
         "type": "scatter",
         "uid": "03eea762-f1a5-419b-8022-f6844381ca39",
         "x": [
          -0.004105845479013446
         ],
         "y": [
          -0.8999906344139935
         ]
        },
        {
         "hoverinfo": "text",
         "marker": {
          "color": "blue",
          "size": 0.5
         },
         "mode": "markers",
         "text": "Linux appears with Oracle BI 3 times",
         "type": "scatter",
         "uid": "9340d77b-15fa-4329-ab7a-73f92fa78a47",
         "x": [
          0.8703461326145712
         ],
         "y": [
          -0.2291235680650493
         ]
        },
        {
         "hoverinfo": "text",
         "marker": {
          "color": "green",
          "size": 0.5
         },
         "mode": "markers",
         "text": "Oracle BI appears with AWS 45 times",
         "type": "scatter",
         "uid": "72c28d83-51c0-4eb3-a2d1-d5849e59b71b",
         "x": [
          0.032851773114987895
         ],
         "y": [
          -0.8994002229281475
         ]
        },
        {
         "hoverinfo": "text",
         "marker": {
          "color": "blue",
          "size": 0.5
         },
         "mode": "markers",
         "text": "AWS appears with Oracle BI 45 times",
         "type": "scatter",
         "uid": "b6264133-8973-4926-bda3-ef95048ce8c2",
         "x": [
          0.8973096732998199
         ],
         "y": [
          -0.06953668242424493
         ]
        },
        {
         "hoverinfo": "text",
         "marker": {
          "color": "green",
          "size": 0.5
         },
         "mode": "markers",
         "text": "Python appears with VBA 64 times",
         "type": "scatter",
         "uid": "d21fe255-aa01-469f-b4c4-8743a9e715f3",
         "x": [
          0.6229955870588507
         ],
         "y": [
          -0.6495202063871439
         ]
        },
        {
         "hoverinfo": "text",
         "marker": {
          "color": "blue",
          "size": 0.5
         },
         "mode": "markers",
         "text": "VBA appears with Python 64 times",
         "type": "scatter",
         "uid": "895be658-3668-40d6-a96d-03be69e7994c",
         "x": [
          0.8318147490773767
         ],
         "y": [
          -0.3436338505114721
         ]
        },
        {
         "hoverinfo": "text",
         "marker": {
          "color": "green",
          "size": 0.5
         },
         "mode": "markers",
         "text": "Python appears with Linux 94 times",
         "type": "scatter",
         "uid": "80f64888-d9f7-441b-85b4-960dc7f9784b",
         "x": [
          0.6588747629161185
         ],
         "y": [
          -0.6130938319639406
         ]
        },
        {
         "hoverinfo": "text",
         "marker": {
          "color": "blue",
          "size": 0.5
         },
         "mode": "markers",
         "text": "Linux appears with Python 94 times",
         "type": "scatter",
         "uid": "580e3297-d484-49ac-a279-de80c197bd9b",
         "x": [
          0.8899438230534079
         ],
         "y": [
          -0.13416404812424482
         ]
        },
        {
         "hoverinfo": "text",
         "marker": {
          "color": "green",
          "size": 0.5
         },
         "mode": "markers",
         "text": "Python appears with AWS 91 times",
         "type": "scatter",
         "uid": "9e4a4ec1-17e1-4edb-a16b-bae8abb1f340",
         "x": [
          0.6457883653566273
         ],
         "y": [
          -0.6268631327251709
         ]
        },
        {
         "hoverinfo": "text",
         "marker": {
          "color": "blue",
          "size": 0.5
         },
         "mode": "markers",
         "text": "AWS appears with Python 91 times",
         "type": "scatter",
         "uid": "41a7552d-c514-40b0-a6a7-9463df9bb46c",
         "x": [
          0.8993023750462407
         ],
         "y": [
          -0.03542934145860697
         ]
        },
        {
         "hoverinfo": "text",
         "marker": {
          "color": "green",
          "size": 0.5
         },
         "mode": "markers",
         "text": "VBA appears with Linux 1 times",
         "type": "scatter",
         "uid": "50afc606-6e4e-4999-bb40-70d2752082c1",
         "x": [
          0.8166317650378367
         ],
         "y": [
          -0.3783022076742181
         ]
        },
        {
         "hoverinfo": "text",
         "marker": {
          "color": "blue",
          "size": 0.5
         },
         "mode": "markers",
         "text": "Linux appears with VBA 1 times",
         "type": "scatter",
         "uid": "65f8bad9-f826-4070-96b7-9fd1423c80c1",
         "x": [
          0.8701234333946348
         ],
         "y": [
          -0.22996784700808173
         ]
        },
        {
         "hoverinfo": "text",
         "marker": {
          "color": "green",
          "size": 0.5
         },
         "mode": "markers",
         "text": "VBA appears with AWS 5 times",
         "type": "scatter",
         "uid": "748bfd31-6641-4093-9788-40fb644cc870",
         "x": [
          0.8169367221576572
         ],
         "y": [
          -0.37764320726090506
         ]
        },
        {
         "hoverinfo": "text",
         "marker": {
          "color": "blue",
          "size": 0.5
         },
         "mode": "markers",
         "text": "AWS appears with VBA 5 times",
         "type": "scatter",
         "uid": "1d654bdd-bb11-4b54-995d-9448e0bf3982",
         "x": [
          0.8948618511339078
         ],
         "y": [
          -0.09603263708342043
         ]
        },
        {
         "hoverinfo": "text",
         "marker": {
          "color": "green",
          "size": 0.5
         },
         "mode": "markers",
         "text": "Linux appears with AWS 23 times",
         "type": "scatter",
         "uid": "435141d3-0f1b-4283-ab36-2718aa09f0c0",
         "x": [
          0.8734620660300283
         ],
         "y": [
          -0.21694243293222884
         ]
        },
        {
         "hoverinfo": "text",
         "marker": {
          "color": "blue",
          "size": 0.5
         },
         "mode": "markers",
         "text": "AWS appears with Linux 23 times",
         "type": "scatter",
         "uid": "b2ae694b-c65d-45c7-97fb-f648f3998804",
         "x": [
          0.8959856451719113
         ],
         "y": [
          -0.0849100915431955
         ]
        }
       ],
       "layout": {
        "autosize": false,
        "font": {
         "color": "#655643",
         "family": "Fira Sans Condensed",
         "size": 12
        },
        "height": 525,
        "hidesources": true,
        "hoverdistance": 40,
        "hovermode": "closest",
        "margin": {
         "b": 10,
         "l": 280,
         "r": 280,
         "t": 80
        },
        "paper_bgcolor": "#fffaf0",
        "plot_bgcolor": "#fffaf0",
        "shapes": [
         {
          "fillcolor": "#f2e6ce",
          "layer": "below",
          "line": {
           "color": "rgb(175,175,175)",
           "width": 0.5
          },
          "path": "M 0.9729881111613122,0.23085522636219863 Q 0.183740680465161, 0.07898963439717646 0.8369739687097891, 0.5472427027400044L 0.8369739687097891, 0.5472427027400044 L 0.8501896545743852, 0.5264765438789154 L 0.8628902209788978, 0.505391399352016 M 0.8628902209788978,0.505391399352016 Q 0.18387952578326955, 0.07866587568774605 0.9614236198025665, 0.27507203290361965L 0.9614236198025665, 0.27507203290361965 L 0.9674585095588584, 0.2530297063234913 L 0.9729881111613122, 0.23085522636219863 ",
          "type": "path"
         },
         {
          "fillcolor": "#f2e6ce",
          "layer": "below",
          "line": {
           "color": "rgb(175,175,175)",
           "width": 0.5
          },
          "path": "M 0.998048149652904,0.062449107074598005 Q 0.14304721156433794, 0.13977659054243505 0.0855125064967854, 0.9963370971878128L 0.0855125064967854, 0.9963370971878128 L 0.0998247086032591, 0.9950050389582328 L 0.1141162855764771, 0.9934673992468137 M 0.1141162855764771,0.9934673992468137 Q 0.143142763266476, 0.139678736121278 0.995964368820328, 0.08974951832921259L 0.995964368820328, 0.08974951832921259 L 0.9970996986614017, 0.07610644472935203 L 0.998048149652904, 0.062449107074598005 ",
          "type": "path"
         },
         {
          "fillcolor": "#f2e6ce",
          "layer": "below",
          "line": {
           "color": "rgb(175,175,175)",
           "width": 0.5
          },
          "path": "M 0.995964368820328,0.08974951832921259 Q 0.09643794949487673, 0.17521336106936483 -0.45700123276132765, 0.8894660607660232L -0.45700123276132765, 0.8894660607660232 L -0.44410012926380005, 0.8959771622021825 L -0.4311062830424525, 0.9023011541172498 M -0.4311062830424525,0.9023011541172498 Q 0.09651321612014069, 0.17517191302873591 0.9930562473370624, 0.11764051013503454L 0.9930562473370624, 0.11764051013503454 L 0.9946080784564135, 0.10370520849620171 L 0.995964368820328, 0.08974951832921259 ",
          "type": "path"
         },
         {
          "fillcolor": "#f2e6ce",
          "layer": "below",
          "line": {
           "color": "rgb(175,175,175)",
           "width": 0.5
          },
          "path": "M 1.0,0.0 Q 0.07225308421946522, 0.1864926052710264 -0.7389745910387434, 0.6737332957477477L -0.7389745910387434, 0.6737332957477477 L -0.7386300863902967, 0.6741109667399448 L -0.7382853887238988, 0.6744884615742522 M -0.7382853887238988,0.6744884615742522 Q 0.07224546850573428, 0.18649555565853831 0.9999993905263417, 0.0011040593032647739L 0.9999993905263417, 0.0011040593032647739 L 0.9999998476315738, 0.000552029735744289 L 1.0, 0.0 ",
          "type": "path"
         },
         {
          "fillcolor": "#f2e6ce",
          "layer": "below",
          "line": {
           "color": "rgb(175,175,175)",
           "width": 0.5
          },
          "path": "M 0.9993759638248411,0.035322555530001264 Q 0.044561660105027795, 0.19497245561536117 -0.8848062035666177, 0.46595920650849804L -0.8848062035666177, 0.46595920650849804 L -0.8825605186989901, 0.4701988205363446 L -0.8802945195584942, 0.47442761179686815 M -0.8802945195584942,0.47442761179686815 Q 0.044549920891658094, 0.19497513828318475 0.9989856172082168, 0.045030396524105454L 0.9989856172082168, 0.045030396524105454 L 0.9991925803774903, 0.040176950090476886 L 0.9993759638248411, 0.035322555530001264 ",
          "type": "path"
         },
         {
          "fillcolor": "#f2e6ce",
          "layer": "below",
          "line": {
           "color": "rgb(175,175,175)",
           "width": 0.5
          },
          "path": "M 0.9999835198758718,0.00574107800522793 Q 0.026285005850490786, 0.19826522253647932 -0.9639430591316971, 0.2661085845135884L -0.9639430591316971, 0.2661085845135884 L -0.963754560624717, 0.2667904549924128 L -0.9635655797787825, 0.26747219194820715 M -0.9635655797787825,0.26747219194820715 Q 0.026228259656183008, 0.19827273739828138 0.999970135936355, 0.0077283397588131094L 0.999970135936355, 0.0077283397588131094 L 0.9999773215685903, 0.00673471220677063 L 0.9999835198758718, 0.00574107800522793 ",
          "type": "path"
         },
         {
          "fillcolor": "#f2e6ce",
          "layer": "below",
          "line": {
           "color": "rgb(175,175,175)",
           "width": 0.5
          },
          "path": "M 0.9999921012309846,0.003974603834368522 Q 0.01783801499863692, 0.19920292472980514 -0.9833763231093322, 0.1815792035117743L -0.9833763231093322, 0.1815792035117743 L -0.9832396851495301, 0.18231763915500035 L -0.9831024926846959, 0.18305597197889406 M -0.9831024926846959,0.18305597197889406 Q 0.01781166491485893, 0.19920528254281006 0.9999835198758718, 0.00574107800522793L 0.9999835198758718, 0.00574107800522793 L 0.9999882006119812, 0.004857842814663723 L 0.9999921012309846, 0.003974603834368522 ",
          "type": "path"
         },
         {
          "fillcolor": "#f2e6ce",
          "layer": "below",
          "line": {
           "color": "rgb(175,175,175)",
           "width": 0.5
          },
          "path": "M 0.9999390532470743,0.011040370978576334 Q 0.002818790117244096, 0.19998013506914863 -0.9992306245979453, 0.03921936850078057L -0.9992306245979453, 0.03921936850078057 L -0.9991414893951648, 0.04142806016713577 L -0.9990474721233322, 0.0436365494050536 M -0.9990474721233322,0.0436365494050536 Q 0.0027751061934981253, 0.19998074603724933 0.9998736221913604, 0.01589778745387323L 0.9998736221913604, 0.01589778745387323 L 0.9999092873029839, 0.01346911894812357 L 0.9999390532470743, 0.011040370978576334 ",
          "type": "path"
         },
         {
          "fillcolor": "#f2e6ce",
          "layer": "below",
          "line": {
           "color": "rgb(175,175,175)",
           "width": 0.5
          },
          "path": "M 0.9997706272398452,0.021417117183377413 Q -0.01696919622257524, 0.19927881568184747 -0.9889974562473177, -0.1479325235921259L -0.9889974562473177, -0.1479325235921259 L -0.9894145136621535, -0.1451169189125936 L -0.9898235552694132, -0.14230013855867768 M -0.9898235552694132,-0.14230013855867768 Q -0.01701802711561838, 0.19927465155682014 0.9996191031077375, 0.02759798365972512L 0.9996191031077375, 0.02759798365972512 L 0.9996996420087608, 0.02450766752580772 L 0.9997706272398452, 0.021417117183377413 ",
          "type": "path"
         },
         {
          "fillcolor": "#f2e6ce",
          "layer": "below",
          "line": {
           "color": "rgb(175,175,175)",
           "width": 0.5
          },
          "path": "M 0.999970135936355,0.0077283397588131094 Q -0.032276246877206836, 0.19737842812101225 -0.9503456074053617, -0.31119644356151327L -0.9503456074053617, -0.31119644356151327 L -0.9508171235103514, -0.3097528008582024 L -0.951286446620594, -0.30830844373121485 M -0.951286446620594,-0.30830844373121485 Q -0.032303365395589916, 0.19737399166080372 0.9999390532470743, 0.011040370978576334L 0.9999390532470743, 0.011040370978576334 L 0.9999559658468871, 0.009384368237624879 L 0.999970135936355, 0.0077283397588131094 ",
          "type": "path"
         },
         {
          "fillcolor": "#f2e6ce",
          "layer": "below",
          "line": {
           "color": "rgb(175,175,175)",
           "width": 0.5
          },
          "path": "M 0.9881459726003999,0.1535172199904941 Q -0.07764325251469541, 0.18431366020710252 -0.8001423613251437, -0.5998101379711943L -0.8001423613251437, -0.5998101379711943 L -0.8118977689783332, -0.5837996340594991 L -0.8233328619784884, -0.5675588061040999 M -0.8233328619784884,-0.5675588061040999 Q -0.07752299614539948, 0.18436427275543488 0.9815198389599676, 0.19136040794270703L 0.9815198389599676, 0.19136040794270703 L 0.9850146592949959, 0.17247063800532278 L 0.9881459726003999, 0.1535172199904941 ",
          "type": "path"
         },
         {
          "fillcolor": "#f2e6ce",
          "layer": "below",
          "line": {
           "color": "rgb(175,175,175)",
           "width": 0.5
          },
          "path": "M 0.9815198389599676,0.19136040794270703 Q -0.12644222985025425, 0.1549592285425282 -0.3843806291848003, -0.9231747028095478L -0.3843806291848003, -0.9231747028095478 L -0.40387644978076576, -0.9148135401886467 L -0.42319052756516556, -0.906040715078035 M -0.42319052756516556,-0.906040715078035 Q -0.12628577768661983, 0.15508675750716316 0.9729881111613122, 0.23085522636219863L 0.9729881111613122, 0.23085522636219863 L 0.9774534730320001, 0.2111509129927717 L 0.9815198389599676, 0.19136040794270703 ",
          "type": "path"
         },
         {
          "fillcolor": "#f2e6ce",
          "layer": "below",
          "line": {
           "color": "rgb(175,175,175)",
           "width": 0.5
          },
          "path": "M 0.9998736221913604,0.01589778745387323 Q -0.13756956080338775, 0.14517098863189917 -0.06959882906000621, -0.9975750613329686L -0.06959882906000621, -0.9975750613329686 L -0.07154965071008118, -0.9974370393580065 L -0.07350019870025838, -0.9972952024305655 M -0.07350019870025838,-0.9972952024305655 Q -0.13768629913394181, 0.14506027378575673 0.9997706272398452, 0.021417117183377413L 0.9997706272398452, 0.021417117183377413 L 0.9998259332608793, 0.018657523389018885 L 0.9998736221913604, 0.01589778745387323 ",
          "type": "path"
         },
         {
          "fillcolor": "#f2e6ce",
          "layer": "below",
          "line": {
           "color": "rgb(175,175,175)",
           "width": 0.5
          },
          "path": "M 0.9930562473370624,0.11764051013503454 Q -0.16468958693524918, 0.11347836778477652 0.24373266022586593, -0.9698424564532234L 0.24373266022586593, -0.9698424564532234 L 0.22502383136255458, -0.9743532600237537 L 0.20623166095696402, -0.9785031946902022 M 0.20623166095696402,-0.9785031946902022 Q -0.16456026709980587, 0.11366581936554435 0.9881459726003999, 0.1535172199904941L 0.9881459726003999, 0.1535172199904941 L 0.9907635155014517, 0.13560109273602713 L 0.9930562473370624, 0.11764051013503454 ",
          "type": "path"
         },
         {
          "fillcolor": "#f2e6ce",
          "layer": "below",
          "line": {
           "color": "rgb(175,175,175)",
           "width": 0.5
          },
          "path": "M 0.9989856172082168,0.045030396524105454 Q -0.18661458759079483, 0.07193744295092487 0.7102726040393549, -0.7039267205832961L 0.7102726040393549, -0.7039267205832961 L 0.703899152437822, -0.7102999248186049 L 0.6974685170422555, -0.7166154252699818 M 0.6974685170422555,-0.7166154252699818 Q -0.1865936309898691, 0.07199178337849788 0.998048149652904, 0.062449107074598005L 0.998048149652904, 0.062449107074598005 L 0.9985548654756982, 0.05374179597678369 L 0.9989856172082168, 0.045030396524105454 ",
          "type": "path"
         },
         {
          "fillcolor": "#f2e6ce",
          "layer": "below",
          "line": {
           "color": "rgb(175,175,175)",
           "width": 0.5
          },
          "path": "M 0.9996191031077375,0.02759798365972512 Q -0.19643709425604, 0.037582815225095365 0.9188352781836203, -0.39464126946535766L 0.9188352781836203, -0.39464126946535766 L 0.9174365319419735, -0.3978821557424814 L 0.9160263545925981, -0.4011180844736319 M 0.9160263545925981,-0.4011180844736319 Q -0.19644964936710074, 0.03751713293341034 0.9993759638248411, 0.035322555530001264L 0.9993759638248411, 0.035322555530001264 L 0.9995049958143485, 0.03146050448036705 L 0.9996191031077375, 0.02759798365972512 ",
          "type": "path"
         },
         {
          "fillcolor": "#f2e6ce",
          "layer": "below",
          "line": {
           "color": "rgb(175,175,175)",
           "width": 0.5
          },
          "path": "M 0.9999970501486445,0.0024289285723101033 Q -0.19839765399636322, 0.025266002626837165 0.967469823453642, -0.2529864437209608L 0.967469823453642, -0.2529864437209608 L 0.9672977918140281, -0.2536434149582936 L 0.9671253140507802, -0.2543002692137384 M 0.9671253140507802,-0.2543002692137384 Q -0.1984000210572778, 0.025247408668450096 0.9999921012309846, 0.003974603834368522L 0.9999921012309846, 0.003974603834368522 L 0.9999948743303919, 0.0032017671595218062 L 0.9999970501486445, 0.0024289285723101033 ",
          "type": "path"
         },
         {
          "fillcolor": "#f2e6ce",
          "layer": "below",
          "line": {
           "color": "rgb(175,175,175)",
           "width": 0.5
          },
          "path": "M 0.9999993905263417,0.0011040593032647739 Q -0.19972801948654836, 0.010426803536125538 0.9944485206952571, -0.10522423526457564L 0.9944485206952571, -0.10522423526457564 L 0.9943931570821206, -0.10574615429533617 L 0.9943375195488665, -0.10626804419677414 M 0.9943375195488665,-0.10626804419677414 Q -0.19972945220421848, 0.010399323160802615 0.9999970501486445, 0.0024289285723101033L 0.9999970501486445, 0.0024289285723101033 L 0.999998439747682, 0.0017664943253748967 L 0.9999993905263417, 0.0011040593032647739 ",
          "type": "path"
         },
         {
          "fillcolor": "#ecd5bb",
          "layer": "below",
          "line": {
           "color": "rgb(175,175,175)",
           "width": 0.5
          },
          "path": "M 0.558956558669094,0.8291969401299089 Q 0.03466107077767028, 0.1969736281143883 -0.24232080978573473, 0.9701961786900554L -0.24232080978573473, 0.9701961786900554 L -0.17636401295281776, 0.9843250148884658 L -0.10960477343027526, 0.9939752480023323 M -0.10960477343027526,0.9939752480023323 Q 0.03431776695110299, 0.1970337302887244 0.4392016325564349, 0.8983885161553226L 0.4392016325564349, 0.8983885161553226 L 0.5002767356432587, 0.8658655714221031 L 0.558956558669094, 0.8291969401299089 ",
          "type": "path"
         },
         {
          "fillcolor": "#ecd5bb",
          "layer": "below",
          "line": {
           "color": "rgb(175,175,175)",
           "width": 0.5
          },
          "path": "M 0.8031181790003921,0.5958197634848095 Q 0.032041140375184816, 0.19741673010020633 -0.5734511109078054, 0.8192397838231513L -0.5734511109078054, 0.8192397838231513 L -0.549061524646103, 0.8357819345698355 L -0.5241950813771037, 0.8515982131616128 M -0.5241950813771037,0.8515982131616128 Q 0.03177900432346414, 0.19745909673704387 0.7649169335919778, 0.6441289348447605L 0.7649169335919778, 0.6441289348447605 L 0.7843895541056196, 0.6202685123476664 L 0.8031181790003921, 0.5958197634848095 ",
          "type": "path"
         },
         {
          "fillcolor": "#ecd5bb",
          "layer": "below",
          "line": {
           "color": "rgb(175,175,175)",
           "width": 0.5
          },
          "path": "M 0.9358042535311607,0.3525200690357743 Q 0.04413742936023421, 0.19506892968761155 -0.6928945583325553, 0.7210389247697611L -0.6928945583325553, 0.7210389247697611 L -0.6884755658173803, 0.7252595364918948 L -0.6840308648960617, 0.7294530662554966 M -0.6840308648960617,0.7294530662554966 Q 0.043798401691560074, 0.19514533048286026 0.9301557666099749, 0.3671651533604598L 0.9301557666099749, 0.3671651533604598 L 0.9330087453046708, 0.3598536941383317 L 0.9358042535311607, 0.3525200690357743 ",
          "type": "path"
         },
         {
          "fillcolor": "#ecd5bb",
          "layer": "below",
          "line": {
           "color": "rgb(175,175,175)",
           "width": 0.5
          },
          "path": "M 0.8959853186651643,0.4440836731253289 Q 0.0125248894354444, 0.1996074325886436 -0.833445715778383, 0.5526013380825808L -0.833445715778383, 0.5526013380825808 L -0.8267760682947791, 0.5625311839311904 L -0.8199881207007934, 0.5723805394224903 M -0.8199881207007934,0.5723805394224903 Q 0.012135406249486504, 0.19963149028938276 0.8832829357271593, 0.46884033044652934L 0.8832829357271593, 0.46884033044652934 L 0.8897202387787447, 0.45650618474177707 L 0.8959853186651643, 0.4440836731253289 ",
          "type": "path"
         },
         {
          "fillcolor": "#ecd5bb",
          "layer": "below",
          "line": {
           "color": "rgb(175,175,175)",
           "width": 0.5
          },
          "path": "M 0.8832829357271593,0.46884033044652934 Q -0.01816120315921562, 0.19917371990252553 -0.9535115744610273, 0.30135639593154934L -0.9535115744610273, 0.30135639593154934 L -0.9475531420596743, 0.3195982524558584 L -0.9412457559245754, 0.33772241109226775 M -0.9412457559245754,0.33772241109226775 Q -0.01850742539649179, 0.19914184694632442 0.8628902209788978, 0.505391399352016L 0.8628902209788978, 0.505391399352016 L 0.873277830051658, 0.4872225687919921 L 0.8832829357271593, 0.46884033044652934 ",
          "type": "path"
         },
         {
          "fillcolor": "#ecd5bb",
          "layer": "below",
          "line": {
           "color": "rgb(175,175,175)",
           "width": 0.5
          },
          "path": "M 0.9455600141168984,0.32544778337430863 Q -0.009950636686992182, 0.19975230869635396 -0.9732227950140796, 0.22986385375909552L -0.9732227950140796, 0.22986385375909552 L -0.9721831276669423, 0.23422204482012768 L -0.9711239439986984, 0.23857553393508932 M -0.9711239439986984,0.23857553393508932 Q -0.01040957449467523, 0.19972891818372174 0.9410613945605557, 0.33823579300207424L 0.9410613945605557, 0.33823579300207424 L 0.9433323742020017, 0.3318494113034023 L 0.9455600141168984, 0.32544778337430863 ",
          "type": "path"
         },
         {
          "fillcolor": "#ecd5bb",
          "layer": "below",
          "line": {
           "color": "rgb(175,175,175)",
           "width": 0.5
          },
          "path": "M 0.9410613945605557,0.33823579300207424 Q -0.02585986552386639, 0.1983211218077579 -0.9963285571233177, 0.08561195162223417L -0.9963285571233177, 0.08561195162223417 L -0.9957962432861566, 0.09159607992254674 L -0.9952279880262793, 0.09757690223185023 M -0.9952279880262793,0.09757690223185023 Q -0.02617770015134251, 0.19827941903986507 0.9358042535311607, 0.3525200690357743L 0.9358042535311607, 0.3525200690357743 L 0.938460002015076, 0.34538793351514696 L 0.9410613945605557, 0.33823579300207424 ",
          "type": "path"
         },
         {
          "fillcolor": "#ecd5bb",
          "layer": "below",
          "line": {
           "color": "rgb(175,175,175)",
           "width": 0.5
          },
          "path": "M 0.9237324568829486,0.38303831153161644 Q -0.04044977983905363, 0.19586683055324117 -0.9998988372458802, -0.01422375739165747L -0.9998988372458802, -0.01422375739165747 L -0.9999820891148274, -0.005985102300322692 L -0.9999974598310203, 0.0022539590739324706 M -0.9999974598310203,0.0022539590739324706 Q -0.04074587084002349, 0.19580544938659938 0.916087237191963, 0.40097901921920553L 0.916087237191963, 0.40097901921920553 L 0.9199535824836806, 0.3920273027168411 L 0.9237324568829486, 0.38303831153161644 ",
          "type": "path"
         },
         {
          "fillcolor": "#ecd5bb",
          "layer": "below",
          "line": {
           "color": "rgb(175,175,175)",
           "width": 0.5
          },
          "path": "M 0.916087237191963,0.40097901921920553 Q -0.06142031479845975, 0.19033534860886483 -0.9776737397515161, -0.21012867153314604L -0.9776737397515161, -0.21012867153314604 L -0.9794323591835727, -0.2017727776091241 L -0.9811195645729599, -0.19340217168420223 M -0.9811195645729599,-0.19340217168420223 Q -0.06169621411867308, 0.19024609631585834 0.9078943191266272, 0.4191991236841962L 0.9078943191266272, 0.4191991236841962 L 0.9120362780609527, 0.41010953110202714 L 0.916087237191963, 0.40097901921920553 ",
          "type": "path"
         },
         {
          "fillcolor": "#ecd5bb",
          "layer": "below",
          "line": {
           "color": "rgb(175,175,175)",
           "width": 0.5
          },
          "path": "M 0.9078943191266272,0.4191991236841962 Q -0.08280140884336162, 0.18205473543293094 -0.9126233429547769, -0.40880146023962266L -0.9126233429547769, -0.40880146023962266 L -0.9173614888115633, -0.39805514548292437 L -0.9219730999644741, -0.3872539256636372 M -0.9219730999644741,-0.3872539256636372 Q -0.0831743691251737, 0.18188464564286166 0.8959853186651643, 0.4440836731253289L 0.8959853186651643, 0.4440836731253289 L 0.9020256355060998, 0.43168246766554785 L 0.9078943191266272, 0.4191991236841962 ",
          "type": "path"
         },
         {
          "fillcolor": "#ecd5bb",
          "layer": "below",
          "line": {
           "color": "rgb(175,175,175)",
           "width": 0.5
          },
          "path": "M 0.7100537163291646,0.7041475129027598 Q -0.14842233506069064, 0.1340552515015062 -0.6284722024304806, -0.7778320453492392L -0.6284722024304806, -0.7778320453492392 L -0.6634930427536938, -0.748182452492335 L -0.6971168602492166, -0.7169575183762802 M -0.6971168602492166,-0.7169575183762802 Q -0.14867857166761062, 0.1337710070489087 0.6395915610634463, 0.7687149244137412L 0.6395915610634463, 0.7687149244137412 L 0.6755944281551998, 0.7372734693759491 L 0.7100537163291646, 0.7041475129027598 ",
          "type": "path"
         },
         {
          "fillcolor": "#ecd5bb",
          "layer": "below",
          "line": {
           "color": "rgb(175,175,175)",
           "width": 0.5
          },
          "path": "M 0.6395915610634463,0.7687149244137412 Q -0.1835520702630148, 0.07942693184406215 -0.12250989424830605, -0.9924672920611887L -0.12250989424830605, -0.9924672920611887 L -0.17112249661080398, -0.9852497607985933 L -0.2193217905948673, -0.975652577596278 M -0.2193217905948673,-0.975652577596278 Q -0.1836527581421331, 0.07919384083871149 0.558956558669094, 0.8291969401299089L 0.558956558669094, 0.8291969401299089 L 0.6000365967046298, 0.7999725511635543 L 0.6395915610634463, 0.7687149244137412 ",
          "type": "path"
         },
         {
          "fillcolor": "#ecd5bb",
          "layer": "below",
          "line": {
           "color": "rgb(175,175,175)",
           "width": 0.5
          },
          "path": "M 0.9523089939285675,0.30513534715394663 Q -0.15834041334120189, 0.12218147774084803 -0.053670841566979134, -0.9985586816835014L -0.053670841566979134, -0.9985586816835014 L -0.05663897713813794, -0.9983947246799462 L -0.05960661220704326, -0.9982219451510767 M -0.05960661220704326,-0.9982219451510767 Q -0.1585291298812223, 0.12193652028454212 0.9495124675734269, 0.3137293003890806L 0.9495124675734269, 0.3137293003890806 L 0.9509204392931342, 0.3094354829920974 L 0.9523089939285675, 0.30513534715394663 ",
          "type": "path"
         },
         {
          "fillcolor": "#ecd5bb",
          "layer": "below",
          "line": {
           "color": "rgb(175,175,175)",
           "width": 0.5
          },
          "path": "M 0.4392016325564349,0.8983885161553226 Q -0.19889637220374423, -0.02098173310738777 0.6169914026448169, -0.7869698908232649L 0.6169914026448169, -0.7869698908232649 L 0.5600983692234566, -0.8284261082276587 L 0.5004298046202984, -0.8657771137236708 M 0.5004298046202984,-0.8657771137236708 Q -0.1988765696988936, -0.021168609420581207 0.306973920426507, 0.9517179267923771L 0.306973920426507, 0.9517179267923771 L 0.3740394303774318, 0.9274128015737794 L 0.4392016325564349, 0.8983885161553226 ",
          "type": "path"
         },
         {
          "fillcolor": "#ecd5bb",
          "layer": "below",
          "line": {
           "color": "rgb(175,175,175)",
           "width": 0.5
          },
          "path": "M 0.7649169335919778,0.6441289348447605 Q -0.19862621158862734, -0.023401454440907143 0.8936725799347581, -0.4487196450711216L 0.8936725799347581, -0.4487196450711216 L 0.875487972797302, -0.48323990883128703 L 0.8559705853264633, -0.5170245226832783 M 0.8559705853264633,-0.5170245226832783 Q -0.19858734234269176, -0.023729042569529655 0.7100537163291646, 0.7041475129027598L 0.7100537163291646, 0.7041475129027598 L 0.7380956319883117, 0.6746961079180571 L 0.7649169335919778, 0.6441289348447605 ",
          "type": "path"
         },
         {
          "fillcolor": "#ecd5bb",
          "layer": "below",
          "line": {
           "color": "rgb(175,175,175)",
           "width": 0.5
          },
          "path": "M 0.8369739687097891,0.5472427027400044 Q -0.19791318547471534, -0.028816158926042407 0.9582729553757201, -0.285854758567149L 0.9582729553757201, -0.285854758567149 L 0.9507930774119434, -0.309826603030673 L 0.9427136313289455, -0.3336030714885476 M 0.9427136313289455,-0.3336030714885476 Q -0.19778158448469677, -0.029705973115229864 0.8031181790003921, 0.5958197634848095L 0.8031181790003921, 0.5958197634848095 L 0.8204056898588649, 0.5717818675397114 L 0.8369739687097891, 0.5472427027400044 ",
          "type": "path"
         },
         {
          "fillcolor": "#ecd5bb",
          "layer": "below",
          "line": {
           "color": "rgb(175,175,175)",
           "width": 0.5
          },
          "path": "M 0.9301557666099749,0.3671651533604598 Q -0.1990014133054604, -0.019960899339191415 0.9845488568235908, -0.17511010401276236L 0.9845488568235908, -0.17511010401276236 L 0.9833016590324578, -0.18198309631396015 L 0.9820064824867482, -0.18884720901830687 M 0.9820064824867482,-0.18884720901830687 Q -0.19896969502023654, -0.020274626101461662 0.9237324568829486, 0.38303831153161644L 0.9237324568829486, 0.38303831153161644 L 0.9269780879767431, 0.37511548143336004 L 0.9301557666099749, 0.3671651533604598 ",
          "type": "path"
         },
         {
          "fillcolor": "#ecd5bb",
          "layer": "below",
          "line": {
           "color": "rgb(175,175,175)",
           "width": 0.5
          },
          "path": "M 0.9495124675734269,0.3137293003890806 Q -0.19815620629534494, -0.027094610287595935 0.9988798468976258, -0.04731861643978661L 0.9988798468976258, -0.04731861643978661 L 0.9986542769664141, -0.0518616919960076 L 0.9984080444614701, -0.05640369451217825 M 0.9984080444614701,-0.05640369451217825 Q -0.19811164438106726, -0.027418540454034874 0.9455600141168984, 0.32544778337430863L 0.9455600141168984, 0.32544778337430863 L 0.9475543564491964, 0.3195946519798934 L 0.9495124675734269, 0.3137293003890806 ",
          "type": "path"
         },
         {
          "fillcolor": "#e6c4a9",
          "layer": "below",
          "line": {
           "color": "rgb(175,175,175)",
           "width": 0.5
          },
          "path": "M -0.048831645087173636,0.9988070236227218 Q -0.07040020934200678, 0.18719992127295787 -0.6214288748734509, 0.7834705823919089L -0.6214288748734509, 0.7834705823919089 L -0.5977076242176528, 0.8017141610025915 L -0.5734511109078054, 0.8192397838231513 M -0.5734511109078054,0.8192397838231513 Q -0.0705051646030836, 0.18716041719416018 -0.10960477343027526, 0.9939752480023323L -0.10960477343027526, 0.9939752480023323 L -0.07925503890649806, 0.9968543719159432 L -0.048831645087173636, 0.9988070236227218 ",
          "type": "path"
         },
         {
          "fillcolor": "#e6c4a9",
          "layer": "below",
          "line": {
           "color": "rgb(175,175,175)",
           "width": 0.5
          },
          "path": "M 0.22622422919914903,0.9740752528030115 Q -0.05190635123367979, 0.19314691481254853 -0.6840308648960617, 0.7294530662554966L -0.6840308648960617, 0.7294530662554966 L -0.6804431361545578, 0.7328008859575361 L -0.6768390225503608, 0.7361310600382736 M -0.6768390225503608,0.7361310600382736 Q -0.052145174634489345, 0.1930825749837064 0.21423839948561213, 0.9767814024569895L 0.21423839948561213, 0.9767814024569895 L 0.22023547086802317, 0.9754467373319469 L 0.22622422919914903, 0.9740752528030115 ",
          "type": "path"
         },
         {
          "fillcolor": "#e6c4a9",
          "layer": "below",
          "line": {
           "color": "rgb(175,175,175)",
           "width": 0.5
          },
          "path": "M 0.19858601173094373,0.9800834637645905 Q -0.07081517014454493, 0.1870433417082767 -0.7978777443942657, 0.6028192971366451L -0.7978777443942657, 0.6028192971366451 L -0.7930451707728247, 0.6091628330043629 L -0.7881621640662003, 0.6154676296398406 M -0.7881621640662003,0.6154676296398406 Q -0.07101474318012836, 0.1869676609765989 0.18083102508896737, 0.9835141790362116L 0.18083102508896737, 0.9835141790362116 L 0.18971627344305267, 0.9818389560365187 L 0.19858601173094373, 0.9800834637645905 ",
          "type": "path"
         },
         {
          "fillcolor": "#e6c4a9",
          "layer": "below",
          "line": {
           "color": "rgb(175,175,175)",
           "width": 0.5
          },
          "path": "M 0.14262575766324326,0.9897766885772699 Q -0.09738309734145065, 0.17468981754007745 -0.916892330426766, 0.3991346319283434L -0.916892330426766, 0.3991346319283434 L -0.9114121256739594, 0.4114947595953986 L -0.9057653098628826, 0.4237796637982953 M -0.9057653098628826,0.4237796637982953 Q -0.09753216359612245, 0.17460663522403497 0.1141162855764771, 0.9934673992468137L 0.1141162855764771, 0.9934673992468137 L 0.12838428458358214, 0.9917244957506908 L 0.14262575766324326, 0.9897766885772699 ",
          "type": "path"
         },
         {
          "fillcolor": "#e6c4a9",
          "layer": "below",
          "line": {
           "color": "rgb(175,175,175)",
           "width": 0.5
          },
          "path": "M 0.2442507784300781,0.9697121001804097 Q -0.10257143338306868, 0.17169479040944344 -0.9696429473506232, 0.2445251615952775L -0.9696429473506232, 0.2445251615952775 L -0.968888776647624, 0.24749654237235458 L -0.9681255004469088, 0.250465597207326 M -0.9681255004469088,0.250465597207326 Q -0.10282119462509308, 0.17154533492890076 0.2354729482617403, 0.9718809035251819L 0.2354729482617403, 0.9718809035251819 L 0.2398643145921432, 0.9708064228182884 L 0.2442507784300781, 0.9697121001804097 ",
          "type": "path"
         },
         {
          "fillcolor": "#e6c4a9",
          "layer": "below",
          "line": {
           "color": "rgb(175,175,175)",
           "width": 0.5
          },
          "path": "M 0.25950752698324786,0.96574108509426 Q -0.10847571486673764, 0.16802684096343132 -0.9869465344231781, 0.16104824801927695L -0.9869465344231781, 0.16104824801927695 L -0.986427502779924, 0.16419738657896818 L -0.9858984229249571, 0.16734485254731457 M -0.9858984229249571,0.16734485254731457 Q -0.10860165100642193, 0.1679454715039359 0.2518869782430804, 0.9677566585622492L 0.2518869782430804, 0.9677566585622492 L 0.25569923861447347, 0.9667563805695717 L 0.25950752698324786, 0.96574108509426 ",
          "type": "path"
         },
         {
          "fillcolor": "#e6c4a9",
          "layer": "below",
          "line": {
           "color": "rgb(175,175,175)",
           "width": 0.5
          },
          "path": "M 0.2518869782430804,0.9677566585622492 Q -0.12020751081947406, 0.1598441564230173 -0.9996470555636581, 0.026566224852406593L -0.9996470555636581, 0.026566224852406593 L -0.9995504667034132, 0.029981069243588156 L -0.999442212597819, 0.03339556374095268 M -0.999442212597819,0.03339556374095268 Q -0.12029142773491011, 0.15978101393312316 0.2442507784300781, 0.9697121001804097L 0.2442507784300781, 0.9697121001804097 L 0.24807080508828344, 0.9687419035340894 L 0.2518869782430804, 0.9677566585622492 ",
          "type": "path"
         },
         {
          "fillcolor": "#e6c4a9",
          "layer": "below",
          "line": {
           "color": "rgb(175,175,175)",
           "width": 0.5
          },
          "path": "M 0.2354729482617403,0.9718809035251819 Q -0.13660038389049617, 0.14608331568310282 -0.9854766027137627, -0.16981126436058577L -0.9854766027137627, -0.16981126436058577 L -0.986175786658622, -0.16570249789380928 L -0.9868578399213367, -0.16159085303875764 M -0.9868578399213367,-0.16159085303875764 Q -0.13668580737289743, 0.14600339058672296 0.22622422919914903, 0.9740752528030115L 0.22622422919914903, 0.9740752528030115 L 0.23085119603551182, 0.9729890674046516 L 0.2354729482617403, 0.9718809035251819 ",
          "type": "path"
         },
         {
          "fillcolor": "#e6c4a9",
          "layer": "below",
          "line": {
           "color": "rgb(175,175,175)",
           "width": 0.5
          },
          "path": "M 0.21423839948561213,0.9767814024569895 Q -0.15245902886483598, 0.12944591348355158 -0.9291018825757114, -0.3698238659068248L -0.9291018825757114, -0.3698238659068248 L -0.931662776752264, -0.3633241946447567 L -0.9341782021467039, -0.3568067917430274 M -0.9341782021467039,-0.3568067917430274 Q -0.1525900201806094, 0.12929147590340676 0.19858601173094373, 0.9800834637645905L 0.19858601173094373, 0.9800834637645905 L 0.2064188085574903, 0.9784637323241502 L 0.21423839948561213, 0.9767814024569895 ",
          "type": "path"
         },
         {
          "fillcolor": "#e6c4a9",
          "layer": "below",
          "line": {
           "color": "rgb(175,175,175)",
           "width": 0.5
          },
          "path": "M 0.16210187368277784,0.9867740281080227 Q -0.16776708861553455, 0.10887701308112463 -0.8351972686207787, -0.5499504727594939L -0.8351972686207787, -0.5499504727594939 L -0.8404941415448878, -0.5418206327085764 L -0.845711880968893, -0.5336397796154788 M -0.845711880968893,-0.5336397796154788 Q -0.16778342684382855, 0.10885183359292411 0.14262575766324326, 0.9897766885772699L 0.14262575766324326, 0.9897766885772699 L 0.1523712122381146, 0.9883233345829124 L 0.16210187368277784, 0.9867740281080227 ",
          "type": "path"
         },
         {
          "fillcolor": "#e6c4a9",
          "layer": "below",
          "line": {
           "color": "rgb(175,175,175)",
           "width": 0.5
          },
          "path": "M 0.0855125064967854,0.9963370971878128 Q -0.1932114848168724, 0.05166548301196351 -0.42319052756516556, -0.906040715078035L -0.42319052756516556, -0.906040715078035 L -0.43940083323874835, -0.8982911041244335 L -0.4554692869304404, -0.8902514974225407 M -0.4554692869304404,-0.8902514974225407 Q -0.1932114848168724, 0.05166548301196351 0.04966118103688606, 0.9987661223219486L 0.04966118103688606, 0.9987661223219486 L 0.06759775507469333, 0.9977126557826466 L 0.0855125064967854, 0.9963370971878128 ",
          "type": "path"
         },
         {
          "fillcolor": "#e6c4a9",
          "layer": "below",
          "line": {
           "color": "rgb(175,175,175)",
           "width": 0.5
          },
          "path": "M 0.2729159252795527,0.9620378878863377 Q -0.1970908299394556, 0.03398830319060661 -0.06507191029367802, -0.9978805772690095L -0.06507191029367802, -0.9978805772690095 L -0.06733554295105848, -0.9977303867556035 L -0.06959882906000621, -0.9975750613329686 M -0.06959882906000621,-0.9975750613329686 Q -0.1971278645718801, 0.033772844258819844 0.2664416332717294, 0.9638510549143438L 0.2664416332717294, 0.9638510549143438 L 0.2696803031095667, 0.962949912568007 L 0.2729159252795527, 0.9620378878863377 ",
          "type": "path"
         },
         {
          "fillcolor": "#e6c4a9",
          "layer": "below",
          "line": {
           "color": "rgb(175,175,175)",
           "width": 0.5
          },
          "path": "M 0.01189115186001519,0.9999292977543173 Q -0.1971812177292311, -0.03345993686212758 0.3410857358491799, -0.9400321913637977L 0.3410857358491799, -0.9400321913637977 L 0.3120273911595254, -0.9500731062219268 L 0.2826741158809495, -0.9592160049805901 M 0.2826741158809495,-0.9592160049805901 Q -0.19719372408085975, -0.033386152565423904 -0.048831645087173636, 0.9988070236227218L -0.048831645087173636, 0.9988070236227218 L -0.018478768486375138, 0.9998292529803411 L 0.01189115186001519, 0.9999292977543173 ",
          "type": "path"
         },
         {
          "fillcolor": "#e6c4a9",
          "layer": "below",
          "line": {
           "color": "rgb(175,175,175)",
           "width": 0.5
          },
          "path": "M 0.04966118103688606,0.9987661223219486 Q -0.1765726529146505, -0.09392602537466585 0.8559705853264633, -0.5170245226832783L 0.8559705853264633, -0.5170245226832783 L 0.8462080126466873, -0.532852699470073 L 0.8361527882291832, -0.5484965950090873 M 0.8361527882291832,-0.5484965950090873 Q -0.17654464788551816, -0.09397865344310066 0.01189115186001519, 0.9999292977543173L 0.01189115186001519, 0.9999292977543173 L 0.030781661188674574, 0.9995261323919779 L 0.04966118103688606, 0.9987661223219486 ",
          "type": "path"
         },
         {
          "fillcolor": "#e6c4a9",
          "layer": "below",
          "line": {
           "color": "rgb(175,175,175)",
           "width": 0.5
          },
          "path": "M 0.18083102508896737,0.9835141790362116 Q -0.1731228016927622, -0.10014237631516705 0.9427136313289455, -0.3336030714885476L 0.9427136313289455, -0.3336030714885476 L 0.9399225497608383, -0.3413877567387038 L 0.9370671855165481, -0.34914909398148974 M 0.9370671855165481,-0.34914909398148974 Q -0.17299893666825014, -0.10035620514773753 0.16210187368277784, 0.9867740281080227L 0.16210187368277784, 0.9867740281080227 L 0.17147419607331815, 0.985188611424741 L 0.18083102508896737, 0.9835141790362116 ",
          "type": "path"
         },
         {
          "fillcolor": "#e6c4a9",
          "layer": "below",
          "line": {
           "color": "rgb(175,175,175)",
           "width": 0.5
          },
          "path": "M 0.2769282648186709,0.9608905953044394 Q -0.17351254666410687, -0.09946555258045946 0.9691177552829188, -0.24659841117776218L 0.9691177552829188, -0.24659841117776218 L 0.968685639871762, -0.24829041686346826 L 0.968250570350127, -0.24998166536098956 M 0.968250570350127,-0.24998166536098956 Q -0.1734786922745128, -0.09952458654385306 0.2729159252795527, 0.9620378878863377L 0.2729159252795527, 0.9620378878863377 L 0.2749226935272168, 0.9614663346075826 L 0.2769282648186709, 0.9608905953044394 ",
          "type": "path"
         },
         {
          "fillcolor": "#e6c4a9",
          "layer": "below",
          "line": {
           "color": "rgb(175,175,175)",
           "width": 0.5
          },
          "path": "M 0.2664416332717294,0.9638510549143438 Q -0.16426988896677877, -0.11408507167391435 0.9962135639684057, -0.0869398353194164L 0.9962135639684057, -0.0869398353194164 L 0.9959741458148657, -0.08964095530698364 L 0.9957274038946826, -0.09234141613141787 M 0.9957274038946826,-0.09234141613141787 Q -0.16416922096105924, -0.11422988614648494 0.25950752698324786, 0.96574108509426L 0.25950752698324786, 0.96574108509426 L 0.2629762781065036, 0.9648022995169793 L 0.2664416332717294, 0.9638510549143438 ",
          "type": "path"
         },
         {
          "fillcolor": "#e1b396",
          "layer": "below",
          "line": {
           "color": "rgb(175,175,175)",
           "width": 0.5
          },
          "path": "M -0.34943050049783353,0.9369622859655737 Q -0.10772792123404085, 0.168507254996906 -0.7037627108006964, 0.710435110961202L -0.7037627108006964, 0.710435110961202 L -0.6983487610589063, 0.7157576460838477 L -0.6928945583325553, 0.7210389247697611 M -0.6928945583325553,0.7210389247697611 Q -0.10802071610307756, 0.16831971035080331 -0.3668536375558012, 0.9302786725557438L -0.3668536375558012, 0.9302786725557438 L -0.3581576598076085, 0.9336611219929517 L -0.34943050049783353, 0.9369622859655737 ",
          "type": "path"
         },
         {
          "fillcolor": "#e1b396",
          "layer": "below",
          "line": {
           "color": "rgb(175,175,175)",
           "width": 0.5
          },
          "path": "M -0.3668536375558012,0.9302786725557438 Q -0.12244902124731255, 0.15813360552259348 -0.8088356776530888, 0.5880347324397331L -0.8088356776530888, 0.5880347324397331 L -0.8033907212465796, 0.5954522222772375 L -0.7978777443942657, 0.6028192971366451 M -0.7978777443942657,0.6028192971366451 Q -0.12261333630109626, 0.158006233298292 -0.3858293118639759, 0.9225701827539035L -0.3858293118639759, 0.9225701827539035 L -0.37636121052862215, 0.9264730105132206 L -0.3668536375558012, 0.9302786725557438 ",
          "type": "path"
         },
         {
          "fillcolor": "#e1b396",
          "layer": "below",
          "line": {
           "color": "rgb(175,175,175)",
           "width": 0.5
          },
          "path": "M -0.45700123276132765,0.8894660607660232 Q -0.15031685522004878, 0.1319274157889667 -0.9412457559245754, 0.33772241109226775L -0.9412457559245754, 0.33772241109226775 L -0.9349403725233422, 0.3548048757076406 L -0.9283249923852434, 0.37176969821777833 M -0.9283249923852434,0.37176969821777833 Q -0.15042148666728095, 0.13180810426072073 -0.49046765257200137, 0.8714593976660706L -0.49046765257200137, 0.8714593976660706 L -0.4738199891812229, 0.8806217223372961 L -0.45700123276132765, 0.8894660607660232 ",
          "type": "path"
         },
         {
          "fillcolor": "#e1b396",
          "layer": "below",
          "line": {
           "color": "rgb(175,175,175)",
           "width": 0.5
          },
          "path": "M -0.2748646672523425,0.9614829248074347 Q -0.1421846864571195, 0.14065388347674807 -0.964401802084582, 0.2644412300228743L -0.964401802084582, 0.2644412300228743 L -0.9641727910299881, 0.2652750064318969 L -0.9639430591316971, 0.2661085845135884 M -0.9639430591316971,0.2661085845135884 Q -0.1422391118555667, 0.14059884444240495 -0.27727073530082624, 0.9607918293500102L -0.27727073530082624, 0.9607918293500102 L -0.27606791753365734, 0.9611381299837343 L -0.2748646672523425, 0.9614829248074347 ",
          "type": "path"
         },
         {
          "fillcolor": "#e1b396",
          "layer": "below",
          "line": {
           "color": "rgb(175,175,175)",
           "width": 0.5
          },
          "path": "M -0.3014503646065869,0.9534818706606623 Q -0.15462135354601403, 0.12685518131948156 -0.994004282096316, 0.10934115041551133L -0.994004282096316, 0.10934115041551133 L -0.9935228724879761, 0.11363230985613507 L -0.9930229378463341, 0.11792135053091846 M -0.9930229378463341,0.11792135053091846 Q -0.15473751370703637, 0.12671346357733554 -0.31141525597904546, 0.9502739280562766L -0.31141525597904546, 0.9502739280562766 L -0.3064370081238415, 0.9518909391585302 L -0.3014503646065869, 0.9534818706606623 ",
          "type": "path"
         },
         {
          "fillcolor": "#e1b396",
          "layer": "below",
          "line": {
           "color": "rgb(175,175,175)",
           "width": 0.5
          },
          "path": "M -0.28709548540977725,0.9579019690225741 Q -0.15842636591809556, 0.12207000688943084 -0.999442212597819, 0.03339556374095268L -0.999442212597819, 0.03339556374095268 L -0.999340660991792, 0.03630762025371947 L -0.9992306245979453, 0.03921936850078057 M -0.9992306245979453,0.03921936850078057 Q -0.15847347894568173, 0.12200883767519702 -0.2934111011824709, 0.9559863627180515L -0.2934111011824709, 0.9559863627180515 L -0.2902548736130443, 0.9569493760611769 L -0.28709548540977725, 0.9579019690225741 ",
          "type": "path"
         },
         {
          "fillcolor": "#e1b396",
          "layer": "below",
          "line": {
           "color": "rgb(175,175,175)",
           "width": 0.5
          },
          "path": "M -0.28142256973766583,0.9595839396541861 Q -0.16823243540306151, 0.1081565886959955 -0.9898235552694132, -0.14230013855867768L -0.9898235552694132, -0.14230013855867768 L -0.9901961993018348, -0.13968352403988477 L -0.9905619262839356, -0.1370659337569297 M -0.9905619262839356,-0.1370659337569297 Q -0.1682665495508012, 0.10810350735414542 -0.28709548540977725, 0.9579019690225741L -0.28709548540977725, 0.9579019690225741 L -0.2842602716058985, 0.9587471501843126 L -0.28142256973766583, 0.9595839396541861 ",
          "type": "path"
         },
         {
          "fillcolor": "#e1b396",
          "layer": "below",
          "line": {
           "color": "rgb(175,175,175)",
           "width": 0.5
          },
          "path": "M -0.3222079153483719,0.9466689280243946 Q -0.1804419899581274, 0.08625942418049785 -0.9390721577639567, -0.3437200641692982L -0.9390721577639567, -0.3437200641692982 L -0.9412112654591306, -0.3378185219505023 L -0.9433132856822677, -0.3319036683366493 M -0.9433132856822677,-0.3319036683366493 Q -0.18050901386002186, 0.08611907985622258 -0.3355327192865439, 0.9420285527987872L -0.3355327192865439, 0.9420285527987872 L -0.3288785017039636, 0.9443722418183181 L -0.3222079153483719, 0.9466689280243946 ",
          "type": "path"
         },
         {
          "fillcolor": "#e1b396",
          "layer": "below",
          "line": {
           "color": "rgb(175,175,175)",
           "width": 0.5
          },
          "path": "M -0.3355327192865439,0.9420285527987872 Q -0.18847860794155857, 0.06690152725022248 -0.8543693799157146, -0.5196662031173832L -0.8543693799157146, -0.5196662031173832 L -0.8582017930962325, -0.5133124607160939 L -0.8619869558887792, -0.5069304566482428 M -0.8619869558887792,-0.5069304566482428 Q -0.188477014667865, 0.06690601573767047 -0.34943050049783353, 0.9369622859655737L -0.34943050049783353, 0.9369622859655737 L -0.34249097780708276, 0.9395211174426833 L -0.3355327192865439, 0.9420285527987872 ",
          "type": "path"
         },
         {
          "fillcolor": "#e1b396",
          "layer": "below",
          "line": {
           "color": "rgb(175,175,175)",
           "width": 0.5
          },
          "path": "M -0.3858293118639759,0.9225701827539035 Q -0.19971172278818253, 0.010734420383799813 -0.4824962166903827, -0.8758980539306314L -0.4824962166903827, -0.8758980539306314 L -0.49302051847405653, -0.8700176827878686 L -0.5034731648070262, -0.8640108635423498 M -0.5034731648070262,-0.8640108635423498 Q -0.19970933774959457, 0.010778701944963717 -0.4075546686266389, 0.913180810179797L -0.4075546686266389, 0.913180810179797 L -0.39671976911179624, 0.9179397718782443 L -0.3858293118639759, 0.9225701827539035 ",
          "type": "path"
         },
         {
          "fillcolor": "#e1b396",
          "layer": "below",
          "line": {
           "color": "rgb(175,175,175)",
           "width": 0.5
          },
          "path": "M -0.27727073530082624,0.9607918293500102 Q -0.19899425166218832, -0.020032169263603555 -0.0802078905980598, -0.9967781570067683L -0.0802078905980598, -0.9967781570067683 L -0.08168934354697258, -0.996657840560573 L -0.0831706160295114, -0.996535322318919 M -0.0831706160295114,-0.996535322318919 Q -0.1989806713771482, -0.020166616431601916 -0.28142256973766583, 0.9595839396541861L -0.28142256973766583, 0.9595839396541861 L -0.2793473053800371, 0.9601901285562732 L -0.27727073530082624, 0.9607918293500102 ",
          "type": "path"
         },
         {
          "fillcolor": "#e1b396",
          "layer": "below",
          "line": {
           "color": "rgb(175,175,175)",
           "width": 0.5
          },
          "path": "M -0.49046765257200137,0.8714593976660706 Q -0.18424306184348133, -0.0778106301384272 0.2826741158809495, -0.9592160049805901L 0.2826741158809495, -0.9592160049805901 L 0.26325701101873344, -0.9647257362325743 L 0.24373266022586593, -0.9698424564532234 M 0.24373266022586593,-0.9698424564532234 Q -0.18429067482118994, -0.07769779388084604 -0.5241950813771037, 0.8515982131616128L -0.5241950813771037, 0.8515982131616128 L -0.5074285492350111, 0.8616938362442033 L -0.49046765257200137, 0.8714593976660706 ",
          "type": "path"
         },
         {
          "fillcolor": "#e1b396",
          "layer": "below",
          "line": {
           "color": "rgb(175,175,175)",
           "width": 0.5
          },
          "path": "M -0.4075546686266389,0.913180810179797 Q -0.1605452421681166, -0.11926954857456616 0.7566097261761513, -0.6538667465589983L 0.7566097261761513, -0.6538667465589983 L 0.7480414506154381, -0.663652008330534 L 0.7393466313555331, -0.6733250022858392 M 0.7393466313555331,-0.6733250022858392 Q -0.16054936614853832, -0.11926399720495112 -0.4311062830424525, 0.9023011541172498L -0.4311062830424525, 0.9023011541172498 L -0.4193657588461847, 0.9078173606554149 L -0.4075546686266389, 0.913180810179797 ",
          "type": "path"
         },
         {
          "fillcolor": "#e1b396",
          "layer": "below",
          "line": {
           "color": "rgb(175,175,175)",
           "width": 0.5
          },
          "path": "M -0.2934111011824709,0.9559863627180515 Q -0.14834099550529578, -0.13414525355933327 0.9217549148641158, -0.38777297085259405L 0.9217549148641158, -0.38777297085259405 L 0.9203015038927915, -0.3912098438596174 L 0.9188352781836203, -0.39464126946535766 M 0.9188352781836203,-0.39464126946535766 Q -0.14827677270752024, -0.13421623849386624 -0.3014503646065869, 0.9534818706606623L -0.3014503646065869, 0.9534818706606623 L -0.29743336899260814, 0.9547425783999093 L -0.2934111011824709, 0.9559863627180515 ",
          "type": "path"
         },
         {
          "fillcolor": "#e1b396",
          "layer": "below",
          "line": {
           "color": "rgb(175,175,175)",
           "width": 0.5
          },
          "path": "M -0.31141525597904546,0.9502739280562766 Q -0.13318684590429875, -0.14920209139976753 0.9793901860628715, -0.201977383495613L 0.9793901860628715, -0.201977383495613 L 0.9783989012487182, -0.2067258813871668 L 0.9773845938495713, -0.21146951483726575 M 0.9773845938495713,-0.21146951483726575 Q -0.13306168242157074, -0.149313725662248 -0.3222079153483719, 0.9466689280243946L -0.3222079153483719, 0.9466689280243946 L -0.31681671328555383, 0.9484867791292292 L -0.31141525597904546, 0.9502739280562766 ",
          "type": "path"
         },
         {
          "fillcolor": "#e1b396",
          "layer": "below",
          "line": {
           "color": "rgb(175,175,175)",
           "width": 0.5
          },
          "path": "M -0.2726758375213323,0.9621059648666772 Q -0.12859238197101341, -0.15317963082283814 0.9947927949006725, -0.10191808089690756L 0.9947927949006725, -0.10191808089690756 L 0.9947032619444871, -0.10278823219122485 L 0.9946129678618315, -0.10365830483410081 M 0.9946129678618315,-0.10365830483410081 Q -0.12855206942373698, -0.1532134636605893 -0.2748646672523425, 0.9614829248074347L -0.2748646672523425, 0.9614829248074347 L -0.2737704296243141, 0.9617950674979148 L -0.2726758375213323, 0.9621059648666772 ",
          "type": "path"
         },
         {
          "fillcolor": "#dba284",
          "layer": "below",
          "line": {
           "color": "rgb(175,175,175)",
           "width": 0.5
          },
          "path": "M -0.7037627108006964,0.710435110961202 Q -0.1529992046131031, 0.12880700053862687 -0.8199881207007934, 0.5723805394224903L -0.8199881207007934, 0.5723805394224903 L -0.8144495103815506, 0.5802344311045774 L -0.8088356776530888, 0.5880347324397331 M -0.8088356776530888,0.5880347324397331 Q -0.1528822802453277, 0.1289457575377689 -0.716021563132018, 0.6980781626221964L -0.716021563132018, 0.6980781626221964 L -0.7099190233186629, 0.7042833097058852 L -0.7037627108006964, 0.710435110961202 ",
          "type": "path"
         },
         {
          "fillcolor": "#dba284",
          "layer": "below",
          "line": {
           "color": "rgb(175,175,175)",
           "width": 0.5
          },
          "path": "M -0.654175151227627,0.7563430911407277 Q -0.1544061015408312, 0.1271170948651775 -0.8679043899392989, 0.4967312854291478L -0.8679043899392989, 0.4967312854291478 L -0.8660023914619074, 0.5000398563937253 L -0.8640877803178151, 0.5033411446578069 M -0.8640877803178151,0.5033411446578069 Q -0.15433288581884774, 0.12720597609714138 -0.6590633058725112, 0.7520874675544041L -0.6590633058725112, 0.7520874675544041 L -0.6566226761883229, 0.7542192394226528 L -0.654175151227627, 0.7563430911407277 ",
          "type": "path"
         },
         {
          "fillcolor": "#dba284",
          "layer": "below",
          "line": {
           "color": "rgb(175,175,175)",
           "width": 0.5
          },
          "path": "M -0.6457316429450224,0.7635644342814312 Q -0.1682073107229117, 0.1081956589672887 -0.9625921483633781, 0.27095452738268866L -0.9625921483633781, 0.27095452738268866 L -0.9625708469955627, 0.2710301911489659 L -0.9625495396802591, 0.271105853240614 M -0.9625495396802591,0.271105853240614 Q -0.16820882349370223, 0.10819330708904565 -0.6458730241663158, 0.7634448484692642L -0.6458730241663158, 0.7634448484692642 L -0.6458023363236921, 0.7635046446478639 L -0.6457316429450224, 0.7635644342814312 ",
          "type": "path"
         },
         {
          "fillcolor": "#dba284",
          "layer": "below",
          "line": {
           "color": "rgb(175,175,175)",
           "width": 0.5
          },
          "path": "M -0.6706815396331419,0.7417454229014955 Q -0.1776814301398508, 0.09181127045988052 -0.9930229378463341, 0.11792135053091846L -0.9930229378463341, 0.11792135053091846 L -0.9925159549683295, 0.12211502419155879 L -0.991991261704693, 0.1263065188402058 M -0.991991261704693,0.1263065188402058 Q -0.17767612357022644, 0.09182153948316063 -0.6768390225503608, 0.7361310600382736L -0.6768390225503608, 0.7361310600382736 L -0.6737661290421373, 0.7389446551370231 L -0.6706815396331419, 0.7417454229014955 ",
          "type": "path"
         },
         {
          "fillcolor": "#dba284",
          "layer": "below",
          "line": {
           "color": "rgb(175,175,175)",
           "width": 0.5
          },
          "path": "M -0.6458730241663158,0.7634448484692642 Q -0.17913383874578778, 0.08894418371202305 -0.9985907793563057, 0.0530702872101332L -0.9985907793563057, 0.0530702872101332 L -0.99857473698976, 0.053371290464366186 L -0.9985586038923975, 0.05367228886926727 M -0.9985586038923975,0.05367228886926727 Q -0.1791317334377113, 0.08894842368249563 -0.6462970349311539, 0.763085933980701L -0.6462970349311539, 0.763085933980701 L -0.6460850544718489, 0.7632654206683989 L -0.6458730241663158, 0.7634448484692642 ",
          "type": "path"
         },
         {
          "fillcolor": "#dba284",
          "layer": "below",
          "line": {
           "color": "rgb(175,175,175)",
           "width": 0.5
          },
          "path": "M -0.647567870000603,0.7620077780068142 Q -0.18628514867554072, 0.07278628567890856 -0.9926355396236907, -0.1211391162093588L -0.9926355396236907, -0.1211391162093588 L -0.9927214886627798, -0.12043274449730994 L -0.9928069350390974, -0.11972631180435417 M -0.9928069350390974,-0.11972631180435417 Q -0.1862805283757413, 0.07279810950879594 -0.6485550539931523, 0.7611677488832139L -0.6485550539931523, 0.7611677488832139 L -0.6480615981045031, 0.7615879233957412 L -0.647567870000603, 0.7620077780068142 ",
          "type": "path"
         },
         {
          "fillcolor": "#dba284",
          "layer": "below",
          "line": {
           "color": "rgb(175,175,175)",
           "width": 0.5
          },
          "path": "M -0.6485550539931523,0.7611677488832139 Q -0.1964038922523071, 0.03775594136217711 -0.8845476252579979, -0.46644988868091347L -0.8845476252579979, -0.46644988868091347 L -0.8852919626939333, -0.4650356338922034 L -0.8860340389571296, -0.46362019133048527 M -0.8860340389571296,-0.46362019133048527 Q -0.19639248272632842, 0.037815244658587016 -0.6505261512514778, 0.7594838553504212L -0.6505261512514778, 0.7594838553504212 L -0.6495411482957162, 0.7603264408598996 L -0.6485550539931523, 0.7611677488832139 ",
          "type": "path"
         },
         {
          "fillcolor": "#dba284",
          "layer": "below",
          "line": {
           "color": "rgb(175,175,175)",
           "width": 0.5
          },
          "path": "M -0.6467208462456644,0.7627267840002026 Q -0.1999202080709771, -0.005648929531976247 -0.6026202810291135, -0.7980280677347084L -0.6026202810291135, -0.7980280677347084 L -0.6031751835875335, -0.7976087373544407 L -0.6037297943570522, -0.7971890211271048 M -0.6037297943570522,-0.7971890211271048 Q -0.1999209969777157, -0.005620940084735494 -0.647567870000603, 0.7620077780068142L -0.647567870000603, 0.7620077780068142 L -0.6471444579790571, 0.7623673986386041 L -0.6467208462456644, 0.7627267840002026 ",
          "type": "path"
         },
         {
          "fillcolor": "#dba284",
          "layer": "below",
          "line": {
           "color": "rgb(175,175,175)",
           "width": 0.5
          },
          "path": "M -0.6646158581793307,0.7471852254003366 Q -0.18579928604686963, -0.07401773641819591 0.03122430023537486, -0.9995124026618235L 0.03122430023537486, -0.9995124026618235 L 0.026063068936864782, -0.999660300520928 L 0.020901142792184836, -0.9997815472541893 M 0.020901142792184836,-0.9997815472541893 Q -0.18587982009616943, -0.07381525913397373 -0.6706815396331419, 0.7417454229014955L -0.6706815396331419, 0.7417454229014955 L -0.667654239119319, 0.7444715017957392 L -0.6646158581793307, 0.7471852254003366 ",
          "type": "path"
         },
         {
          "fillcolor": "#dba284",
          "layer": "below",
          "line": {
           "color": "rgb(175,175,175)",
           "width": 0.5
          },
          "path": "M -0.6505261512514778,0.7594838553504212 Q -0.15196143434515214, -0.13002969842218362 0.6497706722797192, -0.7601303003072314L 0.6497706722797192, -0.7601303003072314 L 0.6475129699942282, -0.7620544296106766 L 0.6452495699227698, -0.763971853221361 M 0.6452495699227698,-0.763971853221361 Q -0.15203411446291684, -0.12994471147175135 -0.654175151227627, 0.7563430911407277L -0.654175151227627, 0.7563430911407277 L -0.6523525414012146, 0.7579156692715732 L -0.6505261512514778, 0.7594838553504212 ",
          "type": "path"
         },
         {
          "fillcolor": "#dba284",
          "layer": "below",
          "line": {
           "color": "rgb(175,175,175)",
           "width": 0.5
          },
          "path": "M -0.6590633058725112,0.7520874675544041 Q -0.10221237550685275, -0.17190878480533256 0.9755435685407564, -0.21980615523403002L 0.9755435685407564, -0.21980615523403002 L 0.9746832243687823, -0.22359027736928538 L 0.9738082016892589, -0.22737103228584712 M 0.9738082016892589,-0.22737103228584712 Q -0.10224283860889537, -0.17189066860418975 -0.6646158581793307, 0.7471852254003366L -0.6646158581793307, 0.7471852254003366 L -0.6618441208704509, 0.7496414874253026 L -0.6590633058725112, 0.7520874675544041 ",
          "type": "path"
         },
         {
          "fillcolor": "#dba284",
          "layer": "below",
          "line": {
           "color": "rgb(175,175,175)",
           "width": 0.5
          },
          "path": "M -0.6462970349311539,0.763085933980701 Q -0.0937206784226305, -0.17668173203815352 0.9942441816570647, -0.1071377955768819L 0.9942441816570647, -0.1071377955768819 L 0.994216031935097, -0.1073987050351642 L 0.9941878137452966, -0.10765960709731093 M 0.9941878137452966,-0.10765960709731093 Q -0.09371796857119474, -0.17668316944997495 -0.6467208462456644, 0.7627267840002026L -0.6467208462456644, 0.7627267840002026 L -0.646508965527876, 0.7629063884200182 L -0.6462970349311539, 0.763085933980701 ",
          "type": "path"
         },
         {
          "fillcolor": "#d59171",
          "layer": "below",
          "line": {
           "color": "rgb(175,175,175)",
           "width": 0.5
          },
          "path": "M -0.7465046780885111,0.6653801662147502 Q -0.16281481377273463, 0.1161522122740232 -0.8720976145100046, 0.48933194333290725L -0.8720976145100046, 0.48933194333290725 L -0.87000886859719, 0.4930360722728485 L -0.8679043899392989, 0.4967312854291478 M -0.8679043899392989,0.4967312854291478 Q -0.16278400967462453, 0.11619537940147084 -0.75178703863875, 0.6594059815733996L -0.75178703863875, 0.6594059815733996 L -0.7491518136024987, 0.6623983395028153 L -0.7465046780885111, 0.6653801662147502 ",
          "type": "path"
         },
         {
          "fillcolor": "#d59171",
          "layer": "below",
          "line": {
           "color": "rgb(175,175,175)",
           "width": 0.5
          },
          "path": "M -0.771265005948768,0.6365141715616761 Q -0.18468759779789268, 0.07674953563145406 -0.9952279880262793, 0.09757690223185023L -0.9952279880262793, 0.09757690223185023 L -0.9946335282445014, 0.10346083554608879 L -0.994004282096316, 0.10934115041551133 M -0.994004282096316,0.10934115041551133 Q -0.18472803015374567, 0.07665216810708508 -0.7794004098666324, 0.6265261376029937L -0.7794004098666324, 0.6265261376029937 L -0.7753487912914272, 0.6315332547403366 L -0.771265005948768, 0.6365141715616761 ",
          "type": "path"
         },
         {
          "fillcolor": "#d59171",
          "layer": "below",
          "line": {
           "color": "rgb(175,175,175)",
           "width": 0.5
          },
          "path": "M -0.7389745910387434,0.6737332957477477 Q -0.18461735138939278, 0.0769183564954782 -0.9987361326067167, 0.05026069464083054L -0.9987361326067167, 0.05026069464083054 L -0.9987056509098072, 0.05086278443831211 L -0.9986748062420596, 0.05146485575015887 M -0.9986748062420596,0.05146485575015887 Q -0.18461816450965005, 0.07691640483725043 -0.7398006141431691, 0.6728261672329562L -0.7398006141431691, 0.6728261672329562 L -0.7393877417064322, 0.6732798581676586 L -0.7389745910387434, 0.6737332957477477 ",
          "type": "path"
         },
         {
          "fillcolor": "#d59171",
          "layer": "below",
          "line": {
           "color": "rgb(175,175,175)",
           "width": 0.5
          },
          "path": "M -0.7432303769047874,0.6690355796562449 Q -0.19120239016611346, 0.05866554350524104 -0.9905619262839356, -0.1370659337569297L -0.9905619262839356, -0.1370659337569297 L -0.9908933788172497, -0.13464884632307264 L -0.9912189333822988, -0.1322309574360628 M -0.9912189333822988,-0.1322309574360628 Q -0.19120321269358073, 0.05866286266159652 -0.7465046780885111, 0.6653801662147502L -0.7465046780885111, 0.6653801662147502 L -0.7448697698462655, 0.6672098814984468 L -0.7432303769047874, 0.6690355796562449 ",
          "type": "path"
         },
         {
          "fillcolor": "#d59171",
          "layer": "below",
          "line": {
           "color": "rgb(175,175,175)",
           "width": 0.5
          },
          "path": "M -0.7398006141431691,0.6728261672329562 Q -0.19530685390059122, 0.04307241367108564 -0.9541775385612722, -0.2992410815799726L -0.9541775385612722, -0.2992410815799726 L -0.9544196019137755, -0.2984681280853123 L -0.954661039117608, -0.2976949787801078 M -0.954661039117608,-0.2976949787801078 Q -0.19530719586422074, 0.043070863047481645 -0.7409002458863956, 0.6716150874165042L -0.7409002458863956, 0.6716150874165042 L -0.7403506776532683, 0.6722208521746007 L -0.7398006141431691, 0.6728261672329562 ",
          "type": "path"
         },
         {
          "fillcolor": "#d59171",
          "layer": "below",
          "line": {
           "color": "rgb(175,175,175)",
           "width": 0.5
          },
          "path": "M -0.7409002458863956,0.6716150874165042 Q -0.19851856108238242, 0.024297755159281714 -0.8810082067779439, -0.47310098244445825L -0.8810082067779439, -0.47310098244445825 L -0.8819246649968596, -0.47139037460493066 L -0.8828378018214771, -0.46967799147396977 M -0.8828378018214771,-0.46967799147396977 Q -0.1985136347695613, 0.02433797055173725 -0.7432303769047874, 0.6690355796562449L -0.7432303769047874, 0.6690355796562449 L -0.7420664322294246, 0.6703263460123678 L -0.7409002458863956, 0.6716150874165042 ",
          "type": "path"
         },
         {
          "fillcolor": "#d59171",
          "layer": "below",
          "line": {
           "color": "rgb(175,175,175)",
           "width": 0.5
          },
          "path": "M -0.7576892114735596,0.6526155520799175 Q -0.1982234572294331, -0.02659813910804873 -0.558845733957394, -0.8292716356162325L -0.558845733957394, -0.8292716356162325 L -0.563451291485291, -0.8261492856158369 L -0.5680394044317978, -0.8230013578438182 M -0.5680394044317978,-0.8230013578438182 Q -0.19824088256665384, -0.02646795192670114 -0.76405798067081, 0.6451475816999116L -0.76405798067081, 0.6451475816999116 L -0.7608827582783155, 0.6488893805224296 L -0.7576892114735596, 0.6526155520799175 ",
          "type": "path"
         },
         {
          "fillcolor": "#d59171",
          "layer": "below",
          "line": {
           "color": "rgb(175,175,175)",
           "width": 0.5
          },
          "path": "M -0.7794004098666324,0.6265261376029937 Q -0.17712066575056032, -0.09288848025497183 0.07223854700569556, -0.9973873832801906L 0.07223854700569556, -0.9973873832801906 L 0.06416034131076652, -0.9979396026828908 L 0.056077929112858624, -0.9984263948165699 M 0.056077929112858624,-0.9984263948165699 Q -0.17721741588352224, -0.09270376210039544 -0.7881621640662003, 0.6154676296398406L -0.7881621640662003, 0.6154676296398406 L -0.7838007900278774, 0.6210123360704483 L -0.7794004098666324, 0.6265261376029937 ",
          "type": "path"
         },
         {
          "fillcolor": "#d59171",
          "layer": "below",
          "line": {
           "color": "rgb(175,175,175)",
           "width": 0.5
          },
          "path": "M -0.76405798067081,0.6451475816999116 Q -0.13740383530882308, -0.14532785707642504 0.6869292136099705, -0.7267243325286333L 0.6869292136099705, -0.7267243325286333 L 0.682355475671103, -0.7310205228457426 L 0.6777548690778656, -0.7352879282575263 M 0.6777548690778656,-0.7352879282575263 Q -0.13749855078385328, -0.14523824748440103 -0.771265005948768, 0.6365141715616761L -0.771265005948768, 0.6365141715616761 L -0.7676736300364035, 0.6408410081656222 L -0.76405798067081, 0.6451475816999116 ",
          "type": "path"
         },
         {
          "fillcolor": "#d59171",
          "layer": "below",
          "line": {
           "color": "rgb(175,175,175)",
           "width": 0.5
          },
          "path": "M -0.7375954146976054,0.6752429223746573 Q -0.11058833389699348, -0.1666439930087103 0.9087625385130856, -0.41731360940574713L 0.9087625385130856, -0.41731360940574713 L 0.9085519865739552, -0.4177718129463973 L 0.9083412036058599, -0.4182299102549431 M 0.9083412036058599,-0.4182299102549431 Q -0.1105871791985045, -0.16664475928428668 -0.7382853887238988, 0.6744884615742522L -0.7382853887238988, 0.6744884615742522 L -0.7379404981296261, 0.6748657801520234 L -0.7375954146976054, 0.6752429223746573 ",
          "type": "path"
         },
         {
          "fillcolor": "#d59171",
          "layer": "below",
          "line": {
           "color": "rgb(175,175,175)",
           "width": 0.5
          },
          "path": "M -0.75178703863875,0.6594059815733996 Q -0.08996212465063401, -0.17862479147179933 0.9773845938495713, -0.21146951483726575L 0.9773845938495713, -0.21146951483726575 L 0.9764729779966221, -0.21563979976434827 L 0.9755435685407564, -0.21980615523403002 M 0.9755435685407564,-0.21980615523403002 Q -0.0899210851961733, -0.17864545456613934 -0.7576892114735596, 0.6526155520799175L -0.7576892114735596, 0.6526155520799175 L -0.7547457617611752, 0.6560174045736464 L -0.75178703863875, 0.6594059815733996 ",
          "type": "path"
         },
         {
          "fillcolor": "#d0805f",
          "layer": "below",
          "line": {
           "color": "rgb(175,175,175)",
           "width": 0.5
          },
          "path": "M -0.8720976145100046,0.48933194333290725 Q -0.18602001211174402, 0.07346124892721753 -0.9711239439986984, 0.23857553393508932L -0.9711239439986984, 0.23857553393508932 L -0.9703880054683028, 0.2415514828007664 L -0.9696429473506232, 0.2445251615952775 M -0.9696429473506232,0.2445251615952775 Q -0.18610706987755057, 0.07324041603918229 -0.8762277572988206, 0.4818972061955528L -0.8762277572988206, 0.4818972061955528 L -0.8741705899060505, 0.48561896559268336 L -0.8720976145100046, 0.48933194333290725 ",
          "type": "path"
         },
         {
          "fillcolor": "#d0805f",
          "layer": "below",
          "line": {
           "color": "rgb(175,175,175)",
           "width": 0.5
          },
          "path": "M -0.8762277572988206,0.4818972061955528 Q -0.18994208167617668, 0.06262591802537208 -0.9910147736351109, 0.13375245207826947L -0.9910147736351109, 0.13375245207826947 L -0.9905184681396543, 0.13737963558793073 L -0.9900088869437196, 0.14100497782864754 M -0.9900088869437196,0.14100497782864754 Q -0.1899790905656749, 0.06251355971178646 -0.8802945195584942, 0.47442761179686815L -0.8802945195584942, 0.47442761179686815 L -0.8782690794876712, 0.4781667324436934 L -0.8762277572988206, 0.4818972061955528 ",
          "type": "path"
         },
         {
          "fillcolor": "#d0805f",
          "layer": "below",
          "line": {
           "color": "rgb(175,175,175)",
           "width": 0.5
          },
          "path": "M -0.8542698410756834,0.5198298169867968 Q -0.19135164204922298, 0.05817687758092593 -0.9990474721233322, 0.0436365494050536L -0.9990474721233322, 0.0436365494050536 L -0.9989714788894076, 0.04534296379274135 L -0.9988925710312878, 0.04704924588666327 M -0.9988925710312878,0.04704924588666327 Q -0.19136010665876632, 0.05814902905075531 -0.8561911193507894, 0.5166592369684706L -0.8561911193507894, 0.5166592369684706 L -0.8552319494909999, 0.518245417316761 L -0.8542698410756834, 0.5198298169867968 ",
          "type": "path"
         },
         {
          "fillcolor": "#d0805f",
          "layer": "below",
          "line": {
           "color": "rgb(175,175,175)",
           "width": 0.5
          },
          "path": "M -0.8561911193507894,0.5166592369684706 Q -0.19580557671664067, 0.04074525894706958 -0.9912189333822988, -0.1322309574360628L -0.9912189333822988, -0.1322309574360628 L -0.9914592275974096, -0.13041702347449907 L -0.9916962023101342, -0.1286026528639955 M -0.9916962023101342,-0.1286026528639955 Q -0.1958109898319071, 0.04071923699001225 -0.8582125873802361, 0.5132944134335777L -0.8582125873802361, 0.5132944134335777 L -0.8572035043807421, 0.5149778170730998 L -0.8561911193507894, 0.5166592369684706 ",
          "type": "path"
         },
         {
          "fillcolor": "#d0805f",
          "layer": "below",
          "line": {
           "color": "rgb(175,175,175)",
           "width": 0.5
          },
          "path": "M -0.8514231106259884,0.5244794435361274 Q -0.1985140041307125, 0.02433495765337333 -0.952896439522714, -0.3032958548100099L -0.952896439522714, -0.3032958548100099 L -0.9532642270684762, -0.30213790459248985 L -0.9536306074852936, -0.30097950838425824 M -0.9536306074852936,-0.30097950838425824 Q -0.1985162784689333, 0.024316397406789814 -0.8527927047532105, 0.5222495598080515L -0.8527927047532105, 0.5222495598080515 L -0.8521086371129605, 0.5233649496837681 L -0.8514231106259884, 0.5244794435361274 ",
          "type": "path"
         },
         {
          "fillcolor": "#d0805f",
          "layer": "below",
          "line": {
           "color": "rgb(175,175,175)",
           "width": 0.5
          },
          "path": "M -0.889734685517931,0.45647802727656944 Q -0.19980260400344202, -0.00888366103831864 -0.845711880968893, -0.5336397796154788L -0.845711880968893, -0.5336397796154788 L -0.8500693434142808, -0.5266707808367705 L -0.8543693799157146, -0.5196662031173832 M -0.8543693799157146,-0.5196662031173832 Q -0.1998058637884805, -0.008810039485676784 -0.8967920664272567, 0.44245224555100954L -0.8967920664272567, 0.44245224555100954 L -0.8932909041808322, 0.4494789878379091 L -0.889734685517931, 0.45647802727656944 ",
          "type": "path"
         },
         {
          "fillcolor": "#d0805f",
          "layer": "below",
          "line": {
           "color": "rgb(175,175,175)",
           "width": 0.5
          },
          "path": "M -0.8967920664272567,0.44245224555100954 Q -0.19150949253824176, -0.05765513218912202 -0.5034731648070262, -0.8640108635423498L -0.5034731648070262, -0.8640108635423498 L -0.512957343307585, -0.858414098175714 L -0.5223793137145508, -0.852713229991839 M -0.5223793137145508,-0.852713229991839 Q -0.1915471527783653, -0.05752989016590935 -0.9057653098628826, 0.4237796637982953L -0.9057653098628826, 0.4237796637982953 L -0.9013270438813126, 0.43313919237142984 L -0.8967920664272567, 0.44245224555100954 ",
          "type": "path"
         },
         {
          "fillcolor": "#d0805f",
          "layer": "below",
          "line": {
           "color": "rgb(175,175,175)",
           "width": 0.5
          },
          "path": "M -0.8527927047532105,0.5222495598080515 Q -0.17850111132005894, -0.09020727940418075 -0.08535320805348041, -0.9963507564482396L -0.08535320805348041, -0.9963507564482396 L -0.08636641578542736, -0.9962634401725171 L -0.0873795341960154, -0.9961750935471572 M -0.0873795341960154,-0.9961750935471572 Q -0.17846496672211729, -0.09027876634554538 -0.8542698410756834, 0.5198298169867968L -0.8542698410756834, 0.5198298169867968 L -0.8535321304038802, 0.5210402118533787 L -0.8527927047532105, 0.5222495598080515 ",
          "type": "path"
         },
         {
          "fillcolor": "#d0805f",
          "layer": "below",
          "line": {
           "color": "rgb(175,175,175)",
           "width": 0.5
          },
          "path": "M -0.916892330426766,0.3991346319283434 Q -0.15727208360092376, -0.12355359857092003 0.17073814978727284, -0.9853164386161528L 0.17073814978727284, -0.9853164386161528 L 0.1549919527478529, -0.9879157325315795 L 0.1392062794052998, -0.9902634052483883 M 0.1392062794052998,-0.9902634052483883 Q -0.15741164245737352, -0.12337574647746617 -0.9283249923852434, 0.37176969821777833L -0.9283249923852434, 0.37176969821777833 L -0.9227101126576134, 0.38549454989581156 L -0.916892330426766, 0.3991346319283434 ",
          "type": "path"
         },
         {
          "fillcolor": "#d0805f",
          "layer": "below",
          "line": {
           "color": "rgb(175,175,175)",
           "width": 0.5
          },
          "path": "M -0.8848062035666177,0.46595920650849804 Q -0.12287062554739014, -0.1578062399830661 0.668643466959573, -0.7435831588277685L 0.668643466959573, -0.7435831588277685 L 0.6644760279179887, -0.7473095799749475 L 0.6602878215002876, -0.7510126448858263 M 0.6602878215002876,-0.7510126448858263 Q -0.12290970615727324, -0.1577758033804067 -0.889734685517931, 0.45647802727656944L -0.889734685517931, 0.45647802727656944 L -0.8872831086796096, 0.46122519993149563 L -0.8848062035666177, 0.46595920650849804 ",
          "type": "path"
         },
         {
          "fillcolor": "#d0805f",
          "layer": "below",
          "line": {
           "color": "rgb(175,175,175)",
           "width": 0.5
          },
          "path": "M -0.8611091320750646,0.5084201635035034 Q -0.09167564322734154, -0.17775144567303297 0.9135003205806795, -0.4068380074415317L 0.9135003205806795, -0.4068380074415317 L 0.9123891039634097, -0.4093239828898942 L 0.9112711220937962, -0.41180692325155677 M 0.9112711220937962,-0.41180692325155677 Q -0.09163636035654132, -0.17777170039296497 -0.8640877803178151, 0.5033411446578069L -0.8640877803178151, 0.5033411446578069 L -0.8626021943750144, 0.5058828463779039 L -0.8611091320750646, 0.5084201635035034 ",
          "type": "path"
         },
         {
          "fillcolor": "#d0805f",
          "layer": "below",
          "line": {
           "color": "rgb(175,175,175)",
           "width": 0.5
          },
          "path": "M -0.8582125873802361,0.5132944134335777 Q -0.07559234727165559, -0.1851642434001809 0.9722416316017415, -0.23397907979215468L 0.9722416316017415, -0.23397907979215468 L 0.9716483382651427, -0.23643076522861153 L 0.9710488625648571, -0.23888094631321527 M 0.9710488625648571,-0.23888094631321527 Q -0.07553447511391526, -0.18518785886030792 -0.8611091320750646, 0.5084201635035034L -0.8611091320750646, 0.5084201635035034 L -0.8596643143261082, 0.5108593413790357 L -0.8582125873802361, 0.5132944134335777 ",
          "type": "path"
         },
         {
          "fillcolor": "#d0805f",
          "layer": "below",
          "line": {
           "color": "rgb(175,175,175)",
           "width": 0.5
          },
          "path": "M -0.8503920881259699,0.5261495000974082 Q -0.06461095366146753, -0.18927605412982304 0.9946129678618315, -0.10365830483410081L 0.9946129678618315, -0.10365830483410081 L 0.9945310524814012, -0.1044413024154546 L 0.9944485206952571, -0.10522423526457564 M 0.9944485206952571,-0.10522423526457564 Q -0.06457422016723245, -0.189288589433684 -0.8514231106259884, 0.5244794435361274L -0.8514231106259884, 0.5244794435361274 L -0.8509080090985284, 0.5253147247621932 L -0.8503920881259699, 0.5261495000974082 ",
          "type": "path"
         },
         {
          "fillcolor": "#ca6f4c",
          "layer": "below",
          "line": {
           "color": "rgb(175,175,175)",
           "width": 0.5
          },
          "path": "M -0.9632284231642981,0.2686838380111833 Q -0.19482135831142405, 0.045217677358437236 -0.9831024926846959, 0.18305597197889406L -0.9831024926846959, 0.18305597197889406 L -0.9829647457922, 0.18379420156706697 L -0.9828264445497261, 0.18453232750318876 M -0.9828264445497261,0.18453232750318876 Q -0.19481583440479855, 0.0452414706343872 -0.9635655797787825, 0.26747219194820715L -0.9635655797787825, 0.26747219194820715 L -0.963397191954544, 0.26807806798412187 L -0.9632284231642981, 0.2686838380111833 ",
          "type": "path"
         },
         {
          "fillcolor": "#ca6f4c",
          "layer": "below",
          "line": {
           "color": "rgb(175,175,175)",
           "width": 0.5
          },
          "path": "M -0.9628048349007395,0.27019779771818947 Q -0.19734750313695437, 0.03246479640487195 -0.9986225918911248, 0.05246826626306719L -0.9986225918911248, 0.05246826626306719 L -0.9986067309905771, 0.05276927913391712 L -0.9985907793563057, 0.0530702872101332 M -0.9985907793563057,0.0530702872101332 Q -0.19734537252466294, 0.03247774535127109 -0.9629321612827327, 0.26974367975425345L -0.9629321612827327, 0.26974367975425345 L -0.9628685248637101, 0.2699707462425937 L -0.9628048349007395, 0.27019779771818947 ",
          "type": "path"
         },
         {
          "fillcolor": "#ca6f4c",
          "layer": "below",
          "line": {
           "color": "rgb(175,175,175)",
           "width": 0.5
          },
          "path": "M -0.9669334659502762,0.25502876783881884 Q -0.19986324982786233, -0.007394685134979768 -0.9454441238854187, -0.3257842976733735L -0.9454441238854187, -0.3257842976733735 L -0.9464292946218398, -0.3229111182378314 L -0.947405733865218, -0.32003495971425977 M -0.947405733865218,-0.32003495971425977 Q -0.19986822646616895, -0.00725892893395496 -0.9681255004469088, 0.250465597207326L -0.9681255004469088, 0.250465597207326 L -0.9675321733617381, 0.2527478852728774 L -0.9669334659502762, 0.25502876783881884 ",
          "type": "path"
         },
         {
          "fillcolor": "#ca6f4c",
          "layer": "below",
          "line": {
           "color": "rgb(175,175,175)",
           "width": 0.5
          },
          "path": "M -0.964401802084582,0.2644412300228743 Q -0.1986870641124138, -0.022879041815372682 -0.8790565233308993, -0.476717556619632L -0.8790565233308993, -0.476717556619632 L -0.8800342228831046, -0.4749102721088796 L -0.8810082067779439, -0.47310098244445825 M -0.8810082067779439,-0.47310098244445825 Q -0.1987016637850247, -0.022751896823408002 -0.9651462507599973, 0.26171112823859916L -0.9651462507599973, 0.26171112823859916 L -0.9647749921214868, 0.2630764424591929 L -0.964401802084582, 0.2644412300228743 ",
          "type": "path"
         },
         {
          "fillcolor": "#ca6f4c",
          "layer": "below",
          "line": {
           "color": "rgb(175,175,175)",
           "width": 0.5
          },
          "path": "M -0.9651462507599973,0.26171112823859916 Q -0.1889467014073224, -0.06556785818746987 -0.5955663731042872, -0.8033061030686901L -0.5955663731042872, -0.8033061030686901 L -0.5974271687299966, -0.8019231746640448 L -0.599284753154007, -0.8005359358811701 M -0.599284753154007,-0.8005359358811701 Q -0.1889955830732171, -0.06542682614046551 -0.9659643513344732, 0.25867522484956007L -0.9659643513344732, 0.25867522484956007 L -0.9655564942341612, 0.2601934980783267 L -0.9651462507599973, 0.26171112823859916 ",
          "type": "path"
         },
         {
          "fillcolor": "#ca6f4c",
          "layer": "below",
          "line": {
           "color": "rgb(175,175,175)",
           "width": 0.5
          },
          "path": "M -0.9659643513344732,0.25867522484956007 Q -0.16303215219646486, -0.11584695658578487 -0.07350019870025838, -0.9972952024305655L -0.07350019870025838, -0.9972952024305655 L -0.07537246038645645, -0.9971554503763653 L -0.07724445639268569, -0.9970121834544443 M -0.07724445639268569,-0.9970121834544443 Q -0.1630311036956999, -0.11584843213337828 -0.9669334659502762, 0.25502876783881884L -0.9669334659502762, 0.25502876783881884 L -0.966450628422487, 0.25685245340813867 L -0.9659643513344732, 0.25867522484956007 ",
          "type": "path"
         },
         {
          "fillcolor": "#ca6f4c",
          "layer": "below",
          "line": {
           "color": "rgb(175,175,175)",
           "width": 0.5
          },
          "path": "M -0.9732227950140796,0.22986385375909552 Q -0.14983193019773375, -0.13247789511168062 0.10893251075410536, -0.9940491477290279L 0.10893251075410536, -0.9940491477290279 L 0.09924549159980971, -0.9950629791109264 L 0.08954905740343691, -0.9959824126550408 M 0.08954905740343691,-0.9959824126550408 Q -0.1502571701796382, -0.13199538934980742 -0.9761392240671011, 0.21714560837759977L -0.9761392240671011, 0.21714560837759977 L -0.9747017537690492, 0.22350948794075795 L -0.9732227950140796, 0.22986385375909552 ",
          "type": "path"
         },
         {
          "fillcolor": "#ca6f4c",
          "layer": "below",
          "line": {
           "color": "rgb(175,175,175)",
           "width": 0.5
          },
          "path": "M -0.9626772943571252,0.2706518555806424 Q -0.10858663775345452, -0.1679551788466198 0.6419313157430648, -0.7667621442588162L 0.6419313157430648, -0.7667621442588162 L 0.6416688335958481, -0.7669818172497597 L 0.6414062762751388, -0.7672014003864046 M 0.6414062762751388,-0.7672014003864046 Q -0.10860451784869117, -0.16794361763060042 -0.9628048349007395, 0.27019779771818947L -0.9628048349007395, 0.27019779771818947 L -0.962741091397363, 0.27042483416841423 L -0.9626772943571252, 0.2706518555806424 ",
          "type": "path"
         },
         {
          "fillcolor": "#ca6f4c",
          "layer": "below",
          "line": {
           "color": "rgb(175,175,175)",
           "width": 0.5
          },
          "path": "M -0.9629321612827327,0.26974367975425345 Q -0.06852115008140595, -0.1878958541094546 0.9105220464654782, -0.41346052157408875L 0.9105220464654782, -0.41346052157408875 L 0.9102299287860569, -0.4141032199127771 L 0.9099373574535973, -0.41474571186495035 M 0.9099373574535973,-0.41474571186495035 Q -0.06855041118246315, -0.18788518070011598 -0.9632284231642981, 0.2686838380111833L -0.9632284231642981, 0.2686838380111833 L -0.9630804380141162, 0.26921379963615916 L -0.9629321612827327, 0.26974367975425345 ",
          "type": "path"
         },
         {
          "fillcolor": "#ca6f4c",
          "layer": "below",
          "line": {
           "color": "rgb(175,175,175)",
           "width": 0.5
          },
          "path": "M -0.9625069072077136,0.271257172398154 Q -0.05265137471149444, -0.19294515474867413 0.9668781435159515, -0.2552384289074572L 0.9668781435159515, -0.2552384289074572 L 0.9668533764052472, -0.25533223167820696 L 0.9668286001941614, -0.25542603204567543 M 0.9668286001941614,-0.25542603204567543 Q -0.05265492727010601, -0.19294418528211688 -0.9625495396802591, 0.271105853240614L -0.9625495396802591, 0.271105853240614 L -0.9625282264175988, 0.2711815136571657 L -0.9625069072077136, 0.271257172398154 ",
          "type": "path"
         },
         {
          "fillcolor": "#ca6f4c",
          "layer": "below",
          "line": {
           "color": "rgb(175,175,175)",
           "width": 0.5
          },
          "path": "M -0.9625921483633781,0.27095452738268866 Q -0.03804454666204817, -0.19634819191751995 0.9941311719699758, -0.10818138896132888L 0.9941311719699758, -0.10818138896132888 L 0.9941122305223296, -0.1083553096341787 L 0.9940932586477125, -0.10852922699057731 M 0.9940932586477125,-0.10852922699057731 Q -0.03804802967200653, -0.1963475170153117 -0.9626772943571252, 0.2706518555806424L -0.9626772943571252, 0.2706518555806424 L -0.9626347332560177, 0.27080319482811804 L -0.9625921483633781, 0.27095452738268866 ",
          "type": "path"
         },
         {
          "fillcolor": "#c45e3a",
          "layer": "below",
          "line": {
           "color": "rgb(175,175,175)",
           "width": 0.5
          },
          "path": "M -0.982617953450508,0.18563932114919912 Q -0.1998887605608003, 0.006669587803385029 -0.9928069350390974, -0.11972631180435417L -0.9928069350390974, -0.11972631180435417 L -0.9928797746788913, -0.11912074980285366 L -0.9929522449565362, -0.11851514348712928 M -0.9929522449565362,-0.11851514348712928 Q -0.19988844888038707, 0.00667892238260691 -0.9828264445497261, 0.18453232750318876L -0.9828264445497261, 0.18453232750318876 L -0.9827223548726053, 0.18508585368320654 L -0.982617953450508, 0.18563932114919912 ",
          "type": "path"
         },
         {
          "fillcolor": "#c45e3a",
          "layer": "below",
          "line": {
           "color": "rgb(175,175,175)",
           "width": 0.5
          },
          "path": "M -0.9838165659991193,0.17917858260880568 Q -0.1993748863942748, -0.015800464400454392 -0.9433132856822677, -0.3319036683366493L -0.9433132856822677, -0.3319036683366493 L -0.9443836612963705, -0.32884570892207504 L -0.9454441238854187, -0.3257842976733735 M -0.9454441238854187,-0.3257842976733735 Q -0.1993786097164065, -0.015753411933700515 -0.9848752680872008, 0.1732648444150295L -0.9848752680872008, 0.1732648444150295 L -0.984350358091262, 0.17622250856688024 L -0.9838165659991193, 0.17917858260880568 ",
          "type": "path"
         },
         {
          "fillcolor": "#c45e3a",
          "layer": "below",
          "line": {
           "color": "rgb(175,175,175)",
           "width": 0.5
          },
          "path": "M -0.9848752680872008,0.1732648444150295 Q -0.19716485739480305, -0.03355620670586868 -0.8721089367849697, -0.48931176399080134L -0.8721089367849697, -0.48931176399080134 L -0.8738905531440039, -0.4861227222889987 L -0.8756605081818081, -0.48292719369567255 M -0.8756605081818081,-0.48292719369567255 Q -0.19718659660606763, -0.033428223388567345 -0.9858984229249571, 0.16734485254731457L -0.9858984229249571, 0.16734485254731457 L -0.9853912912505111, 0.17030561684116724 L -0.9848752680872008, 0.1732648444150295 ",
          "type": "path"
         },
         {
          "fillcolor": "#c45e3a",
          "layer": "below",
          "line": {
           "color": "rgb(175,175,175)",
           "width": 0.5
          },
          "path": "M -0.988949924947473,0.14824994416993034 Q -0.18350871541875916, -0.07952704801108154 -0.5680394044317978, -0.8230013578438182L -0.5680394044317978, -0.8230013578438182 L -0.5717543031898145, -0.8204249001486544 L -0.5754575160863065, -0.817831674111353 M -0.5754575160863065,-0.817831674111353 Q -0.18357703516832594, -0.0793692141753163 -0.9900088869437196, 0.14100497782864754L -0.9900088869437196, 0.14100497782864754 L -0.9894860368771112, 0.1446284302107582 L -0.988949924947473, 0.14824994416993034 ",
          "type": "path"
         },
         {
          "fillcolor": "#c45e3a",
          "layer": "below",
          "line": {
           "color": "rgb(175,175,175)",
           "width": 0.5
          },
          "path": "M -0.982513240316553,0.18619272972559228 Q -0.15961773823285608, -0.12050799824670332 -0.09002879858533276, -0.9959391625120891L -0.09002879858533276, -0.9959391625120891 L -0.09026252690413511, -0.995918006784133 L -0.09049625025159502, -0.9958967962045067 M -0.09049625025159502,-0.9958967962045067 Q -0.15961208258770598, -0.12051548901288717 -0.982617953450508, 0.18563932114919912L -0.982617953450508, 0.18563932114919912 L -0.9825656358454389, 0.18591603280956806 L -0.982513240316553, 0.18619272972559228 ",
          "type": "path"
         },
         {
          "fillcolor": "#c45e3a",
          "layer": "below",
          "line": {
           "color": "rgb(175,175,175)",
           "width": 0.5
          },
          "path": "M -0.9910147736351109,0.13375245207826947 Q -0.1491985182362708, -0.1331908486199452 0.020901142792184836, -0.9997815472541893L 0.020901142792184836, -0.9997815472541893 L 0.016207995496357153, -0.9998686418135084 L 0.011514491086246635, -0.9999337060500685 M 0.011514491086246635,-0.9999337060500685 Q -0.1493235327027617, -0.13305067674073387 -0.991991261704693, 0.1263065188402058L -0.991991261704693, 0.1263065188402058 L -0.9915100072762596, 0.13003040210286076 L -0.9910147736351109, 0.13375245207826947 ",
          "type": "path"
         },
         {
          "fillcolor": "#c45e3a",
          "layer": "below",
          "line": {
           "color": "rgb(175,175,175)",
           "width": 0.5
          },
          "path": "M -0.9869465344231781,0.16104824801927695 Q -0.09687935730047416, -0.17496968345701225 0.6602878215002876, -0.7510126448858263L 0.6602878215002876, -0.7510126448858263 L 0.6573695837356902, -0.7535683315925407 L 0.6544414541061777, -0.7561126788696191 M 0.6544414541061777,-0.7561126788696191 Q -0.09699962711216034, -0.17490303696649137 -0.9879544320285616, 0.15474508145696328L -0.9879544320285616, 0.15474508145696328 L -0.9874555125676204, 0.15789746894683893 L -0.9869465344231781, 0.16104824801927695 ",
          "type": "path"
         },
         {
          "fillcolor": "#c45e3a",
          "layer": "below",
          "line": {
           "color": "rgb(175,175,175)",
           "width": 0.5
          },
          "path": "M -0.9824782666750048,0.18637718613413543 Q -0.06110564084943032, -0.1904366053477651 0.9074957625166808, -0.42006123483876495L 0.9074957625166808, -0.42006123483876495 L 0.9074533935142344, -0.42015275626788406 L 0.9074110152818033, -0.4202442734235017 M 0.9074110152818033,-0.4202442734235017 Q -0.061106970387479066, -0.190436178732046 -0.982513240316553, 0.18619272972559228L -0.982513240316553, 0.18619272972559228 L -0.982495757824572, 0.1862849587506196 L -0.9824782666750048, 0.18637718613413543 ",
          "type": "path"
         },
         {
          "fillcolor": "#c45e3a",
          "layer": "below",
          "line": {
           "color": "rgb(175,175,175)",
           "width": 0.5
          },
          "path": "M -0.9879544320285616,0.15474508145696328 Q -0.038237787620980464, -0.19631065074990914 0.9738082016892589, -0.22737103228584712L 0.9738082016892589, -0.22737103228584712 L 0.9730305262354023, -0.23067638590470413 L 0.9722416316017415, -0.23397907979215468 M 0.9722416316017415,-0.23397907979215468 Q -0.03825940326580319, -0.19630643917545 -0.988949924947473, 0.14824994416993034L -0.988949924947473, 0.14824994416993034 L -0.9884575134318124, 0.15149833048650507 L -0.9879544320285616, 0.15474508145696328 ",
          "type": "path"
         },
         {
          "fillcolor": "#c45e3a",
          "layer": "below",
          "line": {
           "color": "rgb(175,175,175)",
           "width": 0.5
          },
          "path": "M -0.9833763231093322,0.1815792035117743 Q -0.028147554387401477, -0.1980093815504919 0.9950220180249265, -0.09965532422105147L 0.9950220180249265, -0.09965532422105147 L 0.9949080497470495, -0.10078676772534413 L 0.9947927949006725, -0.10191808089690756 M 0.9947927949006725,-0.10191808089690756 Q -0.02813108811172138, -0.19801172157640207 -0.9838165659991193, 0.17917858260880568L -0.9838165659991193, 0.17917858260880568 L -0.9835971769402828, 0.18037902737044026 L -0.9833763231093322, 0.1815792035117743 ",
          "type": "path"
         },
         {
          "fillcolor": "#bf4d28",
          "layer": "below",
          "line": {
           "color": "rgb(175,175,175)",
           "width": 0.5
          },
          "path": "M -0.9994845467988124,-0.03210359341838061 Q -0.19817695585545692, -0.026942423199561652 -0.9717791906562351, -0.2358923580947733L -0.9717791906562351, -0.2358923580947733 L -0.9748115837715273, -0.2230299893396547 L -0.9776737397515161, -0.21012867153314604 M -0.9776737397515161,-0.21012867153314604 Q -0.19818107839246446, -0.02691208217882541 -0.9983049331133421, -0.05820017630184156L -0.9983049331133421, -0.05820017630184156 L -0.9989799594693918, -0.0451557369393131 L -0.9994845467988124, -0.03210359341838061 ",
          "type": "path"
         },
         {
          "fillcolor": "#bf4d28",
          "layer": "below",
          "line": {
           "color": "rgb(175,175,175)",
           "width": 0.5
          },
          "path": "M -0.9986225918911248,0.05246826626306719 Q -0.19845480091293008, -0.024813141570734103 -0.9549619548595646, -0.2967282675627635L -0.9549619548595646, -0.2967282675627635 L -0.9551120456573238, -0.296244797828219 L -0.9552618916882977, -0.29576125217495103 M -0.9552618916882977,-0.29576125217495103 Q -0.19845489637556965, -0.024812378051325804 -0.9986748062420596, 0.05146485575015887L -0.9986748062420596, 0.05146485575015887 L -0.9986488250909633, 0.05196656756452814 L -0.9986225918911248, 0.05246826626306719 ",
          "type": "path"
         },
         {
          "fillcolor": "#bf4d28",
          "layer": "below",
          "line": {
           "color": "rgb(175,175,175)",
           "width": 0.5
          },
          "path": "M -0.9988058449509293,0.04885574778733973 Q -0.1953267256712517, -0.042982208395423147 -0.8860340389571296, -0.46362019133048527L -0.8860340389571296, -0.46362019133048527 L -0.8865098930638611, -0.4627096384341929 L -0.8869848114206533, -0.46179859712765275 M -0.8869848114206533,-0.46179859712765275 Q -0.1953320155270023, -0.04295816232288034 -0.9988925710312878, 0.04704924588666327L -0.9988925710312878, 0.04704924588666327 L -0.9988496163921494, 0.04795251644341403 L -0.9988058449509293, 0.04885574778733973 ",
          "type": "path"
         },
         {
          "fillcolor": "#bf4d28",
          "layer": "below",
          "line": {
           "color": "rgb(175,175,175)",
           "width": 0.5
          },
          "path": "M -0.9998091789377728,0.01953473091129569 Q -0.17839976616331762, -0.09040754079651539 -0.5754575160863065, -0.817831674111353L -0.5754575160863065, -0.817831674111353 L -0.5790544623776233, -0.8152888626741823 L -0.5826401727467462, -0.8127302314431534 M -0.5826401727467462,-0.8127302314431534 Q -0.1784527930698859, -0.09030282745050949 -0.9999291989837092, 0.011899454600843984L -0.9999291989837092, 0.011899454600843984 L -0.9998764770680898, 0.015717207318915138 L -0.9998091789377728, 0.01953473091129569 ",
          "type": "path"
         },
         {
          "fillcolor": "#bf4d28",
          "layer": "below",
          "line": {
           "color": "rgb(175,175,175)",
           "width": 0.5
          },
          "path": "M -0.998526065511094,0.054274271021677145 Q -0.15122734402717514, -0.13088273537211248 -0.08956132708518921, -0.9959813094083341L -0.08956132708518921, -0.9959813094083341 L -0.08979506530806002, -0.9959602633872102 L -0.09002879858533276, -0.9959391625120891 M -0.09002879858533276,-0.9959391625120891 Q -0.15121860770765252, -0.13089282899746302 -0.9985586038923975, 0.05367228886926727L -0.9985586038923975, 0.05367228886926727 L -0.9985423800656841, 0.05397328239748719 L -0.998526065511094, 0.054274271021677145 ",
          "type": "path"
         },
         {
          "fillcolor": "#bf4d28",
          "layer": "below",
          "line": {
           "color": "rgb(175,175,175)",
           "width": 0.5
          },
          "path": "M -0.9996470555636581,0.026566224852406593 Q -0.14248186106039928, -0.14035283847776314 0.011514491086246635, -0.9999337060500685L 0.011514491086246635, -0.9999337060500685 L 0.007407463078294284, -0.9999725643690149 L 0.003300310112447942, -0.9999945539617512 M 0.003300310112447942,-0.9999945539617512 Q -0.14256471822864433, -0.14026867475094804 -0.9998091789377728, 0.01953473091129569L -0.9998091789377728, 0.01953473091129569 L -0.99973429915074, 0.023050620416353595 L -0.9996470555636581, 0.026566224852406593 ",
          "type": "path"
         },
         {
          "fillcolor": "#bf4d28",
          "layer": "below",
          "line": {
           "color": "rgb(175,175,175)",
           "width": 0.5
          },
          "path": "M -0.9983049331133421,-0.05820017630184156 Q -0.05833244134016994, -0.1913042767093711 0.7959861326822878, -0.6053148573903464L 0.7959861326822878, -0.6053148573903464 L 0.7860753458762081, -0.6181306905546754 L 0.775958238444149, -0.6307842834049158 M 0.775958238444149,-0.6307842834049158 Q -0.05870219454462158, -0.19119114089215905 -0.9962379749552769, -0.08665966337927454L -0.9962379749552769, -0.08665966337927454 L -0.9973729686696364, -0.07243729265451922 L -0.9983049331133421, -0.05820017630184156 ",
          "type": "path"
         },
         {
          "fillcolor": "#bf4d28",
          "layer": "below",
          "line": {
           "color": "rgb(175,175,175)",
           "width": 0.5
          },
          "path": "M -0.9987361326067167,0.05026069464083054 Q -0.047340910485553, -0.1943163353771341 0.9099373574535973, -0.41474571186495035L 0.9099373574535973, -0.41474571186495035 L 0.9096443326139154, -0.4153879971103936 L 0.9093508544130537, -0.41603007532899494 M 0.9093508544130537,-0.41603007532899494 Q -0.04734142201779357, -0.19431621075281694 -0.9988058449509293, 0.04885574778733973L -0.9988058449509293, 0.04885574778733973 L -0.9987712358168627, 0.04955823347191597 L -0.9987361326067167, 0.05026069464083054 ",
          "type": "path"
         },
         {
          "fillcolor": "#bf4d28",
          "layer": "below",
          "line": {
           "color": "rgb(175,175,175)",
           "width": 0.5
          },
          "path": "M -0.9998988372458802,-0.01422375739165747 Q -0.01443985235198004, -0.19947804556906262 0.987425895735005, -0.15808257472575202L 0.987425895735005, -0.15808257472575202 L 0.986024132752611, -0.16660254988883366 L 0.9845488568235908, -0.17511010401276236 M 0.9845488568235908,-0.17511010401276236 Q -0.014378434166284315, -0.19948248201515298 -0.9994845467988124, -0.03210359341838061L -0.9994845467988124, -0.03210359341838061 L -0.999731664614354, -0.023164601602719544 L -0.9998988372458802, -0.01422375739165747 ",
          "type": "path"
         },
         {
          "fillcolor": "#bf4d28",
          "layer": "below",
          "line": {
           "color": "rgb(175,175,175)",
           "width": 0.5
          },
          "path": "M -0.9999291989837092,0.011899454600843984 Q -0.007688693329964225, -0.19985215534208722 0.9978878442487754, -0.06496037484907002L 0.9978878442487754, -0.06496037484907002 L 0.9976062946336385, -0.06914969925706196 L 0.9973071575096498, -0.07333780457596605 M 0.9973071575096498,-0.07333780457596605 Q -0.007563962227749657, -0.19985691500525365 -0.9999974598310203, 0.0022539590739324706L -0.9999974598310203, 0.0022539590739324706 L -0.9999749592142054, 0.007076789141140164 L -0.9999291989837092, 0.011899454600843984 ",
          "type": "path"
         },
         {
          "fillcolor": "#af4624",
          "layer": "below",
          "line": {
           "color": "rgb(175,175,175)",
           "width": 0.5
          },
          "path": "M -0.9924122199687241,-0.1229552180948365 Q -0.19531285136270557, -0.04304520986787826 -0.95215664521802, -0.3056104104364992L -0.95215664521802, -0.3056104104364992 L -0.952527245390904, -0.3044533573275492 L -0.952896439522714, -0.3032958548100099 M -0.952896439522714,-0.3032958548100099 Q -0.1953126404968822, -0.043046166636945146 -0.992109291925895, -0.125376045855256L -0.992109291925895, -0.125376045855256 L -0.9922614942115247, -0.12416572435705579 L -0.9924122199687241, -0.1229552180948365 ",
          "type": "path"
         },
         {
          "fillcolor": "#af4624",
          "layer": "below",
          "line": {
           "color": "rgb(175,175,175)",
           "width": 0.5
          },
          "path": "M -0.992109291925895,-0.125376045855256 Q -0.1906297572287325, -0.060500377345224225 -0.8828378018214771, -0.46967799147396977L -0.8828378018214771, -0.46967799147396977 L -0.8836941875587591, -0.46806472081846195 L -0.8845476252579979, -0.46644988868091347 M -0.8845476252579979,-0.46644988868091347 Q -0.19064185414637172, -0.0604622481192482 -0.9916962023101342, -0.1286026528639955L -0.9916962023101342, -0.1286026528639955 L -0.9919040591148225, -0.12698951732934 L -0.992109291925895, -0.125376045855256 ",
          "type": "path"
         },
         {
          "fillcolor": "#af4624",
          "layer": "below",
          "line": {
           "color": "rgb(175,175,175)",
           "width": 0.5
          },
          "path": "M -0.9880141002182424,-0.15436365430352053 Q -0.1703056486167659, -0.10486174731150853 -0.5826401727467462, -0.8127302314431534L -0.5826401727467462, -0.8127302314431534 L -0.586026734022655, -0.8102917172295051 L -0.5894030895557634, -0.8078390916649929 M -0.5894030895557634,-0.8078390916649929 Q -0.17035948179433757, -0.10477426670115507 -0.9868578399213367, -0.16159085303875764L -0.9868578399213367, -0.16159085303875764 L -0.9874425821727844, -0.157978311523905 L -0.9880141002182424, -0.15436365430352053 ",
          "type": "path"
         },
         {
          "fillcolor": "#af4624",
          "layer": "below",
          "line": {
           "color": "rgb(175,175,175)",
           "width": 0.5
          },
          "path": "M -0.9930243458450725,-0.11790949308247373 Q -0.13945890386092882, -0.14335694658407114 -0.09049625025159502, -0.9958967962045067L -0.09049625025159502, -0.9958967962045067 L -0.09072996861483894, -0.9958755307743786 L -0.0909636819809936, -0.9958542104949201 M -0.0909636819809936,-0.9958542104949201 Q -0.13944882843419468, -0.14336674735910887 -0.9929522449565362, -0.11851514348712928L -0.9929522449565362, -0.11851514348712928 L -0.9929883415761226, -0.1182123237818365 L -0.9930243458450725, -0.11790949308247373 ",
          "type": "path"
         },
         {
          "fillcolor": "#af4624",
          "layer": "below",
          "line": {
           "color": "rgb(175,175,175)",
           "width": 0.5
          },
          "path": "M -0.9889974562473177,-0.1479325235921259 Q -0.13029230857944127, -0.15173633159213934 0.003300310112447942, -0.9999945539617512L 0.003300310112447942, -0.9999945539617512 L -0.0004548516229863464, -0.9999998965549952 L -0.0042100069444350185, -0.9999911378814953 M -0.0042100069444350185,-0.9999911378814953 Q -0.13036849772154277, -0.1516708765776347 -0.9880141002182424, -0.15436365430352053L -0.9880141002182424, -0.15436365430352053 L -0.9885110082645266, -0.15114888864907008 L -0.9889974562473177, -0.1479325235921259 ",
          "type": "path"
         },
         {
          "fillcolor": "#af4624",
          "layer": "below",
          "line": {
           "color": "rgb(175,175,175)",
           "width": 0.5
          },
          "path": "M -0.9717791906562351,-0.2358923580947733 Q -0.037533006908528795, -0.1964466171569374 0.8163661735461475, -0.5775346489082896L 0.8163661735461475, -0.5775346489082896 L 0.8062958048048281, -0.5915125316966112 L 0.7959861326822878, -0.6053148573903464 M 0.7959861326822878,-0.6053148573903464 Q -0.03790188294345845, -0.1963757807606131 -0.9640806130465454, -0.265609810714509L -0.9640806130465454, -0.265609810714509 L -0.968043943550908, -0.25078062794882416 L -0.9717791906562351, -0.2358923580947733 ",
          "type": "path"
         },
         {
          "fillcolor": "#af4624",
          "layer": "below",
          "line": {
           "color": "rgb(175,175,175)",
           "width": 0.5
          },
          "path": "M -0.9926355396236907,-0.1211391162093588 Q -0.030184092249179773, -0.1977091818178736 0.9112711220937962, -0.41180692325155677L 0.9112711220937962, -0.41180692325155677 L 0.9108969595125251, -0.4126338923923204 L 0.9105220464654782, -0.41346052157408875 M 0.9105220464654782,-0.41346052157408875 Q -0.03018266586402929, -0.19770939957761333 -0.9924122199687241, -0.1229552180948365L -0.9924122199687241, -0.1229552180948365 L -0.9925242951798363, -0.12204721823035986 L -0.9926355396236907, -0.1211391162093588 ",
          "type": "path"
         },
         {
          "fillcolor": "#af4624",
          "layer": "below",
          "line": {
           "color": "rgb(175,175,175)",
           "width": 0.5
          },
          "path": "M -0.9837360458550993,-0.17962013273955096 Q -0.0009387775354104442, -0.19999779672971152 0.9820064824867482, -0.18884720901830687L 0.9820064824867482, -0.18884720901830687 L 0.9807203083549547, -0.19541667477511343 L 0.9793901860628715, -0.201977383495613 M 0.9793901860628715,-0.201977383495613 Q -0.000874785731717944, -0.19999808686565876 -0.9811195645729599, -0.19340217168420223L -0.9811195645729599, -0.19340217168420223 L -0.9824519726719588, -0.18651574033570642 L -0.9837360458550993, -0.17962013273955096 ",
          "type": "path"
         },
         {
          "fillcolor": "#af4624",
          "layer": "below",
          "line": {
           "color": "rgb(175,175,175)",
           "width": 0.5
          },
          "path": "M -0.9854766027137627,-0.16981126436058577 Q 0.011414245084365275, -0.19967402186852962 0.9984080444614701, -0.05640369451217825L 0.9984080444614701, -0.05640369451217825 L 0.998157113391952, -0.06068259210882348 L 0.9978878442487754, -0.06496037484907002 M 0.9978878442487754,-0.06496037484907002 Q 0.011552979475996164, -0.19966604284461398 -0.9837360458550993, -0.17962013273955096L -0.9837360458550993, -0.17962013273955096 L -0.9846185389761951, -0.17471786601370487 L -0.9854766027137627, -0.16981126436058577 ",
          "type": "path"
         },
         {
          "fillcolor": "#9f4021",
          "layer": "below",
          "line": {
           "color": "rgb(175,175,175)",
           "width": 0.5
          },
          "path": "M -0.9291018825757114,-0.3698238659068248 Q -0.176355511410774, -0.0943330991489433 -0.8233328619784884, -0.5675588061040999L -0.8233328619784884, -0.5675588061040999 L -0.8293118001555262, -0.5587861291431638 L -0.8351972686207787, -0.5499504727594939 M -0.8351972686207787,-0.5499504727594939 Q -0.17646863377583413, -0.09412131157867772 -0.9219730999644741, -0.3872539256636372L -0.9219730999644741, -0.3872539256636372 L -0.92557852151631, -0.3785556768926885 L -0.9291018825757114, -0.3698238659068248 ",
          "type": "path"
         },
         {
          "fillcolor": "#9f4021",
          "layer": "below",
          "line": {
           "color": "rgb(175,175,175)",
           "width": 0.5
          },
          "path": "M -0.9390721577639567,-0.3437200641692982 Q -0.15475511126747146, -0.12669197108180347 -0.5223793137145508, -0.852713229991839L -0.5223793137145508, -0.852713229991839 L -0.5291829884734266, -0.8485077281382494 L -0.5359528080965101, -0.8442479419539413 M -0.5359528080965101,-0.8442479419539413 Q -0.1548833129229121, -0.12653521003271498 -0.9341782021467039, -0.3568067917430274L -0.9341782021467039, -0.3568067917430274 L -0.9366480359964474, -0.3502719752763526 L -0.9390721577639567, -0.3437200641692982 ",
          "type": "path"
         },
         {
          "fillcolor": "#9f4021",
          "layer": "below",
          "line": {
           "color": "rgb(175,175,175)",
           "width": 0.5
          },
          "path": "M -0.95215664521802,-0.3056104104364992 Q -0.12447006755610134, -0.15654776358217187 -0.0831706160295114, -0.996535322318919L -0.0831706160295114, -0.996535322318919 L -0.08426196257522652, -0.9964436369724938 L -0.08535320805348041, -0.9963507564482396 M -0.08535320805348041,-0.9963507564482396 Q -0.1244196125107202, -0.15658786677990807 -0.951286446620594, -0.30830844373121485L -0.951286446620594, -0.30830844373121485 L -0.9517225019999005, -0.3069597354492106 L -0.95215664521802, -0.3056104104364992 ",
          "type": "path"
         },
         {
          "fillcolor": "#9f4021",
          "layer": "below",
          "line": {
           "color": "rgb(175,175,175)",
           "width": 0.5
          },
          "path": "M -0.9126233429547769,-0.40880146023962266 Q -0.0967611465249804, -0.17503508369230233 0.1392062794052998, -0.9902634052483883L 0.1392062794052998, -0.9902634052483883 L 0.12408383358429755, -0.9922717381055576 L 0.10893251075410536, -0.9940491477290279 M 0.10893251075410536,-0.9940491477290279 Q -0.09712734435602058, -0.17483214515170545 -0.9015470974995774, -0.4326809806197719L -0.9015470974995774, -0.4326809806197719 L -0.9071637970223366, -0.42077766738744216 L -0.9126233429547769, -0.40880146023962266 ",
          "type": "path"
         },
         {
          "fillcolor": "#9f4021",
          "layer": "below",
          "line": {
           "color": "rgb(175,175,175)",
           "width": 0.5
          },
          "path": "M -0.9491412924376329,-0.3148504517859549 Q -0.05306226038941615, -0.19283256084584316 0.6544414541061777, -0.7561126788696191L 0.6544414541061777, -0.7561126788696191 L 0.652109157253224, -0.7581250866621484 L 0.6497706722797192, -0.7601303003072314 M 0.6497706722797192,-0.7601303003072314 Q -0.05312913877493654, -0.1928141452617871 -0.947405733865218, -0.32003495971425977L -0.947405733865218, -0.32003495971425977 L -0.948277056310634, -0.3174438918530939 L -0.9491412924376329, -0.3148504517859549 ",
          "type": "path"
         },
         {
          "fillcolor": "#9f4021",
          "layer": "below",
          "line": {
           "color": "rgb(175,175,175)",
           "width": 0.5
          },
          "path": "M -0.9549619548595646,-0.2967282675627635 Q -0.01301389396927675, -0.19957614728157377 0.9083412036058599, -0.4182299102549431L 0.9083412036058599, -0.4182299102549431 L 0.9081301896623983, -0.41868790121489835 L 0.9079189447972276, -0.41914578570980393 M 0.9079189447972276,-0.41914578570980393 Q -0.013013501406358673, -0.19957617287929616 -0.954661039117608, -0.2976949787801078L -0.954661039117608, -0.2976949787801078 L -0.9548116193334839, -0.2972116612546861 L -0.9549619548595646, -0.2967282675627635 ",
          "type": "path"
         },
         {
          "fillcolor": "#9f4021",
          "layer": "below",
          "line": {
           "color": "rgb(175,175,175)",
           "width": 0.5
          },
          "path": "M -0.9541775385612722,-0.2992410815799726 Q 0.005123026751799299, -0.1999343757258875 0.968250570350127, -0.24998166536098956L 0.968250570350127, -0.24998166536098956 L 0.9680319282121508, -0.2508270040523256 L 0.967812548044805, -0.2516721515126812 M 0.967812548044805,-0.2516721515126812 Q 0.005130636295523799, -0.1999341805975233 -0.9536306074852936, -0.30097950838425824L -0.9536306074852936, -0.30097950838425824 L -0.9539044690441215, -0.30011041957528345 L -0.9541775385612722, -0.2992410815799726 ",
          "type": "path"
         },
         {
          "fillcolor": "#9f4021",
          "layer": "below",
          "line": {
           "color": "rgb(175,175,175)",
           "width": 0.5
          },
          "path": "M -0.9503456074053617,-0.31119644356151327 Q 0.02195116222070416, -0.19879171631926804 0.9953477778551766, -0.09634729429912416L 0.9953477778551766, -0.09634729429912416 L 0.995186272440211, -0.09800144461464905 L 0.9950220180249265, -0.09965532422105147 M 0.9950220180249265,-0.09965532422105147 Q 0.022003177931401545, -0.19878596570411877 -0.9491412924376329, -0.3148504517859549L -0.9491412924376329, -0.3148504517859549 L -0.949745207207077, -0.31302402685287006 L -0.9503456074053617, -0.31119644356151327 ",
          "type": "path"
         },
         {
          "fillcolor": "#8f391e",
          "layer": "below",
          "line": {
           "color": "rgb(175,175,175)",
           "width": 0.5
          },
          "path": "M -0.8001423613251437,-0.5998101379711943 Q -0.11645198728048418, -0.1626005370791436 -0.3102716978180309, -0.9506479230152015L -0.3102716978180309, -0.9506479230152015 L -0.3475976960650471, -0.9376437712107254 L -0.3843806291848003, -0.9231747028095478 M -0.3843806291848003,-0.9231747028095478 Q -0.11654986475199423, -0.16253039416149787 -0.7510683086187676, -0.6602245040806526L -0.7510683086187676, -0.6602245040806526 L -0.7761933454655878, -0.6304949567244282 L -0.8001423613251437, -0.5998101379711943 ",
          "type": "path"
         },
         {
          "fillcolor": "#8f391e",
          "layer": "below",
          "line": {
           "color": "rgb(175,175,175)",
           "width": 0.5
          },
          "path": "M -0.8721089367849697,-0.48931176399080134 Q -0.10616418589722576, -0.16949680124645214 -0.05960661220704326, -0.9982219451510767L -0.05960661220704326, -0.9982219451510767 L -0.062339494914929315, -0.9980550021786132 L -0.06507191029367802, -0.9978805772690095 M -0.06507191029367802,-0.9978805772690095 Q -0.10595096768225516, -0.16963016373037468 -0.8681711117246441, -0.49626497032008565L -0.8681711117246441, -0.49626497032008565 L -0.8701469695285506, -0.4927923004880247 L -0.8721089367849697, -0.48931176399080134 ",
          "type": "path"
         },
         {
          "fillcolor": "#8f391e",
          "layer": "below",
          "line": {
           "color": "rgb(175,175,175)",
           "width": 0.5
          },
          "path": "M -0.7510683086187676,-0.6602245040806526 Q -0.04180010755261785, -0.1955831051205333 0.41557334153409875, -0.9095596724823409L 0.41557334153409875, -0.9095596724823409 L 0.3786362151833526, -0.9255455777818972 L 0.3410857358491799, -0.9400321913637977 M 0.3410857358491799,-0.9400321913637977 Q -0.04201433937003441, -0.19553719668467068 -0.6971168602492166, -0.7169575183762802L -0.6971168602492166, -0.7169575183762802 L -0.7246480039026293, -0.6891191990069171 L -0.7510683086187676, -0.6602245040806526 ",
          "type": "path"
         },
         {
          "fillcolor": "#8f391e",
          "layer": "below",
          "line": {
           "color": "rgb(175,175,175)",
           "width": 0.5
          },
          "path": "M -0.8681711117246441,-0.49626497032008565 Q -0.030559829823623003, -0.19765145281821533 0.6777548690778656, -0.7352879282575263L 0.6777548690778656, -0.7352879282575263 L 0.6732119447348285, -0.7394495773657257 L 0.668643466959573, -0.7435831588277685 M 0.668643466959573,-0.7435831588277685 Q -0.030559156755412792, -0.1976515568833145 -0.8619869558887792, -0.5069304566482428L -0.8619869558887792, -0.5069304566482428 L -0.8650954703855567, -0.501607243885485 L -0.8681711117246441, -0.49626497032008565 ",
          "type": "path"
         },
         {
          "fillcolor": "#8f391e",
          "layer": "below",
          "line": {
           "color": "rgb(175,175,175)",
           "width": 0.5
          },
          "path": "M -0.8790565233308993,-0.476717556619632 Q 0.008415490842649793, -0.19982287034740864 0.9160263545925981, -0.4011180844736319L 0.9160263545925981, -0.4011180844736319 L 0.9147678083384532, -0.40398002033227226 L 0.9135003205806795, -0.4068380074415317 M 0.9135003205806795,-0.4068380074415317 Q 0.008497891307376859, -0.19981938305211538 -0.8756605081818081, -0.48292719369567255L -0.8756605081818081, -0.48292719369567255 L -0.8773640094443957, -0.47982537962435273 L -0.8790565233308993, -0.476717556619632 ",
          "type": "path"
         },
         {
          "fillcolor": "#8f391e",
          "layer": "below",
          "line": {
           "color": "rgb(175,175,175)",
           "width": 0.5
          },
          "path": "M -0.8875114003895754,-0.46078575735208527 Q 0.022072358940599335, -0.19877829602549002 0.9669771209502949, -0.254863193809304L 0.9669771209502949, -0.254863193809304 L 0.9669276504352838, -0.2550508161596461 L 0.9668781435159515, -0.2552384289074572 M 0.9668781435159515,-0.2552384289074572 Q 0.022079172177695353, -0.19877753936485804 -0.8873009035498423, -0.46119096539246457L -0.8873009035498423, -0.46119096539246457 L -0.8874061750980072, -0.4609883733869272 L -0.8875114003895754, -0.46078575735208527 ",
          "type": "path"
         },
         {
          "fillcolor": "#8f391e",
          "layer": "below",
          "line": {
           "color": "rgb(175,175,175)",
           "width": 0.5
          },
          "path": "M -0.8873009035498423,-0.46119096539246457 Q 0.03693362057382787, -0.19656018841898917 0.9941878137452966, -0.10765960709731093L 0.9941878137452966, -0.10765960709731093 L 0.994159527089607, -0.10792050174535475 L 0.9941311719699758, -0.10818138896132888 M 0.9941311719699758,-0.10818138896132888 Q 0.03694935351130121, -0.1965572315512632 -0.8869848114206533, -0.46179859712765275L -0.8869848114206533, -0.46179859712765275 L -0.8871429095084805, -0.46149480832272416 L -0.8873009035498423, -0.46119096539246457 ",
          "type": "path"
         },
         {
          "fillcolor": "#f0f3e7",
          "layer": "below",
          "line": {
           "color": "rgb(175,175,175)",
           "width": 0.5
          },
          "path": "M -0.558845733957394,-0.8292716356162325 Q -0.06280576229652172, -0.1898826906865205 -0.04585776039334089, -0.9989479795323213L -0.04585776039334089, -0.9989479795323213 L -0.049764681655243496, -0.99876097063299 L -0.053670841566979134, -0.9985586816835014 M -0.053670841566979134,-0.9985586816835014 Q -0.062447789761620166, -0.19000071987729017 -0.5491954178177021, -0.835693958963471L -0.5491954178177021, -0.835693958963471 L -0.5540298819252122, -0.832496780734878 L -0.558845733957394, -0.8292716356162325 ",
          "type": "path"
         },
         {
          "fillcolor": "#f0f3e7",
          "layer": "below",
          "line": {
           "color": "rgb(175,175,175)",
           "width": 0.5
          },
          "path": "M -0.3102716978180309,-0.9506479230152015 Q 0.020823822860469677, -0.19891296690129526 0.5004298046202984, -0.8657771137236708L 0.5004298046202984, -0.8657771137236708 L 0.45852444760781613, -0.8886817939768695 L 0.41557334153409875, -0.9095596724823409 M 0.41557334153409875,-0.9095596724823409 Q 0.02070819725433723, -0.1989250375555462 -0.2193217905948673, -0.975652577596278L -0.2193217905948673, -0.975652577596278 L -0.26509172738887077, -0.964223198263755 L -0.3102716978180309, -0.9506479230152015 ",
          "type": "path"
         },
         {
          "fillcolor": "#f0f3e7",
          "layer": "below",
          "line": {
           "color": "rgb(175,175,175)",
           "width": 0.5
          },
          "path": "M -0.4824962166903827,-0.8758980539306314 Q 0.03823620257205745, -0.19631095948231875 0.775958238444149, -0.6307842834049158L 0.775958238444149, -0.6307842834049158 L 0.7663708903471066, -0.6423983642791933 L 0.7566097261761513, -0.6538667465589983 M 0.7566097261761513,-0.6538667465589983 Q 0.03828358846685073, -0.19630172402223273 -0.4554692869304404, -0.8902514974225407L -0.4554692869304404, -0.8902514974225407 L -0.4690376603543529, -0.8831781661529653 L -0.4824962166903827, -0.8758980539306314 ",
          "type": "path"
         },
         {
          "fillcolor": "#f0f3e7",
          "layer": "below",
          "line": {
           "color": "rgb(175,175,175)",
           "width": 0.5
          },
          "path": "M -0.5491954178177021,-0.835693958963471 Q 0.060802752509634794, -0.1905335279872078 0.9317515166971663, -0.36309655896542226L 0.9317515166971663, -0.36309655896542226 L 0.9292395103731681, -0.36947791863849566 L 0.9266838001243068, -0.37584190105305426 M 0.9266838001243068,-0.37584190105305426 Q 0.06099794482467983, -0.19047112832963772 -0.5359528080965101, -0.8442479419539413L -0.5359528080965101, -0.8442479419539413 L -0.5425909699833208, -0.8399970471927619 L -0.5491954178177021, -0.835693958963471 ",
          "type": "path"
         },
         {
          "fillcolor": "#f0f3e7",
          "layer": "below",
          "line": {
           "color": "rgb(175,175,175)",
           "width": 0.5
          },
          "path": "M -0.6026202810291135,-0.7980280677347084 Q 0.06654087548392852, -0.18860623502374552 0.9699731185116823, -0.24321214888389509L 0.9699731185116823, -0.24321214888389509 L 0.9695469152658153, -0.24490565346382284 L 0.9691177552829188, -0.24659841117776218 M 0.9691177552829188,-0.24659841117776218 Q 0.06660504716147435, -0.18858358277596113 -0.599284753154007, -0.8005359358811701L -0.599284753154007, -0.8005359358811701 L -0.6009538253055238, -0.7992837417654997 L -0.6026202810291135, -0.7980280677347084 ",
          "type": "path"
         },
         {
          "fillcolor": "#f0f3e7",
          "layer": "below",
          "line": {
           "color": "rgb(175,175,175)",
           "width": 0.5
          },
          "path": "M -0.5955663731042872,-0.8033061030686901 Q 0.08260528761550445, -0.18214380708099792 0.9966988901658833, -0.08118695918739946L 0.9966988901658833, -0.08118695918739946 L 0.9964603787190117, -0.08406374749655027 L 0.9962135639684057, -0.0869398353194164 M 0.9962135639684057,-0.0869398353194164 Q 0.08277623450552962, -0.1820661830244309 -0.5894030895557634, -0.8078390916649929L -0.5894030895557634, -0.8078390916649929 L -0.5924890664439435, -0.8055784916098395 L -0.5955663731042872, -0.8033061030686901 ",
          "type": "path"
         },
         {
          "fillcolor": "#e2ecde",
          "layer": "below",
          "line": {
           "color": "rgb(175,175,175)",
           "width": 0.5
          },
          "path": "M -0.04585776039334089,-0.9989479795323213 Q 0.0010233469561742687, -0.19999738188538194 0.056077929112858624, -0.9984263948165699L 0.056077929112858624, -0.9984263948165699 L 0.04892952921957156, -0.998802233262597 L 0.04177862213436686, -0.9991268922076684 M 0.04177862213436686,-0.9991268922076684 Q 0.0005460738809102243, -0.1999992545069021 -0.03632204856348554, -0.9993401366842782L -0.03632204856348554, -0.9993401366842782 L -0.04109037231339089, -0.9991554340057142 L -0.04585776039334089, -0.9989479795323213 ",
          "type": "path"
         },
         {
          "fillcolor": "#e2ecde",
          "layer": "below",
          "line": {
           "color": "rgb(175,175,175)",
           "width": 0.5
          },
          "path": "M -0.0802078905980598,-0.9967781570067683 Q 0.061112263454752916, -0.19043448021678447 0.6452495699227698, -0.763971853221361L 0.6452495699227698, -0.763971853221361 L 0.6435919549970222, -0.7653687970273618 L 0.6419313157430648, -0.7667621442588162 M 0.6419313157430648,-0.7667621442588162 Q 0.06098248352376141, -0.19047607908415737 -0.07724445639268569, -0.9970121834544443L -0.07724445639268569, -0.9970121834544443 L -0.07872626045556853, -0.996896271391704 L -0.0802078905980598, -0.9967781570067683 ",
          "type": "path"
         },
         {
          "fillcolor": "#e2ecde",
          "layer": "below",
          "line": {
           "color": "rgb(175,175,175)",
           "width": 0.5
          },
          "path": "M -0.08847048369827497,-0.9960787988478589 Q 0.10051373561263635, -0.1729074577720494 0.9093508544130537, -0.41603007532899494L 0.9093508544130537, -0.41603007532899494 L 0.9090569229972794, -0.4166719462007474 L 0.9087625385130856, -0.41731360940574713 M 0.9087625385130856,-0.41731360940574713 Q 0.10048635019759311, -0.17292337442915773 -0.0873795341960154, -0.9961750935471572L -0.0873795341960154, -0.9961750935471572 L -0.0879250221297826, -0.9961270955472887 L -0.08847048369827497, -0.9960787988478589 ",
          "type": "path"
         },
         {
          "fillcolor": "#e2ecde",
          "layer": "below",
          "line": {
           "color": "rgb(175,175,175)",
           "width": 0.5
          },
          "path": "M -0.08956132708518921,-0.9959813094083341 Q 0.11512260115391729, -0.1635444487090775 0.967812548044805, -0.2516721515126812L 0.967812548044805, -0.2516721515126812 L 0.9676414088902797, -0.25232935580473903 L 0.967469823453642, -0.2529864437209608 M 0.967469823453642,-0.2529864437209608 Q 0.11510108980971522, -0.16355958891063488 -0.08847048369827497, -0.9960787988478589L -0.08847048369827497, -0.9960787988478589 L -0.08901591873792902, -0.99603020346335 L -0.08956132708518921, -0.9959813094083341 ",
          "type": "path"
         },
         {
          "fillcolor": "#e2ecde",
          "layer": "below",
          "line": {
           "color": "rgb(175,175,175)",
           "width": 0.5
          },
          "path": "M -0.09127529200703681,-0.9958256981364912 Q 0.12658496390161014, -0.1548426521150683 0.9940932586477125, -0.10852922699057731L 0.9940932586477125, -0.10852922699057731 L 0.9940742563467052, -0.10870314102520244 L 0.9940552236198893, -0.10887705173273197 M 0.9940552236198893,-0.10887705173273197 Q 0.12658210034383072, -0.15484499304964425 -0.0909636819809936, -0.9958542104949201L -0.0909636819809936, -0.9958542104949201 L -0.09111948810924715, -0.9958399665040105 L -0.09127529200703681, -0.9958256981364912 ",
          "type": "path"
         },
         {
          "fillcolor": "#d4e5d6",
          "layer": "below",
          "line": {
           "color": "rgb(175,175,175)",
           "width": 0.5
          },
          "path": "M 0.17073814978727284,-0.9853164386161528 Q 0.10975613590267114, -0.16719327328488545 0.8361527882291832, -0.5484965950090873L 0.8361527882291832, -0.5484965950090873 L 0.8263870351719692, -0.5631025378203179 L 0.8163661735461475, -0.5775346489082896 M 0.8163661735461475,-0.5775346489082896 Q 0.1098399793261504, -0.1671382031183501 0.20623166095696402, -0.9785031946902022L 0.20623166095696402, -0.9785031946902022 L 0.18851568801119684, -0.9820701784361773 L 0.17073814978727284, -0.9853164386161528 ",
          "type": "path"
         },
         {
          "fillcolor": "#d4e5d6",
          "layer": "below",
          "line": {
           "color": "rgb(175,175,175)",
           "width": 0.5
          },
          "path": "M 0.07223854700569556,-0.9973873832801906 Q 0.11995461397608553, -0.1600340294620126 0.9370671855165481, -0.34914909398148974L 0.9370671855165481, -0.34914909398148974 L 0.9344353741061003, -0.35613274437938486 L 0.9317515166971663, -0.36309655896542226 M 0.9317515166971663,-0.36309655896542226 Q 0.12014988000238114, -0.15988748023348612 0.08954905740343691, -0.9959824126550408L 0.08954905740343691, -0.9959824126550408 L 0.08089685235363574, -0.9967224785662627 L 0.07223854700569556, -0.9973873832801906 ",
          "type": "path"
         },
         {
          "fillcolor": "#d4e5d6",
          "layer": "below",
          "line": {
           "color": "rgb(175,175,175)",
           "width": 0.5
          },
          "path": "M -0.004914093554632123,-0.9999879257693747 Q 0.12173333618972748, -0.1586852068093267 0.9671253140507802, -0.2543002692137384L 0.9671253140507802, -0.2543002692137384 L 0.9670512584606347, -0.2545817422944992 L 0.9669771209502949, -0.254863193809304 M 0.9669771209502949,-0.254863193809304 Q 0.12174301494740564, -0.15867778140469374 -0.0042100069444350185, -0.9999911378814953L -0.0042100069444350185, -0.9999911378814953 L -0.004562050532237163, -0.9999895937933261 L -0.004914093554632123, -0.9999879257693747 ",
          "type": "path"
         },
         {
          "fillcolor": "#d4e5d6",
          "layer": "below",
          "line": {
           "color": "rgb(175,175,175)",
           "width": 0.5
          },
          "path": "M 0.03122430023537486,-0.9995124026618235 Q 0.1384079602375025, -0.14437186894576773 0.9973071575096498, -0.07333780457596605L 0.9973071575096498, -0.07333780457596605 L 0.9970107481109111, -0.07726298047138326 L 0.9966988901658833, -0.08118695918739946 M 0.9966988901658833,-0.08118695918739946 Q 0.1386019214941326, -0.1441856697391745 0.04177862213436686, -0.9991268922076684L 0.04177862213436686, -0.9991268922076684 L 0.03650197012776433, -0.999333581031275 L 0.03122430023537486, -0.9995124026618235 ",
          "type": "path"
         },
         {
          "fillcolor": "#c6decd",
          "layer": "below",
          "line": {
           "color": "rgb(175,175,175)",
           "width": 0.5
          },
          "path": "M 0.6869292136099705,-0.7267243325286333 Q 0.16513223303797572, -0.11283326465139476 0.9266838001243068, -0.37584190105305426L 0.9266838001243068, -0.37584190105305426 L 0.9242386100859742, -0.38181538945719123 L 0.9217549148641158, -0.38777297085259405 M 0.9217549148641158,-0.38777297085259405 Q 0.1652277786046251, -0.11269330582328747 0.6974685170422555, -0.7166154252699818L 0.6974685170422555, -0.7166154252699818 L 0.6922173189542785, -0.7216891182079377 L 0.6869292136099705, -0.7267243325286333 ",
          "type": "path"
         },
         {
          "fillcolor": "#c6decd",
          "layer": "below",
          "line": {
           "color": "rgb(175,175,175)",
           "width": 0.5
          },
          "path": "M 0.7247353063063001,-0.6890273839210698 Q 0.1800609028019939, -0.08705211819439496 0.9901448065327901, -0.14004735661962212L 0.9901448065327901, -0.14004735661962212 L 0.9888264700593421, -0.14907116458249423 L 0.987425895735005, -0.15808257472575202 M 0.987425895735005,-0.15808257472575202 Q 0.18020039177184535, -0.08676300366673258 0.7393466313555331, -0.6733250022858392L 0.7393466313555331, -0.6733250022858392 L 0.7320830699067983, -0.6812153688488229 L 0.7247353063063001, -0.6890273839210698 ",
          "type": "path"
         },
         {
          "fillcolor": "#c6decd",
          "layer": "below",
          "line": {
           "color": "rgb(175,175,175)",
           "width": 0.5
          },
          "path": "M 0.7102726040393549,-0.7039267205832961 Q 0.1837286724905225, -0.07901756073728372 0.9995065603657314, -0.03141075907813368L 0.9995065603657314, -0.03141075907813368 L 0.9992248611624897, -0.03936593495400774 L 0.9988798468976258, -0.04731861643978661 M 0.9988798468976258,-0.04731861643978661 Q 0.18391952964860858, -0.07857230182344536 0.7247353063063001, -0.6890273839210698L 0.7247353063063001, -0.6890273839210698 L 0.7175426281740304, -0.6965145919168565 L 0.7102726040393549, -0.7039267205832961 ",
          "type": "path"
         },
         {
          "fillcolor": "#b8d7c5",
          "layer": "below",
          "line": {
           "color": "rgb(175,175,175)",
           "width": 0.5
          },
          "path": "M 0.9073262311287116,-0.4204272949105088 Q 0.1881404195944576, -0.06784675758517454 0.9668286001941614, -0.25542603204567543L 0.9668286001941614, -0.25542603204567543 L 0.9668038148829275, -0.2555198300089797 L 0.966779020471779, -0.2556136255672369 M 0.966779020471779,-0.2556136255672369 Q 0.18814067982048932, -0.06784603596883258 0.9074110152818033, -0.4202442734235017L 0.9074110152818033, -0.4202442734235017 L 0.9073686278198186, -0.4203357863046868 L 0.9073262311287116, -0.4204272949105088 ",
          "type": "path"
         },
         {
          "fillcolor": "#b8d7c5",
          "layer": "below",
          "line": {
           "color": "rgb(175,175,175)",
           "width": 0.5
          },
          "path": "M 0.9074957625166808,-0.42006123483876495 Q 0.19275466270016642, -0.05334454055800908 0.9943375195488665, -0.10626804419677414L 0.9943375195488665, -0.10626804419677414 L 0.994290945704342, -0.10670293009268936 L 0.9942441816570647, -0.1071377955768819 M 0.9942441816570647,-0.1071377955768819 Q 0.19275823057781874, -0.05333164674476559 0.9079189447972276, -0.41914578570980393L 0.9079189447972276, -0.41914578570980393 L 0.9077074690640635, -0.4196035636232278 L 0.9074957625166808, -0.42006123483876495 ",
          "type": "path"
         },
         {
          "fillcolor": "#aad0bc",
          "layer": "below",
          "line": {
           "color": "rgb(175,175,175)",
           "width": 0.5
          },
          "path": "M 0.9699731185116823,-0.24321214888389509 Q 0.19714818086378394, -0.033654045553257676 0.9957274038946826, -0.09234141613141787L 0.9957274038946826, -0.09234141613141787 L 0.9955396057465681, -0.0943445461591061 L 0.9953477778551766, -0.09634729429912416 M 0.9953477778551766,-0.09634729429912416 Q 0.19715556267606726, -0.033610773657910833 0.9710488625648571, -0.23888094631321527L 0.9710488625648571, -0.23888094631321527 L 0.9705134067000314, -0.24104714770247648 L 0.9699731185116823, -0.24321214888389509 ",
          "type": "path"
         },
         {
          "fillcolor": "#f2e6ce",
          "layer": "below",
          "line": {
           "color": "rgb(150,150,150)",
           "width": 0.45
          },
          "path": "M 1.1, 0.0 L 1.0997034182922274, 0.02554196148283269 L 1.098813833097472, 0.05107014973192638 L 1.0973317241151814, 0.07657079894061337 L 1.0952578905570156, 0.10203015815236338 L 1.0925934507158812, 0.12743449867584222 L 1.0893398413629023, 0.15277012148796393 L 1.0854988169726572, 0.17802336462094462 L 1.0810724487770977, 0.20318061052937492 L 1.0760631236486577, 0.2282282934333378 L 1.0704735428131578, 0.25315290663361245 L 1.064306720393198, 0.2779410097950198 L 1.0575659817828233, 0.30257923619398164 L 0.9614236198025665, 0.27507203290361965 L 0.9675515639938163, 0.2526736452681998 L 0.9731577661937798, 0.23013900603055676 L 0.9782392033169615, 0.2074802667575798 L 0.9827931352519069, 0.18470964593579536 L 0.9868171063387792, 0.1618394223826769 L 0.9903089466935474, 0.13888192862542173 L 0.9932667733780738, 0.11584954425076564 L 0.9956889914154687, 0.09275468922942125 L 0.9975742946501648, 0.06960981721873942 L 0.9989216664522471, 0.0464274088472058 L 0.9997303802656612, 0.02321996498439335 L 1.0, 0.0 L 1.1 ,0.0",
          "type": "path"
         },
         {
          "fillcolor": "#ecd5bb",
          "layer": "below",
          "line": {
           "color": "rgb(150,150,150)",
           "width": 0.45
          },
          "path": "M 1.0475398933214244, 0.33564888186934133 L 1.0403951843627621, 0.3571804310915903 L 1.0328079596681192, 0.37856005923258285 L 1.0247814463442435, 0.39977867280359075 L 1.016319058342395, 0.4208272468009021 L 1.0074243950062767, 0.4416968285444643 L 0.9981012395411077, 0.4623785414857661 L 0.9883535574045, 0.48286358898333803 L 0.97818549461981, 0.503143258044265 L 0.9676013760126948, 0.5232089230301217 L 0.9566057033716148, 0.5430520493257516 L 0.9452031535330684, 0.5626641969693318 L 0.9333985763923743, 0.5820370242421775 L 0.9211969928408436, 0.6011622912167621 L 0.908603592630223, 0.6200318632614392 L 0.8956237321653158, 0.6386377145003816 L 0.8822629322257188, 0.656971931227261 L 0.8685268756176459, 0.6750267152712183 L 0.8544214047568357, 0.6927943873136935 L 0.8399525191835714, 0.7102673901547024 L 0.8251263730108718, 0.7274382919271737 L 0.8099492723069344, 0.7442997892579761 L 0.7944276724129498, 0.7608447103742938 L 0.7785681751974235, 0.7770660181540269 L 0.7623775262481741, 0.7929568131189206 L 0.7458626120032049, 0.8085103363691504 L 0.729030456821665, 0.8237199724581131 L 0.7118882199961483, 0.8385792522062036 L 0.6944431927076015, 0.8530818554523788 L 0.6767027949241344, 0.8672216137423381 L 0.6586745722450539, 0.8809925129521792 L 0.6403661926914607, 0.8943886958464107 L 0.6217854434447789, 0.907404464569235 L 0.6029402275345989, 0.9200342830680421 L 0.583838560477249, 0.9322727794480828 L 0.5644885668665216, 0.944114748257319 L 0.5448984769180042, 0.9555551527004809 L 0.5250766229684876, 0.9665891267813894 L 0.5050314359319371, 0.9772119773726302 L 0.48477144171353515, 0.9874191862117024 L 0.4643052575833223, 0.9972064118227906 L 0.44364158851097657, 1.0065694913633423 L 0.4227892234632916, 1.0155044423946686 L 0.4017570316659277, 1.024007464575812 L 0.38055395883102594, 1.0320749412799606 L 0.359189023352291, 1.039703441132724 L 0.337671312469158, 1.046889719471615 L 0.30697392042650723, 0.9517179267923771 L 0.32653547577481, 0.9451849464842944 L 0.34595814439184175, 0.9382499466181459 L 0.3652336651508433, 0.9309158768871018 L 0.38435383951208324, 0.923185856722426 L 0.40331053500997865, 0.9150631739666747 L 0.4220956887121112, 0.906551283475264 L 0.4407013106486683, 0.8976538056470021 L 0.4591194872108519, 0.8883745248842092 L 0.4773423845168069, 0.8787173879830812 L 0.4953622517436402, 0.8686865024549826 L 0.5131714244241105, 0.8582861347793809 L 0.5307623277065899, 0.8475207085891662 L 0.548127479576908, 0.8363948027891291 L 0.5652594940407081, 0.8249131496083953 L 0.5821510842649642, 0.813080632587646 L 0.5987950656773217, 0.800902284501981 L 0.6151843590219404, 0.7883832852203073 L 0.6313119933705468, 0.7755289595021625 L 0.6471711090874075, 0.7623447747329123 L 0.6627549607469682, 0.7488363385982846 L 0.6780569200029135, 0.7350093966992276 L 0.693070478407431, 0.7208698301081096 L 0.7077892501794758, 0.7064236528672971 L 0.7222069749208634, 0.6916770094311762 L 0.7363175202790312, 0.6766361720527055 L 0.7501148845553379, 0.6613075381156124 L 0.7635931992577921, 0.6456976274133658 L 0.7767467315971233, 0.6298130793760849 L 0.7895698869251325, 0.613660650246562 L 0.8020572111142897, 0.5972472102066009 L 0.8142033928775597, 0.5805797404548924 L 0.8260032660274753, 0.563665330237672 L 0.837451811673494, 0.5465111738334201 L 0.8485441603567039, 0.5291245674928886 L 0.8592755941209712, 0.5115129063357561 L 0.8696415485196497, 0.49368368120522865 L 0.8796376145569952, 0.47564447548192873 L 0.8892595405634636, 0.45740296185842266 L 0.8985032340040908, 0.4389668990757618 L 0.9073647632191888, 0.42034412862342374 L 0.915840359096615, 0.4015425714040584 L 0.9239264166749046, 0.3825702243644564 L 0.931619496676585, 0.3634351570941734 L 0.9389163269710175, 0.3441455083932571 L 0.9458138039661473, 0.32470948281053663 L 0.9523089939285675, 0.30513534715394663 L 1.0475398933214244 ,0.33564888186934133",
          "type": "path"
         },
         {
          "fillcolor": "#e6c4a9",
          "layer": "below",
          "line": {
           "color": "rgb(150,150,150)",
           "width": 0.45
          },
          "path": "M 0.304621091300538, 1.0569796548348835 L 0.28234396701876247, 1.0631471602220024 L 0.2599421660839687, 1.0688452040831613 L 0.23742558062026206, 1.0740712702922146 L 0.2148041534379765, 1.0788230511375787 L 0.19208787364315658, 1.0830984483412627 L 0.16928677222659605, 1.0868955739854222 L 0.14641091763438127, 1.09021275134602 L 0.12347041132189496, 1.0930485156332277 L 0.10047538329324499, 1.0954016146382457 L 0.07743598762808415, 1.097271009286249 L 0.05436239799780139, 1.0986558740952186 L 0.03126480317306034, 1.0995555975404563 L 0.008153402524670752, 1.0999697823246195 L -0.014961598480220939, 1.0998982455531587 L -0.03806999278463303, 1.09934101881508 L -0.06116157624895197, 1.0982983481689954 L -0.08422615215684763, 1.0967706940344695 L -0.1072535357179107, 1.0947587309887084 L -0.13023355856502286, 1.0922633474686823 L -0.153156073244477, 1.089285645378811 L -0.17601095769686045, 1.0858269396043894 L -0.19878811972672542, 1.081888757430963 L -0.2214775014590724, 1.0774728378699143 L -0.24406908378067832, 1.0725811308905542 L -0.266552890764308, 1.067215796559061 L -0.2423208097857345, 0.9701961786900554 L -0.2218809852551621, 0.9750737553550493 L -0.20134318314461128, 0.9795207616999221 L -0.18071647247884126, 0.9835352340281481 L -0.1600099615426004, 0.9871153996403539 L -0.13923279385861545, 0.9902596776171008 L -0.11839414415002077, 0.9929666795169837 L -0.09750321428900972, 0.9952352099897348 L -0.07656922923349783, 0.9970642673040631 L -0.0556014329535927, 0.9984530437899958 L -0.034609084349666384, 0.9994009261955272 L -0.013601453163837216, 0.999907495957417 L 0.007412184113337047, 0.9999725293860177 L 0.02842254833914576, 0.9995959977640512 L 0.049420361816183075, 0.9987780673592895 L 0.0703963523891674, 0.9975190993511354 L 0.09134125753931362, 0.9958196496711323 L 0.11224582847444996, 0.9936804687574796 L 0.13310083421307387, 0.9911025012236544 L 0.15389706566054184, 0.988086885441293 L 0.17462533967559687, 0.9846349530375115 L 0.19527650312543318, 0.9807482283068896 L 0.21584143692751095, 0.9764284275383769 L 0.23631106007633518, 0.9716774582574192 L 0.2566763336534204, 0.9664974183836386 L 0.2769282648186709, 0.9608905953044394 L 0.304621091300538 ,1.0569796548348835",
          "type": "path"
         },
         {
          "fillcolor": "#e1b396",
          "layer": "below",
          "line": {
           "color": "rgb(150,150,150)",
           "width": 0.45
          },
          "path": "M -0.2999434212734655, 1.058316561353345 L -0.32305799184789286, 1.0514911002491685 L -0.34601747581893316, 1.0441608623329521 L -0.36881085130050334, 1.0363293665447286 L -0.3914271761482439, 1.0280003724574285 L -0.4138555932123855, 1.0191778784720678 L -0.43608533554981055, 1.009866119898281 L -0.45810573159281254, 1.0000695669211288 L -0.47990621027206687, 0.9897929224551482 L -0.5014763060913603, 0.97904111988668 L -0.5228056641516343, 0.9678193207055584 L -0.5438840451219412, 0.9561329120272947 L -0.5647013301549163, 0.9439875040069484 L -0.5852475257444113, 0.9313889271459291 L -0.6055127685229609, 0.9183432294930144 L -0.6254873299967686, 0.9048566737409377 L -0.6451616212159517, 0.8909357342199296 L -0.6645261973777936, 0.8765870937896644 L -0.683571762360796, 0.8618176406310999 L -0.6214288748734509, 0.7834705823919089 L -0.6041147248889033, 0.7968973579906039 L -0.5865105647417742, 0.8099415765635722 L -0.5686248454516077, 0.8225969761281251 L -0.5504661532026917, 0.8348574813572858 L -0.5320432052221921, 0.8467172064962991 L -0.5133648455953784, 0.8581704581881349 L -0.49444004101994654, 0.8692117382066314 L -0.47527787650148573, 0.8798357460959622 L -0.45588755099214573, 0.8900373817151636 L -0.4362783729746062, 0.8998117476864983 L -0.4164597559934659, 0.9091541517464807 L -0.3964412141361914, 0.9180601089984373 L -0.37623235746580497, 0.926525344065516 L -0.3558428874074944, 0.9345457931431168 L -0.3352825920913666, 0.9421176059497531 L -0.3145613416535756, 0.949237147575411 L -0.29368908349808437, 0.9559010002265168 L -0.2726758375213323, 0.9621059648666772 L -0.2999434212734655 ,1.058316561353345",
          "type": "path"
         },
         {
          "fillcolor": "#dba284",
          "layer": "below",
          "line": {
           "color": "rgb(150,150,150)",
           "width": 0.45
          },
          "path": "M -0.7103048072395247, 0.8399208777095744 L -0.7302780737572663, 0.8226140863061955 L -0.7498297969713993, 0.8048324518642562 L -0.7689486909097829, 0.7865862385957 L -0.7876237194452191, 0.7678859788844167 L -0.7160215631320174, 0.6980781626221969 L -0.6990442644634389, 0.7150783987233635 L -0.6816634517921811, 0.731665865331142 L -0.6638891579611511, 0.7478309875510868 L -0.6457316429450224, 0.7635644342814312 L -0.7103048072395247 ,0.8399208777095744",
          "type": "path"
         },
         {
          "fillcolor": "#d59171",
          "layer": "below",
          "line": {
           "color": "rgb(150,150,150)",
           "width": 0.45
          },
          "path": "M -0.811354956167366, 0.7427672146121231 L -0.8396651428334805, 0.7106070981283756 L -0.866701439674064, 0.6773688909795792 L -0.8924228288336544, 0.6431030201892527 L -0.9167902873562214, 0.607861471890839 L -0.833445715778383, 0.5526013380825808 L -0.8112934807578676, 0.5846391092629569 L -0.7879103997036945, 0.6157899008905265 L -0.7633319480304367, 0.6460064528439778 L -0.7375954146976054, 0.6752429223746573 L -0.811354956167366 ,0.7427672146121231",
          "type": "path"
         },
         {
          "fillcolor": "#d0805f",
          "layer": "below",
          "line": {
           "color": "rgb(150,150,150)",
           "width": 0.45
          },
          "path": "M -0.935431296938567, 0.5787644501071492 L -0.9694880726630949, 0.5197046054866147 L -0.9998207889324618, 0.4586484383691607 L -1.0263129297811717, 0.39583048160037904 L -1.0488627319071304, 0.3314920355247038 L -0.9535115744610275, 0.3013563959315489 L -0.9330117543465196, 0.3598458923639809 L -0.9089279899386016, 0.41695312579014604 L -0.8813527933300862, 0.4724587322605588 L -0.8503920881259699, 0.5261495000974082 L -0.935431296938567 ,0.5787644501071492",
          "type": "path"
         },
         {
          "fillcolor": "#ca6f4c",
          "layer": "below",
          "line": {
           "color": "rgb(150,150,150)",
           "width": 0.45
          },
          "path": "M -1.0587575979284851, 0.29838288963796944 L -1.0628175670147402, 0.28358212081312234 L -1.0666706414397258, 0.26872614813330686 L -1.07031607114007, 0.2538178635543304 L -1.0737531464738115, 0.2388601692153588 L -0.9761392240671012, 0.2171456083775989 L -0.9730146101273364, 0.2307435123221185 L -0.9697005831270235, 0.24429649830300623 L -0.9661977881952183, 0.25780192801192936 L -0.9625069072077136, 0.271257172398154 L -1.0587575979284851 ,0.29838288963796944",
          "type": "path"
         },
         {
          "fillcolor": "#c45e3a",
          "layer": "below",
          "line": {
           "color": "rgb(150,150,150)",
           "width": 0.45
          },
          "path": "M -1.0807260933425054, 0.205014904747549 L -1.085591256021984, 0.1774587976083785 L -1.0897539165862657, 0.14978785426360242 L -1.0932113813162967, 0.12201998098882991 L -1.0959614128356496, 0.0941731467844576 L -0.9963285571233177, 0.08561195162223417 L -0.9938285284693607, 0.11092725544439082 L -0.990685378714787, 0.13617077660327492 L -0.9869011418381671, 0.16132617964398044 L -0.9824782666750048, 0.18637718613413543 L -1.0807260933425054 ,0.205014904747549",
          "type": "path"
         },
         {
          "fillcolor": "#bf4d28",
          "layer": "below",
          "line": {
           "color": "rgb(150,150,150)",
           "width": 0.45
          },
          "path": "M -1.0983786720622035, 0.05970169812384486 L -1.0998007533749488, 0.02093568427101366 L -1.0998550587138947, -0.017856366412445757 L -1.098541520541774, -0.05662620988347751 L -1.0958617724508046, -0.09532562971720249 L -0.9962379749552768, -0.08665966337927498 L -0.9986741095834307, -0.05147837262134319 L -0.9998682351944496, -0.016233060374950686 L -0.9998188667044987, 0.019032440246376053 L -0.998526065511094, 0.054274271021677145 L -1.0983786720622035 ,0.05970169812384486",
          "type": "path"
         },
         {
          "fillcolor": "#af4624",
          "layer": "below",
          "line": {
           "color": "rgb(150,150,150)",
           "width": 0.45
          },
          "path": "M -1.0923267804295798, -0.12970044239072112 L -1.0866683865869684, -0.17073903359359607 L -1.0794687346995728, -0.21153545992599812 L -1.0707380362739831, -0.2520318584547092 L -1.0604886743511999, -0.29217079178595995 L -0.9640806130465454, -0.265609810714509 L -0.97339821479453, -0.22911987132246292 L -0.9813352133632479, -0.1923049635690892 L -0.9878803514426985, -0.1552173032669055 L -0.9930243458450725, -0.11790949308247373 L -1.0923267804295798 ,-0.12970044239072112",
          "type": "path"
         },
         {
          "fillcolor": "#9f4021",
          "layer": "below",
          "line": {
           "color": "rgb(150,150,150)",
           "width": 0.45
          },
          "path": "M -1.0507880808571275, -0.32533737739244617 L -1.0381058383029147, -0.3637805224052034 L -1.024017678995732, -0.4017309959465336 L -1.008542682665659, -0.43913740132395507 L -0.9917018072495349, -0.4759490786817496 L -0.9015470974995772, -0.43268098061977234 L -0.916856984241508, -0.3992158193854137 L -0.9309251627233928, -0.36520999631503054 L -0.943732580275377, -0.33070956582291217 L -0.9552618916882977, -0.29576125217495103 L -1.0507880808571275 ,-0.32533737739244617",
          "type": "path"
         },
         {
          "fillcolor": "#8f391e",
          "layer": "below",
          "line": {
           "color": "rgb(150,150,150)",
           "width": 0.45
          },
          "path": "M -0.9762625404285331, -0.5068643330872938 L -0.9650338083831672, -0.5279296815651502 L -0.9533506065622314, -0.5487464086146038 L -0.9412184370134921, -0.5693047108762399 L -0.9286430132200667, -0.5895949066923453 L -0.9156302574097351, -0.6096074406663541 L -0.9021862977659476, -0.6293328881628333 L -0.8883174655418355, -0.6487619597458916 L -0.874030292078596, -0.6678855055539118 L -0.8593315057296403, -0.6866945196085588 L -0.8442280286919683, -0.7051801440560229 L -0.8287269737462521, -0.7233336733385077 L -0.8128356409071654, -0.7411465582939974 L -0.7965615139855404, -0.7586104101823701 L -0.779912257063968, -0.7757170046359608 L -0.7628957108874982, -0.7924582855327207 L -0.745519889171147, -0.8088263687901383 L -0.7277929748259464, -0.8248135460781421 L -0.7097233161053083, -0.8404122884492378 L -0.691319422673528, -0.8556152498841638 L -0.62847220243048, -0.7778320453492398 L -0.6452030146411892, -0.7640111713174889 L -0.6616299771144967, -0.7498304964346746 L -0.6777453537919518, -0.7352966989001256 L -0.693541555352271, -0.7204166232115642 L -0.7090111427854254, -0.7051972769417825 L -0.7241468308959458, -0.6896458274385182 L -0.7389414917337866, -0.6737695984490886 L -0.7533881579511382, -0.6575760666713706 L -0.7674800260836075, -0.6410728582327481 L -0.7812104597542184, -0.6242677450986898 L -0.7945729927987235, -0.607168641412647 L -0.8075613323107595, -0.5897835997689923 L -0.8201693616054069, -0.5721208074207574 L -0.8323911430997591, -0.5541885824239582 L -0.8442209211091515, -0.5359953697203138 L -0.85565312455772, -0.517549737160218 L -0.8666823696020285, -0.4988603714678216 L -0.8773034621665156, -0.47993607415013645 L -0.8875114003895754, -0.46078575735208527 L -0.9762625404285331 ,-0.5068643330872938",
          "type": "path"
         },
         {
          "fillcolor": "#f0f3e7",
          "layer": "below",
          "line": {
           "color": "rgb(150,150,150)",
           "width": 0.45
          },
          "path": "M -0.6641027737927575, -0.8769079232398154 L -0.6455300513591189, -0.890668823296456 L -0.6266722775851746, -0.9040364243249328 L -0.6075377796335055, -0.9170048234976684 L -0.588135006861778, -0.9295682942655137 L -0.5684725270916937, -0.9417212888864644 L -0.5485590228256417, -0.953458440875415 L -0.5284032874126976, -0.9647745673738785 L -0.5080142211656867, -0.9756646714386151 L -0.4874008274310033, -0.9861239442481728 L -0.4665722086129446, -0.9961477672263485 L -0.4455375621542897, -1.0057317140816495 L -0.42430617647492624, -1.0148715527618404 L -0.4028874268702888, -1.023563247322723 L -0.3812907713714492, -1.0318029597103147 L -0.359525746568659, -1.0395870514556482 L -0.3376019634002162, -1.0469120852814335 L -0.31552910290848646, -1.0537748266198836 L -0.29331691196498344, -1.0601722450410247 L -0.270975198966365, -1.0661015155908649 L -0.24851382950327697, -1.0715600200388293 L -0.22594272200392548, -1.076545348033912 L -0.20327184335433324, -1.0810552981690305 L -0.18051120449718236, -1.0850878789531182 L -0.1576708560112183, -1.0886413096905196 L -0.13476088367313568, -1.0917140212673078 L -0.12250989424830516, -0.9924672920611888 L -0.14333714182838025, -0.9896739179004723 L -0.1641010949974385, -0.9864435263210164 L -0.18479258486757566, -0.9827775437900277 L -0.20540247454902316, -0.9786775891217382 L -0.22592166318479723, -0.974145472762572 L -0.24634108996942272, -0.9691831959916952 L -0.26665173814998494, -0.963792950037295 L -0.28684463900771495, -0.9579771151089851 L -0.30691087581837834, -0.9517382593467576 L -0.32684158778968997, -0.9450791376869528 L -0.34662797397404466, -0.9380026906457406 L -0.36626129715480793, -0.9305120430206573 L -0.3857328877044784, -0.9226105025107639 L -0.4050341474129906, -0.9143015582560449 L -0.42415655328449503, -0.9055888792966803 L -0.4430916613009121, -0.8964763129528843 L -0.4618311101506243, -0.8869678831260137 L -0.48036662492063414, -0.8770677885217076 L -0.4986900207505834, -0.8667804007958317 L -0.5167932064469942, -0.8561102626240585 L -0.5346681880561618, -0.8450620856959214 L -0.5523070723940959, -0.833640748634244 L -0.5697020705319769, -0.821851294840848 L -0.5868455012355626, -0.8096989302695055 L -0.6037297943570522, -0.7971890211271048 L -0.6641027737927575 ,-0.8769079232398154",
          "type": "path"
         },
         {
          "fillcolor": "#e2ecde",
          "layer": "below",
          "line": {
           "color": "rgb(150,150,150)",
           "width": 0.45
          },
          "path": "M -0.1004028212077405, -1.0954082679501405 L -0.08531207237709046, -1.0966867603407668 L -0.07020515195617949, -1.0977573669253191 L -0.055084923583414075, -1.0986198847616995 L -0.03995425341983312, -1.0992741503527061 L -0.03632204856348465, -0.9993401366842782 L -0.05007720325764915, -0.998745349783363 L -0.06382286541470862, -0.997961242659381 L -0.0775564294337186, -0.9969879639461515 L -0.09127529200703681, -0.9958256981364912 L -0.1004028212077405 ,-1.0954082679501405",
          "type": "path"
         },
         {
          "fillcolor": "#d4e5d6",
          "layer": "below",
          "line": {
           "color": "rgb(150,150,150)",
           "width": 0.45
          },
          "path": "M -0.005405502910095335, -1.0999867183463121 L 0.01761906095386568, -1.0998588858081313 L 0.04063590523912038, -1.0992491633862622 L 0.06363494539340805, -1.098157818223218 L 0.08660610466512995, -1.0965853284786975 L 0.1095393185183592, -1.0945323831200855 L 0.13242453904249854, -1.0919998816205898 L 0.15525173935464515, -1.0889889335651477 L 0.17801091799275215, -1.085500858164275 L 0.2006921032976464, -1.0815371836760708 L 0.22328535778199435, -1.0770996467366272 L 0.2457807824842864, -1.0721901915991454 L 0.26816852130595004, -1.0668109692820844 L 0.29043876532968327, -1.0609643366267167 L 0.3125817571171076, -1.0546528552645091 L 0.3345877949838746, -1.0478792904947731 L 0.3564472372503443, -1.0406466100730818 L 0.37815050646596543, -1.0329579829109865 L 0.39968809360552215, -1.024816777687594 L 0.42105056223540144, -1.0162265613736203 L 0.442228552648047, -1.0071910976685674 L 0.46321278596280485, -0.9977143453517028 L 0.4839940681913554, -0.987800456547567 L 0.5045632942659428, -0.9774537749067727 L 0.5249114520286535, -0.9666788337028854 L 0.5450296261799866, -0.9554803538462234 L 0.5649090021849797, -0.94386324181545 L 0.5845408701351934, -0.9318325875078586 L 0.6039166285648547, -0.9193936620092937 L 0.6230277882194807, -0.9065519152846913 L 0.6418659757753458, -0.8933129737902408 L 0.6604229375081514, -0.8796826380082221 L 0.6786905429092979, -0.865666879905592 L 0.6169914026448162, -0.7869698908232654 L 0.6003844886437739, -0.7997114890983836 L 0.5835145234321325, -0.8121027034456734 L 0.566388898381346, -0.8241381048042647 L 0.5490151168771407, -0.8358124200084488 L 0.531400791031994, -0.8471205340980532 L 0.5135536383499816, -0.8580574925594999 L 0.49548147834544237, -0.8686185034965667 L 0.4771922291169577, -0.8787989397298958 L 0.45869390387812975, -0.8885943408243387 L 0.43999460744668667, -0.8980004150432427 L 0.42110253269345893, -0.9070130412288206 L 0.40202595695277, -0.9156282706077885 L 0.38277323839581945, -0.923842328521473 L 0.36335281236865646, -0.9316516160796309 L 0.3437731876963322, -0.9390527117372605 L 0.3240429429548584, -0.9460423727937107 L 0.30417072271261325, -0.95261753681343 L 0.2841652337428251, -0.9587753229677355 L 0.26403524120880295, -0.9645130332970152 L 0.2437895648235909, -0.969828153892804 L 0.22343707498571488, -0.974718355999223 L 0.20298668889272212, -0.9791814970332973 L 0.18244736663422398, -0.9832156215237007 L 0.1618281072661383, -0.9868189619675228 L 0.14113794486785922, -0.9899899396046796 L 0.12038594458408958, -0.992727165109627 L 0.09958119865305382, -0.9950294392000777 L 0.0787328224228454, -0.9968957531624522 L 0.05784995035764368, -0.9983252892938345 L 0.03694173203556398, -0.9993174212602383 L 0.016017328139877888, -0.9998717143710284 L -0.004914093554632123, -0.9999879257693747 L -0.005405502910095335 ,-1.0999867183463121",
          "type": "path"
         },
         {
          "fillcolor": "#c6decd",
          "layer": "below",
          "line": {
           "color": "rgb(150,150,150)",
           "width": 0.45
          },
          "path": "M 0.7055469039026527, -0.8439215404250452 L 0.72355441777568, -0.8285342506603436 L 0.7412264420435567, -0.8127627954178576 L 0.7585547827400817, -0.796614487429238 L 0.7755314052544017, -0.7800968141609944 L 0.7921484380564088, -0.7632174343427908 L 0.8083981763465238, -0.7459841744163308 L 0.8242730856281717, -0.7284050249064822 L 0.8397658052012917, -0.7104881367163186 L 0.8548691515752653, -0.692241817347801 L 0.8695761217996756, -0.6736745270498476 L 0.8838798967113571, -0.654794874895582 L 0.8977738440962308, -0.6356116147905706 L 0.9112515217644518, -0.6161336414139151 L 0.9243066805374536, -0.5963699860940641 L 0.9369332671454964, -0.5763298126212681 L 0.9491254270343806, -0.5560224129986172 L 0.9608775070800195, -0.5354572031336278 L 0.9721840582096174, -0.5146437184723811 L 0.983039837928234, -0.49359160957823384 L 0.8936725799347581, -0.4487196450711216 L 0.8838036892814702, -0.4678579258839828 L 0.8735250064363813, -0.48677927557602524 L 0.8628412973039823, -0.5054749209078337 L 0.8517575155868149, -0.5239361932920619 L 0.840278800488594, -0.5421545328127855 L 0.8284104743313198, -0.5601214921944683 L 0.8161580400874825, -0.5778287407187005 L 0.8035271788285064, -0.5952680680868927 L 0.7905237470906141, -0.6124313882271342 L 0.7771537741593321, -0.6293107430434554 L 0.7634234592739015, -0.6458983061057442 L 0.7493391687528833, -0.6621863862786201 L 0.7349074330422943, -0.6781674312875734 L 0.7201349436876443, -0.6938340312207188 L 0.7050285502312742, -0.7091789219645404 L 0.6895952570364379, -0.7241949885720345 L 0.6738422200395969, -0.7388752685616886 L 0.6577767434324363, -0.7532129551457668 L 0.6414062762751388, -0.7672014003864046 L 0.7055469039026527 ,-0.8439215404250452",
          "type": "path"
         },
         {
          "fillcolor": "#b8d7c5",
          "layer": "below",
          "line": {
           "color": "rgb(150,150,150)",
           "width": 0.45
          },
          "path": "M 0.9980588542415828, -0.4624700244015597 L 1.0140594164151353, -0.4262434749996714 L 1.0287455724802532, -0.38946443624839017 L 1.0420982864978885, -0.35218058049552453 L 1.0541002509132917, -0.3144402344238658 L 0.9582729553757197, -0.2858547585671507 L 0.9473620786344441, -0.32016416408684045 L 0.935223247709321, -0.3540585784076274 L 0.9218721967410319, -0.38749406818151944 L 0.9073262311287116, -0.4204272949105088 L 0.9980588542415828 ,-0.4624700244015597",
          "type": "path"
         },
         {
          "fillcolor": "#aad0bc",
          "layer": "below",
          "line": {
           "color": "rgb(150,150,150)",
           "width": 0.45
          },
          "path": "M 1.063456922518957, -0.2811749881239606 L 1.0712860005278417, -0.24969242093636201 L 1.0781832841558274, -0.21799267365430974 L 1.084142774211172, -0.18610331841668992 L 1.089159287186069, -0.15405209228158626 L 0.9901448065327899, -0.14004735661962386 L 0.9855843401919745, -0.16918483492426356 L 0.980166621959843, -0.1981751578675543 L 0.9738963641162196, -0.22699310994214728 L 0.966779020471779, -0.2556136255672369 L 1.063456922518957 ,-0.2811749881239606",
          "type": "path"
         },
         {
          "fillcolor": "#9cc9b4",
          "layer": "below",
          "line": {
           "color": "rgb(150,150,150)",
           "width": 0.45
          },
          "path": "M 1.0934607459818784, -0.11976475690600519 L 1.0955801816360309, -0.09850921584482111 L 1.0972864748789797, -0.07721652703704286 L 1.0985789822689056, -0.055894719938610456 L 1.0994572164023046, -0.03455183498594511 L 0.9995065603657315, -0.031410759078131914 L 0.998708165699005, -0.050813381762373135 L 0.9975331589808906, -0.07019684276094805 L 0.9959819833054826, -0.089553832586201 L 0.9940552236198893, -0.10887705173273197 L 1.0934607459818784 ,-0.11976475690600519",
          "type": "path"
         }
        ],
        "showlegend": false,
        "title": "Data Jobs ‒ Technologies in Demand and Relationships Between Them",
        "titlefont": {
         "color": "#655643",
         "family": "Merryweather",
         "size": 18
        },
        "width": 960,
        "xaxis": {
         "showgrid": false,
         "showline": false,
         "showticklabels": false,
         "title": "",
         "zeroline": false
        },
        "yaxis": {
         "showgrid": false,
         "showline": false,
         "showticklabels": false,
         "title": "",
         "zeroline": false
        }
       }
      },
      "text/html": [
       "<div id=\"aa666a16-cba1-4031-894e-372685f44728\" style=\"height: 525px; width: 960px;\" class=\"plotly-graph-div\"></div><script type=\"text/javascript\">require([\"plotly\"], function(Plotly) { window.PLOTLYENV=window.PLOTLYENV || {};window.PLOTLYENV.BASE_URL=\"https://plot.ly\";Plotly.newPlot(\"aa666a16-cba1-4031-894e-372685f44728\", [{\"hoverinfo\": \"text\", \"line\": {\"color\": \"#f2e6ce\", \"shape\": \"spline\", \"width\": 0.25}, \"mode\": \"lines\", \"text\": \"Power BI<br>1262\", \"x\": [1.1, 1.0997034182922274, 1.098813833097472, 1.0973317241151814, 1.0952578905570156, 1.0925934507158812, 1.0893398413629023, 1.0854988169726572, 1.0810724487770977, 1.0760631236486577, 1.0704735428131578, 1.064306720393198, 1.0575659817828233], \"y\": [0.0, 0.02554196148283269, 0.05107014973192638, 0.07657079894061337, 0.10203015815236338, 0.12743449867584222, 0.15277012148796393, 0.17802336462094462, 0.20318061052937492, 0.2282282934333378, 0.25315290663361245, 0.2779410097950198, 0.30257923619398164], \"type\": \"scatter\", \"uid\": \"c629e4c0-7c9b-4805-a250-97d91aa54167\"}, {\"hoverinfo\": \"text\", \"line\": {\"color\": \"#ecd5bb\", \"shape\": \"spline\", \"width\": 0.25}, \"mode\": \"lines\", \"text\": \"Excel<br>3989\", \"x\": [1.0475398933214244, 1.0403951843627621, 1.0328079596681192, 1.0247814463442435, 1.016319058342395, 1.0074243950062767, 0.9981012395411077, 0.9883535574045, 0.97818549461981, 0.9676013760126948, 0.9566057033716148, 0.9452031535330684, 0.9333985763923743, 0.9211969928408436, 0.908603592630223, 0.8956237321653158, 0.8822629322257188, 0.8685268756176459, 0.8544214047568357, 0.8399525191835714, 0.8251263730108718, 0.8099492723069344, 0.7944276724129498, 0.7785681751974235, 0.7623775262481741, 0.7458626120032049, 0.729030456821665, 0.7118882199961483, 0.6944431927076015, 0.6767027949241344, 0.6586745722450539, 0.6403661926914607, 0.6217854434447789, 0.6029402275345989, 0.583838560477249, 0.5644885668665216, 0.5448984769180042, 0.5250766229684876, 0.5050314359319371, 0.48477144171353515, 0.4643052575833223, 0.44364158851097657, 0.4227892234632916, 0.4017570316659277, 0.38055395883102594, 0.359189023352291, 0.337671312469158], \"y\": [0.33564888186934133, 0.3571804310915903, 0.37856005923258285, 0.39977867280359075, 0.4208272468009021, 0.4416968285444643, 0.4623785414857661, 0.48286358898333803, 0.503143258044265, 0.5232089230301217, 0.5430520493257516, 0.5626641969693318, 0.5820370242421775, 0.6011622912167621, 0.6200318632614392, 0.6386377145003816, 0.656971931227261, 0.6750267152712183, 0.6927943873136935, 0.7102673901547024, 0.7274382919271737, 0.7442997892579761, 0.7608447103742938, 0.7770660181540269, 0.7929568131189206, 0.8085103363691504, 0.8237199724581131, 0.8385792522062036, 0.8530818554523788, 0.8672216137423381, 0.8809925129521792, 0.8943886958464107, 0.907404464569235, 0.9200342830680421, 0.9322727794480828, 0.944114748257319, 0.9555551527004809, 0.9665891267813894, 0.9772119773726302, 0.9874191862117024, 0.9972064118227906, 1.0065694913633423, 1.0155044423946686, 1.024007464575812, 1.0320749412799606, 1.039703441132724, 1.046889719471615], \"type\": \"scatter\", \"uid\": \"f4903292-8ce0-45a5-b6d5-32bf2f0d89b2\"}, {\"hoverinfo\": \"text\", \"line\": {\"color\": \"#e6c4a9\", \"shape\": \"spline\", \"width\": 0.25}, \"mode\": \"lines\", \"text\": \"SSIS/SSRS<br>2266\", \"x\": [0.304621091300538, 0.28234396701876247, 0.2599421660839687, 0.23742558062026206, 0.2148041534379765, 0.19208787364315658, 0.16928677222659605, 0.14641091763438127, 0.12347041132189496, 0.10047538329324499, 0.07743598762808415, 0.05436239799780139, 0.03126480317306034, 0.008153402524670752, -0.014961598480220939, -0.03806999278463303, -0.06116157624895197, -0.08422615215684763, -0.1072535357179107, -0.13023355856502286, -0.153156073244477, -0.17601095769686045, -0.19878811972672542, -0.2214775014590724, -0.24406908378067832, -0.266552890764308], \"y\": [1.0569796548348835, 1.0631471602220024, 1.0688452040831613, 1.0740712702922146, 1.0788230511375787, 1.0830984483412627, 1.0868955739854222, 1.09021275134602, 1.0930485156332277, 1.0954016146382457, 1.097271009286249, 1.0986558740952186, 1.0995555975404563, 1.0999697823246195, 1.0998982455531587, 1.09934101881508, 1.0982983481689954, 1.0967706940344695, 1.0947587309887084, 1.0922633474686823, 1.089285645378811, 1.0858269396043894, 1.081888757430963, 1.0774728378699143, 1.0725811308905542, 1.067215796559061], \"type\": \"scatter\", \"uid\": \"1177adaf-01b6-4e3f-a161-644563123b3c\"}, {\"hoverinfo\": \"text\", \"line\": {\"color\": \"#e1b396\", \"shape\": \"spline\", \"width\": 0.25}, \"mode\": \"lines\", \"text\": \"MS SQL Server<br>1733\", \"x\": [-0.2999434212734655, -0.32305799184789286, -0.34601747581893316, -0.36881085130050334, -0.3914271761482439, -0.4138555932123855, -0.43608533554981055, -0.45810573159281254, -0.47990621027206687, -0.5014763060913603, -0.5228056641516343, -0.5438840451219412, -0.5647013301549163, -0.5852475257444113, -0.6055127685229609, -0.6254873299967686, -0.6451616212159517, -0.6645261973777936, -0.683571762360796], \"y\": [1.058316561353345, 1.0514911002491685, 1.0441608623329521, 1.0363293665447286, 1.0280003724574285, 1.0191778784720678, 1.009866119898281, 1.0000695669211288, 0.9897929224551482, 0.97904111988668, 0.9678193207055584, 0.9561329120272947, 0.9439875040069484, 0.9313889271459291, 0.9183432294930144, 0.9048566737409377, 0.8909357342199296, 0.8765870937896644, 0.8618176406310999], \"type\": \"scatter\", \"uid\": \"8f6a5d9e-7588-4cf2-85cd-a67956cade9d\"}, {\"hoverinfo\": \"text\", \"line\": {\"color\": \"#dba284\", \"shape\": \"spline\", \"width\": 0.25}, \"mode\": \"lines\", \"text\": \"PostgreSQL<br>519\", \"x\": [-0.7103048072395247, -0.7302780737572663, -0.7498297969713993, -0.7689486909097829, -0.7876237194452191], \"y\": [0.8399208777095744, 0.8226140863061955, 0.8048324518642562, 0.7865862385957, 0.7678859788844167], \"type\": \"scatter\", \"uid\": \"c2e00fba-8522-41a7-bac4-88899a9c0046\"}, {\"hoverinfo\": \"text\", \"line\": {\"color\": \"#d59171\", \"shape\": \"spline\", \"width\": 0.25}, \"mode\": \"lines\", \"text\": \"MySQL/MariaDB<br>762\", \"x\": [-0.811354956167366, -0.8396651428334805, -0.866701439674064, -0.8924228288336544, -0.9167902873562214], \"y\": [0.7427672146121231, 0.7106070981283756, 0.6773688909795792, 0.6431030201892527, 0.607861471890839], \"type\": \"scatter\", \"uid\": \"6d0bc594-e110-49de-b3b4-1034173de4a7\"}, {\"hoverinfo\": \"text\", \"line\": {\"color\": \"#d0805f\", \"shape\": \"spline\", \"width\": 0.25}, \"mode\": \"lines\", \"text\": \"T-SQL<br>1137\", \"x\": [-0.935431296938567, -0.9694880726630949, -0.9998207889324618, -1.0263129297811717, -1.0488627319071304], \"y\": [0.5787644501071492, 0.5197046054866147, 0.4586484383691607, 0.39583048160037904, 0.3314920355247038], \"type\": \"scatter\", \"uid\": \"5ede971d-4970-4a33-9660-abe311a4ae7b\"}, {\"hoverinfo\": \"text\", \"line\": {\"color\": \"#ca6f4c\", \"shape\": \"spline\", \"width\": 0.25}, \"mode\": \"lines\", \"text\": \"PL/SQL<br>355\", \"x\": [-1.0587575979284851, -1.0628175670147402, -1.0666706414397258, -1.07031607114007, -1.0737531464738115], \"y\": [0.29838288963796944, 0.28358212081312234, 0.26872614813330686, 0.2538178635543304, 0.2388601692153588], \"type\": \"scatter\", \"uid\": \"83e0e5c7-ef94-4b6c-8901-f7c551d0e98c\"}, {\"hoverinfo\": \"text\", \"line\": {\"color\": \"#c45e3a\", \"shape\": \"spline\", \"width\": 0.25}, \"mode\": \"lines\", \"text\": \"Pentaho<br>542\", \"x\": [-1.0807260933425054, -1.085591256021984, -1.0897539165862657, -1.0932113813162967, -1.0959614128356496], \"y\": [0.205014904747549, 0.1774587976083785, 0.14978785426360242, 0.12201998098882991, 0.0941731467844576], \"type\": \"scatter\", \"uid\": \"dc3a6402-a874-462b-8c42-0a8f2f0dcb97\"}, {\"hoverinfo\": \"text\", \"line\": {\"color\": \"#bf4d28\", \"shape\": \"spline\", \"width\": 0.25}, \"mode\": \"lines\", \"text\": \"Hadoop<br>702\", \"x\": [-1.0983786720622035, -1.0998007533749488, -1.0998550587138947, -1.098541520541774, -1.0958617724508046], \"y\": [0.05970169812384486, 0.02093568427101366, -0.017856366412445757, -0.05662620988347751, -0.09532562971720249], \"type\": \"scatter\", \"uid\": \"b2a1252f-236e-4924-be08-3fb204142942\"}, {\"hoverinfo\": \"text\", \"line\": {\"color\": \"#af4624\", \"shape\": \"spline\", \"width\": 0.25}, \"mode\": \"lines\", \"text\": \"Spark<br>741\", \"x\": [-1.0923267804295798, -1.0866683865869684, -1.0794687346995728, -1.0707380362739831, -1.0604886743511999], \"y\": [-0.12970044239072112, -0.17073903359359607, -0.21153545992599812, -0.2520318584547092, -0.29217079178595995], \"type\": \"scatter\", \"uid\": \"c74985a7-7b9d-474c-adbb-2dd63e879edd\"}, {\"hoverinfo\": \"text\", \"line\": {\"color\": \"#9f4021\", \"shape\": \"spline\", \"width\": 0.25}, \"mode\": \"lines\", \"text\": \"Informatica<br>727\", \"x\": [-1.0507880808571275, -1.0381058383029147, -1.024017678995732, -1.008542682665659, -0.9917018072495349], \"y\": [-0.32533737739244617, -0.3637805224052034, -0.4017309959465336, -0.43913740132395507, -0.4759490786817496], \"type\": \"scatter\", \"uid\": \"48cd038c-bd60-4e60-a0f7-31912a19a34f\"}, {\"hoverinfo\": \"text\", \"line\": {\"color\": \"#8f391e\", \"shape\": \"spline\", \"width\": 0.25}, \"mode\": \"lines\", \"text\": \"Qlik<br>1806\", \"x\": [-0.9762625404285331, -0.9650338083831672, -0.9533506065622314, -0.9412184370134921, -0.9286430132200667, -0.9156302574097351, -0.9021862977659476, -0.8883174655418355, -0.874030292078596, -0.8593315057296403, -0.8442280286919683, -0.8287269737462521, -0.8128356409071654, -0.7965615139855404, -0.779912257063968, -0.7628957108874982, -0.745519889171147, -0.7277929748259464, -0.7097233161053083, -0.691319422673528], \"y\": [-0.5068643330872938, -0.5279296815651502, -0.5487464086146038, -0.5693047108762399, -0.5895949066923453, -0.6096074406663541, -0.6293328881628333, -0.6487619597458916, -0.6678855055539118, -0.6866945196085588, -0.7051801440560229, -0.7233336733385077, -0.7411465582939974, -0.7586104101823701, -0.7757170046359608, -0.7924582855327207, -0.8088263687901383, -0.8248135460781421, -0.8404122884492378, -0.8556152498841638], \"type\": \"scatter\", \"uid\": \"f2c8544b-43b6-4264-858f-8f6d3626fbbb\"}, {\"hoverinfo\": \"text\", \"line\": {\"color\": \"#f0f3e7\", \"shape\": \"spline\", \"width\": 0.25}, \"mode\": \"lines\", \"text\": \"Tableau<br>2266\", \"x\": [-0.6641027737927575, -0.6455300513591189, -0.6266722775851746, -0.6075377796335055, -0.588135006861778, -0.5684725270916937, -0.5485590228256417, -0.5284032874126976, -0.5080142211656867, -0.4874008274310033, -0.4665722086129446, -0.4455375621542897, -0.42430617647492624, -0.4028874268702888, -0.3812907713714492, -0.359525746568659, -0.3376019634002162, -0.31552910290848646, -0.29331691196498344, -0.270975198966365, -0.24851382950327697, -0.22594272200392548, -0.20327184335433324, -0.18051120449718236, -0.1576708560112183, -0.13476088367313568], \"y\": [-0.8769079232398154, -0.890668823296456, -0.9040364243249328, -0.9170048234976684, -0.9295682942655137, -0.9417212888864644, -0.953458440875415, -0.9647745673738785, -0.9756646714386151, -0.9861239442481728, -0.9961477672263485, -1.0057317140816495, -1.0148715527618404, -1.023563247322723, -1.0318029597103147, -1.0395870514556482, -1.0469120852814335, -1.0537748266198836, -1.0601722450410247, -1.0661015155908649, -1.0715600200388293, -1.076545348033912, -1.0810552981690305, -1.0850878789531182, -1.0886413096905196, -1.0917140212673078], \"type\": \"scatter\", \"uid\": \"f52a23ae-d255-47d2-9170-b08a2b3d33c7\"}, {\"hoverinfo\": \"text\", \"line\": {\"color\": \"#e2ecde\", \"shape\": \"spline\", \"width\": 0.25}, \"mode\": \"lines\", \"text\": \"Microstrategy<br>352\", \"x\": [-0.1004028212077405, -0.08531207237709046, -0.07020515195617949, -0.055084923583414075, -0.03995425341983312], \"y\": [-1.0954082679501405, -1.0966867603407668, -1.0977573669253191, -1.0986198847616995, -1.0992741503527061], \"type\": \"scatter\", \"uid\": \"bed6ff97-10ad-4e99-b83a-42e8fa0396d6\"}, {\"hoverinfo\": \"text\", \"line\": {\"color\": \"#d4e5d6\", \"shape\": \"spline\", \"width\": 0.25}, \"mode\": \"lines\", \"text\": \"Oracle BI<br>2854\", \"x\": [-0.005405502910095335, 0.01761906095386568, 0.04063590523912038, 0.06363494539340805, 0.08660610466512995, 0.1095393185183592, 0.13242453904249854, 0.15525173935464515, 0.17801091799275215, 0.2006921032976464, 0.22328535778199435, 0.2457807824842864, 0.26816852130595004, 0.29043876532968327, 0.3125817571171076, 0.3345877949838746, 0.3564472372503443, 0.37815050646596543, 0.39968809360552215, 0.42105056223540144, 0.442228552648047, 0.46321278596280485, 0.4839940681913554, 0.5045632942659428, 0.5249114520286535, 0.5450296261799866, 0.5649090021849797, 0.5845408701351934, 0.6039166285648547, 0.6230277882194807, 0.6418659757753458, 0.6604229375081514, 0.6786905429092979], \"y\": [-1.0999867183463121, -1.0998588858081313, -1.0992491633862622, -1.098157818223218, -1.0965853284786975, -1.0945323831200855, -1.0919998816205898, -1.0889889335651477, -1.085500858164275, -1.0815371836760708, -1.0770996467366272, -1.0721901915991454, -1.0668109692820844, -1.0609643366267167, -1.0546528552645091, -1.0478792904947731, -1.0406466100730818, -1.0329579829109865, -1.024816777687594, -1.0162265613736203, -1.0071910976685674, -0.9977143453517028, -0.987800456547567, -0.9774537749067727, -0.9666788337028854, -0.9554803538462234, -0.94386324181545, -0.9318325875078586, -0.9193936620092937, -0.9065519152846913, -0.8933129737902408, -0.8796826380082221, -0.865666879905592], \"type\": \"scatter\", \"uid\": \"df4b8bb2-1238-4cc1-98a7-93a2da32bef6\"}, {\"hoverinfo\": \"text\", \"line\": {\"color\": \"#c6decd\", \"shape\": \"spline\", \"width\": 0.25}, \"mode\": \"lines\", \"text\": \"Python<br>1793\", \"x\": [0.7055469039026527, 0.72355441777568, 0.7412264420435567, 0.7585547827400817, 0.7755314052544017, 0.7921484380564088, 0.8083981763465238, 0.8242730856281717, 0.8397658052012917, 0.8548691515752653, 0.8695761217996756, 0.8838798967113571, 0.8977738440962308, 0.9112515217644518, 0.9243066805374536, 0.9369332671454964, 0.9491254270343806, 0.9608775070800195, 0.9721840582096174, 0.983039837928234], \"y\": [-0.8439215404250452, -0.8285342506603436, -0.8127627954178576, -0.796614487429238, -0.7800968141609944, -0.7632174343427908, -0.7459841744163308, -0.7284050249064822, -0.7104881367163186, -0.692241817347801, -0.6736745270498476, -0.654794874895582, -0.6356116147905706, -0.6161336414139151, -0.5963699860940641, -0.5763298126212681, -0.5560224129986172, -0.5354572031336278, -0.5146437184723811, -0.49359160957823384], \"type\": \"scatter\", \"uid\": \"81f3f029-83bb-4fd8-8cb0-2f9a78eba84e\"}, {\"hoverinfo\": \"text\", \"line\": {\"color\": \"#b8d7c5\", \"shape\": \"spline\", \"width\": 0.25}, \"mode\": \"lines\", \"text\": \"VBA<br>714\", \"x\": [0.9980588542415828, 1.0140594164151353, 1.0287455724802532, 1.0420982864978885, 1.0541002509132917], \"y\": [-0.4624700244015597, -0.4262434749996714, -0.38946443624839017, -0.35218058049552453, -0.3144402344238658], \"type\": \"scatter\", \"uid\": \"6a5ed7d0-00b0-497c-bb89-470589fbd367\"}, {\"hoverinfo\": \"text\", \"line\": {\"color\": \"#aad0bc\", \"shape\": \"spline\", \"width\": 0.25}, \"mode\": \"lines\", \"text\": \"Linux<br>608\", \"x\": [1.063456922518957, 1.0712860005278417, 1.0781832841558274, 1.084142774211172, 1.089159287186069], \"y\": [-0.2811749881239606, -0.24969242093636201, -0.21799267365430974, -0.18610331841668992, -0.15405209228158626], \"type\": \"scatter\", \"uid\": \"676e4a52-6a86-4976-81dd-b5c8e69ddd3c\"}, {\"hoverinfo\": \"text\", \"line\": {\"color\": \"#9cc9b4\", \"shape\": \"spline\", \"width\": 0.25}, \"mode\": \"lines\", \"text\": \"AWS<br>444\", \"x\": [1.0934607459818784, 1.0955801816360309, 1.0972864748789797, 1.0985789822689056, 1.0994572164023046], \"y\": [-0.11976475690600519, -0.09850921584482111, -0.07721652703704286, -0.055894719938610456, -0.03455183498594511], \"type\": \"scatter\", \"uid\": \"397b174c-bd30-4481-9098-46dd1ecb2f77\"}, {\"hoverinfo\": \"text\", \"marker\": {\"color\": \"green\", \"size\": 0.5}, \"mode\": \"markers\", \"text\": \"Power BI appears with Excel 207 times\", \"x\": [0.8707126586029725], \"y\": [0.22772673569114218], \"type\": \"scatter\", \"uid\": \"8ddf0e9e-11d6-4acc-8139-dc080c8e7ea9\"}, {\"hoverinfo\": \"text\", \"marker\": {\"color\": \"blue\", \"size\": 0.5}, \"mode\": \"markers\", \"text\": \"Excel appears with Power BI 207 times\", \"x\": [0.7651706891169467], \"y\": [0.47382888949102386], \"type\": \"scatter\", \"uid\": \"2a2dad0c-c038-47d9-9ec9-044504401abb\"}, {\"hoverinfo\": \"text\", \"marker\": {\"color\": \"green\", \"size\": 0.5}, \"mode\": \"markers\", \"text\": \"Power BI appears with SSIS/SSRS 124 times\", \"x\": [0.8973897287952616], \"y\": [0.06849580025641683], \"type\": \"scatter\", \"uid\": \"e611a39b-4d38-41c8-b2bc-e74bfbc92a5f\"}, {\"hoverinfo\": \"text\", \"marker\": {\"color\": \"blue\", \"size\": 0.5}, \"mode\": \"markers\", \"text\": \"SSIS/SSRS appears with Power BI 124 times\", \"x\": [0.08984223774293319], \"y\": [0.8955045350624096], \"type\": \"scatter\", \"uid\": \"9d8e4ce7-48f1-45d2-980b-2a0688c48e42\"}, {\"hoverinfo\": \"text\", \"marker\": {\"color\": \"green\", \"size\": 0.5}, \"mode\": \"markers\", \"text\": \"Power BI appears with MS SQL Server 127 times\", \"x\": [0.8951472706107721], \"y\": [0.09333468764658154], \"type\": \"scatter\", \"uid\": \"0c57404e-ef3b-498f-8735-c8a1e6c54cf2\"}, {\"hoverinfo\": \"text\", \"marker\": {\"color\": \"blue\", \"size\": 0.5}, \"mode\": \"markers\", \"text\": \"MS SQL Server appears with Power BI 127 times\", \"x\": [-0.3996901163374201], \"y\": [0.8063794459819642], \"type\": \"scatter\", \"uid\": \"ed7ad684-b41e-4f95-a234-e3c42aa4be51\"}, {\"hoverinfo\": \"text\", \"marker\": {\"color\": \"green\", \"size\": 0.5}, \"mode\": \"markers\", \"text\": \"Power BI appears with MySQL/MariaDB 5 times\", \"x\": [0.8999998628684164], \"y\": [0.0004968267621698601], \"type\": \"scatter\", \"uid\": \"649fd5c5-2bcc-4522-a6ed-412fb2cda37e\"}, {\"hoverinfo\": \"text\", \"marker\": {\"color\": \"blue\", \"size\": 0.5}, \"mode\": \"markers\", \"text\": \"MySQL/MariaDB appears with Power BI 5 times\", \"x\": [-0.6647670777512671], \"y\": [0.6066998700659503], \"type\": \"scatter\", \"uid\": \"d539aecb-2546-4816-909e-e1e4708bc1c7\"}, {\"hoverinfo\": \"text\", \"marker\": {\"color\": \"green\", \"size\": 0.5}, \"mode\": \"markers\", \"text\": \"Power BI appears with T-SQL 44 times\", \"x\": [0.8992733223397412], \"y\": [0.0361592550814292], \"type\": \"scatter\", \"uid\": \"cc501001-f8f5-45c6-bc2b-7adfc8a98abf\"}, {\"hoverinfo\": \"text\", \"marker\": {\"color\": \"blue\", \"size\": 0.5}, \"mode\": \"markers\", \"text\": \"T-SQL appears with Power BI 44 times\", \"x\": [-0.7943044668290911], \"y\": [0.42317893848271015], \"type\": \"scatter\", \"uid\": \"ef562ba3-218e-4058-a1c7-b2d1ea303e21\"}, {\"hoverinfo\": \"text\", \"marker\": {\"color\": \"green\", \"size\": 0.5}, \"mode\": \"markers\", \"text\": \"Power BI appears with PL/SQL 9 times\", \"x\": [0.8999795894117313], \"y\": [0.006061240986093567], \"type\": \"scatter\", \"uid\": \"aae953ec-5d78-4f04-8cd1-181d55adfbe5\"}, {\"hoverinfo\": \"text\", \"marker\": {\"color\": \"blue\", \"size\": 0.5}, \"mode\": \"markers\", \"text\": \"PL/SQL appears with Power BI 9 times\", \"x\": [-0.8673791045622453], \"y\": [0.2401114094931715], \"type\": \"scatter\", \"uid\": \"a86dd8e6-4b91-49ae-9a4a-341c1d0e0246\"}, {\"hoverinfo\": \"text\", \"marker\": {\"color\": \"green\", \"size\": 0.5}, \"mode\": \"markers\", \"text\": \"Power BI appears with Pentaho 8 times\", \"x\": [0.8999893805507831], \"y\": [0.004372058533197351], \"type\": \"scatter\", \"uid\": \"e28341f4-fdb5-49d8-8b29-18279978507c\"}, {\"hoverinfo\": \"text\", \"marker\": {\"color\": \"blue\", \"size\": 0.5}, \"mode\": \"markers\", \"text\": \"Pentaho appears with Power BI 8 times\", \"x\": [-0.8849157166345771], \"y\": [0.16408587523950033], \"type\": \"scatter\", \"uid\": \"50d7e789-1feb-4b6e-ab25-c3443c023bae\"}, {\"hoverinfo\": \"text\", \"marker\": {\"color\": \"green\", \"size\": 0.5}, \"mode\": \"markers\", \"text\": \"Power BI appears with Hadoop 22 times\", \"x\": [0.8999183585726855], \"y\": [0.012122207053311213], \"type\": \"scatter\", \"uid\": \"283e1d3d-2b40-4fdd-aee7-494cd30b797e\"}, {\"hoverinfo\": \"text\", \"marker\": {\"color\": \"blue\", \"size\": 0.5}, \"mode\": \"markers\", \"text\": \"Hadoop appears with Power BI 22 times\", \"x\": [-0.8992273404556483], \"y\": [0.0372852541504222], \"type\": \"scatter\", \"uid\": \"26a1eeeb-e2e3-461f-b0d8-a6b4f6d23e22\"}, {\"hoverinfo\": \"text\", \"marker\": {\"color\": \"green\", \"size\": 0.5}, \"mode\": \"markers\", \"text\": \"Power BI appears with Spark 28 times\", \"x\": [0.8997296778078847], \"y\": [0.02205690077322695], \"type\": \"scatter\", \"uid\": \"d0851cc8-2a50-493d-a250-418a39acc2b8\"}, {\"hoverinfo\": \"text\", \"marker\": {\"color\": \"blue\", \"size\": 0.5}, \"mode\": \"markers\", \"text\": \"Spark appears with Power BI 28 times\", \"x\": [-0.8904730622959381], \"y\": [-0.13060522702133423], \"type\": \"scatter\", \"uid\": \"41e742e9-f109-44b9-b494-16ae46b8842c\"}, {\"hoverinfo\": \"text\", \"marker\": {\"color\": \"green\", \"size\": 0.5}, \"mode\": \"markers\", \"text\": \"Power BI appears with Informatica 15 times\", \"x\": [0.8999603692621984], \"y\": [0.00844593141386239], \"type\": \"scatter\", \"uid\": \"3b861fa1-4744-4774-a3af-0731a091380a\"}, {\"hoverinfo\": \"text\", \"marker\": {\"color\": \"blue\", \"size\": 0.5}, \"mode\": \"markers\", \"text\": \"Informatica appears with Power BI 15 times\", \"x\": [-0.8557354111593163], \"y\": [-0.27877752077238216], \"type\": \"scatter\", \"uid\": \"d19c7970-cc7b-4b50-8f18-fcbad1738826\"}, {\"hoverinfo\": \"text\", \"marker\": {\"color\": \"green\", \"size\": 0.5}, \"mode\": \"markers\", \"text\": \"Power BI appears with Qlik 174 times\", \"x\": [0.8865131933654963], \"y\": [0.1552235742047905], \"type\": \"scatter\", \"uid\": \"3c963782-e749-4105-b094-d377710cd207\"}, {\"hoverinfo\": \"text\", \"marker\": {\"color\": \"blue\", \"size\": 0.5}, \"mode\": \"markers\", \"text\": \"Qlik appears with Power BI 174 times\", \"x\": [-0.7307079920804999], \"y\": [-0.5254196706535492], \"type\": \"scatter\", \"uid\": \"59c16d9f-ee46-400c-8cb0-4ee2c402deee\"}, {\"hoverinfo\": \"text\", \"marker\": {\"color\": \"green\", \"size\": 0.5}, \"mode\": \"markers\", \"text\": \"Power BI appears with Tableau 183 times\", \"x\": [0.8797081257288002], \"y\": [0.19003582169349453], \"type\": \"scatter\", \"uid\": \"0b3c3d3a-79df-4fc9-93fd-876c272f40b3\"}, {\"hoverinfo\": \"text\", \"marker\": {\"color\": \"blue\", \"size\": 0.5}, \"mode\": \"markers\", \"text\": \"Tableau appears with Power BI 183 times\", \"x\": [-0.3634888048026892], \"y\": [-0.823332186169782], \"type\": \"scatter\", \"uid\": \"fb9fe997-3669-476e-a7d0-129fa6b71942\"}, {\"hoverinfo\": \"text\", \"marker\": {\"color\": \"green\", \"size\": 0.5}, \"mode\": \"markers\", \"text\": \"Power BI appears with Microstrategy 25 times\", \"x\": [0.8998433399347914], \"y\": [0.016791771050116998], \"type\": \"scatter\", \"uid\": \"a33f681d-6f93-4f5a-b8aa-a84e5815455b\"}, {\"hoverinfo\": \"text\", \"marker\": {\"color\": \"blue\", \"size\": 0.5}, \"mode\": \"markers\", \"text\": \"Microstrategy appears with Power BI 25 times\", \"x\": [-0.06439468563907307], \"y\": [-0.8976933354222059], \"type\": \"scatter\", \"uid\": \"50c00cf2-36bd-49b1-a071-4eca32ab924b\"}, {\"hoverinfo\": \"text\", \"marker\": {\"color\": \"green\", \"size\": 0.5}, \"mode\": \"markers\", \"text\": \"Power BI appears with Oracle BI 164 times\", \"x\": [0.8916871639513065], \"y\": [0.12204098346242442], \"type\": \"scatter\", \"uid\": \"0c0a178a-843a-4bba-9da1-a12b99e2c0e9\"}, {\"hoverinfo\": \"text\", \"marker\": {\"color\": \"blue\", \"size\": 0.5}, \"mode\": \"markers\", \"text\": \"Oracle BI appears with Power BI 164 times\", \"x\": [0.2025214482262991], \"y\": [-0.8769179340213783], \"type\": \"scatter\", \"uid\": \"c33d6873-c869-48f1-a49e-ede4577a87a4\"}, {\"hoverinfo\": \"text\", \"marker\": {\"color\": \"green\", \"size\": 0.5}, \"mode\": \"markers\", \"text\": \"Power BI appears with Python 79 times\", \"x\": [0.8986993789281283], \"y\": [0.048367616379105326], \"type\": \"scatter\", \"uid\": \"a6e33d0b-2969-4890-ba35-9a71d491e4ee\"}, {\"hoverinfo\": \"text\", \"marker\": {\"color\": \"blue\", \"size\": 0.5}, \"mode\": \"markers\", \"text\": \"Python appears with Power BI 79 times\", \"x\": [0.6335092371940398], \"y\": [-0.6392699323367445], \"type\": \"scatter\", \"uid\": \"2adc859a-3077-4496-a264-c0bd026227f9\"}, {\"hoverinfo\": \"text\", \"marker\": {\"color\": \"green\", \"size\": 0.5}, \"mode\": \"markers\", \"text\": \"Power BI appears with VBA 35 times\", \"x\": [0.8995544962329136], \"y\": [0.028314454032330346], \"type\": \"scatter\", \"uid\": \"e35a86cd-1952-4d26-b33c-841cc4570ce4\"}, {\"hoverinfo\": \"text\", \"marker\": {\"color\": \"blue\", \"size\": 0.5}, \"mode\": \"markers\", \"text\": \"VBA appears with Power BI 35 times\", \"x\": [0.8256928787477762], \"y\": [-0.3580939401682333], \"type\": \"scatter\", \"uid\": \"cdf8fcb4-e1e3-49da-9a9f-5c35a35ca82d\"}, {\"hoverinfo\": \"text\", \"marker\": {\"color\": \"green\", \"size\": 0.5}, \"mode\": \"markers\", \"text\": \"Power BI appears with Linux 7 times\", \"x\": [0.8999953868973527], \"y\": [0.0028815904435696258], \"type\": \"scatter\", \"uid\": \"9a523983-17ba-4cea-8460-c9dabbdd235c\"}, {\"hoverinfo\": \"text\", \"marker\": {\"color\": \"blue\", \"size\": 0.5}, \"mode\": \"markers\", \"text\": \"Linux appears with Power BI 7 times\", \"x\": [0.8705680126326253], \"y\": [-0.22827907346246426], \"type\": \"scatter\", \"uid\": \"4f4339d1-026c-4800-adff-f8a51966655f\"}, {\"hoverinfo\": \"text\", \"marker\": {\"color\": \"green\", \"size\": 0.5}, \"mode\": \"markers\", \"text\": \"Power BI appears with AWS 6 times\", \"x\": [0.8999985957729139], \"y\": [0.001589844892837407], \"type\": \"scatter\", \"uid\": \"14ecd267-e208-4d66-aaa5-91b6ed6b3a26\"}, {\"hoverinfo\": \"text\", \"marker\": {\"color\": \"blue\", \"size\": 0.5}, \"mode\": \"markers\", \"text\": \"AWS appears with Power BI 6 times\", \"x\": [0.8949538413739085], \"y\": [-0.09517153886580255], \"type\": \"scatter\", \"uid\": \"0e04ed4e-50b4-462b-a09a-7e946b8783d3\"}, {\"hoverinfo\": \"text\", \"marker\": {\"color\": \"green\", \"size\": 0.5}, \"mode\": \"markers\", \"text\": \"Excel appears with SSIS/SSRS 582 times\", \"x\": [0.45024906207893284], \"y\": [0.7792790142798928], \"type\": \"scatter\", \"uid\": \"d838fbf7-a91e-43ed-8d4a-4a26f94948df\"}, {\"hoverinfo\": \"text\", \"marker\": {\"color\": \"blue\", \"size\": 0.5}, \"mode\": \"markers\", \"text\": \"SSIS/SSRS appears with Excel 582 times\", \"x\": [-0.158727611657536], \"y\": [0.8858925133996193], \"type\": \"scatter\", \"uid\": \"d797982a-7b2d-4639-9410-28a1694ef533\"}, {\"hoverinfo\": \"text\", \"marker\": {\"color\": \"green\", \"size\": 0.5}, \"mode\": \"markers\", \"text\": \"Excel appears with MS SQL Server 259 times\", \"x\": [0.7059505986950577], \"y\": [0.5582416611128999], \"type\": \"scatter\", \"uid\": \"d7564fd9-bc55-494a-a7b1-2bcdaa3ca4e7\"}, {\"hoverinfo\": \"text\", \"marker\": {\"color\": \"blue\", \"size\": 0.5}, \"mode\": \"markers\", \"text\": \"MS SQL Server appears with Excel 259 times\", \"x\": [-0.49415537218149275], \"y\": [0.7522037411128519], \"type\": \"scatter\", \"uid\": \"f3a27ffb-9da6-49ea-946f-a51939528639\"}, {\"hoverinfo\": \"text\", \"marker\": {\"color\": \"green\", \"size\": 0.5}, \"mode\": \"markers\", \"text\": \"Excel appears with PostgreSQL 66 times\", \"x\": [0.8397078707742037], \"y\": [0.3238683247244985], \"type\": \"scatter\", \"uid\": \"209a8099-aea4-44d3-82c7-5e3813829bb0\"}, {\"hoverinfo\": \"text\", \"marker\": {\"color\": \"blue\", \"size\": 0.5}, \"mode\": \"markers\", \"text\": \"PostgreSQL appears with Excel 66 times\", \"x\": [-0.6196280092356423], \"y\": [0.6527335828427053], \"type\": \"scatter\", \"uid\": \"eda1cbd3-22e4-4e1d-983d-9791b63c0af9\"}, {\"hoverinfo\": \"text\", \"marker\": {\"color\": \"green\", \"size\": 0.5}, \"mode\": \"markers\", \"text\": \"Excel appears with MySQL/MariaDB 117 times\", \"x\": [0.8007482149008702], \"y\": [0.4108555662675994], \"type\": \"scatter\", \"uid\": \"0239d69f-5023-4541-a0fe-fd3bc69411d5\"}, {\"hoverinfo\": \"text\", \"marker\": {\"color\": \"blue\", \"size\": 0.5}, \"mode\": \"markers\", \"text\": \"MySQL/MariaDB appears with Excel 117 times\", \"x\": [-0.7440984614653012], \"y\": [0.5062780655380714], \"type\": \"scatter\", \"uid\": \"d7b111de-b4c3-4640-a89a-1b71aeef7fe6\"}, {\"hoverinfo\": \"text\", \"marker\": {\"color\": \"green\", \"size\": 0.5}, \"mode\": \"markers\", \"text\": \"Excel appears with T-SQL 176 times\", \"x\": [0.7859500470464923], \"y\": [0.43850031191279293], \"type\": \"scatter\", \"uid\": \"30f1ef4c-8128-4e91-8ea5-6e53665ee604\"}, {\"hoverinfo\": \"text\", \"marker\": {\"color\": \"blue\", \"size\": 0.5}, \"mode\": \"markers\", \"text\": \"T-SQL appears with Excel 176 times\", \"x\": [-0.852797827853707], \"y\": [0.28763842721027255], \"type\": \"scatter\", \"uid\": \"916d4c31-768b-49b9-adcf-333f40bd8f83\"}, {\"hoverinfo\": \"text\", \"marker\": {\"color\": \"green\", \"size\": 0.5}, \"mode\": \"markers\", \"text\": \"Excel appears with PL/SQL 57 times\", \"x\": [0.8489991367818015], \"y\": [0.2986644701730621], \"type\": \"scatter\", \"uid\": \"4c8d0458-9b22-440d-8db3-8022590ca641\"}, {\"hoverinfo\": \"text\", \"marker\": {\"color\": \"blue\", \"size\": 0.5}, \"mode\": \"markers\", \"text\": \"PL/SQL appears with Excel 57 times\", \"x\": [-0.874964814900248], \"y\": [0.2107998403381149], \"type\": \"scatter\", \"uid\": \"a2d70429-f0ca-4499-9351-3fb40957e082\"}, {\"hoverinfo\": \"text\", \"marker\": {\"color\": \"green\", \"size\": 0.5}, \"mode\": \"markers\", \"text\": \"Excel appears with Pentaho 64 times\", \"x\": [0.8446140018135684], \"y\": [0.3108491401636323], \"type\": \"scatter\", \"uid\": \"b0d4eeee-84aa-4631-8fec-e5814b3d41b0\"}, {\"hoverinfo\": \"text\", \"marker\": {\"color\": \"blue\", \"size\": 0.5}, \"mode\": \"markers\", \"text\": \"Pentaho appears with Excel 64 times\", \"x\": [-0.8962166189575409], \"y\": [0.08243647193029208], \"type\": \"scatter\", \"uid\": \"6b89f845-4a2a-462d-865b-6c9fe440376b\"}, {\"hoverinfo\": \"text\", \"marker\": {\"color\": \"green\", \"size\": 0.5}, \"mode\": \"markers\", \"text\": \"Excel appears with Hadoop 82 times\", \"x\": [0.8279582242353126], \"y\": [0.352824572445157], \"type\": \"scatter\", \"uid\": \"16080e6a-5611-43bd-894a-1f1a3e8e2e92\"}, {\"hoverinfo\": \"text\", \"marker\": {\"color\": \"blue\", \"size\": 0.5}, \"mode\": \"markers\", \"text\": \"Hadoop appears with Excel 82 times\", \"x\": [-0.8999838802033447], \"y\": [-0.005386592070290423], \"type\": \"scatter\", \"uid\": \"ebc4b32c-bed3-4fb6-9b83-2520f9f9d288\"}, {\"hoverinfo\": \"text\", \"marker\": {\"color\": \"green\", \"size\": 0.5}, \"mode\": \"markers\", \"text\": \"Excel appears with Spark 84 times\", \"x\": [0.8208326502548574], \"y\": [0.36909857799182444], \"type\": \"scatter\", \"uid\": \"b0bf8eec-8522-4099-9635-703e476fc3a8\"}, {\"hoverinfo\": \"text\", \"marker\": {\"color\": \"blue\", \"size\": 0.5}, \"mode\": \"markers\", \"text\": \"Spark appears with Excel 84 times\", \"x\": [-0.8814891232652154], \"y\": [-0.1815954998482117], \"type\": \"scatter\", \"uid\": \"c7b78cfd-948c-4e72-95c8-860246a17b65\"}, {\"hoverinfo\": \"text\", \"marker\": {\"color\": \"green\", \"size\": 0.5}, \"mode\": \"markers\", \"text\": \"Excel appears with Informatica 116 times\", \"x\": [0.8118230719554899], \"y\": [0.38851422089899307], \"type\": \"scatter\", \"uid\": \"ed128bdc-4056-4ee1-930a-6fcb8ca97af1\"}, {\"hoverinfo\": \"text\", \"marker\": {\"color\": \"blue\", \"size\": 0.5}, \"mode\": \"markers\", \"text\": \"Informatica appears with Excel 116 times\", \"x\": [-0.825625339930407], \"y\": [-0.3582496309346319], \"type\": \"scatter\", \"uid\": \"9b1ac907-2585-4d29-9f10-326b31144744\"}, {\"hoverinfo\": \"text\", \"marker\": {\"color\": \"green\", \"size\": 0.5}, \"mode\": \"markers\", \"text\": \"Excel appears with Qlik 402 times\", \"x\": [0.6080349853396798], \"y\": [0.6635461224383542], \"type\": \"scatter\", \"uid\": \"7e8a48a3-74e9-449a-ae9a-472479d165ee\"}, {\"hoverinfo\": \"text\", \"marker\": {\"color\": \"blue\", \"size\": 0.5}, \"mode\": \"markers\", \"text\": \"Qlik appears with Excel 402 times\", \"x\": [-0.5971437384783245], \"y\": [-0.6733642072431014], \"type\": \"scatter\", \"uid\": \"36dd6ed7-955c-429a-aae0-6c45fa6216e7\"}, {\"hoverinfo\": \"text\", \"marker\": {\"color\": \"green\", \"size\": 0.5}, \"mode\": \"markers\", \"text\": \"Excel appears with Tableau 424 times\", \"x\": [0.5400329370341669], \"y\": [0.7199752960471989], \"type\": \"scatter\", \"uid\": \"016f4667-ebbb-484f-b295-442aab48d507\"}, {\"hoverinfo\": \"text\", \"marker\": {\"color\": \"blue\", \"size\": 0.5}, \"mode\": \"markers\", \"text\": \"Tableau appears with Excel 424 times\", \"x\": [-0.1540102469497236], \"y\": [-0.886724784718734], \"type\": \"scatter\", \"uid\": \"9da276b7-9793-426c-8dfe-0cb225a25285\"}, {\"hoverinfo\": \"text\", \"marker\": {\"color\": \"green\", \"size\": 0.5}, \"mode\": \"markers\", \"text\": \"Excel appears with Microstrategy 38 times\", \"x\": [0.8558283953638208], \"y\": [0.27849193469288763], \"type\": \"scatter\", \"uid\": \"5c03f394-94e0-437a-9bf1-930c9e2fee9c\"}, {\"hoverinfo\": \"text\", \"marker\": {\"color\": \"blue\", \"size\": 0.5}, \"mode\": \"markers\", \"text\": \"Microstrategy appears with Excel 38 times\", \"x\": [-0.050975079424324145], \"y\": [-0.8985552522119515], \"type\": \"scatter\", \"uid\": \"01571a8c-3976-4f25-ad75-721726e2fbdd\"}, {\"hoverinfo\": \"text\", \"marker\": {\"color\": \"green\", \"size\": 0.5}, \"mode\": \"markers\", \"text\": \"Excel appears with Oracle BI 600 times\", \"x\": [0.3366354873396886], \"y\": [0.8346715214164014], \"type\": \"scatter\", \"uid\": \"5ef1447a-95d9-4144-9616-0303ecd6e69d\"}, {\"hoverinfo\": \"text\", \"marker\": {\"color\": \"blue\", \"size\": 0.5}, \"mode\": \"markers\", \"text\": \"Oracle BI appears with Excel 600 times\", \"x\": [0.504088532301111], \"y\": [-0.7455834974048928], \"type\": \"scatter\", \"uid\": \"981cdc23-61cd-4f40-b233-a5eab027b4ec\"}, {\"hoverinfo\": \"text\", \"marker\": {\"color\": \"green\", \"size\": 0.5}, \"mode\": \"markers\", \"text\": \"Excel appears with Python 342 times\", \"x\": [0.6642860687894806], \"y\": [0.6072264971262514], \"type\": \"scatter\", \"uid\": \"925a5ea0-7080-4012-85e6-e7e5f800eaf3\"}, {\"hoverinfo\": \"text\", \"marker\": {\"color\": \"blue\", \"size\": 0.5}, \"mode\": \"markers\", \"text\": \"Python appears with Excel 342 times\", \"x\": [0.7879391755175718], \"y\": [-0.4349159179481583], \"type\": \"scatter\", \"uid\": \"56075d5b-114b-4d2a-8746-963657abeecd\"}, {\"hoverinfo\": \"text\", \"marker\": {\"color\": \"green\", \"size\": 0.5}, \"mode\": \"markers\", \"text\": \"Excel appears with VBA 249 times\", \"x\": [0.7383651208729783], \"y\": [0.5146036807857403], \"type\": \"scatter\", \"uid\": \"348d9c82-0090-41c2-bd84-d19d7e19d21f\"}, {\"hoverinfo\": \"text\", \"marker\": {\"color\": \"blue\", \"size\": 0.5}, \"mode\": \"markers\", \"text\": \"VBA appears with Excel 249 times\", \"x\": [0.8557137696707491], \"y\": [-0.2788439427276057], \"type\": \"scatter\", \"uid\": \"e44655ff-9dbb-46ad-aed0-b85d83cdaaa6\"}, {\"hoverinfo\": \"text\", \"marker\": {\"color\": \"green\", \"size\": 0.5}, \"mode\": \"markers\", \"text\": \"Excel appears with Linux 72 times\", \"x\": [0.8342802791790688], \"y\": [0.337603933290024], \"type\": \"scatter\", \"uid\": \"ccf91aa4-4102-43d7-a281-bef19c25ad5a\"}, {\"hoverinfo\": \"text\", \"marker\": {\"color\": \"blue\", \"size\": 0.5}, \"mode\": \"markers\", \"text\": \"Linux appears with Excel 72 times\", \"x\": [0.8849714931292121], \"y\": [-0.16378478668256413], \"type\": \"scatter\", \"uid\": \"1360fbd9-76b8-40e2-ba30-8ce07947a5b1\"}, {\"hoverinfo\": \"text\", \"marker\": {\"color\": \"green\", \"size\": 0.5}, \"mode\": \"markers\", \"text\": \"Excel appears with AWS 52 times\", \"x\": [0.8527989208042768], \"y\": [0.2876351867819041], \"type\": \"scatter\", \"uid\": \"682a50ba-f72d-43b6-9c7f-9f84a5894dbf\"}, {\"hoverinfo\": \"text\", \"marker\": {\"color\": \"blue\", \"size\": 0.5}, \"mode\": \"markers\", \"text\": \"AWS appears with Excel 52 times\", \"x\": [0.8987888492697726], \"y\": [-0.04667552279640684], \"type\": \"scatter\", \"uid\": \"6353f676-29f2-44a4-bd3e-2844f7a392fd\"}, {\"hoverinfo\": \"text\", \"marker\": {\"color\": \"green\", \"size\": 0.5}, \"mode\": \"markers\", \"text\": \"SSIS/SSRS appears with MS SQL Server 263 times\", \"x\": [-0.07132953501584825], \"y\": [0.8971689347243489], \"type\": \"scatter\", \"uid\": \"3503c728-bfa5-4750-bd1d-a4d511500c7b\"}, {\"hoverinfo\": \"text\", \"marker\": {\"color\": \"blue\", \"size\": 0.5}, \"mode\": \"markers\", \"text\": \"MS SQL Server appears with SSIS/SSRS 263 times\", \"x\": [-0.5379368617958875], \"y\": [0.7215427449023324], \"type\": \"scatter\", \"uid\": \"74b83fd8-a0f4-493d-9d54-71e64e12b0d9\"}, {\"hoverinfo\": \"text\", \"marker\": {\"color\": \"green\", \"size\": 0.5}, \"mode\": \"markers\", \"text\": \"SSIS/SSRS appears with PostgreSQL 53 times\", \"x\": [0.19821192378122085], \"y\": [0.8779020635987522], \"type\": \"scatter\", \"uid\": \"56769653-b0fa-4b88-996d-be042178b829\"}, {\"hoverinfo\": \"text\", \"marker\": {\"color\": \"blue\", \"size\": 0.5}, \"mode\": \"markers\", \"text\": \"PostgreSQL appears with SSIS/SSRS 53 times\", \"x\": [-0.612398822539102], \"y\": [0.6595207973617825], \"type\": \"scatter\", \"uid\": \"9e814d80-ef5c-46e5-9ab8-10929140b2d7\"}, {\"hoverinfo\": \"text\", \"marker\": {\"color\": \"green\", \"size\": 0.5}, \"mode\": \"markers\", \"text\": \"SSIS/SSRS appears with MySQL/MariaDB 78 times\", \"x\": [0.1707446460987474], \"y\": [0.8836550604328669], \"type\": \"scatter\", \"uid\": \"986f0545-d9e5-4767-bcf4-737708f94e48\"}, {\"hoverinfo\": \"text\", \"marker\": {\"color\": \"blue\", \"size\": 0.5}, \"mode\": \"markers\", \"text\": \"MySQL/MariaDB appears with SSIS/SSRS 78 times\", \"x\": [-0.7137406536955422], \"y\": [0.5482465497039266], \"type\": \"scatter\", \"uid\": \"76cd0016-d3b7-4fb5-87e7-7ec00f4efafb\"}, {\"hoverinfo\": \"text\", \"marker\": {\"color\": \"green\", \"size\": 0.5}, \"mode\": \"markers\", \"text\": \"SSIS/SSRS appears with T-SQL 124 times\", \"x\": [0.11554585612522393], \"y\": [0.8925520461756217], \"type\": \"scatter\", \"uid\": \"e8c972a2-3f9e-4ddd-a24d-116ee9d4d8c5\"}, {\"hoverinfo\": \"text\", \"marker\": {\"color\": \"blue\", \"size\": 0.5}, \"mode\": \"markers\", \"text\": \"T-SQL appears with SSIS/SSRS 124 times\", \"x\": [-0.8202709131065634], \"y\": [0.3703452836358588], \"type\": \"scatter\", \"uid\": \"f416f399-e624-4338-af30-7b060ddcc69c\"}, {\"hoverinfo\": \"text\", \"marker\": {\"color\": \"green\", \"size\": 0.5}, \"mode\": \"markers\", \"text\": \"SSIS/SSRS appears with PL/SQL 39 times\", \"x\": [0.21587788313292888], \"y\": [0.8737257805364597], \"type\": \"scatter\", \"uid\": \"30129d0c-0d81-41e5-9ed6-7f62a3bdc425\"}, {\"hoverinfo\": \"text\", \"marker\": {\"color\": \"blue\", \"size\": 0.5}, \"mode\": \"markers\", \"text\": \"PL/SQL appears with SSIS/SSRS 39 times\", \"x\": [-0.8719998989828616], \"y\": [0.22274688813511911], \"type\": \"scatter\", \"uid\": \"8b8470f4-4c2f-46ba-98ce-036a2bdca5fb\"}, {\"hoverinfo\": \"text\", \"marker\": {\"color\": \"green\", \"size\": 0.5}, \"mode\": \"markers\", \"text\": \"SSIS/SSRS appears with Pentaho 34 times\", \"x\": [0.23012931475302612], \"y\": [0.8700807425126146], \"type\": \"scatter\", \"uid\": \"caae5305-6bd6-4998-81d3-c8d9d1f8587f\"}, {\"hoverinfo\": \"text\", \"marker\": {\"color\": \"blue\", \"size\": 0.5}, \"mode\": \"markers\", \"text\": \"Pentaho appears with SSIS/SSRS 34 times\", \"x\": [-0.8877847525019316], \"y\": [0.14777764792107137], \"type\": \"scatter\", \"uid\": \"f6f9b140-32b9-4b35-93ba-6d6496480360\"}, {\"hoverinfo\": \"text\", \"marker\": {\"color\": \"green\", \"size\": 0.5}, \"mode\": \"markers\", \"text\": \"SSIS/SSRS appears with Hadoop 34 times\", \"x\": [0.2232637245794551], \"y\": [0.8718677131806805], \"type\": \"scatter\", \"uid\": \"9dcffbac-faf4-42ec-bbba-1883bee94af2\"}, {\"hoverinfo\": \"text\", \"marker\": {\"color\": \"blue\", \"size\": 0.5}, \"mode\": \"markers\", \"text\": \"Hadoop appears with SSIS/SSRS 34 times\", \"x\": [-0.8995954200330719], \"y\": [0.02698296231922934], \"type\": \"scatter\", \"uid\": \"31706926-1727-4d00-8a5a-2cb5d42145fe\"}, {\"hoverinfo\": \"text\", \"marker\": {\"color\": \"green\", \"size\": 0.5}, \"mode\": \"markers\", \"text\": \"SSIS/SSRS appears with Spark 41 times\", \"x\": [0.20776607643196066], \"y\": [0.8756901606641865], \"type\": \"scatter\", \"uid\": \"179000ca-e5f6-4a21-9b9e-dcbc83928e6e\"}, {\"hoverinfo\": \"text\", \"marker\": {\"color\": \"blue\", \"size\": 0.5}, \"mode\": \"markers\", \"text\": \"Spark appears with SSIS/SSRS 41 times\", \"x\": [-0.8875582079927599], \"y\": [-0.14913224810442835], \"type\": \"scatter\", \"uid\": \"6ad88c45-a382-4601-94ea-4bd74ae03abc\"}, {\"hoverinfo\": \"text\", \"marker\": {\"color\": \"green\", \"size\": 0.5}, \"mode\": \"markers\", \"text\": \"SSIS/SSRS appears with Informatica 69 times\", \"x\": [0.18577692770174128], \"y\": [0.8806173590917352], \"type\": \"scatter\", \"uid\": \"99374190-3c99-43b2-b660-430ac8b08155\"}, {\"hoverinfo\": \"text\", \"marker\": {\"color\": \"blue\", \"size\": 0.5}, \"mode\": \"markers\", \"text\": \"Informatica appears with SSIS/SSRS 69 times\", \"x\": [-0.8384964990770377], \"y\": [-0.326991775180281], \"type\": \"scatter\", \"uid\": \"7a4446a7-6efd-46bc-b87d-252f0dd4361c\"}, {\"hoverinfo\": \"text\", \"marker\": {\"color\": \"green\", \"size\": 0.5}, \"mode\": \"markers\", \"text\": \"SSIS/SSRS appears with Qlik 85 times\", \"x\": [0.13713409101430313], \"y\": [0.8894910011246212], \"type\": \"scatter\", \"uid\": \"95e01805-246e-413b-b123-97cd32bbb6d6\"}, {\"hoverinfo\": \"text\", \"marker\": {\"color\": \"blue\", \"size\": 0.5}, \"mode\": \"markers\", \"text\": \"Qlik appears with SSIS/SSRS 85 times\", \"x\": [-0.756444727390399], \"y\": [-0.48763856943771877], \"type\": \"scatter\", \"uid\": \"69dc3042-33c9-453a-9c55-60071badfc48\"}, {\"hoverinfo\": \"text\", \"marker\": {\"color\": \"green\", \"size\": 0.5}, \"mode\": \"markers\", \"text\": \"SSIS/SSRS appears with Tableau 155 times\", \"x\": [0.060837979567224], \"y\": [0.8979413902043819], \"type\": \"scatter\", \"uid\": \"c1d4b21b-e382-4423-97de-5e74e886b4ca\"}, {\"hoverinfo\": \"text\", \"marker\": {\"color\": \"blue\", \"size\": 0.5}, \"mode\": \"markers\", \"text\": \"Tableau appears with SSIS/SSRS 155 times\", \"x\": [-0.3954607499148735], \"y\": [-0.8084619937119901], \"type\": \"scatter\", \"uid\": \"0ff59b2a-bc7e-4812-a68a-5f6f639f3234\"}, {\"hoverinfo\": \"text\", \"marker\": {\"color\": \"green\", \"size\": 0.5}, \"mode\": \"markers\", \"text\": \"SSIS/SSRS appears with Microstrategy 29 times\", \"x\": [0.24271227279861005], \"y\": [0.8666549213112064], \"type\": \"scatter\", \"uid\": \"f230b486-daa7-4a90-959a-b5a496d00ed0\"}, {\"hoverinfo\": \"text\", \"marker\": {\"color\": \"blue\", \"size\": 0.5}, \"mode\": \"markers\", \"text\": \"Microstrategy appears with SSIS/SSRS 29 times\", \"x\": [-0.060601988655952635], \"y\": [-0.8979573480800432], \"type\": \"scatter\", \"uid\": \"993ef011-5155-4b81-a846-cfd486448ec3\"}, {\"hoverinfo\": \"text\", \"marker\": {\"color\": \"green\", \"size\": 0.5}, \"mode\": \"markers\", \"text\": \"SSIS/SSRS appears with Oracle BI 262 times\", \"x\": [-0.016630891637737625], \"y\": [0.899846327682307], \"type\": \"scatter\", \"uid\": \"c3b6ba80-f14f-4502-b7d4-621479d05d31\"}, {\"hoverinfo\": \"text\", \"marker\": {\"color\": \"blue\", \"size\": 0.5}, \"mode\": \"markers\", \"text\": \"Oracle BI appears with SSIS/SSRS 262 times\", \"x\": [0.2808246520435729], \"y\": [-0.8550657955997341], \"type\": \"scatter\", \"uid\": \"f752bff0-a634-4437-99df-8ae689c096ef\"}, {\"hoverinfo\": \"text\", \"marker\": {\"color\": \"green\", \"size\": 0.5}, \"mode\": \"markers\", \"text\": \"SSIS/SSRS appears with Python 163 times\", \"x\": [0.027703495069807117], \"y\": [0.89957351915278], \"type\": \"scatter\", \"uid\": \"0291c449-2e88-4a23-b848-489d0472cf16\"}, {\"hoverinfo\": \"text\", \"marker\": {\"color\": \"blue\", \"size\": 0.5}, \"mode\": \"markers\", \"text\": \"Python appears with SSIS/SSRS 163 times\", \"x\": [0.7615872113820186], \"y\": [-0.4795674295230657], \"type\": \"scatter\", \"uid\": \"8ca16f07-f429-4989-81c3-075fe38416ad\"}, {\"hoverinfo\": \"text\", \"marker\": {\"color\": \"green\", \"size\": 0.5}, \"mode\": \"markers\", \"text\": \"SSIS/SSRS appears with VBA 82 times\", \"x\": [0.15432677646598633], \"y\": [0.8866697502822669], \"type\": \"scatter\", \"uid\": \"cd669bdb-3aa4-4b37-9728-a7656d1f11ac\"}, {\"hoverinfo\": \"text\", \"marker\": {\"color\": \"blue\", \"size\": 0.5}, \"mode\": \"markers\", \"text\": \"VBA appears with SSIS/SSRS 82 times\", \"x\": [0.8459302947847546], \"y\": [-0.30724898106483345], \"type\": \"scatter\", \"uid\": \"f320875d-29ec-4a58-aee2-ad89f400f8ae\"}, {\"hoverinfo\": \"text\", \"marker\": {\"color\": \"green\", \"size\": 0.5}, \"mode\": \"markers\", \"text\": \"SSIS/SSRS appears with Linux 18 times\", \"x\": [0.24743042417449515], \"y\": [0.8653197011468243], \"type\": \"scatter\", \"uid\": \"d85227c7-7b08-40f9-b960-c5e8beaba8a3\"}, {\"hoverinfo\": \"text\", \"marker\": {\"color\": \"blue\", \"size\": 0.5}, \"mode\": \"markers\", \"text\": \"Linux appears with SSIS/SSRS 18 times\", \"x\": [0.8718170758845859], \"y\": [-0.22346137517712145], \"type\": \"scatter\", \"uid\": \"cc2ad91d-123c-4fd3-8fc2-35b3e0c31fdd\"}, {\"hoverinfo\": \"text\", \"marker\": {\"color\": \"green\", \"size\": 0.5}, \"mode\": \"markers\", \"text\": \"SSIS/SSRS appears with AWS 31 times\", \"x\": [0.23667865029585325], \"y\": [0.8683220695652814], \"type\": \"scatter\", \"uid\": \"7e7dc369-c176-4c1a-8ab7-f7f7088169ed\"}, {\"hoverinfo\": \"text\", \"marker\": {\"color\": \"blue\", \"size\": 0.5}, \"mode\": \"markers\", \"text\": \"AWS appears with SSIS/SSRS 31 times\", \"x\": [0.8963767312333791], \"y\": [-0.08067685977628528], \"type\": \"scatter\", \"uid\": \"3b6c8e0e-0910-4bc4-b472-2c983791a34e\"}, {\"hoverinfo\": \"text\", \"marker\": {\"color\": \"green\", \"size\": 0.5}, \"mode\": \"markers\", \"text\": \"MS SQL Server appears with PostgreSQL 82 times\", \"x\": [-0.32234189382684764], \"y\": [0.8402950097936566], \"type\": \"scatter\", \"uid\": \"4397d3f3-b4cb-4105-a9a8-ce010a50e94b\"}, {\"hoverinfo\": \"text\", \"marker\": {\"color\": \"blue\", \"size\": 0.5}, \"mode\": \"markers\", \"text\": \"PostgreSQL appears with MS SQL Server 82 times\", \"x\": [-0.6285138849530157], \"y\": [0.644181881475463], \"type\": \"scatter\", \"uid\": \"6fbc8723-d2cd-4b3d-9c85-71441502fb23\"}, {\"hoverinfo\": \"text\", \"marker\": {\"color\": \"green\", \"size\": 0.5}, \"mode\": \"markers\", \"text\": \"MS SQL Server appears with MySQL/MariaDB 90 times\", \"x\": [-0.33872508947575997], \"y\": [0.8338257094618986], \"type\": \"scatter\", \"uid\": \"1862b10c-727b-48e0-ab12-5d35449f9473\"}, {\"hoverinfo\": \"text\", \"marker\": {\"color\": \"blue\", \"size\": 0.5}, \"mode\": \"markers\", \"text\": \"MySQL/MariaDB appears with MS SQL Server 90 times\", \"x\": [-0.7230516491219217], \"y\": [0.5359070000495137], \"type\": \"scatter\", \"uid\": \"e52082c0-7b9f-43d0-bb89-f1954974828f\"}, {\"hoverinfo\": \"text\", \"marker\": {\"color\": \"green\", \"size\": 0.5}, \"mode\": \"markers\", \"text\": \"MS SQL Server appears with T-SQL 167 times\", \"x\": [-0.42643799026310064], \"y\": [0.7925595501035665], \"type\": \"scatter\", \"uid\": \"647bd353-0df0-4a49-a2d8-20cbfae677e2\"}, {\"hoverinfo\": \"text\", \"marker\": {\"color\": \"blue\", \"size\": 0.5}, \"mode\": \"markers\", \"text\": \"T-SQL appears with MS SQL Server 167 times\", \"x\": [-0.841446335271008], \"y\": [0.3193243881368765], \"type\": \"scatter\", \"uid\": \"ba297329-ec60-47de-91b8-f2c724270aff\"}, {\"hoverinfo\": \"text\", \"marker\": {\"color\": \"green\", \"size\": 0.5}, \"mode\": \"markers\", \"text\": \"MS SQL Server appears with PL/SQL 11 times\", \"x\": [-0.24846112578029161], \"y\": [0.8650243169853609], \"type\": \"scatter\", \"uid\": \"d8876ace-215c-4bbb-aa71-7bf75724427e\"}, {\"hoverinfo\": \"text\", \"marker\": {\"color\": \"blue\", \"size\": 0.5}, \"mode\": \"markers\", \"text\": \"PL/SQL appears with MS SQL Server 11 times\", \"x\": [-0.8677555119269893], \"y\": [0.2387475057887072], \"type\": \"scatter\", \"uid\": \"4f0f530e-16f8-4a01-8cc0-0166d5a3398a\"}, {\"hoverinfo\": \"text\", \"marker\": {\"color\": \"green\", \"size\": 0.5}, \"mode\": \"markers\", \"text\": \"MS SQL Server appears with Pentaho 46 times\", \"x\": [-0.27579330731145735], \"y\": [0.8567018452426772], \"type\": \"scatter\", \"uid\": \"43ffe6c6-1970-440f-b597-298d6fd817d0\"}, {\"hoverinfo\": \"text\", \"marker\": {\"color\": \"blue\", \"size\": 0.5}, \"mode\": \"markers\", \"text\": \"Pentaho appears with MS SQL Server 46 times\", \"x\": [-0.8941705852391785], \"y\": [0.10226907887052156], \"type\": \"scatter\", \"uid\": \"fbaaee03-7d2c-4335-bfe4-a3107a325fcb\"}, {\"hoverinfo\": \"text\", \"marker\": {\"color\": \"green\", \"size\": 0.5}, \"mode\": \"markers\", \"text\": \"MS SQL Server appears with Hadoop 29 times\", \"x\": [-0.26122938625173986], \"y\": [0.8612544384550592], \"type\": \"scatter\", \"uid\": \"b12671d3-2796-442c-b8e5-64b0f8ca961b\"}, {\"hoverinfo\": \"text\", \"marker\": {\"color\": \"blue\", \"size\": 0.5}, \"mode\": \"markers\", \"text\": \"Hadoop appears with MS SQL Server 29 times\", \"x\": [-0.8994065948926128], \"y\": [0.032676858228347525], \"type\": \"scatter\", \"uid\": \"469237cb-59e8-496b-b337-bcb13b3aa77f\"}, {\"hoverinfo\": \"text\", \"marker\": {\"color\": \"green\", \"size\": 0.5}, \"mode\": \"markers\", \"text\": \"MS SQL Server appears with Spark 26 times\", \"x\": [-0.25583424444530867], \"y\": [0.8628724351658813], \"type\": \"scatter\", \"uid\": \"d0b43c3e-12ba-48eb-8791-4a75f57a62b5\"}, {\"hoverinfo\": \"text\", \"marker\": {\"color\": \"blue\", \"size\": 0.5}, \"mode\": \"markers\", \"text\": \"Spark appears with MS SQL Server 26 times\", \"x\": [-0.8911765793716513], \"y\": [-0.1257151716358963], \"type\": \"scatter\", \"uid\": \"4ea63699-0b79-47d5-8b1c-7023340e04b8\"}, {\"hoverinfo\": \"text\", \"marker\": {\"color\": \"green\", \"size\": 0.5}, \"mode\": \"markers\", \"text\": \"MS SQL Server appears with Informatica 62 times\", \"x\": [-0.29599065153356724], \"y\": [0.8499350176364864], \"type\": \"scatter\", \"uid\": \"128f93a5-cc7e-43ca-b3b6-cda78126b7f6\"}, {\"hoverinfo\": \"text\", \"marker\": {\"color\": \"blue\", \"size\": 0.5}, \"mode\": \"markers\", \"text\": \"Informatica appears with MS SQL Server 62 times\", \"x\": [-0.8470901389132175], \"y\": [-0.3040366697554521], \"type\": \"scatter\", \"uid\": \"c7076f8d-fdad-43a9-8411-358ea677327e\"}, {\"hoverinfo\": \"text\", \"marker\": {\"color\": \"green\", \"size\": 0.5}, \"mode\": \"markers\", \"text\": \"MS SQL Server appears with Qlik 65 times\", \"x\": [-0.3082418800263745], \"y\": [0.845569005698415], \"type\": \"scatter\", \"uid\": \"4c102f21-62e4-4a66-b757-3db6ae9e8eaa\"}, {\"hoverinfo\": \"text\", \"marker\": {\"color\": \"blue\", \"size\": 0.5}, \"mode\": \"markers\", \"text\": \"Qlik appears with MS SQL Server 65 times\", \"x\": [-0.7723816137866092], \"y\": [-0.46198121464448455], \"type\": \"scatter\", \"uid\": \"85fa9be6-7025-4896-9e04-e2dbb6aeebac\"}, {\"hoverinfo\": \"text\", \"marker\": {\"color\": \"green\", \"size\": 0.5}, \"mode\": \"markers\", \"text\": \"MS SQL Server appears with Tableau 104 times\", \"x\": [-0.3570477922006166], \"y\": [0.8261457946904198], \"type\": \"scatter\", \"uid\": \"db826ecf-663b-4aff-813d-b66218c3f5ce\"}, {\"hoverinfo\": \"text\", \"marker\": {\"color\": \"blue\", \"size\": 0.5}, \"mode\": \"markers\", \"text\": \"Tableau appears with MS SQL Server 104 times\", \"x\": [-0.4437184666266509], \"y\": [-0.7830159145090818], \"type\": \"scatter\", \"uid\": \"687208ce-2aff-49f0-8799-6f6866183693\"}, {\"hoverinfo\": \"text\", \"marker\": {\"color\": \"green\", \"size\": 0.5}, \"mode\": \"markers\", \"text\": \"MS SQL Server appears with Microstrategy 19 times\", \"x\": [-0.2514125748420334], \"y\": [0.8641711157006459], \"type\": \"scatter\", \"uid\": \"9817a7a9-25b4-435b-8298-501b467f36ce\"}, {\"hoverinfo\": \"text\", \"marker\": {\"color\": \"blue\", \"size\": 0.5}, \"mode\": \"markers\", \"text\": \"Microstrategy appears with MS SQL Server 19 times\", \"x\": [-0.07352040919227532], \"y\": [-0.8969920565045157], \"type\": \"scatter\", \"uid\": \"c983729f-2169-4d94-b317-3d9ef906b8b6\"}, {\"hoverinfo\": \"text\", \"marker\": {\"color\": \"green\", \"size\": 0.5}, \"mode\": \"markers\", \"text\": \"MS SQL Server appears with Oracle BI 172 times\", \"x\": [-0.45668569431151], \"y\": [0.775524452619783], \"type\": \"scatter\", \"uid\": \"aa4f6d35-51e8-4577-8767-6de241848e10\"}, {\"hoverinfo\": \"text\", \"marker\": {\"color\": \"blue\", \"size\": 0.5}, \"mode\": \"markers\", \"text\": \"Oracle BI appears with MS SQL Server 172 times\", \"x\": [0.2369313099168601], \"y\": [-0.8682531626093168], \"type\": \"scatter\", \"uid\": \"7fe66655-2040-4818-9ec7-a725d5de90e5\"}, {\"hoverinfo\": \"text\", \"marker\": {\"color\": \"green\", \"size\": 0.5}, \"mode\": \"markers\", \"text\": \"MS SQL Server appears with Python 114 times\", \"x\": [-0.37742918296156625], \"y\": [0.8170356245898733], \"type\": \"scatter\", \"uid\": \"35472bac-010e-4f0d-b776-9199420dee85\"}, {\"hoverinfo\": \"text\", \"marker\": {\"color\": \"blue\", \"size\": 0.5}, \"mode\": \"markers\", \"text\": \"Python appears with MS SQL Server 114 times\", \"x\": [0.6732373055538944], \"y\": [-0.5972868074974805], \"type\": \"scatter\", \"uid\": \"5a7db09a-37fd-4aba-af9b-e51095650aab\"}, {\"hoverinfo\": \"text\", \"marker\": {\"color\": \"green\", \"size\": 0.5}, \"mode\": \"markers\", \"text\": \"MS SQL Server appears with VBA 37 times\", \"x\": [-0.26769003209334735], \"y\": [0.8592683205599184], \"type\": \"scatter\", \"uid\": \"a07c8497-c4ea-4579-ac2b-4ae852e2dacb\"}, {\"hoverinfo\": \"text\", \"marker\": {\"color\": \"blue\", \"size\": 0.5}, \"mode\": \"markers\", \"text\": \"VBA appears with MS SQL Server 37 times\", \"x\": [0.8282713535035124], \"y\": [-0.35208885947365565], \"type\": \"scatter\", \"uid\": \"30627b65-9c81-4f85-be19-ef4e8b8d97f5\"}, {\"hoverinfo\": \"text\", \"marker\": {\"color\": \"green\", \"size\": 0.5}, \"mode\": \"markers\", \"text\": \"MS SQL Server appears with Linux 50 times\", \"x\": [-0.28513504195699846], \"y\": [0.8536381012163062], \"type\": \"scatter\", \"uid\": \"2785da09-8679-4938-b062-0ad9913e5784\"}, {\"hoverinfo\": \"text\", \"marker\": {\"color\": \"blue\", \"size\": 0.5}, \"mode\": \"markers\", \"text\": \"Linux appears with MS SQL Server 50 times\", \"x\": [0.8805590111238464], \"y\": [-0.18605329324845013], \"type\": \"scatter\", \"uid\": \"f9c111aa-ce3a-43b0-bd0e-e17b7a50ea3b\"}, {\"hoverinfo\": \"text\", \"marker\": {\"color\": \"green\", \"size\": 0.5}, \"mode\": \"markers\", \"text\": \"MS SQL Server appears with AWS 10 times\", \"x\": [-0.24639338666188268], \"y\": [0.8656155607481233], \"type\": \"scatter\", \"uid\": \"b0b081ef-9d3b-4b8c-84f3-c97528b6b729\"}, {\"hoverinfo\": \"text\", \"marker\": {\"color\": \"blue\", \"size\": 0.5}, \"mode\": \"markers\", \"text\": \"AWS appears with MS SQL Server 10 times\", \"x\": [0.8952329357500384], \"y\": [-0.09250940897210237], \"type\": \"scatter\", \"uid\": \"7dc0f31a-9930-48ca-87af-6629685a84cf\"}, {\"hoverinfo\": \"text\", \"marker\": {\"color\": \"green\", \"size\": 0.5}, \"mode\": \"markers\", \"text\": \"PostgreSQL appears with MySQL/MariaDB 94 times\", \"x\": [-0.6389271209867966], \"y\": [0.6338549787352966], \"type\": \"scatter\", \"uid\": \"172210fd-ec86-44f8-8cfe-5e23c3311ba4\"}, {\"hoverinfo\": \"text\", \"marker\": {\"color\": \"blue\", \"size\": 0.5}, \"mode\": \"markers\", \"text\": \"MySQL/MariaDB appears with PostgreSQL 94 times\", \"x\": [-0.7330045593433955], \"y\": [0.5222109879941197], \"type\": \"scatter\", \"uid\": \"3d7481ef-ad8a-47cd-a70c-e3e3cf883f29\"}, {\"hoverinfo\": \"text\", \"marker\": {\"color\": \"green\", \"size\": 0.5}, \"mode\": \"markers\", \"text\": \"PostgreSQL appears with T-SQL 35 times\", \"x\": [-0.5909604085694906], \"y\": [0.6787973154803876], \"type\": \"scatter\", \"uid\": \"e08a209f-014c-448e-8c64-bbcd564207a9\"}, {\"hoverinfo\": \"text\", \"marker\": {\"color\": \"blue\", \"size\": 0.5}, \"mode\": \"markers\", \"text\": \"T-SQL appears with PostgreSQL 35 times\", \"x\": [-0.7794021523157166], \"y\": [0.45003587075435275], \"type\": \"scatter\", \"uid\": \"72666914-784b-498a-b64d-7f69ef9d09d1\"}, {\"hoverinfo\": \"text\", \"marker\": {\"color\": \"green\", \"size\": 0.5}, \"mode\": \"markers\", \"text\": \"PostgreSQL appears with PL/SQL 1 times\", \"x\": [-0.5812221026913229], \"y\": [0.6871541801830776], \"type\": \"scatter\", \"uid\": \"3d9927aa-3963-42ff-88d1-29f0cf518f72\"}, {\"hoverinfo\": \"text\", \"marker\": {\"color\": \"blue\", \"size\": 0.5}, \"mode\": \"markers\", \"text\": \"PL/SQL appears with PostgreSQL 1 times\", \"x\": [-0.8663137622960064], \"y\": [0.24392717203406933], \"type\": \"scatter\", \"uid\": \"0b5308da-357b-4193-9853-871107dfd40c\"}, {\"hoverinfo\": \"text\", \"marker\": {\"color\": \"green\", \"size\": 0.5}, \"mode\": \"markers\", \"text\": \"PostgreSQL appears with Pentaho 45 times\", \"x\": [-0.6063895161379236], \"y\": [0.6650501896233209], \"type\": \"scatter\", \"uid\": \"f0c91cbc-8cc3-4ec7-b14e-61856a623baf\"}, {\"hoverinfo\": \"text\", \"marker\": {\"color\": \"blue\", \"size\": 0.5}, \"mode\": \"markers\", \"text\": \"Pentaho appears with PostgreSQL 45 times\", \"x\": [-0.8932643594714965], \"y\": [0.10990352177240291], \"type\": \"scatter\", \"uid\": \"411120a7-c484-41c0-a5e8-e5163ec11a32\"}, {\"hoverinfo\": \"text\", \"marker\": {\"color\": \"green\", \"size\": 0.5}, \"mode\": \"markers\", \"text\": \"PostgreSQL appears with Hadoop 3 times\", \"x\": [-0.5814765490246641], \"y\": [0.686938878601559], \"type\": \"scatter\", \"uid\": \"65e3199f-69b2-4e2f-8fd8-8868915e921d\"}, {\"hoverinfo\": \"text\", \"marker\": {\"color\": \"blue\", \"size\": 0.5}, \"mode\": \"markers\", \"text\": \"Hadoop appears with PostgreSQL 3 times\", \"x\": [-0.8987172632907839], \"y\": [0.04803416141792957], \"type\": \"scatter\", \"uid\": \"a3ff6e26-dded-4dc6-92a9-4c9012d1e553\"}, {\"hoverinfo\": \"text\", \"marker\": {\"color\": \"green\", \"size\": 0.5}, \"mode\": \"markers\", \"text\": \"PostgreSQL appears with Spark 7 times\", \"x\": [-0.5832554382940528], \"y\": [0.6854291310561671], \"type\": \"scatter\", \"uid\": \"9e461534-edda-433d-bfb5-d4bf918b81f6\"}, {\"hoverinfo\": \"text\", \"marker\": {\"color\": \"blue\", \"size\": 0.5}, \"mode\": \"markers\", \"text\": \"Spark appears with PostgreSQL 7 times\", \"x\": [-0.8934493397965018], \"y\": [-0.10838947004757894], \"type\": \"scatter\", \"uid\": \"8f4316c7-a8c4-4147-9850-e4b3298405d7\"}, {\"hoverinfo\": \"text\", \"marker\": {\"color\": \"green\", \"size\": 0.5}, \"mode\": \"markers\", \"text\": \"PostgreSQL appears with Qlik 14 times\", \"x\": [-0.5845870334661446], \"y\": [0.6842937967739097], \"type\": \"scatter\", \"uid\": \"c05227d1-6a23-4c2f-ba89-ce05d07191d1\"}, {\"hoverinfo\": \"text\", \"marker\": {\"color\": \"blue\", \"size\": 0.5}, \"mode\": \"markers\", \"text\": \"Qlik appears with PostgreSQL 14 times\", \"x\": [-0.79676276642454], \"y\": [-0.4185320705029831], \"type\": \"scatter\", \"uid\": \"1766d228-bd38-403d-a311-add70b086cb5\"}, {\"hoverinfo\": \"text\", \"marker\": {\"color\": \"green\", \"size\": 0.5}, \"mode\": \"markers\", \"text\": \"PostgreSQL appears with Tableau 6 times\", \"x\": [-0.5824300121811514], \"y\": [0.6861306587747438], \"type\": \"scatter\", \"uid\": \"75cf0d31-bdba-4604-8e40-990d59ed86eb\"}, {\"hoverinfo\": \"text\", \"marker\": {\"color\": \"blue\", \"size\": 0.5}, \"mode\": \"markers\", \"text\": \"Tableau appears with PostgreSQL 6 times\", \"x\": [-0.5428576652287802], \"y\": [-0.7178478636189967], \"type\": \"scatter\", \"uid\": \"798231c0-c91b-484f-b3af-b0048bdb8668\"}, {\"hoverinfo\": \"text\", \"marker\": {\"color\": \"green\", \"size\": 0.5}, \"mode\": \"markers\", \"text\": \"PostgreSQL appears with Oracle BI 44 times\", \"x\": [-0.6008888152073871], \"y\": [0.6700243516161652], \"type\": \"scatter\", \"uid\": \"6a22486d-d7e7-4cb6-94fd-8fb4500f65a8\"}, {\"hoverinfo\": \"text\", \"marker\": {\"color\": \"blue\", \"size\": 0.5}, \"mode\": \"markers\", \"text\": \"Oracle BI appears with PostgreSQL 44 times\", \"x\": [0.023456762043178304], \"y\": [-0.8996942704688352], \"type\": \"scatter\", \"uid\": \"03a82843-3aeb-41cd-8ace-ac79b0366534\"}, {\"hoverinfo\": \"text\", \"marker\": {\"color\": \"green\", \"size\": 0.5}, \"mode\": \"markers\", \"text\": \"PostgreSQL appears with Python 26 times\", \"x\": [-0.5871172872610931], \"y\": [0.6821241023444159], \"type\": \"scatter\", \"uid\": \"5da6fb00-f9d9-47e2-b14c-e9c9e9e29cf5\"}, {\"hoverinfo\": \"text\", \"marker\": {\"color\": \"blue\", \"size\": 0.5}, \"mode\": \"markers\", \"text\": \"Python appears with PostgreSQL 26 times\", \"x\": [0.5827616729948054], \"y\": [-0.6858489866496089], \"type\": \"scatter\", \"uid\": \"2e31dc9d-213b-4b66-8a4f-723b82940835\"}, {\"hoverinfo\": \"text\", \"marker\": {\"color\": \"green\", \"size\": 0.5}, \"mode\": \"markers\", \"text\": \"PostgreSQL appears with Linux 40 times\", \"x\": [-0.5956597087834058], \"y\": [0.6746773386827724], \"type\": \"scatter\", \"uid\": \"ed9a69e3-efa1-4837-9ac7-f15ef39bea4f\"}, {\"hoverinfo\": \"text\", \"marker\": {\"color\": \"blue\", \"size\": 0.5}, \"mode\": \"markers\", \"text\": \"Linux appears with PostgreSQL 40 times\", \"x\": [0.8772149019319041], \"y\": [-0.20123124963235686], \"type\": \"scatter\", \"uid\": \"3d6413a1-5546-41f0-b9ca-a10bddb9ae08\"}, {\"hoverinfo\": \"text\", \"marker\": {\"color\": \"green\", \"size\": 0.5}, \"mode\": \"markers\", \"text\": \"PostgreSQL appears with AWS 3 times\", \"x\": [-0.5818580689750884], \"y\": [0.6866157495780164], \"type\": \"scatter\", \"uid\": \"c101c8cc-cc0a-4d92-9fc2-853c7c8776df\"}, {\"hoverinfo\": \"text\", \"marker\": {\"color\": \"blue\", \"size\": 0.5}, \"mode\": \"markers\", \"text\": \"AWS appears with PostgreSQL 3 times\", \"x\": [0.8947944287415873], \"y\": [-0.09665883453164778], \"type\": \"scatter\", \"uid\": \"5399be85-6866-4da5-a1d0-cb2247012c84\"}, {\"hoverinfo\": \"text\", \"marker\": {\"color\": \"green\", \"size\": 0.5}, \"mode\": \"markers\", \"text\": \"MySQL/MariaDB appears with T-SQL 39 times\", \"x\": [-0.6742366322422488], \"y\": [0.5961585055525338], \"type\": \"scatter\", \"uid\": \"61af8ce3-467d-43c4-a71a-35ae582031ad\"}, {\"hoverinfo\": \"text\", \"marker\": {\"color\": \"blue\", \"size\": 0.5}, \"mode\": \"markers\", \"text\": \"T-SQL appears with MySQL/MariaDB 39 times\", \"x\": [-0.783007981737471], \"y\": [0.4437324650455637], \"type\": \"scatter\", \"uid\": \"b78f957d-906c-4d19-9c2a-e6b61c3d175f\"}, {\"hoverinfo\": \"text\", \"marker\": {\"color\": \"green\", \"size\": 0.5}, \"mode\": \"markers\", \"text\": \"MySQL/MariaDB appears with Pentaho 63 times\", \"x\": [-0.6978139121622845], \"y\": [0.568379929266303], \"type\": \"scatter\", \"uid\": \"85c5e0b9-8dc3-47f0-991e-f14d67914d65\"}, {\"hoverinfo\": \"text\", \"marker\": {\"color\": \"blue\", \"size\": 0.5}, \"mode\": \"markers\", \"text\": \"Pentaho appears with MySQL/MariaDB 63 times\", \"x\": [-0.8951701754200513], \"y\": [0.09311475199147991], \"type\": \"scatter\", \"uid\": \"5d193123-d8f0-4432-8e45-dd587c5ad5af\"}, {\"hoverinfo\": \"text\", \"marker\": {\"color\": \"green\", \"size\": 0.5}, \"mode\": \"markers\", \"text\": \"MySQL/MariaDB appears with Hadoop 6 times\", \"x\": [-0.665448967535789], \"y\": [0.6059518723508928], \"type\": \"scatter\", \"uid\": \"ee496af1-aecb-4a79-9597-433668424090\"}, {\"hoverinfo\": \"text\", \"marker\": {\"color\": \"blue\", \"size\": 0.5}, \"mode\": \"markers\", \"text\": \"Hadoop appears with MySQL/MariaDB 6 times\", \"x\": [-0.8988350858188265], \"y\": [0.0457765059944809], \"type\": \"scatter\", \"uid\": \"0cf93de0-1d55-4b48-834a-6cbbd348fd35\"}, {\"hoverinfo\": \"text\", \"marker\": {\"color\": \"green\", \"size\": 0.5}, \"mode\": \"markers\", \"text\": \"MySQL/MariaDB appears with Spark 24 times\", \"x\": [-0.6703827928616389], \"y\": [0.6004888933486022], \"type\": \"scatter\", \"uid\": \"eadeebcd-9e6f-48ac-ad38-863ed1fdab1e\"}, {\"hoverinfo\": \"text\", \"marker\": {\"color\": \"blue\", \"size\": 0.5}, \"mode\": \"markers\", \"text\": \"Spark appears with MySQL/MariaDB 24 times\", \"x\": [-0.8918040409355248], \"y\": [-0.12118396169076538], \"type\": \"scatter\", \"uid\": \"96abcc5e-aac4-4374-a086-0b7713b54905\"}, {\"hoverinfo\": \"text\", \"marker\": {\"color\": \"green\", \"size\": 0.5}, \"mode\": \"markers\", \"text\": \"MySQL/MariaDB appears with Informatica 8 times\", \"x\": [-0.6663156098879415], \"y\": [0.6049987669571406], \"type\": \"scatter\", \"uid\": \"c0152a4a-2d72-4ef9-9ce4-3227c2a5b935\"}, {\"hoverinfo\": \"text\", \"marker\": {\"color\": \"blue\", \"size\": 0.5}, \"mode\": \"markers\", \"text\": \"Informatica appears with MySQL/MariaDB 8 times\", \"x\": [-0.858977641722398], \"y\": [-0.26862131527678107], \"type\": \"scatter\", \"uid\": \"db00714b-810b-4de8-89ae-e3303516f0f2\"}, {\"hoverinfo\": \"text\", \"marker\": {\"color\": \"green\", \"size\": 0.5}, \"mode\": \"markers\", \"text\": \"MySQL/MariaDB appears with Qlik 17 times\", \"x\": [-0.6678597890064821], \"y\": [0.6032937114111311], \"type\": \"scatter\", \"uid\": \"235ca4f9-e453-47fe-b69e-d7ecf12488c3\"}, {\"hoverinfo\": \"text\", \"marker\": {\"color\": \"blue\", \"size\": 0.5}, \"mode\": \"markers\", \"text\": \"Qlik appears with MySQL/MariaDB 17 times\", \"x\": [-0.7937321984971737], \"y\": [-0.4242513371444376], \"type\": \"scatter\", \"uid\": \"25f99717-cbaa-47e0-83e2-1aab342c3f91\"}, {\"hoverinfo\": \"text\", \"marker\": {\"color\": \"green\", \"size\": 0.5}, \"mode\": \"markers\", \"text\": \"MySQL/MariaDB appears with Tableau 48 times\", \"x\": [-0.684794482450484], \"y\": [0.5840004424701867], \"type\": \"scatter\", \"uid\": \"6aa7c49c-7799-4d6c-b492-6d317b46de2a\"}, {\"hoverinfo\": \"text\", \"marker\": {\"color\": \"blue\", \"size\": 0.5}, \"mode\": \"markers\", \"text\": \"Tableau appears with MySQL/MariaDB 48 times\", \"x\": [-0.507106162336762], \"y\": [-0.7435343570542532], \"type\": \"scatter\", \"uid\": \"c428132f-089b-424e-93b8-58f085575326\"}, {\"hoverinfo\": \"text\", \"marker\": {\"color\": \"green\", \"size\": 0.5}, \"mode\": \"markers\", \"text\": \"MySQL/MariaDB appears with Oracle BI 69 times\", \"x\": [-0.7054207110250896], \"y\": [0.5589111024634035], \"type\": \"scatter\", \"uid\": \"0a65b1e4-bfcd-4181-b866-a1debfdcde9d\"}, {\"hoverinfo\": \"text\", \"marker\": {\"color\": \"blue\", \"size\": 0.5}, \"mode\": \"markers\", \"text\": \"Oracle BI appears with MySQL/MariaDB 69 times\", \"x\": [0.05774430717968987], \"y\": [-0.8981456424146018], \"type\": \"scatter\", \"uid\": \"696f300b-0688-4ee1-81e3-d1dd8a877f60\"}, {\"hoverinfo\": \"text\", \"marker\": {\"color\": \"green\", \"size\": 0.5}, \"mode\": \"markers\", \"text\": \"MySQL/MariaDB appears with Python 55 times\", \"x\": [-0.6909062670327633], \"y\": [0.5767569073490599], \"type\": \"scatter\", \"uid\": \"770aa0d3-cb3f-4980-83d6-294a940355bb\"}, {\"hoverinfo\": \"text\", \"marker\": {\"color\": \"blue\", \"size\": 0.5}, \"mode\": \"markers\", \"text\": \"Python appears with MySQL/MariaDB 55 times\", \"x\": [0.6141199281039927], \"y\": [-0.6579184705611684], \"type\": \"scatter\", \"uid\": \"427dca98-5dcb-4640-a126-89ade6acd70a\"}, {\"hoverinfo\": \"text\", \"marker\": {\"color\": \"green\", \"size\": 0.5}, \"mode\": \"markers\", \"text\": \"MySQL/MariaDB appears with VBA 5 times\", \"x\": [-0.6641464483166636], \"y\": [0.6073792021368211], \"type\": \"scatter\", \"uid\": \"322b5499-306e-4be3-a8bb-82604a464595\"}, {\"hoverinfo\": \"text\", \"marker\": {\"color\": \"blue\", \"size\": 0.5}, \"mode\": \"markers\", \"text\": \"VBA appears with MySQL/MariaDB 5 times\", \"x\": [0.8176967879165596], \"y\": [-0.3759946316517576], \"type\": \"scatter\", \"uid\": \"6e4fd54f-022d-4737-a199-10cddbef1352\"}, {\"hoverinfo\": \"text\", \"marker\": {\"color\": \"green\", \"size\": 0.5}, \"mode\": \"markers\", \"text\": \"MySQL/MariaDB appears with Linux 44 times\", \"x\": [-0.6792711855850577], \"y\": [0.5904156641162818], \"type\": \"scatter\", \"uid\": \"a8e641b8-9f11-45a4-8b08-e8d0b2bf8bfa\"}, {\"hoverinfo\": \"text\", \"marker\": {\"color\": \"blue\", \"size\": 0.5}, \"mode\": \"markers\", \"text\": \"Linux appears with MySQL/MariaDB 44 times\", \"x\": [0.87882568019696], \"y\": [-0.19407581978791344], \"type\": \"scatter\", \"uid\": \"0a526669-77d3-48ae-8db6-dd7a456b973a\"}, {\"hoverinfo\": \"text\", \"marker\": {\"color\": \"green\", \"size\": 0.5}, \"mode\": \"markers\", \"text\": \"T-SQL appears with PL/SQL 39 times\", \"x\": [-0.7867535309154454], \"y\": [0.437057069033415], \"type\": \"scatter\", \"uid\": \"4dad1235-a848-426e-8502-d8eed6ecfecc\"}, {\"hoverinfo\": \"text\", \"marker\": {\"color\": \"blue\", \"size\": 0.5}, \"mode\": \"markers\", \"text\": \"PL/SQL appears with T-SQL 39 times\", \"x\": [-0.8733492049214726], \"y\": [0.21739633452068977], \"type\": \"scatter\", \"uid\": \"e4d775ae-72af-4f40-82f2-d0d15bb1f85c\"}, {\"hoverinfo\": \"text\", \"marker\": {\"color\": \"green\", \"size\": 0.5}, \"mode\": \"markers\", \"text\": \"T-SQL appears with Pentaho 39 times\", \"x\": [-0.7904421715389041], \"y\": [0.43035005919932406], \"type\": \"scatter\", \"uid\": \"0801c62d-db40-4a0f-a13a-cd12029f42e5\"}, {\"hoverinfo\": \"text\", \"marker\": {\"color\": \"blue\", \"size\": 0.5}, \"mode\": \"markers\", \"text\": \"Pentaho appears with T-SQL 39 times\", \"x\": [-0.8914666213256889], \"y\": [0.12364167202913766], \"type\": \"scatter\", \"uid\": \"b37063ba-5111-4285-87f1-db381340a939\"}, {\"hoverinfo\": \"text\", \"marker\": {\"color\": \"green\", \"size\": 0.5}, \"mode\": \"markers\", \"text\": \"T-SQL appears with Hadoop 17 times\", \"x\": [-0.7697087545418999], \"y\": [0.4664208755850849], \"type\": \"scatter\", \"uid\": \"063a3b2c-8923-4e37-80ff-c0a79da08d58\"}, {\"hoverinfo\": \"text\", \"marker\": {\"color\": \"blue\", \"size\": 0.5}, \"mode\": \"markers\", \"text\": \"Hadoop appears with T-SQL 17 times\", \"x\": [-0.8990743310004669], \"y\": [0.04080866741346722], \"type\": \"scatter\", \"uid\": \"bbbd368e-766c-4b75-ab36-6caf7f1336f1\"}, {\"hoverinfo\": \"text\", \"marker\": {\"color\": \"green\", \"size\": 0.5}, \"mode\": \"markers\", \"text\": \"T-SQL appears with Spark 18 times\", \"x\": [-0.7714831539426679], \"y\": [0.4634800353657898], \"type\": \"scatter\", \"uid\": \"fee8a536-fbb3-436e-bca7-b3a392da4fb7\"}, {\"hoverinfo\": \"text\", \"marker\": {\"color\": \"blue\", \"size\": 0.5}, \"mode\": \"markers\", \"text\": \"Spark appears with T-SQL 18 times\", \"x\": [-0.8923133048376686], \"y\": [-0.11737532112704917], \"type\": \"scatter\", \"uid\": \"b808380a-39a1-4041-9e33-b88e6644ea60\"}, {\"hoverinfo\": \"text\", \"marker\": {\"color\": \"green\", \"size\": 0.5}, \"mode\": \"markers\", \"text\": \"T-SQL appears with Informatica 12 times\", \"x\": [-0.7668977734016644], \"y\": [0.47102845471539134], \"type\": \"scatter\", \"uid\": \"0c4b9da8-ec13-466a-8d9b-2032ae1bad49\"}, {\"hoverinfo\": \"text\", \"marker\": {\"color\": \"blue\", \"size\": 0.5}, \"mode\": \"markers\", \"text\": \"Informatica appears with T-SQL 12 times\", \"x\": [-0.8579378043616286], \"y\": [-0.27192411413324086], \"type\": \"scatter\", \"uid\": \"98b148a6-8f13-4544-b1e5-1233cdb0e4f3\"}, {\"hoverinfo\": \"text\", \"marker\": {\"color\": \"green\", \"size\": 0.5}, \"mode\": \"markers\", \"text\": \"T-SQL appears with Qlik 72 times\", \"x\": [-0.803961813762749], \"y\": [0.4045310890541182], \"type\": \"scatter\", \"uid\": \"0e8ef933-0bdb-4ddb-b102-46796dad53fd\"}, {\"hoverinfo\": \"text\", \"marker\": {\"color\": \"blue\", \"size\": 0.5}, \"mode\": \"markers\", \"text\": \"Qlik appears with T-SQL 72 times\", \"x\": [-0.7650624090728527], \"y\": [-0.4740037027530935], \"type\": \"scatter\", \"uid\": \"6717c29d-dff5-4c39-a695-5c59fb7775c4\"}, {\"hoverinfo\": \"text\", \"marker\": {\"color\": \"green\", \"size\": 0.5}, \"mode\": \"markers\", \"text\": \"T-SQL appears with Tableau 95 times\", \"x\": [-0.8111943394931813], \"y\": [0.3898252731342869], \"type\": \"scatter\", \"uid\": \"40db6cb5-c721-43a4-b41e-48b821ce6fa4\"}, {\"hoverinfo\": \"text\", \"marker\": {\"color\": \"blue\", \"size\": 0.5}, \"mode\": \"markers\", \"text\": \"Tableau appears with T-SQL 95 times\", \"x\": [-0.4616616089768265], \"y\": [-0.7725726883581426], \"type\": \"scatter\", \"uid\": \"a355927a-1d8a-482d-9495-12220440bb7d\"}, {\"hoverinfo\": \"text\", \"marker\": {\"color\": \"green\", \"size\": 0.5}, \"mode\": \"markers\", \"text\": \"T-SQL appears with Microstrategy 13 times\", \"x\": [-0.7681789173634922], \"y\": [0.4689361906680408], \"type\": \"scatter\", \"uid\": \"987b052f-6403-41ac-87eb-fd8525a57143\"}, {\"hoverinfo\": \"text\", \"marker\": {\"color\": \"blue\", \"size\": 0.5}, \"mode\": \"markers\", \"text\": \"Microstrategy appears with T-SQL 13 times\", \"x\": [-0.07772977420688464], \"y\": [-0.8966370961552654], \"type\": \"scatter\", \"uid\": \"a87e648d-01cc-4869-9ba2-2d66a06c143b\"}, {\"hoverinfo\": \"text\", \"marker\": {\"color\": \"green\", \"size\": 0.5}, \"mode\": \"markers\", \"text\": \"T-SQL appears with Oracle BI 136 times\", \"x\": [-0.8304391013918521], \"y\": [0.34694509490623043], \"type\": \"scatter\", \"uid\": \"5b24c19c-ae3f-4e3e-95b6-c39e6f219fbe\"}, {\"hoverinfo\": \"text\", \"marker\": {\"color\": \"blue\", \"size\": 0.5}, \"mode\": \"markers\", \"text\": \"Oracle BI appears with T-SQL 136 times\", \"x\": [0.1394927574730676], \"y\": [-0.8891241592784216], \"type\": \"scatter\", \"uid\": \"5e08dc30-327c-44b6-8bfb-d35e5d3df56b\"}, {\"hoverinfo\": \"text\", \"marker\": {\"color\": \"green\", \"size\": 0.5}, \"mode\": \"markers\", \"text\": \"T-SQL appears with Python 49 times\", \"x\": [-0.7985547978116486], \"y\": [0.4151026799383461], \"type\": \"scatter\", \"uid\": \"f3286d60-5786-461e-be8f-f44a3fa2cdf7\"}, {\"hoverinfo\": \"text\", \"marker\": {\"color\": \"blue\", \"size\": 0.5}, \"mode\": \"markers\", \"text\": \"Python appears with T-SQL 49 times\", \"x\": [0.5980284251261898], \"y\": [-0.6725786219774528], \"type\": \"scatter\", \"uid\": \"0a6d6ea0-2578-43b4-9e85-3368ea057369\"}, {\"hoverinfo\": \"text\", \"marker\": {\"color\": \"green\", \"size\": 0.5}, \"mode\": \"markers\", \"text\": \"T-SQL appears with VBA 27 times\", \"x\": [-0.776341974937513], \"y\": [0.45529456174011357], \"type\": \"scatter\", \"uid\": \"3f974dc9-03cb-498b-9c29-41958e91d1a7\"}, {\"hoverinfo\": \"text\", \"marker\": {\"color\": \"blue\", \"size\": 0.5}, \"mode\": \"markers\", \"text\": \"VBA appears with T-SQL 27 times\", \"x\": [0.8211501935670688], \"y\": [-0.36839158460090476], \"type\": \"scatter\", \"uid\": \"e1dd9e22-04a1-4f23-8174-c90b4432a547\"}, {\"hoverinfo\": \"text\", \"marker\": {\"color\": \"green\", \"size\": 0.5}, \"mode\": \"markers\", \"text\": \"T-SQL appears with Linux 26 times\", \"x\": [-0.7736978828934974], \"y\": [0.4597734072411321], \"type\": \"scatter\", \"uid\": \"6b3367ba-eba7-4409-93a6-758551d904f8\"}, {\"hoverinfo\": \"text\", \"marker\": {\"color\": \"blue\", \"size\": 0.5}, \"mode\": \"markers\", \"text\": \"Linux appears with T-SQL 26 times\", \"x\": [0.8744835044386284], \"y\": [-0.21278768870575038], \"type\": \"scatter\", \"uid\": \"09fd37e5-f085-441d-bd6c-c00f08567bb0\"}, {\"hoverinfo\": \"text\", \"marker\": {\"color\": \"green\", \"size\": 0.5}, \"mode\": \"markers\", \"text\": \"T-SQL appears with AWS 9 times\", \"x\": [-0.7658172081886756], \"y\": [0.4727832522859739], \"type\": \"scatter\", \"uid\": \"060c9514-c2f8-46c8-a31c-64a2b62efee5\"}, {\"hoverinfo\": \"text\", \"marker\": {\"color\": \"blue\", \"size\": 0.5}, \"mode\": \"markers\", \"text\": \"AWS appears with T-SQL 9 times\", \"x\": [0.8950779472332611], \"y\": [-0.09399717217390914], \"type\": \"scatter\", \"uid\": \"6e3b8e01-0c37-4aff-b56e-83a36e98f76f\"}, {\"hoverinfo\": \"text\", \"marker\": {\"color\": \"green\", \"size\": 0.5}, \"mode\": \"markers\", \"text\": \"PL/SQL appears with Pentaho 8 times\", \"x\": [-0.8670574727590896], \"y\": [0.24127026118570968], \"type\": \"scatter\", \"uid\": \"dd1fc270-3b39-4f1c-8955-137d04963534\"}, {\"hoverinfo\": \"text\", \"marker\": {\"color\": \"blue\", \"size\": 0.5}, \"mode\": \"markers\", \"text\": \"Pentaho appears with PL/SQL 8 times\", \"x\": [-0.88466827121298], \"y\": [0.16541478141036028], \"type\": \"scatter\", \"uid\": \"cf5efd88-dc1a-4ca7-ac1f-41678999f360\"}, {\"hoverinfo\": \"text\", \"marker\": {\"color\": \"green\", \"size\": 0.5}, \"mode\": \"markers\", \"text\": \"PL/SQL appears with Hadoop 3 times\", \"x\": [-0.8665816723773391], \"y\": [0.24297367161833433], \"type\": \"scatter\", \"uid\": \"270e0924-e4ba-4995-b4f4-a4fe8cf8ff0a\"}, {\"hoverinfo\": \"text\", \"marker\": {\"color\": \"blue\", \"size\": 0.5}, \"mode\": \"markers\", \"text\": \"Hadoop appears with PL/SQL 3 times\", \"x\": [-0.8987460578915194], \"y\": [0.04749235122052541], \"type\": \"scatter\", \"uid\": \"cf78b5ba-dba0-400d-844d-ad109db3a596\"}, {\"hoverinfo\": \"text\", \"marker\": {\"color\": \"green\", \"size\": 0.5}, \"mode\": \"markers\", \"text\": \"PL/SQL appears with Informatica 30 times\", \"x\": [-0.8707789560255643], \"y\": [0.22747309674558966], \"type\": \"scatter\", \"uid\": \"93d6de58-c7b1-4e26-b2aa-7f5432d1af6e\"}, {\"hoverinfo\": \"text\", \"marker\": {\"color\": \"blue\", \"size\": 0.5}, \"mode\": \"markers\", \"text\": \"Informatica appears with PL/SQL 30 times\", \"x\": [-0.8517863651596558], \"y\": [-0.2906200064140483], \"type\": \"scatter\", \"uid\": \"634223ef-b6b1-4c10-b2d5-0fbcdc7c65e0\"}, {\"hoverinfo\": \"text\", \"marker\": {\"color\": \"green\", \"size\": 0.5}, \"mode\": \"markers\", \"text\": \"PL/SQL appears with Qlik 18 times\", \"x\": [-0.8682974929093381], \"y\": [0.23676879821327365], \"type\": \"scatter\", \"uid\": \"e1e839d4-bb22-4c4e-9bc1-a9b324d74387\"}, {\"hoverinfo\": \"text\", \"marker\": {\"color\": \"blue\", \"size\": 0.5}, \"mode\": \"markers\", \"text\": \"Qlik appears with PL/SQL 18 times\", \"x\": [-0.7920308005947941], \"y\": [-0.42741924489799166], \"type\": \"scatter\", \"uid\": \"66487024-1204-46a4-a72e-da1e227b2001\"}, {\"hoverinfo\": \"text\", \"marker\": {\"color\": \"green\", \"size\": 0.5}, \"mode\": \"markers\", \"text\": \"PL/SQL appears with Tableau 20 times\", \"x\": [-0.8690008448107451], \"y\": [0.23417414827049404], \"type\": \"scatter\", \"uid\": \"24c27c2d-dbec-4a2a-8488-4932e125cf05\"}, {\"hoverinfo\": \"text\", \"marker\": {\"color\": \"blue\", \"size\": 0.5}, \"mode\": \"markers\", \"text\": \"Tableau appears with PL/SQL 20 times\", \"x\": [-0.537684451856997], \"y\": [-0.7217308571976404], \"type\": \"scatter\", \"uid\": \"52bd1baf-b86e-4660-a38f-48efcbbd71ca\"}, {\"hoverinfo\": \"text\", \"marker\": {\"color\": \"green\", \"size\": 0.5}, \"mode\": \"markers\", \"text\": \"PL/SQL appears with Microstrategy 24 times\", \"x\": [-0.8698055655802382], \"y\": [0.2311672080673248], \"type\": \"scatter\", \"uid\": \"c71337a9-5c0a-44fa-a729-ab415d8e6ca8\"}, {\"hoverinfo\": \"text\", \"marker\": {\"color\": \"blue\", \"size\": 0.5}, \"mode\": \"markers\", \"text\": \"Microstrategy appears with PL/SQL 24 times\", \"x\": [-0.06783521434781081], \"y\": [-0.8974399053387289], \"type\": \"scatter\", \"uid\": \"b02e0318-7842-47f4-8690-247d7ea86755\"}, {\"hoverinfo\": \"text\", \"marker\": {\"color\": \"green\", \"size\": 0.5}, \"mode\": \"markers\", \"text\": \"PL/SQL appears with Oracle BI 83 times\", \"x\": [-0.8772315783921443], \"y\": [0.20115853914668216], \"type\": \"scatter\", \"uid\": \"eb6f2ff9-41f4-4918-a344-203108ee76b8\"}, {\"hoverinfo\": \"text\", \"marker\": {\"color\": \"blue\", \"size\": 0.5}, \"mode\": \"markers\", \"text\": \"Oracle BI appears with PL/SQL 83 times\", \"x\": [0.08932094243982874], \"y\": [-0.8955566811998338], \"type\": \"scatter\", \"uid\": \"16de8060-4ebd-4bce-907e-318ed1618081\"}, {\"hoverinfo\": \"text\", \"marker\": {\"color\": \"green\", \"size\": 0.5}, \"mode\": \"markers\", \"text\": \"PL/SQL appears with Python 3 times\", \"x\": [-0.8664669822576266], \"y\": [0.2433823507515728], \"type\": \"scatter\", \"uid\": \"96f54937-bcbc-474a-92a4-3d3e0b4e04eb\"}, {\"hoverinfo\": \"text\", \"marker\": {\"color\": \"blue\", \"size\": 0.5}, \"mode\": \"markers\", \"text\": \"Python appears with PL/SQL 3 times\", \"x\": [0.5775019502362634], \"y\": [-0.6902836355247837], \"type\": \"scatter\", \"uid\": \"2fbb1f9b-bcdc-4bfb-85e8-7573f5f93fbc\"}, {\"hoverinfo\": \"text\", \"marker\": {\"color\": \"green\", \"size\": 0.5}, \"mode\": \"markers\", \"text\": \"PL/SQL appears with VBA 7 times\", \"x\": [-0.8667723942127047], \"y\": [0.24229241967254325], \"type\": \"scatter\", \"uid\": \"90f0c963-bd9f-4bd2-af02-08b2b8e27fb1\"}, {\"hoverinfo\": \"text\", \"marker\": {\"color\": \"blue\", \"size\": 0.5}, \"mode\": \"markers\", \"text\": \"VBA appears with PL/SQL 7 times\", \"x\": [0.8192069359074512], \"y\": [-0.3726928979214994], \"type\": \"scatter\", \"uid\": \"57578bd7-a1ac-441c-b872-e924dd49df9b\"}, {\"hoverinfo\": \"text\", \"marker\": {\"color\": \"green\", \"size\": 0.5}, \"mode\": \"markers\", \"text\": \"PL/SQL appears with Linux 1 times\", \"x\": [-0.866275403775839], \"y\": [0.24406336229144912], \"type\": \"scatter\", \"uid\": \"d3f4975c-ea43-485f-b41a-d4e85ffdaf05\"}, {\"hoverinfo\": \"text\", \"marker\": {\"color\": \"blue\", \"size\": 0.5}, \"mode\": \"markers\", \"text\": \"Linux appears with PL/SQL 1 times\", \"x\": [0.8701680387647225], \"y\": [-0.22979900851038626], \"type\": \"scatter\", \"uid\": \"5036ae23-6f16-4d93-8f09-d2b659de19ec\"}, {\"hoverinfo\": \"text\", \"marker\": {\"color\": \"green\", \"size\": 0.5}, \"mode\": \"markers\", \"text\": \"PL/SQL appears with AWS 2 times\", \"x\": [-0.866371259930416], \"y\": [0.24372287534530623], \"type\": \"scatter\", \"uid\": \"6eb71a99-11e2-48c9-96f0-8ec43f179a04\"}, {\"hoverinfo\": \"text\", \"marker\": {\"color\": \"blue\", \"size\": 0.5}, \"mode\": \"markers\", \"text\": \"AWS appears with PL/SQL 2 times\", \"x\": [0.8947010074700966], \"y\": [-0.09751977867076084], \"type\": \"scatter\", \"uid\": \"a20f4ba2-fa72-401e-b719-e0cb20bd7444\"}, {\"hoverinfo\": \"text\", \"marker\": {\"color\": \"green\", \"size\": 0.5}, \"mode\": \"markers\", \"text\": \"Pentaho appears with Spark 6 times\", \"x\": [-0.8844501193853448], \"y\": [0.1665772683148859], \"type\": \"scatter\", \"uid\": \"f614eb7f-9c52-450c-806c-5398da0839e8\"}, {\"hoverinfo\": \"text\", \"marker\": {\"color\": \"blue\", \"size\": 0.5}, \"mode\": \"markers\", \"text\": \"Spark appears with Pentaho 6 times\", \"x\": [-0.8935917972110022], \"y\": [-0.1072086748225683], \"type\": \"scatter\", \"uid\": \"15585641-deaa-4b71-adac-bd9ec87660d3\"}, {\"hoverinfo\": \"text\", \"marker\": {\"color\": \"green\", \"size\": 0.5}, \"mode\": \"markers\", \"text\": \"Pentaho appears with Informatica 32 times\", \"x\": [-0.8859153222821359], \"y\": [0.1586002577101922], \"type\": \"scatter\", \"uid\": \"020d946f-fe20-4f09-a5e4-2aac8944457f\"}, {\"hoverinfo\": \"text\", \"marker\": {\"color\": \"blue\", \"size\": 0.5}, \"mode\": \"markers\", \"text\": \"Informatica appears with Pentaho 32 times\", \"x\": [-0.8499452951667334], \"y\": [-0.29596113802986757], \"type\": \"scatter\", \"uid\": \"dc426771-df98-4ceb-8fad-821128b8e6f3\"}, {\"hoverinfo\": \"text\", \"marker\": {\"color\": \"green\", \"size\": 0.5}, \"mode\": \"markers\", \"text\": \"Pentaho appears with Qlik 32 times\", \"x\": [-0.8868521621254599], \"y\": [0.15327505515705053], \"type\": \"scatter\", \"uid\": \"d210a603-a680-4e53-8205-54ceb0ec51a1\"}, {\"hoverinfo\": \"text\", \"marker\": {\"color\": \"blue\", \"size\": 0.5}, \"mode\": \"markers\", \"text\": \"Qlik appears with Pentaho 32 times\", \"x\": [-0.7865014978296035], \"y\": [-0.43751045006009887], \"type\": \"scatter\", \"uid\": \"e8ea6ab6-b9bc-4be6-a7a6-271c56dd5639\"}, {\"hoverinfo\": \"text\", \"marker\": {\"color\": \"green\", \"size\": 0.5}, \"mode\": \"markers\", \"text\": \"Pentaho appears with Tableau 39 times\", \"x\": [-0.8905374331894002], \"y\": [0.13016558718968238], \"type\": \"scatter\", \"uid\": \"249f6727-cceb-48bf-92a6-57e4c473c572\"}, {\"hoverinfo\": \"text\", \"marker\": {\"color\": \"blue\", \"size\": 0.5}, \"mode\": \"markers\", \"text\": \"Tableau appears with Pentaho 39 times\", \"x\": [-0.514578872870833], \"y\": [-0.738382410133789], \"type\": \"scatter\", \"uid\": \"2b557706-71c9-47d7-9af8-30d630c2c67f\"}, {\"hoverinfo\": \"text\", \"marker\": {\"color\": \"green\", \"size\": 0.5}, \"mode\": \"markers\", \"text\": \"Pentaho appears with Microstrategy 3 times\", \"x\": [-0.8843090722608951], \"y\": [0.16732442952861126], \"type\": \"scatter\", \"uid\": \"7e84edde-9ee9-4a32-b68c-4ca87dba3dd1\"}, {\"hoverinfo\": \"text\", \"marker\": {\"color\": \"blue\", \"size\": 0.5}, \"mode\": \"markers\", \"text\": \"Microstrategy appears with Pentaho 3 times\", \"x\": [-0.08123627421372161], \"y\": [-0.8963262061057197], \"type\": \"scatter\", \"uid\": \"20a39b90-b165-4f10-a0c5-42bdabab71f5\"}, {\"hoverinfo\": \"text\", \"marker\": {\"color\": \"green\", \"size\": 0.5}, \"mode\": \"markers\", \"text\": \"Pentaho appears with Oracle BI 40 times\", \"x\": [-0.8923590065486336], \"y\": [0.11702736189257469], \"type\": \"scatter\", \"uid\": \"059cb565-1f03-46cb-811a-4c59e9d1a6df\"}, {\"hoverinfo\": \"text\", \"marker\": {\"color\": \"blue\", \"size\": 0.5}, \"mode\": \"markers\", \"text\": \"Oracle BI appears with Pentaho 40 times\", \"x\": [0.014587195946721438], \"y\": [-0.8998817776321576], \"type\": \"scatter\", \"uid\": \"edf58f69-19b7-4814-8acb-7e2d9732e0f2\"}, {\"hoverinfo\": \"text\", \"marker\": {\"color\": \"green\", \"size\": 0.5}, \"mode\": \"markers\", \"text\": \"Pentaho appears with Python 34 times\", \"x\": [-0.8887099613108584], \"y\": [0.14210772205215505], \"type\": \"scatter\", \"uid\": \"c3871c24-6657-4d90-8229-f75a44fd41e9\"}, {\"hoverinfo\": \"text\", \"marker\": {\"color\": \"blue\", \"size\": 0.5}, \"mode\": \"markers\", \"text\": \"Python appears with Pentaho 34 times\", \"x\": [0.5916326253621212], \"y\": [-0.6782114984332867], \"type\": \"scatter\", \"uid\": \"82a3670c-afc1-46b7-a0d0-da9b261a67c2\"}, {\"hoverinfo\": \"text\", \"marker\": {\"color\": \"green\", \"size\": 0.5}, \"mode\": \"markers\", \"text\": \"Pentaho appears with VBA 1 times\", \"x\": [-0.8842461820421148], \"y\": [0.16765646287555763], \"type\": \"scatter\", \"uid\": \"87703740-9a34-4664-8d25-959d1059ac15\"}, {\"hoverinfo\": \"text\", \"marker\": {\"color\": \"blue\", \"size\": 0.5}, \"mode\": \"markers\", \"text\": \"VBA appears with Pentaho 1 times\", \"x\": [0.816708054162811], \"y\": [-0.37813748064109565], \"type\": \"scatter\", \"uid\": \"ffdc4e60-b8e5-49c0-8356-75426c8db8cf\"}, {\"hoverinfo\": \"text\", \"marker\": {\"color\": \"green\", \"size\": 0.5}, \"mode\": \"markers\", \"text\": \"Pentaho appears with Linux 35 times\", \"x\": [-0.8896117620886312], \"y\": [0.13634849743785457], \"type\": \"scatter\", \"uid\": \"84f9b8b5-f695-4db8-b309-a2b3d5115bfe\"}, {\"hoverinfo\": \"text\", \"marker\": {\"color\": \"blue\", \"size\": 0.5}, \"mode\": \"markers\", \"text\": \"Linux appears with Pentaho 35 times\", \"x\": [0.8757274736118621], \"y\": [-0.20760874731423373], \"type\": \"scatter\", \"uid\": \"85882cfc-54c7-4c4b-b611-e29744470cce\"}, {\"hoverinfo\": \"text\", \"marker\": {\"color\": \"green\", \"size\": 0.5}, \"mode\": \"markers\", \"text\": \"Pentaho appears with AWS 13 times\", \"x\": [-0.8852374592462545], \"y\": [0.16234112463339623], \"type\": \"scatter\", \"uid\": \"5588be35-1562-42a3-a005-2f262368ec2e\"}, {\"hoverinfo\": \"text\", \"marker\": {\"color\": \"blue\", \"size\": 0.5}, \"mode\": \"markers\", \"text\": \"AWS appears with Pentaho 13 times\", \"x\": [0.8954172447723445], \"y\": [-0.09070809095280973], \"type\": \"scatter\", \"uid\": \"2445b07f-e9b6-4dc1-8daf-be5521b0304b\"}, {\"hoverinfo\": \"text\", \"marker\": {\"color\": \"green\", \"size\": 0.5}, \"mode\": \"markers\", \"text\": \"Hadoop appears with Spark 130 times\", \"x\": [-0.8990819635224526], \"y\": [-0.04064016324538179], \"type\": \"scatter\", \"uid\": \"66b3bbad-7b65-49d8-bf85-1408bc6f30b8\"}, {\"hoverinfo\": \"text\", \"marker\": {\"color\": \"blue\", \"size\": 0.5}, \"mode\": \"markers\", \"text\": \"Spark appears with Hadoop 130 times\", \"x\": [-0.8773304253943746], \"y\": [-0.20072699040568923], \"type\": \"scatter\", \"uid\": \"88360fd9-b1a6-4703-9d89-430a82b02f24\"}, {\"hoverinfo\": \"text\", \"marker\": {\"color\": \"green\", \"size\": 0.5}, \"mode\": \"markers\", \"text\": \"Hadoop appears with Informatica 5 times\", \"x\": [-0.898783942581867], \"y\": [0.04676991080807533], \"type\": \"scatter\", \"uid\": \"05061429-1090-4f3c-8bb3-eb6e2a10ec35\"}, {\"hoverinfo\": \"text\", \"marker\": {\"color\": \"blue\", \"size\": 0.5}, \"mode\": \"markers\", \"text\": \"Informatica appears with Hadoop 5 times\", \"x\": [-0.8596008410915914], \"y\": [-0.2666203180453971], \"type\": \"scatter\", \"uid\": \"76e6c3b6-dcba-4968-9ef2-b7d55b0e8092\"}, {\"hoverinfo\": \"text\", \"marker\": {\"color\": \"green\", \"size\": 0.5}, \"mode\": \"markers\", \"text\": \"Hadoop appears with Qlik 9 times\", \"x\": [-0.8989646547529345], \"y\": [0.04315726479907263], \"type\": \"scatter\", \"uid\": \"b6a5e6d8-d1b3-4c43-b676-9df6273a5464\"}, {\"hoverinfo\": \"text\", \"marker\": {\"color\": \"blue\", \"size\": 0.5}, \"mode\": \"markers\", \"text\": \"Qlik appears with Hadoop 9 times\", \"x\": [-0.797858903757475], \"y\": [-0.4164386745907736], \"type\": \"scatter\", \"uid\": \"cec07bd3-77db-4151-99c0-cdb64966d11b\"}, {\"hoverinfo\": \"text\", \"marker\": {\"color\": \"green\", \"size\": 0.5}, \"mode\": \"markers\", \"text\": \"Hadoop appears with Tableau 38 times\", \"x\": [-0.8998888293612808], \"y\": [0.014145486587023625], \"type\": \"scatter\", \"uid\": \"bc4a2d01-19e8-4e05-a0d9-b8b4b239b492\"}, {\"hoverinfo\": \"text\", \"marker\": {\"color\": \"blue\", \"size\": 0.5}, \"mode\": \"markers\", \"text\": \"Tableau appears with Hadoop 38 times\", \"x\": [-0.521149016139861], \"y\": [-0.7337599764067642], \"type\": \"scatter\", \"uid\": \"5d295d50-ae17-4e68-9925-20e7136b9b43\"}, {\"hoverinfo\": \"text\", \"marker\": {\"color\": \"green\", \"size\": 0.5}, \"mode\": \"markers\", \"text\": \"Hadoop appears with Microstrategy 3 times\", \"x\": [-0.8986881420591157], \"y\": [0.04857595415773847], \"type\": \"scatter\", \"uid\": \"6d48956a-f536-4d33-883f-a9d97b861379\"}, {\"hoverinfo\": \"text\", \"marker\": {\"color\": \"blue\", \"size\": 0.5}, \"mode\": \"markers\", \"text\": \"Microstrategy appears with Hadoop 3 times\", \"x\": [-0.08081555877725402], \"y\": [-0.8963642370484892], \"type\": \"scatter\", \"uid\": \"eed494ef-ee8b-452c-9586-e354fe06bc56\"}, {\"hoverinfo\": \"text\", \"marker\": {\"color\": \"green\", \"size\": 0.5}, \"mode\": \"markers\", \"text\": \"Hadoop appears with Oracle BI 35 times\", \"x\": [-0.899760869235666], \"y\": [0.020745558374718236], \"type\": \"scatter\", \"uid\": \"90d4d68f-58d3-4deb-ba86-d689dd69371d\"}, {\"hoverinfo\": \"text\", \"marker\": {\"color\": \"blue\", \"size\": 0.5}, \"mode\": \"markers\", \"text\": \"Oracle BI appears with Hadoop 35 times\", \"x\": [0.006666716770464856], \"y\": [-0.8999753079321134], \"type\": \"scatter\", \"uid\": \"ce68c90d-7fb3-486d-960e-88b6210ecd1f\"}, {\"hoverinfo\": \"text\", \"marker\": {\"color\": \"green\", \"size\": 0.5}, \"mode\": \"markers\", \"text\": \"Hadoop appears with Python 142 times\", \"x\": [-0.8976356718026728], \"y\": [-0.0651935633890673], \"type\": \"scatter\", \"uid\": \"a38c5fb2-e8ff-4c5f-8c2c-4d80cbb3a500\"}, {\"hoverinfo\": \"text\", \"marker\": {\"color\": \"blue\", \"size\": 0.5}, \"mode\": \"markers\", \"text\": \"Python appears with Hadoop 142 times\", \"x\": [0.7074678112885873], \"y\": [-0.5563176214992078], \"type\": \"scatter\", \"uid\": \"3b8c7131-3e5f-409e-a2df-eb17240df699\"}, {\"hoverinfo\": \"text\", \"marker\": {\"color\": \"green\", \"size\": 0.5}, \"mode\": \"markers\", \"text\": \"Hadoop appears with VBA 7 times\", \"x\": [-0.8988941122351765], \"y\": [0.04460241012472438], \"type\": \"scatter\", \"uid\": \"27514e63-d05e-4f1d-936e-c2985248377d\"}, {\"hoverinfo\": \"text\", \"marker\": {\"color\": \"blue\", \"size\": 0.5}, \"mode\": \"markers\", \"text\": \"VBA appears with Hadoop 7 times\", \"x\": [0.8186798993525239], \"y\": [-0.37384919739935424], \"type\": \"scatter\", \"uid\": \"7c524baa-62a3-4b96-bc47-954a969dd302\"}, {\"hoverinfo\": \"text\", \"marker\": {\"color\": \"green\", \"size\": 0.5}, \"mode\": \"markers\", \"text\": \"Hadoop appears with Linux 89 times\", \"x\": [-0.8997584981529186], \"y\": [-0.02084814144244759], \"type\": \"scatter\", \"uid\": \"02065c2e-a64a-4918-8364-b9eefc6388ed\"}, {\"hoverinfo\": \"text\", \"marker\": {\"color\": \"blue\", \"size\": 0.5}, \"mode\": \"markers\", \"text\": \"Linux appears with Hadoop 89 times\", \"x\": [0.8874217194773499], \"y\": [-0.1499422948999503], \"type\": \"scatter\", \"uid\": \"cedfd90b-f505-41d2-bee6-d2b7a79a95cd\"}, {\"hoverinfo\": \"text\", \"marker\": {\"color\": \"green\", \"size\": 0.5}, \"mode\": \"markers\", \"text\": \"Hadoop appears with AWS 48 times\", \"x\": [-0.8999774632927849], \"y\": [0.006369110227026148], \"type\": \"scatter\", \"uid\": \"6ce87e94-066d-466d-8e32-c00700cfff71\"}, {\"hoverinfo\": \"text\", \"marker\": {\"color\": \"blue\", \"size\": 0.5}, \"mode\": \"markers\", \"text\": \"AWS appears with Hadoop 48 times\", \"x\": [0.8978456651702746], \"y\": [-0.06223472933135577], \"type\": \"scatter\", \"uid\": \"73b3b2c7-230c-4ae7-b893-9ccce2f57945\"}, {\"hoverinfo\": \"text\", \"marker\": {\"color\": \"green\", \"size\": 0.5}, \"mode\": \"markers\", \"text\": \"Spark appears with Informatica 12 times\", \"x\": [-0.8930353447903722], \"y\": [-0.11174915192135021], \"type\": \"scatter\", \"uid\": \"b5da8d78-12ce-4a17-b2b7-1d6dbfee2cfa\"}, {\"hoverinfo\": \"text\", \"marker\": {\"color\": \"blue\", \"size\": 0.5}, \"mode\": \"markers\", \"text\": \"Informatica appears with Spark 12 times\", \"x\": [-0.8572745208518137], \"y\": [-0.27400802159479426], \"type\": \"scatter\", \"uid\": \"de2f3364-2cda-49d7-b319-a53722ab657d\"}, {\"hoverinfo\": \"text\", \"marker\": {\"color\": \"green\", \"size\": 0.5}, \"mode\": \"markers\", \"text\": \"Spark appears with Qlik 16 times\", \"x\": [-0.8927136532033403], \"y\": [-0.114290565596406], \"type\": \"scatter\", \"uid\": \"fc741b17-41a9-432b-b87c-5cf5760d8c74\"}, {\"hoverinfo\": \"text\", \"marker\": {\"color\": \"blue\", \"size\": 0.5}, \"mode\": \"markers\", \"text\": \"Qlik appears with Spark 16 times\", \"x\": [-0.7953247688028832], \"y\": [-0.42125824873661577], \"type\": \"scatter\", \"uid\": \"a36cac76-2874-47ec-b8b6-65e6a174b116\"}, {\"hoverinfo\": \"text\", \"marker\": {\"color\": \"green\", \"size\": 0.5}, \"mode\": \"markers\", \"text\": \"Spark appears with Tableau 36 times\", \"x\": [-0.888698323955506], \"y\": [-0.1421804803715145], \"type\": \"scatter\", \"uid\": \"59f58021-ae8f-45a5-84a8-45689c3aee0d\"}, {\"hoverinfo\": \"text\", \"marker\": {\"color\": \"blue\", \"size\": 0.5}, \"mode\": \"markers\", \"text\": \"Tableau appears with Spark 36 times\", \"x\": [-0.5274240606203896], \"y\": [-0.7292625455065546], \"type\": \"scatter\", \"uid\": \"dd402666-1571-4270-afbf-544ecb93bd8e\"}, {\"hoverinfo\": \"text\", \"marker\": {\"color\": \"green\", \"size\": 0.5}, \"mode\": \"markers\", \"text\": \"Spark appears with Microstrategy 3 times\", \"x\": [-0.8936895074185104], \"y\": [-0.10639109140365285], \"type\": \"scatter\", \"uid\": \"2921168a-484b-44c0-bca5-57f6f9ee80f6\"}, {\"hoverinfo\": \"text\", \"marker\": {\"color\": \"blue\", \"size\": 0.5}, \"mode\": \"markers\", \"text\": \"Microstrategy appears with Spark 3 times\", \"x\": [-0.08165697175335504], \"y\": [-0.8962879776969408], \"type\": \"scatter\", \"uid\": \"7f42659c-0498-4ea5-abf2-568f2cdad255\"}, {\"hoverinfo\": \"text\", \"marker\": {\"color\": \"green\", \"size\": 0.5}, \"mode\": \"markers\", \"text\": \"Spark appears with Oracle BI 32 times\", \"x\": [-0.889659907438074], \"y\": [-0.13603399978416308], \"type\": \"scatter\", \"uid\": \"97af67b6-262e-4a57-b58d-07ef21c7674f\"}, {\"hoverinfo\": \"text\", \"marker\": {\"color\": \"blue\", \"size\": 0.5}, \"mode\": \"markers\", \"text\": \"Oracle BI appears with Spark 32 times\", \"x\": [-0.00040936646068771176], \"y\": [-0.8999999068994957], \"type\": \"scatter\", \"uid\": \"bd3f0662-9f10-4789-bfc1-e61d082e2895\"}, {\"hoverinfo\": \"text\", \"marker\": {\"color\": \"green\", \"size\": 0.5}, \"mode\": \"markers\", \"text\": \"Spark appears with Python 151 times\", \"x\": [-0.8712395491958171], \"y\": [-0.22570256515394174], \"type\": \"scatter\", \"uid\": \"54240a95-179f-4db9-82f2-10d3528714bf\"}, {\"hoverinfo\": \"text\", \"marker\": {\"color\": \"blue\", \"size\": 0.5}, \"mode\": \"markers\", \"text\": \"Python appears with Spark 151 times\", \"x\": [0.7256662243243454], \"y\": [-0.5323612785269501], \"type\": \"scatter\", \"uid\": \"58b64ab0-13b3-4124-bfa8-7b5ef6a9e0e1\"}, {\"hoverinfo\": \"text\", \"marker\": {\"color\": \"green\", \"size\": 0.5}, \"mode\": \"markers\", \"text\": \"Spark appears with VBA 9 times\", \"x\": [-0.8932718656618527], \"y\": [-0.10984249640732387], \"type\": \"scatter\", \"uid\": \"3a657538-1099-4c26-94f9-aaa66ff0581a\"}, {\"hoverinfo\": \"text\", \"marker\": {\"color\": \"blue\", \"size\": 0.5}, \"mode\": \"markers\", \"text\": \"VBA appears with Spark 9 times\", \"x\": [0.8198072635612726], \"y\": [-0.3713705031530884], \"type\": \"scatter\", \"uid\": \"8b775674-bd45-49c8-969a-cce33a71baf1\"}, {\"hoverinfo\": \"text\", \"marker\": {\"color\": \"green\", \"size\": 0.5}, \"mode\": \"markers\", \"text\": \"Spark appears with Linux 69 times\", \"x\": [-0.884206775404763], \"y\": [-0.16786416630213577], \"type\": \"scatter\", \"uid\": \"9135963b-cd6e-4eab-b2b5-d8f3ada1b4aa\"}, {\"hoverinfo\": \"text\", \"marker\": {\"color\": \"blue\", \"size\": 0.5}, \"mode\": \"markers\", \"text\": \"Linux appears with Spark 69 times\", \"x\": [0.8826482775194593], \"y\": [-0.17587500729760208], \"type\": \"scatter\", \"uid\": \"9348b4ca-91f8-48c5-937c-74764b9032bf\"}, {\"hoverinfo\": \"text\", \"marker\": {\"color\": \"green\", \"size\": 0.5}, \"mode\": \"markers\", \"text\": \"Spark appears with AWS 49 times\", \"x\": [-0.8861566850785756], \"y\": [-0.1572460794123344], \"type\": \"scatter\", \"uid\": \"4eaf7b1c-3458-488a-bb50-13f4a36df9d8\"}, {\"hoverinfo\": \"text\", \"marker\": {\"color\": \"blue\", \"size\": 0.5}, \"mode\": \"markers\", \"text\": \"AWS appears with Spark 49 times\", \"x\": [0.8983414020527568], \"y\": [-0.05461433289794113], \"type\": \"scatter\", \"uid\": \"33c56366-e016-4b6a-a672-87e71a12041d\"}, {\"hoverinfo\": \"text\", \"marker\": {\"color\": \"green\", \"size\": 0.5}, \"mode\": \"markers\", \"text\": \"Informatica appears with Qlik 93 times\", \"x\": [-0.833020669364679], \"y\": [-0.34070010920341964], \"type\": \"scatter\", \"uid\": \"6923faee-fb7e-4b32-9a84-28b412c9935d\"}, {\"hoverinfo\": \"text\", \"marker\": {\"color\": \"blue\", \"size\": 0.5}, \"mode\": \"markers\", \"text\": \"Qlik appears with Informatica 93 times\", \"x\": [-0.7463806201399736], \"y\": [-0.5029075162288474], \"type\": \"scatter\", \"uid\": \"3f969481-96c7-4f32-a183-e9a44b83cb8f\"}, {\"hoverinfo\": \"text\", \"marker\": {\"color\": \"green\", \"size\": 0.5}, \"mode\": \"markers\", \"text\": \"Informatica appears with Tableau 69 times\", \"x\": [-0.8429832323968027], \"y\": [-0.31524477774871734], \"type\": \"scatter\", \"uid\": \"e5dc712c-ce0b-4bc0-a961-41a8a066f166\"}, {\"hoverinfo\": \"text\", \"marker\": {\"color\": \"blue\", \"size\": 0.5}, \"mode\": \"markers\", \"text\": \"Tableau appears with Informatica 69 times\", \"x\": [-0.4762646896260839], \"y\": [-0.7636569553244245], \"type\": \"scatter\", \"uid\": \"914c9f41-5615-4011-9377-c44bd8e33d9d\"}, {\"hoverinfo\": \"text\", \"marker\": {\"color\": \"green\", \"size\": 0.5}, \"mode\": \"markers\", \"text\": \"Informatica appears with Microstrategy 14 times\", \"x\": [-0.8565502517999105], \"y\": [-0.2762637619042896], \"type\": \"scatter\", \"uid\": \"71696c4a-d51d-4a49-9854-3ba296e557b0\"}, {\"hoverinfo\": \"text\", \"marker\": {\"color\": \"blue\", \"size\": 0.5}, \"mode\": \"markers\", \"text\": \"Microstrategy appears with Informatica 14 times\", \"x\": [-0.07583576631770386], \"y\": [-0.8967992732752444], \"type\": \"scatter\", \"uid\": \"049d9c02-e964-4a48-b3bf-39d7337ef73f\"}, {\"hoverinfo\": \"text\", \"marker\": {\"color\": \"green\", \"size\": 0.5}, \"mode\": \"markers\", \"text\": \"Informatica appears with Oracle BI 130 times\", \"x\": [-0.816447417320103], \"y\": [-0.37869990064869796], \"type\": \"scatter\", \"uid\": \"78c6a444-941b-4641-9c06-7004f4b1e637\"}, {\"hoverinfo\": \"text\", \"marker\": {\"color\": \"blue\", \"size\": 0.5}, \"mode\": \"markers\", \"text\": \"Oracle BI appears with Informatica 130 times\", \"x\": [0.11167545022586779], \"y\": [-0.8930445642950018], \"type\": \"scatter\", \"uid\": \"6889b302-f239-4e92-9878-bfb9138c822e\"}, {\"hoverinfo\": \"text\", \"marker\": {\"color\": \"green\", \"size\": 0.5}, \"mode\": \"markers\", \"text\": \"Informatica appears with Python 27 times\", \"x\": [-0.8534493506795706], \"y\": [-0.28569950266778454], \"type\": \"scatter\", \"uid\": \"d25a4fc0-1baf-4fb6-a457-779d1543b3c7\"}, {\"hoverinfo\": \"text\", \"marker\": {\"color\": \"blue\", \"size\": 0.5}, \"mode\": \"markers\", \"text\": \"Python appears with Informatica 27 times\", \"x\": [0.5868982415279017], \"y\": [-0.6823125779959336], \"type\": \"scatter\", \"uid\": \"806a0957-a17e-42d6-b5e3-853f388071a0\"}, {\"hoverinfo\": \"text\", \"marker\": {\"color\": \"green\", \"size\": 0.5}, \"mode\": \"markers\", \"text\": \"Informatica appears with VBA 5 times\", \"x\": [-0.8593304574001356], \"y\": [-0.2674904951292175], \"type\": \"scatter\", \"uid\": \"8f55e127-697c-42d6-b67b-e04c3778923d\"}, {\"hoverinfo\": \"text\", \"marker\": {\"color\": \"blue\", \"size\": 0.5}, \"mode\": \"markers\", \"text\": \"VBA appears with Informatica 5 times\", \"x\": [0.8173171706961585], \"y\": [-0.37681911109340854], \"type\": \"scatter\", \"uid\": \"708f607c-0091-448a-8e69-da5ee4fb9971\"}, {\"hoverinfo\": \"text\", \"marker\": {\"color\": \"green\", \"size\": 0.5}, \"mode\": \"markers\", \"text\": \"Informatica appears with Linux 9 times\", \"x\": [-0.8585140221397094], \"y\": [-0.2700993776177551], \"type\": \"scatter\", \"uid\": \"7cdb937b-ef0d-43f6-bcac-f5f35efccad8\"}, {\"hoverinfo\": \"text\", \"marker\": {\"color\": \"blue\", \"size\": 0.5}, \"mode\": \"markers\", \"text\": \"Linux appears with Informatica 9 times\", \"x\": [0.8712287353909357], \"y\": [-0.22574430364709305], \"type\": \"scatter\", \"uid\": \"f0d0c623-32e1-4c55-9210-c8f449133595\"}, {\"hoverinfo\": \"text\", \"marker\": {\"color\": \"green\", \"size\": 0.5}, \"mode\": \"markers\", \"text\": \"Informatica appears with AWS 19 times\", \"x\": [-0.8547706864863693], \"y\": [-0.28172162416758306], \"type\": \"scatter\", \"uid\": \"f81ecb00-386a-424c-b74f-74127d9c7132\"}, {\"hoverinfo\": \"text\", \"marker\": {\"color\": \"blue\", \"size\": 0.5}, \"mode\": \"markers\", \"text\": \"AWS appears with Informatica 19 times\", \"x\": [0.8956676451961899], \"y\": [-0.08820130015318414], \"type\": \"scatter\", \"uid\": \"dfe02775-4aca-4c64-9a5a-3b7a155a1689\"}, {\"hoverinfo\": \"text\", \"marker\": {\"color\": \"green\", \"size\": 0.5}, \"mode\": \"markers\", \"text\": \"Qlik appears with Tableau 341 times\", \"x\": [-0.698574010919029], \"y\": [-0.5674454610519855], \"type\": \"scatter\", \"uid\": \"50a3b02d-c2c2-4e37-b81a-aba1ec848bb3\"}, {\"hoverinfo\": \"text\", \"marker\": {\"color\": \"blue\", \"size\": 0.5}, \"mode\": \"markers\", \"text\": \"Tableau appears with Qlik 341 times\", \"x\": [-0.3128379264585424], \"y\": [-0.8438793940896528], \"type\": \"scatter\", \"uid\": \"b47dbc04-acc6-488b-85c8-c9136a27ae94\"}, {\"hoverinfo\": \"text\", \"marker\": {\"color\": \"green\", \"size\": 0.5}, \"mode\": \"markers\", \"text\": \"Qlik appears with Microstrategy 35 times\", \"x\": [-0.7831322725756956], \"y\": [-0.4435130704392222], \"type\": \"scatter\", \"uid\": \"dbc59e10-45e4-4c89-b04e-0006dda12615\"}, {\"hoverinfo\": \"text\", \"marker\": {\"color\": \"blue\", \"size\": 0.5}, \"mode\": \"markers\", \"text\": \"Microstrategy appears with Qlik 35 times\", \"x\": [-0.05610554542343638], \"y\": [-0.8982495019607519], \"type\": \"scatter\", \"uid\": \"076550b8-a856-4b5d-99a3-512139cd3906\"}, {\"hoverinfo\": \"text\", \"marker\": {\"color\": \"green\", \"size\": 0.5}, \"mode\": \"markers\", \"text\": \"Qlik appears with Oracle BI 343 times\", \"x\": [-0.6521832035123664], \"y\": [-0.6202072791062254], \"type\": \"scatter\", \"uid\": \"32de2ae2-70b8-430c-a3d0-f0d70540f98b\"}, {\"hoverinfo\": \"text\", \"marker\": {\"color\": \"blue\", \"size\": 0.5}, \"mode\": \"markers\", \"text\": \"Oracle BI appears with Qlik 343 times\", \"x\": [0.34077259366501733], \"y\": [-0.8329910200037075], \"type\": \"scatter\", \"uid\": \"6f2004cd-9f9c-410c-9c9b-66c8574bc578\"}, {\"hoverinfo\": \"text\", \"marker\": {\"color\": \"green\", \"size\": 0.5}, \"mode\": \"markers\", \"text\": \"Qlik appears with Python 54 times\", \"x\": [-0.778585923347001], \"y\": [-0.45144651949693654], \"type\": \"scatter\", \"uid\": \"cc40c1b0-7c1a-4d1f-8412-69f4394693bc\"}, {\"hoverinfo\": \"text\", \"marker\": {\"color\": \"blue\", \"size\": 0.5}, \"mode\": \"markers\", \"text\": \"Python appears with Qlik 54 times\", \"x\": [0.6058907502613456], \"y\": [-0.6655046196291532], \"type\": \"scatter\", \"uid\": \"352d9b3d-c056-465a-989d-33cac28ba587\"}, {\"hoverinfo\": \"text\", \"marker\": {\"color\": \"green\", \"size\": 0.5}, \"mode\": \"markers\", \"text\": \"Qlik appears with VBA 31 times\", \"x\": [-0.7896276084999562], \"y\": [-0.43184284166191744], \"type\": \"scatter\", \"uid\": \"32926d45-02a0-47dc-8a33-e27ad9dcb403\"}, {\"hoverinfo\": \"text\", \"marker\": {\"color\": \"blue\", \"size\": 0.5}, \"mode\": \"markers\", \"text\": \"VBA appears with Qlik 31 times\", \"x\": [0.8232910275046079], \"y\": [-0.363582018299045], \"type\": \"scatter\", \"uid\": \"8c70c619-af8f-4267-ba3f-1b19c704dc54\"}, {\"hoverinfo\": \"text\", \"marker\": {\"color\": \"green\", \"size\": 0.5}, \"mode\": \"markers\", \"text\": \"Qlik appears with Linux 2 times\", \"x\": [-0.7986655575882066], \"y\": [-0.41488953604823453], \"type\": \"scatter\", \"uid\": \"806c2d69-d386-48e5-b614-1b7eeb15f56d\"}, {\"hoverinfo\": \"text\", \"marker\": {\"color\": \"blue\", \"size\": 0.5}, \"mode\": \"markers\", \"text\": \"Linux appears with Qlik 2 times\", \"x\": [0.8702348853917554], \"y\": [-0.2295457345436815], \"type\": \"scatter\", \"uid\": \"a8685c09-55c7-4a79-b6b9-0c527a82a9c2\"}, {\"hoverinfo\": \"text\", \"marker\": {\"color\": \"green\", \"size\": 0.5}, \"mode\": \"markers\", \"text\": \"Qlik appears with AWS 3 times\", \"x\": [-0.7984286185576325], \"y\": [-0.4153453274904518], \"type\": \"scatter\", \"uid\": \"f2d70140-6e7a-4d75-9a44-47dce242c7c7\"}, {\"hoverinfo\": \"text\", \"marker\": {\"color\": \"blue\", \"size\": 0.5}, \"mode\": \"markers\", \"text\": \"AWS appears with Qlik 3 times\", \"x\": [0.8947435743806463], \"y\": [-0.09712845157081929], \"type\": \"scatter\", \"uid\": \"3ccd403d-eeba-4aee-a691-b44007271a61\"}, {\"hoverinfo\": \"text\", \"marker\": {\"color\": \"green\", \"size\": 0.5}, \"mode\": \"markers\", \"text\": \"Tableau appears with Microstrategy 50 times\", \"x\": [-0.498626893732691], \"y\": [-0.7492471026613902], \"type\": \"scatter\", \"uid\": \"9bf5c2b2-fea2-4023-974e-9eca6adbe2dd\"}, {\"hoverinfo\": \"text\", \"marker\": {\"color\": \"blue\", \"size\": 0.5}, \"mode\": \"markers\", \"text\": \"Microstrategy appears with Tableau 50 times\", \"x\": [-0.04478821348971915], \"y\": [-0.8988848735696909], \"type\": \"scatter\", \"uid\": \"483e0333-217c-483c-bfea-eecf26942080\"}, {\"hoverinfo\": \"text\", \"marker\": {\"color\": \"green\", \"size\": 0.5}, \"mode\": \"markers\", \"text\": \"Tableau appears with Oracle BI 407 times\", \"x\": [-0.2385825546499837], \"y\": [-0.8678008784373795], \"type\": \"scatter\", \"uid\": \"ad1ceb45-cb29-470a-b62f-d6a84e173e53\"}, {\"hoverinfo\": \"text\", \"marker\": {\"color\": \"blue\", \"size\": 0.5}, \"mode\": \"markers\", \"text\": \"Oracle BI appears with Tableau 407 times\", \"x\": [0.41267200284703454], \"y\": [-0.7998136145791825], \"type\": \"scatter\", \"uid\": \"82a8b212-b15e-4264-86b1-f215158a0173\"}, {\"hoverinfo\": \"text\", \"marker\": {\"color\": \"green\", \"size\": 0.5}, \"mode\": \"markers\", \"text\": \"Tableau appears with Python 132 times\", \"x\": [-0.4221338943189176], \"y\": [-0.7948603495376688], \"type\": \"scatter\", \"uid\": \"80e3f57c-8756-4c75-9260-6825111f080a\"}, {\"hoverinfo\": \"text\", \"marker\": {\"color\": \"blue\", \"size\": 0.5}, \"mode\": \"markers\", \"text\": \"Python appears with Tableau 132 times\", \"x\": [0.6897338013123959], \"y\": [-0.578158527851274], \"type\": \"scatter\", \"uid\": \"0aab7494-cb7d-474d-8591-0ccc0dc2c9e8\"}, {\"hoverinfo\": \"text\", \"marker\": {\"color\": \"green\", \"size\": 0.5}, \"mode\": \"markers\", \"text\": \"Tableau appears with VBA 68 times\", \"x\": [-0.4883318729849887], \"y\": [-0.7559973424734857], \"type\": \"scatter\", \"uid\": \"cb868674-b63c-4590-b312-f6a24ec81e39\"}, {\"hoverinfo\": \"text\", \"marker\": {\"color\": \"blue\", \"size\": 0.5}, \"mode\": \"markers\", \"text\": \"VBA appears with Tableau 68 times\", \"x\": [0.8363155593358513], \"y\": [-0.3325301267746461], \"type\": \"scatter\", \"uid\": \"e1575aa9-f536-46eb-b946-999f6b68c2ae\"}, {\"hoverinfo\": \"text\", \"marker\": {\"color\": \"green\", \"size\": 0.5}, \"mode\": \"markers\", \"text\": \"Tableau appears with Linux 18 times\", \"x\": [-0.5408584427749714], \"y\": [-0.7193553675889497], \"type\": \"scatter\", \"uid\": \"2fd5fec8-5ec9-4e8e-b211-04894c54c094\"}, {\"hoverinfo\": \"text\", \"marker\": {\"color\": \"blue\", \"size\": 0.5}, \"mode\": \"markers\", \"text\": \"Linux appears with Tableau 18 times\", \"x\": [0.8725922237392337], \"y\": [-0.22041508811744057], \"type\": \"scatter\", \"uid\": \"711b784a-1e3f-46aa-8c53-cca4c200b4d3\"}, {\"hoverinfo\": \"text\", \"marker\": {\"color\": \"green\", \"size\": 0.5}, \"mode\": \"markers\", \"text\": \"Tableau appears with AWS 33 times\", \"x\": [-0.5332401597995492], \"y\": [-0.7250206424488556], \"type\": \"scatter\", \"uid\": \"1e4f429f-b176-4592-a53c-fa4fa170ba21\"}, {\"hoverinfo\": \"text\", \"marker\": {\"color\": \"blue\", \"size\": 0.5}, \"mode\": \"markers\", \"text\": \"AWS appears with Tableau 33 times\", \"x\": [0.8968143408471105], \"y\": [-0.07565737274689524], \"type\": \"scatter\", \"uid\": \"8df79f3c-c828-4abd-8284-81453265566f\"}, {\"hoverinfo\": \"text\", \"marker\": {\"color\": \"green\", \"size\": 0.5}, \"mode\": \"markers\", \"text\": \"Microstrategy appears with Oracle BI 61 times\", \"x\": [-0.0369813350820518], \"y\": [-0.8992398906051428], \"type\": \"scatter\", \"uid\": \"e8a7dd17-c4c6-4969-a179-a14cc71354d3\"}, {\"hoverinfo\": \"text\", \"marker\": {\"color\": \"blue\", \"size\": 0.5}, \"mode\": \"markers\", \"text\": \"Oracle BI appears with Microstrategy 61 times\", \"x\": [0.044036576297614406], \"y\": [-0.8989220099363373], \"type\": \"scatter\", \"uid\": \"9ca1d8c5-5953-4f2f-b609-5c697a7ab8a0\"}, {\"hoverinfo\": \"text\", \"marker\": {\"color\": \"green\", \"size\": 0.5}, \"mode\": \"markers\", \"text\": \"Microstrategy appears with Python 19 times\", \"x\": [-0.07085363441001168], \"y\": [-0.8972066442525336], \"type\": \"scatter\", \"uid\": \"d4ef48cc-3267-4cd7-8dfd-742220ca65d1\"}, {\"hoverinfo\": \"text\", \"marker\": {\"color\": \"blue\", \"size\": 0.5}, \"mode\": \"markers\", \"text\": \"Python appears with Microstrategy 19 times\", \"x\": [0.57923275949732], \"y\": [-0.6888319173246257], \"type\": \"scatter\", \"uid\": \"9cee058f-516e-4d45-8eef-5d5fd41eb45e\"}, {\"hoverinfo\": \"text\", \"marker\": {\"color\": \"green\", \"size\": 0.5}, \"mode\": \"markers\", \"text\": \"Microstrategy appears with VBA 7 times\", \"x\": [-0.07913251991680435], \"y\": [-0.8965143859925598], \"type\": \"scatter\", \"uid\": \"ce63a372-61e9-4a8d-88e8-9d39c997f68f\"}, {\"hoverinfo\": \"text\", \"marker\": {\"color\": \"blue\", \"size\": 0.5}, \"mode\": \"markers\", \"text\": \"VBA appears with Microstrategy 7 times\", \"x\": [0.8181512306975515], \"y\": [-0.37500475158067265], \"type\": \"scatter\", \"uid\": \"ef9eb537-9223-4a48-a9a8-f2b4da9c4dee\"}, {\"hoverinfo\": \"text\", \"marker\": {\"color\": \"green\", \"size\": 0.5}, \"mode\": \"markers\", \"text\": \"Microstrategy appears with Linux 7 times\", \"x\": [-0.08011432686413612], \"y\": [-0.8964271831170151], \"type\": \"scatter\", \"uid\": \"836dd92f-28e9-46f6-ba0c-872b14cc5dc8\"}, {\"hoverinfo\": \"text\", \"marker\": {\"color\": \"blue\", \"size\": 0.5}, \"mode\": \"markers\", \"text\": \"Linux appears with Microstrategy 7 times\", \"x\": [0.8708772680012518], \"y\": [-0.22709642022426513], \"type\": \"scatter\", \"uid\": \"e467fcdc-f081-4e53-af36-c47a35d6cd90\"}, {\"hoverinfo\": \"text\", \"marker\": {\"color\": \"green\", \"size\": 0.5}, \"mode\": \"markers\", \"text\": \"Microstrategy appears with AWS 2 times\", \"x\": [-0.08200753929832244], \"y\": [-0.8962559698536094], \"type\": \"scatter\", \"uid\": \"f86b15f2-ccd2-4d7a-b775-0d51b99ba49b\"}, {\"hoverinfo\": \"text\", \"marker\": {\"color\": \"blue\", \"size\": 0.5}, \"mode\": \"markers\", \"text\": \"AWS appears with Microstrategy 2 times\", \"x\": [0.8946668307120347], \"y\": [-0.09783282692268219], \"type\": \"scatter\", \"uid\": \"3a8804da-bc3c-4795-9d4f-538923942723\"}, {\"hoverinfo\": \"text\", \"marker\": {\"color\": \"green\", \"size\": 0.5}, \"mode\": \"markers\", \"text\": \"Oracle BI appears with Python 154 times\", \"x\": [0.16966411921007715], \"y\": [-0.8838631605925595], \"type\": \"scatter\", \"uid\": \"1eac2e18-973d-494f-8091-9bb04d28d4ad\"}, {\"hoverinfo\": \"text\", \"marker\": {\"color\": \"blue\", \"size\": 0.5}, \"mode\": \"markers\", \"text\": \"Python appears with Oracle BI 154 times\", \"x\": [0.7437483316547723], \"y\": [-0.5067922840382861], \"type\": \"scatter\", \"uid\": \"bfa9b30e-4656-41ee-8dfb-0b6711b128a3\"}, {\"hoverinfo\": \"text\", \"marker\": {\"color\": \"green\", \"size\": 0.5}, \"mode\": \"markers\", \"text\": \"Oracle BI appears with VBA 74 times\", \"x\": [0.07280716711827216], \"y\": [-0.8970502307096365], \"type\": \"scatter\", \"uid\": \"7dc50a8a-ec21-4ede-806d-371e72c22314\"}, {\"hoverinfo\": \"text\", \"marker\": {\"color\": \"blue\", \"size\": 0.5}, \"mode\": \"markers\", \"text\": \"VBA appears with Oracle BI 74 times\", \"x\": [0.8409918366954903], \"y\": [-0.32051946994144637], \"type\": \"scatter\", \"uid\": \"60a9c766-83fb-4403-a66e-0c2de53a52ae\"}, {\"hoverinfo\": \"text\", \"marker\": {\"color\": \"green\", \"size\": 0.5}, \"mode\": \"markers\", \"text\": \"Oracle BI appears with Linux 3 times\", \"x\": [-0.004105845479013446], \"y\": [-0.8999906344139935], \"type\": \"scatter\", \"uid\": \"03eea762-f1a5-419b-8022-f6844381ca39\"}, {\"hoverinfo\": \"text\", \"marker\": {\"color\": \"blue\", \"size\": 0.5}, \"mode\": \"markers\", \"text\": \"Linux appears with Oracle BI 3 times\", \"x\": [0.8703461326145712], \"y\": [-0.2291235680650493], \"type\": \"scatter\", \"uid\": \"9340d77b-15fa-4329-ab7a-73f92fa78a47\"}, {\"hoverinfo\": \"text\", \"marker\": {\"color\": \"green\", \"size\": 0.5}, \"mode\": \"markers\", \"text\": \"Oracle BI appears with AWS 45 times\", \"x\": [0.032851773114987895], \"y\": [-0.8994002229281475], \"type\": \"scatter\", \"uid\": \"72c28d83-51c0-4eb3-a2d1-d5849e59b71b\"}, {\"hoverinfo\": \"text\", \"marker\": {\"color\": \"blue\", \"size\": 0.5}, \"mode\": \"markers\", \"text\": \"AWS appears with Oracle BI 45 times\", \"x\": [0.8973096732998199], \"y\": [-0.06953668242424493], \"type\": \"scatter\", \"uid\": \"b6264133-8973-4926-bda3-ef95048ce8c2\"}, {\"hoverinfo\": \"text\", \"marker\": {\"color\": \"green\", \"size\": 0.5}, \"mode\": \"markers\", \"text\": \"Python appears with VBA 64 times\", \"x\": [0.6229955870588507], \"y\": [-0.6495202063871439], \"type\": \"scatter\", \"uid\": \"d21fe255-aa01-469f-b4c4-8743a9e715f3\"}, {\"hoverinfo\": \"text\", \"marker\": {\"color\": \"blue\", \"size\": 0.5}, \"mode\": \"markers\", \"text\": \"VBA appears with Python 64 times\", \"x\": [0.8318147490773767], \"y\": [-0.3436338505114721], \"type\": \"scatter\", \"uid\": \"895be658-3668-40d6-a96d-03be69e7994c\"}, {\"hoverinfo\": \"text\", \"marker\": {\"color\": \"green\", \"size\": 0.5}, \"mode\": \"markers\", \"text\": \"Python appears with Linux 94 times\", \"x\": [0.6588747629161185], \"y\": [-0.6130938319639406], \"type\": \"scatter\", \"uid\": \"80f64888-d9f7-441b-85b4-960dc7f9784b\"}, {\"hoverinfo\": \"text\", \"marker\": {\"color\": \"blue\", \"size\": 0.5}, \"mode\": \"markers\", \"text\": \"Linux appears with Python 94 times\", \"x\": [0.8899438230534079], \"y\": [-0.13416404812424482], \"type\": \"scatter\", \"uid\": \"580e3297-d484-49ac-a279-de80c197bd9b\"}, {\"hoverinfo\": \"text\", \"marker\": {\"color\": \"green\", \"size\": 0.5}, \"mode\": \"markers\", \"text\": \"Python appears with AWS 91 times\", \"x\": [0.6457883653566273], \"y\": [-0.6268631327251709], \"type\": \"scatter\", \"uid\": \"9e4a4ec1-17e1-4edb-a16b-bae8abb1f340\"}, {\"hoverinfo\": \"text\", \"marker\": {\"color\": \"blue\", \"size\": 0.5}, \"mode\": \"markers\", \"text\": \"AWS appears with Python 91 times\", \"x\": [0.8993023750462407], \"y\": [-0.03542934145860697], \"type\": \"scatter\", \"uid\": \"41a7552d-c514-40b0-a6a7-9463df9bb46c\"}, {\"hoverinfo\": \"text\", \"marker\": {\"color\": \"green\", \"size\": 0.5}, \"mode\": \"markers\", \"text\": \"VBA appears with Linux 1 times\", \"x\": [0.8166317650378367], \"y\": [-0.3783022076742181], \"type\": \"scatter\", \"uid\": \"50afc606-6e4e-4999-bb40-70d2752082c1\"}, {\"hoverinfo\": \"text\", \"marker\": {\"color\": \"blue\", \"size\": 0.5}, \"mode\": \"markers\", \"text\": \"Linux appears with VBA 1 times\", \"x\": [0.8701234333946348], \"y\": [-0.22996784700808173], \"type\": \"scatter\", \"uid\": \"65f8bad9-f826-4070-96b7-9fd1423c80c1\"}, {\"hoverinfo\": \"text\", \"marker\": {\"color\": \"green\", \"size\": 0.5}, \"mode\": \"markers\", \"text\": \"VBA appears with AWS 5 times\", \"x\": [0.8169367221576572], \"y\": [-0.37764320726090506], \"type\": \"scatter\", \"uid\": \"748bfd31-6641-4093-9788-40fb644cc870\"}, {\"hoverinfo\": \"text\", \"marker\": {\"color\": \"blue\", \"size\": 0.5}, \"mode\": \"markers\", \"text\": \"AWS appears with VBA 5 times\", \"x\": [0.8948618511339078], \"y\": [-0.09603263708342043], \"type\": \"scatter\", \"uid\": \"1d654bdd-bb11-4b54-995d-9448e0bf3982\"}, {\"hoverinfo\": \"text\", \"marker\": {\"color\": \"green\", \"size\": 0.5}, \"mode\": \"markers\", \"text\": \"Linux appears with AWS 23 times\", \"x\": [0.8734620660300283], \"y\": [-0.21694243293222884], \"type\": \"scatter\", \"uid\": \"435141d3-0f1b-4283-ab36-2718aa09f0c0\"}, {\"hoverinfo\": \"text\", \"marker\": {\"color\": \"blue\", \"size\": 0.5}, \"mode\": \"markers\", \"text\": \"AWS appears with Linux 23 times\", \"x\": [0.8959856451719113], \"y\": [-0.0849100915431955], \"type\": \"scatter\", \"uid\": \"b2ae694b-c65d-45c7-97fb-f648f3998804\"}], {\"autosize\": false, \"font\": {\"color\": \"#655643\", \"family\": \"Fira Sans Condensed\", \"size\": 12}, \"height\": 525, \"hidesources\": true, \"hoverdistance\": 40, \"hovermode\": \"closest\", \"margin\": {\"b\": 10, \"l\": 280, \"r\": 280, \"t\": 80}, \"paper_bgcolor\": \"#fffaf0\", \"plot_bgcolor\": \"#fffaf0\", \"shapes\": [{\"fillcolor\": \"#f2e6ce\", \"layer\": \"below\", \"line\": {\"color\": \"rgb(175,175,175)\", \"width\": 0.5}, \"path\": \"M 0.9729881111613122,0.23085522636219863 Q 0.183740680465161, 0.07898963439717646 0.8369739687097891, 0.5472427027400044L 0.8369739687097891, 0.5472427027400044 L 0.8501896545743852, 0.5264765438789154 L 0.8628902209788978, 0.505391399352016 M 0.8628902209788978,0.505391399352016 Q 0.18387952578326955, 0.07866587568774605 0.9614236198025665, 0.27507203290361965L 0.9614236198025665, 0.27507203290361965 L 0.9674585095588584, 0.2530297063234913 L 0.9729881111613122, 0.23085522636219863 \", \"type\": \"path\"}, {\"fillcolor\": \"#f2e6ce\", \"layer\": \"below\", \"line\": {\"color\": \"rgb(175,175,175)\", \"width\": 0.5}, \"path\": \"M 0.998048149652904,0.062449107074598005 Q 0.14304721156433794, 0.13977659054243505 0.0855125064967854, 0.9963370971878128L 0.0855125064967854, 0.9963370971878128 L 0.0998247086032591, 0.9950050389582328 L 0.1141162855764771, 0.9934673992468137 M 0.1141162855764771,0.9934673992468137 Q 0.143142763266476, 0.139678736121278 0.995964368820328, 0.08974951832921259L 0.995964368820328, 0.08974951832921259 L 0.9970996986614017, 0.07610644472935203 L 0.998048149652904, 0.062449107074598005 \", \"type\": \"path\"}, {\"fillcolor\": \"#f2e6ce\", \"layer\": \"below\", \"line\": {\"color\": \"rgb(175,175,175)\", \"width\": 0.5}, \"path\": \"M 0.995964368820328,0.08974951832921259 Q 0.09643794949487673, 0.17521336106936483 -0.45700123276132765, 0.8894660607660232L -0.45700123276132765, 0.8894660607660232 L -0.44410012926380005, 0.8959771622021825 L -0.4311062830424525, 0.9023011541172498 M -0.4311062830424525,0.9023011541172498 Q 0.09651321612014069, 0.17517191302873591 0.9930562473370624, 0.11764051013503454L 0.9930562473370624, 0.11764051013503454 L 0.9946080784564135, 0.10370520849620171 L 0.995964368820328, 0.08974951832921259 \", \"type\": \"path\"}, {\"fillcolor\": \"#f2e6ce\", \"layer\": \"below\", \"line\": {\"color\": \"rgb(175,175,175)\", \"width\": 0.5}, \"path\": \"M 1.0,0.0 Q 0.07225308421946522, 0.1864926052710264 -0.7389745910387434, 0.6737332957477477L -0.7389745910387434, 0.6737332957477477 L -0.7386300863902967, 0.6741109667399448 L -0.7382853887238988, 0.6744884615742522 M -0.7382853887238988,0.6744884615742522 Q 0.07224546850573428, 0.18649555565853831 0.9999993905263417, 0.0011040593032647739L 0.9999993905263417, 0.0011040593032647739 L 0.9999998476315738, 0.000552029735744289 L 1.0, 0.0 \", \"type\": \"path\"}, {\"fillcolor\": \"#f2e6ce\", \"layer\": \"below\", \"line\": {\"color\": \"rgb(175,175,175)\", \"width\": 0.5}, \"path\": \"M 0.9993759638248411,0.035322555530001264 Q 0.044561660105027795, 0.19497245561536117 -0.8848062035666177, 0.46595920650849804L -0.8848062035666177, 0.46595920650849804 L -0.8825605186989901, 0.4701988205363446 L -0.8802945195584942, 0.47442761179686815 M -0.8802945195584942,0.47442761179686815 Q 0.044549920891658094, 0.19497513828318475 0.9989856172082168, 0.045030396524105454L 0.9989856172082168, 0.045030396524105454 L 0.9991925803774903, 0.040176950090476886 L 0.9993759638248411, 0.035322555530001264 \", \"type\": \"path\"}, {\"fillcolor\": \"#f2e6ce\", \"layer\": \"below\", \"line\": {\"color\": \"rgb(175,175,175)\", \"width\": 0.5}, \"path\": \"M 0.9999835198758718,0.00574107800522793 Q 0.026285005850490786, 0.19826522253647932 -0.9639430591316971, 0.2661085845135884L -0.9639430591316971, 0.2661085845135884 L -0.963754560624717, 0.2667904549924128 L -0.9635655797787825, 0.26747219194820715 M -0.9635655797787825,0.26747219194820715 Q 0.026228259656183008, 0.19827273739828138 0.999970135936355, 0.0077283397588131094L 0.999970135936355, 0.0077283397588131094 L 0.9999773215685903, 0.00673471220677063 L 0.9999835198758718, 0.00574107800522793 \", \"type\": \"path\"}, {\"fillcolor\": \"#f2e6ce\", \"layer\": \"below\", \"line\": {\"color\": \"rgb(175,175,175)\", \"width\": 0.5}, \"path\": \"M 0.9999921012309846,0.003974603834368522 Q 0.01783801499863692, 0.19920292472980514 -0.9833763231093322, 0.1815792035117743L -0.9833763231093322, 0.1815792035117743 L -0.9832396851495301, 0.18231763915500035 L -0.9831024926846959, 0.18305597197889406 M -0.9831024926846959,0.18305597197889406 Q 0.01781166491485893, 0.19920528254281006 0.9999835198758718, 0.00574107800522793L 0.9999835198758718, 0.00574107800522793 L 0.9999882006119812, 0.004857842814663723 L 0.9999921012309846, 0.003974603834368522 \", \"type\": \"path\"}, {\"fillcolor\": \"#f2e6ce\", \"layer\": \"below\", \"line\": {\"color\": \"rgb(175,175,175)\", \"width\": 0.5}, \"path\": \"M 0.9999390532470743,0.011040370978576334 Q 0.002818790117244096, 0.19998013506914863 -0.9992306245979453, 0.03921936850078057L -0.9992306245979453, 0.03921936850078057 L -0.9991414893951648, 0.04142806016713577 L -0.9990474721233322, 0.0436365494050536 M -0.9990474721233322,0.0436365494050536 Q 0.0027751061934981253, 0.19998074603724933 0.9998736221913604, 0.01589778745387323L 0.9998736221913604, 0.01589778745387323 L 0.9999092873029839, 0.01346911894812357 L 0.9999390532470743, 0.011040370978576334 \", \"type\": \"path\"}, {\"fillcolor\": \"#f2e6ce\", \"layer\": \"below\", \"line\": {\"color\": \"rgb(175,175,175)\", \"width\": 0.5}, \"path\": \"M 0.9997706272398452,0.021417117183377413 Q -0.01696919622257524, 0.19927881568184747 -0.9889974562473177, -0.1479325235921259L -0.9889974562473177, -0.1479325235921259 L -0.9894145136621535, -0.1451169189125936 L -0.9898235552694132, -0.14230013855867768 M -0.9898235552694132,-0.14230013855867768 Q -0.01701802711561838, 0.19927465155682014 0.9996191031077375, 0.02759798365972512L 0.9996191031077375, 0.02759798365972512 L 0.9996996420087608, 0.02450766752580772 L 0.9997706272398452, 0.021417117183377413 \", \"type\": \"path\"}, {\"fillcolor\": \"#f2e6ce\", \"layer\": \"below\", \"line\": {\"color\": \"rgb(175,175,175)\", \"width\": 0.5}, \"path\": \"M 0.999970135936355,0.0077283397588131094 Q -0.032276246877206836, 0.19737842812101225 -0.9503456074053617, -0.31119644356151327L -0.9503456074053617, -0.31119644356151327 L -0.9508171235103514, -0.3097528008582024 L -0.951286446620594, -0.30830844373121485 M -0.951286446620594,-0.30830844373121485 Q -0.032303365395589916, 0.19737399166080372 0.9999390532470743, 0.011040370978576334L 0.9999390532470743, 0.011040370978576334 L 0.9999559658468871, 0.009384368237624879 L 0.999970135936355, 0.0077283397588131094 \", \"type\": \"path\"}, {\"fillcolor\": \"#f2e6ce\", \"layer\": \"below\", \"line\": {\"color\": \"rgb(175,175,175)\", \"width\": 0.5}, \"path\": \"M 0.9881459726003999,0.1535172199904941 Q -0.07764325251469541, 0.18431366020710252 -0.8001423613251437, -0.5998101379711943L -0.8001423613251437, -0.5998101379711943 L -0.8118977689783332, -0.5837996340594991 L -0.8233328619784884, -0.5675588061040999 M -0.8233328619784884,-0.5675588061040999 Q -0.07752299614539948, 0.18436427275543488 0.9815198389599676, 0.19136040794270703L 0.9815198389599676, 0.19136040794270703 L 0.9850146592949959, 0.17247063800532278 L 0.9881459726003999, 0.1535172199904941 \", \"type\": \"path\"}, {\"fillcolor\": \"#f2e6ce\", \"layer\": \"below\", \"line\": {\"color\": \"rgb(175,175,175)\", \"width\": 0.5}, \"path\": \"M 0.9815198389599676,0.19136040794270703 Q -0.12644222985025425, 0.1549592285425282 -0.3843806291848003, -0.9231747028095478L -0.3843806291848003, -0.9231747028095478 L -0.40387644978076576, -0.9148135401886467 L -0.42319052756516556, -0.906040715078035 M -0.42319052756516556,-0.906040715078035 Q -0.12628577768661983, 0.15508675750716316 0.9729881111613122, 0.23085522636219863L 0.9729881111613122, 0.23085522636219863 L 0.9774534730320001, 0.2111509129927717 L 0.9815198389599676, 0.19136040794270703 \", \"type\": \"path\"}, {\"fillcolor\": \"#f2e6ce\", \"layer\": \"below\", \"line\": {\"color\": \"rgb(175,175,175)\", \"width\": 0.5}, \"path\": \"M 0.9998736221913604,0.01589778745387323 Q -0.13756956080338775, 0.14517098863189917 -0.06959882906000621, -0.9975750613329686L -0.06959882906000621, -0.9975750613329686 L -0.07154965071008118, -0.9974370393580065 L -0.07350019870025838, -0.9972952024305655 M -0.07350019870025838,-0.9972952024305655 Q -0.13768629913394181, 0.14506027378575673 0.9997706272398452, 0.021417117183377413L 0.9997706272398452, 0.021417117183377413 L 0.9998259332608793, 0.018657523389018885 L 0.9998736221913604, 0.01589778745387323 \", \"type\": \"path\"}, {\"fillcolor\": \"#f2e6ce\", \"layer\": \"below\", \"line\": {\"color\": \"rgb(175,175,175)\", \"width\": 0.5}, \"path\": \"M 0.9930562473370624,0.11764051013503454 Q -0.16468958693524918, 0.11347836778477652 0.24373266022586593, -0.9698424564532234L 0.24373266022586593, -0.9698424564532234 L 0.22502383136255458, -0.9743532600237537 L 0.20623166095696402, -0.9785031946902022 M 0.20623166095696402,-0.9785031946902022 Q -0.16456026709980587, 0.11366581936554435 0.9881459726003999, 0.1535172199904941L 0.9881459726003999, 0.1535172199904941 L 0.9907635155014517, 0.13560109273602713 L 0.9930562473370624, 0.11764051013503454 \", \"type\": \"path\"}, {\"fillcolor\": \"#f2e6ce\", \"layer\": \"below\", \"line\": {\"color\": \"rgb(175,175,175)\", \"width\": 0.5}, \"path\": \"M 0.9989856172082168,0.045030396524105454 Q -0.18661458759079483, 0.07193744295092487 0.7102726040393549, -0.7039267205832961L 0.7102726040393549, -0.7039267205832961 L 0.703899152437822, -0.7102999248186049 L 0.6974685170422555, -0.7166154252699818 M 0.6974685170422555,-0.7166154252699818 Q -0.1865936309898691, 0.07199178337849788 0.998048149652904, 0.062449107074598005L 0.998048149652904, 0.062449107074598005 L 0.9985548654756982, 0.05374179597678369 L 0.9989856172082168, 0.045030396524105454 \", \"type\": \"path\"}, {\"fillcolor\": \"#f2e6ce\", \"layer\": \"below\", \"line\": {\"color\": \"rgb(175,175,175)\", \"width\": 0.5}, \"path\": \"M 0.9996191031077375,0.02759798365972512 Q -0.19643709425604, 0.037582815225095365 0.9188352781836203, -0.39464126946535766L 0.9188352781836203, -0.39464126946535766 L 0.9174365319419735, -0.3978821557424814 L 0.9160263545925981, -0.4011180844736319 M 0.9160263545925981,-0.4011180844736319 Q -0.19644964936710074, 0.03751713293341034 0.9993759638248411, 0.035322555530001264L 0.9993759638248411, 0.035322555530001264 L 0.9995049958143485, 0.03146050448036705 L 0.9996191031077375, 0.02759798365972512 \", \"type\": \"path\"}, {\"fillcolor\": \"#f2e6ce\", \"layer\": \"below\", \"line\": {\"color\": \"rgb(175,175,175)\", \"width\": 0.5}, \"path\": \"M 0.9999970501486445,0.0024289285723101033 Q -0.19839765399636322, 0.025266002626837165 0.967469823453642, -0.2529864437209608L 0.967469823453642, -0.2529864437209608 L 0.9672977918140281, -0.2536434149582936 L 0.9671253140507802, -0.2543002692137384 M 0.9671253140507802,-0.2543002692137384 Q -0.1984000210572778, 0.025247408668450096 0.9999921012309846, 0.003974603834368522L 0.9999921012309846, 0.003974603834368522 L 0.9999948743303919, 0.0032017671595218062 L 0.9999970501486445, 0.0024289285723101033 \", \"type\": \"path\"}, {\"fillcolor\": \"#f2e6ce\", \"layer\": \"below\", \"line\": {\"color\": \"rgb(175,175,175)\", \"width\": 0.5}, \"path\": \"M 0.9999993905263417,0.0011040593032647739 Q -0.19972801948654836, 0.010426803536125538 0.9944485206952571, -0.10522423526457564L 0.9944485206952571, -0.10522423526457564 L 0.9943931570821206, -0.10574615429533617 L 0.9943375195488665, -0.10626804419677414 M 0.9943375195488665,-0.10626804419677414 Q -0.19972945220421848, 0.010399323160802615 0.9999970501486445, 0.0024289285723101033L 0.9999970501486445, 0.0024289285723101033 L 0.999998439747682, 0.0017664943253748967 L 0.9999993905263417, 0.0011040593032647739 \", \"type\": \"path\"}, {\"fillcolor\": \"#ecd5bb\", \"layer\": \"below\", \"line\": {\"color\": \"rgb(175,175,175)\", \"width\": 0.5}, \"path\": \"M 0.558956558669094,0.8291969401299089 Q 0.03466107077767028, 0.1969736281143883 -0.24232080978573473, 0.9701961786900554L -0.24232080978573473, 0.9701961786900554 L -0.17636401295281776, 0.9843250148884658 L -0.10960477343027526, 0.9939752480023323 M -0.10960477343027526,0.9939752480023323 Q 0.03431776695110299, 0.1970337302887244 0.4392016325564349, 0.8983885161553226L 0.4392016325564349, 0.8983885161553226 L 0.5002767356432587, 0.8658655714221031 L 0.558956558669094, 0.8291969401299089 \", \"type\": \"path\"}, {\"fillcolor\": \"#ecd5bb\", \"layer\": \"below\", \"line\": {\"color\": \"rgb(175,175,175)\", \"width\": 0.5}, \"path\": \"M 0.8031181790003921,0.5958197634848095 Q 0.032041140375184816, 0.19741673010020633 -0.5734511109078054, 0.8192397838231513L -0.5734511109078054, 0.8192397838231513 L -0.549061524646103, 0.8357819345698355 L -0.5241950813771037, 0.8515982131616128 M -0.5241950813771037,0.8515982131616128 Q 0.03177900432346414, 0.19745909673704387 0.7649169335919778, 0.6441289348447605L 0.7649169335919778, 0.6441289348447605 L 0.7843895541056196, 0.6202685123476664 L 0.8031181790003921, 0.5958197634848095 \", \"type\": \"path\"}, {\"fillcolor\": \"#ecd5bb\", \"layer\": \"below\", \"line\": {\"color\": \"rgb(175,175,175)\", \"width\": 0.5}, \"path\": \"M 0.9358042535311607,0.3525200690357743 Q 0.04413742936023421, 0.19506892968761155 -0.6928945583325553, 0.7210389247697611L -0.6928945583325553, 0.7210389247697611 L -0.6884755658173803, 0.7252595364918948 L -0.6840308648960617, 0.7294530662554966 M -0.6840308648960617,0.7294530662554966 Q 0.043798401691560074, 0.19514533048286026 0.9301557666099749, 0.3671651533604598L 0.9301557666099749, 0.3671651533604598 L 0.9330087453046708, 0.3598536941383317 L 0.9358042535311607, 0.3525200690357743 \", \"type\": \"path\"}, {\"fillcolor\": \"#ecd5bb\", \"layer\": \"below\", \"line\": {\"color\": \"rgb(175,175,175)\", \"width\": 0.5}, \"path\": \"M 0.8959853186651643,0.4440836731253289 Q 0.0125248894354444, 0.1996074325886436 -0.833445715778383, 0.5526013380825808L -0.833445715778383, 0.5526013380825808 L -0.8267760682947791, 0.5625311839311904 L -0.8199881207007934, 0.5723805394224903 M -0.8199881207007934,0.5723805394224903 Q 0.012135406249486504, 0.19963149028938276 0.8832829357271593, 0.46884033044652934L 0.8832829357271593, 0.46884033044652934 L 0.8897202387787447, 0.45650618474177707 L 0.8959853186651643, 0.4440836731253289 \", \"type\": \"path\"}, {\"fillcolor\": \"#ecd5bb\", \"layer\": \"below\", \"line\": {\"color\": \"rgb(175,175,175)\", \"width\": 0.5}, \"path\": \"M 0.8832829357271593,0.46884033044652934 Q -0.01816120315921562, 0.19917371990252553 -0.9535115744610273, 0.30135639593154934L -0.9535115744610273, 0.30135639593154934 L -0.9475531420596743, 0.3195982524558584 L -0.9412457559245754, 0.33772241109226775 M -0.9412457559245754,0.33772241109226775 Q -0.01850742539649179, 0.19914184694632442 0.8628902209788978, 0.505391399352016L 0.8628902209788978, 0.505391399352016 L 0.873277830051658, 0.4872225687919921 L 0.8832829357271593, 0.46884033044652934 \", \"type\": \"path\"}, {\"fillcolor\": \"#ecd5bb\", \"layer\": \"below\", \"line\": {\"color\": \"rgb(175,175,175)\", \"width\": 0.5}, \"path\": \"M 0.9455600141168984,0.32544778337430863 Q -0.009950636686992182, 0.19975230869635396 -0.9732227950140796, 0.22986385375909552L -0.9732227950140796, 0.22986385375909552 L -0.9721831276669423, 0.23422204482012768 L -0.9711239439986984, 0.23857553393508932 M -0.9711239439986984,0.23857553393508932 Q -0.01040957449467523, 0.19972891818372174 0.9410613945605557, 0.33823579300207424L 0.9410613945605557, 0.33823579300207424 L 0.9433323742020017, 0.3318494113034023 L 0.9455600141168984, 0.32544778337430863 \", \"type\": \"path\"}, {\"fillcolor\": \"#ecd5bb\", \"layer\": \"below\", \"line\": {\"color\": \"rgb(175,175,175)\", \"width\": 0.5}, \"path\": \"M 0.9410613945605557,0.33823579300207424 Q -0.02585986552386639, 0.1983211218077579 -0.9963285571233177, 0.08561195162223417L -0.9963285571233177, 0.08561195162223417 L -0.9957962432861566, 0.09159607992254674 L -0.9952279880262793, 0.09757690223185023 M -0.9952279880262793,0.09757690223185023 Q -0.02617770015134251, 0.19827941903986507 0.9358042535311607, 0.3525200690357743L 0.9358042535311607, 0.3525200690357743 L 0.938460002015076, 0.34538793351514696 L 0.9410613945605557, 0.33823579300207424 \", \"type\": \"path\"}, {\"fillcolor\": \"#ecd5bb\", \"layer\": \"below\", \"line\": {\"color\": \"rgb(175,175,175)\", \"width\": 0.5}, \"path\": \"M 0.9237324568829486,0.38303831153161644 Q -0.04044977983905363, 0.19586683055324117 -0.9998988372458802, -0.01422375739165747L -0.9998988372458802, -0.01422375739165747 L -0.9999820891148274, -0.005985102300322692 L -0.9999974598310203, 0.0022539590739324706 M -0.9999974598310203,0.0022539590739324706 Q -0.04074587084002349, 0.19580544938659938 0.916087237191963, 0.40097901921920553L 0.916087237191963, 0.40097901921920553 L 0.9199535824836806, 0.3920273027168411 L 0.9237324568829486, 0.38303831153161644 \", \"type\": \"path\"}, {\"fillcolor\": \"#ecd5bb\", \"layer\": \"below\", \"line\": {\"color\": \"rgb(175,175,175)\", \"width\": 0.5}, \"path\": \"M 0.916087237191963,0.40097901921920553 Q -0.06142031479845975, 0.19033534860886483 -0.9776737397515161, -0.21012867153314604L -0.9776737397515161, -0.21012867153314604 L -0.9794323591835727, -0.2017727776091241 L -0.9811195645729599, -0.19340217168420223 M -0.9811195645729599,-0.19340217168420223 Q -0.06169621411867308, 0.19024609631585834 0.9078943191266272, 0.4191991236841962L 0.9078943191266272, 0.4191991236841962 L 0.9120362780609527, 0.41010953110202714 L 0.916087237191963, 0.40097901921920553 \", \"type\": \"path\"}, {\"fillcolor\": \"#ecd5bb\", \"layer\": \"below\", \"line\": {\"color\": \"rgb(175,175,175)\", \"width\": 0.5}, \"path\": \"M 0.9078943191266272,0.4191991236841962 Q -0.08280140884336162, 0.18205473543293094 -0.9126233429547769, -0.40880146023962266L -0.9126233429547769, -0.40880146023962266 L -0.9173614888115633, -0.39805514548292437 L -0.9219730999644741, -0.3872539256636372 M -0.9219730999644741,-0.3872539256636372 Q -0.0831743691251737, 0.18188464564286166 0.8959853186651643, 0.4440836731253289L 0.8959853186651643, 0.4440836731253289 L 0.9020256355060998, 0.43168246766554785 L 0.9078943191266272, 0.4191991236841962 \", \"type\": \"path\"}, {\"fillcolor\": \"#ecd5bb\", \"layer\": \"below\", \"line\": {\"color\": \"rgb(175,175,175)\", \"width\": 0.5}, \"path\": \"M 0.7100537163291646,0.7041475129027598 Q -0.14842233506069064, 0.1340552515015062 -0.6284722024304806, -0.7778320453492392L -0.6284722024304806, -0.7778320453492392 L -0.6634930427536938, -0.748182452492335 L -0.6971168602492166, -0.7169575183762802 M -0.6971168602492166,-0.7169575183762802 Q -0.14867857166761062, 0.1337710070489087 0.6395915610634463, 0.7687149244137412L 0.6395915610634463, 0.7687149244137412 L 0.6755944281551998, 0.7372734693759491 L 0.7100537163291646, 0.7041475129027598 \", \"type\": \"path\"}, {\"fillcolor\": \"#ecd5bb\", \"layer\": \"below\", \"line\": {\"color\": \"rgb(175,175,175)\", \"width\": 0.5}, \"path\": \"M 0.6395915610634463,0.7687149244137412 Q -0.1835520702630148, 0.07942693184406215 -0.12250989424830605, -0.9924672920611887L -0.12250989424830605, -0.9924672920611887 L -0.17112249661080398, -0.9852497607985933 L -0.2193217905948673, -0.975652577596278 M -0.2193217905948673,-0.975652577596278 Q -0.1836527581421331, 0.07919384083871149 0.558956558669094, 0.8291969401299089L 0.558956558669094, 0.8291969401299089 L 0.6000365967046298, 0.7999725511635543 L 0.6395915610634463, 0.7687149244137412 \", \"type\": \"path\"}, {\"fillcolor\": \"#ecd5bb\", \"layer\": \"below\", \"line\": {\"color\": \"rgb(175,175,175)\", \"width\": 0.5}, \"path\": \"M 0.9523089939285675,0.30513534715394663 Q -0.15834041334120189, 0.12218147774084803 -0.053670841566979134, -0.9985586816835014L -0.053670841566979134, -0.9985586816835014 L -0.05663897713813794, -0.9983947246799462 L -0.05960661220704326, -0.9982219451510767 M -0.05960661220704326,-0.9982219451510767 Q -0.1585291298812223, 0.12193652028454212 0.9495124675734269, 0.3137293003890806L 0.9495124675734269, 0.3137293003890806 L 0.9509204392931342, 0.3094354829920974 L 0.9523089939285675, 0.30513534715394663 \", \"type\": \"path\"}, {\"fillcolor\": \"#ecd5bb\", \"layer\": \"below\", \"line\": {\"color\": \"rgb(175,175,175)\", \"width\": 0.5}, \"path\": \"M 0.4392016325564349,0.8983885161553226 Q -0.19889637220374423, -0.02098173310738777 0.6169914026448169, -0.7869698908232649L 0.6169914026448169, -0.7869698908232649 L 0.5600983692234566, -0.8284261082276587 L 0.5004298046202984, -0.8657771137236708 M 0.5004298046202984,-0.8657771137236708 Q -0.1988765696988936, -0.021168609420581207 0.306973920426507, 0.9517179267923771L 0.306973920426507, 0.9517179267923771 L 0.3740394303774318, 0.9274128015737794 L 0.4392016325564349, 0.8983885161553226 \", \"type\": \"path\"}, {\"fillcolor\": \"#ecd5bb\", \"layer\": \"below\", \"line\": {\"color\": \"rgb(175,175,175)\", \"width\": 0.5}, \"path\": \"M 0.7649169335919778,0.6441289348447605 Q -0.19862621158862734, -0.023401454440907143 0.8936725799347581, -0.4487196450711216L 0.8936725799347581, -0.4487196450711216 L 0.875487972797302, -0.48323990883128703 L 0.8559705853264633, -0.5170245226832783 M 0.8559705853264633,-0.5170245226832783 Q -0.19858734234269176, -0.023729042569529655 0.7100537163291646, 0.7041475129027598L 0.7100537163291646, 0.7041475129027598 L 0.7380956319883117, 0.6746961079180571 L 0.7649169335919778, 0.6441289348447605 \", \"type\": \"path\"}, {\"fillcolor\": \"#ecd5bb\", \"layer\": \"below\", \"line\": {\"color\": \"rgb(175,175,175)\", \"width\": 0.5}, \"path\": \"M 0.8369739687097891,0.5472427027400044 Q -0.19791318547471534, -0.028816158926042407 0.9582729553757201, -0.285854758567149L 0.9582729553757201, -0.285854758567149 L 0.9507930774119434, -0.309826603030673 L 0.9427136313289455, -0.3336030714885476 M 0.9427136313289455,-0.3336030714885476 Q -0.19778158448469677, -0.029705973115229864 0.8031181790003921, 0.5958197634848095L 0.8031181790003921, 0.5958197634848095 L 0.8204056898588649, 0.5717818675397114 L 0.8369739687097891, 0.5472427027400044 \", \"type\": \"path\"}, {\"fillcolor\": \"#ecd5bb\", \"layer\": \"below\", \"line\": {\"color\": \"rgb(175,175,175)\", \"width\": 0.5}, \"path\": \"M 0.9301557666099749,0.3671651533604598 Q -0.1990014133054604, -0.019960899339191415 0.9845488568235908, -0.17511010401276236L 0.9845488568235908, -0.17511010401276236 L 0.9833016590324578, -0.18198309631396015 L 0.9820064824867482, -0.18884720901830687 M 0.9820064824867482,-0.18884720901830687 Q -0.19896969502023654, -0.020274626101461662 0.9237324568829486, 0.38303831153161644L 0.9237324568829486, 0.38303831153161644 L 0.9269780879767431, 0.37511548143336004 L 0.9301557666099749, 0.3671651533604598 \", \"type\": \"path\"}, {\"fillcolor\": \"#ecd5bb\", \"layer\": \"below\", \"line\": {\"color\": \"rgb(175,175,175)\", \"width\": 0.5}, \"path\": \"M 0.9495124675734269,0.3137293003890806 Q -0.19815620629534494, -0.027094610287595935 0.9988798468976258, -0.04731861643978661L 0.9988798468976258, -0.04731861643978661 L 0.9986542769664141, -0.0518616919960076 L 0.9984080444614701, -0.05640369451217825 M 0.9984080444614701,-0.05640369451217825 Q -0.19811164438106726, -0.027418540454034874 0.9455600141168984, 0.32544778337430863L 0.9455600141168984, 0.32544778337430863 L 0.9475543564491964, 0.3195946519798934 L 0.9495124675734269, 0.3137293003890806 \", \"type\": \"path\"}, {\"fillcolor\": \"#e6c4a9\", \"layer\": \"below\", \"line\": {\"color\": \"rgb(175,175,175)\", \"width\": 0.5}, \"path\": \"M -0.048831645087173636,0.9988070236227218 Q -0.07040020934200678, 0.18719992127295787 -0.6214288748734509, 0.7834705823919089L -0.6214288748734509, 0.7834705823919089 L -0.5977076242176528, 0.8017141610025915 L -0.5734511109078054, 0.8192397838231513 M -0.5734511109078054,0.8192397838231513 Q -0.0705051646030836, 0.18716041719416018 -0.10960477343027526, 0.9939752480023323L -0.10960477343027526, 0.9939752480023323 L -0.07925503890649806, 0.9968543719159432 L -0.048831645087173636, 0.9988070236227218 \", \"type\": \"path\"}, {\"fillcolor\": \"#e6c4a9\", \"layer\": \"below\", \"line\": {\"color\": \"rgb(175,175,175)\", \"width\": 0.5}, \"path\": \"M 0.22622422919914903,0.9740752528030115 Q -0.05190635123367979, 0.19314691481254853 -0.6840308648960617, 0.7294530662554966L -0.6840308648960617, 0.7294530662554966 L -0.6804431361545578, 0.7328008859575361 L -0.6768390225503608, 0.7361310600382736 M -0.6768390225503608,0.7361310600382736 Q -0.052145174634489345, 0.1930825749837064 0.21423839948561213, 0.9767814024569895L 0.21423839948561213, 0.9767814024569895 L 0.22023547086802317, 0.9754467373319469 L 0.22622422919914903, 0.9740752528030115 \", \"type\": \"path\"}, {\"fillcolor\": \"#e6c4a9\", \"layer\": \"below\", \"line\": {\"color\": \"rgb(175,175,175)\", \"width\": 0.5}, \"path\": \"M 0.19858601173094373,0.9800834637645905 Q -0.07081517014454493, 0.1870433417082767 -0.7978777443942657, 0.6028192971366451L -0.7978777443942657, 0.6028192971366451 L -0.7930451707728247, 0.6091628330043629 L -0.7881621640662003, 0.6154676296398406 M -0.7881621640662003,0.6154676296398406 Q -0.07101474318012836, 0.1869676609765989 0.18083102508896737, 0.9835141790362116L 0.18083102508896737, 0.9835141790362116 L 0.18971627344305267, 0.9818389560365187 L 0.19858601173094373, 0.9800834637645905 \", \"type\": \"path\"}, {\"fillcolor\": \"#e6c4a9\", \"layer\": \"below\", \"line\": {\"color\": \"rgb(175,175,175)\", \"width\": 0.5}, \"path\": \"M 0.14262575766324326,0.9897766885772699 Q -0.09738309734145065, 0.17468981754007745 -0.916892330426766, 0.3991346319283434L -0.916892330426766, 0.3991346319283434 L -0.9114121256739594, 0.4114947595953986 L -0.9057653098628826, 0.4237796637982953 M -0.9057653098628826,0.4237796637982953 Q -0.09753216359612245, 0.17460663522403497 0.1141162855764771, 0.9934673992468137L 0.1141162855764771, 0.9934673992468137 L 0.12838428458358214, 0.9917244957506908 L 0.14262575766324326, 0.9897766885772699 \", \"type\": \"path\"}, {\"fillcolor\": \"#e6c4a9\", \"layer\": \"below\", \"line\": {\"color\": \"rgb(175,175,175)\", \"width\": 0.5}, \"path\": \"M 0.2442507784300781,0.9697121001804097 Q -0.10257143338306868, 0.17169479040944344 -0.9696429473506232, 0.2445251615952775L -0.9696429473506232, 0.2445251615952775 L -0.968888776647624, 0.24749654237235458 L -0.9681255004469088, 0.250465597207326 M -0.9681255004469088,0.250465597207326 Q -0.10282119462509308, 0.17154533492890076 0.2354729482617403, 0.9718809035251819L 0.2354729482617403, 0.9718809035251819 L 0.2398643145921432, 0.9708064228182884 L 0.2442507784300781, 0.9697121001804097 \", \"type\": \"path\"}, {\"fillcolor\": \"#e6c4a9\", \"layer\": \"below\", \"line\": {\"color\": \"rgb(175,175,175)\", \"width\": 0.5}, \"path\": \"M 0.25950752698324786,0.96574108509426 Q -0.10847571486673764, 0.16802684096343132 -0.9869465344231781, 0.16104824801927695L -0.9869465344231781, 0.16104824801927695 L -0.986427502779924, 0.16419738657896818 L -0.9858984229249571, 0.16734485254731457 M -0.9858984229249571,0.16734485254731457 Q -0.10860165100642193, 0.1679454715039359 0.2518869782430804, 0.9677566585622492L 0.2518869782430804, 0.9677566585622492 L 0.25569923861447347, 0.9667563805695717 L 0.25950752698324786, 0.96574108509426 \", \"type\": \"path\"}, {\"fillcolor\": \"#e6c4a9\", \"layer\": \"below\", \"line\": {\"color\": \"rgb(175,175,175)\", \"width\": 0.5}, \"path\": \"M 0.2518869782430804,0.9677566585622492 Q -0.12020751081947406, 0.1598441564230173 -0.9996470555636581, 0.026566224852406593L -0.9996470555636581, 0.026566224852406593 L -0.9995504667034132, 0.029981069243588156 L -0.999442212597819, 0.03339556374095268 M -0.999442212597819,0.03339556374095268 Q -0.12029142773491011, 0.15978101393312316 0.2442507784300781, 0.9697121001804097L 0.2442507784300781, 0.9697121001804097 L 0.24807080508828344, 0.9687419035340894 L 0.2518869782430804, 0.9677566585622492 \", \"type\": \"path\"}, {\"fillcolor\": \"#e6c4a9\", \"layer\": \"below\", \"line\": {\"color\": \"rgb(175,175,175)\", \"width\": 0.5}, \"path\": \"M 0.2354729482617403,0.9718809035251819 Q -0.13660038389049617, 0.14608331568310282 -0.9854766027137627, -0.16981126436058577L -0.9854766027137627, -0.16981126436058577 L -0.986175786658622, -0.16570249789380928 L -0.9868578399213367, -0.16159085303875764 M -0.9868578399213367,-0.16159085303875764 Q -0.13668580737289743, 0.14600339058672296 0.22622422919914903, 0.9740752528030115L 0.22622422919914903, 0.9740752528030115 L 0.23085119603551182, 0.9729890674046516 L 0.2354729482617403, 0.9718809035251819 \", \"type\": \"path\"}, {\"fillcolor\": \"#e6c4a9\", \"layer\": \"below\", \"line\": {\"color\": \"rgb(175,175,175)\", \"width\": 0.5}, \"path\": \"M 0.21423839948561213,0.9767814024569895 Q -0.15245902886483598, 0.12944591348355158 -0.9291018825757114, -0.3698238659068248L -0.9291018825757114, -0.3698238659068248 L -0.931662776752264, -0.3633241946447567 L -0.9341782021467039, -0.3568067917430274 M -0.9341782021467039,-0.3568067917430274 Q -0.1525900201806094, 0.12929147590340676 0.19858601173094373, 0.9800834637645905L 0.19858601173094373, 0.9800834637645905 L 0.2064188085574903, 0.9784637323241502 L 0.21423839948561213, 0.9767814024569895 \", \"type\": \"path\"}, {\"fillcolor\": \"#e6c4a9\", \"layer\": \"below\", \"line\": {\"color\": \"rgb(175,175,175)\", \"width\": 0.5}, \"path\": \"M 0.16210187368277784,0.9867740281080227 Q -0.16776708861553455, 0.10887701308112463 -0.8351972686207787, -0.5499504727594939L -0.8351972686207787, -0.5499504727594939 L -0.8404941415448878, -0.5418206327085764 L -0.845711880968893, -0.5336397796154788 M -0.845711880968893,-0.5336397796154788 Q -0.16778342684382855, 0.10885183359292411 0.14262575766324326, 0.9897766885772699L 0.14262575766324326, 0.9897766885772699 L 0.1523712122381146, 0.9883233345829124 L 0.16210187368277784, 0.9867740281080227 \", \"type\": \"path\"}, {\"fillcolor\": \"#e6c4a9\", \"layer\": \"below\", \"line\": {\"color\": \"rgb(175,175,175)\", \"width\": 0.5}, \"path\": \"M 0.0855125064967854,0.9963370971878128 Q -0.1932114848168724, 0.05166548301196351 -0.42319052756516556, -0.906040715078035L -0.42319052756516556, -0.906040715078035 L -0.43940083323874835, -0.8982911041244335 L -0.4554692869304404, -0.8902514974225407 M -0.4554692869304404,-0.8902514974225407 Q -0.1932114848168724, 0.05166548301196351 0.04966118103688606, 0.9987661223219486L 0.04966118103688606, 0.9987661223219486 L 0.06759775507469333, 0.9977126557826466 L 0.0855125064967854, 0.9963370971878128 \", \"type\": \"path\"}, {\"fillcolor\": \"#e6c4a9\", \"layer\": \"below\", \"line\": {\"color\": \"rgb(175,175,175)\", \"width\": 0.5}, \"path\": \"M 0.2729159252795527,0.9620378878863377 Q -0.1970908299394556, 0.03398830319060661 -0.06507191029367802, -0.9978805772690095L -0.06507191029367802, -0.9978805772690095 L -0.06733554295105848, -0.9977303867556035 L -0.06959882906000621, -0.9975750613329686 M -0.06959882906000621,-0.9975750613329686 Q -0.1971278645718801, 0.033772844258819844 0.2664416332717294, 0.9638510549143438L 0.2664416332717294, 0.9638510549143438 L 0.2696803031095667, 0.962949912568007 L 0.2729159252795527, 0.9620378878863377 \", \"type\": \"path\"}, {\"fillcolor\": \"#e6c4a9\", \"layer\": \"below\", \"line\": {\"color\": \"rgb(175,175,175)\", \"width\": 0.5}, \"path\": \"M 0.01189115186001519,0.9999292977543173 Q -0.1971812177292311, -0.03345993686212758 0.3410857358491799, -0.9400321913637977L 0.3410857358491799, -0.9400321913637977 L 0.3120273911595254, -0.9500731062219268 L 0.2826741158809495, -0.9592160049805901 M 0.2826741158809495,-0.9592160049805901 Q -0.19719372408085975, -0.033386152565423904 -0.048831645087173636, 0.9988070236227218L -0.048831645087173636, 0.9988070236227218 L -0.018478768486375138, 0.9998292529803411 L 0.01189115186001519, 0.9999292977543173 \", \"type\": \"path\"}, {\"fillcolor\": \"#e6c4a9\", \"layer\": \"below\", \"line\": {\"color\": \"rgb(175,175,175)\", \"width\": 0.5}, \"path\": \"M 0.04966118103688606,0.9987661223219486 Q -0.1765726529146505, -0.09392602537466585 0.8559705853264633, -0.5170245226832783L 0.8559705853264633, -0.5170245226832783 L 0.8462080126466873, -0.532852699470073 L 0.8361527882291832, -0.5484965950090873 M 0.8361527882291832,-0.5484965950090873 Q -0.17654464788551816, -0.09397865344310066 0.01189115186001519, 0.9999292977543173L 0.01189115186001519, 0.9999292977543173 L 0.030781661188674574, 0.9995261323919779 L 0.04966118103688606, 0.9987661223219486 \", \"type\": \"path\"}, {\"fillcolor\": \"#e6c4a9\", \"layer\": \"below\", \"line\": {\"color\": \"rgb(175,175,175)\", \"width\": 0.5}, \"path\": \"M 0.18083102508896737,0.9835141790362116 Q -0.1731228016927622, -0.10014237631516705 0.9427136313289455, -0.3336030714885476L 0.9427136313289455, -0.3336030714885476 L 0.9399225497608383, -0.3413877567387038 L 0.9370671855165481, -0.34914909398148974 M 0.9370671855165481,-0.34914909398148974 Q -0.17299893666825014, -0.10035620514773753 0.16210187368277784, 0.9867740281080227L 0.16210187368277784, 0.9867740281080227 L 0.17147419607331815, 0.985188611424741 L 0.18083102508896737, 0.9835141790362116 \", \"type\": \"path\"}, {\"fillcolor\": \"#e6c4a9\", \"layer\": \"below\", \"line\": {\"color\": \"rgb(175,175,175)\", \"width\": 0.5}, \"path\": \"M 0.2769282648186709,0.9608905953044394 Q -0.17351254666410687, -0.09946555258045946 0.9691177552829188, -0.24659841117776218L 0.9691177552829188, -0.24659841117776218 L 0.968685639871762, -0.24829041686346826 L 0.968250570350127, -0.24998166536098956 M 0.968250570350127,-0.24998166536098956 Q -0.1734786922745128, -0.09952458654385306 0.2729159252795527, 0.9620378878863377L 0.2729159252795527, 0.9620378878863377 L 0.2749226935272168, 0.9614663346075826 L 0.2769282648186709, 0.9608905953044394 \", \"type\": \"path\"}, {\"fillcolor\": \"#e6c4a9\", \"layer\": \"below\", \"line\": {\"color\": \"rgb(175,175,175)\", \"width\": 0.5}, \"path\": \"M 0.2664416332717294,0.9638510549143438 Q -0.16426988896677877, -0.11408507167391435 0.9962135639684057, -0.0869398353194164L 0.9962135639684057, -0.0869398353194164 L 0.9959741458148657, -0.08964095530698364 L 0.9957274038946826, -0.09234141613141787 M 0.9957274038946826,-0.09234141613141787 Q -0.16416922096105924, -0.11422988614648494 0.25950752698324786, 0.96574108509426L 0.25950752698324786, 0.96574108509426 L 0.2629762781065036, 0.9648022995169793 L 0.2664416332717294, 0.9638510549143438 \", \"type\": \"path\"}, {\"fillcolor\": \"#e1b396\", \"layer\": \"below\", \"line\": {\"color\": \"rgb(175,175,175)\", \"width\": 0.5}, \"path\": \"M -0.34943050049783353,0.9369622859655737 Q -0.10772792123404085, 0.168507254996906 -0.7037627108006964, 0.710435110961202L -0.7037627108006964, 0.710435110961202 L -0.6983487610589063, 0.7157576460838477 L -0.6928945583325553, 0.7210389247697611 M -0.6928945583325553,0.7210389247697611 Q -0.10802071610307756, 0.16831971035080331 -0.3668536375558012, 0.9302786725557438L -0.3668536375558012, 0.9302786725557438 L -0.3581576598076085, 0.9336611219929517 L -0.34943050049783353, 0.9369622859655737 \", \"type\": \"path\"}, {\"fillcolor\": \"#e1b396\", \"layer\": \"below\", \"line\": {\"color\": \"rgb(175,175,175)\", \"width\": 0.5}, \"path\": \"M -0.3668536375558012,0.9302786725557438 Q -0.12244902124731255, 0.15813360552259348 -0.8088356776530888, 0.5880347324397331L -0.8088356776530888, 0.5880347324397331 L -0.8033907212465796, 0.5954522222772375 L -0.7978777443942657, 0.6028192971366451 M -0.7978777443942657,0.6028192971366451 Q -0.12261333630109626, 0.158006233298292 -0.3858293118639759, 0.9225701827539035L -0.3858293118639759, 0.9225701827539035 L -0.37636121052862215, 0.9264730105132206 L -0.3668536375558012, 0.9302786725557438 \", \"type\": \"path\"}, {\"fillcolor\": \"#e1b396\", \"layer\": \"below\", \"line\": {\"color\": \"rgb(175,175,175)\", \"width\": 0.5}, \"path\": \"M -0.45700123276132765,0.8894660607660232 Q -0.15031685522004878, 0.1319274157889667 -0.9412457559245754, 0.33772241109226775L -0.9412457559245754, 0.33772241109226775 L -0.9349403725233422, 0.3548048757076406 L -0.9283249923852434, 0.37176969821777833 M -0.9283249923852434,0.37176969821777833 Q -0.15042148666728095, 0.13180810426072073 -0.49046765257200137, 0.8714593976660706L -0.49046765257200137, 0.8714593976660706 L -0.4738199891812229, 0.8806217223372961 L -0.45700123276132765, 0.8894660607660232 \", \"type\": \"path\"}, {\"fillcolor\": \"#e1b396\", \"layer\": \"below\", \"line\": {\"color\": \"rgb(175,175,175)\", \"width\": 0.5}, \"path\": \"M -0.2748646672523425,0.9614829248074347 Q -0.1421846864571195, 0.14065388347674807 -0.964401802084582, 0.2644412300228743L -0.964401802084582, 0.2644412300228743 L -0.9641727910299881, 0.2652750064318969 L -0.9639430591316971, 0.2661085845135884 M -0.9639430591316971,0.2661085845135884 Q -0.1422391118555667, 0.14059884444240495 -0.27727073530082624, 0.9607918293500102L -0.27727073530082624, 0.9607918293500102 L -0.27606791753365734, 0.9611381299837343 L -0.2748646672523425, 0.9614829248074347 \", \"type\": \"path\"}, {\"fillcolor\": \"#e1b396\", \"layer\": \"below\", \"line\": {\"color\": \"rgb(175,175,175)\", \"width\": 0.5}, \"path\": \"M -0.3014503646065869,0.9534818706606623 Q -0.15462135354601403, 0.12685518131948156 -0.994004282096316, 0.10934115041551133L -0.994004282096316, 0.10934115041551133 L -0.9935228724879761, 0.11363230985613507 L -0.9930229378463341, 0.11792135053091846 M -0.9930229378463341,0.11792135053091846 Q -0.15473751370703637, 0.12671346357733554 -0.31141525597904546, 0.9502739280562766L -0.31141525597904546, 0.9502739280562766 L -0.3064370081238415, 0.9518909391585302 L -0.3014503646065869, 0.9534818706606623 \", \"type\": \"path\"}, {\"fillcolor\": \"#e1b396\", \"layer\": \"below\", \"line\": {\"color\": \"rgb(175,175,175)\", \"width\": 0.5}, \"path\": \"M -0.28709548540977725,0.9579019690225741 Q -0.15842636591809556, 0.12207000688943084 -0.999442212597819, 0.03339556374095268L -0.999442212597819, 0.03339556374095268 L -0.999340660991792, 0.03630762025371947 L -0.9992306245979453, 0.03921936850078057 M -0.9992306245979453,0.03921936850078057 Q -0.15847347894568173, 0.12200883767519702 -0.2934111011824709, 0.9559863627180515L -0.2934111011824709, 0.9559863627180515 L -0.2902548736130443, 0.9569493760611769 L -0.28709548540977725, 0.9579019690225741 \", \"type\": \"path\"}, {\"fillcolor\": \"#e1b396\", \"layer\": \"below\", \"line\": {\"color\": \"rgb(175,175,175)\", \"width\": 0.5}, \"path\": \"M -0.28142256973766583,0.9595839396541861 Q -0.16823243540306151, 0.1081565886959955 -0.9898235552694132, -0.14230013855867768L -0.9898235552694132, -0.14230013855867768 L -0.9901961993018348, -0.13968352403988477 L -0.9905619262839356, -0.1370659337569297 M -0.9905619262839356,-0.1370659337569297 Q -0.1682665495508012, 0.10810350735414542 -0.28709548540977725, 0.9579019690225741L -0.28709548540977725, 0.9579019690225741 L -0.2842602716058985, 0.9587471501843126 L -0.28142256973766583, 0.9595839396541861 \", \"type\": \"path\"}, {\"fillcolor\": \"#e1b396\", \"layer\": \"below\", \"line\": {\"color\": \"rgb(175,175,175)\", \"width\": 0.5}, \"path\": \"M -0.3222079153483719,0.9466689280243946 Q -0.1804419899581274, 0.08625942418049785 -0.9390721577639567, -0.3437200641692982L -0.9390721577639567, -0.3437200641692982 L -0.9412112654591306, -0.3378185219505023 L -0.9433132856822677, -0.3319036683366493 M -0.9433132856822677,-0.3319036683366493 Q -0.18050901386002186, 0.08611907985622258 -0.3355327192865439, 0.9420285527987872L -0.3355327192865439, 0.9420285527987872 L -0.3288785017039636, 0.9443722418183181 L -0.3222079153483719, 0.9466689280243946 \", \"type\": \"path\"}, {\"fillcolor\": \"#e1b396\", \"layer\": \"below\", \"line\": {\"color\": \"rgb(175,175,175)\", \"width\": 0.5}, \"path\": \"M -0.3355327192865439,0.9420285527987872 Q -0.18847860794155857, 0.06690152725022248 -0.8543693799157146, -0.5196662031173832L -0.8543693799157146, -0.5196662031173832 L -0.8582017930962325, -0.5133124607160939 L -0.8619869558887792, -0.5069304566482428 M -0.8619869558887792,-0.5069304566482428 Q -0.188477014667865, 0.06690601573767047 -0.34943050049783353, 0.9369622859655737L -0.34943050049783353, 0.9369622859655737 L -0.34249097780708276, 0.9395211174426833 L -0.3355327192865439, 0.9420285527987872 \", \"type\": \"path\"}, {\"fillcolor\": \"#e1b396\", \"layer\": \"below\", \"line\": {\"color\": \"rgb(175,175,175)\", \"width\": 0.5}, \"path\": \"M -0.3858293118639759,0.9225701827539035 Q -0.19971172278818253, 0.010734420383799813 -0.4824962166903827, -0.8758980539306314L -0.4824962166903827, -0.8758980539306314 L -0.49302051847405653, -0.8700176827878686 L -0.5034731648070262, -0.8640108635423498 M -0.5034731648070262,-0.8640108635423498 Q -0.19970933774959457, 0.010778701944963717 -0.4075546686266389, 0.913180810179797L -0.4075546686266389, 0.913180810179797 L -0.39671976911179624, 0.9179397718782443 L -0.3858293118639759, 0.9225701827539035 \", \"type\": \"path\"}, {\"fillcolor\": \"#e1b396\", \"layer\": \"below\", \"line\": {\"color\": \"rgb(175,175,175)\", \"width\": 0.5}, \"path\": \"M -0.27727073530082624,0.9607918293500102 Q -0.19899425166218832, -0.020032169263603555 -0.0802078905980598, -0.9967781570067683L -0.0802078905980598, -0.9967781570067683 L -0.08168934354697258, -0.996657840560573 L -0.0831706160295114, -0.996535322318919 M -0.0831706160295114,-0.996535322318919 Q -0.1989806713771482, -0.020166616431601916 -0.28142256973766583, 0.9595839396541861L -0.28142256973766583, 0.9595839396541861 L -0.2793473053800371, 0.9601901285562732 L -0.27727073530082624, 0.9607918293500102 \", \"type\": \"path\"}, {\"fillcolor\": \"#e1b396\", \"layer\": \"below\", \"line\": {\"color\": \"rgb(175,175,175)\", \"width\": 0.5}, \"path\": \"M -0.49046765257200137,0.8714593976660706 Q -0.18424306184348133, -0.0778106301384272 0.2826741158809495, -0.9592160049805901L 0.2826741158809495, -0.9592160049805901 L 0.26325701101873344, -0.9647257362325743 L 0.24373266022586593, -0.9698424564532234 M 0.24373266022586593,-0.9698424564532234 Q -0.18429067482118994, -0.07769779388084604 -0.5241950813771037, 0.8515982131616128L -0.5241950813771037, 0.8515982131616128 L -0.5074285492350111, 0.8616938362442033 L -0.49046765257200137, 0.8714593976660706 \", \"type\": \"path\"}, {\"fillcolor\": \"#e1b396\", \"layer\": \"below\", \"line\": {\"color\": \"rgb(175,175,175)\", \"width\": 0.5}, \"path\": \"M -0.4075546686266389,0.913180810179797 Q -0.1605452421681166, -0.11926954857456616 0.7566097261761513, -0.6538667465589983L 0.7566097261761513, -0.6538667465589983 L 0.7480414506154381, -0.663652008330534 L 0.7393466313555331, -0.6733250022858392 M 0.7393466313555331,-0.6733250022858392 Q -0.16054936614853832, -0.11926399720495112 -0.4311062830424525, 0.9023011541172498L -0.4311062830424525, 0.9023011541172498 L -0.4193657588461847, 0.9078173606554149 L -0.4075546686266389, 0.913180810179797 \", \"type\": \"path\"}, {\"fillcolor\": \"#e1b396\", \"layer\": \"below\", \"line\": {\"color\": \"rgb(175,175,175)\", \"width\": 0.5}, \"path\": \"M -0.2934111011824709,0.9559863627180515 Q -0.14834099550529578, -0.13414525355933327 0.9217549148641158, -0.38777297085259405L 0.9217549148641158, -0.38777297085259405 L 0.9203015038927915, -0.3912098438596174 L 0.9188352781836203, -0.39464126946535766 M 0.9188352781836203,-0.39464126946535766 Q -0.14827677270752024, -0.13421623849386624 -0.3014503646065869, 0.9534818706606623L -0.3014503646065869, 0.9534818706606623 L -0.29743336899260814, 0.9547425783999093 L -0.2934111011824709, 0.9559863627180515 \", \"type\": \"path\"}, {\"fillcolor\": \"#e1b396\", \"layer\": \"below\", \"line\": {\"color\": \"rgb(175,175,175)\", \"width\": 0.5}, \"path\": \"M -0.31141525597904546,0.9502739280562766 Q -0.13318684590429875, -0.14920209139976753 0.9793901860628715, -0.201977383495613L 0.9793901860628715, -0.201977383495613 L 0.9783989012487182, -0.2067258813871668 L 0.9773845938495713, -0.21146951483726575 M 0.9773845938495713,-0.21146951483726575 Q -0.13306168242157074, -0.149313725662248 -0.3222079153483719, 0.9466689280243946L -0.3222079153483719, 0.9466689280243946 L -0.31681671328555383, 0.9484867791292292 L -0.31141525597904546, 0.9502739280562766 \", \"type\": \"path\"}, {\"fillcolor\": \"#e1b396\", \"layer\": \"below\", \"line\": {\"color\": \"rgb(175,175,175)\", \"width\": 0.5}, \"path\": \"M -0.2726758375213323,0.9621059648666772 Q -0.12859238197101341, -0.15317963082283814 0.9947927949006725, -0.10191808089690756L 0.9947927949006725, -0.10191808089690756 L 0.9947032619444871, -0.10278823219122485 L 0.9946129678618315, -0.10365830483410081 M 0.9946129678618315,-0.10365830483410081 Q -0.12855206942373698, -0.1532134636605893 -0.2748646672523425, 0.9614829248074347L -0.2748646672523425, 0.9614829248074347 L -0.2737704296243141, 0.9617950674979148 L -0.2726758375213323, 0.9621059648666772 \", \"type\": \"path\"}, {\"fillcolor\": \"#dba284\", \"layer\": \"below\", \"line\": {\"color\": \"rgb(175,175,175)\", \"width\": 0.5}, \"path\": \"M -0.7037627108006964,0.710435110961202 Q -0.1529992046131031, 0.12880700053862687 -0.8199881207007934, 0.5723805394224903L -0.8199881207007934, 0.5723805394224903 L -0.8144495103815506, 0.5802344311045774 L -0.8088356776530888, 0.5880347324397331 M -0.8088356776530888,0.5880347324397331 Q -0.1528822802453277, 0.1289457575377689 -0.716021563132018, 0.6980781626221964L -0.716021563132018, 0.6980781626221964 L -0.7099190233186629, 0.7042833097058852 L -0.7037627108006964, 0.710435110961202 \", \"type\": \"path\"}, {\"fillcolor\": \"#dba284\", \"layer\": \"below\", \"line\": {\"color\": \"rgb(175,175,175)\", \"width\": 0.5}, \"path\": \"M -0.654175151227627,0.7563430911407277 Q -0.1544061015408312, 0.1271170948651775 -0.8679043899392989, 0.4967312854291478L -0.8679043899392989, 0.4967312854291478 L -0.8660023914619074, 0.5000398563937253 L -0.8640877803178151, 0.5033411446578069 M -0.8640877803178151,0.5033411446578069 Q -0.15433288581884774, 0.12720597609714138 -0.6590633058725112, 0.7520874675544041L -0.6590633058725112, 0.7520874675544041 L -0.6566226761883229, 0.7542192394226528 L -0.654175151227627, 0.7563430911407277 \", \"type\": \"path\"}, {\"fillcolor\": \"#dba284\", \"layer\": \"below\", \"line\": {\"color\": \"rgb(175,175,175)\", \"width\": 0.5}, \"path\": \"M -0.6457316429450224,0.7635644342814312 Q -0.1682073107229117, 0.1081956589672887 -0.9625921483633781, 0.27095452738268866L -0.9625921483633781, 0.27095452738268866 L -0.9625708469955627, 0.2710301911489659 L -0.9625495396802591, 0.271105853240614 M -0.9625495396802591,0.271105853240614 Q -0.16820882349370223, 0.10819330708904565 -0.6458730241663158, 0.7634448484692642L -0.6458730241663158, 0.7634448484692642 L -0.6458023363236921, 0.7635046446478639 L -0.6457316429450224, 0.7635644342814312 \", \"type\": \"path\"}, {\"fillcolor\": \"#dba284\", \"layer\": \"below\", \"line\": {\"color\": \"rgb(175,175,175)\", \"width\": 0.5}, \"path\": \"M -0.6706815396331419,0.7417454229014955 Q -0.1776814301398508, 0.09181127045988052 -0.9930229378463341, 0.11792135053091846L -0.9930229378463341, 0.11792135053091846 L -0.9925159549683295, 0.12211502419155879 L -0.991991261704693, 0.1263065188402058 M -0.991991261704693,0.1263065188402058 Q -0.17767612357022644, 0.09182153948316063 -0.6768390225503608, 0.7361310600382736L -0.6768390225503608, 0.7361310600382736 L -0.6737661290421373, 0.7389446551370231 L -0.6706815396331419, 0.7417454229014955 \", \"type\": \"path\"}, {\"fillcolor\": \"#dba284\", \"layer\": \"below\", \"line\": {\"color\": \"rgb(175,175,175)\", \"width\": 0.5}, \"path\": \"M -0.6458730241663158,0.7634448484692642 Q -0.17913383874578778, 0.08894418371202305 -0.9985907793563057, 0.0530702872101332L -0.9985907793563057, 0.0530702872101332 L -0.99857473698976, 0.053371290464366186 L -0.9985586038923975, 0.05367228886926727 M -0.9985586038923975,0.05367228886926727 Q -0.1791317334377113, 0.08894842368249563 -0.6462970349311539, 0.763085933980701L -0.6462970349311539, 0.763085933980701 L -0.6460850544718489, 0.7632654206683989 L -0.6458730241663158, 0.7634448484692642 \", \"type\": \"path\"}, {\"fillcolor\": \"#dba284\", \"layer\": \"below\", \"line\": {\"color\": \"rgb(175,175,175)\", \"width\": 0.5}, \"path\": \"M -0.647567870000603,0.7620077780068142 Q -0.18628514867554072, 0.07278628567890856 -0.9926355396236907, -0.1211391162093588L -0.9926355396236907, -0.1211391162093588 L -0.9927214886627798, -0.12043274449730994 L -0.9928069350390974, -0.11972631180435417 M -0.9928069350390974,-0.11972631180435417 Q -0.1862805283757413, 0.07279810950879594 -0.6485550539931523, 0.7611677488832139L -0.6485550539931523, 0.7611677488832139 L -0.6480615981045031, 0.7615879233957412 L -0.647567870000603, 0.7620077780068142 \", \"type\": \"path\"}, {\"fillcolor\": \"#dba284\", \"layer\": \"below\", \"line\": {\"color\": \"rgb(175,175,175)\", \"width\": 0.5}, \"path\": \"M -0.6485550539931523,0.7611677488832139 Q -0.1964038922523071, 0.03775594136217711 -0.8845476252579979, -0.46644988868091347L -0.8845476252579979, -0.46644988868091347 L -0.8852919626939333, -0.4650356338922034 L -0.8860340389571296, -0.46362019133048527 M -0.8860340389571296,-0.46362019133048527 Q -0.19639248272632842, 0.037815244658587016 -0.6505261512514778, 0.7594838553504212L -0.6505261512514778, 0.7594838553504212 L -0.6495411482957162, 0.7603264408598996 L -0.6485550539931523, 0.7611677488832139 \", \"type\": \"path\"}, {\"fillcolor\": \"#dba284\", \"layer\": \"below\", \"line\": {\"color\": \"rgb(175,175,175)\", \"width\": 0.5}, \"path\": \"M -0.6467208462456644,0.7627267840002026 Q -0.1999202080709771, -0.005648929531976247 -0.6026202810291135, -0.7980280677347084L -0.6026202810291135, -0.7980280677347084 L -0.6031751835875335, -0.7976087373544407 L -0.6037297943570522, -0.7971890211271048 M -0.6037297943570522,-0.7971890211271048 Q -0.1999209969777157, -0.005620940084735494 -0.647567870000603, 0.7620077780068142L -0.647567870000603, 0.7620077780068142 L -0.6471444579790571, 0.7623673986386041 L -0.6467208462456644, 0.7627267840002026 \", \"type\": \"path\"}, {\"fillcolor\": \"#dba284\", \"layer\": \"below\", \"line\": {\"color\": \"rgb(175,175,175)\", \"width\": 0.5}, \"path\": \"M -0.6646158581793307,0.7471852254003366 Q -0.18579928604686963, -0.07401773641819591 0.03122430023537486, -0.9995124026618235L 0.03122430023537486, -0.9995124026618235 L 0.026063068936864782, -0.999660300520928 L 0.020901142792184836, -0.9997815472541893 M 0.020901142792184836,-0.9997815472541893 Q -0.18587982009616943, -0.07381525913397373 -0.6706815396331419, 0.7417454229014955L -0.6706815396331419, 0.7417454229014955 L -0.667654239119319, 0.7444715017957392 L -0.6646158581793307, 0.7471852254003366 \", \"type\": \"path\"}, {\"fillcolor\": \"#dba284\", \"layer\": \"below\", \"line\": {\"color\": \"rgb(175,175,175)\", \"width\": 0.5}, \"path\": \"M -0.6505261512514778,0.7594838553504212 Q -0.15196143434515214, -0.13002969842218362 0.6497706722797192, -0.7601303003072314L 0.6497706722797192, -0.7601303003072314 L 0.6475129699942282, -0.7620544296106766 L 0.6452495699227698, -0.763971853221361 M 0.6452495699227698,-0.763971853221361 Q -0.15203411446291684, -0.12994471147175135 -0.654175151227627, 0.7563430911407277L -0.654175151227627, 0.7563430911407277 L -0.6523525414012146, 0.7579156692715732 L -0.6505261512514778, 0.7594838553504212 \", \"type\": \"path\"}, {\"fillcolor\": \"#dba284\", \"layer\": \"below\", \"line\": {\"color\": \"rgb(175,175,175)\", \"width\": 0.5}, \"path\": \"M -0.6590633058725112,0.7520874675544041 Q -0.10221237550685275, -0.17190878480533256 0.9755435685407564, -0.21980615523403002L 0.9755435685407564, -0.21980615523403002 L 0.9746832243687823, -0.22359027736928538 L 0.9738082016892589, -0.22737103228584712 M 0.9738082016892589,-0.22737103228584712 Q -0.10224283860889537, -0.17189066860418975 -0.6646158581793307, 0.7471852254003366L -0.6646158581793307, 0.7471852254003366 L -0.6618441208704509, 0.7496414874253026 L -0.6590633058725112, 0.7520874675544041 \", \"type\": \"path\"}, {\"fillcolor\": \"#dba284\", \"layer\": \"below\", \"line\": {\"color\": \"rgb(175,175,175)\", \"width\": 0.5}, \"path\": \"M -0.6462970349311539,0.763085933980701 Q -0.0937206784226305, -0.17668173203815352 0.9942441816570647, -0.1071377955768819L 0.9942441816570647, -0.1071377955768819 L 0.994216031935097, -0.1073987050351642 L 0.9941878137452966, -0.10765960709731093 M 0.9941878137452966,-0.10765960709731093 Q -0.09371796857119474, -0.17668316944997495 -0.6467208462456644, 0.7627267840002026L -0.6467208462456644, 0.7627267840002026 L -0.646508965527876, 0.7629063884200182 L -0.6462970349311539, 0.763085933980701 \", \"type\": \"path\"}, {\"fillcolor\": \"#d59171\", \"layer\": \"below\", \"line\": {\"color\": \"rgb(175,175,175)\", \"width\": 0.5}, \"path\": \"M -0.7465046780885111,0.6653801662147502 Q -0.16281481377273463, 0.1161522122740232 -0.8720976145100046, 0.48933194333290725L -0.8720976145100046, 0.48933194333290725 L -0.87000886859719, 0.4930360722728485 L -0.8679043899392989, 0.4967312854291478 M -0.8679043899392989,0.4967312854291478 Q -0.16278400967462453, 0.11619537940147084 -0.75178703863875, 0.6594059815733996L -0.75178703863875, 0.6594059815733996 L -0.7491518136024987, 0.6623983395028153 L -0.7465046780885111, 0.6653801662147502 \", \"type\": \"path\"}, {\"fillcolor\": \"#d59171\", \"layer\": \"below\", \"line\": {\"color\": \"rgb(175,175,175)\", \"width\": 0.5}, \"path\": \"M -0.771265005948768,0.6365141715616761 Q -0.18468759779789268, 0.07674953563145406 -0.9952279880262793, 0.09757690223185023L -0.9952279880262793, 0.09757690223185023 L -0.9946335282445014, 0.10346083554608879 L -0.994004282096316, 0.10934115041551133 M -0.994004282096316,0.10934115041551133 Q -0.18472803015374567, 0.07665216810708508 -0.7794004098666324, 0.6265261376029937L -0.7794004098666324, 0.6265261376029937 L -0.7753487912914272, 0.6315332547403366 L -0.771265005948768, 0.6365141715616761 \", \"type\": \"path\"}, {\"fillcolor\": \"#d59171\", \"layer\": \"below\", \"line\": {\"color\": \"rgb(175,175,175)\", \"width\": 0.5}, \"path\": \"M -0.7389745910387434,0.6737332957477477 Q -0.18461735138939278, 0.0769183564954782 -0.9987361326067167, 0.05026069464083054L -0.9987361326067167, 0.05026069464083054 L -0.9987056509098072, 0.05086278443831211 L -0.9986748062420596, 0.05146485575015887 M -0.9986748062420596,0.05146485575015887 Q -0.18461816450965005, 0.07691640483725043 -0.7398006141431691, 0.6728261672329562L -0.7398006141431691, 0.6728261672329562 L -0.7393877417064322, 0.6732798581676586 L -0.7389745910387434, 0.6737332957477477 \", \"type\": \"path\"}, {\"fillcolor\": \"#d59171\", \"layer\": \"below\", \"line\": {\"color\": \"rgb(175,175,175)\", \"width\": 0.5}, \"path\": \"M -0.7432303769047874,0.6690355796562449 Q -0.19120239016611346, 0.05866554350524104 -0.9905619262839356, -0.1370659337569297L -0.9905619262839356, -0.1370659337569297 L -0.9908933788172497, -0.13464884632307264 L -0.9912189333822988, -0.1322309574360628 M -0.9912189333822988,-0.1322309574360628 Q -0.19120321269358073, 0.05866286266159652 -0.7465046780885111, 0.6653801662147502L -0.7465046780885111, 0.6653801662147502 L -0.7448697698462655, 0.6672098814984468 L -0.7432303769047874, 0.6690355796562449 \", \"type\": \"path\"}, {\"fillcolor\": \"#d59171\", \"layer\": \"below\", \"line\": {\"color\": \"rgb(175,175,175)\", \"width\": 0.5}, \"path\": \"M -0.7398006141431691,0.6728261672329562 Q -0.19530685390059122, 0.04307241367108564 -0.9541775385612722, -0.2992410815799726L -0.9541775385612722, -0.2992410815799726 L -0.9544196019137755, -0.2984681280853123 L -0.954661039117608, -0.2976949787801078 M -0.954661039117608,-0.2976949787801078 Q -0.19530719586422074, 0.043070863047481645 -0.7409002458863956, 0.6716150874165042L -0.7409002458863956, 0.6716150874165042 L -0.7403506776532683, 0.6722208521746007 L -0.7398006141431691, 0.6728261672329562 \", \"type\": \"path\"}, {\"fillcolor\": \"#d59171\", \"layer\": \"below\", \"line\": {\"color\": \"rgb(175,175,175)\", \"width\": 0.5}, \"path\": \"M -0.7409002458863956,0.6716150874165042 Q -0.19851856108238242, 0.024297755159281714 -0.8810082067779439, -0.47310098244445825L -0.8810082067779439, -0.47310098244445825 L -0.8819246649968596, -0.47139037460493066 L -0.8828378018214771, -0.46967799147396977 M -0.8828378018214771,-0.46967799147396977 Q -0.1985136347695613, 0.02433797055173725 -0.7432303769047874, 0.6690355796562449L -0.7432303769047874, 0.6690355796562449 L -0.7420664322294246, 0.6703263460123678 L -0.7409002458863956, 0.6716150874165042 \", \"type\": \"path\"}, {\"fillcolor\": \"#d59171\", \"layer\": \"below\", \"line\": {\"color\": \"rgb(175,175,175)\", \"width\": 0.5}, \"path\": \"M -0.7576892114735596,0.6526155520799175 Q -0.1982234572294331, -0.02659813910804873 -0.558845733957394, -0.8292716356162325L -0.558845733957394, -0.8292716356162325 L -0.563451291485291, -0.8261492856158369 L -0.5680394044317978, -0.8230013578438182 M -0.5680394044317978,-0.8230013578438182 Q -0.19824088256665384, -0.02646795192670114 -0.76405798067081, 0.6451475816999116L -0.76405798067081, 0.6451475816999116 L -0.7608827582783155, 0.6488893805224296 L -0.7576892114735596, 0.6526155520799175 \", \"type\": \"path\"}, {\"fillcolor\": \"#d59171\", \"layer\": \"below\", \"line\": {\"color\": \"rgb(175,175,175)\", \"width\": 0.5}, \"path\": \"M -0.7794004098666324,0.6265261376029937 Q -0.17712066575056032, -0.09288848025497183 0.07223854700569556, -0.9973873832801906L 0.07223854700569556, -0.9973873832801906 L 0.06416034131076652, -0.9979396026828908 L 0.056077929112858624, -0.9984263948165699 M 0.056077929112858624,-0.9984263948165699 Q -0.17721741588352224, -0.09270376210039544 -0.7881621640662003, 0.6154676296398406L -0.7881621640662003, 0.6154676296398406 L -0.7838007900278774, 0.6210123360704483 L -0.7794004098666324, 0.6265261376029937 \", \"type\": \"path\"}, {\"fillcolor\": \"#d59171\", \"layer\": \"below\", \"line\": {\"color\": \"rgb(175,175,175)\", \"width\": 0.5}, \"path\": \"M -0.76405798067081,0.6451475816999116 Q -0.13740383530882308, -0.14532785707642504 0.6869292136099705, -0.7267243325286333L 0.6869292136099705, -0.7267243325286333 L 0.682355475671103, -0.7310205228457426 L 0.6777548690778656, -0.7352879282575263 M 0.6777548690778656,-0.7352879282575263 Q -0.13749855078385328, -0.14523824748440103 -0.771265005948768, 0.6365141715616761L -0.771265005948768, 0.6365141715616761 L -0.7676736300364035, 0.6408410081656222 L -0.76405798067081, 0.6451475816999116 \", \"type\": \"path\"}, {\"fillcolor\": \"#d59171\", \"layer\": \"below\", \"line\": {\"color\": \"rgb(175,175,175)\", \"width\": 0.5}, \"path\": \"M -0.7375954146976054,0.6752429223746573 Q -0.11058833389699348, -0.1666439930087103 0.9087625385130856, -0.41731360940574713L 0.9087625385130856, -0.41731360940574713 L 0.9085519865739552, -0.4177718129463973 L 0.9083412036058599, -0.4182299102549431 M 0.9083412036058599,-0.4182299102549431 Q -0.1105871791985045, -0.16664475928428668 -0.7382853887238988, 0.6744884615742522L -0.7382853887238988, 0.6744884615742522 L -0.7379404981296261, 0.6748657801520234 L -0.7375954146976054, 0.6752429223746573 \", \"type\": \"path\"}, {\"fillcolor\": \"#d59171\", \"layer\": \"below\", \"line\": {\"color\": \"rgb(175,175,175)\", \"width\": 0.5}, \"path\": \"M -0.75178703863875,0.6594059815733996 Q -0.08996212465063401, -0.17862479147179933 0.9773845938495713, -0.21146951483726575L 0.9773845938495713, -0.21146951483726575 L 0.9764729779966221, -0.21563979976434827 L 0.9755435685407564, -0.21980615523403002 M 0.9755435685407564,-0.21980615523403002 Q -0.0899210851961733, -0.17864545456613934 -0.7576892114735596, 0.6526155520799175L -0.7576892114735596, 0.6526155520799175 L -0.7547457617611752, 0.6560174045736464 L -0.75178703863875, 0.6594059815733996 \", \"type\": \"path\"}, {\"fillcolor\": \"#d0805f\", \"layer\": \"below\", \"line\": {\"color\": \"rgb(175,175,175)\", \"width\": 0.5}, \"path\": \"M -0.8720976145100046,0.48933194333290725 Q -0.18602001211174402, 0.07346124892721753 -0.9711239439986984, 0.23857553393508932L -0.9711239439986984, 0.23857553393508932 L -0.9703880054683028, 0.2415514828007664 L -0.9696429473506232, 0.2445251615952775 M -0.9696429473506232,0.2445251615952775 Q -0.18610706987755057, 0.07324041603918229 -0.8762277572988206, 0.4818972061955528L -0.8762277572988206, 0.4818972061955528 L -0.8741705899060505, 0.48561896559268336 L -0.8720976145100046, 0.48933194333290725 \", \"type\": \"path\"}, {\"fillcolor\": \"#d0805f\", \"layer\": \"below\", \"line\": {\"color\": \"rgb(175,175,175)\", \"width\": 0.5}, \"path\": \"M -0.8762277572988206,0.4818972061955528 Q -0.18994208167617668, 0.06262591802537208 -0.9910147736351109, 0.13375245207826947L -0.9910147736351109, 0.13375245207826947 L -0.9905184681396543, 0.13737963558793073 L -0.9900088869437196, 0.14100497782864754 M -0.9900088869437196,0.14100497782864754 Q -0.1899790905656749, 0.06251355971178646 -0.8802945195584942, 0.47442761179686815L -0.8802945195584942, 0.47442761179686815 L -0.8782690794876712, 0.4781667324436934 L -0.8762277572988206, 0.4818972061955528 \", \"type\": \"path\"}, {\"fillcolor\": \"#d0805f\", \"layer\": \"below\", \"line\": {\"color\": \"rgb(175,175,175)\", \"width\": 0.5}, \"path\": \"M -0.8542698410756834,0.5198298169867968 Q -0.19135164204922298, 0.05817687758092593 -0.9990474721233322, 0.0436365494050536L -0.9990474721233322, 0.0436365494050536 L -0.9989714788894076, 0.04534296379274135 L -0.9988925710312878, 0.04704924588666327 M -0.9988925710312878,0.04704924588666327 Q -0.19136010665876632, 0.05814902905075531 -0.8561911193507894, 0.5166592369684706L -0.8561911193507894, 0.5166592369684706 L -0.8552319494909999, 0.518245417316761 L -0.8542698410756834, 0.5198298169867968 \", \"type\": \"path\"}, {\"fillcolor\": \"#d0805f\", \"layer\": \"below\", \"line\": {\"color\": \"rgb(175,175,175)\", \"width\": 0.5}, \"path\": \"M -0.8561911193507894,0.5166592369684706 Q -0.19580557671664067, 0.04074525894706958 -0.9912189333822988, -0.1322309574360628L -0.9912189333822988, -0.1322309574360628 L -0.9914592275974096, -0.13041702347449907 L -0.9916962023101342, -0.1286026528639955 M -0.9916962023101342,-0.1286026528639955 Q -0.1958109898319071, 0.04071923699001225 -0.8582125873802361, 0.5132944134335777L -0.8582125873802361, 0.5132944134335777 L -0.8572035043807421, 0.5149778170730998 L -0.8561911193507894, 0.5166592369684706 \", \"type\": \"path\"}, {\"fillcolor\": \"#d0805f\", \"layer\": \"below\", \"line\": {\"color\": \"rgb(175,175,175)\", \"width\": 0.5}, \"path\": \"M -0.8514231106259884,0.5244794435361274 Q -0.1985140041307125, 0.02433495765337333 -0.952896439522714, -0.3032958548100099L -0.952896439522714, -0.3032958548100099 L -0.9532642270684762, -0.30213790459248985 L -0.9536306074852936, -0.30097950838425824 M -0.9536306074852936,-0.30097950838425824 Q -0.1985162784689333, 0.024316397406789814 -0.8527927047532105, 0.5222495598080515L -0.8527927047532105, 0.5222495598080515 L -0.8521086371129605, 0.5233649496837681 L -0.8514231106259884, 0.5244794435361274 \", \"type\": \"path\"}, {\"fillcolor\": \"#d0805f\", \"layer\": \"below\", \"line\": {\"color\": \"rgb(175,175,175)\", \"width\": 0.5}, \"path\": \"M -0.889734685517931,0.45647802727656944 Q -0.19980260400344202, -0.00888366103831864 -0.845711880968893, -0.5336397796154788L -0.845711880968893, -0.5336397796154788 L -0.8500693434142808, -0.5266707808367705 L -0.8543693799157146, -0.5196662031173832 M -0.8543693799157146,-0.5196662031173832 Q -0.1998058637884805, -0.008810039485676784 -0.8967920664272567, 0.44245224555100954L -0.8967920664272567, 0.44245224555100954 L -0.8932909041808322, 0.4494789878379091 L -0.889734685517931, 0.45647802727656944 \", \"type\": \"path\"}, {\"fillcolor\": \"#d0805f\", \"layer\": \"below\", \"line\": {\"color\": \"rgb(175,175,175)\", \"width\": 0.5}, \"path\": \"M -0.8967920664272567,0.44245224555100954 Q -0.19150949253824176, -0.05765513218912202 -0.5034731648070262, -0.8640108635423498L -0.5034731648070262, -0.8640108635423498 L -0.512957343307585, -0.858414098175714 L -0.5223793137145508, -0.852713229991839 M -0.5223793137145508,-0.852713229991839 Q -0.1915471527783653, -0.05752989016590935 -0.9057653098628826, 0.4237796637982953L -0.9057653098628826, 0.4237796637982953 L -0.9013270438813126, 0.43313919237142984 L -0.8967920664272567, 0.44245224555100954 \", \"type\": \"path\"}, {\"fillcolor\": \"#d0805f\", \"layer\": \"below\", \"line\": {\"color\": \"rgb(175,175,175)\", \"width\": 0.5}, \"path\": \"M -0.8527927047532105,0.5222495598080515 Q -0.17850111132005894, -0.09020727940418075 -0.08535320805348041, -0.9963507564482396L -0.08535320805348041, -0.9963507564482396 L -0.08636641578542736, -0.9962634401725171 L -0.0873795341960154, -0.9961750935471572 M -0.0873795341960154,-0.9961750935471572 Q -0.17846496672211729, -0.09027876634554538 -0.8542698410756834, 0.5198298169867968L -0.8542698410756834, 0.5198298169867968 L -0.8535321304038802, 0.5210402118533787 L -0.8527927047532105, 0.5222495598080515 \", \"type\": \"path\"}, {\"fillcolor\": \"#d0805f\", \"layer\": \"below\", \"line\": {\"color\": \"rgb(175,175,175)\", \"width\": 0.5}, \"path\": \"M -0.916892330426766,0.3991346319283434 Q -0.15727208360092376, -0.12355359857092003 0.17073814978727284, -0.9853164386161528L 0.17073814978727284, -0.9853164386161528 L 0.1549919527478529, -0.9879157325315795 L 0.1392062794052998, -0.9902634052483883 M 0.1392062794052998,-0.9902634052483883 Q -0.15741164245737352, -0.12337574647746617 -0.9283249923852434, 0.37176969821777833L -0.9283249923852434, 0.37176969821777833 L -0.9227101126576134, 0.38549454989581156 L -0.916892330426766, 0.3991346319283434 \", \"type\": \"path\"}, {\"fillcolor\": \"#d0805f\", \"layer\": \"below\", \"line\": {\"color\": \"rgb(175,175,175)\", \"width\": 0.5}, \"path\": \"M -0.8848062035666177,0.46595920650849804 Q -0.12287062554739014, -0.1578062399830661 0.668643466959573, -0.7435831588277685L 0.668643466959573, -0.7435831588277685 L 0.6644760279179887, -0.7473095799749475 L 0.6602878215002876, -0.7510126448858263 M 0.6602878215002876,-0.7510126448858263 Q -0.12290970615727324, -0.1577758033804067 -0.889734685517931, 0.45647802727656944L -0.889734685517931, 0.45647802727656944 L -0.8872831086796096, 0.46122519993149563 L -0.8848062035666177, 0.46595920650849804 \", \"type\": \"path\"}, {\"fillcolor\": \"#d0805f\", \"layer\": \"below\", \"line\": {\"color\": \"rgb(175,175,175)\", \"width\": 0.5}, \"path\": \"M -0.8611091320750646,0.5084201635035034 Q -0.09167564322734154, -0.17775144567303297 0.9135003205806795, -0.4068380074415317L 0.9135003205806795, -0.4068380074415317 L 0.9123891039634097, -0.4093239828898942 L 0.9112711220937962, -0.41180692325155677 M 0.9112711220937962,-0.41180692325155677 Q -0.09163636035654132, -0.17777170039296497 -0.8640877803178151, 0.5033411446578069L -0.8640877803178151, 0.5033411446578069 L -0.8626021943750144, 0.5058828463779039 L -0.8611091320750646, 0.5084201635035034 \", \"type\": \"path\"}, {\"fillcolor\": \"#d0805f\", \"layer\": \"below\", \"line\": {\"color\": \"rgb(175,175,175)\", \"width\": 0.5}, \"path\": \"M -0.8582125873802361,0.5132944134335777 Q -0.07559234727165559, -0.1851642434001809 0.9722416316017415, -0.23397907979215468L 0.9722416316017415, -0.23397907979215468 L 0.9716483382651427, -0.23643076522861153 L 0.9710488625648571, -0.23888094631321527 M 0.9710488625648571,-0.23888094631321527 Q -0.07553447511391526, -0.18518785886030792 -0.8611091320750646, 0.5084201635035034L -0.8611091320750646, 0.5084201635035034 L -0.8596643143261082, 0.5108593413790357 L -0.8582125873802361, 0.5132944134335777 \", \"type\": \"path\"}, {\"fillcolor\": \"#d0805f\", \"layer\": \"below\", \"line\": {\"color\": \"rgb(175,175,175)\", \"width\": 0.5}, \"path\": \"M -0.8503920881259699,0.5261495000974082 Q -0.06461095366146753, -0.18927605412982304 0.9946129678618315, -0.10365830483410081L 0.9946129678618315, -0.10365830483410081 L 0.9945310524814012, -0.1044413024154546 L 0.9944485206952571, -0.10522423526457564 M 0.9944485206952571,-0.10522423526457564 Q -0.06457422016723245, -0.189288589433684 -0.8514231106259884, 0.5244794435361274L -0.8514231106259884, 0.5244794435361274 L -0.8509080090985284, 0.5253147247621932 L -0.8503920881259699, 0.5261495000974082 \", \"type\": \"path\"}, {\"fillcolor\": \"#ca6f4c\", \"layer\": \"below\", \"line\": {\"color\": \"rgb(175,175,175)\", \"width\": 0.5}, \"path\": \"M -0.9632284231642981,0.2686838380111833 Q -0.19482135831142405, 0.045217677358437236 -0.9831024926846959, 0.18305597197889406L -0.9831024926846959, 0.18305597197889406 L -0.9829647457922, 0.18379420156706697 L -0.9828264445497261, 0.18453232750318876 M -0.9828264445497261,0.18453232750318876 Q -0.19481583440479855, 0.0452414706343872 -0.9635655797787825, 0.26747219194820715L -0.9635655797787825, 0.26747219194820715 L -0.963397191954544, 0.26807806798412187 L -0.9632284231642981, 0.2686838380111833 \", \"type\": \"path\"}, {\"fillcolor\": \"#ca6f4c\", \"layer\": \"below\", \"line\": {\"color\": \"rgb(175,175,175)\", \"width\": 0.5}, \"path\": \"M -0.9628048349007395,0.27019779771818947 Q -0.19734750313695437, 0.03246479640487195 -0.9986225918911248, 0.05246826626306719L -0.9986225918911248, 0.05246826626306719 L -0.9986067309905771, 0.05276927913391712 L -0.9985907793563057, 0.0530702872101332 M -0.9985907793563057,0.0530702872101332 Q -0.19734537252466294, 0.03247774535127109 -0.9629321612827327, 0.26974367975425345L -0.9629321612827327, 0.26974367975425345 L -0.9628685248637101, 0.2699707462425937 L -0.9628048349007395, 0.27019779771818947 \", \"type\": \"path\"}, {\"fillcolor\": \"#ca6f4c\", \"layer\": \"below\", \"line\": {\"color\": \"rgb(175,175,175)\", \"width\": 0.5}, \"path\": \"M -0.9669334659502762,0.25502876783881884 Q -0.19986324982786233, -0.007394685134979768 -0.9454441238854187, -0.3257842976733735L -0.9454441238854187, -0.3257842976733735 L -0.9464292946218398, -0.3229111182378314 L -0.947405733865218, -0.32003495971425977 M -0.947405733865218,-0.32003495971425977 Q -0.19986822646616895, -0.00725892893395496 -0.9681255004469088, 0.250465597207326L -0.9681255004469088, 0.250465597207326 L -0.9675321733617381, 0.2527478852728774 L -0.9669334659502762, 0.25502876783881884 \", \"type\": \"path\"}, {\"fillcolor\": \"#ca6f4c\", \"layer\": \"below\", \"line\": {\"color\": \"rgb(175,175,175)\", \"width\": 0.5}, \"path\": \"M -0.964401802084582,0.2644412300228743 Q -0.1986870641124138, -0.022879041815372682 -0.8790565233308993, -0.476717556619632L -0.8790565233308993, -0.476717556619632 L -0.8800342228831046, -0.4749102721088796 L -0.8810082067779439, -0.47310098244445825 M -0.8810082067779439,-0.47310098244445825 Q -0.1987016637850247, -0.022751896823408002 -0.9651462507599973, 0.26171112823859916L -0.9651462507599973, 0.26171112823859916 L -0.9647749921214868, 0.2630764424591929 L -0.964401802084582, 0.2644412300228743 \", \"type\": \"path\"}, {\"fillcolor\": \"#ca6f4c\", \"layer\": \"below\", \"line\": {\"color\": \"rgb(175,175,175)\", \"width\": 0.5}, \"path\": \"M -0.9651462507599973,0.26171112823859916 Q -0.1889467014073224, -0.06556785818746987 -0.5955663731042872, -0.8033061030686901L -0.5955663731042872, -0.8033061030686901 L -0.5974271687299966, -0.8019231746640448 L -0.599284753154007, -0.8005359358811701 M -0.599284753154007,-0.8005359358811701 Q -0.1889955830732171, -0.06542682614046551 -0.9659643513344732, 0.25867522484956007L -0.9659643513344732, 0.25867522484956007 L -0.9655564942341612, 0.2601934980783267 L -0.9651462507599973, 0.26171112823859916 \", \"type\": \"path\"}, {\"fillcolor\": \"#ca6f4c\", \"layer\": \"below\", \"line\": {\"color\": \"rgb(175,175,175)\", \"width\": 0.5}, \"path\": \"M -0.9659643513344732,0.25867522484956007 Q -0.16303215219646486, -0.11584695658578487 -0.07350019870025838, -0.9972952024305655L -0.07350019870025838, -0.9972952024305655 L -0.07537246038645645, -0.9971554503763653 L -0.07724445639268569, -0.9970121834544443 M -0.07724445639268569,-0.9970121834544443 Q -0.1630311036956999, -0.11584843213337828 -0.9669334659502762, 0.25502876783881884L -0.9669334659502762, 0.25502876783881884 L -0.966450628422487, 0.25685245340813867 L -0.9659643513344732, 0.25867522484956007 \", \"type\": \"path\"}, {\"fillcolor\": \"#ca6f4c\", \"layer\": \"below\", \"line\": {\"color\": \"rgb(175,175,175)\", \"width\": 0.5}, \"path\": \"M -0.9732227950140796,0.22986385375909552 Q -0.14983193019773375, -0.13247789511168062 0.10893251075410536, -0.9940491477290279L 0.10893251075410536, -0.9940491477290279 L 0.09924549159980971, -0.9950629791109264 L 0.08954905740343691, -0.9959824126550408 M 0.08954905740343691,-0.9959824126550408 Q -0.1502571701796382, -0.13199538934980742 -0.9761392240671011, 0.21714560837759977L -0.9761392240671011, 0.21714560837759977 L -0.9747017537690492, 0.22350948794075795 L -0.9732227950140796, 0.22986385375909552 \", \"type\": \"path\"}, {\"fillcolor\": \"#ca6f4c\", \"layer\": \"below\", \"line\": {\"color\": \"rgb(175,175,175)\", \"width\": 0.5}, \"path\": \"M -0.9626772943571252,0.2706518555806424 Q -0.10858663775345452, -0.1679551788466198 0.6419313157430648, -0.7667621442588162L 0.6419313157430648, -0.7667621442588162 L 0.6416688335958481, -0.7669818172497597 L 0.6414062762751388, -0.7672014003864046 M 0.6414062762751388,-0.7672014003864046 Q -0.10860451784869117, -0.16794361763060042 -0.9628048349007395, 0.27019779771818947L -0.9628048349007395, 0.27019779771818947 L -0.962741091397363, 0.27042483416841423 L -0.9626772943571252, 0.2706518555806424 \", \"type\": \"path\"}, {\"fillcolor\": \"#ca6f4c\", \"layer\": \"below\", \"line\": {\"color\": \"rgb(175,175,175)\", \"width\": 0.5}, \"path\": \"M -0.9629321612827327,0.26974367975425345 Q -0.06852115008140595, -0.1878958541094546 0.9105220464654782, -0.41346052157408875L 0.9105220464654782, -0.41346052157408875 L 0.9102299287860569, -0.4141032199127771 L 0.9099373574535973, -0.41474571186495035 M 0.9099373574535973,-0.41474571186495035 Q -0.06855041118246315, -0.18788518070011598 -0.9632284231642981, 0.2686838380111833L -0.9632284231642981, 0.2686838380111833 L -0.9630804380141162, 0.26921379963615916 L -0.9629321612827327, 0.26974367975425345 \", \"type\": \"path\"}, {\"fillcolor\": \"#ca6f4c\", \"layer\": \"below\", \"line\": {\"color\": \"rgb(175,175,175)\", \"width\": 0.5}, \"path\": \"M -0.9625069072077136,0.271257172398154 Q -0.05265137471149444, -0.19294515474867413 0.9668781435159515, -0.2552384289074572L 0.9668781435159515, -0.2552384289074572 L 0.9668533764052472, -0.25533223167820696 L 0.9668286001941614, -0.25542603204567543 M 0.9668286001941614,-0.25542603204567543 Q -0.05265492727010601, -0.19294418528211688 -0.9625495396802591, 0.271105853240614L -0.9625495396802591, 0.271105853240614 L -0.9625282264175988, 0.2711815136571657 L -0.9625069072077136, 0.271257172398154 \", \"type\": \"path\"}, {\"fillcolor\": \"#ca6f4c\", \"layer\": \"below\", \"line\": {\"color\": \"rgb(175,175,175)\", \"width\": 0.5}, \"path\": \"M -0.9625921483633781,0.27095452738268866 Q -0.03804454666204817, -0.19634819191751995 0.9941311719699758, -0.10818138896132888L 0.9941311719699758, -0.10818138896132888 L 0.9941122305223296, -0.1083553096341787 L 0.9940932586477125, -0.10852922699057731 M 0.9940932586477125,-0.10852922699057731 Q -0.03804802967200653, -0.1963475170153117 -0.9626772943571252, 0.2706518555806424L -0.9626772943571252, 0.2706518555806424 L -0.9626347332560177, 0.27080319482811804 L -0.9625921483633781, 0.27095452738268866 \", \"type\": \"path\"}, {\"fillcolor\": \"#c45e3a\", \"layer\": \"below\", \"line\": {\"color\": \"rgb(175,175,175)\", \"width\": 0.5}, \"path\": \"M -0.982617953450508,0.18563932114919912 Q -0.1998887605608003, 0.006669587803385029 -0.9928069350390974, -0.11972631180435417L -0.9928069350390974, -0.11972631180435417 L -0.9928797746788913, -0.11912074980285366 L -0.9929522449565362, -0.11851514348712928 M -0.9929522449565362,-0.11851514348712928 Q -0.19988844888038707, 0.00667892238260691 -0.9828264445497261, 0.18453232750318876L -0.9828264445497261, 0.18453232750318876 L -0.9827223548726053, 0.18508585368320654 L -0.982617953450508, 0.18563932114919912 \", \"type\": \"path\"}, {\"fillcolor\": \"#c45e3a\", \"layer\": \"below\", \"line\": {\"color\": \"rgb(175,175,175)\", \"width\": 0.5}, \"path\": \"M -0.9838165659991193,0.17917858260880568 Q -0.1993748863942748, -0.015800464400454392 -0.9433132856822677, -0.3319036683366493L -0.9433132856822677, -0.3319036683366493 L -0.9443836612963705, -0.32884570892207504 L -0.9454441238854187, -0.3257842976733735 M -0.9454441238854187,-0.3257842976733735 Q -0.1993786097164065, -0.015753411933700515 -0.9848752680872008, 0.1732648444150295L -0.9848752680872008, 0.1732648444150295 L -0.984350358091262, 0.17622250856688024 L -0.9838165659991193, 0.17917858260880568 \", \"type\": \"path\"}, {\"fillcolor\": \"#c45e3a\", \"layer\": \"below\", \"line\": {\"color\": \"rgb(175,175,175)\", \"width\": 0.5}, \"path\": \"M -0.9848752680872008,0.1732648444150295 Q -0.19716485739480305, -0.03355620670586868 -0.8721089367849697, -0.48931176399080134L -0.8721089367849697, -0.48931176399080134 L -0.8738905531440039, -0.4861227222889987 L -0.8756605081818081, -0.48292719369567255 M -0.8756605081818081,-0.48292719369567255 Q -0.19718659660606763, -0.033428223388567345 -0.9858984229249571, 0.16734485254731457L -0.9858984229249571, 0.16734485254731457 L -0.9853912912505111, 0.17030561684116724 L -0.9848752680872008, 0.1732648444150295 \", \"type\": \"path\"}, {\"fillcolor\": \"#c45e3a\", \"layer\": \"below\", \"line\": {\"color\": \"rgb(175,175,175)\", \"width\": 0.5}, \"path\": \"M -0.988949924947473,0.14824994416993034 Q -0.18350871541875916, -0.07952704801108154 -0.5680394044317978, -0.8230013578438182L -0.5680394044317978, -0.8230013578438182 L -0.5717543031898145, -0.8204249001486544 L -0.5754575160863065, -0.817831674111353 M -0.5754575160863065,-0.817831674111353 Q -0.18357703516832594, -0.0793692141753163 -0.9900088869437196, 0.14100497782864754L -0.9900088869437196, 0.14100497782864754 L -0.9894860368771112, 0.1446284302107582 L -0.988949924947473, 0.14824994416993034 \", \"type\": \"path\"}, {\"fillcolor\": \"#c45e3a\", \"layer\": \"below\", \"line\": {\"color\": \"rgb(175,175,175)\", \"width\": 0.5}, \"path\": \"M -0.982513240316553,0.18619272972559228 Q -0.15961773823285608, -0.12050799824670332 -0.09002879858533276, -0.9959391625120891L -0.09002879858533276, -0.9959391625120891 L -0.09026252690413511, -0.995918006784133 L -0.09049625025159502, -0.9958967962045067 M -0.09049625025159502,-0.9958967962045067 Q -0.15961208258770598, -0.12051548901288717 -0.982617953450508, 0.18563932114919912L -0.982617953450508, 0.18563932114919912 L -0.9825656358454389, 0.18591603280956806 L -0.982513240316553, 0.18619272972559228 \", \"type\": \"path\"}, {\"fillcolor\": \"#c45e3a\", \"layer\": \"below\", \"line\": {\"color\": \"rgb(175,175,175)\", \"width\": 0.5}, \"path\": \"M -0.9910147736351109,0.13375245207826947 Q -0.1491985182362708, -0.1331908486199452 0.020901142792184836, -0.9997815472541893L 0.020901142792184836, -0.9997815472541893 L 0.016207995496357153, -0.9998686418135084 L 0.011514491086246635, -0.9999337060500685 M 0.011514491086246635,-0.9999337060500685 Q -0.1493235327027617, -0.13305067674073387 -0.991991261704693, 0.1263065188402058L -0.991991261704693, 0.1263065188402058 L -0.9915100072762596, 0.13003040210286076 L -0.9910147736351109, 0.13375245207826947 \", \"type\": \"path\"}, {\"fillcolor\": \"#c45e3a\", \"layer\": \"below\", \"line\": {\"color\": \"rgb(175,175,175)\", \"width\": 0.5}, \"path\": \"M -0.9869465344231781,0.16104824801927695 Q -0.09687935730047416, -0.17496968345701225 0.6602878215002876, -0.7510126448858263L 0.6602878215002876, -0.7510126448858263 L 0.6573695837356902, -0.7535683315925407 L 0.6544414541061777, -0.7561126788696191 M 0.6544414541061777,-0.7561126788696191 Q -0.09699962711216034, -0.17490303696649137 -0.9879544320285616, 0.15474508145696328L -0.9879544320285616, 0.15474508145696328 L -0.9874555125676204, 0.15789746894683893 L -0.9869465344231781, 0.16104824801927695 \", \"type\": \"path\"}, {\"fillcolor\": \"#c45e3a\", \"layer\": \"below\", \"line\": {\"color\": \"rgb(175,175,175)\", \"width\": 0.5}, \"path\": \"M -0.9824782666750048,0.18637718613413543 Q -0.06110564084943032, -0.1904366053477651 0.9074957625166808, -0.42006123483876495L 0.9074957625166808, -0.42006123483876495 L 0.9074533935142344, -0.42015275626788406 L 0.9074110152818033, -0.4202442734235017 M 0.9074110152818033,-0.4202442734235017 Q -0.061106970387479066, -0.190436178732046 -0.982513240316553, 0.18619272972559228L -0.982513240316553, 0.18619272972559228 L -0.982495757824572, 0.1862849587506196 L -0.9824782666750048, 0.18637718613413543 \", \"type\": \"path\"}, {\"fillcolor\": \"#c45e3a\", \"layer\": \"below\", \"line\": {\"color\": \"rgb(175,175,175)\", \"width\": 0.5}, \"path\": \"M -0.9879544320285616,0.15474508145696328 Q -0.038237787620980464, -0.19631065074990914 0.9738082016892589, -0.22737103228584712L 0.9738082016892589, -0.22737103228584712 L 0.9730305262354023, -0.23067638590470413 L 0.9722416316017415, -0.23397907979215468 M 0.9722416316017415,-0.23397907979215468 Q -0.03825940326580319, -0.19630643917545 -0.988949924947473, 0.14824994416993034L -0.988949924947473, 0.14824994416993034 L -0.9884575134318124, 0.15149833048650507 L -0.9879544320285616, 0.15474508145696328 \", \"type\": \"path\"}, {\"fillcolor\": \"#c45e3a\", \"layer\": \"below\", \"line\": {\"color\": \"rgb(175,175,175)\", \"width\": 0.5}, \"path\": \"M -0.9833763231093322,0.1815792035117743 Q -0.028147554387401477, -0.1980093815504919 0.9950220180249265, -0.09965532422105147L 0.9950220180249265, -0.09965532422105147 L 0.9949080497470495, -0.10078676772534413 L 0.9947927949006725, -0.10191808089690756 M 0.9947927949006725,-0.10191808089690756 Q -0.02813108811172138, -0.19801172157640207 -0.9838165659991193, 0.17917858260880568L -0.9838165659991193, 0.17917858260880568 L -0.9835971769402828, 0.18037902737044026 L -0.9833763231093322, 0.1815792035117743 \", \"type\": \"path\"}, {\"fillcolor\": \"#bf4d28\", \"layer\": \"below\", \"line\": {\"color\": \"rgb(175,175,175)\", \"width\": 0.5}, \"path\": \"M -0.9994845467988124,-0.03210359341838061 Q -0.19817695585545692, -0.026942423199561652 -0.9717791906562351, -0.2358923580947733L -0.9717791906562351, -0.2358923580947733 L -0.9748115837715273, -0.2230299893396547 L -0.9776737397515161, -0.21012867153314604 M -0.9776737397515161,-0.21012867153314604 Q -0.19818107839246446, -0.02691208217882541 -0.9983049331133421, -0.05820017630184156L -0.9983049331133421, -0.05820017630184156 L -0.9989799594693918, -0.0451557369393131 L -0.9994845467988124, -0.03210359341838061 \", \"type\": \"path\"}, {\"fillcolor\": \"#bf4d28\", \"layer\": \"below\", \"line\": {\"color\": \"rgb(175,175,175)\", \"width\": 0.5}, \"path\": \"M -0.9986225918911248,0.05246826626306719 Q -0.19845480091293008, -0.024813141570734103 -0.9549619548595646, -0.2967282675627635L -0.9549619548595646, -0.2967282675627635 L -0.9551120456573238, -0.296244797828219 L -0.9552618916882977, -0.29576125217495103 M -0.9552618916882977,-0.29576125217495103 Q -0.19845489637556965, -0.024812378051325804 -0.9986748062420596, 0.05146485575015887L -0.9986748062420596, 0.05146485575015887 L -0.9986488250909633, 0.05196656756452814 L -0.9986225918911248, 0.05246826626306719 \", \"type\": \"path\"}, {\"fillcolor\": \"#bf4d28\", \"layer\": \"below\", \"line\": {\"color\": \"rgb(175,175,175)\", \"width\": 0.5}, \"path\": \"M -0.9988058449509293,0.04885574778733973 Q -0.1953267256712517, -0.042982208395423147 -0.8860340389571296, -0.46362019133048527L -0.8860340389571296, -0.46362019133048527 L -0.8865098930638611, -0.4627096384341929 L -0.8869848114206533, -0.46179859712765275 M -0.8869848114206533,-0.46179859712765275 Q -0.1953320155270023, -0.04295816232288034 -0.9988925710312878, 0.04704924588666327L -0.9988925710312878, 0.04704924588666327 L -0.9988496163921494, 0.04795251644341403 L -0.9988058449509293, 0.04885574778733973 \", \"type\": \"path\"}, {\"fillcolor\": \"#bf4d28\", \"layer\": \"below\", \"line\": {\"color\": \"rgb(175,175,175)\", \"width\": 0.5}, \"path\": \"M -0.9998091789377728,0.01953473091129569 Q -0.17839976616331762, -0.09040754079651539 -0.5754575160863065, -0.817831674111353L -0.5754575160863065, -0.817831674111353 L -0.5790544623776233, -0.8152888626741823 L -0.5826401727467462, -0.8127302314431534 M -0.5826401727467462,-0.8127302314431534 Q -0.1784527930698859, -0.09030282745050949 -0.9999291989837092, 0.011899454600843984L -0.9999291989837092, 0.011899454600843984 L -0.9998764770680898, 0.015717207318915138 L -0.9998091789377728, 0.01953473091129569 \", \"type\": \"path\"}, {\"fillcolor\": \"#bf4d28\", \"layer\": \"below\", \"line\": {\"color\": \"rgb(175,175,175)\", \"width\": 0.5}, \"path\": \"M -0.998526065511094,0.054274271021677145 Q -0.15122734402717514, -0.13088273537211248 -0.08956132708518921, -0.9959813094083341L -0.08956132708518921, -0.9959813094083341 L -0.08979506530806002, -0.9959602633872102 L -0.09002879858533276, -0.9959391625120891 M -0.09002879858533276,-0.9959391625120891 Q -0.15121860770765252, -0.13089282899746302 -0.9985586038923975, 0.05367228886926727L -0.9985586038923975, 0.05367228886926727 L -0.9985423800656841, 0.05397328239748719 L -0.998526065511094, 0.054274271021677145 \", \"type\": \"path\"}, {\"fillcolor\": \"#bf4d28\", \"layer\": \"below\", \"line\": {\"color\": \"rgb(175,175,175)\", \"width\": 0.5}, \"path\": \"M -0.9996470555636581,0.026566224852406593 Q -0.14248186106039928, -0.14035283847776314 0.011514491086246635, -0.9999337060500685L 0.011514491086246635, -0.9999337060500685 L 0.007407463078294284, -0.9999725643690149 L 0.003300310112447942, -0.9999945539617512 M 0.003300310112447942,-0.9999945539617512 Q -0.14256471822864433, -0.14026867475094804 -0.9998091789377728, 0.01953473091129569L -0.9998091789377728, 0.01953473091129569 L -0.99973429915074, 0.023050620416353595 L -0.9996470555636581, 0.026566224852406593 \", \"type\": \"path\"}, {\"fillcolor\": \"#bf4d28\", \"layer\": \"below\", \"line\": {\"color\": \"rgb(175,175,175)\", \"width\": 0.5}, \"path\": \"M -0.9983049331133421,-0.05820017630184156 Q -0.05833244134016994, -0.1913042767093711 0.7959861326822878, -0.6053148573903464L 0.7959861326822878, -0.6053148573903464 L 0.7860753458762081, -0.6181306905546754 L 0.775958238444149, -0.6307842834049158 M 0.775958238444149,-0.6307842834049158 Q -0.05870219454462158, -0.19119114089215905 -0.9962379749552769, -0.08665966337927454L -0.9962379749552769, -0.08665966337927454 L -0.9973729686696364, -0.07243729265451922 L -0.9983049331133421, -0.05820017630184156 \", \"type\": \"path\"}, {\"fillcolor\": \"#bf4d28\", \"layer\": \"below\", \"line\": {\"color\": \"rgb(175,175,175)\", \"width\": 0.5}, \"path\": \"M -0.9987361326067167,0.05026069464083054 Q -0.047340910485553, -0.1943163353771341 0.9099373574535973, -0.41474571186495035L 0.9099373574535973, -0.41474571186495035 L 0.9096443326139154, -0.4153879971103936 L 0.9093508544130537, -0.41603007532899494 M 0.9093508544130537,-0.41603007532899494 Q -0.04734142201779357, -0.19431621075281694 -0.9988058449509293, 0.04885574778733973L -0.9988058449509293, 0.04885574778733973 L -0.9987712358168627, 0.04955823347191597 L -0.9987361326067167, 0.05026069464083054 \", \"type\": \"path\"}, {\"fillcolor\": \"#bf4d28\", \"layer\": \"below\", \"line\": {\"color\": \"rgb(175,175,175)\", \"width\": 0.5}, \"path\": \"M -0.9998988372458802,-0.01422375739165747 Q -0.01443985235198004, -0.19947804556906262 0.987425895735005, -0.15808257472575202L 0.987425895735005, -0.15808257472575202 L 0.986024132752611, -0.16660254988883366 L 0.9845488568235908, -0.17511010401276236 M 0.9845488568235908,-0.17511010401276236 Q -0.014378434166284315, -0.19948248201515298 -0.9994845467988124, -0.03210359341838061L -0.9994845467988124, -0.03210359341838061 L -0.999731664614354, -0.023164601602719544 L -0.9998988372458802, -0.01422375739165747 \", \"type\": \"path\"}, {\"fillcolor\": \"#bf4d28\", \"layer\": \"below\", \"line\": {\"color\": \"rgb(175,175,175)\", \"width\": 0.5}, \"path\": \"M -0.9999291989837092,0.011899454600843984 Q -0.007688693329964225, -0.19985215534208722 0.9978878442487754, -0.06496037484907002L 0.9978878442487754, -0.06496037484907002 L 0.9976062946336385, -0.06914969925706196 L 0.9973071575096498, -0.07333780457596605 M 0.9973071575096498,-0.07333780457596605 Q -0.007563962227749657, -0.19985691500525365 -0.9999974598310203, 0.0022539590739324706L -0.9999974598310203, 0.0022539590739324706 L -0.9999749592142054, 0.007076789141140164 L -0.9999291989837092, 0.011899454600843984 \", \"type\": \"path\"}, {\"fillcolor\": \"#af4624\", \"layer\": \"below\", \"line\": {\"color\": \"rgb(175,175,175)\", \"width\": 0.5}, \"path\": \"M -0.9924122199687241,-0.1229552180948365 Q -0.19531285136270557, -0.04304520986787826 -0.95215664521802, -0.3056104104364992L -0.95215664521802, -0.3056104104364992 L -0.952527245390904, -0.3044533573275492 L -0.952896439522714, -0.3032958548100099 M -0.952896439522714,-0.3032958548100099 Q -0.1953126404968822, -0.043046166636945146 -0.992109291925895, -0.125376045855256L -0.992109291925895, -0.125376045855256 L -0.9922614942115247, -0.12416572435705579 L -0.9924122199687241, -0.1229552180948365 \", \"type\": \"path\"}, {\"fillcolor\": \"#af4624\", \"layer\": \"below\", \"line\": {\"color\": \"rgb(175,175,175)\", \"width\": 0.5}, \"path\": \"M -0.992109291925895,-0.125376045855256 Q -0.1906297572287325, -0.060500377345224225 -0.8828378018214771, -0.46967799147396977L -0.8828378018214771, -0.46967799147396977 L -0.8836941875587591, -0.46806472081846195 L -0.8845476252579979, -0.46644988868091347 M -0.8845476252579979,-0.46644988868091347 Q -0.19064185414637172, -0.0604622481192482 -0.9916962023101342, -0.1286026528639955L -0.9916962023101342, -0.1286026528639955 L -0.9919040591148225, -0.12698951732934 L -0.992109291925895, -0.125376045855256 \", \"type\": \"path\"}, {\"fillcolor\": \"#af4624\", \"layer\": \"below\", \"line\": {\"color\": \"rgb(175,175,175)\", \"width\": 0.5}, \"path\": \"M -0.9880141002182424,-0.15436365430352053 Q -0.1703056486167659, -0.10486174731150853 -0.5826401727467462, -0.8127302314431534L -0.5826401727467462, -0.8127302314431534 L -0.586026734022655, -0.8102917172295051 L -0.5894030895557634, -0.8078390916649929 M -0.5894030895557634,-0.8078390916649929 Q -0.17035948179433757, -0.10477426670115507 -0.9868578399213367, -0.16159085303875764L -0.9868578399213367, -0.16159085303875764 L -0.9874425821727844, -0.157978311523905 L -0.9880141002182424, -0.15436365430352053 \", \"type\": \"path\"}, {\"fillcolor\": \"#af4624\", \"layer\": \"below\", \"line\": {\"color\": \"rgb(175,175,175)\", \"width\": 0.5}, \"path\": \"M -0.9930243458450725,-0.11790949308247373 Q -0.13945890386092882, -0.14335694658407114 -0.09049625025159502, -0.9958967962045067L -0.09049625025159502, -0.9958967962045067 L -0.09072996861483894, -0.9958755307743786 L -0.0909636819809936, -0.9958542104949201 M -0.0909636819809936,-0.9958542104949201 Q -0.13944882843419468, -0.14336674735910887 -0.9929522449565362, -0.11851514348712928L -0.9929522449565362, -0.11851514348712928 L -0.9929883415761226, -0.1182123237818365 L -0.9930243458450725, -0.11790949308247373 \", \"type\": \"path\"}, {\"fillcolor\": \"#af4624\", \"layer\": \"below\", \"line\": {\"color\": \"rgb(175,175,175)\", \"width\": 0.5}, \"path\": \"M -0.9889974562473177,-0.1479325235921259 Q -0.13029230857944127, -0.15173633159213934 0.003300310112447942, -0.9999945539617512L 0.003300310112447942, -0.9999945539617512 L -0.0004548516229863464, -0.9999998965549952 L -0.0042100069444350185, -0.9999911378814953 M -0.0042100069444350185,-0.9999911378814953 Q -0.13036849772154277, -0.1516708765776347 -0.9880141002182424, -0.15436365430352053L -0.9880141002182424, -0.15436365430352053 L -0.9885110082645266, -0.15114888864907008 L -0.9889974562473177, -0.1479325235921259 \", \"type\": \"path\"}, {\"fillcolor\": \"#af4624\", \"layer\": \"below\", \"line\": {\"color\": \"rgb(175,175,175)\", \"width\": 0.5}, \"path\": \"M -0.9717791906562351,-0.2358923580947733 Q -0.037533006908528795, -0.1964466171569374 0.8163661735461475, -0.5775346489082896L 0.8163661735461475, -0.5775346489082896 L 0.8062958048048281, -0.5915125316966112 L 0.7959861326822878, -0.6053148573903464 M 0.7959861326822878,-0.6053148573903464 Q -0.03790188294345845, -0.1963757807606131 -0.9640806130465454, -0.265609810714509L -0.9640806130465454, -0.265609810714509 L -0.968043943550908, -0.25078062794882416 L -0.9717791906562351, -0.2358923580947733 \", \"type\": \"path\"}, {\"fillcolor\": \"#af4624\", \"layer\": \"below\", \"line\": {\"color\": \"rgb(175,175,175)\", \"width\": 0.5}, \"path\": \"M -0.9926355396236907,-0.1211391162093588 Q -0.030184092249179773, -0.1977091818178736 0.9112711220937962, -0.41180692325155677L 0.9112711220937962, -0.41180692325155677 L 0.9108969595125251, -0.4126338923923204 L 0.9105220464654782, -0.41346052157408875 M 0.9105220464654782,-0.41346052157408875 Q -0.03018266586402929, -0.19770939957761333 -0.9924122199687241, -0.1229552180948365L -0.9924122199687241, -0.1229552180948365 L -0.9925242951798363, -0.12204721823035986 L -0.9926355396236907, -0.1211391162093588 \", \"type\": \"path\"}, {\"fillcolor\": \"#af4624\", \"layer\": \"below\", \"line\": {\"color\": \"rgb(175,175,175)\", \"width\": 0.5}, \"path\": \"M -0.9837360458550993,-0.17962013273955096 Q -0.0009387775354104442, -0.19999779672971152 0.9820064824867482, -0.18884720901830687L 0.9820064824867482, -0.18884720901830687 L 0.9807203083549547, -0.19541667477511343 L 0.9793901860628715, -0.201977383495613 M 0.9793901860628715,-0.201977383495613 Q -0.000874785731717944, -0.19999808686565876 -0.9811195645729599, -0.19340217168420223L -0.9811195645729599, -0.19340217168420223 L -0.9824519726719588, -0.18651574033570642 L -0.9837360458550993, -0.17962013273955096 \", \"type\": \"path\"}, {\"fillcolor\": \"#af4624\", \"layer\": \"below\", \"line\": {\"color\": \"rgb(175,175,175)\", \"width\": 0.5}, \"path\": \"M -0.9854766027137627,-0.16981126436058577 Q 0.011414245084365275, -0.19967402186852962 0.9984080444614701, -0.05640369451217825L 0.9984080444614701, -0.05640369451217825 L 0.998157113391952, -0.06068259210882348 L 0.9978878442487754, -0.06496037484907002 M 0.9978878442487754,-0.06496037484907002 Q 0.011552979475996164, -0.19966604284461398 -0.9837360458550993, -0.17962013273955096L -0.9837360458550993, -0.17962013273955096 L -0.9846185389761951, -0.17471786601370487 L -0.9854766027137627, -0.16981126436058577 \", \"type\": \"path\"}, {\"fillcolor\": \"#9f4021\", \"layer\": \"below\", \"line\": {\"color\": \"rgb(175,175,175)\", \"width\": 0.5}, \"path\": \"M -0.9291018825757114,-0.3698238659068248 Q -0.176355511410774, -0.0943330991489433 -0.8233328619784884, -0.5675588061040999L -0.8233328619784884, -0.5675588061040999 L -0.8293118001555262, -0.5587861291431638 L -0.8351972686207787, -0.5499504727594939 M -0.8351972686207787,-0.5499504727594939 Q -0.17646863377583413, -0.09412131157867772 -0.9219730999644741, -0.3872539256636372L -0.9219730999644741, -0.3872539256636372 L -0.92557852151631, -0.3785556768926885 L -0.9291018825757114, -0.3698238659068248 \", \"type\": \"path\"}, {\"fillcolor\": \"#9f4021\", \"layer\": \"below\", \"line\": {\"color\": \"rgb(175,175,175)\", \"width\": 0.5}, \"path\": \"M -0.9390721577639567,-0.3437200641692982 Q -0.15475511126747146, -0.12669197108180347 -0.5223793137145508, -0.852713229991839L -0.5223793137145508, -0.852713229991839 L -0.5291829884734266, -0.8485077281382494 L -0.5359528080965101, -0.8442479419539413 M -0.5359528080965101,-0.8442479419539413 Q -0.1548833129229121, -0.12653521003271498 -0.9341782021467039, -0.3568067917430274L -0.9341782021467039, -0.3568067917430274 L -0.9366480359964474, -0.3502719752763526 L -0.9390721577639567, -0.3437200641692982 \", \"type\": \"path\"}, {\"fillcolor\": \"#9f4021\", \"layer\": \"below\", \"line\": {\"color\": \"rgb(175,175,175)\", \"width\": 0.5}, \"path\": \"M -0.95215664521802,-0.3056104104364992 Q -0.12447006755610134, -0.15654776358217187 -0.0831706160295114, -0.996535322318919L -0.0831706160295114, -0.996535322318919 L -0.08426196257522652, -0.9964436369724938 L -0.08535320805348041, -0.9963507564482396 M -0.08535320805348041,-0.9963507564482396 Q -0.1244196125107202, -0.15658786677990807 -0.951286446620594, -0.30830844373121485L -0.951286446620594, -0.30830844373121485 L -0.9517225019999005, -0.3069597354492106 L -0.95215664521802, -0.3056104104364992 \", \"type\": \"path\"}, {\"fillcolor\": \"#9f4021\", \"layer\": \"below\", \"line\": {\"color\": \"rgb(175,175,175)\", \"width\": 0.5}, \"path\": \"M -0.9126233429547769,-0.40880146023962266 Q -0.0967611465249804, -0.17503508369230233 0.1392062794052998, -0.9902634052483883L 0.1392062794052998, -0.9902634052483883 L 0.12408383358429755, -0.9922717381055576 L 0.10893251075410536, -0.9940491477290279 M 0.10893251075410536,-0.9940491477290279 Q -0.09712734435602058, -0.17483214515170545 -0.9015470974995774, -0.4326809806197719L -0.9015470974995774, -0.4326809806197719 L -0.9071637970223366, -0.42077766738744216 L -0.9126233429547769, -0.40880146023962266 \", \"type\": \"path\"}, {\"fillcolor\": \"#9f4021\", \"layer\": \"below\", \"line\": {\"color\": \"rgb(175,175,175)\", \"width\": 0.5}, \"path\": \"M -0.9491412924376329,-0.3148504517859549 Q -0.05306226038941615, -0.19283256084584316 0.6544414541061777, -0.7561126788696191L 0.6544414541061777, -0.7561126788696191 L 0.652109157253224, -0.7581250866621484 L 0.6497706722797192, -0.7601303003072314 M 0.6497706722797192,-0.7601303003072314 Q -0.05312913877493654, -0.1928141452617871 -0.947405733865218, -0.32003495971425977L -0.947405733865218, -0.32003495971425977 L -0.948277056310634, -0.3174438918530939 L -0.9491412924376329, -0.3148504517859549 \", \"type\": \"path\"}, {\"fillcolor\": \"#9f4021\", \"layer\": \"below\", \"line\": {\"color\": \"rgb(175,175,175)\", \"width\": 0.5}, \"path\": \"M -0.9549619548595646,-0.2967282675627635 Q -0.01301389396927675, -0.19957614728157377 0.9083412036058599, -0.4182299102549431L 0.9083412036058599, -0.4182299102549431 L 0.9081301896623983, -0.41868790121489835 L 0.9079189447972276, -0.41914578570980393 M 0.9079189447972276,-0.41914578570980393 Q -0.013013501406358673, -0.19957617287929616 -0.954661039117608, -0.2976949787801078L -0.954661039117608, -0.2976949787801078 L -0.9548116193334839, -0.2972116612546861 L -0.9549619548595646, -0.2967282675627635 \", \"type\": \"path\"}, {\"fillcolor\": \"#9f4021\", \"layer\": \"below\", \"line\": {\"color\": \"rgb(175,175,175)\", \"width\": 0.5}, \"path\": \"M -0.9541775385612722,-0.2992410815799726 Q 0.005123026751799299, -0.1999343757258875 0.968250570350127, -0.24998166536098956L 0.968250570350127, -0.24998166536098956 L 0.9680319282121508, -0.2508270040523256 L 0.967812548044805, -0.2516721515126812 M 0.967812548044805,-0.2516721515126812 Q 0.005130636295523799, -0.1999341805975233 -0.9536306074852936, -0.30097950838425824L -0.9536306074852936, -0.30097950838425824 L -0.9539044690441215, -0.30011041957528345 L -0.9541775385612722, -0.2992410815799726 \", \"type\": \"path\"}, {\"fillcolor\": \"#9f4021\", \"layer\": \"below\", \"line\": {\"color\": \"rgb(175,175,175)\", \"width\": 0.5}, \"path\": \"M -0.9503456074053617,-0.31119644356151327 Q 0.02195116222070416, -0.19879171631926804 0.9953477778551766, -0.09634729429912416L 0.9953477778551766, -0.09634729429912416 L 0.995186272440211, -0.09800144461464905 L 0.9950220180249265, -0.09965532422105147 M 0.9950220180249265,-0.09965532422105147 Q 0.022003177931401545, -0.19878596570411877 -0.9491412924376329, -0.3148504517859549L -0.9491412924376329, -0.3148504517859549 L -0.949745207207077, -0.31302402685287006 L -0.9503456074053617, -0.31119644356151327 \", \"type\": \"path\"}, {\"fillcolor\": \"#8f391e\", \"layer\": \"below\", \"line\": {\"color\": \"rgb(175,175,175)\", \"width\": 0.5}, \"path\": \"M -0.8001423613251437,-0.5998101379711943 Q -0.11645198728048418, -0.1626005370791436 -0.3102716978180309, -0.9506479230152015L -0.3102716978180309, -0.9506479230152015 L -0.3475976960650471, -0.9376437712107254 L -0.3843806291848003, -0.9231747028095478 M -0.3843806291848003,-0.9231747028095478 Q -0.11654986475199423, -0.16253039416149787 -0.7510683086187676, -0.6602245040806526L -0.7510683086187676, -0.6602245040806526 L -0.7761933454655878, -0.6304949567244282 L -0.8001423613251437, -0.5998101379711943 \", \"type\": \"path\"}, {\"fillcolor\": \"#8f391e\", \"layer\": \"below\", \"line\": {\"color\": \"rgb(175,175,175)\", \"width\": 0.5}, \"path\": \"M -0.8721089367849697,-0.48931176399080134 Q -0.10616418589722576, -0.16949680124645214 -0.05960661220704326, -0.9982219451510767L -0.05960661220704326, -0.9982219451510767 L -0.062339494914929315, -0.9980550021786132 L -0.06507191029367802, -0.9978805772690095 M -0.06507191029367802,-0.9978805772690095 Q -0.10595096768225516, -0.16963016373037468 -0.8681711117246441, -0.49626497032008565L -0.8681711117246441, -0.49626497032008565 L -0.8701469695285506, -0.4927923004880247 L -0.8721089367849697, -0.48931176399080134 \", \"type\": \"path\"}, {\"fillcolor\": \"#8f391e\", \"layer\": \"below\", \"line\": {\"color\": \"rgb(175,175,175)\", \"width\": 0.5}, \"path\": \"M -0.7510683086187676,-0.6602245040806526 Q -0.04180010755261785, -0.1955831051205333 0.41557334153409875, -0.9095596724823409L 0.41557334153409875, -0.9095596724823409 L 0.3786362151833526, -0.9255455777818972 L 0.3410857358491799, -0.9400321913637977 M 0.3410857358491799,-0.9400321913637977 Q -0.04201433937003441, -0.19553719668467068 -0.6971168602492166, -0.7169575183762802L -0.6971168602492166, -0.7169575183762802 L -0.7246480039026293, -0.6891191990069171 L -0.7510683086187676, -0.6602245040806526 \", \"type\": \"path\"}, {\"fillcolor\": \"#8f391e\", \"layer\": \"below\", \"line\": {\"color\": \"rgb(175,175,175)\", \"width\": 0.5}, \"path\": \"M -0.8681711117246441,-0.49626497032008565 Q -0.030559829823623003, -0.19765145281821533 0.6777548690778656, -0.7352879282575263L 0.6777548690778656, -0.7352879282575263 L 0.6732119447348285, -0.7394495773657257 L 0.668643466959573, -0.7435831588277685 M 0.668643466959573,-0.7435831588277685 Q -0.030559156755412792, -0.1976515568833145 -0.8619869558887792, -0.5069304566482428L -0.8619869558887792, -0.5069304566482428 L -0.8650954703855567, -0.501607243885485 L -0.8681711117246441, -0.49626497032008565 \", \"type\": \"path\"}, {\"fillcolor\": \"#8f391e\", \"layer\": \"below\", \"line\": {\"color\": \"rgb(175,175,175)\", \"width\": 0.5}, \"path\": \"M -0.8790565233308993,-0.476717556619632 Q 0.008415490842649793, -0.19982287034740864 0.9160263545925981, -0.4011180844736319L 0.9160263545925981, -0.4011180844736319 L 0.9147678083384532, -0.40398002033227226 L 0.9135003205806795, -0.4068380074415317 M 0.9135003205806795,-0.4068380074415317 Q 0.008497891307376859, -0.19981938305211538 -0.8756605081818081, -0.48292719369567255L -0.8756605081818081, -0.48292719369567255 L -0.8773640094443957, -0.47982537962435273 L -0.8790565233308993, -0.476717556619632 \", \"type\": \"path\"}, {\"fillcolor\": \"#8f391e\", \"layer\": \"below\", \"line\": {\"color\": \"rgb(175,175,175)\", \"width\": 0.5}, \"path\": \"M -0.8875114003895754,-0.46078575735208527 Q 0.022072358940599335, -0.19877829602549002 0.9669771209502949, -0.254863193809304L 0.9669771209502949, -0.254863193809304 L 0.9669276504352838, -0.2550508161596461 L 0.9668781435159515, -0.2552384289074572 M 0.9668781435159515,-0.2552384289074572 Q 0.022079172177695353, -0.19877753936485804 -0.8873009035498423, -0.46119096539246457L -0.8873009035498423, -0.46119096539246457 L -0.8874061750980072, -0.4609883733869272 L -0.8875114003895754, -0.46078575735208527 \", \"type\": \"path\"}, {\"fillcolor\": \"#8f391e\", \"layer\": \"below\", \"line\": {\"color\": \"rgb(175,175,175)\", \"width\": 0.5}, \"path\": \"M -0.8873009035498423,-0.46119096539246457 Q 0.03693362057382787, -0.19656018841898917 0.9941878137452966, -0.10765960709731093L 0.9941878137452966, -0.10765960709731093 L 0.994159527089607, -0.10792050174535475 L 0.9941311719699758, -0.10818138896132888 M 0.9941311719699758,-0.10818138896132888 Q 0.03694935351130121, -0.1965572315512632 -0.8869848114206533, -0.46179859712765275L -0.8869848114206533, -0.46179859712765275 L -0.8871429095084805, -0.46149480832272416 L -0.8873009035498423, -0.46119096539246457 \", \"type\": \"path\"}, {\"fillcolor\": \"#f0f3e7\", \"layer\": \"below\", \"line\": {\"color\": \"rgb(175,175,175)\", \"width\": 0.5}, \"path\": \"M -0.558845733957394,-0.8292716356162325 Q -0.06280576229652172, -0.1898826906865205 -0.04585776039334089, -0.9989479795323213L -0.04585776039334089, -0.9989479795323213 L -0.049764681655243496, -0.99876097063299 L -0.053670841566979134, -0.9985586816835014 M -0.053670841566979134,-0.9985586816835014 Q -0.062447789761620166, -0.19000071987729017 -0.5491954178177021, -0.835693958963471L -0.5491954178177021, -0.835693958963471 L -0.5540298819252122, -0.832496780734878 L -0.558845733957394, -0.8292716356162325 \", \"type\": \"path\"}, {\"fillcolor\": \"#f0f3e7\", \"layer\": \"below\", \"line\": {\"color\": \"rgb(175,175,175)\", \"width\": 0.5}, \"path\": \"M -0.3102716978180309,-0.9506479230152015 Q 0.020823822860469677, -0.19891296690129526 0.5004298046202984, -0.8657771137236708L 0.5004298046202984, -0.8657771137236708 L 0.45852444760781613, -0.8886817939768695 L 0.41557334153409875, -0.9095596724823409 M 0.41557334153409875,-0.9095596724823409 Q 0.02070819725433723, -0.1989250375555462 -0.2193217905948673, -0.975652577596278L -0.2193217905948673, -0.975652577596278 L -0.26509172738887077, -0.964223198263755 L -0.3102716978180309, -0.9506479230152015 \", \"type\": \"path\"}, {\"fillcolor\": \"#f0f3e7\", \"layer\": \"below\", \"line\": {\"color\": \"rgb(175,175,175)\", \"width\": 0.5}, \"path\": \"M -0.4824962166903827,-0.8758980539306314 Q 0.03823620257205745, -0.19631095948231875 0.775958238444149, -0.6307842834049158L 0.775958238444149, -0.6307842834049158 L 0.7663708903471066, -0.6423983642791933 L 0.7566097261761513, -0.6538667465589983 M 0.7566097261761513,-0.6538667465589983 Q 0.03828358846685073, -0.19630172402223273 -0.4554692869304404, -0.8902514974225407L -0.4554692869304404, -0.8902514974225407 L -0.4690376603543529, -0.8831781661529653 L -0.4824962166903827, -0.8758980539306314 \", \"type\": \"path\"}, {\"fillcolor\": \"#f0f3e7\", \"layer\": \"below\", \"line\": {\"color\": \"rgb(175,175,175)\", \"width\": 0.5}, \"path\": \"M -0.5491954178177021,-0.835693958963471 Q 0.060802752509634794, -0.1905335279872078 0.9317515166971663, -0.36309655896542226L 0.9317515166971663, -0.36309655896542226 L 0.9292395103731681, -0.36947791863849566 L 0.9266838001243068, -0.37584190105305426 M 0.9266838001243068,-0.37584190105305426 Q 0.06099794482467983, -0.19047112832963772 -0.5359528080965101, -0.8442479419539413L -0.5359528080965101, -0.8442479419539413 L -0.5425909699833208, -0.8399970471927619 L -0.5491954178177021, -0.835693958963471 \", \"type\": \"path\"}, {\"fillcolor\": \"#f0f3e7\", \"layer\": \"below\", \"line\": {\"color\": \"rgb(175,175,175)\", \"width\": 0.5}, \"path\": \"M -0.6026202810291135,-0.7980280677347084 Q 0.06654087548392852, -0.18860623502374552 0.9699731185116823, -0.24321214888389509L 0.9699731185116823, -0.24321214888389509 L 0.9695469152658153, -0.24490565346382284 L 0.9691177552829188, -0.24659841117776218 M 0.9691177552829188,-0.24659841117776218 Q 0.06660504716147435, -0.18858358277596113 -0.599284753154007, -0.8005359358811701L -0.599284753154007, -0.8005359358811701 L -0.6009538253055238, -0.7992837417654997 L -0.6026202810291135, -0.7980280677347084 \", \"type\": \"path\"}, {\"fillcolor\": \"#f0f3e7\", \"layer\": \"below\", \"line\": {\"color\": \"rgb(175,175,175)\", \"width\": 0.5}, \"path\": \"M -0.5955663731042872,-0.8033061030686901 Q 0.08260528761550445, -0.18214380708099792 0.9966988901658833, -0.08118695918739946L 0.9966988901658833, -0.08118695918739946 L 0.9964603787190117, -0.08406374749655027 L 0.9962135639684057, -0.0869398353194164 M 0.9962135639684057,-0.0869398353194164 Q 0.08277623450552962, -0.1820661830244309 -0.5894030895557634, -0.8078390916649929L -0.5894030895557634, -0.8078390916649929 L -0.5924890664439435, -0.8055784916098395 L -0.5955663731042872, -0.8033061030686901 \", \"type\": \"path\"}, {\"fillcolor\": \"#e2ecde\", \"layer\": \"below\", \"line\": {\"color\": \"rgb(175,175,175)\", \"width\": 0.5}, \"path\": \"M -0.04585776039334089,-0.9989479795323213 Q 0.0010233469561742687, -0.19999738188538194 0.056077929112858624, -0.9984263948165699L 0.056077929112858624, -0.9984263948165699 L 0.04892952921957156, -0.998802233262597 L 0.04177862213436686, -0.9991268922076684 M 0.04177862213436686,-0.9991268922076684 Q 0.0005460738809102243, -0.1999992545069021 -0.03632204856348554, -0.9993401366842782L -0.03632204856348554, -0.9993401366842782 L -0.04109037231339089, -0.9991554340057142 L -0.04585776039334089, -0.9989479795323213 \", \"type\": \"path\"}, {\"fillcolor\": \"#e2ecde\", \"layer\": \"below\", \"line\": {\"color\": \"rgb(175,175,175)\", \"width\": 0.5}, \"path\": \"M -0.0802078905980598,-0.9967781570067683 Q 0.061112263454752916, -0.19043448021678447 0.6452495699227698, -0.763971853221361L 0.6452495699227698, -0.763971853221361 L 0.6435919549970222, -0.7653687970273618 L 0.6419313157430648, -0.7667621442588162 M 0.6419313157430648,-0.7667621442588162 Q 0.06098248352376141, -0.19047607908415737 -0.07724445639268569, -0.9970121834544443L -0.07724445639268569, -0.9970121834544443 L -0.07872626045556853, -0.996896271391704 L -0.0802078905980598, -0.9967781570067683 \", \"type\": \"path\"}, {\"fillcolor\": \"#e2ecde\", \"layer\": \"below\", \"line\": {\"color\": \"rgb(175,175,175)\", \"width\": 0.5}, \"path\": \"M -0.08847048369827497,-0.9960787988478589 Q 0.10051373561263635, -0.1729074577720494 0.9093508544130537, -0.41603007532899494L 0.9093508544130537, -0.41603007532899494 L 0.9090569229972794, -0.4166719462007474 L 0.9087625385130856, -0.41731360940574713 M 0.9087625385130856,-0.41731360940574713 Q 0.10048635019759311, -0.17292337442915773 -0.0873795341960154, -0.9961750935471572L -0.0873795341960154, -0.9961750935471572 L -0.0879250221297826, -0.9961270955472887 L -0.08847048369827497, -0.9960787988478589 \", \"type\": \"path\"}, {\"fillcolor\": \"#e2ecde\", \"layer\": \"below\", \"line\": {\"color\": \"rgb(175,175,175)\", \"width\": 0.5}, \"path\": \"M -0.08956132708518921,-0.9959813094083341 Q 0.11512260115391729, -0.1635444487090775 0.967812548044805, -0.2516721515126812L 0.967812548044805, -0.2516721515126812 L 0.9676414088902797, -0.25232935580473903 L 0.967469823453642, -0.2529864437209608 M 0.967469823453642,-0.2529864437209608 Q 0.11510108980971522, -0.16355958891063488 -0.08847048369827497, -0.9960787988478589L -0.08847048369827497, -0.9960787988478589 L -0.08901591873792902, -0.99603020346335 L -0.08956132708518921, -0.9959813094083341 \", \"type\": \"path\"}, {\"fillcolor\": \"#e2ecde\", \"layer\": \"below\", \"line\": {\"color\": \"rgb(175,175,175)\", \"width\": 0.5}, \"path\": \"M -0.09127529200703681,-0.9958256981364912 Q 0.12658496390161014, -0.1548426521150683 0.9940932586477125, -0.10852922699057731L 0.9940932586477125, -0.10852922699057731 L 0.9940742563467052, -0.10870314102520244 L 0.9940552236198893, -0.10887705173273197 M 0.9940552236198893,-0.10887705173273197 Q 0.12658210034383072, -0.15484499304964425 -0.0909636819809936, -0.9958542104949201L -0.0909636819809936, -0.9958542104949201 L -0.09111948810924715, -0.9958399665040105 L -0.09127529200703681, -0.9958256981364912 \", \"type\": \"path\"}, {\"fillcolor\": \"#d4e5d6\", \"layer\": \"below\", \"line\": {\"color\": \"rgb(175,175,175)\", \"width\": 0.5}, \"path\": \"M 0.17073814978727284,-0.9853164386161528 Q 0.10975613590267114, -0.16719327328488545 0.8361527882291832, -0.5484965950090873L 0.8361527882291832, -0.5484965950090873 L 0.8263870351719692, -0.5631025378203179 L 0.8163661735461475, -0.5775346489082896 M 0.8163661735461475,-0.5775346489082896 Q 0.1098399793261504, -0.1671382031183501 0.20623166095696402, -0.9785031946902022L 0.20623166095696402, -0.9785031946902022 L 0.18851568801119684, -0.9820701784361773 L 0.17073814978727284, -0.9853164386161528 \", \"type\": \"path\"}, {\"fillcolor\": \"#d4e5d6\", \"layer\": \"below\", \"line\": {\"color\": \"rgb(175,175,175)\", \"width\": 0.5}, \"path\": \"M 0.07223854700569556,-0.9973873832801906 Q 0.11995461397608553, -0.1600340294620126 0.9370671855165481, -0.34914909398148974L 0.9370671855165481, -0.34914909398148974 L 0.9344353741061003, -0.35613274437938486 L 0.9317515166971663, -0.36309655896542226 M 0.9317515166971663,-0.36309655896542226 Q 0.12014988000238114, -0.15988748023348612 0.08954905740343691, -0.9959824126550408L 0.08954905740343691, -0.9959824126550408 L 0.08089685235363574, -0.9967224785662627 L 0.07223854700569556, -0.9973873832801906 \", \"type\": \"path\"}, {\"fillcolor\": \"#d4e5d6\", \"layer\": \"below\", \"line\": {\"color\": \"rgb(175,175,175)\", \"width\": 0.5}, \"path\": \"M -0.004914093554632123,-0.9999879257693747 Q 0.12173333618972748, -0.1586852068093267 0.9671253140507802, -0.2543002692137384L 0.9671253140507802, -0.2543002692137384 L 0.9670512584606347, -0.2545817422944992 L 0.9669771209502949, -0.254863193809304 M 0.9669771209502949,-0.254863193809304 Q 0.12174301494740564, -0.15867778140469374 -0.0042100069444350185, -0.9999911378814953L -0.0042100069444350185, -0.9999911378814953 L -0.004562050532237163, -0.9999895937933261 L -0.004914093554632123, -0.9999879257693747 \", \"type\": \"path\"}, {\"fillcolor\": \"#d4e5d6\", \"layer\": \"below\", \"line\": {\"color\": \"rgb(175,175,175)\", \"width\": 0.5}, \"path\": \"M 0.03122430023537486,-0.9995124026618235 Q 0.1384079602375025, -0.14437186894576773 0.9973071575096498, -0.07333780457596605L 0.9973071575096498, -0.07333780457596605 L 0.9970107481109111, -0.07726298047138326 L 0.9966988901658833, -0.08118695918739946 M 0.9966988901658833,-0.08118695918739946 Q 0.1386019214941326, -0.1441856697391745 0.04177862213436686, -0.9991268922076684L 0.04177862213436686, -0.9991268922076684 L 0.03650197012776433, -0.999333581031275 L 0.03122430023537486, -0.9995124026618235 \", \"type\": \"path\"}, {\"fillcolor\": \"#c6decd\", \"layer\": \"below\", \"line\": {\"color\": \"rgb(175,175,175)\", \"width\": 0.5}, \"path\": \"M 0.6869292136099705,-0.7267243325286333 Q 0.16513223303797572, -0.11283326465139476 0.9266838001243068, -0.37584190105305426L 0.9266838001243068, -0.37584190105305426 L 0.9242386100859742, -0.38181538945719123 L 0.9217549148641158, -0.38777297085259405 M 0.9217549148641158,-0.38777297085259405 Q 0.1652277786046251, -0.11269330582328747 0.6974685170422555, -0.7166154252699818L 0.6974685170422555, -0.7166154252699818 L 0.6922173189542785, -0.7216891182079377 L 0.6869292136099705, -0.7267243325286333 \", \"type\": \"path\"}, {\"fillcolor\": \"#c6decd\", \"layer\": \"below\", \"line\": {\"color\": \"rgb(175,175,175)\", \"width\": 0.5}, \"path\": \"M 0.7247353063063001,-0.6890273839210698 Q 0.1800609028019939, -0.08705211819439496 0.9901448065327901, -0.14004735661962212L 0.9901448065327901, -0.14004735661962212 L 0.9888264700593421, -0.14907116458249423 L 0.987425895735005, -0.15808257472575202 M 0.987425895735005,-0.15808257472575202 Q 0.18020039177184535, -0.08676300366673258 0.7393466313555331, -0.6733250022858392L 0.7393466313555331, -0.6733250022858392 L 0.7320830699067983, -0.6812153688488229 L 0.7247353063063001, -0.6890273839210698 \", \"type\": \"path\"}, {\"fillcolor\": \"#c6decd\", \"layer\": \"below\", \"line\": {\"color\": \"rgb(175,175,175)\", \"width\": 0.5}, \"path\": \"M 0.7102726040393549,-0.7039267205832961 Q 0.1837286724905225, -0.07901756073728372 0.9995065603657314, -0.03141075907813368L 0.9995065603657314, -0.03141075907813368 L 0.9992248611624897, -0.03936593495400774 L 0.9988798468976258, -0.04731861643978661 M 0.9988798468976258,-0.04731861643978661 Q 0.18391952964860858, -0.07857230182344536 0.7247353063063001, -0.6890273839210698L 0.7247353063063001, -0.6890273839210698 L 0.7175426281740304, -0.6965145919168565 L 0.7102726040393549, -0.7039267205832961 \", \"type\": \"path\"}, {\"fillcolor\": \"#b8d7c5\", \"layer\": \"below\", \"line\": {\"color\": \"rgb(175,175,175)\", \"width\": 0.5}, \"path\": \"M 0.9073262311287116,-0.4204272949105088 Q 0.1881404195944576, -0.06784675758517454 0.9668286001941614, -0.25542603204567543L 0.9668286001941614, -0.25542603204567543 L 0.9668038148829275, -0.2555198300089797 L 0.966779020471779, -0.2556136255672369 M 0.966779020471779,-0.2556136255672369 Q 0.18814067982048932, -0.06784603596883258 0.9074110152818033, -0.4202442734235017L 0.9074110152818033, -0.4202442734235017 L 0.9073686278198186, -0.4203357863046868 L 0.9073262311287116, -0.4204272949105088 \", \"type\": \"path\"}, {\"fillcolor\": \"#b8d7c5\", \"layer\": \"below\", \"line\": {\"color\": \"rgb(175,175,175)\", \"width\": 0.5}, \"path\": \"M 0.9074957625166808,-0.42006123483876495 Q 0.19275466270016642, -0.05334454055800908 0.9943375195488665, -0.10626804419677414L 0.9943375195488665, -0.10626804419677414 L 0.994290945704342, -0.10670293009268936 L 0.9942441816570647, -0.1071377955768819 M 0.9942441816570647,-0.1071377955768819 Q 0.19275823057781874, -0.05333164674476559 0.9079189447972276, -0.41914578570980393L 0.9079189447972276, -0.41914578570980393 L 0.9077074690640635, -0.4196035636232278 L 0.9074957625166808, -0.42006123483876495 \", \"type\": \"path\"}, {\"fillcolor\": \"#aad0bc\", \"layer\": \"below\", \"line\": {\"color\": \"rgb(175,175,175)\", \"width\": 0.5}, \"path\": \"M 0.9699731185116823,-0.24321214888389509 Q 0.19714818086378394, -0.033654045553257676 0.9957274038946826, -0.09234141613141787L 0.9957274038946826, -0.09234141613141787 L 0.9955396057465681, -0.0943445461591061 L 0.9953477778551766, -0.09634729429912416 M 0.9953477778551766,-0.09634729429912416 Q 0.19715556267606726, -0.033610773657910833 0.9710488625648571, -0.23888094631321527L 0.9710488625648571, -0.23888094631321527 L 0.9705134067000314, -0.24104714770247648 L 0.9699731185116823, -0.24321214888389509 \", \"type\": \"path\"}, {\"fillcolor\": \"#f2e6ce\", \"layer\": \"below\", \"line\": {\"color\": \"rgb(150,150,150)\", \"width\": 0.45}, \"path\": \"M 1.1, 0.0 L 1.0997034182922274, 0.02554196148283269 L 1.098813833097472, 0.05107014973192638 L 1.0973317241151814, 0.07657079894061337 L 1.0952578905570156, 0.10203015815236338 L 1.0925934507158812, 0.12743449867584222 L 1.0893398413629023, 0.15277012148796393 L 1.0854988169726572, 0.17802336462094462 L 1.0810724487770977, 0.20318061052937492 L 1.0760631236486577, 0.2282282934333378 L 1.0704735428131578, 0.25315290663361245 L 1.064306720393198, 0.2779410097950198 L 1.0575659817828233, 0.30257923619398164 L 0.9614236198025665, 0.27507203290361965 L 0.9675515639938163, 0.2526736452681998 L 0.9731577661937798, 0.23013900603055676 L 0.9782392033169615, 0.2074802667575798 L 0.9827931352519069, 0.18470964593579536 L 0.9868171063387792, 0.1618394223826769 L 0.9903089466935474, 0.13888192862542173 L 0.9932667733780738, 0.11584954425076564 L 0.9956889914154687, 0.09275468922942125 L 0.9975742946501648, 0.06960981721873942 L 0.9989216664522471, 0.0464274088472058 L 0.9997303802656612, 0.02321996498439335 L 1.0, 0.0 L 1.1 ,0.0\", \"type\": \"path\"}, {\"fillcolor\": \"#ecd5bb\", \"layer\": \"below\", \"line\": {\"color\": \"rgb(150,150,150)\", \"width\": 0.45}, \"path\": \"M 1.0475398933214244, 0.33564888186934133 L 1.0403951843627621, 0.3571804310915903 L 1.0328079596681192, 0.37856005923258285 L 1.0247814463442435, 0.39977867280359075 L 1.016319058342395, 0.4208272468009021 L 1.0074243950062767, 0.4416968285444643 L 0.9981012395411077, 0.4623785414857661 L 0.9883535574045, 0.48286358898333803 L 0.97818549461981, 0.503143258044265 L 0.9676013760126948, 0.5232089230301217 L 0.9566057033716148, 0.5430520493257516 L 0.9452031535330684, 0.5626641969693318 L 0.9333985763923743, 0.5820370242421775 L 0.9211969928408436, 0.6011622912167621 L 0.908603592630223, 0.6200318632614392 L 0.8956237321653158, 0.6386377145003816 L 0.8822629322257188, 0.656971931227261 L 0.8685268756176459, 0.6750267152712183 L 0.8544214047568357, 0.6927943873136935 L 0.8399525191835714, 0.7102673901547024 L 0.8251263730108718, 0.7274382919271737 L 0.8099492723069344, 0.7442997892579761 L 0.7944276724129498, 0.7608447103742938 L 0.7785681751974235, 0.7770660181540269 L 0.7623775262481741, 0.7929568131189206 L 0.7458626120032049, 0.8085103363691504 L 0.729030456821665, 0.8237199724581131 L 0.7118882199961483, 0.8385792522062036 L 0.6944431927076015, 0.8530818554523788 L 0.6767027949241344, 0.8672216137423381 L 0.6586745722450539, 0.8809925129521792 L 0.6403661926914607, 0.8943886958464107 L 0.6217854434447789, 0.907404464569235 L 0.6029402275345989, 0.9200342830680421 L 0.583838560477249, 0.9322727794480828 L 0.5644885668665216, 0.944114748257319 L 0.5448984769180042, 0.9555551527004809 L 0.5250766229684876, 0.9665891267813894 L 0.5050314359319371, 0.9772119773726302 L 0.48477144171353515, 0.9874191862117024 L 0.4643052575833223, 0.9972064118227906 L 0.44364158851097657, 1.0065694913633423 L 0.4227892234632916, 1.0155044423946686 L 0.4017570316659277, 1.024007464575812 L 0.38055395883102594, 1.0320749412799606 L 0.359189023352291, 1.039703441132724 L 0.337671312469158, 1.046889719471615 L 0.30697392042650723, 0.9517179267923771 L 0.32653547577481, 0.9451849464842944 L 0.34595814439184175, 0.9382499466181459 L 0.3652336651508433, 0.9309158768871018 L 0.38435383951208324, 0.923185856722426 L 0.40331053500997865, 0.9150631739666747 L 0.4220956887121112, 0.906551283475264 L 0.4407013106486683, 0.8976538056470021 L 0.4591194872108519, 0.8883745248842092 L 0.4773423845168069, 0.8787173879830812 L 0.4953622517436402, 0.8686865024549826 L 0.5131714244241105, 0.8582861347793809 L 0.5307623277065899, 0.8475207085891662 L 0.548127479576908, 0.8363948027891291 L 0.5652594940407081, 0.8249131496083953 L 0.5821510842649642, 0.813080632587646 L 0.5987950656773217, 0.800902284501981 L 0.6151843590219404, 0.7883832852203073 L 0.6313119933705468, 0.7755289595021625 L 0.6471711090874075, 0.7623447747329123 L 0.6627549607469682, 0.7488363385982846 L 0.6780569200029135, 0.7350093966992276 L 0.693070478407431, 0.7208698301081096 L 0.7077892501794758, 0.7064236528672971 L 0.7222069749208634, 0.6916770094311762 L 0.7363175202790312, 0.6766361720527055 L 0.7501148845553379, 0.6613075381156124 L 0.7635931992577921, 0.6456976274133658 L 0.7767467315971233, 0.6298130793760849 L 0.7895698869251325, 0.613660650246562 L 0.8020572111142897, 0.5972472102066009 L 0.8142033928775597, 0.5805797404548924 L 0.8260032660274753, 0.563665330237672 L 0.837451811673494, 0.5465111738334201 L 0.8485441603567039, 0.5291245674928886 L 0.8592755941209712, 0.5115129063357561 L 0.8696415485196497, 0.49368368120522865 L 0.8796376145569952, 0.47564447548192873 L 0.8892595405634636, 0.45740296185842266 L 0.8985032340040908, 0.4389668990757618 L 0.9073647632191888, 0.42034412862342374 L 0.915840359096615, 0.4015425714040584 L 0.9239264166749046, 0.3825702243644564 L 0.931619496676585, 0.3634351570941734 L 0.9389163269710175, 0.3441455083932571 L 0.9458138039661473, 0.32470948281053663 L 0.9523089939285675, 0.30513534715394663 L 1.0475398933214244 ,0.33564888186934133\", \"type\": \"path\"}, {\"fillcolor\": \"#e6c4a9\", \"layer\": \"below\", \"line\": {\"color\": \"rgb(150,150,150)\", \"width\": 0.45}, \"path\": \"M 0.304621091300538, 1.0569796548348835 L 0.28234396701876247, 1.0631471602220024 L 0.2599421660839687, 1.0688452040831613 L 0.23742558062026206, 1.0740712702922146 L 0.2148041534379765, 1.0788230511375787 L 0.19208787364315658, 1.0830984483412627 L 0.16928677222659605, 1.0868955739854222 L 0.14641091763438127, 1.09021275134602 L 0.12347041132189496, 1.0930485156332277 L 0.10047538329324499, 1.0954016146382457 L 0.07743598762808415, 1.097271009286249 L 0.05436239799780139, 1.0986558740952186 L 0.03126480317306034, 1.0995555975404563 L 0.008153402524670752, 1.0999697823246195 L -0.014961598480220939, 1.0998982455531587 L -0.03806999278463303, 1.09934101881508 L -0.06116157624895197, 1.0982983481689954 L -0.08422615215684763, 1.0967706940344695 L -0.1072535357179107, 1.0947587309887084 L -0.13023355856502286, 1.0922633474686823 L -0.153156073244477, 1.089285645378811 L -0.17601095769686045, 1.0858269396043894 L -0.19878811972672542, 1.081888757430963 L -0.2214775014590724, 1.0774728378699143 L -0.24406908378067832, 1.0725811308905542 L -0.266552890764308, 1.067215796559061 L -0.2423208097857345, 0.9701961786900554 L -0.2218809852551621, 0.9750737553550493 L -0.20134318314461128, 0.9795207616999221 L -0.18071647247884126, 0.9835352340281481 L -0.1600099615426004, 0.9871153996403539 L -0.13923279385861545, 0.9902596776171008 L -0.11839414415002077, 0.9929666795169837 L -0.09750321428900972, 0.9952352099897348 L -0.07656922923349783, 0.9970642673040631 L -0.0556014329535927, 0.9984530437899958 L -0.034609084349666384, 0.9994009261955272 L -0.013601453163837216, 0.999907495957417 L 0.007412184113337047, 0.9999725293860177 L 0.02842254833914576, 0.9995959977640512 L 0.049420361816183075, 0.9987780673592895 L 0.0703963523891674, 0.9975190993511354 L 0.09134125753931362, 0.9958196496711323 L 0.11224582847444996, 0.9936804687574796 L 0.13310083421307387, 0.9911025012236544 L 0.15389706566054184, 0.988086885441293 L 0.17462533967559687, 0.9846349530375115 L 0.19527650312543318, 0.9807482283068896 L 0.21584143692751095, 0.9764284275383769 L 0.23631106007633518, 0.9716774582574192 L 0.2566763336534204, 0.9664974183836386 L 0.2769282648186709, 0.9608905953044394 L 0.304621091300538 ,1.0569796548348835\", \"type\": \"path\"}, {\"fillcolor\": \"#e1b396\", \"layer\": \"below\", \"line\": {\"color\": \"rgb(150,150,150)\", \"width\": 0.45}, \"path\": \"M -0.2999434212734655, 1.058316561353345 L -0.32305799184789286, 1.0514911002491685 L -0.34601747581893316, 1.0441608623329521 L -0.36881085130050334, 1.0363293665447286 L -0.3914271761482439, 1.0280003724574285 L -0.4138555932123855, 1.0191778784720678 L -0.43608533554981055, 1.009866119898281 L -0.45810573159281254, 1.0000695669211288 L -0.47990621027206687, 0.9897929224551482 L -0.5014763060913603, 0.97904111988668 L -0.5228056641516343, 0.9678193207055584 L -0.5438840451219412, 0.9561329120272947 L -0.5647013301549163, 0.9439875040069484 L -0.5852475257444113, 0.9313889271459291 L -0.6055127685229609, 0.9183432294930144 L -0.6254873299967686, 0.9048566737409377 L -0.6451616212159517, 0.8909357342199296 L -0.6645261973777936, 0.8765870937896644 L -0.683571762360796, 0.8618176406310999 L -0.6214288748734509, 0.7834705823919089 L -0.6041147248889033, 0.7968973579906039 L -0.5865105647417742, 0.8099415765635722 L -0.5686248454516077, 0.8225969761281251 L -0.5504661532026917, 0.8348574813572858 L -0.5320432052221921, 0.8467172064962991 L -0.5133648455953784, 0.8581704581881349 L -0.49444004101994654, 0.8692117382066314 L -0.47527787650148573, 0.8798357460959622 L -0.45588755099214573, 0.8900373817151636 L -0.4362783729746062, 0.8998117476864983 L -0.4164597559934659, 0.9091541517464807 L -0.3964412141361914, 0.9180601089984373 L -0.37623235746580497, 0.926525344065516 L -0.3558428874074944, 0.9345457931431168 L -0.3352825920913666, 0.9421176059497531 L -0.3145613416535756, 0.949237147575411 L -0.29368908349808437, 0.9559010002265168 L -0.2726758375213323, 0.9621059648666772 L -0.2999434212734655 ,1.058316561353345\", \"type\": \"path\"}, {\"fillcolor\": \"#dba284\", \"layer\": \"below\", \"line\": {\"color\": \"rgb(150,150,150)\", \"width\": 0.45}, \"path\": \"M -0.7103048072395247, 0.8399208777095744 L -0.7302780737572663, 0.8226140863061955 L -0.7498297969713993, 0.8048324518642562 L -0.7689486909097829, 0.7865862385957 L -0.7876237194452191, 0.7678859788844167 L -0.7160215631320174, 0.6980781626221969 L -0.6990442644634389, 0.7150783987233635 L -0.6816634517921811, 0.731665865331142 L -0.6638891579611511, 0.7478309875510868 L -0.6457316429450224, 0.7635644342814312 L -0.7103048072395247 ,0.8399208777095744\", \"type\": \"path\"}, {\"fillcolor\": \"#d59171\", \"layer\": \"below\", \"line\": {\"color\": \"rgb(150,150,150)\", \"width\": 0.45}, \"path\": \"M -0.811354956167366, 0.7427672146121231 L -0.8396651428334805, 0.7106070981283756 L -0.866701439674064, 0.6773688909795792 L -0.8924228288336544, 0.6431030201892527 L -0.9167902873562214, 0.607861471890839 L -0.833445715778383, 0.5526013380825808 L -0.8112934807578676, 0.5846391092629569 L -0.7879103997036945, 0.6157899008905265 L -0.7633319480304367, 0.6460064528439778 L -0.7375954146976054, 0.6752429223746573 L -0.811354956167366 ,0.7427672146121231\", \"type\": \"path\"}, {\"fillcolor\": \"#d0805f\", \"layer\": \"below\", \"line\": {\"color\": \"rgb(150,150,150)\", \"width\": 0.45}, \"path\": \"M -0.935431296938567, 0.5787644501071492 L -0.9694880726630949, 0.5197046054866147 L -0.9998207889324618, 0.4586484383691607 L -1.0263129297811717, 0.39583048160037904 L -1.0488627319071304, 0.3314920355247038 L -0.9535115744610275, 0.3013563959315489 L -0.9330117543465196, 0.3598458923639809 L -0.9089279899386016, 0.41695312579014604 L -0.8813527933300862, 0.4724587322605588 L -0.8503920881259699, 0.5261495000974082 L -0.935431296938567 ,0.5787644501071492\", \"type\": \"path\"}, {\"fillcolor\": \"#ca6f4c\", \"layer\": \"below\", \"line\": {\"color\": \"rgb(150,150,150)\", \"width\": 0.45}, \"path\": \"M -1.0587575979284851, 0.29838288963796944 L -1.0628175670147402, 0.28358212081312234 L -1.0666706414397258, 0.26872614813330686 L -1.07031607114007, 0.2538178635543304 L -1.0737531464738115, 0.2388601692153588 L -0.9761392240671012, 0.2171456083775989 L -0.9730146101273364, 0.2307435123221185 L -0.9697005831270235, 0.24429649830300623 L -0.9661977881952183, 0.25780192801192936 L -0.9625069072077136, 0.271257172398154 L -1.0587575979284851 ,0.29838288963796944\", \"type\": \"path\"}, {\"fillcolor\": \"#c45e3a\", \"layer\": \"below\", \"line\": {\"color\": \"rgb(150,150,150)\", \"width\": 0.45}, \"path\": \"M -1.0807260933425054, 0.205014904747549 L -1.085591256021984, 0.1774587976083785 L -1.0897539165862657, 0.14978785426360242 L -1.0932113813162967, 0.12201998098882991 L -1.0959614128356496, 0.0941731467844576 L -0.9963285571233177, 0.08561195162223417 L -0.9938285284693607, 0.11092725544439082 L -0.990685378714787, 0.13617077660327492 L -0.9869011418381671, 0.16132617964398044 L -0.9824782666750048, 0.18637718613413543 L -1.0807260933425054 ,0.205014904747549\", \"type\": \"path\"}, {\"fillcolor\": \"#bf4d28\", \"layer\": \"below\", \"line\": {\"color\": \"rgb(150,150,150)\", \"width\": 0.45}, \"path\": \"M -1.0983786720622035, 0.05970169812384486 L -1.0998007533749488, 0.02093568427101366 L -1.0998550587138947, -0.017856366412445757 L -1.098541520541774, -0.05662620988347751 L -1.0958617724508046, -0.09532562971720249 L -0.9962379749552768, -0.08665966337927498 L -0.9986741095834307, -0.05147837262134319 L -0.9998682351944496, -0.016233060374950686 L -0.9998188667044987, 0.019032440246376053 L -0.998526065511094, 0.054274271021677145 L -1.0983786720622035 ,0.05970169812384486\", \"type\": \"path\"}, {\"fillcolor\": \"#af4624\", \"layer\": \"below\", \"line\": {\"color\": \"rgb(150,150,150)\", \"width\": 0.45}, \"path\": \"M -1.0923267804295798, -0.12970044239072112 L -1.0866683865869684, -0.17073903359359607 L -1.0794687346995728, -0.21153545992599812 L -1.0707380362739831, -0.2520318584547092 L -1.0604886743511999, -0.29217079178595995 L -0.9640806130465454, -0.265609810714509 L -0.97339821479453, -0.22911987132246292 L -0.9813352133632479, -0.1923049635690892 L -0.9878803514426985, -0.1552173032669055 L -0.9930243458450725, -0.11790949308247373 L -1.0923267804295798 ,-0.12970044239072112\", \"type\": \"path\"}, {\"fillcolor\": \"#9f4021\", \"layer\": \"below\", \"line\": {\"color\": \"rgb(150,150,150)\", \"width\": 0.45}, \"path\": \"M -1.0507880808571275, -0.32533737739244617 L -1.0381058383029147, -0.3637805224052034 L -1.024017678995732, -0.4017309959465336 L -1.008542682665659, -0.43913740132395507 L -0.9917018072495349, -0.4759490786817496 L -0.9015470974995772, -0.43268098061977234 L -0.916856984241508, -0.3992158193854137 L -0.9309251627233928, -0.36520999631503054 L -0.943732580275377, -0.33070956582291217 L -0.9552618916882977, -0.29576125217495103 L -1.0507880808571275 ,-0.32533737739244617\", \"type\": \"path\"}, {\"fillcolor\": \"#8f391e\", \"layer\": \"below\", \"line\": {\"color\": \"rgb(150,150,150)\", \"width\": 0.45}, \"path\": \"M -0.9762625404285331, -0.5068643330872938 L -0.9650338083831672, -0.5279296815651502 L -0.9533506065622314, -0.5487464086146038 L -0.9412184370134921, -0.5693047108762399 L -0.9286430132200667, -0.5895949066923453 L -0.9156302574097351, -0.6096074406663541 L -0.9021862977659476, -0.6293328881628333 L -0.8883174655418355, -0.6487619597458916 L -0.874030292078596, -0.6678855055539118 L -0.8593315057296403, -0.6866945196085588 L -0.8442280286919683, -0.7051801440560229 L -0.8287269737462521, -0.7233336733385077 L -0.8128356409071654, -0.7411465582939974 L -0.7965615139855404, -0.7586104101823701 L -0.779912257063968, -0.7757170046359608 L -0.7628957108874982, -0.7924582855327207 L -0.745519889171147, -0.8088263687901383 L -0.7277929748259464, -0.8248135460781421 L -0.7097233161053083, -0.8404122884492378 L -0.691319422673528, -0.8556152498841638 L -0.62847220243048, -0.7778320453492398 L -0.6452030146411892, -0.7640111713174889 L -0.6616299771144967, -0.7498304964346746 L -0.6777453537919518, -0.7352966989001256 L -0.693541555352271, -0.7204166232115642 L -0.7090111427854254, -0.7051972769417825 L -0.7241468308959458, -0.6896458274385182 L -0.7389414917337866, -0.6737695984490886 L -0.7533881579511382, -0.6575760666713706 L -0.7674800260836075, -0.6410728582327481 L -0.7812104597542184, -0.6242677450986898 L -0.7945729927987235, -0.607168641412647 L -0.8075613323107595, -0.5897835997689923 L -0.8201693616054069, -0.5721208074207574 L -0.8323911430997591, -0.5541885824239582 L -0.8442209211091515, -0.5359953697203138 L -0.85565312455772, -0.517549737160218 L -0.8666823696020285, -0.4988603714678216 L -0.8773034621665156, -0.47993607415013645 L -0.8875114003895754, -0.46078575735208527 L -0.9762625404285331 ,-0.5068643330872938\", \"type\": \"path\"}, {\"fillcolor\": \"#f0f3e7\", \"layer\": \"below\", \"line\": {\"color\": \"rgb(150,150,150)\", \"width\": 0.45}, \"path\": \"M -0.6641027737927575, -0.8769079232398154 L -0.6455300513591189, -0.890668823296456 L -0.6266722775851746, -0.9040364243249328 L -0.6075377796335055, -0.9170048234976684 L -0.588135006861778, -0.9295682942655137 L -0.5684725270916937, -0.9417212888864644 L -0.5485590228256417, -0.953458440875415 L -0.5284032874126976, -0.9647745673738785 L -0.5080142211656867, -0.9756646714386151 L -0.4874008274310033, -0.9861239442481728 L -0.4665722086129446, -0.9961477672263485 L -0.4455375621542897, -1.0057317140816495 L -0.42430617647492624, -1.0148715527618404 L -0.4028874268702888, -1.023563247322723 L -0.3812907713714492, -1.0318029597103147 L -0.359525746568659, -1.0395870514556482 L -0.3376019634002162, -1.0469120852814335 L -0.31552910290848646, -1.0537748266198836 L -0.29331691196498344, -1.0601722450410247 L -0.270975198966365, -1.0661015155908649 L -0.24851382950327697, -1.0715600200388293 L -0.22594272200392548, -1.076545348033912 L -0.20327184335433324, -1.0810552981690305 L -0.18051120449718236, -1.0850878789531182 L -0.1576708560112183, -1.0886413096905196 L -0.13476088367313568, -1.0917140212673078 L -0.12250989424830516, -0.9924672920611888 L -0.14333714182838025, -0.9896739179004723 L -0.1641010949974385, -0.9864435263210164 L -0.18479258486757566, -0.9827775437900277 L -0.20540247454902316, -0.9786775891217382 L -0.22592166318479723, -0.974145472762572 L -0.24634108996942272, -0.9691831959916952 L -0.26665173814998494, -0.963792950037295 L -0.28684463900771495, -0.9579771151089851 L -0.30691087581837834, -0.9517382593467576 L -0.32684158778968997, -0.9450791376869528 L -0.34662797397404466, -0.9380026906457406 L -0.36626129715480793, -0.9305120430206573 L -0.3857328877044784, -0.9226105025107639 L -0.4050341474129906, -0.9143015582560449 L -0.42415655328449503, -0.9055888792966803 L -0.4430916613009121, -0.8964763129528843 L -0.4618311101506243, -0.8869678831260137 L -0.48036662492063414, -0.8770677885217076 L -0.4986900207505834, -0.8667804007958317 L -0.5167932064469942, -0.8561102626240585 L -0.5346681880561618, -0.8450620856959214 L -0.5523070723940959, -0.833640748634244 L -0.5697020705319769, -0.821851294840848 L -0.5868455012355626, -0.8096989302695055 L -0.6037297943570522, -0.7971890211271048 L -0.6641027737927575 ,-0.8769079232398154\", \"type\": \"path\"}, {\"fillcolor\": \"#e2ecde\", \"layer\": \"below\", \"line\": {\"color\": \"rgb(150,150,150)\", \"width\": 0.45}, \"path\": \"M -0.1004028212077405, -1.0954082679501405 L -0.08531207237709046, -1.0966867603407668 L -0.07020515195617949, -1.0977573669253191 L -0.055084923583414075, -1.0986198847616995 L -0.03995425341983312, -1.0992741503527061 L -0.03632204856348465, -0.9993401366842782 L -0.05007720325764915, -0.998745349783363 L -0.06382286541470862, -0.997961242659381 L -0.0775564294337186, -0.9969879639461515 L -0.09127529200703681, -0.9958256981364912 L -0.1004028212077405 ,-1.0954082679501405\", \"type\": \"path\"}, {\"fillcolor\": \"#d4e5d6\", \"layer\": \"below\", \"line\": {\"color\": \"rgb(150,150,150)\", \"width\": 0.45}, \"path\": \"M -0.005405502910095335, -1.0999867183463121 L 0.01761906095386568, -1.0998588858081313 L 0.04063590523912038, -1.0992491633862622 L 0.06363494539340805, -1.098157818223218 L 0.08660610466512995, -1.0965853284786975 L 0.1095393185183592, -1.0945323831200855 L 0.13242453904249854, -1.0919998816205898 L 0.15525173935464515, -1.0889889335651477 L 0.17801091799275215, -1.085500858164275 L 0.2006921032976464, -1.0815371836760708 L 0.22328535778199435, -1.0770996467366272 L 0.2457807824842864, -1.0721901915991454 L 0.26816852130595004, -1.0668109692820844 L 0.29043876532968327, -1.0609643366267167 L 0.3125817571171076, -1.0546528552645091 L 0.3345877949838746, -1.0478792904947731 L 0.3564472372503443, -1.0406466100730818 L 0.37815050646596543, -1.0329579829109865 L 0.39968809360552215, -1.024816777687594 L 0.42105056223540144, -1.0162265613736203 L 0.442228552648047, -1.0071910976685674 L 0.46321278596280485, -0.9977143453517028 L 0.4839940681913554, -0.987800456547567 L 0.5045632942659428, -0.9774537749067727 L 0.5249114520286535, -0.9666788337028854 L 0.5450296261799866, -0.9554803538462234 L 0.5649090021849797, -0.94386324181545 L 0.5845408701351934, -0.9318325875078586 L 0.6039166285648547, -0.9193936620092937 L 0.6230277882194807, -0.9065519152846913 L 0.6418659757753458, -0.8933129737902408 L 0.6604229375081514, -0.8796826380082221 L 0.6786905429092979, -0.865666879905592 L 0.6169914026448162, -0.7869698908232654 L 0.6003844886437739, -0.7997114890983836 L 0.5835145234321325, -0.8121027034456734 L 0.566388898381346, -0.8241381048042647 L 0.5490151168771407, -0.8358124200084488 L 0.531400791031994, -0.8471205340980532 L 0.5135536383499816, -0.8580574925594999 L 0.49548147834544237, -0.8686185034965667 L 0.4771922291169577, -0.8787989397298958 L 0.45869390387812975, -0.8885943408243387 L 0.43999460744668667, -0.8980004150432427 L 0.42110253269345893, -0.9070130412288206 L 0.40202595695277, -0.9156282706077885 L 0.38277323839581945, -0.923842328521473 L 0.36335281236865646, -0.9316516160796309 L 0.3437731876963322, -0.9390527117372605 L 0.3240429429548584, -0.9460423727937107 L 0.30417072271261325, -0.95261753681343 L 0.2841652337428251, -0.9587753229677355 L 0.26403524120880295, -0.9645130332970152 L 0.2437895648235909, -0.969828153892804 L 0.22343707498571488, -0.974718355999223 L 0.20298668889272212, -0.9791814970332973 L 0.18244736663422398, -0.9832156215237007 L 0.1618281072661383, -0.9868189619675228 L 0.14113794486785922, -0.9899899396046796 L 0.12038594458408958, -0.992727165109627 L 0.09958119865305382, -0.9950294392000777 L 0.0787328224228454, -0.9968957531624522 L 0.05784995035764368, -0.9983252892938345 L 0.03694173203556398, -0.9993174212602383 L 0.016017328139877888, -0.9998717143710284 L -0.004914093554632123, -0.9999879257693747 L -0.005405502910095335 ,-1.0999867183463121\", \"type\": \"path\"}, {\"fillcolor\": \"#c6decd\", \"layer\": \"below\", \"line\": {\"color\": \"rgb(150,150,150)\", \"width\": 0.45}, \"path\": \"M 0.7055469039026527, -0.8439215404250452 L 0.72355441777568, -0.8285342506603436 L 0.7412264420435567, -0.8127627954178576 L 0.7585547827400817, -0.796614487429238 L 0.7755314052544017, -0.7800968141609944 L 0.7921484380564088, -0.7632174343427908 L 0.8083981763465238, -0.7459841744163308 L 0.8242730856281717, -0.7284050249064822 L 0.8397658052012917, -0.7104881367163186 L 0.8548691515752653, -0.692241817347801 L 0.8695761217996756, -0.6736745270498476 L 0.8838798967113571, -0.654794874895582 L 0.8977738440962308, -0.6356116147905706 L 0.9112515217644518, -0.6161336414139151 L 0.9243066805374536, -0.5963699860940641 L 0.9369332671454964, -0.5763298126212681 L 0.9491254270343806, -0.5560224129986172 L 0.9608775070800195, -0.5354572031336278 L 0.9721840582096174, -0.5146437184723811 L 0.983039837928234, -0.49359160957823384 L 0.8936725799347581, -0.4487196450711216 L 0.8838036892814702, -0.4678579258839828 L 0.8735250064363813, -0.48677927557602524 L 0.8628412973039823, -0.5054749209078337 L 0.8517575155868149, -0.5239361932920619 L 0.840278800488594, -0.5421545328127855 L 0.8284104743313198, -0.5601214921944683 L 0.8161580400874825, -0.5778287407187005 L 0.8035271788285064, -0.5952680680868927 L 0.7905237470906141, -0.6124313882271342 L 0.7771537741593321, -0.6293107430434554 L 0.7634234592739015, -0.6458983061057442 L 0.7493391687528833, -0.6621863862786201 L 0.7349074330422943, -0.6781674312875734 L 0.7201349436876443, -0.6938340312207188 L 0.7050285502312742, -0.7091789219645404 L 0.6895952570364379, -0.7241949885720345 L 0.6738422200395969, -0.7388752685616886 L 0.6577767434324363, -0.7532129551457668 L 0.6414062762751388, -0.7672014003864046 L 0.7055469039026527 ,-0.8439215404250452\", \"type\": \"path\"}, {\"fillcolor\": \"#b8d7c5\", \"layer\": \"below\", \"line\": {\"color\": \"rgb(150,150,150)\", \"width\": 0.45}, \"path\": \"M 0.9980588542415828, -0.4624700244015597 L 1.0140594164151353, -0.4262434749996714 L 1.0287455724802532, -0.38946443624839017 L 1.0420982864978885, -0.35218058049552453 L 1.0541002509132917, -0.3144402344238658 L 0.9582729553757197, -0.2858547585671507 L 0.9473620786344441, -0.32016416408684045 L 0.935223247709321, -0.3540585784076274 L 0.9218721967410319, -0.38749406818151944 L 0.9073262311287116, -0.4204272949105088 L 0.9980588542415828 ,-0.4624700244015597\", \"type\": \"path\"}, {\"fillcolor\": \"#aad0bc\", \"layer\": \"below\", \"line\": {\"color\": \"rgb(150,150,150)\", \"width\": 0.45}, \"path\": \"M 1.063456922518957, -0.2811749881239606 L 1.0712860005278417, -0.24969242093636201 L 1.0781832841558274, -0.21799267365430974 L 1.084142774211172, -0.18610331841668992 L 1.089159287186069, -0.15405209228158626 L 0.9901448065327899, -0.14004735661962386 L 0.9855843401919745, -0.16918483492426356 L 0.980166621959843, -0.1981751578675543 L 0.9738963641162196, -0.22699310994214728 L 0.966779020471779, -0.2556136255672369 L 1.063456922518957 ,-0.2811749881239606\", \"type\": \"path\"}, {\"fillcolor\": \"#9cc9b4\", \"layer\": \"below\", \"line\": {\"color\": \"rgb(150,150,150)\", \"width\": 0.45}, \"path\": \"M 1.0934607459818784, -0.11976475690600519 L 1.0955801816360309, -0.09850921584482111 L 1.0972864748789797, -0.07721652703704286 L 1.0985789822689056, -0.055894719938610456 L 1.0994572164023046, -0.03455183498594511 L 0.9995065603657315, -0.031410759078131914 L 0.998708165699005, -0.050813381762373135 L 0.9975331589808906, -0.07019684276094805 L 0.9959819833054826, -0.089553832586201 L 0.9940552236198893, -0.10887705173273197 L 1.0934607459818784 ,-0.11976475690600519\", \"type\": \"path\"}], \"showlegend\": false, \"title\": \"Data Jobs \\u2012 Technologies in Demand and Relationships Between Them\", \"titlefont\": {\"color\": \"#655643\", \"family\": \"Merryweather\", \"size\": 18}, \"width\": 960, \"xaxis\": {\"showgrid\": false, \"showline\": false, \"showticklabels\": false, \"title\": \"\", \"zeroline\": false}, \"yaxis\": {\"showgrid\": false, \"showline\": false, \"showticklabels\": false, \"title\": \"\", \"zeroline\": false}}, {\"showLink\": true, \"linkText\": \"Export to plot.ly\", \"plotlyServerURL\": \"https://plot.ly\"})});</script>"
      ],
      "text/vnd.plotly.v1+html": [
       "<div id=\"aa666a16-cba1-4031-894e-372685f44728\" style=\"height: 525px; width: 960px;\" class=\"plotly-graph-div\"></div><script type=\"text/javascript\">require([\"plotly\"], function(Plotly) { window.PLOTLYENV=window.PLOTLYENV || {};window.PLOTLYENV.BASE_URL=\"https://plot.ly\";Plotly.newPlot(\"aa666a16-cba1-4031-894e-372685f44728\", [{\"hoverinfo\": \"text\", \"line\": {\"color\": \"#f2e6ce\", \"shape\": \"spline\", \"width\": 0.25}, \"mode\": \"lines\", \"text\": \"Power BI<br>1262\", \"x\": [1.1, 1.0997034182922274, 1.098813833097472, 1.0973317241151814, 1.0952578905570156, 1.0925934507158812, 1.0893398413629023, 1.0854988169726572, 1.0810724487770977, 1.0760631236486577, 1.0704735428131578, 1.064306720393198, 1.0575659817828233], \"y\": [0.0, 0.02554196148283269, 0.05107014973192638, 0.07657079894061337, 0.10203015815236338, 0.12743449867584222, 0.15277012148796393, 0.17802336462094462, 0.20318061052937492, 0.2282282934333378, 0.25315290663361245, 0.2779410097950198, 0.30257923619398164], \"type\": \"scatter\", \"uid\": \"c629e4c0-7c9b-4805-a250-97d91aa54167\"}, {\"hoverinfo\": \"text\", \"line\": {\"color\": \"#ecd5bb\", \"shape\": \"spline\", \"width\": 0.25}, \"mode\": \"lines\", \"text\": \"Excel<br>3989\", \"x\": [1.0475398933214244, 1.0403951843627621, 1.0328079596681192, 1.0247814463442435, 1.016319058342395, 1.0074243950062767, 0.9981012395411077, 0.9883535574045, 0.97818549461981, 0.9676013760126948, 0.9566057033716148, 0.9452031535330684, 0.9333985763923743, 0.9211969928408436, 0.908603592630223, 0.8956237321653158, 0.8822629322257188, 0.8685268756176459, 0.8544214047568357, 0.8399525191835714, 0.8251263730108718, 0.8099492723069344, 0.7944276724129498, 0.7785681751974235, 0.7623775262481741, 0.7458626120032049, 0.729030456821665, 0.7118882199961483, 0.6944431927076015, 0.6767027949241344, 0.6586745722450539, 0.6403661926914607, 0.6217854434447789, 0.6029402275345989, 0.583838560477249, 0.5644885668665216, 0.5448984769180042, 0.5250766229684876, 0.5050314359319371, 0.48477144171353515, 0.4643052575833223, 0.44364158851097657, 0.4227892234632916, 0.4017570316659277, 0.38055395883102594, 0.359189023352291, 0.337671312469158], \"y\": [0.33564888186934133, 0.3571804310915903, 0.37856005923258285, 0.39977867280359075, 0.4208272468009021, 0.4416968285444643, 0.4623785414857661, 0.48286358898333803, 0.503143258044265, 0.5232089230301217, 0.5430520493257516, 0.5626641969693318, 0.5820370242421775, 0.6011622912167621, 0.6200318632614392, 0.6386377145003816, 0.656971931227261, 0.6750267152712183, 0.6927943873136935, 0.7102673901547024, 0.7274382919271737, 0.7442997892579761, 0.7608447103742938, 0.7770660181540269, 0.7929568131189206, 0.8085103363691504, 0.8237199724581131, 0.8385792522062036, 0.8530818554523788, 0.8672216137423381, 0.8809925129521792, 0.8943886958464107, 0.907404464569235, 0.9200342830680421, 0.9322727794480828, 0.944114748257319, 0.9555551527004809, 0.9665891267813894, 0.9772119773726302, 0.9874191862117024, 0.9972064118227906, 1.0065694913633423, 1.0155044423946686, 1.024007464575812, 1.0320749412799606, 1.039703441132724, 1.046889719471615], \"type\": \"scatter\", \"uid\": \"f4903292-8ce0-45a5-b6d5-32bf2f0d89b2\"}, {\"hoverinfo\": \"text\", \"line\": {\"color\": \"#e6c4a9\", \"shape\": \"spline\", \"width\": 0.25}, \"mode\": \"lines\", \"text\": \"SSIS/SSRS<br>2266\", \"x\": [0.304621091300538, 0.28234396701876247, 0.2599421660839687, 0.23742558062026206, 0.2148041534379765, 0.19208787364315658, 0.16928677222659605, 0.14641091763438127, 0.12347041132189496, 0.10047538329324499, 0.07743598762808415, 0.05436239799780139, 0.03126480317306034, 0.008153402524670752, -0.014961598480220939, -0.03806999278463303, -0.06116157624895197, -0.08422615215684763, -0.1072535357179107, -0.13023355856502286, -0.153156073244477, -0.17601095769686045, -0.19878811972672542, -0.2214775014590724, -0.24406908378067832, -0.266552890764308], \"y\": [1.0569796548348835, 1.0631471602220024, 1.0688452040831613, 1.0740712702922146, 1.0788230511375787, 1.0830984483412627, 1.0868955739854222, 1.09021275134602, 1.0930485156332277, 1.0954016146382457, 1.097271009286249, 1.0986558740952186, 1.0995555975404563, 1.0999697823246195, 1.0998982455531587, 1.09934101881508, 1.0982983481689954, 1.0967706940344695, 1.0947587309887084, 1.0922633474686823, 1.089285645378811, 1.0858269396043894, 1.081888757430963, 1.0774728378699143, 1.0725811308905542, 1.067215796559061], \"type\": \"scatter\", \"uid\": \"1177adaf-01b6-4e3f-a161-644563123b3c\"}, {\"hoverinfo\": \"text\", \"line\": {\"color\": \"#e1b396\", \"shape\": \"spline\", \"width\": 0.25}, \"mode\": \"lines\", \"text\": \"MS SQL Server<br>1733\", \"x\": [-0.2999434212734655, -0.32305799184789286, -0.34601747581893316, -0.36881085130050334, -0.3914271761482439, -0.4138555932123855, -0.43608533554981055, -0.45810573159281254, -0.47990621027206687, -0.5014763060913603, -0.5228056641516343, -0.5438840451219412, -0.5647013301549163, -0.5852475257444113, -0.6055127685229609, -0.6254873299967686, -0.6451616212159517, -0.6645261973777936, -0.683571762360796], \"y\": [1.058316561353345, 1.0514911002491685, 1.0441608623329521, 1.0363293665447286, 1.0280003724574285, 1.0191778784720678, 1.009866119898281, 1.0000695669211288, 0.9897929224551482, 0.97904111988668, 0.9678193207055584, 0.9561329120272947, 0.9439875040069484, 0.9313889271459291, 0.9183432294930144, 0.9048566737409377, 0.8909357342199296, 0.8765870937896644, 0.8618176406310999], \"type\": \"scatter\", \"uid\": \"8f6a5d9e-7588-4cf2-85cd-a67956cade9d\"}, {\"hoverinfo\": \"text\", \"line\": {\"color\": \"#dba284\", \"shape\": \"spline\", \"width\": 0.25}, \"mode\": \"lines\", \"text\": \"PostgreSQL<br>519\", \"x\": [-0.7103048072395247, -0.7302780737572663, -0.7498297969713993, -0.7689486909097829, -0.7876237194452191], \"y\": [0.8399208777095744, 0.8226140863061955, 0.8048324518642562, 0.7865862385957, 0.7678859788844167], \"type\": \"scatter\", \"uid\": \"c2e00fba-8522-41a7-bac4-88899a9c0046\"}, {\"hoverinfo\": \"text\", \"line\": {\"color\": \"#d59171\", \"shape\": \"spline\", \"width\": 0.25}, \"mode\": \"lines\", \"text\": \"MySQL/MariaDB<br>762\", \"x\": [-0.811354956167366, -0.8396651428334805, -0.866701439674064, -0.8924228288336544, -0.9167902873562214], \"y\": [0.7427672146121231, 0.7106070981283756, 0.6773688909795792, 0.6431030201892527, 0.607861471890839], \"type\": \"scatter\", \"uid\": \"6d0bc594-e110-49de-b3b4-1034173de4a7\"}, {\"hoverinfo\": \"text\", \"line\": {\"color\": \"#d0805f\", \"shape\": \"spline\", \"width\": 0.25}, \"mode\": \"lines\", \"text\": \"T-SQL<br>1137\", \"x\": [-0.935431296938567, -0.9694880726630949, -0.9998207889324618, -1.0263129297811717, -1.0488627319071304], \"y\": [0.5787644501071492, 0.5197046054866147, 0.4586484383691607, 0.39583048160037904, 0.3314920355247038], \"type\": \"scatter\", \"uid\": \"5ede971d-4970-4a33-9660-abe311a4ae7b\"}, {\"hoverinfo\": \"text\", \"line\": {\"color\": \"#ca6f4c\", \"shape\": \"spline\", \"width\": 0.25}, \"mode\": \"lines\", \"text\": \"PL/SQL<br>355\", \"x\": [-1.0587575979284851, -1.0628175670147402, -1.0666706414397258, -1.07031607114007, -1.0737531464738115], \"y\": [0.29838288963796944, 0.28358212081312234, 0.26872614813330686, 0.2538178635543304, 0.2388601692153588], \"type\": \"scatter\", \"uid\": \"83e0e5c7-ef94-4b6c-8901-f7c551d0e98c\"}, {\"hoverinfo\": \"text\", \"line\": {\"color\": \"#c45e3a\", \"shape\": \"spline\", \"width\": 0.25}, \"mode\": \"lines\", \"text\": \"Pentaho<br>542\", \"x\": [-1.0807260933425054, -1.085591256021984, -1.0897539165862657, -1.0932113813162967, -1.0959614128356496], \"y\": [0.205014904747549, 0.1774587976083785, 0.14978785426360242, 0.12201998098882991, 0.0941731467844576], \"type\": \"scatter\", \"uid\": \"dc3a6402-a874-462b-8c42-0a8f2f0dcb97\"}, {\"hoverinfo\": \"text\", \"line\": {\"color\": \"#bf4d28\", \"shape\": \"spline\", \"width\": 0.25}, \"mode\": \"lines\", \"text\": \"Hadoop<br>702\", \"x\": [-1.0983786720622035, -1.0998007533749488, -1.0998550587138947, -1.098541520541774, -1.0958617724508046], \"y\": [0.05970169812384486, 0.02093568427101366, -0.017856366412445757, -0.05662620988347751, -0.09532562971720249], \"type\": \"scatter\", \"uid\": \"b2a1252f-236e-4924-be08-3fb204142942\"}, {\"hoverinfo\": \"text\", \"line\": {\"color\": \"#af4624\", \"shape\": \"spline\", \"width\": 0.25}, \"mode\": \"lines\", \"text\": \"Spark<br>741\", \"x\": [-1.0923267804295798, -1.0866683865869684, -1.0794687346995728, -1.0707380362739831, -1.0604886743511999], \"y\": [-0.12970044239072112, -0.17073903359359607, -0.21153545992599812, -0.2520318584547092, -0.29217079178595995], \"type\": \"scatter\", \"uid\": \"c74985a7-7b9d-474c-adbb-2dd63e879edd\"}, {\"hoverinfo\": \"text\", \"line\": {\"color\": \"#9f4021\", \"shape\": \"spline\", \"width\": 0.25}, \"mode\": \"lines\", \"text\": \"Informatica<br>727\", \"x\": [-1.0507880808571275, -1.0381058383029147, -1.024017678995732, -1.008542682665659, -0.9917018072495349], \"y\": [-0.32533737739244617, -0.3637805224052034, -0.4017309959465336, -0.43913740132395507, -0.4759490786817496], \"type\": \"scatter\", \"uid\": \"48cd038c-bd60-4e60-a0f7-31912a19a34f\"}, {\"hoverinfo\": \"text\", \"line\": {\"color\": \"#8f391e\", \"shape\": \"spline\", \"width\": 0.25}, \"mode\": \"lines\", \"text\": \"Qlik<br>1806\", \"x\": [-0.9762625404285331, -0.9650338083831672, -0.9533506065622314, -0.9412184370134921, -0.9286430132200667, -0.9156302574097351, -0.9021862977659476, -0.8883174655418355, -0.874030292078596, -0.8593315057296403, -0.8442280286919683, -0.8287269737462521, -0.8128356409071654, -0.7965615139855404, -0.779912257063968, -0.7628957108874982, -0.745519889171147, -0.7277929748259464, -0.7097233161053083, -0.691319422673528], \"y\": [-0.5068643330872938, -0.5279296815651502, -0.5487464086146038, -0.5693047108762399, -0.5895949066923453, -0.6096074406663541, -0.6293328881628333, -0.6487619597458916, -0.6678855055539118, -0.6866945196085588, -0.7051801440560229, -0.7233336733385077, -0.7411465582939974, -0.7586104101823701, -0.7757170046359608, -0.7924582855327207, -0.8088263687901383, -0.8248135460781421, -0.8404122884492378, -0.8556152498841638], \"type\": \"scatter\", \"uid\": \"f2c8544b-43b6-4264-858f-8f6d3626fbbb\"}, {\"hoverinfo\": \"text\", \"line\": {\"color\": \"#f0f3e7\", \"shape\": \"spline\", \"width\": 0.25}, \"mode\": \"lines\", \"text\": \"Tableau<br>2266\", \"x\": [-0.6641027737927575, -0.6455300513591189, -0.6266722775851746, -0.6075377796335055, -0.588135006861778, -0.5684725270916937, -0.5485590228256417, -0.5284032874126976, -0.5080142211656867, -0.4874008274310033, -0.4665722086129446, -0.4455375621542897, -0.42430617647492624, -0.4028874268702888, -0.3812907713714492, -0.359525746568659, -0.3376019634002162, -0.31552910290848646, -0.29331691196498344, -0.270975198966365, -0.24851382950327697, -0.22594272200392548, -0.20327184335433324, -0.18051120449718236, -0.1576708560112183, -0.13476088367313568], \"y\": [-0.8769079232398154, -0.890668823296456, -0.9040364243249328, -0.9170048234976684, -0.9295682942655137, -0.9417212888864644, -0.953458440875415, -0.9647745673738785, -0.9756646714386151, -0.9861239442481728, -0.9961477672263485, -1.0057317140816495, -1.0148715527618404, -1.023563247322723, -1.0318029597103147, -1.0395870514556482, -1.0469120852814335, -1.0537748266198836, -1.0601722450410247, -1.0661015155908649, -1.0715600200388293, -1.076545348033912, -1.0810552981690305, -1.0850878789531182, -1.0886413096905196, -1.0917140212673078], \"type\": \"scatter\", \"uid\": \"f52a23ae-d255-47d2-9170-b08a2b3d33c7\"}, {\"hoverinfo\": \"text\", \"line\": {\"color\": \"#e2ecde\", \"shape\": \"spline\", \"width\": 0.25}, \"mode\": \"lines\", \"text\": \"Microstrategy<br>352\", \"x\": [-0.1004028212077405, -0.08531207237709046, -0.07020515195617949, -0.055084923583414075, -0.03995425341983312], \"y\": [-1.0954082679501405, -1.0966867603407668, -1.0977573669253191, -1.0986198847616995, -1.0992741503527061], \"type\": \"scatter\", \"uid\": \"bed6ff97-10ad-4e99-b83a-42e8fa0396d6\"}, {\"hoverinfo\": \"text\", \"line\": {\"color\": \"#d4e5d6\", \"shape\": \"spline\", \"width\": 0.25}, \"mode\": \"lines\", \"text\": \"Oracle BI<br>2854\", \"x\": [-0.005405502910095335, 0.01761906095386568, 0.04063590523912038, 0.06363494539340805, 0.08660610466512995, 0.1095393185183592, 0.13242453904249854, 0.15525173935464515, 0.17801091799275215, 0.2006921032976464, 0.22328535778199435, 0.2457807824842864, 0.26816852130595004, 0.29043876532968327, 0.3125817571171076, 0.3345877949838746, 0.3564472372503443, 0.37815050646596543, 0.39968809360552215, 0.42105056223540144, 0.442228552648047, 0.46321278596280485, 0.4839940681913554, 0.5045632942659428, 0.5249114520286535, 0.5450296261799866, 0.5649090021849797, 0.5845408701351934, 0.6039166285648547, 0.6230277882194807, 0.6418659757753458, 0.6604229375081514, 0.6786905429092979], \"y\": [-1.0999867183463121, -1.0998588858081313, -1.0992491633862622, -1.098157818223218, -1.0965853284786975, -1.0945323831200855, -1.0919998816205898, -1.0889889335651477, -1.085500858164275, -1.0815371836760708, -1.0770996467366272, -1.0721901915991454, -1.0668109692820844, -1.0609643366267167, -1.0546528552645091, -1.0478792904947731, -1.0406466100730818, -1.0329579829109865, -1.024816777687594, -1.0162265613736203, -1.0071910976685674, -0.9977143453517028, -0.987800456547567, -0.9774537749067727, -0.9666788337028854, -0.9554803538462234, -0.94386324181545, -0.9318325875078586, -0.9193936620092937, -0.9065519152846913, -0.8933129737902408, -0.8796826380082221, -0.865666879905592], \"type\": \"scatter\", \"uid\": \"df4b8bb2-1238-4cc1-98a7-93a2da32bef6\"}, {\"hoverinfo\": \"text\", \"line\": {\"color\": \"#c6decd\", \"shape\": \"spline\", \"width\": 0.25}, \"mode\": \"lines\", \"text\": \"Python<br>1793\", \"x\": [0.7055469039026527, 0.72355441777568, 0.7412264420435567, 0.7585547827400817, 0.7755314052544017, 0.7921484380564088, 0.8083981763465238, 0.8242730856281717, 0.8397658052012917, 0.8548691515752653, 0.8695761217996756, 0.8838798967113571, 0.8977738440962308, 0.9112515217644518, 0.9243066805374536, 0.9369332671454964, 0.9491254270343806, 0.9608775070800195, 0.9721840582096174, 0.983039837928234], \"y\": [-0.8439215404250452, -0.8285342506603436, -0.8127627954178576, -0.796614487429238, -0.7800968141609944, -0.7632174343427908, -0.7459841744163308, -0.7284050249064822, -0.7104881367163186, -0.692241817347801, -0.6736745270498476, -0.654794874895582, -0.6356116147905706, -0.6161336414139151, -0.5963699860940641, -0.5763298126212681, -0.5560224129986172, -0.5354572031336278, -0.5146437184723811, -0.49359160957823384], \"type\": \"scatter\", \"uid\": \"81f3f029-83bb-4fd8-8cb0-2f9a78eba84e\"}, {\"hoverinfo\": \"text\", \"line\": {\"color\": \"#b8d7c5\", \"shape\": \"spline\", \"width\": 0.25}, \"mode\": \"lines\", \"text\": \"VBA<br>714\", \"x\": [0.9980588542415828, 1.0140594164151353, 1.0287455724802532, 1.0420982864978885, 1.0541002509132917], \"y\": [-0.4624700244015597, -0.4262434749996714, -0.38946443624839017, -0.35218058049552453, -0.3144402344238658], \"type\": \"scatter\", \"uid\": \"6a5ed7d0-00b0-497c-bb89-470589fbd367\"}, {\"hoverinfo\": \"text\", \"line\": {\"color\": \"#aad0bc\", \"shape\": \"spline\", \"width\": 0.25}, \"mode\": \"lines\", \"text\": \"Linux<br>608\", \"x\": [1.063456922518957, 1.0712860005278417, 1.0781832841558274, 1.084142774211172, 1.089159287186069], \"y\": [-0.2811749881239606, -0.24969242093636201, -0.21799267365430974, -0.18610331841668992, -0.15405209228158626], \"type\": \"scatter\", \"uid\": \"676e4a52-6a86-4976-81dd-b5c8e69ddd3c\"}, {\"hoverinfo\": \"text\", \"line\": {\"color\": \"#9cc9b4\", \"shape\": \"spline\", \"width\": 0.25}, \"mode\": \"lines\", \"text\": \"AWS<br>444\", \"x\": [1.0934607459818784, 1.0955801816360309, 1.0972864748789797, 1.0985789822689056, 1.0994572164023046], \"y\": [-0.11976475690600519, -0.09850921584482111, -0.07721652703704286, -0.055894719938610456, -0.03455183498594511], \"type\": \"scatter\", \"uid\": \"397b174c-bd30-4481-9098-46dd1ecb2f77\"}, {\"hoverinfo\": \"text\", \"marker\": {\"color\": \"green\", \"size\": 0.5}, \"mode\": \"markers\", \"text\": \"Power BI appears with Excel 207 times\", \"x\": [0.8707126586029725], \"y\": [0.22772673569114218], \"type\": \"scatter\", \"uid\": \"8ddf0e9e-11d6-4acc-8139-dc080c8e7ea9\"}, {\"hoverinfo\": \"text\", \"marker\": {\"color\": \"blue\", \"size\": 0.5}, \"mode\": \"markers\", \"text\": \"Excel appears with Power BI 207 times\", \"x\": [0.7651706891169467], \"y\": [0.47382888949102386], \"type\": \"scatter\", \"uid\": \"2a2dad0c-c038-47d9-9ec9-044504401abb\"}, {\"hoverinfo\": \"text\", \"marker\": {\"color\": \"green\", \"size\": 0.5}, \"mode\": \"markers\", \"text\": \"Power BI appears with SSIS/SSRS 124 times\", \"x\": [0.8973897287952616], \"y\": [0.06849580025641683], \"type\": \"scatter\", \"uid\": \"e611a39b-4d38-41c8-b2bc-e74bfbc92a5f\"}, {\"hoverinfo\": \"text\", \"marker\": {\"color\": \"blue\", \"size\": 0.5}, \"mode\": \"markers\", \"text\": \"SSIS/SSRS appears with Power BI 124 times\", \"x\": [0.08984223774293319], \"y\": [0.8955045350624096], \"type\": \"scatter\", \"uid\": \"9d8e4ce7-48f1-45d2-980b-2a0688c48e42\"}, {\"hoverinfo\": \"text\", \"marker\": {\"color\": \"green\", \"size\": 0.5}, \"mode\": \"markers\", \"text\": \"Power BI appears with MS SQL Server 127 times\", \"x\": [0.8951472706107721], \"y\": [0.09333468764658154], \"type\": \"scatter\", \"uid\": \"0c57404e-ef3b-498f-8735-c8a1e6c54cf2\"}, {\"hoverinfo\": \"text\", \"marker\": {\"color\": \"blue\", \"size\": 0.5}, \"mode\": \"markers\", \"text\": \"MS SQL Server appears with Power BI 127 times\", \"x\": [-0.3996901163374201], \"y\": [0.8063794459819642], \"type\": \"scatter\", \"uid\": \"ed7ad684-b41e-4f95-a234-e3c42aa4be51\"}, {\"hoverinfo\": \"text\", \"marker\": {\"color\": \"green\", \"size\": 0.5}, \"mode\": \"markers\", \"text\": \"Power BI appears with MySQL/MariaDB 5 times\", \"x\": [0.8999998628684164], \"y\": [0.0004968267621698601], \"type\": \"scatter\", \"uid\": \"649fd5c5-2bcc-4522-a6ed-412fb2cda37e\"}, {\"hoverinfo\": \"text\", \"marker\": {\"color\": \"blue\", \"size\": 0.5}, \"mode\": \"markers\", \"text\": \"MySQL/MariaDB appears with Power BI 5 times\", \"x\": [-0.6647670777512671], \"y\": [0.6066998700659503], \"type\": \"scatter\", \"uid\": \"d539aecb-2546-4816-909e-e1e4708bc1c7\"}, {\"hoverinfo\": \"text\", \"marker\": {\"color\": \"green\", \"size\": 0.5}, \"mode\": \"markers\", \"text\": \"Power BI appears with T-SQL 44 times\", \"x\": [0.8992733223397412], \"y\": [0.0361592550814292], \"type\": \"scatter\", \"uid\": \"cc501001-f8f5-45c6-bc2b-7adfc8a98abf\"}, {\"hoverinfo\": \"text\", \"marker\": {\"color\": \"blue\", \"size\": 0.5}, \"mode\": \"markers\", \"text\": \"T-SQL appears with Power BI 44 times\", \"x\": [-0.7943044668290911], \"y\": [0.42317893848271015], \"type\": \"scatter\", \"uid\": \"ef562ba3-218e-4058-a1c7-b2d1ea303e21\"}, {\"hoverinfo\": \"text\", \"marker\": {\"color\": \"green\", \"size\": 0.5}, \"mode\": \"markers\", \"text\": \"Power BI appears with PL/SQL 9 times\", \"x\": [0.8999795894117313], \"y\": [0.006061240986093567], \"type\": \"scatter\", \"uid\": \"aae953ec-5d78-4f04-8cd1-181d55adfbe5\"}, {\"hoverinfo\": \"text\", \"marker\": {\"color\": \"blue\", \"size\": 0.5}, \"mode\": \"markers\", \"text\": \"PL/SQL appears with Power BI 9 times\", \"x\": [-0.8673791045622453], \"y\": [0.2401114094931715], \"type\": \"scatter\", \"uid\": \"a86dd8e6-4b91-49ae-9a4a-341c1d0e0246\"}, {\"hoverinfo\": \"text\", \"marker\": {\"color\": \"green\", \"size\": 0.5}, \"mode\": \"markers\", \"text\": \"Power BI appears with Pentaho 8 times\", \"x\": [0.8999893805507831], \"y\": [0.004372058533197351], \"type\": \"scatter\", \"uid\": \"e28341f4-fdb5-49d8-8b29-18279978507c\"}, {\"hoverinfo\": \"text\", \"marker\": {\"color\": \"blue\", \"size\": 0.5}, \"mode\": \"markers\", \"text\": \"Pentaho appears with Power BI 8 times\", \"x\": [-0.8849157166345771], \"y\": [0.16408587523950033], \"type\": \"scatter\", \"uid\": \"50d7e789-1feb-4b6e-ab25-c3443c023bae\"}, {\"hoverinfo\": \"text\", \"marker\": {\"color\": \"green\", \"size\": 0.5}, \"mode\": \"markers\", \"text\": \"Power BI appears with Hadoop 22 times\", \"x\": [0.8999183585726855], \"y\": [0.012122207053311213], \"type\": \"scatter\", \"uid\": \"283e1d3d-2b40-4fdd-aee7-494cd30b797e\"}, {\"hoverinfo\": \"text\", \"marker\": {\"color\": \"blue\", \"size\": 0.5}, \"mode\": \"markers\", \"text\": \"Hadoop appears with Power BI 22 times\", \"x\": [-0.8992273404556483], \"y\": [0.0372852541504222], \"type\": \"scatter\", \"uid\": \"26a1eeeb-e2e3-461f-b0d8-a6b4f6d23e22\"}, {\"hoverinfo\": \"text\", \"marker\": {\"color\": \"green\", \"size\": 0.5}, \"mode\": \"markers\", \"text\": \"Power BI appears with Spark 28 times\", \"x\": [0.8997296778078847], \"y\": [0.02205690077322695], \"type\": \"scatter\", \"uid\": \"d0851cc8-2a50-493d-a250-418a39acc2b8\"}, {\"hoverinfo\": \"text\", \"marker\": {\"color\": \"blue\", \"size\": 0.5}, \"mode\": \"markers\", \"text\": \"Spark appears with Power BI 28 times\", \"x\": [-0.8904730622959381], \"y\": [-0.13060522702133423], \"type\": \"scatter\", \"uid\": \"41e742e9-f109-44b9-b494-16ae46b8842c\"}, {\"hoverinfo\": \"text\", \"marker\": {\"color\": \"green\", \"size\": 0.5}, \"mode\": \"markers\", \"text\": \"Power BI appears with Informatica 15 times\", \"x\": [0.8999603692621984], \"y\": [0.00844593141386239], \"type\": \"scatter\", \"uid\": \"3b861fa1-4744-4774-a3af-0731a091380a\"}, {\"hoverinfo\": \"text\", \"marker\": {\"color\": \"blue\", \"size\": 0.5}, \"mode\": \"markers\", \"text\": \"Informatica appears with Power BI 15 times\", \"x\": [-0.8557354111593163], \"y\": [-0.27877752077238216], \"type\": \"scatter\", \"uid\": \"d19c7970-cc7b-4b50-8f18-fcbad1738826\"}, {\"hoverinfo\": \"text\", \"marker\": {\"color\": \"green\", \"size\": 0.5}, \"mode\": \"markers\", \"text\": \"Power BI appears with Qlik 174 times\", \"x\": [0.8865131933654963], \"y\": [0.1552235742047905], \"type\": \"scatter\", \"uid\": \"3c963782-e749-4105-b094-d377710cd207\"}, {\"hoverinfo\": \"text\", \"marker\": {\"color\": \"blue\", \"size\": 0.5}, \"mode\": \"markers\", \"text\": \"Qlik appears with Power BI 174 times\", \"x\": [-0.7307079920804999], \"y\": [-0.5254196706535492], \"type\": \"scatter\", \"uid\": \"59c16d9f-ee46-400c-8cb0-4ee2c402deee\"}, {\"hoverinfo\": \"text\", \"marker\": {\"color\": \"green\", \"size\": 0.5}, \"mode\": \"markers\", \"text\": \"Power BI appears with Tableau 183 times\", \"x\": [0.8797081257288002], \"y\": [0.19003582169349453], \"type\": \"scatter\", \"uid\": \"0b3c3d3a-79df-4fc9-93fd-876c272f40b3\"}, {\"hoverinfo\": \"text\", \"marker\": {\"color\": \"blue\", \"size\": 0.5}, \"mode\": \"markers\", \"text\": \"Tableau appears with Power BI 183 times\", \"x\": [-0.3634888048026892], \"y\": [-0.823332186169782], \"type\": \"scatter\", \"uid\": \"fb9fe997-3669-476e-a7d0-129fa6b71942\"}, {\"hoverinfo\": \"text\", \"marker\": {\"color\": \"green\", \"size\": 0.5}, \"mode\": \"markers\", \"text\": \"Power BI appears with Microstrategy 25 times\", \"x\": [0.8998433399347914], \"y\": [0.016791771050116998], \"type\": \"scatter\", \"uid\": \"a33f681d-6f93-4f5a-b8aa-a84e5815455b\"}, {\"hoverinfo\": \"text\", \"marker\": {\"color\": \"blue\", \"size\": 0.5}, \"mode\": \"markers\", \"text\": \"Microstrategy appears with Power BI 25 times\", \"x\": [-0.06439468563907307], \"y\": [-0.8976933354222059], \"type\": \"scatter\", \"uid\": \"50c00cf2-36bd-49b1-a071-4eca32ab924b\"}, {\"hoverinfo\": \"text\", \"marker\": {\"color\": \"green\", \"size\": 0.5}, \"mode\": \"markers\", \"text\": \"Power BI appears with Oracle BI 164 times\", \"x\": [0.8916871639513065], \"y\": [0.12204098346242442], \"type\": \"scatter\", \"uid\": \"0c0a178a-843a-4bba-9da1-a12b99e2c0e9\"}, {\"hoverinfo\": \"text\", \"marker\": {\"color\": \"blue\", \"size\": 0.5}, \"mode\": \"markers\", \"text\": \"Oracle BI appears with Power BI 164 times\", \"x\": [0.2025214482262991], \"y\": [-0.8769179340213783], \"type\": \"scatter\", \"uid\": \"c33d6873-c869-48f1-a49e-ede4577a87a4\"}, {\"hoverinfo\": \"text\", \"marker\": {\"color\": \"green\", \"size\": 0.5}, \"mode\": \"markers\", \"text\": \"Power BI appears with Python 79 times\", \"x\": [0.8986993789281283], \"y\": [0.048367616379105326], \"type\": \"scatter\", \"uid\": \"a6e33d0b-2969-4890-ba35-9a71d491e4ee\"}, {\"hoverinfo\": \"text\", \"marker\": {\"color\": \"blue\", \"size\": 0.5}, \"mode\": \"markers\", \"text\": \"Python appears with Power BI 79 times\", \"x\": [0.6335092371940398], \"y\": [-0.6392699323367445], \"type\": \"scatter\", \"uid\": \"2adc859a-3077-4496-a264-c0bd026227f9\"}, {\"hoverinfo\": \"text\", \"marker\": {\"color\": \"green\", \"size\": 0.5}, \"mode\": \"markers\", \"text\": \"Power BI appears with VBA 35 times\", \"x\": [0.8995544962329136], \"y\": [0.028314454032330346], \"type\": \"scatter\", \"uid\": \"e35a86cd-1952-4d26-b33c-841cc4570ce4\"}, {\"hoverinfo\": \"text\", \"marker\": {\"color\": \"blue\", \"size\": 0.5}, \"mode\": \"markers\", \"text\": \"VBA appears with Power BI 35 times\", \"x\": [0.8256928787477762], \"y\": [-0.3580939401682333], \"type\": \"scatter\", \"uid\": \"cdf8fcb4-e1e3-49da-9a9f-5c35a35ca82d\"}, {\"hoverinfo\": \"text\", \"marker\": {\"color\": \"green\", \"size\": 0.5}, \"mode\": \"markers\", \"text\": \"Power BI appears with Linux 7 times\", \"x\": [0.8999953868973527], \"y\": [0.0028815904435696258], \"type\": \"scatter\", \"uid\": \"9a523983-17ba-4cea-8460-c9dabbdd235c\"}, {\"hoverinfo\": \"text\", \"marker\": {\"color\": \"blue\", \"size\": 0.5}, \"mode\": \"markers\", \"text\": \"Linux appears with Power BI 7 times\", \"x\": [0.8705680126326253], \"y\": [-0.22827907346246426], \"type\": \"scatter\", \"uid\": \"4f4339d1-026c-4800-adff-f8a51966655f\"}, {\"hoverinfo\": \"text\", \"marker\": {\"color\": \"green\", \"size\": 0.5}, \"mode\": \"markers\", \"text\": \"Power BI appears with AWS 6 times\", \"x\": [0.8999985957729139], \"y\": [0.001589844892837407], \"type\": \"scatter\", \"uid\": \"14ecd267-e208-4d66-aaa5-91b6ed6b3a26\"}, {\"hoverinfo\": \"text\", \"marker\": {\"color\": \"blue\", \"size\": 0.5}, \"mode\": \"markers\", \"text\": \"AWS appears with Power BI 6 times\", \"x\": [0.8949538413739085], \"y\": [-0.09517153886580255], \"type\": \"scatter\", \"uid\": \"0e04ed4e-50b4-462b-a09a-7e946b8783d3\"}, {\"hoverinfo\": \"text\", \"marker\": {\"color\": \"green\", \"size\": 0.5}, \"mode\": \"markers\", \"text\": \"Excel appears with SSIS/SSRS 582 times\", \"x\": [0.45024906207893284], \"y\": [0.7792790142798928], \"type\": \"scatter\", \"uid\": \"d838fbf7-a91e-43ed-8d4a-4a26f94948df\"}, {\"hoverinfo\": \"text\", \"marker\": {\"color\": \"blue\", \"size\": 0.5}, \"mode\": \"markers\", \"text\": \"SSIS/SSRS appears with Excel 582 times\", \"x\": [-0.158727611657536], \"y\": [0.8858925133996193], \"type\": \"scatter\", \"uid\": \"d797982a-7b2d-4639-9410-28a1694ef533\"}, {\"hoverinfo\": \"text\", \"marker\": {\"color\": \"green\", \"size\": 0.5}, \"mode\": \"markers\", \"text\": \"Excel appears with MS SQL Server 259 times\", \"x\": [0.7059505986950577], \"y\": [0.5582416611128999], \"type\": \"scatter\", \"uid\": \"d7564fd9-bc55-494a-a7b1-2bcdaa3ca4e7\"}, {\"hoverinfo\": \"text\", \"marker\": {\"color\": \"blue\", \"size\": 0.5}, \"mode\": \"markers\", \"text\": \"MS SQL Server appears with Excel 259 times\", \"x\": [-0.49415537218149275], \"y\": [0.7522037411128519], \"type\": \"scatter\", \"uid\": \"f3a27ffb-9da6-49ea-946f-a51939528639\"}, {\"hoverinfo\": \"text\", \"marker\": {\"color\": \"green\", \"size\": 0.5}, \"mode\": \"markers\", \"text\": \"Excel appears with PostgreSQL 66 times\", \"x\": [0.8397078707742037], \"y\": [0.3238683247244985], \"type\": \"scatter\", \"uid\": \"209a8099-aea4-44d3-82c7-5e3813829bb0\"}, {\"hoverinfo\": \"text\", \"marker\": {\"color\": \"blue\", \"size\": 0.5}, \"mode\": \"markers\", \"text\": \"PostgreSQL appears with Excel 66 times\", \"x\": [-0.6196280092356423], \"y\": [0.6527335828427053], \"type\": \"scatter\", \"uid\": \"eda1cbd3-22e4-4e1d-983d-9791b63c0af9\"}, {\"hoverinfo\": \"text\", \"marker\": {\"color\": \"green\", \"size\": 0.5}, \"mode\": \"markers\", \"text\": \"Excel appears with MySQL/MariaDB 117 times\", \"x\": [0.8007482149008702], \"y\": [0.4108555662675994], \"type\": \"scatter\", \"uid\": \"0239d69f-5023-4541-a0fe-fd3bc69411d5\"}, {\"hoverinfo\": \"text\", \"marker\": {\"color\": \"blue\", \"size\": 0.5}, \"mode\": \"markers\", \"text\": \"MySQL/MariaDB appears with Excel 117 times\", \"x\": [-0.7440984614653012], \"y\": [0.5062780655380714], \"type\": \"scatter\", \"uid\": \"d7b111de-b4c3-4640-a89a-1b71aeef7fe6\"}, {\"hoverinfo\": \"text\", \"marker\": {\"color\": \"green\", \"size\": 0.5}, \"mode\": \"markers\", \"text\": \"Excel appears with T-SQL 176 times\", \"x\": [0.7859500470464923], \"y\": [0.43850031191279293], \"type\": \"scatter\", \"uid\": \"30f1ef4c-8128-4e91-8ea5-6e53665ee604\"}, {\"hoverinfo\": \"text\", \"marker\": {\"color\": \"blue\", \"size\": 0.5}, \"mode\": \"markers\", \"text\": \"T-SQL appears with Excel 176 times\", \"x\": [-0.852797827853707], \"y\": [0.28763842721027255], \"type\": \"scatter\", \"uid\": \"916d4c31-768b-49b9-adcf-333f40bd8f83\"}, {\"hoverinfo\": \"text\", \"marker\": {\"color\": \"green\", \"size\": 0.5}, \"mode\": \"markers\", \"text\": \"Excel appears with PL/SQL 57 times\", \"x\": [0.8489991367818015], \"y\": [0.2986644701730621], \"type\": \"scatter\", \"uid\": \"4c8d0458-9b22-440d-8db3-8022590ca641\"}, {\"hoverinfo\": \"text\", \"marker\": {\"color\": \"blue\", \"size\": 0.5}, \"mode\": \"markers\", \"text\": \"PL/SQL appears with Excel 57 times\", \"x\": [-0.874964814900248], \"y\": [0.2107998403381149], \"type\": \"scatter\", \"uid\": \"a2d70429-f0ca-4499-9351-3fb40957e082\"}, {\"hoverinfo\": \"text\", \"marker\": {\"color\": \"green\", \"size\": 0.5}, \"mode\": \"markers\", \"text\": \"Excel appears with Pentaho 64 times\", \"x\": [0.8446140018135684], \"y\": [0.3108491401636323], \"type\": \"scatter\", \"uid\": \"b0d4eeee-84aa-4631-8fec-e5814b3d41b0\"}, {\"hoverinfo\": \"text\", \"marker\": {\"color\": \"blue\", \"size\": 0.5}, \"mode\": \"markers\", \"text\": \"Pentaho appears with Excel 64 times\", \"x\": [-0.8962166189575409], \"y\": [0.08243647193029208], \"type\": \"scatter\", \"uid\": \"6b89f845-4a2a-462d-865b-6c9fe440376b\"}, {\"hoverinfo\": \"text\", \"marker\": {\"color\": \"green\", \"size\": 0.5}, \"mode\": \"markers\", \"text\": \"Excel appears with Hadoop 82 times\", \"x\": [0.8279582242353126], \"y\": [0.352824572445157], \"type\": \"scatter\", \"uid\": \"16080e6a-5611-43bd-894a-1f1a3e8e2e92\"}, {\"hoverinfo\": \"text\", \"marker\": {\"color\": \"blue\", \"size\": 0.5}, \"mode\": \"markers\", \"text\": \"Hadoop appears with Excel 82 times\", \"x\": [-0.8999838802033447], \"y\": [-0.005386592070290423], \"type\": \"scatter\", \"uid\": \"ebc4b32c-bed3-4fb6-9b83-2520f9f9d288\"}, {\"hoverinfo\": \"text\", \"marker\": {\"color\": \"green\", \"size\": 0.5}, \"mode\": \"markers\", \"text\": \"Excel appears with Spark 84 times\", \"x\": [0.8208326502548574], \"y\": [0.36909857799182444], \"type\": \"scatter\", \"uid\": \"b0bf8eec-8522-4099-9635-703e476fc3a8\"}, {\"hoverinfo\": \"text\", \"marker\": {\"color\": \"blue\", \"size\": 0.5}, \"mode\": \"markers\", \"text\": \"Spark appears with Excel 84 times\", \"x\": [-0.8814891232652154], \"y\": [-0.1815954998482117], \"type\": \"scatter\", \"uid\": \"c7b78cfd-948c-4e72-95c8-860246a17b65\"}, {\"hoverinfo\": \"text\", \"marker\": {\"color\": \"green\", \"size\": 0.5}, \"mode\": \"markers\", \"text\": \"Excel appears with Informatica 116 times\", \"x\": [0.8118230719554899], \"y\": [0.38851422089899307], \"type\": \"scatter\", \"uid\": \"ed128bdc-4056-4ee1-930a-6fcb8ca97af1\"}, {\"hoverinfo\": \"text\", \"marker\": {\"color\": \"blue\", \"size\": 0.5}, \"mode\": \"markers\", \"text\": \"Informatica appears with Excel 116 times\", \"x\": [-0.825625339930407], \"y\": [-0.3582496309346319], \"type\": \"scatter\", \"uid\": \"9b1ac907-2585-4d29-9f10-326b31144744\"}, {\"hoverinfo\": \"text\", \"marker\": {\"color\": \"green\", \"size\": 0.5}, \"mode\": \"markers\", \"text\": \"Excel appears with Qlik 402 times\", \"x\": [0.6080349853396798], \"y\": [0.6635461224383542], \"type\": \"scatter\", \"uid\": \"7e8a48a3-74e9-449a-ae9a-472479d165ee\"}, {\"hoverinfo\": \"text\", \"marker\": {\"color\": \"blue\", \"size\": 0.5}, \"mode\": \"markers\", \"text\": \"Qlik appears with Excel 402 times\", \"x\": [-0.5971437384783245], \"y\": [-0.6733642072431014], \"type\": \"scatter\", \"uid\": \"36dd6ed7-955c-429a-aae0-6c45fa6216e7\"}, {\"hoverinfo\": \"text\", \"marker\": {\"color\": \"green\", \"size\": 0.5}, \"mode\": \"markers\", \"text\": \"Excel appears with Tableau 424 times\", \"x\": [0.5400329370341669], \"y\": [0.7199752960471989], \"type\": \"scatter\", \"uid\": \"016f4667-ebbb-484f-b295-442aab48d507\"}, {\"hoverinfo\": \"text\", \"marker\": {\"color\": \"blue\", \"size\": 0.5}, \"mode\": \"markers\", \"text\": \"Tableau appears with Excel 424 times\", \"x\": [-0.1540102469497236], \"y\": [-0.886724784718734], \"type\": \"scatter\", \"uid\": \"9da276b7-9793-426c-8dfe-0cb225a25285\"}, {\"hoverinfo\": \"text\", \"marker\": {\"color\": \"green\", \"size\": 0.5}, \"mode\": \"markers\", \"text\": \"Excel appears with Microstrategy 38 times\", \"x\": [0.8558283953638208], \"y\": [0.27849193469288763], \"type\": \"scatter\", \"uid\": \"5c03f394-94e0-437a-9bf1-930c9e2fee9c\"}, {\"hoverinfo\": \"text\", \"marker\": {\"color\": \"blue\", \"size\": 0.5}, \"mode\": \"markers\", \"text\": \"Microstrategy appears with Excel 38 times\", \"x\": [-0.050975079424324145], \"y\": [-0.8985552522119515], \"type\": \"scatter\", \"uid\": \"01571a8c-3976-4f25-ad75-721726e2fbdd\"}, {\"hoverinfo\": \"text\", \"marker\": {\"color\": \"green\", \"size\": 0.5}, \"mode\": \"markers\", \"text\": \"Excel appears with Oracle BI 600 times\", \"x\": [0.3366354873396886], \"y\": [0.8346715214164014], \"type\": \"scatter\", \"uid\": \"5ef1447a-95d9-4144-9616-0303ecd6e69d\"}, {\"hoverinfo\": \"text\", \"marker\": {\"color\": \"blue\", \"size\": 0.5}, \"mode\": \"markers\", \"text\": \"Oracle BI appears with Excel 600 times\", \"x\": [0.504088532301111], \"y\": [-0.7455834974048928], \"type\": \"scatter\", \"uid\": \"981cdc23-61cd-4f40-b233-a5eab027b4ec\"}, {\"hoverinfo\": \"text\", \"marker\": {\"color\": \"green\", \"size\": 0.5}, \"mode\": \"markers\", \"text\": \"Excel appears with Python 342 times\", \"x\": [0.6642860687894806], \"y\": [0.6072264971262514], \"type\": \"scatter\", \"uid\": \"925a5ea0-7080-4012-85e6-e7e5f800eaf3\"}, {\"hoverinfo\": \"text\", \"marker\": {\"color\": \"blue\", \"size\": 0.5}, \"mode\": \"markers\", \"text\": \"Python appears with Excel 342 times\", \"x\": [0.7879391755175718], \"y\": [-0.4349159179481583], \"type\": \"scatter\", \"uid\": \"56075d5b-114b-4d2a-8746-963657abeecd\"}, {\"hoverinfo\": \"text\", \"marker\": {\"color\": \"green\", \"size\": 0.5}, \"mode\": \"markers\", \"text\": \"Excel appears with VBA 249 times\", \"x\": [0.7383651208729783], \"y\": [0.5146036807857403], \"type\": \"scatter\", \"uid\": \"348d9c82-0090-41c2-bd84-d19d7e19d21f\"}, {\"hoverinfo\": \"text\", \"marker\": {\"color\": \"blue\", \"size\": 0.5}, \"mode\": \"markers\", \"text\": \"VBA appears with Excel 249 times\", \"x\": [0.8557137696707491], \"y\": [-0.2788439427276057], \"type\": \"scatter\", \"uid\": \"e44655ff-9dbb-46ad-aed0-b85d83cdaaa6\"}, {\"hoverinfo\": \"text\", \"marker\": {\"color\": \"green\", \"size\": 0.5}, \"mode\": \"markers\", \"text\": \"Excel appears with Linux 72 times\", \"x\": [0.8342802791790688], \"y\": [0.337603933290024], \"type\": \"scatter\", \"uid\": \"ccf91aa4-4102-43d7-a281-bef19c25ad5a\"}, {\"hoverinfo\": \"text\", \"marker\": {\"color\": \"blue\", \"size\": 0.5}, \"mode\": \"markers\", \"text\": \"Linux appears with Excel 72 times\", \"x\": [0.8849714931292121], \"y\": [-0.16378478668256413], \"type\": \"scatter\", \"uid\": \"1360fbd9-76b8-40e2-ba30-8ce07947a5b1\"}, {\"hoverinfo\": \"text\", \"marker\": {\"color\": \"green\", \"size\": 0.5}, \"mode\": \"markers\", \"text\": \"Excel appears with AWS 52 times\", \"x\": [0.8527989208042768], \"y\": [0.2876351867819041], \"type\": \"scatter\", \"uid\": \"682a50ba-f72d-43b6-9c7f-9f84a5894dbf\"}, {\"hoverinfo\": \"text\", \"marker\": {\"color\": \"blue\", \"size\": 0.5}, \"mode\": \"markers\", \"text\": \"AWS appears with Excel 52 times\", \"x\": [0.8987888492697726], \"y\": [-0.04667552279640684], \"type\": \"scatter\", \"uid\": \"6353f676-29f2-44a4-bd3e-2844f7a392fd\"}, {\"hoverinfo\": \"text\", \"marker\": {\"color\": \"green\", \"size\": 0.5}, \"mode\": \"markers\", \"text\": \"SSIS/SSRS appears with MS SQL Server 263 times\", \"x\": [-0.07132953501584825], \"y\": [0.8971689347243489], \"type\": \"scatter\", \"uid\": \"3503c728-bfa5-4750-bd1d-a4d511500c7b\"}, {\"hoverinfo\": \"text\", \"marker\": {\"color\": \"blue\", \"size\": 0.5}, \"mode\": \"markers\", \"text\": \"MS SQL Server appears with SSIS/SSRS 263 times\", \"x\": [-0.5379368617958875], \"y\": [0.7215427449023324], \"type\": \"scatter\", \"uid\": \"74b83fd8-a0f4-493d-9d54-71e64e12b0d9\"}, {\"hoverinfo\": \"text\", \"marker\": {\"color\": \"green\", \"size\": 0.5}, \"mode\": \"markers\", \"text\": \"SSIS/SSRS appears with PostgreSQL 53 times\", \"x\": [0.19821192378122085], \"y\": [0.8779020635987522], \"type\": \"scatter\", \"uid\": \"56769653-b0fa-4b88-996d-be042178b829\"}, {\"hoverinfo\": \"text\", \"marker\": {\"color\": \"blue\", \"size\": 0.5}, \"mode\": \"markers\", \"text\": \"PostgreSQL appears with SSIS/SSRS 53 times\", \"x\": [-0.612398822539102], \"y\": [0.6595207973617825], \"type\": \"scatter\", \"uid\": \"9e814d80-ef5c-46e5-9ab8-10929140b2d7\"}, {\"hoverinfo\": \"text\", \"marker\": {\"color\": \"green\", \"size\": 0.5}, \"mode\": \"markers\", \"text\": \"SSIS/SSRS appears with MySQL/MariaDB 78 times\", \"x\": [0.1707446460987474], \"y\": [0.8836550604328669], \"type\": \"scatter\", \"uid\": \"986f0545-d9e5-4767-bcf4-737708f94e48\"}, {\"hoverinfo\": \"text\", \"marker\": {\"color\": \"blue\", \"size\": 0.5}, \"mode\": \"markers\", \"text\": \"MySQL/MariaDB appears with SSIS/SSRS 78 times\", \"x\": [-0.7137406536955422], \"y\": [0.5482465497039266], \"type\": \"scatter\", \"uid\": \"76cd0016-d3b7-4fb5-87e7-7ec00f4efafb\"}, {\"hoverinfo\": \"text\", \"marker\": {\"color\": \"green\", \"size\": 0.5}, \"mode\": \"markers\", \"text\": \"SSIS/SSRS appears with T-SQL 124 times\", \"x\": [0.11554585612522393], \"y\": [0.8925520461756217], \"type\": \"scatter\", \"uid\": \"e8c972a2-3f9e-4ddd-a24d-116ee9d4d8c5\"}, {\"hoverinfo\": \"text\", \"marker\": {\"color\": \"blue\", \"size\": 0.5}, \"mode\": \"markers\", \"text\": \"T-SQL appears with SSIS/SSRS 124 times\", \"x\": [-0.8202709131065634], \"y\": [0.3703452836358588], \"type\": \"scatter\", \"uid\": \"f416f399-e624-4338-af30-7b060ddcc69c\"}, {\"hoverinfo\": \"text\", \"marker\": {\"color\": \"green\", \"size\": 0.5}, \"mode\": \"markers\", \"text\": \"SSIS/SSRS appears with PL/SQL 39 times\", \"x\": [0.21587788313292888], \"y\": [0.8737257805364597], \"type\": \"scatter\", \"uid\": \"30129d0c-0d81-41e5-9ed6-7f62a3bdc425\"}, {\"hoverinfo\": \"text\", \"marker\": {\"color\": \"blue\", \"size\": 0.5}, \"mode\": \"markers\", \"text\": \"PL/SQL appears with SSIS/SSRS 39 times\", \"x\": [-0.8719998989828616], \"y\": [0.22274688813511911], \"type\": \"scatter\", \"uid\": \"8b8470f4-4c2f-46ba-98ce-036a2bdca5fb\"}, {\"hoverinfo\": \"text\", \"marker\": {\"color\": \"green\", \"size\": 0.5}, \"mode\": \"markers\", \"text\": \"SSIS/SSRS appears with Pentaho 34 times\", \"x\": [0.23012931475302612], \"y\": [0.8700807425126146], \"type\": \"scatter\", \"uid\": \"caae5305-6bd6-4998-81d3-c8d9d1f8587f\"}, {\"hoverinfo\": \"text\", \"marker\": {\"color\": \"blue\", \"size\": 0.5}, \"mode\": \"markers\", \"text\": \"Pentaho appears with SSIS/SSRS 34 times\", \"x\": [-0.8877847525019316], \"y\": [0.14777764792107137], \"type\": \"scatter\", \"uid\": \"f6f9b140-32b9-4b35-93ba-6d6496480360\"}, {\"hoverinfo\": \"text\", \"marker\": {\"color\": \"green\", \"size\": 0.5}, \"mode\": \"markers\", \"text\": \"SSIS/SSRS appears with Hadoop 34 times\", \"x\": [0.2232637245794551], \"y\": [0.8718677131806805], \"type\": \"scatter\", \"uid\": \"9dcffbac-faf4-42ec-bbba-1883bee94af2\"}, {\"hoverinfo\": \"text\", \"marker\": {\"color\": \"blue\", \"size\": 0.5}, \"mode\": \"markers\", \"text\": \"Hadoop appears with SSIS/SSRS 34 times\", \"x\": [-0.8995954200330719], \"y\": [0.02698296231922934], \"type\": \"scatter\", \"uid\": \"31706926-1727-4d00-8a5a-2cb5d42145fe\"}, {\"hoverinfo\": \"text\", \"marker\": {\"color\": \"green\", \"size\": 0.5}, \"mode\": \"markers\", \"text\": \"SSIS/SSRS appears with Spark 41 times\", \"x\": [0.20776607643196066], \"y\": [0.8756901606641865], \"type\": \"scatter\", \"uid\": \"179000ca-e5f6-4a21-9b9e-dcbc83928e6e\"}, {\"hoverinfo\": \"text\", \"marker\": {\"color\": \"blue\", \"size\": 0.5}, \"mode\": \"markers\", \"text\": \"Spark appears with SSIS/SSRS 41 times\", \"x\": [-0.8875582079927599], \"y\": [-0.14913224810442835], \"type\": \"scatter\", \"uid\": \"6ad88c45-a382-4601-94ea-4bd74ae03abc\"}, {\"hoverinfo\": \"text\", \"marker\": {\"color\": \"green\", \"size\": 0.5}, \"mode\": \"markers\", \"text\": \"SSIS/SSRS appears with Informatica 69 times\", \"x\": [0.18577692770174128], \"y\": [0.8806173590917352], \"type\": \"scatter\", \"uid\": \"99374190-3c99-43b2-b660-430ac8b08155\"}, {\"hoverinfo\": \"text\", \"marker\": {\"color\": \"blue\", \"size\": 0.5}, \"mode\": \"markers\", \"text\": \"Informatica appears with SSIS/SSRS 69 times\", \"x\": [-0.8384964990770377], \"y\": [-0.326991775180281], \"type\": \"scatter\", \"uid\": \"7a4446a7-6efd-46bc-b87d-252f0dd4361c\"}, {\"hoverinfo\": \"text\", \"marker\": {\"color\": \"green\", \"size\": 0.5}, \"mode\": \"markers\", \"text\": \"SSIS/SSRS appears with Qlik 85 times\", \"x\": [0.13713409101430313], \"y\": [0.8894910011246212], \"type\": \"scatter\", \"uid\": \"95e01805-246e-413b-b123-97cd32bbb6d6\"}, {\"hoverinfo\": \"text\", \"marker\": {\"color\": \"blue\", \"size\": 0.5}, \"mode\": \"markers\", \"text\": \"Qlik appears with SSIS/SSRS 85 times\", \"x\": [-0.756444727390399], \"y\": [-0.48763856943771877], \"type\": \"scatter\", \"uid\": \"69dc3042-33c9-453a-9c55-60071badfc48\"}, {\"hoverinfo\": \"text\", \"marker\": {\"color\": \"green\", \"size\": 0.5}, \"mode\": \"markers\", \"text\": \"SSIS/SSRS appears with Tableau 155 times\", \"x\": [0.060837979567224], \"y\": [0.8979413902043819], \"type\": \"scatter\", \"uid\": \"c1d4b21b-e382-4423-97de-5e74e886b4ca\"}, {\"hoverinfo\": \"text\", \"marker\": {\"color\": \"blue\", \"size\": 0.5}, \"mode\": \"markers\", \"text\": \"Tableau appears with SSIS/SSRS 155 times\", \"x\": [-0.3954607499148735], \"y\": [-0.8084619937119901], \"type\": \"scatter\", \"uid\": \"0ff59b2a-bc7e-4812-a68a-5f6f639f3234\"}, {\"hoverinfo\": \"text\", \"marker\": {\"color\": \"green\", \"size\": 0.5}, \"mode\": \"markers\", \"text\": \"SSIS/SSRS appears with Microstrategy 29 times\", \"x\": [0.24271227279861005], \"y\": [0.8666549213112064], \"type\": \"scatter\", \"uid\": \"f230b486-daa7-4a90-959a-b5a496d00ed0\"}, {\"hoverinfo\": \"text\", \"marker\": {\"color\": \"blue\", \"size\": 0.5}, \"mode\": \"markers\", \"text\": \"Microstrategy appears with SSIS/SSRS 29 times\", \"x\": [-0.060601988655952635], \"y\": [-0.8979573480800432], \"type\": \"scatter\", \"uid\": \"993ef011-5155-4b81-a846-cfd486448ec3\"}, {\"hoverinfo\": \"text\", \"marker\": {\"color\": \"green\", \"size\": 0.5}, \"mode\": \"markers\", \"text\": \"SSIS/SSRS appears with Oracle BI 262 times\", \"x\": [-0.016630891637737625], \"y\": [0.899846327682307], \"type\": \"scatter\", \"uid\": \"c3b6ba80-f14f-4502-b7d4-621479d05d31\"}, {\"hoverinfo\": \"text\", \"marker\": {\"color\": \"blue\", \"size\": 0.5}, \"mode\": \"markers\", \"text\": \"Oracle BI appears with SSIS/SSRS 262 times\", \"x\": [0.2808246520435729], \"y\": [-0.8550657955997341], \"type\": \"scatter\", \"uid\": \"f752bff0-a634-4437-99df-8ae689c096ef\"}, {\"hoverinfo\": \"text\", \"marker\": {\"color\": \"green\", \"size\": 0.5}, \"mode\": \"markers\", \"text\": \"SSIS/SSRS appears with Python 163 times\", \"x\": [0.027703495069807117], \"y\": [0.89957351915278], \"type\": \"scatter\", \"uid\": \"0291c449-2e88-4a23-b848-489d0472cf16\"}, {\"hoverinfo\": \"text\", \"marker\": {\"color\": \"blue\", \"size\": 0.5}, \"mode\": \"markers\", \"text\": \"Python appears with SSIS/SSRS 163 times\", \"x\": [0.7615872113820186], \"y\": [-0.4795674295230657], \"type\": \"scatter\", \"uid\": \"8ca16f07-f429-4989-81c3-075fe38416ad\"}, {\"hoverinfo\": \"text\", \"marker\": {\"color\": \"green\", \"size\": 0.5}, \"mode\": \"markers\", \"text\": \"SSIS/SSRS appears with VBA 82 times\", \"x\": [0.15432677646598633], \"y\": [0.8866697502822669], \"type\": \"scatter\", \"uid\": \"cd669bdb-3aa4-4b37-9728-a7656d1f11ac\"}, {\"hoverinfo\": \"text\", \"marker\": {\"color\": \"blue\", \"size\": 0.5}, \"mode\": \"markers\", \"text\": \"VBA appears with SSIS/SSRS 82 times\", \"x\": [0.8459302947847546], \"y\": [-0.30724898106483345], \"type\": \"scatter\", \"uid\": \"f320875d-29ec-4a58-aee2-ad89f400f8ae\"}, {\"hoverinfo\": \"text\", \"marker\": {\"color\": \"green\", \"size\": 0.5}, \"mode\": \"markers\", \"text\": \"SSIS/SSRS appears with Linux 18 times\", \"x\": [0.24743042417449515], \"y\": [0.8653197011468243], \"type\": \"scatter\", \"uid\": \"d85227c7-7b08-40f9-b960-c5e8beaba8a3\"}, {\"hoverinfo\": \"text\", \"marker\": {\"color\": \"blue\", \"size\": 0.5}, \"mode\": \"markers\", \"text\": \"Linux appears with SSIS/SSRS 18 times\", \"x\": [0.8718170758845859], \"y\": [-0.22346137517712145], \"type\": \"scatter\", \"uid\": \"cc2ad91d-123c-4fd3-8fc2-35b3e0c31fdd\"}, {\"hoverinfo\": \"text\", \"marker\": {\"color\": \"green\", \"size\": 0.5}, \"mode\": \"markers\", \"text\": \"SSIS/SSRS appears with AWS 31 times\", \"x\": [0.23667865029585325], \"y\": [0.8683220695652814], \"type\": \"scatter\", \"uid\": \"7e7dc369-c176-4c1a-8ab7-f7f7088169ed\"}, {\"hoverinfo\": \"text\", \"marker\": {\"color\": \"blue\", \"size\": 0.5}, \"mode\": \"markers\", \"text\": \"AWS appears with SSIS/SSRS 31 times\", \"x\": [0.8963767312333791], \"y\": [-0.08067685977628528], \"type\": \"scatter\", \"uid\": \"3b6c8e0e-0910-4bc4-b472-2c983791a34e\"}, {\"hoverinfo\": \"text\", \"marker\": {\"color\": \"green\", \"size\": 0.5}, \"mode\": \"markers\", \"text\": \"MS SQL Server appears with PostgreSQL 82 times\", \"x\": [-0.32234189382684764], \"y\": [0.8402950097936566], \"type\": \"scatter\", \"uid\": \"4397d3f3-b4cb-4105-a9a8-ce010a50e94b\"}, {\"hoverinfo\": \"text\", \"marker\": {\"color\": \"blue\", \"size\": 0.5}, \"mode\": \"markers\", \"text\": \"PostgreSQL appears with MS SQL Server 82 times\", \"x\": [-0.6285138849530157], \"y\": [0.644181881475463], \"type\": \"scatter\", \"uid\": \"6fbc8723-d2cd-4b3d-9c85-71441502fb23\"}, {\"hoverinfo\": \"text\", \"marker\": {\"color\": \"green\", \"size\": 0.5}, \"mode\": \"markers\", \"text\": \"MS SQL Server appears with MySQL/MariaDB 90 times\", \"x\": [-0.33872508947575997], \"y\": [0.8338257094618986], \"type\": \"scatter\", \"uid\": \"1862b10c-727b-48e0-ab12-5d35449f9473\"}, {\"hoverinfo\": \"text\", \"marker\": {\"color\": \"blue\", \"size\": 0.5}, \"mode\": \"markers\", \"text\": \"MySQL/MariaDB appears with MS SQL Server 90 times\", \"x\": [-0.7230516491219217], \"y\": [0.5359070000495137], \"type\": \"scatter\", \"uid\": \"e52082c0-7b9f-43d0-bb89-f1954974828f\"}, {\"hoverinfo\": \"text\", \"marker\": {\"color\": \"green\", \"size\": 0.5}, \"mode\": \"markers\", \"text\": \"MS SQL Server appears with T-SQL 167 times\", \"x\": [-0.42643799026310064], \"y\": [0.7925595501035665], \"type\": \"scatter\", \"uid\": \"647bd353-0df0-4a49-a2d8-20cbfae677e2\"}, {\"hoverinfo\": \"text\", \"marker\": {\"color\": \"blue\", \"size\": 0.5}, \"mode\": \"markers\", \"text\": \"T-SQL appears with MS SQL Server 167 times\", \"x\": [-0.841446335271008], \"y\": [0.3193243881368765], \"type\": \"scatter\", \"uid\": \"ba297329-ec60-47de-91b8-f2c724270aff\"}, {\"hoverinfo\": \"text\", \"marker\": {\"color\": \"green\", \"size\": 0.5}, \"mode\": \"markers\", \"text\": \"MS SQL Server appears with PL/SQL 11 times\", \"x\": [-0.24846112578029161], \"y\": [0.8650243169853609], \"type\": \"scatter\", \"uid\": \"d8876ace-215c-4bbb-aa71-7bf75724427e\"}, {\"hoverinfo\": \"text\", \"marker\": {\"color\": \"blue\", \"size\": 0.5}, \"mode\": \"markers\", \"text\": \"PL/SQL appears with MS SQL Server 11 times\", \"x\": [-0.8677555119269893], \"y\": [0.2387475057887072], \"type\": \"scatter\", \"uid\": \"4f0f530e-16f8-4a01-8cc0-0166d5a3398a\"}, {\"hoverinfo\": \"text\", \"marker\": {\"color\": \"green\", \"size\": 0.5}, \"mode\": \"markers\", \"text\": \"MS SQL Server appears with Pentaho 46 times\", \"x\": [-0.27579330731145735], \"y\": [0.8567018452426772], \"type\": \"scatter\", \"uid\": \"43ffe6c6-1970-440f-b597-298d6fd817d0\"}, {\"hoverinfo\": \"text\", \"marker\": {\"color\": \"blue\", \"size\": 0.5}, \"mode\": \"markers\", \"text\": \"Pentaho appears with MS SQL Server 46 times\", \"x\": [-0.8941705852391785], \"y\": [0.10226907887052156], \"type\": \"scatter\", \"uid\": \"fbaaee03-7d2c-4335-bfe4-a3107a325fcb\"}, {\"hoverinfo\": \"text\", \"marker\": {\"color\": \"green\", \"size\": 0.5}, \"mode\": \"markers\", \"text\": \"MS SQL Server appears with Hadoop 29 times\", \"x\": [-0.26122938625173986], \"y\": [0.8612544384550592], \"type\": \"scatter\", \"uid\": \"b12671d3-2796-442c-b8e5-64b0f8ca961b\"}, {\"hoverinfo\": \"text\", \"marker\": {\"color\": \"blue\", \"size\": 0.5}, \"mode\": \"markers\", \"text\": \"Hadoop appears with MS SQL Server 29 times\", \"x\": [-0.8994065948926128], \"y\": [0.032676858228347525], \"type\": \"scatter\", \"uid\": \"469237cb-59e8-496b-b337-bcb13b3aa77f\"}, {\"hoverinfo\": \"text\", \"marker\": {\"color\": \"green\", \"size\": 0.5}, \"mode\": \"markers\", \"text\": \"MS SQL Server appears with Spark 26 times\", \"x\": [-0.25583424444530867], \"y\": [0.8628724351658813], \"type\": \"scatter\", \"uid\": \"d0b43c3e-12ba-48eb-8791-4a75f57a62b5\"}, {\"hoverinfo\": \"text\", \"marker\": {\"color\": \"blue\", \"size\": 0.5}, \"mode\": \"markers\", \"text\": \"Spark appears with MS SQL Server 26 times\", \"x\": [-0.8911765793716513], \"y\": [-0.1257151716358963], \"type\": \"scatter\", \"uid\": \"4ea63699-0b79-47d5-8b1c-7023340e04b8\"}, {\"hoverinfo\": \"text\", \"marker\": {\"color\": \"green\", \"size\": 0.5}, \"mode\": \"markers\", \"text\": \"MS SQL Server appears with Informatica 62 times\", \"x\": [-0.29599065153356724], \"y\": [0.8499350176364864], \"type\": \"scatter\", \"uid\": \"128f93a5-cc7e-43ca-b3b6-cda78126b7f6\"}, {\"hoverinfo\": \"text\", \"marker\": {\"color\": \"blue\", \"size\": 0.5}, \"mode\": \"markers\", \"text\": \"Informatica appears with MS SQL Server 62 times\", \"x\": [-0.8470901389132175], \"y\": [-0.3040366697554521], \"type\": \"scatter\", \"uid\": \"c7076f8d-fdad-43a9-8411-358ea677327e\"}, {\"hoverinfo\": \"text\", \"marker\": {\"color\": \"green\", \"size\": 0.5}, \"mode\": \"markers\", \"text\": \"MS SQL Server appears with Qlik 65 times\", \"x\": [-0.3082418800263745], \"y\": [0.845569005698415], \"type\": \"scatter\", \"uid\": \"4c102f21-62e4-4a66-b757-3db6ae9e8eaa\"}, {\"hoverinfo\": \"text\", \"marker\": {\"color\": \"blue\", \"size\": 0.5}, \"mode\": \"markers\", \"text\": \"Qlik appears with MS SQL Server 65 times\", \"x\": [-0.7723816137866092], \"y\": [-0.46198121464448455], \"type\": \"scatter\", \"uid\": \"85fa9be6-7025-4896-9e04-e2dbb6aeebac\"}, {\"hoverinfo\": \"text\", \"marker\": {\"color\": \"green\", \"size\": 0.5}, \"mode\": \"markers\", \"text\": \"MS SQL Server appears with Tableau 104 times\", \"x\": [-0.3570477922006166], \"y\": [0.8261457946904198], \"type\": \"scatter\", \"uid\": \"db826ecf-663b-4aff-813d-b66218c3f5ce\"}, {\"hoverinfo\": \"text\", \"marker\": {\"color\": \"blue\", \"size\": 0.5}, \"mode\": \"markers\", \"text\": \"Tableau appears with MS SQL Server 104 times\", \"x\": [-0.4437184666266509], \"y\": [-0.7830159145090818], \"type\": \"scatter\", \"uid\": \"687208ce-2aff-49f0-8799-6f6866183693\"}, {\"hoverinfo\": \"text\", \"marker\": {\"color\": \"green\", \"size\": 0.5}, \"mode\": \"markers\", \"text\": \"MS SQL Server appears with Microstrategy 19 times\", \"x\": [-0.2514125748420334], \"y\": [0.8641711157006459], \"type\": \"scatter\", \"uid\": \"9817a7a9-25b4-435b-8298-501b467f36ce\"}, {\"hoverinfo\": \"text\", \"marker\": {\"color\": \"blue\", \"size\": 0.5}, \"mode\": \"markers\", \"text\": \"Microstrategy appears with MS SQL Server 19 times\", \"x\": [-0.07352040919227532], \"y\": [-0.8969920565045157], \"type\": \"scatter\", \"uid\": \"c983729f-2169-4d94-b317-3d9ef906b8b6\"}, {\"hoverinfo\": \"text\", \"marker\": {\"color\": \"green\", \"size\": 0.5}, \"mode\": \"markers\", \"text\": \"MS SQL Server appears with Oracle BI 172 times\", \"x\": [-0.45668569431151], \"y\": [0.775524452619783], \"type\": \"scatter\", \"uid\": \"aa4f6d35-51e8-4577-8767-6de241848e10\"}, {\"hoverinfo\": \"text\", \"marker\": {\"color\": \"blue\", \"size\": 0.5}, \"mode\": \"markers\", \"text\": \"Oracle BI appears with MS SQL Server 172 times\", \"x\": [0.2369313099168601], \"y\": [-0.8682531626093168], \"type\": \"scatter\", \"uid\": \"7fe66655-2040-4818-9ec7-a725d5de90e5\"}, {\"hoverinfo\": \"text\", \"marker\": {\"color\": \"green\", \"size\": 0.5}, \"mode\": \"markers\", \"text\": \"MS SQL Server appears with Python 114 times\", \"x\": [-0.37742918296156625], \"y\": [0.8170356245898733], \"type\": \"scatter\", \"uid\": \"35472bac-010e-4f0d-b776-9199420dee85\"}, {\"hoverinfo\": \"text\", \"marker\": {\"color\": \"blue\", \"size\": 0.5}, \"mode\": \"markers\", \"text\": \"Python appears with MS SQL Server 114 times\", \"x\": [0.6732373055538944], \"y\": [-0.5972868074974805], \"type\": \"scatter\", \"uid\": \"5a7db09a-37fd-4aba-af9b-e51095650aab\"}, {\"hoverinfo\": \"text\", \"marker\": {\"color\": \"green\", \"size\": 0.5}, \"mode\": \"markers\", \"text\": \"MS SQL Server appears with VBA 37 times\", \"x\": [-0.26769003209334735], \"y\": [0.8592683205599184], \"type\": \"scatter\", \"uid\": \"a07c8497-c4ea-4579-ac2b-4ae852e2dacb\"}, {\"hoverinfo\": \"text\", \"marker\": {\"color\": \"blue\", \"size\": 0.5}, \"mode\": \"markers\", \"text\": \"VBA appears with MS SQL Server 37 times\", \"x\": [0.8282713535035124], \"y\": [-0.35208885947365565], \"type\": \"scatter\", \"uid\": \"30627b65-9c81-4f85-be19-ef4e8b8d97f5\"}, {\"hoverinfo\": \"text\", \"marker\": {\"color\": \"green\", \"size\": 0.5}, \"mode\": \"markers\", \"text\": \"MS SQL Server appears with Linux 50 times\", \"x\": [-0.28513504195699846], \"y\": [0.8536381012163062], \"type\": \"scatter\", \"uid\": \"2785da09-8679-4938-b062-0ad9913e5784\"}, {\"hoverinfo\": \"text\", \"marker\": {\"color\": \"blue\", \"size\": 0.5}, \"mode\": \"markers\", \"text\": \"Linux appears with MS SQL Server 50 times\", \"x\": [0.8805590111238464], \"y\": [-0.18605329324845013], \"type\": \"scatter\", \"uid\": \"f9c111aa-ce3a-43b0-bd0e-e17b7a50ea3b\"}, {\"hoverinfo\": \"text\", \"marker\": {\"color\": \"green\", \"size\": 0.5}, \"mode\": \"markers\", \"text\": \"MS SQL Server appears with AWS 10 times\", \"x\": [-0.24639338666188268], \"y\": [0.8656155607481233], \"type\": \"scatter\", \"uid\": \"b0b081ef-9d3b-4b8c-84f3-c97528b6b729\"}, {\"hoverinfo\": \"text\", \"marker\": {\"color\": \"blue\", \"size\": 0.5}, \"mode\": \"markers\", \"text\": \"AWS appears with MS SQL Server 10 times\", \"x\": [0.8952329357500384], \"y\": [-0.09250940897210237], \"type\": \"scatter\", \"uid\": \"7dc0f31a-9930-48ca-87af-6629685a84cf\"}, {\"hoverinfo\": \"text\", \"marker\": {\"color\": \"green\", \"size\": 0.5}, \"mode\": \"markers\", \"text\": \"PostgreSQL appears with MySQL/MariaDB 94 times\", \"x\": [-0.6389271209867966], \"y\": [0.6338549787352966], \"type\": \"scatter\", \"uid\": \"172210fd-ec86-44f8-8cfe-5e23c3311ba4\"}, {\"hoverinfo\": \"text\", \"marker\": {\"color\": \"blue\", \"size\": 0.5}, \"mode\": \"markers\", \"text\": \"MySQL/MariaDB appears with PostgreSQL 94 times\", \"x\": [-0.7330045593433955], \"y\": [0.5222109879941197], \"type\": \"scatter\", \"uid\": \"3d7481ef-ad8a-47cd-a70c-e3e3cf883f29\"}, {\"hoverinfo\": \"text\", \"marker\": {\"color\": \"green\", \"size\": 0.5}, \"mode\": \"markers\", \"text\": \"PostgreSQL appears with T-SQL 35 times\", \"x\": [-0.5909604085694906], \"y\": [0.6787973154803876], \"type\": \"scatter\", \"uid\": \"e08a209f-014c-448e-8c64-bbcd564207a9\"}, {\"hoverinfo\": \"text\", \"marker\": {\"color\": \"blue\", \"size\": 0.5}, \"mode\": \"markers\", \"text\": \"T-SQL appears with PostgreSQL 35 times\", \"x\": [-0.7794021523157166], \"y\": [0.45003587075435275], \"type\": \"scatter\", \"uid\": \"72666914-784b-498a-b64d-7f69ef9d09d1\"}, {\"hoverinfo\": \"text\", \"marker\": {\"color\": \"green\", \"size\": 0.5}, \"mode\": \"markers\", \"text\": \"PostgreSQL appears with PL/SQL 1 times\", \"x\": [-0.5812221026913229], \"y\": [0.6871541801830776], \"type\": \"scatter\", \"uid\": \"3d9927aa-3963-42ff-88d1-29f0cf518f72\"}, {\"hoverinfo\": \"text\", \"marker\": {\"color\": \"blue\", \"size\": 0.5}, \"mode\": \"markers\", \"text\": \"PL/SQL appears with PostgreSQL 1 times\", \"x\": [-0.8663137622960064], \"y\": [0.24392717203406933], \"type\": \"scatter\", \"uid\": \"0b5308da-357b-4193-9853-871107dfd40c\"}, {\"hoverinfo\": \"text\", \"marker\": {\"color\": \"green\", \"size\": 0.5}, \"mode\": \"markers\", \"text\": \"PostgreSQL appears with Pentaho 45 times\", \"x\": [-0.6063895161379236], \"y\": [0.6650501896233209], \"type\": \"scatter\", \"uid\": \"f0c91cbc-8cc3-4ec7-b14e-61856a623baf\"}, {\"hoverinfo\": \"text\", \"marker\": {\"color\": \"blue\", \"size\": 0.5}, \"mode\": \"markers\", \"text\": \"Pentaho appears with PostgreSQL 45 times\", \"x\": [-0.8932643594714965], \"y\": [0.10990352177240291], \"type\": \"scatter\", \"uid\": \"411120a7-c484-41c0-a5e8-e5163ec11a32\"}, {\"hoverinfo\": \"text\", \"marker\": {\"color\": \"green\", \"size\": 0.5}, \"mode\": \"markers\", \"text\": \"PostgreSQL appears with Hadoop 3 times\", \"x\": [-0.5814765490246641], \"y\": [0.686938878601559], \"type\": \"scatter\", \"uid\": \"65e3199f-69b2-4e2f-8fd8-8868915e921d\"}, {\"hoverinfo\": \"text\", \"marker\": {\"color\": \"blue\", \"size\": 0.5}, \"mode\": \"markers\", \"text\": \"Hadoop appears with PostgreSQL 3 times\", \"x\": [-0.8987172632907839], \"y\": [0.04803416141792957], \"type\": \"scatter\", \"uid\": \"a3ff6e26-dded-4dc6-92a9-4c9012d1e553\"}, {\"hoverinfo\": \"text\", \"marker\": {\"color\": \"green\", \"size\": 0.5}, \"mode\": \"markers\", \"text\": \"PostgreSQL appears with Spark 7 times\", \"x\": [-0.5832554382940528], \"y\": [0.6854291310561671], \"type\": \"scatter\", \"uid\": \"9e461534-edda-433d-bfb5-d4bf918b81f6\"}, {\"hoverinfo\": \"text\", \"marker\": {\"color\": \"blue\", \"size\": 0.5}, \"mode\": \"markers\", \"text\": \"Spark appears with PostgreSQL 7 times\", \"x\": [-0.8934493397965018], \"y\": [-0.10838947004757894], \"type\": \"scatter\", \"uid\": \"8f4316c7-a8c4-4147-9850-e4b3298405d7\"}, {\"hoverinfo\": \"text\", \"marker\": {\"color\": \"green\", \"size\": 0.5}, \"mode\": \"markers\", \"text\": \"PostgreSQL appears with Qlik 14 times\", \"x\": [-0.5845870334661446], \"y\": [0.6842937967739097], \"type\": \"scatter\", \"uid\": \"c05227d1-6a23-4c2f-ba89-ce05d07191d1\"}, {\"hoverinfo\": \"text\", \"marker\": {\"color\": \"blue\", \"size\": 0.5}, \"mode\": \"markers\", \"text\": \"Qlik appears with PostgreSQL 14 times\", \"x\": [-0.79676276642454], \"y\": [-0.4185320705029831], \"type\": \"scatter\", \"uid\": \"1766d228-bd38-403d-a311-add70b086cb5\"}, {\"hoverinfo\": \"text\", \"marker\": {\"color\": \"green\", \"size\": 0.5}, \"mode\": \"markers\", \"text\": \"PostgreSQL appears with Tableau 6 times\", \"x\": [-0.5824300121811514], \"y\": [0.6861306587747438], \"type\": \"scatter\", \"uid\": \"75cf0d31-bdba-4604-8e40-990d59ed86eb\"}, {\"hoverinfo\": \"text\", \"marker\": {\"color\": \"blue\", \"size\": 0.5}, \"mode\": \"markers\", \"text\": \"Tableau appears with PostgreSQL 6 times\", \"x\": [-0.5428576652287802], \"y\": [-0.7178478636189967], \"type\": \"scatter\", \"uid\": \"798231c0-c91b-484f-b3af-b0048bdb8668\"}, {\"hoverinfo\": \"text\", \"marker\": {\"color\": \"green\", \"size\": 0.5}, \"mode\": \"markers\", \"text\": \"PostgreSQL appears with Oracle BI 44 times\", \"x\": [-0.6008888152073871], \"y\": [0.6700243516161652], \"type\": \"scatter\", \"uid\": \"6a22486d-d7e7-4cb6-94fd-8fb4500f65a8\"}, {\"hoverinfo\": \"text\", \"marker\": {\"color\": \"blue\", \"size\": 0.5}, \"mode\": \"markers\", \"text\": \"Oracle BI appears with PostgreSQL 44 times\", \"x\": [0.023456762043178304], \"y\": [-0.8996942704688352], \"type\": \"scatter\", \"uid\": \"03a82843-3aeb-41cd-8ace-ac79b0366534\"}, {\"hoverinfo\": \"text\", \"marker\": {\"color\": \"green\", \"size\": 0.5}, \"mode\": \"markers\", \"text\": \"PostgreSQL appears with Python 26 times\", \"x\": [-0.5871172872610931], \"y\": [0.6821241023444159], \"type\": \"scatter\", \"uid\": \"5da6fb00-f9d9-47e2-b14c-e9c9e9e29cf5\"}, {\"hoverinfo\": \"text\", \"marker\": {\"color\": \"blue\", \"size\": 0.5}, \"mode\": \"markers\", \"text\": \"Python appears with PostgreSQL 26 times\", \"x\": [0.5827616729948054], \"y\": [-0.6858489866496089], \"type\": \"scatter\", \"uid\": \"2e31dc9d-213b-4b66-8a4f-723b82940835\"}, {\"hoverinfo\": \"text\", \"marker\": {\"color\": \"green\", \"size\": 0.5}, \"mode\": \"markers\", \"text\": \"PostgreSQL appears with Linux 40 times\", \"x\": [-0.5956597087834058], \"y\": [0.6746773386827724], \"type\": \"scatter\", \"uid\": \"ed9a69e3-efa1-4837-9ac7-f15ef39bea4f\"}, {\"hoverinfo\": \"text\", \"marker\": {\"color\": \"blue\", \"size\": 0.5}, \"mode\": \"markers\", \"text\": \"Linux appears with PostgreSQL 40 times\", \"x\": [0.8772149019319041], \"y\": [-0.20123124963235686], \"type\": \"scatter\", \"uid\": \"3d6413a1-5546-41f0-b9ca-a10bddb9ae08\"}, {\"hoverinfo\": \"text\", \"marker\": {\"color\": \"green\", \"size\": 0.5}, \"mode\": \"markers\", \"text\": \"PostgreSQL appears with AWS 3 times\", \"x\": [-0.5818580689750884], \"y\": [0.6866157495780164], \"type\": \"scatter\", \"uid\": \"c101c8cc-cc0a-4d92-9fc2-853c7c8776df\"}, {\"hoverinfo\": \"text\", \"marker\": {\"color\": \"blue\", \"size\": 0.5}, \"mode\": \"markers\", \"text\": \"AWS appears with PostgreSQL 3 times\", \"x\": [0.8947944287415873], \"y\": [-0.09665883453164778], \"type\": \"scatter\", \"uid\": \"5399be85-6866-4da5-a1d0-cb2247012c84\"}, {\"hoverinfo\": \"text\", \"marker\": {\"color\": \"green\", \"size\": 0.5}, \"mode\": \"markers\", \"text\": \"MySQL/MariaDB appears with T-SQL 39 times\", \"x\": [-0.6742366322422488], \"y\": [0.5961585055525338], \"type\": \"scatter\", \"uid\": \"61af8ce3-467d-43c4-a71a-35ae582031ad\"}, {\"hoverinfo\": \"text\", \"marker\": {\"color\": \"blue\", \"size\": 0.5}, \"mode\": \"markers\", \"text\": \"T-SQL appears with MySQL/MariaDB 39 times\", \"x\": [-0.783007981737471], \"y\": [0.4437324650455637], \"type\": \"scatter\", \"uid\": \"b78f957d-906c-4d19-9c2a-e6b61c3d175f\"}, {\"hoverinfo\": \"text\", \"marker\": {\"color\": \"green\", \"size\": 0.5}, \"mode\": \"markers\", \"text\": \"MySQL/MariaDB appears with Pentaho 63 times\", \"x\": [-0.6978139121622845], \"y\": [0.568379929266303], \"type\": \"scatter\", \"uid\": \"85c5e0b9-8dc3-47f0-991e-f14d67914d65\"}, {\"hoverinfo\": \"text\", \"marker\": {\"color\": \"blue\", \"size\": 0.5}, \"mode\": \"markers\", \"text\": \"Pentaho appears with MySQL/MariaDB 63 times\", \"x\": [-0.8951701754200513], \"y\": [0.09311475199147991], \"type\": \"scatter\", \"uid\": \"5d193123-d8f0-4432-8e45-dd587c5ad5af\"}, {\"hoverinfo\": \"text\", \"marker\": {\"color\": \"green\", \"size\": 0.5}, \"mode\": \"markers\", \"text\": \"MySQL/MariaDB appears with Hadoop 6 times\", \"x\": [-0.665448967535789], \"y\": [0.6059518723508928], \"type\": \"scatter\", \"uid\": \"ee496af1-aecb-4a79-9597-433668424090\"}, {\"hoverinfo\": \"text\", \"marker\": {\"color\": \"blue\", \"size\": 0.5}, \"mode\": \"markers\", \"text\": \"Hadoop appears with MySQL/MariaDB 6 times\", \"x\": [-0.8988350858188265], \"y\": [0.0457765059944809], \"type\": \"scatter\", \"uid\": \"0cf93de0-1d55-4b48-834a-6cbbd348fd35\"}, {\"hoverinfo\": \"text\", \"marker\": {\"color\": \"green\", \"size\": 0.5}, \"mode\": \"markers\", \"text\": \"MySQL/MariaDB appears with Spark 24 times\", \"x\": [-0.6703827928616389], \"y\": [0.6004888933486022], \"type\": \"scatter\", \"uid\": \"eadeebcd-9e6f-48ac-ad38-863ed1fdab1e\"}, {\"hoverinfo\": \"text\", \"marker\": {\"color\": \"blue\", \"size\": 0.5}, \"mode\": \"markers\", \"text\": \"Spark appears with MySQL/MariaDB 24 times\", \"x\": [-0.8918040409355248], \"y\": [-0.12118396169076538], \"type\": \"scatter\", \"uid\": \"96abcc5e-aac4-4374-a086-0b7713b54905\"}, {\"hoverinfo\": \"text\", \"marker\": {\"color\": \"green\", \"size\": 0.5}, \"mode\": \"markers\", \"text\": \"MySQL/MariaDB appears with Informatica 8 times\", \"x\": [-0.6663156098879415], \"y\": [0.6049987669571406], \"type\": \"scatter\", \"uid\": \"c0152a4a-2d72-4ef9-9ce4-3227c2a5b935\"}, {\"hoverinfo\": \"text\", \"marker\": {\"color\": \"blue\", \"size\": 0.5}, \"mode\": \"markers\", \"text\": \"Informatica appears with MySQL/MariaDB 8 times\", \"x\": [-0.858977641722398], \"y\": [-0.26862131527678107], \"type\": \"scatter\", \"uid\": \"db00714b-810b-4de8-89ae-e3303516f0f2\"}, {\"hoverinfo\": \"text\", \"marker\": {\"color\": \"green\", \"size\": 0.5}, \"mode\": \"markers\", \"text\": \"MySQL/MariaDB appears with Qlik 17 times\", \"x\": [-0.6678597890064821], \"y\": [0.6032937114111311], \"type\": \"scatter\", \"uid\": \"235ca4f9-e453-47fe-b69e-d7ecf12488c3\"}, {\"hoverinfo\": \"text\", \"marker\": {\"color\": \"blue\", \"size\": 0.5}, \"mode\": \"markers\", \"text\": \"Qlik appears with MySQL/MariaDB 17 times\", \"x\": [-0.7937321984971737], \"y\": [-0.4242513371444376], \"type\": \"scatter\", \"uid\": \"25f99717-cbaa-47e0-83e2-1aab342c3f91\"}, {\"hoverinfo\": \"text\", \"marker\": {\"color\": \"green\", \"size\": 0.5}, \"mode\": \"markers\", \"text\": \"MySQL/MariaDB appears with Tableau 48 times\", \"x\": [-0.684794482450484], \"y\": [0.5840004424701867], \"type\": \"scatter\", \"uid\": \"6aa7c49c-7799-4d6c-b492-6d317b46de2a\"}, {\"hoverinfo\": \"text\", \"marker\": {\"color\": \"blue\", \"size\": 0.5}, \"mode\": \"markers\", \"text\": \"Tableau appears with MySQL/MariaDB 48 times\", \"x\": [-0.507106162336762], \"y\": [-0.7435343570542532], \"type\": \"scatter\", \"uid\": \"c428132f-089b-424e-93b8-58f085575326\"}, {\"hoverinfo\": \"text\", \"marker\": {\"color\": \"green\", \"size\": 0.5}, \"mode\": \"markers\", \"text\": \"MySQL/MariaDB appears with Oracle BI 69 times\", \"x\": [-0.7054207110250896], \"y\": [0.5589111024634035], \"type\": \"scatter\", \"uid\": \"0a65b1e4-bfcd-4181-b866-a1debfdcde9d\"}, {\"hoverinfo\": \"text\", \"marker\": {\"color\": \"blue\", \"size\": 0.5}, \"mode\": \"markers\", \"text\": \"Oracle BI appears with MySQL/MariaDB 69 times\", \"x\": [0.05774430717968987], \"y\": [-0.8981456424146018], \"type\": \"scatter\", \"uid\": \"696f300b-0688-4ee1-81e3-d1dd8a877f60\"}, {\"hoverinfo\": \"text\", \"marker\": {\"color\": \"green\", \"size\": 0.5}, \"mode\": \"markers\", \"text\": \"MySQL/MariaDB appears with Python 55 times\", \"x\": [-0.6909062670327633], \"y\": [0.5767569073490599], \"type\": \"scatter\", \"uid\": \"770aa0d3-cb3f-4980-83d6-294a940355bb\"}, {\"hoverinfo\": \"text\", \"marker\": {\"color\": \"blue\", \"size\": 0.5}, \"mode\": \"markers\", \"text\": \"Python appears with MySQL/MariaDB 55 times\", \"x\": [0.6141199281039927], \"y\": [-0.6579184705611684], \"type\": \"scatter\", \"uid\": \"427dca98-5dcb-4640-a126-89ade6acd70a\"}, {\"hoverinfo\": \"text\", \"marker\": {\"color\": \"green\", \"size\": 0.5}, \"mode\": \"markers\", \"text\": \"MySQL/MariaDB appears with VBA 5 times\", \"x\": [-0.6641464483166636], \"y\": [0.6073792021368211], \"type\": \"scatter\", \"uid\": \"322b5499-306e-4be3-a8bb-82604a464595\"}, {\"hoverinfo\": \"text\", \"marker\": {\"color\": \"blue\", \"size\": 0.5}, \"mode\": \"markers\", \"text\": \"VBA appears with MySQL/MariaDB 5 times\", \"x\": [0.8176967879165596], \"y\": [-0.3759946316517576], \"type\": \"scatter\", \"uid\": \"6e4fd54f-022d-4737-a199-10cddbef1352\"}, {\"hoverinfo\": \"text\", \"marker\": {\"color\": \"green\", \"size\": 0.5}, \"mode\": \"markers\", \"text\": \"MySQL/MariaDB appears with Linux 44 times\", \"x\": [-0.6792711855850577], \"y\": [0.5904156641162818], \"type\": \"scatter\", \"uid\": \"a8e641b8-9f11-45a4-8b08-e8d0b2bf8bfa\"}, {\"hoverinfo\": \"text\", \"marker\": {\"color\": \"blue\", \"size\": 0.5}, \"mode\": \"markers\", \"text\": \"Linux appears with MySQL/MariaDB 44 times\", \"x\": [0.87882568019696], \"y\": [-0.19407581978791344], \"type\": \"scatter\", \"uid\": \"0a526669-77d3-48ae-8db6-dd7a456b973a\"}, {\"hoverinfo\": \"text\", \"marker\": {\"color\": \"green\", \"size\": 0.5}, \"mode\": \"markers\", \"text\": \"T-SQL appears with PL/SQL 39 times\", \"x\": [-0.7867535309154454], \"y\": [0.437057069033415], \"type\": \"scatter\", \"uid\": \"4dad1235-a848-426e-8502-d8eed6ecfecc\"}, {\"hoverinfo\": \"text\", \"marker\": {\"color\": \"blue\", \"size\": 0.5}, \"mode\": \"markers\", \"text\": \"PL/SQL appears with T-SQL 39 times\", \"x\": [-0.8733492049214726], \"y\": [0.21739633452068977], \"type\": \"scatter\", \"uid\": \"e4d775ae-72af-4f40-82f2-d0d15bb1f85c\"}, {\"hoverinfo\": \"text\", \"marker\": {\"color\": \"green\", \"size\": 0.5}, \"mode\": \"markers\", \"text\": \"T-SQL appears with Pentaho 39 times\", \"x\": [-0.7904421715389041], \"y\": [0.43035005919932406], \"type\": \"scatter\", \"uid\": \"0801c62d-db40-4a0f-a13a-cd12029f42e5\"}, {\"hoverinfo\": \"text\", \"marker\": {\"color\": \"blue\", \"size\": 0.5}, \"mode\": \"markers\", \"text\": \"Pentaho appears with T-SQL 39 times\", \"x\": [-0.8914666213256889], \"y\": [0.12364167202913766], \"type\": \"scatter\", \"uid\": \"b37063ba-5111-4285-87f1-db381340a939\"}, {\"hoverinfo\": \"text\", \"marker\": {\"color\": \"green\", \"size\": 0.5}, \"mode\": \"markers\", \"text\": \"T-SQL appears with Hadoop 17 times\", \"x\": [-0.7697087545418999], \"y\": [0.4664208755850849], \"type\": \"scatter\", \"uid\": \"063a3b2c-8923-4e37-80ff-c0a79da08d58\"}, {\"hoverinfo\": \"text\", \"marker\": {\"color\": \"blue\", \"size\": 0.5}, \"mode\": \"markers\", \"text\": \"Hadoop appears with T-SQL 17 times\", \"x\": [-0.8990743310004669], \"y\": [0.04080866741346722], \"type\": \"scatter\", \"uid\": \"bbbd368e-766c-4b75-ab36-6caf7f1336f1\"}, {\"hoverinfo\": \"text\", \"marker\": {\"color\": \"green\", \"size\": 0.5}, \"mode\": \"markers\", \"text\": \"T-SQL appears with Spark 18 times\", \"x\": [-0.7714831539426679], \"y\": [0.4634800353657898], \"type\": \"scatter\", \"uid\": \"fee8a536-fbb3-436e-bca7-b3a392da4fb7\"}, {\"hoverinfo\": \"text\", \"marker\": {\"color\": \"blue\", \"size\": 0.5}, \"mode\": \"markers\", \"text\": \"Spark appears with T-SQL 18 times\", \"x\": [-0.8923133048376686], \"y\": [-0.11737532112704917], \"type\": \"scatter\", \"uid\": \"b808380a-39a1-4041-9e33-b88e6644ea60\"}, {\"hoverinfo\": \"text\", \"marker\": {\"color\": \"green\", \"size\": 0.5}, \"mode\": \"markers\", \"text\": \"T-SQL appears with Informatica 12 times\", \"x\": [-0.7668977734016644], \"y\": [0.47102845471539134], \"type\": \"scatter\", \"uid\": \"0c4b9da8-ec13-466a-8d9b-2032ae1bad49\"}, {\"hoverinfo\": \"text\", \"marker\": {\"color\": \"blue\", \"size\": 0.5}, \"mode\": \"markers\", \"text\": \"Informatica appears with T-SQL 12 times\", \"x\": [-0.8579378043616286], \"y\": [-0.27192411413324086], \"type\": \"scatter\", \"uid\": \"98b148a6-8f13-4544-b1e5-1233cdb0e4f3\"}, {\"hoverinfo\": \"text\", \"marker\": {\"color\": \"green\", \"size\": 0.5}, \"mode\": \"markers\", \"text\": \"T-SQL appears with Qlik 72 times\", \"x\": [-0.803961813762749], \"y\": [0.4045310890541182], \"type\": \"scatter\", \"uid\": \"0e8ef933-0bdb-4ddb-b102-46796dad53fd\"}, {\"hoverinfo\": \"text\", \"marker\": {\"color\": \"blue\", \"size\": 0.5}, \"mode\": \"markers\", \"text\": \"Qlik appears with T-SQL 72 times\", \"x\": [-0.7650624090728527], \"y\": [-0.4740037027530935], \"type\": \"scatter\", \"uid\": \"6717c29d-dff5-4c39-a695-5c59fb7775c4\"}, {\"hoverinfo\": \"text\", \"marker\": {\"color\": \"green\", \"size\": 0.5}, \"mode\": \"markers\", \"text\": \"T-SQL appears with Tableau 95 times\", \"x\": [-0.8111943394931813], \"y\": [0.3898252731342869], \"type\": \"scatter\", \"uid\": \"40db6cb5-c721-43a4-b41e-48b821ce6fa4\"}, {\"hoverinfo\": \"text\", \"marker\": {\"color\": \"blue\", \"size\": 0.5}, \"mode\": \"markers\", \"text\": \"Tableau appears with T-SQL 95 times\", \"x\": [-0.4616616089768265], \"y\": [-0.7725726883581426], \"type\": \"scatter\", \"uid\": \"a355927a-1d8a-482d-9495-12220440bb7d\"}, {\"hoverinfo\": \"text\", \"marker\": {\"color\": \"green\", \"size\": 0.5}, \"mode\": \"markers\", \"text\": \"T-SQL appears with Microstrategy 13 times\", \"x\": [-0.7681789173634922], \"y\": [0.4689361906680408], \"type\": \"scatter\", \"uid\": \"987b052f-6403-41ac-87eb-fd8525a57143\"}, {\"hoverinfo\": \"text\", \"marker\": {\"color\": \"blue\", \"size\": 0.5}, \"mode\": \"markers\", \"text\": \"Microstrategy appears with T-SQL 13 times\", \"x\": [-0.07772977420688464], \"y\": [-0.8966370961552654], \"type\": \"scatter\", \"uid\": \"a87e648d-01cc-4869-9ba2-2d66a06c143b\"}, {\"hoverinfo\": \"text\", \"marker\": {\"color\": \"green\", \"size\": 0.5}, \"mode\": \"markers\", \"text\": \"T-SQL appears with Oracle BI 136 times\", \"x\": [-0.8304391013918521], \"y\": [0.34694509490623043], \"type\": \"scatter\", \"uid\": \"5b24c19c-ae3f-4e3e-95b6-c39e6f219fbe\"}, {\"hoverinfo\": \"text\", \"marker\": {\"color\": \"blue\", \"size\": 0.5}, \"mode\": \"markers\", \"text\": \"Oracle BI appears with T-SQL 136 times\", \"x\": [0.1394927574730676], \"y\": [-0.8891241592784216], \"type\": \"scatter\", \"uid\": \"5e08dc30-327c-44b6-8bfb-d35e5d3df56b\"}, {\"hoverinfo\": \"text\", \"marker\": {\"color\": \"green\", \"size\": 0.5}, \"mode\": \"markers\", \"text\": \"T-SQL appears with Python 49 times\", \"x\": [-0.7985547978116486], \"y\": [0.4151026799383461], \"type\": \"scatter\", \"uid\": \"f3286d60-5786-461e-be8f-f44a3fa2cdf7\"}, {\"hoverinfo\": \"text\", \"marker\": {\"color\": \"blue\", \"size\": 0.5}, \"mode\": \"markers\", \"text\": \"Python appears with T-SQL 49 times\", \"x\": [0.5980284251261898], \"y\": [-0.6725786219774528], \"type\": \"scatter\", \"uid\": \"0a6d6ea0-2578-43b4-9e85-3368ea057369\"}, {\"hoverinfo\": \"text\", \"marker\": {\"color\": \"green\", \"size\": 0.5}, \"mode\": \"markers\", \"text\": \"T-SQL appears with VBA 27 times\", \"x\": [-0.776341974937513], \"y\": [0.45529456174011357], \"type\": \"scatter\", \"uid\": \"3f974dc9-03cb-498b-9c29-41958e91d1a7\"}, {\"hoverinfo\": \"text\", \"marker\": {\"color\": \"blue\", \"size\": 0.5}, \"mode\": \"markers\", \"text\": \"VBA appears with T-SQL 27 times\", \"x\": [0.8211501935670688], \"y\": [-0.36839158460090476], \"type\": \"scatter\", \"uid\": \"e1dd9e22-04a1-4f23-8174-c90b4432a547\"}, {\"hoverinfo\": \"text\", \"marker\": {\"color\": \"green\", \"size\": 0.5}, \"mode\": \"markers\", \"text\": \"T-SQL appears with Linux 26 times\", \"x\": [-0.7736978828934974], \"y\": [0.4597734072411321], \"type\": \"scatter\", \"uid\": \"6b3367ba-eba7-4409-93a6-758551d904f8\"}, {\"hoverinfo\": \"text\", \"marker\": {\"color\": \"blue\", \"size\": 0.5}, \"mode\": \"markers\", \"text\": \"Linux appears with T-SQL 26 times\", \"x\": [0.8744835044386284], \"y\": [-0.21278768870575038], \"type\": \"scatter\", \"uid\": \"09fd37e5-f085-441d-bd6c-c00f08567bb0\"}, {\"hoverinfo\": \"text\", \"marker\": {\"color\": \"green\", \"size\": 0.5}, \"mode\": \"markers\", \"text\": \"T-SQL appears with AWS 9 times\", \"x\": [-0.7658172081886756], \"y\": [0.4727832522859739], \"type\": \"scatter\", \"uid\": \"060c9514-c2f8-46c8-a31c-64a2b62efee5\"}, {\"hoverinfo\": \"text\", \"marker\": {\"color\": \"blue\", \"size\": 0.5}, \"mode\": \"markers\", \"text\": \"AWS appears with T-SQL 9 times\", \"x\": [0.8950779472332611], \"y\": [-0.09399717217390914], \"type\": \"scatter\", \"uid\": \"6e3b8e01-0c37-4aff-b56e-83a36e98f76f\"}, {\"hoverinfo\": \"text\", \"marker\": {\"color\": \"green\", \"size\": 0.5}, \"mode\": \"markers\", \"text\": \"PL/SQL appears with Pentaho 8 times\", \"x\": [-0.8670574727590896], \"y\": [0.24127026118570968], \"type\": \"scatter\", \"uid\": \"dd1fc270-3b39-4f1c-8955-137d04963534\"}, {\"hoverinfo\": \"text\", \"marker\": {\"color\": \"blue\", \"size\": 0.5}, \"mode\": \"markers\", \"text\": \"Pentaho appears with PL/SQL 8 times\", \"x\": [-0.88466827121298], \"y\": [0.16541478141036028], \"type\": \"scatter\", \"uid\": \"cf5efd88-dc1a-4ca7-ac1f-41678999f360\"}, {\"hoverinfo\": \"text\", \"marker\": {\"color\": \"green\", \"size\": 0.5}, \"mode\": \"markers\", \"text\": \"PL/SQL appears with Hadoop 3 times\", \"x\": [-0.8665816723773391], \"y\": [0.24297367161833433], \"type\": \"scatter\", \"uid\": \"270e0924-e4ba-4995-b4f4-a4fe8cf8ff0a\"}, {\"hoverinfo\": \"text\", \"marker\": {\"color\": \"blue\", \"size\": 0.5}, \"mode\": \"markers\", \"text\": \"Hadoop appears with PL/SQL 3 times\", \"x\": [-0.8987460578915194], \"y\": [0.04749235122052541], \"type\": \"scatter\", \"uid\": \"cf78b5ba-dba0-400d-844d-ad109db3a596\"}, {\"hoverinfo\": \"text\", \"marker\": {\"color\": \"green\", \"size\": 0.5}, \"mode\": \"markers\", \"text\": \"PL/SQL appears with Informatica 30 times\", \"x\": [-0.8707789560255643], \"y\": [0.22747309674558966], \"type\": \"scatter\", \"uid\": \"93d6de58-c7b1-4e26-b2aa-7f5432d1af6e\"}, {\"hoverinfo\": \"text\", \"marker\": {\"color\": \"blue\", \"size\": 0.5}, \"mode\": \"markers\", \"text\": \"Informatica appears with PL/SQL 30 times\", \"x\": [-0.8517863651596558], \"y\": [-0.2906200064140483], \"type\": \"scatter\", \"uid\": \"634223ef-b6b1-4c10-b2d5-0fbcdc7c65e0\"}, {\"hoverinfo\": \"text\", \"marker\": {\"color\": \"green\", \"size\": 0.5}, \"mode\": \"markers\", \"text\": \"PL/SQL appears with Qlik 18 times\", \"x\": [-0.8682974929093381], \"y\": [0.23676879821327365], \"type\": \"scatter\", \"uid\": \"e1e839d4-bb22-4c4e-9bc1-a9b324d74387\"}, {\"hoverinfo\": \"text\", \"marker\": {\"color\": \"blue\", \"size\": 0.5}, \"mode\": \"markers\", \"text\": \"Qlik appears with PL/SQL 18 times\", \"x\": [-0.7920308005947941], \"y\": [-0.42741924489799166], \"type\": \"scatter\", \"uid\": \"66487024-1204-46a4-a72e-da1e227b2001\"}, {\"hoverinfo\": \"text\", \"marker\": {\"color\": \"green\", \"size\": 0.5}, \"mode\": \"markers\", \"text\": \"PL/SQL appears with Tableau 20 times\", \"x\": [-0.8690008448107451], \"y\": [0.23417414827049404], \"type\": \"scatter\", \"uid\": \"24c27c2d-dbec-4a2a-8488-4932e125cf05\"}, {\"hoverinfo\": \"text\", \"marker\": {\"color\": \"blue\", \"size\": 0.5}, \"mode\": \"markers\", \"text\": \"Tableau appears with PL/SQL 20 times\", \"x\": [-0.537684451856997], \"y\": [-0.7217308571976404], \"type\": \"scatter\", \"uid\": \"52bd1baf-b86e-4660-a38f-48efcbbd71ca\"}, {\"hoverinfo\": \"text\", \"marker\": {\"color\": \"green\", \"size\": 0.5}, \"mode\": \"markers\", \"text\": \"PL/SQL appears with Microstrategy 24 times\", \"x\": [-0.8698055655802382], \"y\": [0.2311672080673248], \"type\": \"scatter\", \"uid\": \"c71337a9-5c0a-44fa-a729-ab415d8e6ca8\"}, {\"hoverinfo\": \"text\", \"marker\": {\"color\": \"blue\", \"size\": 0.5}, \"mode\": \"markers\", \"text\": \"Microstrategy appears with PL/SQL 24 times\", \"x\": [-0.06783521434781081], \"y\": [-0.8974399053387289], \"type\": \"scatter\", \"uid\": \"b02e0318-7842-47f4-8690-247d7ea86755\"}, {\"hoverinfo\": \"text\", \"marker\": {\"color\": \"green\", \"size\": 0.5}, \"mode\": \"markers\", \"text\": \"PL/SQL appears with Oracle BI 83 times\", \"x\": [-0.8772315783921443], \"y\": [0.20115853914668216], \"type\": \"scatter\", \"uid\": \"eb6f2ff9-41f4-4918-a344-203108ee76b8\"}, {\"hoverinfo\": \"text\", \"marker\": {\"color\": \"blue\", \"size\": 0.5}, \"mode\": \"markers\", \"text\": \"Oracle BI appears with PL/SQL 83 times\", \"x\": [0.08932094243982874], \"y\": [-0.8955566811998338], \"type\": \"scatter\", \"uid\": \"16de8060-4ebd-4bce-907e-318ed1618081\"}, {\"hoverinfo\": \"text\", \"marker\": {\"color\": \"green\", \"size\": 0.5}, \"mode\": \"markers\", \"text\": \"PL/SQL appears with Python 3 times\", \"x\": [-0.8664669822576266], \"y\": [0.2433823507515728], \"type\": \"scatter\", \"uid\": \"96f54937-bcbc-474a-92a4-3d3e0b4e04eb\"}, {\"hoverinfo\": \"text\", \"marker\": {\"color\": \"blue\", \"size\": 0.5}, \"mode\": \"markers\", \"text\": \"Python appears with PL/SQL 3 times\", \"x\": [0.5775019502362634], \"y\": [-0.6902836355247837], \"type\": \"scatter\", \"uid\": \"2fbb1f9b-bcdc-4bfb-85e8-7573f5f93fbc\"}, {\"hoverinfo\": \"text\", \"marker\": {\"color\": \"green\", \"size\": 0.5}, \"mode\": \"markers\", \"text\": \"PL/SQL appears with VBA 7 times\", \"x\": [-0.8667723942127047], \"y\": [0.24229241967254325], \"type\": \"scatter\", \"uid\": \"90f0c963-bd9f-4bd2-af02-08b2b8e27fb1\"}, {\"hoverinfo\": \"text\", \"marker\": {\"color\": \"blue\", \"size\": 0.5}, \"mode\": \"markers\", \"text\": \"VBA appears with PL/SQL 7 times\", \"x\": [0.8192069359074512], \"y\": [-0.3726928979214994], \"type\": \"scatter\", \"uid\": \"57578bd7-a1ac-441c-b872-e924dd49df9b\"}, {\"hoverinfo\": \"text\", \"marker\": {\"color\": \"green\", \"size\": 0.5}, \"mode\": \"markers\", \"text\": \"PL/SQL appears with Linux 1 times\", \"x\": [-0.866275403775839], \"y\": [0.24406336229144912], \"type\": \"scatter\", \"uid\": \"d3f4975c-ea43-485f-b41a-d4e85ffdaf05\"}, {\"hoverinfo\": \"text\", \"marker\": {\"color\": \"blue\", \"size\": 0.5}, \"mode\": \"markers\", \"text\": \"Linux appears with PL/SQL 1 times\", \"x\": [0.8701680387647225], \"y\": [-0.22979900851038626], \"type\": \"scatter\", \"uid\": \"5036ae23-6f16-4d93-8f09-d2b659de19ec\"}, {\"hoverinfo\": \"text\", \"marker\": {\"color\": \"green\", \"size\": 0.5}, \"mode\": \"markers\", \"text\": \"PL/SQL appears with AWS 2 times\", \"x\": [-0.866371259930416], \"y\": [0.24372287534530623], \"type\": \"scatter\", \"uid\": \"6eb71a99-11e2-48c9-96f0-8ec43f179a04\"}, {\"hoverinfo\": \"text\", \"marker\": {\"color\": \"blue\", \"size\": 0.5}, \"mode\": \"markers\", \"text\": \"AWS appears with PL/SQL 2 times\", \"x\": [0.8947010074700966], \"y\": [-0.09751977867076084], \"type\": \"scatter\", \"uid\": \"a20f4ba2-fa72-401e-b719-e0cb20bd7444\"}, {\"hoverinfo\": \"text\", \"marker\": {\"color\": \"green\", \"size\": 0.5}, \"mode\": \"markers\", \"text\": \"Pentaho appears with Spark 6 times\", \"x\": [-0.8844501193853448], \"y\": [0.1665772683148859], \"type\": \"scatter\", \"uid\": \"f614eb7f-9c52-450c-806c-5398da0839e8\"}, {\"hoverinfo\": \"text\", \"marker\": {\"color\": \"blue\", \"size\": 0.5}, \"mode\": \"markers\", \"text\": \"Spark appears with Pentaho 6 times\", \"x\": [-0.8935917972110022], \"y\": [-0.1072086748225683], \"type\": \"scatter\", \"uid\": \"15585641-deaa-4b71-adac-bd9ec87660d3\"}, {\"hoverinfo\": \"text\", \"marker\": {\"color\": \"green\", \"size\": 0.5}, \"mode\": \"markers\", \"text\": \"Pentaho appears with Informatica 32 times\", \"x\": [-0.8859153222821359], \"y\": [0.1586002577101922], \"type\": \"scatter\", \"uid\": \"020d946f-fe20-4f09-a5e4-2aac8944457f\"}, {\"hoverinfo\": \"text\", \"marker\": {\"color\": \"blue\", \"size\": 0.5}, \"mode\": \"markers\", \"text\": \"Informatica appears with Pentaho 32 times\", \"x\": [-0.8499452951667334], \"y\": [-0.29596113802986757], \"type\": \"scatter\", \"uid\": \"dc426771-df98-4ceb-8fad-821128b8e6f3\"}, {\"hoverinfo\": \"text\", \"marker\": {\"color\": \"green\", \"size\": 0.5}, \"mode\": \"markers\", \"text\": \"Pentaho appears with Qlik 32 times\", \"x\": [-0.8868521621254599], \"y\": [0.15327505515705053], \"type\": \"scatter\", \"uid\": \"d210a603-a680-4e53-8205-54ceb0ec51a1\"}, {\"hoverinfo\": \"text\", \"marker\": {\"color\": \"blue\", \"size\": 0.5}, \"mode\": \"markers\", \"text\": \"Qlik appears with Pentaho 32 times\", \"x\": [-0.7865014978296035], \"y\": [-0.43751045006009887], \"type\": \"scatter\", \"uid\": \"e8ea6ab6-b9bc-4be6-a7a6-271c56dd5639\"}, {\"hoverinfo\": \"text\", \"marker\": {\"color\": \"green\", \"size\": 0.5}, \"mode\": \"markers\", \"text\": \"Pentaho appears with Tableau 39 times\", \"x\": [-0.8905374331894002], \"y\": [0.13016558718968238], \"type\": \"scatter\", \"uid\": \"249f6727-cceb-48bf-92a6-57e4c473c572\"}, {\"hoverinfo\": \"text\", \"marker\": {\"color\": \"blue\", \"size\": 0.5}, \"mode\": \"markers\", \"text\": \"Tableau appears with Pentaho 39 times\", \"x\": [-0.514578872870833], \"y\": [-0.738382410133789], \"type\": \"scatter\", \"uid\": \"2b557706-71c9-47d7-9af8-30d630c2c67f\"}, {\"hoverinfo\": \"text\", \"marker\": {\"color\": \"green\", \"size\": 0.5}, \"mode\": \"markers\", \"text\": \"Pentaho appears with Microstrategy 3 times\", \"x\": [-0.8843090722608951], \"y\": [0.16732442952861126], \"type\": \"scatter\", \"uid\": \"7e84edde-9ee9-4a32-b68c-4ca87dba3dd1\"}, {\"hoverinfo\": \"text\", \"marker\": {\"color\": \"blue\", \"size\": 0.5}, \"mode\": \"markers\", \"text\": \"Microstrategy appears with Pentaho 3 times\", \"x\": [-0.08123627421372161], \"y\": [-0.8963262061057197], \"type\": \"scatter\", \"uid\": \"20a39b90-b165-4f10-a0c5-42bdabab71f5\"}, {\"hoverinfo\": \"text\", \"marker\": {\"color\": \"green\", \"size\": 0.5}, \"mode\": \"markers\", \"text\": \"Pentaho appears with Oracle BI 40 times\", \"x\": [-0.8923590065486336], \"y\": [0.11702736189257469], \"type\": \"scatter\", \"uid\": \"059cb565-1f03-46cb-811a-4c59e9d1a6df\"}, {\"hoverinfo\": \"text\", \"marker\": {\"color\": \"blue\", \"size\": 0.5}, \"mode\": \"markers\", \"text\": \"Oracle BI appears with Pentaho 40 times\", \"x\": [0.014587195946721438], \"y\": [-0.8998817776321576], \"type\": \"scatter\", \"uid\": \"edf58f69-19b7-4814-8acb-7e2d9732e0f2\"}, {\"hoverinfo\": \"text\", \"marker\": {\"color\": \"green\", \"size\": 0.5}, \"mode\": \"markers\", \"text\": \"Pentaho appears with Python 34 times\", \"x\": [-0.8887099613108584], \"y\": [0.14210772205215505], \"type\": \"scatter\", \"uid\": \"c3871c24-6657-4d90-8229-f75a44fd41e9\"}, {\"hoverinfo\": \"text\", \"marker\": {\"color\": \"blue\", \"size\": 0.5}, \"mode\": \"markers\", \"text\": \"Python appears with Pentaho 34 times\", \"x\": [0.5916326253621212], \"y\": [-0.6782114984332867], \"type\": \"scatter\", \"uid\": \"82a3670c-afc1-46b7-a0d0-da9b261a67c2\"}, {\"hoverinfo\": \"text\", \"marker\": {\"color\": \"green\", \"size\": 0.5}, \"mode\": \"markers\", \"text\": \"Pentaho appears with VBA 1 times\", \"x\": [-0.8842461820421148], \"y\": [0.16765646287555763], \"type\": \"scatter\", \"uid\": \"87703740-9a34-4664-8d25-959d1059ac15\"}, {\"hoverinfo\": \"text\", \"marker\": {\"color\": \"blue\", \"size\": 0.5}, \"mode\": \"markers\", \"text\": \"VBA appears with Pentaho 1 times\", \"x\": [0.816708054162811], \"y\": [-0.37813748064109565], \"type\": \"scatter\", \"uid\": \"ffdc4e60-b8e5-49c0-8356-75426c8db8cf\"}, {\"hoverinfo\": \"text\", \"marker\": {\"color\": \"green\", \"size\": 0.5}, \"mode\": \"markers\", \"text\": \"Pentaho appears with Linux 35 times\", \"x\": [-0.8896117620886312], \"y\": [0.13634849743785457], \"type\": \"scatter\", \"uid\": \"84f9b8b5-f695-4db8-b309-a2b3d5115bfe\"}, {\"hoverinfo\": \"text\", \"marker\": {\"color\": \"blue\", \"size\": 0.5}, \"mode\": \"markers\", \"text\": \"Linux appears with Pentaho 35 times\", \"x\": [0.8757274736118621], \"y\": [-0.20760874731423373], \"type\": \"scatter\", \"uid\": \"85882cfc-54c7-4c4b-b611-e29744470cce\"}, {\"hoverinfo\": \"text\", \"marker\": {\"color\": \"green\", \"size\": 0.5}, \"mode\": \"markers\", \"text\": \"Pentaho appears with AWS 13 times\", \"x\": [-0.8852374592462545], \"y\": [0.16234112463339623], \"type\": \"scatter\", \"uid\": \"5588be35-1562-42a3-a005-2f262368ec2e\"}, {\"hoverinfo\": \"text\", \"marker\": {\"color\": \"blue\", \"size\": 0.5}, \"mode\": \"markers\", \"text\": \"AWS appears with Pentaho 13 times\", \"x\": [0.8954172447723445], \"y\": [-0.09070809095280973], \"type\": \"scatter\", \"uid\": \"2445b07f-e9b6-4dc1-8daf-be5521b0304b\"}, {\"hoverinfo\": \"text\", \"marker\": {\"color\": \"green\", \"size\": 0.5}, \"mode\": \"markers\", \"text\": \"Hadoop appears with Spark 130 times\", \"x\": [-0.8990819635224526], \"y\": [-0.04064016324538179], \"type\": \"scatter\", \"uid\": \"66b3bbad-7b65-49d8-bf85-1408bc6f30b8\"}, {\"hoverinfo\": \"text\", \"marker\": {\"color\": \"blue\", \"size\": 0.5}, \"mode\": \"markers\", \"text\": \"Spark appears with Hadoop 130 times\", \"x\": [-0.8773304253943746], \"y\": [-0.20072699040568923], \"type\": \"scatter\", \"uid\": \"88360fd9-b1a6-4703-9d89-430a82b02f24\"}, {\"hoverinfo\": \"text\", \"marker\": {\"color\": \"green\", \"size\": 0.5}, \"mode\": \"markers\", \"text\": \"Hadoop appears with Informatica 5 times\", \"x\": [-0.898783942581867], \"y\": [0.04676991080807533], \"type\": \"scatter\", \"uid\": \"05061429-1090-4f3c-8bb3-eb6e2a10ec35\"}, {\"hoverinfo\": \"text\", \"marker\": {\"color\": \"blue\", \"size\": 0.5}, \"mode\": \"markers\", \"text\": \"Informatica appears with Hadoop 5 times\", \"x\": [-0.8596008410915914], \"y\": [-0.2666203180453971], \"type\": \"scatter\", \"uid\": \"76e6c3b6-dcba-4968-9ef2-b7d55b0e8092\"}, {\"hoverinfo\": \"text\", \"marker\": {\"color\": \"green\", \"size\": 0.5}, \"mode\": \"markers\", \"text\": \"Hadoop appears with Qlik 9 times\", \"x\": [-0.8989646547529345], \"y\": [0.04315726479907263], \"type\": \"scatter\", \"uid\": \"b6a5e6d8-d1b3-4c43-b676-9df6273a5464\"}, {\"hoverinfo\": \"text\", \"marker\": {\"color\": \"blue\", \"size\": 0.5}, \"mode\": \"markers\", \"text\": \"Qlik appears with Hadoop 9 times\", \"x\": [-0.797858903757475], \"y\": [-0.4164386745907736], \"type\": \"scatter\", \"uid\": \"cec07bd3-77db-4151-99c0-cdb64966d11b\"}, {\"hoverinfo\": \"text\", \"marker\": {\"color\": \"green\", \"size\": 0.5}, \"mode\": \"markers\", \"text\": \"Hadoop appears with Tableau 38 times\", \"x\": [-0.8998888293612808], \"y\": [0.014145486587023625], \"type\": \"scatter\", \"uid\": \"bc4a2d01-19e8-4e05-a0d9-b8b4b239b492\"}, {\"hoverinfo\": \"text\", \"marker\": {\"color\": \"blue\", \"size\": 0.5}, \"mode\": \"markers\", \"text\": \"Tableau appears with Hadoop 38 times\", \"x\": [-0.521149016139861], \"y\": [-0.7337599764067642], \"type\": \"scatter\", \"uid\": \"5d295d50-ae17-4e68-9925-20e7136b9b43\"}, {\"hoverinfo\": \"text\", \"marker\": {\"color\": \"green\", \"size\": 0.5}, \"mode\": \"markers\", \"text\": \"Hadoop appears with Microstrategy 3 times\", \"x\": [-0.8986881420591157], \"y\": [0.04857595415773847], \"type\": \"scatter\", \"uid\": \"6d48956a-f536-4d33-883f-a9d97b861379\"}, {\"hoverinfo\": \"text\", \"marker\": {\"color\": \"blue\", \"size\": 0.5}, \"mode\": \"markers\", \"text\": \"Microstrategy appears with Hadoop 3 times\", \"x\": [-0.08081555877725402], \"y\": [-0.8963642370484892], \"type\": \"scatter\", \"uid\": \"eed494ef-ee8b-452c-9586-e354fe06bc56\"}, {\"hoverinfo\": \"text\", \"marker\": {\"color\": \"green\", \"size\": 0.5}, \"mode\": \"markers\", \"text\": \"Hadoop appears with Oracle BI 35 times\", \"x\": [-0.899760869235666], \"y\": [0.020745558374718236], \"type\": \"scatter\", \"uid\": \"90d4d68f-58d3-4deb-ba86-d689dd69371d\"}, {\"hoverinfo\": \"text\", \"marker\": {\"color\": \"blue\", \"size\": 0.5}, \"mode\": \"markers\", \"text\": \"Oracle BI appears with Hadoop 35 times\", \"x\": [0.006666716770464856], \"y\": [-0.8999753079321134], \"type\": \"scatter\", \"uid\": \"ce68c90d-7fb3-486d-960e-88b6210ecd1f\"}, {\"hoverinfo\": \"text\", \"marker\": {\"color\": \"green\", \"size\": 0.5}, \"mode\": \"markers\", \"text\": \"Hadoop appears with Python 142 times\", \"x\": [-0.8976356718026728], \"y\": [-0.0651935633890673], \"type\": \"scatter\", \"uid\": \"a38c5fb2-e8ff-4c5f-8c2c-4d80cbb3a500\"}, {\"hoverinfo\": \"text\", \"marker\": {\"color\": \"blue\", \"size\": 0.5}, \"mode\": \"markers\", \"text\": \"Python appears with Hadoop 142 times\", \"x\": [0.7074678112885873], \"y\": [-0.5563176214992078], \"type\": \"scatter\", \"uid\": \"3b8c7131-3e5f-409e-a2df-eb17240df699\"}, {\"hoverinfo\": \"text\", \"marker\": {\"color\": \"green\", \"size\": 0.5}, \"mode\": \"markers\", \"text\": \"Hadoop appears with VBA 7 times\", \"x\": [-0.8988941122351765], \"y\": [0.04460241012472438], \"type\": \"scatter\", \"uid\": \"27514e63-d05e-4f1d-936e-c2985248377d\"}, {\"hoverinfo\": \"text\", \"marker\": {\"color\": \"blue\", \"size\": 0.5}, \"mode\": \"markers\", \"text\": \"VBA appears with Hadoop 7 times\", \"x\": [0.8186798993525239], \"y\": [-0.37384919739935424], \"type\": \"scatter\", \"uid\": \"7c524baa-62a3-4b96-bc47-954a969dd302\"}, {\"hoverinfo\": \"text\", \"marker\": {\"color\": \"green\", \"size\": 0.5}, \"mode\": \"markers\", \"text\": \"Hadoop appears with Linux 89 times\", \"x\": [-0.8997584981529186], \"y\": [-0.02084814144244759], \"type\": \"scatter\", \"uid\": \"02065c2e-a64a-4918-8364-b9eefc6388ed\"}, {\"hoverinfo\": \"text\", \"marker\": {\"color\": \"blue\", \"size\": 0.5}, \"mode\": \"markers\", \"text\": \"Linux appears with Hadoop 89 times\", \"x\": [0.8874217194773499], \"y\": [-0.1499422948999503], \"type\": \"scatter\", \"uid\": \"cedfd90b-f505-41d2-bee6-d2b7a79a95cd\"}, {\"hoverinfo\": \"text\", \"marker\": {\"color\": \"green\", \"size\": 0.5}, \"mode\": \"markers\", \"text\": \"Hadoop appears with AWS 48 times\", \"x\": [-0.8999774632927849], \"y\": [0.006369110227026148], \"type\": \"scatter\", \"uid\": \"6ce87e94-066d-466d-8e32-c00700cfff71\"}, {\"hoverinfo\": \"text\", \"marker\": {\"color\": \"blue\", \"size\": 0.5}, \"mode\": \"markers\", \"text\": \"AWS appears with Hadoop 48 times\", \"x\": [0.8978456651702746], \"y\": [-0.06223472933135577], \"type\": \"scatter\", \"uid\": \"73b3b2c7-230c-4ae7-b893-9ccce2f57945\"}, {\"hoverinfo\": \"text\", \"marker\": {\"color\": \"green\", \"size\": 0.5}, \"mode\": \"markers\", \"text\": \"Spark appears with Informatica 12 times\", \"x\": [-0.8930353447903722], \"y\": [-0.11174915192135021], \"type\": \"scatter\", \"uid\": \"b5da8d78-12ce-4a17-b2b7-1d6dbfee2cfa\"}, {\"hoverinfo\": \"text\", \"marker\": {\"color\": \"blue\", \"size\": 0.5}, \"mode\": \"markers\", \"text\": \"Informatica appears with Spark 12 times\", \"x\": [-0.8572745208518137], \"y\": [-0.27400802159479426], \"type\": \"scatter\", \"uid\": \"de2f3364-2cda-49d7-b319-a53722ab657d\"}, {\"hoverinfo\": \"text\", \"marker\": {\"color\": \"green\", \"size\": 0.5}, \"mode\": \"markers\", \"text\": \"Spark appears with Qlik 16 times\", \"x\": [-0.8927136532033403], \"y\": [-0.114290565596406], \"type\": \"scatter\", \"uid\": \"fc741b17-41a9-432b-b87c-5cf5760d8c74\"}, {\"hoverinfo\": \"text\", \"marker\": {\"color\": \"blue\", \"size\": 0.5}, \"mode\": \"markers\", \"text\": \"Qlik appears with Spark 16 times\", \"x\": [-0.7953247688028832], \"y\": [-0.42125824873661577], \"type\": \"scatter\", \"uid\": \"a36cac76-2874-47ec-b8b6-65e6a174b116\"}, {\"hoverinfo\": \"text\", \"marker\": {\"color\": \"green\", \"size\": 0.5}, \"mode\": \"markers\", \"text\": \"Spark appears with Tableau 36 times\", \"x\": [-0.888698323955506], \"y\": [-0.1421804803715145], \"type\": \"scatter\", \"uid\": \"59f58021-ae8f-45a5-84a8-45689c3aee0d\"}, {\"hoverinfo\": \"text\", \"marker\": {\"color\": \"blue\", \"size\": 0.5}, \"mode\": \"markers\", \"text\": \"Tableau appears with Spark 36 times\", \"x\": [-0.5274240606203896], \"y\": [-0.7292625455065546], \"type\": \"scatter\", \"uid\": \"dd402666-1571-4270-afbf-544ecb93bd8e\"}, {\"hoverinfo\": \"text\", \"marker\": {\"color\": \"green\", \"size\": 0.5}, \"mode\": \"markers\", \"text\": \"Spark appears with Microstrategy 3 times\", \"x\": [-0.8936895074185104], \"y\": [-0.10639109140365285], \"type\": \"scatter\", \"uid\": \"2921168a-484b-44c0-bca5-57f6f9ee80f6\"}, {\"hoverinfo\": \"text\", \"marker\": {\"color\": \"blue\", \"size\": 0.5}, \"mode\": \"markers\", \"text\": \"Microstrategy appears with Spark 3 times\", \"x\": [-0.08165697175335504], \"y\": [-0.8962879776969408], \"type\": \"scatter\", \"uid\": \"7f42659c-0498-4ea5-abf2-568f2cdad255\"}, {\"hoverinfo\": \"text\", \"marker\": {\"color\": \"green\", \"size\": 0.5}, \"mode\": \"markers\", \"text\": \"Spark appears with Oracle BI 32 times\", \"x\": [-0.889659907438074], \"y\": [-0.13603399978416308], \"type\": \"scatter\", \"uid\": \"97af67b6-262e-4a57-b58d-07ef21c7674f\"}, {\"hoverinfo\": \"text\", \"marker\": {\"color\": \"blue\", \"size\": 0.5}, \"mode\": \"markers\", \"text\": \"Oracle BI appears with Spark 32 times\", \"x\": [-0.00040936646068771176], \"y\": [-0.8999999068994957], \"type\": \"scatter\", \"uid\": \"bd3f0662-9f10-4789-bfc1-e61d082e2895\"}, {\"hoverinfo\": \"text\", \"marker\": {\"color\": \"green\", \"size\": 0.5}, \"mode\": \"markers\", \"text\": \"Spark appears with Python 151 times\", \"x\": [-0.8712395491958171], \"y\": [-0.22570256515394174], \"type\": \"scatter\", \"uid\": \"54240a95-179f-4db9-82f2-10d3528714bf\"}, {\"hoverinfo\": \"text\", \"marker\": {\"color\": \"blue\", \"size\": 0.5}, \"mode\": \"markers\", \"text\": \"Python appears with Spark 151 times\", \"x\": [0.7256662243243454], \"y\": [-0.5323612785269501], \"type\": \"scatter\", \"uid\": \"58b64ab0-13b3-4124-bfa8-7b5ef6a9e0e1\"}, {\"hoverinfo\": \"text\", \"marker\": {\"color\": \"green\", \"size\": 0.5}, \"mode\": \"markers\", \"text\": \"Spark appears with VBA 9 times\", \"x\": [-0.8932718656618527], \"y\": [-0.10984249640732387], \"type\": \"scatter\", \"uid\": \"3a657538-1099-4c26-94f9-aaa66ff0581a\"}, {\"hoverinfo\": \"text\", \"marker\": {\"color\": \"blue\", \"size\": 0.5}, \"mode\": \"markers\", \"text\": \"VBA appears with Spark 9 times\", \"x\": [0.8198072635612726], \"y\": [-0.3713705031530884], \"type\": \"scatter\", \"uid\": \"8b775674-bd45-49c8-969a-cce33a71baf1\"}, {\"hoverinfo\": \"text\", \"marker\": {\"color\": \"green\", \"size\": 0.5}, \"mode\": \"markers\", \"text\": \"Spark appears with Linux 69 times\", \"x\": [-0.884206775404763], \"y\": [-0.16786416630213577], \"type\": \"scatter\", \"uid\": \"9135963b-cd6e-4eab-b2b5-d8f3ada1b4aa\"}, {\"hoverinfo\": \"text\", \"marker\": {\"color\": \"blue\", \"size\": 0.5}, \"mode\": \"markers\", \"text\": \"Linux appears with Spark 69 times\", \"x\": [0.8826482775194593], \"y\": [-0.17587500729760208], \"type\": \"scatter\", \"uid\": \"9348b4ca-91f8-48c5-937c-74764b9032bf\"}, {\"hoverinfo\": \"text\", \"marker\": {\"color\": \"green\", \"size\": 0.5}, \"mode\": \"markers\", \"text\": \"Spark appears with AWS 49 times\", \"x\": [-0.8861566850785756], \"y\": [-0.1572460794123344], \"type\": \"scatter\", \"uid\": \"4eaf7b1c-3458-488a-bb50-13f4a36df9d8\"}, {\"hoverinfo\": \"text\", \"marker\": {\"color\": \"blue\", \"size\": 0.5}, \"mode\": \"markers\", \"text\": \"AWS appears with Spark 49 times\", \"x\": [0.8983414020527568], \"y\": [-0.05461433289794113], \"type\": \"scatter\", \"uid\": \"33c56366-e016-4b6a-a672-87e71a12041d\"}, {\"hoverinfo\": \"text\", \"marker\": {\"color\": \"green\", \"size\": 0.5}, \"mode\": \"markers\", \"text\": \"Informatica appears with Qlik 93 times\", \"x\": [-0.833020669364679], \"y\": [-0.34070010920341964], \"type\": \"scatter\", \"uid\": \"6923faee-fb7e-4b32-9a84-28b412c9935d\"}, {\"hoverinfo\": \"text\", \"marker\": {\"color\": \"blue\", \"size\": 0.5}, \"mode\": \"markers\", \"text\": \"Qlik appears with Informatica 93 times\", \"x\": [-0.7463806201399736], \"y\": [-0.5029075162288474], \"type\": \"scatter\", \"uid\": \"3f969481-96c7-4f32-a183-e9a44b83cb8f\"}, {\"hoverinfo\": \"text\", \"marker\": {\"color\": \"green\", \"size\": 0.5}, \"mode\": \"markers\", \"text\": \"Informatica appears with Tableau 69 times\", \"x\": [-0.8429832323968027], \"y\": [-0.31524477774871734], \"type\": \"scatter\", \"uid\": \"e5dc712c-ce0b-4bc0-a961-41a8a066f166\"}, {\"hoverinfo\": \"text\", \"marker\": {\"color\": \"blue\", \"size\": 0.5}, \"mode\": \"markers\", \"text\": \"Tableau appears with Informatica 69 times\", \"x\": [-0.4762646896260839], \"y\": [-0.7636569553244245], \"type\": \"scatter\", \"uid\": \"914c9f41-5615-4011-9377-c44bd8e33d9d\"}, {\"hoverinfo\": \"text\", \"marker\": {\"color\": \"green\", \"size\": 0.5}, \"mode\": \"markers\", \"text\": \"Informatica appears with Microstrategy 14 times\", \"x\": [-0.8565502517999105], \"y\": [-0.2762637619042896], \"type\": \"scatter\", \"uid\": \"71696c4a-d51d-4a49-9854-3ba296e557b0\"}, {\"hoverinfo\": \"text\", \"marker\": {\"color\": \"blue\", \"size\": 0.5}, \"mode\": \"markers\", \"text\": \"Microstrategy appears with Informatica 14 times\", \"x\": [-0.07583576631770386], \"y\": [-0.8967992732752444], \"type\": \"scatter\", \"uid\": \"049d9c02-e964-4a48-b3bf-39d7337ef73f\"}, {\"hoverinfo\": \"text\", \"marker\": {\"color\": \"green\", \"size\": 0.5}, \"mode\": \"markers\", \"text\": \"Informatica appears with Oracle BI 130 times\", \"x\": [-0.816447417320103], \"y\": [-0.37869990064869796], \"type\": \"scatter\", \"uid\": \"78c6a444-941b-4641-9c06-7004f4b1e637\"}, {\"hoverinfo\": \"text\", \"marker\": {\"color\": \"blue\", \"size\": 0.5}, \"mode\": \"markers\", \"text\": \"Oracle BI appears with Informatica 130 times\", \"x\": [0.11167545022586779], \"y\": [-0.8930445642950018], \"type\": \"scatter\", \"uid\": \"6889b302-f239-4e92-9878-bfb9138c822e\"}, {\"hoverinfo\": \"text\", \"marker\": {\"color\": \"green\", \"size\": 0.5}, \"mode\": \"markers\", \"text\": \"Informatica appears with Python 27 times\", \"x\": [-0.8534493506795706], \"y\": [-0.28569950266778454], \"type\": \"scatter\", \"uid\": \"d25a4fc0-1baf-4fb6-a457-779d1543b3c7\"}, {\"hoverinfo\": \"text\", \"marker\": {\"color\": \"blue\", \"size\": 0.5}, \"mode\": \"markers\", \"text\": \"Python appears with Informatica 27 times\", \"x\": [0.5868982415279017], \"y\": [-0.6823125779959336], \"type\": \"scatter\", \"uid\": \"806a0957-a17e-42d6-b5e3-853f388071a0\"}, {\"hoverinfo\": \"text\", \"marker\": {\"color\": \"green\", \"size\": 0.5}, \"mode\": \"markers\", \"text\": \"Informatica appears with VBA 5 times\", \"x\": [-0.8593304574001356], \"y\": [-0.2674904951292175], \"type\": \"scatter\", \"uid\": \"8f55e127-697c-42d6-b67b-e04c3778923d\"}, {\"hoverinfo\": \"text\", \"marker\": {\"color\": \"blue\", \"size\": 0.5}, \"mode\": \"markers\", \"text\": \"VBA appears with Informatica 5 times\", \"x\": [0.8173171706961585], \"y\": [-0.37681911109340854], \"type\": \"scatter\", \"uid\": \"708f607c-0091-448a-8e69-da5ee4fb9971\"}, {\"hoverinfo\": \"text\", \"marker\": {\"color\": \"green\", \"size\": 0.5}, \"mode\": \"markers\", \"text\": \"Informatica appears with Linux 9 times\", \"x\": [-0.8585140221397094], \"y\": [-0.2700993776177551], \"type\": \"scatter\", \"uid\": \"7cdb937b-ef0d-43f6-bcac-f5f35efccad8\"}, {\"hoverinfo\": \"text\", \"marker\": {\"color\": \"blue\", \"size\": 0.5}, \"mode\": \"markers\", \"text\": \"Linux appears with Informatica 9 times\", \"x\": [0.8712287353909357], \"y\": [-0.22574430364709305], \"type\": \"scatter\", \"uid\": \"f0d0c623-32e1-4c55-9210-c8f449133595\"}, {\"hoverinfo\": \"text\", \"marker\": {\"color\": \"green\", \"size\": 0.5}, \"mode\": \"markers\", \"text\": \"Informatica appears with AWS 19 times\", \"x\": [-0.8547706864863693], \"y\": [-0.28172162416758306], \"type\": \"scatter\", \"uid\": \"f81ecb00-386a-424c-b74f-74127d9c7132\"}, {\"hoverinfo\": \"text\", \"marker\": {\"color\": \"blue\", \"size\": 0.5}, \"mode\": \"markers\", \"text\": \"AWS appears with Informatica 19 times\", \"x\": [0.8956676451961899], \"y\": [-0.08820130015318414], \"type\": \"scatter\", \"uid\": \"dfe02775-4aca-4c64-9a5a-3b7a155a1689\"}, {\"hoverinfo\": \"text\", \"marker\": {\"color\": \"green\", \"size\": 0.5}, \"mode\": \"markers\", \"text\": \"Qlik appears with Tableau 341 times\", \"x\": [-0.698574010919029], \"y\": [-0.5674454610519855], \"type\": \"scatter\", \"uid\": \"50a3b02d-c2c2-4e37-b81a-aba1ec848bb3\"}, {\"hoverinfo\": \"text\", \"marker\": {\"color\": \"blue\", \"size\": 0.5}, \"mode\": \"markers\", \"text\": \"Tableau appears with Qlik 341 times\", \"x\": [-0.3128379264585424], \"y\": [-0.8438793940896528], \"type\": \"scatter\", \"uid\": \"b47dbc04-acc6-488b-85c8-c9136a27ae94\"}, {\"hoverinfo\": \"text\", \"marker\": {\"color\": \"green\", \"size\": 0.5}, \"mode\": \"markers\", \"text\": \"Qlik appears with Microstrategy 35 times\", \"x\": [-0.7831322725756956], \"y\": [-0.4435130704392222], \"type\": \"scatter\", \"uid\": \"dbc59e10-45e4-4c89-b04e-0006dda12615\"}, {\"hoverinfo\": \"text\", \"marker\": {\"color\": \"blue\", \"size\": 0.5}, \"mode\": \"markers\", \"text\": \"Microstrategy appears with Qlik 35 times\", \"x\": [-0.05610554542343638], \"y\": [-0.8982495019607519], \"type\": \"scatter\", \"uid\": \"076550b8-a856-4b5d-99a3-512139cd3906\"}, {\"hoverinfo\": \"text\", \"marker\": {\"color\": \"green\", \"size\": 0.5}, \"mode\": \"markers\", \"text\": \"Qlik appears with Oracle BI 343 times\", \"x\": [-0.6521832035123664], \"y\": [-0.6202072791062254], \"type\": \"scatter\", \"uid\": \"32de2ae2-70b8-430c-a3d0-f0d70540f98b\"}, {\"hoverinfo\": \"text\", \"marker\": {\"color\": \"blue\", \"size\": 0.5}, \"mode\": \"markers\", \"text\": \"Oracle BI appears with Qlik 343 times\", \"x\": [0.34077259366501733], \"y\": [-0.8329910200037075], \"type\": \"scatter\", \"uid\": \"6f2004cd-9f9c-410c-9c9b-66c8574bc578\"}, {\"hoverinfo\": \"text\", \"marker\": {\"color\": \"green\", \"size\": 0.5}, \"mode\": \"markers\", \"text\": \"Qlik appears with Python 54 times\", \"x\": [-0.778585923347001], \"y\": [-0.45144651949693654], \"type\": \"scatter\", \"uid\": \"cc40c1b0-7c1a-4d1f-8412-69f4394693bc\"}, {\"hoverinfo\": \"text\", \"marker\": {\"color\": \"blue\", \"size\": 0.5}, \"mode\": \"markers\", \"text\": \"Python appears with Qlik 54 times\", \"x\": [0.6058907502613456], \"y\": [-0.6655046196291532], \"type\": \"scatter\", \"uid\": \"352d9b3d-c056-465a-989d-33cac28ba587\"}, {\"hoverinfo\": \"text\", \"marker\": {\"color\": \"green\", \"size\": 0.5}, \"mode\": \"markers\", \"text\": \"Qlik appears with VBA 31 times\", \"x\": [-0.7896276084999562], \"y\": [-0.43184284166191744], \"type\": \"scatter\", \"uid\": \"32926d45-02a0-47dc-8a33-e27ad9dcb403\"}, {\"hoverinfo\": \"text\", \"marker\": {\"color\": \"blue\", \"size\": 0.5}, \"mode\": \"markers\", \"text\": \"VBA appears with Qlik 31 times\", \"x\": [0.8232910275046079], \"y\": [-0.363582018299045], \"type\": \"scatter\", \"uid\": \"8c70c619-af8f-4267-ba3f-1b19c704dc54\"}, {\"hoverinfo\": \"text\", \"marker\": {\"color\": \"green\", \"size\": 0.5}, \"mode\": \"markers\", \"text\": \"Qlik appears with Linux 2 times\", \"x\": [-0.7986655575882066], \"y\": [-0.41488953604823453], \"type\": \"scatter\", \"uid\": \"806c2d69-d386-48e5-b614-1b7eeb15f56d\"}, {\"hoverinfo\": \"text\", \"marker\": {\"color\": \"blue\", \"size\": 0.5}, \"mode\": \"markers\", \"text\": \"Linux appears with Qlik 2 times\", \"x\": [0.8702348853917554], \"y\": [-0.2295457345436815], \"type\": \"scatter\", \"uid\": \"a8685c09-55c7-4a79-b6b9-0c527a82a9c2\"}, {\"hoverinfo\": \"text\", \"marker\": {\"color\": \"green\", \"size\": 0.5}, \"mode\": \"markers\", \"text\": \"Qlik appears with AWS 3 times\", \"x\": [-0.7984286185576325], \"y\": [-0.4153453274904518], \"type\": \"scatter\", \"uid\": \"f2d70140-6e7a-4d75-9a44-47dce242c7c7\"}, {\"hoverinfo\": \"text\", \"marker\": {\"color\": \"blue\", \"size\": 0.5}, \"mode\": \"markers\", \"text\": \"AWS appears with Qlik 3 times\", \"x\": [0.8947435743806463], \"y\": [-0.09712845157081929], \"type\": \"scatter\", \"uid\": \"3ccd403d-eeba-4aee-a691-b44007271a61\"}, {\"hoverinfo\": \"text\", \"marker\": {\"color\": \"green\", \"size\": 0.5}, \"mode\": \"markers\", \"text\": \"Tableau appears with Microstrategy 50 times\", \"x\": [-0.498626893732691], \"y\": [-0.7492471026613902], \"type\": \"scatter\", \"uid\": \"9bf5c2b2-fea2-4023-974e-9eca6adbe2dd\"}, {\"hoverinfo\": \"text\", \"marker\": {\"color\": \"blue\", \"size\": 0.5}, \"mode\": \"markers\", \"text\": \"Microstrategy appears with Tableau 50 times\", \"x\": [-0.04478821348971915], \"y\": [-0.8988848735696909], \"type\": \"scatter\", \"uid\": \"483e0333-217c-483c-bfea-eecf26942080\"}, {\"hoverinfo\": \"text\", \"marker\": {\"color\": \"green\", \"size\": 0.5}, \"mode\": \"markers\", \"text\": \"Tableau appears with Oracle BI 407 times\", \"x\": [-0.2385825546499837], \"y\": [-0.8678008784373795], \"type\": \"scatter\", \"uid\": \"ad1ceb45-cb29-470a-b62f-d6a84e173e53\"}, {\"hoverinfo\": \"text\", \"marker\": {\"color\": \"blue\", \"size\": 0.5}, \"mode\": \"markers\", \"text\": \"Oracle BI appears with Tableau 407 times\", \"x\": [0.41267200284703454], \"y\": [-0.7998136145791825], \"type\": \"scatter\", \"uid\": \"82a8b212-b15e-4264-86b1-f215158a0173\"}, {\"hoverinfo\": \"text\", \"marker\": {\"color\": \"green\", \"size\": 0.5}, \"mode\": \"markers\", \"text\": \"Tableau appears with Python 132 times\", \"x\": [-0.4221338943189176], \"y\": [-0.7948603495376688], \"type\": \"scatter\", \"uid\": \"80e3f57c-8756-4c75-9260-6825111f080a\"}, {\"hoverinfo\": \"text\", \"marker\": {\"color\": \"blue\", \"size\": 0.5}, \"mode\": \"markers\", \"text\": \"Python appears with Tableau 132 times\", \"x\": [0.6897338013123959], \"y\": [-0.578158527851274], \"type\": \"scatter\", \"uid\": \"0aab7494-cb7d-474d-8591-0ccc0dc2c9e8\"}, {\"hoverinfo\": \"text\", \"marker\": {\"color\": \"green\", \"size\": 0.5}, \"mode\": \"markers\", \"text\": \"Tableau appears with VBA 68 times\", \"x\": [-0.4883318729849887], \"y\": [-0.7559973424734857], \"type\": \"scatter\", \"uid\": \"cb868674-b63c-4590-b312-f6a24ec81e39\"}, {\"hoverinfo\": \"text\", \"marker\": {\"color\": \"blue\", \"size\": 0.5}, \"mode\": \"markers\", \"text\": \"VBA appears with Tableau 68 times\", \"x\": [0.8363155593358513], \"y\": [-0.3325301267746461], \"type\": \"scatter\", \"uid\": \"e1575aa9-f536-46eb-b946-999f6b68c2ae\"}, {\"hoverinfo\": \"text\", \"marker\": {\"color\": \"green\", \"size\": 0.5}, \"mode\": \"markers\", \"text\": \"Tableau appears with Linux 18 times\", \"x\": [-0.5408584427749714], \"y\": [-0.7193553675889497], \"type\": \"scatter\", \"uid\": \"2fd5fec8-5ec9-4e8e-b211-04894c54c094\"}, {\"hoverinfo\": \"text\", \"marker\": {\"color\": \"blue\", \"size\": 0.5}, \"mode\": \"markers\", \"text\": \"Linux appears with Tableau 18 times\", \"x\": [0.8725922237392337], \"y\": [-0.22041508811744057], \"type\": \"scatter\", \"uid\": \"711b784a-1e3f-46aa-8c53-cca4c200b4d3\"}, {\"hoverinfo\": \"text\", \"marker\": {\"color\": \"green\", \"size\": 0.5}, \"mode\": \"markers\", \"text\": \"Tableau appears with AWS 33 times\", \"x\": [-0.5332401597995492], \"y\": [-0.7250206424488556], \"type\": \"scatter\", \"uid\": \"1e4f429f-b176-4592-a53c-fa4fa170ba21\"}, {\"hoverinfo\": \"text\", \"marker\": {\"color\": \"blue\", \"size\": 0.5}, \"mode\": \"markers\", \"text\": \"AWS appears with Tableau 33 times\", \"x\": [0.8968143408471105], \"y\": [-0.07565737274689524], \"type\": \"scatter\", \"uid\": \"8df79f3c-c828-4abd-8284-81453265566f\"}, {\"hoverinfo\": \"text\", \"marker\": {\"color\": \"green\", \"size\": 0.5}, \"mode\": \"markers\", \"text\": \"Microstrategy appears with Oracle BI 61 times\", \"x\": [-0.0369813350820518], \"y\": [-0.8992398906051428], \"type\": \"scatter\", \"uid\": \"e8a7dd17-c4c6-4969-a179-a14cc71354d3\"}, {\"hoverinfo\": \"text\", \"marker\": {\"color\": \"blue\", \"size\": 0.5}, \"mode\": \"markers\", \"text\": \"Oracle BI appears with Microstrategy 61 times\", \"x\": [0.044036576297614406], \"y\": [-0.8989220099363373], \"type\": \"scatter\", \"uid\": \"9ca1d8c5-5953-4f2f-b609-5c697a7ab8a0\"}, {\"hoverinfo\": \"text\", \"marker\": {\"color\": \"green\", \"size\": 0.5}, \"mode\": \"markers\", \"text\": \"Microstrategy appears with Python 19 times\", \"x\": [-0.07085363441001168], \"y\": [-0.8972066442525336], \"type\": \"scatter\", \"uid\": \"d4ef48cc-3267-4cd7-8dfd-742220ca65d1\"}, {\"hoverinfo\": \"text\", \"marker\": {\"color\": \"blue\", \"size\": 0.5}, \"mode\": \"markers\", \"text\": \"Python appears with Microstrategy 19 times\", \"x\": [0.57923275949732], \"y\": [-0.6888319173246257], \"type\": \"scatter\", \"uid\": \"9cee058f-516e-4d45-8eef-5d5fd41eb45e\"}, {\"hoverinfo\": \"text\", \"marker\": {\"color\": \"green\", \"size\": 0.5}, \"mode\": \"markers\", \"text\": \"Microstrategy appears with VBA 7 times\", \"x\": [-0.07913251991680435], \"y\": [-0.8965143859925598], \"type\": \"scatter\", \"uid\": \"ce63a372-61e9-4a8d-88e8-9d39c997f68f\"}, {\"hoverinfo\": \"text\", \"marker\": {\"color\": \"blue\", \"size\": 0.5}, \"mode\": \"markers\", \"text\": \"VBA appears with Microstrategy 7 times\", \"x\": [0.8181512306975515], \"y\": [-0.37500475158067265], \"type\": \"scatter\", \"uid\": \"ef9eb537-9223-4a48-a9a8-f2b4da9c4dee\"}, {\"hoverinfo\": \"text\", \"marker\": {\"color\": \"green\", \"size\": 0.5}, \"mode\": \"markers\", \"text\": \"Microstrategy appears with Linux 7 times\", \"x\": [-0.08011432686413612], \"y\": [-0.8964271831170151], \"type\": \"scatter\", \"uid\": \"836dd92f-28e9-46f6-ba0c-872b14cc5dc8\"}, {\"hoverinfo\": \"text\", \"marker\": {\"color\": \"blue\", \"size\": 0.5}, \"mode\": \"markers\", \"text\": \"Linux appears with Microstrategy 7 times\", \"x\": [0.8708772680012518], \"y\": [-0.22709642022426513], \"type\": \"scatter\", \"uid\": \"e467fcdc-f081-4e53-af36-c47a35d6cd90\"}, {\"hoverinfo\": \"text\", \"marker\": {\"color\": \"green\", \"size\": 0.5}, \"mode\": \"markers\", \"text\": \"Microstrategy appears with AWS 2 times\", \"x\": [-0.08200753929832244], \"y\": [-0.8962559698536094], \"type\": \"scatter\", \"uid\": \"f86b15f2-ccd2-4d7a-b775-0d51b99ba49b\"}, {\"hoverinfo\": \"text\", \"marker\": {\"color\": \"blue\", \"size\": 0.5}, \"mode\": \"markers\", \"text\": \"AWS appears with Microstrategy 2 times\", \"x\": [0.8946668307120347], \"y\": [-0.09783282692268219], \"type\": \"scatter\", \"uid\": \"3a8804da-bc3c-4795-9d4f-538923942723\"}, {\"hoverinfo\": \"text\", \"marker\": {\"color\": \"green\", \"size\": 0.5}, \"mode\": \"markers\", \"text\": \"Oracle BI appears with Python 154 times\", \"x\": [0.16966411921007715], \"y\": [-0.8838631605925595], \"type\": \"scatter\", \"uid\": \"1eac2e18-973d-494f-8091-9bb04d28d4ad\"}, {\"hoverinfo\": \"text\", \"marker\": {\"color\": \"blue\", \"size\": 0.5}, \"mode\": \"markers\", \"text\": \"Python appears with Oracle BI 154 times\", \"x\": [0.7437483316547723], \"y\": [-0.5067922840382861], \"type\": \"scatter\", \"uid\": \"bfa9b30e-4656-41ee-8dfb-0b6711b128a3\"}, {\"hoverinfo\": \"text\", \"marker\": {\"color\": \"green\", \"size\": 0.5}, \"mode\": \"markers\", \"text\": \"Oracle BI appears with VBA 74 times\", \"x\": [0.07280716711827216], \"y\": [-0.8970502307096365], \"type\": \"scatter\", \"uid\": \"7dc50a8a-ec21-4ede-806d-371e72c22314\"}, {\"hoverinfo\": \"text\", \"marker\": {\"color\": \"blue\", \"size\": 0.5}, \"mode\": \"markers\", \"text\": \"VBA appears with Oracle BI 74 times\", \"x\": [0.8409918366954903], \"y\": [-0.32051946994144637], \"type\": \"scatter\", \"uid\": \"60a9c766-83fb-4403-a66e-0c2de53a52ae\"}, {\"hoverinfo\": \"text\", \"marker\": {\"color\": \"green\", \"size\": 0.5}, \"mode\": \"markers\", \"text\": \"Oracle BI appears with Linux 3 times\", \"x\": [-0.004105845479013446], \"y\": [-0.8999906344139935], \"type\": \"scatter\", \"uid\": \"03eea762-f1a5-419b-8022-f6844381ca39\"}, {\"hoverinfo\": \"text\", \"marker\": {\"color\": \"blue\", \"size\": 0.5}, \"mode\": \"markers\", \"text\": \"Linux appears with Oracle BI 3 times\", \"x\": [0.8703461326145712], \"y\": [-0.2291235680650493], \"type\": \"scatter\", \"uid\": \"9340d77b-15fa-4329-ab7a-73f92fa78a47\"}, {\"hoverinfo\": \"text\", \"marker\": {\"color\": \"green\", \"size\": 0.5}, \"mode\": \"markers\", \"text\": \"Oracle BI appears with AWS 45 times\", \"x\": [0.032851773114987895], \"y\": [-0.8994002229281475], \"type\": \"scatter\", \"uid\": \"72c28d83-51c0-4eb3-a2d1-d5849e59b71b\"}, {\"hoverinfo\": \"text\", \"marker\": {\"color\": \"blue\", \"size\": 0.5}, \"mode\": \"markers\", \"text\": \"AWS appears with Oracle BI 45 times\", \"x\": [0.8973096732998199], \"y\": [-0.06953668242424493], \"type\": \"scatter\", \"uid\": \"b6264133-8973-4926-bda3-ef95048ce8c2\"}, {\"hoverinfo\": \"text\", \"marker\": {\"color\": \"green\", \"size\": 0.5}, \"mode\": \"markers\", \"text\": \"Python appears with VBA 64 times\", \"x\": [0.6229955870588507], \"y\": [-0.6495202063871439], \"type\": \"scatter\", \"uid\": \"d21fe255-aa01-469f-b4c4-8743a9e715f3\"}, {\"hoverinfo\": \"text\", \"marker\": {\"color\": \"blue\", \"size\": 0.5}, \"mode\": \"markers\", \"text\": \"VBA appears with Python 64 times\", \"x\": [0.8318147490773767], \"y\": [-0.3436338505114721], \"type\": \"scatter\", \"uid\": \"895be658-3668-40d6-a96d-03be69e7994c\"}, {\"hoverinfo\": \"text\", \"marker\": {\"color\": \"green\", \"size\": 0.5}, \"mode\": \"markers\", \"text\": \"Python appears with Linux 94 times\", \"x\": [0.6588747629161185], \"y\": [-0.6130938319639406], \"type\": \"scatter\", \"uid\": \"80f64888-d9f7-441b-85b4-960dc7f9784b\"}, {\"hoverinfo\": \"text\", \"marker\": {\"color\": \"blue\", \"size\": 0.5}, \"mode\": \"markers\", \"text\": \"Linux appears with Python 94 times\", \"x\": [0.8899438230534079], \"y\": [-0.13416404812424482], \"type\": \"scatter\", \"uid\": \"580e3297-d484-49ac-a279-de80c197bd9b\"}, {\"hoverinfo\": \"text\", \"marker\": {\"color\": \"green\", \"size\": 0.5}, \"mode\": \"markers\", \"text\": \"Python appears with AWS 91 times\", \"x\": [0.6457883653566273], \"y\": [-0.6268631327251709], \"type\": \"scatter\", \"uid\": \"9e4a4ec1-17e1-4edb-a16b-bae8abb1f340\"}, {\"hoverinfo\": \"text\", \"marker\": {\"color\": \"blue\", \"size\": 0.5}, \"mode\": \"markers\", \"text\": \"AWS appears with Python 91 times\", \"x\": [0.8993023750462407], \"y\": [-0.03542934145860697], \"type\": \"scatter\", \"uid\": \"41a7552d-c514-40b0-a6a7-9463df9bb46c\"}, {\"hoverinfo\": \"text\", \"marker\": {\"color\": \"green\", \"size\": 0.5}, \"mode\": \"markers\", \"text\": \"VBA appears with Linux 1 times\", \"x\": [0.8166317650378367], \"y\": [-0.3783022076742181], \"type\": \"scatter\", \"uid\": \"50afc606-6e4e-4999-bb40-70d2752082c1\"}, {\"hoverinfo\": \"text\", \"marker\": {\"color\": \"blue\", \"size\": 0.5}, \"mode\": \"markers\", \"text\": \"Linux appears with VBA 1 times\", \"x\": [0.8701234333946348], \"y\": [-0.22996784700808173], \"type\": \"scatter\", \"uid\": \"65f8bad9-f826-4070-96b7-9fd1423c80c1\"}, {\"hoverinfo\": \"text\", \"marker\": {\"color\": \"green\", \"size\": 0.5}, \"mode\": \"markers\", \"text\": \"VBA appears with AWS 5 times\", \"x\": [0.8169367221576572], \"y\": [-0.37764320726090506], \"type\": \"scatter\", \"uid\": \"748bfd31-6641-4093-9788-40fb644cc870\"}, {\"hoverinfo\": \"text\", \"marker\": {\"color\": \"blue\", \"size\": 0.5}, \"mode\": \"markers\", \"text\": \"AWS appears with VBA 5 times\", \"x\": [0.8948618511339078], \"y\": [-0.09603263708342043], \"type\": \"scatter\", \"uid\": \"1d654bdd-bb11-4b54-995d-9448e0bf3982\"}, {\"hoverinfo\": \"text\", \"marker\": {\"color\": \"green\", \"size\": 0.5}, \"mode\": \"markers\", \"text\": \"Linux appears with AWS 23 times\", \"x\": [0.8734620660300283], \"y\": [-0.21694243293222884], \"type\": \"scatter\", \"uid\": \"435141d3-0f1b-4283-ab36-2718aa09f0c0\"}, {\"hoverinfo\": \"text\", \"marker\": {\"color\": \"blue\", \"size\": 0.5}, \"mode\": \"markers\", \"text\": \"AWS appears with Linux 23 times\", \"x\": [0.8959856451719113], \"y\": [-0.0849100915431955], \"type\": \"scatter\", \"uid\": \"b2ae694b-c65d-45c7-97fb-f648f3998804\"}], {\"autosize\": false, \"font\": {\"color\": \"#655643\", \"family\": \"Fira Sans Condensed\", \"size\": 12}, \"height\": 525, \"hidesources\": true, \"hoverdistance\": 40, \"hovermode\": \"closest\", \"margin\": {\"b\": 10, \"l\": 280, \"r\": 280, \"t\": 80}, \"paper_bgcolor\": \"#fffaf0\", \"plot_bgcolor\": \"#fffaf0\", \"shapes\": [{\"fillcolor\": \"#f2e6ce\", \"layer\": \"below\", \"line\": {\"color\": \"rgb(175,175,175)\", \"width\": 0.5}, \"path\": \"M 0.9729881111613122,0.23085522636219863 Q 0.183740680465161, 0.07898963439717646 0.8369739687097891, 0.5472427027400044L 0.8369739687097891, 0.5472427027400044 L 0.8501896545743852, 0.5264765438789154 L 0.8628902209788978, 0.505391399352016 M 0.8628902209788978,0.505391399352016 Q 0.18387952578326955, 0.07866587568774605 0.9614236198025665, 0.27507203290361965L 0.9614236198025665, 0.27507203290361965 L 0.9674585095588584, 0.2530297063234913 L 0.9729881111613122, 0.23085522636219863 \", \"type\": \"path\"}, {\"fillcolor\": \"#f2e6ce\", \"layer\": \"below\", \"line\": {\"color\": \"rgb(175,175,175)\", \"width\": 0.5}, \"path\": \"M 0.998048149652904,0.062449107074598005 Q 0.14304721156433794, 0.13977659054243505 0.0855125064967854, 0.9963370971878128L 0.0855125064967854, 0.9963370971878128 L 0.0998247086032591, 0.9950050389582328 L 0.1141162855764771, 0.9934673992468137 M 0.1141162855764771,0.9934673992468137 Q 0.143142763266476, 0.139678736121278 0.995964368820328, 0.08974951832921259L 0.995964368820328, 0.08974951832921259 L 0.9970996986614017, 0.07610644472935203 L 0.998048149652904, 0.062449107074598005 \", \"type\": \"path\"}, {\"fillcolor\": \"#f2e6ce\", \"layer\": \"below\", \"line\": {\"color\": \"rgb(175,175,175)\", \"width\": 0.5}, \"path\": \"M 0.995964368820328,0.08974951832921259 Q 0.09643794949487673, 0.17521336106936483 -0.45700123276132765, 0.8894660607660232L -0.45700123276132765, 0.8894660607660232 L -0.44410012926380005, 0.8959771622021825 L -0.4311062830424525, 0.9023011541172498 M -0.4311062830424525,0.9023011541172498 Q 0.09651321612014069, 0.17517191302873591 0.9930562473370624, 0.11764051013503454L 0.9930562473370624, 0.11764051013503454 L 0.9946080784564135, 0.10370520849620171 L 0.995964368820328, 0.08974951832921259 \", \"type\": \"path\"}, {\"fillcolor\": \"#f2e6ce\", \"layer\": \"below\", \"line\": {\"color\": \"rgb(175,175,175)\", \"width\": 0.5}, \"path\": \"M 1.0,0.0 Q 0.07225308421946522, 0.1864926052710264 -0.7389745910387434, 0.6737332957477477L -0.7389745910387434, 0.6737332957477477 L -0.7386300863902967, 0.6741109667399448 L -0.7382853887238988, 0.6744884615742522 M -0.7382853887238988,0.6744884615742522 Q 0.07224546850573428, 0.18649555565853831 0.9999993905263417, 0.0011040593032647739L 0.9999993905263417, 0.0011040593032647739 L 0.9999998476315738, 0.000552029735744289 L 1.0, 0.0 \", \"type\": \"path\"}, {\"fillcolor\": \"#f2e6ce\", \"layer\": \"below\", \"line\": {\"color\": \"rgb(175,175,175)\", \"width\": 0.5}, \"path\": \"M 0.9993759638248411,0.035322555530001264 Q 0.044561660105027795, 0.19497245561536117 -0.8848062035666177, 0.46595920650849804L -0.8848062035666177, 0.46595920650849804 L -0.8825605186989901, 0.4701988205363446 L -0.8802945195584942, 0.47442761179686815 M -0.8802945195584942,0.47442761179686815 Q 0.044549920891658094, 0.19497513828318475 0.9989856172082168, 0.045030396524105454L 0.9989856172082168, 0.045030396524105454 L 0.9991925803774903, 0.040176950090476886 L 0.9993759638248411, 0.035322555530001264 \", \"type\": \"path\"}, {\"fillcolor\": \"#f2e6ce\", \"layer\": \"below\", \"line\": {\"color\": \"rgb(175,175,175)\", \"width\": 0.5}, \"path\": \"M 0.9999835198758718,0.00574107800522793 Q 0.026285005850490786, 0.19826522253647932 -0.9639430591316971, 0.2661085845135884L -0.9639430591316971, 0.2661085845135884 L -0.963754560624717, 0.2667904549924128 L -0.9635655797787825, 0.26747219194820715 M -0.9635655797787825,0.26747219194820715 Q 0.026228259656183008, 0.19827273739828138 0.999970135936355, 0.0077283397588131094L 0.999970135936355, 0.0077283397588131094 L 0.9999773215685903, 0.00673471220677063 L 0.9999835198758718, 0.00574107800522793 \", \"type\": \"path\"}, {\"fillcolor\": \"#f2e6ce\", \"layer\": \"below\", \"line\": {\"color\": \"rgb(175,175,175)\", \"width\": 0.5}, \"path\": \"M 0.9999921012309846,0.003974603834368522 Q 0.01783801499863692, 0.19920292472980514 -0.9833763231093322, 0.1815792035117743L -0.9833763231093322, 0.1815792035117743 L -0.9832396851495301, 0.18231763915500035 L -0.9831024926846959, 0.18305597197889406 M -0.9831024926846959,0.18305597197889406 Q 0.01781166491485893, 0.19920528254281006 0.9999835198758718, 0.00574107800522793L 0.9999835198758718, 0.00574107800522793 L 0.9999882006119812, 0.004857842814663723 L 0.9999921012309846, 0.003974603834368522 \", \"type\": \"path\"}, {\"fillcolor\": \"#f2e6ce\", \"layer\": \"below\", \"line\": {\"color\": \"rgb(175,175,175)\", \"width\": 0.5}, \"path\": \"M 0.9999390532470743,0.011040370978576334 Q 0.002818790117244096, 0.19998013506914863 -0.9992306245979453, 0.03921936850078057L -0.9992306245979453, 0.03921936850078057 L -0.9991414893951648, 0.04142806016713577 L -0.9990474721233322, 0.0436365494050536 M -0.9990474721233322,0.0436365494050536 Q 0.0027751061934981253, 0.19998074603724933 0.9998736221913604, 0.01589778745387323L 0.9998736221913604, 0.01589778745387323 L 0.9999092873029839, 0.01346911894812357 L 0.9999390532470743, 0.011040370978576334 \", \"type\": \"path\"}, {\"fillcolor\": \"#f2e6ce\", \"layer\": \"below\", \"line\": {\"color\": \"rgb(175,175,175)\", \"width\": 0.5}, \"path\": \"M 0.9997706272398452,0.021417117183377413 Q -0.01696919622257524, 0.19927881568184747 -0.9889974562473177, -0.1479325235921259L -0.9889974562473177, -0.1479325235921259 L -0.9894145136621535, -0.1451169189125936 L -0.9898235552694132, -0.14230013855867768 M -0.9898235552694132,-0.14230013855867768 Q -0.01701802711561838, 0.19927465155682014 0.9996191031077375, 0.02759798365972512L 0.9996191031077375, 0.02759798365972512 L 0.9996996420087608, 0.02450766752580772 L 0.9997706272398452, 0.021417117183377413 \", \"type\": \"path\"}, {\"fillcolor\": \"#f2e6ce\", \"layer\": \"below\", \"line\": {\"color\": \"rgb(175,175,175)\", \"width\": 0.5}, \"path\": \"M 0.999970135936355,0.0077283397588131094 Q -0.032276246877206836, 0.19737842812101225 -0.9503456074053617, -0.31119644356151327L -0.9503456074053617, -0.31119644356151327 L -0.9508171235103514, -0.3097528008582024 L -0.951286446620594, -0.30830844373121485 M -0.951286446620594,-0.30830844373121485 Q -0.032303365395589916, 0.19737399166080372 0.9999390532470743, 0.011040370978576334L 0.9999390532470743, 0.011040370978576334 L 0.9999559658468871, 0.009384368237624879 L 0.999970135936355, 0.0077283397588131094 \", \"type\": \"path\"}, {\"fillcolor\": \"#f2e6ce\", \"layer\": \"below\", \"line\": {\"color\": \"rgb(175,175,175)\", \"width\": 0.5}, \"path\": \"M 0.9881459726003999,0.1535172199904941 Q -0.07764325251469541, 0.18431366020710252 -0.8001423613251437, -0.5998101379711943L -0.8001423613251437, -0.5998101379711943 L -0.8118977689783332, -0.5837996340594991 L -0.8233328619784884, -0.5675588061040999 M -0.8233328619784884,-0.5675588061040999 Q -0.07752299614539948, 0.18436427275543488 0.9815198389599676, 0.19136040794270703L 0.9815198389599676, 0.19136040794270703 L 0.9850146592949959, 0.17247063800532278 L 0.9881459726003999, 0.1535172199904941 \", \"type\": \"path\"}, {\"fillcolor\": \"#f2e6ce\", \"layer\": \"below\", \"line\": {\"color\": \"rgb(175,175,175)\", \"width\": 0.5}, \"path\": \"M 0.9815198389599676,0.19136040794270703 Q -0.12644222985025425, 0.1549592285425282 -0.3843806291848003, -0.9231747028095478L -0.3843806291848003, -0.9231747028095478 L -0.40387644978076576, -0.9148135401886467 L -0.42319052756516556, -0.906040715078035 M -0.42319052756516556,-0.906040715078035 Q -0.12628577768661983, 0.15508675750716316 0.9729881111613122, 0.23085522636219863L 0.9729881111613122, 0.23085522636219863 L 0.9774534730320001, 0.2111509129927717 L 0.9815198389599676, 0.19136040794270703 \", \"type\": \"path\"}, {\"fillcolor\": \"#f2e6ce\", \"layer\": \"below\", \"line\": {\"color\": \"rgb(175,175,175)\", \"width\": 0.5}, \"path\": \"M 0.9998736221913604,0.01589778745387323 Q -0.13756956080338775, 0.14517098863189917 -0.06959882906000621, -0.9975750613329686L -0.06959882906000621, -0.9975750613329686 L -0.07154965071008118, -0.9974370393580065 L -0.07350019870025838, -0.9972952024305655 M -0.07350019870025838,-0.9972952024305655 Q -0.13768629913394181, 0.14506027378575673 0.9997706272398452, 0.021417117183377413L 0.9997706272398452, 0.021417117183377413 L 0.9998259332608793, 0.018657523389018885 L 0.9998736221913604, 0.01589778745387323 \", \"type\": \"path\"}, {\"fillcolor\": \"#f2e6ce\", \"layer\": \"below\", \"line\": {\"color\": \"rgb(175,175,175)\", \"width\": 0.5}, \"path\": \"M 0.9930562473370624,0.11764051013503454 Q -0.16468958693524918, 0.11347836778477652 0.24373266022586593, -0.9698424564532234L 0.24373266022586593, -0.9698424564532234 L 0.22502383136255458, -0.9743532600237537 L 0.20623166095696402, -0.9785031946902022 M 0.20623166095696402,-0.9785031946902022 Q -0.16456026709980587, 0.11366581936554435 0.9881459726003999, 0.1535172199904941L 0.9881459726003999, 0.1535172199904941 L 0.9907635155014517, 0.13560109273602713 L 0.9930562473370624, 0.11764051013503454 \", \"type\": \"path\"}, {\"fillcolor\": \"#f2e6ce\", \"layer\": \"below\", \"line\": {\"color\": \"rgb(175,175,175)\", \"width\": 0.5}, \"path\": \"M 0.9989856172082168,0.045030396524105454 Q -0.18661458759079483, 0.07193744295092487 0.7102726040393549, -0.7039267205832961L 0.7102726040393549, -0.7039267205832961 L 0.703899152437822, -0.7102999248186049 L 0.6974685170422555, -0.7166154252699818 M 0.6974685170422555,-0.7166154252699818 Q -0.1865936309898691, 0.07199178337849788 0.998048149652904, 0.062449107074598005L 0.998048149652904, 0.062449107074598005 L 0.9985548654756982, 0.05374179597678369 L 0.9989856172082168, 0.045030396524105454 \", \"type\": \"path\"}, {\"fillcolor\": \"#f2e6ce\", \"layer\": \"below\", \"line\": {\"color\": \"rgb(175,175,175)\", \"width\": 0.5}, \"path\": \"M 0.9996191031077375,0.02759798365972512 Q -0.19643709425604, 0.037582815225095365 0.9188352781836203, -0.39464126946535766L 0.9188352781836203, -0.39464126946535766 L 0.9174365319419735, -0.3978821557424814 L 0.9160263545925981, -0.4011180844736319 M 0.9160263545925981,-0.4011180844736319 Q -0.19644964936710074, 0.03751713293341034 0.9993759638248411, 0.035322555530001264L 0.9993759638248411, 0.035322555530001264 L 0.9995049958143485, 0.03146050448036705 L 0.9996191031077375, 0.02759798365972512 \", \"type\": \"path\"}, {\"fillcolor\": \"#f2e6ce\", \"layer\": \"below\", \"line\": {\"color\": \"rgb(175,175,175)\", \"width\": 0.5}, \"path\": \"M 0.9999970501486445,0.0024289285723101033 Q -0.19839765399636322, 0.025266002626837165 0.967469823453642, -0.2529864437209608L 0.967469823453642, -0.2529864437209608 L 0.9672977918140281, -0.2536434149582936 L 0.9671253140507802, -0.2543002692137384 M 0.9671253140507802,-0.2543002692137384 Q -0.1984000210572778, 0.025247408668450096 0.9999921012309846, 0.003974603834368522L 0.9999921012309846, 0.003974603834368522 L 0.9999948743303919, 0.0032017671595218062 L 0.9999970501486445, 0.0024289285723101033 \", \"type\": \"path\"}, {\"fillcolor\": \"#f2e6ce\", \"layer\": \"below\", \"line\": {\"color\": \"rgb(175,175,175)\", \"width\": 0.5}, \"path\": \"M 0.9999993905263417,0.0011040593032647739 Q -0.19972801948654836, 0.010426803536125538 0.9944485206952571, -0.10522423526457564L 0.9944485206952571, -0.10522423526457564 L 0.9943931570821206, -0.10574615429533617 L 0.9943375195488665, -0.10626804419677414 M 0.9943375195488665,-0.10626804419677414 Q -0.19972945220421848, 0.010399323160802615 0.9999970501486445, 0.0024289285723101033L 0.9999970501486445, 0.0024289285723101033 L 0.999998439747682, 0.0017664943253748967 L 0.9999993905263417, 0.0011040593032647739 \", \"type\": \"path\"}, {\"fillcolor\": \"#ecd5bb\", \"layer\": \"below\", \"line\": {\"color\": \"rgb(175,175,175)\", \"width\": 0.5}, \"path\": \"M 0.558956558669094,0.8291969401299089 Q 0.03466107077767028, 0.1969736281143883 -0.24232080978573473, 0.9701961786900554L -0.24232080978573473, 0.9701961786900554 L -0.17636401295281776, 0.9843250148884658 L -0.10960477343027526, 0.9939752480023323 M -0.10960477343027526,0.9939752480023323 Q 0.03431776695110299, 0.1970337302887244 0.4392016325564349, 0.8983885161553226L 0.4392016325564349, 0.8983885161553226 L 0.5002767356432587, 0.8658655714221031 L 0.558956558669094, 0.8291969401299089 \", \"type\": \"path\"}, {\"fillcolor\": \"#ecd5bb\", \"layer\": \"below\", \"line\": {\"color\": \"rgb(175,175,175)\", \"width\": 0.5}, \"path\": \"M 0.8031181790003921,0.5958197634848095 Q 0.032041140375184816, 0.19741673010020633 -0.5734511109078054, 0.8192397838231513L -0.5734511109078054, 0.8192397838231513 L -0.549061524646103, 0.8357819345698355 L -0.5241950813771037, 0.8515982131616128 M -0.5241950813771037,0.8515982131616128 Q 0.03177900432346414, 0.19745909673704387 0.7649169335919778, 0.6441289348447605L 0.7649169335919778, 0.6441289348447605 L 0.7843895541056196, 0.6202685123476664 L 0.8031181790003921, 0.5958197634848095 \", \"type\": \"path\"}, {\"fillcolor\": \"#ecd5bb\", \"layer\": \"below\", \"line\": {\"color\": \"rgb(175,175,175)\", \"width\": 0.5}, \"path\": \"M 0.9358042535311607,0.3525200690357743 Q 0.04413742936023421, 0.19506892968761155 -0.6928945583325553, 0.7210389247697611L -0.6928945583325553, 0.7210389247697611 L -0.6884755658173803, 0.7252595364918948 L -0.6840308648960617, 0.7294530662554966 M -0.6840308648960617,0.7294530662554966 Q 0.043798401691560074, 0.19514533048286026 0.9301557666099749, 0.3671651533604598L 0.9301557666099749, 0.3671651533604598 L 0.9330087453046708, 0.3598536941383317 L 0.9358042535311607, 0.3525200690357743 \", \"type\": \"path\"}, {\"fillcolor\": \"#ecd5bb\", \"layer\": \"below\", \"line\": {\"color\": \"rgb(175,175,175)\", \"width\": 0.5}, \"path\": \"M 0.8959853186651643,0.4440836731253289 Q 0.0125248894354444, 0.1996074325886436 -0.833445715778383, 0.5526013380825808L -0.833445715778383, 0.5526013380825808 L -0.8267760682947791, 0.5625311839311904 L -0.8199881207007934, 0.5723805394224903 M -0.8199881207007934,0.5723805394224903 Q 0.012135406249486504, 0.19963149028938276 0.8832829357271593, 0.46884033044652934L 0.8832829357271593, 0.46884033044652934 L 0.8897202387787447, 0.45650618474177707 L 0.8959853186651643, 0.4440836731253289 \", \"type\": \"path\"}, {\"fillcolor\": \"#ecd5bb\", \"layer\": \"below\", \"line\": {\"color\": \"rgb(175,175,175)\", \"width\": 0.5}, \"path\": \"M 0.8832829357271593,0.46884033044652934 Q -0.01816120315921562, 0.19917371990252553 -0.9535115744610273, 0.30135639593154934L -0.9535115744610273, 0.30135639593154934 L -0.9475531420596743, 0.3195982524558584 L -0.9412457559245754, 0.33772241109226775 M -0.9412457559245754,0.33772241109226775 Q -0.01850742539649179, 0.19914184694632442 0.8628902209788978, 0.505391399352016L 0.8628902209788978, 0.505391399352016 L 0.873277830051658, 0.4872225687919921 L 0.8832829357271593, 0.46884033044652934 \", \"type\": \"path\"}, {\"fillcolor\": \"#ecd5bb\", \"layer\": \"below\", \"line\": {\"color\": \"rgb(175,175,175)\", \"width\": 0.5}, \"path\": \"M 0.9455600141168984,0.32544778337430863 Q -0.009950636686992182, 0.19975230869635396 -0.9732227950140796, 0.22986385375909552L -0.9732227950140796, 0.22986385375909552 L -0.9721831276669423, 0.23422204482012768 L -0.9711239439986984, 0.23857553393508932 M -0.9711239439986984,0.23857553393508932 Q -0.01040957449467523, 0.19972891818372174 0.9410613945605557, 0.33823579300207424L 0.9410613945605557, 0.33823579300207424 L 0.9433323742020017, 0.3318494113034023 L 0.9455600141168984, 0.32544778337430863 \", \"type\": \"path\"}, {\"fillcolor\": \"#ecd5bb\", \"layer\": \"below\", \"line\": {\"color\": \"rgb(175,175,175)\", \"width\": 0.5}, \"path\": \"M 0.9410613945605557,0.33823579300207424 Q -0.02585986552386639, 0.1983211218077579 -0.9963285571233177, 0.08561195162223417L -0.9963285571233177, 0.08561195162223417 L -0.9957962432861566, 0.09159607992254674 L -0.9952279880262793, 0.09757690223185023 M -0.9952279880262793,0.09757690223185023 Q -0.02617770015134251, 0.19827941903986507 0.9358042535311607, 0.3525200690357743L 0.9358042535311607, 0.3525200690357743 L 0.938460002015076, 0.34538793351514696 L 0.9410613945605557, 0.33823579300207424 \", \"type\": \"path\"}, {\"fillcolor\": \"#ecd5bb\", \"layer\": \"below\", \"line\": {\"color\": \"rgb(175,175,175)\", \"width\": 0.5}, \"path\": \"M 0.9237324568829486,0.38303831153161644 Q -0.04044977983905363, 0.19586683055324117 -0.9998988372458802, -0.01422375739165747L -0.9998988372458802, -0.01422375739165747 L -0.9999820891148274, -0.005985102300322692 L -0.9999974598310203, 0.0022539590739324706 M -0.9999974598310203,0.0022539590739324706 Q -0.04074587084002349, 0.19580544938659938 0.916087237191963, 0.40097901921920553L 0.916087237191963, 0.40097901921920553 L 0.9199535824836806, 0.3920273027168411 L 0.9237324568829486, 0.38303831153161644 \", \"type\": \"path\"}, {\"fillcolor\": \"#ecd5bb\", \"layer\": \"below\", \"line\": {\"color\": \"rgb(175,175,175)\", \"width\": 0.5}, \"path\": \"M 0.916087237191963,0.40097901921920553 Q -0.06142031479845975, 0.19033534860886483 -0.9776737397515161, -0.21012867153314604L -0.9776737397515161, -0.21012867153314604 L -0.9794323591835727, -0.2017727776091241 L -0.9811195645729599, -0.19340217168420223 M -0.9811195645729599,-0.19340217168420223 Q -0.06169621411867308, 0.19024609631585834 0.9078943191266272, 0.4191991236841962L 0.9078943191266272, 0.4191991236841962 L 0.9120362780609527, 0.41010953110202714 L 0.916087237191963, 0.40097901921920553 \", \"type\": \"path\"}, {\"fillcolor\": \"#ecd5bb\", \"layer\": \"below\", \"line\": {\"color\": \"rgb(175,175,175)\", \"width\": 0.5}, \"path\": \"M 0.9078943191266272,0.4191991236841962 Q -0.08280140884336162, 0.18205473543293094 -0.9126233429547769, -0.40880146023962266L -0.9126233429547769, -0.40880146023962266 L -0.9173614888115633, -0.39805514548292437 L -0.9219730999644741, -0.3872539256636372 M -0.9219730999644741,-0.3872539256636372 Q -0.0831743691251737, 0.18188464564286166 0.8959853186651643, 0.4440836731253289L 0.8959853186651643, 0.4440836731253289 L 0.9020256355060998, 0.43168246766554785 L 0.9078943191266272, 0.4191991236841962 \", \"type\": \"path\"}, {\"fillcolor\": \"#ecd5bb\", \"layer\": \"below\", \"line\": {\"color\": \"rgb(175,175,175)\", \"width\": 0.5}, \"path\": \"M 0.7100537163291646,0.7041475129027598 Q -0.14842233506069064, 0.1340552515015062 -0.6284722024304806, -0.7778320453492392L -0.6284722024304806, -0.7778320453492392 L -0.6634930427536938, -0.748182452492335 L -0.6971168602492166, -0.7169575183762802 M -0.6971168602492166,-0.7169575183762802 Q -0.14867857166761062, 0.1337710070489087 0.6395915610634463, 0.7687149244137412L 0.6395915610634463, 0.7687149244137412 L 0.6755944281551998, 0.7372734693759491 L 0.7100537163291646, 0.7041475129027598 \", \"type\": \"path\"}, {\"fillcolor\": \"#ecd5bb\", \"layer\": \"below\", \"line\": {\"color\": \"rgb(175,175,175)\", \"width\": 0.5}, \"path\": \"M 0.6395915610634463,0.7687149244137412 Q -0.1835520702630148, 0.07942693184406215 -0.12250989424830605, -0.9924672920611887L -0.12250989424830605, -0.9924672920611887 L -0.17112249661080398, -0.9852497607985933 L -0.2193217905948673, -0.975652577596278 M -0.2193217905948673,-0.975652577596278 Q -0.1836527581421331, 0.07919384083871149 0.558956558669094, 0.8291969401299089L 0.558956558669094, 0.8291969401299089 L 0.6000365967046298, 0.7999725511635543 L 0.6395915610634463, 0.7687149244137412 \", \"type\": \"path\"}, {\"fillcolor\": \"#ecd5bb\", \"layer\": \"below\", \"line\": {\"color\": \"rgb(175,175,175)\", \"width\": 0.5}, \"path\": \"M 0.9523089939285675,0.30513534715394663 Q -0.15834041334120189, 0.12218147774084803 -0.053670841566979134, -0.9985586816835014L -0.053670841566979134, -0.9985586816835014 L -0.05663897713813794, -0.9983947246799462 L -0.05960661220704326, -0.9982219451510767 M -0.05960661220704326,-0.9982219451510767 Q -0.1585291298812223, 0.12193652028454212 0.9495124675734269, 0.3137293003890806L 0.9495124675734269, 0.3137293003890806 L 0.9509204392931342, 0.3094354829920974 L 0.9523089939285675, 0.30513534715394663 \", \"type\": \"path\"}, {\"fillcolor\": \"#ecd5bb\", \"layer\": \"below\", \"line\": {\"color\": \"rgb(175,175,175)\", \"width\": 0.5}, \"path\": \"M 0.4392016325564349,0.8983885161553226 Q -0.19889637220374423, -0.02098173310738777 0.6169914026448169, -0.7869698908232649L 0.6169914026448169, -0.7869698908232649 L 0.5600983692234566, -0.8284261082276587 L 0.5004298046202984, -0.8657771137236708 M 0.5004298046202984,-0.8657771137236708 Q -0.1988765696988936, -0.021168609420581207 0.306973920426507, 0.9517179267923771L 0.306973920426507, 0.9517179267923771 L 0.3740394303774318, 0.9274128015737794 L 0.4392016325564349, 0.8983885161553226 \", \"type\": \"path\"}, {\"fillcolor\": \"#ecd5bb\", \"layer\": \"below\", \"line\": {\"color\": \"rgb(175,175,175)\", \"width\": 0.5}, \"path\": \"M 0.7649169335919778,0.6441289348447605 Q -0.19862621158862734, -0.023401454440907143 0.8936725799347581, -0.4487196450711216L 0.8936725799347581, -0.4487196450711216 L 0.875487972797302, -0.48323990883128703 L 0.8559705853264633, -0.5170245226832783 M 0.8559705853264633,-0.5170245226832783 Q -0.19858734234269176, -0.023729042569529655 0.7100537163291646, 0.7041475129027598L 0.7100537163291646, 0.7041475129027598 L 0.7380956319883117, 0.6746961079180571 L 0.7649169335919778, 0.6441289348447605 \", \"type\": \"path\"}, {\"fillcolor\": \"#ecd5bb\", \"layer\": \"below\", \"line\": {\"color\": \"rgb(175,175,175)\", \"width\": 0.5}, \"path\": \"M 0.8369739687097891,0.5472427027400044 Q -0.19791318547471534, -0.028816158926042407 0.9582729553757201, -0.285854758567149L 0.9582729553757201, -0.285854758567149 L 0.9507930774119434, -0.309826603030673 L 0.9427136313289455, -0.3336030714885476 M 0.9427136313289455,-0.3336030714885476 Q -0.19778158448469677, -0.029705973115229864 0.8031181790003921, 0.5958197634848095L 0.8031181790003921, 0.5958197634848095 L 0.8204056898588649, 0.5717818675397114 L 0.8369739687097891, 0.5472427027400044 \", \"type\": \"path\"}, {\"fillcolor\": \"#ecd5bb\", \"layer\": \"below\", \"line\": {\"color\": \"rgb(175,175,175)\", \"width\": 0.5}, \"path\": \"M 0.9301557666099749,0.3671651533604598 Q -0.1990014133054604, -0.019960899339191415 0.9845488568235908, -0.17511010401276236L 0.9845488568235908, -0.17511010401276236 L 0.9833016590324578, -0.18198309631396015 L 0.9820064824867482, -0.18884720901830687 M 0.9820064824867482,-0.18884720901830687 Q -0.19896969502023654, -0.020274626101461662 0.9237324568829486, 0.38303831153161644L 0.9237324568829486, 0.38303831153161644 L 0.9269780879767431, 0.37511548143336004 L 0.9301557666099749, 0.3671651533604598 \", \"type\": \"path\"}, {\"fillcolor\": \"#ecd5bb\", \"layer\": \"below\", \"line\": {\"color\": \"rgb(175,175,175)\", \"width\": 0.5}, \"path\": \"M 0.9495124675734269,0.3137293003890806 Q -0.19815620629534494, -0.027094610287595935 0.9988798468976258, -0.04731861643978661L 0.9988798468976258, -0.04731861643978661 L 0.9986542769664141, -0.0518616919960076 L 0.9984080444614701, -0.05640369451217825 M 0.9984080444614701,-0.05640369451217825 Q -0.19811164438106726, -0.027418540454034874 0.9455600141168984, 0.32544778337430863L 0.9455600141168984, 0.32544778337430863 L 0.9475543564491964, 0.3195946519798934 L 0.9495124675734269, 0.3137293003890806 \", \"type\": \"path\"}, {\"fillcolor\": \"#e6c4a9\", \"layer\": \"below\", \"line\": {\"color\": \"rgb(175,175,175)\", \"width\": 0.5}, \"path\": \"M -0.048831645087173636,0.9988070236227218 Q -0.07040020934200678, 0.18719992127295787 -0.6214288748734509, 0.7834705823919089L -0.6214288748734509, 0.7834705823919089 L -0.5977076242176528, 0.8017141610025915 L -0.5734511109078054, 0.8192397838231513 M -0.5734511109078054,0.8192397838231513 Q -0.0705051646030836, 0.18716041719416018 -0.10960477343027526, 0.9939752480023323L -0.10960477343027526, 0.9939752480023323 L -0.07925503890649806, 0.9968543719159432 L -0.048831645087173636, 0.9988070236227218 \", \"type\": \"path\"}, {\"fillcolor\": \"#e6c4a9\", \"layer\": \"below\", \"line\": {\"color\": \"rgb(175,175,175)\", \"width\": 0.5}, \"path\": \"M 0.22622422919914903,0.9740752528030115 Q -0.05190635123367979, 0.19314691481254853 -0.6840308648960617, 0.7294530662554966L -0.6840308648960617, 0.7294530662554966 L -0.6804431361545578, 0.7328008859575361 L -0.6768390225503608, 0.7361310600382736 M -0.6768390225503608,0.7361310600382736 Q -0.052145174634489345, 0.1930825749837064 0.21423839948561213, 0.9767814024569895L 0.21423839948561213, 0.9767814024569895 L 0.22023547086802317, 0.9754467373319469 L 0.22622422919914903, 0.9740752528030115 \", \"type\": \"path\"}, {\"fillcolor\": \"#e6c4a9\", \"layer\": \"below\", \"line\": {\"color\": \"rgb(175,175,175)\", \"width\": 0.5}, \"path\": \"M 0.19858601173094373,0.9800834637645905 Q -0.07081517014454493, 0.1870433417082767 -0.7978777443942657, 0.6028192971366451L -0.7978777443942657, 0.6028192971366451 L -0.7930451707728247, 0.6091628330043629 L -0.7881621640662003, 0.6154676296398406 M -0.7881621640662003,0.6154676296398406 Q -0.07101474318012836, 0.1869676609765989 0.18083102508896737, 0.9835141790362116L 0.18083102508896737, 0.9835141790362116 L 0.18971627344305267, 0.9818389560365187 L 0.19858601173094373, 0.9800834637645905 \", \"type\": \"path\"}, {\"fillcolor\": \"#e6c4a9\", \"layer\": \"below\", \"line\": {\"color\": \"rgb(175,175,175)\", \"width\": 0.5}, \"path\": \"M 0.14262575766324326,0.9897766885772699 Q -0.09738309734145065, 0.17468981754007745 -0.916892330426766, 0.3991346319283434L -0.916892330426766, 0.3991346319283434 L -0.9114121256739594, 0.4114947595953986 L -0.9057653098628826, 0.4237796637982953 M -0.9057653098628826,0.4237796637982953 Q -0.09753216359612245, 0.17460663522403497 0.1141162855764771, 0.9934673992468137L 0.1141162855764771, 0.9934673992468137 L 0.12838428458358214, 0.9917244957506908 L 0.14262575766324326, 0.9897766885772699 \", \"type\": \"path\"}, {\"fillcolor\": \"#e6c4a9\", \"layer\": \"below\", \"line\": {\"color\": \"rgb(175,175,175)\", \"width\": 0.5}, \"path\": \"M 0.2442507784300781,0.9697121001804097 Q -0.10257143338306868, 0.17169479040944344 -0.9696429473506232, 0.2445251615952775L -0.9696429473506232, 0.2445251615952775 L -0.968888776647624, 0.24749654237235458 L -0.9681255004469088, 0.250465597207326 M -0.9681255004469088,0.250465597207326 Q -0.10282119462509308, 0.17154533492890076 0.2354729482617403, 0.9718809035251819L 0.2354729482617403, 0.9718809035251819 L 0.2398643145921432, 0.9708064228182884 L 0.2442507784300781, 0.9697121001804097 \", \"type\": \"path\"}, {\"fillcolor\": \"#e6c4a9\", \"layer\": \"below\", \"line\": {\"color\": \"rgb(175,175,175)\", \"width\": 0.5}, \"path\": \"M 0.25950752698324786,0.96574108509426 Q -0.10847571486673764, 0.16802684096343132 -0.9869465344231781, 0.16104824801927695L -0.9869465344231781, 0.16104824801927695 L -0.986427502779924, 0.16419738657896818 L -0.9858984229249571, 0.16734485254731457 M -0.9858984229249571,0.16734485254731457 Q -0.10860165100642193, 0.1679454715039359 0.2518869782430804, 0.9677566585622492L 0.2518869782430804, 0.9677566585622492 L 0.25569923861447347, 0.9667563805695717 L 0.25950752698324786, 0.96574108509426 \", \"type\": \"path\"}, {\"fillcolor\": \"#e6c4a9\", \"layer\": \"below\", \"line\": {\"color\": \"rgb(175,175,175)\", \"width\": 0.5}, \"path\": \"M 0.2518869782430804,0.9677566585622492 Q -0.12020751081947406, 0.1598441564230173 -0.9996470555636581, 0.026566224852406593L -0.9996470555636581, 0.026566224852406593 L -0.9995504667034132, 0.029981069243588156 L -0.999442212597819, 0.03339556374095268 M -0.999442212597819,0.03339556374095268 Q -0.12029142773491011, 0.15978101393312316 0.2442507784300781, 0.9697121001804097L 0.2442507784300781, 0.9697121001804097 L 0.24807080508828344, 0.9687419035340894 L 0.2518869782430804, 0.9677566585622492 \", \"type\": \"path\"}, {\"fillcolor\": \"#e6c4a9\", \"layer\": \"below\", \"line\": {\"color\": \"rgb(175,175,175)\", \"width\": 0.5}, \"path\": \"M 0.2354729482617403,0.9718809035251819 Q -0.13660038389049617, 0.14608331568310282 -0.9854766027137627, -0.16981126436058577L -0.9854766027137627, -0.16981126436058577 L -0.986175786658622, -0.16570249789380928 L -0.9868578399213367, -0.16159085303875764 M -0.9868578399213367,-0.16159085303875764 Q -0.13668580737289743, 0.14600339058672296 0.22622422919914903, 0.9740752528030115L 0.22622422919914903, 0.9740752528030115 L 0.23085119603551182, 0.9729890674046516 L 0.2354729482617403, 0.9718809035251819 \", \"type\": \"path\"}, {\"fillcolor\": \"#e6c4a9\", \"layer\": \"below\", \"line\": {\"color\": \"rgb(175,175,175)\", \"width\": 0.5}, \"path\": \"M 0.21423839948561213,0.9767814024569895 Q -0.15245902886483598, 0.12944591348355158 -0.9291018825757114, -0.3698238659068248L -0.9291018825757114, -0.3698238659068248 L -0.931662776752264, -0.3633241946447567 L -0.9341782021467039, -0.3568067917430274 M -0.9341782021467039,-0.3568067917430274 Q -0.1525900201806094, 0.12929147590340676 0.19858601173094373, 0.9800834637645905L 0.19858601173094373, 0.9800834637645905 L 0.2064188085574903, 0.9784637323241502 L 0.21423839948561213, 0.9767814024569895 \", \"type\": \"path\"}, {\"fillcolor\": \"#e6c4a9\", \"layer\": \"below\", \"line\": {\"color\": \"rgb(175,175,175)\", \"width\": 0.5}, \"path\": \"M 0.16210187368277784,0.9867740281080227 Q -0.16776708861553455, 0.10887701308112463 -0.8351972686207787, -0.5499504727594939L -0.8351972686207787, -0.5499504727594939 L -0.8404941415448878, -0.5418206327085764 L -0.845711880968893, -0.5336397796154788 M -0.845711880968893,-0.5336397796154788 Q -0.16778342684382855, 0.10885183359292411 0.14262575766324326, 0.9897766885772699L 0.14262575766324326, 0.9897766885772699 L 0.1523712122381146, 0.9883233345829124 L 0.16210187368277784, 0.9867740281080227 \", \"type\": \"path\"}, {\"fillcolor\": \"#e6c4a9\", \"layer\": \"below\", \"line\": {\"color\": \"rgb(175,175,175)\", \"width\": 0.5}, \"path\": \"M 0.0855125064967854,0.9963370971878128 Q -0.1932114848168724, 0.05166548301196351 -0.42319052756516556, -0.906040715078035L -0.42319052756516556, -0.906040715078035 L -0.43940083323874835, -0.8982911041244335 L -0.4554692869304404, -0.8902514974225407 M -0.4554692869304404,-0.8902514974225407 Q -0.1932114848168724, 0.05166548301196351 0.04966118103688606, 0.9987661223219486L 0.04966118103688606, 0.9987661223219486 L 0.06759775507469333, 0.9977126557826466 L 0.0855125064967854, 0.9963370971878128 \", \"type\": \"path\"}, {\"fillcolor\": \"#e6c4a9\", \"layer\": \"below\", \"line\": {\"color\": \"rgb(175,175,175)\", \"width\": 0.5}, \"path\": \"M 0.2729159252795527,0.9620378878863377 Q -0.1970908299394556, 0.03398830319060661 -0.06507191029367802, -0.9978805772690095L -0.06507191029367802, -0.9978805772690095 L -0.06733554295105848, -0.9977303867556035 L -0.06959882906000621, -0.9975750613329686 M -0.06959882906000621,-0.9975750613329686 Q -0.1971278645718801, 0.033772844258819844 0.2664416332717294, 0.9638510549143438L 0.2664416332717294, 0.9638510549143438 L 0.2696803031095667, 0.962949912568007 L 0.2729159252795527, 0.9620378878863377 \", \"type\": \"path\"}, {\"fillcolor\": \"#e6c4a9\", \"layer\": \"below\", \"line\": {\"color\": \"rgb(175,175,175)\", \"width\": 0.5}, \"path\": \"M 0.01189115186001519,0.9999292977543173 Q -0.1971812177292311, -0.03345993686212758 0.3410857358491799, -0.9400321913637977L 0.3410857358491799, -0.9400321913637977 L 0.3120273911595254, -0.9500731062219268 L 0.2826741158809495, -0.9592160049805901 M 0.2826741158809495,-0.9592160049805901 Q -0.19719372408085975, -0.033386152565423904 -0.048831645087173636, 0.9988070236227218L -0.048831645087173636, 0.9988070236227218 L -0.018478768486375138, 0.9998292529803411 L 0.01189115186001519, 0.9999292977543173 \", \"type\": \"path\"}, {\"fillcolor\": \"#e6c4a9\", \"layer\": \"below\", \"line\": {\"color\": \"rgb(175,175,175)\", \"width\": 0.5}, \"path\": \"M 0.04966118103688606,0.9987661223219486 Q -0.1765726529146505, -0.09392602537466585 0.8559705853264633, -0.5170245226832783L 0.8559705853264633, -0.5170245226832783 L 0.8462080126466873, -0.532852699470073 L 0.8361527882291832, -0.5484965950090873 M 0.8361527882291832,-0.5484965950090873 Q -0.17654464788551816, -0.09397865344310066 0.01189115186001519, 0.9999292977543173L 0.01189115186001519, 0.9999292977543173 L 0.030781661188674574, 0.9995261323919779 L 0.04966118103688606, 0.9987661223219486 \", \"type\": \"path\"}, {\"fillcolor\": \"#e6c4a9\", \"layer\": \"below\", \"line\": {\"color\": \"rgb(175,175,175)\", \"width\": 0.5}, \"path\": \"M 0.18083102508896737,0.9835141790362116 Q -0.1731228016927622, -0.10014237631516705 0.9427136313289455, -0.3336030714885476L 0.9427136313289455, -0.3336030714885476 L 0.9399225497608383, -0.3413877567387038 L 0.9370671855165481, -0.34914909398148974 M 0.9370671855165481,-0.34914909398148974 Q -0.17299893666825014, -0.10035620514773753 0.16210187368277784, 0.9867740281080227L 0.16210187368277784, 0.9867740281080227 L 0.17147419607331815, 0.985188611424741 L 0.18083102508896737, 0.9835141790362116 \", \"type\": \"path\"}, {\"fillcolor\": \"#e6c4a9\", \"layer\": \"below\", \"line\": {\"color\": \"rgb(175,175,175)\", \"width\": 0.5}, \"path\": \"M 0.2769282648186709,0.9608905953044394 Q -0.17351254666410687, -0.09946555258045946 0.9691177552829188, -0.24659841117776218L 0.9691177552829188, -0.24659841117776218 L 0.968685639871762, -0.24829041686346826 L 0.968250570350127, -0.24998166536098956 M 0.968250570350127,-0.24998166536098956 Q -0.1734786922745128, -0.09952458654385306 0.2729159252795527, 0.9620378878863377L 0.2729159252795527, 0.9620378878863377 L 0.2749226935272168, 0.9614663346075826 L 0.2769282648186709, 0.9608905953044394 \", \"type\": \"path\"}, {\"fillcolor\": \"#e6c4a9\", \"layer\": \"below\", \"line\": {\"color\": \"rgb(175,175,175)\", \"width\": 0.5}, \"path\": \"M 0.2664416332717294,0.9638510549143438 Q -0.16426988896677877, -0.11408507167391435 0.9962135639684057, -0.0869398353194164L 0.9962135639684057, -0.0869398353194164 L 0.9959741458148657, -0.08964095530698364 L 0.9957274038946826, -0.09234141613141787 M 0.9957274038946826,-0.09234141613141787 Q -0.16416922096105924, -0.11422988614648494 0.25950752698324786, 0.96574108509426L 0.25950752698324786, 0.96574108509426 L 0.2629762781065036, 0.9648022995169793 L 0.2664416332717294, 0.9638510549143438 \", \"type\": \"path\"}, {\"fillcolor\": \"#e1b396\", \"layer\": \"below\", \"line\": {\"color\": \"rgb(175,175,175)\", \"width\": 0.5}, \"path\": \"M -0.34943050049783353,0.9369622859655737 Q -0.10772792123404085, 0.168507254996906 -0.7037627108006964, 0.710435110961202L -0.7037627108006964, 0.710435110961202 L -0.6983487610589063, 0.7157576460838477 L -0.6928945583325553, 0.7210389247697611 M -0.6928945583325553,0.7210389247697611 Q -0.10802071610307756, 0.16831971035080331 -0.3668536375558012, 0.9302786725557438L -0.3668536375558012, 0.9302786725557438 L -0.3581576598076085, 0.9336611219929517 L -0.34943050049783353, 0.9369622859655737 \", \"type\": \"path\"}, {\"fillcolor\": \"#e1b396\", \"layer\": \"below\", \"line\": {\"color\": \"rgb(175,175,175)\", \"width\": 0.5}, \"path\": \"M -0.3668536375558012,0.9302786725557438 Q -0.12244902124731255, 0.15813360552259348 -0.8088356776530888, 0.5880347324397331L -0.8088356776530888, 0.5880347324397331 L -0.8033907212465796, 0.5954522222772375 L -0.7978777443942657, 0.6028192971366451 M -0.7978777443942657,0.6028192971366451 Q -0.12261333630109626, 0.158006233298292 -0.3858293118639759, 0.9225701827539035L -0.3858293118639759, 0.9225701827539035 L -0.37636121052862215, 0.9264730105132206 L -0.3668536375558012, 0.9302786725557438 \", \"type\": \"path\"}, {\"fillcolor\": \"#e1b396\", \"layer\": \"below\", \"line\": {\"color\": \"rgb(175,175,175)\", \"width\": 0.5}, \"path\": \"M -0.45700123276132765,0.8894660607660232 Q -0.15031685522004878, 0.1319274157889667 -0.9412457559245754, 0.33772241109226775L -0.9412457559245754, 0.33772241109226775 L -0.9349403725233422, 0.3548048757076406 L -0.9283249923852434, 0.37176969821777833 M -0.9283249923852434,0.37176969821777833 Q -0.15042148666728095, 0.13180810426072073 -0.49046765257200137, 0.8714593976660706L -0.49046765257200137, 0.8714593976660706 L -0.4738199891812229, 0.8806217223372961 L -0.45700123276132765, 0.8894660607660232 \", \"type\": \"path\"}, {\"fillcolor\": \"#e1b396\", \"layer\": \"below\", \"line\": {\"color\": \"rgb(175,175,175)\", \"width\": 0.5}, \"path\": \"M -0.2748646672523425,0.9614829248074347 Q -0.1421846864571195, 0.14065388347674807 -0.964401802084582, 0.2644412300228743L -0.964401802084582, 0.2644412300228743 L -0.9641727910299881, 0.2652750064318969 L -0.9639430591316971, 0.2661085845135884 M -0.9639430591316971,0.2661085845135884 Q -0.1422391118555667, 0.14059884444240495 -0.27727073530082624, 0.9607918293500102L -0.27727073530082624, 0.9607918293500102 L -0.27606791753365734, 0.9611381299837343 L -0.2748646672523425, 0.9614829248074347 \", \"type\": \"path\"}, {\"fillcolor\": \"#e1b396\", \"layer\": \"below\", \"line\": {\"color\": \"rgb(175,175,175)\", \"width\": 0.5}, \"path\": \"M -0.3014503646065869,0.9534818706606623 Q -0.15462135354601403, 0.12685518131948156 -0.994004282096316, 0.10934115041551133L -0.994004282096316, 0.10934115041551133 L -0.9935228724879761, 0.11363230985613507 L -0.9930229378463341, 0.11792135053091846 M -0.9930229378463341,0.11792135053091846 Q -0.15473751370703637, 0.12671346357733554 -0.31141525597904546, 0.9502739280562766L -0.31141525597904546, 0.9502739280562766 L -0.3064370081238415, 0.9518909391585302 L -0.3014503646065869, 0.9534818706606623 \", \"type\": \"path\"}, {\"fillcolor\": \"#e1b396\", \"layer\": \"below\", \"line\": {\"color\": \"rgb(175,175,175)\", \"width\": 0.5}, \"path\": \"M -0.28709548540977725,0.9579019690225741 Q -0.15842636591809556, 0.12207000688943084 -0.999442212597819, 0.03339556374095268L -0.999442212597819, 0.03339556374095268 L -0.999340660991792, 0.03630762025371947 L -0.9992306245979453, 0.03921936850078057 M -0.9992306245979453,0.03921936850078057 Q -0.15847347894568173, 0.12200883767519702 -0.2934111011824709, 0.9559863627180515L -0.2934111011824709, 0.9559863627180515 L -0.2902548736130443, 0.9569493760611769 L -0.28709548540977725, 0.9579019690225741 \", \"type\": \"path\"}, {\"fillcolor\": \"#e1b396\", \"layer\": \"below\", \"line\": {\"color\": \"rgb(175,175,175)\", \"width\": 0.5}, \"path\": \"M -0.28142256973766583,0.9595839396541861 Q -0.16823243540306151, 0.1081565886959955 -0.9898235552694132, -0.14230013855867768L -0.9898235552694132, -0.14230013855867768 L -0.9901961993018348, -0.13968352403988477 L -0.9905619262839356, -0.1370659337569297 M -0.9905619262839356,-0.1370659337569297 Q -0.1682665495508012, 0.10810350735414542 -0.28709548540977725, 0.9579019690225741L -0.28709548540977725, 0.9579019690225741 L -0.2842602716058985, 0.9587471501843126 L -0.28142256973766583, 0.9595839396541861 \", \"type\": \"path\"}, {\"fillcolor\": \"#e1b396\", \"layer\": \"below\", \"line\": {\"color\": \"rgb(175,175,175)\", \"width\": 0.5}, \"path\": \"M -0.3222079153483719,0.9466689280243946 Q -0.1804419899581274, 0.08625942418049785 -0.9390721577639567, -0.3437200641692982L -0.9390721577639567, -0.3437200641692982 L -0.9412112654591306, -0.3378185219505023 L -0.9433132856822677, -0.3319036683366493 M -0.9433132856822677,-0.3319036683366493 Q -0.18050901386002186, 0.08611907985622258 -0.3355327192865439, 0.9420285527987872L -0.3355327192865439, 0.9420285527987872 L -0.3288785017039636, 0.9443722418183181 L -0.3222079153483719, 0.9466689280243946 \", \"type\": \"path\"}, {\"fillcolor\": \"#e1b396\", \"layer\": \"below\", \"line\": {\"color\": \"rgb(175,175,175)\", \"width\": 0.5}, \"path\": \"M -0.3355327192865439,0.9420285527987872 Q -0.18847860794155857, 0.06690152725022248 -0.8543693799157146, -0.5196662031173832L -0.8543693799157146, -0.5196662031173832 L -0.8582017930962325, -0.5133124607160939 L -0.8619869558887792, -0.5069304566482428 M -0.8619869558887792,-0.5069304566482428 Q -0.188477014667865, 0.06690601573767047 -0.34943050049783353, 0.9369622859655737L -0.34943050049783353, 0.9369622859655737 L -0.34249097780708276, 0.9395211174426833 L -0.3355327192865439, 0.9420285527987872 \", \"type\": \"path\"}, {\"fillcolor\": \"#e1b396\", \"layer\": \"below\", \"line\": {\"color\": \"rgb(175,175,175)\", \"width\": 0.5}, \"path\": \"M -0.3858293118639759,0.9225701827539035 Q -0.19971172278818253, 0.010734420383799813 -0.4824962166903827, -0.8758980539306314L -0.4824962166903827, -0.8758980539306314 L -0.49302051847405653, -0.8700176827878686 L -0.5034731648070262, -0.8640108635423498 M -0.5034731648070262,-0.8640108635423498 Q -0.19970933774959457, 0.010778701944963717 -0.4075546686266389, 0.913180810179797L -0.4075546686266389, 0.913180810179797 L -0.39671976911179624, 0.9179397718782443 L -0.3858293118639759, 0.9225701827539035 \", \"type\": \"path\"}, {\"fillcolor\": \"#e1b396\", \"layer\": \"below\", \"line\": {\"color\": \"rgb(175,175,175)\", \"width\": 0.5}, \"path\": \"M -0.27727073530082624,0.9607918293500102 Q -0.19899425166218832, -0.020032169263603555 -0.0802078905980598, -0.9967781570067683L -0.0802078905980598, -0.9967781570067683 L -0.08168934354697258, -0.996657840560573 L -0.0831706160295114, -0.996535322318919 M -0.0831706160295114,-0.996535322318919 Q -0.1989806713771482, -0.020166616431601916 -0.28142256973766583, 0.9595839396541861L -0.28142256973766583, 0.9595839396541861 L -0.2793473053800371, 0.9601901285562732 L -0.27727073530082624, 0.9607918293500102 \", \"type\": \"path\"}, {\"fillcolor\": \"#e1b396\", \"layer\": \"below\", \"line\": {\"color\": \"rgb(175,175,175)\", \"width\": 0.5}, \"path\": \"M -0.49046765257200137,0.8714593976660706 Q -0.18424306184348133, -0.0778106301384272 0.2826741158809495, -0.9592160049805901L 0.2826741158809495, -0.9592160049805901 L 0.26325701101873344, -0.9647257362325743 L 0.24373266022586593, -0.9698424564532234 M 0.24373266022586593,-0.9698424564532234 Q -0.18429067482118994, -0.07769779388084604 -0.5241950813771037, 0.8515982131616128L -0.5241950813771037, 0.8515982131616128 L -0.5074285492350111, 0.8616938362442033 L -0.49046765257200137, 0.8714593976660706 \", \"type\": \"path\"}, {\"fillcolor\": \"#e1b396\", \"layer\": \"below\", \"line\": {\"color\": \"rgb(175,175,175)\", \"width\": 0.5}, \"path\": \"M -0.4075546686266389,0.913180810179797 Q -0.1605452421681166, -0.11926954857456616 0.7566097261761513, -0.6538667465589983L 0.7566097261761513, -0.6538667465589983 L 0.7480414506154381, -0.663652008330534 L 0.7393466313555331, -0.6733250022858392 M 0.7393466313555331,-0.6733250022858392 Q -0.16054936614853832, -0.11926399720495112 -0.4311062830424525, 0.9023011541172498L -0.4311062830424525, 0.9023011541172498 L -0.4193657588461847, 0.9078173606554149 L -0.4075546686266389, 0.913180810179797 \", \"type\": \"path\"}, {\"fillcolor\": \"#e1b396\", \"layer\": \"below\", \"line\": {\"color\": \"rgb(175,175,175)\", \"width\": 0.5}, \"path\": \"M -0.2934111011824709,0.9559863627180515 Q -0.14834099550529578, -0.13414525355933327 0.9217549148641158, -0.38777297085259405L 0.9217549148641158, -0.38777297085259405 L 0.9203015038927915, -0.3912098438596174 L 0.9188352781836203, -0.39464126946535766 M 0.9188352781836203,-0.39464126946535766 Q -0.14827677270752024, -0.13421623849386624 -0.3014503646065869, 0.9534818706606623L -0.3014503646065869, 0.9534818706606623 L -0.29743336899260814, 0.9547425783999093 L -0.2934111011824709, 0.9559863627180515 \", \"type\": \"path\"}, {\"fillcolor\": \"#e1b396\", \"layer\": \"below\", \"line\": {\"color\": \"rgb(175,175,175)\", \"width\": 0.5}, \"path\": \"M -0.31141525597904546,0.9502739280562766 Q -0.13318684590429875, -0.14920209139976753 0.9793901860628715, -0.201977383495613L 0.9793901860628715, -0.201977383495613 L 0.9783989012487182, -0.2067258813871668 L 0.9773845938495713, -0.21146951483726575 M 0.9773845938495713,-0.21146951483726575 Q -0.13306168242157074, -0.149313725662248 -0.3222079153483719, 0.9466689280243946L -0.3222079153483719, 0.9466689280243946 L -0.31681671328555383, 0.9484867791292292 L -0.31141525597904546, 0.9502739280562766 \", \"type\": \"path\"}, {\"fillcolor\": \"#e1b396\", \"layer\": \"below\", \"line\": {\"color\": \"rgb(175,175,175)\", \"width\": 0.5}, \"path\": \"M -0.2726758375213323,0.9621059648666772 Q -0.12859238197101341, -0.15317963082283814 0.9947927949006725, -0.10191808089690756L 0.9947927949006725, -0.10191808089690756 L 0.9947032619444871, -0.10278823219122485 L 0.9946129678618315, -0.10365830483410081 M 0.9946129678618315,-0.10365830483410081 Q -0.12855206942373698, -0.1532134636605893 -0.2748646672523425, 0.9614829248074347L -0.2748646672523425, 0.9614829248074347 L -0.2737704296243141, 0.9617950674979148 L -0.2726758375213323, 0.9621059648666772 \", \"type\": \"path\"}, {\"fillcolor\": \"#dba284\", \"layer\": \"below\", \"line\": {\"color\": \"rgb(175,175,175)\", \"width\": 0.5}, \"path\": \"M -0.7037627108006964,0.710435110961202 Q -0.1529992046131031, 0.12880700053862687 -0.8199881207007934, 0.5723805394224903L -0.8199881207007934, 0.5723805394224903 L -0.8144495103815506, 0.5802344311045774 L -0.8088356776530888, 0.5880347324397331 M -0.8088356776530888,0.5880347324397331 Q -0.1528822802453277, 0.1289457575377689 -0.716021563132018, 0.6980781626221964L -0.716021563132018, 0.6980781626221964 L -0.7099190233186629, 0.7042833097058852 L -0.7037627108006964, 0.710435110961202 \", \"type\": \"path\"}, {\"fillcolor\": \"#dba284\", \"layer\": \"below\", \"line\": {\"color\": \"rgb(175,175,175)\", \"width\": 0.5}, \"path\": \"M -0.654175151227627,0.7563430911407277 Q -0.1544061015408312, 0.1271170948651775 -0.8679043899392989, 0.4967312854291478L -0.8679043899392989, 0.4967312854291478 L -0.8660023914619074, 0.5000398563937253 L -0.8640877803178151, 0.5033411446578069 M -0.8640877803178151,0.5033411446578069 Q -0.15433288581884774, 0.12720597609714138 -0.6590633058725112, 0.7520874675544041L -0.6590633058725112, 0.7520874675544041 L -0.6566226761883229, 0.7542192394226528 L -0.654175151227627, 0.7563430911407277 \", \"type\": \"path\"}, {\"fillcolor\": \"#dba284\", \"layer\": \"below\", \"line\": {\"color\": \"rgb(175,175,175)\", \"width\": 0.5}, \"path\": \"M -0.6457316429450224,0.7635644342814312 Q -0.1682073107229117, 0.1081956589672887 -0.9625921483633781, 0.27095452738268866L -0.9625921483633781, 0.27095452738268866 L -0.9625708469955627, 0.2710301911489659 L -0.9625495396802591, 0.271105853240614 M -0.9625495396802591,0.271105853240614 Q -0.16820882349370223, 0.10819330708904565 -0.6458730241663158, 0.7634448484692642L -0.6458730241663158, 0.7634448484692642 L -0.6458023363236921, 0.7635046446478639 L -0.6457316429450224, 0.7635644342814312 \", \"type\": \"path\"}, {\"fillcolor\": \"#dba284\", \"layer\": \"below\", \"line\": {\"color\": \"rgb(175,175,175)\", \"width\": 0.5}, \"path\": \"M -0.6706815396331419,0.7417454229014955 Q -0.1776814301398508, 0.09181127045988052 -0.9930229378463341, 0.11792135053091846L -0.9930229378463341, 0.11792135053091846 L -0.9925159549683295, 0.12211502419155879 L -0.991991261704693, 0.1263065188402058 M -0.991991261704693,0.1263065188402058 Q -0.17767612357022644, 0.09182153948316063 -0.6768390225503608, 0.7361310600382736L -0.6768390225503608, 0.7361310600382736 L -0.6737661290421373, 0.7389446551370231 L -0.6706815396331419, 0.7417454229014955 \", \"type\": \"path\"}, {\"fillcolor\": \"#dba284\", \"layer\": \"below\", \"line\": {\"color\": \"rgb(175,175,175)\", \"width\": 0.5}, \"path\": \"M -0.6458730241663158,0.7634448484692642 Q -0.17913383874578778, 0.08894418371202305 -0.9985907793563057, 0.0530702872101332L -0.9985907793563057, 0.0530702872101332 L -0.99857473698976, 0.053371290464366186 L -0.9985586038923975, 0.05367228886926727 M -0.9985586038923975,0.05367228886926727 Q -0.1791317334377113, 0.08894842368249563 -0.6462970349311539, 0.763085933980701L -0.6462970349311539, 0.763085933980701 L -0.6460850544718489, 0.7632654206683989 L -0.6458730241663158, 0.7634448484692642 \", \"type\": \"path\"}, {\"fillcolor\": \"#dba284\", \"layer\": \"below\", \"line\": {\"color\": \"rgb(175,175,175)\", \"width\": 0.5}, \"path\": \"M -0.647567870000603,0.7620077780068142 Q -0.18628514867554072, 0.07278628567890856 -0.9926355396236907, -0.1211391162093588L -0.9926355396236907, -0.1211391162093588 L -0.9927214886627798, -0.12043274449730994 L -0.9928069350390974, -0.11972631180435417 M -0.9928069350390974,-0.11972631180435417 Q -0.1862805283757413, 0.07279810950879594 -0.6485550539931523, 0.7611677488832139L -0.6485550539931523, 0.7611677488832139 L -0.6480615981045031, 0.7615879233957412 L -0.647567870000603, 0.7620077780068142 \", \"type\": \"path\"}, {\"fillcolor\": \"#dba284\", \"layer\": \"below\", \"line\": {\"color\": \"rgb(175,175,175)\", \"width\": 0.5}, \"path\": \"M -0.6485550539931523,0.7611677488832139 Q -0.1964038922523071, 0.03775594136217711 -0.8845476252579979, -0.46644988868091347L -0.8845476252579979, -0.46644988868091347 L -0.8852919626939333, -0.4650356338922034 L -0.8860340389571296, -0.46362019133048527 M -0.8860340389571296,-0.46362019133048527 Q -0.19639248272632842, 0.037815244658587016 -0.6505261512514778, 0.7594838553504212L -0.6505261512514778, 0.7594838553504212 L -0.6495411482957162, 0.7603264408598996 L -0.6485550539931523, 0.7611677488832139 \", \"type\": \"path\"}, {\"fillcolor\": \"#dba284\", \"layer\": \"below\", \"line\": {\"color\": \"rgb(175,175,175)\", \"width\": 0.5}, \"path\": \"M -0.6467208462456644,0.7627267840002026 Q -0.1999202080709771, -0.005648929531976247 -0.6026202810291135, -0.7980280677347084L -0.6026202810291135, -0.7980280677347084 L -0.6031751835875335, -0.7976087373544407 L -0.6037297943570522, -0.7971890211271048 M -0.6037297943570522,-0.7971890211271048 Q -0.1999209969777157, -0.005620940084735494 -0.647567870000603, 0.7620077780068142L -0.647567870000603, 0.7620077780068142 L -0.6471444579790571, 0.7623673986386041 L -0.6467208462456644, 0.7627267840002026 \", \"type\": \"path\"}, {\"fillcolor\": \"#dba284\", \"layer\": \"below\", \"line\": {\"color\": \"rgb(175,175,175)\", \"width\": 0.5}, \"path\": \"M -0.6646158581793307,0.7471852254003366 Q -0.18579928604686963, -0.07401773641819591 0.03122430023537486, -0.9995124026618235L 0.03122430023537486, -0.9995124026618235 L 0.026063068936864782, -0.999660300520928 L 0.020901142792184836, -0.9997815472541893 M 0.020901142792184836,-0.9997815472541893 Q -0.18587982009616943, -0.07381525913397373 -0.6706815396331419, 0.7417454229014955L -0.6706815396331419, 0.7417454229014955 L -0.667654239119319, 0.7444715017957392 L -0.6646158581793307, 0.7471852254003366 \", \"type\": \"path\"}, {\"fillcolor\": \"#dba284\", \"layer\": \"below\", \"line\": {\"color\": \"rgb(175,175,175)\", \"width\": 0.5}, \"path\": \"M -0.6505261512514778,0.7594838553504212 Q -0.15196143434515214, -0.13002969842218362 0.6497706722797192, -0.7601303003072314L 0.6497706722797192, -0.7601303003072314 L 0.6475129699942282, -0.7620544296106766 L 0.6452495699227698, -0.763971853221361 M 0.6452495699227698,-0.763971853221361 Q -0.15203411446291684, -0.12994471147175135 -0.654175151227627, 0.7563430911407277L -0.654175151227627, 0.7563430911407277 L -0.6523525414012146, 0.7579156692715732 L -0.6505261512514778, 0.7594838553504212 \", \"type\": \"path\"}, {\"fillcolor\": \"#dba284\", \"layer\": \"below\", \"line\": {\"color\": \"rgb(175,175,175)\", \"width\": 0.5}, \"path\": \"M -0.6590633058725112,0.7520874675544041 Q -0.10221237550685275, -0.17190878480533256 0.9755435685407564, -0.21980615523403002L 0.9755435685407564, -0.21980615523403002 L 0.9746832243687823, -0.22359027736928538 L 0.9738082016892589, -0.22737103228584712 M 0.9738082016892589,-0.22737103228584712 Q -0.10224283860889537, -0.17189066860418975 -0.6646158581793307, 0.7471852254003366L -0.6646158581793307, 0.7471852254003366 L -0.6618441208704509, 0.7496414874253026 L -0.6590633058725112, 0.7520874675544041 \", \"type\": \"path\"}, {\"fillcolor\": \"#dba284\", \"layer\": \"below\", \"line\": {\"color\": \"rgb(175,175,175)\", \"width\": 0.5}, \"path\": \"M -0.6462970349311539,0.763085933980701 Q -0.0937206784226305, -0.17668173203815352 0.9942441816570647, -0.1071377955768819L 0.9942441816570647, -0.1071377955768819 L 0.994216031935097, -0.1073987050351642 L 0.9941878137452966, -0.10765960709731093 M 0.9941878137452966,-0.10765960709731093 Q -0.09371796857119474, -0.17668316944997495 -0.6467208462456644, 0.7627267840002026L -0.6467208462456644, 0.7627267840002026 L -0.646508965527876, 0.7629063884200182 L -0.6462970349311539, 0.763085933980701 \", \"type\": \"path\"}, {\"fillcolor\": \"#d59171\", \"layer\": \"below\", \"line\": {\"color\": \"rgb(175,175,175)\", \"width\": 0.5}, \"path\": \"M -0.7465046780885111,0.6653801662147502 Q -0.16281481377273463, 0.1161522122740232 -0.8720976145100046, 0.48933194333290725L -0.8720976145100046, 0.48933194333290725 L -0.87000886859719, 0.4930360722728485 L -0.8679043899392989, 0.4967312854291478 M -0.8679043899392989,0.4967312854291478 Q -0.16278400967462453, 0.11619537940147084 -0.75178703863875, 0.6594059815733996L -0.75178703863875, 0.6594059815733996 L -0.7491518136024987, 0.6623983395028153 L -0.7465046780885111, 0.6653801662147502 \", \"type\": \"path\"}, {\"fillcolor\": \"#d59171\", \"layer\": \"below\", \"line\": {\"color\": \"rgb(175,175,175)\", \"width\": 0.5}, \"path\": \"M -0.771265005948768,0.6365141715616761 Q -0.18468759779789268, 0.07674953563145406 -0.9952279880262793, 0.09757690223185023L -0.9952279880262793, 0.09757690223185023 L -0.9946335282445014, 0.10346083554608879 L -0.994004282096316, 0.10934115041551133 M -0.994004282096316,0.10934115041551133 Q -0.18472803015374567, 0.07665216810708508 -0.7794004098666324, 0.6265261376029937L -0.7794004098666324, 0.6265261376029937 L -0.7753487912914272, 0.6315332547403366 L -0.771265005948768, 0.6365141715616761 \", \"type\": \"path\"}, {\"fillcolor\": \"#d59171\", \"layer\": \"below\", \"line\": {\"color\": \"rgb(175,175,175)\", \"width\": 0.5}, \"path\": \"M -0.7389745910387434,0.6737332957477477 Q -0.18461735138939278, 0.0769183564954782 -0.9987361326067167, 0.05026069464083054L -0.9987361326067167, 0.05026069464083054 L -0.9987056509098072, 0.05086278443831211 L -0.9986748062420596, 0.05146485575015887 M -0.9986748062420596,0.05146485575015887 Q -0.18461816450965005, 0.07691640483725043 -0.7398006141431691, 0.6728261672329562L -0.7398006141431691, 0.6728261672329562 L -0.7393877417064322, 0.6732798581676586 L -0.7389745910387434, 0.6737332957477477 \", \"type\": \"path\"}, {\"fillcolor\": \"#d59171\", \"layer\": \"below\", \"line\": {\"color\": \"rgb(175,175,175)\", \"width\": 0.5}, \"path\": \"M -0.7432303769047874,0.6690355796562449 Q -0.19120239016611346, 0.05866554350524104 -0.9905619262839356, -0.1370659337569297L -0.9905619262839356, -0.1370659337569297 L -0.9908933788172497, -0.13464884632307264 L -0.9912189333822988, -0.1322309574360628 M -0.9912189333822988,-0.1322309574360628 Q -0.19120321269358073, 0.05866286266159652 -0.7465046780885111, 0.6653801662147502L -0.7465046780885111, 0.6653801662147502 L -0.7448697698462655, 0.6672098814984468 L -0.7432303769047874, 0.6690355796562449 \", \"type\": \"path\"}, {\"fillcolor\": \"#d59171\", \"layer\": \"below\", \"line\": {\"color\": \"rgb(175,175,175)\", \"width\": 0.5}, \"path\": \"M -0.7398006141431691,0.6728261672329562 Q -0.19530685390059122, 0.04307241367108564 -0.9541775385612722, -0.2992410815799726L -0.9541775385612722, -0.2992410815799726 L -0.9544196019137755, -0.2984681280853123 L -0.954661039117608, -0.2976949787801078 M -0.954661039117608,-0.2976949787801078 Q -0.19530719586422074, 0.043070863047481645 -0.7409002458863956, 0.6716150874165042L -0.7409002458863956, 0.6716150874165042 L -0.7403506776532683, 0.6722208521746007 L -0.7398006141431691, 0.6728261672329562 \", \"type\": \"path\"}, {\"fillcolor\": \"#d59171\", \"layer\": \"below\", \"line\": {\"color\": \"rgb(175,175,175)\", \"width\": 0.5}, \"path\": \"M -0.7409002458863956,0.6716150874165042 Q -0.19851856108238242, 0.024297755159281714 -0.8810082067779439, -0.47310098244445825L -0.8810082067779439, -0.47310098244445825 L -0.8819246649968596, -0.47139037460493066 L -0.8828378018214771, -0.46967799147396977 M -0.8828378018214771,-0.46967799147396977 Q -0.1985136347695613, 0.02433797055173725 -0.7432303769047874, 0.6690355796562449L -0.7432303769047874, 0.6690355796562449 L -0.7420664322294246, 0.6703263460123678 L -0.7409002458863956, 0.6716150874165042 \", \"type\": \"path\"}, {\"fillcolor\": \"#d59171\", \"layer\": \"below\", \"line\": {\"color\": \"rgb(175,175,175)\", \"width\": 0.5}, \"path\": \"M -0.7576892114735596,0.6526155520799175 Q -0.1982234572294331, -0.02659813910804873 -0.558845733957394, -0.8292716356162325L -0.558845733957394, -0.8292716356162325 L -0.563451291485291, -0.8261492856158369 L -0.5680394044317978, -0.8230013578438182 M -0.5680394044317978,-0.8230013578438182 Q -0.19824088256665384, -0.02646795192670114 -0.76405798067081, 0.6451475816999116L -0.76405798067081, 0.6451475816999116 L -0.7608827582783155, 0.6488893805224296 L -0.7576892114735596, 0.6526155520799175 \", \"type\": \"path\"}, {\"fillcolor\": \"#d59171\", \"layer\": \"below\", \"line\": {\"color\": \"rgb(175,175,175)\", \"width\": 0.5}, \"path\": \"M -0.7794004098666324,0.6265261376029937 Q -0.17712066575056032, -0.09288848025497183 0.07223854700569556, -0.9973873832801906L 0.07223854700569556, -0.9973873832801906 L 0.06416034131076652, -0.9979396026828908 L 0.056077929112858624, -0.9984263948165699 M 0.056077929112858624,-0.9984263948165699 Q -0.17721741588352224, -0.09270376210039544 -0.7881621640662003, 0.6154676296398406L -0.7881621640662003, 0.6154676296398406 L -0.7838007900278774, 0.6210123360704483 L -0.7794004098666324, 0.6265261376029937 \", \"type\": \"path\"}, {\"fillcolor\": \"#d59171\", \"layer\": \"below\", \"line\": {\"color\": \"rgb(175,175,175)\", \"width\": 0.5}, \"path\": \"M -0.76405798067081,0.6451475816999116 Q -0.13740383530882308, -0.14532785707642504 0.6869292136099705, -0.7267243325286333L 0.6869292136099705, -0.7267243325286333 L 0.682355475671103, -0.7310205228457426 L 0.6777548690778656, -0.7352879282575263 M 0.6777548690778656,-0.7352879282575263 Q -0.13749855078385328, -0.14523824748440103 -0.771265005948768, 0.6365141715616761L -0.771265005948768, 0.6365141715616761 L -0.7676736300364035, 0.6408410081656222 L -0.76405798067081, 0.6451475816999116 \", \"type\": \"path\"}, {\"fillcolor\": \"#d59171\", \"layer\": \"below\", \"line\": {\"color\": \"rgb(175,175,175)\", \"width\": 0.5}, \"path\": \"M -0.7375954146976054,0.6752429223746573 Q -0.11058833389699348, -0.1666439930087103 0.9087625385130856, -0.41731360940574713L 0.9087625385130856, -0.41731360940574713 L 0.9085519865739552, -0.4177718129463973 L 0.9083412036058599, -0.4182299102549431 M 0.9083412036058599,-0.4182299102549431 Q -0.1105871791985045, -0.16664475928428668 -0.7382853887238988, 0.6744884615742522L -0.7382853887238988, 0.6744884615742522 L -0.7379404981296261, 0.6748657801520234 L -0.7375954146976054, 0.6752429223746573 \", \"type\": \"path\"}, {\"fillcolor\": \"#d59171\", \"layer\": \"below\", \"line\": {\"color\": \"rgb(175,175,175)\", \"width\": 0.5}, \"path\": \"M -0.75178703863875,0.6594059815733996 Q -0.08996212465063401, -0.17862479147179933 0.9773845938495713, -0.21146951483726575L 0.9773845938495713, -0.21146951483726575 L 0.9764729779966221, -0.21563979976434827 L 0.9755435685407564, -0.21980615523403002 M 0.9755435685407564,-0.21980615523403002 Q -0.0899210851961733, -0.17864545456613934 -0.7576892114735596, 0.6526155520799175L -0.7576892114735596, 0.6526155520799175 L -0.7547457617611752, 0.6560174045736464 L -0.75178703863875, 0.6594059815733996 \", \"type\": \"path\"}, {\"fillcolor\": \"#d0805f\", \"layer\": \"below\", \"line\": {\"color\": \"rgb(175,175,175)\", \"width\": 0.5}, \"path\": \"M -0.8720976145100046,0.48933194333290725 Q -0.18602001211174402, 0.07346124892721753 -0.9711239439986984, 0.23857553393508932L -0.9711239439986984, 0.23857553393508932 L -0.9703880054683028, 0.2415514828007664 L -0.9696429473506232, 0.2445251615952775 M -0.9696429473506232,0.2445251615952775 Q -0.18610706987755057, 0.07324041603918229 -0.8762277572988206, 0.4818972061955528L -0.8762277572988206, 0.4818972061955528 L -0.8741705899060505, 0.48561896559268336 L -0.8720976145100046, 0.48933194333290725 \", \"type\": \"path\"}, {\"fillcolor\": \"#d0805f\", \"layer\": \"below\", \"line\": {\"color\": \"rgb(175,175,175)\", \"width\": 0.5}, \"path\": \"M -0.8762277572988206,0.4818972061955528 Q -0.18994208167617668, 0.06262591802537208 -0.9910147736351109, 0.13375245207826947L -0.9910147736351109, 0.13375245207826947 L -0.9905184681396543, 0.13737963558793073 L -0.9900088869437196, 0.14100497782864754 M -0.9900088869437196,0.14100497782864754 Q -0.1899790905656749, 0.06251355971178646 -0.8802945195584942, 0.47442761179686815L -0.8802945195584942, 0.47442761179686815 L -0.8782690794876712, 0.4781667324436934 L -0.8762277572988206, 0.4818972061955528 \", \"type\": \"path\"}, {\"fillcolor\": \"#d0805f\", \"layer\": \"below\", \"line\": {\"color\": \"rgb(175,175,175)\", \"width\": 0.5}, \"path\": \"M -0.8542698410756834,0.5198298169867968 Q -0.19135164204922298, 0.05817687758092593 -0.9990474721233322, 0.0436365494050536L -0.9990474721233322, 0.0436365494050536 L -0.9989714788894076, 0.04534296379274135 L -0.9988925710312878, 0.04704924588666327 M -0.9988925710312878,0.04704924588666327 Q -0.19136010665876632, 0.05814902905075531 -0.8561911193507894, 0.5166592369684706L -0.8561911193507894, 0.5166592369684706 L -0.8552319494909999, 0.518245417316761 L -0.8542698410756834, 0.5198298169867968 \", \"type\": \"path\"}, {\"fillcolor\": \"#d0805f\", \"layer\": \"below\", \"line\": {\"color\": \"rgb(175,175,175)\", \"width\": 0.5}, \"path\": \"M -0.8561911193507894,0.5166592369684706 Q -0.19580557671664067, 0.04074525894706958 -0.9912189333822988, -0.1322309574360628L -0.9912189333822988, -0.1322309574360628 L -0.9914592275974096, -0.13041702347449907 L -0.9916962023101342, -0.1286026528639955 M -0.9916962023101342,-0.1286026528639955 Q -0.1958109898319071, 0.04071923699001225 -0.8582125873802361, 0.5132944134335777L -0.8582125873802361, 0.5132944134335777 L -0.8572035043807421, 0.5149778170730998 L -0.8561911193507894, 0.5166592369684706 \", \"type\": \"path\"}, {\"fillcolor\": \"#d0805f\", \"layer\": \"below\", \"line\": {\"color\": \"rgb(175,175,175)\", \"width\": 0.5}, \"path\": \"M -0.8514231106259884,0.5244794435361274 Q -0.1985140041307125, 0.02433495765337333 -0.952896439522714, -0.3032958548100099L -0.952896439522714, -0.3032958548100099 L -0.9532642270684762, -0.30213790459248985 L -0.9536306074852936, -0.30097950838425824 M -0.9536306074852936,-0.30097950838425824 Q -0.1985162784689333, 0.024316397406789814 -0.8527927047532105, 0.5222495598080515L -0.8527927047532105, 0.5222495598080515 L -0.8521086371129605, 0.5233649496837681 L -0.8514231106259884, 0.5244794435361274 \", \"type\": \"path\"}, {\"fillcolor\": \"#d0805f\", \"layer\": \"below\", \"line\": {\"color\": \"rgb(175,175,175)\", \"width\": 0.5}, \"path\": \"M -0.889734685517931,0.45647802727656944 Q -0.19980260400344202, -0.00888366103831864 -0.845711880968893, -0.5336397796154788L -0.845711880968893, -0.5336397796154788 L -0.8500693434142808, -0.5266707808367705 L -0.8543693799157146, -0.5196662031173832 M -0.8543693799157146,-0.5196662031173832 Q -0.1998058637884805, -0.008810039485676784 -0.8967920664272567, 0.44245224555100954L -0.8967920664272567, 0.44245224555100954 L -0.8932909041808322, 0.4494789878379091 L -0.889734685517931, 0.45647802727656944 \", \"type\": \"path\"}, {\"fillcolor\": \"#d0805f\", \"layer\": \"below\", \"line\": {\"color\": \"rgb(175,175,175)\", \"width\": 0.5}, \"path\": \"M -0.8967920664272567,0.44245224555100954 Q -0.19150949253824176, -0.05765513218912202 -0.5034731648070262, -0.8640108635423498L -0.5034731648070262, -0.8640108635423498 L -0.512957343307585, -0.858414098175714 L -0.5223793137145508, -0.852713229991839 M -0.5223793137145508,-0.852713229991839 Q -0.1915471527783653, -0.05752989016590935 -0.9057653098628826, 0.4237796637982953L -0.9057653098628826, 0.4237796637982953 L -0.9013270438813126, 0.43313919237142984 L -0.8967920664272567, 0.44245224555100954 \", \"type\": \"path\"}, {\"fillcolor\": \"#d0805f\", \"layer\": \"below\", \"line\": {\"color\": \"rgb(175,175,175)\", \"width\": 0.5}, \"path\": \"M -0.8527927047532105,0.5222495598080515 Q -0.17850111132005894, -0.09020727940418075 -0.08535320805348041, -0.9963507564482396L -0.08535320805348041, -0.9963507564482396 L -0.08636641578542736, -0.9962634401725171 L -0.0873795341960154, -0.9961750935471572 M -0.0873795341960154,-0.9961750935471572 Q -0.17846496672211729, -0.09027876634554538 -0.8542698410756834, 0.5198298169867968L -0.8542698410756834, 0.5198298169867968 L -0.8535321304038802, 0.5210402118533787 L -0.8527927047532105, 0.5222495598080515 \", \"type\": \"path\"}, {\"fillcolor\": \"#d0805f\", \"layer\": \"below\", \"line\": {\"color\": \"rgb(175,175,175)\", \"width\": 0.5}, \"path\": \"M -0.916892330426766,0.3991346319283434 Q -0.15727208360092376, -0.12355359857092003 0.17073814978727284, -0.9853164386161528L 0.17073814978727284, -0.9853164386161528 L 0.1549919527478529, -0.9879157325315795 L 0.1392062794052998, -0.9902634052483883 M 0.1392062794052998,-0.9902634052483883 Q -0.15741164245737352, -0.12337574647746617 -0.9283249923852434, 0.37176969821777833L -0.9283249923852434, 0.37176969821777833 L -0.9227101126576134, 0.38549454989581156 L -0.916892330426766, 0.3991346319283434 \", \"type\": \"path\"}, {\"fillcolor\": \"#d0805f\", \"layer\": \"below\", \"line\": {\"color\": \"rgb(175,175,175)\", \"width\": 0.5}, \"path\": \"M -0.8848062035666177,0.46595920650849804 Q -0.12287062554739014, -0.1578062399830661 0.668643466959573, -0.7435831588277685L 0.668643466959573, -0.7435831588277685 L 0.6644760279179887, -0.7473095799749475 L 0.6602878215002876, -0.7510126448858263 M 0.6602878215002876,-0.7510126448858263 Q -0.12290970615727324, -0.1577758033804067 -0.889734685517931, 0.45647802727656944L -0.889734685517931, 0.45647802727656944 L -0.8872831086796096, 0.46122519993149563 L -0.8848062035666177, 0.46595920650849804 \", \"type\": \"path\"}, {\"fillcolor\": \"#d0805f\", \"layer\": \"below\", \"line\": {\"color\": \"rgb(175,175,175)\", \"width\": 0.5}, \"path\": \"M -0.8611091320750646,0.5084201635035034 Q -0.09167564322734154, -0.17775144567303297 0.9135003205806795, -0.4068380074415317L 0.9135003205806795, -0.4068380074415317 L 0.9123891039634097, -0.4093239828898942 L 0.9112711220937962, -0.41180692325155677 M 0.9112711220937962,-0.41180692325155677 Q -0.09163636035654132, -0.17777170039296497 -0.8640877803178151, 0.5033411446578069L -0.8640877803178151, 0.5033411446578069 L -0.8626021943750144, 0.5058828463779039 L -0.8611091320750646, 0.5084201635035034 \", \"type\": \"path\"}, {\"fillcolor\": \"#d0805f\", \"layer\": \"below\", \"line\": {\"color\": \"rgb(175,175,175)\", \"width\": 0.5}, \"path\": \"M -0.8582125873802361,0.5132944134335777 Q -0.07559234727165559, -0.1851642434001809 0.9722416316017415, -0.23397907979215468L 0.9722416316017415, -0.23397907979215468 L 0.9716483382651427, -0.23643076522861153 L 0.9710488625648571, -0.23888094631321527 M 0.9710488625648571,-0.23888094631321527 Q -0.07553447511391526, -0.18518785886030792 -0.8611091320750646, 0.5084201635035034L -0.8611091320750646, 0.5084201635035034 L -0.8596643143261082, 0.5108593413790357 L -0.8582125873802361, 0.5132944134335777 \", \"type\": \"path\"}, {\"fillcolor\": \"#d0805f\", \"layer\": \"below\", \"line\": {\"color\": \"rgb(175,175,175)\", \"width\": 0.5}, \"path\": \"M -0.8503920881259699,0.5261495000974082 Q -0.06461095366146753, -0.18927605412982304 0.9946129678618315, -0.10365830483410081L 0.9946129678618315, -0.10365830483410081 L 0.9945310524814012, -0.1044413024154546 L 0.9944485206952571, -0.10522423526457564 M 0.9944485206952571,-0.10522423526457564 Q -0.06457422016723245, -0.189288589433684 -0.8514231106259884, 0.5244794435361274L -0.8514231106259884, 0.5244794435361274 L -0.8509080090985284, 0.5253147247621932 L -0.8503920881259699, 0.5261495000974082 \", \"type\": \"path\"}, {\"fillcolor\": \"#ca6f4c\", \"layer\": \"below\", \"line\": {\"color\": \"rgb(175,175,175)\", \"width\": 0.5}, \"path\": \"M -0.9632284231642981,0.2686838380111833 Q -0.19482135831142405, 0.045217677358437236 -0.9831024926846959, 0.18305597197889406L -0.9831024926846959, 0.18305597197889406 L -0.9829647457922, 0.18379420156706697 L -0.9828264445497261, 0.18453232750318876 M -0.9828264445497261,0.18453232750318876 Q -0.19481583440479855, 0.0452414706343872 -0.9635655797787825, 0.26747219194820715L -0.9635655797787825, 0.26747219194820715 L -0.963397191954544, 0.26807806798412187 L -0.9632284231642981, 0.2686838380111833 \", \"type\": \"path\"}, {\"fillcolor\": \"#ca6f4c\", \"layer\": \"below\", \"line\": {\"color\": \"rgb(175,175,175)\", \"width\": 0.5}, \"path\": \"M -0.9628048349007395,0.27019779771818947 Q -0.19734750313695437, 0.03246479640487195 -0.9986225918911248, 0.05246826626306719L -0.9986225918911248, 0.05246826626306719 L -0.9986067309905771, 0.05276927913391712 L -0.9985907793563057, 0.0530702872101332 M -0.9985907793563057,0.0530702872101332 Q -0.19734537252466294, 0.03247774535127109 -0.9629321612827327, 0.26974367975425345L -0.9629321612827327, 0.26974367975425345 L -0.9628685248637101, 0.2699707462425937 L -0.9628048349007395, 0.27019779771818947 \", \"type\": \"path\"}, {\"fillcolor\": \"#ca6f4c\", \"layer\": \"below\", \"line\": {\"color\": \"rgb(175,175,175)\", \"width\": 0.5}, \"path\": \"M -0.9669334659502762,0.25502876783881884 Q -0.19986324982786233, -0.007394685134979768 -0.9454441238854187, -0.3257842976733735L -0.9454441238854187, -0.3257842976733735 L -0.9464292946218398, -0.3229111182378314 L -0.947405733865218, -0.32003495971425977 M -0.947405733865218,-0.32003495971425977 Q -0.19986822646616895, -0.00725892893395496 -0.9681255004469088, 0.250465597207326L -0.9681255004469088, 0.250465597207326 L -0.9675321733617381, 0.2527478852728774 L -0.9669334659502762, 0.25502876783881884 \", \"type\": \"path\"}, {\"fillcolor\": \"#ca6f4c\", \"layer\": \"below\", \"line\": {\"color\": \"rgb(175,175,175)\", \"width\": 0.5}, \"path\": \"M -0.964401802084582,0.2644412300228743 Q -0.1986870641124138, -0.022879041815372682 -0.8790565233308993, -0.476717556619632L -0.8790565233308993, -0.476717556619632 L -0.8800342228831046, -0.4749102721088796 L -0.8810082067779439, -0.47310098244445825 M -0.8810082067779439,-0.47310098244445825 Q -0.1987016637850247, -0.022751896823408002 -0.9651462507599973, 0.26171112823859916L -0.9651462507599973, 0.26171112823859916 L -0.9647749921214868, 0.2630764424591929 L -0.964401802084582, 0.2644412300228743 \", \"type\": \"path\"}, {\"fillcolor\": \"#ca6f4c\", \"layer\": \"below\", \"line\": {\"color\": \"rgb(175,175,175)\", \"width\": 0.5}, \"path\": \"M -0.9651462507599973,0.26171112823859916 Q -0.1889467014073224, -0.06556785818746987 -0.5955663731042872, -0.8033061030686901L -0.5955663731042872, -0.8033061030686901 L -0.5974271687299966, -0.8019231746640448 L -0.599284753154007, -0.8005359358811701 M -0.599284753154007,-0.8005359358811701 Q -0.1889955830732171, -0.06542682614046551 -0.9659643513344732, 0.25867522484956007L -0.9659643513344732, 0.25867522484956007 L -0.9655564942341612, 0.2601934980783267 L -0.9651462507599973, 0.26171112823859916 \", \"type\": \"path\"}, {\"fillcolor\": \"#ca6f4c\", \"layer\": \"below\", \"line\": {\"color\": \"rgb(175,175,175)\", \"width\": 0.5}, \"path\": \"M -0.9659643513344732,0.25867522484956007 Q -0.16303215219646486, -0.11584695658578487 -0.07350019870025838, -0.9972952024305655L -0.07350019870025838, -0.9972952024305655 L -0.07537246038645645, -0.9971554503763653 L -0.07724445639268569, -0.9970121834544443 M -0.07724445639268569,-0.9970121834544443 Q -0.1630311036956999, -0.11584843213337828 -0.9669334659502762, 0.25502876783881884L -0.9669334659502762, 0.25502876783881884 L -0.966450628422487, 0.25685245340813867 L -0.9659643513344732, 0.25867522484956007 \", \"type\": \"path\"}, {\"fillcolor\": \"#ca6f4c\", \"layer\": \"below\", \"line\": {\"color\": \"rgb(175,175,175)\", \"width\": 0.5}, \"path\": \"M -0.9732227950140796,0.22986385375909552 Q -0.14983193019773375, -0.13247789511168062 0.10893251075410536, -0.9940491477290279L 0.10893251075410536, -0.9940491477290279 L 0.09924549159980971, -0.9950629791109264 L 0.08954905740343691, -0.9959824126550408 M 0.08954905740343691,-0.9959824126550408 Q -0.1502571701796382, -0.13199538934980742 -0.9761392240671011, 0.21714560837759977L -0.9761392240671011, 0.21714560837759977 L -0.9747017537690492, 0.22350948794075795 L -0.9732227950140796, 0.22986385375909552 \", \"type\": \"path\"}, {\"fillcolor\": \"#ca6f4c\", \"layer\": \"below\", \"line\": {\"color\": \"rgb(175,175,175)\", \"width\": 0.5}, \"path\": \"M -0.9626772943571252,0.2706518555806424 Q -0.10858663775345452, -0.1679551788466198 0.6419313157430648, -0.7667621442588162L 0.6419313157430648, -0.7667621442588162 L 0.6416688335958481, -0.7669818172497597 L 0.6414062762751388, -0.7672014003864046 M 0.6414062762751388,-0.7672014003864046 Q -0.10860451784869117, -0.16794361763060042 -0.9628048349007395, 0.27019779771818947L -0.9628048349007395, 0.27019779771818947 L -0.962741091397363, 0.27042483416841423 L -0.9626772943571252, 0.2706518555806424 \", \"type\": \"path\"}, {\"fillcolor\": \"#ca6f4c\", \"layer\": \"below\", \"line\": {\"color\": \"rgb(175,175,175)\", \"width\": 0.5}, \"path\": \"M -0.9629321612827327,0.26974367975425345 Q -0.06852115008140595, -0.1878958541094546 0.9105220464654782, -0.41346052157408875L 0.9105220464654782, -0.41346052157408875 L 0.9102299287860569, -0.4141032199127771 L 0.9099373574535973, -0.41474571186495035 M 0.9099373574535973,-0.41474571186495035 Q -0.06855041118246315, -0.18788518070011598 -0.9632284231642981, 0.2686838380111833L -0.9632284231642981, 0.2686838380111833 L -0.9630804380141162, 0.26921379963615916 L -0.9629321612827327, 0.26974367975425345 \", \"type\": \"path\"}, {\"fillcolor\": \"#ca6f4c\", \"layer\": \"below\", \"line\": {\"color\": \"rgb(175,175,175)\", \"width\": 0.5}, \"path\": \"M -0.9625069072077136,0.271257172398154 Q -0.05265137471149444, -0.19294515474867413 0.9668781435159515, -0.2552384289074572L 0.9668781435159515, -0.2552384289074572 L 0.9668533764052472, -0.25533223167820696 L 0.9668286001941614, -0.25542603204567543 M 0.9668286001941614,-0.25542603204567543 Q -0.05265492727010601, -0.19294418528211688 -0.9625495396802591, 0.271105853240614L -0.9625495396802591, 0.271105853240614 L -0.9625282264175988, 0.2711815136571657 L -0.9625069072077136, 0.271257172398154 \", \"type\": \"path\"}, {\"fillcolor\": \"#ca6f4c\", \"layer\": \"below\", \"line\": {\"color\": \"rgb(175,175,175)\", \"width\": 0.5}, \"path\": \"M -0.9625921483633781,0.27095452738268866 Q -0.03804454666204817, -0.19634819191751995 0.9941311719699758, -0.10818138896132888L 0.9941311719699758, -0.10818138896132888 L 0.9941122305223296, -0.1083553096341787 L 0.9940932586477125, -0.10852922699057731 M 0.9940932586477125,-0.10852922699057731 Q -0.03804802967200653, -0.1963475170153117 -0.9626772943571252, 0.2706518555806424L -0.9626772943571252, 0.2706518555806424 L -0.9626347332560177, 0.27080319482811804 L -0.9625921483633781, 0.27095452738268866 \", \"type\": \"path\"}, {\"fillcolor\": \"#c45e3a\", \"layer\": \"below\", \"line\": {\"color\": \"rgb(175,175,175)\", \"width\": 0.5}, \"path\": \"M -0.982617953450508,0.18563932114919912 Q -0.1998887605608003, 0.006669587803385029 -0.9928069350390974, -0.11972631180435417L -0.9928069350390974, -0.11972631180435417 L -0.9928797746788913, -0.11912074980285366 L -0.9929522449565362, -0.11851514348712928 M -0.9929522449565362,-0.11851514348712928 Q -0.19988844888038707, 0.00667892238260691 -0.9828264445497261, 0.18453232750318876L -0.9828264445497261, 0.18453232750318876 L -0.9827223548726053, 0.18508585368320654 L -0.982617953450508, 0.18563932114919912 \", \"type\": \"path\"}, {\"fillcolor\": \"#c45e3a\", \"layer\": \"below\", \"line\": {\"color\": \"rgb(175,175,175)\", \"width\": 0.5}, \"path\": \"M -0.9838165659991193,0.17917858260880568 Q -0.1993748863942748, -0.015800464400454392 -0.9433132856822677, -0.3319036683366493L -0.9433132856822677, -0.3319036683366493 L -0.9443836612963705, -0.32884570892207504 L -0.9454441238854187, -0.3257842976733735 M -0.9454441238854187,-0.3257842976733735 Q -0.1993786097164065, -0.015753411933700515 -0.9848752680872008, 0.1732648444150295L -0.9848752680872008, 0.1732648444150295 L -0.984350358091262, 0.17622250856688024 L -0.9838165659991193, 0.17917858260880568 \", \"type\": \"path\"}, {\"fillcolor\": \"#c45e3a\", \"layer\": \"below\", \"line\": {\"color\": \"rgb(175,175,175)\", \"width\": 0.5}, \"path\": \"M -0.9848752680872008,0.1732648444150295 Q -0.19716485739480305, -0.03355620670586868 -0.8721089367849697, -0.48931176399080134L -0.8721089367849697, -0.48931176399080134 L -0.8738905531440039, -0.4861227222889987 L -0.8756605081818081, -0.48292719369567255 M -0.8756605081818081,-0.48292719369567255 Q -0.19718659660606763, -0.033428223388567345 -0.9858984229249571, 0.16734485254731457L -0.9858984229249571, 0.16734485254731457 L -0.9853912912505111, 0.17030561684116724 L -0.9848752680872008, 0.1732648444150295 \", \"type\": \"path\"}, {\"fillcolor\": \"#c45e3a\", \"layer\": \"below\", \"line\": {\"color\": \"rgb(175,175,175)\", \"width\": 0.5}, \"path\": \"M -0.988949924947473,0.14824994416993034 Q -0.18350871541875916, -0.07952704801108154 -0.5680394044317978, -0.8230013578438182L -0.5680394044317978, -0.8230013578438182 L -0.5717543031898145, -0.8204249001486544 L -0.5754575160863065, -0.817831674111353 M -0.5754575160863065,-0.817831674111353 Q -0.18357703516832594, -0.0793692141753163 -0.9900088869437196, 0.14100497782864754L -0.9900088869437196, 0.14100497782864754 L -0.9894860368771112, 0.1446284302107582 L -0.988949924947473, 0.14824994416993034 \", \"type\": \"path\"}, {\"fillcolor\": \"#c45e3a\", \"layer\": \"below\", \"line\": {\"color\": \"rgb(175,175,175)\", \"width\": 0.5}, \"path\": \"M -0.982513240316553,0.18619272972559228 Q -0.15961773823285608, -0.12050799824670332 -0.09002879858533276, -0.9959391625120891L -0.09002879858533276, -0.9959391625120891 L -0.09026252690413511, -0.995918006784133 L -0.09049625025159502, -0.9958967962045067 M -0.09049625025159502,-0.9958967962045067 Q -0.15961208258770598, -0.12051548901288717 -0.982617953450508, 0.18563932114919912L -0.982617953450508, 0.18563932114919912 L -0.9825656358454389, 0.18591603280956806 L -0.982513240316553, 0.18619272972559228 \", \"type\": \"path\"}, {\"fillcolor\": \"#c45e3a\", \"layer\": \"below\", \"line\": {\"color\": \"rgb(175,175,175)\", \"width\": 0.5}, \"path\": \"M -0.9910147736351109,0.13375245207826947 Q -0.1491985182362708, -0.1331908486199452 0.020901142792184836, -0.9997815472541893L 0.020901142792184836, -0.9997815472541893 L 0.016207995496357153, -0.9998686418135084 L 0.011514491086246635, -0.9999337060500685 M 0.011514491086246635,-0.9999337060500685 Q -0.1493235327027617, -0.13305067674073387 -0.991991261704693, 0.1263065188402058L -0.991991261704693, 0.1263065188402058 L -0.9915100072762596, 0.13003040210286076 L -0.9910147736351109, 0.13375245207826947 \", \"type\": \"path\"}, {\"fillcolor\": \"#c45e3a\", \"layer\": \"below\", \"line\": {\"color\": \"rgb(175,175,175)\", \"width\": 0.5}, \"path\": \"M -0.9869465344231781,0.16104824801927695 Q -0.09687935730047416, -0.17496968345701225 0.6602878215002876, -0.7510126448858263L 0.6602878215002876, -0.7510126448858263 L 0.6573695837356902, -0.7535683315925407 L 0.6544414541061777, -0.7561126788696191 M 0.6544414541061777,-0.7561126788696191 Q -0.09699962711216034, -0.17490303696649137 -0.9879544320285616, 0.15474508145696328L -0.9879544320285616, 0.15474508145696328 L -0.9874555125676204, 0.15789746894683893 L -0.9869465344231781, 0.16104824801927695 \", \"type\": \"path\"}, {\"fillcolor\": \"#c45e3a\", \"layer\": \"below\", \"line\": {\"color\": \"rgb(175,175,175)\", \"width\": 0.5}, \"path\": \"M -0.9824782666750048,0.18637718613413543 Q -0.06110564084943032, -0.1904366053477651 0.9074957625166808, -0.42006123483876495L 0.9074957625166808, -0.42006123483876495 L 0.9074533935142344, -0.42015275626788406 L 0.9074110152818033, -0.4202442734235017 M 0.9074110152818033,-0.4202442734235017 Q -0.061106970387479066, -0.190436178732046 -0.982513240316553, 0.18619272972559228L -0.982513240316553, 0.18619272972559228 L -0.982495757824572, 0.1862849587506196 L -0.9824782666750048, 0.18637718613413543 \", \"type\": \"path\"}, {\"fillcolor\": \"#c45e3a\", \"layer\": \"below\", \"line\": {\"color\": \"rgb(175,175,175)\", \"width\": 0.5}, \"path\": \"M -0.9879544320285616,0.15474508145696328 Q -0.038237787620980464, -0.19631065074990914 0.9738082016892589, -0.22737103228584712L 0.9738082016892589, -0.22737103228584712 L 0.9730305262354023, -0.23067638590470413 L 0.9722416316017415, -0.23397907979215468 M 0.9722416316017415,-0.23397907979215468 Q -0.03825940326580319, -0.19630643917545 -0.988949924947473, 0.14824994416993034L -0.988949924947473, 0.14824994416993034 L -0.9884575134318124, 0.15149833048650507 L -0.9879544320285616, 0.15474508145696328 \", \"type\": \"path\"}, {\"fillcolor\": \"#c45e3a\", \"layer\": \"below\", \"line\": {\"color\": \"rgb(175,175,175)\", \"width\": 0.5}, \"path\": \"M -0.9833763231093322,0.1815792035117743 Q -0.028147554387401477, -0.1980093815504919 0.9950220180249265, -0.09965532422105147L 0.9950220180249265, -0.09965532422105147 L 0.9949080497470495, -0.10078676772534413 L 0.9947927949006725, -0.10191808089690756 M 0.9947927949006725,-0.10191808089690756 Q -0.02813108811172138, -0.19801172157640207 -0.9838165659991193, 0.17917858260880568L -0.9838165659991193, 0.17917858260880568 L -0.9835971769402828, 0.18037902737044026 L -0.9833763231093322, 0.1815792035117743 \", \"type\": \"path\"}, {\"fillcolor\": \"#bf4d28\", \"layer\": \"below\", \"line\": {\"color\": \"rgb(175,175,175)\", \"width\": 0.5}, \"path\": \"M -0.9994845467988124,-0.03210359341838061 Q -0.19817695585545692, -0.026942423199561652 -0.9717791906562351, -0.2358923580947733L -0.9717791906562351, -0.2358923580947733 L -0.9748115837715273, -0.2230299893396547 L -0.9776737397515161, -0.21012867153314604 M -0.9776737397515161,-0.21012867153314604 Q -0.19818107839246446, -0.02691208217882541 -0.9983049331133421, -0.05820017630184156L -0.9983049331133421, -0.05820017630184156 L -0.9989799594693918, -0.0451557369393131 L -0.9994845467988124, -0.03210359341838061 \", \"type\": \"path\"}, {\"fillcolor\": \"#bf4d28\", \"layer\": \"below\", \"line\": {\"color\": \"rgb(175,175,175)\", \"width\": 0.5}, \"path\": \"M -0.9986225918911248,0.05246826626306719 Q -0.19845480091293008, -0.024813141570734103 -0.9549619548595646, -0.2967282675627635L -0.9549619548595646, -0.2967282675627635 L -0.9551120456573238, -0.296244797828219 L -0.9552618916882977, -0.29576125217495103 M -0.9552618916882977,-0.29576125217495103 Q -0.19845489637556965, -0.024812378051325804 -0.9986748062420596, 0.05146485575015887L -0.9986748062420596, 0.05146485575015887 L -0.9986488250909633, 0.05196656756452814 L -0.9986225918911248, 0.05246826626306719 \", \"type\": \"path\"}, {\"fillcolor\": \"#bf4d28\", \"layer\": \"below\", \"line\": {\"color\": \"rgb(175,175,175)\", \"width\": 0.5}, \"path\": \"M -0.9988058449509293,0.04885574778733973 Q -0.1953267256712517, -0.042982208395423147 -0.8860340389571296, -0.46362019133048527L -0.8860340389571296, -0.46362019133048527 L -0.8865098930638611, -0.4627096384341929 L -0.8869848114206533, -0.46179859712765275 M -0.8869848114206533,-0.46179859712765275 Q -0.1953320155270023, -0.04295816232288034 -0.9988925710312878, 0.04704924588666327L -0.9988925710312878, 0.04704924588666327 L -0.9988496163921494, 0.04795251644341403 L -0.9988058449509293, 0.04885574778733973 \", \"type\": \"path\"}, {\"fillcolor\": \"#bf4d28\", \"layer\": \"below\", \"line\": {\"color\": \"rgb(175,175,175)\", \"width\": 0.5}, \"path\": \"M -0.9998091789377728,0.01953473091129569 Q -0.17839976616331762, -0.09040754079651539 -0.5754575160863065, -0.817831674111353L -0.5754575160863065, -0.817831674111353 L -0.5790544623776233, -0.8152888626741823 L -0.5826401727467462, -0.8127302314431534 M -0.5826401727467462,-0.8127302314431534 Q -0.1784527930698859, -0.09030282745050949 -0.9999291989837092, 0.011899454600843984L -0.9999291989837092, 0.011899454600843984 L -0.9998764770680898, 0.015717207318915138 L -0.9998091789377728, 0.01953473091129569 \", \"type\": \"path\"}, {\"fillcolor\": \"#bf4d28\", \"layer\": \"below\", \"line\": {\"color\": \"rgb(175,175,175)\", \"width\": 0.5}, \"path\": \"M -0.998526065511094,0.054274271021677145 Q -0.15122734402717514, -0.13088273537211248 -0.08956132708518921, -0.9959813094083341L -0.08956132708518921, -0.9959813094083341 L -0.08979506530806002, -0.9959602633872102 L -0.09002879858533276, -0.9959391625120891 M -0.09002879858533276,-0.9959391625120891 Q -0.15121860770765252, -0.13089282899746302 -0.9985586038923975, 0.05367228886926727L -0.9985586038923975, 0.05367228886926727 L -0.9985423800656841, 0.05397328239748719 L -0.998526065511094, 0.054274271021677145 \", \"type\": \"path\"}, {\"fillcolor\": \"#bf4d28\", \"layer\": \"below\", \"line\": {\"color\": \"rgb(175,175,175)\", \"width\": 0.5}, \"path\": \"M -0.9996470555636581,0.026566224852406593 Q -0.14248186106039928, -0.14035283847776314 0.011514491086246635, -0.9999337060500685L 0.011514491086246635, -0.9999337060500685 L 0.007407463078294284, -0.9999725643690149 L 0.003300310112447942, -0.9999945539617512 M 0.003300310112447942,-0.9999945539617512 Q -0.14256471822864433, -0.14026867475094804 -0.9998091789377728, 0.01953473091129569L -0.9998091789377728, 0.01953473091129569 L -0.99973429915074, 0.023050620416353595 L -0.9996470555636581, 0.026566224852406593 \", \"type\": \"path\"}, {\"fillcolor\": \"#bf4d28\", \"layer\": \"below\", \"line\": {\"color\": \"rgb(175,175,175)\", \"width\": 0.5}, \"path\": \"M -0.9983049331133421,-0.05820017630184156 Q -0.05833244134016994, -0.1913042767093711 0.7959861326822878, -0.6053148573903464L 0.7959861326822878, -0.6053148573903464 L 0.7860753458762081, -0.6181306905546754 L 0.775958238444149, -0.6307842834049158 M 0.775958238444149,-0.6307842834049158 Q -0.05870219454462158, -0.19119114089215905 -0.9962379749552769, -0.08665966337927454L -0.9962379749552769, -0.08665966337927454 L -0.9973729686696364, -0.07243729265451922 L -0.9983049331133421, -0.05820017630184156 \", \"type\": \"path\"}, {\"fillcolor\": \"#bf4d28\", \"layer\": \"below\", \"line\": {\"color\": \"rgb(175,175,175)\", \"width\": 0.5}, \"path\": \"M -0.9987361326067167,0.05026069464083054 Q -0.047340910485553, -0.1943163353771341 0.9099373574535973, -0.41474571186495035L 0.9099373574535973, -0.41474571186495035 L 0.9096443326139154, -0.4153879971103936 L 0.9093508544130537, -0.41603007532899494 M 0.9093508544130537,-0.41603007532899494 Q -0.04734142201779357, -0.19431621075281694 -0.9988058449509293, 0.04885574778733973L -0.9988058449509293, 0.04885574778733973 L -0.9987712358168627, 0.04955823347191597 L -0.9987361326067167, 0.05026069464083054 \", \"type\": \"path\"}, {\"fillcolor\": \"#bf4d28\", \"layer\": \"below\", \"line\": {\"color\": \"rgb(175,175,175)\", \"width\": 0.5}, \"path\": \"M -0.9998988372458802,-0.01422375739165747 Q -0.01443985235198004, -0.19947804556906262 0.987425895735005, -0.15808257472575202L 0.987425895735005, -0.15808257472575202 L 0.986024132752611, -0.16660254988883366 L 0.9845488568235908, -0.17511010401276236 M 0.9845488568235908,-0.17511010401276236 Q -0.014378434166284315, -0.19948248201515298 -0.9994845467988124, -0.03210359341838061L -0.9994845467988124, -0.03210359341838061 L -0.999731664614354, -0.023164601602719544 L -0.9998988372458802, -0.01422375739165747 \", \"type\": \"path\"}, {\"fillcolor\": \"#bf4d28\", \"layer\": \"below\", \"line\": {\"color\": \"rgb(175,175,175)\", \"width\": 0.5}, \"path\": \"M -0.9999291989837092,0.011899454600843984 Q -0.007688693329964225, -0.19985215534208722 0.9978878442487754, -0.06496037484907002L 0.9978878442487754, -0.06496037484907002 L 0.9976062946336385, -0.06914969925706196 L 0.9973071575096498, -0.07333780457596605 M 0.9973071575096498,-0.07333780457596605 Q -0.007563962227749657, -0.19985691500525365 -0.9999974598310203, 0.0022539590739324706L -0.9999974598310203, 0.0022539590739324706 L -0.9999749592142054, 0.007076789141140164 L -0.9999291989837092, 0.011899454600843984 \", \"type\": \"path\"}, {\"fillcolor\": \"#af4624\", \"layer\": \"below\", \"line\": {\"color\": \"rgb(175,175,175)\", \"width\": 0.5}, \"path\": \"M -0.9924122199687241,-0.1229552180948365 Q -0.19531285136270557, -0.04304520986787826 -0.95215664521802, -0.3056104104364992L -0.95215664521802, -0.3056104104364992 L -0.952527245390904, -0.3044533573275492 L -0.952896439522714, -0.3032958548100099 M -0.952896439522714,-0.3032958548100099 Q -0.1953126404968822, -0.043046166636945146 -0.992109291925895, -0.125376045855256L -0.992109291925895, -0.125376045855256 L -0.9922614942115247, -0.12416572435705579 L -0.9924122199687241, -0.1229552180948365 \", \"type\": \"path\"}, {\"fillcolor\": \"#af4624\", \"layer\": \"below\", \"line\": {\"color\": \"rgb(175,175,175)\", \"width\": 0.5}, \"path\": \"M -0.992109291925895,-0.125376045855256 Q -0.1906297572287325, -0.060500377345224225 -0.8828378018214771, -0.46967799147396977L -0.8828378018214771, -0.46967799147396977 L -0.8836941875587591, -0.46806472081846195 L -0.8845476252579979, -0.46644988868091347 M -0.8845476252579979,-0.46644988868091347 Q -0.19064185414637172, -0.0604622481192482 -0.9916962023101342, -0.1286026528639955L -0.9916962023101342, -0.1286026528639955 L -0.9919040591148225, -0.12698951732934 L -0.992109291925895, -0.125376045855256 \", \"type\": \"path\"}, {\"fillcolor\": \"#af4624\", \"layer\": \"below\", \"line\": {\"color\": \"rgb(175,175,175)\", \"width\": 0.5}, \"path\": \"M -0.9880141002182424,-0.15436365430352053 Q -0.1703056486167659, -0.10486174731150853 -0.5826401727467462, -0.8127302314431534L -0.5826401727467462, -0.8127302314431534 L -0.586026734022655, -0.8102917172295051 L -0.5894030895557634, -0.8078390916649929 M -0.5894030895557634,-0.8078390916649929 Q -0.17035948179433757, -0.10477426670115507 -0.9868578399213367, -0.16159085303875764L -0.9868578399213367, -0.16159085303875764 L -0.9874425821727844, -0.157978311523905 L -0.9880141002182424, -0.15436365430352053 \", \"type\": \"path\"}, {\"fillcolor\": \"#af4624\", \"layer\": \"below\", \"line\": {\"color\": \"rgb(175,175,175)\", \"width\": 0.5}, \"path\": \"M -0.9930243458450725,-0.11790949308247373 Q -0.13945890386092882, -0.14335694658407114 -0.09049625025159502, -0.9958967962045067L -0.09049625025159502, -0.9958967962045067 L -0.09072996861483894, -0.9958755307743786 L -0.0909636819809936, -0.9958542104949201 M -0.0909636819809936,-0.9958542104949201 Q -0.13944882843419468, -0.14336674735910887 -0.9929522449565362, -0.11851514348712928L -0.9929522449565362, -0.11851514348712928 L -0.9929883415761226, -0.1182123237818365 L -0.9930243458450725, -0.11790949308247373 \", \"type\": \"path\"}, {\"fillcolor\": \"#af4624\", \"layer\": \"below\", \"line\": {\"color\": \"rgb(175,175,175)\", \"width\": 0.5}, \"path\": \"M -0.9889974562473177,-0.1479325235921259 Q -0.13029230857944127, -0.15173633159213934 0.003300310112447942, -0.9999945539617512L 0.003300310112447942, -0.9999945539617512 L -0.0004548516229863464, -0.9999998965549952 L -0.0042100069444350185, -0.9999911378814953 M -0.0042100069444350185,-0.9999911378814953 Q -0.13036849772154277, -0.1516708765776347 -0.9880141002182424, -0.15436365430352053L -0.9880141002182424, -0.15436365430352053 L -0.9885110082645266, -0.15114888864907008 L -0.9889974562473177, -0.1479325235921259 \", \"type\": \"path\"}, {\"fillcolor\": \"#af4624\", \"layer\": \"below\", \"line\": {\"color\": \"rgb(175,175,175)\", \"width\": 0.5}, \"path\": \"M -0.9717791906562351,-0.2358923580947733 Q -0.037533006908528795, -0.1964466171569374 0.8163661735461475, -0.5775346489082896L 0.8163661735461475, -0.5775346489082896 L 0.8062958048048281, -0.5915125316966112 L 0.7959861326822878, -0.6053148573903464 M 0.7959861326822878,-0.6053148573903464 Q -0.03790188294345845, -0.1963757807606131 -0.9640806130465454, -0.265609810714509L -0.9640806130465454, -0.265609810714509 L -0.968043943550908, -0.25078062794882416 L -0.9717791906562351, -0.2358923580947733 \", \"type\": \"path\"}, {\"fillcolor\": \"#af4624\", \"layer\": \"below\", \"line\": {\"color\": \"rgb(175,175,175)\", \"width\": 0.5}, \"path\": \"M -0.9926355396236907,-0.1211391162093588 Q -0.030184092249179773, -0.1977091818178736 0.9112711220937962, -0.41180692325155677L 0.9112711220937962, -0.41180692325155677 L 0.9108969595125251, -0.4126338923923204 L 0.9105220464654782, -0.41346052157408875 M 0.9105220464654782,-0.41346052157408875 Q -0.03018266586402929, -0.19770939957761333 -0.9924122199687241, -0.1229552180948365L -0.9924122199687241, -0.1229552180948365 L -0.9925242951798363, -0.12204721823035986 L -0.9926355396236907, -0.1211391162093588 \", \"type\": \"path\"}, {\"fillcolor\": \"#af4624\", \"layer\": \"below\", \"line\": {\"color\": \"rgb(175,175,175)\", \"width\": 0.5}, \"path\": \"M -0.9837360458550993,-0.17962013273955096 Q -0.0009387775354104442, -0.19999779672971152 0.9820064824867482, -0.18884720901830687L 0.9820064824867482, -0.18884720901830687 L 0.9807203083549547, -0.19541667477511343 L 0.9793901860628715, -0.201977383495613 M 0.9793901860628715,-0.201977383495613 Q -0.000874785731717944, -0.19999808686565876 -0.9811195645729599, -0.19340217168420223L -0.9811195645729599, -0.19340217168420223 L -0.9824519726719588, -0.18651574033570642 L -0.9837360458550993, -0.17962013273955096 \", \"type\": \"path\"}, {\"fillcolor\": \"#af4624\", \"layer\": \"below\", \"line\": {\"color\": \"rgb(175,175,175)\", \"width\": 0.5}, \"path\": \"M -0.9854766027137627,-0.16981126436058577 Q 0.011414245084365275, -0.19967402186852962 0.9984080444614701, -0.05640369451217825L 0.9984080444614701, -0.05640369451217825 L 0.998157113391952, -0.06068259210882348 L 0.9978878442487754, -0.06496037484907002 M 0.9978878442487754,-0.06496037484907002 Q 0.011552979475996164, -0.19966604284461398 -0.9837360458550993, -0.17962013273955096L -0.9837360458550993, -0.17962013273955096 L -0.9846185389761951, -0.17471786601370487 L -0.9854766027137627, -0.16981126436058577 \", \"type\": \"path\"}, {\"fillcolor\": \"#9f4021\", \"layer\": \"below\", \"line\": {\"color\": \"rgb(175,175,175)\", \"width\": 0.5}, \"path\": \"M -0.9291018825757114,-0.3698238659068248 Q -0.176355511410774, -0.0943330991489433 -0.8233328619784884, -0.5675588061040999L -0.8233328619784884, -0.5675588061040999 L -0.8293118001555262, -0.5587861291431638 L -0.8351972686207787, -0.5499504727594939 M -0.8351972686207787,-0.5499504727594939 Q -0.17646863377583413, -0.09412131157867772 -0.9219730999644741, -0.3872539256636372L -0.9219730999644741, -0.3872539256636372 L -0.92557852151631, -0.3785556768926885 L -0.9291018825757114, -0.3698238659068248 \", \"type\": \"path\"}, {\"fillcolor\": \"#9f4021\", \"layer\": \"below\", \"line\": {\"color\": \"rgb(175,175,175)\", \"width\": 0.5}, \"path\": \"M -0.9390721577639567,-0.3437200641692982 Q -0.15475511126747146, -0.12669197108180347 -0.5223793137145508, -0.852713229991839L -0.5223793137145508, -0.852713229991839 L -0.5291829884734266, -0.8485077281382494 L -0.5359528080965101, -0.8442479419539413 M -0.5359528080965101,-0.8442479419539413 Q -0.1548833129229121, -0.12653521003271498 -0.9341782021467039, -0.3568067917430274L -0.9341782021467039, -0.3568067917430274 L -0.9366480359964474, -0.3502719752763526 L -0.9390721577639567, -0.3437200641692982 \", \"type\": \"path\"}, {\"fillcolor\": \"#9f4021\", \"layer\": \"below\", \"line\": {\"color\": \"rgb(175,175,175)\", \"width\": 0.5}, \"path\": \"M -0.95215664521802,-0.3056104104364992 Q -0.12447006755610134, -0.15654776358217187 -0.0831706160295114, -0.996535322318919L -0.0831706160295114, -0.996535322318919 L -0.08426196257522652, -0.9964436369724938 L -0.08535320805348041, -0.9963507564482396 M -0.08535320805348041,-0.9963507564482396 Q -0.1244196125107202, -0.15658786677990807 -0.951286446620594, -0.30830844373121485L -0.951286446620594, -0.30830844373121485 L -0.9517225019999005, -0.3069597354492106 L -0.95215664521802, -0.3056104104364992 \", \"type\": \"path\"}, {\"fillcolor\": \"#9f4021\", \"layer\": \"below\", \"line\": {\"color\": \"rgb(175,175,175)\", \"width\": 0.5}, \"path\": \"M -0.9126233429547769,-0.40880146023962266 Q -0.0967611465249804, -0.17503508369230233 0.1392062794052998, -0.9902634052483883L 0.1392062794052998, -0.9902634052483883 L 0.12408383358429755, -0.9922717381055576 L 0.10893251075410536, -0.9940491477290279 M 0.10893251075410536,-0.9940491477290279 Q -0.09712734435602058, -0.17483214515170545 -0.9015470974995774, -0.4326809806197719L -0.9015470974995774, -0.4326809806197719 L -0.9071637970223366, -0.42077766738744216 L -0.9126233429547769, -0.40880146023962266 \", \"type\": \"path\"}, {\"fillcolor\": \"#9f4021\", \"layer\": \"below\", \"line\": {\"color\": \"rgb(175,175,175)\", \"width\": 0.5}, \"path\": \"M -0.9491412924376329,-0.3148504517859549 Q -0.05306226038941615, -0.19283256084584316 0.6544414541061777, -0.7561126788696191L 0.6544414541061777, -0.7561126788696191 L 0.652109157253224, -0.7581250866621484 L 0.6497706722797192, -0.7601303003072314 M 0.6497706722797192,-0.7601303003072314 Q -0.05312913877493654, -0.1928141452617871 -0.947405733865218, -0.32003495971425977L -0.947405733865218, -0.32003495971425977 L -0.948277056310634, -0.3174438918530939 L -0.9491412924376329, -0.3148504517859549 \", \"type\": \"path\"}, {\"fillcolor\": \"#9f4021\", \"layer\": \"below\", \"line\": {\"color\": \"rgb(175,175,175)\", \"width\": 0.5}, \"path\": \"M -0.9549619548595646,-0.2967282675627635 Q -0.01301389396927675, -0.19957614728157377 0.9083412036058599, -0.4182299102549431L 0.9083412036058599, -0.4182299102549431 L 0.9081301896623983, -0.41868790121489835 L 0.9079189447972276, -0.41914578570980393 M 0.9079189447972276,-0.41914578570980393 Q -0.013013501406358673, -0.19957617287929616 -0.954661039117608, -0.2976949787801078L -0.954661039117608, -0.2976949787801078 L -0.9548116193334839, -0.2972116612546861 L -0.9549619548595646, -0.2967282675627635 \", \"type\": \"path\"}, {\"fillcolor\": \"#9f4021\", \"layer\": \"below\", \"line\": {\"color\": \"rgb(175,175,175)\", \"width\": 0.5}, \"path\": \"M -0.9541775385612722,-0.2992410815799726 Q 0.005123026751799299, -0.1999343757258875 0.968250570350127, -0.24998166536098956L 0.968250570350127, -0.24998166536098956 L 0.9680319282121508, -0.2508270040523256 L 0.967812548044805, -0.2516721515126812 M 0.967812548044805,-0.2516721515126812 Q 0.005130636295523799, -0.1999341805975233 -0.9536306074852936, -0.30097950838425824L -0.9536306074852936, -0.30097950838425824 L -0.9539044690441215, -0.30011041957528345 L -0.9541775385612722, -0.2992410815799726 \", \"type\": \"path\"}, {\"fillcolor\": \"#9f4021\", \"layer\": \"below\", \"line\": {\"color\": \"rgb(175,175,175)\", \"width\": 0.5}, \"path\": \"M -0.9503456074053617,-0.31119644356151327 Q 0.02195116222070416, -0.19879171631926804 0.9953477778551766, -0.09634729429912416L 0.9953477778551766, -0.09634729429912416 L 0.995186272440211, -0.09800144461464905 L 0.9950220180249265, -0.09965532422105147 M 0.9950220180249265,-0.09965532422105147 Q 0.022003177931401545, -0.19878596570411877 -0.9491412924376329, -0.3148504517859549L -0.9491412924376329, -0.3148504517859549 L -0.949745207207077, -0.31302402685287006 L -0.9503456074053617, -0.31119644356151327 \", \"type\": \"path\"}, {\"fillcolor\": \"#8f391e\", \"layer\": \"below\", \"line\": {\"color\": \"rgb(175,175,175)\", \"width\": 0.5}, \"path\": \"M -0.8001423613251437,-0.5998101379711943 Q -0.11645198728048418, -0.1626005370791436 -0.3102716978180309, -0.9506479230152015L -0.3102716978180309, -0.9506479230152015 L -0.3475976960650471, -0.9376437712107254 L -0.3843806291848003, -0.9231747028095478 M -0.3843806291848003,-0.9231747028095478 Q -0.11654986475199423, -0.16253039416149787 -0.7510683086187676, -0.6602245040806526L -0.7510683086187676, -0.6602245040806526 L -0.7761933454655878, -0.6304949567244282 L -0.8001423613251437, -0.5998101379711943 \", \"type\": \"path\"}, {\"fillcolor\": \"#8f391e\", \"layer\": \"below\", \"line\": {\"color\": \"rgb(175,175,175)\", \"width\": 0.5}, \"path\": \"M -0.8721089367849697,-0.48931176399080134 Q -0.10616418589722576, -0.16949680124645214 -0.05960661220704326, -0.9982219451510767L -0.05960661220704326, -0.9982219451510767 L -0.062339494914929315, -0.9980550021786132 L -0.06507191029367802, -0.9978805772690095 M -0.06507191029367802,-0.9978805772690095 Q -0.10595096768225516, -0.16963016373037468 -0.8681711117246441, -0.49626497032008565L -0.8681711117246441, -0.49626497032008565 L -0.8701469695285506, -0.4927923004880247 L -0.8721089367849697, -0.48931176399080134 \", \"type\": \"path\"}, {\"fillcolor\": \"#8f391e\", \"layer\": \"below\", \"line\": {\"color\": \"rgb(175,175,175)\", \"width\": 0.5}, \"path\": \"M -0.7510683086187676,-0.6602245040806526 Q -0.04180010755261785, -0.1955831051205333 0.41557334153409875, -0.9095596724823409L 0.41557334153409875, -0.9095596724823409 L 0.3786362151833526, -0.9255455777818972 L 0.3410857358491799, -0.9400321913637977 M 0.3410857358491799,-0.9400321913637977 Q -0.04201433937003441, -0.19553719668467068 -0.6971168602492166, -0.7169575183762802L -0.6971168602492166, -0.7169575183762802 L -0.7246480039026293, -0.6891191990069171 L -0.7510683086187676, -0.6602245040806526 \", \"type\": \"path\"}, {\"fillcolor\": \"#8f391e\", \"layer\": \"below\", \"line\": {\"color\": \"rgb(175,175,175)\", \"width\": 0.5}, \"path\": \"M -0.8681711117246441,-0.49626497032008565 Q -0.030559829823623003, -0.19765145281821533 0.6777548690778656, -0.7352879282575263L 0.6777548690778656, -0.7352879282575263 L 0.6732119447348285, -0.7394495773657257 L 0.668643466959573, -0.7435831588277685 M 0.668643466959573,-0.7435831588277685 Q -0.030559156755412792, -0.1976515568833145 -0.8619869558887792, -0.5069304566482428L -0.8619869558887792, -0.5069304566482428 L -0.8650954703855567, -0.501607243885485 L -0.8681711117246441, -0.49626497032008565 \", \"type\": \"path\"}, {\"fillcolor\": \"#8f391e\", \"layer\": \"below\", \"line\": {\"color\": \"rgb(175,175,175)\", \"width\": 0.5}, \"path\": \"M -0.8790565233308993,-0.476717556619632 Q 0.008415490842649793, -0.19982287034740864 0.9160263545925981, -0.4011180844736319L 0.9160263545925981, -0.4011180844736319 L 0.9147678083384532, -0.40398002033227226 L 0.9135003205806795, -0.4068380074415317 M 0.9135003205806795,-0.4068380074415317 Q 0.008497891307376859, -0.19981938305211538 -0.8756605081818081, -0.48292719369567255L -0.8756605081818081, -0.48292719369567255 L -0.8773640094443957, -0.47982537962435273 L -0.8790565233308993, -0.476717556619632 \", \"type\": \"path\"}, {\"fillcolor\": \"#8f391e\", \"layer\": \"below\", \"line\": {\"color\": \"rgb(175,175,175)\", \"width\": 0.5}, \"path\": \"M -0.8875114003895754,-0.46078575735208527 Q 0.022072358940599335, -0.19877829602549002 0.9669771209502949, -0.254863193809304L 0.9669771209502949, -0.254863193809304 L 0.9669276504352838, -0.2550508161596461 L 0.9668781435159515, -0.2552384289074572 M 0.9668781435159515,-0.2552384289074572 Q 0.022079172177695353, -0.19877753936485804 -0.8873009035498423, -0.46119096539246457L -0.8873009035498423, -0.46119096539246457 L -0.8874061750980072, -0.4609883733869272 L -0.8875114003895754, -0.46078575735208527 \", \"type\": \"path\"}, {\"fillcolor\": \"#8f391e\", \"layer\": \"below\", \"line\": {\"color\": \"rgb(175,175,175)\", \"width\": 0.5}, \"path\": \"M -0.8873009035498423,-0.46119096539246457 Q 0.03693362057382787, -0.19656018841898917 0.9941878137452966, -0.10765960709731093L 0.9941878137452966, -0.10765960709731093 L 0.994159527089607, -0.10792050174535475 L 0.9941311719699758, -0.10818138896132888 M 0.9941311719699758,-0.10818138896132888 Q 0.03694935351130121, -0.1965572315512632 -0.8869848114206533, -0.46179859712765275L -0.8869848114206533, -0.46179859712765275 L -0.8871429095084805, -0.46149480832272416 L -0.8873009035498423, -0.46119096539246457 \", \"type\": \"path\"}, {\"fillcolor\": \"#f0f3e7\", \"layer\": \"below\", \"line\": {\"color\": \"rgb(175,175,175)\", \"width\": 0.5}, \"path\": \"M -0.558845733957394,-0.8292716356162325 Q -0.06280576229652172, -0.1898826906865205 -0.04585776039334089, -0.9989479795323213L -0.04585776039334089, -0.9989479795323213 L -0.049764681655243496, -0.99876097063299 L -0.053670841566979134, -0.9985586816835014 M -0.053670841566979134,-0.9985586816835014 Q -0.062447789761620166, -0.19000071987729017 -0.5491954178177021, -0.835693958963471L -0.5491954178177021, -0.835693958963471 L -0.5540298819252122, -0.832496780734878 L -0.558845733957394, -0.8292716356162325 \", \"type\": \"path\"}, {\"fillcolor\": \"#f0f3e7\", \"layer\": \"below\", \"line\": {\"color\": \"rgb(175,175,175)\", \"width\": 0.5}, \"path\": \"M -0.3102716978180309,-0.9506479230152015 Q 0.020823822860469677, -0.19891296690129526 0.5004298046202984, -0.8657771137236708L 0.5004298046202984, -0.8657771137236708 L 0.45852444760781613, -0.8886817939768695 L 0.41557334153409875, -0.9095596724823409 M 0.41557334153409875,-0.9095596724823409 Q 0.02070819725433723, -0.1989250375555462 -0.2193217905948673, -0.975652577596278L -0.2193217905948673, -0.975652577596278 L -0.26509172738887077, -0.964223198263755 L -0.3102716978180309, -0.9506479230152015 \", \"type\": \"path\"}, {\"fillcolor\": \"#f0f3e7\", \"layer\": \"below\", \"line\": {\"color\": \"rgb(175,175,175)\", \"width\": 0.5}, \"path\": \"M -0.4824962166903827,-0.8758980539306314 Q 0.03823620257205745, -0.19631095948231875 0.775958238444149, -0.6307842834049158L 0.775958238444149, -0.6307842834049158 L 0.7663708903471066, -0.6423983642791933 L 0.7566097261761513, -0.6538667465589983 M 0.7566097261761513,-0.6538667465589983 Q 0.03828358846685073, -0.19630172402223273 -0.4554692869304404, -0.8902514974225407L -0.4554692869304404, -0.8902514974225407 L -0.4690376603543529, -0.8831781661529653 L -0.4824962166903827, -0.8758980539306314 \", \"type\": \"path\"}, {\"fillcolor\": \"#f0f3e7\", \"layer\": \"below\", \"line\": {\"color\": \"rgb(175,175,175)\", \"width\": 0.5}, \"path\": \"M -0.5491954178177021,-0.835693958963471 Q 0.060802752509634794, -0.1905335279872078 0.9317515166971663, -0.36309655896542226L 0.9317515166971663, -0.36309655896542226 L 0.9292395103731681, -0.36947791863849566 L 0.9266838001243068, -0.37584190105305426 M 0.9266838001243068,-0.37584190105305426 Q 0.06099794482467983, -0.19047112832963772 -0.5359528080965101, -0.8442479419539413L -0.5359528080965101, -0.8442479419539413 L -0.5425909699833208, -0.8399970471927619 L -0.5491954178177021, -0.835693958963471 \", \"type\": \"path\"}, {\"fillcolor\": \"#f0f3e7\", \"layer\": \"below\", \"line\": {\"color\": \"rgb(175,175,175)\", \"width\": 0.5}, \"path\": \"M -0.6026202810291135,-0.7980280677347084 Q 0.06654087548392852, -0.18860623502374552 0.9699731185116823, -0.24321214888389509L 0.9699731185116823, -0.24321214888389509 L 0.9695469152658153, -0.24490565346382284 L 0.9691177552829188, -0.24659841117776218 M 0.9691177552829188,-0.24659841117776218 Q 0.06660504716147435, -0.18858358277596113 -0.599284753154007, -0.8005359358811701L -0.599284753154007, -0.8005359358811701 L -0.6009538253055238, -0.7992837417654997 L -0.6026202810291135, -0.7980280677347084 \", \"type\": \"path\"}, {\"fillcolor\": \"#f0f3e7\", \"layer\": \"below\", \"line\": {\"color\": \"rgb(175,175,175)\", \"width\": 0.5}, \"path\": \"M -0.5955663731042872,-0.8033061030686901 Q 0.08260528761550445, -0.18214380708099792 0.9966988901658833, -0.08118695918739946L 0.9966988901658833, -0.08118695918739946 L 0.9964603787190117, -0.08406374749655027 L 0.9962135639684057, -0.0869398353194164 M 0.9962135639684057,-0.0869398353194164 Q 0.08277623450552962, -0.1820661830244309 -0.5894030895557634, -0.8078390916649929L -0.5894030895557634, -0.8078390916649929 L -0.5924890664439435, -0.8055784916098395 L -0.5955663731042872, -0.8033061030686901 \", \"type\": \"path\"}, {\"fillcolor\": \"#e2ecde\", \"layer\": \"below\", \"line\": {\"color\": \"rgb(175,175,175)\", \"width\": 0.5}, \"path\": \"M -0.04585776039334089,-0.9989479795323213 Q 0.0010233469561742687, -0.19999738188538194 0.056077929112858624, -0.9984263948165699L 0.056077929112858624, -0.9984263948165699 L 0.04892952921957156, -0.998802233262597 L 0.04177862213436686, -0.9991268922076684 M 0.04177862213436686,-0.9991268922076684 Q 0.0005460738809102243, -0.1999992545069021 -0.03632204856348554, -0.9993401366842782L -0.03632204856348554, -0.9993401366842782 L -0.04109037231339089, -0.9991554340057142 L -0.04585776039334089, -0.9989479795323213 \", \"type\": \"path\"}, {\"fillcolor\": \"#e2ecde\", \"layer\": \"below\", \"line\": {\"color\": \"rgb(175,175,175)\", \"width\": 0.5}, \"path\": \"M -0.0802078905980598,-0.9967781570067683 Q 0.061112263454752916, -0.19043448021678447 0.6452495699227698, -0.763971853221361L 0.6452495699227698, -0.763971853221361 L 0.6435919549970222, -0.7653687970273618 L 0.6419313157430648, -0.7667621442588162 M 0.6419313157430648,-0.7667621442588162 Q 0.06098248352376141, -0.19047607908415737 -0.07724445639268569, -0.9970121834544443L -0.07724445639268569, -0.9970121834544443 L -0.07872626045556853, -0.996896271391704 L -0.0802078905980598, -0.9967781570067683 \", \"type\": \"path\"}, {\"fillcolor\": \"#e2ecde\", \"layer\": \"below\", \"line\": {\"color\": \"rgb(175,175,175)\", \"width\": 0.5}, \"path\": \"M -0.08847048369827497,-0.9960787988478589 Q 0.10051373561263635, -0.1729074577720494 0.9093508544130537, -0.41603007532899494L 0.9093508544130537, -0.41603007532899494 L 0.9090569229972794, -0.4166719462007474 L 0.9087625385130856, -0.41731360940574713 M 0.9087625385130856,-0.41731360940574713 Q 0.10048635019759311, -0.17292337442915773 -0.0873795341960154, -0.9961750935471572L -0.0873795341960154, -0.9961750935471572 L -0.0879250221297826, -0.9961270955472887 L -0.08847048369827497, -0.9960787988478589 \", \"type\": \"path\"}, {\"fillcolor\": \"#e2ecde\", \"layer\": \"below\", \"line\": {\"color\": \"rgb(175,175,175)\", \"width\": 0.5}, \"path\": \"M -0.08956132708518921,-0.9959813094083341 Q 0.11512260115391729, -0.1635444487090775 0.967812548044805, -0.2516721515126812L 0.967812548044805, -0.2516721515126812 L 0.9676414088902797, -0.25232935580473903 L 0.967469823453642, -0.2529864437209608 M 0.967469823453642,-0.2529864437209608 Q 0.11510108980971522, -0.16355958891063488 -0.08847048369827497, -0.9960787988478589L -0.08847048369827497, -0.9960787988478589 L -0.08901591873792902, -0.99603020346335 L -0.08956132708518921, -0.9959813094083341 \", \"type\": \"path\"}, {\"fillcolor\": \"#e2ecde\", \"layer\": \"below\", \"line\": {\"color\": \"rgb(175,175,175)\", \"width\": 0.5}, \"path\": \"M -0.09127529200703681,-0.9958256981364912 Q 0.12658496390161014, -0.1548426521150683 0.9940932586477125, -0.10852922699057731L 0.9940932586477125, -0.10852922699057731 L 0.9940742563467052, -0.10870314102520244 L 0.9940552236198893, -0.10887705173273197 M 0.9940552236198893,-0.10887705173273197 Q 0.12658210034383072, -0.15484499304964425 -0.0909636819809936, -0.9958542104949201L -0.0909636819809936, -0.9958542104949201 L -0.09111948810924715, -0.9958399665040105 L -0.09127529200703681, -0.9958256981364912 \", \"type\": \"path\"}, {\"fillcolor\": \"#d4e5d6\", \"layer\": \"below\", \"line\": {\"color\": \"rgb(175,175,175)\", \"width\": 0.5}, \"path\": \"M 0.17073814978727284,-0.9853164386161528 Q 0.10975613590267114, -0.16719327328488545 0.8361527882291832, -0.5484965950090873L 0.8361527882291832, -0.5484965950090873 L 0.8263870351719692, -0.5631025378203179 L 0.8163661735461475, -0.5775346489082896 M 0.8163661735461475,-0.5775346489082896 Q 0.1098399793261504, -0.1671382031183501 0.20623166095696402, -0.9785031946902022L 0.20623166095696402, -0.9785031946902022 L 0.18851568801119684, -0.9820701784361773 L 0.17073814978727284, -0.9853164386161528 \", \"type\": \"path\"}, {\"fillcolor\": \"#d4e5d6\", \"layer\": \"below\", \"line\": {\"color\": \"rgb(175,175,175)\", \"width\": 0.5}, \"path\": \"M 0.07223854700569556,-0.9973873832801906 Q 0.11995461397608553, -0.1600340294620126 0.9370671855165481, -0.34914909398148974L 0.9370671855165481, -0.34914909398148974 L 0.9344353741061003, -0.35613274437938486 L 0.9317515166971663, -0.36309655896542226 M 0.9317515166971663,-0.36309655896542226 Q 0.12014988000238114, -0.15988748023348612 0.08954905740343691, -0.9959824126550408L 0.08954905740343691, -0.9959824126550408 L 0.08089685235363574, -0.9967224785662627 L 0.07223854700569556, -0.9973873832801906 \", \"type\": \"path\"}, {\"fillcolor\": \"#d4e5d6\", \"layer\": \"below\", \"line\": {\"color\": \"rgb(175,175,175)\", \"width\": 0.5}, \"path\": \"M -0.004914093554632123,-0.9999879257693747 Q 0.12173333618972748, -0.1586852068093267 0.9671253140507802, -0.2543002692137384L 0.9671253140507802, -0.2543002692137384 L 0.9670512584606347, -0.2545817422944992 L 0.9669771209502949, -0.254863193809304 M 0.9669771209502949,-0.254863193809304 Q 0.12174301494740564, -0.15867778140469374 -0.0042100069444350185, -0.9999911378814953L -0.0042100069444350185, -0.9999911378814953 L -0.004562050532237163, -0.9999895937933261 L -0.004914093554632123, -0.9999879257693747 \", \"type\": \"path\"}, {\"fillcolor\": \"#d4e5d6\", \"layer\": \"below\", \"line\": {\"color\": \"rgb(175,175,175)\", \"width\": 0.5}, \"path\": \"M 0.03122430023537486,-0.9995124026618235 Q 0.1384079602375025, -0.14437186894576773 0.9973071575096498, -0.07333780457596605L 0.9973071575096498, -0.07333780457596605 L 0.9970107481109111, -0.07726298047138326 L 0.9966988901658833, -0.08118695918739946 M 0.9966988901658833,-0.08118695918739946 Q 0.1386019214941326, -0.1441856697391745 0.04177862213436686, -0.9991268922076684L 0.04177862213436686, -0.9991268922076684 L 0.03650197012776433, -0.999333581031275 L 0.03122430023537486, -0.9995124026618235 \", \"type\": \"path\"}, {\"fillcolor\": \"#c6decd\", \"layer\": \"below\", \"line\": {\"color\": \"rgb(175,175,175)\", \"width\": 0.5}, \"path\": \"M 0.6869292136099705,-0.7267243325286333 Q 0.16513223303797572, -0.11283326465139476 0.9266838001243068, -0.37584190105305426L 0.9266838001243068, -0.37584190105305426 L 0.9242386100859742, -0.38181538945719123 L 0.9217549148641158, -0.38777297085259405 M 0.9217549148641158,-0.38777297085259405 Q 0.1652277786046251, -0.11269330582328747 0.6974685170422555, -0.7166154252699818L 0.6974685170422555, -0.7166154252699818 L 0.6922173189542785, -0.7216891182079377 L 0.6869292136099705, -0.7267243325286333 \", \"type\": \"path\"}, {\"fillcolor\": \"#c6decd\", \"layer\": \"below\", \"line\": {\"color\": \"rgb(175,175,175)\", \"width\": 0.5}, \"path\": \"M 0.7247353063063001,-0.6890273839210698 Q 0.1800609028019939, -0.08705211819439496 0.9901448065327901, -0.14004735661962212L 0.9901448065327901, -0.14004735661962212 L 0.9888264700593421, -0.14907116458249423 L 0.987425895735005, -0.15808257472575202 M 0.987425895735005,-0.15808257472575202 Q 0.18020039177184535, -0.08676300366673258 0.7393466313555331, -0.6733250022858392L 0.7393466313555331, -0.6733250022858392 L 0.7320830699067983, -0.6812153688488229 L 0.7247353063063001, -0.6890273839210698 \", \"type\": \"path\"}, {\"fillcolor\": \"#c6decd\", \"layer\": \"below\", \"line\": {\"color\": \"rgb(175,175,175)\", \"width\": 0.5}, \"path\": \"M 0.7102726040393549,-0.7039267205832961 Q 0.1837286724905225, -0.07901756073728372 0.9995065603657314, -0.03141075907813368L 0.9995065603657314, -0.03141075907813368 L 0.9992248611624897, -0.03936593495400774 L 0.9988798468976258, -0.04731861643978661 M 0.9988798468976258,-0.04731861643978661 Q 0.18391952964860858, -0.07857230182344536 0.7247353063063001, -0.6890273839210698L 0.7247353063063001, -0.6890273839210698 L 0.7175426281740304, -0.6965145919168565 L 0.7102726040393549, -0.7039267205832961 \", \"type\": \"path\"}, {\"fillcolor\": \"#b8d7c5\", \"layer\": \"below\", \"line\": {\"color\": \"rgb(175,175,175)\", \"width\": 0.5}, \"path\": \"M 0.9073262311287116,-0.4204272949105088 Q 0.1881404195944576, -0.06784675758517454 0.9668286001941614, -0.25542603204567543L 0.9668286001941614, -0.25542603204567543 L 0.9668038148829275, -0.2555198300089797 L 0.966779020471779, -0.2556136255672369 M 0.966779020471779,-0.2556136255672369 Q 0.18814067982048932, -0.06784603596883258 0.9074110152818033, -0.4202442734235017L 0.9074110152818033, -0.4202442734235017 L 0.9073686278198186, -0.4203357863046868 L 0.9073262311287116, -0.4204272949105088 \", \"type\": \"path\"}, {\"fillcolor\": \"#b8d7c5\", \"layer\": \"below\", \"line\": {\"color\": \"rgb(175,175,175)\", \"width\": 0.5}, \"path\": \"M 0.9074957625166808,-0.42006123483876495 Q 0.19275466270016642, -0.05334454055800908 0.9943375195488665, -0.10626804419677414L 0.9943375195488665, -0.10626804419677414 L 0.994290945704342, -0.10670293009268936 L 0.9942441816570647, -0.1071377955768819 M 0.9942441816570647,-0.1071377955768819 Q 0.19275823057781874, -0.05333164674476559 0.9079189447972276, -0.41914578570980393L 0.9079189447972276, -0.41914578570980393 L 0.9077074690640635, -0.4196035636232278 L 0.9074957625166808, -0.42006123483876495 \", \"type\": \"path\"}, {\"fillcolor\": \"#aad0bc\", \"layer\": \"below\", \"line\": {\"color\": \"rgb(175,175,175)\", \"width\": 0.5}, \"path\": \"M 0.9699731185116823,-0.24321214888389509 Q 0.19714818086378394, -0.033654045553257676 0.9957274038946826, -0.09234141613141787L 0.9957274038946826, -0.09234141613141787 L 0.9955396057465681, -0.0943445461591061 L 0.9953477778551766, -0.09634729429912416 M 0.9953477778551766,-0.09634729429912416 Q 0.19715556267606726, -0.033610773657910833 0.9710488625648571, -0.23888094631321527L 0.9710488625648571, -0.23888094631321527 L 0.9705134067000314, -0.24104714770247648 L 0.9699731185116823, -0.24321214888389509 \", \"type\": \"path\"}, {\"fillcolor\": \"#f2e6ce\", \"layer\": \"below\", \"line\": {\"color\": \"rgb(150,150,150)\", \"width\": 0.45}, \"path\": \"M 1.1, 0.0 L 1.0997034182922274, 0.02554196148283269 L 1.098813833097472, 0.05107014973192638 L 1.0973317241151814, 0.07657079894061337 L 1.0952578905570156, 0.10203015815236338 L 1.0925934507158812, 0.12743449867584222 L 1.0893398413629023, 0.15277012148796393 L 1.0854988169726572, 0.17802336462094462 L 1.0810724487770977, 0.20318061052937492 L 1.0760631236486577, 0.2282282934333378 L 1.0704735428131578, 0.25315290663361245 L 1.064306720393198, 0.2779410097950198 L 1.0575659817828233, 0.30257923619398164 L 0.9614236198025665, 0.27507203290361965 L 0.9675515639938163, 0.2526736452681998 L 0.9731577661937798, 0.23013900603055676 L 0.9782392033169615, 0.2074802667575798 L 0.9827931352519069, 0.18470964593579536 L 0.9868171063387792, 0.1618394223826769 L 0.9903089466935474, 0.13888192862542173 L 0.9932667733780738, 0.11584954425076564 L 0.9956889914154687, 0.09275468922942125 L 0.9975742946501648, 0.06960981721873942 L 0.9989216664522471, 0.0464274088472058 L 0.9997303802656612, 0.02321996498439335 L 1.0, 0.0 L 1.1 ,0.0\", \"type\": \"path\"}, {\"fillcolor\": \"#ecd5bb\", \"layer\": \"below\", \"line\": {\"color\": \"rgb(150,150,150)\", \"width\": 0.45}, \"path\": \"M 1.0475398933214244, 0.33564888186934133 L 1.0403951843627621, 0.3571804310915903 L 1.0328079596681192, 0.37856005923258285 L 1.0247814463442435, 0.39977867280359075 L 1.016319058342395, 0.4208272468009021 L 1.0074243950062767, 0.4416968285444643 L 0.9981012395411077, 0.4623785414857661 L 0.9883535574045, 0.48286358898333803 L 0.97818549461981, 0.503143258044265 L 0.9676013760126948, 0.5232089230301217 L 0.9566057033716148, 0.5430520493257516 L 0.9452031535330684, 0.5626641969693318 L 0.9333985763923743, 0.5820370242421775 L 0.9211969928408436, 0.6011622912167621 L 0.908603592630223, 0.6200318632614392 L 0.8956237321653158, 0.6386377145003816 L 0.8822629322257188, 0.656971931227261 L 0.8685268756176459, 0.6750267152712183 L 0.8544214047568357, 0.6927943873136935 L 0.8399525191835714, 0.7102673901547024 L 0.8251263730108718, 0.7274382919271737 L 0.8099492723069344, 0.7442997892579761 L 0.7944276724129498, 0.7608447103742938 L 0.7785681751974235, 0.7770660181540269 L 0.7623775262481741, 0.7929568131189206 L 0.7458626120032049, 0.8085103363691504 L 0.729030456821665, 0.8237199724581131 L 0.7118882199961483, 0.8385792522062036 L 0.6944431927076015, 0.8530818554523788 L 0.6767027949241344, 0.8672216137423381 L 0.6586745722450539, 0.8809925129521792 L 0.6403661926914607, 0.8943886958464107 L 0.6217854434447789, 0.907404464569235 L 0.6029402275345989, 0.9200342830680421 L 0.583838560477249, 0.9322727794480828 L 0.5644885668665216, 0.944114748257319 L 0.5448984769180042, 0.9555551527004809 L 0.5250766229684876, 0.9665891267813894 L 0.5050314359319371, 0.9772119773726302 L 0.48477144171353515, 0.9874191862117024 L 0.4643052575833223, 0.9972064118227906 L 0.44364158851097657, 1.0065694913633423 L 0.4227892234632916, 1.0155044423946686 L 0.4017570316659277, 1.024007464575812 L 0.38055395883102594, 1.0320749412799606 L 0.359189023352291, 1.039703441132724 L 0.337671312469158, 1.046889719471615 L 0.30697392042650723, 0.9517179267923771 L 0.32653547577481, 0.9451849464842944 L 0.34595814439184175, 0.9382499466181459 L 0.3652336651508433, 0.9309158768871018 L 0.38435383951208324, 0.923185856722426 L 0.40331053500997865, 0.9150631739666747 L 0.4220956887121112, 0.906551283475264 L 0.4407013106486683, 0.8976538056470021 L 0.4591194872108519, 0.8883745248842092 L 0.4773423845168069, 0.8787173879830812 L 0.4953622517436402, 0.8686865024549826 L 0.5131714244241105, 0.8582861347793809 L 0.5307623277065899, 0.8475207085891662 L 0.548127479576908, 0.8363948027891291 L 0.5652594940407081, 0.8249131496083953 L 0.5821510842649642, 0.813080632587646 L 0.5987950656773217, 0.800902284501981 L 0.6151843590219404, 0.7883832852203073 L 0.6313119933705468, 0.7755289595021625 L 0.6471711090874075, 0.7623447747329123 L 0.6627549607469682, 0.7488363385982846 L 0.6780569200029135, 0.7350093966992276 L 0.693070478407431, 0.7208698301081096 L 0.7077892501794758, 0.7064236528672971 L 0.7222069749208634, 0.6916770094311762 L 0.7363175202790312, 0.6766361720527055 L 0.7501148845553379, 0.6613075381156124 L 0.7635931992577921, 0.6456976274133658 L 0.7767467315971233, 0.6298130793760849 L 0.7895698869251325, 0.613660650246562 L 0.8020572111142897, 0.5972472102066009 L 0.8142033928775597, 0.5805797404548924 L 0.8260032660274753, 0.563665330237672 L 0.837451811673494, 0.5465111738334201 L 0.8485441603567039, 0.5291245674928886 L 0.8592755941209712, 0.5115129063357561 L 0.8696415485196497, 0.49368368120522865 L 0.8796376145569952, 0.47564447548192873 L 0.8892595405634636, 0.45740296185842266 L 0.8985032340040908, 0.4389668990757618 L 0.9073647632191888, 0.42034412862342374 L 0.915840359096615, 0.4015425714040584 L 0.9239264166749046, 0.3825702243644564 L 0.931619496676585, 0.3634351570941734 L 0.9389163269710175, 0.3441455083932571 L 0.9458138039661473, 0.32470948281053663 L 0.9523089939285675, 0.30513534715394663 L 1.0475398933214244 ,0.33564888186934133\", \"type\": \"path\"}, {\"fillcolor\": \"#e6c4a9\", \"layer\": \"below\", \"line\": {\"color\": \"rgb(150,150,150)\", \"width\": 0.45}, \"path\": \"M 0.304621091300538, 1.0569796548348835 L 0.28234396701876247, 1.0631471602220024 L 0.2599421660839687, 1.0688452040831613 L 0.23742558062026206, 1.0740712702922146 L 0.2148041534379765, 1.0788230511375787 L 0.19208787364315658, 1.0830984483412627 L 0.16928677222659605, 1.0868955739854222 L 0.14641091763438127, 1.09021275134602 L 0.12347041132189496, 1.0930485156332277 L 0.10047538329324499, 1.0954016146382457 L 0.07743598762808415, 1.097271009286249 L 0.05436239799780139, 1.0986558740952186 L 0.03126480317306034, 1.0995555975404563 L 0.008153402524670752, 1.0999697823246195 L -0.014961598480220939, 1.0998982455531587 L -0.03806999278463303, 1.09934101881508 L -0.06116157624895197, 1.0982983481689954 L -0.08422615215684763, 1.0967706940344695 L -0.1072535357179107, 1.0947587309887084 L -0.13023355856502286, 1.0922633474686823 L -0.153156073244477, 1.089285645378811 L -0.17601095769686045, 1.0858269396043894 L -0.19878811972672542, 1.081888757430963 L -0.2214775014590724, 1.0774728378699143 L -0.24406908378067832, 1.0725811308905542 L -0.266552890764308, 1.067215796559061 L -0.2423208097857345, 0.9701961786900554 L -0.2218809852551621, 0.9750737553550493 L -0.20134318314461128, 0.9795207616999221 L -0.18071647247884126, 0.9835352340281481 L -0.1600099615426004, 0.9871153996403539 L -0.13923279385861545, 0.9902596776171008 L -0.11839414415002077, 0.9929666795169837 L -0.09750321428900972, 0.9952352099897348 L -0.07656922923349783, 0.9970642673040631 L -0.0556014329535927, 0.9984530437899958 L -0.034609084349666384, 0.9994009261955272 L -0.013601453163837216, 0.999907495957417 L 0.007412184113337047, 0.9999725293860177 L 0.02842254833914576, 0.9995959977640512 L 0.049420361816183075, 0.9987780673592895 L 0.0703963523891674, 0.9975190993511354 L 0.09134125753931362, 0.9958196496711323 L 0.11224582847444996, 0.9936804687574796 L 0.13310083421307387, 0.9911025012236544 L 0.15389706566054184, 0.988086885441293 L 0.17462533967559687, 0.9846349530375115 L 0.19527650312543318, 0.9807482283068896 L 0.21584143692751095, 0.9764284275383769 L 0.23631106007633518, 0.9716774582574192 L 0.2566763336534204, 0.9664974183836386 L 0.2769282648186709, 0.9608905953044394 L 0.304621091300538 ,1.0569796548348835\", \"type\": \"path\"}, {\"fillcolor\": \"#e1b396\", \"layer\": \"below\", \"line\": {\"color\": \"rgb(150,150,150)\", \"width\": 0.45}, \"path\": \"M -0.2999434212734655, 1.058316561353345 L -0.32305799184789286, 1.0514911002491685 L -0.34601747581893316, 1.0441608623329521 L -0.36881085130050334, 1.0363293665447286 L -0.3914271761482439, 1.0280003724574285 L -0.4138555932123855, 1.0191778784720678 L -0.43608533554981055, 1.009866119898281 L -0.45810573159281254, 1.0000695669211288 L -0.47990621027206687, 0.9897929224551482 L -0.5014763060913603, 0.97904111988668 L -0.5228056641516343, 0.9678193207055584 L -0.5438840451219412, 0.9561329120272947 L -0.5647013301549163, 0.9439875040069484 L -0.5852475257444113, 0.9313889271459291 L -0.6055127685229609, 0.9183432294930144 L -0.6254873299967686, 0.9048566737409377 L -0.6451616212159517, 0.8909357342199296 L -0.6645261973777936, 0.8765870937896644 L -0.683571762360796, 0.8618176406310999 L -0.6214288748734509, 0.7834705823919089 L -0.6041147248889033, 0.7968973579906039 L -0.5865105647417742, 0.8099415765635722 L -0.5686248454516077, 0.8225969761281251 L -0.5504661532026917, 0.8348574813572858 L -0.5320432052221921, 0.8467172064962991 L -0.5133648455953784, 0.8581704581881349 L -0.49444004101994654, 0.8692117382066314 L -0.47527787650148573, 0.8798357460959622 L -0.45588755099214573, 0.8900373817151636 L -0.4362783729746062, 0.8998117476864983 L -0.4164597559934659, 0.9091541517464807 L -0.3964412141361914, 0.9180601089984373 L -0.37623235746580497, 0.926525344065516 L -0.3558428874074944, 0.9345457931431168 L -0.3352825920913666, 0.9421176059497531 L -0.3145613416535756, 0.949237147575411 L -0.29368908349808437, 0.9559010002265168 L -0.2726758375213323, 0.9621059648666772 L -0.2999434212734655 ,1.058316561353345\", \"type\": \"path\"}, {\"fillcolor\": \"#dba284\", \"layer\": \"below\", \"line\": {\"color\": \"rgb(150,150,150)\", \"width\": 0.45}, \"path\": \"M -0.7103048072395247, 0.8399208777095744 L -0.7302780737572663, 0.8226140863061955 L -0.7498297969713993, 0.8048324518642562 L -0.7689486909097829, 0.7865862385957 L -0.7876237194452191, 0.7678859788844167 L -0.7160215631320174, 0.6980781626221969 L -0.6990442644634389, 0.7150783987233635 L -0.6816634517921811, 0.731665865331142 L -0.6638891579611511, 0.7478309875510868 L -0.6457316429450224, 0.7635644342814312 L -0.7103048072395247 ,0.8399208777095744\", \"type\": \"path\"}, {\"fillcolor\": \"#d59171\", \"layer\": \"below\", \"line\": {\"color\": \"rgb(150,150,150)\", \"width\": 0.45}, \"path\": \"M -0.811354956167366, 0.7427672146121231 L -0.8396651428334805, 0.7106070981283756 L -0.866701439674064, 0.6773688909795792 L -0.8924228288336544, 0.6431030201892527 L -0.9167902873562214, 0.607861471890839 L -0.833445715778383, 0.5526013380825808 L -0.8112934807578676, 0.5846391092629569 L -0.7879103997036945, 0.6157899008905265 L -0.7633319480304367, 0.6460064528439778 L -0.7375954146976054, 0.6752429223746573 L -0.811354956167366 ,0.7427672146121231\", \"type\": \"path\"}, {\"fillcolor\": \"#d0805f\", \"layer\": \"below\", \"line\": {\"color\": \"rgb(150,150,150)\", \"width\": 0.45}, \"path\": \"M -0.935431296938567, 0.5787644501071492 L -0.9694880726630949, 0.5197046054866147 L -0.9998207889324618, 0.4586484383691607 L -1.0263129297811717, 0.39583048160037904 L -1.0488627319071304, 0.3314920355247038 L -0.9535115744610275, 0.3013563959315489 L -0.9330117543465196, 0.3598458923639809 L -0.9089279899386016, 0.41695312579014604 L -0.8813527933300862, 0.4724587322605588 L -0.8503920881259699, 0.5261495000974082 L -0.935431296938567 ,0.5787644501071492\", \"type\": \"path\"}, {\"fillcolor\": \"#ca6f4c\", \"layer\": \"below\", \"line\": {\"color\": \"rgb(150,150,150)\", \"width\": 0.45}, \"path\": \"M -1.0587575979284851, 0.29838288963796944 L -1.0628175670147402, 0.28358212081312234 L -1.0666706414397258, 0.26872614813330686 L -1.07031607114007, 0.2538178635543304 L -1.0737531464738115, 0.2388601692153588 L -0.9761392240671012, 0.2171456083775989 L -0.9730146101273364, 0.2307435123221185 L -0.9697005831270235, 0.24429649830300623 L -0.9661977881952183, 0.25780192801192936 L -0.9625069072077136, 0.271257172398154 L -1.0587575979284851 ,0.29838288963796944\", \"type\": \"path\"}, {\"fillcolor\": \"#c45e3a\", \"layer\": \"below\", \"line\": {\"color\": \"rgb(150,150,150)\", \"width\": 0.45}, \"path\": \"M -1.0807260933425054, 0.205014904747549 L -1.085591256021984, 0.1774587976083785 L -1.0897539165862657, 0.14978785426360242 L -1.0932113813162967, 0.12201998098882991 L -1.0959614128356496, 0.0941731467844576 L -0.9963285571233177, 0.08561195162223417 L -0.9938285284693607, 0.11092725544439082 L -0.990685378714787, 0.13617077660327492 L -0.9869011418381671, 0.16132617964398044 L -0.9824782666750048, 0.18637718613413543 L -1.0807260933425054 ,0.205014904747549\", \"type\": \"path\"}, {\"fillcolor\": \"#bf4d28\", \"layer\": \"below\", \"line\": {\"color\": \"rgb(150,150,150)\", \"width\": 0.45}, \"path\": \"M -1.0983786720622035, 0.05970169812384486 L -1.0998007533749488, 0.02093568427101366 L -1.0998550587138947, -0.017856366412445757 L -1.098541520541774, -0.05662620988347751 L -1.0958617724508046, -0.09532562971720249 L -0.9962379749552768, -0.08665966337927498 L -0.9986741095834307, -0.05147837262134319 L -0.9998682351944496, -0.016233060374950686 L -0.9998188667044987, 0.019032440246376053 L -0.998526065511094, 0.054274271021677145 L -1.0983786720622035 ,0.05970169812384486\", \"type\": \"path\"}, {\"fillcolor\": \"#af4624\", \"layer\": \"below\", \"line\": {\"color\": \"rgb(150,150,150)\", \"width\": 0.45}, \"path\": \"M -1.0923267804295798, -0.12970044239072112 L -1.0866683865869684, -0.17073903359359607 L -1.0794687346995728, -0.21153545992599812 L -1.0707380362739831, -0.2520318584547092 L -1.0604886743511999, -0.29217079178595995 L -0.9640806130465454, -0.265609810714509 L -0.97339821479453, -0.22911987132246292 L -0.9813352133632479, -0.1923049635690892 L -0.9878803514426985, -0.1552173032669055 L -0.9930243458450725, -0.11790949308247373 L -1.0923267804295798 ,-0.12970044239072112\", \"type\": \"path\"}, {\"fillcolor\": \"#9f4021\", \"layer\": \"below\", \"line\": {\"color\": \"rgb(150,150,150)\", \"width\": 0.45}, \"path\": \"M -1.0507880808571275, -0.32533737739244617 L -1.0381058383029147, -0.3637805224052034 L -1.024017678995732, -0.4017309959465336 L -1.008542682665659, -0.43913740132395507 L -0.9917018072495349, -0.4759490786817496 L -0.9015470974995772, -0.43268098061977234 L -0.916856984241508, -0.3992158193854137 L -0.9309251627233928, -0.36520999631503054 L -0.943732580275377, -0.33070956582291217 L -0.9552618916882977, -0.29576125217495103 L -1.0507880808571275 ,-0.32533737739244617\", \"type\": \"path\"}, {\"fillcolor\": \"#8f391e\", \"layer\": \"below\", \"line\": {\"color\": \"rgb(150,150,150)\", \"width\": 0.45}, \"path\": \"M -0.9762625404285331, -0.5068643330872938 L -0.9650338083831672, -0.5279296815651502 L -0.9533506065622314, -0.5487464086146038 L -0.9412184370134921, -0.5693047108762399 L -0.9286430132200667, -0.5895949066923453 L -0.9156302574097351, -0.6096074406663541 L -0.9021862977659476, -0.6293328881628333 L -0.8883174655418355, -0.6487619597458916 L -0.874030292078596, -0.6678855055539118 L -0.8593315057296403, -0.6866945196085588 L -0.8442280286919683, -0.7051801440560229 L -0.8287269737462521, -0.7233336733385077 L -0.8128356409071654, -0.7411465582939974 L -0.7965615139855404, -0.7586104101823701 L -0.779912257063968, -0.7757170046359608 L -0.7628957108874982, -0.7924582855327207 L -0.745519889171147, -0.8088263687901383 L -0.7277929748259464, -0.8248135460781421 L -0.7097233161053083, -0.8404122884492378 L -0.691319422673528, -0.8556152498841638 L -0.62847220243048, -0.7778320453492398 L -0.6452030146411892, -0.7640111713174889 L -0.6616299771144967, -0.7498304964346746 L -0.6777453537919518, -0.7352966989001256 L -0.693541555352271, -0.7204166232115642 L -0.7090111427854254, -0.7051972769417825 L -0.7241468308959458, -0.6896458274385182 L -0.7389414917337866, -0.6737695984490886 L -0.7533881579511382, -0.6575760666713706 L -0.7674800260836075, -0.6410728582327481 L -0.7812104597542184, -0.6242677450986898 L -0.7945729927987235, -0.607168641412647 L -0.8075613323107595, -0.5897835997689923 L -0.8201693616054069, -0.5721208074207574 L -0.8323911430997591, -0.5541885824239582 L -0.8442209211091515, -0.5359953697203138 L -0.85565312455772, -0.517549737160218 L -0.8666823696020285, -0.4988603714678216 L -0.8773034621665156, -0.47993607415013645 L -0.8875114003895754, -0.46078575735208527 L -0.9762625404285331 ,-0.5068643330872938\", \"type\": \"path\"}, {\"fillcolor\": \"#f0f3e7\", \"layer\": \"below\", \"line\": {\"color\": \"rgb(150,150,150)\", \"width\": 0.45}, \"path\": \"M -0.6641027737927575, -0.8769079232398154 L -0.6455300513591189, -0.890668823296456 L -0.6266722775851746, -0.9040364243249328 L -0.6075377796335055, -0.9170048234976684 L -0.588135006861778, -0.9295682942655137 L -0.5684725270916937, -0.9417212888864644 L -0.5485590228256417, -0.953458440875415 L -0.5284032874126976, -0.9647745673738785 L -0.5080142211656867, -0.9756646714386151 L -0.4874008274310033, -0.9861239442481728 L -0.4665722086129446, -0.9961477672263485 L -0.4455375621542897, -1.0057317140816495 L -0.42430617647492624, -1.0148715527618404 L -0.4028874268702888, -1.023563247322723 L -0.3812907713714492, -1.0318029597103147 L -0.359525746568659, -1.0395870514556482 L -0.3376019634002162, -1.0469120852814335 L -0.31552910290848646, -1.0537748266198836 L -0.29331691196498344, -1.0601722450410247 L -0.270975198966365, -1.0661015155908649 L -0.24851382950327697, -1.0715600200388293 L -0.22594272200392548, -1.076545348033912 L -0.20327184335433324, -1.0810552981690305 L -0.18051120449718236, -1.0850878789531182 L -0.1576708560112183, -1.0886413096905196 L -0.13476088367313568, -1.0917140212673078 L -0.12250989424830516, -0.9924672920611888 L -0.14333714182838025, -0.9896739179004723 L -0.1641010949974385, -0.9864435263210164 L -0.18479258486757566, -0.9827775437900277 L -0.20540247454902316, -0.9786775891217382 L -0.22592166318479723, -0.974145472762572 L -0.24634108996942272, -0.9691831959916952 L -0.26665173814998494, -0.963792950037295 L -0.28684463900771495, -0.9579771151089851 L -0.30691087581837834, -0.9517382593467576 L -0.32684158778968997, -0.9450791376869528 L -0.34662797397404466, -0.9380026906457406 L -0.36626129715480793, -0.9305120430206573 L -0.3857328877044784, -0.9226105025107639 L -0.4050341474129906, -0.9143015582560449 L -0.42415655328449503, -0.9055888792966803 L -0.4430916613009121, -0.8964763129528843 L -0.4618311101506243, -0.8869678831260137 L -0.48036662492063414, -0.8770677885217076 L -0.4986900207505834, -0.8667804007958317 L -0.5167932064469942, -0.8561102626240585 L -0.5346681880561618, -0.8450620856959214 L -0.5523070723940959, -0.833640748634244 L -0.5697020705319769, -0.821851294840848 L -0.5868455012355626, -0.8096989302695055 L -0.6037297943570522, -0.7971890211271048 L -0.6641027737927575 ,-0.8769079232398154\", \"type\": \"path\"}, {\"fillcolor\": \"#e2ecde\", \"layer\": \"below\", \"line\": {\"color\": \"rgb(150,150,150)\", \"width\": 0.45}, \"path\": \"M -0.1004028212077405, -1.0954082679501405 L -0.08531207237709046, -1.0966867603407668 L -0.07020515195617949, -1.0977573669253191 L -0.055084923583414075, -1.0986198847616995 L -0.03995425341983312, -1.0992741503527061 L -0.03632204856348465, -0.9993401366842782 L -0.05007720325764915, -0.998745349783363 L -0.06382286541470862, -0.997961242659381 L -0.0775564294337186, -0.9969879639461515 L -0.09127529200703681, -0.9958256981364912 L -0.1004028212077405 ,-1.0954082679501405\", \"type\": \"path\"}, {\"fillcolor\": \"#d4e5d6\", \"layer\": \"below\", \"line\": {\"color\": \"rgb(150,150,150)\", \"width\": 0.45}, \"path\": \"M -0.005405502910095335, -1.0999867183463121 L 0.01761906095386568, -1.0998588858081313 L 0.04063590523912038, -1.0992491633862622 L 0.06363494539340805, -1.098157818223218 L 0.08660610466512995, -1.0965853284786975 L 0.1095393185183592, -1.0945323831200855 L 0.13242453904249854, -1.0919998816205898 L 0.15525173935464515, -1.0889889335651477 L 0.17801091799275215, -1.085500858164275 L 0.2006921032976464, -1.0815371836760708 L 0.22328535778199435, -1.0770996467366272 L 0.2457807824842864, -1.0721901915991454 L 0.26816852130595004, -1.0668109692820844 L 0.29043876532968327, -1.0609643366267167 L 0.3125817571171076, -1.0546528552645091 L 0.3345877949838746, -1.0478792904947731 L 0.3564472372503443, -1.0406466100730818 L 0.37815050646596543, -1.0329579829109865 L 0.39968809360552215, -1.024816777687594 L 0.42105056223540144, -1.0162265613736203 L 0.442228552648047, -1.0071910976685674 L 0.46321278596280485, -0.9977143453517028 L 0.4839940681913554, -0.987800456547567 L 0.5045632942659428, -0.9774537749067727 L 0.5249114520286535, -0.9666788337028854 L 0.5450296261799866, -0.9554803538462234 L 0.5649090021849797, -0.94386324181545 L 0.5845408701351934, -0.9318325875078586 L 0.6039166285648547, -0.9193936620092937 L 0.6230277882194807, -0.9065519152846913 L 0.6418659757753458, -0.8933129737902408 L 0.6604229375081514, -0.8796826380082221 L 0.6786905429092979, -0.865666879905592 L 0.6169914026448162, -0.7869698908232654 L 0.6003844886437739, -0.7997114890983836 L 0.5835145234321325, -0.8121027034456734 L 0.566388898381346, -0.8241381048042647 L 0.5490151168771407, -0.8358124200084488 L 0.531400791031994, -0.8471205340980532 L 0.5135536383499816, -0.8580574925594999 L 0.49548147834544237, -0.8686185034965667 L 0.4771922291169577, -0.8787989397298958 L 0.45869390387812975, -0.8885943408243387 L 0.43999460744668667, -0.8980004150432427 L 0.42110253269345893, -0.9070130412288206 L 0.40202595695277, -0.9156282706077885 L 0.38277323839581945, -0.923842328521473 L 0.36335281236865646, -0.9316516160796309 L 0.3437731876963322, -0.9390527117372605 L 0.3240429429548584, -0.9460423727937107 L 0.30417072271261325, -0.95261753681343 L 0.2841652337428251, -0.9587753229677355 L 0.26403524120880295, -0.9645130332970152 L 0.2437895648235909, -0.969828153892804 L 0.22343707498571488, -0.974718355999223 L 0.20298668889272212, -0.9791814970332973 L 0.18244736663422398, -0.9832156215237007 L 0.1618281072661383, -0.9868189619675228 L 0.14113794486785922, -0.9899899396046796 L 0.12038594458408958, -0.992727165109627 L 0.09958119865305382, -0.9950294392000777 L 0.0787328224228454, -0.9968957531624522 L 0.05784995035764368, -0.9983252892938345 L 0.03694173203556398, -0.9993174212602383 L 0.016017328139877888, -0.9998717143710284 L -0.004914093554632123, -0.9999879257693747 L -0.005405502910095335 ,-1.0999867183463121\", \"type\": \"path\"}, {\"fillcolor\": \"#c6decd\", \"layer\": \"below\", \"line\": {\"color\": \"rgb(150,150,150)\", \"width\": 0.45}, \"path\": \"M 0.7055469039026527, -0.8439215404250452 L 0.72355441777568, -0.8285342506603436 L 0.7412264420435567, -0.8127627954178576 L 0.7585547827400817, -0.796614487429238 L 0.7755314052544017, -0.7800968141609944 L 0.7921484380564088, -0.7632174343427908 L 0.8083981763465238, -0.7459841744163308 L 0.8242730856281717, -0.7284050249064822 L 0.8397658052012917, -0.7104881367163186 L 0.8548691515752653, -0.692241817347801 L 0.8695761217996756, -0.6736745270498476 L 0.8838798967113571, -0.654794874895582 L 0.8977738440962308, -0.6356116147905706 L 0.9112515217644518, -0.6161336414139151 L 0.9243066805374536, -0.5963699860940641 L 0.9369332671454964, -0.5763298126212681 L 0.9491254270343806, -0.5560224129986172 L 0.9608775070800195, -0.5354572031336278 L 0.9721840582096174, -0.5146437184723811 L 0.983039837928234, -0.49359160957823384 L 0.8936725799347581, -0.4487196450711216 L 0.8838036892814702, -0.4678579258839828 L 0.8735250064363813, -0.48677927557602524 L 0.8628412973039823, -0.5054749209078337 L 0.8517575155868149, -0.5239361932920619 L 0.840278800488594, -0.5421545328127855 L 0.8284104743313198, -0.5601214921944683 L 0.8161580400874825, -0.5778287407187005 L 0.8035271788285064, -0.5952680680868927 L 0.7905237470906141, -0.6124313882271342 L 0.7771537741593321, -0.6293107430434554 L 0.7634234592739015, -0.6458983061057442 L 0.7493391687528833, -0.6621863862786201 L 0.7349074330422943, -0.6781674312875734 L 0.7201349436876443, -0.6938340312207188 L 0.7050285502312742, -0.7091789219645404 L 0.6895952570364379, -0.7241949885720345 L 0.6738422200395969, -0.7388752685616886 L 0.6577767434324363, -0.7532129551457668 L 0.6414062762751388, -0.7672014003864046 L 0.7055469039026527 ,-0.8439215404250452\", \"type\": \"path\"}, {\"fillcolor\": \"#b8d7c5\", \"layer\": \"below\", \"line\": {\"color\": \"rgb(150,150,150)\", \"width\": 0.45}, \"path\": \"M 0.9980588542415828, -0.4624700244015597 L 1.0140594164151353, -0.4262434749996714 L 1.0287455724802532, -0.38946443624839017 L 1.0420982864978885, -0.35218058049552453 L 1.0541002509132917, -0.3144402344238658 L 0.9582729553757197, -0.2858547585671507 L 0.9473620786344441, -0.32016416408684045 L 0.935223247709321, -0.3540585784076274 L 0.9218721967410319, -0.38749406818151944 L 0.9073262311287116, -0.4204272949105088 L 0.9980588542415828 ,-0.4624700244015597\", \"type\": \"path\"}, {\"fillcolor\": \"#aad0bc\", \"layer\": \"below\", \"line\": {\"color\": \"rgb(150,150,150)\", \"width\": 0.45}, \"path\": \"M 1.063456922518957, -0.2811749881239606 L 1.0712860005278417, -0.24969242093636201 L 1.0781832841558274, -0.21799267365430974 L 1.084142774211172, -0.18610331841668992 L 1.089159287186069, -0.15405209228158626 L 0.9901448065327899, -0.14004735661962386 L 0.9855843401919745, -0.16918483492426356 L 0.980166621959843, -0.1981751578675543 L 0.9738963641162196, -0.22699310994214728 L 0.966779020471779, -0.2556136255672369 L 1.063456922518957 ,-0.2811749881239606\", \"type\": \"path\"}, {\"fillcolor\": \"#9cc9b4\", \"layer\": \"below\", \"line\": {\"color\": \"rgb(150,150,150)\", \"width\": 0.45}, \"path\": \"M 1.0934607459818784, -0.11976475690600519 L 1.0955801816360309, -0.09850921584482111 L 1.0972864748789797, -0.07721652703704286 L 1.0985789822689056, -0.055894719938610456 L 1.0994572164023046, -0.03455183498594511 L 0.9995065603657315, -0.031410759078131914 L 0.998708165699005, -0.050813381762373135 L 0.9975331589808906, -0.07019684276094805 L 0.9959819833054826, -0.089553832586201 L 0.9940552236198893, -0.10887705173273197 L 1.0934607459818784 ,-0.11976475690600519\", \"type\": \"path\"}], \"showlegend\": false, \"title\": \"Data Jobs \\u2012 Technologies in Demand and Relationships Between Them\", \"titlefont\": {\"color\": \"#655643\", \"family\": \"Merryweather\", \"size\": 18}, \"width\": 960, \"xaxis\": {\"showgrid\": false, \"showline\": false, \"showticklabels\": false, \"title\": \"\", \"zeroline\": false}, \"yaxis\": {\"showgrid\": false, \"showline\": false, \"showticklabels\": false, \"title\": \"\", \"zeroline\": false}}, {\"showLink\": true, \"linkText\": \"Export to plot.ly\", \"plotlyServerURL\": \"https://plot.ly\"})});</script>"
      ]
     },
     "metadata": {},
     "output_type": "display_data"
    }
   ],
   "source": [
    "fig = go.Figure(data=data, layout=layout)\n",
    "\n",
    "plotly.offline.iplot(fig, filename='data_offers_tech_requirements_chord.html')"
   ]
  },
  {
   "cell_type": "code",
   "execution_count": 31,
   "metadata": {},
   "outputs": [
    {
     "data": {
      "text/plain": [
       "'file:///games/WORKSPACE/jpynb_Job_Market_Trends_Bulgaria/workbooks/data_offers_tech_requirements_chord.html'"
      ]
     },
     "execution_count": 31,
     "metadata": {},
     "output_type": "execute_result"
    }
   ],
   "source": [
    "# Uncomment the line below to export an HTML version of the chart.\n",
    "plotly.offline.plot(fig, filename='data_offers_tech_requirements_chord.html', show_link=False)"
   ]
  },
  {
   "cell_type": "markdown",
   "metadata": {},
   "source": [
    "### Resources:\n",
    "\n",
    "- https://plot.ly/python/filled-chord-diagram/\n",
    "- https://hci.stanford.edu/courses/cs448b/f11/lectures/CS448B-20111117-Text.pdf"
   ]
  },
  {
   "cell_type": "code",
   "execution_count": 32,
   "metadata": {},
   "outputs": [
    {
     "data": {
      "text/html": [
       "<style>\n",
       "@import url('https://fonts.googleapis.com/css?family=Fira+Mono|Fira+Sans|Fira+Sans+Condensed|Fira+Sans+Extra+Condensed');\n",
       "@import url('https://fonts.googleapis.com/css?family=Merriweather|Merriweather+Sans');\n",
       "\n",
       ".nbviewer {\n",
       "    background-color: #E5E1D8;\n",
       "}\n",
       "\n",
       "#notebook {\n",
       "    background-color: #E5E1D8;\n",
       "}\n",
       "\n",
       "#notebook-container {\n",
       "    background-color: #FFFAF0;\n",
       "    max-width: 1100px;\n",
       "    padding: 50px;\n",
       "    border-radius: 4px;\n",
       "    -webkit-box-shadow: 0px 0px 12px 1px rgba(101,86,67,0.75);\n",
       "    -moz-box-shadow: 0px 0px 12px 1px rgba(101,86,67,0.75);\n",
       "    box-shadow: 0px 0px 12px 1px rgba(101,86,67,0.75);\n",
       "}\n",
       "\n",
       "/* Jupyter Notebook Header Styling */\n",
       "body > #header {\n",
       "    background-color:#fafafa;\n",
       "}\n",
       "\n",
       "#header #menubar #menus {\n",
       "    background-color:#fefefe;\n",
       "}\n",
       "\n",
       "/* Headings */\n",
       ".text_cell_render h1 {\n",
       "    color: #655B4F;\n",
       "    font-family: 'Merriweather', serif;\n",
       "    font-weight: 900;\n",
       "    text-align: center;\n",
       "    font-size: 2.5em;\n",
       "    padding: 40px 0 12px 0;\n",
       "    text-shadow: 0 2px #FFFAF0, 0 3px #8c8b8b;\n",
       "}\n",
       "\n",
       ".text_cell_render h2 {\n",
       "    color: #655B4F;\n",
       "    font-family: 'Merriweather', serif;\n",
       "    font-weight: 600;\n",
       "    font-size: 2.2em;\n",
       "    text-indent: 22px;\n",
       "    padding: 40px 0 6px 0;\n",
       "    margin-bottom: 24px;\n",
       "    border-bottom: 1px solid #655B4F;\n",
       "}\n",
       "\n",
       ".text_cell_render h3 {\n",
       "    color: #655B4F;\n",
       "    font-family: 'Merriweather', serif;\n",
       "    font-weight: 300;\n",
       "    padding: 6px 0 0 0;\n",
       "    font-size: 1.6em;\n",
       "}\n",
       "\n",
       ".text_cell_render h4 {\n",
       "    color: #655B4F;\n",
       "    font-family: 'Merriweather', serif;\n",
       "    font-weight: 100;\n",
       "    font-size: 1.2em;\n",
       "}\n",
       "\n",
       "/* Use for subtitles and other non-headings */\n",
       "div.rendered_html > h5 {\n",
       "    font-family: 'Merriweather', serif;\n",
       "    line-height: 1.5em;\n",
       "    color: #655B4F;\n",
       "    font-weight: 200;\n",
       "    font-style: normal important!;\n",
       "    text-indent: 22px;\n",
       "    text-align: center;\n",
       "    margin-top: 0.5em;\n",
       "    padding: 6px 0 6px 0;\n",
       "    border-bottom: 1px solid #655B4F;\n",
       "    border-top: 1px solid #655B4F;\n",
       "}\n",
       "\n",
       "/* Use for image and chart captions */\n",
       "div.rendered_html > h6 {\n",
       "    font-family: 'Merriweather Sans', sans-serif;\n",
       "    font-size: 0.9em;\n",
       "    line-height: 1.5em;\n",
       "    color: #cac8c9;\n",
       "    font-weight: normal;\n",
       "    max-width: 525px;\n",
       "    display: block;\n",
       "    margin-left: auto;\n",
       "    margin-right: auto;\n",
       "}\n",
       "\n",
       "div#notebook-container p {\n",
       "    font-family: 'Fira Sans Condensed', sans-serif;\n",
       "    font-size: 1.2em;\n",
       "    line-height: 1.3em;\n",
       "    color: #655B4F;\n",
       "}\n",
       "\n",
       "/* Plotly Exported Charts Styling */\n",
       ".js-plotly-plot .plotly,\n",
       ".js-plotly-plot .plotly div {\n",
       "    direction: ltr;\n",
       "    font-family: \"Fira Sans Extra Condensed\", verdana, arial, sans-serif;\n",
       "}\n",
       "\n",
       "/* Lists */\n",
       "ol, ul {\n",
       "    font-family: 'Fira Sans Condensed', sans-serif;\n",
       "    line-height: 1.3em;\n",
       "    color: #655B4F;\n",
       "}\n",
       "\n",
       "div.input_prompt {\n",
       "    color: #aad0bc;\n",
       "    font-size: 0.7em;\n",
       "}\n",
       "\n",
       "div.output_prompt {\n",
       "    color: #aad0bc;\n",
       "    font-size: 0.7em;\n",
       "}\n",
       "\n",
       "div.prompt {\n",
       "    min-width: 2ex;\n",
       "}\n",
       "\n",
       "div.output_subarea {\n",
       "    min-width: 425px;\n",
       "    max-width: calc(100% - 1ex);\n",
       "    padding: 0;\n",
       "}\n",
       "\n",
       "div.text_cell code {\n",
       "    padding: 2px;\n",
       "    background-color: #E5E1D8;\n",
       "    color: #483F3A;\n",
       "    font-family: 'Fira Mono', monospace;\n",
       "    font-size: 0.9em;\n",
       "}\n",
       "\n",
       "div.input_area {\n",
       "    background-color: #FFFAF0;\n",
       "    border: 1px solid #E5E1D8;\n",
       "    background: repeating-linear-gradient(135deg, #FFFAF0, #FFFAF0 5px, #F7F7ED 5px, #F7F7ED 10px);\n",
       "}\n",
       "\n",
       "div.cell.rendered.selected {\n",
       "    background: #F7F7ED;\n",
       "    border: 1px solid #293C34;\n",
       "}\n",
       "\n",
       "div.output_area img {\n",
       "    display: block;\n",
       "    margin-left: auto;\n",
       "    margin-right: auto;\n",
       "}\n",
       "\n",
       "div.rendered_html pre, code {\n",
       "    font-family: 'Fira Sans Condensed', sans-serif;\n",
       "    font-size: 16px;\n",
       "    font-weight: 400;\n",
       "    color: #40362F;\n",
       "    background-color: #E5E1D8;\n",
       "}\n",
       "\n",
       "div.output_text pre {\n",
       "    font-family: 'Fira Sans Condensed', sans-serif;\n",
       "    font-size: 13px;\n",
       "    font-weight: 300;\n",
       "    color: #40362F;\n",
       "}\n",
       "\n",
       "\n",
       "pre, textarea {\n",
       "    overflow: hidden;\n",
       "}\n",
       "\n",
       "div.text_cell_render img {\n",
       "    max-height: 550px;\n",
       "    display: block;\n",
       "    margin-left: auto;\n",
       "    margin-right: auto;\n",
       "}\n",
       "\n",
       "div.output output_scroll {\n",
       "    overflow-x: auto;\n",
       "    overflow-y: scroll;\n",
       "    max-height: 2000px;\n",
       "}\n",
       "\n",
       "div.rendered_html hr {\n",
       "    border: 0;\n",
       "    height: 1px;\n",
       "    background-color: #655B4F;\n",
       "}\n",
       "\n",
       "div.rendered_html pre, code {\n",
       "    color: #40362F;\n",
       "    background-color: #FFFAF0;\n",
       "}\n",
       "\n",
       "/* Links */\n",
       "a.link--embedview {\n",
       "    display: none;\n",
       "}\n",
       "\n",
       "a:link {\n",
       "    color: #293C34;\n",
       "}\n",
       "\n",
       "a:visited {\n",
       "    color: #293C34;\n",
       "}\n",
       "\n",
       "a:hover {\n",
       "    color: #557C6C;\n",
       "}\n",
       "\n",
       "a:focus {\n",
       "    color:#557C6C;\n",
       "}\n",
       "\n",
       "a:active {\n",
       "    font-weight: bold;\n",
       "    color:#80BCA3;\n",
       "}\n",
       "\n",
       ".rendered_html :link {\n",
       "    text-decoration: underline;\n",
       "}\n",
       "\n",
       "/* Colors for code highlighting */\n",
       ".CodeMirror pre {\n",
       "    font-family: 'Fira Mono', monospace;\n",
       "    font-size: 0.9em;\n",
       "    font-weight: 600;\n",
       "    letter-spacing: -2px;\n",
       "}\n",
       "\n",
       ".CodeMirror-code span.cm-keyword,\n",
       ".highlight .k,\n",
       ".highlight .ow {\n",
       "    color: #5F362E;\n",
       "}\n",
       "\n",
       ".CodeMirror-code span.cm-variable,\n",
       ".highlight .na {\n",
       "    color: #655B4F;\n",
       "}\n",
       "\n",
       ".CodeMirror-code span.cm-property {\n",
       "    color: #655B4F;\n",
       "}\n",
       "\n",
       ".CodeMirror-code span.cm-def {\n",
       "    color: #293C34;\n",
       "}\n",
       "\n",
       ".CodeMirror-code span.cm-operator {\n",
       "    color: #655B4F;\n",
       "}\n",
       "\n",
       ".CodeMirror-code span.cm-string,\n",
       ".highlight .s {\n",
       "    color: #0B7761;\n",
       "}\n",
       "\n",
       ".CodeMirror-code span.cm-number,\n",
       ".highlight .mb, .highlight .mf, .highlight .mh, .highlight .mi, .highlight .mo {\n",
       "    color: #265BCA;\n",
       "}\n",
       "\n",
       ".CodeMirror-code span.cm-comment,\n",
       ".highlight .c1, .highlight .cs {\n",
       "    color: #75AC95;\n",
       "}\n",
       "\n",
       ".CodeMirror-code span.cm-builtin,\n",
       ".highlight .nb {\n",
       "    color: #5F362E;\n",
       "}\n",
       "\n",
       "/* Code with no class applied (brackets mostly) */\n",
       ".CodeMirror-line > span {\n",
       "    color: #72614B;\n",
       "}\n",
       "\n",
       "/* Table styles */\n",
       "table {\n",
       "    border: 1px solid #BF4D28;\n",
       "}\n",
       "\n",
       "\n",
       ".rendered_html table th {\n",
       "    color: #40362F;\n",
       "    text-align: left;\n",
       "    background-color: #f2e6ce;\n",
       "}\n",
       "\n",
       ".rendered_html td {\n",
       "    color: #40362F;\n",
       "    text-align: left;\n",
       "}\n",
       "\n",
       ".rendered_html table tr:nth-child(odd) {\n",
       "    background-color: #F7F7ED;\n",
       "}\n",
       "\n",
       ".rendered_html table tr:nth-child(even) {\n",
       "    background-color: #FFFAF0;\n",
       "}\n",
       "\n",
       "iframe {\n",
       "    border-width: 0;\n",
       "}\n",
       "\n",
       "@media only screen and (max-width: 600px) {\n",
       "    #notebook-container {\n",
       "        background-color: #FFFAF0;\n",
       "        padding: 15px;\n",
       "        border-radius: 4px;\n",
       "        -webkit-box-shadow: 0px 0px 12px 1px rgba(101,86,67,0.75);\n",
       "        -moz-box-shadow: 0px 0px 12px 1px rgba(101,86,67,0.75);\n",
       "        box-shadow: 0px 0px 12px 1px rgba(101,86,67,0.75);\n",
       "    }\n",
       "\n",
       "    .text_cell_render h1,\n",
       "    .text_cell_render h2 {\n",
       "        text-indent: 0;\n",
       "        text-align: left;\n",
       "        padding: 40px 22px 12px 22px;\n",
       "    }\n",
       "}\n",
       "\n",
       "</style>\n"
      ],
      "text/plain": [
       "<IPython.core.display.HTML object>"
      ]
     },
     "execution_count": 32,
     "metadata": {},
     "output_type": "execute_result"
    }
   ],
   "source": [
    "from IPython.core.display import HTML\n",
    "with open('../resources/styles/datum.css', 'r') as f:\n",
    "    style = f.read()\n",
    "HTML(style)"
   ]
  },
  {
   "cell_type": "code",
   "execution_count": null,
   "metadata": {},
   "outputs": [],
   "source": []
  }
 ],
 "metadata": {
  "kernelspec": {
   "display_name": "Python 3",
   "language": "python",
   "name": "python3"
  },
  "language_info": {
   "codemirror_mode": {
    "name": "ipython",
    "version": 3
   },
   "file_extension": ".py",
   "mimetype": "text/x-python",
   "name": "python",
   "nbconvert_exporter": "python",
   "pygments_lexer": "ipython3",
   "version": "3.7.3"
  }
 },
 "nbformat": 4,
 "nbformat_minor": 2
}
